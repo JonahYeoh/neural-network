{
 "cells": [
  {
   "cell_type": "code",
   "execution_count": null,
   "metadata": {},
   "outputs": [],
   "source": []
  },
  {
   "cell_type": "code",
   "execution_count": 1,
   "metadata": {},
   "outputs": [],
   "source": [
    "# dependency\n",
    "import numpy as np\n",
    "import pandas as pd\n",
    "import copy\n",
    "import math\n",
    "import sys\n",
    "import os\n",
    "from activations import relu, leaky_relu, sigmoid, tanh, softmax, d_sigmoid, d_relu\n",
    "from initializers import glorot_uniform, random_normal, random_uniform\n",
    "from regularizers import l1_regularizer, l2_regularizer\n",
    "from utility import trim_tail, multiply, subtract, get_nparams, one_hot_encoding, get_data\n",
    "from metrics import MSE, CCE, ACC, PRECISION, RECALL, essential_metrics, wondering_penalty, close_gap_penalty\n",
    "from pso import PSO\n",
    "from ga import GA\n",
    "from nn import Network\n",
    "from layer import DenseLayer\n",
    "from scalers import MinMaxScaler, StandardScaler"
   ]
  },
  {
   "cell_type": "code",
   "execution_count": 2,
   "metadata": {},
   "outputs": [],
   "source": [
    "# reference\n",
    "metrics_fn_dict = dict()\n",
    "metrics_fn_dict['accuracy'] = ACC\n",
    "metrics_fn_dict['categorical_crossentropy'] = CCE\n",
    "metrics_fn_dict['mean_square_error'] = MSE\n",
    "metrics_fn_dict['precision'] = PRECISION\n",
    "metrics_fn_dict['recall'] = RECALL\n",
    "metrics_fn_dict['essential_metrics'] = essential_metrics"
   ]
  },
  {
   "cell_type": "code",
   "execution_count": 3,
   "metadata": {},
   "outputs": [],
   "source": [
    "# model\n",
    "model = Network(5, lr = None)\n",
    "model.add_layer(DenseLayer(1, 4, True, afn=sigmoid, dafn=None, rfn=None))\n",
    "model.add_layer(DenseLayer(2, 3, True, afn=softmax, dafn=None, rfn=None))"
   ]
  },
  {
   "cell_type": "code",
   "execution_count": 4,
   "metadata": {},
   "outputs": [],
   "source": [
    "# optimizer\n",
    "ga = GA(\n",
    "    dict(\n",
    "        m = 50,\n",
    "        x_rate = [0.5, 1.0],\n",
    "        m_rate = [0.6, 1.0],\n",
    "        weight_constraint = [-3.,3.],\n",
    "        radioactive_rating = [0.5, 1.0],\n",
    "        grow_factor = [0.5, 1.0],\n",
    "        scale_hyperparameter = False))"
   ]
  },
  {
   "cell_type": "code",
   "execution_count": 5,
   "metadata": {},
   "outputs": [
    {
     "name": "stdout",
     "output_type": "stream",
     "text": [
      "building layer 1 with 5\n",
      "24\n",
      "building layer 2 with 4\n",
      "15\n"
     ]
    }
   ],
   "source": [
    "model.compile(loss_fn = 'categorical_crossentropy', optimizer = ga, \\\n",
    "    metrics = ['accuracy', 'mean_square_error', 'categorical_crossentropy', 'precision', 'recall', 'f1'])"
   ]
  },
  {
   "cell_type": "code",
   "execution_count": 6,
   "metadata": {},
   "outputs": [
    {
     "name": "stdout",
     "output_type": "stream",
     "text": [
      "<class 'pandas.core.frame.DataFrame'>\n",
      "RangeIndex: 107 entries, 0 to 106\n",
      "Data columns (total 6 columns):\n",
      " #   Column  Non-Null Count  Dtype  \n",
      "---  ------  --------------  -----  \n",
      " 0   f1      107 non-null    float32\n",
      " 1   f2      107 non-null    float32\n",
      " 2   f3      107 non-null    float32\n",
      " 3   f4      107 non-null    float32\n",
      " 4   f5      107 non-null    float32\n",
      " 5   label   107 non-null    float32\n",
      "dtypes: float32(6)\n",
      "memory usage: 2.6 KB\n",
      "None\n",
      "<class 'pandas.core.frame.DataFrame'>\n",
      "RangeIndex: 108 entries, 0 to 107\n",
      "Data columns (total 6 columns):\n",
      " #   Column  Non-Null Count  Dtype  \n",
      "---  ------  --------------  -----  \n",
      " 0   f1      108 non-null    float32\n",
      " 1   f2      108 non-null    float32\n",
      " 2   f3      108 non-null    float32\n",
      " 3   f4      108 non-null    float32\n",
      " 4   f5      108 non-null    float32\n",
      " 5   label   108 non-null    float32\n",
      "dtypes: float32(6)\n",
      "memory usage: 2.7 KB\n",
      "None\n"
     ]
    }
   ],
   "source": [
    "# data loading\n",
    "DATA = os.path.join('c:\\\\Users\\\\tcumi\\\\github_repo\\\\neural-network\\\\', 'dataset')\n",
    "GROUP = 1\n",
    "COLUMNS = ['f1', 'f2', 'f3', 'f4', 'f5', 'label']\n",
    "N_CLASS = 3\n",
    "EPOCHS = 500\n",
    "train_dir, test_dir = \"..//dataset//training_data{}.txt\".format(GROUP), \"..//dataset//testing_data{}.txt\".format(GROUP)\n",
    "train, test = get_data(DATA, train_dir, COLUMNS), get_data(DATA, test_dir, COLUMNS)\n",
    "# shuffle\n",
    "train, test = train.sample(frac=1), test.sample(frac=1)\n",
    "x_train, y_train = train.drop('label', axis=1), train['label']\n",
    "x_test, y_test = test.drop('label', axis=1), test['label']"
   ]
  },
  {
   "cell_type": "code",
   "execution_count": 7,
   "metadata": {},
   "outputs": [],
   "source": [
    "# data scaling and encoding\n",
    "scaler = StandardScaler(['f1', 'f2', 'f3', 'f4', 'f5'])\n",
    "scaler.fit(x_train)\n",
    "x_train = scaler.transform(x_train)\n",
    "x_test = scaler.transform(x_test)\n",
    "y_train = one_hot_encoding(y_train, N_CLASS)\n",
    "y_test = one_hot_encoding(y_test, N_CLASS)"
   ]
  },
  {
   "cell_type": "code",
   "execution_count": 8,
   "metadata": {
    "scrolled": true,
    "tags": [
     "outputPrepend"
    ]
   },
   "outputs": [
    {
     "name": "stderr",
     "output_type": "stream",
     "text": [
      "C:\\Users\\tcumi\\github_repo\\neural-network\\python\\ga.py:189: RuntimeWarning: overflow encountered in add\n",
      "  self.population.sort(key=lambda p: p.fitness + np.random.uniform(-shift, shift, 1), reverse = self.aim)\n"
     ]
    },
    {
     "name": "stdout",
     "output_type": "stream",
     "text": [
      "Checkpoint 100, Accuracy: 0.8580246913580247, Loss: 0.5762798521253798\n"
     ]
    },
    {
     "name": "stderr",
     "output_type": "stream",
     "text": [
      "C:\\Users\\tcumi\\github_repo\\neural-network\\python\\activations.py:14: RuntimeWarning: overflow encountered in exp\n",
      "  y = 1 / (1 + np.exp(-Xi))\n"
     ]
    },
    {
     "name": "stdout",
     "output_type": "stream",
     "text": [
      "Checkpoint 200, Accuracy: 0.8580246913580247, Loss: 0.5770482663755063\n",
      "Checkpoint 300, Accuracy: 0.8580246913580247, Loss: 0.5808905848750362\n",
      "Checkpoint 400, Accuracy: 0.8580246913580247, Loss: 0.578277729175709\n",
      "Checkpoint 500, Accuracy: 0.8580246913580247, Loss: 0.5812256777728045\n"
     ]
    }
   ],
   "source": [
    "# learning phase\n",
    "breakpoint = 100\n",
    "checkpoints = list()\n",
    "history = list()\n",
    "for century in range(0, EPOCHS, breakpoint):\n",
    "    sub_history = model.fit(x_train, y_train, breakpoint, verbose = 0)\n",
    "    score = model.evaluate(x_test, y_test, False, verbose = 0)\n",
    "    print('Checkpoint {}, Accuracy: {}, Loss: {}'.format(century+breakpoint, score['accuracy'], score[model.loss_fn]))\n",
    "    score['checkpoint'] = century + breakpoint\n",
    "    checkpoints.append(score)\n",
    "    history.extend(sub_history)\n",
    "    itr = century + breakpoint\n",
    "    model.optimizer.rr = model.optimizer.rr * 0.9\n",
    "    model.optimizer.gf = model.optimizer.gf * 0.9\n",
    "    model.optimizer.crossover_rate = model.optimizer.crossover_rate * 0.9\n",
    "    model.optimizer.mutation_rate = model.optimizer.mutation_rate * 1.1\n",
    "    '''\n",
    "    model.rr = model.radioactive_rating[1] - (model.radioactive_rating[1] - model.radioactive_rating[0]) / EPOCHS * (EPOCHS - itr)\n",
    "    model.gf = model.grow_factor[1] - (model.grow_factor[1] - model.grow_factor[0]) / EPOCHS * (EPOCHS - itr)\n",
    "    model.crossover_rate = model.x_rate[1] - (model.x_rate[1] - model.x_rate[0]) / EPOCHS * (EPOCHS - itr)\n",
    "    model.mutation_rate = model.m_rate[0] + (model.m_rate[1] - model.m_rate[0]) / EPOCHS * (EPOCHS - itr)\n",
    "    '''\n",
    "    "
   ]
  },
  {
   "cell_type": "code",
   "execution_count": 9,
   "metadata": {},
   "outputs": [],
   "source": [
    "import matplotlib.pyplot as plt\n",
    "\n",
    "def draw_plot(x, y_list, x_label=None, y_label=None, legend=None):\n",
    "    fig, ax = plt.subplots(figsize=(12,5))\n",
    "    for y in y_list:\n",
    "        ax.plot(x, y)\n",
    "    if x_label is not None and y_label is not None:\n",
    "        title = '{} VS {}'.format(x_label, y_label)\n",
    "        ax.set(xlabel=x_label, ylabel=y_label, title=title)\n",
    "    if legend is not None:\n",
    "        ax.legend(legend)\n",
    "    ax.grid()\n",
    "    plt.show()"
   ]
  },
  {
   "cell_type": "code",
   "execution_count": 10,
   "metadata": {},
   "outputs": [
    {
     "data": {
      "image/png": "[encoded data removed]",
      "text/plain": [
       "<Figure size 864x360 with 1 Axes>"
      ]
     },
     "metadata": {
      "needs_background": "light"
     },
     "output_type": "display_data"
    }
   ],
   "source": [
    "draw_plot(x = [i for i in range(len(history))], y_list = [history], x_label = 'Epochs', \\\n",
    "    y_label = model.loss_fn)"
   ]
  },
  {
   "cell_type": "code",
   "execution_count": 11,
   "metadata": {},
   "outputs": [
    {
     "name": "stdout",
     "output_type": "stream",
     "text": [
      "[1. 0. 0.] <-> [[0.9017493 ]\n",
      " [0.06910336]\n",
      " [0.02914734]]\n",
      "[0. 0. 1.] <-> [[0.20937665]\n",
      " [0.46328193]\n",
      " [0.32734144]]\n",
      "[1. 0. 0.] <-> [[0.4615558 ]\n",
      " [0.23063868]\n",
      " [0.30780545]]\n",
      "[0. 1. 0.] <-> [[0.05685786]\n",
      " [0.4143229 ]\n",
      " [0.5288192 ]]\n",
      "[1. 0. 0.] <-> [[0.89624923]\n",
      " [0.07250877]\n",
      " [0.031242  ]]\n",
      "[1. 0. 0.] <-> [[0.89450395]\n",
      " [0.07365462]\n",
      " [0.03184139]]\n",
      "[0. 1. 0.] <-> [[0.03160315]\n",
      " [0.37023807]\n",
      " [0.59815884]]\n",
      "[0. 0. 1.] <-> [[0.8970447 ]\n",
      " [0.0719987 ]\n",
      " [0.03095656]]\n",
      "[1. 0. 0.] <-> [[0.718622  ]\n",
      " [0.21542697]\n",
      " [0.065951  ]]\n",
      "[0. 1. 0.] <-> [[0.4936336 ]\n",
      " [0.32341728]\n",
      " [0.18294917]]\n",
      "[0. 0. 1.] <-> [[0.02015411]\n",
      " [0.3352491 ]\n",
      " [0.6445968 ]]\n",
      "[1. 0. 0.] <-> [[0.4756222 ]\n",
      " [0.23733616]\n",
      " [0.2870416 ]]\n",
      "[0. 1. 0.] <-> [[0.49364597]\n",
      " [0.33403477]\n",
      " [0.17231928]]\n",
      "[1. 0. 0.] <-> [[0.8978299 ]\n",
      " [0.07150266]\n",
      " [0.03066746]]\n",
      "[1. 0. 0.] <-> [[0.8927308 ]\n",
      " [0.0748539 ]\n",
      " [0.03241539]]\n",
      "[0. 0. 1.] <-> [[0.31171575]\n",
      " [0.43939602]\n",
      " [0.24888824]]\n",
      "[1. 0. 0.] <-> [[0.89875597]\n",
      " [0.07092617]\n",
      " [0.0303179 ]]\n",
      "[1. 0. 0.] <-> [[0.8924624 ]\n",
      " [0.07503814]\n",
      " [0.03249952]]\n",
      "[1. 0. 0.] <-> [[0.90065044]\n",
      " [0.06976814]\n",
      " [0.02958134]]\n",
      "[1. 0. 0.] <-> [[0.8949118 ]\n",
      " [0.07338363]\n",
      " [0.03170456]]\n",
      "[0. 1. 0.] <-> [[0.03703256]\n",
      " [0.38248694]\n",
      " [0.58048046]]\n",
      "[1. 0. 0.] <-> [[0.90237695]\n",
      " [0.06872414]\n",
      " [0.02889897]]\n",
      "[1. 0. 0.] <-> [[0.8998677 ]\n",
      " [0.07024406]\n",
      " [0.02988834]]\n",
      "[1. 0. 0.] <-> [[0.9020574 ]\n",
      " [0.06891719]\n",
      " [0.02902539]]\n",
      "[1. 0. 0.] <-> [[0.89107174]\n",
      " [0.07600296]\n",
      " [0.03292526]]\n",
      "[1. 0. 0.] <-> [[0.77900076]\n",
      " [0.16511774]\n",
      " [0.05588159]]\n",
      "[1. 0. 0.] <-> [[0.47587135]\n",
      " [0.2944855 ]\n",
      " [0.22964317]]\n",
      "[0. 1. 0.] <-> [[0.15448417]\n",
      " [0.46402988]\n",
      " [0.38148597]]\n",
      "[1. 0. 0.] <-> [[0.6958873 ]\n",
      " [0.23428239]\n",
      " [0.06983029]]\n",
      "[0. 1. 0.] <-> [[0.04926326]\n",
      " [0.40398195]\n",
      " [0.5467548 ]]\n",
      "[0. 0. 1.] <-> [[0.03626364]\n",
      " [0.38087437]\n",
      " [0.58286196]]\n",
      "[1. 0. 0.] <-> [[0.8836316 ]\n",
      " [0.0813733 ]\n",
      " [0.03499505]]\n",
      "[0. 0. 1.] <-> [[0.8426402 ]\n",
      " [0.11318414]\n",
      " [0.04417568]]\n",
      "[1. 0. 0.] <-> [[0.89951336]\n",
      " [0.07046048]\n",
      " [0.0300262 ]]\n",
      "[0. 1. 0.] <-> [[0.47112814]\n",
      " [0.23471726]\n",
      " [0.29415458]]\n",
      "[1. 0. 0.] <-> [[0.90106684]\n",
      " [0.06951606]\n",
      " [0.02941719]]\n",
      "[1. 0. 0.] <-> [[0.88691264]\n",
      " [0.0789702 ]\n",
      " [0.03411711]]\n",
      "[1. 0. 0.] <-> [[0.47853175]\n",
      " [0.35590106]\n",
      " [0.16556722]]\n",
      "[1. 0. 0.] <-> [[0.48768356]\n",
      " [0.31017557]\n",
      " [0.20214082]]\n",
      "[0. 1. 0.] <-> [[0.60049444]\n",
      " [0.3058326 ]\n",
      " [0.09367301]]\n",
      "[1. 0. 0.] <-> [[0.61179906]\n",
      " [0.29888594]\n",
      " [0.08931501]]\n",
      "[1. 0. 0.] <-> [[0.48592153]\n",
      " [0.3075152 ]\n",
      " [0.20656331]]\n",
      "[0. 1. 0.] <-> [[0.8240428 ]\n",
      " [0.12814826]\n",
      " [0.04780903]]\n",
      "[1. 0. 0.] <-> [[0.4864225 ]\n",
      " [0.24516414]\n",
      " [0.26841342]]\n",
      "[1. 0. 0.] <-> [[0.45969197]\n",
      " [0.2744641 ]\n",
      " [0.26584393]]\n",
      "[1. 0. 0.] <-> [[0.7281512 ]\n",
      " [0.20748414]\n",
      " [0.06436471]]\n",
      "[1. 0. 0.] <-> [[0.90132785]\n",
      " [0.06935812]\n",
      " [0.02931405]]\n",
      "[1. 0. 0.] <-> [[0.8880859 ]\n",
      " [0.07812287]\n",
      " [0.03379133]]\n",
      "[1. 0. 0.] <-> [[0.39514145]\n",
      " [0.4058252 ]\n",
      " [0.19903336]]\n",
      "[1. 0. 0.] <-> [[0.8796807 ]\n",
      " [0.08431728]\n",
      " [0.036002  ]]\n",
      "[1. 0. 0.] <-> [[0.49196303]\n",
      " [0.33895597]\n",
      " [0.16908106]]\n",
      "[1. 0. 0.] <-> [[0.8947793 ]\n",
      " [0.07347143]\n",
      " [0.03174921]]\n",
      "[1. 0. 0.] <-> [[0.8920942 ]\n",
      " [0.07529193]\n",
      " [0.03261384]]\n",
      "[0. 1. 0.] <-> [[0.41888794]\n",
      " [0.39410213]\n",
      " [0.18700987]]\n",
      "[1. 0. 0.] <-> [[0.23951119]\n",
      " [0.4586993 ]\n",
      " [0.30178958]]\n",
      "[1. 0. 0.] <-> [[0.44750565]\n",
      " [0.2310606 ]\n",
      " [0.32143375]]\n",
      "[1. 0. 0.] <-> [[0.89978004]\n",
      " [0.07029743]\n",
      " [0.02992246]]\n",
      "[1. 0. 0.] <-> [[0.7032634 ]\n",
      " [0.22818553]\n",
      " [0.06855106]]\n",
      "[0. 1. 0.] <-> [[0.6701531 ]\n",
      " [0.25528264]\n",
      " [0.07456421]]\n",
      "[1. 0. 0.] <-> [[0.8923862 ]\n",
      " [0.07509052]\n",
      " [0.03252326]]\n",
      "[1. 0. 0.] <-> [[0.8572963]\n",
      " [0.1015728]\n",
      " [0.0411309]]\n",
      "[0. 0. 1.] <-> [[0.02061223]\n",
      " [0.33698842]\n",
      " [0.6423994 ]]\n",
      "[1. 0. 0.] <-> [[0.9007262 ]\n",
      " [0.06972227]\n",
      " [0.02955151]]\n",
      "[1. 0. 0.] <-> [[0.90111697]\n",
      " [0.06948563]\n",
      " [0.02939736]]\n",
      "[1. 0. 0.] <-> [[0.45897725]\n",
      " [0.27350762]\n",
      " [0.2675151 ]]\n",
      "[1. 0. 0.] <-> [[0.53121495]\n",
      " [0.29605827]\n",
      " [0.17272674]]\n",
      "[1. 0. 0.] <-> [[0.89692754]\n",
      " [0.07207336]\n",
      " [0.03099908]]\n",
      "[0. 0. 1.] <-> [[0.90263194]\n",
      " [0.06857003]\n",
      " [0.02879809]]\n",
      "[1. 0. 0.] <-> [[0.8910692 ]\n",
      " [0.0760048 ]\n",
      " [0.03292606]]\n",
      "[1. 0. 0.] <-> [[0.8385587 ]\n",
      " [0.11644852]\n",
      " [0.04499283]]\n",
      "[1. 0. 0.] <-> [[0.8986543 ]\n",
      " [0.07098904]\n",
      " [0.03035667]]\n",
      "[1. 0. 0.] <-> [[0.8680945 ]\n",
      " [0.09315576]\n",
      " [0.03874977]]\n",
      "[0. 0. 1.] <-> [[0.04141735]\n",
      " [0.39102533]\n",
      " [0.5675573 ]]\n",
      "[0. 0. 1.] <-> [[0.04824267]\n",
      " [0.402441  ]\n",
      " [0.54931635]]\n",
      "[0. 0. 1.] <-> [[0.03041994]\n",
      " [0.36727303]\n",
      " [0.602307  ]]\n",
      "[1. 0. 0.] <-> [[0.44330776]\n",
      " [0.23950674]\n",
      " [0.31718552]]\n",
      "[1. 0. 0.] <-> [[0.6002065 ]\n",
      " [0.3059978 ]\n",
      " [0.09379571]]\n",
      "[1. 0. 0.] <-> [[0.85328245]\n",
      " [0.10473381]\n",
      " [0.04198366]]\n",
      "[1. 0. 0.] <-> [[0.5618514 ]\n",
      " [0.3180197 ]\n",
      " [0.12012894]]\n",
      "[1. 0. 0.] <-> [[0.8319082 ]\n",
      " [0.12179227]\n",
      " [0.04629955]]\n",
      "[0. 1. 0.] <-> [[0.44745582]\n",
      " [0.2550951 ]\n",
      " [0.2974491 ]]\n",
      "[1. 0. 0.] <-> [[0.88272554]\n",
      " [0.0820442 ]\n",
      " [0.03523026]]\n",
      "[1. 0. 0.] <-> [[0.9020548 ]\n",
      " [0.06891879]\n",
      " [0.02902645]]\n",
      "[1. 0. 0.] <-> [[0.88181245]\n",
      " [0.08272296]\n",
      " [0.03546454]]\n",
      "[1. 0. 0.] <-> [[0.90291375]\n",
      " [0.06839964]\n",
      " [0.02868667]]\n",
      "[0. 0. 1.] <-> [[0.44954693]\n",
      " [0.37687874]\n",
      " [0.17357424]]\n",
      "[0. 0. 1.] <-> [[0.02011676]\n",
      " [0.33510572]\n",
      " [0.6447776 ]]\n",
      "[1. 0. 0.] <-> [[0.49655297]\n",
      " [0.2543183 ]\n",
      " [0.24912879]]\n",
      "[1. 0. 0.] <-> [[0.44992816]\n",
      " [0.25982848]\n",
      " [0.29024333]]\n",
      "[1. 0. 0.] <-> [[0.7453875 ]\n",
      " [0.19309868]\n",
      " [0.06151384]]\n",
      "[1. 0. 0.] <-> [[0.86958855]\n",
      " [0.0920029 ]\n",
      " [0.03840854]]\n",
      "[0. 1. 0.] <-> [[0.9006507 ]\n",
      " [0.06976808]\n",
      " [0.02958129]]\n",
      "[1. 0. 0.] <-> [[0.89688927]\n",
      " [0.07209784]\n",
      " [0.03101297]]\n",
      "[1. 0. 0.] <-> [[0.8435395 ]\n",
      " [0.11246648]\n",
      " [0.04399397]]\n",
      "[1. 0. 0.] <-> [[0.90112144]\n",
      " [0.06948293]\n",
      " [0.02939559]]\n",
      "[1. 0. 0.] <-> [[0.4755278 ]\n",
      " [0.29406852]\n",
      " [0.23040375]]\n",
      "[1. 0. 0.] <-> [[0.85825133]\n",
      " [0.10082298]\n",
      " [0.04092563]]\n",
      "[1. 0. 0.] <-> [[0.8663026 ]\n",
      " [0.0945426 ]\n",
      " [0.03915485]]\n",
      "[1. 0. 0.] <-> [[0.85401565]\n",
      " [0.10415531]\n",
      " [0.04182905]]\n",
      "[1. 0. 0.] <-> [[0.385559  ]\n",
      " [0.41025558]\n",
      " [0.20418543]]\n",
      "[1. 0. 0.] <-> [[0.41650188]\n",
      " [0.39533305]\n",
      " [0.18816508]]\n",
      "[1. 0. 0.] <-> [[0.8911806 ]\n",
      " [0.07592687]\n",
      " [0.03289253]]\n",
      "[1. 0. 0.] <-> [[0.8974867 ]\n",
      " [0.07171859]\n",
      " [0.0307947 ]]\n",
      "[1. 0. 0.] <-> [[0.8952464 ]\n",
      " [0.07316276]\n",
      " [0.03159085]]\n",
      "[1. 0. 0.] <-> [[0.89695084]\n",
      " [0.07205848]\n",
      " [0.03099063]]\n",
      "[1. 0. 0.] <-> [[0.89992976]\n",
      " [0.07020614]\n",
      " [0.02986405]]\n",
      "[0. 1. 0.] <-> [[0.55786467]\n",
      " [0.31731844]\n",
      " [0.12481681]]\n",
      "[1. 0. 0.] <-> [[0.6946897 ]\n",
      " [0.23526983]\n",
      " [0.07004048]]\n",
      "{'accuracy': 0.8580246913580247, 'mean_square_error': 2.847137875111335, 'categorical_crossentropy': 0.5812256777728045, 'precision': 0.7870370370370371, 'recall': 0.7870370370370371, 'f1': 0.7870370370370371, 'essential_metrics': {0: {'tp_hit': 77, 'fp_hit': 14, 'tn_hit': 14, 'fn_hit': 3}, 1: {'tp_hit': 1, 'fp_hit': 5, 'tn_hit': 88, 'fn_hit': 14}, 2: {'tp_hit': 7, 'fp_hit': 4, 'tn_hit': 91, 'fn_hit': 6}}}\n"
     ]
    },
    {
     "name": "stderr",
     "output_type": "stream",
     "text": [
      "C:\\Users\\tcumi\\github_repo\\neural-network\\python\\activations.py:14: RuntimeWarning: overflow encountered in exp\n",
      "  y = 1 / (1 + np.exp(-Xi))\n"
     ]
    }
   ],
   "source": [
    "# recall phase\n",
    "score = model.evaluate(x_test, y_test, False)\n",
    "print(score)"
   ]
  },
  {
   "cell_type": "code",
   "execution_count": 12,
   "metadata": {},
   "outputs": [],
   "source": [
    "# Testing Performance"
   ]
  },
  {
   "cell_type": "code",
   "execution_count": 13,
   "metadata": {
    "scrolled": true
   },
   "outputs": [
    {
     "name": "stdout",
     "output_type": "stream",
     "text": [
      "{'accuracy': 0.8580246913580247, 'mean_square_error': 2.841844084918637, 'categorical_crossentropy': 0.5762798521253798, 'precision': 0.7870370370370371, 'recall': 0.7870370370370371, 'f1': 0.7870370370370371, 'essential_metrics': {0: {'tp_hit': 76, 'fp_hit': 12, 'tn_hit': 16, 'fn_hit': 4}, 1: {'tp_hit': 2, 'fp_hit': 7, 'tn_hit': 86, 'fn_hit': 13}, 2: {'tp_hit': 7, 'fp_hit': 4, 'tn_hit': 91, 'fn_hit': 6}}, 'checkpoint': 100} \n",
      "\n",
      "\n",
      "{'accuracy': 0.8580246913580247, 'mean_square_error': 2.8684854240878215, 'categorical_crossentropy': 0.5770482663755063, 'precision': 0.7870370370370371, 'recall': 0.7870370370370371, 'f1': 0.7870370370370371, 'essential_metrics': {0: {'tp_hit': 76, 'fp_hit': 12, 'tn_hit': 16, 'fn_hit': 4}, 1: {'tp_hit': 2, 'fp_hit': 7, 'tn_hit': 86, 'fn_hit': 13}, 2: {'tp_hit': 7, 'fp_hit': 4, 'tn_hit': 91, 'fn_hit': 6}}, 'checkpoint': 200} \n",
      "\n",
      "\n",
      "{'accuracy': 0.8580246913580247, 'mean_square_error': 2.863227811626095, 'categorical_crossentropy': 0.5808905848750362, 'precision': 0.7870370370370371, 'recall': 0.7870370370370371, 'f1': 0.7870370370370371, 'essential_metrics': {0: {'tp_hit': 76, 'fp_hit': 12, 'tn_hit': 16, 'fn_hit': 4}, 1: {'tp_hit': 2, 'fp_hit': 7, 'tn_hit': 86, 'fn_hit': 13}, 2: {'tp_hit': 7, 'fp_hit': 4, 'tn_hit': 91, 'fn_hit': 6}}, 'checkpoint': 300} \n",
      "\n",
      "\n",
      "{'accuracy': 0.8580246913580247, 'mean_square_error': 2.863073379044365, 'categorical_crossentropy': 0.578277729175709, 'precision': 0.7870370370370371, 'recall': 0.7870370370370371, 'f1': 0.7870370370370371, 'essential_metrics': {0: {'tp_hit': 76, 'fp_hit': 13, 'tn_hit': 15, 'fn_hit': 4}, 1: {'tp_hit': 2, 'fp_hit': 6, 'tn_hit': 87, 'fn_hit': 13}, 2: {'tp_hit': 7, 'fp_hit': 4, 'tn_hit': 91, 'fn_hit': 6}}, 'checkpoint': 400} \n",
      "\n",
      "\n",
      "{'accuracy': 0.8580246913580247, 'mean_square_error': 2.847137875111335, 'categorical_crossentropy': 0.5812256777728045, 'precision': 0.7870370370370371, 'recall': 0.7870370370370371, 'f1': 0.7870370370370371, 'essential_metrics': {0: {'tp_hit': 77, 'fp_hit': 14, 'tn_hit': 14, 'fn_hit': 3}, 1: {'tp_hit': 1, 'fp_hit': 5, 'tn_hit': 88, 'fn_hit': 14}, 2: {'tp_hit': 7, 'fp_hit': 4, 'tn_hit': 91, 'fn_hit': 6}}, 'checkpoint': 500} \n",
      "\n",
      "\n"
     ]
    }
   ],
   "source": [
    "for checkpoint in checkpoints:\n",
    "    print(checkpoint, '\\n\\n')"
   ]
  },
  {
   "cell_type": "code",
   "execution_count": 14,
   "metadata": {},
   "outputs": [
    {
     "data": {
      "image/png": "[encoded data removed]",
      "text/plain": [
       "<Figure size 864x360 with 1 Axes>"
      ]
     },
     "metadata": {
      "needs_background": "light"
     },
     "output_type": "display_data"
    }
   ],
   "source": [
    "cat_cross = [ ckp[model.loss_fn] for ckp in checkpoints ]\n",
    "draw_plot(x = [(i+1)*breakpoint for i in range(len(checkpoints))], y_list = [cat_cross], x_label = 'Checkpoints', \\\n",
    "    y_label = model.loss_fn)"
   ]
  },
  {
   "cell_type": "code",
   "execution_count": 15,
   "metadata": {},
   "outputs": [
    {
     "data": {
      "image/png": "[encoded data removed]",
      "text/plain": [
       "<Figure size 864x360 with 1 Axes>"
      ]
     },
     "metadata": {
      "needs_background": "light"
     },
     "output_type": "display_data"
    }
   ],
   "source": [
    "acc = [ ckp['accuracy'] for ckp in checkpoints ]\n",
    "draw_plot(x = [(i+1)*breakpoint for i in range(len(checkpoints))], y_list = [acc], x_label = 'Checkpoints', \\\n",
    "    y_label = 'accuracy')"
   ]
  },
  {
   "cell_type": "code",
   "execution_count": 16,
   "metadata": {},
   "outputs": [
    {
     "name": "stdout",
     "output_type": "stream",
     "text": [
      "Layer 1\n",
      "Neuron 0: weights:\n",
      "[[-0.6589495]\n",
      " [-1.7073032]\n",
      " [ 1.8923261]\n",
      " [-0.8918352]\n",
      " [ 2.6543977]]\n",
      " bias: [-2.4465666]\n",
      "\n",
      "Neuron 1: weights:\n",
      "[[0.28226405]\n",
      " [2.9871128 ]\n",
      " [1.4650823 ]\n",
      " [1.0403838 ]\n",
      " [0.3377537 ]]\n",
      " bias: [-3.]\n",
      "\n",
      "Neuron 2: weights:\n",
      "[[ 1.5615028 ]\n",
      " [ 0.41864032]\n",
      " [ 2.4106073 ]\n",
      " [ 1.2045071 ]\n",
      " [-0.2507655 ]]\n",
      " bias: [0.57082224]\n",
      "\n",
      "Neuron 3: weights:\n",
      "[[-3.       ]\n",
      " [-3.       ]\n",
      " [-3.       ]\n",
      " [-2.8378024]\n",
      " [-3.       ]]\n",
      " bias: [1.139205]\n",
      "\n",
      "$\n",
      "Layer 2\n",
      "Neuron 0: weights:\n",
      "[[-3.        ]\n",
      " [ 2.6502914 ]\n",
      " [-2.708102  ]\n",
      " [ 0.28088433]]\n",
      " bias: [1.0299178]\n",
      "\n",
      "Neuron 1: weights:\n",
      "[[1.0095084 ]\n",
      " [2.141744  ]\n",
      " [0.48080415]\n",
      " [1.5694002 ]]\n",
      " bias: [-2.8460062]\n",
      "\n",
      "Neuron 2: weights:\n",
      "[[ 3.        ]\n",
      " [ 0.32531577]\n",
      " [-0.74361974]\n",
      " [-1.0084245 ]]\n",
      " bias: [-1.1406648]\n",
      "\n",
      "$\n",
      "\n"
     ]
    }
   ],
   "source": [
    "print(model)"
   ]
  },
  {
   "cell_type": "code",
   "execution_count": null,
   "metadata": {},
   "outputs": [],
   "source": []
  }
 ],
 "metadata": {
  "kernelspec": {
   "display_name": "Python 3",
   "language": "python",
   "name": "python3"
  },
  "language_info": {
   "codemirror_mode": {
    "name": "ipython",
    "version": 3
   },
   "file_extension": ".py",
   "mimetype": "text/x-python",
   "name": "python",
   "nbconvert_exporter": "python",
   "pygments_lexer": "ipython3",
   "version": "3.6.10"
  }
 },
 "nbformat": 4,
 "nbformat_minor": 2
}
