{
 "cells": [
  {
   "cell_type": "code",
   "execution_count": 1,
   "metadata": {},
   "outputs": [],
   "source": [
    "# dependency\n",
    "import numpy as np\n",
    "import pandas as pd\n",
    "import copy\n",
    "import math\n",
    "import sys\n",
    "import os\n",
    "from activations import relu, leaky_relu, sigmoid, tanh, softmax, d_sigmoid, d_relu\n",
    "from initializers import glorot_uniform, random_normal, random_uniform\n",
    "from regularizers import l1_regularizer, l2_regularizer\n",
    "from utility import trim_tail, multiply, subtract, get_nparams, one_hot_encoding, get_data\n",
    "from metrics import MSE, CCE, ACC, PRECISION, RECALL, essential_metrics, wondering_penalty, close_gap_penalty\n",
    "from pso import PSO\n",
    "from ga import GA\n",
    "from nn import Network\n",
    "from layer import DenseLayer\n",
    "from scalers import MinMaxScaler, StandardScaler"
   ]
  },
  {
   "cell_type": "code",
   "execution_count": 2,
   "metadata": {},
   "outputs": [],
   "source": [
    "# reference\n",
    "metrics_fn_dict = dict()\n",
    "metrics_fn_dict['accuracy'] = ACC\n",
    "metrics_fn_dict['categorical_crossentropy'] = CCE\n",
    "metrics_fn_dict['mean_square_error'] = MSE\n",
    "metrics_fn_dict['precision'] = PRECISION\n",
    "metrics_fn_dict['recall'] = RECALL\n",
    "metrics_fn_dict['essential_metrics'] = essential_metrics"
   ]
  },
  {
   "cell_type": "code",
   "execution_count": 3,
   "metadata": {},
   "outputs": [],
   "source": [
    "# model\n",
    "model = Network(5, lr = None)\n",
    "model.add_layer(DenseLayer(1, 4, True, afn=sigmoid, dafn=None, rfn=None))\n",
    "model.add_layer(DenseLayer(2, 3, True, afn=softmax, dafn=None, rfn=None))"
   ]
  },
  {
   "cell_type": "code",
   "execution_count": 4,
   "metadata": {},
   "outputs": [
    {
     "name": "stdout",
     "output_type": "stream",
     "text": [
      "see one see two 2 2\n"
     ]
    }
   ],
   "source": [
    "pso = PSO(dict(m = 50,\n",
    "    weight_constraint = [-3, 3], \n",
    "    velocity_constraint = [-0.1, 0.1],\n",
    "    c1 = 2,\n",
    "    c2 = 2,\n",
    "    w = 1.2,\n",
    "    w_decay = 1,\n",
    "    scale_hyperparameter = False,\n",
    "    regularizer = l2_regularizer,\n",
    "    mask = True))"
   ]
  },
  {
   "cell_type": "code",
   "execution_count": 5,
   "metadata": {},
   "outputs": [
    {
     "name": "stdout",
     "output_type": "stream",
     "text": [
      "building layer 1 with 5\n",
      "24\n",
      "building layer 2 with 4\n",
      "15\n"
     ]
    }
   ],
   "source": [
    "model.compile(loss_fn = 'categorical_crossentropy', optimizer = pso, \\\n",
    "    metrics = ['accuracy', 'mean_square_error', 'categorical_crossentropy'])"
   ]
  },
  {
   "cell_type": "code",
   "execution_count": 6,
   "metadata": {},
   "outputs": [
    {
     "name": "stdout",
     "output_type": "stream",
     "text": [
      "<class 'pandas.core.frame.DataFrame'>\n",
      "RangeIndex: 107 entries, 0 to 106\n",
      "Data columns (total 6 columns):\n",
      " #   Column  Non-Null Count  Dtype  \n",
      "---  ------  --------------  -----  \n",
      " 0   f1      107 non-null    float32\n",
      " 1   f2      107 non-null    float32\n",
      " 2   f3      107 non-null    float32\n",
      " 3   f4      107 non-null    float32\n",
      " 4   f5      107 non-null    float32\n",
      " 5   label   107 non-null    float32\n",
      "dtypes: float32(6)\n",
      "memory usage: 2.6 KB\n",
      "None\n",
      "<class 'pandas.core.frame.DataFrame'>\n",
      "RangeIndex: 108 entries, 0 to 107\n",
      "Data columns (total 6 columns):\n",
      " #   Column  Non-Null Count  Dtype  \n",
      "---  ------  --------------  -----  \n",
      " 0   f1      108 non-null    float32\n",
      " 1   f2      108 non-null    float32\n",
      " 2   f3      108 non-null    float32\n",
      " 3   f4      108 non-null    float32\n",
      " 4   f5      108 non-null    float32\n",
      " 5   label   108 non-null    float32\n",
      "dtypes: float32(6)\n",
      "memory usage: 2.7 KB\n",
      "None\n"
     ]
    }
   ],
   "source": [
    "# data loading\n",
    "DATA = os.path.join('c:\\\\Users\\\\AI-lab\\\\github_repo\\\\neural-network\\\\', 'dataset')\n",
    "GROUP = 4\n",
    "COLUMNS = ['f1', 'f2', 'f3', 'f4', 'f5', 'label']\n",
    "N_CLASS = 3\n",
    "EPOCHS = 200\n",
    "train_dir, test_dir = \"..//dataset//training_data{}.txt\".format(GROUP), \"..//dataset//testing_data{}.txt\".format(GROUP)\n",
    "train, test = get_data(DATA, train_dir, COLUMNS), get_data(DATA, test_dir, COLUMNS)\n",
    "# shuffle\n",
    "train, test = train.sample(frac=1), test.sample(frac=1)\n",
    "x_train, y_train = train.drop('label', axis=1), train['label']\n",
    "x_test, y_test = test.drop('label', axis=1), test['label']"
   ]
  },
  {
   "cell_type": "code",
   "execution_count": 7,
   "metadata": {},
   "outputs": [],
   "source": [
    "# data scaling and encoding\n",
    "scaler = StandardScaler(['f1', 'f2', 'f3', 'f4', 'f5'])\n",
    "scaler.fit(x_train)\n",
    "x_train = scaler.transform(x_train)\n",
    "x_test = scaler.transform(x_test)\n",
    "y_train = one_hot_encoding(y_train, N_CLASS)\n",
    "y_test = one_hot_encoding(y_test, N_CLASS)"
   ]
  },
  {
   "cell_type": "code",
   "execution_count": 8,
   "metadata": {
    "tags": [
     "outputPrepend"
    ]
   },
   "outputs": [
    {
     "name": "stdout",
     "output_type": "stream",
     "text": [
      "Checkpoint 10, Accuracy: 0.8209876543209876, Loss: 0.6287345886230469\n",
      "Checkpoint 20, Accuracy: 0.845679012345679, Loss: 0.6590424996835215\n",
      "Checkpoint 30, Accuracy: 0.8641975308641975, Loss: 0.6209610126636647\n",
      "Checkpoint 40, Accuracy: 0.8641975308641975, Loss: 0.5940722712764034\n",
      "Checkpoint 50, Accuracy: 0.8518518518518519, Loss: 0.5817162195841471\n",
      "Checkpoint 60, Accuracy: 0.8703703703703703, Loss: 0.5762756135728624\n",
      "Checkpoint 70, Accuracy: 0.8641975308641975, Loss: 0.5632961061265733\n",
      "Checkpoint 80, Accuracy: 0.8827160493827161, Loss: 0.5263150179827655\n",
      "Checkpoint 90, Accuracy: 0.8888888888888888, Loss: 0.45229480884693285\n",
      "Checkpoint 100, Accuracy: 0.8950617283950617, Loss: 0.43089594664397063\n",
      "Checkpoint 110, Accuracy: 0.8950617283950617, Loss: 0.3885616726345486\n",
      "Checkpoint 120, Accuracy: 0.9012345679012346, Loss: 0.41086034421567563\n",
      "Checkpoint 130, Accuracy: 0.8950617283950617, Loss: 0.4101367879796911\n",
      "Checkpoint 140, Accuracy: 0.8950617283950617, Loss: 0.4101367879796911\n",
      "Checkpoint 150, Accuracy: 0.8950617283950617, Loss: 0.4101367879796911\n",
      "Checkpoint 160, Accuracy: 0.9012345679012346, Loss: 0.39136808889883534\n",
      "Checkpoint 170, Accuracy: 0.9012345679012346, Loss: 0.38382728011519823\n",
      "Checkpoint 180, Accuracy: 0.9012345679012346, Loss: 0.38382728011519823\n",
      "Checkpoint 190, Accuracy: 0.9012345679012346, Loss: 0.38382728011519823\n",
      "Checkpoint 200, Accuracy: 0.8950617283950617, Loss: 0.3919384921038592\n"
     ]
    }
   ],
   "source": [
    "# learning phase\n",
    "breakpoint = 10\n",
    "checkpoints = list()\n",
    "history = list()\n",
    "for century in range(0, EPOCHS, breakpoint):\n",
    "    sub_history = model.fit(x_train, y_train, breakpoint, verbose = 0)\n",
    "    score = model.evaluate(x_test, y_test, False, verbose = 0)\n",
    "    print('Checkpoint {}, Accuracy: {}, Loss: {}'.format(century+breakpoint, score['accuracy'], score[model.loss_fn]))\n",
    "    score['checkpoint'] = century + breakpoint\n",
    "    checkpoints.append(score)\n",
    "    history.extend(sub_history)"
   ]
  },
  {
   "cell_type": "code",
   "execution_count": 9,
   "metadata": {},
   "outputs": [],
   "source": [
    "import matplotlib.pyplot as plt\n",
    "\n",
    "def draw_plot(x, y_list, x_label=None, y_label=None, legend=None, title=None):\n",
    "    fig, ax = plt.subplots(figsize=(12,5))\n",
    "    for xi, yi in zip(x, y_list):\n",
    "        ax.plot(xi, yi)\n",
    "    if x_label is not None and y_label is not None:\n",
    "        ax.set(xlabel=x_label, ylabel=y_label, title='{} VS {}'.format(x_label, y_label))\n",
    "    if legend is not None:\n",
    "        ax.legend(legend)\n",
    "    ax.grid()\n",
    "    plt.show()"
   ]
  },
  {
   "cell_type": "code",
   "execution_count": 10,
   "metadata": {},
   "outputs": [
    {
     "name": "stdout",
     "output_type": "stream",
     "text": [
      "[1. 0. 0.] <-> [0.79691374 0.11068802 0.09239826]\n",
      "[1. 0. 0.] <-> [0.82652223 0.07438948 0.09908831]\n",
      "[0. 0. 1.] <-> [0.69836414 0.02080326 0.28083262]\n",
      "[1. 0. 0.] <-> [0.8282776  0.06526563 0.10645677]\n",
      "[1. 0. 0.] <-> [0.8732793  0.07043902 0.05628172]\n",
      "[1. 0. 0.] <-> [0.78720254 0.13177231 0.08102512]\n",
      "[1. 0. 0.] <-> [0.8550002  0.03859883 0.10640101]\n",
      "[0. 0. 1.] <-> [0.88039005 0.02045041 0.09915958]\n",
      "[1. 0. 0.] <-> [0.7538693  0.17517097 0.07095978]\n",
      "[1. 0. 0.] <-> [0.85106146 0.09023005 0.05870848]\n",
      "[0. 0. 1.] <-> [0.31128728 0.03450478 0.654208  ]\n",
      "[0. 0. 1.] <-> [0.48681125 0.03214042 0.48104826]\n",
      "[1. 0. 0.] <-> [0.757753   0.19706185 0.04518509]\n",
      "[1. 0. 0.] <-> [0.85766983 0.05281577 0.08951443]\n",
      "[1. 0. 0.] <-> [0.7359608  0.1927269  0.07131239]\n",
      "[0. 1. 0.] <-> [0.164323   0.8167172  0.01895973]\n",
      "[1. 0. 0.] <-> [0.8693799  0.05850207 0.07211807]\n",
      "[0. 1. 0.] <-> [0.43131715 0.53049105 0.03819182]\n",
      "[1. 0. 0.] <-> [0.82480174 0.10193862 0.07325964]\n",
      "[1. 0. 0.] <-> [0.8548722  0.03636135 0.10876647]\n",
      "[0. 1. 0.] <-> [0.16544808 0.8172571  0.0172948 ]\n",
      "[1. 0. 0.] <-> [0.7997447  0.11318658 0.0870687 ]\n",
      "[1. 0. 0.] <-> [0.8727879  0.03448299 0.09272911]\n",
      "[1. 0. 0.] <-> [0.7210636  0.22488843 0.05404798]\n",
      "[1. 0. 0.] <-> [0.89245707 0.03137494 0.0761681 ]\n",
      "[0. 0. 1.] <-> [0.7333178  0.03637024 0.230312  ]\n",
      "[0. 1. 0.] <-> [0.6315148  0.33436632 0.03411889]\n",
      "[1. 0. 0.] <-> [0.8319044  0.09446742 0.07362809]\n",
      "[1. 0. 0.] <-> [0.72141856 0.22185679 0.05672473]\n",
      "[1. 0. 0.] <-> [0.8584983  0.09085029 0.0506514 ]\n",
      "[1. 0. 0.] <-> [0.624658   0.32583347 0.04950856]\n",
      "[1. 0. 0.] <-> [0.7869934  0.07303099 0.13997562]\n",
      "[1. 0. 0.] <-> [0.87515104 0.02824872 0.09660024]\n",
      "[1. 0. 0.] <-> [0.8635874  0.04905125 0.08736131]\n",
      "[1. 0. 0.] <-> [0.8562149  0.07009005 0.07369509]\n",
      "[1. 0. 0.] <-> [0.8786366  0.05426823 0.06709519]\n",
      "[0. 1. 0.] <-> [0.31533888 0.6605152  0.02414588]\n",
      "[0. 1. 0.] <-> [0.45398015 0.5133294  0.03269047]\n",
      "[1. 0. 0.] <-> [0.81645226 0.07033176 0.11321592]\n",
      "[1. 0. 0.] <-> [0.8287512  0.09304944 0.07819937]\n",
      "[1. 0. 0.] <-> [0.7548498  0.19348513 0.05166516]\n",
      "[1. 0. 0.] <-> [0.8490953  0.10020377 0.05070096]\n",
      "[0. 1. 0.] <-> [0.18458273 0.79829276 0.01712445]\n",
      "[1. 0. 0.] <-> [0.8219468  0.08608092 0.09197232]\n",
      "[0. 1. 0.] <-> [0.15814964 0.82419395 0.01765636]\n",
      "[1. 0. 0.] <-> [0.75067556 0.16166979 0.08765462]\n",
      "[0. 1. 0.] <-> [0.22990382 0.749172   0.02092423]\n",
      "[1. 0. 0.] <-> [0.7683234  0.05437971 0.1772969 ]\n",
      "[1. 0. 0.] <-> [0.8481939  0.03055274 0.12125328]\n",
      "[1. 0. 0.] <-> [0.71840954 0.2291309  0.05245963]\n",
      "[1. 0. 0.] <-> [0.8720963 0.0650839 0.0628198]\n",
      "[1. 0. 0.] <-> [0.843019   0.08744005 0.06954088]\n",
      "[1. 0. 0.] <-> [0.812161   0.06317019 0.12466886]\n",
      "[1. 0. 0.] <-> [0.83121794 0.05350051 0.1152816 ]\n",
      "[0. 0. 1.] <-> [0.7355175  0.04603398 0.21844843]\n",
      "[0. 1. 0.] <-> [0.69190896 0.27252942 0.03556157]\n",
      "[1. 0. 0.] <-> [0.872465   0.04881967 0.07871538]\n",
      "[1. 0. 0.] <-> [0.78380185 0.16354936 0.05264881]\n",
      "[0. 0. 1.] <-> [0.7667953 0.0182225 0.2149822]\n",
      "[1. 0. 0.] <-> [0.85346293 0.07615247 0.07038451]\n",
      "[1. 0. 0.] <-> [0.8952977  0.04258124 0.06212116]\n",
      "[1. 0. 0.] <-> [0.78784114 0.14161554 0.07054327]\n",
      "[0. 0. 1.] <-> [0.62213403 0.04413701 0.33372897]\n",
      "[1. 0. 0.] <-> [0.66153    0.06298259 0.2754874 ]\n",
      "[1. 0. 0.] <-> [0.833493   0.09019414 0.07631286]\n",
      "[1. 0. 0.] <-> [0.66184765 0.21232232 0.12583   ]\n",
      "[1. 0. 0.] <-> [0.84246063 0.09010786 0.06743149]\n",
      "[1. 0. 0.] <-> [0.84531707 0.0603002  0.09438273]\n",
      "[1. 0. 0.] <-> [0.79250866 0.12746403 0.08002736]\n",
      "[1. 0. 0.] <-> [0.8150893  0.11701159 0.06789911]\n",
      "[1. 0. 0.] <-> [0.8753915  0.02782103 0.09678748]\n",
      "[1. 0. 0.] <-> [0.8098234  0.11045554 0.07972104]\n",
      "[1. 0. 0.] <-> [0.87165964 0.05240697 0.07593343]\n",
      "[1. 0. 0.] <-> [0.7831437  0.13968301 0.07717331]\n",
      "[0. 1. 0.] <-> [0.57558084 0.38045067 0.04396846]\n",
      "[0. 1. 0.] <-> [0.1878532  0.79344857 0.01869821]\n",
      "[0. 0. 1.] <-> [0.6365911  0.02084314 0.3425658 ]\n",
      "[1. 0. 0.] <-> [0.8613794  0.07106477 0.06755576]\n",
      "[0. 0. 1.] <-> [0.64553    0.02226893 0.33220112]\n",
      "[0. 1. 0.] <-> [0.60219884 0.36975157 0.02804964]\n",
      "[1. 0. 0.] <-> [0.81873006 0.0868438  0.09442618]\n",
      "[1. 0. 0.] <-> [0.83451456 0.09180503 0.07368039]\n",
      "[1. 0. 0.] <-> [0.891689   0.02961804 0.07869299]\n",
      "[0. 0. 1.] <-> [0.84367514 0.03964358 0.11668123]\n",
      "[1. 0. 0.] <-> [0.7990636  0.06519414 0.13574228]\n",
      "[0. 0. 1.] <-> [0.28333318 0.05449328 0.66217357]\n",
      "[0. 1. 0.] <-> [0.26737064 0.70901066 0.02361867]\n",
      "[0. 0. 1.] <-> [0.26677585 0.03849242 0.6947318 ]\n",
      "[1. 0. 0.] <-> [0.7810581  0.06843117 0.15051073]\n",
      "[1. 0. 0.] <-> [0.8922295  0.03049411 0.07727636]\n",
      "[1. 0. 0.] <-> [0.8699896  0.04366385 0.08634668]\n",
      "[1. 0. 0.] <-> [0.8348814  0.09774441 0.06737419]\n",
      "[1. 0. 0.] <-> [0.8764767  0.05108907 0.07243415]\n",
      "[0. 0. 1.] <-> [0.7162667  0.01951537 0.2642179 ]\n",
      "[1. 0. 0.] <-> [0.7967164  0.1310288  0.07225484]\n",
      "[1. 0. 0.] <-> [0.83348423 0.07314101 0.09337476]\n",
      "[1. 0. 0.] <-> [0.8599207  0.0660545  0.07402478]\n",
      "[1. 0. 0.] <-> [0.8752192  0.0523518  0.07242897]\n",
      "[1. 0. 0.] <-> [0.8341433  0.08287654 0.08298016]\n",
      "[1. 0. 0.] <-> [0.86644053 0.04752535 0.08603404]\n",
      "[0. 1. 0.] <-> [0.57760954 0.3618285  0.06056197]\n",
      "[1. 0. 0.] <-> [0.6981142  0.26076517 0.04112058]\n",
      "[1. 0. 0.] <-> [0.81779504 0.12260134 0.05960363]\n",
      "[0. 1. 0.] <-> [0.6043645  0.36861318 0.0270223 ]\n",
      "[1. 0. 0.] <-> [0.8362331  0.07974135 0.08402553]\n",
      "[1. 0. 0.] <-> [0.82460976 0.11115438 0.06423587]\n",
      "[1. 0. 0.] <-> [0.78332883 0.15416752 0.06250366]\n",
      "[1. 0. 0.] <-> [0.8464692  0.0886614  0.06486942]\n",
      "{'accuracy': 0.8950617283950617, 'mean_square_error': 0.2149215588776695, 'categorical_crossentropy': 0.3919384921038592, 'essential_metrics': {0: {'tp_hit': 78, 'fp_hit': 17, 'tn_hit': 13, 'fn_hit': 0}, 1: {'tp_hit': 10, 'fp_hit': 0, 'tn_hit': 92, 'fn_hit': 6}, 2: {'tp_hit': 3, 'fp_hit': 0, 'tn_hit': 94, 'fn_hit': 11}}}\n"
     ]
    }
   ],
   "source": [
    "# recall phase\n",
    "score = model.evaluate(x_test, y_test, False)\n",
    "print(score)"
   ]
  },
  {
   "cell_type": "code",
   "execution_count": 11,
   "metadata": {},
   "outputs": [],
   "source": [
    "train_acc = [h['accuracy'] for h in history]\n",
    "train_mse = [h['mean_square_error'] for h in history]\n",
    "train_cce = [h['categorical_crossentropy'] for h in history]"
   ]
  },
  {
   "cell_type": "code",
   "execution_count": 12,
   "metadata": {},
   "outputs": [
    {
     "data": {
      "image/png": "[encoded data removed]",
      "text/plain": [
       "<Figure size 864x360 with 1 Axes>"
      ]
     },
     "metadata": {
      "needs_background": "light"
     },
     "output_type": "display_data"
    },
    {
     "data": {
      "image/png": "[encoded data removed]",
      "text/plain": [
       "<Figure size 864x360 with 1 Axes>"
      ]
     },
     "metadata": {
      "needs_background": "light"
     },
     "output_type": "display_data"
    }
   ],
   "source": [
    "draw_plot(x = [[i for i in range(len(history))], [(i+1)*breakpoint for i in range(len(checkpoints))]], y_list = [train_cce, [ ckp[model.loss_fn] for ckp in checkpoints ]], x_label = 'Epochs', \\\n",
    "    y_label = model.loss_fn, legend=['train', 'test'])\n",
    "acc = [ ckp['accuracy'] for ckp in checkpoints ]\n",
    "draw_plot(x = [[i for i in range(len(history))], [(i+1)*breakpoint for i in range(len(checkpoints))]], y_list = [train_acc, acc], x_label = 'Checkpoints', \\\n",
    "    y_label = 'accuracy', legend=['train', 'test'])"
   ]
  },
  {
   "cell_type": "code",
   "execution_count": 13,
   "metadata": {},
   "outputs": [
    {
     "name": "stdout",
     "output_type": "stream",
     "text": [
      "{'accuracy': 0.8209876543209876, 'mean_square_error': 0.36888461764626784, 'categorical_crossentropy': 0.6287345886230469, 'essential_metrics': {0: {'tp_hit': 76, 'fp_hit': 27, 'tn_hit': 3, 'fn_hit': 2}, 1: {'tp_hit': 3, 'fp_hit': 2, 'tn_hit': 90, 'fn_hit': 13}, 2: {'tp_hit': 0, 'fp_hit': 0, 'tn_hit': 94, 'fn_hit': 14}}, 'checkpoint': 10} \n",
      "\n",
      "\n",
      "{'accuracy': 0.845679012345679, 'mean_square_error': 0.3701692943721434, 'categorical_crossentropy': 0.6590424996835215, 'essential_metrics': {0: {'tp_hit': 77, 'fp_hit': 24, 'tn_hit': 6, 'fn_hit': 1}, 1: {'tp_hit': 0, 'fp_hit': 0, 'tn_hit': 92, 'fn_hit': 16}, 2: {'tp_hit': 6, 'fp_hit': 1, 'tn_hit': 93, 'fn_hit': 8}}, 'checkpoint': 20} \n",
      "\n",
      "\n",
      "{'accuracy': 0.8641975308641975, 'mean_square_error': 0.35302658092713496, 'categorical_crossentropy': 0.6209610126636647, 'essential_metrics': {0: {'tp_hit': 78, 'fp_hit': 22, 'tn_hit': 8, 'fn_hit': 0}, 1: {'tp_hit': 2, 'fp_hit': 0, 'tn_hit': 92, 'fn_hit': 14}, 2: {'tp_hit': 6, 'fp_hit': 0, 'tn_hit': 94, 'fn_hit': 8}}, 'checkpoint': 30} \n",
      "\n",
      "\n",
      "{'accuracy': 0.8641975308641975, 'mean_square_error': 0.3289407814308176, 'categorical_crossentropy': 0.5940722712764034, 'essential_metrics': {0: {'tp_hit': 78, 'fp_hit': 22, 'tn_hit': 8, 'fn_hit': 0}, 1: {'tp_hit': 4, 'fp_hit': 0, 'tn_hit': 92, 'fn_hit': 12}, 2: {'tp_hit': 4, 'fp_hit': 0, 'tn_hit': 94, 'fn_hit': 10}}, 'checkpoint': 40} \n",
      "\n",
      "\n",
      "{'accuracy': 0.8518518518518519, 'mean_square_error': 0.32536215244097877, 'categorical_crossentropy': 0.5817162195841471, 'essential_metrics': {0: {'tp_hit': 78, 'fp_hit': 24, 'tn_hit': 6, 'fn_hit': 0}, 1: {'tp_hit': 3, 'fp_hit': 0, 'tn_hit': 92, 'fn_hit': 13}, 2: {'tp_hit': 3, 'fp_hit': 0, 'tn_hit': 94, 'fn_hit': 11}}, 'checkpoint': 50} \n",
      "\n",
      "\n",
      "{'accuracy': 0.8703703703703703, 'mean_square_error': 0.31152717552170195, 'categorical_crossentropy': 0.5762756135728624, 'essential_metrics': {0: {'tp_hit': 78, 'fp_hit': 21, 'tn_hit': 9, 'fn_hit': 0}, 1: {'tp_hit': 6, 'fp_hit': 0, 'tn_hit': 92, 'fn_hit': 10}, 2: {'tp_hit': 3, 'fp_hit': 0, 'tn_hit': 94, 'fn_hit': 11}}, 'checkpoint': 60} \n",
      "\n",
      "\n",
      "{'accuracy': 0.8641975308641975, 'mean_square_error': 0.307491020712956, 'categorical_crossentropy': 0.5632961061265733, 'essential_metrics': {0: {'tp_hit': 78, 'fp_hit': 22, 'tn_hit': 8, 'fn_hit': 0}, 1: {'tp_hit': 4, 'fp_hit': 0, 'tn_hit': 92, 'fn_hit': 12}, 2: {'tp_hit': 4, 'fp_hit': 0, 'tn_hit': 94, 'fn_hit': 10}}, 'checkpoint': 70} \n",
      "\n",
      "\n",
      "{'accuracy': 0.8827160493827161, 'mean_square_error': 0.2863089203733561, 'categorical_crossentropy': 0.5263150179827655, 'essential_metrics': {0: {'tp_hit': 78, 'fp_hit': 19, 'tn_hit': 11, 'fn_hit': 0}, 1: {'tp_hit': 8, 'fp_hit': 0, 'tn_hit': 92, 'fn_hit': 8}, 2: {'tp_hit': 3, 'fp_hit': 0, 'tn_hit': 94, 'fn_hit': 11}}, 'checkpoint': 80} \n",
      "\n",
      "\n",
      "{'accuracy': 0.8888888888888888, 'mean_square_error': 0.24862639480114446, 'categorical_crossentropy': 0.45229480884693285, 'essential_metrics': {0: {'tp_hit': 78, 'fp_hit': 18, 'tn_hit': 12, 'fn_hit': 0}, 1: {'tp_hit': 9, 'fp_hit': 0, 'tn_hit': 92, 'fn_hit': 7}, 2: {'tp_hit': 3, 'fp_hit': 0, 'tn_hit': 94, 'fn_hit': 11}}, 'checkpoint': 90} \n",
      "\n",
      "\n",
      "{'accuracy': 0.8950617283950617, 'mean_square_error': 0.23566069586339133, 'categorical_crossentropy': 0.43089594664397063, 'essential_metrics': {0: {'tp_hit': 78, 'fp_hit': 17, 'tn_hit': 13, 'fn_hit': 0}, 1: {'tp_hit': 9, 'fp_hit': 0, 'tn_hit': 92, 'fn_hit': 7}, 2: {'tp_hit': 4, 'fp_hit': 0, 'tn_hit': 94, 'fn_hit': 10}}, 'checkpoint': 100} \n",
      "\n",
      "\n",
      "{'accuracy': 0.8950617283950617, 'mean_square_error': 0.21137769540005422, 'categorical_crossentropy': 0.3885616726345486, 'essential_metrics': {0: {'tp_hit': 78, 'fp_hit': 17, 'tn_hit': 13, 'fn_hit': 0}, 1: {'tp_hit': 9, 'fp_hit': 0, 'tn_hit': 92, 'fn_hit': 7}, 2: {'tp_hit': 4, 'fp_hit': 0, 'tn_hit': 94, 'fn_hit': 10}}, 'checkpoint': 110} \n",
      "\n",
      "\n",
      "{'accuracy': 0.9012345679012346, 'mean_square_error': 0.22423401631261258, 'categorical_crossentropy': 0.41086034421567563, 'essential_metrics': {0: {'tp_hit': 78, 'fp_hit': 16, 'tn_hit': 14, 'fn_hit': 0}, 1: {'tp_hit': 10, 'fp_hit': 0, 'tn_hit': 92, 'fn_hit': 6}, 2: {'tp_hit': 4, 'fp_hit': 0, 'tn_hit': 94, 'fn_hit': 10}}, 'checkpoint': 120} \n",
      "\n",
      "\n",
      "{'accuracy': 0.8950617283950617, 'mean_square_error': 0.2224532144108658, 'categorical_crossentropy': 0.4101367879796911, 'essential_metrics': {0: {'tp_hit': 78, 'fp_hit': 17, 'tn_hit': 13, 'fn_hit': 0}, 1: {'tp_hit': 9, 'fp_hit': 0, 'tn_hit': 92, 'fn_hit': 7}, 2: {'tp_hit': 4, 'fp_hit': 0, 'tn_hit': 94, 'fn_hit': 10}}, 'checkpoint': 130} \n",
      "\n",
      "\n",
      "{'accuracy': 0.8950617283950617, 'mean_square_error': 0.2224532144108658, 'categorical_crossentropy': 0.4101367879796911, 'essential_metrics': {0: {'tp_hit': 78, 'fp_hit': 17, 'tn_hit': 13, 'fn_hit': 0}, 1: {'tp_hit': 9, 'fp_hit': 0, 'tn_hit': 92, 'fn_hit': 7}, 2: {'tp_hit': 4, 'fp_hit': 0, 'tn_hit': 94, 'fn_hit': 10}}, 'checkpoint': 140} \n",
      "\n",
      "\n",
      "{'accuracy': 0.8950617283950617, 'mean_square_error': 0.2224532144108658, 'categorical_crossentropy': 0.4101367879796911, 'essential_metrics': {0: {'tp_hit': 78, 'fp_hit': 17, 'tn_hit': 13, 'fn_hit': 0}, 1: {'tp_hit': 9, 'fp_hit': 0, 'tn_hit': 92, 'fn_hit': 7}, 2: {'tp_hit': 4, 'fp_hit': 0, 'tn_hit': 94, 'fn_hit': 10}}, 'checkpoint': 150} \n",
      "\n",
      "\n",
      "{'accuracy': 0.9012345679012346, 'mean_square_error': 0.20968809844860303, 'categorical_crossentropy': 0.39136808889883534, 'essential_metrics': {0: {'tp_hit': 78, 'fp_hit': 16, 'tn_hit': 14, 'fn_hit': 0}, 1: {'tp_hit': 10, 'fp_hit': 0, 'tn_hit': 92, 'fn_hit': 6}, 2: {'tp_hit': 4, 'fp_hit': 0, 'tn_hit': 94, 'fn_hit': 10}}, 'checkpoint': 160} \n",
      "\n",
      "\n",
      "{'accuracy': 0.9012345679012346, 'mean_square_error': 0.20338167191903173, 'categorical_crossentropy': 0.38382728011519823, 'essential_metrics': {0: {'tp_hit': 78, 'fp_hit': 16, 'tn_hit': 14, 'fn_hit': 0}, 1: {'tp_hit': 10, 'fp_hit': 0, 'tn_hit': 92, 'fn_hit': 6}, 2: {'tp_hit': 4, 'fp_hit': 0, 'tn_hit': 94, 'fn_hit': 10}}, 'checkpoint': 170} \n",
      "\n",
      "\n",
      "{'accuracy': 0.9012345679012346, 'mean_square_error': 0.20338167191903173, 'categorical_crossentropy': 0.38382728011519823, 'essential_metrics': {0: {'tp_hit': 78, 'fp_hit': 16, 'tn_hit': 14, 'fn_hit': 0}, 1: {'tp_hit': 10, 'fp_hit': 0, 'tn_hit': 92, 'fn_hit': 6}, 2: {'tp_hit': 4, 'fp_hit': 0, 'tn_hit': 94, 'fn_hit': 10}}, 'checkpoint': 180} \n",
      "\n",
      "\n",
      "{'accuracy': 0.9012345679012346, 'mean_square_error': 0.20338167191903173, 'categorical_crossentropy': 0.38382728011519823, 'essential_metrics': {0: {'tp_hit': 78, 'fp_hit': 16, 'tn_hit': 14, 'fn_hit': 0}, 1: {'tp_hit': 10, 'fp_hit': 0, 'tn_hit': 92, 'fn_hit': 6}, 2: {'tp_hit': 4, 'fp_hit': 0, 'tn_hit': 94, 'fn_hit': 10}}, 'checkpoint': 190} \n",
      "\n",
      "\n",
      "{'accuracy': 0.8950617283950617, 'mean_square_error': 0.2149215588776695, 'categorical_crossentropy': 0.3919384921038592, 'essential_metrics': {0: {'tp_hit': 78, 'fp_hit': 17, 'tn_hit': 13, 'fn_hit': 0}, 1: {'tp_hit': 10, 'fp_hit': 0, 'tn_hit': 92, 'fn_hit': 6}, 2: {'tp_hit': 3, 'fp_hit': 0, 'tn_hit': 94, 'fn_hit': 11}}, 'checkpoint': 200} \n",
      "\n",
      "\n"
     ]
    }
   ],
   "source": [
    "for checkpoint in checkpoints:\n",
    "    print(checkpoint, '\\n\\n')"
   ]
  },
  {
   "cell_type": "code",
   "execution_count": 14,
   "metadata": {},
   "outputs": [
    {
     "name": "stdout",
     "output_type": "stream",
     "text": [
      "Layer 1\n",
      "Neuron 0: weights:\n",
      "[-0.28772184  0.70415705 -0.06230307 -0.57818276 -0.9139923 ]\n",
      " bias: 0.46622395515441895\n",
      "\n",
      "Neuron 1: weights:\n",
      "[ 0.70063    -0.8818381  -0.8309513  -0.09594318  0.40758651]\n",
      " bias: 0.29688072204589844\n",
      "\n",
      "Neuron 2: weights:\n",
      "[ 0.11150011 -0.40897524 -0.855548   -0.9539093  -0.867038  ]\n",
      " bias: 0.033246204257011414\n",
      "\n",
      "Neuron 3: weights:\n",
      "[-0.40802243  1.1231589   0.6985413   0.21728675 -0.04791775]\n",
      " bias: -0.3890864849090576\n",
      "\n",
      "$\n",
      "Layer 2\n",
      "Neuron 0: weights:\n",
      "[ 0.93183565  0.4714424   1.4855928  -0.49860504]\n",
      " bias: -0.10847228765487671\n",
      "\n",
      "Neuron 1: weights:\n",
      "[ 0.5703379  -1.6758207  -0.65817535  1.533124  ]\n",
      " bias: -0.07445540279150009\n",
      "\n",
      "Neuron 2: weights:\n",
      "[-1.3264085   1.2025331  -0.73459727 -0.7262459 ]\n",
      " bias: 0.19362996518611908\n",
      "\n",
      "$\n",
      "\n"
     ]
    }
   ],
   "source": [
    "print(model)"
   ]
  },
  {
   "cell_type": "code",
   "execution_count": null,
   "metadata": {},
   "outputs": [],
   "source": []
  }
 ],
 "metadata": {
  "kernelspec": {
   "display_name": "Python 3",
   "language": "python",
   "name": "python3"
  },
  "language_info": {
   "codemirror_mode": {
    "name": "ipython",
    "version": 3
   },
   "file_extension": ".py",
   "mimetype": "text/x-python",
   "name": "python",
   "nbconvert_exporter": "python",
   "pygments_lexer": "ipython3",
   "version": "3.6.12"
  }
 },
 "nbformat": 4,
 "nbformat_minor": 2
}
