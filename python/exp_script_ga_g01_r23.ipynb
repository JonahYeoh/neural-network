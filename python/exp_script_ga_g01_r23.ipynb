{
 "cells": [
  {
   "cell_type": "code",
   "execution_count": 1,
   "metadata": {},
   "outputs": [],
   "source": [
    "# two"
   ]
  },
  {
   "cell_type": "code",
   "execution_count": 2,
   "metadata": {},
   "outputs": [],
   "source": [
    "# dependency\n",
    "import numpy as np\n",
    "import pandas as pd\n",
    "import copy\n",
    "import math\n",
    "import sys\n",
    "import os\n",
    "from activations import relu, leaky_relu, sigmoid, tanh, softmax, d_sigmoid, d_relu\n",
    "from initializers import glorot_uniform, random_normal, random_uniform\n",
    "from regularizers import l1_regularizer, l2_regularizer\n",
    "from utility import trim_tail, multiply, subtract, get_nparams, one_hot_encoding, get_data\n",
    "from metrics import MSE, CCE, ACC, PRECISION, RECALL, essential_metrics, wondering_penalty, close_gap_penalty\n",
    "from pso import PSO\n",
    "from ga import GA\n",
    "from nn import Network\n",
    "from layer import DenseLayer\n",
    "from scalers import MinMaxScaler, StandardScaler"
   ]
  },
  {
   "cell_type": "code",
   "execution_count": 3,
   "metadata": {},
   "outputs": [],
   "source": [
    "# reference\n",
    "metrics_fn_dict = dict()\n",
    "metrics_fn_dict['accuracy'] = ACC\n",
    "metrics_fn_dict['categorical_crossentropy'] = CCE\n",
    "metrics_fn_dict['mean_square_error'] = MSE\n",
    "metrics_fn_dict['precision'] = PRECISION\n",
    "metrics_fn_dict['recall'] = RECALL\n",
    "metrics_fn_dict['essential_metrics'] = essential_metrics"
   ]
  },
  {
   "cell_type": "code",
   "execution_count": 4,
   "metadata": {},
   "outputs": [],
   "source": [
    "# model\n",
    "model = Network(5, lr = None)\n",
    "model.add_layer(DenseLayer(1, 4, True, afn=sigmoid, dafn=None, rfn=None))\n",
    "model.add_layer(DenseLayer(2, 3, True, afn=softmax, dafn=None, rfn=None))"
   ]
  },
  {
   "cell_type": "code",
   "execution_count": 5,
   "metadata": {},
   "outputs": [],
   "source": [
    "# optimizer\n",
    "ga = GA(\n",
    "    dict(\n",
    "        m = 300,\n",
    "        x_rate = 0.5,\n",
    "        m_rate = 0.5,\n",
    "        weight_constraint = [-3.,3.],\n",
    "        radioactive_rating = 0.1,\n",
    "        grow_factor = 0.1,\n",
    "        scale_hyperparameter = False,\n",
    "        regularizer = None))"
   ]
  },
  {
   "cell_type": "code",
   "execution_count": 6,
   "metadata": {},
   "outputs": [
    {
     "name": "stdout",
     "output_type": "stream",
     "text": [
      "building layer 1 with 5\n",
      "24\n",
      "building layer 2 with 4\n",
      "15\n"
     ]
    }
   ],
   "source": [
    "model.compile(loss_fn = 'categorical_crossentropy', optimizer = ga, \\\n",
    "    metrics = ['accuracy', 'mean_square_error', 'categorical_crossentropy', 'precision', 'recall', 'f1'])"
   ]
  },
  {
   "cell_type": "code",
   "execution_count": 7,
   "metadata": {},
   "outputs": [
    {
     "name": "stdout",
     "output_type": "stream",
     "text": [
      "<class 'pandas.core.frame.DataFrame'>\n",
      "RangeIndex: 107 entries, 0 to 106\n",
      "Data columns (total 6 columns):\n",
      " #   Column  Non-Null Count  Dtype  \n",
      "---  ------  --------------  -----  \n",
      " 0   f1      107 non-null    float32\n",
      " 1   f2      107 non-null    float32\n",
      " 2   f3      107 non-null    float32\n",
      " 3   f4      107 non-null    float32\n",
      " 4   f5      107 non-null    float32\n",
      " 5   label   107 non-null    float32\n",
      "dtypes: float32(6)\n",
      "memory usage: 2.6 KB\n",
      "None\n",
      "<class 'pandas.core.frame.DataFrame'>\n",
      "RangeIndex: 108 entries, 0 to 107\n",
      "Data columns (total 6 columns):\n",
      " #   Column  Non-Null Count  Dtype  \n",
      "---  ------  --------------  -----  \n",
      " 0   f1      108 non-null    float32\n",
      " 1   f2      108 non-null    float32\n",
      " 2   f3      108 non-null    float32\n",
      " 3   f4      108 non-null    float32\n",
      " 4   f5      108 non-null    float32\n",
      " 5   label   108 non-null    float32\n",
      "dtypes: float32(6)\n",
      "memory usage: 2.7 KB\n",
      "None\n"
     ]
    }
   ],
   "source": [
    "# data loading\n",
    "DATA = os.path.join('c:\\\\Users\\\\AI-lab\\\\github_repo\\\\neural-network\\\\', 'dataset')\n",
    "GROUP = 1\n",
    "COLUMNS = ['f1', 'f2', 'f3', 'f4', 'f5', 'label']\n",
    "N_CLASS = 3\n",
    "EPOCHS = 500\n",
    "train_dir, test_dir = \"..//dataset//training_data{}.txt\".format(GROUP), \"..//dataset//testing_data{}.txt\".format(GROUP)\n",
    "train, test = get_data(DATA, train_dir, COLUMNS), get_data(DATA, test_dir, COLUMNS)\n",
    "# shuffle\n",
    "train, test = train.sample(frac=1), test.sample(frac=1)\n",
    "x_train, y_train = train.drop('label', axis=1), train['label']\n",
    "x_test, y_test = test.drop('label', axis=1), test['label']"
   ]
  },
  {
   "cell_type": "code",
   "execution_count": 8,
   "metadata": {},
   "outputs": [],
   "source": [
    "# data scaling and encoding\n",
    "scaler = StandardScaler(['f1', 'f2', 'f3', 'f4', 'f5'])\n",
    "scaler.fit(x_train)\n",
    "x_train = scaler.transform(x_train)\n",
    "x_test = scaler.transform(x_test)\n",
    "y_train = one_hot_encoding(y_train, N_CLASS)\n",
    "y_test = one_hot_encoding(y_test, N_CLASS)"
   ]
  },
  {
   "cell_type": "code",
   "execution_count": 9,
   "metadata": {
    "scrolled": true,
    "tags": [
     "outputPrepend"
    ]
   },
   "outputs": [
    {
     "name": "stderr",
     "output_type": "stream",
     "text": [
      "C:\\Users\\AI-lab\\github_repo\\neural-network\\python\\ga.py:201: RuntimeWarning: overflow encountered in add\n",
      "  self.population.sort(key=lambda p: p.fitness + np.random.uniform(-shift, shift, 1), reverse = self.aim)\n"
     ]
    },
    {
     "name": "stdout",
     "output_type": "stream",
     "text": [
      "Checkpoint 100, Accuracy: 0.9567901234567902, Loss: 0.24310274477358218\n",
      "Checkpoint 200, Accuracy: 0.9629629629629629, Loss: 0.20353649280689382\n",
      "Checkpoint 300, Accuracy: 0.9691358024691358, Loss: 0.17447921964857313\n",
      "Checkpoint 400, Accuracy: 0.9691358024691358, Loss: 0.15924178229437935\n",
      "Checkpoint 500, Accuracy: 0.9629629629629629, Loss: 0.14764450214527272\n"
     ]
    }
   ],
   "source": [
    "# learning phase\n",
    "breakpoint = 100\n",
    "checkpoints = list()\n",
    "history = list()\n",
    "for century in range(0, EPOCHS, breakpoint):\n",
    "    sub_history = model.fit(x_train, y_train, breakpoint, verbose = 0)\n",
    "    score = model.evaluate(x_test, y_test, False, verbose = 0)\n",
    "    print('Checkpoint {}, Accuracy: {}, Loss: {}'.format(century+breakpoint, score['accuracy'], score[model.loss_fn]))\n",
    "    score['checkpoint'] = century + breakpoint\n",
    "    checkpoints.append(score)\n",
    "    history.extend(sub_history)\n",
    "    "
   ]
  },
  {
   "cell_type": "code",
   "execution_count": 10,
   "metadata": {},
   "outputs": [],
   "source": [
    "import matplotlib.pyplot as plt\n",
    "\n",
    "def draw_plot(x, y_list, x_label=None, y_label=None, legend=None, title=None):\n",
    "    fig, ax = plt.subplots(figsize=(12,5))\n",
    "    for xi, yi in zip(x, y_list):\n",
    "        ax.plot(xi, yi)\n",
    "    if x_label is not None and y_label is not None:\n",
    "        ax.set(xlabel=x_label, ylabel=y_label, title='{} VS {}'.format(x_label, y_label))\n",
    "    if legend is not None:\n",
    "        ax.legend(legend)\n",
    "    ax.grid()\n",
    "    plt.show()"
   ]
  },
  {
   "cell_type": "code",
   "execution_count": 11,
   "metadata": {},
   "outputs": [
    {
     "name": "stdout",
     "output_type": "stream",
     "text": [
      "[1. 0. 0.] <-> [0.4097945  0.06895778 0.52124774]\n",
      "[1. 0. 0.] <-> [0.95243114 0.04193592 0.00563286]\n",
      "[1. 0. 0.] <-> [0.95671934 0.02940095 0.01387974]\n",
      "[0. 1. 0.] <-> [6.8504684e-02 9.3108332e-01 4.1197918e-04]\n",
      "[1. 0. 0.] <-> [0.9353227  0.01929018 0.04538719]\n",
      "[1. 0. 0.] <-> [0.95467937 0.02003141 0.02528915]\n",
      "[1. 0. 0.] <-> [0.96021    0.02104206 0.01874798]\n",
      "[1. 0. 0.] <-> [0.9560626  0.03503896 0.00889839]\n",
      "[0. 0. 1.] <-> [0.11170191 0.02995919 0.8583389 ]\n",
      "[1. 0. 0.] <-> [0.77727497 0.01933371 0.2033913 ]\n",
      "[0. 0. 1.] <-> [0.11126086 0.02990721 0.8588319 ]\n",
      "[1. 0. 0.] <-> [0.91934144 0.03482225 0.04583632]\n",
      "[1. 0. 0.] <-> [0.94495016 0.02170945 0.03334044]\n",
      "[1. 0. 0.] <-> [0.95568347 0.02576648 0.01855003]\n",
      "[1. 0. 0.] <-> [0.9222521  0.06916083 0.00858707]\n",
      "[0. 0. 1.] <-> [0.11178658 0.03001511 0.85819834]\n",
      "[1. 0. 0.] <-> [0.93963856 0.02695722 0.03340425]\n",
      "[1. 0. 0.] <-> [0.9541654  0.03800526 0.00782936]\n",
      "[1. 0. 0.] <-> [0.9529146  0.02944187 0.01764359]\n",
      "[1. 0. 0.] <-> [0.9495788  0.02721611 0.02320503]\n",
      "[1. 0. 0.] <-> [0.95290786 0.02321866 0.0238734 ]\n",
      "[1. 0. 0.] <-> [0.8458605  0.02080821 0.13333139]\n",
      "[1. 0. 0.] <-> [0.9535198  0.02198221 0.02449789]\n",
      "[1. 0. 0.] <-> [0.94764775 0.02172995 0.03062234]\n",
      "[1. 0. 0.] <-> [0.9395209  0.05375817 0.00672103]\n",
      "[0. 0. 1.] <-> [0.11072212 0.0307022  0.8585757 ]\n",
      "[1. 0. 0.] <-> [0.9565012  0.01902221 0.02447659]\n",
      "[1. 0. 0.] <-> [0.9505377  0.04420862 0.00525378]\n",
      "[1. 0. 0.] <-> [0.9166554  0.02189822 0.06144635]\n",
      "[1. 0. 0.] <-> [0.9640328  0.02080951 0.01515757]\n",
      "[1. 0. 0.] <-> [0.93980706 0.01800207 0.04219095]\n",
      "[1. 0. 0.] <-> [0.95128274 0.04100775 0.00770949]\n",
      "[0. 1. 0.] <-> [8.1060067e-02 9.1846108e-01 4.7887518e-04]\n",
      "[1. 0. 0.] <-> [0.94214684 0.05267557 0.00517759]\n",
      "[1. 0. 0.] <-> [0.9211404  0.03807686 0.04078278]\n",
      "[0. 1. 0.] <-> [6.8520449e-02 9.3106973e-01 4.0974354e-04]\n",
      "[1. 0. 0.] <-> [0.86693555 0.02159075 0.11147361]\n",
      "[1. 0. 0.] <-> [0.88580924 0.033571   0.0806198 ]\n",
      "[0. 1. 0.] <-> [9.396475e-02 9.054702e-01 5.650449e-04]\n",
      "[0. 1. 0.] <-> [6.7046344e-02 9.3255258e-01 4.0107570e-04]\n",
      "[1. 0. 0.] <-> [0.92818886 0.05857177 0.01323935]\n",
      "[1. 0. 0.] <-> [0.8866     0.01821254 0.0951874 ]\n",
      "[1. 0. 0.] <-> [0.78313905 0.0394673  0.17739359]\n",
      "[1. 0. 0.] <-> [0.82799256 0.03376469 0.13824277]\n",
      "[0. 0. 1.] <-> [0.2833641  0.02642946 0.69020647]\n",
      "[0. 0. 1.] <-> [0.6506817  0.02420288 0.3251155 ]\n",
      "[1. 0. 0.] <-> [0.94632566 0.01601475 0.03765959]\n",
      "[1. 0. 0.] <-> [0.8907834  0.02982205 0.07939452]\n",
      "[1. 0. 0.] <-> [0.91326106 0.01588275 0.07085624]\n",
      "[0. 1. 0.] <-> [0.3796701  0.61844736 0.0018825 ]\n",
      "[0. 1. 0.] <-> [0.58979404 0.40747288 0.00273308]\n",
      "[0. 1. 0.] <-> [0.5379978  0.45912293 0.00287932]\n",
      "[1. 0. 0.] <-> [0.9145764  0.01529527 0.07012835]\n",
      "[0. 1. 0.] <-> [6.7056358e-02 9.3254262e-01 4.0097427e-04]\n",
      "[1. 0. 0.] <-> [0.94859105 0.02682918 0.02457971]\n",
      "[1. 0. 0.] <-> [0.960072   0.02287824 0.01704972]\n",
      "[0. 0. 1.] <-> [0.11124755 0.02992506 0.8588274 ]\n",
      "[1. 0. 0.] <-> [0.960876   0.02375992 0.0153641 ]\n",
      "[0. 1. 0.] <-> [0.73883796 0.25808743 0.0030746 ]\n",
      "[0. 1. 0.] <-> [1.4891277e-01 8.5027230e-01 8.1493007e-04]\n",
      "[1. 0. 0.] <-> [0.9565738  0.02766225 0.01576394]\n",
      "[1. 0. 0.] <-> [0.88278    0.10963445 0.00758559]\n",
      "[1. 0. 0.] <-> [0.9497579  0.04153551 0.00870665]\n",
      "[0. 1. 0.] <-> [1.05989166e-01 8.93407822e-01 6.03049353e-04]\n",
      "[1. 0. 0.] <-> [0.94556284 0.02185701 0.03258011]\n",
      "[1. 0. 0.] <-> [0.92238283 0.01631182 0.06130531]\n",
      "[1. 0. 0.] <-> [0.95680827 0.02851352 0.01467815]\n",
      "[1. 0. 0.] <-> [0.9365079  0.0584108  0.00508135]\n",
      "[1. 0. 0.] <-> [0.9550041  0.02956895 0.01542701]\n",
      "[1. 0. 0.] <-> [0.9490616  0.01950607 0.03143241]\n",
      "[1. 0. 0.] <-> [0.960919   0.03059372 0.00848728]\n",
      "[1. 0. 0.] <-> [0.95719147 0.02442208 0.01838632]\n",
      "[1. 0. 0.] <-> [0.9385512  0.04730054 0.01414832]\n",
      "[1. 0. 0.] <-> [0.90543306 0.016569   0.07799793]\n",
      "[1. 0. 0.] <-> [0.9338854  0.0600653  0.00604934]\n",
      "[0. 1. 0.] <-> [0.19874108 0.80023396 0.00102493]\n",
      "[1. 0. 0.] <-> [0.63126194 0.36582598 0.002912  ]\n",
      "[1. 0. 0.] <-> [0.95413166 0.02107159 0.02479672]\n",
      "[1. 0. 0.] <-> [0.9574055  0.03185721 0.01073724]\n",
      "[1. 0. 0.] <-> [0.91865265 0.02664546 0.05470182]\n",
      "[1. 0. 0.] <-> [0.92644167 0.06529431 0.00826406]\n",
      "[1. 0. 0.] <-> [0.95081615 0.04170736 0.00747639]\n",
      "[1. 0. 0.] <-> [0.8346661  0.0309331  0.13440078]\n",
      "[0. 0. 1.] <-> [0.11778542 0.03087997 0.85133463]\n",
      "[1. 0. 0.] <-> [0.9597468  0.0167635  0.02348979]\n",
      "[0. 1. 0.] <-> [6.7256138e-02 9.3234158e-01 4.0234977e-04]\n",
      "[0. 0. 1.] <-> [0.11135465 0.02998306 0.85866225]\n",
      "[1. 0. 0.] <-> [0.91186476 0.03427238 0.05386285]\n",
      "[1. 0. 0.] <-> [0.8993762  0.09226893 0.0083549 ]\n",
      "[0. 0. 1.] <-> [0.11040001 0.0312163  0.8583837 ]\n",
      "[1. 0. 0.] <-> [0.9274782  0.06701833 0.00550342]\n",
      "[0. 0. 1.] <-> [0.6184993  0.01983148 0.36166927]\n",
      "[1. 0. 0.] <-> [0.945109   0.04970721 0.00518374]\n",
      "[0. 0. 1.] <-> [0.11318225 0.03042481 0.85639286]\n",
      "[0. 0. 1.] <-> [0.10922733 0.03351168 0.85726094]\n",
      "[1. 0. 0.] <-> [0.8706544  0.12490073 0.00444494]\n",
      "[1. 0. 0.] <-> [0.9593393  0.02501782 0.01564274]\n",
      "[1. 0. 0.] <-> [0.9028473  0.01639542 0.08075731]\n",
      "[1. 0. 0.] <-> [0.8376929  0.02411228 0.13819484]\n",
      "[1. 0. 0.] <-> [0.9227569  0.01721415 0.06002891]\n",
      "[1. 0. 0.] <-> [0.9604994  0.03120886 0.00829177]\n",
      "[1. 0. 0.] <-> [0.92647505 0.0652066  0.00831834]\n",
      "[1. 0. 0.] <-> [0.9237122  0.01745341 0.05883434]\n",
      "[1. 0. 0.] <-> [0.9415297  0.04725821 0.01121196]\n",
      "[1. 0. 0.] <-> [0.9565329  0.0362876  0.00717953]\n",
      "[1. 0. 0.] <-> [0.93441826 0.01617101 0.04941075]\n",
      "[1. 0. 0.] <-> [0.96274024 0.02337603 0.01388374]\n",
      "[0. 1. 0.] <-> [6.7055516e-02 9.3254346e-01 4.0096545e-04]\n",
      "{'accuracy': 0.9629629629629629, 'mean_square_error': 0.0637408561989749, 'categorical_crossentropy': 0.14764450214527272, 'precision': 0.9444444444444444, 'recall': 0.9444444444444444, 'f1': 0.9444444444444444, 'essential_metrics': {0: {'tp_hit': 79, 'fp_hit': 5, 'tn_hit': 23, 'fn_hit': 1}, 1: {'tp_hit': 12, 'fp_hit': 0, 'tn_hit': 93, 'fn_hit': 3}, 2: {'tp_hit': 11, 'fp_hit': 1, 'tn_hit': 94, 'fn_hit': 2}}}\n"
     ]
    }
   ],
   "source": [
    "# recall phase\n",
    "score = model.evaluate(x_test, y_test, False)\n",
    "print(score)"
   ]
  },
  {
   "cell_type": "code",
   "execution_count": 12,
   "metadata": {},
   "outputs": [],
   "source": [
    "# Testing Performance"
   ]
  },
  {
   "cell_type": "code",
   "execution_count": 13,
   "metadata": {},
   "outputs": [
    {
     "data": {
      "image/png": "[encoded data removed]",
      "text/plain": [
       "<Figure size 864x360 with 1 Axes>"
      ]
     },
     "metadata": {
      "needs_background": "light"
     },
     "output_type": "display_data"
    },
    {
     "data": {
      "image/png": "[encoded data removed]",
      "text/plain": [
       "<Figure size 864x360 with 1 Axes>"
      ]
     },
     "metadata": {
      "needs_background": "light"
     },
     "output_type": "display_data"
    }
   ],
   "source": [
    "draw_plot(x = [[i for i in range(len(history))], [(i+1)*breakpoint for i in range(len(checkpoints))]], y_list = [history, [ ckp[model.loss_fn] for ckp in checkpoints ]], x_label = 'Epochs', \\\n",
    "    y_label = model.loss_fn, legend=['train', 'test'])\n",
    "acc = [ ckp['accuracy'] for ckp in checkpoints ]\n",
    "draw_plot(x = [[(i+1)*breakpoint for i in range(len(checkpoints))]], y_list = [acc], x_label = 'Checkpoints', \\\n",
    "    y_label = 'accuracy')"
   ]
  },
  {
   "cell_type": "code",
   "execution_count": 14,
   "metadata": {
    "scrolled": false
   },
   "outputs": [
    {
     "name": "stdout",
     "output_type": "stream",
     "text": [
      "{'accuracy': 0.9567901234567902, 'mean_square_error': 0.10707795368218974, 'categorical_crossentropy': 0.24310274477358218, 'precision': 0.9351851851851852, 'recall': 0.9351851851851852, 'f1': 0.9351851851851852, 'essential_metrics': {0: {'tp_hit': 80, 'fp_hit': 7, 'tn_hit': 21, 'fn_hit': 0}, 1: {'tp_hit': 11, 'fp_hit': 0, 'tn_hit': 93, 'fn_hit': 4}, 2: {'tp_hit': 10, 'fp_hit': 0, 'tn_hit': 95, 'fn_hit': 3}}, 'checkpoint': 100} \n",
      "\n",
      "\n",
      "{'accuracy': 0.9629629629629629, 'mean_square_error': 0.08877089052684714, 'categorical_crossentropy': 0.20353649280689382, 'precision': 0.9444444444444444, 'recall': 0.9444444444444444, 'f1': 0.9444444444444444, 'essential_metrics': {0: {'tp_hit': 80, 'fp_hit': 6, 'tn_hit': 22, 'fn_hit': 0}, 1: {'tp_hit': 11, 'fp_hit': 0, 'tn_hit': 93, 'fn_hit': 4}, 2: {'tp_hit': 11, 'fp_hit': 0, 'tn_hit': 95, 'fn_hit': 2}}, 'checkpoint': 200} \n",
      "\n",
      "\n",
      "{'accuracy': 0.9691358024691358, 'mean_square_error': 0.07748363434063427, 'categorical_crossentropy': 0.17447921964857313, 'precision': 0.9537037037037037, 'recall': 0.9537037037037037, 'f1': 0.9537037037037037, 'essential_metrics': {0: {'tp_hit': 80, 'fp_hit': 5, 'tn_hit': 23, 'fn_hit': 0}, 1: {'tp_hit': 12, 'fp_hit': 0, 'tn_hit': 93, 'fn_hit': 3}, 2: {'tp_hit': 11, 'fp_hit': 0, 'tn_hit': 95, 'fn_hit': 2}}, 'checkpoint': 300} \n",
      "\n",
      "\n",
      "{'accuracy': 0.9691358024691358, 'mean_square_error': 0.06830122413704225, 'categorical_crossentropy': 0.15924178229437935, 'precision': 0.9537037037037037, 'recall': 0.9537037037037037, 'f1': 0.9537037037037037, 'essential_metrics': {0: {'tp_hit': 80, 'fp_hit': 5, 'tn_hit': 23, 'fn_hit': 0}, 1: {'tp_hit': 12, 'fp_hit': 0, 'tn_hit': 93, 'fn_hit': 3}, 2: {'tp_hit': 11, 'fp_hit': 0, 'tn_hit': 95, 'fn_hit': 2}}, 'checkpoint': 400} \n",
      "\n",
      "\n",
      "{'accuracy': 0.9629629629629629, 'mean_square_error': 0.0637408561989749, 'categorical_crossentropy': 0.14764450214527272, 'precision': 0.9444444444444444, 'recall': 0.9444444444444444, 'f1': 0.9444444444444444, 'essential_metrics': {0: {'tp_hit': 79, 'fp_hit': 5, 'tn_hit': 23, 'fn_hit': 1}, 1: {'tp_hit': 12, 'fp_hit': 0, 'tn_hit': 93, 'fn_hit': 3}, 2: {'tp_hit': 11, 'fp_hit': 1, 'tn_hit': 94, 'fn_hit': 2}}, 'checkpoint': 500} \n",
      "\n",
      "\n"
     ]
    }
   ],
   "source": [
    "for checkpoint in checkpoints:\n",
    "    print(checkpoint, '\\n\\n')"
   ]
  },
  {
   "cell_type": "code",
   "execution_count": 15,
   "metadata": {},
   "outputs": [
    {
     "name": "stdout",
     "output_type": "stream",
     "text": [
      "Layer 1\n",
      "Neuron 0: weights:\n",
      "[ 0.11621732  3.          0.7170172  -1.7565292  -1.9002877 ]\n",
      " bias: 2.5709288120269775\n",
      "\n",
      "Neuron 1: weights:\n",
      "[-1.7933075 -0.6329041  1.6396316 -2.9688826 -2.6251848]\n",
      " bias: 2.3552308082580566\n",
      "\n",
      "Neuron 2: weights:\n",
      "[-1.913663    3.          2.0469644   0.03111034  0.3533452 ]\n",
      " bias: -2.109557867050171\n",
      "\n",
      "Neuron 3: weights:\n",
      "[-0.82922155  2.2615445   2.4223118  -2.6835678  -0.48182088]\n",
      " bias: 0.024899855256080627\n",
      "\n",
      "$\n",
      "Layer 2\n",
      "Neuron 0: weights:\n",
      "[ 1.6760944   0.25971007 -3.         -0.21966788]\n",
      " bias: 0.9562536478042603\n",
      "\n",
      "Neuron 1: weights:\n",
      "[ 0.08341637 -1.463093    2.846427    1.1955351 ]\n",
      " bias: -0.35752198100090027\n",
      "\n",
      "Neuron 2: weights:\n",
      "[-2.1467128 -1.1524247 -2.1479073 -3.       ]\n",
      " bias: 3.0\n",
      "\n",
      "$\n",
      "\n"
     ]
    }
   ],
   "source": [
    "print(model)"
   ]
  }
 ],
 "metadata": {
  "kernelspec": {
   "display_name": "Python 3",
   "language": "python",
   "name": "python3"
  },
  "language_info": {
   "codemirror_mode": {
    "name": "ipython",
    "version": 3
   },
   "file_extension": ".py",
   "mimetype": "text/x-python",
   "name": "python",
   "nbconvert_exporter": "python",
   "pygments_lexer": "ipython3",
   "version": "3.6.12"
  }
 },
 "nbformat": 4,
 "nbformat_minor": 2
}
