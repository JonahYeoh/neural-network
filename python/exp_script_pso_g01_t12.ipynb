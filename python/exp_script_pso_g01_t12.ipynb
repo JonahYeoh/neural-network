{
 "cells": [
  {
   "cell_type": "code",
   "execution_count": 1,
   "metadata": {},
   "outputs": [],
   "source": [
    "# dependency\n",
    "import numpy as np\n",
    "import pandas as pd\n",
    "import copy\n",
    "import math\n",
    "import sys\n",
    "import os\n",
    "from activations import relu, leaky_relu, sigmoid, tanh, softmax, d_sigmoid, d_relu\n",
    "from initializers import glorot_uniform, random_normal, random_uniform\n",
    "from regularizers import l1_regularizer, l2_regularizer\n",
    "from utility import trim_tail, multiply, subtract, get_nparams, one_hot_encoding, get_data\n",
    "from metrics import MSE, CCE, ACC, PRECISION, RECALL, essential_metrics, wondering_penalty, close_gap_penalty\n",
    "from pso import PSO\n",
    "from ga import GA\n",
    "from nn import Network\n",
    "from layer import DenseLayer\n",
    "from scalers import MinMaxScaler, StandardScaler"
   ]
  },
  {
   "cell_type": "code",
   "execution_count": 2,
   "metadata": {},
   "outputs": [],
   "source": [
    "# reference\n",
    "metrics_fn_dict = dict()\n",
    "metrics_fn_dict['accuracy'] = ACC\n",
    "metrics_fn_dict['categorical_crossentropy'] = CCE\n",
    "metrics_fn_dict['mean_square_error'] = MSE\n",
    "metrics_fn_dict['precision'] = PRECISION\n",
    "metrics_fn_dict['recall'] = RECALL\n",
    "metrics_fn_dict['essential_metrics'] = essential_metrics"
   ]
  },
  {
   "cell_type": "code",
   "execution_count": 3,
   "metadata": {},
   "outputs": [],
   "source": [
    "# model\n",
    "model = Network(5, lr = None)\n",
    "model.add_layer(DenseLayer(1, 4, True, afn=sigmoid, dafn=None, rfn=None))\n",
    "model.add_layer(DenseLayer(2, 3, True, afn=softmax, dafn=None, rfn=None))"
   ]
  },
  {
   "cell_type": "code",
   "execution_count": 4,
   "metadata": {},
   "outputs": [
    {
     "name": "stdout",
     "output_type": "stream",
     "text": [
      "see one see two 2.0 0.5\n"
     ]
    }
   ],
   "source": [
    "pso = PSO(dict(m = 50,\n",
    "    weight_constraint = [-3, 3], \n",
    "    velocity_constraint = [-0.1, 0.1],\n",
    "    c1 = [0.5, 2.0],\n",
    "    c2 = [0.5, 2.0],\n",
    "    w = [0.5, 1.6],\n",
    "    w_decay = 0.95,\n",
    "    scale_hyperparameter = False,\n",
    "    regularizer = None,\n",
    "    mask = True))"
   ]
  },
  {
   "cell_type": "code",
   "execution_count": 5,
   "metadata": {},
   "outputs": [
    {
     "name": "stdout",
     "output_type": "stream",
     "text": [
      "building layer 1 with 5\n",
      "24\n",
      "building layer 2 with 4\n",
      "15\n"
     ]
    }
   ],
   "source": [
    "model.compile(loss_fn = 'categorical_crossentropy', optimizer = pso, \\\n",
    "    metrics = ['accuracy', 'mean_square_error', 'categorical_crossentropy'])"
   ]
  },
  {
   "cell_type": "code",
   "execution_count": 6,
   "metadata": {},
   "outputs": [
    {
     "name": "stdout",
     "output_type": "stream",
     "text": [
      "<class 'pandas.core.frame.DataFrame'>\n",
      "RangeIndex: 107 entries, 0 to 106\n",
      "Data columns (total 6 columns):\n",
      " #   Column  Non-Null Count  Dtype  \n",
      "---  ------  --------------  -----  \n",
      " 0   f1      107 non-null    float32\n",
      " 1   f2      107 non-null    float32\n",
      " 2   f3      107 non-null    float32\n",
      " 3   f4      107 non-null    float32\n",
      " 4   f5      107 non-null    float32\n",
      " 5   label   107 non-null    float32\n",
      "dtypes: float32(6)\n",
      "memory usage: 2.6 KB\n",
      "None\n",
      "<class 'pandas.core.frame.DataFrame'>\n",
      "RangeIndex: 108 entries, 0 to 107\n",
      "Data columns (total 6 columns):\n",
      " #   Column  Non-Null Count  Dtype  \n",
      "---  ------  --------------  -----  \n",
      " 0   f1      108 non-null    float32\n",
      " 1   f2      108 non-null    float32\n",
      " 2   f3      108 non-null    float32\n",
      " 3   f4      108 non-null    float32\n",
      " 4   f5      108 non-null    float32\n",
      " 5   label   108 non-null    float32\n",
      "dtypes: float32(6)\n",
      "memory usage: 2.7 KB\n",
      "None\n"
     ]
    }
   ],
   "source": [
    "# data loading\n",
    "DATA = os.path.join('c:\\\\Users\\\\AI-lab\\\\github_repo\\\\neural-network\\\\', 'dataset')\n",
    "GROUP = 1\n",
    "COLUMNS = ['f1', 'f2', 'f3', 'f4', 'f5', 'label']\n",
    "N_CLASS = 3\n",
    "EPOCHS = 200\n",
    "train_dir, test_dir = \"..//dataset//training_data{}.txt\".format(GROUP), \"..//dataset//testing_data{}.txt\".format(GROUP)\n",
    "train, test = get_data(DATA, train_dir, COLUMNS), get_data(DATA, test_dir, COLUMNS)\n",
    "# shuffle\n",
    "train, test = train.sample(frac=1), test.sample(frac=1)\n",
    "x_train, y_train = train.drop('label', axis=1), train['label']\n",
    "x_test, y_test = test.drop('label', axis=1), test['label']"
   ]
  },
  {
   "cell_type": "code",
   "execution_count": 7,
   "metadata": {},
   "outputs": [],
   "source": [
    "# data scaling and encoding\n",
    "scaler = StandardScaler(['f1', 'f2', 'f3', 'f4', 'f5'])\n",
    "scaler.fit(x_train)\n",
    "x_train = scaler.transform(x_train)\n",
    "x_test = scaler.transform(x_test)\n",
    "y_train = one_hot_encoding(y_train, N_CLASS)\n",
    "y_test = one_hot_encoding(y_test, N_CLASS)"
   ]
  },
  {
   "cell_type": "code",
   "execution_count": 8,
   "metadata": {
    "tags": [
     "outputPrepend"
    ]
   },
   "outputs": [
    {
     "name": "stdout",
     "output_type": "stream",
     "text": [
      "Checkpoint 10, Accuracy: 0.8827160493827161, Loss: 0.6960762165210865\n",
      "Checkpoint 20, Accuracy: 0.9012345679012346, Loss: 0.5550303635773836\n",
      "Checkpoint 30, Accuracy: 0.9074074074074074, Loss: 0.5440833480269821\n",
      "Checkpoint 40, Accuracy: 0.9074074074074074, Loss: 0.5440833480269821\n",
      "Checkpoint 50, Accuracy: 0.9135802469135802, Loss: 0.47332484633834276\n",
      "Checkpoint 60, Accuracy: 0.9135802469135802, Loss: 0.4780051619918258\n",
      "Checkpoint 70, Accuracy: 0.9444444444444444, Loss: 0.3751980816876447\n",
      "Checkpoint 80, Accuracy: 0.9567901234567902, Loss: 0.33597727175112124\n",
      "Checkpoint 90, Accuracy: 0.9567901234567902, Loss: 0.29506487316555446\n",
      "Checkpoint 100, Accuracy: 0.9567901234567902, Loss: 0.25046232011583114\n",
      "Checkpoint 110, Accuracy: 0.9567901234567902, Loss: 0.2264526685078939\n",
      "Checkpoint 120, Accuracy: 0.9567901234567902, Loss: 0.1990942778410735\n",
      "Checkpoint 130, Accuracy: 0.9629629629629629, Loss: 0.1675179092972367\n",
      "Checkpoint 140, Accuracy: 0.9691358024691358, Loss: 0.15588774504484953\n",
      "Checkpoint 150, Accuracy: 0.9753086419753086, Loss: 0.1577167864199038\n",
      "Checkpoint 160, Accuracy: 0.9814814814814815, Loss: 0.13112031088935006\n",
      "Checkpoint 170, Accuracy: 0.9753086419753086, Loss: 0.1293172218181469\n",
      "Checkpoint 180, Accuracy: 0.9691358024691358, Loss: 0.1334257302460847\n",
      "Checkpoint 190, Accuracy: 0.9753086419753086, Loss: 0.12745147281222874\n",
      "Checkpoint 200, Accuracy: 0.9629629629629629, Loss: 0.12586939776385273\n"
     ]
    }
   ],
   "source": [
    "# learning phase\n",
    "breakpoint = 10\n",
    "checkpoints = list()\n",
    "history = list()\n",
    "for century in range(0, EPOCHS, breakpoint):\n",
    "    sub_history = model.fit(x_train, y_train, breakpoint, verbose = 0)\n",
    "    score = model.evaluate(x_test, y_test, False, verbose = 0)\n",
    "    print('Checkpoint {}, Accuracy: {}, Loss: {}'.format(century+breakpoint, score['accuracy'], score[model.loss_fn]))\n",
    "    score['checkpoint'] = century + breakpoint\n",
    "    checkpoints.append(score)\n",
    "    history.extend(sub_history)\n",
    "    itr = century + breakpoint\n",
    "    model.optimizer.c2 = np.max([model.optimizer.C2[1] - ((model.optimizer.C2[1] - model.optimizer.C2[0]) * itr / EPOCHS), model.optimizer.C2[0]])\n",
    "    model.optimizer.c1 = np.min([model.optimizer.C1[0] + ((model.optimizer.C1[1] - model.optimizer.C1[0]) * itr / EPOCHS), model.optimizer.C1[1]])\n",
    "    model.optimizer.w = np.max([model.optimizer.w * model.optimizer.W_Decay, model.optimizer.W[0]])"
   ]
  },
  {
   "cell_type": "code",
   "execution_count": 9,
   "metadata": {},
   "outputs": [],
   "source": [
    "import matplotlib.pyplot as plt\n",
    "\n",
    "def draw_plot(x, y_list, x_label=None, y_label=None, legend=None, title=None):\n",
    "    fig, ax = plt.subplots(figsize=(12,5))\n",
    "    for xi, yi in zip(x, y_list):\n",
    "        ax.plot(xi, yi)\n",
    "    if x_label is not None and y_label is not None:\n",
    "        ax.set(xlabel=x_label, ylabel=y_label, title='{} VS {}'.format(x_label, y_label))\n",
    "    if legend is not None:\n",
    "        ax.legend(legend)\n",
    "    ax.grid()\n",
    "    plt.show()"
   ]
  },
  {
   "cell_type": "code",
   "execution_count": 10,
   "metadata": {},
   "outputs": [],
   "source": [
    "train_acc = [h['accuracy'] for h in history]\n",
    "train_mse = [h['mean_square_error'] for h in history]\n",
    "train_cce = [h['categorical_crossentropy'] for h in history]"
   ]
  },
  {
   "cell_type": "code",
   "execution_count": 11,
   "metadata": {},
   "outputs": [
    {
     "data": {
      "image/png": "[encoded data removed]",
      "text/plain": [
       "<Figure size 864x360 with 1 Axes>"
      ]
     },
     "metadata": {
      "needs_background": "light"
     },
     "output_type": "display_data"
    },
    {
     "data": {
      "image/png": "[encoded data removed]",
      "text/plain": [
       "<Figure size 864x360 with 1 Axes>"
      ]
     },
     "metadata": {
      "needs_background": "light"
     },
     "output_type": "display_data"
    }
   ],
   "source": [
    "draw_plot(x = [[i for i in range(len(history))], [(i+1)*breakpoint for i in range(len(checkpoints))]], y_list = [train_cce, [ ckp[model.loss_fn] for ckp in checkpoints ]], x_label = 'Epochs', \\\n",
    "    y_label = model.loss_fn, legend=['train', 'test'])\n",
    "acc = [ ckp['accuracy'] for ckp in checkpoints ]\n",
    "draw_plot(x = [[i for i in range(len(history))], [(i+1)*breakpoint for i in range(len(checkpoints))]], y_list = [train_acc, acc], x_label = 'Checkpoints', \\\n",
    "    y_label = 'accuracy', legend=['train', 'test'])"
   ]
  },
  {
   "cell_type": "code",
   "execution_count": 12,
   "metadata": {},
   "outputs": [
    {
     "name": "stdout",
     "output_type": "stream",
     "text": [
      "[1. 0. 0.] <-> [0.98791134 0.003311   0.00877763]\n",
      "[0. 0. 1.] <-> [0.01225639 0.01255869 0.9751849 ]\n",
      "[1. 0. 0.] <-> [0.9834589  0.00142249 0.01511875]\n",
      "[1. 0. 0.] <-> [0.9546934  0.02831257 0.01699407]\n",
      "[1. 0. 0.] <-> [0.9703817  0.00333339 0.02628493]\n",
      "[1. 0. 0.] <-> [0.9871427  0.0025462  0.01031123]\n",
      "[1. 0. 0.] <-> [0.9718783  0.00178972 0.02633191]\n",
      "[1. 0. 0.] <-> [0.9553732  0.00281487 0.04181191]\n",
      "[1. 0. 0.] <-> [0.9760621  0.01646593 0.00747186]\n",
      "[1. 0. 0.] <-> [0.981385   0.00732222 0.01129281]\n",
      "[1. 0. 0.] <-> [0.9853182  0.00149296 0.01318895]\n",
      "[1. 0. 0.] <-> [9.8024464e-01 9.5195661e-04 1.8803351e-02]\n",
      "[1. 0. 0.] <-> [0.98028344 0.00173279 0.01798371]\n",
      "[1. 0. 0.] <-> [0.9657173  0.00146286 0.03281978]\n",
      "[1. 0. 0.] <-> [0.98647183 0.003183   0.01034522]\n",
      "[0. 0. 1.] <-> [0.01556011 0.01221143 0.97222847]\n",
      "[0. 1. 0.] <-> [6.2601687e-03 9.9283385e-01 9.0596959e-04]\n",
      "[1. 0. 0.] <-> [0.97796553 0.00401186 0.01802266]\n",
      "[0. 1. 0.] <-> [0.02013413 0.97870743 0.00115846]\n",
      "[0. 1. 0.] <-> [0.06032935 0.9377691  0.00190153]\n",
      "[0. 1. 0.] <-> [0.7487793  0.24301758 0.0082031 ]\n",
      "[1. 0. 0.] <-> [0.79396224 0.00682364 0.19921415]\n",
      "[0. 0. 1.] <-> [0.01219592 0.01255541 0.97524863]\n",
      "[1. 0. 0.] <-> [0.95334494 0.02802245 0.01863258]\n",
      "[1. 0. 0.] <-> [0.98051214 0.00163083 0.0178571 ]\n",
      "[1. 0. 0.] <-> [0.95413774 0.00196477 0.04389754]\n",
      "[1. 0. 0.] <-> [9.8591310e-01 7.5134495e-04 1.3335568e-02]\n",
      "[0. 1. 0.] <-> [1.14372885e-02 9.87600446e-01 9.62160062e-04]\n",
      "[1. 0. 0.] <-> [0.97799927 0.01093283 0.01106787]\n",
      "[1. 0. 0.] <-> [0.9832011  0.00253261 0.01426623]\n",
      "[0. 1. 0.] <-> [5.8414387e-03 9.9325871e-01 8.9982635e-04]\n",
      "[1. 0. 0.] <-> [9.8401493e-01 7.1497890e-04 1.5270087e-02]\n",
      "[1. 0. 0.] <-> [0.9692608  0.00113525 0.02960393]\n",
      "[1. 0. 0.] <-> [0.9772329  0.00896033 0.01380678]\n",
      "[1. 0. 0.] <-> [0.9810704  0.00237279 0.01655683]\n",
      "[1. 0. 0.] <-> [0.98580533 0.00123637 0.01295832]\n",
      "[0. 0. 1.] <-> [0.01224733 0.01256281 0.9751899 ]\n",
      "[1. 0. 0.] <-> [0.97857577 0.00247927 0.01894494]\n",
      "[1. 0. 0.] <-> [0.74882257 0.00846276 0.24271469]\n",
      "[1. 0. 0.] <-> [0.07774263 0.01249393 0.9097635 ]\n",
      "[0. 1. 0.] <-> [0.0376444  0.9609458  0.00140982]\n",
      "[0. 1. 0.] <-> [0.32627657 0.66620255 0.00752081]\n",
      "[1. 0. 0.] <-> [0.88214016 0.09908611 0.01877365]\n",
      "[1. 0. 0.] <-> [0.8866484  0.00298932 0.11036232]\n",
      "[0. 1. 0.] <-> [5.8014877e-03 9.9329925e-01 8.9925964e-04]\n",
      "[1. 0. 0.] <-> [0.9667535  0.00186265 0.03138392]\n",
      "[0. 0. 1.] <-> [0.0170714  0.01205873 0.9708699 ]\n",
      "[1. 0. 0.] <-> [0.98763055 0.00273404 0.00963542]\n",
      "[1. 0. 0.] <-> [0.9695407  0.00163238 0.02882685]\n",
      "[1. 0. 0.] <-> [0.9732616  0.0026357  0.02410269]\n",
      "[1. 0. 0.] <-> [0.49922532 0.01138041 0.48939425]\n",
      "[0. 0. 1.] <-> [0.01274353 0.01248991 0.97476655]\n",
      "[1. 0. 0.] <-> [0.97912186 0.00166118 0.01921693]\n",
      "[1. 0. 0.] <-> [0.95461124 0.00453015 0.04085857]\n",
      "[1. 0. 0.] <-> [9.8046118e-01 7.6129776e-04 1.8777627e-02]\n",
      "[1. 0. 0.] <-> [0.9854885  0.00161759 0.0128939 ]\n",
      "[1. 0. 0.] <-> [9.8603642e-01 8.3106931e-04 1.3132508e-02]\n",
      "[0. 0. 1.] <-> [0.01325127 0.01242692 0.97432184]\n",
      "[1. 0. 0.] <-> [0.9624611  0.01401317 0.02352574]\n",
      "[0. 0. 1.] <-> [0.5311014  0.00708181 0.4618168 ]\n",
      "[1. 0. 0.] <-> [0.89093363 0.00321138 0.10585498]\n",
      "[0. 1. 0.] <-> [0.5393129  0.45387876 0.00680838]\n",
      "[1. 0. 0.] <-> [0.9749843  0.00100244 0.02401321]\n",
      "[0. 1. 0.] <-> [0.01735216 0.9816373  0.0010106 ]\n",
      "[1. 0. 0.] <-> [0.98295903 0.00167743 0.01536355]\n",
      "[0. 1. 0.] <-> [0.2522541  0.743198   0.00454794]\n",
      "[1. 0. 0.] <-> [0.97649527 0.00277732 0.02072732]\n",
      "[1. 0. 0.] <-> [0.42344603 0.5675493  0.00900461]\n",
      "[1. 0. 0.] <-> [0.9691787  0.00238123 0.02844012]\n",
      "[0. 0. 1.] <-> [0.01223145 0.01255065 0.97521794]\n",
      "[0. 1. 0.] <-> [0.0576305  0.9405914  0.00177816]\n",
      "[1. 0. 0.] <-> [0.98104364 0.00179634 0.01716003]\n",
      "[1. 0. 0.] <-> [0.9146096  0.00347599 0.08191446]\n",
      "[1. 0. 0.] <-> [0.8730724  0.00707228 0.11985524]\n",
      "[1. 0. 0.] <-> [9.7668141e-01 9.1566454e-04 2.2402873e-02]\n",
      "[1. 0. 0.] <-> [0.80669683 0.00510503 0.18819812]\n",
      "[1. 0. 0.] <-> [0.98003834 0.00257341 0.01738827]\n",
      "[1. 0. 0.] <-> [0.9329916  0.00363857 0.06336971]\n",
      "[1. 0. 0.] <-> [9.7456622e-01 9.2331908e-04 2.4510557e-02]\n",
      "[1. 0. 0.] <-> [0.92001545 0.00258132 0.0774032 ]\n",
      "[1. 0. 0.] <-> [0.97792244 0.00564548 0.0164321 ]\n",
      "[1. 0. 0.] <-> [0.981516   0.00144117 0.01704283]\n",
      "[0. 1. 0.] <-> [1.16684735e-02 9.87353563e-01 9.77994176e-04]\n",
      "[1. 0. 0.] <-> [9.7963631e-01 9.4336289e-04 1.9420305e-02]\n",
      "[1. 0. 0.] <-> [9.8758066e-01 8.4376632e-04 1.1575540e-02]\n",
      "[1. 0. 0.] <-> [0.9833936  0.00138161 0.01522487]\n",
      "[1. 0. 0.] <-> [0.6313188  0.00865215 0.360029  ]\n",
      "[0. 1. 0.] <-> [0.02986919 0.9688084  0.00132234]\n",
      "[0. 0. 1.] <-> [0.77946126 0.00403154 0.2165072 ]\n",
      "[1. 0. 0.] <-> [0.9801941  0.0012809  0.01852501]\n",
      "[1. 0. 0.] <-> [0.98367494 0.00204731 0.01427775]\n",
      "[1. 0. 0.] <-> [0.9720248  0.00129084 0.02668436]\n",
      "[1. 0. 0.] <-> [0.9581277  0.00177617 0.04009615]\n",
      "[1. 0. 0.] <-> [0.9711671  0.00191984 0.02691303]\n",
      "[1. 0. 0.] <-> [0.9084171  0.00407237 0.0875105 ]\n",
      "[1. 0. 0.] <-> [0.97116673 0.00218616 0.02664715]\n",
      "[1. 0. 0.] <-> [0.9680224  0.00144831 0.03052929]\n",
      "[0. 0. 1.] <-> [0.01218884 0.01255591 0.9752552 ]\n",
      "[0. 0. 1.] <-> [0.01218887 0.01255572 0.9752554 ]\n",
      "[1. 0. 0.] <-> [0.9552848  0.00152659 0.04318868]\n",
      "[1. 0. 0.] <-> [0.9740184  0.00138435 0.02459723]\n",
      "[1. 0. 0.] <-> [0.98278356 0.00237774 0.01483873]\n",
      "[1. 0. 0.] <-> [9.8414087e-01 8.2323805e-04 1.5035894e-02]\n",
      "[0. 0. 1.] <-> [0.05197935 0.01091397 0.93710667]\n",
      "[1. 0. 0.] <-> [0.9205956  0.00235212 0.07705223]\n",
      "[1. 0. 0.] <-> [0.98586625 0.00347869 0.01065498]\n",
      "[1. 0. 0.] <-> [0.9774965  0.00641627 0.01608724]\n",
      "[1. 0. 0.] <-> [0.975864   0.01055516 0.01358086]\n",
      "{'accuracy': 0.9629629629629629, 'mean_square_error': 0.06953881308537471, 'categorical_crossentropy': 0.12586939776385273, 'essential_metrics': {0: {'tp_hit': 78, 'fp_hit': 4, 'tn_hit': 24, 'fn_hit': 2}, 1: {'tp_hit': 13, 'fp_hit': 1, 'tn_hit': 92, 'fn_hit': 2}, 2: {'tp_hit': 11, 'fp_hit': 1, 'tn_hit': 94, 'fn_hit': 2}}}\n"
     ]
    }
   ],
   "source": [
    "# recall phase\n",
    "score = model.evaluate(x_test, y_test, False)\n",
    "print(score)"
   ]
  },
  {
   "cell_type": "code",
   "execution_count": 13,
   "metadata": {},
   "outputs": [
    {
     "name": "stdout",
     "output_type": "stream",
     "text": [
      "{'accuracy': 0.8827160493827161, 'mean_square_error': 0.39927943192166626, 'categorical_crossentropy': 0.6960762165210865, 'essential_metrics': {0: {'tp_hit': 73, 'fp_hit': 12, 'tn_hit': 16, 'fn_hit': 7}, 1: {'tp_hit': 4, 'fp_hit': 4, 'tn_hit': 89, 'fn_hit': 11}, 2: {'tp_hit': 12, 'fp_hit': 3, 'tn_hit': 92, 'fn_hit': 1}}, 'checkpoint': 10} \n",
      "\n",
      "\n",
      "{'accuracy': 0.9012345679012346, 'mean_square_error': 0.30976080304867737, 'categorical_crossentropy': 0.5550303635773836, 'essential_metrics': {0: {'tp_hit': 77, 'fp_hit': 12, 'tn_hit': 16, 'fn_hit': 3}, 1: {'tp_hit': 5, 'fp_hit': 3, 'tn_hit': 90, 'fn_hit': 10}, 2: {'tp_hit': 10, 'fp_hit': 1, 'tn_hit': 94, 'fn_hit': 3}}, 'checkpoint': 20} \n",
      "\n",
      "\n",
      "{'accuracy': 0.9074074074074074, 'mean_square_error': 0.29987537092832917, 'categorical_crossentropy': 0.5440833480269821, 'essential_metrics': {0: {'tp_hit': 78, 'fp_hit': 12, 'tn_hit': 16, 'fn_hit': 2}, 1: {'tp_hit': 5, 'fp_hit': 2, 'tn_hit': 91, 'fn_hit': 10}, 2: {'tp_hit': 10, 'fp_hit': 1, 'tn_hit': 94, 'fn_hit': 3}}, 'checkpoint': 30} \n",
      "\n",
      "\n",
      "{'accuracy': 0.9074074074074074, 'mean_square_error': 0.29987537092832917, 'categorical_crossentropy': 0.5440833480269821, 'essential_metrics': {0: {'tp_hit': 78, 'fp_hit': 12, 'tn_hit': 16, 'fn_hit': 2}, 1: {'tp_hit': 5, 'fp_hit': 2, 'tn_hit': 91, 'fn_hit': 10}, 2: {'tp_hit': 10, 'fp_hit': 1, 'tn_hit': 94, 'fn_hit': 3}}, 'checkpoint': 40} \n",
      "\n",
      "\n",
      "{'accuracy': 0.9135802469135802, 'mean_square_error': 0.2452340924868296, 'categorical_crossentropy': 0.47332484633834276, 'essential_metrics': {0: {'tp_hit': 79, 'fp_hit': 13, 'tn_hit': 15, 'fn_hit': 1}, 1: {'tp_hit': 5, 'fp_hit': 0, 'tn_hit': 93, 'fn_hit': 10}, 2: {'tp_hit': 10, 'fp_hit': 1, 'tn_hit': 94, 'fn_hit': 3}}, 'checkpoint': 50} \n",
      "\n",
      "\n",
      "{'accuracy': 0.9135802469135802, 'mean_square_error': 0.24644952237695458, 'categorical_crossentropy': 0.4780051619918258, 'essential_metrics': {0: {'tp_hit': 78, 'fp_hit': 12, 'tn_hit': 16, 'fn_hit': 2}, 1: {'tp_hit': 6, 'fp_hit': 0, 'tn_hit': 93, 'fn_hit': 9}, 2: {'tp_hit': 10, 'fp_hit': 2, 'tn_hit': 93, 'fn_hit': 3}}, 'checkpoint': 60} \n",
      "\n",
      "\n",
      "{'accuracy': 0.9444444444444444, 'mean_square_error': 0.1775539132766546, 'categorical_crossentropy': 0.3751980816876447, 'essential_metrics': {0: {'tp_hit': 79, 'fp_hit': 8, 'tn_hit': 20, 'fn_hit': 1}, 1: {'tp_hit': 10, 'fp_hit': 0, 'tn_hit': 93, 'fn_hit': 5}, 2: {'tp_hit': 10, 'fp_hit': 1, 'tn_hit': 94, 'fn_hit': 3}}, 'checkpoint': 70} \n",
      "\n",
      "\n",
      "{'accuracy': 0.9567901234567902, 'mean_square_error': 0.15150923692477156, 'categorical_crossentropy': 0.33597727175112124, 'essential_metrics': {0: {'tp_hit': 80, 'fp_hit': 7, 'tn_hit': 21, 'fn_hit': 0}, 1: {'tp_hit': 11, 'fp_hit': 0, 'tn_hit': 93, 'fn_hit': 4}, 2: {'tp_hit': 10, 'fp_hit': 0, 'tn_hit': 95, 'fn_hit': 3}}, 'checkpoint': 80} \n",
      "\n",
      "\n",
      "{'accuracy': 0.9567901234567902, 'mean_square_error': 0.13724476367414418, 'categorical_crossentropy': 0.29506487316555446, 'essential_metrics': {0: {'tp_hit': 80, 'fp_hit': 7, 'tn_hit': 21, 'fn_hit': 0}, 1: {'tp_hit': 11, 'fp_hit': 0, 'tn_hit': 93, 'fn_hit': 4}, 2: {'tp_hit': 10, 'fp_hit': 0, 'tn_hit': 95, 'fn_hit': 3}}, 'checkpoint': 90} \n",
      "\n",
      "\n",
      "{'accuracy': 0.9567901234567902, 'mean_square_error': 0.11422350597272012, 'categorical_crossentropy': 0.25046232011583114, 'essential_metrics': {0: {'tp_hit': 80, 'fp_hit': 7, 'tn_hit': 21, 'fn_hit': 0}, 1: {'tp_hit': 11, 'fp_hit': 0, 'tn_hit': 93, 'fn_hit': 4}, 2: {'tp_hit': 10, 'fp_hit': 0, 'tn_hit': 95, 'fn_hit': 3}}, 'checkpoint': 100} \n",
      "\n",
      "\n",
      "{'accuracy': 0.9567901234567902, 'mean_square_error': 0.10292335866969271, 'categorical_crossentropy': 0.2264526685078939, 'essential_metrics': {0: {'tp_hit': 79, 'fp_hit': 6, 'tn_hit': 22, 'fn_hit': 1}, 1: {'tp_hit': 12, 'fp_hit': 0, 'tn_hit': 93, 'fn_hit': 3}, 2: {'tp_hit': 10, 'fp_hit': 1, 'tn_hit': 94, 'fn_hit': 3}}, 'checkpoint': 110} \n",
      "\n",
      "\n",
      "{'accuracy': 0.9567901234567902, 'mean_square_error': 0.09112234826096108, 'categorical_crossentropy': 0.1990942778410735, 'essential_metrics': {0: {'tp_hit': 79, 'fp_hit': 6, 'tn_hit': 22, 'fn_hit': 1}, 1: {'tp_hit': 12, 'fp_hit': 0, 'tn_hit': 93, 'fn_hit': 3}, 2: {'tp_hit': 10, 'fp_hit': 1, 'tn_hit': 94, 'fn_hit': 3}}, 'checkpoint': 120} \n",
      "\n",
      "\n",
      "{'accuracy': 0.9629629629629629, 'mean_square_error': 0.08053648004042839, 'categorical_crossentropy': 0.1675179092972367, 'essential_metrics': {0: {'tp_hit': 79, 'fp_hit': 5, 'tn_hit': 23, 'fn_hit': 1}, 1: {'tp_hit': 12, 'fp_hit': 0, 'tn_hit': 93, 'fn_hit': 3}, 2: {'tp_hit': 11, 'fp_hit': 1, 'tn_hit': 94, 'fn_hit': 2}}, 'checkpoint': 130} \n",
      "\n",
      "\n",
      "{'accuracy': 0.9691358024691358, 'mean_square_error': 0.0678673247372379, 'categorical_crossentropy': 0.15588774504484953, 'essential_metrics': {0: {'tp_hit': 79, 'fp_hit': 4, 'tn_hit': 24, 'fn_hit': 1}, 1: {'tp_hit': 13, 'fp_hit': 0, 'tn_hit': 93, 'fn_hit': 2}, 2: {'tp_hit': 11, 'fp_hit': 1, 'tn_hit': 94, 'fn_hit': 2}}, 'checkpoint': 140} \n",
      "\n",
      "\n",
      "{'accuracy': 0.9753086419753086, 'mean_square_error': 0.0728941285758742, 'categorical_crossentropy': 0.1577167864199038, 'essential_metrics': {0: {'tp_hit': 79, 'fp_hit': 3, 'tn_hit': 25, 'fn_hit': 1}, 1: {'tp_hit': 13, 'fp_hit': 0, 'tn_hit': 93, 'fn_hit': 2}, 2: {'tp_hit': 12, 'fp_hit': 1, 'tn_hit': 94, 'fn_hit': 1}}, 'checkpoint': 150} \n",
      "\n",
      "\n",
      "{'accuracy': 0.9814814814814815, 'mean_square_error': 0.06220726821771324, 'categorical_crossentropy': 0.13112031088935006, 'essential_metrics': {0: {'tp_hit': 79, 'fp_hit': 2, 'tn_hit': 26, 'fn_hit': 1}, 1: {'tp_hit': 14, 'fp_hit': 0, 'tn_hit': 93, 'fn_hit': 1}, 2: {'tp_hit': 12, 'fp_hit': 1, 'tn_hit': 94, 'fn_hit': 1}}, 'checkpoint': 160} \n",
      "\n",
      "\n",
      "{'accuracy': 0.9753086419753086, 'mean_square_error': 0.0675376371161443, 'categorical_crossentropy': 0.1293172218181469, 'essential_metrics': {0: {'tp_hit': 79, 'fp_hit': 3, 'tn_hit': 25, 'fn_hit': 1}, 1: {'tp_hit': 13, 'fp_hit': 0, 'tn_hit': 93, 'fn_hit': 2}, 2: {'tp_hit': 12, 'fp_hit': 1, 'tn_hit': 94, 'fn_hit': 1}}, 'checkpoint': 170} \n",
      "\n",
      "\n",
      "{'accuracy': 0.9691358024691358, 'mean_square_error': 0.06919051858388589, 'categorical_crossentropy': 0.1334257302460847, 'essential_metrics': {0: {'tp_hit': 78, 'fp_hit': 3, 'tn_hit': 25, 'fn_hit': 2}, 1: {'tp_hit': 13, 'fp_hit': 0, 'tn_hit': 93, 'fn_hit': 2}, 2: {'tp_hit': 12, 'fp_hit': 2, 'tn_hit': 93, 'fn_hit': 1}}, 'checkpoint': 180} \n",
      "\n",
      "\n",
      "{'accuracy': 0.9753086419753086, 'mean_square_error': 0.06793124454499913, 'categorical_crossentropy': 0.12745147281222874, 'essential_metrics': {0: {'tp_hit': 79, 'fp_hit': 3, 'tn_hit': 25, 'fn_hit': 1}, 1: {'tp_hit': 13, 'fp_hit': 0, 'tn_hit': 93, 'fn_hit': 2}, 2: {'tp_hit': 12, 'fp_hit': 1, 'tn_hit': 94, 'fn_hit': 1}}, 'checkpoint': 190} \n",
      "\n",
      "\n",
      "{'accuracy': 0.9629629629629629, 'mean_square_error': 0.06953881308537471, 'categorical_crossentropy': 0.12586939776385273, 'essential_metrics': {0: {'tp_hit': 78, 'fp_hit': 4, 'tn_hit': 24, 'fn_hit': 2}, 1: {'tp_hit': 13, 'fp_hit': 1, 'tn_hit': 92, 'fn_hit': 2}, 2: {'tp_hit': 11, 'fp_hit': 1, 'tn_hit': 94, 'fn_hit': 2}}, 'checkpoint': 200} \n",
      "\n",
      "\n"
     ]
    }
   ],
   "source": [
    "for checkpoint in checkpoints:\n",
    "    print(checkpoint, '\\n\\n')"
   ]
  },
  {
   "cell_type": "code",
   "execution_count": 14,
   "metadata": {},
   "outputs": [
    {
     "name": "stdout",
     "output_type": "stream",
     "text": [
      "Layer 1\n",
      "Neuron 0: weights:\n",
      "[-1.3765622   3.          1.5789236  -0.66983974 -0.7177741 ]\n",
      " bias: -1.4356845617294312\n",
      "\n",
      "Neuron 1: weights:\n",
      "[-2.4881713  3.         3.        -1.1908873 -1.4249115]\n",
      " bias: -3.0\n",
      "\n",
      "Neuron 2: weights:\n",
      "[-4.1296837e-04  3.0000000e+00  6.4529473e-01 -2.6821177e+00\n",
      " -3.0000000e+00]\n",
      " bias: 2.4607622623443604\n",
      "\n",
      "Neuron 3: weights:\n",
      "[-0.28999713  0.53701377  0.43435153  2.5879114   0.870931  ]\n",
      " bias: 0.45514997839927673\n",
      "\n",
      "$\n",
      "Layer 2\n",
      "Neuron 0: weights:\n",
      "[-1.0030323 -3.         3.        -1.1836376]\n",
      " bias: 2.3759262561798096\n",
      "\n",
      "Neuron 1: weights:\n",
      "[ 3.         3.        -1.3899243  3.       ]\n",
      " bias: -1.777756929397583\n",
      "\n",
      "Neuron 2: weights:\n",
      "[-3.         -0.80053294 -3.          2.5747411 ]\n",
      " bias: 3.0\n",
      "\n",
      "$\n",
      "\n"
     ]
    }
   ],
   "source": [
    "print(model)"
   ]
  }
 ],
 "metadata": {
  "kernelspec": {
   "display_name": "Python 3",
   "language": "python",
   "name": "python3"
  },
  "language_info": {
   "codemirror_mode": {
    "name": "ipython",
    "version": 3
   },
   "file_extension": ".py",
   "mimetype": "text/x-python",
   "name": "python",
   "nbconvert_exporter": "python",
   "pygments_lexer": "ipython3",
   "version": "3.6.12"
  }
 },
 "nbformat": 4,
 "nbformat_minor": 2
}
