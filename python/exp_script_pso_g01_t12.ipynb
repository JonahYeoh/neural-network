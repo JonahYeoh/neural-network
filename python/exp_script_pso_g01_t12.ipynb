{
 "cells": [
  {
   "cell_type": "code",
   "execution_count": 1,
   "metadata": {},
   "outputs": [],
   "source": [
    "# dependency\n",
    "import numpy as np\n",
    "import pandas as pd\n",
    "import copy\n",
    "import math\n",
    "import sys\n",
    "import os\n",
    "from activations import relu, leaky_relu, sigmoid, tanh, softmax, d_sigmoid, d_relu\n",
    "from initializers import glorot_uniform, random_normal, random_uniform\n",
    "from regularizers import l1_regularizer, l2_regularizer\n",
    "from utility import trim_tail, multiply, subtract, get_nparams, one_hot_encoding, get_data\n",
    "from metrics import MSE, CCE, ACC, PRECISION, RECALL, essential_metrics, wondering_penalty, close_gap_penalty\n",
    "from pso import PSO\n",
    "from ga import GA\n",
    "from nn import Network\n",
    "from layer import DenseLayer\n",
    "from scalers import MinMaxScaler, StandardScaler"
   ]
  },
  {
   "cell_type": "code",
   "execution_count": 2,
   "metadata": {},
   "outputs": [],
   "source": [
    "# reference\n",
    "metrics_fn_dict = dict()\n",
    "metrics_fn_dict['accuracy'] = ACC\n",
    "metrics_fn_dict['categorical_crossentropy'] = CCE\n",
    "metrics_fn_dict['mean_square_error'] = MSE\n",
    "metrics_fn_dict['precision'] = PRECISION\n",
    "metrics_fn_dict['recall'] = RECALL\n",
    "metrics_fn_dict['essential_metrics'] = essential_metrics"
   ]
  },
  {
   "cell_type": "code",
   "execution_count": 3,
   "metadata": {},
   "outputs": [],
   "source": [
    "# model\n",
    "model = Network(5, lr = None)\n",
    "model.add_layer(DenseLayer(1, 4, True, afn=sigmoid, dafn=None, rfn=None))\n",
    "model.add_layer(DenseLayer(2, 3, True, afn=softmax, dafn=None, rfn=None))"
   ]
  },
  {
   "cell_type": "code",
   "execution_count": 4,
   "metadata": {},
   "outputs": [
    {
     "name": "stdout",
     "output_type": "stream",
     "text": [
      "see one see two 2 2\n"
     ]
    }
   ],
   "source": [
    "pso = PSO(dict(m = 100,\n",
    "    weight_constraint = [-3, 3], \n",
    "    velocity_constraint = [-0.1, 0.1],\n",
    "    c1 = 2,\n",
    "    c2 = 2,\n",
    "    w = 1,\n",
    "    w_decay = 1,\n",
    "    scale_hyperparameter = False,\n",
    "    regularizer = None,\n",
    "    mask = True))"
   ]
  },
  {
   "cell_type": "code",
   "execution_count": 5,
   "metadata": {},
   "outputs": [
    {
     "name": "stdout",
     "output_type": "stream",
     "text": [
      "building layer 1 with 5\n",
      "24\n",
      "building layer 2 with 4\n",
      "15\n"
     ]
    }
   ],
   "source": [
    "model.compile(loss_fn = 'categorical_crossentropy', optimizer = pso, \\\n",
    "    metrics = ['accuracy', 'mean_square_error', 'categorical_crossentropy'])"
   ]
  },
  {
   "cell_type": "code",
   "execution_count": 6,
   "metadata": {},
   "outputs": [
    {
     "name": "stdout",
     "output_type": "stream",
     "text": [
      "<class 'pandas.core.frame.DataFrame'>\n",
      "RangeIndex: 107 entries, 0 to 106\n",
      "Data columns (total 6 columns):\n",
      " #   Column  Non-Null Count  Dtype  \n",
      "---  ------  --------------  -----  \n",
      " 0   f1      107 non-null    float32\n",
      " 1   f2      107 non-null    float32\n",
      " 2   f3      107 non-null    float32\n",
      " 3   f4      107 non-null    float32\n",
      " 4   f5      107 non-null    float32\n",
      " 5   label   107 non-null    float32\n",
      "dtypes: float32(6)\n",
      "memory usage: 2.6 KB\n",
      "None\n",
      "<class 'pandas.core.frame.DataFrame'>\n",
      "RangeIndex: 108 entries, 0 to 107\n",
      "Data columns (total 6 columns):\n",
      " #   Column  Non-Null Count  Dtype  \n",
      "---  ------  --------------  -----  \n",
      " 0   f1      108 non-null    float32\n",
      " 1   f2      108 non-null    float32\n",
      " 2   f3      108 non-null    float32\n",
      " 3   f4      108 non-null    float32\n",
      " 4   f5      108 non-null    float32\n",
      " 5   label   108 non-null    float32\n",
      "dtypes: float32(6)\n",
      "memory usage: 2.7 KB\n",
      "None\n"
     ]
    }
   ],
   "source": [
    "# data loading\n",
    "DATA = os.path.join('c:\\\\Users\\\\tcumi\\\\github_repo\\\\neural-network\\\\', 'dataset')\n",
    "GROUP = 1\n",
    "COLUMNS = ['f1', 'f2', 'f3', 'f4', 'f5', 'label']\n",
    "N_CLASS = 3\n",
    "EPOCHS = 500\n",
    "train_dir, test_dir = \"..//dataset//training_data{}.txt\".format(GROUP), \"..//dataset//testing_data{}.txt\".format(GROUP)\n",
    "train, test = get_data(DATA, train_dir, COLUMNS), get_data(DATA, test_dir, COLUMNS)\n",
    "# shuffle\n",
    "train, test = train.sample(frac=1), test.sample(frac=1)\n",
    "x_train, y_train = train.drop('label', axis=1), train['label']\n",
    "x_test, y_test = test.drop('label', axis=1), test['label']"
   ]
  },
  {
   "cell_type": "code",
   "execution_count": 7,
   "metadata": {},
   "outputs": [],
   "source": [
    "# data scaling and encoding\n",
    "scaler = StandardScaler(['f1', 'f2', 'f3', 'f4', 'f5'])\n",
    "scaler.fit(x_train)\n",
    "x_train = scaler.transform(x_train)\n",
    "x_test = scaler.transform(x_test)\n",
    "y_train = one_hot_encoding(y_train, N_CLASS)\n",
    "y_test = one_hot_encoding(y_test, N_CLASS)"
   ]
  },
  {
   "cell_type": "code",
   "execution_count": 8,
   "metadata": {
    "tags": [
     "outputPrepend"
    ]
   },
   "outputs": [
    {
     "name": "stdout",
     "output_type": "stream",
     "text": [
      "Checkpoint 100, Accuracy: 0.9629629629629629, Loss: 0.2138090486879702\n",
      "Checkpoint 200, Accuracy: 0.9753086419753086, Loss: 0.09384120835198297\n",
      "Checkpoint 300, Accuracy: 0.9691358024691358, Loss: 0.10393751109087909\n",
      "Checkpoint 400, Accuracy: 0.9691358024691358, Loss: 0.10401277188901548\n",
      "Checkpoint 500, Accuracy: 0.9691358024691358, Loss: 0.10308681594000922\n"
     ]
    }
   ],
   "source": [
    "# learning phase\n",
    "breakpoint = 100\n",
    "checkpoints = list()\n",
    "history = list()\n",
    "for century in range(0, EPOCHS, breakpoint):\n",
    "    sub_history = model.fit(x_train, y_train, breakpoint, verbose = 0)\n",
    "    score = model.evaluate(x_test, y_test, False, verbose = 0)\n",
    "    print('Checkpoint {}, Accuracy: {}, Loss: {}'.format(century+breakpoint, score['accuracy'], score[model.loss_fn]))\n",
    "    score['checkpoint'] = century + breakpoint\n",
    "    checkpoints.append(score)\n",
    "    history.extend(sub_history)"
   ]
  },
  {
   "cell_type": "code",
   "execution_count": 9,
   "metadata": {},
   "outputs": [],
   "source": [
    "import matplotlib.pyplot as plt\n",
    "\n",
    "def draw_plot(x, y_list, x_label=None, y_label=None, legend=None, title=None):\n",
    "    fig, ax = plt.subplots(figsize=(12,5))\n",
    "    for xi, yi in zip(x, y_list):\n",
    "        ax.plot(xi, yi)\n",
    "    if x_label is not None and y_label is not None:\n",
    "        ax.set(xlabel=x_label, ylabel=y_label, title='{} VS {}'.format(x_label, y_label))\n",
    "    if legend is not None:\n",
    "        ax.legend(legend)\n",
    "    ax.grid()\n",
    "    plt.show()"
   ]
  },
  {
   "cell_type": "code",
   "execution_count": 10,
   "metadata": {},
   "outputs": [
    {
     "name": "stdout",
     "output_type": "stream",
     "text": [
      "[1. 0. 0.] <-> [0.99734336 0.00126721 0.00138948]\n",
      "[0. 1. 0.] <-> [7.9261409e-03 9.9206442e-01 9.4019915e-06]\n",
      "[1. 0. 0.] <-> [0.9958418  0.0022263  0.00193182]\n",
      "[1. 0. 0.] <-> [0.99305624 0.00152063 0.00542312]\n",
      "[1. 0. 0.] <-> [0.99705875 0.00132534 0.00161589]\n",
      "[1. 0. 0.] <-> [0.9926564  0.00171399 0.00562958]\n",
      "[1. 0. 0.] <-> [0.9972777  0.00127506 0.00144731]\n",
      "[0. 0. 1.] <-> [5.2092285e-03 1.0686064e-04 9.9468392e-01]\n",
      "[1. 0. 0.] <-> [0.9966629  0.00179332 0.00154377]\n",
      "[1. 0. 0.] <-> [0.99474996 0.00146521 0.00378477]\n",
      "[0. 0. 1.] <-> [1.20742254e-01 8.34390288e-04 8.78423393e-01]\n",
      "[1. 0. 0.] <-> [0.99621046 0.00162867 0.00216091]\n",
      "[0. 1. 0.] <-> [6.0741534e-03 9.9391878e-01 7.1671625e-06]\n",
      "[1. 0. 0.] <-> [0.99539465 0.00159634 0.00300904]\n",
      "[1. 0. 0.] <-> [0.99646854 0.00187122 0.00166022]\n",
      "[1. 0. 0.] <-> [0.99705875 0.0012563  0.0016849 ]\n",
      "[1. 0. 0.] <-> [0.9925761  0.00160487 0.00581909]\n",
      "[1. 0. 0.] <-> [0.9966642  0.00202392 0.00131177]\n",
      "[0. 1. 0.] <-> [6.2768064e-03 9.9371582e-01 7.3835795e-06]\n",
      "[1. 0. 0.] <-> [0.3363902  0.00183622 0.66177356]\n",
      "[1. 0. 0.] <-> [0.9937318  0.00146766 0.00480055]\n",
      "[1. 0. 0.] <-> [0.9963923  0.00124525 0.00236242]\n",
      "[0. 0. 1.] <-> [0.5883084  0.00369115 0.40800044]\n",
      "[0. 1. 0.] <-> [6.0743317e-03 9.9391854e-01 7.1288364e-06]\n",
      "[1. 0. 0.] <-> [0.9957873  0.00136492 0.00284783]\n",
      "[1. 0. 0.] <-> [0.9942128  0.00173514 0.00405203]\n",
      "[1. 0. 0.] <-> [0.95718277 0.00244181 0.04037536]\n",
      "[1. 0. 0.] <-> [0.9971199  0.00153185 0.00134827]\n",
      "[1. 0. 0.] <-> [0.9960227  0.00236625 0.00161099]\n",
      "[1. 0. 0.] <-> [0.99702317 0.00158038 0.00139641]\n",
      "[0. 0. 1.] <-> [5.2092089e-03 1.0686033e-04 9.9468392e-01]\n",
      "[0. 0. 1.] <-> [5.5060405e-03 1.1139614e-04 9.9438250e-01]\n",
      "[1. 0. 0.] <-> [0.99431384 0.00138957 0.00429669]\n",
      "[1. 0. 0.] <-> [0.9965295  0.00214634 0.00132426]\n",
      "[0. 0. 1.] <-> [5.6534917e-03 1.1634573e-04 9.9423015e-01]\n",
      "[0. 0. 1.] <-> [6.4033014e-03 1.2569073e-04 9.9347103e-01]\n",
      "[1. 0. 0.] <-> [0.99290764 0.00152077 0.00557167]\n",
      "[1. 0. 0.] <-> [0.99685436 0.00140766 0.00173793]\n",
      "[0. 0. 1.] <-> [5.2092089e-03 1.0686033e-04 9.9468392e-01]\n",
      "[1. 0. 0.] <-> [0.9950418  0.00368724 0.00127095]\n",
      "[1. 0. 0.] <-> [0.8719887  0.00276175 0.12524961]\n",
      "[1. 0. 0.] <-> [0.9580908  0.00234539 0.03956381]\n",
      "[1. 0. 0.] <-> [0.9956115  0.00206734 0.00232119]\n",
      "[1. 0. 0.] <-> [0.9795109  0.0019519  0.01853716]\n",
      "[1. 0. 0.] <-> [0.9687223  0.00234909 0.02892855]\n",
      "[0. 1. 0.] <-> [1.0592197e-02 9.8939532e-01 1.2455033e-05]\n",
      "[1. 0. 0.] <-> [0.99683076 0.00153    0.00163926]\n",
      "[1. 0. 0.] <-> [0.9960614  0.00126915 0.0026695 ]\n",
      "[0. 1. 0.] <-> [4.059826e-01 5.935382e-01 4.791778e-04]\n",
      "[1. 0. 0.] <-> [0.9965654  0.00206278 0.0013718 ]\n",
      "[0. 1. 0.] <-> [1.1152834e-02 9.8883384e-01 1.3298290e-05]\n",
      "[1. 0. 0.] <-> [0.9915194  0.00145868 0.00702188]\n",
      "[1. 0. 0.] <-> [0.99643373 0.00225247 0.0013138 ]\n",
      "[1. 0. 0.] <-> [0.9960854  0.00129056 0.002624  ]\n",
      "[0. 1. 0.] <-> [2.875927e-01 7.120510e-01 3.562765e-04]\n",
      "[1. 0. 0.] <-> [0.9924971  0.00622861 0.00127442]\n",
      "[1. 0. 0.] <-> [0.61457527 0.00236708 0.38305774]\n",
      "[0. 1. 0.] <-> [1.2737356e-01 8.7247634e-01 1.5003297e-04]\n",
      "[1. 0. 0.] <-> [0.9959804  0.0014596  0.00256004]\n",
      "[0. 1. 0.] <-> [6.1081764e-03 9.9388462e-01 7.1834070e-06]\n",
      "[1. 0. 0.] <-> [0.9947482  0.00155114 0.00370059]\n",
      "[1. 0. 0.] <-> [0.98824805 0.01051781 0.00123421]\n",
      "[0. 1. 0.] <-> [0.63260996 0.36664572 0.0007443 ]\n",
      "[1. 0. 0.] <-> [0.9873985  0.00149009 0.01111148]\n",
      "[1. 0. 0.] <-> [0.99669987 0.00127889 0.00202114]\n",
      "[1. 0. 0.] <-> [0.9905425  0.00165072 0.00780691]\n",
      "[1. 0. 0.] <-> [0.97939473 0.00180562 0.01879967]\n",
      "[0. 1. 0.] <-> [1.8635457e-02 9.8134226e-01 2.2223991e-05]\n",
      "[0. 0. 1.] <-> [5.2442076e-03 1.0746283e-04 9.9464828e-01]\n",
      "[1. 0. 0.] <-> [0.9971089  0.00125236 0.00163878]\n",
      "[0. 0. 1.] <-> [5.20998519e-03 1.06873405e-04 9.94683206e-01]\n",
      "[1. 0. 0.] <-> [0.99681    0.00152134 0.00166859]\n",
      "[1. 0. 0.] <-> [0.9430927  0.00279948 0.0541078 ]\n",
      "[1. 0. 0.] <-> [0.996356   0.00230874 0.00133526]\n",
      "[1. 0. 0.] <-> [0.9005143  0.00376609 0.09571962]\n",
      "[1. 0. 0.] <-> [0.98644304 0.01231486 0.00124214]\n",
      "[1. 0. 0.] <-> [0.99676764 0.0018492  0.00138329]\n",
      "[1. 0. 0.] <-> [0.9914717  0.0016901  0.00683822]\n",
      "[1. 0. 0.] <-> [0.9006262  0.00254424 0.09682948]\n",
      "[0. 1. 0.] <-> [3.8897250e-02 9.6105701e-01 4.5768178e-05]\n",
      "[0. 1. 0.] <-> [6.362528e-03 9.936300e-01 7.467078e-06]\n",
      "[1. 0. 0.] <-> [0.9903653  0.00753832 0.00209642]\n",
      "[0. 0. 1.] <-> [5.21751214e-03 1.07043226e-04 9.94675398e-01]\n",
      "[0. 1. 0.] <-> [6.0741217e-03 9.9391878e-01 7.1271656e-06]\n",
      "[1. 0. 0.] <-> [0.9403881  0.05839818 0.00121371]\n",
      "[1. 0. 0.] <-> [0.9915023  0.00732125 0.00117656]\n",
      "[1. 0. 0.] <-> [0.9807998  0.00205304 0.0171472 ]\n",
      "[1. 0. 0.] <-> [0.91055125 0.08822828 0.00122046]\n",
      "[1. 0. 0.] <-> [0.99702054 0.00133741 0.00164198]\n",
      "[0. 0. 1.] <-> [5.2093375e-03 1.0686287e-04 9.9468380e-01]\n",
      "[0. 0. 1.] <-> [5.3071706e-03 1.0864897e-04 9.9458414e-01]\n",
      "[1. 0. 0.] <-> [0.98882383 0.00175827 0.00941794]\n",
      "[1. 0. 0.] <-> [0.99631643 0.0024769  0.00120664]\n",
      "[1. 0. 0.] <-> [0.99629116 0.00241032 0.00129866]\n",
      "[1. 0. 0.] <-> [1.5611044e-02 2.2948037e-04 9.8415947e-01]\n",
      "[1. 0. 0.] <-> [0.9948284  0.00129628 0.00387532]\n",
      "[1. 0. 0.] <-> [0.9951881  0.00346633 0.00134559]\n",
      "[1. 0. 0.] <-> [0.99455065 0.00141394 0.00403541]\n",
      "[1. 0. 0.] <-> [0.9917418  0.00165507 0.00660324]\n",
      "[1. 0. 0.] <-> [0.99633765 0.00246098 0.00120139]\n",
      "[1. 0. 0.] <-> [0.9948966  0.00144374 0.00365972]\n",
      "[1. 0. 0.] <-> [0.99596834 0.00122263 0.00280904]\n",
      "[1. 0. 0.] <-> [0.95879865 0.00217419 0.0390272 ]\n",
      "[1. 0. 0.] <-> [0.99671954 0.00144309 0.00183741]\n",
      "[1. 0. 0.] <-> [3.8838029e-01 6.1114401e-01 4.7575767e-04]\n",
      "[1. 0. 0.] <-> [0.9953591  0.00148124 0.00315968]\n",
      "[1. 0. 0.] <-> [0.8760751  0.00255817 0.12136677]\n",
      "[1. 0. 0.] <-> [0.99576974 0.00160484 0.0026254 ]\n",
      "{'accuracy': 0.9691358024691358, 'mean_square_error': 0.05617270734807138, 'categorical_crossentropy': 0.10308681594000922, 'essential_metrics': {0: {'tp_hit': 77, 'fp_hit': 2, 'tn_hit': 26, 'fn_hit': 3}, 1: {'tp_hit': 14, 'fp_hit': 1, 'tn_hit': 92, 'fn_hit': 1}, 2: {'tp_hit': 12, 'fp_hit': 2, 'tn_hit': 93, 'fn_hit': 1}}}\n"
     ]
    }
   ],
   "source": [
    "# recall phase\n",
    "score = model.evaluate(x_test, y_test, False)\n",
    "print(score)"
   ]
  },
  {
   "cell_type": "code",
   "execution_count": 11,
   "metadata": {},
   "outputs": [
    {
     "data": {
      "image/png": "[encoded data removed]",
      "text/plain": [
       "<Figure size 864x360 with 1 Axes>"
      ]
     },
     "metadata": {
      "needs_background": "light"
     },
     "output_type": "display_data"
    },
    {
     "data": {
      "image/png": "[encoded data removed]",
      "text/plain": [
       "<Figure size 864x360 with 1 Axes>"
      ]
     },
     "metadata": {
      "needs_background": "light"
     },
     "output_type": "display_data"
    }
   ],
   "source": [
    "draw_plot(x = [[i for i in range(len(history))], [(i+1)*breakpoint for i in range(len(checkpoints))]], y_list = [history, [ ckp[model.loss_fn] for ckp in checkpoints ]], x_label = 'Epochs', \\\n",
    "    y_label = model.loss_fn, legend=['train', 'test'])\n",
    "acc = [ ckp['accuracy'] for ckp in checkpoints ]\n",
    "draw_plot(x = [[(i+1)*breakpoint for i in range(len(checkpoints))]], y_list = [acc], x_label = 'Checkpoints', \\\n",
    "    y_label = 'accuracy')"
   ]
  },
  {
   "cell_type": "code",
   "execution_count": 12,
   "metadata": {},
   "outputs": [
    {
     "name": "stdout",
     "output_type": "stream",
     "text": [
      "{'accuracy': 0.9629629629629629, 'mean_square_error': 0.09989655993015588, 'categorical_crossentropy': 0.2138090486879702, 'essential_metrics': {0: {'tp_hit': 80, 'fp_hit': 6, 'tn_hit': 22, 'fn_hit': 0}, 1: {'tp_hit': 12, 'fp_hit': 0, 'tn_hit': 93, 'fn_hit': 3}, 2: {'tp_hit': 10, 'fp_hit': 0, 'tn_hit': 95, 'fn_hit': 3}}, 'checkpoint': 100} \n",
      "\n",
      "\n",
      "{'accuracy': 0.9753086419753086, 'mean_square_error': 0.04879174568155399, 'categorical_crossentropy': 0.09384120835198297, 'essential_metrics': {0: {'tp_hit': 78, 'fp_hit': 2, 'tn_hit': 26, 'fn_hit': 2}, 1: {'tp_hit': 14, 'fp_hit': 1, 'tn_hit': 92, 'fn_hit': 1}, 2: {'tp_hit': 12, 'fp_hit': 1, 'tn_hit': 94, 'fn_hit': 1}}, 'checkpoint': 200} \n",
      "\n",
      "\n",
      "{'accuracy': 0.9691358024691358, 'mean_square_error': 0.05728259227024813, 'categorical_crossentropy': 0.10393751109087909, 'essential_metrics': {0: {'tp_hit': 77, 'fp_hit': 2, 'tn_hit': 26, 'fn_hit': 3}, 1: {'tp_hit': 14, 'fp_hit': 1, 'tn_hit': 92, 'fn_hit': 1}, 2: {'tp_hit': 12, 'fp_hit': 2, 'tn_hit': 93, 'fn_hit': 1}}, 'checkpoint': 300} \n",
      "\n",
      "\n",
      "{'accuracy': 0.9691358024691358, 'mean_square_error': 0.056861362278109874, 'categorical_crossentropy': 0.10401277188901548, 'essential_metrics': {0: {'tp_hit': 77, 'fp_hit': 2, 'tn_hit': 26, 'fn_hit': 3}, 1: {'tp_hit': 14, 'fp_hit': 1, 'tn_hit': 92, 'fn_hit': 1}, 2: {'tp_hit': 12, 'fp_hit': 2, 'tn_hit': 93, 'fn_hit': 1}}, 'checkpoint': 400} \n",
      "\n",
      "\n",
      "{'accuracy': 0.9691358024691358, 'mean_square_error': 0.05617270734807138, 'categorical_crossentropy': 0.10308681594000922, 'essential_metrics': {0: {'tp_hit': 77, 'fp_hit': 2, 'tn_hit': 26, 'fn_hit': 3}, 1: {'tp_hit': 14, 'fp_hit': 1, 'tn_hit': 92, 'fn_hit': 1}, 2: {'tp_hit': 12, 'fp_hit': 2, 'tn_hit': 93, 'fn_hit': 1}}, 'checkpoint': 500} \n",
      "\n",
      "\n"
     ]
    }
   ],
   "source": [
    "for checkpoint in checkpoints:\n",
    "    print(checkpoint, '\\n\\n')"
   ]
  },
  {
   "cell_type": "code",
   "execution_count": 13,
   "metadata": {},
   "outputs": [
    {
     "name": "stdout",
     "output_type": "stream",
     "text": [
      "Layer 1\n",
      "Neuron 0: weights:\n",
      "[-0.05786256  3.         -0.08902906 -1.006664   -3.        ]\n",
      " bias: 2.5319550037384033\n",
      "\n",
      "Neuron 1: weights:\n",
      "[-0.00371378  3.          1.1213567  -1.4537096  -3.        ]\n",
      " bias: 3.0\n",
      "\n",
      "Neuron 2: weights:\n",
      "[ 1.9100348 -3.        -3.        -1.460016   2.5175054]\n",
      " bias: 3.0\n",
      "\n",
      "Neuron 3: weights:\n",
      "[-1.8835068  3.         1.4993159  0.6140834 -2.8757243]\n",
      " bias: -3.0\n",
      "\n",
      "$\n",
      "Layer 2\n",
      "Neuron 0: weights:\n",
      "[ 3.  3.  3. -3.]\n",
      " bias: -3.0\n",
      "\n",
      "Neuron 1: weights:\n",
      "[ 3.         -0.01568573 -3.          3.        ]\n",
      " bias: -0.886660635471344\n",
      "\n",
      "Neuron 2: weights:\n",
      "[-3. -3.  3. -3.]\n",
      " bias: 2.251997232437134\n",
      "\n",
      "$\n",
      "\n"
     ]
    }
   ],
   "source": [
    "print(model)"
   ]
  }
 ],
 "metadata": {
  "kernelspec": {
   "display_name": "Python 3",
   "language": "python",
   "name": "python3"
  },
  "language_info": {
   "codemirror_mode": {
    "name": "ipython",
    "version": 3
   },
   "file_extension": ".py",
   "mimetype": "text/x-python",
   "name": "python",
   "nbconvert_exporter": "python",
   "pygments_lexer": "ipython3",
   "version": "3.6.10"
  }
 },
 "nbformat": 4,
 "nbformat_minor": 2
}
