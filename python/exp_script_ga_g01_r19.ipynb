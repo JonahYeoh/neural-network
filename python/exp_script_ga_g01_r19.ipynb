{
 "cells": [
  {
   "cell_type": "code",
   "execution_count": 1,
   "metadata": {},
   "outputs": [],
   "source": [
    "# two"
   ]
  },
  {
   "cell_type": "code",
   "execution_count": 2,
   "metadata": {},
   "outputs": [],
   "source": [
    "# dependency\n",
    "import numpy as np\n",
    "import pandas as pd\n",
    "import copy\n",
    "import math\n",
    "import sys\n",
    "import os\n",
    "from activations import relu, leaky_relu, sigmoid, tanh, softmax, d_sigmoid, d_relu\n",
    "from initializers import glorot_uniform, random_normal, random_uniform\n",
    "from regularizers import l1_regularizer, l2_regularizer\n",
    "from utility import trim_tail, multiply, subtract, get_nparams, one_hot_encoding, get_data\n",
    "from metrics import MSE, CCE, ACC, PRECISION, RECALL, essential_metrics, wondering_penalty, close_gap_penalty\n",
    "from pso import PSO\n",
    "from ga import GA\n",
    "from nn import Network\n",
    "from layer import DenseLayer\n",
    "from scalers import MinMaxScaler, StandardScaler"
   ]
  },
  {
   "cell_type": "code",
   "execution_count": 3,
   "metadata": {},
   "outputs": [],
   "source": [
    "# reference\n",
    "metrics_fn_dict = dict()\n",
    "metrics_fn_dict['accuracy'] = ACC\n",
    "metrics_fn_dict['categorical_crossentropy'] = CCE\n",
    "metrics_fn_dict['mean_square_error'] = MSE\n",
    "metrics_fn_dict['precision'] = PRECISION\n",
    "metrics_fn_dict['recall'] = RECALL\n",
    "metrics_fn_dict['essential_metrics'] = essential_metrics"
   ]
  },
  {
   "cell_type": "code",
   "execution_count": 4,
   "metadata": {},
   "outputs": [],
   "source": [
    "# model\n",
    "model = Network(5, lr = None)\n",
    "model.add_layer(DenseLayer(1, 4, True, afn=sigmoid, dafn=None, rfn=None))\n",
    "model.add_layer(DenseLayer(2, 3, True, afn=softmax, dafn=None, rfn=None))"
   ]
  },
  {
   "cell_type": "code",
   "execution_count": 5,
   "metadata": {},
   "outputs": [],
   "source": [
    "# optimizer\n",
    "ga = GA(\n",
    "    dict(\n",
    "        m = 50,\n",
    "        x_rate = [0.5, 1.0],\n",
    "        m_rate = [0.5, 1.0],\n",
    "        weight_constraint = [-3.,3.],\n",
    "        radioactive_rating = [0.1, 0.5],\n",
    "        grow_factor = [0.1, 0.5],\n",
    "        scale_hyperparameter = False,\n",
    "        regularizer = l2_regularizer))"
   ]
  },
  {
   "cell_type": "code",
   "execution_count": 6,
   "metadata": {},
   "outputs": [
    {
     "name": "stdout",
     "output_type": "stream",
     "text": [
      "building layer 1 with 5\n",
      "24\n",
      "building layer 2 with 4\n",
      "15\n"
     ]
    }
   ],
   "source": [
    "model.compile(loss_fn = 'categorical_crossentropy', optimizer = ga, \\\n",
    "    metrics = ['accuracy', 'mean_square_error', 'categorical_crossentropy', 'precision', 'recall', 'f1'])"
   ]
  },
  {
   "cell_type": "code",
   "execution_count": 7,
   "metadata": {},
   "outputs": [
    {
     "name": "stdout",
     "output_type": "stream",
     "text": [
      "<class 'pandas.core.frame.DataFrame'>\n",
      "RangeIndex: 107 entries, 0 to 106\n",
      "Data columns (total 6 columns):\n",
      " #   Column  Non-Null Count  Dtype  \n",
      "---  ------  --------------  -----  \n",
      " 0   f1      107 non-null    float32\n",
      " 1   f2      107 non-null    float32\n",
      " 2   f3      107 non-null    float32\n",
      " 3   f4      107 non-null    float32\n",
      " 4   f5      107 non-null    float32\n",
      " 5   label   107 non-null    float32\n",
      "dtypes: float32(6)\n",
      "memory usage: 2.6 KB\n",
      "None\n",
      "<class 'pandas.core.frame.DataFrame'>\n",
      "RangeIndex: 108 entries, 0 to 107\n",
      "Data columns (total 6 columns):\n",
      " #   Column  Non-Null Count  Dtype  \n",
      "---  ------  --------------  -----  \n",
      " 0   f1      108 non-null    float32\n",
      " 1   f2      108 non-null    float32\n",
      " 2   f3      108 non-null    float32\n",
      " 3   f4      108 non-null    float32\n",
      " 4   f5      108 non-null    float32\n",
      " 5   label   108 non-null    float32\n",
      "dtypes: float32(6)\n",
      "memory usage: 2.7 KB\n",
      "None\n"
     ]
    }
   ],
   "source": [
    "# data loading\n",
    "DATA = os.path.join('c:\\\\Users\\\\tcumi\\\\github_repo\\\\neural-network\\\\', 'dataset')\n",
    "GROUP = 1\n",
    "COLUMNS = ['f1', 'f2', 'f3', 'f4', 'f5', 'label']\n",
    "N_CLASS = 3\n",
    "EPOCHS = 500\n",
    "train_dir, test_dir = \"..//dataset//training_data{}.txt\".format(GROUP), \"..//dataset//testing_data{}.txt\".format(GROUP)\n",
    "train, test = get_data(DATA, train_dir, COLUMNS), get_data(DATA, test_dir, COLUMNS)\n",
    "# shuffle\n",
    "train, test = train.sample(frac=1), test.sample(frac=1)\n",
    "x_train, y_train = train.drop('label', axis=1), train['label']\n",
    "x_test, y_test = test.drop('label', axis=1), test['label']"
   ]
  },
  {
   "cell_type": "code",
   "execution_count": 8,
   "metadata": {},
   "outputs": [],
   "source": [
    "# data scaling and encoding\n",
    "scaler = StandardScaler(['f1', 'f2', 'f3', 'f4', 'f5'])\n",
    "scaler.fit(x_train)\n",
    "x_train = scaler.transform(x_train)\n",
    "x_test = scaler.transform(x_test)\n",
    "y_train = one_hot_encoding(y_train, N_CLASS)\n",
    "y_test = one_hot_encoding(y_test, N_CLASS)"
   ]
  },
  {
   "cell_type": "code",
   "execution_count": 9,
   "metadata": {
    "scrolled": true,
    "tags": [
     "outputPrepend"
    ]
   },
   "outputs": [
    {
     "name": "stderr",
     "output_type": "stream",
     "text": [
      "C:\\Users\\tcumi\\Anaconda3\\envs\\py_3_6\\lib\\site-packages\\numpy\\core\\fromnumeric.py:87: VisibleDeprecationWarning: Creating an ndarray from ragged nested sequences (which is a list-or-tuple of lists-or-tuples-or ndarrays with different lengths or shapes) is deprecated. If you meant to do this, you must specify 'dtype=object' when creating the ndarray\n",
      "  return ufunc.reduce(obj, axis, dtype, out, **passkwargs)\n",
      "C:\\Users\\tcumi\\github_repo\\neural-network\\python\\ga.py:201: RuntimeWarning: overflow encountered in add\n",
      "  self.population.sort(key=lambda p: p.fitness + np.random.uniform(-shift, shift, 1), reverse = self.aim)\n",
      "C:\\Users\\tcumi\\Anaconda3\\envs\\py_3_6\\lib\\site-packages\\numpy\\core\\_asarray.py:136: VisibleDeprecationWarning: Creating an ndarray from ragged nested sequences (which is a list-or-tuple of lists-or-tuples-or ndarrays with different lengths or shapes) is deprecated. If you meant to do this, you must specify 'dtype=object' when creating the ndarray\n",
      "  return array(a, dtype, copy=False, order=order, subok=True)\n"
     ]
    },
    {
     "name": "stdout",
     "output_type": "stream",
     "text": [
      "Checkpoint 100, Accuracy: 0.9259259259259259, Loss: 0.3467540034541377\n",
      "Checkpoint 200, Accuracy: 0.9506172839506173, Loss: 0.35741011301676434\n",
      "Checkpoint 300, Accuracy: 0.9506172839506173, Loss: 0.35106609485767504\n",
      "Checkpoint 400, Accuracy: 0.9444444444444444, Loss: 0.35512507403338395\n",
      "Checkpoint 500, Accuracy: 0.9382716049382716, Loss: 0.3524825484664352\n"
     ]
    }
   ],
   "source": [
    "# learning phase\n",
    "breakpoint = 100\n",
    "checkpoints = list()\n",
    "history = list()\n",
    "for century in range(0, EPOCHS, breakpoint):\n",
    "    sub_history = model.fit(x_train, y_train, breakpoint, verbose = 0)\n",
    "    score = model.evaluate(x_test, y_test, False, verbose = 0)\n",
    "    print('Checkpoint {}, Accuracy: {}, Loss: {}'.format(century+breakpoint, score['accuracy'], score[model.loss_fn]))\n",
    "    score['checkpoint'] = century + breakpoint\n",
    "    checkpoints.append(score)\n",
    "    history.extend(sub_history)\n",
    "    itr = century + breakpoint\n",
    "    '''\n",
    "    model.optimizer.rr = model.optimizer.rr * 0.9\n",
    "    model.optimizer.gf = model.optimizer.gf * 0.9\n",
    "    model.optimizer.crossover_rate = model.optimizer.crossover_rate * 0.9\n",
    "    model.optimizer.mutation_rate = model.optimizer.mutation_rate * 1.1\n",
    "    '''\n",
    "    model.optimizer.rr = model.optimizer.radioactive_rating[1] - (model.optimizer.radioactive_rating[1] - model.optimizer.radioactive_rating[0]) / EPOCHS * (EPOCHS - itr)\n",
    "    model.optimizer.gf = model.optimizer.grow_factor[1] - (model.optimizer.grow_factor[1] - model.optimizer.grow_factor[0]) / EPOCHS * (EPOCHS - itr)\n",
    "    model.optimizer.crossover_rate = model.optimizer.x_rate[1] - (model.optimizer.x_rate[1] - model.optimizer.x_rate[0]) / EPOCHS * (EPOCHS - itr)\n",
    "    model.optimizer.mutation_rate = model.optimizer.m_rate[0] + (model.optimizer.m_rate[1] - model.optimizer.m_rate[0]) / EPOCHS * (EPOCHS - itr)\n",
    "    "
   ]
  },
  {
   "cell_type": "code",
   "execution_count": 10,
   "metadata": {},
   "outputs": [],
   "source": [
    "import matplotlib.pyplot as plt\n",
    "\n",
    "def draw_plot(x, y_list, x_label=None, y_label=None, legend=None, title=None):\n",
    "    fig, ax = plt.subplots(figsize=(12,5))\n",
    "    for xi, yi in zip(x, y_list):\n",
    "        ax.plot(xi, yi)\n",
    "    if x_label is not None and y_label is not None:\n",
    "        ax.set(xlabel=x_label, ylabel=y_label, title='{} VS {}'.format(x_label, y_label))\n",
    "    if legend is not None:\n",
    "        ax.legend(legend)\n",
    "    ax.grid()\n",
    "    plt.show()"
   ]
  },
  {
   "cell_type": "code",
   "execution_count": 11,
   "metadata": {},
   "outputs": [
    {
     "name": "stdout",
     "output_type": "stream",
     "text": [
      "[1. 0. 0.] <-> [0.7841811  0.10126078 0.11455811]\n",
      "[0. 0. 1.] <-> [0.3820137  0.01861324 0.5993731 ]\n",
      "[1. 0. 0.] <-> [0.78731084 0.08879177 0.12389738]\n",
      "[0. 1. 0.] <-> [0.31564066 0.66357094 0.02078843]\n",
      "[1. 0. 0.] <-> [0.7960988  0.05847144 0.14542972]\n",
      "[1. 0. 0.] <-> [0.75728333 0.12196565 0.12075099]\n",
      "[1. 0. 0.] <-> [0.77280825 0.08374157 0.14345022]\n",
      "[0. 0. 1.] <-> [0.19789577 0.02936947 0.7727348 ]\n",
      "[0. 1. 0.] <-> [0.19626462 0.7915147  0.01222065]\n",
      "[0. 0. 1.] <-> [0.1717816  0.02867215 0.79954624]\n",
      "[1. 0. 0.] <-> [0.7500013  0.11462697 0.13537167]\n",
      "[0. 1. 0.] <-> [0.27014875 0.7131446  0.01670664]\n",
      "[1. 0. 0.] <-> [0.8072575  0.04276056 0.14998198]\n",
      "[1. 0. 0.] <-> [0.7980711  0.07358478 0.1283442 ]\n",
      "[1. 0. 0.] <-> [0.79180866 0.13582    0.07237137]\n",
      "[1. 0. 0.] <-> [0.8104746  0.09053577 0.0989897 ]\n",
      "[1. 0. 0.] <-> [0.69659275 0.03791356 0.26549366]\n",
      "[0. 1. 0.] <-> [0.4930895  0.46842963 0.03848087]\n",
      "[1. 0. 0.] <-> [0.7572227  0.16505392 0.07772339]\n",
      "[1. 0. 0.] <-> [0.79906696 0.09386463 0.10706845]\n",
      "[1. 0. 0.] <-> [0.80414367 0.04661413 0.14924224]\n",
      "[1. 0. 0.] <-> [0.8172841  0.09822174 0.0844942 ]\n",
      "[1. 0. 0.] <-> [0.7617051  0.17800194 0.06029289]\n",
      "[0. 1. 0.] <-> [0.18336186 0.8051424  0.01149575]\n",
      "[0. 0. 1.] <-> [0.39164698 0.01924003 0.58911294]\n",
      "[1. 0. 0.] <-> [0.79018545 0.06986607 0.13994849]\n",
      "[0. 1. 0.] <-> [0.5984368  0.36236027 0.03920292]\n",
      "[1. 0. 0.] <-> [0.76337683 0.14039324 0.09622993]\n",
      "[0. 0. 1.] <-> [0.713587   0.02832032 0.25809273]\n",
      "[1. 0. 0.] <-> [0.7669393  0.15258992 0.08047076]\n",
      "[0. 0. 1.] <-> [0.31380752 0.02852251 0.65766996]\n",
      "[1. 0. 0.] <-> [0.7093463  0.04729236 0.24336135]\n",
      "[1. 0. 0.] <-> [0.8010704  0.12486139 0.0740682 ]\n",
      "[1. 0. 0.] <-> [0.8262026  0.07765919 0.0961383 ]\n",
      "[1. 0. 0.] <-> [0.7311791  0.06841704 0.20040384]\n",
      "[1. 0. 0.] <-> [0.77869195 0.08430852 0.1369995 ]\n",
      "[0. 1. 0.] <-> [0.56838584 0.3961037  0.03551041]\n",
      "[1. 0. 0.] <-> [0.77418363 0.07891369 0.1469027 ]\n",
      "[1. 0. 0.] <-> [0.78198946 0.05883519 0.15917537]\n",
      "[0. 0. 1.] <-> [0.31644177 0.01672572 0.66683257]\n",
      "[1. 0. 0.] <-> [0.73171246 0.06606476 0.20222269]\n",
      "[1. 0. 0.] <-> [0.762925   0.16604817 0.07102671]\n",
      "[1. 0. 0.] <-> [0.80788434 0.0452817  0.14683397]\n",
      "[1. 0. 0.] <-> [0.81845    0.08606882 0.09548128]\n",
      "[1. 0. 0.] <-> [0.7863305  0.09516546 0.11850405]\n",
      "[1. 0. 0.] <-> [0.8074548  0.09209646 0.10044861]\n",
      "[0. 1. 0.] <-> [0.44281057 0.5276444  0.02954505]\n",
      "[1. 0. 0.] <-> [0.7760637  0.14829579 0.07564057]\n",
      "[1. 0. 0.] <-> [0.7990532  0.09161045 0.10933629]\n",
      "[1. 0. 0.] <-> [0.79762614 0.1084182  0.09395564]\n",
      "[1. 0. 0.] <-> [0.82244104 0.07637846 0.10118054]\n",
      "[1. 0. 0.] <-> [0.815012   0.07828291 0.10670507]\n",
      "[1. 0. 0.] <-> [0.78790385 0.11333108 0.0987651 ]\n",
      "[1. 0. 0.] <-> [0.7546268  0.1693131  0.07606012]\n",
      "[0. 1. 0.] <-> [0.6124101  0.3356339  0.05195598]\n",
      "[1. 0. 0.] <-> [0.7741161  0.08342882 0.14245509]\n",
      "[1. 0. 0.] <-> [0.75276726 0.1878188  0.059414  ]\n",
      "[1. 0. 0.] <-> [0.5655533  0.04108824 0.3933584 ]\n",
      "[1. 0. 0.] <-> [0.8056851  0.04425881 0.15005605]\n",
      "[1. 0. 0.] <-> [0.8388347  0.06330993 0.0978554 ]\n",
      "[1. 0. 0.] <-> [0.78113914 0.12295254 0.09590831]\n",
      "[1. 0. 0.] <-> [0.81037974 0.0616718  0.12794845]\n",
      "[0. 1. 0.] <-> [0.18781331 0.80029315 0.01189349]\n",
      "[1. 0. 0.] <-> [0.81113726 0.04865777 0.14020501]\n",
      "[1. 0. 0.] <-> [0.7707238  0.14175828 0.08751798]\n",
      "[1. 0. 0.] <-> [0.76664925 0.04448581 0.18886492]\n",
      "[1. 0. 0.] <-> [0.82365155 0.06064576 0.11570263]\n",
      "[1. 0. 0.] <-> [0.80093586 0.10702445 0.0920397 ]\n",
      "[0. 0. 1.] <-> [0.37108713 0.01716034 0.6117525 ]\n",
      "[1. 0. 0.] <-> [0.8274435  0.07163783 0.10091872]\n",
      "[1. 0. 0.] <-> [0.74095035 0.11044777 0.14860189]\n",
      "[0. 0. 1.] <-> [0.25074023 0.02086573 0.72839403]\n",
      "[1. 0. 0.] <-> [0.7668778  0.10347704 0.12964524]\n",
      "[1. 0. 0.] <-> [0.79480666 0.1138816  0.09131176]\n",
      "[1. 0. 0.] <-> [0.7544105  0.05574211 0.18984741]\n",
      "[1. 0. 0.] <-> [0.7316215  0.0573055  0.21107304]\n",
      "[0. 1. 0.] <-> [0.5194674  0.4474525  0.03308016]\n",
      "[1. 0. 0.] <-> [0.8020546  0.13185824 0.06608714]\n",
      "[0. 1. 0.] <-> [0.30897442 0.6716015  0.01942408]\n",
      "[1. 0. 0.] <-> [0.8137036  0.06218839 0.124108  ]\n",
      "[1. 0. 0.] <-> [0.82184225 0.09197791 0.0861798 ]\n",
      "[1. 0. 0.] <-> [0.74701315 0.15672122 0.09626558]\n",
      "[1. 0. 0.] <-> [0.79664564 0.06832559 0.1350288 ]\n",
      "[1. 0. 0.] <-> [0.8211184  0.04685119 0.13203043]\n",
      "[1. 0. 0.] <-> [0.7854937  0.11078929 0.10371706]\n",
      "[0. 1. 0.] <-> [0.69862026 0.25711146 0.04426827]\n",
      "[0. 0. 1.] <-> [0.17893824 0.0278989  0.7931629 ]\n",
      "[1. 0. 0.] <-> [0.7987732  0.03849193 0.16273484]\n",
      "[1. 0. 0.] <-> [0.7170699  0.22206298 0.06086712]\n",
      "[1. 0. 0.] <-> [0.7679686  0.16522399 0.06680743]\n",
      "[0. 0. 1.] <-> [0.59628564 0.0323272  0.37138724]\n",
      "[1. 0. 0.] <-> [0.80692506 0.05634795 0.13672704]\n",
      "[0. 1. 0.] <-> [0.648565   0.30917805 0.04225694]\n",
      "[0. 1. 0.] <-> [0.46171105 0.50969726 0.02859171]\n",
      "[1. 0. 0.] <-> [0.75250983 0.03681007 0.21068008]\n",
      "[1. 0. 0.] <-> [0.6984093  0.2546038  0.04698687]\n",
      "[1. 0. 0.] <-> [0.79226524 0.12961134 0.07812338]\n",
      "[1. 0. 0.] <-> [0.71506125 0.21095248 0.07398625]\n",
      "[1. 0. 0.] <-> [0.76512647 0.05146341 0.1834101 ]\n",
      "[0. 0. 1.] <-> [0.77761006 0.02758893 0.19480096]\n",
      "[1. 0. 0.] <-> [0.81772226 0.09069233 0.09158541]\n",
      "[1. 0. 0.] <-> [0.7716223  0.04423129 0.18414633]\n",
      "[0. 0. 1.] <-> [0.26007855 0.01983791 0.7200836 ]\n",
      "[1. 0. 0.] <-> [0.7970143  0.11794228 0.08504343]\n",
      "[1. 0. 0.] <-> [0.82423866 0.04381669 0.13194466]\n",
      "[1. 0. 0.] <-> [0.7796932  0.09094322 0.12936369]\n",
      "[1. 0. 0.] <-> [0.7273687  0.06173617 0.21089515]\n",
      "[1. 0. 0.] <-> [0.78704315 0.06533314 0.14762373]\n",
      "{'accuracy': 0.9382716049382716, 'mean_square_error': 0.17005841672983807, 'categorical_crossentropy': 0.3524825484664352, 'precision': 0.9074074074074074, 'recall': 0.9074074074074074, 'f1': 0.9074074074074074, 'essential_metrics': {0: {'tp_hit': 80, 'fp_hit': 10, 'tn_hit': 18, 'fn_hit': 0}, 1: {'tp_hit': 8, 'fp_hit': 0, 'tn_hit': 93, 'fn_hit': 7}, 2: {'tp_hit': 10, 'fp_hit': 0, 'tn_hit': 95, 'fn_hit': 3}}}\n"
     ]
    }
   ],
   "source": [
    "# recall phase\n",
    "score = model.evaluate(x_test, y_test, False)\n",
    "print(score)"
   ]
  },
  {
   "cell_type": "code",
   "execution_count": 12,
   "metadata": {},
   "outputs": [],
   "source": [
    "# Testing Performance"
   ]
  },
  {
   "cell_type": "code",
   "execution_count": 13,
   "metadata": {},
   "outputs": [
    {
     "name": "stderr",
     "output_type": "stream",
     "text": [
      "C:\\Users\\tcumi\\Anaconda3\\envs\\py_3_6\\lib\\site-packages\\numpy\\core\\_asarray.py:136: VisibleDeprecationWarning: Creating an ndarray from ragged nested sequences (which is a list-or-tuple of lists-or-tuples-or ndarrays with different lengths or shapes) is deprecated. If you meant to do this, you must specify 'dtype=object' when creating the ndarray\n",
      "  return array(a, dtype, copy=False, order=order, subok=True)\n"
     ]
    },
    {
     "data": {
      "image/png": "[encoded data removed]",
      "text/plain": [
       "<Figure size 864x360 with 1 Axes>"
      ]
     },
     "metadata": {
      "needs_background": "light"
     },
     "output_type": "display_data"
    },
    {
     "data": {
      "image/png": "[encoded data removed]",
      "text/plain": [
       "<Figure size 864x360 with 1 Axes>"
      ]
     },
     "metadata": {
      "needs_background": "light"
     },
     "output_type": "display_data"
    }
   ],
   "source": [
    "draw_plot(x = [[i for i in range(len(history))], [(i+1)*breakpoint for i in range(len(checkpoints))]], y_list = [history, [ ckp[model.loss_fn] for ckp in checkpoints ]], x_label = 'Epochs', \\\n",
    "    y_label = model.loss_fn, legend=['train', 'test'])\n",
    "acc = [ ckp['accuracy'] for ckp in checkpoints ]\n",
    "draw_plot(x = [[(i+1)*breakpoint for i in range(len(checkpoints))]], y_list = [acc], x_label = 'Checkpoints', \\\n",
    "    y_label = 'accuracy')"
   ]
  },
  {
   "cell_type": "code",
   "execution_count": 14,
   "metadata": {
    "scrolled": false
   },
   "outputs": [
    {
     "name": "stdout",
     "output_type": "stream",
     "text": [
      "{'accuracy': 0.9259259259259259, 'mean_square_error': 0.17917105689278703, 'categorical_crossentropy': 0.3467540034541377, 'precision': 0.8888888888888888, 'recall': 0.8888888888888888, 'f1': 0.8888888888888888, 'essential_metrics': {0: {'tp_hit': 80, 'fp_hit': 12, 'tn_hit': 16, 'fn_hit': 0}, 1: {'tp_hit': 9, 'fp_hit': 0, 'tn_hit': 93, 'fn_hit': 6}, 2: {'tp_hit': 7, 'fp_hit': 0, 'tn_hit': 95, 'fn_hit': 6}}, 'checkpoint': 100} \n",
      "\n",
      "\n",
      "{'accuracy': 0.9506172839506173, 'mean_square_error': 0.17448438170469494, 'categorical_crossentropy': 0.35741011301676434, 'precision': 0.9259259259259259, 'recall': 0.9259259259259259, 'f1': 0.9259259259259259, 'essential_metrics': {0: {'tp_hit': 80, 'fp_hit': 8, 'tn_hit': 20, 'fn_hit': 0}, 1: {'tp_hit': 11, 'fp_hit': 0, 'tn_hit': 93, 'fn_hit': 4}, 2: {'tp_hit': 9, 'fp_hit': 0, 'tn_hit': 95, 'fn_hit': 4}}, 'checkpoint': 200} \n",
      "\n",
      "\n",
      "{'accuracy': 0.9506172839506173, 'mean_square_error': 0.16977940218161341, 'categorical_crossentropy': 0.35106609485767504, 'precision': 0.9259259259259259, 'recall': 0.9259259259259259, 'f1': 0.9259259259259259, 'essential_metrics': {0: {'tp_hit': 80, 'fp_hit': 8, 'tn_hit': 20, 'fn_hit': 0}, 1: {'tp_hit': 10, 'fp_hit': 0, 'tn_hit': 93, 'fn_hit': 5}, 2: {'tp_hit': 10, 'fp_hit': 0, 'tn_hit': 95, 'fn_hit': 3}}, 'checkpoint': 300} \n",
      "\n",
      "\n",
      "{'accuracy': 0.9444444444444444, 'mean_square_error': 0.17180393464200125, 'categorical_crossentropy': 0.35512507403338395, 'precision': 0.9166666666666666, 'recall': 0.9166666666666666, 'f1': 0.9166666666666666, 'essential_metrics': {0: {'tp_hit': 80, 'fp_hit': 9, 'tn_hit': 19, 'fn_hit': 0}, 1: {'tp_hit': 9, 'fp_hit': 0, 'tn_hit': 93, 'fn_hit': 6}, 2: {'tp_hit': 10, 'fp_hit': 0, 'tn_hit': 95, 'fn_hit': 3}}, 'checkpoint': 400} \n",
      "\n",
      "\n",
      "{'accuracy': 0.9382716049382716, 'mean_square_error': 0.17005841672983807, 'categorical_crossentropy': 0.3524825484664352, 'precision': 0.9074074074074074, 'recall': 0.9074074074074074, 'f1': 0.9074074074074074, 'essential_metrics': {0: {'tp_hit': 80, 'fp_hit': 10, 'tn_hit': 18, 'fn_hit': 0}, 1: {'tp_hit': 8, 'fp_hit': 0, 'tn_hit': 93, 'fn_hit': 7}, 2: {'tp_hit': 10, 'fp_hit': 0, 'tn_hit': 95, 'fn_hit': 3}}, 'checkpoint': 500} \n",
      "\n",
      "\n"
     ]
    }
   ],
   "source": [
    "for checkpoint in checkpoints:\n",
    "    print(checkpoint, '\\n\\n')"
   ]
  },
  {
   "cell_type": "code",
   "execution_count": 15,
   "metadata": {},
   "outputs": [
    {
     "name": "stdout",
     "output_type": "stream",
     "text": [
      "Layer 1\n",
      "Neuron 0: weights:\n",
      "[-0.5341951   1.0500331   0.5171514   0.01994628 -0.3280703 ]\n",
      " bias: -0.4265032112598419\n",
      "\n",
      "Neuron 1: weights:\n",
      "[-0.3365585   0.66748357  0.20475481 -0.6995818  -0.88931906]\n",
      " bias: 0.594419538974762\n",
      "\n",
      "Neuron 2: weights:\n",
      "[ 0.33362257 -0.7409334  -0.3972101   0.38601133  0.6101894 ]\n",
      " bias: -0.1229071095585823\n",
      "\n",
      "Neuron 3: weights:\n",
      "[ 0.26711062 -0.8489632  -0.5638272  -0.763937   -0.37701154]\n",
      " bias: 0.34019187092781067\n",
      "\n",
      "$\n",
      "Layer 2\n",
      "Neuron 0: weights:\n",
      "[-0.6645474   0.7892481  -0.14832105  1.251684  ]\n",
      " bias: -0.08327119052410126\n",
      "\n",
      "Neuron 1: weights:\n",
      "[ 1.4561318  0.6678272 -1.3396089 -1.3060473]\n",
      " bias: -0.44741830229759216\n",
      "\n",
      "Neuron 2: weights:\n",
      "[-1.0991795  -1.5815469   1.5402131  -0.22470061]\n",
      " bias: -0.07522206753492355\n",
      "\n",
      "$\n",
      "\n"
     ]
    }
   ],
   "source": [
    "print(model)"
   ]
  }
 ],
 "metadata": {
  "kernelspec": {
   "display_name": "Python 3",
   "language": "python",
   "name": "python3"
  },
  "language_info": {
   "codemirror_mode": {
    "name": "ipython",
    "version": 3
   },
   "file_extension": ".py",
   "mimetype": "text/x-python",
   "name": "python",
   "nbconvert_exporter": "python",
   "pygments_lexer": "ipython3",
   "version": "3.6.10"
  }
 },
 "nbformat": 4,
 "nbformat_minor": 2
}
