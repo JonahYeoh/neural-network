{
 "cells": [
  {
   "cell_type": "code",
   "execution_count": 1,
   "metadata": {},
   "outputs": [],
   "source": [
    "# dependency\n",
    "import numpy as np\n",
    "import pandas as pd\n",
    "import copy\n",
    "import math\n",
    "import sys\n",
    "import os\n",
    "from activations import relu, leaky_relu, sigmoid, tanh, softmax, d_sigmoid, d_relu\n",
    "from initializers import glorot_uniform, random_normal, random_uniform\n",
    "from regularizers import l1_regularizer, l2_regularizer\n",
    "from utility import trim_tail, multiply, subtract, get_nparams, one_hot_encoding, get_data\n",
    "from metrics import MSE, CCE, ACC, PRECISION, RECALL, essential_metrics, wondering_penalty, close_gap_penalty\n",
    "from pso import PSO\n",
    "from ga import GA\n",
    "from nn import Network\n",
    "from layer import DenseLayer\n",
    "from scalers import MinMaxScaler, StandardScaler"
   ]
  },
  {
   "cell_type": "code",
   "execution_count": 2,
   "metadata": {},
   "outputs": [],
   "source": [
    "# reference\n",
    "metrics_fn_dict = dict()\n",
    "metrics_fn_dict['accuracy'] = ACC\n",
    "metrics_fn_dict['categorical_crossentropy'] = CCE\n",
    "metrics_fn_dict['mean_square_error'] = MSE\n",
    "metrics_fn_dict['precision'] = PRECISION\n",
    "metrics_fn_dict['recall'] = RECALL\n",
    "metrics_fn_dict['essential_metrics'] = essential_metrics"
   ]
  },
  {
   "cell_type": "code",
   "execution_count": 3,
   "metadata": {},
   "outputs": [],
   "source": [
    "# model\n",
    "model = Network(5, lr = None)\n",
    "model.add_layer(DenseLayer(1, 4, True, afn=sigmoid, dafn=None, rfn=None))\n",
    "model.add_layer(DenseLayer(2, 3, True, afn=softmax, dafn=None, rfn=None))"
   ]
  },
  {
   "cell_type": "code",
   "execution_count": 4,
   "metadata": {},
   "outputs": [
    {
     "name": "stdout",
     "output_type": "stream",
     "text": [
      "see one see two 2 2\n"
     ]
    }
   ],
   "source": [
    "pso = PSO(dict(m = 50,\n",
    "    weight_constraint = [-3, 3], \n",
    "    velocity_constraint = [-0.1, 0.1],\n",
    "    c1 = 2,\n",
    "    c2 = 2,\n",
    "    w = 1,\n",
    "    w_decay = 1,\n",
    "    scale_hyperparameter = False,\n",
    "    regularizer = None,\n",
    "    mask = True))"
   ]
  },
  {
   "cell_type": "code",
   "execution_count": 5,
   "metadata": {},
   "outputs": [
    {
     "name": "stdout",
     "output_type": "stream",
     "text": [
      "building layer 1 with 5\n",
      "24\n",
      "building layer 2 with 4\n",
      "15\n"
     ]
    }
   ],
   "source": [
    "model.compile(loss_fn = 'categorical_crossentropy', optimizer = pso, \\\n",
    "    metrics = ['accuracy', 'mean_square_error', 'categorical_crossentropy'])"
   ]
  },
  {
   "cell_type": "code",
   "execution_count": 6,
   "metadata": {},
   "outputs": [
    {
     "name": "stdout",
     "output_type": "stream",
     "text": [
      "<class 'pandas.core.frame.DataFrame'>\n",
      "RangeIndex: 107 entries, 0 to 106\n",
      "Data columns (total 6 columns):\n",
      " #   Column  Non-Null Count  Dtype  \n",
      "---  ------  --------------  -----  \n",
      " 0   f1      107 non-null    float32\n",
      " 1   f2      107 non-null    float32\n",
      " 2   f3      107 non-null    float32\n",
      " 3   f4      107 non-null    float32\n",
      " 4   f5      107 non-null    float32\n",
      " 5   label   107 non-null    float32\n",
      "dtypes: float32(6)\n",
      "memory usage: 2.6 KB\n",
      "None\n",
      "<class 'pandas.core.frame.DataFrame'>\n",
      "RangeIndex: 108 entries, 0 to 107\n",
      "Data columns (total 6 columns):\n",
      " #   Column  Non-Null Count  Dtype  \n",
      "---  ------  --------------  -----  \n",
      " 0   f1      108 non-null    float32\n",
      " 1   f2      108 non-null    float32\n",
      " 2   f3      108 non-null    float32\n",
      " 3   f4      108 non-null    float32\n",
      " 4   f5      108 non-null    float32\n",
      " 5   label   108 non-null    float32\n",
      "dtypes: float32(6)\n",
      "memory usage: 2.7 KB\n",
      "None\n"
     ]
    }
   ],
   "source": [
    "# data loading\n",
    "DATA = os.path.join('c:\\\\Users\\\\tcumi\\\\github_repo\\\\neural-network\\\\', 'dataset')\n",
    "GROUP = 5\n",
    "COLUMNS = ['f1', 'f2', 'f3', 'f4', 'f5', 'label']\n",
    "N_CLASS = 3\n",
    "EPOCHS = 500\n",
    "train_dir, test_dir = \"..//dataset//training_data{}.txt\".format(GROUP), \"..//dataset//testing_data{}.txt\".format(GROUP)\n",
    "train, test = get_data(DATA, train_dir, COLUMNS), get_data(DATA, test_dir, COLUMNS)\n",
    "# shuffle\n",
    "train, test = train.sample(frac=1), test.sample(frac=1)\n",
    "x_train, y_train = train.drop('label', axis=1), train['label']\n",
    "x_test, y_test = test.drop('label', axis=1), test['label']"
   ]
  },
  {
   "cell_type": "code",
   "execution_count": 7,
   "metadata": {},
   "outputs": [],
   "source": [
    "# data scaling and encoding\n",
    "scaler = StandardScaler(['f1', 'f2', 'f3', 'f4', 'f5'])\n",
    "scaler.fit(x_train)\n",
    "x_train = scaler.transform(x_train)\n",
    "x_test = scaler.transform(x_test)\n",
    "y_train = one_hot_encoding(y_train, N_CLASS)\n",
    "y_test = one_hot_encoding(y_test, N_CLASS)"
   ]
  },
  {
   "cell_type": "code",
   "execution_count": 8,
   "metadata": {
    "tags": [
     "outputPrepend"
    ]
   },
   "outputs": [
    {
     "name": "stdout",
     "output_type": "stream",
     "text": [
      "Checkpoint 100, Accuracy: 0.9567901234567902, Loss: 0.19304460949367946\n",
      "Checkpoint 200, Accuracy: 0.9567901234567902, Loss: 0.11627522221317997\n",
      "Checkpoint 300, Accuracy: 0.9629629629629629, Loss: 0.106716341442532\n",
      "Checkpoint 400, Accuracy: 0.9629629629629629, Loss: 0.10740678398697465\n",
      "Checkpoint 500, Accuracy: 0.9691358024691358, Loss: 0.11109597594649703\n"
     ]
    }
   ],
   "source": [
    "# learning phase\n",
    "breakpoint = 100\n",
    "checkpoints = list()\n",
    "history = list()\n",
    "for century in range(0, EPOCHS, breakpoint):\n",
    "    sub_history = model.fit(x_train, y_train, breakpoint, verbose = 0)\n",
    "    score = model.evaluate(x_test, y_test, False, verbose = 0)\n",
    "    print('Checkpoint {}, Accuracy: {}, Loss: {}'.format(century+breakpoint, score['accuracy'], score[model.loss_fn]))\n",
    "    score['checkpoint'] = century + breakpoint\n",
    "    checkpoints.append(score)\n",
    "    history.extend(sub_history)"
   ]
  },
  {
   "cell_type": "code",
   "execution_count": 9,
   "metadata": {},
   "outputs": [],
   "source": [
    "import matplotlib.pyplot as plt\n",
    "\n",
    "def draw_plot(x, y_list, x_label=None, y_label=None, legend=None, title=None):\n",
    "    fig, ax = plt.subplots(figsize=(12,5))\n",
    "    for xi, yi in zip(x, y_list):\n",
    "        ax.plot(xi, yi)\n",
    "    if x_label is not None and y_label is not None:\n",
    "        ax.set(xlabel=x_label, ylabel=y_label, title='{} VS {}'.format(x_label, y_label))\n",
    "    if legend is not None:\n",
    "        ax.legend(legend)\n",
    "    ax.grid()\n",
    "    plt.show()"
   ]
  },
  {
   "cell_type": "code",
   "execution_count": 10,
   "metadata": {},
   "outputs": [
    {
     "name": "stdout",
     "output_type": "stream",
     "text": [
      "[0. 1. 0.] <-> [6.6949343e-03 9.9326819e-01 3.6779074e-05]\n",
      "[1. 0. 0.] <-> [9.9788815e-01 1.2854903e-03 8.2633912e-04]\n",
      "[1. 0. 0.] <-> [0.99620974 0.0025508  0.00123942]\n",
      "[1. 0. 0.] <-> [0.9969703  0.00153556 0.0014941 ]\n",
      "[1. 0. 0.] <-> [0.9923719  0.00137479 0.00625335]\n",
      "[1. 0. 0.] <-> [0.99764746 0.00112835 0.00122412]\n",
      "[1. 0. 0.] <-> [0.9713079  0.02761843 0.00107374]\n",
      "[1. 0. 0.] <-> [9.9756819e-01 1.6261224e-03 8.0568175e-04]\n",
      "[1. 0. 0.] <-> [9.9805486e-01 1.1252536e-03 8.1985939e-04]\n",
      "[1. 0. 0.] <-> [0.9938591  0.00102832 0.00511271]\n",
      "[1. 0. 0.] <-> [9.9806482e-01 1.1254676e-03 8.0971635e-04]\n",
      "[0. 0. 1.] <-> [1.1029593e-02 4.9707323e-05 9.8892069e-01]\n",
      "[1. 0. 0.] <-> [0.9956483  0.00124065 0.00311099]\n",
      "[1. 0. 0.] <-> [0.99253184 0.00108689 0.0063813 ]\n",
      "[1. 0. 0.] <-> [9.9787378e-01 1.2866812e-03 8.3959859e-04]\n",
      "[1. 0. 0.] <-> [9.9784338e-01 1.4313572e-03 7.2524545e-04]\n",
      "[1. 0. 0.] <-> [0.5875997  0.00125726 0.411143  ]\n",
      "[0. 1. 0.] <-> [2.2894104e-01 7.7048063e-01 5.7829818e-04]\n",
      "[0. 1. 0.] <-> [6.5368257e-02 9.3433917e-01 2.9257036e-04]\n",
      "[1. 0. 0.] <-> [0.9926059  0.00131111 0.00608295]\n",
      "[1. 0. 0.] <-> [9.9779439e-01 1.3297442e-03 8.7596965e-04]\n",
      "[1. 0. 0.] <-> [9.9804014e-01 1.2733756e-03 6.8650173e-04]\n",
      "[1. 0. 0.] <-> [0.9965072  0.00104682 0.00244595]\n",
      "[1. 0. 0.] <-> [9.9798799e-01 1.3134739e-03 6.9859705e-04]\n",
      "[1. 0. 0.] <-> [0.99599516 0.00107679 0.00292805]\n",
      "[1. 0. 0.] <-> [9.9432015e-01 4.9999868e-03 6.7974912e-04]\n",
      "[1. 0. 0.] <-> [0.99463224 0.00131811 0.00404965]\n",
      "[0. 1. 0.] <-> [1.3129903e-02 9.8680729e-01 6.2858278e-05]\n",
      "[1. 0. 0.] <-> [9.9792993e-01 1.3239152e-03 7.4614969e-04]\n",
      "[1. 0. 0.] <-> [9.9626809e-01 3.0585786e-03 6.7338254e-04]\n",
      "[1. 0. 0.] <-> [9.9802256e-01 1.1792282e-03 7.9814764e-04]\n",
      "[1. 0. 0.] <-> [0.53533536 0.00209661 0.46256804]\n",
      "[0. 0. 1.] <-> [1.1018842e-02 4.9630326e-05 9.8893154e-01]\n",
      "[1. 0. 0.] <-> [0.9977596  0.00124175 0.0009986 ]\n",
      "[1. 0. 0.] <-> [0.99488896 0.00134139 0.00376972]\n",
      "[1. 0. 0.] <-> [0.9787315  0.00136055 0.01990789]\n",
      "[1. 0. 0.] <-> [0.9968882  0.00117053 0.00194126]\n",
      "[0. 0. 1.] <-> [1.1002860e-02 4.9585993e-05 9.8894751e-01]\n",
      "[1. 0. 0.] <-> [9.9792022e-01 1.1723555e-03 9.0741768e-04]\n",
      "[1. 0. 0.] <-> [9.9800760e-01 1.2220656e-03 7.7038811e-04]\n",
      "[1. 0. 0.] <-> [9.9804521e-01 1.0837661e-03 8.7104936e-04]\n",
      "[1. 0. 0.] <-> [0.9969248  0.00102778 0.00204737]\n",
      "[0. 1. 0.] <-> [6.4323433e-03 9.9353206e-01 3.5490804e-05]\n",
      "[1. 0. 0.] <-> [9.9782372e-01 1.5253522e-03 6.5106736e-04]\n",
      "[1. 0. 0.] <-> [0.9775965  0.00115205 0.02125142]\n",
      "[0. 0. 1.] <-> [0.30839294 0.00136328 0.6902437 ]\n",
      "[0. 1. 0.] <-> [6.4324043e-03 9.9353206e-01 3.5491143e-05]\n",
      "[0. 0. 1.] <-> [1.1048301e-02 4.9741564e-05 9.8890197e-01]\n",
      "[1. 0. 0.] <-> [9.9802363e-01 1.2273131e-03 7.4907928e-04]\n",
      "[1. 0. 0.] <-> [9.9472767e-01 4.5242650e-03 7.4810686e-04]\n",
      "[1. 0. 0.] <-> [0.96789384 0.00127504 0.03083109]\n",
      "[1. 0. 0.] <-> [9.9799073e-01 1.0895163e-03 9.1973011e-04]\n",
      "[1. 0. 0.] <-> [9.9765259e-01 1.4712701e-03 8.7620987e-04]\n",
      "[1. 0. 0.] <-> [9.9776614e-01 1.5177552e-03 7.1613112e-04]\n",
      "[0. 1. 0.] <-> [6.6138091e-03 9.9334997e-01 3.6269637e-05]\n",
      "[1. 0. 0.] <-> [0.9334693  0.00125164 0.06527905]\n",
      "[1. 0. 0.] <-> [0.75107044 0.00144576 0.2474839 ]\n",
      "[1. 0. 0.] <-> [0.9973187  0.00131466 0.00136663]\n",
      "[0. 0. 1.] <-> [0.82634276 0.00236131 0.17129588]\n",
      "[1. 0. 0.] <-> [0.9877917  0.00118714 0.01102108]\n",
      "[1. 0. 0.] <-> [0.9977592  0.00115964 0.00108112]\n",
      "[0. 0. 1.] <-> [1.0986828e-02 4.9529186e-05 9.8896360e-01]\n",
      "[0. 1. 0.] <-> [6.4323340e-03 9.9353206e-01 3.5490739e-05]\n",
      "[1. 0. 0.] <-> [0.99112517 0.00120415 0.00767067]\n",
      "[1. 0. 0.] <-> [0.9606598  0.00154533 0.03779485]\n",
      "[0. 1. 0.] <-> [6.4379834e-03 9.9352646e-01 3.5516539e-05]\n",
      "[1. 0. 0.] <-> [9.9804014e-01 1.0709878e-03 8.8881067e-04]\n",
      "[0. 1. 0.] <-> [1.8615586e-01 8.1324542e-01 5.9869385e-04]\n",
      "[1. 0. 0.] <-> [0.9976078  0.00107036 0.00132183]\n",
      "[0. 0. 1.] <-> [8.7436112e-03 7.3230163e-05 9.9118316e-01]\n",
      "[0. 1. 0.] <-> [0.9117606  0.08662696 0.00161241]\n",
      "[0. 1. 0.] <-> [0.6189243  0.37999228 0.00108342]\n",
      "[1. 0. 0.] <-> [0.9976533  0.00108877 0.0012579 ]\n",
      "[0. 1. 0.] <-> [6.4324136e-03 9.9353206e-01 3.5491143e-05]\n",
      "[1. 0. 0.] <-> [9.8197031e-01 1.7080586e-02 9.4907481e-04]\n",
      "[0. 0. 1.] <-> [1.0997922e-02 4.9564496e-05 9.8895252e-01]\n",
      "[0. 0. 1.] <-> [1.0980877e-02 4.9596842e-05 9.8896956e-01]\n",
      "[0. 0. 1.] <-> [1.1041978e-02 4.9763945e-05 9.8890823e-01]\n",
      "[1. 0. 0.] <-> [9.9728346e-01 1.9989552e-03 7.1756792e-04]\n",
      "[1. 0. 0.] <-> [0.9973279  0.00108863 0.00158335]\n",
      "[0. 0. 1.] <-> [0.89623195 0.00207113 0.10169689]\n",
      "[1. 0. 0.] <-> [9.9801093e-01 1.2761344e-03 7.1297988e-04]\n",
      "[0. 1. 0.] <-> [6.4326874e-03 9.9353176e-01 3.5492620e-05]\n",
      "[0. 1. 0.] <-> [2.9616848e-02 9.7026688e-01 1.1624705e-04]\n",
      "[1. 0. 0.] <-> [9.9560344e-01 3.5620688e-03 8.3446823e-04]\n",
      "[1. 0. 0.] <-> [9.9795485e-01 1.2656936e-03 7.7948859e-04]\n",
      "[1. 0. 0.] <-> [0.9974995  0.00110657 0.00139385]\n",
      "[0. 1. 0.] <-> [6.4323768e-03 9.9353206e-01 3.5490939e-05]\n",
      "[1. 0. 0.] <-> [9.9779093e-01 1.5408297e-03 6.6828285e-04]\n",
      "[1. 0. 0.] <-> [0.97954184 0.00127862 0.01917958]\n",
      "[0. 0. 1.] <-> [1.0634146e-02 5.2266623e-05 9.8931366e-01]\n",
      "[1. 0. 0.] <-> [9.9749446e-01 1.7494796e-03 7.5597881e-04]\n",
      "[1. 0. 0.] <-> [0.98912686 0.00124146 0.00963157]\n",
      "[1. 0. 0.] <-> [9.9802655e-01 1.1637406e-03 8.0975099e-04]\n",
      "[1. 0. 0.] <-> [9.9802786e-01 1.1277628e-03 8.4430905e-04]\n",
      "[1. 0. 0.] <-> [9.9689412e-01 2.3758973e-03 7.2989194e-04]\n",
      "[1. 0. 0.] <-> [9.974005e-01 1.888046e-03 7.114900e-04]\n",
      "[0. 1. 0.] <-> [0.7042518  0.29461658 0.00113161]\n",
      "[1. 0. 0.] <-> [0.99764365 0.00110352 0.00125276]\n",
      "[1. 0. 0.] <-> [0.99780387 0.00113639 0.00105974]\n",
      "[1. 0. 0.] <-> [9.9774855e-01 1.5975984e-03 6.5377122e-04]\n",
      "[1. 0. 0.] <-> [9.9815422e-01 1.1708086e-03 6.7495124e-04]\n",
      "[1. 0. 0.] <-> [0.96960044 0.00133619 0.02906335]\n",
      "[1. 0. 0.] <-> [0.79952323 0.00144909 0.19902769]\n",
      "[1. 0. 0.] <-> [0.98709536 0.00164414 0.01126048]\n",
      "[0. 0. 1.] <-> [1.1355521e-02 5.1176386e-05 9.8859334e-01]\n",
      "[1. 0. 0.] <-> [0.9976931  0.00118303 0.00112386]\n",
      "[0. 0. 1.] <-> [1.0984736e-02 4.9542003e-05 9.8896575e-01]\n",
      "{'accuracy': 0.9691358024691358, 'mean_square_error': 0.07204220591042756, 'categorical_crossentropy': 0.11109597594649703, 'essential_metrics': {0: {'tp_hit': 76, 'fp_hit': 5, 'tn_hit': 27, 'fn_hit': 0}, 1: {'tp_hit': 14, 'fp_hit': 0, 'tn_hit': 91, 'fn_hit': 3}, 2: {'tp_hit': 13, 'fp_hit': 0, 'tn_hit': 93, 'fn_hit': 2}}}\n"
     ]
    }
   ],
   "source": [
    "# recall phase\n",
    "score = model.evaluate(x_test, y_test, False)\n",
    "print(score)"
   ]
  },
  {
   "cell_type": "code",
   "execution_count": 11,
   "metadata": {},
   "outputs": [
    {
     "data": {
      "image/png": "[encoded data removed]",
      "text/plain": [
       "<Figure size 864x360 with 1 Axes>"
      ]
     },
     "metadata": {
      "needs_background": "light"
     },
     "output_type": "display_data"
    },
    {
     "data": {
      "image/png": "[encoded data removed]",
      "text/plain": [
       "<Figure size 864x360 with 1 Axes>"
      ]
     },
     "metadata": {
      "needs_background": "light"
     },
     "output_type": "display_data"
    }
   ],
   "source": [
    "draw_plot(x = [[i for i in range(len(history))], [(i+1)*breakpoint for i in range(len(checkpoints))]], y_list = [history, [ ckp[model.loss_fn] for ckp in checkpoints ]], x_label = 'Epochs', \\\n",
    "    y_label = model.loss_fn, legend=['train', 'test'])\n",
    "acc = [ ckp['accuracy'] for ckp in checkpoints ]\n",
    "draw_plot(x = [[(i+1)*breakpoint for i in range(len(checkpoints))]], y_list = [acc], x_label = 'Checkpoints', \\\n",
    "    y_label = 'accuracy')"
   ]
  },
  {
   "cell_type": "code",
   "execution_count": 12,
   "metadata": {
    "scrolled": true
   },
   "outputs": [
    {
     "name": "stdout",
     "output_type": "stream",
     "text": [
      "{'accuracy': 0.9567901234567902, 'mean_square_error': 0.10471668961336646, 'categorical_crossentropy': 0.19304460949367946, 'essential_metrics': {0: {'tp_hit': 74, 'fp_hit': 5, 'tn_hit': 27, 'fn_hit': 2}, 1: {'tp_hit': 14, 'fp_hit': 1, 'tn_hit': 90, 'fn_hit': 3}, 2: {'tp_hit': 13, 'fp_hit': 1, 'tn_hit': 92, 'fn_hit': 2}}, 'checkpoint': 100} \n",
      "\n",
      "\n",
      "{'accuracy': 0.9567901234567902, 'mean_square_error': 0.07598870838826575, 'categorical_crossentropy': 0.11627522221317997, 'essential_metrics': {0: {'tp_hit': 74, 'fp_hit': 5, 'tn_hit': 27, 'fn_hit': 2}, 1: {'tp_hit': 14, 'fp_hit': 0, 'tn_hit': 91, 'fn_hit': 3}, 2: {'tp_hit': 13, 'fp_hit': 2, 'tn_hit': 91, 'fn_hit': 2}}, 'checkpoint': 200} \n",
      "\n",
      "\n",
      "{'accuracy': 0.9629629629629629, 'mean_square_error': 0.07030228104558574, 'categorical_crossentropy': 0.106716341442532, 'essential_metrics': {0: {'tp_hit': 75, 'fp_hit': 5, 'tn_hit': 27, 'fn_hit': 1}, 1: {'tp_hit': 14, 'fp_hit': 0, 'tn_hit': 91, 'fn_hit': 3}, 2: {'tp_hit': 13, 'fp_hit': 1, 'tn_hit': 92, 'fn_hit': 2}}, 'checkpoint': 300} \n",
      "\n",
      "\n",
      "{'accuracy': 0.9629629629629629, 'mean_square_error': 0.06960656050293013, 'categorical_crossentropy': 0.10740678398697465, 'essential_metrics': {0: {'tp_hit': 75, 'fp_hit': 5, 'tn_hit': 27, 'fn_hit': 1}, 1: {'tp_hit': 14, 'fp_hit': 0, 'tn_hit': 91, 'fn_hit': 3}, 2: {'tp_hit': 13, 'fp_hit': 1, 'tn_hit': 92, 'fn_hit': 2}}, 'checkpoint': 400} \n",
      "\n",
      "\n",
      "{'accuracy': 0.9691358024691358, 'mean_square_error': 0.07204220591042756, 'categorical_crossentropy': 0.11109597594649703, 'essential_metrics': {0: {'tp_hit': 76, 'fp_hit': 5, 'tn_hit': 27, 'fn_hit': 0}, 1: {'tp_hit': 14, 'fp_hit': 0, 'tn_hit': 91, 'fn_hit': 3}, 2: {'tp_hit': 13, 'fp_hit': 0, 'tn_hit': 93, 'fn_hit': 2}}, 'checkpoint': 500} \n",
      "\n",
      "\n"
     ]
    }
   ],
   "source": [
    "for checkpoint in checkpoints:\n",
    "    print(checkpoint, '\\n\\n')"
   ]
  },
  {
   "cell_type": "code",
   "execution_count": 13,
   "metadata": {},
   "outputs": [
    {
     "name": "stdout",
     "output_type": "stream",
     "text": [
      "Layer 1\n",
      "Neuron 0: weights:\n",
      "[ 1.9606107 -3.        -1.9803407 -1.4796925  1.0407665]\n",
      " bias: 3.0\n",
      "\n",
      "Neuron 1: weights:\n",
      "[-0.54228365  3.          1.4414958  -3.         -3.        ]\n",
      " bias: 3.0\n",
      "\n",
      "Neuron 2: weights:\n",
      "[-1.9316673  3.         3.         3.        -1.5044345]\n",
      " bias: -3.0\n",
      "\n",
      "Neuron 3: weights:\n",
      "[ 1.7037479  -3.         -1.2884014   3.          0.21768388]\n",
      " bias: -3.0\n",
      "\n",
      "$\n",
      "Layer 2\n",
      "Neuron 0: weights:\n",
      "[ 3.  3. -3. -3.]\n",
      " bias: 0.378469318151474\n",
      "\n",
      "Neuron 1: weights:\n",
      "[-3.         1.4421197  3.        -3.       ]\n",
      " bias: 0.9762787818908691\n",
      "\n",
      "Neuron 2: weights:\n",
      "[ 3.         -3.         -0.69972396  3.        ]\n",
      " bias: -1.1216280460357666\n",
      "\n",
      "$\n",
      "\n"
     ]
    }
   ],
   "source": [
    "print(model)"
   ]
  }
 ],
 "metadata": {
  "kernelspec": {
   "display_name": "Python 3",
   "language": "python",
   "name": "python3"
  },
  "language_info": {
   "codemirror_mode": {
    "name": "ipython",
    "version": 3
   },
   "file_extension": ".py",
   "mimetype": "text/x-python",
   "name": "python",
   "nbconvert_exporter": "python",
   "pygments_lexer": "ipython3",
   "version": "3.6.10"
  }
 },
 "nbformat": 4,
 "nbformat_minor": 2
}
