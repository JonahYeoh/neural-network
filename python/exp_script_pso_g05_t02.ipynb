{
 "cells": [
  {
   "cell_type": "code",
   "execution_count": 1,
   "metadata": {},
   "outputs": [],
   "source": [
    "# dependency\n",
    "import numpy as np\n",
    "import pandas as pd\n",
    "import copy\n",
    "import math\n",
    "import sys\n",
    "import os\n",
    "from activations import relu, leaky_relu, sigmoid, tanh, softmax, d_sigmoid, d_relu\n",
    "from initializers import glorot_uniform, random_normal, random_uniform\n",
    "from regularizers import l1_regularizer, l2_regularizer\n",
    "from utility import trim_tail, multiply, subtract, get_nparams, one_hot_encoding, get_data\n",
    "from metrics import MSE, CCE, ACC, PRECISION, RECALL, essential_metrics, wondering_penalty, close_gap_penalty\n",
    "from pso import PSO\n",
    "from ga import GA\n",
    "from nn import Network\n",
    "from layer import DenseLayer\n",
    "from scalers import MinMaxScaler, StandardScaler"
   ]
  },
  {
   "cell_type": "code",
   "execution_count": 2,
   "metadata": {},
   "outputs": [],
   "source": [
    "# reference\n",
    "metrics_fn_dict = dict()\n",
    "metrics_fn_dict['accuracy'] = ACC\n",
    "metrics_fn_dict['categorical_crossentropy'] = CCE\n",
    "metrics_fn_dict['mean_square_error'] = MSE\n",
    "metrics_fn_dict['precision'] = PRECISION\n",
    "metrics_fn_dict['recall'] = RECALL\n",
    "metrics_fn_dict['essential_metrics'] = essential_metrics"
   ]
  },
  {
   "cell_type": "code",
   "execution_count": 3,
   "metadata": {},
   "outputs": [],
   "source": [
    "# model\n",
    "model = Network(5, lr = None)\n",
    "model.add_layer(DenseLayer(1, 4, True, afn=sigmoid, dafn=None, rfn=None))\n",
    "model.add_layer(DenseLayer(2, 3, True, afn=softmax, dafn=None, rfn=None))"
   ]
  },
  {
   "cell_type": "code",
   "execution_count": 4,
   "metadata": {},
   "outputs": [],
   "source": [
    "pso = PSO(dict(m = 50,\n",
    "    weight_constraint = [-3, 3], \n",
    "    velocity_constraint = [-0.1, 0.1],\n",
    "    c1 = 2,\n",
    "    c2 = 2,\n",
    "    w = 1,\n",
    "    w_decay = 1,\n",
    "    scale_hyperparameter = False,\n",
    "    regularizer = None,\n",
    "    mask = True))"
   ]
  },
  {
   "cell_type": "code",
   "execution_count": 5,
   "metadata": {},
   "outputs": [
    {
     "name": "stdout",
     "output_type": "stream",
     "text": [
      "building layer 1 with 5\n",
      "24\n",
      "building layer 2 with 4\n",
      "15\n"
     ]
    }
   ],
   "source": [
    "model.compile(loss_fn = 'categorical_crossentropy', optimizer = pso, \\\n",
    "    metrics = ['accuracy', 'mean_square_error', 'categorical_crossentropy'])"
   ]
  },
  {
   "cell_type": "code",
   "execution_count": 6,
   "metadata": {},
   "outputs": [
    {
     "name": "stdout",
     "output_type": "stream",
     "text": [
      "<class 'pandas.core.frame.DataFrame'>\n",
      "RangeIndex: 107 entries, 0 to 106\n",
      "Data columns (total 6 columns):\n",
      " #   Column  Non-Null Count  Dtype  \n",
      "---  ------  --------------  -----  \n",
      " 0   f1      107 non-null    float32\n",
      " 1   f2      107 non-null    float32\n",
      " 2   f3      107 non-null    float32\n",
      " 3   f4      107 non-null    float32\n",
      " 4   f5      107 non-null    float32\n",
      " 5   label   107 non-null    float32\n",
      "dtypes: float32(6)\n",
      "memory usage: 2.6 KB\n",
      "None\n",
      "<class 'pandas.core.frame.DataFrame'>\n",
      "RangeIndex: 108 entries, 0 to 107\n",
      "Data columns (total 6 columns):\n",
      " #   Column  Non-Null Count  Dtype  \n",
      "---  ------  --------------  -----  \n",
      " 0   f1      108 non-null    float32\n",
      " 1   f2      108 non-null    float32\n",
      " 2   f3      108 non-null    float32\n",
      " 3   f4      108 non-null    float32\n",
      " 4   f5      108 non-null    float32\n",
      " 5   label   108 non-null    float32\n",
      "dtypes: float32(6)\n",
      "memory usage: 2.7 KB\n",
      "None\n"
     ]
    }
   ],
   "source": [
    "# data loading\n",
    "DATA = os.path.join('c:\\\\Users\\\\tcumi\\\\github_repo\\\\neural-network\\\\', 'dataset')\n",
    "GROUP = 5\n",
    "COLUMNS = ['f1', 'f2', 'f3', 'f4', 'f5', 'label']\n",
    "N_CLASS = 3\n",
    "EPOCHS = 500\n",
    "train_dir, test_dir = \"..//dataset//training_data{}.txt\".format(GROUP), \"..//dataset//testing_data{}.txt\".format(GROUP)\n",
    "train, test = get_data(DATA, train_dir, COLUMNS), get_data(DATA, test_dir, COLUMNS)\n",
    "# shuffle\n",
    "train, test = train.sample(frac=1), test.sample(frac=1)\n",
    "x_train, y_train = train.drop('label', axis=1), train['label']\n",
    "x_test, y_test = test.drop('label', axis=1), test['label']"
   ]
  },
  {
   "cell_type": "code",
   "execution_count": 7,
   "metadata": {},
   "outputs": [],
   "source": [
    "# data scaling and encoding\n",
    "scaler = StandardScaler(['f1', 'f2', 'f3', 'f4', 'f5'])\n",
    "scaler.fit(x_train)\n",
    "x_train = scaler.transform(x_train)\n",
    "x_test = scaler.transform(x_test)\n",
    "y_train = one_hot_encoding(y_train, N_CLASS)\n",
    "y_test = one_hot_encoding(y_test, N_CLASS)"
   ]
  },
  {
   "cell_type": "code",
   "execution_count": 8,
   "metadata": {
    "tags": [
     "outputPrepend"
    ]
   },
   "outputs": [
    {
     "name": "stdout",
     "output_type": "stream",
     "text": [
      "Checkpoint 100, Accuracy: 0.9320987654320988, Loss: 0.3132765028211806\n",
      "Checkpoint 200, Accuracy: 0.9629629629629629, Loss: 0.14209731419881186\n",
      "Checkpoint 300, Accuracy: 0.9629629629629629, Loss: 0.1299502143153438\n",
      "Checkpoint 400, Accuracy: 0.9691358024691358, Loss: 0.12370611120153356\n",
      "Checkpoint 500, Accuracy: 0.9691358024691358, Loss: 0.11502665060537832\n"
     ]
    }
   ],
   "source": [
    "# learning phase\n",
    "breakpoint = 100\n",
    "checkpoints = list()\n",
    "history = list()\n",
    "for century in range(0, EPOCHS, breakpoint):\n",
    "    sub_history = model.fit(x_train, y_train, breakpoint, verbose = 0)\n",
    "    score = model.evaluate(x_test, y_test, False, verbose = 0)\n",
    "    print('Checkpoint {}, Accuracy: {}, Loss: {}'.format(century+breakpoint, score['accuracy'], score[model.loss_fn]))\n",
    "    score['checkpoint'] = century + breakpoint\n",
    "    checkpoints.append(score)\n",
    "    history.extend(sub_history)"
   ]
  },
  {
   "cell_type": "code",
   "execution_count": 9,
   "metadata": {},
   "outputs": [],
   "source": [
    "import matplotlib.pyplot as plt\n",
    "\n",
    "def draw_plot(x, y_list, x_label=None, y_label=None, legend=None, title=None):\n",
    "    fig, ax = plt.subplots(figsize=(12,5))\n",
    "    for xi, yi in zip(x, y_list):\n",
    "        ax.plot(xi, yi)\n",
    "    if x_label is not None and y_label is not None:\n",
    "        ax.set(xlabel=x_label, ylabel=y_label, title='{} VS {}'.format(x_label, y_label))\n",
    "    if legend is not None:\n",
    "        ax.legend(legend)\n",
    "    ax.grid()\n",
    "    plt.show()"
   ]
  },
  {
   "cell_type": "code",
   "execution_count": 10,
   "metadata": {},
   "outputs": [
    {
     "name": "stdout",
     "output_type": "stream",
     "text": [
      "[0. 1. 0.] <-> [6.4372617e-01 3.5581648e-01 4.5733355e-04]\n",
      "[1. 0. 0.] <-> [9.9763906e-01 1.5958981e-03 7.6510163e-04]\n",
      "[1. 0. 0.] <-> [0.9523679  0.00130315 0.046329  ]\n",
      "[1. 0. 0.] <-> [9.9732202e-01 1.8541351e-03 8.2388712e-04]\n",
      "[1. 0. 0.] <-> [0.9973513  0.00114333 0.0015054 ]\n",
      "[1. 0. 0.] <-> [0.9949485  0.00116218 0.00388926]\n",
      "[1. 0. 0.] <-> [0.9971656  0.00109222 0.00174218]\n",
      "[0. 0. 1.] <-> [8.6193802e-03 2.1365306e-05 9.9135923e-01]\n",
      "[1. 0. 0.] <-> [0.9964065  0.00115644 0.00243704]\n",
      "[0. 1. 0.] <-> [8.4573753e-02 9.1536641e-01 5.9942282e-05]\n",
      "[0. 1. 0.] <-> [6.6010696e-03 9.9339432e-01 4.6702844e-06]\n",
      "[1. 0. 0.] <-> [0.9978237  0.00113468 0.00104165]\n",
      "[1. 0. 0.] <-> [9.978393e-01 1.338997e-03 8.216937e-04]\n",
      "[1. 0. 0.] <-> [0.997593   0.00133591 0.00107118]\n",
      "[1. 0. 0.] <-> [0.99734926 0.00112906 0.00152171]\n",
      "[0. 1. 0.] <-> [6.3070105e-03 9.9368852e-01 4.4612366e-06]\n",
      "[1. 0. 0.] <-> [9.9768114e-01 1.4142693e-03 9.0460462e-04]\n",
      "[1. 0. 0.] <-> [0.7876256 0.0012132 0.2111612]\n",
      "[1. 0. 0.] <-> [9.9773240e-01 1.3155492e-03 9.5203606e-04]\n",
      "[0. 1. 0.] <-> [9.4111323e-01 5.8215834e-02 6.7088241e-04]\n",
      "[0. 1. 0.] <-> [6.3128108e-03 9.9368274e-01 4.4653566e-06]\n",
      "[1. 0. 0.] <-> [0.9976277  0.00120935 0.00116293]\n",
      "[1. 0. 0.] <-> [9.9773920e-01 1.2931734e-03 9.6760882e-04]\n",
      "[1. 0. 0.] <-> [0.9548307  0.00129258 0.04387673]\n",
      "[1. 0. 0.] <-> [9.9770916e-01 1.3318642e-03 9.5898384e-04]\n",
      "[1. 0. 0.] <-> [0.9960347  0.00288264 0.00108268]\n",
      "[0. 1. 0.] <-> [2.1438527e-01 7.8546149e-01 1.5316295e-04]\n",
      "[1. 0. 0.] <-> [0.99696213 0.00129985 0.00173804]\n",
      "[0. 1. 0.] <-> [6.3069831e-03 9.9368852e-01 4.4612193e-06]\n",
      "[1. 0. 0.] <-> [0.91081053 0.00129594 0.08789349]\n",
      "[0. 1. 0.] <-> [6.3069388e-03 9.9368864e-01 4.4611857e-06]\n",
      "[0. 1. 0.] <-> [6.3068666e-03 9.9368864e-01 4.4611347e-06]\n",
      "[1. 0. 0.] <-> [9.9645495e-01 2.7469702e-03 7.9809222e-04]\n",
      "[0. 1. 0.] <-> [1.1440923e-02 9.8855096e-01 8.1028584e-06]\n",
      "[1. 0. 0.] <-> [9.9746358e-01 1.7676181e-03 7.6868571e-04]\n",
      "[1. 0. 0.] <-> [0.9977417  0.00114655 0.00111176]\n",
      "[1. 0. 0.] <-> [0.99074835 0.00129125 0.00796038]\n",
      "[1. 0. 0.] <-> [9.937065e-01 5.551376e-03 7.421424e-04]\n",
      "[1. 0. 0.] <-> [0.9749092  0.00125491 0.0238359 ]\n",
      "[0. 1. 0.] <-> [6.3074082e-03 9.9368817e-01 4.4615240e-06]\n",
      "[1. 0. 0.] <-> [9.9661416e-01 2.5636989e-03 8.2211604e-04]\n",
      "[0. 0. 1.] <-> [0.915613   0.00129729 0.08308982]\n",
      "[1. 0. 0.] <-> [0.96133894 0.00127544 0.03738565]\n",
      "[1. 0. 0.] <-> [0.997789   0.00114778 0.00106315]\n",
      "[0. 1. 0.] <-> [2.9063720e-02 9.7091573e-01 2.0598072e-05]\n",
      "[1. 0. 0.] <-> [0.9954371  0.00112225 0.0034407 ]\n",
      "[1. 0. 0.] <-> [0.9977642  0.00118147 0.00105426]\n",
      "[1. 0. 0.] <-> [9.9751389e-01 1.5993909e-03 8.8675838e-04]\n",
      "[1. 0. 0.] <-> [9.9775511e-01 1.3865693e-03 8.5822702e-04]\n",
      "[1. 0. 0.] <-> [9.7023052e-01 2.9053437e-02 7.1608083e-04]\n",
      "[1. 0. 0.] <-> [9.9239516e-01 6.8922048e-03 7.1265327e-04]\n",
      "[0. 0. 1.] <-> [8.6506885e-03 2.1436881e-05 9.9132794e-01]\n",
      "[1. 0. 0.] <-> [0.99314535 0.00114929 0.00570538]\n",
      "[1. 0. 0.] <-> [0.9975777  0.00138645 0.0010358 ]\n",
      "[1. 0. 0.] <-> [0.972839   0.00127151 0.02588949]\n",
      "[1. 0. 0.] <-> [0.9944001  0.00119767 0.00440233]\n",
      "[1. 0. 0.] <-> [0.997431   0.00148501 0.00108406]\n",
      "[1. 0. 0.] <-> [0.9852904  0.00120531 0.01350425]\n",
      "[0. 0. 1.] <-> [8.6113159e-03 2.1346988e-05 9.9136728e-01]\n",
      "[1. 0. 0.] <-> [9.9776983e-01 1.2902701e-03 9.3991065e-04]\n",
      "[1. 0. 0.] <-> [9.9769080e-01 1.3486183e-03 9.6067699e-04]\n",
      "[0. 0. 1.] <-> [8.6113373e-03 2.1347518e-05 9.9136728e-01]\n",
      "[1. 0. 0.] <-> [0.9970489  0.00114228 0.00180887]\n",
      "[1. 0. 0.] <-> [0.6025049  0.00100853 0.39648652]\n",
      "[1. 0. 0.] <-> [0.9740166  0.00125139 0.02473201]\n",
      "[1. 0. 0.] <-> [0.98451644 0.00120753 0.01427598]\n",
      "[1. 0. 0.] <-> [0.9977871  0.00118234 0.00103052]\n",
      "[1. 0. 0.] <-> [9.9637705e-01 2.8351876e-03 7.8774174e-04]\n",
      "[1. 0. 0.] <-> [0.9966974  0.00111931 0.00218323]\n",
      "[1. 0. 0.] <-> [0.9974721  0.00119237 0.00133547]\n",
      "[1. 0. 0.] <-> [0.65635705 0.00105797 0.34258503]\n",
      "[0. 0. 1.] <-> [8.6113075e-03 2.1351285e-05 9.9136728e-01]\n",
      "[1. 0. 0.] <-> [9.9507505e-01 4.1771606e-03 7.4782304e-04]\n",
      "[1. 0. 0.] <-> [9.9785429e-01 1.2241255e-03 9.2151167e-04]\n",
      "[0. 0. 1.] <-> [8.6114556e-03 2.1351301e-05 9.9136716e-01]\n",
      "[1. 0. 0.] <-> [9.9769092e-01 1.4527007e-03 8.5641484e-04]\n",
      "[1. 0. 0.] <-> [0.9896993  0.00124807 0.00905254]\n",
      "[1. 0. 0.] <-> [0.99742365 0.00120883 0.00136751]\n",
      "[1. 0. 0.] <-> [0.994692   0.00112273 0.00418526]\n",
      "[1. 0. 0.] <-> [0.99744666 0.0013638  0.00118951]\n",
      "[0. 0. 1.] <-> [1.1914346e-01 2.3590619e-04 8.8062060e-01]\n",
      "[0. 0. 1.] <-> [8.617372e-03 2.136252e-05 9.913613e-01]\n",
      "[0. 1. 0.] <-> [6.4993855e-03 9.9349594e-01 4.5975071e-06]\n",
      "[0. 0. 1.] <-> [8.6127818e-03 2.1354472e-05 9.9136591e-01]\n",
      "[1. 0. 0.] <-> [0.99734527 0.00108806 0.0015667 ]\n",
      "[1. 0. 0.] <-> [0.67369276 0.00110013 0.32520708]\n",
      "[1. 0. 0.] <-> [0.9974795  0.0011527  0.00136775]\n",
      "[1. 0. 0.] <-> [0.9900949  0.00120213 0.00870292]\n",
      "[0. 0. 1.] <-> [8.6200573e-03 2.1366457e-05 9.9135864e-01]\n",
      "[0. 0. 1.] <-> [8.611370e-03 2.134721e-05 9.913673e-01]\n",
      "[1. 0. 0.] <-> [0.99178445 0.00118506 0.00703052]\n",
      "[0. 1. 0.] <-> [2.0836170e-01 7.9149055e-01 1.4777979e-04]\n",
      "[0. 0. 1.] <-> [8.6347219e-03 2.1399317e-05 9.9134386e-01]\n",
      "[1. 0. 0.] <-> [0.9971927  0.00153914 0.0012681 ]\n",
      "[1. 0. 0.] <-> [9.9763501e-01 1.4890851e-03 8.7594421e-04]\n",
      "[1. 0. 0.] <-> [9.9768984e-01 1.5318333e-03 7.7830569e-04]\n",
      "[1. 0. 0.] <-> [9.7439981e-01 2.4886820e-02 7.1329856e-04]\n",
      "[1. 0. 0.] <-> [0.99683005 0.00108434 0.00208556]\n",
      "[1. 0. 0.] <-> [9.9791116e-01 1.2673473e-03 8.2143524e-04]\n",
      "[1. 0. 0.] <-> [9.9698871e-01 2.1921347e-03 8.1906054e-04]\n",
      "[1. 0. 0.] <-> [9.9784923e-01 1.2159595e-03 9.3480444e-04]\n",
      "[0. 0. 1.] <-> [8.612228e-03 2.158338e-05 9.913662e-01]\n",
      "[0. 1. 0.] <-> [6.3068848e-03 9.9368864e-01 4.4611475e-06]\n",
      "[1. 0. 0.] <-> [9.9753028e-01 1.6800060e-03 7.8976667e-04]\n",
      "[0. 1. 0.] <-> [5.4134065e-01 4.5827174e-01 3.8761398e-04]\n",
      "[0. 0. 1.] <-> [0.8894253  0.00129098 0.10928375]\n",
      "[1. 0. 0.] <-> [0.9949692  0.00118849 0.00384238]\n",
      "[1. 0. 0.] <-> [0.9962781  0.00111195 0.0026099 ]\n",
      "{'accuracy': 0.9691358024691358, 'mean_square_error': 0.0700661346622674, 'categorical_crossentropy': 0.11502665060537832, 'essential_metrics': {0: {'tp_hit': 76, 'fp_hit': 5, 'tn_hit': 27, 'fn_hit': 0}, 1: {'tp_hit': 14, 'fp_hit': 0, 'tn_hit': 91, 'fn_hit': 3}, 2: {'tp_hit': 13, 'fp_hit': 0, 'tn_hit': 93, 'fn_hit': 2}}}\n"
     ]
    }
   ],
   "source": [
    "# recall phase\n",
    "score = model.evaluate(x_test, y_test, False)\n",
    "print(score)"
   ]
  },
  {
   "cell_type": "code",
   "execution_count": 11,
   "metadata": {},
   "outputs": [
    {
     "data": {
      "image/png": "[encoded data removed]",
      "text/plain": [
       "<Figure size 864x360 with 1 Axes>"
      ]
     },
     "metadata": {
      "needs_background": "light"
     },
     "output_type": "display_data"
    },
    {
     "data": {
      "image/png": "[encoded data removed]",
      "text/plain": [
       "<Figure size 864x360 with 1 Axes>"
      ]
     },
     "metadata": {
      "needs_background": "light"
     },
     "output_type": "display_data"
    }
   ],
   "source": [
    "draw_plot(x = [[i for i in range(len(history))], [(i+1)*breakpoint for i in range(len(checkpoints))]], y_list = [history, [ ckp[model.loss_fn] for ckp in checkpoints ]], x_label = 'Epochs', \\\n",
    "    y_label = model.loss_fn, legend=['train', 'test'])\n",
    "acc = [ ckp['accuracy'] for ckp in checkpoints ]\n",
    "draw_plot(x = [[(i+1)*breakpoint for i in range(len(checkpoints))]], y_list = [acc], x_label = 'Checkpoints', \\\n",
    "    y_label = 'accuracy')"
   ]
  },
  {
   "cell_type": "code",
   "execution_count": 12,
   "metadata": {},
   "outputs": [
    {
     "name": "stdout",
     "output_type": "stream",
     "text": [
      "{'accuracy': 0.9320987654320988, 'mean_square_error': 0.15114370613329545, 'categorical_crossentropy': 0.3132765028211806, 'essential_metrics': {0: {'tp_hit': 75, 'fp_hit': 10, 'tn_hit': 22, 'fn_hit': 1}, 1: {'tp_hit': 10, 'fp_hit': 0, 'tn_hit': 91, 'fn_hit': 7}, 2: {'tp_hit': 12, 'fp_hit': 1, 'tn_hit': 92, 'fn_hit': 3}}, 'checkpoint': 100} \n",
      "\n",
      "\n",
      "{'accuracy': 0.9629629629629629, 'mean_square_error': 0.07958848340299964, 'categorical_crossentropy': 0.14209731419881186, 'essential_metrics': {0: {'tp_hit': 75, 'fp_hit': 5, 'tn_hit': 27, 'fn_hit': 1}, 1: {'tp_hit': 15, 'fp_hit': 0, 'tn_hit': 91, 'fn_hit': 2}, 2: {'tp_hit': 12, 'fp_hit': 1, 'tn_hit': 92, 'fn_hit': 3}}, 'checkpoint': 200} \n",
      "\n",
      "\n",
      "{'accuracy': 0.9629629629629629, 'mean_square_error': 0.08077151710721815, 'categorical_crossentropy': 0.1299502143153438, 'essential_metrics': {0: {'tp_hit': 75, 'fp_hit': 5, 'tn_hit': 27, 'fn_hit': 1}, 1: {'tp_hit': 14, 'fp_hit': 0, 'tn_hit': 91, 'fn_hit': 3}, 2: {'tp_hit': 13, 'fp_hit': 1, 'tn_hit': 92, 'fn_hit': 2}}, 'checkpoint': 300} \n",
      "\n",
      "\n",
      "{'accuracy': 0.9691358024691358, 'mean_square_error': 0.07451438189115596, 'categorical_crossentropy': 0.12370611120153356, 'essential_metrics': {0: {'tp_hit': 76, 'fp_hit': 5, 'tn_hit': 27, 'fn_hit': 0}, 1: {'tp_hit': 14, 'fp_hit': 0, 'tn_hit': 91, 'fn_hit': 3}, 2: {'tp_hit': 13, 'fp_hit': 0, 'tn_hit': 93, 'fn_hit': 2}}, 'checkpoint': 400} \n",
      "\n",
      "\n",
      "{'accuracy': 0.9691358024691358, 'mean_square_error': 0.0700661346622674, 'categorical_crossentropy': 0.11502665060537832, 'essential_metrics': {0: {'tp_hit': 76, 'fp_hit': 5, 'tn_hit': 27, 'fn_hit': 0}, 1: {'tp_hit': 14, 'fp_hit': 0, 'tn_hit': 91, 'fn_hit': 3}, 2: {'tp_hit': 13, 'fp_hit': 0, 'tn_hit': 93, 'fn_hit': 2}}, 'checkpoint': 500} \n",
      "\n",
      "\n"
     ]
    }
   ],
   "source": [
    "for checkpoint in checkpoints:\n",
    "    print(checkpoint, '\\n\\n')"
   ]
  },
  {
   "cell_type": "code",
   "execution_count": 13,
   "metadata": {},
   "outputs": [
    {
     "name": "stdout",
     "output_type": "stream",
     "text": [
      "Layer 1\n",
      "Neuron 0: weights:\n",
      "[-1.2133465  3.         1.1371362 -3.        -1.1591982]\n",
      " bias: 3.0\n",
      "\n",
      "Neuron 1: weights:\n",
      "[ 2.0008695  -3.         -3.         -0.32489595  0.21676512]\n",
      " bias: 3.0\n",
      "\n",
      "Neuron 2: weights:\n",
      "[-1.1249171  3.         1.3352392 -3.        -1.197066 ]\n",
      " bias: 3.0\n",
      "\n",
      "Neuron 3: weights:\n",
      "[ 1.9216876  -3.         -1.75158    -1.230991    0.97487485]\n",
      " bias: 3.0\n",
      "\n",
      "$\n",
      "Layer 2\n",
      "Neuron 0: weights:\n",
      "[3. 3. 3. 3.]\n",
      " bias: -3.0\n",
      "\n",
      "Neuron 1: weights:\n",
      "[ 2.0597847 -3.         3.        -3.       ]\n",
      " bias: 3.0\n",
      "\n",
      "Neuron 2: weights:\n",
      "[-3.  3. -3.  3.]\n",
      " bias: 1.7460085153579712\n",
      "\n",
      "$\n",
      "\n"
     ]
    }
   ],
   "source": [
    "print(model)"
   ]
  }
 ],
 "metadata": {
  "kernelspec": {
   "display_name": "Python 3",
   "language": "python",
   "name": "python3"
  },
  "language_info": {
   "codemirror_mode": {
    "name": "ipython",
    "version": 3
   },
   "file_extension": ".py",
   "mimetype": "text/x-python",
   "name": "python",
   "nbconvert_exporter": "python",
   "pygments_lexer": "ipython3",
   "version": "3.6.10"
  }
 },
 "nbformat": 4,
 "nbformat_minor": 2
}
