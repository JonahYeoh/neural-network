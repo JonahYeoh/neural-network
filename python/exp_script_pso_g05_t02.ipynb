{
 "cells": [
  {
   "cell_type": "code",
   "execution_count": 1,
   "metadata": {},
   "outputs": [],
   "source": [
    "# dependency\n",
    "import numpy as np\n",
    "import pandas as pd\n",
    "import copy\n",
    "import math\n",
    "import sys\n",
    "import os\n",
    "from activations import relu, leaky_relu, sigmoid, tanh, softmax, d_sigmoid, d_relu\n",
    "from initializers import glorot_uniform, random_normal, random_uniform\n",
    "from regularizers import l1_regularizer, l2_regularizer\n",
    "from utility import trim_tail, multiply, subtract, get_nparams, one_hot_encoding, get_data\n",
    "from metrics import MSE, CCE, ACC, PRECISION, RECALL, essential_metrics, wondering_penalty, close_gap_penalty\n",
    "from pso import PSO\n",
    "from ga import GA\n",
    "from nn import Network\n",
    "from layer import DenseLayer\n",
    "from scalers import MinMaxScaler, StandardScaler"
   ]
  },
  {
   "cell_type": "code",
   "execution_count": 2,
   "metadata": {},
   "outputs": [],
   "source": [
    "# reference\n",
    "metrics_fn_dict = dict()\n",
    "metrics_fn_dict['accuracy'] = ACC\n",
    "metrics_fn_dict['categorical_crossentropy'] = CCE\n",
    "metrics_fn_dict['mean_square_error'] = MSE\n",
    "metrics_fn_dict['precision'] = PRECISION\n",
    "metrics_fn_dict['recall'] = RECALL\n",
    "metrics_fn_dict['essential_metrics'] = essential_metrics"
   ]
  },
  {
   "cell_type": "code",
   "execution_count": 3,
   "metadata": {},
   "outputs": [],
   "source": [
    "# model\n",
    "model = Network(5, lr = None)\n",
    "model.add_layer(DenseLayer(1, 4, True, afn=sigmoid, dafn=None, rfn=None))\n",
    "model.add_layer(DenseLayer(2, 3, True, afn=softmax, dafn=None, rfn=None))"
   ]
  },
  {
   "cell_type": "code",
   "execution_count": 4,
   "metadata": {},
   "outputs": [
    {
     "name": "stdout",
     "output_type": "stream",
     "text": [
      "see one see two 2 2\n"
     ]
    }
   ],
   "source": [
    "pso = PSO(dict(m = 50,\n",
    "    weight_constraint = [-3, 3], \n",
    "    velocity_constraint = [-0.1, 0.1],\n",
    "    c1 = 2,\n",
    "    c2 = 2,\n",
    "    w = 1,\n",
    "    w_decay = 1,\n",
    "    scale_hyperparameter = False,\n",
    "    regularizer = None,\n",
    "    mask = True))"
   ]
  },
  {
   "cell_type": "code",
   "execution_count": 5,
   "metadata": {},
   "outputs": [
    {
     "name": "stdout",
     "output_type": "stream",
     "text": [
      "building layer 1 with 5\n",
      "24\n",
      "building layer 2 with 4\n",
      "15\n"
     ]
    }
   ],
   "source": [
    "model.compile(loss_fn = 'categorical_crossentropy', optimizer = pso, \\\n",
    "    metrics = ['accuracy', 'mean_square_error', 'categorical_crossentropy'])"
   ]
  },
  {
   "cell_type": "code",
   "execution_count": 6,
   "metadata": {},
   "outputs": [
    {
     "name": "stdout",
     "output_type": "stream",
     "text": [
      "<class 'pandas.core.frame.DataFrame'>\n",
      "RangeIndex: 107 entries, 0 to 106\n",
      "Data columns (total 6 columns):\n",
      " #   Column  Non-Null Count  Dtype  \n",
      "---  ------  --------------  -----  \n",
      " 0   f1      107 non-null    float32\n",
      " 1   f2      107 non-null    float32\n",
      " 2   f3      107 non-null    float32\n",
      " 3   f4      107 non-null    float32\n",
      " 4   f5      107 non-null    float32\n",
      " 5   label   107 non-null    float32\n",
      "dtypes: float32(6)\n",
      "memory usage: 2.6 KB\n",
      "None\n",
      "<class 'pandas.core.frame.DataFrame'>\n",
      "RangeIndex: 108 entries, 0 to 107\n",
      "Data columns (total 6 columns):\n",
      " #   Column  Non-Null Count  Dtype  \n",
      "---  ------  --------------  -----  \n",
      " 0   f1      108 non-null    float32\n",
      " 1   f2      108 non-null    float32\n",
      " 2   f3      108 non-null    float32\n",
      " 3   f4      108 non-null    float32\n",
      " 4   f5      108 non-null    float32\n",
      " 5   label   108 non-null    float32\n",
      "dtypes: float32(6)\n",
      "memory usage: 2.7 KB\n",
      "None\n"
     ]
    }
   ],
   "source": [
    "# data loading\n",
    "DATA = os.path.join('c:\\\\Users\\\\AI-lab\\\\github_repo\\\\neural-network\\\\', 'dataset')\n",
    "GROUP = 5\n",
    "COLUMNS = ['f1', 'f2', 'f3', 'f4', 'f5', 'label']\n",
    "N_CLASS = 3\n",
    "EPOCHS = 500\n",
    "train_dir, test_dir = \"..//dataset//training_data{}.txt\".format(GROUP), \"..//dataset//testing_data{}.txt\".format(GROUP)\n",
    "train, test = get_data(DATA, train_dir, COLUMNS), get_data(DATA, test_dir, COLUMNS)\n",
    "# shuffle\n",
    "train, test = train.sample(frac=1), test.sample(frac=1)\n",
    "x_train, y_train = train.drop('label', axis=1), train['label']\n",
    "x_test, y_test = test.drop('label', axis=1), test['label']"
   ]
  },
  {
   "cell_type": "code",
   "execution_count": 7,
   "metadata": {},
   "outputs": [],
   "source": [
    "# data scaling and encoding\n",
    "scaler = StandardScaler(['f1', 'f2', 'f3', 'f4', 'f5'])\n",
    "scaler.fit(x_train)\n",
    "x_train = scaler.transform(x_train)\n",
    "x_test = scaler.transform(x_test)\n",
    "y_train = one_hot_encoding(y_train, N_CLASS)\n",
    "y_test = one_hot_encoding(y_test, N_CLASS)"
   ]
  },
  {
   "cell_type": "code",
   "execution_count": 8,
   "metadata": {
    "tags": [
     "outputPrepend"
    ]
   },
   "outputs": [
    {
     "name": "stdout",
     "output_type": "stream",
     "text": [
      "Checkpoint 100, Accuracy: 0.9506172839506173, Loss: 0.2570773583871347\n",
      "Checkpoint 200, Accuracy: 0.9629629629629629, Loss: 0.10498700318513093\n",
      "Checkpoint 300, Accuracy: 0.9691358024691358, Loss: 0.10080205069647895\n",
      "Checkpoint 400, Accuracy: 0.9691358024691358, Loss: 0.10400652885437012\n",
      "Checkpoint 500, Accuracy: 0.9691358024691358, Loss: 0.10571629912764938\n"
     ]
    }
   ],
   "source": [
    "# learning phase\n",
    "breakpoint = 100\n",
    "checkpoints = list()\n",
    "history = list()\n",
    "for century in range(0, EPOCHS, breakpoint):\n",
    "    sub_history = model.fit(x_train, y_train, breakpoint, verbose = 0)\n",
    "    score = model.evaluate(x_test, y_test, False, verbose = 0)\n",
    "    print('Checkpoint {}, Accuracy: {}, Loss: {}'.format(century+breakpoint, score['accuracy'], score[model.loss_fn]))\n",
    "    score['checkpoint'] = century + breakpoint\n",
    "    checkpoints.append(score)\n",
    "    history.extend(sub_history)"
   ]
  },
  {
   "cell_type": "code",
   "execution_count": 9,
   "metadata": {},
   "outputs": [],
   "source": [
    "import matplotlib.pyplot as plt\n",
    "\n",
    "def draw_plot(x, y_list, x_label=None, y_label=None, legend=None, title=None):\n",
    "    fig, ax = plt.subplots(figsize=(12,5))\n",
    "    for xi, yi in zip(x, y_list):\n",
    "        ax.plot(xi, yi)\n",
    "    if x_label is not None and y_label is not None:\n",
    "        ax.set(xlabel=x_label, ylabel=y_label, title='{} VS {}'.format(x_label, y_label))\n",
    "    if legend is not None:\n",
    "        ax.legend(legend)\n",
    "    ax.grid()\n",
    "    plt.show()"
   ]
  },
  {
   "cell_type": "code",
   "execution_count": 10,
   "metadata": {},
   "outputs": [
    {
     "name": "stdout",
     "output_type": "stream",
     "text": [
      "[1. 0. 0.] <-> [9.9740380e-01 1.8594688e-03 7.3670084e-04]\n",
      "[1. 0. 0.] <-> [0.9575639  0.00152943 0.04090669]\n",
      "[0. 1. 0.] <-> [1.6648702e-02 9.8327029e-01 8.1007114e-05]\n",
      "[1. 0. 0.] <-> [0.9966826  0.00107774 0.00223961]\n",
      "[1. 0. 0.] <-> [9.9805367e-01 1.0130984e-03 9.3323749e-04]\n",
      "[1. 0. 0.] <-> [9.9805105e-01 1.1283570e-03 8.2057627e-04]\n",
      "[1. 0. 0.] <-> [0.9977908  0.00101173 0.00119743]\n",
      "[0. 1. 0.] <-> [7.2484496e-03 9.9271047e-01 4.1011994e-05]\n",
      "[1. 0. 0.] <-> [0.99795544 0.00100586 0.00103867]\n",
      "[1. 0. 0.] <-> [0.78265315 0.00166916 0.21567772]\n",
      "[1. 0. 0.] <-> [9.980940e-01 9.801351e-04 9.258318e-04]\n",
      "[1. 0. 0.] <-> [0.6573722  0.00149141 0.34113634]\n",
      "[0. 1. 0.] <-> [7.2484319e-03 9.9271047e-01 4.1011914e-05]\n",
      "[0. 1. 0.] <-> [7.2484594e-03 9.9271047e-01 4.1012067e-05]\n",
      "[1. 0. 0.] <-> [9.980990e-01 9.874887e-04 9.134964e-04]\n",
      "[0. 0. 1.] <-> [1.0031308e-02 4.7186328e-05 9.8992157e-01]\n",
      "[1. 0. 0.] <-> [0.975066   0.00146637 0.02346768]\n",
      "[1. 0. 0.] <-> [0.9913736  0.00138775 0.0072386 ]\n",
      "[1. 0. 0.] <-> [0.9840385  0.01493922 0.00102235]\n",
      "[0. 0. 1.] <-> [1.0057253e-02 4.7296275e-05 9.8989546e-01]\n",
      "[1. 0. 0.] <-> [0.99766445 0.00100505 0.00133053]\n",
      "[0. 0. 1.] <-> [1.2175005e-01 3.7694370e-04 8.7787306e-01]\n",
      "[1. 0. 0.] <-> [9.9792576e-01 1.2066958e-03 8.6751033e-04]\n",
      "[1. 0. 0.] <-> [0.99501896 0.001137   0.003844  ]\n",
      "[0. 1. 0.] <-> [0.5699466  0.42875916 0.00129432]\n",
      "[1. 0. 0.] <-> [0.99776137 0.00104091 0.00119773]\n",
      "[0. 1. 0.] <-> [1.0505416e-01 8.9458835e-01 3.5751806e-04]\n",
      "[0. 0. 1.] <-> [0.91794395 0.00156886 0.08048715]\n",
      "[0. 1. 0.] <-> [7.5046890e-03 9.9245304e-01 4.2191677e-05]\n",
      "[1. 0. 0.] <-> [9.9775726e-01 1.2988007e-03 9.4388390e-04]\n",
      "[1. 0. 0.] <-> [9.9742991e-01 9.9445356e-04 1.5756187e-03]\n",
      "[1. 0. 0.] <-> [9.9774277e-01 1.2600692e-03 9.9721714e-04]\n",
      "[1. 0. 0.] <-> [0.9970958  0.00102977 0.00187451]\n",
      "[1. 0. 0.] <-> [9.9562103e-01 3.5549151e-03 8.2407385e-04]\n",
      "[0. 0. 1.] <-> [9.8331356e-03 4.8862610e-05 9.9011797e-01]\n",
      "[1. 0. 0.] <-> [9.9810022e-01 1.1790314e-03 7.2076288e-04]\n",
      "[1. 0. 0.] <-> [9.9698204e-01 2.2100478e-03 8.0793706e-04]\n",
      "[1. 0. 0.] <-> [0.9973164  0.00164646 0.00103704]\n",
      "[1. 0. 0.] <-> [9.9810863e-01 1.0333502e-03 8.5796474e-04]\n",
      "[1. 0. 0.] <-> [9.9816161e-01 1.0974490e-03 7.4098015e-04]\n",
      "[1. 0. 0.] <-> [9.9801743e-01 1.0001459e-03 9.8247651e-04]\n",
      "[1. 0. 0.] <-> [0.985415   0.00132526 0.01325975]\n",
      "[1. 0. 0.] <-> [0.99730384 0.00113889 0.00155723]\n",
      "[0. 0. 1.] <-> [1.0030773e-02 4.7193775e-05 9.8992199e-01]\n",
      "[1. 0. 0.] <-> [0.9970547  0.00103313 0.00191225]\n",
      "[1. 0. 0.] <-> [9.9782312e-01 1.4095145e-03 7.6734129e-04]\n",
      "[1. 0. 0.] <-> [0.99733764 0.00104594 0.0016165 ]\n",
      "[1. 0. 0.] <-> [9.9756515e-01 1.6477202e-03 7.8715646e-04]\n",
      "[1. 0. 0.] <-> [0.99063605 0.0012557  0.00810832]\n",
      "[1. 0. 0.] <-> [0.9949903  0.00114556 0.0038641 ]\n",
      "[1. 0. 0.] <-> [9.9806541e-01 1.0070676e-03 9.2757103e-04]\n",
      "[1. 0. 0.] <-> [9.9813700e-01 1.0219357e-03 8.4104919e-04]\n",
      "[0. 0. 1.] <-> [1.0031446e-02 4.7186997e-05 9.8992145e-01]\n",
      "[0. 1. 0.] <-> [4.4003926e-02 9.5581925e-01 1.7679806e-04]\n",
      "[1. 0. 0.] <-> [0.99783057 0.00111973 0.00104973]\n",
      "[1. 0. 0.] <-> [9.9804592e-01 1.0904684e-03 8.6367532e-04]\n",
      "[0. 0. 1.] <-> [1.0029765e-02 4.7201884e-05 9.8992306e-01]\n",
      "[0. 0. 1.] <-> [1.0040541e-02 4.7223519e-05 9.8991221e-01]\n",
      "[1. 0. 0.] <-> [9.9810326e-01 1.0450126e-03 8.5170573e-04]\n",
      "[0. 1. 0.] <-> [7.4231103e-03 9.9253511e-01 4.1804084e-05]\n",
      "[1. 0. 0.] <-> [9.9771911e-01 1.5326740e-03 7.4821507e-04]\n",
      "[1. 0. 0.] <-> [0.99541914 0.00111642 0.00346454]\n",
      "[1. 0. 0.] <-> [9.9808574e-01 1.0963567e-03 8.1789290e-04]\n",
      "[0. 1. 0.] <-> [7.2484389e-03 9.9271047e-01 4.1011954e-05]\n",
      "[1. 0. 0.] <-> [0.9923409  0.00119766 0.00646144]\n",
      "[1. 0. 0.] <-> [9.9807394e-01 1.1503036e-03 7.7575626e-04]\n",
      "[1. 0. 0.] <-> [9.9825019e-01 1.0191944e-03 7.3051685e-04]\n",
      "[1. 0. 0.] <-> [0.98446864 0.00135095 0.01418049]\n",
      "[1. 0. 0.] <-> [0.9966755  0.00106288 0.00226155]\n",
      "[1. 0. 0.] <-> [0.9976427  0.00100775 0.00134951]\n",
      "[1. 0. 0.] <-> [0.997755   0.00110639 0.00113867]\n",
      "[1. 0. 0.] <-> [9.9535298e-01 3.7383696e-03 9.0864644e-04]\n",
      "[1. 0. 0.] <-> [9.9797148e-01 1.3113234e-03 7.1713736e-04]\n",
      "[1. 0. 0.] <-> [9.9729902e-01 1.8865519e-03 8.1444922e-04]\n",
      "[1. 0. 0.] <-> [0.97590965 0.00142984 0.02266059]\n",
      "[0. 1. 0.] <-> [1.50376875e-02 9.84889269e-01 7.30677202e-05]\n",
      "[1. 0. 0.] <-> [9.9809343e-01 1.1343911e-03 7.7220256e-04]\n",
      "[0. 1. 0.] <-> [0.7697541  0.22885807 0.00138783]\n",
      "[0. 1. 0.] <-> [0.7660103  0.23262638 0.00136339]\n",
      "[1. 0. 0.] <-> [9.977896e-01 9.899661e-04 1.220431e-03]\n",
      "[0. 1. 0.] <-> [2.5077245e-01 7.4852884e-01 6.9865870e-04]\n",
      "[0. 0. 1.] <-> [0.8918125  0.00157414 0.10661329]\n",
      "[1. 0. 0.] <-> [0.9741638  0.00145029 0.0243859 ]\n",
      "[1. 0. 0.] <-> [9.9798322e-01 1.0563520e-03 9.6049224e-04]\n",
      "[1. 0. 0.] <-> [0.95562595 0.00155725 0.04281675]\n",
      "[1. 0. 0.] <-> [9.9804294e-01 1.1550194e-03 8.0202380e-04]\n",
      "[1. 0. 0.] <-> [0.90927655 0.00168265 0.08904085]\n",
      "[0. 0. 1.] <-> [8.587339e-03 6.302518e-05 9.913496e-01]\n",
      "[0. 0. 1.] <-> [1.0039053e-02 4.7232596e-05 9.8991370e-01]\n",
      "[1. 0. 0.] <-> [9.9759054e-01 9.7836577e-04 1.4310627e-03]\n",
      "[0. 1. 0.] <-> [7.2484389e-03 9.9271047e-01 4.1011994e-05]\n",
      "[1. 0. 0.] <-> [0.9934268  0.0012027  0.00537051]\n",
      "[1. 0. 0.] <-> [0.6867305  0.00147336 0.31179616]\n",
      "[1. 0. 0.] <-> [0.9958807  0.00109379 0.0030255 ]\n",
      "[0. 0. 1.] <-> [1.0073552e-02 4.7370962e-05 9.8987901e-01]\n",
      "[1. 0. 0.] <-> [0.97117627 0.02763834 0.00118536]\n",
      "[1. 0. 0.] <-> [0.99548185 0.00113966 0.00337848]\n",
      "[1. 0. 0.] <-> [9.9792320e-01 1.3592413e-03 7.1752438e-04]\n",
      "[1. 0. 0.] <-> [9.980831e-01 1.081217e-03 8.356719e-04]\n",
      "[1. 0. 0.] <-> [0.9604221  0.00152289 0.0380551 ]\n",
      "[0. 1. 0.] <-> [7.2485590e-03 9.9271035e-01 4.1012532e-05]\n",
      "[0. 0. 1.] <-> [1.0027088e-02 4.7252222e-05 9.8992562e-01]\n",
      "[1. 0. 0.] <-> [9.9755257e-01 1.5920493e-03 8.5538405e-04]\n",
      "[1. 0. 0.] <-> [0.99123865 0.00124671 0.00751458]\n",
      "[0. 0. 1.] <-> [1.0037896e-02 4.7211579e-05 9.8991489e-01]\n",
      "[1. 0. 0.] <-> [9.9657464e-01 2.6662049e-03 7.5915782e-04]\n",
      "[0. 1. 0.] <-> [7.2550406e-03 9.9270391e-01 4.1042236e-05]\n",
      "[1. 0. 0.] <-> [0.61673987 0.00147938 0.3817808 ]\n",
      "{'accuracy': 0.9691358024691358, 'mean_square_error': 0.06788424665134711, 'categorical_crossentropy': 0.10571629912764938, 'essential_metrics': {0: {'tp_hit': 76, 'fp_hit': 5, 'tn_hit': 27, 'fn_hit': 0}, 1: {'tp_hit': 14, 'fp_hit': 0, 'tn_hit': 91, 'fn_hit': 3}, 2: {'tp_hit': 13, 'fp_hit': 0, 'tn_hit': 93, 'fn_hit': 2}}}\n"
     ]
    }
   ],
   "source": [
    "# recall phase\n",
    "score = model.evaluate(x_test, y_test, False)\n",
    "print(score)"
   ]
  },
  {
   "cell_type": "code",
   "execution_count": 11,
   "metadata": {},
   "outputs": [],
   "source": [
    "train_acc = [h['accuracy'] for h in history]\n",
    "train_mse = [h['mean_square_error'] for h in history]\n",
    "train_cce = [h['categorical_crossentropy'] for h in history]"
   ]
  },
  {
   "cell_type": "code",
   "execution_count": 12,
   "metadata": {},
   "outputs": [
    {
     "data": {
      "image/png": "[encoded data removed]",
      "text/plain": [
       "<Figure size 864x360 with 1 Axes>"
      ]
     },
     "metadata": {
      "needs_background": "light"
     },
     "output_type": "display_data"
    },
    {
     "data": {
      "image/png": "[encoded data removed]",
      "text/plain": [
       "<Figure size 864x360 with 1 Axes>"
      ]
     },
     "metadata": {
      "needs_background": "light"
     },
     "output_type": "display_data"
    }
   ],
   "source": [
    "draw_plot(x = [[i for i in range(len(history))], [(i+1)*breakpoint for i in range(len(checkpoints))]], y_list = [train_cce, [ ckp[model.loss_fn] for ckp in checkpoints ]], x_label = 'Epochs', \\\n",
    "    y_label = model.loss_fn, legend=['train', 'test'])\n",
    "acc = [ ckp['accuracy'] for ckp in checkpoints ]\n",
    "draw_plot(x = [[i for i in range(len(history))], [(i+1)*breakpoint for i in range(len(checkpoints))]], y_list = [train_acc, acc], x_label = 'Checkpoints', \\\n",
    "    y_label = 'accuracy', legend=['train', 'test'])"
   ]
  },
  {
   "cell_type": "code",
   "execution_count": 13,
   "metadata": {},
   "outputs": [
    {
     "name": "stdout",
     "output_type": "stream",
     "text": [
      "{'accuracy': 0.9506172839506173, 'mean_square_error': 0.12479718506175991, 'categorical_crossentropy': 0.2570773583871347, 'essential_metrics': {0: {'tp_hit': 75, 'fp_hit': 7, 'tn_hit': 25, 'fn_hit': 1}, 1: {'tp_hit': 13, 'fp_hit': 0, 'tn_hit': 91, 'fn_hit': 4}, 2: {'tp_hit': 12, 'fp_hit': 1, 'tn_hit': 92, 'fn_hit': 3}}, 'checkpoint': 100} \n",
      "\n",
      "\n",
      "{'accuracy': 0.9629629629629629, 'mean_square_error': 0.06581282709186159, 'categorical_crossentropy': 0.10498700318513093, 'essential_metrics': {0: {'tp_hit': 74, 'fp_hit': 4, 'tn_hit': 28, 'fn_hit': 2}, 1: {'tp_hit': 15, 'fp_hit': 0, 'tn_hit': 91, 'fn_hit': 2}, 2: {'tp_hit': 13, 'fp_hit': 2, 'tn_hit': 91, 'fn_hit': 2}}, 'checkpoint': 200} \n",
      "\n",
      "\n",
      "{'accuracy': 0.9691358024691358, 'mean_square_error': 0.06687660310984875, 'categorical_crossentropy': 0.10080205069647895, 'essential_metrics': {0: {'tp_hit': 76, 'fp_hit': 5, 'tn_hit': 27, 'fn_hit': 0}, 1: {'tp_hit': 14, 'fp_hit': 0, 'tn_hit': 91, 'fn_hit': 3}, 2: {'tp_hit': 13, 'fp_hit': 0, 'tn_hit': 93, 'fn_hit': 2}}, 'checkpoint': 300} \n",
      "\n",
      "\n",
      "{'accuracy': 0.9691358024691358, 'mean_square_error': 0.06669698970655695, 'categorical_crossentropy': 0.10400652885437012, 'essential_metrics': {0: {'tp_hit': 76, 'fp_hit': 5, 'tn_hit': 27, 'fn_hit': 0}, 1: {'tp_hit': 14, 'fp_hit': 0, 'tn_hit': 91, 'fn_hit': 3}, 2: {'tp_hit': 13, 'fp_hit': 0, 'tn_hit': 93, 'fn_hit': 2}}, 'checkpoint': 400} \n",
      "\n",
      "\n",
      "{'accuracy': 0.9691358024691358, 'mean_square_error': 0.06788424665134711, 'categorical_crossentropy': 0.10571629912764938, 'essential_metrics': {0: {'tp_hit': 76, 'fp_hit': 5, 'tn_hit': 27, 'fn_hit': 0}, 1: {'tp_hit': 14, 'fp_hit': 0, 'tn_hit': 91, 'fn_hit': 3}, 2: {'tp_hit': 13, 'fp_hit': 0, 'tn_hit': 93, 'fn_hit': 2}}, 'checkpoint': 500} \n",
      "\n",
      "\n"
     ]
    }
   ],
   "source": [
    "for checkpoint in checkpoints:\n",
    "    print(checkpoint, '\\n\\n')"
   ]
  },
  {
   "cell_type": "code",
   "execution_count": 14,
   "metadata": {},
   "outputs": [
    {
     "name": "stdout",
     "output_type": "stream",
     "text": [
      "Layer 1\n",
      "Neuron 0: weights:\n",
      "[ 1.2745383 -3.        -1.3903806  3.         1.0997423]\n",
      " bias: -3.0\n",
      "\n",
      "Neuron 1: weights:\n",
      "[-1.8671236  3.         3.         1.7726775 -1.0303199]\n",
      " bias: -3.0\n",
      "\n",
      "Neuron 2: weights:\n",
      "[ 1.8040378 -3.        -3.        -2.834051   1.5580804]\n",
      " bias: 3.0\n",
      "\n",
      "Neuron 3: weights:\n",
      "[-1.077131   3.         1.2683603 -3.        -1.2737513]\n",
      " bias: 3.0\n",
      "\n",
      "$\n",
      "Layer 2\n",
      "Neuron 0: weights:\n",
      "[-3. -3.  3.  3.]\n",
      " bias: -1.0950400829315186\n",
      "\n",
      "Neuron 1: weights:\n",
      "[-1.2790179  3.        -3.         3.       ]\n",
      " bias: -2.1753861904144287\n",
      "\n",
      "Neuron 2: weights:\n",
      "[ 3.        -3.         0.7665952 -3.       ]\n",
      " bias: -0.26971787214279175\n",
      "\n",
      "$\n",
      "\n"
     ]
    }
   ],
   "source": [
    "print(model)"
   ]
  },
  {
   "cell_type": "code",
   "execution_count": null,
   "metadata": {},
   "outputs": [],
   "source": []
  }
 ],
 "metadata": {
  "kernelspec": {
   "display_name": "Python 3",
   "language": "python",
   "name": "python3"
  },
  "language_info": {
   "codemirror_mode": {
    "name": "ipython",
    "version": 3
   },
   "file_extension": ".py",
   "mimetype": "text/x-python",
   "name": "python",
   "nbconvert_exporter": "python",
   "pygments_lexer": "ipython3",
   "version": "3.6.12"
  }
 },
 "nbformat": 4,
 "nbformat_minor": 2
}
