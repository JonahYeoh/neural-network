{
 "cells": [
  {
   "cell_type": "code",
   "execution_count": 1,
   "metadata": {},
   "outputs": [],
   "source": [
    "# dependency\n",
    "import numpy as np\n",
    "import pandas as pd\n",
    "import copy\n",
    "import math\n",
    "import sys\n",
    "import os\n",
    "from activations import relu, leaky_relu, sigmoid, tanh, softmax, d_sigmoid, d_relu\n",
    "from initializers import glorot_uniform, random_normal, random_uniform\n",
    "from regularizers import l1_regularizer, l2_regularizer\n",
    "from utility import trim_tail, multiply, subtract, get_nparams, one_hot_encoding, get_data\n",
    "from metrics import MSE, CCE, ACC, PRECISION, RECALL, essential_metrics, wondering_penalty, close_gap_penalty\n",
    "from pso import PSO\n",
    "from ga import GA\n",
    "from nn import Network\n",
    "from layer import DenseLayer\n",
    "from scalers import MinMaxScaler, StandardScaler"
   ]
  },
  {
   "cell_type": "code",
   "execution_count": 2,
   "metadata": {},
   "outputs": [],
   "source": [
    "# reference\n",
    "metrics_fn_dict = dict()\n",
    "metrics_fn_dict['accuracy'] = ACC\n",
    "metrics_fn_dict['categorical_crossentropy'] = CCE\n",
    "metrics_fn_dict['mean_square_error'] = MSE\n",
    "metrics_fn_dict['precision'] = PRECISION\n",
    "metrics_fn_dict['recall'] = RECALL\n",
    "metrics_fn_dict['essential_metrics'] = essential_metrics"
   ]
  },
  {
   "cell_type": "code",
   "execution_count": 3,
   "metadata": {},
   "outputs": [],
   "source": [
    "# model\n",
    "model = Network(5, lr = None)\n",
    "model.add_layer(DenseLayer(1, 4, True, afn=sigmoid, dafn=None, rfn=None))\n",
    "model.add_layer(DenseLayer(2, 3, True, afn=softmax, dafn=None, rfn=None))"
   ]
  },
  {
   "cell_type": "code",
   "execution_count": 4,
   "metadata": {},
   "outputs": [
    {
     "name": "stdout",
     "output_type": "stream",
     "text": [
      "see one see two 2 2\n"
     ]
    }
   ],
   "source": [
    "pso = PSO(dict(m = 50,\n",
    "    weight_constraint = [-3, 3], \n",
    "    velocity_constraint = [-0.1, 0.1],\n",
    "    c1 = 2,\n",
    "    c2 = 2,\n",
    "    w = 1,\n",
    "    w_decay = 1,\n",
    "    scale_hyperparameter = False,\n",
    "    regularizer = None,\n",
    "    mask = True))"
   ]
  },
  {
   "cell_type": "code",
   "execution_count": 5,
   "metadata": {},
   "outputs": [
    {
     "name": "stdout",
     "output_type": "stream",
     "text": [
      "building layer 1 with 5\n",
      "24\n",
      "building layer 2 with 4\n",
      "15\n"
     ]
    }
   ],
   "source": [
    "model.compile(loss_fn = 'categorical_crossentropy', optimizer = pso, \\\n",
    "    metrics = ['accuracy', 'mean_square_error', 'categorical_crossentropy'])"
   ]
  },
  {
   "cell_type": "code",
   "execution_count": 6,
   "metadata": {},
   "outputs": [
    {
     "name": "stdout",
     "output_type": "stream",
     "text": [
      "<class 'pandas.core.frame.DataFrame'>\n",
      "RangeIndex: 107 entries, 0 to 106\n",
      "Data columns (total 6 columns):\n",
      " #   Column  Non-Null Count  Dtype  \n",
      "---  ------  --------------  -----  \n",
      " 0   f1      107 non-null    float32\n",
      " 1   f2      107 non-null    float32\n",
      " 2   f3      107 non-null    float32\n",
      " 3   f4      107 non-null    float32\n",
      " 4   f5      107 non-null    float32\n",
      " 5   label   107 non-null    float32\n",
      "dtypes: float32(6)\n",
      "memory usage: 2.6 KB\n",
      "None\n",
      "<class 'pandas.core.frame.DataFrame'>\n",
      "RangeIndex: 108 entries, 0 to 107\n",
      "Data columns (total 6 columns):\n",
      " #   Column  Non-Null Count  Dtype  \n",
      "---  ------  --------------  -----  \n",
      " 0   f1      108 non-null    float32\n",
      " 1   f2      108 non-null    float32\n",
      " 2   f3      108 non-null    float32\n",
      " 3   f4      108 non-null    float32\n",
      " 4   f5      108 non-null    float32\n",
      " 5   label   108 non-null    float32\n",
      "dtypes: float32(6)\n",
      "memory usage: 2.7 KB\n",
      "None\n"
     ]
    }
   ],
   "source": [
    "# data loading\n",
    "DATA = os.path.join('c:\\\\Users\\\\tcumi\\\\github_repo\\\\neural-network\\\\', 'dataset')\n",
    "GROUP = 5\n",
    "COLUMNS = ['f1', 'f2', 'f3', 'f4', 'f5', 'label']\n",
    "N_CLASS = 3\n",
    "EPOCHS = 500\n",
    "train_dir, test_dir = \"..//dataset//training_data{}.txt\".format(GROUP), \"..//dataset//testing_data{}.txt\".format(GROUP)\n",
    "train, test = get_data(DATA, train_dir, COLUMNS), get_data(DATA, test_dir, COLUMNS)\n",
    "# shuffle\n",
    "train, test = train.sample(frac=1), test.sample(frac=1)\n",
    "x_train, y_train = train.drop('label', axis=1), train['label']\n",
    "x_test, y_test = test.drop('label', axis=1), test['label']"
   ]
  },
  {
   "cell_type": "code",
   "execution_count": 7,
   "metadata": {},
   "outputs": [],
   "source": [
    "# data scaling and encoding\n",
    "scaler = StandardScaler(['f1', 'f2', 'f3', 'f4', 'f5'])\n",
    "scaler.fit(x_train)\n",
    "x_train = scaler.transform(x_train)\n",
    "x_test = scaler.transform(x_test)\n",
    "y_train = one_hot_encoding(y_train, N_CLASS)\n",
    "y_test = one_hot_encoding(y_test, N_CLASS)"
   ]
  },
  {
   "cell_type": "code",
   "execution_count": 8,
   "metadata": {
    "tags": [
     "outputPrepend"
    ]
   },
   "outputs": [
    {
     "name": "stdout",
     "output_type": "stream",
     "text": [
      "Checkpoint 100, Accuracy: 0.9382716049382716, Loss: 0.35954457742196544\n",
      "Checkpoint 200, Accuracy: 0.9506172839506173, Loss: 0.15866016458581994\n",
      "Checkpoint 300, Accuracy: 0.9629629629629629, Loss: 0.1269982655843099\n",
      "Checkpoint 400, Accuracy: 0.9691358024691358, Loss: 0.1154905601784035\n",
      "Checkpoint 500, Accuracy: 0.9691358024691358, Loss: 0.12097516766300907\n"
     ]
    }
   ],
   "source": [
    "# learning phase\n",
    "breakpoint = 100\n",
    "checkpoints = list()\n",
    "history = list()\n",
    "for century in range(0, EPOCHS, breakpoint):\n",
    "    sub_history = model.fit(x_train, y_train, breakpoint, verbose = 0)\n",
    "    score = model.evaluate(x_test, y_test, False, verbose = 0)\n",
    "    print('Checkpoint {}, Accuracy: {}, Loss: {}'.format(century+breakpoint, score['accuracy'], score[model.loss_fn]))\n",
    "    score['checkpoint'] = century + breakpoint\n",
    "    checkpoints.append(score)\n",
    "    history.extend(sub_history)"
   ]
  },
  {
   "cell_type": "code",
   "execution_count": 9,
   "metadata": {},
   "outputs": [],
   "source": [
    "import matplotlib.pyplot as plt\n",
    "\n",
    "def draw_plot(x, y_list, x_label=None, y_label=None, legend=None, title=None):\n",
    "    fig, ax = plt.subplots(figsize=(12,5))\n",
    "    for xi, yi in zip(x, y_list):\n",
    "        ax.plot(xi, yi)\n",
    "    if x_label is not None and y_label is not None:\n",
    "        ax.set(xlabel=x_label, ylabel=y_label, title='{} VS {}'.format(x_label, y_label))\n",
    "    if legend is not None:\n",
    "        ax.legend(legend)\n",
    "    ax.grid()\n",
    "    plt.show()"
   ]
  },
  {
   "cell_type": "code",
   "execution_count": 10,
   "metadata": {},
   "outputs": [
    {
     "name": "stdout",
     "output_type": "stream",
     "text": [
      "[1. 0. 0.] <-> [9.9777019e-01 1.3223601e-03 9.0745039e-04]\n",
      "[0. 0. 1.] <-> [1.0328783e-02 6.3581792e-05 9.8960763e-01]\n",
      "[1. 0. 0.] <-> [0.9968911  0.00116254 0.00194631]\n",
      "[0. 1. 0.] <-> [8.691494e-02 9.125408e-01 5.442571e-04]\n",
      "[0. 1. 0.] <-> [1.2943066e-02 9.8697031e-01 8.6604829e-05]\n",
      "[1. 0. 0.] <-> [9.9679959e-01 2.3991286e-03 8.0120150e-04]\n",
      "[1. 0. 0.] <-> [9.9776125e-01 1.5433052e-03 6.9540727e-04]\n",
      "[1. 0. 0.] <-> [0.9855305  0.00151098 0.01295851]\n",
      "[1. 0. 0.] <-> [9.9792260e-01 1.1745769e-03 9.0274500e-04]\n",
      "[1. 0. 0.] <-> [0.9752788  0.00164054 0.02308058]\n",
      "[1. 0. 0.] <-> [9.9792826e-01 1.2650281e-03 8.0673734e-04]\n",
      "[1. 0. 0.] <-> [0.99740285 0.00114307 0.00145402]\n",
      "[1. 0. 0.] <-> [0.9975091  0.00115523 0.00133558]\n",
      "[1. 0. 0.] <-> [0.99009657 0.0014447  0.00845873]\n",
      "[0. 0. 1.] <-> [0.9286523  0.00189255 0.06945512]\n",
      "[0. 1. 0.] <-> [0.7124388  0.28617904 0.00138215]\n",
      "[1. 0. 0.] <-> [9.9784410e-01 1.3547195e-03 8.0113363e-04]\n",
      "[1. 0. 0.] <-> [0.99057275 0.00148335 0.00794389]\n",
      "[1. 0. 0.] <-> [9.9730396e-01 1.9189860e-03 7.7704072e-04]\n",
      "[0. 1. 0.] <-> [6.3995803e-03 9.9355006e-01 5.0311064e-05]\n",
      "[1. 0. 0.] <-> [9.9775839e-01 1.5152777e-03 7.2630355e-04]\n",
      "[0. 1. 0.] <-> [6.3995528e-03 9.9355006e-01 5.0310824e-05]\n",
      "[1. 0. 0.] <-> [9.9752051e-01 1.5199233e-03 9.5955166e-04]\n",
      "[1. 0. 0.] <-> [9.9719244e-01 2.0532955e-03 7.5431413e-04]\n",
      "[1. 0. 0.] <-> [9.9793148e-01 1.2427247e-03 8.2585111e-04]\n",
      "[0. 0. 1.] <-> [1.0245234e-02 6.4352054e-05 9.8969042e-01]\n",
      "[1. 0. 0.] <-> [0.99128366 0.00158622 0.0071301 ]\n",
      "[1. 0. 0.] <-> [9.9742919e-01 1.7679296e-03 8.0277596e-04]\n",
      "[0. 0. 1.] <-> [1.0337496e-02 6.3628722e-05 9.8959887e-01]\n",
      "[1. 0. 0.] <-> [9.9809498e-01 1.1917856e-03 7.1320694e-04]\n",
      "[1. 0. 0.] <-> [9.9774003e-01 1.5600945e-03 6.9987698e-04]\n",
      "[1. 0. 0.] <-> [9.9608189e-01 3.1854012e-03 7.3272258e-04]\n",
      "[1. 0. 0.] <-> [0.99769586 0.00125813 0.00104603]\n",
      "[1. 0. 0.] <-> [9.9793649e-01 1.3031255e-03 7.6045841e-04]\n",
      "[1. 0. 0.] <-> [0.9975363  0.00138448 0.00107916]\n",
      "[1. 0. 0.] <-> [9.9795675e-01 1.1609026e-03 8.8236621e-04]\n",
      "[0. 0. 1.] <-> [9.4160438e-03 7.4259144e-05 9.9050975e-01]\n",
      "[0. 0. 1.] <-> [1.03363795e-02 6.36356563e-05 9.89600062e-01]\n",
      "[1. 0. 0.] <-> [0.68903565 0.00182551 0.30913877]\n",
      "[1. 0. 0.] <-> [9.9795192e-01 1.1232232e-03 9.2479552e-04]\n",
      "[1. 0. 0.] <-> [9.9780697e-01 1.2101112e-03 9.8292588e-04]\n",
      "[1. 0. 0.] <-> [0.99508023 0.00132882 0.00359096]\n",
      "[1. 0. 0.] <-> [0.972852   0.00166819 0.02547989]\n",
      "[0. 0. 1.] <-> [1.032889e-02 6.358257e-05 9.896075e-01]\n",
      "[0. 0. 1.] <-> [1.0368326e-02 6.3795458e-05 9.8956782e-01]\n",
      "[1. 0. 0.] <-> [0.9071005  0.00188895 0.09101056]\n",
      "[1. 0. 0.] <-> [0.9965417  0.00245372 0.00100456]\n",
      "[1. 0. 0.] <-> [0.99765414 0.00119333 0.0011525 ]\n",
      "[1. 0. 0.] <-> [9.9797589e-01 1.2034379e-03 8.2068314e-04]\n",
      "[0. 1. 0.] <-> [6.3995896e-03 9.9355006e-01 5.0311108e-05]\n",
      "[0. 1. 0.] <-> [2.9929219e-02 9.6991414e-01 1.5666275e-04]\n",
      "[1. 0. 0.] <-> [0.7707835  0.00190283 0.22731361]\n",
      "[1. 0. 0.] <-> [9.9775368e-01 1.4703945e-03 7.7595341e-04]\n",
      "[1. 0. 0.] <-> [0.9944448  0.00128467 0.00427056]\n",
      "[1. 0. 0.] <-> [9.9460876e-01 4.5660399e-03 8.2526094e-04]\n",
      "[1. 0. 0.] <-> [0.9976367  0.00119545 0.00116782]\n",
      "[1. 0. 0.] <-> [0.99535733 0.0013176  0.00332508]\n",
      "[1. 0. 0.] <-> [0.99769044 0.0011687  0.00114095]\n",
      "[0. 0. 1.] <-> [1.0351382e-02 6.3699648e-05 9.8958486e-01]\n",
      "[0. 1. 0.] <-> [6.5840096e-03 9.9336457e-01 5.1369607e-05]\n",
      "[1. 0. 0.] <-> [9.9786156e-01 1.2979322e-03 8.4050238e-04]\n",
      "[1. 0. 0.] <-> [0.6597321  0.00182744 0.33844045]\n",
      "[1. 0. 0.] <-> [9.9796438e-01 1.1307187e-03 9.0489502e-04]\n",
      "[0. 0. 1.] <-> [1.0327973e-02 6.3594518e-05 9.8960847e-01]\n",
      "[1. 0. 0.] <-> [0.9758564  0.00164187 0.02250167]\n",
      "[1. 0. 0.] <-> [9.9782407e-01 1.3258973e-03 8.4999652e-04]\n",
      "[0. 1. 0.] <-> [6.3995132e-03 9.9355006e-01 5.0310537e-05]\n",
      "[1. 0. 0.] <-> [0.5641866  0.00162943 0.43418398]\n",
      "[1. 0. 0.] <-> [0.9869932  0.00149493 0.01151181]\n",
      "[0. 1. 0.] <-> [0.2000765 0.7990837 0.0008398]\n",
      "[0. 1. 0.] <-> [0.6119003  0.38682193 0.00127773]\n",
      "[0. 1. 0.] <-> [6.3998625e-03 9.9354988e-01 5.0313163e-05]\n",
      "[1. 0. 0.] <-> [0.9812754  0.01762926 0.00109538]\n",
      "[0. 1. 0.] <-> [6.4051221e-03 9.9354458e-01 5.0345097e-05]\n",
      "[1. 0. 0.] <-> [0.9963658  0.00120751 0.00242668]\n",
      "[0. 1. 0.] <-> [0.238403   0.7608289  0.00076808]\n",
      "[0. 0. 1.] <-> [1.4065665e-01 5.7128334e-04 8.5877204e-01]\n",
      "[1. 0. 0.] <-> [0.9612628  0.00174473 0.03699244]\n",
      "[1. 0. 0.] <-> [9.9751115e-01 1.6493242e-03 8.3951408e-04]\n",
      "[1. 0. 0.] <-> [9.9768746e-01 1.3812023e-03 9.3140022e-04]\n",
      "[1. 0. 0.] <-> [9.9789053e-01 1.1401245e-03 9.6941728e-04]\n",
      "[1. 0. 0.] <-> [0.996644   0.00124948 0.00210654]\n",
      "[1. 0. 0.] <-> [9.9570882e-01 3.4112036e-03 8.7995938e-04]\n",
      "[1. 0. 0.] <-> [0.95641565 0.0017892  0.0417951 ]\n",
      "[1. 0. 0.] <-> [0.9925874  0.00135426 0.00605843]\n",
      "[0. 1. 0.] <-> [0.9267592  0.07122368 0.00201717]\n",
      "[0. 1. 0.] <-> [6.3995048e-03 9.9355018e-01 5.0310442e-05]\n",
      "[1. 0. 0.] <-> [9.9768913e-01 1.6111638e-03 6.9971121e-04]\n",
      "[0. 0. 1.] <-> [1.0326979e-02 6.3604646e-05 9.8960936e-01]\n",
      "[1. 0. 0.] <-> [0.99266374 0.00138823 0.00594815]\n",
      "[1. 0. 0.] <-> [0.9975363  0.00112768 0.00133606]\n",
      "[1. 0. 0.] <-> [9.942127e-01 5.043472e-03 7.438284e-04]\n",
      "[1. 0. 0.] <-> [0.995142   0.00129413 0.00356389]\n",
      "[1. 0. 0.] <-> [0.9975453  0.00115979 0.00129494]\n",
      "[0. 0. 1.] <-> [1.0325478e-02 6.3655236e-05 9.8961091e-01]\n",
      "[1. 0. 0.] <-> [0.9600042  0.00176462 0.03823125]\n",
      "[0. 1. 0.] <-> [6.6648736e-03 9.9328303e-01 5.2132502e-05]\n",
      "[1. 0. 0.] <-> [0.99718153 0.0013506  0.00146784]\n",
      "[1. 0. 0.] <-> [0.97247297 0.02630752 0.0012196 ]\n",
      "[1. 0. 0.] <-> [0.997274   0.00120811 0.00151788]\n",
      "[1. 0. 0.] <-> [9.9798381e-01 1.2967592e-03 7.1939576e-04]\n",
      "[1. 0. 0.] <-> [0.9956311  0.00124655 0.00312238]\n",
      "[1. 0. 0.] <-> [0.99702054 0.00118576 0.0017936 ]\n",
      "[1. 0. 0.] <-> [9.9790668e-01 1.3393206e-03 7.5399573e-04]\n",
      "[1. 0. 0.] <-> [9.9801397e-01 1.1684851e-03 8.1757992e-04]\n",
      "[0. 0. 1.] <-> [1.0334813e-02 6.3614032e-05 9.8960155e-01]\n",
      "[0. 0. 1.] <-> [0.9066128  0.00194336 0.09144391]\n",
      "[1. 0. 0.] <-> [9.9795961e-01 1.1951338e-03 8.4520713e-04]\n",
      "{'accuracy': 0.9691358024691358, 'mean_square_error': 0.07462220220084796, 'categorical_crossentropy': 0.12097516766300907, 'essential_metrics': {0: {'tp_hit': 76, 'fp_hit': 5, 'tn_hit': 27, 'fn_hit': 0}, 1: {'tp_hit': 14, 'fp_hit': 0, 'tn_hit': 91, 'fn_hit': 3}, 2: {'tp_hit': 13, 'fp_hit': 0, 'tn_hit': 93, 'fn_hit': 2}}}\n"
     ]
    }
   ],
   "source": [
    "# recall phase\n",
    "score = model.evaluate(x_test, y_test, False)\n",
    "print(score)"
   ]
  },
  {
   "cell_type": "code",
   "execution_count": 11,
   "metadata": {},
   "outputs": [
    {
     "data": {
      "image/png": "[encoded data removed]",
      "text/plain": [
       "<Figure size 864x360 with 1 Axes>"
      ]
     },
     "metadata": {
      "needs_background": "light"
     },
     "output_type": "display_data"
    },
    {
     "data": {
      "image/png": "[encoded data removed]",
      "text/plain": [
       "<Figure size 864x360 with 1 Axes>"
      ]
     },
     "metadata": {
      "needs_background": "light"
     },
     "output_type": "display_data"
    }
   ],
   "source": [
    "draw_plot(x = [[i for i in range(len(history))], [(i+1)*breakpoint for i in range(len(checkpoints))]], y_list = [history, [ ckp[model.loss_fn] for ckp in checkpoints ]], x_label = 'Epochs', \\\n",
    "    y_label = model.loss_fn, legend=['train', 'test'])\n",
    "acc = [ ckp['accuracy'] for ckp in checkpoints ]\n",
    "draw_plot(x = [[(i+1)*breakpoint for i in range(len(checkpoints))]], y_list = [acc], x_label = 'Checkpoints', \\\n",
    "    y_label = 'accuracy')"
   ]
  },
  {
   "cell_type": "code",
   "execution_count": 12,
   "metadata": {},
   "outputs": [
    {
     "name": "stdout",
     "output_type": "stream",
     "text": [
      "{'accuracy': 0.9382716049382716, 'mean_square_error': 0.17941362417654222, 'categorical_crossentropy': 0.35954457742196544, 'essential_metrics': {0: {'tp_hit': 75, 'fp_hit': 8, 'tn_hit': 24, 'fn_hit': 1}, 1: {'tp_hit': 11, 'fp_hit': 0, 'tn_hit': 91, 'fn_hit': 6}, 2: {'tp_hit': 12, 'fp_hit': 2, 'tn_hit': 91, 'fn_hit': 3}}, 'checkpoint': 100} \n",
      "\n",
      "\n",
      "{'accuracy': 0.9506172839506173, 'mean_square_error': 0.09630400661592997, 'categorical_crossentropy': 0.15866016458581994, 'essential_metrics': {0: {'tp_hit': 73, 'fp_hit': 5, 'tn_hit': 27, 'fn_hit': 3}, 1: {'tp_hit': 14, 'fp_hit': 0, 'tn_hit': 91, 'fn_hit': 3}, 2: {'tp_hit': 13, 'fp_hit': 3, 'tn_hit': 90, 'fn_hit': 2}}, 'checkpoint': 200} \n",
      "\n",
      "\n",
      "{'accuracy': 0.9629629629629629, 'mean_square_error': 0.07701556374708501, 'categorical_crossentropy': 0.1269982655843099, 'essential_metrics': {0: {'tp_hit': 75, 'fp_hit': 5, 'tn_hit': 27, 'fn_hit': 1}, 1: {'tp_hit': 14, 'fp_hit': 0, 'tn_hit': 91, 'fn_hit': 3}, 2: {'tp_hit': 13, 'fp_hit': 1, 'tn_hit': 92, 'fn_hit': 2}}, 'checkpoint': 300} \n",
      "\n",
      "\n",
      "{'accuracy': 0.9691358024691358, 'mean_square_error': 0.0726364450721642, 'categorical_crossentropy': 0.1154905601784035, 'essential_metrics': {0: {'tp_hit': 76, 'fp_hit': 5, 'tn_hit': 27, 'fn_hit': 0}, 1: {'tp_hit': 14, 'fp_hit': 0, 'tn_hit': 91, 'fn_hit': 3}, 2: {'tp_hit': 13, 'fp_hit': 0, 'tn_hit': 93, 'fn_hit': 2}}, 'checkpoint': 400} \n",
      "\n",
      "\n",
      "{'accuracy': 0.9691358024691358, 'mean_square_error': 0.07462220220084796, 'categorical_crossentropy': 0.12097516766300907, 'essential_metrics': {0: {'tp_hit': 76, 'fp_hit': 5, 'tn_hit': 27, 'fn_hit': 0}, 1: {'tp_hit': 14, 'fp_hit': 0, 'tn_hit': 91, 'fn_hit': 3}, 2: {'tp_hit': 13, 'fp_hit': 0, 'tn_hit': 93, 'fn_hit': 2}}, 'checkpoint': 500} \n",
      "\n",
      "\n"
     ]
    }
   ],
   "source": [
    "for checkpoint in checkpoints:\n",
    "    print(checkpoint, '\\n\\n')"
   ]
  },
  {
   "cell_type": "code",
   "execution_count": 13,
   "metadata": {},
   "outputs": [
    {
     "name": "stdout",
     "output_type": "stream",
     "text": [
      "Layer 1\n",
      "Neuron 0: weights:\n",
      "[-1.2550015  3.         1.333135  -3.        -1.1660589]\n",
      " bias: 3.0\n",
      "\n",
      "Neuron 1: weights:\n",
      "[ 2.0249395 -3.        -1.9169191 -1.6866887  1.1175586]\n",
      " bias: 3.0\n",
      "\n",
      "Neuron 2: weights:\n",
      "[-1.2233385  3.         1.2439697 -3.        -1.2240131]\n",
      " bias: 3.0\n",
      "\n",
      "Neuron 3: weights:\n",
      "[-1.9054965  3.         3.         2.5911314 -1.2541126]\n",
      " bias: -3.0\n",
      "\n",
      "$\n",
      "Layer 2\n",
      "Neuron 0: weights:\n",
      "[ 3.  3.  3. -3.]\n",
      " bias: -1.562375783920288\n",
      "\n",
      "Neuron 1: weights:\n",
      "[ 3.        -3.         1.1354297  3.       ]\n",
      " bias: -0.6527411937713623\n",
      "\n",
      "Neuron 2: weights:\n",
      "[-3.          3.         -3.         -0.40813845]\n",
      " bias: 3.0\n",
      "\n",
      "$\n",
      "\n"
     ]
    }
   ],
   "source": [
    "print(model)"
   ]
  }
 ],
 "metadata": {
  "kernelspec": {
   "display_name": "Python 3",
   "language": "python",
   "name": "python3"
  },
  "language_info": {
   "codemirror_mode": {
    "name": "ipython",
    "version": 3
   },
   "file_extension": ".py",
   "mimetype": "text/x-python",
   "name": "python",
   "nbconvert_exporter": "python",
   "pygments_lexer": "ipython3",
   "version": "3.6.10"
  }
 },
 "nbformat": 4,
 "nbformat_minor": 2
}
