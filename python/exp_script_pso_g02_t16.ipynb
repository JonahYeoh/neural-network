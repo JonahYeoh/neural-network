{
 "cells": [
  {
   "cell_type": "code",
   "execution_count": 1,
   "metadata": {},
   "outputs": [],
   "source": [
    "# dependency\n",
    "import numpy as np\n",
    "import pandas as pd\n",
    "import copy\n",
    "import math\n",
    "import sys\n",
    "import os\n",
    "from activations import relu, leaky_relu, sigmoid, tanh, softmax, d_sigmoid, d_relu\n",
    "from initializers import glorot_uniform, random_normal, random_uniform\n",
    "from regularizers import l1_regularizer, l2_regularizer\n",
    "from utility import trim_tail, multiply, subtract, get_nparams, one_hot_encoding, get_data\n",
    "from metrics import MSE, CCE, ACC, PRECISION, RECALL, essential_metrics, wondering_penalty, close_gap_penalty\n",
    "from pso import PSO\n",
    "from ga import GA\n",
    "from nn import Network\n",
    "from layer import DenseLayer\n",
    "from scalers import MinMaxScaler, StandardScaler"
   ]
  },
  {
   "cell_type": "code",
   "execution_count": 2,
   "metadata": {},
   "outputs": [],
   "source": [
    "# reference\n",
    "metrics_fn_dict = dict()\n",
    "metrics_fn_dict['accuracy'] = ACC\n",
    "metrics_fn_dict['categorical_crossentropy'] = CCE\n",
    "metrics_fn_dict['mean_square_error'] = MSE\n",
    "metrics_fn_dict['precision'] = PRECISION\n",
    "metrics_fn_dict['recall'] = RECALL\n",
    "metrics_fn_dict['essential_metrics'] = essential_metrics"
   ]
  },
  {
   "cell_type": "code",
   "execution_count": 3,
   "metadata": {},
   "outputs": [],
   "source": [
    "# model\n",
    "model = Network(5, lr = None)\n",
    "model.add_layer(DenseLayer(1, 4, True, afn=sigmoid, dafn=None, rfn=None))\n",
    "model.add_layer(DenseLayer(2, 3, True, afn=softmax, dafn=None, rfn=None))"
   ]
  },
  {
   "cell_type": "code",
   "execution_count": 4,
   "metadata": {},
   "outputs": [
    {
     "name": "stdout",
     "output_type": "stream",
     "text": [
      "see one see two 2 0.5\n"
     ]
    }
   ],
   "source": [
    "pso = PSO(dict(m = 50,\n",
    "    weight_constraint = [-3, 3], \n",
    "    velocity_constraint = [-0.1, 0.1],\n",
    "    c1 = [0.5, 2],\n",
    "    c2 = [0.5, 2],\n",
    "    w = [0.5, 1.2],\n",
    "    w_decay = 0.95,\n",
    "    scale_hyperparameter = False,\n",
    "    regularizer = None,\n",
    "    mask = None))"
   ]
  },
  {
   "cell_type": "code",
   "execution_count": 5,
   "metadata": {},
   "outputs": [
    {
     "name": "stdout",
     "output_type": "stream",
     "text": [
      "building layer 1 with 5\n",
      "24\n",
      "building layer 2 with 4\n",
      "15\n"
     ]
    }
   ],
   "source": [
    "model.compile(loss_fn = 'categorical_crossentropy', optimizer = pso, \\\n",
    "    metrics = ['accuracy', 'mean_square_error', 'categorical_crossentropy'])"
   ]
  },
  {
   "cell_type": "code",
   "execution_count": 6,
   "metadata": {},
   "outputs": [
    {
     "name": "stdout",
     "output_type": "stream",
     "text": [
      "<class 'pandas.core.frame.DataFrame'>\n",
      "RangeIndex: 107 entries, 0 to 106\n",
      "Data columns (total 6 columns):\n",
      " #   Column  Non-Null Count  Dtype  \n",
      "---  ------  --------------  -----  \n",
      " 0   f1      107 non-null    float32\n",
      " 1   f2      107 non-null    float32\n",
      " 2   f3      107 non-null    float32\n",
      " 3   f4      107 non-null    float32\n",
      " 4   f5      107 non-null    float32\n",
      " 5   label   107 non-null    float32\n",
      "dtypes: float32(6)\n",
      "memory usage: 2.6 KB\n",
      "None\n",
      "<class 'pandas.core.frame.DataFrame'>\n",
      "RangeIndex: 108 entries, 0 to 107\n",
      "Data columns (total 6 columns):\n",
      " #   Column  Non-Null Count  Dtype  \n",
      "---  ------  --------------  -----  \n",
      " 0   f1      108 non-null    float32\n",
      " 1   f2      108 non-null    float32\n",
      " 2   f3      108 non-null    float32\n",
      " 3   f4      108 non-null    float32\n",
      " 4   f5      108 non-null    float32\n",
      " 5   label   108 non-null    float32\n",
      "dtypes: float32(6)\n",
      "memory usage: 2.7 KB\n",
      "None\n"
     ]
    }
   ],
   "source": [
    "# data loading\n",
    "DATA = os.path.join('c:\\\\Users\\\\tcumi\\\\github_repo\\\\neural-network\\\\', 'dataset')\n",
    "GROUP = 2\n",
    "COLUMNS = ['f1', 'f2', 'f3', 'f4', 'f5', 'label']\n",
    "N_CLASS = 3\n",
    "EPOCHS = 500\n",
    "train_dir, test_dir = \"..//dataset//training_data{}.txt\".format(GROUP), \"..//dataset//testing_data{}.txt\".format(GROUP)\n",
    "train, test = get_data(DATA, train_dir, COLUMNS), get_data(DATA, test_dir, COLUMNS)\n",
    "# shuffle\n",
    "train, test = train.sample(frac=1), test.sample(frac=1)\n",
    "x_train, y_train = train.drop('label', axis=1), train['label']\n",
    "x_test, y_test = test.drop('label', axis=1), test['label']"
   ]
  },
  {
   "cell_type": "code",
   "execution_count": 7,
   "metadata": {},
   "outputs": [],
   "source": [
    "# data scaling and encoding\n",
    "scaler = StandardScaler(['f1', 'f2', 'f3', 'f4', 'f5'])\n",
    "scaler.fit(x_train)\n",
    "x_train = scaler.transform(x_train)\n",
    "x_test = scaler.transform(x_test)\n",
    "y_train = one_hot_encoding(y_train, N_CLASS)\n",
    "y_test = one_hot_encoding(y_test, N_CLASS)"
   ]
  },
  {
   "cell_type": "code",
   "execution_count": 8,
   "metadata": {
    "tags": [
     "outputPrepend"
    ]
   },
   "outputs": [
    {
     "name": "stdout",
     "output_type": "stream",
     "text": [
      "Checkpoint 100, Accuracy: 0.9074074074074074, Loss: 0.5516112645467123\n",
      "Checkpoint 200, Accuracy: 0.9074074074074074, Loss: 0.5516112645467123\n",
      "Checkpoint 300, Accuracy: 0.9074074074074074, Loss: 0.5516112645467123\n",
      "Checkpoint 400, Accuracy: 0.9074074074074074, Loss: 0.5516112645467123\n",
      "Checkpoint 500, Accuracy: 0.9074074074074074, Loss: 0.5516112645467123\n"
     ]
    }
   ],
   "source": [
    "# learning phase\n",
    "breakpoint = 100\n",
    "checkpoints = list()\n",
    "history = list()\n",
    "for century in range(0, EPOCHS, breakpoint):\n",
    "    sub_history = model.fit(x_train, y_train, breakpoint, verbose = 0)\n",
    "    score = model.evaluate(x_test, y_test, False, verbose = 0)\n",
    "    print('Checkpoint {}, Accuracy: {}, Loss: {}'.format(century+breakpoint, score['accuracy'], score[model.loss_fn]))\n",
    "    score['checkpoint'] = century + breakpoint\n",
    "    checkpoints.append(score)\n",
    "    history.extend(sub_history)\n",
    "    itr = century + breakpoint\n",
    "    model.optimizer.c1 = np.max([model.optimizer.C1[1] - ((model.optimizer.C1[1] - model.optimizer.C1[0]) * itr / EPOCHS), model.optimizer.C1[0]])\n",
    "    model.optimizer.c2 = np.min([model.optimizer.C2[0] + ((model.optimizer.C2[1] - model.optimizer.C2[0]) * itr / EPOCHS), model.optimizer.C2[1]])\n",
    "    model.optimizer.w = np.max([model.optimizer.w * model.optimizer.W_Decay, model.optimizer.W[0]])"
   ]
  },
  {
   "cell_type": "code",
   "execution_count": 9,
   "metadata": {},
   "outputs": [],
   "source": [
    "import matplotlib.pyplot as plt\n",
    "\n",
    "def draw_plot(x, y_list, x_label=None, y_label=None, legend=None, title=None):\n",
    "    fig, ax = plt.subplots(figsize=(12,5))\n",
    "    for xi, yi in zip(x, y_list):\n",
    "        ax.plot(xi, yi)\n",
    "    if x_label is not None and y_label is not None:\n",
    "        ax.set(xlabel=x_label, ylabel=y_label, title='{} VS {}'.format(x_label, y_label))\n",
    "    if legend is not None:\n",
    "        ax.legend(legend)\n",
    "    ax.grid()\n",
    "    plt.show()"
   ]
  },
  {
   "cell_type": "code",
   "execution_count": 10,
   "metadata": {},
   "outputs": [
    {
     "name": "stdout",
     "output_type": "stream",
     "text": [
      "[1. 0. 0.] <-> [0.6653499  0.14402439 0.19062571]\n",
      "[1. 0. 0.] <-> [0.69262946 0.21227129 0.09509931]\n",
      "[0. 1. 0.] <-> [0.72250444 0.27353147 0.00396406]\n",
      "[1. 0. 0.] <-> [0.90660506 0.06775159 0.02564334]\n",
      "[1. 0. 0.] <-> [0.6537253  0.30020759 0.04606705]\n",
      "[0. 1. 0.] <-> [0.4282496  0.5674811  0.00426931]\n",
      "[1. 0. 0.] <-> [0.7756454  0.15896256 0.06539206]\n",
      "[1. 0. 0.] <-> [0.5522396  0.4427548  0.00500561]\n",
      "[1. 0. 0.] <-> [0.90557826 0.05242715 0.04199463]\n",
      "[1. 0. 0.] <-> [0.83279276 0.13116965 0.03603759]\n",
      "[0. 1. 0.] <-> [0.25861576 0.7393627  0.00202158]\n",
      "[0. 0. 1.] <-> [0.7742289  0.03170682 0.19406426]\n",
      "[0. 1. 0.] <-> [0.28387818 0.71517944 0.00094236]\n",
      "[1. 0. 0.] <-> [0.8375496  0.10921625 0.05323415]\n",
      "[0. 1. 0.] <-> [0.36670363 0.63069725 0.00259918]\n",
      "[1. 0. 0.] <-> [0.7699565  0.06539745 0.16464601]\n",
      "[1. 0. 0.] <-> [0.73112136 0.11824238 0.15063623]\n",
      "[1. 0. 0.] <-> [0.83432513 0.10945942 0.0562154 ]\n",
      "[1. 0. 0.] <-> [0.7212919  0.2511012  0.02760695]\n",
      "[1. 0. 0.] <-> [0.89193636 0.0599664  0.04809729]\n",
      "[1. 0. 0.] <-> [0.6628207  0.29944682 0.0377325 ]\n",
      "[1. 0. 0.] <-> [0.789188   0.10729484 0.10351707]\n",
      "[1. 0. 0.] <-> [0.8086241  0.04667706 0.14469893]\n",
      "[1. 0. 0.] <-> [0.6545861  0.333038   0.01237599]\n",
      "[1. 0. 0.] <-> [0.63553685 0.3022701  0.06219299]\n",
      "[1. 0. 0.] <-> [0.90390307 0.04660157 0.04949533]\n",
      "[0. 1. 0.] <-> [0.38660282 0.6092681  0.00412903]\n",
      "[1. 0. 0.] <-> [0.88832206 0.09070865 0.02096936]\n",
      "[1. 0. 0.] <-> [0.64986074 0.24508683 0.10505246]\n",
      "[0. 0. 1.] <-> [0.9369841  0.05260449 0.01041142]\n",
      "[1. 0. 0.] <-> [0.7498932  0.236613   0.01349379]\n",
      "[0. 0. 1.] <-> [0.9478895  0.02999159 0.02211887]\n",
      "[1. 0. 0.] <-> [0.79258555 0.09862583 0.1087887 ]\n",
      "[1. 0. 0.] <-> [0.8757811  0.06944763 0.05477126]\n",
      "[1. 0. 0.] <-> [0.79629827 0.1340764  0.06962537]\n",
      "[1. 0. 0.] <-> [0.78715724 0.09412733 0.11871538]\n",
      "[1. 0. 0.] <-> [0.931561   0.05835657 0.01008246]\n",
      "[1. 0. 0.] <-> [0.8500946  0.11464505 0.03526033]\n",
      "[1. 0. 0.] <-> [0.5963192  0.37018028 0.03350053]\n",
      "[1. 0. 0.] <-> [0.8574192  0.12047897 0.02210183]\n",
      "[1. 0. 0.] <-> [0.87516516 0.06235654 0.06247824]\n",
      "[1. 0. 0.] <-> [0.9241985  0.05632634 0.01947515]\n",
      "[1. 0. 0.] <-> [0.8132747  0.13414666 0.05257869]\n",
      "[1. 0. 0.] <-> [0.7902518  0.07353713 0.13621105]\n",
      "[0. 0. 1.] <-> [0.89899385 0.02854445 0.07246166]\n",
      "[1. 0. 0.] <-> [0.67178077 0.16497892 0.16324034]\n",
      "[0. 0. 1.] <-> [0.912694   0.07418311 0.01312287]\n",
      "[0. 0. 1.] <-> [0.41301772 0.00795605 0.5790262 ]\n",
      "[0. 0. 1.] <-> [0.68442416 0.02200563 0.29357022]\n",
      "[0. 1. 0.] <-> [0.3402027  0.6575893  0.00220797]\n",
      "[1. 0. 0.] <-> [0.7976853  0.03934327 0.16297139]\n",
      "[1. 0. 0.] <-> [0.8456254  0.04953667 0.10483791]\n",
      "[1. 0. 0.] <-> [0.5945835  0.34189773 0.06351878]\n",
      "[1. 0. 0.] <-> [0.8580253  0.04987521 0.09209946]\n",
      "[1. 0. 0.] <-> [0.7217275  0.20479438 0.07347816]\n",
      "[1. 0. 0.] <-> [0.8274714  0.05148476 0.12104383]\n",
      "[1. 0. 0.] <-> [0.77395326 0.14784278 0.07820394]\n",
      "[0. 1. 0.] <-> [0.24057803 0.6877464  0.07167558]\n",
      "[0. 0. 1.] <-> [0.7058058  0.04744161 0.24675259]\n",
      "[1. 0. 0.] <-> [0.82081187 0.0554622  0.12372584]\n",
      "[1. 0. 0.] <-> [0.7095548  0.06893959 0.22150561]\n",
      "[1. 0. 0.] <-> [0.8443202  0.08909461 0.06658527]\n",
      "[0. 1. 0.] <-> [0.35126382 0.64670765 0.00202851]\n",
      "[1. 0. 0.] <-> [0.78979665 0.11918697 0.09101631]\n",
      "[0. 0. 1.] <-> [0.95828867 0.03120875 0.01050259]\n",
      "[1. 0. 0.] <-> [0.8425759  0.1460105  0.01141358]\n",
      "[1. 0. 0.] <-> [0.6330331  0.2979105  0.06905635]\n",
      "[1. 0. 0.] <-> [0.9114705  0.05928078 0.02924874]\n",
      "[1. 0. 0.] <-> [0.7609694  0.04561504 0.19341555]\n",
      "[1. 0. 0.] <-> [0.76179963 0.08685402 0.15134627]\n",
      "[0. 1. 0.] <-> [0.35176343 0.6461293  0.00210727]\n",
      "[1. 0. 0.] <-> [0.7174328  0.27157387 0.01099337]\n",
      "[1. 0. 0.] <-> [0.8969077  0.07867396 0.02441836]\n",
      "[0. 1. 0.] <-> [0.4605525  0.53464955 0.00479791]\n",
      "[1. 0. 0.] <-> [0.66894215 0.24623701 0.08482083]\n",
      "[1. 0. 0.] <-> [0.7452068  0.24908806 0.00570519]\n",
      "[1. 0. 0.] <-> [0.9184682  0.04085623 0.04067561]\n",
      "[0. 0. 1.] <-> [0.7947773  0.02777118 0.17745158]\n",
      "[1. 0. 0.] <-> [0.41264513 0.48186025 0.10549463]\n",
      "[1. 0. 0.] <-> [0.41285607 0.45809934 0.12904458]\n",
      "[1. 0. 0.] <-> [0.85718167 0.07839456 0.06442378]\n",
      "[1. 0. 0.] <-> [0.71385777 0.26789868 0.01824356]\n",
      "[1. 0. 0.] <-> [0.88532215 0.06299932 0.05167854]\n",
      "[1. 0. 0.] <-> [0.7649857  0.22672413 0.00829019]\n",
      "[0. 0. 1.] <-> [0.5802454  0.01403879 0.40571582]\n",
      "[1. 0. 0.] <-> [0.8820709  0.10805751 0.00987158]\n",
      "[1. 0. 0.] <-> [0.7679425  0.04793451 0.18412304]\n",
      "[1. 0. 0.] <-> [0.8223634  0.14817989 0.02945675]\n",
      "[1. 0. 0.] <-> [0.46976444 0.44610578 0.08412979]\n",
      "[1. 0. 0.] <-> [0.75793093 0.1033534  0.13871567]\n",
      "[0. 0. 1.] <-> [0.7923066  0.0255901  0.18210329]\n",
      "[1. 0. 0.] <-> [0.6113893  0.30015242 0.08845826]\n",
      "[1. 0. 0.] <-> [0.8216342  0.04929537 0.12907048]\n",
      "[0. 1. 0.] <-> [0.32940483 0.6670229  0.00357228]\n",
      "[0. 1. 0.] <-> [0.42060444 0.57678753 0.00260806]\n",
      "[1. 0. 0.] <-> [0.7825519  0.15232378 0.06512431]\n",
      "[1. 0. 0.] <-> [0.792295   0.05223844 0.15546653]\n",
      "[1. 0. 0.] <-> [0.8616829  0.08916566 0.04915137]\n",
      "[1. 0. 0.] <-> [0.85466415 0.04590663 0.09942922]\n",
      "[1. 0. 0.] <-> [0.62645894 0.3154785  0.05806249]\n",
      "[1. 0. 0.] <-> [0.8881478  0.07888708 0.03296518]\n",
      "[0. 1. 0.] <-> [0.3521647  0.6459891  0.00184616]\n",
      "[1. 0. 0.] <-> [0.8963183  0.04547616 0.05820553]\n",
      "[1. 0. 0.] <-> [0.67575717 0.2976316  0.02661132]\n",
      "[1. 0. 0.] <-> [0.8030213  0.19133404 0.0056447 ]\n",
      "[0. 1. 0.] <-> [0.30976778 0.6054607  0.08477148]\n",
      "[0. 0. 1.] <-> [0.6689765  0.02587077 0.30515268]\n",
      "[1. 0. 0.] <-> [0.88524693 0.07691817 0.0378349 ]\n",
      "{'accuracy': 0.9074074074074074, 'mean_square_error': 0.2818222660943232, 'categorical_crossentropy': 0.5516112645467123, 'essential_metrics': {0: {'tp_hit': 78, 'fp_hit': 13, 'tn_hit': 15, 'fn_hit': 2}, 1: {'tp_hit': 14, 'fp_hit': 2, 'tn_hit': 91, 'fn_hit': 1}, 2: {'tp_hit': 1, 'fp_hit': 0, 'tn_hit': 95, 'fn_hit': 12}}}\n"
     ]
    }
   ],
   "source": [
    "# recall phase\n",
    "score = model.evaluate(x_test, y_test, False)\n",
    "print(score)"
   ]
  },
  {
   "cell_type": "code",
   "execution_count": 11,
   "metadata": {},
   "outputs": [
    {
     "data": {
      "image/png": "[encoded data removed]",
      "text/plain": [
       "<Figure size 864x360 with 1 Axes>"
      ]
     },
     "metadata": {
      "needs_background": "light"
     },
     "output_type": "display_data"
    },
    {
     "data": {
      "image/png": "[encoded data removed]",
      "text/plain": [
       "<Figure size 864x360 with 1 Axes>"
      ]
     },
     "metadata": {
      "needs_background": "light"
     },
     "output_type": "display_data"
    }
   ],
   "source": [
    "draw_plot(x = [[i for i in range(len(history))], [(i+1)*breakpoint for i in range(len(checkpoints))]], y_list = [history, [ ckp[model.loss_fn] for ckp in checkpoints ]], x_label = 'Epochs', \\\n",
    "    y_label = model.loss_fn, legend=['train', 'test'])\n",
    "acc = [ ckp['accuracy'] for ckp in checkpoints ]\n",
    "draw_plot(x = [[(i+1)*breakpoint for i in range(len(checkpoints))]], y_list = [acc], x_label = 'Checkpoints', \\\n",
    "    y_label = 'accuracy')"
   ]
  },
  {
   "cell_type": "code",
   "execution_count": 12,
   "metadata": {},
   "outputs": [
    {
     "name": "stdout",
     "output_type": "stream",
     "text": [
      "{'accuracy': 0.9074074074074074, 'mean_square_error': 0.2818222660943232, 'categorical_crossentropy': 0.5516112645467123, 'essential_metrics': {0: {'tp_hit': 78, 'fp_hit': 13, 'tn_hit': 15, 'fn_hit': 2}, 1: {'tp_hit': 14, 'fp_hit': 2, 'tn_hit': 91, 'fn_hit': 1}, 2: {'tp_hit': 1, 'fp_hit': 0, 'tn_hit': 95, 'fn_hit': 12}}, 'checkpoint': 100} \n",
      "\n",
      "\n",
      "{'accuracy': 0.9074074074074074, 'mean_square_error': 0.2818222660943232, 'categorical_crossentropy': 0.5516112645467123, 'essential_metrics': {0: {'tp_hit': 78, 'fp_hit': 13, 'tn_hit': 15, 'fn_hit': 2}, 1: {'tp_hit': 14, 'fp_hit': 2, 'tn_hit': 91, 'fn_hit': 1}, 2: {'tp_hit': 1, 'fp_hit': 0, 'tn_hit': 95, 'fn_hit': 12}}, 'checkpoint': 200} \n",
      "\n",
      "\n",
      "{'accuracy': 0.9074074074074074, 'mean_square_error': 0.2818222660943232, 'categorical_crossentropy': 0.5516112645467123, 'essential_metrics': {0: {'tp_hit': 78, 'fp_hit': 13, 'tn_hit': 15, 'fn_hit': 2}, 1: {'tp_hit': 14, 'fp_hit': 2, 'tn_hit': 91, 'fn_hit': 1}, 2: {'tp_hit': 1, 'fp_hit': 0, 'tn_hit': 95, 'fn_hit': 12}}, 'checkpoint': 300} \n",
      "\n",
      "\n",
      "{'accuracy': 0.9074074074074074, 'mean_square_error': 0.2818222660943232, 'categorical_crossentropy': 0.5516112645467123, 'essential_metrics': {0: {'tp_hit': 78, 'fp_hit': 13, 'tn_hit': 15, 'fn_hit': 2}, 1: {'tp_hit': 14, 'fp_hit': 2, 'tn_hit': 91, 'fn_hit': 1}, 2: {'tp_hit': 1, 'fp_hit': 0, 'tn_hit': 95, 'fn_hit': 12}}, 'checkpoint': 400} \n",
      "\n",
      "\n",
      "{'accuracy': 0.9074074074074074, 'mean_square_error': 0.2818222660943232, 'categorical_crossentropy': 0.5516112645467123, 'essential_metrics': {0: {'tp_hit': 78, 'fp_hit': 13, 'tn_hit': 15, 'fn_hit': 2}, 1: {'tp_hit': 14, 'fp_hit': 2, 'tn_hit': 91, 'fn_hit': 1}, 2: {'tp_hit': 1, 'fp_hit': 0, 'tn_hit': 95, 'fn_hit': 12}}, 'checkpoint': 500} \n",
      "\n",
      "\n"
     ]
    }
   ],
   "source": [
    "for checkpoint in checkpoints:\n",
    "    print(checkpoint, '\\n\\n')"
   ]
  },
  {
   "cell_type": "code",
   "execution_count": 13,
   "metadata": {},
   "outputs": [
    {
     "name": "stdout",
     "output_type": "stream",
     "text": [
      "Layer 1\n",
      "Neuron 0: weights:\n",
      "[-2.4600147  -1.7135182  -0.49498128 -1.5904936   2.88198   ]\n",
      " bias: 2.860857475756637\n",
      "\n",
      "Neuron 1: weights:\n",
      "[-2.16043119  1.80355861  0.22130416  0.08007061  0.85822933]\n",
      " bias: 0.36815650176953785\n",
      "\n",
      "Neuron 2: weights:\n",
      "[ 0.27516644  2.42762102 -1.91999528 -2.26632424 -1.1805504 ]\n",
      " bias: -1.5397553823788752\n",
      "\n",
      "Neuron 3: weights:\n",
      "[-0.06645088 -1.79641663 -2.55249283  1.62823683 -0.44814432]\n",
      " bias: 0.37191152828635143\n",
      "\n",
      "$\n",
      "Layer 2\n",
      "Neuron 0: weights:\n",
      "[0.22701276 1.80029261 0.59707445 1.28694972]\n",
      " bias: 2.718584248501587\n",
      "\n",
      "Neuron 1: weights:\n",
      "[ 0.82422311  1.43083406  1.95891705 -2.77565045]\n",
      " bias: 2.8048083838422837\n",
      "\n",
      "Neuron 2: weights:\n",
      "[-1.08249701 -1.96731841 -0.55486161  1.7043579 ]\n",
      " bias: 2.7089262566528394\n",
      "\n",
      "$\n",
      "\n"
     ]
    }
   ],
   "source": [
    "print(model)"
   ]
  }
 ],
 "metadata": {
  "kernelspec": {
   "display_name": "Python 3",
   "language": "python",
   "name": "python3"
  },
  "language_info": {
   "codemirror_mode": {
    "name": "ipython",
    "version": 3
   },
   "file_extension": ".py",
   "mimetype": "text/x-python",
   "name": "python",
   "nbconvert_exporter": "python",
   "pygments_lexer": "ipython3",
   "version": "3.6.10"
  }
 },
 "nbformat": 4,
 "nbformat_minor": 2
}
