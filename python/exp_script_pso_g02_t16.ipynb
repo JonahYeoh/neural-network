{
 "cells": [
  {
   "cell_type": "code",
   "execution_count": 1,
   "metadata": {},
   "outputs": [],
   "source": [
    "# dependency\n",
    "import numpy as np\n",
    "import pandas as pd\n",
    "import copy\n",
    "import math\n",
    "import sys\n",
    "import os\n",
    "from activations import relu, leaky_relu, sigmoid, tanh, softmax, d_sigmoid, d_relu\n",
    "from initializers import glorot_uniform, random_normal, random_uniform\n",
    "from regularizers import l1_regularizer, l2_regularizer\n",
    "from utility import trim_tail, multiply, subtract, get_nparams, one_hot_encoding, get_data\n",
    "from metrics import MSE, CCE, ACC, PRECISION, RECALL, essential_metrics, wondering_penalty, close_gap_penalty\n",
    "from pso import PSO\n",
    "from ga import GA\n",
    "from nn import Network\n",
    "from layer import DenseLayer\n",
    "from scalers import MinMaxScaler, StandardScaler"
   ]
  },
  {
   "cell_type": "code",
   "execution_count": 2,
   "metadata": {},
   "outputs": [],
   "source": [
    "# reference\n",
    "metrics_fn_dict = dict()\n",
    "metrics_fn_dict['accuracy'] = ACC\n",
    "metrics_fn_dict['categorical_crossentropy'] = CCE\n",
    "metrics_fn_dict['mean_square_error'] = MSE\n",
    "metrics_fn_dict['precision'] = PRECISION\n",
    "metrics_fn_dict['recall'] = RECALL\n",
    "metrics_fn_dict['essential_metrics'] = essential_metrics"
   ]
  },
  {
   "cell_type": "code",
   "execution_count": 3,
   "metadata": {},
   "outputs": [],
   "source": [
    "# model\n",
    "model = Network(5, lr = None)\n",
    "model.add_layer(DenseLayer(1, 4, True, afn=sigmoid, dafn=None, rfn=None))\n",
    "model.add_layer(DenseLayer(2, 3, True, afn=softmax, dafn=None, rfn=None))"
   ]
  },
  {
   "cell_type": "code",
   "execution_count": 4,
   "metadata": {},
   "outputs": [
    {
     "name": "stdout",
     "output_type": "stream",
     "text": [
      "see one see two 2 0.5\n"
     ]
    }
   ],
   "source": [
    "pso = PSO(dict(m = 50,\n",
    "    weight_constraint = [-3, 3], \n",
    "    velocity_constraint = [-0.1, 0.1],\n",
    "    c1 = [0.5, 2],\n",
    "    c2 = [0.5, 2],\n",
    "    w = [0.5, 1.2],\n",
    "    w_decay = 0.95,\n",
    "    scale_hyperparameter = False,\n",
    "    regularizer = None,\n",
    "    mask = True))"
   ]
  },
  {
   "cell_type": "code",
   "execution_count": 5,
   "metadata": {},
   "outputs": [
    {
     "name": "stdout",
     "output_type": "stream",
     "text": [
      "building layer 1 with 5\n",
      "24\n",
      "building layer 2 with 4\n",
      "15\n"
     ]
    }
   ],
   "source": [
    "model.compile(loss_fn = 'categorical_crossentropy', optimizer = pso, \\\n",
    "    metrics = ['accuracy', 'mean_square_error', 'categorical_crossentropy'])"
   ]
  },
  {
   "cell_type": "code",
   "execution_count": 6,
   "metadata": {},
   "outputs": [
    {
     "name": "stdout",
     "output_type": "stream",
     "text": [
      "<class 'pandas.core.frame.DataFrame'>\n",
      "RangeIndex: 107 entries, 0 to 106\n",
      "Data columns (total 6 columns):\n",
      " #   Column  Non-Null Count  Dtype  \n",
      "---  ------  --------------  -----  \n",
      " 0   f1      107 non-null    float32\n",
      " 1   f2      107 non-null    float32\n",
      " 2   f3      107 non-null    float32\n",
      " 3   f4      107 non-null    float32\n",
      " 4   f5      107 non-null    float32\n",
      " 5   label   107 non-null    float32\n",
      "dtypes: float32(6)\n",
      "memory usage: 2.6 KB\n",
      "None\n",
      "<class 'pandas.core.frame.DataFrame'>\n",
      "RangeIndex: 108 entries, 0 to 107\n",
      "Data columns (total 6 columns):\n",
      " #   Column  Non-Null Count  Dtype  \n",
      "---  ------  --------------  -----  \n",
      " 0   f1      108 non-null    float32\n",
      " 1   f2      108 non-null    float32\n",
      " 2   f3      108 non-null    float32\n",
      " 3   f4      108 non-null    float32\n",
      " 4   f5      108 non-null    float32\n",
      " 5   label   108 non-null    float32\n",
      "dtypes: float32(6)\n",
      "memory usage: 2.7 KB\n",
      "None\n"
     ]
    }
   ],
   "source": [
    "# data loading\n",
    "DATA = os.path.join('c:\\\\Users\\\\tcumi\\\\github_repo\\\\neural-network\\\\', 'dataset')\n",
    "GROUP = 2\n",
    "COLUMNS = ['f1', 'f2', 'f3', 'f4', 'f5', 'label']\n",
    "N_CLASS = 3\n",
    "EPOCHS = 500\n",
    "train_dir, test_dir = \"..//dataset//training_data{}.txt\".format(GROUP), \"..//dataset//testing_data{}.txt\".format(GROUP)\n",
    "train, test = get_data(DATA, train_dir, COLUMNS), get_data(DATA, test_dir, COLUMNS)\n",
    "# shuffle\n",
    "train, test = train.sample(frac=1), test.sample(frac=1)\n",
    "x_train, y_train = train.drop('label', axis=1), train['label']\n",
    "x_test, y_test = test.drop('label', axis=1), test['label']"
   ]
  },
  {
   "cell_type": "code",
   "execution_count": 7,
   "metadata": {},
   "outputs": [],
   "source": [
    "# data scaling and encoding\n",
    "scaler = StandardScaler(['f1', 'f2', 'f3', 'f4', 'f5'])\n",
    "scaler.fit(x_train)\n",
    "x_train = scaler.transform(x_train)\n",
    "x_test = scaler.transform(x_test)\n",
    "y_train = one_hot_encoding(y_train, N_CLASS)\n",
    "y_test = one_hot_encoding(y_test, N_CLASS)"
   ]
  },
  {
   "cell_type": "code",
   "execution_count": 8,
   "metadata": {
    "tags": [
     "outputPrepend"
    ]
   },
   "outputs": [
    {
     "name": "stdout",
     "output_type": "stream",
     "text": [
      "Checkpoint 100, Accuracy: 0.9629629629629629, Loss: 0.23361523946126303\n",
      "Checkpoint 200, Accuracy: 0.9691358024691358, Loss: 0.10320395893520778\n",
      "Checkpoint 300, Accuracy: 0.9814814814814815, Loss: 0.0962999838369864\n",
      "Checkpoint 400, Accuracy: 0.9753086419753086, Loss: 0.09032756310922128\n",
      "Checkpoint 500, Accuracy: 0.9814814814814815, Loss: 0.09536604528073911\n"
     ]
    }
   ],
   "source": [
    "# learning phase\n",
    "breakpoint = 100\n",
    "checkpoints = list()\n",
    "history = list()\n",
    "for century in range(0, EPOCHS, breakpoint):\n",
    "    sub_history = model.fit(x_train, y_train, breakpoint, verbose = 0)\n",
    "    score = model.evaluate(x_test, y_test, False, verbose = 0)\n",
    "    print('Checkpoint {}, Accuracy: {}, Loss: {}'.format(century+breakpoint, score['accuracy'], score[model.loss_fn]))\n",
    "    score['checkpoint'] = century + breakpoint\n",
    "    checkpoints.append(score)\n",
    "    history.extend(sub_history)\n",
    "    itr = century + breakpoint\n",
    "    model.optimizer.c1 = np.max([model.optimizer.C1[1] - ((model.optimizer.C1[1] - model.optimizer.C1[0]) * itr / EPOCHS), model.optimizer.C1[0]])\n",
    "    model.optimizer.c2 = np.min([model.optimizer.C2[0] + ((model.optimizer.C2[1] - model.optimizer.C2[0]) * itr / EPOCHS), model.optimizer.C2[1]])\n",
    "    model.optimizer.w = np.max([model.optimizer.w * model.optimizer.W_Decay, model.optimizer.W[0]])"
   ]
  },
  {
   "cell_type": "code",
   "execution_count": 9,
   "metadata": {},
   "outputs": [],
   "source": [
    "import matplotlib.pyplot as plt\n",
    "\n",
    "def draw_plot(x, y_list, x_label=None, y_label=None, legend=None, title=None):\n",
    "    fig, ax = plt.subplots(figsize=(12,5))\n",
    "    for xi, yi in zip(x, y_list):\n",
    "        ax.plot(xi, yi)\n",
    "    if x_label is not None and y_label is not None:\n",
    "        ax.set(xlabel=x_label, ylabel=y_label, title='{} VS {}'.format(x_label, y_label))\n",
    "    if legend is not None:\n",
    "        ax.legend(legend)\n",
    "    ax.grid()\n",
    "    plt.show()"
   ]
  },
  {
   "cell_type": "code",
   "execution_count": 10,
   "metadata": {},
   "outputs": [
    {
     "name": "stdout",
     "output_type": "stream",
     "text": [
      "[1. 0. 0.] <-> [0.99665797 0.00209619 0.00124584]\n",
      "[1. 0. 0.] <-> [0.9144026  0.00121603 0.08438133]\n",
      "[1. 0. 0.] <-> [0.9825476  0.00123822 0.0162142 ]\n",
      "[1. 0. 0.] <-> [0.9966522  0.00221479 0.00113304]\n",
      "[1. 0. 0.] <-> [0.9964671  0.00148335 0.00204962]\n",
      "[1. 0. 0.] <-> [0.9864802  0.00137945 0.01214045]\n",
      "[1. 0. 0.] <-> [0.99113035 0.00703452 0.00183518]\n",
      "[1. 0. 0.] <-> [0.99731356 0.00133727 0.00134912]\n",
      "[1. 0. 0.] <-> [0.99474686 0.00125435 0.00399869]\n",
      "[0. 0. 1.] <-> [2.705158e-01 4.311489e-04 7.290530e-01]\n",
      "[0. 1. 0.] <-> [9.9521056e-03 9.8997724e-01 7.0582806e-05]\n",
      "[0. 0. 1.] <-> [6.8177925e-03 1.6853137e-05 9.9316531e-01]\n",
      "[1. 0. 0.] <-> [0.98603463 0.01262366 0.00134161]\n",
      "[1. 0. 0.] <-> [0.8408886  0.00116236 0.15794902]\n",
      "[1. 0. 0.] <-> [0.99716055 0.00153578 0.00130363]\n",
      "[1. 0. 0.] <-> [0.9922231  0.00132044 0.0064564 ]\n",
      "[0. 0. 1.] <-> [6.6746413e-03 1.6544349e-05 9.9330878e-01]\n",
      "[0. 0. 1.] <-> [8.0160983e-03 1.9518950e-05 9.9196434e-01]\n",
      "[1. 0. 0.] <-> [0.8057536  0.00135172 0.19289464]\n",
      "[1. 0. 0.] <-> [0.997081   0.00152545 0.00139359]\n",
      "[1. 0. 0.] <-> [0.9830236  0.00131505 0.01566138]\n",
      "[1. 0. 0.] <-> [0.9966967  0.00121072 0.00209257]\n",
      "[1. 0. 0.] <-> [0.99647635 0.00236517 0.00115842]\n",
      "[1. 0. 0.] <-> [0.98616713 0.00123083 0.01260204]\n",
      "[1. 0. 0.] <-> [0.9971239  0.00127402 0.00160214]\n",
      "[1. 0. 0.] <-> [0.99171406 0.0071866  0.0010993 ]\n",
      "[1. 0. 0.] <-> [0.83427644 0.00124149 0.16448203]\n",
      "[1. 0. 0.] <-> [0.9907335  0.0012109  0.00805556]\n",
      "[0. 1. 0.] <-> [5.8541512e-03 9.9409878e-01 4.6996825e-05]\n",
      "[0. 1. 0.] <-> [5.9501990e-03 9.9400216e-01 4.7611757e-05]\n",
      "[1. 0. 0.] <-> [0.99639076 0.00252677 0.00108246]\n",
      "[1. 0. 0.] <-> [0.99636286 0.00137486 0.00226231]\n",
      "[1. 0. 0.] <-> [0.9963074  0.00216959 0.0015231 ]\n",
      "[1. 0. 0.] <-> [0.99519426 0.00364988 0.00115591]\n",
      "[0. 0. 1.] <-> [6.6733519e-03 1.6541593e-05 9.9331009e-01]\n",
      "[1. 0. 0.] <-> [0.8834829  0.00133593 0.11518114]\n",
      "[1. 0. 0.] <-> [0.9974246  0.00130682 0.00126855]\n",
      "[0. 1. 0.] <-> [0.6732175  0.3242722  0.00251036]\n",
      "[1. 0. 0.] <-> [0.9961737  0.00121644 0.00260993]\n",
      "[1. 0. 0.] <-> [0.994491   0.00127925 0.00422972]\n",
      "[0. 1. 0.] <-> [7.4992306e-03 9.9244177e-01 5.9034752e-05]\n",
      "[0. 0. 1.] <-> [6.6739684e-03 1.6542908e-05 9.9330950e-01]\n",
      "[0. 1. 0.] <-> [5.6879977e-03 9.9426621e-01 4.5732420e-05]\n",
      "[1. 0. 0.] <-> [0.66182125 0.00122046 0.33695832]\n",
      "[1. 0. 0.] <-> [0.99038845 0.00125833 0.00835325]\n",
      "[1. 0. 0.] <-> [0.9955421  0.00149328 0.00296463]\n",
      "[1. 0. 0.] <-> [0.9971641  0.00144939 0.00138646]\n",
      "[1. 0. 0.] <-> [0.913864   0.08410146 0.00203453]\n",
      "[1. 0. 0.] <-> [0.9968021  0.00176856 0.0014294 ]\n",
      "[1. 0. 0.] <-> [0.9967961  0.00209252 0.00111136]\n",
      "[1. 0. 0.] <-> [0.99313194 0.00128737 0.00558073]\n",
      "[1. 0. 0.] <-> [0.99254817 0.00619456 0.00125727]\n",
      "[1. 0. 0.] <-> [0.99652666 0.00229321 0.00118008]\n",
      "[0. 0. 1.] <-> [7.0577050e-03 1.7361008e-05 9.9292493e-01]\n",
      "[1. 0. 0.] <-> [2.0166706e-02 4.6320092e-05 9.7978699e-01]\n",
      "[1. 0. 0.] <-> [0.99710804 0.00139102 0.00150095]\n",
      "[0. 1. 0.] <-> [0.28251252 0.71649253 0.00099497]\n",
      "[1. 0. 0.] <-> [0.9964175  0.00241913 0.0011634 ]\n",
      "[1. 0. 0.] <-> [0.99642664 0.00136587 0.00220752]\n",
      "[0. 1. 0.] <-> [1.8474095e-02 9.8139751e-01 1.2850814e-04]\n",
      "[1. 0. 0.] <-> [0.99436486 0.00125939 0.00437586]\n",
      "[1. 0. 0.] <-> [0.64181465 0.00091692 0.35726845]\n",
      "[1. 0. 0.] <-> [0.98564166 0.00131395 0.01304433]\n",
      "[0. 1. 0.] <-> [5.6513455e-03 9.9430311e-01 4.5458040e-05]\n",
      "[1. 0. 0.] <-> [0.9886086  0.01001747 0.00137391]\n",
      "[1. 0. 0.] <-> [0.9957157  0.00139743 0.00288691]\n",
      "[1. 0. 0.] <-> [0.9975732  0.00135279 0.00107399]\n",
      "[1. 0. 0.] <-> [0.9952252  0.00115289 0.00362189]\n",
      "[1. 0. 0.] <-> [0.99586713 0.00130553 0.00282733]\n",
      "[0. 1. 0.] <-> [0.41455418 0.5842321  0.00121368]\n",
      "[1. 0. 0.] <-> [0.9964372  0.00151653 0.00204628]\n",
      "[1. 0. 0.] <-> [0.8766616  0.00119352 0.12214481]\n",
      "[1. 0. 0.] <-> [0.99680054 0.00193234 0.00126712]\n",
      "[1. 0. 0.] <-> [0.99517787 0.00131654 0.00350566]\n",
      "[1. 0. 0.] <-> [0.99602014 0.0012703  0.00270952]\n",
      "[0. 1. 0.] <-> [5.6520356e-03 9.9430263e-01 4.5412435e-05]\n",
      "[1. 0. 0.] <-> [0.99722606 0.00164197 0.00113198]\n",
      "[1. 0. 0.] <-> [0.9425089  0.00140301 0.05608814]\n",
      "[1. 0. 0.] <-> [0.9957644  0.00115577 0.00307981]\n",
      "[0. 0. 1.] <-> [6.7188032e-03 1.6639182e-05 9.9326456e-01]\n",
      "[0. 1. 0.] <-> [1.0912971e-02 9.8900396e-01 8.3154060e-05]\n",
      "[1. 0. 0.] <-> [0.9880455  0.00121558 0.01073892]\n",
      "[1. 0. 0.] <-> [0.396206   0.6023906  0.00140345]\n",
      "[1. 0. 0.] <-> [0.9974395  0.00129955 0.001261  ]\n",
      "[1. 0. 0.] <-> [0.99731976 0.00159171 0.00108856]\n",
      "[1. 0. 0.] <-> [0.9961241  0.00189009 0.00198576]\n",
      "[1. 0. 0.] <-> [0.99622405 0.00245547 0.00132049]\n",
      "[1. 0. 0.] <-> [0.9955379  0.00137135 0.00309086]\n",
      "[1. 0. 0.] <-> [0.9974069  0.00127832 0.00131474]\n",
      "[0. 1. 0.] <-> [4.4165708e-02 9.5551354e-01 3.2080113e-04]\n",
      "[0. 0. 1.] <-> [6.6733933e-03 1.6541688e-05 9.9331009e-01]\n",
      "[1. 0. 0.] <-> [0.996442   0.00251997 0.00103799]\n",
      "[1. 0. 0.] <-> [0.98865986 0.00170257 0.00963755]\n",
      "[1. 0. 0.] <-> [0.9426722  0.05576749 0.00156034]\n",
      "[1. 0. 0.] <-> [0.99657476 0.00122435 0.00220096]\n",
      "[0. 1. 0.] <-> [5.6522260e-03 9.9430239e-01 4.5415887e-05]\n",
      "[1. 0. 0.] <-> [0.9969639  0.00190312 0.001133  ]\n",
      "[0. 0. 1.] <-> [7.1553322e-03 1.7570055e-05 9.9282712e-01]\n",
      "[1. 0. 0.] <-> [0.9969318  0.00140334 0.00166493]\n",
      "[1. 0. 0.] <-> [0.983716   0.00145616 0.01482781]\n",
      "[1. 0. 0.] <-> [0.9961278  0.00131791 0.00255442]\n",
      "[0. 0. 1.] <-> [0.35165846 0.00071454 0.64762706]\n",
      "[1. 0. 0.] <-> [0.98255056 0.00121276 0.01623669]\n",
      "[0. 0. 1.] <-> [6.6733519e-03 1.6541593e-05 9.9331009e-01]\n",
      "[0. 1. 0.] <-> [1.2964807e-01 8.6981601e-01 5.3601654e-04]\n",
      "[1. 0. 0.] <-> [0.99736756 0.00135588 0.00127661]\n",
      "[1. 0. 0.] <-> [0.9952838  0.00346607 0.00125018]\n",
      "[0. 0. 1.] <-> [1.0595730e-02 2.4903857e-05 9.8937935e-01]\n",
      "{'accuracy': 0.9814814814814815, 'mean_square_error': 0.04875662996473485, 'categorical_crossentropy': 0.09536604528073911, 'essential_metrics': {0: {'tp_hit': 78, 'fp_hit': 1, 'tn_hit': 27, 'fn_hit': 2}, 1: {'tp_hit': 14, 'fp_hit': 1, 'tn_hit': 92, 'fn_hit': 1}, 2: {'tp_hit': 13, 'fp_hit': 1, 'tn_hit': 94, 'fn_hit': 0}}}\n"
     ]
    }
   ],
   "source": [
    "# recall phase\n",
    "score = model.evaluate(x_test, y_test, False)\n",
    "print(score)"
   ]
  },
  {
   "cell_type": "code",
   "execution_count": 11,
   "metadata": {},
   "outputs": [
    {
     "data": {
      "image/png": "[encoded data removed]",
      "text/plain": [
       "<Figure size 864x360 with 1 Axes>"
      ]
     },
     "metadata": {
      "needs_background": "light"
     },
     "output_type": "display_data"
    },
    {
     "data": {
      "image/png": "[encoded data removed]",
      "text/plain": [
       "<Figure size 864x360 with 1 Axes>"
      ]
     },
     "metadata": {
      "needs_background": "light"
     },
     "output_type": "display_data"
    }
   ],
   "source": [
    "draw_plot(x = [[i for i in range(len(history))], [(i+1)*breakpoint for i in range(len(checkpoints))]], y_list = [history, [ ckp[model.loss_fn] for ckp in checkpoints ]], x_label = 'Epochs', \\\n",
    "    y_label = model.loss_fn, legend=['train', 'test'])\n",
    "acc = [ ckp['accuracy'] for ckp in checkpoints ]\n",
    "draw_plot(x = [[(i+1)*breakpoint for i in range(len(checkpoints))]], y_list = [acc], x_label = 'Checkpoints', \\\n",
    "    y_label = 'accuracy')"
   ]
  },
  {
   "cell_type": "code",
   "execution_count": 12,
   "metadata": {},
   "outputs": [
    {
     "name": "stdout",
     "output_type": "stream",
     "text": [
      "{'accuracy': 0.9629629629629629, 'mean_square_error': 0.11435078905983494, 'categorical_crossentropy': 0.23361523946126303, 'essential_metrics': {0: {'tp_hit': 77, 'fp_hit': 3, 'tn_hit': 25, 'fn_hit': 3}, 1: {'tp_hit': 13, 'fp_hit': 0, 'tn_hit': 93, 'fn_hit': 2}, 2: {'tp_hit': 12, 'fp_hit': 3, 'tn_hit': 92, 'fn_hit': 1}}, 'checkpoint': 100} \n",
      "\n",
      "\n",
      "{'accuracy': 0.9691358024691358, 'mean_square_error': 0.06145222030101295, 'categorical_crossentropy': 0.10320395893520778, 'essential_metrics': {0: {'tp_hit': 79, 'fp_hit': 4, 'tn_hit': 24, 'fn_hit': 1}, 1: {'tp_hit': 12, 'fp_hit': 0, 'tn_hit': 93, 'fn_hit': 3}, 2: {'tp_hit': 12, 'fp_hit': 1, 'tn_hit': 94, 'fn_hit': 1}}, 'checkpoint': 200} \n",
      "\n",
      "\n",
      "{'accuracy': 0.9814814814814815, 'mean_square_error': 0.04936641860848717, 'categorical_crossentropy': 0.0962999838369864, 'essential_metrics': {0: {'tp_hit': 78, 'fp_hit': 1, 'tn_hit': 27, 'fn_hit': 2}, 1: {'tp_hit': 14, 'fp_hit': 1, 'tn_hit': 92, 'fn_hit': 1}, 2: {'tp_hit': 13, 'fp_hit': 1, 'tn_hit': 94, 'fn_hit': 0}}, 'checkpoint': 300} \n",
      "\n",
      "\n",
      "{'accuracy': 0.9753086419753086, 'mean_square_error': 0.04839083479876515, 'categorical_crossentropy': 0.09032756310922128, 'essential_metrics': {0: {'tp_hit': 78, 'fp_hit': 2, 'tn_hit': 26, 'fn_hit': 2}, 1: {'tp_hit': 14, 'fp_hit': 1, 'tn_hit': 92, 'fn_hit': 1}, 2: {'tp_hit': 12, 'fp_hit': 1, 'tn_hit': 94, 'fn_hit': 1}}, 'checkpoint': 400} \n",
      "\n",
      "\n",
      "{'accuracy': 0.9814814814814815, 'mean_square_error': 0.04875662996473485, 'categorical_crossentropy': 0.09536604528073911, 'essential_metrics': {0: {'tp_hit': 78, 'fp_hit': 1, 'tn_hit': 27, 'fn_hit': 2}, 1: {'tp_hit': 14, 'fp_hit': 1, 'tn_hit': 92, 'fn_hit': 1}, 2: {'tp_hit': 13, 'fp_hit': 1, 'tn_hit': 94, 'fn_hit': 0}}, 'checkpoint': 500} \n",
      "\n",
      "\n"
     ]
    }
   ],
   "source": [
    "for checkpoint in checkpoints:\n",
    "    print(checkpoint, '\\n\\n')"
   ]
  },
  {
   "cell_type": "code",
   "execution_count": 13,
   "metadata": {},
   "outputs": [
    {
     "name": "stdout",
     "output_type": "stream",
     "text": [
      "Layer 1\n",
      "Neuron 0: weights:\n",
      "[-0.07815679  3.          0.27465993 -0.34703115 -3.        ]\n",
      " bias: 3.0\n",
      "\n",
      "Neuron 1: weights:\n",
      "[-1.945268   3.         3.         0.7621609 -2.168367 ]\n",
      " bias: -3.0\n",
      "\n",
      "Neuron 2: weights:\n",
      "[-1.8837972  3.         1.4824301  1.1881053 -3.       ]\n",
      " bias: -3.0\n",
      "\n",
      "Neuron 3: weights:\n",
      "[ 0.44836113 -3.         -3.          3.          3.        ]\n",
      " bias: -3.0\n",
      "\n",
      "$\n",
      "Layer 2\n",
      "Neuron 0: weights:\n",
      "[ 3. -3. -3. -3.]\n",
      " bias: 3.0\n",
      "\n",
      "Neuron 1: weights:\n",
      "[ 2.1700656  3.         3.        -3.       ]\n",
      " bias: -3.0\n",
      "\n",
      "Neuron 2: weights:\n",
      "[-3.         -0.82693535 -3.          3.        ]\n",
      " bias: 2.002920627593994\n",
      "\n",
      "$\n",
      "\n"
     ]
    }
   ],
   "source": [
    "print(model)"
   ]
  }
 ],
 "metadata": {
  "kernelspec": {
   "display_name": "Python 3",
   "language": "python",
   "name": "python3"
  },
  "language_info": {
   "codemirror_mode": {
    "name": "ipython",
    "version": 3
   },
   "file_extension": ".py",
   "mimetype": "text/x-python",
   "name": "python",
   "nbconvert_exporter": "python",
   "pygments_lexer": "ipython3",
   "version": "3.6.10"
  }
 },
 "nbformat": 4,
 "nbformat_minor": 2
}
