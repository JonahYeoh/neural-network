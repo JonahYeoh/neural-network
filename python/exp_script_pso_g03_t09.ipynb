{
 "cells": [
  {
   "cell_type": "code",
   "execution_count": 1,
   "metadata": {},
   "outputs": [],
   "source": [
    "# dependency\n",
    "import numpy as np\n",
    "import pandas as pd\n",
    "import copy\n",
    "import math\n",
    "import sys\n",
    "import os\n",
    "from activations import relu, leaky_relu, sigmoid, tanh, softmax, d_sigmoid, d_relu\n",
    "from initializers import glorot_uniform, random_normal, random_uniform\n",
    "from regularizers import l1_regularizer, l2_regularizer\n",
    "from utility import trim_tail, multiply, subtract, get_nparams, one_hot_encoding, get_data\n",
    "from metrics import MSE, CCE, ACC, PRECISION, RECALL, essential_metrics, wondering_penalty, close_gap_penalty\n",
    "from pso import PSO\n",
    "from ga import GA\n",
    "from nn import Network\n",
    "from layer import DenseLayer\n",
    "from scalers import MinMaxScaler, StandardScaler"
   ]
  },
  {
   "cell_type": "code",
   "execution_count": 2,
   "metadata": {},
   "outputs": [],
   "source": [
    "# reference\n",
    "metrics_fn_dict = dict()\n",
    "metrics_fn_dict['accuracy'] = ACC\n",
    "metrics_fn_dict['categorical_crossentropy'] = CCE\n",
    "metrics_fn_dict['mean_square_error'] = MSE\n",
    "metrics_fn_dict['precision'] = PRECISION\n",
    "metrics_fn_dict['recall'] = RECALL\n",
    "metrics_fn_dict['essential_metrics'] = essential_metrics"
   ]
  },
  {
   "cell_type": "code",
   "execution_count": 3,
   "metadata": {},
   "outputs": [],
   "source": [
    "# model\n",
    "model = Network(5, lr = None)\n",
    "model.add_layer(DenseLayer(1, 4, True, afn=sigmoid, dafn=None, rfn=None))\n",
    "model.add_layer(DenseLayer(2, 3, True, afn=softmax, dafn=None, rfn=None))"
   ]
  },
  {
   "cell_type": "code",
   "execution_count": 4,
   "metadata": {},
   "outputs": [
    {
     "name": "stdout",
     "output_type": "stream",
     "text": [
      "see one see two 2 2\n"
     ]
    }
   ],
   "source": [
    "pso = PSO(dict(m = 50,\n",
    "    weight_constraint = [-3, 3], \n",
    "    velocity_constraint = [-0.1, 0.1],\n",
    "    c1 = 2,\n",
    "    c2 = 2,\n",
    "    w = 1.2,\n",
    "    w_decay = 1,\n",
    "    scale_hyperparameter = False,\n",
    "    regularizer = l2_regularizer,\n",
    "    mask = True))"
   ]
  },
  {
   "cell_type": "code",
   "execution_count": 5,
   "metadata": {},
   "outputs": [
    {
     "name": "stdout",
     "output_type": "stream",
     "text": [
      "building layer 1 with 5\n",
      "24\n",
      "building layer 2 with 4\n",
      "15\n"
     ]
    }
   ],
   "source": [
    "model.compile(loss_fn = 'categorical_crossentropy', optimizer = pso, \\\n",
    "    metrics = ['accuracy', 'mean_square_error', 'categorical_crossentropy'])"
   ]
  },
  {
   "cell_type": "code",
   "execution_count": 6,
   "metadata": {
    "scrolled": false
   },
   "outputs": [
    {
     "name": "stdout",
     "output_type": "stream",
     "text": [
      "<class 'pandas.core.frame.DataFrame'>\n",
      "RangeIndex: 107 entries, 0 to 106\n",
      "Data columns (total 6 columns):\n",
      " #   Column  Non-Null Count  Dtype  \n",
      "---  ------  --------------  -----  \n",
      " 0   f1      107 non-null    float32\n",
      " 1   f2      107 non-null    float32\n",
      " 2   f3      107 non-null    float32\n",
      " 3   f4      107 non-null    float32\n",
      " 4   f5      107 non-null    float32\n",
      " 5   label   107 non-null    float32\n",
      "dtypes: float32(6)\n",
      "memory usage: 2.6 KB\n",
      "None\n",
      "<class 'pandas.core.frame.DataFrame'>\n",
      "RangeIndex: 108 entries, 0 to 107\n",
      "Data columns (total 6 columns):\n",
      " #   Column  Non-Null Count  Dtype  \n",
      "---  ------  --------------  -----  \n",
      " 0   f1      108 non-null    float32\n",
      " 1   f2      108 non-null    float32\n",
      " 2   f3      108 non-null    float32\n",
      " 3   f4      108 non-null    float32\n",
      " 4   f5      108 non-null    float32\n",
      " 5   label   108 non-null    float32\n",
      "dtypes: float32(6)\n",
      "memory usage: 2.7 KB\n",
      "None\n"
     ]
    }
   ],
   "source": [
    "# data loading\n",
    "DATA = os.path.join('c:\\\\Users\\\\Ai-lab\\\\github_repo\\\\neural-network\\\\', 'dataset')\n",
    "GROUP = 3\n",
    "COLUMNS = ['f1', 'f2', 'f3', 'f4', 'f5', 'label']\n",
    "N_CLASS = 3\n",
    "EPOCHS = 200\n",
    "train_dir, test_dir = \"..//dataset//training_data{}.txt\".format(GROUP), \"..//dataset//testing_data{}.txt\".format(GROUP)\n",
    "train, test = get_data(DATA, train_dir, COLUMNS), get_data(DATA, test_dir, COLUMNS)\n",
    "# shuffle\n",
    "train, test = train.sample(frac=1), test.sample(frac=1)\n",
    "x_train, y_train = train.drop('label', axis=1), train['label']\n",
    "x_test, y_test = test.drop('label', axis=1), test['label']"
   ]
  },
  {
   "cell_type": "code",
   "execution_count": 7,
   "metadata": {},
   "outputs": [],
   "source": [
    "# data scaling and encoding\n",
    "scaler = StandardScaler(['f1', 'f2', 'f3', 'f4', 'f5'])\n",
    "scaler.fit(x_train)\n",
    "x_train = scaler.transform(x_train)\n",
    "x_test = scaler.transform(x_test)\n",
    "y_train = one_hot_encoding(y_train, N_CLASS)\n",
    "y_test = one_hot_encoding(y_test, N_CLASS)"
   ]
  },
  {
   "cell_type": "code",
   "execution_count": 8,
   "metadata": {
    "tags": [
     "outputPrepend"
    ]
   },
   "outputs": [
    {
     "name": "stdout",
     "output_type": "stream",
     "text": [
      "Checkpoint 10, Accuracy: 0.8641975308641975, Loss: 0.8098396018699363\n",
      "Checkpoint 20, Accuracy: 0.8641975308641975, Loss: 0.6435091937029803\n",
      "Checkpoint 30, Accuracy: 0.8395061728395061, Loss: 0.6091557255497685\n",
      "Checkpoint 40, Accuracy: 0.8148148148148148, Loss: 0.5774972703721788\n",
      "Checkpoint 50, Accuracy: 0.8580246913580247, Loss: 0.547353673864294\n",
      "Checkpoint 60, Accuracy: 0.8765432098765432, Loss: 0.5268111758761935\n",
      "Checkpoint 70, Accuracy: 0.8827160493827161, Loss: 0.48151542522289137\n",
      "Checkpoint 80, Accuracy: 0.8827160493827161, Loss: 0.4175204524287471\n",
      "Checkpoint 90, Accuracy: 0.9135802469135802, Loss: 0.37974477697301795\n",
      "Checkpoint 100, Accuracy: 0.9074074074074074, Loss: 0.39571991673222295\n",
      "Checkpoint 110, Accuracy: 0.8950617283950617, Loss: 0.4065871768527561\n",
      "Checkpoint 120, Accuracy: 0.9074074074074074, Loss: 0.4040562665020978\n",
      "Checkpoint 130, Accuracy: 0.9135802469135802, Loss: 0.38427409419307\n",
      "Checkpoint 140, Accuracy: 0.9135802469135802, Loss: 0.3752399727150246\n",
      "Checkpoint 150, Accuracy: 0.9012345679012346, Loss: 0.3889732007627134\n",
      "Checkpoint 160, Accuracy: 0.9012345679012346, Loss: 0.3889732007627134\n",
      "Checkpoint 170, Accuracy: 0.8888888888888888, Loss: 0.39629494702374496\n",
      "Checkpoint 180, Accuracy: 0.8950617283950617, Loss: 0.38520675235324436\n",
      "Checkpoint 190, Accuracy: 0.8950617283950617, Loss: 0.39586604083025895\n",
      "Checkpoint 200, Accuracy: 0.8950617283950617, Loss: 0.39586604083025895\n"
     ]
    }
   ],
   "source": [
    "# learning phase\n",
    "breakpoint = 10\n",
    "checkpoints = list()\n",
    "history = list()\n",
    "for century in range(0, EPOCHS, breakpoint):\n",
    "    sub_history = model.fit(x_train, y_train, breakpoint, verbose = 0)\n",
    "    score = model.evaluate(x_test, y_test, False, verbose = 0)\n",
    "    print('Checkpoint {}, Accuracy: {}, Loss: {}'.format(century+breakpoint, score['accuracy'], score[model.loss_fn]))\n",
    "    score['checkpoint'] = century + breakpoint\n",
    "    checkpoints.append(score)\n",
    "    history.extend(sub_history)"
   ]
  },
  {
   "cell_type": "code",
   "execution_count": 9,
   "metadata": {},
   "outputs": [],
   "source": [
    "import matplotlib.pyplot as plt\n",
    "\n",
    "def draw_plot(x, y_list, x_label=None, y_label=None, legend=None, title=None):\n",
    "    fig, ax = plt.subplots(figsize=(12,5))\n",
    "    for xi, yi in zip(x, y_list):\n",
    "        ax.plot(xi, yi)\n",
    "    if x_label is not None and y_label is not None:\n",
    "        ax.set(xlabel=x_label, ylabel=y_label, title='{} VS {}'.format(x_label, y_label))\n",
    "    if legend is not None:\n",
    "        ax.legend(legend)\n",
    "    ax.grid()\n",
    "    plt.show()"
   ]
  },
  {
   "cell_type": "code",
   "execution_count": 10,
   "metadata": {},
   "outputs": [],
   "source": [
    "train_acc = [h['accuracy'] for h in history]\n",
    "train_mse = [h['mean_square_error'] for h in history]\n",
    "train_cce = [h['categorical_crossentropy'] for h in history]"
   ]
  },
  {
   "cell_type": "code",
   "execution_count": 11,
   "metadata": {},
   "outputs": [
    {
     "data": {
      "image/png": "[encoded data removed]",
      "text/plain": [
       "<Figure size 864x360 with 1 Axes>"
      ]
     },
     "metadata": {
      "needs_background": "light"
     },
     "output_type": "display_data"
    },
    {
     "data": {
      "image/png": "[encoded data removed]",
      "text/plain": [
       "<Figure size 864x360 with 1 Axes>"
      ]
     },
     "metadata": {
      "needs_background": "light"
     },
     "output_type": "display_data"
    }
   ],
   "source": [
    "draw_plot(x = [[i for i in range(len(history))], [(i+1)*breakpoint for i in range(len(checkpoints))]], y_list = [train_cce, [ ckp[model.loss_fn] for ckp in checkpoints ]], x_label = 'Epochs', \\\n",
    "    y_label = model.loss_fn, legend=['train', 'test'])\n",
    "acc = [ ckp['accuracy'] for ckp in checkpoints ]\n",
    "draw_plot(x = [[i for i in range(len(history))], [(i+1)*breakpoint for i in range(len(checkpoints))]], y_list = [train_acc, acc], x_label = 'Checkpoints', \\\n",
    "    y_label = 'accuracy', legend=['train', 'test'])"
   ]
  },
  {
   "cell_type": "code",
   "execution_count": 12,
   "metadata": {},
   "outputs": [
    {
     "name": "stdout",
     "output_type": "stream",
     "text": [
      "[1. 0. 0.] <-> [0.81925786 0.11145984 0.06928233]\n",
      "[1. 0. 0.] <-> [0.79768115 0.12804021 0.07427867]\n",
      "[1. 0. 0.] <-> [0.8726716  0.06060803 0.06672042]\n",
      "[1. 0. 0.] <-> [0.8738354  0.04527488 0.08088973]\n",
      "[0. 1. 0.] <-> [0.6548659  0.3069687  0.03816536]\n",
      "[1. 0. 0.] <-> [0.83007413 0.05849099 0.11143497]\n",
      "[1. 0. 0.] <-> [0.67452204 0.24202384 0.08345404]\n",
      "[1. 0. 0.] <-> [0.8341811  0.0921571  0.07366184]\n",
      "[0. 0. 1.] <-> [0.1971206  0.0193858  0.78349364]\n",
      "[1. 0. 0.] <-> [0.79927254 0.09599642 0.10473099]\n",
      "[1. 0. 0.] <-> [0.6315958  0.31517345 0.05323078]\n",
      "[1. 0. 0.] <-> [0.8281835  0.08399919 0.08781743]\n",
      "[1. 0. 0.] <-> [0.8026942  0.07635306 0.12095267]\n",
      "[1. 0. 0.] <-> [0.63766617 0.19198044 0.17035341]\n",
      "[1. 0. 0.] <-> [0.85873836 0.03755924 0.10370243]\n",
      "[1. 0. 0.] <-> [0.7612494  0.05623563 0.18251489]\n",
      "[1. 0. 0.] <-> [0.76867014 0.14138971 0.08994018]\n",
      "[1. 0. 0.] <-> [0.845963   0.09436353 0.05967348]\n",
      "[1. 0. 0.] <-> [0.8694973  0.04320898 0.0872938 ]\n",
      "[1. 0. 0.] <-> [0.82629085 0.12122779 0.05248133]\n",
      "[0. 0. 1.] <-> [0.7514919  0.04001912 0.20848896]\n",
      "[0. 1. 0.] <-> [0.09681393 0.8552286  0.04795741]\n",
      "[1. 0. 0.] <-> [0.81332296 0.12116163 0.06551545]\n",
      "[1. 0. 0.] <-> [0.7610217  0.15674499 0.0822334 ]\n",
      "[1. 0. 0.] <-> [0.8757507  0.03554228 0.08870702]\n",
      "[1. 0. 0.] <-> [0.861814   0.06527672 0.07290922]\n",
      "[1. 0. 0.] <-> [0.8742676  0.04248456 0.08324785]\n",
      "[1. 0. 0.] <-> [0.7365479  0.18354134 0.07991077]\n",
      "[1. 0. 0.] <-> [0.8185458  0.1072507  0.07420353]\n",
      "[1. 0. 0.] <-> [0.6972461 0.2410861 0.0616678]\n",
      "[1. 0. 0.] <-> [0.6364284  0.3081123  0.05545934]\n",
      "[0. 0. 1.] <-> [0.8728305  0.02817989 0.09898962]\n",
      "[1. 0. 0.] <-> [0.8414353  0.09886675 0.05969798]\n",
      "[1. 0. 0.] <-> [0.85754997 0.04458191 0.0978681 ]\n",
      "[1. 0. 0.] <-> [0.85499126 0.06965718 0.07535157]\n",
      "[1. 0. 0.] <-> [0.84237564 0.08571361 0.07191075]\n",
      "[0. 0. 1.] <-> [0.66985637 0.02311085 0.30703276]\n",
      "[1. 0. 0.] <-> [0.84417015 0.08695796 0.06887197]\n",
      "[0. 1. 0.] <-> [0.19488905 0.765285   0.03982596]\n",
      "[0. 1. 0.] <-> [0.5255887  0.44181222 0.0325991 ]\n",
      "[0. 1. 0.] <-> [0.53907865 0.42468584 0.03623558]\n",
      "[1. 0. 0.] <-> [0.81085455 0.10958103 0.07956441]\n",
      "[1. 0. 0.] <-> [0.81732744 0.11701155 0.06566095]\n",
      "[1. 0. 0.] <-> [0.72295874 0.19826898 0.07877234]\n",
      "[0. 1. 0.] <-> [0.1073956  0.84165525 0.05094917]\n",
      "[0. 1. 0.] <-> [0.26620904 0.6925962  0.04119479]\n",
      "[1. 0. 0.] <-> [0.79746115 0.07248336 0.13005543]\n",
      "[0. 1. 0.] <-> [0.19763741 0.7782349  0.02412768]\n",
      "[1. 0. 0.] <-> [0.8367351  0.07039223 0.09287265]\n",
      "[0. 1. 0.] <-> [0.6034909  0.35977885 0.03673028]\n",
      "[0. 1. 0.] <-> [0.1350247  0.83021545 0.03475982]\n",
      "[0. 0. 1.] <-> [0.6890027  0.056557   0.25444028]\n",
      "[1. 0. 0.] <-> [0.82993567 0.06124945 0.10881486]\n",
      "[1. 0. 0.] <-> [0.8045843  0.13338657 0.06202912]\n",
      "[1. 0. 0.] <-> [0.71158963 0.1804571  0.10795329]\n",
      "[1. 0. 0.] <-> [0.8306624  0.09042197 0.07891563]\n",
      "[1. 0. 0.] <-> [0.7536929  0.13575298 0.1105541 ]\n",
      "[1. 0. 0.] <-> [0.7953123  0.12331662 0.08137113]\n",
      "[1. 0. 0.] <-> [0.8564649  0.05525006 0.08828507]\n",
      "[0. 0. 1.] <-> [0.6102671  0.0439501  0.34578288]\n",
      "[0. 0. 1.] <-> [0.6249526  0.02349194 0.35155544]\n",
      "[1. 0. 0.] <-> [0.8244922  0.08274881 0.09275893]\n",
      "[0. 0. 1.] <-> [0.22311965 0.0192086  0.7576717 ]\n",
      "[1. 0. 0.] <-> [0.8125794  0.12125258 0.06616805]\n",
      "[1. 0. 0.] <-> [0.8812369  0.04072492 0.0780381 ]\n",
      "[1. 0. 0.] <-> [0.82596934 0.08605768 0.08797304]\n",
      "[0. 0. 1.] <-> [0.5608794  0.02257856 0.41654196]\n",
      "[1. 0. 0.] <-> [0.79567975 0.07698591 0.12733434]\n",
      "[1. 0. 0.] <-> [0.74259627 0.07673801 0.18066575]\n",
      "[1. 0. 0.] <-> [0.66551656 0.26177177 0.0727117 ]\n",
      "[1. 0. 0.] <-> [0.8632416  0.06271268 0.07404566]\n",
      "[1. 0. 0.] <-> [0.8634222  0.05827811 0.07829966]\n",
      "[0. 1. 0.] <-> [0.6725962  0.26238748 0.06501629]\n",
      "[1. 0. 0.] <-> [0.7838031  0.1267494  0.08944752]\n",
      "[0. 0. 1.] <-> [0.8088566  0.02058914 0.17055431]\n",
      "[1. 0. 0.] <-> [0.7205534  0.23252815 0.04691851]\n",
      "[1. 0. 0.] <-> [0.6705013  0.06174    0.26775873]\n",
      "[1. 0. 0.] <-> [0.7647437  0.16265287 0.07260342]\n",
      "[1. 0. 0.] <-> [0.816967   0.10397127 0.0790617 ]\n",
      "[1. 0. 0.] <-> [0.85912496 0.03667337 0.10420162]\n",
      "[1. 0. 0.] <-> [0.8284024  0.09747332 0.07412434]\n",
      "[1. 0. 0.] <-> [0.8544333  0.05845039 0.08711631]\n",
      "[0. 1. 0.] <-> [0.54222304 0.42972445 0.02805252]\n",
      "[1. 0. 0.] <-> [0.8660705  0.06125798 0.0726716 ]\n",
      "[1. 0. 0.] <-> [0.83745193 0.08451869 0.07802937]\n",
      "[0. 0. 1.] <-> [0.38176188 0.02548779 0.5927503 ]\n",
      "[1. 0. 0.] <-> [0.8240784  0.11014696 0.06577464]\n",
      "[1. 0. 0.] <-> [0.85507596 0.07908448 0.06583951]\n",
      "[1. 0. 0.] <-> [0.78738415 0.1125437  0.10007221]\n",
      "[0. 0. 1.] <-> [0.7130557  0.0217718  0.26517254]\n",
      "[1. 0. 0.] <-> [0.81886715 0.11587781 0.06525499]\n",
      "[1. 0. 0.] <-> [0.77310085 0.07814821 0.14875095]\n",
      "[1. 0. 0.] <-> [0.7004656  0.22672996 0.07280436]\n",
      "[0. 0. 1.] <-> [0.2133925  0.02841972 0.7581878 ]\n",
      "[1. 0. 0.] <-> [0.77562916 0.1538147  0.07055619]\n",
      "[1. 0. 0.] <-> [0.8693963  0.05538113 0.07522257]\n",
      "[1. 0. 0.] <-> [0.87593985 0.04385258 0.0802075 ]\n",
      "[1. 0. 0.] <-> [0.8565495  0.0694846  0.07396586]\n",
      "[1. 0. 0.] <-> [0.7861177  0.11188953 0.10199279]\n",
      "[0. 0. 1.] <-> [0.82107097 0.05068586 0.12824322]\n",
      "[0. 1. 0.] <-> [0.5376897  0.3968852  0.06542507]\n",
      "[0. 1. 0.] <-> [0.24623385 0.7134673  0.04029885]\n",
      "[1. 0. 0.] <-> [0.82991725 0.07928754 0.09079513]\n",
      "[1. 0. 0.] <-> [0.7476062  0.19063763 0.06175616]\n",
      "[1. 0. 0.] <-> [0.807454   0.0971209  0.09542516]\n",
      "[1. 0. 0.] <-> [0.858713   0.06548081 0.07580623]\n",
      "[0. 1. 0.] <-> [0.40247598 0.5462891  0.05123498]\n",
      "[0. 1. 0.] <-> [0.15055127 0.8107316  0.03871712]\n",
      "{'accuracy': 0.8950617283950617, 'mean_square_error': 0.21198112544346864, 'categorical_crossentropy': 0.39586604083025895, 'essential_metrics': {0: {'tp_hit': 78, 'fp_hit': 17, 'tn_hit': 13, 'fn_hit': 0}, 1: {'tp_hit': 9, 'fp_hit': 0, 'tn_hit': 92, 'fn_hit': 7}, 2: {'tp_hit': 4, 'fp_hit': 0, 'tn_hit': 94, 'fn_hit': 10}}}\n"
     ]
    }
   ],
   "source": [
    "# recall phase\n",
    "score = model.evaluate(x_test, y_test, False)\n",
    "print(score)"
   ]
  },
  {
   "cell_type": "code",
   "execution_count": 13,
   "metadata": {},
   "outputs": [
    {
     "name": "stdout",
     "output_type": "stream",
     "text": [
      "{'accuracy': 0.8641975308641975, 'mean_square_error': 0.37081894155947054, 'categorical_crossentropy': 0.8098396018699363, 'essential_metrics': {0: {'tp_hit': 78, 'fp_hit': 22, 'tn_hit': 8, 'fn_hit': 0}, 1: {'tp_hit': 8, 'fp_hit': 0, 'tn_hit': 92, 'fn_hit': 8}, 2: {'tp_hit': 0, 'fp_hit': 0, 'tn_hit': 94, 'fn_hit': 14}}, 'checkpoint': 10} \n",
      "\n",
      "\n",
      "{'accuracy': 0.8641975308641975, 'mean_square_error': 0.361796811204648, 'categorical_crossentropy': 0.6435091937029803, 'essential_metrics': {0: {'tp_hit': 72, 'fp_hit': 16, 'tn_hit': 14, 'fn_hit': 6}, 1: {'tp_hit': 13, 'fp_hit': 6, 'tn_hit': 86, 'fn_hit': 3}, 2: {'tp_hit': 1, 'fp_hit': 0, 'tn_hit': 94, 'fn_hit': 13}}, 'checkpoint': 20} \n",
      "\n",
      "\n",
      "{'accuracy': 0.8395061728395061, 'mean_square_error': 0.3500802494499377, 'categorical_crossentropy': 0.6091557255497685, 'essential_metrics': {0: {'tp_hit': 78, 'fp_hit': 26, 'tn_hit': 4, 'fn_hit': 0}, 1: {'tp_hit': 4, 'fp_hit': 0, 'tn_hit': 92, 'fn_hit': 12}, 2: {'tp_hit': 0, 'fp_hit': 0, 'tn_hit': 94, 'fn_hit': 14}}, 'checkpoint': 30} \n",
      "\n",
      "\n",
      "{'accuracy': 0.8148148148148148, 'mean_square_error': 0.3668853044048414, 'categorical_crossentropy': 0.5774972703721788, 'essential_metrics': {0: {'tp_hit': 78, 'fp_hit': 30, 'tn_hit': 0, 'fn_hit': 0}, 1: {'tp_hit': 0, 'fp_hit': 0, 'tn_hit': 92, 'fn_hit': 16}, 2: {'tp_hit': 0, 'fp_hit': 0, 'tn_hit': 94, 'fn_hit': 14}}, 'checkpoint': 40} \n",
      "\n",
      "\n",
      "{'accuracy': 0.8580246913580247, 'mean_square_error': 0.30608409196339603, 'categorical_crossentropy': 0.547353673864294, 'essential_metrics': {0: {'tp_hit': 78, 'fp_hit': 23, 'tn_hit': 7, 'fn_hit': 0}, 1: {'tp_hit': 5, 'fp_hit': 0, 'tn_hit': 92, 'fn_hit': 11}, 2: {'tp_hit': 2, 'fp_hit': 0, 'tn_hit': 94, 'fn_hit': 12}}, 'checkpoint': 50} \n",
      "\n",
      "\n",
      "{'accuracy': 0.8765432098765432, 'mean_square_error': 0.289720208802369, 'categorical_crossentropy': 0.5268111758761935, 'essential_metrics': {0: {'tp_hit': 78, 'fp_hit': 20, 'tn_hit': 10, 'fn_hit': 0}, 1: {'tp_hit': 7, 'fp_hit': 0, 'tn_hit': 92, 'fn_hit': 9}, 2: {'tp_hit': 3, 'fp_hit': 0, 'tn_hit': 94, 'fn_hit': 11}}, 'checkpoint': 60} \n",
      "\n",
      "\n",
      "{'accuracy': 0.8827160493827161, 'mean_square_error': 0.2743303019410019, 'categorical_crossentropy': 0.48151542522289137, 'essential_metrics': {0: {'tp_hit': 78, 'fp_hit': 19, 'tn_hit': 11, 'fn_hit': 0}, 1: {'tp_hit': 8, 'fp_hit': 0, 'tn_hit': 92, 'fn_hit': 8}, 2: {'tp_hit': 3, 'fp_hit': 0, 'tn_hit': 94, 'fn_hit': 11}}, 'checkpoint': 70} \n",
      "\n",
      "\n",
      "{'accuracy': 0.8827160493827161, 'mean_square_error': 0.23706797594641896, 'categorical_crossentropy': 0.4175204524287471, 'essential_metrics': {0: {'tp_hit': 78, 'fp_hit': 19, 'tn_hit': 11, 'fn_hit': 0}, 1: {'tp_hit': 8, 'fp_hit': 0, 'tn_hit': 92, 'fn_hit': 8}, 2: {'tp_hit': 3, 'fp_hit': 0, 'tn_hit': 94, 'fn_hit': 11}}, 'checkpoint': 80} \n",
      "\n",
      "\n",
      "{'accuracy': 0.9135802469135802, 'mean_square_error': 0.19477374939773212, 'categorical_crossentropy': 0.37974477697301795, 'essential_metrics': {0: {'tp_hit': 78, 'fp_hit': 14, 'tn_hit': 16, 'fn_hit': 0}, 1: {'tp_hit': 11, 'fp_hit': 0, 'tn_hit': 92, 'fn_hit': 5}, 2: {'tp_hit': 5, 'fp_hit': 0, 'tn_hit': 94, 'fn_hit': 9}}, 'checkpoint': 90} \n",
      "\n",
      "\n",
      "{'accuracy': 0.9074074074074074, 'mean_square_error': 0.20283551337977937, 'categorical_crossentropy': 0.39571991673222295, 'essential_metrics': {0: {'tp_hit': 78, 'fp_hit': 15, 'tn_hit': 15, 'fn_hit': 0}, 1: {'tp_hit': 10, 'fp_hit': 0, 'tn_hit': 92, 'fn_hit': 6}, 2: {'tp_hit': 5, 'fp_hit': 0, 'tn_hit': 94, 'fn_hit': 9}}, 'checkpoint': 100} \n",
      "\n",
      "\n",
      "{'accuracy': 0.8950617283950617, 'mean_square_error': 0.2143455252380615, 'categorical_crossentropy': 0.4065871768527561, 'essential_metrics': {0: {'tp_hit': 78, 'fp_hit': 17, 'tn_hit': 13, 'fn_hit': 0}, 1: {'tp_hit': 9, 'fp_hit': 0, 'tn_hit': 92, 'fn_hit': 7}, 2: {'tp_hit': 4, 'fp_hit': 0, 'tn_hit': 94, 'fn_hit': 10}}, 'checkpoint': 110} \n",
      "\n",
      "\n",
      "{'accuracy': 0.9074074074074074, 'mean_square_error': 0.2100012062473201, 'categorical_crossentropy': 0.4040562665020978, 'essential_metrics': {0: {'tp_hit': 78, 'fp_hit': 15, 'tn_hit': 15, 'fn_hit': 0}, 1: {'tp_hit': 10, 'fp_hit': 0, 'tn_hit': 92, 'fn_hit': 6}, 2: {'tp_hit': 5, 'fp_hit': 0, 'tn_hit': 94, 'fn_hit': 9}}, 'checkpoint': 120} \n",
      "\n",
      "\n",
      "{'accuracy': 0.9135802469135802, 'mean_square_error': 0.1923520881762007, 'categorical_crossentropy': 0.38427409419307, 'essential_metrics': {0: {'tp_hit': 78, 'fp_hit': 14, 'tn_hit': 16, 'fn_hit': 0}, 1: {'tp_hit': 10, 'fp_hit': 0, 'tn_hit': 92, 'fn_hit': 6}, 2: {'tp_hit': 6, 'fp_hit': 0, 'tn_hit': 94, 'fn_hit': 8}}, 'checkpoint': 130} \n",
      "\n",
      "\n",
      "{'accuracy': 0.9135802469135802, 'mean_square_error': 0.193770519356166, 'categorical_crossentropy': 0.3752399727150246, 'essential_metrics': {0: {'tp_hit': 78, 'fp_hit': 14, 'tn_hit': 16, 'fn_hit': 0}, 1: {'tp_hit': 10, 'fp_hit': 0, 'tn_hit': 92, 'fn_hit': 6}, 2: {'tp_hit': 6, 'fp_hit': 0, 'tn_hit': 94, 'fn_hit': 8}}, 'checkpoint': 140} \n",
      "\n",
      "\n",
      "{'accuracy': 0.9012345679012346, 'mean_square_error': 0.20114997684776817, 'categorical_crossentropy': 0.3889732007627134, 'essential_metrics': {0: {'tp_hit': 78, 'fp_hit': 16, 'tn_hit': 14, 'fn_hit': 0}, 1: {'tp_hit': 10, 'fp_hit': 0, 'tn_hit': 92, 'fn_hit': 6}, 2: {'tp_hit': 4, 'fp_hit': 0, 'tn_hit': 94, 'fn_hit': 10}}, 'checkpoint': 150} \n",
      "\n",
      "\n",
      "{'accuracy': 0.9012345679012346, 'mean_square_error': 0.20114997684776817, 'categorical_crossentropy': 0.3889732007627134, 'essential_metrics': {0: {'tp_hit': 78, 'fp_hit': 16, 'tn_hit': 14, 'fn_hit': 0}, 1: {'tp_hit': 10, 'fp_hit': 0, 'tn_hit': 92, 'fn_hit': 6}, 2: {'tp_hit': 4, 'fp_hit': 0, 'tn_hit': 94, 'fn_hit': 10}}, 'checkpoint': 160} \n",
      "\n",
      "\n",
      "{'accuracy': 0.8888888888888888, 'mean_square_error': 0.21388606077869102, 'categorical_crossentropy': 0.39629494702374496, 'essential_metrics': {0: {'tp_hit': 78, 'fp_hit': 18, 'tn_hit': 12, 'fn_hit': 0}, 1: {'tp_hit': 8, 'fp_hit': 0, 'tn_hit': 92, 'fn_hit': 8}, 2: {'tp_hit': 4, 'fp_hit': 0, 'tn_hit': 94, 'fn_hit': 10}}, 'checkpoint': 170} \n",
      "\n",
      "\n",
      "{'accuracy': 0.8950617283950617, 'mean_square_error': 0.20393617408912273, 'categorical_crossentropy': 0.38520675235324436, 'essential_metrics': {0: {'tp_hit': 78, 'fp_hit': 17, 'tn_hit': 13, 'fn_hit': 0}, 1: {'tp_hit': 9, 'fp_hit': 0, 'tn_hit': 92, 'fn_hit': 7}, 2: {'tp_hit': 4, 'fp_hit': 0, 'tn_hit': 94, 'fn_hit': 10}}, 'checkpoint': 180} \n",
      "\n",
      "\n",
      "{'accuracy': 0.8950617283950617, 'mean_square_error': 0.21198112544346864, 'categorical_crossentropy': 0.39586604083025895, 'essential_metrics': {0: {'tp_hit': 78, 'fp_hit': 17, 'tn_hit': 13, 'fn_hit': 0}, 1: {'tp_hit': 9, 'fp_hit': 0, 'tn_hit': 92, 'fn_hit': 7}, 2: {'tp_hit': 4, 'fp_hit': 0, 'tn_hit': 94, 'fn_hit': 10}}, 'checkpoint': 190} \n",
      "\n",
      "\n",
      "{'accuracy': 0.8950617283950617, 'mean_square_error': 0.21198112544346864, 'categorical_crossentropy': 0.39586604083025895, 'essential_metrics': {0: {'tp_hit': 78, 'fp_hit': 17, 'tn_hit': 13, 'fn_hit': 0}, 1: {'tp_hit': 9, 'fp_hit': 0, 'tn_hit': 92, 'fn_hit': 7}, 2: {'tp_hit': 4, 'fp_hit': 0, 'tn_hit': 94, 'fn_hit': 10}}, 'checkpoint': 200} \n",
      "\n",
      "\n"
     ]
    }
   ],
   "source": [
    "for checkpoint in checkpoints:\n",
    "    print(checkpoint, '\\n\\n')"
   ]
  },
  {
   "cell_type": "code",
   "execution_count": 14,
   "metadata": {},
   "outputs": [
    {
     "name": "stdout",
     "output_type": "stream",
     "text": [
      "Layer 1\n",
      "Neuron 0: weights:\n",
      "[ 0.11812622  0.18637423 -0.92662644 -1.104894   -1.0646069 ]\n",
      " bias: 0.6036761999130249\n",
      "\n",
      "Neuron 1: weights:\n",
      "[ 0.12886551 -0.8278858  -0.13485387  0.27459013  0.47245356]\n",
      " bias: -0.3193891942501068\n",
      "\n",
      "Neuron 2: weights:\n",
      "[ 0.46121982 -0.6987117  -0.21869677  0.2685293   0.33780396]\n",
      " bias: 0.06650149822235107\n",
      "\n",
      "Neuron 3: weights:\n",
      "[-0.78537464  1.1943514   0.8891029   0.16195913 -0.05079494]\n",
      " bias: -0.6606693267822266\n",
      "\n",
      "$\n",
      "Layer 2\n",
      "Neuron 0: weights:\n",
      "[ 1.7502998  -0.23674339  0.2054088  -1.3132405 ]\n",
      " bias: 0.4713859260082245\n",
      "\n",
      "Neuron 1: weights:\n",
      "[-0.1836824  -0.82550675 -1.2535303   1.7238532 ]\n",
      " bias: 0.004163861740380526\n",
      "\n",
      "Neuron 2: weights:\n",
      "[-1.6701189   1.001548    1.1645682  -0.66515607]\n",
      " bias: -0.28170666098594666\n",
      "\n",
      "$\n",
      "\n"
     ]
    }
   ],
   "source": [
    "print(model)"
   ]
  },
  {
   "cell_type": "code",
   "execution_count": null,
   "metadata": {},
   "outputs": [],
   "source": []
  }
 ],
 "metadata": {
  "kernelspec": {
   "display_name": "Python 3",
   "language": "python",
   "name": "python3"
  },
  "language_info": {
   "codemirror_mode": {
    "name": "ipython",
    "version": 3
   },
   "file_extension": ".py",
   "mimetype": "text/x-python",
   "name": "python",
   "nbconvert_exporter": "python",
   "pygments_lexer": "ipython3",
   "version": "3.6.12"
  }
 },
 "nbformat": 4,
 "nbformat_minor": 2
}
