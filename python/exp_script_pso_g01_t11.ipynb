{
 "cells": [
  {
   "cell_type": "code",
   "execution_count": 1,
   "metadata": {},
   "outputs": [],
   "source": [
    "# dependency\n",
    "import numpy as np\n",
    "import pandas as pd\n",
    "import copy\n",
    "import math\n",
    "import sys\n",
    "import os\n",
    "from activations import relu, leaky_relu, sigmoid, tanh, softmax, d_sigmoid, d_relu\n",
    "from initializers import glorot_uniform, random_normal, random_uniform\n",
    "from regularizers import l1_regularizer, l2_regularizer\n",
    "from utility import trim_tail, multiply, subtract, get_nparams, one_hot_encoding, get_data\n",
    "from metrics import MSE, CCE, ACC, PRECISION, RECALL, essential_metrics, wondering_penalty, close_gap_penalty\n",
    "from pso import PSO\n",
    "from ga import GA\n",
    "from nn import Network\n",
    "from layer import DenseLayer\n",
    "from scalers import MinMaxScaler, StandardScaler"
   ]
  },
  {
   "cell_type": "code",
   "execution_count": 2,
   "metadata": {},
   "outputs": [],
   "source": [
    "# reference\n",
    "metrics_fn_dict = dict()\n",
    "metrics_fn_dict['accuracy'] = ACC\n",
    "metrics_fn_dict['categorical_crossentropy'] = CCE\n",
    "metrics_fn_dict['mean_square_error'] = MSE\n",
    "metrics_fn_dict['precision'] = PRECISION\n",
    "metrics_fn_dict['recall'] = RECALL\n",
    "metrics_fn_dict['essential_metrics'] = essential_metrics"
   ]
  },
  {
   "cell_type": "code",
   "execution_count": 3,
   "metadata": {},
   "outputs": [],
   "source": [
    "# model\n",
    "model = Network(5, lr = None)\n",
    "model.add_layer(DenseLayer(1, 4, True, afn=sigmoid, dafn=None, rfn=None))\n",
    "model.add_layer(DenseLayer(2, 3, True, afn=softmax, dafn=None, rfn=None))"
   ]
  },
  {
   "cell_type": "code",
   "execution_count": 4,
   "metadata": {},
   "outputs": [
    {
     "name": "stdout",
     "output_type": "stream",
     "text": [
      "see one see two 2 2\n"
     ]
    }
   ],
   "source": [
    "pso = PSO(dict(m = 200,\n",
    "    weight_constraint = [-3, 3], \n",
    "    velocity_constraint = [-0.1, 0.1],\n",
    "    c1 = 2,\n",
    "    c2 = 2,\n",
    "    w = 1,\n",
    "    w_decay = 1,\n",
    "    scale_hyperparameter = False,\n",
    "    regularizer = None,\n",
    "    mask = True))"
   ]
  },
  {
   "cell_type": "code",
   "execution_count": 5,
   "metadata": {},
   "outputs": [
    {
     "name": "stdout",
     "output_type": "stream",
     "text": [
      "building layer 1 with 5\n",
      "24\n",
      "building layer 2 with 4\n",
      "15\n"
     ]
    }
   ],
   "source": [
    "model.compile(loss_fn = 'categorical_crossentropy', optimizer = pso, \\\n",
    "    metrics = ['accuracy', 'mean_square_error', 'categorical_crossentropy'])"
   ]
  },
  {
   "cell_type": "code",
   "execution_count": 6,
   "metadata": {},
   "outputs": [
    {
     "name": "stdout",
     "output_type": "stream",
     "text": [
      "<class 'pandas.core.frame.DataFrame'>\n",
      "RangeIndex: 107 entries, 0 to 106\n",
      "Data columns (total 6 columns):\n",
      " #   Column  Non-Null Count  Dtype  \n",
      "---  ------  --------------  -----  \n",
      " 0   f1      107 non-null    float32\n",
      " 1   f2      107 non-null    float32\n",
      " 2   f3      107 non-null    float32\n",
      " 3   f4      107 non-null    float32\n",
      " 4   f5      107 non-null    float32\n",
      " 5   label   107 non-null    float32\n",
      "dtypes: float32(6)\n",
      "memory usage: 2.6 KB\n",
      "None\n",
      "<class 'pandas.core.frame.DataFrame'>\n",
      "RangeIndex: 108 entries, 0 to 107\n",
      "Data columns (total 6 columns):\n",
      " #   Column  Non-Null Count  Dtype  \n",
      "---  ------  --------------  -----  \n",
      " 0   f1      108 non-null    float32\n",
      " 1   f2      108 non-null    float32\n",
      " 2   f3      108 non-null    float32\n",
      " 3   f4      108 non-null    float32\n",
      " 4   f5      108 non-null    float32\n",
      " 5   label   108 non-null    float32\n",
      "dtypes: float32(6)\n",
      "memory usage: 2.7 KB\n",
      "None\n"
     ]
    }
   ],
   "source": [
    "# data loading\n",
    "DATA = os.path.join('c:\\\\Users\\\\tcumi\\\\github_repo\\\\neural-network\\\\', 'dataset')\n",
    "GROUP = 1\n",
    "COLUMNS = ['f1', 'f2', 'f3', 'f4', 'f5', 'label']\n",
    "N_CLASS = 3\n",
    "EPOCHS = 500\n",
    "train_dir, test_dir = \"..//dataset//training_data{}.txt\".format(GROUP), \"..//dataset//testing_data{}.txt\".format(GROUP)\n",
    "train, test = get_data(DATA, train_dir, COLUMNS), get_data(DATA, test_dir, COLUMNS)\n",
    "# shuffle\n",
    "train, test = train.sample(frac=1), test.sample(frac=1)\n",
    "x_train, y_train = train.drop('label', axis=1), train['label']\n",
    "x_test, y_test = test.drop('label', axis=1), test['label']"
   ]
  },
  {
   "cell_type": "code",
   "execution_count": 7,
   "metadata": {},
   "outputs": [],
   "source": [
    "# data scaling and encoding\n",
    "scaler = StandardScaler(['f1', 'f2', 'f3', 'f4', 'f5'])\n",
    "scaler.fit(x_train)\n",
    "x_train = scaler.transform(x_train)\n",
    "x_test = scaler.transform(x_test)\n",
    "y_train = one_hot_encoding(y_train, N_CLASS)\n",
    "y_test = one_hot_encoding(y_test, N_CLASS)"
   ]
  },
  {
   "cell_type": "code",
   "execution_count": 8,
   "metadata": {
    "tags": [
     "outputPrepend"
    ]
   },
   "outputs": [
    {
     "name": "stdout",
     "output_type": "stream",
     "text": [
      "Checkpoint 100, Accuracy: 0.9506172839506173, Loss: 0.1649512008384422\n",
      "Checkpoint 200, Accuracy: 0.9691358024691358, Loss: 0.11467187492935746\n",
      "Checkpoint 300, Accuracy: 0.9691358024691358, Loss: 0.10319026311238606\n",
      "Checkpoint 400, Accuracy: 0.9691358024691358, Loss: 0.10391178837528935\n",
      "Checkpoint 500, Accuracy: 0.9691358024691358, Loss: 0.11033980051676433\n"
     ]
    }
   ],
   "source": [
    "# learning phase\n",
    "breakpoint = 100\n",
    "checkpoints = list()\n",
    "history = list()\n",
    "for century in range(0, EPOCHS, breakpoint):\n",
    "    sub_history = model.fit(x_train, y_train, breakpoint, verbose = 0)\n",
    "    score = model.evaluate(x_test, y_test, False, verbose = 0)\n",
    "    print('Checkpoint {}, Accuracy: {}, Loss: {}'.format(century+breakpoint, score['accuracy'], score[model.loss_fn]))\n",
    "    score['checkpoint'] = century + breakpoint\n",
    "    checkpoints.append(score)\n",
    "    history.extend(sub_history)"
   ]
  },
  {
   "cell_type": "code",
   "execution_count": 9,
   "metadata": {},
   "outputs": [],
   "source": [
    "import matplotlib.pyplot as plt\n",
    "\n",
    "def draw_plot(x, y_list, x_label=None, y_label=None, legend=None, title=None):\n",
    "    fig, ax = plt.subplots(figsize=(12,5))\n",
    "    for xi, yi in zip(x, y_list):\n",
    "        ax.plot(xi, yi)\n",
    "    if x_label is not None and y_label is not None:\n",
    "        ax.set(xlabel=x_label, ylabel=y_label, title='{} VS {}'.format(x_label, y_label))\n",
    "    if legend is not None:\n",
    "        ax.legend(legend)\n",
    "    ax.grid()\n",
    "    plt.show()"
   ]
  },
  {
   "cell_type": "code",
   "execution_count": 10,
   "metadata": {},
   "outputs": [
    {
     "name": "stdout",
     "output_type": "stream",
     "text": [
      "[1. 0. 0.] <-> [0.9960807  0.00143689 0.00248239]\n",
      "[1. 0. 0.] <-> [0.9958839  0.00127496 0.00284122]\n",
      "[1. 0. 0.] <-> [0.9964025  0.00129105 0.00230644]\n",
      "[1. 0. 0.] <-> [0.29106253 0.00094149 0.70799595]\n",
      "[0. 1. 0.] <-> [0.40564615 0.5936959  0.00065796]\n",
      "[1. 0. 0.] <-> [0.99719846 0.00116546 0.00163603]\n",
      "[1. 0. 0.] <-> [0.9794169  0.00153858 0.01904443]\n",
      "[0. 0. 1.] <-> [5.8286097e-03 4.3223725e-05 9.9412823e-01]\n",
      "[1. 0. 0.] <-> [0.9972771  0.00116113 0.00156176]\n",
      "[1. 0. 0.] <-> [0.99687046 0.0011706  0.0019589 ]\n",
      "[1. 0. 0.] <-> [0.99106395 0.00780243 0.00113353]\n",
      "[1. 0. 0.] <-> [0.9930392  0.00132067 0.00564014]\n",
      "[0. 0. 1.] <-> [5.6971530e-03 4.2456617e-05 9.9426043e-01]\n",
      "[1. 0. 0.] <-> [0.9843724  0.00134092 0.01428673]\n",
      "[1. 0. 0.] <-> [0.99587196 0.00139605 0.002732  ]\n",
      "[1. 0. 0.] <-> [0.996718   0.00199114 0.00129082]\n",
      "[0. 0. 1.] <-> [5.6971260e-03 4.2456457e-05 9.9426043e-01]\n",
      "[0. 0. 1.] <-> [5.6971260e-03 4.2456457e-05 9.9426043e-01]\n",
      "[0. 0. 1.] <-> [0.67071605 0.00210097 0.32718295]\n",
      "[1. 0. 0.] <-> [0.996458   0.00232586 0.00121618]\n",
      "[1. 0. 0.] <-> [0.9942179  0.00124503 0.00453712]\n",
      "[1. 0. 0.] <-> [0.99358153 0.00140782 0.00501061]\n",
      "[0. 1. 0.] <-> [6.4647570e-03 9.9352044e-01 1.4798207e-05]\n",
      "[1. 0. 0.] <-> [1.5080424e-02 9.2567469e-05 9.8482704e-01]\n",
      "[0. 0. 1.] <-> [5.7083759e-03 4.2528754e-05 9.9424911e-01]\n",
      "[1. 0. 0.] <-> [0.95331115 0.00168791 0.04500088]\n",
      "[1. 0. 0.] <-> [0.9960008  0.00186432 0.00213486]\n",
      "[1. 0. 0.] <-> [0.9949818  0.00134438 0.0036739 ]\n",
      "[1. 0. 0.] <-> [0.996236   0.00216106 0.00160293]\n",
      "[0. 1. 0.] <-> [2.0984022e-02 9.7896945e-01 4.6522087e-05]\n",
      "[1. 0. 0.] <-> [0.84337854 0.00181503 0.1548065 ]\n",
      "[1. 0. 0.] <-> [0.9860167  0.01270372 0.00127958]\n",
      "[0. 0. 1.] <-> [7.0927143e-03 5.1057727e-05 9.9285626e-01]\n",
      "[0. 1. 0.] <-> [6.8134242e-03 9.9317098e-01 1.5569742e-05]\n",
      "[1. 0. 0.] <-> [0.9972466  0.00123303 0.00152041]\n",
      "[1. 0. 0.] <-> [0.86145514 0.00189216 0.13665272]\n",
      "[1. 0. 0.] <-> [0.9971896  0.00124451 0.00156596]\n",
      "[1. 0. 0.] <-> [0.9953666  0.0033547  0.00127871]\n",
      "[0. 1. 0.] <-> [6.4645447e-03 9.9352056e-01 1.4954008e-05]\n",
      "[1. 0. 0.] <-> [0.9965617  0.00227219 0.00116619]\n",
      "[1. 0. 0.] <-> [0.9970777  0.00129874 0.00162358]\n",
      "[0. 1. 0.] <-> [6.5151015e-03 9.9346995e-01 1.4955330e-05]\n",
      "[1. 0. 0.] <-> [0.95769376 0.00177796 0.04052832]\n",
      "[1. 0. 0.] <-> [0.99337006 0.0013287  0.00530124]\n",
      "[1. 0. 0.] <-> [0.99464107 0.00150085 0.0038581 ]\n",
      "[0. 1. 0.] <-> [1.0898749e-02 9.8907721e-01 2.4027009e-05]\n",
      "[1. 0. 0.] <-> [0.99080783 0.00129322 0.00789895]\n",
      "[1. 0. 0.] <-> [0.9946637  0.00118541 0.00415084]\n",
      "[1. 0. 0.] <-> [0.9972868  0.00143019 0.00128305]\n",
      "[0. 0. 1.] <-> [6.0383612e-03 4.4402423e-05 9.9391729e-01]\n",
      "[1. 0. 0.] <-> [0.98179895 0.00160364 0.01659737]\n",
      "[1. 0. 0.] <-> [0.99687934 0.00133174 0.00178892]\n",
      "[0. 1. 0.] <-> [6.7342520e-03 9.9325025e-01 1.5454641e-05]\n",
      "[1. 0. 0.] <-> [0.9107116  0.08773883 0.0015496 ]\n",
      "[1. 0. 0.] <-> [0.9974941  0.00116737 0.00133854]\n",
      "[0. 1. 0.] <-> [6.4643435e-03 9.9352092e-01 1.4791569e-05]\n",
      "[1. 0. 0.] <-> [0.99424607 0.00127383 0.0044802 ]\n",
      "[1. 0. 0.] <-> [0.9487212  0.00183546 0.04944331]\n",
      "[1. 0. 0.] <-> [0.9974613  0.00119237 0.00134621]\n",
      "[1. 0. 0.] <-> [0.99601257 0.00112205 0.00286536]\n",
      "[1. 0. 0.] <-> [0.99668115 0.00111512 0.0022037 ]\n",
      "[1. 0. 0.] <-> [0.9967338  0.00198658 0.0012797 ]\n",
      "[1. 0. 0.] <-> [0.99278766 0.00593527 0.00127712]\n",
      "[1. 0. 0.] <-> [0.9962643  0.00116547 0.00257034]\n",
      "[1. 0. 0.] <-> [0.52815604 0.0013869  0.47045708]\n",
      "[1. 0. 0.] <-> [0.9933407  0.00128823 0.00537107]\n",
      "[1. 0. 0.] <-> [0.99655735 0.00146989 0.00197282]\n",
      "[0. 0. 1.] <-> [6.4147613e-03 4.7036086e-05 9.9353820e-01]\n",
      "[1. 0. 0.] <-> [0.97650075 0.00149042 0.02200894]\n",
      "[0. 0. 1.] <-> [5.6980550e-03 4.2462045e-05 9.9425948e-01]\n",
      "[1. 0. 0.] <-> [0.99667704 0.00202474 0.00129822]\n",
      "[0. 1. 0.] <-> [2.6958176e-01 7.2992438e-01 4.9389765e-04]\n",
      "[1. 0. 0.] <-> [0.9897002  0.00141629 0.00888355]\n",
      "[1. 0. 0.] <-> [0.99394244 0.00127703 0.00478053]\n",
      "[0. 0. 1.] <-> [5.6973011e-03 4.2457497e-05 9.9426019e-01]\n",
      "[1. 0. 0.] <-> [0.9964625  0.00240139 0.00113608]\n",
      "[1. 0. 0.] <-> [0.99504554 0.00128249 0.00367198]\n",
      "[1. 0. 0.] <-> [0.9516151  0.00187136 0.04651361]\n",
      "[1. 0. 0.] <-> [0.3955882  0.6036936  0.00071819]\n",
      "[0. 0. 1.] <-> [5.7390747e-03 4.2721251e-05 9.9421823e-01]\n",
      "[0. 1. 0.] <-> [1.3047375e-01 8.6928761e-01 2.3864396e-04]\n",
      "[0. 0. 1.] <-> [8.2240246e-02 3.3591376e-04 9.1742384e-01]\n",
      "[1. 0. 0.] <-> [0.99562186 0.00125353 0.0031246 ]\n",
      "[0. 1. 0.] <-> [0.7154397  0.2833225  0.00123783]\n",
      "[0. 1. 0.] <-> [5.3585190e-02 9.4629657e-01 1.1818073e-04]\n",
      "[0. 1. 0.] <-> [8.7373005e-03 9.9124265e-01 2.0119827e-05]\n",
      "[1. 0. 0.] <-> [0.9961998  0.00115765 0.00264261]\n",
      "[1. 0. 0.] <-> [0.99652654 0.00222604 0.00124751]\n",
      "[1. 0. 0.] <-> [0.99686986 0.00187167 0.00125847]\n",
      "[1. 0. 0.] <-> [0.99701995 0.00142256 0.00155749]\n",
      "[0. 1. 0.] <-> [1.2764252e-02 9.8720658e-01 2.9224266e-05]\n",
      "[1. 0. 0.] <-> [0.9361268  0.00216488 0.06170841]\n",
      "[1. 0. 0.] <-> [0.99701786 0.00140715 0.0015751 ]\n",
      "[1. 0. 0.] <-> [0.9965951  0.0017217  0.00168326]\n",
      "[1. 0. 0.] <-> [0.8880745  0.00177624 0.11014921]\n",
      "[1. 0. 0.] <-> [0.9952762  0.00348107 0.00124266]\n",
      "[1. 0. 0.] <-> [0.99253297 0.00135746 0.00610955]\n",
      "[1. 0. 0.] <-> [0.9322216  0.06640544 0.00137301]\n",
      "[1. 0. 0.] <-> [0.994718   0.00131456 0.00396743]\n",
      "[1. 0. 0.] <-> [0.9717424  0.00169565 0.02656197]\n",
      "[1. 0. 0.] <-> [0.98857504 0.01010019 0.00132469]\n",
      "[1. 0. 0.] <-> [0.99074346 0.00715843 0.00209818]\n",
      "[1. 0. 0.] <-> [0.99103373 0.00136595 0.00760028]\n",
      "[1. 0. 0.] <-> [0.9924958  0.00137191 0.00613233]\n",
      "[1. 0. 0.] <-> [0.99688965 0.00168796 0.00142241]\n",
      "[1. 0. 0.] <-> [0.996061   0.00206187 0.00187706]\n",
      "[1. 0. 0.] <-> [0.99719906 0.0014694  0.00133156]\n",
      "[1. 0. 0.] <-> [0.99693584 0.00172612 0.00133808]\n",
      "{'accuracy': 0.9691358024691358, 'mean_square_error': 0.062457633393198424, 'categorical_crossentropy': 0.11033980051676433, 'essential_metrics': {0: {'tp_hit': 77, 'fp_hit': 2, 'tn_hit': 26, 'fn_hit': 3}, 1: {'tp_hit': 14, 'fp_hit': 1, 'tn_hit': 92, 'fn_hit': 1}, 2: {'tp_hit': 12, 'fp_hit': 2, 'tn_hit': 93, 'fn_hit': 1}}}\n"
     ]
    }
   ],
   "source": [
    "# recall phase\n",
    "score = model.evaluate(x_test, y_test, False)\n",
    "print(score)"
   ]
  },
  {
   "cell_type": "code",
   "execution_count": 11,
   "metadata": {},
   "outputs": [
    {
     "data": {
      "image/png": "[encoded data removed]",
      "text/plain": [
       "<Figure size 864x360 with 1 Axes>"
      ]
     },
     "metadata": {
      "needs_background": "light"
     },
     "output_type": "display_data"
    },
    {
     "data": {
      "image/png": "[encoded data removed]",
      "text/plain": [
       "<Figure size 864x360 with 1 Axes>"
      ]
     },
     "metadata": {
      "needs_background": "light"
     },
     "output_type": "display_data"
    }
   ],
   "source": [
    "draw_plot(x = [[i for i in range(len(history))], [(i+1)*breakpoint for i in range(len(checkpoints))]], y_list = [history, [ ckp[model.loss_fn] for ckp in checkpoints ]], x_label = 'Epochs', \\\n",
    "    y_label = model.loss_fn, legend=['train', 'test'])\n",
    "acc = [ ckp['accuracy'] for ckp in checkpoints ]\n",
    "draw_plot(x = [[(i+1)*breakpoint for i in range(len(checkpoints))]], y_list = [acc], x_label = 'Checkpoints', \\\n",
    "    y_label = 'accuracy')"
   ]
  },
  {
   "cell_type": "code",
   "execution_count": 12,
   "metadata": {},
   "outputs": [
    {
     "name": "stdout",
     "output_type": "stream",
     "text": [
      "{'accuracy': 0.9506172839506173, 'mean_square_error': 0.07621149239243097, 'categorical_crossentropy': 0.1649512008384422, 'essential_metrics': {0: {'tp_hit': 78, 'fp_hit': 6, 'tn_hit': 22, 'fn_hit': 2}, 1: {'tp_hit': 12, 'fp_hit': 0, 'tn_hit': 93, 'fn_hit': 3}, 2: {'tp_hit': 10, 'fp_hit': 2, 'tn_hit': 93, 'fn_hit': 3}}, 'checkpoint': 100} \n",
      "\n",
      "\n",
      "{'accuracy': 0.9691358024691358, 'mean_square_error': 0.06674937596858473, 'categorical_crossentropy': 0.11467187492935746, 'essential_metrics': {0: {'tp_hit': 77, 'fp_hit': 2, 'tn_hit': 26, 'fn_hit': 3}, 1: {'tp_hit': 14, 'fp_hit': 1, 'tn_hit': 92, 'fn_hit': 1}, 2: {'tp_hit': 12, 'fp_hit': 2, 'tn_hit': 93, 'fn_hit': 1}}, 'checkpoint': 200} \n",
      "\n",
      "\n",
      "{'accuracy': 0.9691358024691358, 'mean_square_error': 0.05627001167222764, 'categorical_crossentropy': 0.10319026311238606, 'essential_metrics': {0: {'tp_hit': 77, 'fp_hit': 2, 'tn_hit': 26, 'fn_hit': 3}, 1: {'tp_hit': 14, 'fp_hit': 1, 'tn_hit': 92, 'fn_hit': 1}, 2: {'tp_hit': 12, 'fp_hit': 2, 'tn_hit': 93, 'fn_hit': 1}}, 'checkpoint': 300} \n",
      "\n",
      "\n",
      "{'accuracy': 0.9691358024691358, 'mean_square_error': 0.05762677963611131, 'categorical_crossentropy': 0.10391178837528935, 'essential_metrics': {0: {'tp_hit': 77, 'fp_hit': 2, 'tn_hit': 26, 'fn_hit': 3}, 1: {'tp_hit': 14, 'fp_hit': 1, 'tn_hit': 92, 'fn_hit': 1}, 2: {'tp_hit': 12, 'fp_hit': 2, 'tn_hit': 93, 'fn_hit': 1}}, 'checkpoint': 400} \n",
      "\n",
      "\n",
      "{'accuracy': 0.9691358024691358, 'mean_square_error': 0.062457633393198424, 'categorical_crossentropy': 0.11033980051676433, 'essential_metrics': {0: {'tp_hit': 77, 'fp_hit': 2, 'tn_hit': 26, 'fn_hit': 3}, 1: {'tp_hit': 14, 'fp_hit': 1, 'tn_hit': 92, 'fn_hit': 1}, 2: {'tp_hit': 12, 'fp_hit': 2, 'tn_hit': 93, 'fn_hit': 1}}, 'checkpoint': 500} \n",
      "\n",
      "\n"
     ]
    }
   ],
   "source": [
    "for checkpoint in checkpoints:\n",
    "    print(checkpoint, '\\n\\n')"
   ]
  },
  {
   "cell_type": "code",
   "execution_count": 13,
   "metadata": {},
   "outputs": [
    {
     "name": "stdout",
     "output_type": "stream",
     "text": [
      "Layer 1\n",
      "Neuron 0: weights:\n",
      "[ 0.05580798 -3.          0.25803456  1.297961    3.        ]\n",
      " bias: -2.374523878097534\n",
      "\n",
      "Neuron 1: weights:\n",
      "[-2.0219307  3.         3.         1.6405175 -2.7448533]\n",
      " bias: -3.0\n",
      "\n",
      "Neuron 2: weights:\n",
      "[-0.10480302  3.          0.8659529  -0.82347924 -3.        ]\n",
      " bias: 3.0\n",
      "\n",
      "Neuron 3: weights:\n",
      "[-1.8245769  3.         1.3498102  0.679074  -2.844127 ]\n",
      " bias: -3.0\n",
      "\n",
      "$\n",
      "Layer 2\n",
      "Neuron 0: weights:\n",
      "[-3. -3.  3. -3.]\n",
      " bias: 1.8992385864257812\n",
      "\n",
      "Neuron 1: weights:\n",
      "[-3.          3.          0.93425584  3.        ]\n",
      " bias: -3.0\n",
      "\n",
      "Neuron 2: weights:\n",
      "[ 3.        -2.2422605 -3.        -3.       ]\n",
      " bias: 1.0612760782241821\n",
      "\n",
      "$\n",
      "\n"
     ]
    }
   ],
   "source": [
    "print(model)"
   ]
  }
 ],
 "metadata": {
  "kernelspec": {
   "display_name": "Python 3",
   "language": "python",
   "name": "python3"
  },
  "language_info": {
   "codemirror_mode": {
    "name": "ipython",
    "version": 3
   },
   "file_extension": ".py",
   "mimetype": "text/x-python",
   "name": "python",
   "nbconvert_exporter": "python",
   "pygments_lexer": "ipython3",
   "version": "3.6.10"
  }
 },
 "nbformat": 4,
 "nbformat_minor": 2
}
