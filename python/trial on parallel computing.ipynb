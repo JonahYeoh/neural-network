{
 "cells": [
  {
   "cell_type": "code",
   "execution_count": 1,
   "id": "53c5541a",
   "metadata": {},
   "outputs": [],
   "source": [
    "from model import ML_Agent\n",
    "from pso import PSO\n",
    "from ga import GA\n",
    "from parallel_bees import BEES\n",
    "import pandas as pd\n",
    "import numpy as np\n",
    "from scipy import stats\n",
    "from utility import split_data # (dataframe, label, do_shuffle=True, test_size=0.1):"
   ]
  },
  {
   "cell_type": "code",
   "execution_count": 2,
   "id": "356238f1",
   "metadata": {},
   "outputs": [
    {
     "data": {
      "text/html": [
       "<div>\n",
       "<style scoped>\n",
       "    .dataframe tbody tr th:only-of-type {\n",
       "        vertical-align: middle;\n",
       "    }\n",
       "\n",
       "    .dataframe tbody tr th {\n",
       "        vertical-align: top;\n",
       "    }\n",
       "\n",
       "    .dataframe thead th {\n",
       "        text-align: right;\n",
       "    }\n",
       "</style>\n",
       "<table border=\"1\" class=\"dataframe\">\n",
       "  <thead>\n",
       "    <tr style=\"text-align: right;\">\n",
       "      <th></th>\n",
       "      <th>CLASS</th>\n",
       "      <th>T3RESIN</th>\n",
       "      <th>THYROXIN</th>\n",
       "      <th>THYRONINE</th>\n",
       "      <th>THYROID</th>\n",
       "      <th>TSH_VALUE</th>\n",
       "    </tr>\n",
       "  </thead>\n",
       "  <tbody>\n",
       "    <tr>\n",
       "      <th>6</th>\n",
       "      <td>1</td>\n",
       "      <td>110</td>\n",
       "      <td>10.4</td>\n",
       "      <td>1.6</td>\n",
       "      <td>1.6</td>\n",
       "      <td>2.7</td>\n",
       "    </tr>\n",
       "    <tr>\n",
       "      <th>2</th>\n",
       "      <td>1</td>\n",
       "      <td>127</td>\n",
       "      <td>12.9</td>\n",
       "      <td>2.4</td>\n",
       "      <td>1.4</td>\n",
       "      <td>0.6</td>\n",
       "    </tr>\n",
       "    <tr>\n",
       "      <th>125</th>\n",
       "      <td>1</td>\n",
       "      <td>106</td>\n",
       "      <td>8.9</td>\n",
       "      <td>0.7</td>\n",
       "      <td>1.0</td>\n",
       "      <td>2.3</td>\n",
       "    </tr>\n",
       "    <tr>\n",
       "      <th>1</th>\n",
       "      <td>1</td>\n",
       "      <td>113</td>\n",
       "      <td>9.9</td>\n",
       "      <td>3.1</td>\n",
       "      <td>2.0</td>\n",
       "      <td>5.9</td>\n",
       "    </tr>\n",
       "    <tr>\n",
       "      <th>96</th>\n",
       "      <td>1</td>\n",
       "      <td>114</td>\n",
       "      <td>11.1</td>\n",
       "      <td>2.4</td>\n",
       "      <td>2.0</td>\n",
       "      <td>-0.3</td>\n",
       "    </tr>\n",
       "  </tbody>\n",
       "</table>\n",
       "</div>"
      ],
      "text/plain": [
       "     CLASS  T3RESIN  THYROXIN  THYRONINE  THYROID  TSH_VALUE\n",
       "6        1      110      10.4        1.6      1.6        2.7\n",
       "2        1      127      12.9        2.4      1.4        0.6\n",
       "125      1      106       8.9        0.7      1.0        2.3\n",
       "1        1      113       9.9        3.1      2.0        5.9\n",
       "96       1      114      11.1        2.4      2.0       -0.3"
      ]
     },
     "execution_count": 2,
     "metadata": {},
     "output_type": "execute_result"
    }
   ],
   "source": [
    "df = pd.read_csv('thyroid.csv')\n",
    "# thyroid.csv\n",
    "df = df.sample(frac=1)\n",
    "df.head(5)"
   ]
  },
  {
   "cell_type": "code",
   "execution_count": 3,
   "id": "d2507f7f",
   "metadata": {},
   "outputs": [
    {
     "name": "stdout",
     "output_type": "stream",
     "text": [
      "   CLASS  T3RESIN  THYROXIN  THYRONINE  THYROID  TSH_VALUE\n",
      "0      1      119      10.6        2.1      1.3        1.1\n",
      "1      1      133       9.7        2.9      0.8        1.9\n",
      "2      1      105      11.1        2.0      1.0        1.0\n",
      "3      1      119       8.0        2.0      0.6        3.2\n",
      "4      1      110       7.0        1.0      1.6        4.3 (172, 6)\n",
      "   CLASS  T3RESIN  THYROXIN  THYRONINE  THYROID  TSH_VALUE\n",
      "0      1      116      10.1        2.2      1.6        0.8\n",
      "1      1      114       8.1        1.6      1.6        0.5\n",
      "2      1      115      10.4        1.8      1.6        2.0\n",
      "3      1      120      10.4        2.1      1.1        1.8\n",
      "4      1      109       5.3        1.6      1.4        1.5 (21, 6)\n",
      "   CLASS  T3RESIN  THYROXIN  THYRONINE  THYROID  TSH_VALUE\n",
      "0      1      109       7.6        1.3      2.2        1.9\n",
      "1      1      101       7.1        2.2      0.8        2.2\n",
      "2      1      108       6.5        1.0      0.9        1.5\n",
      "3      1      102       7.6        1.8      2.0        2.5\n",
      "4      1      114       8.4        1.6      1.6       -0.2 (22, 6)\n"
     ]
    }
   ],
   "source": [
    "train, validation, test = split_data(df, 'CLASS')\n",
    "print(train[:5], train.shape)\n",
    "print(validation[:5], validation.shape)\n",
    "print(test[:5], test.shape)"
   ]
  },
  {
   "cell_type": "code",
   "execution_count": 4,
   "id": "e12d0df2",
   "metadata": {},
   "outputs": [],
   "source": [
    "def preprocessing(dataframe):\n",
    "    scaled_dataframe = pd.DataFrame()\n",
    "    for col in dataframe.columns:\n",
    "        data_col = dataframe[col]\n",
    "        scaled_dataframe[col] = stats.zscore(data_col)\n",
    "    return scaled_dataframe\n",
    "\n",
    "def one_hot_encoding(Target, n_classes):\n",
    "    encoded_array = list()\n",
    "    unique_label = np.unique(Target)\n",
    "    rules = dict()\n",
    "    for idx, label in enumerate(unique_label, 0):\n",
    "        rules[label] = idx\n",
    "    for target in Target:\n",
    "        arr = np.zeros(n_classes)\n",
    "        arr[rules[target]] = 1\n",
    "        encoded_array.append(arr)\n",
    "    return pd.DataFrame(np.array(encoded_array))"
   ]
  },
  {
   "cell_type": "code",
   "execution_count": 5,
   "id": "10c843ce",
   "metadata": {},
   "outputs": [],
   "source": [
    "x_train, y_train = train.drop('CLASS', axis=1), train['CLASS']\n",
    "x_val, y_val = validation.drop('CLASS', axis=1), validation['CLASS']\n",
    "x_test, y_test = test.drop('CLASS', axis=1), test['CLASS']"
   ]
  },
  {
   "cell_type": "code",
   "execution_count": 6,
   "id": "eeeb4097",
   "metadata": {},
   "outputs": [],
   "source": [
    "n_class = len(np.unique(y_train))\n",
    "x_train, y_train = preprocessing(x_train), one_hot_encoding(y_train, n_class)\n",
    "x_val, y_val = preprocessing(x_val), one_hot_encoding(y_val, n_class)\n",
    "x_test, y_test = preprocessing(x_test), one_hot_encoding(y_test, n_class)"
   ]
  },
  {
   "cell_type": "code",
   "execution_count": 7,
   "id": "33fae894",
   "metadata": {},
   "outputs": [
    {
     "name": "stdout",
     "output_type": "stream",
     "text": [
      "building object according to  {'name': 'pso_agent1', 'level': 'weak ai', 'm': 100, 'weight_constraint': [-1.0, 1.0], 'c1': 3, 'c2': 0.5, 'c3': 3.0, 'max_c1': 3.0, 'min_c1': 0.5, 'max_c2': 3.0, 'min_c2': 0.5, 'max_c3': 3.0, 'min_c3': 0.5, 'velocity_constraint': [-0.05, 0.05], 'w': 0.05, 'w_decay': 0.99, 'goal': 0.05, 'initializer': 'uniform'}\n"
     ]
    }
   ],
   "source": [
    "bees = BEES(dict(name='pso_agent1', level='weak ai', m=100, weight_constraint=[-1.,1.], \\\n",
    "               c1=3, c2=0.5, c3=3., max_c1=3., min_c1=0.5, max_c2=3., min_c2=0.5, max_c3=3., min_c3=0.5, \\\n",
    "               velocity_constraint=[-0.05, 0.05], w=0.05, w_decay=0.99, goal=0.05, \\\n",
    "              initializer='uniform'))\n",
    "ga = GA(dict(name='ga_agent2', level='weak weak ai', m=30, x_rate=[0.1, 0.95], m_rate=[0.05, 0.2], weight_constraint=[-1.,1.], \\\n",
    "            radioactive_rating=[0.1,1.0], grow_factor=[0.1, 1.0]))\n",
    "model = ML_Agent(n_feature=5, target_size=3)"
   ]
  },
  {
   "cell_type": "code",
   "execution_count": 8,
   "id": "fea33857",
   "metadata": {},
   "outputs": [],
   "source": [
    "# add_layer(self, units, activation='relu', regularizer='l2', use_bias=True):\n",
    "model.add_layer(8, 'relu', False)\n",
    "model.add_layer(3, 'sigmoid', True)"
   ]
  },
  {
   "cell_type": "code",
   "execution_count": 9,
   "id": "0ccc9aba",
   "metadata": {},
   "outputs": [],
   "source": [
    "model.compile_configuration(bees, loss='categorical_crossentropy', \\\n",
    "                            monitor=['accuracy', 'precision', 'recall', 'essential_metrics'], regularizer='l2') # "
   ]
  },
  {
   "cell_type": "code",
   "execution_count": null,
   "id": "73731960",
   "metadata": {
    "scrolled": true
   },
   "outputs": [
    {
     "name": "stdout",
     "output_type": "stream",
     "text": [
      "Iteration: 0\n",
      "no improvement from base 1.7976931348623157e+308\n",
      "\n",
      "Itr: 0\n",
      "C1: 0.4666666666666667, C2:0.06666666666666667, C3:0.4666666666666667\n",
      "best:[2.7178698], overal:3.118369445800781\n",
      "validation:[2.5464208]\n",
      "Iteration: 1\n",
      "no improvement from base [2.5464208]\n",
      "\n",
      "Itr: 1\n",
      "C1: 0.464524765729585, C2:0.07095046854082998, C3:0.464524765729585\n",
      "best:[2.2665477], overal:2.7791018676757813\n",
      "validation:[2.5464208]\n",
      "Iteration: 2\n",
      "no improvement from base [2.5464208]\n",
      "\n",
      "Itr: 2\n",
      "C1: 0.4623655913978495, C2:0.07526881720430109, C3:0.4623655913978495\n",
      "best:[1.9851439], overal:2.899244384765625\n",
      "validation:[2.3468897]\n",
      "Iteration: 3\n",
      "no improvement from base [2.3468897]\n",
      "\n",
      "Itr: 3\n",
      "C1: 0.4601889338731444, C2:0.07962213225371119, C3:0.4601889338731444\n",
      "best:[1.6777992], overal:4.225523376464844\n",
      "validation:[1.8910419]\n",
      "Iteration: 4\n",
      "no improvement from base [1.8910419]\n",
      "\n",
      "Itr: 4\n",
      "C1: 0.45799457994579945, C2:0.08401084010840108, C3:0.45799457994579945\n",
      "best:[1.0344936], overal:2.481830749511719\n",
      "validation:[1.7799964]\n",
      "Iteration: 5\n"
     ]
    }
   ],
   "source": [
    "# x, y, max_iter=100, goal=0.1, batch_size=5, validation=False, x_val=[], y_val=[], validation_batch_size=5\n",
    "minimum_loss = model.fit(x_train, y_train, max_iter=100, goal=0.001, batch_size=5, validation=True, x_val=x_val, y_val=y_val, validation_batch_size=5)\n",
    "print('minimum loss:', minimum_loss)"
   ]
  },
  {
   "cell_type": "code",
   "execution_count": null,
   "id": "080744d4",
   "metadata": {},
   "outputs": [],
   "source": [
    "loss, board = model._evaluate(x_test, y_test, len(y_test))\n",
    "print('loss', loss)\n",
    "print(board)\n",
    "y_pred = model._predict(x_test)\n",
    "y_test = np.array(y_test)\n",
    "loss = model.__loss__(y_pred, y_test)\n",
    "print(loss)"
   ]
  },
  {
   "cell_type": "code",
   "execution_count": null,
   "id": "0d2f50cb",
   "metadata": {},
   "outputs": [],
   "source": [
    "from metrics import MSE\n",
    "mse_loss = MSE(y_pred, y_test)\n",
    "print(mse_loss)"
   ]
  },
  {
   "cell_type": "code",
   "execution_count": null,
   "id": "4fbe6a47",
   "metadata": {},
   "outputs": [],
   "source": [
    "for name, met in board.items():\n",
    "    if type(met) == dict:\n",
    "        print(name)\n",
    "        for key, value in met.items():\n",
    "            print(key, value)\n",
    "    else:\n",
    "        print(name, met)"
   ]
  },
  {
   "cell_type": "code",
   "execution_count": null,
   "id": "f2297dd2",
   "metadata": {},
   "outputs": [],
   "source": [
    "i = 0\n",
    "for pred, true in zip(y_pred, y_test):\n",
    "    print(pred, 'VS', true)\n",
    "    i += 1"
   ]
  },
  {
   "cell_type": "code",
   "execution_count": null,
   "id": "bff1e5c2",
   "metadata": {},
   "outputs": [],
   "source": [
    "for idx, particle in enumerate(bees.swams):\n",
    "    print(idx, particle.fitness)"
   ]
  },
  {
   "cell_type": "code",
   "execution_count": null,
   "id": "b4876066",
   "metadata": {},
   "outputs": [],
   "source": [
    "wt = model.flat_weight\n",
    "for w in wt:\n",
    "    print(w)"
   ]
  },
  {
   "cell_type": "code",
   "execution_count": null,
   "id": "4715c037",
   "metadata": {},
   "outputs": [],
   "source": [
    "layer_weight = model.weight_matrix\n",
    "layer_bias = model.bias_matrix\n",
    "for weights in layer_weight:\n",
    "    print(weights)\n",
    "print(layer_bias)"
   ]
  },
  {
   "cell_type": "code",
   "execution_count": null,
   "id": "59ba2c07",
   "metadata": {},
   "outputs": [],
   "source": [
    "print(wt.shape)"
   ]
  },
  {
   "cell_type": "code",
   "execution_count": null,
   "id": "3909f726",
   "metadata": {},
   "outputs": [],
   "source": []
  }
 ],
 "metadata": {
  "kernelspec": {
   "display_name": "Python 3",
   "language": "python",
   "name": "python3"
  },
  "language_info": {
   "codemirror_mode": {
    "name": "ipython",
    "version": 3
   },
   "file_extension": ".py",
   "mimetype": "text/x-python",
   "name": "python",
   "nbconvert_exporter": "python",
   "pygments_lexer": "ipython3",
   "version": "3.7.9"
  }
 },
 "nbformat": 4,
 "nbformat_minor": 5
}
