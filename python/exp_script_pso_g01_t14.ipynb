{
 "cells": [
  {
   "cell_type": "code",
   "execution_count": 1,
   "metadata": {},
   "outputs": [],
   "source": [
    "# dependency\n",
    "import numpy as np\n",
    "import pandas as pd\n",
    "import copy\n",
    "import math\n",
    "import sys\n",
    "import os\n",
    "from activations import relu, leaky_relu, sigmoid, tanh, softmax, d_sigmoid, d_relu\n",
    "from initializers import glorot_uniform, random_normal, random_uniform\n",
    "from regularizers import l1_regularizer, l2_regularizer\n",
    "from utility import trim_tail, multiply, subtract, get_nparams, one_hot_encoding, get_data\n",
    "from metrics import MSE, CCE, ACC, PRECISION, RECALL, essential_metrics, wondering_penalty, close_gap_penalty\n",
    "from pso import PSO\n",
    "from ga import GA\n",
    "from nn import Network\n",
    "from layer import DenseLayer\n",
    "from scalers import MinMaxScaler, StandardScaler"
   ]
  },
  {
   "cell_type": "code",
   "execution_count": 2,
   "metadata": {},
   "outputs": [],
   "source": [
    "# reference\n",
    "metrics_fn_dict = dict()\n",
    "metrics_fn_dict['accuracy'] = ACC\n",
    "metrics_fn_dict['categorical_crossentropy'] = CCE\n",
    "metrics_fn_dict['mean_square_error'] = MSE\n",
    "metrics_fn_dict['precision'] = PRECISION\n",
    "metrics_fn_dict['recall'] = RECALL\n",
    "metrics_fn_dict['essential_metrics'] = essential_metrics"
   ]
  },
  {
   "cell_type": "code",
   "execution_count": 3,
   "metadata": {},
   "outputs": [],
   "source": [
    "# model\n",
    "model = Network(5, lr = None)\n",
    "model.add_layer(DenseLayer(1, 4, True, afn=sigmoid, dafn=None, rfn=None))\n",
    "model.add_layer(DenseLayer(2, 3, True, afn=softmax, dafn=None, rfn=None))"
   ]
  },
  {
   "cell_type": "code",
   "execution_count": 4,
   "metadata": {},
   "outputs": [
    {
     "name": "stdout",
     "output_type": "stream",
     "text": [
      "see one see two 2 2\n"
     ]
    }
   ],
   "source": [
    "pso = PSO(dict(m = 50,\n",
    "    weight_constraint = [-3, 3], \n",
    "    velocity_constraint = [-0.1, 0.1],\n",
    "    c1 = 2,\n",
    "    c2 = 2,\n",
    "    w = 0.8,\n",
    "    w_decay = 1,\n",
    "    scale_hyperparameter = False,\n",
    "    regularizer = None,\n",
    "    mask = True))"
   ]
  },
  {
   "cell_type": "code",
   "execution_count": 5,
   "metadata": {},
   "outputs": [
    {
     "name": "stdout",
     "output_type": "stream",
     "text": [
      "building layer 1 with 5\n",
      "24\n",
      "building layer 2 with 4\n",
      "15\n"
     ]
    }
   ],
   "source": [
    "model.compile(loss_fn = 'categorical_crossentropy', optimizer = pso, \\\n",
    "    metrics = ['accuracy', 'mean_square_error', 'categorical_crossentropy'])"
   ]
  },
  {
   "cell_type": "code",
   "execution_count": 6,
   "metadata": {},
   "outputs": [
    {
     "name": "stdout",
     "output_type": "stream",
     "text": [
      "<class 'pandas.core.frame.DataFrame'>\n",
      "RangeIndex: 107 entries, 0 to 106\n",
      "Data columns (total 6 columns):\n",
      " #   Column  Non-Null Count  Dtype  \n",
      "---  ------  --------------  -----  \n",
      " 0   f1      107 non-null    float32\n",
      " 1   f2      107 non-null    float32\n",
      " 2   f3      107 non-null    float32\n",
      " 3   f4      107 non-null    float32\n",
      " 4   f5      107 non-null    float32\n",
      " 5   label   107 non-null    float32\n",
      "dtypes: float32(6)\n",
      "memory usage: 2.6 KB\n",
      "None\n",
      "<class 'pandas.core.frame.DataFrame'>\n",
      "RangeIndex: 108 entries, 0 to 107\n",
      "Data columns (total 6 columns):\n",
      " #   Column  Non-Null Count  Dtype  \n",
      "---  ------  --------------  -----  \n",
      " 0   f1      108 non-null    float32\n",
      " 1   f2      108 non-null    float32\n",
      " 2   f3      108 non-null    float32\n",
      " 3   f4      108 non-null    float32\n",
      " 4   f5      108 non-null    float32\n",
      " 5   label   108 non-null    float32\n",
      "dtypes: float32(6)\n",
      "memory usage: 2.7 KB\n",
      "None\n"
     ]
    }
   ],
   "source": [
    "# data loading\n",
    "DATA = os.path.join('c:\\\\Users\\\\tcumi\\\\github_repo\\\\neural-network\\\\', 'dataset')\n",
    "GROUP = 1\n",
    "COLUMNS = ['f1', 'f2', 'f3', 'f4', 'f5', 'label']\n",
    "N_CLASS = 3\n",
    "EPOCHS = 500\n",
    "train_dir, test_dir = \"..//dataset//training_data{}.txt\".format(GROUP), \"..//dataset//testing_data{}.txt\".format(GROUP)\n",
    "train, test = get_data(DATA, train_dir, COLUMNS), get_data(DATA, test_dir, COLUMNS)\n",
    "# shuffle\n",
    "train, test = train.sample(frac=1), test.sample(frac=1)\n",
    "x_train, y_train = train.drop('label', axis=1), train['label']\n",
    "x_test, y_test = test.drop('label', axis=1), test['label']"
   ]
  },
  {
   "cell_type": "code",
   "execution_count": 7,
   "metadata": {},
   "outputs": [],
   "source": [
    "# data scaling and encoding\n",
    "scaler = StandardScaler(['f1', 'f2', 'f3', 'f4', 'f5'])\n",
    "scaler.fit(x_train)\n",
    "x_train = scaler.transform(x_train)\n",
    "x_test = scaler.transform(x_test)\n",
    "y_train = one_hot_encoding(y_train, N_CLASS)\n",
    "y_test = one_hot_encoding(y_test, N_CLASS)"
   ]
  },
  {
   "cell_type": "code",
   "execution_count": 8,
   "metadata": {
    "tags": [
     "outputPrepend"
    ]
   },
   "outputs": [
    {
     "name": "stdout",
     "output_type": "stream",
     "text": [
      "Checkpoint 100, Accuracy: 0.9506172839506173, Loss: 0.30991656691939745\n",
      "Checkpoint 200, Accuracy: 0.9753086419753086, Loss: 0.12102835266678422\n",
      "Checkpoint 300, Accuracy: 0.9629629629629629, Loss: 0.12802692695900245\n",
      "Checkpoint 400, Accuracy: 0.9629629629629629, Loss: 0.13064494839421026\n",
      "Checkpoint 500, Accuracy: 0.9629629629629629, Loss: 0.12801674560264306\n"
     ]
    }
   ],
   "source": [
    "# learning phase\n",
    "breakpoint = 100\n",
    "checkpoints = list()\n",
    "history = list()\n",
    "for century in range(0, EPOCHS, breakpoint):\n",
    "    sub_history = model.fit(x_train, y_train, breakpoint, verbose = 0)\n",
    "    score = model.evaluate(x_test, y_test, False, verbose = 0)\n",
    "    print('Checkpoint {}, Accuracy: {}, Loss: {}'.format(century+breakpoint, score['accuracy'], score[model.loss_fn]))\n",
    "    score['checkpoint'] = century + breakpoint\n",
    "    checkpoints.append(score)\n",
    "    history.extend(sub_history)"
   ]
  },
  {
   "cell_type": "code",
   "execution_count": 9,
   "metadata": {},
   "outputs": [],
   "source": [
    "import matplotlib.pyplot as plt\n",
    "\n",
    "def draw_plot(x, y_list, x_label=None, y_label=None, legend=None, title=None):\n",
    "    fig, ax = plt.subplots(figsize=(12,5))\n",
    "    for xi, yi in zip(x, y_list):\n",
    "        ax.plot(xi, yi)\n",
    "    if x_label is not None and y_label is not None:\n",
    "        ax.set(xlabel=x_label, ylabel=y_label, title='{} VS {}'.format(x_label, y_label))\n",
    "    if legend is not None:\n",
    "        ax.legend(legend)\n",
    "    ax.grid()\n",
    "    plt.show()"
   ]
  },
  {
   "cell_type": "code",
   "execution_count": 10,
   "metadata": {},
   "outputs": [
    {
     "name": "stdout",
     "output_type": "stream",
     "text": [
      "[1. 0. 0.] <-> [9.970747e-01 2.108629e-03 8.167497e-04]\n",
      "[1. 0. 0.] <-> [0.9967084  0.00180858 0.00148294]\n",
      "[1. 0. 0.] <-> [0.9509524  0.00102471 0.04802285]\n",
      "[0. 1. 0.] <-> [5.6133629e-03 9.9437296e-01 1.3668879e-05]\n",
      "[1. 0. 0.] <-> [0.9933923  0.00116169 0.005446  ]\n",
      "[1. 0. 0.] <-> [0.9967951  0.00128352 0.00192134]\n",
      "[1. 0. 0.] <-> [0.9951722  0.00140652 0.00342132]\n",
      "[1. 0. 0.] <-> [9.9715745e-01 1.9683274e-03 8.7421789e-04]\n",
      "[1. 0. 0.] <-> [0.7901513  0.00131493 0.2085338 ]\n",
      "[1. 0. 0.] <-> [0.9474557  0.00122847 0.0513158 ]\n",
      "[0. 1. 0.] <-> [1.10850826e-01 8.89056087e-01 9.30293172e-05]\n",
      "[1. 0. 0.] <-> [0.9974637  0.00106883 0.00146741]\n",
      "[0. 0. 1.] <-> [9.1218501e-03 1.3429718e-05 9.9086469e-01]\n",
      "[0. 1. 0.] <-> [0.00416464 0.99441224 0.00142312]\n",
      "[1. 0. 0.] <-> [0.9833704  0.00119599 0.0154336 ]\n",
      "[1. 0. 0.] <-> [0.9941499  0.00113425 0.00471585]\n",
      "[1. 0. 0.] <-> [0.9962394  0.00220167 0.00155885]\n",
      "[0. 1. 0.] <-> [9.7467555e-03 9.9024451e-01 8.6909495e-06]\n",
      "[0. 1. 0.] <-> [7.6627959e-03 9.9232638e-01 1.0878898e-05]\n",
      "[1. 0. 0.] <-> [0.99765897 0.00130361 0.00103744]\n",
      "[0. 1. 0.] <-> [6.2398161e-03 9.9375457e-01 5.6875292e-06]\n",
      "[1. 0. 0.] <-> [9.9745578e-01 1.5706074e-03 9.7359775e-04]\n",
      "[1. 0. 0.] <-> [0.9910998  0.00737094 0.00152935]\n",
      "[0. 0. 1.] <-> [1.1663125e-02 1.6987677e-05 9.8831987e-01]\n",
      "[1. 0. 0.] <-> [0.9950511  0.00122794 0.00372091]\n",
      "[1. 0. 0.] <-> [0.99720544 0.00119462 0.0015999 ]\n",
      "[1. 0. 0.] <-> [0.9582589  0.00119035 0.04055074]\n",
      "[1. 0. 0.] <-> [0.9972566  0.00123515 0.00150824]\n",
      "[1. 0. 0.] <-> [0.996725   0.00118937 0.00208567]\n",
      "[1. 0. 0.] <-> [1.9491956e-02 2.8382196e-05 9.8047960e-01]\n",
      "[0. 1. 0.] <-> [5.1831217e-03 9.9477226e-01 4.4554898e-05]\n",
      "[1. 0. 0.] <-> [0.99667007 0.00131197 0.00201798]\n",
      "[1. 0. 0.] <-> [0.97808343 0.00142226 0.02049428]\n",
      "[0. 0. 1.] <-> [9.1240965e-03 1.3442399e-05 9.9086249e-01]\n",
      "[1. 0. 0.] <-> [0.99426335 0.00193895 0.00379771]\n",
      "[1. 0. 0.] <-> [9.9748188e-01 1.5639589e-03 9.5415214e-04]\n",
      "[1. 0. 0.] <-> [9.9736065e-01 1.7101723e-03 9.2919904e-04]\n",
      "[1. 0. 0.] <-> [0.9668315  0.00106964 0.03209886]\n",
      "[0. 0. 1.] <-> [9.4355391e-03 1.3887939e-05 9.9055052e-01]\n",
      "[1. 0. 0.] <-> [9.9588192e-01 3.3107046e-03 8.0739392e-04]\n",
      "[1. 0. 0.] <-> [0.9974598  0.00145395 0.00108623]\n",
      "[0. 1. 0.] <-> [5.954981e-03 9.940367e-01 8.338712e-06]\n",
      "[1. 0. 0.] <-> [0.9974312  0.0014841  0.00108468]\n",
      "[1. 0. 0.] <-> [0.9969717  0.00191955 0.00110874]\n",
      "[1. 0. 0.] <-> [0.8382483  0.00104319 0.1607086 ]\n",
      "[1. 0. 0.] <-> [0.9966717  0.00224473 0.00108358]\n",
      "[1. 0. 0.] <-> [0.99618906 0.00223331 0.00157772]\n",
      "[1. 0. 0.] <-> [0.99040985 0.00124859 0.00834164]\n",
      "[1. 0. 0.] <-> [9.8302609e-01 1.6198382e-02 7.7552540e-04]\n",
      "[0. 1. 0.] <-> [4.418751e-02 9.557138e-01 9.863391e-05]\n",
      "[1. 0. 0.] <-> [0.99479324 0.00115014 0.00405659]\n",
      "[0. 1. 0.] <-> [4.6069189e-03 9.9510252e-01 2.9051924e-04]\n",
      "[1. 0. 0.] <-> [0.9950111  0.00119166 0.00379718]\n",
      "[1. 0. 0.] <-> [0.99193746 0.00122072 0.00684185]\n",
      "[1. 0. 0.] <-> [0.9971732  0.00120126 0.00162554]\n",
      "[1. 0. 0.] <-> [9.019387e-01 9.728224e-02 7.790773e-04]\n",
      "[1. 0. 0.] <-> [0.9975618  0.00130708 0.00113121]\n",
      "[0. 0. 1.] <-> [9.1218762e-03 1.3429756e-05 9.9086469e-01]\n",
      "[1. 0. 0.] <-> [0.979982   0.00108063 0.01893733]\n",
      "[1. 0. 0.] <-> [0.9925494  0.00109018 0.00636031]\n",
      "[1. 0. 0.] <-> [0.89372545 0.00121628 0.10505833]\n",
      "[1. 0. 0.] <-> [1.9814356e-01 2.8450691e-04 8.0157197e-01]\n",
      "[1. 0. 0.] <-> [0.98512554 0.00119567 0.01367885]\n",
      "[0. 0. 1.] <-> [0.8550729  0.00093842 0.14398873]\n",
      "[0. 0. 1.] <-> [9.1227982e-03 1.3431076e-05 9.9086374e-01]\n",
      "[1. 0. 0.] <-> [0.9968528  0.00137028 0.00177691]\n",
      "[1. 0. 0.] <-> [0.9922476  0.00140224 0.00635014]\n",
      "[1. 0. 0.] <-> [0.9944391  0.0010843  0.00447655]\n",
      "[0. 0. 1.] <-> [9.2176804e-03 1.3563443e-05 9.9076873e-01]\n",
      "[1. 0. 0.] <-> [0.9976204  0.00131263 0.00106702]\n",
      "[1. 0. 0.] <-> [9.8671782e-01 1.2356076e-02 9.2608103e-04]\n",
      "[0. 0. 1.] <-> [9.19771381e-03 1.35413575e-05 9.90788758e-01]\n",
      "[0. 1. 0.] <-> [2.5527126e-01 7.4449593e-01 2.3276694e-04]\n",
      "[1. 0. 0.] <-> [0.9968792  0.00107519 0.00204551]\n",
      "[0. 0. 1.] <-> [1.00225754e-01 1.46215636e-04 8.99628043e-01]\n",
      "[0. 1. 0.] <-> [7.4476182e-01 2.5457084e-01 6.6730130e-04]\n",
      "[1. 0. 0.] <-> [0.9916505  0.00132393 0.00702553]\n",
      "[1. 0. 0.] <-> [0.90740186 0.09132218 0.00127598]\n",
      "[1. 0. 0.] <-> [0.9937058  0.00107599 0.00521822]\n",
      "[0. 0. 1.] <-> [9.3452977e-03 1.4165571e-05 9.9064052e-01]\n",
      "[0. 0. 1.] <-> [9.121945e-03 1.342987e-05 9.908646e-01]\n",
      "[1. 0. 0.] <-> [0.763142   0.00098568 0.23587225]\n",
      "[1. 0. 0.] <-> [9.9289179e-01 6.3083963e-03 7.9981709e-04]\n",
      "[1. 0. 0.] <-> [0.9968321  0.00142766 0.00174028]\n",
      "[1. 0. 0.] <-> [4.0141588e-01 5.9819150e-01 3.9265255e-04]\n",
      "[1. 0. 0.] <-> [9.9699330e-01 2.2401423e-03 7.6655945e-04]\n",
      "[1. 0. 0.] <-> [9.916681e-01 7.626040e-03 7.058727e-04]\n",
      "[0. 0. 1.] <-> [9.1218501e-03 1.3429718e-05 9.9086469e-01]\n",
      "[1. 0. 0.] <-> [0.99671304 0.00115208 0.00213494]\n",
      "[0. 1. 0.] <-> [3.4565502e-01 6.5406460e-01 2.8038173e-04]\n",
      "[1. 0. 0.] <-> [0.99722385 0.0014282  0.00134791]\n",
      "[1. 0. 0.] <-> [9.9664414e-01 2.5777346e-03 7.7821466e-04]\n",
      "[1. 0. 0.] <-> [9.9699968e-01 2.2091586e-03 7.9113350e-04]\n",
      "[0. 1. 0.] <-> [2.0604171e-02 9.7937316e-01 2.2706774e-05]\n",
      "[1. 0. 0.] <-> [9.9788898e-01 1.2479626e-03 8.6302246e-04]\n",
      "[1. 0. 0.] <-> [0.9950765  0.00109144 0.00383206]\n",
      "[1. 0. 0.] <-> [0.9708745  0.00108496 0.02804064]\n",
      "[1. 0. 0.] <-> [0.99682    0.0011325  0.00204752]\n",
      "[1. 0. 0.] <-> [9.9663794e-01 2.6578188e-03 7.0423307e-04]\n",
      "[1. 0. 0.] <-> [9.954787e-01 3.728359e-03 7.929131e-04]\n",
      "[1. 0. 0.] <-> [0.9976273  0.00121839 0.00115436]\n",
      "[1. 0. 0.] <-> [0.98023546 0.00135306 0.01841154]\n",
      "[1. 0. 0.] <-> [3.6018643e-01 5.0968869e-04 6.3930386e-01]\n",
      "[1. 0. 0.] <-> [0.9951296  0.00107657 0.00379385]\n",
      "[1. 0. 0.] <-> [0.9777544  0.00116755 0.02107797]\n",
      "[0. 1. 0.] <-> [1.1349489e-02 9.8863226e-01 1.8245837e-05]\n",
      "[1. 0. 0.] <-> [0.9962262  0.00222083 0.00155305]\n",
      "[1. 0. 0.] <-> [0.7687157  0.00102844 0.23025595]\n",
      "{'accuracy': 0.9629629629629629, 'mean_square_error': 0.07573320191322368, 'categorical_crossentropy': 0.12801674560264306, 'essential_metrics': {0: {'tp_hit': 76, 'fp_hit': 2, 'tn_hit': 26, 'fn_hit': 4}, 1: {'tp_hit': 14, 'fp_hit': 1, 'tn_hit': 92, 'fn_hit': 1}, 2: {'tp_hit': 12, 'fp_hit': 3, 'tn_hit': 92, 'fn_hit': 1}}}\n"
     ]
    }
   ],
   "source": [
    "# recall phase\n",
    "score = model.evaluate(x_test, y_test, False)\n",
    "print(score)"
   ]
  },
  {
   "cell_type": "code",
   "execution_count": 11,
   "metadata": {},
   "outputs": [
    {
     "data": {
      "image/png": "[encoded data removed]",
      "text/plain": [
       "<Figure size 864x360 with 1 Axes>"
      ]
     },
     "metadata": {
      "needs_background": "light"
     },
     "output_type": "display_data"
    },
    {
     "data": {
      "image/png": "[encoded data removed]",
      "text/plain": [
       "<Figure size 864x360 with 1 Axes>"
      ]
     },
     "metadata": {
      "needs_background": "light"
     },
     "output_type": "display_data"
    }
   ],
   "source": [
    "draw_plot(x = [[i for i in range(len(history))], [(i+1)*breakpoint for i in range(len(checkpoints))]], y_list = [history, [ ckp[model.loss_fn] for ckp in checkpoints ]], x_label = 'Epochs', \\\n",
    "    y_label = model.loss_fn, legend=['train', 'test'])\n",
    "acc = [ ckp['accuracy'] for ckp in checkpoints ]\n",
    "draw_plot(x = [[(i+1)*breakpoint for i in range(len(checkpoints))]], y_list = [acc], x_label = 'Checkpoints', \\\n",
    "    y_label = 'accuracy')"
   ]
  },
  {
   "cell_type": "code",
   "execution_count": 12,
   "metadata": {},
   "outputs": [
    {
     "name": "stdout",
     "output_type": "stream",
     "text": [
      "{'accuracy': 0.9506172839506173, 'mean_square_error': 0.1579494163016104, 'categorical_crossentropy': 0.30991656691939745, 'essential_metrics': {0: {'tp_hit': 79, 'fp_hit': 7, 'tn_hit': 21, 'fn_hit': 1}, 1: {'tp_hit': 10, 'fp_hit': 0, 'tn_hit': 93, 'fn_hit': 5}, 2: {'tp_hit': 11, 'fp_hit': 1, 'tn_hit': 94, 'fn_hit': 2}}, 'checkpoint': 100} \n",
      "\n",
      "\n",
      "{'accuracy': 0.9753086419753086, 'mean_square_error': 0.06641758093101308, 'categorical_crossentropy': 0.12102835266678422, 'essential_metrics': {0: {'tp_hit': 78, 'fp_hit': 2, 'tn_hit': 26, 'fn_hit': 2}, 1: {'tp_hit': 14, 'fp_hit': 0, 'tn_hit': 93, 'fn_hit': 1}, 2: {'tp_hit': 12, 'fp_hit': 2, 'tn_hit': 93, 'fn_hit': 1}}, 'checkpoint': 200} \n",
      "\n",
      "\n",
      "{'accuracy': 0.9629629629629629, 'mean_square_error': 0.07500347100557095, 'categorical_crossentropy': 0.12802692695900245, 'essential_metrics': {0: {'tp_hit': 76, 'fp_hit': 2, 'tn_hit': 26, 'fn_hit': 4}, 1: {'tp_hit': 14, 'fp_hit': 1, 'tn_hit': 92, 'fn_hit': 1}, 2: {'tp_hit': 12, 'fp_hit': 3, 'tn_hit': 92, 'fn_hit': 1}}, 'checkpoint': 300} \n",
      "\n",
      "\n",
      "{'accuracy': 0.9629629629629629, 'mean_square_error': 0.07703936973784276, 'categorical_crossentropy': 0.13064494839421026, 'essential_metrics': {0: {'tp_hit': 76, 'fp_hit': 2, 'tn_hit': 26, 'fn_hit': 4}, 1: {'tp_hit': 14, 'fp_hit': 1, 'tn_hit': 92, 'fn_hit': 1}, 2: {'tp_hit': 12, 'fp_hit': 3, 'tn_hit': 92, 'fn_hit': 1}}, 'checkpoint': 400} \n",
      "\n",
      "\n",
      "{'accuracy': 0.9629629629629629, 'mean_square_error': 0.07573320191322368, 'categorical_crossentropy': 0.12801674560264306, 'essential_metrics': {0: {'tp_hit': 76, 'fp_hit': 2, 'tn_hit': 26, 'fn_hit': 4}, 1: {'tp_hit': 14, 'fp_hit': 1, 'tn_hit': 92, 'fn_hit': 1}, 2: {'tp_hit': 12, 'fp_hit': 3, 'tn_hit': 92, 'fn_hit': 1}}, 'checkpoint': 500} \n",
      "\n",
      "\n"
     ]
    }
   ],
   "source": [
    "for checkpoint in checkpoints:\n",
    "    print(checkpoint, '\\n\\n')"
   ]
  },
  {
   "cell_type": "code",
   "execution_count": 13,
   "metadata": {},
   "outputs": [
    {
     "name": "stdout",
     "output_type": "stream",
     "text": [
      "Layer 1\n",
      "Neuron 0: weights:\n",
      "[-1.9872233  3.         1.8714492  1.5274768 -3.       ]\n",
      " bias: -3.0\n",
      "\n",
      "Neuron 1: weights:\n",
      "[ 0.05387814 -3.          3.          2.0595376   3.        ]\n",
      " bias: -1.0181605815887451\n",
      "\n",
      "Neuron 2: weights:\n",
      "[ 1.7885312 -3.        -2.1129801 -1.3596855  3.       ]\n",
      " bias: 3.0\n",
      "\n",
      "Neuron 3: weights:\n",
      "[-0.00833757  3.          1.8277371  -1.1920635  -3.        ]\n",
      " bias: 3.0\n",
      "\n",
      "$\n",
      "Layer 2\n",
      "Neuron 0: weights:\n",
      "[-3. -3.  3.  3.]\n",
      " bias: 3.0\n",
      "\n",
      "Neuron 1: weights:\n",
      "[ 3.       -2.644132 -3.        3.      ]\n",
      " bias: 2.1231741905212402\n",
      "\n",
      "Neuron 2: weights:\n",
      "[-2.7027972  3.         3.        -3.       ]\n",
      " bias: 1.6879053115844727\n",
      "\n",
      "$\n",
      "\n"
     ]
    }
   ],
   "source": [
    "print(model)"
   ]
  }
 ],
 "metadata": {
  "kernelspec": {
   "display_name": "Python 3",
   "language": "python",
   "name": "python3"
  },
  "language_info": {
   "codemirror_mode": {
    "name": "ipython",
    "version": 3
   },
   "file_extension": ".py",
   "mimetype": "text/x-python",
   "name": "python",
   "nbconvert_exporter": "python",
   "pygments_lexer": "ipython3",
   "version": "3.6.10"
  }
 },
 "nbformat": 4,
 "nbformat_minor": 2
}
