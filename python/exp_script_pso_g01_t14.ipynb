{
 "cells": [
  {
   "cell_type": "code",
   "execution_count": 1,
   "metadata": {},
   "outputs": [],
   "source": [
    "# dependency\n",
    "import numpy as np\n",
    "import pandas as pd\n",
    "import copy\n",
    "import math\n",
    "import sys\n",
    "import os\n",
    "from activations import relu, leaky_relu, sigmoid, tanh, softmax, d_sigmoid, d_relu\n",
    "from initializers import glorot_uniform, random_normal, random_uniform\n",
    "from regularizers import l1_regularizer, l2_regularizer\n",
    "from utility import trim_tail, multiply, subtract, get_nparams, one_hot_encoding, get_data\n",
    "from metrics import MSE, CCE, ACC, PRECISION, RECALL, essential_metrics, wondering_penalty, close_gap_penalty\n",
    "from pso import PSO\n",
    "from ga import GA\n",
    "from nn import Network\n",
    "from layer import DenseLayer\n",
    "from scalers import MinMaxScaler, StandardScaler"
   ]
  },
  {
   "cell_type": "code",
   "execution_count": 2,
   "metadata": {},
   "outputs": [],
   "source": [
    "# reference\n",
    "metrics_fn_dict = dict()\n",
    "metrics_fn_dict['accuracy'] = ACC\n",
    "metrics_fn_dict['categorical_crossentropy'] = CCE\n",
    "metrics_fn_dict['mean_square_error'] = MSE\n",
    "metrics_fn_dict['precision'] = PRECISION\n",
    "metrics_fn_dict['recall'] = RECALL\n",
    "metrics_fn_dict['essential_metrics'] = essential_metrics"
   ]
  },
  {
   "cell_type": "code",
   "execution_count": 3,
   "metadata": {},
   "outputs": [],
   "source": [
    "# model\n",
    "model = Network(5, lr = None)\n",
    "model.add_layer(DenseLayer(1, 4, True, afn=sigmoid, dafn=None, rfn=None))\n",
    "model.add_layer(DenseLayer(2, 3, True, afn=softmax, dafn=None, rfn=None))"
   ]
  },
  {
   "cell_type": "code",
   "execution_count": 4,
   "metadata": {},
   "outputs": [
    {
     "name": "stdout",
     "output_type": "stream",
     "text": [
      "see one see two 2 2\n"
     ]
    }
   ],
   "source": [
    "pso = PSO(dict(m = 50,\n",
    "    weight_constraint = [-3, 3], \n",
    "    velocity_constraint = [-0.1, 0.1],\n",
    "    c1 = 2,\n",
    "    c2 = 2,\n",
    "    w = 0.8,\n",
    "    w_decay = 1,\n",
    "    scale_hyperparameter = False,\n",
    "    regularizer = None,\n",
    "    mask = True))"
   ]
  },
  {
   "cell_type": "code",
   "execution_count": 5,
   "metadata": {},
   "outputs": [
    {
     "name": "stdout",
     "output_type": "stream",
     "text": [
      "building layer 1 with 5\n",
      "24\n",
      "building layer 2 with 4\n",
      "15\n"
     ]
    }
   ],
   "source": [
    "model.compile(loss_fn = 'categorical_crossentropy', optimizer = pso, \\\n",
    "    metrics = ['accuracy', 'mean_square_error', 'categorical_crossentropy'])"
   ]
  },
  {
   "cell_type": "code",
   "execution_count": 6,
   "metadata": {},
   "outputs": [
    {
     "name": "stdout",
     "output_type": "stream",
     "text": [
      "<class 'pandas.core.frame.DataFrame'>\n",
      "RangeIndex: 107 entries, 0 to 106\n",
      "Data columns (total 6 columns):\n",
      " #   Column  Non-Null Count  Dtype  \n",
      "---  ------  --------------  -----  \n",
      " 0   f1      107 non-null    float32\n",
      " 1   f2      107 non-null    float32\n",
      " 2   f3      107 non-null    float32\n",
      " 3   f4      107 non-null    float32\n",
      " 4   f5      107 non-null    float32\n",
      " 5   label   107 non-null    float32\n",
      "dtypes: float32(6)\n",
      "memory usage: 2.6 KB\n",
      "None\n",
      "<class 'pandas.core.frame.DataFrame'>\n",
      "RangeIndex: 108 entries, 0 to 107\n",
      "Data columns (total 6 columns):\n",
      " #   Column  Non-Null Count  Dtype  \n",
      "---  ------  --------------  -----  \n",
      " 0   f1      108 non-null    float32\n",
      " 1   f2      108 non-null    float32\n",
      " 2   f3      108 non-null    float32\n",
      " 3   f4      108 non-null    float32\n",
      " 4   f5      108 non-null    float32\n",
      " 5   label   108 non-null    float32\n",
      "dtypes: float32(6)\n",
      "memory usage: 2.7 KB\n",
      "None\n"
     ]
    }
   ],
   "source": [
    "# data loading\n",
    "DATA = os.path.join('c:\\\\Users\\\\tcumi\\\\github_repo\\\\neural-network\\\\', 'dataset')\n",
    "GROUP = 1\n",
    "COLUMNS = ['f1', 'f2', 'f3', 'f4', 'f5', 'label']\n",
    "N_CLASS = 3\n",
    "EPOCHS = 500\n",
    "train_dir, test_dir = \"..//dataset//training_data{}.txt\".format(GROUP), \"..//dataset//testing_data{}.txt\".format(GROUP)\n",
    "train, test = get_data(DATA, train_dir, COLUMNS), get_data(DATA, test_dir, COLUMNS)\n",
    "# shuffle\n",
    "train, test = train.sample(frac=1), test.sample(frac=1)\n",
    "x_train, y_train = train.drop('label', axis=1), train['label']\n",
    "x_test, y_test = test.drop('label', axis=1), test['label']"
   ]
  },
  {
   "cell_type": "code",
   "execution_count": 7,
   "metadata": {},
   "outputs": [],
   "source": [
    "# data scaling and encoding\n",
    "scaler = StandardScaler(['f1', 'f2', 'f3', 'f4', 'f5'])\n",
    "scaler.fit(x_train)\n",
    "x_train = scaler.transform(x_train)\n",
    "x_test = scaler.transform(x_test)\n",
    "y_train = one_hot_encoding(y_train, N_CLASS)\n",
    "y_test = one_hot_encoding(y_test, N_CLASS)"
   ]
  },
  {
   "cell_type": "code",
   "execution_count": 8,
   "metadata": {
    "tags": [
     "outputPrepend"
    ]
   },
   "outputs": [
    {
     "name": "stdout",
     "output_type": "stream",
     "text": [
      "Checkpoint 100, Accuracy: 0.9629629629629629, Loss: 0.24157133808842413\n",
      "Checkpoint 200, Accuracy: 0.9567901234567902, Loss: 0.15211949525056062\n",
      "Checkpoint 300, Accuracy: 0.9691358024691358, Loss: 0.10851351420084636\n",
      "Checkpoint 400, Accuracy: 0.9691358024691358, Loss: 0.10156687983760128\n",
      "Checkpoint 500, Accuracy: 0.9691358024691358, Loss: 0.10473397926047996\n"
     ]
    }
   ],
   "source": [
    "# learning phase\n",
    "breakpoint = 100\n",
    "checkpoints = list()\n",
    "history = list()\n",
    "for century in range(0, EPOCHS, breakpoint):\n",
    "    sub_history = model.fit(x_train, y_train, breakpoint, verbose = 0)\n",
    "    score = model.evaluate(x_test, y_test, False, verbose = 0)\n",
    "    print('Checkpoint {}, Accuracy: {}, Loss: {}'.format(century+breakpoint, score['accuracy'], score[model.loss_fn]))\n",
    "    score['checkpoint'] = century + breakpoint\n",
    "    checkpoints.append(score)\n",
    "    history.extend(sub_history)"
   ]
  },
  {
   "cell_type": "code",
   "execution_count": 9,
   "metadata": {},
   "outputs": [],
   "source": [
    "import matplotlib.pyplot as plt\n",
    "\n",
    "def draw_plot(x, y_list, x_label=None, y_label=None, legend=None, title=None):\n",
    "    fig, ax = plt.subplots(figsize=(12,5))\n",
    "    for xi, yi in zip(x, y_list):\n",
    "        ax.plot(xi, yi)\n",
    "    if x_label is not None and y_label is not None:\n",
    "        ax.set(xlabel=x_label, ylabel=y_label, title='{} VS {}'.format(x_label, y_label))\n",
    "    if legend is not None:\n",
    "        ax.legend(legend)\n",
    "    ax.grid()\n",
    "    plt.show()"
   ]
  },
  {
   "cell_type": "code",
   "execution_count": 10,
   "metadata": {},
   "outputs": [
    {
     "name": "stdout",
     "output_type": "stream",
     "text": [
      "[1. 0. 0.] <-> [0.9962606  0.0010859  0.00265348]\n",
      "[1. 0. 0.] <-> [0.9960104  0.00259421 0.0013954 ]\n",
      "[1. 0. 0.] <-> [0.99713683 0.00119004 0.00167323]\n",
      "[1. 0. 0.] <-> [0.99347043 0.00109538 0.00543419]\n",
      "[1. 0. 0.] <-> [0.99441683 0.00149936 0.00408385]\n",
      "[1. 0. 0.] <-> [0.9569212  0.00174802 0.04133074]\n",
      "[0. 0. 1.] <-> [0.64320576 0.00139264 0.35540155]\n",
      "[1. 0. 0.] <-> [0.997184   0.0014067  0.00140921]\n",
      "[1. 0. 0.] <-> [0.99142224 0.00695269 0.00162508]\n",
      "[1. 0. 0.] <-> [0.9971668  0.00116771 0.00166554]\n",
      "[1. 0. 0.] <-> [0.99138546 0.0071096  0.00150496]\n",
      "[0. 1. 0.] <-> [7.0499755e-03 9.9291211e-01 3.7837977e-05]\n",
      "[1. 0. 0.] <-> [0.9947495  0.00142357 0.00382695]\n",
      "[1. 0. 0.] <-> [0.9468222  0.00235371 0.05082417]\n",
      "[1. 0. 0.] <-> [0.9942603  0.00428346 0.00145617]\n",
      "[1. 0. 0.] <-> [0.99575007 0.00146895 0.00278093]\n",
      "[1. 0. 0.] <-> [0.9960198  0.00184096 0.00213924]\n",
      "[1. 0. 0.] <-> [0.9958895  0.00170005 0.00241047]\n",
      "[1. 0. 0.] <-> [0.8789146  0.00166775 0.1194176 ]\n",
      "[0. 0. 1.] <-> [5.1584882e-03 3.1098967e-05 9.9481034e-01]\n",
      "[1. 0. 0.] <-> [0.950582   0.0014703  0.04794765]\n",
      "[1. 0. 0.] <-> [0.9907293  0.00666755 0.00260309]\n",
      "[1. 0. 0.] <-> [0.9946902  0.00388155 0.00142827]\n",
      "[0. 0. 1.] <-> [5.1584546e-03 3.1098498e-05 9.9481046e-01]\n",
      "[1. 0. 0.] <-> [9.9618298e-01 9.9177926e-04 2.8251775e-03]\n",
      "[0. 0. 1.] <-> [5.1593306e-03 3.1103660e-05 9.9480951e-01]\n",
      "[1. 0. 0.] <-> [9.9667919e-01 9.8861638e-04 2.3321293e-03]\n",
      "[1. 0. 0.] <-> [0.99196315 0.00119655 0.00684024]\n",
      "[1. 0. 0.] <-> [0.99304914 0.00135971 0.00559112]\n",
      "[1. 0. 0.] <-> [0.99624544 0.00229756 0.00145691]\n",
      "[0. 1. 0.] <-> [1.6914431e-02 9.8300272e-01 8.2843617e-05]\n",
      "[1. 0. 0.] <-> [0.99725085 0.00109488 0.00165418]\n",
      "[1. 0. 0.] <-> [0.9945181  0.00120906 0.00427291]\n",
      "[0. 1. 0.] <-> [6.8463548e-03 9.9311674e-01 3.6922676e-05]\n",
      "[1. 0. 0.] <-> [0.9969404  0.00147202 0.00158762]\n",
      "[0. 1. 0.] <-> [1.1935938e-02 9.8800451e-01 5.9439652e-05]\n",
      "[0. 1. 0.] <-> [6.8264878e-03 9.9313688e-01 3.6749778e-05]\n",
      "[1. 0. 0.] <-> [0.995701   0.00131941 0.00297958]\n",
      "[0. 1. 0.] <-> [1.3420014e-01 8.6534363e-01 4.5625478e-04]\n",
      "[0. 1. 0.] <-> [0.27235678 0.7267776  0.00086558]\n",
      "[1. 0. 0.] <-> [0.5801762  0.0014631  0.41836083]\n",
      "[1. 0. 0.] <-> [0.92075306 0.07693645 0.00231048]\n",
      "[1. 0. 0.] <-> [0.35389307 0.6449922  0.00111475]\n",
      "[1. 0. 0.] <-> [0.99668056 0.00185565 0.00146381]\n",
      "[1. 0. 0.] <-> [0.996424   0.00223194 0.00134401]\n",
      "[0. 0. 1.] <-> [5.4263156e-03 3.2716129e-05 9.9454099e-01]\n",
      "[1. 0. 0.] <-> [0.99502087 0.0032347  0.00174453]\n",
      "[0. 1. 0.] <-> [7.0313849e-03 9.9293077e-01 3.7903374e-05]\n",
      "[1. 0. 0.] <-> [0.9724601  0.00135074 0.02618918]\n",
      "[1. 0. 0.] <-> [0.9932173  0.00125773 0.00552498]\n",
      "[0. 0. 1.] <-> [5.1584546e-03 3.1098498e-05 9.9481046e-01]\n",
      "[1. 0. 0.] <-> [0.9969404  0.00129509 0.00176463]\n",
      "[1. 0. 0.] <-> [0.99350643 0.00110832 0.00538526]\n",
      "[0. 0. 1.] <-> [8.624457e-03 5.468019e-05 9.913209e-01]\n",
      "[1. 0. 0.] <-> [0.99688965 0.00162424 0.00148603]\n",
      "[1. 0. 0.] <-> [0.99431074 0.00144108 0.0042482 ]\n",
      "[1. 0. 0.] <-> [0.9802274  0.00136957 0.01840291]\n",
      "[1. 0. 0.] <-> [0.9940427  0.00135601 0.00460132]\n",
      "[1. 0. 0.] <-> [0.9963534  0.00114939 0.00249723]\n",
      "[1. 0. 0.] <-> [0.9964535  0.00135878 0.00218765]\n",
      "[0. 1. 0.] <-> [6.8182573e-03 9.9314499e-01 3.6854879e-05]\n",
      "[0. 0. 1.] <-> [5.158900e-03 3.110121e-05 9.948100e-01]\n",
      "[1. 0. 0.] <-> [0.9940456  0.00121412 0.00474018]\n",
      "[1. 0. 0.] <-> [0.96253955 0.00134365 0.03611684]\n",
      "[1. 0. 0.] <-> [0.98179114 0.00149632 0.0167125 ]\n",
      "[0. 0. 1.] <-> [6.3220165e-03 3.7413098e-05 9.9364060e-01]\n",
      "[1. 0. 0.] <-> [0.99132276 0.00696028 0.00171694]\n",
      "[1. 0. 0.] <-> [0.9764172  0.02153125 0.00205153]\n",
      "[1. 0. 0.] <-> [0.9968389  0.00143482 0.00172631]\n",
      "[1. 0. 0.] <-> [0.99178994 0.00689435 0.00131562]\n",
      "[1. 0. 0.] <-> [0.99253345 0.00113729 0.00632928]\n",
      "[1. 0. 0.] <-> [0.9882366  0.0012285  0.01053491]\n",
      "[1. 0. 0.] <-> [0.9244658  0.00154423 0.07399006]\n",
      "[1. 0. 0.] <-> [0.99691856 0.00162445 0.001457  ]\n",
      "[1. 0. 0.] <-> [0.9958027  0.0015433  0.00265395]\n",
      "[1. 0. 0.] <-> [0.9966388  0.00131701 0.0020442 ]\n",
      "[1. 0. 0.] <-> [0.99641585 0.00179894 0.00178522]\n",
      "[1. 0. 0.] <-> [0.9798752  0.00140257 0.01872223]\n",
      "[1. 0. 0.] <-> [0.99629253 0.00230955 0.00139795]\n",
      "[0. 0. 1.] <-> [1.0172258e-01 3.6203902e-04 8.9791536e-01]\n",
      "[0. 1. 0.] <-> [0.58810824 0.41006583 0.00182599]\n",
      "[0. 0. 1.] <-> [5.2729682e-03 3.1841762e-05 9.9469525e-01]\n",
      "[1. 0. 0.] <-> [0.9950618  0.0035773  0.00136082]\n",
      "[0. 0. 1.] <-> [5.4997890e-03 3.3079505e-05 9.9446714e-01]\n",
      "[1. 0. 0.] <-> [0.99511933 0.00109724 0.00378356]\n",
      "[0. 1. 0.] <-> [0.41079542 0.5881151  0.00108947]\n",
      "[1. 0. 0.] <-> [0.30101097 0.00098857 0.6980005 ]\n",
      "[1. 0. 0.] <-> [0.99692935 0.00137972 0.0016909 ]\n",
      "[1. 0. 0.] <-> [0.991503   0.00111363 0.00738333]\n",
      "[1. 0. 0.] <-> [0.99562967 0.00117158 0.00319876]\n",
      "[1. 0. 0.] <-> [0.997387   0.00114026 0.00147283]\n",
      "[0. 1. 0.] <-> [1.0914057e-02 9.8902881e-01 5.7140667e-05]\n",
      "[1. 0. 0.] <-> [0.88001204 0.00153656 0.11845142]\n",
      "[0. 1. 0.] <-> [2.1531817e-02 9.7836131e-01 1.0686047e-04]\n",
      "[1. 0. 0.] <-> [1.5297017e-02 7.6840290e-05 9.8462611e-01]\n",
      "[1. 0. 0.] <-> [0.99676895 0.00193635 0.00129475]\n",
      "[1. 0. 0.] <-> [0.98997307 0.00117831 0.00884874]\n",
      "[1. 0. 0.] <-> [0.9969875  0.00131272 0.00169979]\n",
      "[1. 0. 0.] <-> [0.9922889  0.00121716 0.00649385]\n",
      "[1. 0. 0.] <-> [0.99696666 0.00158715 0.00144631]\n",
      "[0. 0. 1.] <-> [5.1916139e-03 3.1285603e-05 9.9477708e-01]\n",
      "[1. 0. 0.] <-> [0.9962135  0.00114765 0.00263879]\n",
      "[1. 0. 0.] <-> [0.8882373  0.00185012 0.10991256]\n",
      "[0. 1. 0.] <-> [6.826358e-03 9.931370e-01 3.675388e-05]\n",
      "[1. 0. 0.] <-> [0.9949457  0.00137737 0.00367698]\n",
      "[1. 0. 0.] <-> [0.9972934  0.00129386 0.00141268]\n",
      "[0. 1. 0.] <-> [8.6983675e-03 9.9125504e-01 4.6605630e-05]\n",
      "[1. 0. 0.] <-> [0.9968119  0.00127264 0.00191543]\n",
      "{'accuracy': 0.9691358024691358, 'mean_square_error': 0.05833121776906542, 'categorical_crossentropy': 0.10473397926047996, 'essential_metrics': {0: {'tp_hit': 77, 'fp_hit': 2, 'tn_hit': 26, 'fn_hit': 3}, 1: {'tp_hit': 14, 'fp_hit': 1, 'tn_hit': 92, 'fn_hit': 1}, 2: {'tp_hit': 12, 'fp_hit': 2, 'tn_hit': 93, 'fn_hit': 1}}}\n"
     ]
    }
   ],
   "source": [
    "# recall phase\n",
    "score = model.evaluate(x_test, y_test, False)\n",
    "print(score)"
   ]
  },
  {
   "cell_type": "code",
   "execution_count": 11,
   "metadata": {},
   "outputs": [
    {
     "data": {
      "image/png": "[encoded data removed]",
      "text/plain": [
       "<Figure size 864x360 with 1 Axes>"
      ]
     },
     "metadata": {
      "needs_background": "light"
     },
     "output_type": "display_data"
    },
    {
     "data": {
      "image/png": "[encoded data removed]",
      "text/plain": [
       "<Figure size 864x360 with 1 Axes>"
      ]
     },
     "metadata": {
      "needs_background": "light"
     },
     "output_type": "display_data"
    }
   ],
   "source": [
    "draw_plot(x = [[i for i in range(len(history))], [(i+1)*breakpoint for i in range(len(checkpoints))]], y_list = [history, [ ckp[model.loss_fn] for ckp in checkpoints ]], x_label = 'Epochs', \\\n",
    "    y_label = model.loss_fn, legend=['train', 'test'])\n",
    "acc = [ ckp['accuracy'] for ckp in checkpoints ]\n",
    "draw_plot(x = [[(i+1)*breakpoint for i in range(len(checkpoints))]], y_list = [acc], x_label = 'Checkpoints', \\\n",
    "    y_label = 'accuracy')"
   ]
  },
  {
   "cell_type": "code",
   "execution_count": 12,
   "metadata": {},
   "outputs": [
    {
     "name": "stdout",
     "output_type": "stream",
     "text": [
      "{'accuracy': 0.9629629629629629, 'mean_square_error': 0.11453591471010961, 'categorical_crossentropy': 0.24157133808842413, 'essential_metrics': {0: {'tp_hit': 79, 'fp_hit': 5, 'tn_hit': 23, 'fn_hit': 1}, 1: {'tp_hit': 13, 'fp_hit': 0, 'tn_hit': 93, 'fn_hit': 2}, 2: {'tp_hit': 10, 'fp_hit': 1, 'tn_hit': 94, 'fn_hit': 3}}, 'checkpoint': 100} \n",
      "\n",
      "\n",
      "{'accuracy': 0.9567901234567902, 'mean_square_error': 0.08711165554427147, 'categorical_crossentropy': 0.15211949525056062, 'essential_metrics': {0: {'tp_hit': 75, 'fp_hit': 2, 'tn_hit': 26, 'fn_hit': 5}, 1: {'tp_hit': 14, 'fp_hit': 1, 'tn_hit': 92, 'fn_hit': 1}, 2: {'tp_hit': 12, 'fp_hit': 4, 'tn_hit': 91, 'fn_hit': 1}}, 'checkpoint': 200} \n",
      "\n",
      "\n",
      "{'accuracy': 0.9691358024691358, 'mean_square_error': 0.061262258285030464, 'categorical_crossentropy': 0.10851351420084636, 'essential_metrics': {0: {'tp_hit': 77, 'fp_hit': 2, 'tn_hit': 26, 'fn_hit': 3}, 1: {'tp_hit': 14, 'fp_hit': 1, 'tn_hit': 92, 'fn_hit': 1}, 2: {'tp_hit': 12, 'fp_hit': 2, 'tn_hit': 93, 'fn_hit': 1}}, 'checkpoint': 300} \n",
      "\n",
      "\n",
      "{'accuracy': 0.9691358024691358, 'mean_square_error': 0.05603100231214034, 'categorical_crossentropy': 0.10156687983760128, 'essential_metrics': {0: {'tp_hit': 77, 'fp_hit': 2, 'tn_hit': 26, 'fn_hit': 3}, 1: {'tp_hit': 14, 'fp_hit': 1, 'tn_hit': 92, 'fn_hit': 1}, 2: {'tp_hit': 12, 'fp_hit': 2, 'tn_hit': 93, 'fn_hit': 1}}, 'checkpoint': 400} \n",
      "\n",
      "\n",
      "{'accuracy': 0.9691358024691358, 'mean_square_error': 0.05833121776906542, 'categorical_crossentropy': 0.10473397926047996, 'essential_metrics': {0: {'tp_hit': 77, 'fp_hit': 2, 'tn_hit': 26, 'fn_hit': 3}, 1: {'tp_hit': 14, 'fp_hit': 1, 'tn_hit': 92, 'fn_hit': 1}, 2: {'tp_hit': 12, 'fp_hit': 2, 'tn_hit': 93, 'fn_hit': 1}}, 'checkpoint': 500} \n",
      "\n",
      "\n"
     ]
    }
   ],
   "source": [
    "for checkpoint in checkpoints:\n",
    "    print(checkpoint, '\\n\\n')"
   ]
  },
  {
   "cell_type": "code",
   "execution_count": 13,
   "metadata": {},
   "outputs": [
    {
     "name": "stdout",
     "output_type": "stream",
     "text": [
      "Layer 1\n",
      "Neuron 0: weights:\n",
      "[ 0.18817897 -3.         -0.66322976  0.1748529   3.        ]\n",
      " bias: -3.0\n",
      "\n",
      "Neuron 1: weights:\n",
      "[-1.9993201  3.         3.         2.1762989 -3.       ]\n",
      " bias: -3.0\n",
      "\n",
      "Neuron 2: weights:\n",
      "[-1.8302909   3.          1.7947376  -3.         -0.85045916]\n",
      " bias: -3.0\n",
      "\n",
      "Neuron 3: weights:\n",
      "[ 0.20322353  3.          0.08575369 -3.         -3.        ]\n",
      " bias: 2.278076410293579\n",
      "\n",
      "$\n",
      "Layer 2\n",
      "Neuron 0: weights:\n",
      "[-3. -3. -3.  3.]\n",
      " bias: 3.0\n",
      "\n",
      "Neuron 1: weights:\n",
      "[-3.         3.         3.         1.0912844]\n",
      " bias: -2.1112325191497803\n",
      "\n",
      "Neuron 2: weights:\n",
      "[ 3.        -1.4864208 -3.        -3.       ]\n",
      " bias: 2.2619152069091797\n",
      "\n",
      "$\n",
      "\n"
     ]
    }
   ],
   "source": [
    "print(model)"
   ]
  }
 ],
 "metadata": {
  "kernelspec": {
   "display_name": "Python 3",
   "language": "python",
   "name": "python3"
  },
  "language_info": {
   "codemirror_mode": {
    "name": "ipython",
    "version": 3
   },
   "file_extension": ".py",
   "mimetype": "text/x-python",
   "name": "python",
   "nbconvert_exporter": "python",
   "pygments_lexer": "ipython3",
   "version": "3.6.10"
  }
 },
 "nbformat": 4,
 "nbformat_minor": 2
}
