{
 "cells": [
  {
   "cell_type": "code",
   "execution_count": 1,
   "metadata": {},
   "outputs": [],
   "source": [
    "# dependency\n",
    "import numpy as np\n",
    "import pandas as pd\n",
    "import copy\n",
    "import math\n",
    "import sys\n",
    "import os\n",
    "from activations import relu, leaky_relu, sigmoid, tanh, softmax, d_sigmoid, d_relu\n",
    "from initializers import glorot_uniform, random_normal, random_uniform\n",
    "from regularizers import l1_regularizer, l2_regularizer\n",
    "from utility import trim_tail, multiply, subtract, get_nparams, one_hot_encoding, get_data\n",
    "from metrics import MSE, CCE, ACC, PRECISION, RECALL, essential_metrics, wondering_penalty, close_gap_penalty\n",
    "from pso import PSO\n",
    "from ga import GA\n",
    "from nn import Network\n",
    "from layer import DenseLayer\n",
    "from scalers import MinMaxScaler, StandardScaler"
   ]
  },
  {
   "cell_type": "code",
   "execution_count": 2,
   "metadata": {},
   "outputs": [],
   "source": [
    "# reference\n",
    "metrics_fn_dict = dict()\n",
    "metrics_fn_dict['accuracy'] = ACC\n",
    "metrics_fn_dict['categorical_crossentropy'] = CCE\n",
    "metrics_fn_dict['mean_square_error'] = MSE\n",
    "metrics_fn_dict['precision'] = PRECISION\n",
    "metrics_fn_dict['recall'] = RECALL\n",
    "metrics_fn_dict['essential_metrics'] = essential_metrics"
   ]
  },
  {
   "cell_type": "code",
   "execution_count": 3,
   "metadata": {},
   "outputs": [],
   "source": [
    "# model\n",
    "model = Network(5, lr = None)\n",
    "model.add_layer(DenseLayer(1, 4, True, afn=sigmoid, dafn=None, rfn=None))\n",
    "model.add_layer(DenseLayer(2, 3, True, afn=softmax, dafn=None, rfn=None))"
   ]
  },
  {
   "cell_type": "code",
   "execution_count": 4,
   "metadata": {},
   "outputs": [
    {
     "name": "stdout",
     "output_type": "stream",
     "text": [
      "see one see two 2 2\n"
     ]
    }
   ],
   "source": [
    "pso = PSO(dict(m = 200,\n",
    "    weight_constraint = [-3, 3], \n",
    "    velocity_constraint = [-0.1, 0.1],\n",
    "    c1 = 2,\n",
    "    c2 = 2,\n",
    "    w = 1.2,\n",
    "    w_decay = 1,\n",
    "    scale_hyperparameter = False,\n",
    "    regularizer = None,\n",
    "    mask = True))"
   ]
  },
  {
   "cell_type": "code",
   "execution_count": 5,
   "metadata": {},
   "outputs": [
    {
     "name": "stdout",
     "output_type": "stream",
     "text": [
      "building layer 1 with 5\n",
      "24\n",
      "building layer 2 with 4\n",
      "15\n"
     ]
    }
   ],
   "source": [
    "model.compile(loss_fn = 'categorical_crossentropy', optimizer = pso, \\\n",
    "    metrics = ['accuracy', 'mean_square_error', 'categorical_crossentropy'])"
   ]
  },
  {
   "cell_type": "code",
   "execution_count": 6,
   "metadata": {},
   "outputs": [
    {
     "name": "stdout",
     "output_type": "stream",
     "text": [
      "<class 'pandas.core.frame.DataFrame'>\n",
      "RangeIndex: 107 entries, 0 to 106\n",
      "Data columns (total 6 columns):\n",
      " #   Column  Non-Null Count  Dtype  \n",
      "---  ------  --------------  -----  \n",
      " 0   f1      107 non-null    float32\n",
      " 1   f2      107 non-null    float32\n",
      " 2   f3      107 non-null    float32\n",
      " 3   f4      107 non-null    float32\n",
      " 4   f5      107 non-null    float32\n",
      " 5   label   107 non-null    float32\n",
      "dtypes: float32(6)\n",
      "memory usage: 2.6 KB\n",
      "None\n",
      "<class 'pandas.core.frame.DataFrame'>\n",
      "RangeIndex: 108 entries, 0 to 107\n",
      "Data columns (total 6 columns):\n",
      " #   Column  Non-Null Count  Dtype  \n",
      "---  ------  --------------  -----  \n",
      " 0   f1      108 non-null    float32\n",
      " 1   f2      108 non-null    float32\n",
      " 2   f3      108 non-null    float32\n",
      " 3   f4      108 non-null    float32\n",
      " 4   f5      108 non-null    float32\n",
      " 5   label   108 non-null    float32\n",
      "dtypes: float32(6)\n",
      "memory usage: 2.7 KB\n",
      "None\n"
     ]
    }
   ],
   "source": [
    "# data loading\n",
    "DATA = os.path.join('c:\\\\Users\\\\AI-lab\\\\github_repo\\\\neural-network\\\\', 'dataset')\n",
    "GROUP = 1\n",
    "COLUMNS = ['f1', 'f2', 'f3', 'f4', 'f5', 'label']\n",
    "N_CLASS = 3\n",
    "EPOCHS = 200\n",
    "train_dir, test_dir = \"..//dataset//training_data{}.txt\".format(GROUP), \"..//dataset//testing_data{}.txt\".format(GROUP)\n",
    "train, test = get_data(DATA, train_dir, COLUMNS), get_data(DATA, test_dir, COLUMNS)\n",
    "# shuffle\n",
    "train, test = train.sample(frac=1), test.sample(frac=1)\n",
    "x_train, y_train = train.drop('label', axis=1), train['label']\n",
    "x_test, y_test = test.drop('label', axis=1), test['label']"
   ]
  },
  {
   "cell_type": "code",
   "execution_count": 7,
   "metadata": {},
   "outputs": [],
   "source": [
    "# data scaling and encoding\n",
    "scaler = StandardScaler(['f1', 'f2', 'f3', 'f4', 'f5'])\n",
    "scaler.fit(x_train)\n",
    "x_train = scaler.transform(x_train)\n",
    "x_test = scaler.transform(x_test)\n",
    "y_train = one_hot_encoding(y_train, N_CLASS)\n",
    "y_test = one_hot_encoding(y_test, N_CLASS)"
   ]
  },
  {
   "cell_type": "code",
   "execution_count": 8,
   "metadata": {
    "tags": [
     "outputPrepend"
    ]
   },
   "outputs": [
    {
     "name": "stdout",
     "output_type": "stream",
     "text": [
      "Checkpoint 10, Accuracy: 0.8580246913580247, Loss: 0.5323145477860062\n",
      "Checkpoint 20, Accuracy: 0.8518518518518519, Loss: 0.5134915952329282\n",
      "Checkpoint 30, Accuracy: 0.8765432098765432, Loss: 0.5314689918800637\n",
      "Checkpoint 40, Accuracy: 0.8888888888888888, Loss: 0.4500429012157299\n",
      "Checkpoint 50, Accuracy: 0.8827160493827161, Loss: 0.36658477783203125\n",
      "Checkpoint 60, Accuracy: 0.8950617283950617, Loss: 0.316947548477738\n",
      "Checkpoint 70, Accuracy: 0.9567901234567902, Loss: 0.29458946651882595\n",
      "Checkpoint 80, Accuracy: 0.9629629629629629, Loss: 0.2262464099460178\n",
      "Checkpoint 90, Accuracy: 0.9753086419753086, Loss: 0.19954646075213398\n",
      "Checkpoint 100, Accuracy: 0.9629629629629629, Loss: 0.1736067842554163\n",
      "Checkpoint 110, Accuracy: 0.9567901234567902, Loss: 0.16626084292376483\n",
      "Checkpoint 120, Accuracy: 0.9629629629629629, Loss: 0.16595681508382162\n",
      "Checkpoint 130, Accuracy: 0.9691358024691358, Loss: 0.14216791258917916\n",
      "Checkpoint 140, Accuracy: 0.9629629629629629, Loss: 0.13183853361341688\n",
      "Checkpoint 150, Accuracy: 0.9629629629629629, Loss: 0.1141284218540898\n",
      "Checkpoint 160, Accuracy: 0.9629629629629629, Loss: 0.12435435365747523\n",
      "Checkpoint 170, Accuracy: 0.9691358024691358, Loss: 0.11637201132597746\n",
      "Checkpoint 180, Accuracy: 0.9753086419753086, Loss: 0.10251942387333622\n",
      "Checkpoint 190, Accuracy: 0.9691358024691358, Loss: 0.11096456315782335\n",
      "Checkpoint 200, Accuracy: 0.9629629629629629, Loss: 0.11017013479162145\n"
     ]
    }
   ],
   "source": [
    "# learning phase\n",
    "breakpoint = 10\n",
    "checkpoints = list()\n",
    "history = list()\n",
    "for century in range(0, EPOCHS, breakpoint):\n",
    "    sub_history = model.fit(x_train, y_train, breakpoint, verbose = 0)\n",
    "    score = model.evaluate(x_test, y_test, False, verbose = 0)\n",
    "    print('Checkpoint {}, Accuracy: {}, Loss: {}'.format(century+breakpoint, score['accuracy'], score[model.loss_fn]))\n",
    "    score['checkpoint'] = century + breakpoint\n",
    "    checkpoints.append(score)\n",
    "    history.extend(sub_history)"
   ]
  },
  {
   "cell_type": "code",
   "execution_count": 9,
   "metadata": {},
   "outputs": [],
   "source": [
    "import matplotlib.pyplot as plt\n",
    "\n",
    "def draw_plot(x, y_list, x_label=None, y_label=None, legend=None, title=None):\n",
    "    fig, ax = plt.subplots(figsize=(12,5))\n",
    "    for xi, yi in zip(x, y_list):\n",
    "        ax.plot(xi, yi)\n",
    "    if x_label is not None and y_label is not None:\n",
    "        ax.set(xlabel=x_label, ylabel=y_label, title='{} VS {}'.format(x_label, y_label))\n",
    "    if legend is not None:\n",
    "        ax.legend(legend)\n",
    "    ax.grid()\n",
    "    plt.show()"
   ]
  },
  {
   "cell_type": "code",
   "execution_count": 10,
   "metadata": {},
   "outputs": [],
   "source": [
    "train_acc = [h['accuracy'] for h in history]\n",
    "train_mse = [h['mean_square_error'] for h in history]\n",
    "train_cce = [h['categorical_crossentropy'] for h in history]"
   ]
  },
  {
   "cell_type": "code",
   "execution_count": 11,
   "metadata": {},
   "outputs": [
    {
     "data": {
      "image/png": "[encoded data removed]",
      "text/plain": [
       "<Figure size 864x360 with 1 Axes>"
      ]
     },
     "metadata": {
      "needs_background": "light"
     },
     "output_type": "display_data"
    },
    {
     "data": {
      "image/png": "[encoded data removed]",
      "text/plain": [
       "<Figure size 864x360 with 1 Axes>"
      ]
     },
     "metadata": {
      "needs_background": "light"
     },
     "output_type": "display_data"
    }
   ],
   "source": [
    "draw_plot(x = [[i for i in range(len(history))], [(i+1)*breakpoint for i in range(len(checkpoints))]], y_list = [train_cce, [ ckp[model.loss_fn] for ckp in checkpoints ]], x_label = 'Epochs', \\\n",
    "    y_label = model.loss_fn, legend=['train', 'test'])\n",
    "acc = [ ckp['accuracy'] for ckp in checkpoints ]\n",
    "draw_plot(x = [[i for i in range(len(history))], [(i+1)*breakpoint for i in range(len(checkpoints))]], y_list = [train_acc, acc], x_label = 'Checkpoints', \\\n",
    "    y_label = 'accuracy', legend=['train', 'test'])"
   ]
  },
  {
   "cell_type": "code",
   "execution_count": 12,
   "metadata": {},
   "outputs": [
    {
     "name": "stdout",
     "output_type": "stream",
     "text": [
      "[1. 0. 0.] <-> [9.9644357e-01 9.6175994e-04 2.5946761e-03]\n",
      "[1. 0. 0.] <-> [0.99341935 0.00140616 0.00517447]\n",
      "[0. 1. 0.] <-> [8.6841136e-03 9.9126863e-01 4.7248828e-05]\n",
      "[1. 0. 0.] <-> [9.9598265e-01 9.6266688e-04 3.0547280e-03]\n",
      "[1. 0. 0.] <-> [0.99005216 0.00867546 0.00127237]\n",
      "[1. 0. 0.] <-> [0.9974171  0.0011761  0.00140688]\n",
      "[1. 0. 0.] <-> [0.990893   0.00657433 0.00253267]\n",
      "[1. 0. 0.] <-> [0.9949935  0.00100061 0.00400587]\n",
      "[0. 1. 0.] <-> [0.26108    0.73801255 0.00090744]\n",
      "[1. 0. 0.] <-> [0.86899203 0.00156848 0.1294394 ]\n",
      "[1. 0. 0.] <-> [9.9364305e-01 8.9198322e-04 5.4649794e-03]\n",
      "[1. 0. 0.] <-> [0.9970636  0.00128874 0.00164768]\n",
      "[0. 1. 0.] <-> [1.4573122e-02 9.8535341e-01 7.3506220e-05]\n",
      "[1. 0. 0.] <-> [0.9945251  0.00407848 0.00139645]\n",
      "[0. 1. 0.] <-> [1.2881455e-01 8.7072760e-01 4.5790110e-04]\n",
      "[0. 1. 0.] <-> [8.2053253e-03 9.9175006e-01 4.4565928e-05]\n",
      "[1. 0. 0.] <-> [0.92654115 0.00232873 0.07113002]\n",
      "[1. 0. 0.] <-> [0.4864116  0.00117361 0.51241475]\n",
      "[0. 1. 0.] <-> [8.2194917e-03 9.9173611e-01 4.4369168e-05]\n",
      "[1. 0. 0.] <-> [0.99710625 0.00152145 0.00137231]\n",
      "[0. 0. 1.] <-> [5.5494620e-03 2.4495885e-05 9.9442601e-01]\n",
      "[1. 0. 0.] <-> [0.99163777 0.00679011 0.00157213]\n",
      "[1. 0. 0.] <-> [0.9962829  0.00238655 0.00133051]\n",
      "[1. 0. 0.] <-> [0.9959919  0.00266785 0.0013402 ]\n",
      "[1. 0. 0.] <-> [9.9622166e-01 8.4738777e-04 2.9309511e-03]\n",
      "[1. 0. 0.] <-> [0.9927046  0.00099287 0.00630251]\n",
      "[1. 0. 0.] <-> [0.99636227 0.00170669 0.00193102]\n",
      "[0. 1. 0.] <-> [8.6077927e-03 9.9134594e-01 4.6214023e-05]\n",
      "[0. 0. 1.] <-> [5.7438212e-03 2.5240814e-05 9.9423099e-01]\n",
      "[1. 0. 0.] <-> [0.9726089  0.02531916 0.00207196]\n",
      "[1. 0. 0.] <-> [0.98309153 0.0012757  0.01563279]\n",
      "[1. 0. 0.] <-> [9.9679142e-01 8.2222588e-04 2.3862347e-03]\n",
      "[1. 0. 0.] <-> [0.99701476 0.0015385  0.00144666]\n",
      "[1. 0. 0.] <-> [0.996881   0.00170151 0.00141744]\n",
      "[1. 0. 0.] <-> [0.99469745 0.00126674 0.00403581]\n",
      "[0. 0. 1.] <-> [7.8541368e-02 2.6669403e-04 9.2119199e-01]\n",
      "[1. 0. 0.] <-> [0.99645644 0.00226985 0.0012736 ]\n",
      "[0. 1. 0.] <-> [1.479183e-02 9.851285e-01 7.967678e-05]\n",
      "[0. 0. 1.] <-> [5.5495077e-03 2.4495979e-05 9.9442601e-01]\n",
      "[0. 0. 1.] <-> [0.7044725  0.0009223  0.29460528]\n",
      "[1. 0. 0.] <-> [0.9967167  0.00205712 0.00122625]\n",
      "[1. 0. 0.] <-> [0.9797768  0.00115839 0.01906482]\n",
      "[1. 0. 0.] <-> [0.9374438  0.00099992 0.06155628]\n",
      "[0. 0. 1.] <-> [5.7389583e-03 2.5510613e-05 9.9423558e-01]\n",
      "[1. 0. 0.] <-> [0.99694437 0.00114816 0.00190744]\n",
      "[1. 0. 0.] <-> [0.99674076 0.00121395 0.00204525]\n",
      "[1. 0. 0.] <-> [0.99713564 0.00119617 0.00166818]\n",
      "[1. 0. 0.] <-> [0.99729735 0.00109855 0.0016041 ]\n",
      "[1. 0. 0.] <-> [0.99609107 0.00115139 0.00275757]\n",
      "[1. 0. 0.] <-> [0.9942713  0.00111547 0.00461325]\n",
      "[1. 0. 0.] <-> [0.99279803 0.00120596 0.00599603]\n",
      "[0. 0. 1.] <-> [5.5494495e-03 2.4495745e-05 9.9442601e-01]\n",
      "[0. 0. 1.] <-> [6.9229095e-03 2.9632771e-05 9.9304754e-01]\n",
      "[1. 0. 0.] <-> [0.9973525  0.00103817 0.00160933]\n",
      "[1. 0. 0.] <-> [0.9513869  0.00106796 0.04754515]\n",
      "[1. 0. 0.] <-> [1.4463084e-02 5.6355060e-05 9.8548061e-01]\n",
      "[1. 0. 0.] <-> [0.9966402  0.0010046  0.00235509]\n",
      "[1. 0. 0.] <-> [0.9973219  0.00132606 0.00135201]\n",
      "[1. 0. 0.] <-> [0.99507564 0.00121608 0.00370823]\n",
      "[1. 0. 0.] <-> [0.35662457 0.64217466 0.00120082]\n",
      "[1. 0. 0.] <-> [0.99620193 0.00157114 0.00222688]\n",
      "[1. 0. 0.] <-> [0.99612033 0.0013862  0.00249344]\n",
      "[1. 0. 0.] <-> [0.9949072  0.00143957 0.00365321]\n",
      "[1. 0. 0.] <-> [9.9637127e-01 9.9414634e-04 2.6345674e-03]\n",
      "[0. 0. 1.] <-> [5.5866763e-03 2.4626461e-05 9.9438864e-01]\n",
      "[1. 0. 0.] <-> [9.9744582e-01 9.7253843e-04 1.5816727e-03]\n",
      "[0. 1. 0.] <-> [0.6171913  0.38103285 0.00177587]\n",
      "[0. 1. 0.] <-> [2.2207839e-02 9.7768050e-01 1.1162905e-04]\n",
      "[1. 0. 0.] <-> [0.9907533  0.00776697 0.00147974]\n",
      "[1. 0. 0.] <-> [0.9842831  0.00122286 0.01449401]\n",
      "[1. 0. 0.] <-> [0.9177675  0.07975699 0.00247557]\n",
      "[1. 0. 0.] <-> [9.900305e-01 9.514023e-04 9.018036e-03]\n",
      "[1. 0. 0.] <-> [9.9111968e-01 9.0293644e-04 7.9773581e-03]\n",
      "[0. 0. 1.] <-> [5.5500651e-03 2.4498018e-05 9.9442542e-01]\n",
      "[0. 1. 0.] <-> [3.0164434e-02 9.6968812e-01 1.4754677e-04]\n",
      "[1. 0. 0.] <-> [0.9975787  0.00102102 0.00140031]\n",
      "[1. 0. 0.] <-> [9.928149e-01 9.197483e-04 6.265353e-03]\n",
      "[1. 0. 0.] <-> [0.99387544 0.00103663 0.00508799]\n",
      "[0. 1. 0.] <-> [8.2571395e-03 9.9169767e-01 4.5153723e-05]\n",
      "[1. 0. 0.] <-> [0.9941042  0.00450674 0.00138898]\n",
      "[1. 0. 0.] <-> [0.99427164 0.0011056  0.00462274]\n",
      "[1. 0. 0.] <-> [0.9970901  0.00129405 0.00161586]\n",
      "[1. 0. 0.] <-> [0.9500035  0.00163843 0.04835807]\n",
      "[1. 0. 0.] <-> [0.9912129  0.00710999 0.00167702]\n",
      "[1. 0. 0.] <-> [0.83321595 0.00127808 0.165506  ]\n",
      "[1. 0. 0.] <-> [9.9355620e-01 9.1399316e-04 5.5298381e-03]\n",
      "[0. 0. 1.] <-> [5.5995621e-03 2.4690244e-05 9.9437571e-01]\n",
      "[0. 0. 1.] <-> [5.5494495e-03 2.4495745e-05 9.9442601e-01]\n",
      "[0. 1. 0.] <-> [7.6317945e-03 9.9231517e-01 5.2981843e-05]\n",
      "[0. 0. 1.] <-> [5.5509233e-03 2.4504729e-05 9.9442458e-01]\n",
      "[1. 0. 0.] <-> [0.9952668  0.00343744 0.00129586]\n",
      "[1. 0. 0.] <-> [0.997157   0.00117056 0.00167251]\n",
      "[1. 0. 0.] <-> [0.9964547  0.00210672 0.00143863]\n",
      "[1. 0. 0.] <-> [0.99448025 0.00131848 0.0042012 ]\n",
      "[1. 0. 0.] <-> [0.9910892  0.00110382 0.00780697]\n",
      "[1. 0. 0.] <-> [0.9759887  0.00126072 0.02275063]\n",
      "[1. 0. 0.] <-> [0.99707854 0.00152205 0.00139946]\n",
      "[1. 0. 0.] <-> [0.8677055  0.00138533 0.13090917]\n",
      "[0. 1. 0.] <-> [0.3544806  0.644516   0.00100341]\n",
      "[1. 0. 0.] <-> [0.27660748 0.0008149  0.72257763]\n",
      "[0. 1. 0.] <-> [1.1664065e-02 9.8827225e-01 6.3777225e-05]\n",
      "[1. 0. 0.] <-> [0.99421895 0.00105065 0.00473043]\n",
      "[1. 0. 0.] <-> [0.99620795 0.00171023 0.0020818 ]\n",
      "[1. 0. 0.] <-> [0.95718646 0.00103708 0.04177648]\n",
      "[1. 0. 0.] <-> [0.99524915 0.00298873 0.00176208]\n",
      "[1. 0. 0.] <-> [0.9971017  0.00139632 0.00150193]\n",
      "[1. 0. 0.] <-> [0.99684876 0.00114106 0.00201021]\n",
      "[1. 0. 0.] <-> [0.9710758  0.00102355 0.02790068]\n",
      "{'accuracy': 0.9629629629629629, 'mean_square_error': 0.06217876745168746, 'categorical_crossentropy': 0.11017013479162145, 'essential_metrics': {0: {'tp_hit': 76, 'fp_hit': 2, 'tn_hit': 26, 'fn_hit': 4}, 1: {'tp_hit': 14, 'fp_hit': 1, 'tn_hit': 92, 'fn_hit': 1}, 2: {'tp_hit': 12, 'fp_hit': 3, 'tn_hit': 92, 'fn_hit': 1}}}\n"
     ]
    }
   ],
   "source": [
    "# recall phase\n",
    "score = model.evaluate(x_test, y_test, False)\n",
    "print(score)"
   ]
  },
  {
   "cell_type": "code",
   "execution_count": 13,
   "metadata": {},
   "outputs": [
    {
     "name": "stdout",
     "output_type": "stream",
     "text": [
      "{'accuracy': 0.8580246913580247, 'mean_square_error': 0.28678261034732916, 'categorical_crossentropy': 0.5323145477860062, 'essential_metrics': {0: {'tp_hit': 80, 'fp_hit': 23, 'tn_hit': 5, 'fn_hit': 0}, 1: {'tp_hit': 4, 'fp_hit': 0, 'tn_hit': 93, 'fn_hit': 11}, 2: {'tp_hit': 1, 'fp_hit': 0, 'tn_hit': 95, 'fn_hit': 12}}, 'checkpoint': 10} \n",
      "\n",
      "\n",
      "{'accuracy': 0.8518518518518519, 'mean_square_error': 0.2777022485205594, 'categorical_crossentropy': 0.5134915952329282, 'essential_metrics': {0: {'tp_hit': 80, 'fp_hit': 24, 'tn_hit': 4, 'fn_hit': 0}, 1: {'tp_hit': 4, 'fp_hit': 0, 'tn_hit': 93, 'fn_hit': 11}, 2: {'tp_hit': 0, 'fp_hit': 0, 'tn_hit': 95, 'fn_hit': 13}}, 'checkpoint': 20} \n",
      "\n",
      "\n",
      "{'accuracy': 0.8765432098765432, 'mean_square_error': 0.2923159035760542, 'categorical_crossentropy': 0.5314689918800637, 'essential_metrics': {0: {'tp_hit': 78, 'fp_hit': 15, 'tn_hit': 13, 'fn_hit': 2}, 1: {'tp_hit': 9, 'fp_hit': 2, 'tn_hit': 91, 'fn_hit': 6}, 2: {'tp_hit': 1, 'fp_hit': 3, 'tn_hit': 92, 'fn_hit': 12}}, 'checkpoint': 30} \n",
      "\n",
      "\n",
      "{'accuracy': 0.8888888888888888, 'mean_square_error': 0.25092617502469483, 'categorical_crossentropy': 0.4500429012157299, 'essential_metrics': {0: {'tp_hit': 78, 'fp_hit': 16, 'tn_hit': 12, 'fn_hit': 2}, 1: {'tp_hit': 11, 'fp_hit': 2, 'tn_hit': 91, 'fn_hit': 4}, 2: {'tp_hit': 1, 'fp_hit': 0, 'tn_hit': 95, 'fn_hit': 12}}, 'checkpoint': 40} \n",
      "\n",
      "\n",
      "{'accuracy': 0.8827160493827161, 'mean_square_error': 0.21215612384545626, 'categorical_crossentropy': 0.36658477783203125, 'essential_metrics': {0: {'tp_hit': 80, 'fp_hit': 19, 'tn_hit': 9, 'fn_hit': 0}, 1: {'tp_hit': 9, 'fp_hit': 0, 'tn_hit': 93, 'fn_hit': 6}, 2: {'tp_hit': 0, 'fp_hit': 0, 'tn_hit': 95, 'fn_hit': 13}}, 'checkpoint': 50} \n",
      "\n",
      "\n",
      "{'accuracy': 0.8950617283950617, 'mean_square_error': 0.16967147243052838, 'categorical_crossentropy': 0.316947548477738, 'essential_metrics': {0: {'tp_hit': 78, 'fp_hit': 15, 'tn_hit': 13, 'fn_hit': 2}, 1: {'tp_hit': 12, 'fp_hit': 2, 'tn_hit': 91, 'fn_hit': 3}, 2: {'tp_hit': 1, 'fp_hit': 0, 'tn_hit': 95, 'fn_hit': 12}}, 'checkpoint': 60} \n",
      "\n",
      "\n",
      "{'accuracy': 0.9567901234567902, 'mean_square_error': 0.13617049404848075, 'categorical_crossentropy': 0.29458946651882595, 'essential_metrics': {0: {'tp_hit': 79, 'fp_hit': 6, 'tn_hit': 22, 'fn_hit': 1}, 1: {'tp_hit': 12, 'fp_hit': 1, 'tn_hit': 92, 'fn_hit': 3}, 2: {'tp_hit': 10, 'fp_hit': 0, 'tn_hit': 95, 'fn_hit': 3}}, 'checkpoint': 70} \n",
      "\n",
      "\n",
      "{'accuracy': 0.9629629629629629, 'mean_square_error': 0.09893103879730239, 'categorical_crossentropy': 0.2262464099460178, 'essential_metrics': {0: {'tp_hit': 80, 'fp_hit': 6, 'tn_hit': 22, 'fn_hit': 0}, 1: {'tp_hit': 12, 'fp_hit': 0, 'tn_hit': 93, 'fn_hit': 3}, 2: {'tp_hit': 10, 'fp_hit': 0, 'tn_hit': 95, 'fn_hit': 3}}, 'checkpoint': 80} \n",
      "\n",
      "\n",
      "{'accuracy': 0.9753086419753086, 'mean_square_error': 0.07746784554868892, 'categorical_crossentropy': 0.19954646075213398, 'essential_metrics': {0: {'tp_hit': 79, 'fp_hit': 3, 'tn_hit': 25, 'fn_hit': 1}, 1: {'tp_hit': 14, 'fp_hit': 0, 'tn_hit': 93, 'fn_hit': 1}, 2: {'tp_hit': 11, 'fp_hit': 1, 'tn_hit': 94, 'fn_hit': 2}}, 'checkpoint': 90} \n",
      "\n",
      "\n",
      "{'accuracy': 0.9629629629629629, 'mean_square_error': 0.08239108770520057, 'categorical_crossentropy': 0.1736067842554163, 'essential_metrics': {0: {'tp_hit': 79, 'fp_hit': 5, 'tn_hit': 23, 'fn_hit': 1}, 1: {'tp_hit': 12, 'fp_hit': 0, 'tn_hit': 93, 'fn_hit': 3}, 2: {'tp_hit': 11, 'fp_hit': 1, 'tn_hit': 94, 'fn_hit': 2}}, 'checkpoint': 100} \n",
      "\n",
      "\n",
      "{'accuracy': 0.9567901234567902, 'mean_square_error': 0.08464235860771827, 'categorical_crossentropy': 0.16626084292376483, 'essential_metrics': {0: {'tp_hit': 77, 'fp_hit': 4, 'tn_hit': 24, 'fn_hit': 3}, 1: {'tp_hit': 12, 'fp_hit': 0, 'tn_hit': 93, 'fn_hit': 3}, 2: {'tp_hit': 12, 'fp_hit': 3, 'tn_hit': 92, 'fn_hit': 1}}, 'checkpoint': 110} \n",
      "\n",
      "\n",
      "{'accuracy': 0.9629629629629629, 'mean_square_error': 0.08331599955251895, 'categorical_crossentropy': 0.16595681508382162, 'essential_metrics': {0: {'tp_hit': 76, 'fp_hit': 2, 'tn_hit': 26, 'fn_hit': 4}, 1: {'tp_hit': 14, 'fp_hit': 1, 'tn_hit': 92, 'fn_hit': 1}, 2: {'tp_hit': 12, 'fp_hit': 3, 'tn_hit': 92, 'fn_hit': 1}}, 'checkpoint': 120} \n",
      "\n",
      "\n",
      "{'accuracy': 0.9691358024691358, 'mean_square_error': 0.07575839743002431, 'categorical_crossentropy': 0.14216791258917916, 'essential_metrics': {0: {'tp_hit': 77, 'fp_hit': 2, 'tn_hit': 26, 'fn_hit': 3}, 1: {'tp_hit': 14, 'fp_hit': 0, 'tn_hit': 93, 'fn_hit': 1}, 2: {'tp_hit': 12, 'fp_hit': 3, 'tn_hit': 92, 'fn_hit': 1}}, 'checkpoint': 130} \n",
      "\n",
      "\n",
      "{'accuracy': 0.9629629629629629, 'mean_square_error': 0.07109611055160979, 'categorical_crossentropy': 0.13183853361341688, 'essential_metrics': {0: {'tp_hit': 76, 'fp_hit': 2, 'tn_hit': 26, 'fn_hit': 4}, 1: {'tp_hit': 14, 'fp_hit': 1, 'tn_hit': 92, 'fn_hit': 1}, 2: {'tp_hit': 12, 'fp_hit': 3, 'tn_hit': 92, 'fn_hit': 1}}, 'checkpoint': 140} \n",
      "\n",
      "\n",
      "{'accuracy': 0.9629629629629629, 'mean_square_error': 0.06406878307807069, 'categorical_crossentropy': 0.1141284218540898, 'essential_metrics': {0: {'tp_hit': 76, 'fp_hit': 2, 'tn_hit': 26, 'fn_hit': 4}, 1: {'tp_hit': 14, 'fp_hit': 1, 'tn_hit': 92, 'fn_hit': 1}, 2: {'tp_hit': 12, 'fp_hit': 3, 'tn_hit': 92, 'fn_hit': 1}}, 'checkpoint': 150} \n",
      "\n",
      "\n",
      "{'accuracy': 0.9629629629629629, 'mean_square_error': 0.07079382394900635, 'categorical_crossentropy': 0.12435435365747523, 'essential_metrics': {0: {'tp_hit': 76, 'fp_hit': 2, 'tn_hit': 26, 'fn_hit': 4}, 1: {'tp_hit': 14, 'fp_hit': 1, 'tn_hit': 92, 'fn_hit': 1}, 2: {'tp_hit': 12, 'fp_hit': 3, 'tn_hit': 92, 'fn_hit': 1}}, 'checkpoint': 160} \n",
      "\n",
      "\n",
      "{'accuracy': 0.9691358024691358, 'mean_square_error': 0.06326784256005052, 'categorical_crossentropy': 0.11637201132597746, 'essential_metrics': {0: {'tp_hit': 76, 'fp_hit': 1, 'tn_hit': 27, 'fn_hit': 4}, 1: {'tp_hit': 15, 'fp_hit': 1, 'tn_hit': 92, 'fn_hit': 0}, 2: {'tp_hit': 12, 'fp_hit': 3, 'tn_hit': 92, 'fn_hit': 1}}, 'checkpoint': 170} \n",
      "\n",
      "\n",
      "{'accuracy': 0.9753086419753086, 'mean_square_error': 0.05719257548843572, 'categorical_crossentropy': 0.10251942387333622, 'essential_metrics': {0: {'tp_hit': 77, 'fp_hit': 1, 'tn_hit': 27, 'fn_hit': 3}, 1: {'tp_hit': 15, 'fp_hit': 1, 'tn_hit': 92, 'fn_hit': 0}, 2: {'tp_hit': 12, 'fp_hit': 2, 'tn_hit': 93, 'fn_hit': 1}}, 'checkpoint': 180} \n",
      "\n",
      "\n",
      "{'accuracy': 0.9691358024691358, 'mean_square_error': 0.061434209315355974, 'categorical_crossentropy': 0.11096456315782335, 'essential_metrics': {0: {'tp_hit': 77, 'fp_hit': 2, 'tn_hit': 26, 'fn_hit': 3}, 1: {'tp_hit': 14, 'fp_hit': 1, 'tn_hit': 92, 'fn_hit': 1}, 2: {'tp_hit': 12, 'fp_hit': 2, 'tn_hit': 93, 'fn_hit': 1}}, 'checkpoint': 190} \n",
      "\n",
      "\n",
      "{'accuracy': 0.9629629629629629, 'mean_square_error': 0.06217876745168746, 'categorical_crossentropy': 0.11017013479162145, 'essential_metrics': {0: {'tp_hit': 76, 'fp_hit': 2, 'tn_hit': 26, 'fn_hit': 4}, 1: {'tp_hit': 14, 'fp_hit': 1, 'tn_hit': 92, 'fn_hit': 1}, 2: {'tp_hit': 12, 'fp_hit': 3, 'tn_hit': 92, 'fn_hit': 1}}, 'checkpoint': 200} \n",
      "\n",
      "\n"
     ]
    }
   ],
   "source": [
    "for checkpoint in checkpoints:\n",
    "    print(checkpoint, '\\n\\n')"
   ]
  },
  {
   "cell_type": "code",
   "execution_count": 14,
   "metadata": {},
   "outputs": [
    {
     "name": "stdout",
     "output_type": "stream",
     "text": [
      "Layer 1\n",
      "Neuron 0: weights:\n",
      "[ 1.5530267 -2.77048   -1.4941666  3.         1.1680839]\n",
      " bias: 3.0\n",
      "\n",
      "Neuron 1: weights:\n",
      "[-0.27657038  3.          1.36194    -1.0766542  -3.        ]\n",
      " bias: 3.0\n",
      "\n",
      "Neuron 2: weights:\n",
      "[ 2.055167  -3.        -2.793006  -1.4988555  3.       ]\n",
      " bias: 3.0\n",
      "\n",
      "Neuron 3: weights:\n",
      "[-0.14365217 -3.          0.98344606  1.9910063   3.        ]\n",
      " bias: -2.088148593902588\n",
      "\n",
      "$\n",
      "Layer 2\n",
      "Neuron 0: weights:\n",
      "[ 3.  3.  3. -3.]\n",
      " bias: -2.2588977813720703\n",
      "\n",
      "Neuron 1: weights:\n",
      "[-3.        3.       -3.       -1.215105]\n",
      " bias: 2.533252716064453\n",
      "\n",
      "Neuron 2: weights:\n",
      "[ 3.        -3.         1.4131029  3.       ]\n",
      " bias: -1.4835333824157715\n",
      "\n",
      "$\n",
      "\n"
     ]
    }
   ],
   "source": [
    "print(model)"
   ]
  }
 ],
 "metadata": {
  "kernelspec": {
   "display_name": "Python 3",
   "language": "python",
   "name": "python3"
  },
  "language_info": {
   "codemirror_mode": {
    "name": "ipython",
    "version": 3
   },
   "file_extension": ".py",
   "mimetype": "text/x-python",
   "name": "python",
   "nbconvert_exporter": "python",
   "pygments_lexer": "ipython3",
   "version": "3.6.12"
  }
 },
 "nbformat": 4,
 "nbformat_minor": 2
}
