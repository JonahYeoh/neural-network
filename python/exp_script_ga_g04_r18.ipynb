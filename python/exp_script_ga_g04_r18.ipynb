{
 "cells": [
  {
   "cell_type": "code",
   "execution_count": 1,
   "metadata": {},
   "outputs": [],
   "source": [
    "# two"
   ]
  },
  {
   "cell_type": "code",
   "execution_count": 2,
   "metadata": {},
   "outputs": [],
   "source": [
    "# dependency\n",
    "import numpy as np\n",
    "import pandas as pd\n",
    "import copy\n",
    "import math\n",
    "import sys\n",
    "import os\n",
    "from activations import relu, leaky_relu, sigmoid, tanh, softmax, d_sigmoid, d_relu\n",
    "from initializers import glorot_uniform, random_normal, random_uniform\n",
    "from regularizers import l1_regularizer, l2_regularizer\n",
    "from utility import trim_tail, multiply, subtract, get_nparams, one_hot_encoding, get_data\n",
    "from metrics import MSE, CCE, ACC, PRECISION, RECALL, essential_metrics, wondering_penalty, close_gap_penalty\n",
    "from pso import PSO\n",
    "from ga import GA\n",
    "from nn import Network\n",
    "from layer import DenseLayer\n",
    "from scalers import MinMaxScaler, StandardScaler"
   ]
  },
  {
   "cell_type": "code",
   "execution_count": 3,
   "metadata": {},
   "outputs": [],
   "source": [
    "# reference\n",
    "metrics_fn_dict = dict()\n",
    "metrics_fn_dict['accuracy'] = ACC\n",
    "metrics_fn_dict['categorical_crossentropy'] = CCE\n",
    "metrics_fn_dict['mean_square_error'] = MSE\n",
    "metrics_fn_dict['precision'] = PRECISION\n",
    "metrics_fn_dict['recall'] = RECALL\n",
    "metrics_fn_dict['essential_metrics'] = essential_metrics"
   ]
  },
  {
   "cell_type": "code",
   "execution_count": 4,
   "metadata": {},
   "outputs": [],
   "source": [
    "# model\n",
    "model = Network(5, lr = None)\n",
    "model.add_layer(DenseLayer(1, 4, True, afn=sigmoid, dafn=None, rfn=None))\n",
    "model.add_layer(DenseLayer(2, 3, True, afn=softmax, dafn=None, rfn=None))"
   ]
  },
  {
   "cell_type": "code",
   "execution_count": 5,
   "metadata": {},
   "outputs": [],
   "source": [
    "# optimizer\n",
    "ga = GA(\n",
    "    dict(\n",
    "        m = 50,\n",
    "        x_rate = [0.5, 1.0],\n",
    "        m_rate = [0.5, 1.0],\n",
    "        weight_constraint = [-3.,3.],\n",
    "        radioactive_rating = [0.1, 0.5],\n",
    "        grow_factor = [0.1, 0.5],\n",
    "        scale_hyperparameter = False,\n",
    "        regularizer = l1_regularizer))"
   ]
  },
  {
   "cell_type": "code",
   "execution_count": 6,
   "metadata": {},
   "outputs": [
    {
     "name": "stdout",
     "output_type": "stream",
     "text": [
      "building layer 1 with 5\n",
      "24\n",
      "building layer 2 with 4\n",
      "15\n"
     ]
    }
   ],
   "source": [
    "model.compile(loss_fn = 'categorical_crossentropy', optimizer = ga, \\\n",
    "    metrics = ['accuracy', 'mean_square_error', 'categorical_crossentropy', 'precision', 'recall', 'f1'])"
   ]
  },
  {
   "cell_type": "code",
   "execution_count": 7,
   "metadata": {},
   "outputs": [
    {
     "name": "stdout",
     "output_type": "stream",
     "text": [
      "<class 'pandas.core.frame.DataFrame'>\n",
      "RangeIndex: 107 entries, 0 to 106\n",
      "Data columns (total 6 columns):\n",
      " #   Column  Non-Null Count  Dtype  \n",
      "---  ------  --------------  -----  \n",
      " 0   f1      107 non-null    float32\n",
      " 1   f2      107 non-null    float32\n",
      " 2   f3      107 non-null    float32\n",
      " 3   f4      107 non-null    float32\n",
      " 4   f5      107 non-null    float32\n",
      " 5   label   107 non-null    float32\n",
      "dtypes: float32(6)\n",
      "memory usage: 2.6 KB\n",
      "None\n",
      "<class 'pandas.core.frame.DataFrame'>\n",
      "RangeIndex: 108 entries, 0 to 107\n",
      "Data columns (total 6 columns):\n",
      " #   Column  Non-Null Count  Dtype  \n",
      "---  ------  --------------  -----  \n",
      " 0   f1      108 non-null    float32\n",
      " 1   f2      108 non-null    float32\n",
      " 2   f3      108 non-null    float32\n",
      " 3   f4      108 non-null    float32\n",
      " 4   f5      108 non-null    float32\n",
      " 5   label   108 non-null    float32\n",
      "dtypes: float32(6)\n",
      "memory usage: 2.7 KB\n",
      "None\n"
     ]
    }
   ],
   "source": [
    "# data loading\n",
    "DATA = os.path.join('c:\\\\Users\\\\tcumi\\\\github_repo\\\\neural-network\\\\', 'dataset')\n",
    "GROUP = 4\n",
    "COLUMNS = ['f1', 'f2', 'f3', 'f4', 'f5', 'label']\n",
    "N_CLASS = 3\n",
    "EPOCHS = 500\n",
    "train_dir, test_dir = \"..//dataset//training_data{}.txt\".format(GROUP), \"..//dataset//testing_data{}.txt\".format(GROUP)\n",
    "train, test = get_data(DATA, train_dir, COLUMNS), get_data(DATA, test_dir, COLUMNS)\n",
    "# shuffle\n",
    "train, test = train.sample(frac=1), test.sample(frac=1)\n",
    "x_train, y_train = train.drop('label', axis=1), train['label']\n",
    "x_test, y_test = test.drop('label', axis=1), test['label']"
   ]
  },
  {
   "cell_type": "code",
   "execution_count": 8,
   "metadata": {},
   "outputs": [],
   "source": [
    "# data scaling and encoding\n",
    "scaler = StandardScaler(['f1', 'f2', 'f3', 'f4', 'f5'])\n",
    "scaler.fit(x_train)\n",
    "x_train = scaler.transform(x_train)\n",
    "x_test = scaler.transform(x_test)\n",
    "y_train = one_hot_encoding(y_train, N_CLASS)\n",
    "y_test = one_hot_encoding(y_test, N_CLASS)"
   ]
  },
  {
   "cell_type": "code",
   "execution_count": 9,
   "metadata": {
    "scrolled": true,
    "tags": [
     "outputPrepend"
    ]
   },
   "outputs": [
    {
     "name": "stderr",
     "output_type": "stream",
     "text": [
      "C:\\Users\\tcumi\\Anaconda3\\envs\\py_3_6\\lib\\site-packages\\numpy\\core\\fromnumeric.py:87: VisibleDeprecationWarning: Creating an ndarray from ragged nested sequences (which is a list-or-tuple of lists-or-tuples-or ndarrays with different lengths or shapes) is deprecated. If you meant to do this, you must specify 'dtype=object' when creating the ndarray\n",
      "  return ufunc.reduce(obj, axis, dtype, out, **passkwargs)\n",
      "C:\\Users\\tcumi\\github_repo\\neural-network\\python\\ga.py:201: RuntimeWarning: overflow encountered in add\n",
      "  self.population.sort(key=lambda p: p.fitness + np.random.uniform(-shift, shift, 1), reverse = self.aim)\n",
      "C:\\Users\\tcumi\\Anaconda3\\envs\\py_3_6\\lib\\site-packages\\numpy\\core\\_asarray.py:136: VisibleDeprecationWarning: Creating an ndarray from ragged nested sequences (which is a list-or-tuple of lists-or-tuples-or ndarrays with different lengths or shapes) is deprecated. If you meant to do this, you must specify 'dtype=object' when creating the ndarray\n",
      "  return array(a, dtype, copy=False, order=order, subok=True)\n"
     ]
    },
    {
     "name": "stdout",
     "output_type": "stream",
     "text": [
      "Checkpoint 100, Accuracy: 0.9691358024691358, Loss: 0.2727836149710196\n",
      "Checkpoint 200, Accuracy: 0.9629629629629629, Loss: 0.22502146826850045\n",
      "Checkpoint 300, Accuracy: 0.9691358024691358, Loss: 0.20816414444534867\n",
      "Checkpoint 400, Accuracy: 0.9691358024691358, Loss: 0.2000668313768175\n",
      "Checkpoint 500, Accuracy: 0.9753086419753086, Loss: 0.2047591386017976\n"
     ]
    }
   ],
   "source": [
    "# learning phase\n",
    "breakpoint = 100\n",
    "checkpoints = list()\n",
    "history = list()\n",
    "for century in range(0, EPOCHS, breakpoint):\n",
    "    sub_history = model.fit(x_train, y_train, breakpoint, verbose = 0)\n",
    "    score = model.evaluate(x_test, y_test, False, verbose = 0)\n",
    "    print('Checkpoint {}, Accuracy: {}, Loss: {}'.format(century+breakpoint, score['accuracy'], score[model.loss_fn]))\n",
    "    score['checkpoint'] = century + breakpoint\n",
    "    checkpoints.append(score)\n",
    "    history.extend(sub_history)\n",
    "    itr = century + breakpoint\n",
    "    '''\n",
    "    model.optimizer.rr = model.optimizer.rr * 0.9\n",
    "    model.optimizer.gf = model.optimizer.gf * 0.9\n",
    "    model.optimizer.crossover_rate = model.optimizer.crossover_rate * 0.9\n",
    "    model.optimizer.mutation_rate = model.optimizer.mutation_rate * 1.1\n",
    "    '''\n",
    "    model.optimizer.rr = model.optimizer.radioactive_rating[1] - (model.optimizer.radioactive_rating[1] - model.optimizer.radioactive_rating[0]) / EPOCHS * (EPOCHS - itr)\n",
    "    model.optimizer.gf = model.optimizer.grow_factor[1] - (model.optimizer.grow_factor[1] - model.optimizer.grow_factor[0]) / EPOCHS * (EPOCHS - itr)\n",
    "    model.optimizer.crossover_rate = model.optimizer.x_rate[1] - (model.optimizer.x_rate[1] - model.optimizer.x_rate[0]) / EPOCHS * (EPOCHS - itr)\n",
    "    model.optimizer.mutation_rate = model.optimizer.m_rate[0] + (model.optimizer.m_rate[1] - model.optimizer.m_rate[0]) / EPOCHS * (EPOCHS - itr)\n",
    "    "
   ]
  },
  {
   "cell_type": "code",
   "execution_count": 10,
   "metadata": {},
   "outputs": [],
   "source": [
    "import matplotlib.pyplot as plt\n",
    "\n",
    "def draw_plot(x, y_list, x_label=None, y_label=None, legend=None, title=None):\n",
    "    fig, ax = plt.subplots(figsize=(12,5))\n",
    "    for xi, yi in zip(x, y_list):\n",
    "        ax.plot(xi, yi)\n",
    "    if x_label is not None and y_label is not None:\n",
    "        ax.set(xlabel=x_label, ylabel=y_label, title='{} VS {}'.format(x_label, y_label))\n",
    "    if legend is not None:\n",
    "        ax.legend(legend)\n",
    "    ax.grid()\n",
    "    plt.show()"
   ]
  },
  {
   "cell_type": "code",
   "execution_count": 11,
   "metadata": {},
   "outputs": [
    {
     "name": "stdout",
     "output_type": "stream",
     "text": [
      "[1. 0. 0.] <-> [0.8992491  0.06565696 0.035094  ]\n",
      "[1. 0. 0.] <-> [0.7962372  0.18096054 0.02280222]\n",
      "[0. 1. 0.] <-> [0.40550664 0.5703292  0.02416413]\n",
      "[1. 0. 0.] <-> [0.9137147  0.01541777 0.07086753]\n",
      "[1. 0. 0.] <-> [0.95084226 0.0169774  0.03218026]\n",
      "[1. 0. 0.] <-> [0.92002386 0.05882978 0.02114636]\n",
      "[1. 0. 0.] <-> [0.9205762  0.03790786 0.04151584]\n",
      "[0. 1. 0.] <-> [0.06862099 0.9271817  0.00419736]\n",
      "[1. 0. 0.] <-> [0.68011427 0.28831536 0.03157039]\n",
      "[1. 0. 0.] <-> [0.92977947 0.02522862 0.04499199]\n",
      "[0. 1. 0.] <-> [0.32951224 0.6555516  0.01493619]\n",
      "[0. 0. 1.] <-> [0.15045203 0.001202   0.848346  ]\n",
      "[0. 1. 0.] <-> [0.06909291 0.9266645  0.00424264]\n",
      "[1. 0. 0.] <-> [0.9328866  0.03857986 0.02853355]\n",
      "[0. 1. 0.] <-> [0.21455337 0.7739323  0.01151427]\n",
      "[1. 0. 0.] <-> [0.89734846 0.01739976 0.08525175]\n",
      "[0. 0. 1.] <-> [0.22087045 0.0023692  0.77676034]\n",
      "[1. 0. 0.] <-> [0.91705376 0.0578368  0.02510944]\n",
      "[1. 0. 0.] <-> [0.94919086 0.02429917 0.02651001]\n",
      "[1. 0. 0.] <-> [0.9484406  0.02710013 0.02445927]\n",
      "[0. 1. 0.] <-> [0.08034164 0.9130124  0.00664601]\n",
      "[0. 0. 1.] <-> [0.20271122 0.00212416 0.7951646 ]\n",
      "[1. 0. 0.] <-> [0.77936256 0.0162207  0.20441672]\n",
      "[0. 1. 0.] <-> [0.15039891 0.8363726  0.01322845]\n",
      "[0. 0. 1.] <-> [0.11578627 0.00090498 0.8833087 ]\n",
      "[1. 0. 0.] <-> [0.9349455  0.03933526 0.02571911]\n",
      "[0. 0. 1.] <-> [7.5908646e-02 5.2829122e-04 9.2356306e-01]\n",
      "[1. 0. 0.] <-> [0.93176264 0.04737328 0.02086402]\n",
      "[0. 1. 0.] <-> [0.07504918 0.91943866 0.00551219]\n",
      "[1. 0. 0.] <-> [0.9461455  0.03573186 0.01812269]\n",
      "[1. 0. 0.] <-> [0.90589464 0.07508525 0.01902016]\n",
      "[0. 1. 0.] <-> [0.23213714 0.7561078  0.01175508]\n",
      "[1. 0. 0.] <-> [0.93015194 0.01756842 0.0522797 ]\n",
      "[1. 0. 0.] <-> [0.8574387  0.10920641 0.03335493]\n",
      "[1. 0. 0.] <-> [0.9288674  0.02115429 0.04997831]\n",
      "[1. 0. 0.] <-> [0.88374364 0.05653519 0.05972121]\n",
      "[1. 0. 0.] <-> [0.90003085 0.08178406 0.01818507]\n",
      "[1. 0. 0.] <-> [0.8528299  0.02839088 0.11877927]\n",
      "[1. 0. 0.] <-> [0.9277235  0.01811761 0.0541588 ]\n",
      "[1. 0. 0.] <-> [0.7313661  0.22862965 0.04000426]\n",
      "[1. 0. 0.] <-> [0.74389315 0.22925122 0.02685565]\n",
      "[1. 0. 0.] <-> [0.8235599  0.13995571 0.03648436]\n",
      "[1. 0. 0.] <-> [0.59407866 0.29040423 0.11551709]\n",
      "[1. 0. 0.] <-> [0.652483   0.32375723 0.0237598 ]\n",
      "[1. 0. 0.] <-> [0.9369582  0.02260126 0.04044052]\n",
      "[0. 0. 1.] <-> [0.69759864 0.01100762 0.2913938 ]\n",
      "[0. 1. 0.] <-> [0.08640166 0.90595156 0.00764675]\n",
      "[0. 1. 0.] <-> [0.07468968 0.91990596 0.00540428]\n",
      "[1. 0. 0.] <-> [0.5111918  0.46769577 0.02111248]\n",
      "[1. 0. 0.] <-> [0.9533353  0.02307287 0.02359191]\n",
      "[1. 0. 0.] <-> [0.9488823  0.02462154 0.02649617]\n",
      "[1. 0. 0.] <-> [0.58276916 0.38351905 0.0337118 ]\n",
      "[0. 1. 0.] <-> [0.27826944 0.7017927  0.0199379 ]\n",
      "[0. 0. 1.] <-> [0.009789   0.01340552 0.97680545]\n",
      "[1. 0. 0.] <-> [0.89835066 0.03064945 0.07099989]\n",
      "[1. 0. 0.] <-> [0.3820592  0.5944726  0.02346829]\n",
      "[1. 0. 0.] <-> [0.92189103 0.061441   0.01666796]\n",
      "[1. 0. 0.] <-> [0.9128652  0.06528721 0.0218475 ]\n",
      "[1. 0. 0.] <-> [0.6403562  0.02631566 0.33332813]\n",
      "[1. 0. 0.] <-> [0.9530079  0.02609789 0.02089419]\n",
      "[1. 0. 0.] <-> [0.9331367  0.04706562 0.01979766]\n",
      "[0. 0. 1.] <-> [0.39144227 0.00557704 0.60298073]\n",
      "[1. 0. 0.] <-> [0.8505951  0.03135758 0.11804732]\n",
      "[1. 0. 0.] <-> [0.94570214 0.02662002 0.02767781]\n",
      "[0. 0. 1.] <-> [0.33544597 0.00296367 0.6615904 ]\n",
      "[1. 0. 0.] <-> [0.9432587  0.02827208 0.02846919]\n",
      "[1. 0. 0.] <-> [0.9144433  0.02185473 0.06370202]\n",
      "[1. 0. 0.] <-> [0.86828595 0.03073158 0.1009825 ]\n",
      "[1. 0. 0.] <-> [0.9440832  0.04025188 0.01566489]\n",
      "[1. 0. 0.] <-> [0.92689794 0.05473566 0.01836644]\n",
      "[0. 0. 1.] <-> [0.7645311  0.01408369 0.22138527]\n",
      "[0. 1. 0.] <-> [0.13472629 0.8532403  0.01203338]\n",
      "[1. 0. 0.] <-> [0.93050927 0.04560707 0.02388364]\n",
      "[1. 0. 0.] <-> [0.8430719  0.12246635 0.0344618 ]\n",
      "[1. 0. 0.] <-> [0.67088884 0.30722588 0.02188523]\n",
      "[1. 0. 0.] <-> [0.89723605 0.08112984 0.02163416]\n",
      "[0. 0. 1.] <-> [0.0064436  0.00709615 0.9864602 ]\n",
      "[1. 0. 0.] <-> [0.94125587 0.03592712 0.02281695]\n",
      "[1. 0. 0.] <-> [0.9351123  0.04195139 0.02293633]\n",
      "[0. 1. 0.] <-> [0.47937113 0.50428915 0.01633976]\n",
      "[0. 0. 1.] <-> [0.34751248 0.00737577 0.6451118 ]\n",
      "[1. 0. 0.] <-> [0.9124162  0.06456079 0.02302294]\n",
      "[1. 0. 0.] <-> [0.87044    0.11076319 0.01879673]\n",
      "[1. 0. 0.] <-> [0.92746484 0.02863112 0.04390398]\n",
      "[1. 0. 0.] <-> [0.9266964  0.03678288 0.03652062]\n",
      "[1. 0. 0.] <-> [0.66931194 0.2877189  0.04296914]\n",
      "[1. 0. 0.] <-> [0.89239687 0.08324023 0.02436296]\n",
      "[1. 0. 0.] <-> [0.92275095 0.03342179 0.04382728]\n",
      "[1. 0. 0.] <-> [0.8195752  0.0975124  0.08291234]\n",
      "[0. 1. 0.] <-> [0.0681751  0.9277268  0.00409806]\n",
      "[1. 0. 0.] <-> [0.9405971  0.03778107 0.02162184]\n",
      "[1. 0. 0.] <-> [0.8316568  0.1348218  0.03352143]\n",
      "[1. 0. 0.] <-> [0.8783019  0.08133081 0.0403672 ]\n",
      "[1. 0. 0.] <-> [0.7843571  0.01380795 0.201835  ]\n",
      "[1. 0. 0.] <-> [0.94779605 0.02962929 0.02257478]\n",
      "[1. 0. 0.] <-> [0.90664613 0.06081897 0.03253494]\n",
      "[1. 0. 0.] <-> [0.7698208  0.14846732 0.08171187]\n",
      "[1. 0. 0.] <-> [0.89536744 0.01313387 0.09149869]\n",
      "[1. 0. 0.] <-> [0.92315096 0.06223395 0.01461501]\n",
      "[1. 0. 0.] <-> [0.89882696 0.04864769 0.05252539]\n",
      "[0. 1. 0.] <-> [0.08915401 0.90274453 0.00810152]\n",
      "[1. 0. 0.] <-> [0.71691525 0.02573094 0.25735384]\n",
      "[1. 0. 0.] <-> [0.91326284 0.01871534 0.06802187]\n",
      "[1. 0. 0.] <-> [0.94869703 0.02504696 0.02625599]\n",
      "[1. 0. 0.] <-> [0.90178305 0.05178433 0.04643256]\n",
      "[0. 0. 1.] <-> [0.63173527 0.00788498 0.3603798 ]\n",
      "[0. 0. 1.] <-> [0.12084666 0.00097404 0.8781794 ]\n",
      "[1. 0. 0.] <-> [0.9154658  0.01586931 0.06866492]\n",
      "{'accuracy': 0.9753086419753086, 'mean_square_error': 0.09374595079921948, 'categorical_crossentropy': 0.2047591386017976, 'precision': 0.9629629629629629, 'recall': 0.9629629629629629, 'f1': 0.9629629629629629, 'essential_metrics': {0: {'tp_hit': 77, 'fp_hit': 3, 'tn_hit': 27, 'fn_hit': 1}, 1: {'tp_hit': 16, 'fp_hit': 1, 'tn_hit': 91, 'fn_hit': 0}, 2: {'tp_hit': 11, 'fp_hit': 0, 'tn_hit': 94, 'fn_hit': 3}}}\n"
     ]
    }
   ],
   "source": [
    "# recall phase\n",
    "score = model.evaluate(x_test, y_test, False)\n",
    "print(score)"
   ]
  },
  {
   "cell_type": "code",
   "execution_count": 12,
   "metadata": {},
   "outputs": [],
   "source": [
    "# Testing Performance"
   ]
  },
  {
   "cell_type": "code",
   "execution_count": 13,
   "metadata": {},
   "outputs": [
    {
     "name": "stderr",
     "output_type": "stream",
     "text": [
      "C:\\Users\\tcumi\\Anaconda3\\envs\\py_3_6\\lib\\site-packages\\numpy\\core\\_asarray.py:136: VisibleDeprecationWarning: Creating an ndarray from ragged nested sequences (which is a list-or-tuple of lists-or-tuples-or ndarrays with different lengths or shapes) is deprecated. If you meant to do this, you must specify 'dtype=object' when creating the ndarray\n",
      "  return array(a, dtype, copy=False, order=order, subok=True)\n"
     ]
    },
    {
     "data": {
      "image/png": "[encoded data removed]",
      "text/plain": [
       "<Figure size 864x360 with 1 Axes>"
      ]
     },
     "metadata": {
      "needs_background": "light"
     },
     "output_type": "display_data"
    },
    {
     "data": {
      "image/png": "[encoded data removed]",
      "text/plain": [
       "<Figure size 864x360 with 1 Axes>"
      ]
     },
     "metadata": {
      "needs_background": "light"
     },
     "output_type": "display_data"
    }
   ],
   "source": [
    "draw_plot(x = [[i for i in range(len(history))], [(i+1)*breakpoint for i in range(len(checkpoints))]], y_list = [history, [ ckp[model.loss_fn] for ckp in checkpoints ]], x_label = 'Epochs', \\\n",
    "    y_label = model.loss_fn, legend=['train', 'test'])\n",
    "acc = [ ckp['accuracy'] for ckp in checkpoints ]\n",
    "draw_plot(x = [[(i+1)*breakpoint for i in range(len(checkpoints))]], y_list = [acc], x_label = 'Checkpoints', \\\n",
    "    y_label = 'accuracy')"
   ]
  },
  {
   "cell_type": "code",
   "execution_count": 14,
   "metadata": {
    "scrolled": false
   },
   "outputs": [
    {
     "name": "stdout",
     "output_type": "stream",
     "text": [
      "{'accuracy': 0.9691358024691358, 'mean_square_error': 0.13292123512528023, 'categorical_crossentropy': 0.2727836149710196, 'precision': 0.9537037037037037, 'recall': 0.9537037037037037, 'f1': 0.9537037037037037, 'essential_metrics': {0: {'tp_hit': 76, 'fp_hit': 3, 'tn_hit': 27, 'fn_hit': 2}, 1: {'tp_hit': 16, 'fp_hit': 2, 'tn_hit': 90, 'fn_hit': 0}, 2: {'tp_hit': 11, 'fp_hit': 0, 'tn_hit': 94, 'fn_hit': 3}}, 'checkpoint': 100} \n",
      "\n",
      "\n",
      "{'accuracy': 0.9629629629629629, 'mean_square_error': 0.1040923170829391, 'categorical_crossentropy': 0.22502146826850045, 'precision': 0.9444444444444444, 'recall': 0.9444444444444444, 'f1': 0.9444444444444444, 'essential_metrics': {0: {'tp_hit': 77, 'fp_hit': 5, 'tn_hit': 25, 'fn_hit': 1}, 1: {'tp_hit': 15, 'fp_hit': 1, 'tn_hit': 91, 'fn_hit': 1}, 2: {'tp_hit': 10, 'fp_hit': 0, 'tn_hit': 94, 'fn_hit': 4}}, 'checkpoint': 200} \n",
      "\n",
      "\n",
      "{'accuracy': 0.9691358024691358, 'mean_square_error': 0.09540757517686266, 'categorical_crossentropy': 0.20816414444534867, 'precision': 0.9537037037037037, 'recall': 0.9537037037037037, 'f1': 0.9537037037037037, 'essential_metrics': {0: {'tp_hit': 77, 'fp_hit': 4, 'tn_hit': 26, 'fn_hit': 1}, 1: {'tp_hit': 15, 'fp_hit': 1, 'tn_hit': 91, 'fn_hit': 1}, 2: {'tp_hit': 11, 'fp_hit': 0, 'tn_hit': 94, 'fn_hit': 3}}, 'checkpoint': 300} \n",
      "\n",
      "\n",
      "{'accuracy': 0.9691358024691358, 'mean_square_error': 0.09077250104361632, 'categorical_crossentropy': 0.2000668313768175, 'precision': 0.9537037037037037, 'recall': 0.9537037037037037, 'f1': 0.9537037037037037, 'essential_metrics': {0: {'tp_hit': 77, 'fp_hit': 4, 'tn_hit': 26, 'fn_hit': 1}, 1: {'tp_hit': 15, 'fp_hit': 1, 'tn_hit': 91, 'fn_hit': 1}, 2: {'tp_hit': 11, 'fp_hit': 0, 'tn_hit': 94, 'fn_hit': 3}}, 'checkpoint': 400} \n",
      "\n",
      "\n",
      "{'accuracy': 0.9753086419753086, 'mean_square_error': 0.09374595079921948, 'categorical_crossentropy': 0.2047591386017976, 'precision': 0.9629629629629629, 'recall': 0.9629629629629629, 'f1': 0.9629629629629629, 'essential_metrics': {0: {'tp_hit': 77, 'fp_hit': 3, 'tn_hit': 27, 'fn_hit': 1}, 1: {'tp_hit': 16, 'fp_hit': 1, 'tn_hit': 91, 'fn_hit': 0}, 2: {'tp_hit': 11, 'fp_hit': 0, 'tn_hit': 94, 'fn_hit': 3}}, 'checkpoint': 500} \n",
      "\n",
      "\n"
     ]
    }
   ],
   "source": [
    "for checkpoint in checkpoints:\n",
    "    print(checkpoint, '\\n\\n')"
   ]
  },
  {
   "cell_type": "code",
   "execution_count": 15,
   "metadata": {},
   "outputs": [
    {
     "name": "stdout",
     "output_type": "stream",
     "text": [
      "Layer 1\n",
      "Neuron 0: weights:\n",
      "[ 0.11974683 -2.2832785   0.00433881  0.91979885  0.4422887 ]\n",
      " bias: -1.926969289779663\n",
      "\n",
      "Neuron 1: weights:\n",
      "[-1.058239    1.8906678   1.8262849   0.02049026  1.3164638 ]\n",
      " bias: -0.6488260626792908\n",
      "\n",
      "Neuron 2: weights:\n",
      "[ 0.03889314 -0.039382   -0.07554938  0.00360005  0.02461772]\n",
      " bias: -0.2788125276565552\n",
      "\n",
      "Neuron 3: weights:\n",
      "[-0.28496698  0.46573186 -0.03365091 -0.01498451 -1.6620013 ]\n",
      " bias: -0.0212653037160635\n",
      "\n",
      "$\n",
      "Layer 2\n",
      "Neuron 0: weights:\n",
      "[-2.3800063  -3.         -0.0367403   0.31941238]\n",
      " bias: 2.3674988746643066\n",
      "\n",
      "Neuron 1: weights:\n",
      "[-2.3658388   3.         -0.19605036  2.0560353 ]\n",
      " bias: -2.6370861530303955\n",
      "\n",
      "Neuron 2: weights:\n",
      "[ 2.7709303  -0.01568425 -0.01964541 -3.        ]\n",
      " bias: -0.2473212033510208\n",
      "\n",
      "$\n",
      "\n"
     ]
    }
   ],
   "source": [
    "print(model)"
   ]
  }
 ],
 "metadata": {
  "kernelspec": {
   "display_name": "Python 3",
   "language": "python",
   "name": "python3"
  },
  "language_info": {
   "codemirror_mode": {
    "name": "ipython",
    "version": 3
   },
   "file_extension": ".py",
   "mimetype": "text/x-python",
   "name": "python",
   "nbconvert_exporter": "python",
   "pygments_lexer": "ipython3",
   "version": "3.6.10"
  }
 },
 "nbformat": 4,
 "nbformat_minor": 2
}
