{
 "cells": [
  {
   "cell_type": "code",
   "execution_count": 1,
   "metadata": {},
   "outputs": [],
   "source": [
    "# dependency\n",
    "import numpy as np\n",
    "import pandas as pd\n",
    "import copy\n",
    "import math\n",
    "import sys\n",
    "import os\n",
    "from activations import relu, leaky_relu, sigmoid, tanh, softmax, d_sigmoid, d_relu\n",
    "from initializers import glorot_uniform, random_normal, random_uniform\n",
    "from regularizers import l1_regularizer, l2_regularizer\n",
    "from utility import trim_tail, multiply, subtract, get_nparams, one_hot_encoding, get_data\n",
    "from metrics import MSE, CCE, ACC, PRECISION, RECALL, essential_metrics, wondering_penalty, close_gap_penalty\n",
    "from pso import PSO\n",
    "from ga import GA\n",
    "from nn import Network\n",
    "from layer import DenseLayer\n",
    "from scalers import MinMaxScaler, StandardScaler"
   ]
  },
  {
   "cell_type": "code",
   "execution_count": 2,
   "metadata": {},
   "outputs": [],
   "source": [
    "# reference\n",
    "metrics_fn_dict = dict()\n",
    "metrics_fn_dict['accuracy'] = ACC\n",
    "metrics_fn_dict['categorical_crossentropy'] = CCE\n",
    "metrics_fn_dict['mean_square_error'] = MSE\n",
    "metrics_fn_dict['precision'] = PRECISION\n",
    "metrics_fn_dict['recall'] = RECALL\n",
    "metrics_fn_dict['essential_metrics'] = essential_metrics"
   ]
  },
  {
   "cell_type": "code",
   "execution_count": 3,
   "metadata": {},
   "outputs": [],
   "source": [
    "# model\n",
    "model = Network(5, lr = None)\n",
    "model.add_layer(DenseLayer(1, 4, True, afn=sigmoid, dafn=None, rfn=None))\n",
    "model.add_layer(DenseLayer(2, 3, True, afn=softmax, dafn=None, rfn=None))"
   ]
  },
  {
   "cell_type": "code",
   "execution_count": 4,
   "metadata": {},
   "outputs": [
    {
     "name": "stdout",
     "output_type": "stream",
     "text": [
      "see one see two 2 0.5\n"
     ]
    }
   ],
   "source": [
    "pso = PSO(dict(m = 50,\n",
    "    weight_constraint = [-3, 3], \n",
    "    velocity_constraint = [-0.1, 0.1],\n",
    "    c1 = [0.5, 2],\n",
    "    c2 = [0.5, 2],\n",
    "    w = [0.5, 1.6],\n",
    "    w_decay = 0.95,\n",
    "    scale_hyperparameter = False,\n",
    "    regularizer = None,\n",
    "    mask = True))"
   ]
  },
  {
   "cell_type": "code",
   "execution_count": 5,
   "metadata": {},
   "outputs": [
    {
     "name": "stdout",
     "output_type": "stream",
     "text": [
      "building layer 1 with 5\n",
      "24\n",
      "building layer 2 with 4\n",
      "15\n"
     ]
    }
   ],
   "source": [
    "model.compile(loss_fn = 'categorical_crossentropy', optimizer = pso, \\\n",
    "    metrics = ['accuracy', 'mean_square_error', 'categorical_crossentropy'])"
   ]
  },
  {
   "cell_type": "code",
   "execution_count": 6,
   "metadata": {},
   "outputs": [
    {
     "name": "stdout",
     "output_type": "stream",
     "text": [
      "<class 'pandas.core.frame.DataFrame'>\n",
      "RangeIndex: 107 entries, 0 to 106\n",
      "Data columns (total 6 columns):\n",
      " #   Column  Non-Null Count  Dtype  \n",
      "---  ------  --------------  -----  \n",
      " 0   f1      107 non-null    float32\n",
      " 1   f2      107 non-null    float32\n",
      " 2   f3      107 non-null    float32\n",
      " 3   f4      107 non-null    float32\n",
      " 4   f5      107 non-null    float32\n",
      " 5   label   107 non-null    float32\n",
      "dtypes: float32(6)\n",
      "memory usage: 2.6 KB\n",
      "None\n",
      "<class 'pandas.core.frame.DataFrame'>\n",
      "RangeIndex: 108 entries, 0 to 107\n",
      "Data columns (total 6 columns):\n",
      " #   Column  Non-Null Count  Dtype  \n",
      "---  ------  --------------  -----  \n",
      " 0   f1      108 non-null    float32\n",
      " 1   f2      108 non-null    float32\n",
      " 2   f3      108 non-null    float32\n",
      " 3   f4      108 non-null    float32\n",
      " 4   f5      108 non-null    float32\n",
      " 5   label   108 non-null    float32\n",
      "dtypes: float32(6)\n",
      "memory usage: 2.7 KB\n",
      "None\n"
     ]
    }
   ],
   "source": [
    "# data loading\n",
    "DATA = os.path.join('c:\\\\Users\\\\tcumi\\\\github_repo\\\\neural-network\\\\', 'dataset')\n",
    "GROUP = 4\n",
    "COLUMNS = ['f1', 'f2', 'f3', 'f4', 'f5', 'label']\n",
    "N_CLASS = 3\n",
    "EPOCHS = 500\n",
    "train_dir, test_dir = \"..//dataset//training_data{}.txt\".format(GROUP), \"..//dataset//testing_data{}.txt\".format(GROUP)\n",
    "train, test = get_data(DATA, train_dir, COLUMNS), get_data(DATA, test_dir, COLUMNS)\n",
    "# shuffle\n",
    "train, test = train.sample(frac=1), test.sample(frac=1)\n",
    "x_train, y_train = train.drop('label', axis=1), train['label']\n",
    "x_test, y_test = test.drop('label', axis=1), test['label']"
   ]
  },
  {
   "cell_type": "code",
   "execution_count": 7,
   "metadata": {},
   "outputs": [],
   "source": [
    "# data scaling and encoding\n",
    "scaler = StandardScaler(['f1', 'f2', 'f3', 'f4', 'f5'])\n",
    "scaler.fit(x_train)\n",
    "x_train = scaler.transform(x_train)\n",
    "x_test = scaler.transform(x_test)\n",
    "y_train = one_hot_encoding(y_train, N_CLASS)\n",
    "y_test = one_hot_encoding(y_test, N_CLASS)"
   ]
  },
  {
   "cell_type": "code",
   "execution_count": 8,
   "metadata": {
    "tags": [
     "outputPrepend"
    ]
   },
   "outputs": [
    {
     "name": "stdout",
     "output_type": "stream",
     "text": [
      "Checkpoint 100, Accuracy: 0.8888888888888888, Loss: 0.3657203956886574\n",
      "Checkpoint 200, Accuracy: 0.9629629629629629, Loss: 0.11733051582618996\n",
      "Checkpoint 300, Accuracy: 0.9629629629629629, Loss: 0.10611433453030056\n",
      "Checkpoint 400, Accuracy: 0.9691358024691358, Loss: 0.10376124028806333\n",
      "Checkpoint 500, Accuracy: 0.9691358024691358, Loss: 0.10963959164089626\n"
     ]
    }
   ],
   "source": [
    "# learning phase\n",
    "breakpoint = 100\n",
    "checkpoints = list()\n",
    "history = list()\n",
    "for century in range(0, EPOCHS, breakpoint):\n",
    "    sub_history = model.fit(x_train, y_train, breakpoint, verbose = 0)\n",
    "    score = model.evaluate(x_test, y_test, False, verbose = 0)\n",
    "    print('Checkpoint {}, Accuracy: {}, Loss: {}'.format(century+breakpoint, score['accuracy'], score[model.loss_fn]))\n",
    "    score['checkpoint'] = century + breakpoint\n",
    "    checkpoints.append(score)\n",
    "    history.extend(sub_history)\n",
    "    itr = century + breakpoint\n",
    "    model.optimizer.c2 = np.max([model.optimizer.C2[1] - ((model.optimizer.C2[1] - model.optimizer.C2[0]) * itr / EPOCHS), model.optimizer.C2[0]])\n",
    "    model.optimizer.c1 = np.min([model.optimizer.C1[0] + ((model.optimizer.C1[1] - model.optimizer.C1[0]) * itr / EPOCHS), model.optimizer.C1[1]])\n",
    "    model.optimizer.w = np.max([model.optimizer.w * model.optimizer.W_Decay, model.optimizer.W[0]])"
   ]
  },
  {
   "cell_type": "code",
   "execution_count": 9,
   "metadata": {},
   "outputs": [],
   "source": [
    "import matplotlib.pyplot as plt\n",
    "\n",
    "def draw_plot(x, y_list, x_label=None, y_label=None, legend=None, title=None):\n",
    "    fig, ax = plt.subplots(figsize=(12,5))\n",
    "    for xi, yi in zip(x, y_list):\n",
    "        ax.plot(xi, yi)\n",
    "    if x_label is not None and y_label is not None:\n",
    "        ax.set(xlabel=x_label, ylabel=y_label, title='{} VS {}'.format(x_label, y_label))\n",
    "    if legend is not None:\n",
    "        ax.legend(legend)\n",
    "    ax.grid()\n",
    "    plt.show()"
   ]
  },
  {
   "cell_type": "code",
   "execution_count": 10,
   "metadata": {},
   "outputs": [
    {
     "name": "stdout",
     "output_type": "stream",
     "text": [
      "[1. 0. 0.] <-> [0.9946584  0.00291655 0.00242504]\n",
      "[0. 1. 0.] <-> [5.4528583e-03 9.9442434e-01 1.2281198e-04]\n",
      "[1. 0. 0.] <-> [0.9874163  0.01014903 0.00243474]\n",
      "[1. 0. 0.] <-> [0.991398   0.00181819 0.00678384]\n",
      "[1. 0. 0.] <-> [0.9948527  0.00318972 0.00195752]\n",
      "[0. 1. 0.] <-> [0.12115787 0.87764084 0.0012013 ]\n",
      "[1. 0. 0.] <-> [0.9969253  0.00148685 0.00158782]\n",
      "[0. 0. 1.] <-> [0.5466531  0.00146322 0.4518837 ]\n",
      "[1. 0. 0.] <-> [0.9955225  0.00242135 0.00205613]\n",
      "[0. 0. 1.] <-> [0.54715806 0.00171933 0.4511226 ]\n",
      "[1. 0. 0.] <-> [0.9958704  0.00160847 0.00252107]\n",
      "[0. 1. 0.] <-> [1.1006803e-02 9.8877990e-01 2.1332443e-04]\n",
      "[1. 0. 0.] <-> [0.9643223  0.00242377 0.03325399]\n",
      "[1. 0. 0.] <-> [0.96432066 0.00223936 0.03343997]\n",
      "[1. 0. 0.] <-> [0.99226135 0.00137458 0.00636412]\n",
      "[1. 0. 0.] <-> [0.9946384  0.00212613 0.00323556]\n",
      "[1. 0. 0.] <-> [0.99631774 0.00167677 0.00200542]\n",
      "[1. 0. 0.] <-> [0.976315   0.00187246 0.02181259]\n",
      "[1. 0. 0.] <-> [0.99621093 0.0013775  0.00241155]\n",
      "[1. 0. 0.] <-> [0.9751027  0.00950443 0.01539276]\n",
      "[1. 0. 0.] <-> [0.9958896  0.00268462 0.00142586]\n",
      "[1. 0. 0.] <-> [0.99551976 0.00297114 0.00150913]\n",
      "[0. 1. 0.] <-> [6.2020062e-03 9.9366105e-01 1.3696980e-04]\n",
      "[1. 0. 0.] <-> [0.9972807  0.00141551 0.00130375]\n",
      "[1. 0. 0.] <-> [0.9961933  0.001904   0.00190265]\n",
      "[1. 0. 0.] <-> [0.9860124  0.00340203 0.0105856 ]\n",
      "[1. 0. 0.] <-> [0.99652076 0.00169769 0.00178157]\n",
      "[0. 0. 1.] <-> [8.2956040e-03 5.4678298e-05 9.9164975e-01]\n",
      "[1. 0. 0.] <-> [0.9963905  0.00201762 0.00159188]\n",
      "[0. 1. 0.] <-> [5.4363906e-03 9.9444145e-01 1.2214959e-04]\n",
      "[1. 0. 0.] <-> [0.99424416 0.00136134 0.00439447]\n",
      "[1. 0. 0.] <-> [0.99623424 0.00221822 0.00154754]\n",
      "[0. 0. 1.] <-> [9.2830891e-03 5.8883033e-05 9.9065804e-01]\n",
      "[1. 0. 0.] <-> [1.0427819e-01 4.5874657e-04 8.9526308e-01]\n",
      "[0. 0. 1.] <-> [9.4248354e-03 5.9733407e-05 9.9051547e-01]\n",
      "[0. 1. 0.] <-> [5.4352847e-03 9.9444252e-01 1.2220994e-04]\n",
      "[1. 0. 0.] <-> [0.99546874 0.00274997 0.00178128]\n",
      "[1. 0. 0.] <-> [0.99670416 0.00192087 0.0013749 ]\n",
      "[1. 0. 0.] <-> [0.98894006 0.00149718 0.00956268]\n",
      "[1. 0. 0.] <-> [0.8326554  0.00230619 0.16503848]\n",
      "[0. 0. 1.] <-> [5.7337126e-03 3.8116708e-05 9.9422812e-01]\n",
      "[1. 0. 0.] <-> [0.9971986  0.00119107 0.00161032]\n",
      "[1. 0. 0.] <-> [0.95323664 0.04395057 0.0028128 ]\n",
      "[1. 0. 0.] <-> [0.9956664  0.00285179 0.00148174]\n",
      "[1. 0. 0.] <-> [0.5061556  0.49034098 0.00350336]\n",
      "[1. 0. 0.] <-> [0.9935122  0.00476793 0.00171988]\n",
      "[1. 0. 0.] <-> [0.99546176 0.00297912 0.00155903]\n",
      "[1. 0. 0.] <-> [0.9968342  0.00185991 0.00130581]\n",
      "[1. 0. 0.] <-> [0.9968279  0.00139516 0.00177684]\n",
      "[1. 0. 0.] <-> [0.9931519  0.00149376 0.00535436]\n",
      "[1. 0. 0.] <-> [0.7093263  0.2869576  0.00371612]\n",
      "[1. 0. 0.] <-> [0.9948139  0.00144753 0.00373853]\n",
      "[1. 0. 0.] <-> [0.9965642  0.00139213 0.00204373]\n",
      "[0. 0. 1.] <-> [5.7362583e-03 3.8126465e-05 9.9422568e-01]\n",
      "[1. 0. 0.] <-> [0.993958   0.00149949 0.00454249]\n",
      "[1. 0. 0.] <-> [0.9892174  0.00792969 0.00285291]\n",
      "[0. 0. 1.] <-> [5.732735e-03 3.810319e-05 9.942292e-01]\n",
      "[0. 0. 1.] <-> [1.0183684e-02 6.6469314e-05 9.8974985e-01]\n",
      "[0. 1. 0.] <-> [3.4945015e-02 9.6456891e-01 4.8601089e-04]\n",
      "[1. 0. 0.] <-> [0.98707855 0.00151845 0.01140309]\n",
      "[1. 0. 0.] <-> [0.9966629  0.00145776 0.0018793 ]\n",
      "[1. 0. 0.] <-> [0.9971208  0.00133145 0.00154777]\n",
      "[0. 1. 0.] <-> [1.6152173e-02 9.8356676e-01 2.8109402e-04]\n",
      "[1. 0. 0.] <-> [0.99659145 0.00177666 0.00163186]\n",
      "[1. 0. 0.] <-> [0.7690978  0.22747141 0.00343076]\n",
      "[1. 0. 0.] <-> [0.9954176  0.001915   0.00266744]\n",
      "[1. 0. 0.] <-> [8.0259897e-02 9.1883934e-01 9.0080482e-04]\n",
      "[1. 0. 0.] <-> [0.99370885 0.00192366 0.00436742]\n",
      "[0. 1. 0.] <-> [5.4345420e-03 9.9444324e-01 1.2225432e-04]\n",
      "[0. 0. 1.] <-> [3.4040116e-02 1.6266608e-04 9.6579719e-01]\n",
      "[1. 0. 0.] <-> [0.99692047 0.00169116 0.00138839]\n",
      "[1. 0. 0.] <-> [0.9973022  0.00124736 0.00145044]\n",
      "[1. 0. 0.] <-> [0.9941882  0.00400518 0.00180668]\n",
      "[1. 0. 0.] <-> [0.99533075 0.00150246 0.00316674]\n",
      "[0. 0. 1.] <-> [5.0461765e-02 2.3159264e-04 9.4930667e-01]\n",
      "[1. 0. 0.] <-> [0.9950088  0.00350834 0.00148275]\n",
      "[1. 0. 0.] <-> [0.5615988  0.00217596 0.43622527]\n",
      "[1. 0. 0.] <-> [0.97401434 0.02324141 0.00274426]\n",
      "[1. 0. 0.] <-> [0.8466089  0.00202672 0.15136437]\n",
      "[0. 1. 0.] <-> [5.4364242e-03 9.9444145e-01 1.2214795e-04]\n",
      "[1. 0. 0.] <-> [0.97918326 0.0152523  0.00556447]\n",
      "[0. 1. 0.] <-> [5.4484592e-03 9.9442792e-01 1.2367654e-04]\n",
      "[1. 0. 0.] <-> [0.9909952  0.00381239 0.00519244]\n",
      "[1. 0. 0.] <-> [0.89144653 0.10532091 0.00323256]\n",
      "[1. 0. 0.] <-> [0.9826466  0.00152837 0.01582506]\n",
      "[1. 0. 0.] <-> [0.51861143 0.47796744 0.0034212 ]\n",
      "[0. 1. 0.] <-> [1.2660652e-02 9.8710966e-01 2.2963945e-04]\n",
      "[1. 0. 0.] <-> [0.9967525  0.00175461 0.00149289]\n",
      "[1. 0. 0.] <-> [0.995484   0.00259618 0.00191984]\n",
      "[0. 0. 1.] <-> [6.1861686e-03 4.1104380e-05 9.9377280e-01]\n",
      "[0. 0. 1.] <-> [5.8909664e-03 3.9124137e-05 9.9406993e-01]\n",
      "[1. 0. 0.] <-> [0.987227   0.01081988 0.00195307]\n",
      "[1. 0. 0.] <-> [0.9925345  0.00567151 0.00179392]\n",
      "[0. 1. 0.] <-> [5.432010e-03 9.944455e-01 1.225108e-04]\n",
      "[1. 0. 0.] <-> [0.28562024 0.71216214 0.00221754]\n",
      "[0. 1. 0.] <-> [5.4361611e-03 9.9444169e-01 1.2216196e-04]\n",
      "[0. 1. 0.] <-> [1.24562215e-02 9.87321138e-01 2.22704475e-04]\n",
      "[0. 0. 1.] <-> [7.4533839e-03 4.8703616e-05 9.9249786e-01]\n",
      "[1. 0. 0.] <-> [0.996759   0.00134437 0.00189669]\n",
      "[1. 0. 0.] <-> [0.99696094 0.00124954 0.00178948]\n",
      "[1. 0. 0.] <-> [0.99602133 0.00248876 0.00148986]\n",
      "[1. 0. 0.] <-> [0.99662626 0.00195254 0.0014212 ]\n",
      "[1. 0. 0.] <-> [0.99685055 0.00132747 0.00182193]\n",
      "[1. 0. 0.] <-> [0.9626323  0.03439141 0.00297623]\n",
      "[1. 0. 0.] <-> [0.99327725 0.00135866 0.00536415]\n",
      "[1. 0. 0.] <-> [0.9962102  0.00152477 0.00226504]\n",
      "[0. 1. 0.] <-> [0.14741005 0.85107553 0.00151446]\n",
      "[1. 0. 0.] <-> [0.944142   0.00176323 0.05409478]\n",
      "{'accuracy': 0.9691358024691358, 'mean_square_error': 0.06802760965086643, 'categorical_crossentropy': 0.10963959164089626, 'essential_metrics': {0: {'tp_hit': 75, 'fp_hit': 2, 'tn_hit': 28, 'fn_hit': 3}, 1: {'tp_hit': 16, 'fp_hit': 2, 'tn_hit': 90, 'fn_hit': 0}, 2: {'tp_hit': 12, 'fp_hit': 1, 'tn_hit': 93, 'fn_hit': 2}}}\n"
     ]
    }
   ],
   "source": [
    "# recall phase\n",
    "score = model.evaluate(x_test, y_test, False)\n",
    "print(score)"
   ]
  },
  {
   "cell_type": "code",
   "execution_count": 11,
   "metadata": {},
   "outputs": [
    {
     "data": {
      "image/png": "[encoded data removed]",
      "text/plain": [
       "<Figure size 864x360 with 1 Axes>"
      ]
     },
     "metadata": {
      "needs_background": "light"
     },
     "output_type": "display_data"
    },
    {
     "data": {
      "image/png": "[encoded data removed]",
      "text/plain": [
       "<Figure size 864x360 with 1 Axes>"
      ]
     },
     "metadata": {
      "needs_background": "light"
     },
     "output_type": "display_data"
    }
   ],
   "source": [
    "draw_plot(x = [[i for i in range(len(history))], [(i+1)*breakpoint for i in range(len(checkpoints))]], y_list = [history, [ ckp[model.loss_fn] for ckp in checkpoints ]], x_label = 'Epochs', \\\n",
    "    y_label = model.loss_fn, legend=['train', 'test'])\n",
    "acc = [ ckp['accuracy'] for ckp in checkpoints ]\n",
    "draw_plot(x = [[(i+1)*breakpoint for i in range(len(checkpoints))]], y_list = [acc], x_label = 'Checkpoints', \\\n",
    "    y_label = 'accuracy')"
   ]
  },
  {
   "cell_type": "code",
   "execution_count": 12,
   "metadata": {},
   "outputs": [
    {
     "name": "stdout",
     "output_type": "stream",
     "text": [
      "{'accuracy': 0.8888888888888888, 'mean_square_error': 0.21477472217457333, 'categorical_crossentropy': 0.3657203956886574, 'essential_metrics': {0: {'tp_hit': 76, 'fp_hit': 16, 'tn_hit': 14, 'fn_hit': 2}, 1: {'tp_hit': 10, 'fp_hit': 0, 'tn_hit': 92, 'fn_hit': 6}, 2: {'tp_hit': 4, 'fp_hit': 2, 'tn_hit': 92, 'fn_hit': 10}}, 'checkpoint': 100} \n",
      "\n",
      "\n",
      "{'accuracy': 0.9629629629629629, 'mean_square_error': 0.06720967490348123, 'categorical_crossentropy': 0.11733051582618996, 'essential_metrics': {0: {'tp_hit': 75, 'fp_hit': 3, 'tn_hit': 27, 'fn_hit': 3}, 1: {'tp_hit': 15, 'fp_hit': 2, 'tn_hit': 90, 'fn_hit': 1}, 2: {'tp_hit': 12, 'fp_hit': 1, 'tn_hit': 93, 'fn_hit': 2}}, 'checkpoint': 200} \n",
      "\n",
      "\n",
      "{'accuracy': 0.9629629629629629, 'mean_square_error': 0.06733482819022324, 'categorical_crossentropy': 0.10611433453030056, 'essential_metrics': {0: {'tp_hit': 75, 'fp_hit': 3, 'tn_hit': 27, 'fn_hit': 3}, 1: {'tp_hit': 15, 'fp_hit': 2, 'tn_hit': 90, 'fn_hit': 1}, 2: {'tp_hit': 12, 'fp_hit': 1, 'tn_hit': 93, 'fn_hit': 2}}, 'checkpoint': 300} \n",
      "\n",
      "\n",
      "{'accuracy': 0.9691358024691358, 'mean_square_error': 0.06427085343780223, 'categorical_crossentropy': 0.10376124028806333, 'essential_metrics': {0: {'tp_hit': 75, 'fp_hit': 2, 'tn_hit': 28, 'fn_hit': 3}, 1: {'tp_hit': 16, 'fp_hit': 2, 'tn_hit': 90, 'fn_hit': 0}, 2: {'tp_hit': 12, 'fp_hit': 1, 'tn_hit': 93, 'fn_hit': 2}}, 'checkpoint': 400} \n",
      "\n",
      "\n",
      "{'accuracy': 0.9691358024691358, 'mean_square_error': 0.06802760965086643, 'categorical_crossentropy': 0.10963959164089626, 'essential_metrics': {0: {'tp_hit': 75, 'fp_hit': 2, 'tn_hit': 28, 'fn_hit': 3}, 1: {'tp_hit': 16, 'fp_hit': 2, 'tn_hit': 90, 'fn_hit': 0}, 2: {'tp_hit': 12, 'fp_hit': 1, 'tn_hit': 93, 'fn_hit': 2}}, 'checkpoint': 500} \n",
      "\n",
      "\n"
     ]
    }
   ],
   "source": [
    "for checkpoint in checkpoints:\n",
    "    print(checkpoint, '\\n\\n')"
   ]
  },
  {
   "cell_type": "code",
   "execution_count": 13,
   "metadata": {},
   "outputs": [
    {
     "name": "stdout",
     "output_type": "stream",
     "text": [
      "Layer 1\n",
      "Neuron 0: weights:\n",
      "[ 1.9121263 -3.        -3.         1.9526408  0.6831539]\n",
      " bias: 3.0\n",
      "\n",
      "Neuron 1: weights:\n",
      "[-0.27128202 -3.          0.41874316  3.          3.        ]\n",
      " bias: -1.8294837474822998\n",
      "\n",
      "Neuron 2: weights:\n",
      "[-2.0726373  3.         3.        -1.1191903 -1.2596573]\n",
      " bias: -3.0\n",
      "\n",
      "Neuron 3: weights:\n",
      "[ 0.15321915 -3.         -0.7896322   0.24051327  3.        ]\n",
      " bias: -3.0\n",
      "\n",
      "$\n",
      "Layer 2\n",
      "Neuron 0: weights:\n",
      "[ 3. -3. -3. -3.]\n",
      " bias: 0.7956632971763611\n",
      "\n",
      "Neuron 1: weights:\n",
      "[-3.        -1.2227081  3.        -3.       ]\n",
      " bias: 0.004717638250440359\n",
      "\n",
      "Neuron 2: weights:\n",
      "[-0.04856269  3.         -3.          3.        ]\n",
      " bias: -3.0\n",
      "\n",
      "$\n",
      "\n"
     ]
    }
   ],
   "source": [
    "print(model)"
   ]
  }
 ],
 "metadata": {
  "kernelspec": {
   "display_name": "Python 3",
   "language": "python",
   "name": "python3"
  },
  "language_info": {
   "codemirror_mode": {
    "name": "ipython",
    "version": 3
   },
   "file_extension": ".py",
   "mimetype": "text/x-python",
   "name": "python",
   "nbconvert_exporter": "python",
   "pygments_lexer": "ipython3",
   "version": "3.6.10"
  }
 },
 "nbformat": 4,
 "nbformat_minor": 2
}
