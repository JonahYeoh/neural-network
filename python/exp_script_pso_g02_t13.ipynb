{
 "cells": [
  {
   "cell_type": "code",
   "execution_count": 1,
   "metadata": {},
   "outputs": [],
   "source": [
    "# dependency\n",
    "import numpy as np\n",
    "import pandas as pd\n",
    "import copy\n",
    "import math\n",
    "import sys\n",
    "import os\n",
    "from activations import relu, leaky_relu, sigmoid, tanh, softmax, d_sigmoid, d_relu\n",
    "from initializers import glorot_uniform, random_normal, random_uniform\n",
    "from regularizers import l1_regularizer, l2_regularizer\n",
    "from utility import trim_tail, multiply, subtract, get_nparams, one_hot_encoding, get_data\n",
    "from metrics import MSE, CCE, ACC, PRECISION, RECALL, essential_metrics, wondering_penalty, close_gap_penalty\n",
    "from pso import PSO\n",
    "from ga import GA\n",
    "from nn import Network\n",
    "from layer import DenseLayer\n",
    "from scalers import MinMaxScaler, StandardScaler"
   ]
  },
  {
   "cell_type": "code",
   "execution_count": 2,
   "metadata": {},
   "outputs": [],
   "source": [
    "# reference\n",
    "metrics_fn_dict = dict()\n",
    "metrics_fn_dict['accuracy'] = ACC\n",
    "metrics_fn_dict['categorical_crossentropy'] = CCE\n",
    "metrics_fn_dict['mean_square_error'] = MSE\n",
    "metrics_fn_dict['precision'] = PRECISION\n",
    "metrics_fn_dict['recall'] = RECALL\n",
    "metrics_fn_dict['essential_metrics'] = essential_metrics"
   ]
  },
  {
   "cell_type": "code",
   "execution_count": 3,
   "metadata": {},
   "outputs": [],
   "source": [
    "# model\n",
    "model = Network(5, lr = None)\n",
    "model.add_layer(DenseLayer(1, 4, True, afn=sigmoid, dafn=None, rfn=None))\n",
    "model.add_layer(DenseLayer(2, 3, True, afn=softmax, dafn=None, rfn=None))"
   ]
  },
  {
   "cell_type": "code",
   "execution_count": 4,
   "metadata": {},
   "outputs": [
    {
     "name": "stdout",
     "output_type": "stream",
     "text": [
      "see one see two 2 2\n"
     ]
    }
   ],
   "source": [
    "pso = PSO(dict(m = 100,\n",
    "    weight_constraint = [-3, 3], \n",
    "    velocity_constraint = [-0.1, 0.1],\n",
    "    c1 = 2,\n",
    "    c2 = 2,\n",
    "    w = 1.2,\n",
    "    w_decay = 1,\n",
    "    scale_hyperparameter = False,\n",
    "    regularizer = None,\n",
    "    mask = True))"
   ]
  },
  {
   "cell_type": "code",
   "execution_count": 5,
   "metadata": {},
   "outputs": [
    {
     "name": "stdout",
     "output_type": "stream",
     "text": [
      "building layer 1 with 5\n",
      "24\n",
      "building layer 2 with 4\n",
      "15\n"
     ]
    }
   ],
   "source": [
    "model.compile(loss_fn = 'categorical_crossentropy', optimizer = pso, \\\n",
    "    metrics = ['accuracy', 'mean_square_error', 'categorical_crossentropy'])"
   ]
  },
  {
   "cell_type": "code",
   "execution_count": 6,
   "metadata": {},
   "outputs": [
    {
     "name": "stdout",
     "output_type": "stream",
     "text": [
      "<class 'pandas.core.frame.DataFrame'>\n",
      "RangeIndex: 107 entries, 0 to 106\n",
      "Data columns (total 6 columns):\n",
      " #   Column  Non-Null Count  Dtype  \n",
      "---  ------  --------------  -----  \n",
      " 0   f1      107 non-null    float32\n",
      " 1   f2      107 non-null    float32\n",
      " 2   f3      107 non-null    float32\n",
      " 3   f4      107 non-null    float32\n",
      " 4   f5      107 non-null    float32\n",
      " 5   label   107 non-null    float32\n",
      "dtypes: float32(6)\n",
      "memory usage: 2.6 KB\n",
      "None\n",
      "<class 'pandas.core.frame.DataFrame'>\n",
      "RangeIndex: 108 entries, 0 to 107\n",
      "Data columns (total 6 columns):\n",
      " #   Column  Non-Null Count  Dtype  \n",
      "---  ------  --------------  -----  \n",
      " 0   f1      108 non-null    float32\n",
      " 1   f2      108 non-null    float32\n",
      " 2   f3      108 non-null    float32\n",
      " 3   f4      108 non-null    float32\n",
      " 4   f5      108 non-null    float32\n",
      " 5   label   108 non-null    float32\n",
      "dtypes: float32(6)\n",
      "memory usage: 2.7 KB\n",
      "None\n"
     ]
    }
   ],
   "source": [
    "# data loading\n",
    "DATA = os.path.join('c:\\\\Users\\\\AI-lab\\\\github_repo\\\\neural-network\\\\', 'dataset')\n",
    "GROUP = 2\n",
    "COLUMNS = ['f1', 'f2', 'f3', 'f4', 'f5', 'label']\n",
    "N_CLASS = 3\n",
    "EPOCHS = 200\n",
    "train_dir, test_dir = \"..//dataset//training_data{}.txt\".format(GROUP), \"..//dataset//testing_data{}.txt\".format(GROUP)\n",
    "train, test = get_data(DATA, train_dir, COLUMNS), get_data(DATA, test_dir, COLUMNS)\n",
    "# shuffle\n",
    "train, test = train.sample(frac=1), test.sample(frac=1)\n",
    "x_train, y_train = train.drop('label', axis=1), train['label']\n",
    "x_test, y_test = test.drop('label', axis=1), test['label']"
   ]
  },
  {
   "cell_type": "code",
   "execution_count": 7,
   "metadata": {},
   "outputs": [],
   "source": [
    "# data scaling and encoding\n",
    "scaler = StandardScaler(['f1', 'f2', 'f3', 'f4', 'f5'])\n",
    "scaler.fit(x_train)\n",
    "x_train = scaler.transform(x_train)\n",
    "x_test = scaler.transform(x_test)\n",
    "y_train = one_hot_encoding(y_train, N_CLASS)\n",
    "y_test = one_hot_encoding(y_test, N_CLASS)"
   ]
  },
  {
   "cell_type": "code",
   "execution_count": 8,
   "metadata": {
    "tags": [
     "outputPrepend"
    ]
   },
   "outputs": [
    {
     "name": "stdout",
     "output_type": "stream",
     "text": [
      "Checkpoint 10, Accuracy: 0.8148148148148148, Loss: 0.7029452147307219\n",
      "Checkpoint 20, Accuracy: 0.845679012345679, Loss: 0.5034391261913158\n",
      "Checkpoint 30, Accuracy: 0.8641975308641975, Loss: 0.49334285877369066\n",
      "Checkpoint 40, Accuracy: 0.8888888888888888, Loss: 0.5264530535097476\n",
      "Checkpoint 50, Accuracy: 0.9506172839506173, Loss: 0.48636676647044996\n",
      "Checkpoint 60, Accuracy: 0.9382716049382716, Loss: 0.3550622374923141\n",
      "Checkpoint 70, Accuracy: 0.9320987654320988, Loss: 0.3298878139919705\n",
      "Checkpoint 80, Accuracy: 0.9629629629629629, Loss: 0.2597290674845378\n",
      "Checkpoint 90, Accuracy: 0.9567901234567902, Loss: 0.24596978999950267\n",
      "Checkpoint 100, Accuracy: 0.9567901234567902, Loss: 0.19442425833808052\n",
      "Checkpoint 110, Accuracy: 0.9629629629629629, Loss: 0.19361148057160554\n",
      "Checkpoint 120, Accuracy: 0.9629629629629629, Loss: 0.19144777015403466\n",
      "Checkpoint 130, Accuracy: 0.9691358024691358, Loss: 0.13688445974279334\n",
      "Checkpoint 140, Accuracy: 0.9691358024691358, Loss: 0.13137870364718968\n",
      "Checkpoint 150, Accuracy: 0.9629629629629629, Loss: 0.1461710841567428\n",
      "Checkpoint 160, Accuracy: 0.9629629629629629, Loss: 0.145113088466503\n",
      "Checkpoint 170, Accuracy: 0.9629629629629629, Loss: 0.13272355220935964\n",
      "Checkpoint 180, Accuracy: 0.9629629629629629, Loss: 0.1268139327013934\n",
      "Checkpoint 190, Accuracy: 0.9629629629629629, Loss: 0.1250525227299443\n",
      "Checkpoint 200, Accuracy: 0.9629629629629629, Loss: 0.1305905712975396\n"
     ]
    }
   ],
   "source": [
    "# learning phase\n",
    "breakpoint = 10\n",
    "checkpoints = list()\n",
    "history = list()\n",
    "for century in range(0, EPOCHS, breakpoint):\n",
    "    sub_history = model.fit(x_train, y_train, breakpoint, verbose = 0)\n",
    "    score = model.evaluate(x_test, y_test, False, verbose = 0)\n",
    "    print('Checkpoint {}, Accuracy: {}, Loss: {}'.format(century+breakpoint, score['accuracy'], score[model.loss_fn]))\n",
    "    score['checkpoint'] = century + breakpoint\n",
    "    checkpoints.append(score)\n",
    "    history.extend(sub_history)"
   ]
  },
  {
   "cell_type": "code",
   "execution_count": 9,
   "metadata": {},
   "outputs": [],
   "source": [
    "import matplotlib.pyplot as plt\n",
    "\n",
    "def draw_plot(x, y_list, x_label=None, y_label=None, legend=None, title=None):\n",
    "    fig, ax = plt.subplots(figsize=(12,5))\n",
    "    for xi, yi in zip(x, y_list):\n",
    "        ax.plot(xi, yi)\n",
    "    if x_label is not None and y_label is not None:\n",
    "        ax.set(xlabel=x_label, ylabel=y_label, title='{} VS {}'.format(x_label, y_label))\n",
    "    if legend is not None:\n",
    "        ax.legend(legend)\n",
    "    ax.grid()\n",
    "    plt.show()"
   ]
  },
  {
   "cell_type": "code",
   "execution_count": 10,
   "metadata": {},
   "outputs": [],
   "source": [
    "train_acc = [h['accuracy'] for h in history]\n",
    "train_mse = [h['mean_square_error'] for h in history]\n",
    "train_cce = [h['categorical_crossentropy'] for h in history]"
   ]
  },
  {
   "cell_type": "code",
   "execution_count": 11,
   "metadata": {},
   "outputs": [
    {
     "name": "stdout",
     "output_type": "stream",
     "text": [
      "[1. 0. 0.] <-> [9.6603972e-01 6.9266075e-04 3.3267591e-02]\n",
      "[1. 0. 0.] <-> [9.8830402e-01 7.9281395e-04 1.0903136e-02]\n",
      "[1. 0. 0.] <-> [0.99518484 0.00198402 0.0028311 ]\n",
      "[1. 0. 0.] <-> [9.8411590e-01 7.5528427e-04 1.5128811e-02]\n",
      "[1. 0. 0.] <-> [0.99524504 0.00113996 0.00361502]\n",
      "[0. 0. 1.] <-> [5.9640915e-03 2.5706534e-06 9.9403340e-01]\n",
      "[1. 0. 0.] <-> [9.9595743e-01 9.9330617e-04 3.0492793e-03]\n",
      "[1. 0. 0.] <-> [9.8474288e-01 7.5473619e-04 1.4502466e-02]\n",
      "[1. 0. 0.] <-> [9.9356890e-01 9.0017956e-04 5.5309534e-03]\n",
      "[1. 0. 0.] <-> [7.9516572e-01 5.0647085e-04 2.0432781e-01]\n",
      "[1. 0. 0.] <-> [0.99576974 0.00131789 0.00291239]\n",
      "[0. 1. 0.] <-> [1.4813092e-02 9.8499334e-01 1.9365179e-04]\n",
      "[0. 0. 1.] <-> [5.9471675e-03 2.5630300e-06 9.9405020e-01]\n",
      "[0. 1. 0.] <-> [3.187726e-02 9.677991e-01 3.235943e-04]\n",
      "[1. 0. 0.] <-> [9.9405861e-01 8.7343063e-04 5.0678756e-03]\n",
      "[0. 0. 1.] <-> [5.9469710e-03 2.5629279e-06 9.9405044e-01]\n",
      "[0. 0. 1.] <-> [5.9469622e-03 2.5629133e-06 9.9405044e-01]\n",
      "[1. 0. 0.] <-> [0.9932476  0.00371574 0.00303659]\n",
      "[1. 0. 0.] <-> [0.98547494 0.01192664 0.00259852]\n",
      "[0. 0. 1.] <-> [5.9469845e-03 2.5629279e-06 9.9405044e-01]\n",
      "[1. 0. 0.] <-> [0.9913291  0.00102194 0.00764895]\n",
      "[1. 0. 0.] <-> [0.9941316  0.00224286 0.0036254 ]\n",
      "[1. 0. 0.] <-> [0.99451363 0.00256844 0.00291805]\n",
      "[0. 1. 0.] <-> [1.8120443e-02 9.8165339e-01 2.2619888e-04]\n",
      "[0. 1. 0.] <-> [0.29409522 0.70391685 0.00198792]\n",
      "[1. 0. 0.] <-> [0.99163496 0.00600801 0.00235702]\n",
      "[1. 0. 0.] <-> [0.9018854  0.0954802  0.00263443]\n",
      "[1. 0. 0.] <-> [0.99438536 0.00114023 0.00447442]\n",
      "[1. 0. 0.] <-> [2.3589769e-01 1.2694951e-04 7.6397532e-01]\n",
      "[1. 0. 0.] <-> [0.995845   0.00104255 0.00311245]\n",
      "[1. 0. 0.] <-> [0.99581486 0.00159299 0.00259216]\n",
      "[1. 0. 0.] <-> [9.9068767e-01 8.2898798e-04 8.4833857e-03]\n",
      "[0. 0. 1.] <-> [5.9469622e-03 2.5629133e-06 9.9405044e-01]\n",
      "[1. 0. 0.] <-> [0.9650452  0.03166122 0.00329355]\n",
      "[1. 0. 0.] <-> [9.9159545e-01 7.9936878e-04 7.6051895e-03]\n",
      "[0. 1. 0.] <-> [1.5180476e-02 9.8462266e-01 1.9687240e-04]\n",
      "[1. 0. 0.] <-> [1.2943807e-02 5.8546830e-06 9.8705029e-01]\n",
      "[1. 0. 0.] <-> [9.891719e-01 9.671137e-04 9.860971e-03]\n",
      "[1. 0. 0.] <-> [0.8878041  0.00098648 0.11120937]\n",
      "[0. 1. 0.] <-> [1.5145166e-02 9.8465663e-01 1.9817956e-04]\n",
      "[0. 1. 0.] <-> [0.7509949  0.23978713 0.00921801]\n",
      "[1. 0. 0.] <-> [9.9229676e-01 9.7339810e-04 6.7298282e-03]\n",
      "[1. 0. 0.] <-> [0.27552128 0.723081   0.00139769]\n",
      "[1. 0. 0.] <-> [0.9945306  0.00313394 0.00233549]\n",
      "[1. 0. 0.] <-> [9.9518484e-01 9.9341536e-04 3.8217134e-03]\n",
      "[1. 0. 0.] <-> [0.99612087 0.00112211 0.00275697]\n",
      "[1. 0. 0.] <-> [9.911317e-01 7.857747e-04 8.082441e-03]\n",
      "[1. 0. 0.] <-> [0.9951342  0.0025181  0.00234762]\n",
      "[1. 0. 0.] <-> [6.4246660e-01 4.0915603e-04 3.5712424e-01]\n",
      "[1. 0. 0.] <-> [0.9963768  0.00101872 0.00260443]\n",
      "[1. 0. 0.] <-> [0.9803311  0.01685484 0.00281414]\n",
      "[1. 0. 0.] <-> [0.9951324  0.00220811 0.0026594 ]\n",
      "[1. 0. 0.] <-> [0.98555017 0.01114329 0.00330658]\n",
      "[1. 0. 0.] <-> [0.9960675  0.00100043 0.00293201]\n",
      "[1. 0. 0.] <-> [0.9947014  0.00176857 0.00353001]\n",
      "[1. 0. 0.] <-> [9.893203e-01 7.739070e-04 9.905867e-03]\n",
      "[0. 1. 0.] <-> [0.11581177 0.88320184 0.00098647]\n",
      "[1. 0. 0.] <-> [3.1816572e-01 1.7374483e-04 6.8166047e-01]\n",
      "[0. 0. 1.] <-> [7.4595390e-03 3.2679793e-06 9.9253720e-01]\n",
      "[0. 1. 0.] <-> [1.4818636e-02 9.8498708e-01 1.9432470e-04]\n",
      "[1. 0. 0.] <-> [9.9479550e-01 8.1681536e-04 4.3876716e-03]\n",
      "[1. 0. 0.] <-> [9.1710621e-01 6.4714404e-04 8.2246698e-02]\n",
      "[1. 0. 0.] <-> [0.9958865  0.00114348 0.00296993]\n",
      "[1. 0. 0.] <-> [9.2660177e-01 6.3928129e-04 7.2759040e-02]\n",
      "[1. 0. 0.] <-> [9.908434e-01 8.901285e-04 8.266467e-03]\n",
      "[1. 0. 0.] <-> [0.9958496  0.00148432 0.00266605]\n",
      "[1. 0. 0.] <-> [9.8753488e-01 8.7053824e-04 1.1594620e-02]\n",
      "[0. 0. 1.] <-> [5.0547734e-02 2.4426192e-05 9.4942784e-01]\n",
      "[1. 0. 0.] <-> [0.99568105 0.00181997 0.002499  ]\n",
      "[1. 0. 0.] <-> [9.4110507e-01 6.6031725e-04 5.8234531e-02]\n",
      "[1. 0. 0.] <-> [0.99392056 0.00237452 0.00370491]\n",
      "[0. 0. 1.] <-> [5.9472863e-03 2.5630638e-06 9.9405009e-01]\n",
      "[1. 0. 0.] <-> [9.901174e-01 7.843606e-04 9.098288e-03]\n",
      "[1. 0. 0.] <-> [9.5129794e-01 6.7890494e-04 4.8023149e-02]\n",
      "[1. 0. 0.] <-> [0.99441165 0.00139524 0.00419307]\n",
      "[1. 0. 0.] <-> [7.6884395e-01 4.8171580e-04 2.3067430e-01]\n",
      "[0. 1. 0.] <-> [2.1646097e-02 9.7810555e-01 2.4836205e-04]\n",
      "[1. 0. 0.] <-> [0.98959863 0.00725279 0.00314865]\n",
      "[1. 0. 0.] <-> [0.7977297  0.19949153 0.00277869]\n",
      "[1. 0. 0.] <-> [0.9951238  0.00230966 0.00256654]\n",
      "[1. 0. 0.] <-> [9.9055874e-01 8.3680876e-04 8.6043626e-03]\n",
      "[0. 0. 1.] <-> [5.9702997e-03 2.5736938e-06 9.9402714e-01]\n",
      "[1. 0. 0.] <-> [9.9242616e-01 7.9820520e-04 6.7756497e-03]\n",
      "[1. 0. 0.] <-> [9.9447519e-01 8.5167121e-04 4.6731355e-03]\n",
      "[0. 0. 1.] <-> [6.0345964e-03 2.6036644e-06 9.9396282e-01]\n",
      "[1. 0. 0.] <-> [9.2206258e-01 6.8688410e-04 7.7250525e-02]\n",
      "[1. 0. 0.] <-> [0.99154824 0.00121037 0.00724142]\n",
      "[1. 0. 0.] <-> [0.9960311  0.00135333 0.00261547]\n",
      "[1. 0. 0.] <-> [9.5142794e-01 6.7529327e-04 4.7896791e-02]\n",
      "[0. 1. 0.] <-> [1.4894094e-02 9.8490912e-01 1.9675661e-04]\n",
      "[0. 0. 1.] <-> [6.2428361e-01 3.8601345e-04 3.7533039e-01]\n",
      "[1. 0. 0.] <-> [9.6825153e-01 7.0317724e-04 3.1045295e-02]\n",
      "[1. 0. 0.] <-> [0.9924739  0.00493007 0.00259603]\n",
      "[1. 0. 0.] <-> [0.99522877 0.00132372 0.00344758]\n",
      "[1. 0. 0.] <-> [9.9533373e-01 9.7597373e-04 3.6903059e-03]\n",
      "[1. 0. 0.] <-> [0.99477935 0.00229234 0.00292833]\n",
      "[0. 1. 0.] <-> [5.353082e-02 9.457717e-01 6.975046e-04]\n",
      "[0. 1. 0.] <-> [2.2381358e-02 9.7735858e-01 2.6003332e-04]\n",
      "[1. 0. 0.] <-> [9.8444438e-01 7.4961630e-04 1.4806021e-02]\n",
      "[1. 0. 0.] <-> [0.9956481  0.00132861 0.00302325]\n",
      "[1. 0. 0.] <-> [9.8813117e-01 8.7835337e-04 1.0990396e-02]\n",
      "[1. 0. 0.] <-> [0.99554515 0.00167696 0.00277786]\n",
      "[1. 0. 0.] <-> [0.9925408  0.00105323 0.00640598]\n",
      "[1. 0. 0.] <-> [0.99600726 0.00106723 0.00292555]\n",
      "[0. 1. 0.] <-> [1.5086764e-02 9.8468268e-01 2.3052761e-04]\n",
      "[1. 0. 0.] <-> [9.7518075e-01 8.1122271e-04 2.4008106e-02]\n",
      "[0. 1. 0.] <-> [0.23591158 0.76297724 0.00111115]\n",
      "[0. 0. 1.] <-> [6.0069216e-03 2.5920058e-06 9.9399054e-01]\n",
      "{'accuracy': 0.9629629629629629, 'mean_square_error': 0.0739358633799629, 'categorical_crossentropy': 0.1305905712975396, 'essential_metrics': {0: {'tp_hit': 76, 'fp_hit': 2, 'tn_hit': 26, 'fn_hit': 4}, 1: {'tp_hit': 14, 'fp_hit': 1, 'tn_hit': 92, 'fn_hit': 1}, 2: {'tp_hit': 12, 'fp_hit': 3, 'tn_hit': 92, 'fn_hit': 1}}}\n"
     ]
    }
   ],
   "source": [
    "# recall phase\n",
    "score = model.evaluate(x_test, y_test, False)\n",
    "print(score)"
   ]
  },
  {
   "cell_type": "code",
   "execution_count": 12,
   "metadata": {},
   "outputs": [
    {
     "data": {
      "image/png": "[encoded data removed]",
      "text/plain": [
       "<Figure size 864x360 with 1 Axes>"
      ]
     },
     "metadata": {
      "needs_background": "light"
     },
     "output_type": "display_data"
    },
    {
     "data": {
      "image/png": "[encoded data removed]",
      "text/plain": [
       "<Figure size 864x360 with 1 Axes>"
      ]
     },
     "metadata": {
      "needs_background": "light"
     },
     "output_type": "display_data"
    }
   ],
   "source": [
    "draw_plot(x = [[i for i in range(len(history))], [(i+1)*breakpoint for i in range(len(checkpoints))]], y_list = [train_cce, [ ckp[model.loss_fn] for ckp in checkpoints ]], x_label = 'Epochs', \\\n",
    "    y_label = model.loss_fn, legend=['train', 'test'])\n",
    "acc = [ ckp['accuracy'] for ckp in checkpoints ]\n",
    "draw_plot(x = [[i for i in range(len(history))], [(i+1)*breakpoint for i in range(len(checkpoints))]], y_list = [train_acc, acc], x_label = 'Checkpoints', \\\n",
    "    y_label = 'accuracy', legend=['train', 'test'])"
   ]
  },
  {
   "cell_type": "code",
   "execution_count": 13,
   "metadata": {},
   "outputs": [
    {
     "name": "stdout",
     "output_type": "stream",
     "text": [
      "{'accuracy': 0.8148148148148148, 'mean_square_error': 0.4210741582174156, 'categorical_crossentropy': 0.7029452147307219, 'essential_metrics': {0: {'tp_hit': 62, 'fp_hit': 12, 'tn_hit': 16, 'fn_hit': 18}, 1: {'tp_hit': 13, 'fp_hit': 13, 'tn_hit': 80, 'fn_hit': 2}, 2: {'tp_hit': 3, 'fp_hit': 5, 'tn_hit': 90, 'fn_hit': 10}}, 'checkpoint': 10} \n",
      "\n",
      "\n",
      "{'accuracy': 0.845679012345679, 'mean_square_error': 0.2957279618794108, 'categorical_crossentropy': 0.5034391261913158, 'essential_metrics': {0: {'tp_hit': 79, 'fp_hit': 24, 'tn_hit': 4, 'fn_hit': 1}, 1: {'tp_hit': 4, 'fp_hit': 1, 'tn_hit': 92, 'fn_hit': 11}, 2: {'tp_hit': 0, 'fp_hit': 0, 'tn_hit': 95, 'fn_hit': 13}}, 'checkpoint': 20} \n",
      "\n",
      "\n",
      "{'accuracy': 0.8641975308641975, 'mean_square_error': 0.2886077523026663, 'categorical_crossentropy': 0.49334285877369066, 'essential_metrics': {0: {'tp_hit': 73, 'fp_hit': 15, 'tn_hit': 13, 'fn_hit': 7}, 1: {'tp_hit': 13, 'fp_hit': 7, 'tn_hit': 86, 'fn_hit': 2}, 2: {'tp_hit': 0, 'fp_hit': 0, 'tn_hit': 95, 'fn_hit': 13}}, 'checkpoint': 30} \n",
      "\n",
      "\n",
      "{'accuracy': 0.8888888888888888, 'mean_square_error': 0.2985055717895709, 'categorical_crossentropy': 0.5264530535097476, 'essential_metrics': {0: {'tp_hit': 67, 'fp_hit': 5, 'tn_hit': 23, 'fn_hit': 13}, 1: {'tp_hit': 13, 'fp_hit': 13, 'tn_hit': 80, 'fn_hit': 2}, 2: {'tp_hit': 10, 'fp_hit': 0, 'tn_hit': 95, 'fn_hit': 3}}, 'checkpoint': 40} \n",
      "\n",
      "\n",
      "{'accuracy': 0.9506172839506173, 'mean_square_error': 0.2674066218370314, 'categorical_crossentropy': 0.48636676647044996, 'essential_metrics': {0: {'tp_hit': 75, 'fp_hit': 3, 'tn_hit': 25, 'fn_hit': 5}, 1: {'tp_hit': 12, 'fp_hit': 2, 'tn_hit': 91, 'fn_hit': 3}, 2: {'tp_hit': 13, 'fp_hit': 3, 'tn_hit': 92, 'fn_hit': 0}}, 'checkpoint': 50} \n",
      "\n",
      "\n",
      "{'accuracy': 0.9382716049382716, 'mean_square_error': 0.18120145435588558, 'categorical_crossentropy': 0.3550622374923141, 'essential_metrics': {0: {'tp_hit': 78, 'fp_hit': 8, 'tn_hit': 20, 'fn_hit': 2}, 1: {'tp_hit': 9, 'fp_hit': 1, 'tn_hit': 92, 'fn_hit': 6}, 2: {'tp_hit': 11, 'fp_hit': 1, 'tn_hit': 94, 'fn_hit': 2}}, 'checkpoint': 60} \n",
      "\n",
      "\n",
      "{'accuracy': 0.9320987654320988, 'mean_square_error': 0.1661914424802918, 'categorical_crossentropy': 0.3298878139919705, 'essential_metrics': {0: {'tp_hit': 79, 'fp_hit': 10, 'tn_hit': 18, 'fn_hit': 1}, 1: {'tp_hit': 6, 'fp_hit': 0, 'tn_hit': 93, 'fn_hit': 9}, 2: {'tp_hit': 12, 'fp_hit': 1, 'tn_hit': 94, 'fn_hit': 1}}, 'checkpoint': 70} \n",
      "\n",
      "\n",
      "{'accuracy': 0.9629629629629629, 'mean_square_error': 0.13111886096791248, 'categorical_crossentropy': 0.2597290674845378, 'essential_metrics': {0: {'tp_hit': 78, 'fp_hit': 4, 'tn_hit': 24, 'fn_hit': 2}, 1: {'tp_hit': 12, 'fp_hit': 0, 'tn_hit': 93, 'fn_hit': 3}, 2: {'tp_hit': 12, 'fp_hit': 2, 'tn_hit': 93, 'fn_hit': 1}}, 'checkpoint': 80} \n",
      "\n",
      "\n",
      "{'accuracy': 0.9567901234567902, 'mean_square_error': 0.12240182942045427, 'categorical_crossentropy': 0.24596978999950267, 'essential_metrics': {0: {'tp_hit': 76, 'fp_hit': 3, 'tn_hit': 25, 'fn_hit': 4}, 1: {'tp_hit': 13, 'fp_hit': 1, 'tn_hit': 92, 'fn_hit': 2}, 2: {'tp_hit': 12, 'fp_hit': 3, 'tn_hit': 92, 'fn_hit': 1}}, 'checkpoint': 90} \n",
      "\n",
      "\n",
      "{'accuracy': 0.9567901234567902, 'mean_square_error': 0.09145328022850661, 'categorical_crossentropy': 0.19442425833808052, 'essential_metrics': {0: {'tp_hit': 76, 'fp_hit': 3, 'tn_hit': 25, 'fn_hit': 4}, 1: {'tp_hit': 13, 'fp_hit': 1, 'tn_hit': 92, 'fn_hit': 2}, 2: {'tp_hit': 12, 'fp_hit': 3, 'tn_hit': 92, 'fn_hit': 1}}, 'checkpoint': 100} \n",
      "\n",
      "\n",
      "{'accuracy': 0.9629629629629629, 'mean_square_error': 0.09975727642397694, 'categorical_crossentropy': 0.19361148057160554, 'essential_metrics': {0: {'tp_hit': 77, 'fp_hit': 3, 'tn_hit': 25, 'fn_hit': 3}, 1: {'tp_hit': 13, 'fp_hit': 0, 'tn_hit': 93, 'fn_hit': 2}, 2: {'tp_hit': 12, 'fp_hit': 3, 'tn_hit': 92, 'fn_hit': 1}}, 'checkpoint': 110} \n",
      "\n",
      "\n",
      "{'accuracy': 0.9629629629629629, 'mean_square_error': 0.09633070909263444, 'categorical_crossentropy': 0.19144777015403466, 'essential_metrics': {0: {'tp_hit': 75, 'fp_hit': 1, 'tn_hit': 27, 'fn_hit': 5}, 1: {'tp_hit': 15, 'fp_hit': 1, 'tn_hit': 92, 'fn_hit': 0}, 2: {'tp_hit': 12, 'fp_hit': 4, 'tn_hit': 91, 'fn_hit': 1}}, 'checkpoint': 120} \n",
      "\n",
      "\n",
      "{'accuracy': 0.9691358024691358, 'mean_square_error': 0.06991248437014146, 'categorical_crossentropy': 0.13688445974279334, 'essential_metrics': {0: {'tp_hit': 77, 'fp_hit': 2, 'tn_hit': 26, 'fn_hit': 3}, 1: {'tp_hit': 14, 'fp_hit': 1, 'tn_hit': 92, 'fn_hit': 1}, 2: {'tp_hit': 12, 'fp_hit': 2, 'tn_hit': 93, 'fn_hit': 1}}, 'checkpoint': 130} \n",
      "\n",
      "\n",
      "{'accuracy': 0.9691358024691358, 'mean_square_error': 0.0681378601379447, 'categorical_crossentropy': 0.13137870364718968, 'essential_metrics': {0: {'tp_hit': 77, 'fp_hit': 2, 'tn_hit': 26, 'fn_hit': 3}, 1: {'tp_hit': 14, 'fp_hit': 0, 'tn_hit': 93, 'fn_hit': 1}, 2: {'tp_hit': 12, 'fp_hit': 3, 'tn_hit': 92, 'fn_hit': 1}}, 'checkpoint': 140} \n",
      "\n",
      "\n",
      "{'accuracy': 0.9629629629629629, 'mean_square_error': 0.08157370417842248, 'categorical_crossentropy': 0.1461710841567428, 'essential_metrics': {0: {'tp_hit': 76, 'fp_hit': 2, 'tn_hit': 26, 'fn_hit': 4}, 1: {'tp_hit': 14, 'fp_hit': 1, 'tn_hit': 92, 'fn_hit': 1}, 2: {'tp_hit': 12, 'fp_hit': 3, 'tn_hit': 92, 'fn_hit': 1}}, 'checkpoint': 150} \n",
      "\n",
      "\n",
      "{'accuracy': 0.9629629629629629, 'mean_square_error': 0.08056698220706104, 'categorical_crossentropy': 0.145113088466503, 'essential_metrics': {0: {'tp_hit': 76, 'fp_hit': 2, 'tn_hit': 26, 'fn_hit': 4}, 1: {'tp_hit': 14, 'fp_hit': 1, 'tn_hit': 92, 'fn_hit': 1}, 2: {'tp_hit': 12, 'fp_hit': 3, 'tn_hit': 92, 'fn_hit': 1}}, 'checkpoint': 160} \n",
      "\n",
      "\n",
      "{'accuracy': 0.9629629629629629, 'mean_square_error': 0.07567879669603024, 'categorical_crossentropy': 0.13272355220935964, 'essential_metrics': {0: {'tp_hit': 76, 'fp_hit': 2, 'tn_hit': 26, 'fn_hit': 4}, 1: {'tp_hit': 14, 'fp_hit': 1, 'tn_hit': 92, 'fn_hit': 1}, 2: {'tp_hit': 12, 'fp_hit': 3, 'tn_hit': 92, 'fn_hit': 1}}, 'checkpoint': 170} \n",
      "\n",
      "\n",
      "{'accuracy': 0.9629629629629629, 'mean_square_error': 0.0710009930981479, 'categorical_crossentropy': 0.1268139327013934, 'essential_metrics': {0: {'tp_hit': 76, 'fp_hit': 2, 'tn_hit': 26, 'fn_hit': 4}, 1: {'tp_hit': 14, 'fp_hit': 1, 'tn_hit': 92, 'fn_hit': 1}, 2: {'tp_hit': 12, 'fp_hit': 3, 'tn_hit': 92, 'fn_hit': 1}}, 'checkpoint': 180} \n",
      "\n",
      "\n",
      "{'accuracy': 0.9629629629629629, 'mean_square_error': 0.07044854981164805, 'categorical_crossentropy': 0.1250525227299443, 'essential_metrics': {0: {'tp_hit': 76, 'fp_hit': 2, 'tn_hit': 26, 'fn_hit': 4}, 1: {'tp_hit': 14, 'fp_hit': 1, 'tn_hit': 92, 'fn_hit': 1}, 2: {'tp_hit': 12, 'fp_hit': 3, 'tn_hit': 92, 'fn_hit': 1}}, 'checkpoint': 190} \n",
      "\n",
      "\n",
      "{'accuracy': 0.9629629629629629, 'mean_square_error': 0.0739358633799629, 'categorical_crossentropy': 0.1305905712975396, 'essential_metrics': {0: {'tp_hit': 76, 'fp_hit': 2, 'tn_hit': 26, 'fn_hit': 4}, 1: {'tp_hit': 14, 'fp_hit': 1, 'tn_hit': 92, 'fn_hit': 1}, 2: {'tp_hit': 12, 'fp_hit': 3, 'tn_hit': 92, 'fn_hit': 1}}, 'checkpoint': 200} \n",
      "\n",
      "\n"
     ]
    }
   ],
   "source": [
    "for checkpoint in checkpoints:\n",
    "    print(checkpoint, '\\n\\n')"
   ]
  },
  {
   "cell_type": "code",
   "execution_count": 14,
   "metadata": {},
   "outputs": [
    {
     "name": "stdout",
     "output_type": "stream",
     "text": [
      "Layer 1\n",
      "Neuron 0: weights:\n",
      "[-0.721624   3.         0.8214314 -1.4572787 -3.       ]\n",
      " bias: 2.8924074172973633\n",
      "\n",
      "Neuron 1: weights:\n",
      "[ 3.         -3.         -2.5639646   0.01470836  1.6669813 ]\n",
      " bias: 1.9917798042297363\n",
      "\n",
      "Neuron 2: weights:\n",
      "[-0.41391173 -2.956207    0.61804336  2.6451437   3.        ]\n",
      " bias: -1.7007482051849365\n",
      "\n",
      "Neuron 3: weights:\n",
      "[ 1.3495662 -3.        -2.085408  -0.2550341  2.564305 ]\n",
      " bias: 3.0\n",
      "\n",
      "$\n",
      "Layer 2\n",
      "Neuron 0: weights:\n",
      "[ 3.         2.3246336 -2.3608367  3.       ]\n",
      " bias: -1.1973168849945068\n",
      "\n",
      "Neuron 1: weights:\n",
      "[ 3.        -2.9830108 -3.        -3.       ]\n",
      " bias: 3.0\n",
      "\n",
      "Neuron 2: weights:\n",
      "[-3.         3.         3.         0.4214271]\n",
      " bias: 0.4639601707458496\n",
      "\n",
      "$\n",
      "\n"
     ]
    }
   ],
   "source": [
    "print(model)"
   ]
  },
  {
   "cell_type": "code",
   "execution_count": null,
   "metadata": {},
   "outputs": [],
   "source": []
  }
 ],
 "metadata": {
  "kernelspec": {
   "display_name": "Python 3",
   "language": "python",
   "name": "python3"
  },
  "language_info": {
   "codemirror_mode": {
    "name": "ipython",
    "version": 3
   },
   "file_extension": ".py",
   "mimetype": "text/x-python",
   "name": "python",
   "nbconvert_exporter": "python",
   "pygments_lexer": "ipython3",
   "version": "3.6.12"
  }
 },
 "nbformat": 4,
 "nbformat_minor": 2
}
