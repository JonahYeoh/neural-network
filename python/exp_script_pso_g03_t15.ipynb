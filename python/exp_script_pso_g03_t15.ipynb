{
 "cells": [
  {
   "cell_type": "code",
   "execution_count": 1,
   "metadata": {},
   "outputs": [],
   "source": [
    "# dependency\n",
    "import numpy as np\n",
    "import pandas as pd\n",
    "import copy\n",
    "import math\n",
    "import sys\n",
    "import os\n",
    "from activations import relu, leaky_relu, sigmoid, tanh, softmax, d_sigmoid, d_relu\n",
    "from initializers import glorot_uniform, random_normal, random_uniform\n",
    "from regularizers import l1_regularizer, l2_regularizer\n",
    "from utility import trim_tail, multiply, subtract, get_nparams, one_hot_encoding, get_data\n",
    "from metrics import MSE, CCE, ACC, PRECISION, RECALL, essential_metrics, wondering_penalty, close_gap_penalty\n",
    "from pso import PSO\n",
    "from ga import GA\n",
    "from nn import Network\n",
    "from layer import DenseLayer\n",
    "from scalers import MinMaxScaler, StandardScaler"
   ]
  },
  {
   "cell_type": "code",
   "execution_count": 2,
   "metadata": {},
   "outputs": [],
   "source": [
    "# reference\n",
    "metrics_fn_dict = dict()\n",
    "metrics_fn_dict['accuracy'] = ACC\n",
    "metrics_fn_dict['categorical_crossentropy'] = CCE\n",
    "metrics_fn_dict['mean_square_error'] = MSE\n",
    "metrics_fn_dict['precision'] = PRECISION\n",
    "metrics_fn_dict['recall'] = RECALL\n",
    "metrics_fn_dict['essential_metrics'] = essential_metrics"
   ]
  },
  {
   "cell_type": "code",
   "execution_count": 3,
   "metadata": {},
   "outputs": [],
   "source": [
    "# model\n",
    "model = Network(5, lr = None)\n",
    "model.add_layer(DenseLayer(1, 4, True, afn=sigmoid, dafn=None, rfn=None))\n",
    "model.add_layer(DenseLayer(2, 3, True, afn=softmax, dafn=None, rfn=None))"
   ]
  },
  {
   "cell_type": "code",
   "execution_count": 4,
   "metadata": {},
   "outputs": [
    {
     "name": "stdout",
     "output_type": "stream",
     "text": [
      "see one see two 2 0.5\n"
     ]
    }
   ],
   "source": [
    "pso = PSO(dict(m = 50,\n",
    "    weight_constraint = [-3, 3], \n",
    "    velocity_constraint = [-0.1, 0.1],\n",
    "    c1 = [0.5, 2],\n",
    "    c2 = [0.5, 2],\n",
    "    w = [0.5, 1.6],\n",
    "    w_decay = 0.95,\n",
    "    scale_hyperparameter = False,\n",
    "    regularizer = None,\n",
    "    mask = None))"
   ]
  },
  {
   "cell_type": "code",
   "execution_count": 5,
   "metadata": {},
   "outputs": [
    {
     "name": "stdout",
     "output_type": "stream",
     "text": [
      "building layer 1 with 5\n",
      "24\n",
      "building layer 2 with 4\n",
      "15\n"
     ]
    }
   ],
   "source": [
    "model.compile(loss_fn = 'categorical_crossentropy', optimizer = pso, \\\n",
    "    metrics = ['accuracy', 'mean_square_error', 'categorical_crossentropy'])"
   ]
  },
  {
   "cell_type": "code",
   "execution_count": 6,
   "metadata": {},
   "outputs": [
    {
     "name": "stdout",
     "output_type": "stream",
     "text": [
      "<class 'pandas.core.frame.DataFrame'>\n",
      "RangeIndex: 107 entries, 0 to 106\n",
      "Data columns (total 6 columns):\n",
      " #   Column  Non-Null Count  Dtype  \n",
      "---  ------  --------------  -----  \n",
      " 0   f1      107 non-null    float32\n",
      " 1   f2      107 non-null    float32\n",
      " 2   f3      107 non-null    float32\n",
      " 3   f4      107 non-null    float32\n",
      " 4   f5      107 non-null    float32\n",
      " 5   label   107 non-null    float32\n",
      "dtypes: float32(6)\n",
      "memory usage: 2.6 KB\n",
      "None\n",
      "<class 'pandas.core.frame.DataFrame'>\n",
      "RangeIndex: 108 entries, 0 to 107\n",
      "Data columns (total 6 columns):\n",
      " #   Column  Non-Null Count  Dtype  \n",
      "---  ------  --------------  -----  \n",
      " 0   f1      108 non-null    float32\n",
      " 1   f2      108 non-null    float32\n",
      " 2   f3      108 non-null    float32\n",
      " 3   f4      108 non-null    float32\n",
      " 4   f5      108 non-null    float32\n",
      " 5   label   108 non-null    float32\n",
      "dtypes: float32(6)\n",
      "memory usage: 2.7 KB\n",
      "None\n"
     ]
    }
   ],
   "source": [
    "# data loading\n",
    "DATA = os.path.join('c:\\\\Users\\\\tcumi\\\\github_repo\\\\neural-network\\\\', 'dataset')\n",
    "GROUP = 3\n",
    "COLUMNS = ['f1', 'f2', 'f3', 'f4', 'f5', 'label']\n",
    "N_CLASS = 3\n",
    "EPOCHS = 500\n",
    "train_dir, test_dir = \"..//dataset//training_data{}.txt\".format(GROUP), \"..//dataset//testing_data{}.txt\".format(GROUP)\n",
    "train, test = get_data(DATA, train_dir, COLUMNS), get_data(DATA, test_dir, COLUMNS)\n",
    "# shuffle\n",
    "train, test = train.sample(frac=1), test.sample(frac=1)\n",
    "x_train, y_train = train.drop('label', axis=1), train['label']\n",
    "x_test, y_test = test.drop('label', axis=1), test['label']"
   ]
  },
  {
   "cell_type": "code",
   "execution_count": 7,
   "metadata": {},
   "outputs": [],
   "source": [
    "# data scaling and encoding\n",
    "scaler = StandardScaler(['f1', 'f2', 'f3', 'f4', 'f5'])\n",
    "scaler.fit(x_train)\n",
    "x_train = scaler.transform(x_train)\n",
    "x_test = scaler.transform(x_test)\n",
    "y_train = one_hot_encoding(y_train, N_CLASS)\n",
    "y_test = one_hot_encoding(y_test, N_CLASS)"
   ]
  },
  {
   "cell_type": "code",
   "execution_count": 8,
   "metadata": {
    "tags": [
     "outputPrepend"
    ]
   },
   "outputs": [
    {
     "name": "stdout",
     "output_type": "stream",
     "text": [
      "Checkpoint 100, Accuracy: 0.8950617283950617, Loss: 0.5492466467398184\n",
      "Checkpoint 200, Accuracy: 0.8950617283950617, Loss: 0.5492466467398184\n",
      "Checkpoint 300, Accuracy: 0.8950617283950617, Loss: 0.5492466467398184\n",
      "Checkpoint 400, Accuracy: 0.8950617283950617, Loss: 0.5492466467398184\n",
      "Checkpoint 500, Accuracy: 0.8950617283950617, Loss: 0.5492466467398184\n"
     ]
    }
   ],
   "source": [
    "# learning phase\n",
    "breakpoint = 100\n",
    "checkpoints = list()\n",
    "history = list()\n",
    "for century in range(0, EPOCHS, breakpoint):\n",
    "    sub_history = model.fit(x_train, y_train, breakpoint, verbose = 0)\n",
    "    score = model.evaluate(x_test, y_test, False, verbose = 0)\n",
    "    print('Checkpoint {}, Accuracy: {}, Loss: {}'.format(century+breakpoint, score['accuracy'], score[model.loss_fn]))\n",
    "    score['checkpoint'] = century + breakpoint\n",
    "    checkpoints.append(score)\n",
    "    history.extend(sub_history)\n",
    "    itr = century + breakpoint\n",
    "    model.optimizer.c1 = np.max([model.optimizer.C1[1] - ((model.optimizer.C1[1] - model.optimizer.C1[0]) * itr / EPOCHS), model.optimizer.C1[0]])\n",
    "    model.optimizer.c2 = np.min([model.optimizer.C2[0] + ((model.optimizer.C2[1] - model.optimizer.C2[0]) * itr / EPOCHS), model.optimizer.C2[1]])\n",
    "    model.optimizer.w = np.max([model.optimizer.w * model.optimizer.W_Decay, model.optimizer.W[0]])"
   ]
  },
  {
   "cell_type": "code",
   "execution_count": 9,
   "metadata": {},
   "outputs": [],
   "source": [
    "import matplotlib.pyplot as plt\n",
    "\n",
    "def draw_plot(x, y_list, x_label=None, y_label=None, legend=None, title=None):\n",
    "    fig, ax = plt.subplots(figsize=(12,5))\n",
    "    for xi, yi in zip(x, y_list):\n",
    "        ax.plot(xi, yi)\n",
    "    if x_label is not None and y_label is not None:\n",
    "        ax.set(xlabel=x_label, ylabel=y_label, title='{} VS {}'.format(x_label, y_label))\n",
    "    if legend is not None:\n",
    "        ax.legend(legend)\n",
    "    ax.grid()\n",
    "    plt.show()"
   ]
  },
  {
   "cell_type": "code",
   "execution_count": 10,
   "metadata": {},
   "outputs": [
    {
     "name": "stdout",
     "output_type": "stream",
     "text": [
      "[1. 0. 0.] <-> [0.71954066 0.06808148 0.2123779 ]\n",
      "[1. 0. 0.] <-> [0.82777834 0.06735498 0.10486674]\n",
      "[1. 0. 0.] <-> [0.7611928  0.19703831 0.04176895]\n",
      "[1. 0. 0.] <-> [0.66094    0.24903    0.09003001]\n",
      "[0. 1. 0.] <-> [0.4225952  0.5316143  0.04579049]\n",
      "[0. 1. 0.] <-> [0.44673213 0.5498211  0.00344677]\n",
      "[1. 0. 0.] <-> [0.71989536 0.22673829 0.05336638]\n",
      "[1. 0. 0.] <-> [0.6543227  0.05821896 0.28745833]\n",
      "[1. 0. 0.] <-> [0.7283447  0.13297474 0.13868055]\n",
      "[0. 0. 1.] <-> [0.50923085 0.00693772 0.48383144]\n",
      "[1. 0. 0.] <-> [0.7433138  0.14090174 0.11578457]\n",
      "[1. 0. 0.] <-> [0.74624497 0.1218636  0.13189149]\n",
      "[1. 0. 0.] <-> [0.7005183  0.06332117 0.23616055]\n",
      "[0. 0. 1.] <-> [0.4507902  0.00706972 0.5421401 ]\n",
      "[0. 0. 1.] <-> [0.8755429  0.05541129 0.06904578]\n",
      "[1. 0. 0.] <-> [0.7437173  0.13423268 0.12204996]\n",
      "[0. 0. 1.] <-> [0.8471171  0.05587523 0.09700767]\n",
      "[0. 1. 0.] <-> [0.43748567 0.5597226  0.00279175]\n",
      "[1. 0. 0.] <-> [0.85337394 0.06782597 0.07880005]\n",
      "[0. 1. 0.] <-> [0.33296517 0.63374376 0.03329101]\n",
      "[0. 0. 1.] <-> [0.9288155  0.04654523 0.02463926]\n",
      "[0. 1. 0.] <-> [0.43627763 0.56039643 0.00332598]\n",
      "[1. 0. 0.] <-> [0.7828986  0.09923112 0.11787029]\n",
      "[1. 0. 0.] <-> [0.74564564 0.10588202 0.14847235]\n",
      "[1. 0. 0.] <-> [0.87659746 0.05973609 0.06366646]\n",
      "[1. 0. 0.] <-> [0.67173314 0.1246248  0.2036421 ]\n",
      "[1. 0. 0.] <-> [0.72857857 0.10218027 0.16924116]\n",
      "[1. 0. 0.] <-> [0.76204926 0.15446061 0.08349012]\n",
      "[1. 0. 0.] <-> [0.82364786 0.14102134 0.03533079]\n",
      "[1. 0. 0.] <-> [0.7592517  0.19968353 0.0410647 ]\n",
      "[1. 0. 0.] <-> [0.76667815 0.12565055 0.10767137]\n",
      "[1. 0. 0.] <-> [0.70227194 0.22414665 0.0735814 ]\n",
      "[0. 0. 1.] <-> [0.59859926 0.0149722  0.38642856]\n",
      "[1. 0. 0.] <-> [0.71597815 0.11699612 0.16702576]\n",
      "[1. 0. 0.] <-> [0.68654186 0.09002671 0.22343138]\n",
      "[1. 0. 0.] <-> [0.77955574 0.08531025 0.135134  ]\n",
      "[1. 0. 0.] <-> [0.88686144 0.04877917 0.06435934]\n",
      "[0. 1. 0.] <-> [0.40601632 0.58972263 0.00426108]\n",
      "[1. 0. 0.] <-> [0.75143766 0.0430238  0.20553862]\n",
      "[1. 0. 0.] <-> [0.69270664 0.07249694 0.23479642]\n",
      "[1. 0. 0.] <-> [0.90616345 0.05243398 0.0414025 ]\n",
      "[1. 0. 0.] <-> [0.7676175  0.19140793 0.04097455]\n",
      "[1. 0. 0.] <-> [0.81965625 0.12090771 0.05943604]\n",
      "[1. 0. 0.] <-> [0.76452684 0.10718475 0.12828839]\n",
      "[1. 0. 0.] <-> [0.6984453  0.06542261 0.23613203]\n",
      "[1. 0. 0.] <-> [0.7652249  0.12262728 0.11214787]\n",
      "[1. 0. 0.] <-> [0.69340664 0.08367421 0.2229192 ]\n",
      "[0. 1. 0.] <-> [0.4458678  0.54889256 0.00523968]\n",
      "[1. 0. 0.] <-> [0.8281271  0.0694944  0.10237848]\n",
      "[1. 0. 0.] <-> [0.86433333 0.06484465 0.07082203]\n",
      "[1. 0. 0.] <-> [0.7919797  0.167075   0.04094534]\n",
      "[0. 1. 0.] <-> [0.40160388 0.56330574 0.03509045]\n",
      "[1. 0. 0.] <-> [0.75220734 0.12165873 0.12613387]\n",
      "[1. 0. 0.] <-> [0.6608392  0.0788802  0.26028058]\n",
      "[1. 0. 0.] <-> [0.5946174 0.3261598 0.0792228]\n",
      "[1. 0. 0.] <-> [0.79499865 0.11001423 0.09498706]\n",
      "[1. 0. 0.] <-> [0.7201322  0.07340658 0.20646119]\n",
      "[1. 0. 0.] <-> [0.87696266 0.06823567 0.05480167]\n",
      "[1. 0. 0.] <-> [0.6426679  0.3420767  0.01525542]\n",
      "[1. 0. 0.] <-> [0.91019654 0.05148035 0.03832312]\n",
      "[0. 0. 1.] <-> [0.8869579  0.05203217 0.06101004]\n",
      "[1. 0. 0.] <-> [0.73440963 0.07209454 0.1934958 ]\n",
      "[1. 0. 0.] <-> [0.7539151  0.07234734 0.17373756]\n",
      "[0. 1. 0.] <-> [0.3591801  0.6204247  0.02039522]\n",
      "[1. 0. 0.] <-> [0.7197634  0.18302931 0.09720729]\n",
      "[1. 0. 0.] <-> [0.49051148 0.4964711  0.01301737]\n",
      "[0. 0. 1.] <-> [0.66780734 0.03980082 0.29239178]\n",
      "[1. 0. 0.] <-> [0.7318318  0.06686798 0.20130025]\n",
      "[0. 0. 1.] <-> [0.6109785 0.0083208 0.3807007]\n",
      "[1. 0. 0.] <-> [0.8405823  0.10433871 0.05507899]\n",
      "[1. 0. 0.] <-> [0.61864394 0.3658436  0.0155125 ]\n",
      "[0. 0. 1.] <-> [0.6905024  0.01477138 0.29472622]\n",
      "[0. 0. 1.] <-> [0.89430016 0.05206826 0.05363156]\n",
      "[1. 0. 0.] <-> [0.86870533 0.09982566 0.03146901]\n",
      "[1. 0. 0.] <-> [0.66031307 0.20072824 0.13895865]\n",
      "[0. 0. 1.] <-> [0.55268776 0.0403347  0.40697744]\n",
      "[1. 0. 0.] <-> [0.70942783 0.10909637 0.18147579]\n",
      "[1. 0. 0.] <-> [0.80197155 0.08209217 0.11593628]\n",
      "[1. 0. 0.] <-> [0.8286726  0.09483822 0.0764892 ]\n",
      "[1. 0. 0.] <-> [0.68903977 0.15278912 0.15817112]\n",
      "[1. 0. 0.] <-> [0.7480609  0.14555272 0.10638637]\n",
      "[1. 0. 0.] <-> [0.7381558  0.09484855 0.16699575]\n",
      "[1. 0. 0.] <-> [0.8048008  0.12947437 0.06572478]\n",
      "[0. 1. 0.] <-> [0.43530717 0.56180537 0.00288742]\n",
      "[1. 0. 0.] <-> [0.7393945  0.11111157 0.14949398]\n",
      "[0. 1. 0.] <-> [0.6912731  0.2846629  0.02406397]\n",
      "[0. 1. 0.] <-> [0.57986957 0.39138293 0.02874755]\n",
      "[1. 0. 0.] <-> [0.7895654  0.13264237 0.07779227]\n",
      "[1. 0. 0.] <-> [0.64056647 0.31584668 0.04358684]\n",
      "[1. 0. 0.] <-> [0.6861573  0.06687891 0.24696384]\n",
      "[0. 0. 1.] <-> [0.92874193 0.0467689  0.02448921]\n",
      "[0. 1. 0.] <-> [0.42607558 0.5712755  0.00264891]\n",
      "[1. 0. 0.] <-> [0.61519694 0.36656174 0.01824135]\n",
      "[1. 0. 0.] <-> [0.84521043 0.09461964 0.0601699 ]\n",
      "[1. 0. 0.] <-> [0.6097289  0.3391636  0.05110749]\n",
      "[0. 1. 0.] <-> [0.49598804 0.49512446 0.00888747]\n",
      "[1. 0. 0.] <-> [0.76909745 0.12670761 0.10419499]\n",
      "[1. 0. 0.] <-> [0.72408074 0.19772968 0.07818964]\n",
      "[1. 0. 0.] <-> [0.81007785 0.08815247 0.10176969]\n",
      "[1. 0. 0.] <-> [0.8090019  0.12345503 0.06754299]\n",
      "[1. 0. 0.] <-> [0.6154755  0.3439465  0.04057804]\n",
      "[1. 0. 0.] <-> [0.70607746 0.08132604 0.21259654]\n",
      "[0. 0. 1.] <-> [0.5886332  0.01091269 0.40045413]\n",
      "[1. 0. 0.] <-> [0.7261002  0.14772096 0.1261788 ]\n",
      "[1. 0. 0.] <-> [0.6980721  0.14353026 0.15839759]\n",
      "[1. 0. 0.] <-> [0.6651423  0.1024663  0.23239148]\n",
      "[0. 1. 0.] <-> [0.41705048 0.58008444 0.00286512]\n",
      "[0. 1. 0.] <-> [0.4128588  0.5826877  0.00445353]\n",
      "{'accuracy': 0.8950617283950617, 'mean_square_error': 0.2951013892026998, 'categorical_crossentropy': 0.5492466467398184, 'essential_metrics': {0: {'tp_hit': 77, 'fp_hit': 16, 'tn_hit': 14, 'fn_hit': 1}, 1: {'tp_hit': 13, 'fp_hit': 1, 'tn_hit': 91, 'fn_hit': 3}, 2: {'tp_hit': 1, 'fp_hit': 0, 'tn_hit': 94, 'fn_hit': 13}}}\n"
     ]
    }
   ],
   "source": [
    "# recall phase\n",
    "score = model.evaluate(x_test, y_test, False)\n",
    "print(score)"
   ]
  },
  {
   "cell_type": "code",
   "execution_count": 11,
   "metadata": {},
   "outputs": [
    {
     "data": {
      "image/png": "[encoded data removed]",
      "text/plain": [
       "<Figure size 864x360 with 1 Axes>"
      ]
     },
     "metadata": {
      "needs_background": "light"
     },
     "output_type": "display_data"
    },
    {
     "data": {
      "image/png": "[encoded data removed]",
      "text/plain": [
       "<Figure size 864x360 with 1 Axes>"
      ]
     },
     "metadata": {
      "needs_background": "light"
     },
     "output_type": "display_data"
    }
   ],
   "source": [
    "draw_plot(x = [[i for i in range(len(history))], [(i+1)*breakpoint for i in range(len(checkpoints))]], y_list = [history, [ ckp[model.loss_fn] for ckp in checkpoints ]], x_label = 'Epochs', \\\n",
    "    y_label = model.loss_fn, legend=['train', 'test'])\n",
    "acc = [ ckp['accuracy'] for ckp in checkpoints ]\n",
    "draw_plot(x = [[(i+1)*breakpoint for i in range(len(checkpoints))]], y_list = [acc], x_label = 'Checkpoints', \\\n",
    "    y_label = 'accuracy')"
   ]
  },
  {
   "cell_type": "code",
   "execution_count": 12,
   "metadata": {},
   "outputs": [
    {
     "name": "stdout",
     "output_type": "stream",
     "text": [
      "{'accuracy': 0.8950617283950617, 'mean_square_error': 0.2951013892026998, 'categorical_crossentropy': 0.5492466467398184, 'essential_metrics': {0: {'tp_hit': 77, 'fp_hit': 16, 'tn_hit': 14, 'fn_hit': 1}, 1: {'tp_hit': 13, 'fp_hit': 1, 'tn_hit': 91, 'fn_hit': 3}, 2: {'tp_hit': 1, 'fp_hit': 0, 'tn_hit': 94, 'fn_hit': 13}}, 'checkpoint': 100} \n",
      "\n",
      "\n",
      "{'accuracy': 0.8950617283950617, 'mean_square_error': 0.2951013892026998, 'categorical_crossentropy': 0.5492466467398184, 'essential_metrics': {0: {'tp_hit': 77, 'fp_hit': 16, 'tn_hit': 14, 'fn_hit': 1}, 1: {'tp_hit': 13, 'fp_hit': 1, 'tn_hit': 91, 'fn_hit': 3}, 2: {'tp_hit': 1, 'fp_hit': 0, 'tn_hit': 94, 'fn_hit': 13}}, 'checkpoint': 200} \n",
      "\n",
      "\n",
      "{'accuracy': 0.8950617283950617, 'mean_square_error': 0.2951013892026998, 'categorical_crossentropy': 0.5492466467398184, 'essential_metrics': {0: {'tp_hit': 77, 'fp_hit': 16, 'tn_hit': 14, 'fn_hit': 1}, 1: {'tp_hit': 13, 'fp_hit': 1, 'tn_hit': 91, 'fn_hit': 3}, 2: {'tp_hit': 1, 'fp_hit': 0, 'tn_hit': 94, 'fn_hit': 13}}, 'checkpoint': 300} \n",
      "\n",
      "\n",
      "{'accuracy': 0.8950617283950617, 'mean_square_error': 0.2951013892026998, 'categorical_crossentropy': 0.5492466467398184, 'essential_metrics': {0: {'tp_hit': 77, 'fp_hit': 16, 'tn_hit': 14, 'fn_hit': 1}, 1: {'tp_hit': 13, 'fp_hit': 1, 'tn_hit': 91, 'fn_hit': 3}, 2: {'tp_hit': 1, 'fp_hit': 0, 'tn_hit': 94, 'fn_hit': 13}}, 'checkpoint': 400} \n",
      "\n",
      "\n",
      "{'accuracy': 0.8950617283950617, 'mean_square_error': 0.2951013892026998, 'categorical_crossentropy': 0.5492466467398184, 'essential_metrics': {0: {'tp_hit': 77, 'fp_hit': 16, 'tn_hit': 14, 'fn_hit': 1}, 1: {'tp_hit': 13, 'fp_hit': 1, 'tn_hit': 91, 'fn_hit': 3}, 2: {'tp_hit': 1, 'fp_hit': 0, 'tn_hit': 94, 'fn_hit': 13}}, 'checkpoint': 500} \n",
      "\n",
      "\n"
     ]
    }
   ],
   "source": [
    "for checkpoint in checkpoints:\n",
    "    print(checkpoint, '\\n\\n')"
   ]
  },
  {
   "cell_type": "code",
   "execution_count": 13,
   "metadata": {},
   "outputs": [
    {
     "name": "stdout",
     "output_type": "stream",
     "text": [
      "Layer 1\n",
      "Neuron 0: weights:\n",
      "[-0.19870457 -0.23656559  2.6496832  -1.02049487  1.75535859]\n",
      " bias: 0.5122779690960719\n",
      "\n",
      "Neuron 1: weights:\n",
      "[ 0.14437077 -1.65344102  1.00613385  1.60600025 -1.490316  ]\n",
      " bias: -2.4466100814109994\n",
      "\n",
      "Neuron 2: weights:\n",
      "[-2.88650908 -0.72699818 -1.02578318  2.05506023  2.21399164]\n",
      " bias: 1.225124194636317\n",
      "\n",
      "Neuron 3: weights:\n",
      "[-1.43908312  1.31597102  1.6739757  -1.93952561 -2.11992484]\n",
      " bias: -1.9204688111609356\n",
      "\n",
      "$\n",
      "Layer 2\n",
      "Neuron 0: weights:\n",
      "[ 1.05650051  0.35854163  1.12368169 -1.28139707]\n",
      " bias: -0.614203781028348\n",
      "\n",
      "Neuron 1: weights:\n",
      "[ 0.25081672 -2.16235281  0.8298653   1.99865806]\n",
      " bias: -2.4979338288579713\n",
      "\n",
      "Neuron 2: weights:\n",
      "[-1.88446335  1.01923267  0.42594564 -2.73983205]\n",
      " bias: -0.6154006875911842\n",
      "\n",
      "$\n",
      "\n"
     ]
    }
   ],
   "source": [
    "print(model)"
   ]
  }
 ],
 "metadata": {
  "kernelspec": {
   "display_name": "Python 3",
   "language": "python",
   "name": "python3"
  },
  "language_info": {
   "codemirror_mode": {
    "name": "ipython",
    "version": 3
   },
   "file_extension": ".py",
   "mimetype": "text/x-python",
   "name": "python",
   "nbconvert_exporter": "python",
   "pygments_lexer": "ipython3",
   "version": "3.6.10"
  }
 },
 "nbformat": 4,
 "nbformat_minor": 2
}
