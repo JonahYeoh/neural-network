{
 "cells": [
  {
   "cell_type": "code",
   "execution_count": 1,
   "metadata": {},
   "outputs": [],
   "source": [
    "# dependency\n",
    "import numpy as np\n",
    "import pandas as pd\n",
    "import copy\n",
    "import math\n",
    "import sys\n",
    "import os\n",
    "from activations import relu, leaky_relu, sigmoid, tanh, softmax, d_sigmoid, d_relu\n",
    "from initializers import glorot_uniform, random_normal, random_uniform\n",
    "from regularizers import l1_regularizer, l2_regularizer\n",
    "from utility import trim_tail, multiply, subtract, get_nparams, one_hot_encoding, get_data\n",
    "from metrics import MSE, CCE, ACC, PRECISION, RECALL, essential_metrics, wondering_penalty, close_gap_penalty\n",
    "from pso import PSO\n",
    "from ga import GA\n",
    "from nn import Network\n",
    "from layer import DenseLayer\n",
    "from scalers import MinMaxScaler, StandardScaler"
   ]
  },
  {
   "cell_type": "code",
   "execution_count": 2,
   "metadata": {},
   "outputs": [],
   "source": [
    "# reference\n",
    "metrics_fn_dict = dict()\n",
    "metrics_fn_dict['accuracy'] = ACC\n",
    "metrics_fn_dict['categorical_crossentropy'] = CCE\n",
    "metrics_fn_dict['mean_square_error'] = MSE\n",
    "metrics_fn_dict['precision'] = PRECISION\n",
    "metrics_fn_dict['recall'] = RECALL\n",
    "metrics_fn_dict['essential_metrics'] = essential_metrics"
   ]
  },
  {
   "cell_type": "code",
   "execution_count": 3,
   "metadata": {},
   "outputs": [],
   "source": [
    "# model\n",
    "model = Network(5, lr = None)\n",
    "model.add_layer(DenseLayer(1, 4, True, afn=sigmoid, dafn=None, rfn=None))\n",
    "model.add_layer(DenseLayer(2, 3, True, afn=softmax, dafn=None, rfn=None))"
   ]
  },
  {
   "cell_type": "code",
   "execution_count": 4,
   "metadata": {},
   "outputs": [
    {
     "name": "stdout",
     "output_type": "stream",
     "text": [
      "see one see two 2 0.5\n"
     ]
    }
   ],
   "source": [
    "pso = PSO(dict(m = 50,\n",
    "    weight_constraint = [-3, 3], \n",
    "    velocity_constraint = [-0.1, 0.1],\n",
    "    c1 = [0.5, 2],\n",
    "    c2 = [0.5, 2],\n",
    "    w = [0.5, 1.6],\n",
    "    w_decay = 0.95,\n",
    "    scale_hyperparameter = False,\n",
    "    regularizer = None,\n",
    "    mask = True))"
   ]
  },
  {
   "cell_type": "code",
   "execution_count": 5,
   "metadata": {},
   "outputs": [
    {
     "name": "stdout",
     "output_type": "stream",
     "text": [
      "building layer 1 with 5\n",
      "24\n",
      "building layer 2 with 4\n",
      "15\n"
     ]
    }
   ],
   "source": [
    "model.compile(loss_fn = 'categorical_crossentropy', optimizer = pso, \\\n",
    "    metrics = ['accuracy', 'mean_square_error', 'categorical_crossentropy'])"
   ]
  },
  {
   "cell_type": "code",
   "execution_count": 6,
   "metadata": {},
   "outputs": [
    {
     "name": "stdout",
     "output_type": "stream",
     "text": [
      "<class 'pandas.core.frame.DataFrame'>\n",
      "RangeIndex: 107 entries, 0 to 106\n",
      "Data columns (total 6 columns):\n",
      " #   Column  Non-Null Count  Dtype  \n",
      "---  ------  --------------  -----  \n",
      " 0   f1      107 non-null    float32\n",
      " 1   f2      107 non-null    float32\n",
      " 2   f3      107 non-null    float32\n",
      " 3   f4      107 non-null    float32\n",
      " 4   f5      107 non-null    float32\n",
      " 5   label   107 non-null    float32\n",
      "dtypes: float32(6)\n",
      "memory usage: 2.6 KB\n",
      "None\n",
      "<class 'pandas.core.frame.DataFrame'>\n",
      "RangeIndex: 108 entries, 0 to 107\n",
      "Data columns (total 6 columns):\n",
      " #   Column  Non-Null Count  Dtype  \n",
      "---  ------  --------------  -----  \n",
      " 0   f1      108 non-null    float32\n",
      " 1   f2      108 non-null    float32\n",
      " 2   f3      108 non-null    float32\n",
      " 3   f4      108 non-null    float32\n",
      " 4   f5      108 non-null    float32\n",
      " 5   label   108 non-null    float32\n",
      "dtypes: float32(6)\n",
      "memory usage: 2.7 KB\n",
      "None\n"
     ]
    }
   ],
   "source": [
    "# data loading\n",
    "DATA = os.path.join('c:\\\\Users\\\\tcumi\\\\github_repo\\\\neural-network\\\\', 'dataset')\n",
    "GROUP = 3\n",
    "COLUMNS = ['f1', 'f2', 'f3', 'f4', 'f5', 'label']\n",
    "N_CLASS = 3\n",
    "EPOCHS = 500\n",
    "train_dir, test_dir = \"..//dataset//training_data{}.txt\".format(GROUP), \"..//dataset//testing_data{}.txt\".format(GROUP)\n",
    "train, test = get_data(DATA, train_dir, COLUMNS), get_data(DATA, test_dir, COLUMNS)\n",
    "# shuffle\n",
    "train, test = train.sample(frac=1), test.sample(frac=1)\n",
    "x_train, y_train = train.drop('label', axis=1), train['label']\n",
    "x_test, y_test = test.drop('label', axis=1), test['label']"
   ]
  },
  {
   "cell_type": "code",
   "execution_count": 7,
   "metadata": {},
   "outputs": [],
   "source": [
    "# data scaling and encoding\n",
    "scaler = StandardScaler(['f1', 'f2', 'f3', 'f4', 'f5'])\n",
    "scaler.fit(x_train)\n",
    "x_train = scaler.transform(x_train)\n",
    "x_test = scaler.transform(x_test)\n",
    "y_train = one_hot_encoding(y_train, N_CLASS)\n",
    "y_test = one_hot_encoding(y_test, N_CLASS)"
   ]
  },
  {
   "cell_type": "code",
   "execution_count": 8,
   "metadata": {
    "tags": [
     "outputPrepend"
    ]
   },
   "outputs": [
    {
     "name": "stdout",
     "output_type": "stream",
     "text": [
      "Checkpoint 100, Accuracy: 0.9567901234567902, Loss: 0.2201629921242043\n",
      "Checkpoint 200, Accuracy: 0.9506172839506173, Loss: 0.16599261319195782\n",
      "Checkpoint 300, Accuracy: 0.9506172839506173, Loss: 0.15090871740270545\n",
      "Checkpoint 400, Accuracy: 0.9629629629629629, Loss: 0.1131607868053295\n",
      "Checkpoint 500, Accuracy: 0.9691358024691358, Loss: 0.10886835168909144\n"
     ]
    }
   ],
   "source": [
    "# learning phase\n",
    "breakpoint = 100\n",
    "checkpoints = list()\n",
    "history = list()\n",
    "for century in range(0, EPOCHS, breakpoint):\n",
    "    sub_history = model.fit(x_train, y_train, breakpoint, verbose = 0)\n",
    "    score = model.evaluate(x_test, y_test, False, verbose = 0)\n",
    "    print('Checkpoint {}, Accuracy: {}, Loss: {}'.format(century+breakpoint, score['accuracy'], score[model.loss_fn]))\n",
    "    score['checkpoint'] = century + breakpoint\n",
    "    checkpoints.append(score)\n",
    "    history.extend(sub_history)\n",
    "    itr = century + breakpoint\n",
    "    model.optimizer.c1 = np.max([model.optimizer.C1[1] - ((model.optimizer.C1[1] - model.optimizer.C1[0]) * itr / EPOCHS), model.optimizer.C1[0]])\n",
    "    model.optimizer.c2 = np.min([model.optimizer.C2[0] + ((model.optimizer.C2[1] - model.optimizer.C2[0]) * itr / EPOCHS), model.optimizer.C2[1]])\n",
    "    model.optimizer.w = np.max([model.optimizer.w * model.optimizer.W_Decay, model.optimizer.W[0]])"
   ]
  },
  {
   "cell_type": "code",
   "execution_count": 9,
   "metadata": {},
   "outputs": [],
   "source": [
    "import matplotlib.pyplot as plt\n",
    "\n",
    "def draw_plot(x, y_list, x_label=None, y_label=None, legend=None, title=None):\n",
    "    fig, ax = plt.subplots(figsize=(12,5))\n",
    "    for xi, yi in zip(x, y_list):\n",
    "        ax.plot(xi, yi)\n",
    "    if x_label is not None and y_label is not None:\n",
    "        ax.set(xlabel=x_label, ylabel=y_label, title='{} VS {}'.format(x_label, y_label))\n",
    "    if legend is not None:\n",
    "        ax.legend(legend)\n",
    "    ax.grid()\n",
    "    plt.show()"
   ]
  },
  {
   "cell_type": "code",
   "execution_count": 10,
   "metadata": {},
   "outputs": [
    {
     "name": "stdout",
     "output_type": "stream",
     "text": [
      "[1. 0. 0.] <-> [0.99481356 0.0013327  0.00385368]\n",
      "[1. 0. 0.] <-> [0.9946353  0.0016993  0.00366538]\n",
      "[0. 1. 0.] <-> [5.4521160e-03 9.9454319e-01 4.6096143e-06]\n",
      "[1. 0. 0.] <-> [0.7022816  0.2970028  0.00071559]\n",
      "[0. 0. 1.] <-> [3.744728e-02 8.378126e-05 9.624690e-01]\n",
      "[1. 0. 0.] <-> [0.9907754  0.00811643 0.00110826]\n",
      "[1. 0. 0.] <-> [0.99567324 0.0018544  0.00247243]\n",
      "[1. 0. 0.] <-> [9.6319103e-01 3.5922304e-02 8.8659802e-04]\n",
      "[1. 0. 0.] <-> [0.8468214  0.00135892 0.15181969]\n",
      "[1. 0. 0.] <-> [0.5236091  0.47585237 0.00053848]\n",
      "[1. 0. 0.] <-> [1.0921220e-01 2.3350384e-04 8.9055425e-01]\n",
      "[0. 1. 0.] <-> [6.2516415e-03 9.9374300e-01 5.3377385e-06]\n",
      "[1. 0. 0.] <-> [0.9953981  0.00131214 0.00328973]\n",
      "[1. 0. 0.] <-> [0.99606687 0.00137032 0.00256285]\n",
      "[1. 0. 0.] <-> [9.9715436e-01 1.8618521e-03 9.8378712e-04]\n",
      "[1. 0. 0.] <-> [0.99723154 0.00126754 0.00150093]\n",
      "[0. 0. 1.] <-> [7.2925282e-03 1.8076475e-05 9.9268943e-01]\n",
      "[0. 1. 0.] <-> [1.5352395e-02 9.8463482e-01 1.2842516e-05]\n",
      "[1. 0. 0.] <-> [9.9462765e-01 4.4534323e-03 9.1894716e-04]\n",
      "[1. 0. 0.] <-> [0.9970872  0.00131633 0.00159652]\n",
      "[1. 0. 0.] <-> [8.9241631e-02 9.1067964e-01 7.8723497e-05]\n",
      "[1. 0. 0.] <-> [0.99222577 0.00151924 0.00625507]\n",
      "[0. 1. 0.] <-> [5.4475050e-03 9.9454778e-01 4.5718093e-06]\n",
      "[0. 0. 1.] <-> [1.0868575e-02 2.6487531e-05 9.8910493e-01]\n",
      "[1. 0. 0.] <-> [0.9969855  0.00190304 0.00111146]\n",
      "[1. 0. 0.] <-> [0.55877686 0.4406599  0.00056317]\n",
      "[1. 0. 0.] <-> [0.99568427 0.00268062 0.00163516]\n",
      "[0. 1. 0.] <-> [1.4747224e-02 9.8524046e-01 1.2351890e-05]\n",
      "[0. 1. 0.] <-> [5.429143e-03 9.945663e-01 4.543468e-06]\n",
      "[1. 0. 0.] <-> [0.9939985  0.00132121 0.00468025]\n",
      "[0. 0. 1.] <-> [1.0289380e-02 2.5365494e-05 9.8968530e-01]\n",
      "[1. 0. 0.] <-> [0.99596065 0.00278901 0.00125032]\n",
      "[1. 0. 0.] <-> [0.9890409  0.00131206 0.00964705]\n",
      "[0. 1. 0.] <-> [4.370197e-02 9.562613e-01 3.666267e-05]\n",
      "[1. 0. 0.] <-> [0.9859855  0.01146505 0.00254943]\n",
      "[1. 0. 0.] <-> [0.9622978  0.00161055 0.03609164]\n",
      "[1. 0. 0.] <-> [9.8867106e-01 1.0435657e-02 8.9326047e-04]\n",
      "[0. 1. 0.] <-> [1.7141862e-02 9.8284310e-01 1.4947989e-05]\n",
      "[1. 0. 0.] <-> [0.9967918  0.00179686 0.00141135]\n",
      "[1. 0. 0.] <-> [7.8839177e-01 2.1091717e-01 6.9108122e-04]\n",
      "[1. 0. 0.] <-> [9.9542677e-01 3.6571505e-03 9.1613713e-04]\n",
      "[1. 0. 0.] <-> [9.9659795e-01 2.4992051e-03 9.0293848e-04]\n",
      "[1. 0. 0.] <-> [0.9786356  0.00148581 0.01987863]\n",
      "[0. 0. 1.] <-> [5.7023861e-02 1.2283234e-04 9.4285327e-01]\n",
      "[0. 1. 0.] <-> [5.4289554e-03 9.9456656e-01 4.5555739e-06]\n",
      "[1. 0. 0.] <-> [0.996268   0.00172477 0.00200719]\n",
      "[0. 1. 0.] <-> [5.4294523e-03 9.9456608e-01 4.5416386e-06]\n",
      "[1. 0. 0.] <-> [0.99716777 0.00137233 0.0014598 ]\n",
      "[0. 0. 1.] <-> [8.8570928e-03 2.1896638e-05 9.9112099e-01]\n",
      "[1. 0. 0.] <-> [0.99681574 0.00130054 0.00188368]\n",
      "[1. 0. 0.] <-> [0.99673873 0.00143629 0.00182494]\n",
      "[0. 1. 0.] <-> [1.6718875e-01 8.3267081e-01 1.4048003e-04]\n",
      "[0. 1. 0.] <-> [1.20563265e-02 9.87933576e-01 1.01461956e-05]\n",
      "[1. 0. 0.] <-> [9.9645907e-01 2.6181352e-03 9.2273077e-04]\n",
      "[1. 0. 0.] <-> [9.9630773e-01 2.7532806e-03 9.3893579e-04]\n",
      "[1. 0. 0.] <-> [0.997675   0.00121117 0.00111384]\n",
      "[1. 0. 0.] <-> [0.9969131  0.00203475 0.00105206]\n",
      "[1. 0. 0.] <-> [0.9806466  0.0089659  0.01038748]\n",
      "[1. 0. 0.] <-> [0.9960517  0.00261083 0.00133753]\n",
      "[1. 0. 0.] <-> [0.9973827  0.0012127  0.00140449]\n",
      "[1. 0. 0.] <-> [9.201217e-01 7.909001e-02 7.883108e-04]\n",
      "[1. 0. 0.] <-> [0.9943457  0.00453923 0.001115  ]\n",
      "[1. 0. 0.] <-> [0.99106205 0.00746957 0.00146842]\n",
      "[0. 0. 1.] <-> [7.4592098e-03 1.8489207e-05 9.9252230e-01]\n",
      "[0. 0. 1.] <-> [1.1131551e-02 2.7317008e-05 9.8884112e-01]\n",
      "[1. 0. 0.] <-> [9.9635208e-01 2.7930262e-03 8.5495244e-04]\n",
      "[1. 0. 0.] <-> [0.98587114 0.00131819 0.0128107 ]\n",
      "[1. 0. 0.] <-> [0.9519922  0.00136524 0.0466425 ]\n",
      "[0. 0. 1.] <-> [0.5787462  0.00098192 0.42027193]\n",
      "[0. 1. 0.] <-> [5.4294006e-03 9.9456608e-01 4.5419247e-06]\n",
      "[1. 0. 0.] <-> [0.9937641  0.00125089 0.00498506]\n",
      "[1. 0. 0.] <-> [0.99721813 0.00170497 0.00107687]\n",
      "[1. 0. 0.] <-> [9.7581542e-01 2.3253055e-02 9.3156117e-04]\n",
      "[1. 0. 0.] <-> [0.9907849  0.00129939 0.00791579]\n",
      "[1. 0. 0.] <-> [9.9650759e-01 2.5545002e-03 9.3791675e-04]\n",
      "[1. 0. 0.] <-> [0.9964161  0.0021906  0.00139336]\n",
      "[0. 1. 0.] <-> [5.4289475e-03 9.9456656e-01 4.5450643e-06]\n",
      "[0. 0. 1.] <-> [7.2925007e-03 1.8082526e-05 9.9268943e-01]\n",
      "[1. 0. 0.] <-> [0.9972682  0.00127011 0.0014617 ]\n",
      "[1. 0. 0.] <-> [0.99624324 0.00259501 0.0011617 ]\n",
      "[1. 0. 0.] <-> [0.9971545  0.00166146 0.00118406]\n",
      "[0. 0. 1.] <-> [0.5450553  0.00099078 0.45395383]\n",
      "[1. 0. 0.] <-> [9.9685234e-01 2.1970798e-03 9.5060316e-04]\n",
      "[1. 0. 0.] <-> [0.99655044 0.00147519 0.00197426]\n",
      "[1. 0. 0.] <-> [3.2960320e-01 6.7011786e-01 2.7895454e-04]\n",
      "[1. 0. 0.] <-> [0.9951643  0.00124796 0.00358766]\n",
      "[1. 0. 0.] <-> [0.9973091  0.00132499 0.00136587]\n",
      "[1. 0. 0.] <-> [9.9729556e-01 1.7542393e-03 9.5013424e-04]\n",
      "[0. 1. 0.] <-> [3.2376224e-01 6.7596644e-01 2.7133379e-04]\n",
      "[1. 0. 0.] <-> [0.9932325  0.00313438 0.00363321]\n",
      "[1. 0. 0.] <-> [0.9970477  0.00159838 0.00135386]\n",
      "[1. 0. 0.] <-> [0.99687886 0.00159684 0.00152432]\n",
      "[1. 0. 0.] <-> [9.9745113e-01 1.5567429e-03 9.9218031e-04]\n",
      "[1. 0. 0.] <-> [0.9974947  0.00128895 0.00121628]\n",
      "[1. 0. 0.] <-> [0.99459213 0.00124257 0.0041653 ]\n",
      "[1. 0. 0.] <-> [9.9740952e-01 1.6976792e-03 8.9284632e-04]\n",
      "[0. 1. 0.] <-> [5.4294574e-03 9.9456608e-01 4.5416127e-06]\n",
      "[0. 0. 1.] <-> [7.4015325e-03 1.8342034e-05 9.9258012e-01]\n",
      "[1. 0. 0.] <-> [9.9766290e-01 1.3645403e-03 9.7261096e-04]\n",
      "[1. 0. 0.] <-> [9.8245621e-01 1.6575186e-02 9.6861518e-04]\n",
      "[1. 0. 0.] <-> [0.9976229  0.00116693 0.00121022]\n",
      "[1. 0. 0.] <-> [0.9648465  0.00172868 0.03342474]\n",
      "[1. 0. 0.] <-> [0.52421784 0.00110231 0.47467992]\n",
      "[1. 0. 0.] <-> [0.9886764  0.00282166 0.00850195]\n",
      "[1. 0. 0.] <-> [0.8135845  0.00142294 0.18499261]\n",
      "[0. 0. 1.] <-> [7.2917757e-03 1.8074677e-05 9.9269015e-01]\n",
      "[0. 0. 1.] <-> [8.9076729e-03 2.1968937e-05 9.9107039e-01]\n",
      "[1. 0. 0.] <-> [0.99739957 0.00140212 0.00119841]\n",
      "{'accuracy': 0.9691358024691358, 'mean_square_error': 0.06851449128749483, 'categorical_crossentropy': 0.10886835168909144, 'essential_metrics': {0: {'tp_hit': 75, 'fp_hit': 2, 'tn_hit': 28, 'fn_hit': 3}, 1: {'tp_hit': 16, 'fp_hit': 2, 'tn_hit': 90, 'fn_hit': 0}, 2: {'tp_hit': 12, 'fp_hit': 1, 'tn_hit': 93, 'fn_hit': 2}}}\n"
     ]
    }
   ],
   "source": [
    "# recall phase\n",
    "score = model.evaluate(x_test, y_test, False)\n",
    "print(score)"
   ]
  },
  {
   "cell_type": "code",
   "execution_count": 11,
   "metadata": {},
   "outputs": [
    {
     "data": {
      "image/png": "[encoded data removed]",
      "text/plain": [
       "<Figure size 864x360 with 1 Axes>"
      ]
     },
     "metadata": {
      "needs_background": "light"
     },
     "output_type": "display_data"
    },
    {
     "data": {
      "image/png": "[encoded data removed]",
      "text/plain": [
       "<Figure size 864x360 with 1 Axes>"
      ]
     },
     "metadata": {
      "needs_background": "light"
     },
     "output_type": "display_data"
    }
   ],
   "source": [
    "draw_plot(x = [[i for i in range(len(history))], [(i+1)*breakpoint for i in range(len(checkpoints))]], y_list = [history, [ ckp[model.loss_fn] for ckp in checkpoints ]], x_label = 'Epochs', \\\n",
    "    y_label = model.loss_fn, legend=['train', 'test'])\n",
    "acc = [ ckp['accuracy'] for ckp in checkpoints ]\n",
    "draw_plot(x = [[(i+1)*breakpoint for i in range(len(checkpoints))]], y_list = [acc], x_label = 'Checkpoints', \\\n",
    "    y_label = 'accuracy')"
   ]
  },
  {
   "cell_type": "code",
   "execution_count": 12,
   "metadata": {},
   "outputs": [
    {
     "name": "stdout",
     "output_type": "stream",
     "text": [
      "{'accuracy': 0.9567901234567902, 'mean_square_error': 0.10613236605630227, 'categorical_crossentropy': 0.2201629921242043, 'essential_metrics': {0: {'tp_hit': 76, 'fp_hit': 5, 'tn_hit': 25, 'fn_hit': 2}, 1: {'tp_hit': 15, 'fp_hit': 1, 'tn_hit': 91, 'fn_hit': 1}, 2: {'tp_hit': 10, 'fp_hit': 1, 'tn_hit': 93, 'fn_hit': 4}}, 'checkpoint': 100} \n",
      "\n",
      "\n",
      "{'accuracy': 0.9506172839506173, 'mean_square_error': 0.10467684477898027, 'categorical_crossentropy': 0.16599261319195782, 'essential_metrics': {0: {'tp_hit': 74, 'fp_hit': 4, 'tn_hit': 26, 'fn_hit': 4}, 1: {'tp_hit': 15, 'fp_hit': 3, 'tn_hit': 89, 'fn_hit': 1}, 2: {'tp_hit': 11, 'fp_hit': 1, 'tn_hit': 93, 'fn_hit': 3}}, 'checkpoint': 200} \n",
      "\n",
      "\n",
      "{'accuracy': 0.9506172839506173, 'mean_square_error': 0.0959781951501224, 'categorical_crossentropy': 0.15090871740270545, 'essential_metrics': {0: {'tp_hit': 72, 'fp_hit': 2, 'tn_hit': 28, 'fn_hit': 6}, 1: {'tp_hit': 16, 'fp_hit': 4, 'tn_hit': 88, 'fn_hit': 0}, 2: {'tp_hit': 12, 'fp_hit': 2, 'tn_hit': 92, 'fn_hit': 2}}, 'checkpoint': 300} \n",
      "\n",
      "\n",
      "{'accuracy': 0.9629629629629629, 'mean_square_error': 0.07119095054762867, 'categorical_crossentropy': 0.1131607868053295, 'essential_metrics': {0: {'tp_hit': 74, 'fp_hit': 2, 'tn_hit': 28, 'fn_hit': 4}, 1: {'tp_hit': 16, 'fp_hit': 3, 'tn_hit': 89, 'fn_hit': 0}, 2: {'tp_hit': 12, 'fp_hit': 1, 'tn_hit': 93, 'fn_hit': 2}}, 'checkpoint': 400} \n",
      "\n",
      "\n",
      "{'accuracy': 0.9691358024691358, 'mean_square_error': 0.06851449128749483, 'categorical_crossentropy': 0.10886835168909144, 'essential_metrics': {0: {'tp_hit': 75, 'fp_hit': 2, 'tn_hit': 28, 'fn_hit': 3}, 1: {'tp_hit': 16, 'fp_hit': 2, 'tn_hit': 90, 'fn_hit': 0}, 2: {'tp_hit': 12, 'fp_hit': 1, 'tn_hit': 93, 'fn_hit': 2}}, 'checkpoint': 500} \n",
      "\n",
      "\n"
     ]
    }
   ],
   "source": [
    "for checkpoint in checkpoints:\n",
    "    print(checkpoint, '\\n\\n')"
   ]
  },
  {
   "cell_type": "code",
   "execution_count": 13,
   "metadata": {},
   "outputs": [
    {
     "name": "stdout",
     "output_type": "stream",
     "text": [
      "Layer 1\n",
      "Neuron 0: weights:\n",
      "[-0.06914771 -3.         -0.44915628  1.045451    3.        ]\n",
      " bias: -2.569061517715454\n",
      "\n",
      "Neuron 1: weights:\n",
      "[-2.0712361   3.          3.         -2.3062344  -0.37396723]\n",
      " bias: -3.0\n",
      "\n",
      "Neuron 2: weights:\n",
      "[ 2.1765473 -3.        -3.        -1.2127618  1.8643708]\n",
      " bias: 2.745096206665039\n",
      "\n",
      "Neuron 3: weights:\n",
      "[ 0.13864844  3.         -0.32198077 -3.         -3.        ]\n",
      " bias: 1.784478783607483\n",
      "\n",
      "$\n",
      "Layer 2\n",
      "Neuron 0: weights:\n",
      "[-3. -3.  3.  3.]\n",
      " bias: 3.0\n",
      "\n",
      "Neuron 1: weights:\n",
      "[-3.        3.       -3.        2.210466]\n",
      " bias: 3.0\n",
      "\n",
      "Neuron 2: weights:\n",
      "[ 3. -3.  3. -3.]\n",
      " bias: 1.9136717319488525\n",
      "\n",
      "$\n",
      "\n"
     ]
    }
   ],
   "source": [
    "print(model)"
   ]
  }
 ],
 "metadata": {
  "kernelspec": {
   "display_name": "Python 3",
   "language": "python",
   "name": "python3"
  },
  "language_info": {
   "codemirror_mode": {
    "name": "ipython",
    "version": 3
   },
   "file_extension": ".py",
   "mimetype": "text/x-python",
   "name": "python",
   "nbconvert_exporter": "python",
   "pygments_lexer": "ipython3",
   "version": "3.6.10"
  }
 },
 "nbformat": 4,
 "nbformat_minor": 2
}
