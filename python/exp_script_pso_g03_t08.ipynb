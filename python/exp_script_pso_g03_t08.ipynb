{
 "cells": [
  {
   "cell_type": "code",
   "execution_count": 1,
   "metadata": {},
   "outputs": [],
   "source": [
    "# dependency\n",
    "import numpy as np\n",
    "import pandas as pd\n",
    "import copy\n",
    "import math\n",
    "import sys\n",
    "import os\n",
    "from activations import relu, leaky_relu, sigmoid, tanh, softmax, d_sigmoid, d_relu\n",
    "from initializers import glorot_uniform, random_normal, random_uniform\n",
    "from regularizers import l1_regularizer, l2_regularizer\n",
    "from utility import trim_tail, multiply, subtract, get_nparams, one_hot_encoding, get_data\n",
    "from metrics import MSE, CCE, ACC, PRECISION, RECALL, essential_metrics, wondering_penalty, close_gap_penalty\n",
    "from pso import PSO\n",
    "from ga import GA\n",
    "from nn import Network\n",
    "from layer import DenseLayer\n",
    "from scalers import MinMaxScaler, StandardScaler"
   ]
  },
  {
   "cell_type": "code",
   "execution_count": 2,
   "metadata": {},
   "outputs": [],
   "source": [
    "# reference\n",
    "metrics_fn_dict = dict()\n",
    "metrics_fn_dict['accuracy'] = ACC\n",
    "metrics_fn_dict['categorical_crossentropy'] = CCE\n",
    "metrics_fn_dict['mean_square_error'] = MSE\n",
    "metrics_fn_dict['precision'] = PRECISION\n",
    "metrics_fn_dict['recall'] = RECALL\n",
    "metrics_fn_dict['essential_metrics'] = essential_metrics"
   ]
  },
  {
   "cell_type": "code",
   "execution_count": 3,
   "metadata": {},
   "outputs": [],
   "source": [
    "# model\n",
    "model = Network(5, lr = None)\n",
    "model.add_layer(DenseLayer(1, 4, True, afn=sigmoid, dafn=None, rfn=None))\n",
    "model.add_layer(DenseLayer(2, 3, True, afn=softmax, dafn=None, rfn=None))"
   ]
  },
  {
   "cell_type": "code",
   "execution_count": 4,
   "metadata": {},
   "outputs": [
    {
     "name": "stdout",
     "output_type": "stream",
     "text": [
      "see one see two 2 2\n"
     ]
    }
   ],
   "source": [
    "pso = PSO(dict(m = 50,\n",
    "    weight_constraint = [-3, 3], \n",
    "    velocity_constraint = [-0.1, 0.1],\n",
    "    c1 = 2,\n",
    "    c2 = 2,\n",
    "    w = 1.2,\n",
    "    w_decay = 1,\n",
    "    scale_hyperparameter = False,\n",
    "    regularizer = l1_regularizer,\n",
    "    mask = True))"
   ]
  },
  {
   "cell_type": "code",
   "execution_count": 5,
   "metadata": {},
   "outputs": [
    {
     "name": "stdout",
     "output_type": "stream",
     "text": [
      "building layer 1 with 5\n",
      "24\n",
      "building layer 2 with 4\n",
      "15\n"
     ]
    }
   ],
   "source": [
    "model.compile(loss_fn = 'categorical_crossentropy', optimizer = pso, \\\n",
    "    metrics = ['accuracy', 'mean_square_error', 'categorical_crossentropy'])"
   ]
  },
  {
   "cell_type": "code",
   "execution_count": 6,
   "metadata": {
    "scrolled": false
   },
   "outputs": [
    {
     "name": "stdout",
     "output_type": "stream",
     "text": [
      "<class 'pandas.core.frame.DataFrame'>\n",
      "RangeIndex: 107 entries, 0 to 106\n",
      "Data columns (total 6 columns):\n",
      " #   Column  Non-Null Count  Dtype  \n",
      "---  ------  --------------  -----  \n",
      " 0   f1      107 non-null    float32\n",
      " 1   f2      107 non-null    float32\n",
      " 2   f3      107 non-null    float32\n",
      " 3   f4      107 non-null    float32\n",
      " 4   f5      107 non-null    float32\n",
      " 5   label   107 non-null    float32\n",
      "dtypes: float32(6)\n",
      "memory usage: 2.6 KB\n",
      "None\n",
      "<class 'pandas.core.frame.DataFrame'>\n",
      "RangeIndex: 108 entries, 0 to 107\n",
      "Data columns (total 6 columns):\n",
      " #   Column  Non-Null Count  Dtype  \n",
      "---  ------  --------------  -----  \n",
      " 0   f1      108 non-null    float32\n",
      " 1   f2      108 non-null    float32\n",
      " 2   f3      108 non-null    float32\n",
      " 3   f4      108 non-null    float32\n",
      " 4   f5      108 non-null    float32\n",
      " 5   label   108 non-null    float32\n",
      "dtypes: float32(6)\n",
      "memory usage: 2.7 KB\n",
      "None\n"
     ]
    }
   ],
   "source": [
    "# data loading\n",
    "DATA = os.path.join('c:\\\\Users\\\\Ai-lab\\\\github_repo\\\\neural-network\\\\', 'dataset')\n",
    "GROUP = 3\n",
    "COLUMNS = ['f1', 'f2', 'f3', 'f4', 'f5', 'label']\n",
    "N_CLASS = 3\n",
    "EPOCHS = 200\n",
    "train_dir, test_dir = \"..//dataset//training_data{}.txt\".format(GROUP), \"..//dataset//testing_data{}.txt\".format(GROUP)\n",
    "train, test = get_data(DATA, train_dir, COLUMNS), get_data(DATA, test_dir, COLUMNS)\n",
    "# shuffle\n",
    "train, test = train.sample(frac=1), test.sample(frac=1)\n",
    "x_train, y_train = train.drop('label', axis=1), train['label']\n",
    "x_test, y_test = test.drop('label', axis=1), test['label']"
   ]
  },
  {
   "cell_type": "code",
   "execution_count": 7,
   "metadata": {},
   "outputs": [],
   "source": [
    "# data scaling and encoding\n",
    "scaler = StandardScaler(['f1', 'f2', 'f3', 'f4', 'f5'])\n",
    "scaler.fit(x_train)\n",
    "x_train = scaler.transform(x_train)\n",
    "x_test = scaler.transform(x_test)\n",
    "y_train = one_hot_encoding(y_train, N_CLASS)\n",
    "y_test = one_hot_encoding(y_test, N_CLASS)"
   ]
  },
  {
   "cell_type": "code",
   "execution_count": 8,
   "metadata": {
    "tags": [
     "outputPrepend"
    ]
   },
   "outputs": [
    {
     "name": "stdout",
     "output_type": "stream",
     "text": [
      "Checkpoint 10, Accuracy: 0.9259259259259259, Loss: 0.4111587029916269\n",
      "Checkpoint 20, Accuracy: 0.9197530864197531, Loss: 0.3721611941302264\n",
      "Checkpoint 30, Accuracy: 0.9382716049382716, Loss: 0.3303242436161748\n",
      "Checkpoint 40, Accuracy: 0.9444444444444444, Loss: 0.3021552121197736\n",
      "Checkpoint 50, Accuracy: 0.8271604938271605, Loss: 0.477596918741862\n",
      "Checkpoint 60, Accuracy: 0.9074074074074074, Loss: 0.38387090188485606\n",
      "Checkpoint 70, Accuracy: 0.9753086419753086, Loss: 0.374685146190502\n",
      "Checkpoint 80, Accuracy: 0.9691358024691358, Loss: 0.28955231772528756\n",
      "Checkpoint 90, Accuracy: 0.9753086419753086, Loss: 0.2761946784125434\n",
      "Checkpoint 100, Accuracy: 0.9629629629629629, Loss: 0.27880917655097115\n",
      "Checkpoint 110, Accuracy: 0.9629629629629629, Loss: 0.2640865114000108\n",
      "Checkpoint 120, Accuracy: 0.9629629629629629, Loss: 0.22867239846123588\n",
      "Checkpoint 130, Accuracy: 0.9629629629629629, Loss: 0.22325787720856843\n",
      "Checkpoint 140, Accuracy: 0.9629629629629629, Loss: 0.22912776028668438\n",
      "Checkpoint 150, Accuracy: 0.9753086419753086, Loss: 0.20707564883761936\n",
      "Checkpoint 160, Accuracy: 0.9753086419753086, Loss: 0.20979720574838143\n",
      "Checkpoint 170, Accuracy: 0.9753086419753086, Loss: 0.2154905531141493\n",
      "Checkpoint 180, Accuracy: 0.9691358024691358, Loss: 0.22201628155178493\n",
      "Checkpoint 190, Accuracy: 0.9691358024691358, Loss: 0.22201628155178493\n",
      "Checkpoint 200, Accuracy: 0.9691358024691358, Loss: 0.22201628155178493\n"
     ]
    }
   ],
   "source": [
    "# learning phase\n",
    "breakpoint = 10\n",
    "checkpoints = list()\n",
    "history = list()\n",
    "for century in range(0, EPOCHS, breakpoint):\n",
    "    sub_history = model.fit(x_train, y_train, breakpoint, verbose = 0)\n",
    "    score = model.evaluate(x_test, y_test, False, verbose = 0)\n",
    "    print('Checkpoint {}, Accuracy: {}, Loss: {}'.format(century+breakpoint, score['accuracy'], score[model.loss_fn]))\n",
    "    score['checkpoint'] = century + breakpoint\n",
    "    checkpoints.append(score)\n",
    "    history.extend(sub_history)"
   ]
  },
  {
   "cell_type": "code",
   "execution_count": 9,
   "metadata": {},
   "outputs": [],
   "source": [
    "import matplotlib.pyplot as plt\n",
    "\n",
    "def draw_plot(x, y_list, x_label=None, y_label=None, legend=None, title=None):\n",
    "    fig, ax = plt.subplots(figsize=(12,5))\n",
    "    for xi, yi in zip(x, y_list):\n",
    "        ax.plot(xi, yi)\n",
    "    if x_label is not None and y_label is not None:\n",
    "        ax.set(xlabel=x_label, ylabel=y_label, title='{} VS {}'.format(x_label, y_label))\n",
    "    if legend is not None:\n",
    "        ax.legend(legend)\n",
    "    ax.grid()\n",
    "    plt.show()"
   ]
  },
  {
   "cell_type": "code",
   "execution_count": 10,
   "metadata": {},
   "outputs": [],
   "source": [
    "train_acc = [h['accuracy'] for h in history]\n",
    "train_mse = [h['mean_square_error'] for h in history]\n",
    "train_cce = [h['categorical_crossentropy'] for h in history]"
   ]
  },
  {
   "cell_type": "code",
   "execution_count": 11,
   "metadata": {},
   "outputs": [
    {
     "data": {
      "image/png": "[encoded data removed]",
      "text/plain": [
       "<Figure size 864x360 with 1 Axes>"
      ]
     },
     "metadata": {
      "needs_background": "light"
     },
     "output_type": "display_data"
    },
    {
     "data": {
      "image/png": "[encoded data removed]",
      "text/plain": [
       "<Figure size 864x360 with 1 Axes>"
      ]
     },
     "metadata": {
      "needs_background": "light"
     },
     "output_type": "display_data"
    }
   ],
   "source": [
    "draw_plot(x = [[i for i in range(len(history))], [(i+1)*breakpoint for i in range(len(checkpoints))]], y_list = [train_cce, [ ckp[model.loss_fn] for ckp in checkpoints ]], x_label = 'Epochs', \\\n",
    "    y_label = model.loss_fn, legend=['train', 'test'])\n",
    "acc = [ ckp['accuracy'] for ckp in checkpoints ]\n",
    "draw_plot(x = [[i for i in range(len(history))], [(i+1)*breakpoint for i in range(len(checkpoints))]], y_list = [train_acc, acc], x_label = 'Checkpoints', \\\n",
    "    y_label = 'accuracy', legend=['train', 'test'])"
   ]
  },
  {
   "cell_type": "code",
   "execution_count": 12,
   "metadata": {},
   "outputs": [
    {
     "name": "stdout",
     "output_type": "stream",
     "text": [
      "[1. 0. 0.] <-> [0.8763478  0.06551075 0.05814149]\n",
      "[1. 0. 0.] <-> [0.9158086  0.03401301 0.05017834]\n",
      "[1. 0. 0.] <-> [0.717911  0.2506644 0.0314246]\n",
      "[0. 1. 0.] <-> [0.08791412 0.90048873 0.01159724]\n",
      "[1. 0. 0.] <-> [0.8583663  0.04799916 0.09363458]\n",
      "[1. 0. 0.] <-> [0.75170994 0.1546015  0.0936885 ]\n",
      "[1. 0. 0.] <-> [0.9407742  0.0383686  0.02085718]\n",
      "[0. 1. 0.] <-> [0.08802912 0.90034604 0.01162492]\n",
      "[1. 0. 0.] <-> [0.8887108  0.04379318 0.06749597]\n",
      "[1. 0. 0.] <-> [0.92326075 0.05293026 0.02380898]\n",
      "[1. 0. 0.] <-> [0.91947323 0.05260689 0.02791986]\n",
      "[1. 0. 0.] <-> [0.9308686  0.04595718 0.02317431]\n",
      "[1. 0. 0.] <-> [0.7931193  0.04312919 0.16375147]\n",
      "[1. 0. 0.] <-> [0.8899188  0.06818052 0.04190066]\n",
      "[1. 0. 0.] <-> [0.90776676 0.05717293 0.03506029]\n",
      "[1. 0. 0.] <-> [0.92337173 0.05757456 0.0190537 ]\n",
      "[1. 0. 0.] <-> [0.89486325 0.0362167  0.06892006]\n",
      "[1. 0. 0.] <-> [0.67174727 0.28117454 0.04707812]\n",
      "[0. 0. 1.] <-> [0.40739405 0.04958169 0.5430243 ]\n",
      "[0. 0. 1.] <-> [0.0699671  0.02418602 0.9058469 ]\n",
      "[0. 1. 0.] <-> [0.08743908 0.902125   0.01043582]\n",
      "[1. 0. 0.] <-> [0.92066675 0.06086975 0.01846351]\n",
      "[1. 0. 0.] <-> [0.90544796 0.06853779 0.02601418]\n",
      "[1. 0. 0.] <-> [0.91967803 0.03603425 0.0442877 ]\n",
      "[1. 0. 0.] <-> [0.93928504 0.03439801 0.02631697]\n",
      "[0. 1. 0.] <-> [0.08746801 0.90207535 0.01045671]\n",
      "[1. 0. 0.] <-> [0.91371506 0.05897059 0.02731442]\n",
      "[1. 0. 0.] <-> [0.9239569  0.04957357 0.02646953]\n",
      "[1. 0. 0.] <-> [0.9139006  0.04002812 0.04607125]\n",
      "[1. 0. 0.] <-> [0.9200767  0.03603747 0.04388587]\n",
      "[1. 0. 0.] <-> [0.9319894  0.04274642 0.02526422]\n",
      "[1. 0. 0.] <-> [0.9038051  0.05108666 0.04510821]\n",
      "[0. 1. 0.] <-> [0.08764108 0.90165854 0.01070031]\n",
      "[1. 0. 0.] <-> [0.9290579  0.03831887 0.03262323]\n",
      "[0. 0. 1.] <-> [0.20449305 0.03576713 0.7597398 ]\n",
      "[1. 0. 0.] <-> [0.9080904  0.04576967 0.04613994]\n",
      "[1. 0. 0.] <-> [0.7996538  0.16269788 0.03764831]\n",
      "[1. 0. 0.] <-> [0.86255544 0.04474013 0.09270445]\n",
      "[0. 0. 1.] <-> [0.06478276 0.02378264 0.9114346 ]\n",
      "[0. 1. 0.] <-> [0.38558698 0.591624   0.02278902]\n",
      "[1. 0. 0.] <-> [0.8777602  0.09633019 0.02590959]\n",
      "[1. 0. 0.] <-> [0.9350887  0.04657863 0.01833272]\n",
      "[0. 1. 0.] <-> [0.2856109  0.68284804 0.03154105]\n",
      "[0. 0. 1.] <-> [0.12648652 0.03002886 0.84348464]\n",
      "[1. 0. 0.] <-> [0.93427974 0.03646073 0.0292595 ]\n",
      "[1. 0. 0.] <-> [0.9350803  0.03110952 0.03381011]\n",
      "[1. 0. 0.] <-> [0.9066371  0.06718559 0.02617732]\n",
      "[0. 0. 1.] <-> [0.11618    0.02956779 0.8542522 ]\n",
      "[1. 0. 0.] <-> [0.9094247  0.06430064 0.02627467]\n",
      "[0. 0. 1.] <-> [0.24592376 0.03804327 0.7160329 ]\n",
      "[0. 1. 0.] <-> [0.13157219 0.8485566  0.01987122]\n",
      "[1. 0. 0.] <-> [0.89230525 0.03841943 0.06927532]\n",
      "[1. 0. 0.] <-> [0.92219687 0.04408853 0.0337146 ]\n",
      "[1. 0. 0.] <-> [0.94028693 0.03287086 0.02684214]\n",
      "[1. 0. 0.] <-> [0.9363038  0.03441284 0.0292834 ]\n",
      "[1. 0. 0.] <-> [0.933735   0.04446909 0.02179593]\n",
      "[0. 1. 0.] <-> [0.08863797 0.89847517 0.01288683]\n",
      "[1. 0. 0.] <-> [0.8493252  0.04682461 0.10385017]\n",
      "[0. 0. 1.] <-> [0.5770312  0.04651081 0.376458  ]\n",
      "[0. 1. 0.] <-> [0.24928963 0.732204   0.01850636]\n",
      "[0. 1. 0.] <-> [0.21595022 0.7674169  0.01663296]\n",
      "[1. 0. 0.] <-> [0.82324564 0.13931452 0.0374398 ]\n",
      "[1. 0. 0.] <-> [0.72452736 0.23397365 0.04149898]\n",
      "[1. 0. 0.] <-> [0.8496676  0.03953579 0.1107966 ]\n",
      "[1. 0. 0.] <-> [0.5008278  0.46507305 0.03409922]\n",
      "[1. 0. 0.] <-> [0.9223916  0.04104082 0.03656759]\n",
      "[1. 0. 0.] <-> [0.9215979  0.04637112 0.03203104]\n",
      "[1. 0. 0.] <-> [0.9067838  0.03411334 0.05910277]\n",
      "[1. 0. 0.] <-> [0.8794828  0.03624493 0.08427227]\n",
      "[0. 0. 1.] <-> [0.8030786  0.04427873 0.1526427 ]\n",
      "[0. 1. 0.] <-> [0.09262135 0.89255846 0.01482024]\n",
      "[1. 0. 0.] <-> [0.9007365  0.03780543 0.06145805]\n",
      "[1. 0. 0.] <-> [0.93431103 0.03560954 0.03007949]\n",
      "[1. 0. 0.] <-> [0.91909224 0.03402962 0.04687823]\n",
      "[1. 0. 0.] <-> [0.9347006  0.03769087 0.0276086 ]\n",
      "[0. 0. 1.] <-> [0.8109307  0.04223775 0.14683156]\n",
      "[1. 0. 0.] <-> [0.6121601  0.04943722 0.33840266]\n",
      "[0. 0. 1.] <-> [0.34781268 0.04349213 0.60869515]\n",
      "[0. 1. 0.] <-> [0.23483764 0.7452347  0.01992763]\n",
      "[1. 0. 0.] <-> [0.5287534  0.44283777 0.02840878]\n",
      "[1. 0. 0.] <-> [0.9145321  0.0537209  0.03174694]\n",
      "[0. 0. 1.] <-> [0.29075074 0.0399994  0.6692499 ]\n",
      "[1. 0. 0.] <-> [0.8990649  0.06188335 0.03905177]\n",
      "[1. 0. 0.] <-> [0.9272562  0.04354221 0.02920154]\n",
      "[1. 0. 0.] <-> [0.9093483  0.06682978 0.0238219 ]\n",
      "[1. 0. 0.] <-> [0.85873854 0.10145826 0.03980327]\n",
      "[1. 0. 0.] <-> [0.7945958  0.12414218 0.0812621 ]\n",
      "[1. 0. 0.] <-> [0.82338154 0.14696096 0.02965743]\n",
      "[1. 0. 0.] <-> [0.84852093 0.07786293 0.07361608]\n",
      "[1. 0. 0.] <-> [0.9307394  0.03686198 0.03239868]\n",
      "[0. 1. 0.] <-> [0.09141312 0.8952184  0.01336848]\n",
      "[1. 0. 0.] <-> [0.8853271  0.08446404 0.03020879]\n",
      "[1. 0. 0.] <-> [0.9218279  0.05510332 0.0230687 ]\n",
      "[1. 0. 0.] <-> [0.91359586 0.03647868 0.04992545]\n",
      "[1. 0. 0.] <-> [0.76813376 0.2071215  0.0247448 ]\n",
      "[1. 0. 0.] <-> [0.9135277  0.04391018 0.04256214]\n",
      "[0. 1. 0.] <-> [0.54031557 0.43552864 0.0241558 ]\n",
      "[1. 0. 0.] <-> [0.85922056 0.10254398 0.03823553]\n",
      "[1. 0. 0.] <-> [0.91130567 0.03553727 0.05315707]\n",
      "[0. 0. 1.] <-> [0.06614741 0.02579258 0.9080601 ]\n",
      "[1. 0. 0.] <-> [0.76609224 0.05250946 0.1813983 ]\n",
      "[1. 0. 0.] <-> [0.92900985 0.04367702 0.02731305]\n",
      "[1. 0. 0.] <-> [0.8962069  0.052233   0.05156014]\n",
      "[1. 0. 0.] <-> [0.9186734  0.06008847 0.02123808]\n",
      "[0. 0. 1.] <-> [0.45408317 0.04541285 0.500504  ]\n",
      "[0. 1. 0.] <-> [0.5751679  0.39876765 0.02606452]\n",
      "[1. 0. 0.] <-> [0.93439543 0.03436726 0.03123723]\n",
      "[1. 0. 0.] <-> [0.63925964 0.31580898 0.04493136]\n",
      "{'accuracy': 0.9691358024691358, 'mean_square_error': 0.09997275875883799, 'categorical_crossentropy': 0.22201628155178493, 'essential_metrics': {0: {'tp_hit': 78, 'fp_hit': 5, 'tn_hit': 25, 'fn_hit': 0}, 1: {'tp_hit': 14, 'fp_hit': 0, 'tn_hit': 92, 'fn_hit': 2}, 2: {'tp_hit': 11, 'fp_hit': 0, 'tn_hit': 94, 'fn_hit': 3}}}\n"
     ]
    }
   ],
   "source": [
    "# recall phase\n",
    "score = model.evaluate(x_test, y_test, False)\n",
    "print(score)"
   ]
  },
  {
   "cell_type": "code",
   "execution_count": 13,
   "metadata": {},
   "outputs": [
    {
     "name": "stdout",
     "output_type": "stream",
     "text": [
      "{'accuracy': 0.9259259259259259, 'mean_square_error': 0.21164679177750637, 'categorical_crossentropy': 0.4111587029916269, 'essential_metrics': {0: {'tp_hit': 76, 'fp_hit': 7, 'tn_hit': 23, 'fn_hit': 2}, 1: {'tp_hit': 9, 'fp_hit': 4, 'tn_hit': 88, 'fn_hit': 7}, 2: {'tp_hit': 11, 'fp_hit': 1, 'tn_hit': 93, 'fn_hit': 3}}, 'checkpoint': 10} \n",
      "\n",
      "\n",
      "{'accuracy': 0.9197530864197531, 'mean_square_error': 0.19246847761349753, 'categorical_crossentropy': 0.3721611941302264, 'essential_metrics': {0: {'tp_hit': 77, 'fp_hit': 10, 'tn_hit': 20, 'fn_hit': 1}, 1: {'tp_hit': 7, 'fp_hit': 2, 'tn_hit': 90, 'fn_hit': 9}, 2: {'tp_hit': 11, 'fp_hit': 1, 'tn_hit': 93, 'fn_hit': 3}}, 'checkpoint': 20} \n",
      "\n",
      "\n",
      "{'accuracy': 0.9382716049382716, 'mean_square_error': 0.16123475714364494, 'categorical_crossentropy': 0.3303242436161748, 'essential_metrics': {0: {'tp_hit': 77, 'fp_hit': 7, 'tn_hit': 23, 'fn_hit': 1}, 1: {'tp_hit': 10, 'fp_hit': 2, 'tn_hit': 90, 'fn_hit': 6}, 2: {'tp_hit': 11, 'fp_hit': 1, 'tn_hit': 93, 'fn_hit': 3}}, 'checkpoint': 30} \n",
      "\n",
      "\n",
      "{'accuracy': 0.9444444444444444, 'mean_square_error': 0.13238871281315723, 'categorical_crossentropy': 0.3021552121197736, 'essential_metrics': {0: {'tp_hit': 76, 'fp_hit': 7, 'tn_hit': 23, 'fn_hit': 2}, 1: {'tp_hit': 12, 'fp_hit': 1, 'tn_hit': 91, 'fn_hit': 4}, 2: {'tp_hit': 11, 'fp_hit': 1, 'tn_hit': 93, 'fn_hit': 3}}, 'checkpoint': 40} \n",
      "\n",
      "\n",
      "{'accuracy': 0.8271604938271605, 'mean_square_error': 0.2898769644765584, 'categorical_crossentropy': 0.477596918741862, 'essential_metrics': {0: {'tp_hit': 78, 'fp_hit': 28, 'tn_hit': 2, 'fn_hit': 0}, 1: {'tp_hit': 2, 'fp_hit': 0, 'tn_hit': 92, 'fn_hit': 14}, 2: {'tp_hit': 0, 'fp_hit': 0, 'tn_hit': 94, 'fn_hit': 14}}, 'checkpoint': 50} \n",
      "\n",
      "\n",
      "{'accuracy': 0.9074074074074074, 'mean_square_error': 0.2097983775831, 'categorical_crossentropy': 0.38387090188485606, 'essential_metrics': {0: {'tp_hit': 78, 'fp_hit': 15, 'tn_hit': 15, 'fn_hit': 0}, 1: {'tp_hit': 10, 'fp_hit': 0, 'tn_hit': 92, 'fn_hit': 6}, 2: {'tp_hit': 5, 'fp_hit': 0, 'tn_hit': 94, 'fn_hit': 9}}, 'checkpoint': 60} \n",
      "\n",
      "\n",
      "{'accuracy': 0.9753086419753086, 'mean_square_error': 0.17912084367072015, 'categorical_crossentropy': 0.374685146190502, 'essential_metrics': {0: {'tp_hit': 76, 'fp_hit': 2, 'tn_hit': 28, 'fn_hit': 2}, 1: {'tp_hit': 16, 'fp_hit': 2, 'tn_hit': 90, 'fn_hit': 0}, 2: {'tp_hit': 12, 'fp_hit': 0, 'tn_hit': 94, 'fn_hit': 2}}, 'checkpoint': 70} \n",
      "\n",
      "\n",
      "{'accuracy': 0.9691358024691358, 'mean_square_error': 0.12723711977265698, 'categorical_crossentropy': 0.28955231772528756, 'essential_metrics': {0: {'tp_hit': 77, 'fp_hit': 4, 'tn_hit': 26, 'fn_hit': 1}, 1: {'tp_hit': 14, 'fp_hit': 1, 'tn_hit': 91, 'fn_hit': 2}, 2: {'tp_hit': 12, 'fp_hit': 0, 'tn_hit': 94, 'fn_hit': 2}}, 'checkpoint': 80} \n",
      "\n",
      "\n",
      "{'accuracy': 0.9753086419753086, 'mean_square_error': 0.12126840674855399, 'categorical_crossentropy': 0.2761946784125434, 'essential_metrics': {0: {'tp_hit': 76, 'fp_hit': 2, 'tn_hit': 28, 'fn_hit': 2}, 1: {'tp_hit': 16, 'fp_hit': 1, 'tn_hit': 91, 'fn_hit': 0}, 2: {'tp_hit': 12, 'fp_hit': 1, 'tn_hit': 93, 'fn_hit': 2}}, 'checkpoint': 90} \n",
      "\n",
      "\n",
      "{'accuracy': 0.9629629629629629, 'mean_square_error': 0.13208461444794242, 'categorical_crossentropy': 0.27880917655097115, 'essential_metrics': {0: {'tp_hit': 77, 'fp_hit': 5, 'tn_hit': 25, 'fn_hit': 1}, 1: {'tp_hit': 16, 'fp_hit': 1, 'tn_hit': 91, 'fn_hit': 0}, 2: {'tp_hit': 9, 'fp_hit': 0, 'tn_hit': 94, 'fn_hit': 5}}, 'checkpoint': 100} \n",
      "\n",
      "\n",
      "{'accuracy': 0.9629629629629629, 'mean_square_error': 0.12093294718767661, 'categorical_crossentropy': 0.2640865114000108, 'essential_metrics': {0: {'tp_hit': 77, 'fp_hit': 5, 'tn_hit': 25, 'fn_hit': 1}, 1: {'tp_hit': 16, 'fp_hit': 1, 'tn_hit': 91, 'fn_hit': 0}, 2: {'tp_hit': 9, 'fp_hit': 0, 'tn_hit': 94, 'fn_hit': 5}}, 'checkpoint': 110} \n",
      "\n",
      "\n",
      "{'accuracy': 0.9629629629629629, 'mean_square_error': 0.10346622767628265, 'categorical_crossentropy': 0.22867239846123588, 'essential_metrics': {0: {'tp_hit': 77, 'fp_hit': 5, 'tn_hit': 25, 'fn_hit': 1}, 1: {'tp_hit': 15, 'fp_hit': 1, 'tn_hit': 91, 'fn_hit': 1}, 2: {'tp_hit': 10, 'fp_hit': 0, 'tn_hit': 94, 'fn_hit': 4}}, 'checkpoint': 120} \n",
      "\n",
      "\n",
      "{'accuracy': 0.9629629629629629, 'mean_square_error': 0.10117523591388553, 'categorical_crossentropy': 0.22325787720856843, 'essential_metrics': {0: {'tp_hit': 77, 'fp_hit': 5, 'tn_hit': 25, 'fn_hit': 1}, 1: {'tp_hit': 15, 'fp_hit': 1, 'tn_hit': 91, 'fn_hit': 1}, 2: {'tp_hit': 10, 'fp_hit': 0, 'tn_hit': 94, 'fn_hit': 4}}, 'checkpoint': 130} \n",
      "\n",
      "\n",
      "{'accuracy': 0.9629629629629629, 'mean_square_error': 0.10120364017844984, 'categorical_crossentropy': 0.22912776028668438, 'essential_metrics': {0: {'tp_hit': 76, 'fp_hit': 4, 'tn_hit': 26, 'fn_hit': 2}, 1: {'tp_hit': 16, 'fp_hit': 2, 'tn_hit': 90, 'fn_hit': 0}, 2: {'tp_hit': 10, 'fp_hit': 0, 'tn_hit': 94, 'fn_hit': 4}}, 'checkpoint': 140} \n",
      "\n",
      "\n",
      "{'accuracy': 0.9753086419753086, 'mean_square_error': 0.09235288599982777, 'categorical_crossentropy': 0.20707564883761936, 'essential_metrics': {0: {'tp_hit': 77, 'fp_hit': 3, 'tn_hit': 27, 'fn_hit': 1}, 1: {'tp_hit': 16, 'fp_hit': 1, 'tn_hit': 91, 'fn_hit': 0}, 2: {'tp_hit': 11, 'fp_hit': 0, 'tn_hit': 94, 'fn_hit': 3}}, 'checkpoint': 150} \n",
      "\n",
      "\n",
      "{'accuracy': 0.9753086419753086, 'mean_square_error': 0.09380112930875953, 'categorical_crossentropy': 0.20979720574838143, 'essential_metrics': {0: {'tp_hit': 77, 'fp_hit': 3, 'tn_hit': 27, 'fn_hit': 1}, 1: {'tp_hit': 16, 'fp_hit': 1, 'tn_hit': 91, 'fn_hit': 0}, 2: {'tp_hit': 11, 'fp_hit': 0, 'tn_hit': 94, 'fn_hit': 3}}, 'checkpoint': 160} \n",
      "\n",
      "\n",
      "{'accuracy': 0.9753086419753086, 'mean_square_error': 0.09443311353240778, 'categorical_crossentropy': 0.2154905531141493, 'essential_metrics': {0: {'tp_hit': 77, 'fp_hit': 3, 'tn_hit': 27, 'fn_hit': 1}, 1: {'tp_hit': 16, 'fp_hit': 1, 'tn_hit': 91, 'fn_hit': 0}, 2: {'tp_hit': 11, 'fp_hit': 0, 'tn_hit': 94, 'fn_hit': 3}}, 'checkpoint': 170} \n",
      "\n",
      "\n",
      "{'accuracy': 0.9691358024691358, 'mean_square_error': 0.09997275875883799, 'categorical_crossentropy': 0.22201628155178493, 'essential_metrics': {0: {'tp_hit': 78, 'fp_hit': 5, 'tn_hit': 25, 'fn_hit': 0}, 1: {'tp_hit': 14, 'fp_hit': 0, 'tn_hit': 92, 'fn_hit': 2}, 2: {'tp_hit': 11, 'fp_hit': 0, 'tn_hit': 94, 'fn_hit': 3}}, 'checkpoint': 180} \n",
      "\n",
      "\n",
      "{'accuracy': 0.9691358024691358, 'mean_square_error': 0.09997275875883799, 'categorical_crossentropy': 0.22201628155178493, 'essential_metrics': {0: {'tp_hit': 78, 'fp_hit': 5, 'tn_hit': 25, 'fn_hit': 0}, 1: {'tp_hit': 14, 'fp_hit': 0, 'tn_hit': 92, 'fn_hit': 2}, 2: {'tp_hit': 11, 'fp_hit': 0, 'tn_hit': 94, 'fn_hit': 3}}, 'checkpoint': 190} \n",
      "\n",
      "\n",
      "{'accuracy': 0.9691358024691358, 'mean_square_error': 0.09997275875883799, 'categorical_crossentropy': 0.22201628155178493, 'essential_metrics': {0: {'tp_hit': 78, 'fp_hit': 5, 'tn_hit': 25, 'fn_hit': 0}, 1: {'tp_hit': 14, 'fp_hit': 0, 'tn_hit': 92, 'fn_hit': 2}, 2: {'tp_hit': 11, 'fp_hit': 0, 'tn_hit': 94, 'fn_hit': 3}}, 'checkpoint': 200} \n",
      "\n",
      "\n"
     ]
    }
   ],
   "source": [
    "for checkpoint in checkpoints:\n",
    "    print(checkpoint, '\\n\\n')"
   ]
  },
  {
   "cell_type": "code",
   "execution_count": 14,
   "metadata": {},
   "outputs": [
    {
     "name": "stdout",
     "output_type": "stream",
     "text": [
      "Layer 1\n",
      "Neuron 0: weights:\n",
      "[ 0.00521162  0.2426405  -0.01388755  0.00118296 -0.08330397]\n",
      " bias: -0.034665390849113464\n",
      "\n",
      "Neuron 1: weights:\n",
      "[ 0.1648576  -1.2055331   0.21419929  0.78436947  1.33305   ]\n",
      " bias: -0.16220395267009735\n",
      "\n",
      "Neuron 2: weights:\n",
      "[-1.2925085   1.9571813   1.8702353   0.01816862 -0.01070836]\n",
      " bias: -1.6219244003295898\n",
      "\n",
      "Neuron 3: weights:\n",
      "[-0.16424058  1.3581173   0.12734076 -0.49390113 -1.3251348 ]\n",
      " bias: 2.1196444034576416\n",
      "\n",
      "$\n",
      "Layer 2\n",
      "Neuron 0: weights:\n",
      "[-0.0850113  -0.08722371 -3.          3.        ]\n",
      " bias: 0.40093690156936646\n",
      "\n",
      "Neuron 1: weights:\n",
      "[-0.05065097 -0.39908442  3.          0.02869098]\n",
      " bias: -0.31631821393966675\n",
      "\n",
      "Neuron 2: weights:\n",
      "[-0.10088823  3.         -0.08911246 -1.6057897 ]\n",
      " bias: -0.03981675207614899\n",
      "\n",
      "$\n",
      "\n"
     ]
    }
   ],
   "source": [
    "print(model)"
   ]
  },
  {
   "cell_type": "code",
   "execution_count": null,
   "metadata": {},
   "outputs": [],
   "source": []
  }
 ],
 "metadata": {
  "kernelspec": {
   "display_name": "Python 3",
   "language": "python",
   "name": "python3"
  },
  "language_info": {
   "codemirror_mode": {
    "name": "ipython",
    "version": 3
   },
   "file_extension": ".py",
   "mimetype": "text/x-python",
   "name": "python",
   "nbconvert_exporter": "python",
   "pygments_lexer": "ipython3",
   "version": "3.6.12"
  }
 },
 "nbformat": 4,
 "nbformat_minor": 2
}
