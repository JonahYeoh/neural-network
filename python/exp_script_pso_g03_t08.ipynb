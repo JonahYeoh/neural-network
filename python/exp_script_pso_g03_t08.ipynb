{
 "cells": [
  {
   "cell_type": "code",
   "execution_count": 1,
   "metadata": {},
   "outputs": [],
   "source": [
    "# dependency\n",
    "import numpy as np\n",
    "import pandas as pd\n",
    "import copy\n",
    "import math\n",
    "import sys\n",
    "import os\n",
    "from activations import relu, leaky_relu, sigmoid, tanh, softmax, d_sigmoid, d_relu\n",
    "from initializers import glorot_uniform, random_normal, random_uniform\n",
    "from regularizers import l1_regularizer, l2_regularizer\n",
    "from utility import trim_tail, multiply, subtract, get_nparams, one_hot_encoding, get_data\n",
    "from metrics import MSE, CCE, ACC, PRECISION, RECALL, essential_metrics, wondering_penalty, close_gap_penalty\n",
    "from pso import PSO\n",
    "from ga import GA\n",
    "from nn import Network\n",
    "from layer import DenseLayer\n",
    "from scalers import MinMaxScaler, StandardScaler"
   ]
  },
  {
   "cell_type": "code",
   "execution_count": 2,
   "metadata": {},
   "outputs": [],
   "source": [
    "# reference\n",
    "metrics_fn_dict = dict()\n",
    "metrics_fn_dict['accuracy'] = ACC\n",
    "metrics_fn_dict['categorical_crossentropy'] = CCE\n",
    "metrics_fn_dict['mean_square_error'] = MSE\n",
    "metrics_fn_dict['precision'] = PRECISION\n",
    "metrics_fn_dict['recall'] = RECALL\n",
    "metrics_fn_dict['essential_metrics'] = essential_metrics"
   ]
  },
  {
   "cell_type": "code",
   "execution_count": 3,
   "metadata": {},
   "outputs": [],
   "source": [
    "# model\n",
    "model = Network(5, lr = None)\n",
    "model.add_layer(DenseLayer(1, 4, True, afn=sigmoid, dafn=None, rfn=None))\n",
    "model.add_layer(DenseLayer(2, 3, True, afn=softmax, dafn=None, rfn=None))"
   ]
  },
  {
   "cell_type": "code",
   "execution_count": 4,
   "metadata": {},
   "outputs": [
    {
     "name": "stdout",
     "output_type": "stream",
     "text": [
      "see one see two 2 0.5\n"
     ]
    }
   ],
   "source": [
    "pso = PSO(dict(m = 50,\n",
    "    weight_constraint = [-3, 3], \n",
    "    velocity_constraint = [-0.1, 0.1],\n",
    "    c1 = [0.5, 2],\n",
    "    c2 = [0.5, 2],\n",
    "    w = [0.5, 1.6],\n",
    "    w_decay = 0.95,\n",
    "    scale_hyperparameter = False,\n",
    "    regularizer = l2_regularizer,\n",
    "    mask = True))"
   ]
  },
  {
   "cell_type": "code",
   "execution_count": 5,
   "metadata": {},
   "outputs": [
    {
     "name": "stdout",
     "output_type": "stream",
     "text": [
      "building layer 1 with 5\n",
      "24\n",
      "building layer 2 with 4\n",
      "15\n"
     ]
    }
   ],
   "source": [
    "model.compile(loss_fn = 'categorical_crossentropy', optimizer = pso, \\\n",
    "    metrics = ['accuracy', 'mean_square_error', 'categorical_crossentropy'])"
   ]
  },
  {
   "cell_type": "code",
   "execution_count": 6,
   "metadata": {},
   "outputs": [
    {
     "name": "stdout",
     "output_type": "stream",
     "text": [
      "<class 'pandas.core.frame.DataFrame'>\n",
      "RangeIndex: 107 entries, 0 to 106\n",
      "Data columns (total 6 columns):\n",
      " #   Column  Non-Null Count  Dtype  \n",
      "---  ------  --------------  -----  \n",
      " 0   f1      107 non-null    float32\n",
      " 1   f2      107 non-null    float32\n",
      " 2   f3      107 non-null    float32\n",
      " 3   f4      107 non-null    float32\n",
      " 4   f5      107 non-null    float32\n",
      " 5   label   107 non-null    float32\n",
      "dtypes: float32(6)\n",
      "memory usage: 2.6 KB\n",
      "None\n",
      "<class 'pandas.core.frame.DataFrame'>\n",
      "RangeIndex: 108 entries, 0 to 107\n",
      "Data columns (total 6 columns):\n",
      " #   Column  Non-Null Count  Dtype  \n",
      "---  ------  --------------  -----  \n",
      " 0   f1      108 non-null    float32\n",
      " 1   f2      108 non-null    float32\n",
      " 2   f3      108 non-null    float32\n",
      " 3   f4      108 non-null    float32\n",
      " 4   f5      108 non-null    float32\n",
      " 5   label   108 non-null    float32\n",
      "dtypes: float32(6)\n",
      "memory usage: 2.7 KB\n",
      "None\n"
     ]
    }
   ],
   "source": [
    "# data loading\n",
    "DATA = os.path.join('c:\\\\Users\\\\tcumi\\\\github_repo\\\\neural-network\\\\', 'dataset')\n",
    "GROUP = 3\n",
    "COLUMNS = ['f1', 'f2', 'f3', 'f4', 'f5', 'label']\n",
    "N_CLASS = 3\n",
    "EPOCHS = 500\n",
    "train_dir, test_dir = \"..//dataset//training_data{}.txt\".format(GROUP), \"..//dataset//testing_data{}.txt\".format(GROUP)\n",
    "train, test = get_data(DATA, train_dir, COLUMNS), get_data(DATA, test_dir, COLUMNS)\n",
    "# shuffle\n",
    "train, test = train.sample(frac=1), test.sample(frac=1)\n",
    "x_train, y_train = train.drop('label', axis=1), train['label']\n",
    "x_test, y_test = test.drop('label', axis=1), test['label']"
   ]
  },
  {
   "cell_type": "code",
   "execution_count": 7,
   "metadata": {},
   "outputs": [],
   "source": [
    "# data scaling and encoding\n",
    "scaler = StandardScaler(['f1', 'f2', 'f3', 'f4', 'f5'])\n",
    "scaler.fit(x_train)\n",
    "x_train = scaler.transform(x_train)\n",
    "x_test = scaler.transform(x_test)\n",
    "y_train = one_hot_encoding(y_train, N_CLASS)\n",
    "y_test = one_hot_encoding(y_test, N_CLASS)"
   ]
  },
  {
   "cell_type": "code",
   "execution_count": 8,
   "metadata": {
    "tags": [
     "outputPrepend"
    ]
   },
   "outputs": [
    {
     "name": "stdout",
     "output_type": "stream",
     "text": [
      "Checkpoint 100, Accuracy: 0.8765432098765432, Loss: 0.5023203249330874\n",
      "Checkpoint 200, Accuracy: 0.9074074074074074, Loss: 0.3848987861915871\n",
      "Checkpoint 300, Accuracy: 0.9074074074074074, Loss: 0.38817020698829935\n",
      "Checkpoint 400, Accuracy: 0.9074074074074074, Loss: 0.38817020698829935\n",
      "Checkpoint 500, Accuracy: 0.9074074074074074, Loss: 0.38817020698829935\n"
     ]
    }
   ],
   "source": [
    "# learning phase\n",
    "breakpoint = 100\n",
    "checkpoints = list()\n",
    "history = list()\n",
    "for century in range(0, EPOCHS, breakpoint):\n",
    "    sub_history = model.fit(x_train, y_train, breakpoint, verbose = 0)\n",
    "    score = model.evaluate(x_test, y_test, False, verbose = 0)\n",
    "    print('Checkpoint {}, Accuracy: {}, Loss: {}'.format(century+breakpoint, score['accuracy'], score[model.loss_fn]))\n",
    "    score['checkpoint'] = century + breakpoint\n",
    "    checkpoints.append(score)\n",
    "    history.extend(sub_history)\n",
    "    itr = century + breakpoint\n",
    "    model.optimizer.c1 = np.max([model.optimizer.C1[1] - ((model.optimizer.C1[1] - model.optimizer.C1[0]) * itr / EPOCHS), model.optimizer.C1[0]])\n",
    "    model.optimizer.c2 = np.min([model.optimizer.C2[0] + ((model.optimizer.C2[1] - model.optimizer.C2[0]) * itr / EPOCHS), model.optimizer.C2[1]])\n",
    "    model.optimizer.w = np.max([model.optimizer.w * model.optimizer.W_Decay, model.optimizer.W[0]])"
   ]
  },
  {
   "cell_type": "code",
   "execution_count": 9,
   "metadata": {},
   "outputs": [],
   "source": [
    "import matplotlib.pyplot as plt\n",
    "\n",
    "def draw_plot(x, y_list, x_label=None, y_label=None, legend=None, title=None):\n",
    "    fig, ax = plt.subplots(figsize=(12,5))\n",
    "    for xi, yi in zip(x, y_list):\n",
    "        ax.plot(xi, yi)\n",
    "    if x_label is not None and y_label is not None:\n",
    "        ax.set(xlabel=x_label, ylabel=y_label, title='{} VS {}'.format(x_label, y_label))\n",
    "    if legend is not None:\n",
    "        ax.legend(legend)\n",
    "    ax.grid()\n",
    "    plt.show()"
   ]
  },
  {
   "cell_type": "code",
   "execution_count": 10,
   "metadata": {},
   "outputs": [
    {
     "name": "stdout",
     "output_type": "stream",
     "text": [
      "[1. 0. 0.] <-> [0.75645417 0.08940668 0.15413907]\n",
      "[0. 0. 1.] <-> [0.14022648 0.03155543 0.8282181 ]\n",
      "[1. 0. 0.] <-> [0.8187087  0.10524533 0.07604598]\n",
      "[1. 0. 0.] <-> [0.7446884  0.18787771 0.06743385]\n",
      "[1. 0. 0.] <-> [0.8728984  0.06460591 0.06249569]\n",
      "[1. 0. 0.] <-> [0.7765383  0.09431472 0.12914698]\n",
      "[1. 0. 0.] <-> [0.8521484  0.07441209 0.07343946]\n",
      "[1. 0. 0.] <-> [0.6999273  0.221519   0.07855371]\n",
      "[1. 0. 0.] <-> [0.7677205  0.15081413 0.08146539]\n",
      "[1. 0. 0.] <-> [0.80894125 0.12355685 0.06750194]\n",
      "[0. 1. 0.] <-> [0.16816026 0.8055054  0.02633433]\n",
      "[0. 0. 1.] <-> [0.49809435 0.06027538 0.44163027]\n",
      "[1. 0. 0.] <-> [0.81042093 0.11639719 0.07318189]\n",
      "[1. 0. 0.] <-> [0.8384685  0.07078165 0.0907498 ]\n",
      "[1. 0. 0.] <-> [0.70880675 0.0965441  0.19464919]\n",
      "[1. 0. 0.] <-> [0.77839494 0.12817852 0.09342652]\n",
      "[0. 0. 1.] <-> [0.45616072 0.03562456 0.5082147 ]\n",
      "[1. 0. 0.] <-> [0.6598745  0.27152455 0.06860094]\n",
      "[0. 1. 0.] <-> [0.607814   0.3570299  0.03515606]\n",
      "[1. 0. 0.] <-> [0.84739447 0.07181684 0.08078869]\n",
      "[1. 0. 0.] <-> [0.8489328  0.07989071 0.07117642]\n",
      "[1. 0. 0.] <-> [0.78895193 0.14263469 0.06841338]\n",
      "[1. 0. 0.] <-> [0.80755    0.10790632 0.08454375]\n",
      "[1. 0. 0.] <-> [0.84343    0.09140538 0.06516463]\n",
      "[1. 0. 0.] <-> [0.74592376 0.17534846 0.07872777]\n",
      "[1. 0. 0.] <-> [0.80601466 0.11628827 0.07769708]\n",
      "[1. 0. 0.] <-> [0.83297014 0.11727872 0.04975118]\n",
      "[1. 0. 0.] <-> [0.731482   0.09985907 0.16865893]\n",
      "[1. 0. 0.] <-> [0.7544594  0.15938681 0.08615383]\n",
      "[0. 1. 0.] <-> [0.19056591 0.78499424 0.02443982]\n",
      "[1. 0. 0.] <-> [0.8728349  0.04825832 0.0789068 ]\n",
      "[0. 1. 0.] <-> [0.5639258  0.37236953 0.06370466]\n",
      "[1. 0. 0.] <-> [0.7152812  0.20625933 0.07845953]\n",
      "[1. 0. 0.] <-> [0.82222193 0.09484922 0.08292887]\n",
      "[1. 0. 0.] <-> [0.83159333 0.09814388 0.07026275]\n",
      "[1. 0. 0.] <-> [0.8023018  0.12127953 0.0764186 ]\n",
      "[1. 0. 0.] <-> [0.7818485  0.08541457 0.13273697]\n",
      "[1. 0. 0.] <-> [0.85079384 0.05427823 0.09492796]\n",
      "[1. 0. 0.] <-> [0.8118528  0.13362767 0.05451949]\n",
      "[0. 1. 0.] <-> [0.5659177  0.4037132  0.03036914]\n",
      "[1. 0. 0.] <-> [0.8423455  0.08345028 0.07420415]\n",
      "[1. 0. 0.] <-> [0.87040794 0.051038   0.078554  ]\n",
      "[0. 0. 1.] <-> [0.5607148  0.03801435 0.40127087]\n",
      "[1. 0. 0.] <-> [0.7996939  0.12646954 0.07383659]\n",
      "[1. 0. 0.] <-> [0.7540414  0.14625867 0.09969993]\n",
      "[0. 1. 0.] <-> [0.2219281  0.7473605  0.03071139]\n",
      "[1. 0. 0.] <-> [0.7748099  0.1543349  0.07085528]\n",
      "[0. 0. 1.] <-> [0.66390157 0.05518749 0.28091094]\n",
      "[1. 0. 0.] <-> [0.6982813  0.24128912 0.06042956]\n",
      "[0. 1. 0.] <-> [0.18571591 0.785503   0.02878102]\n",
      "[1. 0. 0.] <-> [0.7769777  0.15688795 0.0661344 ]\n",
      "[1. 0. 0.] <-> [0.60326105 0.34340516 0.0533338 ]\n",
      "[1. 0. 0.] <-> [0.8711719  0.04988172 0.07894644]\n",
      "[1. 0. 0.] <-> [0.84674656 0.07577527 0.0774781 ]\n",
      "[1. 0. 0.] <-> [0.8506615  0.07581863 0.07351986]\n",
      "[0. 1. 0.] <-> [0.29250833 0.6750777  0.032414  ]\n",
      "[0. 0. 1.] <-> [0.5987565  0.03651233 0.36473113]\n",
      "[1. 0. 0.] <-> [0.7446761  0.19876952 0.05655432]\n",
      "[0. 0. 1.] <-> [0.6360127  0.06909727 0.29489005]\n",
      "[1. 0. 0.] <-> [0.73104566 0.22325245 0.04570184]\n",
      "[1. 0. 0.] <-> [0.71556556 0.18888626 0.09554816]\n",
      "[0. 0. 1.] <-> [0.5065574  0.03654835 0.4568942 ]\n",
      "[1. 0. 0.] <-> [0.80097866 0.09889882 0.10012247]\n",
      "[1. 0. 0.] <-> [0.68007755 0.26257077 0.05735166]\n",
      "[1. 0. 0.] <-> [0.841833   0.07267307 0.08549394]\n",
      "[0. 0. 1.] <-> [0.7990099  0.0629841  0.13800603]\n",
      "[1. 0. 0.] <-> [0.83053976 0.05643608 0.11302409]\n",
      "[1. 0. 0.] <-> [0.77577525 0.11656194 0.1076628 ]\n",
      "[0. 1. 0.] <-> [0.15738699 0.81392205 0.02869088]\n",
      "[0. 1. 0.] <-> [0.41368058 0.5456924  0.04062708]\n",
      "[1. 0. 0.] <-> [0.7695391  0.1413623  0.08909865]\n",
      "[0. 1. 0.] <-> [0.5827728  0.3896057  0.02762158]\n",
      "[0. 1. 0.] <-> [0.5254156  0.42157754 0.05300687]\n",
      "[1. 0. 0.] <-> [0.7472769  0.1428503  0.10987277]\n",
      "[0. 0. 1.] <-> [0.711397   0.03339376 0.2552093 ]\n",
      "[1. 0. 0.] <-> [0.72377145 0.17943051 0.09679806]\n",
      "[1. 0. 0.] <-> [0.84139186 0.05632954 0.10227858]\n",
      "[0. 0. 1.] <-> [0.1526684  0.04140634 0.8059252 ]\n",
      "[1. 0. 0.] <-> [0.7956621  0.07715762 0.1271803 ]\n",
      "[1. 0. 0.] <-> [0.801421   0.10768307 0.09089592]\n",
      "[1. 0. 0.] <-> [0.81883264 0.11969664 0.06147062]\n",
      "[0. 0. 1.] <-> [0.15770619 0.03215101 0.81014276]\n",
      "[0. 0. 1.] <-> [0.28602684 0.04068961 0.6732835 ]\n",
      "[1. 0. 0.] <-> [0.8562219  0.04574544 0.09803265]\n",
      "[1. 0. 0.] <-> [0.7985748  0.09818966 0.10323551]\n",
      "[1. 0. 0.] <-> [0.80027026 0.12072454 0.0790052 ]\n",
      "[1. 0. 0.] <-> [0.83660764 0.09229165 0.07110066]\n",
      "[1. 0. 0.] <-> [0.78555244 0.11363228 0.10081529]\n",
      "[1. 0. 0.] <-> [0.6693206  0.26769385 0.06298559]\n",
      "[1. 0. 0.] <-> [0.82378334 0.11212454 0.06409216]\n",
      "[1. 0. 0.] <-> [0.81458384 0.084824   0.1005922 ]\n",
      "[1. 0. 0.] <-> [0.8473546  0.09627032 0.05637509]\n",
      "[0. 0. 1.] <-> [0.85879374 0.03689824 0.10430802]\n",
      "[0. 1. 0.] <-> [0.44453385 0.5168275  0.03863861]\n",
      "[1. 0. 0.] <-> [0.84221256 0.06634857 0.0914389 ]\n",
      "[1. 0. 0.] <-> [0.84486353 0.04793281 0.10720363]\n",
      "[1. 0. 0.] <-> [0.80588555 0.12177163 0.07234281]\n",
      "[1. 0. 0.] <-> [0.82476634 0.04902449 0.12620915]\n",
      "[1. 0. 0.] <-> [0.57115215 0.08055394 0.34829393]\n",
      "[1. 0. 0.] <-> [0.79449743 0.1399006  0.06560197]\n",
      "[1. 0. 0.] <-> [0.77099127 0.09774712 0.13126156]\n",
      "[1. 0. 0.] <-> [0.8457889  0.06942252 0.0847885 ]\n",
      "[1. 0. 0.] <-> [0.58817565 0.24355759 0.16826674]\n",
      "[1. 0. 0.] <-> [0.64614046 0.30757755 0.04628206]\n",
      "[0. 1. 0.] <-> [0.25710404 0.70989454 0.0330014 ]\n",
      "[1. 0. 0.] <-> [0.7030198  0.07790326 0.21907698]\n",
      "[0. 1. 0.] <-> [0.66434175 0.29964656 0.03601172]\n",
      "[0. 1. 0.] <-> [0.1598677  0.80756396 0.03256832]\n",
      "{'accuracy': 0.9074074074074074, 'mean_square_error': 0.19988898515256584, 'categorical_crossentropy': 0.38817020698829935, 'essential_metrics': {0: {'tp_hit': 78, 'fp_hit': 15, 'tn_hit': 15, 'fn_hit': 0}, 1: {'tp_hit': 10, 'fp_hit': 0, 'tn_hit': 92, 'fn_hit': 6}, 2: {'tp_hit': 5, 'fp_hit': 0, 'tn_hit': 94, 'fn_hit': 9}}}\n"
     ]
    }
   ],
   "source": [
    "# recall phase\n",
    "score = model.evaluate(x_test, y_test, False)\n",
    "print(score)"
   ]
  },
  {
   "cell_type": "code",
   "execution_count": 11,
   "metadata": {},
   "outputs": [
    {
     "data": {
      "image/png": "[encoded data removed]",
      "text/plain": [
       "<Figure size 864x360 with 1 Axes>"
      ]
     },
     "metadata": {
      "needs_background": "light"
     },
     "output_type": "display_data"
    },
    {
     "data": {
      "image/png": "[encoded data removed]",
      "text/plain": [
       "<Figure size 864x360 with 1 Axes>"
      ]
     },
     "metadata": {
      "needs_background": "light"
     },
     "output_type": "display_data"
    }
   ],
   "source": [
    "draw_plot(x = [[i for i in range(len(history))], [(i+1)*breakpoint for i in range(len(checkpoints))]], y_list = [history, [ ckp[model.loss_fn] for ckp in checkpoints ]], x_label = 'Epochs', \\\n",
    "    y_label = model.loss_fn, legend=['train', 'test'])\n",
    "acc = [ ckp['accuracy'] for ckp in checkpoints ]\n",
    "draw_plot(x = [[(i+1)*breakpoint for i in range(len(checkpoints))]], y_list = [acc], x_label = 'Checkpoints', \\\n",
    "    y_label = 'accuracy')"
   ]
  },
  {
   "cell_type": "code",
   "execution_count": 12,
   "metadata": {},
   "outputs": [
    {
     "name": "stdout",
     "output_type": "stream",
     "text": [
      "{'accuracy': 0.8765432098765432, 'mean_square_error': 0.28211046417090285, 'categorical_crossentropy': 0.5023203249330874, 'essential_metrics': {0: {'tp_hit': 78, 'fp_hit': 20, 'tn_hit': 10, 'fn_hit': 0}, 1: {'tp_hit': 8, 'fp_hit': 0, 'tn_hit': 92, 'fn_hit': 8}, 2: {'tp_hit': 2, 'fp_hit': 0, 'tn_hit': 94, 'fn_hit': 12}}, 'checkpoint': 100} \n",
      "\n",
      "\n",
      "{'accuracy': 0.9074074074074074, 'mean_square_error': 0.19977541985853547, 'categorical_crossentropy': 0.3848987861915871, 'essential_metrics': {0: {'tp_hit': 78, 'fp_hit': 15, 'tn_hit': 15, 'fn_hit': 0}, 1: {'tp_hit': 11, 'fp_hit': 0, 'tn_hit': 92, 'fn_hit': 5}, 2: {'tp_hit': 4, 'fp_hit': 0, 'tn_hit': 94, 'fn_hit': 10}}, 'checkpoint': 200} \n",
      "\n",
      "\n",
      "{'accuracy': 0.9074074074074074, 'mean_square_error': 0.19988898515256584, 'categorical_crossentropy': 0.38817020698829935, 'essential_metrics': {0: {'tp_hit': 78, 'fp_hit': 15, 'tn_hit': 15, 'fn_hit': 0}, 1: {'tp_hit': 10, 'fp_hit': 0, 'tn_hit': 92, 'fn_hit': 6}, 2: {'tp_hit': 5, 'fp_hit': 0, 'tn_hit': 94, 'fn_hit': 9}}, 'checkpoint': 300} \n",
      "\n",
      "\n",
      "{'accuracy': 0.9074074074074074, 'mean_square_error': 0.19988898515256584, 'categorical_crossentropy': 0.38817020698829935, 'essential_metrics': {0: {'tp_hit': 78, 'fp_hit': 15, 'tn_hit': 15, 'fn_hit': 0}, 1: {'tp_hit': 10, 'fp_hit': 0, 'tn_hit': 92, 'fn_hit': 6}, 2: {'tp_hit': 5, 'fp_hit': 0, 'tn_hit': 94, 'fn_hit': 9}}, 'checkpoint': 400} \n",
      "\n",
      "\n",
      "{'accuracy': 0.9074074074074074, 'mean_square_error': 0.19988898515256584, 'categorical_crossentropy': 0.38817020698829935, 'essential_metrics': {0: {'tp_hit': 78, 'fp_hit': 15, 'tn_hit': 15, 'fn_hit': 0}, 1: {'tp_hit': 10, 'fp_hit': 0, 'tn_hit': 92, 'fn_hit': 6}, 2: {'tp_hit': 5, 'fp_hit': 0, 'tn_hit': 94, 'fn_hit': 9}}, 'checkpoint': 500} \n",
      "\n",
      "\n"
     ]
    }
   ],
   "source": [
    "for checkpoint in checkpoints:\n",
    "    print(checkpoint, '\\n\\n')"
   ]
  },
  {
   "cell_type": "code",
   "execution_count": 13,
   "metadata": {},
   "outputs": [
    {
     "name": "stdout",
     "output_type": "stream",
     "text": [
      "Layer 1\n",
      "Neuron 0: weights:\n",
      "[-0.21107     0.73122644 -0.35275117 -0.631121   -1.0378122 ]\n",
      " bias: 0.5216522812843323\n",
      "\n",
      "Neuron 1: weights:\n",
      "[ 0.60286885 -1.0647646  -0.9783053  -0.10801024  0.29610038]\n",
      " bias: 0.6209008693695068\n",
      "\n",
      "Neuron 2: weights:\n",
      "[-0.16594958  0.3330243   0.8208849   1.24922     0.8852413 ]\n",
      " bias: -0.17515304684638977\n",
      "\n",
      "Neuron 3: weights:\n",
      "[-0.5145493   0.8516505   0.55806875  0.05282271 -0.26689932]\n",
      " bias: -0.10570363700389862\n",
      "\n",
      "$\n",
      "Layer 2\n",
      "Neuron 0: weights:\n",
      "[ 1.1235554   0.915903   -1.3349274  -0.02887046]\n",
      " bias: 0.44316983222961426\n",
      "\n",
      "Neuron 1: weights:\n",
      "[ 0.38576216 -1.7725302   0.36475894  1.2720568 ]\n",
      " bias: -0.14942210912704468\n",
      "\n",
      "Neuron 2: weights:\n",
      "[-1.724125    0.7696942   1.0378981  -0.95724785]\n",
      " bias: 0.0701807290315628\n",
      "\n",
      "$\n",
      "\n"
     ]
    }
   ],
   "source": [
    "print(model)"
   ]
  }
 ],
 "metadata": {
  "kernelspec": {
   "display_name": "Python 3",
   "language": "python",
   "name": "python3"
  },
  "language_info": {
   "codemirror_mode": {
    "name": "ipython",
    "version": 3
   },
   "file_extension": ".py",
   "mimetype": "text/x-python",
   "name": "python",
   "nbconvert_exporter": "python",
   "pygments_lexer": "ipython3",
   "version": "3.6.10"
  }
 },
 "nbformat": 4,
 "nbformat_minor": 2
}
