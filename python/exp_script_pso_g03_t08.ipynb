{
 "cells": [
  {
   "cell_type": "code",
   "execution_count": 1,
   "metadata": {},
   "outputs": [],
   "source": [
    "# dependency\n",
    "import numpy as np\n",
    "import pandas as pd\n",
    "import copy\n",
    "import math\n",
    "import sys\n",
    "import os\n",
    "from activations import relu, leaky_relu, sigmoid, tanh, softmax, d_sigmoid, d_relu\n",
    "from initializers import glorot_uniform, random_normal, random_uniform\n",
    "from regularizers import l1_regularizer, l2_regularizer\n",
    "from utility import trim_tail, multiply, subtract, get_nparams, one_hot_encoding, get_data\n",
    "from metrics import MSE, CCE, ACC, PRECISION, RECALL, essential_metrics, wondering_penalty, close_gap_penalty\n",
    "from pso import PSO\n",
    "from ga import GA\n",
    "from nn import Network\n",
    "from layer import DenseLayer\n",
    "from scalers import MinMaxScaler, StandardScaler"
   ]
  },
  {
   "cell_type": "code",
   "execution_count": 2,
   "metadata": {},
   "outputs": [],
   "source": [
    "# reference\n",
    "metrics_fn_dict = dict()\n",
    "metrics_fn_dict['accuracy'] = ACC\n",
    "metrics_fn_dict['categorical_crossentropy'] = CCE\n",
    "metrics_fn_dict['mean_square_error'] = MSE\n",
    "metrics_fn_dict['precision'] = PRECISION\n",
    "metrics_fn_dict['recall'] = RECALL\n",
    "metrics_fn_dict['essential_metrics'] = essential_metrics"
   ]
  },
  {
   "cell_type": "code",
   "execution_count": 3,
   "metadata": {},
   "outputs": [],
   "source": [
    "# model\n",
    "model = Network(5, lr = None)\n",
    "model.add_layer(DenseLayer(1, 4, True, afn=sigmoid, dafn=None, rfn=None))\n",
    "model.add_layer(DenseLayer(2, 3, True, afn=softmax, dafn=None, rfn=None))"
   ]
  },
  {
   "cell_type": "code",
   "execution_count": 4,
   "metadata": {},
   "outputs": [
    {
     "name": "stdout",
     "output_type": "stream",
     "text": [
      "see one see two 2 0.5\n"
     ]
    }
   ],
   "source": [
    "pso = PSO(dict(m = 50,\n",
    "    weight_constraint = [-3, 3], \n",
    "    velocity_constraint = [-0.1, 0.1],\n",
    "    c1 = [0.5, 2],\n",
    "    c2 = [0.5, 2],\n",
    "    w = [0.5, 1.6],\n",
    "    w_decay = 0.95,\n",
    "    scale_hyperparameter = False,\n",
    "    regularizer = l2_regularizer,\n",
    "    mask = True))"
   ]
  },
  {
   "cell_type": "code",
   "execution_count": 5,
   "metadata": {},
   "outputs": [
    {
     "name": "stdout",
     "output_type": "stream",
     "text": [
      "building layer 1 with 5\n",
      "24\n",
      "building layer 2 with 4\n",
      "15\n"
     ]
    }
   ],
   "source": [
    "model.compile(loss_fn = 'categorical_crossentropy', optimizer = pso, \\\n",
    "    metrics = ['accuracy', 'mean_square_error', 'categorical_crossentropy'])"
   ]
  },
  {
   "cell_type": "code",
   "execution_count": 6,
   "metadata": {},
   "outputs": [
    {
     "name": "stdout",
     "output_type": "stream",
     "text": [
      "<class 'pandas.core.frame.DataFrame'>\n",
      "RangeIndex: 107 entries, 0 to 106\n",
      "Data columns (total 6 columns):\n",
      " #   Column  Non-Null Count  Dtype  \n",
      "---  ------  --------------  -----  \n",
      " 0   f1      107 non-null    float32\n",
      " 1   f2      107 non-null    float32\n",
      " 2   f3      107 non-null    float32\n",
      " 3   f4      107 non-null    float32\n",
      " 4   f5      107 non-null    float32\n",
      " 5   label   107 non-null    float32\n",
      "dtypes: float32(6)\n",
      "memory usage: 2.6 KB\n",
      "None\n",
      "<class 'pandas.core.frame.DataFrame'>\n",
      "RangeIndex: 108 entries, 0 to 107\n",
      "Data columns (total 6 columns):\n",
      " #   Column  Non-Null Count  Dtype  \n",
      "---  ------  --------------  -----  \n",
      " 0   f1      108 non-null    float32\n",
      " 1   f2      108 non-null    float32\n",
      " 2   f3      108 non-null    float32\n",
      " 3   f4      108 non-null    float32\n",
      " 4   f5      108 non-null    float32\n",
      " 5   label   108 non-null    float32\n",
      "dtypes: float32(6)\n",
      "memory usage: 2.7 KB\n",
      "None\n"
     ]
    }
   ],
   "source": [
    "# data loading\n",
    "DATA = os.path.join('c:\\\\Users\\\\tcumi\\\\github_repo\\\\neural-network\\\\', 'dataset')\n",
    "GROUP = 3\n",
    "COLUMNS = ['f1', 'f2', 'f3', 'f4', 'f5', 'label']\n",
    "N_CLASS = 3\n",
    "EPOCHS = 500\n",
    "train_dir, test_dir = \"..//dataset//training_data{}.txt\".format(GROUP), \"..//dataset//testing_data{}.txt\".format(GROUP)\n",
    "train, test = get_data(DATA, train_dir, COLUMNS), get_data(DATA, test_dir, COLUMNS)\n",
    "# shuffle\n",
    "train, test = train.sample(frac=1), test.sample(frac=1)\n",
    "x_train, y_train = train.drop('label', axis=1), train['label']\n",
    "x_test, y_test = test.drop('label', axis=1), test['label']"
   ]
  },
  {
   "cell_type": "code",
   "execution_count": 7,
   "metadata": {},
   "outputs": [],
   "source": [
    "# data scaling and encoding\n",
    "scaler = StandardScaler(['f1', 'f2', 'f3', 'f4', 'f5'])\n",
    "scaler.fit(x_train)\n",
    "x_train = scaler.transform(x_train)\n",
    "x_test = scaler.transform(x_test)\n",
    "y_train = one_hot_encoding(y_train, N_CLASS)\n",
    "y_test = one_hot_encoding(y_test, N_CLASS)"
   ]
  },
  {
   "cell_type": "code",
   "execution_count": 8,
   "metadata": {
    "tags": [
     "outputPrepend"
    ]
   },
   "outputs": [
    {
     "name": "stdout",
     "output_type": "stream",
     "text": [
      "Checkpoint 100, Accuracy: 0.9135802469135802, Loss: 0.4410936920731156\n",
      "Checkpoint 200, Accuracy: 0.9012345679012346, Loss: 0.38315582275390625\n",
      "Checkpoint 300, Accuracy: 0.9012345679012346, Loss: 0.3705104545310692\n",
      "Checkpoint 400, Accuracy: 0.9012345679012346, Loss: 0.3747055618851273\n",
      "Checkpoint 500, Accuracy: 0.9012345679012346, Loss: 0.3747055618851273\n"
     ]
    }
   ],
   "source": [
    "# learning phase\n",
    "breakpoint = 100\n",
    "checkpoints = list()\n",
    "history = list()\n",
    "for century in range(0, EPOCHS, breakpoint):\n",
    "    sub_history = model.fit(x_train, y_train, breakpoint, verbose = 0)\n",
    "    score = model.evaluate(x_test, y_test, False, verbose = 0)\n",
    "    print('Checkpoint {}, Accuracy: {}, Loss: {}'.format(century+breakpoint, score['accuracy'], score[model.loss_fn]))\n",
    "    score['checkpoint'] = century + breakpoint\n",
    "    checkpoints.append(score)\n",
    "    history.extend(sub_history)\n",
    "    itr = century + breakpoint\n",
    "    model.optimizer.c1 = np.max([model.optimizer.C1[1] - ((model.optimizer.C1[1] - model.optimizer.C1[0]) * itr / EPOCHS), model.optimizer.C1[0]])\n",
    "    model.optimizer.c2 = np.min([model.optimizer.C2[0] + ((model.optimizer.C2[1] - model.optimizer.C2[0]) * itr / EPOCHS), model.optimizer.C2[1]])\n",
    "    model.optimizer.w = np.max([model.optimizer.w * model.optimizer.W_Decay, model.optimizer.W[0]])"
   ]
  },
  {
   "cell_type": "code",
   "execution_count": 9,
   "metadata": {},
   "outputs": [],
   "source": [
    "import matplotlib.pyplot as plt\n",
    "\n",
    "def draw_plot(x, y_list, x_label=None, y_label=None, legend=None, title=None):\n",
    "    fig, ax = plt.subplots(figsize=(12,5))\n",
    "    for xi, yi in zip(x, y_list):\n",
    "        ax.plot(xi, yi)\n",
    "    if x_label is not None and y_label is not None:\n",
    "        ax.set(xlabel=x_label, ylabel=y_label, title='{} VS {}'.format(x_label, y_label))\n",
    "    if legend is not None:\n",
    "        ax.legend(legend)\n",
    "    ax.grid()\n",
    "    plt.show()"
   ]
  },
  {
   "cell_type": "code",
   "execution_count": 10,
   "metadata": {},
   "outputs": [
    {
     "name": "stdout",
     "output_type": "stream",
     "text": [
      "[1. 0. 0.] <-> [0.8231879  0.12843242 0.04837967]\n",
      "[0. 0. 1.] <-> [0.5324808  0.02757583 0.43994337]\n",
      "[0. 0. 1.] <-> [0.18468353 0.02483258 0.7904839 ]\n",
      "[1. 0. 0.] <-> [0.87184286 0.07025378 0.05790331]\n",
      "[1. 0. 0.] <-> [0.80584794 0.13384065 0.06031146]\n",
      "[1. 0. 0.] <-> [0.82663774 0.11500677 0.05835556]\n",
      "[1. 0. 0.] <-> [0.7907561  0.14256361 0.06668027]\n",
      "[0. 1. 0.] <-> [0.4784307  0.48829913 0.03327013]\n",
      "[1. 0. 0.] <-> [0.79397774 0.1383421  0.06768014]\n",
      "[0. 0. 1.] <-> [0.5782316  0.02698962 0.39477882]\n",
      "[1. 0. 0.] <-> [0.8178101  0.08456052 0.0976294 ]\n",
      "[1. 0. 0.] <-> [0.87517726 0.06143014 0.06339265]\n",
      "[1. 0. 0.] <-> [0.8302849  0.11259906 0.05711601]\n",
      "[1. 0. 0.] <-> [0.8385014  0.09571919 0.06577942]\n",
      "[1. 0. 0.] <-> [0.8694973  0.04295364 0.08754907]\n",
      "[1. 0. 0.] <-> [0.86082715 0.04194193 0.0972309 ]\n",
      "[1. 0. 0.] <-> [0.85441613 0.10102794 0.04455594]\n",
      "[1. 0. 0.] <-> [0.81393313 0.13575804 0.0503088 ]\n",
      "[1. 0. 0.] <-> [0.78691703 0.13594532 0.07713763]\n",
      "[0. 0. 1.] <-> [0.74565387 0.05101838 0.20332775]\n",
      "[1. 0. 0.] <-> [0.8692998  0.07109829 0.05960186]\n",
      "[1. 0. 0.] <-> [0.84047544 0.0658505  0.09367406]\n",
      "[1. 0. 0.] <-> [0.8639158  0.06455782 0.07152642]\n",
      "[0. 1. 0.] <-> [0.26468498 0.7119869  0.02332818]\n",
      "[1. 0. 0.] <-> [0.88077253 0.041355   0.07787251]\n",
      "[1. 0. 0.] <-> [0.795069   0.13252613 0.07240488]\n",
      "[1. 0. 0.] <-> [0.78072774 0.08073934 0.13853294]\n",
      "[1. 0. 0.] <-> [0.84021777 0.08402951 0.07575279]\n",
      "[1. 0. 0.] <-> [0.8354263  0.10449208 0.06008174]\n",
      "[1. 0. 0.] <-> [0.8136454  0.1275082  0.05884631]\n",
      "[1. 0. 0.] <-> [0.82737654 0.11663799 0.05598539]\n",
      "[1. 0. 0.] <-> [0.72284514 0.2180124  0.05914238]\n",
      "[1. 0. 0.] <-> [0.86563313 0.04827632 0.0860906 ]\n",
      "[1. 0. 0.] <-> [0.87370414 0.06250793 0.06378791]\n",
      "[1. 0. 0.] <-> [0.79671806 0.08213922 0.12114275]\n",
      "[0. 1. 0.] <-> [0.5311837  0.44823042 0.02058587]\n",
      "[1. 0. 0.] <-> [0.88869923 0.04691565 0.06438508]\n",
      "[1. 0. 0.] <-> [0.85389847 0.09449063 0.05161085]\n",
      "[1. 0. 0.] <-> [0.87713116 0.04879645 0.07407238]\n",
      "[1. 0. 0.] <-> [0.7612652  0.17843606 0.0602988 ]\n",
      "[1. 0. 0.] <-> [0.8748731  0.04973857 0.07538828]\n",
      "[0. 1. 0.] <-> [0.49982387 0.47767258 0.02250358]\n",
      "[1. 0. 0.] <-> [0.8332002  0.07075408 0.09604566]\n",
      "[0. 1. 0.] <-> [0.5748732  0.39786503 0.02726178]\n",
      "[0. 1. 0.] <-> [0.36121854 0.60866    0.0301215 ]\n",
      "[1. 0. 0.] <-> [0.6345464  0.31057766 0.054876  ]\n",
      "[1. 0. 0.] <-> [0.82002264 0.07254454 0.10743275]\n",
      "[0. 0. 1.] <-> [0.8780205  0.03250397 0.08947549]\n",
      "[0. 1. 0.] <-> [0.17146401 0.80791384 0.02062214]\n",
      "[1. 0. 0.] <-> [0.76188534 0.16494462 0.0731701 ]\n",
      "[1. 0. 0.] <-> [0.81265277 0.10692996 0.0804173 ]\n",
      "[1. 0. 0.] <-> [0.88826483 0.04855489 0.06318035]\n",
      "[1. 0. 0.] <-> [0.8122449  0.13307978 0.0546753 ]\n",
      "[0. 0. 1.] <-> [0.6046594  0.02639666 0.36894393]\n",
      "[0. 1. 0.] <-> [0.4813905 0.4775503 0.0410591]\n",
      "[0. 1. 0.] <-> [0.11991785 0.8583765  0.02170565]\n",
      "[1. 0. 0.] <-> [0.8213418  0.11857457 0.06008361]\n",
      "[0. 1. 0.] <-> [0.20458877 0.77326304 0.02214823]\n",
      "[1. 0. 0.] <-> [0.73493665 0.22049132 0.04457203]\n",
      "[1. 0. 0.] <-> [0.7985454  0.15682532 0.04462926]\n",
      "[1. 0. 0.] <-> [0.86330074 0.07926228 0.05743692]\n",
      "[0. 0. 1.] <-> [0.19060016 0.02106988 0.78832996]\n",
      "[1. 0. 0.] <-> [0.73536825 0.20513698 0.05949474]\n",
      "[1. 0. 0.] <-> [0.83520305 0.12604211 0.03875484]\n",
      "[1. 0. 0.] <-> [0.8377573  0.08805896 0.0741837 ]\n",
      "[1. 0. 0.] <-> [0.76950216 0.17913474 0.051363  ]\n",
      "[1. 0. 0.] <-> [0.85040486 0.10163055 0.04796462]\n",
      "[1. 0. 0.] <-> [0.757942   0.1877713  0.05428664]\n",
      "[1. 0. 0.] <-> [0.82233256 0.10319974 0.07446767]\n",
      "[1. 0. 0.] <-> [0.83147013 0.11735269 0.05117717]\n",
      "[1. 0. 0.] <-> [0.8408146  0.09542297 0.06376249]\n",
      "[0. 0. 1.] <-> [0.34582382 0.02763606 0.6265401 ]\n",
      "[0. 1. 0.] <-> [0.12480349 0.8511398  0.02405677]\n",
      "[1. 0. 0.] <-> [0.8700436  0.06659916 0.0633573 ]\n",
      "[1. 0. 0.] <-> [0.707629   0.05943666 0.23293424]\n",
      "[0. 0. 1.] <-> [0.7403813  0.02651587 0.23310284]\n",
      "[0. 0. 1.] <-> [0.15999418 0.01990181 0.82010406]\n",
      "[0. 0. 1.] <-> [0.63087267 0.04296667 0.32616058]\n",
      "[0. 0. 1.] <-> [0.75927806 0.04161229 0.19910967]\n",
      "[0. 0. 1.] <-> [0.84189665 0.05396443 0.10413898]\n",
      "[0. 1. 0.] <-> [0.63405377 0.33780888 0.02813736]\n",
      "[1. 0. 0.] <-> [0.6589323  0.21834435 0.12272331]\n",
      "[1. 0. 0.] <-> [0.64219946 0.30923626 0.0485643 ]\n",
      "[1. 0. 0.] <-> [0.6714609  0.28321406 0.04532508]\n",
      "[1. 0. 0.] <-> [0.86252284 0.08022075 0.05725646]\n",
      "[1. 0. 0.] <-> [0.71928555 0.2454883  0.03522614]\n",
      "[1. 0. 0.] <-> [0.7251315  0.20124899 0.07361948]\n",
      "[0. 0. 1.] <-> [0.49578735 0.02417172 0.4800409 ]\n",
      "[0. 1. 0.] <-> [0.1535718  0.8278054  0.01862276]\n",
      "[1. 0. 0.] <-> [0.88472867 0.06559949 0.04967193]\n",
      "[1. 0. 0.] <-> [0.86306477 0.08322648 0.05370876]\n",
      "[1. 0. 0.] <-> [0.60617924 0.35235474 0.04146599]\n",
      "[1. 0. 0.] <-> [0.8354221  0.10506003 0.0595178 ]\n",
      "[1. 0. 0.] <-> [0.8498341  0.0752716  0.07489428]\n",
      "[1. 0. 0.] <-> [0.6656747  0.28585047 0.0484749 ]\n",
      "[0. 1. 0.] <-> [0.20049627 0.7832916  0.01621213]\n",
      "[1. 0. 0.] <-> [0.8919063  0.04529455 0.0627991 ]\n",
      "[1. 0. 0.] <-> [0.77860284 0.14057033 0.0808268 ]\n",
      "[1. 0. 0.] <-> [0.8308235  0.09891314 0.07026337]\n",
      "[1. 0. 0.] <-> [0.5929682  0.37072146 0.03631033]\n",
      "[1. 0. 0.] <-> [0.8487422  0.09647516 0.05478258]\n",
      "[0. 1. 0.] <-> [0.6166409  0.3285776  0.05478151]\n",
      "[1. 0. 0.] <-> [0.78027177 0.06205909 0.1576691 ]\n",
      "[1. 0. 0.] <-> [0.86775166 0.06071997 0.07152835]\n",
      "[1. 0. 0.] <-> [0.81755334 0.08569466 0.09675198]\n",
      "[1. 0. 0.] <-> [0.81443065 0.13277723 0.05279216]\n",
      "[1. 0. 0.] <-> [0.8713139  0.07197865 0.05670744]\n",
      "[0. 1. 0.] <-> [0.23250538 0.7434705  0.02402411]\n",
      "{'accuracy': 0.9012345679012346, 'mean_square_error': 0.1969133215325949, 'categorical_crossentropy': 0.3747055618851273, 'essential_metrics': {0: {'tp_hit': 78, 'fp_hit': 16, 'tn_hit': 14, 'fn_hit': 0}, 1: {'tp_hit': 10, 'fp_hit': 0, 'tn_hit': 92, 'fn_hit': 6}, 2: {'tp_hit': 4, 'fp_hit': 0, 'tn_hit': 94, 'fn_hit': 10}}}\n"
     ]
    }
   ],
   "source": [
    "# recall phase\n",
    "score = model.evaluate(x_test, y_test, False)\n",
    "print(score)"
   ]
  },
  {
   "cell_type": "code",
   "execution_count": 11,
   "metadata": {},
   "outputs": [
    {
     "data": {
      "image/png": "[encoded data removed]",
      "text/plain": [
       "<Figure size 864x360 with 1 Axes>"
      ]
     },
     "metadata": {
      "needs_background": "light"
     },
     "output_type": "display_data"
    },
    {
     "data": {
      "image/png": "[encoded data removed]",
      "text/plain": [
       "<Figure size 864x360 with 1 Axes>"
      ]
     },
     "metadata": {
      "needs_background": "light"
     },
     "output_type": "display_data"
    }
   ],
   "source": [
    "draw_plot(x = [[i for i in range(len(history))], [(i+1)*breakpoint for i in range(len(checkpoints))]], y_list = [history, [ ckp[model.loss_fn] for ckp in checkpoints ]], x_label = 'Epochs', \\\n",
    "    y_label = model.loss_fn, legend=['train', 'test'])\n",
    "acc = [ ckp['accuracy'] for ckp in checkpoints ]\n",
    "draw_plot(x = [[(i+1)*breakpoint for i in range(len(checkpoints))]], y_list = [acc], x_label = 'Checkpoints', \\\n",
    "    y_label = 'accuracy')"
   ]
  },
  {
   "cell_type": "code",
   "execution_count": 12,
   "metadata": {},
   "outputs": [
    {
     "name": "stdout",
     "output_type": "stream",
     "text": [
      "{'accuracy': 0.9135802469135802, 'mean_square_error': 0.2338830478293374, 'categorical_crossentropy': 0.4410936920731156, 'essential_metrics': {0: {'tp_hit': 78, 'fp_hit': 14, 'tn_hit': 16, 'fn_hit': 0}, 1: {'tp_hit': 12, 'fp_hit': 0, 'tn_hit': 92, 'fn_hit': 4}, 2: {'tp_hit': 4, 'fp_hit': 0, 'tn_hit': 94, 'fn_hit': 10}}, 'checkpoint': 100} \n",
      "\n",
      "\n",
      "{'accuracy': 0.9012345679012346, 'mean_square_error': 0.19823725928672584, 'categorical_crossentropy': 0.38315582275390625, 'essential_metrics': {0: {'tp_hit': 78, 'fp_hit': 16, 'tn_hit': 14, 'fn_hit': 0}, 1: {'tp_hit': 10, 'fp_hit': 0, 'tn_hit': 92, 'fn_hit': 6}, 2: {'tp_hit': 4, 'fp_hit': 0, 'tn_hit': 94, 'fn_hit': 10}}, 'checkpoint': 200} \n",
      "\n",
      "\n",
      "{'accuracy': 0.9012345679012346, 'mean_square_error': 0.1986587353901088, 'categorical_crossentropy': 0.3705104545310692, 'essential_metrics': {0: {'tp_hit': 78, 'fp_hit': 16, 'tn_hit': 14, 'fn_hit': 0}, 1: {'tp_hit': 10, 'fp_hit': 0, 'tn_hit': 92, 'fn_hit': 6}, 2: {'tp_hit': 4, 'fp_hit': 0, 'tn_hit': 94, 'fn_hit': 10}}, 'checkpoint': 300} \n",
      "\n",
      "\n",
      "{'accuracy': 0.9012345679012346, 'mean_square_error': 0.1969133215325949, 'categorical_crossentropy': 0.3747055618851273, 'essential_metrics': {0: {'tp_hit': 78, 'fp_hit': 16, 'tn_hit': 14, 'fn_hit': 0}, 1: {'tp_hit': 10, 'fp_hit': 0, 'tn_hit': 92, 'fn_hit': 6}, 2: {'tp_hit': 4, 'fp_hit': 0, 'tn_hit': 94, 'fn_hit': 10}}, 'checkpoint': 400} \n",
      "\n",
      "\n",
      "{'accuracy': 0.9012345679012346, 'mean_square_error': 0.1969133215325949, 'categorical_crossentropy': 0.3747055618851273, 'essential_metrics': {0: {'tp_hit': 78, 'fp_hit': 16, 'tn_hit': 14, 'fn_hit': 0}, 1: {'tp_hit': 10, 'fp_hit': 0, 'tn_hit': 92, 'fn_hit': 6}, 2: {'tp_hit': 4, 'fp_hit': 0, 'tn_hit': 94, 'fn_hit': 10}}, 'checkpoint': 500} \n",
      "\n",
      "\n"
     ]
    }
   ],
   "source": [
    "for checkpoint in checkpoints:\n",
    "    print(checkpoint, '\\n\\n')"
   ]
  },
  {
   "cell_type": "code",
   "execution_count": 13,
   "metadata": {},
   "outputs": [
    {
     "name": "stdout",
     "output_type": "stream",
     "text": [
      "Layer 1\n",
      "Neuron 0: weights:\n",
      "[-0.2689686   0.60981584  0.30968282 -0.37889278 -0.69751   ]\n",
      " bias: 0.4059232771396637\n",
      "\n",
      "Neuron 1: weights:\n",
      "[-0.19374426  0.75564426 -0.08770131 -0.6512106  -0.5619899 ]\n",
      " bias: 0.5123987793922424\n",
      "\n",
      "Neuron 2: weights:\n",
      "[0.0294969  0.04695581 0.7644468  0.96562785 0.70945245]\n",
      " bias: -0.3950383961200714\n",
      "\n",
      "Neuron 3: weights:\n",
      "[ 0.95550776 -1.1984941  -1.0203755  -0.15245743  0.3567683 ]\n",
      " bias: 0.6775138974189758\n",
      "\n",
      "$\n",
      "Layer 2\n",
      "Neuron 0: weights:\n",
      "[ 0.1945638   0.83899087 -1.6268451   1.3544552 ]\n",
      " bias: 0.3957219123840332\n",
      "\n",
      "Neuron 1: weights:\n",
      "[ 0.8530778   1.0816437   0.50327045 -2.1679506 ]\n",
      " bias: -0.28480684757232666\n",
      "\n",
      "Neuron 2: weights:\n",
      "[-1.2641011  -1.3713788   1.1909009   0.75876987]\n",
      " bias: -0.06188059598207474\n",
      "\n",
      "$\n",
      "\n"
     ]
    }
   ],
   "source": [
    "print(model)"
   ]
  }
 ],
 "metadata": {
  "kernelspec": {
   "display_name": "Python 3",
   "language": "python",
   "name": "python3"
  },
  "language_info": {
   "codemirror_mode": {
    "name": "ipython",
    "version": 3
   },
   "file_extension": ".py",
   "mimetype": "text/x-python",
   "name": "python",
   "nbconvert_exporter": "python",
   "pygments_lexer": "ipython3",
   "version": "3.6.10"
  }
 },
 "nbformat": 4,
 "nbformat_minor": 2
}
