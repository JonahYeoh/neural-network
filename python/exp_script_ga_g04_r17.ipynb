{
 "cells": [
  {
   "cell_type": "code",
   "execution_count": 1,
   "metadata": {},
   "outputs": [],
   "source": [
    "# two"
   ]
  },
  {
   "cell_type": "code",
   "execution_count": 2,
   "metadata": {},
   "outputs": [],
   "source": [
    "# dependency\n",
    "import numpy as np\n",
    "import pandas as pd\n",
    "import copy\n",
    "import math\n",
    "import sys\n",
    "import os\n",
    "from activations import relu, leaky_relu, sigmoid, tanh, softmax, d_sigmoid, d_relu\n",
    "from initializers import glorot_uniform, random_normal, random_uniform\n",
    "from regularizers import l1_regularizer, l2_regularizer\n",
    "from utility import trim_tail, multiply, subtract, get_nparams, one_hot_encoding, get_data\n",
    "from metrics import MSE, CCE, ACC, PRECISION, RECALL, essential_metrics, wondering_penalty, close_gap_penalty\n",
    "from pso import PSO\n",
    "from ga import GA\n",
    "from nn import Network\n",
    "from layer import DenseLayer\n",
    "from scalers import MinMaxScaler, StandardScaler"
   ]
  },
  {
   "cell_type": "code",
   "execution_count": 3,
   "metadata": {},
   "outputs": [],
   "source": [
    "# reference\n",
    "metrics_fn_dict = dict()\n",
    "metrics_fn_dict['accuracy'] = ACC\n",
    "metrics_fn_dict['categorical_crossentropy'] = CCE\n",
    "metrics_fn_dict['mean_square_error'] = MSE\n",
    "metrics_fn_dict['precision'] = PRECISION\n",
    "metrics_fn_dict['recall'] = RECALL\n",
    "metrics_fn_dict['essential_metrics'] = essential_metrics"
   ]
  },
  {
   "cell_type": "code",
   "execution_count": 4,
   "metadata": {},
   "outputs": [],
   "source": [
    "# model\n",
    "model = Network(5, lr = None)\n",
    "model.add_layer(DenseLayer(1, 4, True, afn=sigmoid, dafn=None, rfn=None))\n",
    "model.add_layer(DenseLayer(2, 3, True, afn=softmax, dafn=None, rfn=None))"
   ]
  },
  {
   "cell_type": "code",
   "execution_count": 5,
   "metadata": {},
   "outputs": [],
   "source": [
    "# optimizer\n",
    "ga = GA(\n",
    "    dict(\n",
    "        m = 100,\n",
    "        x_rate = 0.5,\n",
    "        m_rate = 0.5,\n",
    "        weight_constraint = [-3.,3.],\n",
    "        radioactive_rating = 0.1,\n",
    "        grow_factor = 0.1,\n",
    "        scale_hyperparameter = False,\n",
    "        regularizer = None))"
   ]
  },
  {
   "cell_type": "code",
   "execution_count": 6,
   "metadata": {},
   "outputs": [
    {
     "name": "stdout",
     "output_type": "stream",
     "text": [
      "building layer 1 with 5\n",
      "24\n",
      "building layer 2 with 4\n",
      "15\n"
     ]
    }
   ],
   "source": [
    "model.compile(loss_fn = 'categorical_crossentropy', optimizer = ga, \\\n",
    "    metrics = ['accuracy', 'mean_square_error', 'categorical_crossentropy', 'precision', 'recall', 'f1'])"
   ]
  },
  {
   "cell_type": "code",
   "execution_count": 7,
   "metadata": {},
   "outputs": [
    {
     "name": "stdout",
     "output_type": "stream",
     "text": [
      "<class 'pandas.core.frame.DataFrame'>\n",
      "RangeIndex: 107 entries, 0 to 106\n",
      "Data columns (total 6 columns):\n",
      " #   Column  Non-Null Count  Dtype  \n",
      "---  ------  --------------  -----  \n",
      " 0   f1      107 non-null    float32\n",
      " 1   f2      107 non-null    float32\n",
      " 2   f3      107 non-null    float32\n",
      " 3   f4      107 non-null    float32\n",
      " 4   f5      107 non-null    float32\n",
      " 5   label   107 non-null    float32\n",
      "dtypes: float32(6)\n",
      "memory usage: 2.6 KB\n",
      "None\n",
      "<class 'pandas.core.frame.DataFrame'>\n",
      "RangeIndex: 108 entries, 0 to 107\n",
      "Data columns (total 6 columns):\n",
      " #   Column  Non-Null Count  Dtype  \n",
      "---  ------  --------------  -----  \n",
      " 0   f1      108 non-null    float32\n",
      " 1   f2      108 non-null    float32\n",
      " 2   f3      108 non-null    float32\n",
      " 3   f4      108 non-null    float32\n",
      " 4   f5      108 non-null    float32\n",
      " 5   label   108 non-null    float32\n",
      "dtypes: float32(6)\n",
      "memory usage: 2.7 KB\n",
      "None\n"
     ]
    }
   ],
   "source": [
    "# data loading\n",
    "DATA = os.path.join('c:\\\\Users\\\\tcumi\\\\github_repo\\\\neural-network\\\\', 'dataset')\n",
    "GROUP = 4\n",
    "COLUMNS = ['f1', 'f2', 'f3', 'f4', 'f5', 'label']\n",
    "N_CLASS = 3\n",
    "EPOCHS = 500\n",
    "train_dir, test_dir = \"..//dataset//training_data{}.txt\".format(GROUP), \"..//dataset//testing_data{}.txt\".format(GROUP)\n",
    "train, test = get_data(DATA, train_dir, COLUMNS), get_data(DATA, test_dir, COLUMNS)\n",
    "# shuffle\n",
    "train, test = train.sample(frac=1), test.sample(frac=1)\n",
    "x_train, y_train = train.drop('label', axis=1), train['label']\n",
    "x_test, y_test = test.drop('label', axis=1), test['label']"
   ]
  },
  {
   "cell_type": "code",
   "execution_count": 8,
   "metadata": {},
   "outputs": [],
   "source": [
    "# data scaling and encoding\n",
    "scaler = StandardScaler(['f1', 'f2', 'f3', 'f4', 'f5'])\n",
    "scaler.fit(x_train)\n",
    "x_train = scaler.transform(x_train)\n",
    "x_test = scaler.transform(x_test)\n",
    "y_train = one_hot_encoding(y_train, N_CLASS)\n",
    "y_test = one_hot_encoding(y_test, N_CLASS)"
   ]
  },
  {
   "cell_type": "code",
   "execution_count": 9,
   "metadata": {
    "scrolled": true,
    "tags": [
     "outputPrepend"
    ]
   },
   "outputs": [
    {
     "name": "stderr",
     "output_type": "stream",
     "text": [
      "C:\\Users\\tcumi\\github_repo\\neural-network\\python\\ga.py:201: RuntimeWarning: overflow encountered in add\n",
      "  self.population.sort(key=lambda p: p.fitness + np.random.uniform(-shift, shift, 1), reverse = self.aim)\n"
     ]
    },
    {
     "name": "stdout",
     "output_type": "stream",
     "text": [
      "Checkpoint 100, Accuracy: 0.9506172839506173, Loss: 0.19028040214821143\n",
      "Checkpoint 200, Accuracy: 0.9629629629629629, Loss: 0.168333371480306\n",
      "Checkpoint 300, Accuracy: 0.9691358024691358, Loss: 0.15398587120903862\n",
      "Checkpoint 400, Accuracy: 0.9691358024691358, Loss: 0.14382983137060096\n",
      "Checkpoint 500, Accuracy: 0.9691358024691358, Loss: 0.14100800620185006\n"
     ]
    }
   ],
   "source": [
    "# learning phase\n",
    "breakpoint = 100\n",
    "checkpoints = list()\n",
    "history = list()\n",
    "for century in range(0, EPOCHS, breakpoint):\n",
    "    sub_history = model.fit(x_train, y_train, breakpoint, verbose = 0)\n",
    "    score = model.evaluate(x_test, y_test, False, verbose = 0)\n",
    "    print('Checkpoint {}, Accuracy: {}, Loss: {}'.format(century+breakpoint, score['accuracy'], score[model.loss_fn]))\n",
    "    score['checkpoint'] = century + breakpoint\n",
    "    checkpoints.append(score)\n",
    "    history.extend(sub_history)\n",
    "    "
   ]
  },
  {
   "cell_type": "code",
   "execution_count": 10,
   "metadata": {},
   "outputs": [],
   "source": [
    "import matplotlib.pyplot as plt\n",
    "\n",
    "def draw_plot(x, y_list, x_label=None, y_label=None, legend=None, title=None):\n",
    "    fig, ax = plt.subplots(figsize=(12,5))\n",
    "    for xi, yi in zip(x, y_list):\n",
    "        ax.plot(xi, yi)\n",
    "    if x_label is not None and y_label is not None:\n",
    "        ax.set(xlabel=x_label, ylabel=y_label, title='{} VS {}'.format(x_label, y_label))\n",
    "    if legend is not None:\n",
    "        ax.legend(legend)\n",
    "    ax.grid()\n",
    "    plt.show()"
   ]
  },
  {
   "cell_type": "code",
   "execution_count": 11,
   "metadata": {},
   "outputs": [
    {
     "name": "stdout",
     "output_type": "stream",
     "text": [
      "[1. 0. 0.] <-> [0.98099124 0.01563918 0.00336963]\n",
      "[1. 0. 0.] <-> [0.9565538  0.03081269 0.01263354]\n",
      "[1. 0. 0.] <-> [0.9492999  0.03424746 0.01645261]\n",
      "[0. 0. 1.] <-> [0.07045717 0.00813929 0.9214035 ]\n",
      "[1. 0. 0.] <-> [0.9795125  0.01143506 0.00905231]\n",
      "[1. 0. 0.] <-> [0.9751473  0.01545822 0.00939448]\n",
      "[0. 0. 1.] <-> [0.63824046 0.0103204  0.35143918]\n",
      "[1. 0. 0.] <-> [0.6656304  0.3289632  0.00540637]\n",
      "[0. 1. 0.] <-> [7.3611706e-02 9.2553544e-01 8.5291272e-04]\n",
      "[1. 0. 0.] <-> [0.95447826 0.01831157 0.02721005]\n",
      "[0. 1. 0.] <-> [0.55225563 0.44557467 0.00216969]\n",
      "[1. 0. 0.] <-> [0.9401594  0.05407729 0.00576325]\n",
      "[1. 0. 0.] <-> [0.9700734  0.02043143 0.00949516]\n",
      "[1. 0. 0.] <-> [0.9755986  0.01906233 0.0053391 ]\n",
      "[1. 0. 0.] <-> [0.9807022  0.00698813 0.01230967]\n",
      "[0. 1. 0.] <-> [1.4624158e-01 8.5301650e-01 7.4195262e-04]\n",
      "[1. 0. 0.] <-> [0.97939235 0.00617743 0.01443031]\n",
      "[1. 0. 0.] <-> [0.9507837  0.04180211 0.00741413]\n",
      "[1. 0. 0.] <-> [0.9625729  0.03092708 0.00650003]\n",
      "[0. 0. 1.] <-> [0.05875799 0.00761104 0.93363094]\n",
      "[1. 0. 0.] <-> [0.98120123 0.0159513  0.00284743]\n",
      "[0. 0. 1.] <-> [0.04449437 0.00694104 0.9485646 ]\n",
      "[0. 1. 0.] <-> [0.30615103 0.6923172  0.00153173]\n",
      "[1. 0. 0.] <-> [0.8983638  0.00673176 0.09490441]\n",
      "[1. 0. 0.] <-> [0.9744664  0.00926724 0.01626643]\n",
      "[1. 0. 0.] <-> [0.91643924 0.07184856 0.01171222]\n",
      "[1. 0. 0.] <-> [0.9737549  0.0202732  0.00597188]\n",
      "[1. 0. 0.] <-> [0.9249267  0.06828193 0.0067913 ]\n",
      "[1. 0. 0.] <-> [0.95695454 0.00749968 0.03554576]\n",
      "[1. 0. 0.] <-> [0.9652594  0.01482821 0.01991236]\n",
      "[1. 0. 0.] <-> [0.6794396  0.04925495 0.2713055 ]\n",
      "[1. 0. 0.] <-> [0.978357   0.01474499 0.00689809]\n",
      "[1. 0. 0.] <-> [0.97319406 0.01695091 0.00985506]\n",
      "[1. 0. 0.] <-> [0.9332286  0.00483869 0.06193276]\n",
      "[1. 0. 0.] <-> [0.98268837 0.01207006 0.00524162]\n",
      "[1. 0. 0.] <-> [0.74370974 0.25126675 0.00502352]\n",
      "[0. 1. 0.] <-> [6.0643367e-02 9.3847746e-01 8.7922829e-04]\n",
      "[1. 0. 0.] <-> [0.9801894  0.01186667 0.00794389]\n",
      "[1. 0. 0.] <-> [0.9540152  0.00776707 0.03821782]\n",
      "[0. 1. 0.] <-> [0.17639142 0.8219758  0.0016328 ]\n",
      "[1. 0. 0.] <-> [0.9346405  0.00585651 0.05950288]\n",
      "[1. 0. 0.] <-> [0.976838   0.01910559 0.0040563 ]\n",
      "[1. 0. 0.] <-> [0.9709444  0.02429207 0.00476351]\n",
      "[1. 0. 0.] <-> [0.93553257 0.05886202 0.00560539]\n",
      "[0. 1. 0.] <-> [6.147198e-02 9.376603e-01 8.677830e-04]\n",
      "[1. 0. 0.] <-> [0.97285175 0.02064854 0.00649976]\n",
      "[1. 0. 0.] <-> [0.95108944 0.04275599 0.00615457]\n",
      "[1. 0. 0.] <-> [0.33978963 0.6578674  0.00234308]\n",
      "[0. 0. 1.] <-> [0.04152811 0.00681497 0.9516569 ]\n",
      "[1. 0. 0.] <-> [0.9728855  0.02057554 0.00653894]\n",
      "[0. 1. 0.] <-> [0.64424855 0.34950066 0.0062508 ]\n",
      "[1. 0. 0.] <-> [0.9711284  0.02474552 0.00412605]\n",
      "[1. 0. 0.] <-> [0.7660779  0.00909284 0.22482926]\n",
      "[1. 0. 0.] <-> [0.9753863  0.0193497  0.00526402]\n",
      "[1. 0. 0.] <-> [0.95648074 0.0378034  0.00571575]\n",
      "[0. 0. 1.] <-> [0.13208391 0.01158788 0.8563282 ]\n",
      "[1. 0. 0.] <-> [0.55504316 0.43959102 0.00536578]\n",
      "[0. 1. 0.] <-> [6.2484138e-02 9.3665940e-01 8.5650623e-04]\n",
      "[1. 0. 0.] <-> [0.96539646 0.02929963 0.00530394]\n",
      "[0. 1. 0.] <-> [2.3215197e-01 7.6710188e-01 7.4613973e-04]\n",
      "[0. 1. 0.] <-> [6.1438765e-02 9.3769300e-01 8.6824538e-04]\n",
      "[0. 0. 1.] <-> [0.0659653  0.00788788 0.9261468 ]\n",
      "[1. 0. 0.] <-> [0.9712803  0.01793877 0.0107809 ]\n",
      "[0. 0. 1.] <-> [0.04201028 0.00686459 0.95112514]\n",
      "[0. 0. 1.] <-> [0.23943295 0.01900017 0.74156684]\n",
      "[1. 0. 0.] <-> [0.9595001  0.03311813 0.00738186]\n",
      "[1. 0. 0.] <-> [0.9814647  0.0093968  0.00913855]\n",
      "[1. 0. 0.] <-> [0.97959536 0.00924886 0.01115576]\n",
      "[1. 0. 0.] <-> [0.9830293  0.01164991 0.00532077]\n",
      "[1. 0. 0.] <-> [0.97618335 0.00789594 0.01592075]\n",
      "[1. 0. 0.] <-> [0.5308275  0.46543175 0.00374071]\n",
      "[0. 1. 0.] <-> [0.1306478  0.8679657  0.00138647]\n",
      "[1. 0. 0.] <-> [0.85220444 0.02092606 0.12686951]\n",
      "[1. 0. 0.] <-> [0.95350844 0.00564136 0.04085011]\n",
      "[1. 0. 0.] <-> [0.9646153  0.02472225 0.01066238]\n",
      "[0. 1. 0.] <-> [6.4225473e-02 9.3493915e-01 8.3533942e-04]\n",
      "[1. 0. 0.] <-> [0.9722021  0.01325702 0.01454079]\n",
      "[1. 0. 0.] <-> [0.91091937 0.08616182 0.00291883]\n",
      "[1. 0. 0.] <-> [0.9507042  0.00482314 0.04447267]\n",
      "[1. 0. 0.] <-> [0.94411755 0.02154233 0.03434019]\n",
      "[1. 0. 0.] <-> [0.9832587  0.00880615 0.00793507]\n",
      "[1. 0. 0.] <-> [0.92420036 0.02312098 0.05267867]\n",
      "[0. 1. 0.] <-> [6.0333166e-02 9.3878317e-01 8.8364061e-04]\n",
      "[1. 0. 0.] <-> [0.9577876  0.03281974 0.00939268]\n",
      "[1. 0. 0.] <-> [0.9724407  0.01606567 0.01149367]\n",
      "[1. 0. 0.] <-> [0.9794454  0.00823268 0.01232197]\n",
      "[0. 1. 0.] <-> [6.0123235e-02 9.3899012e-01 8.8662212e-04]\n",
      "[1. 0. 0.] <-> [0.9333289  0.02215202 0.04451902]\n",
      "[1. 0. 0.] <-> [0.92495596 0.00741966 0.06762435]\n",
      "[1. 0. 0.] <-> [0.9088234  0.07382237 0.01735431]\n",
      "[1. 0. 0.] <-> [0.96374553 0.01349729 0.02275718]\n",
      "[1. 0. 0.] <-> [0.96380657 0.02759166 0.00860181]\n",
      "[0. 0. 1.] <-> [0.04367862 0.00736696 0.9489544 ]\n",
      "[1. 0. 0.] <-> [0.845228   0.03559179 0.11918016]\n",
      "[1. 0. 0.] <-> [0.9696555  0.02517878 0.00516566]\n",
      "[1. 0. 0.] <-> [0.97532564 0.01850879 0.0061656 ]\n",
      "[0. 0. 1.] <-> [0.7558476  0.01618179 0.22797069]\n",
      "[1. 0. 0.] <-> [0.96511215 0.02313841 0.01174942]\n",
      "[1. 0. 0.] <-> [0.6858621  0.3092021  0.00493572]\n",
      "[1. 0. 0.] <-> [0.974631   0.01913105 0.00623797]\n",
      "[0. 0. 1.] <-> [0.05538191 0.00767184 0.9369462 ]\n",
      "[0. 1. 0.] <-> [6.0163338e-02 9.3895060e-01 8.8604429e-04]\n",
      "[1. 0. 0.] <-> [0.8571934  0.00831836 0.1344882 ]\n",
      "[1. 0. 0.] <-> [0.91468686 0.08070682 0.00460628]\n",
      "[1. 0. 0.] <-> [0.9828927  0.00688822 0.01021913]\n",
      "[1. 0. 0.] <-> [0.9728716  0.01639981 0.01072857]\n",
      "[0. 0. 1.] <-> [0.4279102  0.01786622 0.55422354]\n",
      "[0. 0. 1.] <-> [0.2765116  0.01217265 0.71131575]\n",
      "{'accuracy': 0.9691358024691358, 'mean_square_error': 0.07026748520692658, 'categorical_crossentropy': 0.14100800620185006, 'precision': 0.9537037037037037, 'recall': 0.9537037037037037, 'f1': 0.9537037037037037, 'essential_metrics': {0: {'tp_hit': 77, 'fp_hit': 4, 'tn_hit': 26, 'fn_hit': 1}, 1: {'tp_hit': 14, 'fp_hit': 1, 'tn_hit': 91, 'fn_hit': 2}, 2: {'tp_hit': 12, 'fp_hit': 0, 'tn_hit': 94, 'fn_hit': 2}}}\n"
     ]
    }
   ],
   "source": [
    "# recall phase\n",
    "score = model.evaluate(x_test, y_test, False)\n",
    "print(score)"
   ]
  },
  {
   "cell_type": "code",
   "execution_count": 12,
   "metadata": {},
   "outputs": [],
   "source": [
    "# Testing Performance"
   ]
  },
  {
   "cell_type": "code",
   "execution_count": 13,
   "metadata": {},
   "outputs": [
    {
     "data": {
      "image/png": "[encoded data removed]",
      "text/plain": [
       "<Figure size 864x360 with 1 Axes>"
      ]
     },
     "metadata": {
      "needs_background": "light"
     },
     "output_type": "display_data"
    },
    {
     "data": {
      "image/png": "[encoded data removed]",
      "text/plain": [
       "<Figure size 864x360 with 1 Axes>"
      ]
     },
     "metadata": {
      "needs_background": "light"
     },
     "output_type": "display_data"
    }
   ],
   "source": [
    "draw_plot(x = [[i for i in range(len(history))], [(i+1)*breakpoint for i in range(len(checkpoints))]], y_list = [history, [ ckp[model.loss_fn] for ckp in checkpoints ]], x_label = 'Epochs', \\\n",
    "    y_label = model.loss_fn, legend=['train', 'test'])\n",
    "acc = [ ckp['accuracy'] for ckp in checkpoints ]\n",
    "draw_plot(x = [[(i+1)*breakpoint for i in range(len(checkpoints))]], y_list = [acc], x_label = 'Checkpoints', \\\n",
    "    y_label = 'accuracy')"
   ]
  },
  {
   "cell_type": "code",
   "execution_count": 14,
   "metadata": {
    "scrolled": false
   },
   "outputs": [
    {
     "name": "stdout",
     "output_type": "stream",
     "text": [
      "{'accuracy': 0.9506172839506173, 'mean_square_error': 0.09957813819636749, 'categorical_crossentropy': 0.19028040214821143, 'precision': 0.9259259259259259, 'recall': 0.9259259259259259, 'f1': 0.9259259259259259, 'essential_metrics': {0: {'tp_hit': 77, 'fp_hit': 7, 'tn_hit': 23, 'fn_hit': 1}, 1: {'tp_hit': 13, 'fp_hit': 1, 'tn_hit': 91, 'fn_hit': 3}, 2: {'tp_hit': 10, 'fp_hit': 0, 'tn_hit': 94, 'fn_hit': 4}}, 'checkpoint': 100} \n",
      "\n",
      "\n",
      "{'accuracy': 0.9629629629629629, 'mean_square_error': 0.08232933063409004, 'categorical_crossentropy': 0.168333371480306, 'precision': 0.9444444444444444, 'recall': 0.9444444444444444, 'f1': 0.9444444444444444, 'essential_metrics': {0: {'tp_hit': 77, 'fp_hit': 5, 'tn_hit': 25, 'fn_hit': 1}, 1: {'tp_hit': 14, 'fp_hit': 1, 'tn_hit': 91, 'fn_hit': 2}, 2: {'tp_hit': 11, 'fp_hit': 0, 'tn_hit': 94, 'fn_hit': 3}}, 'checkpoint': 200} \n",
      "\n",
      "\n",
      "{'accuracy': 0.9691358024691358, 'mean_square_error': 0.0751568901472863, 'categorical_crossentropy': 0.15398587120903862, 'precision': 0.9537037037037037, 'recall': 0.9537037037037037, 'f1': 0.9537037037037037, 'essential_metrics': {0: {'tp_hit': 77, 'fp_hit': 4, 'tn_hit': 26, 'fn_hit': 1}, 1: {'tp_hit': 14, 'fp_hit': 1, 'tn_hit': 91, 'fn_hit': 2}, 2: {'tp_hit': 12, 'fp_hit': 0, 'tn_hit': 94, 'fn_hit': 2}}, 'checkpoint': 300} \n",
      "\n",
      "\n",
      "{'accuracy': 0.9691358024691358, 'mean_square_error': 0.0689870783534942, 'categorical_crossentropy': 0.14382983137060096, 'precision': 0.9537037037037037, 'recall': 0.9537037037037037, 'f1': 0.9537037037037037, 'essential_metrics': {0: {'tp_hit': 77, 'fp_hit': 4, 'tn_hit': 26, 'fn_hit': 1}, 1: {'tp_hit': 14, 'fp_hit': 1, 'tn_hit': 91, 'fn_hit': 2}, 2: {'tp_hit': 12, 'fp_hit': 0, 'tn_hit': 94, 'fn_hit': 2}}, 'checkpoint': 400} \n",
      "\n",
      "\n",
      "{'accuracy': 0.9691358024691358, 'mean_square_error': 0.07026748520692658, 'categorical_crossentropy': 0.14100800620185006, 'precision': 0.9537037037037037, 'recall': 0.9537037037037037, 'f1': 0.9537037037037037, 'essential_metrics': {0: {'tp_hit': 77, 'fp_hit': 4, 'tn_hit': 26, 'fn_hit': 1}, 1: {'tp_hit': 14, 'fp_hit': 1, 'tn_hit': 91, 'fn_hit': 2}, 2: {'tp_hit': 12, 'fp_hit': 0, 'tn_hit': 94, 'fn_hit': 2}}, 'checkpoint': 500} \n",
      "\n",
      "\n"
     ]
    }
   ],
   "source": [
    "for checkpoint in checkpoints:\n",
    "    print(checkpoint, '\\n\\n')"
   ]
  },
  {
   "cell_type": "code",
   "execution_count": 15,
   "metadata": {},
   "outputs": [
    {
     "name": "stdout",
     "output_type": "stream",
     "text": [
      "Layer 1\n",
      "Neuron 0: weights:\n",
      "[ 0.971001   -2.919831   -2.3559237   2.5230396   0.23690689]\n",
      " bias: -1.4155452251434326\n",
      "\n",
      "Neuron 1: weights:\n",
      "[-2.315567   3.         3.         1.8559376 -1.7511096]\n",
      " bias: -2.7078611850738525\n",
      "\n",
      "Neuron 2: weights:\n",
      "[-0.15116581  2.3309362   1.0835975  -0.7983745  -1.9973061 ]\n",
      " bias: 2.3113486766815186\n",
      "\n",
      "Neuron 3: weights:\n",
      "[ 0.20469993 -0.09761599 -1.8265308  -2.7950153  -0.362022  ]\n",
      " bias: -1.6165761947631836\n",
      "\n",
      "$\n",
      "Layer 2\n",
      "Neuron 0: weights:\n",
      "[ 0.42076698 -3.          2.0208545   2.9116964 ]\n",
      " bias: -1.3413212299346924\n",
      "\n",
      "Neuron 1: weights:\n",
      "[-2.1080728  3.        -1.954365   1.3112713]\n",
      " bias: -0.617047905921936\n",
      "\n",
      "Neuron 2: weights:\n",
      "[ 3.         -2.7518756  -3.         -0.04814354]\n",
      " bias: -0.7841291427612305\n",
      "\n",
      "$\n",
      "\n"
     ]
    }
   ],
   "source": [
    "print(model)"
   ]
  }
 ],
 "metadata": {
  "kernelspec": {
   "display_name": "Python 3",
   "language": "python",
   "name": "python3"
  },
  "language_info": {
   "codemirror_mode": {
    "name": "ipython",
    "version": 3
   },
   "file_extension": ".py",
   "mimetype": "text/x-python",
   "name": "python",
   "nbconvert_exporter": "python",
   "pygments_lexer": "ipython3",
   "version": "3.6.10"
  }
 },
 "nbformat": 4,
 "nbformat_minor": 2
}
