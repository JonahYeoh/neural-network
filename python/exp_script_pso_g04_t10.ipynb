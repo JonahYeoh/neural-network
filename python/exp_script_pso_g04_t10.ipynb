{
 "cells": [
  {
   "cell_type": "code",
   "execution_count": 1,
   "metadata": {},
   "outputs": [],
   "source": [
    "# dependency\n",
    "import numpy as np\n",
    "import pandas as pd\n",
    "import copy\n",
    "import math\n",
    "import sys\n",
    "import os\n",
    "from activations import relu, leaky_relu, sigmoid, tanh, softmax, d_sigmoid, d_relu\n",
    "from initializers import glorot_uniform, random_normal, random_uniform\n",
    "from regularizers import l1_regularizer, l2_regularizer\n",
    "from utility import trim_tail, multiply, subtract, get_nparams, one_hot_encoding, get_data\n",
    "from metrics import MSE, CCE, ACC, PRECISION, RECALL, essential_metrics, wondering_penalty, close_gap_penalty\n",
    "from pso import PSO\n",
    "from ga import GA\n",
    "from nn import Network\n",
    "from layer import DenseLayer\n",
    "from scalers import MinMaxScaler, StandardScaler"
   ]
  },
  {
   "cell_type": "code",
   "execution_count": 2,
   "metadata": {},
   "outputs": [],
   "source": [
    "# reference\n",
    "metrics_fn_dict = dict()\n",
    "metrics_fn_dict['accuracy'] = ACC\n",
    "metrics_fn_dict['categorical_crossentropy'] = CCE\n",
    "metrics_fn_dict['mean_square_error'] = MSE\n",
    "metrics_fn_dict['precision'] = PRECISION\n",
    "metrics_fn_dict['recall'] = RECALL\n",
    "metrics_fn_dict['essential_metrics'] = essential_metrics"
   ]
  },
  {
   "cell_type": "code",
   "execution_count": 3,
   "metadata": {},
   "outputs": [],
   "source": [
    "# model\n",
    "model = Network(5, lr = None)\n",
    "model.add_layer(DenseLayer(1, 4, True, afn=sigmoid, dafn=None, rfn=None))\n",
    "model.add_layer(DenseLayer(2, 3, True, afn=softmax, dafn=None, rfn=None))"
   ]
  },
  {
   "cell_type": "code",
   "execution_count": 4,
   "metadata": {},
   "outputs": [
    {
     "name": "stdout",
     "output_type": "stream",
     "text": [
      "see one see two 2 0.5\n"
     ]
    }
   ],
   "source": [
    "pso = PSO(dict(m = 50,\n",
    "    weight_constraint = [-3, 3], \n",
    "    velocity_constraint = [-0.1, 0.1],\n",
    "    c1 = [0.5, 2],\n",
    "    c2 = [0.5, 2],\n",
    "    w = [0.5, 1.6],\n",
    "    w_decay = 0.95,\n",
    "    scale_hyperparameter = False,\n",
    "    regularizer = None,\n",
    "    mask = True))"
   ]
  },
  {
   "cell_type": "code",
   "execution_count": 5,
   "metadata": {},
   "outputs": [
    {
     "name": "stdout",
     "output_type": "stream",
     "text": [
      "building layer 1 with 5\n",
      "24\n",
      "building layer 2 with 4\n",
      "15\n"
     ]
    }
   ],
   "source": [
    "model.compile(loss_fn = 'categorical_crossentropy', optimizer = pso, \\\n",
    "    metrics = ['accuracy', 'mean_square_error', 'categorical_crossentropy'])"
   ]
  },
  {
   "cell_type": "code",
   "execution_count": 6,
   "metadata": {},
   "outputs": [
    {
     "name": "stdout",
     "output_type": "stream",
     "text": [
      "<class 'pandas.core.frame.DataFrame'>\n",
      "RangeIndex: 107 entries, 0 to 106\n",
      "Data columns (total 6 columns):\n",
      " #   Column  Non-Null Count  Dtype  \n",
      "---  ------  --------------  -----  \n",
      " 0   f1      107 non-null    float32\n",
      " 1   f2      107 non-null    float32\n",
      " 2   f3      107 non-null    float32\n",
      " 3   f4      107 non-null    float32\n",
      " 4   f5      107 non-null    float32\n",
      " 5   label   107 non-null    float32\n",
      "dtypes: float32(6)\n",
      "memory usage: 2.6 KB\n",
      "None\n",
      "<class 'pandas.core.frame.DataFrame'>\n",
      "RangeIndex: 108 entries, 0 to 107\n",
      "Data columns (total 6 columns):\n",
      " #   Column  Non-Null Count  Dtype  \n",
      "---  ------  --------------  -----  \n",
      " 0   f1      108 non-null    float32\n",
      " 1   f2      108 non-null    float32\n",
      " 2   f3      108 non-null    float32\n",
      " 3   f4      108 non-null    float32\n",
      " 4   f5      108 non-null    float32\n",
      " 5   label   108 non-null    float32\n",
      "dtypes: float32(6)\n",
      "memory usage: 2.7 KB\n",
      "None\n"
     ]
    }
   ],
   "source": [
    "# data loading\n",
    "DATA = os.path.join('c:\\\\Users\\\\tcumi\\\\github_repo\\\\neural-network\\\\', 'dataset')\n",
    "GROUP = 4\n",
    "COLUMNS = ['f1', 'f2', 'f3', 'f4', 'f5', 'label']\n",
    "N_CLASS = 3\n",
    "EPOCHS = 500\n",
    "train_dir, test_dir = \"..//dataset//training_data{}.txt\".format(GROUP), \"..//dataset//testing_data{}.txt\".format(GROUP)\n",
    "train, test = get_data(DATA, train_dir, COLUMNS), get_data(DATA, test_dir, COLUMNS)\n",
    "# shuffle\n",
    "train, test = train.sample(frac=1), test.sample(frac=1)\n",
    "x_train, y_train = train.drop('label', axis=1), train['label']\n",
    "x_test, y_test = test.drop('label', axis=1), test['label']"
   ]
  },
  {
   "cell_type": "code",
   "execution_count": 7,
   "metadata": {},
   "outputs": [],
   "source": [
    "# data scaling and encoding\n",
    "scaler = StandardScaler(['f1', 'f2', 'f3', 'f4', 'f5'])\n",
    "scaler.fit(x_train)\n",
    "x_train = scaler.transform(x_train)\n",
    "x_test = scaler.transform(x_test)\n",
    "y_train = one_hot_encoding(y_train, N_CLASS)\n",
    "y_test = one_hot_encoding(y_test, N_CLASS)"
   ]
  },
  {
   "cell_type": "code",
   "execution_count": 8,
   "metadata": {
    "tags": [
     "outputPrepend"
    ]
   },
   "outputs": [
    {
     "name": "stdout",
     "output_type": "stream",
     "text": [
      "Checkpoint 100, Accuracy: 0.9135802469135802, Loss: 0.34765921698676217\n",
      "Checkpoint 200, Accuracy: 0.9567901234567902, Loss: 0.16539118025037977\n",
      "Checkpoint 300, Accuracy: 0.9629629629629629, Loss: 0.1333845986260308\n",
      "Checkpoint 400, Accuracy: 0.9506172839506173, Loss: 0.14085719320509169\n",
      "Checkpoint 500, Accuracy: 0.9567901234567902, Loss: 0.1366338464948866\n"
     ]
    }
   ],
   "source": [
    "# learning phase\n",
    "breakpoint = 100\n",
    "checkpoints = list()\n",
    "history = list()\n",
    "for century in range(0, EPOCHS, breakpoint):\n",
    "    sub_history = model.fit(x_train, y_train, breakpoint, verbose = 0)\n",
    "    score = model.evaluate(x_test, y_test, False, verbose = 0)\n",
    "    print('Checkpoint {}, Accuracy: {}, Loss: {}'.format(century+breakpoint, score['accuracy'], score[model.loss_fn]))\n",
    "    score['checkpoint'] = century + breakpoint\n",
    "    checkpoints.append(score)\n",
    "    history.extend(sub_history)\n",
    "    itr = century + breakpoint\n",
    "    model.optimizer.c1 = np.max([model.optimizer.C1[1] - ((model.optimizer.C1[1] - model.optimizer.C1[0]) * itr / EPOCHS), model.optimizer.C1[0]])\n",
    "    model.optimizer.c2 = np.min([model.optimizer.C2[0] + ((model.optimizer.C2[1] - model.optimizer.C2[0]) * itr / EPOCHS), model.optimizer.C2[1]])\n",
    "    model.optimizer.w = np.max([model.optimizer.w * model.optimizer.W_Decay, model.optimizer.W[0]])"
   ]
  },
  {
   "cell_type": "code",
   "execution_count": 9,
   "metadata": {},
   "outputs": [],
   "source": [
    "import matplotlib.pyplot as plt\n",
    "\n",
    "def draw_plot(x, y_list, x_label=None, y_label=None, legend=None, title=None):\n",
    "    fig, ax = plt.subplots(figsize=(12,5))\n",
    "    for xi, yi in zip(x, y_list):\n",
    "        ax.plot(xi, yi)\n",
    "    if x_label is not None and y_label is not None:\n",
    "        ax.set(xlabel=x_label, ylabel=y_label, title='{} VS {}'.format(x_label, y_label))\n",
    "    if legend is not None:\n",
    "        ax.legend(legend)\n",
    "    ax.grid()\n",
    "    plt.show()"
   ]
  },
  {
   "cell_type": "code",
   "execution_count": 10,
   "metadata": {},
   "outputs": [
    {
     "name": "stdout",
     "output_type": "stream",
     "text": [
      "[1. 0. 0.] <-> [9.978854e-01 9.237934e-04 1.190743e-03]\n",
      "[1. 0. 0.] <-> [0.987229   0.00102144 0.01174965]\n",
      "[1. 0. 0.] <-> [0.99619365 0.00119046 0.00261596]\n",
      "[1. 0. 0.] <-> [0.5076197  0.48627883 0.00610149]\n",
      "[1. 0. 0.] <-> [0.9945251  0.00231518 0.00315975]\n",
      "[1. 0. 0.] <-> [0.99665487 0.00204475 0.00130038]\n",
      "[1. 0. 0.] <-> [0.9943256  0.00182874 0.00384574]\n",
      "[1. 0. 0.] <-> [9.9778014e-01 9.9306391e-04 1.2268217e-03]\n",
      "[0. 0. 1.] <-> [1.3681095e-02 5.5878970e-04 9.8576015e-01]\n",
      "[0. 1. 0.] <-> [0.00744327 0.9901002  0.00245656]\n",
      "[1. 0. 0.] <-> [0.9520213  0.00587199 0.04210678]\n",
      "[1. 0. 0.] <-> [0.78248906 0.00802517 0.20948581]\n",
      "[1. 0. 0.] <-> [0.9871955  0.00800188 0.00480262]\n",
      "[1. 0. 0.] <-> [9.9136227e-01 9.2728611e-04 7.7104867e-03]\n",
      "[1. 0. 0.] <-> [0.995641   0.00106908 0.00328998]\n",
      "[0. 1. 0.] <-> [0.00710716 0.9903874  0.00250543]\n",
      "[1. 0. 0.] <-> [0.9771385  0.02049365 0.00236791]\n",
      "[1. 0. 0.] <-> [0.9939672  0.00111699 0.00491579]\n",
      "[0. 0. 1.] <-> [7.9082139e-03 4.2772584e-04 9.9166405e-01]\n",
      "[1. 0. 0.] <-> [0.990606   0.0077054  0.00168857]\n",
      "[1. 0. 0.] <-> [0.99741024 0.00110708 0.0014827 ]\n",
      "[1. 0. 0.] <-> [9.9766576e-01 1.3823379e-03 9.5193379e-04]\n",
      "[1. 0. 0.] <-> [9.9597651e-01 3.1015386e-03 9.2194707e-04]\n",
      "[0. 1. 0.] <-> [0.00637097 0.9909949  0.0026342 ]\n",
      "[1. 0. 0.] <-> [0.9047157  0.03207013 0.06321423]\n",
      "[1. 0. 0.] <-> [0.08738143 0.9043635  0.00825514]\n",
      "[0. 1. 0.] <-> [0.00656648 0.9905252  0.0029083 ]\n",
      "[0. 1. 0.] <-> [0.7120788  0.28665754 0.00126369]\n",
      "[0. 1. 0.] <-> [0.0041582  0.99269766 0.00314409]\n",
      "[1. 0. 0.] <-> [0.92787695 0.0009449  0.07117825]\n",
      "[0. 1. 0.] <-> [0.01950208 0.9771802  0.00331767]\n",
      "[1. 0. 0.] <-> [0.99442554 0.00341375 0.00216073]\n",
      "[0. 1. 0.] <-> [0.01813475 0.9776519  0.00421336]\n",
      "[1. 0. 0.] <-> [0.99701107 0.00193399 0.00105496]\n",
      "[1. 0. 0.] <-> [0.98410046 0.0067838  0.00911579]\n",
      "[1. 0. 0.] <-> [0.9972199  0.00120218 0.00157783]\n",
      "[1. 0. 0.] <-> [0.99713755 0.00140662 0.00145595]\n",
      "[1. 0. 0.] <-> [9.942379e-01 9.784979e-04 4.783571e-03]\n",
      "[1. 0. 0.] <-> [0.99723285 0.00102455 0.00174265]\n",
      "[1. 0. 0.] <-> [0.9975121  0.00103599 0.00145198]\n",
      "[1. 0. 0.] <-> [0.9966176  0.0022602  0.00112219]\n",
      "[1. 0. 0.] <-> [0.99750394 0.00149102 0.00100499]\n",
      "[1. 0. 0.] <-> [0.9973888  0.00127808 0.0013332 ]\n",
      "[1. 0. 0.] <-> [0.50178474 0.01051869 0.48769656]\n",
      "[1. 0. 0.] <-> [0.99624395 0.00159713 0.00215893]\n",
      "[1. 0. 0.] <-> [0.961357   0.00407722 0.03456576]\n",
      "[1. 0. 0.] <-> [0.99708027 0.00171075 0.00120889]\n",
      "[0. 1. 0.] <-> [0.00130101 0.9935859  0.00511317]\n",
      "[1. 0. 0.] <-> [9.9649054e-01 9.7890256e-04 2.5304477e-03]\n",
      "[0. 0. 1.] <-> [1.0346080e-02 4.7784025e-04 9.8917609e-01]\n",
      "[1. 0. 0.] <-> [9.9768412e-01 8.8088936e-04 1.4349109e-03]\n",
      "[0. 0. 1.] <-> [1.7986242e-02 5.6367402e-04 9.8145008e-01]\n",
      "[1. 0. 0.] <-> [0.9975032  0.00139181 0.00110492]\n",
      "[1. 0. 0.] <-> [0.63550687 0.34428266 0.02021052]\n",
      "[0. 1. 0.] <-> [0.2437481  0.7504079  0.00584406]\n",
      "[0. 0. 1.] <-> [7.4755866e-03 4.2021813e-04 9.9210417e-01]\n",
      "[1. 0. 0.] <-> [0.90884525 0.05675442 0.03440041]\n",
      "[1. 0. 0.] <-> [0.4854047  0.4967555  0.01783984]\n",
      "[1. 0. 0.] <-> [0.99083763 0.00238846 0.00677385]\n",
      "[0. 0. 1.] <-> [0.6406524  0.00327446 0.3560731 ]\n",
      "[0. 1. 0.] <-> [0.2251127  0.7728025  0.00208483]\n",
      "[1. 0. 0.] <-> [0.9973683  0.00134369 0.00128809]\n",
      "[1. 0. 0.] <-> [0.99421126 0.00457627 0.00121245]\n",
      "[1. 0. 0.] <-> [0.996947   0.00124147 0.00181154]\n",
      "[1. 0. 0.] <-> [0.98394555 0.00101801 0.01503641]\n",
      "[1. 0. 0.] <-> [0.98974204 0.00785633 0.00240161]\n",
      "[1. 0. 0.] <-> [0.9956333  0.00237644 0.00199031]\n",
      "[0. 0. 1.] <-> [1.3872066e-02 5.5058050e-04 9.8557740e-01]\n",
      "[1. 0. 0.] <-> [0.9975313  0.00100174 0.00146699]\n",
      "[0. 0. 1.] <-> [7.4759168e-03 4.2016074e-04 9.9210393e-01]\n",
      "[1. 0. 0.] <-> [0.99695456 0.00119032 0.0018551 ]\n",
      "[0. 0. 1.] <-> [0.42264137 0.00102413 0.57633454]\n",
      "[0. 0. 1.] <-> [7.4753962e-03 4.2013888e-04 9.9210441e-01]\n",
      "[0. 1. 0.] <-> [6.2796002e-04 9.9245304e-01 6.9189826e-03]\n",
      "[1. 0. 0.] <-> [0.98395514 0.00423819 0.01180672]\n",
      "[1. 0. 0.] <-> [0.9952826  0.00245988 0.00225744]\n",
      "[1. 0. 0.] <-> [0.9967039  0.00128126 0.00201471]\n",
      "[0. 1. 0.] <-> [0.00430831 0.99259347 0.00309829]\n",
      "[0. 0. 1.] <-> [0.13916114 0.00124523 0.8595936 ]\n",
      "[0. 1. 0.] <-> [0.01521764 0.98102874 0.00375368]\n",
      "[0. 1. 0.] <-> [0.07375287 0.92191947 0.00432773]\n",
      "[1. 0. 0.] <-> [0.997943   0.00103137 0.00102562]\n",
      "[1. 0. 0.] <-> [9.902260e-01 9.494847e-04 8.824638e-03]\n",
      "[1. 0. 0.] <-> [0.99528885 0.00356264 0.00114856]\n",
      "[1. 0. 0.] <-> [0.9944959  0.0015247  0.00397939]\n",
      "[1. 0. 0.] <-> [0.9971066  0.00180622 0.00108718]\n",
      "[1. 0. 0.] <-> [0.9962226  0.00209091 0.00168644]\n",
      "[1. 0. 0.] <-> [0.9976472  0.001328   0.00102481]\n",
      "[1. 0. 0.] <-> [0.99685526 0.00154595 0.00159875]\n",
      "[1. 0. 0.] <-> [0.98254436 0.01512242 0.00233316]\n",
      "[1. 0. 0.] <-> [0.41542378 0.56296694 0.02160931]\n",
      "[1. 0. 0.] <-> [0.11397436 0.00214405 0.88388157]\n",
      "[1. 0. 0.] <-> [0.97711223 0.0010242  0.02186351]\n",
      "[1. 0. 0.] <-> [0.9643791  0.03174268 0.00387824]\n",
      "[1. 0. 0.] <-> [0.889815   0.0018704  0.10831464]\n",
      "[1. 0. 0.] <-> [0.83920664 0.15429698 0.00649642]\n",
      "[1. 0. 0.] <-> [0.9967769  0.00215376 0.00106945]\n",
      "[1. 0. 0.] <-> [0.99726725 0.00146866 0.00126413]\n",
      "[1. 0. 0.] <-> [0.93042123 0.06527158 0.00430714]\n",
      "[1. 0. 0.] <-> [9.9686521e-01 8.7294128e-04 2.2617427e-03]\n",
      "[0. 0. 1.] <-> [1.0688985e-02 4.8125000e-04 9.8882979e-01]\n",
      "[1. 0. 0.] <-> [0.99645376 0.00185444 0.00169174]\n",
      "[0. 0. 1.] <-> [7.6170508e-03 4.2607437e-04 9.9195683e-01]\n",
      "[1. 0. 0.] <-> [0.9934656  0.00387988 0.00265444]\n",
      "[0. 0. 1.] <-> [0.77302057 0.00104423 0.22593519]\n",
      "[0. 1. 0.] <-> [0.00484067 0.9921949  0.00296439]\n",
      "[1. 0. 0.] <-> [0.97955334 0.00185222 0.01859436]\n",
      "[1. 0. 0.] <-> [0.9976242  0.00114479 0.00123096]\n",
      "{'accuracy': 0.9567901234567902, 'mean_square_error': 0.0880418993251601, 'categorical_crossentropy': 0.1366338464948866, 'essential_metrics': {0: {'tp_hit': 74, 'fp_hit': 3, 'tn_hit': 27, 'fn_hit': 4}, 1: {'tp_hit': 15, 'fp_hit': 3, 'tn_hit': 89, 'fn_hit': 1}, 2: {'tp_hit': 12, 'fp_hit': 1, 'tn_hit': 93, 'fn_hit': 2}}}\n"
     ]
    }
   ],
   "source": [
    "# recall phase\n",
    "score = model.evaluate(x_test, y_test, False)\n",
    "print(score)"
   ]
  },
  {
   "cell_type": "code",
   "execution_count": 11,
   "metadata": {},
   "outputs": [
    {
     "data": {
      "image/png": "[encoded data removed]",
      "text/plain": [
       "<Figure size 864x360 with 1 Axes>"
      ]
     },
     "metadata": {
      "needs_background": "light"
     },
     "output_type": "display_data"
    },
    {
     "data": {
      "image/png": "[encoded data removed]",
      "text/plain": [
       "<Figure size 864x360 with 1 Axes>"
      ]
     },
     "metadata": {
      "needs_background": "light"
     },
     "output_type": "display_data"
    }
   ],
   "source": [
    "draw_plot(x = [[i for i in range(len(history))], [(i+1)*breakpoint for i in range(len(checkpoints))]], y_list = [history, [ ckp[model.loss_fn] for ckp in checkpoints ]], x_label = 'Epochs', \\\n",
    "    y_label = model.loss_fn, legend=['train', 'test'])\n",
    "acc = [ ckp['accuracy'] for ckp in checkpoints ]\n",
    "draw_plot(x = [[(i+1)*breakpoint for i in range(len(checkpoints))]], y_list = [acc], x_label = 'Checkpoints', \\\n",
    "    y_label = 'accuracy')"
   ]
  },
  {
   "cell_type": "code",
   "execution_count": 12,
   "metadata": {},
   "outputs": [
    {
     "name": "stdout",
     "output_type": "stream",
     "text": [
      "{'accuracy': 0.9135802469135802, 'mean_square_error': 0.1886368322206305, 'categorical_crossentropy': 0.34765921698676217, 'essential_metrics': {0: {'tp_hit': 76, 'fp_hit': 12, 'tn_hit': 18, 'fn_hit': 2}, 1: {'tp_hit': 12, 'fp_hit': 2, 'tn_hit': 90, 'fn_hit': 4}, 2: {'tp_hit': 6, 'fp_hit': 0, 'tn_hit': 94, 'fn_hit': 8}}, 'checkpoint': 100} \n",
      "\n",
      "\n",
      "{'accuracy': 0.9567901234567902, 'mean_square_error': 0.10188721279701733, 'categorical_crossentropy': 0.16539118025037977, 'essential_metrics': {0: {'tp_hit': 77, 'fp_hit': 6, 'tn_hit': 24, 'fn_hit': 1}, 1: {'tp_hit': 13, 'fp_hit': 0, 'tn_hit': 92, 'fn_hit': 3}, 2: {'tp_hit': 11, 'fp_hit': 1, 'tn_hit': 93, 'fn_hit': 3}}, 'checkpoint': 200} \n",
      "\n",
      "\n",
      "{'accuracy': 0.9629629629629629, 'mean_square_error': 0.0836402278086379, 'categorical_crossentropy': 0.1333845986260308, 'essential_metrics': {0: {'tp_hit': 75, 'fp_hit': 3, 'tn_hit': 27, 'fn_hit': 3}, 1: {'tp_hit': 15, 'fp_hit': 1, 'tn_hit': 91, 'fn_hit': 1}, 2: {'tp_hit': 12, 'fp_hit': 2, 'tn_hit': 92, 'fn_hit': 2}}, 'checkpoint': 300} \n",
      "\n",
      "\n",
      "{'accuracy': 0.9506172839506173, 'mean_square_error': 0.09093269396487996, 'categorical_crossentropy': 0.14085719320509169, 'essential_metrics': {0: {'tp_hit': 73, 'fp_hit': 3, 'tn_hit': 27, 'fn_hit': 5}, 1: {'tp_hit': 15, 'fp_hit': 3, 'tn_hit': 89, 'fn_hit': 1}, 2: {'tp_hit': 12, 'fp_hit': 2, 'tn_hit': 92, 'fn_hit': 2}}, 'checkpoint': 400} \n",
      "\n",
      "\n",
      "{'accuracy': 0.9567901234567902, 'mean_square_error': 0.0880418993251601, 'categorical_crossentropy': 0.1366338464948866, 'essential_metrics': {0: {'tp_hit': 74, 'fp_hit': 3, 'tn_hit': 27, 'fn_hit': 4}, 1: {'tp_hit': 15, 'fp_hit': 3, 'tn_hit': 89, 'fn_hit': 1}, 2: {'tp_hit': 12, 'fp_hit': 1, 'tn_hit': 93, 'fn_hit': 2}}, 'checkpoint': 500} \n",
      "\n",
      "\n"
     ]
    }
   ],
   "source": [
    "for checkpoint in checkpoints:\n",
    "    print(checkpoint, '\\n\\n')"
   ]
  },
  {
   "cell_type": "code",
   "execution_count": 13,
   "metadata": {},
   "outputs": [
    {
     "name": "stdout",
     "output_type": "stream",
     "text": [
      "Layer 1\n",
      "Neuron 0: weights:\n",
      "[ 1.5596889 -3.        -3.         2.5260441  1.1117803]\n",
      " bias: 3.0\n",
      "\n",
      "Neuron 1: weights:\n",
      "[ 3.         -3.         -3.         -0.56484276  1.063449  ]\n",
      " bias: 3.0\n",
      "\n",
      "Neuron 2: weights:\n",
      "[ 0.3782462  -3.         -2.3065634   0.50905424  3.        ]\n",
      " bias: -3.0\n",
      "\n",
      "Neuron 3: weights:\n",
      "[-0.59280246 -3.          3.          3.          3.        ]\n",
      " bias: -1.4073829650878906\n",
      "\n",
      "$\n",
      "Layer 2\n",
      "Neuron 0: weights:\n",
      "[ 3.  3. -3. -3.]\n",
      " bias: -1.8882079124450684\n",
      "\n",
      "Neuron 1: weights:\n",
      "[-3.        -3.        -3.         1.2330011]\n",
      " bias: 3.0\n",
      "\n",
      "Neuron 2: weights:\n",
      "[ 3. -3.  3.  3.]\n",
      " bias: -3.0\n",
      "\n",
      "$\n",
      "\n"
     ]
    }
   ],
   "source": [
    "print(model)"
   ]
  }
 ],
 "metadata": {
  "kernelspec": {
   "display_name": "Python 3",
   "language": "python",
   "name": "python3"
  },
  "language_info": {
   "codemirror_mode": {
    "name": "ipython",
    "version": 3
   },
   "file_extension": ".py",
   "mimetype": "text/x-python",
   "name": "python",
   "nbconvert_exporter": "python",
   "pygments_lexer": "ipython3",
   "version": "3.6.10"
  }
 },
 "nbformat": 4,
 "nbformat_minor": 2
}
