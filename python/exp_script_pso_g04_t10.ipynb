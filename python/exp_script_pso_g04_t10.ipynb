{
 "cells": [
  {
   "cell_type": "code",
   "execution_count": 1,
   "metadata": {},
   "outputs": [],
   "source": [
    "# dependency\n",
    "import numpy as np\n",
    "import pandas as pd\n",
    "import copy\n",
    "import math\n",
    "import sys\n",
    "import os\n",
    "from activations import relu, leaky_relu, sigmoid, tanh, softmax, d_sigmoid, d_relu\n",
    "from initializers import glorot_uniform, random_normal, random_uniform\n",
    "from regularizers import l1_regularizer, l2_regularizer\n",
    "from utility import trim_tail, multiply, subtract, get_nparams, one_hot_encoding, get_data\n",
    "from metrics import MSE, CCE, ACC, PRECISION, RECALL, essential_metrics, wondering_penalty, close_gap_penalty\n",
    "from pso import PSO\n",
    "from ga import GA\n",
    "from nn import Network\n",
    "from layer import DenseLayer\n",
    "from scalers import MinMaxScaler, StandardScaler"
   ]
  },
  {
   "cell_type": "code",
   "execution_count": 2,
   "metadata": {},
   "outputs": [],
   "source": [
    "# reference\n",
    "metrics_fn_dict = dict()\n",
    "metrics_fn_dict['accuracy'] = ACC\n",
    "metrics_fn_dict['categorical_crossentropy'] = CCE\n",
    "metrics_fn_dict['mean_square_error'] = MSE\n",
    "metrics_fn_dict['precision'] = PRECISION\n",
    "metrics_fn_dict['recall'] = RECALL\n",
    "metrics_fn_dict['essential_metrics'] = essential_metrics"
   ]
  },
  {
   "cell_type": "code",
   "execution_count": 3,
   "metadata": {},
   "outputs": [],
   "source": [
    "# model\n",
    "model = Network(5, lr = None)\n",
    "model.add_layer(DenseLayer(1, 4, True, afn=sigmoid, dafn=None, rfn=None))\n",
    "model.add_layer(DenseLayer(2, 3, True, afn=softmax, dafn=None, rfn=None))"
   ]
  },
  {
   "cell_type": "code",
   "execution_count": 4,
   "metadata": {},
   "outputs": [
    {
     "name": "stdout",
     "output_type": "stream",
     "text": [
      "see one see two 2 0.5\n"
     ]
    }
   ],
   "source": [
    "pso = PSO(dict(m = 50,\n",
    "    weight_constraint = [-3, 3], \n",
    "    velocity_constraint = [-0.1, 0.1],\n",
    "    c1 = [0.5, 2],\n",
    "    c2 = [0.5, 2],\n",
    "    w = [0.5, 1.6],\n",
    "    w_decay = 0.95,\n",
    "    scale_hyperparameter = False,\n",
    "    regularizer = None,\n",
    "    mask = True))"
   ]
  },
  {
   "cell_type": "code",
   "execution_count": 5,
   "metadata": {},
   "outputs": [
    {
     "name": "stdout",
     "output_type": "stream",
     "text": [
      "building layer 1 with 5\n",
      "24\n",
      "building layer 2 with 4\n",
      "15\n"
     ]
    }
   ],
   "source": [
    "model.compile(loss_fn = 'categorical_crossentropy', optimizer = pso, \\\n",
    "    metrics = ['accuracy', 'mean_square_error', 'categorical_crossentropy'])"
   ]
  },
  {
   "cell_type": "code",
   "execution_count": 6,
   "metadata": {},
   "outputs": [
    {
     "name": "stdout",
     "output_type": "stream",
     "text": [
      "<class 'pandas.core.frame.DataFrame'>\n",
      "RangeIndex: 107 entries, 0 to 106\n",
      "Data columns (total 6 columns):\n",
      " #   Column  Non-Null Count  Dtype  \n",
      "---  ------  --------------  -----  \n",
      " 0   f1      107 non-null    float32\n",
      " 1   f2      107 non-null    float32\n",
      " 2   f3      107 non-null    float32\n",
      " 3   f4      107 non-null    float32\n",
      " 4   f5      107 non-null    float32\n",
      " 5   label   107 non-null    float32\n",
      "dtypes: float32(6)\n",
      "memory usage: 2.6 KB\n",
      "None\n",
      "<class 'pandas.core.frame.DataFrame'>\n",
      "RangeIndex: 108 entries, 0 to 107\n",
      "Data columns (total 6 columns):\n",
      " #   Column  Non-Null Count  Dtype  \n",
      "---  ------  --------------  -----  \n",
      " 0   f1      108 non-null    float32\n",
      " 1   f2      108 non-null    float32\n",
      " 2   f3      108 non-null    float32\n",
      " 3   f4      108 non-null    float32\n",
      " 4   f5      108 non-null    float32\n",
      " 5   label   108 non-null    float32\n",
      "dtypes: float32(6)\n",
      "memory usage: 2.7 KB\n",
      "None\n"
     ]
    }
   ],
   "source": [
    "# data loading\n",
    "DATA = os.path.join('c:\\\\Users\\\\tcumi\\\\github_repo\\\\neural-network\\\\', 'dataset')\n",
    "GROUP = 4\n",
    "COLUMNS = ['f1', 'f2', 'f3', 'f4', 'f5', 'label']\n",
    "N_CLASS = 3\n",
    "EPOCHS = 500\n",
    "train_dir, test_dir = \"..//dataset//training_data{}.txt\".format(GROUP), \"..//dataset//testing_data{}.txt\".format(GROUP)\n",
    "train, test = get_data(DATA, train_dir, COLUMNS), get_data(DATA, test_dir, COLUMNS)\n",
    "# shuffle\n",
    "train, test = train.sample(frac=1), test.sample(frac=1)\n",
    "x_train, y_train = train.drop('label', axis=1), train['label']\n",
    "x_test, y_test = test.drop('label', axis=1), test['label']"
   ]
  },
  {
   "cell_type": "code",
   "execution_count": 7,
   "metadata": {},
   "outputs": [],
   "source": [
    "# data scaling and encoding\n",
    "scaler = StandardScaler(['f1', 'f2', 'f3', 'f4', 'f5'])\n",
    "scaler.fit(x_train)\n",
    "x_train = scaler.transform(x_train)\n",
    "x_test = scaler.transform(x_test)\n",
    "y_train = one_hot_encoding(y_train, N_CLASS)\n",
    "y_test = one_hot_encoding(y_test, N_CLASS)"
   ]
  },
  {
   "cell_type": "code",
   "execution_count": 8,
   "metadata": {
    "tags": [
     "outputPrepend"
    ]
   },
   "outputs": [
    {
     "name": "stdout",
     "output_type": "stream",
     "text": [
      "Checkpoint 100, Accuracy: 0.9382716049382716, Loss: 0.30228741963704425\n",
      "Checkpoint 200, Accuracy: 0.9629629629629629, Loss: 0.10932728096290871\n",
      "Checkpoint 300, Accuracy: 0.9567901234567902, Loss: 0.11335005583586516\n",
      "Checkpoint 400, Accuracy: 0.9691358024691358, Loss: 0.110902088659781\n",
      "Checkpoint 500, Accuracy: 0.9691358024691358, Loss: 0.11147486722027813\n"
     ]
    }
   ],
   "source": [
    "# learning phase\n",
    "breakpoint = 100\n",
    "checkpoints = list()\n",
    "history = list()\n",
    "for century in range(0, EPOCHS, breakpoint):\n",
    "    sub_history = model.fit(x_train, y_train, breakpoint, verbose = 0)\n",
    "    score = model.evaluate(x_test, y_test, False, verbose = 0)\n",
    "    print('Checkpoint {}, Accuracy: {}, Loss: {}'.format(century+breakpoint, score['accuracy'], score[model.loss_fn]))\n",
    "    score['checkpoint'] = century + breakpoint\n",
    "    checkpoints.append(score)\n",
    "    history.extend(sub_history)\n",
    "    itr = century + breakpoint\n",
    "    model.optimizer.c1 = np.max([model.optimizer.C1[1] - ((model.optimizer.C1[1] - model.optimizer.C1[0]) * itr / EPOCHS), model.optimizer.C1[0]])\n",
    "    model.optimizer.c2 = np.min([model.optimizer.C2[0] + ((model.optimizer.C2[1] - model.optimizer.C2[0]) * itr / EPOCHS), model.optimizer.C2[1]])\n",
    "    model.optimizer.w = np.max([model.optimizer.w * model.optimizer.W_Decay, model.optimizer.W[0]])"
   ]
  },
  {
   "cell_type": "code",
   "execution_count": 9,
   "metadata": {},
   "outputs": [],
   "source": [
    "import matplotlib.pyplot as plt\n",
    "\n",
    "def draw_plot(x, y_list, x_label=None, y_label=None, legend=None, title=None):\n",
    "    fig, ax = plt.subplots(figsize=(12,5))\n",
    "    for xi, yi in zip(x, y_list):\n",
    "        ax.plot(xi, yi)\n",
    "    if x_label is not None and y_label is not None:\n",
    "        ax.set(xlabel=x_label, ylabel=y_label, title='{} VS {}'.format(x_label, y_label))\n",
    "    if legend is not None:\n",
    "        ax.legend(legend)\n",
    "    ax.grid()\n",
    "    plt.show()"
   ]
  },
  {
   "cell_type": "code",
   "execution_count": 10,
   "metadata": {},
   "outputs": [
    {
     "name": "stdout",
     "output_type": "stream",
     "text": [
      "[1. 0. 0.] <-> [0.9964401  0.00125367 0.0023062 ]\n",
      "[1. 0. 0.] <-> [0.9671226  0.00120439 0.03167289]\n",
      "[0. 1. 0.] <-> [1.2575246e-02 9.8727775e-01 1.4704335e-04]\n",
      "[1. 0. 0.] <-> [0.99726605 0.00105295 0.00168096]\n",
      "[1. 0. 0.] <-> [0.9967933  0.00141103 0.00179562]\n",
      "[1. 0. 0.] <-> [0.5524993  0.00063679 0.44686392]\n",
      "[1. 0. 0.] <-> [0.9969081  0.00169669 0.00139524]\n",
      "[1. 0. 0.] <-> [0.50125027 0.4960205  0.00272925]\n",
      "[1. 0. 0.] <-> [0.99463487 0.00140065 0.00396449]\n",
      "[1. 0. 0.] <-> [0.9746952  0.02335506 0.00194973]\n",
      "[1. 0. 0.] <-> [0.9813446  0.00099595 0.01765956]\n",
      "[1. 0. 0.] <-> [0.99620557 0.00252911 0.00126522]\n",
      "[1. 0. 0.] <-> [0.99672    0.00203704 0.00124295]\n",
      "[1. 0. 0.] <-> [0.99668664 0.00159104 0.00172237]\n",
      "[1. 0. 0.] <-> [0.99700195 0.00114454 0.00185345]\n",
      "[1. 0. 0.] <-> [0.5136603  0.48385945 0.00248027]\n",
      "[1. 0. 0.] <-> [0.9971053  0.00165456 0.00124007]\n",
      "[1. 0. 0.] <-> [0.9946555  0.00102446 0.00432011]\n",
      "[1. 0. 0.] <-> [0.9962651  0.00242972 0.00130519]\n",
      "[0. 0. 1.] <-> [1.2416646e-02 1.2532105e-05 9.8757076e-01]\n",
      "[1. 0. 0.] <-> [0.7858139  0.2113888  0.00279728]\n",
      "[1. 0. 0.] <-> [0.9941637  0.00411163 0.00172472]\n",
      "[1. 0. 0.] <-> [0.99616027 0.00146705 0.00237263]\n",
      "[0. 0. 1.] <-> [9.4356388e-03 9.5233963e-06 9.9055487e-01]\n",
      "[1. 0. 0.] <-> [0.99519265 0.00107082 0.00373656]\n",
      "[1. 0. 0.] <-> [0.9973456  0.00154616 0.00110818]\n",
      "[1. 0. 0.] <-> [0.9920947  0.00117186 0.00673339]\n",
      "[1. 0. 0.] <-> [0.99435776 0.00107685 0.00456531]\n",
      "[0. 0. 1.] <-> [6.7998553e-03 6.8631043e-06 9.9319333e-01]\n",
      "[1. 0. 0.] <-> [0.99413306 0.00102265 0.00484428]\n",
      "[1. 0. 0.] <-> [0.99719787 0.0011015  0.00170058]\n",
      "[1. 0. 0.] <-> [0.98858774 0.00964111 0.00177119]\n",
      "[1. 0. 0.] <-> [0.9974433  0.00113415 0.00142258]\n",
      "[1. 0. 0.] <-> [0.99627364 0.00196957 0.00175683]\n",
      "[1. 0. 0.] <-> [0.79618347 0.00083049 0.2029861 ]\n",
      "[1. 0. 0.] <-> [0.9958925  0.00114656 0.00296081]\n",
      "[1. 0. 0.] <-> [0.9575335  0.04021837 0.00224808]\n",
      "[1. 0. 0.] <-> [0.9955384  0.00156075 0.00290081]\n",
      "[1. 0. 0.] <-> [0.9959216 0.0023027 0.0017756]\n",
      "[1. 0. 0.] <-> [0.8412853  0.00085934 0.15785529]\n",
      "[1. 0. 0.] <-> [0.9625318  0.0010864  0.03638179]\n",
      "[0. 1. 0.] <-> [6.0502891e-03 9.9386734e-01 8.2300168e-05]\n",
      "[1. 0. 0.] <-> [0.67464465 0.32226154 0.00309379]\n",
      "[1. 0. 0.] <-> [0.9965096  0.00225721 0.00123317]\n",
      "[1. 0. 0.] <-> [0.9890121  0.00215831 0.00882958]\n",
      "[0. 1. 0.] <-> [1.41805755e-02 9.85661030e-01 1.58447976e-04]\n",
      "[0. 0. 1.] <-> [4.6389781e-02 4.6953461e-05 9.5356333e-01]\n",
      "[0. 0. 1.] <-> [6.4668870e-03 6.5270087e-06 9.9352658e-01]\n",
      "[1. 0. 0.] <-> [0.9960217  0.00242759 0.00155079]\n",
      "[1. 0. 0.] <-> [0.99645764 0.00229319 0.00124915]\n",
      "[0. 0. 1.] <-> [0.53176636 0.00053767 0.46769598]\n",
      "[1. 0. 0.] <-> [0.990104   0.0080207  0.00187529]\n",
      "[1. 0. 0.] <-> [0.9973193  0.00125359 0.00142713]\n",
      "[1. 0. 0.] <-> [7.6762624e-02 9.2261952e-01 6.1786367e-04]\n",
      "[0. 1. 0.] <-> [6.0502863e-03 9.9386734e-01 8.2298437e-05]\n",
      "[1. 0. 0.] <-> [0.9972045  0.00159835 0.00119723]\n",
      "[1. 0. 0.] <-> [0.99676216 0.00187414 0.00136359]\n",
      "[0. 0. 1.] <-> [6.683882e-03 6.746018e-06 9.933094e-01]\n",
      "[1. 0. 0.] <-> [0.99704427 0.00150431 0.00145143]\n",
      "[1. 0. 0.] <-> [0.99263847 0.00100945 0.0063521 ]\n",
      "[1. 0. 0.] <-> [0.9090999  0.08855833 0.00234186]\n",
      "[0. 1. 0.] <-> [6.071311e-03 9.938460e-01 8.270289e-05]\n",
      "[1. 0. 0.] <-> [0.99698466 0.00139298 0.00162239]\n",
      "[1. 0. 0.] <-> [0.9955831  0.00233208 0.0020848 ]\n",
      "[0. 0. 1.] <-> [3.1596288e-02 3.1890293e-05 9.6837181e-01]\n",
      "[0. 0. 1.] <-> [8.319590e-03 8.396957e-06 9.916720e-01]\n",
      "[1. 0. 0.] <-> [0.996675   0.00123808 0.002087  ]\n",
      "[0. 1. 0.] <-> [0.3030345  0.6952256  0.00173996]\n",
      "[1. 0. 0.] <-> [0.9903931  0.00730463 0.0023022 ]\n",
      "[1. 0. 0.] <-> [0.99752086 0.00102435 0.00145485]\n",
      "[1. 0. 0.] <-> [0.9972344  0.00116781 0.00159791]\n",
      "[0. 0. 1.] <-> [6.465194e-03 6.526485e-06 9.935283e-01]\n",
      "[1. 0. 0.] <-> [0.98140186 0.01669043 0.00190767]\n",
      "[1. 0. 0.] <-> [0.98695743 0.00101113 0.01203152]\n",
      "[1. 0. 0.] <-> [9.207906e-02 9.481925e-05 9.078262e-01]\n",
      "[1. 0. 0.] <-> [0.99454343 0.00404095 0.00141562]\n",
      "[1. 0. 0.] <-> [0.9976247  0.00121944 0.00115586]\n",
      "[0. 1. 0.] <-> [1.6254218e-02 9.8356414e-01 1.8161419e-04]\n",
      "[1. 0. 0.] <-> [0.99738485 0.00140207 0.00121315]\n",
      "[0. 1. 0.] <-> [1.7460097e-02 9.8234403e-01 1.9587432e-04]\n",
      "[0. 0. 1.] <-> [1.0121896e-02 1.0230515e-05 9.8986793e-01]\n",
      "[0. 1. 0.] <-> [6.0502891e-03 9.9386734e-01 8.2298357e-05]\n",
      "[0. 1. 0.] <-> [4.0806018e-02 9.5882583e-01 3.6812620e-04]\n",
      "[0. 0. 1.] <-> [6.464492e-03 6.524610e-06 9.935290e-01]\n",
      "[1. 0. 0.] <-> [0.9950045  0.00364011 0.00135539]\n",
      "[1. 0. 0.] <-> [0.99711907 0.00155144 0.0013295 ]\n",
      "[1. 0. 0.] <-> [0.35064504 0.64753306 0.00182187]\n",
      "[0. 0. 1.] <-> [0.55503446 0.00057967 0.44438586]\n",
      "[0. 1. 0.] <-> [6.0502891e-03 9.9386734e-01 8.2316023e-05]\n",
      "[1. 0. 0.] <-> [0.9518716  0.00098156 0.04714691]\n",
      "[1. 0. 0.] <-> [0.9967519  0.00113057 0.00211755]\n",
      "[1. 0. 0.] <-> [0.9875638  0.00871345 0.00372271]\n",
      "[0. 0. 1.] <-> [1.0356423e-02 1.0616456e-05 9.8963296e-01]\n",
      "[1. 0. 0.] <-> [0.9928536  0.00273292 0.00441358]\n",
      "[1. 0. 0.] <-> [0.9902952  0.00102894 0.00867588]\n",
      "[0. 1. 0.] <-> [6.0774544e-03 9.9383932e-01 8.3251354e-05]\n",
      "[1. 0. 0.] <-> [0.99710995 0.00108849 0.00180164]\n",
      "[0. 1. 0.] <-> [0.14131403 0.85773927 0.00094667]\n",
      "[1. 0. 0.] <-> [0.9936963  0.00106258 0.00524111]\n",
      "[1. 0. 0.] <-> [0.9961598  0.00262216 0.00121805]\n",
      "[1. 0. 0.] <-> [0.9970912  0.00118349 0.00172533]\n",
      "[1. 0. 0.] <-> [0.9816481  0.00667946 0.01167244]\n",
      "[1. 0. 0.] <-> [0.9976221  0.00107004 0.00130777]\n",
      "[1. 0. 0.] <-> [0.97643095 0.00107326 0.02249577]\n",
      "[1. 0. 0.] <-> [0.9957955  0.00251275 0.00169174]\n",
      "[0. 1. 0.] <-> [6.0516279e-03 9.9386591e-01 8.2484075e-05]\n",
      "[0. 1. 0.] <-> [6.8586678e-03 9.9304914e-01 9.2271759e-05]\n",
      "[0. 1. 0.] <-> [6.0503096e-03 9.9386734e-01 8.2338316e-05]\n",
      "{'accuracy': 0.9691358024691358, 'mean_square_error': 0.06897142295908675, 'categorical_crossentropy': 0.11147486722027813, 'essential_metrics': {0: {'tp_hit': 75, 'fp_hit': 2, 'tn_hit': 28, 'fn_hit': 3}, 1: {'tp_hit': 16, 'fp_hit': 2, 'tn_hit': 90, 'fn_hit': 0}, 2: {'tp_hit': 12, 'fp_hit': 1, 'tn_hit': 93, 'fn_hit': 2}}}\n"
     ]
    }
   ],
   "source": [
    "# recall phase\n",
    "score = model.evaluate(x_test, y_test, False)\n",
    "print(score)"
   ]
  },
  {
   "cell_type": "code",
   "execution_count": 11,
   "metadata": {},
   "outputs": [
    {
     "data": {
      "image/png": "[encoded data removed]",
      "text/plain": [
       "<Figure size 864x360 with 1 Axes>"
      ]
     },
     "metadata": {
      "needs_background": "light"
     },
     "output_type": "display_data"
    },
    {
     "data": {
      "image/png": "[encoded data removed]",
      "text/plain": [
       "<Figure size 864x360 with 1 Axes>"
      ]
     },
     "metadata": {
      "needs_background": "light"
     },
     "output_type": "display_data"
    }
   ],
   "source": [
    "draw_plot(x = [[i for i in range(len(history))], [(i+1)*breakpoint for i in range(len(checkpoints))]], y_list = [history, [ ckp[model.loss_fn] for ckp in checkpoints ]], x_label = 'Epochs', \\\n",
    "    y_label = model.loss_fn, legend=['train', 'test'])\n",
    "acc = [ ckp['accuracy'] for ckp in checkpoints ]\n",
    "draw_plot(x = [[(i+1)*breakpoint for i in range(len(checkpoints))]], y_list = [acc], x_label = 'Checkpoints', \\\n",
    "    y_label = 'accuracy')"
   ]
  },
  {
   "cell_type": "code",
   "execution_count": 12,
   "metadata": {},
   "outputs": [
    {
     "name": "stdout",
     "output_type": "stream",
     "text": [
      "{'accuracy': 0.9382716049382716, 'mean_square_error': 0.15677122870730417, 'categorical_crossentropy': 0.30228741963704425, 'essential_metrics': {0: {'tp_hit': 78, 'fp_hit': 10, 'tn_hit': 20, 'fn_hit': 0}, 1: {'tp_hit': 10, 'fp_hit': 0, 'tn_hit': 92, 'fn_hit': 6}, 2: {'tp_hit': 10, 'fp_hit': 0, 'tn_hit': 94, 'fn_hit': 4}}, 'checkpoint': 100} \n",
      "\n",
      "\n",
      "{'accuracy': 0.9629629629629629, 'mean_square_error': 0.06494363449753912, 'categorical_crossentropy': 0.10932728096290871, 'essential_metrics': {0: {'tp_hit': 75, 'fp_hit': 3, 'tn_hit': 27, 'fn_hit': 3}, 1: {'tp_hit': 15, 'fp_hit': 2, 'tn_hit': 90, 'fn_hit': 1}, 2: {'tp_hit': 12, 'fp_hit': 1, 'tn_hit': 93, 'fn_hit': 2}}, 'checkpoint': 200} \n",
      "\n",
      "\n",
      "{'accuracy': 0.9567901234567902, 'mean_square_error': 0.07243218089584667, 'categorical_crossentropy': 0.11335005583586516, 'essential_metrics': {0: {'tp_hit': 74, 'fp_hit': 3, 'tn_hit': 27, 'fn_hit': 4}, 1: {'tp_hit': 15, 'fp_hit': 3, 'tn_hit': 89, 'fn_hit': 1}, 2: {'tp_hit': 12, 'fp_hit': 1, 'tn_hit': 93, 'fn_hit': 2}}, 'checkpoint': 300} \n",
      "\n",
      "\n",
      "{'accuracy': 0.9691358024691358, 'mean_square_error': 0.07028448098352348, 'categorical_crossentropy': 0.110902088659781, 'essential_metrics': {0: {'tp_hit': 75, 'fp_hit': 2, 'tn_hit': 28, 'fn_hit': 3}, 1: {'tp_hit': 16, 'fp_hit': 2, 'tn_hit': 90, 'fn_hit': 0}, 2: {'tp_hit': 12, 'fp_hit': 1, 'tn_hit': 93, 'fn_hit': 2}}, 'checkpoint': 400} \n",
      "\n",
      "\n",
      "{'accuracy': 0.9691358024691358, 'mean_square_error': 0.06897142295908675, 'categorical_crossentropy': 0.11147486722027813, 'essential_metrics': {0: {'tp_hit': 75, 'fp_hit': 2, 'tn_hit': 28, 'fn_hit': 3}, 1: {'tp_hit': 16, 'fp_hit': 2, 'tn_hit': 90, 'fn_hit': 0}, 2: {'tp_hit': 12, 'fp_hit': 1, 'tn_hit': 93, 'fn_hit': 2}}, 'checkpoint': 500} \n",
      "\n",
      "\n"
     ]
    }
   ],
   "source": [
    "for checkpoint in checkpoints:\n",
    "    print(checkpoint, '\\n\\n')"
   ]
  },
  {
   "cell_type": "code",
   "execution_count": 13,
   "metadata": {},
   "outputs": [
    {
     "name": "stdout",
     "output_type": "stream",
     "text": [
      "Layer 1\n",
      "Neuron 0: weights:\n",
      "[ 2.167286  -3.        -3.         1.8988649  0.6126771]\n",
      " bias: 3.0\n",
      "\n",
      "Neuron 1: weights:\n",
      "[ 0.066201   -3.         -0.44998914  3.          3.        ]\n",
      " bias: -2.033059597015381\n",
      "\n",
      "Neuron 2: weights:\n",
      "[-2.096396   3.         3.        -0.4308904 -1.7399572]\n",
      " bias: -3.0\n",
      "\n",
      "Neuron 3: weights:\n",
      "[ 0.05434562  3.         -0.12216906 -0.7474799  -3.        ]\n",
      " bias: 2.502803325653076\n",
      "\n",
      "$\n",
      "Layer 2\n",
      "Neuron 0: weights:\n",
      "[ 3. -3. -3.  3.]\n",
      " bias: 0.6140691041946411\n",
      "\n",
      "Neuron 1: weights:\n",
      "[-3. -3.  3.  3.]\n",
      " bias: -0.2844330370426178\n",
      "\n",
      "Neuron 2: weights:\n",
      "[ 2.843515   3.        -0.4889438 -3.       ]\n",
      " bias: -0.19450627267360687\n",
      "\n",
      "$\n",
      "\n"
     ]
    }
   ],
   "source": [
    "print(model)"
   ]
  }
 ],
 "metadata": {
  "kernelspec": {
   "display_name": "Python 3",
   "language": "python",
   "name": "python3"
  },
  "language_info": {
   "codemirror_mode": {
    "name": "ipython",
    "version": 3
   },
   "file_extension": ".py",
   "mimetype": "text/x-python",
   "name": "python",
   "nbconvert_exporter": "python",
   "pygments_lexer": "ipython3",
   "version": "3.6.10"
  }
 },
 "nbformat": 4,
 "nbformat_minor": 2
}
