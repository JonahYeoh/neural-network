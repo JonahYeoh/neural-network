{
 "cells": [
  {
   "cell_type": "code",
   "execution_count": 1,
   "metadata": {},
   "outputs": [],
   "source": [
    "# two"
   ]
  },
  {
   "cell_type": "code",
   "execution_count": 2,
   "metadata": {},
   "outputs": [],
   "source": [
    "# dependency\n",
    "import numpy as np\n",
    "import pandas as pd\n",
    "import copy\n",
    "import math\n",
    "import sys\n",
    "import os\n",
    "from activations import relu, leaky_relu, sigmoid, tanh, softmax, d_sigmoid, d_relu\n",
    "from initializers import glorot_uniform, random_normal, random_uniform\n",
    "from regularizers import l1_regularizer, l2_regularizer\n",
    "from utility import trim_tail, multiply, subtract, get_nparams, one_hot_encoding, get_data\n",
    "from metrics import MSE, CCE, ACC, PRECISION, RECALL, essential_metrics, wondering_penalty, close_gap_penalty\n",
    "from pso import PSO\n",
    "from ga import GA\n",
    "from nn import Network\n",
    "from layer import DenseLayer\n",
    "from scalers import MinMaxScaler, StandardScaler"
   ]
  },
  {
   "cell_type": "code",
   "execution_count": 3,
   "metadata": {},
   "outputs": [],
   "source": [
    "# reference\n",
    "metrics_fn_dict = dict()\n",
    "metrics_fn_dict['accuracy'] = ACC\n",
    "metrics_fn_dict['categorical_crossentropy'] = CCE\n",
    "metrics_fn_dict['mean_square_error'] = MSE\n",
    "metrics_fn_dict['precision'] = PRECISION\n",
    "metrics_fn_dict['recall'] = RECALL\n",
    "metrics_fn_dict['essential_metrics'] = essential_metrics"
   ]
  },
  {
   "cell_type": "code",
   "execution_count": 4,
   "metadata": {},
   "outputs": [],
   "source": [
    "# model\n",
    "model = Network(5, lr = None)\n",
    "model.add_layer(DenseLayer(1, 4, True, afn=sigmoid, dafn=None, rfn=None))\n",
    "model.add_layer(DenseLayer(2, 3, True, afn=softmax, dafn=None, rfn=None))"
   ]
  },
  {
   "cell_type": "code",
   "execution_count": 5,
   "metadata": {},
   "outputs": [],
   "source": [
    "# optimizer\n",
    "ga = GA(\n",
    "    dict(\n",
    "        m = 100,\n",
    "        x_rate = 0.5,\n",
    "        m_rate = 0.5,\n",
    "        weight_constraint = [-3.,3.],\n",
    "        radioactive_rating = 0.1,\n",
    "        grow_factor = 0.1,\n",
    "        scale_hyperparameter = False,\n",
    "        regularizer = None))"
   ]
  },
  {
   "cell_type": "code",
   "execution_count": 6,
   "metadata": {},
   "outputs": [
    {
     "name": "stdout",
     "output_type": "stream",
     "text": [
      "building layer 1 with 5\n",
      "24\n",
      "building layer 2 with 4\n",
      "15\n"
     ]
    }
   ],
   "source": [
    "model.compile(loss_fn = 'categorical_crossentropy', optimizer = ga, \\\n",
    "    metrics = ['accuracy', 'mean_square_error', 'categorical_crossentropy', 'precision', 'recall', 'f1'])"
   ]
  },
  {
   "cell_type": "code",
   "execution_count": 7,
   "metadata": {},
   "outputs": [
    {
     "name": "stdout",
     "output_type": "stream",
     "text": [
      "<class 'pandas.core.frame.DataFrame'>\n",
      "RangeIndex: 107 entries, 0 to 106\n",
      "Data columns (total 6 columns):\n",
      " #   Column  Non-Null Count  Dtype  \n",
      "---  ------  --------------  -----  \n",
      " 0   f1      107 non-null    float32\n",
      " 1   f2      107 non-null    float32\n",
      " 2   f3      107 non-null    float32\n",
      " 3   f4      107 non-null    float32\n",
      " 4   f5      107 non-null    float32\n",
      " 5   label   107 non-null    float32\n",
      "dtypes: float32(6)\n",
      "memory usage: 2.6 KB\n",
      "None\n",
      "<class 'pandas.core.frame.DataFrame'>\n",
      "RangeIndex: 108 entries, 0 to 107\n",
      "Data columns (total 6 columns):\n",
      " #   Column  Non-Null Count  Dtype  \n",
      "---  ------  --------------  -----  \n",
      " 0   f1      108 non-null    float32\n",
      " 1   f2      108 non-null    float32\n",
      " 2   f3      108 non-null    float32\n",
      " 3   f4      108 non-null    float32\n",
      " 4   f5      108 non-null    float32\n",
      " 5   label   108 non-null    float32\n",
      "dtypes: float32(6)\n",
      "memory usage: 2.7 KB\n",
      "None\n"
     ]
    }
   ],
   "source": [
    "# data loading\n",
    "DATA = os.path.join('c:\\\\Users\\\\tcumi\\\\github_repo\\\\neural-network\\\\', 'dataset')\n",
    "GROUP = 2\n",
    "COLUMNS = ['f1', 'f2', 'f3', 'f4', 'f5', 'label']\n",
    "N_CLASS = 3\n",
    "EPOCHS = 500\n",
    "train_dir, test_dir = \"..//dataset//training_data{}.txt\".format(GROUP), \"..//dataset//testing_data{}.txt\".format(GROUP)\n",
    "train, test = get_data(DATA, train_dir, COLUMNS), get_data(DATA, test_dir, COLUMNS)\n",
    "# shuffle\n",
    "train, test = train.sample(frac=1), test.sample(frac=1)\n",
    "x_train, y_train = train.drop('label', axis=1), train['label']\n",
    "x_test, y_test = test.drop('label', axis=1), test['label']"
   ]
  },
  {
   "cell_type": "code",
   "execution_count": 8,
   "metadata": {},
   "outputs": [],
   "source": [
    "# data scaling and encoding\n",
    "scaler = StandardScaler(['f1', 'f2', 'f3', 'f4', 'f5'])\n",
    "scaler.fit(x_train)\n",
    "x_train = scaler.transform(x_train)\n",
    "x_test = scaler.transform(x_test)\n",
    "y_train = one_hot_encoding(y_train, N_CLASS)\n",
    "y_test = one_hot_encoding(y_test, N_CLASS)"
   ]
  },
  {
   "cell_type": "code",
   "execution_count": 9,
   "metadata": {
    "scrolled": true,
    "tags": [
     "outputPrepend"
    ]
   },
   "outputs": [
    {
     "name": "stderr",
     "output_type": "stream",
     "text": [
      "C:\\Users\\tcumi\\github_repo\\neural-network\\python\\ga.py:201: RuntimeWarning: overflow encountered in add\n",
      "  self.population.sort(key=lambda p: p.fitness + np.random.uniform(-shift, shift, 1), reverse = self.aim)\n"
     ]
    },
    {
     "name": "stdout",
     "output_type": "stream",
     "text": [
      "Checkpoint 100, Accuracy: 0.8950617283950617, Loss: 0.35409383420591\n",
      "Checkpoint 200, Accuracy: 0.9444444444444444, Loss: 0.3238730253996672\n",
      "Checkpoint 300, Accuracy: 0.9506172839506173, Loss: 0.2941779030693902\n",
      "Checkpoint 400, Accuracy: 0.9506172839506173, Loss: 0.2624159742284704\n",
      "Checkpoint 500, Accuracy: 0.9567901234567902, Loss: 0.24153455098470053\n"
     ]
    }
   ],
   "source": [
    "# learning phase\n",
    "breakpoint = 100\n",
    "checkpoints = list()\n",
    "history = list()\n",
    "for century in range(0, EPOCHS, breakpoint):\n",
    "    sub_history = model.fit(x_train, y_train, breakpoint, verbose = 0)\n",
    "    score = model.evaluate(x_test, y_test, False, verbose = 0)\n",
    "    print('Checkpoint {}, Accuracy: {}, Loss: {}'.format(century+breakpoint, score['accuracy'], score[model.loss_fn]))\n",
    "    score['checkpoint'] = century + breakpoint\n",
    "    checkpoints.append(score)\n",
    "    history.extend(sub_history)\n",
    "    "
   ]
  },
  {
   "cell_type": "code",
   "execution_count": 10,
   "metadata": {},
   "outputs": [],
   "source": [
    "import matplotlib.pyplot as plt\n",
    "\n",
    "def draw_plot(x, y_list, x_label=None, y_label=None, legend=None, title=None):\n",
    "    fig, ax = plt.subplots(figsize=(12,5))\n",
    "    for xi, yi in zip(x, y_list):\n",
    "        ax.plot(xi, yi)\n",
    "    if x_label is not None and y_label is not None:\n",
    "        ax.set(xlabel=x_label, ylabel=y_label, title='{} VS {}'.format(x_label, y_label))\n",
    "    if legend is not None:\n",
    "        ax.legend(legend)\n",
    "    ax.grid()\n",
    "    plt.show()"
   ]
  },
  {
   "cell_type": "code",
   "execution_count": 11,
   "metadata": {},
   "outputs": [
    {
     "name": "stdout",
     "output_type": "stream",
     "text": [
      "[1. 0. 0.] <-> [0.8620672  0.05468162 0.08325122]\n",
      "[1. 0. 0.] <-> [0.9354162  0.03765405 0.02692974]\n",
      "[1. 0. 0.] <-> [0.70036566 0.2834463  0.01618806]\n",
      "[1. 0. 0.] <-> [0.89388734 0.02909139 0.07702122]\n",
      "[0. 0. 1.] <-> [0.15513527 0.01605407 0.82881063]\n",
      "[1. 0. 0.] <-> [0.9427809  0.03831074 0.01890831]\n",
      "[0. 1. 0.] <-> [0.6089025 0.3889622 0.0021352]\n",
      "[1. 0. 0.] <-> [0.91936517 0.02778324 0.05285151]\n",
      "[1. 0. 0.] <-> [0.9499949  0.02237247 0.02763271]\n",
      "[1. 0. 0.] <-> [0.81112576 0.15387216 0.03500206]\n",
      "[1. 0. 0.] <-> [0.9339343  0.04751148 0.01855417]\n",
      "[0. 0. 1.] <-> [0.17957415 0.01498465 0.8054412 ]\n",
      "[0. 1. 0.] <-> [0.28032976 0.71730226 0.00236804]\n",
      "[1. 0. 0.] <-> [0.9286675  0.03362469 0.03770784]\n",
      "[1. 0. 0.] <-> [0.9081334  0.0571005  0.03476609]\n",
      "[1. 0. 0.] <-> [0.8957601  0.07989126 0.02434867]\n",
      "[0. 1. 0.] <-> [0.28921866 0.7082446  0.00253673]\n",
      "[1. 0. 0.] <-> [0.90052015 0.03949277 0.05998708]\n",
      "[1. 0. 0.] <-> [0.9234747  0.06001794 0.01650725]\n",
      "[1. 0. 0.] <-> [0.8814413  0.07195613 0.0466026 ]\n",
      "[1. 0. 0.] <-> [0.8390192  0.14226894 0.01871181]\n",
      "[1. 0. 0.] <-> [0.85598564 0.05408938 0.08992498]\n",
      "[1. 0. 0.] <-> [0.9070803  0.04580437 0.04711536]\n",
      "[0. 0. 1.] <-> [0.16017985 0.01582646 0.8239936 ]\n",
      "[1. 0. 0.] <-> [0.8321493  0.02902096 0.13882966]\n",
      "[0. 0. 1.] <-> [0.8085871  0.0210063  0.17040665]\n",
      "[1. 0. 0.] <-> [0.9303913  0.03046819 0.03914046]\n",
      "[1. 0. 0.] <-> [0.8272858  0.03562365 0.1370905 ]\n",
      "[1. 0. 0.] <-> [0.9257446  0.05822895 0.01602645]\n",
      "[1. 0. 0.] <-> [0.94039726 0.03396111 0.02564157]\n",
      "[1. 0. 0.] <-> [0.8618653  0.12730308 0.01083164]\n",
      "[1. 0. 0.] <-> [0.8767867  0.0475678  0.07564551]\n",
      "[1. 0. 0.] <-> [0.82319635 0.16052201 0.01628155]\n",
      "[1. 0. 0.] <-> [0.87490225 0.08952916 0.03556866]\n",
      "[1. 0. 0.] <-> [0.6808836  0.30878243 0.01033402]\n",
      "[1. 0. 0.] <-> [0.90322024 0.04222824 0.05455155]\n",
      "[1. 0. 0.] <-> [0.9390581  0.03424431 0.02669759]\n",
      "[0. 1. 0.] <-> [0.551065   0.44398543 0.00494957]\n",
      "[1. 0. 0.] <-> [0.46732053 0.01486584 0.5178136 ]\n",
      "[0. 0. 1.] <-> [0.20020536 0.01480283 0.78499186]\n",
      "[0. 1. 0.] <-> [0.26883003 0.7288287  0.00234128]\n",
      "[1. 0. 0.] <-> [0.78088623 0.0324283  0.18668544]\n",
      "[1. 0. 0.] <-> [0.7394585  0.02943452 0.23110698]\n",
      "[1. 0. 0.] <-> [0.9217258  0.02511945 0.05315477]\n",
      "[0. 1. 0.] <-> [0.4184175  0.57421386 0.00736863]\n",
      "[1. 0. 0.] <-> [0.5247185  0.4695204  0.00576108]\n",
      "[1. 0. 0.] <-> [0.9336292  0.04750282 0.01886801]\n",
      "[1. 0. 0.] <-> [0.9331174  0.04592277 0.0209598 ]\n",
      "[1. 0. 0.] <-> [0.94217354 0.03329295 0.02453347]\n",
      "[1. 0. 0.] <-> [0.92631555 0.04007494 0.03360953]\n",
      "[0. 1. 0.] <-> [0.74854684 0.24778691 0.00366626]\n",
      "[1. 0. 0.] <-> [0.9238874  0.0461232  0.02998943]\n",
      "[1. 0. 0.] <-> [0.8874461  0.02294417 0.08960982]\n",
      "[1. 0. 0.] <-> [0.8762957  0.03284533 0.09085897]\n",
      "[0. 1. 0.] <-> [0.20913298 0.78830373 0.00256328]\n",
      "[1. 0. 0.] <-> [0.93085456 0.05073934 0.01840617]\n",
      "[1. 0. 0.] <-> [0.8238449  0.02439903 0.15175605]\n",
      "[1. 0. 0.] <-> [0.8768705  0.08286265 0.04026682]\n",
      "[1. 0. 0.] <-> [0.87369126 0.0248789  0.10142976]\n",
      "[1. 0. 0.] <-> [0.61144847 0.02506688 0.3634846 ]\n",
      "[1. 0. 0.] <-> [0.88391167 0.04508401 0.07100432]\n",
      "[0. 1. 0.] <-> [0.23820676 0.7590047  0.00278848]\n",
      "[0. 1. 0.] <-> [0.4844539  0.5118522  0.00369395]\n",
      "[1. 0. 0.] <-> [0.8989685  0.03024204 0.07078938]\n",
      "[1. 0. 0.] <-> [0.90437526 0.07734787 0.01827684]\n",
      "[1. 0. 0.] <-> [0.8761371  0.05726751 0.06659543]\n",
      "[0. 0. 1.] <-> [0.27716532 0.0116541  0.71118057]\n",
      "[0. 1. 0.] <-> [0.2506223  0.7470211  0.00235656]\n",
      "[1. 0. 0.] <-> [0.83952904 0.04442665 0.11604428]\n",
      "[1. 0. 0.] <-> [0.9127266  0.04840917 0.03886421]\n",
      "[0. 1. 0.] <-> [0.3623968  0.6350239  0.00257926]\n",
      "[1. 0. 0.] <-> [0.45506558 0.0293169  0.5156175 ]\n",
      "[1. 0. 0.] <-> [0.9406687  0.0337543  0.02557693]\n",
      "[0. 0. 1.] <-> [0.16514488 0.01559912 0.819256  ]\n",
      "[0. 1. 0.] <-> [0.2345944  0.76297045 0.00243519]\n",
      "[0. 0. 1.] <-> [0.47948346 0.0133029  0.50721365]\n",
      "[1. 0. 0.] <-> [0.9322688  0.02631661 0.04141461]\n",
      "[1. 0. 0.] <-> [0.93195844 0.041018   0.02702365]\n",
      "[0. 0. 1.] <-> [0.21756475 0.01394238 0.7684928 ]\n",
      "[1. 0. 0.] <-> [0.8946529  0.02910446 0.07624263]\n",
      "[1. 0. 0.] <-> [0.9527792  0.02982545 0.01739533]\n",
      "[0. 0. 1.] <-> [0.21812041 0.01358678 0.7682928 ]\n",
      "[1. 0. 0.] <-> [0.7480289  0.02982031 0.22215088]\n",
      "[1. 0. 0.] <-> [0.8759559  0.03634465 0.08769953]\n",
      "[0. 0. 1.] <-> [0.16918689 0.02040083 0.8104122 ]\n",
      "[1. 0. 0.] <-> [0.93604136 0.05081753 0.01314114]\n",
      "[1. 0. 0.] <-> [0.9169376  0.03989433 0.04316818]\n",
      "[1. 0. 0.] <-> [0.8689646  0.06244283 0.06859262]\n",
      "[1. 0. 0.] <-> [0.8543191  0.11248013 0.03320079]\n",
      "[1. 0. 0.] <-> [0.9395716  0.0235245  0.03690381]\n",
      "[1. 0. 0.] <-> [0.88543814 0.0292044  0.08535753]\n",
      "[0. 1. 0.] <-> [0.3706635  0.62711304 0.00222346]\n",
      "[1. 0. 0.] <-> [0.9443537  0.03216591 0.02348041]\n",
      "[1. 0. 0.] <-> [0.8830593  0.08345877 0.03348194]\n",
      "[0. 0. 1.] <-> [0.15548626 0.01636234 0.8281514 ]\n",
      "[1. 0. 0.] <-> [0.7467485  0.19194438 0.06130714]\n",
      "[1. 0. 0.] <-> [0.7963668  0.03952085 0.16411234]\n",
      "[1. 0. 0.] <-> [0.6236765  0.36069417 0.01562938]\n",
      "[1. 0. 0.] <-> [0.9254428  0.03838828 0.03616884]\n",
      "[1. 0. 0.] <-> [0.9059366  0.03469514 0.05936828]\n",
      "[1. 0. 0.] <-> [0.8404246  0.07831342 0.08126199]\n",
      "[0. 1. 0.] <-> [0.36539316 0.6316777  0.00292916]\n",
      "[1. 0. 0.] <-> [0.93932426 0.02800934 0.03266634]\n",
      "[1. 0. 0.] <-> [0.93072784 0.05535759 0.01391461]\n",
      "[1. 0. 0.] <-> [0.9439648  0.02486784 0.03116742]\n",
      "[1. 0. 0.] <-> [0.94044757 0.02613674 0.0334156 ]\n",
      "[0. 0. 1.] <-> [0.61368084 0.02174482 0.36457434]\n",
      "[1. 0. 0.] <-> [0.81557286 0.04947921 0.13494797]\n",
      "{'accuracy': 0.9567901234567902, 'mean_square_error': 0.11746216669861896, 'categorical_crossentropy': 0.24153455098470053, 'precision': 0.9351851851851852, 'recall': 0.9351851851851852, 'f1': 0.9351851851851852, 'essential_metrics': {0: {'tp_hit': 78, 'fp_hit': 5, 'tn_hit': 23, 'fn_hit': 2}, 1: {'tp_hit': 12, 'fp_hit': 0, 'tn_hit': 93, 'fn_hit': 3}, 2: {'tp_hit': 11, 'fp_hit': 2, 'tn_hit': 93, 'fn_hit': 2}}}\n"
     ]
    }
   ],
   "source": [
    "# recall phase\n",
    "score = model.evaluate(x_test, y_test, False)\n",
    "print(score)"
   ]
  },
  {
   "cell_type": "code",
   "execution_count": 12,
   "metadata": {},
   "outputs": [],
   "source": [
    "# Testing Performance"
   ]
  },
  {
   "cell_type": "code",
   "execution_count": 13,
   "metadata": {},
   "outputs": [
    {
     "data": {
      "image/png": "[encoded data removed]",
      "text/plain": [
       "<Figure size 864x360 with 1 Axes>"
      ]
     },
     "metadata": {
      "needs_background": "light"
     },
     "output_type": "display_data"
    },
    {
     "data": {
      "image/png": "[encoded data removed]",
      "text/plain": [
       "<Figure size 864x360 with 1 Axes>"
      ]
     },
     "metadata": {
      "needs_background": "light"
     },
     "output_type": "display_data"
    }
   ],
   "source": [
    "draw_plot(x = [[i for i in range(len(history))], [(i+1)*breakpoint for i in range(len(checkpoints))]], y_list = [history, [ ckp[model.loss_fn] for ckp in checkpoints ]], x_label = 'Epochs', \\\n",
    "    y_label = model.loss_fn, legend=['train', 'test'])\n",
    "acc = [ ckp['accuracy'] for ckp in checkpoints ]\n",
    "draw_plot(x = [[(i+1)*breakpoint for i in range(len(checkpoints))]], y_list = [acc], x_label = 'Checkpoints', \\\n",
    "    y_label = 'accuracy')"
   ]
  },
  {
   "cell_type": "code",
   "execution_count": 14,
   "metadata": {
    "scrolled": false
   },
   "outputs": [
    {
     "name": "stdout",
     "output_type": "stream",
     "text": [
      "{'accuracy': 0.8950617283950617, 'mean_square_error': 0.2031685745164195, 'categorical_crossentropy': 0.35409383420591, 'precision': 0.8425925925925926, 'recall': 0.8425925925925926, 'f1': 0.8425925925925926, 'essential_metrics': {0: {'tp_hit': 80, 'fp_hit': 17, 'tn_hit': 11, 'fn_hit': 0}, 1: {'tp_hit': 7, 'fp_hit': 0, 'tn_hit': 93, 'fn_hit': 8}, 2: {'tp_hit': 4, 'fp_hit': 0, 'tn_hit': 95, 'fn_hit': 9}}, 'checkpoint': 100} \n",
      "\n",
      "\n",
      "{'accuracy': 0.9444444444444444, 'mean_square_error': 0.16523950621088576, 'categorical_crossentropy': 0.3238730253996672, 'precision': 0.9166666666666666, 'recall': 0.9166666666666666, 'f1': 0.9166666666666666, 'essential_metrics': {0: {'tp_hit': 79, 'fp_hit': 8, 'tn_hit': 20, 'fn_hit': 1}, 1: {'tp_hit': 10, 'fp_hit': 0, 'tn_hit': 93, 'fn_hit': 5}, 2: {'tp_hit': 10, 'fp_hit': 1, 'tn_hit': 94, 'fn_hit': 3}}, 'checkpoint': 200} \n",
      "\n",
      "\n",
      "{'accuracy': 0.9506172839506173, 'mean_square_error': 0.14674620041850306, 'categorical_crossentropy': 0.2941779030693902, 'precision': 0.9259259259259259, 'recall': 0.9259259259259259, 'f1': 0.9259259259259259, 'essential_metrics': {0: {'tp_hit': 79, 'fp_hit': 7, 'tn_hit': 21, 'fn_hit': 1}, 1: {'tp_hit': 11, 'fp_hit': 0, 'tn_hit': 93, 'fn_hit': 4}, 2: {'tp_hit': 10, 'fp_hit': 1, 'tn_hit': 94, 'fn_hit': 3}}, 'checkpoint': 300} \n",
      "\n",
      "\n",
      "{'accuracy': 0.9506172839506173, 'mean_square_error': 0.131860868309905, 'categorical_crossentropy': 0.2624159742284704, 'precision': 0.9259259259259259, 'recall': 0.9259259259259259, 'f1': 0.9259259259259259, 'essential_metrics': {0: {'tp_hit': 79, 'fp_hit': 7, 'tn_hit': 21, 'fn_hit': 1}, 1: {'tp_hit': 11, 'fp_hit': 0, 'tn_hit': 93, 'fn_hit': 4}, 2: {'tp_hit': 10, 'fp_hit': 1, 'tn_hit': 94, 'fn_hit': 3}}, 'checkpoint': 400} \n",
      "\n",
      "\n",
      "{'accuracy': 0.9567901234567902, 'mean_square_error': 0.11746216669861896, 'categorical_crossentropy': 0.24153455098470053, 'precision': 0.9351851851851852, 'recall': 0.9351851851851852, 'f1': 0.9351851851851852, 'essential_metrics': {0: {'tp_hit': 78, 'fp_hit': 5, 'tn_hit': 23, 'fn_hit': 2}, 1: {'tp_hit': 12, 'fp_hit': 0, 'tn_hit': 93, 'fn_hit': 3}, 2: {'tp_hit': 11, 'fp_hit': 2, 'tn_hit': 93, 'fn_hit': 2}}, 'checkpoint': 500} \n",
      "\n",
      "\n"
     ]
    }
   ],
   "source": [
    "for checkpoint in checkpoints:\n",
    "    print(checkpoint, '\\n\\n')"
   ]
  },
  {
   "cell_type": "code",
   "execution_count": 15,
   "metadata": {},
   "outputs": [
    {
     "name": "stdout",
     "output_type": "stream",
     "text": [
      "Layer 1\n",
      "Neuron 0: weights:\n",
      "[-2.4584446 -1.0164627 -1.347425   1.9676617  2.117513 ]\n",
      " bias: -1.3008332252502441\n",
      "\n",
      "Neuron 1: weights:\n",
      "[ 1.6728743 -2.7509084 -2.0344365 -1.6218057  1.7545223]\n",
      " bias: 1.2094790935516357\n",
      "\n",
      "Neuron 2: weights:\n",
      "[ 0.39540935  2.4972749   1.3873162  -1.5801253  -3.        ]\n",
      " bias: 2.059446334838867\n",
      "\n",
      "Neuron 3: weights:\n",
      "[-1.8818417   0.8577906  -0.7367782   1.8284446   0.40263918]\n",
      " bias: -0.000698873249348253\n",
      "\n",
      "$\n",
      "Layer 2\n",
      "Neuron 0: weights:\n",
      "[ 0.40633127  1.160525    0.8059781  -3.        ]\n",
      " bias: 0.24495017528533936\n",
      "\n",
      "Neuron 1: weights:\n",
      "[-0.03010161 -2.4409673   0.51040316 -1.2015752 ]\n",
      " bias: 0.2716931998729706\n",
      "\n",
      "Neuron 2: weights:\n",
      "[ 0.79449505  3.         -3.         -1.53957   ]\n",
      " bias: -1.7222919464111328\n",
      "\n",
      "$\n",
      "\n"
     ]
    }
   ],
   "source": [
    "print(model)"
   ]
  }
 ],
 "metadata": {
  "kernelspec": {
   "display_name": "Python 3",
   "language": "python",
   "name": "python3"
  },
  "language_info": {
   "codemirror_mode": {
    "name": "ipython",
    "version": 3
   },
   "file_extension": ".py",
   "mimetype": "text/x-python",
   "name": "python",
   "nbconvert_exporter": "python",
   "pygments_lexer": "ipython3",
   "version": "3.6.10"
  }
 },
 "nbformat": 4,
 "nbformat_minor": 2
}
