{
 "cells": [
  {
   "cell_type": "code",
   "execution_count": 1,
   "metadata": {},
   "outputs": [],
   "source": [
    "# two"
   ]
  },
  {
   "cell_type": "code",
   "execution_count": 2,
   "metadata": {},
   "outputs": [],
   "source": [
    "# dependency\n",
    "import numpy as np\n",
    "import pandas as pd\n",
    "import copy\n",
    "import math\n",
    "import sys\n",
    "import os\n",
    "from activations import relu, leaky_relu, sigmoid, tanh, softmax, d_sigmoid, d_relu\n",
    "from initializers import glorot_uniform, random_normal, random_uniform\n",
    "from regularizers import l1_regularizer, l2_regularizer\n",
    "from utility import trim_tail, multiply, subtract, get_nparams, one_hot_encoding, get_data\n",
    "from metrics import MSE, CCE, ACC, PRECISION, RECALL, essential_metrics, wondering_penalty, close_gap_penalty\n",
    "from pso import PSO\n",
    "from ga import GA\n",
    "from nn import Network\n",
    "from layer import DenseLayer\n",
    "from scalers import MinMaxScaler, StandardScaler"
   ]
  },
  {
   "cell_type": "code",
   "execution_count": 3,
   "metadata": {},
   "outputs": [],
   "source": [
    "# reference\n",
    "metrics_fn_dict = dict()\n",
    "metrics_fn_dict['accuracy'] = ACC\n",
    "metrics_fn_dict['categorical_crossentropy'] = CCE\n",
    "metrics_fn_dict['mean_square_error'] = MSE\n",
    "metrics_fn_dict['precision'] = PRECISION\n",
    "metrics_fn_dict['recall'] = RECALL\n",
    "metrics_fn_dict['essential_metrics'] = essential_metrics"
   ]
  },
  {
   "cell_type": "code",
   "execution_count": 4,
   "metadata": {},
   "outputs": [],
   "source": [
    "# model\n",
    "model = Network(5, lr = None)\n",
    "model.add_layer(DenseLayer(1, 4, True, afn=sigmoid, dafn=None, rfn=None))\n",
    "model.add_layer(DenseLayer(2, 3, True, afn=softmax, dafn=None, rfn=None))"
   ]
  },
  {
   "cell_type": "code",
   "execution_count": 5,
   "metadata": {},
   "outputs": [],
   "source": [
    "# optimizer\n",
    "ga = GA(\n",
    "    dict(\n",
    "        m = 200,\n",
    "        x_rate = 0.5,\n",
    "        m_rate = 0.5,\n",
    "        weight_constraint = [-3.,3.],\n",
    "        radioactive_rating = 0.1,\n",
    "        grow_factor = 0.1,\n",
    "        scale_hyperparameter = False,\n",
    "        regularizer = None))"
   ]
  },
  {
   "cell_type": "code",
   "execution_count": 6,
   "metadata": {},
   "outputs": [
    {
     "name": "stdout",
     "output_type": "stream",
     "text": [
      "building layer 1 with 5\n",
      "24\n",
      "building layer 2 with 4\n",
      "15\n"
     ]
    }
   ],
   "source": [
    "model.compile(loss_fn = 'categorical_crossentropy', optimizer = ga, \\\n",
    "    metrics = ['accuracy', 'mean_square_error', 'categorical_crossentropy', 'precision', 'recall', 'f1'])"
   ]
  },
  {
   "cell_type": "code",
   "execution_count": 7,
   "metadata": {},
   "outputs": [
    {
     "name": "stdout",
     "output_type": "stream",
     "text": [
      "<class 'pandas.core.frame.DataFrame'>\n",
      "RangeIndex: 107 entries, 0 to 106\n",
      "Data columns (total 6 columns):\n",
      " #   Column  Non-Null Count  Dtype  \n",
      "---  ------  --------------  -----  \n",
      " 0   f1      107 non-null    float32\n",
      " 1   f2      107 non-null    float32\n",
      " 2   f3      107 non-null    float32\n",
      " 3   f4      107 non-null    float32\n",
      " 4   f5      107 non-null    float32\n",
      " 5   label   107 non-null    float32\n",
      "dtypes: float32(6)\n",
      "memory usage: 2.6 KB\n",
      "None\n",
      "<class 'pandas.core.frame.DataFrame'>\n",
      "RangeIndex: 108 entries, 0 to 107\n",
      "Data columns (total 6 columns):\n",
      " #   Column  Non-Null Count  Dtype  \n",
      "---  ------  --------------  -----  \n",
      " 0   f1      108 non-null    float32\n",
      " 1   f2      108 non-null    float32\n",
      " 2   f3      108 non-null    float32\n",
      " 3   f4      108 non-null    float32\n",
      " 4   f5      108 non-null    float32\n",
      " 5   label   108 non-null    float32\n",
      "dtypes: float32(6)\n",
      "memory usage: 2.7 KB\n",
      "None\n"
     ]
    }
   ],
   "source": [
    "# data loading\n",
    "DATA = os.path.join('c:\\\\Users\\\\AI-lab\\\\github_repo\\\\neural-network\\\\', 'dataset')\n",
    "GROUP = 2\n",
    "COLUMNS = ['f1', 'f2', 'f3', 'f4', 'f5', 'label']\n",
    "N_CLASS = 3\n",
    "EPOCHS = 500\n",
    "train_dir, test_dir = \"..//dataset//training_data{}.txt\".format(GROUP), \"..//dataset//testing_data{}.txt\".format(GROUP)\n",
    "train, test = get_data(DATA, train_dir, COLUMNS), get_data(DATA, test_dir, COLUMNS)\n",
    "# shuffle\n",
    "train, test = train.sample(frac=1), test.sample(frac=1)\n",
    "x_train, y_train = train.drop('label', axis=1), train['label']\n",
    "x_test, y_test = test.drop('label', axis=1), test['label']"
   ]
  },
  {
   "cell_type": "code",
   "execution_count": 8,
   "metadata": {},
   "outputs": [],
   "source": [
    "# data scaling and encoding\n",
    "scaler = StandardScaler(['f1', 'f2', 'f3', 'f4', 'f5'])\n",
    "scaler.fit(x_train)\n",
    "x_train = scaler.transform(x_train)\n",
    "x_test = scaler.transform(x_test)\n",
    "y_train = one_hot_encoding(y_train, N_CLASS)\n",
    "y_test = one_hot_encoding(y_test, N_CLASS)"
   ]
  },
  {
   "cell_type": "code",
   "execution_count": 9,
   "metadata": {
    "scrolled": true,
    "tags": [
     "outputPrepend"
    ]
   },
   "outputs": [
    {
     "name": "stderr",
     "output_type": "stream",
     "text": [
      "C:\\Users\\AI-lab\\github_repo\\neural-network\\python\\ga.py:201: RuntimeWarning: overflow encountered in add\n",
      "  self.population.sort(key=lambda p: p.fitness + np.random.uniform(-shift, shift, 1), reverse = self.aim)\n"
     ]
    },
    {
     "name": "stdout",
     "output_type": "stream",
     "text": [
      "Checkpoint 100, Accuracy: 0.9629629629629629, Loss: 0.17097464314213506\n",
      "Checkpoint 200, Accuracy: 0.9691358024691358, Loss: 0.15528293892189307\n",
      "Checkpoint 300, Accuracy: 0.9629629629629629, Loss: 0.14490136393794306\n",
      "Checkpoint 400, Accuracy: 0.9629629629629629, Loss: 0.13762933236581307\n",
      "Checkpoint 500, Accuracy: 0.9629629629629629, Loss: 0.12949053446451822\n"
     ]
    }
   ],
   "source": [
    "# learning phase\n",
    "breakpoint = 100\n",
    "checkpoints = list()\n",
    "history = list()\n",
    "for century in range(0, EPOCHS, breakpoint):\n",
    "    sub_history = model.fit(x_train, y_train, breakpoint, verbose = 0)\n",
    "    score = model.evaluate(x_test, y_test, False, verbose = 0)\n",
    "    print('Checkpoint {}, Accuracy: {}, Loss: {}'.format(century+breakpoint, score['accuracy'], score[model.loss_fn]))\n",
    "    score['checkpoint'] = century + breakpoint\n",
    "    checkpoints.append(score)\n",
    "    history.extend(sub_history)\n",
    "    "
   ]
  },
  {
   "cell_type": "code",
   "execution_count": 10,
   "metadata": {},
   "outputs": [],
   "source": [
    "import matplotlib.pyplot as plt\n",
    "\n",
    "def draw_plot(x, y_list, x_label=None, y_label=None, legend=None, title=None):\n",
    "    fig, ax = plt.subplots(figsize=(12,5))\n",
    "    for xi, yi in zip(x, y_list):\n",
    "        ax.plot(xi, yi)\n",
    "    if x_label is not None and y_label is not None:\n",
    "        ax.set(xlabel=x_label, ylabel=y_label, title='{} VS {}'.format(x_label, y_label))\n",
    "    if legend is not None:\n",
    "        ax.legend(legend)\n",
    "    ax.grid()\n",
    "    plt.show()"
   ]
  },
  {
   "cell_type": "code",
   "execution_count": 11,
   "metadata": {},
   "outputs": [
    {
     "name": "stdout",
     "output_type": "stream",
     "text": [
      "[0. 1. 0.] <-> [0.00884481 0.9839632  0.00719197]\n",
      "[1. 0. 0.] <-> [0.9867278  0.00914993 0.0041223 ]\n",
      "[0. 1. 0.] <-> [0.08248837 0.91104966 0.006462  ]\n",
      "[1. 0. 0.] <-> [0.9827708  0.00935502 0.0078743 ]\n",
      "[1. 0. 0.] <-> [0.9417292  0.02396047 0.03431029]\n",
      "[1. 0. 0.] <-> [0.97144675 0.00808753 0.02046569]\n",
      "[1. 0. 0.] <-> [0.9869474  0.00847255 0.00458002]\n",
      "[1. 0. 0.] <-> [0.98864996 0.00435593 0.00699402]\n",
      "[1. 0. 0.] <-> [0.98054296 0.01069009 0.00876701]\n",
      "[1. 0. 0.] <-> [0.98634976 0.00558858 0.0080617 ]\n",
      "[1. 0. 0.] <-> [0.9878302  0.00696709 0.00520269]\n",
      "[1. 0. 0.] <-> [0.85557294 0.0192002  0.12522678]\n",
      "[1. 0. 0.] <-> [0.9679579  0.01371249 0.01832969]\n",
      "[0. 1. 0.] <-> [0.02122189 0.97463006 0.00414809]\n",
      "[1. 0. 0.] <-> [0.9851349  0.00693359 0.00793143]\n",
      "[1. 0. 0.] <-> [0.9604998  0.00725054 0.03224968]\n",
      "[0. 0. 1.] <-> [0.01054737 0.06032177 0.9291309 ]\n",
      "[1. 0. 0.] <-> [0.9895783  0.00580574 0.00461587]\n",
      "[1. 0. 0.] <-> [0.09462027 0.01250764 0.89287204]\n",
      "[0. 0. 1.] <-> [0.08039642 0.01044691 0.9091567 ]\n",
      "[0. 1. 0.] <-> [0.016637   0.97867787 0.00468513]\n",
      "[1. 0. 0.] <-> [0.90336555 0.08322473 0.0134097 ]\n",
      "[1. 0. 0.] <-> [0.9638994  0.01181459 0.02428599]\n",
      "[1. 0. 0.] <-> [0.9775714  0.00644254 0.01598598]\n",
      "[1. 0. 0.] <-> [0.98988754 0.00516622 0.00494624]\n",
      "[1. 0. 0.] <-> [0.9685528  0.00625354 0.02519359]\n",
      "[1. 0. 0.] <-> [0.9703808  0.00823541 0.02138383]\n",
      "[0. 0. 1.] <-> [0.00987556 0.0645054  0.92561907]\n",
      "[1. 0. 0.] <-> [0.98355985 0.00846411 0.00797603]\n",
      "[0. 1. 0.] <-> [0.07820785 0.9155439  0.0062482 ]\n",
      "[1. 0. 0.] <-> [0.9880134  0.00790371 0.00408282]\n",
      "[1. 0. 0.] <-> [0.987644   0.00712211 0.00523382]\n",
      "[1. 0. 0.] <-> [0.9526885  0.03912824 0.00818321]\n",
      "[1. 0. 0.] <-> [0.9618198  0.01226174 0.02591838]\n",
      "[0. 0. 1.] <-> [0.01590863 0.04065187 0.9434395 ]\n",
      "[1. 0. 0.] <-> [0.9804821  0.01236224 0.00715567]\n",
      "[1. 0. 0.] <-> [0.98754466 0.00635087 0.00610444]\n",
      "[1. 0. 0.] <-> [0.8197085  0.0133357  0.16695572]\n",
      "[1. 0. 0.] <-> [0.98517656 0.00712951 0.00769392]\n",
      "[0. 0. 1.] <-> [0.57867485 0.01992584 0.40139934]\n",
      "[1. 0. 0.] <-> [0.93154454 0.0085013  0.0599541 ]\n",
      "[0. 1. 0.] <-> [0.00560288 0.9845636  0.00983354]\n",
      "[1. 0. 0.] <-> [0.9880706  0.00532254 0.00660684]\n",
      "[1. 0. 0.] <-> [0.96318394 0.00872866 0.02808741]\n",
      "[0. 0. 1.] <-> [0.05858705 0.00869306 0.9327198 ]\n",
      "[1. 0. 0.] <-> [0.9274974  0.00913837 0.0633642 ]\n",
      "[0. 1. 0.] <-> [0.27824175 0.7127284  0.00902986]\n",
      "[0. 0. 1.] <-> [0.05582229 0.00919433 0.9349834 ]\n",
      "[0. 1. 0.] <-> [0.04465663 0.9497497  0.00559368]\n",
      "[0. 0. 1.] <-> [0.01885384 0.03249144 0.94865465]\n",
      "[1. 0. 0.] <-> [0.9747766  0.01018043 0.01504296]\n",
      "[0. 1. 0.] <-> [0.5334926  0.45546487 0.01104248]\n",
      "[1. 0. 0.] <-> [0.9857178  0.00832951 0.00595273]\n",
      "[1. 0. 0.] <-> [0.97545516 0.00740951 0.01713541]\n",
      "[1. 0. 0.] <-> [0.9327254  0.01182565 0.05544889]\n",
      "[1. 0. 0.] <-> [0.9833309  0.00902852 0.00764049]\n",
      "[1. 0. 0.] <-> [0.7124194  0.02255354 0.26502705]\n",
      "[1. 0. 0.] <-> [0.9581117  0.03506061 0.00682768]\n",
      "[0. 0. 1.] <-> [0.06101831 0.00834559 0.9306361 ]\n",
      "[1. 0. 0.] <-> [0.96539927 0.00759871 0.02700201]\n",
      "[1. 0. 0.] <-> [0.7401828  0.01382981 0.24598743]\n",
      "[1. 0. 0.] <-> [0.9720917  0.02161162 0.00629669]\n",
      "[1. 0. 0.] <-> [0.98503923 0.00513568 0.00982503]\n",
      "[1. 0. 0.] <-> [0.98300546 0.00702884 0.00996557]\n",
      "[0. 0. 1.] <-> [0.03081856 0.01861465 0.95056677]\n",
      "[0. 1. 0.] <-> [0.02896787 0.96620655 0.00482563]\n",
      "[0. 0. 1.] <-> [0.01063586 0.05980943 0.92955464]\n",
      "[1. 0. 0.] <-> [0.9726415  0.02066495 0.0066935 ]\n",
      "[1. 0. 0.] <-> [0.61589104 0.36965993 0.01444899]\n",
      "[1. 0. 0.] <-> [0.9759285  0.01713244 0.00693907]\n",
      "[1. 0. 0.] <-> [0.98184115 0.0058316  0.01232724]\n",
      "[0. 0. 1.] <-> [0.05760834 0.00876969 0.93362194]\n",
      "[1. 0. 0.] <-> [0.9895818  0.00543442 0.00498374]\n",
      "[1. 0. 0.] <-> [0.98760414 0.00567162 0.00672429]\n",
      "[1. 0. 0.] <-> [0.970305   0.00717979 0.02251514]\n",
      "[0. 1. 0.] <-> [0.55075735 0.43549725 0.01374538]\n",
      "[1. 0. 0.] <-> [0.9719204  0.01055439 0.01752517]\n",
      "[1. 0. 0.] <-> [0.5115258  0.01732689 0.47114727]\n",
      "[1. 0. 0.] <-> [0.9779914  0.0073071  0.01470149]\n",
      "[1. 0. 0.] <-> [0.8130514  0.02406162 0.16288699]\n",
      "[1. 0. 0.] <-> [0.96760064 0.01442976 0.01796956]\n",
      "[1. 0. 0.] <-> [0.66164523 0.02254091 0.31581384]\n",
      "[1. 0. 0.] <-> [0.9864319  0.00925454 0.00431355]\n",
      "[1. 0. 0.] <-> [0.9368005  0.02162039 0.04157917]\n",
      "[1. 0. 0.] <-> [0.9878143  0.00757575 0.00460996]\n",
      "[1. 0. 0.] <-> [0.99104017 0.00402394 0.00493591]\n",
      "[1. 0. 0.] <-> [0.9725565  0.01854832 0.0088952 ]\n",
      "[1. 0. 0.] <-> [0.9721815  0.00883534 0.01898313]\n",
      "[0. 1. 0.] <-> [0.6009447  0.3865189  0.01253639]\n",
      "[0. 0. 1.] <-> [0.70682573 0.01316496 0.28000927]\n",
      "[1. 0. 0.] <-> [0.9710514  0.01911653 0.00983204]\n",
      "[1. 0. 0.] <-> [0.9678844  0.00651091 0.02560456]\n",
      "[0. 1. 0.] <-> [0.05429294 0.941881   0.00382613]\n",
      "[1. 0. 0.] <-> [0.9877077  0.00572509 0.0065673 ]\n",
      "[1. 0. 0.] <-> [0.9663725  0.02322697 0.0104006 ]\n",
      "[1. 0. 0.] <-> [0.8119143  0.01372126 0.17436436]\n",
      "[1. 0. 0.] <-> [0.76327646 0.02569295 0.21103068]\n",
      "[0. 1. 0.] <-> [0.01209543 0.9821155  0.00578907]\n",
      "[1. 0. 0.] <-> [0.9911771  0.00422971 0.00459324]\n",
      "[0. 1. 0.] <-> [0.03367436 0.9633464  0.00297915]\n",
      "[1. 0. 0.] <-> [0.98574626 0.00671185 0.00754196]\n",
      "[1. 0. 0.] <-> [0.95097864 0.01258716 0.03643423]\n",
      "[1. 0. 0.] <-> [0.9522293  0.00783004 0.03994065]\n",
      "[1. 0. 0.] <-> [0.9689171  0.02320513 0.00787785]\n",
      "[1. 0. 0.] <-> [0.930504   0.05849988 0.01099603]\n",
      "[1. 0. 0.] <-> [0.9673104  0.00627934 0.02641023]\n",
      "[1. 0. 0.] <-> [0.9853308  0.00649829 0.00817088]\n",
      "[1. 0. 0.] <-> [0.8713265  0.01125325 0.11742016]\n",
      "{'accuracy': 0.9629629629629629, 'mean_square_error': 0.06746672557683588, 'categorical_crossentropy': 0.12949053446451822, 'precision': 0.9444444444444444, 'recall': 0.9444444444444444, 'f1': 0.9444444444444444, 'essential_metrics': {0: {'tp_hit': 79, 'fp_hit': 5, 'tn_hit': 23, 'fn_hit': 1}, 1: {'tp_hit': 12, 'fp_hit': 0, 'tn_hit': 93, 'fn_hit': 3}, 2: {'tp_hit': 11, 'fp_hit': 1, 'tn_hit': 94, 'fn_hit': 2}}}\n"
     ]
    }
   ],
   "source": [
    "# recall phase\n",
    "score = model.evaluate(x_test, y_test, False)\n",
    "print(score)"
   ]
  },
  {
   "cell_type": "code",
   "execution_count": 12,
   "metadata": {},
   "outputs": [],
   "source": [
    "# Testing Performance"
   ]
  },
  {
   "cell_type": "code",
   "execution_count": 13,
   "metadata": {},
   "outputs": [
    {
     "data": {
      "image/png": "[encoded data removed]",
      "text/plain": [
       "<Figure size 864x360 with 1 Axes>"
      ]
     },
     "metadata": {
      "needs_background": "light"
     },
     "output_type": "display_data"
    },
    {
     "data": {
      "image/png": "[encoded data removed]",
      "text/plain": [
       "<Figure size 864x360 with 1 Axes>"
      ]
     },
     "metadata": {
      "needs_background": "light"
     },
     "output_type": "display_data"
    }
   ],
   "source": [
    "draw_plot(x = [[i for i in range(len(history))], [(i+1)*breakpoint for i in range(len(checkpoints))]], y_list = [history, [ ckp[model.loss_fn] for ckp in checkpoints ]], x_label = 'Epochs', \\\n",
    "    y_label = model.loss_fn, legend=['train', 'test'])\n",
    "acc = [ ckp['accuracy'] for ckp in checkpoints ]\n",
    "draw_plot(x = [[(i+1)*breakpoint for i in range(len(checkpoints))]], y_list = [acc], x_label = 'Checkpoints', \\\n",
    "    y_label = 'accuracy')"
   ]
  },
  {
   "cell_type": "code",
   "execution_count": 14,
   "metadata": {
    "scrolled": false
   },
   "outputs": [
    {
     "name": "stdout",
     "output_type": "stream",
     "text": [
      "{'accuracy': 0.9629629629629629, 'mean_square_error': 0.08174503655608277, 'categorical_crossentropy': 0.17097464314213506, 'precision': 0.9444444444444444, 'recall': 0.9444444444444444, 'f1': 0.9444444444444444, 'essential_metrics': {0: {'tp_hit': 78, 'fp_hit': 4, 'tn_hit': 24, 'fn_hit': 2}, 1: {'tp_hit': 13, 'fp_hit': 0, 'tn_hit': 93, 'fn_hit': 2}, 2: {'tp_hit': 11, 'fp_hit': 2, 'tn_hit': 93, 'fn_hit': 2}}, 'checkpoint': 100} \n",
      "\n",
      "\n",
      "{'accuracy': 0.9691358024691358, 'mean_square_error': 0.07436331290881824, 'categorical_crossentropy': 0.15528293892189307, 'precision': 0.9537037037037037, 'recall': 0.9537037037037037, 'f1': 0.9537037037037037, 'essential_metrics': {0: {'tp_hit': 78, 'fp_hit': 3, 'tn_hit': 25, 'fn_hit': 2}, 1: {'tp_hit': 14, 'fp_hit': 0, 'tn_hit': 93, 'fn_hit': 1}, 2: {'tp_hit': 11, 'fp_hit': 2, 'tn_hit': 93, 'fn_hit': 2}}, 'checkpoint': 200} \n",
      "\n",
      "\n",
      "{'accuracy': 0.9629629629629629, 'mean_square_error': 0.07150212545088233, 'categorical_crossentropy': 0.14490136393794306, 'precision': 0.9444444444444444, 'recall': 0.9444444444444444, 'f1': 0.9444444444444444, 'essential_metrics': {0: {'tp_hit': 78, 'fp_hit': 4, 'tn_hit': 24, 'fn_hit': 2}, 1: {'tp_hit': 13, 'fp_hit': 0, 'tn_hit': 93, 'fn_hit': 2}, 2: {'tp_hit': 11, 'fp_hit': 2, 'tn_hit': 93, 'fn_hit': 2}}, 'checkpoint': 300} \n",
      "\n",
      "\n",
      "{'accuracy': 0.9629629629629629, 'mean_square_error': 0.06814954268872915, 'categorical_crossentropy': 0.13762933236581307, 'precision': 0.9444444444444444, 'recall': 0.9444444444444444, 'f1': 0.9444444444444444, 'essential_metrics': {0: {'tp_hit': 78, 'fp_hit': 4, 'tn_hit': 24, 'fn_hit': 2}, 1: {'tp_hit': 13, 'fp_hit': 0, 'tn_hit': 93, 'fn_hit': 2}, 2: {'tp_hit': 11, 'fp_hit': 2, 'tn_hit': 93, 'fn_hit': 2}}, 'checkpoint': 400} \n",
      "\n",
      "\n",
      "{'accuracy': 0.9629629629629629, 'mean_square_error': 0.06746672557683588, 'categorical_crossentropy': 0.12949053446451822, 'precision': 0.9444444444444444, 'recall': 0.9444444444444444, 'f1': 0.9444444444444444, 'essential_metrics': {0: {'tp_hit': 79, 'fp_hit': 5, 'tn_hit': 23, 'fn_hit': 1}, 1: {'tp_hit': 12, 'fp_hit': 0, 'tn_hit': 93, 'fn_hit': 3}, 2: {'tp_hit': 11, 'fp_hit': 1, 'tn_hit': 94, 'fn_hit': 2}}, 'checkpoint': 500} \n",
      "\n",
      "\n"
     ]
    }
   ],
   "source": [
    "for checkpoint in checkpoints:\n",
    "    print(checkpoint, '\\n\\n')"
   ]
  },
  {
   "cell_type": "code",
   "execution_count": 15,
   "metadata": {},
   "outputs": [
    {
     "name": "stdout",
     "output_type": "stream",
     "text": [
      "Layer 1\n",
      "Neuron 0: weights:\n",
      "[ 0.3939826  1.2799582 -1.4745009 -2.8832161 -2.4373837]\n",
      " bias: -0.18231675028800964\n",
      "\n",
      "Neuron 1: weights:\n",
      "[-1.5067551   2.6250615   2.0801396   2.4881759   0.64035946]\n",
      " bias: -0.4421449303627014\n",
      "\n",
      "Neuron 2: weights:\n",
      "[-1.5360225  2.8528843  1.6685891 -1.4276894 -1.4345173]\n",
      " bias: -2.8712985515594482\n",
      "\n",
      "Neuron 3: weights:\n",
      "[-1.2373111  2.0172422  2.6915536 -0.9181798 -2.4866211]\n",
      " bias: 2.6272709369659424\n",
      "\n",
      "$\n",
      "Layer 2\n",
      "Neuron 0: weights:\n",
      "[ 1.9638195 -2.4028819 -2.993669   3.       ]\n",
      " bias: 0.32301750779151917\n",
      "\n",
      "Neuron 1: weights:\n",
      "[0.02786029 1.8358927  2.2605476  0.8790221 ]\n",
      " bias: -1.7919816970825195\n",
      "\n",
      "Neuron 2: weights:\n",
      "[-1.2943109 -0.4241172 -1.1942707 -2.744509 ]\n",
      " bias: 3.0\n",
      "\n",
      "$\n",
      "\n"
     ]
    }
   ],
   "source": [
    "print(model)"
   ]
  }
 ],
 "metadata": {
  "kernelspec": {
   "display_name": "Python 3",
   "language": "python",
   "name": "python3"
  },
  "language_info": {
   "codemirror_mode": {
    "name": "ipython",
    "version": 3
   },
   "file_extension": ".py",
   "mimetype": "text/x-python",
   "name": "python",
   "nbconvert_exporter": "python",
   "pygments_lexer": "ipython3",
   "version": "3.6.12"
  }
 },
 "nbformat": 4,
 "nbformat_minor": 2
}
