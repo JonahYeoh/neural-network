{
 "cells": [
  {
   "cell_type": "code",
   "execution_count": 1,
   "metadata": {},
   "outputs": [],
   "source": [
    "# dependency\n",
    "import numpy as np\n",
    "import pandas as pd\n",
    "import copy\n",
    "import math\n",
    "import sys\n",
    "import os\n",
    "from activations import relu, leaky_relu, sigmoid, tanh, softmax, d_sigmoid, d_relu\n",
    "from initializers import glorot_uniform, random_normal, random_uniform\n",
    "from regularizers import l1_regularizer, l2_regularizer\n",
    "from utility import trim_tail, multiply, subtract, get_nparams, one_hot_encoding, get_data\n",
    "from metrics import MSE, CCE, ACC, PRECISION, RECALL, essential_metrics, wondering_penalty, close_gap_penalty\n",
    "from pso import PSO\n",
    "from ga import GA\n",
    "from nn import Network\n",
    "from layer import DenseLayer\n",
    "from scalers import MinMaxScaler, StandardScaler"
   ]
  },
  {
   "cell_type": "code",
   "execution_count": 2,
   "metadata": {},
   "outputs": [],
   "source": [
    "# reference\n",
    "metrics_fn_dict = dict()\n",
    "metrics_fn_dict['accuracy'] = ACC\n",
    "metrics_fn_dict['categorical_crossentropy'] = CCE\n",
    "metrics_fn_dict['mean_square_error'] = MSE\n",
    "metrics_fn_dict['precision'] = PRECISION\n",
    "metrics_fn_dict['recall'] = RECALL\n",
    "metrics_fn_dict['essential_metrics'] = essential_metrics"
   ]
  },
  {
   "cell_type": "code",
   "execution_count": 3,
   "metadata": {},
   "outputs": [],
   "source": [
    "# model\n",
    "model = Network(5, lr = None)\n",
    "model.add_layer(DenseLayer(1, 4, True, afn=sigmoid, dafn=None, rfn=None))\n",
    "model.add_layer(DenseLayer(2, 3, True, afn=softmax, dafn=None, rfn=None))"
   ]
  },
  {
   "cell_type": "code",
   "execution_count": 4,
   "metadata": {},
   "outputs": [
    {
     "name": "stdout",
     "output_type": "stream",
     "text": [
      "see one see two 2 2\n"
     ]
    }
   ],
   "source": [
    "pso = PSO(dict(m = 50,\n",
    "    weight_constraint = [-3, 3], \n",
    "    velocity_constraint = [-0.1, 0.1],\n",
    "    c1 = 2,\n",
    "    c2 = 2,\n",
    "    w = 1.4,\n",
    "    w_decay = 1,\n",
    "    scale_hyperparameter = False,\n",
    "    regularizer = None,\n",
    "    mask = True))"
   ]
  },
  {
   "cell_type": "code",
   "execution_count": 5,
   "metadata": {},
   "outputs": [
    {
     "name": "stdout",
     "output_type": "stream",
     "text": [
      "building layer 1 with 5\n",
      "24\n",
      "building layer 2 with 4\n",
      "15\n"
     ]
    }
   ],
   "source": [
    "model.compile(loss_fn = 'categorical_crossentropy', optimizer = pso, \\\n",
    "    metrics = ['accuracy', 'mean_square_error', 'categorical_crossentropy'])"
   ]
  },
  {
   "cell_type": "code",
   "execution_count": 6,
   "metadata": {
    "scrolled": false
   },
   "outputs": [
    {
     "name": "stdout",
     "output_type": "stream",
     "text": [
      "<class 'pandas.core.frame.DataFrame'>\n",
      "RangeIndex: 107 entries, 0 to 106\n",
      "Data columns (total 6 columns):\n",
      " #   Column  Non-Null Count  Dtype  \n",
      "---  ------  --------------  -----  \n",
      " 0   f1      107 non-null    float32\n",
      " 1   f2      107 non-null    float32\n",
      " 2   f3      107 non-null    float32\n",
      " 3   f4      107 non-null    float32\n",
      " 4   f5      107 non-null    float32\n",
      " 5   label   107 non-null    float32\n",
      "dtypes: float32(6)\n",
      "memory usage: 2.6 KB\n",
      "None\n",
      "<class 'pandas.core.frame.DataFrame'>\n",
      "RangeIndex: 108 entries, 0 to 107\n",
      "Data columns (total 6 columns):\n",
      " #   Column  Non-Null Count  Dtype  \n",
      "---  ------  --------------  -----  \n",
      " 0   f1      108 non-null    float32\n",
      " 1   f2      108 non-null    float32\n",
      " 2   f3      108 non-null    float32\n",
      " 3   f4      108 non-null    float32\n",
      " 4   f5      108 non-null    float32\n",
      " 5   label   108 non-null    float32\n",
      "dtypes: float32(6)\n",
      "memory usage: 2.7 KB\n",
      "None\n"
     ]
    }
   ],
   "source": [
    "# data loading\n",
    "DATA = os.path.join('c:\\\\Users\\\\Ai-lab\\\\github_repo\\\\neural-network\\\\', 'dataset')\n",
    "GROUP = 3\n",
    "COLUMNS = ['f1', 'f2', 'f3', 'f4', 'f5', 'label']\n",
    "N_CLASS = 3\n",
    "EPOCHS = 200\n",
    "train_dir, test_dir = \"..//dataset//training_data{}.txt\".format(GROUP), \"..//dataset//testing_data{}.txt\".format(GROUP)\n",
    "train, test = get_data(DATA, train_dir, COLUMNS), get_data(DATA, test_dir, COLUMNS)\n",
    "# shuffle\n",
    "train, test = train.sample(frac=1), test.sample(frac=1)\n",
    "x_train, y_train = train.drop('label', axis=1), train['label']\n",
    "x_test, y_test = test.drop('label', axis=1), test['label']"
   ]
  },
  {
   "cell_type": "code",
   "execution_count": 7,
   "metadata": {},
   "outputs": [],
   "source": [
    "# data scaling and encoding\n",
    "scaler = StandardScaler(['f1', 'f2', 'f3', 'f4', 'f5'])\n",
    "scaler.fit(x_train)\n",
    "x_train = scaler.transform(x_train)\n",
    "x_test = scaler.transform(x_test)\n",
    "y_train = one_hot_encoding(y_train, N_CLASS)\n",
    "y_test = one_hot_encoding(y_test, N_CLASS)"
   ]
  },
  {
   "cell_type": "code",
   "execution_count": 8,
   "metadata": {
    "tags": [
     "outputPrepend"
    ]
   },
   "outputs": [
    {
     "name": "stdout",
     "output_type": "stream",
     "text": [
      "Checkpoint 10, Accuracy: 0.8765432098765432, Loss: 0.5099416662145544\n",
      "Checkpoint 20, Accuracy: 0.8765432098765432, Loss: 0.5099416662145544\n",
      "Checkpoint 30, Accuracy: 0.8950617283950617, Loss: 0.42499577557599105\n",
      "Checkpoint 40, Accuracy: 0.9197530864197531, Loss: 0.36357879638671875\n",
      "Checkpoint 50, Accuracy: 0.9320987654320988, Loss: 0.3156564853809498\n",
      "Checkpoint 60, Accuracy: 0.9135802469135802, Loss: 0.2782633039686415\n",
      "Checkpoint 70, Accuracy: 0.9320987654320988, Loss: 0.2720886159826208\n",
      "Checkpoint 80, Accuracy: 0.9506172839506173, Loss: 0.28053619243480543\n",
      "Checkpoint 90, Accuracy: 0.9506172839506173, Loss: 0.23972013261583117\n",
      "Checkpoint 100, Accuracy: 0.9567901234567902, Loss: 0.20549193135014288\n",
      "Checkpoint 110, Accuracy: 0.9629629629629629, Loss: 0.1704907593903718\n",
      "Checkpoint 120, Accuracy: 0.9629629629629629, Loss: 0.16863134172227648\n",
      "Checkpoint 130, Accuracy: 0.9629629629629629, Loss: 0.1466525395711263\n",
      "Checkpoint 140, Accuracy: 0.9567901234567902, Loss: 0.15489269185949256\n",
      "Checkpoint 150, Accuracy: 0.9567901234567902, Loss: 0.14311002801965783\n",
      "Checkpoint 160, Accuracy: 0.9567901234567902, Loss: 0.12682774331834581\n",
      "Checkpoint 170, Accuracy: 0.9629629629629629, Loss: 0.11719152662489149\n",
      "Checkpoint 180, Accuracy: 0.9753086419753086, Loss: 0.09558359781901042\n",
      "Checkpoint 190, Accuracy: 0.9691358024691358, Loss: 0.10890134175618489\n",
      "Checkpoint 200, Accuracy: 0.9629629629629629, Loss: 0.1026426597877785\n"
     ]
    }
   ],
   "source": [
    "# learning phase\n",
    "breakpoint = 10\n",
    "checkpoints = list()\n",
    "history = list()\n",
    "for century in range(0, EPOCHS, breakpoint):\n",
    "    sub_history = model.fit(x_train, y_train, breakpoint, verbose = 0)\n",
    "    score = model.evaluate(x_test, y_test, False, verbose = 0)\n",
    "    print('Checkpoint {}, Accuracy: {}, Loss: {}'.format(century+breakpoint, score['accuracy'], score[model.loss_fn]))\n",
    "    score['checkpoint'] = century + breakpoint\n",
    "    checkpoints.append(score)\n",
    "    history.extend(sub_history)"
   ]
  },
  {
   "cell_type": "code",
   "execution_count": 9,
   "metadata": {},
   "outputs": [],
   "source": [
    "import matplotlib.pyplot as plt\n",
    "\n",
    "def draw_plot(x, y_list, x_label=None, y_label=None, legend=None, title=None):\n",
    "    fig, ax = plt.subplots(figsize=(12,5))\n",
    "    for xi, yi in zip(x, y_list):\n",
    "        ax.plot(xi, yi)\n",
    "    if x_label is not None and y_label is not None:\n",
    "        ax.set(xlabel=x_label, ylabel=y_label, title='{} VS {}'.format(x_label, y_label))\n",
    "    if legend is not None:\n",
    "        ax.legend(legend)\n",
    "    ax.grid()\n",
    "    plt.show()"
   ]
  },
  {
   "cell_type": "code",
   "execution_count": 10,
   "metadata": {},
   "outputs": [],
   "source": [
    "train_acc = [h['accuracy'] for h in history]\n",
    "train_mse = [h['mean_square_error'] for h in history]\n",
    "train_cce = [h['categorical_crossentropy'] for h in history]"
   ]
  },
  {
   "cell_type": "code",
   "execution_count": 11,
   "metadata": {},
   "outputs": [
    {
     "data": {
      "image/png": "[encoded data removed]",
      "text/plain": [
       "<Figure size 864x360 with 1 Axes>"
      ]
     },
     "metadata": {
      "needs_background": "light"
     },
     "output_type": "display_data"
    },
    {
     "data": {
      "image/png": "[encoded data removed]",
      "text/plain": [
       "<Figure size 864x360 with 1 Axes>"
      ]
     },
     "metadata": {
      "needs_background": "light"
     },
     "output_type": "display_data"
    }
   ],
   "source": [
    "draw_plot(x = [[i for i in range(len(history))], [(i+1)*breakpoint for i in range(len(checkpoints))]], y_list = [train_cce, [ ckp[model.loss_fn] for ckp in checkpoints ]], x_label = 'Epochs', \\\n",
    "    y_label = model.loss_fn, legend=['train', 'test'])\n",
    "acc = [ ckp['accuracy'] for ckp in checkpoints ]\n",
    "draw_plot(x = [[i for i in range(len(history))], [(i+1)*breakpoint for i in range(len(checkpoints))]], y_list = [train_acc, acc], x_label = 'Checkpoints', \\\n",
    "    y_label = 'accuracy', legend=['train', 'test'])"
   ]
  },
  {
   "cell_type": "code",
   "execution_count": 12,
   "metadata": {},
   "outputs": [
    {
     "name": "stdout",
     "output_type": "stream",
     "text": [
      "[1. 0. 0.] <-> [0.97360295 0.01698792 0.00940912]\n",
      "[1. 0. 0.] <-> [0.6288793  0.3677403  0.00338036]\n",
      "[1. 0. 0.] <-> [0.97676075 0.02081427 0.0024249 ]\n",
      "[1. 0. 0.] <-> [0.99469215 0.00371789 0.00158997]\n",
      "[1. 0. 0.] <-> [0.99514717 0.00310999 0.00174279]\n",
      "[0. 0. 1.] <-> [4.8995866e-03 4.5765762e-05 9.9505460e-01]\n",
      "[1. 0. 0.] <-> [0.90389144 0.09333176 0.00277679]\n",
      "[0. 0. 1.] <-> [6.5775542e-03 5.7497135e-05 9.9336493e-01]\n",
      "[1. 0. 0.] <-> [0.4859795  0.00278422 0.51123625]\n",
      "[1. 0. 0.] <-> [0.99425197 0.00379473 0.00195329]\n",
      "[1. 0. 0.] <-> [0.993824   0.00221764 0.00395844]\n",
      "[1. 0. 0.] <-> [0.9918726  0.00638435 0.00174295]\n",
      "[1. 0. 0.] <-> [0.99047756 0.00229194 0.00723049]\n",
      "[1. 0. 0.] <-> [0.99301857 0.00532116 0.00166024]\n",
      "[1. 0. 0.] <-> [0.96509296 0.00220985 0.03269726]\n",
      "[1. 0. 0.] <-> [0.9952944  0.00313919 0.00156645]\n",
      "[1. 0. 0.] <-> [0.9964809  0.00197414 0.00154501]\n",
      "[1. 0. 0.] <-> [0.2686042 0.7300739 0.0013218]\n",
      "[0. 1. 0.] <-> [7.625963e-03 9.922915e-01 8.257558e-05]\n",
      "[0. 0. 1.] <-> [6.0171178e-03 5.4637563e-05 9.9392819e-01]\n",
      "[1. 0. 0.] <-> [0.9947666  0.00349794 0.00173545]\n",
      "[1. 0. 0.] <-> [0.9938158  0.00212749 0.00405669]\n",
      "[1. 0. 0.] <-> [0.9960693  0.00219692 0.00173373]\n",
      "[0. 0. 1.] <-> [8.6540319e-03 7.4626674e-05 9.9127138e-01]\n",
      "[1. 0. 0.] <-> [0.99523664 0.00322907 0.00153425]\n",
      "[0. 1. 0.] <-> [7.6128743e-03 9.9230736e-01 7.9875994e-05]\n",
      "[0. 0. 1.] <-> [4.9290387e-03 4.5983361e-05 9.9502498e-01]\n",
      "[1. 0. 0.] <-> [0.95817846 0.03925053 0.0025711 ]\n",
      "[1. 0. 0.] <-> [0.99385226 0.00458221 0.00156552]\n",
      "[1. 0. 0.] <-> [0.9913288  0.00712    0.00155131]\n",
      "[1. 0. 0.] <-> [0.983612   0.00278204 0.01360596]\n",
      "[0. 0. 1.] <-> [0.6359333  0.00259565 0.3614711 ]\n",
      "[1. 0. 0.] <-> [0.15347649 0.845489   0.00103447]\n",
      "[1. 0. 0.] <-> [0.9666977 0.0078044 0.025498 ]\n",
      "[1. 0. 0.] <-> [0.98851776 0.00966299 0.00181917]\n",
      "[0. 0. 1.] <-> [9.0778153e-03 7.7081400e-05 9.9084514e-01]\n",
      "[1. 0. 0.] <-> [0.9940612  0.00208052 0.00385829]\n",
      "[1. 0. 0.] <-> [0.99446726 0.00336759 0.00216507]\n",
      "[1. 0. 0.] <-> [0.9955295  0.00303555 0.00143507]\n",
      "[0. 1. 0.] <-> [7.591494e-03 9.923281e-01 8.048066e-05]\n",
      "[1. 0. 0.] <-> [0.9948297  0.00295779 0.0022125 ]\n",
      "[0. 1. 0.] <-> [4.4473983e-02 9.5518970e-01 3.3626586e-04]\n",
      "[0. 0. 1.] <-> [5.6220582e-03 5.0917934e-05 9.9432701e-01]\n",
      "[1. 0. 0.] <-> [0.99523664 0.00254266 0.00222078]\n",
      "[1. 0. 0.] <-> [0.99310887 0.00247097 0.00442008]\n",
      "[0. 1. 0.] <-> [1.2033363e-02 9.8785710e-01 1.0952030e-04]\n",
      "[0. 1. 0.] <-> [9.0841465e-03 9.9081928e-01 9.6640222e-05]\n",
      "[0. 0. 1.] <-> [1.3102114e-01 7.9158961e-04 8.6818731e-01]\n",
      "[1. 0. 0.] <-> [0.23007381 0.00149252 0.7684337 ]\n",
      "[1. 0. 0.] <-> [0.99497014 0.00239529 0.00263455]\n",
      "[0. 0. 1.] <-> [4.9796593e-03 4.6337707e-05 9.9497402e-01]\n",
      "[0. 0. 1.] <-> [4.8996657e-03 4.5766283e-05 9.9505460e-01]\n",
      "[1. 0. 0.] <-> [0.9889213  0.00287418 0.00820459]\n",
      "[1. 0. 0.] <-> [0.9790522  0.01895018 0.00199766]\n",
      "[1. 0. 0.] <-> [0.9911301  0.00223675 0.00663318]\n",
      "[1. 0. 0.] <-> [0.71320224 0.2832213  0.0035765 ]\n",
      "[0. 1. 0.] <-> [7.5914161e-03 9.9232787e-01 8.0684375e-05]\n",
      "[0. 1. 0.] <-> [7.6457425e-03 9.9227363e-01 8.0498350e-05]\n",
      "[1. 0. 0.] <-> [0.9954419  0.00214459 0.00241357]\n",
      "[1. 0. 0.] <-> [0.9918079  0.00280339 0.00538867]\n",
      "[1. 0. 0.] <-> [0.99441034 0.00283383 0.00275573]\n",
      "[0. 1. 0.] <-> [7.6242331e-03 9.9229628e-01 7.9532365e-05]\n",
      "[0. 1. 0.] <-> [0.14639674 0.85271007 0.00089325]\n",
      "[1. 0. 0.] <-> [0.99426407 0.00411169 0.00162423]\n",
      "[0. 0. 1.] <-> [4.8999772e-03 4.5772729e-05 9.9505424e-01]\n",
      "[1. 0. 0.] <-> [0.8275892  0.00381212 0.16859868]\n",
      "[1. 0. 0.] <-> [0.9842228  0.00394815 0.0118291 ]\n",
      "[0. 0. 1.] <-> [1.0674023e-01 5.9280556e-04 8.9266700e-01]\n",
      "[1. 0. 0.] <-> [0.95148546 0.00358188 0.04493265]\n",
      "[0. 1. 0.] <-> [7.6325880e-03 9.9228823e-01 7.9292928e-05]\n",
      "[1. 0. 0.] <-> [0.9957182  0.00221218 0.00206965]\n",
      "[0. 1. 0.] <-> [9.1163896e-02 9.0835792e-01 4.7820486e-04]\n",
      "[1. 0. 0.] <-> [0.98967046 0.00735985 0.00296974]\n",
      "[1. 0. 0.] <-> [0.9689078  0.02860539 0.00248678]\n",
      "[1. 0. 0.] <-> [0.95891625 0.00334804 0.03773566]\n",
      "[1. 0. 0.] <-> [0.9926293  0.00497573 0.00239501]\n",
      "[1. 0. 0.] <-> [0.99234384 0.00550018 0.00215595]\n",
      "[0. 1. 0.] <-> [1.9576406e-02 9.8024541e-01 1.7822208e-04]\n",
      "[0. 0. 1.] <-> [0.7801008  0.00230945 0.21758974]\n",
      "[0. 1. 0.] <-> [2.5751751e-02 9.7401613e-01 2.3210036e-04]\n",
      "[1. 0. 0.] <-> [0.9958413  0.00216764 0.00199102]\n",
      "[1. 0. 0.] <-> [0.98810065 0.00477976 0.00711962]\n",
      "[1. 0. 0.] <-> [0.99561596 0.00227634 0.00210775]\n",
      "[1. 0. 0.] <-> [0.9962471  0.00200422 0.0017486 ]\n",
      "[1. 0. 0.] <-> [0.99439126 0.00212827 0.00348047]\n",
      "[1. 0. 0.] <-> [0.7973349  0.19908138 0.00358379]\n",
      "[1. 0. 0.] <-> [0.9964199  0.0020595  0.00152068]\n",
      "[0. 1. 0.] <-> [7.6331259e-03 9.9228764e-01 7.9277765e-05]\n",
      "[1. 0. 0.] <-> [0.9959074  0.00223784 0.00185464]\n",
      "[1. 0. 0.] <-> [0.99271834 0.00225815 0.00502347]\n",
      "[1. 0. 0.] <-> [0.993375   0.00394213 0.00268286]\n",
      "[1. 0. 0.] <-> [0.99541724 0.00277665 0.00180622]\n",
      "[1. 0. 0.] <-> [0.9946649  0.00234639 0.00298861]\n",
      "[1. 0. 0.] <-> [0.99495596 0.00249193 0.0025521 ]\n",
      "[1. 0. 0.] <-> [0.9939652  0.00441445 0.00162033]\n",
      "[1. 0. 0.] <-> [0.9955914  0.00273298 0.00167564]\n",
      "[1. 0. 0.] <-> [0.9872181  0.01037192 0.00241013]\n",
      "[1. 0. 0.] <-> [0.88180655 0.00272449 0.11546902]\n",
      "[1. 0. 0.] <-> [0.993067   0.0031757  0.00375728]\n",
      "[1. 0. 0.] <-> [0.99515474 0.00276591 0.00207933]\n",
      "[1. 0. 0.] <-> [0.9905834  0.00219178 0.00722479]\n",
      "[1. 0. 0.] <-> [0.9957117  0.00233715 0.00195114]\n",
      "[1. 0. 0.] <-> [0.99621296 0.00234381 0.00144328]\n",
      "[1. 0. 0.] <-> [0.9956541  0.0027992  0.00154665]\n",
      "[1. 0. 0.] <-> [0.9958429  0.00241017 0.00174695]\n",
      "[0. 1. 0.] <-> [1.9878913e-02 9.7993934e-01 1.8180870e-04]\n",
      "[1. 0. 0.] <-> [0.76771945 0.22957715 0.00270336]\n",
      "[1. 0. 0.] <-> [0.993601   0.00401259 0.0023863 ]\n",
      "{'accuracy': 0.9629629629629629, 'mean_square_error': 0.0659079374393628, 'categorical_crossentropy': 0.1026426597877785, 'essential_metrics': {0: {'tp_hit': 74, 'fp_hit': 2, 'tn_hit': 28, 'fn_hit': 4}, 1: {'tp_hit': 16, 'fp_hit': 2, 'tn_hit': 90, 'fn_hit': 0}, 2: {'tp_hit': 12, 'fp_hit': 2, 'tn_hit': 92, 'fn_hit': 2}}}\n"
     ]
    }
   ],
   "source": [
    "# recall phase\n",
    "score = model.evaluate(x_test, y_test, False)\n",
    "print(score)"
   ]
  },
  {
   "cell_type": "code",
   "execution_count": 13,
   "metadata": {},
   "outputs": [
    {
     "name": "stdout",
     "output_type": "stream",
     "text": [
      "{'accuracy': 0.8765432098765432, 'mean_square_error': 0.2802351059551582, 'categorical_crossentropy': 0.5099416662145544, 'essential_metrics': {0: {'tp_hit': 78, 'fp_hit': 20, 'tn_hit': 10, 'fn_hit': 0}, 1: {'tp_hit': 10, 'fp_hit': 0, 'tn_hit': 92, 'fn_hit': 6}, 2: {'tp_hit': 0, 'fp_hit': 0, 'tn_hit': 94, 'fn_hit': 14}}, 'checkpoint': 10} \n",
      "\n",
      "\n",
      "{'accuracy': 0.8765432098765432, 'mean_square_error': 0.2802351059551582, 'categorical_crossentropy': 0.5099416662145544, 'essential_metrics': {0: {'tp_hit': 78, 'fp_hit': 20, 'tn_hit': 10, 'fn_hit': 0}, 1: {'tp_hit': 10, 'fp_hit': 0, 'tn_hit': 92, 'fn_hit': 6}, 2: {'tp_hit': 0, 'fp_hit': 0, 'tn_hit': 94, 'fn_hit': 14}}, 'checkpoint': 20} \n",
      "\n",
      "\n",
      "{'accuracy': 0.8950617283950617, 'mean_square_error': 0.23541603305748762, 'categorical_crossentropy': 0.42499577557599105, 'essential_metrics': {0: {'tp_hit': 74, 'fp_hit': 13, 'tn_hit': 17, 'fn_hit': 4}, 1: {'tp_hit': 9, 'fp_hit': 0, 'tn_hit': 92, 'fn_hit': 7}, 2: {'tp_hit': 8, 'fp_hit': 4, 'tn_hit': 90, 'fn_hit': 6}}, 'checkpoint': 30} \n",
      "\n",
      "\n",
      "{'accuracy': 0.9197530864197531, 'mean_square_error': 0.19361419059849005, 'categorical_crossentropy': 0.36357879638671875, 'essential_metrics': {0: {'tp_hit': 73, 'fp_hit': 8, 'tn_hit': 22, 'fn_hit': 5}, 1: {'tp_hit': 12, 'fp_hit': 0, 'tn_hit': 92, 'fn_hit': 4}, 2: {'tp_hit': 10, 'fp_hit': 5, 'tn_hit': 89, 'fn_hit': 4}}, 'checkpoint': 40} \n",
      "\n",
      "\n",
      "{'accuracy': 0.9320987654320988, 'mean_square_error': 0.16978006382229208, 'categorical_crossentropy': 0.3156564853809498, 'essential_metrics': {0: {'tp_hit': 78, 'fp_hit': 11, 'tn_hit': 19, 'fn_hit': 0}, 1: {'tp_hit': 11, 'fp_hit': 0, 'tn_hit': 92, 'fn_hit': 5}, 2: {'tp_hit': 8, 'fp_hit': 0, 'tn_hit': 94, 'fn_hit': 6}}, 'checkpoint': 50} \n",
      "\n",
      "\n",
      "{'accuracy': 0.9135802469135802, 'mean_square_error': 0.1544917267479019, 'categorical_crossentropy': 0.2782633039686415, 'essential_metrics': {0: {'tp_hit': 78, 'fp_hit': 14, 'tn_hit': 16, 'fn_hit': 0}, 1: {'tp_hit': 8, 'fp_hit': 0, 'tn_hit': 92, 'fn_hit': 8}, 2: {'tp_hit': 8, 'fp_hit': 0, 'tn_hit': 94, 'fn_hit': 6}}, 'checkpoint': 60} \n",
      "\n",
      "\n",
      "{'accuracy': 0.9320987654320988, 'mean_square_error': 0.14713033554285881, 'categorical_crossentropy': 0.2720886159826208, 'essential_metrics': {0: {'tp_hit': 78, 'fp_hit': 11, 'tn_hit': 19, 'fn_hit': 0}, 1: {'tp_hit': 11, 'fp_hit': 0, 'tn_hit': 92, 'fn_hit': 5}, 2: {'tp_hit': 8, 'fp_hit': 0, 'tn_hit': 94, 'fn_hit': 6}}, 'checkpoint': 70} \n",
      "\n",
      "\n",
      "{'accuracy': 0.9506172839506173, 'mean_square_error': 0.14394321700893917, 'categorical_crossentropy': 0.28053619243480543, 'essential_metrics': {0: {'tp_hit': 77, 'fp_hit': 7, 'tn_hit': 23, 'fn_hit': 1}, 1: {'tp_hit': 14, 'fp_hit': 1, 'tn_hit': 91, 'fn_hit': 2}, 2: {'tp_hit': 9, 'fp_hit': 0, 'tn_hit': 94, 'fn_hit': 5}}, 'checkpoint': 80} \n",
      "\n",
      "\n",
      "{'accuracy': 0.9506172839506173, 'mean_square_error': 0.12044136617903885, 'categorical_crossentropy': 0.23972013261583117, 'essential_metrics': {0: {'tp_hit': 77, 'fp_hit': 7, 'tn_hit': 23, 'fn_hit': 1}, 1: {'tp_hit': 14, 'fp_hit': 1, 'tn_hit': 91, 'fn_hit': 2}, 2: {'tp_hit': 9, 'fp_hit': 0, 'tn_hit': 94, 'fn_hit': 5}}, 'checkpoint': 90} \n",
      "\n",
      "\n",
      "{'accuracy': 0.9567901234567902, 'mean_square_error': 0.10427768881081628, 'categorical_crossentropy': 0.20549193135014288, 'essential_metrics': {0: {'tp_hit': 77, 'fp_hit': 6, 'tn_hit': 24, 'fn_hit': 1}, 1: {'tp_hit': 15, 'fp_hit': 1, 'tn_hit': 91, 'fn_hit': 1}, 2: {'tp_hit': 9, 'fp_hit': 0, 'tn_hit': 94, 'fn_hit': 5}}, 'checkpoint': 100} \n",
      "\n",
      "\n",
      "{'accuracy': 0.9629629629629629, 'mean_square_error': 0.08034566467584056, 'categorical_crossentropy': 0.1704907593903718, 'essential_metrics': {0: {'tp_hit': 75, 'fp_hit': 3, 'tn_hit': 27, 'fn_hit': 3}, 1: {'tp_hit': 16, 'fp_hit': 1, 'tn_hit': 91, 'fn_hit': 0}, 2: {'tp_hit': 11, 'fp_hit': 2, 'tn_hit': 92, 'fn_hit': 3}}, 'checkpoint': 110} \n",
      "\n",
      "\n",
      "{'accuracy': 0.9629629629629629, 'mean_square_error': 0.09183677979036904, 'categorical_crossentropy': 0.16863134172227648, 'essential_metrics': {0: {'tp_hit': 76, 'fp_hit': 4, 'tn_hit': 26, 'fn_hit': 2}, 1: {'tp_hit': 16, 'fp_hit': 1, 'tn_hit': 91, 'fn_hit': 0}, 2: {'tp_hit': 10, 'fp_hit': 1, 'tn_hit': 93, 'fn_hit': 4}}, 'checkpoint': 120} \n",
      "\n",
      "\n",
      "{'accuracy': 0.9629629629629629, 'mean_square_error': 0.0797881909114974, 'categorical_crossentropy': 0.1466525395711263, 'essential_metrics': {0: {'tp_hit': 75, 'fp_hit': 3, 'tn_hit': 27, 'fn_hit': 3}, 1: {'tp_hit': 16, 'fp_hit': 2, 'tn_hit': 90, 'fn_hit': 0}, 2: {'tp_hit': 11, 'fp_hit': 1, 'tn_hit': 93, 'fn_hit': 3}}, 'checkpoint': 130} \n",
      "\n",
      "\n",
      "{'accuracy': 0.9567901234567902, 'mean_square_error': 0.08810830702135715, 'categorical_crossentropy': 0.15489269185949256, 'essential_metrics': {0: {'tp_hit': 74, 'fp_hit': 3, 'tn_hit': 27, 'fn_hit': 4}, 1: {'tp_hit': 16, 'fp_hit': 2, 'tn_hit': 90, 'fn_hit': 0}, 2: {'tp_hit': 11, 'fp_hit': 2, 'tn_hit': 92, 'fn_hit': 3}}, 'checkpoint': 140} \n",
      "\n",
      "\n",
      "{'accuracy': 0.9567901234567902, 'mean_square_error': 0.0824002187019181, 'categorical_crossentropy': 0.14311002801965783, 'essential_metrics': {0: {'tp_hit': 74, 'fp_hit': 3, 'tn_hit': 27, 'fn_hit': 4}, 1: {'tp_hit': 16, 'fp_hit': 2, 'tn_hit': 90, 'fn_hit': 0}, 2: {'tp_hit': 11, 'fp_hit': 2, 'tn_hit': 92, 'fn_hit': 3}}, 'checkpoint': 150} \n",
      "\n",
      "\n",
      "{'accuracy': 0.9567901234567902, 'mean_square_error': 0.07606976113942426, 'categorical_crossentropy': 0.12682774331834581, 'essential_metrics': {0: {'tp_hit': 74, 'fp_hit': 3, 'tn_hit': 27, 'fn_hit': 4}, 1: {'tp_hit': 16, 'fp_hit': 2, 'tn_hit': 90, 'fn_hit': 0}, 2: {'tp_hit': 11, 'fp_hit': 2, 'tn_hit': 92, 'fn_hit': 3}}, 'checkpoint': 160} \n",
      "\n",
      "\n",
      "{'accuracy': 0.9629629629629629, 'mean_square_error': 0.07091386543623436, 'categorical_crossentropy': 0.11719152662489149, 'essential_metrics': {0: {'tp_hit': 74, 'fp_hit': 2, 'tn_hit': 28, 'fn_hit': 4}, 1: {'tp_hit': 16, 'fp_hit': 2, 'tn_hit': 90, 'fn_hit': 0}, 2: {'tp_hit': 12, 'fp_hit': 2, 'tn_hit': 92, 'fn_hit': 2}}, 'checkpoint': 170} \n",
      "\n",
      "\n",
      "{'accuracy': 0.9753086419753086, 'mean_square_error': 0.05675333410706228, 'categorical_crossentropy': 0.09558359781901042, 'essential_metrics': {0: {'tp_hit': 76, 'fp_hit': 2, 'tn_hit': 28, 'fn_hit': 2}, 1: {'tp_hit': 16, 'fp_hit': 2, 'tn_hit': 90, 'fn_hit': 0}, 2: {'tp_hit': 12, 'fp_hit': 0, 'tn_hit': 94, 'fn_hit': 2}}, 'checkpoint': 180} \n",
      "\n",
      "\n",
      "{'accuracy': 0.9691358024691358, 'mean_square_error': 0.06907905719494387, 'categorical_crossentropy': 0.10890134175618489, 'essential_metrics': {0: {'tp_hit': 75, 'fp_hit': 2, 'tn_hit': 28, 'fn_hit': 3}, 1: {'tp_hit': 16, 'fp_hit': 2, 'tn_hit': 90, 'fn_hit': 0}, 2: {'tp_hit': 12, 'fp_hit': 1, 'tn_hit': 93, 'fn_hit': 2}}, 'checkpoint': 190} \n",
      "\n",
      "\n",
      "{'accuracy': 0.9629629629629629, 'mean_square_error': 0.0659079374393628, 'categorical_crossentropy': 0.1026426597877785, 'essential_metrics': {0: {'tp_hit': 74, 'fp_hit': 2, 'tn_hit': 28, 'fn_hit': 4}, 1: {'tp_hit': 16, 'fp_hit': 2, 'tn_hit': 90, 'fn_hit': 0}, 2: {'tp_hit': 12, 'fp_hit': 2, 'tn_hit': 92, 'fn_hit': 2}}, 'checkpoint': 200} \n",
      "\n",
      "\n"
     ]
    }
   ],
   "source": [
    "for checkpoint in checkpoints:\n",
    "    print(checkpoint, '\\n\\n')"
   ]
  },
  {
   "cell_type": "code",
   "execution_count": 14,
   "metadata": {},
   "outputs": [
    {
     "name": "stdout",
     "output_type": "stream",
     "text": [
      "Layer 1\n",
      "Neuron 0: weights:\n",
      "[ 0.43799457  3.          0.50144035 -3.         -2.577218  ]\n",
      " bias: 2.340050458908081\n",
      "\n",
      "Neuron 1: weights:\n",
      "[ 1.555783   -3.         -3.          0.04286069  1.6245612 ]\n",
      " bias: 3.0\n",
      "\n",
      "Neuron 2: weights:\n",
      "[ 0.17073718  3.         -1.4429005  -2.4769323  -3.        ]\n",
      " bias: 1.84587824344635\n",
      "\n",
      "Neuron 3: weights:\n",
      "[-1.9238814  3.         2.7516873 -1.3167471 -1.1580755]\n",
      " bias: -3.0\n",
      "\n",
      "$\n",
      "Layer 2\n",
      "Neuron 0: weights:\n",
      "[ 3.         2.1536543  3.        -3.       ]\n",
      " bias: -2.040666341781616\n",
      "\n",
      "Neuron 1: weights:\n",
      "[ 3.        -3.         1.3872119  3.       ]\n",
      " bias: -1.5603833198547363\n",
      "\n",
      "Neuron 2: weights:\n",
      "[-3.          2.4295075  -3.         -0.60517347]\n",
      " bias: 2.9971272945404053\n",
      "\n",
      "$\n",
      "\n"
     ]
    }
   ],
   "source": [
    "print(model)"
   ]
  },
  {
   "cell_type": "code",
   "execution_count": null,
   "metadata": {},
   "outputs": [],
   "source": []
  }
 ],
 "metadata": {
  "kernelspec": {
   "display_name": "Python 3",
   "language": "python",
   "name": "python3"
  },
  "language_info": {
   "codemirror_mode": {
    "name": "ipython",
    "version": 3
   },
   "file_extension": ".py",
   "mimetype": "text/x-python",
   "name": "python",
   "nbconvert_exporter": "python",
   "pygments_lexer": "ipython3",
   "version": "3.6.12"
  }
 },
 "nbformat": 4,
 "nbformat_minor": 2
}
