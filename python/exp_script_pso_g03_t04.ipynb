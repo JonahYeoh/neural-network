{
 "cells": [
  {
   "cell_type": "code",
   "execution_count": 1,
   "metadata": {},
   "outputs": [],
   "source": [
    "# dependency\n",
    "import numpy as np\n",
    "import pandas as pd\n",
    "import copy\n",
    "import math\n",
    "import sys\n",
    "import os\n",
    "from activations import relu, leaky_relu, sigmoid, tanh, softmax, d_sigmoid, d_relu\n",
    "from initializers import glorot_uniform, random_normal, random_uniform\n",
    "from regularizers import l1_regularizer, l2_regularizer\n",
    "from utility import trim_tail, multiply, subtract, get_nparams, one_hot_encoding, get_data\n",
    "from metrics import MSE, CCE, ACC, PRECISION, RECALL, essential_metrics, wondering_penalty, close_gap_penalty\n",
    "from pso import PSO\n",
    "from ga import GA\n",
    "from nn import Network\n",
    "from layer import DenseLayer\n",
    "from scalers import MinMaxScaler, StandardScaler"
   ]
  },
  {
   "cell_type": "code",
   "execution_count": 2,
   "metadata": {},
   "outputs": [],
   "source": [
    "# reference\n",
    "metrics_fn_dict = dict()\n",
    "metrics_fn_dict['accuracy'] = ACC\n",
    "metrics_fn_dict['categorical_crossentropy'] = CCE\n",
    "metrics_fn_dict['mean_square_error'] = MSE\n",
    "metrics_fn_dict['precision'] = PRECISION\n",
    "metrics_fn_dict['recall'] = RECALL\n",
    "metrics_fn_dict['essential_metrics'] = essential_metrics"
   ]
  },
  {
   "cell_type": "code",
   "execution_count": 3,
   "metadata": {},
   "outputs": [],
   "source": [
    "# model\n",
    "model = Network(5, lr = None)\n",
    "model.add_layer(DenseLayer(1, 4, True, afn=sigmoid, dafn=None, rfn=None))\n",
    "model.add_layer(DenseLayer(2, 3, True, afn=softmax, dafn=None, rfn=None))"
   ]
  },
  {
   "cell_type": "code",
   "execution_count": 4,
   "metadata": {},
   "outputs": [],
   "source": [
    "pso = PSO(dict(m = 50,\n",
    "    weight_constraint = [-3, 3], \n",
    "    velocity_constraint = [-0.1, 0.1],\n",
    "    c1 = 2,\n",
    "    c2 = 2,\n",
    "    w = 1,\n",
    "    w_decay = 1,\n",
    "    scale_hyperparameter = False,\n",
    "    regularizer = l2_regularizer,\n",
    "    mask = True))"
   ]
  },
  {
   "cell_type": "code",
   "execution_count": 5,
   "metadata": {},
   "outputs": [
    {
     "name": "stdout",
     "output_type": "stream",
     "text": [
      "building layer 1 with 5\n",
      "24\n",
      "building layer 2 with 4\n",
      "15\n"
     ]
    }
   ],
   "source": [
    "model.compile(loss_fn = 'categorical_crossentropy', optimizer = pso, \\\n",
    "    metrics = ['accuracy', 'mean_square_error', 'categorical_crossentropy'])"
   ]
  },
  {
   "cell_type": "code",
   "execution_count": 6,
   "metadata": {},
   "outputs": [
    {
     "name": "stdout",
     "output_type": "stream",
     "text": [
      "<class 'pandas.core.frame.DataFrame'>\n",
      "RangeIndex: 107 entries, 0 to 106\n",
      "Data columns (total 6 columns):\n",
      " #   Column  Non-Null Count  Dtype  \n",
      "---  ------  --------------  -----  \n",
      " 0   f1      107 non-null    float32\n",
      " 1   f2      107 non-null    float32\n",
      " 2   f3      107 non-null    float32\n",
      " 3   f4      107 non-null    float32\n",
      " 4   f5      107 non-null    float32\n",
      " 5   label   107 non-null    float32\n",
      "dtypes: float32(6)\n",
      "memory usage: 2.6 KB\n",
      "None\n",
      "<class 'pandas.core.frame.DataFrame'>\n",
      "RangeIndex: 108 entries, 0 to 107\n",
      "Data columns (total 6 columns):\n",
      " #   Column  Non-Null Count  Dtype  \n",
      "---  ------  --------------  -----  \n",
      " 0   f1      108 non-null    float32\n",
      " 1   f2      108 non-null    float32\n",
      " 2   f3      108 non-null    float32\n",
      " 3   f4      108 non-null    float32\n",
      " 4   f5      108 non-null    float32\n",
      " 5   label   108 non-null    float32\n",
      "dtypes: float32(6)\n",
      "memory usage: 2.7 KB\n",
      "None\n"
     ]
    }
   ],
   "source": [
    "# data loading\n",
    "DATA = os.path.join('c:\\\\Users\\\\tcumi\\\\github_repo\\\\neural-network\\\\', 'dataset')\n",
    "GROUP = 3\n",
    "COLUMNS = ['f1', 'f2', 'f3', 'f4', 'f5', 'label']\n",
    "N_CLASS = 3\n",
    "EPOCHS = 500\n",
    "train_dir, test_dir = \"..//dataset//training_data{}.txt\".format(GROUP), \"..//dataset//testing_data{}.txt\".format(GROUP)\n",
    "train, test = get_data(DATA, train_dir, COLUMNS), get_data(DATA, test_dir, COLUMNS)\n",
    "# shuffle\n",
    "train, test = train.sample(frac=1), test.sample(frac=1)\n",
    "x_train, y_train = train.drop('label', axis=1), train['label']\n",
    "x_test, y_test = test.drop('label', axis=1), test['label']"
   ]
  },
  {
   "cell_type": "code",
   "execution_count": 7,
   "metadata": {},
   "outputs": [],
   "source": [
    "# data scaling and encoding\n",
    "scaler = StandardScaler(['f1', 'f2', 'f3', 'f4', 'f5'])\n",
    "scaler.fit(x_train)\n",
    "x_train = scaler.transform(x_train)\n",
    "x_test = scaler.transform(x_test)\n",
    "y_train = one_hot_encoding(y_train, N_CLASS)\n",
    "y_test = one_hot_encoding(y_test, N_CLASS)"
   ]
  },
  {
   "cell_type": "code",
   "execution_count": 8,
   "metadata": {
    "tags": [
     "outputPrepend"
    ]
   },
   "outputs": [
    {
     "name": "stdout",
     "output_type": "stream",
     "text": [
      "Checkpoint 100, Accuracy: 0.9012345679012346, Loss: 0.4388125384295428\n",
      "Checkpoint 200, Accuracy: 0.8950617283950617, Loss: 0.38784691139503763\n",
      "Checkpoint 300, Accuracy: 0.9012345679012346, Loss: 0.3672233157687717\n",
      "Checkpoint 400, Accuracy: 0.9012345679012346, Loss: 0.3672233157687717\n",
      "Checkpoint 500, Accuracy: 0.9012345679012346, Loss: 0.3847791883680556\n"
     ]
    }
   ],
   "source": [
    "# learning phase\n",
    "breakpoint = 100\n",
    "checkpoints = list()\n",
    "history = list()\n",
    "for century in range(0, EPOCHS, breakpoint):\n",
    "    sub_history = model.fit(x_train, y_train, breakpoint, verbose = 0)\n",
    "    score = model.evaluate(x_test, y_test, False, verbose = 0)\n",
    "    print('Checkpoint {}, Accuracy: {}, Loss: {}'.format(century+breakpoint, score['accuracy'], score[model.loss_fn]))\n",
    "    score['checkpoint'] = century + breakpoint\n",
    "    checkpoints.append(score)\n",
    "    history.extend(sub_history)"
   ]
  },
  {
   "cell_type": "code",
   "execution_count": 9,
   "metadata": {},
   "outputs": [],
   "source": [
    "import matplotlib.pyplot as plt\n",
    "\n",
    "def draw_plot(x, y_list, x_label=None, y_label=None, legend=None, title=None):\n",
    "    fig, ax = plt.subplots(figsize=(12,5))\n",
    "    for xi, yi in zip(x, y_list):\n",
    "        ax.plot(xi, yi)\n",
    "    if x_label is not None and y_label is not None:\n",
    "        ax.set(xlabel=x_label, ylabel=y_label, title='{} VS {}'.format(x_label, y_label))\n",
    "    if legend is not None:\n",
    "        ax.legend(legend)\n",
    "    ax.grid()\n",
    "    plt.show()"
   ]
  },
  {
   "cell_type": "code",
   "execution_count": 10,
   "metadata": {},
   "outputs": [
    {
     "name": "stdout",
     "output_type": "stream",
     "text": [
      "[1. 0. 0.] <-> [0.81501603 0.10159992 0.08338402]\n",
      "[1. 0. 0.] <-> [0.84959424 0.07914419 0.07126155]\n",
      "[1. 0. 0.] <-> [0.855001   0.06566918 0.07932983]\n",
      "[1. 0. 0.] <-> [0.7761978  0.13810351 0.08569864]\n",
      "[1. 0. 0.] <-> [0.7386095  0.17191842 0.08947206]\n",
      "[1. 0. 0.] <-> [0.82930136 0.08939641 0.08130222]\n",
      "[0. 1. 0.] <-> [0.40700185 0.55481154 0.03818663]\n",
      "[1. 0. 0.] <-> [0.8133542  0.0790919  0.10755393]\n",
      "[0. 0. 1.] <-> [0.16495813 0.05326883 0.781773  ]\n",
      "[1. 0. 0.] <-> [0.76705325 0.13636905 0.09657772]\n",
      "[1. 0. 0.] <-> [0.78363216 0.14464298 0.07172493]\n",
      "[0. 0. 1.] <-> [0.611452   0.0225051  0.36604294]\n",
      "[1. 0. 0.] <-> [0.79948527 0.136066   0.06444874]\n",
      "[0. 1. 0.] <-> [0.23000409 0.7440403  0.02595565]\n",
      "[1. 0. 0.] <-> [0.8650482  0.04690652 0.08804531]\n",
      "[0. 1. 0.] <-> [0.53560704 0.4148495  0.0495435 ]\n",
      "[1. 0. 0.] <-> [0.81655574 0.09272932 0.09071496]\n",
      "[0. 1. 0.] <-> [0.44381115 0.5208847  0.03530416]\n",
      "[1. 0. 0.] <-> [0.78500134 0.15000814 0.06499051]\n",
      "[0. 1. 0.] <-> [0.6148028  0.3475819  0.03761536]\n",
      "[1. 0. 0.] <-> [0.7176239  0.21366166 0.06871443]\n",
      "[1. 0. 0.] <-> [0.8328231  0.04369083 0.12348605]\n",
      "[1. 0. 0.] <-> [0.81616193 0.12649004 0.05734807]\n",
      "[0. 1. 0.] <-> [0.13196534 0.85237384 0.01566085]\n",
      "[1. 0. 0.] <-> [0.784161   0.13472812 0.0811109 ]\n",
      "[1. 0. 0.] <-> [0.8522997  0.06783079 0.07986961]\n",
      "[1. 0. 0.] <-> [0.8268246  0.09960406 0.07357134]\n",
      "[0. 1. 0.] <-> [0.13449438 0.8499785  0.01552714]\n",
      "[1. 0. 0.] <-> [0.8559721  0.07064298 0.0733849 ]\n",
      "[1. 0. 0.] <-> [0.85034746 0.09175587 0.05789666]\n",
      "[1. 0. 0.] <-> [0.83852077 0.05153839 0.10994086]\n",
      "[0. 0. 1.] <-> [0.7089834  0.06107743 0.22993913]\n",
      "[1. 0. 0.] <-> [0.7947166  0.1207945  0.08448888]\n",
      "[0. 0. 1.] <-> [0.61719143 0.05356478 0.32924375]\n",
      "[1. 0. 0.] <-> [0.84674585 0.08699248 0.06626163]\n",
      "[1. 0. 0.] <-> [0.8387895  0.0931821  0.06802841]\n",
      "[1. 0. 0.] <-> [0.68809223 0.07634751 0.2355603 ]\n",
      "[0. 1. 0.] <-> [0.18940523 0.78856516 0.02202959]\n",
      "[1. 0. 0.] <-> [0.81377834 0.11498512 0.07123653]\n",
      "[1. 0. 0.] <-> [0.8064097  0.13303016 0.06056009]\n",
      "[1. 0. 0.] <-> [0.841429   0.04337911 0.11519194]\n",
      "[1. 0. 0.] <-> [0.80382997 0.10765315 0.08851682]\n",
      "[1. 0. 0.] <-> [0.824679   0.11390748 0.06141347]\n",
      "[1. 0. 0.] <-> [0.8379892  0.11140623 0.05060459]\n",
      "[1. 0. 0.] <-> [0.7404098  0.18030597 0.07928421]\n",
      "[1. 0. 0.] <-> [0.77132124 0.09252964 0.13614914]\n",
      "[1. 0. 0.] <-> [0.7615199  0.06982327 0.16865686]\n",
      "[0. 0. 1.] <-> [0.5956037  0.02377994 0.38061634]\n",
      "[1. 0. 0.] <-> [0.8560297  0.0720304  0.07193995]\n",
      "[1. 0. 0.] <-> [0.7969211  0.09083829 0.11224055]\n",
      "[1. 0. 0.] <-> [0.8439285  0.08814741 0.06792407]\n",
      "[1. 0. 0.] <-> [0.85162264 0.07570121 0.07267617]\n",
      "[1. 0. 0.] <-> [0.82900536 0.07963259 0.09136205]\n",
      "[0. 1. 0.] <-> [0.5649764  0.40031177 0.03471186]\n",
      "[0. 1. 0.] <-> [0.1524481  0.8294078  0.01814415]\n",
      "[0. 0. 1.] <-> [0.58717024 0.02341454 0.38941523]\n",
      "[0. 0. 1.] <-> [0.23882598 0.04243383 0.71874017]\n",
      "[1. 0. 0.] <-> [0.811683   0.11489663 0.07342035]\n",
      "[1. 0. 0.] <-> [0.77211314 0.15166561 0.07622119]\n",
      "[1. 0. 0.] <-> [0.8005529  0.08732825 0.11211884]\n",
      "[0. 1. 0.] <-> [0.6747617  0.28673932 0.03849892]\n",
      "[1. 0. 0.] <-> [0.7592571  0.08885552 0.15188737]\n",
      "[1. 0. 0.] <-> [0.8323799  0.10728107 0.06033904]\n",
      "[0. 1. 0.] <-> [0.26318863 0.7092322  0.02757921]\n",
      "[1. 0. 0.] <-> [0.8537712  0.0503831  0.09584567]\n",
      "[1. 0. 0.] <-> [0.7549971  0.18943644 0.05556652]\n",
      "[1. 0. 0.] <-> [0.8725977  0.06179615 0.06560605]\n",
      "[1. 0. 0.] <-> [0.76156574 0.16744038 0.07099391]\n",
      "[1. 0. 0.] <-> [0.79203415 0.08295317 0.12501274]\n",
      "[1. 0. 0.] <-> [0.8671398  0.04813423 0.08472592]\n",
      "[1. 0. 0.] <-> [0.8545971  0.05225746 0.09314547]\n",
      "[1. 0. 0.] <-> [0.8188528  0.11791594 0.0632313 ]\n",
      "[1. 0. 0.] <-> [0.86960596 0.04557443 0.08481967]\n",
      "[1. 0. 0.] <-> [0.6564554  0.29614076 0.04740387]\n",
      "[1. 0. 0.] <-> [0.85245574 0.0718476  0.0756966 ]\n",
      "[0. 0. 1.] <-> [0.73447514 0.04644151 0.2190834 ]\n",
      "[1. 0. 0.] <-> [0.64240366 0.23790601 0.11969033]\n",
      "[1. 0. 0.] <-> [0.82228214 0.1023057  0.07541218]\n",
      "[1. 0. 0.] <-> [0.8547338  0.04203168 0.10323453]\n",
      "[1. 0. 0.] <-> [0.69210804 0.25239217 0.05549973]\n",
      "[1. 0. 0.] <-> [0.6130264  0.33614427 0.05082935]\n",
      "[1. 0. 0.] <-> [0.842816   0.06628922 0.09089481]\n",
      "[1. 0. 0.] <-> [0.7396096  0.21366408 0.04672633]\n",
      "[0. 0. 1.] <-> [0.7035742  0.02308024 0.2733456 ]\n",
      "[1. 0. 0.] <-> [0.8124436  0.11564282 0.07191354]\n",
      "[0. 1. 0.] <-> [0.14488156 0.8390314  0.01608708]\n",
      "[0. 0. 1.] <-> [0.54490614 0.02197922 0.4331146 ]\n",
      "[1. 0. 0.] <-> [0.7581841  0.17833503 0.06348088]\n",
      "[1. 0. 0.] <-> [0.71085453 0.22990838 0.05923719]\n",
      "[0. 0. 1.] <-> [0.18732436 0.06654873 0.74612695]\n",
      "[1. 0. 0.] <-> [0.67657286 0.25952545 0.06390166]\n",
      "[0. 0. 1.] <-> [0.840272   0.03296531 0.12676272]\n",
      "[1. 0. 0.] <-> [0.8188594  0.11038315 0.07075741]\n",
      "[1. 0. 0.] <-> [0.682114   0.2580542  0.05983184]\n",
      "[0. 1. 0.] <-> [0.58477265 0.38342077 0.03180656]\n",
      "[0. 1. 0.] <-> [0.5859553  0.3612307  0.05281393]\n",
      "[1. 0. 0.] <-> [0.7901949  0.14675437 0.06305072]\n",
      "[0. 0. 1.] <-> [0.8156297  0.05659295 0.1277773 ]\n",
      "[0. 1. 0.] <-> [0.13920148 0.84328693 0.0175116 ]\n",
      "[1. 0. 0.] <-> [0.8173839  0.09334761 0.08926853]\n",
      "[1. 0. 0.] <-> [0.732561   0.19816409 0.06927495]\n",
      "[1. 0. 0.] <-> [0.8095205  0.12096525 0.06951435]\n",
      "[1. 0. 0.] <-> [0.8467736  0.06202343 0.09120296]\n",
      "[1. 0. 0.] <-> [0.8478606  0.06899921 0.08314024]\n",
      "[1. 0. 0.] <-> [0.82070225 0.11035897 0.06893875]\n",
      "[0. 0. 1.] <-> [0.42560467 0.03416963 0.5402257 ]\n",
      "[1. 0. 0.] <-> [0.7971091  0.10986374 0.09302713]\n",
      "[1. 0. 0.] <-> [0.81971884 0.07105155 0.10922967]\n",
      "{'accuracy': 0.9012345679012346, 'mean_square_error': 0.202921658293935, 'categorical_crossentropy': 0.3847791883680556, 'essential_metrics': {0: {'tp_hit': 78, 'fp_hit': 16, 'tn_hit': 14, 'fn_hit': 0}, 1: {'tp_hit': 10, 'fp_hit': 0, 'tn_hit': 92, 'fn_hit': 6}, 2: {'tp_hit': 4, 'fp_hit': 0, 'tn_hit': 94, 'fn_hit': 10}}}\n"
     ]
    }
   ],
   "source": [
    "# recall phase\n",
    "score = model.evaluate(x_test, y_test, False)\n",
    "print(score)"
   ]
  },
  {
   "cell_type": "code",
   "execution_count": 11,
   "metadata": {},
   "outputs": [
    {
     "data": {
      "image/png": "[encoded data removed]",
      "text/plain": [
       "<Figure size 864x360 with 1 Axes>"
      ]
     },
     "metadata": {
      "needs_background": "light"
     },
     "output_type": "display_data"
    },
    {
     "data": {
      "image/png": "[encoded data removed]",
      "text/plain": [
       "<Figure size 864x360 with 1 Axes>"
      ]
     },
     "metadata": {
      "needs_background": "light"
     },
     "output_type": "display_data"
    }
   ],
   "source": [
    "draw_plot(x = [[i for i in range(len(history))], [(i+1)*breakpoint for i in range(len(checkpoints))]], y_list = [history, [ ckp[model.loss_fn] for ckp in checkpoints ]], x_label = 'Epochs', \\\n",
    "    y_label = model.loss_fn, legend=['train', 'test'])\n",
    "acc = [ ckp['accuracy'] for ckp in checkpoints ]\n",
    "draw_plot(x = [[(i+1)*breakpoint for i in range(len(checkpoints))]], y_list = [acc], x_label = 'Checkpoints', \\\n",
    "    y_label = 'accuracy')"
   ]
  },
  {
   "cell_type": "code",
   "execution_count": 12,
   "metadata": {},
   "outputs": [
    {
     "name": "stdout",
     "output_type": "stream",
     "text": [
      "{'accuracy': 0.9012345679012346, 'mean_square_error': 0.22897212500808006, 'categorical_crossentropy': 0.4388125384295428, 'essential_metrics': {0: {'tp_hit': 78, 'fp_hit': 16, 'tn_hit': 14, 'fn_hit': 0}, 1: {'tp_hit': 10, 'fp_hit': 0, 'tn_hit': 92, 'fn_hit': 6}, 2: {'tp_hit': 4, 'fp_hit': 0, 'tn_hit': 94, 'fn_hit': 10}}, 'checkpoint': 100} \n",
      "\n",
      "\n",
      "{'accuracy': 0.8950617283950617, 'mean_square_error': 0.20843643646496815, 'categorical_crossentropy': 0.38784691139503763, 'essential_metrics': {0: {'tp_hit': 78, 'fp_hit': 17, 'tn_hit': 13, 'fn_hit': 0}, 1: {'tp_hit': 9, 'fp_hit': 0, 'tn_hit': 92, 'fn_hit': 7}, 2: {'tp_hit': 4, 'fp_hit': 0, 'tn_hit': 94, 'fn_hit': 10}}, 'checkpoint': 200} \n",
      "\n",
      "\n",
      "{'accuracy': 0.9012345679012346, 'mean_square_error': 0.19644618779054335, 'categorical_crossentropy': 0.3672233157687717, 'essential_metrics': {0: {'tp_hit': 78, 'fp_hit': 16, 'tn_hit': 14, 'fn_hit': 0}, 1: {'tp_hit': 10, 'fp_hit': 0, 'tn_hit': 92, 'fn_hit': 6}, 2: {'tp_hit': 4, 'fp_hit': 0, 'tn_hit': 94, 'fn_hit': 10}}, 'checkpoint': 300} \n",
      "\n",
      "\n",
      "{'accuracy': 0.9012345679012346, 'mean_square_error': 0.19644618779054335, 'categorical_crossentropy': 0.3672233157687717, 'essential_metrics': {0: {'tp_hit': 78, 'fp_hit': 16, 'tn_hit': 14, 'fn_hit': 0}, 1: {'tp_hit': 10, 'fp_hit': 0, 'tn_hit': 92, 'fn_hit': 6}, 2: {'tp_hit': 4, 'fp_hit': 0, 'tn_hit': 94, 'fn_hit': 10}}, 'checkpoint': 400} \n",
      "\n",
      "\n",
      "{'accuracy': 0.9012345679012346, 'mean_square_error': 0.202921658293935, 'categorical_crossentropy': 0.3847791883680556, 'essential_metrics': {0: {'tp_hit': 78, 'fp_hit': 16, 'tn_hit': 14, 'fn_hit': 0}, 1: {'tp_hit': 10, 'fp_hit': 0, 'tn_hit': 92, 'fn_hit': 6}, 2: {'tp_hit': 4, 'fp_hit': 0, 'tn_hit': 94, 'fn_hit': 10}}, 'checkpoint': 500} \n",
      "\n",
      "\n"
     ]
    }
   ],
   "source": [
    "for checkpoint in checkpoints:\n",
    "    print(checkpoint, '\\n\\n')"
   ]
  },
  {
   "cell_type": "code",
   "execution_count": 13,
   "metadata": {},
   "outputs": [
    {
     "name": "stdout",
     "output_type": "stream",
     "text": [
      "Layer 1\n",
      "Neuron 0: weights:\n",
      "[-0.24678484  0.8156834   0.05068585 -0.71758217 -0.5354881 ]\n",
      " bias: 0.5535787343978882\n",
      "\n",
      "Neuron 1: weights:\n",
      "[ 0.33015007 -0.57607794 -0.82512414 -0.8974316  -0.6222112 ]\n",
      " bias: 0.28260108828544617\n",
      "\n",
      "Neuron 2: weights:\n",
      "[ 0.33594957 -0.6372189  -0.14616749  0.43837184  0.6438507 ]\n",
      " bias: -0.3074893057346344\n",
      "\n",
      "Neuron 3: weights:\n",
      "[-0.5625933   0.95258063  0.9231014   0.0876686  -0.27557793]\n",
      " bias: -0.5493821501731873\n",
      "\n",
      "$\n",
      "Layer 2\n",
      "Neuron 0: weights:\n",
      "[ 0.7548221   1.5382094  -0.4331245  -0.99150103]\n",
      " bias: 0.18866081535816193\n",
      "\n",
      "Neuron 1: weights:\n",
      "[ 0.47760716 -1.2836609  -0.838067    1.7247977 ]\n",
      " bias: -0.35149163007736206\n",
      "\n",
      "Neuron 2: weights:\n",
      "[-1.602657   -0.48192143  1.4782307  -0.69527984]\n",
      " bias: 0.0762404352426529\n",
      "\n",
      "$\n",
      "\n"
     ]
    }
   ],
   "source": [
    "print(model)"
   ]
  }
 ],
 "metadata": {
  "kernelspec": {
   "display_name": "Python 3",
   "language": "python",
   "name": "python3"
  },
  "language_info": {
   "codemirror_mode": {
    "name": "ipython",
    "version": 3
   },
   "file_extension": ".py",
   "mimetype": "text/x-python",
   "name": "python",
   "nbconvert_exporter": "python",
   "pygments_lexer": "ipython3",
   "version": "3.6.10"
  }
 },
 "nbformat": 4,
 "nbformat_minor": 2
}
