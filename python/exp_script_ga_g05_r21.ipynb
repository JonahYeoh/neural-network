{
 "cells": [
  {
   "cell_type": "code",
   "execution_count": 1,
   "metadata": {},
   "outputs": [],
   "source": [
    "# single"
   ]
  },
  {
   "cell_type": "code",
   "execution_count": 2,
   "metadata": {},
   "outputs": [],
   "source": [
    "# dependency\n",
    "import numpy as np\n",
    "import pandas as pd\n",
    "import copy\n",
    "import math\n",
    "import sys\n",
    "import os\n",
    "from activations import relu, leaky_relu, sigmoid, tanh, softmax, d_sigmoid, d_relu\n",
    "from initializers import glorot_uniform, random_normal, random_uniform\n",
    "from regularizers import l1_regularizer, l2_regularizer\n",
    "from utility import trim_tail, multiply, subtract, get_nparams, one_hot_encoding, get_data\n",
    "from metrics import MSE, CCE, ACC, PRECISION, RECALL, essential_metrics, wondering_penalty, close_gap_penalty\n",
    "from pso import PSO\n",
    "from ga import GA\n",
    "from nn import Network\n",
    "from layer import DenseLayer\n",
    "from scalers import MinMaxScaler, StandardScaler"
   ]
  },
  {
   "cell_type": "code",
   "execution_count": 3,
   "metadata": {},
   "outputs": [],
   "source": [
    "# reference\n",
    "metrics_fn_dict = dict()\n",
    "metrics_fn_dict['accuracy'] = ACC\n",
    "metrics_fn_dict['categorical_crossentropy'] = CCE\n",
    "metrics_fn_dict['mean_square_error'] = MSE\n",
    "metrics_fn_dict['precision'] = PRECISION\n",
    "metrics_fn_dict['recall'] = RECALL\n",
    "metrics_fn_dict['essential_metrics'] = essential_metrics"
   ]
  },
  {
   "cell_type": "code",
   "execution_count": 4,
   "metadata": {},
   "outputs": [],
   "source": [
    "# model\n",
    "model = Network(5, lr = None)\n",
    "model.add_layer(DenseLayer(1, 4, True, afn=sigmoid, dafn=None, rfn=None))\n",
    "model.add_layer(DenseLayer(2, 3, True, afn=softmax, dafn=None, rfn=None))"
   ]
  },
  {
   "cell_type": "code",
   "execution_count": 5,
   "metadata": {},
   "outputs": [],
   "source": [
    "# optimizer\n",
    "ga = GA(\n",
    "    dict(\n",
    "        m = 200,\n",
    "        x_rate = 0.5,\n",
    "        m_rate = 0.5,\n",
    "        weight_constraint = [-3.,3.],\n",
    "        radioactive_rating = 0.1,\n",
    "        grow_factor = 0.1,\n",
    "        scale_hyperparameter = False,\n",
    "        regularizer = None))"
   ]
  },
  {
   "cell_type": "code",
   "execution_count": 6,
   "metadata": {},
   "outputs": [
    {
     "name": "stdout",
     "output_type": "stream",
     "text": [
      "building layer 1 with 5\n",
      "24\n",
      "building layer 2 with 4\n",
      "15\n"
     ]
    }
   ],
   "source": [
    "model.compile(loss_fn = 'categorical_crossentropy', optimizer = ga, \\\n",
    "    metrics = ['accuracy', 'mean_square_error', 'categorical_crossentropy', 'precision', 'recall', 'f1'])"
   ]
  },
  {
   "cell_type": "code",
   "execution_count": 7,
   "metadata": {},
   "outputs": [
    {
     "name": "stdout",
     "output_type": "stream",
     "text": [
      "<class 'pandas.core.frame.DataFrame'>\n",
      "RangeIndex: 107 entries, 0 to 106\n",
      "Data columns (total 6 columns):\n",
      " #   Column  Non-Null Count  Dtype  \n",
      "---  ------  --------------  -----  \n",
      " 0   f1      107 non-null    float32\n",
      " 1   f2      107 non-null    float32\n",
      " 2   f3      107 non-null    float32\n",
      " 3   f4      107 non-null    float32\n",
      " 4   f5      107 non-null    float32\n",
      " 5   label   107 non-null    float32\n",
      "dtypes: float32(6)\n",
      "memory usage: 2.6 KB\n",
      "None\n",
      "<class 'pandas.core.frame.DataFrame'>\n",
      "RangeIndex: 108 entries, 0 to 107\n",
      "Data columns (total 6 columns):\n",
      " #   Column  Non-Null Count  Dtype  \n",
      "---  ------  --------------  -----  \n",
      " 0   f1      108 non-null    float32\n",
      " 1   f2      108 non-null    float32\n",
      " 2   f3      108 non-null    float32\n",
      " 3   f4      108 non-null    float32\n",
      " 4   f5      108 non-null    float32\n",
      " 5   label   108 non-null    float32\n",
      "dtypes: float32(6)\n",
      "memory usage: 2.7 KB\n",
      "None\n"
     ]
    }
   ],
   "source": [
    "# data loading\n",
    "DATA = os.path.join('c:\\\\Users\\\\tcumi\\\\github_repo\\\\neural-network\\\\', 'dataset')\n",
    "GROUP = 5\n",
    "COLUMNS = ['f1', 'f2', 'f3', 'f4', 'f5', 'label']\n",
    "N_CLASS = 3\n",
    "EPOCHS = 500\n",
    "train_dir, test_dir = \"..//dataset//training_data{}.txt\".format(GROUP), \"..//dataset//testing_data{}.txt\".format(GROUP)\n",
    "train, test = get_data(DATA, train_dir, COLUMNS), get_data(DATA, test_dir, COLUMNS)\n",
    "# shuffle\n",
    "train, test = train.sample(frac=1), test.sample(frac=1)\n",
    "x_train, y_train = train.drop('label', axis=1), train['label']\n",
    "x_test, y_test = test.drop('label', axis=1), test['label']"
   ]
  },
  {
   "cell_type": "code",
   "execution_count": 8,
   "metadata": {},
   "outputs": [],
   "source": [
    "# data scaling and encoding\n",
    "scaler = StandardScaler(['f1', 'f2', 'f3', 'f4', 'f5'])\n",
    "scaler.fit(x_train)\n",
    "x_train = scaler.transform(x_train)\n",
    "x_test = scaler.transform(x_test)\n",
    "y_train = one_hot_encoding(y_train, N_CLASS)\n",
    "y_test = one_hot_encoding(y_test, N_CLASS)"
   ]
  },
  {
   "cell_type": "code",
   "execution_count": 9,
   "metadata": {
    "scrolled": true,
    "tags": [
     "outputPrepend"
    ]
   },
   "outputs": [
    {
     "name": "stderr",
     "output_type": "stream",
     "text": [
      "C:\\Users\\tcumi\\github_repo\\neural-network\\python\\activations.py:14: RuntimeWarning: overflow encountered in exp\n",
      "  y = 1 / (1 + np.exp(-Xi))\n",
      "C:\\Users\\tcumi\\github_repo\\neural-network\\python\\ga.py:201: RuntimeWarning: overflow encountered in add\n",
      "  self.population.sort(key=lambda p: p.fitness + np.random.uniform(-shift, shift, 1), reverse = self.aim)\n"
     ]
    },
    {
     "name": "stdout",
     "output_type": "stream",
     "text": [
      "Checkpoint 100, Accuracy: 0.9567901234567902, Loss: 0.22393104765150282\n",
      "Checkpoint 200, Accuracy: 0.9444444444444444, Loss: 0.20294470257229275\n",
      "Checkpoint 300, Accuracy: 0.9506172839506173, Loss: 0.18880233058223017\n",
      "Checkpoint 400, Accuracy: 0.9506172839506173, Loss: 0.17874544638174553\n",
      "Checkpoint 500, Accuracy: 0.9506172839506173, Loss: 0.16359180874294704\n"
     ]
    }
   ],
   "source": [
    "# learning phase\n",
    "breakpoint = 100\n",
    "checkpoints = list()\n",
    "history = list()\n",
    "for century in range(0, EPOCHS, breakpoint):\n",
    "    sub_history = model.fit(x_train, y_train, breakpoint, verbose = 0)\n",
    "    score = model.evaluate(x_test, y_test, False, verbose = 0)\n",
    "    print('Checkpoint {}, Accuracy: {}, Loss: {}'.format(century+breakpoint, score['accuracy'], score[model.loss_fn]))\n",
    "    score['checkpoint'] = century + breakpoint\n",
    "    checkpoints.append(score)\n",
    "    history.extend(sub_history)\n",
    "    "
   ]
  },
  {
   "cell_type": "code",
   "execution_count": 10,
   "metadata": {},
   "outputs": [],
   "source": [
    "import matplotlib.pyplot as plt\n",
    "\n",
    "def draw_plot(x, y_list, x_label=None, y_label=None, legend=None, title=None):\n",
    "    fig, ax = plt.subplots(figsize=(12,5))\n",
    "    for xi, yi in zip(x, y_list):\n",
    "        ax.plot(xi, yi)\n",
    "    if x_label is not None and y_label is not None:\n",
    "        ax.set(xlabel=x_label, ylabel=y_label, title='{} VS {}'.format(x_label, y_label))\n",
    "    if legend is not None:\n",
    "        ax.legend(legend)\n",
    "    ax.grid()\n",
    "    plt.show()"
   ]
  },
  {
   "cell_type": "code",
   "execution_count": 11,
   "metadata": {},
   "outputs": [
    {
     "name": "stdout",
     "output_type": "stream",
     "text": [
      "[1. 0. 0.] <-> [0.98082316 0.01685607 0.00232071]\n",
      "[1. 0. 0.] <-> [0.984335   0.00892919 0.00673573]\n",
      "[1. 0. 0.] <-> [0.97820914 0.0195014  0.00228942]\n",
      "[1. 0. 0.] <-> [0.95728797 0.00502212 0.03768996]\n",
      "[1. 0. 0.] <-> [0.9813588  0.00870088 0.00994022]\n",
      "[0. 0. 1.] <-> [8.2804292e-02 1.5529527e-04 9.1704041e-01]\n",
      "[0. 1. 0.] <-> [0.6737821  0.32527068 0.0009472 ]\n",
      "[1. 0. 0.] <-> [0.97363645 0.02504398 0.0013196 ]\n",
      "[1. 0. 0.] <-> [0.9607455  0.03702014 0.00223435]\n",
      "[1. 0. 0.] <-> [0.9454937  0.05324091 0.00126543]\n",
      "[1. 0. 0.] <-> [0.9826685  0.0111166  0.00621474]\n",
      "[1. 0. 0.] <-> [0.81476355 0.00315514 0.18208134]\n",
      "[0. 0. 1.] <-> [0.90162903 0.00495618 0.09341479]\n",
      "[0. 1. 0.] <-> [9.5126122e-02 9.0470660e-01 1.6728343e-04]\n",
      "[1. 0. 0.] <-> [0.47422576 0.00117983 0.52459437]\n",
      "[1. 0. 0.] <-> [0.94877654 0.00438408 0.04683931]\n",
      "[0. 1. 0.] <-> [1.3311051e-01 8.6657482e-01 3.1463761e-04]\n",
      "[1. 0. 0.] <-> [0.97620505 0.01832415 0.00547075]\n",
      "[1. 0. 0.] <-> [0.97550356 0.01656337 0.00793303]\n",
      "[0. 1. 0.] <-> [9.5233284e-02 9.0459883e-01 1.6785938e-04]\n",
      "[1. 0. 0.] <-> [0.93255717 0.06615039 0.0012925 ]\n",
      "[0. 1. 0.] <-> [9.5128998e-02 9.0470028e-01 1.7071734e-04]\n",
      "[1. 0. 0.] <-> [0.8816636  0.00203095 0.11630531]\n",
      "[1. 0. 0.] <-> [0.98062634 0.0166361  0.00273756]\n",
      "[1. 0. 0.] <-> [0.95797294 0.00317932 0.0388477 ]\n",
      "[0. 0. 1.] <-> [0.06517673 0.00136898 0.9334543 ]\n",
      "[1. 0. 0.] <-> [0.97773165 0.01658942 0.00567888]\n",
      "[1. 0. 0.] <-> [0.9529699  0.00405059 0.04297946]\n",
      "[1. 0. 0.] <-> [0.9759578  0.0212161  0.00282604]\n",
      "[1. 0. 0.] <-> [0.91701514 0.00255136 0.08043347]\n",
      "[1. 0. 0.] <-> [0.9219629  0.00275335 0.07528368]\n",
      "[1. 0. 0.] <-> [0.7923338  0.00197781 0.20568845]\n",
      "[1. 0. 0.] <-> [0.949396   0.04938783 0.00121606]\n",
      "[1. 0. 0.] <-> [0.9774439  0.01645335 0.00610272]\n",
      "[1. 0. 0.] <-> [0.9818364  0.00898127 0.00918236]\n",
      "[0. 0. 1.] <-> [8.2682952e-02 1.5685770e-04 9.1716015e-01]\n",
      "[1. 0. 0.] <-> [0.9809544  0.01581263 0.00323298]\n",
      "[0. 1. 0.] <-> [9.5040597e-02 9.0478712e-01 1.7223995e-04]\n",
      "[1. 0. 0.] <-> [0.9757151  0.02107133 0.00321354]\n",
      "[1. 0. 0.] <-> [0.9381075  0.00292269 0.05896981]\n",
      "[1. 0. 0.] <-> [0.97960556 0.01838182 0.00201271]\n",
      "[1. 0. 0.] <-> [0.9031396  0.00242416 0.09443622]\n",
      "[0. 0. 1.] <-> [8.3331488e-02 1.5408888e-04 9.1651440e-01]\n",
      "[1. 0. 0.] <-> [0.89201975 0.00297154 0.10500868]\n",
      "[0. 1. 0.] <-> [9.5095038e-02 9.0473664e-01 1.6828989e-04]\n",
      "[1. 0. 0.] <-> [0.955898   0.0300319  0.01407012]\n",
      "[0. 1. 0.] <-> [9.851801e-02 9.013085e-01 1.735241e-04]\n",
      "[1. 0. 0.] <-> [0.98479676 0.00988058 0.00532271]\n",
      "[1. 0. 0.] <-> [0.98418486 0.01088508 0.0049301 ]\n",
      "[1. 0. 0.] <-> [0.9286954  0.00294922 0.06835544]\n",
      "[1. 0. 0.] <-> [0.90294605 0.00302096 0.09403294]\n",
      "[0. 0. 1.] <-> [0.07295515 0.0019232  0.92512167]\n",
      "[0. 0. 1.] <-> [1.2492439e-01 2.2820571e-04 8.7484741e-01]\n",
      "[1. 0. 0.] <-> [0.97822934 0.01962645 0.00214421]\n",
      "[1. 0. 0.] <-> [0.9434369  0.0506306  0.00593254]\n",
      "[1. 0. 0.] <-> [0.9248795  0.00419005 0.07093041]\n",
      "[1. 0. 0.] <-> [0.9617839  0.03325133 0.00496474]\n",
      "[0. 0. 1.] <-> [8.4202200e-02 1.5527016e-04 9.1564256e-01]\n",
      "[1. 0. 0.] <-> [0.97566694 0.01053732 0.01379566]\n",
      "[1. 0. 0.] <-> [0.9835534  0.0094985  0.00694799]\n",
      "[1. 0. 0.] <-> [0.9547021  0.04322947 0.00206854]\n",
      "[1. 0. 0.] <-> [0.9662435  0.01039618 0.02336036]\n",
      "[1. 0. 0.] <-> [0.905399   0.00862783 0.08597308]\n",
      "[0. 0. 1.] <-> [9.3798257e-02 1.7208216e-04 9.0602970e-01]\n",
      "[0. 1. 0.] <-> [9.512460e-02 9.047081e-01 1.672872e-04]\n",
      "[1. 0. 0.] <-> [0.9804607  0.01623789 0.00330139]\n",
      "[1. 0. 0.] <-> [0.9123974  0.00224702 0.08535558]\n",
      "[1. 0. 0.] <-> [0.97575855 0.02091161 0.00332984]\n",
      "[0. 0. 1.] <-> [8.571160e-02 1.570763e-04 9.141313e-01]\n",
      "[1. 0. 0.] <-> [0.9726114  0.02511042 0.00227817]\n",
      "[1. 0. 0.] <-> [0.9683317  0.02522521 0.00644306]\n",
      "[1. 0. 0.] <-> [0.89371496 0.00305652 0.10322856]\n",
      "[1. 0. 0.] <-> [0.9748266  0.01990144 0.00527197]\n",
      "[1. 0. 0.] <-> [0.7944938  0.20405953 0.00144674]\n",
      "[1. 0. 0.] <-> [0.98057854 0.01080596 0.00861555]\n",
      "[1. 0. 0.] <-> [0.97064227 0.01180853 0.01754926]\n",
      "[0. 0. 1.] <-> [0.8666014  0.00625451 0.12714405]\n",
      "[0. 1. 0.] <-> [0.6858698  0.31322983 0.00090038]\n",
      "[1. 0. 0.] <-> [0.9717874  0.02674884 0.00146367]\n",
      "[1. 0. 0.] <-> [0.98156667 0.01493397 0.00349936]\n",
      "[0. 0. 1.] <-> [1.2335980e-01 2.2823348e-04 8.7641197e-01]\n",
      "[0. 1. 0.] <-> [2.4093573e-01 7.5868034e-01 3.8390449e-04]\n",
      "[1. 0. 0.] <-> [0.98235404 0.01405895 0.00358701]\n",
      "[0. 1. 0.] <-> [0.6202217  0.37740937 0.00236897]\n",
      "[1. 0. 0.] <-> [0.9798923  0.0139598  0.00614796]\n",
      "[1. 0. 0.] <-> [0.9760223  0.02092923 0.00304851]\n",
      "[0. 1. 0.] <-> [2.7037331e-01 7.2912300e-01 5.0364976e-04]\n",
      "[1. 0. 0.] <-> [0.9779324  0.01124079 0.01082693]\n",
      "[1. 0. 0.] <-> [0.98132217 0.01521313 0.00346468]\n",
      "[0. 1. 0.] <-> [0.4255666  0.5738007  0.00063271]\n",
      "[1. 0. 0.] <-> [0.97750753 0.01350743 0.008985  ]\n",
      "[0. 0. 1.] <-> [0.6315833  0.00656387 0.3618528 ]\n",
      "[1. 0. 0.] <-> [0.95973897 0.03135226 0.00890873]\n",
      "[1. 0. 0.] <-> [0.8211858  0.17755266 0.00126156]\n",
      "[1. 0. 0.] <-> [0.9811926  0.01382798 0.0049794 ]\n",
      "[1. 0. 0.] <-> [0.9736729  0.0234865  0.00284062]\n",
      "[0. 0. 1.] <-> [9.1906853e-02 2.0077647e-04 9.0789241e-01]\n",
      "[1. 0. 0.] <-> [0.96576047 0.00390383 0.03033571]\n",
      "[1. 0. 0.] <-> [0.95726925 0.04077546 0.00195531]\n",
      "[0. 1. 0.] <-> [9.5095783e-02 9.0473598e-01 1.6824628e-04]\n",
      "[0. 1. 0.] <-> [1.3339806e-01 8.6635804e-01 2.4381172e-04]\n",
      "[1. 0. 0.] <-> [0.9497243 0.0484056 0.0018701]\n",
      "[1. 0. 0.] <-> [0.9107952  0.0081257  0.08107908]\n",
      "[0. 1. 0.] <-> [9.7056083e-02 9.0275967e-01 1.8426166e-04]\n",
      "[1. 0. 0.] <-> [0.95999837 0.00828362 0.03171808]\n",
      "[1. 0. 0.] <-> [0.40014282 0.00261611 0.59724104]\n",
      "[1. 0. 0.] <-> [0.9638037  0.00714505 0.02905129]\n",
      "[0. 0. 1.] <-> [1.0404673e-01 2.8770562e-04 8.9566553e-01]\n",
      "{'accuracy': 0.9506172839506173, 'mean_square_error': 0.08822129859180944, 'categorical_crossentropy': 0.16359180874294704, 'precision': 0.9259259259259259, 'recall': 0.9259259259259259, 'f1': 0.9259259259259259, 'essential_metrics': {0: {'tp_hit': 74, 'fp_hit': 6, 'tn_hit': 26, 'fn_hit': 2}, 1: {'tp_hit': 14, 'fp_hit': 0, 'tn_hit': 91, 'fn_hit': 3}, 2: {'tp_hit': 12, 'fp_hit': 2, 'tn_hit': 91, 'fn_hit': 3}}}\n"
     ]
    }
   ],
   "source": [
    "# recall phase\n",
    "score = model.evaluate(x_test, y_test, False)\n",
    "print(score)"
   ]
  },
  {
   "cell_type": "code",
   "execution_count": 12,
   "metadata": {},
   "outputs": [],
   "source": [
    "# Testing Performance"
   ]
  },
  {
   "cell_type": "code",
   "execution_count": 13,
   "metadata": {},
   "outputs": [
    {
     "data": {
      "image/png": "[encoded data removed]",
      "text/plain": [
       "<Figure size 864x360 with 1 Axes>"
      ]
     },
     "metadata": {
      "needs_background": "light"
     },
     "output_type": "display_data"
    },
    {
     "data": {
      "image/png": "[encoded data removed]",
      "text/plain": [
       "<Figure size 864x360 with 1 Axes>"
      ]
     },
     "metadata": {
      "needs_background": "light"
     },
     "output_type": "display_data"
    }
   ],
   "source": [
    "draw_plot(x = [[i for i in range(len(history))], [(i+1)*breakpoint for i in range(len(checkpoints))]], y_list = [history, [ ckp[model.loss_fn] for ckp in checkpoints ]], x_label = 'Epochs', \\\n",
    "    y_label = model.loss_fn, legend=['train', 'test'])\n",
    "acc = [ ckp['accuracy'] for ckp in checkpoints ]\n",
    "draw_plot(x = [[(i+1)*breakpoint for i in range(len(checkpoints))]], y_list = [acc], x_label = 'Checkpoints', \\\n",
    "    y_label = 'accuracy')"
   ]
  },
  {
   "cell_type": "code",
   "execution_count": 14,
   "metadata": {
    "scrolled": false
   },
   "outputs": [
    {
     "name": "stdout",
     "output_type": "stream",
     "text": [
      "{'accuracy': 0.9567901234567902, 'mean_square_error': 0.1170997057312514, 'categorical_crossentropy': 0.22393104765150282, 'precision': 0.9351851851851852, 'recall': 0.9351851851851852, 'f1': 0.9351851851851852, 'essential_metrics': {0: {'tp_hit': 75, 'fp_hit': 6, 'tn_hit': 26, 'fn_hit': 1}, 1: {'tp_hit': 14, 'fp_hit': 0, 'tn_hit': 91, 'fn_hit': 3}, 2: {'tp_hit': 12, 'fp_hit': 1, 'tn_hit': 92, 'fn_hit': 3}}, 'checkpoint': 100} \n",
      "\n",
      "\n",
      "{'accuracy': 0.9444444444444444, 'mean_square_error': 0.10597500168228756, 'categorical_crossentropy': 0.20294470257229275, 'precision': 0.9166666666666666, 'recall': 0.9166666666666666, 'f1': 0.9166666666666666, 'essential_metrics': {0: {'tp_hit': 74, 'fp_hit': 7, 'tn_hit': 25, 'fn_hit': 2}, 1: {'tp_hit': 13, 'fp_hit': 0, 'tn_hit': 91, 'fn_hit': 4}, 2: {'tp_hit': 12, 'fp_hit': 2, 'tn_hit': 91, 'fn_hit': 3}}, 'checkpoint': 200} \n",
      "\n",
      "\n",
      "{'accuracy': 0.9506172839506173, 'mean_square_error': 0.0998074874020668, 'categorical_crossentropy': 0.18880233058223017, 'precision': 0.9259259259259259, 'recall': 0.9259259259259259, 'f1': 0.9259259259259259, 'essential_metrics': {0: {'tp_hit': 74, 'fp_hit': 6, 'tn_hit': 26, 'fn_hit': 2}, 1: {'tp_hit': 14, 'fp_hit': 0, 'tn_hit': 91, 'fn_hit': 3}, 2: {'tp_hit': 12, 'fp_hit': 2, 'tn_hit': 91, 'fn_hit': 3}}, 'checkpoint': 300} \n",
      "\n",
      "\n",
      "{'accuracy': 0.9506172839506173, 'mean_square_error': 0.09545174701125024, 'categorical_crossentropy': 0.17874544638174553, 'precision': 0.9259259259259259, 'recall': 0.9259259259259259, 'f1': 0.9259259259259259, 'essential_metrics': {0: {'tp_hit': 74, 'fp_hit': 6, 'tn_hit': 26, 'fn_hit': 2}, 1: {'tp_hit': 14, 'fp_hit': 0, 'tn_hit': 91, 'fn_hit': 3}, 2: {'tp_hit': 12, 'fp_hit': 2, 'tn_hit': 91, 'fn_hit': 3}}, 'checkpoint': 400} \n",
      "\n",
      "\n",
      "{'accuracy': 0.9506172839506173, 'mean_square_error': 0.08822129859180944, 'categorical_crossentropy': 0.16359180874294704, 'precision': 0.9259259259259259, 'recall': 0.9259259259259259, 'f1': 0.9259259259259259, 'essential_metrics': {0: {'tp_hit': 74, 'fp_hit': 6, 'tn_hit': 26, 'fn_hit': 2}, 1: {'tp_hit': 14, 'fp_hit': 0, 'tn_hit': 91, 'fn_hit': 3}, 2: {'tp_hit': 12, 'fp_hit': 2, 'tn_hit': 91, 'fn_hit': 3}}, 'checkpoint': 500} \n",
      "\n",
      "\n"
     ]
    }
   ],
   "source": [
    "for checkpoint in checkpoints:\n",
    "    print(checkpoint, '\\n\\n')"
   ]
  },
  {
   "cell_type": "code",
   "execution_count": 15,
   "metadata": {},
   "outputs": [
    {
     "name": "stdout",
     "output_type": "stream",
     "text": [
      "Layer 1\n",
      "Neuron 0: weights:\n",
      "[ 0.32847655  3.         -0.633255   -0.133935   -2.0308704 ]\n",
      " bias: 1.260010004043579\n",
      "\n",
      "Neuron 1: weights:\n",
      "[ 0.52859217 -0.934181    0.36313877  1.2580159   2.8176446 ]\n",
      " bias: -1.1556142568588257\n",
      "\n",
      "Neuron 2: weights:\n",
      "[-2.7105541   2.5558832   1.8053474  -2.982564    0.71462464]\n",
      " bias: 1.5628525018692017\n",
      "\n",
      "Neuron 3: weights:\n",
      "[ 1.6277832 -2.6345413 -2.9171488 -1.5815593 -0.6678244]\n",
      " bias: 1.664939522743225\n",
      "\n",
      "$\n",
      "Layer 2\n",
      "Neuron 0: weights:\n",
      "[ 1.7371056  -2.5972419   0.47773507  2.963436  ]\n",
      " bias: 1.8628149032592773\n",
      "\n",
      "Neuron 1: weights:\n",
      "[ 2.3896925 -2.3414438  2.6840436 -3.       ]\n",
      " bias: 1.2561405897140503\n",
      "\n",
      "Neuron 2: weights:\n",
      "[ 0.00504302  1.752322   -2.9481292   2.2034497 ]\n",
      " bias: 0.6738000512123108\n",
      "\n",
      "$\n",
      "\n"
     ]
    }
   ],
   "source": [
    "print(model)"
   ]
  }
 ],
 "metadata": {
  "kernelspec": {
   "display_name": "Python 3",
   "language": "python",
   "name": "python3"
  },
  "language_info": {
   "codemirror_mode": {
    "name": "ipython",
    "version": 3
   },
   "file_extension": ".py",
   "mimetype": "text/x-python",
   "name": "python",
   "nbconvert_exporter": "python",
   "pygments_lexer": "ipython3",
   "version": "3.6.12"
  }
 },
 "nbformat": 4,
 "nbformat_minor": 2
}
