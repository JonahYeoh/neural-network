{
 "cells": [
  {
   "cell_type": "code",
   "execution_count": 1,
   "metadata": {},
   "outputs": [],
   "source": [
    "# dependency\n",
    "import numpy as np\n",
    "import pandas as pd\n",
    "import copy\n",
    "import math\n",
    "import sys\n",
    "import os\n",
    "from activations import relu, leaky_relu, sigmoid, tanh, softmax, d_sigmoid, d_relu\n",
    "from initializers import glorot_uniform, random_normal, random_uniform\n",
    "from regularizers import l1_regularizer, l2_regularizer\n",
    "from utility import trim_tail, multiply, subtract, get_nparams, one_hot_encoding, get_data\n",
    "from metrics import MSE, CCE, ACC, PRECISION, RECALL, essential_metrics, wondering_penalty, close_gap_penalty\n",
    "from pso import PSO\n",
    "from ga import GA\n",
    "from nn import Network\n",
    "from layer import DenseLayer\n",
    "from scalers import MinMaxScaler, StandardScaler"
   ]
  },
  {
   "cell_type": "code",
   "execution_count": 2,
   "metadata": {},
   "outputs": [],
   "source": [
    "# reference\n",
    "metrics_fn_dict = dict()\n",
    "metrics_fn_dict['accuracy'] = ACC\n",
    "metrics_fn_dict['categorical_crossentropy'] = CCE\n",
    "metrics_fn_dict['mean_square_error'] = MSE\n",
    "metrics_fn_dict['precision'] = PRECISION\n",
    "metrics_fn_dict['recall'] = RECALL\n",
    "metrics_fn_dict['essential_metrics'] = essential_metrics"
   ]
  },
  {
   "cell_type": "code",
   "execution_count": 3,
   "metadata": {},
   "outputs": [],
   "source": [
    "# model\n",
    "model = Network(5, lr = None)\n",
    "model.add_layer(DenseLayer(1, 4, True, afn=sigmoid, dafn=None, rfn=None))\n",
    "model.add_layer(DenseLayer(2, 3, True, afn=softmax, dafn=None, rfn=None))"
   ]
  },
  {
   "cell_type": "code",
   "execution_count": 4,
   "metadata": {},
   "outputs": [
    {
     "name": "stdout",
     "output_type": "stream",
     "text": [
      "see one see two 2 2\n"
     ]
    }
   ],
   "source": [
    "pso = PSO(dict(m = 50,\n",
    "    weight_constraint = [-3, 3], \n",
    "    velocity_constraint = [-0.1, 0.1],\n",
    "    c1 = 2,\n",
    "    c2 = 2,\n",
    "    w = 1,\n",
    "    w_decay = 1,\n",
    "    scale_hyperparameter = False,\n",
    "    regularizer = l1_regularizer,\n",
    "    mask = True))"
   ]
  },
  {
   "cell_type": "code",
   "execution_count": 5,
   "metadata": {},
   "outputs": [
    {
     "name": "stdout",
     "output_type": "stream",
     "text": [
      "building layer 1 with 5\n",
      "24\n",
      "building layer 2 with 4\n",
      "15\n"
     ]
    }
   ],
   "source": [
    "model.compile(loss_fn = 'categorical_crossentropy', optimizer = pso, \\\n",
    "    metrics = ['accuracy', 'mean_square_error', 'categorical_crossentropy'])"
   ]
  },
  {
   "cell_type": "code",
   "execution_count": 6,
   "metadata": {},
   "outputs": [
    {
     "name": "stdout",
     "output_type": "stream",
     "text": [
      "<class 'pandas.core.frame.DataFrame'>\n",
      "RangeIndex: 107 entries, 0 to 106\n",
      "Data columns (total 6 columns):\n",
      " #   Column  Non-Null Count  Dtype  \n",
      "---  ------  --------------  -----  \n",
      " 0   f1      107 non-null    float32\n",
      " 1   f2      107 non-null    float32\n",
      " 2   f3      107 non-null    float32\n",
      " 3   f4      107 non-null    float32\n",
      " 4   f5      107 non-null    float32\n",
      " 5   label   107 non-null    float32\n",
      "dtypes: float32(6)\n",
      "memory usage: 2.6 KB\n",
      "None\n",
      "<class 'pandas.core.frame.DataFrame'>\n",
      "RangeIndex: 108 entries, 0 to 107\n",
      "Data columns (total 6 columns):\n",
      " #   Column  Non-Null Count  Dtype  \n",
      "---  ------  --------------  -----  \n",
      " 0   f1      108 non-null    float32\n",
      " 1   f2      108 non-null    float32\n",
      " 2   f3      108 non-null    float32\n",
      " 3   f4      108 non-null    float32\n",
      " 4   f5      108 non-null    float32\n",
      " 5   label   108 non-null    float32\n",
      "dtypes: float32(6)\n",
      "memory usage: 2.7 KB\n",
      "None\n"
     ]
    }
   ],
   "source": [
    "# data loading\n",
    "DATA = os.path.join('c:\\\\Users\\\\tcumi\\\\github_repo\\\\neural-network\\\\', 'dataset')\n",
    "GROUP = 2\n",
    "COLUMNS = ['f1', 'f2', 'f3', 'f4', 'f5', 'label']\n",
    "N_CLASS = 3\n",
    "EPOCHS = 500\n",
    "train_dir, test_dir = \"..//dataset//training_data{}.txt\".format(GROUP), \"..//dataset//testing_data{}.txt\".format(GROUP)\n",
    "train, test = get_data(DATA, train_dir, COLUMNS), get_data(DATA, test_dir, COLUMNS)\n",
    "# shuffle\n",
    "train, test = train.sample(frac=1), test.sample(frac=1)\n",
    "x_train, y_train = train.drop('label', axis=1), train['label']\n",
    "x_test, y_test = test.drop('label', axis=1), test['label']"
   ]
  },
  {
   "cell_type": "code",
   "execution_count": 7,
   "metadata": {},
   "outputs": [],
   "source": [
    "# data scaling and encoding\n",
    "scaler = StandardScaler(['f1', 'f2', 'f3', 'f4', 'f5'])\n",
    "scaler.fit(x_train)\n",
    "x_train = scaler.transform(x_train)\n",
    "x_test = scaler.transform(x_test)\n",
    "y_train = one_hot_encoding(y_train, N_CLASS)\n",
    "y_test = one_hot_encoding(y_test, N_CLASS)"
   ]
  },
  {
   "cell_type": "code",
   "execution_count": 8,
   "metadata": {
    "tags": [
     "outputPrepend"
    ]
   },
   "outputs": [
    {
     "name": "stdout",
     "output_type": "stream",
     "text": [
      "Checkpoint 100, Accuracy: 0.9629629629629629, Loss: 0.27360144367924444\n",
      "Checkpoint 200, Accuracy: 0.9753086419753086, Loss: 0.12831892790617766\n",
      "Checkpoint 300, Accuracy: 0.9753086419753086, Loss: 0.12195952733357747\n",
      "Checkpoint 400, Accuracy: 0.9629629629629629, Loss: 0.13195965908191823\n",
      "Checkpoint 500, Accuracy: 0.9691358024691358, Loss: 0.12962592089617694\n"
     ]
    }
   ],
   "source": [
    "# learning phase\n",
    "breakpoint = 100\n",
    "checkpoints = list()\n",
    "history = list()\n",
    "for century in range(0, EPOCHS, breakpoint):\n",
    "    sub_history = model.fit(x_train, y_train, breakpoint, verbose = 0)\n",
    "    score = model.evaluate(x_test, y_test, False, verbose = 0)\n",
    "    print('Checkpoint {}, Accuracy: {}, Loss: {}'.format(century+breakpoint, score['accuracy'], score[model.loss_fn]))\n",
    "    score['checkpoint'] = century + breakpoint\n",
    "    checkpoints.append(score)\n",
    "    history.extend(sub_history)"
   ]
  },
  {
   "cell_type": "code",
   "execution_count": 9,
   "metadata": {},
   "outputs": [],
   "source": [
    "import matplotlib.pyplot as plt\n",
    "\n",
    "def draw_plot(x, y_list, x_label=None, y_label=None, legend=None, title=None):\n",
    "    fig, ax = plt.subplots(figsize=(12,5))\n",
    "    for xi, yi in zip(x, y_list):\n",
    "        ax.plot(xi, yi)\n",
    "    if x_label is not None and y_label is not None:\n",
    "        ax.set(xlabel=x_label, ylabel=y_label, title='{} VS {}'.format(x_label, y_label))\n",
    "    if legend is not None:\n",
    "        ax.legend(legend)\n",
    "    ax.grid()\n",
    "    plt.show()"
   ]
  },
  {
   "cell_type": "code",
   "execution_count": 10,
   "metadata": {},
   "outputs": [
    {
     "name": "stdout",
     "output_type": "stream",
     "text": [
      "[1. 0. 0.] <-> [0.9773581  0.01035412 0.0122877 ]\n",
      "[1. 0. 0.] <-> [0.9134861  0.01170861 0.07480521]\n",
      "[1. 0. 0.] <-> [0.9763941  0.01063384 0.01297202]\n",
      "[1. 0. 0.] <-> [0.9796846  0.01234716 0.00796832]\n",
      "[1. 0. 0.] <-> [0.7375705  0.00624045 0.25618905]\n",
      "[1. 0. 0.] <-> [0.97820574 0.01576504 0.0060293 ]\n",
      "[1. 0. 0.] <-> [0.9669216  0.03122008 0.00185836]\n",
      "[1. 0. 0.] <-> [0.9109948  0.00735887 0.08164629]\n",
      "[1. 0. 0.] <-> [0.93523616 0.00665458 0.05810937]\n",
      "[1. 0. 0.] <-> [0.9710525  0.02447845 0.00446907]\n",
      "[1. 0. 0.] <-> [0.98080176 0.00727259 0.01192563]\n",
      "[1. 0. 0.] <-> [0.9309128  0.0047758  0.06431136]\n",
      "[1. 0. 0.] <-> [0.9719434  0.01141005 0.01664659]\n",
      "[1. 0. 0.] <-> [0.9602904  0.03089993 0.00880966]\n",
      "[1. 0. 0.] <-> [0.9824623  0.01311088 0.00442689]\n",
      "[0. 1. 0.] <-> [5.324789e-02 9.462551e-01 4.969871e-04]\n",
      "[0. 1. 0.] <-> [0.12209638 0.87619376 0.00170985]\n",
      "[0. 0. 1.] <-> [3.8630087e-02 6.8670715e-04 9.6068323e-01]\n",
      "[1. 0. 0.] <-> [0.9784001  0.01375403 0.00784587]\n",
      "[0. 0. 1.] <-> [0.04808063 0.00099237 0.95092696]\n",
      "[1. 0. 0.] <-> [0.9732617  0.01441893 0.01231926]\n",
      "[1. 0. 0.] <-> [0.8028117  0.01232083 0.1848675 ]\n",
      "[1. 0. 0.] <-> [0.95272434 0.02989905 0.01737668]\n",
      "[1. 0. 0.] <-> [0.9416534  0.05511575 0.00323084]\n",
      "[1. 0. 0.] <-> [0.96512777 0.01282011 0.02205204]\n",
      "[0. 1. 0.] <-> [6.314325e-02 9.362318e-01 6.248939e-04]\n",
      "[0. 0. 1.] <-> [0.73322326 0.00377554 0.26300117]\n",
      "[1. 0. 0.] <-> [0.9487524  0.00616269 0.04508485]\n",
      "[1. 0. 0.] <-> [0.9754607  0.01115129 0.01338803]\n",
      "[0. 0. 1.] <-> [0.06074253 0.00147535 0.9377821 ]\n",
      "[1. 0. 0.] <-> [0.9727648  0.00665647 0.02057875]\n",
      "[0. 0. 1.] <-> [3.4178738e-02 6.2711275e-04 9.6519423e-01]\n",
      "[1. 0. 0.] <-> [0.8613566  0.00512259 0.13352083]\n",
      "[0. 0. 1.] <-> [2.3587110e-02 3.4037145e-04 9.7607249e-01]\n",
      "[1. 0. 0.] <-> [0.9007385  0.09757159 0.00168992]\n",
      "[1. 0. 0.] <-> [0.95430714 0.01118593 0.03450697]\n",
      "[1. 0. 0.] <-> [0.9555838  0.01850384 0.02591231]\n",
      "[0. 1. 0.] <-> [0.1588972  0.8392599  0.00184283]\n",
      "[1. 0. 0.] <-> [0.5441045  0.00635967 0.44953582]\n",
      "[1. 0. 0.] <-> [0.96214795 0.01372314 0.0241289 ]\n",
      "[0. 0. 1.] <-> [3.8241092e-02 6.8381667e-04 9.6107507e-01]\n",
      "[1. 0. 0.] <-> [0.7967916  0.01089503 0.19231331]\n",
      "[1. 0. 0.] <-> [0.96380734 0.03174096 0.00445175]\n",
      "[0. 0. 1.] <-> [2.5515279e-02 3.9420967e-04 9.7409046e-01]\n",
      "[0. 1. 0.] <-> [4.9651999e-02 9.4996995e-01 3.7806205e-04]\n",
      "[1. 0. 0.] <-> [0.90419376 0.09296512 0.00284107]\n",
      "[1. 0. 0.] <-> [0.9753293  0.01998703 0.00468371]\n",
      "[1. 0. 0.] <-> [0.89616805 0.09350079 0.01033119]\n",
      "[1. 0. 0.] <-> [0.9760938  0.02024176 0.00366436]\n",
      "[1. 0. 0.] <-> [0.8265045  0.0115928  0.16190262]\n",
      "[1. 0. 0.] <-> [0.9559226  0.00608283 0.0379946 ]\n",
      "[1. 0. 0.] <-> [0.9757937  0.00531015 0.01889608]\n",
      "[1. 0. 0.] <-> [0.97906876 0.01079659 0.01013465]\n",
      "[1. 0. 0.] <-> [0.15618218 0.00447513 0.83934265]\n",
      "[1. 0. 0.] <-> [0.9722444  0.01407839 0.01367717]\n",
      "[0. 1. 0.] <-> [0.16357195 0.83442104 0.00200705]\n",
      "[1. 0. 0.] <-> [0.97155523 0.02428214 0.00416263]\n",
      "[1. 0. 0.] <-> [0.9765628  0.01691285 0.00652441]\n",
      "[0. 0. 1.] <-> [3.0474246e-02 5.0882570e-04 9.6901691e-01]\n",
      "[1. 0. 0.] <-> [0.953932   0.00642689 0.03964117]\n",
      "[1. 0. 0.] <-> [0.90728563 0.00692395 0.08579034]\n",
      "[1. 0. 0.] <-> [0.9487168  0.04868037 0.00260275]\n",
      "[1. 0. 0.] <-> [0.9807725  0.01255048 0.00667699]\n",
      "[0. 0. 1.] <-> [0.24396674 0.00229928 0.75373393]\n",
      "[0. 1. 0.] <-> [0.30143487 0.6967501  0.001815  ]\n",
      "[1. 0. 0.] <-> [0.92690325 0.06816974 0.00492695]\n",
      "[1. 0. 0.] <-> [0.9735169  0.00891718 0.01756591]\n",
      "[0. 0. 1.] <-> [2.8948076e-02 4.4322136e-04 9.7060871e-01]\n",
      "[1. 0. 0.] <-> [0.9802014  0.01488714 0.00491137]\n",
      "[0. 1. 0.] <-> [5.0524019e-02 9.4908154e-01 3.9435015e-04]\n",
      "[0. 1. 0.] <-> [0.48062    0.5171434  0.00223661]\n",
      "[1. 0. 0.] <-> [0.95151246 0.04440367 0.00408391]\n",
      "[1. 0. 0.] <-> [0.97544247 0.00676342 0.01779418]\n",
      "[1. 0. 0.] <-> [0.97135407 0.02530283 0.00334308]\n",
      "[1. 0. 0.] <-> [0.9422717  0.05378262 0.00394557]\n",
      "[1. 0. 0.] <-> [0.8934434  0.00473784 0.10181876]\n",
      "[0. 1. 0.] <-> [6.1070587e-02 9.3837792e-01 5.5153843e-04]\n",
      "[0. 1. 0.] <-> [0.5788588  0.4156597  0.00548154]\n",
      "[0. 1. 0.] <-> [0.08838043 0.91053134 0.00108812]\n",
      "[1. 0. 0.] <-> [0.62373275 0.37071562 0.0055516 ]\n",
      "[1. 0. 0.] <-> [0.9482299  0.00489935 0.04687071]\n",
      "[1. 0. 0.] <-> [0.9475518  0.00446984 0.04797839]\n",
      "[1. 0. 0.] <-> [0.96387    0.00827421 0.02785575]\n",
      "[0. 1. 0.] <-> [0.54896575 0.44789168 0.00314259]\n",
      "[1. 0. 0.] <-> [0.8780955  0.00608396 0.11582057]\n",
      "[1. 0. 0.] <-> [0.9586741  0.01104681 0.03027911]\n",
      "[1. 0. 0.] <-> [0.84490234 0.00831201 0.14678559]\n",
      "[1. 0. 0.] <-> [0.96011066 0.00867166 0.0312177 ]\n",
      "[1. 0. 0.] <-> [0.9670492  0.03045684 0.00249394]\n",
      "[1. 0. 0.] <-> [0.96958816 0.00638735 0.02402441]\n",
      "[1. 0. 0.] <-> [0.9703972  0.00885107 0.02075177]\n",
      "[1. 0. 0.] <-> [0.4490466  0.00739551 0.5435579 ]\n",
      "[0. 0. 1.] <-> [2.5974762e-02 3.7911284e-04 9.7364616e-01]\n",
      "[1. 0. 0.] <-> [0.95398927 0.00726062 0.03875015]\n",
      "[1. 0. 0.] <-> [0.97059983 0.01165244 0.01774772]\n",
      "[1. 0. 0.] <-> [0.9463195  0.00498376 0.04869668]\n",
      "[1. 0. 0.] <-> [0.9308713  0.00401561 0.06511309]\n",
      "[1. 0. 0.] <-> [0.96822363 0.02732051 0.0044558 ]\n",
      "[1. 0. 0.] <-> [0.8992853  0.00630688 0.09440785]\n",
      "[1. 0. 0.] <-> [0.87158555 0.00637506 0.12203941]\n",
      "[0. 1. 0.] <-> [9.2110045e-02 9.0709454e-01 7.9542422e-04]\n",
      "[1. 0. 0.] <-> [0.97960734 0.01415806 0.00623454]\n",
      "[1. 0. 0.] <-> [0.979654   0.00807997 0.01226602]\n",
      "[0. 0. 1.] <-> [2.5629394e-02 3.8458241e-04 9.7398609e-01]\n",
      "[1. 0. 0.] <-> [0.95877254 0.00858387 0.03264356]\n",
      "[1. 0. 0.] <-> [0.97840124 0.0167051  0.00489359]\n",
      "[1. 0. 0.] <-> [0.9734298  0.01896453 0.00760572]\n",
      "[0. 1. 0.] <-> [5.7258844e-02 9.4221109e-01 5.2999624e-04]\n",
      "{'accuracy': 0.9691358024691358, 'mean_square_error': 0.06343709122330535, 'categorical_crossentropy': 0.12962592089617694, 'essential_metrics': {0: {'tp_hit': 78, 'fp_hit': 3, 'tn_hit': 25, 'fn_hit': 2}, 1: {'tp_hit': 13, 'fp_hit': 0, 'tn_hit': 93, 'fn_hit': 2}, 2: {'tp_hit': 12, 'fp_hit': 2, 'tn_hit': 93, 'fn_hit': 1}}}\n"
     ]
    }
   ],
   "source": [
    "# recall phase\n",
    "score = model.evaluate(x_test, y_test, False)\n",
    "print(score)"
   ]
  },
  {
   "cell_type": "code",
   "execution_count": 11,
   "metadata": {},
   "outputs": [
    {
     "data": {
      "image/png": "[encoded data removed]",
      "text/plain": [
       "<Figure size 864x360 with 1 Axes>"
      ]
     },
     "metadata": {
      "needs_background": "light"
     },
     "output_type": "display_data"
    },
    {
     "data": {
      "image/png": "[encoded data removed]",
      "text/plain": [
       "<Figure size 864x360 with 1 Axes>"
      ]
     },
     "metadata": {
      "needs_background": "light"
     },
     "output_type": "display_data"
    }
   ],
   "source": [
    "draw_plot(x = [[i for i in range(len(history))], [(i+1)*breakpoint for i in range(len(checkpoints))]], y_list = [history, [ ckp[model.loss_fn] for ckp in checkpoints ]], x_label = 'Epochs', \\\n",
    "    y_label = model.loss_fn, legend=['train', 'test'])\n",
    "acc = [ ckp['accuracy'] for ckp in checkpoints ]\n",
    "draw_plot(x = [[(i+1)*breakpoint for i in range(len(checkpoints))]], y_list = [acc], x_label = 'Checkpoints', \\\n",
    "    y_label = 'accuracy')"
   ]
  },
  {
   "cell_type": "code",
   "execution_count": 12,
   "metadata": {},
   "outputs": [
    {
     "name": "stdout",
     "output_type": "stream",
     "text": [
      "{'accuracy': 0.9629629629629629, 'mean_square_error': 0.12338091269121877, 'categorical_crossentropy': 0.27360144367924444, 'essential_metrics': {0: {'tp_hit': 79, 'fp_hit': 5, 'tn_hit': 23, 'fn_hit': 1}, 1: {'tp_hit': 13, 'fp_hit': 1, 'tn_hit': 92, 'fn_hit': 2}, 2: {'tp_hit': 10, 'fp_hit': 0, 'tn_hit': 95, 'fn_hit': 3}}, 'checkpoint': 100} \n",
      "\n",
      "\n",
      "{'accuracy': 0.9753086419753086, 'mean_square_error': 0.058980812288393594, 'categorical_crossentropy': 0.12831892790617766, 'essential_metrics': {0: {'tp_hit': 79, 'fp_hit': 3, 'tn_hit': 25, 'fn_hit': 1}, 1: {'tp_hit': 13, 'fp_hit': 0, 'tn_hit': 93, 'fn_hit': 2}, 2: {'tp_hit': 12, 'fp_hit': 1, 'tn_hit': 94, 'fn_hit': 1}}, 'checkpoint': 200} \n",
      "\n",
      "\n",
      "{'accuracy': 0.9753086419753086, 'mean_square_error': 0.05759671829422154, 'categorical_crossentropy': 0.12195952733357747, 'essential_metrics': {0: {'tp_hit': 79, 'fp_hit': 3, 'tn_hit': 25, 'fn_hit': 1}, 1: {'tp_hit': 13, 'fp_hit': 0, 'tn_hit': 93, 'fn_hit': 2}, 2: {'tp_hit': 12, 'fp_hit': 1, 'tn_hit': 94, 'fn_hit': 1}}, 'checkpoint': 300} \n",
      "\n",
      "\n",
      "{'accuracy': 0.9629629629629629, 'mean_square_error': 0.06486751888647417, 'categorical_crossentropy': 0.13195965908191823, 'essential_metrics': {0: {'tp_hit': 78, 'fp_hit': 4, 'tn_hit': 24, 'fn_hit': 2}, 1: {'tp_hit': 12, 'fp_hit': 0, 'tn_hit': 93, 'fn_hit': 3}, 2: {'tp_hit': 12, 'fp_hit': 2, 'tn_hit': 93, 'fn_hit': 1}}, 'checkpoint': 400} \n",
      "\n",
      "\n",
      "{'accuracy': 0.9691358024691358, 'mean_square_error': 0.06343709122330535, 'categorical_crossentropy': 0.12962592089617694, 'essential_metrics': {0: {'tp_hit': 78, 'fp_hit': 3, 'tn_hit': 25, 'fn_hit': 2}, 1: {'tp_hit': 13, 'fp_hit': 0, 'tn_hit': 93, 'fn_hit': 2}, 2: {'tp_hit': 12, 'fp_hit': 2, 'tn_hit': 93, 'fn_hit': 1}}, 'checkpoint': 500} \n",
      "\n",
      "\n"
     ]
    }
   ],
   "source": [
    "for checkpoint in checkpoints:\n",
    "    print(checkpoint, '\\n\\n')"
   ]
  },
  {
   "cell_type": "code",
   "execution_count": 13,
   "metadata": {},
   "outputs": [
    {
     "name": "stdout",
     "output_type": "stream",
     "text": [
      "Layer 1\n",
      "Neuron 0: weights:\n",
      "[ 0.02454363 -1.8381546   0.03279267  0.8035248   2.5123038 ]\n",
      " bias: -1.7900108098983765\n",
      "\n",
      "Neuron 1: weights:\n",
      "[ 1.4960618  -2.6875253  -1.9558904   0.05672465  0.46216553]\n",
      " bias: 1.8658314943313599\n",
      "\n",
      "Neuron 2: weights:\n",
      "[-0.03019795 -3.          0.01347317  0.03924485  0.01162792]\n",
      " bias: -0.5467796325683594\n",
      "\n",
      "Neuron 3: weights:\n",
      "[-0.47786304  0.8988644   0.21092504 -0.03283651 -0.7129326 ]\n",
      " bias: 0.18594346940517426\n",
      "\n",
      "$\n",
      "Layer 2\n",
      "Neuron 0: weights:\n",
      "[-3.          3.          0.15456253 -0.0475438 ]\n",
      " bias: 0.08652587234973907\n",
      "\n",
      "Neuron 1: weights:\n",
      "[-0.03377069 -3.         -1.1034331   3.        ]\n",
      " bias: 0.055275581777095795\n",
      "\n",
      "Neuron 2: weights:\n",
      "[ 3.         -0.01899242  3.         -3.        ]\n",
      " bias: -1.9088270664215088\n",
      "\n",
      "$\n",
      "\n"
     ]
    }
   ],
   "source": [
    "print(model)"
   ]
  }
 ],
 "metadata": {
  "kernelspec": {
   "display_name": "Python 3",
   "language": "python",
   "name": "python3"
  },
  "language_info": {
   "codemirror_mode": {
    "name": "ipython",
    "version": 3
   },
   "file_extension": ".py",
   "mimetype": "text/x-python",
   "name": "python",
   "nbconvert_exporter": "python",
   "pygments_lexer": "ipython3",
   "version": "3.6.10"
  }
 },
 "nbformat": 4,
 "nbformat_minor": 2
}
