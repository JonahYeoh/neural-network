{
 "cells": [
  {
   "cell_type": "code",
   "execution_count": 1,
   "metadata": {},
   "outputs": [],
   "source": [
    "# dependency\n",
    "import numpy as np\n",
    "import pandas as pd\n",
    "import copy\n",
    "import math\n",
    "import sys\n",
    "import os\n",
    "from activations import relu, leaky_relu, sigmoid, tanh, softmax, d_sigmoid, d_relu\n",
    "from initializers import glorot_uniform, random_normal, random_uniform\n",
    "from regularizers import l1_regularizer, l2_regularizer\n",
    "from utility import trim_tail, multiply, subtract, get_nparams, one_hot_encoding, get_data\n",
    "from metrics import MSE, CCE, ACC, PRECISION, RECALL, essential_metrics, wondering_penalty, close_gap_penalty\n",
    "from pso import PSO\n",
    "from ga import GA\n",
    "from nn import Network\n",
    "from layer import DenseLayer\n",
    "from scalers import MinMaxScaler, StandardScaler"
   ]
  },
  {
   "cell_type": "code",
   "execution_count": 2,
   "metadata": {},
   "outputs": [],
   "source": [
    "# reference\n",
    "metrics_fn_dict = dict()\n",
    "metrics_fn_dict['accuracy'] = ACC\n",
    "metrics_fn_dict['categorical_crossentropy'] = CCE\n",
    "metrics_fn_dict['mean_square_error'] = MSE\n",
    "metrics_fn_dict['precision'] = PRECISION\n",
    "metrics_fn_dict['recall'] = RECALL\n",
    "metrics_fn_dict['essential_metrics'] = essential_metrics"
   ]
  },
  {
   "cell_type": "code",
   "execution_count": 3,
   "metadata": {},
   "outputs": [],
   "source": [
    "# model\n",
    "model = Network(5, lr = None)\n",
    "model.add_layer(DenseLayer(1, 4, True, afn=sigmoid, dafn=None, rfn=None))\n",
    "model.add_layer(DenseLayer(2, 3, True, afn=softmax, dafn=None, rfn=None))"
   ]
  },
  {
   "cell_type": "code",
   "execution_count": 4,
   "metadata": {},
   "outputs": [
    {
     "name": "stdout",
     "output_type": "stream",
     "text": [
      "see one see two 2.0 0.5\n"
     ]
    }
   ],
   "source": [
    "pso = PSO(dict(m = 50,\n",
    "    weight_constraint = [-3, 3], \n",
    "    velocity_constraint = [-0.1, 0.1],\n",
    "    c1 = [0.5, 2.0],\n",
    "    c2 = [0.5, 2.0],\n",
    "    w = [0.5, 1.6],\n",
    "    w_decay = 0.95,\n",
    "    scale_hyperparameter = False,\n",
    "    regularizer = None,\n",
    "    mask = True))"
   ]
  },
  {
   "cell_type": "code",
   "execution_count": 5,
   "metadata": {},
   "outputs": [
    {
     "name": "stdout",
     "output_type": "stream",
     "text": [
      "building layer 1 with 5\n",
      "24\n",
      "building layer 2 with 4\n",
      "15\n"
     ]
    }
   ],
   "source": [
    "model.compile(loss_fn = 'categorical_crossentropy', optimizer = pso, \\\n",
    "    metrics = ['accuracy', 'mean_square_error', 'categorical_crossentropy'])"
   ]
  },
  {
   "cell_type": "code",
   "execution_count": 6,
   "metadata": {},
   "outputs": [
    {
     "name": "stdout",
     "output_type": "stream",
     "text": [
      "<class 'pandas.core.frame.DataFrame'>\n",
      "RangeIndex: 107 entries, 0 to 106\n",
      "Data columns (total 6 columns):\n",
      " #   Column  Non-Null Count  Dtype  \n",
      "---  ------  --------------  -----  \n",
      " 0   f1      107 non-null    float32\n",
      " 1   f2      107 non-null    float32\n",
      " 2   f3      107 non-null    float32\n",
      " 3   f4      107 non-null    float32\n",
      " 4   f5      107 non-null    float32\n",
      " 5   label   107 non-null    float32\n",
      "dtypes: float32(6)\n",
      "memory usage: 2.6 KB\n",
      "None\n",
      "<class 'pandas.core.frame.DataFrame'>\n",
      "RangeIndex: 108 entries, 0 to 107\n",
      "Data columns (total 6 columns):\n",
      " #   Column  Non-Null Count  Dtype  \n",
      "---  ------  --------------  -----  \n",
      " 0   f1      108 non-null    float32\n",
      " 1   f2      108 non-null    float32\n",
      " 2   f3      108 non-null    float32\n",
      " 3   f4      108 non-null    float32\n",
      " 4   f5      108 non-null    float32\n",
      " 5   label   108 non-null    float32\n",
      "dtypes: float32(6)\n",
      "memory usage: 2.7 KB\n",
      "None\n"
     ]
    }
   ],
   "source": [
    "# data loading\n",
    "DATA = os.path.join('c:\\\\Users\\\\AI-lab\\\\github_repo\\\\neural-network\\\\', 'dataset')\n",
    "GROUP = 2\n",
    "COLUMNS = ['f1', 'f2', 'f3', 'f4', 'f5', 'label']\n",
    "N_CLASS = 3\n",
    "EPOCHS = 200\n",
    "train_dir, test_dir = \"..//dataset//training_data{}.txt\".format(GROUP), \"..//dataset//testing_data{}.txt\".format(GROUP)\n",
    "train, test = get_data(DATA, train_dir, COLUMNS), get_data(DATA, test_dir, COLUMNS)\n",
    "# shuffle\n",
    "train, test = train.sample(frac=1), test.sample(frac=1)\n",
    "x_train, y_train = train.drop('label', axis=1), train['label']\n",
    "x_test, y_test = test.drop('label', axis=1), test['label']"
   ]
  },
  {
   "cell_type": "code",
   "execution_count": 7,
   "metadata": {},
   "outputs": [],
   "source": [
    "# data scaling and encoding\n",
    "scaler = StandardScaler(['f1', 'f2', 'f3', 'f4', 'f5'])\n",
    "scaler.fit(x_train)\n",
    "x_train = scaler.transform(x_train)\n",
    "x_test = scaler.transform(x_test)\n",
    "y_train = one_hot_encoding(y_train, N_CLASS)\n",
    "y_test = one_hot_encoding(y_test, N_CLASS)"
   ]
  },
  {
   "cell_type": "code",
   "execution_count": 8,
   "metadata": {
    "tags": [
     "outputPrepend"
    ]
   },
   "outputs": [
    {
     "name": "stdout",
     "output_type": "stream",
     "text": [
      "Checkpoint 10, Accuracy: 0.8950617283950617, Loss: 0.6069323928267868\n",
      "Checkpoint 20, Accuracy: 0.9135802469135802, Loss: 0.5125269006799769\n",
      "Checkpoint 30, Accuracy: 0.9135802469135802, Loss: 0.5125269006799769\n",
      "Checkpoint 40, Accuracy: 0.8888888888888888, Loss: 0.4354694507740162\n",
      "Checkpoint 50, Accuracy: 0.8950617283950617, Loss: 0.4252958650942202\n",
      "Checkpoint 60, Accuracy: 0.9506172839506173, Loss: 0.4013811394020363\n",
      "Checkpoint 70, Accuracy: 0.9567901234567902, Loss: 0.33580787093551073\n",
      "Checkpoint 80, Accuracy: 0.9567901234567902, Loss: 0.24984142515394422\n",
      "Checkpoint 90, Accuracy: 0.9753086419753086, Loss: 0.21616859789247866\n",
      "Checkpoint 100, Accuracy: 0.9629629629629629, Loss: 0.20530471095332392\n",
      "Checkpoint 110, Accuracy: 0.9691358024691358, Loss: 0.1864228778415256\n",
      "Checkpoint 120, Accuracy: 0.9629629629629629, Loss: 0.16223442995989765\n",
      "Checkpoint 130, Accuracy: 0.9629629629629629, Loss: 0.15695487128363717\n",
      "Checkpoint 140, Accuracy: 0.9691358024691358, Loss: 0.14152758209793656\n",
      "Checkpoint 150, Accuracy: 0.9629629629629629, Loss: 0.13310597561023854\n",
      "Checkpoint 160, Accuracy: 0.9753086419753086, Loss: 0.1288817635288945\n",
      "Checkpoint 170, Accuracy: 0.9753086419753086, Loss: 0.12435546627751103\n",
      "Checkpoint 180, Accuracy: 0.9691358024691358, Loss: 0.11483227765118634\n",
      "Checkpoint 190, Accuracy: 0.9691358024691358, Loss: 0.10304689407348633\n",
      "Checkpoint 200, Accuracy: 0.9814814814814815, Loss: 0.08510198416533293\n"
     ]
    }
   ],
   "source": [
    "# learning phase\n",
    "breakpoint = 10\n",
    "checkpoints = list()\n",
    "history = list()\n",
    "for century in range(0, EPOCHS, breakpoint):\n",
    "    sub_history = model.fit(x_train, y_train, breakpoint, verbose = 0)\n",
    "    score = model.evaluate(x_test, y_test, False, verbose = 0)\n",
    "    print('Checkpoint {}, Accuracy: {}, Loss: {}'.format(century+breakpoint, score['accuracy'], score[model.loss_fn]))\n",
    "    score['checkpoint'] = century + breakpoint\n",
    "    checkpoints.append(score)\n",
    "    history.extend(sub_history)\n",
    "    itr = century + breakpoint\n",
    "    model.optimizer.c1 = np.max([model.optimizer.C1[1] - ((model.optimizer.C1[1] - model.optimizer.C1[0]) * itr / EPOCHS), model.optimizer.C1[0]])\n",
    "    model.optimizer.c2 = np.min([model.optimizer.C2[0] + ((model.optimizer.C2[1] - model.optimizer.C2[0]) * itr / EPOCHS), model.optimizer.C2[1]])\n",
    "    model.optimizer.w = np.max([model.optimizer.w * model.optimizer.W_Decay, model.optimizer.W[0]])"
   ]
  },
  {
   "cell_type": "code",
   "execution_count": 9,
   "metadata": {},
   "outputs": [],
   "source": [
    "import matplotlib.pyplot as plt\n",
    "\n",
    "def draw_plot(x, y_list, x_label=None, y_label=None, legend=None, title=None):\n",
    "    fig, ax = plt.subplots(figsize=(12,5))\n",
    "    for xi, yi in zip(x, y_list):\n",
    "        ax.plot(xi, yi)\n",
    "    if x_label is not None and y_label is not None:\n",
    "        ax.set(xlabel=x_label, ylabel=y_label, title='{} VS {}'.format(x_label, y_label))\n",
    "    if legend is not None:\n",
    "        ax.legend(legend)\n",
    "    ax.grid()\n",
    "    plt.show()"
   ]
  },
  {
   "cell_type": "code",
   "execution_count": 10,
   "metadata": {},
   "outputs": [],
   "source": [
    "train_acc = [h['accuracy'] for h in history]\n",
    "train_mse = [h['mean_square_error'] for h in history]\n",
    "train_cce = [h['categorical_crossentropy'] for h in history]"
   ]
  },
  {
   "cell_type": "code",
   "execution_count": 11,
   "metadata": {},
   "outputs": [
    {
     "data": {
      "image/png": "[encoded data removed]",
      "text/plain": [
       "<Figure size 864x360 with 1 Axes>"
      ]
     },
     "metadata": {
      "needs_background": "light"
     },
     "output_type": "display_data"
    },
    {
     "data": {
      "image/png": "[encoded data removed]",
      "text/plain": [
       "<Figure size 864x360 with 1 Axes>"
      ]
     },
     "metadata": {
      "needs_background": "light"
     },
     "output_type": "display_data"
    }
   ],
   "source": [
    "draw_plot(x = [[i for i in range(len(history))], [(i+1)*breakpoint for i in range(len(checkpoints))]], y_list = [train_cce, [ ckp[model.loss_fn] for ckp in checkpoints ]], x_label = 'Epochs', \\\n",
    "    y_label = model.loss_fn, legend=['train', 'test'])\n",
    "acc = [ ckp['accuracy'] for ckp in checkpoints ]\n",
    "draw_plot(x = [[i for i in range(len(history))], [(i+1)*breakpoint for i in range(len(checkpoints))]], y_list = [train_acc, acc], x_label = 'Checkpoints', \\\n",
    "    y_label = 'accuracy', legend=['train', 'test'])"
   ]
  },
  {
   "cell_type": "code",
   "execution_count": 12,
   "metadata": {},
   "outputs": [
    {
     "name": "stdout",
     "output_type": "stream",
     "text": [
      "[1. 0. 0.] <-> [0.80743754 0.01396011 0.17860238]\n",
      "[1. 0. 0.] <-> [0.9945827  0.00150584 0.00391142]\n",
      "[1. 0. 0.] <-> [0.9498709  0.0036946  0.04643454]\n",
      "[1. 0. 0.] <-> [0.99262637 0.00135097 0.00602266]\n",
      "[1. 0. 0.] <-> [0.9675359  0.00348702 0.028977  ]\n",
      "[0. 1. 0.] <-> [7.5808400e-03 9.9229300e-01 1.2609063e-04]\n",
      "[1. 0. 0.] <-> [0.9949745  0.0014155  0.00361003]\n",
      "[1. 0. 0.] <-> [0.9831767  0.00253335 0.0142899 ]\n",
      "[1. 0. 0.] <-> [0.9935457  0.00251843 0.00393585]\n",
      "[1. 0. 0.] <-> [0.96627074 0.00310869 0.03062057]\n",
      "[1. 0. 0.] <-> [0.98130035 0.00320515 0.01549449]\n",
      "[1. 0. 0.] <-> [0.9954412  0.00155229 0.00300653]\n",
      "[0. 0. 1.] <-> [0.01612992 0.00172906 0.982141  ]\n",
      "[1. 0. 0.] <-> [0.99576426 0.00139014 0.00284553]\n",
      "[1. 0. 0.] <-> [0.9908613  0.00187368 0.00726493]\n",
      "[1. 0. 0.] <-> [0.9950086  0.00139469 0.00359674]\n",
      "[0. 0. 1.] <-> [0.01644241 0.00172719 0.9818304 ]\n",
      "[1. 0. 0.] <-> [0.99262357 0.00171184 0.0056646 ]\n",
      "[1. 0. 0.] <-> [0.9510255  0.00427264 0.04470186]\n",
      "[1. 0. 0.] <-> [0.9911109  0.00177669 0.00711233]\n",
      "[1. 0. 0.] <-> [0.99351305 0.00155578 0.00493124]\n",
      "[0. 1. 0.] <-> [5.8296233e-02 9.4108242e-01 6.2144850e-04]\n",
      "[0. 1. 0.] <-> [7.0748189e-03 9.9280614e-01 1.1902837e-04]\n",
      "[0. 1. 0.] <-> [7.0734434e-03 9.9280763e-01 1.1899587e-04]\n",
      "[1. 0. 0.] <-> [0.98665327 0.00140842 0.01193837]\n",
      "[1. 0. 0.] <-> [0.9930211  0.0033595  0.00361943]\n",
      "[1. 0. 0.] <-> [0.9511654  0.00291753 0.04591704]\n",
      "[0. 1. 0.] <-> [0.5817678  0.41453144 0.0037008 ]\n",
      "[1. 0. 0.] <-> [0.9942668  0.0026799  0.00305338]\n",
      "[1. 0. 0.] <-> [0.98197764 0.01342777 0.00459453]\n",
      "[1. 0. 0.] <-> [0.9952304  0.00136795 0.00340167]\n",
      "[1. 0. 0.] <-> [0.9873821  0.00201688 0.01060102]\n",
      "[1. 0. 0.] <-> [0.5987325  0.39697987 0.00428767]\n",
      "[0. 1. 0.] <-> [1.1249191e-02 9.8857599e-01 1.7471740e-04]\n",
      "[0. 1. 0.] <-> [7.0754858e-03 9.9280506e-01 1.1939136e-04]\n",
      "[1. 0. 0.] <-> [0.978692   0.00299965 0.01830826]\n",
      "[1. 0. 0.] <-> [0.9945791  0.00224009 0.00318077]\n",
      "[1. 0. 0.] <-> [0.9900388  0.00623684 0.00372424]\n",
      "[0. 1. 0.] <-> [0.45583177 0.5404951  0.00367307]\n",
      "[1. 0. 0.] <-> [0.9939691  0.00125694 0.00477397]\n",
      "[1. 0. 0.] <-> [0.9137262  0.00592606 0.08034767]\n",
      "[1. 0. 0.] <-> [0.9160637  0.00264374 0.0812926 ]\n",
      "[1. 0. 0.] <-> [0.98467237 0.01135838 0.00396926]\n",
      "[1. 0. 0.] <-> [0.99362844 0.00268295 0.00368857]\n",
      "[1. 0. 0.] <-> [0.99313015 0.00235826 0.00451158]\n",
      "[1. 0. 0.] <-> [0.7847125  0.0027526  0.21253492]\n",
      "[1. 0. 0.] <-> [0.99311197 0.00301972 0.0038683 ]\n",
      "[1. 0. 0.] <-> [0.9394327  0.00323461 0.05733277]\n",
      "[0. 1. 0.] <-> [0.49247876 0.5034057  0.00411557]\n",
      "[1. 0. 0.] <-> [0.9942399  0.00268225 0.00307781]\n",
      "[0. 0. 1.] <-> [0.02295964 0.00181143 0.9752289 ]\n",
      "[0. 1. 0.] <-> [1.9513408e-02 9.8021543e-01 2.7119927e-04]\n",
      "[0. 0. 1.] <-> [0.01612428 0.00172901 0.9821467 ]\n",
      "[1. 0. 0.] <-> [0.99442154 0.00192575 0.00365265]\n",
      "[1. 0. 0.] <-> [0.9939328  0.0017681  0.00429914]\n",
      "[1. 0. 0.] <-> [0.9945176  0.0025939  0.00288851]\n",
      "[1. 0. 0.] <-> [0.9941034  0.00156919 0.00432745]\n",
      "[0. 0. 1.] <-> [0.01612196 0.00172978 0.9821483 ]\n",
      "[1. 0. 0.] <-> [0.99079883 0.00161174 0.00758939]\n",
      "[0. 1. 0.] <-> [7.1970671e-03 9.9268204e-01 1.2089415e-04]\n",
      "[1. 0. 0.] <-> [0.99345464 0.00328086 0.00326445]\n",
      "[1. 0. 0.] <-> [0.99441767 0.00170159 0.00388072]\n",
      "[1. 0. 0.] <-> [0.99114394 0.00172862 0.00712754]\n",
      "[1. 0. 0.] <-> [0.990379   0.00241742 0.00720355]\n",
      "[1. 0. 0.] <-> [0.90449834 0.00355337 0.09194832]\n",
      "[1. 0. 0.] <-> [0.9918549  0.00267455 0.00547048]\n",
      "[0. 1. 0.] <-> [1.3373319e-02 9.8642063e-01 2.0604444e-04]\n",
      "[1. 0. 0.] <-> [0.99410987 0.0016231  0.00426706]\n",
      "[1. 0. 0.] <-> [0.1261603  0.00190125 0.87193847]\n",
      "[1. 0. 0.] <-> [0.9947513  0.00221608 0.00303262]\n",
      "[1. 0. 0.] <-> [0.99390066 0.00191145 0.00418788]\n",
      "[1. 0. 0.] <-> [0.9910363  0.00253058 0.00643306]\n",
      "[1. 0. 0.] <-> [0.9756217  0.00204327 0.02233512]\n",
      "[1. 0. 0.] <-> [0.9889072  0.00267899 0.00841384]\n",
      "[1. 0. 0.] <-> [0.9805511  0.00347841 0.01597048]\n",
      "[1. 0. 0.] <-> [0.96853626 0.02598929 0.0054745 ]\n",
      "[1. 0. 0.] <-> [0.9934616  0.00144033 0.00509806]\n",
      "[1. 0. 0.] <-> [0.9893756  0.00701416 0.00361017]\n",
      "[1. 0. 0.] <-> [0.98952895 0.00315051 0.0073205 ]\n",
      "[1. 0. 0.] <-> [0.99133545 0.00225309 0.00641151]\n",
      "[0. 0. 1.] <-> [0.01618693 0.0017303  0.9820827 ]\n",
      "[0. 0. 1.] <-> [0.5620377  0.01179926 0.42616305]\n",
      "[1. 0. 0.] <-> [0.99102074 0.00482209 0.00415716]\n",
      "[0. 0. 1.] <-> [0.01615545 0.00172849 0.9821161 ]\n",
      "[0. 0. 1.] <-> [0.01811261 0.00171184 0.98017555]\n",
      "[1. 0. 0.] <-> [0.9862639  0.00229697 0.01143916]\n",
      "[0. 1. 0.] <-> [7.5695417e-03 9.9230486e-01 1.2563818e-04]\n",
      "[1. 0. 0.] <-> [0.9838307  0.00823349 0.00793573]\n",
      "[1. 0. 0.] <-> [0.98092204 0.00298963 0.01608822]\n",
      "[1. 0. 0.] <-> [0.95621866 0.03888905 0.00489225]\n",
      "[1. 0. 0.] <-> [0.986416   0.00276043 0.01082358]\n",
      "[0. 0. 1.] <-> [0.01612376 0.00172901 0.9821472 ]\n",
      "[1. 0. 0.] <-> [0.99510974 0.00146187 0.0034284 ]\n",
      "[1. 0. 0.] <-> [0.99506015 0.00176026 0.00317966]\n",
      "[1. 0. 0.] <-> [0.9848769  0.00253568 0.01258754]\n",
      "[0. 0. 1.] <-> [0.01612056 0.00175107 0.9821284 ]\n",
      "[0. 1. 0.] <-> [3.4146316e-02 9.6542269e-01 4.3105215e-04]\n",
      "[1. 0. 0.] <-> [0.98888516 0.00195277 0.00916206]\n",
      "[1. 0. 0.] <-> [0.5870231  0.00352723 0.40944967]\n",
      "[1. 0. 0.] <-> [0.994966   0.00182938 0.0032046 ]\n",
      "[1. 0. 0.] <-> [0.98841745 0.00159538 0.0099872 ]\n",
      "[0. 0. 1.] <-> [0.48448566 0.0021427  0.5133716 ]\n",
      "[1. 0. 0.] <-> [0.9928818  0.00157571 0.00554251]\n",
      "[0. 0. 1.] <-> [0.0161237  0.00172901 0.9821472 ]\n",
      "[1. 0. 0.] <-> [0.9873024  0.00275588 0.00994178]\n",
      "[1. 0. 0.] <-> [0.98417205 0.00286872 0.01295918]\n",
      "[1. 0. 0.] <-> [0.892205   0.00350076 0.10429421]\n",
      "[0. 1. 0.] <-> [0.15510741 0.84332484 0.00156768]\n",
      "{'accuracy': 0.9814814814814815, 'mean_square_error': 0.04837026525431908, 'categorical_crossentropy': 0.08510198416533293, 'essential_metrics': {0: {'tp_hit': 79, 'fp_hit': 2, 'tn_hit': 26, 'fn_hit': 1}, 1: {'tp_hit': 14, 'fp_hit': 0, 'tn_hit': 93, 'fn_hit': 1}, 2: {'tp_hit': 12, 'fp_hit': 1, 'tn_hit': 94, 'fn_hit': 1}}}\n"
     ]
    }
   ],
   "source": [
    "# recall phase\n",
    "score = model.evaluate(x_test, y_test, False)\n",
    "print(score)"
   ]
  },
  {
   "cell_type": "code",
   "execution_count": 13,
   "metadata": {},
   "outputs": [
    {
     "name": "stdout",
     "output_type": "stream",
     "text": [
      "{'accuracy': 0.8950617283950617, 'mean_square_error': 0.3320219478664101, 'categorical_crossentropy': 0.6069323928267868, 'essential_metrics': {0: {'tp_hit': 78, 'fp_hit': 14, 'tn_hit': 14, 'fn_hit': 2}, 1: {'tp_hit': 2, 'fp_hit': 2, 'tn_hit': 91, 'fn_hit': 13}, 2: {'tp_hit': 11, 'fp_hit': 1, 'tn_hit': 94, 'fn_hit': 2}}, 'checkpoint': 10} \n",
      "\n",
      "\n",
      "{'accuracy': 0.9135802469135802, 'mean_square_error': 0.2648266352239826, 'categorical_crossentropy': 0.5125269006799769, 'essential_metrics': {0: {'tp_hit': 80, 'fp_hit': 14, 'tn_hit': 14, 'fn_hit': 0}, 1: {'tp_hit': 2, 'fp_hit': 0, 'tn_hit': 93, 'fn_hit': 13}, 2: {'tp_hit': 12, 'fp_hit': 0, 'tn_hit': 95, 'fn_hit': 1}}, 'checkpoint': 20} \n",
      "\n",
      "\n",
      "{'accuracy': 0.9135802469135802, 'mean_square_error': 0.2648266352239826, 'categorical_crossentropy': 0.5125269006799769, 'essential_metrics': {0: {'tp_hit': 80, 'fp_hit': 14, 'tn_hit': 14, 'fn_hit': 0}, 1: {'tp_hit': 2, 'fp_hit': 0, 'tn_hit': 93, 'fn_hit': 13}, 2: {'tp_hit': 12, 'fp_hit': 0, 'tn_hit': 95, 'fn_hit': 1}}, 'checkpoint': 30} \n",
      "\n",
      "\n",
      "{'accuracy': 0.8888888888888888, 'mean_square_error': 0.2301709600315789, 'categorical_crossentropy': 0.4354694507740162, 'essential_metrics': {0: {'tp_hit': 80, 'fp_hit': 18, 'tn_hit': 10, 'fn_hit': 0}, 1: {'tp_hit': 2, 'fp_hit': 0, 'tn_hit': 93, 'fn_hit': 13}, 2: {'tp_hit': 8, 'fp_hit': 0, 'tn_hit': 95, 'fn_hit': 5}}, 'checkpoint': 40} \n",
      "\n",
      "\n",
      "{'accuracy': 0.8950617283950617, 'mean_square_error': 0.22742595083434855, 'categorical_crossentropy': 0.4252958650942202, 'essential_metrics': {0: {'tp_hit': 80, 'fp_hit': 17, 'tn_hit': 11, 'fn_hit': 0}, 1: {'tp_hit': 5, 'fp_hit': 0, 'tn_hit': 93, 'fn_hit': 10}, 2: {'tp_hit': 6, 'fp_hit': 0, 'tn_hit': 95, 'fn_hit': 7}}, 'checkpoint': 50} \n",
      "\n",
      "\n",
      "{'accuracy': 0.9506172839506173, 'mean_square_error': 0.18922370746979902, 'categorical_crossentropy': 0.4013811394020363, 'essential_metrics': {0: {'tp_hit': 80, 'fp_hit': 8, 'tn_hit': 20, 'fn_hit': 0}, 1: {'tp_hit': 10, 'fp_hit': 0, 'tn_hit': 93, 'fn_hit': 5}, 2: {'tp_hit': 10, 'fp_hit': 0, 'tn_hit': 95, 'fn_hit': 3}}, 'checkpoint': 60} \n",
      "\n",
      "\n",
      "{'accuracy': 0.9567901234567902, 'mean_square_error': 0.16343092057303005, 'categorical_crossentropy': 0.33580787093551073, 'essential_metrics': {0: {'tp_hit': 80, 'fp_hit': 7, 'tn_hit': 21, 'fn_hit': 0}, 1: {'tp_hit': 9, 'fp_hit': 0, 'tn_hit': 93, 'fn_hit': 6}, 2: {'tp_hit': 12, 'fp_hit': 0, 'tn_hit': 95, 'fn_hit': 1}}, 'checkpoint': 70} \n",
      "\n",
      "\n",
      "{'accuracy': 0.9567901234567902, 'mean_square_error': 0.11336962380830613, 'categorical_crossentropy': 0.24984142515394422, 'essential_metrics': {0: {'tp_hit': 80, 'fp_hit': 7, 'tn_hit': 21, 'fn_hit': 0}, 1: {'tp_hit': 10, 'fp_hit': 0, 'tn_hit': 93, 'fn_hit': 5}, 2: {'tp_hit': 11, 'fp_hit': 0, 'tn_hit': 95, 'fn_hit': 2}}, 'checkpoint': 80} \n",
      "\n",
      "\n",
      "{'accuracy': 0.9753086419753086, 'mean_square_error': 0.09311217155057727, 'categorical_crossentropy': 0.21616859789247866, 'essential_metrics': {0: {'tp_hit': 80, 'fp_hit': 4, 'tn_hit': 24, 'fn_hit': 0}, 1: {'tp_hit': 12, 'fp_hit': 0, 'tn_hit': 93, 'fn_hit': 3}, 2: {'tp_hit': 12, 'fp_hit': 0, 'tn_hit': 95, 'fn_hit': 1}}, 'checkpoint': 90} \n",
      "\n",
      "\n",
      "{'accuracy': 0.9629629629629629, 'mean_square_error': 0.09154192322110756, 'categorical_crossentropy': 0.20530471095332392, 'essential_metrics': {0: {'tp_hit': 79, 'fp_hit': 5, 'tn_hit': 23, 'fn_hit': 1}, 1: {'tp_hit': 10, 'fp_hit': 0, 'tn_hit': 93, 'fn_hit': 5}, 2: {'tp_hit': 13, 'fp_hit': 1, 'tn_hit': 94, 'fn_hit': 0}}, 'checkpoint': 100} \n",
      "\n",
      "\n",
      "{'accuracy': 0.9691358024691358, 'mean_square_error': 0.08465516276147342, 'categorical_crossentropy': 0.1864228778415256, 'essential_metrics': {0: {'tp_hit': 79, 'fp_hit': 4, 'tn_hit': 24, 'fn_hit': 1}, 1: {'tp_hit': 12, 'fp_hit': 0, 'tn_hit': 93, 'fn_hit': 3}, 2: {'tp_hit': 12, 'fp_hit': 1, 'tn_hit': 94, 'fn_hit': 1}}, 'checkpoint': 110} \n",
      "\n",
      "\n",
      "{'accuracy': 0.9629629629629629, 'mean_square_error': 0.07933998992737921, 'categorical_crossentropy': 0.16223442995989765, 'essential_metrics': {0: {'tp_hit': 79, 'fp_hit': 5, 'tn_hit': 23, 'fn_hit': 1}, 1: {'tp_hit': 12, 'fp_hit': 0, 'tn_hit': 93, 'fn_hit': 3}, 2: {'tp_hit': 11, 'fp_hit': 1, 'tn_hit': 94, 'fn_hit': 2}}, 'checkpoint': 120} \n",
      "\n",
      "\n",
      "{'accuracy': 0.9629629629629629, 'mean_square_error': 0.0772224969725718, 'categorical_crossentropy': 0.15695487128363717, 'essential_metrics': {0: {'tp_hit': 79, 'fp_hit': 5, 'tn_hit': 23, 'fn_hit': 1}, 1: {'tp_hit': 12, 'fp_hit': 0, 'tn_hit': 93, 'fn_hit': 3}, 2: {'tp_hit': 11, 'fp_hit': 1, 'tn_hit': 94, 'fn_hit': 2}}, 'checkpoint': 130} \n",
      "\n",
      "\n",
      "{'accuracy': 0.9691358024691358, 'mean_square_error': 0.07027908437116441, 'categorical_crossentropy': 0.14152758209793656, 'essential_metrics': {0: {'tp_hit': 79, 'fp_hit': 4, 'tn_hit': 24, 'fn_hit': 1}, 1: {'tp_hit': 13, 'fp_hit': 0, 'tn_hit': 93, 'fn_hit': 2}, 2: {'tp_hit': 11, 'fp_hit': 1, 'tn_hit': 94, 'fn_hit': 2}}, 'checkpoint': 140} \n",
      "\n",
      "\n",
      "{'accuracy': 0.9629629629629629, 'mean_square_error': 0.07260236329562485, 'categorical_crossentropy': 0.13310597561023854, 'essential_metrics': {0: {'tp_hit': 79, 'fp_hit': 5, 'tn_hit': 23, 'fn_hit': 1}, 1: {'tp_hit': 12, 'fp_hit': 0, 'tn_hit': 93, 'fn_hit': 3}, 2: {'tp_hit': 11, 'fp_hit': 1, 'tn_hit': 94, 'fn_hit': 2}}, 'checkpoint': 150} \n",
      "\n",
      "\n",
      "{'accuracy': 0.9753086419753086, 'mean_square_error': 0.06696047880711593, 'categorical_crossentropy': 0.1288817635288945, 'essential_metrics': {0: {'tp_hit': 79, 'fp_hit': 3, 'tn_hit': 25, 'fn_hit': 1}, 1: {'tp_hit': 13, 'fp_hit': 0, 'tn_hit': 93, 'fn_hit': 2}, 2: {'tp_hit': 12, 'fp_hit': 1, 'tn_hit': 94, 'fn_hit': 1}}, 'checkpoint': 160} \n",
      "\n",
      "\n",
      "{'accuracy': 0.9753086419753086, 'mean_square_error': 0.06766388936608353, 'categorical_crossentropy': 0.12435546627751103, 'essential_metrics': {0: {'tp_hit': 78, 'fp_hit': 2, 'tn_hit': 26, 'fn_hit': 2}, 1: {'tp_hit': 14, 'fp_hit': 1, 'tn_hit': 92, 'fn_hit': 1}, 2: {'tp_hit': 12, 'fp_hit': 1, 'tn_hit': 94, 'fn_hit': 1}}, 'checkpoint': 170} \n",
      "\n",
      "\n",
      "{'accuracy': 0.9691358024691358, 'mean_square_error': 0.06611833139333616, 'categorical_crossentropy': 0.11483227765118634, 'essential_metrics': {0: {'tp_hit': 78, 'fp_hit': 3, 'tn_hit': 25, 'fn_hit': 2}, 1: {'tp_hit': 13, 'fp_hit': 0, 'tn_hit': 93, 'fn_hit': 2}, 2: {'tp_hit': 12, 'fp_hit': 2, 'tn_hit': 93, 'fn_hit': 1}}, 'checkpoint': 180} \n",
      "\n",
      "\n",
      "{'accuracy': 0.9691358024691358, 'mean_square_error': 0.06034984207134216, 'categorical_crossentropy': 0.10304689407348633, 'essential_metrics': {0: {'tp_hit': 79, 'fp_hit': 4, 'tn_hit': 24, 'fn_hit': 1}, 1: {'tp_hit': 12, 'fp_hit': 0, 'tn_hit': 93, 'fn_hit': 3}, 2: {'tp_hit': 12, 'fp_hit': 1, 'tn_hit': 94, 'fn_hit': 1}}, 'checkpoint': 190} \n",
      "\n",
      "\n",
      "{'accuracy': 0.9814814814814815, 'mean_square_error': 0.04837026525431908, 'categorical_crossentropy': 0.08510198416533293, 'essential_metrics': {0: {'tp_hit': 79, 'fp_hit': 2, 'tn_hit': 26, 'fn_hit': 1}, 1: {'tp_hit': 14, 'fp_hit': 0, 'tn_hit': 93, 'fn_hit': 1}, 2: {'tp_hit': 12, 'fp_hit': 1, 'tn_hit': 94, 'fn_hit': 1}}, 'checkpoint': 200} \n",
      "\n",
      "\n"
     ]
    }
   ],
   "source": [
    "for checkpoint in checkpoints:\n",
    "    print(checkpoint, '\\n\\n')"
   ]
  },
  {
   "cell_type": "code",
   "execution_count": 14,
   "metadata": {},
   "outputs": [
    {
     "name": "stdout",
     "output_type": "stream",
     "text": [
      "Layer 1\n",
      "Neuron 0: weights:\n",
      "[-0.27886158 -1.8862374  -1.5287076   2.416142    1.6363025 ]\n",
      " bias: -2.0562357902526855\n",
      "\n",
      "Neuron 1: weights:\n",
      "[ 1.5725224 -3.        -1.1550434 -1.079156   2.50828  ]\n",
      " bias: 2.8893656730651855\n",
      "\n",
      "Neuron 2: weights:\n",
      "[-0.03072758 -3.         -0.0996808   2.279984    3.        ]\n",
      " bias: -2.262260913848877\n",
      "\n",
      "Neuron 3: weights:\n",
      "[-1.795248    3.          3.         -0.53448236 -0.9088185 ]\n",
      " bias: -2.6792452335357666\n",
      "\n",
      "$\n",
      "Layer 2\n",
      "Neuron 0: weights:\n",
      "[-2.9390693  3.        -3.        -3.       ]\n",
      " bias: 1.7356756925582886\n",
      "\n",
      "Neuron 1: weights:\n",
      "[ 1.8838165 -3.        -3.         3.       ]\n",
      " bias: 0.6800494194030762\n",
      "\n",
      "Neuron 2: weights:\n",
      "[ 1.2380253  1.6680324  3.        -2.3493748]\n",
      " bias: -3.0\n",
      "\n",
      "$\n",
      "\n"
     ]
    }
   ],
   "source": [
    "print(model)"
   ]
  }
 ],
 "metadata": {
  "kernelspec": {
   "display_name": "Python 3",
   "language": "python",
   "name": "python3"
  },
  "language_info": {
   "codemirror_mode": {
    "name": "ipython",
    "version": 3
   },
   "file_extension": ".py",
   "mimetype": "text/x-python",
   "name": "python",
   "nbconvert_exporter": "python",
   "pygments_lexer": "ipython3",
   "version": "3.6.12"
  }
 },
 "nbformat": 4,
 "nbformat_minor": 2
}
