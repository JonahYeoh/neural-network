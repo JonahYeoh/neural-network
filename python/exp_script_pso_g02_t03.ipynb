{
 "cells": [
  {
   "cell_type": "code",
   "execution_count": 1,
   "metadata": {},
   "outputs": [],
   "source": [
    "# dependency\n",
    "import numpy as np\n",
    "import pandas as pd\n",
    "import copy\n",
    "import math\n",
    "import sys\n",
    "import os\n",
    "from activations import relu, leaky_relu, sigmoid, tanh, softmax, d_sigmoid, d_relu\n",
    "from initializers import glorot_uniform, random_normal, random_uniform\n",
    "from regularizers import l1_regularizer, l2_regularizer\n",
    "from utility import trim_tail, multiply, subtract, get_nparams, one_hot_encoding, get_data\n",
    "from metrics import MSE, CCE, ACC, PRECISION, RECALL, essential_metrics, wondering_penalty, close_gap_penalty\n",
    "from pso import PSO\n",
    "from ga import GA\n",
    "from nn import Network\n",
    "from layer import DenseLayer\n",
    "from scalers import MinMaxScaler, StandardScaler"
   ]
  },
  {
   "cell_type": "code",
   "execution_count": 2,
   "metadata": {},
   "outputs": [],
   "source": [
    "# reference\n",
    "metrics_fn_dict = dict()\n",
    "metrics_fn_dict['accuracy'] = ACC\n",
    "metrics_fn_dict['categorical_crossentropy'] = CCE\n",
    "metrics_fn_dict['mean_square_error'] = MSE\n",
    "metrics_fn_dict['precision'] = PRECISION\n",
    "metrics_fn_dict['recall'] = RECALL\n",
    "metrics_fn_dict['essential_metrics'] = essential_metrics"
   ]
  },
  {
   "cell_type": "code",
   "execution_count": 3,
   "metadata": {},
   "outputs": [],
   "source": [
    "# model\n",
    "model = Network(5, lr = None)\n",
    "model.add_layer(DenseLayer(1, 4, True, afn=sigmoid, dafn=None, rfn=None))\n",
    "model.add_layer(DenseLayer(2, 3, True, afn=softmax, dafn=None, rfn=None))"
   ]
  },
  {
   "cell_type": "code",
   "execution_count": 4,
   "metadata": {},
   "outputs": [
    {
     "name": "stdout",
     "output_type": "stream",
     "text": [
      "see one see two 2 2\n"
     ]
    }
   ],
   "source": [
    "pso = PSO(dict(m = 50,\n",
    "    weight_constraint = [-3, 3], \n",
    "    velocity_constraint = [-0.1, 0.1],\n",
    "    c1 = 2,\n",
    "    c2 = 2,\n",
    "    w = 1,\n",
    "    w_decay = 1,\n",
    "    scale_hyperparameter = False,\n",
    "    regularizer = l1_regularizer,\n",
    "    mask = True))"
   ]
  },
  {
   "cell_type": "code",
   "execution_count": 5,
   "metadata": {},
   "outputs": [
    {
     "name": "stdout",
     "output_type": "stream",
     "text": [
      "building layer 1 with 5\n",
      "24\n",
      "building layer 2 with 4\n",
      "15\n"
     ]
    }
   ],
   "source": [
    "model.compile(loss_fn = 'categorical_crossentropy', optimizer = pso, \\\n",
    "    metrics = ['accuracy', 'mean_square_error', 'categorical_crossentropy'])"
   ]
  },
  {
   "cell_type": "code",
   "execution_count": 6,
   "metadata": {},
   "outputs": [
    {
     "name": "stdout",
     "output_type": "stream",
     "text": [
      "<class 'pandas.core.frame.DataFrame'>\n",
      "RangeIndex: 107 entries, 0 to 106\n",
      "Data columns (total 6 columns):\n",
      " #   Column  Non-Null Count  Dtype  \n",
      "---  ------  --------------  -----  \n",
      " 0   f1      107 non-null    float32\n",
      " 1   f2      107 non-null    float32\n",
      " 2   f3      107 non-null    float32\n",
      " 3   f4      107 non-null    float32\n",
      " 4   f5      107 non-null    float32\n",
      " 5   label   107 non-null    float32\n",
      "dtypes: float32(6)\n",
      "memory usage: 2.6 KB\n",
      "None\n",
      "<class 'pandas.core.frame.DataFrame'>\n",
      "RangeIndex: 108 entries, 0 to 107\n",
      "Data columns (total 6 columns):\n",
      " #   Column  Non-Null Count  Dtype  \n",
      "---  ------  --------------  -----  \n",
      " 0   f1      108 non-null    float32\n",
      " 1   f2      108 non-null    float32\n",
      " 2   f3      108 non-null    float32\n",
      " 3   f4      108 non-null    float32\n",
      " 4   f5      108 non-null    float32\n",
      " 5   label   108 non-null    float32\n",
      "dtypes: float32(6)\n",
      "memory usage: 2.7 KB\n",
      "None\n"
     ]
    }
   ],
   "source": [
    "# data loading\n",
    "DATA = os.path.join('c:\\\\Users\\\\tcumi\\\\github_repo\\\\neural-network\\\\', 'dataset')\n",
    "GROUP = 2\n",
    "COLUMNS = ['f1', 'f2', 'f3', 'f4', 'f5', 'label']\n",
    "N_CLASS = 3\n",
    "EPOCHS = 500\n",
    "train_dir, test_dir = \"..//dataset//training_data{}.txt\".format(GROUP), \"..//dataset//testing_data{}.txt\".format(GROUP)\n",
    "train, test = get_data(DATA, train_dir, COLUMNS), get_data(DATA, test_dir, COLUMNS)\n",
    "# shuffle\n",
    "train, test = train.sample(frac=1), test.sample(frac=1)\n",
    "x_train, y_train = train.drop('label', axis=1), train['label']\n",
    "x_test, y_test = test.drop('label', axis=1), test['label']"
   ]
  },
  {
   "cell_type": "code",
   "execution_count": 7,
   "metadata": {},
   "outputs": [],
   "source": [
    "# data scaling and encoding\n",
    "scaler = StandardScaler(['f1', 'f2', 'f3', 'f4', 'f5'])\n",
    "scaler.fit(x_train)\n",
    "x_train = scaler.transform(x_train)\n",
    "x_test = scaler.transform(x_test)\n",
    "y_train = one_hot_encoding(y_train, N_CLASS)\n",
    "y_test = one_hot_encoding(y_test, N_CLASS)"
   ]
  },
  {
   "cell_type": "code",
   "execution_count": 8,
   "metadata": {
    "tags": [
     "outputPrepend"
    ]
   },
   "outputs": [
    {
     "name": "stdout",
     "output_type": "stream",
     "text": [
      "Checkpoint 100, Accuracy: 0.9629629629629629, Loss: 0.21445911901968498\n",
      "Checkpoint 200, Accuracy: 0.9629629629629629, Loss: 0.17323762399178963\n",
      "Checkpoint 300, Accuracy: 0.9691358024691358, Loss: 0.18093019061618382\n",
      "Checkpoint 400, Accuracy: 0.9691358024691358, Loss: 0.16437578201293945\n",
      "Checkpoint 500, Accuracy: 0.9629629629629629, Loss: 0.17864944316722728\n"
     ]
    }
   ],
   "source": [
    "# learning phase\n",
    "breakpoint = 100\n",
    "checkpoints = list()\n",
    "history = list()\n",
    "for century in range(0, EPOCHS, breakpoint):\n",
    "    sub_history = model.fit(x_train, y_train, breakpoint, verbose = 0)\n",
    "    score = model.evaluate(x_test, y_test, False, verbose = 0)\n",
    "    print('Checkpoint {}, Accuracy: {}, Loss: {}'.format(century+breakpoint, score['accuracy'], score[model.loss_fn]))\n",
    "    score['checkpoint'] = century + breakpoint\n",
    "    checkpoints.append(score)\n",
    "    history.extend(sub_history)"
   ]
  },
  {
   "cell_type": "code",
   "execution_count": 9,
   "metadata": {},
   "outputs": [],
   "source": [
    "import matplotlib.pyplot as plt\n",
    "\n",
    "def draw_plot(x, y_list, x_label=None, y_label=None, legend=None, title=None):\n",
    "    fig, ax = plt.subplots(figsize=(12,5))\n",
    "    for xi, yi in zip(x, y_list):\n",
    "        ax.plot(xi, yi)\n",
    "    if x_label is not None and y_label is not None:\n",
    "        ax.set(xlabel=x_label, ylabel=y_label, title='{} VS {}'.format(x_label, y_label))\n",
    "    if legend is not None:\n",
    "        ax.legend(legend)\n",
    "    ax.grid()\n",
    "    plt.show()"
   ]
  },
  {
   "cell_type": "code",
   "execution_count": 10,
   "metadata": {},
   "outputs": [
    {
     "name": "stdout",
     "output_type": "stream",
     "text": [
      "[1. 0. 0.] <-> [0.9585219 0.0121839 0.0292942]\n",
      "[1. 0. 0.] <-> [0.9455865  0.03693459 0.01747889]\n",
      "[0. 0. 1.] <-> [0.19601841 0.01430393 0.7896776 ]\n",
      "[1. 0. 0.] <-> [0.8403468  0.0249154  0.13473785]\n",
      "[0. 0. 1.] <-> [0.6750844 0.0092636 0.315652 ]\n",
      "[1. 0. 0.] <-> [0.9458058  0.03371241 0.02048179]\n",
      "[1. 0. 0.] <-> [0.95337194 0.02225028 0.02437772]\n",
      "[0. 1. 0.] <-> [0.14144889 0.85142493 0.00712617]\n",
      "[1. 0. 0.] <-> [0.9437376  0.02367231 0.03259014]\n",
      "[1. 0. 0.] <-> [0.87646043 0.01487016 0.1086695 ]\n",
      "[1. 0. 0.] <-> [0.93763983 0.01039996 0.05196024]\n",
      "[1. 0. 0.] <-> [0.8779627  0.01510883 0.10692853]\n",
      "[1. 0. 0.] <-> [0.90624285 0.04598715 0.04776993]\n",
      "[1. 0. 0.] <-> [0.6793321  0.2917692  0.02889876]\n",
      "[0. 1. 0.] <-> [0.3037209  0.67806435 0.01821473]\n",
      "[1. 0. 0.] <-> [0.7493646  0.01532531 0.23531006]\n",
      "[1. 0. 0.] <-> [0.9471651  0.02114131 0.03169364]\n",
      "[1. 0. 0.] <-> [0.9570866  0.01361995 0.02929339]\n",
      "[1. 0. 0.] <-> [0.8705412  0.0153085  0.11415035]\n",
      "[0. 0. 1.] <-> [0.06674934 0.0041625  0.9290882 ]\n",
      "[0. 1. 0.] <-> [0.089563   0.9048196  0.00561734]\n",
      "[1. 0. 0.] <-> [0.83830833 0.14990231 0.0117893 ]\n",
      "[1. 0. 0.] <-> [0.9333378  0.0196526  0.04700957]\n",
      "[0. 0. 1.] <-> [0.06817643 0.0047218  0.9271018 ]\n",
      "[1. 0. 0.] <-> [0.8856079  0.0899082  0.02448394]\n",
      "[1. 0. 0.] <-> [0.90756494 0.05505361 0.03738141]\n",
      "[1. 0. 0.] <-> [0.9536685  0.02268576 0.02364585]\n",
      "[0. 1. 0.] <-> [0.55735725 0.4272675  0.01537529]\n",
      "[1. 0. 0.] <-> [0.90678823 0.01893338 0.07427834]\n",
      "[0. 1. 0.] <-> [0.09839908 0.89496845 0.00663255]\n",
      "[1. 0. 0.] <-> [0.93481874 0.03329842 0.03188283]\n",
      "[0. 1. 0.] <-> [0.21145234 0.77182895 0.01671875]\n",
      "[1. 0. 0.] <-> [0.92946845 0.01242915 0.0581024 ]\n",
      "[1. 0. 0.] <-> [0.8612105  0.10306726 0.03572229]\n",
      "[1. 0. 0.] <-> [0.6743461  0.02259859 0.30305526]\n",
      "[0. 1. 0.] <-> [0.6102464  0.36315468 0.02659897]\n",
      "[1. 0. 0.] <-> [0.7744982  0.02966153 0.19584021]\n",
      "[1. 0. 0.] <-> [0.9370106  0.02432636 0.03866306]\n",
      "[1. 0. 0.] <-> [0.82851833 0.14758302 0.02389866]\n",
      "[1. 0. 0.] <-> [0.9481172  0.02320144 0.02868136]\n",
      "[1. 0. 0.] <-> [0.9027096  0.07480247 0.02248792]\n",
      "[1. 0. 0.] <-> [0.92238235 0.04717265 0.03044495]\n",
      "[1. 0. 0.] <-> [0.8679347  0.04320379 0.08886148]\n",
      "[1. 0. 0.] <-> [0.9358286  0.02433608 0.03983535]\n",
      "[1. 0. 0.] <-> [0.9072249  0.02773543 0.06503963]\n",
      "[0. 1. 0.] <-> [0.09152046 0.9027256  0.00575399]\n",
      "[1. 0. 0.] <-> [0.88562226 0.09480246 0.01957526]\n",
      "[1. 0. 0.] <-> [0.92054427 0.01910674 0.06034905]\n",
      "[0. 1. 0.] <-> [0.08435877 0.91136795 0.00427332]\n",
      "[1. 0. 0.] <-> [0.9154592  0.0237224  0.06081845]\n",
      "[0. 0. 1.] <-> [0.07525897 0.00532921 0.91941184]\n",
      "[1. 0. 0.] <-> [0.92640835 0.01337263 0.06021906]\n",
      "[1. 0. 0.] <-> [0.910848   0.00958146 0.07957053]\n",
      "[0. 1. 0.] <-> [0.69960284 0.2806519  0.01974522]\n",
      "[1. 0. 0.] <-> [0.9118001 0.0153934 0.0728065]\n",
      "[1. 0. 0.] <-> [0.955706   0.01259131 0.03170267]\n",
      "[1. 0. 0.] <-> [0.77131677 0.0267316  0.20195165]\n",
      "[1. 0. 0.] <-> [0.8992861  0.06021676 0.04049723]\n",
      "[0. 1. 0.] <-> [0.40474367 0.58164066 0.01361569]\n",
      "[0. 0. 1.] <-> [0.06106435 0.0038453  0.93509036]\n",
      "[1. 0. 0.] <-> [0.9527663  0.01870774 0.02852599]\n",
      "[1. 0. 0.] <-> [0.94893605 0.02386943 0.02719451]\n",
      "[1. 0. 0.] <-> [0.9077627  0.01427505 0.07796232]\n",
      "[1. 0. 0.] <-> [0.94232774 0.03523595 0.02243628]\n",
      "[1. 0. 0.] <-> [0.8722132  0.10449498 0.02329186]\n",
      "[1. 0. 0.] <-> [0.8694424  0.0178674  0.11269028]\n",
      "[1. 0. 0.] <-> [0.9015652  0.01348392 0.08495092]\n",
      "[0. 0. 1.] <-> [0.08028851 0.00711664 0.9125948 ]\n",
      "[1. 0. 0.] <-> [0.69280744 0.01747391 0.28971875]\n",
      "[0. 1. 0.] <-> [0.08310088 0.9129421  0.00395696]\n",
      "[1. 0. 0.] <-> [0.93247217 0.01781385 0.04971404]\n",
      "[0. 1. 0.] <-> [0.27260676 0.70939547 0.01799777]\n",
      "[1. 0. 0.] <-> [0.9448696  0.01253012 0.04260027]\n",
      "[0. 0. 1.] <-> [0.07844233 0.00510497 0.9164527 ]\n",
      "[0. 0. 1.] <-> [0.06551451 0.00446125 0.9300242 ]\n",
      "[1. 0. 0.] <-> [0.9240793  0.01515497 0.06076571]\n",
      "[1. 0. 0.] <-> [0.9390562  0.02875435 0.03218946]\n",
      "[1. 0. 0.] <-> [0.83280855 0.02717714 0.14001437]\n",
      "[0. 0. 1.] <-> [0.05760154 0.00344593 0.93895257]\n",
      "[1. 0. 0.] <-> [0.9444842  0.01822029 0.03729555]\n",
      "[1. 0. 0.] <-> [0.9495239  0.01057682 0.03989928]\n",
      "[0. 1. 0.] <-> [0.0948441  0.90019226 0.00496364]\n",
      "[1. 0. 0.] <-> [0.9410862  0.00919987 0.04971397]\n",
      "[0. 0. 1.] <-> [0.06577218 0.00439543 0.92983234]\n",
      "[0. 1. 0.] <-> [0.14315315 0.8454379  0.01140899]\n",
      "[1. 0. 0.] <-> [0.9241523  0.01036474 0.06548298]\n",
      "[1. 0. 0.] <-> [0.9352491  0.02717454 0.03757633]\n",
      "[1. 0. 0.] <-> [0.92880654 0.01410003 0.05709346]\n",
      "[0. 0. 1.] <-> [0.8613513  0.00841933 0.13022941]\n",
      "[1. 0. 0.] <-> [0.9251782  0.05079951 0.02402229]\n",
      "[1. 0. 0.] <-> [0.92425495 0.02446217 0.05128293]\n",
      "[1. 0. 0.] <-> [0.9371405  0.01319384 0.04966566]\n",
      "[1. 0. 0.] <-> [0.27123135 0.02122726 0.7075414 ]\n",
      "[1. 0. 0.] <-> [0.94074994 0.04130972 0.01794034]\n",
      "[1. 0. 0.] <-> [0.93485415 0.03747451 0.02767138]\n",
      "[1. 0. 0.] <-> [0.9394259  0.02581036 0.03476375]\n",
      "[1. 0. 0.] <-> [0.898236   0.02578711 0.07597696]\n",
      "[0. 0. 1.] <-> [0.08875544 0.00714305 0.9041015 ]\n",
      "[1. 0. 0.] <-> [0.9444519  0.03553014 0.02001794]\n",
      "[1. 0. 0.] <-> [0.95272064 0.02473441 0.02254495]\n",
      "[1. 0. 0.] <-> [0.9301669  0.01059907 0.05923399]\n",
      "[1. 0. 0.] <-> [0.9399055  0.03361983 0.02647464]\n",
      "[1. 0. 0.] <-> [0.94436485 0.04238875 0.0132464 ]\n",
      "[1. 0. 0.] <-> [0.9122138  0.02903506 0.05875108]\n",
      "[1. 0. 0.] <-> [0.9438833  0.02279238 0.03332424]\n",
      "[1. 0. 0.] <-> [0.9426915  0.01925783 0.03805075]\n",
      "[1. 0. 0.] <-> [0.8632012  0.01248695 0.12431196]\n",
      "[1. 0. 0.] <-> [0.9247377  0.00895586 0.06630646]\n",
      "{'accuracy': 0.9629629629629629, 'mean_square_error': 0.0819950394872236, 'categorical_crossentropy': 0.17864944316722728, 'essential_metrics': {0: {'tp_hit': 79, 'fp_hit': 5, 'tn_hit': 23, 'fn_hit': 1}, 1: {'tp_hit': 12, 'fp_hit': 0, 'tn_hit': 93, 'fn_hit': 3}, 2: {'tp_hit': 11, 'fp_hit': 1, 'tn_hit': 94, 'fn_hit': 2}}}\n"
     ]
    }
   ],
   "source": [
    "# recall phase\n",
    "score = model.evaluate(x_test, y_test, False)\n",
    "print(score)"
   ]
  },
  {
   "cell_type": "code",
   "execution_count": 11,
   "metadata": {},
   "outputs": [
    {
     "data": {
      "image/png": "[encoded data removed]",
      "text/plain": [
       "<Figure size 864x360 with 1 Axes>"
      ]
     },
     "metadata": {
      "needs_background": "light"
     },
     "output_type": "display_data"
    },
    {
     "data": {
      "image/png": "[encoded data removed]",
      "text/plain": [
       "<Figure size 864x360 with 1 Axes>"
      ]
     },
     "metadata": {
      "needs_background": "light"
     },
     "output_type": "display_data"
    }
   ],
   "source": [
    "draw_plot(x = [[i for i in range(len(history))], [(i+1)*breakpoint for i in range(len(checkpoints))]], y_list = [history, [ ckp[model.loss_fn] for ckp in checkpoints ]], x_label = 'Epochs', \\\n",
    "    y_label = model.loss_fn, legend=['train', 'test'])\n",
    "acc = [ ckp['accuracy'] for ckp in checkpoints ]\n",
    "draw_plot(x = [[(i+1)*breakpoint for i in range(len(checkpoints))]], y_list = [acc], x_label = 'Checkpoints', \\\n",
    "    y_label = 'accuracy')"
   ]
  },
  {
   "cell_type": "code",
   "execution_count": 12,
   "metadata": {},
   "outputs": [
    {
     "name": "stdout",
     "output_type": "stream",
     "text": [
      "{'accuracy': 0.9629629629629629, 'mean_square_error': 0.09466991766187419, 'categorical_crossentropy': 0.21445911901968498, 'essential_metrics': {0: {'tp_hit': 80, 'fp_hit': 6, 'tn_hit': 22, 'fn_hit': 0}, 1: {'tp_hit': 12, 'fp_hit': 0, 'tn_hit': 93, 'fn_hit': 3}, 2: {'tp_hit': 10, 'fp_hit': 0, 'tn_hit': 95, 'fn_hit': 3}}, 'checkpoint': 100} \n",
      "\n",
      "\n",
      "{'accuracy': 0.9629629629629629, 'mean_square_error': 0.07714482042503039, 'categorical_crossentropy': 0.17323762399178963, 'essential_metrics': {0: {'tp_hit': 79, 'fp_hit': 5, 'tn_hit': 23, 'fn_hit': 1}, 1: {'tp_hit': 12, 'fp_hit': 0, 'tn_hit': 93, 'fn_hit': 3}, 2: {'tp_hit': 11, 'fp_hit': 1, 'tn_hit': 94, 'fn_hit': 2}}, 'checkpoint': 200} \n",
      "\n",
      "\n",
      "{'accuracy': 0.9691358024691358, 'mean_square_error': 0.07845957656191295, 'categorical_crossentropy': 0.18093019061618382, 'essential_metrics': {0: {'tp_hit': 79, 'fp_hit': 4, 'tn_hit': 24, 'fn_hit': 1}, 1: {'tp_hit': 13, 'fp_hit': 0, 'tn_hit': 93, 'fn_hit': 2}, 2: {'tp_hit': 11, 'fp_hit': 1, 'tn_hit': 94, 'fn_hit': 2}}, 'checkpoint': 300} \n",
      "\n",
      "\n",
      "{'accuracy': 0.9691358024691358, 'mean_square_error': 0.07209310934188519, 'categorical_crossentropy': 0.16437578201293945, 'essential_metrics': {0: {'tp_hit': 79, 'fp_hit': 4, 'tn_hit': 24, 'fn_hit': 1}, 1: {'tp_hit': 13, 'fp_hit': 0, 'tn_hit': 93, 'fn_hit': 2}, 2: {'tp_hit': 11, 'fp_hit': 1, 'tn_hit': 94, 'fn_hit': 2}}, 'checkpoint': 400} \n",
      "\n",
      "\n",
      "{'accuracy': 0.9629629629629629, 'mean_square_error': 0.0819950394872236, 'categorical_crossentropy': 0.17864944316722728, 'essential_metrics': {0: {'tp_hit': 79, 'fp_hit': 5, 'tn_hit': 23, 'fn_hit': 1}, 1: {'tp_hit': 12, 'fp_hit': 0, 'tn_hit': 93, 'fn_hit': 3}, 2: {'tp_hit': 11, 'fp_hit': 1, 'tn_hit': 94, 'fn_hit': 2}}, 'checkpoint': 500} \n",
      "\n",
      "\n"
     ]
    }
   ],
   "source": [
    "for checkpoint in checkpoints:\n",
    "    print(checkpoint, '\\n\\n')"
   ]
  },
  {
   "cell_type": "code",
   "execution_count": 13,
   "metadata": {},
   "outputs": [
    {
     "name": "stdout",
     "output_type": "stream",
     "text": [
      "Layer 1\n",
      "Neuron 0: weights:\n",
      "[-0.4058893   1.4719635  -0.02048027 -0.04382642 -0.08884252]\n",
      " bias: 0.1174306571483612\n",
      "\n",
      "Neuron 1: weights:\n",
      "[ 0.02314779 -0.7444377  -0.07868313  1.5303478   1.8295193 ]\n",
      " bias: -0.9767355918884277\n",
      "\n",
      "Neuron 2: weights:\n",
      "[ 1.270909   -2.2345731  -1.42226    -0.05900818  0.08433119]\n",
      " bias: 1.3460536003112793\n",
      "\n",
      "Neuron 3: weights:\n",
      "[ 0.03406564  0.00724281  0.03175688 -0.0534853  -0.04479057]\n",
      " bias: -0.010205777361989021\n",
      "\n",
      "$\n",
      "Layer 2\n",
      "Neuron 0: weights:\n",
      "[ 0.15045375 -3.          3.         -0.06936418]\n",
      " bias: 0.02242753654718399\n",
      "\n",
      "Neuron 1: weights:\n",
      "[ 2.4200375  -0.03303754 -3.          0.02842114]\n",
      " bias: 0.11123120784759521\n",
      "\n",
      "Neuron 2: weights:\n",
      "[-2.985487    3.         -0.02876089  0.06675396]\n",
      " bias: -0.09754480421543121\n",
      "\n",
      "$\n",
      "\n"
     ]
    }
   ],
   "source": [
    "print(model)"
   ]
  }
 ],
 "metadata": {
  "kernelspec": {
   "display_name": "Python 3",
   "language": "python",
   "name": "python3"
  },
  "language_info": {
   "codemirror_mode": {
    "name": "ipython",
    "version": 3
   },
   "file_extension": ".py",
   "mimetype": "text/x-python",
   "name": "python",
   "nbconvert_exporter": "python",
   "pygments_lexer": "ipython3",
   "version": "3.6.10"
  }
 },
 "nbformat": 4,
 "nbformat_minor": 2
}
