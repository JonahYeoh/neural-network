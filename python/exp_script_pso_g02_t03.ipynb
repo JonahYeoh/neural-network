{
 "cells": [
  {
   "cell_type": "code",
   "execution_count": 1,
   "metadata": {},
   "outputs": [],
   "source": [
    "# dependency\n",
    "import numpy as np\n",
    "import pandas as pd\n",
    "import copy\n",
    "import math\n",
    "import sys\n",
    "import os\n",
    "from activations import relu, leaky_relu, sigmoid, tanh, softmax, d_sigmoid, d_relu\n",
    "from initializers import glorot_uniform, random_normal, random_uniform\n",
    "from regularizers import l1_regularizer, l2_regularizer\n",
    "from utility import trim_tail, multiply, subtract, get_nparams, one_hot_encoding, get_data\n",
    "from metrics import MSE, CCE, ACC, PRECISION, RECALL, essential_metrics, wondering_penalty, close_gap_penalty\n",
    "from pso import PSO\n",
    "from ga import GA\n",
    "from nn import Network\n",
    "from layer import DenseLayer\n",
    "from scalers import MinMaxScaler, StandardScaler"
   ]
  },
  {
   "cell_type": "code",
   "execution_count": 2,
   "metadata": {},
   "outputs": [],
   "source": [
    "# reference\n",
    "metrics_fn_dict = dict()\n",
    "metrics_fn_dict['accuracy'] = ACC\n",
    "metrics_fn_dict['categorical_crossentropy'] = CCE\n",
    "metrics_fn_dict['mean_square_error'] = MSE\n",
    "metrics_fn_dict['precision'] = PRECISION\n",
    "metrics_fn_dict['recall'] = RECALL\n",
    "metrics_fn_dict['essential_metrics'] = essential_metrics"
   ]
  },
  {
   "cell_type": "code",
   "execution_count": 3,
   "metadata": {},
   "outputs": [],
   "source": [
    "# model\n",
    "model = Network(5, lr = None)\n",
    "model.add_layer(DenseLayer(1, 4, True, afn=sigmoid, dafn=None, rfn=None))\n",
    "model.add_layer(DenseLayer(2, 3, True, afn=softmax, dafn=None, rfn=None))"
   ]
  },
  {
   "cell_type": "code",
   "execution_count": 4,
   "metadata": {},
   "outputs": [],
   "source": [
    "pso = PSO(dict(m = 50,\n",
    "    weight_constraint = [-3, 3], \n",
    "    velocity_constraint = [-0.1, 0.1],\n",
    "    c1 = 2,\n",
    "    c2 = 2,\n",
    "    w = 1,\n",
    "    w_decay = 1,\n",
    "    scale_hyperparameter = False,\n",
    "    regularizer = l1_regularizer,\n",
    "    mask = True))"
   ]
  },
  {
   "cell_type": "code",
   "execution_count": 5,
   "metadata": {},
   "outputs": [
    {
     "name": "stdout",
     "output_type": "stream",
     "text": [
      "building layer 1 with 5\n",
      "24\n",
      "building layer 2 with 4\n",
      "15\n"
     ]
    }
   ],
   "source": [
    "model.compile(loss_fn = 'categorical_crossentropy', optimizer = pso, \\\n",
    "    metrics = ['accuracy', 'mean_square_error', 'categorical_crossentropy'])"
   ]
  },
  {
   "cell_type": "code",
   "execution_count": 6,
   "metadata": {},
   "outputs": [
    {
     "name": "stdout",
     "output_type": "stream",
     "text": [
      "<class 'pandas.core.frame.DataFrame'>\n",
      "RangeIndex: 107 entries, 0 to 106\n",
      "Data columns (total 6 columns):\n",
      " #   Column  Non-Null Count  Dtype  \n",
      "---  ------  --------------  -----  \n",
      " 0   f1      107 non-null    float32\n",
      " 1   f2      107 non-null    float32\n",
      " 2   f3      107 non-null    float32\n",
      " 3   f4      107 non-null    float32\n",
      " 4   f5      107 non-null    float32\n",
      " 5   label   107 non-null    float32\n",
      "dtypes: float32(6)\n",
      "memory usage: 2.6 KB\n",
      "None\n",
      "<class 'pandas.core.frame.DataFrame'>\n",
      "RangeIndex: 108 entries, 0 to 107\n",
      "Data columns (total 6 columns):\n",
      " #   Column  Non-Null Count  Dtype  \n",
      "---  ------  --------------  -----  \n",
      " 0   f1      108 non-null    float32\n",
      " 1   f2      108 non-null    float32\n",
      " 2   f3      108 non-null    float32\n",
      " 3   f4      108 non-null    float32\n",
      " 4   f5      108 non-null    float32\n",
      " 5   label   108 non-null    float32\n",
      "dtypes: float32(6)\n",
      "memory usage: 2.7 KB\n",
      "None\n"
     ]
    }
   ],
   "source": [
    "# data loading\n",
    "DATA = os.path.join('c:\\\\Users\\\\tcumi\\\\github_repo\\\\neural-network\\\\', 'dataset')\n",
    "GROUP = 2\n",
    "COLUMNS = ['f1', 'f2', 'f3', 'f4', 'f5', 'label']\n",
    "N_CLASS = 3\n",
    "EPOCHS = 500\n",
    "train_dir, test_dir = \"..//dataset//training_data{}.txt\".format(GROUP), \"..//dataset//testing_data{}.txt\".format(GROUP)\n",
    "train, test = get_data(DATA, train_dir, COLUMNS), get_data(DATA, test_dir, COLUMNS)\n",
    "# shuffle\n",
    "train, test = train.sample(frac=1), test.sample(frac=1)\n",
    "x_train, y_train = train.drop('label', axis=1), train['label']\n",
    "x_test, y_test = test.drop('label', axis=1), test['label']"
   ]
  },
  {
   "cell_type": "code",
   "execution_count": 7,
   "metadata": {},
   "outputs": [],
   "source": [
    "# data scaling and encoding\n",
    "scaler = StandardScaler(['f1', 'f2', 'f3', 'f4', 'f5'])\n",
    "scaler.fit(x_train)\n",
    "x_train = scaler.transform(x_train)\n",
    "x_test = scaler.transform(x_test)\n",
    "y_train = one_hot_encoding(y_train, N_CLASS)\n",
    "y_test = one_hot_encoding(y_test, N_CLASS)"
   ]
  },
  {
   "cell_type": "code",
   "execution_count": 8,
   "metadata": {
    "tags": [
     "outputPrepend"
    ]
   },
   "outputs": [
    {
     "name": "stdout",
     "output_type": "stream",
     "text": [
      "Checkpoint 100, Accuracy: 0.9382716049382716, Loss: 0.34788502587212455\n",
      "Checkpoint 200, Accuracy: 0.9629629629629629, Loss: 0.17529296875\n",
      "Checkpoint 300, Accuracy: 0.9629629629629629, Loss: 0.18297190136379665\n",
      "Checkpoint 400, Accuracy: 0.9753086419753086, Loss: 0.16189917811640986\n",
      "Checkpoint 500, Accuracy: 0.9691358024691358, Loss: 0.17452059851752388\n"
     ]
    }
   ],
   "source": [
    "# learning phase\n",
    "breakpoint = 100\n",
    "checkpoints = list()\n",
    "history = list()\n",
    "for century in range(0, EPOCHS, breakpoint):\n",
    "    sub_history = model.fit(x_train, y_train, breakpoint, verbose = 0)\n",
    "    score = model.evaluate(x_test, y_test, False, verbose = 0)\n",
    "    print('Checkpoint {}, Accuracy: {}, Loss: {}'.format(century+breakpoint, score['accuracy'], score[model.loss_fn]))\n",
    "    score['checkpoint'] = century + breakpoint\n",
    "    checkpoints.append(score)\n",
    "    history.extend(sub_history)"
   ]
  },
  {
   "cell_type": "code",
   "execution_count": 9,
   "metadata": {},
   "outputs": [],
   "source": [
    "import matplotlib.pyplot as plt\n",
    "\n",
    "def draw_plot(x, y_list, x_label=None, y_label=None, legend=None, title=None):\n",
    "    fig, ax = plt.subplots(figsize=(12,5))\n",
    "    for xi, yi in zip(x, y_list):\n",
    "        ax.plot(xi, yi)\n",
    "    if x_label is not None and y_label is not None:\n",
    "        ax.set(xlabel=x_label, ylabel=y_label, title='{} VS {}'.format(x_label, y_label))\n",
    "    if legend is not None:\n",
    "        ax.legend(legend)\n",
    "    ax.grid()\n",
    "    plt.show()"
   ]
  },
  {
   "cell_type": "code",
   "execution_count": 10,
   "metadata": {},
   "outputs": [
    {
     "name": "stdout",
     "output_type": "stream",
     "text": [
      "[1. 0. 0.] <-> [0.8870016  0.04515574 0.06784264]\n",
      "[1. 0. 0.] <-> [0.9444897  0.0193802  0.03613004]\n",
      "[1. 0. 0.] <-> [0.8654826  0.11204641 0.02247101]\n",
      "[1. 0. 0.] <-> [0.9158725  0.03128459 0.05284291]\n",
      "[1. 0. 0.] <-> [0.93006265 0.04175704 0.0281803 ]\n",
      "[0. 1. 0.] <-> [0.14888318 0.8386505  0.01246626]\n",
      "[1. 0. 0.] <-> [0.9037329  0.04201391 0.05425317]\n",
      "[1. 0. 0.] <-> [0.77932453 0.03937979 0.18129565]\n",
      "[1. 0. 0.] <-> [0.813428   0.17329545 0.01327648]\n",
      "[1. 0. 0.] <-> [0.9113209  0.05787484 0.03080419]\n",
      "[1. 0. 0.] <-> [0.88832295 0.09141411 0.020263  ]\n",
      "[1. 0. 0.] <-> [0.9188395  0.03760996 0.04355046]\n",
      "[1. 0. 0.] <-> [0.9615646  0.01877617 0.01965919]\n",
      "[1. 0. 0.] <-> [0.9581906  0.02446999 0.01733935]\n",
      "[1. 0. 0.] <-> [0.87728417 0.05771163 0.06500414]\n",
      "[0. 1. 0.] <-> [0.0566634  0.93551856 0.00781805]\n",
      "[1. 0. 0.] <-> [0.922449  0.0230713 0.0544797]\n",
      "[1. 0. 0.] <-> [0.93718415 0.03748482 0.02533098]\n",
      "[1. 0. 0.] <-> [0.9320951  0.05744684 0.01045809]\n",
      "[0. 0. 1.] <-> [0.04771201 0.02350457 0.92878336]\n",
      "[1. 0. 0.] <-> [0.898911   0.08503165 0.01605728]\n",
      "[1. 0. 0.] <-> [0.91746897 0.06913994 0.01339106]\n",
      "[1. 0. 0.] <-> [0.9259521  0.02232671 0.05172117]\n",
      "[1. 0. 0.] <-> [0.93811315 0.04724332 0.01464348]\n",
      "[0. 0. 1.] <-> [0.14829977 0.0177555  0.8339447 ]\n",
      "[1. 0. 0.] <-> [0.8817996  0.02690392 0.09129657]\n",
      "[1. 0. 0.] <-> [0.83303523 0.03753413 0.12943067]\n",
      "[1. 0. 0.] <-> [0.89732695 0.08507836 0.01759466]\n",
      "[1. 0. 0.] <-> [0.8996931  0.02152786 0.07877902]\n",
      "[1. 0. 0.] <-> [0.90857345 0.06271274 0.02871382]\n",
      "[0. 0. 1.] <-> [0.5820626  0.03128989 0.38664746]\n",
      "[0. 1. 0.] <-> [0.5619635  0.42371616 0.01432035]\n",
      "[1. 0. 0.] <-> [0.3622499  0.03257119 0.60517883]\n",
      "[1. 0. 0.] <-> [0.9600508  0.02336325 0.01658602]\n",
      "[1. 0. 0.] <-> [0.933781   0.02950294 0.03671601]\n",
      "[1. 0. 0.] <-> [0.9499284  0.02995314 0.02011833]\n",
      "[1. 0. 0.] <-> [0.85444474 0.03704379 0.10851137]\n",
      "[0. 1. 0.] <-> [0.1470363  0.843321   0.00964273]\n",
      "[1. 0. 0.] <-> [0.938356   0.04306539 0.0185786 ]\n",
      "[0. 0. 1.] <-> [0.05916005 0.02679445 0.9140455 ]\n",
      "[0. 1. 0.] <-> [0.05254692 0.94038886 0.00706432]\n",
      "[1. 0. 0.] <-> [0.6649555  0.03979708 0.2952474 ]\n",
      "[1. 0. 0.] <-> [0.89506716 0.05968143 0.04525137]\n",
      "[1. 0. 0.] <-> [0.6373014  0.04014883 0.32254982]\n",
      "[0. 1. 0.] <-> [0.4588639  0.5237317  0.01740438]\n",
      "[1. 0. 0.] <-> [0.9307465  0.02331195 0.04594161]\n",
      "[1. 0. 0.] <-> [0.93353206 0.02609861 0.04036931]\n",
      "[1. 0. 0.] <-> [0.95259297 0.03104544 0.01636159]\n",
      "[0. 0. 1.] <-> [0.8389243  0.02365826 0.13741738]\n",
      "[1. 0. 0.] <-> [0.9341024  0.03685645 0.0290411 ]\n",
      "[1. 0. 0.] <-> [0.88393754 0.0430638  0.07299871]\n",
      "[1. 0. 0.] <-> [0.89686865 0.02879067 0.07434075]\n",
      "[1. 0. 0.] <-> [0.87168235 0.02661677 0.10170088]\n",
      "[0. 1. 0.] <-> [0.29562217 0.6882193  0.01615854]\n",
      "[0. 1. 0.] <-> [0.19893658 0.7861455  0.01491789]\n",
      "[1. 0. 0.] <-> [0.75605875 0.03569205 0.20824915]\n",
      "[0. 1. 0.] <-> [0.02789138 0.9669825  0.00512606]\n",
      "[1. 0. 0.] <-> [0.92329246 0.02591964 0.05078785]\n",
      "[1. 0. 0.] <-> [0.89392287 0.03233746 0.07373963]\n",
      "[1. 0. 0.] <-> [0.89778554 0.07127359 0.03094084]\n",
      "[1. 0. 0.] <-> [0.93089837 0.04361743 0.02548424]\n",
      "[1. 0. 0.] <-> [0.95315367 0.02860087 0.01824558]\n",
      "[1. 0. 0.] <-> [0.939726   0.02038181 0.03989223]\n",
      "[1. 0. 0.] <-> [0.9293602  0.05012836 0.02051133]\n",
      "[1. 0. 0.] <-> [0.9508579  0.02695475 0.02218735]\n",
      "[1. 0. 0.] <-> [0.9475517  0.04152038 0.01092796]\n",
      "[1. 0. 0.] <-> [0.8816904  0.09135851 0.02695112]\n",
      "[1. 0. 0.] <-> [0.9444591  0.02443558 0.03110539]\n",
      "[0. 1. 0.] <-> [0.02766474 0.96754843 0.00478689]\n",
      "[0. 1. 0.] <-> [0.03313754 0.9601263  0.00673614]\n",
      "[1. 0. 0.] <-> [0.9300091  0.04119781 0.02879304]\n",
      "[1. 0. 0.] <-> [0.8264195  0.04337455 0.13020599]\n",
      "[1. 0. 0.] <-> [0.90711474 0.07716509 0.0157201 ]\n",
      "[1. 0. 0.] <-> [0.9504598  0.03792303 0.01161716]\n",
      "[1. 0. 0.] <-> [0.9088439  0.06824537 0.02291078]\n",
      "[1. 0. 0.] <-> [0.8662071  0.02687674 0.1069162 ]\n",
      "[1. 0. 0.] <-> [0.9469854  0.02512793 0.02788663]\n",
      "[0. 1. 0.] <-> [0.3884261 0.5976277 0.0139462]\n",
      "[0. 0. 1.] <-> [0.316433   0.02127496 0.662292  ]\n",
      "[1. 0. 0.] <-> [0.78309906 0.05220466 0.16469628]\n",
      "[1. 0. 0.] <-> [0.93730134 0.03201371 0.03068492]\n",
      "[0. 0. 1.] <-> [0.09287447 0.01852255 0.88860303]\n",
      "[0. 1. 0.] <-> [0.11639941 0.871379   0.01222157]\n",
      "[1. 0. 0.] <-> [0.9587202  0.02733392 0.01394594]\n",
      "[0. 1. 0.] <-> [0.05698321 0.9368533  0.00616351]\n",
      "[1. 0. 0.] <-> [0.94735897 0.02887461 0.02376637]\n",
      "[0. 0. 1.] <-> [0.0442596  0.02549442 0.93024594]\n",
      "[0. 0. 1.] <-> [0.09338655 0.02560416 0.8810093 ]\n",
      "[1. 0. 0.] <-> [0.94496465 0.03879685 0.01623856]\n",
      "[0. 0. 1.] <-> [0.04075944 0.02469637 0.9345442 ]\n",
      "[0. 0. 1.] <-> [0.04077419 0.02470926 0.9345165 ]\n",
      "[1. 0. 0.] <-> [0.72508806 0.25574479 0.01916718]\n",
      "[1. 0. 0.] <-> [0.9258873  0.03112308 0.0429897 ]\n",
      "[1. 0. 0.] <-> [0.91217613 0.03263753 0.0551863 ]\n",
      "[1. 0. 0.] <-> [0.89163214 0.02713107 0.08123677]\n",
      "[1. 0. 0.] <-> [0.903244   0.08022492 0.01653105]\n",
      "[1. 0. 0.] <-> [0.92231214 0.02840451 0.04928336]\n",
      "[0. 0. 1.] <-> [0.02626128 0.02997976 0.94375896]\n",
      "[1. 0. 0.] <-> [0.9566292  0.01989659 0.02347418]\n",
      "[1. 0. 0.] <-> [0.90003926 0.04215129 0.05780948]\n",
      "[1. 0. 0.] <-> [0.94768393 0.03816902 0.01414715]\n",
      "[1. 0. 0.] <-> [0.7543833  0.04538358 0.2002331 ]\n",
      "[1. 0. 0.] <-> [0.8137578  0.16251494 0.02372736]\n",
      "[1. 0. 0.] <-> [0.91723657 0.05118585 0.03157766]\n",
      "[1. 0. 0.] <-> [0.93512344 0.02408113 0.04079542]\n",
      "[0. 1. 0.] <-> [0.7184404  0.26279795 0.01876159]\n",
      "[0. 0. 1.] <-> [0.04446555 0.03543892 0.92009556]\n",
      "[1. 0. 0.] <-> [0.8383104  0.07043712 0.09125239]\n",
      "{'accuracy': 0.9691358024691358, 'mean_square_error': 0.07543024600271574, 'categorical_crossentropy': 0.17452059851752388, 'essential_metrics': {0: {'tp_hit': 79, 'fp_hit': 4, 'tn_hit': 24, 'fn_hit': 1}, 1: {'tp_hit': 13, 'fp_hit': 0, 'tn_hit': 93, 'fn_hit': 2}, 2: {'tp_hit': 11, 'fp_hit': 1, 'tn_hit': 94, 'fn_hit': 2}}}\n"
     ]
    }
   ],
   "source": [
    "# recall phase\n",
    "score = model.evaluate(x_test, y_test, False)\n",
    "print(score)"
   ]
  },
  {
   "cell_type": "code",
   "execution_count": 11,
   "metadata": {},
   "outputs": [
    {
     "data": {
      "image/png": "[encoded data removed]",
      "text/plain": [
       "<Figure size 864x360 with 1 Axes>"
      ]
     },
     "metadata": {
      "needs_background": "light"
     },
     "output_type": "display_data"
    },
    {
     "data": {
      "image/png": "[encoded data removed]",
      "text/plain": [
       "<Figure size 864x360 with 1 Axes>"
      ]
     },
     "metadata": {
      "needs_background": "light"
     },
     "output_type": "display_data"
    }
   ],
   "source": [
    "draw_plot(x = [[i for i in range(len(history))], [(i+1)*breakpoint for i in range(len(checkpoints))]], y_list = [history, [ ckp[model.loss_fn] for ckp in checkpoints ]], x_label = 'Epochs', \\\n",
    "    y_label = model.loss_fn, legend=['train', 'test'])\n",
    "acc = [ ckp['accuracy'] for ckp in checkpoints ]\n",
    "draw_plot(x = [[(i+1)*breakpoint for i in range(len(checkpoints))]], y_list = [acc], x_label = 'Checkpoints', \\\n",
    "    y_label = 'accuracy')"
   ]
  },
  {
   "cell_type": "code",
   "execution_count": 12,
   "metadata": {},
   "outputs": [
    {
     "name": "stdout",
     "output_type": "stream",
     "text": [
      "{'accuracy': 0.9382716049382716, 'mean_square_error': 0.1688461541784202, 'categorical_crossentropy': 0.34788502587212455, 'essential_metrics': {0: {'tp_hit': 79, 'fp_hit': 9, 'tn_hit': 19, 'fn_hit': 1}, 1: {'tp_hit': 8, 'fp_hit': 0, 'tn_hit': 93, 'fn_hit': 7}, 2: {'tp_hit': 11, 'fp_hit': 1, 'tn_hit': 94, 'fn_hit': 2}}, 'checkpoint': 100} \n",
      "\n",
      "\n",
      "{'accuracy': 0.9629629629629629, 'mean_square_error': 0.08240556505170991, 'categorical_crossentropy': 0.17529296875, 'essential_metrics': {0: {'tp_hit': 79, 'fp_hit': 5, 'tn_hit': 23, 'fn_hit': 1}, 1: {'tp_hit': 12, 'fp_hit': 0, 'tn_hit': 93, 'fn_hit': 3}, 2: {'tp_hit': 11, 'fp_hit': 1, 'tn_hit': 94, 'fn_hit': 2}}, 'checkpoint': 200} \n",
      "\n",
      "\n",
      "{'accuracy': 0.9629629629629629, 'mean_square_error': 0.08290988237898132, 'categorical_crossentropy': 0.18297190136379665, 'essential_metrics': {0: {'tp_hit': 79, 'fp_hit': 5, 'tn_hit': 23, 'fn_hit': 1}, 1: {'tp_hit': 12, 'fp_hit': 0, 'tn_hit': 93, 'fn_hit': 3}, 2: {'tp_hit': 11, 'fp_hit': 1, 'tn_hit': 94, 'fn_hit': 2}}, 'checkpoint': 300} \n",
      "\n",
      "\n",
      "{'accuracy': 0.9753086419753086, 'mean_square_error': 0.06930171481010773, 'categorical_crossentropy': 0.16189917811640986, 'essential_metrics': {0: {'tp_hit': 79, 'fp_hit': 3, 'tn_hit': 25, 'fn_hit': 1}, 1: {'tp_hit': 14, 'fp_hit': 0, 'tn_hit': 93, 'fn_hit': 1}, 2: {'tp_hit': 11, 'fp_hit': 1, 'tn_hit': 94, 'fn_hit': 2}}, 'checkpoint': 400} \n",
      "\n",
      "\n",
      "{'accuracy': 0.9691358024691358, 'mean_square_error': 0.07543024600271574, 'categorical_crossentropy': 0.17452059851752388, 'essential_metrics': {0: {'tp_hit': 79, 'fp_hit': 4, 'tn_hit': 24, 'fn_hit': 1}, 1: {'tp_hit': 13, 'fp_hit': 0, 'tn_hit': 93, 'fn_hit': 2}, 2: {'tp_hit': 11, 'fp_hit': 1, 'tn_hit': 94, 'fn_hit': 2}}, 'checkpoint': 500} \n",
      "\n",
      "\n"
     ]
    }
   ],
   "source": [
    "for checkpoint in checkpoints:\n",
    "    print(checkpoint, '\\n\\n')"
   ]
  },
  {
   "cell_type": "code",
   "execution_count": 13,
   "metadata": {},
   "outputs": [
    {
     "name": "stdout",
     "output_type": "stream",
     "text": [
      "Layer 1\n",
      "Neuron 0: weights:\n",
      "[-1.0959284   2.3141007   1.1837821  -0.06272054  0.05760007]\n",
      " bias: -1.3889421224594116\n",
      "\n",
      "Neuron 1: weights:\n",
      "[-0.1155419   1.877319    0.02894177 -0.32740915 -1.0896052 ]\n",
      " bias: 0.9837749004364014\n",
      "\n",
      "Neuron 2: weights:\n",
      "[ 0.03203661 -0.599       0.00622054  0.9264302   1.4599147 ]\n",
      " bias: -0.017535334452986717\n",
      "\n",
      "Neuron 3: weights:\n",
      "[-0.0252564  -0.52239895 -0.47764713 -1.186667   -0.05001651]\n",
      " bias: 0.021990759298205376\n",
      "\n",
      "$\n",
      "Layer 2\n",
      "Neuron 0: weights:\n",
      "[-3.         2.1613972 -0.6062906  3.       ]\n",
      " bias: -0.03816647082567215\n",
      "\n",
      "Neuron 1: weights:\n",
      "[ 3.0000000e+00 -1.1482506e-04 -4.4238073e-01 -9.7341633e-01]\n",
      " bias: 0.0806346908211708\n",
      "\n",
      "Neuron 2: weights:\n",
      "[-0.19587085 -2.5116832   3.         -0.054739  ]\n",
      " bias: 0.1046028882265091\n",
      "\n",
      "$\n",
      "\n"
     ]
    }
   ],
   "source": [
    "print(model)"
   ]
  }
 ],
 "metadata": {
  "kernelspec": {
   "display_name": "Python 3",
   "language": "python",
   "name": "python3"
  },
  "language_info": {
   "codemirror_mode": {
    "name": "ipython",
    "version": 3
   },
   "file_extension": ".py",
   "mimetype": "text/x-python",
   "name": "python",
   "nbconvert_exporter": "python",
   "pygments_lexer": "ipython3",
   "version": "3.6.10"
  }
 },
 "nbformat": 4,
 "nbformat_minor": 2
}
