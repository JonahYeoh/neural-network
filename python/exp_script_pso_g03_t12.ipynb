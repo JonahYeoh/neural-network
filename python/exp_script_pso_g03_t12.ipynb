{
 "cells": [
  {
   "cell_type": "code",
   "execution_count": 1,
   "metadata": {},
   "outputs": [],
   "source": [
    "# dependency\n",
    "import numpy as np\n",
    "import pandas as pd\n",
    "import copy\n",
    "import math\n",
    "import sys\n",
    "import os\n",
    "from activations import relu, leaky_relu, sigmoid, tanh, softmax, d_sigmoid, d_relu\n",
    "from initializers import glorot_uniform, random_normal, random_uniform\n",
    "from regularizers import l1_regularizer, l2_regularizer\n",
    "from utility import trim_tail, multiply, subtract, get_nparams, one_hot_encoding, get_data\n",
    "from metrics import MSE, CCE, ACC, PRECISION, RECALL, essential_metrics, wondering_penalty, close_gap_penalty\n",
    "from pso import PSO\n",
    "from ga import GA\n",
    "from nn import Network\n",
    "from layer import DenseLayer\n",
    "from scalers import MinMaxScaler, StandardScaler"
   ]
  },
  {
   "cell_type": "code",
   "execution_count": 2,
   "metadata": {},
   "outputs": [],
   "source": [
    "# reference\n",
    "metrics_fn_dict = dict()\n",
    "metrics_fn_dict['accuracy'] = ACC\n",
    "metrics_fn_dict['categorical_crossentropy'] = CCE\n",
    "metrics_fn_dict['mean_square_error'] = MSE\n",
    "metrics_fn_dict['precision'] = PRECISION\n",
    "metrics_fn_dict['recall'] = RECALL\n",
    "metrics_fn_dict['essential_metrics'] = essential_metrics"
   ]
  },
  {
   "cell_type": "code",
   "execution_count": 3,
   "metadata": {},
   "outputs": [],
   "source": [
    "# model\n",
    "model = Network(5, lr = None)\n",
    "model.add_layer(DenseLayer(1, 4, True, afn=sigmoid, dafn=None, rfn=None))\n",
    "model.add_layer(DenseLayer(2, 3, True, afn=softmax, dafn=None, rfn=None))"
   ]
  },
  {
   "cell_type": "code",
   "execution_count": 4,
   "metadata": {},
   "outputs": [
    {
     "name": "stdout",
     "output_type": "stream",
     "text": [
      "see one see two 2 2\n"
     ]
    }
   ],
   "source": [
    "pso = PSO(dict(m = 100,\n",
    "    weight_constraint = [-3, 3], \n",
    "    velocity_constraint = [-0.1, 0.1],\n",
    "    c1 = 2,\n",
    "    c2 = 2,\n",
    "    w = 1,\n",
    "    w_decay = 1,\n",
    "    scale_hyperparameter = False,\n",
    "    regularizer = None,\n",
    "    mask = True))"
   ]
  },
  {
   "cell_type": "code",
   "execution_count": 5,
   "metadata": {},
   "outputs": [
    {
     "name": "stdout",
     "output_type": "stream",
     "text": [
      "building layer 1 with 5\n",
      "24\n",
      "building layer 2 with 4\n",
      "15\n"
     ]
    }
   ],
   "source": [
    "model.compile(loss_fn = 'categorical_crossentropy', optimizer = pso, \\\n",
    "    metrics = ['accuracy', 'mean_square_error', 'categorical_crossentropy'])"
   ]
  },
  {
   "cell_type": "code",
   "execution_count": 6,
   "metadata": {},
   "outputs": [
    {
     "name": "stdout",
     "output_type": "stream",
     "text": [
      "<class 'pandas.core.frame.DataFrame'>\n",
      "RangeIndex: 107 entries, 0 to 106\n",
      "Data columns (total 6 columns):\n",
      " #   Column  Non-Null Count  Dtype  \n",
      "---  ------  --------------  -----  \n",
      " 0   f1      107 non-null    float32\n",
      " 1   f2      107 non-null    float32\n",
      " 2   f3      107 non-null    float32\n",
      " 3   f4      107 non-null    float32\n",
      " 4   f5      107 non-null    float32\n",
      " 5   label   107 non-null    float32\n",
      "dtypes: float32(6)\n",
      "memory usage: 2.6 KB\n",
      "None\n",
      "<class 'pandas.core.frame.DataFrame'>\n",
      "RangeIndex: 108 entries, 0 to 107\n",
      "Data columns (total 6 columns):\n",
      " #   Column  Non-Null Count  Dtype  \n",
      "---  ------  --------------  -----  \n",
      " 0   f1      108 non-null    float32\n",
      " 1   f2      108 non-null    float32\n",
      " 2   f3      108 non-null    float32\n",
      " 3   f4      108 non-null    float32\n",
      " 4   f5      108 non-null    float32\n",
      " 5   label   108 non-null    float32\n",
      "dtypes: float32(6)\n",
      "memory usage: 2.7 KB\n",
      "None\n"
     ]
    }
   ],
   "source": [
    "# data loading\n",
    "DATA = os.path.join('c:\\\\Users\\\\tcumi\\\\github_repo\\\\neural-network\\\\', 'dataset')\n",
    "GROUP = 3\n",
    "COLUMNS = ['f1', 'f2', 'f3', 'f4', 'f5', 'label']\n",
    "N_CLASS = 3\n",
    "EPOCHS = 500\n",
    "train_dir, test_dir = \"..//dataset//training_data{}.txt\".format(GROUP), \"..//dataset//testing_data{}.txt\".format(GROUP)\n",
    "train, test = get_data(DATA, train_dir, COLUMNS), get_data(DATA, test_dir, COLUMNS)\n",
    "# shuffle\n",
    "train, test = train.sample(frac=1), test.sample(frac=1)\n",
    "x_train, y_train = train.drop('label', axis=1), train['label']\n",
    "x_test, y_test = test.drop('label', axis=1), test['label']"
   ]
  },
  {
   "cell_type": "code",
   "execution_count": 7,
   "metadata": {},
   "outputs": [],
   "source": [
    "# data scaling and encoding\n",
    "scaler = StandardScaler(['f1', 'f2', 'f3', 'f4', 'f5'])\n",
    "scaler.fit(x_train)\n",
    "x_train = scaler.transform(x_train)\n",
    "x_test = scaler.transform(x_test)\n",
    "y_train = one_hot_encoding(y_train, N_CLASS)\n",
    "y_test = one_hot_encoding(y_test, N_CLASS)"
   ]
  },
  {
   "cell_type": "code",
   "execution_count": 8,
   "metadata": {
    "tags": [
     "outputPrepend"
    ]
   },
   "outputs": [
    {
     "name": "stdout",
     "output_type": "stream",
     "text": [
      "Checkpoint 100, Accuracy: 0.9197530864197531, Loss: 0.28775665495130753\n",
      "Checkpoint 200, Accuracy: 0.9691358024691358, Loss: 0.1078447765774197\n",
      "Checkpoint 300, Accuracy: 0.9691358024691358, Loss: 0.10132413440280491\n",
      "Checkpoint 400, Accuracy: 0.9691358024691358, Loss: 0.10469452540079753\n",
      "Checkpoint 500, Accuracy: 0.9753086419753086, Loss: 0.09830691196300366\n"
     ]
    }
   ],
   "source": [
    "# learning phase\n",
    "breakpoint = 100\n",
    "checkpoints = list()\n",
    "history = list()\n",
    "for century in range(0, EPOCHS, breakpoint):\n",
    "    sub_history = model.fit(x_train, y_train, breakpoint, verbose = 0)\n",
    "    score = model.evaluate(x_test, y_test, False, verbose = 0)\n",
    "    print('Checkpoint {}, Accuracy: {}, Loss: {}'.format(century+breakpoint, score['accuracy'], score[model.loss_fn]))\n",
    "    score['checkpoint'] = century + breakpoint\n",
    "    checkpoints.append(score)\n",
    "    history.extend(sub_history)"
   ]
  },
  {
   "cell_type": "code",
   "execution_count": 9,
   "metadata": {},
   "outputs": [],
   "source": [
    "import matplotlib.pyplot as plt\n",
    "\n",
    "def draw_plot(x, y_list, x_label=None, y_label=None, legend=None, title=None):\n",
    "    fig, ax = plt.subplots(figsize=(12,5))\n",
    "    for xi, yi in zip(x, y_list):\n",
    "        ax.plot(xi, yi)\n",
    "    if x_label is not None and y_label is not None:\n",
    "        ax.set(xlabel=x_label, ylabel=y_label, title='{} VS {}'.format(x_label, y_label))\n",
    "    if legend is not None:\n",
    "        ax.legend(legend)\n",
    "    ax.grid()\n",
    "    plt.show()"
   ]
  },
  {
   "cell_type": "code",
   "execution_count": 10,
   "metadata": {},
   "outputs": [
    {
     "name": "stdout",
     "output_type": "stream",
     "text": [
      "[1. 0. 0.] <-> [0.996917   0.00134339 0.00173959]\n",
      "[1. 0. 0.] <-> [0.57631356 0.42020765 0.00347882]\n",
      "[1. 0. 0.] <-> [0.99684083 0.00185818 0.00130094]\n",
      "[1. 0. 0.] <-> [0.997163   0.00137125 0.00146562]\n",
      "[1. 0. 0.] <-> [0.9868237  0.00137832 0.01179797]\n",
      "[0. 1. 0.] <-> [1.3780961e-02 9.8598427e-01 2.3483823e-04]\n",
      "[1. 0. 0.] <-> [0.9922646  0.00508899 0.00264646]\n",
      "[1. 0. 0.] <-> [0.9954314  0.0027702  0.00179839]\n",
      "[1. 0. 0.] <-> [0.9971119  0.0016096  0.00127856]\n",
      "[0. 1. 0.] <-> [5.0785124e-02 9.4859427e-01 6.2063453e-04]\n",
      "[1. 0. 0.] <-> [0.98209053 0.00138858 0.01652084]\n",
      "[1. 0. 0.] <-> [0.98588514 0.01227745 0.00183744]\n",
      "[1. 0. 0.] <-> [0.8342893  0.00141089 0.1642998 ]\n",
      "[0. 1. 0.] <-> [1.2637378e-02 9.8714602e-01 2.1663563e-04]\n",
      "[1. 0. 0.] <-> [0.98766077 0.00138619 0.01095305]\n",
      "[1. 0. 0.] <-> [0.97299135 0.02456005 0.00244849]\n",
      "[1. 0. 0.] <-> [0.9972083  0.00125061 0.00154114]\n",
      "[0. 0. 1.] <-> [4.4629164e-02 9.4834460e-05 9.5527601e-01]\n",
      "[0. 1. 0.] <-> [5.0758296e-03 9.9481481e-01 1.0932521e-04]\n",
      "[1. 0. 0.] <-> [0.99630153 0.00150043 0.002198  ]\n",
      "[1. 0. 0.] <-> [0.74427366 0.251566   0.00416033]\n",
      "[1. 0. 0.] <-> [0.53552127 0.00106129 0.46341744]\n",
      "[0. 0. 1.] <-> [1.08946785e-02 2.54586867e-05 9.89079893e-01]\n",
      "[1. 0. 0.] <-> [0.9957054  0.00169171 0.00260287]\n",
      "[0. 1. 0.] <-> [5.07577602e-03 9.94814813e-01 1.09338136e-04]\n",
      "[1. 0. 0.] <-> [0.99571615 0.00298702 0.00129682]\n",
      "[1. 0. 0.] <-> [0.9921847  0.00269318 0.00512212]\n",
      "[1. 0. 0.] <-> [0.95033    0.04691524 0.00275475]\n",
      "[0. 0. 1.] <-> [6.1604748e-03 1.4893632e-05 9.9382460e-01]\n",
      "[1. 0. 0.] <-> [0.99652064 0.00204928 0.00143007]\n",
      "[0. 0. 1.] <-> [8.8583417e-03 2.0939355e-05 9.9112076e-01]\n",
      "[0. 0. 1.] <-> [1.3684382e-02 3.1408541e-05 9.8628426e-01]\n",
      "[0. 1. 0.] <-> [6.0597351e-03 9.9381316e-01 1.2711038e-04]\n",
      "[1. 0. 0.] <-> [0.9973609  0.00142889 0.00121021]\n",
      "[1. 0. 0.] <-> [0.9970511  0.00128206 0.00166678]\n",
      "[1. 0. 0.] <-> [0.99367756 0.00456339 0.00175909]\n",
      "[0. 0. 1.] <-> [6.3906414e-03 1.5411797e-05 9.9359399e-01]\n",
      "[1. 0. 0.] <-> [0.99679875 0.00141847 0.00178282]\n",
      "[1. 0. 0.] <-> [0.99692875 0.00181476 0.00125658]\n",
      "[1. 0. 0.] <-> [9.9160254e-02 2.0700875e-04 9.0063280e-01]\n",
      "[1. 0. 0.] <-> [0.99382883 0.00138973 0.00478152]\n",
      "[1. 0. 0.] <-> [0.12488642 0.87386113 0.00125244]\n",
      "[1. 0. 0.] <-> [0.9960038  0.00204706 0.00194912]\n",
      "[1. 0. 0.] <-> [0.9965432  0.00211284 0.00134397]\n",
      "[0. 0. 1.] <-> [6.1584781e-03 1.4888507e-05 9.9382657e-01]\n",
      "[1. 0. 0.] <-> [0.99733573 0.00128761 0.00137665]\n",
      "[1. 0. 0.] <-> [0.99638665 0.00181885 0.00179449]\n",
      "[0. 0. 1.] <-> [4.872749e-02 1.038767e-04 9.511686e-01]\n",
      "[0. 1. 0.] <-> [5.0758249e-03 9.9481481e-01 1.0932635e-04]\n",
      "[1. 0. 0.] <-> [0.9955491  0.00270324 0.00174765]\n",
      "[0. 0. 1.] <-> [9.759557e-03 2.290851e-05 9.902175e-01]\n",
      "[0. 1. 0.] <-> [5.0957664e-03 9.9479443e-01 1.0983848e-04]\n",
      "[0. 1. 0.] <-> [0.2715107  0.72642714 0.00206216]\n",
      "[0. 1. 0.] <-> [0.21467242 0.78355485 0.00177278]\n",
      "[1. 0. 0.] <-> [0.96811944 0.00155897 0.0303216 ]\n",
      "[1. 0. 0.] <-> [0.99575776 0.00287733 0.00136481]\n",
      "[1. 0. 0.] <-> [0.96224904 0.00167233 0.03607864]\n",
      "[1. 0. 0.] <-> [0.7563255  0.23996702 0.00370749]\n",
      "[0. 0. 1.] <-> [6.5327003e-03 1.5746758e-05 9.9345160e-01]\n",
      "[0. 0. 1.] <-> [0.4993224  0.00091485 0.49976265]\n",
      "[1. 0. 0.] <-> [0.8326279  0.00136362 0.16600855]\n",
      "[0. 1. 0.] <-> [5.1103937e-03 9.9477887e-01 1.1072018e-04]\n",
      "[1. 0. 0.] <-> [0.8157765  0.18097416 0.00324934]\n",
      "[0. 1. 0.] <-> [5.0758324e-03 9.9481481e-01 1.0932531e-04]\n",
      "[1. 0. 0.] <-> [0.9738153  0.00151281 0.02467181]\n",
      "[1. 0. 0.] <-> [0.9884624  0.007583   0.00395462]\n",
      "[1. 0. 0.] <-> [0.9966599  0.00187085 0.00146938]\n",
      "[0. 1. 0.] <-> [1.8964255e-02 9.8073179e-01 3.0400444e-04]\n",
      "[1. 0. 0.] <-> [0.99320316 0.0013771  0.00541973]\n",
      "[1. 0. 0.] <-> [0.996234   0.00239377 0.00137229]\n",
      "[1. 0. 0.] <-> [0.9921178  0.0015127  0.00636959]\n",
      "[1. 0. 0.] <-> [0.9961584  0.00254552 0.00129606]\n",
      "[1. 0. 0.] <-> [0.99687564 0.00138927 0.00173498]\n",
      "[1. 0. 0.] <-> [0.9834541  0.0141861  0.00235973]\n",
      "[1. 0. 0.] <-> [0.9819372  0.00548847 0.01257423]\n",
      "[1. 0. 0.] <-> [0.99418783 0.00427988 0.00153227]\n",
      "[1. 0. 0.] <-> [0.99686795 0.00172384 0.00140823]\n",
      "[0. 1. 0.] <-> [5.07685402e-03 9.94813561e-01 1.09531386e-04]\n",
      "[1. 0. 0.] <-> [0.93456846 0.00143191 0.06399959]\n",
      "[1. 0. 0.] <-> [0.99506205 0.00179416 0.00314386]\n",
      "[1. 0. 0.] <-> [0.9920589  0.00133435 0.00660669]\n",
      "[1. 0. 0.] <-> [0.9960271  0.00150043 0.00247245]\n",
      "[1. 0. 0.] <-> [0.99402964 0.0016839  0.00428652]\n",
      "[0. 0. 1.] <-> [6.1591556e-03 1.4893526e-05 9.9382597e-01]\n",
      "[1. 0. 0.] <-> [0.99522936 0.0032854  0.00148525]\n",
      "[1. 0. 0.] <-> [0.9928786  0.00133504 0.00578639]\n",
      "[0. 0. 1.] <-> [0.5142006  0.00090558 0.48489383]\n",
      "[0. 1. 0.] <-> [1.8586509e-02 9.8111433e-01 2.9914718e-04]\n",
      "[1. 0. 0.] <-> [0.9959462  0.00238361 0.0016701 ]\n",
      "[1. 0. 0.] <-> [0.9970131  0.0014645  0.00152242]\n",
      "[1. 0. 0.] <-> [0.9961636  0.0013722  0.00246417]\n",
      "[0. 0. 1.] <-> [9.8463707e-03 2.3402206e-05 9.9013025e-01]\n",
      "[1. 0. 0.] <-> [0.99644285 0.00161193 0.00194524]\n",
      "[1. 0. 0.] <-> [0.9875113  0.00235179 0.01013692]\n",
      "[1. 0. 0.] <-> [0.996824   0.00133497 0.00184101]\n",
      "[1. 0. 0.] <-> [0.99538225 0.00239384 0.00222391]\n",
      "[1. 0. 0.] <-> [0.99676657 0.00168653 0.00154681]\n",
      "[1. 0. 0.] <-> [0.99670714 0.00164324 0.00164965]\n",
      "[1. 0. 0.] <-> [0.3778479  0.61965466 0.00249744]\n",
      "[1. 0. 0.] <-> [0.99190897 0.00599    0.00210101]\n",
      "[1. 0. 0.] <-> [0.99512994 0.00136173 0.00350833]\n",
      "[0. 1. 0.] <-> [5.0757113e-03 9.9481493e-01 1.0936432e-04]\n",
      "[1. 0. 0.] <-> [0.99622524 0.00242621 0.00134854]\n",
      "[1. 0. 0.] <-> [0.99660766 0.0013788  0.00201345]\n",
      "[1. 0. 0.] <-> [0.99417984 0.00132364 0.00449661]\n",
      "[1. 0. 0.] <-> [0.9970945  0.00172239 0.00118298]\n",
      "[1. 0. 0.] <-> [0.9869185  0.01084953 0.00223191]\n",
      "[1. 0. 0.] <-> [0.9953636  0.00141923 0.00321719]\n",
      "{'accuracy': 0.9753086419753086, 'mean_square_error': 0.05969069342352493, 'categorical_crossentropy': 0.09830691196300366, 'essential_metrics': {0: {'tp_hit': 75, 'fp_hit': 1, 'tn_hit': 29, 'fn_hit': 3}, 1: {'tp_hit': 16, 'fp_hit': 2, 'tn_hit': 90, 'fn_hit': 0}, 2: {'tp_hit': 13, 'fp_hit': 1, 'tn_hit': 93, 'fn_hit': 1}}}\n"
     ]
    }
   ],
   "source": [
    "# recall phase\n",
    "score = model.evaluate(x_test, y_test, False)\n",
    "print(score)"
   ]
  },
  {
   "cell_type": "code",
   "execution_count": 11,
   "metadata": {},
   "outputs": [
    {
     "data": {
      "image/png": "[encoded data removed]",
      "text/plain": [
       "<Figure size 864x360 with 1 Axes>"
      ]
     },
     "metadata": {
      "needs_background": "light"
     },
     "output_type": "display_data"
    },
    {
     "data": {
      "image/png": "[encoded data removed]",
      "text/plain": [
       "<Figure size 864x360 with 1 Axes>"
      ]
     },
     "metadata": {
      "needs_background": "light"
     },
     "output_type": "display_data"
    }
   ],
   "source": [
    "draw_plot(x = [[i for i in range(len(history))], [(i+1)*breakpoint for i in range(len(checkpoints))]], y_list = [history, [ ckp[model.loss_fn] for ckp in checkpoints ]], x_label = 'Epochs', \\\n",
    "    y_label = model.loss_fn, legend=['train', 'test'])\n",
    "acc = [ ckp['accuracy'] for ckp in checkpoints ]\n",
    "draw_plot(x = [[(i+1)*breakpoint for i in range(len(checkpoints))]], y_list = [acc], x_label = 'Checkpoints', \\\n",
    "    y_label = 'accuracy')"
   ]
  },
  {
   "cell_type": "code",
   "execution_count": 12,
   "metadata": {},
   "outputs": [
    {
     "name": "stdout",
     "output_type": "stream",
     "text": [
      "{'accuracy': 0.9197530864197531, 'mean_square_error': 0.17412964743893453, 'categorical_crossentropy': 0.28775665495130753, 'essential_metrics': {0: {'tp_hit': 74, 'fp_hit': 9, 'tn_hit': 21, 'fn_hit': 4}, 1: {'tp_hit': 11, 'fp_hit': 4, 'tn_hit': 88, 'fn_hit': 5}, 2: {'tp_hit': 10, 'fp_hit': 0, 'tn_hit': 94, 'fn_hit': 4}}, 'checkpoint': 100} \n",
      "\n",
      "\n",
      "{'accuracy': 0.9691358024691358, 'mean_square_error': 0.06773175886467125, 'categorical_crossentropy': 0.1078447765774197, 'essential_metrics': {0: {'tp_hit': 75, 'fp_hit': 2, 'tn_hit': 28, 'fn_hit': 3}, 1: {'tp_hit': 15, 'fp_hit': 2, 'tn_hit': 90, 'fn_hit': 1}, 2: {'tp_hit': 13, 'fp_hit': 1, 'tn_hit': 93, 'fn_hit': 1}}, 'checkpoint': 200} \n",
      "\n",
      "\n",
      "{'accuracy': 0.9691358024691358, 'mean_square_error': 0.06255189637716368, 'categorical_crossentropy': 0.10132413440280491, 'essential_metrics': {0: {'tp_hit': 75, 'fp_hit': 2, 'tn_hit': 28, 'fn_hit': 3}, 1: {'tp_hit': 16, 'fp_hit': 2, 'tn_hit': 90, 'fn_hit': 0}, 2: {'tp_hit': 12, 'fp_hit': 1, 'tn_hit': 93, 'fn_hit': 2}}, 'checkpoint': 300} \n",
      "\n",
      "\n",
      "{'accuracy': 0.9691358024691358, 'mean_square_error': 0.06558640642146576, 'categorical_crossentropy': 0.10469452540079753, 'essential_metrics': {0: {'tp_hit': 75, 'fp_hit': 2, 'tn_hit': 28, 'fn_hit': 3}, 1: {'tp_hit': 16, 'fp_hit': 2, 'tn_hit': 90, 'fn_hit': 0}, 2: {'tp_hit': 12, 'fp_hit': 1, 'tn_hit': 93, 'fn_hit': 2}}, 'checkpoint': 400} \n",
      "\n",
      "\n",
      "{'accuracy': 0.9753086419753086, 'mean_square_error': 0.05969069342352493, 'categorical_crossentropy': 0.09830691196300366, 'essential_metrics': {0: {'tp_hit': 75, 'fp_hit': 1, 'tn_hit': 29, 'fn_hit': 3}, 1: {'tp_hit': 16, 'fp_hit': 2, 'tn_hit': 90, 'fn_hit': 0}, 2: {'tp_hit': 13, 'fp_hit': 1, 'tn_hit': 93, 'fn_hit': 1}}, 'checkpoint': 500} \n",
      "\n",
      "\n"
     ]
    }
   ],
   "source": [
    "for checkpoint in checkpoints:\n",
    "    print(checkpoint, '\\n\\n')"
   ]
  },
  {
   "cell_type": "code",
   "execution_count": 13,
   "metadata": {},
   "outputs": [
    {
     "name": "stdout",
     "output_type": "stream",
     "text": [
      "Layer 1\n",
      "Neuron 0: weights:\n",
      "[-0.06365345 -3.         -0.07471146  0.9539575   3.        ]\n",
      " bias: -2.5144972801208496\n",
      "\n",
      "Neuron 1: weights:\n",
      "[-2.1049182  3.         3.         3.        -3.       ]\n",
      " bias: -3.0\n",
      "\n",
      "Neuron 2: weights:\n",
      "[ 1.997856  -3.        -3.         2.0911663  0.5108815]\n",
      " bias: 3.0\n",
      "\n",
      "Neuron 3: weights:\n",
      "[-0.04752804 -3.         -0.3631528   0.92538685  3.        ]\n",
      " bias: -2.5580716133117676\n",
      "\n",
      "$\n",
      "Layer 2\n",
      "Neuron 0: weights:\n",
      "[-3. -3.  3. -3.]\n",
      " bias: 1.8229717016220093\n",
      "\n",
      "Neuron 1: weights:\n",
      "[-2.3030667  3.        -3.        -3.       ]\n",
      " bias: 1.101037621498108\n",
      "\n",
      "Neuron 2: weights:\n",
      "[ 3.         -2.0149546   0.90670323  3.        ]\n",
      " bias: -3.0\n",
      "\n",
      "$\n",
      "\n"
     ]
    }
   ],
   "source": [
    "print(model)"
   ]
  }
 ],
 "metadata": {
  "kernelspec": {
   "display_name": "Python 3",
   "language": "python",
   "name": "python3"
  },
  "language_info": {
   "codemirror_mode": {
    "name": "ipython",
    "version": 3
   },
   "file_extension": ".py",
   "mimetype": "text/x-python",
   "name": "python",
   "nbconvert_exporter": "python",
   "pygments_lexer": "ipython3",
   "version": "3.6.10"
  }
 },
 "nbformat": 4,
 "nbformat_minor": 2
}
