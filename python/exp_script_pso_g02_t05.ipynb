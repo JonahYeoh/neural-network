{
 "cells": [
  {
   "cell_type": "code",
   "execution_count": 1,
   "metadata": {},
   "outputs": [],
   "source": [
    "# dependency\n",
    "import numpy as np\n",
    "import pandas as pd\n",
    "import copy\n",
    "import math\n",
    "import sys\n",
    "import os\n",
    "from activations import relu, leaky_relu, sigmoid, tanh, softmax, d_sigmoid, d_relu\n",
    "from initializers import glorot_uniform, random_normal, random_uniform\n",
    "from regularizers import l1_regularizer, l2_regularizer\n",
    "from utility import trim_tail, multiply, subtract, get_nparams, one_hot_encoding, get_data\n",
    "from metrics import MSE, CCE, ACC, PRECISION, RECALL, essential_metrics, wondering_penalty, close_gap_penalty\n",
    "from pso import PSO\n",
    "from ga import GA\n",
    "from nn import Network\n",
    "from layer import DenseLayer\n",
    "from scalers import MinMaxScaler, StandardScaler"
   ]
  },
  {
   "cell_type": "code",
   "execution_count": 2,
   "metadata": {},
   "outputs": [],
   "source": [
    "# reference\n",
    "metrics_fn_dict = dict()\n",
    "metrics_fn_dict['accuracy'] = ACC\n",
    "metrics_fn_dict['categorical_crossentropy'] = CCE\n",
    "metrics_fn_dict['mean_square_error'] = MSE\n",
    "metrics_fn_dict['precision'] = PRECISION\n",
    "metrics_fn_dict['recall'] = RECALL\n",
    "metrics_fn_dict['essential_metrics'] = essential_metrics"
   ]
  },
  {
   "cell_type": "code",
   "execution_count": 3,
   "metadata": {},
   "outputs": [],
   "source": [
    "# model\n",
    "model = Network(5, lr = None)\n",
    "model.add_layer(DenseLayer(1, 4, True, afn=sigmoid, dafn=None, rfn=None))\n",
    "model.add_layer(DenseLayer(2, 3, True, afn=softmax, dafn=None, rfn=None))"
   ]
  },
  {
   "cell_type": "code",
   "execution_count": 4,
   "metadata": {},
   "outputs": [
    {
     "name": "stdout",
     "output_type": "stream",
     "text": [
      "see one see two 2 2\n"
     ]
    }
   ],
   "source": [
    "pso = PSO(dict(m = 50,\n",
    "    weight_constraint = [-3, 3], \n",
    "    velocity_constraint = [-0.1, 0.1],\n",
    "    c1 = 2,\n",
    "    c2 = 2,\n",
    "    w = 1.2,\n",
    "    w_decay = 1,\n",
    "    scale_hyperparameter = False,\n",
    "    regularizer = None,\n",
    "    mask = True))"
   ]
  },
  {
   "cell_type": "code",
   "execution_count": 5,
   "metadata": {},
   "outputs": [
    {
     "name": "stdout",
     "output_type": "stream",
     "text": [
      "building layer 1 with 5\n",
      "24\n",
      "building layer 2 with 4\n",
      "15\n"
     ]
    }
   ],
   "source": [
    "model.compile(loss_fn = 'categorical_crossentropy', optimizer = pso, \\\n",
    "    metrics = ['accuracy', 'mean_square_error', 'categorical_crossentropy'])"
   ]
  },
  {
   "cell_type": "code",
   "execution_count": 6,
   "metadata": {},
   "outputs": [
    {
     "name": "stdout",
     "output_type": "stream",
     "text": [
      "<class 'pandas.core.frame.DataFrame'>\n",
      "RangeIndex: 107 entries, 0 to 106\n",
      "Data columns (total 6 columns):\n",
      " #   Column  Non-Null Count  Dtype  \n",
      "---  ------  --------------  -----  \n",
      " 0   f1      107 non-null    float32\n",
      " 1   f2      107 non-null    float32\n",
      " 2   f3      107 non-null    float32\n",
      " 3   f4      107 non-null    float32\n",
      " 4   f5      107 non-null    float32\n",
      " 5   label   107 non-null    float32\n",
      "dtypes: float32(6)\n",
      "memory usage: 2.6 KB\n",
      "None\n",
      "<class 'pandas.core.frame.DataFrame'>\n",
      "RangeIndex: 108 entries, 0 to 107\n",
      "Data columns (total 6 columns):\n",
      " #   Column  Non-Null Count  Dtype  \n",
      "---  ------  --------------  -----  \n",
      " 0   f1      108 non-null    float32\n",
      " 1   f2      108 non-null    float32\n",
      " 2   f3      108 non-null    float32\n",
      " 3   f4      108 non-null    float32\n",
      " 4   f5      108 non-null    float32\n",
      " 5   label   108 non-null    float32\n",
      "dtypes: float32(6)\n",
      "memory usage: 2.7 KB\n",
      "None\n"
     ]
    }
   ],
   "source": [
    "# data loading\n",
    "DATA = os.path.join('c:\\\\Users\\\\AI-lab\\\\github_repo\\\\neural-network\\\\', 'dataset')\n",
    "GROUP = 2\n",
    "COLUMNS = ['f1', 'f2', 'f3', 'f4', 'f5', 'label']\n",
    "N_CLASS = 3\n",
    "EPOCHS = 200\n",
    "train_dir, test_dir = \"..//dataset//training_data{}.txt\".format(GROUP), \"..//dataset//testing_data{}.txt\".format(GROUP)\n",
    "train, test = get_data(DATA, train_dir, COLUMNS), get_data(DATA, test_dir, COLUMNS)\n",
    "# shuffle\n",
    "train, test = train.sample(frac=1), test.sample(frac=1)\n",
    "x_train, y_train = train.drop('label', axis=1), train['label']\n",
    "x_test, y_test = test.drop('label', axis=1), test['label']"
   ]
  },
  {
   "cell_type": "code",
   "execution_count": 7,
   "metadata": {},
   "outputs": [],
   "source": [
    "# data scaling and encoding\n",
    "scaler = StandardScaler(['f1', 'f2', 'f3', 'f4', 'f5'])\n",
    "scaler.fit(x_train)\n",
    "x_train = scaler.transform(x_train)\n",
    "x_test = scaler.transform(x_test)\n",
    "y_train = one_hot_encoding(y_train, N_CLASS)\n",
    "y_test = one_hot_encoding(y_test, N_CLASS)"
   ]
  },
  {
   "cell_type": "code",
   "execution_count": 8,
   "metadata": {
    "tags": [
     "outputPrepend"
    ]
   },
   "outputs": [
    {
     "name": "stdout",
     "output_type": "stream",
     "text": [
      "Checkpoint 10, Accuracy: 0.8641975308641975, Loss: 0.6605856860125506\n",
      "Checkpoint 20, Accuracy: 0.9012345679012346, Loss: 0.5151492931224682\n",
      "Checkpoint 30, Accuracy: 0.8765432098765432, Loss: 0.513434162846318\n",
      "Checkpoint 40, Accuracy: 0.8765432098765432, Loss: 0.4683046340942383\n",
      "Checkpoint 50, Accuracy: 0.8765432098765432, Loss: 0.4683046340942383\n",
      "Checkpoint 60, Accuracy: 0.9012345679012346, Loss: 0.4374093302973994\n",
      "Checkpoint 70, Accuracy: 0.9320987654320988, Loss: 0.34380888055872033\n",
      "Checkpoint 80, Accuracy: 0.9320987654320988, Loss: 0.3318052645082827\n",
      "Checkpoint 90, Accuracy: 0.9506172839506173, Loss: 0.2642295978687428\n",
      "Checkpoint 100, Accuracy: 0.9629629629629629, Loss: 0.22535693203961407\n",
      "Checkpoint 110, Accuracy: 0.9691358024691358, Loss: 0.18284516864352757\n",
      "Checkpoint 120, Accuracy: 0.9691358024691358, Loss: 0.15159820627283166\n",
      "Checkpoint 130, Accuracy: 0.9691358024691358, Loss: 0.14154087172614205\n",
      "Checkpoint 140, Accuracy: 0.9814814814814815, Loss: 0.12312629487779406\n",
      "Checkpoint 150, Accuracy: 0.9629629629629629, Loss: 0.12278503841824001\n",
      "Checkpoint 160, Accuracy: 0.9753086419753086, Loss: 0.12026209301418728\n",
      "Checkpoint 170, Accuracy: 0.9691358024691358, Loss: 0.11505519019232856\n",
      "Checkpoint 180, Accuracy: 0.9629629629629629, Loss: 0.1161327980182789\n",
      "Checkpoint 190, Accuracy: 0.9691358024691358, Loss: 0.11239936616685656\n",
      "Checkpoint 200, Accuracy: 0.9629629629629629, Loss: 0.10911998042353878\n"
     ]
    }
   ],
   "source": [
    "# learning phase\n",
    "breakpoint = 10\n",
    "checkpoints = list()\n",
    "history = list()\n",
    "for century in range(0, EPOCHS, breakpoint):\n",
    "    sub_history = model.fit(x_train, y_train, breakpoint, verbose = 0)\n",
    "    score = model.evaluate(x_test, y_test, False, verbose = 0)\n",
    "    print('Checkpoint {}, Accuracy: {}, Loss: {}'.format(century+breakpoint, score['accuracy'], score[model.loss_fn]))\n",
    "    score['checkpoint'] = century + breakpoint\n",
    "    checkpoints.append(score)\n",
    "    history.extend(sub_history)"
   ]
  },
  {
   "cell_type": "code",
   "execution_count": 9,
   "metadata": {},
   "outputs": [],
   "source": [
    "import matplotlib.pyplot as plt\n",
    "\n",
    "def draw_plot(x, y_list, x_label=None, y_label=None, legend=None, title=None):\n",
    "    fig, ax = plt.subplots(figsize=(12,5))\n",
    "    for xi, yi in zip(x, y_list):\n",
    "        ax.plot(xi, yi)\n",
    "    if x_label is not None and y_label is not None:\n",
    "        ax.set(xlabel=x_label, ylabel=y_label, title='{} VS {}'.format(x_label, y_label))\n",
    "    if legend is not None:\n",
    "        ax.legend(legend)\n",
    "    ax.grid()\n",
    "    plt.show()"
   ]
  },
  {
   "cell_type": "code",
   "execution_count": 10,
   "metadata": {},
   "outputs": [],
   "source": [
    "train_acc = [h['accuracy'] for h in history]\n",
    "train_mse = [h['mean_square_error'] for h in history]\n",
    "train_cce = [h['categorical_crossentropy'] for h in history]"
   ]
  },
  {
   "cell_type": "code",
   "execution_count": 11,
   "metadata": {},
   "outputs": [
    {
     "name": "stdout",
     "output_type": "stream",
     "text": [
      "[1. 0. 0.] <-> [0.9945745  0.00206161 0.00336392]\n",
      "[1. 0. 0.] <-> [0.8253943  0.00196734 0.17263845]\n",
      "[0. 1. 0.] <-> [0.5237726  0.47376448 0.00246294]\n",
      "[1. 0. 0.] <-> [0.9949163  0.00193839 0.0031453 ]\n",
      "[0. 1. 0.] <-> [0.71686465 0.28041616 0.0027192 ]\n",
      "[1. 0. 0.] <-> [0.99367476 0.00343063 0.00289464]\n",
      "[0. 1. 0.] <-> [0.18796416 0.8105746  0.00146134]\n",
      "[1. 0. 0.] <-> [0.99397063 0.00408762 0.00194183]\n",
      "[1. 0. 0.] <-> [0.9897664  0.00162626 0.00860727]\n",
      "[1. 0. 0.] <-> [0.9758557  0.00167381 0.02247048]\n",
      "[1. 0. 0.] <-> [0.96863896 0.00168281 0.0296782 ]\n",
      "[1. 0. 0.] <-> [0.9948954  0.00173332 0.00337122]\n",
      "[0. 1. 0.] <-> [6.7360955e-03 9.9306315e-01 2.0077324e-04]\n",
      "[0. 1. 0.] <-> [5.4356065e-03 9.9440610e-01 1.5828671e-04]\n",
      "[1. 0. 0.] <-> [0.99242777 0.00141315 0.00615909]\n",
      "[1. 0. 0.] <-> [0.95090306 0.0026621  0.04643489]\n",
      "[0. 0. 1.] <-> [2.9810946e-02 1.5385136e-04 9.7003514e-01]\n",
      "[1. 0. 0.] <-> [0.9959241  0.00211543 0.00196044]\n",
      "[0. 0. 1.] <-> [2.9208200e-02 1.5109524e-04 9.7064072e-01]\n",
      "[0. 0. 1.] <-> [2.9095015e-02 1.5278018e-04 9.7075224e-01]\n",
      "[1. 0. 0.] <-> [0.9867591  0.01081558 0.00242537]\n",
      "[1. 0. 0.] <-> [0.9952474  0.00299705 0.00175557]\n",
      "[1. 0. 0.] <-> [0.98552287 0.00159521 0.01288194]\n",
      "[1. 0. 0.] <-> [0.99451834 0.00231091 0.00317079]\n",
      "[0. 0. 1.] <-> [4.0009748e-02 2.0667186e-04 9.5978355e-01]\n",
      "[1. 0. 0.] <-> [0.9896898  0.00858434 0.00172587]\n",
      "[0. 1. 0.] <-> [1.8649820e-02 9.8094028e-01 4.0989654e-04]\n",
      "[1. 0. 0.] <-> [0.99228597 0.00156928 0.00614481]\n",
      "[0. 0. 1.] <-> [2.9140633e-02 1.5144472e-04 9.7070789e-01]\n",
      "[1. 0. 0.] <-> [0.99469346 0.00297964 0.00232692]\n",
      "[1. 0. 0.] <-> [4.7278065e-02 2.6187691e-04 9.5246005e-01]\n",
      "[1. 0. 0.] <-> [0.98813254 0.00188952 0.00997793]\n",
      "[1. 0. 0.] <-> [0.991306   0.00201224 0.00668169]\n",
      "[1. 0. 0.] <-> [0.47261184 0.00155869 0.5258295 ]\n",
      "[0. 1. 0.] <-> [9.9903923e-03 9.8977029e-01 2.3925921e-04]\n",
      "[1. 0. 0.] <-> [0.99199194 0.00176    0.00624808]\n",
      "[1. 0. 0.] <-> [0.9862379  0.00159747 0.0121646 ]\n",
      "[0. 1. 0.] <-> [5.2405535e-03 9.9460524e-01 1.5424826e-04]\n",
      "[1. 0. 0.] <-> [0.99085134 0.00155034 0.00759837]\n",
      "[1. 0. 0.] <-> [0.99458766 0.00151262 0.00389965]\n",
      "[1. 0. 0.] <-> [0.9442222  0.00190858 0.05386926]\n",
      "[1. 0. 0.] <-> [0.9013599  0.00191951 0.09672061]\n",
      "[1. 0. 0.] <-> [0.98524034 0.0013921  0.0133675 ]\n",
      "[1. 0. 0.] <-> [0.63284135 0.00152416 0.36563453]\n",
      "[0. 1. 0.] <-> [5.3870142e-03 9.9445206e-01 1.6085475e-04]\n",
      "[0. 1. 0.] <-> [0.3225849  0.6745015  0.00291361]\n",
      "[0. 0. 1.] <-> [7.976391e-03 5.291266e-04 9.914944e-01]\n",
      "[0. 0. 1.] <-> [1.0769228e-02 3.9767000e-04 9.8883307e-01]\n",
      "[1. 0. 0.] <-> [0.9803642  0.01743736 0.00219844]\n",
      "[1. 0. 0.] <-> [0.98522276 0.00161065 0.01316653]\n",
      "[0. 1. 0.] <-> [9.0424800e-03 9.9069864e-01 2.5886059e-04]\n",
      "[1. 0. 0.] <-> [0.99103254 0.00695414 0.00201335]\n",
      "[1. 0. 0.] <-> [0.9383168  0.05772543 0.00395771]\n",
      "[1. 0. 0.] <-> [0.72397006 0.0018869  0.27414304]\n",
      "[0. 0. 1.] <-> [3.1426676e-02 1.8382550e-04 9.6838945e-01]\n",
      "[1. 0. 0.] <-> [0.9876643  0.00189793 0.01043779]\n",
      "[1. 0. 0.] <-> [0.9864139  0.00141679 0.0121693 ]\n",
      "[0. 1. 0.] <-> [1.5255733e-02 9.8437148e-01 3.7285264e-04]\n",
      "[0. 0. 1.] <-> [3.006287e-02 1.554246e-04 9.697817e-01]\n",
      "[1. 0. 0.] <-> [0.98761535 0.00817357 0.00421107]\n",
      "[0. 0. 1.] <-> [0.557599   0.0018935  0.44050744]\n",
      "[1. 0. 0.] <-> [0.98945343 0.00811694 0.00242955]\n",
      "[1. 0. 0.] <-> [0.99523586 0.00216183 0.00260225]\n",
      "[1. 0. 0.] <-> [0.97509325 0.00165869 0.02324808]\n",
      "[0. 1. 0.] <-> [5.2404748e-03 9.9460596e-01 1.5348563e-04]\n",
      "[1. 0. 0.] <-> [0.9782032  0.00265585 0.019141  ]\n",
      "[0. 0. 1.] <-> [1.3822066e-02 3.1315151e-04 9.8586476e-01]\n",
      "[1. 0. 0.] <-> [0.8609449  0.00200971 0.1370454 ]\n",
      "[1. 0. 0.] <-> [0.8389818  0.00189206 0.15912613]\n",
      "[1. 0. 0.] <-> [0.98437274 0.00163608 0.01399118]\n",
      "[0. 0. 1.] <-> [0.25496426 0.00079959 0.7442362 ]\n",
      "[1. 0. 0.] <-> [0.995402   0.00263125 0.00196677]\n",
      "[1. 0. 0.] <-> [0.995314   0.00166215 0.00302376]\n",
      "[1. 0. 0.] <-> [0.9933407  0.0042392  0.00242021]\n",
      "[1. 0. 0.] <-> [0.5717272  0.00144996 0.4268229 ]\n",
      "[1. 0. 0.] <-> [0.9220238  0.00178366 0.0761926 ]\n",
      "[1. 0. 0.] <-> [0.86168563 0.00231705 0.1359973 ]\n",
      "[1. 0. 0.] <-> [0.9959038  0.00187066 0.00222558]\n",
      "[1. 0. 0.] <-> [0.996108   0.00150846 0.00238354]\n",
      "[1. 0. 0.] <-> [0.99408036 0.0023354  0.00358428]\n",
      "[1. 0. 0.] <-> [0.99323386 0.00192871 0.00483743]\n",
      "[1. 0. 0.] <-> [0.9830918  0.00179672 0.0151115 ]\n",
      "[1. 0. 0.] <-> [0.98766893 0.00151988 0.01081115]\n",
      "[1. 0. 0.] <-> [0.44316643 0.5533949  0.00343863]\n",
      "[1. 0. 0.] <-> [0.9959688  0.00183495 0.00219625]\n",
      "[1. 0. 0.] <-> [0.99562234 0.00173408 0.00264367]\n",
      "[1. 0. 0.] <-> [0.9934854  0.00167477 0.00483989]\n",
      "[1. 0. 0.] <-> [0.9956327  0.00209357 0.0022737 ]\n",
      "[1. 0. 0.] <-> [0.9534028  0.00150035 0.0450968 ]\n",
      "[1. 0. 0.] <-> [0.9951492  0.00253756 0.00231332]\n",
      "[1. 0. 0.] <-> [0.9905538  0.00502524 0.0044209 ]\n",
      "[1. 0. 0.] <-> [0.9862503  0.00223797 0.01151174]\n",
      "[0. 0. 1.] <-> [3.0388592e-02 1.5706784e-04 9.6945435e-01]\n",
      "[1. 0. 0.] <-> [0.9957028  0.00272733 0.00156988]\n",
      "[1. 0. 0.] <-> [0.9932156  0.00140114 0.00538321]\n",
      "[1. 0. 0.] <-> [0.9762803  0.00150999 0.02220978]\n",
      "[1. 0. 0.] <-> [0.9961116  0.00144315 0.00244538]\n",
      "[1. 0. 0.] <-> [0.9939797  0.00173642 0.00428393]\n",
      "[1. 0. 0.] <-> [0.9957919  0.00151567 0.00269244]\n",
      "[1. 0. 0.] <-> [0.99143934 0.00583994 0.00272073]\n",
      "[1. 0. 0.] <-> [0.97292656 0.00180303 0.02527032]\n",
      "[1. 0. 0.] <-> [0.991475   0.00156239 0.00696257]\n",
      "[1. 0. 0.] <-> [0.9945627  0.00182747 0.0036098 ]\n",
      "[1. 0. 0.] <-> [0.9949362  0.00164698 0.00341674]\n",
      "[1. 0. 0.] <-> [0.99501437 0.0015516  0.00343398]\n",
      "[0. 1. 0.] <-> [5.2623255e-03 9.9458033e-01 1.5728301e-04]\n",
      "[1. 0. 0.] <-> [0.98426443 0.0015543  0.01418123]\n",
      "[0. 1. 0.] <-> [5.2405330e-03 9.9459803e-01 1.6140270e-04]\n",
      "{'accuracy': 0.9629629629629629, 'mean_square_error': 0.061708825698024154, 'categorical_crossentropy': 0.10911998042353878, 'essential_metrics': {0: {'tp_hit': 77, 'fp_hit': 3, 'tn_hit': 25, 'fn_hit': 3}, 1: {'tp_hit': 13, 'fp_hit': 1, 'tn_hit': 92, 'fn_hit': 2}, 2: {'tp_hit': 12, 'fp_hit': 2, 'tn_hit': 93, 'fn_hit': 1}}}\n"
     ]
    }
   ],
   "source": [
    "# recall phase\n",
    "score = model.evaluate(x_test, y_test, False)\n",
    "print(score)"
   ]
  },
  {
   "cell_type": "code",
   "execution_count": 12,
   "metadata": {},
   "outputs": [
    {
     "data": {
      "image/png": "[encoded data removed]",
      "text/plain": [
       "<Figure size 864x360 with 1 Axes>"
      ]
     },
     "metadata": {
      "needs_background": "light"
     },
     "output_type": "display_data"
    },
    {
     "data": {
      "image/png": "[encoded data removed]",
      "text/plain": [
       "<Figure size 864x360 with 1 Axes>"
      ]
     },
     "metadata": {
      "needs_background": "light"
     },
     "output_type": "display_data"
    }
   ],
   "source": [
    "draw_plot(x = [[i for i in range(len(history))], [(i+1)*breakpoint for i in range(len(checkpoints))]], y_list = [train_cce, [ ckp[model.loss_fn] for ckp in checkpoints ]], x_label = 'Epochs', \\\n",
    "    y_label = model.loss_fn, legend=['train', 'test'])\n",
    "acc = [ ckp['accuracy'] for ckp in checkpoints ]\n",
    "draw_plot(x = [[i for i in range(len(history))], [(i+1)*breakpoint for i in range(len(checkpoints))]], y_list = [train_acc, acc], x_label = 'Checkpoints', \\\n",
    "    y_label = 'accuracy', legend=['train', 'test'])"
   ]
  },
  {
   "cell_type": "code",
   "execution_count": 13,
   "metadata": {},
   "outputs": [
    {
     "name": "stdout",
     "output_type": "stream",
     "text": [
      "{'accuracy': 0.8641975308641975, 'mean_square_error': 0.2958143371371377, 'categorical_crossentropy': 0.6605856860125506, 'essential_metrics': {0: {'tp_hit': 80, 'fp_hit': 15, 'tn_hit': 13, 'fn_hit': 0}, 1: {'tp_hit': 2, 'fp_hit': 5, 'tn_hit': 88, 'fn_hit': 13}, 2: {'tp_hit': 4, 'fp_hit': 2, 'tn_hit': 93, 'fn_hit': 9}}, 'checkpoint': 10} \n",
      "\n",
      "\n",
      "{'accuracy': 0.9012345679012346, 'mean_square_error': 0.23142941380940382, 'categorical_crossentropy': 0.5151492931224682, 'essential_metrics': {0: {'tp_hit': 78, 'fp_hit': 13, 'tn_hit': 15, 'fn_hit': 2}, 1: {'tp_hit': 7, 'fp_hit': 2, 'tn_hit': 91, 'fn_hit': 8}, 2: {'tp_hit': 7, 'fp_hit': 1, 'tn_hit': 94, 'fn_hit': 6}}, 'checkpoint': 20} \n",
      "\n",
      "\n",
      "{'accuracy': 0.8765432098765432, 'mean_square_error': 0.27500025646710413, 'categorical_crossentropy': 0.513434162846318, 'essential_metrics': {0: {'tp_hit': 74, 'fp_hit': 12, 'tn_hit': 16, 'fn_hit': 6}, 1: {'tp_hit': 4, 'fp_hit': 0, 'tn_hit': 93, 'fn_hit': 11}, 2: {'tp_hit': 10, 'fp_hit': 8, 'tn_hit': 87, 'fn_hit': 3}}, 'checkpoint': 30} \n",
      "\n",
      "\n",
      "{'accuracy': 0.8765432098765432, 'mean_square_error': 0.24647473388637056, 'categorical_crossentropy': 0.4683046340942383, 'essential_metrics': {0: {'tp_hit': 77, 'fp_hit': 11, 'tn_hit': 17, 'fn_hit': 3}, 1: {'tp_hit': 5, 'fp_hit': 4, 'tn_hit': 89, 'fn_hit': 10}, 2: {'tp_hit': 6, 'fp_hit': 5, 'tn_hit': 90, 'fn_hit': 7}}, 'checkpoint': 40} \n",
      "\n",
      "\n",
      "{'accuracy': 0.8765432098765432, 'mean_square_error': 0.24647473388637056, 'categorical_crossentropy': 0.4683046340942383, 'essential_metrics': {0: {'tp_hit': 77, 'fp_hit': 11, 'tn_hit': 17, 'fn_hit': 3}, 1: {'tp_hit': 5, 'fp_hit': 4, 'tn_hit': 89, 'fn_hit': 10}, 2: {'tp_hit': 6, 'fp_hit': 5, 'tn_hit': 90, 'fn_hit': 7}}, 'checkpoint': 50} \n",
      "\n",
      "\n",
      "{'accuracy': 0.9012345679012346, 'mean_square_error': 0.2118300197967061, 'categorical_crossentropy': 0.4374093302973994, 'essential_metrics': {0: {'tp_hit': 76, 'fp_hit': 10, 'tn_hit': 18, 'fn_hit': 4}, 1: {'tp_hit': 6, 'fp_hit': 0, 'tn_hit': 93, 'fn_hit': 9}, 2: {'tp_hit': 10, 'fp_hit': 6, 'tn_hit': 89, 'fn_hit': 3}}, 'checkpoint': 60} \n",
      "\n",
      "\n",
      "{'accuracy': 0.9320987654320988, 'mean_square_error': 0.17009887215652242, 'categorical_crossentropy': 0.34380888055872033, 'essential_metrics': {0: {'tp_hit': 79, 'fp_hit': 10, 'tn_hit': 18, 'fn_hit': 1}, 1: {'tp_hit': 8, 'fp_hit': 0, 'tn_hit': 93, 'fn_hit': 7}, 2: {'tp_hit': 10, 'fp_hit': 1, 'tn_hit': 94, 'fn_hit': 3}}, 'checkpoint': 70} \n",
      "\n",
      "\n",
      "{'accuracy': 0.9320987654320988, 'mean_square_error': 0.1601217639305617, 'categorical_crossentropy': 0.3318052645082827, 'essential_metrics': {0: {'tp_hit': 77, 'fp_hit': 6, 'tn_hit': 22, 'fn_hit': 3}, 1: {'tp_hit': 10, 'fp_hit': 0, 'tn_hit': 93, 'fn_hit': 5}, 2: {'tp_hit': 10, 'fp_hit': 5, 'tn_hit': 90, 'fn_hit': 3}}, 'checkpoint': 80} \n",
      "\n",
      "\n",
      "{'accuracy': 0.9506172839506173, 'mean_square_error': 0.12361655729719682, 'categorical_crossentropy': 0.2642295978687428, 'essential_metrics': {0: {'tp_hit': 79, 'fp_hit': 7, 'tn_hit': 21, 'fn_hit': 1}, 1: {'tp_hit': 11, 'fp_hit': 0, 'tn_hit': 93, 'fn_hit': 4}, 2: {'tp_hit': 10, 'fp_hit': 1, 'tn_hit': 94, 'fn_hit': 3}}, 'checkpoint': 90} \n",
      "\n",
      "\n",
      "{'accuracy': 0.9629629629629629, 'mean_square_error': 0.09614777413412613, 'categorical_crossentropy': 0.22535693203961407, 'essential_metrics': {0: {'tp_hit': 77, 'fp_hit': 3, 'tn_hit': 25, 'fn_hit': 3}, 1: {'tp_hit': 14, 'fp_hit': 1, 'tn_hit': 92, 'fn_hit': 1}, 2: {'tp_hit': 11, 'fp_hit': 2, 'tn_hit': 93, 'fn_hit': 2}}, 'checkpoint': 100} \n",
      "\n",
      "\n",
      "{'accuracy': 0.9691358024691358, 'mean_square_error': 0.0796030724123578, 'categorical_crossentropy': 0.18284516864352757, 'essential_metrics': {0: {'tp_hit': 79, 'fp_hit': 4, 'tn_hit': 24, 'fn_hit': 1}, 1: {'tp_hit': 13, 'fp_hit': 0, 'tn_hit': 93, 'fn_hit': 2}, 2: {'tp_hit': 11, 'fp_hit': 1, 'tn_hit': 94, 'fn_hit': 2}}, 'checkpoint': 110} \n",
      "\n",
      "\n",
      "{'accuracy': 0.9691358024691358, 'mean_square_error': 0.07108092942295642, 'categorical_crossentropy': 0.15159820627283166, 'essential_metrics': {0: {'tp_hit': 79, 'fp_hit': 4, 'tn_hit': 24, 'fn_hit': 1}, 1: {'tp_hit': 12, 'fp_hit': 0, 'tn_hit': 93, 'fn_hit': 3}, 2: {'tp_hit': 12, 'fp_hit': 1, 'tn_hit': 94, 'fn_hit': 1}}, 'checkpoint': 120} \n",
      "\n",
      "\n",
      "{'accuracy': 0.9691358024691358, 'mean_square_error': 0.06490409903593218, 'categorical_crossentropy': 0.14154087172614205, 'essential_metrics': {0: {'tp_hit': 79, 'fp_hit': 4, 'tn_hit': 24, 'fn_hit': 1}, 1: {'tp_hit': 12, 'fp_hit': 0, 'tn_hit': 93, 'fn_hit': 3}, 2: {'tp_hit': 12, 'fp_hit': 1, 'tn_hit': 94, 'fn_hit': 1}}, 'checkpoint': 130} \n",
      "\n",
      "\n",
      "{'accuracy': 0.9814814814814815, 'mean_square_error': 0.056363234460513834, 'categorical_crossentropy': 0.12312629487779406, 'essential_metrics': {0: {'tp_hit': 79, 'fp_hit': 2, 'tn_hit': 26, 'fn_hit': 1}, 1: {'tp_hit': 14, 'fp_hit': 0, 'tn_hit': 93, 'fn_hit': 1}, 2: {'tp_hit': 12, 'fp_hit': 1, 'tn_hit': 94, 'fn_hit': 1}}, 'checkpoint': 140} \n",
      "\n",
      "\n",
      "{'accuracy': 0.9629629629629629, 'mean_square_error': 0.0635719343321022, 'categorical_crossentropy': 0.12278503841824001, 'essential_metrics': {0: {'tp_hit': 79, 'fp_hit': 5, 'tn_hit': 23, 'fn_hit': 1}, 1: {'tp_hit': 12, 'fp_hit': 0, 'tn_hit': 93, 'fn_hit': 3}, 2: {'tp_hit': 11, 'fp_hit': 1, 'tn_hit': 94, 'fn_hit': 2}}, 'checkpoint': 150} \n",
      "\n",
      "\n",
      "{'accuracy': 0.9753086419753086, 'mean_square_error': 0.06142566085154457, 'categorical_crossentropy': 0.12026209301418728, 'essential_metrics': {0: {'tp_hit': 79, 'fp_hit': 3, 'tn_hit': 25, 'fn_hit': 1}, 1: {'tp_hit': 13, 'fp_hit': 0, 'tn_hit': 93, 'fn_hit': 2}, 2: {'tp_hit': 12, 'fp_hit': 1, 'tn_hit': 94, 'fn_hit': 1}}, 'checkpoint': 160} \n",
      "\n",
      "\n",
      "{'accuracy': 0.9691358024691358, 'mean_square_error': 0.06477169851700937, 'categorical_crossentropy': 0.11505519019232856, 'essential_metrics': {0: {'tp_hit': 79, 'fp_hit': 4, 'tn_hit': 24, 'fn_hit': 1}, 1: {'tp_hit': 12, 'fp_hit': 0, 'tn_hit': 93, 'fn_hit': 3}, 2: {'tp_hit': 12, 'fp_hit': 1, 'tn_hit': 94, 'fn_hit': 1}}, 'checkpoint': 170} \n",
      "\n",
      "\n",
      "{'accuracy': 0.9629629629629629, 'mean_square_error': 0.06694680937208594, 'categorical_crossentropy': 0.1161327980182789, 'essential_metrics': {0: {'tp_hit': 78, 'fp_hit': 4, 'tn_hit': 24, 'fn_hit': 2}, 1: {'tp_hit': 12, 'fp_hit': 0, 'tn_hit': 93, 'fn_hit': 3}, 2: {'tp_hit': 12, 'fp_hit': 2, 'tn_hit': 93, 'fn_hit': 1}}, 'checkpoint': 180} \n",
      "\n",
      "\n",
      "{'accuracy': 0.9691358024691358, 'mean_square_error': 0.06385489574646498, 'categorical_crossentropy': 0.11239936616685656, 'essential_metrics': {0: {'tp_hit': 77, 'fp_hit': 2, 'tn_hit': 26, 'fn_hit': 3}, 1: {'tp_hit': 14, 'fp_hit': 1, 'tn_hit': 92, 'fn_hit': 1}, 2: {'tp_hit': 12, 'fp_hit': 2, 'tn_hit': 93, 'fn_hit': 1}}, 'checkpoint': 190} \n",
      "\n",
      "\n",
      "{'accuracy': 0.9629629629629629, 'mean_square_error': 0.061708825698024154, 'categorical_crossentropy': 0.10911998042353878, 'essential_metrics': {0: {'tp_hit': 77, 'fp_hit': 3, 'tn_hit': 25, 'fn_hit': 3}, 1: {'tp_hit': 13, 'fp_hit': 1, 'tn_hit': 92, 'fn_hit': 2}, 2: {'tp_hit': 12, 'fp_hit': 2, 'tn_hit': 93, 'fn_hit': 1}}, 'checkpoint': 200} \n",
      "\n",
      "\n"
     ]
    }
   ],
   "source": [
    "for checkpoint in checkpoints:\n",
    "    print(checkpoint, '\\n\\n')"
   ]
  },
  {
   "cell_type": "code",
   "execution_count": 14,
   "metadata": {},
   "outputs": [
    {
     "name": "stdout",
     "output_type": "stream",
     "text": [
      "Layer 1\n",
      "Neuron 0: weights:\n",
      "[ 0.35297868 -3.         -1.6834693   1.6474893   3.        ]\n",
      " bias: -3.0\n",
      "\n",
      "Neuron 1: weights:\n",
      "[-0.3561133   2.1174486  -0.37611422 -0.12472219 -3.        ]\n",
      " bias: 1.1406911611557007\n",
      "\n",
      "Neuron 2: weights:\n",
      "[ 2.316848   -3.         -3.          0.65509915 -1.1809051 ]\n",
      " bias: 2.0673322677612305\n",
      "\n",
      "Neuron 3: weights:\n",
      "[ 1.5966623  -3.         -1.8470728   0.25191537  2.526618  ]\n",
      " bias: 3.0\n",
      "\n",
      "$\n",
      "Layer 2\n",
      "Neuron 0: weights:\n",
      "[-3.  3.  3.  3.]\n",
      " bias: -2.245950937271118\n",
      "\n",
      "Neuron 1: weights:\n",
      "[-1.5108345  3.        -3.        -3.       ]\n",
      " bias: 3.0\n",
      "\n",
      "Neuron 2: weights:\n",
      "[ 3.         -1.1412332  -0.10227951  3.        ]\n",
      " bias: -1.6403800249099731\n",
      "\n",
      "$\n",
      "\n"
     ]
    }
   ],
   "source": [
    "print(model)"
   ]
  },
  {
   "cell_type": "code",
   "execution_count": null,
   "metadata": {},
   "outputs": [],
   "source": []
  }
 ],
 "metadata": {
  "kernelspec": {
   "display_name": "Python 3",
   "language": "python",
   "name": "python3"
  },
  "language_info": {
   "codemirror_mode": {
    "name": "ipython",
    "version": 3
   },
   "file_extension": ".py",
   "mimetype": "text/x-python",
   "name": "python",
   "nbconvert_exporter": "python",
   "pygments_lexer": "ipython3",
   "version": "3.6.12"
  }
 },
 "nbformat": 4,
 "nbformat_minor": 2
}
