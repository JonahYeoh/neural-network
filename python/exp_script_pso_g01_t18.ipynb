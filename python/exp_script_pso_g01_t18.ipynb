{
 "cells": [
  {
   "cell_type": "code",
   "execution_count": 1,
   "metadata": {},
   "outputs": [],
   "source": [
    "# dependency\n",
    "import numpy as np\n",
    "import pandas as pd\n",
    "import copy\n",
    "import math\n",
    "import sys\n",
    "import os\n",
    "from activations import relu, leaky_relu, sigmoid, tanh, softmax, d_sigmoid, d_relu\n",
    "from initializers import glorot_uniform, random_normal, random_uniform\n",
    "from regularizers import l1_regularizer, l2_regularizer\n",
    "from utility import trim_tail, multiply, subtract, get_nparams, one_hot_encoding, get_data\n",
    "from metrics import MSE, CCE, ACC, PRECISION, RECALL, essential_metrics, wondering_penalty, close_gap_penalty\n",
    "from pso import PSO\n",
    "from ga import GA\n",
    "from nn import Network\n",
    "from layer import DenseLayer\n",
    "from scalers import MinMaxScaler, StandardScaler"
   ]
  },
  {
   "cell_type": "code",
   "execution_count": 2,
   "metadata": {},
   "outputs": [],
   "source": [
    "# reference\n",
    "metrics_fn_dict = dict()\n",
    "metrics_fn_dict['accuracy'] = ACC\n",
    "metrics_fn_dict['categorical_crossentropy'] = CCE\n",
    "metrics_fn_dict['mean_square_error'] = MSE\n",
    "metrics_fn_dict['precision'] = PRECISION\n",
    "metrics_fn_dict['recall'] = RECALL\n",
    "metrics_fn_dict['essential_metrics'] = essential_metrics"
   ]
  },
  {
   "cell_type": "code",
   "execution_count": 3,
   "metadata": {},
   "outputs": [],
   "source": [
    "# model\n",
    "model = Network(5, lr = None)\n",
    "model.add_layer(DenseLayer(1, 4, True, afn=sigmoid, dafn=None, rfn=None))\n",
    "model.add_layer(DenseLayer(2, 3, True, afn=softmax, dafn=None, rfn=None))"
   ]
  },
  {
   "cell_type": "code",
   "execution_count": 4,
   "metadata": {},
   "outputs": [
    {
     "name": "stdout",
     "output_type": "stream",
     "text": [
      "see one see two 2 0.5\n"
     ]
    }
   ],
   "source": [
    "pso = PSO(dict(m = 50,\n",
    "    weight_constraint = [-3, 3], \n",
    "    velocity_constraint = [-0.1, 0.1],\n",
    "    c1 = [0.5, 2],\n",
    "    c2 = [0.5, 2],\n",
    "    w = [0.5, 1.6],\n",
    "    w_decay = 0.95,\n",
    "    scale_hyperparameter = False,\n",
    "    regularizer = None,\n",
    "    mask = True))"
   ]
  },
  {
   "cell_type": "code",
   "execution_count": 5,
   "metadata": {},
   "outputs": [
    {
     "name": "stdout",
     "output_type": "stream",
     "text": [
      "building layer 1 with 5\n",
      "24\n",
      "building layer 2 with 4\n",
      "15\n"
     ]
    }
   ],
   "source": [
    "model.compile(loss_fn = 'categorical_crossentropy', optimizer = pso, \\\n",
    "    metrics = ['accuracy', 'mean_square_error', 'categorical_crossentropy'])"
   ]
  },
  {
   "cell_type": "code",
   "execution_count": 6,
   "metadata": {},
   "outputs": [
    {
     "name": "stdout",
     "output_type": "stream",
     "text": [
      "<class 'pandas.core.frame.DataFrame'>\n",
      "RangeIndex: 107 entries, 0 to 106\n",
      "Data columns (total 6 columns):\n",
      " #   Column  Non-Null Count  Dtype  \n",
      "---  ------  --------------  -----  \n",
      " 0   f1      107 non-null    float32\n",
      " 1   f2      107 non-null    float32\n",
      " 2   f3      107 non-null    float32\n",
      " 3   f4      107 non-null    float32\n",
      " 4   f5      107 non-null    float32\n",
      " 5   label   107 non-null    float32\n",
      "dtypes: float32(6)\n",
      "memory usage: 2.6 KB\n",
      "None\n",
      "<class 'pandas.core.frame.DataFrame'>\n",
      "RangeIndex: 108 entries, 0 to 107\n",
      "Data columns (total 6 columns):\n",
      " #   Column  Non-Null Count  Dtype  \n",
      "---  ------  --------------  -----  \n",
      " 0   f1      108 non-null    float32\n",
      " 1   f2      108 non-null    float32\n",
      " 2   f3      108 non-null    float32\n",
      " 3   f4      108 non-null    float32\n",
      " 4   f5      108 non-null    float32\n",
      " 5   label   108 non-null    float32\n",
      "dtypes: float32(6)\n",
      "memory usage: 2.7 KB\n",
      "None\n"
     ]
    }
   ],
   "source": [
    "# data loading\n",
    "DATA = os.path.join('c:\\\\Users\\\\tcumi\\\\github_repo\\\\neural-network\\\\', 'dataset')\n",
    "GROUP = 1\n",
    "COLUMNS = ['f1', 'f2', 'f3', 'f4', 'f5', 'label']\n",
    "N_CLASS = 3\n",
    "EPOCHS = 500\n",
    "train_dir, test_dir = \"..//dataset//training_data{}.txt\".format(GROUP), \"..//dataset//testing_data{}.txt\".format(GROUP)\n",
    "train, test = get_data(DATA, train_dir, COLUMNS), get_data(DATA, test_dir, COLUMNS)\n",
    "# shuffle\n",
    "train, test = train.sample(frac=1), test.sample(frac=1)\n",
    "x_train, y_train = train.drop('label', axis=1), train['label']\n",
    "x_test, y_test = test.drop('label', axis=1), test['label']"
   ]
  },
  {
   "cell_type": "code",
   "execution_count": 7,
   "metadata": {},
   "outputs": [],
   "source": [
    "# data scaling and encoding\n",
    "scaler = StandardScaler(['f1', 'f2', 'f3', 'f4', 'f5'])\n",
    "scaler.fit(x_train)\n",
    "x_train = scaler.transform(x_train)\n",
    "x_test = scaler.transform(x_test)\n",
    "y_train = one_hot_encoding(y_train, N_CLASS)\n",
    "y_test = one_hot_encoding(y_test, N_CLASS)"
   ]
  },
  {
   "cell_type": "code",
   "execution_count": 8,
   "metadata": {
    "tags": [
     "outputPrepend"
    ]
   },
   "outputs": [
    {
     "name": "stdout",
     "output_type": "stream",
     "text": [
      "Checkpoint 100, Accuracy: 0.9320987654320988, Loss: 0.2908655625802499\n",
      "Checkpoint 200, Accuracy: 0.9629629629629629, Loss: 0.1536330293726038\n",
      "Checkpoint 300, Accuracy: 0.9753086419753086, Loss: 0.14051718182033962\n",
      "Checkpoint 400, Accuracy: 0.9753086419753086, Loss: 0.12270805570814344\n",
      "Checkpoint 500, Accuracy: 0.9753086419753086, Loss: 0.12446889170893917\n"
     ]
    }
   ],
   "source": [
    "# learning phase\n",
    "breakpoint = 100\n",
    "checkpoints = list()\n",
    "history = list()\n",
    "for century in range(0, EPOCHS, breakpoint):\n",
    "    sub_history = model.fit(x_train, y_train, breakpoint, verbose = 0)\n",
    "    score = model.evaluate(x_test, y_test, False, verbose = 0)\n",
    "    print('Checkpoint {}, Accuracy: {}, Loss: {}'.format(century+breakpoint, score['accuracy'], score[model.loss_fn]))\n",
    "    score['checkpoint'] = century + breakpoint\n",
    "    checkpoints.append(score)\n",
    "    history.extend(sub_history)\n",
    "    itr = century + breakpoint\n",
    "    model.optimizer.c2 = np.max([model.optimizer.C2[1] - ((model.optimizer.C2[1] - model.optimizer.C2[0]) * itr / EPOCHS), model.optimizer.C2[0]])\n",
    "    model.optimizer.c1 = np.min([model.optimizer.C1[0] + ((model.optimizer.C1[1] - model.optimizer.C1[0]) * itr / EPOCHS), model.optimizer.C1[1]])\n",
    "    model.optimizer.w = np.max([model.optimizer.w * model.optimizer.W_Decay, model.optimizer.W[0]])"
   ]
  },
  {
   "cell_type": "code",
   "execution_count": 9,
   "metadata": {},
   "outputs": [],
   "source": [
    "import matplotlib.pyplot as plt\n",
    "\n",
    "def draw_plot(x, y_list, x_label=None, y_label=None, legend=None, title=None):\n",
    "    fig, ax = plt.subplots(figsize=(12,5))\n",
    "    for xi, yi in zip(x, y_list):\n",
    "        ax.plot(xi, yi)\n",
    "    if x_label is not None and y_label is not None:\n",
    "        ax.set(xlabel=x_label, ylabel=y_label, title='{} VS {}'.format(x_label, y_label))\n",
    "    if legend is not None:\n",
    "        ax.legend(legend)\n",
    "    ax.grid()\n",
    "    plt.show()"
   ]
  },
  {
   "cell_type": "code",
   "execution_count": 10,
   "metadata": {},
   "outputs": [
    {
     "name": "stdout",
     "output_type": "stream",
     "text": [
      "[1. 0. 0.] <-> [0.99224746 0.00367679 0.00407574]\n",
      "[1. 0. 0.] <-> [0.8363149  0.00748656 0.1561985 ]\n",
      "[1. 0. 0.] <-> [0.9959169  0.001852   0.00223118]\n",
      "[1. 0. 0.] <-> [0.99462986 0.00319023 0.00217989]\n",
      "[1. 0. 0.] <-> [0.99407816 0.00162843 0.00429336]\n",
      "[1. 0. 0.] <-> [0.39232552 0.01219405 0.59548044]\n",
      "[1. 0. 0.] <-> [0.9969351  0.00125487 0.00181001]\n",
      "[1. 0. 0.] <-> [0.9820327  0.0022414  0.01572584]\n",
      "[1. 0. 0.] <-> [0.9904141  0.00186121 0.00772476]\n",
      "[1. 0. 0.] <-> [0.99566585 0.00274782 0.00158636]\n",
      "[0. 1. 0.] <-> [7.6642283e-03 9.9217635e-01 1.5941277e-04]\n",
      "[1. 0. 0.] <-> [0.9942046  0.00167125 0.00412422]\n",
      "[0. 0. 1.] <-> [0.00281439 0.00279642 0.9943891 ]\n",
      "[1. 0. 0.] <-> [0.99621755 0.00180677 0.00197569]\n",
      "[0. 1. 0.] <-> [2.1231605e-02 9.7843915e-01 3.2925527e-04]\n",
      "[1. 0. 0.] <-> [0.99631786 0.00159038 0.00209179]\n",
      "[1. 0. 0.] <-> [0.9935155  0.00472522 0.00175921]\n",
      "[1. 0. 0.] <-> [0.99630046 0.0011462  0.00255322]\n",
      "[1. 0. 0.] <-> [0.96754944 0.0031462  0.02930446]\n",
      "[0. 0. 1.] <-> [2.8485287e-04 3.6767010e-02 9.6294814e-01]\n",
      "[0. 1. 0.] <-> [1.2441840e-02 9.8732972e-01 2.2846331e-04]\n",
      "[1. 0. 0.] <-> [0.8568726  0.01081264 0.13231485]\n",
      "[0. 1. 0.] <-> [7.6642609e-03 9.9217635e-01 1.5941793e-04]\n",
      "[1. 0. 0.] <-> [0.9967289  0.00174835 0.0015228 ]\n",
      "[0. 1. 0.] <-> [0.44433072 0.5536093  0.00205992]\n",
      "[0. 0. 1.] <-> [0.00519474 0.00166774 0.9931376 ]\n",
      "[1. 0. 0.] <-> [0.9965162  0.0017918  0.00169201]\n",
      "[1. 0. 0.] <-> [0.9954776  0.00153485 0.0029875 ]\n",
      "[1. 0. 0.] <-> [0.9812992  0.01707369 0.00162705]\n",
      "[1. 0. 0.] <-> [0.99719244 0.00107228 0.00173533]\n",
      "[1. 0. 0.] <-> [0.995896   0.0022741  0.00182999]\n",
      "[1. 0. 0.] <-> [0.73407865 0.00836394 0.25755742]\n",
      "[1. 0. 0.] <-> [0.9910416  0.00171329 0.00724517]\n",
      "[1. 0. 0.] <-> [0.9921204  0.00543865 0.00244097]\n",
      "[1. 0. 0.] <-> [0.9928711  0.00157177 0.00555707]\n",
      "[1. 0. 0.] <-> [0.9773219  0.00427312 0.01840497]\n",
      "[0. 0. 1.] <-> [0.44739014 0.01178857 0.5408213 ]\n",
      "[1. 0. 0.] <-> [0.9970298  0.00154974 0.00142045]\n",
      "[1. 0. 0.] <-> [0.9969041  0.00148916 0.00160677]\n",
      "[1. 0. 0.] <-> [0.99182886 0.00225425 0.00591689]\n",
      "[1. 0. 0.] <-> [0.5477671  0.44976768 0.00246524]\n",
      "[0. 1. 0.] <-> [0.2721845  0.7261763  0.00163918]\n",
      "[1. 0. 0.] <-> [0.9910069  0.00180409 0.00718905]\n",
      "[1. 0. 0.] <-> [0.9954848  0.00122178 0.00329335]\n",
      "[1. 0. 0.] <-> [0.99349546 0.00163724 0.00486724]\n",
      "[1. 0. 0.] <-> [0.99605334 0.00173691 0.00220977]\n",
      "[0. 1. 0.] <-> [2.7130112e-02 9.7239333e-01 4.7657904e-04]\n",
      "[1. 0. 0.] <-> [0.9912486  0.00176871 0.00698261]\n",
      "[1. 0. 0.] <-> [0.90039825 0.00775984 0.09184188]\n",
      "[1. 0. 0.] <-> [0.996845   0.00124963 0.00190536]\n",
      "[1. 0. 0.] <-> [0.9622041  0.00484163 0.03295426]\n",
      "[0. 1. 0.] <-> [1.5954563e-02 9.8379022e-01 2.5520177e-04]\n",
      "[1. 0. 0.] <-> [0.9885838  0.00196247 0.00945366]\n",
      "[1. 0. 0.] <-> [0.9969733  0.00142908 0.00159766]\n",
      "[1. 0. 0.] <-> [0.955452   0.00439403 0.04015397]\n",
      "[1. 0. 0.] <-> [0.9961338  0.00139708 0.00246917]\n",
      "[1. 0. 0.] <-> [0.99283457 0.00356324 0.00360228]\n",
      "[0. 1. 0.] <-> [0.8055482  0.19046274 0.00398914]\n",
      "[1. 0. 0.] <-> [0.99288505 0.00155323 0.00556168]\n",
      "[1. 0. 0.] <-> [0.9911083  0.00576635 0.0031253 ]\n",
      "[0. 0. 1.] <-> [0.00483579 0.00155158 0.9936126 ]\n",
      "[0. 0. 1.] <-> [0.00500812 0.00161917 0.9933727 ]\n",
      "[1. 0. 0.] <-> [0.993411   0.00422164 0.00236728]\n",
      "[1. 0. 0.] <-> [0.99557745 0.00174138 0.00268116]\n",
      "[0. 0. 1.] <-> [2.8445234e-04 3.6822036e-02 9.6289355e-01]\n",
      "[1. 0. 0.] <-> [0.99727064 0.0010829  0.00164641]\n",
      "[1. 0. 0.] <-> [0.9069561  0.00630638 0.08673755]\n",
      "[0. 0. 1.] <-> [0.00292534 0.00362632 0.9934483 ]\n",
      "[1. 0. 0.] <-> [0.99392235 0.00448783 0.00158985]\n",
      "[1. 0. 0.] <-> [0.9921687  0.00167135 0.00615988]\n",
      "[1. 0. 0.] <-> [0.951159   0.04646498 0.00237597]\n",
      "[0. 0. 1.] <-> [0.00472152 0.0015359  0.9937425 ]\n",
      "[1. 0. 0.] <-> [0.9959883  0.00121802 0.00279366]\n",
      "[1. 0. 0.] <-> [0.99585706 0.00206413 0.00207882]\n",
      "[0. 1. 0.] <-> [9.4674816e-03 9.9034542e-01 1.8710972e-04]\n",
      "[1. 0. 0.] <-> [0.99235326 0.00158095 0.00606589]\n",
      "[1. 0. 0.] <-> [0.96392584 0.00390516 0.03216903]\n",
      "[0. 0. 1.] <-> [0.25188988 0.00576052 0.74234957]\n",
      "[0. 0. 1.] <-> [2.8445598e-04 3.6821544e-02 9.6289396e-01]\n",
      "[1. 0. 0.] <-> [0.99374515 0.00206635 0.00418857]\n",
      "[1. 0. 0.] <-> [0.99614006 0.00117594 0.00268392]\n",
      "[1. 0. 0.] <-> [0.99685043 0.0013776  0.00177199]\n",
      "[1. 0. 0.] <-> [0.9900547  0.00793392 0.00201135]\n",
      "[1. 0. 0.] <-> [0.99629104 0.00112051 0.0025884 ]\n",
      "[1. 0. 0.] <-> [0.93006057 0.00529218 0.06464726]\n",
      "[1. 0. 0.] <-> [0.9918285  0.00616688 0.00200452]\n",
      "[0. 1. 0.] <-> [7.6799262e-03 9.9216026e-01 1.5981965e-04]\n",
      "[0. 1. 0.] <-> [0.6471409  0.35041305 0.00244607]\n",
      "[1. 0. 0.] <-> [0.99719715 0.00124874 0.00155405]\n",
      "[0. 0. 1.] <-> [0.00321861 0.00241573 0.9943657 ]\n",
      "[1. 0. 0.] <-> [0.99723524 0.00103971 0.00172504]\n",
      "[1. 0. 0.] <-> [0.98889357 0.00799384 0.00311265]\n",
      "[0. 1. 0.] <-> [7.8218561e-03 9.9201596e-01 1.6208281e-04]\n",
      "[0. 0. 1.] <-> [0.00476171 0.00152799 0.9937103 ]\n",
      "[1. 0. 0.] <-> [0.9952447  0.00167417 0.00308111]\n",
      "[1. 0. 0.] <-> [0.9964245  0.00173196 0.00184349]\n",
      "[0. 1. 0.] <-> [7.6641762e-03 9.9217623e-01 1.5956271e-04]\n",
      "[1. 0. 0.] <-> [0.99676764 0.00124774 0.00198455]\n",
      "[1. 0. 0.] <-> [0.9964858  0.00186287 0.00165129]\n",
      "[1. 0. 0.] <-> [0.9818503  0.00226521 0.01588446]\n",
      "[1. 0. 0.] <-> [0.9951999  0.00143628 0.00336371]\n",
      "[1. 0. 0.] <-> [0.9842487  0.00803043 0.0077209 ]\n",
      "[1. 0. 0.] <-> [0.9967308  0.00127057 0.00199864]\n",
      "[0. 1. 0.] <-> [7.9180952e-03 9.9191839e-01 1.6354435e-04]\n",
      "[1. 0. 0.] <-> [0.00398714 0.01504859 0.98096424]\n",
      "[1. 0. 0.] <-> [0.9947866  0.00150267 0.00371078]\n",
      "[1. 0. 0.] <-> [0.99302423 0.0023769  0.00459884]\n",
      "[1. 0. 0.] <-> [0.99473155 0.00139799 0.0038705 ]\n",
      "{'accuracy': 0.9753086419753086, 'mean_square_error': 0.06131228565911444, 'categorical_crossentropy': 0.12446889170893917, 'essential_metrics': {0: {'tp_hit': 78, 'fp_hit': 2, 'tn_hit': 26, 'fn_hit': 2}, 1: {'tp_hit': 13, 'fp_hit': 0, 'tn_hit': 93, 'fn_hit': 2}, 2: {'tp_hit': 13, 'fp_hit': 2, 'tn_hit': 93, 'fn_hit': 0}}}\n"
     ]
    }
   ],
   "source": [
    "# recall phase\n",
    "score = model.evaluate(x_test, y_test, False)\n",
    "print(score)"
   ]
  },
  {
   "cell_type": "code",
   "execution_count": 11,
   "metadata": {},
   "outputs": [
    {
     "data": {
      "image/png": "[encoded data removed]",
      "text/plain": [
       "<Figure size 864x360 with 1 Axes>"
      ]
     },
     "metadata": {
      "needs_background": "light"
     },
     "output_type": "display_data"
    },
    {
     "data": {
      "image/png": "[encoded data removed]",
      "text/plain": [
       "<Figure size 864x360 with 1 Axes>"
      ]
     },
     "metadata": {
      "needs_background": "light"
     },
     "output_type": "display_data"
    }
   ],
   "source": [
    "draw_plot(x = [[i for i in range(len(history))], [(i+1)*breakpoint for i in range(len(checkpoints))]], y_list = [history, [ ckp[model.loss_fn] for ckp in checkpoints ]], x_label = 'Epochs', \\\n",
    "    y_label = model.loss_fn, legend=['train', 'test'])\n",
    "acc = [ ckp['accuracy'] for ckp in checkpoints ]\n",
    "draw_plot(x = [[(i+1)*breakpoint for i in range(len(checkpoints))]], y_list = [acc], x_label = 'Checkpoints', \\\n",
    "    y_label = 'accuracy')"
   ]
  },
  {
   "cell_type": "code",
   "execution_count": 12,
   "metadata": {},
   "outputs": [
    {
     "name": "stdout",
     "output_type": "stream",
     "text": [
      "{'accuracy': 0.9320987654320988, 'mean_square_error': 0.15213234846618381, 'categorical_crossentropy': 0.2908655625802499, 'essential_metrics': {0: {'tp_hit': 76, 'fp_hit': 7, 'tn_hit': 21, 'fn_hit': 4}, 1: {'tp_hit': 11, 'fp_hit': 1, 'tn_hit': 92, 'fn_hit': 4}, 2: {'tp_hit': 10, 'fp_hit': 3, 'tn_hit': 92, 'fn_hit': 3}}, 'checkpoint': 100} \n",
      "\n",
      "\n",
      "{'accuracy': 0.9629629629629629, 'mean_square_error': 0.07527363039794233, 'categorical_crossentropy': 0.1536330293726038, 'essential_metrics': {0: {'tp_hit': 77, 'fp_hit': 3, 'tn_hit': 25, 'fn_hit': 3}, 1: {'tp_hit': 13, 'fp_hit': 0, 'tn_hit': 93, 'fn_hit': 2}, 2: {'tp_hit': 12, 'fp_hit': 3, 'tn_hit': 92, 'fn_hit': 1}}, 'checkpoint': 200} \n",
      "\n",
      "\n",
      "{'accuracy': 0.9753086419753086, 'mean_square_error': 0.06834366238747559, 'categorical_crossentropy': 0.14051718182033962, 'essential_metrics': {0: {'tp_hit': 78, 'fp_hit': 2, 'tn_hit': 26, 'fn_hit': 2}, 1: {'tp_hit': 13, 'fp_hit': 0, 'tn_hit': 93, 'fn_hit': 2}, 2: {'tp_hit': 13, 'fp_hit': 2, 'tn_hit': 93, 'fn_hit': 0}}, 'checkpoint': 300} \n",
      "\n",
      "\n",
      "{'accuracy': 0.9753086419753086, 'mean_square_error': 0.061855774720885805, 'categorical_crossentropy': 0.12270805570814344, 'essential_metrics': {0: {'tp_hit': 78, 'fp_hit': 2, 'tn_hit': 26, 'fn_hit': 2}, 1: {'tp_hit': 13, 'fp_hit': 0, 'tn_hit': 93, 'fn_hit': 2}, 2: {'tp_hit': 13, 'fp_hit': 2, 'tn_hit': 93, 'fn_hit': 0}}, 'checkpoint': 400} \n",
      "\n",
      "\n",
      "{'accuracy': 0.9753086419753086, 'mean_square_error': 0.06131228565911444, 'categorical_crossentropy': 0.12446889170893917, 'essential_metrics': {0: {'tp_hit': 78, 'fp_hit': 2, 'tn_hit': 26, 'fn_hit': 2}, 1: {'tp_hit': 13, 'fp_hit': 0, 'tn_hit': 93, 'fn_hit': 2}, 2: {'tp_hit': 13, 'fp_hit': 2, 'tn_hit': 93, 'fn_hit': 0}}, 'checkpoint': 500} \n",
      "\n",
      "\n"
     ]
    }
   ],
   "source": [
    "for checkpoint in checkpoints:\n",
    "    print(checkpoint, '\\n\\n')"
   ]
  },
  {
   "cell_type": "code",
   "execution_count": 13,
   "metadata": {},
   "outputs": [
    {
     "name": "stdout",
     "output_type": "stream",
     "text": [
      "Layer 1\n",
      "Neuron 0: weights:\n",
      "[ 2.0974789  -3.         -2.0468962  -0.36935896  3.        ]\n",
      " bias: 3.0\n",
      "\n",
      "Neuron 1: weights:\n",
      "[-1.9030463  3.         3.        -1.9797065  3.       ]\n",
      " bias: -1.600443720817566\n",
      "\n",
      "Neuron 2: weights:\n",
      "[ 0.17819135 -3.         -1.360431    3.          3.        ]\n",
      " bias: -3.0\n",
      "\n",
      "Neuron 3: weights:\n",
      "[ 0.15205961  3.          0.5206015  -0.88732135 -3.        ]\n",
      " bias: 2.740142822265625\n",
      "\n",
      "$\n",
      "Layer 2\n",
      "Neuron 0: weights:\n",
      "[ 3. -3. -3.  3.]\n",
      " bias: 0.011349720880389214\n",
      "\n",
      "Neuron 1: weights:\n",
      "[-3.  3.  3.  3.]\n",
      " bias: -1.1253087520599365\n",
      "\n",
      "Neuron 2: weights:\n",
      "[ 3.         -0.21588202  3.         -3.        ]\n",
      " bias: -0.6456103920936584\n",
      "\n",
      "$\n",
      "\n"
     ]
    }
   ],
   "source": [
    "print(model)"
   ]
  }
 ],
 "metadata": {
  "kernelspec": {
   "display_name": "Python 3",
   "language": "python",
   "name": "python3"
  },
  "language_info": {
   "codemirror_mode": {
    "name": "ipython",
    "version": 3
   },
   "file_extension": ".py",
   "mimetype": "text/x-python",
   "name": "python",
   "nbconvert_exporter": "python",
   "pygments_lexer": "ipython3",
   "version": "3.6.10"
  }
 },
 "nbformat": 4,
 "nbformat_minor": 2
}
