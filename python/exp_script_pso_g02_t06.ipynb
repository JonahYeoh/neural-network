{
 "cells": [
  {
   "cell_type": "code",
   "execution_count": 1,
   "metadata": {},
   "outputs": [],
   "source": [
    "# dependency\n",
    "import numpy as np\n",
    "import pandas as pd\n",
    "import copy\n",
    "import math\n",
    "import sys\n",
    "import os\n",
    "from activations import relu, leaky_relu, sigmoid, tanh, softmax, d_sigmoid, d_relu\n",
    "from initializers import glorot_uniform, random_normal, random_uniform\n",
    "from regularizers import l1_regularizer, l2_regularizer\n",
    "from utility import trim_tail, multiply, subtract, get_nparams, one_hot_encoding, get_data\n",
    "from metrics import MSE, CCE, ACC, PRECISION, RECALL, essential_metrics, wondering_penalty, close_gap_penalty\n",
    "from pso import PSO\n",
    "from ga import GA\n",
    "from nn import Network\n",
    "from layer import DenseLayer\n",
    "from scalers import MinMaxScaler, StandardScaler"
   ]
  },
  {
   "cell_type": "code",
   "execution_count": 2,
   "metadata": {},
   "outputs": [],
   "source": [
    "# reference\n",
    "metrics_fn_dict = dict()\n",
    "metrics_fn_dict['accuracy'] = ACC\n",
    "metrics_fn_dict['categorical_crossentropy'] = CCE\n",
    "metrics_fn_dict['mean_square_error'] = MSE\n",
    "metrics_fn_dict['precision'] = PRECISION\n",
    "metrics_fn_dict['recall'] = RECALL\n",
    "metrics_fn_dict['essential_metrics'] = essential_metrics"
   ]
  },
  {
   "cell_type": "code",
   "execution_count": 3,
   "metadata": {},
   "outputs": [],
   "source": [
    "# model\n",
    "model = Network(5, lr = None)\n",
    "model.add_layer(DenseLayer(1, 4, True, afn=sigmoid, dafn=None, rfn=None))\n",
    "model.add_layer(DenseLayer(2, 3, True, afn=softmax, dafn=None, rfn=None))"
   ]
  },
  {
   "cell_type": "code",
   "execution_count": 4,
   "metadata": {},
   "outputs": [
    {
     "name": "stdout",
     "output_type": "stream",
     "text": [
      "see one see two 2.0 0.5\n"
     ]
    }
   ],
   "source": [
    "pso = PSO(dict(m = 100,\n",
    "    weight_constraint = [-3, 3], \n",
    "    velocity_constraint = [-0.1, 0.1],\n",
    "    c1 = [0.5, 2.0],\n",
    "    c2 = [0.5, 2.0],\n",
    "    w = [0.5, 1.6],\n",
    "    w_decay = 0.95,\n",
    "    scale_hyperparameter = False,\n",
    "    regularizer = None,\n",
    "    mask = True))"
   ]
  },
  {
   "cell_type": "code",
   "execution_count": 5,
   "metadata": {},
   "outputs": [
    {
     "name": "stdout",
     "output_type": "stream",
     "text": [
      "building layer 1 with 5\n",
      "24\n",
      "building layer 2 with 4\n",
      "15\n"
     ]
    }
   ],
   "source": [
    "model.compile(loss_fn = 'categorical_crossentropy', optimizer = pso, \\\n",
    "    metrics = ['accuracy', 'mean_square_error', 'categorical_crossentropy'])"
   ]
  },
  {
   "cell_type": "code",
   "execution_count": 6,
   "metadata": {},
   "outputs": [
    {
     "name": "stdout",
     "output_type": "stream",
     "text": [
      "<class 'pandas.core.frame.DataFrame'>\n",
      "RangeIndex: 107 entries, 0 to 106\n",
      "Data columns (total 6 columns):\n",
      " #   Column  Non-Null Count  Dtype  \n",
      "---  ------  --------------  -----  \n",
      " 0   f1      107 non-null    float32\n",
      " 1   f2      107 non-null    float32\n",
      " 2   f3      107 non-null    float32\n",
      " 3   f4      107 non-null    float32\n",
      " 4   f5      107 non-null    float32\n",
      " 5   label   107 non-null    float32\n",
      "dtypes: float32(6)\n",
      "memory usage: 2.6 KB\n",
      "None\n",
      "<class 'pandas.core.frame.DataFrame'>\n",
      "RangeIndex: 108 entries, 0 to 107\n",
      "Data columns (total 6 columns):\n",
      " #   Column  Non-Null Count  Dtype  \n",
      "---  ------  --------------  -----  \n",
      " 0   f1      108 non-null    float32\n",
      " 1   f2      108 non-null    float32\n",
      " 2   f3      108 non-null    float32\n",
      " 3   f4      108 non-null    float32\n",
      " 4   f5      108 non-null    float32\n",
      " 5   label   108 non-null    float32\n",
      "dtypes: float32(6)\n",
      "memory usage: 2.7 KB\n",
      "None\n"
     ]
    }
   ],
   "source": [
    "# data loading\n",
    "DATA = os.path.join('c:\\\\Users\\\\AI-lab\\\\github_repo\\\\neural-network\\\\', 'dataset')\n",
    "GROUP = 2\n",
    "COLUMNS = ['f1', 'f2', 'f3', 'f4', 'f5', 'label']\n",
    "N_CLASS = 3\n",
    "EPOCHS = 200\n",
    "train_dir, test_dir = \"..//dataset//training_data{}.txt\".format(GROUP), \"..//dataset//testing_data{}.txt\".format(GROUP)\n",
    "train, test = get_data(DATA, train_dir, COLUMNS), get_data(DATA, test_dir, COLUMNS)\n",
    "# shuffle\n",
    "train, test = train.sample(frac=1), test.sample(frac=1)\n",
    "x_train, y_train = train.drop('label', axis=1), train['label']\n",
    "x_test, y_test = test.drop('label', axis=1), test['label']"
   ]
  },
  {
   "cell_type": "code",
   "execution_count": 7,
   "metadata": {},
   "outputs": [],
   "source": [
    "# data scaling and encoding\n",
    "scaler = StandardScaler(['f1', 'f2', 'f3', 'f4', 'f5'])\n",
    "scaler.fit(x_train)\n",
    "x_train = scaler.transform(x_train)\n",
    "x_test = scaler.transform(x_test)\n",
    "y_train = one_hot_encoding(y_train, N_CLASS)\n",
    "y_test = one_hot_encoding(y_test, N_CLASS)"
   ]
  },
  {
   "cell_type": "code",
   "execution_count": 8,
   "metadata": {
    "tags": [
     "outputPrepend"
    ]
   },
   "outputs": [
    {
     "name": "stdout",
     "output_type": "stream",
     "text": [
      "Checkpoint 10, Accuracy: 0.8888888888888888, Loss: 0.6466686107494213\n",
      "Checkpoint 20, Accuracy: 0.8950617283950617, Loss: 0.6277170534487124\n",
      "Checkpoint 30, Accuracy: 0.8395061728395061, Loss: 0.5856817739981192\n",
      "Checkpoint 40, Accuracy: 0.845679012345679, Loss: 0.5577575189095957\n",
      "Checkpoint 50, Accuracy: 0.9074074074074074, Loss: 0.4448368990862811\n",
      "Checkpoint 60, Accuracy: 0.9012345679012346, Loss: 0.4444490362096716\n",
      "Checkpoint 70, Accuracy: 0.9320987654320988, Loss: 0.3772224850124783\n",
      "Checkpoint 80, Accuracy: 0.9506172839506173, Loss: 0.30739109604446974\n",
      "Checkpoint 90, Accuracy: 0.9444444444444444, Loss: 0.2876134448581272\n",
      "Checkpoint 100, Accuracy: 0.9506172839506173, Loss: 0.25632702862774887\n",
      "Checkpoint 110, Accuracy: 0.9691358024691358, Loss: 0.2154881512677228\n",
      "Checkpoint 120, Accuracy: 0.9567901234567902, Loss: 0.1933192323755335\n",
      "Checkpoint 130, Accuracy: 0.9753086419753086, Loss: 0.1746368054990415\n",
      "Checkpoint 140, Accuracy: 0.9629629629629629, Loss: 0.17697314862851743\n",
      "Checkpoint 150, Accuracy: 0.9753086419753086, Loss: 0.1703640619913737\n",
      "Checkpoint 160, Accuracy: 0.9691358024691358, Loss: 0.16238892519915546\n",
      "Checkpoint 170, Accuracy: 0.9691358024691358, Loss: 0.1552906036376953\n",
      "Checkpoint 180, Accuracy: 0.9629629629629629, Loss: 0.14554784916065358\n",
      "Checkpoint 190, Accuracy: 0.9691358024691358, Loss: 0.138919229860659\n",
      "Checkpoint 200, Accuracy: 0.9753086419753086, Loss: 0.12459249849672671\n"
     ]
    }
   ],
   "source": [
    "# learning phase\n",
    "breakpoint = 10\n",
    "checkpoints = list()\n",
    "history = list()\n",
    "for century in range(0, EPOCHS, breakpoint):\n",
    "    sub_history = model.fit(x_train, y_train, breakpoint, verbose = 0)\n",
    "    score = model.evaluate(x_test, y_test, False, verbose = 0)\n",
    "    print('Checkpoint {}, Accuracy: {}, Loss: {}'.format(century+breakpoint, score['accuracy'], score[model.loss_fn]))\n",
    "    score['checkpoint'] = century + breakpoint\n",
    "    checkpoints.append(score)\n",
    "    history.extend(sub_history)\n",
    "    itr = century + breakpoint\n",
    "    model.optimizer.c1 = np.max([model.optimizer.C1[1] - ((model.optimizer.C1[1] - model.optimizer.C1[0]) * itr / EPOCHS), model.optimizer.C1[0]])\n",
    "    model.optimizer.c2 = np.min([model.optimizer.C2[0] + ((model.optimizer.C2[1] - model.optimizer.C2[0]) * itr / EPOCHS), model.optimizer.C2[1]])\n",
    "    model.optimizer.w = np.max([model.optimizer.w * model.optimizer.W_Decay, model.optimizer.W[0]])"
   ]
  },
  {
   "cell_type": "code",
   "execution_count": 9,
   "metadata": {},
   "outputs": [],
   "source": [
    "import matplotlib.pyplot as plt\n",
    "\n",
    "def draw_plot(x, y_list, x_label=None, y_label=None, legend=None, title=None):\n",
    "    fig, ax = plt.subplots(figsize=(12,5))\n",
    "    for xi, yi in zip(x, y_list):\n",
    "        ax.plot(xi, yi)\n",
    "    if x_label is not None and y_label is not None:\n",
    "        ax.set(xlabel=x_label, ylabel=y_label, title='{} VS {}'.format(x_label, y_label))\n",
    "    if legend is not None:\n",
    "        ax.legend(legend)\n",
    "    ax.grid()\n",
    "    plt.show()"
   ]
  },
  {
   "cell_type": "code",
   "execution_count": 10,
   "metadata": {},
   "outputs": [],
   "source": [
    "train_acc = [h['accuracy'] for h in history]\n",
    "train_mse = [h['mean_square_error'] for h in history]\n",
    "train_cce = [h['categorical_crossentropy'] for h in history]"
   ]
  },
  {
   "cell_type": "code",
   "execution_count": 11,
   "metadata": {},
   "outputs": [
    {
     "name": "stdout",
     "output_type": "stream",
     "text": [
      "[1. 0. 0.] <-> [0.99040306 0.00486001 0.00473695]\n",
      "[1. 0. 0.] <-> [0.06951209 0.00271456 0.9277733 ]\n",
      "[1. 0. 0.] <-> [0.770007   0.0030259  0.22696705]\n",
      "[1. 0. 0.] <-> [0.99025553 0.0057299  0.00401451]\n",
      "[1. 0. 0.] <-> [0.9880648  0.00711452 0.00482066]\n",
      "[1. 0. 0.] <-> [0.97525746 0.00579492 0.0189475 ]\n",
      "[0. 0. 1.] <-> [0.00479341 0.00199554 0.9932111 ]\n",
      "[0. 1. 0.] <-> [1.5689585e-02 9.8364741e-01 6.6296820e-04]\n",
      "[0. 1. 0.] <-> [1.6017471e-02 9.8331636e-01 6.6619780e-04]\n",
      "[1. 0. 0.] <-> [0.7491775  0.0061913  0.24463111]\n",
      "[1. 0. 0.] <-> [0.96685475 0.02575187 0.00739336]\n",
      "[1. 0. 0.] <-> [0.97637993 0.00170113 0.02191902]\n",
      "[1. 0. 0.] <-> [0.9927079  0.00386274 0.00342936]\n",
      "[0. 0. 1.] <-> [0.24045168 0.00266917 0.75687915]\n",
      "[1. 0. 0.] <-> [0.77658314 0.00505511 0.21836178]\n",
      "[0. 1. 0.] <-> [4.1643377e-02 9.5746344e-01 8.9328119e-04]\n",
      "[1. 0. 0.] <-> [0.5968097 0.0050475 0.3981428]\n",
      "[1. 0. 0.] <-> [0.98817235 0.00313212 0.00869546]\n",
      "[0. 0. 1.] <-> [0.01257209 0.00146276 0.98596513]\n",
      "[1. 0. 0.] <-> [0.9719263  0.00257295 0.02550081]\n",
      "[1. 0. 0.] <-> [0.97517186 0.00235728 0.02247086]\n",
      "[1. 0. 0.] <-> [0.9811001  0.00621306 0.01268685]\n",
      "[1. 0. 0.] <-> [0.9827633  0.01206368 0.00517305]\n",
      "[0. 0. 1.] <-> [0.00357061 0.0023546  0.99407476]\n",
      "[0. 0. 1.] <-> [0.0027605  0.00237718 0.99486226]\n",
      "[1. 0. 0.] <-> [0.9518195  0.00655023 0.04163028]\n",
      "[1. 0. 0.] <-> [0.9811272  0.00628606 0.01258668]\n",
      "[1. 0. 0.] <-> [0.9779779  0.01177695 0.01024513]\n",
      "[1. 0. 0.] <-> [0.972787   0.00180876 0.02540431]\n",
      "[1. 0. 0.] <-> [0.9866498  0.00626631 0.0070839 ]\n",
      "[1. 0. 0.] <-> [0.977101   0.01567288 0.00722604]\n",
      "[1. 0. 0.] <-> [0.77850425 0.00448677 0.21700905]\n",
      "[1. 0. 0.] <-> [0.9810878  0.01265499 0.00625724]\n",
      "[1. 0. 0.] <-> [0.9907941  0.00490667 0.00429918]\n",
      "[1. 0. 0.] <-> [0.5375165  0.45959726 0.00288628]\n",
      "[0. 0. 1.] <-> [0.0084532  0.00168297 0.9898638 ]\n",
      "[0. 0. 1.] <-> [0.00253548 0.00245882 0.9950058 ]\n",
      "[1. 0. 0.] <-> [0.846665   0.00303231 0.15030262]\n",
      "[1. 0. 0.] <-> [0.98964965 0.00394095 0.00640942]\n",
      "[1. 0. 0.] <-> [0.97553277 0.00187501 0.02259223]\n",
      "[0. 1. 0.] <-> [0.04811921 0.9509195  0.00096124]\n",
      "[0. 1. 0.] <-> [0.24039732 0.7572672  0.00233551]\n",
      "[1. 0. 0.] <-> [0.96902746 0.00348703 0.02748556]\n",
      "[0. 1. 0.] <-> [0.13627577 0.86152864 0.00219561]\n",
      "[1. 0. 0.] <-> [0.9883284  0.00343092 0.00824061]\n",
      "[1. 0. 0.] <-> [0.9801814  0.00418696 0.01563159]\n",
      "[1. 0. 0.] <-> [0.97971046 0.00400903 0.01628053]\n",
      "[1. 0. 0.] <-> [0.9674183  0.00526061 0.0273211 ]\n",
      "[0. 0. 1.] <-> [0.01078336 0.00178736 0.9874293 ]\n",
      "[1. 0. 0.] <-> [0.98716474 0.00806385 0.00477141]\n",
      "[1. 0. 0.] <-> [0.9714792  0.01275334 0.01576747]\n",
      "[1. 0. 0.] <-> [0.9769389  0.00254741 0.02051362]\n",
      "[0. 1. 0.] <-> [0.6859663  0.30476692 0.00926671]\n",
      "[1. 0. 0.] <-> [0.8890019  0.10685272 0.00414536]\n",
      "[0. 1. 0.] <-> [0.12293069 0.8757472  0.00132212]\n",
      "[1. 0. 0.] <-> [0.9939587  0.00272046 0.00332073]\n",
      "[1. 0. 0.] <-> [0.97912025 0.00665899 0.01422078]\n",
      "[1. 0. 0.] <-> [0.9866773  0.008139   0.00518363]\n",
      "[1. 0. 0.] <-> [0.98307437 0.0023043  0.01462134]\n",
      "[1. 0. 0.] <-> [0.9062491  0.00883547 0.08491535]\n",
      "[1. 0. 0.] <-> [0.98912466 0.00683184 0.00404348]\n",
      "[1. 0. 0.] <-> [0.91566336 0.07542966 0.00890696]\n",
      "[1. 0. 0.] <-> [0.9901079  0.00448506 0.00540707]\n",
      "[1. 0. 0.] <-> [0.98837703 0.00355509 0.00806786]\n",
      "[1. 0. 0.] <-> [0.97110456 0.0130182  0.01587722]\n",
      "[1. 0. 0.] <-> [0.9695649  0.02625087 0.0041842 ]\n",
      "[0. 1. 0.] <-> [1.9806044e-02 9.7949272e-01 7.0112426e-04]\n",
      "[0. 0. 1.] <-> [0.7165529  0.00119584 0.28225124]\n",
      "[1. 0. 0.] <-> [0.99103886 0.00264391 0.00631728]\n",
      "[1. 0. 0.] <-> [0.9819472  0.01269646 0.00535626]\n",
      "[0. 1. 0.] <-> [1.5802281e-02 9.8353368e-01 6.6409382e-04]\n",
      "[1. 0. 0.] <-> [0.9857113  0.00756833 0.00672035]\n",
      "[1. 0. 0.] <-> [0.9646995  0.00205477 0.03324574]\n",
      "[1. 0. 0.] <-> [0.994179   0.00282131 0.00299975]\n",
      "[1. 0. 0.] <-> [0.96911633 0.02669876 0.00418488]\n",
      "[1. 0. 0.] <-> [0.98689705 0.0104451  0.00265784]\n",
      "[1. 0. 0.] <-> [0.9876507  0.00314834 0.00920099]\n",
      "[1. 0. 0.] <-> [0.98963016 0.00655015 0.00381972]\n",
      "[0. 1. 0.] <-> [0.4298158  0.5677291  0.00245509]\n",
      "[0. 0. 1.] <-> [0.00285116 0.00235899 0.99478984]\n",
      "[1. 0. 0.] <-> [0.8763175  0.11996388 0.00371861]\n",
      "[1. 0. 0.] <-> [0.9876652  0.00623894 0.00609579]\n",
      "[0. 1. 0.] <-> [0.07941899 0.9194815  0.00109947]\n",
      "[0. 0. 1.] <-> [0.00247896 0.00246312 0.99505794]\n",
      "[1. 0. 0.] <-> [0.9554887  0.00226167 0.0422496 ]\n",
      "[1. 0. 0.] <-> [0.8259276  0.00254306 0.17152934]\n",
      "[1. 0. 0.] <-> [0.8135965  0.00152711 0.18487638]\n",
      "[0. 0. 1.] <-> [0.7430808  0.00211478 0.25480437]\n",
      "[1. 0. 0.] <-> [0.96769404 0.02629749 0.00600846]\n",
      "[1. 0. 0.] <-> [0.9866911  0.00521686 0.00809213]\n",
      "[0. 1. 0.] <-> [2.4294762e-02 9.7495890e-01 7.4632408e-04]\n",
      "[1. 0. 0.] <-> [0.98871976 0.00436765 0.0069125 ]\n",
      "[1. 0. 0.] <-> [0.97388124 0.01894908 0.00716977]\n",
      "[1. 0. 0.] <-> [0.9885972  0.00539418 0.00600858]\n",
      "[0. 0. 1.] <-> [0.0024717  0.00246497 0.99506336]\n",
      "[1. 0. 0.] <-> [0.9820156  0.01223307 0.00575129]\n",
      "[1. 0. 0.] <-> [0.93883616 0.05371763 0.00744623]\n",
      "[0. 1. 0.] <-> [0.43280646 0.56408435 0.00310916]\n",
      "[1. 0. 0.] <-> [0.9808177  0.00363844 0.01554391]\n",
      "[1. 0. 0.] <-> [0.8595096  0.00705171 0.13343874]\n",
      "[1. 0. 0.] <-> [0.98903894 0.00753874 0.00342238]\n",
      "[1. 0. 0.] <-> [0.98232424 0.00279603 0.01487968]\n",
      "[1. 0. 0.] <-> [0.98537755 0.00755599 0.00706641]\n",
      "[1. 0. 0.] <-> [0.97716296 0.00623822 0.01659878]\n",
      "[1. 0. 0.] <-> [0.9911548  0.00208429 0.00676094]\n",
      "[0. 1. 0.] <-> [2.2815024e-02 9.7645402e-01 7.3095749e-04]\n",
      "[1. 0. 0.] <-> [0.98755044 0.00848168 0.00396792]\n",
      "[1. 0. 0.] <-> [0.9895097  0.00476398 0.00572635]\n",
      "{'accuracy': 0.9753086419753086, 'mean_square_error': 0.06861626635722858, 'categorical_crossentropy': 0.12459249849672671, 'essential_metrics': {0: {'tp_hit': 79, 'fp_hit': 3, 'tn_hit': 25, 'fn_hit': 1}, 1: {'tp_hit': 14, 'fp_hit': 0, 'tn_hit': 93, 'fn_hit': 1}, 2: {'tp_hit': 11, 'fp_hit': 1, 'tn_hit': 94, 'fn_hit': 2}}}\n"
     ]
    }
   ],
   "source": [
    "# recall phase\n",
    "score = model.evaluate(x_test, y_test, False)\n",
    "print(score)"
   ]
  },
  {
   "cell_type": "code",
   "execution_count": 12,
   "metadata": {},
   "outputs": [
    {
     "data": {
      "image/png": "[encoded data removed]",
      "text/plain": [
       "<Figure size 864x360 with 1 Axes>"
      ]
     },
     "metadata": {
      "needs_background": "light"
     },
     "output_type": "display_data"
    },
    {
     "data": {
      "image/png": "[encoded data removed]",
      "text/plain": [
       "<Figure size 864x360 with 1 Axes>"
      ]
     },
     "metadata": {
      "needs_background": "light"
     },
     "output_type": "display_data"
    }
   ],
   "source": [
    "draw_plot(x = [[i for i in range(len(history))], [(i+1)*breakpoint for i in range(len(checkpoints))]], y_list = [train_cce, [ ckp[model.loss_fn] for ckp in checkpoints ]], x_label = 'Epochs', \\\n",
    "    y_label = model.loss_fn, legend=['train', 'test'])\n",
    "acc = [ ckp['accuracy'] for ckp in checkpoints ]\n",
    "draw_plot(x = [[i for i in range(len(history))], [(i+1)*breakpoint for i in range(len(checkpoints))]], y_list = [train_acc, acc], x_label = 'Checkpoints', \\\n",
    "    y_label = 'accuracy', legend=['train', 'test'])"
   ]
  },
  {
   "cell_type": "code",
   "execution_count": 13,
   "metadata": {},
   "outputs": [
    {
     "name": "stdout",
     "output_type": "stream",
     "text": [
      "{'accuracy': 0.8888888888888888, 'mean_square_error': 0.3429245702705841, 'categorical_crossentropy': 0.6466686107494213, 'essential_metrics': {0: {'tp_hit': 79, 'fp_hit': 17, 'tn_hit': 11, 'fn_hit': 1}, 1: {'tp_hit': 11, 'fp_hit': 1, 'tn_hit': 92, 'fn_hit': 4}, 2: {'tp_hit': 0, 'fp_hit': 0, 'tn_hit': 95, 'fn_hit': 13}}, 'checkpoint': 10} \n",
      "\n",
      "\n",
      "{'accuracy': 0.8950617283950617, 'mean_square_error': 0.3575867771884915, 'categorical_crossentropy': 0.6277170534487124, 'essential_metrics': {0: {'tp_hit': 79, 'fp_hit': 16, 'tn_hit': 12, 'fn_hit': 1}, 1: {'tp_hit': 6, 'fp_hit': 1, 'tn_hit': 92, 'fn_hit': 9}, 2: {'tp_hit': 6, 'fp_hit': 0, 'tn_hit': 95, 'fn_hit': 7}}, 'checkpoint': 20} \n",
      "\n",
      "\n",
      "{'accuracy': 0.8395061728395061, 'mean_square_error': 0.3370417870009081, 'categorical_crossentropy': 0.5856817739981192, 'essential_metrics': {0: {'tp_hit': 78, 'fp_hit': 24, 'tn_hit': 4, 'fn_hit': 2}, 1: {'tp_hit': 0, 'fp_hit': 2, 'tn_hit': 91, 'fn_hit': 15}, 2: {'tp_hit': 4, 'fp_hit': 0, 'tn_hit': 95, 'fn_hit': 9}}, 'checkpoint': 30} \n",
      "\n",
      "\n",
      "{'accuracy': 0.845679012345679, 'mean_square_error': 0.3282393583440079, 'categorical_crossentropy': 0.5577575189095957, 'essential_metrics': {0: {'tp_hit': 79, 'fp_hit': 24, 'tn_hit': 4, 'fn_hit': 1}, 1: {'tp_hit': 0, 'fp_hit': 1, 'tn_hit': 92, 'fn_hit': 15}, 2: {'tp_hit': 4, 'fp_hit': 0, 'tn_hit': 95, 'fn_hit': 9}}, 'checkpoint': 40} \n",
      "\n",
      "\n",
      "{'accuracy': 0.9074074074074074, 'mean_square_error': 0.24098860725002383, 'categorical_crossentropy': 0.4448368990862811, 'essential_metrics': {0: {'tp_hit': 80, 'fp_hit': 13, 'tn_hit': 15, 'fn_hit': 0}, 1: {'tp_hit': 6, 'fp_hit': 0, 'tn_hit': 93, 'fn_hit': 9}, 2: {'tp_hit': 7, 'fp_hit': 2, 'tn_hit': 93, 'fn_hit': 6}}, 'checkpoint': 50} \n",
      "\n",
      "\n",
      "{'accuracy': 0.9012345679012346, 'mean_square_error': 0.2437519376389158, 'categorical_crossentropy': 0.4444490362096716, 'essential_metrics': {0: {'tp_hit': 80, 'fp_hit': 14, 'tn_hit': 14, 'fn_hit': 0}, 1: {'tp_hit': 5, 'fp_hit': 0, 'tn_hit': 93, 'fn_hit': 10}, 2: {'tp_hit': 7, 'fp_hit': 2, 'tn_hit': 93, 'fn_hit': 6}}, 'checkpoint': 60} \n",
      "\n",
      "\n",
      "{'accuracy': 0.9320987654320988, 'mean_square_error': 0.1916896727942751, 'categorical_crossentropy': 0.3772224850124783, 'essential_metrics': {0: {'tp_hit': 80, 'fp_hit': 9, 'tn_hit': 19, 'fn_hit': 0}, 1: {'tp_hit': 9, 'fp_hit': 0, 'tn_hit': 93, 'fn_hit': 6}, 2: {'tp_hit': 8, 'fp_hit': 2, 'tn_hit': 93, 'fn_hit': 5}}, 'checkpoint': 70} \n",
      "\n",
      "\n",
      "{'accuracy': 0.9506172839506173, 'mean_square_error': 0.15060712673768165, 'categorical_crossentropy': 0.30739109604446974, 'essential_metrics': {0: {'tp_hit': 80, 'fp_hit': 8, 'tn_hit': 20, 'fn_hit': 0}, 1: {'tp_hit': 11, 'fp_hit': 0, 'tn_hit': 93, 'fn_hit': 4}, 2: {'tp_hit': 9, 'fp_hit': 0, 'tn_hit': 95, 'fn_hit': 4}}, 'checkpoint': 80} \n",
      "\n",
      "\n",
      "{'accuracy': 0.9444444444444444, 'mean_square_error': 0.1410523173382319, 'categorical_crossentropy': 0.2876134448581272, 'essential_metrics': {0: {'tp_hit': 80, 'fp_hit': 9, 'tn_hit': 19, 'fn_hit': 0}, 1: {'tp_hit': 9, 'fp_hit': 0, 'tn_hit': 93, 'fn_hit': 6}, 2: {'tp_hit': 10, 'fp_hit': 0, 'tn_hit': 95, 'fn_hit': 3}}, 'checkpoint': 90} \n",
      "\n",
      "\n",
      "{'accuracy': 0.9506172839506173, 'mean_square_error': 0.12196035609296331, 'categorical_crossentropy': 0.25632702862774887, 'essential_metrics': {0: {'tp_hit': 79, 'fp_hit': 7, 'tn_hit': 21, 'fn_hit': 1}, 1: {'tp_hit': 11, 'fp_hit': 0, 'tn_hit': 93, 'fn_hit': 4}, 2: {'tp_hit': 10, 'fp_hit': 1, 'tn_hit': 94, 'fn_hit': 3}}, 'checkpoint': 100} \n",
      "\n",
      "\n",
      "{'accuracy': 0.9691358024691358, 'mean_square_error': 0.09051587712861277, 'categorical_crossentropy': 0.2154881512677228, 'essential_metrics': {0: {'tp_hit': 79, 'fp_hit': 4, 'tn_hit': 24, 'fn_hit': 1}, 1: {'tp_hit': 14, 'fp_hit': 0, 'tn_hit': 93, 'fn_hit': 1}, 2: {'tp_hit': 10, 'fp_hit': 1, 'tn_hit': 94, 'fn_hit': 3}}, 'checkpoint': 110} \n",
      "\n",
      "\n",
      "{'accuracy': 0.9567901234567902, 'mean_square_error': 0.08921562811930961, 'categorical_crossentropy': 0.1933192323755335, 'essential_metrics': {0: {'tp_hit': 79, 'fp_hit': 6, 'tn_hit': 22, 'fn_hit': 1}, 1: {'tp_hit': 12, 'fp_hit': 0, 'tn_hit': 93, 'fn_hit': 3}, 2: {'tp_hit': 10, 'fp_hit': 1, 'tn_hit': 94, 'fn_hit': 3}}, 'checkpoint': 120} \n",
      "\n",
      "\n",
      "{'accuracy': 0.9753086419753086, 'mean_square_error': 0.07927836999843249, 'categorical_crossentropy': 0.1746368054990415, 'essential_metrics': {0: {'tp_hit': 79, 'fp_hit': 3, 'tn_hit': 25, 'fn_hit': 1}, 1: {'tp_hit': 14, 'fp_hit': 0, 'tn_hit': 93, 'fn_hit': 1}, 2: {'tp_hit': 11, 'fp_hit': 1, 'tn_hit': 94, 'fn_hit': 2}}, 'checkpoint': 130} \n",
      "\n",
      "\n",
      "{'accuracy': 0.9629629629629629, 'mean_square_error': 0.08606946906176204, 'categorical_crossentropy': 0.17697314862851743, 'essential_metrics': {0: {'tp_hit': 79, 'fp_hit': 5, 'tn_hit': 23, 'fn_hit': 1}, 1: {'tp_hit': 12, 'fp_hit': 0, 'tn_hit': 93, 'fn_hit': 3}, 2: {'tp_hit': 11, 'fp_hit': 1, 'tn_hit': 94, 'fn_hit': 2}}, 'checkpoint': 140} \n",
      "\n",
      "\n",
      "{'accuracy': 0.9753086419753086, 'mean_square_error': 0.08648653017568424, 'categorical_crossentropy': 0.1703640619913737, 'essential_metrics': {0: {'tp_hit': 79, 'fp_hit': 3, 'tn_hit': 25, 'fn_hit': 1}, 1: {'tp_hit': 14, 'fp_hit': 0, 'tn_hit': 93, 'fn_hit': 1}, 2: {'tp_hit': 11, 'fp_hit': 1, 'tn_hit': 94, 'fn_hit': 2}}, 'checkpoint': 150} \n",
      "\n",
      "\n",
      "{'accuracy': 0.9691358024691358, 'mean_square_error': 0.08217798907571432, 'categorical_crossentropy': 0.16238892519915546, 'essential_metrics': {0: {'tp_hit': 79, 'fp_hit': 4, 'tn_hit': 24, 'fn_hit': 1}, 1: {'tp_hit': 13, 'fp_hit': 0, 'tn_hit': 93, 'fn_hit': 2}, 2: {'tp_hit': 11, 'fp_hit': 1, 'tn_hit': 94, 'fn_hit': 2}}, 'checkpoint': 160} \n",
      "\n",
      "\n",
      "{'accuracy': 0.9691358024691358, 'mean_square_error': 0.07999052946207325, 'categorical_crossentropy': 0.1552906036376953, 'essential_metrics': {0: {'tp_hit': 79, 'fp_hit': 4, 'tn_hit': 24, 'fn_hit': 1}, 1: {'tp_hit': 13, 'fp_hit': 0, 'tn_hit': 93, 'fn_hit': 2}, 2: {'tp_hit': 11, 'fp_hit': 1, 'tn_hit': 94, 'fn_hit': 2}}, 'checkpoint': 170} \n",
      "\n",
      "\n",
      "{'accuracy': 0.9629629629629629, 'mean_square_error': 0.07792422046631081, 'categorical_crossentropy': 0.14554784916065358, 'essential_metrics': {0: {'tp_hit': 78, 'fp_hit': 4, 'tn_hit': 24, 'fn_hit': 2}, 1: {'tp_hit': 13, 'fp_hit': 1, 'tn_hit': 92, 'fn_hit': 2}, 2: {'tp_hit': 11, 'fp_hit': 1, 'tn_hit': 94, 'fn_hit': 2}}, 'checkpoint': 180} \n",
      "\n",
      "\n",
      "{'accuracy': 0.9691358024691358, 'mean_square_error': 0.07155504122062145, 'categorical_crossentropy': 0.138919229860659, 'essential_metrics': {0: {'tp_hit': 79, 'fp_hit': 4, 'tn_hit': 24, 'fn_hit': 1}, 1: {'tp_hit': 13, 'fp_hit': 0, 'tn_hit': 93, 'fn_hit': 2}, 2: {'tp_hit': 11, 'fp_hit': 1, 'tn_hit': 94, 'fn_hit': 2}}, 'checkpoint': 190} \n",
      "\n",
      "\n",
      "{'accuracy': 0.9753086419753086, 'mean_square_error': 0.06861626635722858, 'categorical_crossentropy': 0.12459249849672671, 'essential_metrics': {0: {'tp_hit': 79, 'fp_hit': 3, 'tn_hit': 25, 'fn_hit': 1}, 1: {'tp_hit': 14, 'fp_hit': 0, 'tn_hit': 93, 'fn_hit': 1}, 2: {'tp_hit': 11, 'fp_hit': 1, 'tn_hit': 94, 'fn_hit': 2}}, 'checkpoint': 200} \n",
      "\n",
      "\n"
     ]
    }
   ],
   "source": [
    "for checkpoint in checkpoints:\n",
    "    print(checkpoint, '\\n\\n')"
   ]
  },
  {
   "cell_type": "code",
   "execution_count": 14,
   "metadata": {},
   "outputs": [
    {
     "name": "stdout",
     "output_type": "stream",
     "text": [
      "Layer 1\n",
      "Neuron 0: weights:\n",
      "[-1.9971288   0.82733417  1.043843   -1.0470012  -1.1301377 ]\n",
      " bias: 2.688920021057129\n",
      "\n",
      "Neuron 1: weights:\n",
      "[ 2.0357826  -3.         -1.8584657   0.33222055  3.        ]\n",
      " bias: 3.0\n",
      "\n",
      "Neuron 2: weights:\n",
      "[ 0.6198576 -1.363448  -0.7979503 -1.7408305 -0.9776158]\n",
      " bias: -0.17710566520690918\n",
      "\n",
      "Neuron 3: weights:\n",
      "[-0.18457906  2.799556    2.1590357  -1.1972682  -3.        ]\n",
      " bias: 2.245088577270508\n",
      "\n",
      "$\n",
      "Layer 2\n",
      "Neuron 0: weights:\n",
      "[0.6222405 3.        3.        3.       ]\n",
      " bias: -3.0\n",
      "\n",
      "Neuron 1: weights:\n",
      "[-1.2133368 -3.        -2.2120569  3.       ]\n",
      " bias: 3.0\n",
      "\n",
      "Neuron 2: weights:\n",
      "[-2.5221438  3.        -0.9195729 -3.       ]\n",
      " bias: 3.0\n",
      "\n",
      "$\n",
      "\n"
     ]
    }
   ],
   "source": [
    "print(model)"
   ]
  },
  {
   "cell_type": "code",
   "execution_count": null,
   "metadata": {},
   "outputs": [],
   "source": []
  }
 ],
 "metadata": {
  "kernelspec": {
   "display_name": "Python 3",
   "language": "python",
   "name": "python3"
  },
  "language_info": {
   "codemirror_mode": {
    "name": "ipython",
    "version": 3
   },
   "file_extension": ".py",
   "mimetype": "text/x-python",
   "name": "python",
   "nbconvert_exporter": "python",
   "pygments_lexer": "ipython3",
   "version": "3.6.12"
  }
 },
 "nbformat": 4,
 "nbformat_minor": 2
}
