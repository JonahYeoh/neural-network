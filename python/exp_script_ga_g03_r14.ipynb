{
 "cells": [
  {
   "cell_type": "code",
   "execution_count": 1,
   "metadata": {},
   "outputs": [],
   "source": [
    "# single"
   ]
  },
  {
   "cell_type": "code",
   "execution_count": 2,
   "metadata": {},
   "outputs": [],
   "source": [
    "# dependency\n",
    "import numpy as np\n",
    "import pandas as pd\n",
    "import copy\n",
    "import math\n",
    "import sys\n",
    "import os\n",
    "from activations import relu, leaky_relu, sigmoid, tanh, softmax, d_sigmoid, d_relu\n",
    "from initializers import glorot_uniform, random_normal, random_uniform\n",
    "from regularizers import l1_regularizer, l2_regularizer\n",
    "from utility import trim_tail, multiply, subtract, get_nparams, one_hot_encoding, get_data\n",
    "from metrics import MSE, CCE, ACC, PRECISION, RECALL, essential_metrics, wondering_penalty, close_gap_penalty\n",
    "from pso import PSO\n",
    "from ga import GA\n",
    "from nn import Network\n",
    "from layer import DenseLayer\n",
    "from scalers import MinMaxScaler, StandardScaler"
   ]
  },
  {
   "cell_type": "code",
   "execution_count": 3,
   "metadata": {},
   "outputs": [],
   "source": [
    "# reference\n",
    "metrics_fn_dict = dict()\n",
    "metrics_fn_dict['accuracy'] = ACC\n",
    "metrics_fn_dict['categorical_crossentropy'] = CCE\n",
    "metrics_fn_dict['mean_square_error'] = MSE\n",
    "metrics_fn_dict['precision'] = PRECISION\n",
    "metrics_fn_dict['recall'] = RECALL\n",
    "metrics_fn_dict['essential_metrics'] = essential_metrics"
   ]
  },
  {
   "cell_type": "code",
   "execution_count": 4,
   "metadata": {},
   "outputs": [],
   "source": [
    "# model\n",
    "model = Network(5, lr = None)\n",
    "model.add_layer(DenseLayer(1, 4, True, afn=sigmoid, dafn=None, rfn=None))\n",
    "model.add_layer(DenseLayer(2, 3, True, afn=softmax, dafn=None, rfn=None))"
   ]
  },
  {
   "cell_type": "code",
   "execution_count": 5,
   "metadata": {},
   "outputs": [],
   "source": [
    "# optimizer\n",
    "ga = GA(\n",
    "    dict(\n",
    "        m = 50,\n",
    "        x_rate = [0.5, 1.0],\n",
    "        m_rate = [0.5, 1.0],\n",
    "        weight_constraint = [-3.,3.],\n",
    "        radioactive_rating = [0.1, 0.5],\n",
    "        grow_factor = [0.1, 0.5],\n",
    "        scale_hyperparameter = False,\n",
    "        regularizer = None))"
   ]
  },
  {
   "cell_type": "code",
   "execution_count": 6,
   "metadata": {},
   "outputs": [
    {
     "name": "stdout",
     "output_type": "stream",
     "text": [
      "building layer 1 with 5\n",
      "24\n",
      "building layer 2 with 4\n",
      "15\n"
     ]
    }
   ],
   "source": [
    "model.compile(loss_fn = 'categorical_crossentropy', optimizer = ga, \\\n",
    "    metrics = ['accuracy', 'mean_square_error', 'categorical_crossentropy', 'precision', 'recall', 'f1'])"
   ]
  },
  {
   "cell_type": "code",
   "execution_count": 7,
   "metadata": {},
   "outputs": [
    {
     "name": "stdout",
     "output_type": "stream",
     "text": [
      "<class 'pandas.core.frame.DataFrame'>\n",
      "RangeIndex: 107 entries, 0 to 106\n",
      "Data columns (total 6 columns):\n",
      " #   Column  Non-Null Count  Dtype  \n",
      "---  ------  --------------  -----  \n",
      " 0   f1      107 non-null    float32\n",
      " 1   f2      107 non-null    float32\n",
      " 2   f3      107 non-null    float32\n",
      " 3   f4      107 non-null    float32\n",
      " 4   f5      107 non-null    float32\n",
      " 5   label   107 non-null    float32\n",
      "dtypes: float32(6)\n",
      "memory usage: 2.6 KB\n",
      "None\n",
      "<class 'pandas.core.frame.DataFrame'>\n",
      "RangeIndex: 108 entries, 0 to 107\n",
      "Data columns (total 6 columns):\n",
      " #   Column  Non-Null Count  Dtype  \n",
      "---  ------  --------------  -----  \n",
      " 0   f1      108 non-null    float32\n",
      " 1   f2      108 non-null    float32\n",
      " 2   f3      108 non-null    float32\n",
      " 3   f4      108 non-null    float32\n",
      " 4   f5      108 non-null    float32\n",
      " 5   label   108 non-null    float32\n",
      "dtypes: float32(6)\n",
      "memory usage: 2.7 KB\n",
      "None\n"
     ]
    }
   ],
   "source": [
    "# data loading\n",
    "DATA = os.path.join('c:\\\\Users\\\\tcumi\\\\github_repo\\\\neural-network\\\\', 'dataset')\n",
    "GROUP = 3\n",
    "COLUMNS = ['f1', 'f2', 'f3', 'f4', 'f5', 'label']\n",
    "N_CLASS = 3\n",
    "EPOCHS = 500\n",
    "train_dir, test_dir = \"..//dataset//training_data{}.txt\".format(GROUP), \"..//dataset//testing_data{}.txt\".format(GROUP)\n",
    "train, test = get_data(DATA, train_dir, COLUMNS), get_data(DATA, test_dir, COLUMNS)\n",
    "# shuffle\n",
    "train, test = train.sample(frac=1), test.sample(frac=1)\n",
    "x_train, y_train = train.drop('label', axis=1), train['label']\n",
    "x_test, y_test = test.drop('label', axis=1), test['label']"
   ]
  },
  {
   "cell_type": "code",
   "execution_count": 8,
   "metadata": {},
   "outputs": [],
   "source": [
    "# data scaling and encoding\n",
    "scaler = StandardScaler(['f1', 'f2', 'f3', 'f4', 'f5'])\n",
    "scaler.fit(x_train)\n",
    "x_train = scaler.transform(x_train)\n",
    "x_test = scaler.transform(x_test)\n",
    "y_train = one_hot_encoding(y_train, N_CLASS)\n",
    "y_test = one_hot_encoding(y_test, N_CLASS)"
   ]
  },
  {
   "cell_type": "code",
   "execution_count": 9,
   "metadata": {
    "scrolled": true,
    "tags": [
     "outputPrepend"
    ]
   },
   "outputs": [
    {
     "name": "stderr",
     "output_type": "stream",
     "text": [
      "C:\\Users\\tcumi\\github_repo\\neural-network\\python\\ga.py:201: RuntimeWarning: overflow encountered in add\n",
      "  self.population.sort(key=lambda p: p.fitness + np.random.uniform(-shift, shift, 1), reverse = self.aim)\n"
     ]
    },
    {
     "name": "stdout",
     "output_type": "stream",
     "text": [
      "Checkpoint 100, Accuracy: 0.9382716049382716, Loss: 0.3049202671757451\n",
      "Checkpoint 200, Accuracy: 0.9691358024691358, Loss: 0.25748574292218246\n",
      "Checkpoint 300, Accuracy: 0.9629629629629629, Loss: 0.2182066175672743\n",
      "Checkpoint 400, Accuracy: 0.9691358024691358, Loss: 0.16953185752586084\n",
      "Checkpoint 500, Accuracy: 0.9691358024691358, Loss: 0.14381798991450556\n"
     ]
    }
   ],
   "source": [
    "# learning phase\n",
    "breakpoint = 100\n",
    "checkpoints = list()\n",
    "history = list()\n",
    "for century in range(0, EPOCHS, breakpoint):\n",
    "    sub_history = model.fit(x_train, y_train, breakpoint, verbose = 0)\n",
    "    score = model.evaluate(x_test, y_test, False, verbose = 0)\n",
    "    print('Checkpoint {}, Accuracy: {}, Loss: {}'.format(century+breakpoint, score['accuracy'], score[model.loss_fn]))\n",
    "    score['checkpoint'] = century + breakpoint\n",
    "    checkpoints.append(score)\n",
    "    history.extend(sub_history)\n",
    "    itr = century + breakpoint\n",
    "\n",
    "    model.optimizer.rr = model.optimizer.radioactive_rating[1] - (model.optimizer.radioactive_rating[1] - model.optimizer.radioactive_rating[0]) / EPOCHS * (EPOCHS - itr)\n",
    "    model.optimizer.gf = model.optimizer.grow_factor[1] - (model.optimizer.grow_factor[1] - model.optimizer.grow_factor[0]) / EPOCHS * (EPOCHS - itr)\n",
    "    model.optimizer.crossover_rate = model.optimizer.x_rate[1] - (model.optimizer.x_rate[1] - model.optimizer.x_rate[0]) / EPOCHS * (EPOCHS - itr)\n",
    "    model.optimizer.mutation_rate = model.optimizer.m_rate[0] + (model.optimizer.m_rate[1] - model.optimizer.m_rate[0]) / EPOCHS * (EPOCHS - itr)\n",
    "    "
   ]
  },
  {
   "cell_type": "code",
   "execution_count": 10,
   "metadata": {},
   "outputs": [],
   "source": [
    "import matplotlib.pyplot as plt\n",
    "\n",
    "def draw_plot(x, y_list, x_label=None, y_label=None, legend=None, title=None):\n",
    "    fig, ax = plt.subplots(figsize=(12,5))\n",
    "    for xi, yi in zip(x, y_list):\n",
    "        ax.plot(xi, yi)\n",
    "    if x_label is not None and y_label is not None:\n",
    "        ax.set(xlabel=x_label, ylabel=y_label, title='{} VS {}'.format(x_label, y_label))\n",
    "    if legend is not None:\n",
    "        ax.legend(legend)\n",
    "    ax.grid()\n",
    "    plt.show()"
   ]
  },
  {
   "cell_type": "code",
   "execution_count": 11,
   "metadata": {},
   "outputs": [
    {
     "name": "stdout",
     "output_type": "stream",
     "text": [
      "[0. 0. 1.] <-> [3.0618874e-02 9.2128123e-04 9.6845978e-01]\n",
      "[1. 0. 0.] <-> [0.9860962  0.00263184 0.01127193]\n",
      "[0. 1. 0.] <-> [0.11360609 0.8833125  0.00308134]\n",
      "[1. 0. 0.] <-> [0.9701141  0.01608987 0.01379591]\n",
      "[0. 0. 1.] <-> [0.7885048  0.00266413 0.2088311 ]\n",
      "[1. 0. 0.] <-> [0.976194   0.00299501 0.02081093]\n",
      "[1. 0. 0.] <-> [0.9795687  0.00645433 0.01397704]\n",
      "[1. 0. 0.] <-> [0.9746436  0.00249584 0.02286059]\n",
      "[1. 0. 0.] <-> [0.98423105 0.00342583 0.0123432 ]\n",
      "[1. 0. 0.] <-> [0.9843322  0.00295654 0.01271126]\n",
      "[1. 0. 0.] <-> [0.92105067 0.00446254 0.07448682]\n",
      "[1. 0. 0.] <-> [0.854421   0.12961185 0.01596717]\n",
      "[0. 1. 0.] <-> [0.01045932 0.98560995 0.00393079]\n",
      "[1. 0. 0.] <-> [0.98354197 0.00450768 0.01195038]\n",
      "[0. 1. 0.] <-> [0.37321723 0.6189054  0.00787739]\n",
      "[1. 0. 0.] <-> [0.6462782  0.00695549 0.3467664 ]\n",
      "[0. 1. 0.] <-> [0.13000003 0.8656007  0.00439931]\n",
      "[0. 1. 0.] <-> [0.02729592 0.96821845 0.0044856 ]\n",
      "[1. 0. 0.] <-> [0.9757756  0.00761684 0.01660753]\n",
      "[1. 0. 0.] <-> [0.9777851  0.00932003 0.01289491]\n",
      "[1. 0. 0.] <-> [0.98337317 0.00256376 0.0140631 ]\n",
      "[1. 0. 0.] <-> [0.9849472  0.00344194 0.01161089]\n",
      "[1. 0. 0.] <-> [0.95033187 0.01642491 0.0332432 ]\n",
      "[1. 0. 0.] <-> [0.9254182  0.05972891 0.01485284]\n",
      "[1. 0. 0.] <-> [0.95307297 0.0292526  0.01767447]\n",
      "[0. 0. 1.] <-> [0.10018972 0.00157857 0.89823174]\n",
      "[0. 0. 1.] <-> [0.01214395 0.00183558 0.9860205 ]\n",
      "[1. 0. 0.] <-> [0.9821492  0.00448618 0.01336462]\n",
      "[0. 1. 0.] <-> [0.0098004  0.98621714 0.00398241]\n",
      "[1. 0. 0.] <-> [0.9668279  0.00357216 0.02959988]\n",
      "[1. 0. 0.] <-> [0.6597648  0.31893945 0.02129568]\n",
      "[0. 1. 0.] <-> [0.01241366 0.98376286 0.00382346]\n",
      "[1. 0. 0.] <-> [0.9226184  0.05556371 0.02181783]\n",
      "[1. 0. 0.] <-> [0.97336406 0.00296772 0.02366832]\n",
      "[1. 0. 0.] <-> [0.32176214 0.6672514  0.01098652]\n",
      "[0. 1. 0.] <-> [0.10051571 0.8914226  0.00806167]\n",
      "[1. 0. 0.] <-> [0.98235625 0.00573444 0.01190936]\n",
      "[1. 0. 0.] <-> [0.9717135  0.00563436 0.02265218]\n",
      "[0. 1. 0.] <-> [0.00981521 0.9862037  0.00398111]\n",
      "[0. 0. 1.] <-> [0.08797055 0.00129421 0.9107352 ]\n",
      "[1. 0. 0.] <-> [0.97818595 0.00342867 0.01838532]\n",
      "[0. 0. 1.] <-> [0.15690129 0.00121077 0.8418879 ]\n",
      "[1. 0. 0.] <-> [0.96929526 0.01866543 0.01203923]\n",
      "[1. 0. 0.] <-> [0.84200644 0.06685004 0.09114346]\n",
      "[1. 0. 0.] <-> [0.949151   0.00265903 0.04819001]\n",
      "[0. 0. 1.] <-> [0.11032411 0.00114779 0.8885281 ]\n",
      "[1. 0. 0.] <-> [0.9529153  0.00520006 0.0418846 ]\n",
      "[1. 0. 0.] <-> [0.98397416 0.00505625 0.01096955]\n",
      "[1. 0. 0.] <-> [0.98132795 0.0042864  0.01438566]\n",
      "[1. 0. 0.] <-> [0.516481   0.4604546  0.02306443]\n",
      "[1. 0. 0.] <-> [0.9798416  0.00920525 0.01095319]\n",
      "[0. 0. 1.] <-> [0.01546247 0.00133117 0.9832063 ]\n",
      "[1. 0. 0.] <-> [0.9816715  0.00584503 0.01248351]\n",
      "[1. 0. 0.] <-> [0.9542376  0.00267694 0.04308543]\n",
      "[1. 0. 0.] <-> [0.97788584 0.0059422  0.01617193]\n",
      "[1. 0. 0.] <-> [0.89522475 0.00308554 0.10168968]\n",
      "[1. 0. 0.] <-> [0.9831065  0.00320773 0.01368578]\n",
      "[1. 0. 0.] <-> [0.97764677 0.00885668 0.01349656]\n",
      "[1. 0. 0.] <-> [0.94618857 0.03286023 0.02095118]\n",
      "[1. 0. 0.] <-> [0.91831374 0.00658041 0.07510582]\n",
      "[1. 0. 0.] <-> [0.9586345  0.01931214 0.02205344]\n",
      "[1. 0. 0.] <-> [0.9699527  0.01936073 0.0106865 ]\n",
      "[1. 0. 0.] <-> [0.9573725  0.02105041 0.02157707]\n",
      "[0. 0. 1.] <-> [0.19271271 0.00123863 0.80604863]\n",
      "[1. 0. 0.] <-> [0.9724372  0.00577338 0.02178947]\n",
      "[1. 0. 0.] <-> [0.9767     0.00237803 0.02092201]\n",
      "[1. 0. 0.] <-> [0.97062635 0.01454213 0.01483152]\n",
      "[1. 0. 0.] <-> [0.88397795 0.00586319 0.11015887]\n",
      "[1. 0. 0.] <-> [0.9772807  0.01067244 0.01204685]\n",
      "[1. 0. 0.] <-> [0.97575945 0.00357676 0.02066378]\n",
      "[0. 0. 1.] <-> [0.29926038 0.00199214 0.69874746]\n",
      "[0. 0. 1.] <-> [0.2942903  0.00139199 0.7043177 ]\n",
      "[1. 0. 0.] <-> [0.96929985 0.01407245 0.01662767]\n",
      "[1. 0. 0.] <-> [0.96591717 0.00741888 0.02666396]\n",
      "[0. 1. 0.] <-> [0.3831435  0.6087411  0.00811527]\n",
      "[1. 0. 0.] <-> [0.98081046 0.00634157 0.01284797]\n",
      "[1. 0. 0.] <-> [0.61721766 0.35835737 0.02442496]\n",
      "[1. 0. 0.] <-> [0.9779178  0.00692315 0.01515906]\n",
      "[1. 0. 0.] <-> [0.7242026  0.00496123 0.2708362 ]\n",
      "[1. 0. 0.] <-> [0.7242531  0.25860536 0.01714145]\n",
      "[1. 0. 0.] <-> [0.23327251 0.00285032 0.76387715]\n",
      "[1. 0. 0.] <-> [0.9723742  0.00259024 0.02503555]\n",
      "[1. 0. 0.] <-> [0.47839114 0.5076283  0.01398053]\n",
      "[1. 0. 0.] <-> [0.9092049  0.0679766  0.02281858]\n",
      "[1. 0. 0.] <-> [0.98354477 0.00315848 0.01329675]\n",
      "[1. 0. 0.] <-> [0.9847816  0.00221823 0.01300025]\n",
      "[1. 0. 0.] <-> [0.9839721  0.0056968  0.01033103]\n",
      "[1. 0. 0.] <-> [0.97972345 0.00377081 0.01650566]\n",
      "[0. 1. 0.] <-> [0.1515406  0.84438425 0.0040752 ]\n",
      "[1. 0. 0.] <-> [0.9809021  0.00752972 0.01156814]\n",
      "[1. 0. 0.] <-> [0.97618335 0.0043183  0.01949839]\n",
      "[0. 1. 0.] <-> [0.01067778 0.98544127 0.00388097]\n",
      "[0. 0. 1.] <-> [0.79000336 0.00396262 0.20603405]\n",
      "[1. 0. 0.] <-> [0.98594403 0.0036012  0.0104547 ]\n",
      "[1. 0. 0.] <-> [0.9800092  0.00817123 0.01181964]\n",
      "[0. 1. 0.] <-> [0.01248987 0.9836173  0.00389283]\n",
      "[1. 0. 0.] <-> [0.9340359  0.01162679 0.05433729]\n",
      "[0. 0. 1.] <-> [2.1915555e-02 8.6188636e-04 9.7722250e-01]\n",
      "[1. 0. 0.] <-> [0.9669598  0.01038159 0.02265863]\n",
      "[0. 1. 0.] <-> [0.22828548 0.7659285  0.00578608]\n",
      "[1. 0. 0.] <-> [0.9755543  0.01019371 0.01425197]\n",
      "[1. 0. 0.] <-> [0.9675312  0.00238029 0.03008858]\n",
      "[1. 0. 0.] <-> [0.9349374  0.00262586 0.06243678]\n",
      "[0. 1. 0.] <-> [0.00984764 0.9861757  0.00397665]\n",
      "[1. 0. 0.] <-> [0.8950132  0.0888337  0.01615315]\n",
      "[1. 0. 0.] <-> [0.8991391  0.0293291  0.07153174]\n",
      "[0. 0. 1.] <-> [0.14526163 0.00120494 0.8535334 ]\n",
      "[0. 1. 0.] <-> [0.00994413 0.98608935 0.00396654]\n",
      "{'accuracy': 0.9691358024691358, 'mean_square_error': 0.07686521142707282, 'categorical_crossentropy': 0.14381798991450556, 'precision': 0.9537037037037037, 'recall': 0.9537037037037037, 'f1': 0.9537037037037037, 'essential_metrics': {0: {'tp_hit': 75, 'fp_hit': 2, 'tn_hit': 28, 'fn_hit': 3}, 1: {'tp_hit': 16, 'fp_hit': 2, 'tn_hit': 90, 'fn_hit': 0}, 2: {'tp_hit': 12, 'fp_hit': 1, 'tn_hit': 93, 'fn_hit': 2}}}\n"
     ]
    }
   ],
   "source": [
    "# recall phase\n",
    "score = model.evaluate(x_test, y_test, False)\n",
    "print(score)"
   ]
  },
  {
   "cell_type": "code",
   "execution_count": 12,
   "metadata": {},
   "outputs": [],
   "source": [
    "# Testing Performance"
   ]
  },
  {
   "cell_type": "code",
   "execution_count": 13,
   "metadata": {},
   "outputs": [
    {
     "data": {
      "image/png": "[encoded data removed]",
      "text/plain": [
       "<Figure size 864x360 with 1 Axes>"
      ]
     },
     "metadata": {
      "needs_background": "light"
     },
     "output_type": "display_data"
    },
    {
     "data": {
      "image/png": "[encoded data removed]",
      "text/plain": [
       "<Figure size 864x360 with 1 Axes>"
      ]
     },
     "metadata": {
      "needs_background": "light"
     },
     "output_type": "display_data"
    }
   ],
   "source": [
    "draw_plot(x = [[i for i in range(len(history))], [(i+1)*breakpoint for i in range(len(checkpoints))]], y_list = [history, [ ckp[model.loss_fn] for ckp in checkpoints ]], x_label = 'Epochs', \\\n",
    "    y_label = model.loss_fn, legend=['train', 'test'])\n",
    "acc = [ ckp['accuracy'] for ckp in checkpoints ]\n",
    "draw_plot(x = [[(i+1)*breakpoint for i in range(len(checkpoints))]], y_list = [acc], x_label = 'Checkpoints', \\\n",
    "    y_label = 'accuracy')"
   ]
  },
  {
   "cell_type": "code",
   "execution_count": 14,
   "metadata": {
    "scrolled": false
   },
   "outputs": [
    {
     "name": "stdout",
     "output_type": "stream",
     "text": [
      "{'accuracy': 0.9382716049382716, 'mean_square_error': 0.1566284460539364, 'categorical_crossentropy': 0.3049202671757451, 'precision': 0.9074074074074074, 'recall': 0.9074074074074074, 'f1': 0.9074074074074074, 'essential_metrics': {0: {'tp_hit': 77, 'fp_hit': 9, 'tn_hit': 21, 'fn_hit': 1}, 1: {'tp_hit': 13, 'fp_hit': 0, 'tn_hit': 92, 'fn_hit': 3}, 2: {'tp_hit': 8, 'fp_hit': 1, 'tn_hit': 93, 'fn_hit': 6}}, 'checkpoint': 100} \n",
      "\n",
      "\n",
      "{'accuracy': 0.9691358024691358, 'mean_square_error': 0.1300804336139306, 'categorical_crossentropy': 0.25748574292218246, 'precision': 0.9537037037037037, 'recall': 0.9537037037037037, 'f1': 0.9537037037037037, 'essential_metrics': {0: {'tp_hit': 77, 'fp_hit': 4, 'tn_hit': 26, 'fn_hit': 1}, 1: {'tp_hit': 14, 'fp_hit': 0, 'tn_hit': 92, 'fn_hit': 2}, 2: {'tp_hit': 12, 'fp_hit': 1, 'tn_hit': 93, 'fn_hit': 2}}, 'checkpoint': 200} \n",
      "\n",
      "\n",
      "{'accuracy': 0.9629629629629629, 'mean_square_error': 0.11092614764429483, 'categorical_crossentropy': 0.2182066175672743, 'precision': 0.9444444444444444, 'recall': 0.9444444444444444, 'f1': 0.9444444444444444, 'essential_metrics': {0: {'tp_hit': 76, 'fp_hit': 4, 'tn_hit': 26, 'fn_hit': 2}, 1: {'tp_hit': 14, 'fp_hit': 1, 'tn_hit': 91, 'fn_hit': 2}, 2: {'tp_hit': 12, 'fp_hit': 1, 'tn_hit': 93, 'fn_hit': 2}}, 'checkpoint': 300} \n",
      "\n",
      "\n",
      "{'accuracy': 0.9691358024691358, 'mean_square_error': 0.08635042753141924, 'categorical_crossentropy': 0.16953185752586084, 'precision': 0.9537037037037037, 'recall': 0.9537037037037037, 'f1': 0.9537037037037037, 'essential_metrics': {0: {'tp_hit': 76, 'fp_hit': 3, 'tn_hit': 27, 'fn_hit': 2}, 1: {'tp_hit': 15, 'fp_hit': 1, 'tn_hit': 91, 'fn_hit': 1}, 2: {'tp_hit': 12, 'fp_hit': 1, 'tn_hit': 93, 'fn_hit': 2}}, 'checkpoint': 400} \n",
      "\n",
      "\n",
      "{'accuracy': 0.9691358024691358, 'mean_square_error': 0.07686521142707282, 'categorical_crossentropy': 0.14381798991450556, 'precision': 0.9537037037037037, 'recall': 0.9537037037037037, 'f1': 0.9537037037037037, 'essential_metrics': {0: {'tp_hit': 75, 'fp_hit': 2, 'tn_hit': 28, 'fn_hit': 3}, 1: {'tp_hit': 16, 'fp_hit': 2, 'tn_hit': 90, 'fn_hit': 0}, 2: {'tp_hit': 12, 'fp_hit': 1, 'tn_hit': 93, 'fn_hit': 2}}, 'checkpoint': 500} \n",
      "\n",
      "\n"
     ]
    }
   ],
   "source": [
    "for checkpoint in checkpoints:\n",
    "    print(checkpoint, '\\n\\n')"
   ]
  },
  {
   "cell_type": "code",
   "execution_count": 15,
   "metadata": {},
   "outputs": [
    {
     "name": "stdout",
     "output_type": "stream",
     "text": [
      "Layer 1\n",
      "Neuron 0: weights:\n",
      "[-0.85898143 -0.33801183  2.5244133   2.309868    1.4645778 ]\n",
      " bias: -0.2674199640750885\n",
      "\n",
      "Neuron 1: weights:\n",
      "[ 1.5020698  -2.8931499  -1.1489829  -0.41700402 -1.0977132 ]\n",
      " bias: 1.4948217868804932\n",
      "\n",
      "Neuron 2: weights:\n",
      "[-1.2139223  1.9448057  2.461564  -1.415973  -2.3762321]\n",
      " bias: -2.3162765502929688\n",
      "\n",
      "Neuron 3: weights:\n",
      "[ 0.46579823 -2.7309518  -0.53664386  1.8538079   2.8641875 ]\n",
      " bias: -2.2218217849731445\n",
      "\n",
      "$\n",
      "Layer 2\n",
      "Neuron 0: weights:\n",
      "[-3.         2.9950058 -3.        -2.9648118]\n",
      " bias: 2.0887606143951416\n",
      "\n",
      "Neuron 1: weights:\n",
      "[-0.85518485  0.13544196  3.         -1.9451349 ]\n",
      " bias: -1.4441946744918823\n",
      "\n",
      "Neuron 2: weights:\n",
      "[-0.23417394  1.7438489  -3.          3.        ]\n",
      " bias: -1.5770809650421143\n",
      "\n",
      "$\n",
      "\n"
     ]
    }
   ],
   "source": [
    "print(model)"
   ]
  }
 ],
 "metadata": {
  "kernelspec": {
   "display_name": "Python 3",
   "language": "python",
   "name": "python3"
  },
  "language_info": {
   "codemirror_mode": {
    "name": "ipython",
    "version": 3
   },
   "file_extension": ".py",
   "mimetype": "text/x-python",
   "name": "python",
   "nbconvert_exporter": "python",
   "pygments_lexer": "ipython3",
   "version": "3.6.10"
  }
 },
 "nbformat": 4,
 "nbformat_minor": 2
}
