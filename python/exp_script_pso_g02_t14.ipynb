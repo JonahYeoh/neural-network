{
 "cells": [
  {
   "cell_type": "code",
   "execution_count": 1,
   "metadata": {},
   "outputs": [],
   "source": [
    "# dependency\n",
    "import numpy as np\n",
    "import pandas as pd\n",
    "import copy\n",
    "import math\n",
    "import sys\n",
    "import os\n",
    "from activations import relu, leaky_relu, sigmoid, tanh, softmax, d_sigmoid, d_relu\n",
    "from initializers import glorot_uniform, random_normal, random_uniform\n",
    "from regularizers import l1_regularizer, l2_regularizer\n",
    "from utility import trim_tail, multiply, subtract, get_nparams, one_hot_encoding, get_data\n",
    "from metrics import MSE, CCE, ACC, PRECISION, RECALL, essential_metrics, wondering_penalty, close_gap_penalty\n",
    "from pso import PSO\n",
    "from ga import GA\n",
    "from nn import Network\n",
    "from layer import DenseLayer\n",
    "from scalers import MinMaxScaler, StandardScaler"
   ]
  },
  {
   "cell_type": "code",
   "execution_count": 2,
   "metadata": {},
   "outputs": [],
   "source": [
    "# reference\n",
    "metrics_fn_dict = dict()\n",
    "metrics_fn_dict['accuracy'] = ACC\n",
    "metrics_fn_dict['categorical_crossentropy'] = CCE\n",
    "metrics_fn_dict['mean_square_error'] = MSE\n",
    "metrics_fn_dict['precision'] = PRECISION\n",
    "metrics_fn_dict['recall'] = RECALL\n",
    "metrics_fn_dict['essential_metrics'] = essential_metrics"
   ]
  },
  {
   "cell_type": "code",
   "execution_count": 3,
   "metadata": {},
   "outputs": [],
   "source": [
    "# model\n",
    "model = Network(5, lr = None)\n",
    "model.add_layer(DenseLayer(1, 4, True, afn=sigmoid, dafn=None, rfn=None))\n",
    "model.add_layer(DenseLayer(2, 3, True, afn=softmax, dafn=None, rfn=None))"
   ]
  },
  {
   "cell_type": "code",
   "execution_count": 4,
   "metadata": {},
   "outputs": [
    {
     "name": "stdout",
     "output_type": "stream",
     "text": [
      "see one see two 2 2\n"
     ]
    }
   ],
   "source": [
    "pso = PSO(dict(m = 50,\n",
    "    weight_constraint = [-3, 3], \n",
    "    velocity_constraint = [-0.1, 0.1],\n",
    "    c1 = 2,\n",
    "    c2 = 2,\n",
    "    w = 0.8,\n",
    "    w_decay = 1,\n",
    "    scale_hyperparameter = False,\n",
    "    regularizer = None,\n",
    "    mask = True))"
   ]
  },
  {
   "cell_type": "code",
   "execution_count": 5,
   "metadata": {},
   "outputs": [
    {
     "name": "stdout",
     "output_type": "stream",
     "text": [
      "building layer 1 with 5\n",
      "24\n",
      "building layer 2 with 4\n",
      "15\n"
     ]
    }
   ],
   "source": [
    "model.compile(loss_fn = 'categorical_crossentropy', optimizer = pso, \\\n",
    "    metrics = ['accuracy', 'mean_square_error', 'categorical_crossentropy'])"
   ]
  },
  {
   "cell_type": "code",
   "execution_count": 6,
   "metadata": {},
   "outputs": [
    {
     "name": "stdout",
     "output_type": "stream",
     "text": [
      "<class 'pandas.core.frame.DataFrame'>\n",
      "RangeIndex: 107 entries, 0 to 106\n",
      "Data columns (total 6 columns):\n",
      " #   Column  Non-Null Count  Dtype  \n",
      "---  ------  --------------  -----  \n",
      " 0   f1      107 non-null    float32\n",
      " 1   f2      107 non-null    float32\n",
      " 2   f3      107 non-null    float32\n",
      " 3   f4      107 non-null    float32\n",
      " 4   f5      107 non-null    float32\n",
      " 5   label   107 non-null    float32\n",
      "dtypes: float32(6)\n",
      "memory usage: 2.6 KB\n",
      "None\n",
      "<class 'pandas.core.frame.DataFrame'>\n",
      "RangeIndex: 108 entries, 0 to 107\n",
      "Data columns (total 6 columns):\n",
      " #   Column  Non-Null Count  Dtype  \n",
      "---  ------  --------------  -----  \n",
      " 0   f1      108 non-null    float32\n",
      " 1   f2      108 non-null    float32\n",
      " 2   f3      108 non-null    float32\n",
      " 3   f4      108 non-null    float32\n",
      " 4   f5      108 non-null    float32\n",
      " 5   label   108 non-null    float32\n",
      "dtypes: float32(6)\n",
      "memory usage: 2.7 KB\n",
      "None\n"
     ]
    }
   ],
   "source": [
    "# data loading\n",
    "DATA = os.path.join('c:\\\\Users\\\\tcumi\\\\github_repo\\\\neural-network\\\\', 'dataset')\n",
    "GROUP = 2\n",
    "COLUMNS = ['f1', 'f2', 'f3', 'f4', 'f5', 'label']\n",
    "N_CLASS = 3\n",
    "EPOCHS = 500\n",
    "train_dir, test_dir = \"..//dataset//training_data{}.txt\".format(GROUP), \"..//dataset//testing_data{}.txt\".format(GROUP)\n",
    "train, test = get_data(DATA, train_dir, COLUMNS), get_data(DATA, test_dir, COLUMNS)\n",
    "# shuffle\n",
    "train, test = train.sample(frac=1), test.sample(frac=1)\n",
    "x_train, y_train = train.drop('label', axis=1), train['label']\n",
    "x_test, y_test = test.drop('label', axis=1), test['label']"
   ]
  },
  {
   "cell_type": "code",
   "execution_count": 7,
   "metadata": {},
   "outputs": [],
   "source": [
    "# data scaling and encoding\n",
    "scaler = StandardScaler(['f1', 'f2', 'f3', 'f4', 'f5'])\n",
    "scaler.fit(x_train)\n",
    "x_train = scaler.transform(x_train)\n",
    "x_test = scaler.transform(x_test)\n",
    "y_train = one_hot_encoding(y_train, N_CLASS)\n",
    "y_test = one_hot_encoding(y_test, N_CLASS)"
   ]
  },
  {
   "cell_type": "code",
   "execution_count": 8,
   "metadata": {
    "tags": [
     "outputPrepend"
    ]
   },
   "outputs": [
    {
     "name": "stdout",
     "output_type": "stream",
     "text": [
      "Checkpoint 100, Accuracy: 0.9753086419753086, Loss: 0.21834626021208586\n",
      "Checkpoint 200, Accuracy: 0.9629629629629629, Loss: 0.11688787848861129\n",
      "Checkpoint 300, Accuracy: 0.9691358024691358, Loss: 0.11176253248144079\n",
      "Checkpoint 400, Accuracy: 0.9691358024691358, Loss: 0.11080891997725875\n",
      "Checkpoint 500, Accuracy: 0.9691358024691358, Loss: 0.10974382471155238\n"
     ]
    }
   ],
   "source": [
    "# learning phase\n",
    "breakpoint = 100\n",
    "checkpoints = list()\n",
    "history = list()\n",
    "for century in range(0, EPOCHS, breakpoint):\n",
    "    sub_history = model.fit(x_train, y_train, breakpoint, verbose = 0)\n",
    "    score = model.evaluate(x_test, y_test, False, verbose = 0)\n",
    "    print('Checkpoint {}, Accuracy: {}, Loss: {}'.format(century+breakpoint, score['accuracy'], score[model.loss_fn]))\n",
    "    score['checkpoint'] = century + breakpoint\n",
    "    checkpoints.append(score)\n",
    "    history.extend(sub_history)"
   ]
  },
  {
   "cell_type": "code",
   "execution_count": 9,
   "metadata": {},
   "outputs": [],
   "source": [
    "import matplotlib.pyplot as plt\n",
    "\n",
    "def draw_plot(x, y_list, x_label=None, y_label=None, legend=None, title=None):\n",
    "    fig, ax = plt.subplots(figsize=(12,5))\n",
    "    for xi, yi in zip(x, y_list):\n",
    "        ax.plot(xi, yi)\n",
    "    if x_label is not None and y_label is not None:\n",
    "        ax.set(xlabel=x_label, ylabel=y_label, title='{} VS {}'.format(x_label, y_label))\n",
    "    if legend is not None:\n",
    "        ax.legend(legend)\n",
    "    ax.grid()\n",
    "    plt.show()"
   ]
  },
  {
   "cell_type": "code",
   "execution_count": 10,
   "metadata": {},
   "outputs": [
    {
     "name": "stdout",
     "output_type": "stream",
     "text": [
      "[1. 0. 0.] <-> [0.99494475 0.00375545 0.00129984]\n",
      "[0. 1. 0.] <-> [5.7112044e-03 9.9426514e-01 2.3689716e-05]\n",
      "[1. 0. 0.] <-> [0.9921153  0.00665039 0.00123426]\n",
      "[1. 0. 0.] <-> [0.99572057 0.00279347 0.00148596]\n",
      "[1. 0. 0.] <-> [0.9944939  0.00396451 0.00154153]\n",
      "[1. 0. 0.] <-> [0.9953181  0.00251686 0.00216502]\n",
      "[0. 0. 1.] <-> [5.8543812e-03 1.4511740e-05 9.9413115e-01]\n",
      "[1. 0. 0.] <-> [0.99525636 0.00315268 0.00159091]\n",
      "[1. 0. 0.] <-> [0.984822   0.01280977 0.00236825]\n",
      "[0. 0. 1.] <-> [5.8541093e-03 1.4512090e-05 9.9413139e-01]\n",
      "[1. 0. 0.] <-> [0.9934089  0.00321597 0.00337502]\n",
      "[1. 0. 0.] <-> [0.9947817  0.00280363 0.00241469]\n",
      "[0. 0. 1.] <-> [5.8541419e-03 1.4519564e-05 9.9413127e-01]\n",
      "[0. 1. 0.] <-> [2.5729032e-03 9.9741507e-01 1.2028717e-05]\n",
      "[1. 0. 0.] <-> [0.8755701  0.00218647 0.12224337]\n",
      "[1. 0. 0.] <-> [0.8845557  0.00238591 0.11305828]\n",
      "[0. 0. 1.] <-> [5.8853389e-03 1.4595337e-05 9.9410003e-01]\n",
      "[0. 1. 0.] <-> [2.47265422e-03 9.97515678e-01 1.16498495e-05]\n",
      "[1. 0. 0.] <-> [0.9937628  0.00499815 0.00123903]\n",
      "[0. 1. 0.] <-> [3.5377224e-03 9.9644643e-01 1.5970394e-05]\n",
      "[1. 0. 0.] <-> [0.9947247  0.00395963 0.00131569]\n",
      "[1. 0. 0.] <-> [0.98673105 0.01203139 0.00123756]\n",
      "[1. 0. 0.] <-> [0.99270403 0.00360082 0.0036951 ]\n",
      "[1. 0. 0.] <-> [0.9696614  0.00244673 0.02789183]\n",
      "[0. 0. 1.] <-> [6.4101010e-03 3.6215064e-05 9.9355376e-01]\n",
      "[1. 0. 0.] <-> [0.87500435 0.00238262 0.12261308]\n",
      "[0. 0. 1.] <-> [1.0909134e-01 2.7180053e-04 8.9063680e-01]\n",
      "[1. 0. 0.] <-> [0.99440163 0.00443676 0.00116156]\n",
      "[1. 0. 0.] <-> [0.99351174 0.00527914 0.00120912]\n",
      "[1. 0. 0.] <-> [1.6479356e-02 4.2499822e-05 9.8347813e-01]\n",
      "[1. 0. 0.] <-> [0.9864552  0.01223805 0.00130671]\n",
      "[1. 0. 0.] <-> [0.9919071  0.0027009  0.00539193]\n",
      "[1. 0. 0.] <-> [0.9949497  0.00266063 0.00238965]\n",
      "[1. 0. 0.] <-> [0.30790266 0.00084932 0.691248  ]\n",
      "[1. 0. 0.] <-> [0.98751813 0.01106621 0.00141568]\n",
      "[0. 1. 0.] <-> [0.41481003 0.584276   0.00091397]\n",
      "[1. 0. 0.] <-> [0.99180204 0.00293958 0.00525834]\n",
      "[1. 0. 0.] <-> [0.911065   0.00231932 0.08661569]\n",
      "[1. 0. 0.] <-> [0.9949293  0.0027562  0.00231446]\n",
      "[1. 0. 0.] <-> [0.993877   0.00417987 0.00194319]\n",
      "[1. 0. 0.] <-> [0.99125236 0.00723758 0.00151   ]\n",
      "[1. 0. 0.] <-> [0.9944108  0.00431203 0.00127717]\n",
      "[1. 0. 0.] <-> [0.9910328  0.00259349 0.00637364]\n",
      "[1. 0. 0.] <-> [0.9948555  0.00386201 0.00128253]\n",
      "[0. 1. 0.] <-> [2.555313e-02 9.743648e-01 8.195277e-05]\n",
      "[0. 0. 1.] <-> [6.0374364e-03 1.4996318e-05 9.9394751e-01]\n",
      "[0. 1. 0.] <-> [1.2449010e-01 8.7516767e-01 3.4224629e-04]\n",
      "[0. 0. 1.] <-> [5.85410930e-03 1.45110935e-05 9.94131386e-01]\n",
      "[1. 0. 0.] <-> [0.98080474 0.00274824 0.0164471 ]\n",
      "[1. 0. 0.] <-> [0.99405503 0.00352128 0.00242366]\n",
      "[1. 0. 0.] <-> [0.99329305 0.0032362  0.00347076]\n",
      "[1. 0. 0.] <-> [0.9922956  0.00251608 0.0051884 ]\n",
      "[1. 0. 0.] <-> [0.99220324 0.00251691 0.00527992]\n",
      "[1. 0. 0.] <-> [0.99426657 0.00457737 0.00115614]\n",
      "[1. 0. 0.] <-> [0.94499415 0.00239046 0.05261536]\n",
      "[1. 0. 0.] <-> [0.94764227 0.00324417 0.04911353]\n",
      "[1. 0. 0.] <-> [0.9893289  0.00935029 0.00132076]\n",
      "[0. 0. 1.] <-> [6.1660130e-03 1.5284746e-05 9.9381870e-01]\n",
      "[1. 0. 0.] <-> [0.99289095 0.00309198 0.00401703]\n",
      "[0. 1. 0.] <-> [2.544911e-01 7.448788e-01 6.301326e-04]\n",
      "[0. 0. 1.] <-> [5.6671314e-03 1.6559834e-05 9.9431628e-01]\n",
      "[1. 0. 0.] <-> [0.9955586  0.00295487 0.00148646]\n",
      "[1. 0. 0.] <-> [0.9263266  0.07194765 0.0017258 ]\n",
      "[1. 0. 0.] <-> [0.9912375  0.00753987 0.0012226 ]\n",
      "[0. 1. 0.] <-> [2.6370652e-03 9.9735069e-01 1.2225476e-05]\n",
      "[1. 0. 0.] <-> [0.9791966  0.00250125 0.01830207]\n",
      "[1. 0. 0.] <-> [0.9792042  0.00264327 0.01815256]\n",
      "[1. 0. 0.] <-> [0.99559766 0.00291736 0.00148493]\n",
      "[0. 0. 1.] <-> [5.8548884e-03 1.4513199e-05 9.9413055e-01]\n",
      "[1. 0. 0.] <-> [0.95679826 0.04133558 0.00186629]\n",
      "[1. 0. 0.] <-> [0.41851196 0.58055496 0.00093303]\n",
      "[1. 0. 0.] <-> [0.99419516 0.00302091 0.002784  ]\n",
      "[1. 0. 0.] <-> [0.9803373  0.0181317  0.00153109]\n",
      "[1. 0. 0.] <-> [0.99477273 0.00320854 0.00201867]\n",
      "[1. 0. 0.] <-> [0.99520326 0.00329935 0.00149739]\n",
      "[1. 0. 0.] <-> [0.99399805 0.00261459 0.00338734]\n",
      "[1. 0. 0.] <-> [0.99397767 0.00379087 0.00223148]\n",
      "[1. 0. 0.] <-> [0.9928195  0.00274555 0.00443497]\n",
      "[0. 0. 1.] <-> [7.0578484e-03 1.7964645e-05 9.9292421e-01]\n",
      "[1. 0. 0.] <-> [0.9957704  0.00291163 0.00131798]\n",
      "[1. 0. 0.] <-> [0.9947661  0.0033937  0.00184022]\n",
      "[1. 0. 0.] <-> [0.9911054  0.00260773 0.00628688]\n",
      "[1. 0. 0.] <-> [0.58320034 0.00148912 0.41531053]\n",
      "[1. 0. 0.] <-> [0.9902526  0.00247935 0.00726805]\n",
      "[0. 1. 0.] <-> [5.0686919e-03 9.9490958e-01 2.1757394e-05]\n",
      "[0. 0. 1.] <-> [0.59991425 0.00149193 0.39859384]\n",
      "[1. 0. 0.] <-> [0.9912493  0.00253456 0.00621613]\n",
      "[1. 0. 0.] <-> [0.9926313  0.00286108 0.00450755]\n",
      "[1. 0. 0.] <-> [0.9879054  0.00256191 0.00953268]\n",
      "[1. 0. 0.] <-> [0.9952165  0.00327626 0.00150733]\n",
      "[1. 0. 0.] <-> [0.99490756 0.00251527 0.00257708]\n",
      "[0. 1. 0.] <-> [0.8140268  0.18447828 0.00149486]\n",
      "[1. 0. 0.] <-> [0.99420035 0.00273686 0.00306283]\n",
      "[1. 0. 0.] <-> [0.9570606  0.00273035 0.0402092 ]\n",
      "[1. 0. 0.] <-> [0.9954745  0.00329444 0.0012311 ]\n",
      "[1. 0. 0.] <-> [0.99503076 0.003527   0.00144221]\n",
      "[1. 0. 0.] <-> [0.99387854 0.00486388 0.00125762]\n",
      "[1. 0. 0.] <-> [0.9592528  0.00239573 0.0383516 ]\n",
      "[1. 0. 0.] <-> [0.9953916  0.0033709  0.00123751]\n",
      "[0. 1. 0.] <-> [1.1596775e-02 9.8836064e-01 4.2696640e-05]\n",
      "[0. 1. 0.] <-> [2.4726747e-03 9.9751580e-01 1.1591667e-05]\n",
      "[0. 1. 0.] <-> [2.4867631e-03 9.9750155e-01 1.1668476e-05]\n",
      "[1. 0. 0.] <-> [0.99519473 0.00308693 0.00171827]\n",
      "[1. 0. 0.] <-> [0.9949308  0.00351408 0.00155511]\n",
      "[1. 0. 0.] <-> [0.99336314 0.00273733 0.00389951]\n",
      "[1. 0. 0.] <-> [0.98871696 0.00250394 0.00877906]\n",
      "[0. 1. 0.] <-> [2.4726391e-03 9.9751580e-01 1.1589689e-05]\n",
      "[1. 0. 0.] <-> [0.99397874 0.00358667 0.00243459]\n",
      "{'accuracy': 0.9691358024691358, 'mean_square_error': 0.061469871023235124, 'categorical_crossentropy': 0.10974382471155238, 'essential_metrics': {0: {'tp_hit': 77, 'fp_hit': 2, 'tn_hit': 26, 'fn_hit': 3}, 1: {'tp_hit': 14, 'fp_hit': 1, 'tn_hit': 92, 'fn_hit': 1}, 2: {'tp_hit': 12, 'fp_hit': 2, 'tn_hit': 93, 'fn_hit': 1}}}\n"
     ]
    }
   ],
   "source": [
    "# recall phase\n",
    "score = model.evaluate(x_test, y_test, False)\n",
    "print(score)"
   ]
  },
  {
   "cell_type": "code",
   "execution_count": 11,
   "metadata": {},
   "outputs": [
    {
     "data": {
      "image/png": "[encoded data removed]",
      "text/plain": [
       "<Figure size 864x360 with 1 Axes>"
      ]
     },
     "metadata": {
      "needs_background": "light"
     },
     "output_type": "display_data"
    },
    {
     "data": {
      "image/png": "[encoded data removed]",
      "text/plain": [
       "<Figure size 864x360 with 1 Axes>"
      ]
     },
     "metadata": {
      "needs_background": "light"
     },
     "output_type": "display_data"
    }
   ],
   "source": [
    "draw_plot(x = [[i for i in range(len(history))], [(i+1)*breakpoint for i in range(len(checkpoints))]], y_list = [history, [ ckp[model.loss_fn] for ckp in checkpoints ]], x_label = 'Epochs', \\\n",
    "    y_label = model.loss_fn, legend=['train', 'test'])\n",
    "acc = [ ckp['accuracy'] for ckp in checkpoints ]\n",
    "draw_plot(x = [[(i+1)*breakpoint for i in range(len(checkpoints))]], y_list = [acc], x_label = 'Checkpoints', \\\n",
    "    y_label = 'accuracy')"
   ]
  },
  {
   "cell_type": "code",
   "execution_count": 12,
   "metadata": {},
   "outputs": [
    {
     "name": "stdout",
     "output_type": "stream",
     "text": [
      "{'accuracy': 0.9753086419753086, 'mean_square_error': 0.09350262405616008, 'categorical_crossentropy': 0.21834626021208586, 'essential_metrics': {0: {'tp_hit': 78, 'fp_hit': 2, 'tn_hit': 26, 'fn_hit': 2}, 1: {'tp_hit': 15, 'fp_hit': 1, 'tn_hit': 92, 'fn_hit': 0}, 2: {'tp_hit': 11, 'fp_hit': 1, 'tn_hit': 94, 'fn_hit': 2}}, 'checkpoint': 100} \n",
      "\n",
      "\n",
      "{'accuracy': 0.9629629629629629, 'mean_square_error': 0.06841324715194158, 'categorical_crossentropy': 0.11688787848861129, 'essential_metrics': {0: {'tp_hit': 77, 'fp_hit': 3, 'tn_hit': 25, 'fn_hit': 3}, 1: {'tp_hit': 13, 'fp_hit': 1, 'tn_hit': 92, 'fn_hit': 2}, 2: {'tp_hit': 12, 'fp_hit': 2, 'tn_hit': 93, 'fn_hit': 1}}, 'checkpoint': 200} \n",
      "\n",
      "\n",
      "{'accuracy': 0.9691358024691358, 'mean_square_error': 0.06284264956615751, 'categorical_crossentropy': 0.11176253248144079, 'essential_metrics': {0: {'tp_hit': 77, 'fp_hit': 2, 'tn_hit': 26, 'fn_hit': 3}, 1: {'tp_hit': 14, 'fp_hit': 1, 'tn_hit': 92, 'fn_hit': 1}, 2: {'tp_hit': 12, 'fp_hit': 2, 'tn_hit': 93, 'fn_hit': 1}}, 'checkpoint': 300} \n",
      "\n",
      "\n",
      "{'accuracy': 0.9691358024691358, 'mean_square_error': 0.06257377958630254, 'categorical_crossentropy': 0.11080891997725875, 'essential_metrics': {0: {'tp_hit': 77, 'fp_hit': 2, 'tn_hit': 26, 'fn_hit': 3}, 1: {'tp_hit': 14, 'fp_hit': 1, 'tn_hit': 92, 'fn_hit': 1}, 2: {'tp_hit': 12, 'fp_hit': 2, 'tn_hit': 93, 'fn_hit': 1}}, 'checkpoint': 400} \n",
      "\n",
      "\n",
      "{'accuracy': 0.9691358024691358, 'mean_square_error': 0.061469871023235124, 'categorical_crossentropy': 0.10974382471155238, 'essential_metrics': {0: {'tp_hit': 77, 'fp_hit': 2, 'tn_hit': 26, 'fn_hit': 3}, 1: {'tp_hit': 14, 'fp_hit': 1, 'tn_hit': 92, 'fn_hit': 1}, 2: {'tp_hit': 12, 'fp_hit': 2, 'tn_hit': 93, 'fn_hit': 1}}, 'checkpoint': 500} \n",
      "\n",
      "\n"
     ]
    }
   ],
   "source": [
    "for checkpoint in checkpoints:\n",
    "    print(checkpoint, '\\n\\n')"
   ]
  },
  {
   "cell_type": "code",
   "execution_count": 13,
   "metadata": {},
   "outputs": [
    {
     "name": "stdout",
     "output_type": "stream",
     "text": [
      "Layer 1\n",
      "Neuron 0: weights:\n",
      "[-2.0142372  3.         2.2634795 -3.         0.0480139]\n",
      " bias: -3.0\n",
      "\n",
      "Neuron 1: weights:\n",
      "[ 0.22081935  3.          0.05504026 -3.         -3.        ]\n",
      " bias: 2.1602699756622314\n",
      "\n",
      "Neuron 2: weights:\n",
      "[-1.9001677  3.         2.0263693  3.        -3.       ]\n",
      " bias: -3.0\n",
      "\n",
      "Neuron 3: weights:\n",
      "[ 0.20935678 -3.         -0.83105946  0.35775435  3.        ]\n",
      " bias: -3.0\n",
      "\n",
      "$\n",
      "Layer 2\n",
      "Neuron 0: weights:\n",
      "[-3.  3. -3. -3.]\n",
      " bias: 3.0\n",
      "\n",
      "Neuron 1: weights:\n",
      "[ 3.  3.  3. -3.]\n",
      " bias: -3.0\n",
      "\n",
      "Neuron 2: weights:\n",
      "[-3.       -3.       -1.497733  3.      ]\n",
      " bias: 2.134725570678711\n",
      "\n",
      "$\n",
      "\n"
     ]
    }
   ],
   "source": [
    "print(model)"
   ]
  }
 ],
 "metadata": {
  "kernelspec": {
   "display_name": "Python 3",
   "language": "python",
   "name": "python3"
  },
  "language_info": {
   "codemirror_mode": {
    "name": "ipython",
    "version": 3
   },
   "file_extension": ".py",
   "mimetype": "text/x-python",
   "name": "python",
   "nbconvert_exporter": "python",
   "pygments_lexer": "ipython3",
   "version": "3.6.10"
  }
 },
 "nbformat": 4,
 "nbformat_minor": 2
}
