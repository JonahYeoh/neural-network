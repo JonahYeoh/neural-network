{
 "cells": [
  {
   "cell_type": "code",
   "execution_count": 1,
   "metadata": {},
   "outputs": [],
   "source": [
    "# dependency\n",
    "import numpy as np\n",
    "import pandas as pd\n",
    "import copy\n",
    "import math\n",
    "import sys\n",
    "import os\n",
    "from activations import relu, leaky_relu, sigmoid, tanh, softmax, d_sigmoid, d_relu\n",
    "from initializers import glorot_uniform, random_normal, random_uniform\n",
    "from regularizers import l1_regularizer, l2_regularizer\n",
    "from utility import trim_tail, multiply, subtract, get_nparams, one_hot_encoding, get_data\n",
    "from metrics import MSE, CCE, ACC, PRECISION, RECALL, essential_metrics, wondering_penalty, close_gap_penalty\n",
    "from pso import PSO\n",
    "from ga import GA\n",
    "from nn import Network\n",
    "from layer import DenseLayer\n",
    "from scalers import MinMaxScaler, StandardScaler"
   ]
  },
  {
   "cell_type": "code",
   "execution_count": 2,
   "metadata": {},
   "outputs": [],
   "source": [
    "# reference\n",
    "metrics_fn_dict = dict()\n",
    "metrics_fn_dict['accuracy'] = ACC\n",
    "metrics_fn_dict['categorical_crossentropy'] = CCE\n",
    "metrics_fn_dict['mean_square_error'] = MSE\n",
    "metrics_fn_dict['precision'] = PRECISION\n",
    "metrics_fn_dict['recall'] = RECALL\n",
    "metrics_fn_dict['essential_metrics'] = essential_metrics"
   ]
  },
  {
   "cell_type": "code",
   "execution_count": 3,
   "metadata": {},
   "outputs": [],
   "source": [
    "# model\n",
    "model = Network(5, lr = None)\n",
    "model.add_layer(DenseLayer(1, 4, True, afn=sigmoid, dafn=None, rfn=None))\n",
    "model.add_layer(DenseLayer(2, 3, True, afn=softmax, dafn=None, rfn=None))"
   ]
  },
  {
   "cell_type": "code",
   "execution_count": 4,
   "metadata": {},
   "outputs": [
    {
     "name": "stdout",
     "output_type": "stream",
     "text": [
      "see one see two 2 2\n"
     ]
    }
   ],
   "source": [
    "pso = PSO(dict(m = 50,\n",
    "    weight_constraint = [-3, 3], \n",
    "    velocity_constraint = [-0.1, 0.1],\n",
    "    c1 = 2,\n",
    "    c2 = 2,\n",
    "    w = 0.8,\n",
    "    w_decay = 1,\n",
    "    scale_hyperparameter = False,\n",
    "    regularizer = None,\n",
    "    mask = True))"
   ]
  },
  {
   "cell_type": "code",
   "execution_count": 5,
   "metadata": {},
   "outputs": [
    {
     "name": "stdout",
     "output_type": "stream",
     "text": [
      "building layer 1 with 5\n",
      "24\n",
      "building layer 2 with 4\n",
      "15\n"
     ]
    }
   ],
   "source": [
    "model.compile(loss_fn = 'categorical_crossentropy', optimizer = pso, \\\n",
    "    metrics = ['accuracy', 'mean_square_error', 'categorical_crossentropy'])"
   ]
  },
  {
   "cell_type": "code",
   "execution_count": 6,
   "metadata": {},
   "outputs": [
    {
     "name": "stdout",
     "output_type": "stream",
     "text": [
      "<class 'pandas.core.frame.DataFrame'>\n",
      "RangeIndex: 107 entries, 0 to 106\n",
      "Data columns (total 6 columns):\n",
      " #   Column  Non-Null Count  Dtype  \n",
      "---  ------  --------------  -----  \n",
      " 0   f1      107 non-null    float32\n",
      " 1   f2      107 non-null    float32\n",
      " 2   f3      107 non-null    float32\n",
      " 3   f4      107 non-null    float32\n",
      " 4   f5      107 non-null    float32\n",
      " 5   label   107 non-null    float32\n",
      "dtypes: float32(6)\n",
      "memory usage: 2.6 KB\n",
      "None\n",
      "<class 'pandas.core.frame.DataFrame'>\n",
      "RangeIndex: 108 entries, 0 to 107\n",
      "Data columns (total 6 columns):\n",
      " #   Column  Non-Null Count  Dtype  \n",
      "---  ------  --------------  -----  \n",
      " 0   f1      108 non-null    float32\n",
      " 1   f2      108 non-null    float32\n",
      " 2   f3      108 non-null    float32\n",
      " 3   f4      108 non-null    float32\n",
      " 4   f5      108 non-null    float32\n",
      " 5   label   108 non-null    float32\n",
      "dtypes: float32(6)\n",
      "memory usage: 2.7 KB\n",
      "None\n"
     ]
    }
   ],
   "source": [
    "# data loading\n",
    "DATA = os.path.join('c:\\\\Users\\\\tcumi\\\\github_repo\\\\neural-network\\\\', 'dataset')\n",
    "GROUP = 2\n",
    "COLUMNS = ['f1', 'f2', 'f3', 'f4', 'f5', 'label']\n",
    "N_CLASS = 3\n",
    "EPOCHS = 500\n",
    "train_dir, test_dir = \"..//dataset//training_data{}.txt\".format(GROUP), \"..//dataset//testing_data{}.txt\".format(GROUP)\n",
    "train, test = get_data(DATA, train_dir, COLUMNS), get_data(DATA, test_dir, COLUMNS)\n",
    "# shuffle\n",
    "train, test = train.sample(frac=1), test.sample(frac=1)\n",
    "x_train, y_train = train.drop('label', axis=1), train['label']\n",
    "x_test, y_test = test.drop('label', axis=1), test['label']"
   ]
  },
  {
   "cell_type": "code",
   "execution_count": 7,
   "metadata": {},
   "outputs": [],
   "source": [
    "# data scaling and encoding\n",
    "scaler = StandardScaler(['f1', 'f2', 'f3', 'f4', 'f5'])\n",
    "scaler.fit(x_train)\n",
    "x_train = scaler.transform(x_train)\n",
    "x_test = scaler.transform(x_test)\n",
    "y_train = one_hot_encoding(y_train, N_CLASS)\n",
    "y_test = one_hot_encoding(y_test, N_CLASS)"
   ]
  },
  {
   "cell_type": "code",
   "execution_count": 8,
   "metadata": {
    "tags": [
     "outputPrepend"
    ]
   },
   "outputs": [
    {
     "name": "stdout",
     "output_type": "stream",
     "text": [
      "Checkpoint 100, Accuracy: 0.9629629629629629, Loss: 0.2598181477299443\n",
      "Checkpoint 200, Accuracy: 0.9691358024691358, Loss: 0.11819928663748282\n",
      "Checkpoint 300, Accuracy: 0.9753086419753086, Loss: 0.09527954348811397\n",
      "Checkpoint 400, Accuracy: 0.9753086419753086, Loss: 0.09151214140432852\n",
      "Checkpoint 500, Accuracy: 0.9753086419753086, Loss: 0.09230864489520038\n"
     ]
    }
   ],
   "source": [
    "# learning phase\n",
    "breakpoint = 100\n",
    "checkpoints = list()\n",
    "history = list()\n",
    "for century in range(0, EPOCHS, breakpoint):\n",
    "    sub_history = model.fit(x_train, y_train, breakpoint, verbose = 0)\n",
    "    score = model.evaluate(x_test, y_test, False, verbose = 0)\n",
    "    print('Checkpoint {}, Accuracy: {}, Loss: {}'.format(century+breakpoint, score['accuracy'], score[model.loss_fn]))\n",
    "    score['checkpoint'] = century + breakpoint\n",
    "    checkpoints.append(score)\n",
    "    history.extend(sub_history)"
   ]
  },
  {
   "cell_type": "code",
   "execution_count": 9,
   "metadata": {},
   "outputs": [],
   "source": [
    "import matplotlib.pyplot as plt\n",
    "\n",
    "def draw_plot(x, y_list, x_label=None, y_label=None, legend=None, title=None):\n",
    "    fig, ax = plt.subplots(figsize=(12,5))\n",
    "    for xi, yi in zip(x, y_list):\n",
    "        ax.plot(xi, yi)\n",
    "    if x_label is not None and y_label is not None:\n",
    "        ax.set(xlabel=x_label, ylabel=y_label, title='{} VS {}'.format(x_label, y_label))\n",
    "    if legend is not None:\n",
    "        ax.legend(legend)\n",
    "    ax.grid()\n",
    "    plt.show()"
   ]
  },
  {
   "cell_type": "code",
   "execution_count": 10,
   "metadata": {},
   "outputs": [
    {
     "name": "stdout",
     "output_type": "stream",
     "text": [
      "[1. 0. 0.] <-> [0.9812511  0.01625287 0.002496  ]\n",
      "[1. 0. 0.] <-> [0.9937976  0.00251852 0.00368382]\n",
      "[1. 0. 0.] <-> [0.9943311  0.00276454 0.00290425]\n",
      "[1. 0. 0.] <-> [0.9942861  0.00284241 0.00287145]\n",
      "[1. 0. 0.] <-> [0.99349517 0.00374653 0.00275831]\n",
      "[0. 0. 1.] <-> [0.7845255  0.00175003 0.21372452]\n",
      "[1. 0. 0.] <-> [0.42217758 0.5767507  0.00107169]\n",
      "[1. 0. 0.] <-> [0.993867   0.00304019 0.00309291]\n",
      "[1. 0. 0.] <-> [0.99418664 0.00276473 0.00304859]\n",
      "[0. 0. 1.] <-> [1.2199884e-02 6.0704665e-06 9.8779404e-01]\n",
      "[1. 0. 0.] <-> [0.9530821  0.00214032 0.04477762]\n",
      "[1. 0. 0.] <-> [0.8898201  0.00108803 0.10909186]\n",
      "[1. 0. 0.] <-> [0.99278075 0.00308189 0.00413741]\n",
      "[1. 0. 0.] <-> [0.9919022  0.00380247 0.00429535]\n",
      "[1. 0. 0.] <-> [0.9836468  0.00172763 0.01462558]\n",
      "[1. 0. 0.] <-> [0.9928879  0.00414198 0.00297012]\n",
      "[1. 0. 0.] <-> [0.99413246 0.0028423  0.00302523]\n",
      "[1. 0. 0.] <-> [0.94868684 0.00100348 0.05030967]\n",
      "[0. 1. 0.] <-> [0.25686812 0.7423031  0.00082879]\n",
      "[0. 1. 0.] <-> [2.4726666e-03 9.9752110e-01 6.1291335e-06]\n",
      "[1. 0. 0.] <-> [7.0435643e-01 6.5495295e-04 2.9498863e-01]\n",
      "[1. 0. 0.] <-> [0.9927267  0.00449826 0.00277496]\n",
      "[1. 0. 0.] <-> [0.98597497 0.01155492 0.00247016]\n",
      "[1. 0. 0.] <-> [0.98140585 0.00179005 0.01680405]\n",
      "[1. 0. 0.] <-> [0.98553526 0.00198338 0.01248137]\n",
      "[1. 0. 0.] <-> [0.9874061  0.01000729 0.00258658]\n",
      "[1. 0. 0.] <-> [0.99007404 0.00229706 0.00762898]\n",
      "[1. 0. 0.] <-> [0.9930131  0.00437066 0.00261622]\n",
      "[1. 0. 0.] <-> [0.9930112  0.00247953 0.00450935]\n",
      "[0. 0. 1.] <-> [1.2198068e-02 6.0692737e-06 9.8779583e-01]\n",
      "[1. 0. 0.] <-> [0.9934896  0.00384507 0.00266535]\n",
      "[0. 1. 0.] <-> [6.0797124e-03 9.9390525e-01 1.5104590e-05]\n",
      "[1. 0. 0.] <-> [0.98979586 0.00208465 0.00811942]\n",
      "[1. 0. 0.] <-> [0.99282914 0.00464406 0.00252681]\n",
      "[0. 1. 0.] <-> [2.6607723e-03 9.9733269e-01 6.5955969e-06]\n",
      "[1. 0. 0.] <-> [0.99017406 0.00246776 0.00735821]\n",
      "[1. 0. 0.] <-> [0.99403375 0.00330121 0.002665  ]\n",
      "[0. 1. 0.] <-> [1.13592155e-01 8.86125863e-01 2.81968416e-04]\n",
      "[1. 0. 0.] <-> [0.9920587  0.00232183 0.00561943]\n",
      "[1. 0. 0.] <-> [0.99426794 0.00283151 0.00290059]\n",
      "[1. 0. 0.] <-> [0.9939535  0.0028074  0.00323913]\n",
      "[0. 1. 0.] <-> [0.8312321  0.16670321 0.00206465]\n",
      "[0. 1. 0.] <-> [2.472709e-03 9.975211e-01 6.129239e-06]\n",
      "[1. 0. 0.] <-> [0.99352175 0.00392023 0.00255804]\n",
      "[1. 0. 0.] <-> [0.8983771  0.09843687 0.00318596]\n",
      "[1. 0. 0.] <-> [0.9938974  0.00280294 0.00329969]\n",
      "[1. 0. 0.] <-> [0.9926528  0.00246612 0.00488118]\n",
      "[0. 1. 0.] <-> [0.40029988 0.5987055  0.00099467]\n",
      "[1. 0. 0.] <-> [0.9928515  0.00449128 0.00265721]\n",
      "[1. 0. 0.] <-> [0.89136773 0.00217244 0.10645981]\n",
      "[0. 0. 1.] <-> [7.6444119e-02 7.6218719e-05 9.2347974e-01]\n",
      "[1. 0. 0.] <-> [0.982799   0.00161845 0.01558255]\n",
      "[1. 0. 0.] <-> [0.9931217  0.00251417 0.00436414]\n",
      "[1. 0. 0.] <-> [0.99435246 0.00284031 0.00280722]\n",
      "[1. 0. 0.] <-> [0.99284655 0.00415643 0.00299705]\n",
      "[1. 0. 0.] <-> [0.9440741  0.00414884 0.05177699]\n",
      "[0. 1. 0.] <-> [4.1720208e-02 9.5817626e-01 1.0347636e-04]\n",
      "[1. 0. 0.] <-> [0.99336046 0.00257015 0.00406942]\n",
      "[1. 0. 0.] <-> [0.96005553 0.00176274 0.03818172]\n",
      "[1. 0. 0.] <-> [0.9723831  0.00144003 0.02617688]\n",
      "[1. 0. 0.] <-> [0.99260885 0.00461237 0.00277877]\n",
      "[0. 1. 0.] <-> [1.2997575e-02 9.8697007e-01 3.2358705e-05]\n",
      "[1. 0. 0.] <-> [0.9906345  0.00218249 0.00718302]\n",
      "[1. 0. 0.] <-> [0.99056095 0.00616923 0.00326989]\n",
      "[0. 1. 0.] <-> [2.4891354e-03 9.9750465e-01 6.1717683e-06]\n",
      "[0. 1. 0.] <-> [2.4729325e-03 9.9752086e-01 6.1314586e-06]\n",
      "[1. 0. 0.] <-> [0.9881913  0.00246559 0.0093431 ]\n",
      "[1. 0. 0.] <-> [0.9876773  0.00188173 0.01044093]\n",
      "[0. 0. 1.] <-> [1.2198103e-02 6.0692619e-06 9.8779583e-01]\n",
      "[1. 0. 0.] <-> [0.9853829  0.00179212 0.01282499]\n",
      "[1. 0. 0.] <-> [0.9677885  0.0012005  0.03101098]\n",
      "[1. 0. 0.] <-> [0.9933095  0.0027207  0.00396972]\n",
      "[0. 0. 1.] <-> [1.2206009e-02 7.6806991e-06 9.8778629e-01]\n",
      "[1. 0. 0.] <-> [1.5935956e-01 1.8169425e-04 8.4045875e-01]\n",
      "[0. 1. 0.] <-> [3.5134933e-03 9.9647766e-01 8.7312383e-06]\n",
      "[1. 0. 0.] <-> [0.917714   0.00200702 0.0802789 ]\n",
      "[1. 0. 0.] <-> [0.98509467 0.00235986 0.01254546]\n",
      "[0. 0. 1.] <-> [1.2198148e-02 6.2038230e-06 9.8779571e-01]\n",
      "[1. 0. 0.] <-> [0.9697869  0.02759574 0.00261734]\n",
      "[1. 0. 0.] <-> [0.9658138  0.00139152 0.03279465]\n",
      "[1. 0. 0.] <-> [0.9515524  0.00162046 0.04682718]\n",
      "[1. 0. 0.] <-> [0.99083287 0.00273249 0.00643463]\n",
      "[1. 0. 0.] <-> [0.99393624 0.00309866 0.00296509]\n",
      "[1. 0. 0.] <-> [0.9827675  0.0015656  0.01566688]\n",
      "[1. 0. 0.] <-> [0.9866937  0.00231097 0.01099535]\n",
      "[1. 0. 0.] <-> [0.9939294  0.00338723 0.00268335]\n",
      "[1. 0. 0.] <-> [0.98932475 0.00211068 0.00856455]\n",
      "[1. 0. 0.] <-> [0.9878852  0.00172266 0.01039213]\n",
      "[0. 0. 1.] <-> [1.2220014e-02 6.0898606e-06 9.8777395e-01]\n",
      "[0. 1. 0.] <-> [4.687920e-03 9.953004e-01 1.166688e-05]\n",
      "[0. 1. 0.] <-> [2.5701206e-03 9.9742353e-01 6.3720468e-06]\n",
      "[1. 0. 0.] <-> [0.9926042  0.00487152 0.00252423]\n",
      "[1. 0. 0.] <-> [0.9026835  0.09487933 0.00243723]\n",
      "[0. 0. 1.] <-> [2.7984858e-01 1.8157971e-04 7.1996981e-01]\n",
      "[1. 0. 0.] <-> [0.97663397 0.00175204 0.02161393]\n",
      "[0. 0. 1.] <-> [1.2214973e-02 6.0791335e-06 9.8777896e-01]\n",
      "[1. 0. 0.] <-> [0.9915223  0.00245944 0.00601815]\n",
      "[0. 0. 1.] <-> [1.2198058e-02 6.0692282e-06 9.8779595e-01]\n",
      "[0. 0. 1.] <-> [1.5576316e-02 7.7697405e-06 9.8441595e-01]\n",
      "[1. 0. 0.] <-> [0.99374276 0.00314337 0.00311377]\n",
      "[1. 0. 0.] <-> [0.991967   0.00241191 0.00562106]\n",
      "[1. 0. 0.] <-> [0.9914243  0.00603517 0.00254047]\n",
      "[1. 0. 0.] <-> [0.94205546 0.00153563 0.056409  ]\n",
      "[0. 0. 1.] <-> [1.2198058e-02 6.0692282e-06 9.8779595e-01]\n",
      "[1. 0. 0.] <-> [0.99337643 0.00262392 0.00399968]\n",
      "[1. 0. 0.] <-> [0.99391115 0.00271863 0.00337031]\n",
      "[1. 0. 0.] <-> [6.0319662e-01 3.2591537e-04 3.9647749e-01]\n",
      "[1. 0. 0.] <-> [0.9930201  0.00249998 0.0044799 ]\n",
      "{'accuracy': 0.9753086419753086, 'mean_square_error': 0.05545354126004392, 'categorical_crossentropy': 0.09230864489520038, 'essential_metrics': {0: {'tp_hit': 78, 'fp_hit': 2, 'tn_hit': 26, 'fn_hit': 2}, 1: {'tp_hit': 14, 'fp_hit': 1, 'tn_hit': 92, 'fn_hit': 1}, 2: {'tp_hit': 12, 'fp_hit': 1, 'tn_hit': 94, 'fn_hit': 1}}}\n"
     ]
    }
   ],
   "source": [
    "# recall phase\n",
    "score = model.evaluate(x_test, y_test, False)\n",
    "print(score)"
   ]
  },
  {
   "cell_type": "code",
   "execution_count": 11,
   "metadata": {},
   "outputs": [
    {
     "data": {
      "image/png": "[encoded data removed]",
      "text/plain": [
       "<Figure size 864x360 with 1 Axes>"
      ]
     },
     "metadata": {
      "needs_background": "light"
     },
     "output_type": "display_data"
    },
    {
     "data": {
      "image/png": "[encoded data removed]",
      "text/plain": [
       "<Figure size 864x360 with 1 Axes>"
      ]
     },
     "metadata": {
      "needs_background": "light"
     },
     "output_type": "display_data"
    }
   ],
   "source": [
    "draw_plot(x = [[i for i in range(len(history))], [(i+1)*breakpoint for i in range(len(checkpoints))]], y_list = [history, [ ckp[model.loss_fn] for ckp in checkpoints ]], x_label = 'Epochs', \\\n",
    "    y_label = model.loss_fn, legend=['train', 'test'])\n",
    "acc = [ ckp['accuracy'] for ckp in checkpoints ]\n",
    "draw_plot(x = [[(i+1)*breakpoint for i in range(len(checkpoints))]], y_list = [acc], x_label = 'Checkpoints', \\\n",
    "    y_label = 'accuracy')"
   ]
  },
  {
   "cell_type": "code",
   "execution_count": 12,
   "metadata": {},
   "outputs": [
    {
     "name": "stdout",
     "output_type": "stream",
     "text": [
      "{'accuracy': 0.9629629629629629, 'mean_square_error': 0.11712305669345918, 'categorical_crossentropy': 0.2598181477299443, 'essential_metrics': {0: {'tp_hit': 80, 'fp_hit': 6, 'tn_hit': 22, 'fn_hit': 0}, 1: {'tp_hit': 12, 'fp_hit': 0, 'tn_hit': 93, 'fn_hit': 3}, 2: {'tp_hit': 10, 'fp_hit': 0, 'tn_hit': 95, 'fn_hit': 3}}, 'checkpoint': 100} \n",
      "\n",
      "\n",
      "{'accuracy': 0.9691358024691358, 'mean_square_error': 0.06002697174251939, 'categorical_crossentropy': 0.11819928663748282, 'essential_metrics': {0: {'tp_hit': 78, 'fp_hit': 3, 'tn_hit': 25, 'fn_hit': 2}, 1: {'tp_hit': 13, 'fp_hit': 1, 'tn_hit': 92, 'fn_hit': 2}, 2: {'tp_hit': 12, 'fp_hit': 1, 'tn_hit': 94, 'fn_hit': 1}}, 'checkpoint': 200} \n",
      "\n",
      "\n",
      "{'accuracy': 0.9753086419753086, 'mean_square_error': 0.057056644789481595, 'categorical_crossentropy': 0.09527954348811397, 'essential_metrics': {0: {'tp_hit': 78, 'fp_hit': 2, 'tn_hit': 26, 'fn_hit': 2}, 1: {'tp_hit': 14, 'fp_hit': 1, 'tn_hit': 92, 'fn_hit': 1}, 2: {'tp_hit': 12, 'fp_hit': 1, 'tn_hit': 94, 'fn_hit': 1}}, 'checkpoint': 300} \n",
      "\n",
      "\n",
      "{'accuracy': 0.9753086419753086, 'mean_square_error': 0.055431362467546014, 'categorical_crossentropy': 0.09151214140432852, 'essential_metrics': {0: {'tp_hit': 78, 'fp_hit': 2, 'tn_hit': 26, 'fn_hit': 2}, 1: {'tp_hit': 14, 'fp_hit': 1, 'tn_hit': 92, 'fn_hit': 1}, 2: {'tp_hit': 12, 'fp_hit': 1, 'tn_hit': 94, 'fn_hit': 1}}, 'checkpoint': 400} \n",
      "\n",
      "\n",
      "{'accuracy': 0.9753086419753086, 'mean_square_error': 0.05545354126004392, 'categorical_crossentropy': 0.09230864489520038, 'essential_metrics': {0: {'tp_hit': 78, 'fp_hit': 2, 'tn_hit': 26, 'fn_hit': 2}, 1: {'tp_hit': 14, 'fp_hit': 1, 'tn_hit': 92, 'fn_hit': 1}, 2: {'tp_hit': 12, 'fp_hit': 1, 'tn_hit': 94, 'fn_hit': 1}}, 'checkpoint': 500} \n",
      "\n",
      "\n"
     ]
    }
   ],
   "source": [
    "for checkpoint in checkpoints:\n",
    "    print(checkpoint, '\\n\\n')"
   ]
  },
  {
   "cell_type": "code",
   "execution_count": 13,
   "metadata": {},
   "outputs": [
    {
     "name": "stdout",
     "output_type": "stream",
     "text": [
      "Layer 1\n",
      "Neuron 0: weights:\n",
      "[-3.        -3.        -2.6732492  3.         3.       ]\n",
      " bias: -3.0\n",
      "\n",
      "Neuron 1: weights:\n",
      "[-2.0478086  3.         2.106313   1.1725858 -2.1617296]\n",
      " bias: -3.0\n",
      "\n",
      "Neuron 2: weights:\n",
      "[-1.887108   3.         1.941007   2.4624453 -3.       ]\n",
      " bias: -3.0\n",
      "\n",
      "Neuron 3: weights:\n",
      "[ 1.1245606 -3.        -1.2125498  3.         3.       ]\n",
      " bias: -3.0\n",
      "\n",
      "$\n",
      "Layer 2\n",
      "Neuron 0: weights:\n",
      "[-1.3941991 -3.        -3.        -3.       ]\n",
      " bias: 3.0\n",
      "\n",
      "Neuron 1: weights:\n",
      "[-3.  3.  3. -3.]\n",
      " bias: -3.0\n",
      "\n",
      "Neuron 2: weights:\n",
      "[ 3. -3. -3.  3.]\n",
      " bias: -3.0\n",
      "\n",
      "$\n",
      "\n"
     ]
    }
   ],
   "source": [
    "print(model)"
   ]
  }
 ],
 "metadata": {
  "kernelspec": {
   "display_name": "Python 3",
   "language": "python",
   "name": "python3"
  },
  "language_info": {
   "codemirror_mode": {
    "name": "ipython",
    "version": 3
   },
   "file_extension": ".py",
   "mimetype": "text/x-python",
   "name": "python",
   "nbconvert_exporter": "python",
   "pygments_lexer": "ipython3",
   "version": "3.6.10"
  }
 },
 "nbformat": 4,
 "nbformat_minor": 2
}
