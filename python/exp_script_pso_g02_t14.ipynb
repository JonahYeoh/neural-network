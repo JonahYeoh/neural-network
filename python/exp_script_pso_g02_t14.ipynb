{
 "cells": [
  {
   "cell_type": "code",
   "execution_count": 1,
   "metadata": {},
   "outputs": [],
   "source": [
    "# dependency\n",
    "import numpy as np\n",
    "import pandas as pd\n",
    "import copy\n",
    "import math\n",
    "import sys\n",
    "import os\n",
    "from activations import relu, leaky_relu, sigmoid, tanh, softmax, d_sigmoid, d_relu\n",
    "from initializers import glorot_uniform, random_normal, random_uniform\n",
    "from regularizers import l1_regularizer, l2_regularizer\n",
    "from utility import trim_tail, multiply, subtract, get_nparams, one_hot_encoding, get_data\n",
    "from metrics import MSE, CCE, ACC, PRECISION, RECALL, essential_metrics, wondering_penalty, close_gap_penalty\n",
    "from pso import PSO\n",
    "from ga import GA\n",
    "from nn import Network\n",
    "from layer import DenseLayer\n",
    "from scalers import MinMaxScaler, StandardScaler"
   ]
  },
  {
   "cell_type": "code",
   "execution_count": 2,
   "metadata": {},
   "outputs": [],
   "source": [
    "# reference\n",
    "metrics_fn_dict = dict()\n",
    "metrics_fn_dict['accuracy'] = ACC\n",
    "metrics_fn_dict['categorical_crossentropy'] = CCE\n",
    "metrics_fn_dict['mean_square_error'] = MSE\n",
    "metrics_fn_dict['precision'] = PRECISION\n",
    "metrics_fn_dict['recall'] = RECALL\n",
    "metrics_fn_dict['essential_metrics'] = essential_metrics"
   ]
  },
  {
   "cell_type": "code",
   "execution_count": 3,
   "metadata": {},
   "outputs": [],
   "source": [
    "# model\n",
    "model = Network(5, lr = None)\n",
    "model.add_layer(DenseLayer(1, 4, True, afn=sigmoid, dafn=None, rfn=None))\n",
    "model.add_layer(DenseLayer(2, 3, True, afn=softmax, dafn=None, rfn=None))"
   ]
  },
  {
   "cell_type": "code",
   "execution_count": 4,
   "metadata": {},
   "outputs": [
    {
     "name": "stdout",
     "output_type": "stream",
     "text": [
      "see one see two 2 2\n"
     ]
    }
   ],
   "source": [
    "pso = PSO(dict(m = 200,\n",
    "    weight_constraint = [-3, 3], \n",
    "    velocity_constraint = [-0.1, 0.1],\n",
    "    c1 = 2,\n",
    "    c2 = 2,\n",
    "    w = 1.2,\n",
    "    w_decay = 1,\n",
    "    scale_hyperparameter = False,\n",
    "    regularizer = None,\n",
    "    mask = True))"
   ]
  },
  {
   "cell_type": "code",
   "execution_count": 5,
   "metadata": {},
   "outputs": [
    {
     "name": "stdout",
     "output_type": "stream",
     "text": [
      "building layer 1 with 5\n",
      "24\n",
      "building layer 2 with 4\n",
      "15\n"
     ]
    }
   ],
   "source": [
    "model.compile(loss_fn = 'categorical_crossentropy', optimizer = pso, \\\n",
    "    metrics = ['accuracy', 'mean_square_error', 'categorical_crossentropy'])"
   ]
  },
  {
   "cell_type": "code",
   "execution_count": 6,
   "metadata": {},
   "outputs": [
    {
     "name": "stdout",
     "output_type": "stream",
     "text": [
      "<class 'pandas.core.frame.DataFrame'>\n",
      "RangeIndex: 107 entries, 0 to 106\n",
      "Data columns (total 6 columns):\n",
      " #   Column  Non-Null Count  Dtype  \n",
      "---  ------  --------------  -----  \n",
      " 0   f1      107 non-null    float32\n",
      " 1   f2      107 non-null    float32\n",
      " 2   f3      107 non-null    float32\n",
      " 3   f4      107 non-null    float32\n",
      " 4   f5      107 non-null    float32\n",
      " 5   label   107 non-null    float32\n",
      "dtypes: float32(6)\n",
      "memory usage: 2.6 KB\n",
      "None\n",
      "<class 'pandas.core.frame.DataFrame'>\n",
      "RangeIndex: 108 entries, 0 to 107\n",
      "Data columns (total 6 columns):\n",
      " #   Column  Non-Null Count  Dtype  \n",
      "---  ------  --------------  -----  \n",
      " 0   f1      108 non-null    float32\n",
      " 1   f2      108 non-null    float32\n",
      " 2   f3      108 non-null    float32\n",
      " 3   f4      108 non-null    float32\n",
      " 4   f5      108 non-null    float32\n",
      " 5   label   108 non-null    float32\n",
      "dtypes: float32(6)\n",
      "memory usage: 2.7 KB\n",
      "None\n"
     ]
    }
   ],
   "source": [
    "# data loading\n",
    "DATA = os.path.join('c:\\\\Users\\\\AI-lab\\\\github_repo\\\\neural-network\\\\', 'dataset')\n",
    "GROUP = 2\n",
    "COLUMNS = ['f1', 'f2', 'f3', 'f4', 'f5', 'label']\n",
    "N_CLASS = 3\n",
    "EPOCHS = 200\n",
    "train_dir, test_dir = \"..//dataset//training_data{}.txt\".format(GROUP), \"..//dataset//testing_data{}.txt\".format(GROUP)\n",
    "train, test = get_data(DATA, train_dir, COLUMNS), get_data(DATA, test_dir, COLUMNS)\n",
    "# shuffle\n",
    "train, test = train.sample(frac=1), test.sample(frac=1)\n",
    "x_train, y_train = train.drop('label', axis=1), train['label']\n",
    "x_test, y_test = test.drop('label', axis=1), test['label']"
   ]
  },
  {
   "cell_type": "code",
   "execution_count": 7,
   "metadata": {},
   "outputs": [],
   "source": [
    "# data scaling and encoding\n",
    "scaler = StandardScaler(['f1', 'f2', 'f3', 'f4', 'f5'])\n",
    "scaler.fit(x_train)\n",
    "x_train = scaler.transform(x_train)\n",
    "x_test = scaler.transform(x_test)\n",
    "y_train = one_hot_encoding(y_train, N_CLASS)\n",
    "y_test = one_hot_encoding(y_test, N_CLASS)"
   ]
  },
  {
   "cell_type": "code",
   "execution_count": 8,
   "metadata": {
    "tags": [
     "outputPrepend"
    ]
   },
   "outputs": [
    {
     "name": "stdout",
     "output_type": "stream",
     "text": [
      "Checkpoint 10, Accuracy: 0.8580246913580247, Loss: 0.48131324626781324\n",
      "Checkpoint 20, Accuracy: 0.8580246913580247, Loss: 0.4606286508065683\n",
      "Checkpoint 30, Accuracy: 0.9197530864197531, Loss: 0.4306155663949472\n",
      "Checkpoint 40, Accuracy: 0.9074074074074074, Loss: 0.41940332342077186\n",
      "Checkpoint 50, Accuracy: 0.9320987654320988, Loss: 0.3513696105391891\n",
      "Checkpoint 60, Accuracy: 0.9629629629629629, Loss: 0.27805872316713687\n",
      "Checkpoint 70, Accuracy: 0.9506172839506173, Loss: 0.2549648991337529\n",
      "Checkpoint 80, Accuracy: 0.9629629629629629, Loss: 0.2373946331165455\n",
      "Checkpoint 90, Accuracy: 0.9567901234567902, Loss: 0.20884831746419272\n",
      "Checkpoint 100, Accuracy: 0.9753086419753086, Loss: 0.16813212853890877\n",
      "Checkpoint 110, Accuracy: 0.9629629629629629, Loss: 0.15953332406503182\n",
      "Checkpoint 120, Accuracy: 0.9691358024691358, Loss: 0.13183586685745805\n",
      "Checkpoint 130, Accuracy: 0.9691358024691358, Loss: 0.12288513890019169\n",
      "Checkpoint 140, Accuracy: 0.9629629629629629, Loss: 0.12123039033677843\n",
      "Checkpoint 150, Accuracy: 0.9629629629629629, Loss: 0.11845472123887804\n",
      "Checkpoint 160, Accuracy: 0.9567901234567902, Loss: 0.13707552132783113\n",
      "Checkpoint 170, Accuracy: 0.9629629629629629, Loss: 0.14713967287981952\n",
      "Checkpoint 180, Accuracy: 0.9629629629629629, Loss: 0.14205126409177427\n",
      "Checkpoint 190, Accuracy: 0.9567901234567902, Loss: 0.13875786463419595\n",
      "Checkpoint 200, Accuracy: 0.9629629629629629, Loss: 0.11937412509211788\n"
     ]
    }
   ],
   "source": [
    "# learning phase\n",
    "breakpoint = 10\n",
    "checkpoints = list()\n",
    "history = list()\n",
    "for century in range(0, EPOCHS, breakpoint):\n",
    "    sub_history = model.fit(x_train, y_train, breakpoint, verbose = 0)\n",
    "    score = model.evaluate(x_test, y_test, False, verbose = 0)\n",
    "    print('Checkpoint {}, Accuracy: {}, Loss: {}'.format(century+breakpoint, score['accuracy'], score[model.loss_fn]))\n",
    "    score['checkpoint'] = century + breakpoint\n",
    "    checkpoints.append(score)\n",
    "    history.extend(sub_history)"
   ]
  },
  {
   "cell_type": "code",
   "execution_count": 9,
   "metadata": {},
   "outputs": [],
   "source": [
    "import matplotlib.pyplot as plt\n",
    "\n",
    "def draw_plot(x, y_list, x_label=None, y_label=None, legend=None, title=None):\n",
    "    fig, ax = plt.subplots(figsize=(12,5))\n",
    "    for xi, yi in zip(x, y_list):\n",
    "        ax.plot(xi, yi)\n",
    "    if x_label is not None and y_label is not None:\n",
    "        ax.set(xlabel=x_label, ylabel=y_label, title='{} VS {}'.format(x_label, y_label))\n",
    "    if legend is not None:\n",
    "        ax.legend(legend)\n",
    "    ax.grid()\n",
    "    plt.show()"
   ]
  },
  {
   "cell_type": "code",
   "execution_count": 10,
   "metadata": {},
   "outputs": [],
   "source": [
    "train_acc = [h['accuracy'] for h in history]\n",
    "train_mse = [h['mean_square_error'] for h in history]\n",
    "train_cce = [h['categorical_crossentropy'] for h in history]"
   ]
  },
  {
   "cell_type": "code",
   "execution_count": 11,
   "metadata": {},
   "outputs": [
    {
     "name": "stdout",
     "output_type": "stream",
     "text": [
      "[1. 0. 0.] <-> [0.99136144 0.00749325 0.00114532]\n",
      "[1. 0. 0.] <-> [0.9904197  0.00362649 0.0059539 ]\n",
      "[1. 0. 0.] <-> [0.834157   0.00882355 0.1570195 ]\n",
      "[1. 0. 0.] <-> [0.994323   0.00248693 0.00319011]\n",
      "[1. 0. 0.] <-> [0.98821354 0.00847919 0.00330723]\n",
      "[1. 0. 0.] <-> [0.98938596 0.0026153  0.00799877]\n",
      "[1. 0. 0.] <-> [0.9957775  0.00270698 0.00151548]\n",
      "[0. 0. 1.] <-> [9.305462e-03 5.365052e-04 9.901580e-01]\n",
      "[1. 0. 0.] <-> [0.99286145 0.00186327 0.00527523]\n",
      "[0. 1. 0.] <-> [2.3385812e-02 9.7653461e-01 7.9587728e-05]\n",
      "[1. 0. 0.] <-> [0.9763707  0.02237363 0.00125562]\n",
      "[1. 0. 0.] <-> [0.98994714 0.0086416  0.00141132]\n",
      "[1. 0. 0.] <-> [0.02543028 0.00130933 0.97326034]\n",
      "[1. 0. 0.] <-> [0.98680323 0.01214328 0.00105345]\n",
      "[1. 0. 0.] <-> [0.9905069  0.00765813 0.00183498]\n",
      "[0. 1. 0.] <-> [0.48087016 0.51849216 0.00063767]\n",
      "[1. 0. 0.] <-> [0.97392243 0.00425407 0.02182349]\n",
      "[1. 0. 0.] <-> [0.99207836 0.00524481 0.00267682]\n",
      "[0. 1. 0.] <-> [1.8908760e-02 9.8102427e-01 6.6959903e-05]\n",
      "[1. 0. 0.] <-> [0.99193585 0.00569549 0.00236868]\n",
      "[1. 0. 0.] <-> [0.9952565  0.0029159  0.00182761]\n",
      "[0. 0. 1.] <-> [0.14053644 0.00371528 0.8557483 ]\n",
      "[0. 0. 1.] <-> [0.7807198  0.00416516 0.21511512]\n",
      "[1. 0. 0.] <-> [0.9935708  0.00368749 0.00274169]\n",
      "[0. 1. 0.] <-> [2.2249054e-02 9.7769141e-01 5.9509362e-05]\n",
      "[1. 0. 0.] <-> [0.93893    0.00318329 0.05788679]\n",
      "[0. 1. 0.] <-> [3.3807333e-03 9.9618810e-01 4.3122171e-04]\n",
      "[0. 1. 0.] <-> [6.083126e-02 9.390222e-01 1.465604e-04]\n",
      "[0. 0. 1.] <-> [9.0709636e-03 4.7805338e-04 9.9045104e-01]\n",
      "[1. 0. 0.] <-> [0.9817077  0.01720719 0.00108509]\n",
      "[0. 1. 0.] <-> [5.0299149e-02 9.4956285e-01 1.3800806e-04]\n",
      "[1. 0. 0.] <-> [0.9881285  0.00238587 0.00948558]\n",
      "[1. 0. 0.] <-> [0.9918795  0.00696345 0.001157  ]\n",
      "[1. 0. 0.] <-> [0.99355847 0.00348962 0.00295191]\n",
      "[1. 0. 0.] <-> [0.9950051  0.00370204 0.00129294]\n",
      "[1. 0. 0.] <-> [0.789709   0.01094911 0.19934186]\n",
      "[1. 0. 0.] <-> [0.9901737  0.00330221 0.00652408]\n",
      "[1. 0. 0.] <-> [0.99612063 0.00245578 0.00142348]\n",
      "[1. 0. 0.] <-> [0.95996684 0.00631765 0.03371552]\n",
      "[1. 0. 0.] <-> [0.95217764 0.0074618  0.04036053]\n",
      "[1. 0. 0.] <-> [0.88075763 0.11737685 0.00186554]\n",
      "[1. 0. 0.] <-> [9.9288768e-01 6.1637657e-03 9.4851293e-04]\n",
      "[0. 0. 1.] <-> [1.1752232e-02 6.1982608e-04 9.8762798e-01]\n",
      "[1. 0. 0.] <-> [9.8972964e-01 9.3244528e-03 9.4587164e-04]\n",
      "[1. 0. 0.] <-> [0.98953855 0.00497888 0.00548268]\n",
      "[1. 0. 0.] <-> [0.98606586 0.00609076 0.0078434 ]\n",
      "[0. 0. 1.] <-> [9.1750426e-03 4.8625594e-04 9.9033874e-01]\n",
      "[1. 0. 0.] <-> [0.99491066 0.00321464 0.00187479]\n",
      "[0. 1. 0.] <-> [0.42195535 0.57718694 0.00085775]\n",
      "[1. 0. 0.] <-> [0.9851046  0.01300943 0.00188604]\n",
      "[0. 0. 1.] <-> [9.0615153e-03 4.7553959e-04 9.9046296e-01]\n",
      "[1. 0. 0.] <-> [0.99616504 0.00195187 0.00188322]\n",
      "[1. 0. 0.] <-> [0.9831993  0.00577241 0.01102832]\n",
      "[1. 0. 0.] <-> [0.9812247  0.00426239 0.01451289]\n",
      "[0. 1. 0.] <-> [2.0209711e-02 9.7972554e-01 6.4752807e-05]\n",
      "[1. 0. 0.] <-> [0.99512684 0.00259205 0.00228112]\n",
      "[0. 0. 1.] <-> [9.1007091e-03 4.7530961e-04 9.9042398e-01]\n",
      "[0. 1. 0.] <-> [1.9150099e-02 9.8078454e-01 6.5385815e-05]\n",
      "[0. 0. 1.] <-> [9.0953279e-03 4.8388325e-04 9.9042082e-01]\n",
      "[1. 0. 0.] <-> [0.99115163 0.00246948 0.00637894]\n",
      "[1. 0. 0.] <-> [0.48360884 0.5155019  0.0008892 ]\n",
      "[1. 0. 0.] <-> [0.99303645 0.00337952 0.00358406]\n",
      "[1. 0. 0.] <-> [0.99414694 0.00327234 0.00258075]\n",
      "[1. 0. 0.] <-> [0.9876044  0.00395379 0.00844184]\n",
      "[1. 0. 0.] <-> [0.9901634  0.00309883 0.00673772]\n",
      "[1. 0. 0.] <-> [0.9500503  0.00376625 0.04618343]\n",
      "[1. 0. 0.] <-> [9.8942053e-01 9.6425833e-03 9.3684974e-04]\n",
      "[1. 0. 0.] <-> [0.9945754  0.004008   0.00141656]\n",
      "[0. 1. 0.] <-> [3.3996984e-02 9.6591717e-01 8.5876360e-05]\n",
      "[1. 0. 0.] <-> [0.8087432  0.00722168 0.18403508]\n",
      "[0. 1. 0.] <-> [5.7727271e-01 4.2218155e-01 5.4578716e-04]\n",
      "[0. 0. 1.] <-> [9.0506831e-03 4.7322953e-04 9.9047601e-01]\n",
      "[1. 0. 0.] <-> [0.99171317 0.00202145 0.00626532]\n",
      "[1. 0. 0.] <-> [0.99306667 0.00555889 0.00137446]\n",
      "[1. 0. 0.] <-> [0.95997435 0.00358246 0.0364432 ]\n",
      "[1. 0. 0.] <-> [0.95230335 0.04612011 0.00157645]\n",
      "[1. 0. 0.] <-> [0.9777256  0.01218566 0.01008866]\n",
      "[1. 0. 0.] <-> [0.9829489  0.01561094 0.00144016]\n",
      "[1. 0. 0.] <-> [0.982105   0.01509007 0.00280492]\n",
      "[1. 0. 0.] <-> [0.9732859  0.01411018 0.01260389]\n",
      "[0. 0. 1.] <-> [9.1146603e-03 4.8621322e-04 9.9039906e-01]\n",
      "[1. 0. 0.] <-> [0.47479203 0.00900631 0.5162016 ]\n",
      "[0. 1. 0.] <-> [3.0225214e-02 9.6967232e-01 1.0253957e-04]\n",
      "[1. 0. 0.] <-> [0.84155697 0.01804061 0.1404024 ]\n",
      "[1. 0. 0.] <-> [0.99164927 0.00216564 0.00618512]\n",
      "[1. 0. 0.] <-> [0.99565315 0.00179955 0.00254727]\n",
      "[0. 0. 1.] <-> [9.046023e-03 4.723431e-04 9.904817e-01]\n",
      "[1. 0. 0.] <-> [0.9937767 0.0024542 0.0037692]\n",
      "[1. 0. 0.] <-> [0.99434966 0.00227963 0.00337072]\n",
      "[1. 0. 0.] <-> [0.9933531  0.00504845 0.0015984 ]\n",
      "[1. 0. 0.] <-> [0.90651464 0.00878293 0.08470239]\n",
      "[1. 0. 0.] <-> [0.99410987 0.0041366  0.00175352]\n",
      "[1. 0. 0.] <-> [9.7609133e-01 2.3128891e-02 7.7967456e-04]\n",
      "[1. 0. 0.] <-> [0.995492   0.00273275 0.00177516]\n",
      "[1. 0. 0.] <-> [0.9693326  0.00335389 0.02731354]\n",
      "[1. 0. 0.] <-> [0.9902486  0.00213165 0.00761968]\n",
      "[1. 0. 0.] <-> [0.9944476  0.00438555 0.00116684]\n",
      "[0. 1. 0.] <-> [2.1815711e-01 7.8148985e-01 3.5311142e-04]\n",
      "[0. 1. 0.] <-> [1.5637679e-02 9.8428059e-01 8.1803781e-05]\n",
      "[1. 0. 0.] <-> [0.994491   0.0020313  0.00347772]\n",
      "[1. 0. 0.] <-> [0.9959959  0.00154626 0.00245783]\n",
      "[1. 0. 0.] <-> [0.969399   0.00380418 0.02679684]\n",
      "[1. 0. 0.] <-> [0.27563208 0.00769372 0.71667415]\n",
      "[1. 0. 0.] <-> [0.96216094 0.03676806 0.00107097]\n",
      "[1. 0. 0.] <-> [0.99348855 0.00444298 0.00206842]\n",
      "[1. 0. 0.] <-> [0.99574995 0.00232895 0.00192105]\n",
      "[0. 0. 1.] <-> [9.3819480e-03 4.9064832e-04 9.9012744e-01]\n",
      "[1. 0. 0.] <-> [0.98444736 0.00475277 0.01079983]\n",
      "{'accuracy': 0.9629629629629629, 'mean_square_error': 0.0668892251005998, 'categorical_crossentropy': 0.11937412509211788, 'essential_metrics': {0: {'tp_hit': 76, 'fp_hit': 2, 'tn_hit': 26, 'fn_hit': 4}, 1: {'tp_hit': 14, 'fp_hit': 1, 'tn_hit': 92, 'fn_hit': 1}, 2: {'tp_hit': 12, 'fp_hit': 3, 'tn_hit': 92, 'fn_hit': 1}}}\n"
     ]
    }
   ],
   "source": [
    "# recall phase\n",
    "score = model.evaluate(x_test, y_test, False)\n",
    "print(score)"
   ]
  },
  {
   "cell_type": "code",
   "execution_count": 12,
   "metadata": {},
   "outputs": [
    {
     "data": {
      "image/png": "[encoded data removed]",
      "text/plain": [
       "<Figure size 864x360 with 1 Axes>"
      ]
     },
     "metadata": {
      "needs_background": "light"
     },
     "output_type": "display_data"
    },
    {
     "data": {
      "image/png": "[encoded data removed]",
      "text/plain": [
       "<Figure size 864x360 with 1 Axes>"
      ]
     },
     "metadata": {
      "needs_background": "light"
     },
     "output_type": "display_data"
    }
   ],
   "source": [
    "draw_plot(x = [[i for i in range(len(history))], [(i+1)*breakpoint for i in range(len(checkpoints))]], y_list = [train_cce, [ ckp[model.loss_fn] for ckp in checkpoints ]], x_label = 'Epochs', \\\n",
    "    y_label = model.loss_fn, legend=['train', 'test'])\n",
    "acc = [ ckp['accuracy'] for ckp in checkpoints ]\n",
    "draw_plot(x = [[i for i in range(len(history))], [(i+1)*breakpoint for i in range(len(checkpoints))]], y_list = [train_acc, acc], x_label = 'Checkpoints', \\\n",
    "    y_label = 'accuracy', legend=['train', 'test'])"
   ]
  },
  {
   "cell_type": "code",
   "execution_count": 13,
   "metadata": {},
   "outputs": [
    {
     "name": "stdout",
     "output_type": "stream",
     "text": [
      "{'accuracy': 0.8580246913580247, 'mean_square_error': 0.27514750545184075, 'categorical_crossentropy': 0.48131324626781324, 'essential_metrics': {0: {'tp_hit': 80, 'fp_hit': 16, 'tn_hit': 12, 'fn_hit': 0}, 1: {'tp_hit': 4, 'fp_hit': 6, 'tn_hit': 87, 'fn_hit': 11}, 2: {'tp_hit': 1, 'fp_hit': 1, 'tn_hit': 94, 'fn_hit': 12}}, 'checkpoint': 10} \n",
      "\n",
      "\n",
      "{'accuracy': 0.8580246913580247, 'mean_square_error': 0.2609576897079063, 'categorical_crossentropy': 0.4606286508065683, 'essential_metrics': {0: {'tp_hit': 80, 'fp_hit': 16, 'tn_hit': 12, 'fn_hit': 0}, 1: {'tp_hit': 4, 'fp_hit': 6, 'tn_hit': 87, 'fn_hit': 11}, 2: {'tp_hit': 1, 'fp_hit': 1, 'tn_hit': 94, 'fn_hit': 12}}, 'checkpoint': 20} \n",
      "\n",
      "\n",
      "{'accuracy': 0.9197530864197531, 'mean_square_error': 0.21633785363956082, 'categorical_crossentropy': 0.4306155663949472, 'essential_metrics': {0: {'tp_hit': 78, 'fp_hit': 7, 'tn_hit': 21, 'fn_hit': 2}, 1: {'tp_hit': 9, 'fp_hit': 4, 'tn_hit': 89, 'fn_hit': 6}, 2: {'tp_hit': 8, 'fp_hit': 2, 'tn_hit': 93, 'fn_hit': 5}}, 'checkpoint': 30} \n",
      "\n",
      "\n",
      "{'accuracy': 0.9074074074074074, 'mean_square_error': 0.21970386888173685, 'categorical_crossentropy': 0.41940332342077186, 'essential_metrics': {0: {'tp_hit': 79, 'fp_hit': 14, 'tn_hit': 14, 'fn_hit': 1}, 1: {'tp_hit': 3, 'fp_hit': 0, 'tn_hit': 93, 'fn_hit': 12}, 2: {'tp_hit': 11, 'fp_hit': 1, 'tn_hit': 94, 'fn_hit': 2}}, 'checkpoint': 40} \n",
      "\n",
      "\n",
      "{'accuracy': 0.9320987654320988, 'mean_square_error': 0.17189164305606844, 'categorical_crossentropy': 0.3513696105391891, 'essential_metrics': {0: {'tp_hit': 80, 'fp_hit': 11, 'tn_hit': 17, 'fn_hit': 0}, 1: {'tp_hit': 8, 'fp_hit': 0, 'tn_hit': 93, 'fn_hit': 7}, 2: {'tp_hit': 9, 'fp_hit': 0, 'tn_hit': 95, 'fn_hit': 4}}, 'checkpoint': 50} \n",
      "\n",
      "\n",
      "{'accuracy': 0.9629629629629629, 'mean_square_error': 0.12606913282259227, 'categorical_crossentropy': 0.27805872316713687, 'essential_metrics': {0: {'tp_hit': 80, 'fp_hit': 6, 'tn_hit': 22, 'fn_hit': 0}, 1: {'tp_hit': 12, 'fp_hit': 0, 'tn_hit': 93, 'fn_hit': 3}, 2: {'tp_hit': 10, 'fp_hit': 0, 'tn_hit': 95, 'fn_hit': 3}}, 'checkpoint': 60} \n",
      "\n",
      "\n",
      "{'accuracy': 0.9506172839506173, 'mean_square_error': 0.12205968570605706, 'categorical_crossentropy': 0.2549648991337529, 'essential_metrics': {0: {'tp_hit': 80, 'fp_hit': 8, 'tn_hit': 20, 'fn_hit': 0}, 1: {'tp_hit': 10, 'fp_hit': 0, 'tn_hit': 93, 'fn_hit': 5}, 2: {'tp_hit': 10, 'fp_hit': 0, 'tn_hit': 95, 'fn_hit': 3}}, 'checkpoint': 70} \n",
      "\n",
      "\n",
      "{'accuracy': 0.9629629629629629, 'mean_square_error': 0.10998450417318434, 'categorical_crossentropy': 0.2373946331165455, 'essential_metrics': {0: {'tp_hit': 79, 'fp_hit': 5, 'tn_hit': 23, 'fn_hit': 1}, 1: {'tp_hit': 12, 'fp_hit': 0, 'tn_hit': 93, 'fn_hit': 3}, 2: {'tp_hit': 11, 'fp_hit': 1, 'tn_hit': 94, 'fn_hit': 2}}, 'checkpoint': 80} \n",
      "\n",
      "\n",
      "{'accuracy': 0.9567901234567902, 'mean_square_error': 0.09600743737025967, 'categorical_crossentropy': 0.20884831746419272, 'essential_metrics': {0: {'tp_hit': 79, 'fp_hit': 6, 'tn_hit': 22, 'fn_hit': 1}, 1: {'tp_hit': 11, 'fp_hit': 0, 'tn_hit': 93, 'fn_hit': 4}, 2: {'tp_hit': 11, 'fp_hit': 1, 'tn_hit': 94, 'fn_hit': 2}}, 'checkpoint': 90} \n",
      "\n",
      "\n",
      "{'accuracy': 0.9753086419753086, 'mean_square_error': 0.07894156808624997, 'categorical_crossentropy': 0.16813212853890877, 'essential_metrics': {0: {'tp_hit': 79, 'fp_hit': 3, 'tn_hit': 25, 'fn_hit': 1}, 1: {'tp_hit': 13, 'fp_hit': 0, 'tn_hit': 93, 'fn_hit': 2}, 2: {'tp_hit': 12, 'fp_hit': 1, 'tn_hit': 94, 'fn_hit': 1}}, 'checkpoint': 100} \n",
      "\n",
      "\n",
      "{'accuracy': 0.9629629629629629, 'mean_square_error': 0.0717316272913704, 'categorical_crossentropy': 0.15953332406503182, 'essential_metrics': {0: {'tp_hit': 77, 'fp_hit': 3, 'tn_hit': 25, 'fn_hit': 3}, 1: {'tp_hit': 13, 'fp_hit': 0, 'tn_hit': 93, 'fn_hit': 2}, 2: {'tp_hit': 12, 'fp_hit': 3, 'tn_hit': 92, 'fn_hit': 1}}, 'checkpoint': 110} \n",
      "\n",
      "\n",
      "{'accuracy': 0.9691358024691358, 'mean_square_error': 0.06382968237984403, 'categorical_crossentropy': 0.13183586685745805, 'essential_metrics': {0: {'tp_hit': 78, 'fp_hit': 3, 'tn_hit': 25, 'fn_hit': 2}, 1: {'tp_hit': 13, 'fp_hit': 0, 'tn_hit': 93, 'fn_hit': 2}, 2: {'tp_hit': 12, 'fp_hit': 2, 'tn_hit': 93, 'fn_hit': 1}}, 'checkpoint': 120} \n",
      "\n",
      "\n",
      "{'accuracy': 0.9691358024691358, 'mean_square_error': 0.05908708281225761, 'categorical_crossentropy': 0.12288513890019169, 'essential_metrics': {0: {'tp_hit': 78, 'fp_hit': 3, 'tn_hit': 25, 'fn_hit': 2}, 1: {'tp_hit': 13, 'fp_hit': 0, 'tn_hit': 93, 'fn_hit': 2}, 2: {'tp_hit': 12, 'fp_hit': 2, 'tn_hit': 93, 'fn_hit': 1}}, 'checkpoint': 130} \n",
      "\n",
      "\n",
      "{'accuracy': 0.9629629629629629, 'mean_square_error': 0.060735906114661654, 'categorical_crossentropy': 0.12123039033677843, 'essential_metrics': {0: {'tp_hit': 78, 'fp_hit': 4, 'tn_hit': 24, 'fn_hit': 2}, 1: {'tp_hit': 12, 'fp_hit': 0, 'tn_hit': 93, 'fn_hit': 3}, 2: {'tp_hit': 12, 'fp_hit': 2, 'tn_hit': 93, 'fn_hit': 1}}, 'checkpoint': 140} \n",
      "\n",
      "\n",
      "{'accuracy': 0.9629629629629629, 'mean_square_error': 0.06194629280611196, 'categorical_crossentropy': 0.11845472123887804, 'essential_metrics': {0: {'tp_hit': 78, 'fp_hit': 4, 'tn_hit': 24, 'fn_hit': 2}, 1: {'tp_hit': 12, 'fp_hit': 0, 'tn_hit': 93, 'fn_hit': 3}, 2: {'tp_hit': 12, 'fp_hit': 2, 'tn_hit': 93, 'fn_hit': 1}}, 'checkpoint': 150} \n",
      "\n",
      "\n",
      "{'accuracy': 0.9567901234567902, 'mean_square_error': 0.07666747227708566, 'categorical_crossentropy': 0.13707552132783113, 'essential_metrics': {0: {'tp_hit': 77, 'fp_hit': 4, 'tn_hit': 24, 'fn_hit': 3}, 1: {'tp_hit': 12, 'fp_hit': 0, 'tn_hit': 93, 'fn_hit': 3}, 2: {'tp_hit': 12, 'fp_hit': 3, 'tn_hit': 92, 'fn_hit': 1}}, 'checkpoint': 160} \n",
      "\n",
      "\n",
      "{'accuracy': 0.9629629629629629, 'mean_square_error': 0.07864603645822711, 'categorical_crossentropy': 0.14713967287981952, 'essential_metrics': {0: {'tp_hit': 77, 'fp_hit': 3, 'tn_hit': 25, 'fn_hit': 3}, 1: {'tp_hit': 13, 'fp_hit': 0, 'tn_hit': 93, 'fn_hit': 2}, 2: {'tp_hit': 12, 'fp_hit': 3, 'tn_hit': 92, 'fn_hit': 1}}, 'checkpoint': 170} \n",
      "\n",
      "\n",
      "{'accuracy': 0.9629629629629629, 'mean_square_error': 0.07980485171663607, 'categorical_crossentropy': 0.14205126409177427, 'essential_metrics': {0: {'tp_hit': 77, 'fp_hit': 3, 'tn_hit': 25, 'fn_hit': 3}, 1: {'tp_hit': 13, 'fp_hit': 0, 'tn_hit': 93, 'fn_hit': 2}, 2: {'tp_hit': 12, 'fp_hit': 3, 'tn_hit': 92, 'fn_hit': 1}}, 'checkpoint': 180} \n",
      "\n",
      "\n",
      "{'accuracy': 0.9567901234567902, 'mean_square_error': 0.08020430512498902, 'categorical_crossentropy': 0.13875786463419595, 'essential_metrics': {0: {'tp_hit': 77, 'fp_hit': 4, 'tn_hit': 24, 'fn_hit': 3}, 1: {'tp_hit': 12, 'fp_hit': 0, 'tn_hit': 93, 'fn_hit': 3}, 2: {'tp_hit': 12, 'fp_hit': 3, 'tn_hit': 92, 'fn_hit': 1}}, 'checkpoint': 190} \n",
      "\n",
      "\n",
      "{'accuracy': 0.9629629629629629, 'mean_square_error': 0.0668892251005998, 'categorical_crossentropy': 0.11937412509211788, 'essential_metrics': {0: {'tp_hit': 76, 'fp_hit': 2, 'tn_hit': 26, 'fn_hit': 4}, 1: {'tp_hit': 14, 'fp_hit': 1, 'tn_hit': 92, 'fn_hit': 1}, 2: {'tp_hit': 12, 'fp_hit': 3, 'tn_hit': 92, 'fn_hit': 1}}, 'checkpoint': 200} \n",
      "\n",
      "\n"
     ]
    }
   ],
   "source": [
    "for checkpoint in checkpoints:\n",
    "    print(checkpoint, '\\n\\n')"
   ]
  },
  {
   "cell_type": "code",
   "execution_count": 14,
   "metadata": {},
   "outputs": [
    {
     "name": "stdout",
     "output_type": "stream",
     "text": [
      "Layer 1\n",
      "Neuron 0: weights:\n",
      "[ 2.0496964 -3.        -2.2816467 -1.4305824  2.1735477]\n",
      " bias: 2.8615739345550537\n",
      "\n",
      "Neuron 1: weights:\n",
      "[-1.1381239   2.5638092   1.9616671  -0.10110926 -0.10142928]\n",
      " bias: -0.7088196873664856\n",
      "\n",
      "Neuron 2: weights:\n",
      "[-0.09538513 -3.         -1.2988914   1.7229749   3.        ]\n",
      " bias: -3.0\n",
      "\n",
      "Neuron 3: weights:\n",
      "[ 0.00880888  2.4697955  -1.7223527  -2.1974216  -2.696639  ]\n",
      " bias: 0.8602035641670227\n",
      "\n",
      "$\n",
      "Layer 2\n",
      "Neuron 0: weights:\n",
      "[ 3.        -1.6605814 -3.         3.       ]\n",
      " bias: -0.2539013624191284\n",
      "\n",
      "Neuron 1: weights:\n",
      "[-3.          3.         -1.7130612   0.39353916]\n",
      " bias: 1.5062062740325928\n",
      "\n",
      "Neuron 2: weights:\n",
      "[ 0.89538527 -3.          3.         -2.3929582 ]\n",
      " bias: 0.5466237664222717\n",
      "\n",
      "$\n",
      "\n"
     ]
    }
   ],
   "source": [
    "print(model)"
   ]
  },
  {
   "cell_type": "code",
   "execution_count": null,
   "metadata": {},
   "outputs": [],
   "source": []
  }
 ],
 "metadata": {
  "kernelspec": {
   "display_name": "Python 3",
   "language": "python",
   "name": "python3"
  },
  "language_info": {
   "codemirror_mode": {
    "name": "ipython",
    "version": 3
   },
   "file_extension": ".py",
   "mimetype": "text/x-python",
   "name": "python",
   "nbconvert_exporter": "python",
   "pygments_lexer": "ipython3",
   "version": "3.6.12"
  }
 },
 "nbformat": 4,
 "nbformat_minor": 2
}
