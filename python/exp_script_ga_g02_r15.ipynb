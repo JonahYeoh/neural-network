{
 "cells": [
  {
   "cell_type": "code",
   "execution_count": 1,
   "metadata": {},
   "outputs": [],
   "source": [
    "# two"
   ]
  },
  {
   "cell_type": "code",
   "execution_count": 2,
   "metadata": {},
   "outputs": [],
   "source": [
    "# dependency\n",
    "import numpy as np\n",
    "import pandas as pd\n",
    "import copy\n",
    "import math\n",
    "import sys\n",
    "import os\n",
    "from activations import relu, leaky_relu, sigmoid, tanh, softmax, d_sigmoid, d_relu\n",
    "from initializers import glorot_uniform, random_normal, random_uniform\n",
    "from regularizers import l1_regularizer, l2_regularizer\n",
    "from utility import trim_tail, multiply, subtract, get_nparams, one_hot_encoding, get_data\n",
    "from metrics import MSE, CCE, ACC, PRECISION, RECALL, essential_metrics, wondering_penalty, close_gap_penalty\n",
    "from pso import PSO\n",
    "from ga import GA\n",
    "from nn import Network\n",
    "from layer import DenseLayer\n",
    "from scalers import MinMaxScaler, StandardScaler"
   ]
  },
  {
   "cell_type": "code",
   "execution_count": 3,
   "metadata": {},
   "outputs": [],
   "source": [
    "# reference\n",
    "metrics_fn_dict = dict()\n",
    "metrics_fn_dict['accuracy'] = ACC\n",
    "metrics_fn_dict['categorical_crossentropy'] = CCE\n",
    "metrics_fn_dict['mean_square_error'] = MSE\n",
    "metrics_fn_dict['precision'] = PRECISION\n",
    "metrics_fn_dict['recall'] = RECALL\n",
    "metrics_fn_dict['essential_metrics'] = essential_metrics"
   ]
  },
  {
   "cell_type": "code",
   "execution_count": 4,
   "metadata": {},
   "outputs": [],
   "source": [
    "# model\n",
    "model = Network(5, lr = None)\n",
    "model.add_layer(DenseLayer(1, 4, True, afn=sigmoid, dafn=None, rfn=None))\n",
    "model.add_layer(DenseLayer(2, 3, True, afn=softmax, dafn=None, rfn=None))"
   ]
  },
  {
   "cell_type": "code",
   "execution_count": 5,
   "metadata": {},
   "outputs": [],
   "source": [
    "# optimizer\n",
    "ga = GA(\n",
    "    dict(\n",
    "        m = 50,\n",
    "        x_rate = 0.5,\n",
    "        m_rate = 0.5,\n",
    "        weight_constraint = [-3.,3.],\n",
    "        radioactive_rating = 0.1,\n",
    "        grow_factor = 0.1,\n",
    "        scale_hyperparameter = False,\n",
    "        regularizer = None))"
   ]
  },
  {
   "cell_type": "code",
   "execution_count": 6,
   "metadata": {},
   "outputs": [
    {
     "name": "stdout",
     "output_type": "stream",
     "text": [
      "building layer 1 with 5\n",
      "24\n",
      "building layer 2 with 4\n",
      "15\n"
     ]
    }
   ],
   "source": [
    "model.compile(loss_fn = 'categorical_crossentropy', optimizer = ga, \\\n",
    "    metrics = ['accuracy', 'mean_square_error', 'categorical_crossentropy', 'precision', 'recall', 'f1'])"
   ]
  },
  {
   "cell_type": "code",
   "execution_count": 7,
   "metadata": {},
   "outputs": [
    {
     "name": "stdout",
     "output_type": "stream",
     "text": [
      "<class 'pandas.core.frame.DataFrame'>\n",
      "RangeIndex: 107 entries, 0 to 106\n",
      "Data columns (total 6 columns):\n",
      " #   Column  Non-Null Count  Dtype  \n",
      "---  ------  --------------  -----  \n",
      " 0   f1      107 non-null    float32\n",
      " 1   f2      107 non-null    float32\n",
      " 2   f3      107 non-null    float32\n",
      " 3   f4      107 non-null    float32\n",
      " 4   f5      107 non-null    float32\n",
      " 5   label   107 non-null    float32\n",
      "dtypes: float32(6)\n",
      "memory usage: 2.6 KB\n",
      "None\n",
      "<class 'pandas.core.frame.DataFrame'>\n",
      "RangeIndex: 108 entries, 0 to 107\n",
      "Data columns (total 6 columns):\n",
      " #   Column  Non-Null Count  Dtype  \n",
      "---  ------  --------------  -----  \n",
      " 0   f1      108 non-null    float32\n",
      " 1   f2      108 non-null    float32\n",
      " 2   f3      108 non-null    float32\n",
      " 3   f4      108 non-null    float32\n",
      " 4   f5      108 non-null    float32\n",
      " 5   label   108 non-null    float32\n",
      "dtypes: float32(6)\n",
      "memory usage: 2.7 KB\n",
      "None\n"
     ]
    }
   ],
   "source": [
    "# data loading\n",
    "DATA = os.path.join('c:\\\\Users\\\\tcumi\\\\github_repo\\\\neural-network\\\\', 'dataset')\n",
    "GROUP = 2\n",
    "COLUMNS = ['f1', 'f2', 'f3', 'f4', 'f5', 'label']\n",
    "N_CLASS = 3\n",
    "EPOCHS = 500\n",
    "train_dir, test_dir = \"..//dataset//training_data{}.txt\".format(GROUP), \"..//dataset//testing_data{}.txt\".format(GROUP)\n",
    "train, test = get_data(DATA, train_dir, COLUMNS), get_data(DATA, test_dir, COLUMNS)\n",
    "# shuffle\n",
    "train, test = train.sample(frac=1), test.sample(frac=1)\n",
    "x_train, y_train = train.drop('label', axis=1), train['label']\n",
    "x_test, y_test = test.drop('label', axis=1), test['label']"
   ]
  },
  {
   "cell_type": "code",
   "execution_count": 8,
   "metadata": {},
   "outputs": [],
   "source": [
    "# data scaling and encoding\n",
    "scaler = StandardScaler(['f1', 'f2', 'f3', 'f4', 'f5'])\n",
    "scaler.fit(x_train)\n",
    "x_train = scaler.transform(x_train)\n",
    "x_test = scaler.transform(x_test)\n",
    "y_train = one_hot_encoding(y_train, N_CLASS)\n",
    "y_test = one_hot_encoding(y_test, N_CLASS)"
   ]
  },
  {
   "cell_type": "code",
   "execution_count": 9,
   "metadata": {
    "scrolled": true,
    "tags": [
     "outputPrepend"
    ]
   },
   "outputs": [
    {
     "name": "stderr",
     "output_type": "stream",
     "text": [
      "C:\\Users\\tcumi\\github_repo\\neural-network\\python\\ga.py:201: RuntimeWarning: overflow encountered in add\n",
      "  self.population.sort(key=lambda p: p.fitness + np.random.uniform(-shift, shift, 1), reverse = self.aim)\n"
     ]
    },
    {
     "name": "stdout",
     "output_type": "stream",
     "text": [
      "Checkpoint 100, Accuracy: 0.9197530864197531, Loss: 0.32686282970287184\n",
      "Checkpoint 200, Accuracy: 0.9320987654320988, Loss: 0.3077841511479131\n",
      "Checkpoint 300, Accuracy: 0.9320987654320988, Loss: 0.28742332811708804\n",
      "Checkpoint 400, Accuracy: 0.9382716049382716, Loss: 0.2721062942787453\n",
      "Checkpoint 500, Accuracy: 0.9382716049382716, Loss: 0.2534356117248535\n"
     ]
    }
   ],
   "source": [
    "# learning phase\n",
    "breakpoint = 100\n",
    "checkpoints = list()\n",
    "history = list()\n",
    "for century in range(0, EPOCHS, breakpoint):\n",
    "    sub_history = model.fit(x_train, y_train, breakpoint, verbose = 0)\n",
    "    score = model.evaluate(x_test, y_test, False, verbose = 0)\n",
    "    print('Checkpoint {}, Accuracy: {}, Loss: {}'.format(century+breakpoint, score['accuracy'], score[model.loss_fn]))\n",
    "    score['checkpoint'] = century + breakpoint\n",
    "    checkpoints.append(score)\n",
    "    history.extend(sub_history)\n",
    "    "
   ]
  },
  {
   "cell_type": "code",
   "execution_count": 10,
   "metadata": {},
   "outputs": [],
   "source": [
    "import matplotlib.pyplot as plt\n",
    "\n",
    "def draw_plot(x, y_list, x_label=None, y_label=None, legend=None, title=None):\n",
    "    fig, ax = plt.subplots(figsize=(12,5))\n",
    "    for xi, yi in zip(x, y_list):\n",
    "        ax.plot(xi, yi)\n",
    "    if x_label is not None and y_label is not None:\n",
    "        ax.set(xlabel=x_label, ylabel=y_label, title='{} VS {}'.format(x_label, y_label))\n",
    "    if legend is not None:\n",
    "        ax.legend(legend)\n",
    "    ax.grid()\n",
    "    plt.show()"
   ]
  },
  {
   "cell_type": "code",
   "execution_count": 11,
   "metadata": {},
   "outputs": [
    {
     "name": "stdout",
     "output_type": "stream",
     "text": [
      "[1. 0. 0.] <-> [0.6925824  0.01993011 0.28748748]\n",
      "[1. 0. 0.] <-> [0.9031858  0.08836893 0.00844523]\n",
      "[0. 0. 1.] <-> [0.06123575 0.00671687 0.93204737]\n",
      "[0. 0. 1.] <-> [0.6773771  0.02612804 0.29649484]\n",
      "[1. 0. 0.] <-> [0.9189158  0.06578721 0.01529699]\n",
      "[1. 0. 0.] <-> [0.8640427  0.12586655 0.01009078]\n",
      "[0. 1. 0.] <-> [0.73788196 0.2605152  0.00160288]\n",
      "[1. 0. 0.] <-> [0.9248598  0.04491609 0.03022413]\n",
      "[1. 0. 0.] <-> [0.83284    0.1638578  0.00330217]\n",
      "[1. 0. 0.] <-> [0.84796405 0.14763336 0.00440267]\n",
      "[1. 0. 0.] <-> [0.92620885 0.04307018 0.03072087]\n",
      "[1. 0. 0.] <-> [0.7442799  0.13484012 0.12087992]\n",
      "[1. 0. 0.] <-> [0.9219598  0.03779611 0.04024416]\n",
      "[1. 0. 0.] <-> [0.91321594 0.03827854 0.04850547]\n",
      "[0. 1. 0.] <-> [0.804099   0.19422328 0.00167772]\n",
      "[0. 1. 0.] <-> [0.5644521  0.4330487  0.00249912]\n",
      "[1. 0. 0.] <-> [0.87525815 0.11845757 0.00628425]\n",
      "[1. 0. 0.] <-> [0.91084534 0.0427901  0.04636446]\n",
      "[1. 0. 0.] <-> [0.8618802  0.13315669 0.00496316]\n",
      "[1. 0. 0.] <-> [0.8109406  0.02343401 0.16562542]\n",
      "[1. 0. 0.] <-> [0.88727456 0.0908052  0.02192031]\n",
      "[1. 0. 0.] <-> [0.8595447  0.13632424 0.00413096]\n",
      "[1. 0. 0.] <-> [0.90639955 0.08132791 0.0122726 ]\n",
      "[1. 0. 0.] <-> [0.8874759  0.10108294 0.01144115]\n",
      "[0. 1. 0.] <-> [0.6145292  0.3840567  0.00141406]\n",
      "[0. 1. 0.] <-> [0.13210376 0.8661576  0.00173873]\n",
      "[1. 0. 0.] <-> [0.84929746 0.14142743 0.00927504]\n",
      "[1. 0. 0.] <-> [0.89848095 0.03103778 0.07048132]\n",
      "[1. 0. 0.] <-> [0.9135692  0.0359071  0.05052359]\n",
      "[1. 0. 0.] <-> [0.89482343 0.09675857 0.00841798]\n",
      "[1. 0. 0.] <-> [0.7878372  0.01820243 0.19396037]\n",
      "[1. 0. 0.] <-> [0.905235  0.0830551 0.0117099]\n",
      "[0. 1. 0.] <-> [0.0499806  0.94889355 0.00112584]\n",
      "[1. 0. 0.] <-> [0.8858042  0.05794517 0.05625066]\n",
      "[0. 0. 1.] <-> [0.046717   0.00799184 0.9452911 ]\n",
      "[1. 0. 0.] <-> [0.832702   0.02071697 0.14658111]\n",
      "[0. 0. 1.] <-> [0.03251775 0.00917693 0.9583053 ]\n",
      "[1. 0. 0.] <-> [0.8967325  0.09610416 0.00716332]\n",
      "[1. 0. 0.] <-> [0.91482323 0.07415514 0.01102153]\n",
      "[1. 0. 0.] <-> [0.5847112  0.03317551 0.38211328]\n",
      "[1. 0. 0.] <-> [0.8707033  0.12464927 0.00464746]\n",
      "[0. 1. 0.] <-> [0.7908273  0.20744006 0.00173262]\n",
      "[1. 0. 0.] <-> [0.9160049  0.04033373 0.04366135]\n",
      "[1. 0. 0.] <-> [0.9095941  0.02993038 0.06047545]\n",
      "[0. 1. 0.] <-> [0.37852955 0.6193944  0.00207605]\n",
      "[1. 0. 0.] <-> [0.9084744  0.04260366 0.04892189]\n",
      "[1. 0. 0.] <-> [0.89186525 0.09397727 0.01415745]\n",
      "[1. 0. 0.] <-> [0.89828235 0.01844131 0.0832763 ]\n",
      "[1. 0. 0.] <-> [0.8712883  0.1209278  0.00778385]\n",
      "[1. 0. 0.] <-> [0.6405154  0.35160032 0.00788419]\n",
      "[1. 0. 0.] <-> [0.6232211  0.3744917  0.00228723]\n",
      "[1. 0. 0.] <-> [0.71867824 0.02295539 0.25836632]\n",
      "[1. 0. 0.] <-> [0.90618336 0.02586832 0.06794839]\n",
      "[1. 0. 0.] <-> [0.8840034  0.01898384 0.09701279]\n",
      "[0. 0. 1.] <-> [0.00727452 0.01989645 0.9728291 ]\n",
      "[0. 0. 1.] <-> [0.06161669 0.00677783 0.93160546]\n",
      "[1. 0. 0.] <-> [0.8991782  0.08785623 0.01296558]\n",
      "[1. 0. 0.] <-> [0.16066475 0.01050704 0.82882816]\n",
      "[1. 0. 0.] <-> [0.8762041  0.11753793 0.00625802]\n",
      "[0. 0. 1.] <-> [0.06629553 0.00692398 0.92678046]\n",
      "[0. 0. 1.] <-> [0.00989352 0.01577417 0.97433233]\n",
      "[0. 0. 1.] <-> [0.04534568 0.00781282 0.94684154]\n",
      "[1. 0. 0.] <-> [0.8302565  0.16635172 0.00339179]\n",
      "[1. 0. 0.] <-> [0.8629739  0.13123347 0.0057926 ]\n",
      "[1. 0. 0.] <-> [0.9152689  0.07236312 0.01236804]\n",
      "[1. 0. 0.] <-> [0.72089654 0.01477754 0.2643259 ]\n",
      "[1. 0. 0.] <-> [0.8745447  0.11862478 0.00683048]\n",
      "[1. 0. 0.] <-> [0.92704874 0.05454    0.01841131]\n",
      "[1. 0. 0.] <-> [0.9354441  0.04728024 0.0172757 ]\n",
      "[1. 0. 0.] <-> [0.9160592  0.05258786 0.03135284]\n",
      "[1. 0. 0.] <-> [0.9042045  0.08816464 0.00763088]\n",
      "[0. 1. 0.] <-> [0.04997587 0.94889677 0.0011273 ]\n",
      "[1. 0. 0.] <-> [0.7921093  0.05303974 0.15485094]\n",
      "[1. 0. 0.] <-> [0.9028875  0.06740098 0.0297114 ]\n",
      "[1. 0. 0.] <-> [0.89536273 0.03490928 0.06972799]\n",
      "[1. 0. 0.] <-> [0.8736396  0.12225883 0.00410162]\n",
      "[1. 0. 0.] <-> [0.74581873 0.251115   0.0030663 ]\n",
      "[1. 0. 0.] <-> [0.75264716 0.02654939 0.22080337]\n",
      "[1. 0. 0.] <-> [0.89391994 0.09024703 0.01583307]\n",
      "[1. 0. 0.] <-> [0.92750293 0.05524022 0.01725689]\n",
      "[0. 1. 0.] <-> [0.74732524 0.25116348 0.0015113 ]\n",
      "[1. 0. 0.] <-> [0.8635416  0.13241419 0.00404414]\n",
      "[0. 0. 1.] <-> [0.05723747 0.00694852 0.935814  ]\n",
      "[0. 1. 0.] <-> [0.7826649  0.21572115 0.0016139 ]\n",
      "[1. 0. 0.] <-> [0.91609603 0.04879112 0.03511285]\n",
      "[1. 0. 0.] <-> [0.7858479  0.02674354 0.18740861]\n",
      "[1. 0. 0.] <-> [0.9071401  0.04210101 0.05075894]\n",
      "[0. 0. 1.] <-> [0.06856221 0.00926602 0.9221717 ]\n",
      "[1. 0. 0.] <-> [0.92247707 0.03694984 0.04057309]\n",
      "[1. 0. 0.] <-> [0.9131003  0.05391853 0.03298111]\n",
      "[0. 0. 1.] <-> [0.68942827 0.02340616 0.28716558]\n",
      "[1. 0. 0.] <-> [0.9043817  0.08414263 0.0114757 ]\n",
      "[1. 0. 0.] <-> [0.9060878  0.08600501 0.00790717]\n",
      "[1. 0. 0.] <-> [0.8952993  0.02426669 0.080434  ]\n",
      "[0. 0. 1.] <-> [0.05052187 0.00740294 0.9420752 ]\n",
      "[0. 1. 0.] <-> [0.07786488 0.9207666  0.00136853]\n",
      "[0. 1. 0.] <-> [0.05278841 0.9460319  0.00117967]\n",
      "[1. 0. 0.] <-> [0.91031045 0.07981782 0.00987175]\n",
      "[1. 0. 0.] <-> [0.9237733  0.0284518  0.04777493]\n",
      "[1. 0. 0.] <-> [0.60321707 0.3930776  0.00370533]\n",
      "[0. 1. 0.] <-> [0.18242948 0.8156699  0.0019006 ]\n",
      "[1. 0. 0.] <-> [0.92601043 0.03395851 0.04003102]\n",
      "[1. 0. 0.] <-> [0.9072784  0.03974678 0.05297485]\n",
      "[1. 0. 0.] <-> [0.9294774  0.04237679 0.02814581]\n",
      "[1. 0. 0.] <-> [0.8333183  0.16362014 0.00306149]\n",
      "[1. 0. 0.] <-> [0.8551205  0.04846623 0.09641328]\n",
      "[1. 0. 0.] <-> [0.90155756 0.09076979 0.00767265]\n",
      "[0. 1. 0.] <-> [0.05002588 0.94884247 0.00113168]\n",
      "{'accuracy': 0.9382716049382716, 'mean_square_error': 0.1374465152203786, 'categorical_crossentropy': 0.2534356117248535, 'precision': 0.9074074074074074, 'recall': 0.9074074074074074, 'f1': 0.9074074074074074, 'essential_metrics': {0: {'tp_hit': 79, 'fp_hit': 9, 'tn_hit': 19, 'fn_hit': 1}, 1: {'tp_hit': 8, 'fp_hit': 0, 'tn_hit': 93, 'fn_hit': 7}, 2: {'tp_hit': 11, 'fp_hit': 1, 'tn_hit': 94, 'fn_hit': 2}}}\n"
     ]
    }
   ],
   "source": [
    "# recall phase\n",
    "score = model.evaluate(x_test, y_test, False)\n",
    "print(score)"
   ]
  },
  {
   "cell_type": "code",
   "execution_count": 12,
   "metadata": {},
   "outputs": [],
   "source": [
    "# Testing Performance"
   ]
  },
  {
   "cell_type": "code",
   "execution_count": 13,
   "metadata": {},
   "outputs": [
    {
     "data": {
      "image/png": "[encoded data removed]",
      "text/plain": [
       "<Figure size 864x360 with 1 Axes>"
      ]
     },
     "metadata": {
      "needs_background": "light"
     },
     "output_type": "display_data"
    },
    {
     "data": {
      "image/png": "[encoded data removed]",
      "text/plain": [
       "<Figure size 864x360 with 1 Axes>"
      ]
     },
     "metadata": {
      "needs_background": "light"
     },
     "output_type": "display_data"
    }
   ],
   "source": [
    "draw_plot(x = [[i for i in range(len(history))], [(i+1)*breakpoint for i in range(len(checkpoints))]], y_list = [history, [ ckp[model.loss_fn] for ckp in checkpoints ]], x_label = 'Epochs', \\\n",
    "    y_label = model.loss_fn, legend=['train', 'test'])\n",
    "acc = [ ckp['accuracy'] for ckp in checkpoints ]\n",
    "draw_plot(x = [[(i+1)*breakpoint for i in range(len(checkpoints))]], y_list = [acc], x_label = 'Checkpoints', \\\n",
    "    y_label = 'accuracy')"
   ]
  },
  {
   "cell_type": "code",
   "execution_count": 14,
   "metadata": {
    "scrolled": false
   },
   "outputs": [
    {
     "name": "stdout",
     "output_type": "stream",
     "text": [
      "{'accuracy': 0.9197530864197531, 'mean_square_error': 0.18424315050745246, 'categorical_crossentropy': 0.32686282970287184, 'precision': 0.8796296296296297, 'recall': 0.8796296296296297, 'f1': 0.8796296296296297, 'essential_metrics': {0: {'tp_hit': 79, 'fp_hit': 12, 'tn_hit': 16, 'fn_hit': 1}, 1: {'tp_hit': 5, 'fp_hit': 0, 'tn_hit': 93, 'fn_hit': 10}, 2: {'tp_hit': 11, 'fp_hit': 1, 'tn_hit': 94, 'fn_hit': 2}}, 'checkpoint': 100} \n",
      "\n",
      "\n",
      "{'accuracy': 0.9320987654320988, 'mean_square_error': 0.16732073370424633, 'categorical_crossentropy': 0.3077841511479131, 'precision': 0.8981481481481481, 'recall': 0.8981481481481481, 'f1': 0.8981481481481481, 'essential_metrics': {0: {'tp_hit': 79, 'fp_hit': 10, 'tn_hit': 18, 'fn_hit': 1}, 1: {'tp_hit': 7, 'fp_hit': 0, 'tn_hit': 93, 'fn_hit': 8}, 2: {'tp_hit': 11, 'fp_hit': 1, 'tn_hit': 94, 'fn_hit': 2}}, 'checkpoint': 200} \n",
      "\n",
      "\n",
      "{'accuracy': 0.9320987654320988, 'mean_square_error': 0.15724485583201375, 'categorical_crossentropy': 0.28742332811708804, 'precision': 0.8981481481481481, 'recall': 0.8981481481481481, 'f1': 0.8981481481481481, 'essential_metrics': {0: {'tp_hit': 79, 'fp_hit': 10, 'tn_hit': 18, 'fn_hit': 1}, 1: {'tp_hit': 7, 'fp_hit': 0, 'tn_hit': 93, 'fn_hit': 8}, 2: {'tp_hit': 11, 'fp_hit': 1, 'tn_hit': 94, 'fn_hit': 2}}, 'checkpoint': 300} \n",
      "\n",
      "\n",
      "{'accuracy': 0.9382716049382716, 'mean_square_error': 0.14834790751388602, 'categorical_crossentropy': 0.2721062942787453, 'precision': 0.9074074074074074, 'recall': 0.9074074074074074, 'f1': 0.9074074074074074, 'essential_metrics': {0: {'tp_hit': 79, 'fp_hit': 9, 'tn_hit': 19, 'fn_hit': 1}, 1: {'tp_hit': 8, 'fp_hit': 0, 'tn_hit': 93, 'fn_hit': 7}, 2: {'tp_hit': 11, 'fp_hit': 1, 'tn_hit': 94, 'fn_hit': 2}}, 'checkpoint': 400} \n",
      "\n",
      "\n",
      "{'accuracy': 0.9382716049382716, 'mean_square_error': 0.1374465152203786, 'categorical_crossentropy': 0.2534356117248535, 'precision': 0.9074074074074074, 'recall': 0.9074074074074074, 'f1': 0.9074074074074074, 'essential_metrics': {0: {'tp_hit': 79, 'fp_hit': 9, 'tn_hit': 19, 'fn_hit': 1}, 1: {'tp_hit': 8, 'fp_hit': 0, 'tn_hit': 93, 'fn_hit': 7}, 2: {'tp_hit': 11, 'fp_hit': 1, 'tn_hit': 94, 'fn_hit': 2}}, 'checkpoint': 500} \n",
      "\n",
      "\n"
     ]
    }
   ],
   "source": [
    "for checkpoint in checkpoints:\n",
    "    print(checkpoint, '\\n\\n')"
   ]
  },
  {
   "cell_type": "code",
   "execution_count": 15,
   "metadata": {},
   "outputs": [
    {
     "name": "stdout",
     "output_type": "stream",
     "text": [
      "Layer 1\n",
      "Neuron 0: weights:\n",
      "[ 2.2469356   0.56138563 -2.9540706  -2.4458034   0.11126941]\n",
      " bias: 2.3912906646728516\n",
      "\n",
      "Neuron 1: weights:\n",
      "[-0.17243998 -1.9075816  -1.0005566   2.0221374   2.5366654 ]\n",
      " bias: -2.550215482711792\n",
      "\n",
      "Neuron 2: weights:\n",
      "[-0.47851095  0.5509332   1.3603176  -0.5264241  -2.0707705 ]\n",
      " bias: -0.07003305107355118\n",
      "\n",
      "Neuron 3: weights:\n",
      "[-1.1623195   2.8669891  -0.28993922 -2.0347486  -2.274787  ]\n",
      " bias: -0.1397167444229126\n",
      "\n",
      "$\n",
      "Layer 2\n",
      "Neuron 0: weights:\n",
      "[ 2.9966028  -1.954481    0.0277383  -0.34758967]\n",
      " bias: 0.6412819027900696\n",
      "\n",
      "Neuron 1: weights:\n",
      "[-1.068823   0.5706484  1.464813   1.8670471]\n",
      " bias: -0.0638515055179596\n",
      "\n",
      "Neuron 2: weights:\n",
      "[ 0.15585595  2.3343556  -2.5067725  -2.857751  ]\n",
      " bias: 1.8918447494506836\n",
      "\n",
      "$\n",
      "\n"
     ]
    }
   ],
   "source": [
    "print(model)"
   ]
  }
 ],
 "metadata": {
  "kernelspec": {
   "display_name": "Python 3",
   "language": "python",
   "name": "python3"
  },
  "language_info": {
   "codemirror_mode": {
    "name": "ipython",
    "version": 3
   },
   "file_extension": ".py",
   "mimetype": "text/x-python",
   "name": "python",
   "nbconvert_exporter": "python",
   "pygments_lexer": "ipython3",
   "version": "3.6.10"
  }
 },
 "nbformat": 4,
 "nbformat_minor": 2
}
