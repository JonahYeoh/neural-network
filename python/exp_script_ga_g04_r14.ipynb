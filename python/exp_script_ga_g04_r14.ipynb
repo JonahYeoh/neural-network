{
 "cells": [
  {
   "cell_type": "code",
   "execution_count": 1,
   "metadata": {},
   "outputs": [],
   "source": [
    "# single"
   ]
  },
  {
   "cell_type": "code",
   "execution_count": 2,
   "metadata": {},
   "outputs": [],
   "source": [
    "# dependency\n",
    "import numpy as np\n",
    "import pandas as pd\n",
    "import copy\n",
    "import math\n",
    "import sys\n",
    "import os\n",
    "from activations import relu, leaky_relu, sigmoid, tanh, softmax, d_sigmoid, d_relu\n",
    "from initializers import glorot_uniform, random_normal, random_uniform\n",
    "from regularizers import l1_regularizer, l2_regularizer\n",
    "from utility import trim_tail, multiply, subtract, get_nparams, one_hot_encoding, get_data\n",
    "from metrics import MSE, CCE, ACC, PRECISION, RECALL, essential_metrics, wondering_penalty, close_gap_penalty\n",
    "from pso import PSO\n",
    "from ga import GA\n",
    "from nn import Network\n",
    "from layer import DenseLayer\n",
    "from scalers import MinMaxScaler, StandardScaler"
   ]
  },
  {
   "cell_type": "code",
   "execution_count": 3,
   "metadata": {},
   "outputs": [],
   "source": [
    "# reference\n",
    "metrics_fn_dict = dict()\n",
    "metrics_fn_dict['accuracy'] = ACC\n",
    "metrics_fn_dict['categorical_crossentropy'] = CCE\n",
    "metrics_fn_dict['mean_square_error'] = MSE\n",
    "metrics_fn_dict['precision'] = PRECISION\n",
    "metrics_fn_dict['recall'] = RECALL\n",
    "metrics_fn_dict['essential_metrics'] = essential_metrics"
   ]
  },
  {
   "cell_type": "code",
   "execution_count": 4,
   "metadata": {},
   "outputs": [],
   "source": [
    "# model\n",
    "model = Network(5, lr = None)\n",
    "model.add_layer(DenseLayer(1, 4, True, afn=sigmoid, dafn=None, rfn=None))\n",
    "model.add_layer(DenseLayer(2, 3, True, afn=softmax, dafn=None, rfn=None))"
   ]
  },
  {
   "cell_type": "code",
   "execution_count": 5,
   "metadata": {},
   "outputs": [],
   "source": [
    "# optimizer\n",
    "ga = GA(\n",
    "    dict(\n",
    "        m = 50,\n",
    "        x_rate = [0.5, 1.0],\n",
    "        m_rate = [0.5, 1.0],\n",
    "        weight_constraint = [-3.,3.],\n",
    "        radioactive_rating = [0.1, 0.5],\n",
    "        grow_factor = [0.1, 0.5],\n",
    "        scale_hyperparameter = False,\n",
    "        regularizer = None))"
   ]
  },
  {
   "cell_type": "code",
   "execution_count": 6,
   "metadata": {},
   "outputs": [
    {
     "name": "stdout",
     "output_type": "stream",
     "text": [
      "building layer 1 with 5\n",
      "24\n",
      "building layer 2 with 4\n",
      "15\n"
     ]
    }
   ],
   "source": [
    "model.compile(loss_fn = 'categorical_crossentropy', optimizer = ga, \\\n",
    "    metrics = ['accuracy', 'mean_square_error', 'categorical_crossentropy', 'precision', 'recall', 'f1'])"
   ]
  },
  {
   "cell_type": "code",
   "execution_count": 7,
   "metadata": {},
   "outputs": [
    {
     "name": "stdout",
     "output_type": "stream",
     "text": [
      "<class 'pandas.core.frame.DataFrame'>\n",
      "RangeIndex: 107 entries, 0 to 106\n",
      "Data columns (total 6 columns):\n",
      " #   Column  Non-Null Count  Dtype  \n",
      "---  ------  --------------  -----  \n",
      " 0   f1      107 non-null    float32\n",
      " 1   f2      107 non-null    float32\n",
      " 2   f3      107 non-null    float32\n",
      " 3   f4      107 non-null    float32\n",
      " 4   f5      107 non-null    float32\n",
      " 5   label   107 non-null    float32\n",
      "dtypes: float32(6)\n",
      "memory usage: 2.6 KB\n",
      "None\n",
      "<class 'pandas.core.frame.DataFrame'>\n",
      "RangeIndex: 108 entries, 0 to 107\n",
      "Data columns (total 6 columns):\n",
      " #   Column  Non-Null Count  Dtype  \n",
      "---  ------  --------------  -----  \n",
      " 0   f1      108 non-null    float32\n",
      " 1   f2      108 non-null    float32\n",
      " 2   f3      108 non-null    float32\n",
      " 3   f4      108 non-null    float32\n",
      " 4   f5      108 non-null    float32\n",
      " 5   label   108 non-null    float32\n",
      "dtypes: float32(6)\n",
      "memory usage: 2.7 KB\n",
      "None\n"
     ]
    }
   ],
   "source": [
    "# data loading\n",
    "DATA = os.path.join('c:\\\\Users\\\\tcumi\\\\github_repo\\\\neural-network\\\\', 'dataset')\n",
    "GROUP = 4\n",
    "COLUMNS = ['f1', 'f2', 'f3', 'f4', 'f5', 'label']\n",
    "N_CLASS = 3\n",
    "EPOCHS = 500\n",
    "train_dir, test_dir = \"..//dataset//training_data{}.txt\".format(GROUP), \"..//dataset//testing_data{}.txt\".format(GROUP)\n",
    "train, test = get_data(DATA, train_dir, COLUMNS), get_data(DATA, test_dir, COLUMNS)\n",
    "# shuffle\n",
    "train, test = train.sample(frac=1), test.sample(frac=1)\n",
    "x_train, y_train = train.drop('label', axis=1), train['label']\n",
    "x_test, y_test = test.drop('label', axis=1), test['label']"
   ]
  },
  {
   "cell_type": "code",
   "execution_count": 8,
   "metadata": {},
   "outputs": [],
   "source": [
    "# data scaling and encoding\n",
    "scaler = StandardScaler(['f1', 'f2', 'f3', 'f4', 'f5'])\n",
    "scaler.fit(x_train)\n",
    "x_train = scaler.transform(x_train)\n",
    "x_test = scaler.transform(x_test)\n",
    "y_train = one_hot_encoding(y_train, N_CLASS)\n",
    "y_test = one_hot_encoding(y_test, N_CLASS)"
   ]
  },
  {
   "cell_type": "code",
   "execution_count": 9,
   "metadata": {
    "scrolled": true,
    "tags": [
     "outputPrepend"
    ]
   },
   "outputs": [
    {
     "name": "stderr",
     "output_type": "stream",
     "text": [
      "C:\\Users\\tcumi\\github_repo\\neural-network\\python\\ga.py:201: RuntimeWarning: overflow encountered in add\n",
      "  self.population.sort(key=lambda p: p.fitness + np.random.uniform(-shift, shift, 1), reverse = self.aim)\n"
     ]
    },
    {
     "name": "stdout",
     "output_type": "stream",
     "text": [
      "Checkpoint 100, Accuracy: 0.9012345679012346, Loss: 0.3758039121274595\n",
      "Checkpoint 200, Accuracy: 0.9444444444444444, Loss: 0.3235944465354637\n",
      "Checkpoint 300, Accuracy: 0.9506172839506173, Loss: 0.2655239988256384\n",
      "Checkpoint 400, Accuracy: 0.9506172839506173, Loss: 0.21056931107132523\n",
      "Checkpoint 500, Accuracy: 0.9629629629629629, Loss: 0.1614975752653899\n"
     ]
    }
   ],
   "source": [
    "# learning phase\n",
    "breakpoint = 100\n",
    "checkpoints = list()\n",
    "history = list()\n",
    "for century in range(0, EPOCHS, breakpoint):\n",
    "    sub_history = model.fit(x_train, y_train, breakpoint, verbose = 0)\n",
    "    score = model.evaluate(x_test, y_test, False, verbose = 0)\n",
    "    print('Checkpoint {}, Accuracy: {}, Loss: {}'.format(century+breakpoint, score['accuracy'], score[model.loss_fn]))\n",
    "    score['checkpoint'] = century + breakpoint\n",
    "    checkpoints.append(score)\n",
    "    history.extend(sub_history)\n",
    "    itr = century + breakpoint\n",
    "\n",
    "    model.optimizer.rr = model.optimizer.radioactive_rating[1] - (model.optimizer.radioactive_rating[1] - model.optimizer.radioactive_rating[0]) / EPOCHS * (EPOCHS - itr)\n",
    "    model.optimizer.gf = model.optimizer.grow_factor[1] - (model.optimizer.grow_factor[1] - model.optimizer.grow_factor[0]) / EPOCHS * (EPOCHS - itr)\n",
    "    model.optimizer.crossover_rate = model.optimizer.x_rate[1] - (model.optimizer.x_rate[1] - model.optimizer.x_rate[0]) / EPOCHS * (EPOCHS - itr)\n",
    "    model.optimizer.mutation_rate = model.optimizer.m_rate[0] + (model.optimizer.m_rate[1] - model.optimizer.m_rate[0]) / EPOCHS * (EPOCHS - itr)\n",
    "    "
   ]
  },
  {
   "cell_type": "code",
   "execution_count": 10,
   "metadata": {},
   "outputs": [],
   "source": [
    "import matplotlib.pyplot as plt\n",
    "\n",
    "def draw_plot(x, y_list, x_label=None, y_label=None, legend=None, title=None):\n",
    "    fig, ax = plt.subplots(figsize=(12,5))\n",
    "    for xi, yi in zip(x, y_list):\n",
    "        ax.plot(xi, yi)\n",
    "    if x_label is not None and y_label is not None:\n",
    "        ax.set(xlabel=x_label, ylabel=y_label, title='{} VS {}'.format(x_label, y_label))\n",
    "    if legend is not None:\n",
    "        ax.legend(legend)\n",
    "    ax.grid()\n",
    "    plt.show()"
   ]
  },
  {
   "cell_type": "code",
   "execution_count": 11,
   "metadata": {},
   "outputs": [
    {
     "name": "stdout",
     "output_type": "stream",
     "text": [
      "[0. 1. 0.] <-> [0.05338068 0.9435664  0.00305293]\n",
      "[1. 0. 0.] <-> [0.9667685  0.03202707 0.0012044 ]\n",
      "[1. 0. 0.] <-> [0.7995383  0.00668867 0.19377305]\n",
      "[1. 0. 0.] <-> [0.87924033 0.1121878  0.00857189]\n",
      "[0. 0. 1.] <-> [0.5619417  0.00296245 0.43509588]\n",
      "[1. 0. 0.] <-> [0.89510745 0.10262345 0.00226912]\n",
      "[1. 0. 0.] <-> [0.95951307 0.02623306 0.01425398]\n",
      "[1. 0. 0.] <-> [0.97896314 0.00571849 0.01531835]\n",
      "[1. 0. 0.] <-> [0.41523084 0.57543004 0.00933909]\n",
      "[1. 0. 0.] <-> [0.97740185 0.01148027 0.01111793]\n",
      "[0. 1. 0.] <-> [0.5962929 0.3865881 0.017119 ]\n",
      "[1. 0. 0.] <-> [0.94890684 0.00640552 0.04468762]\n",
      "[1. 0. 0.] <-> [0.96137905 0.00414855 0.0344724 ]\n",
      "[1. 0. 0.] <-> [0.9716844  0.02134752 0.00696806]\n",
      "[0. 1. 0.] <-> [0.16680662 0.83001137 0.00318201]\n",
      "[1. 0. 0.] <-> [0.45960304 0.5393472  0.00104983]\n",
      "[1. 0. 0.] <-> [0.95982504 0.02665098 0.01352404]\n",
      "[0. 0. 1.] <-> [8.6465053e-02 3.6318594e-04 9.1317183e-01]\n",
      "[1. 0. 0.] <-> [0.96701205 0.01184374 0.02114423]\n",
      "[1. 0. 0.] <-> [0.963543   0.00449961 0.0319574 ]\n",
      "[0. 1. 0.] <-> [0.05408051 0.9433671  0.00255232]\n",
      "[1. 0. 0.] <-> [0.96565354 0.01503231 0.01931419]\n",
      "[0. 1. 0.] <-> [5.9379127e-02 9.3973476e-01 8.8608899e-04]\n",
      "[0. 0. 1.] <-> [0.43365023 0.00214435 0.5642054 ]\n",
      "[1. 0. 0.] <-> [0.9570421  0.00586007 0.0370979 ]\n",
      "[0. 0. 1.] <-> [8.748594e-02 3.752424e-04 9.121388e-01]\n",
      "[1. 0. 0.] <-> [0.7376209  0.2556272  0.00675199]\n",
      "[1. 0. 0.] <-> [0.78752786 0.0062099  0.20626228]\n",
      "[1. 0. 0.] <-> [0.9833831  0.01080476 0.0058122 ]\n",
      "[1. 0. 0.] <-> [0.96835405 0.02494644 0.00669945]\n",
      "[1. 0. 0.] <-> [0.96724194 0.0257369  0.00702107]\n",
      "[0. 1. 0.] <-> [0.45151457 0.5451802  0.00330523]\n",
      "[1. 0. 0.] <-> [0.9423661  0.04518625 0.01244755]\n",
      "[0. 0. 1.] <-> [0.9038976  0.00288135 0.09322106]\n",
      "[0. 1. 0.] <-> [0.10737742 0.88753724 0.00508529]\n",
      "[0. 0. 1.] <-> [9.4252214e-02 4.5133175e-04 9.0529644e-01]\n",
      "[1. 0. 0.] <-> [0.79517573 0.20227753 0.00254674]\n",
      "[1. 0. 0.] <-> [0.9682797  0.01343307 0.01828728]\n",
      "[1. 0. 0.] <-> [0.9038533  0.00308787 0.09305888]\n",
      "[1. 0. 0.] <-> [0.9537126  0.02312336 0.02316408]\n",
      "[1. 0. 0.] <-> [0.954783   0.02269953 0.02251747]\n",
      "[1. 0. 0.] <-> [0.68087274 0.00506294 0.3140644 ]\n",
      "[1. 0. 0.] <-> [0.9120606  0.00450148 0.08343797]\n",
      "[1. 0. 0.] <-> [0.9731886  0.02311464 0.00369676]\n",
      "[0. 1. 0.] <-> [0.07011483 0.92855906 0.00132609]\n",
      "[1. 0. 0.] <-> [0.96177906 0.03186417 0.00635676]\n",
      "[1. 0. 0.] <-> [0.91134965 0.0491132  0.03953724]\n",
      "[1. 0. 0.] <-> [0.96604574 0.01137199 0.02258229]\n",
      "[1. 0. 0.] <-> [0.9414822  0.05309572 0.00542216]\n",
      "[1. 0. 0.] <-> [0.97407055 0.0114085  0.01452098]\n",
      "[1. 0. 0.] <-> [0.81876993 0.1783812  0.0028489 ]\n",
      "[0. 1. 0.] <-> [0.24007273 0.7560444  0.00388287]\n",
      "[0. 0. 1.] <-> [1.3231693e-01 6.0446089e-04 8.6707866e-01]\n",
      "[0. 1. 0.] <-> [0.05501194 0.9429136  0.0020745 ]\n",
      "[0. 1. 0.] <-> [1.201230e-01 8.794882e-01 3.887716e-04]\n",
      "[1. 0. 0.] <-> [0.9834885  0.00601033 0.01050117]\n",
      "[1. 0. 0.] <-> [0.9447931  0.033493   0.02171389]\n",
      "[0. 1. 0.] <-> [0.05422794 0.94306684 0.00270526]\n",
      "[0. 0. 1.] <-> [9.6830316e-02 4.0416446e-04 9.0276551e-01]\n",
      "[1. 0. 0.] <-> [0.8994581  0.00639078 0.09415112]\n",
      "[1. 0. 0.] <-> [0.9502137  0.00470909 0.04507726]\n",
      "[1. 0. 0.] <-> [0.9693201  0.00991441 0.0207655 ]\n",
      "[1. 0. 0.] <-> [0.944506   0.00491618 0.05057785]\n",
      "[1. 0. 0.] <-> [0.97908425 0.01021042 0.01070534]\n",
      "[0. 0. 1.] <-> [0.86345965 0.00369617 0.1328442 ]\n",
      "[0. 0. 1.] <-> [0.3605697  0.00162389 0.63780636]\n",
      "[1. 0. 0.] <-> [0.9493004  0.00363782 0.0470618 ]\n",
      "[1. 0. 0.] <-> [0.9412961  0.05264579 0.00605806]\n",
      "[1. 0. 0.] <-> [0.97935814 0.01018262 0.01045922]\n",
      "[1. 0. 0.] <-> [0.9134214  0.00735409 0.07922448]\n",
      "[1. 0. 0.] <-> [0.7598053  0.23505652 0.0051382 ]\n",
      "[1. 0. 0.] <-> [0.9527624  0.00723258 0.04000504]\n",
      "[1. 0. 0.] <-> [0.9692722  0.00383612 0.02689161]\n",
      "[1. 0. 0.] <-> [0.90349346 0.08859684 0.00790977]\n",
      "[1. 0. 0.] <-> [0.9653804  0.00829364 0.02632597]\n",
      "[0. 0. 1.] <-> [9.8704807e-02 4.1074801e-04 9.0088445e-01]\n",
      "[1. 0. 0.] <-> [0.96661425 0.02150076 0.01188497]\n",
      "[1. 0. 0.] <-> [0.97016203 0.01983252 0.01000543]\n",
      "[1. 0. 0.] <-> [0.9629718  0.01648382 0.02054438]\n",
      "[1. 0. 0.] <-> [0.9072153  0.0043948  0.08838981]\n",
      "[1. 0. 0.] <-> [0.97780025 0.00546298 0.01673678]\n",
      "[1. 0. 0.] <-> [0.9821754  0.00704525 0.01077938]\n",
      "[1. 0. 0.] <-> [0.925018   0.00360954 0.07137248]\n",
      "[1. 0. 0.] <-> [0.95912284 0.0076147  0.03326248]\n",
      "[1. 0. 0.] <-> [0.9702259  0.00689513 0.02287892]\n",
      "[1. 0. 0.] <-> [0.97785944 0.01402699 0.00811367]\n",
      "[1. 0. 0.] <-> [0.9639162  0.00803952 0.02804426]\n",
      "[1. 0. 0.] <-> [0.9487178  0.03735409 0.01392806]\n",
      "[1. 0. 0.] <-> [0.964893   0.01597077 0.01913618]\n",
      "[1. 0. 0.] <-> [0.91040736 0.06415608 0.02543657]\n",
      "[1. 0. 0.] <-> [0.96281636 0.01321259 0.023971  ]\n",
      "[0. 0. 1.] <-> [8.7001048e-02 3.6546652e-04 9.1263354e-01]\n",
      "[1. 0. 0.] <-> [0.9617098  0.01099978 0.0272904 ]\n",
      "[1. 0. 0.] <-> [0.9827687  0.01354287 0.0036884 ]\n",
      "[1. 0. 0.] <-> [0.7708801  0.00452444 0.22459543]\n",
      "[1. 0. 0.] <-> [0.726224   0.27111    0.00266591]\n",
      "[1. 0. 0.] <-> [0.97612566 0.00583383 0.01804047]\n",
      "[0. 1. 0.] <-> [0.05318854 0.9436048  0.00320666]\n",
      "[0. 1. 0.] <-> [0.14219041 0.8565052  0.00130436]\n",
      "[1. 0. 0.] <-> [0.9849858  0.007652   0.00736217]\n",
      "[1. 0. 0.] <-> [0.9643965  0.023224   0.01237958]\n",
      "[0. 0. 1.] <-> [9.3930140e-02 3.9201375e-04 9.0567780e-01]\n",
      "[0. 0. 1.] <-> [1.1138001e-01 4.7325803e-04 8.8814670e-01]\n",
      "[1. 0. 0.] <-> [0.9854151  0.0070703  0.00751455]\n",
      "[1. 0. 0.] <-> [0.89613676 0.00892434 0.09493884]\n",
      "[0. 1. 0.] <-> [0.05451249 0.9431843  0.00230309]\n",
      "[0. 1. 0.] <-> [0.05429559 0.9432888  0.00241567]\n",
      "[1. 0. 0.] <-> [0.92561847 0.02816681 0.04621468]\n",
      "{'accuracy': 0.9629629629629629, 'mean_square_error': 0.0802099332572796, 'categorical_crossentropy': 0.1614975752653899, 'precision': 0.9444444444444444, 'recall': 0.9444444444444444, 'f1': 0.9444444444444444, 'essential_metrics': {0: {'tp_hit': 76, 'fp_hit': 4, 'tn_hit': 26, 'fn_hit': 2}, 1: {'tp_hit': 15, 'fp_hit': 2, 'tn_hit': 90, 'fn_hit': 1}, 2: {'tp_hit': 11, 'fp_hit': 0, 'tn_hit': 94, 'fn_hit': 3}}}\n"
     ]
    }
   ],
   "source": [
    "# recall phase\n",
    "score = model.evaluate(x_test, y_test, False)\n",
    "print(score)"
   ]
  },
  {
   "cell_type": "code",
   "execution_count": 12,
   "metadata": {},
   "outputs": [],
   "source": [
    "# Testing Performance"
   ]
  },
  {
   "cell_type": "code",
   "execution_count": 13,
   "metadata": {},
   "outputs": [
    {
     "data": {
      "image/png": "[encoded data removed]",
      "text/plain": [
       "<Figure size 864x360 with 1 Axes>"
      ]
     },
     "metadata": {
      "needs_background": "light"
     },
     "output_type": "display_data"
    },
    {
     "data": {
      "image/png": "[encoded data removed]",
      "text/plain": [
       "<Figure size 864x360 with 1 Axes>"
      ]
     },
     "metadata": {
      "needs_background": "light"
     },
     "output_type": "display_data"
    }
   ],
   "source": [
    "draw_plot(x = [[i for i in range(len(history))], [(i+1)*breakpoint for i in range(len(checkpoints))]], y_list = [history, [ ckp[model.loss_fn] for ckp in checkpoints ]], x_label = 'Epochs', \\\n",
    "    y_label = model.loss_fn, legend=['train', 'test'])\n",
    "acc = [ ckp['accuracy'] for ckp in checkpoints ]\n",
    "draw_plot(x = [[(i+1)*breakpoint for i in range(len(checkpoints))]], y_list = [acc], x_label = 'Checkpoints', \\\n",
    "    y_label = 'accuracy')"
   ]
  },
  {
   "cell_type": "code",
   "execution_count": 14,
   "metadata": {
    "scrolled": false
   },
   "outputs": [
    {
     "name": "stdout",
     "output_type": "stream",
     "text": [
      "{'accuracy': 0.9012345679012346, 'mean_square_error': 0.21615551436879094, 'categorical_crossentropy': 0.3758039121274595, 'precision': 0.8518518518518519, 'recall': 0.8518518518518519, 'f1': 0.8518518518518519, 'essential_metrics': {0: {'tp_hit': 77, 'fp_hit': 15, 'tn_hit': 15, 'fn_hit': 1}, 1: {'tp_hit': 15, 'fp_hit': 1, 'tn_hit': 91, 'fn_hit': 1}, 2: {'tp_hit': 0, 'fp_hit': 0, 'tn_hit': 94, 'fn_hit': 14}}, 'checkpoint': 100} \n",
      "\n",
      "\n",
      "{'accuracy': 0.9444444444444444, 'mean_square_error': 0.17781886340008835, 'categorical_crossentropy': 0.3235944465354637, 'precision': 0.9166666666666666, 'recall': 0.9166666666666666, 'f1': 0.9166666666666666, 'essential_metrics': {0: {'tp_hit': 78, 'fp_hit': 9, 'tn_hit': 21, 'fn_hit': 0}, 1: {'tp_hit': 15, 'fp_hit': 0, 'tn_hit': 92, 'fn_hit': 1}, 2: {'tp_hit': 6, 'fp_hit': 0, 'tn_hit': 94, 'fn_hit': 8}}, 'checkpoint': 200} \n",
      "\n",
      "\n",
      "{'accuracy': 0.9506172839506173, 'mean_square_error': 0.13798682457945172, 'categorical_crossentropy': 0.2655239988256384, 'precision': 0.9259259259259259, 'recall': 0.9259259259259259, 'f1': 0.9259259259259259, 'essential_metrics': {0: {'tp_hit': 76, 'fp_hit': 6, 'tn_hit': 24, 'fn_hit': 2}, 1: {'tp_hit': 15, 'fp_hit': 2, 'tn_hit': 90, 'fn_hit': 1}, 2: {'tp_hit': 9, 'fp_hit': 0, 'tn_hit': 94, 'fn_hit': 5}}, 'checkpoint': 300} \n",
      "\n",
      "\n",
      "{'accuracy': 0.9506172839506173, 'mean_square_error': 0.10581302780453036, 'categorical_crossentropy': 0.21056931107132523, 'precision': 0.9259259259259259, 'recall': 0.9259259259259259, 'f1': 0.9259259259259259, 'essential_metrics': {0: {'tp_hit': 76, 'fp_hit': 6, 'tn_hit': 24, 'fn_hit': 2}, 1: {'tp_hit': 15, 'fp_hit': 2, 'tn_hit': 90, 'fn_hit': 1}, 2: {'tp_hit': 9, 'fp_hit': 0, 'tn_hit': 94, 'fn_hit': 5}}, 'checkpoint': 400} \n",
      "\n",
      "\n",
      "{'accuracy': 0.9629629629629629, 'mean_square_error': 0.0802099332572796, 'categorical_crossentropy': 0.1614975752653899, 'precision': 0.9444444444444444, 'recall': 0.9444444444444444, 'f1': 0.9444444444444444, 'essential_metrics': {0: {'tp_hit': 76, 'fp_hit': 4, 'tn_hit': 26, 'fn_hit': 2}, 1: {'tp_hit': 15, 'fp_hit': 2, 'tn_hit': 90, 'fn_hit': 1}, 2: {'tp_hit': 11, 'fp_hit': 0, 'tn_hit': 94, 'fn_hit': 3}}, 'checkpoint': 500} \n",
      "\n",
      "\n"
     ]
    }
   ],
   "source": [
    "for checkpoint in checkpoints:\n",
    "    print(checkpoint, '\\n\\n')"
   ]
  },
  {
   "cell_type": "code",
   "execution_count": 15,
   "metadata": {},
   "outputs": [
    {
     "name": "stdout",
     "output_type": "stream",
     "text": [
      "Layer 1\n",
      "Neuron 0: weights:\n",
      "[ 2.0409708 -3.        -2.8500574 -2.2417789  1.0348057]\n",
      " bias: 2.7339096069335938\n",
      "\n",
      "Neuron 1: weights:\n",
      "[-1.7086077   2.8073263   1.4633783  -1.8074465   0.54844093]\n",
      " bias: -0.5523723363876343\n",
      "\n",
      "Neuron 2: weights:\n",
      "[1.5265788 1.1937952 1.6702747 2.8104446 2.4516845]\n",
      " bias: 2.1868865489959717\n",
      "\n",
      "Neuron 3: weights:\n",
      "[ 1.4423921   3.          1.0819732  -3.         -0.85278106]\n",
      " bias: 0.8622747659683228\n",
      "\n",
      "$\n",
      "Layer 2\n",
      "Neuron 0: weights:\n",
      "[ 1.7146446 -1.0113614 -1.9751179  2.7417269]\n",
      " bias: 1.488793134689331\n",
      "\n",
      "Neuron 1: weights:\n",
      "[-2.994313   2.3713682 -1.6490093  3.       ]\n",
      " bias: 0.3986589014530182\n",
      "\n",
      "Neuron 2: weights:\n",
      "[-0.38895488 -2.9901192   2.7573252  -2.5331953 ]\n",
      " bias: 1.2170453071594238\n",
      "\n",
      "$\n",
      "\n"
     ]
    }
   ],
   "source": [
    "print(model)"
   ]
  }
 ],
 "metadata": {
  "kernelspec": {
   "display_name": "Python 3",
   "language": "python",
   "name": "python3"
  },
  "language_info": {
   "codemirror_mode": {
    "name": "ipython",
    "version": 3
   },
   "file_extension": ".py",
   "mimetype": "text/x-python",
   "name": "python",
   "nbconvert_exporter": "python",
   "pygments_lexer": "ipython3",
   "version": "3.6.10"
  }
 },
 "nbformat": 4,
 "nbformat_minor": 2
}
