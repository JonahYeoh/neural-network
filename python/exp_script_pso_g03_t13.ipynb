{
 "cells": [
  {
   "cell_type": "code",
   "execution_count": 1,
   "metadata": {},
   "outputs": [],
   "source": [
    "# dependency\n",
    "import numpy as np\n",
    "import pandas as pd\n",
    "import copy\n",
    "import math\n",
    "import sys\n",
    "import os\n",
    "from activations import relu, leaky_relu, sigmoid, tanh, softmax, d_sigmoid, d_relu\n",
    "from initializers import glorot_uniform, random_normal, random_uniform\n",
    "from regularizers import l1_regularizer, l2_regularizer\n",
    "from utility import trim_tail, multiply, subtract, get_nparams, one_hot_encoding, get_data\n",
    "from metrics import MSE, CCE, ACC, PRECISION, RECALL, essential_metrics, wondering_penalty, close_gap_penalty\n",
    "from pso import PSO\n",
    "from ga import GA\n",
    "from nn import Network\n",
    "from layer import DenseLayer\n",
    "from scalers import MinMaxScaler, StandardScaler"
   ]
  },
  {
   "cell_type": "code",
   "execution_count": 2,
   "metadata": {},
   "outputs": [],
   "source": [
    "# reference\n",
    "metrics_fn_dict = dict()\n",
    "metrics_fn_dict['accuracy'] = ACC\n",
    "metrics_fn_dict['categorical_crossentropy'] = CCE\n",
    "metrics_fn_dict['mean_square_error'] = MSE\n",
    "metrics_fn_dict['precision'] = PRECISION\n",
    "metrics_fn_dict['recall'] = RECALL\n",
    "metrics_fn_dict['essential_metrics'] = essential_metrics"
   ]
  },
  {
   "cell_type": "code",
   "execution_count": 3,
   "metadata": {},
   "outputs": [],
   "source": [
    "# model\n",
    "model = Network(5, lr = None)\n",
    "model.add_layer(DenseLayer(1, 4, True, afn=sigmoid, dafn=None, rfn=None))\n",
    "model.add_layer(DenseLayer(2, 3, True, afn=softmax, dafn=None, rfn=None))"
   ]
  },
  {
   "cell_type": "code",
   "execution_count": 4,
   "metadata": {},
   "outputs": [
    {
     "name": "stdout",
     "output_type": "stream",
     "text": [
      "see one see two 2 2\n"
     ]
    }
   ],
   "source": [
    "pso = PSO(dict(m = 50,\n",
    "    weight_constraint = [-3, 3], \n",
    "    velocity_constraint = [-0.1, 0.1],\n",
    "    c1 = 2,\n",
    "    c2 = 2,\n",
    "    w = 1.2,\n",
    "    w_decay = 1,\n",
    "    scale_hyperparameter = False,\n",
    "    regularizer = None,\n",
    "    mask = True))"
   ]
  },
  {
   "cell_type": "code",
   "execution_count": 5,
   "metadata": {},
   "outputs": [
    {
     "name": "stdout",
     "output_type": "stream",
     "text": [
      "building layer 1 with 5\n",
      "24\n",
      "building layer 2 with 4\n",
      "15\n"
     ]
    }
   ],
   "source": [
    "model.compile(loss_fn = 'categorical_crossentropy', optimizer = pso, \\\n",
    "    metrics = ['accuracy', 'mean_square_error', 'categorical_crossentropy'])"
   ]
  },
  {
   "cell_type": "code",
   "execution_count": 6,
   "metadata": {},
   "outputs": [
    {
     "name": "stdout",
     "output_type": "stream",
     "text": [
      "<class 'pandas.core.frame.DataFrame'>\n",
      "RangeIndex: 107 entries, 0 to 106\n",
      "Data columns (total 6 columns):\n",
      " #   Column  Non-Null Count  Dtype  \n",
      "---  ------  --------------  -----  \n",
      " 0   f1      107 non-null    float32\n",
      " 1   f2      107 non-null    float32\n",
      " 2   f3      107 non-null    float32\n",
      " 3   f4      107 non-null    float32\n",
      " 4   f5      107 non-null    float32\n",
      " 5   label   107 non-null    float32\n",
      "dtypes: float32(6)\n",
      "memory usage: 2.6 KB\n",
      "None\n",
      "<class 'pandas.core.frame.DataFrame'>\n",
      "RangeIndex: 108 entries, 0 to 107\n",
      "Data columns (total 6 columns):\n",
      " #   Column  Non-Null Count  Dtype  \n",
      "---  ------  --------------  -----  \n",
      " 0   f1      108 non-null    float32\n",
      " 1   f2      108 non-null    float32\n",
      " 2   f3      108 non-null    float32\n",
      " 3   f4      108 non-null    float32\n",
      " 4   f5      108 non-null    float32\n",
      " 5   label   108 non-null    float32\n",
      "dtypes: float32(6)\n",
      "memory usage: 2.7 KB\n",
      "None\n"
     ]
    }
   ],
   "source": [
    "# data loading\n",
    "DATA = os.path.join('c:\\\\Users\\\\tcumi\\\\github_repo\\\\neural-network\\\\', 'dataset')\n",
    "GROUP = 3\n",
    "COLUMNS = ['f1', 'f2', 'f3', 'f4', 'f5', 'label']\n",
    "N_CLASS = 3\n",
    "EPOCHS = 500\n",
    "train_dir, test_dir = \"..//dataset//training_data{}.txt\".format(GROUP), \"..//dataset//testing_data{}.txt\".format(GROUP)\n",
    "train, test = get_data(DATA, train_dir, COLUMNS), get_data(DATA, test_dir, COLUMNS)\n",
    "# shuffle\n",
    "train, test = train.sample(frac=1), test.sample(frac=1)\n",
    "x_train, y_train = train.drop('label', axis=1), train['label']\n",
    "x_test, y_test = test.drop('label', axis=1), test['label']"
   ]
  },
  {
   "cell_type": "code",
   "execution_count": 7,
   "metadata": {},
   "outputs": [],
   "source": [
    "# data scaling and encoding\n",
    "scaler = StandardScaler(['f1', 'f2', 'f3', 'f4', 'f5'])\n",
    "scaler.fit(x_train)\n",
    "x_train = scaler.transform(x_train)\n",
    "x_test = scaler.transform(x_test)\n",
    "y_train = one_hot_encoding(y_train, N_CLASS)\n",
    "y_test = one_hot_encoding(y_test, N_CLASS)"
   ]
  },
  {
   "cell_type": "code",
   "execution_count": 8,
   "metadata": {
    "tags": [
     "outputPrepend"
    ]
   },
   "outputs": [
    {
     "name": "stdout",
     "output_type": "stream",
     "text": [
      "Checkpoint 100, Accuracy: 0.9382716049382716, Loss: 0.2914144551312482\n",
      "Checkpoint 200, Accuracy: 0.9506172839506173, Loss: 0.16548675960964626\n",
      "Checkpoint 300, Accuracy: 0.9506172839506173, Loss: 0.14505540000067818\n",
      "Checkpoint 400, Accuracy: 0.9444444444444444, Loss: 0.14657064720436377\n",
      "Checkpoint 500, Accuracy: 0.9506172839506173, Loss: 0.13930023158038105\n"
     ]
    }
   ],
   "source": [
    "# learning phase\n",
    "breakpoint = 100\n",
    "checkpoints = list()\n",
    "history = list()\n",
    "for century in range(0, EPOCHS, breakpoint):\n",
    "    sub_history = model.fit(x_train, y_train, breakpoint, verbose = 0)\n",
    "    score = model.evaluate(x_test, y_test, False, verbose = 0)\n",
    "    print('Checkpoint {}, Accuracy: {}, Loss: {}'.format(century+breakpoint, score['accuracy'], score[model.loss_fn]))\n",
    "    score['checkpoint'] = century + breakpoint\n",
    "    checkpoints.append(score)\n",
    "    history.extend(sub_history)"
   ]
  },
  {
   "cell_type": "code",
   "execution_count": 9,
   "metadata": {},
   "outputs": [],
   "source": [
    "import matplotlib.pyplot as plt\n",
    "\n",
    "def draw_plot(x, y_list, x_label=None, y_label=None, legend=None, title=None):\n",
    "    fig, ax = plt.subplots(figsize=(12,5))\n",
    "    for xi, yi in zip(x, y_list):\n",
    "        ax.plot(xi, yi)\n",
    "    if x_label is not None and y_label is not None:\n",
    "        ax.set(xlabel=x_label, ylabel=y_label, title='{} VS {}'.format(x_label, y_label))\n",
    "    if legend is not None:\n",
    "        ax.legend(legend)\n",
    "    ax.grid()\n",
    "    plt.show()"
   ]
  },
  {
   "cell_type": "code",
   "execution_count": 10,
   "metadata": {},
   "outputs": [
    {
     "name": "stdout",
     "output_type": "stream",
     "text": [
      "[0. 0. 1.] <-> [2.8174913e-02 9.2745446e-05 9.7173238e-01]\n",
      "[0. 0. 1.] <-> [1.0770169e-02 4.4565364e-05 9.8918533e-01]\n",
      "[1. 0. 0.] <-> [9.9681634e-01 2.4656139e-03 7.1807118e-04]\n",
      "[0. 1. 0.] <-> [4.5084213e-03 9.9542242e-01 6.9160051e-05]\n",
      "[1. 0. 0.] <-> [0.9915891  0.00116346 0.00724731]\n",
      "[1. 0. 0.] <-> [0.99722445 0.00140168 0.00137392]\n",
      "[1. 0. 0.] <-> [0.99718875 0.00169642 0.00111477]\n",
      "[1. 0. 0.] <-> [9.9701130e-01 2.2531820e-03 7.3549116e-04]\n",
      "[1. 0. 0.] <-> [1.8852624e-01 8.1104791e-01 4.2582018e-04]\n",
      "[0. 1. 0.] <-> [7.7931374e-02 9.2189658e-01 1.7209403e-04]\n",
      "[1. 0. 0.] <-> [9.9552816e-01 3.6935429e-03 7.7822525e-04]\n",
      "[0. 1. 0.] <-> [2.0771376e-03 9.9703985e-01 8.8301877e-04]\n",
      "[1. 0. 0.] <-> [0.949032   0.00112581 0.04984214]\n",
      "[1. 0. 0.] <-> [0.99627906 0.00252595 0.00119502]\n",
      "[1. 0. 0.] <-> [0.99792117 0.00106314 0.00101569]\n",
      "[1. 0. 0.] <-> [0.8723427  0.00138197 0.1262753 ]\n",
      "[1. 0. 0.] <-> [9.9793601e-01 1.3244879e-03 7.3948636e-04]\n",
      "[1. 0. 0.] <-> [9.9203449e-01 7.0781945e-03 8.8727294e-04]\n",
      "[1. 0. 0.] <-> [0.45797074 0.00284111 0.53918815]\n",
      "[1. 0. 0.] <-> [0.9902352  0.0020203  0.00774443]\n",
      "[1. 0. 0.] <-> [9.9557966e-01 3.5672854e-03 8.5303676e-04]\n",
      "[1. 0. 0.] <-> [0.53687346 0.4606305  0.00249602]\n",
      "[1. 0. 0.] <-> [0.99657875 0.00139927 0.00202205]\n",
      "[0. 0. 1.] <-> [1.11857485e-02 1.23559337e-04 9.88690615e-01]\n",
      "[0. 0. 1.] <-> [1.1313558e-02 4.6190155e-05 9.8864031e-01]\n",
      "[1. 0. 0.] <-> [0.9975817  0.00125869 0.00115958]\n",
      "[1. 0. 0.] <-> [0.8949637  0.10389336 0.00114296]\n",
      "[1. 0. 0.] <-> [0.9652985  0.01607304 0.0186285 ]\n",
      "[1. 0. 0.] <-> [9.9785525e-01 1.2408214e-03 9.0394443e-04]\n",
      "[1. 0. 0.] <-> [9.9703169e-01 2.1565252e-03 8.1172510e-04]\n",
      "[0. 0. 1.] <-> [1.5038036e-02 5.7435598e-05 9.8490453e-01]\n",
      "[1. 0. 0.] <-> [0.9914888  0.00109101 0.00742019]\n",
      "[0. 1. 0.] <-> [3.8792090e-03 9.9600971e-01 1.1103028e-04]\n",
      "[1. 0. 0.] <-> [0.9841452  0.00114272 0.01471212]\n",
      "[0. 1. 0.] <-> [2.7266774e-02 9.7265810e-01 7.5132084e-05]\n",
      "[1. 0. 0.] <-> [0.7430401  0.25594655 0.00101338]\n",
      "[1. 0. 0.] <-> [0.99496645 0.00112167 0.00391183]\n",
      "[1. 0. 0.] <-> [0.9869055  0.01162079 0.00147371]\n",
      "[1. 0. 0.] <-> [0.9946548  0.00371224 0.001633  ]\n",
      "[0. 0. 1.] <-> [0.00135363 0.00225046 0.9963959 ]\n",
      "[1. 0. 0.] <-> [0.47960043 0.51867694 0.00172259]\n",
      "[1. 0. 0.] <-> [0.99476826 0.00187607 0.00335572]\n",
      "[0. 1. 0.] <-> [5.9239548e-03 9.9404895e-01 2.7082177e-05]\n",
      "[1. 0. 0.] <-> [0.9973562  0.00145236 0.00119142]\n",
      "[1. 0. 0.] <-> [9.975170e-01 1.619312e-03 8.636524e-04]\n",
      "[1. 0. 0.] <-> [0.985344   0.01268155 0.0019744 ]\n",
      "[0. 0. 1.] <-> [1.4709658e-02 7.9379373e-05 9.8521096e-01]\n",
      "[1. 0. 0.] <-> [1.6272144e-01 8.3689362e-01 3.8502974e-04]\n",
      "[1. 0. 0.] <-> [0.9454586  0.00296068 0.0515807 ]\n",
      "[0. 1. 0.] <-> [2.9077855e-01 7.0878112e-01 4.4026258e-04]\n",
      "[1. 0. 0.] <-> [0.94422    0.05414678 0.00163326]\n",
      "[1. 0. 0.] <-> [0.9778951  0.00227048 0.01983442]\n",
      "[1. 0. 0.] <-> [9.9777621e-01 1.2402572e-03 9.8358619e-04]\n",
      "[1. 0. 0.] <-> [9.952058e-01 4.167250e-03 6.269042e-04]\n",
      "[1. 0. 0.] <-> [0.99766797 0.00120575 0.00112624]\n",
      "[0. 1. 0.] <-> [4.6396509e-01 5.3556359e-01 4.7134692e-04]\n",
      "[1. 0. 0.] <-> [9.9648929e-01 2.5808611e-03 9.2987943e-04]\n",
      "[0. 1. 0.] <-> [4.184799e-03 9.957288e-01 8.637298e-05]\n",
      "[0. 1. 0.] <-> [2.0170320e-02 9.7976261e-01 6.7056884e-05]\n",
      "[0. 1. 0.] <-> [2.1577487e-02 9.7830790e-01 1.1449178e-04]\n",
      "[1. 0. 0.] <-> [0.9967583  0.00163254 0.00160927]\n",
      "[1. 0. 0.] <-> [9.9565434e-01 3.6231205e-03 7.2243193e-04]\n",
      "[1. 0. 0.] <-> [0.9959025  0.002271   0.00182655]\n",
      "[1. 0. 0.] <-> [9.9631763e-01 2.9767973e-03 7.0566026e-04]\n",
      "[1. 0. 0.] <-> [0.9674288  0.03107052 0.00150065]\n",
      "[1. 0. 0.] <-> [0.99701536 0.00185051 0.00113411]\n",
      "[1. 0. 0.] <-> [0.9966234  0.00115074 0.00222588]\n",
      "[0. 0. 1.] <-> [1.4082314e-01 3.6481011e-04 8.5881203e-01]\n",
      "[1. 0. 0.] <-> [0.9937628  0.00438143 0.0018558 ]\n",
      "[0. 1. 0.] <-> [2.1964835e-03 9.9706954e-01 7.3393190e-04]\n",
      "[1. 0. 0.] <-> [0.97640073 0.00110872 0.02249066]\n",
      "[0. 0. 1.] <-> [0.5988574  0.00143108 0.39971155]\n",
      "[1. 0. 0.] <-> [0.9953761  0.00140067 0.00322324]\n",
      "[1. 0. 0.] <-> [0.997359   0.00118174 0.00145936]\n",
      "[1. 0. 0.] <-> [0.9975604  0.00123259 0.00120703]\n",
      "[1. 0. 0.] <-> [9.9769294e-01 1.5829225e-03 7.2422595e-04]\n",
      "[0. 0. 1.] <-> [0.00135519 0.00224567 0.99639916]\n",
      "[1. 0. 0.] <-> [9.969746e-01 2.119852e-03 9.055490e-04]\n",
      "[1. 0. 0.] <-> [0.7299889  0.00208804 0.26792306]\n",
      "[0. 0. 1.] <-> [1.0388733e-02 4.6900925e-05 9.8956430e-01]\n",
      "[1. 0. 0.] <-> [0.9941784  0.00109923 0.00472236]\n",
      "[1. 0. 0.] <-> [9.9742931e-01 1.8758709e-03 6.9474644e-04]\n",
      "[1. 0. 0.] <-> [0.7945503  0.14909136 0.05635827]\n",
      "[1. 0. 0.] <-> [9.975732e-01 1.609451e-03 8.172983e-04]\n",
      "[1. 0. 0.] <-> [0.9957307  0.00299585 0.00127344]\n",
      "[1. 0. 0.] <-> [9.9802458e-01 1.1226078e-03 8.5282396e-04]\n",
      "[1. 0. 0.] <-> [0.99731797 0.00151972 0.00116222]\n",
      "[1. 0. 0.] <-> [0.9386794  0.00296065 0.05835999]\n",
      "[0. 0. 1.] <-> [1.5785279e-02 5.9635571e-05 9.8415506e-01]\n",
      "[0. 1. 0.] <-> [5.4309685e-03 9.9453223e-01 3.6781657e-05]\n",
      "[1. 0. 0.] <-> [9.9706250e-01 2.1350719e-03 8.0238906e-04]\n",
      "[0. 1. 0.] <-> [5.6022746e-03 9.9436510e-01 3.2628435e-05]\n",
      "[1. 0. 0.] <-> [0.99543446 0.00123087 0.00333461]\n",
      "[1. 0. 0.] <-> [0.74668103 0.2514723  0.00184673]\n",
      "[1. 0. 0.] <-> [7.9899833e-02 7.7281566e-04 9.1932732e-01]\n",
      "[1. 0. 0.] <-> [0.98626965 0.00481289 0.00891737]\n",
      "[1. 0. 0.] <-> [0.96197283 0.03699849 0.00102867]\n",
      "[0. 0. 1.] <-> [0.5720153  0.00077935 0.42720538]\n",
      "[1. 0. 0.] <-> [0.874838   0.0698598  0.05530216]\n",
      "[1. 0. 0.] <-> [0.9944623  0.00124201 0.0042956 ]\n",
      "[1. 0. 0.] <-> [0.9945798  0.00250219 0.00291813]\n",
      "[1. 0. 0.] <-> [9.8342371e-01 1.5799215e-02 7.7709230e-04]\n",
      "[0. 0. 1.] <-> [0.7758641  0.00100424 0.22313161]\n",
      "[0. 1. 0.] <-> [1.5862688e-02 9.8408049e-01 5.6854133e-05]\n",
      "[0. 1. 0.] <-> [6.253371e-03 9.936971e-01 4.956840e-05]\n",
      "[1. 0. 0.] <-> [9.9473947e-01 4.3454375e-03 9.1512658e-04]\n",
      "[1. 0. 0.] <-> [9.9761248e-01 1.7207206e-03 6.6682108e-04]\n",
      "[1. 0. 0.] <-> [9.9779344e-01 1.3574065e-03 8.4920437e-04]\n",
      "{'accuracy': 0.9506172839506173, 'mean_square_error': 0.09060820741798022, 'categorical_crossentropy': 0.13930023158038105, 'essential_metrics': {0: {'tp_hit': 73, 'fp_hit': 3, 'tn_hit': 27, 'fn_hit': 5}, 1: {'tp_hit': 16, 'fp_hit': 3, 'tn_hit': 89, 'fn_hit': 0}, 2: {'tp_hit': 11, 'fp_hit': 2, 'tn_hit': 92, 'fn_hit': 3}}}\n"
     ]
    }
   ],
   "source": [
    "# recall phase\n",
    "score = model.evaluate(x_test, y_test, False)\n",
    "print(score)"
   ]
  },
  {
   "cell_type": "code",
   "execution_count": 11,
   "metadata": {},
   "outputs": [
    {
     "data": {
      "image/png": "[encoded data removed]",
      "text/plain": [
       "<Figure size 864x360 with 1 Axes>"
      ]
     },
     "metadata": {
      "needs_background": "light"
     },
     "output_type": "display_data"
    },
    {
     "data": {
      "image/png": "[encoded data removed]",
      "text/plain": [
       "<Figure size 864x360 with 1 Axes>"
      ]
     },
     "metadata": {
      "needs_background": "light"
     },
     "output_type": "display_data"
    }
   ],
   "source": [
    "draw_plot(x = [[i for i in range(len(history))], [(i+1)*breakpoint for i in range(len(checkpoints))]], y_list = [history, [ ckp[model.loss_fn] for ckp in checkpoints ]], x_label = 'Epochs', \\\n",
    "    y_label = model.loss_fn, legend=['train', 'test'])\n",
    "acc = [ ckp['accuracy'] for ckp in checkpoints ]\n",
    "draw_plot(x = [[(i+1)*breakpoint for i in range(len(checkpoints))]], y_list = [acc], x_label = 'Checkpoints', \\\n",
    "    y_label = 'accuracy')"
   ]
  },
  {
   "cell_type": "code",
   "execution_count": 12,
   "metadata": {},
   "outputs": [
    {
     "name": "stdout",
     "output_type": "stream",
     "text": [
      "{'accuracy': 0.9382716049382716, 'mean_square_error': 0.15444078249748386, 'categorical_crossentropy': 0.2914144551312482, 'essential_metrics': {0: {'tp_hit': 77, 'fp_hit': 9, 'tn_hit': 21, 'fn_hit': 1}, 1: {'tp_hit': 11, 'fp_hit': 0, 'tn_hit': 92, 'fn_hit': 5}, 2: {'tp_hit': 10, 'fp_hit': 1, 'tn_hit': 93, 'fn_hit': 4}}, 'checkpoint': 100} \n",
      "\n",
      "\n",
      "{'accuracy': 0.9506172839506173, 'mean_square_error': 0.09785435950067807, 'categorical_crossentropy': 0.16548675960964626, 'essential_metrics': {0: {'tp_hit': 73, 'fp_hit': 3, 'tn_hit': 27, 'fn_hit': 5}, 1: {'tp_hit': 15, 'fp_hit': 4, 'tn_hit': 88, 'fn_hit': 1}, 2: {'tp_hit': 12, 'fp_hit': 1, 'tn_hit': 93, 'fn_hit': 2}}, 'checkpoint': 200} \n",
      "\n",
      "\n",
      "{'accuracy': 0.9506172839506173, 'mean_square_error': 0.09219393721168638, 'categorical_crossentropy': 0.14505540000067818, 'essential_metrics': {0: {'tp_hit': 72, 'fp_hit': 2, 'tn_hit': 28, 'fn_hit': 6}, 1: {'tp_hit': 16, 'fp_hit': 4, 'tn_hit': 88, 'fn_hit': 0}, 2: {'tp_hit': 12, 'fp_hit': 2, 'tn_hit': 92, 'fn_hit': 2}}, 'checkpoint': 300} \n",
      "\n",
      "\n",
      "{'accuracy': 0.9444444444444444, 'mean_square_error': 0.09514552030909845, 'categorical_crossentropy': 0.14657064720436377, 'essential_metrics': {0: {'tp_hit': 72, 'fp_hit': 3, 'tn_hit': 27, 'fn_hit': 6}, 1: {'tp_hit': 16, 'fp_hit': 4, 'tn_hit': 88, 'fn_hit': 0}, 2: {'tp_hit': 11, 'fp_hit': 2, 'tn_hit': 92, 'fn_hit': 3}}, 'checkpoint': 400} \n",
      "\n",
      "\n",
      "{'accuracy': 0.9506172839506173, 'mean_square_error': 0.09060820741798022, 'categorical_crossentropy': 0.13930023158038105, 'essential_metrics': {0: {'tp_hit': 73, 'fp_hit': 3, 'tn_hit': 27, 'fn_hit': 5}, 1: {'tp_hit': 16, 'fp_hit': 3, 'tn_hit': 89, 'fn_hit': 0}, 2: {'tp_hit': 11, 'fp_hit': 2, 'tn_hit': 92, 'fn_hit': 3}}, 'checkpoint': 500} \n",
      "\n",
      "\n"
     ]
    }
   ],
   "source": [
    "for checkpoint in checkpoints:\n",
    "    print(checkpoint, '\\n\\n')"
   ]
  },
  {
   "cell_type": "code",
   "execution_count": 13,
   "metadata": {},
   "outputs": [
    {
     "name": "stdout",
     "output_type": "stream",
     "text": [
      "Layer 1\n",
      "Neuron 0: weights:\n",
      "[-0.88763916 -3.          3.          3.          3.        ]\n",
      " bias: -1.0661369562149048\n",
      "\n",
      "Neuron 1: weights:\n",
      "[-2.3949745  3.         3.         0.8282774  3.       ]\n",
      " bias: -1.118654727935791\n",
      "\n",
      "Neuron 2: weights:\n",
      "[-0.5928801  3.         2.3252923 -3.        -3.       ]\n",
      " bias: 2.309394121170044\n",
      "\n",
      "Neuron 3: weights:\n",
      "[ 1.7179629  -3.         -3.         -0.01732733  3.        ]\n",
      " bias: 3.0\n",
      "\n",
      "$\n",
      "Layer 2\n",
      "Neuron 0: weights:\n",
      "[-3. -3.  3.  3.]\n",
      " bias: 0.23449000716209412\n",
      "\n",
      "Neuron 1: weights:\n",
      "[-1.6086869  3.         3.        -3.       ]\n",
      " bias: -0.6449382305145264\n",
      "\n",
      "Neuron 2: weights:\n",
      "[ 3.        -0.9236414 -3.         3.       ]\n",
      " bias: -1.239288330078125\n",
      "\n",
      "$\n",
      "\n"
     ]
    }
   ],
   "source": [
    "print(model)"
   ]
  }
 ],
 "metadata": {
  "kernelspec": {
   "display_name": "Python 3",
   "language": "python",
   "name": "python3"
  },
  "language_info": {
   "codemirror_mode": {
    "name": "ipython",
    "version": 3
   },
   "file_extension": ".py",
   "mimetype": "text/x-python",
   "name": "python",
   "nbconvert_exporter": "python",
   "pygments_lexer": "ipython3",
   "version": "3.6.10"
  }
 },
 "nbformat": 4,
 "nbformat_minor": 2
}
