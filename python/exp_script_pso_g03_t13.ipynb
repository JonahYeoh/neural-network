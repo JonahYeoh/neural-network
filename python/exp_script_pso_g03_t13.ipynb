{
 "cells": [
  {
   "cell_type": "code",
   "execution_count": 1,
   "metadata": {},
   "outputs": [],
   "source": [
    "# dependency\n",
    "import numpy as np\n",
    "import pandas as pd\n",
    "import copy\n",
    "import math\n",
    "import sys\n",
    "import os\n",
    "from activations import relu, leaky_relu, sigmoid, tanh, softmax, d_sigmoid, d_relu\n",
    "from initializers import glorot_uniform, random_normal, random_uniform\n",
    "from regularizers import l1_regularizer, l2_regularizer\n",
    "from utility import trim_tail, multiply, subtract, get_nparams, one_hot_encoding, get_data\n",
    "from metrics import MSE, CCE, ACC, PRECISION, RECALL, essential_metrics, wondering_penalty, close_gap_penalty\n",
    "from pso import PSO\n",
    "from ga import GA\n",
    "from nn import Network\n",
    "from layer import DenseLayer\n",
    "from scalers import MinMaxScaler, StandardScaler"
   ]
  },
  {
   "cell_type": "code",
   "execution_count": 2,
   "metadata": {},
   "outputs": [],
   "source": [
    "# reference\n",
    "metrics_fn_dict = dict()\n",
    "metrics_fn_dict['accuracy'] = ACC\n",
    "metrics_fn_dict['categorical_crossentropy'] = CCE\n",
    "metrics_fn_dict['mean_square_error'] = MSE\n",
    "metrics_fn_dict['precision'] = PRECISION\n",
    "metrics_fn_dict['recall'] = RECALL\n",
    "metrics_fn_dict['essential_metrics'] = essential_metrics"
   ]
  },
  {
   "cell_type": "code",
   "execution_count": 3,
   "metadata": {},
   "outputs": [],
   "source": [
    "# model\n",
    "model = Network(5, lr = None)\n",
    "model.add_layer(DenseLayer(1, 4, True, afn=sigmoid, dafn=None, rfn=None))\n",
    "model.add_layer(DenseLayer(2, 3, True, afn=softmax, dafn=None, rfn=None))"
   ]
  },
  {
   "cell_type": "code",
   "execution_count": 4,
   "metadata": {},
   "outputs": [
    {
     "name": "stdout",
     "output_type": "stream",
     "text": [
      "see one see two 2 2\n"
     ]
    }
   ],
   "source": [
    "pso = PSO(dict(m = 100,\n",
    "    weight_constraint = [-3, 3], \n",
    "    velocity_constraint = [-0.1, 0.1],\n",
    "    c1 = 2,\n",
    "    c2 = 2,\n",
    "    w = 1.2,\n",
    "    w_decay = 1,\n",
    "    scale_hyperparameter = False,\n",
    "    regularizer = None,\n",
    "    mask = True))"
   ]
  },
  {
   "cell_type": "code",
   "execution_count": 5,
   "metadata": {},
   "outputs": [
    {
     "name": "stdout",
     "output_type": "stream",
     "text": [
      "building layer 1 with 5\n",
      "24\n",
      "building layer 2 with 4\n",
      "15\n"
     ]
    }
   ],
   "source": [
    "model.compile(loss_fn = 'categorical_crossentropy', optimizer = pso, \\\n",
    "    metrics = ['accuracy', 'mean_square_error', 'categorical_crossentropy'])"
   ]
  },
  {
   "cell_type": "code",
   "execution_count": 6,
   "metadata": {
    "scrolled": false
   },
   "outputs": [
    {
     "name": "stdout",
     "output_type": "stream",
     "text": [
      "<class 'pandas.core.frame.DataFrame'>\n",
      "RangeIndex: 107 entries, 0 to 106\n",
      "Data columns (total 6 columns):\n",
      " #   Column  Non-Null Count  Dtype  \n",
      "---  ------  --------------  -----  \n",
      " 0   f1      107 non-null    float32\n",
      " 1   f2      107 non-null    float32\n",
      " 2   f3      107 non-null    float32\n",
      " 3   f4      107 non-null    float32\n",
      " 4   f5      107 non-null    float32\n",
      " 5   label   107 non-null    float32\n",
      "dtypes: float32(6)\n",
      "memory usage: 2.6 KB\n",
      "None\n",
      "<class 'pandas.core.frame.DataFrame'>\n",
      "RangeIndex: 108 entries, 0 to 107\n",
      "Data columns (total 6 columns):\n",
      " #   Column  Non-Null Count  Dtype  \n",
      "---  ------  --------------  -----  \n",
      " 0   f1      108 non-null    float32\n",
      " 1   f2      108 non-null    float32\n",
      " 2   f3      108 non-null    float32\n",
      " 3   f4      108 non-null    float32\n",
      " 4   f5      108 non-null    float32\n",
      " 5   label   108 non-null    float32\n",
      "dtypes: float32(6)\n",
      "memory usage: 2.7 KB\n",
      "None\n"
     ]
    }
   ],
   "source": [
    "# data loading\n",
    "DATA = os.path.join('c:\\\\Users\\\\Ai-lab\\\\github_repo\\\\neural-network\\\\', 'dataset')\n",
    "GROUP = 3\n",
    "COLUMNS = ['f1', 'f2', 'f3', 'f4', 'f5', 'label']\n",
    "N_CLASS = 3\n",
    "EPOCHS = 200\n",
    "train_dir, test_dir = \"..//dataset//training_data{}.txt\".format(GROUP), \"..//dataset//testing_data{}.txt\".format(GROUP)\n",
    "train, test = get_data(DATA, train_dir, COLUMNS), get_data(DATA, test_dir, COLUMNS)\n",
    "# shuffle\n",
    "train, test = train.sample(frac=1), test.sample(frac=1)\n",
    "x_train, y_train = train.drop('label', axis=1), train['label']\n",
    "x_test, y_test = test.drop('label', axis=1), test['label']"
   ]
  },
  {
   "cell_type": "code",
   "execution_count": 7,
   "metadata": {},
   "outputs": [],
   "source": [
    "# data scaling and encoding\n",
    "scaler = StandardScaler(['f1', 'f2', 'f3', 'f4', 'f5'])\n",
    "scaler.fit(x_train)\n",
    "x_train = scaler.transform(x_train)\n",
    "x_test = scaler.transform(x_test)\n",
    "y_train = one_hot_encoding(y_train, N_CLASS)\n",
    "y_test = one_hot_encoding(y_test, N_CLASS)"
   ]
  },
  {
   "cell_type": "code",
   "execution_count": 8,
   "metadata": {
    "tags": [
     "outputPrepend"
    ]
   },
   "outputs": [
    {
     "name": "stdout",
     "output_type": "stream",
     "text": [
      "Checkpoint 10, Accuracy: 0.8148148148148148, Loss: 0.6111284185338903\n",
      "Checkpoint 20, Accuracy: 0.8395061728395061, Loss: 0.5759208820484303\n",
      "Checkpoint 30, Accuracy: 0.9135802469135802, Loss: 0.49760087331136066\n",
      "Checkpoint 40, Accuracy: 0.9197530864197531, Loss: 0.38792984573929395\n",
      "Checkpoint 50, Accuracy: 0.9197530864197531, Loss: 0.3758147557576497\n",
      "Checkpoint 60, Accuracy: 0.8827160493827161, Loss: 0.42416597295690467\n",
      "Checkpoint 70, Accuracy: 0.8703703703703703, Loss: 0.43000510886863424\n",
      "Checkpoint 80, Accuracy: 0.9197530864197531, Loss: 0.32273603368688514\n",
      "Checkpoint 90, Accuracy: 0.9012345679012346, Loss: 0.3132920441804109\n",
      "Checkpoint 100, Accuracy: 0.9197530864197531, Loss: 0.30802825645164206\n",
      "Checkpoint 110, Accuracy: 0.9135802469135802, Loss: 0.2407777221114547\n",
      "Checkpoint 120, Accuracy: 0.9259259259259259, Loss: 0.22493980548999928\n",
      "Checkpoint 130, Accuracy: 0.9444444444444444, Loss: 0.1933421912016692\n",
      "Checkpoint 140, Accuracy: 0.9444444444444444, Loss: 0.17836254614370842\n",
      "Checkpoint 150, Accuracy: 0.9629629629629629, Loss: 0.14639070298936632\n",
      "Checkpoint 160, Accuracy: 0.9567901234567902, Loss: 0.14194984789247866\n",
      "Checkpoint 170, Accuracy: 0.9629629629629629, Loss: 0.14202363402755172\n",
      "Checkpoint 180, Accuracy: 0.9629629629629629, Loss: 0.13926812454506202\n",
      "Checkpoint 190, Accuracy: 0.9629629629629629, Loss: 0.14304726212112992\n",
      "Checkpoint 200, Accuracy: 0.9567901234567902, Loss: 0.12523589310822664\n"
     ]
    }
   ],
   "source": [
    "# learning phase\n",
    "breakpoint = 10\n",
    "checkpoints = list()\n",
    "history = list()\n",
    "for century in range(0, EPOCHS, breakpoint):\n",
    "    sub_history = model.fit(x_train, y_train, breakpoint, verbose = 0)\n",
    "    score = model.evaluate(x_test, y_test, False, verbose = 0)\n",
    "    print('Checkpoint {}, Accuracy: {}, Loss: {}'.format(century+breakpoint, score['accuracy'], score[model.loss_fn]))\n",
    "    score['checkpoint'] = century + breakpoint\n",
    "    checkpoints.append(score)\n",
    "    history.extend(sub_history)"
   ]
  },
  {
   "cell_type": "code",
   "execution_count": 9,
   "metadata": {},
   "outputs": [],
   "source": [
    "import matplotlib.pyplot as plt\n",
    "\n",
    "def draw_plot(x, y_list, x_label=None, y_label=None, legend=None, title=None):\n",
    "    fig, ax = plt.subplots(figsize=(12,5))\n",
    "    for xi, yi in zip(x, y_list):\n",
    "        ax.plot(xi, yi)\n",
    "    if x_label is not None and y_label is not None:\n",
    "        ax.set(xlabel=x_label, ylabel=y_label, title='{} VS {}'.format(x_label, y_label))\n",
    "    if legend is not None:\n",
    "        ax.legend(legend)\n",
    "    ax.grid()\n",
    "    plt.show()"
   ]
  },
  {
   "cell_type": "code",
   "execution_count": 10,
   "metadata": {},
   "outputs": [],
   "source": [
    "train_acc = [h['accuracy'] for h in history]\n",
    "train_mse = [h['mean_square_error'] for h in history]\n",
    "train_cce = [h['categorical_crossentropy'] for h in history]"
   ]
  },
  {
   "cell_type": "code",
   "execution_count": 11,
   "metadata": {},
   "outputs": [
    {
     "data": {
      "image/png": "[encoded data removed]",
      "text/plain": [
       "<Figure size 864x360 with 1 Axes>"
      ]
     },
     "metadata": {
      "needs_background": "light"
     },
     "output_type": "display_data"
    },
    {
     "data": {
      "image/png": "[encoded data removed]",
      "text/plain": [
       "<Figure size 864x360 with 1 Axes>"
      ]
     },
     "metadata": {
      "needs_background": "light"
     },
     "output_type": "display_data"
    }
   ],
   "source": [
    "draw_plot(x = [[i for i in range(len(history))], [(i+1)*breakpoint for i in range(len(checkpoints))]], y_list = [train_cce, [ ckp[model.loss_fn] for ckp in checkpoints ]], x_label = 'Epochs', \\\n",
    "    y_label = model.loss_fn, legend=['train', 'test'])\n",
    "acc = [ ckp['accuracy'] for ckp in checkpoints ]\n",
    "draw_plot(x = [[i for i in range(len(history))], [(i+1)*breakpoint for i in range(len(checkpoints))]], y_list = [train_acc, acc], x_label = 'Checkpoints', \\\n",
    "    y_label = 'accuracy', legend=['train', 'test'])"
   ]
  },
  {
   "cell_type": "code",
   "execution_count": 12,
   "metadata": {},
   "outputs": [
    {
     "name": "stdout",
     "output_type": "stream",
     "text": [
      "[1. 0. 0.] <-> [0.99033946 0.00735877 0.00230177]\n",
      "[1. 0. 0.] <-> [0.9947391  0.00390323 0.0013576 ]\n",
      "[1. 0. 0.] <-> [0.92123383 0.07573389 0.00303228]\n",
      "[1. 0. 0.] <-> [0.9979377  0.0010044  0.00105788]\n",
      "[1. 0. 0.] <-> [9.9626690e-01 2.7454437e-03 9.8769728e-04]\n",
      "[1. 0. 0.] <-> [0.98536956 0.00103064 0.01359981]\n",
      "[1. 0. 0.] <-> [0.9957624  0.00245602 0.00178166]\n",
      "[1. 0. 0.] <-> [0.8417572  0.05586728 0.10237557]\n",
      "[1. 0. 0.] <-> [0.6827731  0.001587   0.31563985]\n",
      "[1. 0. 0.] <-> [0.98063546 0.01660205 0.00276246]\n",
      "[1. 0. 0.] <-> [0.9977539  0.00108977 0.00115635]\n",
      "[1. 0. 0.] <-> [0.99698335 0.00124504 0.00177151]\n",
      "[1. 0. 0.] <-> [0.7975285  0.19890477 0.00356671]\n",
      "[1. 0. 0.] <-> [0.99596065 0.00273291 0.00130648]\n",
      "[1. 0. 0.] <-> [0.99363637 0.00127329 0.00509034]\n",
      "[0. 1. 0.] <-> [6.5987166e-03 9.9296689e-01 4.3437525e-04]\n",
      "[0. 0. 1.] <-> [0.8040169  0.00094181 0.19504131]\n",
      "[0. 0. 1.] <-> [0.5338178  0.00067259 0.46550956]\n",
      "[0. 1. 0.] <-> [1.9349413e-02 9.7995514e-01 6.9548190e-04]\n",
      "[1. 0. 0.] <-> [0.99692553 0.00104353 0.00203093]\n",
      "[1. 0. 0.] <-> [0.9973097  0.00106185 0.00162858]\n",
      "[1. 0. 0.] <-> [0.99324954 0.00515337 0.00159712]\n",
      "[1. 0. 0.] <-> [0.6581531  0.33568683 0.00616013]\n",
      "[1. 0. 0.] <-> [0.9950229  0.00111172 0.0038655 ]\n",
      "[0. 0. 1.] <-> [2.809235e-02 8.967588e-05 9.718179e-01]\n",
      "[1. 0. 0.] <-> [9.9751508e-01 1.5432342e-03 9.4166136e-04]\n",
      "[1. 0. 0.] <-> [0.6618382  0.33061647 0.00754533]\n",
      "[1. 0. 0.] <-> [0.98999816 0.00719456 0.00280732]\n",
      "[1. 0. 0.] <-> [0.99713093 0.00187111 0.00099806]\n",
      "[1. 0. 0.] <-> [0.9971244  0.00126472 0.00161083]\n",
      "[1. 0. 0.] <-> [0.99764425 0.00110678 0.001249  ]\n",
      "[0. 1. 0.] <-> [7.7979248e-03 9.9145460e-01 7.4746186e-04]\n",
      "[0. 1. 0.] <-> [0.0335911  0.96509725 0.00131172]\n",
      "[1. 0. 0.] <-> [0.9882968  0.01028141 0.00142174]\n",
      "[1. 0. 0.] <-> [0.9774226  0.00101197 0.02156551]\n",
      "[1. 0. 0.] <-> [0.9320343  0.00208102 0.06588462]\n",
      "[1. 0. 0.] <-> [0.9976883  0.00119011 0.00112152]\n",
      "[0. 0. 1.] <-> [0.6649494  0.00128697 0.33376357]\n",
      "[0. 1. 0.] <-> [0.00303043 0.992806   0.00416367]\n",
      "[1. 0. 0.] <-> [0.2276442  0.76874983 0.00360605]\n",
      "[1. 0. 0.] <-> [0.99739194 0.00110365 0.0015044 ]\n",
      "[0. 0. 1.] <-> [2.2044922e-01 4.4475152e-04 7.7910602e-01]\n",
      "[0. 0. 1.] <-> [2.9996521e-04 3.4364098e-04 9.9935645e-01]\n",
      "[0. 0. 1.] <-> [3.3906672e-02 1.3048192e-04 9.6596289e-01]\n",
      "[1. 0. 0.] <-> [0.9941916  0.00163268 0.00417571]\n",
      "[1. 0. 0.] <-> [0.99398154 0.00197499 0.00404336]\n",
      "[1. 0. 0.] <-> [0.9941248  0.00315541 0.00271977]\n",
      "[1. 0. 0.] <-> [9.9778616e-01 9.5855090e-04 1.2552724e-03]\n",
      "[1. 0. 0.] <-> [0.99653    0.00220976 0.00126026]\n",
      "[0. 0. 1.] <-> [5.2092536e-03 1.3994673e-04 9.9465078e-01]\n",
      "[0. 1. 0.] <-> [0.00472418 0.99412364 0.00115219]\n",
      "[1. 0. 0.] <-> [0.9968359  0.00161761 0.00154648]\n",
      "[1. 0. 0.] <-> [0.878684   0.00124801 0.1200681 ]\n",
      "[1. 0. 0.] <-> [0.9968534  0.00195072 0.00119587]\n",
      "[1. 0. 0.] <-> [0.9963683  0.00254661 0.00108509]\n",
      "[1. 0. 0.] <-> [0.9914898  0.00099529 0.0075148 ]\n",
      "[1. 0. 0.] <-> [0.91283387 0.0254073  0.06175881]\n",
      "[1. 0. 0.] <-> [0.48373494 0.0016628  0.51460224]\n",
      "[0. 0. 1.] <-> [2.4432397e-02 8.6003631e-05 9.7548157e-01]\n",
      "[1. 0. 0.] <-> [9.976751e-01 1.350983e-03 9.739651e-04]\n",
      "[0. 0. 1.] <-> [2.8945337e-04 3.4751432e-04 9.9936301e-01]\n",
      "[1. 0. 0.] <-> [0.9975349  0.00143894 0.0010262 ]\n",
      "[1. 0. 0.] <-> [0.9944193  0.0009966  0.00458413]\n",
      "[1. 0. 0.] <-> [0.98752147 0.00170885 0.01076969]\n",
      "[1. 0. 0.] <-> [0.99579644 0.00171784 0.0024857 ]\n",
      "[1. 0. 0.] <-> [0.99746144 0.00107755 0.00146106]\n",
      "[1. 0. 0.] <-> [0.9938964  0.00111799 0.00498556]\n",
      "[1. 0. 0.] <-> [0.9753416  0.00538596 0.01927239]\n",
      "[1. 0. 0.] <-> [0.99720937 0.0013555  0.00143504]\n",
      "[1. 0. 0.] <-> [0.997122   0.00177502 0.00110297]\n",
      "[0. 1. 0.] <-> [5.1764147e-03 9.9389958e-01 9.2405890e-04]\n",
      "[1. 0. 0.] <-> [0.99177027 0.00105432 0.00717534]\n",
      "[1. 0. 0.] <-> [0.26876643 0.7290174  0.00221622]\n",
      "[1. 0. 0.] <-> [0.9970938  0.00114362 0.00176261]\n",
      "[1. 0. 0.] <-> [0.9968754  0.00184253 0.00128206]\n",
      "[1. 0. 0.] <-> [0.97593576 0.00153583 0.02252838]\n",
      "[1. 0. 0.] <-> [9.9689496e-01 2.1470806e-03 9.5795182e-04]\n",
      "[1. 0. 0.] <-> [9.9788457e-01 1.1824315e-03 9.3294104e-04]\n",
      "[1. 0. 0.] <-> [0.9723188  0.02574617 0.00193502]\n",
      "[1. 0. 0.] <-> [0.99744886 0.00141065 0.00114045]\n",
      "[0. 1. 0.] <-> [0.00254586 0.9906061  0.00684801]\n",
      "[1. 0. 0.] <-> [0.8205122  0.1750532  0.00443463]\n",
      "[0. 1. 0.] <-> [0.09055509 0.90814066 0.00130421]\n",
      "[0. 1. 0.] <-> [0.00484548 0.9940818  0.00107272]\n",
      "[0. 0. 1.] <-> [4.0998898e-02 1.1843137e-04 9.5888269e-01]\n",
      "[0. 1. 0.] <-> [6.0869223e-03 9.9335164e-01 5.6142616e-04]\n",
      "[1. 0. 0.] <-> [0.9405334  0.00225049 0.05721609]\n",
      "[1. 0. 0.] <-> [0.99692243 0.0014985  0.00157903]\n",
      "[0. 0. 1.] <-> [3.8356066e-02 1.3283905e-04 9.6151108e-01]\n",
      "[0. 1. 0.] <-> [2.7047850e-02 9.7217125e-01 7.8083115e-04]\n",
      "[1. 0. 0.] <-> [0.9945452  0.00101921 0.00443549]\n",
      "[1. 0. 0.] <-> [0.9956572  0.00305335 0.00128944]\n",
      "[0. 1. 0.] <-> [0.34624133 0.65162766 0.00213103]\n",
      "[1. 0. 0.] <-> [9.9763560e-01 1.4855387e-03 8.7883527e-04]\n",
      "[0. 1. 0.] <-> [1.9296838e-02 9.8002177e-01 6.8141683e-04]\n",
      "[1. 0. 0.] <-> [0.9944998  0.00297469 0.00252546]\n",
      "[1. 0. 0.] <-> [0.9702729  0.02635151 0.0033756 ]\n",
      "[1. 0. 0.] <-> [0.9672065  0.00101515 0.03177844]\n",
      "[1. 0. 0.] <-> [0.9862919  0.00356277 0.01014533]\n",
      "[1. 0. 0.] <-> [0.996411   0.00197309 0.00161596]\n",
      "[0. 1. 0.] <-> [0.49563593 0.5023409  0.00202317]\n",
      "[1. 0. 0.] <-> [0.99645364 0.00137068 0.00217565]\n",
      "[1. 0. 0.] <-> [9.964426e-01 2.652749e-03 9.046460e-04]\n",
      "[1. 0. 0.] <-> [0.9961085  0.001219   0.00267245]\n",
      "[0. 1. 0.] <-> [6.3909455e-03 9.9313205e-01 4.7699574e-04]\n",
      "[1. 0. 0.] <-> [1.5083726e-01 4.8643115e-04 8.4867632e-01]\n",
      "[0. 0. 1.] <-> [3.67369726e-02 1.09289074e-04 9.63153780e-01]\n",
      "[0. 0. 1.] <-> [7.8086659e-02 1.8928137e-04 9.2172408e-01]\n",
      "{'accuracy': 0.9567901234567902, 'mean_square_error': 0.08125007863329248, 'categorical_crossentropy': 0.12523589310822664, 'essential_metrics': {0: {'tp_hit': 74, 'fp_hit': 3, 'tn_hit': 27, 'fn_hit': 4}, 1: {'tp_hit': 16, 'fp_hit': 2, 'tn_hit': 90, 'fn_hit': 0}, 2: {'tp_hit': 11, 'fp_hit': 2, 'tn_hit': 92, 'fn_hit': 3}}}\n"
     ]
    }
   ],
   "source": [
    "# recall phase\n",
    "score = model.evaluate(x_test, y_test, False)\n",
    "print(score)"
   ]
  },
  {
   "cell_type": "code",
   "execution_count": 13,
   "metadata": {},
   "outputs": [
    {
     "name": "stdout",
     "output_type": "stream",
     "text": [
      "{'accuracy': 0.8148148148148148, 'mean_square_error': 0.36665098512739425, 'categorical_crossentropy': 0.6111284185338903, 'essential_metrics': {0: {'tp_hit': 78, 'fp_hit': 30, 'tn_hit': 0, 'fn_hit': 0}, 1: {'tp_hit': 0, 'fp_hit': 0, 'tn_hit': 92, 'fn_hit': 16}, 2: {'tp_hit': 0, 'fp_hit': 0, 'tn_hit': 94, 'fn_hit': 14}}, 'checkpoint': 10} \n",
      "\n",
      "\n",
      "{'accuracy': 0.8395061728395061, 'mean_square_error': 0.3466806886777186, 'categorical_crossentropy': 0.5759208820484303, 'essential_metrics': {0: {'tp_hit': 78, 'fp_hit': 26, 'tn_hit': 4, 'fn_hit': 0}, 1: {'tp_hit': 4, 'fp_hit': 0, 'tn_hit': 92, 'fn_hit': 12}, 2: {'tp_hit': 0, 'fp_hit': 0, 'tn_hit': 94, 'fn_hit': 14}}, 'checkpoint': 20} \n",
      "\n",
      "\n",
      "{'accuracy': 0.9135802469135802, 'mean_square_error': 0.28019387642758403, 'categorical_crossentropy': 0.49760087331136066, 'essential_metrics': {0: {'tp_hit': 73, 'fp_hit': 9, 'tn_hit': 21, 'fn_hit': 5}, 1: {'tp_hit': 15, 'fp_hit': 3, 'tn_hit': 89, 'fn_hit': 1}, 2: {'tp_hit': 6, 'fp_hit': 2, 'tn_hit': 92, 'fn_hit': 8}}, 'checkpoint': 30} \n",
      "\n",
      "\n",
      "{'accuracy': 0.9197530864197531, 'mean_square_error': 0.20879124484315092, 'categorical_crossentropy': 0.38792984573929395, 'essential_metrics': {0: {'tp_hit': 78, 'fp_hit': 13, 'tn_hit': 17, 'fn_hit': 0}, 1: {'tp_hit': 12, 'fp_hit': 0, 'tn_hit': 92, 'fn_hit': 4}, 2: {'tp_hit': 5, 'fp_hit': 0, 'tn_hit': 94, 'fn_hit': 9}}, 'checkpoint': 40} \n",
      "\n",
      "\n",
      "{'accuracy': 0.9197530864197531, 'mean_square_error': 0.20661765759526118, 'categorical_crossentropy': 0.3758147557576497, 'essential_metrics': {0: {'tp_hit': 78, 'fp_hit': 13, 'tn_hit': 17, 'fn_hit': 0}, 1: {'tp_hit': 12, 'fp_hit': 0, 'tn_hit': 92, 'fn_hit': 4}, 2: {'tp_hit': 5, 'fp_hit': 0, 'tn_hit': 94, 'fn_hit': 9}}, 'checkpoint': 50} \n",
      "\n",
      "\n",
      "{'accuracy': 0.8827160493827161, 'mean_square_error': 0.25315628830408937, 'categorical_crossentropy': 0.42416597295690467, 'essential_metrics': {0: {'tp_hit': 76, 'fp_hit': 17, 'tn_hit': 13, 'fn_hit': 2}, 1: {'tp_hit': 10, 'fp_hit': 2, 'tn_hit': 90, 'fn_hit': 6}, 2: {'tp_hit': 3, 'fp_hit': 0, 'tn_hit': 94, 'fn_hit': 11}}, 'checkpoint': 60} \n",
      "\n",
      "\n",
      "{'accuracy': 0.8703703703703703, 'mean_square_error': 0.25750860738647524, 'categorical_crossentropy': 0.43000510886863424, 'essential_metrics': {0: {'tp_hit': 73, 'fp_hit': 16, 'tn_hit': 14, 'fn_hit': 5}, 1: {'tp_hit': 10, 'fp_hit': 5, 'tn_hit': 87, 'fn_hit': 6}, 2: {'tp_hit': 4, 'fp_hit': 0, 'tn_hit': 94, 'fn_hit': 10}}, 'checkpoint': 70} \n",
      "\n",
      "\n",
      "{'accuracy': 0.9197530864197531, 'mean_square_error': 0.18223577744113828, 'categorical_crossentropy': 0.32273603368688514, 'essential_metrics': {0: {'tp_hit': 78, 'fp_hit': 13, 'tn_hit': 17, 'fn_hit': 0}, 1: {'tp_hit': 12, 'fp_hit': 0, 'tn_hit': 92, 'fn_hit': 4}, 2: {'tp_hit': 5, 'fp_hit': 0, 'tn_hit': 94, 'fn_hit': 9}}, 'checkpoint': 80} \n",
      "\n",
      "\n",
      "{'accuracy': 0.9012345679012346, 'mean_square_error': 0.18973142019087486, 'categorical_crossentropy': 0.3132920441804109, 'essential_metrics': {0: {'tp_hit': 78, 'fp_hit': 16, 'tn_hit': 14, 'fn_hit': 0}, 1: {'tp_hit': 10, 'fp_hit': 0, 'tn_hit': 92, 'fn_hit': 6}, 2: {'tp_hit': 4, 'fp_hit': 0, 'tn_hit': 94, 'fn_hit': 10}}, 'checkpoint': 90} \n",
      "\n",
      "\n",
      "{'accuracy': 0.9197530864197531, 'mean_square_error': 0.18196785064696328, 'categorical_crossentropy': 0.30802825645164206, 'essential_metrics': {0: {'tp_hit': 78, 'fp_hit': 13, 'tn_hit': 17, 'fn_hit': 0}, 1: {'tp_hit': 13, 'fp_hit': 0, 'tn_hit': 92, 'fn_hit': 3}, 2: {'tp_hit': 4, 'fp_hit': 0, 'tn_hit': 94, 'fn_hit': 10}}, 'checkpoint': 100} \n",
      "\n",
      "\n",
      "{'accuracy': 0.9135802469135802, 'mean_square_error': 0.1420090492022058, 'categorical_crossentropy': 0.2407777221114547, 'essential_metrics': {0: {'tp_hit': 78, 'fp_hit': 14, 'tn_hit': 16, 'fn_hit': 0}, 1: {'tp_hit': 12, 'fp_hit': 0, 'tn_hit': 92, 'fn_hit': 4}, 2: {'tp_hit': 4, 'fp_hit': 0, 'tn_hit': 94, 'fn_hit': 10}}, 'checkpoint': 110} \n",
      "\n",
      "\n",
      "{'accuracy': 0.9259259259259259, 'mean_square_error': 0.13196309450402452, 'categorical_crossentropy': 0.22493980548999928, 'essential_metrics': {0: {'tp_hit': 77, 'fp_hit': 11, 'tn_hit': 19, 'fn_hit': 1}, 1: {'tp_hit': 14, 'fp_hit': 1, 'tn_hit': 91, 'fn_hit': 2}, 2: {'tp_hit': 5, 'fp_hit': 0, 'tn_hit': 94, 'fn_hit': 9}}, 'checkpoint': 120} \n",
      "\n",
      "\n",
      "{'accuracy': 0.9444444444444444, 'mean_square_error': 0.10539141302674487, 'categorical_crossentropy': 0.1933421912016692, 'essential_metrics': {0: {'tp_hit': 75, 'fp_hit': 6, 'tn_hit': 24, 'fn_hit': 3}, 1: {'tp_hit': 14, 'fp_hit': 2, 'tn_hit': 90, 'fn_hit': 2}, 2: {'tp_hit': 10, 'fp_hit': 1, 'tn_hit': 93, 'fn_hit': 4}}, 'checkpoint': 130} \n",
      "\n",
      "\n",
      "{'accuracy': 0.9444444444444444, 'mean_square_error': 0.1005631126402597, 'categorical_crossentropy': 0.17836254614370842, 'essential_metrics': {0: {'tp_hit': 75, 'fp_hit': 6, 'tn_hit': 24, 'fn_hit': 3}, 1: {'tp_hit': 14, 'fp_hit': 2, 'tn_hit': 90, 'fn_hit': 2}, 2: {'tp_hit': 10, 'fp_hit': 1, 'tn_hit': 93, 'fn_hit': 4}}, 'checkpoint': 140} \n",
      "\n",
      "\n",
      "{'accuracy': 0.9629629629629629, 'mean_square_error': 0.08204511356992113, 'categorical_crossentropy': 0.14639070298936632, 'essential_metrics': {0: {'tp_hit': 75, 'fp_hit': 3, 'tn_hit': 27, 'fn_hit': 3}, 1: {'tp_hit': 15, 'fp_hit': 2, 'tn_hit': 90, 'fn_hit': 1}, 2: {'tp_hit': 12, 'fp_hit': 1, 'tn_hit': 93, 'fn_hit': 2}}, 'checkpoint': 150} \n",
      "\n",
      "\n",
      "{'accuracy': 0.9567901234567902, 'mean_square_error': 0.08264277203499532, 'categorical_crossentropy': 0.14194984789247866, 'essential_metrics': {0: {'tp_hit': 75, 'fp_hit': 4, 'tn_hit': 26, 'fn_hit': 3}, 1: {'tp_hit': 14, 'fp_hit': 2, 'tn_hit': 90, 'fn_hit': 2}, 2: {'tp_hit': 12, 'fp_hit': 1, 'tn_hit': 93, 'fn_hit': 2}}, 'checkpoint': 160} \n",
      "\n",
      "\n",
      "{'accuracy': 0.9629629629629629, 'mean_square_error': 0.08733308955411288, 'categorical_crossentropy': 0.14202363402755172, 'essential_metrics': {0: {'tp_hit': 75, 'fp_hit': 3, 'tn_hit': 27, 'fn_hit': 3}, 1: {'tp_hit': 15, 'fp_hit': 2, 'tn_hit': 90, 'fn_hit': 1}, 2: {'tp_hit': 12, 'fp_hit': 1, 'tn_hit': 93, 'fn_hit': 2}}, 'checkpoint': 170} \n",
      "\n",
      "\n",
      "{'accuracy': 0.9629629629629629, 'mean_square_error': 0.08539340975346403, 'categorical_crossentropy': 0.13926812454506202, 'essential_metrics': {0: {'tp_hit': 74, 'fp_hit': 2, 'tn_hit': 28, 'fn_hit': 4}, 1: {'tp_hit': 16, 'fp_hit': 2, 'tn_hit': 90, 'fn_hit': 0}, 2: {'tp_hit': 12, 'fp_hit': 2, 'tn_hit': 92, 'fn_hit': 2}}, 'checkpoint': 180} \n",
      "\n",
      "\n",
      "{'accuracy': 0.9629629629629629, 'mean_square_error': 0.09186476970247864, 'categorical_crossentropy': 0.14304726212112992, 'essential_metrics': {0: {'tp_hit': 75, 'fp_hit': 3, 'tn_hit': 27, 'fn_hit': 3}, 1: {'tp_hit': 15, 'fp_hit': 2, 'tn_hit': 90, 'fn_hit': 1}, 2: {'tp_hit': 12, 'fp_hit': 1, 'tn_hit': 93, 'fn_hit': 2}}, 'checkpoint': 190} \n",
      "\n",
      "\n",
      "{'accuracy': 0.9567901234567902, 'mean_square_error': 0.08125007863329248, 'categorical_crossentropy': 0.12523589310822664, 'essential_metrics': {0: {'tp_hit': 74, 'fp_hit': 3, 'tn_hit': 27, 'fn_hit': 4}, 1: {'tp_hit': 16, 'fp_hit': 2, 'tn_hit': 90, 'fn_hit': 0}, 2: {'tp_hit': 11, 'fp_hit': 2, 'tn_hit': 92, 'fn_hit': 3}}, 'checkpoint': 200} \n",
      "\n",
      "\n"
     ]
    }
   ],
   "source": [
    "for checkpoint in checkpoints:\n",
    "    print(checkpoint, '\\n\\n')"
   ]
  },
  {
   "cell_type": "code",
   "execution_count": 14,
   "metadata": {},
   "outputs": [
    {
     "name": "stdout",
     "output_type": "stream",
     "text": [
      "Layer 1\n",
      "Neuron 0: weights:\n",
      "[ 2.0354261 -3.        -2.6445258 -3.        -1.6615247]\n",
      " bias: 1.0774592161178589\n",
      "\n",
      "Neuron 1: weights:\n",
      "[-0.65937936 -2.994539    3.          2.2191417   2.6578877 ]\n",
      " bias: -1.1831438541412354\n",
      "\n",
      "Neuron 2: weights:\n",
      "[-2.0031254  3.         3.        -0.6305621 -2.158247 ]\n",
      " bias: -3.0\n",
      "\n",
      "Neuron 3: weights:\n",
      "[ 0.47644207 -3.         -1.4837922   3.          3.        ]\n",
      " bias: -1.9146993160247803\n",
      "\n",
      "$\n",
      "Layer 2\n",
      "Neuron 0: weights:\n",
      "[ 3. -3. -3. -3.]\n",
      " bias: 0.6996506452560425\n",
      "\n",
      "Neuron 1: weights:\n",
      "[-3.        -1.7332959  3.        -3.       ]\n",
      " bias: -0.288076788187027\n",
      "\n",
      "Neuron 2: weights:\n",
      "[-1.5710427  1.946955  -3.         3.       ]\n",
      " bias: -2.027125597000122\n",
      "\n",
      "$\n",
      "\n"
     ]
    }
   ],
   "source": [
    "print(model)"
   ]
  },
  {
   "cell_type": "code",
   "execution_count": null,
   "metadata": {},
   "outputs": [],
   "source": []
  }
 ],
 "metadata": {
  "kernelspec": {
   "display_name": "Python 3",
   "language": "python",
   "name": "python3"
  },
  "language_info": {
   "codemirror_mode": {
    "name": "ipython",
    "version": 3
   },
   "file_extension": ".py",
   "mimetype": "text/x-python",
   "name": "python",
   "nbconvert_exporter": "python",
   "pygments_lexer": "ipython3",
   "version": "3.6.12"
  }
 },
 "nbformat": 4,
 "nbformat_minor": 2
}
