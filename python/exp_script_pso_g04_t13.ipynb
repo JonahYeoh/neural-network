{
 "cells": [
  {
   "cell_type": "code",
   "execution_count": 1,
   "metadata": {},
   "outputs": [],
   "source": [
    "# dependency\n",
    "import numpy as np\n",
    "import pandas as pd\n",
    "import copy\n",
    "import math\n",
    "import sys\n",
    "import os\n",
    "from activations import relu, leaky_relu, sigmoid, tanh, softmax, d_sigmoid, d_relu\n",
    "from initializers import glorot_uniform, random_normal, random_uniform\n",
    "from regularizers import l1_regularizer, l2_regularizer\n",
    "from utility import trim_tail, multiply, subtract, get_nparams, one_hot_encoding, get_data\n",
    "from metrics import MSE, CCE, ACC, PRECISION, RECALL, essential_metrics, wondering_penalty, close_gap_penalty\n",
    "from pso import PSO\n",
    "from ga import GA\n",
    "from nn import Network\n",
    "from layer import DenseLayer\n",
    "from scalers import MinMaxScaler, StandardScaler"
   ]
  },
  {
   "cell_type": "code",
   "execution_count": 2,
   "metadata": {},
   "outputs": [],
   "source": [
    "# reference\n",
    "metrics_fn_dict = dict()\n",
    "metrics_fn_dict['accuracy'] = ACC\n",
    "metrics_fn_dict['categorical_crossentropy'] = CCE\n",
    "metrics_fn_dict['mean_square_error'] = MSE\n",
    "metrics_fn_dict['precision'] = PRECISION\n",
    "metrics_fn_dict['recall'] = RECALL\n",
    "metrics_fn_dict['essential_metrics'] = essential_metrics"
   ]
  },
  {
   "cell_type": "code",
   "execution_count": 3,
   "metadata": {},
   "outputs": [],
   "source": [
    "# model\n",
    "model = Network(5, lr = None)\n",
    "model.add_layer(DenseLayer(1, 4, True, afn=sigmoid, dafn=None, rfn=None))\n",
    "model.add_layer(DenseLayer(2, 3, True, afn=softmax, dafn=None, rfn=None))"
   ]
  },
  {
   "cell_type": "code",
   "execution_count": 4,
   "metadata": {},
   "outputs": [
    {
     "name": "stdout",
     "output_type": "stream",
     "text": [
      "see one see two 2 2\n"
     ]
    }
   ],
   "source": [
    "pso = PSO(dict(m = 100,\n",
    "    weight_constraint = [-3, 3], \n",
    "    velocity_constraint = [-0.1, 0.1],\n",
    "    c1 = 2,\n",
    "    c2 = 2,\n",
    "    w = 1.2,\n",
    "    w_decay = 1,\n",
    "    scale_hyperparameter = False,\n",
    "    regularizer = None,\n",
    "    mask = True))"
   ]
  },
  {
   "cell_type": "code",
   "execution_count": 5,
   "metadata": {},
   "outputs": [
    {
     "name": "stdout",
     "output_type": "stream",
     "text": [
      "building layer 1 with 5\n",
      "24\n",
      "building layer 2 with 4\n",
      "15\n"
     ]
    }
   ],
   "source": [
    "model.compile(loss_fn = 'categorical_crossentropy', optimizer = pso, \\\n",
    "    metrics = ['accuracy', 'mean_square_error', 'categorical_crossentropy'])"
   ]
  },
  {
   "cell_type": "code",
   "execution_count": 6,
   "metadata": {},
   "outputs": [
    {
     "name": "stdout",
     "output_type": "stream",
     "text": [
      "<class 'pandas.core.frame.DataFrame'>\n",
      "RangeIndex: 107 entries, 0 to 106\n",
      "Data columns (total 6 columns):\n",
      " #   Column  Non-Null Count  Dtype  \n",
      "---  ------  --------------  -----  \n",
      " 0   f1      107 non-null    float32\n",
      " 1   f2      107 non-null    float32\n",
      " 2   f3      107 non-null    float32\n",
      " 3   f4      107 non-null    float32\n",
      " 4   f5      107 non-null    float32\n",
      " 5   label   107 non-null    float32\n",
      "dtypes: float32(6)\n",
      "memory usage: 2.6 KB\n",
      "None\n",
      "<class 'pandas.core.frame.DataFrame'>\n",
      "RangeIndex: 108 entries, 0 to 107\n",
      "Data columns (total 6 columns):\n",
      " #   Column  Non-Null Count  Dtype  \n",
      "---  ------  --------------  -----  \n",
      " 0   f1      108 non-null    float32\n",
      " 1   f2      108 non-null    float32\n",
      " 2   f3      108 non-null    float32\n",
      " 3   f4      108 non-null    float32\n",
      " 4   f5      108 non-null    float32\n",
      " 5   label   108 non-null    float32\n",
      "dtypes: float32(6)\n",
      "memory usage: 2.7 KB\n",
      "None\n"
     ]
    }
   ],
   "source": [
    "# data loading\n",
    "DATA = os.path.join('c:\\\\Users\\\\AI-lab\\\\github_repo\\\\neural-network\\\\', 'dataset')\n",
    "GROUP = 4\n",
    "COLUMNS = ['f1', 'f2', 'f3', 'f4', 'f5', 'label']\n",
    "N_CLASS = 3\n",
    "EPOCHS = 200\n",
    "train_dir, test_dir = \"..//dataset//training_data{}.txt\".format(GROUP), \"..//dataset//testing_data{}.txt\".format(GROUP)\n",
    "train, test = get_data(DATA, train_dir, COLUMNS), get_data(DATA, test_dir, COLUMNS)\n",
    "# shuffle\n",
    "train, test = train.sample(frac=1), test.sample(frac=1)\n",
    "x_train, y_train = train.drop('label', axis=1), train['label']\n",
    "x_test, y_test = test.drop('label', axis=1), test['label']"
   ]
  },
  {
   "cell_type": "code",
   "execution_count": 7,
   "metadata": {},
   "outputs": [],
   "source": [
    "# data scaling and encoding\n",
    "scaler = StandardScaler(['f1', 'f2', 'f3', 'f4', 'f5'])\n",
    "scaler.fit(x_train)\n",
    "x_train = scaler.transform(x_train)\n",
    "x_test = scaler.transform(x_test)\n",
    "y_train = one_hot_encoding(y_train, N_CLASS)\n",
    "y_test = one_hot_encoding(y_test, N_CLASS)"
   ]
  },
  {
   "cell_type": "code",
   "execution_count": 8,
   "metadata": {
    "tags": [
     "outputPrepend"
    ]
   },
   "outputs": [
    {
     "name": "stdout",
     "output_type": "stream",
     "text": [
      "Checkpoint 10, Accuracy: 0.8765432098765432, Loss: 0.6017263906973379\n",
      "Checkpoint 20, Accuracy: 0.8765432098765432, Loss: 0.593929997196904\n",
      "Checkpoint 30, Accuracy: 0.8888888888888888, Loss: 0.5331509201614945\n",
      "Checkpoint 40, Accuracy: 0.8641975308641975, Loss: 0.5225650646068432\n",
      "Checkpoint 50, Accuracy: 0.8888888888888888, Loss: 0.5155584547254775\n",
      "Checkpoint 60, Accuracy: 0.8888888888888888, Loss: 0.5164635269730179\n",
      "Checkpoint 70, Accuracy: 0.8950617283950617, Loss: 0.4503546820746528\n",
      "Checkpoint 80, Accuracy: 0.9259259259259259, Loss: 0.37715254889594185\n",
      "Checkpoint 90, Accuracy: 0.9135802469135802, Loss: 0.32083649105495876\n",
      "Checkpoint 100, Accuracy: 0.9320987654320988, Loss: 0.3129610838713469\n",
      "Checkpoint 110, Accuracy: 0.9444444444444444, Loss: 0.2668227089775933\n",
      "Checkpoint 120, Accuracy: 0.9444444444444444, Loss: 0.2786229098284686\n",
      "Checkpoint 130, Accuracy: 0.9382716049382716, Loss: 0.27594887768780746\n",
      "Checkpoint 140, Accuracy: 0.9444444444444444, Loss: 0.24182118309868705\n",
      "Checkpoint 150, Accuracy: 0.9506172839506173, Loss: 0.2081131758513274\n",
      "Checkpoint 160, Accuracy: 0.9444444444444444, Loss: 0.18097932250411422\n",
      "Checkpoint 170, Accuracy: 0.9629629629629629, Loss: 0.16133979514793115\n",
      "Checkpoint 180, Accuracy: 0.9567901234567902, Loss: 0.14333059169628\n",
      "Checkpoint 190, Accuracy: 0.9629629629629629, Loss: 0.1329179428241871\n",
      "Checkpoint 200, Accuracy: 0.9567901234567902, Loss: 0.13178601088347258\n"
     ]
    }
   ],
   "source": [
    "# learning phase\n",
    "breakpoint = 10\n",
    "checkpoints = list()\n",
    "history = list()\n",
    "for century in range(0, EPOCHS, breakpoint):\n",
    "    sub_history = model.fit(x_train, y_train, breakpoint, verbose = 0)\n",
    "    score = model.evaluate(x_test, y_test, False, verbose = 0)\n",
    "    print('Checkpoint {}, Accuracy: {}, Loss: {}'.format(century+breakpoint, score['accuracy'], score[model.loss_fn]))\n",
    "    score['checkpoint'] = century + breakpoint\n",
    "    checkpoints.append(score)\n",
    "    history.extend(sub_history)"
   ]
  },
  {
   "cell_type": "code",
   "execution_count": 9,
   "metadata": {},
   "outputs": [],
   "source": [
    "import matplotlib.pyplot as plt\n",
    "\n",
    "def draw_plot(x, y_list, x_label=None, y_label=None, legend=None, title=None):\n",
    "    fig, ax = plt.subplots(figsize=(12,5))\n",
    "    for xi, yi in zip(x, y_list):\n",
    "        ax.plot(xi, yi)\n",
    "    if x_label is not None and y_label is not None:\n",
    "        ax.set(xlabel=x_label, ylabel=y_label, title='{} VS {}'.format(x_label, y_label))\n",
    "    if legend is not None:\n",
    "        ax.legend(legend)\n",
    "    ax.grid()\n",
    "    plt.show()"
   ]
  },
  {
   "cell_type": "code",
   "execution_count": 10,
   "metadata": {},
   "outputs": [
    {
     "name": "stdout",
     "output_type": "stream",
     "text": [
      "[0. 1. 0.] <-> [6.6392913e-02 9.3328923e-01 3.1787818e-04]\n",
      "[1. 0. 0.] <-> [0.9037604  0.09256396 0.00367564]\n",
      "[0. 1. 0.] <-> [2.06632409e-02 9.79231596e-01 1.05190236e-04]\n",
      "[0. 0. 1.] <-> [2.5387732e-02 3.5669847e-04 9.7425550e-01]\n",
      "[1. 0. 0.] <-> [0.9942882  0.0015675  0.00414423]\n",
      "[1. 0. 0.] <-> [0.98792124 0.0085953  0.00348347]\n",
      "[0. 1. 0.] <-> [0.27162114 0.7273218  0.00105709]\n",
      "[1. 0. 0.] <-> [0.98744106 0.0090169  0.00354208]\n",
      "[1. 0. 0.] <-> [0.5940932  0.4035504  0.00235634]\n",
      "[1. 0. 0.] <-> [0.9927845  0.00309824 0.00411719]\n",
      "[1. 0. 0.] <-> [0.9893128  0.00597644 0.00471068]\n",
      "[1. 0. 0.] <-> [0.99296063 0.00370344 0.00333594]\n",
      "[0. 0. 1.] <-> [0.01283992 0.00856374 0.9785963 ]\n",
      "[0. 1. 0.] <-> [1.0726807e-01 8.9229900e-01 4.3293703e-04]\n",
      "[1. 0. 0.] <-> [0.65325695 0.34320134 0.00354163]\n",
      "[1. 0. 0.] <-> [0.9787409 0.0046013 0.0166578]\n",
      "[1. 0. 0.] <-> [0.9937603  0.00264212 0.00359755]\n",
      "[1. 0. 0.] <-> [0.93630254 0.05980853 0.0038889 ]\n",
      "[1. 0. 0.] <-> [0.41272736 0.00551563 0.581757  ]\n",
      "[1. 0. 0.] <-> [0.99069303 0.00606883 0.00323819]\n",
      "[0. 1. 0.] <-> [5.0707001e-02 9.4908172e-01 2.1125628e-04]\n",
      "[1. 0. 0.] <-> [0.9943416  0.00176724 0.00389109]\n",
      "[1. 0. 0.] <-> [0.91332275 0.08313856 0.00353873]\n",
      "[0. 1. 0.] <-> [2.2096893e-02 9.7780764e-01 9.5504183e-05]\n",
      "[1. 0. 0.] <-> [0.9467526  0.0307838  0.02246358]\n",
      "[0. 1. 0.] <-> [2.0480577e-02 9.7941351e-01 1.0587641e-04]\n",
      "[1. 0. 0.] <-> [0.9870734  0.00760569 0.0053209 ]\n",
      "[1. 0. 0.] <-> [0.9909099  0.00336503 0.00572507]\n",
      "[0. 0. 1.] <-> [0.21134247 0.00168411 0.7869734 ]\n",
      "[0. 1. 0.] <-> [1.9452251e-02 9.8043424e-01 1.1353522e-04]\n",
      "[1. 0. 0.] <-> [0.99312544 0.00340578 0.00346872]\n",
      "[1. 0. 0.] <-> [0.9929155  0.00201035 0.00507417]\n",
      "[1. 0. 0.] <-> [0.97969407 0.01590857 0.00439729]\n",
      "[1. 0. 0.] <-> [0.98706263 0.00179122 0.0111461 ]\n",
      "[1. 0. 0.] <-> [0.99116653 0.0026223  0.00621127]\n",
      "[0. 1. 0.] <-> [2.201990e-02 9.778842e-01 9.595665e-05]\n",
      "[1. 0. 0.] <-> [0.9933969  0.00205028 0.00455283]\n",
      "[0. 1. 0.] <-> [2.0915572e-02 9.7898155e-01 1.0292673e-04]\n",
      "[0. 1. 0.] <-> [5.2128769e-02 9.4765663e-01 2.1462429e-04]\n",
      "[1. 0. 0.] <-> [0.82441986 0.00602308 0.16955708]\n",
      "[1. 0. 0.] <-> [0.991687  0.0020064 0.0063066]\n",
      "[1. 0. 0.] <-> [0.6270113  0.01084745 0.36214125]\n",
      "[1. 0. 0.] <-> [0.99040145 0.00618744 0.00341114]\n",
      "[1. 0. 0.] <-> [1.8279049e-01 8.1646937e-01 7.4009813e-04]\n",
      "[1. 0. 0.] <-> [0.965291   0.03112451 0.00358444]\n",
      "[1. 0. 0.] <-> [0.96902937 0.02649296 0.00447769]\n",
      "[1. 0. 0.] <-> [0.9568709  0.03770307 0.00542594]\n",
      "[1. 0. 0.] <-> [0.7713551  0.2071852  0.02145964]\n",
      "[1. 0. 0.] <-> [0.98953605 0.00674167 0.00372226]\n",
      "[0. 1. 0.] <-> [2.7191199e-02 9.7267491e-01 1.3396758e-04]\n",
      "[1. 0. 0.] <-> [0.9913208  0.00352079 0.00515839]\n",
      "[0. 1. 0.] <-> [2.0657668e-02 9.7923219e-01 1.1020874e-04]\n",
      "[1. 0. 0.] <-> [0.98104984 0.01304479 0.00590544]\n",
      "[0. 0. 1.] <-> [2.6239606e-02 5.2615226e-04 9.7323430e-01]\n",
      "[0. 1. 0.] <-> [0.5299685  0.46812433 0.00190713]\n",
      "[1. 0. 0.] <-> [0.9230897  0.00761564 0.06929471]\n",
      "[1. 0. 0.] <-> [0.9899131  0.00656521 0.00352174]\n",
      "[0. 0. 1.] <-> [0.64983284 0.00445901 0.34570813]\n",
      "[1. 0. 0.] <-> [0.98697656 0.00238822 0.01063524]\n",
      "[1. 0. 0.] <-> [0.9759452  0.0019549  0.02209997]\n",
      "[1. 0. 0.] <-> [0.99059755 0.00268854 0.00671387]\n",
      "[1. 0. 0.] <-> [0.9850852  0.00231286 0.01260199]\n",
      "[0. 0. 1.] <-> [1.6985694e-02 4.1697084e-04 9.8259729e-01]\n",
      "[1. 0. 0.] <-> [0.99339515 0.00210286 0.00450204]\n",
      "[1. 0. 0.] <-> [0.9839103  0.00467061 0.01141901]\n",
      "[1. 0. 0.] <-> [0.91847044 0.00208886 0.07944072]\n",
      "[1. 0. 0.] <-> [0.99359137 0.00202573 0.00438278]\n",
      "[1. 0. 0.] <-> [0.99173427 0.00221383 0.00605191]\n",
      "[1. 0. 0.] <-> [0.98793644 0.00666144 0.00540203]\n",
      "[0. 0. 1.] <-> [2.0044323e-02 3.1553642e-04 9.7964019e-01]\n",
      "[1. 0. 0.] <-> [0.99221593 0.00378257 0.0040016 ]\n",
      "[1. 0. 0.] <-> [0.9909411  0.00403197 0.00502684]\n",
      "[0. 0. 1.] <-> [1.7779911e-02 2.9383053e-04 9.8192626e-01]\n",
      "[1. 0. 0.] <-> [0.7435037  0.21636392 0.04013241]\n",
      "[1. 0. 0.] <-> [0.9901135  0.00586395 0.00402251]\n",
      "[1. 0. 0.] <-> [0.7612684  0.23584484 0.00288679]\n",
      "[1. 0. 0.] <-> [0.992442   0.0029441  0.00461395]\n",
      "[0. 0. 1.] <-> [0.67261255 0.0018125  0.32557493]\n",
      "[1. 0. 0.] <-> [0.9890994  0.00485538 0.0060452 ]\n",
      "[1. 0. 0.] <-> [0.9862242  0.01013527 0.0036406 ]\n",
      "[1. 0. 0.] <-> [0.9688413  0.001785   0.02937373]\n",
      "[1. 0. 0.] <-> [0.9862838  0.00539468 0.00832158]\n",
      "[1. 0. 0.] <-> [0.9356705  0.00743188 0.05689764]\n",
      "[1. 0. 0.] <-> [0.9920563  0.00410212 0.00384154]\n",
      "[1. 0. 0.] <-> [0.4626096  0.5349777  0.00241271]\n",
      "[1. 0. 0.] <-> [0.993705   0.00221699 0.00407809]\n",
      "[1. 0. 0.] <-> [0.22497451 0.7740621  0.00096337]\n",
      "[1. 0. 0.] <-> [0.9841123  0.00170496 0.01418272]\n",
      "[1. 0. 0.] <-> [0.7980432  0.00281602 0.19914071]\n",
      "[1. 0. 0.] <-> [0.9769488  0.0019499  0.02110125]\n",
      "[1. 0. 0.] <-> [0.9927119  0.00219348 0.00509466]\n",
      "[1. 0. 0.] <-> [0.99363375 0.00282967 0.00353661]\n",
      "[1. 0. 0.] <-> [0.99155605 0.00364282 0.00480116]\n",
      "[1. 0. 0.] <-> [0.98850423 0.00247301 0.00902276]\n",
      "[1. 0. 0.] <-> [0.98068684 0.00165995 0.01765322]\n",
      "[0. 0. 1.] <-> [0.01425124 0.00278336 0.9829654 ]\n",
      "[1. 0. 0.] <-> [0.99150205 0.00500608 0.0034919 ]\n",
      "[1. 0. 0.] <-> [0.98040044 0.01596954 0.00363005]\n",
      "[0. 0. 1.] <-> [0.01352523 0.00487433 0.9816004 ]\n",
      "[1. 0. 0.] <-> [0.98852086 0.00728458 0.0041945 ]\n",
      "[0. 0. 1.] <-> [2.1754904e-02 3.2619093e-04 9.7791892e-01]\n",
      "[0. 1. 0.] <-> [2.179176e-02 9.781084e-01 9.985123e-05]\n",
      "[0. 1. 0.] <-> [4.0367361e-02 9.5946181e-01 1.7088014e-04]\n",
      "[0. 0. 1.] <-> [3.1293415e-02 7.3625986e-04 9.6797031e-01]\n",
      "[1. 0. 0.] <-> [0.97329277 0.00419735 0.02250994]\n",
      "[1. 0. 0.] <-> [0.51359624 0.48309976 0.00330406]\n",
      "[0. 0. 1.] <-> [0.38147405 0.00136837 0.6171576 ]\n",
      "[1. 0. 0.] <-> [0.9712399  0.01142864 0.01733145]\n",
      "{'accuracy': 0.9567901234567902, 'mean_square_error': 0.07940989959977111, 'categorical_crossentropy': 0.13178601088347258, 'essential_metrics': {0: {'tp_hit': 74, 'fp_hit': 3, 'tn_hit': 27, 'fn_hit': 4}, 1: {'tp_hit': 15, 'fp_hit': 3, 'tn_hit': 89, 'fn_hit': 1}, 2: {'tp_hit': 12, 'fp_hit': 1, 'tn_hit': 93, 'fn_hit': 2}}}\n"
     ]
    }
   ],
   "source": [
    "# recall phase\n",
    "score = model.evaluate(x_test, y_test, False)\n",
    "print(score)"
   ]
  },
  {
   "cell_type": "code",
   "execution_count": 11,
   "metadata": {},
   "outputs": [],
   "source": [
    "train_acc = [h['accuracy'] for h in history]\n",
    "train_mse = [h['mean_square_error'] for h in history]\n",
    "train_cce = [h['categorical_crossentropy'] for h in history]"
   ]
  },
  {
   "cell_type": "code",
   "execution_count": 12,
   "metadata": {},
   "outputs": [
    {
     "data": {
      "image/png": "[encoded data removed]",
      "text/plain": [
       "<Figure size 864x360 with 1 Axes>"
      ]
     },
     "metadata": {
      "needs_background": "light"
     },
     "output_type": "display_data"
    },
    {
     "data": {
      "image/png": "[encoded data removed]",
      "text/plain": [
       "<Figure size 864x360 with 1 Axes>"
      ]
     },
     "metadata": {
      "needs_background": "light"
     },
     "output_type": "display_data"
    }
   ],
   "source": [
    "draw_plot(x = [[i for i in range(len(history))], [(i+1)*breakpoint for i in range(len(checkpoints))]], y_list = [train_cce, [ ckp[model.loss_fn] for ckp in checkpoints ]], x_label = 'Epochs', \\\n",
    "    y_label = model.loss_fn, legend=['train', 'test'])\n",
    "acc = [ ckp['accuracy'] for ckp in checkpoints ]\n",
    "draw_plot(x = [[i for i in range(len(history))], [(i+1)*breakpoint for i in range(len(checkpoints))]], y_list = [train_acc, acc], x_label = 'Checkpoints', \\\n",
    "    y_label = 'accuracy', legend=['train', 'test'])"
   ]
  },
  {
   "cell_type": "code",
   "execution_count": 13,
   "metadata": {},
   "outputs": [
    {
     "name": "stdout",
     "output_type": "stream",
     "text": [
      "{'accuracy': 0.8765432098765432, 'mean_square_error': 0.3203555857277798, 'categorical_crossentropy': 0.6017263906973379, 'essential_metrics': {0: {'tp_hit': 78, 'fp_hit': 20, 'tn_hit': 10, 'fn_hit': 0}, 1: {'tp_hit': 10, 'fp_hit': 0, 'tn_hit': 92, 'fn_hit': 6}, 2: {'tp_hit': 0, 'fp_hit': 0, 'tn_hit': 94, 'fn_hit': 14}}, 'checkpoint': 10} \n",
      "\n",
      "\n",
      "{'accuracy': 0.8765432098765432, 'mean_square_error': 0.3263830706401896, 'categorical_crossentropy': 0.593929997196904, 'essential_metrics': {0: {'tp_hit': 76, 'fp_hit': 18, 'tn_hit': 12, 'fn_hit': 2}, 1: {'tp_hit': 12, 'fp_hit': 2, 'tn_hit': 90, 'fn_hit': 4}, 2: {'tp_hit': 0, 'fp_hit': 0, 'tn_hit': 94, 'fn_hit': 14}}, 'checkpoint': 20} \n",
      "\n",
      "\n",
      "{'accuracy': 0.8888888888888888, 'mean_square_error': 0.2859275426396146, 'categorical_crossentropy': 0.5331509201614945, 'essential_metrics': {0: {'tp_hit': 77, 'fp_hit': 15, 'tn_hit': 15, 'fn_hit': 1}, 1: {'tp_hit': 13, 'fp_hit': 3, 'tn_hit': 89, 'fn_hit': 3}, 2: {'tp_hit': 0, 'fp_hit': 0, 'tn_hit': 94, 'fn_hit': 14}}, 'checkpoint': 30} \n",
      "\n",
      "\n",
      "{'accuracy': 0.8641975308641975, 'mean_square_error': 0.2925374586280501, 'categorical_crossentropy': 0.5225650646068432, 'essential_metrics': {0: {'tp_hit': 78, 'fp_hit': 22, 'tn_hit': 8, 'fn_hit': 0}, 1: {'tp_hit': 8, 'fp_hit': 0, 'tn_hit': 92, 'fn_hit': 8}, 2: {'tp_hit': 0, 'fp_hit': 0, 'tn_hit': 94, 'fn_hit': 14}}, 'checkpoint': 40} \n",
      "\n",
      "\n",
      "{'accuracy': 0.8888888888888888, 'mean_square_error': 0.2759070798314657, 'categorical_crossentropy': 0.5155584547254775, 'essential_metrics': {0: {'tp_hit': 77, 'fp_hit': 17, 'tn_hit': 13, 'fn_hit': 1}, 1: {'tp_hit': 13, 'fp_hit': 1, 'tn_hit': 91, 'fn_hit': 3}, 2: {'tp_hit': 0, 'fp_hit': 0, 'tn_hit': 94, 'fn_hit': 14}}, 'checkpoint': 50} \n",
      "\n",
      "\n",
      "{'accuracy': 0.8888888888888888, 'mean_square_error': 0.27494677438524623, 'categorical_crossentropy': 0.5164635269730179, 'essential_metrics': {0: {'tp_hit': 77, 'fp_hit': 17, 'tn_hit': 13, 'fn_hit': 1}, 1: {'tp_hit': 13, 'fp_hit': 1, 'tn_hit': 91, 'fn_hit': 3}, 2: {'tp_hit': 0, 'fp_hit': 0, 'tn_hit': 94, 'fn_hit': 14}}, 'checkpoint': 60} \n",
      "\n",
      "\n",
      "{'accuracy': 0.8950617283950617, 'mean_square_error': 0.23863170243458037, 'categorical_crossentropy': 0.4503546820746528, 'essential_metrics': {0: {'tp_hit': 77, 'fp_hit': 16, 'tn_hit': 14, 'fn_hit': 1}, 1: {'tp_hit': 14, 'fp_hit': 1, 'tn_hit': 91, 'fn_hit': 2}, 2: {'tp_hit': 0, 'fp_hit': 0, 'tn_hit': 94, 'fn_hit': 14}}, 'checkpoint': 70} \n",
      "\n",
      "\n",
      "{'accuracy': 0.9259259259259259, 'mean_square_error': 0.1955216329518596, 'categorical_crossentropy': 0.37715254889594185, 'essential_metrics': {0: {'tp_hit': 78, 'fp_hit': 12, 'tn_hit': 18, 'fn_hit': 0}, 1: {'tp_hit': 14, 'fp_hit': 0, 'tn_hit': 92, 'fn_hit': 2}, 2: {'tp_hit': 4, 'fp_hit': 0, 'tn_hit': 94, 'fn_hit': 10}}, 'checkpoint': 80} \n",
      "\n",
      "\n",
      "{'accuracy': 0.9135802469135802, 'mean_square_error': 0.16797804113288947, 'categorical_crossentropy': 0.32083649105495876, 'essential_metrics': {0: {'tp_hit': 78, 'fp_hit': 14, 'tn_hit': 16, 'fn_hit': 0}, 1: {'tp_hit': 11, 'fp_hit': 0, 'tn_hit': 92, 'fn_hit': 5}, 2: {'tp_hit': 5, 'fp_hit': 0, 'tn_hit': 94, 'fn_hit': 9}}, 'checkpoint': 90} \n",
      "\n",
      "\n",
      "{'accuracy': 0.9320987654320988, 'mean_square_error': 0.16365715032937087, 'categorical_crossentropy': 0.3129610838713469, 'essential_metrics': {0: {'tp_hit': 76, 'fp_hit': 9, 'tn_hit': 21, 'fn_hit': 2}, 1: {'tp_hit': 16, 'fp_hit': 2, 'tn_hit': 90, 'fn_hit': 0}, 2: {'tp_hit': 5, 'fp_hit': 0, 'tn_hit': 94, 'fn_hit': 9}}, 'checkpoint': 100} \n",
      "\n",
      "\n",
      "{'accuracy': 0.9444444444444444, 'mean_square_error': 0.14206565361359252, 'categorical_crossentropy': 0.2668227089775933, 'essential_metrics': {0: {'tp_hit': 78, 'fp_hit': 9, 'tn_hit': 21, 'fn_hit': 0}, 1: {'tp_hit': 13, 'fp_hit': 0, 'tn_hit': 92, 'fn_hit': 3}, 2: {'tp_hit': 8, 'fp_hit': 0, 'tn_hit': 94, 'fn_hit': 6}}, 'checkpoint': 110} \n",
      "\n",
      "\n",
      "{'accuracy': 0.9444444444444444, 'mean_square_error': 0.14170306947238342, 'categorical_crossentropy': 0.2786229098284686, 'essential_metrics': {0: {'tp_hit': 76, 'fp_hit': 7, 'tn_hit': 23, 'fn_hit': 2}, 1: {'tp_hit': 15, 'fp_hit': 2, 'tn_hit': 90, 'fn_hit': 1}, 2: {'tp_hit': 8, 'fp_hit': 0, 'tn_hit': 94, 'fn_hit': 6}}, 'checkpoint': 120} \n",
      "\n",
      "\n",
      "{'accuracy': 0.9382716049382716, 'mean_square_error': 0.14760344690046565, 'categorical_crossentropy': 0.27594887768780746, 'essential_metrics': {0: {'tp_hit': 73, 'fp_hit': 5, 'tn_hit': 25, 'fn_hit': 5}, 1: {'tp_hit': 15, 'fp_hit': 5, 'tn_hit': 87, 'fn_hit': 1}, 2: {'tp_hit': 10, 'fp_hit': 0, 'tn_hit': 94, 'fn_hit': 4}}, 'checkpoint': 130} \n",
      "\n",
      "\n",
      "{'accuracy': 0.9444444444444444, 'mean_square_error': 0.13058621943135013, 'categorical_crossentropy': 0.24182118309868705, 'essential_metrics': {0: {'tp_hit': 74, 'fp_hit': 5, 'tn_hit': 25, 'fn_hit': 4}, 1: {'tp_hit': 15, 'fp_hit': 4, 'tn_hit': 88, 'fn_hit': 1}, 2: {'tp_hit': 10, 'fp_hit': 0, 'tn_hit': 94, 'fn_hit': 4}}, 'checkpoint': 140} \n",
      "\n",
      "\n",
      "{'accuracy': 0.9506172839506173, 'mean_square_error': 0.11662587892691177, 'categorical_crossentropy': 0.2081131758513274, 'essential_metrics': {0: {'tp_hit': 76, 'fp_hit': 6, 'tn_hit': 24, 'fn_hit': 2}, 1: {'tp_hit': 14, 'fp_hit': 2, 'tn_hit': 90, 'fn_hit': 2}, 2: {'tp_hit': 10, 'fp_hit': 0, 'tn_hit': 94, 'fn_hit': 4}}, 'checkpoint': 150} \n",
      "\n",
      "\n",
      "{'accuracy': 0.9444444444444444, 'mean_square_error': 0.1015614950420593, 'categorical_crossentropy': 0.18097932250411422, 'essential_metrics': {0: {'tp_hit': 74, 'fp_hit': 5, 'tn_hit': 25, 'fn_hit': 4}, 1: {'tp_hit': 15, 'fp_hit': 4, 'tn_hit': 88, 'fn_hit': 1}, 2: {'tp_hit': 10, 'fp_hit': 0, 'tn_hit': 94, 'fn_hit': 4}}, 'checkpoint': 160} \n",
      "\n",
      "\n",
      "{'accuracy': 0.9629629629629629, 'mean_square_error': 0.08976631976088544, 'categorical_crossentropy': 0.16133979514793115, 'essential_metrics': {0: {'tp_hit': 76, 'fp_hit': 4, 'tn_hit': 26, 'fn_hit': 2}, 1: {'tp_hit': 15, 'fp_hit': 2, 'tn_hit': 90, 'fn_hit': 1}, 2: {'tp_hit': 11, 'fp_hit': 0, 'tn_hit': 94, 'fn_hit': 3}}, 'checkpoint': 170} \n",
      "\n",
      "\n",
      "{'accuracy': 0.9567901234567902, 'mean_square_error': 0.08161499149489745, 'categorical_crossentropy': 0.14333059169628, 'essential_metrics': {0: {'tp_hit': 76, 'fp_hit': 5, 'tn_hit': 25, 'fn_hit': 2}, 1: {'tp_hit': 14, 'fp_hit': 2, 'tn_hit': 90, 'fn_hit': 2}, 2: {'tp_hit': 11, 'fp_hit': 0, 'tn_hit': 94, 'fn_hit': 3}}, 'checkpoint': 180} \n",
      "\n",
      "\n",
      "{'accuracy': 0.9629629629629629, 'mean_square_error': 0.07679973265649714, 'categorical_crossentropy': 0.1329179428241871, 'essential_metrics': {0: {'tp_hit': 75, 'fp_hit': 3, 'tn_hit': 27, 'fn_hit': 3}, 1: {'tp_hit': 15, 'fp_hit': 2, 'tn_hit': 90, 'fn_hit': 1}, 2: {'tp_hit': 12, 'fp_hit': 1, 'tn_hit': 93, 'fn_hit': 2}}, 'checkpoint': 190} \n",
      "\n",
      "\n",
      "{'accuracy': 0.9567901234567902, 'mean_square_error': 0.07940989959977111, 'categorical_crossentropy': 0.13178601088347258, 'essential_metrics': {0: {'tp_hit': 74, 'fp_hit': 3, 'tn_hit': 27, 'fn_hit': 4}, 1: {'tp_hit': 15, 'fp_hit': 3, 'tn_hit': 89, 'fn_hit': 1}, 2: {'tp_hit': 12, 'fp_hit': 1, 'tn_hit': 93, 'fn_hit': 2}}, 'checkpoint': 200} \n",
      "\n",
      "\n"
     ]
    }
   ],
   "source": [
    "for checkpoint in checkpoints:\n",
    "    print(checkpoint, '\\n\\n')"
   ]
  },
  {
   "cell_type": "code",
   "execution_count": 14,
   "metadata": {},
   "outputs": [
    {
     "name": "stdout",
     "output_type": "stream",
     "text": [
      "Layer 1\n",
      "Neuron 0: weights:\n",
      "[ 0.7283834  3.        -1.9346845 -3.        -3.       ]\n",
      " bias: 1.3858060836791992\n",
      "\n",
      "Neuron 1: weights:\n",
      "[ 1.6831226 -2.421241  -1.6813729 -2.8260114 -0.6544246]\n",
      " bias: 0.24091586470603943\n",
      "\n",
      "Neuron 2: weights:\n",
      "[-2.083355    3.          3.          1.1637467  -0.44096324]\n",
      " bias: -1.6560229063034058\n",
      "\n",
      "Neuron 3: weights:\n",
      "[-0.6496887  3.         2.5708156 -3.        -1.8143741]\n",
      " bias: 3.0\n",
      "\n",
      "$\n",
      "Layer 2\n",
      "Neuron 0: weights:\n",
      "[ 2.8372428  1.7719728 -3.         0.9943787]\n",
      " bias: -1.3866968154907227\n",
      "\n",
      "Neuron 1: weights:\n",
      "[ 0.30779687 -2.544773    3.          1.1073135 ]\n",
      " bias: -1.1806923151016235\n",
      "\n",
      "Neuron 2: weights:\n",
      "[-3.         1.4130138 -3.        -3.       ]\n",
      " bias: 3.0\n",
      "\n",
      "$\n",
      "\n"
     ]
    }
   ],
   "source": [
    "print(model)"
   ]
  },
  {
   "cell_type": "code",
   "execution_count": null,
   "metadata": {},
   "outputs": [],
   "source": []
  }
 ],
 "metadata": {
  "kernelspec": {
   "display_name": "Python 3",
   "language": "python",
   "name": "python3"
  },
  "language_info": {
   "codemirror_mode": {
    "name": "ipython",
    "version": 3
   },
   "file_extension": ".py",
   "mimetype": "text/x-python",
   "name": "python",
   "nbconvert_exporter": "python",
   "pygments_lexer": "ipython3",
   "version": "3.6.12"
  }
 },
 "nbformat": 4,
 "nbformat_minor": 2
}
