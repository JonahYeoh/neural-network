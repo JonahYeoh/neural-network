{
 "cells": [
  {
   "cell_type": "code",
   "execution_count": 1,
   "metadata": {},
   "outputs": [],
   "source": [
    "# dependency\n",
    "import numpy as np\n",
    "import pandas as pd\n",
    "import copy\n",
    "import math\n",
    "import sys\n",
    "import os\n",
    "from activations import relu, leaky_relu, sigmoid, tanh, softmax, d_sigmoid, d_relu\n",
    "from initializers import glorot_uniform, random_normal, random_uniform\n",
    "from regularizers import l1_regularizer, l2_regularizer\n",
    "from utility import trim_tail, multiply, subtract, get_nparams, one_hot_encoding, get_data\n",
    "from metrics import MSE, CCE, ACC, PRECISION, RECALL, essential_metrics, wondering_penalty, close_gap_penalty\n",
    "from pso import PSO\n",
    "from ga import GA\n",
    "from nn import Network\n",
    "from layer import DenseLayer\n",
    "from scalers import MinMaxScaler, StandardScaler"
   ]
  },
  {
   "cell_type": "code",
   "execution_count": 2,
   "metadata": {},
   "outputs": [],
   "source": [
    "# reference\n",
    "metrics_fn_dict = dict()\n",
    "metrics_fn_dict['accuracy'] = ACC\n",
    "metrics_fn_dict['categorical_crossentropy'] = CCE\n",
    "metrics_fn_dict['mean_square_error'] = MSE\n",
    "metrics_fn_dict['precision'] = PRECISION\n",
    "metrics_fn_dict['recall'] = RECALL\n",
    "metrics_fn_dict['essential_metrics'] = essential_metrics"
   ]
  },
  {
   "cell_type": "code",
   "execution_count": 3,
   "metadata": {},
   "outputs": [],
   "source": [
    "# model\n",
    "model = Network(5, lr = None)\n",
    "model.add_layer(DenseLayer(1, 4, True, afn=sigmoid, dafn=None, rfn=None))\n",
    "model.add_layer(DenseLayer(2, 3, True, afn=softmax, dafn=None, rfn=None))"
   ]
  },
  {
   "cell_type": "code",
   "execution_count": 4,
   "metadata": {},
   "outputs": [
    {
     "name": "stdout",
     "output_type": "stream",
     "text": [
      "see one see two 2 2\n"
     ]
    }
   ],
   "source": [
    "pso = PSO(dict(m = 50,\n",
    "    weight_constraint = [-3, 3], \n",
    "    velocity_constraint = [-0.1, 0.1],\n",
    "    c1 = 2,\n",
    "    c2 = 2,\n",
    "    w = 1.2,\n",
    "    w_decay = 1,\n",
    "    scale_hyperparameter = False,\n",
    "    regularizer = None,\n",
    "    mask = True))"
   ]
  },
  {
   "cell_type": "code",
   "execution_count": 5,
   "metadata": {},
   "outputs": [
    {
     "name": "stdout",
     "output_type": "stream",
     "text": [
      "building layer 1 with 5\n",
      "24\n",
      "building layer 2 with 4\n",
      "15\n"
     ]
    }
   ],
   "source": [
    "model.compile(loss_fn = 'categorical_crossentropy', optimizer = pso, \\\n",
    "    metrics = ['accuracy', 'mean_square_error', 'categorical_crossentropy'])"
   ]
  },
  {
   "cell_type": "code",
   "execution_count": 6,
   "metadata": {},
   "outputs": [
    {
     "name": "stdout",
     "output_type": "stream",
     "text": [
      "<class 'pandas.core.frame.DataFrame'>\n",
      "RangeIndex: 107 entries, 0 to 106\n",
      "Data columns (total 6 columns):\n",
      " #   Column  Non-Null Count  Dtype  \n",
      "---  ------  --------------  -----  \n",
      " 0   f1      107 non-null    float32\n",
      " 1   f2      107 non-null    float32\n",
      " 2   f3      107 non-null    float32\n",
      " 3   f4      107 non-null    float32\n",
      " 4   f5      107 non-null    float32\n",
      " 5   label   107 non-null    float32\n",
      "dtypes: float32(6)\n",
      "memory usage: 2.6 KB\n",
      "None\n",
      "<class 'pandas.core.frame.DataFrame'>\n",
      "RangeIndex: 108 entries, 0 to 107\n",
      "Data columns (total 6 columns):\n",
      " #   Column  Non-Null Count  Dtype  \n",
      "---  ------  --------------  -----  \n",
      " 0   f1      108 non-null    float32\n",
      " 1   f2      108 non-null    float32\n",
      " 2   f3      108 non-null    float32\n",
      " 3   f4      108 non-null    float32\n",
      " 4   f5      108 non-null    float32\n",
      " 5   label   108 non-null    float32\n",
      "dtypes: float32(6)\n",
      "memory usage: 2.7 KB\n",
      "None\n"
     ]
    }
   ],
   "source": [
    "# data loading\n",
    "DATA = os.path.join('c:\\\\Users\\\\tcumi\\\\github_repo\\\\neural-network\\\\', 'dataset')\n",
    "GROUP = 4\n",
    "COLUMNS = ['f1', 'f2', 'f3', 'f4', 'f5', 'label']\n",
    "N_CLASS = 3\n",
    "EPOCHS = 500\n",
    "train_dir, test_dir = \"..//dataset//training_data{}.txt\".format(GROUP), \"..//dataset//testing_data{}.txt\".format(GROUP)\n",
    "train, test = get_data(DATA, train_dir, COLUMNS), get_data(DATA, test_dir, COLUMNS)\n",
    "# shuffle\n",
    "train, test = train.sample(frac=1), test.sample(frac=1)\n",
    "x_train, y_train = train.drop('label', axis=1), train['label']\n",
    "x_test, y_test = test.drop('label', axis=1), test['label']"
   ]
  },
  {
   "cell_type": "code",
   "execution_count": 7,
   "metadata": {},
   "outputs": [],
   "source": [
    "# data scaling and encoding\n",
    "scaler = StandardScaler(['f1', 'f2', 'f3', 'f4', 'f5'])\n",
    "scaler.fit(x_train)\n",
    "x_train = scaler.transform(x_train)\n",
    "x_test = scaler.transform(x_test)\n",
    "y_train = one_hot_encoding(y_train, N_CLASS)\n",
    "y_test = one_hot_encoding(y_test, N_CLASS)"
   ]
  },
  {
   "cell_type": "code",
   "execution_count": 8,
   "metadata": {
    "tags": [
     "outputPrepend"
    ]
   },
   "outputs": [
    {
     "name": "stdout",
     "output_type": "stream",
     "text": [
      "Checkpoint 100, Accuracy: 0.9567901234567902, Loss: 0.22201292603104203\n",
      "Checkpoint 200, Accuracy: 0.9691358024691358, Loss: 0.11358235500476978\n",
      "Checkpoint 300, Accuracy: 0.9691358024691358, Loss: 0.10878972653989438\n",
      "Checkpoint 400, Accuracy: 0.9691358024691358, Loss: 0.10316960899918168\n",
      "Checkpoint 500, Accuracy: 0.9691358024691358, Loss: 0.10219689651771828\n"
     ]
    }
   ],
   "source": [
    "# learning phase\n",
    "breakpoint = 100\n",
    "checkpoints = list()\n",
    "history = list()\n",
    "for century in range(0, EPOCHS, breakpoint):\n",
    "    sub_history = model.fit(x_train, y_train, breakpoint, verbose = 0)\n",
    "    score = model.evaluate(x_test, y_test, False, verbose = 0)\n",
    "    print('Checkpoint {}, Accuracy: {}, Loss: {}'.format(century+breakpoint, score['accuracy'], score[model.loss_fn]))\n",
    "    score['checkpoint'] = century + breakpoint\n",
    "    checkpoints.append(score)\n",
    "    history.extend(sub_history)"
   ]
  },
  {
   "cell_type": "code",
   "execution_count": 9,
   "metadata": {},
   "outputs": [],
   "source": [
    "import matplotlib.pyplot as plt\n",
    "\n",
    "def draw_plot(x, y_list, x_label=None, y_label=None, legend=None, title=None):\n",
    "    fig, ax = plt.subplots(figsize=(12,5))\n",
    "    for xi, yi in zip(x, y_list):\n",
    "        ax.plot(xi, yi)\n",
    "    if x_label is not None and y_label is not None:\n",
    "        ax.set(xlabel=x_label, ylabel=y_label, title='{} VS {}'.format(x_label, y_label))\n",
    "    if legend is not None:\n",
    "        ax.legend(legend)\n",
    "    ax.grid()\n",
    "    plt.show()"
   ]
  },
  {
   "cell_type": "code",
   "execution_count": 10,
   "metadata": {},
   "outputs": [
    {
     "name": "stdout",
     "output_type": "stream",
     "text": [
      "[0. 0. 1.] <-> [6.2680896e-03 1.0670456e-04 9.9362516e-01]\n",
      "[1. 0. 0.] <-> [0.978823   0.00217045 0.01900659]\n",
      "[1. 0. 0.] <-> [0.9957716  0.00303925 0.00118916]\n",
      "[1. 0. 0.] <-> [0.9963903  0.00148927 0.00212042]\n",
      "[1. 0. 0.] <-> [0.98804605 0.00170331 0.01025068]\n",
      "[1. 0. 0.] <-> [0.992753   0.00316946 0.00407754]\n",
      "[0. 0. 1.] <-> [0.56558686 0.0027332  0.43167996]\n",
      "[0. 1. 0.] <-> [5.820756e-03 9.940852e-01 9.392458e-05]\n",
      "[1. 0. 0.] <-> [0.8456857  0.00275226 0.15156205]\n",
      "[1. 0. 0.] <-> [0.99334985 0.0015524  0.0050977 ]\n",
      "[1. 0. 0.] <-> [0.98740935 0.00302685 0.00956384]\n",
      "[1. 0. 0.] <-> [0.99538356 0.00272358 0.00189289]\n",
      "[1. 0. 0.] <-> [0.9975594  0.00117379 0.00126666]\n",
      "[1. 0. 0.] <-> [0.9970427  0.00128162 0.00167564]\n",
      "[0. 1. 0.] <-> [5.8194515e-03 9.9408662e-01 9.3960021e-05]\n",
      "[1. 0. 0.] <-> [0.8193948  0.00323119 0.17737393]\n",
      "[1. 0. 0.] <-> [0.99620736 0.00229524 0.00149739]\n",
      "[0. 0. 1.] <-> [8.9170299e-03 1.3646984e-04 9.9094653e-01]\n",
      "[1. 0. 0.] <-> [0.9975592  0.00128648 0.00115431]\n",
      "[1. 0. 0.] <-> [0.36205435 0.63609684 0.00184874]\n",
      "[1. 0. 0.] <-> [0.5457473  0.00315594 0.45109674]\n",
      "[0. 1. 0.] <-> [5.8206622e-03 9.9408531e-01 9.3926566e-05]\n",
      "[0. 0. 1.] <-> [0.5652188  0.00234281 0.4324384 ]\n",
      "[1. 0. 0.] <-> [0.9970716  0.00159756 0.00133075]\n",
      "[0. 0. 1.] <-> [6.8851816e-03 1.1285361e-04 9.9300200e-01]\n",
      "[0. 1. 0.] <-> [5.8173789e-03 9.9408853e-01 9.4088602e-05]\n",
      "[1. 0. 0.] <-> [0.9966149  0.00133506 0.00205015]\n",
      "[1. 0. 0.] <-> [0.9957728 0.0014728 0.0027544]\n",
      "[0. 1. 0.] <-> [6.8307999e-03 9.9306220e-01 1.0701638e-04]\n",
      "[1. 0. 0.] <-> [0.9945182  0.00156201 0.00391982]\n",
      "[1. 0. 0.] <-> [0.99705505 0.00129091 0.00165404]\n",
      "[1. 0. 0.] <-> [0.99689    0.00132691 0.00178303]\n",
      "[1. 0. 0.] <-> [0.9963666  0.00197918 0.00165418]\n",
      "[1. 0. 0.] <-> [0.80519116 0.19203734 0.00277153]\n",
      "[1. 0. 0.] <-> [0.99686193 0.00175996 0.00137818]\n",
      "[1. 0. 0.] <-> [0.9973085  0.00127137 0.00142014]\n",
      "[1. 0. 0.] <-> [0.97560215 0.00872025 0.01567759]\n",
      "[1. 0. 0.] <-> [0.12186788 0.87725204 0.00088005]\n",
      "[1. 0. 0.] <-> [0.55012065 0.4469261  0.0029533 ]\n",
      "[1. 0. 0.] <-> [0.98771054 0.01076396 0.00152548]\n",
      "[1. 0. 0.] <-> [0.9905563  0.00164225 0.00780139]\n",
      "[1. 0. 0.] <-> [0.99641764 0.0023512  0.00123116]\n",
      "[1. 0. 0.] <-> [0.9866425  0.01149664 0.0018609 ]\n",
      "[0. 0. 1.] <-> [7.11437920e-03 1.15879935e-04 9.92769659e-01]\n",
      "[1. 0. 0.] <-> [0.9924212  0.00597995 0.00159884]\n",
      "[0. 1. 0.] <-> [5.4951463e-02 9.4458371e-01 4.6478206e-04]\n",
      "[1. 0. 0.] <-> [0.9850328  0.00180119 0.01316608]\n",
      "[0. 0. 1.] <-> [7.51107419e-03 1.18857126e-04 9.92370009e-01]\n",
      "[1. 0. 0.] <-> [0.9968934  0.00193095 0.0011757 ]\n",
      "[0. 0. 1.] <-> [2.9630188e-02 3.0975143e-04 9.7006005e-01]\n",
      "[1. 0. 0.] <-> [0.9963033  0.0015055  0.00219122]\n",
      "[0. 1. 0.] <-> [0.3413197  0.6572467  0.00143359]\n",
      "[1. 0. 0.] <-> [0.9947633  0.00142351 0.00381326]\n",
      "[0. 0. 1.] <-> [6.3205450e-03 1.0721633e-04 9.9357224e-01]\n",
      "[1. 0. 0.] <-> [0.99335784 0.00149456 0.00514766]\n",
      "[1. 0. 0.] <-> [0.959717   0.00257347 0.03770949]\n",
      "[1. 0. 0.] <-> [0.9946163  0.00405843 0.00132529]\n",
      "[1. 0. 0.] <-> [0.99395555 0.00189641 0.00414806]\n",
      "[1. 0. 0.] <-> [0.7331845  0.26356012 0.00325539]\n",
      "[0. 1. 0.] <-> [5.8200634e-03 9.9408591e-01 9.3940151e-05]\n",
      "[1. 0. 0.] <-> [0.9966311  0.001563   0.00180585]\n",
      "[1. 0. 0.] <-> [0.9844737  0.01401496 0.00151139]\n",
      "[1. 0. 0.] <-> [0.9972555  0.00136362 0.00138095]\n",
      "[1. 0. 0.] <-> [0.9970048  0.00158306 0.00141211]\n",
      "[1. 0. 0.] <-> [0.9661393  0.00276332 0.03109733]\n",
      "[1. 0. 0.] <-> [0.993493   0.00460738 0.00189961]\n",
      "[1. 0. 0.] <-> [0.9960496  0.00171003 0.00224038]\n",
      "[1. 0. 0.] <-> [0.9973724  0.00154403 0.00108364]\n",
      "[1. 0. 0.] <-> [0.99663854 0.00218522 0.00117621]\n",
      "[1. 0. 0.] <-> [0.11077788 0.00096773 0.8882544 ]\n",
      "[1. 0. 0.] <-> [0.99549955 0.00244782 0.00205259]\n",
      "[1. 0. 0.] <-> [0.9967632  0.00191271 0.001324  ]\n",
      "[0. 0. 1.] <-> [5.4101806e-02 5.2737596e-04 9.4537079e-01]\n",
      "[1. 0. 0.] <-> [0.99697673 0.00135741 0.00166594]\n",
      "[0. 1. 0.] <-> [5.820767e-03 9.940852e-01 9.392441e-05]\n",
      "[1. 0. 0.] <-> [0.987405   0.00913074 0.00346421]\n",
      "[0. 0. 1.] <-> [6.2686745e-03 1.0670795e-04 9.9362457e-01]\n",
      "[0. 0. 1.] <-> [6.2684999e-03 1.0669373e-04 9.9362481e-01]\n",
      "[1. 0. 0.] <-> [0.99679095 0.00158555 0.00162356]\n",
      "[0. 1. 0.] <-> [1.3512104e-02 9.8630893e-01 1.7899339e-04]\n",
      "[0. 1. 0.] <-> [1.9770209e-02 9.7999221e-01 2.3760057e-04]\n",
      "[1. 0. 0.] <-> [0.99750817 0.00115064 0.00134117]\n",
      "[1. 0. 0.] <-> [0.99715024 0.0011984  0.00165129]\n",
      "[1. 0. 0.] <-> [0.94848293 0.04962526 0.00189171]\n",
      "[1. 0. 0.] <-> [0.99570674 0.00266681 0.00162655]\n",
      "[1. 0. 0.] <-> [0.7069932  0.2904115  0.00259534]\n",
      "[0. 0. 1.] <-> [6.3025546e-03 1.0713233e-04 9.9359035e-01]\n",
      "[0. 0. 1.] <-> [9.7057614e-03 1.4793740e-04 9.9014634e-01]\n",
      "[1. 0. 0.] <-> [0.99149334 0.00187137 0.00663528]\n",
      "[1. 0. 0.] <-> [0.9971764  0.00165104 0.00117254]\n",
      "[1. 0. 0.] <-> [0.9971523  0.00130927 0.0015384 ]\n",
      "[0. 1. 0.] <-> [5.8411504e-03 9.9406391e-01 9.4902185e-05]\n",
      "[1. 0. 0.] <-> [0.9970439  0.0017171  0.00123899]\n",
      "[1. 0. 0.] <-> [0.9500941  0.00214254 0.04776338]\n",
      "[0. 1. 0.] <-> [0.22415149 0.7746365  0.00121203]\n",
      "[1. 0. 0.] <-> [0.9947066  0.00146419 0.0038292 ]\n",
      "[1. 0. 0.] <-> [0.99614894 0.00269012 0.00116096]\n",
      "[1. 0. 0.] <-> [0.9925655  0.00534625 0.00208831]\n",
      "[0. 1. 0.] <-> [1.7722771e-02 9.8208147e-01 1.9569858e-04]\n",
      "[1. 0. 0.] <-> [0.97244734 0.0256603  0.00189231]\n",
      "[1. 0. 0.] <-> [0.9943566  0.00143767 0.00420566]\n",
      "[1. 0. 0.] <-> [0.99536836 0.0019095  0.00272215]\n",
      "[0. 1. 0.] <-> [5.8373036e-03 9.9406838e-01 9.4357885e-05]\n",
      "[1. 0. 0.] <-> [0.9965603  0.00224104 0.00119869]\n",
      "[1. 0. 0.] <-> [0.9959921  0.00268603 0.00132184]\n",
      "[1. 0. 0.] <-> [0.9964998  0.0017743  0.00172591]\n",
      "[0. 1. 0.] <-> [2.0337820e-02 9.7944313e-01 2.1909681e-04]\n",
      "[1. 0. 0.] <-> [0.9973508  0.00146625 0.00118282]\n",
      "{'accuracy': 0.9691358024691358, 'mean_square_error': 0.06389212704966701, 'categorical_crossentropy': 0.10219689651771828, 'essential_metrics': {0: {'tp_hit': 75, 'fp_hit': 2, 'tn_hit': 28, 'fn_hit': 3}, 1: {'tp_hit': 16, 'fp_hit': 2, 'tn_hit': 90, 'fn_hit': 0}, 2: {'tp_hit': 12, 'fp_hit': 1, 'tn_hit': 93, 'fn_hit': 2}}}\n"
     ]
    }
   ],
   "source": [
    "# recall phase\n",
    "score = model.evaluate(x_test, y_test, False)\n",
    "print(score)"
   ]
  },
  {
   "cell_type": "code",
   "execution_count": 11,
   "metadata": {},
   "outputs": [
    {
     "data": {
      "image/png": "[encoded data removed]",
      "text/plain": [
       "<Figure size 864x360 with 1 Axes>"
      ]
     },
     "metadata": {
      "needs_background": "light"
     },
     "output_type": "display_data"
    },
    {
     "data": {
      "image/png": "[encoded data removed]",
      "text/plain": [
       "<Figure size 864x360 with 1 Axes>"
      ]
     },
     "metadata": {
      "needs_background": "light"
     },
     "output_type": "display_data"
    }
   ],
   "source": [
    "draw_plot(x = [[i for i in range(len(history))], [(i+1)*breakpoint for i in range(len(checkpoints))]], y_list = [history, [ ckp[model.loss_fn] for ckp in checkpoints ]], x_label = 'Epochs', \\\n",
    "    y_label = model.loss_fn, legend=['train', 'test'])\n",
    "acc = [ ckp['accuracy'] for ckp in checkpoints ]\n",
    "draw_plot(x = [[(i+1)*breakpoint for i in range(len(checkpoints))]], y_list = [acc], x_label = 'Checkpoints', \\\n",
    "    y_label = 'accuracy')"
   ]
  },
  {
   "cell_type": "code",
   "execution_count": 12,
   "metadata": {},
   "outputs": [
    {
     "name": "stdout",
     "output_type": "stream",
     "text": [
      "{'accuracy': 0.9567901234567902, 'mean_square_error': 0.11081313241836953, 'categorical_crossentropy': 0.22201292603104203, 'essential_metrics': {0: {'tp_hit': 77, 'fp_hit': 6, 'tn_hit': 24, 'fn_hit': 1}, 1: {'tp_hit': 15, 'fp_hit': 1, 'tn_hit': 91, 'fn_hit': 1}, 2: {'tp_hit': 9, 'fp_hit': 0, 'tn_hit': 94, 'fn_hit': 5}}, 'checkpoint': 100} \n",
      "\n",
      "\n",
      "{'accuracy': 0.9691358024691358, 'mean_square_error': 0.06914989971405022, 'categorical_crossentropy': 0.11358235500476978, 'essential_metrics': {0: {'tp_hit': 75, 'fp_hit': 2, 'tn_hit': 28, 'fn_hit': 3}, 1: {'tp_hit': 16, 'fp_hit': 2, 'tn_hit': 90, 'fn_hit': 0}, 2: {'tp_hit': 12, 'fp_hit': 1, 'tn_hit': 93, 'fn_hit': 2}}, 'checkpoint': 200} \n",
      "\n",
      "\n",
      "{'accuracy': 0.9691358024691358, 'mean_square_error': 0.06776474898860341, 'categorical_crossentropy': 0.10878972653989438, 'essential_metrics': {0: {'tp_hit': 75, 'fp_hit': 2, 'tn_hit': 28, 'fn_hit': 3}, 1: {'tp_hit': 16, 'fp_hit': 2, 'tn_hit': 90, 'fn_hit': 0}, 2: {'tp_hit': 12, 'fp_hit': 1, 'tn_hit': 93, 'fn_hit': 2}}, 'checkpoint': 300} \n",
      "\n",
      "\n",
      "{'accuracy': 0.9691358024691358, 'mean_square_error': 0.06436902975755009, 'categorical_crossentropy': 0.10316960899918168, 'essential_metrics': {0: {'tp_hit': 75, 'fp_hit': 2, 'tn_hit': 28, 'fn_hit': 3}, 1: {'tp_hit': 15, 'fp_hit': 2, 'tn_hit': 90, 'fn_hit': 1}, 2: {'tp_hit': 13, 'fp_hit': 1, 'tn_hit': 93, 'fn_hit': 1}}, 'checkpoint': 400} \n",
      "\n",
      "\n",
      "{'accuracy': 0.9691358024691358, 'mean_square_error': 0.06389212704966701, 'categorical_crossentropy': 0.10219689651771828, 'essential_metrics': {0: {'tp_hit': 75, 'fp_hit': 2, 'tn_hit': 28, 'fn_hit': 3}, 1: {'tp_hit': 16, 'fp_hit': 2, 'tn_hit': 90, 'fn_hit': 0}, 2: {'tp_hit': 12, 'fp_hit': 1, 'tn_hit': 93, 'fn_hit': 2}}, 'checkpoint': 500} \n",
      "\n",
      "\n"
     ]
    }
   ],
   "source": [
    "for checkpoint in checkpoints:\n",
    "    print(checkpoint, '\\n\\n')"
   ]
  },
  {
   "cell_type": "code",
   "execution_count": 13,
   "metadata": {},
   "outputs": [
    {
     "name": "stdout",
     "output_type": "stream",
     "text": [
      "Layer 1\n",
      "Neuron 0: weights:\n",
      "[-0.10835879 -3.         -0.4232473   3.          3.        ]\n",
      " bias: -2.0636370182037354\n",
      "\n",
      "Neuron 1: weights:\n",
      "[-1.9622452   3.          3.         -1.9108272  -0.81386894]\n",
      " bias: -3.0\n",
      "\n",
      "Neuron 2: weights:\n",
      "[-2.2239876  3.         3.         3.        -2.3997262]\n",
      " bias: -2.696622848510742\n",
      "\n",
      "Neuron 3: weights:\n",
      "[ 0.10310878  3.         -0.2165005  -2.0061243  -3.        ]\n",
      " bias: 2.208585500717163\n",
      "\n",
      "$\n",
      "Layer 2\n",
      "Neuron 0: weights:\n",
      "[-3. -3. -3.  3.]\n",
      " bias: 2.382079839706421\n",
      "\n",
      "Neuron 1: weights:\n",
      "[-3.          3.          3.          0.21371841]\n",
      " bias: -1.691251277923584\n",
      "\n",
      "Neuron 2: weights:\n",
      "[ 3.         -3.         -0.19253074 -3.        ]\n",
      " bias: 1.4479024410247803\n",
      "\n",
      "$\n",
      "\n"
     ]
    }
   ],
   "source": [
    "print(model)"
   ]
  }
 ],
 "metadata": {
  "kernelspec": {
   "display_name": "Python 3",
   "language": "python",
   "name": "python3"
  },
  "language_info": {
   "codemirror_mode": {
    "name": "ipython",
    "version": 3
   },
   "file_extension": ".py",
   "mimetype": "text/x-python",
   "name": "python",
   "nbconvert_exporter": "python",
   "pygments_lexer": "ipython3",
   "version": "3.6.10"
  }
 },
 "nbformat": 4,
 "nbformat_minor": 2
}
