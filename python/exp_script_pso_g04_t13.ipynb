{
 "cells": [
  {
   "cell_type": "code",
   "execution_count": 1,
   "metadata": {},
   "outputs": [],
   "source": [
    "# dependency\n",
    "import numpy as np\n",
    "import pandas as pd\n",
    "import copy\n",
    "import math\n",
    "import sys\n",
    "import os\n",
    "from activations import relu, leaky_relu, sigmoid, tanh, softmax, d_sigmoid, d_relu\n",
    "from initializers import glorot_uniform, random_normal, random_uniform\n",
    "from regularizers import l1_regularizer, l2_regularizer\n",
    "from utility import trim_tail, multiply, subtract, get_nparams, one_hot_encoding, get_data\n",
    "from metrics import MSE, CCE, ACC, PRECISION, RECALL, essential_metrics, wondering_penalty, close_gap_penalty\n",
    "from pso import PSO\n",
    "from ga import GA\n",
    "from nn import Network\n",
    "from layer import DenseLayer\n",
    "from scalers import MinMaxScaler, StandardScaler"
   ]
  },
  {
   "cell_type": "code",
   "execution_count": 2,
   "metadata": {},
   "outputs": [],
   "source": [
    "# reference\n",
    "metrics_fn_dict = dict()\n",
    "metrics_fn_dict['accuracy'] = ACC\n",
    "metrics_fn_dict['categorical_crossentropy'] = CCE\n",
    "metrics_fn_dict['mean_square_error'] = MSE\n",
    "metrics_fn_dict['precision'] = PRECISION\n",
    "metrics_fn_dict['recall'] = RECALL\n",
    "metrics_fn_dict['essential_metrics'] = essential_metrics"
   ]
  },
  {
   "cell_type": "code",
   "execution_count": 3,
   "metadata": {},
   "outputs": [],
   "source": [
    "# model\n",
    "model = Network(5, lr = None)\n",
    "model.add_layer(DenseLayer(1, 4, True, afn=sigmoid, dafn=None, rfn=None))\n",
    "model.add_layer(DenseLayer(2, 3, True, afn=softmax, dafn=None, rfn=None))"
   ]
  },
  {
   "cell_type": "code",
   "execution_count": 4,
   "metadata": {},
   "outputs": [
    {
     "name": "stdout",
     "output_type": "stream",
     "text": [
      "see one see two 2 2\n"
     ]
    }
   ],
   "source": [
    "pso = PSO(dict(m = 50,\n",
    "    weight_constraint = [-3, 3], \n",
    "    velocity_constraint = [-0.1, 0.1],\n",
    "    c1 = 2,\n",
    "    c2 = 2,\n",
    "    w = 1.2,\n",
    "    w_decay = 1,\n",
    "    scale_hyperparameter = False,\n",
    "    regularizer = None,\n",
    "    mask = True))"
   ]
  },
  {
   "cell_type": "code",
   "execution_count": 5,
   "metadata": {},
   "outputs": [
    {
     "name": "stdout",
     "output_type": "stream",
     "text": [
      "building layer 1 with 5\n",
      "24\n",
      "building layer 2 with 4\n",
      "15\n"
     ]
    }
   ],
   "source": [
    "model.compile(loss_fn = 'categorical_crossentropy', optimizer = pso, \\\n",
    "    metrics = ['accuracy', 'mean_square_error', 'categorical_crossentropy'])"
   ]
  },
  {
   "cell_type": "code",
   "execution_count": 6,
   "metadata": {},
   "outputs": [
    {
     "name": "stdout",
     "output_type": "stream",
     "text": [
      "<class 'pandas.core.frame.DataFrame'>\n",
      "RangeIndex: 107 entries, 0 to 106\n",
      "Data columns (total 6 columns):\n",
      " #   Column  Non-Null Count  Dtype  \n",
      "---  ------  --------------  -----  \n",
      " 0   f1      107 non-null    float32\n",
      " 1   f2      107 non-null    float32\n",
      " 2   f3      107 non-null    float32\n",
      " 3   f4      107 non-null    float32\n",
      " 4   f5      107 non-null    float32\n",
      " 5   label   107 non-null    float32\n",
      "dtypes: float32(6)\n",
      "memory usage: 2.6 KB\n",
      "None\n",
      "<class 'pandas.core.frame.DataFrame'>\n",
      "RangeIndex: 108 entries, 0 to 107\n",
      "Data columns (total 6 columns):\n",
      " #   Column  Non-Null Count  Dtype  \n",
      "---  ------  --------------  -----  \n",
      " 0   f1      108 non-null    float32\n",
      " 1   f2      108 non-null    float32\n",
      " 2   f3      108 non-null    float32\n",
      " 3   f4      108 non-null    float32\n",
      " 4   f5      108 non-null    float32\n",
      " 5   label   108 non-null    float32\n",
      "dtypes: float32(6)\n",
      "memory usage: 2.7 KB\n",
      "None\n"
     ]
    }
   ],
   "source": [
    "# data loading\n",
    "DATA = os.path.join('c:\\\\Users\\\\tcumi\\\\github_repo\\\\neural-network\\\\', 'dataset')\n",
    "GROUP = 4\n",
    "COLUMNS = ['f1', 'f2', 'f3', 'f4', 'f5', 'label']\n",
    "N_CLASS = 3\n",
    "EPOCHS = 500\n",
    "train_dir, test_dir = \"..//dataset//training_data{}.txt\".format(GROUP), \"..//dataset//testing_data{}.txt\".format(GROUP)\n",
    "train, test = get_data(DATA, train_dir, COLUMNS), get_data(DATA, test_dir, COLUMNS)\n",
    "# shuffle\n",
    "train, test = train.sample(frac=1), test.sample(frac=1)\n",
    "x_train, y_train = train.drop('label', axis=1), train['label']\n",
    "x_test, y_test = test.drop('label', axis=1), test['label']"
   ]
  },
  {
   "cell_type": "code",
   "execution_count": 7,
   "metadata": {},
   "outputs": [],
   "source": [
    "# data scaling and encoding\n",
    "scaler = StandardScaler(['f1', 'f2', 'f3', 'f4', 'f5'])\n",
    "scaler.fit(x_train)\n",
    "x_train = scaler.transform(x_train)\n",
    "x_test = scaler.transform(x_test)\n",
    "y_train = one_hot_encoding(y_train, N_CLASS)\n",
    "y_test = one_hot_encoding(y_test, N_CLASS)"
   ]
  },
  {
   "cell_type": "code",
   "execution_count": 8,
   "metadata": {
    "tags": [
     "outputPrepend"
    ]
   },
   "outputs": [
    {
     "name": "stdout",
     "output_type": "stream",
     "text": [
      "Checkpoint 100, Accuracy: 0.9567901234567902, Loss: 0.2854800930729619\n",
      "Checkpoint 200, Accuracy: 0.9691358024691358, Loss: 0.14422140298066316\n",
      "Checkpoint 300, Accuracy: 0.9691358024691358, Loss: 0.11748140829580801\n",
      "Checkpoint 400, Accuracy: 0.9691358024691358, Loss: 0.10984842865555375\n",
      "Checkpoint 500, Accuracy: 0.9691358024691358, Loss: 0.10724978976779515\n"
     ]
    }
   ],
   "source": [
    "# learning phase\n",
    "breakpoint = 100\n",
    "checkpoints = list()\n",
    "history = list()\n",
    "for century in range(0, EPOCHS, breakpoint):\n",
    "    sub_history = model.fit(x_train, y_train, breakpoint, verbose = 0)\n",
    "    score = model.evaluate(x_test, y_test, False, verbose = 0)\n",
    "    print('Checkpoint {}, Accuracy: {}, Loss: {}'.format(century+breakpoint, score['accuracy'], score[model.loss_fn]))\n",
    "    score['checkpoint'] = century + breakpoint\n",
    "    checkpoints.append(score)\n",
    "    history.extend(sub_history)"
   ]
  },
  {
   "cell_type": "code",
   "execution_count": 9,
   "metadata": {},
   "outputs": [],
   "source": [
    "import matplotlib.pyplot as plt\n",
    "\n",
    "def draw_plot(x, y_list, x_label=None, y_label=None, legend=None, title=None):\n",
    "    fig, ax = plt.subplots(figsize=(12,5))\n",
    "    for xi, yi in zip(x, y_list):\n",
    "        ax.plot(xi, yi)\n",
    "    if x_label is not None and y_label is not None:\n",
    "        ax.set(xlabel=x_label, ylabel=y_label, title='{} VS {}'.format(x_label, y_label))\n",
    "    if legend is not None:\n",
    "        ax.legend(legend)\n",
    "    ax.grid()\n",
    "    plt.show()"
   ]
  },
  {
   "cell_type": "code",
   "execution_count": 10,
   "metadata": {},
   "outputs": [
    {
     "name": "stdout",
     "output_type": "stream",
     "text": [
      "[1. 0. 0.] <-> [0.9657965  0.00246926 0.03173422]\n",
      "[0. 1. 0.] <-> [0.0169211  0.98109347 0.00198547]\n",
      "[1. 0. 0.] <-> [0.9778074  0.00213773 0.02005476]\n",
      "[1. 0. 0.] <-> [0.9968201  0.00170685 0.00147297]\n",
      "[1. 0. 0.] <-> [0.98829085 0.00981095 0.00189822]\n",
      "[0. 1. 0.] <-> [0.04877874 0.9486904  0.00253086]\n",
      "[0. 1. 0.] <-> [0.00432832 0.99445444 0.00121721]\n",
      "[0. 0. 1.] <-> [6.3712575e-02 2.4978956e-04 9.3603760e-01]\n",
      "[0. 1. 0.] <-> [0.01164541 0.98659337 0.00176128]\n",
      "[0. 0. 1.] <-> [9.1572013e-03 4.4496675e-05 9.9079835e-01]\n",
      "[1. 0. 0.] <-> [0.9953709  0.00351632 0.00111277]\n",
      "[0. 1. 0.] <-> [0.00432844 0.9944547  0.00121689]\n",
      "[1. 0. 0.] <-> [0.960243   0.0140401  0.02571688]\n",
      "[0. 0. 1.] <-> [1.4591156e-02 6.7915767e-05 9.8534089e-01]\n",
      "[1. 0. 0.] <-> [0.9964813  0.00203025 0.0014884 ]\n",
      "[1. 0. 0.] <-> [0.99632025 0.0022871  0.00139266]\n",
      "[1. 0. 0.] <-> [0.996172   0.00194187 0.00188618]\n",
      "[1. 0. 0.] <-> [0.99704474 0.00170346 0.00125182]\n",
      "[1. 0. 0.] <-> [0.9847009  0.00409362 0.01120552]\n",
      "[1. 0. 0.] <-> [0.9970939  0.00163534 0.00127077]\n",
      "[1. 0. 0.] <-> [0.99532384 0.00317838 0.00149791]\n",
      "[1. 0. 0.] <-> [0.9956886  0.00226597 0.00204541]\n",
      "[0. 0. 1.] <-> [1.2210256e-02 5.7375237e-05 9.8773241e-01]\n",
      "[1. 0. 0.] <-> [0.9957585  0.00181555 0.002426  ]\n",
      "[1. 0. 0.] <-> [0.99477273 0.00377096 0.00145635]\n",
      "[0. 1. 0.] <-> [0.00435948 0.99441177 0.00122887]\n",
      "[1. 0. 0.] <-> [0.9934336  0.00171372 0.00485267]\n",
      "[1. 0. 0.] <-> [0.9675386  0.02462075 0.00784071]\n",
      "[0. 0. 1.] <-> [9.0386430e-03 4.3526241e-05 9.9091786e-01]\n",
      "[1. 0. 0.] <-> [0.99649316 0.00169872 0.00180817]\n",
      "[1. 0. 0.] <-> [0.9703342  0.00234296 0.0273228 ]\n",
      "[0. 0. 1.] <-> [0.56286883 0.00164334 0.4354878 ]\n",
      "[0. 1. 0.] <-> [0.00527971 0.9934105  0.00130981]\n",
      "[1. 0. 0.] <-> [0.9949927  0.00167814 0.00332921]\n",
      "[1. 0. 0.] <-> [0.59213483 0.4009052  0.00695997]\n",
      "[1. 0. 0.] <-> [0.99632263 0.00260378 0.00107352]\n",
      "[1. 0. 0.] <-> [0.9435787  0.00215631 0.05426498]\n",
      "[1. 0. 0.] <-> [0.995344   0.00353739 0.00111856]\n",
      "[0. 1. 0.] <-> [0.00432915 0.9944518  0.00121901]\n",
      "[1. 0. 0.] <-> [0.73363733 0.2598984  0.00646427]\n",
      "[1. 0. 0.] <-> [0.85353506 0.00215628 0.14430869]\n",
      "[1. 0. 0.] <-> [9.9691427e-01 2.2216211e-03 8.6406904e-04]\n",
      "[1. 0. 0.] <-> [0.9890943  0.00184714 0.00905847]\n",
      "[0. 1. 0.] <-> [0.23041022 0.76630926 0.0032805 ]\n",
      "[0. 1. 0.] <-> [0.00434517 0.9944337  0.00122112]\n",
      "[1. 0. 0.] <-> [0.9974233  0.00149514 0.00108156]\n",
      "[1. 0. 0.] <-> [0.99661785 0.00210007 0.00128216]\n",
      "[1. 0. 0.] <-> [0.98575366 0.00186977 0.01237657]\n",
      "[1. 0. 0.] <-> [0.98354846 0.01446589 0.00198569]\n",
      "[1. 0. 0.] <-> [0.99636674 0.00255472 0.0010785 ]\n",
      "[1. 0. 0.] <-> [0.9957243  0.00275799 0.00151765]\n",
      "[0. 1. 0.] <-> [0.0043285  0.9944547  0.00121674]\n",
      "[1. 0. 0.] <-> [0.9940003  0.00171143 0.00428825]\n",
      "[1. 0. 0.] <-> [0.99553996 0.00313492 0.00132516]\n",
      "[0. 1. 0.] <-> [0.0043285  0.9944547  0.00121676]\n",
      "[1. 0. 0.] <-> [0.99465406 0.00177642 0.00356952]\n",
      "[1. 0. 0.] <-> [0.9926844  0.00206547 0.00525014]\n",
      "[1. 0. 0.] <-> [9.9674547e-01 2.3237101e-03 9.3080447e-04]\n",
      "[1. 0. 0.] <-> [1.236100e-01 4.603215e-04 8.759297e-01]\n",
      "[0. 0. 1.] <-> [8.6510815e-03 4.2168678e-05 9.9130672e-01]\n",
      "[1. 0. 0.] <-> [0.99552757 0.00174364 0.00272884]\n",
      "[1. 0. 0.] <-> [0.9896764  0.00184812 0.00847542]\n",
      "[1. 0. 0.] <-> [0.9972905  0.00164695 0.00106261]\n",
      "[1. 0. 0.] <-> [0.9950599  0.00243571 0.00250425]\n",
      "[1. 0. 0.] <-> [0.74571025 0.24798478 0.006305  ]\n",
      "[1. 0. 0.] <-> [0.8565147  0.00220952 0.14127581]\n",
      "[1. 0. 0.] <-> [0.9945589  0.00416709 0.00127409]\n",
      "[0. 0. 1.] <-> [8.5293204e-03 4.2188494e-05 9.9142843e-01]\n",
      "[1. 0. 0.] <-> [0.9964992  0.00183991 0.00166085]\n",
      "[1. 0. 0.] <-> [0.90942043 0.08711594 0.00346365]\n",
      "[1. 0. 0.] <-> [0.98921305 0.00815539 0.00263152]\n",
      "[1. 0. 0.] <-> [0.13445535 0.86178845 0.00375622]\n",
      "[1. 0. 0.] <-> [9.9734831e-01 1.7668366e-03 8.8483019e-04]\n",
      "[1. 0. 0.] <-> [0.99629056 0.00252369 0.00118582]\n",
      "[1. 0. 0.] <-> [0.9933181  0.00503794 0.00164398]\n",
      "[0. 1. 0.] <-> [0.21369815 0.782573   0.00372891]\n",
      "[1. 0. 0.] <-> [0.9944115  0.00456059 0.00102785]\n",
      "[1. 0. 0.] <-> [0.9662082  0.03115972 0.00263209]\n",
      "[1. 0. 0.] <-> [0.9918972  0.00380341 0.00429936]\n",
      "[1. 0. 0.] <-> [0.9939985  0.00179165 0.00420984]\n",
      "[0. 0. 1.] <-> [0.5376858  0.00163369 0.46068048]\n",
      "[1. 0. 0.] <-> [0.55747813 0.00187689 0.440645  ]\n",
      "[1. 0. 0.] <-> [0.9971162  0.00179247 0.00109126]\n",
      "[0. 0. 1.] <-> [1.3204992e-02 6.2768195e-05 9.8673218e-01]\n",
      "[1. 0. 0.] <-> [0.9967604  0.00210312 0.00113648]\n",
      "[1. 0. 0.] <-> [0.19950809 0.7937662  0.00672574]\n",
      "[1. 0. 0.] <-> [9.9619460e-01 2.8121972e-03 9.9310069e-04]\n",
      "[1. 0. 0.] <-> [0.9968194  0.00212405 0.00105652]\n",
      "[0. 1. 0.] <-> [0.0043285  0.9944547  0.00121674]\n",
      "[1. 0. 0.] <-> [0.99124485 0.00727765 0.00147743]\n",
      "[1. 0. 0.] <-> [9.9747181e-01 1.5517607e-03 9.7649085e-04]\n",
      "[1. 0. 0.] <-> [0.5505538  0.44214308 0.00730308]\n",
      "[1. 0. 0.] <-> [0.9958741  0.00312389 0.00100199]\n",
      "[1. 0. 0.] <-> [9.9702770e-01 2.0424821e-03 9.2980039e-04]\n",
      "[1. 0. 0.] <-> [0.9970385  0.00164037 0.00132119]\n",
      "[1. 0. 0.] <-> [0.9968574  0.0018044  0.00133822]\n",
      "[0. 0. 1.] <-> [5.9166465e-02 2.3486848e-04 9.4059867e-01]\n",
      "[1. 0. 0.] <-> [0.9607041  0.03675736 0.00253852]\n",
      "[1. 0. 0.] <-> [0.97643536 0.02128017 0.00228448]\n",
      "[1. 0. 0.] <-> [0.99482083 0.00417993 0.00099922]\n",
      "[1. 0. 0.] <-> [0.99423164 0.00223038 0.00353796]\n",
      "[0. 0. 1.] <-> [1.3276743e-02 6.2568877e-05 9.8666072e-01]\n",
      "[0. 0. 1.] <-> [1.8054942e-02 8.3350336e-05 9.8186171e-01]\n",
      "[0. 1. 0.] <-> [0.01100512 0.9874715  0.00152338]\n",
      "[0. 1. 0.] <-> [0.0169745  0.9813121  0.00171346]\n",
      "[1. 0. 0.] <-> [0.9943053  0.0036326  0.00206212]\n",
      "[1. 0. 0.] <-> [0.9971969  0.00158127 0.00122182]\n",
      "[0. 0. 1.] <-> [7.5913924e-03 4.2221724e-05 9.9236637e-01]\n",
      "{'accuracy': 0.9691358024691358, 'mean_square_error': 0.0670593432570439, 'categorical_crossentropy': 0.10724978976779515, 'essential_metrics': {0: {'tp_hit': 75, 'fp_hit': 2, 'tn_hit': 28, 'fn_hit': 3}, 1: {'tp_hit': 16, 'fp_hit': 2, 'tn_hit': 90, 'fn_hit': 0}, 2: {'tp_hit': 12, 'fp_hit': 1, 'tn_hit': 93, 'fn_hit': 2}}}\n"
     ]
    }
   ],
   "source": [
    "# recall phase\n",
    "score = model.evaluate(x_test, y_test, False)\n",
    "print(score)"
   ]
  },
  {
   "cell_type": "code",
   "execution_count": 11,
   "metadata": {},
   "outputs": [
    {
     "data": {
      "image/png": "[encoded data removed]",
      "text/plain": [
       "<Figure size 864x360 with 1 Axes>"
      ]
     },
     "metadata": {
      "needs_background": "light"
     },
     "output_type": "display_data"
    },
    {
     "data": {
      "image/png": "[encoded data removed]",
      "text/plain": [
       "<Figure size 864x360 with 1 Axes>"
      ]
     },
     "metadata": {
      "needs_background": "light"
     },
     "output_type": "display_data"
    }
   ],
   "source": [
    "draw_plot(x = [[i for i in range(len(history))], [(i+1)*breakpoint for i in range(len(checkpoints))]], y_list = [history, [ ckp[model.loss_fn] for ckp in checkpoints ]], x_label = 'Epochs', \\\n",
    "    y_label = model.loss_fn, legend=['train', 'test'])\n",
    "acc = [ ckp['accuracy'] for ckp in checkpoints ]\n",
    "draw_plot(x = [[(i+1)*breakpoint for i in range(len(checkpoints))]], y_list = [acc], x_label = 'Checkpoints', \\\n",
    "    y_label = 'accuracy')"
   ]
  },
  {
   "cell_type": "code",
   "execution_count": 12,
   "metadata": {},
   "outputs": [
    {
     "name": "stdout",
     "output_type": "stream",
     "text": [
      "{'accuracy': 0.9567901234567902, 'mean_square_error': 0.14511518861453943, 'categorical_crossentropy': 0.2854800930729619, 'essential_metrics': {0: {'tp_hit': 76, 'fp_hit': 5, 'tn_hit': 25, 'fn_hit': 2}, 1: {'tp_hit': 16, 'fp_hit': 2, 'tn_hit': 90, 'fn_hit': 0}, 2: {'tp_hit': 9, 'fp_hit': 0, 'tn_hit': 94, 'fn_hit': 5}}, 'checkpoint': 100} \n",
      "\n",
      "\n",
      "{'accuracy': 0.9691358024691358, 'mean_square_error': 0.08448896219869396, 'categorical_crossentropy': 0.14422140298066316, 'essential_metrics': {0: {'tp_hit': 75, 'fp_hit': 2, 'tn_hit': 28, 'fn_hit': 3}, 1: {'tp_hit': 16, 'fp_hit': 2, 'tn_hit': 90, 'fn_hit': 0}, 2: {'tp_hit': 12, 'fp_hit': 1, 'tn_hit': 93, 'fn_hit': 2}}, 'checkpoint': 200} \n",
      "\n",
      "\n",
      "{'accuracy': 0.9691358024691358, 'mean_square_error': 0.07349973823495161, 'categorical_crossentropy': 0.11748140829580801, 'essential_metrics': {0: {'tp_hit': 74, 'fp_hit': 1, 'tn_hit': 29, 'fn_hit': 4}, 1: {'tp_hit': 16, 'fp_hit': 3, 'tn_hit': 89, 'fn_hit': 0}, 2: {'tp_hit': 13, 'fp_hit': 1, 'tn_hit': 93, 'fn_hit': 1}}, 'checkpoint': 300} \n",
      "\n",
      "\n",
      "{'accuracy': 0.9691358024691358, 'mean_square_error': 0.06829248640905874, 'categorical_crossentropy': 0.10984842865555375, 'essential_metrics': {0: {'tp_hit': 75, 'fp_hit': 2, 'tn_hit': 28, 'fn_hit': 3}, 1: {'tp_hit': 16, 'fp_hit': 2, 'tn_hit': 90, 'fn_hit': 0}, 2: {'tp_hit': 12, 'fp_hit': 1, 'tn_hit': 93, 'fn_hit': 2}}, 'checkpoint': 400} \n",
      "\n",
      "\n",
      "{'accuracy': 0.9691358024691358, 'mean_square_error': 0.0670593432570439, 'categorical_crossentropy': 0.10724978976779515, 'essential_metrics': {0: {'tp_hit': 75, 'fp_hit': 2, 'tn_hit': 28, 'fn_hit': 3}, 1: {'tp_hit': 16, 'fp_hit': 2, 'tn_hit': 90, 'fn_hit': 0}, 2: {'tp_hit': 12, 'fp_hit': 1, 'tn_hit': 93, 'fn_hit': 2}}, 'checkpoint': 500} \n",
      "\n",
      "\n"
     ]
    }
   ],
   "source": [
    "for checkpoint in checkpoints:\n",
    "    print(checkpoint, '\\n\\n')"
   ]
  },
  {
   "cell_type": "code",
   "execution_count": 13,
   "metadata": {},
   "outputs": [
    {
     "name": "stdout",
     "output_type": "stream",
     "text": [
      "Layer 1\n",
      "Neuron 0: weights:\n",
      "[-0.03469571 -3.         -0.20408641  0.6763993   3.        ]\n",
      " bias: -2.551954984664917\n",
      "\n",
      "Neuron 1: weights:\n",
      "[ 1.8973737 -3.        -3.         1.8420568  1.1927844]\n",
      " bias: 3.0\n",
      "\n",
      "Neuron 2: weights:\n",
      "[-2.1183      3.          3.          3.         -0.25985944]\n",
      " bias: -1.848710298538208\n",
      "\n",
      "Neuron 3: weights:\n",
      "[ 0.13901226  3.          0.19131295 -1.4976833  -3.        ]\n",
      " bias: 2.3158862590789795\n",
      "\n",
      "$\n",
      "Layer 2\n",
      "Neuron 0: weights:\n",
      "[-3.  3. -3.  3.]\n",
      " bias: 2.3341565132141113\n",
      "\n",
      "Neuron 1: weights:\n",
      "[-3.        -3.         3.         1.7711284]\n",
      " bias: 3.0\n",
      "\n",
      "Neuron 2: weights:\n",
      "[ 3.  3.  3. -3.]\n",
      " bias: 1.065102219581604\n",
      "\n",
      "$\n",
      "\n"
     ]
    }
   ],
   "source": [
    "print(model)"
   ]
  }
 ],
 "metadata": {
  "kernelspec": {
   "display_name": "Python 3",
   "language": "python",
   "name": "python3"
  },
  "language_info": {
   "codemirror_mode": {
    "name": "ipython",
    "version": 3
   },
   "file_extension": ".py",
   "mimetype": "text/x-python",
   "name": "python",
   "nbconvert_exporter": "python",
   "pygments_lexer": "ipython3",
   "version": "3.6.10"
  }
 },
 "nbformat": 4,
 "nbformat_minor": 2
}
