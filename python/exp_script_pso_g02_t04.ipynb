{
 "cells": [
  {
   "cell_type": "code",
   "execution_count": 1,
   "metadata": {},
   "outputs": [],
   "source": [
    "# dependency\n",
    "import numpy as np\n",
    "import pandas as pd\n",
    "import copy\n",
    "import math\n",
    "import sys\n",
    "import os\n",
    "from activations import relu, leaky_relu, sigmoid, tanh, softmax, d_sigmoid, d_relu\n",
    "from initializers import glorot_uniform, random_normal, random_uniform\n",
    "from regularizers import l1_regularizer, l2_regularizer\n",
    "from utility import trim_tail, multiply, subtract, get_nparams, one_hot_encoding, get_data\n",
    "from metrics import MSE, CCE, ACC, PRECISION, RECALL, essential_metrics, wondering_penalty, close_gap_penalty\n",
    "from pso import PSO\n",
    "from ga import GA\n",
    "from nn import Network\n",
    "from layer import DenseLayer\n",
    "from scalers import MinMaxScaler, StandardScaler"
   ]
  },
  {
   "cell_type": "code",
   "execution_count": 2,
   "metadata": {},
   "outputs": [],
   "source": [
    "# reference\n",
    "metrics_fn_dict = dict()\n",
    "metrics_fn_dict['accuracy'] = ACC\n",
    "metrics_fn_dict['categorical_crossentropy'] = CCE\n",
    "metrics_fn_dict['mean_square_error'] = MSE\n",
    "metrics_fn_dict['precision'] = PRECISION\n",
    "metrics_fn_dict['recall'] = RECALL\n",
    "metrics_fn_dict['essential_metrics'] = essential_metrics"
   ]
  },
  {
   "cell_type": "code",
   "execution_count": 3,
   "metadata": {},
   "outputs": [],
   "source": [
    "# model\n",
    "model = Network(5, lr = None)\n",
    "model.add_layer(DenseLayer(1, 4, True, afn=sigmoid, dafn=None, rfn=None))\n",
    "model.add_layer(DenseLayer(2, 3, True, afn=softmax, dafn=None, rfn=None))"
   ]
  },
  {
   "cell_type": "code",
   "execution_count": 4,
   "metadata": {},
   "outputs": [
    {
     "name": "stdout",
     "output_type": "stream",
     "text": [
      "see one see two 2 2\n"
     ]
    }
   ],
   "source": [
    "pso = PSO(dict(m = 50,\n",
    "    weight_constraint = [-3, 3], \n",
    "    velocity_constraint = [-0.1, 0.1],\n",
    "    c1 = 2,\n",
    "    c2 = 2,\n",
    "    w = 1,\n",
    "    w_decay = 1,\n",
    "    scale_hyperparameter = False,\n",
    "    regularizer = l2_regularizer,\n",
    "    mask = True))"
   ]
  },
  {
   "cell_type": "code",
   "execution_count": 5,
   "metadata": {},
   "outputs": [
    {
     "name": "stdout",
     "output_type": "stream",
     "text": [
      "building layer 1 with 5\n",
      "24\n",
      "building layer 2 with 4\n",
      "15\n"
     ]
    }
   ],
   "source": [
    "model.compile(loss_fn = 'categorical_crossentropy', optimizer = pso, \\\n",
    "    metrics = ['accuracy', 'mean_square_error', 'categorical_crossentropy'])"
   ]
  },
  {
   "cell_type": "code",
   "execution_count": 6,
   "metadata": {},
   "outputs": [
    {
     "name": "stdout",
     "output_type": "stream",
     "text": [
      "<class 'pandas.core.frame.DataFrame'>\n",
      "RangeIndex: 107 entries, 0 to 106\n",
      "Data columns (total 6 columns):\n",
      " #   Column  Non-Null Count  Dtype  \n",
      "---  ------  --------------  -----  \n",
      " 0   f1      107 non-null    float32\n",
      " 1   f2      107 non-null    float32\n",
      " 2   f3      107 non-null    float32\n",
      " 3   f4      107 non-null    float32\n",
      " 4   f5      107 non-null    float32\n",
      " 5   label   107 non-null    float32\n",
      "dtypes: float32(6)\n",
      "memory usage: 2.6 KB\n",
      "None\n",
      "<class 'pandas.core.frame.DataFrame'>\n",
      "RangeIndex: 108 entries, 0 to 107\n",
      "Data columns (total 6 columns):\n",
      " #   Column  Non-Null Count  Dtype  \n",
      "---  ------  --------------  -----  \n",
      " 0   f1      108 non-null    float32\n",
      " 1   f2      108 non-null    float32\n",
      " 2   f3      108 non-null    float32\n",
      " 3   f4      108 non-null    float32\n",
      " 4   f5      108 non-null    float32\n",
      " 5   label   108 non-null    float32\n",
      "dtypes: float32(6)\n",
      "memory usage: 2.7 KB\n",
      "None\n"
     ]
    }
   ],
   "source": [
    "# data loading\n",
    "DATA = os.path.join('c:\\\\Users\\\\tcumi\\\\github_repo\\\\neural-network\\\\', 'dataset')\n",
    "GROUP = 2\n",
    "COLUMNS = ['f1', 'f2', 'f3', 'f4', 'f5', 'label']\n",
    "N_CLASS = 3\n",
    "EPOCHS = 500\n",
    "train_dir, test_dir = \"..//dataset//training_data{}.txt\".format(GROUP), \"..//dataset//testing_data{}.txt\".format(GROUP)\n",
    "train, test = get_data(DATA, train_dir, COLUMNS), get_data(DATA, test_dir, COLUMNS)\n",
    "# shuffle\n",
    "train, test = train.sample(frac=1), test.sample(frac=1)\n",
    "x_train, y_train = train.drop('label', axis=1), train['label']\n",
    "x_test, y_test = test.drop('label', axis=1), test['label']"
   ]
  },
  {
   "cell_type": "code",
   "execution_count": 7,
   "metadata": {},
   "outputs": [],
   "source": [
    "# data scaling and encoding\n",
    "scaler = StandardScaler(['f1', 'f2', 'f3', 'f4', 'f5'])\n",
    "scaler.fit(x_train)\n",
    "x_train = scaler.transform(x_train)\n",
    "x_test = scaler.transform(x_test)\n",
    "y_train = one_hot_encoding(y_train, N_CLASS)\n",
    "y_test = one_hot_encoding(y_test, N_CLASS)"
   ]
  },
  {
   "cell_type": "code",
   "execution_count": 8,
   "metadata": {
    "tags": [
     "outputPrepend"
    ]
   },
   "outputs": [
    {
     "name": "stdout",
     "output_type": "stream",
     "text": [
      "Checkpoint 100, Accuracy: 0.9629629629629629, Loss: 0.2417864622893157\n",
      "Checkpoint 200, Accuracy: 0.9567901234567902, Loss: 0.22640161161069516\n",
      "Checkpoint 300, Accuracy: 0.9629629629629629, Loss: 0.22781765902483905\n",
      "Checkpoint 400, Accuracy: 0.9567901234567902, Loss: 0.24038219451904297\n",
      "Checkpoint 500, Accuracy: 0.9629629629629629, Loss: 0.22372719093605323\n"
     ]
    }
   ],
   "source": [
    "# learning phase\n",
    "breakpoint = 100\n",
    "checkpoints = list()\n",
    "history = list()\n",
    "for century in range(0, EPOCHS, breakpoint):\n",
    "    sub_history = model.fit(x_train, y_train, breakpoint, verbose = 0)\n",
    "    score = model.evaluate(x_test, y_test, False, verbose = 0)\n",
    "    print('Checkpoint {}, Accuracy: {}, Loss: {}'.format(century+breakpoint, score['accuracy'], score[model.loss_fn]))\n",
    "    score['checkpoint'] = century + breakpoint\n",
    "    checkpoints.append(score)\n",
    "    history.extend(sub_history)"
   ]
  },
  {
   "cell_type": "code",
   "execution_count": 9,
   "metadata": {},
   "outputs": [],
   "source": [
    "import matplotlib.pyplot as plt\n",
    "\n",
    "def draw_plot(x, y_list, x_label=None, y_label=None, legend=None, title=None):\n",
    "    fig, ax = plt.subplots(figsize=(12,5))\n",
    "    for xi, yi in zip(x, y_list):\n",
    "        ax.plot(xi, yi)\n",
    "    if x_label is not None and y_label is not None:\n",
    "        ax.set(xlabel=x_label, ylabel=y_label, title='{} VS {}'.format(x_label, y_label))\n",
    "    if legend is not None:\n",
    "        ax.legend(legend)\n",
    "    ax.grid()\n",
    "    plt.show()"
   ]
  },
  {
   "cell_type": "code",
   "execution_count": 10,
   "metadata": {},
   "outputs": [
    {
     "name": "stdout",
     "output_type": "stream",
     "text": [
      "[1. 0. 0.] <-> [0.89244866 0.06466684 0.04288442]\n",
      "[1. 0. 0.] <-> [0.884405   0.02938098 0.08621408]\n",
      "[1. 0. 0.] <-> [0.8615334  0.06625602 0.07221048]\n",
      "[1. 0. 0.] <-> [0.8309766  0.12298323 0.04604017]\n",
      "[1. 0. 0.] <-> [0.8779571  0.07722975 0.04481321]\n",
      "[0. 1. 0.] <-> [0.09590016 0.8989514  0.00514847]\n",
      "[1. 0. 0.] <-> [0.8719177  0.09716547 0.03091682]\n",
      "[1. 0. 0.] <-> [0.92419285 0.02811658 0.04769068]\n",
      "[1. 0. 0.] <-> [0.83431786 0.1350103  0.03067187]\n",
      "[1. 0. 0.] <-> [0.82768637 0.03047998 0.14183368]\n",
      "[1. 0. 0.] <-> [0.784202   0.03330486 0.18249318]\n",
      "[1. 0. 0.] <-> [0.45643172 0.02160371 0.52196455]\n",
      "[0. 0. 1.] <-> [0.43915522 0.01742882 0.54341596]\n",
      "[0. 1. 0.] <-> [0.23607391 0.7549534  0.0089727 ]\n",
      "[1. 0. 0.] <-> [0.9045157  0.05050053 0.04498377]\n",
      "[1. 0. 0.] <-> [0.88092893 0.03611391 0.08295721]\n",
      "[1. 0. 0.] <-> [0.8565799  0.1035576  0.03986248]\n",
      "[1. 0. 0.] <-> [0.8894268  0.02743167 0.08314154]\n",
      "[0. 1. 0.] <-> [0.6394942  0.3408209  0.01968487]\n",
      "[1. 0. 0.] <-> [0.8694799  0.07763448 0.05288557]\n",
      "[1. 0. 0.] <-> [0.8415164  0.02266998 0.13581373]\n",
      "[1. 0. 0.] <-> [0.8914925  0.03680063 0.07170687]\n",
      "[0. 1. 0.] <-> [0.48453292 0.50109434 0.01437274]\n",
      "[1. 0. 0.] <-> [0.91497743 0.03931841 0.04570427]\n",
      "[1. 0. 0.] <-> [0.9082917  0.01948752 0.0722207 ]\n",
      "[0. 1. 0.] <-> [0.09243415 0.90248007 0.00508586]\n",
      "[1. 0. 0.] <-> [0.8053425  0.16511561 0.02954183]\n",
      "[1. 0. 0.] <-> [0.8410366  0.02247098 0.1364924 ]\n",
      "[1. 0. 0.] <-> [0.8908023  0.05125361 0.05794407]\n",
      "[1. 0. 0.] <-> [0.8534712  0.11265844 0.03387028]\n",
      "[0. 1. 0.] <-> [0.28677276 0.70423806 0.00898923]\n",
      "[1. 0. 0.] <-> [0.7374553  0.03318191 0.22936274]\n",
      "[1. 0. 0.] <-> [0.88290995 0.06734248 0.04974755]\n",
      "[1. 0. 0.] <-> [0.9038194  0.04791457 0.04826603]\n",
      "[1. 0. 0.] <-> [0.84960234 0.10552101 0.04487665]\n",
      "[1. 0. 0.] <-> [0.8981353  0.04911329 0.05275141]\n",
      "[1. 0. 0.] <-> [0.90463656 0.04752496 0.0478385 ]\n",
      "[1. 0. 0.] <-> [0.88583225 0.05741891 0.05674884]\n",
      "[0. 0. 1.] <-> [0.82599074 0.01479915 0.15921019]\n",
      "[1. 0. 0.] <-> [0.8204166  0.14625686 0.03332661]\n",
      "[1. 0. 0.] <-> [0.89299077 0.07444394 0.0325653 ]\n",
      "[1. 0. 0.] <-> [0.8927457  0.06855144 0.03870283]\n",
      "[1. 0. 0.] <-> [0.86465144 0.07780809 0.05754048]\n",
      "[1. 0. 0.] <-> [0.71416086 0.02754653 0.25829268]\n",
      "[1. 0. 0.] <-> [0.8310384  0.07083923 0.0981224 ]\n",
      "[1. 0. 0.] <-> [0.8839893  0.06440943 0.05160134]\n",
      "[0. 0. 1.] <-> [0.14694282 0.01003105 0.8430261 ]\n",
      "[1. 0. 0.] <-> [0.87303096 0.02500669 0.10196239]\n",
      "[1. 0. 0.] <-> [0.90453464 0.02983629 0.06562907]\n",
      "[0. 0. 1.] <-> [0.10309551 0.00862135 0.8882832 ]\n",
      "[1. 0. 0.] <-> [0.90929025 0.02175917 0.06895061]\n",
      "[0. 1. 0.] <-> [0.51802516 0.46340188 0.01857294]\n",
      "[0. 0. 1.] <-> [0.14062929 0.00924424 0.8501265 ]\n",
      "[1. 0. 0.] <-> [0.8633331  0.03077564 0.1058912 ]\n",
      "[0. 1. 0.] <-> [0.30863962 0.6807342  0.01062618]\n",
      "[1. 0. 0.] <-> [0.72501326 0.02210247 0.2528842 ]\n",
      "[1. 0. 0.] <-> [0.63978016 0.3396094  0.02061041]\n",
      "[0. 0. 1.] <-> [0.11159091 0.00890887 0.8795002 ]\n",
      "[1. 0. 0.] <-> [0.8865251  0.02108485 0.09239005]\n",
      "[0. 0. 1.] <-> [0.10593155 0.00889994 0.8851685 ]\n",
      "[0. 0. 1.] <-> [0.6664587  0.01752029 0.316021  ]\n",
      "[1. 0. 0.] <-> [0.84763044 0.03646587 0.11590364]\n",
      "[1. 0. 0.] <-> [0.85364336 0.06672129 0.07963536]\n",
      "[0. 1. 0.] <-> [0.16288869 0.8313418  0.0057695 ]\n",
      "[0. 1. 0.] <-> [0.29627478 0.6923494  0.01137579]\n",
      "[1. 0. 0.] <-> [0.90421337 0.02897311 0.06681353]\n",
      "[1. 0. 0.] <-> [0.8070095  0.03753002 0.15546048]\n",
      "[1. 0. 0.] <-> [0.8536992  0.10015077 0.04615008]\n",
      "[1. 0. 0.] <-> [0.8776492  0.08741806 0.03493265]\n",
      "[1. 0. 0.] <-> [0.88982046 0.05233941 0.05784005]\n",
      "[1. 0. 0.] <-> [0.8950153  0.04215647 0.06282823]\n",
      "[1. 0. 0.] <-> [0.8763697  0.04386928 0.079761  ]\n",
      "[1. 0. 0.] <-> [0.85940045 0.04713792 0.09346161]\n",
      "[1. 0. 0.] <-> [0.87273496 0.05148537 0.07577972]\n",
      "[1. 0. 0.] <-> [0.7762458  0.18905374 0.03470039]\n",
      "[1. 0. 0.] <-> [0.88990617 0.02218276 0.08791114]\n",
      "[1. 0. 0.] <-> [0.88034505 0.03558503 0.08406994]\n",
      "[0. 0. 1.] <-> [0.18194179 0.01068444 0.80737376]\n",
      "[0. 0. 1.] <-> [0.20201276 0.01064868 0.78733855]\n",
      "[1. 0. 0.] <-> [0.8790144  0.01985846 0.10112721]\n",
      "[1. 0. 0.] <-> [0.87688404 0.0935543  0.02956159]\n",
      "[0. 1. 0.] <-> [0.3813762  0.60636663 0.01225711]\n",
      "[1. 0. 0.] <-> [0.8538624  0.11221088 0.03392681]\n",
      "[0. 1. 0.] <-> [0.15120533 0.8425493  0.0062453 ]\n",
      "[1. 0. 0.] <-> [0.8303036  0.05440333 0.11529306]\n",
      "[1. 0. 0.] <-> [0.79239464 0.1829204  0.02468495]\n",
      "[0. 1. 0.] <-> [0.579943   0.40350553 0.01655142]\n",
      "[1. 0. 0.] <-> [0.8411219  0.12385134 0.03502678]\n",
      "[1. 0. 0.] <-> [0.90765995 0.04414601 0.04819401]\n",
      "[1. 0. 0.] <-> [0.8834358  0.03125647 0.08530767]\n",
      "[0. 1. 0.] <-> [0.13351277 0.8611055  0.00538168]\n",
      "[1. 0. 0.] <-> [0.8835291  0.07280634 0.04366455]\n",
      "[0. 1. 0.] <-> [0.09190394 0.90294915 0.00514686]\n",
      "[1. 0. 0.] <-> [0.8751764 0.0227503 0.1020732]\n",
      "[1. 0. 0.] <-> [0.9172871 0.0349209 0.047792 ]\n",
      "[1. 0. 0.] <-> [0.81981236 0.01964896 0.16053867]\n",
      "[1. 0. 0.] <-> [0.85510194 0.04604492 0.09885311]\n",
      "[0. 0. 1.] <-> [0.1319432  0.01154911 0.85650766]\n",
      "[1. 0. 0.] <-> [0.8726781  0.05067613 0.07664572]\n",
      "[0. 0. 1.] <-> [0.10436226 0.00867884 0.8869589 ]\n",
      "[0. 0. 1.] <-> [0.11041027 0.00928892 0.88030076]\n",
      "[1. 0. 0.] <-> [0.7790263  0.03773153 0.18324208]\n",
      "[1. 0. 0.] <-> [0.9090042  0.03767238 0.05332341]\n",
      "[1. 0. 0.] <-> [0.9090854  0.05188093 0.03903368]\n",
      "[1. 0. 0.] <-> [0.8825954  0.01855349 0.09885107]\n",
      "[1. 0. 0.] <-> [0.9045085 0.0211274 0.0743641]\n",
      "[1. 0. 0.] <-> [0.9065241  0.04921395 0.04426192]\n",
      "[1. 0. 0.] <-> [0.76677215 0.20361169 0.02961608]\n",
      "{'accuracy': 0.9629629629629629, 'mean_square_error': 0.0959648293879109, 'categorical_crossentropy': 0.22372719093605323, 'essential_metrics': {0: {'tp_hit': 79, 'fp_hit': 5, 'tn_hit': 23, 'fn_hit': 1}, 1: {'tp_hit': 12, 'fp_hit': 0, 'tn_hit': 93, 'fn_hit': 3}, 2: {'tp_hit': 11, 'fp_hit': 1, 'tn_hit': 94, 'fn_hit': 2}}}\n"
     ]
    }
   ],
   "source": [
    "# recall phase\n",
    "score = model.evaluate(x_test, y_test, False)\n",
    "print(score)"
   ]
  },
  {
   "cell_type": "code",
   "execution_count": 11,
   "metadata": {},
   "outputs": [
    {
     "data": {
      "image/png": "[encoded data removed]",
      "text/plain": [
       "<Figure size 864x360 with 1 Axes>"
      ]
     },
     "metadata": {
      "needs_background": "light"
     },
     "output_type": "display_data"
    },
    {
     "data": {
      "image/png": "[encoded data removed]",
      "text/plain": [
       "<Figure size 864x360 with 1 Axes>"
      ]
     },
     "metadata": {
      "needs_background": "light"
     },
     "output_type": "display_data"
    }
   ],
   "source": [
    "draw_plot(x = [[i for i in range(len(history))], [(i+1)*breakpoint for i in range(len(checkpoints))]], y_list = [history, [ ckp[model.loss_fn] for ckp in checkpoints ]], x_label = 'Epochs', \\\n",
    "    y_label = model.loss_fn, legend=['train', 'test'])\n",
    "acc = [ ckp['accuracy'] for ckp in checkpoints ]\n",
    "draw_plot(x = [[(i+1)*breakpoint for i in range(len(checkpoints))]], y_list = [acc], x_label = 'Checkpoints', \\\n",
    "    y_label = 'accuracy')"
   ]
  },
  {
   "cell_type": "code",
   "execution_count": 12,
   "metadata": {},
   "outputs": [
    {
     "name": "stdout",
     "output_type": "stream",
     "text": [
      "{'accuracy': 0.9629629629629629, 'mean_square_error': 0.10971745769906266, 'categorical_crossentropy': 0.2417864622893157, 'essential_metrics': {0: {'tp_hit': 79, 'fp_hit': 5, 'tn_hit': 23, 'fn_hit': 1}, 1: {'tp_hit': 13, 'fp_hit': 0, 'tn_hit': 93, 'fn_hit': 2}, 2: {'tp_hit': 10, 'fp_hit': 1, 'tn_hit': 94, 'fn_hit': 3}}, 'checkpoint': 100} \n",
      "\n",
      "\n",
      "{'accuracy': 0.9567901234567902, 'mean_square_error': 0.09981535168895528, 'categorical_crossentropy': 0.22640161161069516, 'essential_metrics': {0: {'tp_hit': 79, 'fp_hit': 6, 'tn_hit': 22, 'fn_hit': 1}, 1: {'tp_hit': 11, 'fp_hit': 0, 'tn_hit': 93, 'fn_hit': 4}, 2: {'tp_hit': 11, 'fp_hit': 1, 'tn_hit': 94, 'fn_hit': 2}}, 'checkpoint': 200} \n",
      "\n",
      "\n",
      "{'accuracy': 0.9629629629629629, 'mean_square_error': 0.0992692241237665, 'categorical_crossentropy': 0.22781765902483905, 'essential_metrics': {0: {'tp_hit': 79, 'fp_hit': 5, 'tn_hit': 23, 'fn_hit': 1}, 1: {'tp_hit': 12, 'fp_hit': 0, 'tn_hit': 93, 'fn_hit': 3}, 2: {'tp_hit': 11, 'fp_hit': 1, 'tn_hit': 94, 'fn_hit': 2}}, 'checkpoint': 300} \n",
      "\n",
      "\n",
      "{'accuracy': 0.9567901234567902, 'mean_square_error': 0.10450632322478702, 'categorical_crossentropy': 0.24038219451904297, 'essential_metrics': {0: {'tp_hit': 79, 'fp_hit': 6, 'tn_hit': 22, 'fn_hit': 1}, 1: {'tp_hit': 11, 'fp_hit': 0, 'tn_hit': 93, 'fn_hit': 4}, 2: {'tp_hit': 11, 'fp_hit': 1, 'tn_hit': 94, 'fn_hit': 2}}, 'checkpoint': 400} \n",
      "\n",
      "\n",
      "{'accuracy': 0.9629629629629629, 'mean_square_error': 0.0959648293879109, 'categorical_crossentropy': 0.22372719093605323, 'essential_metrics': {0: {'tp_hit': 79, 'fp_hit': 5, 'tn_hit': 23, 'fn_hit': 1}, 1: {'tp_hit': 12, 'fp_hit': 0, 'tn_hit': 93, 'fn_hit': 3}, 2: {'tp_hit': 11, 'fp_hit': 1, 'tn_hit': 94, 'fn_hit': 2}}, 'checkpoint': 500} \n",
      "\n",
      "\n"
     ]
    }
   ],
   "source": [
    "for checkpoint in checkpoints:\n",
    "    print(checkpoint, '\\n\\n')"
   ]
  },
  {
   "cell_type": "code",
   "execution_count": 13,
   "metadata": {},
   "outputs": [
    {
     "name": "stdout",
     "output_type": "stream",
     "text": [
      "Layer 1\n",
      "Neuron 0: weights:\n",
      "[-0.07162666  0.25417665  0.355034    1.2299279   0.50784194]\n",
      " bias: -0.1587432622909546\n",
      "\n",
      "Neuron 1: weights:\n",
      "[-0.4974096   1.1287931   0.7307894  -0.09346171 -0.47746933]\n",
      " bias: -0.25722771883010864\n",
      "\n",
      "Neuron 2: weights:\n",
      "[-0.34649017  1.3132224   0.18710192 -0.837113   -1.363202  ]\n",
      " bias: 1.0909717082977295\n",
      "\n",
      "Neuron 3: weights:\n",
      "[ 0.7854753  -1.5810176  -1.0112749   0.01959548  0.58837414]\n",
      " bias: 0.9260740876197815\n",
      "\n",
      "$\n",
      "Layer 2\n",
      "Neuron 0: weights:\n",
      "[-1.4489418  -0.25362062  1.7054485   1.6431161 ]\n",
      " bias: -0.0824810191988945\n",
      "\n",
      "Neuron 1: weights:\n",
      "[ 0.37224942  1.7806962   0.7667394  -2.5539086 ]\n",
      " bias: -0.18096031248569489\n",
      "\n",
      "Neuron 2: weights:\n",
      "[ 0.80072886 -1.0512257  -2.4198453   1.1535045 ]\n",
      " bias: 0.3312543034553528\n",
      "\n",
      "$\n",
      "\n"
     ]
    }
   ],
   "source": [
    "print(model)"
   ]
  }
 ],
 "metadata": {
  "kernelspec": {
   "display_name": "Python 3",
   "language": "python",
   "name": "python3"
  },
  "language_info": {
   "codemirror_mode": {
    "name": "ipython",
    "version": 3
   },
   "file_extension": ".py",
   "mimetype": "text/x-python",
   "name": "python",
   "nbconvert_exporter": "python",
   "pygments_lexer": "ipython3",
   "version": "3.6.10"
  }
 },
 "nbformat": 4,
 "nbformat_minor": 2
}
