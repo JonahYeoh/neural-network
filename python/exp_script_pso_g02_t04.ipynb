{
 "cells": [
  {
   "cell_type": "code",
   "execution_count": 1,
   "metadata": {},
   "outputs": [],
   "source": [
    "# dependency\n",
    "import numpy as np\n",
    "import pandas as pd\n",
    "import copy\n",
    "import math\n",
    "import sys\n",
    "import os\n",
    "from activations import relu, leaky_relu, sigmoid, tanh, softmax, d_sigmoid, d_relu\n",
    "from initializers import glorot_uniform, random_normal, random_uniform\n",
    "from regularizers import l1_regularizer, l2_regularizer\n",
    "from utility import trim_tail, multiply, subtract, get_nparams, one_hot_encoding, get_data\n",
    "from metrics import MSE, CCE, ACC, PRECISION, RECALL, essential_metrics, wondering_penalty, close_gap_penalty\n",
    "from pso import PSO\n",
    "from ga import GA\n",
    "from nn import Network\n",
    "from layer import DenseLayer\n",
    "from scalers import MinMaxScaler, StandardScaler"
   ]
  },
  {
   "cell_type": "code",
   "execution_count": 2,
   "metadata": {},
   "outputs": [],
   "source": [
    "# reference\n",
    "metrics_fn_dict = dict()\n",
    "metrics_fn_dict['accuracy'] = ACC\n",
    "metrics_fn_dict['categorical_crossentropy'] = CCE\n",
    "metrics_fn_dict['mean_square_error'] = MSE\n",
    "metrics_fn_dict['precision'] = PRECISION\n",
    "metrics_fn_dict['recall'] = RECALL\n",
    "metrics_fn_dict['essential_metrics'] = essential_metrics"
   ]
  },
  {
   "cell_type": "code",
   "execution_count": 3,
   "metadata": {},
   "outputs": [],
   "source": [
    "# model\n",
    "model = Network(5, lr = None)\n",
    "model.add_layer(DenseLayer(1, 4, True, afn=sigmoid, dafn=None, rfn=None))\n",
    "model.add_layer(DenseLayer(2, 3, True, afn=softmax, dafn=None, rfn=None))"
   ]
  },
  {
   "cell_type": "code",
   "execution_count": 4,
   "metadata": {},
   "outputs": [],
   "source": [
    "pso = PSO(dict(m = 50,\n",
    "    weight_constraint = [-3, 3], \n",
    "    velocity_constraint = [-0.1, 0.1],\n",
    "    c1 = 2,\n",
    "    c2 = 2,\n",
    "    w = 1,\n",
    "    w_decay = 1,\n",
    "    scale_hyperparameter = False,\n",
    "    regularizer = l2_regularizer,\n",
    "    mask = True))"
   ]
  },
  {
   "cell_type": "code",
   "execution_count": 5,
   "metadata": {},
   "outputs": [
    {
     "name": "stdout",
     "output_type": "stream",
     "text": [
      "building layer 1 with 5\n",
      "24\n",
      "building layer 2 with 4\n",
      "15\n"
     ]
    }
   ],
   "source": [
    "model.compile(loss_fn = 'categorical_crossentropy', optimizer = pso, \\\n",
    "    metrics = ['accuracy', 'mean_square_error', 'categorical_crossentropy'])"
   ]
  },
  {
   "cell_type": "code",
   "execution_count": 6,
   "metadata": {},
   "outputs": [
    {
     "name": "stdout",
     "output_type": "stream",
     "text": [
      "<class 'pandas.core.frame.DataFrame'>\n",
      "RangeIndex: 107 entries, 0 to 106\n",
      "Data columns (total 6 columns):\n",
      " #   Column  Non-Null Count  Dtype  \n",
      "---  ------  --------------  -----  \n",
      " 0   f1      107 non-null    float32\n",
      " 1   f2      107 non-null    float32\n",
      " 2   f3      107 non-null    float32\n",
      " 3   f4      107 non-null    float32\n",
      " 4   f5      107 non-null    float32\n",
      " 5   label   107 non-null    float32\n",
      "dtypes: float32(6)\n",
      "memory usage: 2.6 KB\n",
      "None\n",
      "<class 'pandas.core.frame.DataFrame'>\n",
      "RangeIndex: 108 entries, 0 to 107\n",
      "Data columns (total 6 columns):\n",
      " #   Column  Non-Null Count  Dtype  \n",
      "---  ------  --------------  -----  \n",
      " 0   f1      108 non-null    float32\n",
      " 1   f2      108 non-null    float32\n",
      " 2   f3      108 non-null    float32\n",
      " 3   f4      108 non-null    float32\n",
      " 4   f5      108 non-null    float32\n",
      " 5   label   108 non-null    float32\n",
      "dtypes: float32(6)\n",
      "memory usage: 2.7 KB\n",
      "None\n"
     ]
    }
   ],
   "source": [
    "# data loading\n",
    "DATA = os.path.join('c:\\\\Users\\\\tcumi\\\\github_repo\\\\neural-network\\\\', 'dataset')\n",
    "GROUP = 2\n",
    "COLUMNS = ['f1', 'f2', 'f3', 'f4', 'f5', 'label']\n",
    "N_CLASS = 3\n",
    "EPOCHS = 500\n",
    "train_dir, test_dir = \"..//dataset//training_data{}.txt\".format(GROUP), \"..//dataset//testing_data{}.txt\".format(GROUP)\n",
    "train, test = get_data(DATA, train_dir, COLUMNS), get_data(DATA, test_dir, COLUMNS)\n",
    "# shuffle\n",
    "train, test = train.sample(frac=1), test.sample(frac=1)\n",
    "x_train, y_train = train.drop('label', axis=1), train['label']\n",
    "x_test, y_test = test.drop('label', axis=1), test['label']"
   ]
  },
  {
   "cell_type": "code",
   "execution_count": 7,
   "metadata": {},
   "outputs": [],
   "source": [
    "# data scaling and encoding\n",
    "scaler = StandardScaler(['f1', 'f2', 'f3', 'f4', 'f5'])\n",
    "scaler.fit(x_train)\n",
    "x_train = scaler.transform(x_train)\n",
    "x_test = scaler.transform(x_test)\n",
    "y_train = one_hot_encoding(y_train, N_CLASS)\n",
    "y_test = one_hot_encoding(y_test, N_CLASS)"
   ]
  },
  {
   "cell_type": "code",
   "execution_count": 8,
   "metadata": {
    "tags": [
     "outputPrepend"
    ]
   },
   "outputs": [
    {
     "name": "stdout",
     "output_type": "stream",
     "text": [
      "Checkpoint 100, Accuracy: 0.9506172839506173, Loss: 0.34022931699399594\n",
      "Checkpoint 200, Accuracy: 0.9382716049382716, Loss: 0.3328574851707176\n",
      "Checkpoint 300, Accuracy: 0.9382716049382716, Loss: 0.33013682895236546\n",
      "Checkpoint 400, Accuracy: 0.9444444444444444, Loss: 0.3285620300858109\n",
      "Checkpoint 500, Accuracy: 0.9444444444444444, Loss: 0.3353748674745913\n"
     ]
    }
   ],
   "source": [
    "# learning phase\n",
    "breakpoint = 100\n",
    "checkpoints = list()\n",
    "history = list()\n",
    "for century in range(0, EPOCHS, breakpoint):\n",
    "    sub_history = model.fit(x_train, y_train, breakpoint, verbose = 0)\n",
    "    score = model.evaluate(x_test, y_test, False, verbose = 0)\n",
    "    print('Checkpoint {}, Accuracy: {}, Loss: {}'.format(century+breakpoint, score['accuracy'], score[model.loss_fn]))\n",
    "    score['checkpoint'] = century + breakpoint\n",
    "    checkpoints.append(score)\n",
    "    history.extend(sub_history)"
   ]
  },
  {
   "cell_type": "code",
   "execution_count": 9,
   "metadata": {},
   "outputs": [],
   "source": [
    "import matplotlib.pyplot as plt\n",
    "\n",
    "def draw_plot(x, y_list, x_label=None, y_label=None, legend=None, title=None):\n",
    "    fig, ax = plt.subplots(figsize=(12,5))\n",
    "    for xi, yi in zip(x, y_list):\n",
    "        ax.plot(xi, yi)\n",
    "    if x_label is not None and y_label is not None:\n",
    "        ax.set(xlabel=x_label, ylabel=y_label, title='{} VS {}'.format(x_label, y_label))\n",
    "    if legend is not None:\n",
    "        ax.legend(legend)\n",
    "    ax.grid()\n",
    "    plt.show()"
   ]
  },
  {
   "cell_type": "code",
   "execution_count": 10,
   "metadata": {},
   "outputs": [
    {
     "name": "stdout",
     "output_type": "stream",
     "text": [
      "[0. 0. 1.] <-> [0.2927256  0.00797304 0.69930136]\n",
      "[1. 0. 0.] <-> [0.8044202  0.07873374 0.11684602]\n",
      "[1. 0. 0.] <-> [0.8129859  0.10675819 0.08025593]\n",
      "[1. 0. 0.] <-> [0.75687337 0.05077088 0.19235568]\n",
      "[0. 0. 1.] <-> [0.7136584  0.02747332 0.25886822]\n",
      "[1. 0. 0.] <-> [0.76435906 0.05781346 0.1778275 ]\n",
      "[0. 1. 0.] <-> [0.5804648  0.38125318 0.03828206]\n",
      "[1. 0. 0.] <-> [0.815978   0.08438507 0.09963698]\n",
      "[1. 0. 0.] <-> [0.775707   0.04011592 0.18417713]\n",
      "[1. 0. 0.] <-> [0.6004635  0.03063371 0.36890274]\n",
      "[1. 0. 0.] <-> [0.80813634 0.11930183 0.0725618 ]\n",
      "[1. 0. 0.] <-> [0.82555807 0.04346418 0.13097768]\n",
      "[0. 0. 1.] <-> [0.3086449  0.00852638 0.6828287 ]\n",
      "[1. 0. 0.] <-> [0.79945153 0.07334705 0.12720148]\n",
      "[1. 0. 0.] <-> [0.7563347  0.03456505 0.20910016]\n",
      "[1. 0. 0.] <-> [0.79857224 0.0722973  0.12913038]\n",
      "[1. 0. 0.] <-> [0.82921374 0.0840597  0.08672664]\n",
      "[1. 0. 0.] <-> [0.77899766 0.15802705 0.06297527]\n",
      "[1. 0. 0.] <-> [0.8337341  0.08087531 0.08539063]\n",
      "[1. 0. 0.] <-> [0.7999284  0.11500394 0.08506756]\n",
      "[0. 1. 0.] <-> [0.2714263  0.7153568  0.01321687]\n",
      "[1. 0. 0.] <-> [0.8167431  0.09620875 0.08704825]\n",
      "[1. 0. 0.] <-> [0.829619   0.08818092 0.08220007]\n",
      "[0. 0. 1.] <-> [0.2939654  0.01014114 0.69589347]\n",
      "[1. 0. 0.] <-> [0.7400081  0.19341789 0.0665739 ]\n",
      "[0. 1. 0.] <-> [0.6328613  0.3286912  0.03844753]\n",
      "[0. 1. 0.] <-> [0.21684192 0.7738308  0.00932726]\n",
      "[1. 0. 0.] <-> [0.8339756  0.06719143 0.09883297]\n",
      "[1. 0. 0.] <-> [0.811644   0.05459331 0.13376264]\n",
      "[1. 0. 0.] <-> [0.80106336 0.03737903 0.16155769]\n",
      "[1. 0. 0.] <-> [0.8164055  0.08601166 0.09758285]\n",
      "[1. 0. 0.] <-> [0.8026381  0.07190908 0.12545279]\n",
      "[1. 0. 0.] <-> [0.8089335  0.06158672 0.12947975]\n",
      "[1. 0. 0.] <-> [0.7673292  0.1525458  0.08012501]\n",
      "[1. 0. 0.] <-> [0.83206713 0.05411036 0.11382251]\n",
      "[0. 1. 0.] <-> [0.6943697  0.26115623 0.04447409]\n",
      "[1. 0. 0.] <-> [0.7838943  0.11748981 0.09861585]\n",
      "[1. 0. 0.] <-> [0.8312483  0.07597359 0.09277813]\n",
      "[1. 0. 0.] <-> [0.7785305  0.05082833 0.17064126]\n",
      "[1. 0. 0.] <-> [0.76211715 0.05475896 0.18312386]\n",
      "[0. 0. 1.] <-> [0.37235862 0.01188878 0.6157526 ]\n",
      "[0. 0. 1.] <-> [0.31801972 0.00873363 0.6732466 ]\n",
      "[1. 0. 0.] <-> [0.814311   0.06432973 0.12135924]\n",
      "[1. 0. 0.] <-> [0.78478503 0.09889241 0.11632259]\n",
      "[0. 1. 0.] <-> [0.31056297 0.67321056 0.01622649]\n",
      "[1. 0. 0.] <-> [0.79035336 0.1304017  0.07924498]\n",
      "[0. 0. 1.] <-> [0.36027062 0.01454806 0.6251813 ]\n",
      "[1. 0. 0.] <-> [0.77917606 0.03955811 0.1812659 ]\n",
      "[1. 0. 0.] <-> [0.8114031  0.10455398 0.08404294]\n",
      "[1. 0. 0.] <-> [0.78323054 0.13391241 0.08285705]\n",
      "[1. 0. 0.] <-> [0.8452926  0.0573635  0.09734385]\n",
      "[1. 0. 0.] <-> [0.8068806  0.09864748 0.094472  ]\n",
      "[1. 0. 0.] <-> [0.77521425 0.15630457 0.06848118]\n",
      "[1. 0. 0.] <-> [0.7780976  0.15064505 0.07125739]\n",
      "[0. 1. 0.] <-> [0.42300645 0.5526038  0.02438976]\n",
      "[1. 0. 0.] <-> [0.8061288  0.09327117 0.10060002]\n",
      "[1. 0. 0.] <-> [0.7566611  0.18640037 0.05693847]\n",
      "[1. 0. 0.] <-> [0.75822234 0.04748741 0.1942902 ]\n",
      "[1. 0. 0.] <-> [0.7789254  0.09514976 0.12592481]\n",
      "[0. 1. 0.] <-> [0.21975511 0.7706268  0.00961807]\n",
      "[1. 0. 0.] <-> [0.8256593  0.05792809 0.11641263]\n",
      "[1. 0. 0.] <-> [0.80032194 0.05361343 0.14606467]\n",
      "[1. 0. 0.] <-> [0.8026889  0.12589505 0.07141605]\n",
      "[1. 0. 0.] <-> [0.7698634  0.16636214 0.06377447]\n",
      "[1. 0. 0.] <-> [0.73091936 0.21402265 0.05505797]\n",
      "[1. 0. 0.] <-> [0.80544716 0.05672365 0.13782917]\n",
      "[1. 0. 0.] <-> [0.7871914  0.14508753 0.06772111]\n",
      "[1. 0. 0.] <-> [0.8229809  0.08277386 0.09424525]\n",
      "[1. 0. 0.] <-> [0.8108574  0.04146584 0.1476767 ]\n",
      "[0. 1. 0.] <-> [0.5781956  0.38739705 0.03440735]\n",
      "[1. 0. 0.] <-> [0.78346026 0.04824911 0.16829062]\n",
      "[0. 1. 0.] <-> [0.2243704  0.76561797 0.0100116 ]\n",
      "[0. 0. 1.] <-> [0.7646248  0.02737917 0.20799601]\n",
      "[1. 0. 0.] <-> [0.79484165 0.09410396 0.11105438]\n",
      "[1. 0. 0.] <-> [0.8137562  0.06206172 0.1241821 ]\n",
      "[0. 0. 1.] <-> [0.35273284 0.0106188  0.63664836]\n",
      "[0. 1. 0.] <-> [0.4448268  0.5305741  0.02459913]\n",
      "[0. 1. 0.] <-> [0.5388196  0.42954677 0.03163367]\n",
      "[1. 0. 0.] <-> [0.8139011  0.04229486 0.143804  ]\n",
      "[0. 0. 1.] <-> [0.2929283  0.00777039 0.69930124]\n",
      "[1. 0. 0.] <-> [0.80822664 0.0380601  0.15371324]\n",
      "[1. 0. 0.] <-> [0.7966556  0.06952538 0.13381903]\n",
      "[1. 0. 0.] <-> [0.8281543  0.06905565 0.10278998]\n",
      "[1. 0. 0.] <-> [0.77239597 0.16839418 0.05920985]\n",
      "[0. 1. 0.] <-> [0.29984826 0.6852806  0.01487107]\n",
      "[1. 0. 0.] <-> [0.8071312  0.12948906 0.06337976]\n",
      "[1. 0. 0.] <-> [0.82711166 0.04145677 0.1314315 ]\n",
      "[1. 0. 0.] <-> [0.8084489  0.10940024 0.08215091]\n",
      "[0. 1. 0.] <-> [0.45295098 0.5198223  0.02722671]\n",
      "[0. 0. 1.] <-> [0.30474335 0.00826725 0.68698937]\n",
      "[1. 0. 0.] <-> [0.8257402  0.07960381 0.09465598]\n",
      "[1. 0. 0.] <-> [0.81790173 0.04652856 0.13556969]\n",
      "[0. 0. 1.] <-> [0.37640497 0.01191449 0.61168057]\n",
      "[1. 0. 0.] <-> [0.7101548  0.03435358 0.25549164]\n",
      "[0. 1. 0.] <-> [0.48740327 0.48428965 0.02830704]\n",
      "[1. 0. 0.] <-> [0.8044988  0.10780735 0.08769389]\n",
      "[1. 0. 0.] <-> [0.8145766  0.11376921 0.07165416]\n",
      "[1. 0. 0.] <-> [0.8092333  0.07862536 0.11214132]\n",
      "[1. 0. 0.] <-> [0.83554626 0.0736497  0.09080403]\n",
      "[1. 0. 0.] <-> [0.7803879  0.14769399 0.07191811]\n",
      "[1. 0. 0.] <-> [0.81714326 0.05075179 0.13210495]\n",
      "[1. 0. 0.] <-> [0.8361024  0.06798056 0.09591704]\n",
      "[1. 0. 0.] <-> [0.80785483 0.08678961 0.10535554]\n",
      "[1. 0. 0.] <-> [0.689007   0.26607007 0.04492302]\n",
      "[0. 0. 1.] <-> [0.59871435 0.02454249 0.3767432 ]\n",
      "[1. 0. 0.] <-> [0.81112707 0.04381918 0.14505374]\n",
      "[1. 0. 0.] <-> [0.7333484  0.04099268 0.2256589 ]\n",
      "[1. 0. 0.] <-> [0.82225823 0.05401893 0.12372283]\n",
      "{'accuracy': 0.9444444444444444, 'mean_square_error': 0.16071029421613126, 'categorical_crossentropy': 0.3353748674745913, 'essential_metrics': {0: {'tp_hit': 80, 'fp_hit': 9, 'tn_hit': 19, 'fn_hit': 0}, 1: {'tp_hit': 9, 'fp_hit': 0, 'tn_hit': 93, 'fn_hit': 6}, 2: {'tp_hit': 10, 'fp_hit': 0, 'tn_hit': 95, 'fn_hit': 3}}}\n"
     ]
    }
   ],
   "source": [
    "# recall phase\n",
    "score = model.evaluate(x_test, y_test, False)\n",
    "print(score)"
   ]
  },
  {
   "cell_type": "code",
   "execution_count": 11,
   "metadata": {},
   "outputs": [
    {
     "data": {
      "image/png": "[encoded data removed]",
      "text/plain": [
       "<Figure size 864x360 with 1 Axes>"
      ]
     },
     "metadata": {
      "needs_background": "light"
     },
     "output_type": "display_data"
    },
    {
     "data": {
      "image/png": "[encoded data removed]",
      "text/plain": [
       "<Figure size 864x360 with 1 Axes>"
      ]
     },
     "metadata": {
      "needs_background": "light"
     },
     "output_type": "display_data"
    }
   ],
   "source": [
    "draw_plot(x = [[i for i in range(len(history))], [(i+1)*breakpoint for i in range(len(checkpoints))]], y_list = [history, [ ckp[model.loss_fn] for ckp in checkpoints ]], x_label = 'Epochs', \\\n",
    "    y_label = model.loss_fn, legend=['train', 'test'])\n",
    "acc = [ ckp['accuracy'] for ckp in checkpoints ]\n",
    "draw_plot(x = [[(i+1)*breakpoint for i in range(len(checkpoints))]], y_list = [acc], x_label = 'Checkpoints', \\\n",
    "    y_label = 'accuracy')"
   ]
  },
  {
   "cell_type": "code",
   "execution_count": 12,
   "metadata": {},
   "outputs": [
    {
     "name": "stdout",
     "output_type": "stream",
     "text": [
      "{'accuracy': 0.9506172839506173, 'mean_square_error': 0.16270850117168636, 'categorical_crossentropy': 0.34022931699399594, 'essential_metrics': {0: {'tp_hit': 80, 'fp_hit': 8, 'tn_hit': 20, 'fn_hit': 0}, 1: {'tp_hit': 10, 'fp_hit': 0, 'tn_hit': 93, 'fn_hit': 5}, 2: {'tp_hit': 10, 'fp_hit': 0, 'tn_hit': 95, 'fn_hit': 3}}, 'checkpoint': 100} \n",
      "\n",
      "\n",
      "{'accuracy': 0.9382716049382716, 'mean_square_error': 0.15924070067643004, 'categorical_crossentropy': 0.3328574851707176, 'essential_metrics': {0: {'tp_hit': 80, 'fp_hit': 10, 'tn_hit': 18, 'fn_hit': 0}, 1: {'tp_hit': 8, 'fp_hit': 0, 'tn_hit': 93, 'fn_hit': 7}, 2: {'tp_hit': 10, 'fp_hit': 0, 'tn_hit': 95, 'fn_hit': 3}}, 'checkpoint': 200} \n",
      "\n",
      "\n",
      "{'accuracy': 0.9382716049382716, 'mean_square_error': 0.15966827517936122, 'categorical_crossentropy': 0.33013682895236546, 'essential_metrics': {0: {'tp_hit': 80, 'fp_hit': 10, 'tn_hit': 18, 'fn_hit': 0}, 1: {'tp_hit': 8, 'fp_hit': 0, 'tn_hit': 93, 'fn_hit': 7}, 2: {'tp_hit': 10, 'fp_hit': 0, 'tn_hit': 95, 'fn_hit': 3}}, 'checkpoint': 300} \n",
      "\n",
      "\n",
      "{'accuracy': 0.9444444444444444, 'mean_square_error': 0.15752611789870394, 'categorical_crossentropy': 0.3285620300858109, 'essential_metrics': {0: {'tp_hit': 80, 'fp_hit': 9, 'tn_hit': 19, 'fn_hit': 0}, 1: {'tp_hit': 9, 'fp_hit': 0, 'tn_hit': 93, 'fn_hit': 6}, 2: {'tp_hit': 10, 'fp_hit': 0, 'tn_hit': 95, 'fn_hit': 3}}, 'checkpoint': 400} \n",
      "\n",
      "\n",
      "{'accuracy': 0.9444444444444444, 'mean_square_error': 0.16071029421613126, 'categorical_crossentropy': 0.3353748674745913, 'essential_metrics': {0: {'tp_hit': 80, 'fp_hit': 9, 'tn_hit': 19, 'fn_hit': 0}, 1: {'tp_hit': 9, 'fp_hit': 0, 'tn_hit': 93, 'fn_hit': 6}, 2: {'tp_hit': 10, 'fp_hit': 0, 'tn_hit': 95, 'fn_hit': 3}}, 'checkpoint': 500} \n",
      "\n",
      "\n"
     ]
    }
   ],
   "source": [
    "for checkpoint in checkpoints:\n",
    "    print(checkpoint, '\\n\\n')"
   ]
  },
  {
   "cell_type": "code",
   "execution_count": 13,
   "metadata": {},
   "outputs": [
    {
     "name": "stdout",
     "output_type": "stream",
     "text": [
      "Layer 1\n",
      "Neuron 0: weights:\n",
      "[ 0.5104621  -1.1608641  -0.7176463  -0.29335657  0.130649  ]\n",
      " bias: 0.5755797624588013\n",
      "\n",
      "Neuron 1: weights:\n",
      "[ 0.2438047  -0.68806857 -0.2067758   0.33354306  0.69946367]\n",
      " bias: -0.31307217478752136\n",
      "\n",
      "Neuron 2: weights:\n",
      "[-0.39868304  0.68912363  0.378559   -0.86995244 -0.8534291 ]\n",
      " bias: 0.9000799655914307\n",
      "\n",
      "Neuron 3: weights:\n",
      "[-0.33365658  1.0174592   0.66852134 -0.03348993 -0.38214418]\n",
      " bias: -0.46672046184539795\n",
      "\n",
      "$\n",
      "Layer 2\n",
      "Neuron 0: weights:\n",
      "[ 1.1374654  -0.26610446  1.0104704  -0.52310866]\n",
      " bias: 0.10581278055906296\n",
      "\n",
      "Neuron 1: weights:\n",
      "[-1.7465733 -1.0651913  0.5677425  1.3517709]\n",
      " bias: 0.01579415798187256\n",
      "\n",
      "Neuron 2: weights:\n",
      "[ 0.4414268  1.4666737 -1.7009864 -0.8492253]\n",
      " bias: -0.08517371118068695\n",
      "\n",
      "$\n",
      "\n"
     ]
    }
   ],
   "source": [
    "print(model)"
   ]
  }
 ],
 "metadata": {
  "kernelspec": {
   "display_name": "Python 3",
   "language": "python",
   "name": "python3"
  },
  "language_info": {
   "codemirror_mode": {
    "name": "ipython",
    "version": 3
   },
   "file_extension": ".py",
   "mimetype": "text/x-python",
   "name": "python",
   "nbconvert_exporter": "python",
   "pygments_lexer": "ipython3",
   "version": "3.6.10"
  }
 },
 "nbformat": 4,
 "nbformat_minor": 2
}
