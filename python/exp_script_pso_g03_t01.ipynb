{
 "cells": [
  {
   "cell_type": "code",
   "execution_count": 1,
   "metadata": {},
   "outputs": [],
   "source": [
    "# dependency\n",
    "import numpy as np\n",
    "import pandas as pd\n",
    "import copy\n",
    "import math\n",
    "import sys\n",
    "import os\n",
    "from activations import relu, leaky_relu, sigmoid, tanh, softmax, d_sigmoid, d_relu\n",
    "from initializers import glorot_uniform, random_normal, random_uniform\n",
    "from regularizers import l1_regularizer, l2_regularizer\n",
    "from utility import trim_tail, multiply, subtract, get_nparams, one_hot_encoding, get_data\n",
    "from metrics import MSE, CCE, ACC, PRECISION, RECALL, essential_metrics, wondering_penalty, close_gap_penalty\n",
    "from pso import PSO\n",
    "from ga import GA\n",
    "from nn import Network\n",
    "from layer import DenseLayer\n",
    "from scalers import MinMaxScaler, StandardScaler"
   ]
  },
  {
   "cell_type": "code",
   "execution_count": 2,
   "metadata": {},
   "outputs": [],
   "source": [
    "# reference\n",
    "metrics_fn_dict = dict()\n",
    "metrics_fn_dict['accuracy'] = ACC\n",
    "metrics_fn_dict['categorical_crossentropy'] = CCE\n",
    "metrics_fn_dict['mean_square_error'] = MSE\n",
    "metrics_fn_dict['precision'] = PRECISION\n",
    "metrics_fn_dict['recall'] = RECALL\n",
    "metrics_fn_dict['essential_metrics'] = essential_metrics"
   ]
  },
  {
   "cell_type": "code",
   "execution_count": 3,
   "metadata": {},
   "outputs": [],
   "source": [
    "# model\n",
    "model = Network(5, lr = None)\n",
    "model.add_layer(DenseLayer(1, 4, True, afn=sigmoid, dafn=None, rfn=None))\n",
    "model.add_layer(DenseLayer(2, 3, True, afn=softmax, dafn=None, rfn=None))"
   ]
  },
  {
   "cell_type": "code",
   "execution_count": 4,
   "metadata": {},
   "outputs": [],
   "source": [
    "pso = PSO(dict(m = 50,\n",
    "    weight_constraint = [-3, 3], \n",
    "    velocity_constraint = [-0.1, 0.1],\n",
    "    c1 = 2,\n",
    "    c2 = 2,\n",
    "    w = 1,\n",
    "    w_decay = 1,\n",
    "    scale_hyperparameter = False,\n",
    "    regularizer = None,\n",
    "    mask = False))"
   ]
  },
  {
   "cell_type": "code",
   "execution_count": 5,
   "metadata": {},
   "outputs": [
    {
     "name": "stdout",
     "output_type": "stream",
     "text": [
      "building layer 1 with 5\n",
      "24\n",
      "building layer 2 with 4\n",
      "15\n"
     ]
    }
   ],
   "source": [
    "model.compile(loss_fn = 'categorical_crossentropy', optimizer = pso, \\\n",
    "    metrics = ['accuracy', 'mean_square_error', 'categorical_crossentropy'])"
   ]
  },
  {
   "cell_type": "code",
   "execution_count": 6,
   "metadata": {
    "scrolled": false
   },
   "outputs": [
    {
     "name": "stdout",
     "output_type": "stream",
     "text": [
      "<class 'pandas.core.frame.DataFrame'>\n",
      "RangeIndex: 107 entries, 0 to 106\n",
      "Data columns (total 6 columns):\n",
      " #   Column  Non-Null Count  Dtype  \n",
      "---  ------  --------------  -----  \n",
      " 0   f1      107 non-null    float32\n",
      " 1   f2      107 non-null    float32\n",
      " 2   f3      107 non-null    float32\n",
      " 3   f4      107 non-null    float32\n",
      " 4   f5      107 non-null    float32\n",
      " 5   label   107 non-null    float32\n",
      "dtypes: float32(6)\n",
      "memory usage: 2.6 KB\n",
      "None\n",
      "<class 'pandas.core.frame.DataFrame'>\n",
      "RangeIndex: 108 entries, 0 to 107\n",
      "Data columns (total 6 columns):\n",
      " #   Column  Non-Null Count  Dtype  \n",
      "---  ------  --------------  -----  \n",
      " 0   f1      108 non-null    float32\n",
      " 1   f2      108 non-null    float32\n",
      " 2   f3      108 non-null    float32\n",
      " 3   f4      108 non-null    float32\n",
      " 4   f5      108 non-null    float32\n",
      " 5   label   108 non-null    float32\n",
      "dtypes: float32(6)\n",
      "memory usage: 2.7 KB\n",
      "None\n"
     ]
    }
   ],
   "source": [
    "# data loading\n",
    "DATA = os.path.join('c:\\\\Users\\\\tcumi\\\\github_repo\\\\neural-network\\\\', 'dataset')\n",
    "GROUP = 3\n",
    "COLUMNS = ['f1', 'f2', 'f3', 'f4', 'f5', 'label']\n",
    "N_CLASS = 3\n",
    "EPOCHS = 500\n",
    "train_dir, test_dir = \"..//dataset//training_data{}.txt\".format(GROUP), \"..//dataset//testing_data{}.txt\".format(GROUP)\n",
    "train, test = get_data(DATA, train_dir, COLUMNS), get_data(DATA, test_dir, COLUMNS)\n",
    "# shuffle\n",
    "train, test = train.sample(frac=1), test.sample(frac=1)\n",
    "x_train, y_train = train.drop('label', axis=1), train['label']\n",
    "x_test, y_test = test.drop('label', axis=1), test['label']"
   ]
  },
  {
   "cell_type": "code",
   "execution_count": 7,
   "metadata": {},
   "outputs": [],
   "source": [
    "# data scaling and encoding\n",
    "scaler = StandardScaler(['f1', 'f2', 'f3', 'f4', 'f5'])\n",
    "scaler.fit(x_train)\n",
    "x_train = scaler.transform(x_train)\n",
    "x_test = scaler.transform(x_test)\n",
    "y_train = one_hot_encoding(y_train, N_CLASS)\n",
    "y_test = one_hot_encoding(y_test, N_CLASS)"
   ]
  },
  {
   "cell_type": "code",
   "execution_count": 8,
   "metadata": {
    "tags": [
     "outputPrepend"
    ]
   },
   "outputs": [
    {
     "name": "stdout",
     "output_type": "stream",
     "text": [
      "Checkpoint 100, Accuracy: 0.8395061728395061, Loss: 0.525347356443052\n",
      "Checkpoint 200, Accuracy: 0.8395061728395061, Loss: 0.525347356443052\n",
      "Checkpoint 300, Accuracy: 0.8395061728395061, Loss: 0.525347356443052\n",
      "Checkpoint 400, Accuracy: 0.8395061728395061, Loss: 0.525347356443052\n",
      "Checkpoint 500, Accuracy: 0.8395061728395061, Loss: 0.525347356443052\n"
     ]
    }
   ],
   "source": [
    "# learning phase\n",
    "breakpoint = 100\n",
    "checkpoints = list()\n",
    "history = list()\n",
    "for century in range(0, EPOCHS, breakpoint):\n",
    "    sub_history = model.fit(x_train, y_train, breakpoint, verbose = 0)\n",
    "    score = model.evaluate(x_test, y_test, False, verbose = 0)\n",
    "    print('Checkpoint {}, Accuracy: {}, Loss: {}'.format(century+breakpoint, score['accuracy'], score[model.loss_fn]))\n",
    "    score['checkpoint'] = century + breakpoint\n",
    "    checkpoints.append(score)\n",
    "    history.extend(sub_history)"
   ]
  },
  {
   "cell_type": "code",
   "execution_count": 9,
   "metadata": {},
   "outputs": [],
   "source": [
    "import matplotlib.pyplot as plt\n",
    "\n",
    "def draw_plot(x, y_list, x_label=None, y_label=None, legend=None, title=None):\n",
    "    fig, ax = plt.subplots(figsize=(12,5))\n",
    "    for xi, yi in zip(x, y_list):\n",
    "        ax.plot(xi, yi)\n",
    "    if x_label is not None and y_label is not None:\n",
    "        ax.set(xlabel=x_label, ylabel=y_label, title='{} VS {}'.format(x_label, y_label))\n",
    "    if legend is not None:\n",
    "        ax.legend(legend)\n",
    "    ax.grid()\n",
    "    plt.show()"
   ]
  },
  {
   "cell_type": "code",
   "execution_count": 10,
   "metadata": {},
   "outputs": [
    {
     "name": "stdout",
     "output_type": "stream",
     "text": [
      "[1. 0. 0.] <-> [0.9379298  0.05538939 0.00668074]\n",
      "[1. 0. 0.] <-> [0.7982138  0.09098651 0.11079974]\n",
      "[1. 0. 0.] <-> [0.9082507  0.07583739 0.01591199]\n",
      "[1. 0. 0.] <-> [0.93110687 0.05889582 0.00999738]\n",
      "[0. 1. 0.] <-> [0.9691506  0.02519857 0.00565084]\n",
      "[0. 0. 1.] <-> [0.58114   0.0051192 0.4137408]\n",
      "[1. 0. 0.] <-> [0.89436555 0.02061856 0.0850158 ]\n",
      "[1. 0. 0.] <-> [0.907796   0.0554035  0.03680054]\n",
      "[1. 0. 0.] <-> [0.88602346 0.04239452 0.07158196]\n",
      "[1. 0. 0.] <-> [0.6945141  0.28687254 0.01861329]\n",
      "[0. 1. 0.] <-> [0.97398597 0.01702182 0.00899228]\n",
      "[1. 0. 0.] <-> [0.8321385  0.01989623 0.14796522]\n",
      "[1. 0. 0.] <-> [0.802448   0.01214554 0.18540646]\n",
      "[1. 0. 0.] <-> [0.8740734  0.02231853 0.10360815]\n",
      "[1. 0. 0.] <-> [0.8657668  0.02939014 0.10484295]\n",
      "[1. 0. 0.] <-> [0.9502807  0.03672241 0.01299687]\n",
      "[1. 0. 0.] <-> [0.867237   0.01158821 0.12117485]\n",
      "[0. 1. 0.] <-> [0.659792   0.3363808  0.00382716]\n",
      "[1. 0. 0.] <-> [0.86040455 0.02857357 0.11102191]\n",
      "[0. 0. 1.] <-> [0.6078521  0.00570272 0.38644522]\n",
      "[1. 0. 0.] <-> [0.8357842  0.01522883 0.148987  ]\n",
      "[0. 1. 0.] <-> [0.5077434  0.48852414 0.00373236]\n",
      "[1. 0. 0.] <-> [0.90418696 0.02219355 0.0736195 ]\n",
      "[1. 0. 0.] <-> [0.7744345  0.00901685 0.21654862]\n",
      "[1. 0. 0.] <-> [0.94931537 0.02059733 0.03008728]\n",
      "[0. 1. 0.] <-> [0.953566   0.04044706 0.00598681]\n",
      "[1. 0. 0.] <-> [0.92148256 0.03536551 0.04315184]\n",
      "[1. 0. 0.] <-> [0.92664844 0.04063319 0.03271844]\n",
      "[1. 0. 0.] <-> [0.7994338  0.02589763 0.1746685 ]\n",
      "[1. 0. 0.] <-> [0.9218327  0.02777804 0.05038935]\n",
      "[1. 0. 0.] <-> [0.7155272  0.08922822 0.19524458]\n",
      "[1. 0. 0.] <-> [0.8911982  0.03804164 0.07076015]\n",
      "[1. 0. 0.] <-> [0.83655936 0.15721805 0.00622256]\n",
      "[1. 0. 0.] <-> [0.7950158  0.18792458 0.01705954]\n",
      "[0. 0. 1.] <-> [0.69442254 0.02762537 0.2779521 ]\n",
      "[1. 0. 0.] <-> [0.9318558  0.04447382 0.02367038]\n",
      "[1. 0. 0.] <-> [0.817388   0.14472032 0.03789171]\n",
      "[0. 1. 0.] <-> [0.96044344 0.03417477 0.00538173]\n",
      "[1. 0. 0.] <-> [0.9458039  0.03520152 0.01899468]\n",
      "[1. 0. 0.] <-> [0.7468626  0.23411271 0.01902474]\n",
      "[1. 0. 0.] <-> [0.92617756 0.01663255 0.05718989]\n",
      "[1. 0. 0.] <-> [0.9276545  0.04459969 0.02774579]\n",
      "[0. 0. 1.] <-> [0.6903455  0.00604964 0.30360484]\n",
      "[0. 1. 0.] <-> [0.77074635 0.22593719 0.00331651]\n",
      "[0. 0. 1.] <-> [0.63498753 0.01000903 0.35500345]\n",
      "[0. 1. 0.] <-> [0.94011664 0.0562439  0.00363949]\n",
      "[0. 0. 1.] <-> [0.7605004  0.06401595 0.17548366]\n",
      "[1. 0. 0.] <-> [0.6743463  0.3195412  0.00611245]\n",
      "[0. 1. 0.] <-> [0.46208087 0.5342121  0.00370698]\n",
      "[1. 0. 0.] <-> [0.8749422  0.01526577 0.10979211]\n",
      "[0. 0. 1.] <-> [0.6633247  0.01833169 0.31834364]\n",
      "[1. 0. 0.] <-> [0.93656754 0.01696212 0.04647027]\n",
      "[1. 0. 0.] <-> [0.9044074  0.07803012 0.01756256]\n",
      "[1. 0. 0.] <-> [0.9344474  0.02307699 0.04247564]\n",
      "[0. 1. 0.] <-> [0.4937294  0.50248915 0.00378138]\n",
      "[1. 0. 0.] <-> [0.94285065 0.0314167  0.0257326 ]\n",
      "[1. 0. 0.] <-> [0.9433055  0.01964456 0.03704996]\n",
      "[1. 0. 0.] <-> [0.8162589  0.00866529 0.1750758 ]\n",
      "[1. 0. 0.] <-> [0.8707605  0.11405964 0.01517983]\n",
      "[0. 0. 1.] <-> [0.5722406  0.00462279 0.42313656]\n",
      "[1. 0. 0.] <-> [0.89744407 0.08500813 0.01754775]\n",
      "[1. 0. 0.] <-> [0.89187074 0.01521104 0.09291831]\n",
      "[0. 0. 1.] <-> [0.60020894 0.00646715 0.39332393]\n",
      "[0. 1. 0.] <-> [0.87940514 0.11805132 0.00254352]\n",
      "[0. 1. 0.] <-> [0.9634424  0.02997227 0.00658531]\n",
      "[0. 1. 0.] <-> [0.45334488 0.54155564 0.0050994 ]\n",
      "[1. 0. 0.] <-> [0.93335766 0.0357035  0.03093883]\n",
      "[1. 0. 0.] <-> [0.638605   0.35546756 0.00592749]\n",
      "[1. 0. 0.] <-> [0.8030296  0.01066275 0.18630764]\n",
      "[1. 0. 0.] <-> [0.90542024 0.05558455 0.03899521]\n",
      "[1. 0. 0.] <-> [0.94862455 0.01876287 0.03261263]\n",
      "[0. 0. 1.] <-> [0.5923496  0.00599868 0.4016517 ]\n",
      "[1. 0. 0.] <-> [0.86208695 0.09447184 0.04344122]\n",
      "[0. 0. 1.] <-> [0.6287308  0.00640131 0.3648679 ]\n",
      "[0. 0. 1.] <-> [0.63974315 0.01232935 0.34792754]\n",
      "[0. 1. 0.] <-> [0.5060813  0.49076116 0.00315751]\n",
      "[1. 0. 0.] <-> [0.89907104 0.02739783 0.07353117]\n",
      "[0. 1. 0.] <-> [0.44077158 0.5548641  0.00436427]\n",
      "[1. 0. 0.] <-> [0.9172238  0.04015617 0.04262006]\n",
      "[1. 0. 0.] <-> [0.9125317  0.02513741 0.06233098]\n",
      "[1. 0. 0.] <-> [0.87359285 0.02669507 0.09971212]\n",
      "[1. 0. 0.] <-> [0.8990905  0.01282497 0.08808452]\n",
      "[1. 0. 0.] <-> [0.68481815 0.00759567 0.30758622]\n",
      "[0. 0. 1.] <-> [0.67064315 0.00661469 0.32274213]\n",
      "[1. 0. 0.] <-> [0.8045211  0.19089812 0.00458076]\n",
      "[1. 0. 0.] <-> [0.94469583 0.04294889 0.01235524]\n",
      "[1. 0. 0.] <-> [0.9096458  0.02193756 0.06841657]\n",
      "[1. 0. 0.] <-> [0.9586047  0.03302838 0.00836692]\n",
      "[1. 0. 0.] <-> [0.8213247  0.04469369 0.13398162]\n",
      "[1. 0. 0.] <-> [0.9638916  0.0217701  0.01433827]\n",
      "[1. 0. 0.] <-> [0.9190581  0.01260287 0.0683391 ]\n",
      "[0. 0. 1.] <-> [0.6593622  0.00758164 0.3330561 ]\n",
      "[1. 0. 0.] <-> [0.8379323  0.01372296 0.14834473]\n",
      "[1. 0. 0.] <-> [0.9097089  0.02892929 0.06136177]\n",
      "[1. 0. 0.] <-> [0.8113312  0.00868209 0.17998672]\n",
      "[1. 0. 0.] <-> [0.8983834  0.07331049 0.02830618]\n",
      "[1. 0. 0.] <-> [0.9257581  0.06112562 0.01311629]\n",
      "[1. 0. 0.] <-> [0.9336326  0.04211707 0.02425033]\n",
      "[1. 0. 0.] <-> [0.93430907 0.02519756 0.0404934 ]\n",
      "[0. 1. 0.] <-> [0.77259    0.22325705 0.00415299]\n",
      "[1. 0. 0.] <-> [0.93949586 0.02491361 0.03559047]\n",
      "[1. 0. 0.] <-> [0.80103505 0.02375152 0.17521343]\n",
      "[1. 0. 0.] <-> [0.93188053 0.02158478 0.04653468]\n",
      "[1. 0. 0.] <-> [0.7856926  0.15247157 0.06183582]\n",
      "[1. 0. 0.] <-> [0.93260527 0.0587224  0.00867233]\n",
      "[1. 0. 0.] <-> [0.95128953 0.03032774 0.0183828 ]\n",
      "[1. 0. 0.] <-> [0.9435491  0.02102289 0.03542805]\n",
      "[1. 0. 0.] <-> [0.9208384  0.0412362  0.03792533]\n",
      "{'accuracy': 0.8395061728395061, 'mean_square_error': 0.31028959912436727, 'categorical_crossentropy': 0.525347356443052, 'essential_metrics': {0: {'tp_hit': 78, 'fp_hit': 26, 'tn_hit': 4, 'fn_hit': 0}, 1: {'tp_hit': 4, 'fp_hit': 0, 'tn_hit': 92, 'fn_hit': 12}, 2: {'tp_hit': 0, 'fp_hit': 0, 'tn_hit': 94, 'fn_hit': 14}}}\n"
     ]
    }
   ],
   "source": [
    "# recall phase\n",
    "score = model.evaluate(x_test, y_test, False)\n",
    "print(score)"
   ]
  },
  {
   "cell_type": "code",
   "execution_count": 11,
   "metadata": {},
   "outputs": [
    {
     "data": {
      "image/png": "[encoded data removed]",
      "text/plain": [
       "<Figure size 864x360 with 1 Axes>"
      ]
     },
     "metadata": {
      "needs_background": "light"
     },
     "output_type": "display_data"
    },
    {
     "data": {
      "image/png": "[encoded data removed]",
      "text/plain": [
       "<Figure size 864x360 with 1 Axes>"
      ]
     },
     "metadata": {
      "needs_background": "light"
     },
     "output_type": "display_data"
    }
   ],
   "source": [
    "draw_plot(x = [[i for i in range(len(history))], [(i+1)*breakpoint for i in range(len(checkpoints))]], y_list = [history, [ ckp[model.loss_fn] for ckp in checkpoints ]], x_label = 'Epochs', \\\n",
    "    y_label = model.loss_fn, legend=['train', 'test'])\n",
    "acc = [ ckp['accuracy'] for ckp in checkpoints ]\n",
    "draw_plot(x = [[(i+1)*breakpoint for i in range(len(checkpoints))]], y_list = [acc], x_label = 'Checkpoints', \\\n",
    "    y_label = 'accuracy')"
   ]
  },
  {
   "cell_type": "code",
   "execution_count": 12,
   "metadata": {},
   "outputs": [
    {
     "name": "stdout",
     "output_type": "stream",
     "text": [
      "{'accuracy': 0.8395061728395061, 'mean_square_error': 0.31028959912436727, 'categorical_crossentropy': 0.525347356443052, 'essential_metrics': {0: {'tp_hit': 78, 'fp_hit': 26, 'tn_hit': 4, 'fn_hit': 0}, 1: {'tp_hit': 4, 'fp_hit': 0, 'tn_hit': 92, 'fn_hit': 12}, 2: {'tp_hit': 0, 'fp_hit': 0, 'tn_hit': 94, 'fn_hit': 14}}, 'checkpoint': 100} \n",
      "\n",
      "\n",
      "{'accuracy': 0.8395061728395061, 'mean_square_error': 0.31028959912436727, 'categorical_crossentropy': 0.525347356443052, 'essential_metrics': {0: {'tp_hit': 78, 'fp_hit': 26, 'tn_hit': 4, 'fn_hit': 0}, 1: {'tp_hit': 4, 'fp_hit': 0, 'tn_hit': 92, 'fn_hit': 12}, 2: {'tp_hit': 0, 'fp_hit': 0, 'tn_hit': 94, 'fn_hit': 14}}, 'checkpoint': 200} \n",
      "\n",
      "\n",
      "{'accuracy': 0.8395061728395061, 'mean_square_error': 0.31028959912436727, 'categorical_crossentropy': 0.525347356443052, 'essential_metrics': {0: {'tp_hit': 78, 'fp_hit': 26, 'tn_hit': 4, 'fn_hit': 0}, 1: {'tp_hit': 4, 'fp_hit': 0, 'tn_hit': 92, 'fn_hit': 12}, 2: {'tp_hit': 0, 'fp_hit': 0, 'tn_hit': 94, 'fn_hit': 14}}, 'checkpoint': 300} \n",
      "\n",
      "\n",
      "{'accuracy': 0.8395061728395061, 'mean_square_error': 0.31028959912436727, 'categorical_crossentropy': 0.525347356443052, 'essential_metrics': {0: {'tp_hit': 78, 'fp_hit': 26, 'tn_hit': 4, 'fn_hit': 0}, 1: {'tp_hit': 4, 'fp_hit': 0, 'tn_hit': 92, 'fn_hit': 12}, 2: {'tp_hit': 0, 'fp_hit': 0, 'tn_hit': 94, 'fn_hit': 14}}, 'checkpoint': 400} \n",
      "\n",
      "\n",
      "{'accuracy': 0.8395061728395061, 'mean_square_error': 0.31028959912436727, 'categorical_crossentropy': 0.525347356443052, 'essential_metrics': {0: {'tp_hit': 78, 'fp_hit': 26, 'tn_hit': 4, 'fn_hit': 0}, 1: {'tp_hit': 4, 'fp_hit': 0, 'tn_hit': 92, 'fn_hit': 12}, 2: {'tp_hit': 0, 'fp_hit': 0, 'tn_hit': 94, 'fn_hit': 14}}, 'checkpoint': 500} \n",
      "\n",
      "\n"
     ]
    }
   ],
   "source": [
    "for checkpoint in checkpoints:\n",
    "    print(checkpoint, '\\n\\n')"
   ]
  },
  {
   "cell_type": "code",
   "execution_count": 13,
   "metadata": {},
   "outputs": [
    {
     "name": "stdout",
     "output_type": "stream",
     "text": [
      "Layer 1\n",
      "Neuron 0: weights:\n",
      "[-1.30900189 -0.20698802  2.91418787  1.57787336 -1.16456174]\n",
      " bias: 0.7688134648329239\n",
      "\n",
      "Neuron 1: weights:\n",
      "[-1.28251052  1.01974224  2.09855895 -1.10562082 -1.51673665]\n",
      " bias: -0.3394810799254455\n",
      "\n",
      "Neuron 2: weights:\n",
      "[ 1.87231531  2.7180294  -2.59580087 -0.20428931  2.17672592]\n",
      " bias: 2.47699074412413\n",
      "\n",
      "Neuron 3: weights:\n",
      "[ 0.32209198  2.12673598 -2.21161763 -1.12730462 -2.19442779]\n",
      " bias: 0.9345436258932502\n",
      "\n",
      "$\n",
      "Layer 2\n",
      "Neuron 0: weights:\n",
      "[-0.83052639  1.78229492  2.58284301 -2.13055065]\n",
      " bias: 1.5200172122260138\n",
      "\n",
      "Neuron 1: weights:\n",
      "[ 1.35175797  1.83171285 -0.20828152 -2.0263223 ]\n",
      " bias: -0.5253648175708552\n",
      "\n",
      "Neuron 2: weights:\n",
      "[-1.76531065 -2.2365681   1.54640846 -2.91688394]\n",
      " bias: 2.262286163696568\n",
      "\n",
      "$\n",
      "\n"
     ]
    }
   ],
   "source": [
    "print(model)"
   ]
  }
 ],
 "metadata": {
  "kernelspec": {
   "display_name": "Python 3",
   "language": "python",
   "name": "python3"
  },
  "language_info": {
   "codemirror_mode": {
    "name": "ipython",
    "version": 3
   },
   "file_extension": ".py",
   "mimetype": "text/x-python",
   "name": "python",
   "nbconvert_exporter": "python",
   "pygments_lexer": "ipython3",
   "version": "3.6.10"
  }
 },
 "nbformat": 4,
 "nbformat_minor": 2
}
