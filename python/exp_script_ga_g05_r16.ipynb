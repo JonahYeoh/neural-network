{
 "cells": [
  {
   "cell_type": "code",
   "execution_count": 1,
   "metadata": {},
   "outputs": [],
   "source": [
    "# two"
   ]
  },
  {
   "cell_type": "code",
   "execution_count": 2,
   "metadata": {},
   "outputs": [],
   "source": [
    "# dependency\n",
    "import numpy as np\n",
    "import pandas as pd\n",
    "import copy\n",
    "import math\n",
    "import sys\n",
    "import os\n",
    "from activations import relu, leaky_relu, sigmoid, tanh, softmax, d_sigmoid, d_relu\n",
    "from initializers import glorot_uniform, random_normal, random_uniform\n",
    "from regularizers import l1_regularizer, l2_regularizer\n",
    "from utility import trim_tail, multiply, subtract, get_nparams, one_hot_encoding, get_data\n",
    "from metrics import MSE, CCE, ACC, PRECISION, RECALL, essential_metrics, wondering_penalty, close_gap_penalty\n",
    "from pso import PSO\n",
    "from ga import GA\n",
    "from nn import Network\n",
    "from layer import DenseLayer\n",
    "from scalers import MinMaxScaler, StandardScaler"
   ]
  },
  {
   "cell_type": "code",
   "execution_count": 3,
   "metadata": {},
   "outputs": [],
   "source": [
    "# reference\n",
    "metrics_fn_dict = dict()\n",
    "metrics_fn_dict['accuracy'] = ACC\n",
    "metrics_fn_dict['categorical_crossentropy'] = CCE\n",
    "metrics_fn_dict['mean_square_error'] = MSE\n",
    "metrics_fn_dict['precision'] = PRECISION\n",
    "metrics_fn_dict['recall'] = RECALL\n",
    "metrics_fn_dict['essential_metrics'] = essential_metrics"
   ]
  },
  {
   "cell_type": "code",
   "execution_count": 4,
   "metadata": {},
   "outputs": [],
   "source": [
    "# model\n",
    "model = Network(5, lr = None)\n",
    "model.add_layer(DenseLayer(1, 4, True, afn=sigmoid, dafn=None, rfn=None))\n",
    "model.add_layer(DenseLayer(2, 3, True, afn=softmax, dafn=None, rfn=None))"
   ]
  },
  {
   "cell_type": "code",
   "execution_count": 5,
   "metadata": {},
   "outputs": [],
   "source": [
    "# optimizer\n",
    "ga = GA(\n",
    "    dict(\n",
    "        m = 50,\n",
    "        x_rate = [0.5, 1.0],\n",
    "        m_rate = [0.5, 1.0],\n",
    "        weight_constraint = [-3.,3.],\n",
    "        radioactive_rating = [0.1, 0.5],\n",
    "        grow_factor = [0.1, 0.5],\n",
    "        scale_hyperparameter = False,\n",
    "        regularizer = None))"
   ]
  },
  {
   "cell_type": "code",
   "execution_count": 6,
   "metadata": {},
   "outputs": [
    {
     "name": "stdout",
     "output_type": "stream",
     "text": [
      "building layer 1 with 5\n",
      "24\n",
      "building layer 2 with 4\n",
      "15\n"
     ]
    }
   ],
   "source": [
    "model.compile(loss_fn = 'categorical_crossentropy', optimizer = ga, \\\n",
    "    metrics = ['accuracy', 'mean_square_error', 'categorical_crossentropy', 'precision', 'recall', 'f1'])"
   ]
  },
  {
   "cell_type": "code",
   "execution_count": 7,
   "metadata": {},
   "outputs": [
    {
     "name": "stdout",
     "output_type": "stream",
     "text": [
      "<class 'pandas.core.frame.DataFrame'>\n",
      "RangeIndex: 107 entries, 0 to 106\n",
      "Data columns (total 6 columns):\n",
      " #   Column  Non-Null Count  Dtype  \n",
      "---  ------  --------------  -----  \n",
      " 0   f1      107 non-null    float32\n",
      " 1   f2      107 non-null    float32\n",
      " 2   f3      107 non-null    float32\n",
      " 3   f4      107 non-null    float32\n",
      " 4   f5      107 non-null    float32\n",
      " 5   label   107 non-null    float32\n",
      "dtypes: float32(6)\n",
      "memory usage: 2.6 KB\n",
      "None\n",
      "<class 'pandas.core.frame.DataFrame'>\n",
      "RangeIndex: 108 entries, 0 to 107\n",
      "Data columns (total 6 columns):\n",
      " #   Column  Non-Null Count  Dtype  \n",
      "---  ------  --------------  -----  \n",
      " 0   f1      108 non-null    float32\n",
      " 1   f2      108 non-null    float32\n",
      " 2   f3      108 non-null    float32\n",
      " 3   f4      108 non-null    float32\n",
      " 4   f5      108 non-null    float32\n",
      " 5   label   108 non-null    float32\n",
      "dtypes: float32(6)\n",
      "memory usage: 2.7 KB\n",
      "None\n"
     ]
    }
   ],
   "source": [
    "# data loading\n",
    "DATA = os.path.join('c:\\\\Users\\\\tcumi\\\\github_repo\\\\neural-network\\\\', 'dataset')\n",
    "GROUP = 5\n",
    "COLUMNS = ['f1', 'f2', 'f3', 'f4', 'f5', 'label']\n",
    "N_CLASS = 3\n",
    "EPOCHS = 500\n",
    "train_dir, test_dir = \"..//dataset//training_data{}.txt\".format(GROUP), \"..//dataset//testing_data{}.txt\".format(GROUP)\n",
    "train, test = get_data(DATA, train_dir, COLUMNS), get_data(DATA, test_dir, COLUMNS)\n",
    "# shuffle\n",
    "train, test = train.sample(frac=1), test.sample(frac=1)\n",
    "x_train, y_train = train.drop('label', axis=1), train['label']\n",
    "x_test, y_test = test.drop('label', axis=1), test['label']"
   ]
  },
  {
   "cell_type": "code",
   "execution_count": 8,
   "metadata": {},
   "outputs": [],
   "source": [
    "# data scaling and encoding\n",
    "scaler = StandardScaler(['f1', 'f2', 'f3', 'f4', 'f5'])\n",
    "scaler.fit(x_train)\n",
    "x_train = scaler.transform(x_train)\n",
    "x_test = scaler.transform(x_test)\n",
    "y_train = one_hot_encoding(y_train, N_CLASS)\n",
    "y_test = one_hot_encoding(y_test, N_CLASS)"
   ]
  },
  {
   "cell_type": "code",
   "execution_count": 9,
   "metadata": {
    "scrolled": true,
    "tags": [
     "outputPrepend"
    ]
   },
   "outputs": [
    {
     "name": "stderr",
     "output_type": "stream",
     "text": [
      "C:\\Users\\tcumi\\github_repo\\neural-network\\python\\ga.py:201: RuntimeWarning: overflow encountered in add\n",
      "  self.population.sort(key=lambda p: p.fitness + np.random.uniform(-shift, shift, 1), reverse = self.aim)\n"
     ]
    },
    {
     "name": "stdout",
     "output_type": "stream",
     "text": [
      "Checkpoint 100, Accuracy: 0.9444444444444444, Loss: 0.30688836839463973\n",
      "Checkpoint 200, Accuracy: 0.9506172839506173, Loss: 0.253175452903465\n",
      "Checkpoint 300, Accuracy: 0.9629629629629629, Loss: 0.20593978740550853\n",
      "Checkpoint 400, Accuracy: 0.9691358024691358, Loss: 0.15003372121740272\n",
      "Checkpoint 500, Accuracy: 0.9629629629629629, Loss: 0.14833602198848017\n"
     ]
    }
   ],
   "source": [
    "# learning phase\n",
    "breakpoint = 100\n",
    "checkpoints = list()\n",
    "history = list()\n",
    "for century in range(0, EPOCHS, breakpoint):\n",
    "    sub_history = model.fit(x_train, y_train, breakpoint, verbose = 0)\n",
    "    score = model.evaluate(x_test, y_test, False, verbose = 0)\n",
    "    print('Checkpoint {}, Accuracy: {}, Loss: {}'.format(century+breakpoint, score['accuracy'], score[model.loss_fn]))\n",
    "    score['checkpoint'] = century + breakpoint\n",
    "    checkpoints.append(score)\n",
    "    history.extend(sub_history)\n",
    "    itr = century + breakpoint\n",
    "\n",
    "    model.optimizer.rr = model.optimizer.radioactive_rating[1] - (model.optimizer.radioactive_rating[1] - model.optimizer.radioactive_rating[0]) / EPOCHS * (EPOCHS - itr)\n",
    "    model.optimizer.gf = model.optimizer.grow_factor[1] - (model.optimizer.grow_factor[1] - model.optimizer.grow_factor[0]) / EPOCHS * (EPOCHS - itr)\n",
    "    model.optimizer.crossover_rate = model.optimizer.x_rate[1] - (model.optimizer.x_rate[1] - model.optimizer.x_rate[0]) / EPOCHS * (EPOCHS - itr)\n",
    "    model.optimizer.mutation_rate = model.optimizer.m_rate[0] + (model.optimizer.m_rate[1] - model.optimizer.m_rate[0]) / EPOCHS * (EPOCHS - itr)\n",
    "    "
   ]
  },
  {
   "cell_type": "code",
   "execution_count": 10,
   "metadata": {},
   "outputs": [],
   "source": [
    "import matplotlib.pyplot as plt\n",
    "\n",
    "def draw_plot(x, y_list, x_label=None, y_label=None, legend=None, title=None):\n",
    "    fig, ax = plt.subplots(figsize=(12,5))\n",
    "    for xi, yi in zip(x, y_list):\n",
    "        ax.plot(xi, yi)\n",
    "    if x_label is not None and y_label is not None:\n",
    "        ax.set(xlabel=x_label, ylabel=y_label, title='{} VS {}'.format(x_label, y_label))\n",
    "    if legend is not None:\n",
    "        ax.legend(legend)\n",
    "    ax.grid()\n",
    "    plt.show()"
   ]
  },
  {
   "cell_type": "code",
   "execution_count": 11,
   "metadata": {},
   "outputs": [
    {
     "name": "stdout",
     "output_type": "stream",
     "text": [
      "[1. 0. 0.] <-> [0.9793458  0.0137935  0.00686068]\n",
      "[0. 0. 1.] <-> [1.6876156e-02 6.5254699e-04 9.8247129e-01]\n",
      "[0. 1. 0.] <-> [4.5475334e-02 9.5432287e-01 2.0181830e-04]\n",
      "[1. 0. 0.] <-> [0.95135736 0.0462621  0.00238044]\n",
      "[1. 0. 0.] <-> [0.9602035  0.03386439 0.00593208]\n",
      "[0. 0. 1.] <-> [1.6930912e-02 6.5378705e-04 9.8241526e-01]\n",
      "[1. 0. 0.] <-> [0.9784192  0.0120927  0.00948821]\n",
      "[1. 0. 0.] <-> [0.97404593 0.01795609 0.00799802]\n",
      "[1. 0. 0.] <-> [0.9771453  0.01367993 0.00917471]\n",
      "[1. 0. 0.] <-> [0.9753112  0.01969977 0.00498893]\n",
      "[0. 0. 1.] <-> [1.6881302e-02 6.5659033e-04 9.8246205e-01]\n",
      "[0. 0. 1.] <-> [1.7267702e-02 6.8885164e-04 9.8204345e-01]\n",
      "[1. 0. 0.] <-> [0.97812647 0.01752261 0.00435105]\n",
      "[1. 0. 0.] <-> [0.977998   0.01468869 0.00731324]\n",
      "[0. 0. 1.] <-> [1.6871016e-02 6.5243169e-04 9.8247659e-01]\n",
      "[0. 0. 1.] <-> [1.6914666e-02 6.5620220e-04 9.8242915e-01]\n",
      "[1. 0. 0.] <-> [0.96119475 0.01634639 0.02245892]\n",
      "[0. 0. 1.] <-> [0.6907809  0.01374081 0.2954783 ]\n",
      "[0. 0. 1.] <-> [1.6962875e-02 6.5501721e-04 9.8238212e-01]\n",
      "[1. 0. 0.] <-> [0.913451   0.01288693 0.07366211]\n",
      "[1. 0. 0.] <-> [0.93575555 0.01252987 0.05171464]\n",
      "[1. 0. 0.] <-> [0.9794652  0.014117   0.00641774]\n",
      "[1. 0. 0.] <-> [0.9796179  0.01387198 0.00651008]\n",
      "[0. 1. 0.] <-> [4.5476437e-02 9.5432168e-01 2.0182633e-04]\n",
      "[1. 0. 0.] <-> [0.96255225 0.01394286 0.023505  ]\n",
      "[1. 0. 0.] <-> [0.96603596 0.01373781 0.0202262 ]\n",
      "[1. 0. 0.] <-> [0.9716797  0.02392914 0.00439107]\n",
      "[1. 0. 0.] <-> [0.9489627  0.01178914 0.03924816]\n",
      "[1. 0. 0.] <-> [0.96419686 0.01431971 0.02148342]\n",
      "[1. 0. 0.] <-> [0.9800807  0.01413947 0.00577987]\n",
      "[0. 1. 0.] <-> [4.5737687e-02 9.5405859e-01 2.0366431e-04]\n",
      "[1. 0. 0.] <-> [0.76249176 0.01429174 0.2232165 ]\n",
      "[1. 0. 0.] <-> [0.86399966 0.13377206 0.00222835]\n",
      "[0. 1. 0.] <-> [4.5479260e-02 9.5431888e-01 2.0184787e-04]\n",
      "[1. 0. 0.] <-> [0.97863346 0.01308266 0.008284  ]\n",
      "[1. 0. 0.] <-> [0.9671611  0.0260537  0.00678518]\n",
      "[1. 0. 0.] <-> [0.98040754 0.01359811 0.00599437]\n",
      "[1. 0. 0.] <-> [0.96957123 0.02013786 0.010291  ]\n",
      "[0. 1. 0.] <-> [0.6690015  0.32592976 0.00506872]\n",
      "[0. 0. 1.] <-> [1.7034693e-02 6.5659557e-04 9.8230875e-01]\n",
      "[1. 0. 0.] <-> [0.97552323 0.01989606 0.0045807 ]\n",
      "[0. 1. 0.] <-> [0.33017644 0.66554964 0.00427393]\n",
      "[1. 0. 0.] <-> [0.8903977  0.01220698 0.09739532]\n",
      "[1. 0. 0.] <-> [0.92712086 0.02121619 0.05166287]\n",
      "[1. 0. 0.] <-> [0.9608085  0.03667077 0.00252076]\n",
      "[0. 0. 1.] <-> [0.9173437  0.01454047 0.06811577]\n",
      "[1. 0. 0.] <-> [0.45458984 0.01237095 0.5330392 ]\n",
      "[1. 0. 0.] <-> [0.97785324 0.01596038 0.00618638]\n",
      "[1. 0. 0.] <-> [0.9668888  0.02727276 0.00583852]\n",
      "[1. 0. 0.] <-> [0.98009425 0.01350233 0.00640346]\n",
      "[1. 0. 0.] <-> [0.8861035  0.01528002 0.09861644]\n",
      "[1. 0. 0.] <-> [0.9539665  0.04233227 0.00370113]\n",
      "[1. 0. 0.] <-> [0.6313014  0.01348298 0.35521564]\n",
      "[0. 0. 1.] <-> [1.689913e-02 6.530721e-04 9.824478e-01]\n",
      "[1. 0. 0.] <-> [0.9746401  0.01245592 0.01290402]\n",
      "[0. 0. 1.] <-> [1.6869584e-02 6.5250794e-04 9.8247796e-01]\n",
      "[1. 0. 0.] <-> [0.968136   0.02476382 0.00710018]\n",
      "[1. 0. 0.] <-> [0.71827066 0.009092   0.27263743]\n",
      "[1. 0. 0.] <-> [0.97632843 0.01731157 0.00635999]\n",
      "[0. 0. 1.] <-> [0.91661835 0.01336441 0.07001726]\n",
      "[1. 0. 0.] <-> [0.9774228  0.01445291 0.00812431]\n",
      "[1. 0. 0.] <-> [0.9785333  0.01525162 0.00621499]\n",
      "[1. 0. 0.] <-> [0.9778204  0.01358362 0.00859594]\n",
      "[1. 0. 0.] <-> [0.97331285 0.01961412 0.00707291]\n",
      "[1. 0. 0.] <-> [0.9773681  0.01571951 0.00691234]\n",
      "[0. 1. 0.] <-> [4.6360966e-02 9.5343369e-01 2.0533723e-04]\n",
      "[1. 0. 0.] <-> [0.9571232  0.01326097 0.02961586]\n",
      "[1. 0. 0.] <-> [0.97907853 0.01497539 0.00594608]\n",
      "[1. 0. 0.] <-> [0.9765713  0.01681966 0.0066091 ]\n",
      "[1. 0. 0.] <-> [0.9392926  0.01613539 0.04457195]\n",
      "[1. 0. 0.] <-> [0.9732511  0.02277001 0.00397896]\n",
      "[1. 0. 0.] <-> [0.8895803  0.01377953 0.09664016]\n",
      "[1. 0. 0.] <-> [0.90669715 0.01189004 0.08141275]\n",
      "[1. 0. 0.] <-> [0.97450703 0.02117558 0.00431733]\n",
      "[0. 1. 0.] <-> [5.8049895e-02 9.4164860e-01 3.0153795e-04]\n",
      "[1. 0. 0.] <-> [0.95730346 0.0393456  0.00335093]\n",
      "[0. 1. 0.] <-> [0.17389151 0.82406664 0.00204182]\n",
      "[1. 0. 0.] <-> [0.97795725 0.01351865 0.00852412]\n",
      "[0. 1. 0.] <-> [7.7101536e-02 9.2258459e-01 3.1388924e-04]\n",
      "[0. 1. 0.] <-> [0.18243277 0.8166533  0.00091399]\n",
      "[1. 0. 0.] <-> [0.97651845 0.01704715 0.00643446]\n",
      "[0. 1. 0.] <-> [4.5475114e-02 9.5432311e-01 2.0181623e-04]\n",
      "[0. 1. 0.] <-> [4.5476582e-02 9.5432156e-01 2.0182419e-04]\n",
      "[1. 0. 0.] <-> [0.9802468  0.01316822 0.00658499]\n",
      "[0. 0. 1.] <-> [1.7396037e-02 6.8433676e-04 9.8191959e-01]\n",
      "[1. 0. 0.] <-> [0.97968423 0.01409509 0.00622067]\n",
      "[0. 0. 1.] <-> [1.7059118e-02 6.5714488e-04 9.8228377e-01]\n",
      "[1. 0. 0.] <-> [0.97059625 0.01399684 0.01540697]\n",
      "[0. 1. 0.] <-> [4.5478158e-02 9.5432007e-01 2.0183965e-04]\n",
      "[1. 0. 0.] <-> [0.9762466  0.01332573 0.01042762]\n",
      "[1. 0. 0.] <-> [0.9672263  0.02924155 0.00353202]\n",
      "[0. 1. 0.] <-> [1.7227089e-01 8.2698625e-01 7.4283179e-04]\n",
      "[1. 0. 0.] <-> [0.9788286  0.0158644  0.00530697]\n",
      "[1. 0. 0.] <-> [0.91372037 0.02219816 0.06408148]\n",
      "[0. 1. 0.] <-> [0.41439024 0.5819203  0.00368948]\n",
      "[1. 0. 0.] <-> [0.8858847  0.10926488 0.00485032]\n",
      "[1. 0. 0.] <-> [0.9734474  0.01791785 0.00863475]\n",
      "[1. 0. 0.] <-> [0.979042   0.01289929 0.00805878]\n",
      "[1. 0. 0.] <-> [0.9750019  0.01872447 0.00627373]\n",
      "[1. 0. 0.] <-> [0.96152174 0.01682151 0.02165672]\n",
      "[1. 0. 0.] <-> [0.98064065 0.01367419 0.00568515]\n",
      "[1. 0. 0.] <-> [0.9777284  0.01741536 0.00485622]\n",
      "[1. 0. 0.] <-> [0.97415334 0.01960876 0.00623797]\n",
      "[0. 1. 0.] <-> [0.65969974 0.33856493 0.00173532]\n",
      "[1. 0. 0.] <-> [0.97788256 0.01312382 0.00899359]\n",
      "[1. 0. 0.] <-> [0.7465614  0.01348224 0.23995632]\n",
      "[1. 0. 0.] <-> [0.91753894 0.01342533 0.06903574]\n",
      "[1. 0. 0.] <-> [0.9665198  0.01410192 0.01937827]\n",
      "{'accuracy': 0.9629629629629629, 'mean_square_error': 0.07857395235721763, 'categorical_crossentropy': 0.14833602198848017, 'precision': 0.9444444444444444, 'recall': 0.9444444444444444, 'f1': 0.9444444444444444, 'essential_metrics': {0: {'tp_hit': 75, 'fp_hit': 5, 'tn_hit': 27, 'fn_hit': 1}, 1: {'tp_hit': 15, 'fp_hit': 0, 'tn_hit': 91, 'fn_hit': 2}, 2: {'tp_hit': 12, 'fp_hit': 1, 'tn_hit': 92, 'fn_hit': 3}}}\n"
     ]
    }
   ],
   "source": [
    "# recall phase\n",
    "score = model.evaluate(x_test, y_test, False)\n",
    "print(score)"
   ]
  },
  {
   "cell_type": "code",
   "execution_count": 12,
   "metadata": {},
   "outputs": [],
   "source": [
    "# Testing Performance"
   ]
  },
  {
   "cell_type": "code",
   "execution_count": 13,
   "metadata": {},
   "outputs": [
    {
     "data": {
      "image/png": "[encoded data removed]",
      "text/plain": [
       "<Figure size 864x360 with 1 Axes>"
      ]
     },
     "metadata": {
      "needs_background": "light"
     },
     "output_type": "display_data"
    },
    {
     "data": {
      "image/png": "[encoded data removed]",
      "text/plain": [
       "<Figure size 864x360 with 1 Axes>"
      ]
     },
     "metadata": {
      "needs_background": "light"
     },
     "output_type": "display_data"
    }
   ],
   "source": [
    "draw_plot(x = [[i for i in range(len(history))], [(i+1)*breakpoint for i in range(len(checkpoints))]], y_list = [history, [ ckp[model.loss_fn] for ckp in checkpoints ]], x_label = 'Epochs', \\\n",
    "    y_label = model.loss_fn, legend=['train', 'test'])\n",
    "acc = [ ckp['accuracy'] for ckp in checkpoints ]\n",
    "draw_plot(x = [[(i+1)*breakpoint for i in range(len(checkpoints))]], y_list = [acc], x_label = 'Checkpoints', \\\n",
    "    y_label = 'accuracy')"
   ]
  },
  {
   "cell_type": "code",
   "execution_count": 14,
   "metadata": {
    "scrolled": false
   },
   "outputs": [
    {
     "name": "stdout",
     "output_type": "stream",
     "text": [
      "{'accuracy': 0.9444444444444444, 'mean_square_error': 0.14796805832912502, 'categorical_crossentropy': 0.30688836839463973, 'precision': 0.9166666666666666, 'recall': 0.9166666666666666, 'f1': 0.9166666666666666, 'essential_metrics': {0: {'tp_hit': 74, 'fp_hit': 7, 'tn_hit': 25, 'fn_hit': 2}, 1: {'tp_hit': 13, 'fp_hit': 2, 'tn_hit': 89, 'fn_hit': 4}, 2: {'tp_hit': 12, 'fp_hit': 0, 'tn_hit': 93, 'fn_hit': 3}}, 'checkpoint': 100} \n",
      "\n",
      "\n",
      "{'accuracy': 0.9506172839506173, 'mean_square_error': 0.12225550287139002, 'categorical_crossentropy': 0.253175452903465, 'precision': 0.9259259259259259, 'recall': 0.9259259259259259, 'f1': 0.9259259259259259, 'essential_metrics': {0: {'tp_hit': 75, 'fp_hit': 7, 'tn_hit': 25, 'fn_hit': 1}, 1: {'tp_hit': 13, 'fp_hit': 1, 'tn_hit': 90, 'fn_hit': 4}, 2: {'tp_hit': 12, 'fp_hit': 0, 'tn_hit': 93, 'fn_hit': 3}}, 'checkpoint': 200} \n",
      "\n",
      "\n",
      "{'accuracy': 0.9629629629629629, 'mean_square_error': 0.0968932265050535, 'categorical_crossentropy': 0.20593978740550853, 'precision': 0.9444444444444444, 'recall': 0.9444444444444444, 'f1': 0.9444444444444444, 'essential_metrics': {0: {'tp_hit': 76, 'fp_hit': 6, 'tn_hit': 26, 'fn_hit': 0}, 1: {'tp_hit': 14, 'fp_hit': 0, 'tn_hit': 91, 'fn_hit': 3}, 2: {'tp_hit': 12, 'fp_hit': 0, 'tn_hit': 93, 'fn_hit': 3}}, 'checkpoint': 300} \n",
      "\n",
      "\n",
      "{'accuracy': 0.9691358024691358, 'mean_square_error': 0.07265031995541472, 'categorical_crossentropy': 0.15003372121740272, 'precision': 0.9537037037037037, 'recall': 0.9537037037037037, 'f1': 0.9537037037037037, 'essential_metrics': {0: {'tp_hit': 76, 'fp_hit': 5, 'tn_hit': 27, 'fn_hit': 0}, 1: {'tp_hit': 15, 'fp_hit': 0, 'tn_hit': 91, 'fn_hit': 2}, 2: {'tp_hit': 12, 'fp_hit': 0, 'tn_hit': 93, 'fn_hit': 3}}, 'checkpoint': 400} \n",
      "\n",
      "\n",
      "{'accuracy': 0.9629629629629629, 'mean_square_error': 0.07857395235721763, 'categorical_crossentropy': 0.14833602198848017, 'precision': 0.9444444444444444, 'recall': 0.9444444444444444, 'f1': 0.9444444444444444, 'essential_metrics': {0: {'tp_hit': 75, 'fp_hit': 5, 'tn_hit': 27, 'fn_hit': 1}, 1: {'tp_hit': 15, 'fp_hit': 0, 'tn_hit': 91, 'fn_hit': 2}, 2: {'tp_hit': 12, 'fp_hit': 1, 'tn_hit': 92, 'fn_hit': 3}}, 'checkpoint': 500} \n",
      "\n",
      "\n"
     ]
    }
   ],
   "source": [
    "for checkpoint in checkpoints:\n",
    "    print(checkpoint, '\\n\\n')"
   ]
  },
  {
   "cell_type": "code",
   "execution_count": 15,
   "metadata": {},
   "outputs": [
    {
     "name": "stdout",
     "output_type": "stream",
     "text": [
      "Layer 1\n",
      "Neuron 0: weights:\n",
      "[ 1.720806  -1.9866946 -1.3338454  2.0295317  0.6408779]\n",
      " bias: -3.0\n",
      "\n",
      "Neuron 1: weights:\n",
      "[-2.9287472  0.2000843  2.872138  -2.5709906  0.6180374]\n",
      " bias: -1.5217032432556152\n",
      "\n",
      "Neuron 2: weights:\n",
      "[-1.2605982  3.         3.         1.1905855 -1.3153154]\n",
      " bias: -2.988389492034912\n",
      "\n",
      "Neuron 3: weights:\n",
      "[ 0.9982404 -3.        -1.1640925  2.8104239  0.9747339]\n",
      " bias: -2.8453333377838135\n",
      "\n",
      "$\n",
      "Layer 2\n",
      "Neuron 0: weights:\n",
      "[-1.6953212   0.72076297 -3.         -1.8143278 ]\n",
      " bias: 3.0\n",
      "\n",
      "Neuron 1: weights:\n",
      "[ 0.8021711  2.3518918  3.        -2.9771597]\n",
      " bias: -1.5872912406921387\n",
      "\n",
      "Neuron 2: weights:\n",
      "[ 2.8842785  -0.41554973 -1.9518571   3.        ]\n",
      " bias: -2.329393148422241\n",
      "\n",
      "$\n",
      "\n"
     ]
    }
   ],
   "source": [
    "print(model)"
   ]
  }
 ],
 "metadata": {
  "kernelspec": {
   "display_name": "Python 3",
   "language": "python",
   "name": "python3"
  },
  "language_info": {
   "codemirror_mode": {
    "name": "ipython",
    "version": 3
   },
   "file_extension": ".py",
   "mimetype": "text/x-python",
   "name": "python",
   "nbconvert_exporter": "python",
   "pygments_lexer": "ipython3",
   "version": "3.6.10"
  }
 },
 "nbformat": 4,
 "nbformat_minor": 2
}
