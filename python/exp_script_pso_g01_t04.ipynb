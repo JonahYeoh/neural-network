{
 "cells": [
  {
   "cell_type": "code",
   "execution_count": 1,
   "metadata": {},
   "outputs": [],
   "source": [
    "# dependency\n",
    "import numpy as np\n",
    "import pandas as pd\n",
    "import copy\n",
    "import math\n",
    "import sys\n",
    "import os\n",
    "from activations import relu, leaky_relu, sigmoid, tanh, softmax, d_sigmoid, d_relu\n",
    "from initializers import glorot_uniform, random_normal, random_uniform\n",
    "from regularizers import l1_regularizer, l2_regularizer\n",
    "from utility import trim_tail, multiply, subtract, get_nparams, one_hot_encoding, get_data\n",
    "from metrics import MSE, CCE, ACC, PRECISION, RECALL, essential_metrics, wondering_penalty, close_gap_penalty\n",
    "from pso import PSO\n",
    "from ga import GA\n",
    "from nn import Network\n",
    "from layer import DenseLayer\n",
    "from scalers import MinMaxScaler, StandardScaler"
   ]
  },
  {
   "cell_type": "code",
   "execution_count": 2,
   "metadata": {},
   "outputs": [],
   "source": [
    "# reference\n",
    "metrics_fn_dict = dict()\n",
    "metrics_fn_dict['accuracy'] = ACC\n",
    "metrics_fn_dict['categorical_crossentropy'] = CCE\n",
    "metrics_fn_dict['mean_square_error'] = MSE\n",
    "metrics_fn_dict['precision'] = PRECISION\n",
    "metrics_fn_dict['recall'] = RECALL\n",
    "metrics_fn_dict['essential_metrics'] = essential_metrics"
   ]
  },
  {
   "cell_type": "code",
   "execution_count": 3,
   "metadata": {},
   "outputs": [],
   "source": [
    "# model\n",
    "model = Network(5, lr = None)\n",
    "model.add_layer(DenseLayer(1, 4, True, afn=sigmoid, dafn=None, rfn=None))\n",
    "model.add_layer(DenseLayer(2, 3, True, afn=softmax, dafn=None, rfn=None))"
   ]
  },
  {
   "cell_type": "code",
   "execution_count": 4,
   "metadata": {},
   "outputs": [
    {
     "name": "stdout",
     "output_type": "stream",
     "text": [
      "see one see two 2 2\n"
     ]
    }
   ],
   "source": [
    "pso = PSO(dict(m = 50,\n",
    "    weight_constraint = [-3, 3], \n",
    "    velocity_constraint = [-0.1, 0.1],\n",
    "    c1 = 2,\n",
    "    c2 = 2,\n",
    "    w = 1.4,\n",
    "    w_decay = 1,\n",
    "    scale_hyperparameter = False,\n",
    "    regularizer = None,\n",
    "    mask = True))"
   ]
  },
  {
   "cell_type": "code",
   "execution_count": 5,
   "metadata": {},
   "outputs": [
    {
     "name": "stdout",
     "output_type": "stream",
     "text": [
      "building layer 1 with 5\n",
      "24\n",
      "building layer 2 with 4\n",
      "15\n"
     ]
    }
   ],
   "source": [
    "model.compile(loss_fn = 'categorical_crossentropy', optimizer = pso, \\\n",
    "    metrics = ['accuracy', 'mean_square_error', 'categorical_crossentropy'])"
   ]
  },
  {
   "cell_type": "code",
   "execution_count": 6,
   "metadata": {},
   "outputs": [
    {
     "name": "stdout",
     "output_type": "stream",
     "text": [
      "<class 'pandas.core.frame.DataFrame'>\n",
      "RangeIndex: 107 entries, 0 to 106\n",
      "Data columns (total 6 columns):\n",
      " #   Column  Non-Null Count  Dtype  \n",
      "---  ------  --------------  -----  \n",
      " 0   f1      107 non-null    float32\n",
      " 1   f2      107 non-null    float32\n",
      " 2   f3      107 non-null    float32\n",
      " 3   f4      107 non-null    float32\n",
      " 4   f5      107 non-null    float32\n",
      " 5   label   107 non-null    float32\n",
      "dtypes: float32(6)\n",
      "memory usage: 2.6 KB\n",
      "None\n",
      "<class 'pandas.core.frame.DataFrame'>\n",
      "RangeIndex: 108 entries, 0 to 107\n",
      "Data columns (total 6 columns):\n",
      " #   Column  Non-Null Count  Dtype  \n",
      "---  ------  --------------  -----  \n",
      " 0   f1      108 non-null    float32\n",
      " 1   f2      108 non-null    float32\n",
      " 2   f3      108 non-null    float32\n",
      " 3   f4      108 non-null    float32\n",
      " 4   f5      108 non-null    float32\n",
      " 5   label   108 non-null    float32\n",
      "dtypes: float32(6)\n",
      "memory usage: 2.7 KB\n",
      "None\n"
     ]
    }
   ],
   "source": [
    "# data loading\n",
    "DATA = os.path.join('c:\\\\Users\\\\AI-lab\\\\github_repo\\\\neural-network\\\\', 'dataset')\n",
    "GROUP = 1\n",
    "COLUMNS = ['f1', 'f2', 'f3', 'f4', 'f5', 'label']\n",
    "N_CLASS = 3\n",
    "EPOCHS = 200\n",
    "train_dir, test_dir = \"..//dataset//training_data{}.txt\".format(GROUP), \"..//dataset//testing_data{}.txt\".format(GROUP)\n",
    "train, test = get_data(DATA, train_dir, COLUMNS), get_data(DATA, test_dir, COLUMNS)\n",
    "# shuffle\n",
    "train, test = train.sample(frac=1), test.sample(frac=1)\n",
    "x_train, y_train = train.drop('label', axis=1), train['label']\n",
    "x_test, y_test = test.drop('label', axis=1), test['label']"
   ]
  },
  {
   "cell_type": "code",
   "execution_count": 7,
   "metadata": {},
   "outputs": [],
   "source": [
    "# data scaling and encoding\n",
    "scaler = StandardScaler(['f1', 'f2', 'f3', 'f4', 'f5'])\n",
    "scaler.fit(x_train)\n",
    "x_train = scaler.transform(x_train)\n",
    "x_test = scaler.transform(x_test)\n",
    "y_train = one_hot_encoding(y_train, N_CLASS)\n",
    "y_test = one_hot_encoding(y_test, N_CLASS)"
   ]
  },
  {
   "cell_type": "code",
   "execution_count": 8,
   "metadata": {
    "tags": [
     "outputPrepend"
    ]
   },
   "outputs": [
    {
     "name": "stdout",
     "output_type": "stream",
     "text": [
      "Checkpoint 10, Accuracy: 0.808641975308642, Loss: 0.8515346668384693\n",
      "Checkpoint 20, Accuracy: 0.845679012345679, Loss: 0.6546032517044632\n",
      "Checkpoint 30, Accuracy: 0.845679012345679, Loss: 0.5423830526846426\n",
      "Checkpoint 40, Accuracy: 0.8765432098765432, Loss: 0.4654373592800564\n",
      "Checkpoint 50, Accuracy: 0.8827160493827161, Loss: 0.44608985053168404\n",
      "Checkpoint 60, Accuracy: 0.8888888888888888, Loss: 0.4413316514756944\n",
      "Checkpoint 70, Accuracy: 0.9506172839506173, Loss: 0.3431594283492477\n",
      "Checkpoint 80, Accuracy: 0.9506172839506173, Loss: 0.3096565670437283\n",
      "Checkpoint 90, Accuracy: 0.9629629629629629, Loss: 0.2729846989666974\n",
      "Checkpoint 100, Accuracy: 0.9567901234567902, Loss: 0.21921265566790546\n",
      "Checkpoint 110, Accuracy: 0.9691358024691358, Loss: 0.208561967920374\n",
      "Checkpoint 120, Accuracy: 0.9567901234567902, Loss: 0.20018510465268735\n",
      "Checkpoint 130, Accuracy: 0.9753086419753086, Loss: 0.15614460132740163\n",
      "Checkpoint 140, Accuracy: 0.9691358024691358, Loss: 0.1535080627158836\n",
      "Checkpoint 150, Accuracy: 0.9814814814814815, Loss: 0.13650096787346733\n",
      "Checkpoint 160, Accuracy: 0.9876543209876543, Loss: 0.1279854244656033\n",
      "Checkpoint 170, Accuracy: 0.9753086419753086, Loss: 0.13062574245311595\n",
      "Checkpoint 180, Accuracy: 0.9691358024691358, Loss: 0.12959365491513852\n",
      "Checkpoint 190, Accuracy: 0.9629629629629629, Loss: 0.12725128950896086\n",
      "Checkpoint 200, Accuracy: 0.9629629629629629, Loss: 0.13451118822450991\n"
     ]
    }
   ],
   "source": [
    "# learning phase\n",
    "breakpoint = 10\n",
    "checkpoints = list()\n",
    "history = list()\n",
    "for century in range(0, EPOCHS, breakpoint):\n",
    "    sub_history = model.fit(x_train, y_train, breakpoint, verbose = 0)\n",
    "    score = model.evaluate(x_test, y_test, False, verbose = 0)\n",
    "    print('Checkpoint {}, Accuracy: {}, Loss: {}'.format(century+breakpoint, score['accuracy'], score[model.loss_fn]))\n",
    "    score['checkpoint'] = century + breakpoint\n",
    "    checkpoints.append(score)\n",
    "    history.extend(sub_history)"
   ]
  },
  {
   "cell_type": "code",
   "execution_count": 9,
   "metadata": {},
   "outputs": [],
   "source": [
    "import matplotlib.pyplot as plt\n",
    "\n",
    "def draw_plot(x, y_list, x_label=None, y_label=None, legend=None, title=None):\n",
    "    fig, ax = plt.subplots(figsize=(12,5))\n",
    "    for xi, yi in zip(x, y_list):\n",
    "        ax.plot(xi, yi)\n",
    "    if x_label is not None and y_label is not None:\n",
    "        ax.set(xlabel=x_label, ylabel=y_label, title='{} VS {}'.format(x_label, y_label))\n",
    "    if legend is not None:\n",
    "        ax.legend(legend)\n",
    "    ax.grid()\n",
    "    plt.show()"
   ]
  },
  {
   "cell_type": "code",
   "execution_count": 10,
   "metadata": {},
   "outputs": [],
   "source": [
    "train_acc = [h['accuracy'] for h in history]\n",
    "train_mse = [h['mean_square_error'] for h in history]\n",
    "train_cce = [h['categorical_crossentropy'] for h in history]"
   ]
  },
  {
   "cell_type": "code",
   "execution_count": 11,
   "metadata": {},
   "outputs": [
    {
     "data": {
      "image/png": "[encoded data removed]",
      "text/plain": [
       "<Figure size 864x360 with 1 Axes>"
      ]
     },
     "metadata": {
      "needs_background": "light"
     },
     "output_type": "display_data"
    },
    {
     "data": {
      "image/png": "[encoded data removed]",
      "text/plain": [
       "<Figure size 864x360 with 1 Axes>"
      ]
     },
     "metadata": {
      "needs_background": "light"
     },
     "output_type": "display_data"
    }
   ],
   "source": [
    "draw_plot(x = [[i for i in range(len(history))], [(i+1)*breakpoint for i in range(len(checkpoints))]], y_list = [train_cce, [ ckp[model.loss_fn] for ckp in checkpoints ]], x_label = 'Epochs', \\\n",
    "    y_label = model.loss_fn, legend=['train', 'test'])\n",
    "acc = [ ckp['accuracy'] for ckp in checkpoints ]\n",
    "draw_plot(x = [[i for i in range(len(history))], [(i+1)*breakpoint for i in range(len(checkpoints))]], y_list = [train_acc, acc], x_label = 'Checkpoints', \\\n",
    "    y_label = 'accuracy', legend=['train', 'test'])"
   ]
  },
  {
   "cell_type": "code",
   "execution_count": 12,
   "metadata": {},
   "outputs": [
    {
     "name": "stdout",
     "output_type": "stream",
     "text": [
      "[0. 0. 1.] <-> [1.0764626e-02 3.7533893e-05 9.8919779e-01]\n",
      "[0. 0. 1.] <-> [1.0150583e-02 4.1317726e-05 9.8980814e-01]\n",
      "[1. 0. 0.] <-> [1.9543292e-02 7.0203772e-05 9.8038644e-01]\n",
      "[1. 0. 0.] <-> [0.9890619  0.00898703 0.00195108]\n",
      "[1. 0. 0.] <-> [0.9889649  0.00548227 0.00555279]\n",
      "[1. 0. 0.] <-> [0.9891289  0.00809631 0.00277481]\n",
      "[1. 0. 0.] <-> [0.9932198  0.00529521 0.00148498]\n",
      "[1. 0. 0.] <-> [9.6776474e-01 3.1611327e-02 6.2387454e-04]\n",
      "[1. 0. 0.] <-> [0.99236566 0.00534491 0.0022894 ]\n",
      "[1. 0. 0.] <-> [0.95773333 0.04048653 0.00178014]\n",
      "[1. 0. 0.] <-> [0.9934384  0.00536595 0.00119566]\n",
      "[1. 0. 0.] <-> [0.98200077 0.00617383 0.01182546]\n",
      "[1. 0. 0.] <-> [0.9815677  0.01733844 0.00109379]\n",
      "[0. 0. 1.] <-> [1.0897799e-02 3.8125883e-05 9.8906404e-01]\n",
      "[1. 0. 0.] <-> [9.231706e-01 7.620468e-02 6.246997e-04]\n",
      "[1. 0. 0.] <-> [0.9844014  0.00456399 0.0110346 ]\n",
      "[1. 0. 0.] <-> [0.99054104 0.00800883 0.00145015]\n",
      "[0. 1. 0.] <-> [1.6290590e-02 9.8365778e-01 5.1609695e-05]\n",
      "[0. 1. 0.] <-> [1.9199945e-02 9.8073673e-01 6.3397194e-05]\n",
      "[1. 0. 0.] <-> [0.9920105  0.0067437  0.00124581]\n",
      "[0. 0. 1.] <-> [1.0871925e-02 3.7997768e-05 9.8909003e-01]\n",
      "[1. 0. 0.] <-> [0.99215937 0.00654587 0.00129475]\n",
      "[1. 0. 0.] <-> [0.9847802  0.00438046 0.01083934]\n",
      "[1. 0. 0.] <-> [0.75895655 0.00329201 0.23775141]\n",
      "[0. 1. 0.] <-> [2.287478e-02 9.770477e-01 7.759171e-05]\n",
      "[1. 0. 0.] <-> [0.9914442  0.00549716 0.00305877]\n",
      "[0. 1. 0.] <-> [5.3228825e-02 9.4660747e-01 1.6369983e-04]\n",
      "[1. 0. 0.] <-> [0.9917692  0.00697333 0.00125743]\n",
      "[1. 0. 0.] <-> [0.9900945  0.00623754 0.00366797]\n",
      "[1. 0. 0.] <-> [0.9849416  0.00526805 0.0097904 ]\n",
      "[1. 0. 0.] <-> [9.8829716e-01 1.0775049e-02 9.2778850e-04]\n",
      "[1. 0. 0.] <-> [9.7938490e-01 1.9958710e-02 6.5634405e-04]\n",
      "[1. 0. 0.] <-> [0.90069145 0.00366567 0.09564285]\n",
      "[1. 0. 0.] <-> [0.9888524  0.00956736 0.00158022]\n",
      "[1. 0. 0.] <-> [0.72365546 0.00281821 0.27352637]\n",
      "[0. 0. 1.] <-> [1.0764017e-02 3.7523507e-05 9.8919851e-01]\n",
      "[1. 0. 0.] <-> [0.98676    0.00477202 0.00846796]\n",
      "[0. 0. 1.] <-> [1.0764433e-02 3.7524886e-05 9.8919803e-01]\n",
      "[1. 0. 0.] <-> [0.9190511  0.00399285 0.07695594]\n",
      "[0. 1. 0.] <-> [2.4693386e-01 7.5238788e-01 6.7823677e-04]\n",
      "[1. 0. 0.] <-> [0.98824185 0.0104841  0.0012741 ]\n",
      "[1. 0. 0.] <-> [0.9876533  0.01109883 0.00124774]\n",
      "[1. 0. 0.] <-> [0.82824177 0.00368594 0.16807231]\n",
      "[1. 0. 0.] <-> [0.9930472  0.00542655 0.00152631]\n",
      "[1. 0. 0.] <-> [9.8930579e-01 9.7359978e-03 9.5817185e-04]\n",
      "[1. 0. 0.] <-> [0.98299396 0.01553329 0.00147276]\n",
      "[0. 1. 0.] <-> [3.9014134e-01 6.0945958e-01 3.9908293e-04]\n",
      "[0. 0. 1.] <-> [7.875837e-02 2.970391e-04 9.209446e-01]\n",
      "[1. 0. 0.] <-> [9.8329365e-01 1.5996804e-02 7.0949382e-04]\n",
      "[1. 0. 0.] <-> [0.98927677 0.00619232 0.00453094]\n",
      "[0. 0. 1.] <-> [1.0935420e-02 3.8146547e-05 9.8902649e-01]\n",
      "[1. 0. 0.] <-> [0.88825274 0.00383796 0.10790937]\n",
      "[1. 0. 0.] <-> [0.9912315  0.00433079 0.00443771]\n",
      "[1. 0. 0.] <-> [0.99201596 0.00663821 0.00134575]\n",
      "[1. 0. 0.] <-> [0.9664456  0.00661175 0.02694258]\n",
      "[0. 1. 0.] <-> [3.8709916e-02 9.6115088e-01 1.3917977e-04]\n",
      "[1. 0. 0.] <-> [0.992592   0.00523976 0.00216836]\n",
      "[1. 0. 0.] <-> [0.9913606  0.00482639 0.00381299]\n",
      "[1. 0. 0.] <-> [9.8604697e-01 1.3051412e-02 9.0163917e-04]\n",
      "[1. 0. 0.] <-> [0.3819066  0.00169203 0.61640143]\n",
      "[1. 0. 0.] <-> [0.9600733  0.00421967 0.03570704]\n",
      "[0. 1. 0.] <-> [1.6213117e-02 9.8373264e-01 5.4131433e-05]\n",
      "[1. 0. 0.] <-> [0.92107886 0.00572576 0.07319534]\n",
      "[1. 0. 0.] <-> [0.9780797  0.0041833  0.01773699]\n",
      "[1. 0. 0.] <-> [9.756623e-01 2.356598e-02 7.717605e-04]\n",
      "[0. 0. 1.] <-> [8.664551e-03 6.278053e-05 9.912726e-01]\n",
      "[1. 0. 0.] <-> [0.98680264 0.00473754 0.00845976]\n",
      "[1. 0. 0.] <-> [0.8515133  0.14724149 0.00124519]\n",
      "[1. 0. 0.] <-> [0.98898786 0.00966412 0.00134802]\n",
      "[1. 0. 0.] <-> [0.9616435  0.0039636  0.03439293]\n",
      "[1. 0. 0.] <-> [0.9560745  0.00501531 0.03891028]\n",
      "[0. 0. 1.] <-> [1.7888779e-02 7.7945180e-05 9.8203331e-01]\n",
      "[1. 0. 0.] <-> [0.9819987  0.00424284 0.0137584 ]\n",
      "[1. 0. 0.] <-> [0.98432016 0.00538291 0.010297  ]\n",
      "[1. 0. 0.] <-> [0.9912213  0.00464921 0.00412944]\n",
      "[1. 0. 0.] <-> [0.31738675 0.00126542 0.6813479 ]\n",
      "[0. 0. 1.] <-> [1.07654845e-02 3.75302843e-05 9.89196956e-01]\n",
      "[1. 0. 0.] <-> [0.9897014  0.00777638 0.0025222 ]\n",
      "[0. 1. 0.] <-> [0.48560023 0.5134652  0.00093453]\n",
      "[1. 0. 0.] <-> [0.9884291  0.00487035 0.0067005 ]\n",
      "[1. 0. 0.] <-> [0.95035803 0.04869132 0.00095063]\n",
      "[1. 0. 0.] <-> [0.9904751  0.00571763 0.00380729]\n",
      "[1. 0. 0.] <-> [9.8919547e-01 9.9227130e-03 8.8180107e-04]\n",
      "[0. 1. 0.] <-> [0.46654212 0.5299827  0.00347524]\n",
      "[0. 1. 0.] <-> [0.36342588 0.6330511  0.00352307]\n",
      "[1. 0. 0.] <-> [0.99099475 0.00694573 0.00205961]\n",
      "[1. 0. 0.] <-> [0.96829504 0.00430382 0.02740116]\n",
      "[1. 0. 0.] <-> [0.99209714 0.00588233 0.00202047]\n",
      "[1. 0. 0.] <-> [0.8828821  0.00366243 0.11345553]\n",
      "[0. 1. 0.] <-> [1.6243558e-02 9.8370540e-01 5.1024032e-05]\n",
      "[1. 0. 0.] <-> [0.9849637  0.0128191  0.00221714]\n",
      "[1. 0. 0.] <-> [0.29791123 0.00115616 0.70093256]\n",
      "[1. 0. 0.] <-> [0.98961776 0.0055956  0.00478658]\n",
      "[1. 0. 0.] <-> [9.7418505e-01 2.4998039e-02 8.1690267e-04]\n",
      "[1. 0. 0.] <-> [0.97371    0.00418192 0.02210806]\n",
      "[0. 1. 0.] <-> [1.6553540e-02 9.8339385e-01 5.2631953e-05]\n",
      "[1. 0. 0.] <-> [0.98744744 0.00516935 0.00738316]\n",
      "[0. 1. 0.] <-> [2.7323471e-02 9.7259998e-01 7.6565389e-05]\n",
      "[0. 0. 1.] <-> [1.0763981e-02 3.7522826e-05 9.8919851e-01]\n",
      "[1. 0. 0.] <-> [0.9875288  0.01088065 0.00159052]\n",
      "[1. 0. 0.] <-> [0.99304247 0.00518938 0.00176817]\n",
      "[1. 0. 0.] <-> [0.453095   0.5461383  0.00076674]\n",
      "[0. 1. 0.] <-> [2.5019180e-02 9.7489524e-01 8.5510357e-05]\n",
      "[1. 0. 0.] <-> [8.5696757e-01 1.4224216e-01 7.9026225e-04]\n",
      "[0. 0. 1.] <-> [0.5316999  0.00198735 0.46631274]\n",
      "[1. 0. 0.] <-> [0.9921698  0.00657529 0.00125488]\n",
      "[1. 0. 0.] <-> [0.9908174  0.00812294 0.00105955]\n",
      "[1. 0. 0.] <-> [0.98157895 0.00439738 0.01402369]\n",
      "{'accuracy': 0.9629629629629629, 'mean_square_error': 0.07363981534028353, 'categorical_crossentropy': 0.13451118822450991, 'essential_metrics': {0: {'tp_hit': 75, 'fp_hit': 1, 'tn_hit': 27, 'fn_hit': 5}, 1: {'tp_hit': 15, 'fp_hit': 1, 'tn_hit': 92, 'fn_hit': 0}, 2: {'tp_hit': 12, 'fp_hit': 4, 'tn_hit': 91, 'fn_hit': 1}}}\n"
     ]
    }
   ],
   "source": [
    "# recall phase\n",
    "score = model.evaluate(x_test, y_test, False)\n",
    "print(score)"
   ]
  },
  {
   "cell_type": "code",
   "execution_count": 13,
   "metadata": {},
   "outputs": [
    {
     "name": "stdout",
     "output_type": "stream",
     "text": [
      "{'accuracy': 0.808641975308642, 'mean_square_error': 0.48637214797479644, 'categorical_crossentropy': 0.8515346668384693, 'essential_metrics': {0: {'tp_hit': 73, 'fp_hit': 15, 'tn_hit': 13, 'fn_hit': 7}, 1: {'tp_hit': 0, 'fp_hit': 16, 'tn_hit': 77, 'fn_hit': 15}, 2: {'tp_hit': 4, 'fp_hit': 0, 'tn_hit': 95, 'fn_hit': 9}}, 'checkpoint': 10} \n",
      "\n",
      "\n",
      "{'accuracy': 0.845679012345679, 'mean_square_error': 0.36411553426397814, 'categorical_crossentropy': 0.6546032517044632, 'essential_metrics': {0: {'tp_hit': 78, 'fp_hit': 15, 'tn_hit': 13, 'fn_hit': 2}, 1: {'tp_hit': 0, 'fp_hit': 9, 'tn_hit': 84, 'fn_hit': 15}, 2: {'tp_hit': 5, 'fp_hit': 1, 'tn_hit': 94, 'fn_hit': 8}}, 'checkpoint': 20} \n",
      "\n",
      "\n",
      "{'accuracy': 0.845679012345679, 'mean_square_error': 0.30755709365213474, 'categorical_crossentropy': 0.5423830526846426, 'essential_metrics': {0: {'tp_hit': 78, 'fp_hit': 12, 'tn_hit': 16, 'fn_hit': 2}, 1: {'tp_hit': 4, 'fp_hit': 13, 'tn_hit': 80, 'fn_hit': 11}, 2: {'tp_hit': 1, 'fp_hit': 0, 'tn_hit': 95, 'fn_hit': 12}}, 'checkpoint': 30} \n",
      "\n",
      "\n",
      "{'accuracy': 0.8765432098765432, 'mean_square_error': 0.26259831244226084, 'categorical_crossentropy': 0.4654373592800564, 'essential_metrics': {0: {'tp_hit': 80, 'fp_hit': 19, 'tn_hit': 9, 'fn_hit': 0}, 1: {'tp_hit': 0, 'fp_hit': 1, 'tn_hit': 92, 'fn_hit': 15}, 2: {'tp_hit': 8, 'fp_hit': 0, 'tn_hit': 95, 'fn_hit': 5}}, 'checkpoint': 40} \n",
      "\n",
      "\n",
      "{'accuracy': 0.8827160493827161, 'mean_square_error': 0.22120279328221124, 'categorical_crossentropy': 0.44608985053168404, 'essential_metrics': {0: {'tp_hit': 80, 'fp_hit': 18, 'tn_hit': 10, 'fn_hit': 0}, 1: {'tp_hit': 0, 'fp_hit': 1, 'tn_hit': 92, 'fn_hit': 15}, 2: {'tp_hit': 9, 'fp_hit': 0, 'tn_hit': 95, 'fn_hit': 4}}, 'checkpoint': 50} \n",
      "\n",
      "\n",
      "{'accuracy': 0.8888888888888888, 'mean_square_error': 0.22452802976906824, 'categorical_crossentropy': 0.4413316514756944, 'essential_metrics': {0: {'tp_hit': 79, 'fp_hit': 17, 'tn_hit': 11, 'fn_hit': 1}, 1: {'tp_hit': 0, 'fp_hit': 0, 'tn_hit': 93, 'fn_hit': 15}, 2: {'tp_hit': 11, 'fp_hit': 1, 'tn_hit': 94, 'fn_hit': 2}}, 'checkpoint': 60} \n",
      "\n",
      "\n",
      "{'accuracy': 0.9506172839506173, 'mean_square_error': 0.16005595034100709, 'categorical_crossentropy': 0.3431594283492477, 'essential_metrics': {0: {'tp_hit': 80, 'fp_hit': 8, 'tn_hit': 20, 'fn_hit': 0}, 1: {'tp_hit': 10, 'fp_hit': 0, 'tn_hit': 93, 'fn_hit': 5}, 2: {'tp_hit': 10, 'fp_hit': 0, 'tn_hit': 95, 'fn_hit': 3}}, 'checkpoint': 70} \n",
      "\n",
      "\n",
      "{'accuracy': 0.9506172839506173, 'mean_square_error': 0.14669121627243398, 'categorical_crossentropy': 0.3096565670437283, 'essential_metrics': {0: {'tp_hit': 80, 'fp_hit': 8, 'tn_hit': 20, 'fn_hit': 0}, 1: {'tp_hit': 10, 'fp_hit': 0, 'tn_hit': 93, 'fn_hit': 5}, 2: {'tp_hit': 10, 'fp_hit': 0, 'tn_hit': 95, 'fn_hit': 3}}, 'checkpoint': 80} \n",
      "\n",
      "\n",
      "{'accuracy': 0.9629629629629629, 'mean_square_error': 0.11748234900197918, 'categorical_crossentropy': 0.2729846989666974, 'essential_metrics': {0: {'tp_hit': 79, 'fp_hit': 5, 'tn_hit': 23, 'fn_hit': 1}, 1: {'tp_hit': 13, 'fp_hit': 0, 'tn_hit': 93, 'fn_hit': 2}, 2: {'tp_hit': 10, 'fp_hit': 1, 'tn_hit': 94, 'fn_hit': 3}}, 'checkpoint': 90} \n",
      "\n",
      "\n",
      "{'accuracy': 0.9567901234567902, 'mean_square_error': 0.10561521067452613, 'categorical_crossentropy': 0.21921265566790546, 'essential_metrics': {0: {'tp_hit': 79, 'fp_hit': 6, 'tn_hit': 22, 'fn_hit': 1}, 1: {'tp_hit': 12, 'fp_hit': 0, 'tn_hit': 93, 'fn_hit': 3}, 2: {'tp_hit': 10, 'fp_hit': 1, 'tn_hit': 94, 'fn_hit': 3}}, 'checkpoint': 100} \n",
      "\n",
      "\n",
      "{'accuracy': 0.9691358024691358, 'mean_square_error': 0.09240790019631585, 'categorical_crossentropy': 0.208561967920374, 'essential_metrics': {0: {'tp_hit': 79, 'fp_hit': 4, 'tn_hit': 24, 'fn_hit': 1}, 1: {'tp_hit': 12, 'fp_hit': 0, 'tn_hit': 93, 'fn_hit': 3}, 2: {'tp_hit': 12, 'fp_hit': 1, 'tn_hit': 94, 'fn_hit': 1}}, 'checkpoint': 110} \n",
      "\n",
      "\n",
      "{'accuracy': 0.9567901234567902, 'mean_square_error': 0.09159557219808336, 'categorical_crossentropy': 0.20018510465268735, 'essential_metrics': {0: {'tp_hit': 75, 'fp_hit': 2, 'tn_hit': 26, 'fn_hit': 5}, 1: {'tp_hit': 14, 'fp_hit': 1, 'tn_hit': 92, 'fn_hit': 1}, 2: {'tp_hit': 12, 'fp_hit': 4, 'tn_hit': 91, 'fn_hit': 1}}, 'checkpoint': 120} \n",
      "\n",
      "\n",
      "{'accuracy': 0.9753086419753086, 'mean_square_error': 0.07544973901354235, 'categorical_crossentropy': 0.15614460132740163, 'essential_metrics': {0: {'tp_hit': 79, 'fp_hit': 3, 'tn_hit': 25, 'fn_hit': 1}, 1: {'tp_hit': 13, 'fp_hit': 0, 'tn_hit': 93, 'fn_hit': 2}, 2: {'tp_hit': 12, 'fp_hit': 1, 'tn_hit': 94, 'fn_hit': 1}}, 'checkpoint': 130} \n",
      "\n",
      "\n",
      "{'accuracy': 0.9691358024691358, 'mean_square_error': 0.07501427497293642, 'categorical_crossentropy': 0.1535080627158836, 'essential_metrics': {0: {'tp_hit': 77, 'fp_hit': 2, 'tn_hit': 26, 'fn_hit': 3}, 1: {'tp_hit': 13, 'fp_hit': 0, 'tn_hit': 93, 'fn_hit': 2}, 2: {'tp_hit': 13, 'fp_hit': 3, 'tn_hit': 92, 'fn_hit': 0}}, 'checkpoint': 140} \n",
      "\n",
      "\n",
      "{'accuracy': 0.9814814814814815, 'mean_square_error': 0.0633316223885129, 'categorical_crossentropy': 0.13650096787346733, 'essential_metrics': {0: {'tp_hit': 79, 'fp_hit': 2, 'tn_hit': 26, 'fn_hit': 1}, 1: {'tp_hit': 13, 'fp_hit': 0, 'tn_hit': 93, 'fn_hit': 2}, 2: {'tp_hit': 13, 'fp_hit': 1, 'tn_hit': 94, 'fn_hit': 0}}, 'checkpoint': 150} \n",
      "\n",
      "\n",
      "{'accuracy': 0.9876543209876543, 'mean_square_error': 0.05960043158238009, 'categorical_crossentropy': 0.1279854244656033, 'essential_metrics': {0: {'tp_hit': 79, 'fp_hit': 1, 'tn_hit': 27, 'fn_hit': 1}, 1: {'tp_hit': 14, 'fp_hit': 0, 'tn_hit': 93, 'fn_hit': 1}, 2: {'tp_hit': 13, 'fp_hit': 1, 'tn_hit': 94, 'fn_hit': 0}}, 'checkpoint': 160} \n",
      "\n",
      "\n",
      "{'accuracy': 0.9753086419753086, 'mean_square_error': 0.06345727259038934, 'categorical_crossentropy': 0.13062574245311595, 'essential_metrics': {0: {'tp_hit': 77, 'fp_hit': 1, 'tn_hit': 27, 'fn_hit': 3}, 1: {'tp_hit': 14, 'fp_hit': 1, 'tn_hit': 92, 'fn_hit': 1}, 2: {'tp_hit': 13, 'fp_hit': 2, 'tn_hit': 93, 'fn_hit': 0}}, 'checkpoint': 170} \n",
      "\n",
      "\n",
      "{'accuracy': 0.9691358024691358, 'mean_square_error': 0.06515436274504566, 'categorical_crossentropy': 0.12959365491513852, 'essential_metrics': {0: {'tp_hit': 77, 'fp_hit': 2, 'tn_hit': 26, 'fn_hit': 3}, 1: {'tp_hit': 14, 'fp_hit': 1, 'tn_hit': 92, 'fn_hit': 1}, 2: {'tp_hit': 12, 'fp_hit': 2, 'tn_hit': 93, 'fn_hit': 1}}, 'checkpoint': 180} \n",
      "\n",
      "\n",
      "{'accuracy': 0.9629629629629629, 'mean_square_error': 0.06627498142375508, 'categorical_crossentropy': 0.12725128950896086, 'essential_metrics': {0: {'tp_hit': 77, 'fp_hit': 3, 'tn_hit': 25, 'fn_hit': 3}, 1: {'tp_hit': 13, 'fp_hit': 1, 'tn_hit': 92, 'fn_hit': 2}, 2: {'tp_hit': 12, 'fp_hit': 2, 'tn_hit': 93, 'fn_hit': 1}}, 'checkpoint': 190} \n",
      "\n",
      "\n",
      "{'accuracy': 0.9629629629629629, 'mean_square_error': 0.07363981534028353, 'categorical_crossentropy': 0.13451118822450991, 'essential_metrics': {0: {'tp_hit': 75, 'fp_hit': 1, 'tn_hit': 27, 'fn_hit': 5}, 1: {'tp_hit': 15, 'fp_hit': 1, 'tn_hit': 92, 'fn_hit': 0}, 2: {'tp_hit': 12, 'fp_hit': 4, 'tn_hit': 91, 'fn_hit': 1}}, 'checkpoint': 200} \n",
      "\n",
      "\n"
     ]
    }
   ],
   "source": [
    "for checkpoint in checkpoints:\n",
    "    print(checkpoint, '\\n\\n')"
   ]
  },
  {
   "cell_type": "code",
   "execution_count": 14,
   "metadata": {},
   "outputs": [
    {
     "name": "stdout",
     "output_type": "stream",
     "text": [
      "Layer 1\n",
      "Neuron 0: weights:\n",
      "[-0.42022014  3.          2.3073022  -0.9293042  -3.        ]\n",
      " bias: 3.0\n",
      "\n",
      "Neuron 1: weights:\n",
      "[ 1.2065036 -3.        -3.        -2.8227324  3.       ]\n",
      " bias: 2.5412397384643555\n",
      "\n",
      "Neuron 2: weights:\n",
      "[ 3.         -2.2479427  -0.0446264   1.2924657   0.43693957]\n",
      " bias: 2.358133554458618\n",
      "\n",
      "Neuron 3: weights:\n",
      "[-1.0860932   2.9434767  -1.2714701  -0.95802885 -2.625119  ]\n",
      " bias: 1.7832450866699219\n",
      "\n",
      "$\n",
      "Layer 2\n",
      "Neuron 0: weights:\n",
      "[2.7676616  3.         0.53287524 3.        ]\n",
      " bias: -3.0\n",
      "\n",
      "Neuron 1: weights:\n",
      "[ 3. -3. -3.  3.]\n",
      " bias: 0.873848557472229\n",
      "\n",
      "Neuron 2: weights:\n",
      "[-3.          0.67582005  1.3777487  -3.        ]\n",
      " bias: 3.0\n",
      "\n",
      "$\n",
      "\n"
     ]
    }
   ],
   "source": [
    "print(model)"
   ]
  }
 ],
 "metadata": {
  "kernelspec": {
   "display_name": "Python 3",
   "language": "python",
   "name": "python3"
  },
  "language_info": {
   "codemirror_mode": {
    "name": "ipython",
    "version": 3
   },
   "file_extension": ".py",
   "mimetype": "text/x-python",
   "name": "python",
   "nbconvert_exporter": "python",
   "pygments_lexer": "ipython3",
   "version": "3.6.12"
  }
 },
 "nbformat": 4,
 "nbformat_minor": 2
}
