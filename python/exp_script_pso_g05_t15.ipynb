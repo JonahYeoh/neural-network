{
 "cells": [
  {
   "cell_type": "code",
   "execution_count": 1,
   "metadata": {},
   "outputs": [],
   "source": [
    "# dependency\n",
    "import numpy as np\n",
    "import pandas as pd\n",
    "import copy\n",
    "import math\n",
    "import sys\n",
    "import os\n",
    "from activations import relu, leaky_relu, sigmoid, tanh, softmax, d_sigmoid, d_relu\n",
    "from initializers import glorot_uniform, random_normal, random_uniform\n",
    "from regularizers import l1_regularizer, l2_regularizer\n",
    "from utility import trim_tail, multiply, subtract, get_nparams, one_hot_encoding, get_data\n",
    "from metrics import MSE, CCE, ACC, PRECISION, RECALL, essential_metrics, wondering_penalty, close_gap_penalty\n",
    "from pso import PSO\n",
    "from ga import GA\n",
    "from nn import Network\n",
    "from layer import DenseLayer\n",
    "from scalers import MinMaxScaler, StandardScaler"
   ]
  },
  {
   "cell_type": "code",
   "execution_count": 2,
   "metadata": {},
   "outputs": [],
   "source": [
    "# reference\n",
    "metrics_fn_dict = dict()\n",
    "metrics_fn_dict['accuracy'] = ACC\n",
    "metrics_fn_dict['categorical_crossentropy'] = CCE\n",
    "metrics_fn_dict['mean_square_error'] = MSE\n",
    "metrics_fn_dict['precision'] = PRECISION\n",
    "metrics_fn_dict['recall'] = RECALL\n",
    "metrics_fn_dict['essential_metrics'] = essential_metrics"
   ]
  },
  {
   "cell_type": "code",
   "execution_count": 3,
   "metadata": {},
   "outputs": [],
   "source": [
    "# model\n",
    "model = Network(5, lr = None)\n",
    "model.add_layer(DenseLayer(1, 4, True, afn=sigmoid, dafn=None, rfn=None))\n",
    "model.add_layer(DenseLayer(2, 3, True, afn=softmax, dafn=None, rfn=None))"
   ]
  },
  {
   "cell_type": "code",
   "execution_count": 4,
   "metadata": {},
   "outputs": [
    {
     "name": "stdout",
     "output_type": "stream",
     "text": [
      "see one see two 2 0.5\n"
     ]
    }
   ],
   "source": [
    "pso = PSO(dict(m = 50,\n",
    "    weight_constraint = [-3, 3], \n",
    "    velocity_constraint = [-0.1, 0.1],\n",
    "    c1 = [0.5, 2],\n",
    "    c2 = [0.5, 2],\n",
    "    w = [0.5, 1.6],\n",
    "    w_decay = 0.95,\n",
    "    scale_hyperparameter = False,\n",
    "    regularizer = None,\n",
    "    mask = None))"
   ]
  },
  {
   "cell_type": "code",
   "execution_count": 5,
   "metadata": {},
   "outputs": [
    {
     "name": "stdout",
     "output_type": "stream",
     "text": [
      "building layer 1 with 5\n",
      "24\n",
      "building layer 2 with 4\n",
      "15\n"
     ]
    }
   ],
   "source": [
    "model.compile(loss_fn = 'categorical_crossentropy', optimizer = pso, \\\n",
    "    metrics = ['accuracy', 'mean_square_error', 'categorical_crossentropy'])"
   ]
  },
  {
   "cell_type": "code",
   "execution_count": 6,
   "metadata": {},
   "outputs": [
    {
     "name": "stdout",
     "output_type": "stream",
     "text": [
      "<class 'pandas.core.frame.DataFrame'>\n",
      "RangeIndex: 107 entries, 0 to 106\n",
      "Data columns (total 6 columns):\n",
      " #   Column  Non-Null Count  Dtype  \n",
      "---  ------  --------------  -----  \n",
      " 0   f1      107 non-null    float32\n",
      " 1   f2      107 non-null    float32\n",
      " 2   f3      107 non-null    float32\n",
      " 3   f4      107 non-null    float32\n",
      " 4   f5      107 non-null    float32\n",
      " 5   label   107 non-null    float32\n",
      "dtypes: float32(6)\n",
      "memory usage: 2.6 KB\n",
      "None\n",
      "<class 'pandas.core.frame.DataFrame'>\n",
      "RangeIndex: 108 entries, 0 to 107\n",
      "Data columns (total 6 columns):\n",
      " #   Column  Non-Null Count  Dtype  \n",
      "---  ------  --------------  -----  \n",
      " 0   f1      108 non-null    float32\n",
      " 1   f2      108 non-null    float32\n",
      " 2   f3      108 non-null    float32\n",
      " 3   f4      108 non-null    float32\n",
      " 4   f5      108 non-null    float32\n",
      " 5   label   108 non-null    float32\n",
      "dtypes: float32(6)\n",
      "memory usage: 2.7 KB\n",
      "None\n"
     ]
    }
   ],
   "source": [
    "# data loading\n",
    "DATA = os.path.join('c:\\\\Users\\\\tcumi\\\\github_repo\\\\neural-network\\\\', 'dataset')\n",
    "GROUP = 5\n",
    "COLUMNS = ['f1', 'f2', 'f3', 'f4', 'f5', 'label']\n",
    "N_CLASS = 3\n",
    "EPOCHS = 500\n",
    "train_dir, test_dir = \"..//dataset//training_data{}.txt\".format(GROUP), \"..//dataset//testing_data{}.txt\".format(GROUP)\n",
    "train, test = get_data(DATA, train_dir, COLUMNS), get_data(DATA, test_dir, COLUMNS)\n",
    "# shuffle\n",
    "train, test = train.sample(frac=1), test.sample(frac=1)\n",
    "x_train, y_train = train.drop('label', axis=1), train['label']\n",
    "x_test, y_test = test.drop('label', axis=1), test['label']"
   ]
  },
  {
   "cell_type": "code",
   "execution_count": 7,
   "metadata": {},
   "outputs": [],
   "source": [
    "# data scaling and encoding\n",
    "scaler = StandardScaler(['f1', 'f2', 'f3', 'f4', 'f5'])\n",
    "scaler.fit(x_train)\n",
    "x_train = scaler.transform(x_train)\n",
    "x_test = scaler.transform(x_test)\n",
    "y_train = one_hot_encoding(y_train, N_CLASS)\n",
    "y_test = one_hot_encoding(y_test, N_CLASS)"
   ]
  },
  {
   "cell_type": "code",
   "execution_count": 8,
   "metadata": {
    "tags": [
     "outputPrepend"
    ]
   },
   "outputs": [
    {
     "name": "stdout",
     "output_type": "stream",
     "text": [
      "Checkpoint 100, Accuracy: 0.8641975308641975, Loss: 0.5498849021063911\n",
      "Checkpoint 200, Accuracy: 0.8641975308641975, Loss: 0.5498849021063911\n",
      "Checkpoint 300, Accuracy: 0.8641975308641975, Loss: 0.5498849021063911\n",
      "Checkpoint 400, Accuracy: 0.8641975308641975, Loss: 0.5498849021063911\n",
      "Checkpoint 500, Accuracy: 0.8641975308641975, Loss: 0.5498849021063911\n"
     ]
    }
   ],
   "source": [
    "# learning phase\n",
    "breakpoint = 100\n",
    "checkpoints = list()\n",
    "history = list()\n",
    "for century in range(0, EPOCHS, breakpoint):\n",
    "    sub_history = model.fit(x_train, y_train, breakpoint, verbose = 0)\n",
    "    score = model.evaluate(x_test, y_test, False, verbose = 0)\n",
    "    print('Checkpoint {}, Accuracy: {}, Loss: {}'.format(century+breakpoint, score['accuracy'], score[model.loss_fn]))\n",
    "    score['checkpoint'] = century + breakpoint\n",
    "    checkpoints.append(score)\n",
    "    history.extend(sub_history)\n",
    "    itr = century + breakpoint\n",
    "    model.optimizer.c1 = np.max([model.optimizer.C1[1] - ((model.optimizer.C1[1] - model.optimizer.C1[0]) * itr / EPOCHS), model.optimizer.C1[0]])\n",
    "    model.optimizer.c2 = np.min([model.optimizer.C2[0] + ((model.optimizer.C2[1] - model.optimizer.C2[0]) * itr / EPOCHS), model.optimizer.C2[1]])\n",
    "    model.optimizer.w = np.max([model.optimizer.w * model.optimizer.W_Decay, model.optimizer.W[0]])"
   ]
  },
  {
   "cell_type": "code",
   "execution_count": 9,
   "metadata": {},
   "outputs": [],
   "source": [
    "import matplotlib.pyplot as plt\n",
    "\n",
    "def draw_plot(x, y_list, x_label=None, y_label=None, legend=None, title=None):\n",
    "    fig, ax = plt.subplots(figsize=(12,5))\n",
    "    for xi, yi in zip(x, y_list):\n",
    "        ax.plot(xi, yi)\n",
    "    if x_label is not None and y_label is not None:\n",
    "        ax.set(xlabel=x_label, ylabel=y_label, title='{} VS {}'.format(x_label, y_label))\n",
    "    if legend is not None:\n",
    "        ax.legend(legend)\n",
    "    ax.grid()\n",
    "    plt.show()"
   ]
  },
  {
   "cell_type": "code",
   "execution_count": 10,
   "metadata": {},
   "outputs": [
    {
     "name": "stdout",
     "output_type": "stream",
     "text": [
      "[1. 0. 0.] <-> [0.9404761  0.0453343  0.01418956]\n",
      "[1. 0. 0.] <-> [0.9186149  0.06992424 0.01146081]\n",
      "[1. 0. 0.] <-> [0.87147206 0.11568042 0.01284746]\n",
      "[1. 0. 0.] <-> [0.9389531  0.05062203 0.0104249 ]\n",
      "[1. 0. 0.] <-> [0.90123993 0.08637407 0.01238605]\n",
      "[1. 0. 0.] <-> [0.8932522  0.08544932 0.02129847]\n",
      "[1. 0. 0.] <-> [0.74761444 0.24475275 0.0076328 ]\n",
      "[1. 0. 0.] <-> [0.92446536 0.06012488 0.01540967]\n",
      "[0. 0. 1.] <-> [0.7402123  0.07126443 0.18852323]\n",
      "[1. 0. 0.] <-> [0.9022497  0.08436666 0.01338361]\n",
      "[1. 0. 0.] <-> [0.93045443 0.04100499 0.02854049]\n",
      "[1. 0. 0.] <-> [0.95141035 0.03823565 0.01035397]\n",
      "[1. 0. 0.] <-> [0.40707758 0.5807575  0.01216489]\n",
      "[1. 0. 0.] <-> [0.89693546 0.08122347 0.02184109]\n",
      "[1. 0. 0.] <-> [0.6927329  0.29557854 0.01168859]\n",
      "[0. 1. 0.] <-> [0.80503184 0.08056322 0.11440502]\n",
      "[1. 0. 0.] <-> [0.9350955  0.05034705 0.01455751]\n",
      "[0. 1. 0.] <-> [0.18533218 0.8100538  0.00461399]\n",
      "[1. 0. 0.] <-> [0.7593666  0.23198794 0.00864542]\n",
      "[0. 0. 1.] <-> [0.8028263  0.055527   0.14164677]\n",
      "[0. 0. 1.] <-> [0.8537637  0.03821821 0.10801812]\n",
      "[1. 0. 0.] <-> [0.9079763  0.03955643 0.05246719]\n",
      "[1. 0. 0.] <-> [0.9270855  0.04765601 0.02525851]\n",
      "[1. 0. 0.] <-> [0.9480904  0.03761696 0.01429263]\n",
      "[0. 1. 0.] <-> [0.04275459 0.95180786 0.0054375 ]\n",
      "[0. 0. 1.] <-> [0.87675244 0.09868607 0.02456151]\n",
      "[0. 1. 0.] <-> [0.05151201 0.9453884  0.00309954]\n",
      "[1. 0. 0.] <-> [0.93898886 0.05174178 0.00926947]\n",
      "[1. 0. 0.] <-> [0.9386416  0.04807836 0.01327997]\n",
      "[1. 0. 0.] <-> [0.9514728  0.03573313 0.0127941 ]\n",
      "[0. 1. 0.] <-> [0.39578807 0.600269   0.00394288]\n",
      "[1. 0. 0.] <-> [0.93333846 0.04889413 0.01776737]\n",
      "[1. 0. 0.] <-> [0.8770796  0.11255869 0.01036168]\n",
      "[1. 0. 0.] <-> [0.94065225 0.04610597 0.01324175]\n",
      "[0. 1. 0.] <-> [0.05197603 0.94505864 0.00296529]\n",
      "[1. 0. 0.] <-> [0.9172115  0.05011899 0.03266956]\n",
      "[1. 0. 0.] <-> [0.911644   0.06128532 0.02707064]\n",
      "[1. 0. 0.] <-> [0.9026326  0.0810978  0.01626957]\n",
      "[1. 0. 0.] <-> [0.85422707 0.12284709 0.02292588]\n",
      "[0. 1. 0.] <-> [0.14289354 0.85365474 0.00345167]\n",
      "[1. 0. 0.] <-> [0.9399916  0.04419193 0.0158165 ]\n",
      "[1. 0. 0.] <-> [0.9110753  0.07612689 0.01279794]\n",
      "[1. 0. 0.] <-> [0.90818924 0.04151096 0.0502998 ]\n",
      "[0. 0. 1.] <-> [0.75840914 0.06807288 0.173518  ]\n",
      "[1. 0. 0.] <-> [0.8642568  0.12264044 0.0131027 ]\n",
      "[0. 0. 1.] <-> [0.89978874 0.05521857 0.04499267]\n",
      "[1. 0. 0.] <-> [0.94838077 0.03741193 0.01420725]\n",
      "[1. 0. 0.] <-> [0.89698297 0.03866503 0.06435201]\n",
      "[1. 0. 0.] <-> [0.84733415 0.12524769 0.02741817]\n",
      "[1. 0. 0.] <-> [0.94975525 0.03612341 0.01412134]\n",
      "[0. 1. 0.] <-> [0.3151679  0.6795256  0.00530646]\n",
      "[1. 0. 0.] <-> [0.9292781  0.06028279 0.01043908]\n",
      "[1. 0. 0.] <-> [0.9318604  0.03220547 0.03593409]\n",
      "[1. 0. 0.] <-> [0.908873   0.06837029 0.02275666]\n",
      "[1. 0. 0.] <-> [0.79092556 0.2030662  0.00600823]\n",
      "[0. 1. 0.] <-> [0.55658996 0.43937016 0.00403983]\n",
      "[1. 0. 0.] <-> [0.92767644 0.05519937 0.01712415]\n",
      "[1. 0. 0.] <-> [0.86498195 0.12072356 0.01429446]\n",
      "[0. 1. 0.] <-> [0.8602164  0.04621327 0.09357034]\n",
      "[1. 0. 0.] <-> [0.9446987  0.03108315 0.02421811]\n",
      "[1. 0. 0.] <-> [0.5438738  0.44563565 0.01049054]\n",
      "[0. 1. 0.] <-> [0.4043368  0.586381   0.00928216]\n",
      "[0. 0. 1.] <-> [0.3001053  0.67679757 0.02309713]\n",
      "[1. 0. 0.] <-> [0.8264004  0.16819136 0.00540823]\n",
      "[0. 0. 1.] <-> [0.7538298  0.13389891 0.11227136]\n",
      "[0. 0. 1.] <-> [0.90663785 0.04022237 0.05313976]\n",
      "[1. 0. 0.] <-> [0.95045656 0.03349641 0.01604701]\n",
      "[1. 0. 0.] <-> [0.8859584  0.08814251 0.02589911]\n",
      "[1. 0. 0.] <-> [0.91620827 0.07463242 0.00915925]\n",
      "[1. 0. 0.] <-> [0.9316714  0.03139953 0.03692907]\n",
      "[0. 0. 1.] <-> [0.46137056 0.39893243 0.13969707]\n",
      "[1. 0. 0.] <-> [0.79838204 0.18345317 0.01816482]\n",
      "[1. 0. 0.] <-> [0.9279834  0.06130508 0.01071148]\n",
      "[1. 0. 0.] <-> [0.90518856 0.07563028 0.01918109]\n",
      "[1. 0. 0.] <-> [0.9329927  0.05765205 0.00935526]\n",
      "[1. 0. 0.] <-> [0.93125206 0.05944839 0.00929951]\n",
      "[1. 0. 0.] <-> [0.9500953  0.0395989  0.01030581]\n",
      "[1. 0. 0.] <-> [0.9243665  0.04499798 0.03063552]\n",
      "[1. 0. 0.] <-> [0.9253535  0.04897928 0.02566724]\n",
      "[0. 0. 1.] <-> [0.6421621  0.16694744 0.19089052]\n",
      "[1. 0. 0.] <-> [0.8976121  0.08157098 0.02081691]\n",
      "[0. 1. 0.] <-> [0.59268713 0.40362456 0.00368828]\n",
      "[0. 1. 0.] <-> [0.6939534  0.30146906 0.00457751]\n",
      "[1. 0. 0.] <-> [0.8609888  0.13081425 0.00819694]\n",
      "[1. 0. 0.] <-> [0.8057961  0.18653399 0.00766988]\n",
      "[0. 1. 0.] <-> [0.7135022  0.28181583 0.00468194]\n",
      "[1. 0. 0.] <-> [0.8815542  0.05688075 0.06156503]\n",
      "[1. 0. 0.] <-> [0.8574488  0.13080144 0.01174969]\n",
      "[0. 1. 0.] <-> [0.11441533 0.8817714  0.00381325]\n",
      "[1. 0. 0.] <-> [0.9486459  0.03738492 0.0139692 ]\n",
      "[1. 0. 0.] <-> [0.90763384 0.07053481 0.02183129]\n",
      "[0. 0. 1.] <-> [0.63202566 0.17849675 0.18947755]\n",
      "[0. 0. 1.] <-> [0.62465286 0.11557078 0.25977635]\n",
      "[1. 0. 0.] <-> [0.91050774 0.06916651 0.02032574]\n",
      "[1. 0. 0.] <-> [0.9158103  0.06838381 0.01580585]\n",
      "[0. 0. 1.] <-> [0.87360996 0.10098272 0.02540734]\n",
      "[1. 0. 0.] <-> [0.7874936  0.1963113  0.01619513]\n",
      "[0. 0. 1.] <-> [0.8497859  0.12105251 0.02916163]\n",
      "[1. 0. 0.] <-> [0.7688509  0.21799642 0.01315261]\n",
      "[1. 0. 0.] <-> [0.8567387  0.13246603 0.01079525]\n",
      "[1. 0. 0.] <-> [0.92347556 0.06611121 0.01041318]\n",
      "[1. 0. 0.] <-> [0.93409944 0.04243233 0.02346826]\n",
      "[1. 0. 0.] <-> [0.6656877  0.32383838 0.01047397]\n",
      "[1. 0. 0.] <-> [0.87002915 0.12277124 0.00719962]\n",
      "[1. 0. 0.] <-> [0.8918313  0.05294675 0.05522195]\n",
      "[1. 0. 0.] <-> [0.8168609  0.16563147 0.01750754]\n",
      "[0. 1. 0.] <-> [0.08798466 0.90817    0.00384533]\n",
      "[0. 1. 0.] <-> [0.12799825 0.8680373  0.00396447]\n",
      "{'accuracy': 0.8641975308641975, 'mean_square_error': 0.2943132386495294, 'categorical_crossentropy': 0.5498849021063911, 'essential_metrics': {0: {'tp_hit': 75, 'fp_hit': 20, 'tn_hit': 12, 'fn_hit': 1}, 1: {'tp_hit': 11, 'fp_hit': 2, 'tn_hit': 89, 'fn_hit': 6}, 2: {'tp_hit': 0, 'fp_hit': 0, 'tn_hit': 93, 'fn_hit': 15}}}\n"
     ]
    }
   ],
   "source": [
    "# recall phase\n",
    "score = model.evaluate(x_test, y_test, False)\n",
    "print(score)"
   ]
  },
  {
   "cell_type": "code",
   "execution_count": 11,
   "metadata": {},
   "outputs": [
    {
     "data": {
      "image/png": "[encoded data removed]",
      "text/plain": [
       "<Figure size 864x360 with 1 Axes>"
      ]
     },
     "metadata": {
      "needs_background": "light"
     },
     "output_type": "display_data"
    },
    {
     "data": {
      "image/png": "[encoded data removed]",
      "text/plain": [
       "<Figure size 864x360 with 1 Axes>"
      ]
     },
     "metadata": {
      "needs_background": "light"
     },
     "output_type": "display_data"
    }
   ],
   "source": [
    "draw_plot(x = [[i for i in range(len(history))], [(i+1)*breakpoint for i in range(len(checkpoints))]], y_list = [history, [ ckp[model.loss_fn] for ckp in checkpoints ]], x_label = 'Epochs', \\\n",
    "    y_label = model.loss_fn, legend=['train', 'test'])\n",
    "acc = [ ckp['accuracy'] for ckp in checkpoints ]\n",
    "draw_plot(x = [[(i+1)*breakpoint for i in range(len(checkpoints))]], y_list = [acc], x_label = 'Checkpoints', \\\n",
    "    y_label = 'accuracy')"
   ]
  },
  {
   "cell_type": "code",
   "execution_count": 12,
   "metadata": {},
   "outputs": [
    {
     "name": "stdout",
     "output_type": "stream",
     "text": [
      "{'accuracy': 0.8641975308641975, 'mean_square_error': 0.2943132386495294, 'categorical_crossentropy': 0.5498849021063911, 'essential_metrics': {0: {'tp_hit': 75, 'fp_hit': 20, 'tn_hit': 12, 'fn_hit': 1}, 1: {'tp_hit': 11, 'fp_hit': 2, 'tn_hit': 89, 'fn_hit': 6}, 2: {'tp_hit': 0, 'fp_hit': 0, 'tn_hit': 93, 'fn_hit': 15}}, 'checkpoint': 100} \n",
      "\n",
      "\n",
      "{'accuracy': 0.8641975308641975, 'mean_square_error': 0.2943132386495294, 'categorical_crossentropy': 0.5498849021063911, 'essential_metrics': {0: {'tp_hit': 75, 'fp_hit': 20, 'tn_hit': 12, 'fn_hit': 1}, 1: {'tp_hit': 11, 'fp_hit': 2, 'tn_hit': 89, 'fn_hit': 6}, 2: {'tp_hit': 0, 'fp_hit': 0, 'tn_hit': 93, 'fn_hit': 15}}, 'checkpoint': 200} \n",
      "\n",
      "\n",
      "{'accuracy': 0.8641975308641975, 'mean_square_error': 0.2943132386495294, 'categorical_crossentropy': 0.5498849021063911, 'essential_metrics': {0: {'tp_hit': 75, 'fp_hit': 20, 'tn_hit': 12, 'fn_hit': 1}, 1: {'tp_hit': 11, 'fp_hit': 2, 'tn_hit': 89, 'fn_hit': 6}, 2: {'tp_hit': 0, 'fp_hit': 0, 'tn_hit': 93, 'fn_hit': 15}}, 'checkpoint': 300} \n",
      "\n",
      "\n",
      "{'accuracy': 0.8641975308641975, 'mean_square_error': 0.2943132386495294, 'categorical_crossentropy': 0.5498849021063911, 'essential_metrics': {0: {'tp_hit': 75, 'fp_hit': 20, 'tn_hit': 12, 'fn_hit': 1}, 1: {'tp_hit': 11, 'fp_hit': 2, 'tn_hit': 89, 'fn_hit': 6}, 2: {'tp_hit': 0, 'fp_hit': 0, 'tn_hit': 93, 'fn_hit': 15}}, 'checkpoint': 400} \n",
      "\n",
      "\n",
      "{'accuracy': 0.8641975308641975, 'mean_square_error': 0.2943132386495294, 'categorical_crossentropy': 0.5498849021063911, 'essential_metrics': {0: {'tp_hit': 75, 'fp_hit': 20, 'tn_hit': 12, 'fn_hit': 1}, 1: {'tp_hit': 11, 'fp_hit': 2, 'tn_hit': 89, 'fn_hit': 6}, 2: {'tp_hit': 0, 'fp_hit': 0, 'tn_hit': 93, 'fn_hit': 15}}, 'checkpoint': 500} \n",
      "\n",
      "\n"
     ]
    }
   ],
   "source": [
    "for checkpoint in checkpoints:\n",
    "    print(checkpoint, '\\n\\n')"
   ]
  },
  {
   "cell_type": "code",
   "execution_count": 13,
   "metadata": {},
   "outputs": [
    {
     "name": "stdout",
     "output_type": "stream",
     "text": [
      "Layer 1\n",
      "Neuron 0: weights:\n",
      "[-1.10340009 -1.84154728  2.43775779 -1.29581627  0.38481459]\n",
      " bias: -0.5468287469822823\n",
      "\n",
      "Neuron 1: weights:\n",
      "[ 1.47086339  0.51226303 -1.42995212 -2.5278177   0.2292763 ]\n",
      " bias: 1.6695712238815297\n",
      "\n",
      "Neuron 2: weights:\n",
      "[ 2.3013101  -2.32280079 -0.25847856 -2.64450929  2.26844866]\n",
      " bias: 1.0886380500817925\n",
      "\n",
      "Neuron 3: weights:\n",
      "[ 2.02930874 -0.3642847   1.93494198  0.46089191  1.06381868]\n",
      " bias: -2.4431903789135805\n",
      "\n",
      "$\n",
      "Layer 2\n",
      "Neuron 0: weights:\n",
      "[-0.76664288  0.05057839  0.35778393 -1.21487674]\n",
      " bias: 1.1333773374207992\n",
      "\n",
      "Neuron 1: weights:\n",
      "[ 0.79669299 -2.13229729 -2.7106926  -0.75122136]\n",
      " bias: 2.6359409929836124\n",
      "\n",
      "Neuron 2: weights:\n",
      "[ 0.55530571 -1.1442626   0.83156199  1.46525451]\n",
      " bias: -2.9242597950402875\n",
      "\n",
      "$\n",
      "\n"
     ]
    }
   ],
   "source": [
    "print(model)"
   ]
  }
 ],
 "metadata": {
  "kernelspec": {
   "display_name": "Python 3",
   "language": "python",
   "name": "python3"
  },
  "language_info": {
   "codemirror_mode": {
    "name": "ipython",
    "version": 3
   },
   "file_extension": ".py",
   "mimetype": "text/x-python",
   "name": "python",
   "nbconvert_exporter": "python",
   "pygments_lexer": "ipython3",
   "version": "3.6.10"
  }
 },
 "nbformat": 4,
 "nbformat_minor": 2
}
