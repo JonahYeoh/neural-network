{
 "cells": [
  {
   "cell_type": "code",
   "execution_count": 1,
   "metadata": {},
   "outputs": [],
   "source": [
    "# two"
   ]
  },
  {
   "cell_type": "code",
   "execution_count": 2,
   "metadata": {},
   "outputs": [],
   "source": [
    "# dependency\n",
    "import numpy as np\n",
    "import pandas as pd\n",
    "import copy\n",
    "import math\n",
    "import sys\n",
    "import os\n",
    "from activations import relu, leaky_relu, sigmoid, tanh, softmax, d_sigmoid, d_relu\n",
    "from initializers import glorot_uniform, random_normal, random_uniform\n",
    "from regularizers import l1_regularizer, l2_regularizer\n",
    "from utility import trim_tail, multiply, subtract, get_nparams, one_hot_encoding, get_data\n",
    "from metrics import MSE, CCE, ACC, PRECISION, RECALL, essential_metrics, wondering_penalty, close_gap_penalty\n",
    "from pso import PSO\n",
    "from ga import GA\n",
    "from nn import Network\n",
    "from layer import DenseLayer\n",
    "from scalers import MinMaxScaler, StandardScaler"
   ]
  },
  {
   "cell_type": "code",
   "execution_count": 3,
   "metadata": {},
   "outputs": [],
   "source": [
    "# reference\n",
    "metrics_fn_dict = dict()\n",
    "metrics_fn_dict['accuracy'] = ACC\n",
    "metrics_fn_dict['categorical_crossentropy'] = CCE\n",
    "metrics_fn_dict['mean_square_error'] = MSE\n",
    "metrics_fn_dict['precision'] = PRECISION\n",
    "metrics_fn_dict['recall'] = RECALL\n",
    "metrics_fn_dict['essential_metrics'] = essential_metrics"
   ]
  },
  {
   "cell_type": "code",
   "execution_count": 4,
   "metadata": {},
   "outputs": [],
   "source": [
    "# model\n",
    "model = Network(5, lr = None)\n",
    "model.add_layer(DenseLayer(1, 4, True, afn=sigmoid, dafn=None, rfn=None))\n",
    "model.add_layer(DenseLayer(2, 3, True, afn=softmax, dafn=None, rfn=None))"
   ]
  },
  {
   "cell_type": "code",
   "execution_count": 5,
   "metadata": {},
   "outputs": [],
   "source": [
    "# optimizer\n",
    "ga = GA(\n",
    "    dict(\n",
    "        m = 50,\n",
    "        x_rate = 0.5,\n",
    "        m_rate = 0.5,\n",
    "        weight_constraint = [-3.,3.],\n",
    "        radioactive_rating = 0.1,\n",
    "        grow_factor = 0.1,\n",
    "        scale_hyperparameter = False,\n",
    "        regularizer = None))"
   ]
  },
  {
   "cell_type": "code",
   "execution_count": 6,
   "metadata": {},
   "outputs": [
    {
     "name": "stdout",
     "output_type": "stream",
     "text": [
      "building layer 1 with 5\n",
      "24\n",
      "building layer 2 with 4\n",
      "15\n"
     ]
    }
   ],
   "source": [
    "model.compile(loss_fn = 'categorical_crossentropy', optimizer = ga, \\\n",
    "    metrics = ['accuracy', 'mean_square_error', 'categorical_crossentropy', 'precision', 'recall', 'f1'])"
   ]
  },
  {
   "cell_type": "code",
   "execution_count": 7,
   "metadata": {},
   "outputs": [
    {
     "name": "stdout",
     "output_type": "stream",
     "text": [
      "<class 'pandas.core.frame.DataFrame'>\n",
      "RangeIndex: 107 entries, 0 to 106\n",
      "Data columns (total 6 columns):\n",
      " #   Column  Non-Null Count  Dtype  \n",
      "---  ------  --------------  -----  \n",
      " 0   f1      107 non-null    float32\n",
      " 1   f2      107 non-null    float32\n",
      " 2   f3      107 non-null    float32\n",
      " 3   f4      107 non-null    float32\n",
      " 4   f5      107 non-null    float32\n",
      " 5   label   107 non-null    float32\n",
      "dtypes: float32(6)\n",
      "memory usage: 2.6 KB\n",
      "None\n",
      "<class 'pandas.core.frame.DataFrame'>\n",
      "RangeIndex: 108 entries, 0 to 107\n",
      "Data columns (total 6 columns):\n",
      " #   Column  Non-Null Count  Dtype  \n",
      "---  ------  --------------  -----  \n",
      " 0   f1      108 non-null    float32\n",
      " 1   f2      108 non-null    float32\n",
      " 2   f3      108 non-null    float32\n",
      " 3   f4      108 non-null    float32\n",
      " 4   f5      108 non-null    float32\n",
      " 5   label   108 non-null    float32\n",
      "dtypes: float32(6)\n",
      "memory usage: 2.7 KB\n",
      "None\n"
     ]
    }
   ],
   "source": [
    "# data loading\n",
    "DATA = os.path.join('c:\\\\Users\\\\tcumi\\\\github_repo\\\\neural-network\\\\', 'dataset')\n",
    "GROUP = 5\n",
    "COLUMNS = ['f1', 'f2', 'f3', 'f4', 'f5', 'label']\n",
    "N_CLASS = 3\n",
    "EPOCHS = 500\n",
    "train_dir, test_dir = \"..//dataset//training_data{}.txt\".format(GROUP), \"..//dataset//testing_data{}.txt\".format(GROUP)\n",
    "train, test = get_data(DATA, train_dir, COLUMNS), get_data(DATA, test_dir, COLUMNS)\n",
    "# shuffle\n",
    "train, test = train.sample(frac=1), test.sample(frac=1)\n",
    "x_train, y_train = train.drop('label', axis=1), train['label']\n",
    "x_test, y_test = test.drop('label', axis=1), test['label']"
   ]
  },
  {
   "cell_type": "code",
   "execution_count": 8,
   "metadata": {},
   "outputs": [],
   "source": [
    "# data scaling and encoding\n",
    "scaler = StandardScaler(['f1', 'f2', 'f3', 'f4', 'f5'])\n",
    "scaler.fit(x_train)\n",
    "x_train = scaler.transform(x_train)\n",
    "x_test = scaler.transform(x_test)\n",
    "y_train = one_hot_encoding(y_train, N_CLASS)\n",
    "y_test = one_hot_encoding(y_test, N_CLASS)"
   ]
  },
  {
   "cell_type": "code",
   "execution_count": 9,
   "metadata": {
    "scrolled": true,
    "tags": [
     "outputPrepend"
    ]
   },
   "outputs": [
    {
     "name": "stderr",
     "output_type": "stream",
     "text": [
      "C:\\Users\\tcumi\\github_repo\\neural-network\\python\\activations.py:14: RuntimeWarning: overflow encountered in exp\n",
      "  y = 1 / (1 + np.exp(-Xi))\n",
      "C:\\Users\\tcumi\\github_repo\\neural-network\\python\\ga.py:201: RuntimeWarning: overflow encountered in add\n",
      "  self.population.sort(key=lambda p: p.fitness + np.random.uniform(-shift, shift, 1), reverse = self.aim)\n"
     ]
    },
    {
     "name": "stdout",
     "output_type": "stream",
     "text": [
      "Checkpoint 100, Accuracy: 0.8888888888888888, Loss: 0.45510521641484014\n",
      "Checkpoint 200, Accuracy: 0.9135802469135802, Loss: 0.38427356437400534\n",
      "Checkpoint 300, Accuracy: 0.9135802469135802, Loss: 0.34383385269730177\n",
      "Checkpoint 400, Accuracy: 0.9135802469135802, Loss: 0.3145416047837999\n",
      "Checkpoint 500, Accuracy: 0.9259259259259259, Loss: 0.2829940054151747\n"
     ]
    }
   ],
   "source": [
    "# learning phase\n",
    "breakpoint = 100\n",
    "checkpoints = list()\n",
    "history = list()\n",
    "for century in range(0, EPOCHS, breakpoint):\n",
    "    sub_history = model.fit(x_train, y_train, breakpoint, verbose = 0)\n",
    "    score = model.evaluate(x_test, y_test, False, verbose = 0)\n",
    "    print('Checkpoint {}, Accuracy: {}, Loss: {}'.format(century+breakpoint, score['accuracy'], score[model.loss_fn]))\n",
    "    score['checkpoint'] = century + breakpoint\n",
    "    checkpoints.append(score)\n",
    "    history.extend(sub_history)\n",
    "    "
   ]
  },
  {
   "cell_type": "code",
   "execution_count": 10,
   "metadata": {},
   "outputs": [],
   "source": [
    "import matplotlib.pyplot as plt\n",
    "\n",
    "def draw_plot(x, y_list, x_label=None, y_label=None, legend=None, title=None):\n",
    "    fig, ax = plt.subplots(figsize=(12,5))\n",
    "    for xi, yi in zip(x, y_list):\n",
    "        ax.plot(xi, yi)\n",
    "    if x_label is not None and y_label is not None:\n",
    "        ax.set(xlabel=x_label, ylabel=y_label, title='{} VS {}'.format(x_label, y_label))\n",
    "    if legend is not None:\n",
    "        ax.legend(legend)\n",
    "    ax.grid()\n",
    "    plt.show()"
   ]
  },
  {
   "cell_type": "code",
   "execution_count": 11,
   "metadata": {},
   "outputs": [
    {
     "name": "stdout",
     "output_type": "stream",
     "text": [
      "[0. 0. 1.] <-> [0.66934854 0.11726882 0.21338262]\n",
      "[1. 0. 0.] <-> [0.84465516 0.04137173 0.11397313]\n",
      "[1. 0. 0.] <-> [0.9629438  0.00728291 0.02977328]\n",
      "[1. 0. 0.] <-> [0.93162006 0.02855801 0.03982191]\n",
      "[1. 0. 0.] <-> [0.9504046  0.01859214 0.03100329]\n",
      "[1. 0. 0.] <-> [0.91230273 0.05456858 0.03312874]\n",
      "[1. 0. 0.] <-> [0.8851426  0.07676874 0.03808862]\n",
      "[1. 0. 0.] <-> [0.9587741  0.01799999 0.02322593]\n",
      "[1. 0. 0.] <-> [0.9444712  0.02708039 0.02844844]\n",
      "[1. 0. 0.] <-> [0.960835   0.01461579 0.02454928]\n",
      "[1. 0. 0.] <-> [0.8350912  0.11682954 0.0480793 ]\n",
      "[1. 0. 0.] <-> [0.92748386 0.03951914 0.03299708]\n",
      "[1. 0. 0.] <-> [0.90786684 0.01056823 0.08156496]\n",
      "[1. 0. 0.] <-> [0.9563292  0.01764948 0.02602135]\n",
      "[1. 0. 0.] <-> [0.8359097  0.11621802 0.04787226]\n",
      "[0. 1. 0.] <-> [0.24370027 0.660877   0.09542274]\n",
      "[0. 1. 0.] <-> [0.06453468 0.8831392  0.05232612]\n",
      "[1. 0. 0.] <-> [0.8510959  0.08161692 0.06728717]\n",
      "[0. 0. 1.] <-> [0.5282186  0.0018177  0.46996367]\n",
      "[0. 1. 0.] <-> [0.13390918 0.79136246 0.07472838]\n",
      "[0. 1. 0.] <-> [0.42239264 0.4934404  0.08416704]\n",
      "[1. 0. 0.] <-> [0.9187329 0.0463899 0.0348772]\n",
      "[0. 1. 0.] <-> [0.86943746 0.09626292 0.03429966]\n",
      "[1. 0. 0.] <-> [0.84505963 0.02774149 0.12719883]\n",
      "[1. 0. 0.] <-> [0.88625103 0.01206641 0.10168251]\n",
      "[0. 1. 0.] <-> [0.06590308 0.8811135  0.05298333]\n",
      "[1. 0. 0.] <-> [0.890726   0.05191757 0.05735643]\n",
      "[0. 1. 0.] <-> [0.6096513  0.3151091  0.07523961]\n",
      "[1. 0. 0.] <-> [0.8184927  0.0158361  0.16567118]\n",
      "[1. 0. 0.] <-> [0.8076619  0.13999951 0.0523386 ]\n",
      "[0. 0. 1.] <-> [0.5062011  0.00205789 0.49174097]\n",
      "[0. 1. 0.] <-> [0.0646006 0.8830412 0.0523582]\n",
      "[0. 1. 0.] <-> [0.08137371 0.8586375  0.05998866]\n",
      "[1. 0. 0.] <-> [0.9082585  0.05250796 0.03923358]\n",
      "[1. 0. 0.] <-> [0.8000123  0.14352417 0.05646352]\n",
      "[1. 0. 0.] <-> [0.9445917  0.02992999 0.02547838]\n",
      "[1. 0. 0.] <-> [0.8352526  0.08737671 0.07737068]\n",
      "[1. 0. 0.] <-> [0.9426451  0.02712936 0.0302256 ]\n",
      "[1. 0. 0.] <-> [0.8893386  0.06790129 0.04276016]\n",
      "[1. 0. 0.] <-> [0.96015453 0.00936134 0.03048423]\n",
      "[0. 0. 1.] <-> [0.5378944  0.00162278 0.46048278]\n",
      "[1. 0. 0.] <-> [0.91331923 0.05369494 0.03298574]\n",
      "[1. 0. 0.] <-> [0.87471867 0.06217387 0.06310755]\n",
      "[0. 1. 0.] <-> [0.06462712 0.8830018  0.05237111]\n",
      "[1. 0. 0.] <-> [0.946519   0.02793213 0.02554891]\n",
      "[1. 0. 0.] <-> [0.88808376 0.06666359 0.0452527 ]\n",
      "[0. 0. 1.] <-> [0.34715545 0.00846223 0.6443823 ]\n",
      "[0. 1. 0.] <-> [0.40710023 0.5062171  0.08668265]\n",
      "[1. 0. 0.] <-> [0.92411155 0.00813696 0.06775147]\n",
      "[1. 0. 0.] <-> [0.88988644 0.07033795 0.03977566]\n",
      "[0. 1. 0.] <-> [0.57864106 0.3564075  0.06495143]\n",
      "[1. 0. 0.] <-> [0.89115757 0.07200948 0.03683289]\n",
      "[1. 0. 0.] <-> [0.891864   0.0407807  0.06735532]\n",
      "[1. 0. 0.] <-> [0.872775   0.08519498 0.04203005]\n",
      "[1. 0. 0.] <-> [0.94646186 0.01630821 0.03722993]\n",
      "[1. 0. 0.] <-> [0.83139974 0.10328141 0.06531881]\n",
      "[1. 0. 0.] <-> [0.8128017  0.0837933  0.10340491]\n",
      "[0. 0. 1.] <-> [0.16697691 0.05309304 0.77993006]\n",
      "[1. 0. 0.] <-> [0.9489576  0.02038975 0.03065254]\n",
      "[0. 0. 1.] <-> [0.5305674  0.00171008 0.4677225 ]\n",
      "[1. 0. 0.] <-> [0.84300375 0.11269088 0.04430532]\n",
      "[1. 0. 0.] <-> [0.881858   0.05645307 0.06168888]\n",
      "[1. 0. 0.] <-> [0.9341624  0.03343059 0.03240696]\n",
      "[1. 0. 0.] <-> [0.8124864  0.09328487 0.09422875]\n",
      "[1. 0. 0.] <-> [0.86830384 0.09179547 0.03990072]\n",
      "[1. 0. 0.] <-> [0.9340003  0.03191189 0.03408777]\n",
      "[0. 0. 1.] <-> [0.45908582 0.00334611 0.5375681 ]\n",
      "[1. 0. 0.] <-> [0.72987866 0.04286216 0.22725925]\n",
      "[0. 1. 0.] <-> [0.53273314 0.36938015 0.09788677]\n",
      "[0. 0. 1.] <-> [0.1707833  0.05390132 0.7753154 ]\n",
      "[0. 0. 1.] <-> [0.8117152  0.06768811 0.12059668]\n",
      "[0. 0. 1.] <-> [0.54245317 0.00125804 0.45628878]\n",
      "[1. 0. 0.] <-> [0.92541283 0.01144611 0.06314103]\n",
      "[1. 0. 0.] <-> [0.8981914  0.05884026 0.04296835]\n",
      "[1. 0. 0.] <-> [0.94855976 0.02210807 0.02933225]\n",
      "[0. 1. 0.] <-> [0.06697191 0.87953824 0.05348985]\n",
      "[1. 0. 0.] <-> [0.9545897  0.01687963 0.0285307 ]\n",
      "[1. 0. 0.] <-> [0.8312802  0.07183324 0.09688661]\n",
      "[1. 0. 0.] <-> [0.7469617  0.13242415 0.12061407]\n",
      "[1. 0. 0.] <-> [0.83629704 0.0066725  0.15703039]\n",
      "[1. 0. 0.] <-> [0.8810746  0.01650064 0.10242476]\n",
      "[1. 0. 0.] <-> [0.88414556 0.06830442 0.04754992]\n",
      "[1. 0. 0.] <-> [0.8295025  0.04158634 0.12891114]\n",
      "[1. 0. 0.] <-> [0.95846957 0.015026   0.0265044 ]\n",
      "[1. 0. 0.] <-> [0.8950884  0.0681713  0.03674038]\n",
      "[1. 0. 0.] <-> [0.95606554 0.0200638  0.02387056]\n",
      "[1. 0. 0.] <-> [0.6623652  0.27032033 0.06731448]\n",
      "[0. 0. 1.] <-> [0.17375928 0.0528522  0.7733885 ]\n",
      "[1. 0. 0.] <-> [0.8825326  0.01056995 0.10689753]\n",
      "[1. 0. 0.] <-> [0.63865656 0.08441806 0.27692536]\n",
      "[1. 0. 0.] <-> [0.931089   0.04045056 0.02846041]\n",
      "[0. 1. 0.] <-> [0.10394939 0.8272192  0.06883147]\n",
      "[0. 1. 0.] <-> [0.06458212 0.8830689  0.05234903]\n",
      "[0. 1. 0.] <-> [0.08221613 0.8579146  0.05986918]\n",
      "[1. 0. 0.] <-> [0.8666182  0.06351263 0.06986908]\n",
      "[1. 0. 0.] <-> [0.73671484 0.19267102 0.07061414]\n",
      "[1. 0. 0.] <-> [0.901178   0.06442604 0.034396  ]\n",
      "[0. 0. 1.] <-> [0.8418766  0.04174355 0.11637982]\n",
      "[1. 0. 0.] <-> [0.86432415 0.09594067 0.03973519]\n",
      "[1. 0. 0.] <-> [0.9175494  0.04779522 0.03465541]\n",
      "[1. 0. 0.] <-> [0.9433416  0.02054038 0.03611795]\n",
      "[1. 0. 0.] <-> [0.8998654  0.06384169 0.0362929 ]\n",
      "[0. 0. 1.] <-> [0.4122987  0.00215153 0.5855498 ]\n",
      "[1. 0. 0.] <-> [0.93767315 0.01853222 0.0437946 ]\n",
      "[1. 0. 0.] <-> [0.92163837 0.04308788 0.03527373]\n",
      "[1. 0. 0.] <-> [0.9223211  0.04705653 0.03062237]\n",
      "[0. 0. 1.] <-> [0.18841939 0.05752468 0.7540559 ]\n",
      "[1. 0. 0.] <-> [0.9355622 0.032991  0.0314468]\n",
      "{'accuracy': 0.9259259259259259, 'mean_square_error': 0.14385682903152924, 'categorical_crossentropy': 0.2829940054151747, 'precision': 0.8888888888888888, 'recall': 0.8888888888888888, 'f1': 0.8888888888888888, 'essential_metrics': {0: {'tp_hit': 76, 'fp_hit': 12, 'tn_hit': 20, 'fn_hit': 0}, 1: {'tp_hit': 13, 'fp_hit': 0, 'tn_hit': 91, 'fn_hit': 4}, 2: {'tp_hit': 7, 'fp_hit': 0, 'tn_hit': 93, 'fn_hit': 8}}}\n"
     ]
    }
   ],
   "source": [
    "# recall phase\n",
    "score = model.evaluate(x_test, y_test, False)\n",
    "print(score)"
   ]
  },
  {
   "cell_type": "code",
   "execution_count": 12,
   "metadata": {},
   "outputs": [],
   "source": [
    "# Testing Performance"
   ]
  },
  {
   "cell_type": "code",
   "execution_count": 13,
   "metadata": {},
   "outputs": [
    {
     "data": {
      "image/png": "[encoded data removed]",
      "text/plain": [
       "<Figure size 864x360 with 1 Axes>"
      ]
     },
     "metadata": {
      "needs_background": "light"
     },
     "output_type": "display_data"
    },
    {
     "data": {
      "image/png": "[encoded data removed]",
      "text/plain": [
       "<Figure size 864x360 with 1 Axes>"
      ]
     },
     "metadata": {
      "needs_background": "light"
     },
     "output_type": "display_data"
    }
   ],
   "source": [
    "draw_plot(x = [[i for i in range(len(history))], [(i+1)*breakpoint for i in range(len(checkpoints))]], y_list = [history, [ ckp[model.loss_fn] for ckp in checkpoints ]], x_label = 'Epochs', \\\n",
    "    y_label = model.loss_fn, legend=['train', 'test'])\n",
    "acc = [ ckp['accuracy'] for ckp in checkpoints ]\n",
    "draw_plot(x = [[(i+1)*breakpoint for i in range(len(checkpoints))]], y_list = [acc], x_label = 'Checkpoints', \\\n",
    "    y_label = 'accuracy')"
   ]
  },
  {
   "cell_type": "code",
   "execution_count": 14,
   "metadata": {
    "scrolled": false
   },
   "outputs": [
    {
     "name": "stdout",
     "output_type": "stream",
     "text": [
      "{'accuracy': 0.8888888888888888, 'mean_square_error': 0.24651608674170766, 'categorical_crossentropy': 0.45510521641484014, 'precision': 0.8333333333333334, 'recall': 0.8333333333333334, 'f1': 0.8333333333333334, 'essential_metrics': {0: {'tp_hit': 76, 'fp_hit': 18, 'tn_hit': 14, 'fn_hit': 0}, 1: {'tp_hit': 10, 'fp_hit': 0, 'tn_hit': 91, 'fn_hit': 7}, 2: {'tp_hit': 4, 'fp_hit': 0, 'tn_hit': 93, 'fn_hit': 11}}, 'checkpoint': 100} \n",
      "\n",
      "\n",
      "{'accuracy': 0.9135802469135802, 'mean_square_error': 0.2011770048007372, 'categorical_crossentropy': 0.38427356437400534, 'precision': 0.8703703703703703, 'recall': 0.8703703703703703, 'f1': 0.8703703703703703, 'essential_metrics': {0: {'tp_hit': 76, 'fp_hit': 14, 'tn_hit': 18, 'fn_hit': 0}, 1: {'tp_hit': 11, 'fp_hit': 0, 'tn_hit': 91, 'fn_hit': 6}, 2: {'tp_hit': 7, 'fp_hit': 0, 'tn_hit': 93, 'fn_hit': 8}}, 'checkpoint': 200} \n",
      "\n",
      "\n",
      "{'accuracy': 0.9135802469135802, 'mean_square_error': 0.17722924882539745, 'categorical_crossentropy': 0.34383385269730177, 'precision': 0.8703703703703703, 'recall': 0.8703703703703703, 'f1': 0.8703703703703703, 'essential_metrics': {0: {'tp_hit': 76, 'fp_hit': 14, 'tn_hit': 18, 'fn_hit': 0}, 1: {'tp_hit': 11, 'fp_hit': 0, 'tn_hit': 91, 'fn_hit': 6}, 2: {'tp_hit': 7, 'fp_hit': 0, 'tn_hit': 93, 'fn_hit': 8}}, 'checkpoint': 300} \n",
      "\n",
      "\n",
      "{'accuracy': 0.9135802469135802, 'mean_square_error': 0.16575384501965248, 'categorical_crossentropy': 0.3145416047837999, 'precision': 0.8703703703703703, 'recall': 0.8703703703703703, 'f1': 0.8703703703703703, 'essential_metrics': {0: {'tp_hit': 76, 'fp_hit': 14, 'tn_hit': 18, 'fn_hit': 0}, 1: {'tp_hit': 11, 'fp_hit': 0, 'tn_hit': 91, 'fn_hit': 6}, 2: {'tp_hit': 7, 'fp_hit': 0, 'tn_hit': 93, 'fn_hit': 8}}, 'checkpoint': 400} \n",
      "\n",
      "\n",
      "{'accuracy': 0.9259259259259259, 'mean_square_error': 0.14385682903152924, 'categorical_crossentropy': 0.2829940054151747, 'precision': 0.8888888888888888, 'recall': 0.8888888888888888, 'f1': 0.8888888888888888, 'essential_metrics': {0: {'tp_hit': 76, 'fp_hit': 12, 'tn_hit': 20, 'fn_hit': 0}, 1: {'tp_hit': 13, 'fp_hit': 0, 'tn_hit': 91, 'fn_hit': 4}, 2: {'tp_hit': 7, 'fp_hit': 0, 'tn_hit': 93, 'fn_hit': 8}}, 'checkpoint': 500} \n",
      "\n",
      "\n"
     ]
    }
   ],
   "source": [
    "for checkpoint in checkpoints:\n",
    "    print(checkpoint, '\\n\\n')"
   ]
  },
  {
   "cell_type": "code",
   "execution_count": 15,
   "metadata": {},
   "outputs": [
    {
     "name": "stdout",
     "output_type": "stream",
     "text": [
      "Layer 1\n",
      "Neuron 0: weights:\n",
      "[ 0.15883687  0.93758917  1.012044   -3.          2.6833813 ]\n",
      " bias: 1.2130553722381592\n",
      "\n",
      "Neuron 1: weights:\n",
      "[-1.024721    2.0458956   1.1198334  -2.2171109  -0.11114912]\n",
      " bias: 2.111095666885376\n",
      "\n",
      "Neuron 2: weights:\n",
      "[-0.04520394  2.8914852   0.36159754  2.072853   -2.8294604 ]\n",
      " bias: -0.6219455599784851\n",
      "\n",
      "Neuron 3: weights:\n",
      "[ 2.0994725  -2.4082649  -1.6322676  -2.1546125   0.19448131]\n",
      " bias: 1.7315125465393066\n",
      "\n",
      "$\n",
      "Layer 2\n",
      "Neuron 0: weights:\n",
      "[-2.6621766  1.9964572 -0.5572767  2.475965 ]\n",
      " bias: -1.5629240274429321\n",
      "\n",
      "Neuron 1: weights:\n",
      "[ 1.9603686  1.155805  -1.2648529 -2.87331  ]\n",
      " bias: -2.0025827884674072\n",
      "\n",
      "Neuron 2: weights:\n",
      "[-0.97213125 -2.9991734  -0.76672477 -0.98574394]\n",
      " bias: 1.7491296529769897\n",
      "\n",
      "$\n",
      "\n"
     ]
    }
   ],
   "source": [
    "print(model)"
   ]
  }
 ],
 "metadata": {
  "kernelspec": {
   "display_name": "Python 3",
   "language": "python",
   "name": "python3"
  },
  "language_info": {
   "codemirror_mode": {
    "name": "ipython",
    "version": 3
   },
   "file_extension": ".py",
   "mimetype": "text/x-python",
   "name": "python",
   "nbconvert_exporter": "python",
   "pygments_lexer": "ipython3",
   "version": "3.6.10"
  }
 },
 "nbformat": 4,
 "nbformat_minor": 2
}
