{
 "cells": [
  {
   "cell_type": "code",
   "execution_count": 1,
   "metadata": {},
   "outputs": [],
   "source": [
    "# single"
   ]
  },
  {
   "cell_type": "code",
   "execution_count": 2,
   "metadata": {},
   "outputs": [],
   "source": [
    "# dependency\n",
    "import numpy as np\n",
    "import pandas as pd\n",
    "import copy\n",
    "import math\n",
    "import sys\n",
    "import os\n",
    "from activations import relu, leaky_relu, sigmoid, tanh, softmax, d_sigmoid, d_relu\n",
    "from initializers import glorot_uniform, random_normal, random_uniform\n",
    "from regularizers import l1_regularizer, l2_regularizer\n",
    "from utility import trim_tail, multiply, subtract, get_nparams, one_hot_encoding, get_data\n",
    "from metrics import MSE, CCE, ACC, PRECISION, RECALL, essential_metrics, wondering_penalty, close_gap_penalty\n",
    "from pso import PSO\n",
    "from ga import GA\n",
    "from nn import Network\n",
    "from layer import DenseLayer\n",
    "from scalers import MinMaxScaler, StandardScaler"
   ]
  },
  {
   "cell_type": "code",
   "execution_count": 3,
   "metadata": {},
   "outputs": [],
   "source": [
    "# reference\n",
    "metrics_fn_dict = dict()\n",
    "metrics_fn_dict['accuracy'] = ACC\n",
    "metrics_fn_dict['categorical_crossentropy'] = CCE\n",
    "metrics_fn_dict['mean_square_error'] = MSE\n",
    "metrics_fn_dict['precision'] = PRECISION\n",
    "metrics_fn_dict['recall'] = RECALL\n",
    "metrics_fn_dict['essential_metrics'] = essential_metrics"
   ]
  },
  {
   "cell_type": "code",
   "execution_count": 4,
   "metadata": {},
   "outputs": [],
   "source": [
    "# model\n",
    "model = Network(5, lr = None)\n",
    "model.add_layer(DenseLayer(1, 4, True, afn=sigmoid, dafn=None, rfn=None))\n",
    "model.add_layer(DenseLayer(2, 3, True, afn=softmax, dafn=None, rfn=None))"
   ]
  },
  {
   "cell_type": "code",
   "execution_count": 5,
   "metadata": {},
   "outputs": [],
   "source": [
    "# optimizer\n",
    "ga = GA(\n",
    "    dict(\n",
    "        m = 50,\n",
    "        x_rate = 0.5,\n",
    "        m_rate = 0.5,\n",
    "        weight_constraint = [-3.,3.],\n",
    "        radioactive_rating = 0.1,\n",
    "        grow_factor = 0.1,\n",
    "        scale_hyperparameter = False,\n",
    "        regularizer = None))"
   ]
  },
  {
   "cell_type": "code",
   "execution_count": 6,
   "metadata": {},
   "outputs": [
    {
     "name": "stdout",
     "output_type": "stream",
     "text": [
      "building layer 1 with 5\n",
      "24\n",
      "building layer 2 with 4\n",
      "15\n"
     ]
    }
   ],
   "source": [
    "model.compile(loss_fn = 'categorical_crossentropy', optimizer = ga, \\\n",
    "    metrics = ['accuracy', 'mean_square_error', 'categorical_crossentropy', 'precision', 'recall', 'f1'])"
   ]
  },
  {
   "cell_type": "code",
   "execution_count": 7,
   "metadata": {},
   "outputs": [
    {
     "name": "stdout",
     "output_type": "stream",
     "text": [
      "<class 'pandas.core.frame.DataFrame'>\n",
      "RangeIndex: 107 entries, 0 to 106\n",
      "Data columns (total 6 columns):\n",
      " #   Column  Non-Null Count  Dtype  \n",
      "---  ------  --------------  -----  \n",
      " 0   f1      107 non-null    float32\n",
      " 1   f2      107 non-null    float32\n",
      " 2   f3      107 non-null    float32\n",
      " 3   f4      107 non-null    float32\n",
      " 4   f5      107 non-null    float32\n",
      " 5   label   107 non-null    float32\n",
      "dtypes: float32(6)\n",
      "memory usage: 2.6 KB\n",
      "None\n",
      "<class 'pandas.core.frame.DataFrame'>\n",
      "RangeIndex: 108 entries, 0 to 107\n",
      "Data columns (total 6 columns):\n",
      " #   Column  Non-Null Count  Dtype  \n",
      "---  ------  --------------  -----  \n",
      " 0   f1      108 non-null    float32\n",
      " 1   f2      108 non-null    float32\n",
      " 2   f3      108 non-null    float32\n",
      " 3   f4      108 non-null    float32\n",
      " 4   f5      108 non-null    float32\n",
      " 5   label   108 non-null    float32\n",
      "dtypes: float32(6)\n",
      "memory usage: 2.7 KB\n",
      "None\n"
     ]
    }
   ],
   "source": [
    "# data loading\n",
    "DATA = os.path.join('c:\\\\Users\\\\AI-lab\\\\github_repo\\\\neural-network\\\\', 'dataset')\n",
    "GROUP = 5\n",
    "COLUMNS = ['f1', 'f2', 'f3', 'f4', 'f5', 'label']\n",
    "N_CLASS = 3\n",
    "EPOCHS = 1000\n",
    "train_dir, test_dir = \"..//dataset//training_data{}.txt\".format(GROUP), \"..//dataset//testing_data{}.txt\".format(GROUP)\n",
    "train, test = get_data(DATA, train_dir, COLUMNS), get_data(DATA, test_dir, COLUMNS)\n",
    "# shuffle\n",
    "train, test = train.sample(frac=1), test.sample(frac=1)\n",
    "x_train, y_train = train.drop('label', axis=1), train['label']\n",
    "x_test, y_test = test.drop('label', axis=1), test['label']"
   ]
  },
  {
   "cell_type": "code",
   "execution_count": 8,
   "metadata": {},
   "outputs": [],
   "source": [
    "# data scaling and encoding\n",
    "scaler = StandardScaler(['f1', 'f2', 'f3', 'f4', 'f5'])\n",
    "scaler.fit(x_train)\n",
    "x_train = scaler.transform(x_train)\n",
    "x_test = scaler.transform(x_test)\n",
    "y_train = one_hot_encoding(y_train, N_CLASS)\n",
    "y_test = one_hot_encoding(y_test, N_CLASS)"
   ]
  },
  {
   "cell_type": "code",
   "execution_count": 9,
   "metadata": {
    "scrolled": true,
    "tags": [
     "outputPrepend"
    ]
   },
   "outputs": [
    {
     "name": "stderr",
     "output_type": "stream",
     "text": [
      "C:\\Users\\AI-lab\\github_repo\\neural-network\\python\\activations.py:14: RuntimeWarning: overflow encountered in exp\n",
      "  y = 1 / (1 + np.exp(-Xi))\n",
      "C:\\Users\\AI-lab\\github_repo\\neural-network\\python\\ga.py:203: RuntimeWarning: overflow encountered in add\n",
      "  self.population.sort(key=lambda p: p.fitness + np.random.uniform(-shift, shift, 1), reverse = self.aim)\n"
     ]
    },
    {
     "name": "stdout",
     "output_type": "stream",
     "text": [
      "Checkpoint 100, Accuracy: 0.8641975308641975, Loss: 0.4430714006777163\n",
      "Checkpoint 200, Accuracy: 0.8703703703703703, Loss: 0.4162890116373698\n",
      "Checkpoint 300, Accuracy: 0.8827160493827161, Loss: 0.3907268665455006\n",
      "Checkpoint 400, Accuracy: 0.8950617283950617, Loss: 0.3650264386777525\n",
      "Checkpoint 500, Accuracy: 0.9074074074074074, Loss: 0.3429859655874747\n",
      "Checkpoint 600, Accuracy: 0.9320987654320988, Loss: 0.3242714493362992\n",
      "Checkpoint 700, Accuracy: 0.9197530864197531, Loss: 0.30719587537977433\n",
      "Checkpoint 800, Accuracy: 0.9444444444444444, Loss: 0.285903877682156\n",
      "Checkpoint 900, Accuracy: 0.9506172839506173, Loss: 0.27594195471869576\n",
      "Checkpoint 1000, Accuracy: 0.9506172839506173, Loss: 0.2612241992244014\n"
     ]
    }
   ],
   "source": [
    "# learning phase\n",
    "breakpoint = 100\n",
    "checkpoints = list()\n",
    "history = list()\n",
    "for century in range(0, EPOCHS, breakpoint):\n",
    "    sub_history = model.fit(x_train, y_train, breakpoint, verbose = 0)\n",
    "    score = model.evaluate(x_test, y_test, False, verbose = 0)\n",
    "    print('Checkpoint {}, Accuracy: {}, Loss: {}'.format(century+breakpoint, score['accuracy'], score[model.loss_fn]))\n",
    "    score['checkpoint'] = century + breakpoint\n",
    "    checkpoints.append(score)\n",
    "    history.extend(sub_history)\n",
    "    "
   ]
  },
  {
   "cell_type": "code",
   "execution_count": 10,
   "metadata": {},
   "outputs": [],
   "source": [
    "train_acc = [ h['accuracy'] for h in history]\n",
    "train_mse = [h['mean_square_error'] for h in history]\n",
    "train_cce = [h['categorical_crossentropy'] for h in history]"
   ]
  },
  {
   "cell_type": "code",
   "execution_count": 11,
   "metadata": {},
   "outputs": [],
   "source": [
    "import matplotlib.pyplot as plt\n",
    "\n",
    "def draw_plot(x, y_list, x_label=None, y_label=None, legend=None, title=None):\n",
    "    fig, ax = plt.subplots(figsize=(12,5))\n",
    "    for xi, yi in zip(x, y_list):\n",
    "        ax.plot(xi, yi)\n",
    "    if x_label is not None and y_label is not None:\n",
    "        ax.set(xlabel=x_label, ylabel=y_label, title='{} VS {}'.format(x_label, y_label))\n",
    "    if legend is not None:\n",
    "        ax.legend(legend)\n",
    "    ax.grid()\n",
    "    plt.show()"
   ]
  },
  {
   "cell_type": "code",
   "execution_count": 12,
   "metadata": {},
   "outputs": [
    {
     "name": "stdout",
     "output_type": "stream",
     "text": [
      "[0. 0. 1.] <-> [0.40223473 0.00075021 0.5970151 ]\n",
      "[1. 0. 0.] <-> [0.9436723  0.00183883 0.05448882]\n",
      "[0. 1. 0.] <-> [0.43412668 0.56206614 0.00380719]\n",
      "[1. 0. 0.] <-> [0.6208846  0.00512932 0.37398604]\n",
      "[1. 0. 0.] <-> [0.9575487  0.01421824 0.02823308]\n",
      "[1. 0. 0.] <-> [0.97130144 0.01379904 0.01489955]\n",
      "[0. 0. 1.] <-> [0.8822633  0.00739423 0.1103424 ]\n",
      "[0. 1. 0.] <-> [0.7401474  0.2512458  0.00860683]\n",
      "[1. 0. 0.] <-> [0.98005325 0.00785555 0.01209128]\n",
      "[1. 0. 0.] <-> [0.8307785  0.14117263 0.02804888]\n",
      "[1. 0. 0.] <-> [0.5896837  0.01378226 0.396534  ]\n",
      "[1. 0. 0.] <-> [0.89811724 0.0896451  0.01223776]\n",
      "[1. 0. 0.] <-> [0.95249873 0.00444072 0.04306049]\n",
      "[1. 0. 0.] <-> [0.8806435  0.00445958 0.11489694]\n",
      "[1. 0. 0.] <-> [0.90105087 0.00188304 0.09706608]\n",
      "[1. 0. 0.] <-> [0.9526477  0.02491795 0.02243437]\n",
      "[0. 0. 1.] <-> [0.36897838 0.00101036 0.6300113 ]\n",
      "[0. 0. 1.] <-> [0.20005961 0.00455517 0.7953852 ]\n",
      "[1. 0. 0.] <-> [0.74579704 0.00233208 0.2518709 ]\n",
      "[1. 0. 0.] <-> [0.9747284  0.00304503 0.02222652]\n",
      "[1. 0. 0.] <-> [0.94542503 0.01971079 0.0348641 ]\n",
      "[1. 0. 0.] <-> [0.8931652  0.00225452 0.10458039]\n",
      "[1. 0. 0.] <-> [0.9442765  0.03479791 0.02092553]\n",
      "[1. 0. 0.] <-> [0.9277191  0.03642831 0.03585248]\n",
      "[1. 0. 0.] <-> [0.88841254 0.04120367 0.07038385]\n",
      "[1. 0. 0.] <-> [0.9172235  0.02269498 0.06008158]\n",
      "[1. 0. 0.] <-> [0.94377995 0.03328896 0.02293103]\n",
      "[1. 0. 0.] <-> [0.8058255  0.1826169  0.01155762]\n",
      "[0. 0. 1.] <-> [0.25488234 0.00278567 0.742332  ]\n",
      "[1. 0. 0.] <-> [0.95248014 0.02079409 0.02672577]\n",
      "[1. 0. 0.] <-> [0.9509425  0.02580737 0.02325012]\n",
      "[0. 1. 0.] <-> [0.9200673  0.06403396 0.01589873]\n",
      "[1. 0. 0.] <-> [0.9403565  0.01000275 0.0496408 ]\n",
      "[0. 1. 0.] <-> [0.8269028  0.15084097 0.0222562 ]\n",
      "[1. 0. 0.] <-> [0.9586529  0.01563987 0.02570723]\n",
      "[1. 0. 0.] <-> [0.9165253  0.01098573 0.07248896]\n",
      "[0. 0. 1.] <-> [0.01747756 0.00433551 0.9781869 ]\n",
      "[0. 1. 0.] <-> [0.04456513 0.94890136 0.00653345]\n",
      "[1. 0. 0.] <-> [0.9783     0.00451687 0.0171832 ]\n",
      "[1. 0. 0.] <-> [0.44460174 0.5431652  0.01223299]\n",
      "[1. 0. 0.] <-> [0.9411409  0.0160694  0.04278974]\n",
      "[0. 1. 0.] <-> [0.04640116 0.9471274  0.00647147]\n",
      "[0. 1. 0.] <-> [0.5391201  0.43925714 0.02162275]\n",
      "[1. 0. 0.] <-> [0.7818146  0.01689724 0.20128815]\n",
      "[0. 0. 1.] <-> [0.91780114 0.00441722 0.07778163]\n",
      "[0. 0. 1.] <-> [0.11150459 0.00485144 0.883644  ]\n",
      "[1. 0. 0.] <-> [0.9598358  0.01530947 0.02485477]\n",
      "[1. 0. 0.] <-> [0.9355216  0.02155039 0.04292801]\n",
      "[1. 0. 0.] <-> [0.9423781  0.02831215 0.02930982]\n",
      "[1. 0. 0.] <-> [0.88760376 0.02011656 0.09227961]\n",
      "[1. 0. 0.] <-> [0.97449976 0.00671077 0.01878943]\n",
      "[0. 1. 0.] <-> [0.04348831 0.9498855  0.00662617]\n",
      "[1. 0. 0.] <-> [0.9550219  0.02622191 0.01875619]\n",
      "[0. 0. 1.] <-> [0.01359619 0.00416258 0.9822412 ]\n",
      "[0. 1. 0.] <-> [0.04342616 0.94997007 0.0066038 ]\n",
      "[0. 0. 1.] <-> [0.02153127 0.00630741 0.97216135]\n",
      "[1. 0. 0.] <-> [0.95205855 0.00501913 0.04292225]\n",
      "[1. 0. 0.] <-> [0.94748706 0.00583393 0.04667904]\n",
      "[1. 0. 0.] <-> [0.97375363 0.00321898 0.02302739]\n",
      "[1. 0. 0.] <-> [0.93240345 0.02268101 0.04491551]\n",
      "[0. 1. 0.] <-> [0.4270445  0.5687588  0.00419672]\n",
      "[1. 0. 0.] <-> [0.8694567  0.02669019 0.10385304]\n",
      "[0. 0. 1.] <-> [0.37636468 0.00092413 0.6227112 ]\n",
      "[1. 0. 0.] <-> [0.9790592  0.00653386 0.01440689]\n",
      "[0. 1. 0.] <-> [0.1558252  0.8397932  0.00438158]\n",
      "[1. 0. 0.] <-> [0.9515399  0.00416148 0.04429863]\n",
      "[1. 0. 0.] <-> [0.94322807 0.02663872 0.03013316]\n",
      "[1. 0. 0.] <-> [0.805495   0.00501556 0.18948947]\n",
      "[1. 0. 0.] <-> [0.88194656 0.01936152 0.0986919 ]\n",
      "[1. 0. 0.] <-> [0.6399306  0.01349589 0.34657344]\n",
      "[1. 0. 0.] <-> [0.92767555 0.01998417 0.05234032]\n",
      "[0. 1. 0.] <-> [0.04559528 0.947617   0.00678775]\n",
      "[1. 0. 0.] <-> [0.9433274  0.01370623 0.04296634]\n",
      "[1. 0. 0.] <-> [0.9717824  0.0051207  0.02309691]\n",
      "[1. 0. 0.] <-> [0.90962017 0.04592191 0.04445798]\n",
      "[0. 1. 0.] <-> [0.27907196 0.7080697  0.01285826]\n",
      "[1. 0. 0.] <-> [0.9783522  0.00616225 0.01548549]\n",
      "[1. 0. 0.] <-> [0.48782748 0.06743515 0.4447374 ]\n",
      "[1. 0. 0.] <-> [0.9300915  0.02186013 0.04804836]\n",
      "[1. 0. 0.] <-> [0.9623737  0.0119248  0.02570162]\n",
      "[1. 0. 0.] <-> [0.9372006  0.00208707 0.06071226]\n",
      "[1. 0. 0.] <-> [0.92512125 0.02952646 0.0453524 ]\n",
      "[0. 1. 0.] <-> [0.3188117  0.67831117 0.00287713]\n",
      "[0. 0. 1.] <-> [0.34326807 0.00123463 0.6554974 ]\n",
      "[1. 0. 0.] <-> [0.9064877  0.00167915 0.09183312]\n",
      "[1. 0. 0.] <-> [0.9294628  0.03560311 0.03493409]\n",
      "[1. 0. 0.] <-> [0.9471347  0.00202713 0.05083824]\n",
      "[0. 1. 0.] <-> [0.08083243 0.9098721  0.0092955 ]\n",
      "[1. 0. 0.] <-> [0.979119   0.00284922 0.01803171]\n",
      "[1. 0. 0.] <-> [0.83461434 0.12042926 0.04495636]\n",
      "[1. 0. 0.] <-> [0.9385141  0.00733539 0.05415054]\n",
      "[0. 1. 0.] <-> [0.04480927 0.9486664  0.00652435]\n",
      "[1. 0. 0.] <-> [0.8588766  0.02158012 0.11954332]\n",
      "[1. 0. 0.] <-> [0.9580214  0.03296125 0.00901725]\n",
      "[1. 0. 0.] <-> [0.9424366  0.02866614 0.02889723]\n",
      "[1. 0. 0.] <-> [0.89895755 0.00413534 0.09690712]\n",
      "[1. 0. 0.] <-> [0.9453543  0.03549001 0.0191557 ]\n",
      "[1. 0. 0.] <-> [0.90672463 0.02290223 0.07037322]\n",
      "[1. 0. 0.] <-> [0.94790524 0.03613103 0.01596373]\n",
      "[1. 0. 0.] <-> [0.8018966  0.18727559 0.01082792]\n",
      "[1. 0. 0.] <-> [0.9452996  0.01364689 0.04105346]\n",
      "[1. 0. 0.] <-> [0.95556283 0.03226731 0.01216994]\n",
      "[1. 0. 0.] <-> [0.5399884  0.01265183 0.44735974]\n",
      "[0. 0. 1.] <-> [0.38799495 0.000849   0.61115605]\n",
      "[0. 0. 1.] <-> [0.02160881 0.0063256  0.97206557]\n",
      "[1. 0. 0.] <-> [0.92004037 0.01824158 0.06171812]\n",
      "[0. 1. 0.] <-> [0.38880298 0.6074292  0.00376787]\n",
      "[0. 0. 1.] <-> [0.7046552  0.01957262 0.27577224]\n",
      "{'accuracy': 0.9506172839506173, 'mean_square_error': 0.1451967041005245, 'categorical_crossentropy': 0.2612241992244014, 'precision': 0.9259259259259259, 'recall': 0.9259259259259259, 'f1': 0.9259259259259259, 'essential_metrics': {0: {'tp_hit': 75, 'fp_hit': 7, 'tn_hit': 25, 'fn_hit': 1}, 1: {'tp_hit': 13, 'fp_hit': 1, 'tn_hit': 90, 'fn_hit': 4}, 2: {'tp_hit': 12, 'fp_hit': 0, 'tn_hit': 93, 'fn_hit': 3}}}\n"
     ]
    }
   ],
   "source": [
    "# recall phase\n",
    "score = model.evaluate(x_test, y_test, False)\n",
    "print(score)"
   ]
  },
  {
   "cell_type": "code",
   "execution_count": 13,
   "metadata": {},
   "outputs": [],
   "source": [
    "# Testing Performance"
   ]
  },
  {
   "cell_type": "code",
   "execution_count": 14,
   "metadata": {},
   "outputs": [
    {
     "data": {
      "image/png": "[encoded data removed]",
      "text/plain": [
       "<Figure size 864x360 with 1 Axes>"
      ]
     },
     "metadata": {
      "needs_background": "light"
     },
     "output_type": "display_data"
    },
    {
     "data": {
      "image/png": "[encoded data removed]",
      "text/plain": [
       "<Figure size 864x360 with 1 Axes>"
      ]
     },
     "metadata": {
      "needs_background": "light"
     },
     "output_type": "display_data"
    }
   ],
   "source": [
    "draw_plot(x = [[i for i in range(len(history))], [(i+1)*breakpoint for i in range(len(checkpoints))]], y_list = [train_cce, [ ckp[model.loss_fn] for ckp in checkpoints ]], x_label = 'Epochs', \\\n",
    "    y_label = model.loss_fn, legend=['train', 'test'])\n",
    "acc = [ ckp['accuracy'] for ckp in checkpoints ]\n",
    "draw_plot(x = [[i for i in range(len(history))], [(i+1)*breakpoint for i in range(len(checkpoints))]], y_list = [train_acc, acc], x_label = 'Checkpoints', \\\n",
    "    y_label = 'accuracy', legend=['train', 'test'])"
   ]
  },
  {
   "cell_type": "code",
   "execution_count": 15,
   "metadata": {
    "scrolled": false
   },
   "outputs": [
    {
     "name": "stdout",
     "output_type": "stream",
     "text": [
      "{'accuracy': 0.8641975308641975, 'mean_square_error': 0.24252426726138832, 'categorical_crossentropy': 0.4430714006777163, 'precision': 0.7962962962962963, 'recall': 0.7962962962962963, 'f1': 0.7962962962962963, 'essential_metrics': {0: {'tp_hit': 75, 'fp_hit': 21, 'tn_hit': 11, 'fn_hit': 1}, 1: {'tp_hit': 8, 'fp_hit': 1, 'tn_hit': 90, 'fn_hit': 9}, 2: {'tp_hit': 3, 'fp_hit': 0, 'tn_hit': 93, 'fn_hit': 12}}, 'checkpoint': 100} \n",
      "\n",
      "\n",
      "{'accuracy': 0.8703703703703703, 'mean_square_error': 0.22887596753622363, 'categorical_crossentropy': 0.4162890116373698, 'precision': 0.8055555555555556, 'recall': 0.8055555555555556, 'f1': 0.8055555555555556, 'essential_metrics': {0: {'tp_hit': 75, 'fp_hit': 20, 'tn_hit': 12, 'fn_hit': 1}, 1: {'tp_hit': 8, 'fp_hit': 1, 'tn_hit': 90, 'fn_hit': 9}, 2: {'tp_hit': 4, 'fp_hit': 0, 'tn_hit': 93, 'fn_hit': 11}}, 'checkpoint': 200} \n",
      "\n",
      "\n",
      "{'accuracy': 0.8827160493827161, 'mean_square_error': 0.2138310854983533, 'categorical_crossentropy': 0.3907268665455006, 'precision': 0.8240740740740741, 'recall': 0.8240740740740741, 'f1': 0.8240740740740741, 'essential_metrics': {0: {'tp_hit': 75, 'fp_hit': 18, 'tn_hit': 14, 'fn_hit': 1}, 1: {'tp_hit': 10, 'fp_hit': 1, 'tn_hit': 90, 'fn_hit': 7}, 2: {'tp_hit': 4, 'fp_hit': 0, 'tn_hit': 93, 'fn_hit': 11}}, 'checkpoint': 300} \n",
      "\n",
      "\n",
      "{'accuracy': 0.8950617283950617, 'mean_square_error': 0.19993350562471743, 'categorical_crossentropy': 0.3650264386777525, 'precision': 0.8425925925925926, 'recall': 0.8425925925925926, 'f1': 0.8425925925925926, 'essential_metrics': {0: {'tp_hit': 75, 'fp_hit': 16, 'tn_hit': 16, 'fn_hit': 1}, 1: {'tp_hit': 12, 'fp_hit': 1, 'tn_hit': 90, 'fn_hit': 5}, 2: {'tp_hit': 4, 'fp_hit': 0, 'tn_hit': 93, 'fn_hit': 11}}, 'checkpoint': 400} \n",
      "\n",
      "\n",
      "{'accuracy': 0.9074074074074074, 'mean_square_error': 0.18546017351720626, 'categorical_crossentropy': 0.3429859655874747, 'precision': 0.8611111111111112, 'recall': 0.8611111111111112, 'f1': 0.8611111111111112, 'essential_metrics': {0: {'tp_hit': 75, 'fp_hit': 14, 'tn_hit': 18, 'fn_hit': 1}, 1: {'tp_hit': 12, 'fp_hit': 1, 'tn_hit': 90, 'fn_hit': 5}, 2: {'tp_hit': 6, 'fp_hit': 0, 'tn_hit': 93, 'fn_hit': 9}}, 'checkpoint': 500} \n",
      "\n",
      "\n",
      "{'accuracy': 0.9320987654320988, 'mean_square_error': 0.1748919849973456, 'categorical_crossentropy': 0.3242714493362992, 'precision': 0.8981481481481481, 'recall': 0.8981481481481481, 'f1': 0.8981481481481481, 'essential_metrics': {0: {'tp_hit': 75, 'fp_hit': 10, 'tn_hit': 22, 'fn_hit': 1}, 1: {'tp_hit': 13, 'fp_hit': 1, 'tn_hit': 90, 'fn_hit': 4}, 2: {'tp_hit': 9, 'fp_hit': 0, 'tn_hit': 93, 'fn_hit': 6}}, 'checkpoint': 600} \n",
      "\n",
      "\n",
      "{'accuracy': 0.9197530864197531, 'mean_square_error': 0.17070058390534484, 'categorical_crossentropy': 0.30719587537977433, 'precision': 0.8796296296296297, 'recall': 0.8796296296296297, 'f1': 0.8796296296296297, 'essential_metrics': {0: {'tp_hit': 75, 'fp_hit': 12, 'tn_hit': 20, 'fn_hit': 1}, 1: {'tp_hit': 13, 'fp_hit': 1, 'tn_hit': 90, 'fn_hit': 4}, 2: {'tp_hit': 7, 'fp_hit': 0, 'tn_hit': 93, 'fn_hit': 8}}, 'checkpoint': 700} \n",
      "\n",
      "\n",
      "{'accuracy': 0.9444444444444444, 'mean_square_error': 0.15733157775977413, 'categorical_crossentropy': 0.285903877682156, 'precision': 0.9166666666666666, 'recall': 0.9166666666666666, 'f1': 0.9166666666666666, 'essential_metrics': {0: {'tp_hit': 74, 'fp_hit': 7, 'tn_hit': 25, 'fn_hit': 2}, 1: {'tp_hit': 13, 'fp_hit': 1, 'tn_hit': 90, 'fn_hit': 4}, 2: {'tp_hit': 12, 'fp_hit': 1, 'tn_hit': 92, 'fn_hit': 3}}, 'checkpoint': 800} \n",
      "\n",
      "\n",
      "{'accuracy': 0.9506172839506173, 'mean_square_error': 0.15142105080285262, 'categorical_crossentropy': 0.27594195471869576, 'precision': 0.9259259259259259, 'recall': 0.9259259259259259, 'f1': 0.9259259259259259, 'essential_metrics': {0: {'tp_hit': 75, 'fp_hit': 7, 'tn_hit': 25, 'fn_hit': 1}, 1: {'tp_hit': 13, 'fp_hit': 1, 'tn_hit': 90, 'fn_hit': 4}, 2: {'tp_hit': 12, 'fp_hit': 0, 'tn_hit': 93, 'fn_hit': 3}}, 'checkpoint': 900} \n",
      "\n",
      "\n",
      "{'accuracy': 0.9506172839506173, 'mean_square_error': 0.1451967041005245, 'categorical_crossentropy': 0.2612241992244014, 'precision': 0.9259259259259259, 'recall': 0.9259259259259259, 'f1': 0.9259259259259259, 'essential_metrics': {0: {'tp_hit': 75, 'fp_hit': 7, 'tn_hit': 25, 'fn_hit': 1}, 1: {'tp_hit': 13, 'fp_hit': 1, 'tn_hit': 90, 'fn_hit': 4}, 2: {'tp_hit': 12, 'fp_hit': 0, 'tn_hit': 93, 'fn_hit': 3}}, 'checkpoint': 1000} \n",
      "\n",
      "\n"
     ]
    }
   ],
   "source": [
    "for checkpoint in checkpoints:\n",
    "    print(checkpoint, '\\n\\n')"
   ]
  },
  {
   "cell_type": "code",
   "execution_count": 16,
   "metadata": {},
   "outputs": [
    {
     "name": "stdout",
     "output_type": "stream",
     "text": [
      "Layer 1\n",
      "Neuron 0: weights:\n",
      "[ 1.7094629  -2.9865406   0.39272383  0.9629256   2.227575  ]\n",
      " bias: 2.4453139305114746\n",
      "\n",
      "Neuron 1: weights:\n",
      "[ 1.5250745   0.75899345 -2.9850214   2.120421   -2.5666914 ]\n",
      " bias: 1.094472885131836\n",
      "\n",
      "Neuron 2: weights:\n",
      "[ 1.3517963   2.6179042   0.91879004 -0.3347608   2.4824643 ]\n",
      " bias: 0.9954215288162231\n",
      "\n",
      "Neuron 3: weights:\n",
      "[-1.7003088   1.1043129   2.7062075  -1.669869    0.11640003]\n",
      " bias: 2.4663634300231934\n",
      "\n",
      "$\n",
      "Layer 2\n",
      "Neuron 0: weights:\n",
      "[1.8973944  1.2095273  0.08693725 3.        ]\n",
      " bias: -2.4984519481658936\n",
      "\n",
      "Neuron 1: weights:\n",
      "[-2.892412  -1.1956135  2.8878295  2.4758196]\n",
      " bias: -1.6827129125595093\n",
      "\n",
      "Neuron 2: weights:\n",
      "[ 2.5860236 -1.7526354  1.1535038 -2.5820458]\n",
      " bias: 0.13781465590000153\n",
      "\n",
      "$\n",
      "\n"
     ]
    }
   ],
   "source": [
    "print(model)"
   ]
  }
 ],
 "metadata": {
  "kernelspec": {
   "display_name": "Python 3",
   "language": "python",
   "name": "python3"
  },
  "language_info": {
   "codemirror_mode": {
    "name": "ipython",
    "version": 3
   },
   "file_extension": ".py",
   "mimetype": "text/x-python",
   "name": "python",
   "nbconvert_exporter": "python",
   "pygments_lexer": "ipython3",
   "version": "3.6.12"
  }
 },
 "nbformat": 4,
 "nbformat_minor": 2
}
