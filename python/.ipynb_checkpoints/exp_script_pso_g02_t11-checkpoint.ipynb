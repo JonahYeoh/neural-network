{
 "cells": [
  {
   "cell_type": "code",
   "execution_count": 1,
   "metadata": {},
   "outputs": [],
   "source": [
    "# dependency\n",
    "import numpy as np\n",
    "import pandas as pd\n",
    "import copy\n",
    "import math\n",
    "import sys\n",
    "import os\n",
    "from activations import relu, leaky_relu, sigmoid, tanh, softmax, d_sigmoid, d_relu\n",
    "from initializers import glorot_uniform, random_normal, random_uniform\n",
    "from regularizers import l1_regularizer, l2_regularizer\n",
    "from utility import trim_tail, multiply, subtract, get_nparams, one_hot_encoding, get_data\n",
    "from metrics import MSE, CCE, ACC, PRECISION, RECALL, essential_metrics, wondering_penalty, close_gap_penalty\n",
    "from pso import PSO\n",
    "from ga import GA\n",
    "from nn import Network\n",
    "from layer import DenseLayer\n",
    "from scalers import MinMaxScaler, StandardScaler"
   ]
  },
  {
   "cell_type": "code",
   "execution_count": 2,
   "metadata": {},
   "outputs": [],
   "source": [
    "# reference\n",
    "metrics_fn_dict = dict()\n",
    "metrics_fn_dict['accuracy'] = ACC\n",
    "metrics_fn_dict['categorical_crossentropy'] = CCE\n",
    "metrics_fn_dict['mean_square_error'] = MSE\n",
    "metrics_fn_dict['precision'] = PRECISION\n",
    "metrics_fn_dict['recall'] = RECALL\n",
    "metrics_fn_dict['essential_metrics'] = essential_metrics"
   ]
  },
  {
   "cell_type": "code",
   "execution_count": 3,
   "metadata": {},
   "outputs": [],
   "source": [
    "# model\n",
    "model = Network(5, lr = None)\n",
    "model.add_layer(DenseLayer(1, 4, True, afn=sigmoid, dafn=None, rfn=None))\n",
    "model.add_layer(DenseLayer(2, 3, True, afn=softmax, dafn=None, rfn=None))"
   ]
  },
  {
   "cell_type": "code",
   "execution_count": 4,
   "metadata": {},
   "outputs": [
    {
     "name": "stdout",
     "output_type": "stream",
     "text": [
      "see one see two 2.0 0.5\n"
     ]
    }
   ],
   "source": [
    "pso = PSO(dict(m = 50,\n",
    "    weight_constraint = [-3, 3], \n",
    "    velocity_constraint = [-0.1, 0.1],\n",
    "    c1 = [0.5, 2.0],\n",
    "    c2 = [0.5, 2.0],\n",
    "    w = [0.5, 1.6],\n",
    "    w_decay = 0.95,\n",
    "    scale_hyperparameter = False,\n",
    "    regularizer = l2_regularizer,\n",
    "    mask = True))"
   ]
  },
  {
   "cell_type": "code",
   "execution_count": 5,
   "metadata": {},
   "outputs": [
    {
     "name": "stdout",
     "output_type": "stream",
     "text": [
      "building layer 1 with 5\n",
      "24\n",
      "building layer 2 with 4\n",
      "15\n"
     ]
    }
   ],
   "source": [
    "model.compile(loss_fn = 'categorical_crossentropy', optimizer = pso, \\\n",
    "    metrics = ['accuracy', 'mean_square_error', 'categorical_crossentropy'])"
   ]
  },
  {
   "cell_type": "code",
   "execution_count": 6,
   "metadata": {},
   "outputs": [
    {
     "name": "stdout",
     "output_type": "stream",
     "text": [
      "<class 'pandas.core.frame.DataFrame'>\n",
      "RangeIndex: 107 entries, 0 to 106\n",
      "Data columns (total 6 columns):\n",
      " #   Column  Non-Null Count  Dtype  \n",
      "---  ------  --------------  -----  \n",
      " 0   f1      107 non-null    float32\n",
      " 1   f2      107 non-null    float32\n",
      " 2   f3      107 non-null    float32\n",
      " 3   f4      107 non-null    float32\n",
      " 4   f5      107 non-null    float32\n",
      " 5   label   107 non-null    float32\n",
      "dtypes: float32(6)\n",
      "memory usage: 2.6 KB\n",
      "None\n",
      "<class 'pandas.core.frame.DataFrame'>\n",
      "RangeIndex: 108 entries, 0 to 107\n",
      "Data columns (total 6 columns):\n",
      " #   Column  Non-Null Count  Dtype  \n",
      "---  ------  --------------  -----  \n",
      " 0   f1      108 non-null    float32\n",
      " 1   f2      108 non-null    float32\n",
      " 2   f3      108 non-null    float32\n",
      " 3   f4      108 non-null    float32\n",
      " 4   f5      108 non-null    float32\n",
      " 5   label   108 non-null    float32\n",
      "dtypes: float32(6)\n",
      "memory usage: 2.7 KB\n",
      "None\n"
     ]
    }
   ],
   "source": [
    "# data loading\n",
    "DATA = os.path.join('c:\\\\Users\\\\AI-lab\\\\github_repo\\\\neural-network\\\\', 'dataset')\n",
    "GROUP = 2\n",
    "COLUMNS = ['f1', 'f2', 'f3', 'f4', 'f5', 'label']\n",
    "N_CLASS = 3\n",
    "EPOCHS = 200\n",
    "train_dir, test_dir = \"..//dataset//training_data{}.txt\".format(GROUP), \"..//dataset//testing_data{}.txt\".format(GROUP)\n",
    "train, test = get_data(DATA, train_dir, COLUMNS), get_data(DATA, test_dir, COLUMNS)\n",
    "# shuffle\n",
    "train, test = train.sample(frac=1), test.sample(frac=1)\n",
    "x_train, y_train = train.drop('label', axis=1), train['label']\n",
    "x_test, y_test = test.drop('label', axis=1), test['label']"
   ]
  },
  {
   "cell_type": "code",
   "execution_count": 7,
   "metadata": {},
   "outputs": [],
   "source": [
    "# data scaling and encoding\n",
    "scaler = StandardScaler(['f1', 'f2', 'f3', 'f4', 'f5'])\n",
    "scaler.fit(x_train)\n",
    "x_train = scaler.transform(x_train)\n",
    "x_test = scaler.transform(x_test)\n",
    "y_train = one_hot_encoding(y_train, N_CLASS)\n",
    "y_test = one_hot_encoding(y_test, N_CLASS)"
   ]
  },
  {
   "cell_type": "code",
   "execution_count": 8,
   "metadata": {
    "tags": [
     "outputPrepend"
    ]
   },
   "outputs": [
    {
     "name": "stdout",
     "output_type": "stream",
     "text": [
      "Checkpoint 10, Accuracy: 0.808641975308642, Loss: 0.929828926368996\n",
      "Checkpoint 20, Accuracy: 0.8703703703703703, Loss: 0.8508549442997685\n",
      "Checkpoint 30, Accuracy: 0.8641975308641975, Loss: 0.672580153853805\n",
      "Checkpoint 40, Accuracy: 0.9691358024691358, Loss: 0.5882869649816442\n",
      "Checkpoint 50, Accuracy: 0.9320987654320988, Loss: 0.5244251533790871\n",
      "Checkpoint 60, Accuracy: 0.8950617283950617, Loss: 0.45337270807336877\n",
      "Checkpoint 70, Accuracy: 0.8827160493827161, Loss: 0.4176624439380787\n",
      "Checkpoint 80, Accuracy: 0.9320987654320988, Loss: 0.37837406441017435\n",
      "Checkpoint 90, Accuracy: 0.9259259259259259, Loss: 0.3562093664098669\n",
      "Checkpoint 100, Accuracy: 0.9320987654320988, Loss: 0.3528370327419705\n",
      "Checkpoint 110, Accuracy: 0.9444444444444444, Loss: 0.3283471707944517\n",
      "Checkpoint 120, Accuracy: 0.9444444444444444, Loss: 0.3292554925989222\n",
      "Checkpoint 130, Accuracy: 0.9259259259259259, Loss: 0.34472292440908925\n",
      "Checkpoint 140, Accuracy: 0.9382716049382716, Loss: 0.3417784372965495\n",
      "Checkpoint 150, Accuracy: 0.9444444444444444, Loss: 0.3313241181550203\n",
      "Checkpoint 160, Accuracy: 0.9506172839506173, Loss: 0.3389479672467267\n",
      "Checkpoint 170, Accuracy: 0.9567901234567902, Loss: 0.31710631759078417\n",
      "Checkpoint 180, Accuracy: 0.9567901234567902, Loss: 0.32367787537751375\n",
      "Checkpoint 190, Accuracy: 0.9567901234567902, Loss: 0.3309975023622866\n",
      "Checkpoint 200, Accuracy: 0.9506172839506173, Loss: 0.3208685980902778\n"
     ]
    }
   ],
   "source": [
    "# learning phase\n",
    "breakpoint = 10\n",
    "checkpoints = list()\n",
    "history = list()\n",
    "for century in range(0, EPOCHS, breakpoint):\n",
    "    sub_history = model.fit(x_train, y_train, breakpoint, verbose = 0)\n",
    "    score = model.evaluate(x_test, y_test, False, verbose = 0)\n",
    "    print('Checkpoint {}, Accuracy: {}, Loss: {}'.format(century+breakpoint, score['accuracy'], score[model.loss_fn]))\n",
    "    score['checkpoint'] = century + breakpoint\n",
    "    checkpoints.append(score)\n",
    "    history.extend(sub_history)\n",
    "    itr = century + breakpoint\n",
    "    model.optimizer.c1 = np.max([model.optimizer.C1[1] - ((model.optimizer.C1[1] - model.optimizer.C1[0]) * itr / EPOCHS), model.optimizer.C1[0]])\n",
    "    model.optimizer.c2 = np.min([model.optimizer.C2[0] + ((model.optimizer.C2[1] - model.optimizer.C2[0]) * itr / EPOCHS), model.optimizer.C2[1]])\n",
    "    model.optimizer.w = np.max([model.optimizer.w * model.optimizer.W_Decay, model.optimizer.W[0]])"
   ]
  },
  {
   "cell_type": "code",
   "execution_count": 9,
   "metadata": {},
   "outputs": [],
   "source": [
    "import matplotlib.pyplot as plt\n",
    "\n",
    "def draw_plot(x, y_list, x_label=None, y_label=None, legend=None, title=None):\n",
    "    fig, ax = plt.subplots(figsize=(12,5))\n",
    "    for xi, yi in zip(x, y_list):\n",
    "        ax.plot(xi, yi)\n",
    "    if x_label is not None and y_label is not None:\n",
    "        ax.set(xlabel=x_label, ylabel=y_label, title='{} VS {}'.format(x_label, y_label))\n",
    "    if legend is not None:\n",
    "        ax.legend(legend)\n",
    "    ax.grid()\n",
    "    plt.show()"
   ]
  },
  {
   "cell_type": "code",
   "execution_count": 10,
   "metadata": {},
   "outputs": [],
   "source": [
    "train_acc = [h['accuracy'] for h in history]\n",
    "train_mse = [h['mean_square_error'] for h in history]\n",
    "train_cce = [h['categorical_crossentropy'] for h in history]"
   ]
  },
  {
   "cell_type": "code",
   "execution_count": 11,
   "metadata": {},
   "outputs": [
    {
     "data": {
      "image/png": "[encoded data removed]",
      "text/plain": [
       "<Figure size 864x360 with 1 Axes>"
      ]
     },
     "metadata": {
      "needs_background": "light"
     },
     "output_type": "display_data"
    },
    {
     "data": {
      "image/png": "[encoded data removed]",
      "text/plain": [
       "<Figure size 864x360 with 1 Axes>"
      ]
     },
     "metadata": {
      "needs_background": "light"
     },
     "output_type": "display_data"
    }
   ],
   "source": [
    "draw_plot(x = [[i for i in range(len(history))], [(i+1)*breakpoint for i in range(len(checkpoints))]], y_list = [train_cce, [ ckp[model.loss_fn] for ckp in checkpoints ]], x_label = 'Epochs', \\\n",
    "    y_label = model.loss_fn, legend=['train', 'test'])\n",
    "acc = [ ckp['accuracy'] for ckp in checkpoints ]\n",
    "draw_plot(x = [[i for i in range(len(history))], [(i+1)*breakpoint for i in range(len(checkpoints))]], y_list = [train_acc, acc], x_label = 'Checkpoints', \\\n",
    "    y_label = 'accuracy', legend=['train', 'test'])"
   ]
  },
  {
   "cell_type": "code",
   "execution_count": 12,
   "metadata": {},
   "outputs": [
    {
     "name": "stdout",
     "output_type": "stream",
     "text": [
      "[0. 1. 0.] <-> [0.49065164 0.4823211  0.02702729]\n",
      "[1. 0. 0.] <-> [0.8241834  0.04404015 0.13177644]\n",
      "[0. 1. 0.] <-> [0.23575127 0.75367814 0.0105706 ]\n",
      "[1. 0. 0.] <-> [0.80578244 0.06137305 0.13284452]\n",
      "[0. 0. 1.] <-> [0.2601547  0.01222499 0.7276203 ]\n",
      "[0. 0. 1.] <-> [0.24952473 0.00942112 0.7410541 ]\n",
      "[1. 0. 0.] <-> [0.77133614 0.15106435 0.07759954]\n",
      "[1. 0. 0.] <-> [0.70358163 0.04068654 0.25573182]\n",
      "[1. 0. 0.] <-> [0.7734585  0.16425878 0.06228277]\n",
      "[0. 0. 1.] <-> [0.2618033  0.00970508 0.7284916 ]\n",
      "[1. 0. 0.] <-> [0.84673333 0.05920495 0.0940617 ]\n",
      "[1. 0. 0.] <-> [0.8008554  0.12021535 0.07892919]\n",
      "[0. 1. 0.] <-> [0.26858523 0.7183559  0.0130589 ]\n",
      "[1. 0. 0.] <-> [0.80150825 0.08888016 0.10961158]\n",
      "[1. 0. 0.] <-> [0.80498713 0.10807128 0.08694159]\n",
      "[0. 1. 0.] <-> [0.53054434 0.4401969  0.0292587 ]\n",
      "[1. 0. 0.] <-> [0.8068238  0.04484915 0.1483271 ]\n",
      "[1. 0. 0.] <-> [0.8272962  0.08950353 0.08320029]\n",
      "[1. 0. 0.] <-> [0.779468   0.14693472 0.07359732]\n",
      "[1. 0. 0.] <-> [0.8187391  0.05851058 0.12275022]\n",
      "[0. 1. 0.] <-> [0.19871828 0.7932018  0.00807987]\n",
      "[0. 1. 0.] <-> [0.25726795 0.7308712  0.01186077]\n",
      "[1. 0. 0.] <-> [0.7311403  0.21040913 0.05845059]\n",
      "[1. 0. 0.] <-> [0.8155918  0.05439064 0.13001761]\n",
      "[1. 0. 0.] <-> [0.79428643 0.06072059 0.14499296]\n",
      "[1. 0. 0.] <-> [0.8045002  0.09736511 0.09813468]\n",
      "[1. 0. 0.] <-> [0.8230901  0.08908144 0.08782849]\n",
      "[1. 0. 0.] <-> [0.7774183  0.16109365 0.06148806]\n",
      "[0. 1. 0.] <-> [0.43517554 0.54093593 0.02388852]\n",
      "[1. 0. 0.] <-> [0.835393   0.0704675  0.09413952]\n",
      "[1. 0. 0.] <-> [0.7850006  0.05560405 0.15939532]\n",
      "[1. 0. 0.] <-> [0.7910148  0.1420234  0.06696178]\n",
      "[1. 0. 0.] <-> [0.7778434  0.04418322 0.17797336]\n",
      "[1. 0. 0.] <-> [0.7937528  0.12047291 0.0857743 ]\n",
      "[1. 0. 0.] <-> [0.81641805 0.09375373 0.08982817]\n",
      "[1. 0. 0.] <-> [0.8225204  0.06330966 0.11416998]\n",
      "[1. 0. 0.] <-> [0.80478793 0.04558082 0.14963123]\n",
      "[1. 0. 0.] <-> [0.7819317  0.11066876 0.10739952]\n",
      "[1. 0. 0.] <-> [0.7116993  0.24136809 0.04693257]\n",
      "[1. 0. 0.] <-> [0.77384585 0.16396438 0.06218981]\n",
      "[1. 0. 0.] <-> [0.81892127 0.04962094 0.13145784]\n",
      "[1. 0. 0.] <-> [0.83344907 0.07918903 0.08736199]\n",
      "[1. 0. 0.] <-> [0.7995732  0.14059444 0.05983243]\n",
      "[1. 0. 0.] <-> [0.6633681 0.2958969 0.040735 ]\n",
      "[1. 0. 0.] <-> [0.80384654 0.1160086  0.08014482]\n",
      "[1. 0. 0.] <-> [0.74691176 0.05575281 0.19733545]\n",
      "[1. 0. 0.] <-> [0.7628844  0.06865939 0.16845615]\n",
      "[0. 1. 0.] <-> [0.196056   0.79607475 0.00786928]\n",
      "[0. 0. 1.] <-> [0.31094128 0.01222937 0.67682934]\n",
      "[0. 1. 0.] <-> [0.6782734  0.28196287 0.03976371]\n",
      "[0. 0. 1.] <-> [0.24855673 0.00910239 0.7423409 ]\n",
      "[1. 0. 0.] <-> [0.8075339  0.06859042 0.12387569]\n",
      "[1. 0. 0.] <-> [0.81445026 0.1207401  0.06480969]\n",
      "[1. 0. 0.] <-> [0.8072725  0.04122269 0.15150489]\n",
      "[0. 0. 1.] <-> [0.6760882  0.0317945  0.29211724]\n",
      "[1. 0. 0.] <-> [0.7568729  0.06037278 0.18275435]\n",
      "[1. 0. 0.] <-> [0.80357087 0.08821288 0.10821624]\n",
      "[0. 1. 0.] <-> [0.504875   0.46137545 0.03374956]\n",
      "[1. 0. 0.] <-> [0.81445557 0.11223259 0.07331194]\n",
      "[1. 0. 0.] <-> [0.8235518  0.04632071 0.13012744]\n",
      "[1. 0. 0.] <-> [0.7936967  0.07961438 0.12668893]\n",
      "[0. 0. 1.] <-> [0.5826482  0.03061615 0.38673562]\n",
      "[1. 0. 0.] <-> [0.7694837  0.1129204  0.11759584]\n",
      "[1. 0. 0.] <-> [0.7582295  0.06353429 0.1782363 ]\n",
      "[1. 0. 0.] <-> [0.794759   0.07411692 0.13112415]\n",
      "[1. 0. 0.] <-> [0.7979599  0.06323822 0.13880184]\n",
      "[1. 0. 0.] <-> [0.77018523 0.05956454 0.1702502 ]\n",
      "[1. 0. 0.] <-> [0.8084096  0.06889729 0.12269314]\n",
      "[1. 0. 0.] <-> [0.8269161  0.07270428 0.10037961]\n",
      "[0. 1. 0.] <-> [0.1941402  0.79823965 0.0076201 ]\n",
      "[0. 1. 0.] <-> [0.39984393 0.58027583 0.01988028]\n",
      "[0. 0. 1.] <-> [0.26005638 0.00946955 0.73047405]\n",
      "[1. 0. 0.] <-> [0.79131025 0.12971357 0.07897611]\n",
      "[1. 0. 0.] <-> [0.83244157 0.09135906 0.0761993 ]\n",
      "[1. 0. 0.] <-> [0.75219727 0.03919691 0.20860583]\n",
      "[1. 0. 0.] <-> [0.7982689  0.10746669 0.09426434]\n",
      "[1. 0. 0.] <-> [0.75435114 0.18141952 0.06422933]\n",
      "[1. 0. 0.] <-> [0.79851115 0.0830965  0.11839227]\n",
      "[1. 0. 0.] <-> [0.8081165  0.0473859  0.14449756]\n",
      "[0. 1. 0.] <-> [0.37355036 0.60637313 0.02007643]\n",
      "[1. 0. 0.] <-> [0.59570956 0.04030436 0.36398607]\n",
      "[1. 0. 0.] <-> [0.7210657  0.04856619 0.23036811]\n",
      "[1. 0. 0.] <-> [0.7556776  0.18375619 0.06056634]\n",
      "[1. 0. 0.] <-> [0.74414325 0.20217419 0.05368255]\n",
      "[0. 0. 1.] <-> [0.3362832  0.01449728 0.6492195 ]\n",
      "[1. 0. 0.] <-> [0.76893884 0.17349093 0.05757023]\n",
      "[1. 0. 0.] <-> [0.83132297 0.05665882 0.11201821]\n",
      "[1. 0. 0.] <-> [0.83272505 0.07842885 0.08884619]\n",
      "[1. 0. 0.] <-> [0.8351507  0.07073024 0.09411904]\n",
      "[1. 0. 0.] <-> [0.7956369  0.04057415 0.16378897]\n",
      "[1. 0. 0.] <-> [0.8357891  0.08320484 0.08100607]\n",
      "[1. 0. 0.] <-> [0.7717171  0.17359115 0.05469176]\n",
      "[0. 1. 0.] <-> [0.5932343  0.3734263  0.03333946]\n",
      "[1. 0. 0.] <-> [0.76575464 0.14191468 0.09233063]\n",
      "[1. 0. 0.] <-> [0.79536796 0.08148149 0.1231506 ]\n",
      "[0. 0. 1.] <-> [0.35020763 0.01513972 0.6346527 ]\n",
      "[0. 0. 1.] <-> [0.74730587 0.03042172 0.2222724 ]\n",
      "[0. 0. 1.] <-> [0.32277298 0.01498557 0.6622414 ]\n",
      "[0. 1. 0.] <-> [0.37704417 0.5999363  0.02301947]\n",
      "[1. 0. 0.] <-> [0.81544685 0.10130629 0.08324683]\n",
      "[1. 0. 0.] <-> [0.825248   0.08536414 0.08938777]\n",
      "[1. 0. 0.] <-> [0.74601257 0.17917642 0.074811  ]\n",
      "[1. 0. 0.] <-> [0.8120741  0.09156657 0.09635937]\n",
      "[1. 0. 0.] <-> [0.7751231  0.04502007 0.17985685]\n",
      "[1. 0. 0.] <-> [0.80973583 0.12273078 0.06753341]\n",
      "[0. 0. 1.] <-> [0.27855614 0.01076829 0.7106756 ]\n",
      "[1. 0. 0.] <-> [0.81702554 0.06845883 0.11451567]\n",
      "[1. 0. 0.] <-> [0.7802611  0.11575419 0.10398474]\n",
      "{'accuracy': 0.9506172839506173, 'mean_square_error': 0.1467116795707616, 'categorical_crossentropy': 0.3208685980902778, 'essential_metrics': {0: {'tp_hit': 80, 'fp_hit': 8, 'tn_hit': 20, 'fn_hit': 0}, 1: {'tp_hit': 10, 'fp_hit': 0, 'tn_hit': 93, 'fn_hit': 5}, 2: {'tp_hit': 10, 'fp_hit': 0, 'tn_hit': 95, 'fn_hit': 3}}}\n"
     ]
    }
   ],
   "source": [
    "# recall phase\n",
    "score = model.evaluate(x_test, y_test, False)\n",
    "print(score)"
   ]
  },
  {
   "cell_type": "code",
   "execution_count": 13,
   "metadata": {},
   "outputs": [
    {
     "name": "stdout",
     "output_type": "stream",
     "text": [
      "{'accuracy': 0.808641975308642, 'mean_square_error': 0.4734695667070427, 'categorical_crossentropy': 0.929828926368996, 'essential_metrics': {0: {'tp_hit': 76, 'fp_hit': 24, 'tn_hit': 4, 'fn_hit': 4}, 1: {'tp_hit': 1, 'fp_hit': 7, 'tn_hit': 86, 'fn_hit': 14}, 2: {'tp_hit': 0, 'fp_hit': 0, 'tn_hit': 95, 'fn_hit': 13}}, 'checkpoint': 10} \n",
      "\n",
      "\n",
      "{'accuracy': 0.8703703703703703, 'mean_square_error': 0.484491387051306, 'categorical_crossentropy': 0.8508549442997685, 'essential_metrics': {0: {'tp_hit': 75, 'fp_hit': 13, 'tn_hit': 15, 'fn_hit': 5}, 1: {'tp_hit': 12, 'fp_hit': 3, 'tn_hit': 90, 'fn_hit': 3}, 2: {'tp_hit': 0, 'fp_hit': 5, 'tn_hit': 90, 'fn_hit': 13}}, 'checkpoint': 20} \n",
      "\n",
      "\n",
      "{'accuracy': 0.8641975308641975, 'mean_square_error': 0.3576605650830597, 'categorical_crossentropy': 0.672580153853805, 'essential_metrics': {0: {'tp_hit': 80, 'fp_hit': 16, 'tn_hit': 12, 'fn_hit': 0}, 1: {'tp_hit': 6, 'fp_hit': 6, 'tn_hit': 87, 'fn_hit': 9}, 2: {'tp_hit': 0, 'fp_hit': 0, 'tn_hit': 95, 'fn_hit': 13}}, 'checkpoint': 30} \n",
      "\n",
      "\n",
      "{'accuracy': 0.9691358024691358, 'mean_square_error': 0.31637331766209836, 'categorical_crossentropy': 0.5882869649816442, 'essential_metrics': {0: {'tp_hit': 80, 'fp_hit': 5, 'tn_hit': 23, 'fn_hit': 0}, 1: {'tp_hit': 13, 'fp_hit': 0, 'tn_hit': 93, 'fn_hit': 2}, 2: {'tp_hit': 10, 'fp_hit': 0, 'tn_hit': 95, 'fn_hit': 3}}, 'checkpoint': 40} \n",
      "\n",
      "\n",
      "{'accuracy': 0.9320987654320988, 'mean_square_error': 0.27898232946682916, 'categorical_crossentropy': 0.5244251533790871, 'essential_metrics': {0: {'tp_hit': 80, 'fp_hit': 11, 'tn_hit': 17, 'fn_hit': 0}, 1: {'tp_hit': 11, 'fp_hit': 0, 'tn_hit': 93, 'fn_hit': 4}, 2: {'tp_hit': 6, 'fp_hit': 0, 'tn_hit': 95, 'fn_hit': 7}}, 'checkpoint': 50} \n",
      "\n",
      "\n",
      "{'accuracy': 0.8950617283950617, 'mean_square_error': 0.23791149556111077, 'categorical_crossentropy': 0.45337270807336877, 'essential_metrics': {0: {'tp_hit': 80, 'fp_hit': 17, 'tn_hit': 11, 'fn_hit': 0}, 1: {'tp_hit': 8, 'fp_hit': 0, 'tn_hit': 93, 'fn_hit': 7}, 2: {'tp_hit': 3, 'fp_hit': 0, 'tn_hit': 95, 'fn_hit': 10}}, 'checkpoint': 60} \n",
      "\n",
      "\n",
      "{'accuracy': 0.8827160493827161, 'mean_square_error': 0.23019726760483913, 'categorical_crossentropy': 0.4176624439380787, 'essential_metrics': {0: {'tp_hit': 80, 'fp_hit': 19, 'tn_hit': 9, 'fn_hit': 0}, 1: {'tp_hit': 6, 'fp_hit': 0, 'tn_hit': 93, 'fn_hit': 9}, 2: {'tp_hit': 3, 'fp_hit': 0, 'tn_hit': 95, 'fn_hit': 10}}, 'checkpoint': 70} \n",
      "\n",
      "\n",
      "{'accuracy': 0.9320987654320988, 'mean_square_error': 0.18456461094717286, 'categorical_crossentropy': 0.37837406441017435, 'essential_metrics': {0: {'tp_hit': 80, 'fp_hit': 11, 'tn_hit': 17, 'fn_hit': 0}, 1: {'tp_hit': 8, 'fp_hit': 0, 'tn_hit': 93, 'fn_hit': 7}, 2: {'tp_hit': 9, 'fp_hit': 0, 'tn_hit': 95, 'fn_hit': 4}}, 'checkpoint': 80} \n",
      "\n",
      "\n",
      "{'accuracy': 0.9259259259259259, 'mean_square_error': 0.18557605849161674, 'categorical_crossentropy': 0.3562093664098669, 'essential_metrics': {0: {'tp_hit': 80, 'fp_hit': 12, 'tn_hit': 16, 'fn_hit': 0}, 1: {'tp_hit': 6, 'fp_hit': 0, 'tn_hit': 93, 'fn_hit': 9}, 2: {'tp_hit': 10, 'fp_hit': 0, 'tn_hit': 95, 'fn_hit': 3}}, 'checkpoint': 90} \n",
      "\n",
      "\n",
      "{'accuracy': 0.9320987654320988, 'mean_square_error': 0.17350554434774537, 'categorical_crossentropy': 0.3528370327419705, 'essential_metrics': {0: {'tp_hit': 80, 'fp_hit': 11, 'tn_hit': 17, 'fn_hit': 0}, 1: {'tp_hit': 7, 'fp_hit': 0, 'tn_hit': 93, 'fn_hit': 8}, 2: {'tp_hit': 10, 'fp_hit': 0, 'tn_hit': 95, 'fn_hit': 3}}, 'checkpoint': 100} \n",
      "\n",
      "\n",
      "{'accuracy': 0.9444444444444444, 'mean_square_error': 0.1601051214958942, 'categorical_crossentropy': 0.3283471707944517, 'essential_metrics': {0: {'tp_hit': 80, 'fp_hit': 9, 'tn_hit': 19, 'fn_hit': 0}, 1: {'tp_hit': 8, 'fp_hit': 0, 'tn_hit': 93, 'fn_hit': 7}, 2: {'tp_hit': 11, 'fp_hit': 0, 'tn_hit': 95, 'fn_hit': 2}}, 'checkpoint': 110} \n",
      "\n",
      "\n",
      "{'accuracy': 0.9444444444444444, 'mean_square_error': 0.15413209567181863, 'categorical_crossentropy': 0.3292554925989222, 'essential_metrics': {0: {'tp_hit': 80, 'fp_hit': 9, 'tn_hit': 19, 'fn_hit': 0}, 1: {'tp_hit': 9, 'fp_hit': 0, 'tn_hit': 93, 'fn_hit': 6}, 2: {'tp_hit': 10, 'fp_hit': 0, 'tn_hit': 95, 'fn_hit': 3}}, 'checkpoint': 120} \n",
      "\n",
      "\n",
      "{'accuracy': 0.9259259259259259, 'mean_square_error': 0.16673930841881446, 'categorical_crossentropy': 0.34472292440908925, 'essential_metrics': {0: {'tp_hit': 80, 'fp_hit': 12, 'tn_hit': 16, 'fn_hit': 0}, 1: {'tp_hit': 6, 'fp_hit': 0, 'tn_hit': 93, 'fn_hit': 9}, 2: {'tp_hit': 10, 'fp_hit': 0, 'tn_hit': 95, 'fn_hit': 3}}, 'checkpoint': 130} \n",
      "\n",
      "\n",
      "{'accuracy': 0.9382716049382716, 'mean_square_error': 0.1625386850769076, 'categorical_crossentropy': 0.3417784372965495, 'essential_metrics': {0: {'tp_hit': 80, 'fp_hit': 10, 'tn_hit': 18, 'fn_hit': 0}, 1: {'tp_hit': 8, 'fp_hit': 0, 'tn_hit': 93, 'fn_hit': 7}, 2: {'tp_hit': 10, 'fp_hit': 0, 'tn_hit': 95, 'fn_hit': 3}}, 'checkpoint': 140} \n",
      "\n",
      "\n",
      "{'accuracy': 0.9444444444444444, 'mean_square_error': 0.15788045123353434, 'categorical_crossentropy': 0.3313241181550203, 'essential_metrics': {0: {'tp_hit': 80, 'fp_hit': 9, 'tn_hit': 19, 'fn_hit': 0}, 1: {'tp_hit': 9, 'fp_hit': 0, 'tn_hit': 93, 'fn_hit': 6}, 2: {'tp_hit': 10, 'fp_hit': 0, 'tn_hit': 95, 'fn_hit': 3}}, 'checkpoint': 150} \n",
      "\n",
      "\n",
      "{'accuracy': 0.9506172839506173, 'mean_square_error': 0.15713470800118876, 'categorical_crossentropy': 0.3389479672467267, 'essential_metrics': {0: {'tp_hit': 80, 'fp_hit': 8, 'tn_hit': 20, 'fn_hit': 0}, 1: {'tp_hit': 10, 'fp_hit': 0, 'tn_hit': 93, 'fn_hit': 5}, 2: {'tp_hit': 10, 'fp_hit': 0, 'tn_hit': 95, 'fn_hit': 3}}, 'checkpoint': 160} \n",
      "\n",
      "\n",
      "{'accuracy': 0.9567901234567902, 'mean_square_error': 0.1449204849049568, 'categorical_crossentropy': 0.31710631759078417, 'essential_metrics': {0: {'tp_hit': 80, 'fp_hit': 7, 'tn_hit': 21, 'fn_hit': 0}, 1: {'tp_hit': 11, 'fp_hit': 0, 'tn_hit': 93, 'fn_hit': 4}, 2: {'tp_hit': 10, 'fp_hit': 0, 'tn_hit': 95, 'fn_hit': 3}}, 'checkpoint': 170} \n",
      "\n",
      "\n",
      "{'accuracy': 0.9567901234567902, 'mean_square_error': 0.15195556897510856, 'categorical_crossentropy': 0.32367787537751375, 'essential_metrics': {0: {'tp_hit': 80, 'fp_hit': 7, 'tn_hit': 21, 'fn_hit': 0}, 1: {'tp_hit': 11, 'fp_hit': 0, 'tn_hit': 93, 'fn_hit': 4}, 2: {'tp_hit': 10, 'fp_hit': 0, 'tn_hit': 95, 'fn_hit': 3}}, 'checkpoint': 180} \n",
      "\n",
      "\n",
      "{'accuracy': 0.9567901234567902, 'mean_square_error': 0.1495697634717555, 'categorical_crossentropy': 0.3309975023622866, 'essential_metrics': {0: {'tp_hit': 80, 'fp_hit': 7, 'tn_hit': 21, 'fn_hit': 0}, 1: {'tp_hit': 11, 'fp_hit': 0, 'tn_hit': 93, 'fn_hit': 4}, 2: {'tp_hit': 10, 'fp_hit': 0, 'tn_hit': 95, 'fn_hit': 3}}, 'checkpoint': 190} \n",
      "\n",
      "\n",
      "{'accuracy': 0.9506172839506173, 'mean_square_error': 0.1467116795707616, 'categorical_crossentropy': 0.3208685980902778, 'essential_metrics': {0: {'tp_hit': 80, 'fp_hit': 8, 'tn_hit': 20, 'fn_hit': 0}, 1: {'tp_hit': 10, 'fp_hit': 0, 'tn_hit': 93, 'fn_hit': 5}, 2: {'tp_hit': 10, 'fp_hit': 0, 'tn_hit': 95, 'fn_hit': 3}}, 'checkpoint': 200} \n",
      "\n",
      "\n"
     ]
    }
   ],
   "source": [
    "for checkpoint in checkpoints:\n",
    "    print(checkpoint, '\\n\\n')"
   ]
  },
  {
   "cell_type": "code",
   "execution_count": 14,
   "metadata": {},
   "outputs": [
    {
     "name": "stdout",
     "output_type": "stream",
     "text": [
      "Layer 1\n",
      "Neuron 0: weights:\n",
      "[-0.32545075  0.89148384  0.31137553 -0.71581674 -0.8591189 ]\n",
      " bias: 0.9765171408653259\n",
      "\n",
      "Neuron 1: weights:\n",
      "[ 0.32302418 -0.60706264 -0.17457682  0.43075082  0.51632893]\n",
      " bias: -0.3106807470321655\n",
      "\n",
      "Neuron 2: weights:\n",
      "[ 0.4567591  -1.2057079  -0.750227   -0.10347507  0.27014   ]\n",
      " bias: 0.6560513377189636\n",
      "\n",
      "Neuron 3: weights:\n",
      "[-0.37271497  1.1920367   0.78829604 -0.01784757 -0.17126843]\n",
      " bias: -0.43328946828842163\n",
      "\n",
      "$\n",
      "Layer 2\n",
      "Neuron 0: weights:\n",
      "[ 1.175406   -0.56297606  1.0023925  -0.8983291 ]\n",
      " bias: 0.0997314527630806\n",
      "\n",
      "Neuron 1: weights:\n",
      "[ 0.55922735 -1.0272336  -1.7597134   1.3552877 ]\n",
      " bias: -0.07572799921035767\n",
      "\n",
      "Neuron 2: weights:\n",
      "[-1.8341824   1.3912423   0.49604467 -0.887365  ]\n",
      " bias: -0.24622642993927002\n",
      "\n",
      "$\n",
      "\n"
     ]
    }
   ],
   "source": [
    "print(model)"
   ]
  }
 ],
 "metadata": {
  "kernelspec": {
   "display_name": "Python 3",
   "language": "python",
   "name": "python3"
  },
  "language_info": {
   "codemirror_mode": {
    "name": "ipython",
    "version": 3
   },
   "file_extension": ".py",
   "mimetype": "text/x-python",
   "name": "python",
   "nbconvert_exporter": "python",
   "pygments_lexer": "ipython3",
   "version": "3.6.12"
  }
 },
 "nbformat": 4,
 "nbformat_minor": 2
}
