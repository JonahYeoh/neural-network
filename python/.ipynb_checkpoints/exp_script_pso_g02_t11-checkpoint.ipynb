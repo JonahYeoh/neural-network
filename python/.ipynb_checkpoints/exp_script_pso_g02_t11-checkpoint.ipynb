{
 "cells": [
  {
   "cell_type": "code",
   "execution_count": 1,
   "metadata": {},
   "outputs": [],
   "source": [
    "# dependency\n",
    "import numpy as np\n",
    "import pandas as pd\n",
    "import copy\n",
    "import math\n",
    "import sys\n",
    "import os\n",
    "from activations import relu, leaky_relu, sigmoid, tanh, softmax, d_sigmoid, d_relu\n",
    "from initializers import glorot_uniform, random_normal, random_uniform\n",
    "from regularizers import l1_regularizer, l2_regularizer\n",
    "from utility import trim_tail, multiply, subtract, get_nparams, one_hot_encoding, get_data\n",
    "from metrics import MSE, CCE, ACC, PRECISION, RECALL, essential_metrics, wondering_penalty, close_gap_penalty\n",
    "from pso import PSO\n",
    "from ga import GA\n",
    "from nn import Network\n",
    "from layer import DenseLayer\n",
    "from scalers import MinMaxScaler, StandardScaler"
   ]
  },
  {
   "cell_type": "code",
   "execution_count": 2,
   "metadata": {},
   "outputs": [],
   "source": [
    "# reference\n",
    "metrics_fn_dict = dict()\n",
    "metrics_fn_dict['accuracy'] = ACC\n",
    "metrics_fn_dict['categorical_crossentropy'] = CCE\n",
    "metrics_fn_dict['mean_square_error'] = MSE\n",
    "metrics_fn_dict['precision'] = PRECISION\n",
    "metrics_fn_dict['recall'] = RECALL\n",
    "metrics_fn_dict['essential_metrics'] = essential_metrics"
   ]
  },
  {
   "cell_type": "code",
   "execution_count": 3,
   "metadata": {},
   "outputs": [],
   "source": [
    "# model\n",
    "model = Network(5, lr = None)\n",
    "model.add_layer(DenseLayer(1, 4, True, afn=sigmoid, dafn=None, rfn=None))\n",
    "model.add_layer(DenseLayer(2, 3, True, afn=softmax, dafn=None, rfn=None))"
   ]
  },
  {
   "cell_type": "code",
   "execution_count": 4,
   "metadata": {},
   "outputs": [
    {
     "name": "stdout",
     "output_type": "stream",
     "text": [
      "see one see two 2 2\n"
     ]
    }
   ],
   "source": [
    "pso = PSO(dict(m = 200,\n",
    "    weight_constraint = [-3, 3], \n",
    "    velocity_constraint = [-0.1, 0.1],\n",
    "    c1 = 2,\n",
    "    c2 = 2,\n",
    "    w = 1,\n",
    "    w_decay = 1,\n",
    "    scale_hyperparameter = False,\n",
    "    regularizer = None,\n",
    "    mask = True))"
   ]
  },
  {
   "cell_type": "code",
   "execution_count": 5,
   "metadata": {},
   "outputs": [
    {
     "name": "stdout",
     "output_type": "stream",
     "text": [
      "building layer 1 with 5\n",
      "24\n",
      "building layer 2 with 4\n",
      "15\n"
     ]
    }
   ],
   "source": [
    "model.compile(loss_fn = 'categorical_crossentropy', optimizer = pso, \\\n",
    "    metrics = ['accuracy', 'mean_square_error', 'categorical_crossentropy'])"
   ]
  },
  {
   "cell_type": "code",
   "execution_count": 6,
   "metadata": {},
   "outputs": [
    {
     "name": "stdout",
     "output_type": "stream",
     "text": [
      "<class 'pandas.core.frame.DataFrame'>\n",
      "RangeIndex: 107 entries, 0 to 106\n",
      "Data columns (total 6 columns):\n",
      " #   Column  Non-Null Count  Dtype  \n",
      "---  ------  --------------  -----  \n",
      " 0   f1      107 non-null    float32\n",
      " 1   f2      107 non-null    float32\n",
      " 2   f3      107 non-null    float32\n",
      " 3   f4      107 non-null    float32\n",
      " 4   f5      107 non-null    float32\n",
      " 5   label   107 non-null    float32\n",
      "dtypes: float32(6)\n",
      "memory usage: 2.6 KB\n",
      "None\n",
      "<class 'pandas.core.frame.DataFrame'>\n",
      "RangeIndex: 108 entries, 0 to 107\n",
      "Data columns (total 6 columns):\n",
      " #   Column  Non-Null Count  Dtype  \n",
      "---  ------  --------------  -----  \n",
      " 0   f1      108 non-null    float32\n",
      " 1   f2      108 non-null    float32\n",
      " 2   f3      108 non-null    float32\n",
      " 3   f4      108 non-null    float32\n",
      " 4   f5      108 non-null    float32\n",
      " 5   label   108 non-null    float32\n",
      "dtypes: float32(6)\n",
      "memory usage: 2.7 KB\n",
      "None\n"
     ]
    }
   ],
   "source": [
    "# data loading\n",
    "DATA = os.path.join('c:\\\\Users\\\\tcumi\\\\github_repo\\\\neural-network\\\\', 'dataset')\n",
    "GROUP = 2\n",
    "COLUMNS = ['f1', 'f2', 'f3', 'f4', 'f5', 'label']\n",
    "N_CLASS = 3\n",
    "EPOCHS = 500\n",
    "train_dir, test_dir = \"..//dataset//training_data{}.txt\".format(GROUP), \"..//dataset//testing_data{}.txt\".format(GROUP)\n",
    "train, test = get_data(DATA, train_dir, COLUMNS), get_data(DATA, test_dir, COLUMNS)\n",
    "# shuffle\n",
    "train, test = train.sample(frac=1), test.sample(frac=1)\n",
    "x_train, y_train = train.drop('label', axis=1), train['label']\n",
    "x_test, y_test = test.drop('label', axis=1), test['label']"
   ]
  },
  {
   "cell_type": "code",
   "execution_count": 7,
   "metadata": {},
   "outputs": [],
   "source": [
    "# data scaling and encoding\n",
    "scaler = StandardScaler(['f1', 'f2', 'f3', 'f4', 'f5'])\n",
    "scaler.fit(x_train)\n",
    "x_train = scaler.transform(x_train)\n",
    "x_test = scaler.transform(x_test)\n",
    "y_train = one_hot_encoding(y_train, N_CLASS)\n",
    "y_test = one_hot_encoding(y_test, N_CLASS)"
   ]
  },
  {
   "cell_type": "code",
   "execution_count": 8,
   "metadata": {
    "scrolled": true,
    "tags": [
     "outputPrepend"
    ]
   },
   "outputs": [
    {
     "name": "stdout",
     "output_type": "stream",
     "text": [
      "Checkpoint 100, Accuracy: 0.9506172839506173, Loss: 0.23906852580882884\n",
      "Checkpoint 200, Accuracy: 0.9753086419753086, Loss: 0.10452168076126664\n",
      "Checkpoint 300, Accuracy: 0.9691358024691358, Loss: 0.10922369250544796\n",
      "Checkpoint 400, Accuracy: 0.9691358024691358, Loss: 0.10287915335761176\n",
      "Checkpoint 500, Accuracy: 0.9691358024691358, Loss: 0.1062491911428946\n"
     ]
    }
   ],
   "source": [
    "# learning phase\n",
    "breakpoint = 100\n",
    "checkpoints = list()\n",
    "history = list()\n",
    "for century in range(0, EPOCHS, breakpoint):\n",
    "    sub_history = model.fit(x_train, y_train, breakpoint, verbose = 0)\n",
    "    score = model.evaluate(x_test, y_test, False, verbose = 0)\n",
    "    print('Checkpoint {}, Accuracy: {}, Loss: {}'.format(century+breakpoint, score['accuracy'], score[model.loss_fn]))\n",
    "    score['checkpoint'] = century + breakpoint\n",
    "    checkpoints.append(score)\n",
    "    history.extend(sub_history)"
   ]
  },
  {
   "cell_type": "code",
   "execution_count": 9,
   "metadata": {},
   "outputs": [],
   "source": [
    "import matplotlib.pyplot as plt\n",
    "\n",
    "def draw_plot(x, y_list, x_label=None, y_label=None, legend=None, title=None):\n",
    "    fig, ax = plt.subplots(figsize=(12,5))\n",
    "    for xi, yi in zip(x, y_list):\n",
    "        ax.plot(xi, yi)\n",
    "    if x_label is not None and y_label is not None:\n",
    "        ax.set(xlabel=x_label, ylabel=y_label, title='{} VS {}'.format(x_label, y_label))\n",
    "    if legend is not None:\n",
    "        ax.legend(legend)\n",
    "    ax.grid()\n",
    "    plt.show()"
   ]
  },
  {
   "cell_type": "code",
   "execution_count": 10,
   "metadata": {},
   "outputs": [
    {
     "name": "stdout",
     "output_type": "stream",
     "text": [
      "[1. 0. 0.] <-> [0.9913594  0.00114354 0.00749702]\n",
      "[0. 1. 0.] <-> [7.3885713e-03 9.9256366e-01 4.7764628e-05]\n",
      "[1. 0. 0.] <-> [0.99692947 0.00156178 0.00150867]\n",
      "[1. 0. 0.] <-> [0.9946262  0.00127964 0.00409423]\n",
      "[0. 1. 0.] <-> [5.2519497e-02 9.4716525e-01 3.1529024e-04]\n",
      "[0. 0. 1.] <-> [6.2000942e-03 6.9363459e-06 9.9379289e-01]\n",
      "[1. 0. 0.] <-> [0.997343   0.00136564 0.00129144]\n",
      "[1. 0. 0.] <-> [0.9937784  0.00125393 0.00496762]\n",
      "[1. 0. 0.] <-> [0.98993635 0.00113339 0.00893028]\n",
      "[1. 0. 0.] <-> [0.9950477  0.00366248 0.00128981]\n",
      "[0. 0. 1.] <-> [7.0156418e-03 7.9536530e-06 9.9297637e-01]\n",
      "[1. 0. 0.] <-> [0.9971762  0.00136788 0.00145601]\n",
      "[0. 1. 0.] <-> [9.6237324e-03 9.9031979e-01 5.6424025e-05]\n",
      "[1. 0. 0.] <-> [0.99711967 0.00163193 0.00124845]\n",
      "[0. 0. 1.] <-> [6.4543737e-03 7.2197568e-06 9.9353844e-01]\n",
      "[1. 0. 0.] <-> [0.9966364  0.0021084  0.00125524]\n",
      "[1. 0. 0.] <-> [0.9967636  0.00185286 0.00138357]\n",
      "[1. 0. 0.] <-> [0.9928301  0.00117879 0.00599106]\n",
      "[1. 0. 0.] <-> [0.9953448  0.00134759 0.00330759]\n",
      "[1. 0. 0.] <-> [0.99598783 0.00239791 0.00161427]\n",
      "[1. 0. 0.] <-> [0.99711907 0.00137389 0.00150713]\n",
      "[1. 0. 0.] <-> [0.99628866 0.00238226 0.00132909]\n",
      "[1. 0. 0.] <-> [0.97826844 0.00111761 0.02061394]\n",
      "[1. 0. 0.] <-> [0.97178143 0.00109955 0.02711898]\n",
      "[1. 0. 0.] <-> [3.1324822e-01 3.5802968e-04 6.8639380e-01]\n",
      "[1. 0. 0.] <-> [0.99692684 0.00154882 0.00152443]\n",
      "[0. 1. 0.] <-> [0.40574408 0.593156   0.00109999]\n",
      "[0. 1. 0.] <-> [0.28526852 0.7138154  0.00091614]\n",
      "[0. 1. 0.] <-> [1.1019909e-02 9.8891079e-01 6.9324087e-05]\n",
      "[0. 0. 1.] <-> [6.0289619e-03 6.7437472e-06 9.9396425e-01]\n",
      "[1. 0. 0.] <-> [0.85452354 0.00095845 0.14451797]\n",
      "[1. 0. 0.] <-> [0.9962536  0.00254443 0.00120206]\n",
      "[1. 0. 0.] <-> [0.9967289  0.00195399 0.00131711]\n",
      "[1. 0. 0.] <-> [0.9957789  0.00133713 0.00288393]\n",
      "[1. 0. 0.] <-> [0.9877166  0.01077778 0.00150557]\n",
      "[1. 0. 0.] <-> [0.40445146 0.59423554 0.00131302]\n",
      "[1. 0. 0.] <-> [0.9971294  0.00129856 0.0015721 ]\n",
      "[1. 0. 0.] <-> [0.99348336 0.00122719 0.0052894 ]\n",
      "[1. 0. 0.] <-> [0.99642426 0.0013012  0.00227462]\n",
      "[0. 1. 0.] <-> [1.8824412e-02 9.8106670e-01 1.0885879e-04]\n",
      "[1. 0. 0.] <-> [1.6218897e-02 1.8155937e-05 9.8376298e-01]\n",
      "[1. 0. 0.] <-> [0.95705336 0.00133243 0.04161421]\n",
      "[1. 0. 0.] <-> [0.9965224  0.0022287  0.00124893]\n",
      "[1. 0. 0.] <-> [0.9949626  0.00130039 0.00373697]\n",
      "[1. 0. 0.] <-> [0.99633527 0.00244041 0.00122426]\n",
      "[0. 0. 1.] <-> [6.0739769e-03 6.7941673e-06 9.9391925e-01]\n",
      "[1. 0. 0.] <-> [0.9912714  0.00112233 0.00760628]\n",
      "[1. 0. 0.] <-> [0.99683124 0.00145969 0.001709  ]\n",
      "[1. 0. 0.] <-> [0.99653816 0.00153557 0.00192629]\n",
      "[0. 1. 0.] <-> [5.4630991e-03 9.9450123e-01 3.5706598e-05]\n",
      "[1. 0. 0.] <-> [0.89969134 0.00103775 0.0992709 ]\n",
      "[1. 0. 0.] <-> [0.99611074 0.00145701 0.00243225]\n",
      "[0. 0. 1.] <-> [6.0298136e-03 6.7446936e-06 9.9396342e-01]\n",
      "[0. 0. 1.] <-> [9.43977386e-02 1.05845684e-04 9.05496478e-01]\n",
      "[0. 1. 0.] <-> [5.4634023e-03 9.9450088e-01 3.5714489e-05]\n",
      "[1. 0. 0.] <-> [0.9970311  0.00166868 0.00130011]\n",
      "[1. 0. 0.] <-> [0.99417615 0.00118044 0.00464338]\n",
      "[1. 0. 0.] <-> [0.99064213 0.00819453 0.00116337]\n",
      "[1. 0. 0.] <-> [0.9967223  0.0011466  0.00213116]\n",
      "[1. 0. 0.] <-> [0.9959965  0.00126287 0.00274072]\n",
      "[1. 0. 0.] <-> [0.9934877  0.00114558 0.00536667]\n",
      "[0. 1. 0.] <-> [5.5042785e-03 9.9445975e-01 3.6046080e-05]\n",
      "[0. 0. 1.] <-> [6.0287626e-03 6.7435176e-06 9.9396449e-01]\n",
      "[0. 1. 0.] <-> [1.2618566e-01 8.7335145e-01 4.6291665e-04]\n",
      "[0. 0. 1.] <-> [7.4674413e-03 8.3607720e-06 9.9252421e-01]\n",
      "[1. 0. 0.] <-> [0.9963408  0.00120052 0.00245855]\n",
      "[1. 0. 0.] <-> [0.9945121  0.0011974  0.00429049]\n",
      "[1. 0. 0.] <-> [0.9822129  0.00119116 0.0165959 ]\n",
      "[1. 0. 0.] <-> [0.92808104 0.00106819 0.07085077]\n",
      "[1. 0. 0.] <-> [0.9961778  0.00269676 0.0011254 ]\n",
      "[1. 0. 0.] <-> [0.9952195  0.00125573 0.0035248 ]\n",
      "[1. 0. 0.] <-> [0.9949557  0.00377082 0.00127347]\n",
      "[1. 0. 0.] <-> [0.99062294 0.00716942 0.00220761]\n",
      "[1. 0. 0.] <-> [0.9959282  0.00137654 0.00269524]\n",
      "[0. 0. 1.] <-> [6.0460689e-03 6.7645010e-06 9.9394715e-01]\n",
      "[0. 1. 0.] <-> [5.774187e-03 9.941882e-01 3.760468e-05]\n",
      "[1. 0. 0.] <-> [0.993569   0.0011396  0.00529135]\n",
      "[1. 0. 0.] <-> [0.996259   0.00118067 0.00256039]\n",
      "[1. 0. 0.] <-> [0.5669927  0.00063981 0.43236753]\n",
      "[1. 0. 0.] <-> [0.9948567  0.00114959 0.00399378]\n",
      "[0. 0. 1.] <-> [0.64248866 0.00072254 0.35678875]\n",
      "[1. 0. 0.] <-> [0.9961904  0.0026175  0.00119212]\n",
      "[1. 0. 0.] <-> [0.9959596  0.00220524 0.00183516]\n",
      "[0. 0. 1.] <-> [6.0287332e-03 6.7434785e-06 9.9396449e-01]\n",
      "[0. 1. 0.] <-> [5.463371e-03 9.945009e-01 3.585263e-05]\n",
      "[1. 0. 0.] <-> [0.98567617 0.00112049 0.01320328]\n",
      "[1. 0. 0.] <-> [0.95041865 0.00107759 0.04850372]\n",
      "[1. 0. 0.] <-> [0.99641955 0.00228657 0.00129391]\n",
      "[1. 0. 0.] <-> [0.99642617 0.00192921 0.00164473]\n",
      "[1. 0. 0.] <-> [0.913596   0.08427364 0.0021304 ]\n",
      "[1. 0. 0.] <-> [0.9573057  0.00114973 0.04154449]\n",
      "[1. 0. 0.] <-> [0.9973667  0.00134238 0.00129096]\n",
      "[1. 0. 0.] <-> [0.996084   0.00112399 0.00279204]\n",
      "[1. 0. 0.] <-> [0.9844662  0.01412985 0.00140389]\n",
      "[1. 0. 0.] <-> [0.98040843 0.00113578 0.01845575]\n",
      "[1. 0. 0.] <-> [0.93302244 0.06534161 0.00163594]\n",
      "[1. 0. 0.] <-> [0.9948407  0.00143702 0.00372232]\n",
      "[1. 0. 0.] <-> [0.99261296 0.00115153 0.00623541]\n",
      "[1. 0. 0.] <-> [0.99721175 0.00129213 0.00149617]\n",
      "[1. 0. 0.] <-> [0.86413157 0.00098028 0.13488814]\n",
      "[0. 1. 0.] <-> [5.6829141e-03 9.9427986e-01 3.7178754e-05]\n",
      "[1. 0. 0.] <-> [0.99685895 0.00126361 0.00187743]\n",
      "[0. 0. 1.] <-> [6.0287332e-03 6.7434785e-06 9.9396449e-01]\n",
      "[1. 0. 0.] <-> [0.9922551  0.0063867  0.00135813]\n",
      "[0. 1. 0.] <-> [0.6844298  0.3132089  0.00236132]\n",
      "[1. 0. 0.] <-> [0.9970181  0.00141142 0.00157051]\n",
      "[1. 0. 0.] <-> [0.9575639  0.00107633 0.04135982]\n",
      "[1. 0. 0.] <-> [0.995977 0.001917 0.002106]\n",
      "{'accuracy': 0.9691358024691358, 'mean_square_error': 0.059568760162722584, 'categorical_crossentropy': 0.1062491911428946, 'essential_metrics': {0: {'tp_hit': 77, 'fp_hit': 2, 'tn_hit': 26, 'fn_hit': 3}, 1: {'tp_hit': 14, 'fp_hit': 1, 'tn_hit': 92, 'fn_hit': 1}, 2: {'tp_hit': 12, 'fp_hit': 2, 'tn_hit': 93, 'fn_hit': 1}}}\n"
     ]
    }
   ],
   "source": [
    "# recall phase\n",
    "score = model.evaluate(x_test, y_test, False)\n",
    "print(score)"
   ]
  },
  {
   "cell_type": "code",
   "execution_count": 11,
   "metadata": {},
   "outputs": [
    {
     "data": {
      "image/png": "[encoded data removed]",
      "text/plain": [
       "<Figure size 864x360 with 1 Axes>"
      ]
     },
     "metadata": {
      "needs_background": "light"
     },
     "output_type": "display_data"
    },
    {
     "data": {
      "image/png": "[encoded data removed]",
      "text/plain": [
       "<Figure size 864x360 with 1 Axes>"
      ]
     },
     "metadata": {
      "needs_background": "light"
     },
     "output_type": "display_data"
    }
   ],
   "source": [
    "draw_plot(x = [[i for i in range(len(history))], [(i+1)*breakpoint for i in range(len(checkpoints))]], y_list = [history, [ ckp[model.loss_fn] for ckp in checkpoints ]], x_label = 'Epochs', \\\n",
    "    y_label = model.loss_fn, legend=['train', 'test'])\n",
    "acc = [ ckp['accuracy'] for ckp in checkpoints ]\n",
    "draw_plot(x = [[(i+1)*breakpoint for i in range(len(checkpoints))]], y_list = [acc], x_label = 'Checkpoints', \\\n",
    "    y_label = 'accuracy')"
   ]
  },
  {
   "cell_type": "code",
   "execution_count": 12,
   "metadata": {},
   "outputs": [
    {
     "name": "stdout",
     "output_type": "stream",
     "text": [
      "{'accuracy': 0.9506172839506173, 'mean_square_error': 0.12042142247934494, 'categorical_crossentropy': 0.23906852580882884, 'essential_metrics': {0: {'tp_hit': 79, 'fp_hit': 7, 'tn_hit': 21, 'fn_hit': 1}, 1: {'tp_hit': 10, 'fp_hit': 0, 'tn_hit': 93, 'fn_hit': 5}, 2: {'tp_hit': 11, 'fp_hit': 1, 'tn_hit': 94, 'fn_hit': 2}}, 'checkpoint': 100} \n",
      "\n",
      "\n",
      "{'accuracy': 0.9753086419753086, 'mean_square_error': 0.05630765389472206, 'categorical_crossentropy': 0.10452168076126664, 'essential_metrics': {0: {'tp_hit': 76, 'fp_hit': 0, 'tn_hit': 28, 'fn_hit': 4}, 1: {'tp_hit': 15, 'fp_hit': 1, 'tn_hit': 92, 'fn_hit': 0}, 2: {'tp_hit': 13, 'fp_hit': 3, 'tn_hit': 92, 'fn_hit': 0}}, 'checkpoint': 200} \n",
      "\n",
      "\n",
      "{'accuracy': 0.9691358024691358, 'mean_square_error': 0.06200095376237966, 'categorical_crossentropy': 0.10922369250544796, 'essential_metrics': {0: {'tp_hit': 77, 'fp_hit': 2, 'tn_hit': 26, 'fn_hit': 3}, 1: {'tp_hit': 14, 'fp_hit': 1, 'tn_hit': 92, 'fn_hit': 1}, 2: {'tp_hit': 12, 'fp_hit': 2, 'tn_hit': 93, 'fn_hit': 1}}, 'checkpoint': 300} \n",
      "\n",
      "\n",
      "{'accuracy': 0.9691358024691358, 'mean_square_error': 0.057356064214929996, 'categorical_crossentropy': 0.10287915335761176, 'essential_metrics': {0: {'tp_hit': 77, 'fp_hit': 2, 'tn_hit': 26, 'fn_hit': 3}, 1: {'tp_hit': 14, 'fp_hit': 1, 'tn_hit': 92, 'fn_hit': 1}, 2: {'tp_hit': 12, 'fp_hit': 2, 'tn_hit': 93, 'fn_hit': 1}}, 'checkpoint': 400} \n",
      "\n",
      "\n",
      "{'accuracy': 0.9691358024691358, 'mean_square_error': 0.059568760162722584, 'categorical_crossentropy': 0.1062491911428946, 'essential_metrics': {0: {'tp_hit': 77, 'fp_hit': 2, 'tn_hit': 26, 'fn_hit': 3}, 1: {'tp_hit': 14, 'fp_hit': 1, 'tn_hit': 92, 'fn_hit': 1}, 2: {'tp_hit': 12, 'fp_hit': 2, 'tn_hit': 93, 'fn_hit': 1}}, 'checkpoint': 500} \n",
      "\n",
      "\n"
     ]
    }
   ],
   "source": [
    "for checkpoint in checkpoints:\n",
    "    print(checkpoint, '\\n\\n')"
   ]
  },
  {
   "cell_type": "code",
   "execution_count": 13,
   "metadata": {},
   "outputs": [
    {
     "name": "stdout",
     "output_type": "stream",
     "text": [
      "Layer 1\n",
      "Neuron 0: weights:\n",
      "[-0.01963495  3.          0.8370978  -0.8417198  -3.        ]\n",
      " bias: 3.0\n",
      "\n",
      "Neuron 1: weights:\n",
      "[-1.9197199  3.         3.         1.2325478 -2.3853886]\n",
      " bias: -3.0\n",
      "\n",
      "Neuron 2: weights:\n",
      "[ 1.8886204 -3.        -1.3738798 -1.1086926  3.       ]\n",
      " bias: 3.0\n",
      "\n",
      "Neuron 3: weights:\n",
      "[ 0.14246005 -3.          0.04169528  1.0003959   3.        ]\n",
      " bias: -2.486706495285034\n",
      "\n",
      "$\n",
      "Layer 2\n",
      "Neuron 0: weights:\n",
      "[ 3. -3.  3. -3.]\n",
      " bias: -0.4987732768058777\n",
      "\n",
      "Neuron 1: weights:\n",
      "[ 3.  3. -3. -3.]\n",
      " bias: -1.2944890260696411\n",
      "\n",
      "Neuron 2: weights:\n",
      "[-3.        -1.1357037  3.         3.       ]\n",
      " bias: -1.3936083316802979\n",
      "\n",
      "$\n",
      "\n"
     ]
    }
   ],
   "source": [
    "print(model)"
   ]
  }
 ],
 "metadata": {
  "kernelspec": {
   "display_name": "Python 3",
   "language": "python",
   "name": "python3"
  },
  "language_info": {
   "codemirror_mode": {
    "name": "ipython",
    "version": 3
   },
   "file_extension": ".py",
   "mimetype": "text/x-python",
   "name": "python",
   "nbconvert_exporter": "python",
   "pygments_lexer": "ipython3",
   "version": "3.6.10"
  }
 },
 "nbformat": 4,
 "nbformat_minor": 2
}
