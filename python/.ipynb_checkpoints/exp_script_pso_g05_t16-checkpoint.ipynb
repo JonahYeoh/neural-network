{
 "cells": [
  {
   "cell_type": "code",
   "execution_count": 1,
   "metadata": {},
   "outputs": [],
   "source": [
    "# dependency\n",
    "import numpy as np\n",
    "import pandas as pd\n",
    "import copy\n",
    "import math\n",
    "import sys\n",
    "import os\n",
    "from activations import relu, leaky_relu, sigmoid, tanh, softmax, d_sigmoid, d_relu\n",
    "from initializers import glorot_uniform, random_normal, random_uniform\n",
    "from regularizers import l1_regularizer, l2_regularizer\n",
    "from utility import trim_tail, multiply, subtract, get_nparams, one_hot_encoding, get_data\n",
    "from metrics import MSE, CCE, ACC, PRECISION, RECALL, essential_metrics, wondering_penalty, close_gap_penalty\n",
    "from pso import PSO\n",
    "from ga import GA\n",
    "from nn import Network\n",
    "from layer import DenseLayer\n",
    "from scalers import MinMaxScaler, StandardScaler"
   ]
  },
  {
   "cell_type": "code",
   "execution_count": 2,
   "metadata": {},
   "outputs": [],
   "source": [
    "# reference\n",
    "metrics_fn_dict = dict()\n",
    "metrics_fn_dict['accuracy'] = ACC\n",
    "metrics_fn_dict['categorical_crossentropy'] = CCE\n",
    "metrics_fn_dict['mean_square_error'] = MSE\n",
    "metrics_fn_dict['precision'] = PRECISION\n",
    "metrics_fn_dict['recall'] = RECALL\n",
    "metrics_fn_dict['essential_metrics'] = essential_metrics"
   ]
  },
  {
   "cell_type": "code",
   "execution_count": 3,
   "metadata": {},
   "outputs": [],
   "source": [
    "# model\n",
    "model = Network(5, lr = None)\n",
    "model.add_layer(DenseLayer(1, 4, True, afn=sigmoid, dafn=None, rfn=None))\n",
    "model.add_layer(DenseLayer(2, 3, True, afn=softmax, dafn=None, rfn=None))"
   ]
  },
  {
   "cell_type": "code",
   "execution_count": 4,
   "metadata": {},
   "outputs": [
    {
     "name": "stdout",
     "output_type": "stream",
     "text": [
      "see one see two 2 0.5\n"
     ]
    }
   ],
   "source": [
    "pso = PSO(dict(m = 50,\n",
    "    weight_constraint = [-3, 3], \n",
    "    velocity_constraint = [-0.1, 0.1],\n",
    "    c1 = [0.5, 2],\n",
    "    c2 = [0.5, 2],\n",
    "    w = [0.5, 1.2],\n",
    "    w_decay = 0.95,\n",
    "    scale_hyperparameter = False,\n",
    "    regularizer = None,\n",
    "    mask = True))"
   ]
  },
  {
   "cell_type": "code",
   "execution_count": 5,
   "metadata": {},
   "outputs": [
    {
     "name": "stdout",
     "output_type": "stream",
     "text": [
      "building layer 1 with 5\n",
      "24\n",
      "building layer 2 with 4\n",
      "15\n"
     ]
    }
   ],
   "source": [
    "model.compile(loss_fn = 'categorical_crossentropy', optimizer = pso, \\\n",
    "    metrics = ['accuracy', 'mean_square_error', 'categorical_crossentropy'])"
   ]
  },
  {
   "cell_type": "code",
   "execution_count": 6,
   "metadata": {},
   "outputs": [
    {
     "name": "stdout",
     "output_type": "stream",
     "text": [
      "<class 'pandas.core.frame.DataFrame'>\n",
      "RangeIndex: 107 entries, 0 to 106\n",
      "Data columns (total 6 columns):\n",
      " #   Column  Non-Null Count  Dtype  \n",
      "---  ------  --------------  -----  \n",
      " 0   f1      107 non-null    float32\n",
      " 1   f2      107 non-null    float32\n",
      " 2   f3      107 non-null    float32\n",
      " 3   f4      107 non-null    float32\n",
      " 4   f5      107 non-null    float32\n",
      " 5   label   107 non-null    float32\n",
      "dtypes: float32(6)\n",
      "memory usage: 2.6 KB\n",
      "None\n",
      "<class 'pandas.core.frame.DataFrame'>\n",
      "RangeIndex: 108 entries, 0 to 107\n",
      "Data columns (total 6 columns):\n",
      " #   Column  Non-Null Count  Dtype  \n",
      "---  ------  --------------  -----  \n",
      " 0   f1      108 non-null    float32\n",
      " 1   f2      108 non-null    float32\n",
      " 2   f3      108 non-null    float32\n",
      " 3   f4      108 non-null    float32\n",
      " 4   f5      108 non-null    float32\n",
      " 5   label   108 non-null    float32\n",
      "dtypes: float32(6)\n",
      "memory usage: 2.7 KB\n",
      "None\n"
     ]
    }
   ],
   "source": [
    "# data loading\n",
    "DATA = os.path.join('c:\\\\Users\\\\tcumi\\\\github_repo\\\\neural-network\\\\', 'dataset')\n",
    "GROUP = 5\n",
    "COLUMNS = ['f1', 'f2', 'f3', 'f4', 'f5', 'label']\n",
    "N_CLASS = 3\n",
    "EPOCHS = 500\n",
    "train_dir, test_dir = \"..//dataset//training_data{}.txt\".format(GROUP), \"..//dataset//testing_data{}.txt\".format(GROUP)\n",
    "train, test = get_data(DATA, train_dir, COLUMNS), get_data(DATA, test_dir, COLUMNS)\n",
    "# shuffle\n",
    "train, test = train.sample(frac=1), test.sample(frac=1)\n",
    "x_train, y_train = train.drop('label', axis=1), train['label']\n",
    "x_test, y_test = test.drop('label', axis=1), test['label']"
   ]
  },
  {
   "cell_type": "code",
   "execution_count": 7,
   "metadata": {},
   "outputs": [],
   "source": [
    "# data scaling and encoding\n",
    "scaler = StandardScaler(['f1', 'f2', 'f3', 'f4', 'f5'])\n",
    "scaler.fit(x_train)\n",
    "x_train = scaler.transform(x_train)\n",
    "x_test = scaler.transform(x_test)\n",
    "y_train = one_hot_encoding(y_train, N_CLASS)\n",
    "y_test = one_hot_encoding(y_test, N_CLASS)"
   ]
  },
  {
   "cell_type": "code",
   "execution_count": 8,
   "metadata": {
    "tags": [
     "outputPrepend"
    ]
   },
   "outputs": [
    {
     "name": "stdout",
     "output_type": "stream",
     "text": [
      "Checkpoint 100, Accuracy: 0.9444444444444444, Loss: 0.2642220744380244\n",
      "Checkpoint 200, Accuracy: 0.9444444444444444, Loss: 0.19077988024111148\n",
      "Checkpoint 300, Accuracy: 0.9629629629629629, Loss: 0.1373532701421667\n",
      "Checkpoint 400, Accuracy: 0.9629629629629629, Loss: 0.1357993549770779\n",
      "Checkpoint 500, Accuracy: 0.9567901234567902, Loss: 0.14189676002219873\n"
     ]
    }
   ],
   "source": [
    "# learning phase\n",
    "breakpoint = 100\n",
    "checkpoints = list()\n",
    "history = list()\n",
    "for century in range(0, EPOCHS, breakpoint):\n",
    "    sub_history = model.fit(x_train, y_train, breakpoint, verbose = 0)\n",
    "    score = model.evaluate(x_test, y_test, False, verbose = 0)\n",
    "    print('Checkpoint {}, Accuracy: {}, Loss: {}'.format(century+breakpoint, score['accuracy'], score[model.loss_fn]))\n",
    "    score['checkpoint'] = century + breakpoint\n",
    "    checkpoints.append(score)\n",
    "    history.extend(sub_history)\n",
    "    itr = century + breakpoint\n",
    "    model.optimizer.c1 = np.max([model.optimizer.C1[1] - ((model.optimizer.C1[1] - model.optimizer.C1[0]) * itr / EPOCHS), model.optimizer.C1[0]])\n",
    "    model.optimizer.c2 = np.min([model.optimizer.C2[0] + ((model.optimizer.C2[1] - model.optimizer.C2[0]) * itr / EPOCHS), model.optimizer.C2[1]])\n",
    "    model.optimizer.w = np.max([model.optimizer.w * model.optimizer.W_Decay, model.optimizer.W[0]])"
   ]
  },
  {
   "cell_type": "code",
   "execution_count": 9,
   "metadata": {},
   "outputs": [],
   "source": [
    "import matplotlib.pyplot as plt\n",
    "\n",
    "def draw_plot(x, y_list, x_label=None, y_label=None, legend=None, title=None):\n",
    "    fig, ax = plt.subplots(figsize=(12,5))\n",
    "    for xi, yi in zip(x, y_list):\n",
    "        ax.plot(xi, yi)\n",
    "    if x_label is not None and y_label is not None:\n",
    "        ax.set(xlabel=x_label, ylabel=y_label, title='{} VS {}'.format(x_label, y_label))\n",
    "    if legend is not None:\n",
    "        ax.legend(legend)\n",
    "    ax.grid()\n",
    "    plt.show()"
   ]
  },
  {
   "cell_type": "code",
   "execution_count": 10,
   "metadata": {},
   "outputs": [
    {
     "name": "stdout",
     "output_type": "stream",
     "text": [
      "[1. 0. 0.] <-> [9.983576e-01 8.893983e-04 7.529633e-04]\n",
      "[1. 0. 0.] <-> [9.9818146e-01 1.2135187e-03 6.0506543e-04]\n",
      "[1. 0. 0.] <-> [9.9816906e-01 8.3301810e-04 9.9788583e-04]\n",
      "[1. 0. 0.] <-> [9.798647e-01 7.869289e-04 1.934832e-02]\n",
      "[1. 0. 0.] <-> [7.6283383e-01 5.9633830e-04 2.3656985e-01]\n",
      "[1. 0. 0.] <-> [0.9634915  0.03545301 0.00105555]\n",
      "[1. 0. 0.] <-> [9.9765944e-01 7.5978017e-04 1.5808562e-03]\n",
      "[1. 0. 0.] <-> [9.9763989e-01 1.3873515e-03 9.7281346e-04]\n",
      "[1. 0. 0.] <-> [9.9131763e-01 7.3044683e-04 7.9519683e-03]\n",
      "[1. 0. 0.] <-> [9.9811721e-01 8.3578849e-04 1.0470548e-03]\n",
      "[0. 0. 1.] <-> [9.4925994e-01 6.8493845e-04 5.0055064e-02]\n",
      "[1. 0. 0.] <-> [9.9839169e-01 8.7069307e-04 7.3753070e-04]\n",
      "[1. 0. 0.] <-> [9.9783188e-01 1.6213486e-03 5.4677605e-04]\n",
      "[1. 0. 0.] <-> [9.9672502e-01 7.3042361e-04 2.5446413e-03]\n",
      "[1. 0. 0.] <-> [9.4484866e-01 7.5310853e-04 5.4398343e-02]\n",
      "[1. 0. 0.] <-> [9.9841321e-01 8.0080278e-04 7.8605005e-04]\n",
      "[1. 0. 0.] <-> [9.3396175e-01 7.7594718e-04 6.5262370e-02]\n",
      "[1. 0. 0.] <-> [9.9823833e-01 1.0320520e-03 7.2954496e-04]\n",
      "[1. 0. 0.] <-> [9.9796754e-01 8.0164854e-04 1.2308484e-03]\n",
      "[0. 0. 1.] <-> [1.3072568e-02 1.1371683e-05 9.8691607e-01]\n",
      "[1. 0. 0.] <-> [9.9752051e-01 7.9165207e-04 1.6878023e-03]\n",
      "[0. 0. 1.] <-> [1.3182216e-02 1.1425116e-05 9.8680633e-01]\n",
      "[1. 0. 0.] <-> [9.9618655e-01 7.5473456e-04 3.0587688e-03]\n",
      "[1. 0. 0.] <-> [9.9828905e-01 7.7597861e-04 9.3495118e-04]\n",
      "[0. 1. 0.] <-> [0.21586226 0.78301215 0.00112563]\n",
      "[1. 0. 0.] <-> [9.9260110e-01 7.3943764e-04 6.6594495e-03]\n",
      "[1. 0. 0.] <-> [9.9832493e-01 7.9986645e-04 8.7517389e-04]\n",
      "[1. 0. 0.] <-> [9.982426e-01 8.063602e-04 9.510941e-04]\n",
      "[1. 0. 0.] <-> [6.4508301e-01 5.3837744e-04 3.5437864e-01]\n",
      "[1. 0. 0.] <-> [9.9395245e-01 7.4645353e-04 5.3010918e-03]\n",
      "[1. 0. 0.] <-> [9.9830085e-01 1.0746187e-03 6.2457263e-04]\n",
      "[1. 0. 0.] <-> [9.9809557e-01 9.9467556e-04 9.0972707e-04]\n",
      "[0. 0. 1.] <-> [9.5971799e-01 6.9853966e-04 3.9583430e-02]\n",
      "[0. 0. 1.] <-> [1.2333339e-02 1.2411863e-05 9.8765427e-01]\n",
      "[1. 0. 0.] <-> [9.9796695e-01 7.4575411e-04 1.2872273e-03]\n",
      "[0. 0. 1.] <-> [1.3121862e-02 1.1371353e-05 9.8686671e-01]\n",
      "[1. 0. 0.] <-> [0.99751127 0.00138953 0.00109925]\n",
      "[1. 0. 0.] <-> [9.9746215e-01 1.8480744e-03 6.8976602e-04]\n",
      "[0. 1. 0.] <-> [0.6074036  0.3915405  0.00105592]\n",
      "[1. 0. 0.] <-> [9.5921606e-01 7.7261392e-04 4.0011369e-02]\n",
      "[1. 0. 0.] <-> [9.9845159e-01 8.3633768e-04 7.1197015e-04]\n",
      "[1. 0. 0.] <-> [9.9832302e-01 9.6970476e-04 7.0725230e-04]\n",
      "[1. 0. 0.] <-> [9.240819e-01 7.692282e-04 7.514886e-02]\n",
      "[0. 0. 1.] <-> [1.3108858e-02 1.1375235e-05 9.8687971e-01]\n",
      "[1. 0. 0.] <-> [9.9445784e-01 4.7752070e-03 7.6693599e-04]\n",
      "[0. 0. 1.] <-> [1.3188514e-02 1.1435770e-05 9.8680007e-01]\n",
      "[1. 0. 0.] <-> [9.9828595e-01 7.8705430e-04 9.2692301e-04]\n",
      "[1. 0. 0.] <-> [9.9661797e-01 2.7884385e-03 5.9366279e-04]\n",
      "[1. 0. 0.] <-> [9.9792492e-01 1.4550952e-03 6.1994215e-04]\n",
      "[0. 1. 0.] <-> [8.8778250e-03 9.9099863e-01 1.2356284e-04]\n",
      "[1. 0. 0.] <-> [9.9788553e-01 1.5584491e-03 5.5602565e-04]\n",
      "[1. 0. 0.] <-> [9.9816775e-01 7.6162658e-04 1.0705141e-03]\n",
      "[0. 0. 1.] <-> [1.30730048e-02 1.13570795e-05 9.86915588e-01]\n",
      "[0. 1. 0.] <-> [8.8786390e-03 9.9099779e-01 1.2357395e-04]\n",
      "[1. 0. 0.] <-> [0.9974662  0.0014084  0.00112531]\n",
      "[0. 1. 0.] <-> [8.8777198e-03 9.9099874e-01 1.2356121e-04]\n",
      "[1. 0. 0.] <-> [9.9797016e-01 1.4066395e-03 6.2315015e-04]\n",
      "[1. 0. 0.] <-> [9.4600409e-01 7.3684944e-04 5.3259008e-02]\n",
      "[1. 0. 0.] <-> [9.9470407e-01 4.6304311e-03 6.6540518e-04]\n",
      "[1. 0. 0.] <-> [9.8893857e-01 1.0462349e-02 5.9907715e-04]\n",
      "[0. 1. 0.] <-> [8.877502e-03 9.909990e-01 1.235583e-04]\n",
      "[1. 0. 0.] <-> [9.9836594e-01 9.4773364e-04 6.8637659e-04]\n",
      "[1. 0. 0.] <-> [9.9799156e-01 1.3789412e-03 6.2944420e-04]\n",
      "[0. 1. 0.] <-> [1.8797828e-02 9.8099834e-01 2.0384624e-04]\n",
      "[1. 0. 0.] <-> [9.6564275e-01 7.4789673e-04 3.3609319e-02]\n",
      "[1. 0. 0.] <-> [9.9827766e-01 1.0309796e-03 6.9139071e-04]\n",
      "[1. 0. 0.] <-> [9.8448133e-01 7.8656903e-04 1.4732074e-02]\n",
      "[0. 0. 1.] <-> [9.0857735e-03 2.2016327e-05 9.9089217e-01]\n",
      "[1. 0. 0.] <-> [9.9804437e-01 1.2200042e-03 7.3560048e-04]\n",
      "[1. 0. 0.] <-> [9.9044937e-01 9.0615894e-04 8.6443825e-03]\n",
      "[1. 0. 0.] <-> [9.975076e-01 1.854803e-03 6.376427e-04]\n",
      "[1. 0. 0.] <-> [9.9624532e-01 8.5009512e-04 2.9045441e-03]\n",
      "[0. 1. 0.] <-> [9.3582273e-03 9.9051267e-01 1.2923352e-04]\n",
      "[0. 1. 0.] <-> [0.5841452  0.4146325  0.00122226]\n",
      "[0. 0. 1.] <-> [1.3091790e-02 1.1346494e-05 9.8689693e-01]\n",
      "[0. 1. 0.] <-> [9.1065420e-03 9.9076813e-01 1.2526523e-04]\n",
      "[1. 0. 0.] <-> [9.8555726e-01 7.4543216e-04 1.3697311e-02]\n",
      "[1. 0. 0.] <-> [9.9078804e-01 7.6143508e-04 8.4505556e-03]\n",
      "[0. 0. 1.] <-> [1.3083400e-02 1.1349825e-05 9.8690528e-01]\n",
      "[1. 0. 0.] <-> [9.9768877e-01 7.8604132e-04 1.5252645e-03]\n",
      "[1. 0. 0.] <-> [9.9822050e-01 7.4765255e-04 1.0318776e-03]\n",
      "[1. 0. 0.] <-> [5.6615824e-01 4.5267629e-04 4.3338910e-01]\n",
      "[1. 0. 0.] <-> [9.1530567e-01 7.5246516e-04 8.3941862e-02]\n",
      "[1. 0. 0.] <-> [4.9826628e-01 4.2611014e-04 5.0130755e-01]\n",
      "[1. 0. 0.] <-> [9.9801552e-01 8.7989634e-04 1.1044838e-03]\n",
      "[1. 0. 0.] <-> [9.6963978e-01 7.4900163e-04 2.9611161e-02]\n",
      "[0. 0. 1.] <-> [1.30981235e-02 1.13518963e-05 9.86890554e-01]\n",
      "[0. 0. 1.] <-> [1.3090470e-02 1.1345285e-05 9.8689818e-01]\n",
      "[0. 1. 0.] <-> [9.0934299e-02 9.0821373e-01 8.5191405e-04]\n",
      "[1. 0. 0.] <-> [8.1849509e-01 6.7540043e-04 1.8082955e-01]\n",
      "[1. 0. 0.] <-> [9.6394843e-01 7.4165739e-04 3.5309974e-02]\n",
      "[1. 0. 0.] <-> [9.9801946e-01 8.4858015e-04 1.1319432e-03]\n",
      "[0. 0. 1.] <-> [6.6298211e-01 4.8085611e-04 3.3653703e-01]\n",
      "[1. 0. 0.] <-> [9.9498230e-01 7.2337117e-04 4.2943568e-03]\n",
      "[1. 0. 0.] <-> [9.9839801e-01 9.1827777e-04 6.8381097e-04]\n",
      "[1. 0. 0.] <-> [9.9771607e-01 1.3199254e-03 9.6393359e-04]\n",
      "[0. 1. 0.] <-> [3.5339464e-02 9.6439660e-01 2.6390402e-04]\n",
      "[0. 1. 0.] <-> [0.90617925 0.09150866 0.00231212]\n",
      "[1. 0. 0.] <-> [9.9814081e-01 7.5047842e-04 1.1087534e-03]\n",
      "[0. 1. 0.] <-> [8.8776276e-03 9.9099886e-01 1.2355993e-04]\n",
      "[0. 1. 0.] <-> [8.8847419e-03 9.9099171e-01 1.2362457e-04]\n",
      "[1. 0. 0.] <-> [9.9802834e-01 9.3094708e-04 1.0407233e-03]\n",
      "[0. 1. 0.] <-> [2.088873e-01 7.903941e-01 7.185822e-04]\n",
      "[1. 0. 0.] <-> [9.9840289e-01 9.8763348e-04 6.0949125e-04]\n",
      "[1. 0. 0.] <-> [9.9803525e-01 1.0634160e-03 9.0130919e-04]\n",
      "[0. 1. 0.] <-> [8.8775232e-03 9.9099898e-01 1.2355865e-04]\n",
      "[1. 0. 0.] <-> [9.8759151e-01 1.1446175e-02 9.6233439e-04]\n",
      "[1. 0. 0.] <-> [9.9850094e-01 8.5469446e-04 6.4441661e-04]\n",
      "{'accuracy': 0.9567901234567902, 'mean_square_error': 0.0849360312924939, 'categorical_crossentropy': 0.14189676002219873, 'essential_metrics': {0: {'tp_hit': 75, 'fp_hit': 6, 'tn_hit': 26, 'fn_hit': 1}, 1: {'tp_hit': 14, 'fp_hit': 0, 'tn_hit': 91, 'fn_hit': 3}, 2: {'tp_hit': 12, 'fp_hit': 1, 'tn_hit': 92, 'fn_hit': 3}}}\n"
     ]
    }
   ],
   "source": [
    "# recall phase\n",
    "score = model.evaluate(x_test, y_test, False)\n",
    "print(score)"
   ]
  },
  {
   "cell_type": "code",
   "execution_count": 11,
   "metadata": {},
   "outputs": [
    {
     "data": {
      "image/png": "[encoded data removed]",
      "text/plain": [
       "<Figure size 864x360 with 1 Axes>"
      ]
     },
     "metadata": {
      "needs_background": "light"
     },
     "output_type": "display_data"
    },
    {
     "data": {
      "image/png": "[encoded data removed]",
      "text/plain": [
       "<Figure size 864x360 with 1 Axes>"
      ]
     },
     "metadata": {
      "needs_background": "light"
     },
     "output_type": "display_data"
    }
   ],
   "source": [
    "draw_plot(x = [[i for i in range(len(history))], [(i+1)*breakpoint for i in range(len(checkpoints))]], y_list = [history, [ ckp[model.loss_fn] for ckp in checkpoints ]], x_label = 'Epochs', \\\n",
    "    y_label = model.loss_fn, legend=['train', 'test'])\n",
    "acc = [ ckp['accuracy'] for ckp in checkpoints ]\n",
    "draw_plot(x = [[(i+1)*breakpoint for i in range(len(checkpoints))]], y_list = [acc], x_label = 'Checkpoints', \\\n",
    "    y_label = 'accuracy')"
   ]
  },
  {
   "cell_type": "code",
   "execution_count": 12,
   "metadata": {},
   "outputs": [
    {
     "name": "stdout",
     "output_type": "stream",
     "text": [
      "{'accuracy': 0.9444444444444444, 'mean_square_error': 0.13995725540009582, 'categorical_crossentropy': 0.2642220744380244, 'essential_metrics': {0: {'tp_hit': 76, 'fp_hit': 9, 'tn_hit': 23, 'fn_hit': 0}, 1: {'tp_hit': 11, 'fp_hit': 0, 'tn_hit': 91, 'fn_hit': 6}, 2: {'tp_hit': 12, 'fp_hit': 0, 'tn_hit': 93, 'fn_hit': 3}}, 'checkpoint': 100} \n",
      "\n",
      "\n",
      "{'accuracy': 0.9444444444444444, 'mean_square_error': 0.10665791331625057, 'categorical_crossentropy': 0.19077988024111148, 'essential_metrics': {0: {'tp_hit': 74, 'fp_hit': 7, 'tn_hit': 25, 'fn_hit': 2}, 1: {'tp_hit': 13, 'fp_hit': 0, 'tn_hit': 91, 'fn_hit': 4}, 2: {'tp_hit': 12, 'fp_hit': 2, 'tn_hit': 91, 'fn_hit': 3}}, 'checkpoint': 200} \n",
      "\n",
      "\n",
      "{'accuracy': 0.9629629629629629, 'mean_square_error': 0.0818186607588528, 'categorical_crossentropy': 0.1373532701421667, 'essential_metrics': {0: {'tp_hit': 76, 'fp_hit': 6, 'tn_hit': 26, 'fn_hit': 0}, 1: {'tp_hit': 14, 'fp_hit': 0, 'tn_hit': 91, 'fn_hit': 3}, 2: {'tp_hit': 12, 'fp_hit': 0, 'tn_hit': 93, 'fn_hit': 3}}, 'checkpoint': 300} \n",
      "\n",
      "\n",
      "{'accuracy': 0.9629629629629629, 'mean_square_error': 0.0808934024716421, 'categorical_crossentropy': 0.1357993549770779, 'essential_metrics': {0: {'tp_hit': 76, 'fp_hit': 6, 'tn_hit': 26, 'fn_hit': 0}, 1: {'tp_hit': 14, 'fp_hit': 0, 'tn_hit': 91, 'fn_hit': 3}, 2: {'tp_hit': 12, 'fp_hit': 0, 'tn_hit': 93, 'fn_hit': 3}}, 'checkpoint': 400} \n",
      "\n",
      "\n",
      "{'accuracy': 0.9567901234567902, 'mean_square_error': 0.0849360312924939, 'categorical_crossentropy': 0.14189676002219873, 'essential_metrics': {0: {'tp_hit': 75, 'fp_hit': 6, 'tn_hit': 26, 'fn_hit': 1}, 1: {'tp_hit': 14, 'fp_hit': 0, 'tn_hit': 91, 'fn_hit': 3}, 2: {'tp_hit': 12, 'fp_hit': 1, 'tn_hit': 92, 'fn_hit': 3}}, 'checkpoint': 500} \n",
      "\n",
      "\n"
     ]
    }
   ],
   "source": [
    "for checkpoint in checkpoints:\n",
    "    print(checkpoint, '\\n\\n')"
   ]
  },
  {
   "cell_type": "code",
   "execution_count": 13,
   "metadata": {},
   "outputs": [
    {
     "name": "stdout",
     "output_type": "stream",
     "text": [
      "Layer 1\n",
      "Neuron 0: weights:\n",
      "[ 1.9859601 -3.        -3.        -3.         0.9884184]\n",
      " bias: 3.0\n",
      "\n",
      "Neuron 1: weights:\n",
      "[-3.          3.          1.2388319  -3.         -0.52873075]\n",
      " bias: 3.0\n",
      "\n",
      "Neuron 2: weights:\n",
      "[ 0.36591247 -3.         -1.402191    3.          1.7113718 ]\n",
      " bias: -3.0\n",
      "\n",
      "Neuron 3: weights:\n",
      "[ 1.7669063 -3.        -1.4102482 -2.554442   3.       ]\n",
      " bias: 3.0\n",
      "\n",
      "$\n",
      "Layer 2\n",
      "Neuron 0: weights:\n",
      "[ 3.  3. -3.  3.]\n",
      " bias: -1.9491435289382935\n",
      "\n",
      "Neuron 1: weights:\n",
      "[-3.         2.7660499 -3.        -3.       ]\n",
      " bias: 3.0\n",
      "\n",
      "Neuron 2: weights:\n",
      "[-0.4027435 -3.         3.         3.       ]\n",
      " bias: -0.22370566427707672\n",
      "\n",
      "$\n",
      "\n"
     ]
    }
   ],
   "source": [
    "print(model)"
   ]
  }
 ],
 "metadata": {
  "kernelspec": {
   "display_name": "Python 3",
   "language": "python",
   "name": "python3"
  },
  "language_info": {
   "codemirror_mode": {
    "name": "ipython",
    "version": 3
   },
   "file_extension": ".py",
   "mimetype": "text/x-python",
   "name": "python",
   "nbconvert_exporter": "python",
   "pygments_lexer": "ipython3",
   "version": "3.6.10"
  }
 },
 "nbformat": 4,
 "nbformat_minor": 2
}
