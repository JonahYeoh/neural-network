{
 "cells": [
  {
   "cell_type": "code",
   "execution_count": 1,
   "metadata": {},
   "outputs": [],
   "source": [
    "# dependency\n",
    "import numpy as np\n",
    "import pandas as pd\n",
    "import copy\n",
    "import math\n",
    "import sys\n",
    "import os\n",
    "from activations import relu, leaky_relu, sigmoid, tanh, softmax, d_sigmoid, d_relu\n",
    "from initializers import glorot_uniform, random_normal, random_uniform\n",
    "from regularizers import l1_regularizer, l2_regularizer\n",
    "from utility import trim_tail, multiply, subtract, get_nparams, one_hot_encoding, get_data\n",
    "from metrics import MSE, CCE, ACC, PRECISION, RECALL, essential_metrics, wondering_penalty, close_gap_penalty\n",
    "from pso import PSO\n",
    "from ga import GA\n",
    "from nn import Network\n",
    "from layer import DenseLayer\n",
    "from scalers import MinMaxScaler, StandardScaler"
   ]
  },
  {
   "cell_type": "code",
   "execution_count": 2,
   "metadata": {},
   "outputs": [],
   "source": [
    "# reference\n",
    "metrics_fn_dict = dict()\n",
    "metrics_fn_dict['accuracy'] = ACC\n",
    "metrics_fn_dict['categorical_crossentropy'] = CCE\n",
    "metrics_fn_dict['mean_square_error'] = MSE\n",
    "metrics_fn_dict['precision'] = PRECISION\n",
    "metrics_fn_dict['recall'] = RECALL\n",
    "metrics_fn_dict['essential_metrics'] = essential_metrics"
   ]
  },
  {
   "cell_type": "code",
   "execution_count": 3,
   "metadata": {},
   "outputs": [],
   "source": [
    "# model\n",
    "model = Network(5, lr = None)\n",
    "model.add_layer(DenseLayer(1, 4, True, afn=sigmoid, dafn=None, rfn=None))\n",
    "model.add_layer(DenseLayer(2, 3, True, afn=softmax, dafn=None, rfn=None))"
   ]
  },
  {
   "cell_type": "code",
   "execution_count": 4,
   "metadata": {},
   "outputs": [
    {
     "name": "stdout",
     "output_type": "stream",
     "text": [
      "see one see two 2 0.5\n"
     ]
    }
   ],
   "source": [
    "pso = PSO(dict(m = 200,\n",
    "    weight_constraint = [-3, 3], \n",
    "    velocity_constraint = [-0.1, 0.1],\n",
    "    c1 = [0.5, 2],\n",
    "    c2 = [0.5, 2],\n",
    "    w = [0.5, 1.2],\n",
    "    w_decay = 0.95,\n",
    "    scale_hyperparameter = False,\n",
    "    regularizer = None,\n",
    "    mask = True))"
   ]
  },
  {
   "cell_type": "code",
   "execution_count": 5,
   "metadata": {},
   "outputs": [
    {
     "name": "stdout",
     "output_type": "stream",
     "text": [
      "building layer 1 with 5\n",
      "24\n",
      "building layer 2 with 4\n",
      "15\n"
     ]
    }
   ],
   "source": [
    "model.compile(loss_fn = 'categorical_crossentropy', optimizer = pso, \\\n",
    "    metrics = ['accuracy', 'mean_square_error', 'categorical_crossentropy'])"
   ]
  },
  {
   "cell_type": "code",
   "execution_count": 6,
   "metadata": {},
   "outputs": [
    {
     "name": "stdout",
     "output_type": "stream",
     "text": [
      "<class 'pandas.core.frame.DataFrame'>\n",
      "RangeIndex: 107 entries, 0 to 106\n",
      "Data columns (total 6 columns):\n",
      " #   Column  Non-Null Count  Dtype  \n",
      "---  ------  --------------  -----  \n",
      " 0   f1      107 non-null    float32\n",
      " 1   f2      107 non-null    float32\n",
      " 2   f3      107 non-null    float32\n",
      " 3   f4      107 non-null    float32\n",
      " 4   f5      107 non-null    float32\n",
      " 5   label   107 non-null    float32\n",
      "dtypes: float32(6)\n",
      "memory usage: 2.6 KB\n",
      "None\n",
      "<class 'pandas.core.frame.DataFrame'>\n",
      "RangeIndex: 108 entries, 0 to 107\n",
      "Data columns (total 6 columns):\n",
      " #   Column  Non-Null Count  Dtype  \n",
      "---  ------  --------------  -----  \n",
      " 0   f1      108 non-null    float32\n",
      " 1   f2      108 non-null    float32\n",
      " 2   f3      108 non-null    float32\n",
      " 3   f4      108 non-null    float32\n",
      " 4   f5      108 non-null    float32\n",
      " 5   label   108 non-null    float32\n",
      "dtypes: float32(6)\n",
      "memory usage: 2.7 KB\n",
      "None\n"
     ]
    }
   ],
   "source": [
    "# data loading\n",
    "DATA = os.path.join('c:\\\\Users\\\\Ai-lab\\\\github_repo\\\\neural-network\\\\', 'dataset')\n",
    "GROUP = 5\n",
    "COLUMNS = ['f1', 'f2', 'f3', 'f4', 'f5', 'label']\n",
    "N_CLASS = 3\n",
    "EPOCHS = 200\n",
    "train_dir, test_dir = \"..//dataset//training_data{}.txt\".format(GROUP), \"..//dataset//testing_data{}.txt\".format(GROUP)\n",
    "train, test = get_data(DATA, train_dir, COLUMNS), get_data(DATA, test_dir, COLUMNS)\n",
    "# shuffle\n",
    "train, test = train.sample(frac=1), test.sample(frac=1)\n",
    "x_train, y_train = train.drop('label', axis=1), train['label']\n",
    "x_test, y_test = test.drop('label', axis=1), test['label']"
   ]
  },
  {
   "cell_type": "code",
   "execution_count": 7,
   "metadata": {},
   "outputs": [],
   "source": [
    "# data scaling and encoding\n",
    "scaler = StandardScaler(['f1', 'f2', 'f3', 'f4', 'f5'])\n",
    "scaler.fit(x_train)\n",
    "x_train = scaler.transform(x_train)\n",
    "x_test = scaler.transform(x_test)\n",
    "y_train = one_hot_encoding(y_train, N_CLASS)\n",
    "y_test = one_hot_encoding(y_test, N_CLASS)"
   ]
  },
  {
   "cell_type": "code",
   "execution_count": 8,
   "metadata": {
    "tags": [
     "outputPrepend"
    ]
   },
   "outputs": [
    {
     "name": "stdout",
     "output_type": "stream",
     "text": [
      "Checkpoint 10, Accuracy: 0.8518518518518519, Loss: 0.4750777703744394\n",
      "Checkpoint 20, Accuracy: 0.8641975308641975, Loss: 0.47768719991048175\n",
      "Checkpoint 30, Accuracy: 0.8950617283950617, Loss: 0.4202986823187934\n",
      "Checkpoint 40, Accuracy: 0.9135802469135802, Loss: 0.430100229051378\n",
      "Checkpoint 50, Accuracy: 0.9074074074074074, Loss: 0.4264257925528067\n",
      "Checkpoint 60, Accuracy: 0.9135802469135802, Loss: 0.41402950993290655\n",
      "Checkpoint 70, Accuracy: 0.9382716049382716, Loss: 0.32288586651837387\n",
      "Checkpoint 80, Accuracy: 0.9444444444444444, Loss: 0.2871323691474067\n",
      "Checkpoint 90, Accuracy: 0.9567901234567902, Loss: 0.27538130018446183\n",
      "Checkpoint 100, Accuracy: 0.9629629629629629, Loss: 0.22517801214147498\n",
      "Checkpoint 110, Accuracy: 0.9567901234567902, Loss: 0.19196900614985712\n",
      "Checkpoint 120, Accuracy: 0.9691358024691358, Loss: 0.15350749757554796\n",
      "Checkpoint 130, Accuracy: 0.9691358024691358, Loss: 0.14138489299350315\n",
      "Checkpoint 140, Accuracy: 0.9629629629629629, Loss: 0.14187237068458838\n",
      "Checkpoint 150, Accuracy: 0.9629629629629629, Loss: 0.14247138411910445\n",
      "Checkpoint 160, Accuracy: 0.9629629629629629, Loss: 0.11464229336491337\n",
      "Checkpoint 170, Accuracy: 0.9629629629629629, Loss: 0.13350265997427482\n",
      "Checkpoint 180, Accuracy: 0.9567901234567902, Loss: 0.13935365500273528\n",
      "Checkpoint 190, Accuracy: 0.9691358024691358, Loss: 0.11449919806586371\n",
      "Checkpoint 200, Accuracy: 0.9567901234567902, Loss: 0.13796816931830513\n"
     ]
    }
   ],
   "source": [
    "# learning phase\n",
    "breakpoint = 10\n",
    "checkpoints = list()\n",
    "history = list()\n",
    "for century in range(0, EPOCHS, breakpoint):\n",
    "    sub_history = model.fit(x_train, y_train, breakpoint, verbose = 0)\n",
    "    score = model.evaluate(x_test, y_test, False, verbose = 0)\n",
    "    print('Checkpoint {}, Accuracy: {}, Loss: {}'.format(century+breakpoint, score['accuracy'], score[model.loss_fn]))\n",
    "    score['checkpoint'] = century + breakpoint\n",
    "    checkpoints.append(score)\n",
    "    history.extend(sub_history)\n",
    "    itr = century + breakpoint\n",
    "    model.optimizer.c2 = np.max([model.optimizer.C2[1] - ((model.optimizer.C2[1] - model.optimizer.C2[0]) * itr / EPOCHS), model.optimizer.C2[0]])\n",
    "    model.optimizer.c1 = np.min([model.optimizer.C1[0] + ((model.optimizer.C1[1] - model.optimizer.C1[0]) * itr / EPOCHS), model.optimizer.C1[1]])\n",
    "    model.optimizer.w = np.max([model.optimizer.w * model.optimizer.W_Decay, model.optimizer.W[0]])"
   ]
  },
  {
   "cell_type": "code",
   "execution_count": 9,
   "metadata": {},
   "outputs": [],
   "source": [
    "train_acc = [h['accuracy'] for h in history]\n",
    "train_mse = [h['mean_square_error'] for h in history]\n",
    "train_cce = [h['categorical_crossentropy'] for h in history]"
   ]
  },
  {
   "cell_type": "code",
   "execution_count": 10,
   "metadata": {},
   "outputs": [],
   "source": [
    "import matplotlib.pyplot as plt\n",
    "\n",
    "def draw_plot(x, y_list, x_label=None, y_label=None, legend=None, title=None):\n",
    "    fig, ax = plt.subplots(figsize=(12,5))\n",
    "    for xi, yi in zip(x, y_list):\n",
    "        ax.plot(xi, yi)\n",
    "    if x_label is not None and y_label is not None:\n",
    "        ax.set(xlabel=x_label, ylabel=y_label, title='{} VS {}'.format(x_label, y_label))\n",
    "    if legend is not None:\n",
    "        ax.legend(legend)\n",
    "    ax.grid()\n",
    "    plt.show()"
   ]
  },
  {
   "cell_type": "code",
   "execution_count": 11,
   "metadata": {},
   "outputs": [
    {
     "data": {
      "image/png": "[encoded data removed]",
      "text/plain": [
       "<Figure size 864x360 with 1 Axes>"
      ]
     },
     "metadata": {
      "needs_background": "light"
     },
     "output_type": "display_data"
    },
    {
     "data": {
      "image/png": "[encoded data removed]",
      "text/plain": [
       "<Figure size 864x360 with 1 Axes>"
      ]
     },
     "metadata": {
      "needs_background": "light"
     },
     "output_type": "display_data"
    }
   ],
   "source": [
    "draw_plot(x = [[i for i in range(len(history))], [(i+1)*breakpoint for i in range(len(checkpoints))]], y_list = [train_cce, [ ckp[model.loss_fn] for ckp in checkpoints ]], x_label = 'Epochs', \\\n",
    "    y_label = model.loss_fn, legend=['train', 'test'])\n",
    "acc = [ ckp['accuracy'] for ckp in checkpoints ]\n",
    "draw_plot(x = [[i for i in range(len(history))], [(i+1)*breakpoint for i in range(len(checkpoints))]], y_list = [train_acc, acc], x_label = 'Checkpoints', \\\n",
    "    y_label = 'accuracy', legend=['train', 'test'])"
   ]
  },
  {
   "cell_type": "code",
   "execution_count": 12,
   "metadata": {},
   "outputs": [
    {
     "name": "stdout",
     "output_type": "stream",
     "text": [
      "[0. 0. 1.] <-> [1.3855476e-02 1.4767457e-04 9.8599690e-01]\n",
      "[1. 0. 0.] <-> [9.9836737e-01 9.4402797e-04 6.8863627e-04]\n",
      "[1. 0. 0.] <-> [9.982975e-01 1.066077e-03 6.364343e-04]\n",
      "[0. 0. 1.] <-> [1.3861625e-02 1.4773264e-04 9.8599064e-01]\n",
      "[1. 0. 0.] <-> [9.9523360e-01 3.8173383e-03 9.4902696e-04]\n",
      "[1. 0. 0.] <-> [9.9830711e-01 9.7019848e-04 7.2277646e-04]\n",
      "[1. 0. 0.] <-> [0.69149834 0.0020604  0.3064412 ]\n",
      "[1. 0. 0.] <-> [0.99733317 0.00107649 0.00159042]\n",
      "[1. 0. 0.] <-> [9.9781358e-01 9.7673840e-04 1.2096525e-03]\n",
      "[0. 1. 0.] <-> [0.23942454 0.7561757  0.00439968]\n",
      "[1. 0. 0.] <-> [9.9815768e-01 1.2420892e-03 6.0019817e-04]\n",
      "[1. 0. 0.] <-> [0.9928986  0.0014621  0.00563927]\n",
      "[1. 0. 0.] <-> [0.9956454  0.00105312 0.00330146]\n",
      "[0. 0. 1.] <-> [0.9504447  0.00253847 0.0470169 ]\n",
      "[1. 0. 0.] <-> [9.9798262e-01 1.3544096e-03 6.6283974e-04]\n",
      "[0. 0. 1.] <-> [1.38603235e-02 1.47723564e-04 9.85992014e-01]\n",
      "[1. 0. 0.] <-> [9.9572313e-01 3.3427856e-03 9.3401887e-04]\n",
      "[1. 0. 0.] <-> [9.9780184e-01 1.4323299e-03 7.6582259e-04]\n",
      "[1. 0. 0.] <-> [9.9807632e-01 1.3203229e-03 6.0337677e-04]\n",
      "[0. 1. 0.] <-> [8.2049677e-03 9.9102086e-01 7.7417633e-04]\n",
      "[1. 0. 0.] <-> [9.9813712e-01 1.1987203e-03 6.6416239e-04]\n",
      "[1. 0. 0.] <-> [0.9806245  0.00160945 0.01776605]\n",
      "[0. 0. 1.] <-> [0.2707953  0.00193135 0.72727334]\n",
      "[0. 1. 0.] <-> [8.2049314e-03 9.9102086e-01 7.7417516e-04]\n",
      "[1. 0. 0.] <-> [9.984407e-01 9.612638e-04 5.980785e-04]\n",
      "[1. 0. 0.] <-> [0.9978635  0.00113507 0.00100151]\n",
      "[1. 0. 0.] <-> [9.9830353e-01 9.9832774e-04 6.9810520e-04]\n",
      "[0. 1. 0.] <-> [8.204921e-03 9.910210e-01 7.741742e-04]\n",
      "[1. 0. 0.] <-> [0.37397632 0.00144802 0.6245757 ]\n",
      "[0. 1. 0.] <-> [8.2122358e-03 9.9101323e-01 7.7456876e-04]\n",
      "[1. 0. 0.] <-> [0.9782286  0.00165677 0.02011462]\n",
      "[1. 0. 0.] <-> [9.9777657e-01 1.5417394e-03 6.8166794e-04]\n",
      "[1. 0. 0.] <-> [9.9807775e-01 9.9180348e-04 9.3037763e-04]\n",
      "[1. 0. 0.] <-> [0.9898461  0.00140672 0.00874726]\n",
      "[1. 0. 0.] <-> [9.982951e-01 9.878739e-04 7.169534e-04]\n",
      "[0. 1. 0.] <-> [8.4421085e-03 9.9077082e-01 7.8709965e-04]\n",
      "[0. 0. 1.] <-> [1.3873891e-02 1.4780974e-04 9.8597831e-01]\n",
      "[1. 0. 0.] <-> [9.9799216e-01 9.7606104e-04 1.0318402e-03]\n",
      "[1. 0. 0.] <-> [9.9806684e-01 1.3002510e-03 6.3291111e-04]\n",
      "[1. 0. 0.] <-> [9.9812835e-01 9.9492318e-04 8.7674480e-04]\n",
      "[1. 0. 0.] <-> [0.9583534  0.00186547 0.03978108]\n",
      "[1. 0. 0.] <-> [9.980934e-01 9.517168e-04 9.548009e-04]\n",
      "[1. 0. 0.] <-> [0.8395467  0.00257399 0.15787928]\n",
      "[0. 1. 0.] <-> [0.01705073 0.9817847  0.00116458]\n",
      "[1. 0. 0.] <-> [9.9535096e-01 3.7126886e-03 9.3628326e-04]\n",
      "[0. 1. 0.] <-> [8.205267e-03 9.910206e-01 7.741913e-04]\n",
      "[1. 0. 0.] <-> [9.9822026e-01 1.0958010e-03 6.8391027e-04]\n",
      "[1. 0. 0.] <-> [0.97222364 0.02564401 0.00213243]\n",
      "[1. 0. 0.] <-> [9.9798977e-01 1.2585903e-03 7.5167336e-04]\n",
      "[1. 0. 0.] <-> [9.9823171e-01 9.8360027e-04 7.8469946e-04]\n",
      "[0. 1. 0.] <-> [0.19226377 0.80394185 0.00379441]\n",
      "[0. 1. 0.] <-> [8.2050059e-03 9.9102086e-01 7.7417819e-04]\n",
      "[0. 0. 1.] <-> [0.964052   0.00227106 0.033677  ]\n",
      "[1. 0. 0.] <-> [9.9825090e-01 9.6337020e-04 7.8579184e-04]\n",
      "[1. 0. 0.] <-> [0.99798346 0.00100785 0.00100865]\n",
      "[1. 0. 0.] <-> [0.9864097  0.0013859  0.01220431]\n",
      "[1. 0. 0.] <-> [9.9834931e-01 9.6071808e-04 6.9000333e-04]\n",
      "[1. 0. 0.] <-> [9.9728560e-01 1.9814277e-03 7.3294097e-04]\n",
      "[1. 0. 0.] <-> [9.982862e-01 9.268167e-04 7.869303e-04]\n",
      "[1. 0. 0.] <-> [9.9820673e-01 9.4117137e-04 8.5210236e-04]\n",
      "[1. 0. 0.] <-> [9.9781811e-01 1.5128551e-03 6.6905416e-04]\n",
      "[1. 0. 0.] <-> [9.9826032e-01 1.0712614e-03 6.6841807e-04]\n",
      "[1. 0. 0.] <-> [0.98959446 0.00113727 0.00926828]\n",
      "[1. 0. 0.] <-> [0.9957729  0.00109716 0.00312991]\n",
      "[1. 0. 0.] <-> [9.9808854e-01 1.1109380e-03 8.0049771e-04]\n",
      "[1. 0. 0.] <-> [0.99625707 0.00118452 0.00255835]\n",
      "[0. 0. 1.] <-> [1.3861678e-02 1.4777068e-04 9.8599052e-01]\n",
      "[1. 0. 0.] <-> [9.9694163e-01 2.2837168e-03 7.7467225e-04]\n",
      "[1. 0. 0.] <-> [9.9770457e-01 1.5656737e-03 7.2978687e-04]\n",
      "[0. 0. 1.] <-> [1.3843919e-02 1.4783678e-04 9.8600823e-01]\n",
      "[1. 0. 0.] <-> [9.9834538e-01 1.0616583e-03 5.9290743e-04]\n",
      "[0. 1. 0.] <-> [0.67348033 0.3207205  0.0057992 ]\n",
      "[1. 0. 0.] <-> [0.99264127 0.00138959 0.00596915]\n",
      "[1. 0. 0.] <-> [9.9826247e-01 9.2998380e-04 8.0754521e-04]\n",
      "[1. 0. 0.] <-> [0.99194956 0.00148659 0.00656377]\n",
      "[1. 0. 0.] <-> [9.9806315e-01 9.4438723e-04 9.9257135e-04]\n",
      "[1. 0. 0.] <-> [0.9698648  0.00159683 0.02853842]\n",
      "[1. 0. 0.] <-> [9.9808121e-01 1.1639525e-03 7.5479207e-04]\n",
      "[1. 0. 0.] <-> [0.9949197  0.00130583 0.00377442]\n",
      "[0. 1. 0.] <-> [0.0834059  0.91433257 0.0022616 ]\n",
      "[0. 0. 1.] <-> [1.3855573e-02 1.4767569e-04 9.8599678e-01]\n",
      "[0. 0. 1.] <-> [1.1445537e-02 1.7903275e-04 9.8837543e-01]\n",
      "[1. 0. 0.] <-> [9.9831057e-01 1.0757560e-03 6.1374425e-04]\n",
      "[0. 0. 1.] <-> [1.3854028e-02 1.4769239e-04 9.8599827e-01]\n",
      "[1. 0. 0.] <-> [0.89837277 0.00195113 0.09967603]\n",
      "[0. 0. 1.] <-> [1.3893096e-02 1.4798089e-04 9.8595899e-01]\n",
      "[1. 0. 0.] <-> [9.9808395e-01 1.0449151e-03 8.7119365e-04]\n",
      "[1. 0. 0.] <-> [0.98514    0.01324462 0.00161532]\n",
      "[1. 0. 0.] <-> [9.9732059e-01 1.8234547e-03 8.5601618e-04]\n",
      "[1. 0. 0.] <-> [9.9826366e-01 1.0513120e-03 6.8504026e-04]\n",
      "[1. 0. 0.] <-> [9.9790883e-01 9.9657965e-04 1.0946356e-03]\n",
      "[1. 0. 0.] <-> [0.9773073  0.00177949 0.02091322]\n",
      "[1. 0. 0.] <-> [9.9817193e-01 1.1137053e-03 7.1425881e-04]\n",
      "[0. 1. 0.] <-> [0.03747524 0.96069133 0.00183345]\n",
      "[0. 1. 0.] <-> [8.2049789e-03 9.9102086e-01 7.7417667e-04]\n",
      "[1. 0. 0.] <-> [0.4769702  0.00217055 0.52085924]\n",
      "[1. 0. 0.] <-> [0.9966594  0.00120346 0.00213712]\n",
      "[0. 0. 1.] <-> [1.3851761e-02 1.4771525e-04 9.8600048e-01]\n",
      "[0. 0. 1.] <-> [1.3616151e-02 1.5016898e-04 9.8623371e-01]\n",
      "[1. 0. 0.] <-> [0.970681   0.00178923 0.02752981]\n",
      "[1. 0. 0.] <-> [9.9836403e-01 9.9678605e-04 6.3928415e-04]\n",
      "[0. 1. 0.] <-> [0.7146849  0.2800608  0.00525434]\n",
      "[0. 1. 0.] <-> [8.5119875e-03 9.9069875e-01 7.8921119e-04]\n",
      "[0. 1. 0.] <-> [0.8663443  0.13040389 0.00325184]\n",
      "[1. 0. 0.] <-> [0.9829062  0.0012494  0.01584442]\n",
      "[1. 0. 0.] <-> [0.9962423  0.00099779 0.0027599 ]\n",
      "[1. 0. 0.] <-> [9.9834514e-01 1.0215958e-03 6.3324405e-04]\n",
      "[1. 0. 0.] <-> [0.9947907  0.00121599 0.00399339]\n",
      "{'accuracy': 0.9567901234567902, 'mean_square_error': 0.08416065689666044, 'categorical_crossentropy': 0.13796816931830513, 'essential_metrics': {0: {'tp_hit': 74, 'fp_hit': 5, 'tn_hit': 27, 'fn_hit': 2}, 1: {'tp_hit': 14, 'fp_hit': 0, 'tn_hit': 91, 'fn_hit': 3}, 2: {'tp_hit': 13, 'fp_hit': 2, 'tn_hit': 91, 'fn_hit': 2}}}\n"
     ]
    }
   ],
   "source": [
    "# recall phase\n",
    "score = model.evaluate(x_test, y_test, False)\n",
    "print(score)"
   ]
  },
  {
   "cell_type": "code",
   "execution_count": 13,
   "metadata": {},
   "outputs": [
    {
     "name": "stdout",
     "output_type": "stream",
     "text": [
      "{'accuracy': 0.8518518518518519, 'mean_square_error': 0.27816330020491115, 'categorical_crossentropy': 0.4750777703744394, 'essential_metrics': {0: {'tp_hit': 76, 'fp_hit': 20, 'tn_hit': 12, 'fn_hit': 0}, 1: {'tp_hit': 8, 'fp_hit': 0, 'tn_hit': 91, 'fn_hit': 9}, 2: {'tp_hit': 0, 'fp_hit': 4, 'tn_hit': 89, 'fn_hit': 15}}, 'checkpoint': 10} \n",
      "\n",
      "\n",
      "{'accuracy': 0.8641975308641975, 'mean_square_error': 0.2739109537253873, 'categorical_crossentropy': 0.47768719991048175, 'essential_metrics': {0: {'tp_hit': 76, 'fp_hit': 20, 'tn_hit': 12, 'fn_hit': 0}, 1: {'tp_hit': 8, 'fp_hit': 0, 'tn_hit': 91, 'fn_hit': 9}, 2: {'tp_hit': 2, 'fp_hit': 2, 'tn_hit': 91, 'fn_hit': 13}}, 'checkpoint': 20} \n",
      "\n",
      "\n",
      "{'accuracy': 0.8950617283950617, 'mean_square_error': 0.22824887242606676, 'categorical_crossentropy': 0.4202986823187934, 'essential_metrics': {0: {'tp_hit': 76, 'fp_hit': 15, 'tn_hit': 17, 'fn_hit': 0}, 1: {'tp_hit': 9, 'fp_hit': 0, 'tn_hit': 91, 'fn_hit': 8}, 2: {'tp_hit': 6, 'fp_hit': 2, 'tn_hit': 91, 'fn_hit': 9}}, 'checkpoint': 30} \n",
      "\n",
      "\n",
      "{'accuracy': 0.9135802469135802, 'mean_square_error': 0.2344023805765566, 'categorical_crossentropy': 0.430100229051378, 'essential_metrics': {0: {'tp_hit': 74, 'fp_hit': 9, 'tn_hit': 23, 'fn_hit': 2}, 1: {'tp_hit': 9, 'fp_hit': 1, 'tn_hit': 90, 'fn_hit': 8}, 2: {'tp_hit': 11, 'fp_hit': 4, 'tn_hit': 89, 'fn_hit': 4}}, 'checkpoint': 40} \n",
      "\n",
      "\n",
      "{'accuracy': 0.9074074074074074, 'mean_square_error': 0.2366406280616402, 'categorical_crossentropy': 0.4264257925528067, 'essential_metrics': {0: {'tp_hit': 72, 'fp_hit': 9, 'tn_hit': 23, 'fn_hit': 4}, 1: {'tp_hit': 9, 'fp_hit': 0, 'tn_hit': 91, 'fn_hit': 8}, 2: {'tp_hit': 12, 'fp_hit': 6, 'tn_hit': 87, 'fn_hit': 3}}, 'checkpoint': 50} \n",
      "\n",
      "\n",
      "{'accuracy': 0.9135802469135802, 'mean_square_error': 0.22223936273579345, 'categorical_crossentropy': 0.41402950993290655, 'essential_metrics': {0: {'tp_hit': 72, 'fp_hit': 10, 'tn_hit': 22, 'fn_hit': 4}, 1: {'tp_hit': 10, 'fp_hit': 0, 'tn_hit': 91, 'fn_hit': 7}, 2: {'tp_hit': 12, 'fp_hit': 4, 'tn_hit': 89, 'fn_hit': 3}}, 'checkpoint': 60} \n",
      "\n",
      "\n",
      "{'accuracy': 0.9382716049382716, 'mean_square_error': 0.1722105305244338, 'categorical_crossentropy': 0.32288586651837387, 'essential_metrics': {0: {'tp_hit': 74, 'fp_hit': 8, 'tn_hit': 24, 'fn_hit': 2}, 1: {'tp_hit': 12, 'fp_hit': 0, 'tn_hit': 91, 'fn_hit': 5}, 2: {'tp_hit': 12, 'fp_hit': 2, 'tn_hit': 91, 'fn_hit': 3}}, 'checkpoint': 70} \n",
      "\n",
      "\n",
      "{'accuracy': 0.9444444444444444, 'mean_square_error': 0.14824757145522266, 'categorical_crossentropy': 0.2871323691474067, 'essential_metrics': {0: {'tp_hit': 74, 'fp_hit': 7, 'tn_hit': 25, 'fn_hit': 2}, 1: {'tp_hit': 13, 'fp_hit': 1, 'tn_hit': 90, 'fn_hit': 4}, 2: {'tp_hit': 12, 'fp_hit': 1, 'tn_hit': 92, 'fn_hit': 3}}, 'checkpoint': 80} \n",
      "\n",
      "\n",
      "{'accuracy': 0.9567901234567902, 'mean_square_error': 0.13389060063525454, 'categorical_crossentropy': 0.27538130018446183, 'essential_metrics': {0: {'tp_hit': 75, 'fp_hit': 6, 'tn_hit': 26, 'fn_hit': 1}, 1: {'tp_hit': 14, 'fp_hit': 0, 'tn_hit': 91, 'fn_hit': 3}, 2: {'tp_hit': 12, 'fp_hit': 1, 'tn_hit': 92, 'fn_hit': 3}}, 'checkpoint': 90} \n",
      "\n",
      "\n",
      "{'accuracy': 0.9629629629629629, 'mean_square_error': 0.11015057893881898, 'categorical_crossentropy': 0.22517801214147498, 'essential_metrics': {0: {'tp_hit': 75, 'fp_hit': 5, 'tn_hit': 27, 'fn_hit': 1}, 1: {'tp_hit': 15, 'fp_hit': 0, 'tn_hit': 91, 'fn_hit': 2}, 2: {'tp_hit': 12, 'fp_hit': 1, 'tn_hit': 92, 'fn_hit': 3}}, 'checkpoint': 100} \n",
      "\n",
      "\n",
      "{'accuracy': 0.9567901234567902, 'mean_square_error': 0.10530166273959563, 'categorical_crossentropy': 0.19196900614985712, 'essential_metrics': {0: {'tp_hit': 74, 'fp_hit': 5, 'tn_hit': 27, 'fn_hit': 2}, 1: {'tp_hit': 15, 'fp_hit': 0, 'tn_hit': 91, 'fn_hit': 2}, 2: {'tp_hit': 12, 'fp_hit': 2, 'tn_hit': 91, 'fn_hit': 3}}, 'checkpoint': 110} \n",
      "\n",
      "\n",
      "{'accuracy': 0.9691358024691358, 'mean_square_error': 0.07946418288359815, 'categorical_crossentropy': 0.15350749757554796, 'essential_metrics': {0: {'tp_hit': 76, 'fp_hit': 5, 'tn_hit': 27, 'fn_hit': 0}, 1: {'tp_hit': 15, 'fp_hit': 0, 'tn_hit': 91, 'fn_hit': 2}, 2: {'tp_hit': 12, 'fp_hit': 0, 'tn_hit': 93, 'fn_hit': 3}}, 'checkpoint': 120} \n",
      "\n",
      "\n",
      "{'accuracy': 0.9691358024691358, 'mean_square_error': 0.07769168633918637, 'categorical_crossentropy': 0.14138489299350315, 'essential_metrics': {0: {'tp_hit': 76, 'fp_hit': 5, 'tn_hit': 27, 'fn_hit': 0}, 1: {'tp_hit': 15, 'fp_hit': 0, 'tn_hit': 91, 'fn_hit': 2}, 2: {'tp_hit': 12, 'fp_hit': 0, 'tn_hit': 93, 'fn_hit': 3}}, 'checkpoint': 130} \n",
      "\n",
      "\n",
      "{'accuracy': 0.9629629629629629, 'mean_square_error': 0.0760200603620772, 'categorical_crossentropy': 0.14187237068458838, 'essential_metrics': {0: {'tp_hit': 75, 'fp_hit': 5, 'tn_hit': 27, 'fn_hit': 1}, 1: {'tp_hit': 15, 'fp_hit': 0, 'tn_hit': 91, 'fn_hit': 2}, 2: {'tp_hit': 12, 'fp_hit': 1, 'tn_hit': 92, 'fn_hit': 3}}, 'checkpoint': 140} \n",
      "\n",
      "\n",
      "{'accuracy': 0.9629629629629629, 'mean_square_error': 0.08350487827416056, 'categorical_crossentropy': 0.14247138411910445, 'essential_metrics': {0: {'tp_hit': 75, 'fp_hit': 5, 'tn_hit': 27, 'fn_hit': 1}, 1: {'tp_hit': 15, 'fp_hit': 0, 'tn_hit': 91, 'fn_hit': 2}, 2: {'tp_hit': 12, 'fp_hit': 1, 'tn_hit': 92, 'fn_hit': 3}}, 'checkpoint': 150} \n",
      "\n",
      "\n",
      "{'accuracy': 0.9629629629629629, 'mean_square_error': 0.06894743673659454, 'categorical_crossentropy': 0.11464229336491337, 'essential_metrics': {0: {'tp_hit': 74, 'fp_hit': 4, 'tn_hit': 28, 'fn_hit': 2}, 1: {'tp_hit': 15, 'fp_hit': 0, 'tn_hit': 91, 'fn_hit': 2}, 2: {'tp_hit': 13, 'fp_hit': 2, 'tn_hit': 91, 'fn_hit': 2}}, 'checkpoint': 160} \n",
      "\n",
      "\n",
      "{'accuracy': 0.9629629629629629, 'mean_square_error': 0.07569652877330599, 'categorical_crossentropy': 0.13350265997427482, 'essential_metrics': {0: {'tp_hit': 75, 'fp_hit': 5, 'tn_hit': 27, 'fn_hit': 1}, 1: {'tp_hit': 15, 'fp_hit': 0, 'tn_hit': 91, 'fn_hit': 2}, 2: {'tp_hit': 12, 'fp_hit': 1, 'tn_hit': 92, 'fn_hit': 3}}, 'checkpoint': 170} \n",
      "\n",
      "\n",
      "{'accuracy': 0.9567901234567902, 'mean_square_error': 0.08297668228416344, 'categorical_crossentropy': 0.13935365500273528, 'essential_metrics': {0: {'tp_hit': 75, 'fp_hit': 6, 'tn_hit': 26, 'fn_hit': 1}, 1: {'tp_hit': 14, 'fp_hit': 0, 'tn_hit': 91, 'fn_hit': 3}, 2: {'tp_hit': 12, 'fp_hit': 1, 'tn_hit': 92, 'fn_hit': 3}}, 'checkpoint': 180} \n",
      "\n",
      "\n",
      "{'accuracy': 0.9691358024691358, 'mean_square_error': 0.07238756902957083, 'categorical_crossentropy': 0.11449919806586371, 'essential_metrics': {0: {'tp_hit': 76, 'fp_hit': 5, 'tn_hit': 27, 'fn_hit': 0}, 1: {'tp_hit': 14, 'fp_hit': 0, 'tn_hit': 91, 'fn_hit': 3}, 2: {'tp_hit': 13, 'fp_hit': 0, 'tn_hit': 93, 'fn_hit': 2}}, 'checkpoint': 190} \n",
      "\n",
      "\n",
      "{'accuracy': 0.9567901234567902, 'mean_square_error': 0.08416065689666044, 'categorical_crossentropy': 0.13796816931830513, 'essential_metrics': {0: {'tp_hit': 74, 'fp_hit': 5, 'tn_hit': 27, 'fn_hit': 2}, 1: {'tp_hit': 14, 'fp_hit': 0, 'tn_hit': 91, 'fn_hit': 3}, 2: {'tp_hit': 13, 'fp_hit': 2, 'tn_hit': 91, 'fn_hit': 2}}, 'checkpoint': 200} \n",
      "\n",
      "\n"
     ]
    }
   ],
   "source": [
    "for checkpoint in checkpoints:\n",
    "    print(checkpoint, '\\n\\n')"
   ]
  },
  {
   "cell_type": "code",
   "execution_count": 14,
   "metadata": {},
   "outputs": [
    {
     "name": "stdout",
     "output_type": "stream",
     "text": [
      "Layer 1\n",
      "Neuron 0: weights:\n",
      "[ 1.1946357 -3.        -1.2960699  3.         1.5594882]\n",
      " bias: -3.0\n",
      "\n",
      "Neuron 1: weights:\n",
      "[-1.8409984  2.763971   1.4847263 -3.        -1.1145822]\n",
      " bias: 3.0\n",
      "\n",
      "Neuron 2: weights:\n",
      "[ 2.091556  -3.        -2.0659544 -2.5811691  1.567645 ]\n",
      " bias: 3.0\n",
      "\n",
      "Neuron 3: weights:\n",
      "[-1.7084378  3.         3.         2.2047758 -1.3369238]\n",
      " bias: -3.0\n",
      "\n",
      "$\n",
      "Layer 2\n",
      "Neuron 0: weights:\n",
      "[-3.        3.        3.       -2.965517]\n",
      " bias: -1.8284844160079956\n",
      "\n",
      "Neuron 1: weights:\n",
      "[-0.36991018  3.         -3.          3.        ]\n",
      " bias: -3.0\n",
      "\n",
      "Neuron 2: weights:\n",
      "[ 3.         -3.         -0.28254125 -0.8737242 ]\n",
      " bias: -0.28096967935562134\n",
      "\n",
      "$\n",
      "\n"
     ]
    }
   ],
   "source": [
    "print(model)"
   ]
  }
 ],
 "metadata": {
  "kernelspec": {
   "display_name": "Python 3",
   "language": "python",
   "name": "python3"
  },
  "language_info": {
   "codemirror_mode": {
    "name": "ipython",
    "version": 3
   },
   "file_extension": ".py",
   "mimetype": "text/x-python",
   "name": "python",
   "nbconvert_exporter": "python",
   "pygments_lexer": "ipython3",
   "version": "3.6.12"
  }
 },
 "nbformat": 4,
 "nbformat_minor": 2
}
