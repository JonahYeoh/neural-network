{
 "cells": [
  {
   "cell_type": "code",
   "execution_count": 1,
   "metadata": {},
   "outputs": [],
   "source": [
    "# dependency\n",
    "import numpy as np\n",
    "import pandas as pd\n",
    "import copy\n",
    "import math\n",
    "import sys\n",
    "import os\n",
    "from activations import relu, leaky_relu, sigmoid, tanh, softmax, d_sigmoid, d_relu\n",
    "from initializers import glorot_uniform, random_normal, random_uniform\n",
    "from regularizers import l1_regularizer, l2_regularizer\n",
    "from utility import trim_tail, multiply, subtract, get_nparams, one_hot_encoding, get_data\n",
    "from metrics import MSE, CCE, ACC, PRECISION, RECALL, essential_metrics, wondering_penalty, close_gap_penalty\n",
    "from pso import PSO\n",
    "from ga import GA\n",
    "from nn import Network\n",
    "from layer import DenseLayer\n",
    "from scalers import MinMaxScaler, StandardScaler"
   ]
  },
  {
   "cell_type": "code",
   "execution_count": 2,
   "metadata": {},
   "outputs": [],
   "source": [
    "# reference\n",
    "metrics_fn_dict = dict()\n",
    "metrics_fn_dict['accuracy'] = ACC\n",
    "metrics_fn_dict['categorical_crossentropy'] = CCE\n",
    "metrics_fn_dict['mean_square_error'] = MSE\n",
    "metrics_fn_dict['precision'] = PRECISION\n",
    "metrics_fn_dict['recall'] = RECALL\n",
    "metrics_fn_dict['essential_metrics'] = essential_metrics"
   ]
  },
  {
   "cell_type": "code",
   "execution_count": 3,
   "metadata": {},
   "outputs": [],
   "source": [
    "# model\n",
    "model = Network(5, lr = None)\n",
    "model.add_layer(DenseLayer(1, 4, True, afn=sigmoid, dafn=None, rfn=None))\n",
    "model.add_layer(DenseLayer(2, 3, True, afn=softmax, dafn=None, rfn=None))"
   ]
  },
  {
   "cell_type": "code",
   "execution_count": 4,
   "metadata": {},
   "outputs": [
    {
     "name": "stdout",
     "output_type": "stream",
     "text": [
      "see one see two 2 0.5\n"
     ]
    }
   ],
   "source": [
    "pso = PSO(dict(m = 50,\n",
    "    weight_constraint = [-3, 3], \n",
    "    velocity_constraint = [-0.1, 0.1],\n",
    "    c1 = [0.5, 2],\n",
    "    c2 = [0.5, 2],\n",
    "    w = [0.5, 1.6],\n",
    "    w_decay = 0.95,\n",
    "    scale_hyperparameter = False,\n",
    "    regularizer = l2_regularizer,\n",
    "    mask = True))"
   ]
  },
  {
   "cell_type": "code",
   "execution_count": 5,
   "metadata": {},
   "outputs": [
    {
     "name": "stdout",
     "output_type": "stream",
     "text": [
      "building layer 1 with 5\n",
      "24\n",
      "building layer 2 with 4\n",
      "15\n"
     ]
    }
   ],
   "source": [
    "model.compile(loss_fn = 'categorical_crossentropy', optimizer = pso, \\\n",
    "    metrics = ['accuracy', 'mean_square_error', 'categorical_crossentropy'])"
   ]
  },
  {
   "cell_type": "code",
   "execution_count": 6,
   "metadata": {},
   "outputs": [
    {
     "name": "stdout",
     "output_type": "stream",
     "text": [
      "<class 'pandas.core.frame.DataFrame'>\n",
      "RangeIndex: 107 entries, 0 to 106\n",
      "Data columns (total 6 columns):\n",
      " #   Column  Non-Null Count  Dtype  \n",
      "---  ------  --------------  -----  \n",
      " 0   f1      107 non-null    float32\n",
      " 1   f2      107 non-null    float32\n",
      " 2   f3      107 non-null    float32\n",
      " 3   f4      107 non-null    float32\n",
      " 4   f5      107 non-null    float32\n",
      " 5   label   107 non-null    float32\n",
      "dtypes: float32(6)\n",
      "memory usage: 2.6 KB\n",
      "None\n",
      "<class 'pandas.core.frame.DataFrame'>\n",
      "RangeIndex: 108 entries, 0 to 107\n",
      "Data columns (total 6 columns):\n",
      " #   Column  Non-Null Count  Dtype  \n",
      "---  ------  --------------  -----  \n",
      " 0   f1      108 non-null    float32\n",
      " 1   f2      108 non-null    float32\n",
      " 2   f3      108 non-null    float32\n",
      " 3   f4      108 non-null    float32\n",
      " 4   f5      108 non-null    float32\n",
      " 5   label   108 non-null    float32\n",
      "dtypes: float32(6)\n",
      "memory usage: 2.7 KB\n",
      "None\n"
     ]
    }
   ],
   "source": [
    "# data loading\n",
    "DATA = os.path.join('c:\\\\Users\\\\tcumi\\\\github_repo\\\\neural-network\\\\', 'dataset')\n",
    "GROUP = 1\n",
    "COLUMNS = ['f1', 'f2', 'f3', 'f4', 'f5', 'label']\n",
    "N_CLASS = 3\n",
    "EPOCHS = 500\n",
    "train_dir, test_dir = \"..//dataset//training_data{}.txt\".format(GROUP), \"..//dataset//testing_data{}.txt\".format(GROUP)\n",
    "train, test = get_data(DATA, train_dir, COLUMNS), get_data(DATA, test_dir, COLUMNS)\n",
    "# shuffle\n",
    "train, test = train.sample(frac=1), test.sample(frac=1)\n",
    "x_train, y_train = train.drop('label', axis=1), train['label']\n",
    "x_test, y_test = test.drop('label', axis=1), test['label']"
   ]
  },
  {
   "cell_type": "code",
   "execution_count": 7,
   "metadata": {},
   "outputs": [],
   "source": [
    "# data scaling and encoding\n",
    "scaler = StandardScaler(['f1', 'f2', 'f3', 'f4', 'f5'])\n",
    "scaler.fit(x_train)\n",
    "x_train = scaler.transform(x_train)\n",
    "x_test = scaler.transform(x_test)\n",
    "y_train = one_hot_encoding(y_train, N_CLASS)\n",
    "y_test = one_hot_encoding(y_test, N_CLASS)"
   ]
  },
  {
   "cell_type": "code",
   "execution_count": 8,
   "metadata": {
    "tags": [
     "outputPrepend"
    ]
   },
   "outputs": [
    {
     "name": "stdout",
     "output_type": "stream",
     "text": [
      "Checkpoint 100, Accuracy: 0.9259259259259259, Loss: 0.4230384826660156\n",
      "Checkpoint 200, Accuracy: 0.9382716049382716, Loss: 0.35316972379331235\n",
      "Checkpoint 300, Accuracy: 0.9259259259259259, Loss: 0.33845339881049263\n",
      "Checkpoint 400, Accuracy: 0.9382716049382716, Loss: 0.3596137011492694\n",
      "Checkpoint 500, Accuracy: 0.9259259259259259, Loss: 0.3682236141628689\n"
     ]
    }
   ],
   "source": [
    "# learning phase\n",
    "breakpoint = 100\n",
    "checkpoints = list()\n",
    "history = list()\n",
    "for century in range(0, EPOCHS, breakpoint):\n",
    "    sub_history = model.fit(x_train, y_train, breakpoint, verbose = 0)\n",
    "    score = model.evaluate(x_test, y_test, False, verbose = 0)\n",
    "    print('Checkpoint {}, Accuracy: {}, Loss: {}'.format(century+breakpoint, score['accuracy'], score[model.loss_fn]))\n",
    "    score['checkpoint'] = century + breakpoint\n",
    "    checkpoints.append(score)\n",
    "    history.extend(sub_history)\n",
    "    itr = century + breakpoint\n",
    "    model.optimizer.c1 = np.max([model.optimizer.C1[1] - ((model.optimizer.C1[1] - model.optimizer.C1[0]) * itr / EPOCHS), model.optimizer.C1[0]])\n",
    "    model.optimizer.c2 = np.min([model.optimizer.C2[0] + ((model.optimizer.C2[1] - model.optimizer.C2[0]) * itr / EPOCHS), model.optimizer.C2[1]])\n",
    "    model.optimizer.w = np.max([model.optimizer.w * model.optimizer.W_Decay, model.optimizer.W[0]])"
   ]
  },
  {
   "cell_type": "code",
   "execution_count": 9,
   "metadata": {},
   "outputs": [],
   "source": [
    "import matplotlib.pyplot as plt\n",
    "\n",
    "def draw_plot(x, y_list, x_label=None, y_label=None, legend=None, title=None):\n",
    "    fig, ax = plt.subplots(figsize=(12,5))\n",
    "    for xi, yi in zip(x, y_list):\n",
    "        ax.plot(xi, yi)\n",
    "    if x_label is not None and y_label is not None:\n",
    "        ax.set(xlabel=x_label, ylabel=y_label, title='{} VS {}'.format(x_label, y_label))\n",
    "    if legend is not None:\n",
    "        ax.legend(legend)\n",
    "    ax.grid()\n",
    "    plt.show()"
   ]
  },
  {
   "cell_type": "code",
   "execution_count": 10,
   "metadata": {},
   "outputs": [
    {
     "name": "stdout",
     "output_type": "stream",
     "text": [
      "[1. 0. 0.] <-> [0.81757534 0.08615847 0.09626625]\n",
      "[1. 0. 0.] <-> [0.80904204 0.08337679 0.10758121]\n",
      "[1. 0. 0.] <-> [0.79704636 0.05036667 0.15258697]\n",
      "[1. 0. 0.] <-> [0.77466553 0.09629051 0.12904397]\n",
      "[1. 0. 0.] <-> [0.7615604  0.05072321 0.18771641]\n",
      "[1. 0. 0.] <-> [0.7627989  0.14772357 0.08947749]\n",
      "[1. 0. 0.] <-> [0.7792729  0.15683635 0.06389071]\n",
      "[1. 0. 0.] <-> [0.70960003 0.06991369 0.22048625]\n",
      "[1. 0. 0.] <-> [0.76947796 0.0993158  0.13120624]\n",
      "[1. 0. 0.] <-> [0.79261434 0.14025642 0.06712925]\n",
      "[1. 0. 0.] <-> [0.7720247  0.16071312 0.0672622 ]\n",
      "[0. 0. 1.] <-> [0.28395885 0.01731403 0.69872713]\n",
      "[1. 0. 0.] <-> [0.80756    0.0931729  0.09926704]\n",
      "[1. 0. 0.] <-> [0.7983562  0.0532588  0.14838497]\n",
      "[1. 0. 0.] <-> [0.8052557  0.07038102 0.12436321]\n",
      "[1. 0. 0.] <-> [0.78746384 0.06648035 0.14605582]\n",
      "[0. 0. 1.] <-> [0.19712421 0.0293668  0.77350897]\n",
      "[1. 0. 0.] <-> [0.68432724 0.05253027 0.26314244]\n",
      "[0. 0. 1.] <-> [0.51872647 0.03709685 0.4441767 ]\n",
      "[1. 0. 0.] <-> [0.7931213  0.04841875 0.15845993]\n",
      "[1. 0. 0.] <-> [0.76010543 0.17653312 0.06336145]\n",
      "[1. 0. 0.] <-> [0.7941549  0.12511559 0.08072955]\n",
      "[0. 1. 0.] <-> [0.6509551  0.30826038 0.04078454]\n",
      "[1. 0. 0.] <-> [0.82233316 0.07960384 0.09806295]\n",
      "[1. 0. 0.] <-> [0.7645935  0.13178279 0.10362369]\n",
      "[1. 0. 0.] <-> [0.8129016  0.0565712  0.13052724]\n",
      "[1. 0. 0.] <-> [0.7543907  0.17217538 0.07343388]\n",
      "[1. 0. 0.] <-> [0.81137234 0.0530244  0.13560326]\n",
      "[1. 0. 0.] <-> [0.7963726  0.09804077 0.10558667]\n",
      "[1. 0. 0.] <-> [0.7143768  0.07264751 0.21297576]\n",
      "[0. 0. 1.] <-> [0.76462954 0.03126695 0.20410344]\n",
      "[1. 0. 0.] <-> [0.7625977  0.17021419 0.06718811]\n",
      "[0. 0. 1.] <-> [0.3364643  0.02102072 0.64251494]\n",
      "[0. 0. 1.] <-> [0.37285957 0.01745605 0.60968447]\n",
      "[1. 0. 0.] <-> [0.7928533  0.13330215 0.0738446 ]\n",
      "[1. 0. 0.] <-> [0.80887765 0.10588286 0.08523949]\n",
      "[1. 0. 0.] <-> [0.78550863 0.07580461 0.13868672]\n",
      "[0. 0. 1.] <-> [0.17717452 0.02904385 0.79378164]\n",
      "[0. 1. 0.] <-> [0.25408202 0.7314219  0.01449607]\n",
      "[1. 0. 0.] <-> [0.77943075 0.13155092 0.08901837]\n",
      "[0. 0. 1.] <-> [0.18019797 0.02872233 0.79107964]\n",
      "[1. 0. 0.] <-> [0.7806675  0.0780618  0.14127067]\n",
      "[1. 0. 0.] <-> [0.7526328  0.08874787 0.15861933]\n",
      "[0. 0. 1.] <-> [0.36772835 0.01529665 0.616975  ]\n",
      "[0. 1. 0.] <-> [0.38289976 0.59361416 0.02348601]\n",
      "[0. 1. 0.] <-> [0.55442387 0.41127616 0.03429997]\n",
      "[1. 0. 0.] <-> [0.7515226  0.17388266 0.0745948 ]\n",
      "[1. 0. 0.] <-> [0.74810886 0.1868711  0.06501999]\n",
      "[1. 0. 0.] <-> [0.78211045 0.11981115 0.09807841]\n",
      "[0. 1. 0.] <-> [0.59079903 0.3702449  0.0389561 ]\n",
      "[0. 1. 0.] <-> [0.49210635 0.47523078 0.03266287]\n",
      "[1. 0. 0.] <-> [0.7865007  0.10467659 0.10882266]\n",
      "[0. 1. 0.] <-> [0.37782273 0.60126305 0.02091422]\n",
      "[1. 0. 0.] <-> [0.79233825 0.05038854 0.15727325]\n",
      "[0. 1. 0.] <-> [0.66217965 0.29705253 0.04076781]\n",
      "[1. 0. 0.] <-> [0.79711896 0.06292828 0.13995273]\n",
      "[1. 0. 0.] <-> [0.8003947  0.10081492 0.09879038]\n",
      "[1. 0. 0.] <-> [0.79417735 0.04444386 0.16137877]\n",
      "[1. 0. 0.] <-> [0.7632122  0.07138728 0.16540052]\n",
      "[1. 0. 0.] <-> [0.7917401  0.11224192 0.09601799]\n",
      "[1. 0. 0.] <-> [0.8085765  0.09873997 0.09268345]\n",
      "[1. 0. 0.] <-> [0.77430683 0.08395128 0.14174186]\n",
      "[0. 0. 1.] <-> [0.6676864  0.03085625 0.30145735]\n",
      "[0. 1. 0.] <-> [0.26152632 0.722955   0.01551869]\n",
      "[1. 0. 0.] <-> [0.82704955 0.07004774 0.10290278]\n",
      "[1. 0. 0.] <-> [0.795815   0.11768828 0.08649664]\n",
      "[1. 0. 0.] <-> [0.75197196 0.12395119 0.12407691]\n",
      "[1. 0. 0.] <-> [0.7449542  0.06307845 0.1919673 ]\n",
      "[1. 0. 0.] <-> [0.78192735 0.11861822 0.09945443]\n",
      "[1. 0. 0.] <-> [0.7803831  0.1112972  0.10831966]\n",
      "[0. 0. 1.] <-> [0.3199468  0.01357344 0.6664798 ]\n",
      "[1. 0. 0.] <-> [0.7731815  0.06069493 0.16612358]\n",
      "[1. 0. 0.] <-> [0.79026115 0.06788208 0.14185677]\n",
      "[1. 0. 0.] <-> [0.772896   0.09251681 0.1345872 ]\n",
      "[1. 0. 0.] <-> [0.6885841  0.04335444 0.26806152]\n",
      "[1. 0. 0.] <-> [0.69389665 0.06306112 0.2430423 ]\n",
      "[1. 0. 0.] <-> [0.7716306  0.06630787 0.1620616 ]\n",
      "[1. 0. 0.] <-> [0.8002391  0.08419711 0.11556382]\n",
      "[1. 0. 0.] <-> [0.7997581  0.10379801 0.09644396]\n",
      "[0. 1. 0.] <-> [0.62280864 0.33966264 0.03752869]\n",
      "[1. 0. 0.] <-> [0.81033    0.06663069 0.12303936]\n",
      "[0. 1. 0.] <-> [0.24805018 0.738024   0.01392581]\n",
      "[1. 0. 0.] <-> [0.7353644  0.11761262 0.14702299]\n",
      "[1. 0. 0.] <-> [0.7000184  0.2488785  0.05110315]\n",
      "[1. 0. 0.] <-> [0.5208575  0.04584818 0.4332943 ]\n",
      "[1. 0. 0.] <-> [0.81568944 0.0497954  0.1345152 ]\n",
      "[1. 0. 0.] <-> [0.7772902  0.13824089 0.08446886]\n",
      "[1. 0. 0.] <-> [0.724699   0.22341557 0.05188544]\n",
      "[0. 1. 0.] <-> [0.69721985 0.25175267 0.05102747]\n",
      "[1. 0. 0.] <-> [0.76026934 0.05125157 0.18847908]\n",
      "[1. 0. 0.] <-> [0.75829    0.11116055 0.13054945]\n",
      "[1. 0. 0.] <-> [0.76499295 0.1683727  0.06663433]\n",
      "[1. 0. 0.] <-> [0.7687255  0.14580463 0.08546984]\n",
      "[0. 1. 0.] <-> [0.55256814 0.4108346  0.03659727]\n",
      "[1. 0. 0.] <-> [0.7937355  0.08097192 0.1252926 ]\n",
      "[1. 0. 0.] <-> [0.7921944  0.1215634  0.08624213]\n",
      "[1. 0. 0.] <-> [0.75331116 0.16168205 0.08500681]\n",
      "[0. 0. 1.] <-> [0.26287875 0.01802056 0.7191007 ]\n",
      "[1. 0. 0.] <-> [0.76307535 0.09126616 0.14565851]\n",
      "[1. 0. 0.] <-> [0.7237415  0.07663492 0.19962355]\n",
      "[1. 0. 0.] <-> [0.8075657  0.0978394  0.09459494]\n",
      "[1. 0. 0.] <-> [0.7473095  0.04276819 0.20992233]\n",
      "[1. 0. 0.] <-> [0.78489363 0.13917021 0.07593612]\n",
      "[0. 0. 1.] <-> [0.35751545 0.02283899 0.6196456 ]\n",
      "[1. 0. 0.] <-> [0.725997   0.20629983 0.06770326]\n",
      "[1. 0. 0.] <-> [0.7942546  0.09897488 0.10677052]\n",
      "[0. 1. 0.] <-> [0.50493497 0.46510398 0.02996109]\n",
      "[0. 1. 0.] <-> [0.3334183  0.6466435  0.01993821]\n",
      "{'accuracy': 0.9259259259259259, 'mean_square_error': 0.18126178945261306, 'categorical_crossentropy': 0.3682236141628689, 'essential_metrics': {0: {'tp_hit': 80, 'fp_hit': 12, 'tn_hit': 16, 'fn_hit': 0}, 1: {'tp_hit': 6, 'fp_hit': 0, 'tn_hit': 93, 'fn_hit': 9}, 2: {'tp_hit': 10, 'fp_hit': 0, 'tn_hit': 95, 'fn_hit': 3}}}\n"
     ]
    }
   ],
   "source": [
    "# recall phase\n",
    "score = model.evaluate(x_test, y_test, False)\n",
    "print(score)"
   ]
  },
  {
   "cell_type": "code",
   "execution_count": 11,
   "metadata": {},
   "outputs": [
    {
     "data": {
      "image/png": "[encoded data removed]",
      "text/plain": [
       "<Figure size 864x360 with 1 Axes>"
      ]
     },
     "metadata": {
      "needs_background": "light"
     },
     "output_type": "display_data"
    },
    {
     "data": {
      "image/png": "[encoded data removed]",
      "text/plain": [
       "<Figure size 864x360 with 1 Axes>"
      ]
     },
     "metadata": {
      "needs_background": "light"
     },
     "output_type": "display_data"
    }
   ],
   "source": [
    "draw_plot(x = [[i for i in range(len(history))], [(i+1)*breakpoint for i in range(len(checkpoints))]], y_list = [history, [ ckp[model.loss_fn] for ckp in checkpoints ]], x_label = 'Epochs', \\\n",
    "    y_label = model.loss_fn, legend=['train', 'test'])\n",
    "acc = [ ckp['accuracy'] for ckp in checkpoints ]\n",
    "draw_plot(x = [[(i+1)*breakpoint for i in range(len(checkpoints))]], y_list = [acc], x_label = 'Checkpoints', \\\n",
    "    y_label = 'accuracy')"
   ]
  },
  {
   "cell_type": "code",
   "execution_count": 12,
   "metadata": {},
   "outputs": [
    {
     "name": "stdout",
     "output_type": "stream",
     "text": [
      "{'accuracy': 0.9259259259259259, 'mean_square_error': 0.21876880333395501, 'categorical_crossentropy': 0.4230384826660156, 'essential_metrics': {0: {'tp_hit': 80, 'fp_hit': 12, 'tn_hit': 16, 'fn_hit': 0}, 1: {'tp_hit': 8, 'fp_hit': 0, 'tn_hit': 93, 'fn_hit': 7}, 2: {'tp_hit': 8, 'fp_hit': 0, 'tn_hit': 95, 'fn_hit': 5}}, 'checkpoint': 100} \n",
      "\n",
      "\n",
      "{'accuracy': 0.9382716049382716, 'mean_square_error': 0.1707766237853559, 'categorical_crossentropy': 0.35316972379331235, 'essential_metrics': {0: {'tp_hit': 80, 'fp_hit': 10, 'tn_hit': 18, 'fn_hit': 0}, 1: {'tp_hit': 8, 'fp_hit': 0, 'tn_hit': 93, 'fn_hit': 7}, 2: {'tp_hit': 10, 'fp_hit': 0, 'tn_hit': 95, 'fn_hit': 3}}, 'checkpoint': 200} \n",
      "\n",
      "\n",
      "{'accuracy': 0.9259259259259259, 'mean_square_error': 0.16726184262188346, 'categorical_crossentropy': 0.33845339881049263, 'essential_metrics': {0: {'tp_hit': 80, 'fp_hit': 12, 'tn_hit': 16, 'fn_hit': 0}, 1: {'tp_hit': 6, 'fp_hit': 0, 'tn_hit': 93, 'fn_hit': 9}, 2: {'tp_hit': 10, 'fp_hit': 0, 'tn_hit': 95, 'fn_hit': 3}}, 'checkpoint': 300} \n",
      "\n",
      "\n",
      "{'accuracy': 0.9382716049382716, 'mean_square_error': 0.17566054226679817, 'categorical_crossentropy': 0.3596137011492694, 'essential_metrics': {0: {'tp_hit': 80, 'fp_hit': 10, 'tn_hit': 18, 'fn_hit': 0}, 1: {'tp_hit': 8, 'fp_hit': 0, 'tn_hit': 93, 'fn_hit': 7}, 2: {'tp_hit': 10, 'fp_hit': 0, 'tn_hit': 95, 'fn_hit': 3}}, 'checkpoint': 400} \n",
      "\n",
      "\n",
      "{'accuracy': 0.9259259259259259, 'mean_square_error': 0.18126178945261306, 'categorical_crossentropy': 0.3682236141628689, 'essential_metrics': {0: {'tp_hit': 80, 'fp_hit': 12, 'tn_hit': 16, 'fn_hit': 0}, 1: {'tp_hit': 6, 'fp_hit': 0, 'tn_hit': 93, 'fn_hit': 9}, 2: {'tp_hit': 10, 'fp_hit': 0, 'tn_hit': 95, 'fn_hit': 3}}, 'checkpoint': 500} \n",
      "\n",
      "\n"
     ]
    }
   ],
   "source": [
    "for checkpoint in checkpoints:\n",
    "    print(checkpoint, '\\n\\n')"
   ]
  },
  {
   "cell_type": "code",
   "execution_count": 13,
   "metadata": {},
   "outputs": [
    {
     "name": "stdout",
     "output_type": "stream",
     "text": [
      "Layer 1\n",
      "Neuron 0: weights:\n",
      "[ 0.47764724 -0.78382134 -0.5207072  -0.4476576  -0.49914107]\n",
      " bias: 0.1957496851682663\n",
      "\n",
      "Neuron 1: weights:\n",
      "[-0.35858366  0.8555257   0.09202177 -0.73933536 -1.0435848 ]\n",
      " bias: 0.9131084084510803\n",
      "\n",
      "Neuron 2: weights:\n",
      "[ 0.25659138 -0.945892   -0.5948527   0.09378948  0.47576973]\n",
      " bias: 0.27975165843963623\n",
      "\n",
      "Neuron 3: weights:\n",
      "[-0.28026032  0.86451906  0.2142265  -0.1464332  -0.5293516 ]\n",
      " bias: -0.0636700913310051\n",
      "\n",
      "$\n",
      "Layer 2\n",
      "Neuron 0: weights:\n",
      "[ 0.94560397  1.0155708   0.17167471 -0.35090443]\n",
      " bias: -0.14225219190120697\n",
      "\n",
      "Neuron 1: weights:\n",
      "[-1.3250936   0.78749365 -1.5994015   1.0240717 ]\n",
      " bias: -0.04317944124341011\n",
      "\n",
      "Neuron 2: weights:\n",
      "[-0.16176121 -1.8258877   1.0809124  -1.1023245 ]\n",
      " bias: 0.5304819345474243\n",
      "\n",
      "$\n",
      "\n"
     ]
    }
   ],
   "source": [
    "print(model)"
   ]
  }
 ],
 "metadata": {
  "kernelspec": {
   "display_name": "Python 3",
   "language": "python",
   "name": "python3"
  },
  "language_info": {
   "codemirror_mode": {
    "name": "ipython",
    "version": 3
   },
   "file_extension": ".py",
   "mimetype": "text/x-python",
   "name": "python",
   "nbconvert_exporter": "python",
   "pygments_lexer": "ipython3",
   "version": "3.6.10"
  }
 },
 "nbformat": 4,
 "nbformat_minor": 2
}
