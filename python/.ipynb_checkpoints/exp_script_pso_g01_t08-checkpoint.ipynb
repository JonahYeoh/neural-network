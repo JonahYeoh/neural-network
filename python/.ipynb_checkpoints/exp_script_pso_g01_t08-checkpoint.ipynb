{
 "cells": [
  {
   "cell_type": "code",
   "execution_count": 1,
   "metadata": {},
   "outputs": [],
   "source": [
    "# dependency\n",
    "import numpy as np\n",
    "import pandas as pd\n",
    "import copy\n",
    "import math\n",
    "import sys\n",
    "import os\n",
    "from activations import relu, leaky_relu, sigmoid, tanh, softmax, d_sigmoid, d_relu\n",
    "from initializers import glorot_uniform, random_normal, random_uniform\n",
    "from regularizers import l1_regularizer, l2_regularizer\n",
    "from utility import trim_tail, multiply, subtract, get_nparams, one_hot_encoding, get_data\n",
    "from metrics import MSE, CCE, ACC, PRECISION, RECALL, essential_metrics, wondering_penalty, close_gap_penalty\n",
    "from pso import PSO\n",
    "from ga import GA\n",
    "from nn import Network\n",
    "from layer import DenseLayer\n",
    "from scalers import MinMaxScaler, StandardScaler"
   ]
  },
  {
   "cell_type": "code",
   "execution_count": 2,
   "metadata": {},
   "outputs": [],
   "source": [
    "# reference\n",
    "metrics_fn_dict = dict()\n",
    "metrics_fn_dict['accuracy'] = ACC\n",
    "metrics_fn_dict['categorical_crossentropy'] = CCE\n",
    "metrics_fn_dict['mean_square_error'] = MSE\n",
    "metrics_fn_dict['precision'] = PRECISION\n",
    "metrics_fn_dict['recall'] = RECALL\n",
    "metrics_fn_dict['essential_metrics'] = essential_metrics"
   ]
  },
  {
   "cell_type": "code",
   "execution_count": 3,
   "metadata": {},
   "outputs": [],
   "source": [
    "# model\n",
    "model = Network(5, lr = None)\n",
    "model.add_layer(DenseLayer(1, 4, True, afn=sigmoid, dafn=None, rfn=None))\n",
    "model.add_layer(DenseLayer(2, 3, True, afn=softmax, dafn=None, rfn=None))"
   ]
  },
  {
   "cell_type": "code",
   "execution_count": 4,
   "metadata": {},
   "outputs": [
    {
     "name": "stdout",
     "output_type": "stream",
     "text": [
      "see one see two 2 0.5\n"
     ]
    }
   ],
   "source": [
    "pso = PSO(dict(m = 50,\n",
    "    weight_constraint = [-3, 3], \n",
    "    velocity_constraint = [-0.1, 0.1],\n",
    "    c1 = [0.5, 2],\n",
    "    c2 = [0.5, 2],\n",
    "    w = [0.5, 1.6],\n",
    "    w_decay = 0.95,\n",
    "    scale_hyperparameter = False,\n",
    "    regularizer = l2_regularizer,\n",
    "    mask = True))"
   ]
  },
  {
   "cell_type": "code",
   "execution_count": 5,
   "metadata": {},
   "outputs": [
    {
     "name": "stdout",
     "output_type": "stream",
     "text": [
      "building layer 1 with 5\n",
      "24\n",
      "building layer 2 with 4\n",
      "15\n"
     ]
    }
   ],
   "source": [
    "model.compile(loss_fn = 'categorical_crossentropy', optimizer = pso, \\\n",
    "    metrics = ['accuracy', 'mean_square_error', 'categorical_crossentropy'])"
   ]
  },
  {
   "cell_type": "code",
   "execution_count": 6,
   "metadata": {},
   "outputs": [
    {
     "name": "stdout",
     "output_type": "stream",
     "text": [
      "<class 'pandas.core.frame.DataFrame'>\n",
      "RangeIndex: 107 entries, 0 to 106\n",
      "Data columns (total 6 columns):\n",
      " #   Column  Non-Null Count  Dtype  \n",
      "---  ------  --------------  -----  \n",
      " 0   f1      107 non-null    float32\n",
      " 1   f2      107 non-null    float32\n",
      " 2   f3      107 non-null    float32\n",
      " 3   f4      107 non-null    float32\n",
      " 4   f5      107 non-null    float32\n",
      " 5   label   107 non-null    float32\n",
      "dtypes: float32(6)\n",
      "memory usage: 2.6 KB\n",
      "None\n",
      "<class 'pandas.core.frame.DataFrame'>\n",
      "RangeIndex: 108 entries, 0 to 107\n",
      "Data columns (total 6 columns):\n",
      " #   Column  Non-Null Count  Dtype  \n",
      "---  ------  --------------  -----  \n",
      " 0   f1      108 non-null    float32\n",
      " 1   f2      108 non-null    float32\n",
      " 2   f3      108 non-null    float32\n",
      " 3   f4      108 non-null    float32\n",
      " 4   f5      108 non-null    float32\n",
      " 5   label   108 non-null    float32\n",
      "dtypes: float32(6)\n",
      "memory usage: 2.7 KB\n",
      "None\n"
     ]
    }
   ],
   "source": [
    "# data loading\n",
    "DATA = os.path.join('c:\\\\Users\\\\tcumi\\\\github_repo\\\\neural-network\\\\', 'dataset')\n",
    "GROUP = 1\n",
    "COLUMNS = ['f1', 'f2', 'f3', 'f4', 'f5', 'label']\n",
    "N_CLASS = 3\n",
    "EPOCHS = 500\n",
    "train_dir, test_dir = \"..//dataset//training_data{}.txt\".format(GROUP), \"..//dataset//testing_data{}.txt\".format(GROUP)\n",
    "train, test = get_data(DATA, train_dir, COLUMNS), get_data(DATA, test_dir, COLUMNS)\n",
    "# shuffle\n",
    "train, test = train.sample(frac=1), test.sample(frac=1)\n",
    "x_train, y_train = train.drop('label', axis=1), train['label']\n",
    "x_test, y_test = test.drop('label', axis=1), test['label']"
   ]
  },
  {
   "cell_type": "code",
   "execution_count": 7,
   "metadata": {},
   "outputs": [],
   "source": [
    "# data scaling and encoding\n",
    "scaler = StandardScaler(['f1', 'f2', 'f3', 'f4', 'f5'])\n",
    "scaler.fit(x_train)\n",
    "x_train = scaler.transform(x_train)\n",
    "x_test = scaler.transform(x_test)\n",
    "y_train = one_hot_encoding(y_train, N_CLASS)\n",
    "y_test = one_hot_encoding(y_test, N_CLASS)"
   ]
  },
  {
   "cell_type": "code",
   "execution_count": 8,
   "metadata": {
    "tags": [
     "outputPrepend"
    ]
   },
   "outputs": [
    {
     "name": "stdout",
     "output_type": "stream",
     "text": [
      "Checkpoint 100, Accuracy: 0.8827160493827161, Loss: 0.4719922454268844\n",
      "Checkpoint 200, Accuracy: 0.9506172839506173, Loss: 0.3128039042154948\n",
      "Checkpoint 300, Accuracy: 0.9444444444444444, Loss: 0.3580068658899378\n",
      "Checkpoint 400, Accuracy: 0.9382716049382716, Loss: 0.33803169815628614\n",
      "Checkpoint 500, Accuracy: 0.9567901234567902, Loss: 0.32977270196985314\n"
     ]
    }
   ],
   "source": [
    "# learning phase\n",
    "breakpoint = 100\n",
    "checkpoints = list()\n",
    "history = list()\n",
    "for century in range(0, EPOCHS, breakpoint):\n",
    "    sub_history = model.fit(x_train, y_train, breakpoint, verbose = 0)\n",
    "    score = model.evaluate(x_test, y_test, False, verbose = 0)\n",
    "    print('Checkpoint {}, Accuracy: {}, Loss: {}'.format(century+breakpoint, score['accuracy'], score[model.loss_fn]))\n",
    "    score['checkpoint'] = century + breakpoint\n",
    "    checkpoints.append(score)\n",
    "    history.extend(sub_history)\n",
    "    itr = century + breakpoint\n",
    "    model.optimizer.c1 = np.max([model.optimizer.C1[1] - ((model.optimizer.C1[1] - model.optimizer.C1[0]) * itr / EPOCHS), model.optimizer.C1[0]])\n",
    "    model.optimizer.c2 = np.min([model.optimizer.C2[0] + ((model.optimizer.C2[1] - model.optimizer.C2[0]) * itr / EPOCHS), model.optimizer.C2[1]])\n",
    "    model.optimizer.w = np.max([model.optimizer.w * model.optimizer.W_Decay, model.optimizer.W[0]])"
   ]
  },
  {
   "cell_type": "code",
   "execution_count": 9,
   "metadata": {},
   "outputs": [],
   "source": [
    "import matplotlib.pyplot as plt\n",
    "\n",
    "def draw_plot(x, y_list, x_label=None, y_label=None, legend=None, title=None):\n",
    "    fig, ax = plt.subplots(figsize=(12,5))\n",
    "    for xi, yi in zip(x, y_list):\n",
    "        ax.plot(xi, yi)\n",
    "    if x_label is not None and y_label is not None:\n",
    "        ax.set(xlabel=x_label, ylabel=y_label, title='{} VS {}'.format(x_label, y_label))\n",
    "    if legend is not None:\n",
    "        ax.legend(legend)\n",
    "    ax.grid()\n",
    "    plt.show()"
   ]
  },
  {
   "cell_type": "code",
   "execution_count": 10,
   "metadata": {},
   "outputs": [
    {
     "name": "stdout",
     "output_type": "stream",
     "text": [
      "[1. 0. 0.] <-> [0.78145176 0.09247842 0.1260698 ]\n",
      "[0. 1. 0.] <-> [0.2059685  0.78849995 0.00553149]\n",
      "[1. 0. 0.] <-> [0.805698   0.06485739 0.12944473]\n",
      "[1. 0. 0.] <-> [0.77292633 0.08022094 0.14685276]\n",
      "[1. 0. 0.] <-> [0.8137126  0.09794881 0.0883386 ]\n",
      "[1. 0. 0.] <-> [0.76524925 0.17489818 0.05985261]\n",
      "[0. 0. 1.] <-> [0.5855075  0.02962276 0.3848698 ]\n",
      "[1. 0. 0.] <-> [0.7520597  0.10996958 0.13797075]\n",
      "[1. 0. 0.] <-> [0.8015181 0.0830431 0.1154388]\n",
      "[1. 0. 0.] <-> [0.7567013  0.16924407 0.07405464]\n",
      "[0. 1. 0.] <-> [0.6567584  0.30852816 0.03471334]\n",
      "[1. 0. 0.] <-> [0.7672407  0.10841174 0.12434759]\n",
      "[0. 0. 1.] <-> [0.21453455 0.00806636 0.77739906]\n",
      "[1. 0. 0.] <-> [0.7392916  0.04642379 0.21428464]\n",
      "[1. 0. 0.] <-> [0.769039   0.04976016 0.18120092]\n",
      "[1. 0. 0.] <-> [0.80232483 0.11733754 0.08033757]\n",
      "[1. 0. 0.] <-> [0.65505123 0.3089956  0.0359531 ]\n",
      "[0. 0. 1.] <-> [0.20737432 0.00786022 0.7847655 ]\n",
      "[1. 0. 0.] <-> [0.77455735 0.11273537 0.11270732]\n",
      "[1. 0. 0.] <-> [0.79854727 0.07524919 0.12620358]\n",
      "[0. 0. 1.] <-> [0.45478934 0.02595638 0.51925427]\n",
      "[0. 0. 1.] <-> [0.7013535  0.0322374  0.26640907]\n",
      "[1. 0. 0.] <-> [0.82395285 0.0777576  0.0982895 ]\n",
      "[0. 1. 0.] <-> [0.28207293 0.7090824  0.00884462]\n",
      "[1. 0. 0.] <-> [0.79223424 0.1496973  0.05806837]\n",
      "[1. 0. 0.] <-> [0.8047789  0.06684321 0.12837783]\n",
      "[1. 0. 0.] <-> [0.74920774 0.08702604 0.16376625]\n",
      "[1. 0. 0.] <-> [0.798758   0.09816606 0.10307599]\n",
      "[1. 0. 0.] <-> [0.7353225  0.05744112 0.20723642]\n",
      "[1. 0. 0.] <-> [0.78440887 0.12409511 0.09149609]\n",
      "[1. 0. 0.] <-> [0.7254667  0.2341278  0.04040545]\n",
      "[1. 0. 0.] <-> [0.72779274 0.21923101 0.05297621]\n",
      "[0. 1. 0.] <-> [0.41428822 0.570533   0.01517884]\n",
      "[1. 0. 0.] <-> [0.7897474  0.14363447 0.0666181 ]\n",
      "[0. 1. 0.] <-> [0.57255805 0.39813825 0.02930363]\n",
      "[1. 0. 0.] <-> [0.78443605 0.08404662 0.13151734]\n",
      "[1. 0. 0.] <-> [0.6514799  0.03824906 0.31027097]\n",
      "[1. 0. 0.] <-> [0.74031234 0.04662902 0.21305855]\n",
      "[1. 0. 0.] <-> [0.6536131  0.0461003  0.30028662]\n",
      "[1. 0. 0.] <-> [0.7507902  0.19872181 0.05048808]\n",
      "[0. 0. 1.] <-> [0.27007788 0.01399896 0.7159232 ]\n",
      "[1. 0. 0.] <-> [0.8013931  0.04874733 0.1498596 ]\n",
      "[1. 0. 0.] <-> [0.8050425  0.09523519 0.09972239]\n",
      "[1. 0. 0.] <-> [0.8044196  0.1322243  0.06335609]\n",
      "[0. 0. 1.] <-> [0.22291188 0.00852591 0.76856226]\n",
      "[1. 0. 0.] <-> [0.78988767 0.13024619 0.07986613]\n",
      "[1. 0. 0.] <-> [0.78322905 0.06246619 0.1543047 ]\n",
      "[1. 0. 0.] <-> [0.7843519  0.07214714 0.14350101]\n",
      "[1. 0. 0.] <-> [0.7953367  0.11398752 0.09067575]\n",
      "[1. 0. 0.] <-> [0.7709198  0.04309886 0.18598135]\n",
      "[1. 0. 0.] <-> [0.78415823 0.07196423 0.14387757]\n",
      "[0. 1. 0.] <-> [0.4381398  0.54216594 0.01969429]\n",
      "[1. 0. 0.] <-> [0.77029884 0.15265536 0.07704581]\n",
      "[0. 1. 0.] <-> [0.44806287 0.53247607 0.01946098]\n",
      "[0. 1. 0.] <-> [0.20356853 0.791113   0.00531838]\n",
      "[1. 0. 0.] <-> [0.8072045  0.05285125 0.13994423]\n",
      "[1. 0. 0.] <-> [0.8143456  0.0978748  0.08777961]\n",
      "[1. 0. 0.] <-> [0.7994261  0.09718042 0.10339352]\n",
      "[0. 1. 0.] <-> [0.55246574 0.42365235 0.02388196]\n",
      "[1. 0. 0.] <-> [0.78473717 0.05072494 0.16453789]\n",
      "[1. 0. 0.] <-> [0.8207279  0.08483264 0.09443948]\n",
      "[1. 0. 0.] <-> [0.70740867 0.05914543 0.23344591]\n",
      "[1. 0. 0.] <-> [0.7089386  0.06367501 0.22738642]\n",
      "[1. 0. 0.] <-> [0.7813992  0.0924058  0.12619507]\n",
      "[1. 0. 0.] <-> [0.7855019 0.1588256 0.0556725]\n",
      "[1. 0. 0.] <-> [0.6736096  0.05531066 0.27107972]\n",
      "[1. 0. 0.] <-> [0.77660197 0.12840512 0.094993  ]\n",
      "[1. 0. 0.] <-> [0.781325  0.1472663 0.0714087]\n",
      "[0. 0. 1.] <-> [0.25395066 0.01030486 0.7357445 ]\n",
      "[0. 1. 0.] <-> [0.20756459 0.78661937 0.005816  ]\n",
      "[1. 0. 0.] <-> [0.79630494 0.12408439 0.07961064]\n",
      "[0. 0. 1.] <-> [0.21234225 0.00999752 0.7776602 ]\n",
      "[1. 0. 0.] <-> [0.7702618  0.04624543 0.18349275]\n",
      "[1. 0. 0.] <-> [0.7147556  0.039638   0.24560638]\n",
      "[1. 0. 0.] <-> [0.75504035 0.18828665 0.05667301]\n",
      "[1. 0. 0.] <-> [0.7990694  0.05136259 0.14956802]\n",
      "[1. 0. 0.] <-> [0.48839432 0.03258121 0.47902456]\n",
      "[1. 0. 0.] <-> [0.7705947  0.08462176 0.1447835 ]\n",
      "[1. 0. 0.] <-> [0.727706   0.22097217 0.0513218 ]\n",
      "[1. 0. 0.] <-> [0.81875265 0.10344171 0.0778056 ]\n",
      "[0. 1. 0.] <-> [0.49880254 0.47898355 0.02221384]\n",
      "[0. 0. 1.] <-> [0.20706277 0.0076448  0.78529245]\n",
      "[0. 0. 1.] <-> [0.27054736 0.01154345 0.71790916]\n",
      "[1. 0. 0.] <-> [0.82809395 0.06829352 0.10361253]\n",
      "[1. 0. 0.] <-> [0.8141322  0.08056182 0.105306  ]\n",
      "[1. 0. 0.] <-> [0.7653116  0.06168291 0.17300542]\n",
      "[1. 0. 0.] <-> [0.783802   0.06523771 0.1509603 ]\n",
      "[1. 0. 0.] <-> [0.7742484  0.14959927 0.07615227]\n",
      "[1. 0. 0.] <-> [0.78962886 0.05977624 0.1505949 ]\n",
      "[1. 0. 0.] <-> [0.8124573  0.09689818 0.09064455]\n",
      "[1. 0. 0.] <-> [0.7929475  0.10594472 0.10110788]\n",
      "[0. 1. 0.] <-> [0.24947046 0.7427763  0.00775324]\n",
      "[1. 0. 0.] <-> [0.79689467 0.11416955 0.08893574]\n",
      "[0. 0. 1.] <-> [0.21706536 0.00818712 0.7747475 ]\n",
      "[1. 0. 0.] <-> [0.7273532  0.06638698 0.20625983]\n",
      "[1. 0. 0.] <-> [0.779309   0.048473   0.17221802]\n",
      "[1. 0. 0.] <-> [0.8054306  0.12282269 0.07174671]\n",
      "[1. 0. 0.] <-> [0.77130914 0.05374289 0.17494796]\n",
      "[1. 0. 0.] <-> [0.76202977 0.18309344 0.05487675]\n",
      "[1. 0. 0.] <-> [0.7547943  0.06776077 0.17744496]\n",
      "[1. 0. 0.] <-> [0.8153067  0.0903791  0.09431421]\n",
      "[0. 1. 0.] <-> [0.60790557 0.36440292 0.02769148]\n",
      "[1. 0. 0.] <-> [0.8111327  0.09618225 0.09268498]\n",
      "[0. 1. 0.] <-> [0.28740418 0.70277554 0.00982031]\n",
      "[1. 0. 0.] <-> [0.7715316  0.16914567 0.05932274]\n",
      "[0. 1. 0.] <-> [0.38843086 0.59570086 0.01586823]\n",
      "[0. 0. 1.] <-> [0.2692203  0.01170653 0.7190732 ]\n",
      "[1. 0. 0.] <-> [0.7709496  0.16957186 0.05947854]\n",
      "{'accuracy': 0.9567901234567902, 'mean_square_error': 0.1512669912205284, 'categorical_crossentropy': 0.32977270196985314, 'essential_metrics': {0: {'tp_hit': 80, 'fp_hit': 7, 'tn_hit': 21, 'fn_hit': 0}, 1: {'tp_hit': 10, 'fp_hit': 0, 'tn_hit': 93, 'fn_hit': 5}, 2: {'tp_hit': 11, 'fp_hit': 0, 'tn_hit': 95, 'fn_hit': 2}}}\n"
     ]
    }
   ],
   "source": [
    "# recall phase\n",
    "score = model.evaluate(x_test, y_test, False)\n",
    "print(score)"
   ]
  },
  {
   "cell_type": "code",
   "execution_count": 11,
   "metadata": {},
   "outputs": [
    {
     "data": {
      "image/png": "[encoded data removed]",
      "text/plain": [
       "<Figure size 864x360 with 1 Axes>"
      ]
     },
     "metadata": {
      "needs_background": "light"
     },
     "output_type": "display_data"
    },
    {
     "data": {
      "image/png": "[encoded data removed]",
      "text/plain": [
       "<Figure size 864x360 with 1 Axes>"
      ]
     },
     "metadata": {
      "needs_background": "light"
     },
     "output_type": "display_data"
    }
   ],
   "source": [
    "draw_plot(x = [[i for i in range(len(history))], [(i+1)*breakpoint for i in range(len(checkpoints))]], y_list = [history, [ ckp[model.loss_fn] for ckp in checkpoints ]], x_label = 'Epochs', \\\n",
    "    y_label = model.loss_fn, legend=['train', 'test'])\n",
    "acc = [ ckp['accuracy'] for ckp in checkpoints ]\n",
    "draw_plot(x = [[(i+1)*breakpoint for i in range(len(checkpoints))]], y_list = [acc], x_label = 'Checkpoints', \\\n",
    "    y_label = 'accuracy')"
   ]
  },
  {
   "cell_type": "code",
   "execution_count": 12,
   "metadata": {},
   "outputs": [
    {
     "name": "stdout",
     "output_type": "stream",
     "text": [
      "{'accuracy': 0.8827160493827161, 'mean_square_error': 0.2589078581632962, 'categorical_crossentropy': 0.4719922454268844, 'essential_metrics': {0: {'tp_hit': 80, 'fp_hit': 19, 'tn_hit': 9, 'fn_hit': 0}, 1: {'tp_hit': 5, 'fp_hit': 0, 'tn_hit': 93, 'fn_hit': 10}, 2: {'tp_hit': 4, 'fp_hit': 0, 'tn_hit': 95, 'fn_hit': 9}}, 'checkpoint': 100} \n",
      "\n",
      "\n",
      "{'accuracy': 0.9506172839506173, 'mean_square_error': 0.14425619505953524, 'categorical_crossentropy': 0.3128039042154948, 'essential_metrics': {0: {'tp_hit': 80, 'fp_hit': 8, 'tn_hit': 20, 'fn_hit': 0}, 1: {'tp_hit': 10, 'fp_hit': 0, 'tn_hit': 93, 'fn_hit': 5}, 2: {'tp_hit': 10, 'fp_hit': 0, 'tn_hit': 95, 'fn_hit': 3}}, 'checkpoint': 200} \n",
      "\n",
      "\n",
      "{'accuracy': 0.9444444444444444, 'mean_square_error': 0.16894186739497716, 'categorical_crossentropy': 0.3580068658899378, 'essential_metrics': {0: {'tp_hit': 80, 'fp_hit': 9, 'tn_hit': 19, 'fn_hit': 0}, 1: {'tp_hit': 9, 'fp_hit': 0, 'tn_hit': 93, 'fn_hit': 6}, 2: {'tp_hit': 10, 'fp_hit': 0, 'tn_hit': 95, 'fn_hit': 3}}, 'checkpoint': 300} \n",
      "\n",
      "\n",
      "{'accuracy': 0.9382716049382716, 'mean_square_error': 0.16058296623107302, 'categorical_crossentropy': 0.33803169815628614, 'essential_metrics': {0: {'tp_hit': 80, 'fp_hit': 10, 'tn_hit': 18, 'fn_hit': 0}, 1: {'tp_hit': 8, 'fp_hit': 0, 'tn_hit': 93, 'fn_hit': 7}, 2: {'tp_hit': 10, 'fp_hit': 0, 'tn_hit': 95, 'fn_hit': 3}}, 'checkpoint': 400} \n",
      "\n",
      "\n",
      "{'accuracy': 0.9567901234567902, 'mean_square_error': 0.1512669912205284, 'categorical_crossentropy': 0.32977270196985314, 'essential_metrics': {0: {'tp_hit': 80, 'fp_hit': 7, 'tn_hit': 21, 'fn_hit': 0}, 1: {'tp_hit': 10, 'fp_hit': 0, 'tn_hit': 93, 'fn_hit': 5}, 2: {'tp_hit': 11, 'fp_hit': 0, 'tn_hit': 95, 'fn_hit': 2}}, 'checkpoint': 500} \n",
      "\n",
      "\n"
     ]
    }
   ],
   "source": [
    "for checkpoint in checkpoints:\n",
    "    print(checkpoint, '\\n\\n')"
   ]
  },
  {
   "cell_type": "code",
   "execution_count": 13,
   "metadata": {},
   "outputs": [
    {
     "name": "stdout",
     "output_type": "stream",
     "text": [
      "Layer 1\n",
      "Neuron 0: weights:\n",
      "[-0.4850519   0.9837827   0.59626    -0.02598109 -0.43037057]\n",
      " bias: -0.68715900182724\n",
      "\n",
      "Neuron 1: weights:\n",
      "[ 0.2908841  -0.64737886 -0.13059236  0.47180626  0.6927218 ]\n",
      " bias: -0.3372863531112671\n",
      "\n",
      "Neuron 2: weights:\n",
      "[ 0.47225696 -1.2132002  -0.79274297 -0.24563783  0.15641512]\n",
      " bias: 0.4122457504272461\n",
      "\n",
      "Neuron 3: weights:\n",
      "[-0.25148696  1.0231494   0.16105133 -0.7180995  -1.0412403 ]\n",
      " bias: 0.883976399898529\n",
      "\n",
      "$\n",
      "Layer 2\n",
      "Neuron 0: weights:\n",
      "[-0.4959681 -0.3973092  0.9314253  1.0777903]\n",
      " bias: 0.19546851515769958\n",
      "\n",
      "Neuron 1: weights:\n",
      "[ 1.6393036  -0.8760991  -1.7907342   0.57453096]\n",
      " bias: -0.016890820115804672\n",
      "\n",
      "Neuron 2: weights:\n",
      "[-0.87762225  1.3095828   0.8563319  -1.9959626 ]\n",
      " bias: -0.10141212493181229\n",
      "\n",
      "$\n",
      "\n"
     ]
    }
   ],
   "source": [
    "print(model)"
   ]
  }
 ],
 "metadata": {
  "kernelspec": {
   "display_name": "Python 3",
   "language": "python",
   "name": "python3"
  },
  "language_info": {
   "codemirror_mode": {
    "name": "ipython",
    "version": 3
   },
   "file_extension": ".py",
   "mimetype": "text/x-python",
   "name": "python",
   "nbconvert_exporter": "python",
   "pygments_lexer": "ipython3",
   "version": "3.6.10"
  }
 },
 "nbformat": 4,
 "nbformat_minor": 2
}
