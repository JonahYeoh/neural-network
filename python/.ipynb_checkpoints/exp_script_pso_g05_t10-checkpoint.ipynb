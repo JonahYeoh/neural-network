{
 "cells": [
  {
   "cell_type": "code",
   "execution_count": 1,
   "metadata": {},
   "outputs": [],
   "source": [
    "# dependency\n",
    "import numpy as np\n",
    "import pandas as pd\n",
    "import copy\n",
    "import math\n",
    "import sys\n",
    "import os\n",
    "from activations import relu, leaky_relu, sigmoid, tanh, softmax, d_sigmoid, d_relu\n",
    "from initializers import glorot_uniform, random_normal, random_uniform\n",
    "from regularizers import l1_regularizer, l2_regularizer\n",
    "from utility import trim_tail, multiply, subtract, get_nparams, one_hot_encoding, get_data\n",
    "from metrics import MSE, CCE, ACC, PRECISION, RECALL, essential_metrics, wondering_penalty, close_gap_penalty\n",
    "from pso import PSO\n",
    "from ga import GA\n",
    "from nn import Network\n",
    "from layer import DenseLayer\n",
    "from scalers import MinMaxScaler, StandardScaler"
   ]
  },
  {
   "cell_type": "code",
   "execution_count": 2,
   "metadata": {},
   "outputs": [],
   "source": [
    "# reference\n",
    "metrics_fn_dict = dict()\n",
    "metrics_fn_dict['accuracy'] = ACC\n",
    "metrics_fn_dict['categorical_crossentropy'] = CCE\n",
    "metrics_fn_dict['mean_square_error'] = MSE\n",
    "metrics_fn_dict['precision'] = PRECISION\n",
    "metrics_fn_dict['recall'] = RECALL\n",
    "metrics_fn_dict['essential_metrics'] = essential_metrics"
   ]
  },
  {
   "cell_type": "code",
   "execution_count": 3,
   "metadata": {},
   "outputs": [],
   "source": [
    "# model\n",
    "model = Network(5, lr = None)\n",
    "model.add_layer(DenseLayer(1, 4, True, afn=sigmoid, dafn=None, rfn=None))\n",
    "model.add_layer(DenseLayer(2, 3, True, afn=softmax, dafn=None, rfn=None))"
   ]
  },
  {
   "cell_type": "code",
   "execution_count": 4,
   "metadata": {},
   "outputs": [
    {
     "name": "stdout",
     "output_type": "stream",
     "text": [
      "see one see two 2.0 0.5\n"
     ]
    }
   ],
   "source": [
    "pso = PSO(dict(m = 50,\n",
    "    weight_constraint = [-3, 3], \n",
    "    velocity_constraint = [-0.1, 0.1],\n",
    "    c1 = [0.5, 2.0],\n",
    "    c2 = [0.5, 2.0],\n",
    "    w = [0.5, 1.6],\n",
    "    w_decay = 0.95,\n",
    "    scale_hyperparameter = False,\n",
    "    regularizer = l1_regularizer,\n",
    "    mask = True))"
   ]
  },
  {
   "cell_type": "code",
   "execution_count": 5,
   "metadata": {},
   "outputs": [
    {
     "name": "stdout",
     "output_type": "stream",
     "text": [
      "building layer 1 with 5\n",
      "24\n",
      "building layer 2 with 4\n",
      "15\n"
     ]
    }
   ],
   "source": [
    "model.compile(loss_fn = 'categorical_crossentropy', optimizer = pso, \\\n",
    "    metrics = ['accuracy', 'mean_square_error', 'categorical_crossentropy'])"
   ]
  },
  {
   "cell_type": "code",
   "execution_count": 6,
   "metadata": {},
   "outputs": [
    {
     "name": "stdout",
     "output_type": "stream",
     "text": [
      "<class 'pandas.core.frame.DataFrame'>\n",
      "RangeIndex: 107 entries, 0 to 106\n",
      "Data columns (total 6 columns):\n",
      " #   Column  Non-Null Count  Dtype  \n",
      "---  ------  --------------  -----  \n",
      " 0   f1      107 non-null    float32\n",
      " 1   f2      107 non-null    float32\n",
      " 2   f3      107 non-null    float32\n",
      " 3   f4      107 non-null    float32\n",
      " 4   f5      107 non-null    float32\n",
      " 5   label   107 non-null    float32\n",
      "dtypes: float32(6)\n",
      "memory usage: 2.6 KB\n",
      "None\n",
      "<class 'pandas.core.frame.DataFrame'>\n",
      "RangeIndex: 108 entries, 0 to 107\n",
      "Data columns (total 6 columns):\n",
      " #   Column  Non-Null Count  Dtype  \n",
      "---  ------  --------------  -----  \n",
      " 0   f1      108 non-null    float32\n",
      " 1   f2      108 non-null    float32\n",
      " 2   f3      108 non-null    float32\n",
      " 3   f4      108 non-null    float32\n",
      " 4   f5      108 non-null    float32\n",
      " 5   label   108 non-null    float32\n",
      "dtypes: float32(6)\n",
      "memory usage: 2.7 KB\n",
      "None\n"
     ]
    }
   ],
   "source": [
    "# data loading\n",
    "DATA = os.path.join('c:\\\\Users\\\\AI-lab\\\\github_repo\\\\neural-network\\\\', 'dataset')\n",
    "GROUP = 5\n",
    "COLUMNS = ['f1', 'f2', 'f3', 'f4', 'f5', 'label']\n",
    "N_CLASS = 3\n",
    "EPOCHS = 200\n",
    "train_dir, test_dir = \"..//dataset//training_data{}.txt\".format(GROUP), \"..//dataset//testing_data{}.txt\".format(GROUP)\n",
    "train, test = get_data(DATA, train_dir, COLUMNS), get_data(DATA, test_dir, COLUMNS)\n",
    "# shuffle\n",
    "train, test = train.sample(frac=1), test.sample(frac=1)\n",
    "x_train, y_train = train.drop('label', axis=1), train['label']\n",
    "x_test, y_test = test.drop('label', axis=1), test['label']"
   ]
  },
  {
   "cell_type": "code",
   "execution_count": 7,
   "metadata": {},
   "outputs": [],
   "source": [
    "# data scaling and encoding\n",
    "scaler = StandardScaler(['f1', 'f2', 'f3', 'f4', 'f5'])\n",
    "scaler.fit(x_train)\n",
    "x_train = scaler.transform(x_train)\n",
    "x_test = scaler.transform(x_test)\n",
    "y_train = one_hot_encoding(y_train, N_CLASS)\n",
    "y_test = one_hot_encoding(y_test, N_CLASS)"
   ]
  },
  {
   "cell_type": "code",
   "execution_count": 8,
   "metadata": {
    "tags": [
     "outputPrepend"
    ]
   },
   "outputs": [
    {
     "name": "stdout",
     "output_type": "stream",
     "text": [
      "Checkpoint 10, Accuracy: 0.8703703703703703, Loss: 0.5264818403455946\n",
      "Checkpoint 20, Accuracy: 0.8765432098765432, Loss: 0.5300237161141855\n",
      "Checkpoint 30, Accuracy: 0.8765432098765432, Loss: 0.5300237161141855\n",
      "Checkpoint 40, Accuracy: 0.8518518518518519, Loss: 0.49614136307327833\n",
      "Checkpoint 50, Accuracy: 0.8518518518518519, Loss: 0.46499623192681205\n",
      "Checkpoint 60, Accuracy: 0.9506172839506173, Loss: 0.40199548226815685\n",
      "Checkpoint 70, Accuracy: 0.9074074074074074, Loss: 0.35693415889033564\n",
      "Checkpoint 80, Accuracy: 0.9506172839506173, Loss: 0.38328001234266496\n",
      "Checkpoint 90, Accuracy: 0.9444444444444444, Loss: 0.30829136459915724\n",
      "Checkpoint 100, Accuracy: 0.9567901234567902, Loss: 0.26865867332175924\n",
      "Checkpoint 110, Accuracy: 0.9567901234567902, Loss: 0.24860601071958188\n",
      "Checkpoint 120, Accuracy: 0.9629629629629629, Loss: 0.21793446717438875\n",
      "Checkpoint 130, Accuracy: 0.9753086419753086, Loss: 0.18909378404970523\n",
      "Checkpoint 140, Accuracy: 0.9567901234567902, Loss: 0.18311707178751627\n",
      "Checkpoint 150, Accuracy: 0.9753086419753086, Loss: 0.18682896649395977\n",
      "Checkpoint 160, Accuracy: 0.9753086419753086, Loss: 0.17849519517686632\n",
      "Checkpoint 170, Accuracy: 0.9753086419753086, Loss: 0.15736126016687463\n",
      "Checkpoint 180, Accuracy: 0.9629629629629629, Loss: 0.16596131854587132\n",
      "Checkpoint 190, Accuracy: 0.9691358024691358, Loss: 0.1790585164670591\n",
      "Checkpoint 200, Accuracy: 0.9814814814814815, Loss: 0.17027367485894096\n"
     ]
    }
   ],
   "source": [
    "# learning phase\n",
    "breakpoint = 10\n",
    "checkpoints = list()\n",
    "history = list()\n",
    "for century in range(0, EPOCHS, breakpoint):\n",
    "    sub_history = model.fit(x_train, y_train, breakpoint, verbose = 0)\n",
    "    score = model.evaluate(x_test, y_test, False, verbose = 0)\n",
    "    print('Checkpoint {}, Accuracy: {}, Loss: {}'.format(century+breakpoint, score['accuracy'], score[model.loss_fn]))\n",
    "    score['checkpoint'] = century + breakpoint\n",
    "    checkpoints.append(score)\n",
    "    history.extend(sub_history)\n",
    "    itr = century + breakpoint\n",
    "    model.optimizer.c1 = np.max([model.optimizer.C1[1] - ((model.optimizer.C1[1] - model.optimizer.C1[0]) * itr / EPOCHS), model.optimizer.C1[0]])\n",
    "    model.optimizer.c2 = np.min([model.optimizer.C2[0] + ((model.optimizer.C2[1] - model.optimizer.C2[0]) * itr / EPOCHS), model.optimizer.C2[1]])\n",
    "    model.optimizer.w = np.max([model.optimizer.w * model.optimizer.W_Decay, model.optimizer.W[0]])"
   ]
  },
  {
   "cell_type": "code",
   "execution_count": 9,
   "metadata": {},
   "outputs": [],
   "source": [
    "import matplotlib.pyplot as plt\n",
    "\n",
    "def draw_plot(x, y_list, x_label=None, y_label=None, legend=None, title=None):\n",
    "    fig, ax = plt.subplots(figsize=(12,5))\n",
    "    for xi, yi in zip(x, y_list):\n",
    "        ax.plot(xi, yi)\n",
    "    if x_label is not None and y_label is not None:\n",
    "        ax.set(xlabel=x_label, ylabel=y_label, title='{} VS {}'.format(x_label, y_label))\n",
    "    if legend is not None:\n",
    "        ax.legend(legend)\n",
    "    ax.grid()\n",
    "    plt.show()"
   ]
  },
  {
   "cell_type": "code",
   "execution_count": 10,
   "metadata": {},
   "outputs": [],
   "source": [
    "train_acc = [h['accuracy'] for h in history]\n",
    "train_mse = [h['mean_square_error'] for h in history]\n",
    "train_cce = [h['categorical_crossentropy'] for h in history]"
   ]
  },
  {
   "cell_type": "code",
   "execution_count": 11,
   "metadata": {},
   "outputs": [
    {
     "data": {
      "image/png": "[encoded data removed]",
      "text/plain": [
       "<Figure size 864x360 with 1 Axes>"
      ]
     },
     "metadata": {
      "needs_background": "light"
     },
     "output_type": "display_data"
    },
    {
     "data": {
      "image/png": "[encoded data removed]",
      "text/plain": [
       "<Figure size 864x360 with 1 Axes>"
      ]
     },
     "metadata": {
      "needs_background": "light"
     },
     "output_type": "display_data"
    }
   ],
   "source": [
    "draw_plot(x = [[i for i in range(len(history))], [(i+1)*breakpoint for i in range(len(checkpoints))]], y_list = [train_cce, [ ckp[model.loss_fn] for ckp in checkpoints ]], x_label = 'Epochs', \\\n",
    "    y_label = model.loss_fn, legend=['train', 'test'])\n",
    "acc = [ ckp['accuracy'] for ckp in checkpoints ]\n",
    "draw_plot(x = [[i for i in range(len(history))], [(i+1)*breakpoint for i in range(len(checkpoints))]], y_list = [train_acc, acc], x_label = 'Checkpoints', \\\n",
    "    y_label = 'accuracy', legend=['train', 'test'])"
   ]
  },
  {
   "cell_type": "code",
   "execution_count": 12,
   "metadata": {},
   "outputs": [
    {
     "name": "stdout",
     "output_type": "stream",
     "text": [
      "[1. 0. 0.] <-> [0.94057506 0.0407301  0.01869483]\n",
      "[0. 1. 0.] <-> [0.08855273 0.90741724 0.00402998]\n",
      "[1. 0. 0.] <-> [0.9513873  0.03223449 0.01637824]\n",
      "[0. 0. 1.] <-> [0.10546967 0.0041677  0.8903627 ]\n",
      "[1. 0. 0.] <-> [0.91225225 0.0173667  0.07038113]\n",
      "[1. 0. 0.] <-> [0.9236125  0.01390356 0.06248384]\n",
      "[1. 0. 0.] <-> [0.96086013 0.02182705 0.01731275]\n",
      "[0. 1. 0.] <-> [0.3043613  0.682546   0.01309265]\n",
      "[1. 0. 0.] <-> [0.9283753  0.01409684 0.05752791]\n",
      "[1. 0. 0.] <-> [0.7852311  0.02132714 0.1934418 ]\n",
      "[1. 0. 0.] <-> [0.7143768  0.26811793 0.01750531]\n",
      "[0. 0. 1.] <-> [0.14857411 0.00903051 0.8423953 ]\n",
      "[0. 1. 0.] <-> [0.30592656 0.6716658  0.02240767]\n",
      "[0. 1. 0.] <-> [0.30013728 0.68889123 0.01097147]\n",
      "[1. 0. 0.] <-> [0.95878124 0.02197501 0.01924377]\n",
      "[1. 0. 0.] <-> [0.95335716 0.03400053 0.0126423 ]\n",
      "[1. 0. 0.] <-> [0.9343693  0.02963532 0.03599533]\n",
      "[1. 0. 0.] <-> [0.902583   0.01677119 0.08064585]\n",
      "[0. 0. 1.] <-> [0.12305317 0.00562589 0.8713209 ]\n",
      "[1. 0. 0.] <-> [0.94764566 0.02163588 0.03071842]\n",
      "[0. 0. 1.] <-> [0.10485145 0.00409097 0.8910576 ]\n",
      "[1. 0. 0.] <-> [0.71029115 0.01537287 0.27433598]\n",
      "[0. 0. 1.] <-> [0.15086769 0.00701545 0.84211683]\n",
      "[1. 0. 0.] <-> [0.92253035 0.01645908 0.06101057]\n",
      "[0. 1. 0.] <-> [0.07724375 0.91956997 0.00318623]\n",
      "[0. 1. 0.] <-> [0.08782566 0.90830046 0.00387382]\n",
      "[1. 0. 0.] <-> [0.9468654  0.01994309 0.03319147]\n",
      "[0. 1. 0.] <-> [0.7637467  0.22106445 0.01518889]\n",
      "[0. 0. 1.] <-> [0.14312744 0.00701708 0.8498555 ]\n",
      "[1. 0. 0.] <-> [0.95309085 0.03254757 0.01436153]\n",
      "[1. 0. 0.] <-> [0.95606214 0.02426174 0.01967615]\n",
      "[1. 0. 0.] <-> [0.9108228  0.01726654 0.07191071]\n",
      "[0. 1. 0.] <-> [0.08826586 0.9076967  0.00403736]\n",
      "[1. 0. 0.] <-> [0.95313275 0.02491402 0.0219532 ]\n",
      "[0. 1. 0.] <-> [0.2725075  0.7163847  0.01110774]\n",
      "[1. 0. 0.] <-> [0.87694615 0.01652938 0.10652452]\n",
      "[1. 0. 0.] <-> [0.9614685  0.0202372  0.01829431]\n",
      "[1. 0. 0.] <-> [0.8579107  0.01985179 0.1222375 ]\n",
      "[1. 0. 0.] <-> [0.8676191  0.01995943 0.1124215 ]\n",
      "[1. 0. 0.] <-> [0.90137756 0.01975079 0.07887172]\n",
      "[1. 0. 0.] <-> [0.82302016 0.01561433 0.16136554]\n",
      "[1. 0. 0.] <-> [0.94866174 0.0268763  0.02446195]\n",
      "[1. 0. 0.] <-> [0.95443624 0.01977891 0.02578482]\n",
      "[1. 0. 0.] <-> [0.94545245 0.03458405 0.01996349]\n",
      "[1. 0. 0.] <-> [0.89094526 0.09115098 0.01790377]\n",
      "[0. 1. 0.] <-> [0.4442601  0.5355734  0.02016648]\n",
      "[1. 0. 0.] <-> [0.9222507  0.05574775 0.02200155]\n",
      "[0. 1. 0.] <-> [0.1309559  0.8619912  0.00705287]\n",
      "[1. 0. 0.] <-> [0.9492861  0.03539011 0.0153237 ]\n",
      "[1. 0. 0.] <-> [0.9097495  0.06360842 0.02664203]\n",
      "[1. 0. 0.] <-> [0.95551753 0.02001277 0.02446961]\n",
      "[1. 0. 0.] <-> [0.93033445 0.03676499 0.03290055]\n",
      "[1. 0. 0.] <-> [0.86552984 0.1005028  0.03396736]\n",
      "[1. 0. 0.] <-> [0.94065166 0.03568239 0.02366599]\n",
      "[1. 0. 0.] <-> [0.8952094  0.06250115 0.04228948]\n",
      "[0. 1. 0.] <-> [0.08387332 0.91249245 0.00363422]\n",
      "[1. 0. 0.] <-> [0.85960627 0.01749901 0.12289472]\n",
      "[1. 0. 0.] <-> [0.8949524  0.08702449 0.01802314]\n",
      "[0. 0. 1.] <-> [0.10153601 0.00373999 0.89472395]\n",
      "[1. 0. 0.] <-> [0.9342323  0.04275775 0.02300994]\n",
      "[1. 0. 0.] <-> [0.9595834  0.01848798 0.02192856]\n",
      "[1. 0. 0.] <-> [0.9386736  0.03738508 0.02394132]\n",
      "[0. 0. 1.] <-> [0.10581163 0.00423559 0.88995284]\n",
      "[1. 0. 0.] <-> [0.8693472  0.01662534 0.11402743]\n",
      "[1. 0. 0.] <-> [0.8542524  0.12471155 0.02103606]\n",
      "[0. 0. 1.] <-> [0.11211195 0.00462445 0.8832636 ]\n",
      "[1. 0. 0.] <-> [0.9620561  0.02370438 0.01423954]\n",
      "[0. 0. 1.] <-> [0.4802736  0.01581007 0.5039163 ]\n",
      "[1. 0. 0.] <-> [0.9276649  0.05042931 0.02190585]\n",
      "[1. 0. 0.] <-> [0.921143   0.01771551 0.06114138]\n",
      "[1. 0. 0.] <-> [0.9452288  0.02212016 0.03265113]\n",
      "[1. 0. 0.] <-> [0.88173145 0.09646185 0.02180669]\n",
      "[1. 0. 0.] <-> [0.91590077 0.01919536 0.06490377]\n",
      "[1. 0. 0.] <-> [0.93521166 0.04877464 0.01601371]\n",
      "[1. 0. 0.] <-> [0.92320967 0.03121665 0.04557376]\n",
      "[0. 1. 0.] <-> [0.07909194 0.9176041  0.00330397]\n",
      "[1. 0. 0.] <-> [0.8947209  0.01535212 0.08992701]\n",
      "[1. 0. 0.] <-> [0.93817097 0.01914698 0.04268197]\n",
      "[1. 0. 0.] <-> [0.9473865  0.01911011 0.03350337]\n",
      "[1. 0. 0.] <-> [0.9387681  0.03258678 0.02864513]\n",
      "[1. 0. 0.] <-> [0.9520721  0.02698913 0.02093885]\n",
      "[1. 0. 0.] <-> [0.9178702  0.01675701 0.06537274]\n",
      "[0. 0. 1.] <-> [0.10812166 0.00420209 0.88767624]\n",
      "[1. 0. 0.] <-> [0.9564327  0.02282541 0.02074193]\n",
      "[1. 0. 0.] <-> [0.9170413  0.06788161 0.01507709]\n",
      "[1. 0. 0.] <-> [0.92483914 0.02267987 0.05248106]\n",
      "[1. 0. 0.] <-> [0.94441855 0.03604995 0.0195315 ]\n",
      "[1. 0. 0.] <-> [0.95409983 0.01795929 0.02794089]\n",
      "[0. 0. 1.] <-> [0.776745   0.01849632 0.20475857]\n",
      "[0. 0. 1.] <-> [0.12594396 0.00514256 0.8689135 ]\n",
      "[1. 0. 0.] <-> [0.9400808  0.02211557 0.03780371]\n",
      "[0. 1. 0.] <-> [0.08305416 0.91336906 0.00357682]\n",
      "[1. 0. 0.] <-> [0.9169375  0.01950006 0.06356254]\n",
      "[1. 0. 0.] <-> [0.86729115 0.01781005 0.11489891]\n",
      "[0. 1. 0.] <-> [0.10409247 0.8911731  0.00473442]\n",
      "[1. 0. 0.] <-> [0.8860364  0.01856903 0.09539454]\n",
      "[0. 1. 0.] <-> [0.4261139  0.5586177  0.01526834]\n",
      "[1. 0. 0.] <-> [0.5969601  0.01393581 0.389104  ]\n",
      "[1. 0. 0.] <-> [0.8526586  0.12028459 0.02705681]\n",
      "[1. 0. 0.] <-> [0.9446083  0.0170588  0.03833294]\n",
      "[1. 0. 0.] <-> [0.9599225  0.01703767 0.02303974]\n",
      "[1. 0. 0.] <-> [0.9642459  0.01575066 0.02000345]\n",
      "[0. 0. 1.] <-> [0.8051027  0.01900159 0.1758957 ]\n",
      "[1. 0. 0.] <-> [0.94834465 0.0253203  0.02633508]\n",
      "[0. 0. 1.] <-> [0.10188577 0.00381181 0.89430237]\n",
      "[0. 1. 0.] <-> [0.22509877 0.75755453 0.01734669]\n",
      "[1. 0. 0.] <-> [0.7498719  0.22854234 0.0215857 ]\n",
      "[1. 0. 0.] <-> [0.9507168  0.02894308 0.02034005]\n",
      "{'accuracy': 0.9814814814814815, 'mean_square_error': 0.07448340527917682, 'categorical_crossentropy': 0.17027367485894096, 'essential_metrics': {0: {'tp_hit': 76, 'fp_hit': 3, 'tn_hit': 29, 'fn_hit': 0}, 1: {'tp_hit': 16, 'fp_hit': 0, 'tn_hit': 91, 'fn_hit': 1}, 2: {'tp_hit': 13, 'fp_hit': 0, 'tn_hit': 93, 'fn_hit': 2}}}\n"
     ]
    }
   ],
   "source": [
    "# recall phase\n",
    "score = model.evaluate(x_test, y_test, False)\n",
    "print(score)"
   ]
  },
  {
   "cell_type": "code",
   "execution_count": 13,
   "metadata": {},
   "outputs": [
    {
     "name": "stdout",
     "output_type": "stream",
     "text": [
      "{'accuracy': 0.8703703703703703, 'mean_square_error': 0.3009481495625521, 'categorical_crossentropy': 0.5264818403455946, 'essential_metrics': {0: {'tp_hit': 75, 'fp_hit': 20, 'tn_hit': 12, 'fn_hit': 1}, 1: {'tp_hit': 0, 'fp_hit': 0, 'tn_hit': 91, 'fn_hit': 17}, 2: {'tp_hit': 12, 'fp_hit': 1, 'tn_hit': 92, 'fn_hit': 3}}, 'checkpoint': 10} \n",
      "\n",
      "\n",
      "{'accuracy': 0.8765432098765432, 'mean_square_error': 0.30925912412041967, 'categorical_crossentropy': 0.5300237161141855, 'essential_metrics': {0: {'tp_hit': 76, 'fp_hit': 20, 'tn_hit': 12, 'fn_hit': 0}, 1: {'tp_hit': 0, 'fp_hit': 0, 'tn_hit': 91, 'fn_hit': 17}, 2: {'tp_hit': 12, 'fp_hit': 0, 'tn_hit': 93, 'fn_hit': 3}}, 'checkpoint': 20} \n",
      "\n",
      "\n",
      "{'accuracy': 0.8765432098765432, 'mean_square_error': 0.30925912412041967, 'categorical_crossentropy': 0.5300237161141855, 'essential_metrics': {0: {'tp_hit': 76, 'fp_hit': 20, 'tn_hit': 12, 'fn_hit': 0}, 1: {'tp_hit': 0, 'fp_hit': 0, 'tn_hit': 91, 'fn_hit': 17}, 2: {'tp_hit': 12, 'fp_hit': 0, 'tn_hit': 93, 'fn_hit': 3}}, 'checkpoint': 30} \n",
      "\n",
      "\n",
      "{'accuracy': 0.8518518518518519, 'mean_square_error': 0.2966621510345607, 'categorical_crossentropy': 0.49614136307327833, 'essential_metrics': {0: {'tp_hit': 76, 'fp_hit': 24, 'tn_hit': 8, 'fn_hit': 0}, 1: {'tp_hit': 0, 'fp_hit': 0, 'tn_hit': 91, 'fn_hit': 17}, 2: {'tp_hit': 8, 'fp_hit': 0, 'tn_hit': 93, 'fn_hit': 7}}, 'checkpoint': 40} \n",
      "\n",
      "\n",
      "{'accuracy': 0.8518518518518519, 'mean_square_error': 0.2788856505665643, 'categorical_crossentropy': 0.46499623192681205, 'essential_metrics': {0: {'tp_hit': 76, 'fp_hit': 24, 'tn_hit': 8, 'fn_hit': 0}, 1: {'tp_hit': 0, 'fp_hit': 0, 'tn_hit': 91, 'fn_hit': 17}, 2: {'tp_hit': 8, 'fp_hit': 0, 'tn_hit': 93, 'fn_hit': 7}}, 'checkpoint': 50} \n",
      "\n",
      "\n",
      "{'accuracy': 0.9506172839506173, 'mean_square_error': 0.22000812397683095, 'categorical_crossentropy': 0.40199548226815685, 'essential_metrics': {0: {'tp_hit': 76, 'fp_hit': 8, 'tn_hit': 24, 'fn_hit': 0}, 1: {'tp_hit': 16, 'fp_hit': 0, 'tn_hit': 91, 'fn_hit': 1}, 2: {'tp_hit': 8, 'fp_hit': 0, 'tn_hit': 93, 'fn_hit': 7}}, 'checkpoint': 60} \n",
      "\n",
      "\n",
      "{'accuracy': 0.9074074074074074, 'mean_square_error': 0.1885470544824056, 'categorical_crossentropy': 0.35693415889033564, 'essential_metrics': {0: {'tp_hit': 76, 'fp_hit': 15, 'tn_hit': 17, 'fn_hit': 0}, 1: {'tp_hit': 5, 'fp_hit': 0, 'tn_hit': 91, 'fn_hit': 12}, 2: {'tp_hit': 12, 'fp_hit': 0, 'tn_hit': 93, 'fn_hit': 3}}, 'checkpoint': 70} \n",
      "\n",
      "\n",
      "{'accuracy': 0.9506172839506173, 'mean_square_error': 0.19241055045306463, 'categorical_crossentropy': 0.38328001234266496, 'essential_metrics': {0: {'tp_hit': 76, 'fp_hit': 8, 'tn_hit': 24, 'fn_hit': 0}, 1: {'tp_hit': 14, 'fp_hit': 0, 'tn_hit': 91, 'fn_hit': 3}, 2: {'tp_hit': 10, 'fp_hit': 0, 'tn_hit': 93, 'fn_hit': 5}}, 'checkpoint': 80} \n",
      "\n",
      "\n",
      "{'accuracy': 0.9444444444444444, 'mean_square_error': 0.15216228627687897, 'categorical_crossentropy': 0.30829136459915724, 'essential_metrics': {0: {'tp_hit': 76, 'fp_hit': 9, 'tn_hit': 23, 'fn_hit': 0}, 1: {'tp_hit': 11, 'fp_hit': 0, 'tn_hit': 91, 'fn_hit': 6}, 2: {'tp_hit': 12, 'fp_hit': 0, 'tn_hit': 93, 'fn_hit': 3}}, 'checkpoint': 90} \n",
      "\n",
      "\n",
      "{'accuracy': 0.9567901234567902, 'mean_square_error': 0.13041806565414713, 'categorical_crossentropy': 0.26865867332175924, 'essential_metrics': {0: {'tp_hit': 76, 'fp_hit': 7, 'tn_hit': 25, 'fn_hit': 0}, 1: {'tp_hit': 13, 'fp_hit': 0, 'tn_hit': 91, 'fn_hit': 4}, 2: {'tp_hit': 12, 'fp_hit': 0, 'tn_hit': 93, 'fn_hit': 3}}, 'checkpoint': 100} \n",
      "\n",
      "\n",
      "{'accuracy': 0.9567901234567902, 'mean_square_error': 0.11755465583732568, 'categorical_crossentropy': 0.24860601071958188, 'essential_metrics': {0: {'tp_hit': 76, 'fp_hit': 7, 'tn_hit': 25, 'fn_hit': 0}, 1: {'tp_hit': 13, 'fp_hit': 0, 'tn_hit': 91, 'fn_hit': 4}, 2: {'tp_hit': 12, 'fp_hit': 0, 'tn_hit': 93, 'fn_hit': 3}}, 'checkpoint': 110} \n",
      "\n",
      "\n",
      "{'accuracy': 0.9629629629629629, 'mean_square_error': 0.10432047103024739, 'categorical_crossentropy': 0.21793446717438875, 'essential_metrics': {0: {'tp_hit': 76, 'fp_hit': 6, 'tn_hit': 26, 'fn_hit': 0}, 1: {'tp_hit': 14, 'fp_hit': 0, 'tn_hit': 91, 'fn_hit': 3}, 2: {'tp_hit': 12, 'fp_hit': 0, 'tn_hit': 93, 'fn_hit': 3}}, 'checkpoint': 120} \n",
      "\n",
      "\n",
      "{'accuracy': 0.9753086419753086, 'mean_square_error': 0.08379903318354726, 'categorical_crossentropy': 0.18909378404970523, 'essential_metrics': {0: {'tp_hit': 76, 'fp_hit': 4, 'tn_hit': 28, 'fn_hit': 0}, 1: {'tp_hit': 15, 'fp_hit': 0, 'tn_hit': 91, 'fn_hit': 2}, 2: {'tp_hit': 13, 'fp_hit': 0, 'tn_hit': 93, 'fn_hit': 2}}, 'checkpoint': 130} \n",
      "\n",
      "\n",
      "{'accuracy': 0.9567901234567902, 'mean_square_error': 0.09428971030761103, 'categorical_crossentropy': 0.18311707178751627, 'essential_metrics': {0: {'tp_hit': 76, 'fp_hit': 7, 'tn_hit': 25, 'fn_hit': 0}, 1: {'tp_hit': 12, 'fp_hit': 0, 'tn_hit': 91, 'fn_hit': 5}, 2: {'tp_hit': 13, 'fp_hit': 0, 'tn_hit': 93, 'fn_hit': 2}}, 'checkpoint': 140} \n",
      "\n",
      "\n",
      "{'accuracy': 0.9753086419753086, 'mean_square_error': 0.08265554860539541, 'categorical_crossentropy': 0.18682896649395977, 'essential_metrics': {0: {'tp_hit': 76, 'fp_hit': 4, 'tn_hit': 28, 'fn_hit': 0}, 1: {'tp_hit': 15, 'fp_hit': 0, 'tn_hit': 91, 'fn_hit': 2}, 2: {'tp_hit': 13, 'fp_hit': 0, 'tn_hit': 93, 'fn_hit': 2}}, 'checkpoint': 150} \n",
      "\n",
      "\n",
      "{'accuracy': 0.9753086419753086, 'mean_square_error': 0.08124300194012653, 'categorical_crossentropy': 0.17849519517686632, 'essential_metrics': {0: {'tp_hit': 76, 'fp_hit': 4, 'tn_hit': 28, 'fn_hit': 0}, 1: {'tp_hit': 15, 'fp_hit': 0, 'tn_hit': 91, 'fn_hit': 2}, 2: {'tp_hit': 13, 'fp_hit': 0, 'tn_hit': 93, 'fn_hit': 2}}, 'checkpoint': 160} \n",
      "\n",
      "\n",
      "{'accuracy': 0.9753086419753086, 'mean_square_error': 0.07154500048678815, 'categorical_crossentropy': 0.15736126016687463, 'essential_metrics': {0: {'tp_hit': 76, 'fp_hit': 4, 'tn_hit': 28, 'fn_hit': 0}, 1: {'tp_hit': 15, 'fp_hit': 0, 'tn_hit': 91, 'fn_hit': 2}, 2: {'tp_hit': 13, 'fp_hit': 0, 'tn_hit': 93, 'fn_hit': 2}}, 'checkpoint': 170} \n",
      "\n",
      "\n",
      "{'accuracy': 0.9629629629629629, 'mean_square_error': 0.07930841375920293, 'categorical_crossentropy': 0.16596131854587132, 'essential_metrics': {0: {'tp_hit': 76, 'fp_hit': 6, 'tn_hit': 26, 'fn_hit': 0}, 1: {'tp_hit': 13, 'fp_hit': 0, 'tn_hit': 91, 'fn_hit': 4}, 2: {'tp_hit': 13, 'fp_hit': 0, 'tn_hit': 93, 'fn_hit': 2}}, 'checkpoint': 180} \n",
      "\n",
      "\n",
      "{'accuracy': 0.9691358024691358, 'mean_square_error': 0.08144056507255862, 'categorical_crossentropy': 0.1790585164670591, 'essential_metrics': {0: {'tp_hit': 76, 'fp_hit': 5, 'tn_hit': 27, 'fn_hit': 0}, 1: {'tp_hit': 14, 'fp_hit': 0, 'tn_hit': 91, 'fn_hit': 3}, 2: {'tp_hit': 13, 'fp_hit': 0, 'tn_hit': 93, 'fn_hit': 2}}, 'checkpoint': 190} \n",
      "\n",
      "\n",
      "{'accuracy': 0.9814814814814815, 'mean_square_error': 0.07448340527917682, 'categorical_crossentropy': 0.17027367485894096, 'essential_metrics': {0: {'tp_hit': 76, 'fp_hit': 3, 'tn_hit': 29, 'fn_hit': 0}, 1: {'tp_hit': 16, 'fp_hit': 0, 'tn_hit': 91, 'fn_hit': 1}, 2: {'tp_hit': 13, 'fp_hit': 0, 'tn_hit': 93, 'fn_hit': 2}}, 'checkpoint': 200} \n",
      "\n",
      "\n"
     ]
    }
   ],
   "source": [
    "for checkpoint in checkpoints:\n",
    "    print(checkpoint, '\\n\\n')"
   ]
  },
  {
   "cell_type": "code",
   "execution_count": 14,
   "metadata": {},
   "outputs": [
    {
     "name": "stdout",
     "output_type": "stream",
     "text": [
      "Layer 1\n",
      "Neuron 0: weights:\n",
      "[ 0.2615516  -0.7431765  -0.04725289  0.04868983  0.94054747]\n",
      " bias: 0.011537762358784676\n",
      "\n",
      "Neuron 1: weights:\n",
      "[-0.61136544  1.9461988   0.05885198 -0.9685368  -0.84511846]\n",
      " bias: 1.772992491722107\n",
      "\n",
      "Neuron 2: weights:\n",
      "[ 0.6392674  -0.48059362 -0.14031701 -0.03839657  0.16357292]\n",
      " bias: -0.020787322893738747\n",
      "\n",
      "Neuron 3: weights:\n",
      "[-0.48940977  2.1903276   1.6067929  -0.06467939 -0.33382782]\n",
      " bias: -1.450238585472107\n",
      "\n",
      "$\n",
      "Layer 2\n",
      "Neuron 0: weights:\n",
      "[-2.2352202e-01  3.0000000e+00 -1.4801017e-03 -2.6572092e+00]\n",
      " bias: 0.1182510107755661\n",
      "\n",
      "Neuron 1: weights:\n",
      "[-2.1404681   0.02534615 -1.3511655   3.        ]\n",
      " bias: -0.033883508294820786\n",
      "\n",
      "Neuron 2: weights:\n",
      "[ 1.6743058  -2.7619278   0.36555105 -0.06504124]\n",
      " bias: 0.06117207556962967\n",
      "\n",
      "$\n",
      "\n"
     ]
    }
   ],
   "source": [
    "print(model)"
   ]
  }
 ],
 "metadata": {
  "kernelspec": {
   "display_name": "Python 3",
   "language": "python",
   "name": "python3"
  },
  "language_info": {
   "codemirror_mode": {
    "name": "ipython",
    "version": 3
   },
   "file_extension": ".py",
   "mimetype": "text/x-python",
   "name": "python",
   "nbconvert_exporter": "python",
   "pygments_lexer": "ipython3",
   "version": "3.6.12"
  }
 },
 "nbformat": 4,
 "nbformat_minor": 2
}
