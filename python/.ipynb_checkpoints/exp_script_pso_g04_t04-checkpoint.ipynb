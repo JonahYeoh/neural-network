{
 "cells": [
  {
   "cell_type": "code",
   "execution_count": 1,
   "metadata": {},
   "outputs": [],
   "source": [
    "# dependency\n",
    "import numpy as np\n",
    "import pandas as pd\n",
    "import copy\n",
    "import math\n",
    "import sys\n",
    "import os\n",
    "from activations import relu, leaky_relu, sigmoid, tanh, softmax, d_sigmoid, d_relu\n",
    "from initializers import glorot_uniform, random_normal, random_uniform\n",
    "from regularizers import l1_regularizer, l2_regularizer\n",
    "from utility import trim_tail, multiply, subtract, get_nparams, one_hot_encoding, get_data\n",
    "from metrics import MSE, CCE, ACC, PRECISION, RECALL, essential_metrics, wondering_penalty, close_gap_penalty\n",
    "from pso import PSO\n",
    "from ga import GA\n",
    "from nn import Network\n",
    "from layer import DenseLayer\n",
    "from scalers import MinMaxScaler, StandardScaler"
   ]
  },
  {
   "cell_type": "code",
   "execution_count": 2,
   "metadata": {},
   "outputs": [],
   "source": [
    "# reference\n",
    "metrics_fn_dict = dict()\n",
    "metrics_fn_dict['accuracy'] = ACC\n",
    "metrics_fn_dict['categorical_crossentropy'] = CCE\n",
    "metrics_fn_dict['mean_square_error'] = MSE\n",
    "metrics_fn_dict['precision'] = PRECISION\n",
    "metrics_fn_dict['recall'] = RECALL\n",
    "metrics_fn_dict['essential_metrics'] = essential_metrics"
   ]
  },
  {
   "cell_type": "code",
   "execution_count": 3,
   "metadata": {},
   "outputs": [],
   "source": [
    "# model\n",
    "model = Network(5, lr = None)\n",
    "model.add_layer(DenseLayer(1, 4, True, afn=sigmoid, dafn=None, rfn=None))\n",
    "model.add_layer(DenseLayer(2, 3, True, afn=softmax, dafn=None, rfn=None))"
   ]
  },
  {
   "cell_type": "code",
   "execution_count": 4,
   "metadata": {},
   "outputs": [
    {
     "name": "stdout",
     "output_type": "stream",
     "text": [
      "see one see two 2 2\n"
     ]
    }
   ],
   "source": [
    "pso = PSO(dict(m = 50,\n",
    "    weight_constraint = [-3, 3], \n",
    "    velocity_constraint = [-0.1, 0.1],\n",
    "    c1 = 2,\n",
    "    c2 = 2,\n",
    "    w = 1,\n",
    "    w_decay = 1,\n",
    "    scale_hyperparameter = False,\n",
    "    regularizer = l2_regularizer,\n",
    "    mask = True))"
   ]
  },
  {
   "cell_type": "code",
   "execution_count": 5,
   "metadata": {},
   "outputs": [
    {
     "name": "stdout",
     "output_type": "stream",
     "text": [
      "building layer 1 with 5\n",
      "24\n",
      "building layer 2 with 4\n",
      "15\n"
     ]
    }
   ],
   "source": [
    "model.compile(loss_fn = 'categorical_crossentropy', optimizer = pso, \\\n",
    "    metrics = ['accuracy', 'mean_square_error', 'categorical_crossentropy'])"
   ]
  },
  {
   "cell_type": "code",
   "execution_count": 6,
   "metadata": {},
   "outputs": [
    {
     "name": "stdout",
     "output_type": "stream",
     "text": [
      "<class 'pandas.core.frame.DataFrame'>\n",
      "RangeIndex: 107 entries, 0 to 106\n",
      "Data columns (total 6 columns):\n",
      " #   Column  Non-Null Count  Dtype  \n",
      "---  ------  --------------  -----  \n",
      " 0   f1      107 non-null    float32\n",
      " 1   f2      107 non-null    float32\n",
      " 2   f3      107 non-null    float32\n",
      " 3   f4      107 non-null    float32\n",
      " 4   f5      107 non-null    float32\n",
      " 5   label   107 non-null    float32\n",
      "dtypes: float32(6)\n",
      "memory usage: 2.6 KB\n",
      "None\n",
      "<class 'pandas.core.frame.DataFrame'>\n",
      "RangeIndex: 108 entries, 0 to 107\n",
      "Data columns (total 6 columns):\n",
      " #   Column  Non-Null Count  Dtype  \n",
      "---  ------  --------------  -----  \n",
      " 0   f1      108 non-null    float32\n",
      " 1   f2      108 non-null    float32\n",
      " 2   f3      108 non-null    float32\n",
      " 3   f4      108 non-null    float32\n",
      " 4   f5      108 non-null    float32\n",
      " 5   label   108 non-null    float32\n",
      "dtypes: float32(6)\n",
      "memory usage: 2.7 KB\n",
      "None\n"
     ]
    }
   ],
   "source": [
    "# data loading\n",
    "DATA = os.path.join('c:\\\\Users\\\\tcumi\\\\github_repo\\\\neural-network\\\\', 'dataset')\n",
    "GROUP = 4\n",
    "COLUMNS = ['f1', 'f2', 'f3', 'f4', 'f5', 'label']\n",
    "N_CLASS = 3\n",
    "EPOCHS = 500\n",
    "train_dir, test_dir = \"..//dataset//training_data{}.txt\".format(GROUP), \"..//dataset//testing_data{}.txt\".format(GROUP)\n",
    "train, test = get_data(DATA, train_dir, COLUMNS), get_data(DATA, test_dir, COLUMNS)\n",
    "# shuffle\n",
    "train, test = train.sample(frac=1), test.sample(frac=1)\n",
    "x_train, y_train = train.drop('label', axis=1), train['label']\n",
    "x_test, y_test = test.drop('label', axis=1), test['label']"
   ]
  },
  {
   "cell_type": "code",
   "execution_count": 7,
   "metadata": {},
   "outputs": [],
   "source": [
    "# data scaling and encoding\n",
    "scaler = StandardScaler(['f1', 'f2', 'f3', 'f4', 'f5'])\n",
    "scaler.fit(x_train)\n",
    "x_train = scaler.transform(x_train)\n",
    "x_test = scaler.transform(x_test)\n",
    "y_train = one_hot_encoding(y_train, N_CLASS)\n",
    "y_test = one_hot_encoding(y_test, N_CLASS)"
   ]
  },
  {
   "cell_type": "code",
   "execution_count": 8,
   "metadata": {
    "tags": [
     "outputPrepend"
    ]
   },
   "outputs": [
    {
     "name": "stdout",
     "output_type": "stream",
     "text": [
      "Checkpoint 100, Accuracy: 0.9197530864197531, Loss: 0.36479021001745154\n",
      "Checkpoint 200, Accuracy: 0.9444444444444444, Loss: 0.25807377144142435\n",
      "Checkpoint 300, Accuracy: 0.9444444444444444, Loss: 0.270443563108091\n",
      "Checkpoint 400, Accuracy: 0.9506172839506173, Loss: 0.26583228287873445\n",
      "Checkpoint 500, Accuracy: 0.9506172839506173, Loss: 0.2616731149178964\n"
     ]
    }
   ],
   "source": [
    "# learning phase\n",
    "breakpoint = 100\n",
    "checkpoints = list()\n",
    "history = list()\n",
    "for century in range(0, EPOCHS, breakpoint):\n",
    "    sub_history = model.fit(x_train, y_train, breakpoint, verbose = 0)\n",
    "    score = model.evaluate(x_test, y_test, False, verbose = 0)\n",
    "    print('Checkpoint {}, Accuracy: {}, Loss: {}'.format(century+breakpoint, score['accuracy'], score[model.loss_fn]))\n",
    "    score['checkpoint'] = century + breakpoint\n",
    "    checkpoints.append(score)\n",
    "    history.extend(sub_history)"
   ]
  },
  {
   "cell_type": "code",
   "execution_count": 9,
   "metadata": {},
   "outputs": [],
   "source": [
    "import matplotlib.pyplot as plt\n",
    "\n",
    "def draw_plot(x, y_list, x_label=None, y_label=None, legend=None, title=None):\n",
    "    fig, ax = plt.subplots(figsize=(12,5))\n",
    "    for xi, yi in zip(x, y_list):\n",
    "        ax.plot(xi, yi)\n",
    "    if x_label is not None and y_label is not None:\n",
    "        ax.set(xlabel=x_label, ylabel=y_label, title='{} VS {}'.format(x_label, y_label))\n",
    "    if legend is not None:\n",
    "        ax.legend(legend)\n",
    "    ax.grid()\n",
    "    plt.show()"
   ]
  },
  {
   "cell_type": "code",
   "execution_count": 10,
   "metadata": {},
   "outputs": [
    {
     "name": "stdout",
     "output_type": "stream",
     "text": [
      "[0. 1. 0.] <-> [0.1091655  0.88799715 0.00283727]\n",
      "[1. 0. 0.] <-> [0.9087659  0.04385432 0.04737978]\n",
      "[0. 1. 0.] <-> [0.07843052 0.9200156  0.00155399]\n",
      "[1. 0. 0.] <-> [0.89162254 0.06451324 0.04386413]\n",
      "[0. 1. 0.] <-> [0.08665166 0.91130054 0.00204773]\n",
      "[1. 0. 0.] <-> [0.8836707  0.06720227 0.0491271 ]\n",
      "[1. 0. 0.] <-> [0.9128423 0.0161605 0.0709972]\n",
      "[1. 0. 0.] <-> [0.88110965 0.01513185 0.10375845]\n",
      "[1. 0. 0.] <-> [0.87531716 0.08932893 0.03535394]\n",
      "[1. 0. 0.] <-> [0.9171441  0.0304814  0.05237459]\n",
      "[1. 0. 0.] <-> [0.90998715 0.03403297 0.05597994]\n",
      "[1. 0. 0.] <-> [0.90312386 0.01751582 0.07936028]\n",
      "[1. 0. 0.] <-> [0.86984116 0.04063718 0.08952173]\n",
      "[1. 0. 0.] <-> [0.918626   0.02873508 0.05263888]\n",
      "[1. 0. 0.] <-> [0.82561123 0.14119054 0.03319824]\n",
      "[0. 0. 1.] <-> [0.52017707 0.01928446 0.46053848]\n",
      "[0. 0. 1.] <-> [0.37892282 0.0111959  0.6098812 ]\n",
      "[0. 0. 1.] <-> [0.633769   0.01163549 0.35459554]\n",
      "[0. 1. 0.] <-> [0.32351762 0.6687564  0.00772595]\n",
      "[1. 0. 0.] <-> [0.8419911  0.04104373 0.11696514]\n",
      "[1. 0. 0.] <-> [0.8598738  0.07477894 0.06534719]\n",
      "[1. 0. 0.] <-> [0.88815755 0.07191566 0.03992678]\n",
      "[1. 0. 0.] <-> [0.9146429  0.03007929 0.05527785]\n",
      "[1. 0. 0.] <-> [0.829304   0.13012297 0.04057302]\n",
      "[1. 0. 0.] <-> [0.8394393  0.1205561  0.04000465]\n",
      "[1. 0. 0.] <-> [0.8855078  0.06661633 0.04787578]\n",
      "[0. 1. 0.] <-> [0.10205899 0.8954598  0.0024812 ]\n",
      "[1. 0. 0.] <-> [0.91798526 0.03989826 0.04211641]\n",
      "[0. 1. 0.] <-> [0.07984687 0.9184491  0.00170409]\n",
      "[0. 1. 0.] <-> [0.25669602 0.73772794 0.00557597]\n",
      "[1. 0. 0.] <-> [0.8948284  0.04917349 0.05599816]\n",
      "[1. 0. 0.] <-> [0.9144954  0.02678991 0.05871462]\n",
      "[0. 0. 1.] <-> [0.34341526 0.01107409 0.6455106 ]\n",
      "[1. 0. 0.] <-> [0.862025   0.0168445  0.12113044]\n",
      "[1. 0. 0.] <-> [0.9033544  0.02607788 0.07056763]\n",
      "[1. 0. 0.] <-> [0.91416454 0.03506877 0.0507667 ]\n",
      "[0. 1. 0.] <-> [0.54218477 0.44438943 0.01342577]\n",
      "[1. 0. 0.] <-> [0.85395855 0.0419215  0.10411996]\n",
      "[1. 0. 0.] <-> [0.72349554 0.25540593 0.02109855]\n",
      "[0. 0. 1.] <-> [0.83720237 0.02355016 0.13924748]\n",
      "[1. 0. 0.] <-> [0.9074407  0.01789171 0.07466759]\n",
      "[0. 1. 0.] <-> [0.54566294 0.43897033 0.01536676]\n",
      "[0. 1. 0.] <-> [0.07649651 0.9218032  0.00170029]\n",
      "[1. 0. 0.] <-> [0.90479046 0.0178974  0.0773121 ]\n",
      "[0. 0. 1.] <-> [0.23571251 0.0100868  0.7542007 ]\n",
      "[1. 0. 0.] <-> [0.91129756 0.04950899 0.03919347]\n",
      "[1. 0. 0.] <-> [0.8659119  0.03452299 0.09956512]\n",
      "[1. 0. 0.] <-> [0.844794   0.08680958 0.06839643]\n",
      "[1. 0. 0.] <-> [0.7974531  0.14047706 0.06206984]\n",
      "[1. 0. 0.] <-> [0.77058166 0.19665678 0.03276154]\n",
      "[0. 1. 0.] <-> [0.4328867  0.5566767  0.01043661]\n",
      "[0. 1. 0.] <-> [0.20418523 0.78983676 0.00597806]\n",
      "[0. 1. 0.] <-> [0.08029845 0.91819036 0.00151123]\n",
      "[1. 0. 0.] <-> [0.88498247 0.05510543 0.05991204]\n",
      "[1. 0. 0.] <-> [0.71421915 0.25576535 0.03001544]\n",
      "[1. 0. 0.] <-> [0.53752214 0.44684184 0.01563604]\n",
      "[1. 0. 0.] <-> [0.9005407  0.05692626 0.042533  ]\n",
      "[1. 0. 0.] <-> [0.6632887  0.3096254  0.02708599]\n",
      "[0. 0. 1.] <-> [0.71843654 0.01801951 0.26354396]\n",
      "[1. 0. 0.] <-> [0.9209635  0.02557025 0.05346622]\n",
      "[1. 0. 0.] <-> [0.8646079  0.08411281 0.0512793 ]\n",
      "[0. 0. 1.] <-> [0.63166106 0.02594699 0.3423919 ]\n",
      "[0. 0. 1.] <-> [0.34066463 0.01083612 0.6484993 ]\n",
      "[1. 0. 0.] <-> [0.89177907 0.06848092 0.03973997]\n",
      "[1. 0. 0.] <-> [0.8791127  0.08557626 0.03531103]\n",
      "[1. 0. 0.] <-> [0.90632784 0.04700945 0.04666272]\n",
      "[1. 0. 0.] <-> [0.79195243 0.17299452 0.03505308]\n",
      "[1. 0. 0.] <-> [0.8849425  0.02797838 0.08707912]\n",
      "[0. 0. 1.] <-> [0.26176062 0.00961729 0.7286221 ]\n",
      "[1. 0. 0.] <-> [0.865873   0.09324362 0.04088337]\n",
      "[1. 0. 0.] <-> [0.7323899  0.19519182 0.07241827]\n",
      "[1. 0. 0.] <-> [0.6878687  0.28867838 0.02345292]\n",
      "[0. 0. 1.] <-> [0.855967   0.01255907 0.13147394]\n",
      "[1. 0. 0.] <-> [0.8911685  0.04467308 0.06415844]\n",
      "[0. 1. 0.] <-> [0.08144612 0.917031   0.00152296]\n",
      "[1. 0. 0.] <-> [0.8747825  0.09283395 0.03238346]\n",
      "[1. 0. 0.] <-> [0.86333144 0.08188185 0.05478669]\n",
      "[1. 0. 0.] <-> [0.89919114 0.03381002 0.06699885]\n",
      "[1. 0. 0.] <-> [0.8727518  0.090323   0.03692523]\n",
      "[1. 0. 0.] <-> [0.89510554 0.06067051 0.04422395]\n",
      "[1. 0. 0.] <-> [0.67357457 0.2956316  0.03079392]\n",
      "[1. 0. 0.] <-> [0.92236894 0.02568984 0.05194123]\n",
      "[0. 0. 1.] <-> [0.19213673 0.00853778 0.7993255 ]\n",
      "[1. 0. 0.] <-> [0.8928346  0.07532655 0.03183882]\n",
      "[1. 0. 0.] <-> [0.9046954  0.0489667  0.04633786]\n",
      "[1. 0. 0.] <-> [0.8922798  0.01827312 0.08944716]\n",
      "[0. 1. 0.] <-> [0.3220157  0.6708682  0.00711602]\n",
      "[1. 0. 0.] <-> [0.7932169  0.04225834 0.16452473]\n",
      "[1. 0. 0.] <-> [0.901118   0.04027443 0.0586076 ]\n",
      "[1. 0. 0.] <-> [0.9192721  0.01711192 0.06361595]\n",
      "[1. 0. 0.] <-> [0.7959731  0.02823067 0.17579618]\n",
      "[1. 0. 0.] <-> [0.892149   0.07028617 0.03756488]\n",
      "[1. 0. 0.] <-> [0.875825   0.05731061 0.06686441]\n",
      "[0. 1. 0.] <-> [0.3885389  0.59832335 0.0131378 ]\n",
      "[1. 0. 0.] <-> [0.89996713 0.01444791 0.08558493]\n",
      "[1. 0. 0.] <-> [0.89534307 0.04298472 0.0616722 ]\n",
      "[0. 0. 1.] <-> [0.18617089 0.00924777 0.8045813 ]\n",
      "[1. 0. 0.] <-> [0.9061049  0.05871564 0.0351794 ]\n",
      "[1. 0. 0.] <-> [0.9223007  0.02427441 0.0534249 ]\n",
      "[1. 0. 0.] <-> [0.90157133 0.02427441 0.07415419]\n",
      "[1. 0. 0.] <-> [0.55935484 0.42276657 0.0178786 ]\n",
      "[1. 0. 0.] <-> [0.71170044 0.02957255 0.25872704]\n",
      "[1. 0. 0.] <-> [0.7862911  0.1849661  0.02874286]\n",
      "[1. 0. 0.] <-> [0.8368014  0.12324809 0.03995051]\n",
      "[1. 0. 0.] <-> [0.89688104 0.05173822 0.05138081]\n",
      "[1. 0. 0.] <-> [0.87063134 0.09131505 0.03805364]\n",
      "[1. 0. 0.] <-> [0.89597213 0.03005688 0.07397094]\n",
      "[0. 0. 1.] <-> [0.19143593 0.01392459 0.7946394 ]\n",
      "{'accuracy': 0.9506172839506173, 'mean_square_error': 0.12814130094039916, 'categorical_crossentropy': 0.2616731149178964, 'essential_metrics': {0: {'tp_hit': 78, 'fp_hit': 8, 'tn_hit': 22, 'fn_hit': 0}, 1: {'tp_hit': 14, 'fp_hit': 0, 'tn_hit': 92, 'fn_hit': 2}, 2: {'tp_hit': 8, 'fp_hit': 0, 'tn_hit': 94, 'fn_hit': 6}}}\n"
     ]
    }
   ],
   "source": [
    "# recall phase\n",
    "score = model.evaluate(x_test, y_test, False)\n",
    "print(score)"
   ]
  },
  {
   "cell_type": "code",
   "execution_count": 11,
   "metadata": {},
   "outputs": [
    {
     "data": {
      "image/png": "[encoded data removed]",
      "text/plain": [
       "<Figure size 864x360 with 1 Axes>"
      ]
     },
     "metadata": {
      "needs_background": "light"
     },
     "output_type": "display_data"
    },
    {
     "data": {
      "image/png": "[encoded data removed]",
      "text/plain": [
       "<Figure size 864x360 with 1 Axes>"
      ]
     },
     "metadata": {
      "needs_background": "light"
     },
     "output_type": "display_data"
    }
   ],
   "source": [
    "draw_plot(x = [[i for i in range(len(history))], [(i+1)*breakpoint for i in range(len(checkpoints))]], y_list = [history, [ ckp[model.loss_fn] for ckp in checkpoints ]], x_label = 'Epochs', \\\n",
    "    y_label = model.loss_fn, legend=['train', 'test'])\n",
    "acc = [ ckp['accuracy'] for ckp in checkpoints ]\n",
    "draw_plot(x = [[(i+1)*breakpoint for i in range(len(checkpoints))]], y_list = [acc], x_label = 'Checkpoints', \\\n",
    "    y_label = 'accuracy')"
   ]
  },
  {
   "cell_type": "code",
   "execution_count": 12,
   "metadata": {},
   "outputs": [
    {
     "name": "stdout",
     "output_type": "stream",
     "text": [
      "{'accuracy': 0.9197530864197531, 'mean_square_error': 0.18374842490541904, 'categorical_crossentropy': 0.36479021001745154, 'essential_metrics': {0: {'tp_hit': 78, 'fp_hit': 13, 'tn_hit': 17, 'fn_hit': 0}, 1: {'tp_hit': 9, 'fp_hit': 0, 'tn_hit': 92, 'fn_hit': 7}, 2: {'tp_hit': 8, 'fp_hit': 0, 'tn_hit': 94, 'fn_hit': 6}}, 'checkpoint': 100} \n",
      "\n",
      "\n",
      "{'accuracy': 0.9444444444444444, 'mean_square_error': 0.1281989716466242, 'categorical_crossentropy': 0.25807377144142435, 'essential_metrics': {0: {'tp_hit': 78, 'fp_hit': 9, 'tn_hit': 21, 'fn_hit': 0}, 1: {'tp_hit': 13, 'fp_hit': 0, 'tn_hit': 92, 'fn_hit': 3}, 2: {'tp_hit': 8, 'fp_hit': 0, 'tn_hit': 94, 'fn_hit': 6}}, 'checkpoint': 200} \n",
      "\n",
      "\n",
      "{'accuracy': 0.9444444444444444, 'mean_square_error': 0.13550357527389045, 'categorical_crossentropy': 0.270443563108091, 'essential_metrics': {0: {'tp_hit': 78, 'fp_hit': 9, 'tn_hit': 21, 'fn_hit': 0}, 1: {'tp_hit': 13, 'fp_hit': 0, 'tn_hit': 92, 'fn_hit': 3}, 2: {'tp_hit': 8, 'fp_hit': 0, 'tn_hit': 94, 'fn_hit': 6}}, 'checkpoint': 300} \n",
      "\n",
      "\n",
      "{'accuracy': 0.9506172839506173, 'mean_square_error': 0.13241417363394006, 'categorical_crossentropy': 0.26583228287873445, 'essential_metrics': {0: {'tp_hit': 78, 'fp_hit': 8, 'tn_hit': 22, 'fn_hit': 0}, 1: {'tp_hit': 14, 'fp_hit': 0, 'tn_hit': 92, 'fn_hit': 2}, 2: {'tp_hit': 8, 'fp_hit': 0, 'tn_hit': 94, 'fn_hit': 6}}, 'checkpoint': 400} \n",
      "\n",
      "\n",
      "{'accuracy': 0.9506172839506173, 'mean_square_error': 0.12814130094039916, 'categorical_crossentropy': 0.2616731149178964, 'essential_metrics': {0: {'tp_hit': 78, 'fp_hit': 8, 'tn_hit': 22, 'fn_hit': 0}, 1: {'tp_hit': 14, 'fp_hit': 0, 'tn_hit': 92, 'fn_hit': 2}, 2: {'tp_hit': 8, 'fp_hit': 0, 'tn_hit': 94, 'fn_hit': 6}}, 'checkpoint': 500} \n",
      "\n",
      "\n"
     ]
    }
   ],
   "source": [
    "for checkpoint in checkpoints:\n",
    "    print(checkpoint, '\\n\\n')"
   ]
  },
  {
   "cell_type": "code",
   "execution_count": 13,
   "metadata": {},
   "outputs": [
    {
     "name": "stdout",
     "output_type": "stream",
     "text": [
      "Layer 1\n",
      "Neuron 0: weights:\n",
      "[ 0.7024712  -1.1955826  -1.0374279   0.06249894  0.22376502]\n",
      " bias: 0.6140817403793335\n",
      "\n",
      "Neuron 1: weights:\n",
      "[-0.76828086  1.3309717   1.0952318   0.23592225 -0.01450443]\n",
      " bias: -0.8640886545181274\n",
      "\n",
      "Neuron 2: weights:\n",
      "[-0.41039172  0.9267285   0.39533255 -0.16271265 -0.59358305]\n",
      " bias: -0.18216468393802643\n",
      "\n",
      "Neuron 3: weights:\n",
      "[-0.10378851  1.0676564  -0.4331211  -1.1782043  -1.089329  ]\n",
      " bias: 1.1352837085723877\n",
      "\n",
      "$\n",
      "Layer 2\n",
      "Neuron 0: weights:\n",
      "[ 0.85676175 -1.3626773  -0.05460999  2.3148654 ]\n",
      " bias: -0.12398596107959747\n",
      "\n",
      "Neuron 1: weights:\n",
      "[-2.18966     2.0674188   1.2775795   0.11214714]\n",
      " bias: -0.2577204406261444\n",
      "\n",
      "Neuron 2: weights:\n",
      "[ 1.6721059  -0.5829375  -0.96450865 -2.217499  ]\n",
      " bias: 0.5241938829421997\n",
      "\n",
      "$\n",
      "\n"
     ]
    }
   ],
   "source": [
    "print(model)"
   ]
  }
 ],
 "metadata": {
  "kernelspec": {
   "display_name": "Python 3",
   "language": "python",
   "name": "python3"
  },
  "language_info": {
   "codemirror_mode": {
    "name": "ipython",
    "version": 3
   },
   "file_extension": ".py",
   "mimetype": "text/x-python",
   "name": "python",
   "nbconvert_exporter": "python",
   "pygments_lexer": "ipython3",
   "version": "3.6.10"
  }
 },
 "nbformat": 4,
 "nbformat_minor": 2
}
