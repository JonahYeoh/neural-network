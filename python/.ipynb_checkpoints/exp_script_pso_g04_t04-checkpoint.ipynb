{
 "cells": [
  {
   "cell_type": "code",
   "execution_count": 1,
   "metadata": {},
   "outputs": [],
   "source": [
    "# dependency\n",
    "import numpy as np\n",
    "import pandas as pd\n",
    "import copy\n",
    "import math\n",
    "import sys\n",
    "import os\n",
    "from activations import relu, leaky_relu, sigmoid, tanh, softmax, d_sigmoid, d_relu\n",
    "from initializers import glorot_uniform, random_normal, random_uniform\n",
    "from regularizers import l1_regularizer, l2_regularizer\n",
    "from utility import trim_tail, multiply, subtract, get_nparams, one_hot_encoding, get_data\n",
    "from metrics import MSE, CCE, ACC, PRECISION, RECALL, essential_metrics, wondering_penalty, close_gap_penalty\n",
    "from pso import PSO\n",
    "from ga import GA\n",
    "from nn import Network\n",
    "from layer import DenseLayer\n",
    "from scalers import MinMaxScaler, StandardScaler"
   ]
  },
  {
   "cell_type": "code",
   "execution_count": 2,
   "metadata": {},
   "outputs": [],
   "source": [
    "# reference\n",
    "metrics_fn_dict = dict()\n",
    "metrics_fn_dict['accuracy'] = ACC\n",
    "metrics_fn_dict['categorical_crossentropy'] = CCE\n",
    "metrics_fn_dict['mean_square_error'] = MSE\n",
    "metrics_fn_dict['precision'] = PRECISION\n",
    "metrics_fn_dict['recall'] = RECALL\n",
    "metrics_fn_dict['essential_metrics'] = essential_metrics"
   ]
  },
  {
   "cell_type": "code",
   "execution_count": 3,
   "metadata": {},
   "outputs": [],
   "source": [
    "# model\n",
    "model = Network(5, lr = None)\n",
    "model.add_layer(DenseLayer(1, 4, True, afn=sigmoid, dafn=None, rfn=None))\n",
    "model.add_layer(DenseLayer(2, 3, True, afn=softmax, dafn=None, rfn=None))"
   ]
  },
  {
   "cell_type": "code",
   "execution_count": 4,
   "metadata": {},
   "outputs": [],
   "source": [
    "pso = PSO(dict(m = 50,\n",
    "    weight_constraint = [-3, 3], \n",
    "    velocity_constraint = [-0.1, 0.1],\n",
    "    c1 = 2,\n",
    "    c2 = 2,\n",
    "    w = 1,\n",
    "    w_decay = 1,\n",
    "    scale_hyperparameter = False,\n",
    "    regularizer = l2_regularizer,\n",
    "    mask = True))"
   ]
  },
  {
   "cell_type": "code",
   "execution_count": 5,
   "metadata": {},
   "outputs": [
    {
     "name": "stdout",
     "output_type": "stream",
     "text": [
      "building layer 1 with 5\n",
      "24\n",
      "building layer 2 with 4\n",
      "15\n"
     ]
    }
   ],
   "source": [
    "model.compile(loss_fn = 'categorical_crossentropy', optimizer = pso, \\\n",
    "    metrics = ['accuracy', 'mean_square_error', 'categorical_crossentropy'])"
   ]
  },
  {
   "cell_type": "code",
   "execution_count": 6,
   "metadata": {},
   "outputs": [
    {
     "name": "stdout",
     "output_type": "stream",
     "text": [
      "<class 'pandas.core.frame.DataFrame'>\n",
      "RangeIndex: 107 entries, 0 to 106\n",
      "Data columns (total 6 columns):\n",
      " #   Column  Non-Null Count  Dtype  \n",
      "---  ------  --------------  -----  \n",
      " 0   f1      107 non-null    float32\n",
      " 1   f2      107 non-null    float32\n",
      " 2   f3      107 non-null    float32\n",
      " 3   f4      107 non-null    float32\n",
      " 4   f5      107 non-null    float32\n",
      " 5   label   107 non-null    float32\n",
      "dtypes: float32(6)\n",
      "memory usage: 2.6 KB\n",
      "None\n",
      "<class 'pandas.core.frame.DataFrame'>\n",
      "RangeIndex: 108 entries, 0 to 107\n",
      "Data columns (total 6 columns):\n",
      " #   Column  Non-Null Count  Dtype  \n",
      "---  ------  --------------  -----  \n",
      " 0   f1      108 non-null    float32\n",
      " 1   f2      108 non-null    float32\n",
      " 2   f3      108 non-null    float32\n",
      " 3   f4      108 non-null    float32\n",
      " 4   f5      108 non-null    float32\n",
      " 5   label   108 non-null    float32\n",
      "dtypes: float32(6)\n",
      "memory usage: 2.7 KB\n",
      "None\n"
     ]
    }
   ],
   "source": [
    "# data loading\n",
    "DATA = os.path.join('c:\\\\Users\\\\tcumi\\\\github_repo\\\\neural-network\\\\', 'dataset')\n",
    "GROUP = 4\n",
    "COLUMNS = ['f1', 'f2', 'f3', 'f4', 'f5', 'label']\n",
    "N_CLASS = 3\n",
    "EPOCHS = 500\n",
    "train_dir, test_dir = \"..//dataset//training_data{}.txt\".format(GROUP), \"..//dataset//testing_data{}.txt\".format(GROUP)\n",
    "train, test = get_data(DATA, train_dir, COLUMNS), get_data(DATA, test_dir, COLUMNS)\n",
    "# shuffle\n",
    "train, test = train.sample(frac=1), test.sample(frac=1)\n",
    "x_train, y_train = train.drop('label', axis=1), train['label']\n",
    "x_test, y_test = test.drop('label', axis=1), test['label']"
   ]
  },
  {
   "cell_type": "code",
   "execution_count": 7,
   "metadata": {},
   "outputs": [],
   "source": [
    "# data scaling and encoding\n",
    "scaler = StandardScaler(['f1', 'f2', 'f3', 'f4', 'f5'])\n",
    "scaler.fit(x_train)\n",
    "x_train = scaler.transform(x_train)\n",
    "x_test = scaler.transform(x_test)\n",
    "y_train = one_hot_encoding(y_train, N_CLASS)\n",
    "y_test = one_hot_encoding(y_test, N_CLASS)"
   ]
  },
  {
   "cell_type": "code",
   "execution_count": 8,
   "metadata": {
    "tags": [
     "outputPrepend"
    ]
   },
   "outputs": [
    {
     "name": "stdout",
     "output_type": "stream",
     "text": [
      "Checkpoint 100, Accuracy: 0.9691358024691358, Loss: 0.27082270163076894\n",
      "Checkpoint 200, Accuracy: 0.9691358024691358, Loss: 0.19373445157651548\n",
      "Checkpoint 300, Accuracy: 0.9753086419753086, Loss: 0.18868324491712782\n",
      "Checkpoint 400, Accuracy: 0.9691358024691358, Loss: 0.17653302793149594\n",
      "Checkpoint 500, Accuracy: 0.9691358024691358, Loss: 0.1752261409053096\n"
     ]
    }
   ],
   "source": [
    "# learning phase\n",
    "breakpoint = 100\n",
    "checkpoints = list()\n",
    "history = list()\n",
    "for century in range(0, EPOCHS, breakpoint):\n",
    "    sub_history = model.fit(x_train, y_train, breakpoint, verbose = 0)\n",
    "    score = model.evaluate(x_test, y_test, False, verbose = 0)\n",
    "    print('Checkpoint {}, Accuracy: {}, Loss: {}'.format(century+breakpoint, score['accuracy'], score[model.loss_fn]))\n",
    "    score['checkpoint'] = century + breakpoint\n",
    "    checkpoints.append(score)\n",
    "    history.extend(sub_history)"
   ]
  },
  {
   "cell_type": "code",
   "execution_count": 9,
   "metadata": {},
   "outputs": [],
   "source": [
    "import matplotlib.pyplot as plt\n",
    "\n",
    "def draw_plot(x, y_list, x_label=None, y_label=None, legend=None, title=None):\n",
    "    fig, ax = plt.subplots(figsize=(12,5))\n",
    "    for xi, yi in zip(x, y_list):\n",
    "        ax.plot(xi, yi)\n",
    "    if x_label is not None and y_label is not None:\n",
    "        ax.set(xlabel=x_label, ylabel=y_label, title='{} VS {}'.format(x_label, y_label))\n",
    "    if legend is not None:\n",
    "        ax.legend(legend)\n",
    "    ax.grid()\n",
    "    plt.show()"
   ]
  },
  {
   "cell_type": "code",
   "execution_count": 10,
   "metadata": {},
   "outputs": [
    {
     "name": "stdout",
     "output_type": "stream",
     "text": [
      "[0. 0. 1.] <-> [0.10290199 0.00369183 0.8934062 ]\n",
      "[0. 1. 0.] <-> [0.11359091 0.8842806  0.00212842]\n",
      "[1. 0. 0.] <-> [0.911322   0.06142922 0.02724884]\n",
      "[1. 0. 0.] <-> [0.9447105  0.01105311 0.04423634]\n",
      "[0. 1. 0.] <-> [0.08344332 0.9150686  0.00148807]\n",
      "[1. 0. 0.] <-> [0.7375738  0.01661736 0.24580887]\n",
      "[1. 0. 0.] <-> [0.62866086 0.03007986 0.3412593 ]\n",
      "[0. 0. 1.] <-> [0.18257965 0.01025434 0.807166  ]\n",
      "[1. 0. 0.] <-> [0.86097795 0.03309681 0.1059252 ]\n",
      "[1. 0. 0.] <-> [0.8748029  0.01316219 0.11203497]\n",
      "[1. 0. 0.] <-> [0.91705954 0.01888138 0.06405915]\n",
      "[1. 0. 0.] <-> [0.92942744 0.0238161  0.04675645]\n",
      "[0. 1. 0.] <-> [0.28016585 0.7145888  0.00524536]\n",
      "[1. 0. 0.] <-> [0.93257767 0.03107918 0.03634309]\n",
      "[0. 1. 0.] <-> [0.09676111 0.90143317 0.00180577]\n",
      "[1. 0. 0.] <-> [0.92589104 0.05439807 0.01971085]\n",
      "[0. 0. 1.] <-> [0.08624313 0.00295427 0.91080266]\n",
      "[1. 0. 0.] <-> [0.9193822  0.02393303 0.05668482]\n",
      "[1. 0. 0.] <-> [0.9030338  0.05193873 0.0450274 ]\n",
      "[0. 0. 1.] <-> [0.1648276  0.00613845 0.8290339 ]\n",
      "[1. 0. 0.] <-> [0.93929154 0.02138153 0.03932695]\n",
      "[1. 0. 0.] <-> [0.9297133  0.04468797 0.02559877]\n",
      "[1. 0. 0.] <-> [0.93433017 0.03711282 0.0285569 ]\n",
      "[1. 0. 0.] <-> [0.859443   0.01437137 0.12618563]\n",
      "[0. 1. 0.] <-> [0.5236052  0.46742064 0.00897414]\n",
      "[1. 0. 0.] <-> [0.8581855  0.12465457 0.0171599 ]\n",
      "[0. 1. 0.] <-> [0.08309659 0.9154313  0.00147217]\n",
      "[1. 0. 0.] <-> [0.91525495 0.03839495 0.04635015]\n",
      "[0. 1. 0.] <-> [0.40197715 0.59099907 0.00702374]\n",
      "[1. 0. 0.] <-> [0.91829836 0.06276309 0.01893845]\n",
      "[1. 0. 0.] <-> [0.8958107  0.08022649 0.02396279]\n",
      "[1. 0. 0.] <-> [0.8786439  0.10428376 0.01707237]\n",
      "[0. 0. 1.] <-> [0.09858479 0.00456938 0.8968458 ]\n",
      "[1. 0. 0.] <-> [0.9420197  0.03021936 0.02776101]\n",
      "[1. 0. 0.] <-> [0.28601316 0.02109487 0.692892  ]\n",
      "[0. 0. 1.] <-> [0.7473308  0.00880253 0.24386671]\n",
      "[1. 0. 0.] <-> [0.70342064 0.28399292 0.01258632]\n",
      "[1. 0. 0.] <-> [0.90545774 0.07954121 0.015001  ]\n",
      "[1. 0. 0.] <-> [0.9399876  0.0296956  0.03031672]\n",
      "[1. 0. 0.] <-> [0.65550935 0.02324953 0.32124114]\n",
      "[1. 0. 0.] <-> [0.9385606  0.02083586 0.04060353]\n",
      "[0. 0. 1.] <-> [0.11147491 0.00462729 0.8838978 ]\n",
      "[1. 0. 0.] <-> [0.90787137 0.06113402 0.03099463]\n",
      "[1. 0. 0.] <-> [0.8467508  0.02656532 0.12668389]\n",
      "[1. 0. 0.] <-> [0.94578993 0.0302325  0.02397757]\n",
      "[1. 0. 0.] <-> [0.9047836  0.01178841 0.08342803]\n",
      "[0. 0. 1.] <-> [0.09241974 0.00592058 0.90165967]\n",
      "[1. 0. 0.] <-> [0.90803266 0.03420861 0.05775875]\n",
      "[1. 0. 0.] <-> [0.9358013  0.01757471 0.04662401]\n",
      "[1. 0. 0.] <-> [0.8948563  0.08969429 0.0154494 ]\n",
      "[1. 0. 0.] <-> [0.798189   0.03187809 0.16993293]\n",
      "[0. 1. 0.] <-> [0.6878152 0.299046  0.0131388]\n",
      "[0. 0. 1.] <-> [0.08137355 0.00341056 0.9152159 ]\n",
      "[1. 0. 0.] <-> [0.92290556 0.05602906 0.02106533]\n",
      "[1. 0. 0.] <-> [0.896781   0.02089456 0.08232445]\n",
      "[0. 1. 0.] <-> [0.19399396 0.80228436 0.00372174]\n",
      "[1. 0. 0.] <-> [0.8926735  0.01996611 0.0873604 ]\n",
      "[1. 0. 0.] <-> [0.9140804  0.06743923 0.01848034]\n",
      "[1. 0. 0.] <-> [0.9234413  0.05881812 0.01774064]\n",
      "[1. 0. 0.] <-> [0.9290315  0.0159322  0.05503641]\n",
      "[1. 0. 0.] <-> [0.8623035  0.02323316 0.11446339]\n",
      "[0. 1. 0.] <-> [0.18940236 0.8069548  0.00364291]\n",
      "[0. 1. 0.] <-> [0.35425562 0.639206   0.00653834]\n",
      "[1. 0. 0.] <-> [0.94571376 0.03091744 0.02336874]\n",
      "[1. 0. 0.] <-> [0.8888155  0.09336839 0.01781609]\n",
      "[1. 0. 0.] <-> [0.83912015 0.01240037 0.14847948]\n",
      "[1. 0. 0.] <-> [0.9287347  0.03121444 0.04005081]\n",
      "[1. 0. 0.] <-> [0.90169334 0.08393278 0.01437396]\n",
      "[1. 0. 0.] <-> [0.90218693 0.01007889 0.0877342 ]\n",
      "[0. 0. 1.] <-> [0.0820924  0.00302114 0.9148865 ]\n",
      "[1. 0. 0.] <-> [0.73783576 0.24923812 0.01292619]\n",
      "[1. 0. 0.] <-> [0.9286558  0.04296636 0.02837791]\n",
      "[1. 0. 0.] <-> [0.93950194 0.03989062 0.02060745]\n",
      "[1. 0. 0.] <-> [0.92046946 0.01534482 0.06418566]\n",
      "[1. 0. 0.] <-> [0.916808   0.06164345 0.02154855]\n",
      "[1. 0. 0.] <-> [0.8749915  0.0116322  0.11337629]\n",
      "[0. 0. 1.] <-> [0.08469456 0.00332964 0.9119758 ]\n",
      "[1. 0. 0.] <-> [0.9288447  0.01541391 0.05574139]\n",
      "[1. 0. 0.] <-> [0.91757625 0.02291413 0.05950963]\n",
      "[1. 0. 0.] <-> [0.943482   0.02492458 0.03159347]\n",
      "[1. 0. 0.] <-> [0.86035794 0.12163198 0.01801006]\n",
      "[1. 0. 0.] <-> [0.93548965 0.04420948 0.02030077]\n",
      "[1. 0. 0.] <-> [0.87269056 0.0143683  0.11294114]\n",
      "[1. 0. 0.] <-> [0.918142   0.012169   0.06968897]\n",
      "[1. 0. 0.] <-> [0.92750186 0.04576446 0.02673364]\n",
      "[1. 0. 0.] <-> [0.8071921  0.03239692 0.16041096]\n",
      "[1. 0. 0.] <-> [0.92060417 0.01143658 0.06795924]\n",
      "[0. 0. 1.] <-> [0.36686411 0.01062275 0.6225132 ]\n",
      "[1. 0. 0.] <-> [0.9538768  0.01702317 0.02909997]\n",
      "[1. 0. 0.] <-> [0.9497198  0.02100028 0.02927983]\n",
      "[1. 0. 0.] <-> [0.91422546 0.03601083 0.04976372]\n",
      "[0. 0. 1.] <-> [0.07983699 0.00317784 0.9169852 ]\n",
      "[0. 1. 0.] <-> [0.10636844 0.8916847  0.00194687]\n",
      "[1. 0. 0.] <-> [0.94055027 0.02735571 0.032094  ]\n",
      "[1. 0. 0.] <-> [0.9222015  0.01027761 0.06752081]\n",
      "[1. 0. 0.] <-> [0.9468047  0.01445463 0.03874066]\n",
      "[1. 0. 0.] <-> [0.93789387 0.03489218 0.02721397]\n",
      "[1. 0. 0.] <-> [0.94532555 0.027627   0.02704744]\n",
      "[1. 0. 0.] <-> [0.93650734 0.04248835 0.0210043 ]\n",
      "[1. 0. 0.] <-> [0.92974514 0.02336303 0.04689182]\n",
      "[0. 1. 0.] <-> [0.5140996  0.4786321  0.00726825]\n",
      "[0. 1. 0.] <-> [0.26732796 0.72837126 0.00430076]\n",
      "[1. 0. 0.] <-> [0.86108893 0.12029996 0.01861111]\n",
      "[1. 0. 0.] <-> [0.8403183  0.03977171 0.11991001]\n",
      "[1. 0. 0.] <-> [0.8819109  0.10140032 0.01668878]\n",
      "[1. 0. 0.] <-> [0.88419384 0.06469614 0.05111   ]\n",
      "[1. 0. 0.] <-> [0.81011117 0.17454569 0.01534318]\n",
      "[0. 1. 0.] <-> [0.08293527 0.9155111  0.00155364]\n",
      "{'accuracy': 0.9691358024691358, 'mean_square_error': 0.074416646446611, 'categorical_crossentropy': 0.1752261409053096, 'essential_metrics': {0: {'tp_hit': 79, 'fp_hit': 4, 'tn_hit': 24, 'fn_hit': 1}, 1: {'tp_hit': 12, 'fp_hit': 0, 'tn_hit': 93, 'fn_hit': 3}, 2: {'tp_hit': 12, 'fp_hit': 1, 'tn_hit': 94, 'fn_hit': 1}}}\n"
     ]
    }
   ],
   "source": [
    "# recall phase\n",
    "score = model.evaluate(x_test, y_test, False)\n",
    "print(score)"
   ]
  },
  {
   "cell_type": "code",
   "execution_count": 11,
   "metadata": {},
   "outputs": [
    {
     "data": {
      "image/png": "[encoded data removed]",
      "text/plain": [
       "<Figure size 864x360 with 1 Axes>"
      ]
     },
     "metadata": {
      "needs_background": "light"
     },
     "output_type": "display_data"
    },
    {
     "data": {
      "image/png": "[encoded data removed]",
      "text/plain": [
       "<Figure size 864x360 with 1 Axes>"
      ]
     },
     "metadata": {
      "needs_background": "light"
     },
     "output_type": "display_data"
    }
   ],
   "source": [
    "draw_plot(x = [[i for i in range(len(history))], [(i+1)*breakpoint for i in range(len(checkpoints))]], y_list = [history, [ ckp[model.loss_fn] for ckp in checkpoints ]], x_label = 'Epochs', \\\n",
    "    y_label = model.loss_fn, legend=['train', 'test'])\n",
    "acc = [ ckp['accuracy'] for ckp in checkpoints ]\n",
    "draw_plot(x = [[(i+1)*breakpoint for i in range(len(checkpoints))]], y_list = [acc], x_label = 'Checkpoints', \\\n",
    "    y_label = 'accuracy')"
   ]
  },
  {
   "cell_type": "code",
   "execution_count": 12,
   "metadata": {},
   "outputs": [
    {
     "name": "stdout",
     "output_type": "stream",
     "text": [
      "{'accuracy': 0.9691358024691358, 'mean_square_error': 0.11873941086055184, 'categorical_crossentropy': 0.27082270163076894, 'essential_metrics': {0: {'tp_hit': 80, 'fp_hit': 5, 'tn_hit': 23, 'fn_hit': 0}, 1: {'tp_hit': 11, 'fp_hit': 0, 'tn_hit': 93, 'fn_hit': 4}, 2: {'tp_hit': 12, 'fp_hit': 0, 'tn_hit': 95, 'fn_hit': 1}}, 'checkpoint': 100} \n",
      "\n",
      "\n",
      "{'accuracy': 0.9691358024691358, 'mean_square_error': 0.09045742147115832, 'categorical_crossentropy': 0.19373445157651548, 'essential_metrics': {0: {'tp_hit': 79, 'fp_hit': 4, 'tn_hit': 24, 'fn_hit': 1}, 1: {'tp_hit': 12, 'fp_hit': 0, 'tn_hit': 93, 'fn_hit': 3}, 2: {'tp_hit': 12, 'fp_hit': 1, 'tn_hit': 94, 'fn_hit': 1}}, 'checkpoint': 200} \n",
      "\n",
      "\n",
      "{'accuracy': 0.9753086419753086, 'mean_square_error': 0.08276082470104061, 'categorical_crossentropy': 0.18868324491712782, 'essential_metrics': {0: {'tp_hit': 79, 'fp_hit': 3, 'tn_hit': 25, 'fn_hit': 1}, 1: {'tp_hit': 13, 'fp_hit': 0, 'tn_hit': 93, 'fn_hit': 2}, 2: {'tp_hit': 12, 'fp_hit': 1, 'tn_hit': 94, 'fn_hit': 1}}, 'checkpoint': 300} \n",
      "\n",
      "\n",
      "{'accuracy': 0.9691358024691358, 'mean_square_error': 0.07558323114643482, 'categorical_crossentropy': 0.17653302793149594, 'essential_metrics': {0: {'tp_hit': 79, 'fp_hit': 4, 'tn_hit': 24, 'fn_hit': 1}, 1: {'tp_hit': 12, 'fp_hit': 0, 'tn_hit': 93, 'fn_hit': 3}, 2: {'tp_hit': 12, 'fp_hit': 1, 'tn_hit': 94, 'fn_hit': 1}}, 'checkpoint': 400} \n",
      "\n",
      "\n",
      "{'accuracy': 0.9691358024691358, 'mean_square_error': 0.074416646446611, 'categorical_crossentropy': 0.1752261409053096, 'essential_metrics': {0: {'tp_hit': 79, 'fp_hit': 4, 'tn_hit': 24, 'fn_hit': 1}, 1: {'tp_hit': 12, 'fp_hit': 0, 'tn_hit': 93, 'fn_hit': 3}, 2: {'tp_hit': 12, 'fp_hit': 1, 'tn_hit': 94, 'fn_hit': 1}}, 'checkpoint': 500} \n",
      "\n",
      "\n"
     ]
    }
   ],
   "source": [
    "for checkpoint in checkpoints:\n",
    "    print(checkpoint, '\\n\\n')"
   ]
  },
  {
   "cell_type": "code",
   "execution_count": 13,
   "metadata": {},
   "outputs": [
    {
     "name": "stdout",
     "output_type": "stream",
     "text": [
      "Layer 1\n",
      "Neuron 0: weights:\n",
      "[-0.7947993   1.9243865   0.84760153 -0.02717768  0.01204021]\n",
      " bias: -1.0059725046157837\n",
      "\n",
      "Neuron 1: weights:\n",
      "[-0.19885767  1.8989917  -0.1461112  -0.42904112 -1.8405901 ]\n",
      " bias: 1.8052380084991455\n",
      "\n",
      "Neuron 2: weights:\n",
      "[ 0.4311895  -1.2547659  -0.7626828  -0.03948715  0.20149486]\n",
      " bias: -0.10677578300237656\n",
      "\n",
      "Neuron 3: weights:\n",
      "[-0.04434371 -0.0462337   0.03637696  0.01565887  0.01854605]\n",
      " bias: 0.046548448503017426\n",
      "\n",
      "$\n",
      "Layer 2\n",
      "Neuron 0: weights:\n",
      "[-1.986567    2.7605202   0.33990258  0.05584701]\n",
      " bias: 0.08487700670957565\n",
      "\n",
      "Neuron 1: weights:\n",
      "[ 3.          0.28559193 -3.          0.03735252]\n",
      " bias: -0.00549095356836915\n",
      "\n",
      "Neuron 2: weights:\n",
      "[-0.10946993 -3.          3.          0.11011167]\n",
      " bias: -0.10498581826686859\n",
      "\n",
      "$\n",
      "\n"
     ]
    }
   ],
   "source": [
    "print(model)"
   ]
  }
 ],
 "metadata": {
  "kernelspec": {
   "display_name": "Python 3",
   "language": "python",
   "name": "python3"
  },
  "language_info": {
   "codemirror_mode": {
    "name": "ipython",
    "version": 3
   },
   "file_extension": ".py",
   "mimetype": "text/x-python",
   "name": "python",
   "nbconvert_exporter": "python",
   "pygments_lexer": "ipython3",
   "version": "3.6.10"
  }
 },
 "nbformat": 4,
 "nbformat_minor": 2
}
