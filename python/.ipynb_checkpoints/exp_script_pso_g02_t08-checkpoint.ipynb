{
 "cells": [
  {
   "cell_type": "code",
   "execution_count": 1,
   "metadata": {},
   "outputs": [],
   "source": [
    "# dependency\n",
    "import numpy as np\n",
    "import pandas as pd\n",
    "import copy\n",
    "import math\n",
    "import sys\n",
    "import os\n",
    "from activations import relu, leaky_relu, sigmoid, tanh, softmax, d_sigmoid, d_relu\n",
    "from initializers import glorot_uniform, random_normal, random_uniform\n",
    "from regularizers import l1_regularizer, l2_regularizer\n",
    "from utility import trim_tail, multiply, subtract, get_nparams, one_hot_encoding, get_data\n",
    "from metrics import MSE, CCE, ACC, PRECISION, RECALL, essential_metrics, wondering_penalty, close_gap_penalty\n",
    "from pso import PSO\n",
    "from ga import GA\n",
    "from nn import Network\n",
    "from layer import DenseLayer\n",
    "from scalers import MinMaxScaler, StandardScaler"
   ]
  },
  {
   "cell_type": "code",
   "execution_count": 2,
   "metadata": {},
   "outputs": [],
   "source": [
    "# reference\n",
    "metrics_fn_dict = dict()\n",
    "metrics_fn_dict['accuracy'] = ACC\n",
    "metrics_fn_dict['categorical_crossentropy'] = CCE\n",
    "metrics_fn_dict['mean_square_error'] = MSE\n",
    "metrics_fn_dict['precision'] = PRECISION\n",
    "metrics_fn_dict['recall'] = RECALL\n",
    "metrics_fn_dict['essential_metrics'] = essential_metrics"
   ]
  },
  {
   "cell_type": "code",
   "execution_count": 3,
   "metadata": {},
   "outputs": [],
   "source": [
    "# model\n",
    "model = Network(5, lr = None)\n",
    "model.add_layer(DenseLayer(1, 4, True, afn=sigmoid, dafn=None, rfn=None))\n",
    "model.add_layer(DenseLayer(2, 3, True, afn=softmax, dafn=None, rfn=None))"
   ]
  },
  {
   "cell_type": "code",
   "execution_count": 4,
   "metadata": {},
   "outputs": [
    {
     "name": "stdout",
     "output_type": "stream",
     "text": [
      "see one see two 2 0.5\n"
     ]
    }
   ],
   "source": [
    "pso = PSO(dict(m = 50,\n",
    "    weight_constraint = [-3, 3], \n",
    "    velocity_constraint = [-0.1, 0.1],\n",
    "    c1 = [0.5, 2],\n",
    "    c2 = [0.5, 2],\n",
    "    w = [0.5, 1.6],\n",
    "    w_decay = 0.95,\n",
    "    scale_hyperparameter = False,\n",
    "    regularizer = l2_regularizer,\n",
    "    mask = True))"
   ]
  },
  {
   "cell_type": "code",
   "execution_count": 5,
   "metadata": {},
   "outputs": [
    {
     "name": "stdout",
     "output_type": "stream",
     "text": [
      "building layer 1 with 5\n",
      "24\n",
      "building layer 2 with 4\n",
      "15\n"
     ]
    }
   ],
   "source": [
    "model.compile(loss_fn = 'categorical_crossentropy', optimizer = pso, \\\n",
    "    metrics = ['accuracy', 'mean_square_error', 'categorical_crossentropy'])"
   ]
  },
  {
   "cell_type": "code",
   "execution_count": 6,
   "metadata": {},
   "outputs": [
    {
     "name": "stdout",
     "output_type": "stream",
     "text": [
      "<class 'pandas.core.frame.DataFrame'>\n",
      "RangeIndex: 107 entries, 0 to 106\n",
      "Data columns (total 6 columns):\n",
      " #   Column  Non-Null Count  Dtype  \n",
      "---  ------  --------------  -----  \n",
      " 0   f1      107 non-null    float32\n",
      " 1   f2      107 non-null    float32\n",
      " 2   f3      107 non-null    float32\n",
      " 3   f4      107 non-null    float32\n",
      " 4   f5      107 non-null    float32\n",
      " 5   label   107 non-null    float32\n",
      "dtypes: float32(6)\n",
      "memory usage: 2.6 KB\n",
      "None\n",
      "<class 'pandas.core.frame.DataFrame'>\n",
      "RangeIndex: 108 entries, 0 to 107\n",
      "Data columns (total 6 columns):\n",
      " #   Column  Non-Null Count  Dtype  \n",
      "---  ------  --------------  -----  \n",
      " 0   f1      108 non-null    float32\n",
      " 1   f2      108 non-null    float32\n",
      " 2   f3      108 non-null    float32\n",
      " 3   f4      108 non-null    float32\n",
      " 4   f5      108 non-null    float32\n",
      " 5   label   108 non-null    float32\n",
      "dtypes: float32(6)\n",
      "memory usage: 2.7 KB\n",
      "None\n"
     ]
    }
   ],
   "source": [
    "# data loading\n",
    "DATA = os.path.join('c:\\\\Users\\\\tcumi\\\\github_repo\\\\neural-network\\\\', 'dataset')\n",
    "GROUP = 2\n",
    "COLUMNS = ['f1', 'f2', 'f3', 'f4', 'f5', 'label']\n",
    "N_CLASS = 3\n",
    "EPOCHS = 500\n",
    "train_dir, test_dir = \"..//dataset//training_data{}.txt\".format(GROUP), \"..//dataset//testing_data{}.txt\".format(GROUP)\n",
    "train, test = get_data(DATA, train_dir, COLUMNS), get_data(DATA, test_dir, COLUMNS)\n",
    "# shuffle\n",
    "train, test = train.sample(frac=1), test.sample(frac=1)\n",
    "x_train, y_train = train.drop('label', axis=1), train['label']\n",
    "x_test, y_test = test.drop('label', axis=1), test['label']"
   ]
  },
  {
   "cell_type": "code",
   "execution_count": 7,
   "metadata": {},
   "outputs": [],
   "source": [
    "# data scaling and encoding\n",
    "scaler = StandardScaler(['f1', 'f2', 'f3', 'f4', 'f5'])\n",
    "scaler.fit(x_train)\n",
    "x_train = scaler.transform(x_train)\n",
    "x_test = scaler.transform(x_test)\n",
    "y_train = one_hot_encoding(y_train, N_CLASS)\n",
    "y_test = one_hot_encoding(y_test, N_CLASS)"
   ]
  },
  {
   "cell_type": "code",
   "execution_count": 8,
   "metadata": {
    "tags": [
     "outputPrepend"
    ]
   },
   "outputs": [
    {
     "name": "stdout",
     "output_type": "stream",
     "text": [
      "Checkpoint 100, Accuracy: 0.9135802469135802, Loss: 0.4078837147465459\n",
      "Checkpoint 200, Accuracy: 0.9320987654320988, Loss: 0.374372023123282\n",
      "Checkpoint 300, Accuracy: 0.9382716049382716, Loss: 0.34386200375027126\n",
      "Checkpoint 400, Accuracy: 0.9382716049382716, Loss: 0.36257892184787327\n",
      "Checkpoint 500, Accuracy: 0.9444444444444444, Loss: 0.361100055553295\n"
     ]
    }
   ],
   "source": [
    "# learning phase\n",
    "breakpoint = 100\n",
    "checkpoints = list()\n",
    "history = list()\n",
    "for century in range(0, EPOCHS, breakpoint):\n",
    "    sub_history = model.fit(x_train, y_train, breakpoint, verbose = 0)\n",
    "    score = model.evaluate(x_test, y_test, False, verbose = 0)\n",
    "    print('Checkpoint {}, Accuracy: {}, Loss: {}'.format(century+breakpoint, score['accuracy'], score[model.loss_fn]))\n",
    "    score['checkpoint'] = century + breakpoint\n",
    "    checkpoints.append(score)\n",
    "    history.extend(sub_history)\n",
    "    itr = century + breakpoint\n",
    "    model.optimizer.c1 = np.max([model.optimizer.C1[1] - ((model.optimizer.C1[1] - model.optimizer.C1[0]) * itr / EPOCHS), model.optimizer.C1[0]])\n",
    "    model.optimizer.c2 = np.min([model.optimizer.C2[0] + ((model.optimizer.C2[1] - model.optimizer.C2[0]) * itr / EPOCHS), model.optimizer.C2[1]])\n",
    "    model.optimizer.w = np.max([model.optimizer.w * model.optimizer.W_Decay, model.optimizer.W[0]])"
   ]
  },
  {
   "cell_type": "code",
   "execution_count": 9,
   "metadata": {},
   "outputs": [],
   "source": [
    "import matplotlib.pyplot as plt\n",
    "\n",
    "def draw_plot(x, y_list, x_label=None, y_label=None, legend=None, title=None):\n",
    "    fig, ax = plt.subplots(figsize=(12,5))\n",
    "    for xi, yi in zip(x, y_list):\n",
    "        ax.plot(xi, yi)\n",
    "    if x_label is not None and y_label is not None:\n",
    "        ax.set(xlabel=x_label, ylabel=y_label, title='{} VS {}'.format(x_label, y_label))\n",
    "    if legend is not None:\n",
    "        ax.legend(legend)\n",
    "    ax.grid()\n",
    "    plt.show()"
   ]
  },
  {
   "cell_type": "code",
   "execution_count": 10,
   "metadata": {},
   "outputs": [
    {
     "name": "stdout",
     "output_type": "stream",
     "text": [
      "[1. 0. 0.] <-> [0.7094194  0.08514797 0.20543255]\n",
      "[0. 1. 0.] <-> [0.18459572 0.8047707  0.01063358]\n",
      "[1. 0. 0.] <-> [0.75763035 0.10165229 0.14071736]\n",
      "[0. 1. 0.] <-> [0.5507855  0.4112024  0.03801212]\n",
      "[0. 1. 0.] <-> [0.4418393  0.5288352  0.02932552]\n",
      "[1. 0. 0.] <-> [0.7527632  0.07002749 0.17720936]\n",
      "[1. 0. 0.] <-> [0.74971026 0.04631006 0.20397967]\n",
      "[1. 0. 0.] <-> [0.8133304  0.04770346 0.13896608]\n",
      "[1. 0. 0.] <-> [0.813331   0.08435362 0.10231537]\n",
      "[1. 0. 0.] <-> [0.7863819  0.10874266 0.10487535]\n",
      "[0. 1. 0.] <-> [0.30107912 0.6825312  0.01638971]\n",
      "[1. 0. 0.] <-> [0.79406685 0.04977531 0.15615776]\n",
      "[0. 1. 0.] <-> [0.62012136 0.34073913 0.03913956]\n",
      "[1. 0. 0.] <-> [0.8073581  0.050745   0.14189698]\n",
      "[1. 0. 0.] <-> [0.7504025  0.09414732 0.15545015]\n",
      "[1. 0. 0.] <-> [0.7857673  0.12720887 0.08702391]\n",
      "[1. 0. 0.] <-> [0.7713571  0.07923222 0.14941064]\n",
      "[1. 0. 0.] <-> [0.7829588  0.04535402 0.17168722]\n",
      "[0. 0. 1.] <-> [0.20139948 0.0336001  0.7650004 ]\n",
      "[1. 0. 0.] <-> [0.7649861  0.06944757 0.16556637]\n",
      "[1. 0. 0.] <-> [0.7778745  0.07683696 0.1452885 ]\n",
      "[1. 0. 0.] <-> [0.7395636  0.18122236 0.07921404]\n",
      "[1. 0. 0.] <-> [0.70170575 0.2272192  0.07107498]\n",
      "[0. 0. 1.] <-> [0.50872064 0.04083184 0.45044753]\n",
      "[1. 0. 0.] <-> [0.80533385 0.10218913 0.09247701]\n",
      "[1. 0. 0.] <-> [0.7643866  0.1412194  0.09439403]\n",
      "[0. 1. 0.] <-> [0.44243145 0.52826107 0.02930749]\n",
      "[1. 0. 0.] <-> [0.75488776 0.05345747 0.19165477]\n",
      "[1. 0. 0.] <-> [0.8044548  0.06222273 0.13332237]\n",
      "[1. 0. 0.] <-> [0.7711796  0.12428121 0.10453923]\n",
      "[1. 0. 0.] <-> [0.7385307  0.18412344 0.07734586]\n",
      "[1. 0. 0.] <-> [0.7808608  0.12725772 0.09188155]\n",
      "[1. 0. 0.] <-> [0.80597335 0.08994631 0.10408036]\n",
      "[1. 0. 0.] <-> [0.6947277  0.07520815 0.23006414]\n",
      "[1. 0. 0.] <-> [0.7705746  0.12248604 0.10693932]\n",
      "[1. 0. 0.] <-> [0.81813484 0.0777692  0.10409606]\n",
      "[0. 0. 1.] <-> [0.25966534 0.02727391 0.71306074]\n",
      "[1. 0. 0.] <-> [0.75450814 0.05173269 0.19375917]\n",
      "[1. 0. 0.] <-> [0.79046416 0.06136155 0.14817438]\n",
      "[0. 1. 0.] <-> [0.18915258 0.7996973  0.01115011]\n",
      "[1. 0. 0.] <-> [0.71570647 0.12878318 0.1555103 ]\n",
      "[1. 0. 0.] <-> [0.75275564 0.17618012 0.07106425]\n",
      "[0. 0. 1.] <-> [0.32857716 0.03561884 0.63580394]\n",
      "[0. 1. 0.] <-> [0.55980325 0.40341452 0.03678222]\n",
      "[1. 0. 0.] <-> [0.7807423  0.12615855 0.09309922]\n",
      "[1. 0. 0.] <-> [0.78220063 0.06412243 0.15367693]\n",
      "[1. 0. 0.] <-> [0.81100565 0.05699892 0.13199544]\n",
      "[0. 1. 0.] <-> [0.696701   0.25170073 0.05159833]\n",
      "[0. 1. 0.] <-> [0.20172305 0.7856595  0.01261749]\n",
      "[1. 0. 0.] <-> [0.7885313  0.04923667 0.16223203]\n",
      "[1. 0. 0.] <-> [0.7944875  0.07912016 0.12639236]\n",
      "[0. 1. 0.] <-> [0.56893086 0.39610493 0.03496419]\n",
      "[1. 0. 0.] <-> [0.78844184 0.10927711 0.10228106]\n",
      "[1. 0. 0.] <-> [0.7476335  0.16199672 0.09036973]\n",
      "[1. 0. 0.] <-> [0.79135585 0.09360575 0.11503842]\n",
      "[0. 1. 0.] <-> [0.514064   0.4519408  0.03399521]\n",
      "[1. 0. 0.] <-> [0.75529397 0.17742035 0.06728567]\n",
      "[1. 0. 0.] <-> [0.8034348  0.08823743 0.10832778]\n",
      "[1. 0. 0.] <-> [0.73952436 0.07008973 0.19038591]\n",
      "[1. 0. 0.] <-> [0.731332   0.13760805 0.13105989]\n",
      "[0. 0. 1.] <-> [0.34951204 0.03074861 0.61973935]\n",
      "[1. 0. 0.] <-> [0.8045792  0.0779766  0.11744425]\n",
      "[1. 0. 0.] <-> [0.824079   0.06462163 0.11129939]\n",
      "[1. 0. 0.] <-> [0.7476924  0.18161152 0.07069597]\n",
      "[1. 0. 0.] <-> [0.7875734  0.13338196 0.07904468]\n",
      "[1. 0. 0.] <-> [0.7434519  0.11940069 0.13714738]\n",
      "[1. 0. 0.] <-> [0.73875624 0.15512808 0.10611565]\n",
      "[1. 0. 0.] <-> [0.67805046 0.05937608 0.26257348]\n",
      "[1. 0. 0.] <-> [0.77365696 0.14585187 0.08049107]\n",
      "[0. 0. 1.] <-> [0.23721445 0.0296184  0.7331671 ]\n",
      "[1. 0. 0.] <-> [0.75202566 0.15189652 0.09607778]\n",
      "[1. 0. 0.] <-> [0.7257815  0.18548763 0.08873093]\n",
      "[1. 0. 0.] <-> [0.68490475 0.26286992 0.05222532]\n",
      "[1. 0. 0.] <-> [0.75976723 0.09874874 0.14148407]\n",
      "[1. 0. 0.] <-> [0.74044275 0.08579366 0.17376353]\n",
      "[0. 0. 1.] <-> [0.76753324 0.0318127  0.20065401]\n",
      "[1. 0. 0.] <-> [0.7733519  0.11201126 0.11463681]\n",
      "[0. 0. 1.] <-> [0.3462984 0.0256351 0.6280665]\n",
      "[1. 0. 0.] <-> [0.75707227 0.17540276 0.06752497]\n",
      "[1. 0. 0.] <-> [0.7667281  0.11949771 0.11377416]\n",
      "[1. 0. 0.] <-> [0.74469125 0.18609402 0.06921475]\n",
      "[1. 0. 0.] <-> [0.7957141  0.05329287 0.15099308]\n",
      "[1. 0. 0.] <-> [0.69906324 0.07736176 0.22357503]\n",
      "[0. 0. 1.] <-> [0.19969927 0.03319002 0.7671107 ]\n",
      "[0. 0. 1.] <-> [0.68387645 0.03584911 0.28027436]\n",
      "[1. 0. 0.] <-> [0.80035216 0.07032385 0.12932393]\n",
      "[1. 0. 0.] <-> [0.8036946  0.09666171 0.09964371]\n",
      "[1. 0. 0.] <-> [0.762271   0.0866669  0.15106207]\n",
      "[0. 0. 1.] <-> [0.21393551 0.03780038 0.74826413]\n",
      "[1. 0. 0.] <-> [0.7427496  0.18698679 0.07026365]\n",
      "[1. 0. 0.] <-> [0.7852931  0.10079061 0.11391623]\n",
      "[1. 0. 0.] <-> [0.7644802  0.09736148 0.13815841]\n",
      "[0. 1. 0.] <-> [0.45164022 0.52254426 0.02581557]\n",
      "[1. 0. 0.] <-> [0.784766   0.08033733 0.13489665]\n",
      "[1. 0. 0.] <-> [0.67931795 0.06544122 0.25524086]\n",
      "[1. 0. 0.] <-> [0.5124882  0.05839373 0.42911807]\n",
      "[1. 0. 0.] <-> [0.6932981  0.05183164 0.2548702 ]\n",
      "[0. 1. 0.] <-> [0.27677882 0.7070042  0.01621705]\n",
      "[0. 0. 1.] <-> [0.33019862 0.03072523 0.6390761 ]\n",
      "[1. 0. 0.] <-> [0.7869097  0.14153476 0.0715555 ]\n",
      "[0. 1. 0.] <-> [0.31634074 0.66432583 0.01933342]\n",
      "[1. 0. 0.] <-> [0.78348285 0.1249434  0.09157383]\n",
      "[1. 0. 0.] <-> [0.6889684  0.25907296 0.05195866]\n",
      "[0. 0. 1.] <-> [0.2606562  0.02878929 0.71055454]\n",
      "[1. 0. 0.] <-> [0.79623616 0.04496965 0.15879422]\n",
      "[1. 0. 0.] <-> [0.78255785 0.0689835  0.14845859]\n",
      "[1. 0. 0.] <-> [0.7701842  0.06832512 0.16149063]\n",
      "[1. 0. 0.] <-> [0.7932729  0.10051209 0.10621506]\n",
      "{'accuracy': 0.9444444444444444, 'mean_square_error': 0.171477218686502, 'categorical_crossentropy': 0.361100055553295, 'essential_metrics': {0: {'tp_hit': 80, 'fp_hit': 9, 'tn_hit': 19, 'fn_hit': 0}, 1: {'tp_hit': 9, 'fp_hit': 0, 'tn_hit': 93, 'fn_hit': 6}, 2: {'tp_hit': 10, 'fp_hit': 0, 'tn_hit': 95, 'fn_hit': 3}}}\n"
     ]
    }
   ],
   "source": [
    "# recall phase\n",
    "score = model.evaluate(x_test, y_test, False)\n",
    "print(score)"
   ]
  },
  {
   "cell_type": "code",
   "execution_count": 11,
   "metadata": {},
   "outputs": [
    {
     "data": {
      "image/png": "[encoded data removed]",
      "text/plain": [
       "<Figure size 864x360 with 1 Axes>"
      ]
     },
     "metadata": {
      "needs_background": "light"
     },
     "output_type": "display_data"
    },
    {
     "data": {
      "image/png": "[encoded data removed]",
      "text/plain": [
       "<Figure size 864x360 with 1 Axes>"
      ]
     },
     "metadata": {
      "needs_background": "light"
     },
     "output_type": "display_data"
    }
   ],
   "source": [
    "draw_plot(x = [[i for i in range(len(history))], [(i+1)*breakpoint for i in range(len(checkpoints))]], y_list = [history, [ ckp[model.loss_fn] for ckp in checkpoints ]], x_label = 'Epochs', \\\n",
    "    y_label = model.loss_fn, legend=['train', 'test'])\n",
    "acc = [ ckp['accuracy'] for ckp in checkpoints ]\n",
    "draw_plot(x = [[(i+1)*breakpoint for i in range(len(checkpoints))]], y_list = [acc], x_label = 'Checkpoints', \\\n",
    "    y_label = 'accuracy')"
   ]
  },
  {
   "cell_type": "code",
   "execution_count": 12,
   "metadata": {},
   "outputs": [
    {
     "name": "stdout",
     "output_type": "stream",
     "text": [
      "{'accuracy': 0.9135802469135802, 'mean_square_error': 0.21008648073678382, 'categorical_crossentropy': 0.4078837147465459, 'essential_metrics': {0: {'tp_hit': 80, 'fp_hit': 14, 'tn_hit': 14, 'fn_hit': 0}, 1: {'tp_hit': 11, 'fp_hit': 0, 'tn_hit': 93, 'fn_hit': 4}, 2: {'tp_hit': 3, 'fp_hit': 0, 'tn_hit': 95, 'fn_hit': 10}}, 'checkpoint': 100} \n",
      "\n",
      "\n",
      "{'accuracy': 0.9320987654320988, 'mean_square_error': 0.18257503133338962, 'categorical_crossentropy': 0.374372023123282, 'essential_metrics': {0: {'tp_hit': 80, 'fp_hit': 11, 'tn_hit': 17, 'fn_hit': 0}, 1: {'tp_hit': 7, 'fp_hit': 0, 'tn_hit': 93, 'fn_hit': 8}, 2: {'tp_hit': 10, 'fp_hit': 0, 'tn_hit': 95, 'fn_hit': 3}}, 'checkpoint': 200} \n",
      "\n",
      "\n",
      "{'accuracy': 0.9382716049382716, 'mean_square_error': 0.1672945146095057, 'categorical_crossentropy': 0.34386200375027126, 'essential_metrics': {0: {'tp_hit': 80, 'fp_hit': 10, 'tn_hit': 18, 'fn_hit': 0}, 1: {'tp_hit': 8, 'fp_hit': 0, 'tn_hit': 93, 'fn_hit': 7}, 2: {'tp_hit': 10, 'fp_hit': 0, 'tn_hit': 95, 'fn_hit': 3}}, 'checkpoint': 300} \n",
      "\n",
      "\n",
      "{'accuracy': 0.9382716049382716, 'mean_square_error': 0.17844703526042055, 'categorical_crossentropy': 0.36257892184787327, 'essential_metrics': {0: {'tp_hit': 80, 'fp_hit': 10, 'tn_hit': 18, 'fn_hit': 0}, 1: {'tp_hit': 8, 'fp_hit': 0, 'tn_hit': 93, 'fn_hit': 7}, 2: {'tp_hit': 10, 'fp_hit': 0, 'tn_hit': 95, 'fn_hit': 3}}, 'checkpoint': 400} \n",
      "\n",
      "\n",
      "{'accuracy': 0.9444444444444444, 'mean_square_error': 0.171477218686502, 'categorical_crossentropy': 0.361100055553295, 'essential_metrics': {0: {'tp_hit': 80, 'fp_hit': 9, 'tn_hit': 19, 'fn_hit': 0}, 1: {'tp_hit': 9, 'fp_hit': 0, 'tn_hit': 93, 'fn_hit': 6}, 2: {'tp_hit': 10, 'fp_hit': 0, 'tn_hit': 95, 'fn_hit': 3}}, 'checkpoint': 500} \n",
      "\n",
      "\n"
     ]
    }
   ],
   "source": [
    "for checkpoint in checkpoints:\n",
    "    print(checkpoint, '\\n\\n')"
   ]
  },
  {
   "cell_type": "code",
   "execution_count": 13,
   "metadata": {},
   "outputs": [
    {
     "name": "stdout",
     "output_type": "stream",
     "text": [
      "Layer 1\n",
      "Neuron 0: weights:\n",
      "[-0.3296004   1.2526656   0.4349558  -0.01285603 -0.49685222]\n",
      " bias: -0.5908212065696716\n",
      "\n",
      "Neuron 1: weights:\n",
      "[ 0.18042183 -0.65954727 -0.50689745 -0.6804798  -0.67610866]\n",
      " bias: 0.26881471276283264\n",
      "\n",
      "Neuron 2: weights:\n",
      "[ 0.40287223 -0.9760673  -0.58561796  0.06320981  0.2902479 ]\n",
      " bias: 0.253594309091568\n",
      "\n",
      "Neuron 3: weights:\n",
      "[-0.11172003  0.7122972   0.04484857 -0.71768326 -1.0418149 ]\n",
      " bias: 0.648022472858429\n",
      "\n",
      "$\n",
      "Layer 2\n",
      "Neuron 0: weights:\n",
      "[-0.47987986  1.0008018   0.3961198   1.2874913 ]\n",
      " bias: -0.24851243197917938\n",
      "\n",
      "Neuron 1: weights:\n",
      "[ 1.5086911  -0.78949714 -1.4878109   0.89251596]\n",
      " bias: -0.17820052802562714\n",
      "\n",
      "Neuron 2: weights:\n",
      "[-0.8380292  -0.03310727  1.3353862  -1.6766117 ]\n",
      " bias: 0.18530422449111938\n",
      "\n",
      "$\n",
      "\n"
     ]
    }
   ],
   "source": [
    "print(model)"
   ]
  }
 ],
 "metadata": {
  "kernelspec": {
   "display_name": "Python 3",
   "language": "python",
   "name": "python3"
  },
  "language_info": {
   "codemirror_mode": {
    "name": "ipython",
    "version": 3
   },
   "file_extension": ".py",
   "mimetype": "text/x-python",
   "name": "python",
   "nbconvert_exporter": "python",
   "pygments_lexer": "ipython3",
   "version": "3.6.10"
  }
 },
 "nbformat": 4,
 "nbformat_minor": 2
}
