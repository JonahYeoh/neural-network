{
 "cells": [
  {
   "cell_type": "code",
   "execution_count": 1,
   "metadata": {},
   "outputs": [],
   "source": [
    "# dependency\n",
    "import numpy as np\n",
    "import pandas as pd\n",
    "import copy\n",
    "import math\n",
    "import sys\n",
    "import os\n",
    "from activations import relu, leaky_relu, sigmoid, tanh, softmax, d_sigmoid, d_relu\n",
    "from initializers import glorot_uniform, random_normal, random_uniform\n",
    "from regularizers import l1_regularizer, l2_regularizer\n",
    "from utility import trim_tail, multiply, subtract, get_nparams, one_hot_encoding, get_data\n",
    "from metrics import MSE, CCE, ACC, PRECISION, RECALL, essential_metrics, wondering_penalty, close_gap_penalty\n",
    "from pso import PSO\n",
    "from ga import GA\n",
    "from nn import Network\n",
    "from layer import DenseLayer\n",
    "from scalers import MinMaxScaler, StandardScaler"
   ]
  },
  {
   "cell_type": "code",
   "execution_count": 2,
   "metadata": {},
   "outputs": [],
   "source": [
    "# reference\n",
    "metrics_fn_dict = dict()\n",
    "metrics_fn_dict['accuracy'] = ACC\n",
    "metrics_fn_dict['categorical_crossentropy'] = CCE\n",
    "metrics_fn_dict['mean_square_error'] = MSE\n",
    "metrics_fn_dict['precision'] = PRECISION\n",
    "metrics_fn_dict['recall'] = RECALL\n",
    "metrics_fn_dict['essential_metrics'] = essential_metrics"
   ]
  },
  {
   "cell_type": "code",
   "execution_count": 3,
   "metadata": {},
   "outputs": [],
   "source": [
    "# model\n",
    "model = Network(5, lr = None)\n",
    "model.add_layer(DenseLayer(1, 4, True, afn=sigmoid, dafn=None, rfn=None))\n",
    "model.add_layer(DenseLayer(2, 3, True, afn=softmax, dafn=None, rfn=None))"
   ]
  },
  {
   "cell_type": "code",
   "execution_count": 4,
   "metadata": {},
   "outputs": [
    {
     "name": "stdout",
     "output_type": "stream",
     "text": [
      "see one see two 2 2\n"
     ]
    }
   ],
   "source": [
    "pso = PSO(dict(m = 50,\n",
    "    weight_constraint = [-3, 3], \n",
    "    velocity_constraint = [-0.1, 0.1],\n",
    "    c1 = 2,\n",
    "    c2 = 2,\n",
    "    w = 1.2,\n",
    "    w_decay = 1,\n",
    "    scale_hyperparameter = False,\n",
    "    regularizer = l1_regularizer,\n",
    "    mask = True))"
   ]
  },
  {
   "cell_type": "code",
   "execution_count": 5,
   "metadata": {},
   "outputs": [
    {
     "name": "stdout",
     "output_type": "stream",
     "text": [
      "building layer 1 with 5\n",
      "24\n",
      "building layer 2 with 4\n",
      "15\n"
     ]
    }
   ],
   "source": [
    "model.compile(loss_fn = 'categorical_crossentropy', optimizer = pso, \\\n",
    "    metrics = ['accuracy', 'mean_square_error', 'categorical_crossentropy'])"
   ]
  },
  {
   "cell_type": "code",
   "execution_count": 6,
   "metadata": {},
   "outputs": [
    {
     "name": "stdout",
     "output_type": "stream",
     "text": [
      "<class 'pandas.core.frame.DataFrame'>\n",
      "RangeIndex: 107 entries, 0 to 106\n",
      "Data columns (total 6 columns):\n",
      " #   Column  Non-Null Count  Dtype  \n",
      "---  ------  --------------  -----  \n",
      " 0   f1      107 non-null    float32\n",
      " 1   f2      107 non-null    float32\n",
      " 2   f3      107 non-null    float32\n",
      " 3   f4      107 non-null    float32\n",
      " 4   f5      107 non-null    float32\n",
      " 5   label   107 non-null    float32\n",
      "dtypes: float32(6)\n",
      "memory usage: 2.6 KB\n",
      "None\n",
      "<class 'pandas.core.frame.DataFrame'>\n",
      "RangeIndex: 108 entries, 0 to 107\n",
      "Data columns (total 6 columns):\n",
      " #   Column  Non-Null Count  Dtype  \n",
      "---  ------  --------------  -----  \n",
      " 0   f1      108 non-null    float32\n",
      " 1   f2      108 non-null    float32\n",
      " 2   f3      108 non-null    float32\n",
      " 3   f4      108 non-null    float32\n",
      " 4   f5      108 non-null    float32\n",
      " 5   label   108 non-null    float32\n",
      "dtypes: float32(6)\n",
      "memory usage: 2.7 KB\n",
      "None\n"
     ]
    }
   ],
   "source": [
    "# data loading\n",
    "DATA = os.path.join('c:\\\\Users\\\\AI-lab\\\\github_repo\\\\neural-network\\\\', 'dataset')\n",
    "GROUP = 2\n",
    "COLUMNS = ['f1', 'f2', 'f3', 'f4', 'f5', 'label']\n",
    "N_CLASS = 3\n",
    "EPOCHS = 200\n",
    "train_dir, test_dir = \"..//dataset//training_data{}.txt\".format(GROUP), \"..//dataset//testing_data{}.txt\".format(GROUP)\n",
    "train, test = get_data(DATA, train_dir, COLUMNS), get_data(DATA, test_dir, COLUMNS)\n",
    "# shuffle\n",
    "train, test = train.sample(frac=1), test.sample(frac=1)\n",
    "x_train, y_train = train.drop('label', axis=1), train['label']\n",
    "x_test, y_test = test.drop('label', axis=1), test['label']"
   ]
  },
  {
   "cell_type": "code",
   "execution_count": 7,
   "metadata": {},
   "outputs": [],
   "source": [
    "# data scaling and encoding\n",
    "scaler = StandardScaler(['f1', 'f2', 'f3', 'f4', 'f5'])\n",
    "scaler.fit(x_train)\n",
    "x_train = scaler.transform(x_train)\n",
    "x_test = scaler.transform(x_test)\n",
    "y_train = one_hot_encoding(y_train, N_CLASS)\n",
    "y_test = one_hot_encoding(y_test, N_CLASS)"
   ]
  },
  {
   "cell_type": "code",
   "execution_count": 8,
   "metadata": {
    "tags": [
     "outputPrepend"
    ]
   },
   "outputs": [
    {
     "name": "stdout",
     "output_type": "stream",
     "text": [
      "Checkpoint 10, Accuracy: 0.8395061728395061, Loss: 0.545614101268627\n",
      "Checkpoint 20, Accuracy: 0.9074074074074074, Loss: 0.4530906677246094\n",
      "Checkpoint 30, Accuracy: 0.9197530864197531, Loss: 0.4232636204472295\n",
      "Checkpoint 40, Accuracy: 0.8765432098765432, Loss: 0.558725427698206\n",
      "Checkpoint 50, Accuracy: 0.9320987654320988, Loss: 0.49128666630497686\n",
      "Checkpoint 60, Accuracy: 0.9197530864197531, Loss: 0.43128055996365017\n",
      "Checkpoint 70, Accuracy: 0.9382716049382716, Loss: 0.3791954958880389\n",
      "Checkpoint 80, Accuracy: 0.9567901234567902, Loss: 0.30422048215512876\n",
      "Checkpoint 90, Accuracy: 0.9444444444444444, Loss: 0.3304180922331633\n",
      "Checkpoint 100, Accuracy: 0.9567901234567902, Loss: 0.26340696546766496\n",
      "Checkpoint 110, Accuracy: 0.9691358024691358, Loss: 0.22370228944001375\n",
      "Checkpoint 120, Accuracy: 0.9629629629629629, Loss: 0.2387463958175094\n",
      "Checkpoint 130, Accuracy: 0.9691358024691358, Loss: 0.21532482571072048\n",
      "Checkpoint 140, Accuracy: 0.9629629629629629, Loss: 0.2195050628096969\n",
      "Checkpoint 150, Accuracy: 0.9629629629629629, Loss: 0.21828121609157985\n",
      "Checkpoint 160, Accuracy: 0.9691358024691358, Loss: 0.2334423065185547\n",
      "Checkpoint 170, Accuracy: 0.9567901234567902, Loss: 0.22341208987765843\n",
      "Checkpoint 180, Accuracy: 0.9691358024691358, Loss: 0.22796482510036892\n",
      "Checkpoint 190, Accuracy: 0.9691358024691358, Loss: 0.20980375784414787\n",
      "Checkpoint 200, Accuracy: 0.9629629629629629, Loss: 0.21934710608588326\n"
     ]
    }
   ],
   "source": [
    "# learning phase\n",
    "breakpoint = 10\n",
    "checkpoints = list()\n",
    "history = list()\n",
    "for century in range(0, EPOCHS, breakpoint):\n",
    "    sub_history = model.fit(x_train, y_train, breakpoint, verbose = 0)\n",
    "    score = model.evaluate(x_test, y_test, False, verbose = 0)\n",
    "    print('Checkpoint {}, Accuracy: {}, Loss: {}'.format(century+breakpoint, score['accuracy'], score[model.loss_fn]))\n",
    "    score['checkpoint'] = century + breakpoint\n",
    "    checkpoints.append(score)\n",
    "    history.extend(sub_history)"
   ]
  },
  {
   "cell_type": "code",
   "execution_count": 9,
   "metadata": {},
   "outputs": [],
   "source": [
    "import matplotlib.pyplot as plt\n",
    "\n",
    "def draw_plot(x, y_list, x_label=None, y_label=None, legend=None, title=None):\n",
    "    fig, ax = plt.subplots(figsize=(12,5))\n",
    "    for xi, yi in zip(x, y_list):\n",
    "        ax.plot(xi, yi)\n",
    "    if x_label is not None and y_label is not None:\n",
    "        ax.set(xlabel=x_label, ylabel=y_label, title='{} VS {}'.format(x_label, y_label))\n",
    "    if legend is not None:\n",
    "        ax.legend(legend)\n",
    "    ax.grid()\n",
    "    plt.show()"
   ]
  },
  {
   "cell_type": "code",
   "execution_count": 10,
   "metadata": {},
   "outputs": [],
   "source": [
    "train_acc = [h['accuracy'] for h in history]\n",
    "train_mse = [h['mean_square_error'] for h in history]\n",
    "train_cce = [h['categorical_crossentropy'] for h in history]"
   ]
  },
  {
   "cell_type": "code",
   "execution_count": 11,
   "metadata": {},
   "outputs": [
    {
     "name": "stdout",
     "output_type": "stream",
     "text": [
      "[1. 0. 0.] <-> [0.84536064 0.04235598 0.1122834 ]\n",
      "[0. 1. 0.] <-> [0.14072336 0.85774314 0.00153343]\n",
      "[0. 1. 0.] <-> [1.0274488e-01 8.9637470e-01 8.8041229e-04]\n",
      "[1. 0. 0.] <-> [0.86469424 0.11563005 0.01967573]\n",
      "[0. 1. 0.] <-> [1.01689346e-01 8.97495270e-01 8.15390900e-04]\n",
      "[0. 0. 1.] <-> [8.5937843e-02 4.5470003e-04 9.1360742e-01]\n",
      "[1. 0. 0.] <-> [0.79204845 0.17526376 0.03268776]\n",
      "[1. 0. 0.] <-> [0.9213397  0.04281868 0.03584168]\n",
      "[1. 0. 0.] <-> [0.8962154  0.00918891 0.09459567]\n",
      "[1. 0. 0.] <-> [0.8926714  0.0639867  0.04334181]\n",
      "[1. 0. 0.] <-> [0.8940986  0.01625348 0.08964803]\n",
      "[1. 0. 0.] <-> [0.6758576  0.00881238 0.31532997]\n",
      "[0. 1. 0.] <-> [0.5644049  0.42675802 0.00883704]\n",
      "[1. 0. 0.] <-> [0.8706567  0.02026713 0.10907607]\n",
      "[1. 0. 0.] <-> [0.63180125 0.00590694 0.3622918 ]\n",
      "[1. 0. 0.] <-> [0.73809814 0.24915767 0.01274423]\n",
      "[1. 0. 0.] <-> [0.9422462  0.0200641  0.03768967]\n",
      "[1. 0. 0.] <-> [0.64250016 0.00711939 0.35038042]\n",
      "[1. 0. 0.] <-> [0.8221277  0.03292705 0.14494528]\n",
      "[1. 0. 0.] <-> [0.6825721  0.01096137 0.3064665 ]\n",
      "[1. 0. 0.] <-> [0.925123   0.00928152 0.06559547]\n",
      "[1. 0. 0.] <-> [0.78125626 0.00682258 0.21192113]\n",
      "[1. 0. 0.] <-> [0.9199053  0.04493392 0.03516081]\n",
      "[1. 0. 0.] <-> [0.87679505 0.0084719  0.11473299]\n",
      "[0. 1. 0.] <-> [0.7230338  0.26418713 0.0127791 ]\n",
      "[0. 0. 1.] <-> [1.0877084e-01 6.9329864e-04 8.9053583e-01]\n",
      "[1. 0. 0.] <-> [0.921182   0.02018433 0.05863371]\n",
      "[1. 0. 0.] <-> [0.9009809  0.04249984 0.05651929]\n",
      "[1. 0. 0.] <-> [0.8412012  0.0117643  0.14703448]\n",
      "[0. 0. 1.] <-> [0.12298778 0.00091386 0.87609833]\n",
      "[1. 0. 0.] <-> [0.876077   0.08168381 0.04223929]\n",
      "[1. 0. 0.] <-> [0.866956   0.02379032 0.10925365]\n",
      "[1. 0. 0.] <-> [0.90913427 0.06273304 0.02813269]\n",
      "[1. 0. 0.] <-> [0.9030281  0.05369269 0.04327919]\n",
      "[1. 0. 0.] <-> [0.8737286  0.02595553 0.10031592]\n",
      "[1. 0. 0.] <-> [0.8964705  0.01981635 0.08371314]\n",
      "[0. 0. 1.] <-> [0.67600715 0.00416025 0.31983256]\n",
      "[0. 0. 1.] <-> [1.1325027e-01 7.2165992e-04 8.8602805e-01]\n",
      "[0. 1. 0.] <-> [0.1559678  0.84195673 0.00207547]\n",
      "[1. 0. 0.] <-> [0.28629085 0.00313566 0.71057343]\n",
      "[0. 1. 0.] <-> [0.27638307 0.7192241  0.0043928 ]\n",
      "[1. 0. 0.] <-> [0.8927246  0.00792092 0.09935446]\n",
      "[1. 0. 0.] <-> [0.9409372  0.0224727  0.03658999]\n",
      "[1. 0. 0.] <-> [0.89845794 0.01003173 0.09151035]\n",
      "[1. 0. 0.] <-> [0.8718793  0.10447907 0.02364165]\n",
      "[1. 0. 0.] <-> [0.862579   0.11644699 0.02097405]\n",
      "[1. 0. 0.] <-> [0.9195455  0.02730067 0.05315383]\n",
      "[1. 0. 0.] <-> [0.91989094 0.03647827 0.04363079]\n",
      "[1. 0. 0.] <-> [0.9439025  0.01581386 0.04028362]\n",
      "[1. 0. 0.] <-> [0.9190885  0.01516606 0.06574549]\n",
      "[1. 0. 0.] <-> [0.89926046 0.01262338 0.08811621]\n",
      "[1. 0. 0.] <-> [0.9329731  0.02829916 0.03872779]\n",
      "[1. 0. 0.] <-> [0.71912855 0.26244563 0.01842586]\n",
      "[1. 0. 0.] <-> [0.8483648  0.11582408 0.03581119]\n",
      "[1. 0. 0.] <-> [0.9112823  0.05346131 0.03525637]\n",
      "[1. 0. 0.] <-> [0.8049621  0.00868009 0.18635786]\n",
      "[1. 0. 0.] <-> [0.91028744 0.06200654 0.02770605]\n",
      "[0. 0. 1.] <-> [8.7090835e-02 4.6998830e-04 9.1243917e-01]\n",
      "[1. 0. 0.] <-> [0.8894072  0.02419834 0.08639448]\n",
      "[1. 0. 0.] <-> [0.8083244  0.00849399 0.18318161]\n",
      "[1. 0. 0.] <-> [0.8915229  0.01325321 0.09522396]\n",
      "[0. 0. 1.] <-> [0.8484503  0.00520849 0.1463412 ]\n",
      "[1. 0. 0.] <-> [0.7119196  0.01213321 0.27594712]\n",
      "[1. 0. 0.] <-> [0.9173548  0.02836235 0.05428284]\n",
      "[1. 0. 0.] <-> [0.8772339  0.0990473  0.02371886]\n",
      "[0. 1. 0.] <-> [0.24490996 0.7514104  0.00367956]\n",
      "[1. 0. 0.] <-> [0.8552657  0.01843061 0.12630378]\n",
      "[0. 1. 0.] <-> [0.10738537 0.8916686  0.00094599]\n",
      "[0. 0. 1.] <-> [9.068708e-02 5.081313e-04 9.088048e-01]\n",
      "[1. 0. 0.] <-> [0.9279522  0.02071521 0.05133252]\n",
      "[1. 0. 0.] <-> [0.92366993 0.01397793 0.06235209]\n",
      "[1. 0. 0.] <-> [0.93363667 0.02924138 0.03712197]\n",
      "[1. 0. 0.] <-> [0.8031401  0.01114904 0.18571089]\n",
      "[1. 0. 0.] <-> [0.92828244 0.02627577 0.04544179]\n",
      "[0. 1. 0.] <-> [0.38637355 0.6080218  0.00560466]\n",
      "[0. 1. 0.] <-> [0.45464855 0.53868705 0.00666436]\n",
      "[1. 0. 0.] <-> [0.8538636  0.01331873 0.13281764]\n",
      "[1. 0. 0.] <-> [0.8498995  0.11408882 0.03601169]\n",
      "[0. 1. 0.] <-> [0.13098171 0.86760795 0.00141034]\n",
      "[0. 0. 1.] <-> [9.0158857e-02 4.8389667e-04 9.0935725e-01]\n",
      "[0. 0. 1.] <-> [8.6740114e-02 4.7105056e-04 9.1278887e-01]\n",
      "[1. 0. 0.] <-> [0.92962056 0.03612478 0.03425457]\n",
      "[1. 0. 0.] <-> [0.89677334 0.01325798 0.08996871]\n",
      "[0. 0. 1.] <-> [9.229618e-02 6.273459e-04 9.070765e-01]\n",
      "[1. 0. 0.] <-> [0.7329118  0.01393591 0.2531523 ]\n",
      "[1. 0. 0.] <-> [0.90094674 0.03507417 0.06397909]\n",
      "[1. 0. 0.] <-> [0.8907364  0.06769089 0.04157273]\n",
      "[1. 0. 0.] <-> [0.9203313  0.03089561 0.04877311]\n",
      "[1. 0. 0.] <-> [0.91836673 0.01001763 0.07161564]\n",
      "[0. 0. 1.] <-> [1.04822524e-01 6.16106321e-04 8.94561350e-01]\n",
      "[1. 0. 0.] <-> [0.8772656  0.01710091 0.1056335 ]\n",
      "[0. 1. 0.] <-> [0.36712444 0.6276848  0.00519079]\n",
      "[1. 0. 0.] <-> [0.9155108  0.0397342  0.04475503]\n",
      "[1. 0. 0.] <-> [0.9153723  0.03444466 0.05018301]\n",
      "[1. 0. 0.] <-> [0.90977585 0.05646168 0.03376253]\n",
      "[0. 1. 0.] <-> [0.557993  0.4333592 0.0086478]\n",
      "[1. 0. 0.] <-> [0.87944824 0.0981159  0.02243587]\n",
      "[1. 0. 0.] <-> [0.88280153 0.09296438 0.02423403]\n",
      "[1. 0. 0.] <-> [0.88657457 0.05016477 0.06326064]\n",
      "[1. 0. 0.] <-> [0.91399264 0.06600196 0.02000536]\n",
      "[1. 0. 0.] <-> [0.86049616 0.01272414 0.12677972]\n",
      "[1. 0. 0.] <-> [0.897897   0.00899291 0.09311016]\n",
      "[0. 0. 1.] <-> [0.27165836 0.00217286 0.72616875]\n",
      "[0. 1. 0.] <-> [0.45517087 0.5378694  0.0069597 ]\n",
      "[1. 0. 0.] <-> [0.91752166 0.0115344  0.07094394]\n",
      "[1. 0. 0.] <-> [0.8762839  0.03070142 0.09301461]\n",
      "[1. 0. 0.] <-> [0.9016284  0.03244717 0.06592451]\n",
      "[1. 0. 0.] <-> [0.8552482  0.02154732 0.1232045 ]\n",
      "{'accuracy': 0.9629629629629629, 'mean_square_error': 0.10295065268332523, 'categorical_crossentropy': 0.21934710608588326, 'essential_metrics': {0: {'tp_hit': 79, 'fp_hit': 5, 'tn_hit': 23, 'fn_hit': 1}, 1: {'tp_hit': 12, 'fp_hit': 0, 'tn_hit': 93, 'fn_hit': 3}, 2: {'tp_hit': 11, 'fp_hit': 1, 'tn_hit': 94, 'fn_hit': 2}}}\n"
     ]
    }
   ],
   "source": [
    "# recall phase\n",
    "score = model.evaluate(x_test, y_test, False)\n",
    "print(score)"
   ]
  },
  {
   "cell_type": "code",
   "execution_count": 12,
   "metadata": {},
   "outputs": [
    {
     "data": {
      "image/png": "[encoded data removed]",
      "text/plain": [
       "<Figure size 864x360 with 1 Axes>"
      ]
     },
     "metadata": {
      "needs_background": "light"
     },
     "output_type": "display_data"
    },
    {
     "data": {
      "image/png": "[encoded data removed]",
      "text/plain": [
       "<Figure size 864x360 with 1 Axes>"
      ]
     },
     "metadata": {
      "needs_background": "light"
     },
     "output_type": "display_data"
    }
   ],
   "source": [
    "draw_plot(x = [[i for i in range(len(history))], [(i+1)*breakpoint for i in range(len(checkpoints))]], y_list = [train_cce, [ ckp[model.loss_fn] for ckp in checkpoints ]], x_label = 'Epochs', \\\n",
    "    y_label = model.loss_fn, legend=['train', 'test'])\n",
    "acc = [ ckp['accuracy'] for ckp in checkpoints ]\n",
    "draw_plot(x = [[i for i in range(len(history))], [(i+1)*breakpoint for i in range(len(checkpoints))]], y_list = [train_acc, acc], x_label = 'Checkpoints', \\\n",
    "    y_label = 'accuracy', legend=['train', 'test'])"
   ]
  },
  {
   "cell_type": "code",
   "execution_count": 13,
   "metadata": {},
   "outputs": [
    {
     "name": "stdout",
     "output_type": "stream",
     "text": [
      "{'accuracy': 0.8395061728395061, 'mean_square_error': 0.32106144421868954, 'categorical_crossentropy': 0.545614101268627, 'essential_metrics': {0: {'tp_hit': 79, 'fp_hit': 25, 'tn_hit': 3, 'fn_hit': 1}, 1: {'tp_hit': 0, 'fp_hit': 0, 'tn_hit': 93, 'fn_hit': 15}, 2: {'tp_hit': 3, 'fp_hit': 1, 'tn_hit': 94, 'fn_hit': 10}}, 'checkpoint': 10} \n",
      "\n",
      "\n",
      "{'accuracy': 0.9074074074074074, 'mean_square_error': 0.25004939106772334, 'categorical_crossentropy': 0.4530906677246094, 'essential_metrics': {0: {'tp_hit': 80, 'fp_hit': 15, 'tn_hit': 13, 'fn_hit': 0}, 1: {'tp_hit': 8, 'fp_hit': 0, 'tn_hit': 93, 'fn_hit': 7}, 2: {'tp_hit': 5, 'fp_hit': 0, 'tn_hit': 95, 'fn_hit': 8}}, 'checkpoint': 20} \n",
      "\n",
      "\n",
      "{'accuracy': 0.9197530864197531, 'mean_square_error': 0.21771746292074165, 'categorical_crossentropy': 0.4232636204472295, 'essential_metrics': {0: {'tp_hit': 80, 'fp_hit': 13, 'tn_hit': 15, 'fn_hit': 0}, 1: {'tp_hit': 11, 'fp_hit': 0, 'tn_hit': 93, 'fn_hit': 4}, 2: {'tp_hit': 4, 'fp_hit': 0, 'tn_hit': 95, 'fn_hit': 9}}, 'checkpoint': 30} \n",
      "\n",
      "\n",
      "{'accuracy': 0.8765432098765432, 'mean_square_error': 0.3010818842046492, 'categorical_crossentropy': 0.558725427698206, 'essential_metrics': {0: {'tp_hit': 80, 'fp_hit': 20, 'tn_hit': 8, 'fn_hit': 0}, 1: {'tp_hit': 7, 'fp_hit': 0, 'tn_hit': 93, 'fn_hit': 8}, 2: {'tp_hit': 1, 'fp_hit': 0, 'tn_hit': 95, 'fn_hit': 12}}, 'checkpoint': 40} \n",
      "\n",
      "\n",
      "{'accuracy': 0.9320987654320988, 'mean_square_error': 0.2581429961501427, 'categorical_crossentropy': 0.49128666630497686, 'essential_metrics': {0: {'tp_hit': 80, 'fp_hit': 11, 'tn_hit': 17, 'fn_hit': 0}, 1: {'tp_hit': 7, 'fp_hit': 0, 'tn_hit': 93, 'fn_hit': 8}, 2: {'tp_hit': 10, 'fp_hit': 0, 'tn_hit': 95, 'fn_hit': 3}}, 'checkpoint': 50} \n",
      "\n",
      "\n",
      "{'accuracy': 0.9197530864197531, 'mean_square_error': 0.21675921132301218, 'categorical_crossentropy': 0.43128055996365017, 'essential_metrics': {0: {'tp_hit': 80, 'fp_hit': 10, 'tn_hit': 18, 'fn_hit': 0}, 1: {'tp_hit': 10, 'fp_hit': 3, 'tn_hit': 90, 'fn_hit': 5}, 2: {'tp_hit': 5, 'fp_hit': 0, 'tn_hit': 95, 'fn_hit': 8}}, 'checkpoint': 60} \n",
      "\n",
      "\n",
      "{'accuracy': 0.9382716049382716, 'mean_square_error': 0.19228031382605304, 'categorical_crossentropy': 0.3791954958880389, 'essential_metrics': {0: {'tp_hit': 80, 'fp_hit': 10, 'tn_hit': 18, 'fn_hit': 0}, 1: {'tp_hit': 9, 'fp_hit': 0, 'tn_hit': 93, 'fn_hit': 6}, 2: {'tp_hit': 9, 'fp_hit': 0, 'tn_hit': 95, 'fn_hit': 4}}, 'checkpoint': 70} \n",
      "\n",
      "\n",
      "{'accuracy': 0.9567901234567902, 'mean_square_error': 0.13737411614422412, 'categorical_crossentropy': 0.30422048215512876, 'essential_metrics': {0: {'tp_hit': 79, 'fp_hit': 6, 'tn_hit': 22, 'fn_hit': 1}, 1: {'tp_hit': 12, 'fp_hit': 0, 'tn_hit': 93, 'fn_hit': 3}, 2: {'tp_hit': 10, 'fp_hit': 1, 'tn_hit': 94, 'fn_hit': 3}}, 'checkpoint': 80} \n",
      "\n",
      "\n",
      "{'accuracy': 0.9444444444444444, 'mean_square_error': 0.15539787023527032, 'categorical_crossentropy': 0.3304180922331633, 'essential_metrics': {0: {'tp_hit': 79, 'fp_hit': 8, 'tn_hit': 20, 'fn_hit': 1}, 1: {'tp_hit': 10, 'fp_hit': 0, 'tn_hit': 93, 'fn_hit': 5}, 2: {'tp_hit': 10, 'fp_hit': 1, 'tn_hit': 94, 'fn_hit': 3}}, 'checkpoint': 90} \n",
      "\n",
      "\n",
      "{'accuracy': 0.9567901234567902, 'mean_square_error': 0.12080265998383591, 'categorical_crossentropy': 0.26340696546766496, 'essential_metrics': {0: {'tp_hit': 80, 'fp_hit': 7, 'tn_hit': 21, 'fn_hit': 0}, 1: {'tp_hit': 11, 'fp_hit': 0, 'tn_hit': 93, 'fn_hit': 4}, 2: {'tp_hit': 10, 'fp_hit': 0, 'tn_hit': 95, 'fn_hit': 3}}, 'checkpoint': 100} \n",
      "\n",
      "\n",
      "{'accuracy': 0.9691358024691358, 'mean_square_error': 0.09898837942171002, 'categorical_crossentropy': 0.22370228944001375, 'essential_metrics': {0: {'tp_hit': 80, 'fp_hit': 5, 'tn_hit': 23, 'fn_hit': 0}, 1: {'tp_hit': 13, 'fp_hit': 0, 'tn_hit': 93, 'fn_hit': 2}, 2: {'tp_hit': 10, 'fp_hit': 0, 'tn_hit': 95, 'fn_hit': 3}}, 'checkpoint': 110} \n",
      "\n",
      "\n",
      "{'accuracy': 0.9629629629629629, 'mean_square_error': 0.10786114505642468, 'categorical_crossentropy': 0.2387463958175094, 'essential_metrics': {0: {'tp_hit': 79, 'fp_hit': 5, 'tn_hit': 23, 'fn_hit': 1}, 1: {'tp_hit': 12, 'fp_hit': 0, 'tn_hit': 93, 'fn_hit': 3}, 2: {'tp_hit': 11, 'fp_hit': 1, 'tn_hit': 94, 'fn_hit': 2}}, 'checkpoint': 120} \n",
      "\n",
      "\n",
      "{'accuracy': 0.9691358024691358, 'mean_square_error': 0.09542061197644032, 'categorical_crossentropy': 0.21532482571072048, 'essential_metrics': {0: {'tp_hit': 79, 'fp_hit': 4, 'tn_hit': 24, 'fn_hit': 1}, 1: {'tp_hit': 13, 'fp_hit': 0, 'tn_hit': 93, 'fn_hit': 2}, 2: {'tp_hit': 11, 'fp_hit': 1, 'tn_hit': 94, 'fn_hit': 2}}, 'checkpoint': 130} \n",
      "\n",
      "\n",
      "{'accuracy': 0.9629629629629629, 'mean_square_error': 0.10297777828558458, 'categorical_crossentropy': 0.2195050628096969, 'essential_metrics': {0: {'tp_hit': 79, 'fp_hit': 5, 'tn_hit': 23, 'fn_hit': 1}, 1: {'tp_hit': 12, 'fp_hit': 0, 'tn_hit': 93, 'fn_hit': 3}, 2: {'tp_hit': 11, 'fp_hit': 1, 'tn_hit': 94, 'fn_hit': 2}}, 'checkpoint': 140} \n",
      "\n",
      "\n",
      "{'accuracy': 0.9629629629629629, 'mean_square_error': 0.10133914855340587, 'categorical_crossentropy': 0.21828121609157985, 'essential_metrics': {0: {'tp_hit': 79, 'fp_hit': 5, 'tn_hit': 23, 'fn_hit': 1}, 1: {'tp_hit': 12, 'fp_hit': 0, 'tn_hit': 93, 'fn_hit': 3}, 2: {'tp_hit': 11, 'fp_hit': 1, 'tn_hit': 94, 'fn_hit': 2}}, 'checkpoint': 150} \n",
      "\n",
      "\n",
      "{'accuracy': 0.9691358024691358, 'mean_square_error': 0.10434326943309581, 'categorical_crossentropy': 0.2334423065185547, 'essential_metrics': {0: {'tp_hit': 79, 'fp_hit': 4, 'tn_hit': 24, 'fn_hit': 1}, 1: {'tp_hit': 13, 'fp_hit': 0, 'tn_hit': 93, 'fn_hit': 2}, 2: {'tp_hit': 11, 'fp_hit': 1, 'tn_hit': 94, 'fn_hit': 2}}, 'checkpoint': 160} \n",
      "\n",
      "\n",
      "{'accuracy': 0.9567901234567902, 'mean_square_error': 0.10276050122102662, 'categorical_crossentropy': 0.22341208987765843, 'essential_metrics': {0: {'tp_hit': 79, 'fp_hit': 6, 'tn_hit': 22, 'fn_hit': 1}, 1: {'tp_hit': 11, 'fp_hit': 0, 'tn_hit': 93, 'fn_hit': 4}, 2: {'tp_hit': 11, 'fp_hit': 1, 'tn_hit': 94, 'fn_hit': 2}}, 'checkpoint': 170} \n",
      "\n",
      "\n",
      "{'accuracy': 0.9691358024691358, 'mean_square_error': 0.10045869278579503, 'categorical_crossentropy': 0.22796482510036892, 'essential_metrics': {0: {'tp_hit': 79, 'fp_hit': 4, 'tn_hit': 24, 'fn_hit': 1}, 1: {'tp_hit': 13, 'fp_hit': 0, 'tn_hit': 93, 'fn_hit': 2}, 2: {'tp_hit': 11, 'fp_hit': 1, 'tn_hit': 94, 'fn_hit': 2}}, 'checkpoint': 180} \n",
      "\n",
      "\n",
      "{'accuracy': 0.9691358024691358, 'mean_square_error': 0.09111548530604223, 'categorical_crossentropy': 0.20980375784414787, 'essential_metrics': {0: {'tp_hit': 79, 'fp_hit': 4, 'tn_hit': 24, 'fn_hit': 1}, 1: {'tp_hit': 13, 'fp_hit': 0, 'tn_hit': 93, 'fn_hit': 2}, 2: {'tp_hit': 11, 'fp_hit': 1, 'tn_hit': 94, 'fn_hit': 2}}, 'checkpoint': 190} \n",
      "\n",
      "\n",
      "{'accuracy': 0.9629629629629629, 'mean_square_error': 0.10295065268332523, 'categorical_crossentropy': 0.21934710608588326, 'essential_metrics': {0: {'tp_hit': 79, 'fp_hit': 5, 'tn_hit': 23, 'fn_hit': 1}, 1: {'tp_hit': 12, 'fp_hit': 0, 'tn_hit': 93, 'fn_hit': 3}, 2: {'tp_hit': 11, 'fp_hit': 1, 'tn_hit': 94, 'fn_hit': 2}}, 'checkpoint': 200} \n",
      "\n",
      "\n"
     ]
    }
   ],
   "source": [
    "for checkpoint in checkpoints:\n",
    "    print(checkpoint, '\\n\\n')"
   ]
  },
  {
   "cell_type": "code",
   "execution_count": 14,
   "metadata": {},
   "outputs": [
    {
     "name": "stdout",
     "output_type": "stream",
     "text": [
      "Layer 1\n",
      "Neuron 0: weights:\n",
      "[ 0.29925707 -0.8854559  -0.02166561  0.38662782  1.6172768 ]\n",
      " bias: -0.31766825914382935\n",
      "\n",
      "Neuron 1: weights:\n",
      "[ 0.66943604 -1.705745   -0.57363766 -0.03288759  0.32600078]\n",
      " bias: 0.944930374622345\n",
      "\n",
      "Neuron 2: weights:\n",
      "[-0.09344746  0.19616857  0.12308126 -1.597992   -1.0793333 ]\n",
      " bias: 0.18249157071113586\n",
      "\n",
      "Neuron 3: weights:\n",
      "[-0.3613771   1.1405898   0.7339143   0.01646023 -0.23718525]\n",
      " bias: -0.23932020366191864\n",
      "\n",
      "$\n",
      "Layer 2\n",
      "Neuron 0: weights:\n",
      "[-0.6386413   1.5777367   0.760771   -0.11110749]\n",
      " bias: 0.032515525817871094\n",
      "\n",
      "Neuron 1: weights:\n",
      "[-1.3531224  -2.908878   -0.07276819  3.        ]\n",
      " bias: -0.09355658292770386\n",
      "\n",
      "Neuron 2: weights:\n",
      "[ 3.         0.386993  -3.        -1.5667269]\n",
      " bias: -0.021758994087576866\n",
      "\n",
      "$\n",
      "\n"
     ]
    }
   ],
   "source": [
    "print(model)"
   ]
  },
  {
   "cell_type": "code",
   "execution_count": null,
   "metadata": {},
   "outputs": [],
   "source": []
  }
 ],
 "metadata": {
  "kernelspec": {
   "display_name": "Python 3",
   "language": "python",
   "name": "python3"
  },
  "language_info": {
   "codemirror_mode": {
    "name": "ipython",
    "version": 3
   },
   "file_extension": ".py",
   "mimetype": "text/x-python",
   "name": "python",
   "nbconvert_exporter": "python",
   "pygments_lexer": "ipython3",
   "version": "3.6.12"
  }
 },
 "nbformat": 4,
 "nbformat_minor": 2
}
