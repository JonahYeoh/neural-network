{
 "cells": [
  {
   "cell_type": "code",
   "execution_count": 1,
   "metadata": {},
   "outputs": [],
   "source": [
    "# dependency\n",
    "import numpy as np\n",
    "import pandas as pd\n",
    "import copy\n",
    "import math\n",
    "import sys\n",
    "import os\n",
    "from activations import relu, leaky_relu, sigmoid, tanh, softmax, d_sigmoid, d_relu\n",
    "from initializers import glorot_uniform, random_normal, random_uniform\n",
    "from regularizers import l1_regularizer, l2_regularizer\n",
    "from utility import trim_tail, multiply, subtract, get_nparams, one_hot_encoding, get_data\n",
    "from metrics import MSE, CCE, ACC, PRECISION, RECALL, essential_metrics, wondering_penalty, close_gap_penalty\n",
    "from pso import PSO\n",
    "from ga import GA\n",
    "from nn import Network\n",
    "from layer import DenseLayer\n",
    "from scalers import MinMaxScaler, StandardScaler"
   ]
  },
  {
   "cell_type": "code",
   "execution_count": 2,
   "metadata": {},
   "outputs": [],
   "source": [
    "# reference\n",
    "metrics_fn_dict = dict()\n",
    "metrics_fn_dict['accuracy'] = ACC\n",
    "metrics_fn_dict['categorical_crossentropy'] = CCE\n",
    "metrics_fn_dict['mean_square_error'] = MSE\n",
    "metrics_fn_dict['precision'] = PRECISION\n",
    "metrics_fn_dict['recall'] = RECALL\n",
    "metrics_fn_dict['essential_metrics'] = essential_metrics"
   ]
  },
  {
   "cell_type": "code",
   "execution_count": 3,
   "metadata": {},
   "outputs": [],
   "source": [
    "# model\n",
    "model = Network(5, lr = None)\n",
    "model.add_layer(DenseLayer(1, 4, True, afn=sigmoid, dafn=None, rfn=None))\n",
    "model.add_layer(DenseLayer(2, 3, True, afn=softmax, dafn=None, rfn=None))"
   ]
  },
  {
   "cell_type": "code",
   "execution_count": 4,
   "metadata": {},
   "outputs": [
    {
     "name": "stdout",
     "output_type": "stream",
     "text": [
      "see one see two 2.0 0.5\n"
     ]
    }
   ],
   "source": [
    "pso = PSO(dict(m = 50,\n",
    "    weight_constraint = [-3, 3], \n",
    "    velocity_constraint = [-0.1, 0.1],\n",
    "    c1 = [0.5, 2.0],\n",
    "    c2 = [0.5, 2.0],\n",
    "    w = [0.5, 1.6],\n",
    "    w_decay = 0.95,\n",
    "    scale_hyperparameter = False,\n",
    "    regularizer = None,\n",
    "    mask = True))"
   ]
  },
  {
   "cell_type": "code",
   "execution_count": 5,
   "metadata": {},
   "outputs": [
    {
     "name": "stdout",
     "output_type": "stream",
     "text": [
      "building layer 1 with 5\n",
      "24\n",
      "building layer 2 with 4\n",
      "15\n"
     ]
    }
   ],
   "source": [
    "model.compile(loss_fn = 'categorical_crossentropy', optimizer = pso, \\\n",
    "    metrics = ['accuracy', 'mean_square_error', 'categorical_crossentropy'])"
   ]
  },
  {
   "cell_type": "code",
   "execution_count": 6,
   "metadata": {},
   "outputs": [
    {
     "name": "stdout",
     "output_type": "stream",
     "text": [
      "<class 'pandas.core.frame.DataFrame'>\n",
      "RangeIndex: 107 entries, 0 to 106\n",
      "Data columns (total 6 columns):\n",
      " #   Column  Non-Null Count  Dtype  \n",
      "---  ------  --------------  -----  \n",
      " 0   f1      107 non-null    float32\n",
      " 1   f2      107 non-null    float32\n",
      " 2   f3      107 non-null    float32\n",
      " 3   f4      107 non-null    float32\n",
      " 4   f5      107 non-null    float32\n",
      " 5   label   107 non-null    float32\n",
      "dtypes: float32(6)\n",
      "memory usage: 2.6 KB\n",
      "None\n",
      "<class 'pandas.core.frame.DataFrame'>\n",
      "RangeIndex: 108 entries, 0 to 107\n",
      "Data columns (total 6 columns):\n",
      " #   Column  Non-Null Count  Dtype  \n",
      "---  ------  --------------  -----  \n",
      " 0   f1      108 non-null    float32\n",
      " 1   f2      108 non-null    float32\n",
      " 2   f3      108 non-null    float32\n",
      " 3   f4      108 non-null    float32\n",
      " 4   f5      108 non-null    float32\n",
      " 5   label   108 non-null    float32\n",
      "dtypes: float32(6)\n",
      "memory usage: 2.7 KB\n",
      "None\n"
     ]
    }
   ],
   "source": [
    "# data loading\n",
    "DATA = os.path.join('c:\\\\Users\\\\AI-lab\\\\github_repo\\\\neural-network\\\\', 'dataset')\n",
    "GROUP = 5\n",
    "COLUMNS = ['f1', 'f2', 'f3', 'f4', 'f5', 'label']\n",
    "N_CLASS = 3\n",
    "EPOCHS = 200\n",
    "train_dir, test_dir = \"..//dataset//training_data{}.txt\".format(GROUP), \"..//dataset//testing_data{}.txt\".format(GROUP)\n",
    "train, test = get_data(DATA, train_dir, COLUMNS), get_data(DATA, test_dir, COLUMNS)\n",
    "# shuffle\n",
    "train, test = train.sample(frac=1), test.sample(frac=1)\n",
    "x_train, y_train = train.drop('label', axis=1), train['label']\n",
    "x_test, y_test = test.drop('label', axis=1), test['label']"
   ]
  },
  {
   "cell_type": "code",
   "execution_count": 7,
   "metadata": {},
   "outputs": [],
   "source": [
    "# data scaling and encoding\n",
    "scaler = StandardScaler(['f1', 'f2', 'f3', 'f4', 'f5'])\n",
    "scaler.fit(x_train)\n",
    "x_train = scaler.transform(x_train)\n",
    "x_test = scaler.transform(x_test)\n",
    "y_train = one_hot_encoding(y_train, N_CLASS)\n",
    "y_test = one_hot_encoding(y_test, N_CLASS)"
   ]
  },
  {
   "cell_type": "code",
   "execution_count": 8,
   "metadata": {
    "tags": [
     "outputPrepend"
    ]
   },
   "outputs": [
    {
     "name": "stdout",
     "output_type": "stream",
     "text": [
      "Checkpoint 10, Accuracy: 0.8703703703703703, Loss: 0.7487360636393229\n",
      "Checkpoint 20, Accuracy: 0.9012345679012346, Loss: 0.6263510386149088\n",
      "Checkpoint 30, Accuracy: 0.8703703703703703, Loss: 0.5668122326886212\n",
      "Checkpoint 40, Accuracy: 0.8950617283950617, Loss: 0.5075269628454138\n",
      "Checkpoint 50, Accuracy: 0.8827160493827161, Loss: 0.40481687475133826\n",
      "Checkpoint 60, Accuracy: 0.9506172839506173, Loss: 0.31380483839246964\n",
      "Checkpoint 70, Accuracy: 0.9506172839506173, Loss: 0.29004778685393157\n",
      "Checkpoint 80, Accuracy: 0.9444444444444444, Loss: 0.2710476804662634\n",
      "Checkpoint 90, Accuracy: 0.9753086419753086, Loss: 0.23776506494592736\n",
      "Checkpoint 100, Accuracy: 0.9629629629629629, Loss: 0.2243409686618381\n",
      "Checkpoint 110, Accuracy: 0.9691358024691358, Loss: 0.16830216513739693\n",
      "Checkpoint 120, Accuracy: 0.9691358024691358, Loss: 0.15422609117296007\n",
      "Checkpoint 130, Accuracy: 0.9753086419753086, Loss: 0.12528171362700286\n",
      "Checkpoint 140, Accuracy: 0.9567901234567902, Loss: 0.13643029001024035\n",
      "Checkpoint 150, Accuracy: 0.9753086419753086, Loss: 0.12580914850588198\n",
      "Checkpoint 160, Accuracy: 0.9691358024691358, Loss: 0.11894533369276258\n",
      "Checkpoint 170, Accuracy: 0.9753086419753086, Loss: 0.10205116978398075\n",
      "Checkpoint 180, Accuracy: 0.9629629629629629, Loss: 0.10861361468279804\n",
      "Checkpoint 190, Accuracy: 0.9691358024691358, Loss: 0.12482583081280743\n",
      "Checkpoint 200, Accuracy: 0.9691358024691358, Loss: 0.11243384855764883\n"
     ]
    }
   ],
   "source": [
    "# learning phase\n",
    "breakpoint = 10\n",
    "checkpoints = list()\n",
    "history = list()\n",
    "for century in range(0, EPOCHS, breakpoint):\n",
    "    sub_history = model.fit(x_train, y_train, breakpoint, verbose = 0)\n",
    "    score = model.evaluate(x_test, y_test, False, verbose = 0)\n",
    "    print('Checkpoint {}, Accuracy: {}, Loss: {}'.format(century+breakpoint, score['accuracy'], score[model.loss_fn]))\n",
    "    score['checkpoint'] = century + breakpoint\n",
    "    checkpoints.append(score)\n",
    "    history.extend(sub_history)\n",
    "    itr = century + breakpoint\n",
    "    model.optimizer.c1 = np.max([model.optimizer.C1[1] - ((model.optimizer.C1[1] - model.optimizer.C1[0]) * itr / EPOCHS), model.optimizer.C1[0]])\n",
    "    model.optimizer.c2 = np.min([model.optimizer.C2[0] + ((model.optimizer.C2[1] - model.optimizer.C2[0]) * itr / EPOCHS), model.optimizer.C2[1]])\n",
    "    model.optimizer.w = np.max([model.optimizer.w * model.optimizer.W_Decay, model.optimizer.W[0]])"
   ]
  },
  {
   "cell_type": "code",
   "execution_count": 9,
   "metadata": {},
   "outputs": [],
   "source": [
    "import matplotlib.pyplot as plt\n",
    "\n",
    "def draw_plot(x, y_list, x_label=None, y_label=None, legend=None, title=None):\n",
    "    fig, ax = plt.subplots(figsize=(12,5))\n",
    "    for xi, yi in zip(x, y_list):\n",
    "        ax.plot(xi, yi)\n",
    "    if x_label is not None and y_label is not None:\n",
    "        ax.set(xlabel=x_label, ylabel=y_label, title='{} VS {}'.format(x_label, y_label))\n",
    "    if legend is not None:\n",
    "        ax.legend(legend)\n",
    "    ax.grid()\n",
    "    plt.show()"
   ]
  },
  {
   "cell_type": "code",
   "execution_count": 10,
   "metadata": {},
   "outputs": [],
   "source": [
    "train_acc = [h['accuracy'] for h in history]\n",
    "train_mse = [h['mean_square_error'] for h in history]\n",
    "train_cce = [h['categorical_crossentropy'] for h in history]"
   ]
  },
  {
   "cell_type": "code",
   "execution_count": 11,
   "metadata": {},
   "outputs": [
    {
     "data": {
      "image/png": "[encoded data removed]",
      "text/plain": [
       "<Figure size 864x360 with 1 Axes>"
      ]
     },
     "metadata": {
      "needs_background": "light"
     },
     "output_type": "display_data"
    },
    {
     "data": {
      "image/png": "[encoded data removed]",
      "text/plain": [
       "<Figure size 864x360 with 1 Axes>"
      ]
     },
     "metadata": {
      "needs_background": "light"
     },
     "output_type": "display_data"
    }
   ],
   "source": [
    "draw_plot(x = [[i for i in range(len(history))], [(i+1)*breakpoint for i in range(len(checkpoints))]], y_list = [train_cce, [ ckp[model.loss_fn] for ckp in checkpoints ]], x_label = 'Epochs', \\\n",
    "    y_label = model.loss_fn, legend=['train', 'test'])\n",
    "acc = [ ckp['accuracy'] for ckp in checkpoints ]\n",
    "draw_plot(x = [[i for i in range(len(history))], [(i+1)*breakpoint for i in range(len(checkpoints))]], y_list = [train_acc, acc], x_label = 'Checkpoints', \\\n",
    "    y_label = 'accuracy', legend=['train', 'test'])"
   ]
  },
  {
   "cell_type": "code",
   "execution_count": 12,
   "metadata": {},
   "outputs": [
    {
     "name": "stdout",
     "output_type": "stream",
     "text": [
      "[1. 0. 0.] <-> [0.97320956 0.0057744  0.021016  ]\n",
      "[0. 1. 0.] <-> [2.8714577e-02 9.7123837e-01 4.7112524e-05]\n",
      "[1. 0. 0.] <-> [0.94199663 0.00402689 0.05397648]\n",
      "[1. 0. 0.] <-> [0.9881471  0.00504916 0.00680375]\n",
      "[1. 0. 0.] <-> [9.8908418e-01 1.0006668e-02 9.0923347e-04]\n",
      "[1. 0. 0.] <-> [0.8343609  0.00286793 0.16277114]\n",
      "[1. 0. 0.] <-> [9.6334624e-01 3.6127154e-02 5.2663364e-04]\n",
      "[1. 0. 0.] <-> [0.9876902  0.00663836 0.0056714 ]\n",
      "[1. 0. 0.] <-> [9.8650670e-01 1.2620206e-02 8.7307667e-04]\n",
      "[0. 1. 0.] <-> [2.9910558e-01 7.0065242e-01 2.4193089e-04]\n",
      "[1. 0. 0.] <-> [9.8085165e-01 1.8383279e-02 7.6503109e-04]\n",
      "[1. 0. 0.] <-> [0.9157384 0.0038077 0.0804539]\n",
      "[1. 0. 0.] <-> [8.7921512e-01 1.2025742e-01 5.2749779e-04]\n",
      "[1. 0. 0.] <-> [0.9894029  0.00958873 0.00100827]\n",
      "[1. 0. 0.] <-> [9.6380270e-01 3.5563663e-02 6.3364970e-04]\n",
      "[1. 0. 0.] <-> [9.7117484e-01 2.8299397e-02 5.2575063e-04]\n",
      "[0. 1. 0.] <-> [9.4898202e-02 9.0495092e-01 1.5097228e-04]\n",
      "[0. 0. 1.] <-> [9.9044368e-03 3.7537382e-05 9.9005800e-01]\n",
      "[1. 0. 0.] <-> [0.9855069  0.00573023 0.0087628 ]\n",
      "[1. 0. 0.] <-> [0.9889986  0.00959097 0.00141046]\n",
      "[0. 1. 0.] <-> [3.0396756e-02 9.6955240e-01 5.0868268e-05]\n",
      "[1. 0. 0.] <-> [0.99002516 0.00726364 0.00271122]\n",
      "[1. 0. 0.] <-> [9.670163e-01 3.239475e-02 5.888944e-04]\n",
      "[0. 1. 0.] <-> [2.8716523e-02 9.7123635e-01 4.7117730e-05]\n",
      "[1. 0. 0.] <-> [8.9565545e-01 1.0351742e-01 8.2719169e-04]\n",
      "[1. 0. 0.] <-> [0.98248476 0.00554565 0.01196958]\n",
      "[1. 0. 0.] <-> [0.9867193  0.00787383 0.00540691]\n",
      "[0. 0. 1.] <-> [0.48393083 0.00296377 0.51310545]\n",
      "[0. 1. 0.] <-> [3.1327330e-02 9.6861881e-01 5.3765725e-05]\n",
      "[1. 0. 0.] <-> [0.9788529 0.0047757 0.0163714]\n",
      "[1. 0. 0.] <-> [0.98414433 0.01485043 0.00100532]\n",
      "[0. 0. 1.] <-> [0.8423918  0.00431588 0.15329233]\n",
      "[1. 0. 0.] <-> [9.7761393e-01 2.1611517e-02 7.7451020e-04]\n",
      "[1. 0. 0.] <-> [0.99141157 0.00452417 0.00406429]\n",
      "[1. 0. 0.] <-> [0.99114066 0.00598717 0.00287223]\n",
      "[1. 0. 0.] <-> [9.7664773e-01 2.2625703e-02 7.2661845e-04]\n",
      "[1. 0. 0.] <-> [0.985149   0.01384514 0.00100583]\n",
      "[1. 0. 0.] <-> [0.99141383 0.00676335 0.00182293]\n",
      "[0. 1. 0.] <-> [2.8710082e-02 9.7124285e-01 4.7100926e-05]\n",
      "[0. 0. 1.] <-> [1.2153910e-02 4.7316647e-05 9.8779869e-01]\n",
      "[0. 0. 1.] <-> [1.0633184e-02 4.0685889e-05 9.8932612e-01]\n",
      "[1. 0. 0.] <-> [0.992161   0.00475733 0.00308162]\n",
      "[1. 0. 0.] <-> [9.7769862e-01 2.1604996e-02 6.9642218e-04]\n",
      "[1. 0. 0.] <-> [9.8669589e-01 1.2453011e-02 8.5116556e-04]\n",
      "[0. 1. 0.] <-> [2.8788211e-02 9.7116446e-01 4.7303245e-05]\n",
      "[0. 1. 0.] <-> [1.8316188e-01 8.1660473e-01 2.3346111e-04]\n",
      "[0. 0. 1.] <-> [1.0897793e-02 4.1159088e-05 9.8906112e-01]\n",
      "[1. 0. 0.] <-> [0.99014306 0.00858639 0.00127047]\n",
      "[1. 0. 0.] <-> [0.9910749  0.00739766 0.00152734]\n",
      "[0. 1. 0.] <-> [0.58632535 0.41277242 0.0009022 ]\n",
      "[1. 0. 0.] <-> [0.988982   0.00992173 0.00109616]\n",
      "[1. 0. 0.] <-> [0.9583609  0.00394249 0.03769655]\n",
      "[0. 0. 1.] <-> [1.1823728e-02 4.4472290e-05 9.8813188e-01]\n",
      "[1. 0. 0.] <-> [9.425529e-01 5.710892e-02 3.380390e-04]\n",
      "[0. 1. 0.] <-> [6.0204238e-01 3.9760101e-01 3.5662903e-04]\n",
      "[0. 0. 1.] <-> [1.0138109e-02 3.8547631e-05 9.8982328e-01]\n",
      "[1. 0. 0.] <-> [0.99215746 0.00512461 0.00271798]\n",
      "[1. 0. 0.] <-> [9.8216301e-01 1.7168501e-02 6.6859723e-04]\n",
      "[0. 0. 1.] <-> [1.0244563e-02 3.8736645e-05 9.8971671e-01]\n",
      "[1. 0. 0.] <-> [0.9854768  0.01342545 0.00109774]\n",
      "[0. 1. 0.] <-> [5.4031059e-02 9.4586134e-01 1.0755652e-04]\n",
      "[1. 0. 0.] <-> [0.9911576  0.00740906 0.00143334]\n",
      "[1. 0. 0.] <-> [0.99132884 0.00499028 0.00368085]\n",
      "[1. 0. 0.] <-> [0.99170333 0.0049396  0.00335714]\n",
      "[1. 0. 0.] <-> [0.986257   0.01091705 0.00282598]\n",
      "[0. 0. 1.] <-> [1.1911938e-02 4.4431690e-05 9.8804361e-01]\n",
      "[1. 0. 0.] <-> [0.98789746 0.01071175 0.0013908 ]\n",
      "[0. 0. 1.] <-> [9.9176513e-03 3.7599722e-05 9.9004477e-01]\n",
      "[1. 0. 0.] <-> [0.9856838  0.00859638 0.00571984]\n",
      "[1. 0. 0.] <-> [0.9908635  0.00761474 0.00152175]\n",
      "[1. 0. 0.] <-> [0.9899704  0.00789597 0.00213371]\n",
      "[0. 1. 0.] <-> [9.3561962e-02 9.0633482e-01 1.0332411e-04]\n",
      "[1. 0. 0.] <-> [0.74962    0.0027069  0.24767305]\n",
      "[1. 0. 0.] <-> [0.9884155  0.00573573 0.00584874]\n",
      "[1. 0. 0.] <-> [0.9419389  0.00368209 0.05437896]\n",
      "[1. 0. 0.] <-> [0.95420563 0.00367376 0.0421206 ]\n",
      "[0. 1. 0.] <-> [2.8716238e-02 9.7123665e-01 4.7116802e-05]\n",
      "[1. 0. 0.] <-> [0.9386258  0.00383042 0.05754375]\n",
      "[1. 0. 0.] <-> [0.9919602  0.00671258 0.0013271 ]\n",
      "[0. 1. 0.] <-> [2.8718112e-02 9.7123474e-01 4.7121608e-05]\n",
      "[0. 0. 1.] <-> [1.0983314e-02 4.1197545e-05 9.8897552e-01]\n",
      "[1. 0. 0.] <-> [0.93905413 0.00380809 0.05713776]\n",
      "[1. 0. 0.] <-> [0.9759108  0.00593409 0.01815522]\n",
      "[1. 0. 0.] <-> [0.99234325 0.00569593 0.00196082]\n",
      "[0. 0. 1.] <-> [0.81757075 0.0044812  0.177948  ]\n",
      "[0. 0. 1.] <-> [1.0259985e-02 3.9150385e-05 9.8970091e-01]\n",
      "[1. 0. 0.] <-> [0.98780954 0.01094161 0.00124877]\n",
      "[1. 0. 0.] <-> [9.8211813e-01 1.7160473e-02 7.2146108e-04]\n",
      "[1. 0. 0.] <-> [9.5964819e-01 3.9856669e-02 4.9514667e-04]\n",
      "[1. 0. 0.] <-> [0.9831372  0.00542701 0.01143578]\n",
      "[1. 0. 0.] <-> [0.9859089  0.01285947 0.00123162]\n",
      "[1. 0. 0.] <-> [9.8645985e-01 1.2638593e-02 9.0158370e-04]\n",
      "[1. 0. 0.] <-> [0.6106992  0.00251029 0.38679048]\n",
      "[1. 0. 0.] <-> [0.72759783 0.00451759 0.26788452]\n",
      "[0. 0. 1.] <-> [9.944706e-03 3.767015e-05 9.900176e-01]\n",
      "[1. 0. 0.] <-> [9.693680e-01 2.986749e-02 7.645829e-04]\n",
      "[1. 0. 0.] <-> [0.9346477  0.00369536 0.06165703]\n",
      "[1. 0. 0.] <-> [0.99032813 0.00759371 0.00207818]\n",
      "[0. 1. 0.] <-> [7.6886111e-01 2.3084892e-01 2.8986519e-04]\n",
      "[1. 0. 0.] <-> [0.9891061  0.00497817 0.00591569]\n",
      "[1. 0. 0.] <-> [0.6879264  0.00272734 0.30934623]\n",
      "[1. 0. 0.] <-> [0.9843055  0.01448898 0.00120548]\n",
      "[1. 0. 0.] <-> [0.9908409  0.00684958 0.00230943]\n",
      "[1. 0. 0.] <-> [0.97289556 0.0057541  0.02135029]\n",
      "[1. 0. 0.] <-> [0.9924609  0.00559977 0.00193929]\n",
      "[0. 1. 0.] <-> [2.9041281e-02 9.7091079e-01 4.7946593e-05]\n",
      "[1. 0. 0.] <-> [9.8211688e-01 1.7129067e-02 7.5407757e-04]\n",
      "[1. 0. 0.] <-> [9.84880447e-01 1.42169045e-02 9.02643893e-04]\n",
      "{'accuracy': 0.9691358024691358, 'mean_square_error': 0.06582744714595155, 'categorical_crossentropy': 0.11243384855764883, 'essential_metrics': {0: {'tp_hit': 76, 'fp_hit': 5, 'tn_hit': 27, 'fn_hit': 0}, 1: {'tp_hit': 14, 'fp_hit': 0, 'tn_hit': 91, 'fn_hit': 3}, 2: {'tp_hit': 13, 'fp_hit': 0, 'tn_hit': 93, 'fn_hit': 2}}}\n"
     ]
    }
   ],
   "source": [
    "# recall phase\n",
    "score = model.evaluate(x_test, y_test, False)\n",
    "print(score)"
   ]
  },
  {
   "cell_type": "code",
   "execution_count": 13,
   "metadata": {},
   "outputs": [
    {
     "name": "stdout",
     "output_type": "stream",
     "text": [
      "{'accuracy': 0.8703703703703703, 'mean_square_error': 0.39869161026565725, 'categorical_crossentropy': 0.7487360636393229, 'essential_metrics': {0: {'tp_hit': 71, 'fp_hit': 16, 'tn_hit': 16, 'fn_hit': 5}, 1: {'tp_hit': 16, 'fp_hit': 5, 'tn_hit': 86, 'fn_hit': 1}, 2: {'tp_hit': 0, 'fp_hit': 0, 'tn_hit': 93, 'fn_hit': 15}}, 'checkpoint': 10} \n",
      "\n",
      "\n",
      "{'accuracy': 0.9012345679012346, 'mean_square_error': 0.30064889524950805, 'categorical_crossentropy': 0.6263510386149088, 'essential_metrics': {0: {'tp_hit': 76, 'fp_hit': 16, 'tn_hit': 16, 'fn_hit': 0}, 1: {'tp_hit': 16, 'fp_hit': 0, 'tn_hit': 91, 'fn_hit': 1}, 2: {'tp_hit': 0, 'fp_hit': 0, 'tn_hit': 93, 'fn_hit': 15}}, 'checkpoint': 20} \n",
      "\n",
      "\n",
      "{'accuracy': 0.8703703703703703, 'mean_square_error': 0.3143821157453462, 'categorical_crossentropy': 0.5668122326886212, 'essential_metrics': {0: {'tp_hit': 76, 'fp_hit': 21, 'tn_hit': 11, 'fn_hit': 0}, 1: {'tp_hit': 11, 'fp_hit': 0, 'tn_hit': 91, 'fn_hit': 6}, 2: {'tp_hit': 0, 'fp_hit': 0, 'tn_hit': 93, 'fn_hit': 15}}, 'checkpoint': 30} \n",
      "\n",
      "\n",
      "{'accuracy': 0.8950617283950617, 'mean_square_error': 0.26941104114397607, 'categorical_crossentropy': 0.5075269628454138, 'essential_metrics': {0: {'tp_hit': 73, 'fp_hit': 14, 'tn_hit': 18, 'fn_hit': 3}, 1: {'tp_hit': 16, 'fp_hit': 3, 'tn_hit': 88, 'fn_hit': 1}, 2: {'tp_hit': 2, 'fp_hit': 0, 'tn_hit': 93, 'fn_hit': 13}}, 'checkpoint': 40} \n",
      "\n",
      "\n",
      "{'accuracy': 0.8827160493827161, 'mean_square_error': 0.22615945059107412, 'categorical_crossentropy': 0.40481687475133826, 'essential_metrics': {0: {'tp_hit': 76, 'fp_hit': 19, 'tn_hit': 13, 'fn_hit': 0}, 1: {'tp_hit': 13, 'fp_hit': 0, 'tn_hit': 91, 'fn_hit': 4}, 2: {'tp_hit': 0, 'fp_hit': 0, 'tn_hit': 93, 'fn_hit': 15}}, 'checkpoint': 50} \n",
      "\n",
      "\n",
      "{'accuracy': 0.9506172839506173, 'mean_square_error': 0.15939282439931066, 'categorical_crossentropy': 0.31380483839246964, 'essential_metrics': {0: {'tp_hit': 76, 'fp_hit': 8, 'tn_hit': 24, 'fn_hit': 0}, 1: {'tp_hit': 16, 'fp_hit': 0, 'tn_hit': 91, 'fn_hit': 1}, 2: {'tp_hit': 8, 'fp_hit': 0, 'tn_hit': 93, 'fn_hit': 7}}, 'checkpoint': 60} \n",
      "\n",
      "\n",
      "{'accuracy': 0.9506172839506173, 'mean_square_error': 0.14595291169285196, 'categorical_crossentropy': 0.29004778685393157, 'essential_metrics': {0: {'tp_hit': 76, 'fp_hit': 8, 'tn_hit': 24, 'fn_hit': 0}, 1: {'tp_hit': 15, 'fp_hit': 0, 'tn_hit': 91, 'fn_hit': 2}, 2: {'tp_hit': 9, 'fp_hit': 0, 'tn_hit': 93, 'fn_hit': 6}}, 'checkpoint': 70} \n",
      "\n",
      "\n",
      "{'accuracy': 0.9444444444444444, 'mean_square_error': 0.13918574181179416, 'categorical_crossentropy': 0.2710476804662634, 'essential_metrics': {0: {'tp_hit': 76, 'fp_hit': 9, 'tn_hit': 23, 'fn_hit': 0}, 1: {'tp_hit': 14, 'fp_hit': 0, 'tn_hit': 91, 'fn_hit': 3}, 2: {'tp_hit': 9, 'fp_hit': 0, 'tn_hit': 93, 'fn_hit': 6}}, 'checkpoint': 80} \n",
      "\n",
      "\n",
      "{'accuracy': 0.9753086419753086, 'mean_square_error': 0.10848058214003657, 'categorical_crossentropy': 0.23776506494592736, 'essential_metrics': {0: {'tp_hit': 76, 'fp_hit': 4, 'tn_hit': 28, 'fn_hit': 0}, 1: {'tp_hit': 16, 'fp_hit': 0, 'tn_hit': 91, 'fn_hit': 1}, 2: {'tp_hit': 12, 'fp_hit': 0, 'tn_hit': 93, 'fn_hit': 3}}, 'checkpoint': 90} \n",
      "\n",
      "\n",
      "{'accuracy': 0.9629629629629629, 'mean_square_error': 0.1075087420130654, 'categorical_crossentropy': 0.2243409686618381, 'essential_metrics': {0: {'tp_hit': 74, 'fp_hit': 4, 'tn_hit': 28, 'fn_hit': 2}, 1: {'tp_hit': 16, 'fp_hit': 0, 'tn_hit': 91, 'fn_hit': 1}, 2: {'tp_hit': 12, 'fp_hit': 2, 'tn_hit': 91, 'fn_hit': 3}}, 'checkpoint': 100} \n",
      "\n",
      "\n",
      "{'accuracy': 0.9691358024691358, 'mean_square_error': 0.08322449449273944, 'categorical_crossentropy': 0.16830216513739693, 'essential_metrics': {0: {'tp_hit': 75, 'fp_hit': 4, 'tn_hit': 28, 'fn_hit': 1}, 1: {'tp_hit': 16, 'fp_hit': 0, 'tn_hit': 91, 'fn_hit': 1}, 2: {'tp_hit': 12, 'fp_hit': 1, 'tn_hit': 92, 'fn_hit': 3}}, 'checkpoint': 110} \n",
      "\n",
      "\n",
      "{'accuracy': 0.9691358024691358, 'mean_square_error': 0.07650783618573727, 'categorical_crossentropy': 0.15422609117296007, 'essential_metrics': {0: {'tp_hit': 75, 'fp_hit': 4, 'tn_hit': 28, 'fn_hit': 1}, 1: {'tp_hit': 16, 'fp_hit': 0, 'tn_hit': 91, 'fn_hit': 1}, 2: {'tp_hit': 12, 'fp_hit': 1, 'tn_hit': 92, 'fn_hit': 3}}, 'checkpoint': 120} \n",
      "\n",
      "\n",
      "{'accuracy': 0.9753086419753086, 'mean_square_error': 0.06384391768310421, 'categorical_crossentropy': 0.12528171362700286, 'essential_metrics': {0: {'tp_hit': 75, 'fp_hit': 3, 'tn_hit': 29, 'fn_hit': 1}, 1: {'tp_hit': 16, 'fp_hit': 0, 'tn_hit': 91, 'fn_hit': 1}, 2: {'tp_hit': 13, 'fp_hit': 1, 'tn_hit': 92, 'fn_hit': 2}}, 'checkpoint': 130} \n",
      "\n",
      "\n",
      "{'accuracy': 0.9567901234567902, 'mean_square_error': 0.07603220702273109, 'categorical_crossentropy': 0.13643029001024035, 'essential_metrics': {0: {'tp_hit': 74, 'fp_hit': 5, 'tn_hit': 27, 'fn_hit': 2}, 1: {'tp_hit': 15, 'fp_hit': 0, 'tn_hit': 91, 'fn_hit': 2}, 2: {'tp_hit': 12, 'fp_hit': 2, 'tn_hit': 91, 'fn_hit': 3}}, 'checkpoint': 140} \n",
      "\n",
      "\n",
      "{'accuracy': 0.9753086419753086, 'mean_square_error': 0.06872170874575463, 'categorical_crossentropy': 0.12580914850588198, 'essential_metrics': {0: {'tp_hit': 75, 'fp_hit': 3, 'tn_hit': 29, 'fn_hit': 1}, 1: {'tp_hit': 16, 'fp_hit': 0, 'tn_hit': 91, 'fn_hit': 1}, 2: {'tp_hit': 13, 'fp_hit': 1, 'tn_hit': 92, 'fn_hit': 2}}, 'checkpoint': 150} \n",
      "\n",
      "\n",
      "{'accuracy': 0.9691358024691358, 'mean_square_error': 0.06457841327056252, 'categorical_crossentropy': 0.11894533369276258, 'essential_metrics': {0: {'tp_hit': 75, 'fp_hit': 4, 'tn_hit': 28, 'fn_hit': 1}, 1: {'tp_hit': 15, 'fp_hit': 0, 'tn_hit': 91, 'fn_hit': 2}, 2: {'tp_hit': 13, 'fp_hit': 1, 'tn_hit': 92, 'fn_hit': 2}}, 'checkpoint': 160} \n",
      "\n",
      "\n",
      "{'accuracy': 0.9753086419753086, 'mean_square_error': 0.051908737511868565, 'categorical_crossentropy': 0.10205116978398075, 'essential_metrics': {0: {'tp_hit': 76, 'fp_hit': 4, 'tn_hit': 28, 'fn_hit': 0}, 1: {'tp_hit': 15, 'fp_hit': 0, 'tn_hit': 91, 'fn_hit': 2}, 2: {'tp_hit': 13, 'fp_hit': 0, 'tn_hit': 93, 'fn_hit': 2}}, 'checkpoint': 170} \n",
      "\n",
      "\n",
      "{'accuracy': 0.9629629629629629, 'mean_square_error': 0.061284233750890316, 'categorical_crossentropy': 0.10861361468279804, 'essential_metrics': {0: {'tp_hit': 75, 'fp_hit': 5, 'tn_hit': 27, 'fn_hit': 1}, 1: {'tp_hit': 14, 'fp_hit': 0, 'tn_hit': 91, 'fn_hit': 3}, 2: {'tp_hit': 13, 'fp_hit': 1, 'tn_hit': 92, 'fn_hit': 2}}, 'checkpoint': 180} \n",
      "\n",
      "\n",
      "{'accuracy': 0.9691358024691358, 'mean_square_error': 0.07448789645001218, 'categorical_crossentropy': 0.12482583081280743, 'essential_metrics': {0: {'tp_hit': 76, 'fp_hit': 5, 'tn_hit': 27, 'fn_hit': 0}, 1: {'tp_hit': 14, 'fp_hit': 0, 'tn_hit': 91, 'fn_hit': 3}, 2: {'tp_hit': 13, 'fp_hit': 0, 'tn_hit': 93, 'fn_hit': 2}}, 'checkpoint': 190} \n",
      "\n",
      "\n",
      "{'accuracy': 0.9691358024691358, 'mean_square_error': 0.06582744714595155, 'categorical_crossentropy': 0.11243384855764883, 'essential_metrics': {0: {'tp_hit': 76, 'fp_hit': 5, 'tn_hit': 27, 'fn_hit': 0}, 1: {'tp_hit': 14, 'fp_hit': 0, 'tn_hit': 91, 'fn_hit': 3}, 2: {'tp_hit': 13, 'fp_hit': 0, 'tn_hit': 93, 'fn_hit': 2}}, 'checkpoint': 200} \n",
      "\n",
      "\n"
     ]
    }
   ],
   "source": [
    "for checkpoint in checkpoints:\n",
    "    print(checkpoint, '\\n\\n')"
   ]
  },
  {
   "cell_type": "code",
   "execution_count": 14,
   "metadata": {},
   "outputs": [
    {
     "name": "stdout",
     "output_type": "stream",
     "text": [
      "Layer 1\n",
      "Neuron 0: weights:\n",
      "[-2.3506405   3.          3.          1.6401091  -0.47757038]\n",
      " bias: -3.0\n",
      "\n",
      "Neuron 1: weights:\n",
      "[ 1.91142    -2.268446   -1.3742833   1.83236     0.03963032]\n",
      " bias: -2.8135080337524414\n",
      "\n",
      "Neuron 2: weights:\n",
      "[-0.04323674  2.0590303   1.4835454  -1.0121926  -0.43417555]\n",
      " bias: -0.8476963639259338\n",
      "\n",
      "Neuron 3: weights:\n",
      "[-0.2577903   3.          0.82463986 -0.45673695 -1.782074  ]\n",
      " bias: 3.0\n",
      "\n",
      "$\n",
      "Layer 2\n",
      "Neuron 0: weights:\n",
      "[-3.         -2.3833096  -0.19692935  3.        ]\n",
      " bias: 3.0\n",
      "\n",
      "Neuron 1: weights:\n",
      "[ 3.        -3.         3.         2.2834458]\n",
      " bias: -1.958919644355774\n",
      "\n",
      "Neuron 2: weights:\n",
      "[-0.8699512  3.        -1.9619845 -3.       ]\n",
      " bias: 2.222224712371826\n",
      "\n",
      "$\n",
      "\n"
     ]
    }
   ],
   "source": [
    "print(model)"
   ]
  }
 ],
 "metadata": {
  "kernelspec": {
   "display_name": "Python 3",
   "language": "python",
   "name": "python3"
  },
  "language_info": {
   "codemirror_mode": {
    "name": "ipython",
    "version": 3
   },
   "file_extension": ".py",
   "mimetype": "text/x-python",
   "name": "python",
   "nbconvert_exporter": "python",
   "pygments_lexer": "ipython3",
   "version": "3.6.12"
  }
 },
 "nbformat": 4,
 "nbformat_minor": 2
}
