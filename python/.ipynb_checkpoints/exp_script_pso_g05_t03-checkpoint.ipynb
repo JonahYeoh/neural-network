{
 "cells": [
  {
   "cell_type": "code",
   "execution_count": 1,
   "metadata": {},
   "outputs": [],
   "source": [
    "# dependency\n",
    "import numpy as np\n",
    "import pandas as pd\n",
    "import copy\n",
    "import math\n",
    "import sys\n",
    "import os\n",
    "from activations import relu, leaky_relu, sigmoid, tanh, softmax, d_sigmoid, d_relu\n",
    "from initializers import glorot_uniform, random_normal, random_uniform\n",
    "from regularizers import l1_regularizer, l2_regularizer\n",
    "from utility import trim_tail, multiply, subtract, get_nparams, one_hot_encoding, get_data\n",
    "from metrics import MSE, CCE, ACC, PRECISION, RECALL, essential_metrics, wondering_penalty, close_gap_penalty\n",
    "from pso import PSO\n",
    "from ga import GA\n",
    "from nn import Network\n",
    "from layer import DenseLayer\n",
    "from scalers import MinMaxScaler, StandardScaler"
   ]
  },
  {
   "cell_type": "code",
   "execution_count": 2,
   "metadata": {},
   "outputs": [],
   "source": [
    "# reference\n",
    "metrics_fn_dict = dict()\n",
    "metrics_fn_dict['accuracy'] = ACC\n",
    "metrics_fn_dict['categorical_crossentropy'] = CCE\n",
    "metrics_fn_dict['mean_square_error'] = MSE\n",
    "metrics_fn_dict['precision'] = PRECISION\n",
    "metrics_fn_dict['recall'] = RECALL\n",
    "metrics_fn_dict['essential_metrics'] = essential_metrics"
   ]
  },
  {
   "cell_type": "code",
   "execution_count": 3,
   "metadata": {},
   "outputs": [],
   "source": [
    "# model\n",
    "model = Network(5, lr = None)\n",
    "model.add_layer(DenseLayer(1, 4, True, afn=sigmoid, dafn=None, rfn=None))\n",
    "model.add_layer(DenseLayer(2, 3, True, afn=softmax, dafn=None, rfn=None))"
   ]
  },
  {
   "cell_type": "code",
   "execution_count": 4,
   "metadata": {},
   "outputs": [],
   "source": [
    "pso = PSO(dict(m = 50,\n",
    "    weight_constraint = [-3, 3], \n",
    "    velocity_constraint = [-0.5, 0.5],\n",
    "    c1 = 2.0,\n",
    "    c2 = 2.0,\n",
    "    w = 1.2,\n",
    "    w_decay = 0.95,\n",
    "    scale_hyperparameter = False))"
   ]
  },
  {
   "cell_type": "code",
   "execution_count": 5,
   "metadata": {},
   "outputs": [
    {
     "name": "stdout",
     "output_type": "stream",
     "text": [
      "building layer 1 with 5\n",
      "24\n",
      "building layer 2 with 4\n",
      "15\n"
     ]
    }
   ],
   "source": [
    "model.compile(loss_fn = 'categorical_crossentropy', optimizer = pso, \\\n",
    "    metrics = ['accuracy', 'mean_square_error', 'categorical_crossentropy', 'precision', 'recall', 'f1'])"
   ]
  },
  {
   "cell_type": "code",
   "execution_count": 6,
   "metadata": {},
   "outputs": [
    {
     "name": "stdout",
     "output_type": "stream",
     "text": [
      "<class 'pandas.core.frame.DataFrame'>\n",
      "RangeIndex: 107 entries, 0 to 106\n",
      "Data columns (total 6 columns):\n",
      " #   Column  Non-Null Count  Dtype  \n",
      "---  ------  --------------  -----  \n",
      " 0   f1      107 non-null    float32\n",
      " 1   f2      107 non-null    float32\n",
      " 2   f3      107 non-null    float32\n",
      " 3   f4      107 non-null    float32\n",
      " 4   f5      107 non-null    float32\n",
      " 5   label   107 non-null    float32\n",
      "dtypes: float32(6)\n",
      "memory usage: 2.6 KB\n",
      "None\n",
      "<class 'pandas.core.frame.DataFrame'>\n",
      "RangeIndex: 108 entries, 0 to 107\n",
      "Data columns (total 6 columns):\n",
      " #   Column  Non-Null Count  Dtype  \n",
      "---  ------  --------------  -----  \n",
      " 0   f1      108 non-null    float32\n",
      " 1   f2      108 non-null    float32\n",
      " 2   f3      108 non-null    float32\n",
      " 3   f4      108 non-null    float32\n",
      " 4   f5      108 non-null    float32\n",
      " 5   label   108 non-null    float32\n",
      "dtypes: float32(6)\n",
      "memory usage: 2.7 KB\n",
      "None\n"
     ]
    }
   ],
   "source": [
    "# data loading\n",
    "DATA = os.path.join('c:\\\\Users\\\\tcumi\\\\github_repo\\\\neural-network\\\\', 'dataset')\n",
    "GROUP = 3\n",
    "COLUMNS = ['f1', 'f2', 'f3', 'f4', 'f5', 'label']\n",
    "N_CLASS = 3\n",
    "EPOCHS = 500\n",
    "train_dir, test_dir = \"..//dataset//training_data{}.txt\".format(GROUP), \"..//dataset//testing_data{}.txt\".format(GROUP)\n",
    "train, test = get_data(DATA, train_dir, COLUMNS), get_data(DATA, test_dir, COLUMNS)\n",
    "# shuffle\n",
    "train, test = train.sample(frac=1), test.sample(frac=1)\n",
    "x_train, y_train = train.drop('label', axis=1), train['label']\n",
    "x_test, y_test = test.drop('label', axis=1), test['label']"
   ]
  },
  {
   "cell_type": "code",
   "execution_count": 7,
   "metadata": {},
   "outputs": [],
   "source": [
    "# data scaling and encoding\n",
    "scaler = StandardScaler(['f1', 'f2', 'f3', 'f4', 'f5'])\n",
    "scaler.fit(x_train)\n",
    "x_train = scaler.transform(x_train)\n",
    "x_test = scaler.transform(x_test)\n",
    "y_train = one_hot_encoding(y_train, N_CLASS)\n",
    "y_test = one_hot_encoding(y_test, N_CLASS)"
   ]
  },
  {
   "cell_type": "code",
   "execution_count": 8,
   "metadata": {
    "tags": [
     "outputPrepend"
    ]
   },
   "outputs": [
    {
     "name": "stderr",
     "output_type": "stream",
     "text": [
      "C:\\Users\\tcumi\\github_repo\\neural-network\\python\\activations.py:14: RuntimeWarning: overflow encountered in exp\n",
      "  y = 1 / (1 + np.exp(-Xi))\n"
     ]
    },
    {
     "name": "stdout",
     "output_type": "stream",
     "text": [
      "Checkpoint 100, Accuracy: 0.9382716049382716, Loss: 0.3493183277271412\n",
      "Checkpoint 200, Accuracy: 0.9382716049382716, Loss: 0.3493183277271412\n",
      "Checkpoint 300, Accuracy: 0.9382716049382716, Loss: 0.3493183277271412\n",
      "Checkpoint 400, Accuracy: 0.9382716049382716, Loss: 0.3493183277271412\n",
      "Checkpoint 500, Accuracy: 0.9382716049382716, Loss: 0.3493183277271412\n"
     ]
    }
   ],
   "source": [
    "# learning phase\n",
    "breakpoint = 100\n",
    "checkpoints = list()\n",
    "history = list()\n",
    "for century in range(0, EPOCHS, breakpoint):\n",
    "    sub_history = model.fit(x_train, y_train, breakpoint, verbose = 0)\n",
    "    score = model.evaluate(x_test, y_test, False, verbose = 0)\n",
    "    print('Checkpoint {}, Accuracy: {}, Loss: {}'.format(century+breakpoint, score['accuracy'], score[model.loss_fn]))\n",
    "    score['checkpoint'] = century + breakpoint\n",
    "    checkpoints.append(score)\n",
    "    history.extend(sub_history)"
   ]
  },
  {
   "cell_type": "code",
   "execution_count": 9,
   "metadata": {},
   "outputs": [],
   "source": [
    "import matplotlib.pyplot as plt\n",
    "\n",
    "def draw_plot(x, y_list, x_label=None, y_label=None, legend=None, title=None):\n",
    "    fig, ax = plt.subplots(figsize=(12,5))\n",
    "    for y in y_list:\n",
    "        ax.plot(x, y)\n",
    "    if x_label is not None and y_label is not None and title is not None:\n",
    "        ax.set(xlabel=x_label, ylabel=y_label, title=title)\n",
    "    if legend is not None:\n",
    "        ax.legend(legend)\n",
    "    ax.grid()\n",
    "    plt.show()"
   ]
  },
  {
   "cell_type": "code",
   "execution_count": 10,
   "metadata": {},
   "outputs": [
    {
     "data": {
      "image/png": "[encoded data removed]",
      "text/plain": [
       "<Figure size 864x360 with 1 Axes>"
      ]
     },
     "metadata": {
      "needs_background": "light"
     },
     "output_type": "display_data"
    }
   ],
   "source": [
    "draw_plot(x = [i for i in range(len(history))], y_list = [history], x_label = 'Epochs', \\\n",
    "    y_label = model.loss_fn)"
   ]
  },
  {
   "cell_type": "code",
   "execution_count": 11,
   "metadata": {},
   "outputs": [
    {
     "name": "stdout",
     "output_type": "stream",
     "text": [
      "[1. 0. 0.] <-> [0.9719734  0.01971535 0.00831118]\n",
      "[0. 1. 0.] <-> [0.156782   0.8111944  0.03202354]\n",
      "[1. 0. 0.] <-> [0.9643226  0.02480515 0.01087224]\n",
      "[1. 0. 0.] <-> [0.8960528  0.05618449 0.04776276]\n",
      "[1. 0. 0.] <-> [0.9404093  0.03943989 0.0201508 ]\n",
      "[1. 0. 0.] <-> [0.95885575 0.01953382 0.02161042]\n",
      "[1. 0. 0.] <-> [0.8524671  0.14333275 0.00420013]\n",
      "[1. 0. 0.] <-> [0.9778256  0.01404061 0.00813386]\n",
      "[1. 0. 0.] <-> [0.95560694 0.01891616 0.02547689]\n",
      "[1. 0. 0.] <-> [0.95266134 0.0232242  0.02411455]\n",
      "[1. 0. 0.] <-> [0.97502387 0.01304812 0.01192805]\n",
      "[1. 0. 0.] <-> [0.88278073 0.03952731 0.07769191]\n",
      "[0. 1. 0.] <-> [0.61071473 0.36819193 0.02109332]\n",
      "[0. 1. 0.] <-> [0.8641198  0.13309696 0.0027833 ]\n",
      "[1. 0. 0.] <-> [0.94604653 0.04049737 0.01345604]\n",
      "[1. 0. 0.] <-> [0.9570028  0.02456738 0.01842984]\n",
      "[0. 0. 1.] <-> [0.49266964 0.1244313  0.3828991 ]\n",
      "[0. 0. 1.] <-> [0.95616055 0.01978059 0.02405886]\n",
      "[1. 0. 0.] <-> [0.95164263 0.01920229 0.02915509]\n",
      "[1. 0. 0.] <-> [0.7907782  0.18463823 0.02458351]\n",
      "[1. 0. 0.] <-> [0.88912106 0.0603996  0.05047943]\n",
      "[0. 0. 1.] <-> [0.51505464 0.13114977 0.3537956 ]\n",
      "[0. 0. 1.] <-> [0.3947959  0.14909059 0.45611355]\n",
      "[1. 0. 0.] <-> [0.98103714 0.00904306 0.00991979]\n",
      "[1. 0. 0.] <-> [0.92016524 0.0301177  0.04971716]\n",
      "[1. 0. 0.] <-> [0.92525214 0.06640866 0.00833927]\n",
      "[1. 0. 0.] <-> [0.9233355  0.03056953 0.04609492]\n",
      "[1. 0. 0.] <-> [0.90834385 0.0605258  0.03113041]\n",
      "[0. 0. 1.] <-> [0.5238443  0.11310746 0.3630483 ]\n",
      "[0. 1. 0.] <-> [0.2902543  0.68051183 0.02923388]\n",
      "[1. 0. 0.] <-> [0.88189226 0.03994383 0.07816387]\n",
      "[1. 0. 0.] <-> [0.7003672  0.15851066 0.1411221 ]\n",
      "[0. 0. 1.] <-> [0.38531497 0.1517362  0.4629489 ]\n",
      "[1. 0. 0.] <-> [0.9720124  0.01671727 0.01127036]\n",
      "[0. 1. 0.] <-> [0.28791407 0.6865725  0.02551345]\n",
      "[0. 1. 0.] <-> [0.53547704 0.4510776  0.0134454 ]\n",
      "[1. 0. 0.] <-> [0.8178184  0.07445709 0.10772444]\n",
      "[1. 0. 0.] <-> [0.7944665  0.12596062 0.07957288]\n",
      "[1. 0. 0.] <-> [0.9764072  0.01585205 0.00774076]\n",
      "[1. 0. 0.] <-> [0.8878229  0.08047646 0.03170065]\n",
      "[1. 0. 0.] <-> [0.8368592  0.07709734 0.08604348]\n",
      "[1. 0. 0.] <-> [0.9072307  0.08940496 0.00336435]\n",
      "[1. 0. 0.] <-> [0.9781753  0.01004593 0.01177873]\n",
      "[0. 0. 1.] <-> [0.40525255 0.14582302 0.44892442]\n",
      "[1. 0. 0.] <-> [0.9435748  0.03078142 0.0256439 ]\n",
      "[0. 0. 1.] <-> [0.40673319 0.14541659 0.44785026]\n",
      "[0. 1. 0.] <-> [0.21597359 0.75314546 0.03088091]\n",
      "[1. 0. 0.] <-> [0.9590295  0.033871   0.00709953]\n",
      "[1. 0. 0.] <-> [0.94409776 0.02359521 0.03230698]\n",
      "[1. 0. 0.] <-> [0.9457975  0.04289856 0.01130402]\n",
      "[1. 0. 0.] <-> [0.8303692  0.06112513 0.10850567]\n",
      "[1. 0. 0.] <-> [0.80925816 0.1859238  0.00481806]\n",
      "[1. 0. 0.] <-> [0.96924454 0.02277547 0.00797996]\n",
      "[1. 0. 0.] <-> [0.9749169  0.0176045  0.00747858]\n",
      "[0. 1. 0.] <-> [0.1278998  0.8389003  0.03319984]\n",
      "[1. 0. 0.] <-> [0.9230703  0.0614378  0.01549191]\n",
      "[1. 0. 0.] <-> [0.9232372  0.05347855 0.02328427]\n",
      "[0. 1. 0.] <-> [0.33503067 0.63468736 0.03028192]\n",
      "[1. 0. 0.] <-> [0.97970486 0.00949747 0.01079766]\n",
      "[1. 0. 0.] <-> [0.6898841  0.17848973 0.13162616]\n",
      "[1. 0. 0.] <-> [0.97609055 0.01360006 0.01030943]\n",
      "[0. 1. 0.] <-> [0.46293166 0.48052377 0.05654461]\n",
      "[0. 1. 0.] <-> [0.40220907 0.5755801  0.02221077]\n",
      "[1. 0. 0.] <-> [0.96954274 0.01444264 0.01601456]\n",
      "[0. 1. 0.] <-> [0.37323004 0.60674334 0.0200266 ]\n",
      "[1. 0. 0.] <-> [0.9045379  0.03998109 0.05548102]\n",
      "[1. 0. 0.] <-> [0.95822716 0.02130844 0.0204643 ]\n",
      "[1. 0. 0.] <-> [0.7781373  0.13122414 0.09063852]\n",
      "[1. 0. 0.] <-> [0.94059813 0.02693687 0.032465  ]\n",
      "[1. 0. 0.] <-> [0.9738253  0.01111653 0.01505818]\n",
      "[1. 0. 0.] <-> [0.97280914 0.01303067 0.01416026]\n",
      "[1. 0. 0.] <-> [0.9697815  0.02428004 0.00593846]\n",
      "[1. 0. 0.] <-> [0.92161256 0.07466847 0.00371887]\n",
      "[1. 0. 0.] <-> [0.7653045  0.06443021 0.17026536]\n",
      "[1. 0. 0.] <-> [0.948242   0.04454285 0.00721505]\n",
      "[1. 0. 0.] <-> [0.85470587 0.04403636 0.10125782]\n",
      "[0. 1. 0.] <-> [0.1231272  0.84370536 0.0331675 ]\n",
      "[1. 0. 0.] <-> [0.66520894 0.11052275 0.2242683 ]\n",
      "[1. 0. 0.] <-> [0.9754964  0.01081265 0.01369091]\n",
      "[1. 0. 0.] <-> [0.9577309  0.01801913 0.02424994]\n",
      "[1. 0. 0.] <-> [0.97637033 0.01037577 0.01325382]\n",
      "[0. 0. 1.] <-> [0.39396515 0.15374225 0.4522926 ]\n",
      "[1. 0. 0.] <-> [0.9745034  0.01724691 0.00824971]\n",
      "[0. 0. 1.] <-> [0.8368182  0.05088712 0.11229466]\n",
      "[0. 0. 1.] <-> [0.97026217 0.01343936 0.01629845]\n",
      "[1. 0. 0.] <-> [0.97605705 0.01205859 0.01188443]\n",
      "[1. 0. 0.] <-> [0.9809702  0.00909399 0.00993577]\n",
      "[1. 0. 0.] <-> [0.9708855  0.01956473 0.00954982]\n",
      "[1. 0. 0.] <-> [0.9783198  0.01253986 0.00914034]\n",
      "[1. 0. 0.] <-> [0.96814036 0.01797774 0.01388187]\n",
      "[0. 1. 0.] <-> [0.47577748 0.49751133 0.02671119]\n",
      "[1. 0. 0.] <-> [0.9782833  0.01095567 0.01076101]\n",
      "[0. 1. 0.] <-> [0.12149481 0.84545374 0.03305143]\n",
      "[1. 0. 0.] <-> [0.8287975  0.09032834 0.08087417]\n",
      "[1. 0. 0.] <-> [0.82540107 0.14926317 0.02533573]\n",
      "[1. 0. 0.] <-> [0.97933125 0.00930641 0.01136238]\n",
      "[1. 0. 0.] <-> [0.96429837 0.01770338 0.01799827]\n",
      "[1. 0. 0.] <-> [0.95085335 0.02930367 0.01984303]\n",
      "[1. 0. 0.] <-> [0.9521104  0.02807977 0.01980978]\n",
      "[1. 0. 0.] <-> [0.9801134  0.01153828 0.0083483 ]\n",
      "[1. 0. 0.] <-> [0.97358716 0.01519518 0.01121771]\n",
      "[1. 0. 0.] <-> [0.9716135  0.01645603 0.01193044]\n",
      "[1. 0. 0.] <-> [0.88524944 0.04859015 0.06616041]\n",
      "[1. 0. 0.] <-> [0.97903305 0.00949236 0.01147459]\n",
      "[1. 0. 0.] <-> [0.98082066 0.00927707 0.00990235]\n",
      "[0. 0. 1.] <-> [0.9802419  0.00903196 0.01072613]\n",
      "[0. 0. 1.] <-> [0.3971558  0.1495615  0.45328268]\n",
      "[1. 0. 0.] <-> [0.8847283  0.03698656 0.07828522]\n",
      "{'accuracy': 0.9382716049382716, 'mean_square_error': 0.17556975308427558, 'categorical_crossentropy': 0.3493183277271412, 'precision': 0.9074074074074074, 'recall': 0.9074074074074074, 'f1': 0.9074074074074074, 'essential_metrics': {0: {'tp_hit': 80, 'fp_hit': 10, 'tn_hit': 18, 'fn_hit': 0}, 1: {'tp_hit': 12, 'fp_hit': 0, 'tn_hit': 93, 'fn_hit': 3}, 2: {'tp_hit': 6, 'fp_hit': 0, 'tn_hit': 95, 'fn_hit': 7}}}\n"
     ]
    }
   ],
   "source": [
    "# recall phase\n",
    "score = model.evaluate(x_test, y_test, False)\n",
    "print(score)"
   ]
  },
  {
   "cell_type": "code",
   "execution_count": 12,
   "metadata": {},
   "outputs": [
    {
     "data": {
      "image/png": "[encoded data removed]",
      "text/plain": [
       "<Figure size 864x360 with 1 Axes>"
      ]
     },
     "metadata": {
      "needs_background": "light"
     },
     "output_type": "display_data"
    }
   ],
   "source": [
    "cat_cross = [ ckp[model.loss_fn] for ckp in checkpoints ]\n",
    "draw_plot(x = [(i+1)*breakpoint for i in range(len(checkpoints))], y_list = [cat_cross], x_label = 'Checkpoints', \\\n",
    "    y_label = model.loss_fn)"
   ]
  },
  {
   "cell_type": "code",
   "execution_count": 13,
   "metadata": {},
   "outputs": [
    {
     "data": {
      "image/png": "[encoded data removed]",
      "text/plain": [
       "<Figure size 864x360 with 1 Axes>"
      ]
     },
     "metadata": {
      "needs_background": "light"
     },
     "output_type": "display_data"
    }
   ],
   "source": [
    "acc = [ ckp['accuracy'] for ckp in checkpoints ]\n",
    "draw_plot(x = [(i+1)*breakpoint for i in range(len(checkpoints))], y_list = [acc], x_label = 'Checkpoints', \\\n",
    "    y_label = 'accuracy')"
   ]
  },
  {
   "cell_type": "code",
   "execution_count": 14,
   "metadata": {},
   "outputs": [
    {
     "name": "stdout",
     "output_type": "stream",
     "text": [
      "Layer 1\n",
      "Neuron 0: weights:\n",
      "[-1.17536215 -2.65815584 -2.19016765 -2.5686405  -1.49338039]\n",
      " bias: -0.27471193222526047\n",
      "\n",
      "Neuron 1: weights:\n",
      "[-2.96935311  2.68946777 -0.61052857  2.16526573  0.00924422]\n",
      " bias: -2.725875350488111\n",
      "\n",
      "Neuron 2: weights:\n",
      "[ 2.09148322 -2.14923783 -2.45960914 -0.6985037   2.41899621]\n",
      " bias: 0.7434558185328548\n",
      "\n",
      "Neuron 3: weights:\n",
      "[-1.03220495 -2.40377698  2.79784355  2.15795132  0.21412902]\n",
      " bias: -1.5393057640143348\n",
      "\n",
      "$\n",
      "Layer 2\n",
      "Neuron 0: weights:\n",
      "[ 2.58916984 -0.96956966  0.78032915  1.54423185]\n",
      " bias: 0.5250777580096182\n",
      "\n",
      "Neuron 1: weights:\n",
      "[-0.33922595 -0.64478679 -1.79072815  2.53385722]\n",
      " bias: 1.1673684252520289\n",
      "\n",
      "Neuron 2: weights:\n",
      "[-1.34922245 -0.57629209  2.62818109  2.42259363]\n",
      " bias: -2.026415421873107\n",
      "\n",
      "$\n",
      "\n"
     ]
    }
   ],
   "source": [
    "print(model)"
   ]
  }
 ],
 "metadata": {
  "kernelspec": {
   "display_name": "Python 3",
   "language": "python",
   "name": "python3"
  },
  "language_info": {
   "codemirror_mode": {
    "name": "ipython",
    "version": 3
   },
   "file_extension": ".py",
   "mimetype": "text/x-python",
   "name": "python",
   "nbconvert_exporter": "python",
   "pygments_lexer": "ipython3",
   "version": "3.6.10"
  }
 },
 "nbformat": 4,
 "nbformat_minor": 2
}
