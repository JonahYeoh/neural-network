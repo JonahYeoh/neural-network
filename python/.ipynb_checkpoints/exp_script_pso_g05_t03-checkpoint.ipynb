{
 "cells": [
  {
   "cell_type": "code",
   "execution_count": 1,
   "metadata": {},
   "outputs": [],
   "source": [
    "# dependency\n",
    "import numpy as np\n",
    "import pandas as pd\n",
    "import copy\n",
    "import math\n",
    "import sys\n",
    "import os\n",
    "from activations import relu, leaky_relu, sigmoid, tanh, softmax, d_sigmoid, d_relu\n",
    "from initializers import glorot_uniform, random_normal, random_uniform\n",
    "from regularizers import l1_regularizer, l2_regularizer\n",
    "from utility import trim_tail, multiply, subtract, get_nparams, one_hot_encoding, get_data\n",
    "from metrics import MSE, CCE, ACC, PRECISION, RECALL, essential_metrics, wondering_penalty, close_gap_penalty\n",
    "from pso import PSO\n",
    "from ga import GA\n",
    "from nn import Network\n",
    "from layer import DenseLayer\n",
    "from scalers import MinMaxScaler, StandardScaler"
   ]
  },
  {
   "cell_type": "code",
   "execution_count": 2,
   "metadata": {},
   "outputs": [],
   "source": [
    "# reference\n",
    "metrics_fn_dict = dict()\n",
    "metrics_fn_dict['accuracy'] = ACC\n",
    "metrics_fn_dict['categorical_crossentropy'] = CCE\n",
    "metrics_fn_dict['mean_square_error'] = MSE\n",
    "metrics_fn_dict['precision'] = PRECISION\n",
    "metrics_fn_dict['recall'] = RECALL\n",
    "metrics_fn_dict['essential_metrics'] = essential_metrics"
   ]
  },
  {
   "cell_type": "code",
   "execution_count": 3,
   "metadata": {},
   "outputs": [],
   "source": [
    "# model\n",
    "model = Network(5, lr = None)\n",
    "model.add_layer(DenseLayer(1, 4, True, afn=sigmoid, dafn=None, rfn=None))\n",
    "model.add_layer(DenseLayer(2, 3, True, afn=softmax, dafn=None, rfn=None))"
   ]
  },
  {
   "cell_type": "code",
   "execution_count": 4,
   "metadata": {},
   "outputs": [
    {
     "name": "stdout",
     "output_type": "stream",
     "text": [
      "see one see two 2 2\n"
     ]
    }
   ],
   "source": [
    "pso = PSO(dict(m = 50,\n",
    "    weight_constraint = [-3, 3], \n",
    "    velocity_constraint = [-0.1, 0.1],\n",
    "    c1 = 2,\n",
    "    c2 = 2,\n",
    "    w = 1,\n",
    "    w_decay = 1,\n",
    "    scale_hyperparameter = False,\n",
    "    regularizer = l1_regularizer,\n",
    "    mask = True))"
   ]
  },
  {
   "cell_type": "code",
   "execution_count": 5,
   "metadata": {},
   "outputs": [
    {
     "name": "stdout",
     "output_type": "stream",
     "text": [
      "building layer 1 with 5\n",
      "24\n",
      "building layer 2 with 4\n",
      "15\n"
     ]
    }
   ],
   "source": [
    "model.compile(loss_fn = 'categorical_crossentropy', optimizer = pso, \\\n",
    "    metrics = ['accuracy', 'mean_square_error', 'categorical_crossentropy'])"
   ]
  },
  {
   "cell_type": "code",
   "execution_count": 6,
   "metadata": {},
   "outputs": [
    {
     "name": "stdout",
     "output_type": "stream",
     "text": [
      "<class 'pandas.core.frame.DataFrame'>\n",
      "RangeIndex: 107 entries, 0 to 106\n",
      "Data columns (total 6 columns):\n",
      " #   Column  Non-Null Count  Dtype  \n",
      "---  ------  --------------  -----  \n",
      " 0   f1      107 non-null    float32\n",
      " 1   f2      107 non-null    float32\n",
      " 2   f3      107 non-null    float32\n",
      " 3   f4      107 non-null    float32\n",
      " 4   f5      107 non-null    float32\n",
      " 5   label   107 non-null    float32\n",
      "dtypes: float32(6)\n",
      "memory usage: 2.6 KB\n",
      "None\n",
      "<class 'pandas.core.frame.DataFrame'>\n",
      "RangeIndex: 108 entries, 0 to 107\n",
      "Data columns (total 6 columns):\n",
      " #   Column  Non-Null Count  Dtype  \n",
      "---  ------  --------------  -----  \n",
      " 0   f1      108 non-null    float32\n",
      " 1   f2      108 non-null    float32\n",
      " 2   f3      108 non-null    float32\n",
      " 3   f4      108 non-null    float32\n",
      " 4   f5      108 non-null    float32\n",
      " 5   label   108 non-null    float32\n",
      "dtypes: float32(6)\n",
      "memory usage: 2.7 KB\n",
      "None\n"
     ]
    }
   ],
   "source": [
    "# data loading\n",
    "DATA = os.path.join('c:\\\\Users\\\\tcumi\\\\github_repo\\\\neural-network\\\\', 'dataset')\n",
    "GROUP = 5\n",
    "COLUMNS = ['f1', 'f2', 'f3', 'f4', 'f5', 'label']\n",
    "N_CLASS = 3\n",
    "EPOCHS = 500\n",
    "train_dir, test_dir = \"..//dataset//training_data{}.txt\".format(GROUP), \"..//dataset//testing_data{}.txt\".format(GROUP)\n",
    "train, test = get_data(DATA, train_dir, COLUMNS), get_data(DATA, test_dir, COLUMNS)\n",
    "# shuffle\n",
    "train, test = train.sample(frac=1), test.sample(frac=1)\n",
    "x_train, y_train = train.drop('label', axis=1), train['label']\n",
    "x_test, y_test = test.drop('label', axis=1), test['label']"
   ]
  },
  {
   "cell_type": "code",
   "execution_count": 7,
   "metadata": {},
   "outputs": [],
   "source": [
    "# data scaling and encoding\n",
    "scaler = StandardScaler(['f1', 'f2', 'f3', 'f4', 'f5'])\n",
    "scaler.fit(x_train)\n",
    "x_train = scaler.transform(x_train)\n",
    "x_test = scaler.transform(x_test)\n",
    "y_train = one_hot_encoding(y_train, N_CLASS)\n",
    "y_test = one_hot_encoding(y_test, N_CLASS)"
   ]
  },
  {
   "cell_type": "code",
   "execution_count": 8,
   "metadata": {
    "tags": [
     "outputPrepend"
    ]
   },
   "outputs": [
    {
     "name": "stdout",
     "output_type": "stream",
     "text": [
      "Checkpoint 100, Accuracy: 0.9259259259259259, Loss: 0.3350841027719003\n",
      "Checkpoint 200, Accuracy: 0.9567901234567902, Loss: 0.1965643388253671\n",
      "Checkpoint 300, Accuracy: 0.9691358024691358, Loss: 0.18738282168353046\n",
      "Checkpoint 400, Accuracy: 0.9567901234567902, Loss: 0.1895602367542408\n",
      "Checkpoint 500, Accuracy: 0.9567901234567902, Loss: 0.18384211151688187\n"
     ]
    }
   ],
   "source": [
    "# learning phase\n",
    "breakpoint = 100\n",
    "checkpoints = list()\n",
    "history = list()\n",
    "for century in range(0, EPOCHS, breakpoint):\n",
    "    sub_history = model.fit(x_train, y_train, breakpoint, verbose = 0)\n",
    "    score = model.evaluate(x_test, y_test, False, verbose = 0)\n",
    "    print('Checkpoint {}, Accuracy: {}, Loss: {}'.format(century+breakpoint, score['accuracy'], score[model.loss_fn]))\n",
    "    score['checkpoint'] = century + breakpoint\n",
    "    checkpoints.append(score)\n",
    "    history.extend(sub_history)"
   ]
  },
  {
   "cell_type": "code",
   "execution_count": 9,
   "metadata": {},
   "outputs": [],
   "source": [
    "import matplotlib.pyplot as plt\n",
    "\n",
    "def draw_plot(x, y_list, x_label=None, y_label=None, legend=None, title=None):\n",
    "    fig, ax = plt.subplots(figsize=(12,5))\n",
    "    for xi, yi in zip(x, y_list):\n",
    "        ax.plot(xi, yi)\n",
    "    if x_label is not None and y_label is not None:\n",
    "        ax.set(xlabel=x_label, ylabel=y_label, title='{} VS {}'.format(x_label, y_label))\n",
    "    if legend is not None:\n",
    "        ax.legend(legend)\n",
    "    ax.grid()\n",
    "    plt.show()"
   ]
  },
  {
   "cell_type": "code",
   "execution_count": 10,
   "metadata": {},
   "outputs": [
    {
     "name": "stdout",
     "output_type": "stream",
     "text": [
      "[0. 0. 1.] <-> [0.05531107 0.00447351 0.94021547]\n",
      "[1. 0. 0.] <-> [0.9354678  0.05058681 0.01394545]\n",
      "[0. 0. 1.] <-> [0.1261011  0.00972021 0.86417866]\n",
      "[1. 0. 0.] <-> [0.945884   0.02825991 0.02585611]\n",
      "[1. 0. 0.] <-> [0.92953116 0.03014726 0.04032152]\n",
      "[1. 0. 0.] <-> [0.8600286  0.03191791 0.10805347]\n",
      "[1. 0. 0.] <-> [0.9493306  0.04306719 0.0076023 ]\n",
      "[0. 0. 1.] <-> [0.74176    0.03078786 0.22745205]\n",
      "[0. 1. 0.] <-> [0.39630392 0.59680426 0.00689175]\n",
      "[1. 0. 0.] <-> [0.9507913  0.02957894 0.01962981]\n",
      "[1. 0. 0.] <-> [0.95222425 0.02737579 0.02039994]\n",
      "[1. 0. 0.] <-> [0.88722044 0.02950543 0.0832741 ]\n",
      "[1. 0. 0.] <-> [0.95390713 0.02972788 0.01636496]\n",
      "[1. 0. 0.] <-> [0.95095867 0.03821653 0.01082477]\n",
      "[1. 0. 0.] <-> [0.9296911  0.05597923 0.01432975]\n",
      "[0. 0. 1.] <-> [0.23438504 0.0177802  0.7478348 ]\n",
      "[1. 0. 0.] <-> [0.8214804  0.02862747 0.14989205]\n",
      "[0. 0. 1.] <-> [0.78530926 0.03158491 0.18310586]\n",
      "[1. 0. 0.] <-> [0.93073237 0.03012653 0.03914112]\n",
      "[0. 1. 0.] <-> [0.09619851 0.90197915 0.0018223 ]\n",
      "[1. 0. 0.] <-> [0.9485474  0.03730394 0.01414866]\n",
      "[1. 0. 0.] <-> [0.93621653 0.04871586 0.01506759]\n",
      "[1. 0. 0.] <-> [0.93095434 0.02534837 0.04369728]\n",
      "[1. 0. 0.] <-> [0.95409137 0.030196   0.01571257]\n",
      "[1. 0. 0.] <-> [0.8643138  0.0284941  0.10719204]\n",
      "[0. 0. 1.] <-> [0.10344856 0.00844655 0.88810486]\n",
      "[1. 0. 0.] <-> [0.9370665  0.03583695 0.02709655]\n",
      "[1. 0. 0.] <-> [0.85233545 0.13411988 0.01354465]\n",
      "[1. 0. 0.] <-> [0.8858372  0.03216193 0.08200088]\n",
      "[1. 0. 0.] <-> [0.9441979  0.03103489 0.02476717]\n",
      "[0. 1. 0.] <-> [0.11536717 0.88128674 0.00334604]\n",
      "[1. 0. 0.] <-> [0.91213757 0.02980913 0.05805334]\n",
      "[0. 0. 1.] <-> [0.0641657  0.00518501 0.9306492 ]\n",
      "[1. 0. 0.] <-> [0.95108026 0.02862675 0.02029299]\n",
      "[1. 0. 0.] <-> [0.855121   0.03000518 0.11487383]\n",
      "[1. 0. 0.] <-> [0.90899426 0.02901321 0.06199254]\n",
      "[1. 0. 0.] <-> [0.91955    0.05527364 0.02517623]\n",
      "[1. 0. 0.] <-> [0.93842876 0.03306268 0.02850862]\n",
      "[0. 1. 0.] <-> [0.09717134 0.9008232  0.0020055 ]\n",
      "[1. 0. 0.] <-> [0.949058   0.03483402 0.01610787]\n",
      "[1. 0. 0.] <-> [0.7851182  0.02889477 0.185987  ]\n",
      "[1. 0. 0.] <-> [0.9515228  0.04067913 0.00779808]\n",
      "[1. 0. 0.] <-> [0.9535252  0.03023952 0.01623538]\n",
      "[1. 0. 0.] <-> [0.9494145  0.03516695 0.01541853]\n",
      "[1. 0. 0.] <-> [0.9538975  0.02662407 0.01947839]\n",
      "[0. 1. 0.] <-> [0.09542163 0.9029532  0.00162518]\n",
      "[1. 0. 0.] <-> [0.8577251  0.03088191 0.11139301]\n",
      "[0. 0. 1.] <-> [0.20082398 0.01484009 0.784336  ]\n",
      "[1. 0. 0.] <-> [0.95385695 0.0369689  0.00917411]\n",
      "[1. 0. 0.] <-> [0.92246807 0.04127083 0.03626113]\n",
      "[0. 1. 0.] <-> [0.7809656  0.207066   0.01196835]\n",
      "[1. 0. 0.] <-> [0.94963676 0.04153828 0.00882496]\n",
      "[0. 0. 1.] <-> [0.06635313 0.00524292 0.928404  ]\n",
      "[1. 0. 0.] <-> [0.87557024 0.02883147 0.09559831]\n",
      "[0. 1. 0.] <-> [0.6591391  0.33237633 0.00848456]\n",
      "[1. 0. 0.] <-> [0.9007644  0.08887468 0.01036089]\n",
      "[1. 0. 0.] <-> [0.9452628 0.0349688 0.0197684]\n",
      "[1. 0. 0.] <-> [0.6584403  0.02672916 0.31483057]\n",
      "[1. 0. 0.] <-> [0.9031664  0.03043727 0.06639636]\n",
      "[1. 0. 0.] <-> [0.88603365 0.02544802 0.08851828]\n",
      "[1. 0. 0.] <-> [0.9536113  0.03425908 0.01212955]\n",
      "[0. 1. 0.] <-> [0.3823867  0.6058447  0.01176865]\n",
      "[0. 0. 1.] <-> [0.4265455  0.02245243 0.5510021 ]\n",
      "[1. 0. 0.] <-> [0.9404499  0.0500099  0.00954029]\n",
      "[1. 0. 0.] <-> [0.80999124 0.03344102 0.15656778]\n",
      "[0. 1. 0.] <-> [0.10338823 0.89445734 0.00215441]\n",
      "[0. 1. 0.] <-> [0.09566004 0.9026778  0.00166225]\n",
      "[1. 0. 0.] <-> [0.89235526 0.03014302 0.07750176]\n",
      "[1. 0. 0.] <-> [0.95334125 0.03317183 0.01348694]\n",
      "[1. 0. 0.] <-> [0.8731061  0.03135125 0.09554265]\n",
      "[1. 0. 0.] <-> [0.4732121  0.02173599 0.5050519 ]\n",
      "[0. 1. 0.] <-> [0.09632484 0.9018277  0.0018475 ]\n",
      "[0. 1. 0.] <-> [0.19198862 0.80309594 0.00491543]\n",
      "[0. 0. 1.] <-> [0.06362627 0.00512732 0.9312464 ]\n",
      "[1. 0. 0.] <-> [0.9562081  0.02825727 0.01553458]\n",
      "[0. 1. 0.] <-> [0.55366945 0.43873155 0.00759898]\n",
      "[1. 0. 0.] <-> [0.8489159  0.14073887 0.01034527]\n",
      "[0. 0. 1.] <-> [0.12188368 0.00956476 0.86855155]\n",
      "[0. 0. 1.] <-> [0.21001576 0.0161111  0.7738731 ]\n",
      "[1. 0. 0.] <-> [0.9526134  0.03202834 0.01535827]\n",
      "[1. 0. 0.] <-> [0.94808793 0.02902153 0.02289052]\n",
      "[1. 0. 0.] <-> [0.8950322  0.02821282 0.07675501]\n",
      "[1. 0. 0.] <-> [0.9544077  0.03055676 0.01503546]\n",
      "[0. 0. 1.] <-> [0.05927591 0.00474909 0.935975  ]\n",
      "[1. 0. 0.] <-> [0.94074696 0.03111153 0.02814151]\n",
      "[0. 1. 0.] <-> [0.24553487 0.7495492  0.00491595]\n",
      "[1. 0. 0.] <-> [0.9173529  0.03598391 0.0466632 ]\n",
      "[0. 1. 0.] <-> [0.58454806 0.40425125 0.01120071]\n",
      "[1. 0. 0.] <-> [0.9430566  0.03357935 0.02336402]\n",
      "[0. 1. 0.] <-> [0.09739258 0.900761   0.00184636]\n",
      "[1. 0. 0.] <-> [0.93968856 0.04268131 0.01763017]\n",
      "[1. 0. 0.] <-> [0.9478263  0.0373971  0.01477655]\n",
      "[1. 0. 0.] <-> [0.8964799  0.02570297 0.07781706]\n",
      "[1. 0. 0.] <-> [0.8257645  0.16634439 0.00789113]\n",
      "[1. 0. 0.] <-> [0.8975437  0.02729336 0.07516285]\n",
      "[1. 0. 0.] <-> [0.936161  0.0286127 0.0352264]\n",
      "[1. 0. 0.] <-> [0.9103722  0.07967649 0.00995125]\n",
      "[1. 0. 0.] <-> [0.9577369  0.033279   0.00898408]\n",
      "[1. 0. 0.] <-> [0.9341658  0.02967878 0.03615545]\n",
      "[0. 1. 0.] <-> [0.09725272 0.90070164 0.00204564]\n",
      "[0. 0. 1.] <-> [0.05552978 0.00449723 0.93997306]\n",
      "[1. 0. 0.] <-> [0.94740486 0.03791965 0.01467548]\n",
      "[1. 0. 0.] <-> [0.95751643 0.03226498 0.01021859]\n",
      "[1. 0. 0.] <-> [0.9391228  0.02932989 0.03154732]\n",
      "[1. 0. 0.] <-> [0.9301128  0.03188258 0.0380047 ]\n",
      "[1. 0. 0.] <-> [0.9487135  0.03572023 0.01556635]\n",
      "[1. 0. 0.] <-> [0.85217017 0.02993894 0.11789084]\n",
      "[1. 0. 0.] <-> [0.85009533 0.02964332 0.1202613 ]\n",
      "{'accuracy': 0.9567901234567902, 'mean_square_error': 0.08787912874367668, 'categorical_crossentropy': 0.18384211151688187, 'essential_metrics': {0: {'tp_hit': 75, 'fp_hit': 6, 'tn_hit': 26, 'fn_hit': 1}, 1: {'tp_hit': 13, 'fp_hit': 0, 'tn_hit': 91, 'fn_hit': 4}, 2: {'tp_hit': 13, 'fp_hit': 1, 'tn_hit': 92, 'fn_hit': 2}}}\n"
     ]
    }
   ],
   "source": [
    "# recall phase\n",
    "score = model.evaluate(x_test, y_test, False)\n",
    "print(score)"
   ]
  },
  {
   "cell_type": "code",
   "execution_count": 11,
   "metadata": {},
   "outputs": [
    {
     "data": {
      "image/png": "[encoded data removed]",
      "text/plain": [
       "<Figure size 864x360 with 1 Axes>"
      ]
     },
     "metadata": {
      "needs_background": "light"
     },
     "output_type": "display_data"
    },
    {
     "data": {
      "image/png": "[encoded data removed]",
      "text/plain": [
       "<Figure size 864x360 with 1 Axes>"
      ]
     },
     "metadata": {
      "needs_background": "light"
     },
     "output_type": "display_data"
    }
   ],
   "source": [
    "draw_plot(x = [[i for i in range(len(history))], [(i+1)*breakpoint for i in range(len(checkpoints))]], y_list = [history, [ ckp[model.loss_fn] for ckp in checkpoints ]], x_label = 'Epochs', \\\n",
    "    y_label = model.loss_fn, legend=['train', 'test'])\n",
    "acc = [ ckp['accuracy'] for ckp in checkpoints ]\n",
    "draw_plot(x = [[(i+1)*breakpoint for i in range(len(checkpoints))]], y_list = [acc], x_label = 'Checkpoints', \\\n",
    "    y_label = 'accuracy')"
   ]
  },
  {
   "cell_type": "code",
   "execution_count": 12,
   "metadata": {},
   "outputs": [
    {
     "name": "stdout",
     "output_type": "stream",
     "text": [
      "{'accuracy': 0.9259259259259259, 'mean_square_error': 0.16872073510860638, 'categorical_crossentropy': 0.3350841027719003, 'essential_metrics': {0: {'tp_hit': 74, 'fp_hit': 10, 'tn_hit': 22, 'fn_hit': 2}, 1: {'tp_hit': 13, 'fp_hit': 0, 'tn_hit': 91, 'fn_hit': 4}, 2: {'tp_hit': 9, 'fp_hit': 2, 'tn_hit': 91, 'fn_hit': 6}}, 'checkpoint': 100} \n",
      "\n",
      "\n",
      "{'accuracy': 0.9567901234567902, 'mean_square_error': 0.08955902809376673, 'categorical_crossentropy': 0.1965643388253671, 'essential_metrics': {0: {'tp_hit': 75, 'fp_hit': 6, 'tn_hit': 26, 'fn_hit': 1}, 1: {'tp_hit': 14, 'fp_hit': 0, 'tn_hit': 91, 'fn_hit': 3}, 2: {'tp_hit': 12, 'fp_hit': 1, 'tn_hit': 92, 'fn_hit': 3}}, 'checkpoint': 200} \n",
      "\n",
      "\n",
      "{'accuracy': 0.9691358024691358, 'mean_square_error': 0.07988033460156067, 'categorical_crossentropy': 0.18738282168353046, 'essential_metrics': {0: {'tp_hit': 76, 'fp_hit': 5, 'tn_hit': 27, 'fn_hit': 0}, 1: {'tp_hit': 14, 'fp_hit': 0, 'tn_hit': 91, 'fn_hit': 3}, 2: {'tp_hit': 13, 'fp_hit': 0, 'tn_hit': 93, 'fn_hit': 2}}, 'checkpoint': 300} \n",
      "\n",
      "\n",
      "{'accuracy': 0.9567901234567902, 'mean_square_error': 0.08763988136711572, 'categorical_crossentropy': 0.1895602367542408, 'essential_metrics': {0: {'tp_hit': 75, 'fp_hit': 6, 'tn_hit': 26, 'fn_hit': 1}, 1: {'tp_hit': 13, 'fp_hit': 0, 'tn_hit': 91, 'fn_hit': 4}, 2: {'tp_hit': 13, 'fp_hit': 1, 'tn_hit': 92, 'fn_hit': 2}}, 'checkpoint': 400} \n",
      "\n",
      "\n",
      "{'accuracy': 0.9567901234567902, 'mean_square_error': 0.08787912874367668, 'categorical_crossentropy': 0.18384211151688187, 'essential_metrics': {0: {'tp_hit': 75, 'fp_hit': 6, 'tn_hit': 26, 'fn_hit': 1}, 1: {'tp_hit': 13, 'fp_hit': 0, 'tn_hit': 91, 'fn_hit': 4}, 2: {'tp_hit': 13, 'fp_hit': 1, 'tn_hit': 92, 'fn_hit': 2}}, 'checkpoint': 500} \n",
      "\n",
      "\n"
     ]
    }
   ],
   "source": [
    "for checkpoint in checkpoints:\n",
    "    print(checkpoint, '\\n\\n')"
   ]
  },
  {
   "cell_type": "code",
   "execution_count": 13,
   "metadata": {},
   "outputs": [
    {
     "name": "stdout",
     "output_type": "stream",
     "text": [
      "Layer 1\n",
      "Neuron 0: weights:\n",
      "[-1.2497067   2.3560567   1.2745491   0.00614703 -0.09024367]\n",
      " bias: -2.1030173301696777\n",
      "\n",
      "Neuron 1: weights:\n",
      "[ 0.48458186 -0.89013916 -0.11371183  0.03596758  0.57921255]\n",
      " bias: 0.0028192901518195868\n",
      "\n",
      "Neuron 2: weights:\n",
      "[-0.53117293  1.5745026   0.09863693 -0.34791607 -0.6909859 ]\n",
      " bias: 1.396615743637085\n",
      "\n",
      "Neuron 3: weights:\n",
      "[-0.09883652  0.14903516 -0.00407169  0.02547065 -1.217073  ]\n",
      " bias: -0.010527338832616806\n",
      "\n",
      "$\n",
      "Layer 2\n",
      "Neuron 0: weights:\n",
      "[-3.          0.01468968  2.1291718  -0.0535191 ]\n",
      " bias: 0.12212413549423218\n",
      "\n",
      "Neuron 1: weights:\n",
      "[ 3.         -0.86911106  0.00866004 -0.04470107]\n",
      " bias: -1.5126959085464478\n",
      "\n",
      "Neuron 2: weights:\n",
      "[ 0.03332366  3.         -3.         -2.3430326 ]\n",
      " bias: -0.014378179796040058\n",
      "\n",
      "$\n",
      "\n"
     ]
    }
   ],
   "source": [
    "print(model)"
   ]
  }
 ],
 "metadata": {
  "kernelspec": {
   "display_name": "Python 3",
   "language": "python",
   "name": "python3"
  },
  "language_info": {
   "codemirror_mode": {
    "name": "ipython",
    "version": 3
   },
   "file_extension": ".py",
   "mimetype": "text/x-python",
   "name": "python",
   "nbconvert_exporter": "python",
   "pygments_lexer": "ipython3",
   "version": "3.6.10"
  }
 },
 "nbformat": 4,
 "nbformat_minor": 2
}
