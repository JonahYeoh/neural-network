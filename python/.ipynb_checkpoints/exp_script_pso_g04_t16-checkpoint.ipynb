{
 "cells": [
  {
   "cell_type": "code",
   "execution_count": 1,
   "metadata": {},
   "outputs": [],
   "source": [
    "# dependency\n",
    "import numpy as np\n",
    "import pandas as pd\n",
    "import copy\n",
    "import math\n",
    "import sys\n",
    "import os\n",
    "from activations import relu, leaky_relu, sigmoid, tanh, softmax, d_sigmoid, d_relu\n",
    "from initializers import glorot_uniform, random_normal, random_uniform\n",
    "from regularizers import l1_regularizer, l2_regularizer\n",
    "from utility import trim_tail, multiply, subtract, get_nparams, one_hot_encoding, get_data\n",
    "from metrics import MSE, CCE, ACC, PRECISION, RECALL, essential_metrics, wondering_penalty, close_gap_penalty\n",
    "from pso import PSO\n",
    "from ga import GA\n",
    "from nn import Network\n",
    "from layer import DenseLayer\n",
    "from scalers import MinMaxScaler, StandardScaler"
   ]
  },
  {
   "cell_type": "code",
   "execution_count": 2,
   "metadata": {},
   "outputs": [],
   "source": [
    "# reference\n",
    "metrics_fn_dict = dict()\n",
    "metrics_fn_dict['accuracy'] = ACC\n",
    "metrics_fn_dict['categorical_crossentropy'] = CCE\n",
    "metrics_fn_dict['mean_square_error'] = MSE\n",
    "metrics_fn_dict['precision'] = PRECISION\n",
    "metrics_fn_dict['recall'] = RECALL\n",
    "metrics_fn_dict['essential_metrics'] = essential_metrics"
   ]
  },
  {
   "cell_type": "code",
   "execution_count": 3,
   "metadata": {},
   "outputs": [],
   "source": [
    "# model\n",
    "model = Network(5, lr = None)\n",
    "model.add_layer(DenseLayer(1, 4, True, afn=sigmoid, dafn=None, rfn=None))\n",
    "model.add_layer(DenseLayer(2, 3, True, afn=softmax, dafn=None, rfn=None))"
   ]
  },
  {
   "cell_type": "code",
   "execution_count": 4,
   "metadata": {},
   "outputs": [
    {
     "name": "stdout",
     "output_type": "stream",
     "text": [
      "see one see two 2 0.5\n"
     ]
    }
   ],
   "source": [
    "pso = PSO(dict(m = 50,\n",
    "    weight_constraint = [-3, 3], \n",
    "    velocity_constraint = [-0.1, 0.1],\n",
    "    c1 = [0.5, 2],\n",
    "    c2 = [0.5, 2],\n",
    "    w = [0.5, 1.2],\n",
    "    w_decay = 0.95,\n",
    "    scale_hyperparameter = False,\n",
    "    regularizer = None,\n",
    "    mask = True))"
   ]
  },
  {
   "cell_type": "code",
   "execution_count": 5,
   "metadata": {},
   "outputs": [
    {
     "name": "stdout",
     "output_type": "stream",
     "text": [
      "building layer 1 with 5\n",
      "24\n",
      "building layer 2 with 4\n",
      "15\n"
     ]
    }
   ],
   "source": [
    "model.compile(loss_fn = 'categorical_crossentropy', optimizer = pso, \\\n",
    "    metrics = ['accuracy', 'mean_square_error', 'categorical_crossentropy'])"
   ]
  },
  {
   "cell_type": "code",
   "execution_count": 6,
   "metadata": {},
   "outputs": [
    {
     "name": "stdout",
     "output_type": "stream",
     "text": [
      "<class 'pandas.core.frame.DataFrame'>\n",
      "RangeIndex: 107 entries, 0 to 106\n",
      "Data columns (total 6 columns):\n",
      " #   Column  Non-Null Count  Dtype  \n",
      "---  ------  --------------  -----  \n",
      " 0   f1      107 non-null    float32\n",
      " 1   f2      107 non-null    float32\n",
      " 2   f3      107 non-null    float32\n",
      " 3   f4      107 non-null    float32\n",
      " 4   f5      107 non-null    float32\n",
      " 5   label   107 non-null    float32\n",
      "dtypes: float32(6)\n",
      "memory usage: 2.6 KB\n",
      "None\n",
      "<class 'pandas.core.frame.DataFrame'>\n",
      "RangeIndex: 108 entries, 0 to 107\n",
      "Data columns (total 6 columns):\n",
      " #   Column  Non-Null Count  Dtype  \n",
      "---  ------  --------------  -----  \n",
      " 0   f1      108 non-null    float32\n",
      " 1   f2      108 non-null    float32\n",
      " 2   f3      108 non-null    float32\n",
      " 3   f4      108 non-null    float32\n",
      " 4   f5      108 non-null    float32\n",
      " 5   label   108 non-null    float32\n",
      "dtypes: float32(6)\n",
      "memory usage: 2.7 KB\n",
      "None\n"
     ]
    }
   ],
   "source": [
    "# data loading\n",
    "DATA = os.path.join('c:\\\\Users\\\\tcumi\\\\github_repo\\\\neural-network\\\\', 'dataset')\n",
    "GROUP = 4\n",
    "COLUMNS = ['f1', 'f2', 'f3', 'f4', 'f5', 'label']\n",
    "N_CLASS = 3\n",
    "EPOCHS = 500\n",
    "train_dir, test_dir = \"..//dataset//training_data{}.txt\".format(GROUP), \"..//dataset//testing_data{}.txt\".format(GROUP)\n",
    "train, test = get_data(DATA, train_dir, COLUMNS), get_data(DATA, test_dir, COLUMNS)\n",
    "# shuffle\n",
    "train, test = train.sample(frac=1), test.sample(frac=1)\n",
    "x_train, y_train = train.drop('label', axis=1), train['label']\n",
    "x_test, y_test = test.drop('label', axis=1), test['label']"
   ]
  },
  {
   "cell_type": "code",
   "execution_count": 7,
   "metadata": {},
   "outputs": [],
   "source": [
    "# data scaling and encoding\n",
    "scaler = StandardScaler(['f1', 'f2', 'f3', 'f4', 'f5'])\n",
    "scaler.fit(x_train)\n",
    "x_train = scaler.transform(x_train)\n",
    "x_test = scaler.transform(x_test)\n",
    "y_train = one_hot_encoding(y_train, N_CLASS)\n",
    "y_test = one_hot_encoding(y_test, N_CLASS)"
   ]
  },
  {
   "cell_type": "code",
   "execution_count": 8,
   "metadata": {
    "tags": [
     "outputPrepend"
    ]
   },
   "outputs": [
    {
     "name": "stdout",
     "output_type": "stream",
     "text": [
      "Checkpoint 100, Accuracy: 0.9012345679012346, Loss: 0.348265047426577\n",
      "Checkpoint 200, Accuracy: 0.9691358024691358, Loss: 0.12809474379928024\n",
      "Checkpoint 300, Accuracy: 0.9691358024691358, Loss: 0.11088317411917227\n",
      "Checkpoint 400, Accuracy: 0.9691358024691358, Loss: 0.11307238649438929\n",
      "Checkpoint 500, Accuracy: 0.9753086419753086, Loss: 0.1089940865834554\n"
     ]
    }
   ],
   "source": [
    "# learning phase\n",
    "breakpoint = 100\n",
    "checkpoints = list()\n",
    "history = list()\n",
    "for century in range(0, EPOCHS, breakpoint):\n",
    "    sub_history = model.fit(x_train, y_train, breakpoint, verbose = 0)\n",
    "    score = model.evaluate(x_test, y_test, False, verbose = 0)\n",
    "    print('Checkpoint {}, Accuracy: {}, Loss: {}'.format(century+breakpoint, score['accuracy'], score[model.loss_fn]))\n",
    "    score['checkpoint'] = century + breakpoint\n",
    "    checkpoints.append(score)\n",
    "    history.extend(sub_history)\n",
    "    itr = century + breakpoint\n",
    "    model.optimizer.c1 = np.max([model.optimizer.C1[1] - ((model.optimizer.C1[1] - model.optimizer.C1[0]) * itr / EPOCHS), model.optimizer.C1[0]])\n",
    "    model.optimizer.c2 = np.min([model.optimizer.C2[0] + ((model.optimizer.C2[1] - model.optimizer.C2[0]) * itr / EPOCHS), model.optimizer.C2[1]])\n",
    "    model.optimizer.w = np.max([model.optimizer.w * model.optimizer.W_Decay, model.optimizer.W[0]])"
   ]
  },
  {
   "cell_type": "code",
   "execution_count": 9,
   "metadata": {},
   "outputs": [],
   "source": [
    "import matplotlib.pyplot as plt\n",
    "\n",
    "def draw_plot(x, y_list, x_label=None, y_label=None, legend=None, title=None):\n",
    "    fig, ax = plt.subplots(figsize=(12,5))\n",
    "    for xi, yi in zip(x, y_list):\n",
    "        ax.plot(xi, yi)\n",
    "    if x_label is not None and y_label is not None:\n",
    "        ax.set(xlabel=x_label, ylabel=y_label, title='{} VS {}'.format(x_label, y_label))\n",
    "    if legend is not None:\n",
    "        ax.legend(legend)\n",
    "    ax.grid()\n",
    "    plt.show()"
   ]
  },
  {
   "cell_type": "code",
   "execution_count": 10,
   "metadata": {},
   "outputs": [
    {
     "name": "stdout",
     "output_type": "stream",
     "text": [
      "[1. 0. 0.] <-> [0.9978002  0.00107762 0.00112213]\n",
      "[0. 1. 0.] <-> [5.9638042e-03 9.9377269e-01 2.6348943e-04]\n",
      "[1. 0. 0.] <-> [0.9809715  0.01662745 0.00240107]\n",
      "[1. 0. 0.] <-> [0.9661206  0.01935382 0.01452558]\n",
      "[0. 1. 0.] <-> [2.1952920e-02 9.7749078e-01 5.5631006e-04]\n",
      "[0. 1. 0.] <-> [1.4211877e-02 9.8537296e-01 4.1506876e-04]\n",
      "[0. 1. 0.] <-> [0.2837276  0.7146445  0.00162798]\n",
      "[1. 0. 0.] <-> [0.99543756 0.00143679 0.00312562]\n",
      "[0. 0. 1.] <-> [1.4075112e-02 1.4417537e-05 9.8591042e-01]\n",
      "[1. 0. 0.] <-> [0.9955928  0.00328332 0.00112392]\n",
      "[1. 0. 0.] <-> [0.9862853  0.00302035 0.01069435]\n",
      "[1. 0. 0.] <-> [0.9897738  0.00103016 0.00919603]\n",
      "[1. 0. 0.] <-> [0.15511982 0.84345526 0.00142499]\n",
      "[1. 0. 0.] <-> [0.8520752  0.00092062 0.14700425]\n",
      "[1. 0. 0.] <-> [0.72806954 0.26889113 0.00303942]\n",
      "[0. 0. 1.] <-> [5.3024463e-02 5.4809207e-05 9.4692075e-01]\n",
      "[1. 0. 0.] <-> [0.9976787  0.0012483  0.00107301]\n",
      "[0. 1. 0.] <-> [7.2014886e-03 9.9248946e-01 3.0904054e-04]\n",
      "[1. 0. 0.] <-> [0.99535877 0.00262273 0.0020184 ]\n",
      "[1. 0. 0.] <-> [9.9609071e-01 3.0281572e-03 8.8111998e-04]\n",
      "[1. 0. 0.] <-> [9.967962e-01 2.212416e-03 9.914240e-04]\n",
      "[1. 0. 0.] <-> [0.99728036 0.00122241 0.00149726]\n",
      "[1. 0. 0.] <-> [0.99272233 0.00108182 0.00619572]\n",
      "[1. 0. 0.] <-> [0.9962747  0.00270343 0.00102189]\n",
      "[1. 0. 0.] <-> [0.7848664  0.00081406 0.21431954]\n",
      "[0. 0. 1.] <-> [1.27940048e-02 1.37159195e-05 9.87192273e-01]\n",
      "[0. 1. 0.] <-> [5.9637893e-03 9.9377114e-01 2.6514463e-04]\n",
      "[1. 0. 0.] <-> [0.9921556  0.00608313 0.00176137]\n",
      "[0. 1. 0.] <-> [0.42957926 0.56891036 0.00151043]\n",
      "[1. 0. 0.] <-> [0.9968094  0.0012659  0.00192468]\n",
      "[1. 0. 0.] <-> [0.9355597  0.06196252 0.00247779]\n",
      "[1. 0. 0.] <-> [0.99700767 0.00141574 0.00157657]\n",
      "[0. 0. 1.] <-> [2.3346851e-02 2.3908093e-05 9.7662920e-01]\n",
      "[0. 1. 0.] <-> [2.0886378e-02 9.7866029e-01 4.5340005e-04]\n",
      "[0. 1. 0.] <-> [5.963805e-03 9.937686e-01 2.676341e-04]\n",
      "[0. 1. 0.] <-> [6.934217e-02 9.297978e-01 8.599637e-04]\n",
      "[0. 1. 0.] <-> [5.9835534e-03 9.9374819e-01 2.6830021e-04]\n",
      "[1. 0. 0.] <-> [0.9957696  0.00287748 0.00135287]\n",
      "[1. 0. 0.] <-> [0.7177132  0.00089636 0.2813904 ]\n",
      "[0. 1. 0.] <-> [5.9638014e-03 9.9377269e-01 2.6360984e-04]\n",
      "[0. 1. 0.] <-> [5.9655467e-03 9.9376208e-01 2.7231767e-04]\n",
      "[1. 0. 0.] <-> [0.9936041  0.00229509 0.00410073]\n",
      "[1. 0. 0.] <-> [0.98446727 0.00101538 0.01451737]\n",
      "[1. 0. 0.] <-> [0.9970476  0.00128717 0.00166522]\n",
      "[1. 0. 0.] <-> [9.9744487e-01 1.6521175e-03 9.0306054e-04]\n",
      "[1. 0. 0.] <-> [0.9972263  0.00114356 0.00163011]\n",
      "[1. 0. 0.] <-> [0.9680439  0.0010087  0.03094729]\n",
      "[1. 0. 0.] <-> [0.9687561  0.02937788 0.00186606]\n",
      "[0. 0. 1.] <-> [1.1194859e-01 1.1462134e-04 8.8793677e-01]\n",
      "[1. 0. 0.] <-> [0.9975914  0.00103434 0.00137432]\n",
      "[1. 0. 0.] <-> [9.8315932e-02 1.0994963e-04 9.0157413e-01]\n",
      "[1. 0. 0.] <-> [0.997424   0.00147777 0.00109829]\n",
      "[1. 0. 0.] <-> [0.9953703  0.00108472 0.00354491]\n",
      "[0. 1. 0.] <-> [2.3779944e-02 9.7569919e-01 5.2086858e-04]\n",
      "[1. 0. 0.] <-> [0.97571623 0.00112948 0.02315429]\n",
      "[1. 0. 0.] <-> [0.99742955 0.00113392 0.00143647]\n",
      "[1. 0. 0.] <-> [0.9846656  0.00103406 0.01430044]\n",
      "[1. 0. 0.] <-> [0.96770376 0.00122326 0.03107292]\n",
      "[1. 0. 0.] <-> [0.99751914 0.00109495 0.00138599]\n",
      "[0. 0. 1.] <-> [1.2231931e-02 1.3789771e-05 9.8775429e-01]\n",
      "[1. 0. 0.] <-> [0.9970804  0.00190067 0.00101892]\n",
      "[0. 0. 1.] <-> [5.7289534e-04 3.0174751e-05 9.9939692e-01]\n",
      "[1. 0. 0.] <-> [0.7117648  0.28505743 0.00317781]\n",
      "[1. 0. 0.] <-> [9.9767953e-01 1.3980683e-03 9.2247914e-04]\n",
      "[1. 0. 0.] <-> [0.64433974 0.35110056 0.00455978]\n",
      "[1. 0. 0.] <-> [0.9819935  0.0166472  0.00135935]\n",
      "[1. 0. 0.] <-> [0.99723    0.00149294 0.0012771 ]\n",
      "[1. 0. 0.] <-> [9.9777240e-01 1.2511497e-03 9.7638142e-04]\n",
      "[1. 0. 0.] <-> [0.99754155 0.00116005 0.00129848]\n",
      "[1. 0. 0.] <-> [0.9925488  0.00103674 0.00641441]\n",
      "[0. 0. 1.] <-> [1.1826472e-02 1.2110075e-05 9.8816144e-01]\n",
      "[1. 0. 0.] <-> [0.99628675 0.0011526  0.00256062]\n",
      "[1. 0. 0.] <-> [0.94778144 0.0009763  0.0512422 ]\n",
      "[1. 0. 0.] <-> [0.996637   0.00225553 0.00110736]\n",
      "[1. 0. 0.] <-> [0.22281338 0.7747215  0.00246508]\n",
      "[1. 0. 0.] <-> [0.9970017  0.00179936 0.00119883]\n",
      "[1. 0. 0.] <-> [0.99667203 0.00112511 0.00220277]\n",
      "[0. 0. 1.] <-> [8.730870e-03 9.138225e-06 9.912600e-01]\n",
      "[0. 1. 0.] <-> [6.0049556e-03 9.9371344e-01 2.8152484e-04]\n",
      "[1. 0. 0.] <-> [0.99318945 0.00541897 0.00139164]\n",
      "[0. 0. 1.] <-> [9.055094e-03 9.273688e-06 9.909356e-01]\n",
      "[1. 0. 0.] <-> [0.9958528  0.00269096 0.00145632]\n",
      "[1. 0. 0.] <-> [0.99158984 0.00598864 0.00242153]\n",
      "[1. 0. 0.] <-> [9.9720252e-01 1.8285166e-03 9.6895860e-04]\n",
      "[0. 0. 1.] <-> [7.1516843e-03 9.4965226e-06 9.9283880e-01]\n",
      "[1. 0. 0.] <-> [0.9859805  0.01194862 0.00207095]\n",
      "[1. 0. 0.] <-> [0.99498606 0.00108925 0.00392473]\n",
      "[1. 0. 0.] <-> [0.99647945 0.00226247 0.00125811]\n",
      "[1. 0. 0.] <-> [0.99606603 0.00152962 0.00240437]\n",
      "[1. 0. 0.] <-> [9.9762529e-01 1.4983643e-03 8.7634928e-04]\n",
      "[0. 1. 0.] <-> [5.9637646e-03 9.9376607e-01 2.7011579e-04]\n",
      "[1. 0. 0.] <-> [0.9970114  0.00166433 0.00132426]\n",
      "[1. 0. 0.] <-> [0.9943151  0.00110921 0.00457568]\n",
      "[1. 0. 0.] <-> [0.99675983 0.00179993 0.00144029]\n",
      "[0. 0. 1.] <-> [2.2931495e-03 1.6028232e-05 9.9769080e-01]\n",
      "[1. 0. 0.] <-> [0.99386203 0.00486651 0.00127154]\n",
      "[1. 0. 0.] <-> [0.9970149  0.00186916 0.00111588]\n",
      "[1. 0. 0.] <-> [0.9933862  0.00124003 0.0053738 ]\n",
      "[1. 0. 0.] <-> [0.99766326 0.00118176 0.00115497]\n",
      "[1. 0. 0.] <-> [0.9612796  0.01455388 0.02416651]\n",
      "[1. 0. 0.] <-> [9.9637634e-01 2.6665556e-03 9.5712254e-04]\n",
      "[1. 0. 0.] <-> [0.99655175 0.00146532 0.00198294]\n",
      "[1. 0. 0.] <-> [0.856424   0.0008954  0.14268062]\n",
      "[1. 0. 0.] <-> [0.9973049  0.00156838 0.00112674]\n",
      "[1. 0. 0.] <-> [0.5248881  0.47173458 0.00337729]\n",
      "[0. 0. 1.] <-> [4.4938114e-01 4.6102158e-04 5.5015779e-01]\n",
      "[1. 0. 0.] <-> [0.9764915  0.00123019 0.02227833]\n",
      "[0. 0. 1.] <-> [0.5610498  0.000596   0.43835416]\n",
      "{'accuracy': 0.9753086419753086, 'mean_square_error': 0.06707075897206558, 'categorical_crossentropy': 0.1089940865834554, 'essential_metrics': {0: {'tp_hit': 75, 'fp_hit': 1, 'tn_hit': 29, 'fn_hit': 3}, 1: {'tp_hit': 16, 'fp_hit': 2, 'tn_hit': 90, 'fn_hit': 0}, 2: {'tp_hit': 13, 'fp_hit': 1, 'tn_hit': 93, 'fn_hit': 1}}}\n"
     ]
    }
   ],
   "source": [
    "# recall phase\n",
    "score = model.evaluate(x_test, y_test, False)\n",
    "print(score)"
   ]
  },
  {
   "cell_type": "code",
   "execution_count": 11,
   "metadata": {},
   "outputs": [
    {
     "data": {
      "image/png": "[encoded data removed]",
      "text/plain": [
       "<Figure size 864x360 with 1 Axes>"
      ]
     },
     "metadata": {
      "needs_background": "light"
     },
     "output_type": "display_data"
    },
    {
     "data": {
      "image/png": "[encoded data removed]",
      "text/plain": [
       "<Figure size 864x360 with 1 Axes>"
      ]
     },
     "metadata": {
      "needs_background": "light"
     },
     "output_type": "display_data"
    }
   ],
   "source": [
    "draw_plot(x = [[i for i in range(len(history))], [(i+1)*breakpoint for i in range(len(checkpoints))]], y_list = [history, [ ckp[model.loss_fn] for ckp in checkpoints ]], x_label = 'Epochs', \\\n",
    "    y_label = model.loss_fn, legend=['train', 'test'])\n",
    "acc = [ ckp['accuracy'] for ckp in checkpoints ]\n",
    "draw_plot(x = [[(i+1)*breakpoint for i in range(len(checkpoints))]], y_list = [acc], x_label = 'Checkpoints', \\\n",
    "    y_label = 'accuracy')"
   ]
  },
  {
   "cell_type": "code",
   "execution_count": 12,
   "metadata": {},
   "outputs": [
    {
     "name": "stdout",
     "output_type": "stream",
     "text": [
      "{'accuracy': 0.9012345679012346, 'mean_square_error': 0.21505403543846716, 'categorical_crossentropy': 0.348265047426577, 'essential_metrics': {0: {'tp_hit': 78, 'fp_hit': 16, 'tn_hit': 14, 'fn_hit': 0}, 1: {'tp_hit': 10, 'fp_hit': 0, 'tn_hit': 92, 'fn_hit': 6}, 2: {'tp_hit': 4, 'fp_hit': 0, 'tn_hit': 94, 'fn_hit': 10}}, 'checkpoint': 100} \n",
      "\n",
      "\n",
      "{'accuracy': 0.9691358024691358, 'mean_square_error': 0.07205452860104712, 'categorical_crossentropy': 0.12809474379928024, 'essential_metrics': {0: {'tp_hit': 76, 'fp_hit': 3, 'tn_hit': 27, 'fn_hit': 2}, 1: {'tp_hit': 16, 'fp_hit': 2, 'tn_hit': 90, 'fn_hit': 0}, 2: {'tp_hit': 11, 'fp_hit': 0, 'tn_hit': 94, 'fn_hit': 3}}, 'checkpoint': 200} \n",
      "\n",
      "\n",
      "{'accuracy': 0.9691358024691358, 'mean_square_error': 0.06815496001670907, 'categorical_crossentropy': 0.11088317411917227, 'essential_metrics': {0: {'tp_hit': 75, 'fp_hit': 2, 'tn_hit': 28, 'fn_hit': 3}, 1: {'tp_hit': 16, 'fp_hit': 2, 'tn_hit': 90, 'fn_hit': 0}, 2: {'tp_hit': 12, 'fp_hit': 1, 'tn_hit': 93, 'fn_hit': 2}}, 'checkpoint': 300} \n",
      "\n",
      "\n",
      "{'accuracy': 0.9691358024691358, 'mean_square_error': 0.0689348153320015, 'categorical_crossentropy': 0.11307238649438929, 'essential_metrics': {0: {'tp_hit': 74, 'fp_hit': 1, 'tn_hit': 29, 'fn_hit': 4}, 1: {'tp_hit': 16, 'fp_hit': 3, 'tn_hit': 89, 'fn_hit': 0}, 2: {'tp_hit': 13, 'fp_hit': 1, 'tn_hit': 93, 'fn_hit': 1}}, 'checkpoint': 400} \n",
      "\n",
      "\n",
      "{'accuracy': 0.9753086419753086, 'mean_square_error': 0.06707075897206558, 'categorical_crossentropy': 0.1089940865834554, 'essential_metrics': {0: {'tp_hit': 75, 'fp_hit': 1, 'tn_hit': 29, 'fn_hit': 3}, 1: {'tp_hit': 16, 'fp_hit': 2, 'tn_hit': 90, 'fn_hit': 0}, 2: {'tp_hit': 13, 'fp_hit': 1, 'tn_hit': 93, 'fn_hit': 1}}, 'checkpoint': 500} \n",
      "\n",
      "\n"
     ]
    }
   ],
   "source": [
    "for checkpoint in checkpoints:\n",
    "    print(checkpoint, '\\n\\n')"
   ]
  },
  {
   "cell_type": "code",
   "execution_count": 13,
   "metadata": {},
   "outputs": [
    {
     "name": "stdout",
     "output_type": "stream",
     "text": [
      "Layer 1\n",
      "Neuron 0: weights:\n",
      "[ 2.2785244  -3.         -3.         -3.         -0.84337944]\n",
      " bias: 1.3741555213928223\n",
      "\n",
      "Neuron 1: weights:\n",
      "[ 1.96561    -3.         -3.         -0.49630862  3.        ]\n",
      " bias: 3.0\n",
      "\n",
      "Neuron 2: weights:\n",
      "[-0.67511135  3.          3.         -3.         -3.        ]\n",
      " bias: 2.640746831893921\n",
      "\n",
      "Neuron 3: weights:\n",
      "[-0.33694378 -3.          1.3549621   1.3574173   3.        ]\n",
      " bias: -1.9604252576828003\n",
      "\n",
      "$\n",
      "Layer 2\n",
      "Neuron 0: weights:\n",
      "[ 3.  3.  3. -3.]\n",
      " bias: -2.115800380706787\n",
      "\n",
      "Neuron 1: weights:\n",
      "[-3. -3.  3. -3.]\n",
      " bias: 3.0\n",
      "\n",
      "Neuron 2: weights:\n",
      "[-1.1257323  3.        -3.         3.       ]\n",
      " bias: 0.7646167874336243\n",
      "\n",
      "$\n",
      "\n"
     ]
    }
   ],
   "source": [
    "print(model)"
   ]
  }
 ],
 "metadata": {
  "kernelspec": {
   "display_name": "Python 3",
   "language": "python",
   "name": "python3"
  },
  "language_info": {
   "codemirror_mode": {
    "name": "ipython",
    "version": 3
   },
   "file_extension": ".py",
   "mimetype": "text/x-python",
   "name": "python",
   "nbconvert_exporter": "python",
   "pygments_lexer": "ipython3",
   "version": "3.6.10"
  }
 },
 "nbformat": 4,
 "nbformat_minor": 2
}
