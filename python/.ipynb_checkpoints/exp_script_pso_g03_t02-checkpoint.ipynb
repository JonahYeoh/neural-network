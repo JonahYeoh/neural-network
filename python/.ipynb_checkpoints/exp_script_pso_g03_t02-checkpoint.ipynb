{
 "cells": [
  {
   "cell_type": "code",
   "execution_count": 1,
   "metadata": {},
   "outputs": [],
   "source": [
    "# dependency\n",
    "import numpy as np\n",
    "import pandas as pd\n",
    "import copy\n",
    "import math\n",
    "import sys\n",
    "import os\n",
    "from activations import relu, leaky_relu, sigmoid, tanh, softmax, d_sigmoid, d_relu\n",
    "from initializers import glorot_uniform, random_normal, random_uniform\n",
    "from regularizers import l1_regularizer, l2_regularizer\n",
    "from utility import trim_tail, multiply, subtract, get_nparams, one_hot_encoding, get_data\n",
    "from metrics import MSE, CCE, ACC, PRECISION, RECALL, essential_metrics, wondering_penalty, close_gap_penalty\n",
    "from pso import PSO\n",
    "from ga import GA\n",
    "from nn import Network\n",
    "from layer import DenseLayer\n",
    "from scalers import MinMaxScaler, StandardScaler"
   ]
  },
  {
   "cell_type": "code",
   "execution_count": 2,
   "metadata": {},
   "outputs": [],
   "source": [
    "# reference\n",
    "metrics_fn_dict = dict()\n",
    "metrics_fn_dict['accuracy'] = ACC\n",
    "metrics_fn_dict['categorical_crossentropy'] = CCE\n",
    "metrics_fn_dict['mean_square_error'] = MSE\n",
    "metrics_fn_dict['precision'] = PRECISION\n",
    "metrics_fn_dict['recall'] = RECALL\n",
    "metrics_fn_dict['essential_metrics'] = essential_metrics"
   ]
  },
  {
   "cell_type": "code",
   "execution_count": 3,
   "metadata": {},
   "outputs": [],
   "source": [
    "# model\n",
    "model = Network(5, lr = None)\n",
    "model.add_layer(DenseLayer(1, 4, True, afn=sigmoid, dafn=None, rfn=None))\n",
    "model.add_layer(DenseLayer(2, 3, True, afn=softmax, dafn=None, rfn=None))"
   ]
  },
  {
   "cell_type": "code",
   "execution_count": 4,
   "metadata": {},
   "outputs": [],
   "source": [
    "pso = PSO(dict(m = 50,\n",
    "    weight_constraint = [-3, 3], \n",
    "    velocity_constraint = [-0.1, 0.1],\n",
    "    c1 = 2,\n",
    "    c2 = 2,\n",
    "    w = 1,\n",
    "    w_decay = 1,\n",
    "    scale_hyperparameter = False,\n",
    "    regularizer = None,\n",
    "    mask = True))"
   ]
  },
  {
   "cell_type": "code",
   "execution_count": 5,
   "metadata": {},
   "outputs": [
    {
     "name": "stdout",
     "output_type": "stream",
     "text": [
      "building layer 1 with 5\n",
      "24\n",
      "building layer 2 with 4\n",
      "15\n"
     ]
    }
   ],
   "source": [
    "model.compile(loss_fn = 'categorical_crossentropy', optimizer = pso, \\\n",
    "    metrics = ['accuracy', 'mean_square_error', 'categorical_crossentropy'])"
   ]
  },
  {
   "cell_type": "code",
   "execution_count": 6,
   "metadata": {},
   "outputs": [
    {
     "name": "stdout",
     "output_type": "stream",
     "text": [
      "<class 'pandas.core.frame.DataFrame'>\n",
      "RangeIndex: 107 entries, 0 to 106\n",
      "Data columns (total 6 columns):\n",
      " #   Column  Non-Null Count  Dtype  \n",
      "---  ------  --------------  -----  \n",
      " 0   f1      107 non-null    float32\n",
      " 1   f2      107 non-null    float32\n",
      " 2   f3      107 non-null    float32\n",
      " 3   f4      107 non-null    float32\n",
      " 4   f5      107 non-null    float32\n",
      " 5   label   107 non-null    float32\n",
      "dtypes: float32(6)\n",
      "memory usage: 2.6 KB\n",
      "None\n",
      "<class 'pandas.core.frame.DataFrame'>\n",
      "RangeIndex: 108 entries, 0 to 107\n",
      "Data columns (total 6 columns):\n",
      " #   Column  Non-Null Count  Dtype  \n",
      "---  ------  --------------  -----  \n",
      " 0   f1      108 non-null    float32\n",
      " 1   f2      108 non-null    float32\n",
      " 2   f3      108 non-null    float32\n",
      " 3   f4      108 non-null    float32\n",
      " 4   f5      108 non-null    float32\n",
      " 5   label   108 non-null    float32\n",
      "dtypes: float32(6)\n",
      "memory usage: 2.7 KB\n",
      "None\n"
     ]
    }
   ],
   "source": [
    "# data loading\n",
    "DATA = os.path.join('c:\\\\Users\\\\tcumi\\\\github_repo\\\\neural-network\\\\', 'dataset')\n",
    "GROUP = 3\n",
    "COLUMNS = ['f1', 'f2', 'f3', 'f4', 'f5', 'label']\n",
    "N_CLASS = 3\n",
    "EPOCHS = 500\n",
    "train_dir, test_dir = \"..//dataset//training_data{}.txt\".format(GROUP), \"..//dataset//testing_data{}.txt\".format(GROUP)\n",
    "train, test = get_data(DATA, train_dir, COLUMNS), get_data(DATA, test_dir, COLUMNS)\n",
    "# shuffle\n",
    "train, test = train.sample(frac=1), test.sample(frac=1)\n",
    "x_train, y_train = train.drop('label', axis=1), train['label']\n",
    "x_test, y_test = test.drop('label', axis=1), test['label']"
   ]
  },
  {
   "cell_type": "code",
   "execution_count": 7,
   "metadata": {},
   "outputs": [],
   "source": [
    "# data scaling and encoding\n",
    "scaler = StandardScaler(['f1', 'f2', 'f3', 'f4', 'f5'])\n",
    "scaler.fit(x_train)\n",
    "x_train = scaler.transform(x_train)\n",
    "x_test = scaler.transform(x_test)\n",
    "y_train = one_hot_encoding(y_train, N_CLASS)\n",
    "y_test = one_hot_encoding(y_test, N_CLASS)"
   ]
  },
  {
   "cell_type": "code",
   "execution_count": 8,
   "metadata": {
    "tags": [
     "outputPrepend"
    ]
   },
   "outputs": [
    {
     "name": "stdout",
     "output_type": "stream",
     "text": [
      "Checkpoint 100, Accuracy: 0.9567901234567902, Loss: 0.2025573695147479\n",
      "Checkpoint 200, Accuracy: 0.9629629629629629, Loss: 0.11499175318965206\n",
      "Checkpoint 300, Accuracy: 0.9629629629629629, Loss: 0.10947751115869593\n",
      "Checkpoint 400, Accuracy: 0.9691358024691358, Loss: 0.10601141717698839\n",
      "Checkpoint 500, Accuracy: 0.9691358024691358, Loss: 0.10527841250101726\n"
     ]
    }
   ],
   "source": [
    "# learning phase\n",
    "breakpoint = 100\n",
    "checkpoints = list()\n",
    "history = list()\n",
    "for century in range(0, EPOCHS, breakpoint):\n",
    "    sub_history = model.fit(x_train, y_train, breakpoint, verbose = 0)\n",
    "    score = model.evaluate(x_test, y_test, False, verbose = 0)\n",
    "    print('Checkpoint {}, Accuracy: {}, Loss: {}'.format(century+breakpoint, score['accuracy'], score[model.loss_fn]))\n",
    "    score['checkpoint'] = century + breakpoint\n",
    "    checkpoints.append(score)\n",
    "    history.extend(sub_history)"
   ]
  },
  {
   "cell_type": "code",
   "execution_count": 9,
   "metadata": {},
   "outputs": [],
   "source": [
    "import matplotlib.pyplot as plt\n",
    "\n",
    "def draw_plot(x, y_list, x_label=None, y_label=None, legend=None, title=None):\n",
    "    fig, ax = plt.subplots(figsize=(12,5))\n",
    "    for xi, yi in zip(x, y_list):\n",
    "        ax.plot(xi, yi)\n",
    "    if x_label is not None and y_label is not None:\n",
    "        ax.set(xlabel=x_label, ylabel=y_label, title='{} VS {}'.format(x_label, y_label))\n",
    "    if legend is not None:\n",
    "        ax.legend(legend)\n",
    "    ax.grid()\n",
    "    plt.show()"
   ]
  },
  {
   "cell_type": "code",
   "execution_count": 10,
   "metadata": {},
   "outputs": [
    {
     "name": "stdout",
     "output_type": "stream",
     "text": [
      "[1. 0. 0.] <-> [0.9871487  0.00924669 0.00360458]\n",
      "[1. 0. 0.] <-> [0.9954006  0.00288299 0.00171644]\n",
      "[0. 1. 0.] <-> [1.63716637e-02 9.83507156e-01 1.21242425e-04]\n",
      "[0. 1. 0.] <-> [6.198349e-03 9.937463e-01 5.532080e-05]\n",
      "[1. 0. 0.] <-> [0.9973845  0.00146541 0.00115011]\n",
      "[0. 0. 1.] <-> [0.5832992  0.01449969 0.40220103]\n",
      "[1. 0. 0.] <-> [0.99668556 0.00213555 0.00117888]\n",
      "[1. 0. 0.] <-> [0.99694663 0.00143997 0.0016135 ]\n",
      "[1. 0. 0.] <-> [0.9927791  0.0022888  0.00493205]\n",
      "[1. 0. 0.] <-> [0.99728096 0.00140168 0.00131736]\n",
      "[1. 0. 0.] <-> [0.997317   0.00132198 0.00136104]\n",
      "[1. 0. 0.] <-> [0.99632025 0.00207906 0.00160068]\n",
      "[0. 1. 0.] <-> [6.1980933e-03 9.9374652e-01 5.5327939e-05]\n",
      "[0. 1. 0.] <-> [6.1962102e-03 9.9374831e-01 5.5405708e-05]\n",
      "[0. 0. 1.] <-> [0.02193523 0.00444016 0.9736245 ]\n",
      "[0. 0. 1.] <-> [0.00703073 0.00253567 0.9904336 ]\n",
      "[1. 0. 0.] <-> [0.99410206 0.00205179 0.00384606]\n",
      "[0. 1. 0.] <-> [4.1562703e-02 9.5817977e-01 2.5761343e-04]\n",
      "[0. 0. 1.] <-> [0.54327154 0.01596601 0.4407624 ]\n",
      "[1. 0. 0.] <-> [0.9942572  0.00440928 0.00133358]\n",
      "[1. 0. 0.] <-> [0.9958275  0.00300497 0.00116754]\n",
      "[1. 0. 0.] <-> [0.5622871  0.01393843 0.4237745 ]\n",
      "[1. 0. 0.] <-> [0.9969927  0.00165363 0.00135361]\n",
      "[1. 0. 0.] <-> [0.84029466 0.01079513 0.14891018]\n",
      "[1. 0. 0.] <-> [0.990258   0.00271633 0.00702578]\n",
      "[1. 0. 0.] <-> [0.9543173  0.00587463 0.03980813]\n",
      "[1. 0. 0.] <-> [0.99710315 0.00131602 0.00158077]\n",
      "[0. 0. 1.] <-> [0.00657328 0.00245802 0.99096876]\n",
      "[1. 0. 0.] <-> [0.9866006  0.01174328 0.00165615]\n",
      "[0. 0. 1.] <-> [0.00993741 0.00303558 0.987027  ]\n",
      "[1. 0. 0.] <-> [0.99656725 0.00153593 0.00189674]\n",
      "[1. 0. 0.] <-> [0.9962198  0.00168355 0.00209672]\n",
      "[1. 0. 0.] <-> [0.6506053  0.34713233 0.00226239]\n",
      "[1. 0. 0.] <-> [0.810677   0.01000892 0.17931405]\n",
      "[1. 0. 0.] <-> [0.9967505  0.00168105 0.00156843]\n",
      "[1. 0. 0.] <-> [0.9976199  0.0011715  0.00120854]\n",
      "[1. 0. 0.] <-> [0.9955171  0.00324401 0.00123893]\n",
      "[1. 0. 0.] <-> [0.9967154  0.00200394 0.00128063]\n",
      "[1. 0. 0.] <-> [0.9941605  0.00199945 0.0038401 ]\n",
      "[1. 0. 0.] <-> [0.9959919  0.00275556 0.00125267]\n",
      "[1. 0. 0.] <-> [0.9970927  0.00171433 0.00119294]\n",
      "[1. 0. 0.] <-> [0.99700326 0.00138406 0.00161274]\n",
      "[1. 0. 0.] <-> [0.99761486 0.00127474 0.0011104 ]\n",
      "[0. 1. 0.] <-> [6.1983848e-03 9.9374628e-01 5.5319695e-05]\n",
      "[1. 0. 0.] <-> [0.9962804  0.00170833 0.00201125]\n",
      "[0. 1. 0.] <-> [6.1975354e-03 9.9374712e-01 5.5337998e-05]\n",
      "[1. 0. 0.] <-> [0.99070764 0.0026823  0.00660997]\n",
      "[0. 1. 0.] <-> [1.7277026e-01 8.2642823e-01 8.0145249e-04]\n",
      "[1. 0. 0.] <-> [0.98610294 0.00468229 0.00921479]\n",
      "[1. 0. 0.] <-> [0.98563045 0.01277322 0.00159626]\n",
      "[1. 0. 0.] <-> [0.9956475  0.00174743 0.002605  ]\n",
      "[1. 0. 0.] <-> [0.96629333 0.0318396  0.00186699]\n",
      "[0. 1. 0.] <-> [1.5106615e-01 8.4821671e-01 7.1715692e-04]\n",
      "[1. 0. 0.] <-> [0.98315513 0.01515693 0.00168799]\n",
      "[1. 0. 0.] <-> [0.99596786 0.00188616 0.00214605]\n",
      "[1. 0. 0.] <-> [0.99642366 0.00240007 0.00117621]\n",
      "[1. 0. 0.] <-> [0.9938601  0.00454032 0.00159958]\n",
      "[1. 0. 0.] <-> [0.99441695 0.00190934 0.00367364]\n",
      "[1. 0. 0.] <-> [0.7779641  0.21985248 0.00218335]\n",
      "[1. 0. 0.] <-> [0.9955485  0.00286764 0.00158389]\n",
      "[1. 0. 0.] <-> [0.9918938  0.0064623  0.00164378]\n",
      "[1. 0. 0.] <-> [0.97229767 0.01334369 0.01435864]\n",
      "[1. 0. 0.] <-> [0.9974189  0.00152002 0.00106105]\n",
      "[1. 0. 0.] <-> [0.9965094  0.00231591 0.00117476]\n",
      "[1. 0. 0.] <-> [0.99613357 0.00243143 0.00143502]\n",
      "[1. 0. 0.] <-> [0.9953471  0.0026644  0.00198854]\n",
      "[1. 0. 0.] <-> [0.9968645  0.0018045  0.00133094]\n",
      "[1. 0. 0.] <-> [0.9923848  0.00384684 0.00376835]\n",
      "[0. 1. 0.] <-> [6.2185870e-03 9.9372560e-01 5.5841592e-05]\n",
      "[1. 0. 0.] <-> [0.9970843  0.00165202 0.00126361]\n",
      "[1. 0. 0.] <-> [0.9781597  0.00407143 0.0177689 ]\n",
      "[1. 0. 0.] <-> [0.99655485 0.00173753 0.00170762]\n",
      "[0. 0. 1.] <-> [0.00697617 0.00253312 0.9904907 ]\n",
      "[1. 0. 0.] <-> [0.9964361  0.00192078 0.0016431 ]\n",
      "[0. 1. 0.] <-> [6.2158960e-03 9.9372852e-01 5.5570712e-05]\n",
      "[1. 0. 0.] <-> [0.32879382 0.66990465 0.00130154]\n",
      "[0. 0. 1.] <-> [0.00656462 0.00245639 0.99097896]\n",
      "[1. 0. 0.] <-> [9.5601067e-02 9.0388066e-01 5.1831000e-04]\n",
      "[0. 0. 1.] <-> [0.00656461 0.00245639 0.99097896]\n",
      "[0. 0. 1.] <-> [0.00677093 0.002495   0.9907341 ]\n",
      "[1. 0. 0.] <-> [0.99524575 0.00215769 0.00259647]\n",
      "[1. 0. 0.] <-> [0.11382902 0.0087138  0.87745714]\n",
      "[0. 1. 0.] <-> [7.1096024e-03 9.9282759e-01 6.2686871e-05]\n",
      "[1. 0. 0.] <-> [0.9970573  0.00133917 0.00160354]\n",
      "[1. 0. 0.] <-> [0.99686396 0.00144865 0.00168741]\n",
      "[1. 0. 0.] <-> [0.98675007 0.00314491 0.01010504]\n",
      "[1. 0. 0.] <-> [0.9929128  0.00218654 0.00490062]\n",
      "[1. 0. 0.] <-> [0.99758685 0.00114693 0.00126626]\n",
      "[1. 0. 0.] <-> [0.9834657  0.00347311 0.01306132]\n",
      "[1. 0. 0.] <-> [0.99220663 0.00577173 0.00202161]\n",
      "[0. 1. 0.] <-> [6.1983876e-03 9.9374628e-01 5.5319641e-05]\n",
      "[1. 0. 0.] <-> [0.9664954  0.00535236 0.02815221]\n",
      "[1. 0. 0.] <-> [0.9489043  0.00710523 0.04399059]\n",
      "[0. 1. 0.] <-> [1.3706902e-02 9.8618758e-01 1.0556874e-04]\n",
      "[1. 0. 0.] <-> [0.6990667  0.2985545  0.00237877]\n",
      "[1. 0. 0.] <-> [0.9935567  0.00252516 0.00391821]\n",
      "[0. 0. 1.] <-> [0.0065647  0.00245648 0.99097884]\n",
      "[1. 0. 0.] <-> [0.9971762  0.00168193 0.00114188]\n",
      "[1. 0. 0.] <-> [0.93561596 0.06243652 0.00194747]\n",
      "[0. 0. 1.] <-> [0.00658187 0.00245978 0.99095833]\n",
      "[1. 0. 0.] <-> [0.99689376 0.00194152 0.00116471]\n",
      "[0. 1. 0.] <-> [1.29546281e-02 9.86944616e-01 1.00689416e-04]\n",
      "[0. 0. 1.] <-> [0.00861272 0.00280205 0.9885852 ]\n",
      "[1. 0. 0.] <-> [0.50465983 0.49331927 0.00202087]\n",
      "[1. 0. 0.] <-> [0.9971681  0.00137551 0.00145643]\n",
      "[1. 0. 0.] <-> [0.9944455  0.00191168 0.00364284]\n",
      "[0. 0. 1.] <-> [0.05310573 0.00658501 0.9403093 ]\n",
      "[0. 1. 0.] <-> [1.831556e-02 9.815475e-01 1.369858e-04]\n",
      "{'accuracy': 0.9691358024691358, 'mean_square_error': 0.06517919200931453, 'categorical_crossentropy': 0.10527841250101726, 'essential_metrics': {0: {'tp_hit': 75, 'fp_hit': 2, 'tn_hit': 28, 'fn_hit': 3}, 1: {'tp_hit': 16, 'fp_hit': 2, 'tn_hit': 90, 'fn_hit': 0}, 2: {'tp_hit': 12, 'fp_hit': 1, 'tn_hit': 93, 'fn_hit': 2}}}\n"
     ]
    }
   ],
   "source": [
    "# recall phase\n",
    "score = model.evaluate(x_test, y_test, False)\n",
    "print(score)"
   ]
  },
  {
   "cell_type": "code",
   "execution_count": 11,
   "metadata": {},
   "outputs": [
    {
     "data": {
      "image/png": "[encoded data removed]",
      "text/plain": [
       "<Figure size 864x360 with 1 Axes>"
      ]
     },
     "metadata": {
      "needs_background": "light"
     },
     "output_type": "display_data"
    },
    {
     "data": {
      "image/png": "[encoded data removed]",
      "text/plain": [
       "<Figure size 864x360 with 1 Axes>"
      ]
     },
     "metadata": {
      "needs_background": "light"
     },
     "output_type": "display_data"
    }
   ],
   "source": [
    "draw_plot(x = [[i for i in range(len(history))], [(i+1)*breakpoint for i in range(len(checkpoints))]], y_list = [history, [ ckp[model.loss_fn] for ckp in checkpoints ]], x_label = 'Epochs', \\\n",
    "    y_label = model.loss_fn, legend=['train', 'test'])\n",
    "acc = [ ckp['accuracy'] for ckp in checkpoints ]\n",
    "draw_plot(x = [[(i+1)*breakpoint for i in range(len(checkpoints))]], y_list = [acc], x_label = 'Checkpoints', \\\n",
    "    y_label = 'accuracy')"
   ]
  },
  {
   "cell_type": "code",
   "execution_count": 12,
   "metadata": {},
   "outputs": [
    {
     "name": "stdout",
     "output_type": "stream",
     "text": [
      "{'accuracy': 0.9567901234567902, 'mean_square_error': 0.097697268291175, 'categorical_crossentropy': 0.2025573695147479, 'essential_metrics': {0: {'tp_hit': 75, 'fp_hit': 4, 'tn_hit': 26, 'fn_hit': 3}, 1: {'tp_hit': 15, 'fp_hit': 2, 'tn_hit': 90, 'fn_hit': 1}, 2: {'tp_hit': 11, 'fp_hit': 1, 'tn_hit': 93, 'fn_hit': 3}}, 'checkpoint': 100} \n",
      "\n",
      "\n",
      "{'accuracy': 0.9629629629629629, 'mean_square_error': 0.07261687415740223, 'categorical_crossentropy': 0.11499175318965206, 'essential_metrics': {0: {'tp_hit': 75, 'fp_hit': 3, 'tn_hit': 27, 'fn_hit': 3}, 1: {'tp_hit': 15, 'fp_hit': 2, 'tn_hit': 90, 'fn_hit': 1}, 2: {'tp_hit': 12, 'fp_hit': 1, 'tn_hit': 93, 'fn_hit': 2}}, 'checkpoint': 200} \n",
      "\n",
      "\n",
      "{'accuracy': 0.9629629629629629, 'mean_square_error': 0.06810392013955414, 'categorical_crossentropy': 0.10947751115869593, 'essential_metrics': {0: {'tp_hit': 74, 'fp_hit': 2, 'tn_hit': 28, 'fn_hit': 4}, 1: {'tp_hit': 16, 'fp_hit': 3, 'tn_hit': 89, 'fn_hit': 0}, 2: {'tp_hit': 12, 'fp_hit': 1, 'tn_hit': 93, 'fn_hit': 2}}, 'checkpoint': 300} \n",
      "\n",
      "\n",
      "{'accuracy': 0.9691358024691358, 'mean_square_error': 0.0656682250902586, 'categorical_crossentropy': 0.10601141717698839, 'essential_metrics': {0: {'tp_hit': 75, 'fp_hit': 2, 'tn_hit': 28, 'fn_hit': 3}, 1: {'tp_hit': 16, 'fp_hit': 2, 'tn_hit': 90, 'fn_hit': 0}, 2: {'tp_hit': 12, 'fp_hit': 1, 'tn_hit': 93, 'fn_hit': 2}}, 'checkpoint': 400} \n",
      "\n",
      "\n",
      "{'accuracy': 0.9691358024691358, 'mean_square_error': 0.06517919200931453, 'categorical_crossentropy': 0.10527841250101726, 'essential_metrics': {0: {'tp_hit': 75, 'fp_hit': 2, 'tn_hit': 28, 'fn_hit': 3}, 1: {'tp_hit': 16, 'fp_hit': 2, 'tn_hit': 90, 'fn_hit': 0}, 2: {'tp_hit': 12, 'fp_hit': 1, 'tn_hit': 93, 'fn_hit': 2}}, 'checkpoint': 500} \n",
      "\n",
      "\n"
     ]
    }
   ],
   "source": [
    "for checkpoint in checkpoints:\n",
    "    print(checkpoint, '\\n\\n')"
   ]
  },
  {
   "cell_type": "code",
   "execution_count": 13,
   "metadata": {},
   "outputs": [
    {
     "name": "stdout",
     "output_type": "stream",
     "text": [
      "Layer 1\n",
      "Neuron 0: weights:\n",
      "[-2.0425513  3.         3.        -0.6665466 -1.4993912]\n",
      " bias: -3.0\n",
      "\n",
      "Neuron 1: weights:\n",
      "[-1.9747128   3.          3.         -0.01937033 -1.8333052 ]\n",
      " bias: -3.0\n",
      "\n",
      "Neuron 2: weights:\n",
      "[ 0.10992066  3.          0.3414345  -3.         -3.        ]\n",
      " bias: 2.173851490020752\n",
      "\n",
      "Neuron 3: weights:\n",
      "[ 0.07084596  3.         -0.07945119 -3.         -3.        ]\n",
      " bias: 1.8526028394699097\n",
      "\n",
      "$\n",
      "Layer 2\n",
      "Neuron 0: weights:\n",
      "[-3. -3.  3.  3.]\n",
      " bias: -2.0169997215270996\n",
      "\n",
      "Neuron 1: weights:\n",
      "[ 3.         3.        -2.18803    2.2482202]\n",
      " bias: -3.0\n",
      "\n",
      "Neuron 2: weights:\n",
      "[-2.1142342 -1.6216913 -3.        -3.       ]\n",
      " bias: 3.0\n",
      "\n",
      "$\n",
      "\n"
     ]
    }
   ],
   "source": [
    "print(model)"
   ]
  }
 ],
 "metadata": {
  "kernelspec": {
   "display_name": "Python 3",
   "language": "python",
   "name": "python3"
  },
  "language_info": {
   "codemirror_mode": {
    "name": "ipython",
    "version": 3
   },
   "file_extension": ".py",
   "mimetype": "text/x-python",
   "name": "python",
   "nbconvert_exporter": "python",
   "pygments_lexer": "ipython3",
   "version": "3.6.10"
  }
 },
 "nbformat": 4,
 "nbformat_minor": 2
}
