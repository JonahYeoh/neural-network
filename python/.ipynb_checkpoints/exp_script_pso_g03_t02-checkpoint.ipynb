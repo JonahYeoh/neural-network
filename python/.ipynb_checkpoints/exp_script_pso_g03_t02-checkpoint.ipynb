{
 "cells": [
  {
   "cell_type": "code",
   "execution_count": 1,
   "metadata": {},
   "outputs": [],
   "source": [
    "# dependency\n",
    "import numpy as np\n",
    "import pandas as pd\n",
    "import copy\n",
    "import math\n",
    "import sys\n",
    "import os\n",
    "from activations import relu, leaky_relu, sigmoid, tanh, softmax, d_sigmoid, d_relu\n",
    "from initializers import glorot_uniform, random_normal, random_uniform\n",
    "from regularizers import l1_regularizer, l2_regularizer\n",
    "from utility import trim_tail, multiply, subtract, get_nparams, one_hot_encoding, get_data\n",
    "from metrics import MSE, CCE, ACC, PRECISION, RECALL, essential_metrics, wondering_penalty, close_gap_penalty\n",
    "from pso import PSO\n",
    "from ga import GA\n",
    "from nn import Network\n",
    "from layer import DenseLayer\n",
    "from scalers import MinMaxScaler, StandardScaler"
   ]
  },
  {
   "cell_type": "code",
   "execution_count": 2,
   "metadata": {},
   "outputs": [],
   "source": [
    "# reference\n",
    "metrics_fn_dict = dict()\n",
    "metrics_fn_dict['accuracy'] = ACC\n",
    "metrics_fn_dict['categorical_crossentropy'] = CCE\n",
    "metrics_fn_dict['mean_square_error'] = MSE\n",
    "metrics_fn_dict['precision'] = PRECISION\n",
    "metrics_fn_dict['recall'] = RECALL\n",
    "metrics_fn_dict['essential_metrics'] = essential_metrics"
   ]
  },
  {
   "cell_type": "code",
   "execution_count": 3,
   "metadata": {},
   "outputs": [],
   "source": [
    "# model\n",
    "model = Network(5, lr = None)\n",
    "model.add_layer(DenseLayer(1, 4, True, afn=sigmoid, dafn=None, rfn=None))\n",
    "model.add_layer(DenseLayer(2, 3, True, afn=softmax, dafn=None, rfn=None))"
   ]
  },
  {
   "cell_type": "code",
   "execution_count": 4,
   "metadata": {},
   "outputs": [
    {
     "name": "stdout",
     "output_type": "stream",
     "text": [
      "see one see two 2 2\n"
     ]
    }
   ],
   "source": [
    "pso = PSO(dict(m = 50,\n",
    "    weight_constraint = [-3, 3], \n",
    "    velocity_constraint = [-0.1, 0.1],\n",
    "    c1 = 2,\n",
    "    c2 = 2,\n",
    "    w = 1,\n",
    "    w_decay = 1,\n",
    "    scale_hyperparameter = False,\n",
    "    regularizer = None,\n",
    "    mask = True))"
   ]
  },
  {
   "cell_type": "code",
   "execution_count": 5,
   "metadata": {},
   "outputs": [
    {
     "name": "stdout",
     "output_type": "stream",
     "text": [
      "building layer 1 with 5\n",
      "24\n",
      "building layer 2 with 4\n",
      "15\n"
     ]
    }
   ],
   "source": [
    "model.compile(loss_fn = 'categorical_crossentropy', optimizer = pso, \\\n",
    "    metrics = ['accuracy', 'mean_square_error', 'categorical_crossentropy'])"
   ]
  },
  {
   "cell_type": "code",
   "execution_count": 6,
   "metadata": {},
   "outputs": [
    {
     "name": "stdout",
     "output_type": "stream",
     "text": [
      "<class 'pandas.core.frame.DataFrame'>\n",
      "RangeIndex: 107 entries, 0 to 106\n",
      "Data columns (total 6 columns):\n",
      " #   Column  Non-Null Count  Dtype  \n",
      "---  ------  --------------  -----  \n",
      " 0   f1      107 non-null    float32\n",
      " 1   f2      107 non-null    float32\n",
      " 2   f3      107 non-null    float32\n",
      " 3   f4      107 non-null    float32\n",
      " 4   f5      107 non-null    float32\n",
      " 5   label   107 non-null    float32\n",
      "dtypes: float32(6)\n",
      "memory usage: 2.6 KB\n",
      "None\n",
      "<class 'pandas.core.frame.DataFrame'>\n",
      "RangeIndex: 108 entries, 0 to 107\n",
      "Data columns (total 6 columns):\n",
      " #   Column  Non-Null Count  Dtype  \n",
      "---  ------  --------------  -----  \n",
      " 0   f1      108 non-null    float32\n",
      " 1   f2      108 non-null    float32\n",
      " 2   f3      108 non-null    float32\n",
      " 3   f4      108 non-null    float32\n",
      " 4   f5      108 non-null    float32\n",
      " 5   label   108 non-null    float32\n",
      "dtypes: float32(6)\n",
      "memory usage: 2.7 KB\n",
      "None\n"
     ]
    }
   ],
   "source": [
    "# data loading\n",
    "DATA = os.path.join('c:\\\\Users\\\\tcumi\\\\github_repo\\\\neural-network\\\\', 'dataset')\n",
    "GROUP = 3\n",
    "COLUMNS = ['f1', 'f2', 'f3', 'f4', 'f5', 'label']\n",
    "N_CLASS = 3\n",
    "EPOCHS = 500\n",
    "train_dir, test_dir = \"..//dataset//training_data{}.txt\".format(GROUP), \"..//dataset//testing_data{}.txt\".format(GROUP)\n",
    "train, test = get_data(DATA, train_dir, COLUMNS), get_data(DATA, test_dir, COLUMNS)\n",
    "# shuffle\n",
    "train, test = train.sample(frac=1), test.sample(frac=1)\n",
    "x_train, y_train = train.drop('label', axis=1), train['label']\n",
    "x_test, y_test = test.drop('label', axis=1), test['label']"
   ]
  },
  {
   "cell_type": "code",
   "execution_count": 7,
   "metadata": {},
   "outputs": [],
   "source": [
    "# data scaling and encoding\n",
    "scaler = StandardScaler(['f1', 'f2', 'f3', 'f4', 'f5'])\n",
    "scaler.fit(x_train)\n",
    "x_train = scaler.transform(x_train)\n",
    "x_test = scaler.transform(x_test)\n",
    "y_train = one_hot_encoding(y_train, N_CLASS)\n",
    "y_test = one_hot_encoding(y_test, N_CLASS)"
   ]
  },
  {
   "cell_type": "code",
   "execution_count": 8,
   "metadata": {
    "tags": [
     "outputPrepend"
    ]
   },
   "outputs": [
    {
     "name": "stdout",
     "output_type": "stream",
     "text": [
      "Checkpoint 100, Accuracy: 0.9691358024691358, Loss: 0.22571035667702002\n",
      "Checkpoint 200, Accuracy: 0.9567901234567902, Loss: 0.14831555331194843\n",
      "Checkpoint 300, Accuracy: 0.9691358024691358, Loss: 0.1086239461545591\n",
      "Checkpoint 400, Accuracy: 0.9691358024691358, Loss: 0.10393849125614872\n",
      "Checkpoint 500, Accuracy: 0.9691358024691358, Loss: 0.10295846727159289\n"
     ]
    }
   ],
   "source": [
    "# learning phase\n",
    "breakpoint = 100\n",
    "checkpoints = list()\n",
    "history = list()\n",
    "for century in range(0, EPOCHS, breakpoint):\n",
    "    sub_history = model.fit(x_train, y_train, breakpoint, verbose = 0)\n",
    "    score = model.evaluate(x_test, y_test, False, verbose = 0)\n",
    "    print('Checkpoint {}, Accuracy: {}, Loss: {}'.format(century+breakpoint, score['accuracy'], score[model.loss_fn]))\n",
    "    score['checkpoint'] = century + breakpoint\n",
    "    checkpoints.append(score)\n",
    "    history.extend(sub_history)"
   ]
  },
  {
   "cell_type": "code",
   "execution_count": 9,
   "metadata": {},
   "outputs": [],
   "source": [
    "import matplotlib.pyplot as plt\n",
    "\n",
    "def draw_plot(x, y_list, x_label=None, y_label=None, legend=None, title=None):\n",
    "    fig, ax = plt.subplots(figsize=(12,5))\n",
    "    for xi, yi in zip(x, y_list):\n",
    "        ax.plot(xi, yi)\n",
    "    if x_label is not None and y_label is not None:\n",
    "        ax.set(xlabel=x_label, ylabel=y_label, title='{} VS {}'.format(x_label, y_label))\n",
    "    if legend is not None:\n",
    "        ax.legend(legend)\n",
    "    ax.grid()\n",
    "    plt.show()"
   ]
  },
  {
   "cell_type": "code",
   "execution_count": 10,
   "metadata": {},
   "outputs": [
    {
     "name": "stdout",
     "output_type": "stream",
     "text": [
      "[1. 0. 0.] <-> [0.9952819  0.00114663 0.00357148]\n",
      "[0. 1. 0.] <-> [5.6488831e-03 9.9434245e-01 8.6267410e-06]\n",
      "[1. 0. 0.] <-> [0.99587387 0.00307446 0.00105175]\n",
      "[0. 1. 0.] <-> [5.6488859e-03 9.9434245e-01 8.6267328e-06]\n",
      "[1. 0. 0.] <-> [0.99733245 0.00148806 0.00117955]\n",
      "[1. 0. 0.] <-> [0.99017745 0.00109851 0.00872413]\n",
      "[1. 0. 0.] <-> [0.99632    0.00229046 0.00138953]\n",
      "[1. 0. 0.] <-> [0.99256504 0.00123164 0.00620333]\n",
      "[1. 0. 0.] <-> [1.11128591e-01 1.21518475e-04 8.88749897e-01]\n",
      "[1. 0. 0.] <-> [0.56105036 0.00066502 0.43828467]\n",
      "[1. 0. 0.] <-> [0.9483278  0.0010432  0.05062902]\n",
      "[0. 0. 1.] <-> [5.3535663e-02 5.8004021e-05 9.4640636e-01]\n",
      "[0. 1. 0.] <-> [1.27412565e-02 9.87239778e-01 1.89970397e-05]\n",
      "[1. 0. 0.] <-> [0.9357379  0.06317315 0.00108897]\n",
      "[1. 0. 0.] <-> [0.99713635 0.00118267 0.00168103]\n",
      "[1. 0. 0.] <-> [0.99754274 0.00129961 0.00115764]\n",
      "[1. 0. 0.] <-> [0.99678326 0.00196265 0.00125406]\n",
      "[1. 0. 0.] <-> [0.9969613  0.00148779 0.00155086]\n",
      "[1. 0. 0.] <-> [0.99469006 0.00114289 0.00416713]\n",
      "[1. 0. 0.] <-> [0.7833347  0.21567829 0.00098708]\n",
      "[1. 0. 0.] <-> [0.98953617 0.0018493  0.00861449]\n",
      "[1. 0. 0.] <-> [0.9970451  0.00155838 0.00139658]\n",
      "[1. 0. 0.] <-> [0.996512   0.00185673 0.00163129]\n",
      "[1. 0. 0.] <-> [0.9970763  0.00124317 0.00168051]\n",
      "[0. 1. 0.] <-> [1.9601172e-01 8.0372953e-01 2.5874851e-04]\n",
      "[1. 0. 0.] <-> [0.8496192  0.00092915 0.14945167]\n",
      "[0. 0. 1.] <-> [9.6809985e-03 1.0480934e-05 9.9030846e-01]\n",
      "[1. 0. 0.] <-> [0.9832398  0.01556841 0.00119182]\n",
      "[0. 0. 1.] <-> [7.822448e-03 8.460284e-06 9.921691e-01]\n",
      "[1. 0. 0.] <-> [0.9864202  0.01243016 0.00114973]\n",
      "[0. 0. 1.] <-> [6.1151776e-03 6.6137668e-06 9.9387819e-01]\n",
      "[0. 0. 1.] <-> [6.1160065e-03 6.6149978e-06 9.9387735e-01]\n",
      "[0. 1. 0.] <-> [1.5647853e-02 9.8432934e-01 2.2937764e-05]\n",
      "[1. 0. 0.] <-> [0.99694103 0.00120814 0.00185075]\n",
      "[0. 0. 1.] <-> [9.6897380e-03 1.0560999e-05 9.9029970e-01]\n",
      "[1. 0. 0.] <-> [0.9975382  0.00114337 0.00131843]\n",
      "[0. 1. 0.] <-> [5.6489129e-03 9.9434245e-01 8.6304599e-06]\n",
      "[1. 0. 0.] <-> [0.83745825 0.00093032 0.16161138]\n",
      "[1. 0. 0.] <-> [0.9971161  0.00160014 0.0012837 ]\n",
      "[1. 0. 0.] <-> [0.7123753  0.28658873 0.00103596]\n",
      "[1. 0. 0.] <-> [0.9938054  0.00113283 0.00506183]\n",
      "[1. 0. 0.] <-> [0.9969517  0.00173204 0.00131616]\n",
      "[1. 0. 0.] <-> [0.99331117 0.00108217 0.00560666]\n",
      "[1. 0. 0.] <-> [3.3178428e-01 6.6778207e-01 4.3371780e-04]\n",
      "[0. 1. 0.] <-> [1.5540639e-01 8.4438491e-01 2.0861925e-04]\n",
      "[0. 0. 1.] <-> [6.1170645e-03 6.6158041e-06 9.9387628e-01]\n",
      "[1. 0. 0.] <-> [0.9966266  0.0011919  0.00218152]\n",
      "[1. 0. 0.] <-> [0.9967796  0.00144914 0.00177126]\n",
      "[1. 0. 0.] <-> [0.99462694 0.001441   0.0039321 ]\n",
      "[1. 0. 0.] <-> [0.6585883  0.3404646  0.00094716]\n",
      "[1. 0. 0.] <-> [0.9970964  0.00172713 0.00117655]\n",
      "[1. 0. 0.] <-> [0.99416745 0.00109379 0.00473873]\n",
      "[1. 0. 0.] <-> [0.9679267  0.00123332 0.03083993]\n",
      "[1. 0. 0.] <-> [0.9884979  0.00108301 0.01041895]\n",
      "[0. 1. 0.] <-> [6.5462473e-03 9.9344373e-01 1.0095997e-05]\n",
      "[1. 0. 0.] <-> [0.99735874 0.00122259 0.00141863]\n",
      "[0. 1. 0.] <-> [1.2779145e-02 9.8720205e-01 1.8862887e-05]\n",
      "[1. 0. 0.] <-> [0.9944359  0.00443589 0.00112823]\n",
      "[0. 1. 0.] <-> [5.682310e-03 9.943089e-01 8.740421e-06]\n",
      "[1. 0. 0.] <-> [0.9974573  0.0010965  0.00144611]\n",
      "[0. 1. 0.] <-> [1.7565083e-02 9.8240834e-01 2.6549051e-05]\n",
      "[0. 1. 0.] <-> [5.6698858e-03 9.9432147e-01 8.6755654e-06]\n",
      "[1. 0. 0.] <-> [0.99661046 0.00131873 0.00207072]\n",
      "[1. 0. 0.] <-> [0.9964324  0.00246812 0.0010995 ]\n",
      "[0. 1. 0.] <-> [5.6488886e-03 9.9434245e-01 8.6280243e-06]\n",
      "[1. 0. 0.] <-> [0.9971208  0.00115963 0.00171948]\n",
      "[0. 0. 1.] <-> [3.4707855e-02 3.7538062e-05 9.6525460e-01]\n",
      "[0. 0. 1.] <-> [1.0455693e-02 1.1308285e-05 9.8953307e-01]\n",
      "[1. 0. 0.] <-> [0.9972384  0.00112366 0.00163798]\n",
      "[1. 0. 0.] <-> [0.9850354  0.0010707  0.01389393]\n",
      "[1. 0. 0.] <-> [0.9959228  0.00262971 0.00144752]\n",
      "[1. 0. 0.] <-> [0.9967031  0.00166689 0.00163006]\n",
      "[1. 0. 0.] <-> [0.99488693 0.00109675 0.00401626]\n",
      "[1. 0. 0.] <-> [0.99714357 0.00171897 0.00113747]\n",
      "[1. 0. 0.] <-> [0.52227867 0.47693977 0.00078157]\n",
      "[1. 0. 0.] <-> [0.99648273 0.00239371 0.0011235 ]\n",
      "[1. 0. 0.] <-> [0.9966419  0.00222617 0.00113199]\n",
      "[1. 0. 0.] <-> [0.99552566 0.00335135 0.00112302]\n",
      "[1. 0. 0.] <-> [0.9962806  0.00145432 0.00226505]\n",
      "[1. 0. 0.] <-> [0.9964737 0.0012925 0.0022337]\n",
      "[1. 0. 0.] <-> [0.99591786 0.00252458 0.00155752]\n",
      "[1. 0. 0.] <-> [0.9787096  0.00112267 0.02016765]\n",
      "[1. 0. 0.] <-> [0.9937215  0.00241116 0.00386744]\n",
      "[1. 0. 0.] <-> [0.99574846 0.00154796 0.00270352]\n",
      "[1. 0. 0.] <-> [0.9973183  0.00160686 0.00107474]\n",
      "[0. 0. 1.] <-> [0.55360055 0.00061394 0.44578552]\n",
      "[0. 0. 1.] <-> [0.5581242  0.00060466 0.44127116]\n",
      "[1. 0. 0.] <-> [0.96740204 0.03142145 0.0011765 ]\n",
      "[0. 1. 0.] <-> [5.6488831e-03 9.9434245e-01 8.6268974e-06]\n",
      "[0. 1. 0.] <-> [5.6504803e-03 9.9434090e-01 8.6449618e-06]\n",
      "[1. 0. 0.] <-> [0.9959268  0.00120042 0.0028727 ]\n",
      "[1. 0. 0.] <-> [0.99057823 0.00685645 0.00256529]\n",
      "[1. 0. 0.] <-> [0.99716777 0.00123292 0.00159927]\n",
      "[1. 0. 0.] <-> [0.98500603 0.00469388 0.01030012]\n",
      "[0. 0. 1.] <-> [8.393778e-03 9.078303e-06 9.915971e-01]\n",
      "[1. 0. 0.] <-> [0.9666148  0.00114318 0.03224197]\n",
      "[1. 0. 0.] <-> [9.5418416e-02 9.0444481e-01 1.3678122e-04]\n",
      "[1. 0. 0.] <-> [0.9869076  0.01186922 0.00122316]\n",
      "[1. 0. 0.] <-> [0.99608946 0.002773   0.00113755]\n",
      "[0. 0. 1.] <-> [6.4015896e-03 6.9237326e-06 9.9359149e-01]\n",
      "[1. 0. 0.] <-> [0.99726427 0.0013261  0.00140954]\n",
      "[1. 0. 0.] <-> [0.99239385 0.00625084 0.00135531]\n",
      "[1. 0. 0.] <-> [0.99685055 0.00200283 0.00114659]\n",
      "[1. 0. 0.] <-> [0.9959409  0.00218789 0.00187123]\n",
      "[1. 0. 0.] <-> [0.9932139  0.00502281 0.00176331]\n",
      "[0. 1. 0.] <-> [4.1262683e-02 9.5867878e-01 5.8469876e-05]\n",
      "[0. 0. 1.] <-> [6.2732808e-03 6.7847636e-06 9.9371994e-01]\n",
      "[1. 0. 0.] <-> [0.99437666 0.00425656 0.00136681]\n",
      "{'accuracy': 0.9691358024691358, 'mean_square_error': 0.06425757205052808, 'categorical_crossentropy': 0.10295846727159289, 'essential_metrics': {0: {'tp_hit': 75, 'fp_hit': 2, 'tn_hit': 28, 'fn_hit': 3}, 1: {'tp_hit': 16, 'fp_hit': 2, 'tn_hit': 90, 'fn_hit': 0}, 2: {'tp_hit': 12, 'fp_hit': 1, 'tn_hit': 93, 'fn_hit': 2}}}\n"
     ]
    }
   ],
   "source": [
    "# recall phase\n",
    "score = model.evaluate(x_test, y_test, False)\n",
    "print(score)"
   ]
  },
  {
   "cell_type": "code",
   "execution_count": 11,
   "metadata": {},
   "outputs": [
    {
     "data": {
      "image/png": "[encoded data removed]",
      "text/plain": [
       "<Figure size 864x360 with 1 Axes>"
      ]
     },
     "metadata": {
      "needs_background": "light"
     },
     "output_type": "display_data"
    },
    {
     "data": {
      "image/png": "[encoded data removed]",
      "text/plain": [
       "<Figure size 864x360 with 1 Axes>"
      ]
     },
     "metadata": {
      "needs_background": "light"
     },
     "output_type": "display_data"
    }
   ],
   "source": [
    "draw_plot(x = [[i for i in range(len(history))], [(i+1)*breakpoint for i in range(len(checkpoints))]], y_list = [history, [ ckp[model.loss_fn] for ckp in checkpoints ]], x_label = 'Epochs', \\\n",
    "    y_label = model.loss_fn, legend=['train', 'test'])\n",
    "acc = [ ckp['accuracy'] for ckp in checkpoints ]\n",
    "draw_plot(x = [[(i+1)*breakpoint for i in range(len(checkpoints))]], y_list = [acc], x_label = 'Checkpoints', \\\n",
    "    y_label = 'accuracy')"
   ]
  },
  {
   "cell_type": "code",
   "execution_count": 12,
   "metadata": {},
   "outputs": [
    {
     "name": "stdout",
     "output_type": "stream",
     "text": [
      "{'accuracy': 0.9691358024691358, 'mean_square_error': 0.11016369641713031, 'categorical_crossentropy': 0.22571035667702002, 'essential_metrics': {0: {'tp_hit': 77, 'fp_hit': 4, 'tn_hit': 26, 'fn_hit': 1}, 1: {'tp_hit': 16, 'fp_hit': 1, 'tn_hit': 91, 'fn_hit': 0}, 2: {'tp_hit': 10, 'fp_hit': 0, 'tn_hit': 94, 'fn_hit': 4}}, 'checkpoint': 100} \n",
      "\n",
      "\n",
      "{'accuracy': 0.9567901234567902, 'mean_square_error': 0.08988886420379083, 'categorical_crossentropy': 0.14831555331194843, 'essential_metrics': {0: {'tp_hit': 74, 'fp_hit': 3, 'tn_hit': 27, 'fn_hit': 4}, 1: {'tp_hit': 16, 'fp_hit': 3, 'tn_hit': 89, 'fn_hit': 0}, 2: {'tp_hit': 11, 'fp_hit': 1, 'tn_hit': 93, 'fn_hit': 3}}, 'checkpoint': 200} \n",
      "\n",
      "\n",
      "{'accuracy': 0.9691358024691358, 'mean_square_error': 0.06827641745360331, 'categorical_crossentropy': 0.1086239461545591, 'essential_metrics': {0: {'tp_hit': 74, 'fp_hit': 1, 'tn_hit': 29, 'fn_hit': 4}, 1: {'tp_hit': 16, 'fp_hit': 3, 'tn_hit': 89, 'fn_hit': 0}, 2: {'tp_hit': 13, 'fp_hit': 1, 'tn_hit': 93, 'fn_hit': 1}}, 'checkpoint': 300} \n",
      "\n",
      "\n",
      "{'accuracy': 0.9691358024691358, 'mean_square_error': 0.06513189678441557, 'categorical_crossentropy': 0.10393849125614872, 'essential_metrics': {0: {'tp_hit': 75, 'fp_hit': 2, 'tn_hit': 28, 'fn_hit': 3}, 1: {'tp_hit': 16, 'fp_hit': 2, 'tn_hit': 90, 'fn_hit': 0}, 2: {'tp_hit': 12, 'fp_hit': 1, 'tn_hit': 93, 'fn_hit': 2}}, 'checkpoint': 400} \n",
      "\n",
      "\n",
      "{'accuracy': 0.9691358024691358, 'mean_square_error': 0.06425757205052808, 'categorical_crossentropy': 0.10295846727159289, 'essential_metrics': {0: {'tp_hit': 75, 'fp_hit': 2, 'tn_hit': 28, 'fn_hit': 3}, 1: {'tp_hit': 16, 'fp_hit': 2, 'tn_hit': 90, 'fn_hit': 0}, 2: {'tp_hit': 12, 'fp_hit': 1, 'tn_hit': 93, 'fn_hit': 2}}, 'checkpoint': 500} \n",
      "\n",
      "\n"
     ]
    }
   ],
   "source": [
    "for checkpoint in checkpoints:\n",
    "    print(checkpoint, '\\n\\n')"
   ]
  },
  {
   "cell_type": "code",
   "execution_count": 13,
   "metadata": {},
   "outputs": [
    {
     "name": "stdout",
     "output_type": "stream",
     "text": [
      "Layer 1\n",
      "Neuron 0: weights:\n",
      "[-0.00518374 -3.         -0.24944481  0.67905515  3.        ]\n",
      " bias: -2.614838123321533\n",
      "\n",
      "Neuron 1: weights:\n",
      "[-2.0716605  3.         3.         0.6715273 -2.0404506]\n",
      " bias: -3.0\n",
      "\n",
      "Neuron 2: weights:\n",
      "[ 1.9902614 -3.        -3.         1.2365673  1.1966252]\n",
      " bias: 3.0\n",
      "\n",
      "Neuron 3: weights:\n",
      "[ 0.17192258  3.          0.05448363 -3.         -3.        ]\n",
      " bias: 2.0510807037353516\n",
      "\n",
      "$\n",
      "Layer 2\n",
      "Neuron 0: weights:\n",
      "[-3. -3.  3.  3.]\n",
      " bias: -0.35570472478866577\n",
      "\n",
      "Neuron 1: weights:\n",
      "[-3.  3. -3.  3.]\n",
      " bias: -1.1850812435150146\n",
      "\n",
      "Neuron 2: weights:\n",
      "[ 3.        -2.5751982  3.        -3.       ]\n",
      " bias: -1.2648636102676392\n",
      "\n",
      "$\n",
      "\n"
     ]
    }
   ],
   "source": [
    "print(model)"
   ]
  }
 ],
 "metadata": {
  "kernelspec": {
   "display_name": "Python 3",
   "language": "python",
   "name": "python3"
  },
  "language_info": {
   "codemirror_mode": {
    "name": "ipython",
    "version": 3
   },
   "file_extension": ".py",
   "mimetype": "text/x-python",
   "name": "python",
   "nbconvert_exporter": "python",
   "pygments_lexer": "ipython3",
   "version": "3.6.10"
  }
 },
 "nbformat": 4,
 "nbformat_minor": 2
}
