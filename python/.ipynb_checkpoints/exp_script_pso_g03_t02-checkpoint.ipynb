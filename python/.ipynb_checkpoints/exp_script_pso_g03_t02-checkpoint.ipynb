{
 "cells": [
  {
   "cell_type": "code",
   "execution_count": 1,
   "metadata": {},
   "outputs": [],
   "source": [
    "# dependency\n",
    "import numpy as np\n",
    "import pandas as pd\n",
    "import copy\n",
    "import math\n",
    "import sys\n",
    "import os\n",
    "from activations import relu, leaky_relu, sigmoid, tanh, softmax, d_sigmoid, d_relu\n",
    "from initializers import glorot_uniform, random_normal, random_uniform\n",
    "from regularizers import l1_regularizer, l2_regularizer\n",
    "from utility import trim_tail, multiply, subtract, get_nparams, one_hot_encoding, get_data\n",
    "from metrics import MSE, CCE, ACC, PRECISION, RECALL, essential_metrics, wondering_penalty, close_gap_penalty\n",
    "from pso import PSO\n",
    "from ga import GA\n",
    "from nn import Network\n",
    "from layer import DenseLayer\n",
    "from scalers import MinMaxScaler, StandardScaler"
   ]
  },
  {
   "cell_type": "code",
   "execution_count": 2,
   "metadata": {},
   "outputs": [],
   "source": [
    "# reference\n",
    "metrics_fn_dict = dict()\n",
    "metrics_fn_dict['accuracy'] = ACC\n",
    "metrics_fn_dict['categorical_crossentropy'] = CCE\n",
    "metrics_fn_dict['mean_square_error'] = MSE\n",
    "metrics_fn_dict['precision'] = PRECISION\n",
    "metrics_fn_dict['recall'] = RECALL\n",
    "metrics_fn_dict['essential_metrics'] = essential_metrics"
   ]
  },
  {
   "cell_type": "code",
   "execution_count": 3,
   "metadata": {},
   "outputs": [],
   "source": [
    "# model\n",
    "model = Network(5, lr = None)\n",
    "model.add_layer(DenseLayer(1, 4, True, afn=sigmoid, dafn=None, rfn=None))\n",
    "model.add_layer(DenseLayer(2, 3, True, afn=softmax, dafn=None, rfn=None))"
   ]
  },
  {
   "cell_type": "code",
   "execution_count": 4,
   "metadata": {},
   "outputs": [
    {
     "name": "stdout",
     "output_type": "stream",
     "text": [
      "see one see two 2 2\n"
     ]
    }
   ],
   "source": [
    "pso = PSO(dict(m = 50,\n",
    "    weight_constraint = [-3, 3], \n",
    "    velocity_constraint = [-0.1, 0.1],\n",
    "    c1 = 2,\n",
    "    c2 = 2,\n",
    "    w = 1,\n",
    "    w_decay = 1,\n",
    "    scale_hyperparameter = False,\n",
    "    regularizer = None,\n",
    "    mask = True))"
   ]
  },
  {
   "cell_type": "code",
   "execution_count": 5,
   "metadata": {},
   "outputs": [
    {
     "name": "stdout",
     "output_type": "stream",
     "text": [
      "building layer 1 with 5\n",
      "24\n",
      "building layer 2 with 4\n",
      "15\n"
     ]
    }
   ],
   "source": [
    "model.compile(loss_fn = 'categorical_crossentropy', optimizer = pso, \\\n",
    "    metrics = ['accuracy', 'mean_square_error', 'categorical_crossentropy'])"
   ]
  },
  {
   "cell_type": "code",
   "execution_count": 6,
   "metadata": {},
   "outputs": [
    {
     "name": "stdout",
     "output_type": "stream",
     "text": [
      "<class 'pandas.core.frame.DataFrame'>\n",
      "RangeIndex: 107 entries, 0 to 106\n",
      "Data columns (total 6 columns):\n",
      " #   Column  Non-Null Count  Dtype  \n",
      "---  ------  --------------  -----  \n",
      " 0   f1      107 non-null    float32\n",
      " 1   f2      107 non-null    float32\n",
      " 2   f3      107 non-null    float32\n",
      " 3   f4      107 non-null    float32\n",
      " 4   f5      107 non-null    float32\n",
      " 5   label   107 non-null    float32\n",
      "dtypes: float32(6)\n",
      "memory usage: 2.6 KB\n",
      "None\n",
      "<class 'pandas.core.frame.DataFrame'>\n",
      "RangeIndex: 108 entries, 0 to 107\n",
      "Data columns (total 6 columns):\n",
      " #   Column  Non-Null Count  Dtype  \n",
      "---  ------  --------------  -----  \n",
      " 0   f1      108 non-null    float32\n",
      " 1   f2      108 non-null    float32\n",
      " 2   f3      108 non-null    float32\n",
      " 3   f4      108 non-null    float32\n",
      " 4   f5      108 non-null    float32\n",
      " 5   label   108 non-null    float32\n",
      "dtypes: float32(6)\n",
      "memory usage: 2.7 KB\n",
      "None\n"
     ]
    }
   ],
   "source": [
    "# data loading\n",
    "DATA = os.path.join('c:\\\\Users\\\\tcumi\\\\github_repo\\\\neural-network\\\\', 'dataset')\n",
    "GROUP = 3\n",
    "COLUMNS = ['f1', 'f2', 'f3', 'f4', 'f5', 'label']\n",
    "N_CLASS = 3\n",
    "EPOCHS = 500\n",
    "train_dir, test_dir = \"..//dataset//training_data{}.txt\".format(GROUP), \"..//dataset//testing_data{}.txt\".format(GROUP)\n",
    "train, test = get_data(DATA, train_dir, COLUMNS), get_data(DATA, test_dir, COLUMNS)\n",
    "# shuffle\n",
    "train, test = train.sample(frac=1), test.sample(frac=1)\n",
    "x_train, y_train = train.drop('label', axis=1), train['label']\n",
    "x_test, y_test = test.drop('label', axis=1), test['label']"
   ]
  },
  {
   "cell_type": "code",
   "execution_count": 7,
   "metadata": {},
   "outputs": [],
   "source": [
    "# data scaling and encoding\n",
    "scaler = StandardScaler(['f1', 'f2', 'f3', 'f4', 'f5'])\n",
    "scaler.fit(x_train)\n",
    "x_train = scaler.transform(x_train)\n",
    "x_test = scaler.transform(x_test)\n",
    "y_train = one_hot_encoding(y_train, N_CLASS)\n",
    "y_test = one_hot_encoding(y_test, N_CLASS)"
   ]
  },
  {
   "cell_type": "code",
   "execution_count": 8,
   "metadata": {
    "tags": [
     "outputPrepend"
    ]
   },
   "outputs": [
    {
     "name": "stdout",
     "output_type": "stream",
     "text": [
      "Checkpoint 100, Accuracy: 0.9567901234567902, Loss: 0.19912585505732783\n",
      "Checkpoint 200, Accuracy: 0.9567901234567902, Loss: 0.12381835337038394\n",
      "Checkpoint 300, Accuracy: 0.9691358024691358, Loss: 0.10667100659123173\n",
      "Checkpoint 400, Accuracy: 0.9691358024691358, Loss: 0.10550845110857929\n",
      "Checkpoint 500, Accuracy: 0.9691358024691358, Loss: 0.1024031815705476\n"
     ]
    }
   ],
   "source": [
    "# learning phase\n",
    "breakpoint = 100\n",
    "checkpoints = list()\n",
    "history = list()\n",
    "for century in range(0, EPOCHS, breakpoint):\n",
    "    sub_history = model.fit(x_train, y_train, breakpoint, verbose = 0)\n",
    "    score = model.evaluate(x_test, y_test, False, verbose = 0)\n",
    "    print('Checkpoint {}, Accuracy: {}, Loss: {}'.format(century+breakpoint, score['accuracy'], score[model.loss_fn]))\n",
    "    score['checkpoint'] = century + breakpoint\n",
    "    checkpoints.append(score)\n",
    "    history.extend(sub_history)"
   ]
  },
  {
   "cell_type": "code",
   "execution_count": 9,
   "metadata": {},
   "outputs": [],
   "source": [
    "import matplotlib.pyplot as plt\n",
    "\n",
    "def draw_plot(x, y_list, x_label=None, y_label=None, legend=None, title=None):\n",
    "    fig, ax = plt.subplots(figsize=(12,5))\n",
    "    for xi, yi in zip(x, y_list):\n",
    "        ax.plot(xi, yi)\n",
    "    if x_label is not None and y_label is not None:\n",
    "        ax.set(xlabel=x_label, ylabel=y_label, title='{} VS {}'.format(x_label, y_label))\n",
    "    if legend is not None:\n",
    "        ax.legend(legend)\n",
    "    ax.grid()\n",
    "    plt.show()"
   ]
  },
  {
   "cell_type": "code",
   "execution_count": 10,
   "metadata": {},
   "outputs": [
    {
     "name": "stdout",
     "output_type": "stream",
     "text": [
      "[1. 0. 0.] <-> [0.99744666 0.00140945 0.00114391]\n",
      "[0. 0. 1.] <-> [0.5278462  0.00058962 0.47156414]\n",
      "[1. 0. 0.] <-> [0.9929444  0.00491259 0.00214297]\n",
      "[1. 0. 0.] <-> [0.9967938  0.00143911 0.00176711]\n",
      "[0. 1. 0.] <-> [5.6238160e-03 9.9426657e-01 1.0963916e-04]\n",
      "[1. 0. 0.] <-> [0.9940925  0.00109952 0.004808  ]\n",
      "[0. 0. 1.] <-> [1.1320763e-02 1.2358529e-05 9.8866689e-01]\n",
      "[1. 0. 0.] <-> [0.996644   0.00118711 0.00216884]\n",
      "[1. 0. 0.] <-> [0.99650997 0.00230665 0.00118338]\n",
      "[0. 0. 1.] <-> [6.8182447e-03 7.4335208e-06 9.9317437e-01]\n",
      "[0. 0. 1.] <-> [6.6134590e-03 7.2120711e-06 9.9337935e-01]\n",
      "[1. 0. 0.] <-> [0.9945058  0.00144416 0.00405002]\n",
      "[0. 0. 1.] <-> [0.57805717 0.00063122 0.42131165]\n",
      "[1. 0. 0.] <-> [0.99743134 0.00121419 0.00135444]\n",
      "[1. 0. 0.] <-> [0.38049948 0.61734086 0.00215963]\n",
      "[1. 0. 0.] <-> [0.9945679  0.00114094 0.00429122]\n",
      "[0. 0. 1.] <-> [1.2875028e-02 1.4038526e-05 9.8711097e-01]\n",
      "[1. 0. 0.] <-> [0.99341124 0.00108955 0.00549921]\n",
      "[0. 1. 0.] <-> [0.44076806 0.5572375  0.0019944 ]\n",
      "[1. 0. 0.] <-> [0.996992   0.00168515 0.00132278]\n",
      "[1. 0. 0.] <-> [0.9809038  0.00582244 0.01327372]\n",
      "[0. 0. 1.] <-> [1.0517197e-02 1.1572529e-05 9.8947120e-01]\n",
      "[1. 0. 0.] <-> [0.9482786  0.00105139 0.05066995]\n",
      "[1. 0. 0.] <-> [0.9974521  0.00150696 0.00104087]\n",
      "[0. 1. 0.] <-> [1.2973223e-02 9.8682469e-01 2.0211091e-04]\n",
      "[1. 0. 0.] <-> [0.9931409  0.00524963 0.00160948]\n",
      "[1. 0. 0.] <-> [0.99711204 0.00149542 0.00139256]\n",
      "[0. 0. 1.] <-> [6.613797e-03 7.211319e-06 9.933790e-01]\n",
      "[1. 0. 0.] <-> [0.97740096 0.00112686 0.02147223]\n",
      "[0. 0. 1.] <-> [6.8851956e-03 7.5174171e-06 9.9310726e-01]\n",
      "[1. 0. 0.] <-> [0.71917695 0.2779935  0.00282951]\n",
      "[1. 0. 0.] <-> [0.9961343  0.00259698 0.00126872]\n",
      "[1. 0. 0.] <-> [0.8364711 0.0009347 0.1625942]\n",
      "[1. 0. 0.] <-> [0.9960381  0.00238684 0.0015751 ]\n",
      "[1. 0. 0.] <-> [0.993555   0.00463669 0.00180824]\n",
      "[1. 0. 0.] <-> [0.9872038  0.01097014 0.00182611]\n",
      "[1. 0. 0.] <-> [0.9962804  0.0014268  0.00229278]\n",
      "[1. 0. 0.] <-> [0.73585    0.2607496  0.00340035]\n",
      "[1. 0. 0.] <-> [0.96861845 0.00115449 0.03022704]\n",
      "[0. 1. 0.] <-> [5.60360309e-03 9.94287431e-01 1.09095854e-04]\n",
      "[0. 1. 0.] <-> [0.24803916 0.7505164  0.00144451]\n",
      "[1. 0. 0.] <-> [0.9972254  0.00121636 0.00155823]\n",
      "[1. 0. 0.] <-> [0.9971577  0.0012326  0.00160976]\n",
      "[1. 0. 0.] <-> [0.98899126 0.00109091 0.00991781]\n",
      "[1. 0. 0.] <-> [0.9972192  0.00117934 0.00160141]\n",
      "[1. 0. 0.] <-> [0.9958548  0.00215919 0.00198596]\n",
      "[1. 0. 0.] <-> [0.56148183 0.4353328  0.00318532]\n",
      "[0. 1. 0.] <-> [5.6036050e-03 9.9428731e-01 1.0909574e-04]\n",
      "[1. 0. 0.] <-> [0.99752635 0.00110055 0.00137316]\n",
      "[1. 0. 0.] <-> [0.9969957  0.00119955 0.00180481]\n",
      "[1. 0. 0.] <-> [0.99702567 0.00183002 0.00114436]\n",
      "[0. 1. 0.] <-> [5.60521381e-03 9.94285405e-01 1.09362416e-04]\n",
      "[1. 0. 0.] <-> [0.99593806 0.00119556 0.00286639]\n",
      "[1. 0. 0.] <-> [0.99499077 0.00110258 0.0039066 ]\n",
      "[0. 1. 0.] <-> [5.6036031e-03 9.9428743e-01 1.0909784e-04]\n",
      "[1. 0. 0.] <-> [0.98936206 0.00910131 0.00153664]\n",
      "[1. 0. 0.] <-> [0.8507932  0.00093737 0.14826946]\n",
      "[1. 0. 0.] <-> [0.97423077 0.02386584 0.00190334]\n",
      "[0. 1. 0.] <-> [5.6036315e-03 9.9428719e-01 1.0915255e-04]\n",
      "[0. 1. 0.] <-> [1.9436017e-02 9.8031104e-01 2.5291895e-04]\n",
      "[0. 1. 0.] <-> [5.63974446e-03 9.94249701e-01 1.10578265e-04]\n",
      "[1. 0. 0.] <-> [0.9973673  0.00113023 0.00150246]\n",
      "[1. 0. 0.] <-> [0.9972765  0.00159607 0.0011275 ]\n",
      "[1. 0. 0.] <-> [0.9973361  0.00128773 0.00137622]\n",
      "[0. 1. 0.] <-> [5.60360728e-03 9.94287193e-01 1.09116125e-04]\n",
      "[1. 0. 0.] <-> [0.98886126 0.00191187 0.00922681]\n",
      "[1. 0. 0.] <-> [0.99654895 0.00177567 0.00167539]\n",
      "[1. 0. 0.] <-> [0.992668   0.00123214 0.00609991]\n",
      "[1. 0. 0.] <-> [0.996705   0.00162902 0.00166606]\n",
      "[1. 0. 0.] <-> [0.9968375  0.00202225 0.00114021]\n",
      "[0. 1. 0.] <-> [6.6386163e-03 9.9323648e-01 1.2490667e-04]\n",
      "[1. 0. 0.] <-> [0.9961332  0.0027032  0.00116364]\n",
      "[1. 0. 0.] <-> [0.9963309  0.00219522 0.0014739 ]\n",
      "[0. 0. 1.] <-> [9.1484785e-03 9.9739764e-06 9.9084151e-01]\n",
      "[1. 0. 0.] <-> [0.9855409  0.00107905 0.01337996]\n",
      "[1. 0. 0.] <-> [0.99651057 0.00127886 0.00221064]\n",
      "[1. 0. 0.] <-> [0.53278595 0.00063621 0.46657783]\n",
      "[1. 0. 0.] <-> [0.9950708  0.00363809 0.00129108]\n",
      "[1. 0. 0.] <-> [0.99700445 0.00146037 0.0015352 ]\n",
      "[1. 0. 0.] <-> [0.9530007  0.04506659 0.00193273]\n",
      "[1. 0. 0.] <-> [0.9956748  0.00150468 0.00282052]\n",
      "[1. 0. 0.] <-> [0.9903115  0.00643835 0.0032502 ]\n",
      "[1. 0. 0.] <-> [0.8129984  0.18407288 0.00292873]\n",
      "[0. 0. 1.] <-> [5.2177824e-02 5.6885518e-05 9.4776529e-01]\n",
      "[1. 0. 0.] <-> [0.9966372  0.00220027 0.00116246]\n",
      "[1. 0. 0.] <-> [0.9976215  0.00127597 0.00110257]\n",
      "[1. 0. 0.] <-> [0.99397683 0.00113829 0.00488476]\n",
      "[1. 0. 0.] <-> [0.99718326 0.00115092 0.00166578]\n",
      "[0. 0. 1.] <-> [9.5883580e-03 1.0456226e-05 9.9040121e-01]\n",
      "[0. 0. 1.] <-> [6.6130324e-03 7.2096186e-06 9.9337971e-01]\n",
      "[0. 0. 1.] <-> [5.625123e-02 6.143338e-05 9.436874e-01]\n",
      "[1. 0. 0.] <-> [0.9955819  0.00115644 0.00326163]\n",
      "[0. 1. 0.] <-> [1.9925525e-02 9.7979581e-01 2.7868614e-04]\n",
      "[1. 0. 0.] <-> [0.99314207 0.00228091 0.00457699]\n",
      "[1. 0. 0.] <-> [0.9869065  0.01156453 0.00152897]\n",
      "[1. 0. 0.] <-> [0.9971323  0.00168726 0.00118049]\n",
      "[1. 0. 0.] <-> [0.99640995 0.00247201 0.00111806]\n",
      "[1. 0. 0.] <-> [0.96371245 0.00122735 0.0350602 ]\n",
      "[1. 0. 0.] <-> [0.9956767  0.00254176 0.0017816 ]\n",
      "[1. 0. 0.] <-> [0.9966401  0.00131376 0.00204609]\n",
      "[1. 0. 0.] <-> [0.12579767 0.8732031  0.00099917]\n",
      "[1. 0. 0.] <-> [0.9971474  0.00156945 0.00128319]\n",
      "[1. 0. 0.] <-> [0.9976157  0.00113821 0.00124612]\n",
      "[0. 1. 0.] <-> [5.8941025e-02 9.4049734e-01 5.6163809e-04]\n",
      "[1. 0. 0.] <-> [0.9968925  0.00182186 0.00128556]\n",
      "[1. 0. 0.] <-> [0.9897654  0.00110362 0.00913099]\n",
      "[1. 0. 0.] <-> [1.0906422e-01 1.2024809e-04 8.9081550e-01]\n",
      "[0. 1. 0.] <-> [2.0703252e-02 9.7903866e-01 2.5802007e-04]\n",
      "{'accuracy': 0.9691358024691358, 'mean_square_error': 0.06427625121302867, 'categorical_crossentropy': 0.1024031815705476, 'essential_metrics': {0: {'tp_hit': 75, 'fp_hit': 2, 'tn_hit': 28, 'fn_hit': 3}, 1: {'tp_hit': 16, 'fp_hit': 2, 'tn_hit': 90, 'fn_hit': 0}, 2: {'tp_hit': 12, 'fp_hit': 1, 'tn_hit': 93, 'fn_hit': 2}}}\n"
     ]
    }
   ],
   "source": [
    "# recall phase\n",
    "score = model.evaluate(x_test, y_test, False)\n",
    "print(score)"
   ]
  },
  {
   "cell_type": "code",
   "execution_count": 11,
   "metadata": {},
   "outputs": [
    {
     "data": {
      "image/png": "[encoded data removed]",
      "text/plain": [
       "<Figure size 864x360 with 1 Axes>"
      ]
     },
     "metadata": {
      "needs_background": "light"
     },
     "output_type": "display_data"
    },
    {
     "data": {
      "image/png": "[encoded data removed]",
      "text/plain": [
       "<Figure size 864x360 with 1 Axes>"
      ]
     },
     "metadata": {
      "needs_background": "light"
     },
     "output_type": "display_data"
    }
   ],
   "source": [
    "draw_plot(x = [[i for i in range(len(history))], [(i+1)*breakpoint for i in range(len(checkpoints))]], y_list = [history, [ ckp[model.loss_fn] for ckp in checkpoints ]], x_label = 'Epochs', \\\n",
    "    y_label = model.loss_fn, legend=['train', 'test'])\n",
    "acc = [ ckp['accuracy'] for ckp in checkpoints ]\n",
    "draw_plot(x = [[(i+1)*breakpoint for i in range(len(checkpoints))]], y_list = [acc], x_label = 'Checkpoints', \\\n",
    "    y_label = 'accuracy')"
   ]
  },
  {
   "cell_type": "code",
   "execution_count": 12,
   "metadata": {},
   "outputs": [
    {
     "name": "stdout",
     "output_type": "stream",
     "text": [
      "{'accuracy': 0.9567901234567902, 'mean_square_error': 0.09952720975159046, 'categorical_crossentropy': 0.19912585505732783, 'essential_metrics': {0: {'tp_hit': 76, 'fp_hit': 5, 'tn_hit': 25, 'fn_hit': 2}, 1: {'tp_hit': 13, 'fp_hit': 1, 'tn_hit': 91, 'fn_hit': 3}, 2: {'tp_hit': 12, 'fp_hit': 1, 'tn_hit': 93, 'fn_hit': 2}}, 'checkpoint': 100} \n",
      "\n",
      "\n",
      "{'accuracy': 0.9567901234567902, 'mean_square_error': 0.07922237298322933, 'categorical_crossentropy': 0.12381835337038394, 'essential_metrics': {0: {'tp_hit': 74, 'fp_hit': 3, 'tn_hit': 27, 'fn_hit': 4}, 1: {'tp_hit': 15, 'fp_hit': 3, 'tn_hit': 89, 'fn_hit': 1}, 2: {'tp_hit': 12, 'fp_hit': 1, 'tn_hit': 93, 'fn_hit': 2}}, 'checkpoint': 200} \n",
      "\n",
      "\n",
      "{'accuracy': 0.9691358024691358, 'mean_square_error': 0.06851705583984742, 'categorical_crossentropy': 0.10667100659123173, 'essential_metrics': {0: {'tp_hit': 75, 'fp_hit': 2, 'tn_hit': 28, 'fn_hit': 3}, 1: {'tp_hit': 16, 'fp_hit': 2, 'tn_hit': 90, 'fn_hit': 0}, 2: {'tp_hit': 12, 'fp_hit': 1, 'tn_hit': 93, 'fn_hit': 2}}, 'checkpoint': 300} \n",
      "\n",
      "\n",
      "{'accuracy': 0.9691358024691358, 'mean_square_error': 0.06724573622271997, 'categorical_crossentropy': 0.10550845110857929, 'essential_metrics': {0: {'tp_hit': 75, 'fp_hit': 2, 'tn_hit': 28, 'fn_hit': 3}, 1: {'tp_hit': 16, 'fp_hit': 2, 'tn_hit': 90, 'fn_hit': 0}, 2: {'tp_hit': 12, 'fp_hit': 1, 'tn_hit': 93, 'fn_hit': 2}}, 'checkpoint': 400} \n",
      "\n",
      "\n",
      "{'accuracy': 0.9691358024691358, 'mean_square_error': 0.06427625121302867, 'categorical_crossentropy': 0.1024031815705476, 'essential_metrics': {0: {'tp_hit': 75, 'fp_hit': 2, 'tn_hit': 28, 'fn_hit': 3}, 1: {'tp_hit': 16, 'fp_hit': 2, 'tn_hit': 90, 'fn_hit': 0}, 2: {'tp_hit': 12, 'fp_hit': 1, 'tn_hit': 93, 'fn_hit': 2}}, 'checkpoint': 500} \n",
      "\n",
      "\n"
     ]
    }
   ],
   "source": [
    "for checkpoint in checkpoints:\n",
    "    print(checkpoint, '\\n\\n')"
   ]
  },
  {
   "cell_type": "code",
   "execution_count": 13,
   "metadata": {},
   "outputs": [
    {
     "name": "stdout",
     "output_type": "stream",
     "text": [
      "Layer 1\n",
      "Neuron 0: weights:\n",
      "[ 2.0932295 -3.        -3.         1.3017029  1.0226681]\n",
      " bias: 3.0\n",
      "\n",
      "Neuron 1: weights:\n",
      "[-2.2099156  3.         3.         3.        -2.2017205]\n",
      " bias: -2.6178576946258545\n",
      "\n",
      "Neuron 2: weights:\n",
      "[ 0.09993567  3.          0.02430992 -1.0303922  -3.        ]\n",
      " bias: 2.4387309551239014\n",
      "\n",
      "Neuron 3: weights:\n",
      "[-0.08933169 -3.         -0.19788834  1.4126587   3.        ]\n",
      " bias: -2.4388179779052734\n",
      "\n",
      "$\n",
      "Layer 2\n",
      "Neuron 0: weights:\n",
      "[ 3. -3.  3. -3.]\n",
      " bias: 0.5068751573562622\n",
      "\n",
      "Neuron 1: weights:\n",
      "[-3.  3.  3. -3.]\n",
      " bias: -0.3145085871219635\n",
      "\n",
      "Neuron 2: weights:\n",
      "[ 3.          0.04897907 -3.          3.        ]\n",
      " bias: -0.48105388879776\n",
      "\n",
      "$\n",
      "\n"
     ]
    }
   ],
   "source": [
    "print(model)"
   ]
  }
 ],
 "metadata": {
  "kernelspec": {
   "display_name": "Python 3",
   "language": "python",
   "name": "python3"
  },
  "language_info": {
   "codemirror_mode": {
    "name": "ipython",
    "version": 3
   },
   "file_extension": ".py",
   "mimetype": "text/x-python",
   "name": "python",
   "nbconvert_exporter": "python",
   "pygments_lexer": "ipython3",
   "version": "3.6.10"
  }
 },
 "nbformat": 4,
 "nbformat_minor": 2
}
