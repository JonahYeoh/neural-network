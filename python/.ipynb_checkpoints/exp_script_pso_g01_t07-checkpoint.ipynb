{
 "cells": [
  {
   "cell_type": "code",
   "execution_count": 1,
   "metadata": {},
   "outputs": [],
   "source": [
    "# dependency\n",
    "import numpy as np\n",
    "import pandas as pd\n",
    "import copy\n",
    "import math\n",
    "import sys\n",
    "import os\n",
    "from activations import relu, leaky_relu, sigmoid, tanh, softmax, d_sigmoid, d_relu\n",
    "from initializers import glorot_uniform, random_normal, random_uniform\n",
    "from regularizers import l1_regularizer, l2_regularizer\n",
    "from utility import trim_tail, multiply, subtract, get_nparams, one_hot_encoding, get_data\n",
    "from metrics import MSE, CCE, ACC, PRECISION, RECALL, essential_metrics, wondering_penalty, close_gap_penalty\n",
    "from pso import PSO\n",
    "from ga import GA\n",
    "from nn import Network\n",
    "from layer import DenseLayer\n",
    "from scalers import MinMaxScaler, StandardScaler"
   ]
  },
  {
   "cell_type": "code",
   "execution_count": 2,
   "metadata": {},
   "outputs": [],
   "source": [
    "# reference\n",
    "metrics_fn_dict = dict()\n",
    "metrics_fn_dict['accuracy'] = ACC\n",
    "metrics_fn_dict['categorical_crossentropy'] = CCE\n",
    "metrics_fn_dict['mean_square_error'] = MSE\n",
    "metrics_fn_dict['precision'] = PRECISION\n",
    "metrics_fn_dict['recall'] = RECALL\n",
    "metrics_fn_dict['essential_metrics'] = essential_metrics"
   ]
  },
  {
   "cell_type": "code",
   "execution_count": 3,
   "metadata": {},
   "outputs": [],
   "source": [
    "# model\n",
    "model = Network(5, lr = None)\n",
    "model.add_layer(DenseLayer(1, 4, True, afn=sigmoid, dafn=None, rfn=None))\n",
    "model.add_layer(DenseLayer(2, 3, True, afn=softmax, dafn=None, rfn=None))"
   ]
  },
  {
   "cell_type": "code",
   "execution_count": 4,
   "metadata": {},
   "outputs": [
    {
     "name": "stdout",
     "output_type": "stream",
     "text": [
      "see one see two 2.0 0.5\n"
     ]
    }
   ],
   "source": [
    "pso = PSO(dict(m = 200,\n",
    "    weight_constraint = [-3, 3], \n",
    "    velocity_constraint = [-0.1, 0.1],\n",
    "    c1 = [0.5, 2.0],\n",
    "    c2 = [0.5, 2.0],\n",
    "    w = [0.5, 1.6],\n",
    "    w_decay = 0.95,\n",
    "    scale_hyperparameter = False,\n",
    "    regularizer = None,\n",
    "    mask = True))"
   ]
  },
  {
   "cell_type": "code",
   "execution_count": 5,
   "metadata": {},
   "outputs": [
    {
     "name": "stdout",
     "output_type": "stream",
     "text": [
      "building layer 1 with 5\n",
      "24\n",
      "building layer 2 with 4\n",
      "15\n"
     ]
    }
   ],
   "source": [
    "model.compile(loss_fn = 'categorical_crossentropy', optimizer = pso, \\\n",
    "    metrics = ['accuracy', 'mean_square_error', 'categorical_crossentropy'])"
   ]
  },
  {
   "cell_type": "code",
   "execution_count": 6,
   "metadata": {},
   "outputs": [
    {
     "name": "stdout",
     "output_type": "stream",
     "text": [
      "<class 'pandas.core.frame.DataFrame'>\n",
      "RangeIndex: 107 entries, 0 to 106\n",
      "Data columns (total 6 columns):\n",
      " #   Column  Non-Null Count  Dtype  \n",
      "---  ------  --------------  -----  \n",
      " 0   f1      107 non-null    float32\n",
      " 1   f2      107 non-null    float32\n",
      " 2   f3      107 non-null    float32\n",
      " 3   f4      107 non-null    float32\n",
      " 4   f5      107 non-null    float32\n",
      " 5   label   107 non-null    float32\n",
      "dtypes: float32(6)\n",
      "memory usage: 2.6 KB\n",
      "None\n",
      "<class 'pandas.core.frame.DataFrame'>\n",
      "RangeIndex: 108 entries, 0 to 107\n",
      "Data columns (total 6 columns):\n",
      " #   Column  Non-Null Count  Dtype  \n",
      "---  ------  --------------  -----  \n",
      " 0   f1      108 non-null    float32\n",
      " 1   f2      108 non-null    float32\n",
      " 2   f3      108 non-null    float32\n",
      " 3   f4      108 non-null    float32\n",
      " 4   f5      108 non-null    float32\n",
      " 5   label   108 non-null    float32\n",
      "dtypes: float32(6)\n",
      "memory usage: 2.7 KB\n",
      "None\n"
     ]
    }
   ],
   "source": [
    "# data loading\n",
    "DATA = os.path.join('c:\\\\Users\\\\AI-lab\\\\github_repo\\\\neural-network\\\\', 'dataset')\n",
    "GROUP = 1\n",
    "COLUMNS = ['f1', 'f2', 'f3', 'f4', 'f5', 'label']\n",
    "N_CLASS = 3\n",
    "EPOCHS = 200\n",
    "train_dir, test_dir = \"..//dataset//training_data{}.txt\".format(GROUP), \"..//dataset//testing_data{}.txt\".format(GROUP)\n",
    "train, test = get_data(DATA, train_dir, COLUMNS), get_data(DATA, test_dir, COLUMNS)\n",
    "# shuffle\n",
    "train, test = train.sample(frac=1), test.sample(frac=1)\n",
    "x_train, y_train = train.drop('label', axis=1), train['label']\n",
    "x_test, y_test = test.drop('label', axis=1), test['label']"
   ]
  },
  {
   "cell_type": "code",
   "execution_count": 7,
   "metadata": {},
   "outputs": [],
   "source": [
    "# data scaling and encoding\n",
    "scaler = StandardScaler(['f1', 'f2', 'f3', 'f4', 'f5'])\n",
    "scaler.fit(x_train)\n",
    "x_train = scaler.transform(x_train)\n",
    "x_test = scaler.transform(x_test)\n",
    "y_train = one_hot_encoding(y_train, N_CLASS)\n",
    "y_test = one_hot_encoding(y_test, N_CLASS)"
   ]
  },
  {
   "cell_type": "code",
   "execution_count": 8,
   "metadata": {
    "tags": [
     "outputPrepend"
    ]
   },
   "outputs": [
    {
     "name": "stdout",
     "output_type": "stream",
     "text": [
      "Checkpoint 10, Accuracy: 0.8641975308641975, Loss: 0.45929739210340714\n",
      "Checkpoint 20, Accuracy: 0.8703703703703703, Loss: 0.4858060059724031\n",
      "Checkpoint 30, Accuracy: 0.8703703703703703, Loss: 0.46693328574851706\n",
      "Checkpoint 40, Accuracy: 0.8641975308641975, Loss: 0.47097961990921583\n",
      "Checkpoint 50, Accuracy: 0.9135802469135802, Loss: 0.41234493255615234\n",
      "Checkpoint 60, Accuracy: 0.9506172839506173, Loss: 0.3741063718442564\n",
      "Checkpoint 70, Accuracy: 0.9506172839506173, Loss: 0.33075124246102794\n",
      "Checkpoint 80, Accuracy: 0.9753086419753086, Loss: 0.24295856334544993\n",
      "Checkpoint 90, Accuracy: 0.9753086419753086, Loss: 0.2007380591498481\n",
      "Checkpoint 100, Accuracy: 0.9691358024691358, Loss: 0.18458728437070493\n",
      "Checkpoint 110, Accuracy: 0.9691358024691358, Loss: 0.16196819587990088\n",
      "Checkpoint 120, Accuracy: 0.9753086419753086, Loss: 0.1566388695328324\n",
      "Checkpoint 130, Accuracy: 0.9691358024691358, Loss: 0.1388729766563133\n",
      "Checkpoint 140, Accuracy: 0.9753086419753086, Loss: 0.11933457409894024\n",
      "Checkpoint 150, Accuracy: 0.9814814814814815, Loss: 0.1210965668713605\n",
      "Checkpoint 160, Accuracy: 0.9753086419753086, Loss: 0.12086612206918222\n",
      "Checkpoint 170, Accuracy: 0.9814814814814815, Loss: 0.10850118707727503\n",
      "Checkpoint 180, Accuracy: 0.9814814814814815, Loss: 0.10176354867440683\n",
      "Checkpoint 190, Accuracy: 0.9753086419753086, Loss: 0.10551207153885453\n",
      "Checkpoint 200, Accuracy: 0.9814814814814815, Loss: 0.09547009291472258\n"
     ]
    }
   ],
   "source": [
    "# learning phase\n",
    "breakpoint = 10\n",
    "checkpoints = list()\n",
    "history = list()\n",
    "for century in range(0, EPOCHS, breakpoint):\n",
    "    sub_history = model.fit(x_train, y_train, breakpoint, verbose = 0)\n",
    "    score = model.evaluate(x_test, y_test, False, verbose = 0)\n",
    "    print('Checkpoint {}, Accuracy: {}, Loss: {}'.format(century+breakpoint, score['accuracy'], score[model.loss_fn]))\n",
    "    score['checkpoint'] = century + breakpoint\n",
    "    checkpoints.append(score)\n",
    "    history.extend(sub_history)\n",
    "    itr = century + breakpoint\n",
    "    model.optimizer.c1 = np.max([model.optimizer.C1[1] - ((model.optimizer.C1[1] - model.optimizer.C1[0]) * itr / EPOCHS), model.optimizer.C1[0]])\n",
    "    model.optimizer.c2 = np.min([model.optimizer.C2[0] + ((model.optimizer.C2[1] - model.optimizer.C2[0]) * itr / EPOCHS), model.optimizer.C2[1]])\n",
    "    model.optimizer.w = np.max([model.optimizer.w * model.optimizer.W_Decay, model.optimizer.W[0]])"
   ]
  },
  {
   "cell_type": "code",
   "execution_count": 9,
   "metadata": {},
   "outputs": [],
   "source": [
    "import matplotlib.pyplot as plt\n",
    "\n",
    "def draw_plot(x, y_list, x_label=None, y_label=None, legend=None, title=None):\n",
    "    fig, ax = plt.subplots(figsize=(12,5))\n",
    "    for xi, yi in zip(x, y_list):\n",
    "        ax.plot(xi, yi)\n",
    "    if x_label is not None and y_label is not None:\n",
    "        ax.set(xlabel=x_label, ylabel=y_label, title='{} VS {}'.format(x_label, y_label))\n",
    "    if legend is not None:\n",
    "        ax.legend(legend)\n",
    "    ax.grid()\n",
    "    plt.show()"
   ]
  },
  {
   "cell_type": "code",
   "execution_count": 10,
   "metadata": {},
   "outputs": [],
   "source": [
    "train_acc = [h['accuracy'] for h in history]\n",
    "train_mse = [h['mean_square_error'] for h in history]\n",
    "train_cce = [h['categorical_crossentropy'] for h in history]"
   ]
  },
  {
   "cell_type": "code",
   "execution_count": 11,
   "metadata": {},
   "outputs": [
    {
     "data": {
      "image/png": "[encoded data removed]",
      "text/plain": [
       "<Figure size 864x360 with 1 Axes>"
      ]
     },
     "metadata": {
      "needs_background": "light"
     },
     "output_type": "display_data"
    },
    {
     "data": {
      "image/png": "[encoded data removed]",
      "text/plain": [
       "<Figure size 864x360 with 1 Axes>"
      ]
     },
     "metadata": {
      "needs_background": "light"
     },
     "output_type": "display_data"
    }
   ],
   "source": [
    "draw_plot(x = [[i for i in range(len(history))], [(i+1)*breakpoint for i in range(len(checkpoints))]], y_list = [train_cce, [ ckp[model.loss_fn] for ckp in checkpoints ]], x_label = 'Epochs', \\\n",
    "    y_label = model.loss_fn, legend=['train', 'test'])\n",
    "acc = [ ckp['accuracy'] for ckp in checkpoints ]\n",
    "draw_plot(x = [[i for i in range(len(history))], [(i+1)*breakpoint for i in range(len(checkpoints))]], y_list = [train_acc, acc], x_label = 'Checkpoints', \\\n",
    "    y_label = 'accuracy', legend=['train', 'test'])"
   ]
  },
  {
   "cell_type": "code",
   "execution_count": 12,
   "metadata": {},
   "outputs": [
    {
     "name": "stdout",
     "output_type": "stream",
     "text": [
      "[1. 0. 0.] <-> [0.9951214  0.00364974 0.00122888]\n",
      "[1. 0. 0.] <-> [0.994802   0.00397003 0.00122798]\n",
      "[1. 0. 0.] <-> [0.9952323 0.0036431 0.0011246]\n",
      "[1. 0. 0.] <-> [0.9928277  0.00604862 0.0011237 ]\n",
      "[1. 0. 0.] <-> [9.8872888e-01 1.0357170e-02 9.1390894e-04]\n",
      "[1. 0. 0.] <-> [0.9951945  0.00358541 0.00122009]\n",
      "[1. 0. 0.] <-> [9.9014181e-01 8.9889867e-03 8.6923444e-04]\n",
      "[1. 0. 0.] <-> [0.9944279  0.00431368 0.00125833]\n",
      "[0. 0. 1.] <-> [0.42196065 0.0013277  0.57671165]\n",
      "[1. 0. 0.] <-> [0.9935402  0.0035099  0.00294989]\n",
      "[0. 0. 1.] <-> [0.32545707 0.00101622 0.6735267 ]\n",
      "[1. 0. 0.] <-> [0.9863973  0.0031414  0.01046136]\n",
      "[0. 0. 1.] <-> [8.851696e-03 2.798053e-05 9.911204e-01]\n",
      "[1. 0. 0.] <-> [0.9930999  0.00429923 0.00260083]\n",
      "[1. 0. 0.] <-> [0.99486744 0.0030881  0.00204435]\n",
      "[0. 1. 0.] <-> [1.4658497e-02 9.8533082e-01 1.0710499e-05]\n",
      "[0. 1. 0.] <-> [2.2579961e-02 9.7740126e-01 1.8750305e-05]\n",
      "[1. 0. 0.] <-> [0.9823882  0.00310836 0.01450348]\n",
      "[1. 0. 0.] <-> [8.6273164e-01 1.3688740e-01 3.8092738e-04]\n",
      "[1. 0. 0.] <-> [0.9950766  0.0037121  0.00121136]\n",
      "[1. 0. 0.] <-> [0.9028305  0.00285032 0.09431915]\n",
      "[1. 0. 0.] <-> [0.7540334  0.00256503 0.24340159]\n",
      "[1. 0. 0.] <-> [0.9937941  0.00350984 0.00269603]\n",
      "[0. 0. 1.] <-> [8.9006620e-03 2.8135886e-05 9.9107122e-01]\n",
      "[1. 0. 0.] <-> [0.9221173  0.00289061 0.07499216]\n",
      "[1. 0. 0.] <-> [0.9926882  0.0062314  0.00108041]\n",
      "[0. 0. 1.] <-> [8.8513810e-03 2.7979628e-05 9.9112064e-01]\n",
      "[1. 0. 0.] <-> [0.99476504 0.00391495 0.00131993]\n",
      "[1. 0. 0.] <-> [0.99257374 0.00429558 0.00313056]\n",
      "[1. 0. 0.] <-> [0.9936201  0.00531611 0.00106377]\n",
      "[1. 0. 0.] <-> [0.99395144 0.00496486 0.00108373]\n",
      "[0. 1. 0.] <-> [1.0361712e-01 8.9629370e-01 8.9221365e-05]\n",
      "[1. 0. 0.] <-> [0.9786441  0.00377668 0.01757926]\n",
      "[1. 0. 0.] <-> [0.974145   0.00324761 0.02260737]\n",
      "[1. 0. 0.] <-> [2.8835641e-02 9.1165602e-05 9.7107321e-01]\n",
      "[1. 0. 0.] <-> [0.9380767  0.00300456 0.05891875]\n",
      "[1. 0. 0.] <-> [3.4512502e-01 6.5463495e-01 2.4001472e-04]\n",
      "[1. 0. 0.] <-> [0.9575982  0.0029576  0.03944423]\n",
      "[1. 0. 0.] <-> [0.9942058  0.0047427  0.00105148]\n",
      "[0. 0. 1.] <-> [8.8513410e-03 2.7979364e-05 9.9112076e-01]\n",
      "[0. 1. 0.] <-> [7.937899e-03 9.920557e-01 6.350727e-06]\n",
      "[1. 0. 0.] <-> [0.9933264  0.00497517 0.00169841]\n",
      "[1. 0. 0.] <-> [0.99358153 0.00441119 0.0020073 ]\n",
      "[1. 0. 0.] <-> [0.99022627 0.00817981 0.00159389]\n",
      "[0. 0. 1.] <-> [1.0309429e-02 3.2653319e-05 9.8965794e-01]\n",
      "[1. 0. 0.] <-> [9.764271e-01 2.282222e-02 7.506203e-04]\n",
      "[1. 0. 0.] <-> [0.97901785 0.01997513 0.0010069 ]\n",
      "[1. 0. 0.] <-> [9.4664192e-01 5.2544381e-02 8.1369036e-04]\n",
      "[1. 0. 0.] <-> [9.9215102e-01 6.8964586e-03 9.5259654e-04]\n",
      "[0. 1. 0.] <-> [0.37367272 0.6252859  0.00104133]\n",
      "[1. 0. 0.] <-> [0.9938174  0.00388362 0.00229895]\n",
      "[0. 1. 0.] <-> [3.2153457e-01 6.7831630e-01 1.4911313e-04]\n",
      "[1. 0. 0.] <-> [0.9938698  0.00353398 0.00259623]\n",
      "[0. 1. 0.] <-> [1.0398732e-02 9.8959279e-01 8.4804133e-06]\n",
      "[1. 0. 0.] <-> [0.9897003  0.00304754 0.00725209]\n",
      "[0. 0. 1.] <-> [1.0600503e-02 3.4093868e-05 9.8936546e-01]\n",
      "[1. 0. 0.] <-> [0.99154496 0.00728081 0.00117421]\n",
      "[0. 1. 0.] <-> [1.4822091e-02 9.8516512e-01 1.2756710e-05]\n",
      "[1. 0. 0.] <-> [0.9931907  0.00560545 0.00120385]\n",
      "[1. 0. 0.] <-> [0.99311227 0.00324914 0.00363858]\n",
      "[1. 0. 0.] <-> [0.99064976 0.0036624  0.00568786]\n",
      "[1. 0. 0.] <-> [0.9922923  0.00315824 0.0045494 ]\n",
      "[1. 0. 0.] <-> [0.99496526 0.00308607 0.00194862]\n",
      "[0. 0. 1.] <-> [8.8991988e-03 2.8137702e-05 9.9107271e-01]\n",
      "[1. 0. 0.] <-> [0.9871977  0.01164795 0.00115438]\n",
      "[0. 1. 0.] <-> [8.2575977e-03 9.9173576e-01 6.6539669e-06]\n",
      "[1. 0. 0.] <-> [0.9938433  0.00389847 0.00225826]\n",
      "[1. 0. 0.] <-> [0.9947359  0.00333525 0.00192886]\n",
      "[1. 0. 0.] <-> [0.9922579  0.0064529  0.00128926]\n",
      "[0. 0. 1.] <-> [8.8528786e-03 2.7984282e-05 9.9111909e-01]\n",
      "[0. 1. 0.] <-> [7.939052e-03 9.920546e-01 6.347801e-06]\n",
      "[1. 0. 0.] <-> [0.99400467 0.00330501 0.00269029]\n",
      "[1. 0. 0.] <-> [0.9939488  0.00366166 0.0023896 ]\n",
      "[1. 0. 0.] <-> [9.8014873e-01 1.9033704e-02 8.1757148e-04]\n",
      "[1. 0. 0.] <-> [9.9242049e-01 6.6419360e-03 9.3758135e-04]\n",
      "[1. 0. 0.] <-> [0.963048   0.00299528 0.03395685]\n",
      "[1. 0. 0.] <-> [0.9945251  0.00427038 0.00120451]\n",
      "[0. 1. 0.] <-> [0.518612   0.47993836 0.00144961]\n",
      "[0. 1. 0.] <-> [7.9809260e-03 9.9201268e-01 6.3907924e-06]\n",
      "[0. 1. 0.] <-> [2.8076178e-01 7.1901751e-01 2.2071619e-04]\n",
      "[0. 0. 1.] <-> [9.6778506e-03 3.0591436e-05 9.9029154e-01]\n",
      "[1. 0. 0.] <-> [0.5117147  0.00163834 0.48664698]\n",
      "[1. 0. 0.] <-> [0.9944722  0.00319069 0.0023371 ]\n",
      "[1. 0. 0.] <-> [0.9920054  0.00309085 0.00490377]\n",
      "[1. 0. 0.] <-> [0.9928797  0.00316768 0.00395271]\n",
      "[0. 1. 0.] <-> [7.9382369e-03 9.9205536e-01 6.3468374e-06]\n",
      "[1. 0. 0.] <-> [0.9875081  0.00308527 0.00940669]\n",
      "[1. 0. 0.] <-> [9.6329057e-01 3.6064845e-02 6.4451166e-04]\n",
      "[1. 0. 0.] <-> [0.9929796  0.0034093  0.00361114]\n",
      "[1. 0. 0.] <-> [0.99064285 0.00312169 0.00623546]\n",
      "[1. 0. 0.] <-> [0.9939985  0.00436833 0.00163326]\n",
      "[1. 0. 0.] <-> [8.6986452e-01 1.2950434e-01 6.3104299e-04]\n",
      "[0. 0. 1.] <-> [9.1240723e-03 2.8844534e-05 9.9084711e-01]\n",
      "[1. 0. 0.] <-> [0.9904383  0.00323369 0.00632806]\n",
      "[1. 0. 0.] <-> [0.81942225 0.00257276 0.17800498]\n",
      "[1. 0. 0.] <-> [0.99479735 0.00370599 0.00149657]\n",
      "[0. 1. 0.] <-> [8.632389e-03 9.913605e-01 7.048228e-06]\n",
      "[1. 0. 0.] <-> [0.9891539  0.00315728 0.00768868]\n",
      "[1. 0. 0.] <-> [0.9370085  0.0029006  0.06009091]\n",
      "[1. 0. 0.] <-> [0.9948543  0.00323257 0.00191318]\n",
      "[1. 0. 0.] <-> [0.9811235  0.00338471 0.01549184]\n",
      "[1. 0. 0.] <-> [0.99215955 0.00678687 0.00105361]\n",
      "[1. 0. 0.] <-> [9.9051625e-01 8.6282045e-03 8.5543672e-04]\n",
      "[0. 0. 1.] <-> [8.8513410e-03 2.7979364e-05 9.9112076e-01]\n",
      "[1. 0. 0.] <-> [9.8386163e-01 1.5360571e-02 7.7789190e-04]\n",
      "[1. 0. 0.] <-> [0.99231577 0.00660855 0.00107559]\n",
      "[1. 0. 0.] <-> [0.98839414 0.01041921 0.00118664]\n",
      "[1. 0. 0.] <-> [0.99471277 0.00394719 0.0013401 ]\n",
      "{'accuracy': 0.9814814814814815, 'mean_square_error': 0.04930711812715652, 'categorical_crossentropy': 0.09547009291472258, 'essential_metrics': {0: {'tp_hit': 78, 'fp_hit': 1, 'tn_hit': 27, 'fn_hit': 2}, 1: {'tp_hit': 14, 'fp_hit': 1, 'tn_hit': 92, 'fn_hit': 1}, 2: {'tp_hit': 13, 'fp_hit': 1, 'tn_hit': 94, 'fn_hit': 0}}}\n"
     ]
    }
   ],
   "source": [
    "# recall phase\n",
    "score = model.evaluate(x_test, y_test, False)\n",
    "print(score)"
   ]
  },
  {
   "cell_type": "code",
   "execution_count": 13,
   "metadata": {},
   "outputs": [
    {
     "name": "stdout",
     "output_type": "stream",
     "text": [
      "{'accuracy': 0.8641975308641975, 'mean_square_error': 0.2667570395109466, 'categorical_crossentropy': 0.45929739210340714, 'essential_metrics': {0: {'tp_hit': 78, 'fp_hit': 20, 'tn_hit': 8, 'fn_hit': 2}, 1: {'tp_hit': 8, 'fp_hit': 2, 'tn_hit': 91, 'fn_hit': 7}, 2: {'tp_hit': 0, 'fp_hit': 0, 'tn_hit': 95, 'fn_hit': 13}}, 'checkpoint': 10} \n",
      "\n",
      "\n",
      "{'accuracy': 0.8703703703703703, 'mean_square_error': 0.2757739893490943, 'categorical_crossentropy': 0.4858060059724031, 'essential_metrics': {0: {'tp_hit': 78, 'fp_hit': 19, 'tn_hit': 9, 'fn_hit': 2}, 1: {'tp_hit': 9, 'fp_hit': 2, 'tn_hit': 91, 'fn_hit': 6}, 2: {'tp_hit': 0, 'fp_hit': 0, 'tn_hit': 95, 'fn_hit': 13}}, 'checkpoint': 20} \n",
      "\n",
      "\n",
      "{'accuracy': 0.8703703703703703, 'mean_square_error': 0.26270623139147403, 'categorical_crossentropy': 0.46693328574851706, 'essential_metrics': {0: {'tp_hit': 78, 'fp_hit': 19, 'tn_hit': 9, 'fn_hit': 2}, 1: {'tp_hit': 9, 'fp_hit': 2, 'tn_hit': 91, 'fn_hit': 6}, 2: {'tp_hit': 0, 'fp_hit': 0, 'tn_hit': 95, 'fn_hit': 13}}, 'checkpoint': 30} \n",
      "\n",
      "\n",
      "{'accuracy': 0.8641975308641975, 'mean_square_error': 0.27836504025259673, 'categorical_crossentropy': 0.47097961990921583, 'essential_metrics': {0: {'tp_hit': 80, 'fp_hit': 22, 'tn_hit': 6, 'fn_hit': 0}, 1: {'tp_hit': 6, 'fp_hit': 0, 'tn_hit': 93, 'fn_hit': 9}, 2: {'tp_hit': 0, 'fp_hit': 0, 'tn_hit': 95, 'fn_hit': 13}}, 'checkpoint': 40} \n",
      "\n",
      "\n",
      "{'accuracy': 0.9135802469135802, 'mean_square_error': 0.22266370048305575, 'categorical_crossentropy': 0.41234493255615234, 'essential_metrics': {0: {'tp_hit': 80, 'fp_hit': 14, 'tn_hit': 14, 'fn_hit': 0}, 1: {'tp_hit': 4, 'fp_hit': 0, 'tn_hit': 93, 'fn_hit': 11}, 2: {'tp_hit': 10, 'fp_hit': 0, 'tn_hit': 95, 'fn_hit': 3}}, 'checkpoint': 50} \n",
      "\n",
      "\n",
      "{'accuracy': 0.9506172839506173, 'mean_square_error': 0.1929990400281138, 'categorical_crossentropy': 0.3741063718442564, 'essential_metrics': {0: {'tp_hit': 80, 'fp_hit': 8, 'tn_hit': 20, 'fn_hit': 0}, 1: {'tp_hit': 10, 'fp_hit': 0, 'tn_hit': 93, 'fn_hit': 5}, 2: {'tp_hit': 10, 'fp_hit': 0, 'tn_hit': 95, 'fn_hit': 3}}, 'checkpoint': 60} \n",
      "\n",
      "\n",
      "{'accuracy': 0.9506172839506173, 'mean_square_error': 0.16382463567879318, 'categorical_crossentropy': 0.33075124246102794, 'essential_metrics': {0: {'tp_hit': 77, 'fp_hit': 5, 'tn_hit': 23, 'fn_hit': 3}, 1: {'tp_hit': 13, 'fp_hit': 3, 'tn_hit': 90, 'fn_hit': 2}, 2: {'tp_hit': 10, 'fp_hit': 0, 'tn_hit': 95, 'fn_hit': 3}}, 'checkpoint': 70} \n",
      "\n",
      "\n",
      "{'accuracy': 0.9753086419753086, 'mean_square_error': 0.12415182077531857, 'categorical_crossentropy': 0.24295856334544993, 'essential_metrics': {0: {'tp_hit': 80, 'fp_hit': 4, 'tn_hit': 24, 'fn_hit': 0}, 1: {'tp_hit': 13, 'fp_hit': 0, 'tn_hit': 93, 'fn_hit': 2}, 2: {'tp_hit': 11, 'fp_hit': 0, 'tn_hit': 95, 'fn_hit': 2}}, 'checkpoint': 80} \n",
      "\n",
      "\n",
      "{'accuracy': 0.9753086419753086, 'mean_square_error': 0.08577446761325494, 'categorical_crossentropy': 0.2007380591498481, 'essential_metrics': {0: {'tp_hit': 78, 'fp_hit': 2, 'tn_hit': 26, 'fn_hit': 2}, 1: {'tp_hit': 15, 'fp_hit': 2, 'tn_hit': 91, 'fn_hit': 0}, 2: {'tp_hit': 11, 'fp_hit': 0, 'tn_hit': 95, 'fn_hit': 2}}, 'checkpoint': 90} \n",
      "\n",
      "\n",
      "{'accuracy': 0.9691358024691358, 'mean_square_error': 0.08742087836044991, 'categorical_crossentropy': 0.18458728437070493, 'essential_metrics': {0: {'tp_hit': 78, 'fp_hit': 3, 'tn_hit': 25, 'fn_hit': 2}, 1: {'tp_hit': 14, 'fp_hit': 1, 'tn_hit': 92, 'fn_hit': 1}, 2: {'tp_hit': 11, 'fp_hit': 1, 'tn_hit': 94, 'fn_hit': 2}}, 'checkpoint': 100} \n",
      "\n",
      "\n",
      "{'accuracy': 0.9691358024691358, 'mean_square_error': 0.07589605466255328, 'categorical_crossentropy': 0.16196819587990088, 'essential_metrics': {0: {'tp_hit': 78, 'fp_hit': 3, 'tn_hit': 25, 'fn_hit': 2}, 1: {'tp_hit': 14, 'fp_hit': 1, 'tn_hit': 92, 'fn_hit': 1}, 2: {'tp_hit': 11, 'fp_hit': 1, 'tn_hit': 94, 'fn_hit': 2}}, 'checkpoint': 110} \n",
      "\n",
      "\n",
      "{'accuracy': 0.9753086419753086, 'mean_square_error': 0.07835643039431188, 'categorical_crossentropy': 0.1566388695328324, 'essential_metrics': {0: {'tp_hit': 78, 'fp_hit': 2, 'tn_hit': 26, 'fn_hit': 2}, 1: {'tp_hit': 15, 'fp_hit': 1, 'tn_hit': 92, 'fn_hit': 0}, 2: {'tp_hit': 11, 'fp_hit': 1, 'tn_hit': 94, 'fn_hit': 2}}, 'checkpoint': 120} \n",
      "\n",
      "\n",
      "{'accuracy': 0.9691358024691358, 'mean_square_error': 0.07450652605744192, 'categorical_crossentropy': 0.1388729766563133, 'essential_metrics': {0: {'tp_hit': 78, 'fp_hit': 3, 'tn_hit': 25, 'fn_hit': 2}, 1: {'tp_hit': 14, 'fp_hit': 1, 'tn_hit': 92, 'fn_hit': 1}, 2: {'tp_hit': 11, 'fp_hit': 1, 'tn_hit': 94, 'fn_hit': 2}}, 'checkpoint': 130} \n",
      "\n",
      "\n",
      "{'accuracy': 0.9753086419753086, 'mean_square_error': 0.060590074002176586, 'categorical_crossentropy': 0.11933457409894024, 'essential_metrics': {0: {'tp_hit': 78, 'fp_hit': 2, 'tn_hit': 26, 'fn_hit': 2}, 1: {'tp_hit': 15, 'fp_hit': 1, 'tn_hit': 92, 'fn_hit': 0}, 2: {'tp_hit': 11, 'fp_hit': 1, 'tn_hit': 94, 'fn_hit': 2}}, 'checkpoint': 140} \n",
      "\n",
      "\n",
      "{'accuracy': 0.9814814814814815, 'mean_square_error': 0.05992755847530131, 'categorical_crossentropy': 0.1210965668713605, 'essential_metrics': {0: {'tp_hit': 78, 'fp_hit': 1, 'tn_hit': 27, 'fn_hit': 2}, 1: {'tp_hit': 14, 'fp_hit': 1, 'tn_hit': 92, 'fn_hit': 1}, 2: {'tp_hit': 13, 'fp_hit': 1, 'tn_hit': 94, 'fn_hit': 0}}, 'checkpoint': 150} \n",
      "\n",
      "\n",
      "{'accuracy': 0.9753086419753086, 'mean_square_error': 0.06285552521114861, 'categorical_crossentropy': 0.12086612206918222, 'essential_metrics': {0: {'tp_hit': 78, 'fp_hit': 2, 'tn_hit': 26, 'fn_hit': 2}, 1: {'tp_hit': 14, 'fp_hit': 1, 'tn_hit': 92, 'fn_hit': 1}, 2: {'tp_hit': 12, 'fp_hit': 1, 'tn_hit': 94, 'fn_hit': 1}}, 'checkpoint': 160} \n",
      "\n",
      "\n",
      "{'accuracy': 0.9814814814814815, 'mean_square_error': 0.05364366785822902, 'categorical_crossentropy': 0.10850118707727503, 'essential_metrics': {0: {'tp_hit': 78, 'fp_hit': 1, 'tn_hit': 27, 'fn_hit': 2}, 1: {'tp_hit': 15, 'fp_hit': 1, 'tn_hit': 92, 'fn_hit': 0}, 2: {'tp_hit': 12, 'fp_hit': 1, 'tn_hit': 94, 'fn_hit': 1}}, 'checkpoint': 170} \n",
      "\n",
      "\n",
      "{'accuracy': 0.9814814814814815, 'mean_square_error': 0.05203974032510956, 'categorical_crossentropy': 0.10176354867440683, 'essential_metrics': {0: {'tp_hit': 78, 'fp_hit': 1, 'tn_hit': 27, 'fn_hit': 2}, 1: {'tp_hit': 14, 'fp_hit': 1, 'tn_hit': 92, 'fn_hit': 1}, 2: {'tp_hit': 13, 'fp_hit': 1, 'tn_hit': 94, 'fn_hit': 0}}, 'checkpoint': 180} \n",
      "\n",
      "\n",
      "{'accuracy': 0.9753086419753086, 'mean_square_error': 0.05336877583472643, 'categorical_crossentropy': 0.10551207153885453, 'essential_metrics': {0: {'tp_hit': 77, 'fp_hit': 1, 'tn_hit': 27, 'fn_hit': 3}, 1: {'tp_hit': 14, 'fp_hit': 1, 'tn_hit': 92, 'fn_hit': 1}, 2: {'tp_hit': 13, 'fp_hit': 2, 'tn_hit': 93, 'fn_hit': 0}}, 'checkpoint': 190} \n",
      "\n",
      "\n",
      "{'accuracy': 0.9814814814814815, 'mean_square_error': 0.04930711812715652, 'categorical_crossentropy': 0.09547009291472258, 'essential_metrics': {0: {'tp_hit': 78, 'fp_hit': 1, 'tn_hit': 27, 'fn_hit': 2}, 1: {'tp_hit': 14, 'fp_hit': 1, 'tn_hit': 92, 'fn_hit': 1}, 2: {'tp_hit': 13, 'fp_hit': 1, 'tn_hit': 94, 'fn_hit': 0}}, 'checkpoint': 200} \n",
      "\n",
      "\n"
     ]
    }
   ],
   "source": [
    "for checkpoint in checkpoints:\n",
    "    print(checkpoint, '\\n\\n')"
   ]
  },
  {
   "cell_type": "code",
   "execution_count": 14,
   "metadata": {},
   "outputs": [
    {
     "name": "stdout",
     "output_type": "stream",
     "text": [
      "Layer 1\n",
      "Neuron 0: weights:\n",
      "[ 1.0115004 -3.        -3.         0.8749513  1.5564133]\n",
      " bias: 3.0\n",
      "\n",
      "Neuron 1: weights:\n",
      "[ 3.         -3.         -0.67868376 -1.5437347   3.        ]\n",
      " bias: 2.8522822856903076\n",
      "\n",
      "Neuron 2: weights:\n",
      "[-0.01955857  3.          1.6303912  -2.129721   -3.        ]\n",
      " bias: 2.7224996089935303\n",
      "\n",
      "Neuron 3: weights:\n",
      "[ 0.15875055  3.          0.56746906 -0.7204706  -3.        ]\n",
      " bias: 3.0\n",
      "\n",
      "$\n",
      "Layer 2\n",
      "Neuron 0: weights:\n",
      "[3.        1.6349967 2.733326  3.       ]\n",
      " bias: -3.0\n",
      "\n",
      "Neuron 1: weights:\n",
      "[-3.        -3.         2.6833696  3.       ]\n",
      " bias: 1.8781399726867676\n",
      "\n",
      "Neuron 2: weights:\n",
      "[ 1.7514702  3.        -3.        -3.       ]\n",
      " bias: 1.601793885231018\n",
      "\n",
      "$\n",
      "\n"
     ]
    }
   ],
   "source": [
    "print(model)"
   ]
  }
 ],
 "metadata": {
  "kernelspec": {
   "display_name": "Python 3",
   "language": "python",
   "name": "python3"
  },
  "language_info": {
   "codemirror_mode": {
    "name": "ipython",
    "version": 3
   },
   "file_extension": ".py",
   "mimetype": "text/x-python",
   "name": "python",
   "nbconvert_exporter": "python",
   "pygments_lexer": "ipython3",
   "version": "3.6.12"
  }
 },
 "nbformat": 4,
 "nbformat_minor": 2
}
