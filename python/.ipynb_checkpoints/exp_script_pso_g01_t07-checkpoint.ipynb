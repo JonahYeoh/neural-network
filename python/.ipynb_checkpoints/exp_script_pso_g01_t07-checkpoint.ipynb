{
 "cells": [
  {
   "cell_type": "code",
   "execution_count": 1,
   "metadata": {},
   "outputs": [],
   "source": [
    "# dependency\n",
    "import numpy as np\n",
    "import pandas as pd\n",
    "import copy\n",
    "import math\n",
    "import sys\n",
    "import os\n",
    "from activations import relu, leaky_relu, sigmoid, tanh, softmax, d_sigmoid, d_relu\n",
    "from initializers import glorot_uniform, random_normal, random_uniform\n",
    "from regularizers import l1_regularizer, l2_regularizer\n",
    "from utility import trim_tail, multiply, subtract, get_nparams, one_hot_encoding, get_data\n",
    "from metrics import MSE, CCE, ACC, PRECISION, RECALL, essential_metrics, wondering_penalty, close_gap_penalty\n",
    "from pso import PSO\n",
    "from ga import GA\n",
    "from nn import Network\n",
    "from layer import DenseLayer\n",
    "from scalers import MinMaxScaler, StandardScaler"
   ]
  },
  {
   "cell_type": "code",
   "execution_count": 2,
   "metadata": {},
   "outputs": [],
   "source": [
    "# reference\n",
    "metrics_fn_dict = dict()\n",
    "metrics_fn_dict['accuracy'] = ACC\n",
    "metrics_fn_dict['categorical_crossentropy'] = CCE\n",
    "metrics_fn_dict['mean_square_error'] = MSE\n",
    "metrics_fn_dict['precision'] = PRECISION\n",
    "metrics_fn_dict['recall'] = RECALL\n",
    "metrics_fn_dict['essential_metrics'] = essential_metrics"
   ]
  },
  {
   "cell_type": "code",
   "execution_count": 3,
   "metadata": {},
   "outputs": [],
   "source": [
    "# model\n",
    "model = Network(5, lr = None)\n",
    "model.add_layer(DenseLayer(1, 4, True, afn=sigmoid, dafn=None, rfn=None))\n",
    "model.add_layer(DenseLayer(2, 3, True, afn=softmax, dafn=None, rfn=None))"
   ]
  },
  {
   "cell_type": "code",
   "execution_count": 4,
   "metadata": {},
   "outputs": [
    {
     "name": "stdout",
     "output_type": "stream",
     "text": [
      "see one see two 2 0.5\n"
     ]
    }
   ],
   "source": [
    "pso = PSO(dict(m = 50,\n",
    "    weight_constraint = [-3, 3], \n",
    "    velocity_constraint = [-0.1, 0.1],\n",
    "    c1 = [0.5, 2],\n",
    "    c2 = [0.5, 2],\n",
    "    w = [0.5, 1.6],\n",
    "    w_decay = 0.95,\n",
    "    scale_hyperparameter = False,\n",
    "    regularizer = l1_regularizer,\n",
    "    mask = True))"
   ]
  },
  {
   "cell_type": "code",
   "execution_count": 5,
   "metadata": {},
   "outputs": [
    {
     "name": "stdout",
     "output_type": "stream",
     "text": [
      "building layer 1 with 5\n",
      "24\n",
      "building layer 2 with 4\n",
      "15\n"
     ]
    }
   ],
   "source": [
    "model.compile(loss_fn = 'categorical_crossentropy', optimizer = pso, \\\n",
    "    metrics = ['accuracy', 'mean_square_error', 'categorical_crossentropy'])"
   ]
  },
  {
   "cell_type": "code",
   "execution_count": 6,
   "metadata": {},
   "outputs": [
    {
     "name": "stdout",
     "output_type": "stream",
     "text": [
      "<class 'pandas.core.frame.DataFrame'>\n",
      "RangeIndex: 107 entries, 0 to 106\n",
      "Data columns (total 6 columns):\n",
      " #   Column  Non-Null Count  Dtype  \n",
      "---  ------  --------------  -----  \n",
      " 0   f1      107 non-null    float32\n",
      " 1   f2      107 non-null    float32\n",
      " 2   f3      107 non-null    float32\n",
      " 3   f4      107 non-null    float32\n",
      " 4   f5      107 non-null    float32\n",
      " 5   label   107 non-null    float32\n",
      "dtypes: float32(6)\n",
      "memory usage: 2.6 KB\n",
      "None\n",
      "<class 'pandas.core.frame.DataFrame'>\n",
      "RangeIndex: 108 entries, 0 to 107\n",
      "Data columns (total 6 columns):\n",
      " #   Column  Non-Null Count  Dtype  \n",
      "---  ------  --------------  -----  \n",
      " 0   f1      108 non-null    float32\n",
      " 1   f2      108 non-null    float32\n",
      " 2   f3      108 non-null    float32\n",
      " 3   f4      108 non-null    float32\n",
      " 4   f5      108 non-null    float32\n",
      " 5   label   108 non-null    float32\n",
      "dtypes: float32(6)\n",
      "memory usage: 2.7 KB\n",
      "None\n"
     ]
    }
   ],
   "source": [
    "# data loading\n",
    "DATA = os.path.join('c:\\\\Users\\\\tcumi\\\\github_repo\\\\neural-network\\\\', 'dataset')\n",
    "GROUP = 1\n",
    "COLUMNS = ['f1', 'f2', 'f3', 'f4', 'f5', 'label']\n",
    "N_CLASS = 3\n",
    "EPOCHS = 500\n",
    "train_dir, test_dir = \"..//dataset//training_data{}.txt\".format(GROUP), \"..//dataset//testing_data{}.txt\".format(GROUP)\n",
    "train, test = get_data(DATA, train_dir, COLUMNS), get_data(DATA, test_dir, COLUMNS)\n",
    "# shuffle\n",
    "train, test = train.sample(frac=1), test.sample(frac=1)\n",
    "x_train, y_train = train.drop('label', axis=1), train['label']\n",
    "x_test, y_test = test.drop('label', axis=1), test['label']"
   ]
  },
  {
   "cell_type": "code",
   "execution_count": 7,
   "metadata": {},
   "outputs": [],
   "source": [
    "# data scaling and encoding\n",
    "scaler = StandardScaler(['f1', 'f2', 'f3', 'f4', 'f5'])\n",
    "scaler.fit(x_train)\n",
    "x_train = scaler.transform(x_train)\n",
    "x_test = scaler.transform(x_test)\n",
    "y_train = one_hot_encoding(y_train, N_CLASS)\n",
    "y_test = one_hot_encoding(y_test, N_CLASS)"
   ]
  },
  {
   "cell_type": "code",
   "execution_count": 8,
   "metadata": {
    "tags": [
     "outputPrepend"
    ]
   },
   "outputs": [
    {
     "name": "stdout",
     "output_type": "stream",
     "text": [
      "Checkpoint 100, Accuracy: 0.9691358024691358, Loss: 0.2216862572564019\n",
      "Checkpoint 200, Accuracy: 0.9753086419753086, Loss: 0.21643115856029368\n",
      "Checkpoint 300, Accuracy: 0.9629629629629629, Loss: 0.20233495147139938\n",
      "Checkpoint 400, Accuracy: 0.9691358024691358, Loss: 0.17801781053896304\n",
      "Checkpoint 500, Accuracy: 0.9629629629629629, Loss: 0.17216631218239112\n"
     ]
    }
   ],
   "source": [
    "# learning phase\n",
    "breakpoint = 100\n",
    "checkpoints = list()\n",
    "history = list()\n",
    "for century in range(0, EPOCHS, breakpoint):\n",
    "    sub_history = model.fit(x_train, y_train, breakpoint, verbose = 0)\n",
    "    score = model.evaluate(x_test, y_test, False, verbose = 0)\n",
    "    print('Checkpoint {}, Accuracy: {}, Loss: {}'.format(century+breakpoint, score['accuracy'], score[model.loss_fn]))\n",
    "    score['checkpoint'] = century + breakpoint\n",
    "    checkpoints.append(score)\n",
    "    history.extend(sub_history)\n",
    "    itr = century + breakpoint\n",
    "    model.optimizer.c1 = np.max([model.optimizer.C1[1] - ((model.optimizer.C1[1] - model.optimizer.C1[0]) * itr / EPOCHS), model.optimizer.C1[0]])\n",
    "    model.optimizer.c2 = np.min([model.optimizer.C2[0] + ((model.optimizer.C2[1] - model.optimizer.C2[0]) * itr / EPOCHS), model.optimizer.C2[1]])\n",
    "    model.optimizer.w = np.max([model.optimizer.w * model.optimizer.W_Decay, model.optimizer.W[0]])"
   ]
  },
  {
   "cell_type": "code",
   "execution_count": 9,
   "metadata": {},
   "outputs": [],
   "source": [
    "import matplotlib.pyplot as plt\n",
    "\n",
    "def draw_plot(x, y_list, x_label=None, y_label=None, legend=None, title=None):\n",
    "    fig, ax = plt.subplots(figsize=(12,5))\n",
    "    for xi, yi in zip(x, y_list):\n",
    "        ax.plot(xi, yi)\n",
    "    if x_label is not None and y_label is not None:\n",
    "        ax.set(xlabel=x_label, ylabel=y_label, title='{} VS {}'.format(x_label, y_label))\n",
    "    if legend is not None:\n",
    "        ax.legend(legend)\n",
    "    ax.grid()\n",
    "    plt.show()"
   ]
  },
  {
   "cell_type": "code",
   "execution_count": 10,
   "metadata": {},
   "outputs": [
    {
     "name": "stdout",
     "output_type": "stream",
     "text": [
      "[1. 0. 0.] <-> [0.8874403  0.0861035  0.02645618]\n",
      "[0. 0. 1.] <-> [0.06250902 0.00270372 0.9347873 ]\n",
      "[1. 0. 0.] <-> [0.9501529  0.01772022 0.032127  ]\n",
      "[0. 1. 0.] <-> [0.25086543 0.7287613  0.02037327]\n",
      "[1. 0. 0.] <-> [0.9363799  0.02466996 0.03895019]\n",
      "[1. 0. 0.] <-> [0.930317   0.02298312 0.04669993]\n",
      "[0. 0. 1.] <-> [0.05980242 0.00266148 0.9375361 ]\n",
      "[1. 0. 0.] <-> [0.931255   0.01557325 0.05317174]\n",
      "[0. 0. 1.] <-> [0.07568225 0.00348529 0.92083246]\n",
      "[1. 0. 0.] <-> [0.93135095 0.02028561 0.04836349]\n",
      "[1. 0. 0.] <-> [0.9266088  0.01614629 0.05724489]\n",
      "[1. 0. 0.] <-> [0.90272355 0.01861838 0.07865818]\n",
      "[1. 0. 0.] <-> [0.9159893  0.04681049 0.03720024]\n",
      "[0. 1. 0.] <-> [0.09764885 0.8954302  0.00692095]\n",
      "[1. 0. 0.] <-> [0.76976556 0.02180669 0.20842768]\n",
      "[1. 0. 0.] <-> [0.9250173  0.02330106 0.05168164]\n",
      "[1. 0. 0.] <-> [0.9143354  0.01615861 0.06950592]\n",
      "[1. 0. 0.] <-> [0.9205172  0.02018879 0.05929396]\n",
      "[1. 0. 0.] <-> [0.9291777  0.01866532 0.05215699]\n",
      "[1. 0. 0.] <-> [0.9312288  0.01714715 0.0516241 ]\n",
      "[1. 0. 0.] <-> [0.9416462  0.03460002 0.02375372]\n",
      "[1. 0. 0.] <-> [0.9455147  0.03048874 0.02399657]\n",
      "[1. 0. 0.] <-> [0.95953596 0.01822222 0.02224187]\n",
      "[1. 0. 0.] <-> [0.85192126 0.02195075 0.126128  ]\n",
      "[1. 0. 0.] <-> [0.9406068  0.03899318 0.02040001]\n",
      "[1. 0. 0.] <-> [0.9404355  0.0208598  0.03870466]\n",
      "[1. 0. 0.] <-> [0.8889873  0.01791317 0.0930995 ]\n",
      "[1. 0. 0.] <-> [0.92966455 0.01730883 0.05302657]\n",
      "[1. 0. 0.] <-> [0.8464464  0.01794956 0.13560407]\n",
      "[1. 0. 0.] <-> [0.95259976 0.02290758 0.02449266]\n",
      "[1. 0. 0.] <-> [0.8420772  0.01702229 0.14090045]\n",
      "[1. 0. 0.] <-> [0.9207765  0.04651865 0.03270485]\n",
      "[1. 0. 0.] <-> [0.9256432  0.01619975 0.05815702]\n",
      "[0. 0. 1.] <-> [0.11322036 0.00559392 0.8811857 ]\n",
      "[1. 0. 0.] <-> [0.7198508 0.2520781 0.0280711]\n",
      "[0. 1. 0.] <-> [0.2928278  0.69078445 0.01638769]\n",
      "[0. 1. 0.] <-> [0.1092232  0.8824882  0.00828859]\n",
      "[1. 0. 0.] <-> [0.9347909  0.02055299 0.04465612]\n",
      "[1. 0. 0.] <-> [0.8934444  0.08335342 0.02320205]\n",
      "[1. 0. 0.] <-> [0.9231693  0.01754612 0.0592846 ]\n",
      "[1. 0. 0.] <-> [0.9521755  0.02498954 0.02283501]\n",
      "[1. 0. 0.] <-> [0.9466849  0.02482217 0.02849293]\n",
      "[1. 0. 0.] <-> [0.92705274 0.02586832 0.04707899]\n",
      "[1. 0. 0.] <-> [0.9572859  0.01934065 0.02337348]\n",
      "[1. 0. 0.] <-> [0.861804   0.01785259 0.12034338]\n",
      "[0. 0. 1.] <-> [0.7823848  0.01580983 0.20180531]\n",
      "[1. 0. 0.] <-> [0.91934806 0.03484503 0.04580687]\n",
      "[1. 0. 0.] <-> [0.80062205 0.02159125 0.17778665]\n",
      "[1. 0. 0.] <-> [0.8728538  0.02260464 0.10454157]\n",
      "[1. 0. 0.] <-> [0.925846   0.05577176 0.01838221]\n",
      "[1. 0. 0.] <-> [0.93575215 0.04285883 0.021389  ]\n",
      "[1. 0. 0.] <-> [0.87291723 0.01949719 0.10758556]\n",
      "[1. 0. 0.] <-> [0.94306296 0.02455573 0.0323813 ]\n",
      "[1. 0. 0.] <-> [0.94623417 0.02700616 0.02675959]\n",
      "[1. 0. 0.] <-> [0.9324314  0.0177161  0.04985247]\n",
      "[1. 0. 0.] <-> [0.93504244 0.02068057 0.04427694]\n",
      "[0. 0. 1.] <-> [0.09398978 0.00431147 0.90169877]\n",
      "[1. 0. 0.] <-> [0.94083434 0.04129598 0.01786965]\n",
      "[1. 0. 0.] <-> [0.9381503  0.04684506 0.01500465]\n",
      "[0. 1. 0.] <-> [0.5065986  0.47236824 0.0210331 ]\n",
      "[0. 1. 0.] <-> [0.31601807 0.6614871  0.02249485]\n",
      "[0. 0. 1.] <-> [0.15937996 0.00715154 0.8334685 ]\n",
      "[1. 0. 0.] <-> [0.7576864  0.01756113 0.2247525 ]\n",
      "[0. 0. 1.] <-> [0.07039623 0.00323195 0.9263718 ]\n",
      "[0. 1. 0.] <-> [0.10956914 0.88098454 0.00944623]\n",
      "[0. 1. 0.] <-> [0.66509694 0.30407268 0.03083044]\n",
      "[1. 0. 0.] <-> [0.9476064  0.01610925 0.03628438]\n",
      "[1. 0. 0.] <-> [0.9383485  0.03124444 0.03040713]\n",
      "[0. 1. 0.] <-> [0.10453664 0.8868103  0.00865303]\n",
      "[0. 1. 0.] <-> [0.11842599 0.8711672  0.01040678]\n",
      "[1. 0. 0.] <-> [0.94956905 0.02718839 0.02324249]\n",
      "[1. 0. 0.] <-> [0.8573552  0.01749344 0.12515143]\n",
      "[1. 0. 0.] <-> [0.9040555  0.07260183 0.02334277]\n",
      "[1. 0. 0.] <-> [0.94852585 0.02241912 0.02905503]\n",
      "[1. 0. 0.] <-> [0.8788193  0.09046759 0.03071306]\n",
      "[1. 0. 0.] <-> [0.9513006  0.02833134 0.020368  ]\n",
      "[0. 0. 1.] <-> [0.06375818 0.00277558 0.9334663 ]\n",
      "[1. 0. 0.] <-> [0.91093034 0.02321424 0.06585543]\n",
      "[0. 1. 0.] <-> [0.36796814 0.6132432  0.01878871]\n",
      "[1. 0. 0.] <-> [0.9418158  0.02771377 0.03047047]\n",
      "[1. 0. 0.] <-> [0.9189827  0.02543712 0.05558022]\n",
      "[1. 0. 0.] <-> [0.9300574  0.04700273 0.02293985]\n",
      "[1. 0. 0.] <-> [0.9450451  0.02315659 0.03179829]\n",
      "[1. 0. 0.] <-> [0.95353717 0.02713466 0.01932822]\n",
      "[0. 0. 1.] <-> [0.05943313 0.00250953 0.93805736]\n",
      "[1. 0. 0.] <-> [0.9158447  0.01555347 0.06860177]\n",
      "[0. 0. 1.] <-> [0.08598465 0.00400024 0.91001517]\n",
      "[1. 0. 0.] <-> [0.9010158  0.03112514 0.06785905]\n",
      "[1. 0. 0.] <-> [0.6782012  0.01930953 0.30248928]\n",
      "[1. 0. 0.] <-> [0.71365494 0.01801344 0.2683316 ]\n",
      "[0. 1. 0.] <-> [0.17515478 0.80864054 0.01620466]\n",
      "[1. 0. 0.] <-> [0.9463804  0.02476103 0.02885855]\n",
      "[0. 0. 1.] <-> [0.05942845 0.00249971 0.93807185]\n",
      "[1. 0. 0.] <-> [0.9119761  0.01786462 0.0701592 ]\n",
      "[1. 0. 0.] <-> [0.94384986 0.01743742 0.03871265]\n",
      "[0. 0. 1.] <-> [0.59298486 0.01431684 0.39269832]\n",
      "[1. 0. 0.] <-> [0.942771   0.0264687  0.03076023]\n",
      "[1. 0. 0.] <-> [0.939523   0.03903305 0.02144396]\n",
      "[0. 1. 0.] <-> [0.62798756 0.35377312 0.01823932]\n",
      "[1. 0. 0.] <-> [0.77182686 0.2076381  0.02053498]\n",
      "[1. 0. 0.] <-> [0.88318384 0.08858903 0.02822713]\n",
      "[1. 0. 0.] <-> [0.9322487  0.05280445 0.01494681]\n",
      "[0. 1. 0.] <-> [0.09590246 0.8975585  0.00653902]\n",
      "[1. 0. 0.] <-> [0.9435907  0.03516122 0.02124819]\n",
      "[1. 0. 0.] <-> [0.83784795 0.13424243 0.02790966]\n",
      "[1. 0. 0.] <-> [0.90439856 0.01592562 0.0796757 ]\n",
      "[1. 0. 0.] <-> [0.25156766 0.01079397 0.73763835]\n",
      "[0. 1. 0.] <-> [0.15656553 0.8311046  0.0123298 ]\n",
      "{'accuracy': 0.9629629629629629, 'mean_square_error': 0.07698746513868987, 'categorical_crossentropy': 0.17216631218239112, 'essential_metrics': {0: {'tp_hit': 79, 'fp_hit': 5, 'tn_hit': 23, 'fn_hit': 1}, 1: {'tp_hit': 12, 'fp_hit': 0, 'tn_hit': 93, 'fn_hit': 3}, 2: {'tp_hit': 11, 'fp_hit': 1, 'tn_hit': 94, 'fn_hit': 2}}}\n"
     ]
    }
   ],
   "source": [
    "# recall phase\n",
    "score = model.evaluate(x_test, y_test, False)\n",
    "print(score)"
   ]
  },
  {
   "cell_type": "code",
   "execution_count": 11,
   "metadata": {},
   "outputs": [
    {
     "data": {
      "image/png": "[encoded data removed]",
      "text/plain": [
       "<Figure size 864x360 with 1 Axes>"
      ]
     },
     "metadata": {
      "needs_background": "light"
     },
     "output_type": "display_data"
    },
    {
     "data": {
      "image/png": "[encoded data removed]",
      "text/plain": [
       "<Figure size 864x360 with 1 Axes>"
      ]
     },
     "metadata": {
      "needs_background": "light"
     },
     "output_type": "display_data"
    }
   ],
   "source": [
    "draw_plot(x = [[i for i in range(len(history))], [(i+1)*breakpoint for i in range(len(checkpoints))]], y_list = [history, [ ckp[model.loss_fn] for ckp in checkpoints ]], x_label = 'Epochs', \\\n",
    "    y_label = model.loss_fn, legend=['train', 'test'])\n",
    "acc = [ ckp['accuracy'] for ckp in checkpoints ]\n",
    "draw_plot(x = [[(i+1)*breakpoint for i in range(len(checkpoints))]], y_list = [acc], x_label = 'Checkpoints', \\\n",
    "    y_label = 'accuracy')"
   ]
  },
  {
   "cell_type": "code",
   "execution_count": 12,
   "metadata": {},
   "outputs": [
    {
     "name": "stdout",
     "output_type": "stream",
     "text": [
      "{'accuracy': 0.9691358024691358, 'mean_square_error': 0.0988515263413061, 'categorical_crossentropy': 0.2216862572564019, 'essential_metrics': {0: {'tp_hit': 80, 'fp_hit': 5, 'tn_hit': 23, 'fn_hit': 0}, 1: {'tp_hit': 15, 'fp_hit': 0, 'tn_hit': 93, 'fn_hit': 0}, 2: {'tp_hit': 8, 'fp_hit': 0, 'tn_hit': 95, 'fn_hit': 5}}, 'checkpoint': 100} \n",
      "\n",
      "\n",
      "{'accuracy': 0.9753086419753086, 'mean_square_error': 0.0919840795448944, 'categorical_crossentropy': 0.21643115856029368, 'essential_metrics': {0: {'tp_hit': 79, 'fp_hit': 3, 'tn_hit': 25, 'fn_hit': 1}, 1: {'tp_hit': 14, 'fp_hit': 0, 'tn_hit': 93, 'fn_hit': 1}, 2: {'tp_hit': 11, 'fp_hit': 1, 'tn_hit': 94, 'fn_hit': 2}}, 'checkpoint': 200} \n",
      "\n",
      "\n",
      "{'accuracy': 0.9629629629629629, 'mean_square_error': 0.09279513735545165, 'categorical_crossentropy': 0.20233495147139938, 'essential_metrics': {0: {'tp_hit': 79, 'fp_hit': 5, 'tn_hit': 23, 'fn_hit': 1}, 1: {'tp_hit': 12, 'fp_hit': 0, 'tn_hit': 93, 'fn_hit': 3}, 2: {'tp_hit': 11, 'fp_hit': 1, 'tn_hit': 94, 'fn_hit': 2}}, 'checkpoint': 300} \n",
      "\n",
      "\n",
      "{'accuracy': 0.9691358024691358, 'mean_square_error': 0.07846918158911773, 'categorical_crossentropy': 0.17801781053896304, 'essential_metrics': {0: {'tp_hit': 79, 'fp_hit': 4, 'tn_hit': 24, 'fn_hit': 1}, 1: {'tp_hit': 13, 'fp_hit': 0, 'tn_hit': 93, 'fn_hit': 2}, 2: {'tp_hit': 11, 'fp_hit': 1, 'tn_hit': 94, 'fn_hit': 2}}, 'checkpoint': 400} \n",
      "\n",
      "\n",
      "{'accuracy': 0.9629629629629629, 'mean_square_error': 0.07698746513868987, 'categorical_crossentropy': 0.17216631218239112, 'essential_metrics': {0: {'tp_hit': 79, 'fp_hit': 5, 'tn_hit': 23, 'fn_hit': 1}, 1: {'tp_hit': 12, 'fp_hit': 0, 'tn_hit': 93, 'fn_hit': 3}, 2: {'tp_hit': 11, 'fp_hit': 1, 'tn_hit': 94, 'fn_hit': 2}}, 'checkpoint': 500} \n",
      "\n",
      "\n"
     ]
    }
   ],
   "source": [
    "for checkpoint in checkpoints:\n",
    "    print(checkpoint, '\\n\\n')"
   ]
  },
  {
   "cell_type": "code",
   "execution_count": 13,
   "metadata": {},
   "outputs": [
    {
     "name": "stdout",
     "output_type": "stream",
     "text": [
      "Layer 1\n",
      "Neuron 0: weights:\n",
      "[ 0.08139332  0.1042466  -0.07997893 -0.14443135  0.06297276]\n",
      " bias: 0.15728718042373657\n",
      "\n",
      "Neuron 1: weights:\n",
      "[ 1.1864603  -2.5561144  -1.1678706  -0.0142116   0.15973225]\n",
      " bias: 1.5338608026504517\n",
      "\n",
      "Neuron 2: weights:\n",
      "[ 0.16706054 -1.3619472  -0.36344978  0.7799559   1.734103  ]\n",
      " bias: -1.5383931398391724\n",
      "\n",
      "Neuron 3: weights:\n",
      "[-0.10745366  0.8807127   0.13461643 -0.18373565 -0.82432044]\n",
      " bias: 0.12018787115812302\n",
      "\n",
      "$\n",
      "Layer 2\n",
      "Neuron 0: weights:\n",
      "[ 0.05438088  3.         -2.5263326   0.08461539]\n",
      " bias: -0.25595518946647644\n",
      "\n",
      "Neuron 1: weights:\n",
      "[-0.00712167 -3.         -0.20248148  1.8916324 ]\n",
      " bias: 0.2809886336326599\n",
      "\n",
      "Neuron 2: weights:\n",
      "[ 0.0808133 -0.0329913  3.        -3.       ]\n",
      " bias: -0.007396466098725796\n",
      "\n",
      "$\n",
      "\n"
     ]
    }
   ],
   "source": [
    "print(model)"
   ]
  }
 ],
 "metadata": {
  "kernelspec": {
   "display_name": "Python 3",
   "language": "python",
   "name": "python3"
  },
  "language_info": {
   "codemirror_mode": {
    "name": "ipython",
    "version": 3
   },
   "file_extension": ".py",
   "mimetype": "text/x-python",
   "name": "python",
   "nbconvert_exporter": "python",
   "pygments_lexer": "ipython3",
   "version": "3.6.10"
  }
 },
 "nbformat": 4,
 "nbformat_minor": 2
}
