{
 "cells": [
  {
   "cell_type": "code",
   "execution_count": 1,
   "metadata": {},
   "outputs": [],
   "source": [
    "# two"
   ]
  },
  {
   "cell_type": "code",
   "execution_count": 2,
   "metadata": {},
   "outputs": [],
   "source": [
    "# dependency\n",
    "import numpy as np\n",
    "import pandas as pd\n",
    "import copy\n",
    "import math\n",
    "import sys\n",
    "import os\n",
    "from activations import relu, leaky_relu, sigmoid, tanh, softmax, d_sigmoid, d_relu\n",
    "from initializers import glorot_uniform, random_normal, random_uniform\n",
    "from regularizers import l1_regularizer, l2_regularizer\n",
    "from utility import trim_tail, multiply, subtract, get_nparams, one_hot_encoding, get_data\n",
    "from metrics import MSE, CCE, ACC, PRECISION, RECALL, essential_metrics, wondering_penalty, close_gap_penalty\n",
    "from pso import PSO\n",
    "from ga import GA\n",
    "from nn import Network\n",
    "from layer import DenseLayer\n",
    "from scalers import MinMaxScaler, StandardScaler"
   ]
  },
  {
   "cell_type": "code",
   "execution_count": 3,
   "metadata": {},
   "outputs": [],
   "source": [
    "# reference\n",
    "metrics_fn_dict = dict()\n",
    "metrics_fn_dict['accuracy'] = ACC\n",
    "metrics_fn_dict['categorical_crossentropy'] = CCE\n",
    "metrics_fn_dict['mean_square_error'] = MSE\n",
    "metrics_fn_dict['precision'] = PRECISION\n",
    "metrics_fn_dict['recall'] = RECALL\n",
    "metrics_fn_dict['essential_metrics'] = essential_metrics"
   ]
  },
  {
   "cell_type": "code",
   "execution_count": 4,
   "metadata": {},
   "outputs": [],
   "source": [
    "# model\n",
    "model = Network(5, lr = None)\n",
    "model.add_layer(DenseLayer(1, 4, True, afn=sigmoid, dafn=None, rfn=None))\n",
    "model.add_layer(DenseLayer(2, 3, True, afn=softmax, dafn=None, rfn=None))"
   ]
  },
  {
   "cell_type": "code",
   "execution_count": 5,
   "metadata": {},
   "outputs": [],
   "source": [
    "# optimizer\n",
    "ga = GA(\n",
    "    dict(\n",
    "        m = 50,\n",
    "        x_rate = [0.5, 1.0],\n",
    "        m_rate = [0.5, 1.0],\n",
    "        weight_constraint = [-3.,3.],\n",
    "        radioactive_rating = [0.1, 0.5],\n",
    "        grow_factor = [0.1, 0.5],\n",
    "        scale_hyperparameter = False,\n",
    "        regularizer = l1_regularizer))"
   ]
  },
  {
   "cell_type": "code",
   "execution_count": 6,
   "metadata": {},
   "outputs": [
    {
     "name": "stdout",
     "output_type": "stream",
     "text": [
      "building layer 1 with 5\n",
      "24\n",
      "building layer 2 with 4\n",
      "15\n"
     ]
    }
   ],
   "source": [
    "model.compile(loss_fn = 'categorical_crossentropy', optimizer = ga, \\\n",
    "    metrics = ['accuracy', 'mean_square_error', 'categorical_crossentropy', 'precision', 'recall', 'f1'])"
   ]
  },
  {
   "cell_type": "code",
   "execution_count": 7,
   "metadata": {},
   "outputs": [
    {
     "name": "stdout",
     "output_type": "stream",
     "text": [
      "<class 'pandas.core.frame.DataFrame'>\n",
      "RangeIndex: 107 entries, 0 to 106\n",
      "Data columns (total 6 columns):\n",
      " #   Column  Non-Null Count  Dtype  \n",
      "---  ------  --------------  -----  \n",
      " 0   f1      107 non-null    float32\n",
      " 1   f2      107 non-null    float32\n",
      " 2   f3      107 non-null    float32\n",
      " 3   f4      107 non-null    float32\n",
      " 4   f5      107 non-null    float32\n",
      " 5   label   107 non-null    float32\n",
      "dtypes: float32(6)\n",
      "memory usage: 2.6 KB\n",
      "None\n",
      "<class 'pandas.core.frame.DataFrame'>\n",
      "RangeIndex: 108 entries, 0 to 107\n",
      "Data columns (total 6 columns):\n",
      " #   Column  Non-Null Count  Dtype  \n",
      "---  ------  --------------  -----  \n",
      " 0   f1      108 non-null    float32\n",
      " 1   f2      108 non-null    float32\n",
      " 2   f3      108 non-null    float32\n",
      " 3   f4      108 non-null    float32\n",
      " 4   f5      108 non-null    float32\n",
      " 5   label   108 non-null    float32\n",
      "dtypes: float32(6)\n",
      "memory usage: 2.7 KB\n",
      "None\n"
     ]
    }
   ],
   "source": [
    "# data loading\n",
    "DATA = os.path.join('c:\\\\Users\\\\tcumi\\\\github_repo\\\\neural-network\\\\', 'dataset')\n",
    "GROUP = 2\n",
    "COLUMNS = ['f1', 'f2', 'f3', 'f4', 'f5', 'label']\n",
    "N_CLASS = 3\n",
    "EPOCHS = 500\n",
    "train_dir, test_dir = \"..//dataset//training_data{}.txt\".format(GROUP), \"..//dataset//testing_data{}.txt\".format(GROUP)\n",
    "train, test = get_data(DATA, train_dir, COLUMNS), get_data(DATA, test_dir, COLUMNS)\n",
    "# shuffle\n",
    "train, test = train.sample(frac=1), test.sample(frac=1)\n",
    "x_train, y_train = train.drop('label', axis=1), train['label']\n",
    "x_test, y_test = test.drop('label', axis=1), test['label']"
   ]
  },
  {
   "cell_type": "code",
   "execution_count": 8,
   "metadata": {},
   "outputs": [],
   "source": [
    "# data scaling and encoding\n",
    "scaler = StandardScaler(['f1', 'f2', 'f3', 'f4', 'f5'])\n",
    "scaler.fit(x_train)\n",
    "x_train = scaler.transform(x_train)\n",
    "x_test = scaler.transform(x_test)\n",
    "y_train = one_hot_encoding(y_train, N_CLASS)\n",
    "y_test = one_hot_encoding(y_test, N_CLASS)"
   ]
  },
  {
   "cell_type": "code",
   "execution_count": 9,
   "metadata": {
    "scrolled": true,
    "tags": [
     "outputPrepend"
    ]
   },
   "outputs": [
    {
     "name": "stderr",
     "output_type": "stream",
     "text": [
      "C:\\Users\\tcumi\\Anaconda3\\envs\\py_3_6\\lib\\site-packages\\numpy\\core\\fromnumeric.py:87: VisibleDeprecationWarning: Creating an ndarray from ragged nested sequences (which is a list-or-tuple of lists-or-tuples-or ndarrays with different lengths or shapes) is deprecated. If you meant to do this, you must specify 'dtype=object' when creating the ndarray\n",
      "  return ufunc.reduce(obj, axis, dtype, out, **passkwargs)\n",
      "C:\\Users\\tcumi\\github_repo\\neural-network\\python\\ga.py:201: RuntimeWarning: overflow encountered in add\n",
      "  self.population.sort(key=lambda p: p.fitness + np.random.uniform(-shift, shift, 1), reverse = self.aim)\n",
      "C:\\Users\\tcumi\\Anaconda3\\envs\\py_3_6\\lib\\site-packages\\numpy\\core\\_asarray.py:136: VisibleDeprecationWarning: Creating an ndarray from ragged nested sequences (which is a list-or-tuple of lists-or-tuples-or ndarrays with different lengths or shapes) is deprecated. If you meant to do this, you must specify 'dtype=object' when creating the ndarray\n",
      "  return array(a, dtype, copy=False, order=order, subok=True)\n"
     ]
    },
    {
     "name": "stdout",
     "output_type": "stream",
     "text": [
      "Checkpoint 100, Accuracy: 0.9506172839506173, Loss: 0.290284033174868\n",
      "Checkpoint 200, Accuracy: 0.9629629629629629, Loss: 0.26027340359157985\n",
      "Checkpoint 300, Accuracy: 0.9753086419753086, Loss: 0.22756511193734627\n",
      "Checkpoint 400, Accuracy: 0.9691358024691358, Loss: 0.2030763272885923\n",
      "Checkpoint 500, Accuracy: 0.9691358024691358, Loss: 0.19299955721254702\n"
     ]
    }
   ],
   "source": [
    "# learning phase\n",
    "breakpoint = 100\n",
    "checkpoints = list()\n",
    "history = list()\n",
    "for century in range(0, EPOCHS, breakpoint):\n",
    "    sub_history = model.fit(x_train, y_train, breakpoint, verbose = 0)\n",
    "    score = model.evaluate(x_test, y_test, False, verbose = 0)\n",
    "    print('Checkpoint {}, Accuracy: {}, Loss: {}'.format(century+breakpoint, score['accuracy'], score[model.loss_fn]))\n",
    "    score['checkpoint'] = century + breakpoint\n",
    "    checkpoints.append(score)\n",
    "    history.extend(sub_history)\n",
    "    itr = century + breakpoint\n",
    "    '''\n",
    "    model.optimizer.rr = model.optimizer.rr * 0.9\n",
    "    model.optimizer.gf = model.optimizer.gf * 0.9\n",
    "    model.optimizer.crossover_rate = model.optimizer.crossover_rate * 0.9\n",
    "    model.optimizer.mutation_rate = model.optimizer.mutation_rate * 1.1\n",
    "    '''\n",
    "    model.optimizer.rr = model.optimizer.radioactive_rating[1] - (model.optimizer.radioactive_rating[1] - model.optimizer.radioactive_rating[0]) / EPOCHS * (EPOCHS - itr)\n",
    "    model.optimizer.gf = model.optimizer.grow_factor[1] - (model.optimizer.grow_factor[1] - model.optimizer.grow_factor[0]) / EPOCHS * (EPOCHS - itr)\n",
    "    model.optimizer.crossover_rate = model.optimizer.x_rate[1] - (model.optimizer.x_rate[1] - model.optimizer.x_rate[0]) / EPOCHS * (EPOCHS - itr)\n",
    "    model.optimizer.mutation_rate = model.optimizer.m_rate[0] + (model.optimizer.m_rate[1] - model.optimizer.m_rate[0]) / EPOCHS * (EPOCHS - itr)\n",
    "    "
   ]
  },
  {
   "cell_type": "code",
   "execution_count": 10,
   "metadata": {},
   "outputs": [],
   "source": [
    "import matplotlib.pyplot as plt\n",
    "\n",
    "def draw_plot(x, y_list, x_label=None, y_label=None, legend=None, title=None):\n",
    "    fig, ax = plt.subplots(figsize=(12,5))\n",
    "    for xi, yi in zip(x, y_list):\n",
    "        ax.plot(xi, yi)\n",
    "    if x_label is not None and y_label is not None:\n",
    "        ax.set(xlabel=x_label, ylabel=y_label, title='{} VS {}'.format(x_label, y_label))\n",
    "    if legend is not None:\n",
    "        ax.legend(legend)\n",
    "    ax.grid()\n",
    "    plt.show()"
   ]
  },
  {
   "cell_type": "code",
   "execution_count": 11,
   "metadata": {},
   "outputs": [
    {
     "name": "stdout",
     "output_type": "stream",
     "text": [
      "[1. 0. 0.] <-> [0.90597725 0.06153589 0.03248686]\n",
      "[1. 0. 0.] <-> [0.9204957  0.0458792  0.03362502]\n",
      "[0. 1. 0.] <-> [0.12488399 0.8664269  0.0086892 ]\n",
      "[0. 0. 1.] <-> [0.60699177 0.02802237 0.36498588]\n",
      "[1. 0. 0.] <-> [0.948298   0.01642993 0.03527213]\n",
      "[1. 0. 0.] <-> [0.930877   0.02245598 0.04666713]\n",
      "[1. 0. 0.] <-> [0.8465799  0.04328373 0.11013635]\n",
      "[1. 0. 0.] <-> [0.9431157  0.01786506 0.03901919]\n",
      "[1. 0. 0.] <-> [0.89671946 0.02242506 0.08085551]\n",
      "[1. 0. 0.] <-> [0.9106559  0.0651342  0.02420986]\n",
      "[1. 0. 0.] <-> [0.92001253 0.02675072 0.05323673]\n",
      "[1. 0. 0.] <-> [0.8731752  0.02179576 0.10502905]\n",
      "[1. 0. 0.] <-> [0.9270732  0.04481196 0.02811482]\n",
      "[1. 0. 0.] <-> [0.8959943  0.07442693 0.02957867]\n",
      "[1. 0. 0.] <-> [0.65248364 0.31842536 0.02909109]\n",
      "[1. 0. 0.] <-> [0.9332878  0.02835359 0.03835862]\n",
      "[0. 0. 1.] <-> [0.06784379 0.00743306 0.9247232 ]\n",
      "[1. 0. 0.] <-> [0.8339413  0.03461109 0.13144758]\n",
      "[1. 0. 0.] <-> [0.8862415  0.08318484 0.03057367]\n",
      "[0. 1. 0.] <-> [0.5265981  0.4458071  0.02759482]\n",
      "[1. 0. 0.] <-> [0.91121906 0.02654364 0.0622373 ]\n",
      "[1. 0. 0.] <-> [0.8649525  0.10555891 0.02948857]\n",
      "[1. 0. 0.] <-> [0.92797416 0.03905212 0.03297374]\n",
      "[1. 0. 0.] <-> [0.92554945 0.0260581  0.04839246]\n",
      "[1. 0. 0.] <-> [0.7623775  0.02789102 0.20973147]\n",
      "[1. 0. 0.] <-> [0.94395584 0.02143619 0.034608  ]\n",
      "[0. 0. 1.] <-> [0.08785969 0.01069216 0.9014482 ]\n",
      "[0. 0. 1.] <-> [0.07647897 0.00742909 0.9160919 ]\n",
      "[0. 1. 0.] <-> [0.15477589 0.8317425  0.01348157]\n",
      "[1. 0. 0.] <-> [0.7686264  0.038376   0.19299756]\n",
      "[1. 0. 0.] <-> [0.952839   0.01645922 0.03070174]\n",
      "[0. 0. 1.] <-> [0.06729561 0.00764878 0.9250556 ]\n",
      "[1. 0. 0.] <-> [0.93146265 0.02174304 0.04679434]\n",
      "[0. 0. 1.] <-> [0.08839356 0.01044629 0.9011602 ]\n",
      "[1. 0. 0.] <-> [0.9149337  0.05755144 0.02751486]\n",
      "[1. 0. 0.] <-> [0.9281603  0.03579353 0.03604615]\n",
      "[1. 0. 0.] <-> [0.74841315 0.03737263 0.2142143 ]\n",
      "[1. 0. 0.] <-> [0.9348954  0.02521113 0.03989343]\n",
      "[0. 0. 1.] <-> [0.08142848 0.00757994 0.91099155]\n",
      "[1. 0. 0.] <-> [0.8869076  0.07690221 0.03619016]\n",
      "[1. 0. 0.] <-> [0.9338531  0.031774   0.03437295]\n",
      "[1. 0. 0.] <-> [0.8784105  0.04624148 0.07534795]\n",
      "[1. 0. 0.] <-> [0.1930568  0.02464505 0.78229815]\n",
      "[1. 0. 0.] <-> [0.8018636  0.1678612  0.03027519]\n",
      "[1. 0. 0.] <-> [0.9426749  0.02555263 0.03177254]\n",
      "[1. 0. 0.] <-> [0.91206443 0.03444678 0.05348881]\n",
      "[1. 0. 0.] <-> [0.9323709  0.01861914 0.04900995]\n",
      "[1. 0. 0.] <-> [0.9552419  0.01979417 0.02496388]\n",
      "[1. 0. 0.] <-> [0.8707923  0.02443256 0.10477518]\n",
      "[1. 0. 0.] <-> [0.9318424  0.04061545 0.02754223]\n",
      "[1. 0. 0.] <-> [0.9285707  0.04028141 0.03114792]\n",
      "[1. 0. 0.] <-> [0.9274453  0.04865965 0.02389513]\n",
      "[1. 0. 0.] <-> [0.9000938  0.07298587 0.02692031]\n",
      "[0. 1. 0.] <-> [0.1198117  0.8714214  0.00876692]\n",
      "[1. 0. 0.] <-> [0.94985074 0.02533657 0.02481267]\n",
      "[0. 0. 1.] <-> [0.06477445 0.00922984 0.9259957 ]\n",
      "[1. 0. 0.] <-> [0.8768513  0.09504883 0.02809983]\n",
      "[1. 0. 0.] <-> [0.9403173  0.03176183 0.02792089]\n",
      "[1. 0. 0.] <-> [0.9224259  0.02966574 0.04790832]\n",
      "[0. 1. 0.] <-> [0.65662056 0.31578112 0.02759831]\n",
      "[1. 0. 0.] <-> [0.92170614 0.02051825 0.05777558]\n",
      "[1. 0. 0.] <-> [0.94320947 0.03079255 0.02599796]\n",
      "[0. 1. 0.] <-> [0.1216784  0.86922246 0.00909917]\n",
      "[0. 0. 1.] <-> [0.07568453 0.00810331 0.9162122 ]\n",
      "[1. 0. 0.] <-> [0.88238347 0.02710007 0.0905164 ]\n",
      "[1. 0. 0.] <-> [0.91486746 0.0342962  0.05083632]\n",
      "[1. 0. 0.] <-> [0.90920866 0.04117648 0.04961489]\n",
      "[1. 0. 0.] <-> [0.9340728  0.03198704 0.03394017]\n",
      "[1. 0. 0.] <-> [0.9319447  0.04287068 0.02518453]\n",
      "[1. 0. 0.] <-> [0.9292376  0.02032396 0.0504384 ]\n",
      "[1. 0. 0.] <-> [0.86753905 0.03266747 0.09979349]\n",
      "[1. 0. 0.] <-> [0.8823411  0.02341757 0.09424133]\n",
      "[0. 0. 1.] <-> [0.86310756 0.0203512  0.1165412 ]\n",
      "[0. 1. 0.] <-> [0.14777803 0.8408891  0.01133285]\n",
      "[1. 0. 0.] <-> [0.8324922  0.13471189 0.032796  ]\n",
      "[1. 0. 0.] <-> [0.9378907  0.01836342 0.04374583]\n",
      "[1. 0. 0.] <-> [0.91126746 0.02502629 0.06370621]\n",
      "[1. 0. 0.] <-> [0.9150753  0.04695639 0.03796829]\n",
      "[1. 0. 0.] <-> [0.9433851  0.02824146 0.02837335]\n",
      "[1. 0. 0.] <-> [0.9004752  0.06413446 0.03539041]\n",
      "[0. 1. 0.] <-> [0.2357838  0.74600166 0.01821457]\n",
      "[1. 0. 0.] <-> [0.91935474 0.02951167 0.05113358]\n",
      "[1. 0. 0.] <-> [0.90132874 0.03364704 0.06502421]\n",
      "[1. 0. 0.] <-> [0.6233715  0.04040441 0.3362241 ]\n",
      "[1. 0. 0.] <-> [0.94075567 0.03030969 0.0289347 ]\n",
      "[1. 0. 0.] <-> [0.88889104 0.08078744 0.03032155]\n",
      "[0. 1. 0.] <-> [0.16466962 0.8216564  0.01367397]\n",
      "[0. 0. 1.] <-> [0.1035678  0.0119506  0.88448155]\n",
      "[0. 1. 0.] <-> [0.2505997  0.7317307  0.01766955]\n",
      "[1. 0. 0.] <-> [0.90405977 0.06390186 0.03203833]\n",
      "[0. 1. 0.] <-> [0.25767583 0.71628183 0.02604228]\n",
      "[1. 0. 0.] <-> [0.90476924 0.04153978 0.05369095]\n",
      "[0. 1. 0.] <-> [0.42001617 0.55430996 0.02567381]\n",
      "[1. 0. 0.] <-> [0.9357758  0.03187034 0.03235384]\n",
      "[1. 0. 0.] <-> [0.92151153 0.04757977 0.03090869]\n",
      "[0. 1. 0.] <-> [0.29222292 0.68701494 0.02076221]\n",
      "[0. 1. 0.] <-> [0.45296586 0.511296   0.03573817]\n",
      "[0. 1. 0.] <-> [0.35466626 0.6225602  0.02277356]\n",
      "[1. 0. 0.] <-> [0.9437357  0.03257131 0.02369303]\n",
      "[1. 0. 0.] <-> [0.94047034 0.02180327 0.03772639]\n",
      "[1. 0. 0.] <-> [0.95390356 0.02250041 0.02359607]\n",
      "[1. 0. 0.] <-> [0.6754618  0.03464472 0.28989342]\n",
      "[1. 0. 0.] <-> [0.85258085 0.12072606 0.02669308]\n",
      "[1. 0. 0.] <-> [0.93680924 0.01657693 0.04661386]\n",
      "[1. 0. 0.] <-> [0.8184121  0.1513327  0.03025517]\n",
      "[0. 0. 1.] <-> [0.16643856 0.02009743 0.813464  ]\n",
      "[0. 0. 1.] <-> [0.09581357 0.00984601 0.8943404 ]\n",
      "[1. 0. 0.] <-> [0.9420312  0.03015013 0.02781864]\n",
      "{'accuracy': 0.9691358024691358, 'mean_square_error': 0.0852814057479974, 'categorical_crossentropy': 0.19299955721254702, 'precision': 0.9537037037037037, 'recall': 0.9537037037037037, 'f1': 0.9537037037037037, 'essential_metrics': {0: {'tp_hit': 79, 'fp_hit': 4, 'tn_hit': 24, 'fn_hit': 1}, 1: {'tp_hit': 13, 'fp_hit': 0, 'tn_hit': 93, 'fn_hit': 2}, 2: {'tp_hit': 11, 'fp_hit': 1, 'tn_hit': 94, 'fn_hit': 2}}}\n"
     ]
    }
   ],
   "source": [
    "# recall phase\n",
    "score = model.evaluate(x_test, y_test, False)\n",
    "print(score)"
   ]
  },
  {
   "cell_type": "code",
   "execution_count": 12,
   "metadata": {},
   "outputs": [],
   "source": [
    "# Testing Performance"
   ]
  },
  {
   "cell_type": "code",
   "execution_count": 13,
   "metadata": {},
   "outputs": [
    {
     "name": "stderr",
     "output_type": "stream",
     "text": [
      "C:\\Users\\tcumi\\Anaconda3\\envs\\py_3_6\\lib\\site-packages\\numpy\\core\\_asarray.py:136: VisibleDeprecationWarning: Creating an ndarray from ragged nested sequences (which is a list-or-tuple of lists-or-tuples-or ndarrays with different lengths or shapes) is deprecated. If you meant to do this, you must specify 'dtype=object' when creating the ndarray\n",
      "  return array(a, dtype, copy=False, order=order, subok=True)\n"
     ]
    },
    {
     "data": {
      "image/png": "[encoded data removed]",
      "text/plain": [
       "<Figure size 864x360 with 1 Axes>"
      ]
     },
     "metadata": {
      "needs_background": "light"
     },
     "output_type": "display_data"
    },
    {
     "data": {
      "image/png": "[encoded data removed]",
      "text/plain": [
       "<Figure size 864x360 with 1 Axes>"
      ]
     },
     "metadata": {
      "needs_background": "light"
     },
     "output_type": "display_data"
    }
   ],
   "source": [
    "draw_plot(x = [[i for i in range(len(history))], [(i+1)*breakpoint for i in range(len(checkpoints))]], y_list = [history, [ ckp[model.loss_fn] for ckp in checkpoints ]], x_label = 'Epochs', \\\n",
    "    y_label = model.loss_fn, legend=['train', 'test'])\n",
    "acc = [ ckp['accuracy'] for ckp in checkpoints ]\n",
    "draw_plot(x = [[(i+1)*breakpoint for i in range(len(checkpoints))]], y_list = [acc], x_label = 'Checkpoints', \\\n",
    "    y_label = 'accuracy')"
   ]
  },
  {
   "cell_type": "code",
   "execution_count": 14,
   "metadata": {
    "scrolled": false
   },
   "outputs": [
    {
     "name": "stdout",
     "output_type": "stream",
     "text": [
      "{'accuracy': 0.9506172839506173, 'mean_square_error': 0.13757908998030804, 'categorical_crossentropy': 0.290284033174868, 'precision': 0.9259259259259259, 'recall': 0.9259259259259259, 'f1': 0.9259259259259259, 'essential_metrics': {0: {'tp_hit': 80, 'fp_hit': 8, 'tn_hit': 20, 'fn_hit': 0}, 1: {'tp_hit': 10, 'fp_hit': 0, 'tn_hit': 93, 'fn_hit': 5}, 2: {'tp_hit': 10, 'fp_hit': 0, 'tn_hit': 95, 'fn_hit': 3}}, 'checkpoint': 100} \n",
      "\n",
      "\n",
      "{'accuracy': 0.9629629629629629, 'mean_square_error': 0.11665112690756796, 'categorical_crossentropy': 0.26027340359157985, 'precision': 0.9444444444444444, 'recall': 0.9444444444444444, 'f1': 0.9444444444444444, 'essential_metrics': {0: {'tp_hit': 80, 'fp_hit': 6, 'tn_hit': 22, 'fn_hit': 0}, 1: {'tp_hit': 12, 'fp_hit': 0, 'tn_hit': 93, 'fn_hit': 3}, 2: {'tp_hit': 10, 'fp_hit': 0, 'tn_hit': 95, 'fn_hit': 3}}, 'checkpoint': 200} \n",
      "\n",
      "\n",
      "{'accuracy': 0.9753086419753086, 'mean_square_error': 0.09572222124003403, 'categorical_crossentropy': 0.22756511193734627, 'precision': 0.9629629629629629, 'recall': 0.9629629629629629, 'f1': 0.9629629629629629, 'essential_metrics': {0: {'tp_hit': 80, 'fp_hit': 4, 'tn_hit': 24, 'fn_hit': 0}, 1: {'tp_hit': 13, 'fp_hit': 0, 'tn_hit': 93, 'fn_hit': 2}, 2: {'tp_hit': 11, 'fp_hit': 0, 'tn_hit': 95, 'fn_hit': 2}}, 'checkpoint': 300} \n",
      "\n",
      "\n",
      "{'accuracy': 0.9691358024691358, 'mean_square_error': 0.08537126083420557, 'categorical_crossentropy': 0.2030763272885923, 'precision': 0.9537037037037037, 'recall': 0.9537037037037037, 'f1': 0.9537037037037037, 'essential_metrics': {0: {'tp_hit': 79, 'fp_hit': 4, 'tn_hit': 24, 'fn_hit': 1}, 1: {'tp_hit': 13, 'fp_hit': 0, 'tn_hit': 93, 'fn_hit': 2}, 2: {'tp_hit': 11, 'fp_hit': 1, 'tn_hit': 94, 'fn_hit': 2}}, 'checkpoint': 400} \n",
      "\n",
      "\n",
      "{'accuracy': 0.9691358024691358, 'mean_square_error': 0.0852814057479974, 'categorical_crossentropy': 0.19299955721254702, 'precision': 0.9537037037037037, 'recall': 0.9537037037037037, 'f1': 0.9537037037037037, 'essential_metrics': {0: {'tp_hit': 79, 'fp_hit': 4, 'tn_hit': 24, 'fn_hit': 1}, 1: {'tp_hit': 13, 'fp_hit': 0, 'tn_hit': 93, 'fn_hit': 2}, 2: {'tp_hit': 11, 'fp_hit': 1, 'tn_hit': 94, 'fn_hit': 2}}, 'checkpoint': 500} \n",
      "\n",
      "\n"
     ]
    }
   ],
   "source": [
    "for checkpoint in checkpoints:\n",
    "    print(checkpoint, '\\n\\n')"
   ]
  },
  {
   "cell_type": "code",
   "execution_count": 15,
   "metadata": {},
   "outputs": [
    {
     "name": "stdout",
     "output_type": "stream",
     "text": [
      "Layer 1\n",
      "Neuron 0: weights:\n",
      "[ 0.12894481 -0.9371976  -0.5169822   0.01478443  0.04520849]\n",
      " bias: 0.1644446700811386\n",
      "\n",
      "Neuron 1: weights:\n",
      "[-0.3533069   0.25289822  0.05204479 -0.2921224  -0.6584949 ]\n",
      " bias: 0.04121488705277443\n",
      "\n",
      "Neuron 2: weights:\n",
      "[ 0.97822756 -2.1245682  -1.2795606  -0.04953283  1.1209506 ]\n",
      " bias: 1.3774794340133667\n",
      "\n",
      "Neuron 3: weights:\n",
      "[-0.02034959 -1.6263392  -0.15975063  1.1822784   2.1905205 ]\n",
      " bias: -1.5890002250671387\n",
      "\n",
      "$\n",
      "Layer 2\n",
      "Neuron 0: weights:\n",
      "[ 1.5007005e+00 -2.6335453e-03  1.7633774e+00 -2.8979578e+00]\n",
      " bias: 0.06835656613111496\n",
      "\n",
      "Neuron 1: weights:\n",
      "[-9.0946472e-01  3.9013210e-01 -3.0000000e+00  7.4337743e-04]\n",
      " bias: 1.7793856859207153\n",
      "\n",
      "Neuron 2: weights:\n",
      "[ 0.7002809  -2.187247   -0.03230753  2.958925  ]\n",
      " bias: -0.6903162002563477\n",
      "\n",
      "$\n",
      "\n"
     ]
    }
   ],
   "source": [
    "print(model)"
   ]
  }
 ],
 "metadata": {
  "kernelspec": {
   "display_name": "Python 3",
   "language": "python",
   "name": "python3"
  },
  "language_info": {
   "codemirror_mode": {
    "name": "ipython",
    "version": 3
   },
   "file_extension": ".py",
   "mimetype": "text/x-python",
   "name": "python",
   "nbconvert_exporter": "python",
   "pygments_lexer": "ipython3",
   "version": "3.6.10"
  }
 },
 "nbformat": 4,
 "nbformat_minor": 2
}
