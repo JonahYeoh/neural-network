{
 "cells": [
  {
   "cell_type": "code",
   "execution_count": 1,
   "metadata": {},
   "outputs": [],
   "source": [
    "# dependency\n",
    "import numpy as np\n",
    "import pandas as pd\n",
    "import copy\n",
    "import math\n",
    "import sys\n",
    "import os\n",
    "from activations import relu, leaky_relu, sigmoid, tanh, softmax, d_sigmoid, d_relu\n",
    "from initializers import glorot_uniform, random_normal, random_uniform\n",
    "from regularizers import l1_regularizer, l2_regularizer\n",
    "from utility import trim_tail, multiply, subtract, get_nparams, one_hot_encoding, get_data\n",
    "from metrics import MSE, CCE, ACC, PRECISION, RECALL, essential_metrics, wondering_penalty, close_gap_penalty\n",
    "from pso import PSO\n",
    "from ga import GA\n",
    "from nn import Network\n",
    "from layer import DenseLayer\n",
    "from scalers import MinMaxScaler, StandardScaler"
   ]
  },
  {
   "cell_type": "code",
   "execution_count": 2,
   "metadata": {},
   "outputs": [],
   "source": [
    "# reference\n",
    "metrics_fn_dict = dict()\n",
    "metrics_fn_dict['accuracy'] = ACC\n",
    "metrics_fn_dict['categorical_crossentropy'] = CCE\n",
    "metrics_fn_dict['mean_square_error'] = MSE\n",
    "metrics_fn_dict['precision'] = PRECISION\n",
    "metrics_fn_dict['recall'] = RECALL\n",
    "metrics_fn_dict['essential_metrics'] = essential_metrics"
   ]
  },
  {
   "cell_type": "code",
   "execution_count": 3,
   "metadata": {},
   "outputs": [],
   "source": [
    "# model\n",
    "model = Network(5, lr = None)\n",
    "model.add_layer(DenseLayer(1, 4, True, afn=sigmoid, dafn=None, rfn=None))\n",
    "model.add_layer(DenseLayer(2, 3, True, afn=softmax, dafn=None, rfn=None))"
   ]
  },
  {
   "cell_type": "code",
   "execution_count": 4,
   "metadata": {},
   "outputs": [
    {
     "name": "stdout",
     "output_type": "stream",
     "text": [
      "see one see two 2 1.5\n"
     ]
    }
   ],
   "source": [
    "pso = PSO(dict(m = 50,\n",
    "    weight_constraint = [-3, 3], \n",
    "    velocity_constraint = [-0.1, 0.1],\n",
    "    c1 = [1.5, 2],\n",
    "    c2 = [1.5, 2],\n",
    "    w = [0.5, 1.2],\n",
    "    w_decay = 0.95,\n",
    "    scale_hyperparameter = False,\n",
    "    regularizer = None,\n",
    "    mask = True))"
   ]
  },
  {
   "cell_type": "code",
   "execution_count": 5,
   "metadata": {},
   "outputs": [
    {
     "name": "stdout",
     "output_type": "stream",
     "text": [
      "building layer 1 with 5\n",
      "24\n",
      "building layer 2 with 4\n",
      "15\n"
     ]
    }
   ],
   "source": [
    "model.compile(loss_fn = 'categorical_crossentropy', optimizer = pso, \\\n",
    "    metrics = ['accuracy', 'mean_square_error', 'categorical_crossentropy'])"
   ]
  },
  {
   "cell_type": "code",
   "execution_count": 6,
   "metadata": {},
   "outputs": [
    {
     "name": "stdout",
     "output_type": "stream",
     "text": [
      "<class 'pandas.core.frame.DataFrame'>\n",
      "RangeIndex: 107 entries, 0 to 106\n",
      "Data columns (total 6 columns):\n",
      " #   Column  Non-Null Count  Dtype  \n",
      "---  ------  --------------  -----  \n",
      " 0   f1      107 non-null    float32\n",
      " 1   f2      107 non-null    float32\n",
      " 2   f3      107 non-null    float32\n",
      " 3   f4      107 non-null    float32\n",
      " 4   f5      107 non-null    float32\n",
      " 5   label   107 non-null    float32\n",
      "dtypes: float32(6)\n",
      "memory usage: 2.6 KB\n",
      "None\n",
      "<class 'pandas.core.frame.DataFrame'>\n",
      "RangeIndex: 108 entries, 0 to 107\n",
      "Data columns (total 6 columns):\n",
      " #   Column  Non-Null Count  Dtype  \n",
      "---  ------  --------------  -----  \n",
      " 0   f1      108 non-null    float32\n",
      " 1   f2      108 non-null    float32\n",
      " 2   f3      108 non-null    float32\n",
      " 3   f4      108 non-null    float32\n",
      " 4   f5      108 non-null    float32\n",
      " 5   label   108 non-null    float32\n",
      "dtypes: float32(6)\n",
      "memory usage: 2.7 KB\n",
      "None\n"
     ]
    }
   ],
   "source": [
    "# data loading\n",
    "DATA = os.path.join('c:\\\\Users\\\\tcumi\\\\github_repo\\\\neural-network\\\\', 'dataset')\n",
    "GROUP = 1\n",
    "COLUMNS = ['f1', 'f2', 'f3', 'f4', 'f5', 'label']\n",
    "N_CLASS = 3\n",
    "EPOCHS = 500\n",
    "train_dir, test_dir = \"..//dataset//training_data{}.txt\".format(GROUP), \"..//dataset//testing_data{}.txt\".format(GROUP)\n",
    "train, test = get_data(DATA, train_dir, COLUMNS), get_data(DATA, test_dir, COLUMNS)\n",
    "# shuffle\n",
    "train, test = train.sample(frac=1), test.sample(frac=1)\n",
    "x_train, y_train = train.drop('label', axis=1), train['label']\n",
    "x_test, y_test = test.drop('label', axis=1), test['label']"
   ]
  },
  {
   "cell_type": "code",
   "execution_count": 7,
   "metadata": {},
   "outputs": [],
   "source": [
    "# data scaling and encoding\n",
    "scaler = StandardScaler(['f1', 'f2', 'f3', 'f4', 'f5'])\n",
    "scaler.fit(x_train)\n",
    "x_train = scaler.transform(x_train)\n",
    "x_test = scaler.transform(x_test)\n",
    "y_train = one_hot_encoding(y_train, N_CLASS)\n",
    "y_test = one_hot_encoding(y_test, N_CLASS)"
   ]
  },
  {
   "cell_type": "code",
   "execution_count": 8,
   "metadata": {
    "tags": [
     "outputPrepend"
    ]
   },
   "outputs": [
    {
     "name": "stdout",
     "output_type": "stream",
     "text": [
      "Checkpoint 100, Accuracy: 0.8703703703703703, Loss: 0.5789059886225948\n",
      "Checkpoint 200, Accuracy: 0.8703703703703703, Loss: 0.5789059886225948\n",
      "Checkpoint 300, Accuracy: 0.8703703703703703, Loss: 0.5789059886225948\n",
      "Checkpoint 400, Accuracy: 0.8703703703703703, Loss: 0.5789059886225948\n",
      "Checkpoint 500, Accuracy: 0.8703703703703703, Loss: 0.5789059886225948\n"
     ]
    }
   ],
   "source": [
    "# learning phase\n",
    "breakpoint = 100\n",
    "checkpoints = list()\n",
    "history = list()\n",
    "for century in range(0, EPOCHS, breakpoint):\n",
    "    sub_history = model.fit(x_train, y_train, breakpoint, verbose = 0)\n",
    "    score = model.evaluate(x_test, y_test, False, verbose = 0)\n",
    "    print('Checkpoint {}, Accuracy: {}, Loss: {}'.format(century+breakpoint, score['accuracy'], score[model.loss_fn]))\n",
    "    score['checkpoint'] = century + breakpoint\n",
    "    checkpoints.append(score)\n",
    "    history.extend(sub_history)\n",
    "    itr = century + breakpoint\n",
    "    model.optimizer.c1 = np.max([model.optimizer.C1[1] - ((model.optimizer.C1[1] - model.optimizer.C1[0]) * itr / EPOCHS), model.optimizer.C1[0]])\n",
    "    model.optimizer.c2 = np.min([model.optimizer.C2[0] + ((model.optimizer.C2[1] - model.optimizer.C2[0]) * itr / EPOCHS), model.optimizer.C2[1]])\n",
    "    model.optimizer.w = np.max([model.optimizer.w * model.optimizer.W_Decay, model.optimizer.W[0]])"
   ]
  },
  {
   "cell_type": "code",
   "execution_count": 9,
   "metadata": {},
   "outputs": [],
   "source": [
    "import matplotlib.pyplot as plt\n",
    "\n",
    "def draw_plot(x, y_list, x_label=None, y_label=None, legend=None, title=None):\n",
    "    fig, ax = plt.subplots(figsize=(12,5))\n",
    "    for xi, yi in zip(x, y_list):\n",
    "        ax.plot(xi, yi)\n",
    "    if x_label is not None and y_label is not None:\n",
    "        ax.set(xlabel=x_label, ylabel=y_label, title='{} VS {}'.format(x_label, y_label))\n",
    "    if legend is not None:\n",
    "        ax.legend(legend)\n",
    "    ax.grid()\n",
    "    plt.show()"
   ]
  },
  {
   "cell_type": "code",
   "execution_count": 10,
   "metadata": {},
   "outputs": [
    {
     "name": "stdout",
     "output_type": "stream",
     "text": [
      "[1. 0. 0.] <-> [0.7844419  0.17331791 0.04224019]\n",
      "[0. 1. 0.] <-> [0.8163809  0.16373163 0.01988736]\n",
      "[1. 0. 0.] <-> [0.8471215  0.11976293 0.03311553]\n",
      "[1. 0. 0.] <-> [0.681904   0.25089344 0.06720255]\n",
      "[1. 0. 0.] <-> [0.86318237 0.10829265 0.02852499]\n",
      "[1. 0. 0.] <-> [0.8801589  0.09401083 0.02583033]\n",
      "[0. 0. 1.] <-> [0.36760163 0.01373748 0.61866087]\n",
      "[1. 0. 0.] <-> [0.87112194 0.09601475 0.03286334]\n",
      "[1. 0. 0.] <-> [0.8569849  0.11983684 0.02317834]\n",
      "[1. 0. 0.] <-> [0.46003312 0.36108634 0.17888059]\n",
      "[0. 1. 0.] <-> [0.600959  0.3531643 0.0458767]\n",
      "[1. 0. 0.] <-> [0.75785667 0.20046158 0.04168173]\n",
      "[1. 0. 0.] <-> [0.7878666  0.17797019 0.03416325]\n",
      "[1. 0. 0.] <-> [0.6739563  0.25025767 0.07578608]\n",
      "[1. 0. 0.] <-> [0.49218816 0.37610966 0.13170218]\n",
      "[1. 0. 0.] <-> [0.7024635  0.2580465  0.03948993]\n",
      "[0. 1. 0.] <-> [0.59105617 0.36195335 0.04699041]\n",
      "[0. 0. 1.] <-> [0.68974286 0.22240537 0.08785172]\n",
      "[1. 0. 0.] <-> [0.49633497 0.4004635  0.10320157]\n",
      "[1. 0. 0.] <-> [0.48480815 0.4071054  0.10808646]\n",
      "[1. 0. 0.] <-> [0.7814055  0.19274019 0.02585432]\n",
      "[1. 0. 0.] <-> [0.72976416 0.2104002  0.05983565]\n",
      "[0. 0. 1.] <-> [0.42373523 0.01649573 0.5597691 ]\n",
      "[0. 1. 0.] <-> [0.64366126 0.31674105 0.03959765]\n",
      "[1. 0. 0.] <-> [0.11328392 0.7020282  0.18468791]\n",
      "[1. 0. 0.] <-> [0.26675677 0.59109455 0.14214864]\n",
      "[1. 0. 0.] <-> [0.38043603 0.5112581  0.10830586]\n",
      "[0. 0. 1.] <-> [0.03397794 0.01859159 0.94743043]\n",
      "[0. 0. 1.] <-> [0.3672693  0.01375762 0.6189731 ]\n",
      "[0. 0. 1.] <-> [0.36759904 0.01373763 0.6186633 ]\n",
      "[1. 0. 0.] <-> [0.18121023 0.6713333  0.14745648]\n",
      "[1. 0. 0.] <-> [0.8167674  0.12971278 0.0535198 ]\n",
      "[1. 0. 0.] <-> [0.74108994 0.20686647 0.05204364]\n",
      "[1. 0. 0.] <-> [0.88872534 0.08980594 0.02146877]\n",
      "[1. 0. 0.] <-> [0.8935637  0.07774872 0.02868763]\n",
      "[0. 1. 0.] <-> [0.02153584 0.7380827  0.2403815 ]\n",
      "[1. 0. 0.] <-> [0.9059695  0.0685638  0.02546668]\n",
      "[1. 0. 0.] <-> [0.82065356 0.1479327  0.0314137 ]\n",
      "[1. 0. 0.] <-> [0.08123645 0.69134665 0.22741699]\n",
      "[1. 0. 0.] <-> [0.59855586 0.31102413 0.09041997]\n",
      "[1. 0. 0.] <-> [0.7291312  0.22736083 0.0435079 ]\n",
      "[1. 0. 0.] <-> [0.7474343  0.22411904 0.02844658]\n",
      "[1. 0. 0.] <-> [0.1672649  0.6594019  0.17333324]\n",
      "[1. 0. 0.] <-> [0.615996   0.30783507 0.07616897]\n",
      "[0. 1. 0.] <-> [0.29211685 0.60662675 0.10125639]\n",
      "[1. 0. 0.] <-> [0.8707755  0.10330695 0.02591751]\n",
      "[1. 0. 0.] <-> [0.89158577 0.08561758 0.02279664]\n",
      "[1. 0. 0.] <-> [0.5943739  0.3457558  0.05987029]\n",
      "[1. 0. 0.] <-> [0.7646517  0.19706233 0.03828594]\n",
      "[0. 1. 0.] <-> [0.29639617 0.5977101  0.10589374]\n",
      "[1. 0. 0.] <-> [0.47316292 0.3964966  0.13034047]\n",
      "[1. 0. 0.] <-> [0.83222026 0.11203044 0.05574922]\n",
      "[0. 0. 1.] <-> [0.36474827 0.01381189 0.6214399 ]\n",
      "[0. 0. 1.] <-> [0.35769114 0.01388048 0.6284284 ]\n",
      "[1. 0. 0.] <-> [0.8269703 0.1467219 0.0263078]\n",
      "[1. 0. 0.] <-> [0.7682056  0.19887768 0.03291681]\n",
      "[0. 0. 1.] <-> [0.00365207 0.02494818 0.9713997 ]\n",
      "[1. 0. 0.] <-> [0.7099538  0.2581939  0.03185234]\n",
      "[1. 0. 0.] <-> [0.8377299  0.13235015 0.02992002]\n",
      "[1. 0. 0.] <-> [0.7306089  0.21517755 0.05421355]\n",
      "[1. 0. 0.] <-> [0.880088   0.0623486  0.05756346]\n",
      "[0. 0. 1.] <-> [7.2110194e-04 8.6439857e-03 9.9063486e-01]\n",
      "[1. 0. 0.] <-> [0.9009659  0.05180793 0.04722621]\n",
      "[1. 0. 0.] <-> [0.46654746 0.42127502 0.11217749]\n",
      "[1. 0. 0.] <-> [0.82625425 0.14775166 0.02599412]\n",
      "[1. 0. 0.] <-> [0.8728069  0.05747348 0.06971958]\n",
      "[1. 0. 0.] <-> [0.90027106 0.07921252 0.02051639]\n",
      "[1. 0. 0.] <-> [0.57497674 0.3628833  0.06214004]\n",
      "[0. 1. 0.] <-> [0.81905144 0.1649093  0.01603921]\n",
      "[0. 1. 0.] <-> [0.37394622 0.5413937  0.08466008]\n",
      "[1. 0. 0.] <-> [0.16506283 0.66703945 0.16789776]\n",
      "[0. 1. 0.] <-> [0.29957053 0.60091734 0.09951216]\n",
      "[0. 1. 0.] <-> [0.02074842 0.73585105 0.24340059]\n",
      "[1. 0. 0.] <-> [0.86114705 0.11273681 0.02611621]\n",
      "[1. 0. 0.] <-> [0.61703926 0.31147158 0.07148916]\n",
      "[1. 0. 0.] <-> [0.8866526  0.092492   0.02085532]\n",
      "[0. 1. 0.] <-> [0.5192006  0.42062604 0.06017331]\n",
      "[1. 0. 0.] <-> [0.8533789  0.11505235 0.03156876]\n",
      "[1. 0. 0.] <-> [0.7108441  0.22657116 0.06258477]\n",
      "[1. 0. 0.] <-> [0.90202636 0.07692623 0.02104737]\n",
      "[0. 1. 0.] <-> [0.2495734  0.6343772  0.11604942]\n",
      "[1. 0. 0.] <-> [0.57293683 0.34880927 0.07825391]\n",
      "[1. 0. 0.] <-> [0.89483494 0.07094525 0.03421982]\n",
      "[1. 0. 0.] <-> [0.7501549  0.18198338 0.06786171]\n",
      "[1. 0. 0.] <-> [0.8904705  0.08922257 0.02030697]\n",
      "[1. 0. 0.] <-> [0.21381211 0.6183243  0.16786362]\n",
      "[1. 0. 0.] <-> [0.8614761  0.10836086 0.03016303]\n",
      "[1. 0. 0.] <-> [0.77275807 0.17791396 0.04932797]\n",
      "[0. 0. 1.] <-> [0.37139064 0.01403022 0.61457914]\n",
      "[1. 0. 0.] <-> [0.57760525 0.34578368 0.07661109]\n",
      "[1. 0. 0.] <-> [0.86019677 0.11043128 0.02937196]\n",
      "[0. 1. 0.] <-> [0.6759591  0.29006782 0.03397312]\n",
      "[1. 0. 0.] <-> [0.82351047 0.1489648  0.02752474]\n",
      "[1. 0. 0.] <-> [0.31690073 0.5644219  0.11867741]\n",
      "[1. 0. 0.] <-> [0.8678884  0.09473585 0.03737583]\n",
      "[1. 0. 0.] <-> [0.6426684  0.031528   0.32580355]\n",
      "[1. 0. 0.] <-> [0.49539876 0.40337983 0.10122138]\n",
      "[1. 0. 0.] <-> [0.05603064 0.72117656 0.22279283]\n",
      "[0. 0. 1.] <-> [0.02006991 0.03040408 0.94952595]\n",
      "[1. 0. 0.] <-> [0.8744107  0.07867257 0.04691672]\n",
      "[0. 0. 1.] <-> [0.8935102  0.07566874 0.03082115]\n",
      "[0. 1. 0.] <-> [0.20122942 0.67238694 0.12638366]\n",
      "[1. 0. 0.] <-> [0.85968053 0.11080615 0.02951337]\n",
      "[1. 0. 0.] <-> [0.4561024  0.4513742  0.09252338]\n",
      "[1. 0. 0.] <-> [0.90055764 0.08099861 0.01844379]\n",
      "[1. 0. 0.] <-> [0.41312626 0.47817895 0.10869484]\n",
      "[1. 0. 0.] <-> [0.8863627  0.09167196 0.02196535]\n",
      "[1. 0. 0.] <-> [0.22599156 0.5425796  0.23142883]\n",
      "{'accuracy': 0.8703703703703703, 'mean_square_error': 0.32525663525055604, 'categorical_crossentropy': 0.5789059886225948, 'essential_metrics': {0: {'tp_hit': 68, 'fp_hit': 9, 'tn_hit': 19, 'fn_hit': 12}, 1: {'tp_hit': 8, 'fp_hit': 12, 'tn_hit': 81, 'fn_hit': 7}, 2: {'tp_hit': 11, 'fp_hit': 0, 'tn_hit': 95, 'fn_hit': 2}}}\n"
     ]
    }
   ],
   "source": [
    "# recall phase\n",
    "score = model.evaluate(x_test, y_test, False)\n",
    "print(score)"
   ]
  },
  {
   "cell_type": "code",
   "execution_count": 11,
   "metadata": {},
   "outputs": [
    {
     "data": {
      "image/png": "[encoded data removed]",
      "text/plain": [
       "<Figure size 864x360 with 1 Axes>"
      ]
     },
     "metadata": {
      "needs_background": "light"
     },
     "output_type": "display_data"
    },
    {
     "data": {
      "image/png": "[encoded data removed]",
      "text/plain": [
       "<Figure size 864x360 with 1 Axes>"
      ]
     },
     "metadata": {
      "needs_background": "light"
     },
     "output_type": "display_data"
    }
   ],
   "source": [
    "draw_plot(x = [[i for i in range(len(history))], [(i+1)*breakpoint for i in range(len(checkpoints))]], y_list = [history, [ ckp[model.loss_fn] for ckp in checkpoints ]], x_label = 'Epochs', \\\n",
    "    y_label = model.loss_fn, legend=['train', 'test'])\n",
    "acc = [ ckp['accuracy'] for ckp in checkpoints ]\n",
    "draw_plot(x = [[(i+1)*breakpoint for i in range(len(checkpoints))]], y_list = [acc], x_label = 'Checkpoints', \\\n",
    "    y_label = 'accuracy')"
   ]
  },
  {
   "cell_type": "code",
   "execution_count": 12,
   "metadata": {},
   "outputs": [
    {
     "name": "stdout",
     "output_type": "stream",
     "text": [
      "{'accuracy': 0.8703703703703703, 'mean_square_error': 0.32525663525055604, 'categorical_crossentropy': 0.5789059886225948, 'essential_metrics': {0: {'tp_hit': 68, 'fp_hit': 9, 'tn_hit': 19, 'fn_hit': 12}, 1: {'tp_hit': 8, 'fp_hit': 12, 'tn_hit': 81, 'fn_hit': 7}, 2: {'tp_hit': 11, 'fp_hit': 0, 'tn_hit': 95, 'fn_hit': 2}}, 'checkpoint': 100} \n",
      "\n",
      "\n",
      "{'accuracy': 0.8703703703703703, 'mean_square_error': 0.32525663525055604, 'categorical_crossentropy': 0.5789059886225948, 'essential_metrics': {0: {'tp_hit': 68, 'fp_hit': 9, 'tn_hit': 19, 'fn_hit': 12}, 1: {'tp_hit': 8, 'fp_hit': 12, 'tn_hit': 81, 'fn_hit': 7}, 2: {'tp_hit': 11, 'fp_hit': 0, 'tn_hit': 95, 'fn_hit': 2}}, 'checkpoint': 200} \n",
      "\n",
      "\n",
      "{'accuracy': 0.8703703703703703, 'mean_square_error': 0.32525663525055604, 'categorical_crossentropy': 0.5789059886225948, 'essential_metrics': {0: {'tp_hit': 68, 'fp_hit': 9, 'tn_hit': 19, 'fn_hit': 12}, 1: {'tp_hit': 8, 'fp_hit': 12, 'tn_hit': 81, 'fn_hit': 7}, 2: {'tp_hit': 11, 'fp_hit': 0, 'tn_hit': 95, 'fn_hit': 2}}, 'checkpoint': 300} \n",
      "\n",
      "\n",
      "{'accuracy': 0.8703703703703703, 'mean_square_error': 0.32525663525055604, 'categorical_crossentropy': 0.5789059886225948, 'essential_metrics': {0: {'tp_hit': 68, 'fp_hit': 9, 'tn_hit': 19, 'fn_hit': 12}, 1: {'tp_hit': 8, 'fp_hit': 12, 'tn_hit': 81, 'fn_hit': 7}, 2: {'tp_hit': 11, 'fp_hit': 0, 'tn_hit': 95, 'fn_hit': 2}}, 'checkpoint': 400} \n",
      "\n",
      "\n",
      "{'accuracy': 0.8703703703703703, 'mean_square_error': 0.32525663525055604, 'categorical_crossentropy': 0.5789059886225948, 'essential_metrics': {0: {'tp_hit': 68, 'fp_hit': 9, 'tn_hit': 19, 'fn_hit': 12}, 1: {'tp_hit': 8, 'fp_hit': 12, 'tn_hit': 81, 'fn_hit': 7}, 2: {'tp_hit': 11, 'fp_hit': 0, 'tn_hit': 95, 'fn_hit': 2}}, 'checkpoint': 500} \n",
      "\n",
      "\n"
     ]
    }
   ],
   "source": [
    "for checkpoint in checkpoints:\n",
    "    print(checkpoint, '\\n\\n')"
   ]
  },
  {
   "cell_type": "code",
   "execution_count": 13,
   "metadata": {},
   "outputs": [
    {
     "name": "stdout",
     "output_type": "stream",
     "text": [
      "Layer 1\n",
      "Neuron 0: weights:\n",
      "[ 2.17050336 -0.60470257  0.87284083  0.88316945 -2.07790643]\n",
      " bias: -2.536299128531426\n",
      "\n",
      "Neuron 1: weights:\n",
      "[-0.95220263 -0.80594343 -0.80834411  0.99063458  2.76018188]\n",
      " bias: -2.3147041296135216\n",
      "\n",
      "Neuron 2: weights:\n",
      "[ 1.37828508 -2.7610076  -2.8178811  -2.42932206  1.42684645]\n",
      " bias: -1.1301090058444423\n",
      "\n",
      "Neuron 3: weights:\n",
      "[ 2.85211975  1.82576864  0.76486441  1.50518029 -2.38999977]\n",
      " bias: -1.1448433982921757\n",
      "\n",
      "$\n",
      "Layer 2\n",
      "Neuron 0: weights:\n",
      "[-2.65749041 -2.39497455  1.01195497 -2.67424793]\n",
      " bias: 1.4769587648533058\n",
      "\n",
      "Neuron 1: weights:\n",
      "[ 0.20123926 -2.91686121 -0.08059564 -0.16323742]\n",
      " bias: -0.1954904885453308\n",
      "\n",
      "Neuron 2: weights:\n",
      "[0.88306553 2.75276878 0.43576834 0.44766683]\n",
      " bias: -2.5740496872015584\n",
      "\n",
      "$\n",
      "\n"
     ]
    }
   ],
   "source": [
    "print(model)"
   ]
  }
 ],
 "metadata": {
  "kernelspec": {
   "display_name": "Python 3",
   "language": "python",
   "name": "python3"
  },
  "language_info": {
   "codemirror_mode": {
    "name": "ipython",
    "version": 3
   },
   "file_extension": ".py",
   "mimetype": "text/x-python",
   "name": "python",
   "nbconvert_exporter": "python",
   "pygments_lexer": "ipython3",
   "version": "3.6.10"
  }
 },
 "nbformat": 4,
 "nbformat_minor": 2
}
