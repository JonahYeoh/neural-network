{
 "cells": [
  {
   "cell_type": "code",
   "execution_count": 1,
   "metadata": {},
   "outputs": [],
   "source": [
    "# dependency\n",
    "import numpy as np\n",
    "import pandas as pd\n",
    "import copy\n",
    "import math\n",
    "import sys\n",
    "import os\n",
    "from activations import relu, leaky_relu, sigmoid, tanh, softmax, d_sigmoid, d_relu\n",
    "from initializers import glorot_uniform, random_normal, random_uniform\n",
    "from regularizers import l1_regularizer, l2_regularizer\n",
    "from utility import trim_tail, multiply, subtract, get_nparams, one_hot_encoding, get_data\n",
    "from metrics import MSE, CCE, ACC, PRECISION, RECALL, essential_metrics, wondering_penalty, close_gap_penalty\n",
    "from pso import PSO\n",
    "from ga import GA\n",
    "from nn import Network\n",
    "from layer import DenseLayer\n",
    "from scalers import MinMaxScaler, StandardScaler"
   ]
  },
  {
   "cell_type": "code",
   "execution_count": 2,
   "metadata": {},
   "outputs": [],
   "source": [
    "# reference\n",
    "metrics_fn_dict = dict()\n",
    "metrics_fn_dict['accuracy'] = ACC\n",
    "metrics_fn_dict['categorical_crossentropy'] = CCE\n",
    "metrics_fn_dict['mean_square_error'] = MSE\n",
    "metrics_fn_dict['precision'] = PRECISION\n",
    "metrics_fn_dict['recall'] = RECALL\n",
    "metrics_fn_dict['essential_metrics'] = essential_metrics"
   ]
  },
  {
   "cell_type": "code",
   "execution_count": 3,
   "metadata": {},
   "outputs": [],
   "source": [
    "# model\n",
    "model = Network(5, lr = None)\n",
    "model.add_layer(DenseLayer(1, 4, True, afn=sigmoid, dafn=None, rfn=None))\n",
    "model.add_layer(DenseLayer(2, 3, True, afn=softmax, dafn=None, rfn=None))"
   ]
  },
  {
   "cell_type": "code",
   "execution_count": 4,
   "metadata": {},
   "outputs": [
    {
     "name": "stdout",
     "output_type": "stream",
     "text": [
      "see one see two 2 2\n"
     ]
    }
   ],
   "source": [
    "pso = PSO(dict(m = 50,\n",
    "    weight_constraint = [-3, 3], \n",
    "    velocity_constraint = [-0.1, 0.1],\n",
    "    c1 = 2,\n",
    "    c2 = 2,\n",
    "    w = 1,\n",
    "    w_decay = 1,\n",
    "    scale_hyperparameter = False,\n",
    "    regularizer = l1_regularizer,\n",
    "    mask = True))"
   ]
  },
  {
   "cell_type": "code",
   "execution_count": 5,
   "metadata": {},
   "outputs": [
    {
     "name": "stdout",
     "output_type": "stream",
     "text": [
      "building layer 1 with 5\n",
      "24\n",
      "building layer 2 with 4\n",
      "15\n"
     ]
    }
   ],
   "source": [
    "model.compile(loss_fn = 'categorical_crossentropy', optimizer = pso, \\\n",
    "    metrics = ['accuracy', 'mean_square_error', 'categorical_crossentropy'])"
   ]
  },
  {
   "cell_type": "code",
   "execution_count": 6,
   "metadata": {},
   "outputs": [
    {
     "name": "stdout",
     "output_type": "stream",
     "text": [
      "<class 'pandas.core.frame.DataFrame'>\n",
      "RangeIndex: 107 entries, 0 to 106\n",
      "Data columns (total 6 columns):\n",
      " #   Column  Non-Null Count  Dtype  \n",
      "---  ------  --------------  -----  \n",
      " 0   f1      107 non-null    float32\n",
      " 1   f2      107 non-null    float32\n",
      " 2   f3      107 non-null    float32\n",
      " 3   f4      107 non-null    float32\n",
      " 4   f5      107 non-null    float32\n",
      " 5   label   107 non-null    float32\n",
      "dtypes: float32(6)\n",
      "memory usage: 2.6 KB\n",
      "None\n",
      "<class 'pandas.core.frame.DataFrame'>\n",
      "RangeIndex: 108 entries, 0 to 107\n",
      "Data columns (total 6 columns):\n",
      " #   Column  Non-Null Count  Dtype  \n",
      "---  ------  --------------  -----  \n",
      " 0   f1      108 non-null    float32\n",
      " 1   f2      108 non-null    float32\n",
      " 2   f3      108 non-null    float32\n",
      " 3   f4      108 non-null    float32\n",
      " 4   f5      108 non-null    float32\n",
      " 5   label   108 non-null    float32\n",
      "dtypes: float32(6)\n",
      "memory usage: 2.7 KB\n",
      "None\n"
     ]
    }
   ],
   "source": [
    "# data loading\n",
    "DATA = os.path.join('c:\\\\Users\\\\tcumi\\\\github_repo\\\\neural-network\\\\', 'dataset')\n",
    "GROUP = 4\n",
    "COLUMNS = ['f1', 'f2', 'f3', 'f4', 'f5', 'label']\n",
    "N_CLASS = 3\n",
    "EPOCHS = 500\n",
    "train_dir, test_dir = \"..//dataset//training_data{}.txt\".format(GROUP), \"..//dataset//testing_data{}.txt\".format(GROUP)\n",
    "train, test = get_data(DATA, train_dir, COLUMNS), get_data(DATA, test_dir, COLUMNS)\n",
    "# shuffle\n",
    "train, test = train.sample(frac=1), test.sample(frac=1)\n",
    "x_train, y_train = train.drop('label', axis=1), train['label']\n",
    "x_test, y_test = test.drop('label', axis=1), test['label']"
   ]
  },
  {
   "cell_type": "code",
   "execution_count": 7,
   "metadata": {},
   "outputs": [],
   "source": [
    "# data scaling and encoding\n",
    "scaler = StandardScaler(['f1', 'f2', 'f3', 'f4', 'f5'])\n",
    "scaler.fit(x_train)\n",
    "x_train = scaler.transform(x_train)\n",
    "x_test = scaler.transform(x_test)\n",
    "y_train = one_hot_encoding(y_train, N_CLASS)\n",
    "y_test = one_hot_encoding(y_test, N_CLASS)"
   ]
  },
  {
   "cell_type": "code",
   "execution_count": 8,
   "metadata": {
    "tags": [
     "outputPrepend"
    ]
   },
   "outputs": [
    {
     "name": "stdout",
     "output_type": "stream",
     "text": [
      "Checkpoint 100, Accuracy: 0.9567901234567902, Loss: 0.2681868694446705\n",
      "Checkpoint 200, Accuracy: 0.9753086419753086, Loss: 0.19966390397813585\n",
      "Checkpoint 300, Accuracy: 0.9567901234567902, Loss: 0.2096332797297725\n",
      "Checkpoint 400, Accuracy: 0.9506172839506173, Loss: 0.20527728398640951\n",
      "Checkpoint 500, Accuracy: 0.9506172839506173, Loss: 0.20527728398640951\n"
     ]
    }
   ],
   "source": [
    "# learning phase\n",
    "breakpoint = 100\n",
    "checkpoints = list()\n",
    "history = list()\n",
    "for century in range(0, EPOCHS, breakpoint):\n",
    "    sub_history = model.fit(x_train, y_train, breakpoint, verbose = 0)\n",
    "    score = model.evaluate(x_test, y_test, False, verbose = 0)\n",
    "    print('Checkpoint {}, Accuracy: {}, Loss: {}'.format(century+breakpoint, score['accuracy'], score[model.loss_fn]))\n",
    "    score['checkpoint'] = century + breakpoint\n",
    "    checkpoints.append(score)\n",
    "    history.extend(sub_history)"
   ]
  },
  {
   "cell_type": "code",
   "execution_count": 9,
   "metadata": {},
   "outputs": [],
   "source": [
    "import matplotlib.pyplot as plt\n",
    "\n",
    "def draw_plot(x, y_list, x_label=None, y_label=None, legend=None, title=None):\n",
    "    fig, ax = plt.subplots(figsize=(12,5))\n",
    "    for xi, yi in zip(x, y_list):\n",
    "        ax.plot(xi, yi)\n",
    "    if x_label is not None and y_label is not None:\n",
    "        ax.set(xlabel=x_label, ylabel=y_label, title='{} VS {}'.format(x_label, y_label))\n",
    "    if legend is not None:\n",
    "        ax.legend(legend)\n",
    "    ax.grid()\n",
    "    plt.show()"
   ]
  },
  {
   "cell_type": "code",
   "execution_count": 10,
   "metadata": {},
   "outputs": [
    {
     "name": "stdout",
     "output_type": "stream",
     "text": [
      "[0. 1. 0.] <-> [0.49797925 0.48974752 0.01227324]\n",
      "[1. 0. 0.] <-> [0.8763887  0.08898401 0.03462725]\n",
      "[1. 0. 0.] <-> [0.95058537 0.02362718 0.02578744]\n",
      "[1. 0. 0.] <-> [0.92118114 0.0602324  0.01858642]\n",
      "[1. 0. 0.] <-> [0.9009737  0.05203702 0.04698938]\n",
      "[1. 0. 0.] <-> [0.80562204 0.11967037 0.07470756]\n",
      "[1. 0. 0.] <-> [0.95235753 0.02613902 0.02150342]\n",
      "[1. 0. 0.] <-> [0.8877196  0.03548596 0.07679442]\n",
      "[0. 1. 0.] <-> [0.06215046 0.934281   0.00356854]\n",
      "[0. 0. 1.] <-> [0.67070097 0.0302417  0.29905733]\n",
      "[1. 0. 0.] <-> [0.941126   0.02820291 0.03067105]\n",
      "[1. 0. 0.] <-> [0.81508446 0.04007194 0.14484356]\n",
      "[1. 0. 0.] <-> [0.9271395  0.05586625 0.01699428]\n",
      "[1. 0. 0.] <-> [0.87883264 0.03772064 0.08344673]\n",
      "[1. 0. 0.] <-> [0.9395194  0.03446865 0.02601197]\n",
      "[1. 0. 0.] <-> [0.9097315  0.02143057 0.06883791]\n",
      "[1. 0. 0.] <-> [0.922962   0.05879892 0.01823905]\n",
      "[0. 1. 0.] <-> [0.07735712 0.91613007 0.00651276]\n",
      "[0. 0. 1.] <-> [0.09408695 0.01517495 0.89073807]\n",
      "[1. 0. 0.] <-> [0.9458197  0.02581151 0.02836885]\n",
      "[1. 0. 0.] <-> [0.868402   0.02389924 0.10769881]\n",
      "[1. 0. 0.] <-> [0.89669937 0.08346547 0.01983522]\n",
      "[1. 0. 0.] <-> [0.9507824  0.03104946 0.01816808]\n",
      "[1. 0. 0.] <-> [0.9362504  0.04202191 0.02172759]\n",
      "[1. 0. 0.] <-> [0.9328139  0.05195695 0.01522923]\n",
      "[1. 0. 0.] <-> [0.9409005  0.04400335 0.01509614]\n",
      "[0. 1. 0.] <-> [0.06755572 0.9278317  0.00461266]\n",
      "[0. 1. 0.] <-> [0.05724885 0.9401104  0.00264072]\n",
      "[0. 0. 1.] <-> [0.14073735 0.01221989 0.84704274]\n",
      "[1. 0. 0.] <-> [0.69259673 0.28525585 0.02214748]\n",
      "[1. 0. 0.] <-> [0.8294964  0.14299966 0.02750402]\n",
      "[1. 0. 0.] <-> [0.9271179  0.03262047 0.04026162]\n",
      "[1. 0. 0.] <-> [0.92635095 0.0210568  0.05259218]\n",
      "[1. 0. 0.] <-> [0.9118309  0.03435495 0.05381408]\n",
      "[1. 0. 0.] <-> [0.9345393  0.02185808 0.04360261]\n",
      "[0. 1. 0.] <-> [0.23675753 0.7456702  0.01757231]\n",
      "[1. 0. 0.] <-> [0.90432197 0.02344622 0.07223184]\n",
      "[1. 0. 0.] <-> [0.95419025 0.02113739 0.0246723 ]\n",
      "[1. 0. 0.] <-> [0.88920474 0.09250685 0.0182884 ]\n",
      "[0. 0. 1.] <-> [0.41516444 0.02918434 0.5556512 ]\n",
      "[1. 0. 0.] <-> [0.9469854  0.03143205 0.02158256]\n",
      "[0. 1. 0.] <-> [0.05909322 0.9377454  0.00316131]\n",
      "[1. 0. 0.] <-> [0.870893   0.06690681 0.06220016]\n",
      "[1. 0. 0.] <-> [0.9189824  0.04153672 0.039481  ]\n",
      "[0. 0. 1.] <-> [0.22989832 0.01875743 0.7513442 ]\n",
      "[0. 1. 0.] <-> [0.11061695 0.8794661  0.00991697]\n",
      "[1. 0. 0.] <-> [0.9165921  0.02368966 0.05971815]\n",
      "[1. 0. 0.] <-> [0.94164544 0.03845669 0.01989786]\n",
      "[0. 0. 1.] <-> [0.50787276 0.03060021 0.46152696]\n",
      "[1. 0. 0.] <-> [0.94487673 0.02989456 0.02522863]\n",
      "[1. 0. 0.] <-> [0.8368111  0.03363147 0.12955748]\n",
      "[1. 0. 0.] <-> [0.8751229  0.09577038 0.0291067 ]\n",
      "[0. 0. 1.] <-> [0.09183885 0.00913816 0.899023  ]\n",
      "[1. 0. 0.] <-> [0.7985262  0.17417142 0.02730246]\n",
      "[0. 1. 0.] <-> [0.1448634 0.8497548 0.0053818]\n",
      "[1. 0. 0.] <-> [0.951599   0.0240059  0.02439508]\n",
      "[1. 0. 0.] <-> [0.9347845  0.02862263 0.03659288]\n",
      "[1. 0. 0.] <-> [0.9358496  0.02491521 0.03923506]\n",
      "[0. 0. 1.] <-> [0.08461779 0.0098377  0.90554446]\n",
      "[1. 0. 0.] <-> [0.93884236 0.04409543 0.01706225]\n",
      "[0. 0. 1.] <-> [0.26053652 0.0203569  0.71910655]\n",
      "[1. 0. 0.] <-> [0.938346   0.04360963 0.01804425]\n",
      "[1. 0. 0.] <-> [0.9407203  0.03164724 0.02763249]\n",
      "[1. 0. 0.] <-> [0.92316914 0.05443161 0.02239934]\n",
      "[0. 0. 1.] <-> [0.8271807 0.0227907 0.1500286]\n",
      "[1. 0. 0.] <-> [0.9469872  0.03664672 0.01636603]\n",
      "[0. 1. 0.] <-> [0.19164893 0.7996123  0.0087388 ]\n",
      "[1. 0. 0.] <-> [0.45089698 0.53260833 0.01649471]\n",
      "[1. 0. 0.] <-> [0.9486533  0.03350159 0.01784515]\n",
      "[1. 0. 0.] <-> [0.7181821  0.24928367 0.03253428]\n",
      "[1. 0. 0.] <-> [0.93726826 0.01991688 0.04281487]\n",
      "[1. 0. 0.] <-> [0.92512417 0.04004464 0.03483118]\n",
      "[1. 0. 0.] <-> [0.92758393 0.04465962 0.02775647]\n",
      "[0. 1. 0.] <-> [0.4719099  0.5138168  0.01427328]\n",
      "[1. 0. 0.] <-> [0.45731276 0.51903915 0.02364811]\n",
      "[1. 0. 0.] <-> [0.908259   0.05810187 0.03363915]\n",
      "[1. 0. 0.] <-> [0.91786885 0.05401218 0.02811904]\n",
      "[0. 0. 1.] <-> [0.8397962  0.02807115 0.13213268]\n",
      "[0. 1. 0.] <-> [0.3103911  0.67778224 0.01182663]\n",
      "[0. 1. 0.] <-> [0.05703947 0.94025815 0.00270246]\n",
      "[1. 0. 0.] <-> [0.9559934  0.02827692 0.01572971]\n",
      "[1. 0. 0.] <-> [0.93386096 0.03303651 0.03310245]\n",
      "[1. 0. 0.] <-> [0.951562   0.02149004 0.02694793]\n",
      "[1. 0. 0.] <-> [0.94857496 0.02475237 0.02667264]\n",
      "[1. 0. 0.] <-> [0.93155295 0.02421773 0.04422931]\n",
      "[1. 0. 0.] <-> [0.7536543  0.18205503 0.06429067]\n",
      "[1. 0. 0.] <-> [0.9519494  0.02435859 0.02369188]\n",
      "[1. 0. 0.] <-> [0.95695114 0.02278235 0.02026658]\n",
      "[1. 0. 0.] <-> [0.92936486 0.02077882 0.04985631]\n",
      "[0. 1. 0.] <-> [0.07142913 0.92354834 0.0050226 ]\n",
      "[0. 0. 1.] <-> [0.4885291  0.02480485 0.48666605]\n",
      "[0. 0. 1.] <-> [0.22692166 0.01817646 0.7549019 ]\n",
      "[1. 0. 0.] <-> [0.89619935 0.03333312 0.07046751]\n",
      "[0. 0. 1.] <-> [0.14396384 0.01442388 0.8416123 ]\n",
      "[1. 0. 0.] <-> [0.950203   0.03668797 0.01310895]\n",
      "[1. 0. 0.] <-> [0.93319196 0.05516623 0.01164177]\n",
      "[1. 0. 0.] <-> [0.9395232  0.03452796 0.02594879]\n",
      "[0. 1. 0.] <-> [0.05847944 0.93880516 0.00271535]\n",
      "[1. 0. 0.] <-> [0.93212765 0.04195286 0.02591957]\n",
      "[1. 0. 0.] <-> [0.9255522  0.02761623 0.04683157]\n",
      "[1. 0. 0.] <-> [0.65310895 0.31220517 0.03468582]\n",
      "[1. 0. 0.] <-> [0.9549865  0.02358639 0.02142709]\n",
      "[0. 1. 0.] <-> [0.19044071 0.79885525 0.01070407]\n",
      "[1. 0. 0.] <-> [0.7510184  0.23086342 0.01811824]\n",
      "[1. 0. 0.] <-> [0.93235195 0.04499403 0.02265405]\n",
      "[1. 0. 0.] <-> [0.61367077 0.3520542  0.034275  ]\n",
      "[1. 0. 0.] <-> [0.71635616 0.03867696 0.24496691]\n",
      "[1. 0. 0.] <-> [0.83035374 0.14681971 0.02282651]\n",
      "{'accuracy': 0.9506172839506173, 'mean_square_error': 0.09773873835008723, 'categorical_crossentropy': 0.20527728398640951, 'essential_metrics': {0: {'tp_hit': 76, 'fp_hit': 6, 'tn_hit': 24, 'fn_hit': 2}, 1: {'tp_hit': 15, 'fp_hit': 2, 'tn_hit': 90, 'fn_hit': 1}, 2: {'tp_hit': 9, 'fp_hit': 0, 'tn_hit': 94, 'fn_hit': 5}}}\n"
     ]
    }
   ],
   "source": [
    "# recall phase\n",
    "score = model.evaluate(x_test, y_test, False)\n",
    "print(score)"
   ]
  },
  {
   "cell_type": "code",
   "execution_count": 11,
   "metadata": {},
   "outputs": [
    {
     "data": {
      "image/png": "[encoded data removed]",
      "text/plain": [
       "<Figure size 864x360 with 1 Axes>"
      ]
     },
     "metadata": {
      "needs_background": "light"
     },
     "output_type": "display_data"
    },
    {
     "data": {
      "image/png": "[encoded data removed]",
      "text/plain": [
       "<Figure size 864x360 with 1 Axes>"
      ]
     },
     "metadata": {
      "needs_background": "light"
     },
     "output_type": "display_data"
    }
   ],
   "source": [
    "draw_plot(x = [[i for i in range(len(history))], [(i+1)*breakpoint for i in range(len(checkpoints))]], y_list = [history, [ ckp[model.loss_fn] for ckp in checkpoints ]], x_label = 'Epochs', \\\n",
    "    y_label = model.loss_fn, legend=['train', 'test'])\n",
    "acc = [ ckp['accuracy'] for ckp in checkpoints ]\n",
    "draw_plot(x = [[(i+1)*breakpoint for i in range(len(checkpoints))]], y_list = [acc], x_label = 'Checkpoints', \\\n",
    "    y_label = 'accuracy')"
   ]
  },
  {
   "cell_type": "code",
   "execution_count": 12,
   "metadata": {},
   "outputs": [
    {
     "name": "stdout",
     "output_type": "stream",
     "text": [
      "{'accuracy': 0.9567901234567902, 'mean_square_error': 0.13078116155647515, 'categorical_crossentropy': 0.2681868694446705, 'essential_metrics': {0: {'tp_hit': 78, 'fp_hit': 7, 'tn_hit': 23, 'fn_hit': 0}, 1: {'tp_hit': 13, 'fp_hit': 0, 'tn_hit': 92, 'fn_hit': 3}, 2: {'tp_hit': 10, 'fp_hit': 0, 'tn_hit': 94, 'fn_hit': 4}}, 'checkpoint': 100} \n",
      "\n",
      "\n",
      "{'accuracy': 0.9753086419753086, 'mean_square_error': 0.09131129199836756, 'categorical_crossentropy': 0.19966390397813585, 'essential_metrics': {0: {'tp_hit': 77, 'fp_hit': 3, 'tn_hit': 27, 'fn_hit': 1}, 1: {'tp_hit': 16, 'fp_hit': 1, 'tn_hit': 91, 'fn_hit': 0}, 2: {'tp_hit': 11, 'fp_hit': 0, 'tn_hit': 94, 'fn_hit': 3}}, 'checkpoint': 200} \n",
      "\n",
      "\n",
      "{'accuracy': 0.9567901234567902, 'mean_square_error': 0.09852535287049452, 'categorical_crossentropy': 0.2096332797297725, 'essential_metrics': {0: {'tp_hit': 76, 'fp_hit': 5, 'tn_hit': 25, 'fn_hit': 2}, 1: {'tp_hit': 16, 'fp_hit': 2, 'tn_hit': 90, 'fn_hit': 0}, 2: {'tp_hit': 9, 'fp_hit': 0, 'tn_hit': 94, 'fn_hit': 5}}, 'checkpoint': 300} \n",
      "\n",
      "\n",
      "{'accuracy': 0.9506172839506173, 'mean_square_error': 0.09773873835008723, 'categorical_crossentropy': 0.20527728398640951, 'essential_metrics': {0: {'tp_hit': 76, 'fp_hit': 6, 'tn_hit': 24, 'fn_hit': 2}, 1: {'tp_hit': 15, 'fp_hit': 2, 'tn_hit': 90, 'fn_hit': 1}, 2: {'tp_hit': 9, 'fp_hit': 0, 'tn_hit': 94, 'fn_hit': 5}}, 'checkpoint': 400} \n",
      "\n",
      "\n",
      "{'accuracy': 0.9506172839506173, 'mean_square_error': 0.09773873835008723, 'categorical_crossentropy': 0.20527728398640951, 'essential_metrics': {0: {'tp_hit': 76, 'fp_hit': 6, 'tn_hit': 24, 'fn_hit': 2}, 1: {'tp_hit': 15, 'fp_hit': 2, 'tn_hit': 90, 'fn_hit': 1}, 2: {'tp_hit': 9, 'fp_hit': 0, 'tn_hit': 94, 'fn_hit': 5}}, 'checkpoint': 500} \n",
      "\n",
      "\n"
     ]
    }
   ],
   "source": [
    "for checkpoint in checkpoints:\n",
    "    print(checkpoint, '\\n\\n')"
   ]
  },
  {
   "cell_type": "code",
   "execution_count": 13,
   "metadata": {},
   "outputs": [
    {
     "name": "stdout",
     "output_type": "stream",
     "text": [
      "Layer 1\n",
      "Neuron 0: weights:\n",
      "[-0.15297146  1.1684319   0.02298228 -1.0342318  -0.972064  ]\n",
      " bias: 1.1261496543884277\n",
      "\n",
      "Neuron 1: weights:\n",
      "[ 0.14306846 -0.72103333 -0.42952913  0.03155216  0.0459174 ]\n",
      " bias: -0.0633058026432991\n",
      "\n",
      "Neuron 2: weights:\n",
      "[-1.416086    2.1366172   1.9790442   0.03755546 -0.00257706]\n",
      " bias: -1.5366464853286743\n",
      "\n",
      "Neuron 3: weights:\n",
      "[ 0.01470905 -0.69746655 -0.02910069  0.02141876  0.9558255 ]\n",
      " bias: -0.08095533400774002\n",
      "\n",
      "$\n",
      "Layer 2\n",
      "Neuron 0: weights:\n",
      "[ 3.          0.08881966 -3.         -0.01115344]\n",
      " bias: 0.1490509808063507\n",
      "\n",
      "Neuron 1: weights:\n",
      "[ 2.0058518e-03 -1.9333806e+00  3.0000000e+00 -4.1471335e-01]\n",
      " bias: 0.00045395008055493236\n",
      "\n",
      "Neuron 2: weights:\n",
      "[-3.          0.51563776 -0.08747803  2.152841  ]\n",
      " bias: 0.02993939444422722\n",
      "\n",
      "$\n",
      "\n"
     ]
    }
   ],
   "source": [
    "print(model)"
   ]
  }
 ],
 "metadata": {
  "kernelspec": {
   "display_name": "Python 3",
   "language": "python",
   "name": "python3"
  },
  "language_info": {
   "codemirror_mode": {
    "name": "ipython",
    "version": 3
   },
   "file_extension": ".py",
   "mimetype": "text/x-python",
   "name": "python",
   "nbconvert_exporter": "python",
   "pygments_lexer": "ipython3",
   "version": "3.6.10"
  }
 },
 "nbformat": 4,
 "nbformat_minor": 2
}
