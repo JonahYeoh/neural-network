{
 "cells": [
  {
   "cell_type": "code",
   "execution_count": 1,
   "metadata": {},
   "outputs": [],
   "source": [
    "# dependency\n",
    "import numpy as np\n",
    "import pandas as pd\n",
    "import copy\n",
    "import math\n",
    "import sys\n",
    "import os\n",
    "from activations import relu, leaky_relu, sigmoid, tanh, softmax, d_sigmoid, d_relu\n",
    "from initializers import glorot_uniform, random_normal, random_uniform\n",
    "from regularizers import l1_regularizer, l2_regularizer\n",
    "from utility import trim_tail, multiply, subtract, get_nparams, one_hot_encoding, get_data\n",
    "from metrics import MSE, CCE, ACC, PRECISION, RECALL, essential_metrics, wondering_penalty, close_gap_penalty\n",
    "from pso import PSO\n",
    "from ga import GA\n",
    "from nn import Network\n",
    "from layer import DenseLayer\n",
    "from scalers import MinMaxScaler, StandardScaler"
   ]
  },
  {
   "cell_type": "code",
   "execution_count": 2,
   "metadata": {},
   "outputs": [],
   "source": [
    "# reference\n",
    "metrics_fn_dict = dict()\n",
    "metrics_fn_dict['accuracy'] = ACC\n",
    "metrics_fn_dict['categorical_crossentropy'] = CCE\n",
    "metrics_fn_dict['mean_square_error'] = MSE\n",
    "metrics_fn_dict['precision'] = PRECISION\n",
    "metrics_fn_dict['recall'] = RECALL\n",
    "metrics_fn_dict['essential_metrics'] = essential_metrics"
   ]
  },
  {
   "cell_type": "code",
   "execution_count": 3,
   "metadata": {},
   "outputs": [],
   "source": [
    "# model\n",
    "model = Network(5, lr = None)\n",
    "model.add_layer(DenseLayer(1, 4, True, afn=sigmoid, dafn=None, rfn=None))\n",
    "model.add_layer(DenseLayer(2, 3, True, afn=softmax, dafn=None, rfn=None))"
   ]
  },
  {
   "cell_type": "code",
   "execution_count": 4,
   "metadata": {},
   "outputs": [
    {
     "name": "stdout",
     "output_type": "stream",
     "text": [
      "see one see two 2.0 0.5\n"
     ]
    }
   ],
   "source": [
    "pso = PSO(dict(m = 50,\n",
    "    weight_constraint = [-3, 3], \n",
    "    velocity_constraint = [-0.1, 0.1],\n",
    "    c1 = [0.5, 2.0],\n",
    "    c2 = [0.5, 2.0],\n",
    "    w = [0.5, 1.6],\n",
    "    w_decay = 0.95,\n",
    "    scale_hyperparameter = False,\n",
    "    regularizer = None,\n",
    "    mask = True))"
   ]
  },
  {
   "cell_type": "code",
   "execution_count": 5,
   "metadata": {},
   "outputs": [
    {
     "name": "stdout",
     "output_type": "stream",
     "text": [
      "building layer 1 with 5\n",
      "24\n",
      "building layer 2 with 4\n",
      "15\n"
     ]
    }
   ],
   "source": [
    "model.compile(loss_fn = 'categorical_crossentropy', optimizer = pso, \\\n",
    "    metrics = ['accuracy', 'mean_square_error', 'categorical_crossentropy'])"
   ]
  },
  {
   "cell_type": "code",
   "execution_count": 6,
   "metadata": {},
   "outputs": [
    {
     "name": "stdout",
     "output_type": "stream",
     "text": [
      "<class 'pandas.core.frame.DataFrame'>\n",
      "RangeIndex: 107 entries, 0 to 106\n",
      "Data columns (total 6 columns):\n",
      " #   Column  Non-Null Count  Dtype  \n",
      "---  ------  --------------  -----  \n",
      " 0   f1      107 non-null    float32\n",
      " 1   f2      107 non-null    float32\n",
      " 2   f3      107 non-null    float32\n",
      " 3   f4      107 non-null    float32\n",
      " 4   f5      107 non-null    float32\n",
      " 5   label   107 non-null    float32\n",
      "dtypes: float32(6)\n",
      "memory usage: 2.6 KB\n",
      "None\n",
      "<class 'pandas.core.frame.DataFrame'>\n",
      "RangeIndex: 108 entries, 0 to 107\n",
      "Data columns (total 6 columns):\n",
      " #   Column  Non-Null Count  Dtype  \n",
      "---  ------  --------------  -----  \n",
      " 0   f1      108 non-null    float32\n",
      " 1   f2      108 non-null    float32\n",
      " 2   f3      108 non-null    float32\n",
      " 3   f4      108 non-null    float32\n",
      " 4   f5      108 non-null    float32\n",
      " 5   label   108 non-null    float32\n",
      "dtypes: float32(6)\n",
      "memory usage: 2.7 KB\n",
      "None\n"
     ]
    }
   ],
   "source": [
    "# data loading\n",
    "DATA = os.path.join('c:\\\\Users\\\\AI-lab\\\\github_repo\\\\neural-network\\\\', 'dataset')\n",
    "GROUP = 4\n",
    "COLUMNS = ['f1', 'f2', 'f3', 'f4', 'f5', 'label']\n",
    "N_CLASS = 3\n",
    "EPOCHS = 200\n",
    "train_dir, test_dir = \"..//dataset//training_data{}.txt\".format(GROUP), \"..//dataset//testing_data{}.txt\".format(GROUP)\n",
    "train, test = get_data(DATA, train_dir, COLUMNS), get_data(DATA, test_dir, COLUMNS)\n",
    "# shuffle\n",
    "train, test = train.sample(frac=1), test.sample(frac=1)\n",
    "x_train, y_train = train.drop('label', axis=1), train['label']\n",
    "x_test, y_test = test.drop('label', axis=1), test['label']"
   ]
  },
  {
   "cell_type": "code",
   "execution_count": 7,
   "metadata": {},
   "outputs": [],
   "source": [
    "# data scaling and encoding\n",
    "scaler = StandardScaler(['f1', 'f2', 'f3', 'f4', 'f5'])\n",
    "scaler.fit(x_train)\n",
    "x_train = scaler.transform(x_train)\n",
    "x_test = scaler.transform(x_test)\n",
    "y_train = one_hot_encoding(y_train, N_CLASS)\n",
    "y_test = one_hot_encoding(y_test, N_CLASS)"
   ]
  },
  {
   "cell_type": "code",
   "execution_count": 8,
   "metadata": {
    "tags": [
     "outputPrepend"
    ]
   },
   "outputs": [
    {
     "name": "stdout",
     "output_type": "stream",
     "text": [
      "Checkpoint 10, Accuracy: 0.8148148148148148, Loss: 0.7208160117820457\n",
      "Checkpoint 20, Accuracy: 0.8148148148148148, Loss: 0.671764091209129\n",
      "Checkpoint 30, Accuracy: 0.8827160493827161, Loss: 0.5058779539885344\n",
      "Checkpoint 40, Accuracy: 0.9197530864197531, Loss: 0.43439402403654875\n",
      "Checkpoint 50, Accuracy: 0.9135802469135802, Loss: 0.42574712965223527\n",
      "Checkpoint 60, Accuracy: 0.9074074074074074, Loss: 0.38279586368136936\n",
      "Checkpoint 70, Accuracy: 0.9074074074074074, Loss: 0.36007612722891347\n",
      "Checkpoint 80, Accuracy: 0.9382716049382716, Loss: 0.3395772510104709\n",
      "Checkpoint 90, Accuracy: 0.9506172839506173, Loss: 0.2583065562778049\n",
      "Checkpoint 100, Accuracy: 0.9506172839506173, Loss: 0.22514065989741572\n",
      "Checkpoint 110, Accuracy: 0.9506172839506173, Loss: 0.2019168359261972\n",
      "Checkpoint 120, Accuracy: 0.9567901234567902, Loss: 0.1867402571218985\n",
      "Checkpoint 130, Accuracy: 0.9506172839506173, Loss: 0.17075287854229962\n",
      "Checkpoint 140, Accuracy: 0.9567901234567902, Loss: 0.18672190772162545\n",
      "Checkpoint 150, Accuracy: 0.9506172839506173, Loss: 0.17306495595861365\n",
      "Checkpoint 160, Accuracy: 0.9567901234567902, Loss: 0.1560890762894242\n",
      "Checkpoint 170, Accuracy: 0.9629629629629629, Loss: 0.13495171511614765\n",
      "Checkpoint 180, Accuracy: 0.9506172839506173, Loss: 0.1383477493568703\n",
      "Checkpoint 190, Accuracy: 0.9567901234567902, Loss: 0.14754942611411767\n",
      "Checkpoint 200, Accuracy: 0.9506172839506173, Loss: 0.1452079967216209\n"
     ]
    }
   ],
   "source": [
    "# learning phase\n",
    "breakpoint = 10\n",
    "checkpoints = list()\n",
    "history = list()\n",
    "for century in range(0, EPOCHS, breakpoint):\n",
    "    sub_history = model.fit(x_train, y_train, breakpoint, verbose = 0)\n",
    "    score = model.evaluate(x_test, y_test, False, verbose = 0)\n",
    "    print('Checkpoint {}, Accuracy: {}, Loss: {}'.format(century+breakpoint, score['accuracy'], score[model.loss_fn]))\n",
    "    score['checkpoint'] = century + breakpoint\n",
    "    checkpoints.append(score)\n",
    "    history.extend(sub_history)\n",
    "    itr = century + breakpoint\n",
    "    model.optimizer.c1 = np.max([model.optimizer.C1[1] - ((model.optimizer.C1[1] - model.optimizer.C1[0]) * itr / EPOCHS), model.optimizer.C1[0]])\n",
    "    model.optimizer.c2 = np.min([model.optimizer.C2[0] + ((model.optimizer.C2[1] - model.optimizer.C2[0]) * itr / EPOCHS), model.optimizer.C2[1]])\n",
    "    model.optimizer.w = np.max([model.optimizer.w * model.optimizer.W_Decay, model.optimizer.W[0]])"
   ]
  },
  {
   "cell_type": "code",
   "execution_count": 9,
   "metadata": {},
   "outputs": [],
   "source": [
    "import matplotlib.pyplot as plt\n",
    "\n",
    "def draw_plot(x, y_list, x_label=None, y_label=None, legend=None, title=None):\n",
    "    fig, ax = plt.subplots(figsize=(12,5))\n",
    "    for xi, yi in zip(x, y_list):\n",
    "        ax.plot(xi, yi)\n",
    "    if x_label is not None and y_label is not None:\n",
    "        ax.set(xlabel=x_label, ylabel=y_label, title='{} VS {}'.format(x_label, y_label))\n",
    "    if legend is not None:\n",
    "        ax.legend(legend)\n",
    "    ax.grid()\n",
    "    plt.show()"
   ]
  },
  {
   "cell_type": "code",
   "execution_count": 10,
   "metadata": {},
   "outputs": [],
   "source": [
    "train_acc = [h['accuracy'] for h in history]\n",
    "train_mse = [h['mean_square_error'] for h in history]\n",
    "train_cce = [h['categorical_crossentropy'] for h in history]"
   ]
  },
  {
   "cell_type": "code",
   "execution_count": 11,
   "metadata": {},
   "outputs": [
    {
     "data": {
      "image/png": "[encoded data removed]",
      "text/plain": [
       "<Figure size 864x360 with 1 Axes>"
      ]
     },
     "metadata": {
      "needs_background": "light"
     },
     "output_type": "display_data"
    },
    {
     "data": {
      "image/png": "[encoded data removed]",
      "text/plain": [
       "<Figure size 864x360 with 1 Axes>"
      ]
     },
     "metadata": {
      "needs_background": "light"
     },
     "output_type": "display_data"
    }
   ],
   "source": [
    "draw_plot(x = [[i for i in range(len(history))], [(i+1)*breakpoint for i in range(len(checkpoints))]], y_list = [train_cce, [ ckp[model.loss_fn] for ckp in checkpoints ]], x_label = 'Epochs', \\\n",
    "    y_label = model.loss_fn, legend=['train', 'test'])\n",
    "acc = [ ckp['accuracy'] for ckp in checkpoints ]\n",
    "draw_plot(x = [[i for i in range(len(history))], [(i+1)*breakpoint for i in range(len(checkpoints))]], y_list = [train_acc, acc], x_label = 'Checkpoints', \\\n",
    "    y_label = 'accuracy', legend=['train', 'test'])"
   ]
  },
  {
   "cell_type": "code",
   "execution_count": 12,
   "metadata": {},
   "outputs": [
    {
     "name": "stdout",
     "output_type": "stream",
     "text": [
      "[0. 0. 1.] <-> [0.01571862 0.00173117 0.9825502 ]\n",
      "[1. 0. 0.] <-> [0.9950504  0.00307076 0.00187882]\n",
      "[1. 0. 0.] <-> [0.9661233  0.02959293 0.00428379]\n",
      "[1. 0. 0.] <-> [0.97570497 0.0036035  0.02069148]\n",
      "[1. 0. 0.] <-> [0.9780416  0.00822819 0.01373014]\n",
      "[1. 0. 0.] <-> [0.9479146  0.02770168 0.02438379]\n",
      "[1. 0. 0.] <-> [0.98535395 0.01074875 0.00389736]\n",
      "[0. 1. 0.] <-> [0.01442029 0.9843614  0.00121829]\n",
      "[1. 0. 0.] <-> [0.99362177 0.00471865 0.00165958]\n",
      "[1. 0. 0.] <-> [0.9938811  0.00447592 0.00164291]\n",
      "[1. 0. 0.] <-> [0.5891088  0.01552747 0.3953637 ]\n",
      "[1. 0. 0.] <-> [0.99210006 0.00602026 0.0018796 ]\n",
      "[1. 0. 0.] <-> [0.9925559  0.00575221 0.0016919 ]\n",
      "[1. 0. 0.] <-> [0.9943752  0.00358748 0.00203737]\n",
      "[1. 0. 0.] <-> [0.9915195  0.00348478 0.00499576]\n",
      "[1. 0. 0.] <-> [0.99293184 0.00545796 0.00161009]\n",
      "[1. 0. 0.] <-> [0.9865675  0.00526663 0.00816592]\n",
      "[0. 0. 1.] <-> [0.01000979 0.00118763 0.9888026 ]\n",
      "[0. 1. 0.] <-> [0.01432081 0.98446506 0.00121415]\n",
      "[1. 0. 0.] <-> [0.9897104  0.00334897 0.00694063]\n",
      "[1. 0. 0.] <-> [0.99424064 0.00359108 0.00216822]\n",
      "[1. 0. 0.] <-> [0.99333984 0.00422796 0.00243226]\n",
      "[1. 0. 0.] <-> [0.99340904 0.00437999 0.00221098]\n",
      "[1. 0. 0.] <-> [0.7692319  0.18967846 0.04108959]\n",
      "[1. 0. 0.] <-> [0.9292274  0.06561626 0.00515636]\n",
      "[1. 0. 0.] <-> [0.99280906 0.004176   0.00301492]\n",
      "[0. 1. 0.] <-> [0.285095   0.71030724 0.00459766]\n",
      "[1. 0. 0.] <-> [0.9940553  0.00361218 0.00233251]\n",
      "[1. 0. 0.] <-> [0.7793403  0.21565807 0.00500158]\n",
      "[1. 0. 0.] <-> [0.99417794 0.00393321 0.00188892]\n",
      "[1. 0. 0.] <-> [0.96092397 0.03321822 0.00585783]\n",
      "[0. 0. 1.] <-> [0.00975556 0.00115645 0.98908806]\n",
      "[1. 0. 0.] <-> [0.9915662  0.00496575 0.00346809]\n",
      "[1. 0. 0.] <-> [0.98869264 0.00926689 0.00204055]\n",
      "[1. 0. 0.] <-> [0.9576292 0.0079585 0.0344122]\n",
      "[1. 0. 0.] <-> [0.88898563 0.00698479 0.10402956]\n",
      "[0. 0. 1.] <-> [0.01167871 0.00129786 0.98702335]\n",
      "[0. 0. 1.] <-> [0.01218311 0.0013787  0.98643816]\n",
      "[1. 0. 0.] <-> [0.99517196 0.00316071 0.00166726]\n",
      "[1. 0. 0.] <-> [0.9791692  0.00390194 0.01692893]\n",
      "[0. 0. 1.] <-> [0.82778823 0.00483522 0.16737656]\n",
      "[1. 0. 0.] <-> [0.99464357 0.00356984 0.00178659]\n",
      "[1. 0. 0.] <-> [0.9275273  0.06833427 0.00413845]\n",
      "[1. 0. 0.] <-> [0.99044025 0.00734388 0.00221579]\n",
      "[1. 0. 0.] <-> [0.9902198  0.00811608 0.00166419]\n",
      "[1. 0. 0.] <-> [0.3299102  0.01668989 0.6533999 ]\n",
      "[0. 1. 0.] <-> [0.01381398 0.9849392  0.00124681]\n",
      "[1. 0. 0.] <-> [0.9896478  0.00747433 0.00287787]\n",
      "[1. 0. 0.] <-> [0.9731555  0.02459022 0.00225426]\n",
      "[1. 0. 0.] <-> [0.9884821  0.00357526 0.00794267]\n",
      "[0. 1. 0.] <-> [0.11001436 0.88690096 0.00308465]\n",
      "[0. 0. 1.] <-> [0.11288088 0.00291438 0.88420475]\n",
      "[0. 1. 0.] <-> [0.01354954 0.9852094  0.00124108]\n",
      "[0. 1. 0.] <-> [0.01480733 0.9839947  0.00119796]\n",
      "[0. 0. 1.] <-> [0.00917732 0.0012094  0.98961323]\n",
      "[0. 1. 0.] <-> [0.03265931 0.96550405 0.00183659]\n",
      "[0. 1. 0.] <-> [0.01483258 0.9839702  0.00119715]\n",
      "[1. 0. 0.] <-> [0.98819554 0.00618869 0.00561577]\n",
      "[0. 1. 0.] <-> [0.6413536  0.3548982  0.00374819]\n",
      "[1. 0. 0.] <-> [0.9922052  0.0058324  0.00196242]\n",
      "[1. 0. 0.] <-> [0.18126045 0.81400824 0.00473139]\n",
      "[1. 0. 0.] <-> [0.9917794  0.00317173 0.00504882]\n",
      "[0. 0. 1.] <-> [0.00793794 0.001346   0.9907161 ]\n",
      "[1. 0. 0.] <-> [0.9117107  0.01384463 0.07444471]\n",
      "[1. 0. 0.] <-> [0.99005884 0.00411178 0.00582947]\n",
      "[1. 0. 0.] <-> [0.99157387 0.00664463 0.00178148]\n",
      "[0. 1. 0.] <-> [0.01619155 0.9824356  0.00137286]\n",
      "[1. 0. 0.] <-> [0.986062   0.01071111 0.00322689]\n",
      "[1. 0. 0.] <-> [0.9932114  0.00417573 0.00261283]\n",
      "[1. 0. 0.] <-> [0.99337375 0.00469311 0.00193324]\n",
      "[1. 0. 0.] <-> [0.43770194 0.55314815 0.00914987]\n",
      "[0. 0. 1.] <-> [0.00998493 0.00117425 0.9888409 ]\n",
      "[0. 1. 0.] <-> [0.01399534 0.98477805 0.00122662]\n",
      "[1. 0. 0.] <-> [0.9872457  0.01071033 0.00204404]\n",
      "[1. 0. 0.] <-> [0.8173905  0.17720135 0.00540817]\n",
      "[1. 0. 0.] <-> [0.9947896  0.00376262 0.00144782]\n",
      "[1. 0. 0.] <-> [0.6155771  0.37623334 0.00818957]\n",
      "[1. 0. 0.] <-> [0.99138594 0.00443947 0.00417452]\n",
      "[1. 0. 0.] <-> [0.98924863 0.00665724 0.00409412]\n",
      "[1. 0. 0.] <-> [0.98576397 0.00828019 0.00595588]\n",
      "[0. 1. 0.] <-> [0.04603872 0.9515564  0.00240488]\n",
      "[0. 0. 1.] <-> [0.01454521 0.00154086 0.9839139 ]\n",
      "[0. 0. 1.] <-> [0.08961549 0.00334818 0.90703636]\n",
      "[1. 0. 0.] <-> [0.9882487  0.0098712  0.00188008]\n",
      "[0. 0. 1.] <-> [0.01529097 0.00153146 0.9831776 ]\n",
      "[0. 1. 0.] <-> [0.0326765  0.96547914 0.00184441]\n",
      "[1. 0. 0.] <-> [0.97150654 0.01676939 0.01172403]\n",
      "[0. 1. 0.] <-> [0.08446112 0.913107   0.00243195]\n",
      "[1. 0. 0.] <-> [0.8518797  0.10117778 0.0469425 ]\n",
      "[0. 0. 1.] <-> [0.6129394  0.00991124 0.37714934]\n",
      "[1. 0. 0.] <-> [0.98074913 0.01695265 0.00229831]\n",
      "[1. 0. 0.] <-> [0.9923343  0.00526093 0.00240466]\n",
      "[1. 0. 0.] <-> [0.99347055 0.00506514 0.00146423]\n",
      "[1. 0. 0.] <-> [0.9870684  0.01129668 0.00163489]\n",
      "[1. 0. 0.] <-> [0.99510443 0.00293859 0.00195696]\n",
      "[0. 1. 0.] <-> [0.01439987 0.9843888  0.00121136]\n",
      "[1. 0. 0.] <-> [0.988117   0.00971949 0.00216351]\n",
      "[1. 0. 0.] <-> [0.9918121  0.00402683 0.00416112]\n",
      "[1. 0. 0.] <-> [0.9132775  0.01469793 0.07202456]\n",
      "[1. 0. 0.] <-> [0.8916074  0.10238552 0.00600712]\n",
      "[1. 0. 0.] <-> [0.98973316 0.00771228 0.00255456]\n",
      "[1. 0. 0.] <-> [0.36547115 0.62957674 0.00495204]\n",
      "[1. 0. 0.] <-> [0.9849614  0.00385879 0.01117982]\n",
      "[1. 0. 0.] <-> [0.07624685 0.00465519 0.91909796]\n",
      "[1. 0. 0.] <-> [0.75069785 0.24215265 0.00714943]\n",
      "[1. 0. 0.] <-> [0.9942819  0.00331688 0.00240124]\n",
      "[1. 0. 0.] <-> [0.9921292 0.005458  0.0024129]\n",
      "[1. 0. 0.] <-> [0.9910568  0.00719795 0.00174527]\n",
      "{'accuracy': 0.9506172839506173, 'mean_square_error': 0.08980337946499474, 'categorical_crossentropy': 0.1452079967216209, 'essential_metrics': {0: {'tp_hit': 73, 'fp_hit': 3, 'tn_hit': 27, 'fn_hit': 5}, 1: {'tp_hit': 15, 'fp_hit': 3, 'tn_hit': 89, 'fn_hit': 1}, 2: {'tp_hit': 12, 'fp_hit': 2, 'tn_hit': 92, 'fn_hit': 2}}}\n"
     ]
    }
   ],
   "source": [
    "# recall phase\n",
    "score = model.evaluate(x_test, y_test, False)\n",
    "print(score)"
   ]
  },
  {
   "cell_type": "code",
   "execution_count": 13,
   "metadata": {},
   "outputs": [
    {
     "name": "stdout",
     "output_type": "stream",
     "text": [
      "{'accuracy': 0.8148148148148148, 'mean_square_error': 0.3770213845785764, 'categorical_crossentropy': 0.7208160117820457, 'essential_metrics': {0: {'tp_hit': 78, 'fp_hit': 30, 'tn_hit': 0, 'fn_hit': 0}, 1: {'tp_hit': 0, 'fp_hit': 0, 'tn_hit': 92, 'fn_hit': 16}, 2: {'tp_hit': 0, 'fp_hit': 0, 'tn_hit': 94, 'fn_hit': 14}}, 'checkpoint': 10} \n",
      "\n",
      "\n",
      "{'accuracy': 0.8148148148148148, 'mean_square_error': 0.3914496481337639, 'categorical_crossentropy': 0.671764091209129, 'essential_metrics': {0: {'tp_hit': 68, 'fp_hit': 18, 'tn_hit': 12, 'fn_hit': 10}, 1: {'tp_hit': 10, 'fp_hit': 12, 'tn_hit': 80, 'fn_hit': 6}, 2: {'tp_hit': 0, 'fp_hit': 0, 'tn_hit': 94, 'fn_hit': 14}}, 'checkpoint': 20} \n",
      "\n",
      "\n",
      "{'accuracy': 0.8827160493827161, 'mean_square_error': 0.2820001558230532, 'categorical_crossentropy': 0.5058779539885344, 'essential_metrics': {0: {'tp_hit': 77, 'fp_hit': 18, 'tn_hit': 12, 'fn_hit': 1}, 1: {'tp_hit': 10, 'fp_hit': 1, 'tn_hit': 91, 'fn_hit': 6}, 2: {'tp_hit': 2, 'fp_hit': 0, 'tn_hit': 94, 'fn_hit': 12}}, 'checkpoint': 30} \n",
      "\n",
      "\n",
      "{'accuracy': 0.9197530864197531, 'mean_square_error': 0.2296028901062115, 'categorical_crossentropy': 0.43439402403654875, 'essential_metrics': {0: {'tp_hit': 78, 'fp_hit': 13, 'tn_hit': 17, 'fn_hit': 0}, 1: {'tp_hit': 10, 'fp_hit': 0, 'tn_hit': 92, 'fn_hit': 6}, 2: {'tp_hit': 7, 'fp_hit': 0, 'tn_hit': 94, 'fn_hit': 7}}, 'checkpoint': 40} \n",
      "\n",
      "\n",
      "{'accuracy': 0.9135802469135802, 'mean_square_error': 0.225068150263679, 'categorical_crossentropy': 0.42574712965223527, 'essential_metrics': {0: {'tp_hit': 78, 'fp_hit': 14, 'tn_hit': 16, 'fn_hit': 0}, 1: {'tp_hit': 9, 'fp_hit': 0, 'tn_hit': 92, 'fn_hit': 7}, 2: {'tp_hit': 7, 'fp_hit': 0, 'tn_hit': 94, 'fn_hit': 7}}, 'checkpoint': 50} \n",
      "\n",
      "\n",
      "{'accuracy': 0.9074074074074074, 'mean_square_error': 0.2115029587139796, 'categorical_crossentropy': 0.38279586368136936, 'essential_metrics': {0: {'tp_hit': 78, 'fp_hit': 15, 'tn_hit': 15, 'fn_hit': 0}, 1: {'tp_hit': 9, 'fp_hit': 0, 'tn_hit': 92, 'fn_hit': 7}, 2: {'tp_hit': 6, 'fp_hit': 0, 'tn_hit': 94, 'fn_hit': 8}}, 'checkpoint': 60} \n",
      "\n",
      "\n",
      "{'accuracy': 0.9074074074074074, 'mean_square_error': 0.20422470137105417, 'categorical_crossentropy': 0.36007612722891347, 'essential_metrics': {0: {'tp_hit': 78, 'fp_hit': 15, 'tn_hit': 15, 'fn_hit': 0}, 1: {'tp_hit': 9, 'fp_hit': 0, 'tn_hit': 92, 'fn_hit': 7}, 2: {'tp_hit': 6, 'fp_hit': 0, 'tn_hit': 94, 'fn_hit': 8}}, 'checkpoint': 70} \n",
      "\n",
      "\n",
      "{'accuracy': 0.9382716049382716, 'mean_square_error': 0.17395399104838075, 'categorical_crossentropy': 0.3395772510104709, 'essential_metrics': {0: {'tp_hit': 75, 'fp_hit': 7, 'tn_hit': 23, 'fn_hit': 3}, 1: {'tp_hit': 14, 'fp_hit': 3, 'tn_hit': 89, 'fn_hit': 2}, 2: {'tp_hit': 9, 'fp_hit': 0, 'tn_hit': 94, 'fn_hit': 5}}, 'checkpoint': 80} \n",
      "\n",
      "\n",
      "{'accuracy': 0.9506172839506173, 'mean_square_error': 0.13122780789722566, 'categorical_crossentropy': 0.2583065562778049, 'essential_metrics': {0: {'tp_hit': 77, 'fp_hit': 7, 'tn_hit': 23, 'fn_hit': 1}, 1: {'tp_hit': 13, 'fp_hit': 0, 'tn_hit': 92, 'fn_hit': 3}, 2: {'tp_hit': 10, 'fp_hit': 1, 'tn_hit': 93, 'fn_hit': 4}}, 'checkpoint': 90} \n",
      "\n",
      "\n",
      "{'accuracy': 0.9506172839506173, 'mean_square_error': 0.11397628394567312, 'categorical_crossentropy': 0.22514065989741572, 'essential_metrics': {0: {'tp_hit': 77, 'fp_hit': 7, 'tn_hit': 23, 'fn_hit': 1}, 1: {'tp_hit': 13, 'fp_hit': 0, 'tn_hit': 92, 'fn_hit': 3}, 2: {'tp_hit': 10, 'fp_hit': 1, 'tn_hit': 93, 'fn_hit': 4}}, 'checkpoint': 100} \n",
      "\n",
      "\n",
      "{'accuracy': 0.9506172839506173, 'mean_square_error': 0.10543948413640675, 'categorical_crossentropy': 0.2019168359261972, 'essential_metrics': {0: {'tp_hit': 77, 'fp_hit': 7, 'tn_hit': 23, 'fn_hit': 1}, 1: {'tp_hit': 12, 'fp_hit': 0, 'tn_hit': 92, 'fn_hit': 4}, 2: {'tp_hit': 11, 'fp_hit': 1, 'tn_hit': 93, 'fn_hit': 3}}, 'checkpoint': 110} \n",
      "\n",
      "\n",
      "{'accuracy': 0.9567901234567902, 'mean_square_error': 0.09775086676711796, 'categorical_crossentropy': 0.1867402571218985, 'essential_metrics': {0: {'tp_hit': 76, 'fp_hit': 5, 'tn_hit': 25, 'fn_hit': 2}, 1: {'tp_hit': 14, 'fp_hit': 1, 'tn_hit': 91, 'fn_hit': 2}, 2: {'tp_hit': 11, 'fp_hit': 1, 'tn_hit': 93, 'fn_hit': 3}}, 'checkpoint': 120} \n",
      "\n",
      "\n",
      "{'accuracy': 0.9506172839506173, 'mean_square_error': 0.09093091277789628, 'categorical_crossentropy': 0.17075287854229962, 'essential_metrics': {0: {'tp_hit': 76, 'fp_hit': 6, 'tn_hit': 24, 'fn_hit': 2}, 1: {'tp_hit': 14, 'fp_hit': 1, 'tn_hit': 91, 'fn_hit': 2}, 2: {'tp_hit': 10, 'fp_hit': 1, 'tn_hit': 93, 'fn_hit': 4}}, 'checkpoint': 130} \n",
      "\n",
      "\n",
      "{'accuracy': 0.9567901234567902, 'mean_square_error': 0.10533473353418418, 'categorical_crossentropy': 0.18672190772162545, 'essential_metrics': {0: {'tp_hit': 75, 'fp_hit': 4, 'tn_hit': 26, 'fn_hit': 3}, 1: {'tp_hit': 16, 'fp_hit': 3, 'tn_hit': 89, 'fn_hit': 0}, 2: {'tp_hit': 10, 'fp_hit': 0, 'tn_hit': 94, 'fn_hit': 4}}, 'checkpoint': 140} \n",
      "\n",
      "\n",
      "{'accuracy': 0.9506172839506173, 'mean_square_error': 0.09841559050041215, 'categorical_crossentropy': 0.17306495595861365, 'essential_metrics': {0: {'tp_hit': 73, 'fp_hit': 3, 'tn_hit': 27, 'fn_hit': 5}, 1: {'tp_hit': 15, 'fp_hit': 4, 'tn_hit': 88, 'fn_hit': 1}, 2: {'tp_hit': 12, 'fp_hit': 1, 'tn_hit': 93, 'fn_hit': 2}}, 'checkpoint': 150} \n",
      "\n",
      "\n",
      "{'accuracy': 0.9567901234567902, 'mean_square_error': 0.08933663492878209, 'categorical_crossentropy': 0.1560890762894242, 'essential_metrics': {0: {'tp_hit': 75, 'fp_hit': 4, 'tn_hit': 26, 'fn_hit': 3}, 1: {'tp_hit': 15, 'fp_hit': 3, 'tn_hit': 89, 'fn_hit': 1}, 2: {'tp_hit': 11, 'fp_hit': 0, 'tn_hit': 94, 'fn_hit': 3}}, 'checkpoint': 160} \n",
      "\n",
      "\n",
      "{'accuracy': 0.9629629629629629, 'mean_square_error': 0.07737570922098312, 'categorical_crossentropy': 0.13495171511614765, 'essential_metrics': {0: {'tp_hit': 76, 'fp_hit': 4, 'tn_hit': 26, 'fn_hit': 2}, 1: {'tp_hit': 15, 'fp_hit': 2, 'tn_hit': 90, 'fn_hit': 1}, 2: {'tp_hit': 11, 'fp_hit': 0, 'tn_hit': 94, 'fn_hit': 3}}, 'checkpoint': 170} \n",
      "\n",
      "\n",
      "{'accuracy': 0.9506172839506173, 'mean_square_error': 0.082385333140491, 'categorical_crossentropy': 0.1383477493568703, 'essential_metrics': {0: {'tp_hit': 73, 'fp_hit': 3, 'tn_hit': 27, 'fn_hit': 5}, 1: {'tp_hit': 15, 'fp_hit': 3, 'tn_hit': 89, 'fn_hit': 1}, 2: {'tp_hit': 12, 'fp_hit': 2, 'tn_hit': 92, 'fn_hit': 2}}, 'checkpoint': 180} \n",
      "\n",
      "\n",
      "{'accuracy': 0.9567901234567902, 'mean_square_error': 0.09040709219239365, 'categorical_crossentropy': 0.14754942611411767, 'essential_metrics': {0: {'tp_hit': 74, 'fp_hit': 3, 'tn_hit': 27, 'fn_hit': 4}, 1: {'tp_hit': 16, 'fp_hit': 3, 'tn_hit': 89, 'fn_hit': 0}, 2: {'tp_hit': 11, 'fp_hit': 1, 'tn_hit': 93, 'fn_hit': 3}}, 'checkpoint': 190} \n",
      "\n",
      "\n",
      "{'accuracy': 0.9506172839506173, 'mean_square_error': 0.08980337946499474, 'categorical_crossentropy': 0.1452079967216209, 'essential_metrics': {0: {'tp_hit': 73, 'fp_hit': 3, 'tn_hit': 27, 'fn_hit': 5}, 1: {'tp_hit': 15, 'fp_hit': 3, 'tn_hit': 89, 'fn_hit': 1}, 2: {'tp_hit': 12, 'fp_hit': 2, 'tn_hit': 92, 'fn_hit': 2}}, 'checkpoint': 200} \n",
      "\n",
      "\n"
     ]
    }
   ],
   "source": [
    "for checkpoint in checkpoints:\n",
    "    print(checkpoint, '\\n\\n')"
   ]
  },
  {
   "cell_type": "code",
   "execution_count": 14,
   "metadata": {},
   "outputs": [
    {
     "name": "stdout",
     "output_type": "stream",
     "text": [
      "Layer 1\n",
      "Neuron 0: weights:\n",
      "[-0.26205033 -2.7033954   1.6340609   3.          2.8566453 ]\n",
      " bias: -1.325571894645691\n",
      "\n",
      "Neuron 1: weights:\n",
      "[ 0.21676783 -3.         -0.41746596  0.62683386  3.        ]\n",
      " bias: -2.363328456878662\n",
      "\n",
      "Neuron 2: weights:\n",
      "[ 1.334889  -2.7463133 -2.4910805 -0.8281308  1.8268365]\n",
      " bias: 1.9161423444747925\n",
      "\n",
      "Neuron 3: weights:\n",
      "[-2.4907823  3.         2.9196517 -2.8971589  1.729127 ]\n",
      " bias: -2.702845811843872\n",
      "\n",
      "$\n",
      "Layer 2\n",
      "Neuron 0: weights:\n",
      "[-3.        -2.4253383  1.1326909 -3.       ]\n",
      " bias: 3.0\n",
      "\n",
      "Neuron 1: weights:\n",
      "[ 1.3513258 -2.970866  -3.         3.       ]\n",
      " bias: 1.1943753957748413\n",
      "\n",
      "Neuron 2: weights:\n",
      "[3.        3.        0.3264631 0.4825685]\n",
      " bias: -3.0\n",
      "\n",
      "$\n",
      "\n"
     ]
    }
   ],
   "source": [
    "print(model)"
   ]
  }
 ],
 "metadata": {
  "kernelspec": {
   "display_name": "Python 3",
   "language": "python",
   "name": "python3"
  },
  "language_info": {
   "codemirror_mode": {
    "name": "ipython",
    "version": 3
   },
   "file_extension": ".py",
   "mimetype": "text/x-python",
   "name": "python",
   "nbconvert_exporter": "python",
   "pygments_lexer": "ipython3",
   "version": "3.6.12"
  }
 },
 "nbformat": 4,
 "nbformat_minor": 2
}
