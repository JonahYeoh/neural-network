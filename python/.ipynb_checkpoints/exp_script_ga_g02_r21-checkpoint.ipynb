{
 "cells": [
  {
   "cell_type": "code",
   "execution_count": 1,
   "metadata": {},
   "outputs": [],
   "source": [
    "# single"
   ]
  },
  {
   "cell_type": "code",
   "execution_count": 2,
   "metadata": {},
   "outputs": [],
   "source": [
    "# dependency\n",
    "import numpy as np\n",
    "import pandas as pd\n",
    "import copy\n",
    "import math\n",
    "import sys\n",
    "import os\n",
    "from activations import relu, leaky_relu, sigmoid, tanh, softmax, d_sigmoid, d_relu\n",
    "from initializers import glorot_uniform, random_normal, random_uniform\n",
    "from regularizers import l1_regularizer, l2_regularizer\n",
    "from utility import trim_tail, multiply, subtract, get_nparams, one_hot_encoding, get_data\n",
    "from metrics import MSE, CCE, ACC, PRECISION, RECALL, essential_metrics, wondering_penalty, close_gap_penalty\n",
    "from pso import PSO\n",
    "from ga import GA\n",
    "from nn import Network\n",
    "from layer import DenseLayer\n",
    "from scalers import MinMaxScaler, StandardScaler"
   ]
  },
  {
   "cell_type": "code",
   "execution_count": 3,
   "metadata": {},
   "outputs": [],
   "source": [
    "# reference\n",
    "metrics_fn_dict = dict()\n",
    "metrics_fn_dict['accuracy'] = ACC\n",
    "metrics_fn_dict['categorical_crossentropy'] = CCE\n",
    "metrics_fn_dict['mean_square_error'] = MSE\n",
    "metrics_fn_dict['precision'] = PRECISION\n",
    "metrics_fn_dict['recall'] = RECALL\n",
    "metrics_fn_dict['essential_metrics'] = essential_metrics"
   ]
  },
  {
   "cell_type": "code",
   "execution_count": 4,
   "metadata": {},
   "outputs": [],
   "source": [
    "# model\n",
    "model = Network(5, lr = None)\n",
    "model.add_layer(DenseLayer(1, 4, True, afn=sigmoid, dafn=None, rfn=None))\n",
    "model.add_layer(DenseLayer(2, 3, True, afn=softmax, dafn=None, rfn=None))"
   ]
  },
  {
   "cell_type": "code",
   "execution_count": 5,
   "metadata": {},
   "outputs": [],
   "source": [
    "# optimizer\n",
    "ga = GA(\n",
    "    dict(\n",
    "        m = 200,\n",
    "        x_rate = 0.5,\n",
    "        m_rate = 0.5,\n",
    "        weight_constraint = [-3.,3.],\n",
    "        radioactive_rating = 0.1,\n",
    "        grow_factor = 0.1,\n",
    "        scale_hyperparameter = False,\n",
    "        regularizer = None))"
   ]
  },
  {
   "cell_type": "code",
   "execution_count": 6,
   "metadata": {},
   "outputs": [
    {
     "name": "stdout",
     "output_type": "stream",
     "text": [
      "building layer 1 with 5\n",
      "24\n",
      "building layer 2 with 4\n",
      "15\n"
     ]
    }
   ],
   "source": [
    "model.compile(loss_fn = 'categorical_crossentropy', optimizer = ga, \\\n",
    "    metrics = ['accuracy', 'mean_square_error', 'categorical_crossentropy', 'precision', 'recall', 'f1'])"
   ]
  },
  {
   "cell_type": "code",
   "execution_count": 7,
   "metadata": {},
   "outputs": [
    {
     "name": "stdout",
     "output_type": "stream",
     "text": [
      "<class 'pandas.core.frame.DataFrame'>\n",
      "RangeIndex: 107 entries, 0 to 106\n",
      "Data columns (total 6 columns):\n",
      " #   Column  Non-Null Count  Dtype  \n",
      "---  ------  --------------  -----  \n",
      " 0   f1      107 non-null    float32\n",
      " 1   f2      107 non-null    float32\n",
      " 2   f3      107 non-null    float32\n",
      " 3   f4      107 non-null    float32\n",
      " 4   f5      107 non-null    float32\n",
      " 5   label   107 non-null    float32\n",
      "dtypes: float32(6)\n",
      "memory usage: 2.6 KB\n",
      "None\n",
      "<class 'pandas.core.frame.DataFrame'>\n",
      "RangeIndex: 108 entries, 0 to 107\n",
      "Data columns (total 6 columns):\n",
      " #   Column  Non-Null Count  Dtype  \n",
      "---  ------  --------------  -----  \n",
      " 0   f1      108 non-null    float32\n",
      " 1   f2      108 non-null    float32\n",
      " 2   f3      108 non-null    float32\n",
      " 3   f4      108 non-null    float32\n",
      " 4   f5      108 non-null    float32\n",
      " 5   label   108 non-null    float32\n",
      "dtypes: float32(6)\n",
      "memory usage: 2.7 KB\n",
      "None\n"
     ]
    }
   ],
   "source": [
    "# data loading\n",
    "DATA = os.path.join('c:\\\\Users\\\\tcumi\\\\github_repo\\\\neural-network\\\\', 'dataset')\n",
    "GROUP = 2\n",
    "COLUMNS = ['f1', 'f2', 'f3', 'f4', 'f5', 'label']\n",
    "N_CLASS = 3\n",
    "EPOCHS = 500\n",
    "train_dir, test_dir = \"..//dataset//training_data{}.txt\".format(GROUP), \"..//dataset//testing_data{}.txt\".format(GROUP)\n",
    "train, test = get_data(DATA, train_dir, COLUMNS), get_data(DATA, test_dir, COLUMNS)\n",
    "# shuffle\n",
    "train, test = train.sample(frac=1), test.sample(frac=1)\n",
    "x_train, y_train = train.drop('label', axis=1), train['label']\n",
    "x_test, y_test = test.drop('label', axis=1), test['label']"
   ]
  },
  {
   "cell_type": "code",
   "execution_count": 8,
   "metadata": {},
   "outputs": [],
   "source": [
    "# data scaling and encoding\n",
    "scaler = StandardScaler(['f1', 'f2', 'f3', 'f4', 'f5'])\n",
    "scaler.fit(x_train)\n",
    "x_train = scaler.transform(x_train)\n",
    "x_test = scaler.transform(x_test)\n",
    "y_train = one_hot_encoding(y_train, N_CLASS)\n",
    "y_test = one_hot_encoding(y_test, N_CLASS)"
   ]
  },
  {
   "cell_type": "code",
   "execution_count": 9,
   "metadata": {
    "scrolled": true,
    "tags": [
     "outputPrepend"
    ]
   },
   "outputs": [
    {
     "name": "stderr",
     "output_type": "stream",
     "text": [
      "C:\\Users\\tcumi\\github_repo\\neural-network\\python\\ga.py:201: RuntimeWarning: overflow encountered in add\n",
      "  self.population.sort(key=lambda p: p.fitness + np.random.uniform(-shift, shift, 1), reverse = self.aim)\n"
     ]
    },
    {
     "name": "stdout",
     "output_type": "stream",
     "text": [
      "Checkpoint 100, Accuracy: 0.9629629629629629, Loss: 0.2601133629127785\n",
      "Checkpoint 200, Accuracy: 0.9567901234567902, Loss: 0.2352548528600622\n",
      "Checkpoint 300, Accuracy: 0.9567901234567902, Loss: 0.2124534183078342\n",
      "Checkpoint 400, Accuracy: 0.9629629629629629, Loss: 0.18852322189896195\n",
      "Checkpoint 500, Accuracy: 0.9629629629629629, Loss: 0.17516001948603876\n"
     ]
    }
   ],
   "source": [
    "# learning phase\n",
    "breakpoint = 100\n",
    "checkpoints = list()\n",
    "history = list()\n",
    "for century in range(0, EPOCHS, breakpoint):\n",
    "    sub_history = model.fit(x_train, y_train, breakpoint, verbose = 0)\n",
    "    score = model.evaluate(x_test, y_test, False, verbose = 0)\n",
    "    print('Checkpoint {}, Accuracy: {}, Loss: {}'.format(century+breakpoint, score['accuracy'], score[model.loss_fn]))\n",
    "    score['checkpoint'] = century + breakpoint\n",
    "    checkpoints.append(score)\n",
    "    history.extend(sub_history)\n",
    "    "
   ]
  },
  {
   "cell_type": "code",
   "execution_count": 10,
   "metadata": {},
   "outputs": [],
   "source": [
    "import matplotlib.pyplot as plt\n",
    "\n",
    "def draw_plot(x, y_list, x_label=None, y_label=None, legend=None, title=None):\n",
    "    fig, ax = plt.subplots(figsize=(12,5))\n",
    "    for xi, yi in zip(x, y_list):\n",
    "        ax.plot(xi, yi)\n",
    "    if x_label is not None and y_label is not None:\n",
    "        ax.set(xlabel=x_label, ylabel=y_label, title='{} VS {}'.format(x_label, y_label))\n",
    "    if legend is not None:\n",
    "        ax.legend(legend)\n",
    "    ax.grid()\n",
    "    plt.show()"
   ]
  },
  {
   "cell_type": "code",
   "execution_count": 11,
   "metadata": {},
   "outputs": [
    {
     "name": "stdout",
     "output_type": "stream",
     "text": [
      "[0. 0. 1.] <-> [1.0256091e-01 1.2841924e-04 8.9731061e-01]\n",
      "[1. 0. 0.] <-> [0.9123123  0.01209922 0.07558841]\n",
      "[1. 0. 0.] <-> [0.94578373 0.02143075 0.03278542]\n",
      "[0. 1. 0.] <-> [0.8092611  0.16620414 0.02453469]\n",
      "[1. 0. 0.] <-> [0.92526144 0.00411141 0.07062711]\n",
      "[1. 0. 0.] <-> [0.9387174  0.04796229 0.0133203 ]\n",
      "[1. 0. 0.] <-> [0.93903226 0.04646417 0.01450358]\n",
      "[1. 0. 0.] <-> [0.96935624 0.01174978 0.01889399]\n",
      "[1. 0. 0.] <-> [0.9090524  0.05845311 0.03249455]\n",
      "[1. 0. 0.] <-> [0.89950293 0.05806825 0.04242881]\n",
      "[0. 1. 0.] <-> [0.04645811 0.94252306 0.01101875]\n",
      "[1. 0. 0.] <-> [0.92149067 0.06570074 0.01280852]\n",
      "[1. 0. 0.] <-> [0.9343678  0.01587896 0.04975326]\n",
      "[1. 0. 0.] <-> [0.96060365 0.00909099 0.03030534]\n",
      "[1. 0. 0.] <-> [0.96695876 0.00938375 0.0236575 ]\n",
      "[1. 0. 0.] <-> [0.9553757  0.03263798 0.01198644]\n",
      "[1. 0. 0.] <-> [0.96913147 0.01147289 0.01939572]\n",
      "[1. 0. 0.] <-> [0.9520176  0.02808144 0.01990097]\n",
      "[0. 0. 1.] <-> [1.10988766e-01 1.41162163e-04 8.88870060e-01]\n",
      "[1. 0. 0.] <-> [0.7627871  0.00200712 0.23520577]\n",
      "[1. 0. 0.] <-> [0.79207397 0.00279235 0.20513372]\n",
      "[1. 0. 0.] <-> [0.961798   0.02817682 0.01002514]\n",
      "[0. 1. 0.] <-> [0.01691077 0.97557837 0.00751091]\n",
      "[0. 1. 0.] <-> [0.02553957 0.96301985 0.01144062]\n",
      "[1. 0. 0.] <-> [0.8841558  0.00249574 0.11334843]\n",
      "[1. 0. 0.] <-> [0.95757663 0.02005178 0.02237148]\n",
      "[1. 0. 0.] <-> [0.96371585 0.00434093 0.03194318]\n",
      "[1. 0. 0.] <-> [0.9604123  0.01211325 0.02747436]\n",
      "[1. 0. 0.] <-> [0.79993945 0.00162002 0.19844058]\n",
      "[1. 0. 0.] <-> [0.69940853 0.00547656 0.29511493]\n",
      "[1. 0. 0.] <-> [0.9432213  0.00219188 0.05458687]\n",
      "[0. 0. 1.] <-> [9.8760590e-02 1.3669230e-04 9.0110266e-01]\n",
      "[1. 0. 0.] <-> [0.7669194  0.01163635 0.2214443 ]\n",
      "[1. 0. 0.] <-> [0.9706233  0.01114308 0.01823361]\n",
      "[1. 0. 0.] <-> [0.77354383 0.20711242 0.01934373]\n",
      "[1. 0. 0.] <-> [0.9585984  0.01278994 0.02861169]\n",
      "[1. 0. 0.] <-> [0.9443013  0.01673892 0.03895975]\n",
      "[1. 0. 0.] <-> [0.94740766 0.03503393 0.01755846]\n",
      "[0. 1. 0.] <-> [0.007215   0.9872602  0.00552473]\n",
      "[1. 0. 0.] <-> [0.95484626 0.01353031 0.03162339]\n",
      "[0. 0. 1.] <-> [0.00259368 0.00441081 0.99299556]\n",
      "[0. 1. 0.] <-> [0.00868853 0.98518    0.00613141]\n",
      "[0. 0. 1.] <-> [0.00384284 0.00884556 0.9873116 ]\n",
      "[1. 0. 0.] <-> [0.94102263 0.00197342 0.05700394]\n",
      "[1. 0. 0.] <-> [0.9652659  0.01928785 0.01544625]\n",
      "[1. 0. 0.] <-> [0.962505   0.02670513 0.01078986]\n",
      "[1. 0. 0.] <-> [0.95613015 0.00307583 0.04079403]\n",
      "[1. 0. 0.] <-> [0.9526847  0.03506233 0.01225297]\n",
      "[1. 0. 0.] <-> [0.96130216 0.00837728 0.03032059]\n",
      "[1. 0. 0.] <-> [0.935811   0.00925624 0.05493277]\n",
      "[1. 0. 0.] <-> [0.9557565  0.00370445 0.04053902]\n",
      "[1. 0. 0.] <-> [0.8698835  0.00101783 0.12909873]\n",
      "[1. 0. 0.] <-> [0.8109824  0.06999062 0.11902702]\n",
      "[0. 1. 0.] <-> [0.18470357 0.8003903  0.0149061 ]\n",
      "[1. 0. 0.] <-> [0.8847532  0.00182194 0.11342491]\n",
      "[1. 0. 0.] <-> [0.95811725 0.00483686 0.03704587]\n",
      "[1. 0. 0.] <-> [0.9515551  0.00633254 0.04211238]\n",
      "[1. 0. 0.] <-> [0.9701333  0.01203329 0.01783344]\n",
      "[0. 0. 1.] <-> [0.014001   0.02729606 0.958703  ]\n",
      "[1. 0. 0.] <-> [0.9274944  0.02870386 0.04380185]\n",
      "[0. 0. 1.] <-> [8.8248581e-02 1.5508416e-04 9.1159636e-01]\n",
      "[0. 0. 1.] <-> [0.7827326  0.00079798 0.21646936]\n",
      "[1. 0. 0.] <-> [0.9627252  0.02433633 0.01293848]\n",
      "[1. 0. 0.] <-> [0.9682843  0.00663103 0.02508465]\n",
      "[1. 0. 0.] <-> [0.96151114 0.00646092 0.03202787]\n",
      "[1. 0. 0.] <-> [0.9545228  0.02100536 0.02447186]\n",
      "[1. 0. 0.] <-> [0.9670798  0.01156939 0.02135077]\n",
      "[1. 0. 0.] <-> [0.959469   0.02418267 0.01634838]\n",
      "[0. 1. 0.] <-> [0.11178372 0.8717452  0.01647103]\n",
      "[0. 1. 0.] <-> [0.69163847 0.27863955 0.02972196]\n",
      "[1. 0. 0.] <-> [0.89104676 0.00149103 0.10746222]\n",
      "[1. 0. 0.] <-> [0.94444835 0.01096759 0.04458416]\n",
      "[0. 1. 0.] <-> [0.00721556 0.9872594  0.00552495]\n",
      "[1. 0. 0.] <-> [0.9503983  0.03881697 0.0107847 ]\n",
      "[0. 1. 0.] <-> [0.43697017 0.53003186 0.03299798]\n",
      "[0. 0. 1.] <-> [0.69720876 0.00130084 0.30149043]\n",
      "[1. 0. 0.] <-> [0.937145   0.00190617 0.06094874]\n",
      "[1. 0. 0.] <-> [0.87736684 0.08916936 0.03346378]\n",
      "[1. 0. 0.] <-> [0.93716866 0.0178659  0.04496541]\n",
      "[0. 1. 0.] <-> [0.00721299 0.9872623  0.00552461]\n",
      "[1. 0. 0.] <-> [0.9357561  0.04775372 0.01649021]\n",
      "[1. 0. 0.] <-> [0.9440551  0.03340007 0.0225448 ]\n",
      "[1. 0. 0.] <-> [0.95966    0.00693839 0.03340159]\n",
      "[0. 1. 0.] <-> [0.00838795 0.98580533 0.00580677]\n",
      "[1. 0. 0.] <-> [0.928232   0.0025422  0.06922583]\n",
      "[0. 0. 1.] <-> [1.3139401e-01 1.6929317e-04 8.6843669e-01]\n",
      "[1. 0. 0.] <-> [0.9515122  0.0280546  0.02043314]\n",
      "[1. 0. 0.] <-> [0.9118726  0.0383248  0.04980257]\n",
      "[1. 0. 0.] <-> [0.954878   0.01347858 0.03164345]\n",
      "[0. 0. 1.] <-> [1.02897845e-01 1.05099447e-04 8.96997035e-01]\n",
      "[1. 0. 0.] <-> [0.9611975  0.00428839 0.03451409]\n",
      "[1. 0. 0.] <-> [0.90124685 0.00159437 0.09715886]\n",
      "[0. 0. 1.] <-> [1.0837091e-01 1.0100881e-04 8.9152807e-01]\n",
      "[1. 0. 0.] <-> [0.6408045  0.00163866 0.35755688]\n",
      "[0. 1. 0.] <-> [0.00745006 0.9869686  0.00558141]\n",
      "[1. 0. 0.] <-> [0.95413715 0.00973363 0.0361292 ]\n",
      "[1. 0. 0.] <-> [0.67864436 0.01418384 0.30717185]\n",
      "[1. 0. 0.] <-> [0.96687293 0.01560083 0.01752627]\n",
      "[1. 0. 0.] <-> [0.95756364 0.01805306 0.0243833 ]\n",
      "[0. 0. 1.] <-> [0.933395   0.00275485 0.06385018]\n",
      "[1. 0. 0.] <-> [0.95932585 0.01632847 0.02434563]\n",
      "[1. 0. 0.] <-> [0.9508775  0.03084249 0.01828001]\n",
      "[1. 0. 0.] <-> [0.9338615  0.03425723 0.0318812 ]\n",
      "[1. 0. 0.] <-> [0.95721805 0.01164317 0.03113887]\n",
      "[1. 0. 0.] <-> [0.9174375  0.0183931  0.06416934]\n",
      "[1. 0. 0.] <-> [0.93324876 0.04612505 0.02062618]\n",
      "[1. 0. 0.] <-> [0.7971427  0.00158334 0.20127402]\n",
      "[0. 1. 0.] <-> [0.7073138 0.2645268 0.0281594]\n",
      "{'accuracy': 0.9629629629629629, 'mean_square_error': 0.09010365253774977, 'categorical_crossentropy': 0.17516001948603876, 'precision': 0.9444444444444444, 'recall': 0.9444444444444444, 'f1': 0.9444444444444444, 'essential_metrics': {0: {'tp_hit': 80, 'fp_hit': 6, 'tn_hit': 22, 'fn_hit': 0}, 1: {'tp_hit': 12, 'fp_hit': 0, 'tn_hit': 93, 'fn_hit': 3}, 2: {'tp_hit': 10, 'fp_hit': 0, 'tn_hit': 95, 'fn_hit': 3}}}\n"
     ]
    }
   ],
   "source": [
    "# recall phase\n",
    "score = model.evaluate(x_test, y_test, False)\n",
    "print(score)"
   ]
  },
  {
   "cell_type": "code",
   "execution_count": 12,
   "metadata": {},
   "outputs": [],
   "source": [
    "# Testing Performance"
   ]
  },
  {
   "cell_type": "code",
   "execution_count": 13,
   "metadata": {},
   "outputs": [
    {
     "data": {
      "image/png": "[encoded data removed]",
      "text/plain": [
       "<Figure size 864x360 with 1 Axes>"
      ]
     },
     "metadata": {
      "needs_background": "light"
     },
     "output_type": "display_data"
    },
    {
     "data": {
      "image/png": "[encoded data removed]",
      "text/plain": [
       "<Figure size 864x360 with 1 Axes>"
      ]
     },
     "metadata": {
      "needs_background": "light"
     },
     "output_type": "display_data"
    }
   ],
   "source": [
    "draw_plot(x = [[i for i in range(len(history))], [(i+1)*breakpoint for i in range(len(checkpoints))]], y_list = [history, [ ckp[model.loss_fn] for ckp in checkpoints ]], x_label = 'Epochs', \\\n",
    "    y_label = model.loss_fn, legend=['train', 'test'])\n",
    "acc = [ ckp['accuracy'] for ckp in checkpoints ]\n",
    "draw_plot(x = [[(i+1)*breakpoint for i in range(len(checkpoints))]], y_list = [acc], x_label = 'Checkpoints', \\\n",
    "    y_label = 'accuracy')"
   ]
  },
  {
   "cell_type": "code",
   "execution_count": 14,
   "metadata": {
    "scrolled": false
   },
   "outputs": [
    {
     "name": "stdout",
     "output_type": "stream",
     "text": [
      "{'accuracy': 0.9629629629629629, 'mean_square_error': 0.12328457356319734, 'categorical_crossentropy': 0.2601133629127785, 'precision': 0.9444444444444444, 'recall': 0.9444444444444444, 'f1': 0.9444444444444444, 'essential_metrics': {0: {'tp_hit': 80, 'fp_hit': 6, 'tn_hit': 22, 'fn_hit': 0}, 1: {'tp_hit': 12, 'fp_hit': 0, 'tn_hit': 93, 'fn_hit': 3}, 2: {'tp_hit': 10, 'fp_hit': 0, 'tn_hit': 95, 'fn_hit': 3}}, 'checkpoint': 100} \n",
      "\n",
      "\n",
      "{'accuracy': 0.9567901234567902, 'mean_square_error': 0.11520305769895878, 'categorical_crossentropy': 0.2352548528600622, 'precision': 0.9351851851851852, 'recall': 0.9351851851851852, 'f1': 0.9351851851851852, 'essential_metrics': {0: {'tp_hit': 80, 'fp_hit': 7, 'tn_hit': 21, 'fn_hit': 0}, 1: {'tp_hit': 11, 'fp_hit': 0, 'tn_hit': 93, 'fn_hit': 4}, 2: {'tp_hit': 10, 'fp_hit': 0, 'tn_hit': 95, 'fn_hit': 3}}, 'checkpoint': 200} \n",
      "\n",
      "\n",
      "{'accuracy': 0.9567901234567902, 'mean_square_error': 0.10569861700128856, 'categorical_crossentropy': 0.2124534183078342, 'precision': 0.9351851851851852, 'recall': 0.9351851851851852, 'f1': 0.9351851851851852, 'essential_metrics': {0: {'tp_hit': 80, 'fp_hit': 7, 'tn_hit': 21, 'fn_hit': 0}, 1: {'tp_hit': 11, 'fp_hit': 0, 'tn_hit': 93, 'fn_hit': 4}, 2: {'tp_hit': 10, 'fp_hit': 0, 'tn_hit': 95, 'fn_hit': 3}}, 'checkpoint': 300} \n",
      "\n",
      "\n",
      "{'accuracy': 0.9629629629629629, 'mean_square_error': 0.09443874136796378, 'categorical_crossentropy': 0.18852322189896195, 'precision': 0.9444444444444444, 'recall': 0.9444444444444444, 'f1': 0.9444444444444444, 'essential_metrics': {0: {'tp_hit': 80, 'fp_hit': 6, 'tn_hit': 22, 'fn_hit': 0}, 1: {'tp_hit': 12, 'fp_hit': 0, 'tn_hit': 93, 'fn_hit': 3}, 2: {'tp_hit': 10, 'fp_hit': 0, 'tn_hit': 95, 'fn_hit': 3}}, 'checkpoint': 400} \n",
      "\n",
      "\n",
      "{'accuracy': 0.9629629629629629, 'mean_square_error': 0.09010365253774977, 'categorical_crossentropy': 0.17516001948603876, 'precision': 0.9444444444444444, 'recall': 0.9444444444444444, 'f1': 0.9444444444444444, 'essential_metrics': {0: {'tp_hit': 80, 'fp_hit': 6, 'tn_hit': 22, 'fn_hit': 0}, 1: {'tp_hit': 12, 'fp_hit': 0, 'tn_hit': 93, 'fn_hit': 3}, 2: {'tp_hit': 10, 'fp_hit': 0, 'tn_hit': 95, 'fn_hit': 3}}, 'checkpoint': 500} \n",
      "\n",
      "\n"
     ]
    }
   ],
   "source": [
    "for checkpoint in checkpoints:\n",
    "    print(checkpoint, '\\n\\n')"
   ]
  },
  {
   "cell_type": "code",
   "execution_count": 15,
   "metadata": {},
   "outputs": [
    {
     "name": "stdout",
     "output_type": "stream",
     "text": [
      "Layer 1\n",
      "Neuron 0: weights:\n",
      "[ 1.5203224 -2.6053376 -2.2210937 -1.7491741 -1.230463 ]\n",
      " bias: 1.61735999584198\n",
      "\n",
      "Neuron 1: weights:\n",
      "[ 1.6969657   0.08463811 -2.1400034   1.3481704   1.4191934 ]\n",
      " bias: -1.9126734733581543\n",
      "\n",
      "Neuron 2: weights:\n",
      "[ 1.7004243  -2.734622   -1.301702    0.17683482 -1.1153092 ]\n",
      " bias: 2.1011273860931396\n",
      "\n",
      "Neuron 3: weights:\n",
      "[ 0.10537651  3.          2.8454635  -2.2120047   0.37364036]\n",
      " bias: 1.8881803750991821\n",
      "\n",
      "$\n",
      "Layer 2\n",
      "Neuron 0: weights:\n",
      "[ 1.315277  -2.4038596  1.4659231 -0.5680684]\n",
      " bias: 0.5702229738235474\n",
      "\n",
      "Neuron 1: weights:\n",
      "[-2.8343189 -2.516487  -3.         2.641903 ]\n",
      " bias: 2.279660701751709\n",
      "\n",
      "Neuron 2: weights:\n",
      "[ 0.04577537  2.5394115  -2.2482452  -3.        ]\n",
      " bias: 2.7357282638549805\n",
      "\n",
      "$\n",
      "\n"
     ]
    }
   ],
   "source": [
    "print(model)"
   ]
  }
 ],
 "metadata": {
  "kernelspec": {
   "display_name": "Python 3",
   "language": "python",
   "name": "python3"
  },
  "language_info": {
   "codemirror_mode": {
    "name": "ipython",
    "version": 3
   },
   "file_extension": ".py",
   "mimetype": "text/x-python",
   "name": "python",
   "nbconvert_exporter": "python",
   "pygments_lexer": "ipython3",
   "version": "3.6.10"
  }
 },
 "nbformat": 4,
 "nbformat_minor": 2
}
