{
 "cells": [
  {
   "cell_type": "code",
   "execution_count": 1,
   "metadata": {},
   "outputs": [],
   "source": [
    "# dependency\n",
    "import numpy as np\n",
    "import pandas as pd\n",
    "import copy\n",
    "import math\n",
    "import sys\n",
    "import os\n",
    "from activations import relu, leaky_relu, sigmoid, tanh, softmax, d_sigmoid, d_relu\n",
    "from initializers import glorot_uniform, random_normal, random_uniform\n",
    "from regularizers import l1_regularizer, l2_regularizer\n",
    "from utility import trim_tail, multiply, subtract, get_nparams, one_hot_encoding, get_data\n",
    "from metrics import MSE, CCE, ACC, PRECISION, RECALL, essential_metrics, wondering_penalty, close_gap_penalty\n",
    "from pso import PSO\n",
    "from ga import GA\n",
    "from nn import Network\n",
    "from layer import DenseLayer\n",
    "from scalers import MinMaxScaler, StandardScaler"
   ]
  },
  {
   "cell_type": "code",
   "execution_count": 2,
   "metadata": {},
   "outputs": [],
   "source": [
    "# reference\n",
    "metrics_fn_dict = dict()\n",
    "metrics_fn_dict['accuracy'] = ACC\n",
    "metrics_fn_dict['categorical_crossentropy'] = CCE\n",
    "metrics_fn_dict['mean_square_error'] = MSE\n",
    "metrics_fn_dict['precision'] = PRECISION\n",
    "metrics_fn_dict['recall'] = RECALL\n",
    "metrics_fn_dict['essential_metrics'] = essential_metrics"
   ]
  },
  {
   "cell_type": "code",
   "execution_count": 3,
   "metadata": {},
   "outputs": [],
   "source": [
    "# model\n",
    "model = Network(5, lr = None)\n",
    "model.add_layer(DenseLayer(1, 4, True, afn=sigmoid, dafn=None, rfn=None))\n",
    "model.add_layer(DenseLayer(2, 3, True, afn=softmax, dafn=None, rfn=None))"
   ]
  },
  {
   "cell_type": "code",
   "execution_count": 4,
   "metadata": {},
   "outputs": [
    {
     "name": "stdout",
     "output_type": "stream",
     "text": [
      "see one see two 2.0 0.5\n"
     ]
    }
   ],
   "source": [
    "pso = PSO(dict(m = 50,\n",
    "    weight_constraint = [-3, 3], \n",
    "    velocity_constraint = [-0.1, 0.1],\n",
    "    c1 = [0.5, 2.0],\n",
    "    c2 = [0.5, 2.0],\n",
    "    w = [0.5, 1.6],\n",
    "    w_decay = 0.95,\n",
    "    scale_hyperparameter = False,\n",
    "    regularizer = l1_regularizer,\n",
    "    mask = True))"
   ]
  },
  {
   "cell_type": "code",
   "execution_count": 5,
   "metadata": {},
   "outputs": [
    {
     "name": "stdout",
     "output_type": "stream",
     "text": [
      "building layer 1 with 5\n",
      "24\n",
      "building layer 2 with 4\n",
      "15\n"
     ]
    }
   ],
   "source": [
    "model.compile(loss_fn = 'categorical_crossentropy', optimizer = pso, \\\n",
    "    metrics = ['accuracy', 'mean_square_error', 'categorical_crossentropy'])"
   ]
  },
  {
   "cell_type": "code",
   "execution_count": 6,
   "metadata": {},
   "outputs": [
    {
     "name": "stdout",
     "output_type": "stream",
     "text": [
      "<class 'pandas.core.frame.DataFrame'>\n",
      "RangeIndex: 107 entries, 0 to 106\n",
      "Data columns (total 6 columns):\n",
      " #   Column  Non-Null Count  Dtype  \n",
      "---  ------  --------------  -----  \n",
      " 0   f1      107 non-null    float32\n",
      " 1   f2      107 non-null    float32\n",
      " 2   f3      107 non-null    float32\n",
      " 3   f4      107 non-null    float32\n",
      " 4   f5      107 non-null    float32\n",
      " 5   label   107 non-null    float32\n",
      "dtypes: float32(6)\n",
      "memory usage: 2.6 KB\n",
      "None\n",
      "<class 'pandas.core.frame.DataFrame'>\n",
      "RangeIndex: 108 entries, 0 to 107\n",
      "Data columns (total 6 columns):\n",
      " #   Column  Non-Null Count  Dtype  \n",
      "---  ------  --------------  -----  \n",
      " 0   f1      108 non-null    float32\n",
      " 1   f2      108 non-null    float32\n",
      " 2   f3      108 non-null    float32\n",
      " 3   f4      108 non-null    float32\n",
      " 4   f5      108 non-null    float32\n",
      " 5   label   108 non-null    float32\n",
      "dtypes: float32(6)\n",
      "memory usage: 2.7 KB\n",
      "None\n"
     ]
    }
   ],
   "source": [
    "# data loading\n",
    "DATA = os.path.join('c:\\\\Users\\\\AI-lab\\\\github_repo\\\\neural-network\\\\', 'dataset')\n",
    "GROUP = 4\n",
    "COLUMNS = ['f1', 'f2', 'f3', 'f4', 'f5', 'label']\n",
    "N_CLASS = 3\n",
    "EPOCHS = 200\n",
    "train_dir, test_dir = \"..//dataset//training_data{}.txt\".format(GROUP), \"..//dataset//testing_data{}.txt\".format(GROUP)\n",
    "train, test = get_data(DATA, train_dir, COLUMNS), get_data(DATA, test_dir, COLUMNS)\n",
    "# shuffle\n",
    "train, test = train.sample(frac=1), test.sample(frac=1)\n",
    "x_train, y_train = train.drop('label', axis=1), train['label']\n",
    "x_test, y_test = test.drop('label', axis=1), test['label']"
   ]
  },
  {
   "cell_type": "code",
   "execution_count": 7,
   "metadata": {},
   "outputs": [],
   "source": [
    "# data scaling and encoding\n",
    "scaler = StandardScaler(['f1', 'f2', 'f3', 'f4', 'f5'])\n",
    "scaler.fit(x_train)\n",
    "x_train = scaler.transform(x_train)\n",
    "x_test = scaler.transform(x_test)\n",
    "y_train = one_hot_encoding(y_train, N_CLASS)\n",
    "y_test = one_hot_encoding(y_test, N_CLASS)"
   ]
  },
  {
   "cell_type": "code",
   "execution_count": 8,
   "metadata": {
    "tags": [
     "outputPrepend"
    ]
   },
   "outputs": [
    {
     "name": "stdout",
     "output_type": "stream",
     "text": [
      "Checkpoint 10, Accuracy: 0.845679012345679, Loss: 0.5427120703238028\n",
      "Checkpoint 20, Accuracy: 0.8518518518518519, Loss: 0.5335520991572628\n",
      "Checkpoint 30, Accuracy: 0.845679012345679, Loss: 0.5612484967267072\n",
      "Checkpoint 40, Accuracy: 0.8580246913580247, Loss: 0.5018560268260814\n",
      "Checkpoint 50, Accuracy: 0.9197530864197531, Loss: 0.4517547819349501\n",
      "Checkpoint 60, Accuracy: 0.8765432098765432, Loss: 0.3775864707099067\n",
      "Checkpoint 70, Accuracy: 0.9320987654320988, Loss: 0.3469629640932436\n",
      "Checkpoint 80, Accuracy: 0.9567901234567902, Loss: 0.2929702158327456\n",
      "Checkpoint 90, Accuracy: 0.9814814814814815, Loss: 0.26830332367508497\n",
      "Checkpoint 100, Accuracy: 0.9567901234567902, Loss: 0.2572049211572718\n",
      "Checkpoint 110, Accuracy: 0.9567901234567902, Loss: 0.2491503291659885\n",
      "Checkpoint 120, Accuracy: 0.9629629629629629, Loss: 0.23124080234103733\n",
      "Checkpoint 130, Accuracy: 0.9506172839506173, Loss: 0.22513386055275245\n",
      "Checkpoint 140, Accuracy: 0.9691358024691358, Loss: 0.2129250102572971\n",
      "Checkpoint 150, Accuracy: 0.9691358024691358, Loss: 0.2079544773808232\n",
      "Checkpoint 160, Accuracy: 0.9629629629629629, Loss: 0.2128858389677825\n",
      "Checkpoint 170, Accuracy: 0.9629629629629629, Loss: 0.21958467695448133\n",
      "Checkpoint 180, Accuracy: 0.9629629629629629, Loss: 0.21958467695448133\n",
      "Checkpoint 190, Accuracy: 0.9691358024691358, Loss: 0.20180850558810765\n",
      "Checkpoint 200, Accuracy: 0.9691358024691358, Loss: 0.2083968409785518\n"
     ]
    }
   ],
   "source": [
    "# learning phase\n",
    "breakpoint = 10\n",
    "checkpoints = list()\n",
    "history = list()\n",
    "for century in range(0, EPOCHS, breakpoint):\n",
    "    sub_history = model.fit(x_train, y_train, breakpoint, verbose = 0)\n",
    "    score = model.evaluate(x_test, y_test, False, verbose = 0)\n",
    "    print('Checkpoint {}, Accuracy: {}, Loss: {}'.format(century+breakpoint, score['accuracy'], score[model.loss_fn]))\n",
    "    score['checkpoint'] = century + breakpoint\n",
    "    checkpoints.append(score)\n",
    "    history.extend(sub_history)\n",
    "    itr = century + breakpoint\n",
    "    model.optimizer.c1 = np.max([model.optimizer.C1[1] - ((model.optimizer.C1[1] - model.optimizer.C1[0]) * itr / EPOCHS), model.optimizer.C1[0]])\n",
    "    model.optimizer.c2 = np.min([model.optimizer.C2[0] + ((model.optimizer.C2[1] - model.optimizer.C2[0]) * itr / EPOCHS), model.optimizer.C2[1]])\n",
    "    model.optimizer.w = np.max([model.optimizer.w * model.optimizer.W_Decay, model.optimizer.W[0]])"
   ]
  },
  {
   "cell_type": "code",
   "execution_count": 9,
   "metadata": {},
   "outputs": [],
   "source": [
    "import matplotlib.pyplot as plt\n",
    "\n",
    "def draw_plot(x, y_list, x_label=None, y_label=None, legend=None, title=None):\n",
    "    fig, ax = plt.subplots(figsize=(12,5))\n",
    "    for xi, yi in zip(x, y_list):\n",
    "        ax.plot(xi, yi)\n",
    "    if x_label is not None and y_label is not None:\n",
    "        ax.set(xlabel=x_label, ylabel=y_label, title='{} VS {}'.format(x_label, y_label))\n",
    "    if legend is not None:\n",
    "        ax.legend(legend)\n",
    "    ax.grid()\n",
    "    plt.show()"
   ]
  },
  {
   "cell_type": "code",
   "execution_count": 10,
   "metadata": {},
   "outputs": [],
   "source": [
    "train_acc = [h['accuracy'] for h in history]\n",
    "train_mse = [h['mean_square_error'] for h in history]\n",
    "train_cce = [h['categorical_crossentropy'] for h in history]"
   ]
  },
  {
   "cell_type": "code",
   "execution_count": 11,
   "metadata": {},
   "outputs": [
    {
     "data": {
      "image/png": "[encoded data removed]",
      "text/plain": [
       "<Figure size 864x360 with 1 Axes>"
      ]
     },
     "metadata": {
      "needs_background": "light"
     },
     "output_type": "display_data"
    },
    {
     "data": {
      "image/png": "[encoded data removed]",
      "text/plain": [
       "<Figure size 864x360 with 1 Axes>"
      ]
     },
     "metadata": {
      "needs_background": "light"
     },
     "output_type": "display_data"
    }
   ],
   "source": [
    "draw_plot(x = [[i for i in range(len(history))], [(i+1)*breakpoint for i in range(len(checkpoints))]], y_list = [train_cce, [ ckp[model.loss_fn] for ckp in checkpoints ]], x_label = 'Epochs', \\\n",
    "    y_label = model.loss_fn, legend=['train', 'test'])\n",
    "acc = [ ckp['accuracy'] for ckp in checkpoints ]\n",
    "draw_plot(x = [[i for i in range(len(history))], [(i+1)*breakpoint for i in range(len(checkpoints))]], y_list = [train_acc, acc], x_label = 'Checkpoints', \\\n",
    "    y_label = 'accuracy', legend=['train', 'test'])"
   ]
  },
  {
   "cell_type": "code",
   "execution_count": 12,
   "metadata": {},
   "outputs": [
    {
     "name": "stdout",
     "output_type": "stream",
     "text": [
      "[1. 0. 0.] <-> [0.79285085 0.05087059 0.15627852]\n",
      "[1. 0. 0.] <-> [0.8635623  0.11142009 0.02501761]\n",
      "[0. 1. 0.] <-> [0.09040198 0.89848536 0.0111126 ]\n",
      "[0. 1. 0.] <-> [0.55924064 0.41708642 0.02367296]\n",
      "[0. 0. 1.] <-> [0.16074534 0.02555772 0.8136969 ]\n",
      "[1. 0. 0.] <-> [0.9103811  0.06251094 0.02710807]\n",
      "[1. 0. 0.] <-> [0.9401382  0.03977708 0.02008468]\n",
      "[0. 0. 1.] <-> [0.13961785 0.02607911 0.834303  ]\n",
      "[1. 0. 0.] <-> [0.952261   0.03096224 0.01677674]\n",
      "[1. 0. 0.] <-> [0.9291389  0.04793031 0.02293082]\n",
      "[1. 0. 0.] <-> [0.58848506 0.38695168 0.02456326]\n",
      "[1. 0. 0.] <-> [0.90738624 0.07152112 0.02109262]\n",
      "[1. 0. 0.] <-> [0.9621035  0.0199457  0.01795091]\n",
      "[1. 0. 0.] <-> [0.92585826 0.03942176 0.03472006]\n",
      "[1. 0. 0.] <-> [0.52944183 0.4386875  0.03187066]\n",
      "[1. 0. 0.] <-> [0.9546193  0.02823708 0.01714369]\n",
      "[0. 1. 0.] <-> [0.4132572  0.5641344  0.02260838]\n",
      "[0. 0. 1.] <-> [0.46571806 0.04960093 0.48468107]\n",
      "[1. 0. 0.] <-> [0.9480634  0.03003065 0.02190592]\n",
      "[1. 0. 0.] <-> [0.9423883  0.03164198 0.02596973]\n",
      "[1. 0. 0.] <-> [0.9422769  0.03107733 0.02664575]\n",
      "[1. 0. 0.] <-> [0.93316746 0.050125   0.01670759]\n",
      "[0. 0. 1.] <-> [0.7198351  0.0332882  0.24687669]\n",
      "[1. 0. 0.] <-> [0.93439764 0.03786023 0.02774219]\n",
      "[0. 1. 0.] <-> [0.1004118  0.88663733 0.01295084]\n",
      "[0. 0. 1.] <-> [0.15082043 0.02430095 0.82487863]\n",
      "[0. 0. 1.] <-> [0.16444753 0.0259042  0.8096483 ]\n",
      "[1. 0. 0.] <-> [0.75697327 0.21655865 0.02646809]\n",
      "[1. 0. 0.] <-> [0.95400923 0.02402526 0.02196552]\n",
      "[1. 0. 0.] <-> [0.9626706  0.01778584 0.0195435 ]\n",
      "[1. 0. 0.] <-> [0.95020634 0.02234255 0.02745111]\n",
      "[1. 0. 0.] <-> [0.9323746  0.02624921 0.04137624]\n",
      "[0. 1. 0.] <-> [0.2273262  0.75339293 0.01928083]\n",
      "[1. 0. 0.] <-> [0.9396372  0.02714938 0.03321344]\n",
      "[0. 0. 1.] <-> [0.14712061 0.02549791 0.82738143]\n",
      "[0. 0. 1.] <-> [0.14998917 0.03533265 0.81467813]\n",
      "[1. 0. 0.] <-> [0.9336974  0.02602445 0.04027822]\n",
      "[1. 0. 0.] <-> [0.92728114 0.0445825  0.02813629]\n",
      "[1. 0. 0.] <-> [0.9209538  0.03305987 0.04598642]\n",
      "[1. 0. 0.] <-> [0.9543682  0.02215916 0.02347269]\n",
      "[1. 0. 0.] <-> [0.8655026  0.1016492  0.03284826]\n",
      "[1. 0. 0.] <-> [0.89278585 0.05630778 0.05090636]\n",
      "[1. 0. 0.] <-> [0.8446269  0.13013454 0.02523859]\n",
      "[1. 0. 0.] <-> [0.9359436  0.04738288 0.01667349]\n",
      "[1. 0. 0.] <-> [0.9173739  0.03711987 0.04550627]\n",
      "[1. 0. 0.] <-> [0.9143207  0.03491929 0.05076002]\n",
      "[1. 0. 0.] <-> [0.95875055 0.02284446 0.01840498]\n",
      "[1. 0. 0.] <-> [0.935369   0.04615125 0.01847979]\n",
      "[1. 0. 0.] <-> [0.7918474  0.03304847 0.17510419]\n",
      "[1. 0. 0.] <-> [0.94269675 0.03201783 0.02528542]\n",
      "[1. 0. 0.] <-> [0.95242804 0.02337031 0.02420175]\n",
      "[1. 0. 0.] <-> [0.93431085 0.020931   0.04475814]\n",
      "[1. 0. 0.] <-> [0.8990813  0.02674123 0.07417755]\n",
      "[1. 0. 0.] <-> [0.8720103  0.04195926 0.08603048]\n",
      "[0. 1. 0.] <-> [0.2420059  0.73974854 0.01824554]\n",
      "[1. 0. 0.] <-> [0.92414427 0.05697947 0.01887631]\n",
      "[1. 0. 0.] <-> [0.6646826  0.2989309  0.03638642]\n",
      "[1. 0. 0.] <-> [0.9381011  0.03416235 0.02773651]\n",
      "[1. 0. 0.] <-> [0.93530154 0.04726522 0.01743328]\n",
      "[0. 1. 0.] <-> [0.15397145 0.8276255  0.01840294]\n",
      "[1. 0. 0.] <-> [0.9499475  0.02836698 0.0216855 ]\n",
      "[0. 1. 0.] <-> [0.3384473  0.6414865  0.02006616]\n",
      "[1. 0. 0.] <-> [0.7460365  0.21552227 0.0384412 ]\n",
      "[1. 0. 0.] <-> [0.76887494 0.15544629 0.07567872]\n",
      "[1. 0. 0.] <-> [0.9233387  0.02195443 0.05470679]\n",
      "[0. 1. 0.] <-> [0.08804294 0.901789   0.01016803]\n",
      "[1. 0. 0.] <-> [0.94507027 0.04126838 0.01366143]\n",
      "[0. 1. 0.] <-> [0.09315509 0.89496225 0.01188262]\n",
      "[1. 0. 0.] <-> [0.77022266 0.20729719 0.02248015]\n",
      "[0. 0. 1.] <-> [0.80120873 0.03778439 0.16100696]\n",
      "[1. 0. 0.] <-> [0.94320214 0.04017204 0.01662577]\n",
      "[1. 0. 0.] <-> [0.9502224  0.02248375 0.02729376]\n",
      "[1. 0. 0.] <-> [0.925697   0.04245995 0.03184306]\n",
      "[1. 0. 0.] <-> [0.9515256  0.02386309 0.02461131]\n",
      "[0. 0. 1.] <-> [0.17352045 0.02678765 0.7996919 ]\n",
      "[1. 0. 0.] <-> [0.9120403  0.02440832 0.06355137]\n",
      "[0. 0. 1.] <-> [0.71080047 0.04069306 0.2485064 ]\n",
      "[1. 0. 0.] <-> [0.9527079  0.03371298 0.01357918]\n",
      "[1. 0. 0.] <-> [0.93183726 0.04364225 0.02452051]\n",
      "[1. 0. 0.] <-> [0.95414627 0.02306692 0.02278684]\n",
      "[1. 0. 0.] <-> [0.93842536 0.04532559 0.01624901]\n",
      "[1. 0. 0.] <-> [0.95870245 0.02612714 0.01517044]\n",
      "[0. 1. 0.] <-> [0.0863425  0.90385276 0.00980473]\n",
      "[1. 0. 0.] <-> [0.89035493 0.0827679  0.02687716]\n",
      "[1. 0. 0.] <-> [0.8442711  0.13104306 0.02468575]\n",
      "[1. 0. 0.] <-> [0.92864704 0.02581982 0.04553318]\n",
      "[0. 1. 0.] <-> [0.0880788  0.90226805 0.00965317]\n",
      "[0. 1. 0.] <-> [0.7682453  0.21158072 0.02017393]\n",
      "[0. 0. 1.] <-> [0.36581922 0.03493717 0.59924364]\n",
      "[1. 0. 0.] <-> [0.8863311  0.04079931 0.07286955]\n",
      "[0. 1. 0.] <-> [0.34753796 0.62371314 0.02874884]\n",
      "[1. 0. 0.] <-> [0.827203   0.12455193 0.04824519]\n",
      "[1. 0. 0.] <-> [0.9133076  0.05704395 0.02964845]\n",
      "[0. 0. 1.] <-> [0.3935038  0.04541776 0.5610784 ]\n",
      "[1. 0. 0.] <-> [0.8056553  0.04508755 0.14925717]\n",
      "[1. 0. 0.] <-> [0.9251967  0.0244125  0.05039078]\n",
      "[0. 1. 0.] <-> [0.08568304 0.90420544 0.01011151]\n",
      "[0. 0. 1.] <-> [0.13418376 0.02402402 0.8417923 ]\n",
      "[1. 0. 0.] <-> [0.8304354  0.03851843 0.13104619]\n",
      "[1. 0. 0.] <-> [0.94261277 0.02744932 0.02993788]\n",
      "[1. 0. 0.] <-> [0.9446515  0.03463132 0.02071717]\n",
      "[1. 0. 0.] <-> [0.9350561  0.02201393 0.04292998]\n",
      "[1. 0. 0.] <-> [0.7167778  0.24210632 0.04111589]\n",
      "[0. 1. 0.] <-> [0.08806957 0.90230054 0.00962982]\n",
      "[1. 0. 0.] <-> [0.9183629  0.0236724  0.05796463]\n",
      "[1. 0. 0.] <-> [0.9482328  0.03274726 0.01901997]\n",
      "[1. 0. 0.] <-> [0.94227344 0.04063775 0.01708888]\n",
      "[1. 0. 0.] <-> [0.8725033  0.07707924 0.05041741]\n",
      "{'accuracy': 0.9691358024691358, 'mean_square_error': 0.09865216759057606, 'categorical_crossentropy': 0.2083968409785518, 'essential_metrics': {0: {'tp_hit': 78, 'fp_hit': 5, 'tn_hit': 25, 'fn_hit': 0}, 1: {'tp_hit': 14, 'fp_hit': 0, 'tn_hit': 92, 'fn_hit': 2}, 2: {'tp_hit': 11, 'fp_hit': 0, 'tn_hit': 94, 'fn_hit': 3}}}\n"
     ]
    }
   ],
   "source": [
    "# recall phase\n",
    "score = model.evaluate(x_test, y_test, False)\n",
    "print(score)"
   ]
  },
  {
   "cell_type": "code",
   "execution_count": 13,
   "metadata": {},
   "outputs": [
    {
     "name": "stdout",
     "output_type": "stream",
     "text": [
      "{'accuracy': 0.845679012345679, 'mean_square_error': 0.3396103798835772, 'categorical_crossentropy': 0.5427120703238028, 'essential_metrics': {0: {'tp_hit': 78, 'fp_hit': 25, 'tn_hit': 5, 'fn_hit': 0}, 1: {'tp_hit': 1, 'fp_hit': 0, 'tn_hit': 92, 'fn_hit': 15}, 2: {'tp_hit': 4, 'fp_hit': 0, 'tn_hit': 94, 'fn_hit': 10}}, 'checkpoint': 10} \n",
      "\n",
      "\n",
      "{'accuracy': 0.8518518518518519, 'mean_square_error': 0.3239642062430874, 'categorical_crossentropy': 0.5335520991572628, 'essential_metrics': {0: {'tp_hit': 78, 'fp_hit': 24, 'tn_hit': 6, 'fn_hit': 0}, 1: {'tp_hit': 3, 'fp_hit': 0, 'tn_hit': 92, 'fn_hit': 13}, 2: {'tp_hit': 3, 'fp_hit': 0, 'tn_hit': 94, 'fn_hit': 11}}, 'checkpoint': 20} \n",
      "\n",
      "\n",
      "{'accuracy': 0.845679012345679, 'mean_square_error': 0.31389022584758414, 'categorical_crossentropy': 0.5612484967267072, 'essential_metrics': {0: {'tp_hit': 78, 'fp_hit': 25, 'tn_hit': 5, 'fn_hit': 0}, 1: {'tp_hit': 0, 'fp_hit': 0, 'tn_hit': 92, 'fn_hit': 16}, 2: {'tp_hit': 5, 'fp_hit': 0, 'tn_hit': 94, 'fn_hit': 9}}, 'checkpoint': 30} \n",
      "\n",
      "\n",
      "{'accuracy': 0.8580246913580247, 'mean_square_error': 0.28951956164711296, 'categorical_crossentropy': 0.5018560268260814, 'essential_metrics': {0: {'tp_hit': 78, 'fp_hit': 23, 'tn_hit': 7, 'fn_hit': 0}, 1: {'tp_hit': 0, 'fp_hit': 0, 'tn_hit': 92, 'fn_hit': 16}, 2: {'tp_hit': 7, 'fp_hit': 0, 'tn_hit': 94, 'fn_hit': 7}}, 'checkpoint': 40} \n",
      "\n",
      "\n",
      "{'accuracy': 0.9197530864197531, 'mean_square_error': 0.2434305462010677, 'categorical_crossentropy': 0.4517547819349501, 'essential_metrics': {0: {'tp_hit': 77, 'fp_hit': 12, 'tn_hit': 18, 'fn_hit': 1}, 1: {'tp_hit': 13, 'fp_hit': 1, 'tn_hit': 91, 'fn_hit': 3}, 2: {'tp_hit': 5, 'fp_hit': 0, 'tn_hit': 94, 'fn_hit': 9}}, 'checkpoint': 50} \n",
      "\n",
      "\n",
      "{'accuracy': 0.8765432098765432, 'mean_square_error': 0.20830560542914506, 'categorical_crossentropy': 0.3775864707099067, 'essential_metrics': {0: {'tp_hit': 78, 'fp_hit': 20, 'tn_hit': 10, 'fn_hit': 0}, 1: {'tp_hit': 10, 'fp_hit': 0, 'tn_hit': 92, 'fn_hit': 6}, 2: {'tp_hit': 0, 'fp_hit': 0, 'tn_hit': 94, 'fn_hit': 14}}, 'checkpoint': 60} \n",
      "\n",
      "\n",
      "{'accuracy': 0.9320987654320988, 'mean_square_error': 0.17952353690634335, 'categorical_crossentropy': 0.3469629640932436, 'essential_metrics': {0: {'tp_hit': 78, 'fp_hit': 11, 'tn_hit': 19, 'fn_hit': 0}, 1: {'tp_hit': 10, 'fp_hit': 0, 'tn_hit': 92, 'fn_hit': 6}, 2: {'tp_hit': 9, 'fp_hit': 0, 'tn_hit': 94, 'fn_hit': 5}}, 'checkpoint': 70} \n",
      "\n",
      "\n",
      "{'accuracy': 0.9567901234567902, 'mean_square_error': 0.1290512799027613, 'categorical_crossentropy': 0.2929702158327456, 'essential_metrics': {0: {'tp_hit': 77, 'fp_hit': 6, 'tn_hit': 24, 'fn_hit': 1}, 1: {'tp_hit': 12, 'fp_hit': 0, 'tn_hit': 92, 'fn_hit': 4}, 2: {'tp_hit': 12, 'fp_hit': 1, 'tn_hit': 93, 'fn_hit': 2}}, 'checkpoint': 80} \n",
      "\n",
      "\n",
      "{'accuracy': 0.9814814814814815, 'mean_square_error': 0.11426557400647817, 'categorical_crossentropy': 0.26830332367508497, 'essential_metrics': {0: {'tp_hit': 78, 'fp_hit': 3, 'tn_hit': 27, 'fn_hit': 0}, 1: {'tp_hit': 16, 'fp_hit': 0, 'tn_hit': 92, 'fn_hit': 0}, 2: {'tp_hit': 11, 'fp_hit': 0, 'tn_hit': 94, 'fn_hit': 3}}, 'checkpoint': 90} \n",
      "\n",
      "\n",
      "{'accuracy': 0.9567901234567902, 'mean_square_error': 0.11481695058883135, 'categorical_crossentropy': 0.2572049211572718, 'essential_metrics': {0: {'tp_hit': 78, 'fp_hit': 7, 'tn_hit': 23, 'fn_hit': 0}, 1: {'tp_hit': 13, 'fp_hit': 0, 'tn_hit': 92, 'fn_hit': 3}, 2: {'tp_hit': 10, 'fp_hit': 0, 'tn_hit': 94, 'fn_hit': 4}}, 'checkpoint': 100} \n",
      "\n",
      "\n",
      "{'accuracy': 0.9567901234567902, 'mean_square_error': 0.11573529573792471, 'categorical_crossentropy': 0.2491503291659885, 'essential_metrics': {0: {'tp_hit': 78, 'fp_hit': 7, 'tn_hit': 23, 'fn_hit': 0}, 1: {'tp_hit': 14, 'fp_hit': 0, 'tn_hit': 92, 'fn_hit': 2}, 2: {'tp_hit': 9, 'fp_hit': 0, 'tn_hit': 94, 'fn_hit': 5}}, 'checkpoint': 110} \n",
      "\n",
      "\n",
      "{'accuracy': 0.9629629629629629, 'mean_square_error': 0.1042317135923178, 'categorical_crossentropy': 0.23124080234103733, 'essential_metrics': {0: {'tp_hit': 78, 'fp_hit': 6, 'tn_hit': 24, 'fn_hit': 0}, 1: {'tp_hit': 14, 'fp_hit': 0, 'tn_hit': 92, 'fn_hit': 2}, 2: {'tp_hit': 10, 'fp_hit': 0, 'tn_hit': 94, 'fn_hit': 4}}, 'checkpoint': 120} \n",
      "\n",
      "\n",
      "{'accuracy': 0.9506172839506173, 'mean_square_error': 0.1052902837568494, 'categorical_crossentropy': 0.22513386055275245, 'essential_metrics': {0: {'tp_hit': 78, 'fp_hit': 8, 'tn_hit': 22, 'fn_hit': 0}, 1: {'tp_hit': 12, 'fp_hit': 0, 'tn_hit': 92, 'fn_hit': 4}, 2: {'tp_hit': 10, 'fp_hit': 0, 'tn_hit': 94, 'fn_hit': 4}}, 'checkpoint': 130} \n",
      "\n",
      "\n",
      "{'accuracy': 0.9691358024691358, 'mean_square_error': 0.09656974829158115, 'categorical_crossentropy': 0.2129250102572971, 'essential_metrics': {0: {'tp_hit': 78, 'fp_hit': 5, 'tn_hit': 25, 'fn_hit': 0}, 1: {'tp_hit': 14, 'fp_hit': 0, 'tn_hit': 92, 'fn_hit': 2}, 2: {'tp_hit': 11, 'fp_hit': 0, 'tn_hit': 94, 'fn_hit': 3}}, 'checkpoint': 140} \n",
      "\n",
      "\n",
      "{'accuracy': 0.9691358024691358, 'mean_square_error': 0.08582923332536453, 'categorical_crossentropy': 0.2079544773808232, 'essential_metrics': {0: {'tp_hit': 77, 'fp_hit': 4, 'tn_hit': 26, 'fn_hit': 1}, 1: {'tp_hit': 15, 'fp_hit': 1, 'tn_hit': 91, 'fn_hit': 1}, 2: {'tp_hit': 11, 'fp_hit': 0, 'tn_hit': 94, 'fn_hit': 3}}, 'checkpoint': 150} \n",
      "\n",
      "\n",
      "{'accuracy': 0.9629629629629629, 'mean_square_error': 0.09682678826119447, 'categorical_crossentropy': 0.2128858389677825, 'essential_metrics': {0: {'tp_hit': 78, 'fp_hit': 6, 'tn_hit': 24, 'fn_hit': 0}, 1: {'tp_hit': 14, 'fp_hit': 0, 'tn_hit': 92, 'fn_hit': 2}, 2: {'tp_hit': 10, 'fp_hit': 0, 'tn_hit': 94, 'fn_hit': 4}}, 'checkpoint': 160} \n",
      "\n",
      "\n",
      "{'accuracy': 0.9629629629629629, 'mean_square_error': 0.10091424965015104, 'categorical_crossentropy': 0.21958467695448133, 'essential_metrics': {0: {'tp_hit': 77, 'fp_hit': 5, 'tn_hit': 25, 'fn_hit': 1}, 1: {'tp_hit': 14, 'fp_hit': 1, 'tn_hit': 91, 'fn_hit': 2}, 2: {'tp_hit': 11, 'fp_hit': 0, 'tn_hit': 94, 'fn_hit': 3}}, 'checkpoint': 170} \n",
      "\n",
      "\n",
      "{'accuracy': 0.9629629629629629, 'mean_square_error': 0.10091424965015104, 'categorical_crossentropy': 0.21958467695448133, 'essential_metrics': {0: {'tp_hit': 77, 'fp_hit': 5, 'tn_hit': 25, 'fn_hit': 1}, 1: {'tp_hit': 14, 'fp_hit': 1, 'tn_hit': 91, 'fn_hit': 2}, 2: {'tp_hit': 11, 'fp_hit': 0, 'tn_hit': 94, 'fn_hit': 3}}, 'checkpoint': 180} \n",
      "\n",
      "\n",
      "{'accuracy': 0.9691358024691358, 'mean_square_error': 0.08939411115673133, 'categorical_crossentropy': 0.20180850558810765, 'essential_metrics': {0: {'tp_hit': 78, 'fp_hit': 5, 'tn_hit': 25, 'fn_hit': 0}, 1: {'tp_hit': 14, 'fp_hit': 0, 'tn_hit': 92, 'fn_hit': 2}, 2: {'tp_hit': 11, 'fp_hit': 0, 'tn_hit': 94, 'fn_hit': 3}}, 'checkpoint': 190} \n",
      "\n",
      "\n",
      "{'accuracy': 0.9691358024691358, 'mean_square_error': 0.09865216759057606, 'categorical_crossentropy': 0.2083968409785518, 'essential_metrics': {0: {'tp_hit': 78, 'fp_hit': 5, 'tn_hit': 25, 'fn_hit': 0}, 1: {'tp_hit': 14, 'fp_hit': 0, 'tn_hit': 92, 'fn_hit': 2}, 2: {'tp_hit': 11, 'fp_hit': 0, 'tn_hit': 94, 'fn_hit': 3}}, 'checkpoint': 200} \n",
      "\n",
      "\n"
     ]
    }
   ],
   "source": [
    "for checkpoint in checkpoints:\n",
    "    print(checkpoint, '\\n\\n')"
   ]
  },
  {
   "cell_type": "code",
   "execution_count": 14,
   "metadata": {},
   "outputs": [
    {
     "name": "stdout",
     "output_type": "stream",
     "text": [
      "Layer 1\n",
      "Neuron 0: weights:\n",
      "[-1.4364341   1.8561693   1.6115775  -0.03863859 -0.04108049]\n",
      " bias: -1.5190831422805786\n",
      "\n",
      "Neuron 1: weights:\n",
      "[ 0.23873116 -1.3361546  -0.3266011   0.0234739   0.09422   ]\n",
      " bias: -0.004959046840667725\n",
      "\n",
      "Neuron 2: weights:\n",
      "[ 0.2211027   0.036288   -0.02515928  0.32216397  0.1211172 ]\n",
      " bias: -0.0773470550775528\n",
      "\n",
      "Neuron 3: weights:\n",
      "[-0.10420902  2.0095556  -0.11796873 -1.8864952  -1.0345587 ]\n",
      " bias: 1.4225032329559326\n",
      "\n",
      "$\n",
      "Layer 2\n",
      "Neuron 0: weights:\n",
      "[-3.          0.01812398 -0.5890302   3.        ]\n",
      " bias: 0.1238526776432991\n",
      "\n",
      "Neuron 1: weights:\n",
      "[ 3.         -1.3970934  -0.0144745  -0.02964926]\n",
      " bias: -0.6816701889038086\n",
      "\n",
      "Neuron 2: weights:\n",
      "[ 0.0497507   0.73918587  0.29627448 -3.        ]\n",
      " bias: 0.6033225655555725\n",
      "\n",
      "$\n",
      "\n"
     ]
    }
   ],
   "source": [
    "print(model)"
   ]
  }
 ],
 "metadata": {
  "kernelspec": {
   "display_name": "Python 3",
   "language": "python",
   "name": "python3"
  },
  "language_info": {
   "codemirror_mode": {
    "name": "ipython",
    "version": 3
   },
   "file_extension": ".py",
   "mimetype": "text/x-python",
   "name": "python",
   "nbconvert_exporter": "python",
   "pygments_lexer": "ipython3",
   "version": "3.6.12"
  }
 },
 "nbformat": 4,
 "nbformat_minor": 2
}
