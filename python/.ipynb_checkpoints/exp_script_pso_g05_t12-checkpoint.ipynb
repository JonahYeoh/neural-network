{
 "cells": [
  {
   "cell_type": "code",
   "execution_count": 1,
   "metadata": {},
   "outputs": [],
   "source": [
    "# dependency\n",
    "import numpy as np\n",
    "import pandas as pd\n",
    "import copy\n",
    "import math\n",
    "import sys\n",
    "import os\n",
    "from activations import relu, leaky_relu, sigmoid, tanh, softmax, d_sigmoid, d_relu\n",
    "from initializers import glorot_uniform, random_normal, random_uniform\n",
    "from regularizers import l1_regularizer, l2_regularizer\n",
    "from utility import trim_tail, multiply, subtract, get_nparams, one_hot_encoding, get_data\n",
    "from metrics import MSE, CCE, ACC, PRECISION, RECALL, essential_metrics, wondering_penalty, close_gap_penalty\n",
    "from pso import PSO\n",
    "from ga import GA\n",
    "from nn import Network\n",
    "from layer import DenseLayer\n",
    "from scalers import MinMaxScaler, StandardScaler"
   ]
  },
  {
   "cell_type": "code",
   "execution_count": 2,
   "metadata": {},
   "outputs": [],
   "source": [
    "# reference\n",
    "metrics_fn_dict = dict()\n",
    "metrics_fn_dict['accuracy'] = ACC\n",
    "metrics_fn_dict['categorical_crossentropy'] = CCE\n",
    "metrics_fn_dict['mean_square_error'] = MSE\n",
    "metrics_fn_dict['precision'] = PRECISION\n",
    "metrics_fn_dict['recall'] = RECALL\n",
    "metrics_fn_dict['essential_metrics'] = essential_metrics"
   ]
  },
  {
   "cell_type": "code",
   "execution_count": 3,
   "metadata": {},
   "outputs": [],
   "source": [
    "# model\n",
    "model = Network(5, lr = None)\n",
    "model.add_layer(DenseLayer(1, 4, True, afn=sigmoid, dafn=None, rfn=None))\n",
    "model.add_layer(DenseLayer(2, 3, True, afn=softmax, dafn=None, rfn=None))"
   ]
  },
  {
   "cell_type": "code",
   "execution_count": 4,
   "metadata": {},
   "outputs": [
    {
     "name": "stdout",
     "output_type": "stream",
     "text": [
      "see one see two 2 2\n"
     ]
    }
   ],
   "source": [
    "pso = PSO(dict(m = 100,\n",
    "    weight_constraint = [-3, 3], \n",
    "    velocity_constraint = [-0.1, 0.1],\n",
    "    c1 = 2,\n",
    "    c2 = 2,\n",
    "    w = 1,\n",
    "    w_decay = 1,\n",
    "    scale_hyperparameter = False,\n",
    "    regularizer = None,\n",
    "    mask = True))"
   ]
  },
  {
   "cell_type": "code",
   "execution_count": 5,
   "metadata": {},
   "outputs": [
    {
     "name": "stdout",
     "output_type": "stream",
     "text": [
      "building layer 1 with 5\n",
      "24\n",
      "building layer 2 with 4\n",
      "15\n"
     ]
    }
   ],
   "source": [
    "model.compile(loss_fn = 'categorical_crossentropy', optimizer = pso, \\\n",
    "    metrics = ['accuracy', 'mean_square_error', 'categorical_crossentropy'])"
   ]
  },
  {
   "cell_type": "code",
   "execution_count": 6,
   "metadata": {},
   "outputs": [
    {
     "name": "stdout",
     "output_type": "stream",
     "text": [
      "<class 'pandas.core.frame.DataFrame'>\n",
      "RangeIndex: 107 entries, 0 to 106\n",
      "Data columns (total 6 columns):\n",
      " #   Column  Non-Null Count  Dtype  \n",
      "---  ------  --------------  -----  \n",
      " 0   f1      107 non-null    float32\n",
      " 1   f2      107 non-null    float32\n",
      " 2   f3      107 non-null    float32\n",
      " 3   f4      107 non-null    float32\n",
      " 4   f5      107 non-null    float32\n",
      " 5   label   107 non-null    float32\n",
      "dtypes: float32(6)\n",
      "memory usage: 2.6 KB\n",
      "None\n",
      "<class 'pandas.core.frame.DataFrame'>\n",
      "RangeIndex: 108 entries, 0 to 107\n",
      "Data columns (total 6 columns):\n",
      " #   Column  Non-Null Count  Dtype  \n",
      "---  ------  --------------  -----  \n",
      " 0   f1      108 non-null    float32\n",
      " 1   f2      108 non-null    float32\n",
      " 2   f3      108 non-null    float32\n",
      " 3   f4      108 non-null    float32\n",
      " 4   f5      108 non-null    float32\n",
      " 5   label   108 non-null    float32\n",
      "dtypes: float32(6)\n",
      "memory usage: 2.7 KB\n",
      "None\n"
     ]
    }
   ],
   "source": [
    "# data loading\n",
    "DATA = os.path.join('c:\\\\Users\\\\tcumi\\\\github_repo\\\\neural-network\\\\', 'dataset')\n",
    "GROUP = 5\n",
    "COLUMNS = ['f1', 'f2', 'f3', 'f4', 'f5', 'label']\n",
    "N_CLASS = 3\n",
    "EPOCHS = 500\n",
    "train_dir, test_dir = \"..//dataset//training_data{}.txt\".format(GROUP), \"..//dataset//testing_data{}.txt\".format(GROUP)\n",
    "train, test = get_data(DATA, train_dir, COLUMNS), get_data(DATA, test_dir, COLUMNS)\n",
    "# shuffle\n",
    "train, test = train.sample(frac=1), test.sample(frac=1)\n",
    "x_train, y_train = train.drop('label', axis=1), train['label']\n",
    "x_test, y_test = test.drop('label', axis=1), test['label']"
   ]
  },
  {
   "cell_type": "code",
   "execution_count": 7,
   "metadata": {},
   "outputs": [],
   "source": [
    "# data scaling and encoding\n",
    "scaler = StandardScaler(['f1', 'f2', 'f3', 'f4', 'f5'])\n",
    "scaler.fit(x_train)\n",
    "x_train = scaler.transform(x_train)\n",
    "x_test = scaler.transform(x_test)\n",
    "y_train = one_hot_encoding(y_train, N_CLASS)\n",
    "y_test = one_hot_encoding(y_test, N_CLASS)"
   ]
  },
  {
   "cell_type": "code",
   "execution_count": 8,
   "metadata": {
    "tags": [
     "outputPrepend"
    ]
   },
   "outputs": [
    {
     "name": "stdout",
     "output_type": "stream",
     "text": [
      "Checkpoint 100, Accuracy: 0.9691358024691358, Loss: 0.23365917912235967\n",
      "Checkpoint 200, Accuracy: 0.9567901234567902, Loss: 0.1533861336884675\n",
      "Checkpoint 300, Accuracy: 0.9506172839506173, Loss: 0.1494392642268428\n",
      "Checkpoint 400, Accuracy: 0.9567901234567902, Loss: 0.13880770294754594\n",
      "Checkpoint 500, Accuracy: 0.9567901234567902, Loss: 0.13880770294754594\n"
     ]
    }
   ],
   "source": [
    "# learning phase\n",
    "breakpoint = 100\n",
    "checkpoints = list()\n",
    "history = list()\n",
    "for century in range(0, EPOCHS, breakpoint):\n",
    "    sub_history = model.fit(x_train, y_train, breakpoint, verbose = 0)\n",
    "    score = model.evaluate(x_test, y_test, False, verbose = 0)\n",
    "    print('Checkpoint {}, Accuracy: {}, Loss: {}'.format(century+breakpoint, score['accuracy'], score[model.loss_fn]))\n",
    "    score['checkpoint'] = century + breakpoint\n",
    "    checkpoints.append(score)\n",
    "    history.extend(sub_history)"
   ]
  },
  {
   "cell_type": "code",
   "execution_count": 9,
   "metadata": {},
   "outputs": [],
   "source": [
    "import matplotlib.pyplot as plt\n",
    "\n",
    "def draw_plot(x, y_list, x_label=None, y_label=None, legend=None, title=None):\n",
    "    fig, ax = plt.subplots(figsize=(12,5))\n",
    "    for xi, yi in zip(x, y_list):\n",
    "        ax.plot(xi, yi)\n",
    "    if x_label is not None and y_label is not None:\n",
    "        ax.set(xlabel=x_label, ylabel=y_label, title='{} VS {}'.format(x_label, y_label))\n",
    "    if legend is not None:\n",
    "        ax.legend(legend)\n",
    "    ax.grid()\n",
    "    plt.show()"
   ]
  },
  {
   "cell_type": "code",
   "execution_count": 10,
   "metadata": {},
   "outputs": [
    {
     "name": "stdout",
     "output_type": "stream",
     "text": [
      "[0. 0. 1.] <-> [9.3909299e-01 9.0658281e-04 6.0000382e-02]\n",
      "[1. 0. 0.] <-> [9.9419940e-01 4.8621339e-03 9.3840604e-04]\n",
      "[1. 0. 0.] <-> [9.9792373e-01 1.2780557e-03 7.9819543e-04]\n",
      "[1. 0. 0.] <-> [8.244974e-01 7.905175e-04 1.747121e-01]\n",
      "[1. 0. 0.] <-> [0.9978884  0.00105058 0.00106094]\n",
      "[1. 0. 0.] <-> [9.9805224e-01 1.1790186e-03 7.6874741e-04]\n",
      "[1. 0. 0.] <-> [7.7591914e-01 7.4543519e-04 2.2333537e-01]\n",
      "[0. 1. 0.] <-> [6.3882801e-03 9.9337173e-01 2.4003867e-04]\n",
      "[1. 0. 0.] <-> [9.9559814e-01 3.5049797e-03 8.9689699e-04]\n",
      "[1. 0. 0.] <-> [9.7952831e-01 9.4299047e-04 1.9528667e-02]\n",
      "[0. 1. 0.] <-> [0.05963997 0.93926936 0.0010907 ]\n",
      "[1. 0. 0.] <-> [9.108837e-01 8.766844e-04 8.823950e-02]\n",
      "[0. 1. 0.] <-> [0.18113105 0.816825   0.00204399]\n",
      "[1. 0. 0.] <-> [9.9798214e-01 1.2965290e-03 7.2132709e-04]\n",
      "[1. 0. 0.] <-> [9.9792635e-01 1.1384612e-03 9.3514117e-04]\n",
      "[1. 0. 0.] <-> [0.9708827  0.02741201 0.00170527]\n",
      "[0. 1. 0.] <-> [0.9158725  0.08158039 0.00254705]\n",
      "[1. 0. 0.] <-> [9.9553150e-01 9.6779445e-04 3.5007598e-03]\n",
      "[1. 0. 0.] <-> [9.9804902e-01 1.0591894e-03 8.9180015e-04]\n",
      "[1. 0. 0.] <-> [3.3631814e-01 3.2219960e-04 6.6335970e-01]\n",
      "[0. 1. 0.] <-> [6.6728634e-03 9.9307972e-01 2.4741911e-04]\n",
      "[1. 0. 0.] <-> [9.9806374e-01 1.1047799e-03 8.3145045e-04]\n",
      "[0. 0. 1.] <-> [2.1084832e-01 2.0246042e-04 7.8894919e-01]\n",
      "[1. 0. 0.] <-> [9.9781597e-01 1.5021369e-03 6.8196142e-04]\n",
      "[0. 1. 0.] <-> [6.3937991e-03 9.9336606e-01 2.4017424e-04]\n",
      "[1. 0. 0.] <-> [0.99762493 0.00102924 0.0013459 ]\n",
      "[1. 0. 0.] <-> [9.9791580e-01 1.2310669e-03 8.5310562e-04]\n",
      "[1. 0. 0.] <-> [9.938309e-01 9.738317e-04 5.195218e-03]\n",
      "[1. 0. 0.] <-> [9.9686384e-01 2.2098424e-03 9.2626613e-04]\n",
      "[1. 0. 0.] <-> [0.9976647  0.00117621 0.00115914]\n",
      "[0. 0. 1.] <-> [1.18920375e-02 1.13623119e-05 9.88096595e-01]\n",
      "[1. 0. 0.] <-> [0.99778867 0.00106309 0.0011482 ]\n",
      "[1. 0. 0.] <-> [0.9977309  0.00100174 0.00126747]\n",
      "[1. 0. 0.] <-> [9.9746019e-01 1.7594945e-03 7.8039389e-04]\n",
      "[1. 0. 0.] <-> [0.9961132  0.00103043 0.00285627]\n",
      "[1. 0. 0.] <-> [9.6796483e-01 9.3302544e-04 3.1102080e-02]\n",
      "[1. 0. 0.] <-> [9.9797696e-01 1.1999495e-03 8.2314329e-04]\n",
      "[0. 0. 1.] <-> [1.1882253e-02 1.1392622e-05 9.8810637e-01]\n",
      "[0. 0. 1.] <-> [1.1927922e-02 1.1400343e-05 9.8806059e-01]\n",
      "[1. 0. 0.] <-> [9.9772304e-01 1.4266223e-03 8.5024815e-04]\n",
      "[1. 0. 0.] <-> [9.9452055e-01 4.5440001e-03 9.3545264e-04]\n",
      "[1. 0. 0.] <-> [9.937909e-01 9.812443e-04 5.227798e-03]\n",
      "[1. 0. 0.] <-> [9.9793673e-01 1.1127215e-03 9.5064309e-04]\n",
      "[1. 0. 0.] <-> [9.9798965e-01 1.2699805e-03 7.4034790e-04]\n",
      "[0. 1. 0.] <-> [0.7003288  0.2965963  0.00307487]\n",
      "[0. 0. 1.] <-> [1.1164570e-02 1.3486435e-05 9.8882198e-01]\n",
      "[1. 0. 0.] <-> [0.9967512  0.00100745 0.00224129]\n",
      "[1. 0. 0.] <-> [9.9773681e-01 1.4259442e-03 8.3717325e-04]\n",
      "[1. 0. 0.] <-> [9.9797720e-01 1.2238397e-03 7.9900894e-04]\n",
      "[0. 0. 1.] <-> [1.1901830e-02 1.1371739e-05 9.8808682e-01]\n",
      "[1. 0. 0.] <-> [9.8518270e-01 9.4627915e-04 1.3871100e-02]\n",
      "[0. 0. 1.] <-> [1.1909499e-02 1.1379179e-05 9.8807913e-01]\n",
      "[0. 1. 0.] <-> [6.5727402e-03 9.9318284e-01 2.4433562e-04]\n",
      "[0. 1. 0.] <-> [0.22771612 0.7701567  0.00212723]\n",
      "[1. 0. 0.] <-> [9.9803263e-01 1.2729636e-03 6.9451000e-04]\n",
      "[1. 0. 0.] <-> [9.9807656e-01 1.1603844e-03 7.6298328e-04]\n",
      "[1. 0. 0.] <-> [9.7344548e-01 9.4129506e-04 2.5613146e-02]\n",
      "[1. 0. 0.] <-> [9.9576497e-01 9.7465271e-04 3.2603822e-03]\n",
      "[1. 0. 0.] <-> [9.9751592e-01 9.9616544e-04 1.4879422e-03]\n",
      "[1. 0. 0.] <-> [9.9773490e-01 1.5955652e-03 6.6946587e-04]\n",
      "[0. 1. 0.] <-> [2.961001e-02 9.697649e-01 6.250828e-04]\n",
      "[1. 0. 0.] <-> [0.99728906 0.00102134 0.00168961]\n",
      "[0. 0. 1.] <-> [1.1900619e-02 1.1370668e-05 9.8808795e-01]\n",
      "[1. 0. 0.] <-> [0.9921503  0.00109766 0.00675197]\n",
      "[1. 0. 0.] <-> [9.9734324e-01 1.9052780e-03 7.5150526e-04]\n",
      "[0. 1. 0.] <-> [6.3882582e-03 9.9337173e-01 2.4003822e-04]\n",
      "[0. 0. 1.] <-> [1.1897800e-02 1.1376321e-05 9.8809087e-01]\n",
      "[1. 0. 0.] <-> [9.8815352e-01 9.5713069e-04 1.0889361e-02]\n",
      "[0. 1. 0.] <-> [0.60835403 0.38844943 0.00319654]\n",
      "[1. 0. 0.] <-> [9.6900719e-01 9.3294273e-04 3.0059915e-02]\n",
      "[1. 0. 0.] <-> [9.8719853e-01 9.5390546e-04 1.1847523e-02]\n",
      "[0. 1. 0.] <-> [6.3885879e-03 9.9337137e-01 2.4004729e-04]\n",
      "[1. 0. 0.] <-> [0.99145824 0.00099241 0.00754938]\n",
      "[0. 1. 0.] <-> [6.3881883e-03 9.9337173e-01 2.4003616e-04]\n",
      "[1. 0. 0.] <-> [4.9192283e-01 4.7275005e-04 5.0760442e-01]\n",
      "[1. 0. 0.] <-> [9.9679083e-01 2.4139171e-03 7.9524046e-04]\n",
      "[1. 0. 0.] <-> [9.9776876e-01 1.5220447e-03 7.0923846e-04]\n",
      "[0. 0. 1.] <-> [1.1892021e-02 1.1362637e-05 9.8809659e-01]\n",
      "[1. 0. 0.] <-> [5.7200384e-01 5.4794631e-04 4.2744815e-01]\n",
      "[1. 0. 0.] <-> [0.9974564  0.00107202 0.00147158]\n",
      "[1. 0. 0.] <-> [0.99611354 0.0010121  0.00287442]\n",
      "[1. 0. 0.] <-> [9.9769324e-01 1.5654799e-03 7.4120029e-04]\n",
      "[1. 0. 0.] <-> [0.97987556 0.01855646 0.00156792]\n",
      "[1. 0. 0.] <-> [0.9976634  0.00105225 0.0012843 ]\n",
      "[0. 0. 1.] <-> [1.1891158e-02 1.1364545e-05 9.8809749e-01]\n",
      "[1. 0. 0.] <-> [9.9480116e-01 9.7080850e-04 4.2280797e-03]\n",
      "[1. 0. 0.] <-> [9.9800187e-01 1.0893424e-03 9.0876379e-04]\n",
      "[1. 0. 0.] <-> [9.9676430e-01 9.9260220e-04 2.2430136e-03]\n",
      "[1. 0. 0.] <-> [9.9735010e-01 1.8895232e-03 7.6037337e-04]\n",
      "[1. 0. 0.] <-> [9.9804294e-01 1.1591646e-03 7.9786609e-04]\n",
      "[1. 0. 0.] <-> [0.9978527  0.00106155 0.0010858 ]\n",
      "[1. 0. 0.] <-> [9.7031277e-01 9.3247247e-04 2.8754797e-02]\n",
      "[0. 0. 1.] <-> [9.5535952e-01 9.2181400e-04 4.3718692e-02]\n",
      "[1. 0. 0.] <-> [9.9626833e-01 2.9009210e-03 8.3081599e-04]\n",
      "[0. 1. 0.] <-> [1.3113173e-02 9.8649967e-01 3.8712349e-04]\n",
      "[0. 0. 1.] <-> [9.0402812e-03 2.3841205e-05 9.9093586e-01]\n",
      "[1. 0. 0.] <-> [9.9782085e-01 1.2970755e-03 8.8210008e-04]\n",
      "[0. 1. 0.] <-> [6.3882368e-03 9.9337173e-01 2.4003752e-04]\n",
      "[1. 0. 0.] <-> [0.997914   0.00108379 0.00100213]\n",
      "[1. 0. 0.] <-> [9.9755728e-01 1.6145485e-03 8.2810968e-04]\n",
      "[0. 0. 1.] <-> [1.1888828e-02 1.1370458e-05 9.8809981e-01]\n",
      "[1. 0. 0.] <-> [9.9804139e-01 1.1317522e-03 8.2684215e-04]\n",
      "[1. 0. 0.] <-> [9.9777919e-01 1.2538589e-03 9.6684275e-04]\n",
      "[1. 0. 0.] <-> [9.9783957e-01 1.1807036e-03 9.7969046e-04]\n",
      "[1. 0. 0.] <-> [9.9785417e-01 1.3155994e-03 8.3023327e-04]\n",
      "[1. 0. 0.] <-> [9.6483529e-01 9.2931243e-04 3.4235418e-02]\n",
      "[1. 0. 0.] <-> [9.6598947e-01 9.3848380e-04 3.3072077e-02]\n",
      "[0. 1. 0.] <-> [6.3882004e-03 9.9337173e-01 2.4003639e-04]\n",
      "{'accuracy': 0.9567901234567902, 'mean_square_error': 0.08549975858263605, 'categorical_crossentropy': 0.13880770294754594, 'essential_metrics': {0: {'tp_hit': 74, 'fp_hit': 5, 'tn_hit': 27, 'fn_hit': 2}, 1: {'tp_hit': 14, 'fp_hit': 0, 'tn_hit': 91, 'fn_hit': 3}, 2: {'tp_hit': 13, 'fp_hit': 2, 'tn_hit': 91, 'fn_hit': 2}}}\n"
     ]
    }
   ],
   "source": [
    "# recall phase\n",
    "score = model.evaluate(x_test, y_test, False)\n",
    "print(score)"
   ]
  },
  {
   "cell_type": "code",
   "execution_count": 11,
   "metadata": {},
   "outputs": [
    {
     "data": {
      "image/png": "[encoded data removed]",
      "text/plain": [
       "<Figure size 864x360 with 1 Axes>"
      ]
     },
     "metadata": {
      "needs_background": "light"
     },
     "output_type": "display_data"
    },
    {
     "data": {
      "image/png": "[encoded data removed]",
      "text/plain": [
       "<Figure size 864x360 with 1 Axes>"
      ]
     },
     "metadata": {
      "needs_background": "light"
     },
     "output_type": "display_data"
    }
   ],
   "source": [
    "draw_plot(x = [[i for i in range(len(history))], [(i+1)*breakpoint for i in range(len(checkpoints))]], y_list = [history, [ ckp[model.loss_fn] for ckp in checkpoints ]], x_label = 'Epochs', \\\n",
    "    y_label = model.loss_fn, legend=['train', 'test'])\n",
    "acc = [ ckp['accuracy'] for ckp in checkpoints ]\n",
    "draw_plot(x = [[(i+1)*breakpoint for i in range(len(checkpoints))]], y_list = [acc], x_label = 'Checkpoints', \\\n",
    "    y_label = 'accuracy')"
   ]
  },
  {
   "cell_type": "code",
   "execution_count": 12,
   "metadata": {},
   "outputs": [
    {
     "name": "stdout",
     "output_type": "stream",
     "text": [
      "{'accuracy': 0.9691358024691358, 'mean_square_error': 0.11231214199080036, 'categorical_crossentropy': 0.23365917912235967, 'essential_metrics': {0: {'tp_hit': 76, 'fp_hit': 5, 'tn_hit': 27, 'fn_hit': 0}, 1: {'tp_hit': 15, 'fp_hit': 0, 'tn_hit': 91, 'fn_hit': 2}, 2: {'tp_hit': 12, 'fp_hit': 0, 'tn_hit': 93, 'fn_hit': 3}}, 'checkpoint': 100} \n",
      "\n",
      "\n",
      "{'accuracy': 0.9567901234567902, 'mean_square_error': 0.09316278565655003, 'categorical_crossentropy': 0.1533861336884675, 'essential_metrics': {0: {'tp_hit': 74, 'fp_hit': 5, 'tn_hit': 27, 'fn_hit': 2}, 1: {'tp_hit': 14, 'fp_hit': 0, 'tn_hit': 91, 'fn_hit': 3}, 2: {'tp_hit': 13, 'fp_hit': 2, 'tn_hit': 91, 'fn_hit': 2}}, 'checkpoint': 200} \n",
      "\n",
      "\n",
      "{'accuracy': 0.9506172839506173, 'mean_square_error': 0.09072939717184575, 'categorical_crossentropy': 0.1494392642268428, 'essential_metrics': {0: {'tp_hit': 73, 'fp_hit': 5, 'tn_hit': 27, 'fn_hit': 3}, 1: {'tp_hit': 14, 'fp_hit': 0, 'tn_hit': 91, 'fn_hit': 3}, 2: {'tp_hit': 13, 'fp_hit': 3, 'tn_hit': 90, 'fn_hit': 2}}, 'checkpoint': 300} \n",
      "\n",
      "\n",
      "{'accuracy': 0.9567901234567902, 'mean_square_error': 0.08549975858263605, 'categorical_crossentropy': 0.13880770294754594, 'essential_metrics': {0: {'tp_hit': 74, 'fp_hit': 5, 'tn_hit': 27, 'fn_hit': 2}, 1: {'tp_hit': 14, 'fp_hit': 0, 'tn_hit': 91, 'fn_hit': 3}, 2: {'tp_hit': 13, 'fp_hit': 2, 'tn_hit': 91, 'fn_hit': 2}}, 'checkpoint': 400} \n",
      "\n",
      "\n",
      "{'accuracy': 0.9567901234567902, 'mean_square_error': 0.08549975858263605, 'categorical_crossentropy': 0.13880770294754594, 'essential_metrics': {0: {'tp_hit': 74, 'fp_hit': 5, 'tn_hit': 27, 'fn_hit': 2}, 1: {'tp_hit': 14, 'fp_hit': 0, 'tn_hit': 91, 'fn_hit': 3}, 2: {'tp_hit': 13, 'fp_hit': 2, 'tn_hit': 91, 'fn_hit': 2}}, 'checkpoint': 500} \n",
      "\n",
      "\n"
     ]
    }
   ],
   "source": [
    "for checkpoint in checkpoints:\n",
    "    print(checkpoint, '\\n\\n')"
   ]
  },
  {
   "cell_type": "code",
   "execution_count": 13,
   "metadata": {},
   "outputs": [
    {
     "name": "stdout",
     "output_type": "stream",
     "text": [
      "Layer 1\n",
      "Neuron 0: weights:\n",
      "[-1.3649893  3.         0.6706888 -3.        -1.0818964]\n",
      " bias: 3.0\n",
      "\n",
      "Neuron 1: weights:\n",
      "[ 1.6764386 -2.4688728 -3.         3.         1.5015936]\n",
      " bias: -3.0\n",
      "\n",
      "Neuron 2: weights:\n",
      "[ 1.8865262 -3.        -2.0063796 -3.         1.8071641]\n",
      " bias: 3.0\n",
      "\n",
      "Neuron 3: weights:\n",
      "[ 2.0166543  -3.         -3.         -1.1716946   0.58498794]\n",
      " bias: 3.0\n",
      "\n",
      "$\n",
      "Layer 2\n",
      "Neuron 0: weights:\n",
      "[ 3. -3.  3.  3.]\n",
      " bias: -3.0\n",
      "\n",
      "Neuron 1: weights:\n",
      "[ 3. -3. -3. -3.]\n",
      " bias: 2.046654224395752\n",
      "\n",
      "Neuron 2: weights:\n",
      "[-3.         3.         1.3663865  0.3349344]\n",
      " bias: -0.2814164459705353\n",
      "\n",
      "$\n",
      "\n"
     ]
    }
   ],
   "source": [
    "print(model)"
   ]
  }
 ],
 "metadata": {
  "kernelspec": {
   "display_name": "Python 3",
   "language": "python",
   "name": "python3"
  },
  "language_info": {
   "codemirror_mode": {
    "name": "ipython",
    "version": 3
   },
   "file_extension": ".py",
   "mimetype": "text/x-python",
   "name": "python",
   "nbconvert_exporter": "python",
   "pygments_lexer": "ipython3",
   "version": "3.6.10"
  }
 },
 "nbformat": 4,
 "nbformat_minor": 2
}
