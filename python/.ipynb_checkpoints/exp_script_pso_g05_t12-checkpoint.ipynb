{
 "cells": [
  {
   "cell_type": "code",
   "execution_count": 1,
   "metadata": {},
   "outputs": [],
   "source": [
    "# dependency\n",
    "import numpy as np\n",
    "import pandas as pd\n",
    "import copy\n",
    "import math\n",
    "import sys\n",
    "import os\n",
    "from activations import relu, leaky_relu, sigmoid, tanh, softmax, d_sigmoid, d_relu\n",
    "from initializers import glorot_uniform, random_normal, random_uniform\n",
    "from regularizers import l1_regularizer, l2_regularizer\n",
    "from utility import trim_tail, multiply, subtract, get_nparams, one_hot_encoding, get_data\n",
    "from metrics import MSE, CCE, ACC, PRECISION, RECALL, essential_metrics, wondering_penalty, close_gap_penalty\n",
    "from pso import PSO\n",
    "from ga import GA\n",
    "from nn import Network\n",
    "from layer import DenseLayer\n",
    "from scalers import MinMaxScaler, StandardScaler"
   ]
  },
  {
   "cell_type": "code",
   "execution_count": 2,
   "metadata": {},
   "outputs": [],
   "source": [
    "# reference\n",
    "metrics_fn_dict = dict()\n",
    "metrics_fn_dict['accuracy'] = ACC\n",
    "metrics_fn_dict['categorical_crossentropy'] = CCE\n",
    "metrics_fn_dict['mean_square_error'] = MSE\n",
    "metrics_fn_dict['precision'] = PRECISION\n",
    "metrics_fn_dict['recall'] = RECALL\n",
    "metrics_fn_dict['essential_metrics'] = essential_metrics"
   ]
  },
  {
   "cell_type": "code",
   "execution_count": 3,
   "metadata": {},
   "outputs": [],
   "source": [
    "# model\n",
    "model = Network(5, lr = None)\n",
    "model.add_layer(DenseLayer(1, 4, True, afn=sigmoid, dafn=None, rfn=None))\n",
    "model.add_layer(DenseLayer(2, 3, True, afn=softmax, dafn=None, rfn=None))"
   ]
  },
  {
   "cell_type": "code",
   "execution_count": 4,
   "metadata": {},
   "outputs": [
    {
     "name": "stdout",
     "output_type": "stream",
     "text": [
      "see one see two 2 2\n"
     ]
    }
   ],
   "source": [
    "pso = PSO(dict(m = 100,\n",
    "    weight_constraint = [-3, 3], \n",
    "    velocity_constraint = [-0.1, 0.1],\n",
    "    c1 = 2,\n",
    "    c2 = 2,\n",
    "    w = 1,\n",
    "    w_decay = 1,\n",
    "    scale_hyperparameter = False,\n",
    "    regularizer = None,\n",
    "    mask = True))"
   ]
  },
  {
   "cell_type": "code",
   "execution_count": 5,
   "metadata": {},
   "outputs": [
    {
     "name": "stdout",
     "output_type": "stream",
     "text": [
      "building layer 1 with 5\n",
      "24\n",
      "building layer 2 with 4\n",
      "15\n"
     ]
    }
   ],
   "source": [
    "model.compile(loss_fn = 'categorical_crossentropy', optimizer = pso, \\\n",
    "    metrics = ['accuracy', 'mean_square_error', 'categorical_crossentropy'])"
   ]
  },
  {
   "cell_type": "code",
   "execution_count": 6,
   "metadata": {},
   "outputs": [
    {
     "name": "stdout",
     "output_type": "stream",
     "text": [
      "<class 'pandas.core.frame.DataFrame'>\n",
      "RangeIndex: 107 entries, 0 to 106\n",
      "Data columns (total 6 columns):\n",
      " #   Column  Non-Null Count  Dtype  \n",
      "---  ------  --------------  -----  \n",
      " 0   f1      107 non-null    float32\n",
      " 1   f2      107 non-null    float32\n",
      " 2   f3      107 non-null    float32\n",
      " 3   f4      107 non-null    float32\n",
      " 4   f5      107 non-null    float32\n",
      " 5   label   107 non-null    float32\n",
      "dtypes: float32(6)\n",
      "memory usage: 2.6 KB\n",
      "None\n",
      "<class 'pandas.core.frame.DataFrame'>\n",
      "RangeIndex: 108 entries, 0 to 107\n",
      "Data columns (total 6 columns):\n",
      " #   Column  Non-Null Count  Dtype  \n",
      "---  ------  --------------  -----  \n",
      " 0   f1      108 non-null    float32\n",
      " 1   f2      108 non-null    float32\n",
      " 2   f3      108 non-null    float32\n",
      " 3   f4      108 non-null    float32\n",
      " 4   f5      108 non-null    float32\n",
      " 5   label   108 non-null    float32\n",
      "dtypes: float32(6)\n",
      "memory usage: 2.7 KB\n",
      "None\n"
     ]
    }
   ],
   "source": [
    "# data loading\n",
    "DATA = os.path.join('c:\\\\Users\\\\tcumi\\\\github_repo\\\\neural-network\\\\', 'dataset')\n",
    "GROUP = 5\n",
    "COLUMNS = ['f1', 'f2', 'f3', 'f4', 'f5', 'label']\n",
    "N_CLASS = 3\n",
    "EPOCHS = 500\n",
    "train_dir, test_dir = \"..//dataset//training_data{}.txt\".format(GROUP), \"..//dataset//testing_data{}.txt\".format(GROUP)\n",
    "train, test = get_data(DATA, train_dir, COLUMNS), get_data(DATA, test_dir, COLUMNS)\n",
    "# shuffle\n",
    "train, test = train.sample(frac=1), test.sample(frac=1)\n",
    "x_train, y_train = train.drop('label', axis=1), train['label']\n",
    "x_test, y_test = test.drop('label', axis=1), test['label']"
   ]
  },
  {
   "cell_type": "code",
   "execution_count": 7,
   "metadata": {},
   "outputs": [],
   "source": [
    "# data scaling and encoding\n",
    "scaler = StandardScaler(['f1', 'f2', 'f3', 'f4', 'f5'])\n",
    "scaler.fit(x_train)\n",
    "x_train = scaler.transform(x_train)\n",
    "x_test = scaler.transform(x_test)\n",
    "y_train = one_hot_encoding(y_train, N_CLASS)\n",
    "y_test = one_hot_encoding(y_test, N_CLASS)"
   ]
  },
  {
   "cell_type": "code",
   "execution_count": 8,
   "metadata": {
    "tags": [
     "outputPrepend"
    ]
   },
   "outputs": [
    {
     "name": "stdout",
     "output_type": "stream",
     "text": [
      "Checkpoint 100, Accuracy: 0.9567901234567902, Loss: 0.16507932874891493\n",
      "Checkpoint 200, Accuracy: 0.9691358024691358, Loss: 0.09703438370316117\n",
      "Checkpoint 300, Accuracy: 0.9691358024691358, Loss: 0.11634808116488987\n",
      "Checkpoint 400, Accuracy: 0.9691358024691358, Loss: 0.11704234723691587\n",
      "Checkpoint 500, Accuracy: 0.9691358024691358, Loss: 0.11596906626666034\n"
     ]
    }
   ],
   "source": [
    "# learning phase\n",
    "breakpoint = 100\n",
    "checkpoints = list()\n",
    "history = list()\n",
    "for century in range(0, EPOCHS, breakpoint):\n",
    "    sub_history = model.fit(x_train, y_train, breakpoint, verbose = 0)\n",
    "    score = model.evaluate(x_test, y_test, False, verbose = 0)\n",
    "    print('Checkpoint {}, Accuracy: {}, Loss: {}'.format(century+breakpoint, score['accuracy'], score[model.loss_fn]))\n",
    "    score['checkpoint'] = century + breakpoint\n",
    "    checkpoints.append(score)\n",
    "    history.extend(sub_history)"
   ]
  },
  {
   "cell_type": "code",
   "execution_count": 9,
   "metadata": {},
   "outputs": [],
   "source": [
    "import matplotlib.pyplot as plt\n",
    "\n",
    "def draw_plot(x, y_list, x_label=None, y_label=None, legend=None, title=None):\n",
    "    fig, ax = plt.subplots(figsize=(12,5))\n",
    "    for xi, yi in zip(x, y_list):\n",
    "        ax.plot(xi, yi)\n",
    "    if x_label is not None and y_label is not None:\n",
    "        ax.set(xlabel=x_label, ylabel=y_label, title='{} VS {}'.format(x_label, y_label))\n",
    "    if legend is not None:\n",
    "        ax.legend(legend)\n",
    "    ax.grid()\n",
    "    plt.show()"
   ]
  },
  {
   "cell_type": "code",
   "execution_count": 10,
   "metadata": {},
   "outputs": [
    {
     "name": "stdout",
     "output_type": "stream",
     "text": [
      "[1. 0. 0.] <-> [9.9773151e-01 1.5994835e-03 6.6903181e-04]\n",
      "[1. 0. 0.] <-> [0.9973647  0.00120422 0.0014311 ]\n",
      "[1. 0. 0.] <-> [9.9778467e-01 1.5416078e-03 6.7375734e-04]\n",
      "[1. 0. 0.] <-> [0.995295   0.00106513 0.00363989]\n",
      "[0. 0. 1.] <-> [1.0456785e-02 1.5878462e-05 9.8952734e-01]\n",
      "[1. 0. 0.] <-> [0.99680495 0.00101001 0.00218505]\n",
      "[1. 0. 0.] <-> [0.591643   0.00073378 0.40762326]\n",
      "[1. 0. 0.] <-> [9.9805909e-01 1.0563341e-03 8.8454288e-04]\n",
      "[1. 0. 0.] <-> [9.9792081e-01 1.1335694e-03 9.4564346e-04]\n",
      "[0. 1. 0.] <-> [6.7794127e-03 9.9319381e-01 2.6702652e-05]\n",
      "[1. 0. 0.] <-> [0.997701   0.00104719 0.00125176]\n",
      "[0. 1. 0.] <-> [6.6704215e-03 9.9330336e-01 2.6223855e-05]\n",
      "[1. 0. 0.] <-> [9.9781203e-01 1.4458830e-03 7.4203010e-04]\n",
      "[1. 0. 0.] <-> [9.9735129e-01 1.9235717e-03 7.2511315e-04]\n",
      "[1. 0. 0.] <-> [0.97918326 0.00106824 0.01974849]\n",
      "[1. 0. 0.] <-> [9.9740571e-01 1.8572932e-03 7.3695695e-04]\n",
      "[1. 0. 0.] <-> [0.99772805 0.00101873 0.00125321]\n",
      "[1. 0. 0.] <-> [0.99768853 0.00104031 0.00127115]\n",
      "[1. 0. 0.] <-> [0.96510434 0.00108862 0.03380708]\n",
      "[0. 1. 0.] <-> [0.9118345  0.08677735 0.00138825]\n",
      "[1. 0. 0.] <-> [0.99254227 0.00118854 0.00626915]\n",
      "[0. 1. 0.] <-> [0.70018727 0.29884842 0.00096434]\n",
      "[1. 0. 0.] <-> [0.996977   0.00107272 0.00195031]\n",
      "[0. 0. 1.] <-> [1.0452197e-02 1.5877142e-05 9.8953187e-01]\n",
      "[1. 0. 0.] <-> [0.9972697  0.00103293 0.00169726]\n",
      "[1. 0. 0.] <-> [0.99727803 0.0010006  0.00172128]\n",
      "[1. 0. 0.] <-> [0.81480145 0.00097043 0.18422809]\n",
      "[1. 0. 0.] <-> [9.9802411e-01 1.1128385e-03 8.6304959e-04]\n",
      "[1. 0. 0.] <-> [9.9568164e-01 3.5215698e-03 7.9675909e-04]\n",
      "[1. 0. 0.] <-> [9.9814355e-01 1.1682886e-03 6.8811729e-04]\n",
      "[1. 0. 0.] <-> [0.9719635  0.02704857 0.00098789]\n",
      "[0. 0. 1.] <-> [1.0479411e-02 1.5911737e-05 9.8950469e-01]\n",
      "[0. 1. 0.] <-> [7.4606121e-02 9.2514563e-01 2.4828923e-04]\n",
      "[0. 1. 0.] <-> [6.4796009e-03 9.9349481e-01 2.5622221e-05]\n",
      "[1. 0. 0.] <-> [9.9476504e-01 4.4862358e-03 7.4872526e-04]\n",
      "[1. 0. 0.] <-> [0.99131435 0.00104277 0.00764285]\n",
      "[1. 0. 0.] <-> [9.9684733e-01 2.1671399e-03 9.8546245e-04]\n",
      "[1. 0. 0.] <-> [9.9797553e-01 1.2974009e-03 7.2718353e-04]\n",
      "[1. 0. 0.] <-> [9.9764520e-01 1.4369275e-03 9.1789517e-04]\n",
      "[1. 0. 0.] <-> [0.9976533  0.00125437 0.0010924 ]\n",
      "[0. 1. 0.] <-> [1.3852612e-02 9.8609924e-01 4.8211128e-05]\n",
      "[1. 0. 0.] <-> [9.9791867e-01 1.3127066e-03 7.6858368e-04]\n",
      "[1. 0. 0.] <-> [9.9804378e-01 1.1347422e-03 8.2146097e-04]\n",
      "[0. 1. 0.] <-> [3.099944e-02 9.689107e-01 8.982931e-05]\n",
      "[0. 1. 0.] <-> [6.4796843e-03 9.9349481e-01 2.5622587e-05]\n",
      "[1. 0. 0.] <-> [9.9693561e-01 2.3170284e-03 7.4740790e-04]\n",
      "[1. 0. 0.] <-> [0.99545825 0.00103572 0.00350601]\n",
      "[0. 0. 1.] <-> [1.0321376e-02 1.6340962e-05 9.8966229e-01]\n",
      "[0. 1. 0.] <-> [6.4856908e-03 9.9348867e-01 2.5642572e-05]\n",
      "[1. 0. 0.] <-> [0.99572563 0.00106604 0.00320831]\n",
      "[1. 0. 0.] <-> [9.9750251e-01 1.7442195e-03 7.5329008e-04]\n",
      "[0. 1. 0.] <-> [6.4795883e-03 9.9349481e-01 2.5622197e-05]\n",
      "[1. 0. 0.] <-> [0.98928016 0.0010587  0.00966116]\n",
      "[1. 0. 0.] <-> [9.9780446e-01 1.3101121e-03 8.8550209e-04]\n",
      "[1. 0. 0.] <-> [9.9758673e-01 1.6240882e-03 7.8920042e-04]\n",
      "[1. 0. 0.] <-> [0.96678555 0.00108455 0.03212995]\n",
      "[1. 0. 0.] <-> [9.9805909e-01 1.1602098e-03 7.8071136e-04]\n",
      "[0. 1. 0.] <-> [2.2950861e-01 7.7002966e-01 4.6171120e-04]\n",
      "[1. 0. 0.] <-> [0.9961802  0.0010145  0.00280538]\n",
      "[1. 0. 0.] <-> [9.9801517e-01 1.1813254e-03 8.0357172e-04]\n",
      "[1. 0. 0.] <-> [0.97962165 0.00106835 0.01931004]\n",
      "[0. 0. 1.] <-> [0.9269872  0.00107387 0.07193892]\n",
      "[1. 0. 0.] <-> [0.98864377 0.00105457 0.01030164]\n",
      "[0. 0. 1.] <-> [0.8956132  0.00105349 0.10333332]\n",
      "[0. 0. 1.] <-> [1.0462372e-02 1.5891628e-05 9.8952174e-01]\n",
      "[1. 0. 0.] <-> [0.9932018  0.00105331 0.00574491]\n",
      "[1. 0. 0.] <-> [0.9975157  0.00107846 0.00140587]\n",
      "[1. 0. 0.] <-> [0.9803631  0.00106994 0.01856697]\n",
      "[1. 0. 0.] <-> [9.9800259e-01 1.2672783e-03 7.3018379e-04]\n",
      "[1. 0. 0.] <-> [0.9978114  0.00116053 0.00102801]\n",
      "[1. 0. 0.] <-> [9.8322856e-01 1.5859077e-02 9.1233314e-04]\n",
      "[1. 0. 0.] <-> [9.9794871e-01 1.2423343e-03 8.0892025e-04]\n",
      "[1. 0. 0.] <-> [0.7312526  0.00089801 0.26784936]\n",
      "[1. 0. 0.] <-> [9.9620265e-01 3.1076188e-03 6.8971218e-04]\n",
      "[1. 0. 0.] <-> [0.9674433  0.00107567 0.03148106]\n",
      "[1. 0. 0.] <-> [0.99776924 0.00109103 0.0011397 ]\n",
      "[0. 0. 1.] <-> [1.04496125e-02 1.58991988e-05 9.89534438e-01]\n",
      "[0. 0. 1.] <-> [1.0701356e-01 1.4815902e-04 8.9283830e-01]\n",
      "[1. 0. 0.] <-> [0.9955605  0.00100745 0.00343194]\n",
      "[1. 0. 0.] <-> [9.9805069e-01 1.1012348e-03 8.4806187e-04]\n",
      "[1. 0. 0.] <-> [0.93324447 0.00106495 0.06569057]\n",
      "[1. 0. 0.] <-> [9.9802905e-01 1.2800612e-03 6.9084554e-04]\n",
      "[1. 0. 0.] <-> [9.9800390e-01 1.2203928e-03 7.7574729e-04]\n",
      "[0. 1. 0.] <-> [6.4800372e-03 9.9349445e-01 2.5623947e-05]\n",
      "[0. 0. 1.] <-> [9.3569495e-03 2.0951646e-05 9.9062210e-01]\n",
      "[1. 0. 0.] <-> [0.99779165 0.0010942  0.00111412]\n",
      "[1. 0. 0.] <-> [9.9807066e-01 1.0726197e-03 8.5681275e-04]\n",
      "[1. 0. 0.] <-> [9.9800879e-01 1.0693310e-03 9.2190003e-04]\n",
      "[1. 0. 0.] <-> [9.9778432e-01 1.5275767e-03 6.8811921e-04]\n",
      "[0. 1. 0.] <-> [6.4796875e-03 9.9349481e-01 2.5622565e-05]\n",
      "[1. 0. 0.] <-> [0.9940849  0.00101956 0.00489553]\n",
      "[0. 0. 1.] <-> [1.0453111e-02 1.5873147e-05 9.8953104e-01]\n",
      "[1. 0. 0.] <-> [9.9787319e-01 1.2472891e-03 8.7961688e-04]\n",
      "[1. 0. 0.] <-> [0.61133295 0.00075518 0.38791186]\n",
      "[0. 0. 1.] <-> [1.0499644e-02 1.5944128e-05 9.8948437e-01]\n",
      "[1. 0. 0.] <-> [0.9978265  0.00107356 0.00109987]\n",
      "[0. 1. 0.] <-> [2.0631084e-01 7.9318196e-01 5.0722383e-04]\n",
      "[1. 0. 0.] <-> [0.9906775  0.00108257 0.00823993]\n",
      "[1. 0. 0.] <-> [9.9809831e-01 1.1205670e-03 7.8106934e-04]\n",
      "[1. 0. 0.] <-> [9.9373937e-01 5.5718846e-03 6.8878563e-04]\n",
      "[1. 0. 0.] <-> [9.9775559e-01 1.5800536e-03 6.6445890e-04]\n",
      "[1. 0. 0.] <-> [9.9791425e-01 1.2798785e-03 8.0585404e-04]\n",
      "[1. 0. 0.] <-> [0.997623   0.00102315 0.0013538 ]\n",
      "[0. 0. 1.] <-> [1.0453056e-02 1.5873025e-05 9.8953104e-01]\n",
      "[0. 1. 0.] <-> [6.4796442e-03 9.9349481e-01 2.5622392e-05]\n",
      "[0. 1. 0.] <-> [0.64357597 0.35549206 0.00093191]\n",
      "[0. 0. 1.] <-> [1.0460096e-02 1.5883528e-05 9.8952407e-01]\n",
      "[0. 0. 1.] <-> [1.0450935e-02 1.5881811e-05 9.8953313e-01]\n",
      "{'accuracy': 0.9691358024691358, 'mean_square_error': 0.07316995064747432, 'categorical_crossentropy': 0.11596906626666034, 'essential_metrics': {0: {'tp_hit': 76, 'fp_hit': 5, 'tn_hit': 27, 'fn_hit': 0}, 1: {'tp_hit': 14, 'fp_hit': 0, 'tn_hit': 91, 'fn_hit': 3}, 2: {'tp_hit': 13, 'fp_hit': 0, 'tn_hit': 93, 'fn_hit': 2}}}\n"
     ]
    }
   ],
   "source": [
    "# recall phase\n",
    "score = model.evaluate(x_test, y_test, False)\n",
    "print(score)"
   ]
  },
  {
   "cell_type": "code",
   "execution_count": 11,
   "metadata": {},
   "outputs": [
    {
     "data": {
      "image/png": "[encoded data removed]",
      "text/plain": [
       "<Figure size 864x360 with 1 Axes>"
      ]
     },
     "metadata": {
      "needs_background": "light"
     },
     "output_type": "display_data"
    },
    {
     "data": {
      "image/png": "[encoded data removed]",
      "text/plain": [
       "<Figure size 864x360 with 1 Axes>"
      ]
     },
     "metadata": {
      "needs_background": "light"
     },
     "output_type": "display_data"
    }
   ],
   "source": [
    "draw_plot(x = [[i for i in range(len(history))], [(i+1)*breakpoint for i in range(len(checkpoints))]], y_list = [history, [ ckp[model.loss_fn] for ckp in checkpoints ]], x_label = 'Epochs', \\\n",
    "    y_label = model.loss_fn, legend=['train', 'test'])\n",
    "acc = [ ckp['accuracy'] for ckp in checkpoints ]\n",
    "draw_plot(x = [[(i+1)*breakpoint for i in range(len(checkpoints))]], y_list = [acc], x_label = 'Checkpoints', \\\n",
    "    y_label = 'accuracy')"
   ]
  },
  {
   "cell_type": "code",
   "execution_count": 12,
   "metadata": {},
   "outputs": [
    {
     "name": "stdout",
     "output_type": "stream",
     "text": [
      "{'accuracy': 0.9567901234567902, 'mean_square_error': 0.08517150185487994, 'categorical_crossentropy': 0.16507932874891493, 'essential_metrics': {0: {'tp_hit': 75, 'fp_hit': 6, 'tn_hit': 26, 'fn_hit': 1}, 1: {'tp_hit': 13, 'fp_hit': 0, 'tn_hit': 91, 'fn_hit': 4}, 2: {'tp_hit': 13, 'fp_hit': 1, 'tn_hit': 92, 'fn_hit': 2}}, 'checkpoint': 100} \n",
      "\n",
      "\n",
      "{'accuracy': 0.9691358024691358, 'mean_square_error': 0.05978278278121751, 'categorical_crossentropy': 0.09703438370316117, 'essential_metrics': {0: {'tp_hit': 75, 'fp_hit': 4, 'tn_hit': 28, 'fn_hit': 1}, 1: {'tp_hit': 15, 'fp_hit': 0, 'tn_hit': 91, 'fn_hit': 2}, 2: {'tp_hit': 13, 'fp_hit': 1, 'tn_hit': 92, 'fn_hit': 2}}, 'checkpoint': 200} \n",
      "\n",
      "\n",
      "{'accuracy': 0.9691358024691358, 'mean_square_error': 0.07263485265450645, 'categorical_crossentropy': 0.11634808116488987, 'essential_metrics': {0: {'tp_hit': 76, 'fp_hit': 5, 'tn_hit': 27, 'fn_hit': 0}, 1: {'tp_hit': 14, 'fp_hit': 0, 'tn_hit': 91, 'fn_hit': 3}, 2: {'tp_hit': 13, 'fp_hit': 0, 'tn_hit': 93, 'fn_hit': 2}}, 'checkpoint': 300} \n",
      "\n",
      "\n",
      "{'accuracy': 0.9691358024691358, 'mean_square_error': 0.07181226760677868, 'categorical_crossentropy': 0.11704234723691587, 'essential_metrics': {0: {'tp_hit': 76, 'fp_hit': 5, 'tn_hit': 27, 'fn_hit': 0}, 1: {'tp_hit': 14, 'fp_hit': 0, 'tn_hit': 91, 'fn_hit': 3}, 2: {'tp_hit': 13, 'fp_hit': 0, 'tn_hit': 93, 'fn_hit': 2}}, 'checkpoint': 400} \n",
      "\n",
      "\n",
      "{'accuracy': 0.9691358024691358, 'mean_square_error': 0.07316995064747432, 'categorical_crossentropy': 0.11596906626666034, 'essential_metrics': {0: {'tp_hit': 76, 'fp_hit': 5, 'tn_hit': 27, 'fn_hit': 0}, 1: {'tp_hit': 14, 'fp_hit': 0, 'tn_hit': 91, 'fn_hit': 3}, 2: {'tp_hit': 13, 'fp_hit': 0, 'tn_hit': 93, 'fn_hit': 2}}, 'checkpoint': 500} \n",
      "\n",
      "\n"
     ]
    }
   ],
   "source": [
    "for checkpoint in checkpoints:\n",
    "    print(checkpoint, '\\n\\n')"
   ]
  },
  {
   "cell_type": "code",
   "execution_count": 13,
   "metadata": {},
   "outputs": [
    {
     "name": "stdout",
     "output_type": "stream",
     "text": [
      "Layer 1\n",
      "Neuron 0: weights:\n",
      "[-1.8958565  3.         3.         2.7657492 -1.2727108]\n",
      " bias: -3.0\n",
      "\n",
      "Neuron 1: weights:\n",
      "[ 1.1243248 -3.        -1.2272545  3.         1.2738931]\n",
      " bias: -3.0\n",
      "\n",
      "Neuron 2: weights:\n",
      "[-1.2276489  3.         1.2273984 -3.        -1.3479643]\n",
      " bias: 3.0\n",
      "\n",
      "Neuron 3: weights:\n",
      "[ 1.9417764 -3.        -1.8620417 -1.7317754  1.2733607]\n",
      " bias: 3.0\n",
      "\n",
      "$\n",
      "Layer 2\n",
      "Neuron 0: weights:\n",
      "[-3. -3.  3.  3.]\n",
      " bias: -0.0001666012976784259\n",
      "\n",
      "Neuron 1: weights:\n",
      "[ 3.        -2.5226028  3.        -3.       ]\n",
      " bias: -0.9675944447517395\n",
      "\n",
      "Neuron 2: weights:\n",
      "[-1.083291  3.       -3.        3.      ]\n",
      " bias: -1.449829339981079\n",
      "\n",
      "$\n",
      "\n"
     ]
    }
   ],
   "source": [
    "print(model)"
   ]
  }
 ],
 "metadata": {
  "kernelspec": {
   "display_name": "Python 3",
   "language": "python",
   "name": "python3"
  },
  "language_info": {
   "codemirror_mode": {
    "name": "ipython",
    "version": 3
   },
   "file_extension": ".py",
   "mimetype": "text/x-python",
   "name": "python",
   "nbconvert_exporter": "python",
   "pygments_lexer": "ipython3",
   "version": "3.6.10"
  }
 },
 "nbformat": 4,
 "nbformat_minor": 2
}
