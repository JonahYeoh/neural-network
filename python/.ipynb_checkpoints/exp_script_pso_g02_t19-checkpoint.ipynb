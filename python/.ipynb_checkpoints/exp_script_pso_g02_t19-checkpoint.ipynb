{
 "cells": [
  {
   "cell_type": "code",
   "execution_count": 1,
   "metadata": {},
   "outputs": [],
   "source": [
    "# dependency\n",
    "import numpy as np\n",
    "import pandas as pd\n",
    "import copy\n",
    "import math\n",
    "import sys\n",
    "import os\n",
    "from activations import relu, leaky_relu, sigmoid, tanh, softmax, d_sigmoid, d_relu\n",
    "from initializers import glorot_uniform, random_normal, random_uniform\n",
    "from regularizers import l1_regularizer, l2_regularizer\n",
    "from utility import trim_tail, multiply, subtract, get_nparams, one_hot_encoding, get_data\n",
    "from metrics import MSE, CCE, ACC, PRECISION, RECALL, essential_metrics, wondering_penalty, close_gap_penalty\n",
    "from pso import PSO\n",
    "from ga import GA\n",
    "from nn import Network\n",
    "from layer import DenseLayer\n",
    "from scalers import MinMaxScaler, StandardScaler"
   ]
  },
  {
   "cell_type": "code",
   "execution_count": 2,
   "metadata": {},
   "outputs": [],
   "source": [
    "# reference\n",
    "metrics_fn_dict = dict()\n",
    "metrics_fn_dict['accuracy'] = ACC\n",
    "metrics_fn_dict['categorical_crossentropy'] = CCE\n",
    "metrics_fn_dict['mean_square_error'] = MSE\n",
    "metrics_fn_dict['precision'] = PRECISION\n",
    "metrics_fn_dict['recall'] = RECALL\n",
    "metrics_fn_dict['essential_metrics'] = essential_metrics"
   ]
  },
  {
   "cell_type": "code",
   "execution_count": 3,
   "metadata": {},
   "outputs": [],
   "source": [
    "# model\n",
    "model = Network(5, lr = None)\n",
    "model.add_layer(DenseLayer(1, 4, True, afn=sigmoid, dafn=None, rfn=None))\n",
    "model.add_layer(DenseLayer(2, 3, True, afn=softmax, dafn=None, rfn=None))"
   ]
  },
  {
   "cell_type": "code",
   "execution_count": 4,
   "metadata": {},
   "outputs": [
    {
     "name": "stdout",
     "output_type": "stream",
     "text": [
      "see one see two 2 0.5\n"
     ]
    }
   ],
   "source": [
    "pso = PSO(dict(m = 200,\n",
    "    weight_constraint = [-3, 3], \n",
    "    velocity_constraint = [-0.1, 0.1],\n",
    "    c1 = [0.5, 2],\n",
    "    c2 = [0.5, 2],\n",
    "    w = [0.5, 1.6],\n",
    "    w_decay = 0.95,\n",
    "    scale_hyperparameter = False,\n",
    "    regularizer = None,\n",
    "    mask = True))"
   ]
  },
  {
   "cell_type": "code",
   "execution_count": 5,
   "metadata": {},
   "outputs": [
    {
     "name": "stdout",
     "output_type": "stream",
     "text": [
      "building layer 1 with 5\n",
      "24\n",
      "building layer 2 with 4\n",
      "15\n"
     ]
    }
   ],
   "source": [
    "model.compile(loss_fn = 'categorical_crossentropy', optimizer = pso, \\\n",
    "    metrics = ['accuracy', 'mean_square_error', 'categorical_crossentropy'])"
   ]
  },
  {
   "cell_type": "code",
   "execution_count": 6,
   "metadata": {},
   "outputs": [
    {
     "name": "stdout",
     "output_type": "stream",
     "text": [
      "<class 'pandas.core.frame.DataFrame'>\n",
      "RangeIndex: 107 entries, 0 to 106\n",
      "Data columns (total 6 columns):\n",
      " #   Column  Non-Null Count  Dtype  \n",
      "---  ------  --------------  -----  \n",
      " 0   f1      107 non-null    float32\n",
      " 1   f2      107 non-null    float32\n",
      " 2   f3      107 non-null    float32\n",
      " 3   f4      107 non-null    float32\n",
      " 4   f5      107 non-null    float32\n",
      " 5   label   107 non-null    float32\n",
      "dtypes: float32(6)\n",
      "memory usage: 2.6 KB\n",
      "None\n",
      "<class 'pandas.core.frame.DataFrame'>\n",
      "RangeIndex: 108 entries, 0 to 107\n",
      "Data columns (total 6 columns):\n",
      " #   Column  Non-Null Count  Dtype  \n",
      "---  ------  --------------  -----  \n",
      " 0   f1      108 non-null    float32\n",
      " 1   f2      108 non-null    float32\n",
      " 2   f3      108 non-null    float32\n",
      " 3   f4      108 non-null    float32\n",
      " 4   f5      108 non-null    float32\n",
      " 5   label   108 non-null    float32\n",
      "dtypes: float32(6)\n",
      "memory usage: 2.7 KB\n",
      "None\n"
     ]
    }
   ],
   "source": [
    "# data loading\n",
    "DATA = os.path.join('c:\\\\Users\\\\Ai-lab\\\\github_repo\\\\neural-network\\\\', 'dataset')\n",
    "GROUP = 2\n",
    "COLUMNS = ['f1', 'f2', 'f3', 'f4', 'f5', 'label']\n",
    "N_CLASS = 3\n",
    "EPOCHS = 500\n",
    "train_dir, test_dir = \"..//dataset//training_data{}.txt\".format(GROUP), \"..//dataset//testing_data{}.txt\".format(GROUP)\n",
    "train, test = get_data(DATA, train_dir, COLUMNS), get_data(DATA, test_dir, COLUMNS)\n",
    "# shuffle\n",
    "train, test = train.sample(frac=1), test.sample(frac=1)\n",
    "x_train, y_train = train.drop('label', axis=1), train['label']\n",
    "x_test, y_test = test.drop('label', axis=1), test['label']"
   ]
  },
  {
   "cell_type": "code",
   "execution_count": 7,
   "metadata": {},
   "outputs": [],
   "source": [
    "# data scaling and encoding\n",
    "scaler = StandardScaler(['f1', 'f2', 'f3', 'f4', 'f5'])\n",
    "scaler.fit(x_train)\n",
    "x_train = scaler.transform(x_train)\n",
    "x_test = scaler.transform(x_test)\n",
    "y_train = one_hot_encoding(y_train, N_CLASS)\n",
    "y_test = one_hot_encoding(y_test, N_CLASS)"
   ]
  },
  {
   "cell_type": "code",
   "execution_count": 8,
   "metadata": {
    "tags": [
     "outputPrepend"
    ]
   },
   "outputs": [
    {
     "name": "stdout",
     "output_type": "stream",
     "text": [
      "Checkpoint 100, Accuracy: 0.9753086419753086, Loss: 0.20126296855785228\n",
      "Checkpoint 200, Accuracy: 0.9691358024691358, Loss: 0.12476380666097005\n",
      "Checkpoint 300, Accuracy: 0.9814814814814815, Loss: 0.09639147475913719\n",
      "Checkpoint 400, Accuracy: 0.9814814814814815, Loss: 0.09550941431963886\n",
      "Checkpoint 500, Accuracy: 0.9814814814814815, Loss: 0.09550941431963886\n"
     ]
    }
   ],
   "source": [
    "# learning phase\n",
    "breakpoint = 100\n",
    "checkpoints = list()\n",
    "history = list()\n",
    "for century in range(0, EPOCHS, breakpoint):\n",
    "    sub_history = model.fit(x_train, y_train, breakpoint, verbose = 0)\n",
    "    score = model.evaluate(x_test, y_test, False, verbose = 0)\n",
    "    print('Checkpoint {}, Accuracy: {}, Loss: {}'.format(century+breakpoint, score['accuracy'], score[model.loss_fn]))\n",
    "    score['checkpoint'] = century + breakpoint\n",
    "    checkpoints.append(score)\n",
    "    history.extend(sub_history)\n",
    "    itr = century + breakpoint\n",
    "    model.optimizer.c2 = np.max([model.optimizer.C2[1] - ((model.optimizer.C2[1] - model.optimizer.C2[0]) * itr / EPOCHS), model.optimizer.C2[0]])\n",
    "    model.optimizer.c1 = np.min([model.optimizer.C1[0] + ((model.optimizer.C1[1] - model.optimizer.C1[0]) * itr / EPOCHS), model.optimizer.C1[1]])\n",
    "    model.optimizer.w = np.max([model.optimizer.w * model.optimizer.W_Decay, model.optimizer.W[0]])"
   ]
  },
  {
   "cell_type": "code",
   "execution_count": 9,
   "metadata": {},
   "outputs": [],
   "source": [
    "train_acc = [h['accuracy'] for h in history]\n",
    "train_mse = [h['mean_square_error'] for h in history]\n",
    "train_cce = [h['categorical_crossentropy'] for h in history]"
   ]
  },
  {
   "cell_type": "code",
   "execution_count": 10,
   "metadata": {},
   "outputs": [],
   "source": [
    "import matplotlib.pyplot as plt\n",
    "\n",
    "def draw_plot(x, y_list, x_label=None, y_label=None, legend=None, title=None):\n",
    "    fig, ax = plt.subplots(figsize=(12,5))\n",
    "    for xi, yi in zip(x, y_list):\n",
    "        ax.plot(xi, yi)\n",
    "    if x_label is not None and y_label is not None:\n",
    "        ax.set(xlabel=x_label, ylabel=y_label, title='{} VS {}'.format(x_label, y_label))\n",
    "    if legend is not None:\n",
    "        ax.legend(legend)\n",
    "    ax.grid()\n",
    "    plt.show()"
   ]
  },
  {
   "cell_type": "code",
   "execution_count": 11,
   "metadata": {},
   "outputs": [
    {
     "data": {
      "image/png": "[encoded data removed]",
      "text/plain": [
       "<Figure size 864x360 with 1 Axes>"
      ]
     },
     "metadata": {
      "needs_background": "light"
     },
     "output_type": "display_data"
    },
    {
     "data": {
      "image/png": "[encoded data removed]",
      "text/plain": [
       "<Figure size 864x360 with 1 Axes>"
      ]
     },
     "metadata": {
      "needs_background": "light"
     },
     "output_type": "display_data"
    }
   ],
   "source": [
    "draw_plot(x = [[i for i in range(len(history))], [(i+1)*breakpoint for i in range(len(checkpoints))]], y_list = [train_cce, [ ckp[model.loss_fn] for ckp in checkpoints ]], x_label = 'Epochs', \\\n",
    "    y_label = model.loss_fn, legend=['train', 'test'])\n",
    "acc = [ ckp['accuracy'] for ckp in checkpoints ]\n",
    "draw_plot(x = [[i for i in range(len(history))], [(i+1)*breakpoint for i in range(len(checkpoints))]], y_list = [train_acc, acc], x_label = 'Checkpoints', \\\n",
    "    y_label = 'accuracy', legend=['train', 'test'])"
   ]
  },
  {
   "cell_type": "code",
   "execution_count": 12,
   "metadata": {},
   "outputs": [
    {
     "name": "stdout",
     "output_type": "stream",
     "text": [
      "[0. 1. 0.] <-> [6.6694869e-03 9.9332523e-01 5.2317778e-06]\n",
      "[0. 0. 1.] <-> [7.7737281e-03 6.8239264e-05 9.9215806e-01]\n",
      "[1. 0. 0.] <-> [0.74140304 0.00120365 0.2573932 ]\n",
      "[1. 0. 0.] <-> [0.98770744 0.00162326 0.01066932]\n",
      "[0. 1. 0.] <-> [6.4058704e-03 9.9358904e-01 5.0485705e-06]\n",
      "[1. 0. 0.] <-> [0.89410883 0.00200179 0.1038894 ]\n",
      "[1. 0. 0.] <-> [0.9963775  0.00133175 0.00229078]\n",
      "[1. 0. 0.] <-> [0.9876485  0.00164503 0.01070654]\n",
      "[1. 0. 0.] <-> [0.997159   0.00183216 0.00100891]\n",
      "[1. 0. 0.] <-> [9.9706584e-01 2.0921251e-03 8.4199180e-04]\n",
      "[1. 0. 0.] <-> [0.99730897 0.0011459  0.00154516]\n",
      "[1. 0. 0.] <-> [0.9896276  0.00120461 0.00916782]\n",
      "[1. 0. 0.] <-> [0.99621445 0.00153908 0.00224643]\n",
      "[1. 0. 0.] <-> [0.99706954 0.00187076 0.00105972]\n",
      "[0. 0. 1.] <-> [9.0120351e-03 7.6149496e-05 9.9091184e-01]\n",
      "[1. 0. 0.] <-> [0.9904885  0.00807997 0.00143146]\n",
      "[1. 0. 0.] <-> [9.5037442e-01 4.8783362e-02 8.4225682e-04]\n",
      "[1. 0. 0.] <-> [0.98811054 0.00127075 0.01061872]\n",
      "[1. 0. 0.] <-> [0.9973967  0.00139478 0.00120846]\n",
      "[1. 0. 0.] <-> [0.99706465 0.00106775 0.00186761]\n",
      "[0. 0. 1.] <-> [7.7737281e-03 6.8239264e-05 9.9215806e-01]\n",
      "[0. 1. 0.] <-> [8.1635015e-03 9.9183005e-01 6.5051840e-06]\n",
      "[0. 1. 0.] <-> [3.6424944e-01 6.3546365e-01 2.8694546e-04]\n",
      "[1. 0. 0.] <-> [0.99702543 0.00119561 0.00177904]\n",
      "[0. 0. 1.] <-> [7.7918661e-03 6.8345660e-05 9.9213976e-01]\n",
      "[0. 1. 0.] <-> [3.2728441e-02 9.6724588e-01 2.5737354e-05]\n",
      "[1. 0. 0.] <-> [9.9699807e-01 2.1931257e-03 8.0877228e-04]\n",
      "[0. 0. 1.] <-> [7.7737356e-03 6.8243033e-05 9.9215806e-01]\n",
      "[1. 0. 0.] <-> [0.99723697 0.00158815 0.00117495]\n",
      "[1. 0. 0.] <-> [0.99647874 0.0010559  0.00246532]\n",
      "[0. 1. 0.] <-> [6.5573473e-03 9.9343747e-01 5.1682005e-06]\n",
      "[1. 0. 0.] <-> [9.9697840e-01 2.1576986e-03 8.6385716e-04]\n",
      "[1. 0. 0.] <-> [0.9973954  0.00145088 0.00115363]\n",
      "[1. 0. 0.] <-> [0.9964323  0.00184065 0.00172695]\n",
      "[0. 0. 1.] <-> [0.3947287  0.00218908 0.6030822 ]\n",
      "[0. 1. 0.] <-> [1.1129632e-02 9.8886150e-01 8.8912857e-06]\n",
      "[1. 0. 0.] <-> [0.9919491  0.00115886 0.00689201]\n",
      "[1. 0. 0.] <-> [0.9949319  0.00126314 0.00380503]\n",
      "[0. 1. 0.] <-> [6.3909804e-03 9.9360400e-01 5.0185959e-06]\n",
      "[1. 0. 0.] <-> [0.99655104 0.00120084 0.00224818]\n",
      "[0. 1. 0.] <-> [6.3172653e-03 9.9367768e-01 5.1197544e-06]\n",
      "[1. 0. 0.] <-> [0.980243   0.00216237 0.01759459]\n",
      "[1. 0. 0.] <-> [9.9545646e-01 3.7145854e-03 8.2905585e-04]\n",
      "[1. 0. 0.] <-> [0.9454902  0.00142094 0.05308893]\n",
      "[1. 0. 0.] <-> [2.4463153e-02 1.7672204e-04 9.7536010e-01]\n",
      "[1. 0. 0.] <-> [0.99561656 0.00128121 0.00310223]\n",
      "[1. 0. 0.] <-> [0.98481095 0.00158917 0.01359985]\n",
      "[1. 0. 0.] <-> [9.1166776e-01 8.7522104e-02 8.1005483e-04]\n",
      "[0. 0. 1.] <-> [7.777270e-03 6.826466e-05 9.921544e-01]\n",
      "[0. 0. 1.] <-> [7.7739381e-03 6.8240544e-05 9.9215782e-01]\n",
      "[1. 0. 0.] <-> [0.99338067 0.00120114 0.00541821]\n",
      "[1. 0. 0.] <-> [9.976545e-01 1.467831e-03 8.776692e-04]\n",
      "[1. 0. 0.] <-> [9.9276865e-01 6.4339442e-03 7.9742668e-04]\n",
      "[1. 0. 0.] <-> [0.99693644 0.00119879 0.00186483]\n",
      "[0. 0. 1.] <-> [0.40816483 0.00091689 0.59091824]\n",
      "[1. 0. 0.] <-> [0.9976675  0.00121464 0.00111779]\n",
      "[1. 0. 0.] <-> [0.9969799  0.00147636 0.00154369]\n",
      "[1. 0. 0.] <-> [0.9974968  0.00144487 0.00105828]\n",
      "[1. 0. 0.] <-> [3.6340880e-01 6.3629609e-01 2.9508932e-04]\n",
      "[0. 1. 0.] <-> [2.3270501e-01 7.6710421e-01 1.9078686e-04]\n",
      "[1. 0. 0.] <-> [0.9916489  0.00132009 0.00703102]\n",
      "[1. 0. 0.] <-> [0.9903295  0.00119757 0.00847286]\n",
      "[1. 0. 0.] <-> [0.9968298  0.00143012 0.00174007]\n",
      "[0. 1. 0.] <-> [6.3931029e-03 9.9360186e-01 5.0155995e-06]\n",
      "[1. 0. 0.] <-> [9.9693143e-01 2.1358633e-03 9.3271991e-04]\n",
      "[1. 0. 0.] <-> [0.99622065 0.00135219 0.00242715]\n",
      "[1. 0. 0.] <-> [0.99745876 0.00123242 0.0013088 ]\n",
      "[1. 0. 0.] <-> [9.9787307e-01 1.2438857e-03 8.8297826e-04]\n",
      "[1. 0. 0.] <-> [9.9555320e-01 3.5026949e-03 9.4404566e-04]\n",
      "[1. 0. 0.] <-> [9.9691260e-01 2.2867722e-03 8.0067589e-04]\n",
      "[0. 0. 1.] <-> [7.7763675e-03 6.8569672e-05 9.9215513e-01]\n",
      "[0. 0. 1.] <-> [7.8448728e-03 6.8710113e-05 9.9208647e-01]\n",
      "[1. 0. 0.] <-> [9.8833585e-01 1.0799215e-02 8.6492684e-04]\n",
      "[1. 0. 0.] <-> [0.9977575  0.00123082 0.00101177]\n",
      "[0. 1. 0.] <-> [1.8406408e-02 9.8157895e-01 1.4653089e-05]\n",
      "[0. 1. 0.] <-> [1.1997091e-01 8.7993467e-01 9.4363495e-05]\n",
      "[0. 0. 1.] <-> [7.7737318e-03 6.8239264e-05 9.9215806e-01]\n",
      "[1. 0. 0.] <-> [0.9953057  0.00136039 0.00333382]\n",
      "[0. 1. 0.] <-> [7.4726641e-01 2.5214627e-01 5.8726984e-04]\n",
      "[1. 0. 0.] <-> [9.9753857e-01 1.5565698e-03 9.0486743e-04]\n",
      "[0. 0. 1.] <-> [7.7737281e-03 6.8239264e-05 9.9215806e-01]\n",
      "[1. 0. 0.] <-> [0.935853   0.00144871 0.06269822]\n",
      "[1. 0. 0.] <-> [0.5781993  0.00262367 0.41917697]\n",
      "[1. 0. 0.] <-> [0.9752265  0.00318851 0.02158486]\n",
      "[1. 0. 0.] <-> [0.99428624 0.00149264 0.00422109]\n",
      "[1. 0. 0.] <-> [0.9965172  0.00214366 0.00133919]\n",
      "[1. 0. 0.] <-> [0.91711414 0.00243158 0.0804543 ]\n",
      "[1. 0. 0.] <-> [9.905939e-01 8.580917e-03 8.251973e-04]\n",
      "[1. 0. 0.] <-> [0.9955171  0.00159052 0.00289251]\n",
      "[1. 0. 0.] <-> [0.9977114  0.00125796 0.00103058]\n",
      "[1. 0. 0.] <-> [0.9964868  0.00136489 0.00214827]\n",
      "[1. 0. 0.] <-> [9.9710947e-01 2.0070018e-03 8.8346534e-04]\n",
      "[1. 0. 0.] <-> [0.9977329  0.00119306 0.00107404]\n",
      "[1. 0. 0.] <-> [0.7799592  0.00283514 0.21720564]\n",
      "[1. 0. 0.] <-> [9.966785e-01 2.417417e-03 9.041722e-04]\n",
      "[1. 0. 0.] <-> [0.8890805  0.00147274 0.1094467 ]\n",
      "[0. 1. 0.] <-> [1.0614056e-02 9.8937756e-01 8.3410487e-06]\n",
      "[1. 0. 0.] <-> [0.9968407  0.00147764 0.00168159]\n",
      "[1. 0. 0.] <-> [0.99748564 0.00129979 0.0012145 ]\n",
      "[1. 0. 0.] <-> [0.9977876  0.001185   0.00102737]\n",
      "[1. 0. 0.] <-> [0.99642736 0.00257084 0.00100183]\n",
      "[1. 0. 0.] <-> [9.9733472e-01 1.7604841e-03 9.0491807e-04]\n",
      "[1. 0. 0.] <-> [0.9119993  0.0020089  0.08599181]\n",
      "[1. 0. 0.] <-> [0.99647874 0.00147678 0.00204452]\n",
      "[1. 0. 0.] <-> [0.9951226  0.00147814 0.00339925]\n",
      "[1. 0. 0.] <-> [0.99395424 0.00162455 0.00442122]\n",
      "[1. 0. 0.] <-> [9.9253744e-01 6.6232579e-03 8.3929196e-04]\n",
      "[1. 0. 0.] <-> [0.9928323  0.0013538  0.00581396]\n",
      "{'accuracy': 0.9814814814814815, 'mean_square_error': 0.05169386373726605, 'categorical_crossentropy': 0.09550941431963886, 'essential_metrics': {0: {'tp_hit': 78, 'fp_hit': 1, 'tn_hit': 27, 'fn_hit': 2}, 1: {'tp_hit': 14, 'fp_hit': 1, 'tn_hit': 92, 'fn_hit': 1}, 2: {'tp_hit': 13, 'fp_hit': 1, 'tn_hit': 94, 'fn_hit': 0}}}\n"
     ]
    }
   ],
   "source": [
    "# recall phase\n",
    "score = model.evaluate(x_test, y_test, False)\n",
    "print(score)"
   ]
  },
  {
   "cell_type": "code",
   "execution_count": 13,
   "metadata": {},
   "outputs": [
    {
     "name": "stdout",
     "output_type": "stream",
     "text": [
      "{'accuracy': 0.9753086419753086, 'mean_square_error': 0.09566624177551025, 'categorical_crossentropy': 0.20126296855785228, 'essential_metrics': {0: {'tp_hit': 79, 'fp_hit': 3, 'tn_hit': 25, 'fn_hit': 1}, 1: {'tp_hit': 14, 'fp_hit': 0, 'tn_hit': 93, 'fn_hit': 1}, 2: {'tp_hit': 11, 'fp_hit': 1, 'tn_hit': 94, 'fn_hit': 2}}, 'checkpoint': 100} \n",
      "\n",
      "\n",
      "{'accuracy': 0.9691358024691358, 'mean_square_error': 0.06961621668139163, 'categorical_crossentropy': 0.12476380666097005, 'essential_metrics': {0: {'tp_hit': 77, 'fp_hit': 2, 'tn_hit': 26, 'fn_hit': 3}, 1: {'tp_hit': 14, 'fp_hit': 1, 'tn_hit': 92, 'fn_hit': 1}, 2: {'tp_hit': 12, 'fp_hit': 2, 'tn_hit': 93, 'fn_hit': 1}}, 'checkpoint': 200} \n",
      "\n",
      "\n",
      "{'accuracy': 0.9814814814814815, 'mean_square_error': 0.05070606498463278, 'categorical_crossentropy': 0.09639147475913719, 'essential_metrics': {0: {'tp_hit': 78, 'fp_hit': 1, 'tn_hit': 27, 'fn_hit': 2}, 1: {'tp_hit': 14, 'fp_hit': 1, 'tn_hit': 92, 'fn_hit': 1}, 2: {'tp_hit': 13, 'fp_hit': 1, 'tn_hit': 94, 'fn_hit': 0}}, 'checkpoint': 300} \n",
      "\n",
      "\n",
      "{'accuracy': 0.9814814814814815, 'mean_square_error': 0.05169386373726605, 'categorical_crossentropy': 0.09550941431963886, 'essential_metrics': {0: {'tp_hit': 78, 'fp_hit': 1, 'tn_hit': 27, 'fn_hit': 2}, 1: {'tp_hit': 14, 'fp_hit': 1, 'tn_hit': 92, 'fn_hit': 1}, 2: {'tp_hit': 13, 'fp_hit': 1, 'tn_hit': 94, 'fn_hit': 0}}, 'checkpoint': 400} \n",
      "\n",
      "\n",
      "{'accuracy': 0.9814814814814815, 'mean_square_error': 0.05169386373726605, 'categorical_crossentropy': 0.09550941431963886, 'essential_metrics': {0: {'tp_hit': 78, 'fp_hit': 1, 'tn_hit': 27, 'fn_hit': 2}, 1: {'tp_hit': 14, 'fp_hit': 1, 'tn_hit': 92, 'fn_hit': 1}, 2: {'tp_hit': 13, 'fp_hit': 1, 'tn_hit': 94, 'fn_hit': 0}}, 'checkpoint': 500} \n",
      "\n",
      "\n"
     ]
    }
   ],
   "source": [
    "for checkpoint in checkpoints:\n",
    "    print(checkpoint, '\\n\\n')"
   ]
  },
  {
   "cell_type": "code",
   "execution_count": 14,
   "metadata": {},
   "outputs": [
    {
     "name": "stdout",
     "output_type": "stream",
     "text": [
      "Layer 1\n",
      "Neuron 0: weights:\n",
      "[-1.8573788  3.         2.08507   -0.2049019 -2.1649668]\n",
      " bias: -3.0\n",
      "\n",
      "Neuron 1: weights:\n",
      "[ 0.16695282  3.         -0.47693366 -3.         -3.        ]\n",
      " bias: 2.058743953704834\n",
      "\n",
      "Neuron 2: weights:\n",
      "[ 0.24941176 -3.         -3.          3.          3.        ]\n",
      " bias: -3.0\n",
      "\n",
      "Neuron 3: weights:\n",
      "[ 2.0204833 -3.        -2.2062473 -1.0660007  2.7037272]\n",
      " bias: 3.0\n",
      "\n",
      "$\n",
      "Layer 2\n",
      "Neuron 0: weights:\n",
      "[-3.  3. -3.  3.]\n",
      " bias: 1.7354854345321655\n",
      "\n",
      "Neuron 1: weights:\n",
      "[ 3.         0.7814485 -3.        -3.       ]\n",
      " bias: 3.0\n",
      "\n",
      "Neuron 2: weights:\n",
      "[-3. -3.  3.  3.]\n",
      " bias: 0.5846179127693176\n",
      "\n",
      "$\n",
      "\n"
     ]
    }
   ],
   "source": [
    "print(model)"
   ]
  }
 ],
 "metadata": {
  "kernelspec": {
   "display_name": "Python 3",
   "language": "python",
   "name": "python3"
  },
  "language_info": {
   "codemirror_mode": {
    "name": "ipython",
    "version": 3
   },
   "file_extension": ".py",
   "mimetype": "text/x-python",
   "name": "python",
   "nbconvert_exporter": "python",
   "pygments_lexer": "ipython3",
   "version": "3.6.12"
  }
 },
 "nbformat": 4,
 "nbformat_minor": 2
}
