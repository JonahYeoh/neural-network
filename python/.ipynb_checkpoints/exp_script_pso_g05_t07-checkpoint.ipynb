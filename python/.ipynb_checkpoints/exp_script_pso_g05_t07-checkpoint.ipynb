{
 "cells": [
  {
   "cell_type": "code",
   "execution_count": 1,
   "metadata": {},
   "outputs": [],
   "source": [
    "# dependency\n",
    "import numpy as np\n",
    "import pandas as pd\n",
    "import copy\n",
    "import math\n",
    "import sys\n",
    "import os\n",
    "from activations import relu, leaky_relu, sigmoid, tanh, softmax, d_sigmoid, d_relu\n",
    "from initializers import glorot_uniform, random_normal, random_uniform\n",
    "from regularizers import l1_regularizer, l2_regularizer\n",
    "from utility import trim_tail, multiply, subtract, get_nparams, one_hot_encoding, get_data\n",
    "from metrics import MSE, CCE, ACC, PRECISION, RECALL, essential_metrics, wondering_penalty, close_gap_penalty\n",
    "from pso import PSO\n",
    "from ga import GA\n",
    "from nn import Network\n",
    "from layer import DenseLayer\n",
    "from scalers import MinMaxScaler, StandardScaler"
   ]
  },
  {
   "cell_type": "code",
   "execution_count": 2,
   "metadata": {},
   "outputs": [],
   "source": [
    "# reference\n",
    "metrics_fn_dict = dict()\n",
    "metrics_fn_dict['accuracy'] = ACC\n",
    "metrics_fn_dict['categorical_crossentropy'] = CCE\n",
    "metrics_fn_dict['mean_square_error'] = MSE\n",
    "metrics_fn_dict['precision'] = PRECISION\n",
    "metrics_fn_dict['recall'] = RECALL\n",
    "metrics_fn_dict['essential_metrics'] = essential_metrics"
   ]
  },
  {
   "cell_type": "code",
   "execution_count": 3,
   "metadata": {},
   "outputs": [],
   "source": [
    "# model\n",
    "model = Network(5, lr = None)\n",
    "model.add_layer(DenseLayer(1, 4, True, afn=sigmoid, dafn=None, rfn=None))\n",
    "model.add_layer(DenseLayer(2, 3, True, afn=softmax, dafn=None, rfn=None))"
   ]
  },
  {
   "cell_type": "code",
   "execution_count": 4,
   "metadata": {},
   "outputs": [
    {
     "name": "stdout",
     "output_type": "stream",
     "text": [
      "see one see two 2.0 0.5\n"
     ]
    }
   ],
   "source": [
    "pso = PSO(dict(m = 200,\n",
    "    weight_constraint = [-3, 3], \n",
    "    velocity_constraint = [-0.1, 0.1],\n",
    "    c1 = [0.5, 2.0],\n",
    "    c2 = [0.5, 2.0],\n",
    "    w = [0.5, 1.6],\n",
    "    w_decay = 0.95,\n",
    "    scale_hyperparameter = False,\n",
    "    regularizer = None,\n",
    "    mask = True))"
   ]
  },
  {
   "cell_type": "code",
   "execution_count": 5,
   "metadata": {},
   "outputs": [
    {
     "name": "stdout",
     "output_type": "stream",
     "text": [
      "building layer 1 with 5\n",
      "24\n",
      "building layer 2 with 4\n",
      "15\n"
     ]
    }
   ],
   "source": [
    "model.compile(loss_fn = 'categorical_crossentropy', optimizer = pso, \\\n",
    "    metrics = ['accuracy', 'mean_square_error', 'categorical_crossentropy'])"
   ]
  },
  {
   "cell_type": "code",
   "execution_count": 6,
   "metadata": {},
   "outputs": [
    {
     "name": "stdout",
     "output_type": "stream",
     "text": [
      "<class 'pandas.core.frame.DataFrame'>\n",
      "RangeIndex: 107 entries, 0 to 106\n",
      "Data columns (total 6 columns):\n",
      " #   Column  Non-Null Count  Dtype  \n",
      "---  ------  --------------  -----  \n",
      " 0   f1      107 non-null    float32\n",
      " 1   f2      107 non-null    float32\n",
      " 2   f3      107 non-null    float32\n",
      " 3   f4      107 non-null    float32\n",
      " 4   f5      107 non-null    float32\n",
      " 5   label   107 non-null    float32\n",
      "dtypes: float32(6)\n",
      "memory usage: 2.6 KB\n",
      "None\n",
      "<class 'pandas.core.frame.DataFrame'>\n",
      "RangeIndex: 108 entries, 0 to 107\n",
      "Data columns (total 6 columns):\n",
      " #   Column  Non-Null Count  Dtype  \n",
      "---  ------  --------------  -----  \n",
      " 0   f1      108 non-null    float32\n",
      " 1   f2      108 non-null    float32\n",
      " 2   f3      108 non-null    float32\n",
      " 3   f4      108 non-null    float32\n",
      " 4   f5      108 non-null    float32\n",
      " 5   label   108 non-null    float32\n",
      "dtypes: float32(6)\n",
      "memory usage: 2.7 KB\n",
      "None\n"
     ]
    }
   ],
   "source": [
    "# data loading\n",
    "DATA = os.path.join('c:\\\\Users\\\\AI-lab\\\\github_repo\\\\neural-network\\\\', 'dataset')\n",
    "GROUP = 5\n",
    "COLUMNS = ['f1', 'f2', 'f3', 'f4', 'f5', 'label']\n",
    "N_CLASS = 3\n",
    "EPOCHS = 200\n",
    "train_dir, test_dir = \"..//dataset//training_data{}.txt\".format(GROUP), \"..//dataset//testing_data{}.txt\".format(GROUP)\n",
    "train, test = get_data(DATA, train_dir, COLUMNS), get_data(DATA, test_dir, COLUMNS)\n",
    "# shuffle\n",
    "train, test = train.sample(frac=1), test.sample(frac=1)\n",
    "x_train, y_train = train.drop('label', axis=1), train['label']\n",
    "x_test, y_test = test.drop('label', axis=1), test['label']"
   ]
  },
  {
   "cell_type": "code",
   "execution_count": 7,
   "metadata": {},
   "outputs": [],
   "source": [
    "# data scaling and encoding\n",
    "scaler = StandardScaler(['f1', 'f2', 'f3', 'f4', 'f5'])\n",
    "scaler.fit(x_train)\n",
    "x_train = scaler.transform(x_train)\n",
    "x_test = scaler.transform(x_test)\n",
    "y_train = one_hot_encoding(y_train, N_CLASS)\n",
    "y_test = one_hot_encoding(y_test, N_CLASS)"
   ]
  },
  {
   "cell_type": "code",
   "execution_count": 8,
   "metadata": {
    "tags": [
     "outputPrepend"
    ]
   },
   "outputs": [
    {
     "name": "stdout",
     "output_type": "stream",
     "text": [
      "Checkpoint 10, Accuracy: 0.7283950617283951, Loss: 0.776420169406467\n",
      "Checkpoint 20, Accuracy: 0.845679012345679, Loss: 0.6331011454264323\n",
      "Checkpoint 30, Accuracy: 0.845679012345679, Loss: 0.5982407463921441\n",
      "Checkpoint 40, Accuracy: 0.9074074074074074, Loss: 0.47349732010452833\n",
      "Checkpoint 50, Accuracy: 0.9012345679012346, Loss: 0.4683820936414931\n",
      "Checkpoint 60, Accuracy: 0.9382716049382716, Loss: 0.4017008322256583\n",
      "Checkpoint 70, Accuracy: 0.9259259259259259, Loss: 0.35867062321415655\n",
      "Checkpoint 80, Accuracy: 0.9506172839506173, Loss: 0.3282145747432002\n",
      "Checkpoint 90, Accuracy: 0.9506172839506173, Loss: 0.25533979910391347\n",
      "Checkpoint 100, Accuracy: 0.9691358024691358, Loss: 0.19920207836009837\n",
      "Checkpoint 110, Accuracy: 0.9629629629629629, Loss: 0.1619193465621383\n",
      "Checkpoint 120, Accuracy: 0.9629629629629629, Loss: 0.144026482546771\n",
      "Checkpoint 130, Accuracy: 0.9629629629629629, Loss: 0.15580818388197157\n",
      "Checkpoint 140, Accuracy: 0.9629629629629629, Loss: 0.14703074208012334\n",
      "Checkpoint 150, Accuracy: 0.9691358024691358, Loss: 0.12181108086197465\n",
      "Checkpoint 160, Accuracy: 0.9814814814814815, Loss: 0.11798988448248969\n",
      "Checkpoint 170, Accuracy: 0.9629629629629629, Loss: 0.1291838222079807\n",
      "Checkpoint 180, Accuracy: 0.9691358024691358, Loss: 0.11686152882046169\n",
      "Checkpoint 190, Accuracy: 0.9629629629629629, Loss: 0.1329573260413276\n",
      "Checkpoint 200, Accuracy: 0.9691358024691358, Loss: 0.11505770683288574\n"
     ]
    }
   ],
   "source": [
    "# learning phase\n",
    "breakpoint = 10\n",
    "checkpoints = list()\n",
    "history = list()\n",
    "for century in range(0, EPOCHS, breakpoint):\n",
    "    sub_history = model.fit(x_train, y_train, breakpoint, verbose = 0)\n",
    "    score = model.evaluate(x_test, y_test, False, verbose = 0)\n",
    "    print('Checkpoint {}, Accuracy: {}, Loss: {}'.format(century+breakpoint, score['accuracy'], score[model.loss_fn]))\n",
    "    score['checkpoint'] = century + breakpoint\n",
    "    checkpoints.append(score)\n",
    "    history.extend(sub_history)\n",
    "    itr = century + breakpoint\n",
    "    model.optimizer.c1 = np.max([model.optimizer.C1[1] - ((model.optimizer.C1[1] - model.optimizer.C1[0]) * itr / EPOCHS), model.optimizer.C1[0]])\n",
    "    model.optimizer.c2 = np.min([model.optimizer.C2[0] + ((model.optimizer.C2[1] - model.optimizer.C2[0]) * itr / EPOCHS), model.optimizer.C2[1]])\n",
    "    model.optimizer.w = np.max([model.optimizer.w * model.optimizer.W_Decay, model.optimizer.W[0]])"
   ]
  },
  {
   "cell_type": "code",
   "execution_count": 9,
   "metadata": {},
   "outputs": [],
   "source": [
    "import matplotlib.pyplot as plt\n",
    "\n",
    "def draw_plot(x, y_list, x_label=None, y_label=None, legend=None, title=None):\n",
    "    fig, ax = plt.subplots(figsize=(12,5))\n",
    "    for xi, yi in zip(x, y_list):\n",
    "        ax.plot(xi, yi)\n",
    "    if x_label is not None and y_label is not None:\n",
    "        ax.set(xlabel=x_label, ylabel=y_label, title='{} VS {}'.format(x_label, y_label))\n",
    "    if legend is not None:\n",
    "        ax.legend(legend)\n",
    "    ax.grid()\n",
    "    plt.show()"
   ]
  },
  {
   "cell_type": "code",
   "execution_count": 10,
   "metadata": {},
   "outputs": [
    {
     "name": "stdout",
     "output_type": "stream",
     "text": [
      "[1. 0. 0.] <-> [0.9914438  0.00732777 0.0012285 ]\n",
      "[0. 0. 1.] <-> [2.1217871e-02 9.5761650e-05 9.7868639e-01]\n",
      "[0. 0. 1.] <-> [2.0719677e-02 9.3047260e-05 9.7918725e-01]\n",
      "[1. 0. 0.] <-> [0.65609574 0.00424993 0.3396543 ]\n",
      "[1. 0. 0.] <-> [0.8046872  0.00308936 0.19222338]\n",
      "[0. 1. 0.] <-> [6.6558236e-01 3.3377880e-01 6.3880999e-04]\n",
      "[1. 0. 0.] <-> [0.9934282  0.00517436 0.0013974 ]\n",
      "[0. 1. 0.] <-> [2.9237580e-01 7.0719534e-01 4.2886977e-04]\n",
      "[0. 0. 1.] <-> [2.1134267e-02 9.7162490e-05 9.7876853e-01]\n",
      "[1. 0. 0.] <-> [0.9822595  0.0055374  0.01220315]\n",
      "[1. 0. 0.] <-> [0.98433787 0.00564769 0.0100144 ]\n",
      "[0. 0. 1.] <-> [2.081997e-02 9.406676e-05 9.790860e-01]\n",
      "[0. 0. 1.] <-> [0.8959235  0.00232095 0.10175559]\n",
      "[0. 0. 1.] <-> [2.0904575e-02 9.4312891e-05 9.7900110e-01]\n",
      "[1. 0. 0.] <-> [0.97451913 0.00293992 0.02254089]\n",
      "[1. 0. 0.] <-> [9.9002165e-01 9.3783522e-03 6.0003909e-04]\n",
      "[1. 0. 0.] <-> [0.9923673  0.00657746 0.00105521]\n",
      "[1. 0. 0.] <-> [0.98258036 0.00392206 0.01349751]\n",
      "[0. 0. 1.] <-> [2.0795438e-02 9.3806200e-05 9.7911078e-01]\n",
      "[1. 0. 0.] <-> [9.9024898e-01 9.0756379e-03 6.7534484e-04]\n",
      "[1. 0. 0.] <-> [0.99410206 0.00407732 0.00182057]\n",
      "[0. 0. 1.] <-> [2.0890288e-02 9.4273812e-05 9.7901547e-01]\n",
      "[1. 0. 0.] <-> [9.9122542e-01 7.9691876e-03 8.0538064e-04]\n",
      "[1. 0. 0.] <-> [0.99180436 0.00634934 0.00184633]\n",
      "[1. 0. 0.] <-> [0.90886605 0.00372504 0.08740897]\n",
      "[1. 0. 0.] <-> [0.9607372  0.00362847 0.03563427]\n",
      "[1. 0. 0.] <-> [0.98576283 0.00544734 0.00878983]\n",
      "[1. 0. 0.] <-> [9.8969507e-01 9.6697435e-03 6.3524529e-04]\n",
      "[1. 0. 0.] <-> [9.9047893e-01 8.8695614e-03 6.5157498e-04]\n",
      "[1. 0. 0.] <-> [9.0554690e-01 9.3981266e-02 4.7184367e-04]\n",
      "[1. 0. 0.] <-> [0.91291106 0.00316481 0.0839242 ]\n",
      "[1. 0. 0.] <-> [0.8146662  0.00421318 0.18112063]\n",
      "[1. 0. 0.] <-> [9.910287e-01 8.341952e-03 6.293332e-04]\n",
      "[1. 0. 0.] <-> [0.884394   0.00432189 0.11128408]\n",
      "[1. 0. 0.] <-> [9.6997237e-01 2.9554920e-02 4.7263814e-04]\n",
      "[1. 0. 0.] <-> [9.9124569e-01 7.9481890e-03 8.0616254e-04]\n",
      "[0. 1. 0.] <-> [2.9355526e-01 7.0610166e-01 3.4305855e-04]\n",
      "[1. 0. 0.] <-> [9.849066e-01 1.463438e-02 4.590217e-04]\n",
      "[0. 1. 0.] <-> [3.159793e-02 9.683320e-01 7.001410e-05]\n",
      "[1. 0. 0.] <-> [0.985881   0.00330512 0.01081391]\n",
      "[0. 1. 0.] <-> [3.1614829e-02 9.6831512e-01 7.0093316e-05]\n",
      "[1. 0. 0.] <-> [0.99163705 0.00542401 0.00293889]\n",
      "[1. 0. 0.] <-> [0.9750183  0.00341312 0.02156862]\n",
      "[1. 0. 0.] <-> [9.5801497e-01 4.1662022e-02 3.2301780e-04]\n",
      "[0. 1. 0.] <-> [3.1608075e-02 9.6832186e-01 7.0055976e-05]\n",
      "[1. 0. 0.] <-> [0.9770596  0.00499047 0.01794995]\n",
      "[1. 0. 0.] <-> [9.9267864e-01 6.3867243e-03 9.3460298e-04]\n",
      "[1. 0. 0.] <-> [0.9381095  0.00474454 0.05714589]\n",
      "[0. 1. 0.] <-> [3.413785e-02 9.657836e-01 7.853816e-05]\n",
      "[1. 0. 0.] <-> [0.6392723  0.00214792 0.35857984]\n",
      "[0. 0. 1.] <-> [2.1453088e-02 9.7781274e-05 9.7844911e-01]\n",
      "[0. 1. 0.] <-> [6.4591944e-01 3.5368520e-01 3.9536241e-04]\n",
      "[0. 0. 1.] <-> [2.0845456e-02 9.4323987e-05 9.7906029e-01]\n",
      "[1. 0. 0.] <-> [0.9930796  0.00546789 0.00145251]\n",
      "[1. 0. 0.] <-> [0.9936985  0.00432228 0.00197914]\n",
      "[0. 1. 0.] <-> [3.5119668e-02 9.6479678e-01 8.3512197e-05]\n",
      "[1. 0. 0.] <-> [0.9882487  0.00983427 0.00191702]\n",
      "[1. 0. 0.] <-> [0.9928154  0.0042726  0.00291203]\n",
      "[0. 1. 0.] <-> [5.9185565e-01 4.0769348e-01 4.5086694e-04]\n",
      "[0. 0. 1.] <-> [2.0990510e-02 9.5814306e-05 9.7891366e-01]\n",
      "[1. 0. 0.] <-> [9.9204797e-01 7.0083137e-03 9.4371225e-04]\n",
      "[1. 0. 0.] <-> [0.992065   0.00683481 0.00110021]\n",
      "[0. 1. 0.] <-> [3.1990536e-02 9.6793795e-01 7.1570699e-05]\n",
      "[1. 0. 0.] <-> [9.8792404e-01 1.1543443e-02 5.3261168e-04]\n",
      "[1. 0. 0.] <-> [0.9903439  0.004728   0.00492808]\n",
      "[0. 1. 0.] <-> [6.3374616e-02 9.3646967e-01 1.5570903e-04]\n",
      "[1. 0. 0.] <-> [0.99264354 0.00551279 0.00184372]\n",
      "[1. 0. 0.] <-> [9.8629969e-01 1.3268827e-02 4.3145043e-04]\n",
      "[1. 0. 0.] <-> [9.8642898e-01 1.2958001e-02 6.1304716e-04]\n",
      "[1. 0. 0.] <-> [0.98977774 0.00561013 0.00461216]\n",
      "[1. 0. 0.] <-> [0.993009   0.00584304 0.00114801]\n",
      "[1. 0. 0.] <-> [0.9929027  0.00578512 0.00131223]\n",
      "[0. 1. 0.] <-> [1.1908251e-01 8.8069540e-01 2.2209556e-04]\n",
      "[0. 0. 1.] <-> [2.3853891e-02 1.2821134e-04 9.7601783e-01]\n",
      "[0. 1. 0.] <-> [3.1616237e-02 9.6831369e-01 7.0089336e-05]\n",
      "[1. 0. 0.] <-> [9.9267066e-01 6.4533809e-03 8.7593345e-04]\n",
      "[0. 0. 1.] <-> [0.8881217  0.00218069 0.10969763]\n",
      "[1. 0. 0.] <-> [0.99301916 0.00596821 0.00101257]\n",
      "[1. 0. 0.] <-> [0.98430043 0.00318723 0.01251226]\n",
      "[1. 0. 0.] <-> [0.9903106  0.00863066 0.00105866]\n",
      "[0. 1. 0.] <-> [3.168681e-02 9.682428e-01 7.040079e-05]\n",
      "[1. 0. 0.] <-> [0.95948607 0.00369961 0.03681433]\n",
      "[1. 0. 0.] <-> [9.1995561e-01 7.9444736e-02 5.9962552e-04]\n",
      "[1. 0. 0.] <-> [0.95930105 0.0038396  0.03685937]\n",
      "[1. 0. 0.] <-> [9.9072355e-01 8.6949850e-03 5.8147032e-04]\n",
      "[1. 0. 0.] <-> [9.7734046e-01 2.2211535e-02 4.4796520e-04]\n",
      "[1. 0. 0.] <-> [9.8720258e-01 1.2049395e-02 7.4796664e-04]\n",
      "[1. 0. 0.] <-> [9.8513794e-01 1.4264887e-02 5.9721549e-04]\n",
      "[1. 0. 0.] <-> [9.8279989e-01 1.6584361e-02 6.1579951e-04]\n",
      "[0. 1. 0.] <-> [3.1584293e-02 9.6834576e-01 6.9958427e-05]\n",
      "[1. 0. 0.] <-> [0.9927747  0.00559434 0.0016309 ]\n",
      "[1. 0. 0.] <-> [0.98923266 0.0044567  0.0063107 ]\n",
      "[1. 0. 0.] <-> [0.99151504 0.003476   0.00500904]\n",
      "[0. 0. 1.] <-> [0.4682689  0.00112211 0.530609  ]\n",
      "[0. 1. 0.] <-> [8.3888873e-02 9.1594899e-01 1.6211762e-04]\n",
      "[1. 0. 0.] <-> [0.993654   0.00365659 0.00268941]\n",
      "[1. 0. 0.] <-> [9.9079579e-01 8.4529668e-03 7.5134047e-04]\n",
      "[1. 0. 0.] <-> [0.99075997 0.00804394 0.00119608]\n",
      "[1. 0. 0.] <-> [9.8943979e-01 9.8015275e-03 7.5861561e-04]\n",
      "[1. 0. 0.] <-> [9.8996490e-01 9.3824975e-03 6.5255724e-04]\n",
      "[1. 0. 0.] <-> [9.905150e-01 8.662327e-03 8.226554e-04]\n",
      "[1. 0. 0.] <-> [9.7800350e-01 2.1510620e-02 4.8580093e-04]\n",
      "[1. 0. 0.] <-> [0.993085   0.00511232 0.00180265]\n",
      "[1. 0. 0.] <-> [0.9925054  0.0045599  0.00293472]\n",
      "[1. 0. 0.] <-> [0.98913234 0.00439068 0.00647694]\n",
      "[1. 0. 0.] <-> [0.9920535  0.00506295 0.00288353]\n",
      "[0. 0. 1.] <-> [2.0956766e-02 9.4689938e-05 9.7894853e-01]\n",
      "[1. 0. 0.] <-> [9.8268270e-01 1.6792409e-02 5.2495126e-04]\n",
      "{'accuracy': 0.9691358024691358, 'mean_square_error': 0.06700408691776044, 'categorical_crossentropy': 0.11505770683288574, 'essential_metrics': {0: {'tp_hit': 76, 'fp_hit': 5, 'tn_hit': 27, 'fn_hit': 0}, 1: {'tp_hit': 14, 'fp_hit': 0, 'tn_hit': 91, 'fn_hit': 3}, 2: {'tp_hit': 13, 'fp_hit': 0, 'tn_hit': 93, 'fn_hit': 2}}}\n"
     ]
    }
   ],
   "source": [
    "# recall phase\n",
    "score = model.evaluate(x_test, y_test, False)\n",
    "print(score)"
   ]
  },
  {
   "cell_type": "code",
   "execution_count": 11,
   "metadata": {},
   "outputs": [],
   "source": [
    "train_acc = [h['accuracy'] for h in history]\n",
    "train_mse = [h['mean_square_error'] for h in history]\n",
    "train_cce = [h['categorical_crossentropy'] for h in history]"
   ]
  },
  {
   "cell_type": "code",
   "execution_count": 12,
   "metadata": {},
   "outputs": [
    {
     "data": {
      "image/png": "[encoded data removed]",
      "text/plain": [
       "<Figure size 864x360 with 1 Axes>"
      ]
     },
     "metadata": {
      "needs_background": "light"
     },
     "output_type": "display_data"
    },
    {
     "data": {
      "image/png": "[encoded data removed]",
      "text/plain": [
       "<Figure size 864x360 with 1 Axes>"
      ]
     },
     "metadata": {
      "needs_background": "light"
     },
     "output_type": "display_data"
    }
   ],
   "source": [
    "draw_plot(x = [[i for i in range(len(history))], [(i+1)*breakpoint for i in range(len(checkpoints))]], y_list = [train_cce, [ ckp[model.loss_fn] for ckp in checkpoints ]], x_label = 'Epochs', \\\n",
    "    y_label = model.loss_fn, legend=['train', 'test'])\n",
    "acc = [ ckp['accuracy'] for ckp in checkpoints ]\n",
    "draw_plot(x = [[i for i in range(len(history))], [(i+1)*breakpoint for i in range(len(checkpoints))]], y_list = [train_acc, acc], x_label = 'Checkpoints', \\\n",
    "    y_label = 'accuracy', legend=['train', 'test'])"
   ]
  },
  {
   "cell_type": "code",
   "execution_count": 13,
   "metadata": {},
   "outputs": [
    {
     "name": "stdout",
     "output_type": "stream",
     "text": [
      "{'accuracy': 0.7283950617283951, 'mean_square_error': 0.485349938758112, 'categorical_crossentropy': 0.776420169406467, 'essential_metrics': {0: {'tp_hit': 52, 'fp_hit': 15, 'tn_hit': 17, 'fn_hit': 24}, 1: {'tp_hit': 8, 'fp_hit': 1, 'tn_hit': 90, 'fn_hit': 9}, 2: {'tp_hit': 4, 'fp_hit': 28, 'tn_hit': 65, 'fn_hit': 11}}, 'checkpoint': 10} \n",
      "\n",
      "\n",
      "{'accuracy': 0.845679012345679, 'mean_square_error': 0.3428943775199772, 'categorical_crossentropy': 0.6331011454264323, 'essential_metrics': {0: {'tp_hit': 72, 'fp_hit': 14, 'tn_hit': 18, 'fn_hit': 4}, 1: {'tp_hit': 11, 'fp_hit': 11, 'tn_hit': 80, 'fn_hit': 6}, 2: {'tp_hit': 0, 'fp_hit': 0, 'tn_hit': 93, 'fn_hit': 15}}, 'checkpoint': 20} \n",
      "\n",
      "\n",
      "{'accuracy': 0.845679012345679, 'mean_square_error': 0.3228920626551815, 'categorical_crossentropy': 0.5982407463921441, 'essential_metrics': {0: {'tp_hit': 76, 'fp_hit': 19, 'tn_hit': 13, 'fn_hit': 0}, 1: {'tp_hit': 7, 'fp_hit': 6, 'tn_hit': 85, 'fn_hit': 10}, 2: {'tp_hit': 0, 'fp_hit': 0, 'tn_hit': 93, 'fn_hit': 15}}, 'checkpoint': 30} \n",
      "\n",
      "\n",
      "{'accuracy': 0.9074074074074074, 'mean_square_error': 0.24735697232667728, 'categorical_crossentropy': 0.47349732010452833, 'essential_metrics': {0: {'tp_hit': 73, 'fp_hit': 12, 'tn_hit': 20, 'fn_hit': 3}, 1: {'tp_hit': 15, 'fp_hit': 3, 'tn_hit': 88, 'fn_hit': 2}, 2: {'tp_hit': 5, 'fp_hit': 0, 'tn_hit': 93, 'fn_hit': 10}}, 'checkpoint': 40} \n",
      "\n",
      "\n",
      "{'accuracy': 0.9012345679012346, 'mean_square_error': 0.2533131328058842, 'categorical_crossentropy': 0.4683820936414931, 'essential_metrics': {0: {'tp_hit': 66, 'fp_hit': 6, 'tn_hit': 26, 'fn_hit': 10}, 1: {'tp_hit': 16, 'fp_hit': 1, 'tn_hit': 90, 'fn_hit': 1}, 2: {'tp_hit': 10, 'fp_hit': 9, 'tn_hit': 84, 'fn_hit': 5}}, 'checkpoint': 50} \n",
      "\n",
      "\n",
      "{'accuracy': 0.9382716049382716, 'mean_square_error': 0.20606124214794003, 'categorical_crossentropy': 0.4017008322256583, 'essential_metrics': {0: {'tp_hit': 75, 'fp_hit': 7, 'tn_hit': 25, 'fn_hit': 1}, 1: {'tp_hit': 12, 'fp_hit': 0, 'tn_hit': 91, 'fn_hit': 5}, 2: {'tp_hit': 11, 'fp_hit': 3, 'tn_hit': 90, 'fn_hit': 4}}, 'checkpoint': 60} \n",
      "\n",
      "\n",
      "{'accuracy': 0.9259259259259259, 'mean_square_error': 0.18750623926084464, 'categorical_crossentropy': 0.35867062321415655, 'essential_metrics': {0: {'tp_hit': 72, 'fp_hit': 8, 'tn_hit': 24, 'fn_hit': 4}, 1: {'tp_hit': 14, 'fp_hit': 0, 'tn_hit': 91, 'fn_hit': 3}, 2: {'tp_hit': 10, 'fp_hit': 4, 'tn_hit': 89, 'fn_hit': 5}}, 'checkpoint': 70} \n",
      "\n",
      "\n",
      "{'accuracy': 0.9506172839506173, 'mean_square_error': 0.15940521558158308, 'categorical_crossentropy': 0.3282145747432002, 'essential_metrics': {0: {'tp_hit': 75, 'fp_hit': 6, 'tn_hit': 26, 'fn_hit': 1}, 1: {'tp_hit': 13, 'fp_hit': 0, 'tn_hit': 91, 'fn_hit': 4}, 2: {'tp_hit': 12, 'fp_hit': 2, 'tn_hit': 91, 'fn_hit': 3}}, 'checkpoint': 80} \n",
      "\n",
      "\n",
      "{'accuracy': 0.9506172839506173, 'mean_square_error': 0.12639724936469873, 'categorical_crossentropy': 0.25533979910391347, 'essential_metrics': {0: {'tp_hit': 76, 'fp_hit': 8, 'tn_hit': 24, 'fn_hit': 0}, 1: {'tp_hit': 14, 'fp_hit': 0, 'tn_hit': 91, 'fn_hit': 3}, 2: {'tp_hit': 10, 'fp_hit': 0, 'tn_hit': 93, 'fn_hit': 5}}, 'checkpoint': 90} \n",
      "\n",
      "\n",
      "{'accuracy': 0.9691358024691358, 'mean_square_error': 0.09085954093661573, 'categorical_crossentropy': 0.19920207836009837, 'essential_metrics': {0: {'tp_hit': 75, 'fp_hit': 4, 'tn_hit': 28, 'fn_hit': 1}, 1: {'tp_hit': 16, 'fp_hit': 0, 'tn_hit': 91, 'fn_hit': 1}, 2: {'tp_hit': 12, 'fp_hit': 1, 'tn_hit': 92, 'fn_hit': 3}}, 'checkpoint': 100} \n",
      "\n",
      "\n",
      "{'accuracy': 0.9629629629629629, 'mean_square_error': 0.07680599539484066, 'categorical_crossentropy': 0.1619193465621383, 'essential_metrics': {0: {'tp_hit': 74, 'fp_hit': 4, 'tn_hit': 28, 'fn_hit': 2}, 1: {'tp_hit': 16, 'fp_hit': 0, 'tn_hit': 91, 'fn_hit': 1}, 2: {'tp_hit': 12, 'fp_hit': 2, 'tn_hit': 91, 'fn_hit': 3}}, 'checkpoint': 110} \n",
      "\n",
      "\n",
      "{'accuracy': 0.9629629629629629, 'mean_square_error': 0.07812735194775754, 'categorical_crossentropy': 0.144026482546771, 'essential_metrics': {0: {'tp_hit': 76, 'fp_hit': 6, 'tn_hit': 26, 'fn_hit': 0}, 1: {'tp_hit': 14, 'fp_hit': 0, 'tn_hit': 91, 'fn_hit': 3}, 2: {'tp_hit': 12, 'fp_hit': 0, 'tn_hit': 93, 'fn_hit': 3}}, 'checkpoint': 120} \n",
      "\n",
      "\n",
      "{'accuracy': 0.9629629629629629, 'mean_square_error': 0.08330094641557005, 'categorical_crossentropy': 0.15580818388197157, 'essential_metrics': {0: {'tp_hit': 76, 'fp_hit': 6, 'tn_hit': 26, 'fn_hit': 0}, 1: {'tp_hit': 13, 'fp_hit': 0, 'tn_hit': 91, 'fn_hit': 4}, 2: {'tp_hit': 13, 'fp_hit': 0, 'tn_hit': 93, 'fn_hit': 2}}, 'checkpoint': 130} \n",
      "\n",
      "\n",
      "{'accuracy': 0.9629629629629629, 'mean_square_error': 0.08049296935841689, 'categorical_crossentropy': 0.14703074208012334, 'essential_metrics': {0: {'tp_hit': 75, 'fp_hit': 5, 'tn_hit': 27, 'fn_hit': 1}, 1: {'tp_hit': 14, 'fp_hit': 0, 'tn_hit': 91, 'fn_hit': 3}, 2: {'tp_hit': 13, 'fp_hit': 1, 'tn_hit': 92, 'fn_hit': 2}}, 'checkpoint': 140} \n",
      "\n",
      "\n",
      "{'accuracy': 0.9691358024691358, 'mean_square_error': 0.06449682274555174, 'categorical_crossentropy': 0.12181108086197465, 'essential_metrics': {0: {'tp_hit': 76, 'fp_hit': 5, 'tn_hit': 27, 'fn_hit': 0}, 1: {'tp_hit': 14, 'fp_hit': 0, 'tn_hit': 91, 'fn_hit': 3}, 2: {'tp_hit': 13, 'fp_hit': 0, 'tn_hit': 93, 'fn_hit': 2}}, 'checkpoint': 150} \n",
      "\n",
      "\n",
      "{'accuracy': 0.9814814814814815, 'mean_square_error': 0.061057505261232374, 'categorical_crossentropy': 0.11798988448248969, 'essential_metrics': {0: {'tp_hit': 76, 'fp_hit': 3, 'tn_hit': 29, 'fn_hit': 0}, 1: {'tp_hit': 16, 'fp_hit': 0, 'tn_hit': 91, 'fn_hit': 1}, 2: {'tp_hit': 13, 'fp_hit': 0, 'tn_hit': 93, 'fn_hit': 2}}, 'checkpoint': 160} \n",
      "\n",
      "\n",
      "{'accuracy': 0.9629629629629629, 'mean_square_error': 0.07198960230969403, 'categorical_crossentropy': 0.1291838222079807, 'essential_metrics': {0: {'tp_hit': 76, 'fp_hit': 6, 'tn_hit': 26, 'fn_hit': 0}, 1: {'tp_hit': 14, 'fp_hit': 0, 'tn_hit': 91, 'fn_hit': 3}, 2: {'tp_hit': 12, 'fp_hit': 0, 'tn_hit': 93, 'fn_hit': 3}}, 'checkpoint': 170} \n",
      "\n",
      "\n",
      "{'accuracy': 0.9691358024691358, 'mean_square_error': 0.0644101259885166, 'categorical_crossentropy': 0.11686152882046169, 'essential_metrics': {0: {'tp_hit': 76, 'fp_hit': 5, 'tn_hit': 27, 'fn_hit': 0}, 1: {'tp_hit': 14, 'fp_hit': 0, 'tn_hit': 91, 'fn_hit': 3}, 2: {'tp_hit': 13, 'fp_hit': 0, 'tn_hit': 93, 'fn_hit': 2}}, 'checkpoint': 180} \n",
      "\n",
      "\n",
      "{'accuracy': 0.9629629629629629, 'mean_square_error': 0.07597454429537441, 'categorical_crossentropy': 0.1329573260413276, 'essential_metrics': {0: {'tp_hit': 76, 'fp_hit': 6, 'tn_hit': 26, 'fn_hit': 0}, 1: {'tp_hit': 14, 'fp_hit': 0, 'tn_hit': 91, 'fn_hit': 3}, 2: {'tp_hit': 12, 'fp_hit': 0, 'tn_hit': 93, 'fn_hit': 3}}, 'checkpoint': 190} \n",
      "\n",
      "\n",
      "{'accuracy': 0.9691358024691358, 'mean_square_error': 0.06700408691776044, 'categorical_crossentropy': 0.11505770683288574, 'essential_metrics': {0: {'tp_hit': 76, 'fp_hit': 5, 'tn_hit': 27, 'fn_hit': 0}, 1: {'tp_hit': 14, 'fp_hit': 0, 'tn_hit': 91, 'fn_hit': 3}, 2: {'tp_hit': 13, 'fp_hit': 0, 'tn_hit': 93, 'fn_hit': 2}}, 'checkpoint': 200} \n",
      "\n",
      "\n"
     ]
    }
   ],
   "source": [
    "for checkpoint in checkpoints:\n",
    "    print(checkpoint, '\\n\\n')"
   ]
  },
  {
   "cell_type": "code",
   "execution_count": 14,
   "metadata": {},
   "outputs": [
    {
     "name": "stdout",
     "output_type": "stream",
     "text": [
      "Layer 1\n",
      "Neuron 0: weights:\n",
      "[ 1.818568  -3.        -2.5956903 -0.7761401  0.4398575]\n",
      " bias: 3.0\n",
      "\n",
      "Neuron 1: weights:\n",
      "[ 1.7834858  -3.         -0.97729754  3.          0.6766404 ]\n",
      " bias: -3.0\n",
      "\n",
      "Neuron 2: weights:\n",
      "[ 0.15071556 -2.5999742  -0.300181    2.2032356   1.0704648 ]\n",
      " bias: -1.7693724632263184\n",
      "\n",
      "Neuron 3: weights:\n",
      "[-0.763254    1.6384772   1.1746033   0.49856934 -0.33572108]\n",
      " bias: -0.6050989031791687\n",
      "\n",
      "$\n",
      "Layer 2\n",
      "Neuron 0: weights:\n",
      "[ 3.         -3.         -1.7758585  -0.30824134]\n",
      " bias: 1.7162123918533325\n",
      "\n",
      "Neuron 1: weights:\n",
      "[-3.       -1.310736 -3.        3.      ]\n",
      " bias: 1.831019401550293\n",
      "\n",
      "Neuron 2: weights:\n",
      "[-0.48771375  3.          3.         -3.        ]\n",
      " bias: -1.7046489715576172\n",
      "\n",
      "$\n",
      "\n"
     ]
    }
   ],
   "source": [
    "print(model)"
   ]
  },
  {
   "cell_type": "code",
   "execution_count": null,
   "metadata": {},
   "outputs": [],
   "source": []
  }
 ],
 "metadata": {
  "kernelspec": {
   "display_name": "Python 3",
   "language": "python",
   "name": "python3"
  },
  "language_info": {
   "codemirror_mode": {
    "name": "ipython",
    "version": 3
   },
   "file_extension": ".py",
   "mimetype": "text/x-python",
   "name": "python",
   "nbconvert_exporter": "python",
   "pygments_lexer": "ipython3",
   "version": "3.6.12"
  }
 },
 "nbformat": 4,
 "nbformat_minor": 2
}
