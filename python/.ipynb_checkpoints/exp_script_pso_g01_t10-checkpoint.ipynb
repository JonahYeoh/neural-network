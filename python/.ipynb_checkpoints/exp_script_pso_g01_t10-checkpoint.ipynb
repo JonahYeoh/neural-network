{
 "cells": [
  {
   "cell_type": "code",
   "execution_count": 1,
   "metadata": {},
   "outputs": [],
   "source": [
    "# dependency\n",
    "import numpy as np\n",
    "import pandas as pd\n",
    "import copy\n",
    "import math\n",
    "import sys\n",
    "import os\n",
    "from activations import relu, leaky_relu, sigmoid, tanh, softmax, d_sigmoid, d_relu\n",
    "from initializers import glorot_uniform, random_normal, random_uniform\n",
    "from regularizers import l1_regularizer, l2_regularizer\n",
    "from utility import trim_tail, multiply, subtract, get_nparams, one_hot_encoding, get_data\n",
    "from metrics import MSE, CCE, ACC, PRECISION, RECALL, essential_metrics, wondering_penalty, close_gap_penalty\n",
    "from pso import PSO\n",
    "from ga import GA\n",
    "from nn import Network\n",
    "from layer import DenseLayer\n",
    "from scalers import MinMaxScaler, StandardScaler"
   ]
  },
  {
   "cell_type": "code",
   "execution_count": 2,
   "metadata": {},
   "outputs": [],
   "source": [
    "# reference\n",
    "metrics_fn_dict = dict()\n",
    "metrics_fn_dict['accuracy'] = ACC\n",
    "metrics_fn_dict['categorical_crossentropy'] = CCE\n",
    "metrics_fn_dict['mean_square_error'] = MSE\n",
    "metrics_fn_dict['precision'] = PRECISION\n",
    "metrics_fn_dict['recall'] = RECALL\n",
    "metrics_fn_dict['essential_metrics'] = essential_metrics"
   ]
  },
  {
   "cell_type": "code",
   "execution_count": 3,
   "metadata": {},
   "outputs": [],
   "source": [
    "# model\n",
    "model = Network(5, lr = None)\n",
    "model.add_layer(DenseLayer(1, 4, True, afn=sigmoid, dafn=None, rfn=None))\n",
    "model.add_layer(DenseLayer(2, 3, True, afn=softmax, dafn=None, rfn=None))"
   ]
  },
  {
   "cell_type": "code",
   "execution_count": 4,
   "metadata": {},
   "outputs": [
    {
     "name": "stdout",
     "output_type": "stream",
     "text": [
      "see one see two 2.0 0.5\n"
     ]
    }
   ],
   "source": [
    "pso = PSO(dict(m = 50,\n",
    "    weight_constraint = [-3, 3], \n",
    "    velocity_constraint = [-0.1, 0.1],\n",
    "    c1 = [0.5, 2.0],\n",
    "    c2 = [0.5, 2.0],\n",
    "    w = [0.5, 1.6],\n",
    "    w_decay = 0.95,\n",
    "    scale_hyperparameter = False,\n",
    "    regularizer = l1_regularizer,\n",
    "    mask = True))"
   ]
  },
  {
   "cell_type": "code",
   "execution_count": 5,
   "metadata": {},
   "outputs": [
    {
     "name": "stdout",
     "output_type": "stream",
     "text": [
      "building layer 1 with 5\n",
      "24\n",
      "building layer 2 with 4\n",
      "15\n"
     ]
    }
   ],
   "source": [
    "model.compile(loss_fn = 'categorical_crossentropy', optimizer = pso, \\\n",
    "    metrics = ['accuracy', 'mean_square_error', 'categorical_crossentropy'])"
   ]
  },
  {
   "cell_type": "code",
   "execution_count": 6,
   "metadata": {},
   "outputs": [
    {
     "name": "stdout",
     "output_type": "stream",
     "text": [
      "<class 'pandas.core.frame.DataFrame'>\n",
      "RangeIndex: 107 entries, 0 to 106\n",
      "Data columns (total 6 columns):\n",
      " #   Column  Non-Null Count  Dtype  \n",
      "---  ------  --------------  -----  \n",
      " 0   f1      107 non-null    float32\n",
      " 1   f2      107 non-null    float32\n",
      " 2   f3      107 non-null    float32\n",
      " 3   f4      107 non-null    float32\n",
      " 4   f5      107 non-null    float32\n",
      " 5   label   107 non-null    float32\n",
      "dtypes: float32(6)\n",
      "memory usage: 2.6 KB\n",
      "None\n",
      "<class 'pandas.core.frame.DataFrame'>\n",
      "RangeIndex: 108 entries, 0 to 107\n",
      "Data columns (total 6 columns):\n",
      " #   Column  Non-Null Count  Dtype  \n",
      "---  ------  --------------  -----  \n",
      " 0   f1      108 non-null    float32\n",
      " 1   f2      108 non-null    float32\n",
      " 2   f3      108 non-null    float32\n",
      " 3   f4      108 non-null    float32\n",
      " 4   f5      108 non-null    float32\n",
      " 5   label   108 non-null    float32\n",
      "dtypes: float32(6)\n",
      "memory usage: 2.7 KB\n",
      "None\n"
     ]
    }
   ],
   "source": [
    "# data loading\n",
    "DATA = os.path.join('c:\\\\Users\\\\AI-lab\\\\github_repo\\\\neural-network\\\\', 'dataset')\n",
    "GROUP = 1\n",
    "COLUMNS = ['f1', 'f2', 'f3', 'f4', 'f5', 'label']\n",
    "N_CLASS = 3\n",
    "EPOCHS = 200\n",
    "train_dir, test_dir = \"..//dataset//training_data{}.txt\".format(GROUP), \"..//dataset//testing_data{}.txt\".format(GROUP)\n",
    "train, test = get_data(DATA, train_dir, COLUMNS), get_data(DATA, test_dir, COLUMNS)\n",
    "# shuffle\n",
    "train, test = train.sample(frac=1), test.sample(frac=1)\n",
    "x_train, y_train = train.drop('label', axis=1), train['label']\n",
    "x_test, y_test = test.drop('label', axis=1), test['label']"
   ]
  },
  {
   "cell_type": "code",
   "execution_count": 7,
   "metadata": {},
   "outputs": [],
   "source": [
    "# data scaling and encoding\n",
    "scaler = StandardScaler(['f1', 'f2', 'f3', 'f4', 'f5'])\n",
    "scaler.fit(x_train)\n",
    "x_train = scaler.transform(x_train)\n",
    "x_test = scaler.transform(x_test)\n",
    "y_train = one_hot_encoding(y_train, N_CLASS)\n",
    "y_test = one_hot_encoding(y_test, N_CLASS)"
   ]
  },
  {
   "cell_type": "code",
   "execution_count": 8,
   "metadata": {
    "tags": [
     "outputPrepend"
    ]
   },
   "outputs": [
    {
     "name": "stdout",
     "output_type": "stream",
     "text": [
      "Checkpoint 10, Accuracy: 0.8580246913580247, Loss: 0.5434778354786061\n",
      "Checkpoint 20, Accuracy: 0.8580246913580247, Loss: 0.5417422541865596\n",
      "Checkpoint 30, Accuracy: 0.8888888888888888, Loss: 0.48916004322193285\n",
      "Checkpoint 40, Accuracy: 0.9382716049382716, Loss: 0.4400327823780201\n",
      "Checkpoint 50, Accuracy: 0.9259259259259259, Loss: 0.37488806689227067\n",
      "Checkpoint 60, Accuracy: 0.9444444444444444, Loss: 0.31278500733552156\n",
      "Checkpoint 70, Accuracy: 0.9691358024691358, Loss: 0.305678579542372\n",
      "Checkpoint 80, Accuracy: 0.9629629629629629, Loss: 0.26660883868182145\n",
      "Checkpoint 90, Accuracy: 0.9691358024691358, Loss: 0.2447109752231174\n",
      "Checkpoint 100, Accuracy: 0.9691358024691358, Loss: 0.2370981287073206\n",
      "Checkpoint 110, Accuracy: 0.9753086419753086, Loss: 0.2405294312371148\n",
      "Checkpoint 120, Accuracy: 0.9691358024691358, Loss: 0.22187342467131438\n",
      "Checkpoint 130, Accuracy: 0.9691358024691358, Loss: 0.18328173955281576\n",
      "Checkpoint 140, Accuracy: 0.9691358024691358, Loss: 0.18328173955281576\n",
      "Checkpoint 150, Accuracy: 0.9753086419753086, Loss: 0.1794913963035301\n",
      "Checkpoint 160, Accuracy: 0.9691358024691358, Loss: 0.18182943485401296\n",
      "Checkpoint 170, Accuracy: 0.9691358024691358, Loss: 0.1820434640955042\n",
      "Checkpoint 180, Accuracy: 0.9753086419753086, Loss: 0.1771731729860659\n",
      "Checkpoint 190, Accuracy: 0.9753086419753086, Loss: 0.17809973822699654\n",
      "Checkpoint 200, Accuracy: 0.9753086419753086, Loss: 0.16511267202871818\n"
     ]
    }
   ],
   "source": [
    "# learning phase\n",
    "breakpoint = 10\n",
    "checkpoints = list()\n",
    "history = list()\n",
    "for century in range(0, EPOCHS, breakpoint):\n",
    "    sub_history = model.fit(x_train, y_train, breakpoint, verbose = 0)\n",
    "    score = model.evaluate(x_test, y_test, False, verbose = 0)\n",
    "    print('Checkpoint {}, Accuracy: {}, Loss: {}'.format(century+breakpoint, score['accuracy'], score[model.loss_fn]))\n",
    "    score['checkpoint'] = century + breakpoint\n",
    "    checkpoints.append(score)\n",
    "    history.extend(sub_history)\n",
    "    itr = century + breakpoint\n",
    "    model.optimizer.c1 = np.max([model.optimizer.C1[1] - ((model.optimizer.C1[1] - model.optimizer.C1[0]) * itr / EPOCHS), model.optimizer.C1[0]])\n",
    "    model.optimizer.c2 = np.min([model.optimizer.C2[0] + ((model.optimizer.C2[1] - model.optimizer.C2[0]) * itr / EPOCHS), model.optimizer.C2[1]])\n",
    "    model.optimizer.w = np.max([model.optimizer.w * model.optimizer.W_Decay, model.optimizer.W[0]])"
   ]
  },
  {
   "cell_type": "code",
   "execution_count": 9,
   "metadata": {},
   "outputs": [],
   "source": [
    "import matplotlib.pyplot as plt\n",
    "\n",
    "def draw_plot(x, y_list, x_label=None, y_label=None, legend=None, title=None):\n",
    "    fig, ax = plt.subplots(figsize=(12,5))\n",
    "    for xi, yi in zip(x, y_list):\n",
    "        ax.plot(xi, yi)\n",
    "    if x_label is not None and y_label is not None:\n",
    "        ax.set(xlabel=x_label, ylabel=y_label, title='{} VS {}'.format(x_label, y_label))\n",
    "    if legend is not None:\n",
    "        ax.legend(legend)\n",
    "    ax.grid()\n",
    "    plt.show()"
   ]
  },
  {
   "cell_type": "code",
   "execution_count": 10,
   "metadata": {},
   "outputs": [],
   "source": [
    "train_acc = [h['accuracy'] for h in history]\n",
    "train_mse = [h['mean_square_error'] for h in history]\n",
    "train_cce = [h['categorical_crossentropy'] for h in history]"
   ]
  },
  {
   "cell_type": "code",
   "execution_count": 11,
   "metadata": {},
   "outputs": [
    {
     "data": {
      "image/png": "[encoded data removed]",
      "text/plain": [
       "<Figure size 864x360 with 1 Axes>"
      ]
     },
     "metadata": {
      "needs_background": "light"
     },
     "output_type": "display_data"
    },
    {
     "data": {
      "image/png": "[encoded data removed]",
      "text/plain": [
       "<Figure size 864x360 with 1 Axes>"
      ]
     },
     "metadata": {
      "needs_background": "light"
     },
     "output_type": "display_data"
    }
   ],
   "source": [
    "draw_plot(x = [[i for i in range(len(history))], [(i+1)*breakpoint for i in range(len(checkpoints))]], y_list = [train_cce, [ ckp[model.loss_fn] for ckp in checkpoints ]], x_label = 'Epochs', \\\n",
    "    y_label = model.loss_fn, legend=['train', 'test'])\n",
    "acc = [ ckp['accuracy'] for ckp in checkpoints ]\n",
    "draw_plot(x = [[i for i in range(len(history))], [(i+1)*breakpoint for i in range(len(checkpoints))]], y_list = [train_acc, acc], x_label = 'Checkpoints', \\\n",
    "    y_label = 'accuracy', legend=['train', 'test'])"
   ]
  },
  {
   "cell_type": "code",
   "execution_count": 12,
   "metadata": {},
   "outputs": [
    {
     "name": "stdout",
     "output_type": "stream",
     "text": [
      "[1. 0. 0.] <-> [0.9304074  0.02800482 0.04158782]\n",
      "[1. 0. 0.] <-> [0.9331578  0.02311949 0.04372272]\n",
      "[1. 0. 0.] <-> [0.87994206 0.03428026 0.08577777]\n",
      "[1. 0. 0.] <-> [0.94853896 0.0272928  0.02416827]\n",
      "[1. 0. 0.] <-> [0.8166803  0.04278332 0.1405363 ]\n",
      "[1. 0. 0.] <-> [0.9202145  0.05460202 0.02518348]\n",
      "[1. 0. 0.] <-> [0.94663864 0.04017922 0.01318213]\n",
      "[1. 0. 0.] <-> [0.772128   0.03251803 0.19535393]\n",
      "[1. 0. 0.] <-> [0.8503366  0.02655621 0.12310717]\n",
      "[1. 0. 0.] <-> [0.91710186 0.03244551 0.05045253]\n",
      "[1. 0. 0.] <-> [0.94247466 0.03567461 0.02185075]\n",
      "[0. 1. 0.] <-> [0.07544047 0.92184794 0.00271165]\n",
      "[1. 0. 0.] <-> [0.93492186 0.03279466 0.03228341]\n",
      "[1. 0. 0.] <-> [0.9202565  0.02691107 0.05283244]\n",
      "[1. 0. 0.] <-> [0.9532155  0.02565648 0.02112811]\n",
      "[1. 0. 0.] <-> [0.9240206  0.06395914 0.01202027]\n",
      "[1. 0. 0.] <-> [0.8339974  0.03460222 0.13140038]\n",
      "[1. 0. 0.] <-> [0.9439477  0.04187673 0.01417566]\n",
      "[1. 0. 0.] <-> [0.8913954  0.09204496 0.01655961]\n",
      "[1. 0. 0.] <-> [0.9592307  0.02326786 0.01750141]\n",
      "[0. 1. 0.] <-> [0.11363598 0.8822133  0.00415074]\n",
      "[1. 0. 0.] <-> [0.9444724  0.04071767 0.01480991]\n",
      "[1. 0. 0.] <-> [0.9094011  0.02253466 0.06806418]\n",
      "[1. 0. 0.] <-> [0.9452139  0.01624268 0.03854346]\n",
      "[1. 0. 0.] <-> [0.9495389  0.03501435 0.01544673]\n",
      "[1. 0. 0.] <-> [0.9465727  0.03150884 0.02191839]\n",
      "[1. 0. 0.] <-> [0.92405456 0.0307944  0.045151  ]\n",
      "[0. 1. 0.] <-> [0.12685673 0.8668531  0.00629011]\n",
      "[1. 0. 0.] <-> [0.9296709  0.03501934 0.03530969]\n",
      "[1. 0. 0.] <-> [0.8918855  0.02661215 0.0815023 ]\n",
      "[0. 1. 0.] <-> [0.07423664 0.9232023  0.00256106]\n",
      "[1. 0. 0.] <-> [0.9472151  0.02768315 0.02510174]\n",
      "[1. 0. 0.] <-> [0.65667224 0.32771778 0.01560993]\n",
      "[1. 0. 0.] <-> [0.9373363  0.03877337 0.02389023]\n",
      "[1. 0. 0.] <-> [0.93403476 0.04913891 0.01682634]\n",
      "[1. 0. 0.] <-> [0.940296   0.04952298 0.01018097]\n",
      "[1. 0. 0.] <-> [0.88273484 0.10405323 0.01321201]\n",
      "[0. 1. 0.] <-> [0.0964111  0.89938074 0.00420813]\n",
      "[0. 0. 1.] <-> [0.09543201 0.00925462 0.8953133 ]\n",
      "[0. 0. 1.] <-> [0.12137462 0.00791972 0.87070566]\n",
      "[0. 1. 0.] <-> [0.08062669 0.91587126 0.00350202]\n",
      "[0. 0. 1.] <-> [0.11519536 0.00927003 0.8755346 ]\n",
      "[1. 0. 0.] <-> [0.59385085 0.03391111 0.372238  ]\n",
      "[1. 0. 0.] <-> [0.93497086 0.03920319 0.02582597]\n",
      "[0. 1. 0.] <-> [0.2520941  0.7386117  0.00929419]\n",
      "[0. 0. 1.] <-> [0.10173957 0.00782134 0.89043915]\n",
      "[1. 0. 0.] <-> [0.92376906 0.02982236 0.04640868]\n",
      "[0. 0. 1.] <-> [0.08459807 0.00737983 0.9080221 ]\n",
      "[1. 0. 0.] <-> [0.9313289  0.0357029  0.03296821]\n",
      "[0. 0. 1.] <-> [0.1613609  0.01887171 0.8197674 ]\n",
      "[1. 0. 0.] <-> [0.95690465 0.01810842 0.02498685]\n",
      "[1. 0. 0.] <-> [0.9407647  0.04759197 0.0116433 ]\n",
      "[1. 0. 0.] <-> [0.95911556 0.02576166 0.01512286]\n",
      "[1. 0. 0.] <-> [0.95853025 0.0280426  0.01342715]\n",
      "[1. 0. 0.] <-> [0.8860691  0.02077388 0.09315696]\n",
      "[0. 1. 0.] <-> [0.60290104 0.38153175 0.01556722]\n",
      "[0. 0. 1.] <-> [0.08555486 0.00685761 0.9075875 ]\n",
      "[0. 1. 0.] <-> [0.22983952 0.7607143  0.00944624]\n",
      "[1. 0. 0.] <-> [0.95026296 0.0269436  0.02279348]\n",
      "[1. 0. 0.] <-> [0.9367685  0.02553075 0.0377007 ]\n",
      "[1. 0. 0.] <-> [0.898005   0.03574836 0.06624664]\n",
      "[1. 0. 0.] <-> [0.9472242  0.03603843 0.01673734]\n",
      "[0. 1. 0.] <-> [0.12102528 0.87429357 0.00468124]\n",
      "[1. 0. 0.] <-> [0.75424623 0.03082957 0.21492416]\n",
      "[1. 0. 0.] <-> [0.25909755 0.01667277 0.7242297 ]\n",
      "[1. 0. 0.] <-> [0.92564666 0.02470199 0.04965134]\n",
      "[1. 0. 0.] <-> [0.9547224  0.0308643  0.01441338]\n",
      "[1. 0. 0.] <-> [0.834212   0.15003778 0.01575025]\n",
      "[1. 0. 0.] <-> [0.9622808  0.02201321 0.01570599]\n",
      "[0. 1. 0.] <-> [0.48205832 0.50632983 0.01161192]\n",
      "[1. 0. 0.] <-> [0.94937736 0.0299538  0.02066887]\n",
      "[1. 0. 0.] <-> [0.9463265  0.02134147 0.03233209]\n",
      "[1. 0. 0.] <-> [0.93787384 0.04903657 0.01308957]\n",
      "[1. 0. 0.] <-> [0.77751637 0.02085571 0.20162788]\n",
      "[1. 0. 0.] <-> [0.92626125 0.02500666 0.04873212]\n",
      "[1. 0. 0.] <-> [0.87062776 0.1119352  0.01743698]\n",
      "[1. 0. 0.] <-> [0.90171087 0.083691   0.01459814]\n",
      "[1. 0. 0.] <-> [0.92395216 0.03435338 0.04169443]\n",
      "[1. 0. 0.] <-> [0.87033004 0.02483731 0.10483274]\n",
      "[0. 1. 0.] <-> [0.17922261 0.81241167 0.00836575]\n",
      "[0. 1. 0.] <-> [0.4233481  0.56626827 0.01038363]\n",
      "[0. 0. 1.] <-> [0.78473186 0.02952137 0.18574674]\n",
      "[1. 0. 0.] <-> [0.9160511  0.02351238 0.0604365 ]\n",
      "[1. 0. 0.] <-> [0.75272185 0.23566107 0.01161709]\n",
      "[0. 0. 1.] <-> [0.16096456 0.01590436 0.8231311 ]\n",
      "[0. 1. 0.] <-> [0.06968646 0.9271482  0.00316529]\n",
      "[1. 0. 0.] <-> [0.94215786 0.03362459 0.02421762]\n",
      "[1. 0. 0.] <-> [0.85991645 0.02173641 0.11834712]\n",
      "[1. 0. 0.] <-> [0.9305194  0.02148376 0.04799676]\n",
      "[1. 0. 0.] <-> [0.8446952  0.03658345 0.11872134]\n",
      "[0. 0. 1.] <-> [0.08265396 0.00778105 0.90956503]\n",
      "[1. 0. 0.] <-> [0.9527424  0.02885975 0.01839785]\n",
      "[1. 0. 0.] <-> [0.93642914 0.05437871 0.00919214]\n",
      "[1. 0. 0.] <-> [0.67478126 0.02569791 0.2995208 ]\n",
      "[1. 0. 0.] <-> [0.8834501  0.09847271 0.01807717]\n",
      "[1. 0. 0.] <-> [0.9197446  0.0266862  0.05356919]\n",
      "[1. 0. 0.] <-> [0.9250641  0.02003375 0.05490211]\n",
      "[1. 0. 0.] <-> [0.9058394  0.03096461 0.06319594]\n",
      "[0. 0. 1.] <-> [0.08283278 0.0077954  0.90937185]\n",
      "[1. 0. 0.] <-> [0.84803194 0.02787665 0.12409139]\n",
      "[0. 1. 0.] <-> [0.29729623 0.6939608  0.00874293]\n",
      "[1. 0. 0.] <-> [0.93304175 0.02020253 0.04675573]\n",
      "[1. 0. 0.] <-> [0.90272653 0.06895321 0.02832025]\n",
      "[1. 0. 0.] <-> [0.918547   0.03128347 0.05016949]\n",
      "[1. 0. 0.] <-> [0.93679506 0.02849584 0.03470917]\n",
      "[0. 0. 1.] <-> [0.08255444 0.00795129 0.90949434]\n",
      "[1. 0. 0.] <-> [0.9531843  0.02863431 0.01818129]\n",
      "[0. 0. 1.] <-> [0.5264478  0.02143924 0.45211294]\n",
      "{'accuracy': 0.9753086419753086, 'mean_square_error': 0.06932390098510645, 'categorical_crossentropy': 0.16511267202871818, 'essential_metrics': {0: {'tp_hit': 79, 'fp_hit': 3, 'tn_hit': 25, 'fn_hit': 1}, 1: {'tp_hit': 14, 'fp_hit': 0, 'tn_hit': 93, 'fn_hit': 1}, 2: {'tp_hit': 11, 'fp_hit': 1, 'tn_hit': 94, 'fn_hit': 2}}}\n"
     ]
    }
   ],
   "source": [
    "# recall phase\n",
    "score = model.evaluate(x_test, y_test, False)\n",
    "print(score)"
   ]
  },
  {
   "cell_type": "code",
   "execution_count": 13,
   "metadata": {},
   "outputs": [
    {
     "name": "stdout",
     "output_type": "stream",
     "text": [
      "{'accuracy': 0.8580246913580247, 'mean_square_error': 0.3287542830317377, 'categorical_crossentropy': 0.5434778354786061, 'essential_metrics': {0: {'tp_hit': 71, 'fp_hit': 14, 'tn_hit': 14, 'fn_hit': 9}, 1: {'tp_hit': 4, 'fp_hit': 0, 'tn_hit': 93, 'fn_hit': 11}, 2: {'tp_hit': 10, 'fp_hit': 9, 'tn_hit': 86, 'fn_hit': 3}}, 'checkpoint': 10} \n",
      "\n",
      "\n",
      "{'accuracy': 0.8580246913580247, 'mean_square_error': 0.31615348984269903, 'categorical_crossentropy': 0.5417422541865596, 'essential_metrics': {0: {'tp_hit': 70, 'fp_hit': 13, 'tn_hit': 15, 'fn_hit': 10}, 1: {'tp_hit': 5, 'fp_hit': 0, 'tn_hit': 93, 'fn_hit': 10}, 2: {'tp_hit': 10, 'fp_hit': 10, 'tn_hit': 85, 'fn_hit': 3}}, 'checkpoint': 20} \n",
      "\n",
      "\n",
      "{'accuracy': 0.8888888888888888, 'mean_square_error': 0.2571895882778329, 'categorical_crossentropy': 0.48916004322193285, 'essential_metrics': {0: {'tp_hit': 79, 'fp_hit': 17, 'tn_hit': 11, 'fn_hit': 1}, 1: {'tp_hit': 1, 'fp_hit': 0, 'tn_hit': 93, 'fn_hit': 14}, 2: {'tp_hit': 10, 'fp_hit': 1, 'tn_hit': 94, 'fn_hit': 3}}, 'checkpoint': 30} \n",
      "\n",
      "\n",
      "{'accuracy': 0.9382716049382716, 'mean_square_error': 0.22334121016469996, 'categorical_crossentropy': 0.4400327823780201, 'essential_metrics': {0: {'tp_hit': 80, 'fp_hit': 10, 'tn_hit': 18, 'fn_hit': 0}, 1: {'tp_hit': 10, 'fp_hit': 0, 'tn_hit': 93, 'fn_hit': 5}, 2: {'tp_hit': 8, 'fp_hit': 0, 'tn_hit': 95, 'fn_hit': 5}}, 'checkpoint': 40} \n",
      "\n",
      "\n",
      "{'accuracy': 0.9259259259259259, 'mean_square_error': 0.18745587765142127, 'categorical_crossentropy': 0.37488806689227067, 'essential_metrics': {0: {'tp_hit': 80, 'fp_hit': 12, 'tn_hit': 16, 'fn_hit': 0}, 1: {'tp_hit': 11, 'fp_hit': 0, 'tn_hit': 93, 'fn_hit': 4}, 2: {'tp_hit': 5, 'fp_hit': 0, 'tn_hit': 95, 'fn_hit': 8}}, 'checkpoint': 50} \n",
      "\n",
      "\n",
      "{'accuracy': 0.9444444444444444, 'mean_square_error': 0.14953456633354023, 'categorical_crossentropy': 0.31278500733552156, 'essential_metrics': {0: {'tp_hit': 80, 'fp_hit': 9, 'tn_hit': 19, 'fn_hit': 0}, 1: {'tp_hit': 12, 'fp_hit': 0, 'tn_hit': 93, 'fn_hit': 3}, 2: {'tp_hit': 7, 'fp_hit': 0, 'tn_hit': 95, 'fn_hit': 6}}, 'checkpoint': 60} \n",
      "\n",
      "\n",
      "{'accuracy': 0.9691358024691358, 'mean_square_error': 0.1363505453193013, 'categorical_crossentropy': 0.305678579542372, 'essential_metrics': {0: {'tp_hit': 79, 'fp_hit': 4, 'tn_hit': 24, 'fn_hit': 1}, 1: {'tp_hit': 13, 'fp_hit': 0, 'tn_hit': 93, 'fn_hit': 2}, 2: {'tp_hit': 11, 'fp_hit': 1, 'tn_hit': 94, 'fn_hit': 2}}, 'checkpoint': 70} \n",
      "\n",
      "\n",
      "{'accuracy': 0.9629629629629629, 'mean_square_error': 0.11818488490804349, 'categorical_crossentropy': 0.26660883868182145, 'essential_metrics': {0: {'tp_hit': 79, 'fp_hit': 5, 'tn_hit': 23, 'fn_hit': 1}, 1: {'tp_hit': 13, 'fp_hit': 0, 'tn_hit': 93, 'fn_hit': 2}, 2: {'tp_hit': 10, 'fp_hit': 1, 'tn_hit': 94, 'fn_hit': 3}}, 'checkpoint': 80} \n",
      "\n",
      "\n",
      "{'accuracy': 0.9691358024691358, 'mean_square_error': 0.10467428375315857, 'categorical_crossentropy': 0.2447109752231174, 'essential_metrics': {0: {'tp_hit': 79, 'fp_hit': 4, 'tn_hit': 24, 'fn_hit': 1}, 1: {'tp_hit': 13, 'fp_hit': 0, 'tn_hit': 93, 'fn_hit': 2}, 2: {'tp_hit': 11, 'fp_hit': 1, 'tn_hit': 94, 'fn_hit': 2}}, 'checkpoint': 90} \n",
      "\n",
      "\n",
      "{'accuracy': 0.9691358024691358, 'mean_square_error': 0.10593647107580317, 'categorical_crossentropy': 0.2370981287073206, 'essential_metrics': {0: {'tp_hit': 79, 'fp_hit': 4, 'tn_hit': 24, 'fn_hit': 1}, 1: {'tp_hit': 12, 'fp_hit': 0, 'tn_hit': 93, 'fn_hit': 3}, 2: {'tp_hit': 12, 'fp_hit': 1, 'tn_hit': 94, 'fn_hit': 1}}, 'checkpoint': 100} \n",
      "\n",
      "\n",
      "{'accuracy': 0.9753086419753086, 'mean_square_error': 0.10035749801542629, 'categorical_crossentropy': 0.2405294312371148, 'essential_metrics': {0: {'tp_hit': 79, 'fp_hit': 3, 'tn_hit': 25, 'fn_hit': 1}, 1: {'tp_hit': 14, 'fp_hit': 0, 'tn_hit': 93, 'fn_hit': 1}, 2: {'tp_hit': 11, 'fp_hit': 1, 'tn_hit': 94, 'fn_hit': 2}}, 'checkpoint': 110} \n",
      "\n",
      "\n",
      "{'accuracy': 0.9691358024691358, 'mean_square_error': 0.0960224940993899, 'categorical_crossentropy': 0.22187342467131438, 'essential_metrics': {0: {'tp_hit': 79, 'fp_hit': 4, 'tn_hit': 24, 'fn_hit': 1}, 1: {'tp_hit': 13, 'fp_hit': 0, 'tn_hit': 93, 'fn_hit': 2}, 2: {'tp_hit': 11, 'fp_hit': 1, 'tn_hit': 94, 'fn_hit': 2}}, 'checkpoint': 120} \n",
      "\n",
      "\n",
      "{'accuracy': 0.9691358024691358, 'mean_square_error': 0.07713293889038965, 'categorical_crossentropy': 0.18328173955281576, 'essential_metrics': {0: {'tp_hit': 79, 'fp_hit': 4, 'tn_hit': 24, 'fn_hit': 1}, 1: {'tp_hit': 13, 'fp_hit': 0, 'tn_hit': 93, 'fn_hit': 2}, 2: {'tp_hit': 11, 'fp_hit': 1, 'tn_hit': 94, 'fn_hit': 2}}, 'checkpoint': 130} \n",
      "\n",
      "\n",
      "{'accuracy': 0.9691358024691358, 'mean_square_error': 0.07713293889038965, 'categorical_crossentropy': 0.18328173955281576, 'essential_metrics': {0: {'tp_hit': 79, 'fp_hit': 4, 'tn_hit': 24, 'fn_hit': 1}, 1: {'tp_hit': 13, 'fp_hit': 0, 'tn_hit': 93, 'fn_hit': 2}, 2: {'tp_hit': 11, 'fp_hit': 1, 'tn_hit': 94, 'fn_hit': 2}}, 'checkpoint': 140} \n",
      "\n",
      "\n",
      "{'accuracy': 0.9753086419753086, 'mean_square_error': 0.07287279308154619, 'categorical_crossentropy': 0.1794913963035301, 'essential_metrics': {0: {'tp_hit': 79, 'fp_hit': 3, 'tn_hit': 25, 'fn_hit': 1}, 1: {'tp_hit': 13, 'fp_hit': 0, 'tn_hit': 93, 'fn_hit': 2}, 2: {'tp_hit': 12, 'fp_hit': 1, 'tn_hit': 94, 'fn_hit': 1}}, 'checkpoint': 150} \n",
      "\n",
      "\n",
      "{'accuracy': 0.9691358024691358, 'mean_square_error': 0.0799936653424644, 'categorical_crossentropy': 0.18182943485401296, 'essential_metrics': {0: {'tp_hit': 79, 'fp_hit': 4, 'tn_hit': 24, 'fn_hit': 1}, 1: {'tp_hit': 12, 'fp_hit': 0, 'tn_hit': 93, 'fn_hit': 3}, 2: {'tp_hit': 12, 'fp_hit': 1, 'tn_hit': 94, 'fn_hit': 1}}, 'checkpoint': 160} \n",
      "\n",
      "\n",
      "{'accuracy': 0.9691358024691358, 'mean_square_error': 0.07887819464402482, 'categorical_crossentropy': 0.1820434640955042, 'essential_metrics': {0: {'tp_hit': 79, 'fp_hit': 4, 'tn_hit': 24, 'fn_hit': 1}, 1: {'tp_hit': 13, 'fp_hit': 0, 'tn_hit': 93, 'fn_hit': 2}, 2: {'tp_hit': 11, 'fp_hit': 1, 'tn_hit': 94, 'fn_hit': 2}}, 'checkpoint': 170} \n",
      "\n",
      "\n",
      "{'accuracy': 0.9753086419753086, 'mean_square_error': 0.07688045613608906, 'categorical_crossentropy': 0.1771731729860659, 'essential_metrics': {0: {'tp_hit': 79, 'fp_hit': 3, 'tn_hit': 25, 'fn_hit': 1}, 1: {'tp_hit': 13, 'fp_hit': 0, 'tn_hit': 93, 'fn_hit': 2}, 2: {'tp_hit': 12, 'fp_hit': 1, 'tn_hit': 94, 'fn_hit': 1}}, 'checkpoint': 180} \n",
      "\n",
      "\n",
      "{'accuracy': 0.9753086419753086, 'mean_square_error': 0.07540057457743383, 'categorical_crossentropy': 0.17809973822699654, 'essential_metrics': {0: {'tp_hit': 79, 'fp_hit': 3, 'tn_hit': 25, 'fn_hit': 1}, 1: {'tp_hit': 13, 'fp_hit': 0, 'tn_hit': 93, 'fn_hit': 2}, 2: {'tp_hit': 12, 'fp_hit': 1, 'tn_hit': 94, 'fn_hit': 1}}, 'checkpoint': 190} \n",
      "\n",
      "\n",
      "{'accuracy': 0.9753086419753086, 'mean_square_error': 0.06932390098510645, 'categorical_crossentropy': 0.16511267202871818, 'essential_metrics': {0: {'tp_hit': 79, 'fp_hit': 3, 'tn_hit': 25, 'fn_hit': 1}, 1: {'tp_hit': 14, 'fp_hit': 0, 'tn_hit': 93, 'fn_hit': 1}, 2: {'tp_hit': 11, 'fp_hit': 1, 'tn_hit': 94, 'fn_hit': 2}}, 'checkpoint': 200} \n",
      "\n",
      "\n"
     ]
    }
   ],
   "source": [
    "for checkpoint in checkpoints:\n",
    "    print(checkpoint, '\\n\\n')"
   ]
  },
  {
   "cell_type": "code",
   "execution_count": 14,
   "metadata": {},
   "outputs": [
    {
     "name": "stdout",
     "output_type": "stream",
     "text": [
      "Layer 1\n",
      "Neuron 0: weights:\n",
      "[ 1.2269329  -0.11089011 -0.03928297 -0.05149681 -0.12418082]\n",
      " bias: 0.16218151152133942\n",
      "\n",
      "Neuron 1: weights:\n",
      "[ 0.00658882  1.4241251   0.08777791 -0.7248056  -1.6343852 ]\n",
      " bias: 1.1545274257659912\n",
      "\n",
      "Neuron 2: weights:\n",
      "[ 0.11238723 -0.98235303 -0.05101048  0.01715311  1.2459214 ]\n",
      " bias: -0.14943839609622955\n",
      "\n",
      "Neuron 3: weights:\n",
      "[-1.131312    3.          1.4189115  -0.1164602  -0.42504084]\n",
      " bias: -1.85213041305542\n",
      "\n",
      "$\n",
      "Layer 2\n",
      "Neuron 0: weights:\n",
      "[ 0.1081539   3.          0.04483254 -2.7614021 ]\n",
      " bias: 0.044555842876434326\n",
      "\n",
      "Neuron 1: weights:\n",
      "[-0.94881105 -0.02132111 -1.6470376   3.        ]\n",
      " bias: 0.03755343332886696\n",
      "\n",
      "Neuron 2: weights:\n",
      "[ 0.05638621 -2.8653026   2.6078103  -0.23708877]\n",
      " bias: -0.08759547770023346\n",
      "\n",
      "$\n",
      "\n"
     ]
    }
   ],
   "source": [
    "print(model)"
   ]
  }
 ],
 "metadata": {
  "kernelspec": {
   "display_name": "Python 3",
   "language": "python",
   "name": "python3"
  },
  "language_info": {
   "codemirror_mode": {
    "name": "ipython",
    "version": 3
   },
   "file_extension": ".py",
   "mimetype": "text/x-python",
   "name": "python",
   "nbconvert_exporter": "python",
   "pygments_lexer": "ipython3",
   "version": "3.6.12"
  }
 },
 "nbformat": 4,
 "nbformat_minor": 2
}
