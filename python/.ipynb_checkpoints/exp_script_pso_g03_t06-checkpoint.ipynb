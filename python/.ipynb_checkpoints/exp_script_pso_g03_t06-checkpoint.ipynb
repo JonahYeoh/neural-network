{
 "cells": [
  {
   "cell_type": "code",
   "execution_count": 1,
   "metadata": {},
   "outputs": [],
   "source": [
    "# dependency\n",
    "import numpy as np\n",
    "import pandas as pd\n",
    "import copy\n",
    "import math\n",
    "import sys\n",
    "import os\n",
    "from activations import relu, leaky_relu, sigmoid, tanh, softmax, d_sigmoid, d_relu\n",
    "from initializers import glorot_uniform, random_normal, random_uniform\n",
    "from regularizers import l1_regularizer, l2_regularizer\n",
    "from utility import trim_tail, multiply, subtract, get_nparams, one_hot_encoding, get_data\n",
    "from metrics import MSE, CCE, ACC, PRECISION, RECALL, essential_metrics, wondering_penalty, close_gap_penalty\n",
    "from pso import PSO\n",
    "from ga import GA\n",
    "from nn import Network\n",
    "from layer import DenseLayer\n",
    "from scalers import MinMaxScaler, StandardScaler"
   ]
  },
  {
   "cell_type": "code",
   "execution_count": 2,
   "metadata": {},
   "outputs": [],
   "source": [
    "# reference\n",
    "metrics_fn_dict = dict()\n",
    "metrics_fn_dict['accuracy'] = ACC\n",
    "metrics_fn_dict['categorical_crossentropy'] = CCE\n",
    "metrics_fn_dict['mean_square_error'] = MSE\n",
    "metrics_fn_dict['precision'] = PRECISION\n",
    "metrics_fn_dict['recall'] = RECALL\n",
    "metrics_fn_dict['essential_metrics'] = essential_metrics"
   ]
  },
  {
   "cell_type": "code",
   "execution_count": 3,
   "metadata": {},
   "outputs": [],
   "source": [
    "# model\n",
    "model = Network(5, lr = None)\n",
    "model.add_layer(DenseLayer(1, 4, True, afn=sigmoid, dafn=None, rfn=None))\n",
    "model.add_layer(DenseLayer(2, 3, True, afn=softmax, dafn=None, rfn=None))"
   ]
  },
  {
   "cell_type": "code",
   "execution_count": 4,
   "metadata": {},
   "outputs": [
    {
     "name": "stdout",
     "output_type": "stream",
     "text": [
      "see one see two 2.0 0.5\n"
     ]
    }
   ],
   "source": [
    "pso = PSO(dict(m = 100,\n",
    "    weight_constraint = [-3, 3], \n",
    "    velocity_constraint = [-0.1, 0.1],\n",
    "    c1 = [0.5, 2.0],\n",
    "    c2 = [0.5, 2.0],\n",
    "    w = [0.5, 1.6],\n",
    "    w_decay = 0.95,\n",
    "    scale_hyperparameter = False,\n",
    "    regularizer = None,\n",
    "    mask = True))"
   ]
  },
  {
   "cell_type": "code",
   "execution_count": 5,
   "metadata": {},
   "outputs": [
    {
     "name": "stdout",
     "output_type": "stream",
     "text": [
      "building layer 1 with 5\n",
      "24\n",
      "building layer 2 with 4\n",
      "15\n"
     ]
    }
   ],
   "source": [
    "model.compile(loss_fn = 'categorical_crossentropy', optimizer = pso, \\\n",
    "    metrics = ['accuracy', 'mean_square_error', 'categorical_crossentropy'])"
   ]
  },
  {
   "cell_type": "code",
   "execution_count": 6,
   "metadata": {
    "scrolled": false
   },
   "outputs": [
    {
     "name": "stdout",
     "output_type": "stream",
     "text": [
      "<class 'pandas.core.frame.DataFrame'>\n",
      "RangeIndex: 107 entries, 0 to 106\n",
      "Data columns (total 6 columns):\n",
      " #   Column  Non-Null Count  Dtype  \n",
      "---  ------  --------------  -----  \n",
      " 0   f1      107 non-null    float32\n",
      " 1   f2      107 non-null    float32\n",
      " 2   f3      107 non-null    float32\n",
      " 3   f4      107 non-null    float32\n",
      " 4   f5      107 non-null    float32\n",
      " 5   label   107 non-null    float32\n",
      "dtypes: float32(6)\n",
      "memory usage: 2.6 KB\n",
      "None\n",
      "<class 'pandas.core.frame.DataFrame'>\n",
      "RangeIndex: 108 entries, 0 to 107\n",
      "Data columns (total 6 columns):\n",
      " #   Column  Non-Null Count  Dtype  \n",
      "---  ------  --------------  -----  \n",
      " 0   f1      108 non-null    float32\n",
      " 1   f2      108 non-null    float32\n",
      " 2   f3      108 non-null    float32\n",
      " 3   f4      108 non-null    float32\n",
      " 4   f5      108 non-null    float32\n",
      " 5   label   108 non-null    float32\n",
      "dtypes: float32(6)\n",
      "memory usage: 2.7 KB\n",
      "None\n"
     ]
    }
   ],
   "source": [
    "# data loading\n",
    "DATA = os.path.join('c:\\\\Users\\\\Ai-lab\\\\github_repo\\\\neural-network\\\\', 'dataset')\n",
    "GROUP = 3\n",
    "COLUMNS = ['f1', 'f2', 'f3', 'f4', 'f5', 'label']\n",
    "N_CLASS = 3\n",
    "EPOCHS = 200\n",
    "train_dir, test_dir = \"..//dataset//training_data{}.txt\".format(GROUP), \"..//dataset//testing_data{}.txt\".format(GROUP)\n",
    "train, test = get_data(DATA, train_dir, COLUMNS), get_data(DATA, test_dir, COLUMNS)\n",
    "# shuffle\n",
    "train, test = train.sample(frac=1), test.sample(frac=1)\n",
    "x_train, y_train = train.drop('label', axis=1), train['label']\n",
    "x_test, y_test = test.drop('label', axis=1), test['label']"
   ]
  },
  {
   "cell_type": "code",
   "execution_count": 7,
   "metadata": {},
   "outputs": [],
   "source": [
    "# data scaling and encoding\n",
    "scaler = StandardScaler(['f1', 'f2', 'f3', 'f4', 'f5'])\n",
    "scaler.fit(x_train)\n",
    "x_train = scaler.transform(x_train)\n",
    "x_test = scaler.transform(x_test)\n",
    "y_train = one_hot_encoding(y_train, N_CLASS)\n",
    "y_test = one_hot_encoding(y_test, N_CLASS)"
   ]
  },
  {
   "cell_type": "code",
   "execution_count": 8,
   "metadata": {
    "tags": [
     "outputPrepend"
    ]
   },
   "outputs": [
    {
     "name": "stdout",
     "output_type": "stream",
     "text": [
      "Checkpoint 10, Accuracy: 0.845679012345679, Loss: 0.7722106509738498\n",
      "Checkpoint 20, Accuracy: 0.8395061728395061, Loss: 0.6528205871582031\n",
      "Checkpoint 30, Accuracy: 0.8703703703703703, Loss: 0.6318698459201388\n",
      "Checkpoint 40, Accuracy: 0.8703703703703703, Loss: 0.6318698459201388\n",
      "Checkpoint 50, Accuracy: 0.9012345679012346, Loss: 0.6088172064887153\n",
      "Checkpoint 60, Accuracy: 0.8827160493827161, Loss: 0.5830043863367151\n",
      "Checkpoint 70, Accuracy: 0.9012345679012346, Loss: 0.506831204449689\n",
      "Checkpoint 80, Accuracy: 0.8950617283950617, Loss: 0.4532000223795573\n",
      "Checkpoint 90, Accuracy: 0.8950617283950617, Loss: 0.45218351152208114\n",
      "Checkpoint 100, Accuracy: 0.9012345679012346, Loss: 0.4417846114547164\n",
      "Checkpoint 110, Accuracy: 0.9135802469135802, Loss: 0.3656372140955042\n",
      "Checkpoint 120, Accuracy: 0.9135802469135802, Loss: 0.30330576720061125\n",
      "Checkpoint 130, Accuracy: 0.9320987654320988, Loss: 0.2585271022937916\n",
      "Checkpoint 140, Accuracy: 0.9444444444444444, Loss: 0.23454102763423212\n",
      "Checkpoint 150, Accuracy: 0.9259259259259259, Loss: 0.21407618346037688\n",
      "Checkpoint 160, Accuracy: 0.9567901234567902, Loss: 0.17521005206637913\n",
      "Checkpoint 170, Accuracy: 0.9629629629629629, Loss: 0.15909096046730323\n",
      "Checkpoint 180, Accuracy: 0.9629629629629629, Loss: 0.1614575562653718\n",
      "Checkpoint 190, Accuracy: 0.9691358024691358, Loss: 0.1551952185454192\n",
      "Checkpoint 200, Accuracy: 0.9691358024691358, Loss: 0.15525242134376807\n"
     ]
    }
   ],
   "source": [
    "# learning phase\n",
    "breakpoint = 10\n",
    "checkpoints = list()\n",
    "history = list()\n",
    "for century in range(0, EPOCHS, breakpoint):\n",
    "    sub_history = model.fit(x_train, y_train, breakpoint, verbose = 0)\n",
    "    score = model.evaluate(x_test, y_test, False, verbose = 0)\n",
    "    print('Checkpoint {}, Accuracy: {}, Loss: {}'.format(century+breakpoint, score['accuracy'], score[model.loss_fn]))\n",
    "    score['checkpoint'] = century + breakpoint\n",
    "    checkpoints.append(score)\n",
    "    history.extend(sub_history)\n",
    "    itr = century + breakpoint\n",
    "    model.optimizer.c1 = np.max([model.optimizer.C1[1] - ((model.optimizer.C1[1] - model.optimizer.C1[0]) * itr / EPOCHS), model.optimizer.C1[0]])\n",
    "    model.optimizer.c2 = np.min([model.optimizer.C2[0] + ((model.optimizer.C2[1] - model.optimizer.C2[0]) * itr / EPOCHS), model.optimizer.C2[1]])\n",
    "    model.optimizer.w = np.max([model.optimizer.w * model.optimizer.W_Decay, model.optimizer.W[0]])"
   ]
  },
  {
   "cell_type": "code",
   "execution_count": 9,
   "metadata": {},
   "outputs": [],
   "source": [
    "import matplotlib.pyplot as plt\n",
    "\n",
    "def draw_plot(x, y_list, x_label=None, y_label=None, legend=None, title=None):\n",
    "    fig, ax = plt.subplots(figsize=(12,5))\n",
    "    for xi, yi in zip(x, y_list):\n",
    "        ax.plot(xi, yi)\n",
    "    if x_label is not None and y_label is not None:\n",
    "        ax.set(xlabel=x_label, ylabel=y_label, title='{} VS {}'.format(x_label, y_label))\n",
    "    if legend is not None:\n",
    "        ax.legend(legend)\n",
    "    ax.grid()\n",
    "    plt.show()"
   ]
  },
  {
   "cell_type": "code",
   "execution_count": 10,
   "metadata": {},
   "outputs": [],
   "source": [
    "train_acc = [h['accuracy'] for h in history]\n",
    "train_mse = [h['mean_square_error'] for h in history]\n",
    "train_cce = [h['categorical_crossentropy'] for h in history]"
   ]
  },
  {
   "cell_type": "code",
   "execution_count": 11,
   "metadata": {},
   "outputs": [
    {
     "data": {
      "image/png": "[encoded data removed]",
      "text/plain": [
       "<Figure size 864x360 with 1 Axes>"
      ]
     },
     "metadata": {
      "needs_background": "light"
     },
     "output_type": "display_data"
    },
    {
     "data": {
      "image/png": "[encoded data removed]",
      "text/plain": [
       "<Figure size 864x360 with 1 Axes>"
      ]
     },
     "metadata": {
      "needs_background": "light"
     },
     "output_type": "display_data"
    }
   ],
   "source": [
    "draw_plot(x = [[i for i in range(len(history))], [(i+1)*breakpoint for i in range(len(checkpoints))]], y_list = [train_cce, [ ckp[model.loss_fn] for ckp in checkpoints ]], x_label = 'Epochs', \\\n",
    "    y_label = model.loss_fn, legend=['train', 'test'])\n",
    "acc = [ ckp['accuracy'] for ckp in checkpoints ]\n",
    "draw_plot(x = [[i for i in range(len(history))], [(i+1)*breakpoint for i in range(len(checkpoints))]], y_list = [train_acc, acc], x_label = 'Checkpoints', \\\n",
    "    y_label = 'accuracy', legend=['train', 'test'])"
   ]
  },
  {
   "cell_type": "code",
   "execution_count": 12,
   "metadata": {},
   "outputs": [
    {
     "name": "stdout",
     "output_type": "stream",
     "text": [
      "[0. 1. 0.] <-> [2.280994e-02 9.762601e-01 9.298918e-04]\n",
      "[1. 0. 0.] <-> [0.98725885 0.00146504 0.0112761 ]\n",
      "[1. 0. 0.] <-> [0.97609746 0.00295225 0.0209503 ]\n",
      "[0. 1. 0.] <-> [1.7561201e-03 9.9779034e-01 4.5350922e-04]\n",
      "[1. 0. 0.] <-> [0.915429   0.05951023 0.0250607 ]\n",
      "[1. 0. 0.] <-> [9.8716599e-01 7.5354020e-04 1.2080438e-02]\n",
      "[1. 0. 0.] <-> [0.8878572  0.08008525 0.03205759]\n",
      "[1. 0. 0.] <-> [0.29484254 0.70155317 0.00360426]\n",
      "[0. 0. 1.] <-> [1.01490535e-01 3.47380876e-04 8.98162127e-01]\n",
      "[1. 0. 0.] <-> [9.7759193e-01 5.3724396e-04 2.1870838e-02]\n",
      "[1. 0. 0.] <-> [9.8007512e-01 8.7462086e-04 1.9050257e-02]\n",
      "[1. 0. 0.] <-> [0.97017    0.01416708 0.01566291]\n",
      "[1. 0. 0.] <-> [0.97091335 0.0242915  0.00479513]\n",
      "[1. 0. 0.] <-> [9.6660143e-01 6.0429034e-04 3.2794278e-02]\n",
      "[1. 0. 0.] <-> [9.7314453e-01 5.0793338e-04 2.6347607e-02]\n",
      "[1. 0. 0.] <-> [0.9766517  0.00548217 0.0178661 ]\n",
      "[1. 0. 0.] <-> [8.7216187e-01 6.3217763e-04 1.2720603e-01]\n",
      "[1. 0. 0.] <-> [9.87041473e-01 9.28911497e-04 1.20295575e-02]\n",
      "[1. 0. 0.] <-> [0.7399865  0.23955421 0.02045929]\n",
      "[0. 0. 1.] <-> [2.5732270e-01 2.8174112e-04 7.4239558e-01]\n",
      "[1. 0. 0.] <-> [0.55408967 0.43543673 0.01047363]\n",
      "[1. 0. 0.] <-> [0.9789316  0.00313344 0.01793497]\n",
      "[0. 1. 0.] <-> [1.8322205e-02 9.8086435e-01 8.1346871e-04]\n",
      "[1. 0. 0.] <-> [0.98539543 0.0039759  0.01062861]\n",
      "[1. 0. 0.] <-> [0.99171513 0.00201338 0.00627139]\n",
      "[0. 1. 0.] <-> [0.04514389 0.9490357  0.00582036]\n",
      "[1. 0. 0.] <-> [0.99317235 0.00273712 0.0040904 ]\n",
      "[1. 0. 0.] <-> [9.7060615e-01 6.6660857e-04 2.8727299e-02]\n",
      "[1. 0. 0.] <-> [0.9841303  0.00116783 0.01470184]\n",
      "[1. 0. 0.] <-> [9.6959317e-01 6.2804797e-04 2.9778784e-02]\n",
      "[0. 0. 1.] <-> [4.6409804e-01 4.3097712e-04 5.3547096e-01]\n",
      "[1. 0. 0.] <-> [9.8669356e-01 5.6626898e-04 1.2740166e-02]\n",
      "[1. 0. 0.] <-> [0.98235977 0.00107352 0.01656667]\n",
      "[1. 0. 0.] <-> [0.9870755  0.00234081 0.01058371]\n",
      "[1. 0. 0.] <-> [0.89905554 0.00140968 0.09953474]\n",
      "[1. 0. 0.] <-> [0.98052245 0.00561621 0.01386128]\n",
      "[0. 1. 0.] <-> [4.7303415e-03 9.9428856e-01 9.8101678e-04]\n",
      "[1. 0. 0.] <-> [0.10758874 0.8832176  0.00919375]\n",
      "[0. 1. 0.] <-> [1.7295771e-03 9.9782771e-01 4.4271135e-04]\n",
      "[0. 1. 0.] <-> [0.30108047 0.5652212  0.13369837]\n",
      "[1. 0. 0.] <-> [0.98512346 0.00107164 0.01380498]\n",
      "[0. 0. 1.] <-> [0.73537374 0.00074048 0.26388583]\n",
      "[1. 0. 0.] <-> [0.9624536  0.00103604 0.03651037]\n",
      "[1. 0. 0.] <-> [0.93856627 0.05482123 0.00661242]\n",
      "[1. 0. 0.] <-> [0.91552097 0.00115526 0.08332387]\n",
      "[1. 0. 0.] <-> [9.8545223e-01 4.7824191e-04 1.4069569e-02]\n",
      "[0. 1. 0.] <-> [1.9107863e-03 9.9760407e-01 4.8524930e-04]\n",
      "[0. 1. 0.] <-> [0.27389485 0.7232807  0.00282441]\n",
      "[0. 0. 1.] <-> [5.6105212e-04 2.6539961e-04 9.9917346e-01]\n",
      "[0. 0. 1.] <-> [3.2545736e-01 3.3505537e-04 6.7420757e-01]\n",
      "[1. 0. 0.] <-> [0.6077407  0.0011291  0.39113018]\n",
      "[0. 0. 1.] <-> [7.9557306e-01 5.9727323e-04 2.0382966e-01]\n",
      "[1. 0. 0.] <-> [0.98673546 0.00286322 0.01040142]\n",
      "[1. 0. 0.] <-> [9.8670667e-01 7.9045939e-04 1.2502943e-02]\n",
      "[1. 0. 0.] <-> [0.9743619  0.00417491 0.02146319]\n",
      "[1. 0. 0.] <-> [0.9897942  0.00104843 0.00915728]\n",
      "[0. 0. 1.] <-> [1.7639253e-01 4.8782057e-04 8.2311964e-01]\n",
      "[1. 0. 0.] <-> [0.988588   0.00126752 0.01014449]\n",
      "[0. 0. 1.] <-> [2.2505045e-01 2.5401046e-04 7.7469558e-01]\n",
      "[0. 1. 0.] <-> [1.7307856e-03 9.9782568e-01 4.4346324e-04]\n",
      "[1. 0. 0.] <-> [0.9896039  0.00107901 0.00931709]\n",
      "[0. 0. 1.] <-> [1.8671699e-01 2.2058412e-04 8.1306243e-01]\n",
      "[0. 1. 0.] <-> [0.01265874 0.97977304 0.00756823]\n",
      "[0. 1. 0.] <-> [1.8366819e-03 9.9768233e-01 4.8098329e-04]\n",
      "[1. 0. 0.] <-> [0.9870768  0.00989055 0.00303265]\n",
      "[1. 0. 0.] <-> [9.7647947e-01 5.5305235e-04 2.2967491e-02]\n",
      "[1. 0. 0.] <-> [0.93278235 0.0424806  0.02473711]\n",
      "[0. 0. 1.] <-> [9.3157001e-02 2.5223140e-04 9.0659076e-01]\n",
      "[1. 0. 0.] <-> [9.8596269e-01 6.2778406e-04 1.3409602e-02]\n",
      "[1. 0. 0.] <-> [0.9904924 0.0049084 0.0045992]\n",
      "[1. 0. 0.] <-> [0.9908399 0.0065053 0.0026548]\n",
      "[1. 0. 0.] <-> [9.8873645e-01 9.2159875e-04 1.0341966e-02]\n",
      "[1. 0. 0.] <-> [0.7900424  0.00081447 0.20914313]\n",
      "[1. 0. 0.] <-> [0.5771425  0.08951785 0.3333397 ]\n",
      "[1. 0. 0.] <-> [0.94998664 0.00993776 0.04007562]\n",
      "[1. 0. 0.] <-> [0.6825142  0.30379826 0.01368751]\n",
      "[0. 1. 0.] <-> [1.7346399e-03 9.9782002e-01 4.4538343e-04]\n",
      "[1. 0. 0.] <-> [9.7772700e-01 6.9559476e-04 2.1577403e-02]\n",
      "[1. 0. 0.] <-> [0.97409195 0.00164547 0.02426264]\n",
      "[0. 0. 1.] <-> [5.7404471e-04 2.7756023e-04 9.9914837e-01]\n",
      "[1. 0. 0.] <-> [0.9827947  0.00145951 0.01574573]\n",
      "[1. 0. 0.] <-> [0.8199537  0.17081948 0.00922685]\n",
      "[0. 1. 0.] <-> [1.7295813e-03 9.9782771e-01 4.4272907e-04]\n",
      "[1. 0. 0.] <-> [0.9884654  0.00264874 0.00888576]\n",
      "[1. 0. 0.] <-> [0.98796576 0.00276357 0.00927067]\n",
      "[1. 0. 0.] <-> [0.9715878  0.01312147 0.01529071]\n",
      "[1. 0. 0.] <-> [1.7167434e-01 7.4526173e-04 8.2758039e-01]\n",
      "[1. 0. 0.] <-> [9.8747498e-01 6.6301017e-04 1.1862018e-02]\n",
      "[1. 0. 0.] <-> [0.95796704 0.00103594 0.04099701]\n",
      "[1. 0. 0.] <-> [0.9876216  0.00357099 0.0088074 ]\n",
      "[1. 0. 0.] <-> [0.98562455 0.00133742 0.01303801]\n",
      "[1. 0. 0.] <-> [9.8248845e-01 7.2739302e-04 1.6784143e-02]\n",
      "[0. 0. 1.] <-> [3.6130866e-01 4.3857205e-04 6.3825285e-01]\n",
      "[1. 0. 0.] <-> [0.80114526 0.1938772  0.00497743]\n",
      "[1. 0. 0.] <-> [0.9854675  0.0035795  0.01095294]\n",
      "[1. 0. 0.] <-> [0.98698246 0.00166334 0.01135415]\n",
      "[1. 0. 0.] <-> [9.8025894e-01 6.7218341e-04 1.9068923e-02]\n",
      "[1. 0. 0.] <-> [0.9813907  0.00118934 0.01741994]\n",
      "[1. 0. 0.] <-> [0.95677644 0.01286546 0.03035813]\n",
      "[1. 0. 0.] <-> [0.97935313 0.00184766 0.01879923]\n",
      "[0. 1. 0.] <-> [0.06409589 0.93407    0.00183415]\n",
      "[1. 0. 0.] <-> [0.9896723  0.00190911 0.00841852]\n",
      "[1. 0. 0.] <-> [9.8689204e-01 7.8772061e-04 1.2320207e-02]\n",
      "[0. 0. 1.] <-> [7.9701142e-04 2.6564093e-04 9.9893731e-01]\n",
      "[1. 0. 0.] <-> [9.5884675e-01 5.4504583e-04 4.0608276e-02]\n",
      "[0. 1. 0.] <-> [1.7296256e-03 9.9782759e-01 4.4271466e-04]\n",
      "[1. 0. 0.] <-> [0.9721763  0.00307088 0.02475278]\n",
      "[1. 0. 0.] <-> [0.92474735 0.00125733 0.07399529]\n",
      "{'accuracy': 0.9691358024691358, 'mean_square_error': 0.09048814093266835, 'categorical_crossentropy': 0.15525242134376807, 'essential_metrics': {0: {'tp_hit': 75, 'fp_hit': 2, 'tn_hit': 28, 'fn_hit': 3}, 1: {'tp_hit': 16, 'fp_hit': 2, 'tn_hit': 90, 'fn_hit': 0}, 2: {'tp_hit': 12, 'fp_hit': 1, 'tn_hit': 93, 'fn_hit': 2}}}\n"
     ]
    }
   ],
   "source": [
    "# recall phase\n",
    "score = model.evaluate(x_test, y_test, False)\n",
    "print(score)"
   ]
  },
  {
   "cell_type": "code",
   "execution_count": 13,
   "metadata": {},
   "outputs": [
    {
     "name": "stdout",
     "output_type": "stream",
     "text": [
      "{'accuracy': 0.845679012345679, 'mean_square_error': 0.4029588225323416, 'categorical_crossentropy': 0.7722106509738498, 'essential_metrics': {0: {'tp_hit': 78, 'fp_hit': 25, 'tn_hit': 5, 'fn_hit': 0}, 1: {'tp_hit': 0, 'fp_hit': 0, 'tn_hit': 92, 'fn_hit': 16}, 2: {'tp_hit': 5, 'fp_hit': 0, 'tn_hit': 94, 'fn_hit': 9}}, 'checkpoint': 10} \n",
      "\n",
      "\n",
      "{'accuracy': 0.8395061728395061, 'mean_square_error': 0.3507591848926631, 'categorical_crossentropy': 0.6528205871582031, 'essential_metrics': {0: {'tp_hit': 77, 'fp_hit': 18, 'tn_hit': 12, 'fn_hit': 1}, 1: {'tp_hit': 4, 'fp_hit': 0, 'tn_hit': 92, 'fn_hit': 12}, 2: {'tp_hit': 1, 'fp_hit': 8, 'tn_hit': 86, 'fn_hit': 13}}, 'checkpoint': 20} \n",
      "\n",
      "\n",
      "{'accuracy': 0.8703703703703703, 'mean_square_error': 0.330286576159525, 'categorical_crossentropy': 0.6318698459201388, 'essential_metrics': {0: {'tp_hit': 78, 'fp_hit': 18, 'tn_hit': 12, 'fn_hit': 0}, 1: {'tp_hit': 2, 'fp_hit': 0, 'tn_hit': 92, 'fn_hit': 14}, 2: {'tp_hit': 7, 'fp_hit': 3, 'tn_hit': 91, 'fn_hit': 7}}, 'checkpoint': 30} \n",
      "\n",
      "\n",
      "{'accuracy': 0.8703703703703703, 'mean_square_error': 0.330286576159525, 'categorical_crossentropy': 0.6318698459201388, 'essential_metrics': {0: {'tp_hit': 78, 'fp_hit': 18, 'tn_hit': 12, 'fn_hit': 0}, 1: {'tp_hit': 2, 'fp_hit': 0, 'tn_hit': 92, 'fn_hit': 14}, 2: {'tp_hit': 7, 'fp_hit': 3, 'tn_hit': 91, 'fn_hit': 7}}, 'checkpoint': 40} \n",
      "\n",
      "\n",
      "{'accuracy': 0.9012345679012346, 'mean_square_error': 0.32227759237566755, 'categorical_crossentropy': 0.6088172064887153, 'essential_metrics': {0: {'tp_hit': 76, 'fp_hit': 12, 'tn_hit': 18, 'fn_hit': 2}, 1: {'tp_hit': 10, 'fp_hit': 2, 'tn_hit': 90, 'fn_hit': 6}, 2: {'tp_hit': 6, 'fp_hit': 2, 'tn_hit': 92, 'fn_hit': 8}}, 'checkpoint': 50} \n",
      "\n",
      "\n",
      "{'accuracy': 0.8827160493827161, 'mean_square_error': 0.29475581374267357, 'categorical_crossentropy': 0.5830043863367151, 'essential_metrics': {0: {'tp_hit': 76, 'fp_hit': 15, 'tn_hit': 15, 'fn_hit': 2}, 1: {'tp_hit': 11, 'fp_hit': 4, 'tn_hit': 88, 'fn_hit': 5}, 2: {'tp_hit': 2, 'fp_hit': 0, 'tn_hit': 94, 'fn_hit': 12}}, 'checkpoint': 60} \n",
      "\n",
      "\n",
      "{'accuracy': 0.9012345679012346, 'mean_square_error': 0.25858828689784485, 'categorical_crossentropy': 0.506831204449689, 'essential_metrics': {0: {'tp_hit': 75, 'fp_hit': 11, 'tn_hit': 19, 'fn_hit': 3}, 1: {'tp_hit': 10, 'fp_hit': 2, 'tn_hit': 90, 'fn_hit': 6}, 2: {'tp_hit': 7, 'fp_hit': 3, 'tn_hit': 91, 'fn_hit': 7}}, 'checkpoint': 70} \n",
      "\n",
      "\n",
      "{'accuracy': 0.8950617283950617, 'mean_square_error': 0.23499104356048195, 'categorical_crossentropy': 0.4532000223795573, 'essential_metrics': {0: {'tp_hit': 77, 'fp_hit': 15, 'tn_hit': 15, 'fn_hit': 1}, 1: {'tp_hit': 9, 'fp_hit': 0, 'tn_hit': 92, 'fn_hit': 7}, 2: {'tp_hit': 5, 'fp_hit': 2, 'tn_hit': 92, 'fn_hit': 9}}, 'checkpoint': 80} \n",
      "\n",
      "\n",
      "{'accuracy': 0.8950617283950617, 'mean_square_error': 0.23487150715176702, 'categorical_crossentropy': 0.45218351152208114, 'essential_metrics': {0: {'tp_hit': 77, 'fp_hit': 15, 'tn_hit': 15, 'fn_hit': 1}, 1: {'tp_hit': 9, 'fp_hit': 0, 'tn_hit': 92, 'fn_hit': 7}, 2: {'tp_hit': 5, 'fp_hit': 2, 'tn_hit': 92, 'fn_hit': 9}}, 'checkpoint': 90} \n",
      "\n",
      "\n",
      "{'accuracy': 0.9012345679012346, 'mean_square_error': 0.23271218611684982, 'categorical_crossentropy': 0.4417846114547164, 'essential_metrics': {0: {'tp_hit': 76, 'fp_hit': 13, 'tn_hit': 17, 'fn_hit': 2}, 1: {'tp_hit': 11, 'fp_hit': 1, 'tn_hit': 91, 'fn_hit': 5}, 2: {'tp_hit': 5, 'fp_hit': 2, 'tn_hit': 92, 'fn_hit': 9}}, 'checkpoint': 100} \n",
      "\n",
      "\n",
      "{'accuracy': 0.9135802469135802, 'mean_square_error': 0.2013870297446102, 'categorical_crossentropy': 0.3656372140955042, 'essential_metrics': {0: {'tp_hit': 76, 'fp_hit': 12, 'tn_hit': 18, 'fn_hit': 2}, 1: {'tp_hit': 11, 'fp_hit': 0, 'tn_hit': 92, 'fn_hit': 5}, 2: {'tp_hit': 7, 'fp_hit': 2, 'tn_hit': 92, 'fn_hit': 7}}, 'checkpoint': 110} \n",
      "\n",
      "\n",
      "{'accuracy': 0.9135802469135802, 'mean_square_error': 0.17581758988995966, 'categorical_crossentropy': 0.30330576720061125, 'essential_metrics': {0: {'tp_hit': 77, 'fp_hit': 13, 'tn_hit': 17, 'fn_hit': 1}, 1: {'tp_hit': 11, 'fp_hit': 0, 'tn_hit': 92, 'fn_hit': 5}, 2: {'tp_hit': 6, 'fp_hit': 1, 'tn_hit': 93, 'fn_hit': 8}}, 'checkpoint': 120} \n",
      "\n",
      "\n",
      "{'accuracy': 0.9320987654320988, 'mean_square_error': 0.14998388969184298, 'categorical_crossentropy': 0.2585271022937916, 'essential_metrics': {0: {'tp_hit': 77, 'fp_hit': 10, 'tn_hit': 20, 'fn_hit': 1}, 1: {'tp_hit': 14, 'fp_hit': 0, 'tn_hit': 92, 'fn_hit': 2}, 2: {'tp_hit': 6, 'fp_hit': 1, 'tn_hit': 93, 'fn_hit': 8}}, 'checkpoint': 130} \n",
      "\n",
      "\n",
      "{'accuracy': 0.9444444444444444, 'mean_square_error': 0.1328039020200332, 'categorical_crossentropy': 0.23454102763423212, 'essential_metrics': {0: {'tp_hit': 75, 'fp_hit': 6, 'tn_hit': 24, 'fn_hit': 3}, 1: {'tp_hit': 16, 'fp_hit': 2, 'tn_hit': 90, 'fn_hit': 0}, 2: {'tp_hit': 8, 'fp_hit': 1, 'tn_hit': 93, 'fn_hit': 6}}, 'checkpoint': 140} \n",
      "\n",
      "\n",
      "{'accuracy': 0.9259259259259259, 'mean_square_error': 0.13173645160753963, 'categorical_crossentropy': 0.21407618346037688, 'essential_metrics': {0: {'tp_hit': 75, 'fp_hit': 9, 'tn_hit': 21, 'fn_hit': 3}, 1: {'tp_hit': 15, 'fp_hit': 2, 'tn_hit': 90, 'fn_hit': 1}, 2: {'tp_hit': 6, 'fp_hit': 1, 'tn_hit': 93, 'fn_hit': 8}}, 'checkpoint': 150} \n",
      "\n",
      "\n",
      "{'accuracy': 0.9567901234567902, 'mean_square_error': 0.10153909869425759, 'categorical_crossentropy': 0.17521005206637913, 'essential_metrics': {0: {'tp_hit': 75, 'fp_hit': 4, 'tn_hit': 26, 'fn_hit': 3}, 1: {'tp_hit': 15, 'fp_hit': 2, 'tn_hit': 90, 'fn_hit': 1}, 2: {'tp_hit': 11, 'fp_hit': 1, 'tn_hit': 93, 'fn_hit': 3}}, 'checkpoint': 160} \n",
      "\n",
      "\n",
      "{'accuracy': 0.9629629629629629, 'mean_square_error': 0.09246718218705255, 'categorical_crossentropy': 0.15909096046730323, 'essential_metrics': {0: {'tp_hit': 76, 'fp_hit': 4, 'tn_hit': 26, 'fn_hit': 2}, 1: {'tp_hit': 14, 'fp_hit': 1, 'tn_hit': 91, 'fn_hit': 2}, 2: {'tp_hit': 12, 'fp_hit': 1, 'tn_hit': 93, 'fn_hit': 2}}, 'checkpoint': 170} \n",
      "\n",
      "\n",
      "{'accuracy': 0.9629629629629629, 'mean_square_error': 0.09514472360244232, 'categorical_crossentropy': 0.1614575562653718, 'essential_metrics': {0: {'tp_hit': 75, 'fp_hit': 3, 'tn_hit': 27, 'fn_hit': 3}, 1: {'tp_hit': 15, 'fp_hit': 2, 'tn_hit': 90, 'fn_hit': 1}, 2: {'tp_hit': 12, 'fp_hit': 1, 'tn_hit': 93, 'fn_hit': 2}}, 'checkpoint': 180} \n",
      "\n",
      "\n",
      "{'accuracy': 0.9691358024691358, 'mean_square_error': 0.08759107737087916, 'categorical_crossentropy': 0.1551952185454192, 'essential_metrics': {0: {'tp_hit': 75, 'fp_hit': 2, 'tn_hit': 28, 'fn_hit': 3}, 1: {'tp_hit': 16, 'fp_hit': 2, 'tn_hit': 90, 'fn_hit': 0}, 2: {'tp_hit': 12, 'fp_hit': 1, 'tn_hit': 93, 'fn_hit': 2}}, 'checkpoint': 190} \n",
      "\n",
      "\n",
      "{'accuracy': 0.9691358024691358, 'mean_square_error': 0.09048814093266835, 'categorical_crossentropy': 0.15525242134376807, 'essential_metrics': {0: {'tp_hit': 75, 'fp_hit': 2, 'tn_hit': 28, 'fn_hit': 3}, 1: {'tp_hit': 16, 'fp_hit': 2, 'tn_hit': 90, 'fn_hit': 0}, 2: {'tp_hit': 12, 'fp_hit': 1, 'tn_hit': 93, 'fn_hit': 2}}, 'checkpoint': 200} \n",
      "\n",
      "\n"
     ]
    }
   ],
   "source": [
    "for checkpoint in checkpoints:\n",
    "    print(checkpoint, '\\n\\n')"
   ]
  },
  {
   "cell_type": "code",
   "execution_count": 14,
   "metadata": {},
   "outputs": [
    {
     "name": "stdout",
     "output_type": "stream",
     "text": [
      "Layer 1\n",
      "Neuron 0: weights:\n",
      "[-2.2524567   3.         -0.51837033  0.8208194  -0.1416444 ]\n",
      " bias: -1.1153098344802856\n",
      "\n",
      "Neuron 1: weights:\n",
      "[ 1.5746957 -2.145449  -3.         1.0175217  1.3697146]\n",
      " bias: 2.1545403003692627\n",
      "\n",
      "Neuron 2: weights:\n",
      "[ 0.10373949  3.         -0.16419138 -0.61514544 -3.        ]\n",
      " bias: 2.4306044578552246\n",
      "\n",
      "Neuron 3: weights:\n",
      "[-1.2797413  2.5348363  2.5253115  3.         2.3056703]\n",
      " bias: -0.5641329288482666\n",
      "\n",
      "$\n",
      "Layer 2\n",
      "Neuron 0: weights:\n",
      "[-0.2018522  2.2184348  3.        -3.       ]\n",
      " bias: -0.43632304668426514\n",
      "\n",
      "Neuron 1: weights:\n",
      "[ 2.7149048 -3.         1.976404   3.       ]\n",
      " bias: -1.9717803001403809\n",
      "\n",
      "Neuron 2: weights:\n",
      "[-3.         2.2755897 -3.         3.       ]\n",
      " bias: 0.9990971088409424\n",
      "\n",
      "$\n",
      "\n"
     ]
    }
   ],
   "source": [
    "print(model)"
   ]
  },
  {
   "cell_type": "code",
   "execution_count": null,
   "metadata": {},
   "outputs": [],
   "source": []
  }
 ],
 "metadata": {
  "kernelspec": {
   "display_name": "Python 3",
   "language": "python",
   "name": "python3"
  },
  "language_info": {
   "codemirror_mode": {
    "name": "ipython",
    "version": 3
   },
   "file_extension": ".py",
   "mimetype": "text/x-python",
   "name": "python",
   "nbconvert_exporter": "python",
   "pygments_lexer": "ipython3",
   "version": "3.6.12"
  }
 },
 "nbformat": 4,
 "nbformat_minor": 2
}
