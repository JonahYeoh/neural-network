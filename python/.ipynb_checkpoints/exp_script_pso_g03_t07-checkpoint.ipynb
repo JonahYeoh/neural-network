{
 "cells": [
  {
   "cell_type": "code",
   "execution_count": 1,
   "metadata": {},
   "outputs": [],
   "source": [
    "# dependency\n",
    "import numpy as np\n",
    "import pandas as pd\n",
    "import copy\n",
    "import math\n",
    "import sys\n",
    "import os\n",
    "from activations import relu, leaky_relu, sigmoid, tanh, softmax, d_sigmoid, d_relu\n",
    "from initializers import glorot_uniform, random_normal, random_uniform\n",
    "from regularizers import l1_regularizer, l2_regularizer\n",
    "from utility import trim_tail, multiply, subtract, get_nparams, one_hot_encoding, get_data\n",
    "from metrics import MSE, CCE, ACC, PRECISION, RECALL, essential_metrics, wondering_penalty, close_gap_penalty\n",
    "from pso import PSO\n",
    "from ga import GA\n",
    "from nn import Network\n",
    "from layer import DenseLayer\n",
    "from scalers import MinMaxScaler, StandardScaler"
   ]
  },
  {
   "cell_type": "code",
   "execution_count": 2,
   "metadata": {},
   "outputs": [],
   "source": [
    "# reference\n",
    "metrics_fn_dict = dict()\n",
    "metrics_fn_dict['accuracy'] = ACC\n",
    "metrics_fn_dict['categorical_crossentropy'] = CCE\n",
    "metrics_fn_dict['mean_square_error'] = MSE\n",
    "metrics_fn_dict['precision'] = PRECISION\n",
    "metrics_fn_dict['recall'] = RECALL\n",
    "metrics_fn_dict['essential_metrics'] = essential_metrics"
   ]
  },
  {
   "cell_type": "code",
   "execution_count": 3,
   "metadata": {},
   "outputs": [],
   "source": [
    "# model\n",
    "model = Network(5, lr = None)\n",
    "model.add_layer(DenseLayer(1, 4, True, afn=sigmoid, dafn=None, rfn=None))\n",
    "model.add_layer(DenseLayer(2, 3, True, afn=softmax, dafn=None, rfn=None))"
   ]
  },
  {
   "cell_type": "code",
   "execution_count": 4,
   "metadata": {},
   "outputs": [
    {
     "name": "stdout",
     "output_type": "stream",
     "text": [
      "see one see two 2 0.5\n"
     ]
    }
   ],
   "source": [
    "pso = PSO(dict(m = 50,\n",
    "    weight_constraint = [-3, 3], \n",
    "    velocity_constraint = [-0.1, 0.1],\n",
    "    c1 = [0.5, 2],\n",
    "    c2 = [0.5, 2],\n",
    "    w = [0.5, 1.6],\n",
    "    w_decay = 0.95,\n",
    "    scale_hyperparameter = False,\n",
    "    regularizer = l1_regularizer,\n",
    "    mask = True))"
   ]
  },
  {
   "cell_type": "code",
   "execution_count": 5,
   "metadata": {},
   "outputs": [
    {
     "name": "stdout",
     "output_type": "stream",
     "text": [
      "building layer 1 with 5\n",
      "24\n",
      "building layer 2 with 4\n",
      "15\n"
     ]
    }
   ],
   "source": [
    "model.compile(loss_fn = 'categorical_crossentropy', optimizer = pso, \\\n",
    "    metrics = ['accuracy', 'mean_square_error', 'categorical_crossentropy'])"
   ]
  },
  {
   "cell_type": "code",
   "execution_count": 6,
   "metadata": {},
   "outputs": [
    {
     "name": "stdout",
     "output_type": "stream",
     "text": [
      "<class 'pandas.core.frame.DataFrame'>\n",
      "RangeIndex: 107 entries, 0 to 106\n",
      "Data columns (total 6 columns):\n",
      " #   Column  Non-Null Count  Dtype  \n",
      "---  ------  --------------  -----  \n",
      " 0   f1      107 non-null    float32\n",
      " 1   f2      107 non-null    float32\n",
      " 2   f3      107 non-null    float32\n",
      " 3   f4      107 non-null    float32\n",
      " 4   f5      107 non-null    float32\n",
      " 5   label   107 non-null    float32\n",
      "dtypes: float32(6)\n",
      "memory usage: 2.6 KB\n",
      "None\n",
      "<class 'pandas.core.frame.DataFrame'>\n",
      "RangeIndex: 108 entries, 0 to 107\n",
      "Data columns (total 6 columns):\n",
      " #   Column  Non-Null Count  Dtype  \n",
      "---  ------  --------------  -----  \n",
      " 0   f1      108 non-null    float32\n",
      " 1   f2      108 non-null    float32\n",
      " 2   f3      108 non-null    float32\n",
      " 3   f4      108 non-null    float32\n",
      " 4   f5      108 non-null    float32\n",
      " 5   label   108 non-null    float32\n",
      "dtypes: float32(6)\n",
      "memory usage: 2.7 KB\n",
      "None\n"
     ]
    }
   ],
   "source": [
    "# data loading\n",
    "DATA = os.path.join('c:\\\\Users\\\\tcumi\\\\github_repo\\\\neural-network\\\\', 'dataset')\n",
    "GROUP = 3\n",
    "COLUMNS = ['f1', 'f2', 'f3', 'f4', 'f5', 'label']\n",
    "N_CLASS = 3\n",
    "EPOCHS = 500\n",
    "train_dir, test_dir = \"..//dataset//training_data{}.txt\".format(GROUP), \"..//dataset//testing_data{}.txt\".format(GROUP)\n",
    "train, test = get_data(DATA, train_dir, COLUMNS), get_data(DATA, test_dir, COLUMNS)\n",
    "# shuffle\n",
    "train, test = train.sample(frac=1), test.sample(frac=1)\n",
    "x_train, y_train = train.drop('label', axis=1), train['label']\n",
    "x_test, y_test = test.drop('label', axis=1), test['label']"
   ]
  },
  {
   "cell_type": "code",
   "execution_count": 7,
   "metadata": {},
   "outputs": [],
   "source": [
    "# data scaling and encoding\n",
    "scaler = StandardScaler(['f1', 'f2', 'f3', 'f4', 'f5'])\n",
    "scaler.fit(x_train)\n",
    "x_train = scaler.transform(x_train)\n",
    "x_test = scaler.transform(x_test)\n",
    "y_train = one_hot_encoding(y_train, N_CLASS)\n",
    "y_test = one_hot_encoding(y_test, N_CLASS)"
   ]
  },
  {
   "cell_type": "code",
   "execution_count": 8,
   "metadata": {
    "tags": [
     "outputPrepend"
    ]
   },
   "outputs": [
    {
     "name": "stdout",
     "output_type": "stream",
     "text": [
      "Checkpoint 100, Accuracy: 0.9074074074074074, Loss: 0.4348087664003725\n",
      "Checkpoint 200, Accuracy: 0.9629629629629629, Loss: 0.2462192111545139\n",
      "Checkpoint 300, Accuracy: 0.9691358024691358, Loss: 0.20098806310583045\n",
      "Checkpoint 400, Accuracy: 0.9691358024691358, Loss: 0.205907733352096\n",
      "Checkpoint 500, Accuracy: 0.9691358024691358, Loss: 0.20587181161951135\n"
     ]
    }
   ],
   "source": [
    "# learning phase\n",
    "breakpoint = 100\n",
    "checkpoints = list()\n",
    "history = list()\n",
    "for century in range(0, EPOCHS, breakpoint):\n",
    "    sub_history = model.fit(x_train, y_train, breakpoint, verbose = 0)\n",
    "    score = model.evaluate(x_test, y_test, False, verbose = 0)\n",
    "    print('Checkpoint {}, Accuracy: {}, Loss: {}'.format(century+breakpoint, score['accuracy'], score[model.loss_fn]))\n",
    "    score['checkpoint'] = century + breakpoint\n",
    "    checkpoints.append(score)\n",
    "    history.extend(sub_history)\n",
    "    itr = century + breakpoint\n",
    "    model.optimizer.c1 = np.max([model.optimizer.C1[1] - ((model.optimizer.C1[1] - model.optimizer.C1[0]) * itr / EPOCHS), model.optimizer.C1[0]])\n",
    "    model.optimizer.c2 = np.min([model.optimizer.C2[0] + ((model.optimizer.C2[1] - model.optimizer.C2[0]) * itr / EPOCHS), model.optimizer.C2[1]])\n",
    "    model.optimizer.w = np.max([model.optimizer.w * model.optimizer.W_Decay, model.optimizer.W[0]])"
   ]
  },
  {
   "cell_type": "code",
   "execution_count": 9,
   "metadata": {},
   "outputs": [],
   "source": [
    "import matplotlib.pyplot as plt\n",
    "\n",
    "def draw_plot(x, y_list, x_label=None, y_label=None, legend=None, title=None):\n",
    "    fig, ax = plt.subplots(figsize=(12,5))\n",
    "    for xi, yi in zip(x, y_list):\n",
    "        ax.plot(xi, yi)\n",
    "    if x_label is not None and y_label is not None:\n",
    "        ax.set(xlabel=x_label, ylabel=y_label, title='{} VS {}'.format(x_label, y_label))\n",
    "    if legend is not None:\n",
    "        ax.legend(legend)\n",
    "    ax.grid()\n",
    "    plt.show()"
   ]
  },
  {
   "cell_type": "code",
   "execution_count": 10,
   "metadata": {},
   "outputs": [
    {
     "name": "stdout",
     "output_type": "stream",
     "text": [
      "[1. 0. 0.] <-> [0.9292594  0.05448123 0.01625935]\n",
      "[1. 0. 0.] <-> [0.9166994  0.06847475 0.01482585]\n",
      "[1. 0. 0.] <-> [0.9377348  0.03729281 0.02497234]\n",
      "[1. 0. 0.] <-> [0.8774705  0.02271323 0.09981637]\n",
      "[0. 0. 1.] <-> [0.19987774 0.0149985  0.78512377]\n",
      "[1. 0. 0.] <-> [0.88435733 0.07484504 0.04079757]\n",
      "[1. 0. 0.] <-> [0.9190148  0.06424313 0.01674209]\n",
      "[1. 0. 0.] <-> [0.92378396 0.04753233 0.02868368]\n",
      "[0. 1. 0.] <-> [0.20639065 0.791393   0.00221639]\n",
      "[1. 0. 0.] <-> [0.88464284 0.09164666 0.0237105 ]\n",
      "[1. 0. 0.] <-> [0.90399575 0.03810953 0.05789475]\n",
      "[1. 0. 0.] <-> [0.8966353  0.07661097 0.02675362]\n",
      "[1. 0. 0.] <-> [0.9146136  0.06500357 0.02038282]\n",
      "[1. 0. 0.] <-> [0.83463883 0.06521689 0.10014424]\n",
      "[0. 1. 0.] <-> [0.26954028 0.7267197  0.0037401 ]\n",
      "[1. 0. 0.] <-> [0.94586104 0.02927724 0.02486168]\n",
      "[1. 0. 0.] <-> [0.9405504  0.02906078 0.03038885]\n",
      "[0. 1. 0.] <-> [6.6137679e-02 9.3294215e-01 9.2018291e-04]\n",
      "[1. 0. 0.] <-> [0.7316421  0.2583627  0.00999517]\n",
      "[0. 0. 1.] <-> [0.07231531 0.00789226 0.9197924 ]\n",
      "[0. 1. 0.] <-> [0.27141884 0.72517335 0.0034078 ]\n",
      "[1. 0. 0.] <-> [0.8926978  0.0262041  0.08109803]\n",
      "[1. 0. 0.] <-> [0.9330776  0.05307828 0.01384416]\n",
      "[1. 0. 0.] <-> [0.610019   0.37618116 0.01379982]\n",
      "[1. 0. 0.] <-> [0.84077114 0.03055042 0.12867846]\n",
      "[1. 0. 0.] <-> [0.9090631  0.07732156 0.01361538]\n",
      "[1. 0. 0.] <-> [0.9322971  0.03035774 0.03734516]\n",
      "[1. 0. 0.] <-> [0.9216301  0.05236408 0.02600585]\n",
      "[1. 0. 0.] <-> [0.88793415 0.02768911 0.08437679]\n",
      "[1. 0. 0.] <-> [0.8283271  0.15152831 0.02014453]\n",
      "[1. 0. 0.] <-> [0.7021254  0.2661206  0.03175397]\n",
      "[1. 0. 0.] <-> [0.87255824 0.09885161 0.0285901 ]\n",
      "[1. 0. 0.] <-> [0.8532465  0.13396291 0.01279056]\n",
      "[1. 0. 0.] <-> [0.8108924  0.13110073 0.05800685]\n",
      "[0. 0. 1.] <-> [0.09761201 0.00977115 0.89261687]\n",
      "[1. 0. 0.] <-> [0.92607963 0.03902476 0.03489564]\n",
      "[1. 0. 0.] <-> [0.81522727 0.0730895  0.11168323]\n",
      "[1. 0. 0.] <-> [0.9035404  0.07487043 0.02158915]\n",
      "[1. 0. 0.] <-> [0.6379374  0.34779504 0.01426753]\n",
      "[1. 0. 0.] <-> [0.90518516 0.08389145 0.01092339]\n",
      "[0. 0. 1.] <-> [0.283726  0.0301207 0.6861533]\n",
      "[1. 0. 0.] <-> [0.937854   0.03341353 0.02873247]\n",
      "[1. 0. 0.] <-> [0.9517209  0.01869079 0.02958834]\n",
      "[1. 0. 0.] <-> [0.6902206  0.29481888 0.01496053]\n",
      "[0. 0. 1.] <-> [0.36821213 0.01757644 0.61421144]\n",
      "[1. 0. 0.] <-> [0.8967287  0.08842283 0.01484854]\n",
      "[1. 0. 0.] <-> [0.84055763 0.1094448  0.04999755]\n",
      "[1. 0. 0.] <-> [0.8273833  0.14674483 0.02587194]\n",
      "[1. 0. 0.] <-> [0.9334119  0.04695492 0.01963319]\n",
      "[0. 1. 0.] <-> [0.39540035 0.59975827 0.00484134]\n",
      "[0. 1. 0.] <-> [0.07016657 0.9287384  0.00109499]\n",
      "[0. 1. 0.] <-> [5.022310e-02 9.492115e-01 5.654171e-04]\n",
      "[1. 0. 0.] <-> [0.9100991  0.02302428 0.06687664]\n",
      "[1. 0. 0.] <-> [0.8936986  0.09119948 0.01510194]\n",
      "[1. 0. 0.] <-> [0.91448736 0.06915115 0.01636144]\n",
      "[0. 1. 0.] <-> [0.52159256 0.4728358  0.00557165]\n",
      "[1. 0. 0.] <-> [0.9129084  0.05146329 0.0356284 ]\n",
      "[1. 0. 0.] <-> [0.76668787 0.05120691 0.18210526]\n",
      "[1. 0. 0.] <-> [0.92747664 0.04916944 0.02335401]\n",
      "[0. 0. 1.] <-> [0.16839413 0.01429133 0.81731457]\n",
      "[0. 1. 0.] <-> [0.13828906 0.85936147 0.00234949]\n",
      "[1. 0. 0.] <-> [0.790809   0.19559123 0.01359985]\n",
      "[1. 0. 0.] <-> [0.93316245 0.0486114  0.01822621]\n",
      "[1. 0. 0.] <-> [0.72881144 0.21573718 0.05545138]\n",
      "[1. 0. 0.] <-> [0.9192459  0.06125069 0.01950346]\n",
      "[1. 0. 0.] <-> [0.85987496 0.12585293 0.01427205]\n",
      "[0. 1. 0.] <-> [4.9265359e-02 9.5021325e-01 5.2138517e-04]\n",
      "[0. 1. 0.] <-> [4.9896605e-02 9.4956487e-01 5.3852663e-04]\n",
      "[1. 0. 0.] <-> [0.90293914 0.02078649 0.07627437]\n",
      "[1. 0. 0.] <-> [0.7576777  0.03275097 0.20957132]\n",
      "[0. 1. 0.] <-> [0.52714807 0.4665247  0.00632726]\n",
      "[1. 0. 0.] <-> [0.8925973  0.08801804 0.01938465]\n",
      "[1. 0. 0.] <-> [0.9514571  0.02486745 0.02367545]\n",
      "[0. 1. 0.] <-> [5.1409163e-02 9.4798440e-01 6.0642563e-04]\n",
      "[0. 1. 0.] <-> [4.9174439e-02 9.5030487e-01 5.2070542e-04]\n",
      "[1. 0. 0.] <-> [0.50614214 0.48525354 0.00860435]\n",
      "[0. 1. 0.] <-> [5.6397449e-02 9.4285017e-01 7.5236906e-04]\n",
      "[0. 0. 1.] <-> [0.15964511 0.01321847 0.82713646]\n",
      "[1. 0. 0.] <-> [0.6855327  0.30415365 0.01031362]\n",
      "[1. 0. 0.] <-> [0.89174134 0.09255376 0.01570494]\n",
      "[1. 0. 0.] <-> [0.7573546  0.22776182 0.01488359]\n",
      "[1. 0. 0.] <-> [0.9276506  0.04398397 0.02836536]\n",
      "[0. 0. 1.] <-> [0.0623316 0.0096337 0.9280347]\n",
      "[1. 0. 0.] <-> [0.9337145  0.0339442  0.03234126]\n",
      "[1. 0. 0.] <-> [0.8577041  0.05396843 0.08832744]\n",
      "[1. 0. 0.] <-> [0.89666444 0.06804411 0.03529151]\n",
      "[1. 0. 0.] <-> [0.9145612  0.04230684 0.04313193]\n",
      "[1. 0. 0.] <-> [0.9165989  0.05626631 0.02713472]\n",
      "[0. 0. 1.] <-> [0.06690402 0.01995436 0.9131416 ]\n",
      "[1. 0. 0.] <-> [0.7845234  0.19933686 0.01613972]\n",
      "[1. 0. 0.] <-> [0.6844975  0.0874861  0.22801644]\n",
      "[1. 0. 0.] <-> [0.9462014  0.03664958 0.01714902]\n",
      "[1. 0. 0.] <-> [0.5935754  0.06036662 0.34605798]\n",
      "[0. 0. 1.] <-> [0.26785994 0.04336465 0.6887754 ]\n",
      "[0. 0. 1.] <-> [0.6990057  0.04775489 0.25323933]\n",
      "[1. 0. 0.] <-> [0.90770555 0.03259201 0.0597024 ]\n",
      "[0. 0. 1.] <-> [0.6646423  0.02612707 0.30923066]\n",
      "[1. 0. 0.] <-> [0.90414613 0.07105351 0.02480038]\n",
      "[1. 0. 0.] <-> [0.92014706 0.03190639 0.04794651]\n",
      "[0. 1. 0.] <-> [0.3124738  0.68211985 0.00540638]\n",
      "[1. 0. 0.] <-> [0.9327661  0.03459457 0.03263931]\n",
      "[1. 0. 0.] <-> [0.8818353  0.05645842 0.06170632]\n",
      "[1. 0. 0.] <-> [0.89152676 0.05898612 0.04948709]\n",
      "[0. 0. 1.] <-> [0.50563085 0.03335511 0.46101403]\n",
      "[0. 0. 1.] <-> [0.11201263 0.01207978 0.8759076 ]\n",
      "[1. 0. 0.] <-> [0.9167268  0.02387701 0.05939618]\n",
      "[1. 0. 0.] <-> [0.5118158  0.48135927 0.00682493]\n",
      "[1. 0. 0.] <-> [0.9477049  0.02552073 0.02677435]\n",
      "{'accuracy': 0.9691358024691358, 'mean_square_error': 0.09110250322383374, 'categorical_crossentropy': 0.20587181161951135, 'essential_metrics': {0: {'tp_hit': 78, 'fp_hit': 5, 'tn_hit': 25, 'fn_hit': 0}, 1: {'tp_hit': 14, 'fp_hit': 0, 'tn_hit': 92, 'fn_hit': 2}, 2: {'tp_hit': 11, 'fp_hit': 0, 'tn_hit': 94, 'fn_hit': 3}}}\n"
     ]
    }
   ],
   "source": [
    "# recall phase\n",
    "score = model.evaluate(x_test, y_test, False)\n",
    "print(score)"
   ]
  },
  {
   "cell_type": "code",
   "execution_count": 11,
   "metadata": {},
   "outputs": [
    {
     "data": {
      "image/png": "[encoded data removed]",
      "text/plain": [
       "<Figure size 864x360 with 1 Axes>"
      ]
     },
     "metadata": {
      "needs_background": "light"
     },
     "output_type": "display_data"
    },
    {
     "data": {
      "image/png": "[encoded data removed]",
      "text/plain": [
       "<Figure size 864x360 with 1 Axes>"
      ]
     },
     "metadata": {
      "needs_background": "light"
     },
     "output_type": "display_data"
    }
   ],
   "source": [
    "draw_plot(x = [[i for i in range(len(history))], [(i+1)*breakpoint for i in range(len(checkpoints))]], y_list = [history, [ ckp[model.loss_fn] for ckp in checkpoints ]], x_label = 'Epochs', \\\n",
    "    y_label = model.loss_fn, legend=['train', 'test'])\n",
    "acc = [ ckp['accuracy'] for ckp in checkpoints ]\n",
    "draw_plot(x = [[(i+1)*breakpoint for i in range(len(checkpoints))]], y_list = [acc], x_label = 'Checkpoints', \\\n",
    "    y_label = 'accuracy')"
   ]
  },
  {
   "cell_type": "code",
   "execution_count": 12,
   "metadata": {},
   "outputs": [
    {
     "name": "stdout",
     "output_type": "stream",
     "text": [
      "{'accuracy': 0.9074074074074074, 'mean_square_error': 0.2305226153042575, 'categorical_crossentropy': 0.4348087664003725, 'essential_metrics': {0: {'tp_hit': 78, 'fp_hit': 15, 'tn_hit': 15, 'fn_hit': 0}, 1: {'tp_hit': 7, 'fp_hit': 0, 'tn_hit': 92, 'fn_hit': 9}, 2: {'tp_hit': 8, 'fp_hit': 0, 'tn_hit': 94, 'fn_hit': 6}}, 'checkpoint': 100} \n",
      "\n",
      "\n",
      "{'accuracy': 0.9629629629629629, 'mean_square_error': 0.117934729249213, 'categorical_crossentropy': 0.2462192111545139, 'essential_metrics': {0: {'tp_hit': 76, 'fp_hit': 4, 'tn_hit': 26, 'fn_hit': 2}, 1: {'tp_hit': 16, 'fp_hit': 2, 'tn_hit': 90, 'fn_hit': 0}, 2: {'tp_hit': 10, 'fp_hit': 0, 'tn_hit': 94, 'fn_hit': 4}}, 'checkpoint': 200} \n",
      "\n",
      "\n",
      "{'accuracy': 0.9691358024691358, 'mean_square_error': 0.096690847739797, 'categorical_crossentropy': 0.20098806310583045, 'essential_metrics': {0: {'tp_hit': 78, 'fp_hit': 5, 'tn_hit': 25, 'fn_hit': 0}, 1: {'tp_hit': 15, 'fp_hit': 0, 'tn_hit': 92, 'fn_hit': 1}, 2: {'tp_hit': 10, 'fp_hit': 0, 'tn_hit': 94, 'fn_hit': 4}}, 'checkpoint': 300} \n",
      "\n",
      "\n",
      "{'accuracy': 0.9691358024691358, 'mean_square_error': 0.09216311693415406, 'categorical_crossentropy': 0.205907733352096, 'essential_metrics': {0: {'tp_hit': 78, 'fp_hit': 5, 'tn_hit': 25, 'fn_hit': 0}, 1: {'tp_hit': 14, 'fp_hit': 0, 'tn_hit': 92, 'fn_hit': 2}, 2: {'tp_hit': 11, 'fp_hit': 0, 'tn_hit': 94, 'fn_hit': 3}}, 'checkpoint': 400} \n",
      "\n",
      "\n",
      "{'accuracy': 0.9691358024691358, 'mean_square_error': 0.09110250322383374, 'categorical_crossentropy': 0.20587181161951135, 'essential_metrics': {0: {'tp_hit': 78, 'fp_hit': 5, 'tn_hit': 25, 'fn_hit': 0}, 1: {'tp_hit': 14, 'fp_hit': 0, 'tn_hit': 92, 'fn_hit': 2}, 2: {'tp_hit': 11, 'fp_hit': 0, 'tn_hit': 94, 'fn_hit': 3}}, 'checkpoint': 500} \n",
      "\n",
      "\n"
     ]
    }
   ],
   "source": [
    "for checkpoint in checkpoints:\n",
    "    print(checkpoint, '\\n\\n')"
   ]
  },
  {
   "cell_type": "code",
   "execution_count": 13,
   "metadata": {},
   "outputs": [
    {
     "name": "stdout",
     "output_type": "stream",
     "text": [
      "Layer 1\n",
      "Neuron 0: weights:\n",
      "[-0.6160715   1.0274943   1.2241687  -0.08133951  0.11596455]\n",
      " bias: -0.3373654782772064\n",
      "\n",
      "Neuron 1: weights:\n",
      "[-0.942183    1.4714783   1.2480453  -0.06521085  0.08454755]\n",
      " bias: -1.1007435321807861\n",
      "\n",
      "Neuron 2: weights:\n",
      "[-0.00879934  1.799117   -0.01040229 -0.6585734  -1.3527768 ]\n",
      " bias: 1.5499831438064575\n",
      "\n",
      "Neuron 3: weights:\n",
      "[ 0.22110976 -0.7348806  -0.3109709   0.03163072  0.6284152 ]\n",
      " bias: -0.16216719150543213\n",
      "\n",
      "$\n",
      "Layer 2\n",
      "Neuron 0: weights:\n",
      "[ 0.01529716 -1.4008654   3.         -0.0198896 ]\n",
      " bias: 0.2888265550136566\n",
      "\n",
      "Neuron 1: weights:\n",
      "[ 3.         3.        -0.2579747 -1.1987932]\n",
      " bias: -0.8631707429885864\n",
      "\n",
      "Neuron 2: weights:\n",
      "[ 0.03107557 -0.10694609 -2.601743    3.        ]\n",
      " bias: -0.008920039050281048\n",
      "\n",
      "$\n",
      "\n"
     ]
    }
   ],
   "source": [
    "print(model)"
   ]
  }
 ],
 "metadata": {
  "kernelspec": {
   "display_name": "Python 3",
   "language": "python",
   "name": "python3"
  },
  "language_info": {
   "codemirror_mode": {
    "name": "ipython",
    "version": 3
   },
   "file_extension": ".py",
   "mimetype": "text/x-python",
   "name": "python",
   "nbconvert_exporter": "python",
   "pygments_lexer": "ipython3",
   "version": "3.6.10"
  }
 },
 "nbformat": 4,
 "nbformat_minor": 2
}
