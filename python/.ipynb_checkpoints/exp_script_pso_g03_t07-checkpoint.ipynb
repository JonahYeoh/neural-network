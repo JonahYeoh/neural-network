{
 "cells": [
  {
   "cell_type": "code",
   "execution_count": 1,
   "metadata": {},
   "outputs": [],
   "source": [
    "# dependency\n",
    "import numpy as np\n",
    "import pandas as pd\n",
    "import copy\n",
    "import math\n",
    "import sys\n",
    "import os\n",
    "from activations import relu, leaky_relu, sigmoid, tanh, softmax, d_sigmoid, d_relu\n",
    "from initializers import glorot_uniform, random_normal, random_uniform\n",
    "from regularizers import l1_regularizer, l2_regularizer\n",
    "from utility import trim_tail, multiply, subtract, get_nparams, one_hot_encoding, get_data\n",
    "from metrics import MSE, CCE, ACC, PRECISION, RECALL, essential_metrics, wondering_penalty, close_gap_penalty\n",
    "from pso import PSO\n",
    "from ga import GA\n",
    "from nn import Network\n",
    "from layer import DenseLayer\n",
    "from scalers import MinMaxScaler, StandardScaler"
   ]
  },
  {
   "cell_type": "code",
   "execution_count": 2,
   "metadata": {},
   "outputs": [],
   "source": [
    "# reference\n",
    "metrics_fn_dict = dict()\n",
    "metrics_fn_dict['accuracy'] = ACC\n",
    "metrics_fn_dict['categorical_crossentropy'] = CCE\n",
    "metrics_fn_dict['mean_square_error'] = MSE\n",
    "metrics_fn_dict['precision'] = PRECISION\n",
    "metrics_fn_dict['recall'] = RECALL\n",
    "metrics_fn_dict['essential_metrics'] = essential_metrics"
   ]
  },
  {
   "cell_type": "code",
   "execution_count": 3,
   "metadata": {},
   "outputs": [],
   "source": [
    "# model\n",
    "model = Network(5, lr = None)\n",
    "model.add_layer(DenseLayer(1, 4, True, afn=sigmoid, dafn=None, rfn=None))\n",
    "model.add_layer(DenseLayer(2, 3, True, afn=softmax, dafn=None, rfn=None))"
   ]
  },
  {
   "cell_type": "code",
   "execution_count": 4,
   "metadata": {},
   "outputs": [
    {
     "name": "stdout",
     "output_type": "stream",
     "text": [
      "see one see two 2 0.5\n"
     ]
    }
   ],
   "source": [
    "pso = PSO(dict(m = 50,\n",
    "    weight_constraint = [-3, 3], \n",
    "    velocity_constraint = [-0.1, 0.1],\n",
    "    c1 = [0.5, 2],\n",
    "    c2 = [0.5, 2],\n",
    "    w = [0.5, 1.6],\n",
    "    w_decay = 0.95,\n",
    "    scale_hyperparameter = False,\n",
    "    regularizer = l1_regularizer,\n",
    "    mask = True))"
   ]
  },
  {
   "cell_type": "code",
   "execution_count": 5,
   "metadata": {},
   "outputs": [
    {
     "name": "stdout",
     "output_type": "stream",
     "text": [
      "building layer 1 with 5\n",
      "24\n",
      "building layer 2 with 4\n",
      "15\n"
     ]
    }
   ],
   "source": [
    "model.compile(loss_fn = 'categorical_crossentropy', optimizer = pso, \\\n",
    "    metrics = ['accuracy', 'mean_square_error', 'categorical_crossentropy'])"
   ]
  },
  {
   "cell_type": "code",
   "execution_count": 6,
   "metadata": {},
   "outputs": [
    {
     "name": "stdout",
     "output_type": "stream",
     "text": [
      "<class 'pandas.core.frame.DataFrame'>\n",
      "RangeIndex: 107 entries, 0 to 106\n",
      "Data columns (total 6 columns):\n",
      " #   Column  Non-Null Count  Dtype  \n",
      "---  ------  --------------  -----  \n",
      " 0   f1      107 non-null    float32\n",
      " 1   f2      107 non-null    float32\n",
      " 2   f3      107 non-null    float32\n",
      " 3   f4      107 non-null    float32\n",
      " 4   f5      107 non-null    float32\n",
      " 5   label   107 non-null    float32\n",
      "dtypes: float32(6)\n",
      "memory usage: 2.6 KB\n",
      "None\n",
      "<class 'pandas.core.frame.DataFrame'>\n",
      "RangeIndex: 108 entries, 0 to 107\n",
      "Data columns (total 6 columns):\n",
      " #   Column  Non-Null Count  Dtype  \n",
      "---  ------  --------------  -----  \n",
      " 0   f1      108 non-null    float32\n",
      " 1   f2      108 non-null    float32\n",
      " 2   f3      108 non-null    float32\n",
      " 3   f4      108 non-null    float32\n",
      " 4   f5      108 non-null    float32\n",
      " 5   label   108 non-null    float32\n",
      "dtypes: float32(6)\n",
      "memory usage: 2.7 KB\n",
      "None\n"
     ]
    }
   ],
   "source": [
    "# data loading\n",
    "DATA = os.path.join('c:\\\\Users\\\\tcumi\\\\github_repo\\\\neural-network\\\\', 'dataset')\n",
    "GROUP = 3\n",
    "COLUMNS = ['f1', 'f2', 'f3', 'f4', 'f5', 'label']\n",
    "N_CLASS = 3\n",
    "EPOCHS = 500\n",
    "train_dir, test_dir = \"..//dataset//training_data{}.txt\".format(GROUP), \"..//dataset//testing_data{}.txt\".format(GROUP)\n",
    "train, test = get_data(DATA, train_dir, COLUMNS), get_data(DATA, test_dir, COLUMNS)\n",
    "# shuffle\n",
    "train, test = train.sample(frac=1), test.sample(frac=1)\n",
    "x_train, y_train = train.drop('label', axis=1), train['label']\n",
    "x_test, y_test = test.drop('label', axis=1), test['label']"
   ]
  },
  {
   "cell_type": "code",
   "execution_count": 7,
   "metadata": {},
   "outputs": [],
   "source": [
    "# data scaling and encoding\n",
    "scaler = StandardScaler(['f1', 'f2', 'f3', 'f4', 'f5'])\n",
    "scaler.fit(x_train)\n",
    "x_train = scaler.transform(x_train)\n",
    "x_test = scaler.transform(x_test)\n",
    "y_train = one_hot_encoding(y_train, N_CLASS)\n",
    "y_test = one_hot_encoding(y_test, N_CLASS)"
   ]
  },
  {
   "cell_type": "code",
   "execution_count": 8,
   "metadata": {
    "tags": [
     "outputPrepend"
    ]
   },
   "outputs": [
    {
     "name": "stdout",
     "output_type": "stream",
     "text": [
      "Checkpoint 100, Accuracy: 0.9074074074074074, Loss: 0.3844892007333261\n",
      "Checkpoint 200, Accuracy: 0.9444444444444444, Loss: 0.3115930204038267\n",
      "Checkpoint 300, Accuracy: 0.9506172839506173, Loss: 0.29717837439643013\n",
      "Checkpoint 400, Accuracy: 0.9320987654320988, Loss: 0.28977782637984667\n",
      "Checkpoint 500, Accuracy: 0.9444444444444444, Loss: 0.29221186814484773\n"
     ]
    }
   ],
   "source": [
    "# learning phase\n",
    "breakpoint = 100\n",
    "checkpoints = list()\n",
    "history = list()\n",
    "for century in range(0, EPOCHS, breakpoint):\n",
    "    sub_history = model.fit(x_train, y_train, breakpoint, verbose = 0)\n",
    "    score = model.evaluate(x_test, y_test, False, verbose = 0)\n",
    "    print('Checkpoint {}, Accuracy: {}, Loss: {}'.format(century+breakpoint, score['accuracy'], score[model.loss_fn]))\n",
    "    score['checkpoint'] = century + breakpoint\n",
    "    checkpoints.append(score)\n",
    "    history.extend(sub_history)\n",
    "    itr = century + breakpoint\n",
    "    model.optimizer.c1 = np.max([model.optimizer.C1[1] - ((model.optimizer.C1[1] - model.optimizer.C1[0]) * itr / EPOCHS), model.optimizer.C1[0]])\n",
    "    model.optimizer.c2 = np.min([model.optimizer.C2[0] + ((model.optimizer.C2[1] - model.optimizer.C2[0]) * itr / EPOCHS), model.optimizer.C2[1]])\n",
    "    model.optimizer.w = np.max([model.optimizer.w * model.optimizer.W_Decay, model.optimizer.W[0]])"
   ]
  },
  {
   "cell_type": "code",
   "execution_count": 9,
   "metadata": {},
   "outputs": [],
   "source": [
    "import matplotlib.pyplot as plt\n",
    "\n",
    "def draw_plot(x, y_list, x_label=None, y_label=None, legend=None, title=None):\n",
    "    fig, ax = plt.subplots(figsize=(12,5))\n",
    "    for xi, yi in zip(x, y_list):\n",
    "        ax.plot(xi, yi)\n",
    "    if x_label is not None and y_label is not None:\n",
    "        ax.set(xlabel=x_label, ylabel=y_label, title='{} VS {}'.format(x_label, y_label))\n",
    "    if legend is not None:\n",
    "        ax.legend(legend)\n",
    "    ax.grid()\n",
    "    plt.show()"
   ]
  },
  {
   "cell_type": "code",
   "execution_count": 10,
   "metadata": {},
   "outputs": [
    {
     "name": "stdout",
     "output_type": "stream",
     "text": [
      "[1. 0. 0.] <-> [0.90475816 0.03889978 0.05634218]\n",
      "[1. 0. 0.] <-> [0.6398471  0.29654586 0.06360703]\n",
      "[1. 0. 0.] <-> [0.8637907  0.05253503 0.08367433]\n",
      "[1. 0. 0.] <-> [0.91235244 0.02978585 0.05786176]\n",
      "[0. 1. 0.] <-> [0.04236137 0.911179   0.04645971]\n",
      "[1. 0. 0.] <-> [0.7282906  0.20861395 0.06309544]\n",
      "[1. 0. 0.] <-> [0.9106568  0.01488016 0.0744631 ]\n",
      "[0. 1. 0.] <-> [0.04971619 0.90667856 0.04360532]\n",
      "[1. 0. 0.] <-> [0.9367011  0.01327789 0.05002101]\n",
      "[1. 0. 0.] <-> [0.892153   0.02981919 0.07802779]\n",
      "[1. 0. 0.] <-> [0.8906456  0.07160518 0.0377493 ]\n",
      "[1. 0. 0.] <-> [0.7738424  0.10598648 0.1201711 ]\n",
      "[0. 0. 1.] <-> [0.56099516 0.01744755 0.42155722]\n",
      "[0. 0. 1.] <-> [0.4121969 0.0159893 0.5718138]\n",
      "[1. 0. 0.] <-> [0.6388273  0.03564543 0.32552722]\n",
      "[1. 0. 0.] <-> [0.9052671  0.05537775 0.0393551 ]\n",
      "[1. 0. 0.] <-> [0.7059219  0.22772333 0.06635476]\n",
      "[0. 1. 0.] <-> [0.07333799 0.8874977  0.03916426]\n",
      "[1. 0. 0.] <-> [0.92438847 0.02250479 0.05310671]\n",
      "[1. 0. 0.] <-> [0.9062395  0.03216565 0.06159492]\n",
      "[1. 0. 0.] <-> [0.83734995 0.09897375 0.06367633]\n",
      "[1. 0. 0.] <-> [0.81892544 0.11703618 0.06403836]\n",
      "[1. 0. 0.] <-> [0.90447146 0.05121534 0.04431321]\n",
      "[1. 0. 0.] <-> [0.9509395  0.01794248 0.03111805]\n",
      "[1. 0. 0.] <-> [0.9097778  0.05334691 0.03687534]\n",
      "[1. 0. 0.] <-> [0.94489086 0.02016295 0.03494613]\n",
      "[1. 0. 0.] <-> [0.4832357  0.47588006 0.04088427]\n",
      "[1. 0. 0.] <-> [0.94170094 0.030564   0.02773502]\n",
      "[1. 0. 0.] <-> [0.9280072  0.04467553 0.02731727]\n",
      "[1. 0. 0.] <-> [0.9347813  0.0286511  0.03656765]\n",
      "[1. 0. 0.] <-> [0.9374355  0.032198   0.03036646]\n",
      "[1. 0. 0.] <-> [0.92396164 0.01785136 0.05818692]\n",
      "[1. 0. 0.] <-> [0.91757005 0.0460588  0.03637116]\n",
      "[1. 0. 0.] <-> [0.8933309  0.05058588 0.05608322]\n",
      "[1. 0. 0.] <-> [0.88927937 0.07161606 0.03910452]\n",
      "[0. 0. 1.] <-> [0.07306121 0.01144116 0.91549766]\n",
      "[1. 0. 0.] <-> [0.91068965 0.03958792 0.04972249]\n",
      "[1. 0. 0.] <-> [0.76509714 0.15452012 0.08038273]\n",
      "[1. 0. 0.] <-> [0.81069916 0.13308114 0.05621979]\n",
      "[0. 0. 1.] <-> [0.92133945 0.01140594 0.06725454]\n",
      "[0. 1. 0.] <-> [0.0452583  0.9107691  0.04397253]\n",
      "[1. 0. 0.] <-> [0.6692272  0.28102583 0.04974702]\n",
      "[1. 0. 0.] <-> [0.84415543 0.03602809 0.11981649]\n",
      "[1. 0. 0.] <-> [0.8946018  0.04499737 0.06040077]\n",
      "[0. 0. 1.] <-> [0.7741639  0.02001492 0.20582117]\n",
      "[1. 0. 0.] <-> [0.94044274 0.0240872  0.0354701 ]\n",
      "[1. 0. 0.] <-> [0.9047877  0.05187077 0.04334154]\n",
      "[1. 0. 0.] <-> [0.8253273  0.08597409 0.08869859]\n",
      "[0. 1. 0.] <-> [0.47934943 0.50514317 0.01550739]\n",
      "[1. 0. 0.] <-> [0.9374868  0.02394594 0.03856716]\n",
      "[1. 0. 0.] <-> [0.9078812  0.04671374 0.04540502]\n",
      "[1. 0. 0.] <-> [0.74461305 0.03938529 0.21600169]\n",
      "[1. 0. 0.] <-> [0.9014693  0.03804575 0.06048497]\n",
      "[1. 0. 0.] <-> [0.80549043 0.04217926 0.15233023]\n",
      "[0. 1. 0.] <-> [0.05932201 0.90262336 0.03805467]\n",
      "[0. 1. 0.] <-> [0.09065495 0.87126726 0.03807777]\n",
      "[1. 0. 0.] <-> [0.9226886  0.0165206  0.06079073]\n",
      "[0. 1. 0.] <-> [0.626927   0.3500513  0.02302165]\n",
      "[1. 0. 0.] <-> [0.9332422  0.04360696 0.02315077]\n",
      "[0. 0. 1.] <-> [0.06869751 0.01421904 0.91708344]\n",
      "[1. 0. 0.] <-> [0.86350304 0.09370159 0.04279535]\n",
      "[1. 0. 0.] <-> [0.9366066  0.01740135 0.04599216]\n",
      "[0. 1. 0.] <-> [0.4997262  0.47683457 0.02343922]\n",
      "[1. 0. 0.] <-> [0.94286007 0.02359898 0.03354094]\n",
      "[1. 0. 0.] <-> [0.8120944  0.14570671 0.04219881]\n",
      "[1. 0. 0.] <-> [0.9431153  0.02229604 0.03458862]\n",
      "[0. 0. 1.] <-> [0.84052944 0.01300012 0.14647049]\n",
      "[1. 0. 0.] <-> [0.9262628  0.02059557 0.05314165]\n",
      "[0. 0. 1.] <-> [0.13723797 0.01467729 0.84808475]\n",
      "[0. 0. 1.] <-> [0.47541735 0.0177815  0.5068012 ]\n",
      "[0. 1. 0.] <-> [0.33786547 0.60250515 0.05962941]\n",
      "[0. 0. 1.] <-> [0.06719703 0.01157425 0.9212287 ]\n",
      "[0. 1. 0.] <-> [0.04149316 0.9123223  0.04618452]\n",
      "[1. 0. 0.] <-> [0.86639565 0.08668423 0.04692019]\n",
      "[0. 1. 0.] <-> [0.28976098 0.65501237 0.05522661]\n",
      "[0. 0. 1.] <-> [0.50406677 0.02300457 0.4729286 ]\n",
      "[1. 0. 0.] <-> [0.941709   0.01473316 0.04355785]\n",
      "[1. 0. 0.] <-> [0.93977445 0.02433348 0.03589212]\n",
      "[1. 0. 0.] <-> [0.9337429 0.0285357 0.0377215]\n",
      "[1. 0. 0.] <-> [0.76541775 0.03407017 0.2005121 ]\n",
      "[1. 0. 0.] <-> [0.947596   0.01439001 0.03801392]\n",
      "[1. 0. 0.] <-> [0.852628   0.05856423 0.08880773]\n",
      "[1. 0. 0.] <-> [0.898842   0.05092759 0.05023041]\n",
      "[1. 0. 0.] <-> [0.88881177 0.03814039 0.07304787]\n",
      "[1. 0. 0.] <-> [0.9114602  0.05392756 0.03461223]\n",
      "[1. 0. 0.] <-> [0.861004   0.07022002 0.06877602]\n",
      "[1. 0. 0.] <-> [0.571094   0.38524163 0.0436644 ]\n",
      "[1. 0. 0.] <-> [0.7608684  0.17521718 0.06391445]\n",
      "[1. 0. 0.] <-> [0.926229   0.03494573 0.03882525]\n",
      "[0. 0. 1.] <-> [0.6711885  0.02120088 0.3076106 ]\n",
      "[1. 0. 0.] <-> [0.93278986 0.02494994 0.04226018]\n",
      "[0. 1. 0.] <-> [0.06037789 0.89796674 0.04165529]\n",
      "[1. 0. 0.] <-> [0.51431453 0.26723188 0.21845353]\n",
      "[1. 0. 0.] <-> [0.884295   0.0482824  0.06742256]\n",
      "[1. 0. 0.] <-> [0.906314   0.04907737 0.0446086 ]\n",
      "[1. 0. 0.] <-> [0.94014525 0.01500897 0.04484573]\n",
      "[1. 0. 0.] <-> [0.8271574  0.06911402 0.10372859]\n",
      "[1. 0. 0.] <-> [0.93530756 0.02375871 0.04093372]\n",
      "[1. 0. 0.] <-> [0.8540808  0.04048362 0.10543563]\n",
      "[0. 0. 1.] <-> [0.8690108  0.01962692 0.11136226]\n",
      "[1. 0. 0.] <-> [0.86839616 0.08107597 0.05052785]\n",
      "[0. 1. 0.] <-> [0.43943676 0.5399715  0.02059179]\n",
      "[0. 1. 0.] <-> [0.20560649 0.7658838  0.02850976]\n",
      "[1. 0. 0.] <-> [0.6053393  0.3082359  0.08642478]\n",
      "[1. 0. 0.] <-> [0.78478116 0.188306   0.02691286]\n",
      "[1. 0. 0.] <-> [0.86029893 0.03385536 0.10584567]\n",
      "[0. 0. 1.] <-> [0.46654928 0.01847936 0.5149714 ]\n",
      "[0. 1. 0.] <-> [0.15953714 0.80019027 0.04027262]\n",
      "{'accuracy': 0.9444444444444444, 'mean_square_error': 0.1520140967582169, 'categorical_crossentropy': 0.29221186814484773, 'essential_metrics': {0: {'tp_hit': 78, 'fp_hit': 9, 'tn_hit': 21, 'fn_hit': 0}, 1: {'tp_hit': 14, 'fp_hit': 0, 'tn_hit': 92, 'fn_hit': 2}, 2: {'tp_hit': 7, 'fp_hit': 0, 'tn_hit': 94, 'fn_hit': 7}}}\n"
     ]
    }
   ],
   "source": [
    "# recall phase\n",
    "score = model.evaluate(x_test, y_test, False)\n",
    "print(score)"
   ]
  },
  {
   "cell_type": "code",
   "execution_count": 11,
   "metadata": {},
   "outputs": [
    {
     "data": {
      "image/png": "[encoded data removed]",
      "text/plain": [
       "<Figure size 864x360 with 1 Axes>"
      ]
     },
     "metadata": {
      "needs_background": "light"
     },
     "output_type": "display_data"
    },
    {
     "data": {
      "image/png": "[encoded data removed]",
      "text/plain": [
       "<Figure size 864x360 with 1 Axes>"
      ]
     },
     "metadata": {
      "needs_background": "light"
     },
     "output_type": "display_data"
    }
   ],
   "source": [
    "draw_plot(x = [[i for i in range(len(history))], [(i+1)*breakpoint for i in range(len(checkpoints))]], y_list = [history, [ ckp[model.loss_fn] for ckp in checkpoints ]], x_label = 'Epochs', \\\n",
    "    y_label = model.loss_fn, legend=['train', 'test'])\n",
    "acc = [ ckp['accuracy'] for ckp in checkpoints ]\n",
    "draw_plot(x = [[(i+1)*breakpoint for i in range(len(checkpoints))]], y_list = [acc], x_label = 'Checkpoints', \\\n",
    "    y_label = 'accuracy')"
   ]
  },
  {
   "cell_type": "code",
   "execution_count": 12,
   "metadata": {},
   "outputs": [
    {
     "name": "stdout",
     "output_type": "stream",
     "text": [
      "{'accuracy': 0.9074074074074074, 'mean_square_error': 0.2057327293825012, 'categorical_crossentropy': 0.3844892007333261, 'essential_metrics': {0: {'tp_hit': 78, 'fp_hit': 15, 'tn_hit': 15, 'fn_hit': 0}, 1: {'tp_hit': 11, 'fp_hit': 0, 'tn_hit': 92, 'fn_hit': 5}, 2: {'tp_hit': 4, 'fp_hit': 0, 'tn_hit': 94, 'fn_hit': 10}}, 'checkpoint': 100} \n",
      "\n",
      "\n",
      "{'accuracy': 0.9444444444444444, 'mean_square_error': 0.15855968209215393, 'categorical_crossentropy': 0.3115930204038267, 'essential_metrics': {0: {'tp_hit': 77, 'fp_hit': 8, 'tn_hit': 22, 'fn_hit': 1}, 1: {'tp_hit': 15, 'fp_hit': 1, 'tn_hit': 91, 'fn_hit': 1}, 2: {'tp_hit': 7, 'fp_hit': 0, 'tn_hit': 94, 'fn_hit': 7}}, 'checkpoint': 200} \n",
      "\n",
      "\n",
      "{'accuracy': 0.9506172839506173, 'mean_square_error': 0.14807301830524222, 'categorical_crossentropy': 0.29717837439643013, 'essential_metrics': {0: {'tp_hit': 78, 'fp_hit': 8, 'tn_hit': 22, 'fn_hit': 0}, 1: {'tp_hit': 13, 'fp_hit': 0, 'tn_hit': 92, 'fn_hit': 3}, 2: {'tp_hit': 9, 'fp_hit': 0, 'tn_hit': 94, 'fn_hit': 5}}, 'checkpoint': 300} \n",
      "\n",
      "\n",
      "{'accuracy': 0.9320987654320988, 'mean_square_error': 0.1529960537147675, 'categorical_crossentropy': 0.28977782637984667, 'essential_metrics': {0: {'tp_hit': 78, 'fp_hit': 11, 'tn_hit': 19, 'fn_hit': 0}, 1: {'tp_hit': 11, 'fp_hit': 0, 'tn_hit': 92, 'fn_hit': 5}, 2: {'tp_hit': 8, 'fp_hit': 0, 'tn_hit': 94, 'fn_hit': 6}}, 'checkpoint': 400} \n",
      "\n",
      "\n",
      "{'accuracy': 0.9444444444444444, 'mean_square_error': 0.1520140967582169, 'categorical_crossentropy': 0.29221186814484773, 'essential_metrics': {0: {'tp_hit': 78, 'fp_hit': 9, 'tn_hit': 21, 'fn_hit': 0}, 1: {'tp_hit': 14, 'fp_hit': 0, 'tn_hit': 92, 'fn_hit': 2}, 2: {'tp_hit': 7, 'fp_hit': 0, 'tn_hit': 94, 'fn_hit': 7}}, 'checkpoint': 500} \n",
      "\n",
      "\n"
     ]
    }
   ],
   "source": [
    "for checkpoint in checkpoints:\n",
    "    print(checkpoint, '\\n\\n')"
   ]
  },
  {
   "cell_type": "code",
   "execution_count": 13,
   "metadata": {},
   "outputs": [
    {
     "name": "stdout",
     "output_type": "stream",
     "text": [
      "Layer 1\n",
      "Neuron 0: weights:\n",
      "[ 0.13142285 -0.1000078  -1.419656   -1.6316246  -0.75229084]\n",
      " bias: 0.012311629951000214\n",
      "\n",
      "Neuron 1: weights:\n",
      "[ 0.01506993 -1.216588   -0.17060894  0.7328109   1.0919412 ]\n",
      " bias: -0.6657646894454956\n",
      "\n",
      "Neuron 2: weights:\n",
      "[ 1.0561227  -1.8984755  -1.5872309  -0.0549073  -0.03714388]\n",
      " bias: 1.0208215713500977\n",
      "\n",
      "Neuron 3: weights:\n",
      "[-0.05665575  0.05151789  0.0843429   0.38371557 -0.02119243]\n",
      " bias: -0.11541275680065155\n",
      "\n",
      "$\n",
      "Layer 2\n",
      "Neuron 0: weights:\n",
      "[ 3.         -0.2199488   1.6388738  -0.14021638]\n",
      " bias: -0.0902852788567543\n",
      "\n",
      "Neuron 1: weights:\n",
      "[-0.0738622  -0.47330064 -3.         -0.0887854 ]\n",
      " bias: 3.0\n",
      "\n",
      "Neuron 2: weights:\n",
      "[-1.5708456   3.          0.9551519  -0.03428614]\n",
      " bias: -0.015928877517580986\n",
      "\n",
      "$\n",
      "\n"
     ]
    }
   ],
   "source": [
    "print(model)"
   ]
  }
 ],
 "metadata": {
  "kernelspec": {
   "display_name": "Python 3",
   "language": "python",
   "name": "python3"
  },
  "language_info": {
   "codemirror_mode": {
    "name": "ipython",
    "version": 3
   },
   "file_extension": ".py",
   "mimetype": "text/x-python",
   "name": "python",
   "nbconvert_exporter": "python",
   "pygments_lexer": "ipython3",
   "version": "3.6.10"
  }
 },
 "nbformat": 4,
 "nbformat_minor": 2
}
