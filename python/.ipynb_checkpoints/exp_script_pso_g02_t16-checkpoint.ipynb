{
 "cells": [
  {
   "cell_type": "code",
   "execution_count": 1,
   "metadata": {},
   "outputs": [],
   "source": [
    "# dependency\n",
    "import numpy as np\n",
    "import pandas as pd\n",
    "import copy\n",
    "import math\n",
    "import sys\n",
    "import os\n",
    "from activations import relu, leaky_relu, sigmoid, tanh, softmax, d_sigmoid, d_relu\n",
    "from initializers import glorot_uniform, random_normal, random_uniform\n",
    "from regularizers import l1_regularizer, l2_regularizer\n",
    "from utility import trim_tail, multiply, subtract, get_nparams, one_hot_encoding, get_data\n",
    "from metrics import MSE, CCE, ACC, PRECISION, RECALL, essential_metrics, wondering_penalty, close_gap_penalty\n",
    "from pso import PSO\n",
    "from ga import GA\n",
    "from nn import Network\n",
    "from layer import DenseLayer\n",
    "from scalers import MinMaxScaler, StandardScaler"
   ]
  },
  {
   "cell_type": "code",
   "execution_count": 2,
   "metadata": {},
   "outputs": [],
   "source": [
    "# reference\n",
    "metrics_fn_dict = dict()\n",
    "metrics_fn_dict['accuracy'] = ACC\n",
    "metrics_fn_dict['categorical_crossentropy'] = CCE\n",
    "metrics_fn_dict['mean_square_error'] = MSE\n",
    "metrics_fn_dict['precision'] = PRECISION\n",
    "metrics_fn_dict['recall'] = RECALL\n",
    "metrics_fn_dict['essential_metrics'] = essential_metrics"
   ]
  },
  {
   "cell_type": "code",
   "execution_count": 3,
   "metadata": {},
   "outputs": [],
   "source": [
    "# model\n",
    "model = Network(5, lr = None)\n",
    "model.add_layer(DenseLayer(1, 4, True, afn=sigmoid, dafn=None, rfn=None))\n",
    "model.add_layer(DenseLayer(2, 3, True, afn=softmax, dafn=None, rfn=None))"
   ]
  },
  {
   "cell_type": "code",
   "execution_count": 4,
   "metadata": {},
   "outputs": [
    {
     "name": "stdout",
     "output_type": "stream",
     "text": [
      "see one see two 2 0.5\n"
     ]
    }
   ],
   "source": [
    "pso = PSO(dict(m = 50,\n",
    "    weight_constraint = [-3, 3], \n",
    "    velocity_constraint = [-0.1, 0.1],\n",
    "    c1 = [0.5, 2],\n",
    "    c2 = [0.5, 2],\n",
    "    w = [0.5, 1.2],\n",
    "    w_decay = 0.95,\n",
    "    scale_hyperparameter = False,\n",
    "    regularizer = None,\n",
    "    mask = None))"
   ]
  },
  {
   "cell_type": "code",
   "execution_count": 5,
   "metadata": {},
   "outputs": [
    {
     "name": "stdout",
     "output_type": "stream",
     "text": [
      "building layer 1 with 5\n",
      "24\n",
      "building layer 2 with 4\n",
      "15\n"
     ]
    }
   ],
   "source": [
    "model.compile(loss_fn = 'categorical_crossentropy', optimizer = pso, \\\n",
    "    metrics = ['accuracy', 'mean_square_error', 'categorical_crossentropy'])"
   ]
  },
  {
   "cell_type": "code",
   "execution_count": 6,
   "metadata": {},
   "outputs": [
    {
     "name": "stdout",
     "output_type": "stream",
     "text": [
      "<class 'pandas.core.frame.DataFrame'>\n",
      "RangeIndex: 107 entries, 0 to 106\n",
      "Data columns (total 6 columns):\n",
      " #   Column  Non-Null Count  Dtype  \n",
      "---  ------  --------------  -----  \n",
      " 0   f1      107 non-null    float32\n",
      " 1   f2      107 non-null    float32\n",
      " 2   f3      107 non-null    float32\n",
      " 3   f4      107 non-null    float32\n",
      " 4   f5      107 non-null    float32\n",
      " 5   label   107 non-null    float32\n",
      "dtypes: float32(6)\n",
      "memory usage: 2.6 KB\n",
      "None\n",
      "<class 'pandas.core.frame.DataFrame'>\n",
      "RangeIndex: 108 entries, 0 to 107\n",
      "Data columns (total 6 columns):\n",
      " #   Column  Non-Null Count  Dtype  \n",
      "---  ------  --------------  -----  \n",
      " 0   f1      108 non-null    float32\n",
      " 1   f2      108 non-null    float32\n",
      " 2   f3      108 non-null    float32\n",
      " 3   f4      108 non-null    float32\n",
      " 4   f5      108 non-null    float32\n",
      " 5   label   108 non-null    float32\n",
      "dtypes: float32(6)\n",
      "memory usage: 2.7 KB\n",
      "None\n"
     ]
    }
   ],
   "source": [
    "# data loading\n",
    "DATA = os.path.join('c:\\\\Users\\\\tcumi\\\\github_repo\\\\neural-network\\\\', 'dataset')\n",
    "GROUP = 2\n",
    "COLUMNS = ['f1', 'f2', 'f3', 'f4', 'f5', 'label']\n",
    "N_CLASS = 3\n",
    "EPOCHS = 500\n",
    "train_dir, test_dir = \"..//dataset//training_data{}.txt\".format(GROUP), \"..//dataset//testing_data{}.txt\".format(GROUP)\n",
    "train, test = get_data(DATA, train_dir, COLUMNS), get_data(DATA, test_dir, COLUMNS)\n",
    "# shuffle\n",
    "train, test = train.sample(frac=1), test.sample(frac=1)\n",
    "x_train, y_train = train.drop('label', axis=1), train['label']\n",
    "x_test, y_test = test.drop('label', axis=1), test['label']"
   ]
  },
  {
   "cell_type": "code",
   "execution_count": 7,
   "metadata": {},
   "outputs": [],
   "source": [
    "# data scaling and encoding\n",
    "scaler = StandardScaler(['f1', 'f2', 'f3', 'f4', 'f5'])\n",
    "scaler.fit(x_train)\n",
    "x_train = scaler.transform(x_train)\n",
    "x_test = scaler.transform(x_test)\n",
    "y_train = one_hot_encoding(y_train, N_CLASS)\n",
    "y_test = one_hot_encoding(y_test, N_CLASS)"
   ]
  },
  {
   "cell_type": "code",
   "execution_count": 8,
   "metadata": {
    "tags": [
     "outputPrepend"
    ]
   },
   "outputs": [
    {
     "name": "stderr",
     "output_type": "stream",
     "text": [
      "C:\\Users\\tcumi\\github_repo\\neural-network\\python\\activations.py:14: RuntimeWarning: overflow encountered in exp\n",
      "  y = 1 / (1 + np.exp(-Xi))\n"
     ]
    },
    {
     "name": "stdout",
     "output_type": "stream",
     "text": [
      "Checkpoint 100, Accuracy: 0.8827160493827161, Loss: 0.5209548385054977\n",
      "Checkpoint 200, Accuracy: 0.8827160493827161, Loss: 0.5209548385054977\n",
      "Checkpoint 300, Accuracy: 0.8827160493827161, Loss: 0.5209548385054977\n",
      "Checkpoint 400, Accuracy: 0.8827160493827161, Loss: 0.5209548385054977\n",
      "Checkpoint 500, Accuracy: 0.8827160493827161, Loss: 0.5209548385054977\n"
     ]
    }
   ],
   "source": [
    "# learning phase\n",
    "breakpoint = 100\n",
    "checkpoints = list()\n",
    "history = list()\n",
    "for century in range(0, EPOCHS, breakpoint):\n",
    "    sub_history = model.fit(x_train, y_train, breakpoint, verbose = 0)\n",
    "    score = model.evaluate(x_test, y_test, False, verbose = 0)\n",
    "    print('Checkpoint {}, Accuracy: {}, Loss: {}'.format(century+breakpoint, score['accuracy'], score[model.loss_fn]))\n",
    "    score['checkpoint'] = century + breakpoint\n",
    "    checkpoints.append(score)\n",
    "    history.extend(sub_history)\n",
    "    itr = century + breakpoint\n",
    "    model.optimizer.c1 = np.max([model.optimizer.C1[1] - ((model.optimizer.C1[1] - model.optimizer.C1[0]) * itr / EPOCHS), model.optimizer.C1[0]])\n",
    "    model.optimizer.c2 = np.min([model.optimizer.C2[0] + ((model.optimizer.C2[1] - model.optimizer.C2[0]) * itr / EPOCHS), model.optimizer.C2[1]])\n",
    "    model.optimizer.w = np.max([model.optimizer.w * model.optimizer.W_Decay, model.optimizer.W[0]])"
   ]
  },
  {
   "cell_type": "code",
   "execution_count": 9,
   "metadata": {},
   "outputs": [],
   "source": [
    "import matplotlib.pyplot as plt\n",
    "\n",
    "def draw_plot(x, y_list, x_label=None, y_label=None, legend=None, title=None):\n",
    "    fig, ax = plt.subplots(figsize=(12,5))\n",
    "    for xi, yi in zip(x, y_list):\n",
    "        ax.plot(xi, yi)\n",
    "    if x_label is not None and y_label is not None:\n",
    "        ax.set(xlabel=x_label, ylabel=y_label, title='{} VS {}'.format(x_label, y_label))\n",
    "    if legend is not None:\n",
    "        ax.legend(legend)\n",
    "    ax.grid()\n",
    "    plt.show()"
   ]
  },
  {
   "cell_type": "code",
   "execution_count": 10,
   "metadata": {},
   "outputs": [
    {
     "name": "stdout",
     "output_type": "stream",
     "text": [
      "[0. 1. 0.] <-> [0.9082755  0.06821538 0.02350923]\n",
      "[1. 0. 0.] <-> [0.94310516 0.0388494  0.0180454 ]\n",
      "[1. 0. 0.] <-> [0.95438707 0.03089308 0.0147198 ]\n",
      "[1. 0. 0.] <-> [0.93708086 0.0440058  0.01891344]\n",
      "[1. 0. 0.] <-> [0.9640261  0.02355791 0.01241604]\n",
      "[1. 0. 0.] <-> [0.9550876  0.03092205 0.01399033]\n",
      "[1. 0. 0.] <-> [0.95842475 0.02895559 0.01261962]\n",
      "[1. 0. 0.] <-> [0.9581451  0.02638707 0.01546787]\n",
      "[0. 1. 0.] <-> [0.6343601  0.21936007 0.14627984]\n",
      "[1. 0. 0.] <-> [0.9527027  0.02556978 0.02172745]\n",
      "[1. 0. 0.] <-> [0.9572216  0.02778147 0.01499684]\n",
      "[1. 0. 0.] <-> [0.93339306 0.04662154 0.0199854 ]\n",
      "[0. 0. 1.] <-> [0.11068865 0.01615748 0.8731539 ]\n",
      "[1. 0. 0.] <-> [0.97101766 0.01941995 0.00956236]\n",
      "[1. 0. 0.] <-> [0.9650571  0.02437773 0.0105652 ]\n",
      "[1. 0. 0.] <-> [0.9694369  0.02079999 0.00976313]\n",
      "[0. 1. 0.] <-> [0.21502176 0.23041089 0.55456734]\n",
      "[1. 0. 0.] <-> [0.9609099  0.02727724 0.0118129 ]\n",
      "[0. 1. 0.] <-> [0.16452482 0.04835347 0.7871217 ]\n",
      "[1. 0. 0.] <-> [0.8920932  0.04730968 0.06059715]\n",
      "[0. 1. 0.] <-> [0.19444951 0.3449013  0.4606492 ]\n",
      "[1. 0. 0.] <-> [0.96787137 0.0218633  0.0102653 ]\n",
      "[1. 0. 0.] <-> [0.95931906 0.02824861 0.01243236]\n",
      "[1. 0. 0.] <-> [0.9562964  0.03061167 0.01309187]\n",
      "[1. 0. 0.] <-> [0.96852857 0.02072984 0.01074159]\n",
      "[1. 0. 0.] <-> [0.9275148  0.04594191 0.02654327]\n",
      "[0. 1. 0.] <-> [0.00489731 0.04591725 0.9491855 ]\n",
      "[1. 0. 0.] <-> [0.9467709  0.03833416 0.01489504]\n",
      "[1. 0. 0.] <-> [0.90899444 0.06377771 0.02722785]\n",
      "[1. 0. 0.] <-> [0.9082207  0.05798046 0.03379882]\n",
      "[1. 0. 0.] <-> [0.9022563  0.03860106 0.05914266]\n",
      "[1. 0. 0.] <-> [0.9572318  0.02961171 0.0131565 ]\n",
      "[1. 0. 0.] <-> [0.93126863 0.04276735 0.02596402]\n",
      "[0. 0. 1.] <-> [0.9731031  0.01832884 0.00856812]\n",
      "[1. 0. 0.] <-> [0.92963916 0.03086725 0.03949361]\n",
      "[0. 1. 0.] <-> [0.40628096 0.10945497 0.48426405]\n",
      "[1. 0. 0.] <-> [0.9481552  0.03404574 0.01779897]\n",
      "[1. 0. 0.] <-> [0.95494694 0.0324747  0.01257833]\n",
      "[1. 0. 0.] <-> [0.94085103 0.04015179 0.01899723]\n",
      "[0. 1. 0.] <-> [0.6909688  0.19967063 0.10936056]\n",
      "[1. 0. 0.] <-> [0.96782917 0.02180476 0.01036604]\n",
      "[1. 0. 0.] <-> [0.9492629  0.03275072 0.01798635]\n",
      "[1. 0. 0.] <-> [0.9051752  0.06835981 0.02646495]\n",
      "[0. 1. 0.] <-> [0.07851798 0.03777551 0.8837065 ]\n",
      "[1. 0. 0.] <-> [0.92400193 0.0394189  0.03657918]\n",
      "[1. 0. 0.] <-> [0.73399806 0.07495818 0.19104373]\n",
      "[1. 0. 0.] <-> [0.96697336 0.02236281 0.0106638 ]\n",
      "[1. 0. 0.] <-> [0.93525577 0.03912158 0.02562268]\n",
      "[1. 0. 0.] <-> [0.9650213  0.02397123 0.01100744]\n",
      "[1. 0. 0.] <-> [0.9529755  0.03401212 0.01301239]\n",
      "[1. 0. 0.] <-> [0.9607414 0.0225442 0.0167144]\n",
      "[0. 0. 1.] <-> [0.14058094 0.01581458 0.84360445]\n",
      "[1. 0. 0.] <-> [0.96023226 0.02766839 0.01209928]\n",
      "[1. 0. 0.] <-> [0.9621591  0.02532508 0.01251585]\n",
      "[1. 0. 0.] <-> [0.92389405 0.04693444 0.02917153]\n",
      "[0. 0. 1.] <-> [0.12111257 0.01358142 0.865306  ]\n",
      "[0. 1. 0.] <-> [0.9149538  0.06178375 0.02326242]\n",
      "[1. 0. 0.] <-> [0.9600574  0.02738139 0.01256126]\n",
      "[1. 0. 0.] <-> [0.949721   0.03657673 0.01370229]\n",
      "[1. 0. 0.] <-> [0.9224133  0.04388857 0.0336982 ]\n",
      "[0. 0. 1.] <-> [0.12968162 0.01427395 0.8560444 ]\n",
      "[1. 0. 0.] <-> [0.7633028  0.08303015 0.153667  ]\n",
      "[1. 0. 0.] <-> [0.9725079  0.0188201  0.00867204]\n",
      "[1. 0. 0.] <-> [0.52861196 0.07147374 0.3999142 ]\n",
      "[1. 0. 0.] <-> [0.93006235 0.04402933 0.02590837]\n",
      "[0. 0. 1.] <-> [0.55509907 0.03400426 0.41089675]\n",
      "[1. 0. 0.] <-> [0.95416385 0.02670849 0.01912765]\n",
      "[1. 0. 0.] <-> [0.96622    0.02338242 0.01039758]\n",
      "[1. 0. 0.] <-> [0.96646726 0.02307974 0.010453  ]\n",
      "[1. 0. 0.] <-> [0.86995995 0.06155248 0.06848756]\n",
      "[0. 0. 1.] <-> [0.96554327 0.02090099 0.01355571]\n",
      "[0. 0. 1.] <-> [0.92914015 0.0322604  0.03859954]\n",
      "[1. 0. 0.] <-> [0.9570421  0.03126398 0.0116939 ]\n",
      "[1. 0. 0.] <-> [0.9619408  0.02714816 0.01091092]\n",
      "[0. 0. 1.] <-> [0.1023522  0.01627579 0.88137203]\n",
      "[0. 1. 0.] <-> [0.89967835 0.06828674 0.03203496]\n",
      "[1. 0. 0.] <-> [0.95403516 0.02765124 0.01831362]\n",
      "[1. 0. 0.] <-> [0.96744096 0.02267331 0.00988569]\n",
      "[1. 0. 0.] <-> [0.93155396 0.03878997 0.02965609]\n",
      "[1. 0. 0.] <-> [0.96556616 0.02316194 0.01127196]\n",
      "[0. 1. 0.] <-> [0.03460467 0.08856504 0.8768303 ]\n",
      "[1. 0. 0.] <-> [0.9640074  0.02478751 0.0112051 ]\n",
      "[1. 0. 0.] <-> [0.89586115 0.04239918 0.06173965]\n",
      "[1. 0. 0.] <-> [0.9604268  0.02535133 0.01422184]\n",
      "[0. 0. 1.] <-> [0.12105016 0.01359167 0.8653582 ]\n",
      "[0. 1. 0.] <-> [0.82108676 0.12627235 0.05264088]\n",
      "[1. 0. 0.] <-> [0.97027695 0.02046186 0.00926112]\n",
      "[1. 0. 0.] <-> [0.7033326  0.03657631 0.26009107]\n",
      "[1. 0. 0.] <-> [0.9640446  0.0244454  0.01150999]\n",
      "[1. 0. 0.] <-> [0.89976954 0.03648465 0.06374583]\n",
      "[1. 0. 0.] <-> [0.9426824  0.04157877 0.01573884]\n",
      "[1. 0. 0.] <-> [0.95594156 0.02775658 0.01630195]\n",
      "[0. 1. 0.] <-> [0.00434627 0.04173872 0.95391494]\n",
      "[1. 0. 0.] <-> [0.9571972  0.02621632 0.01658657]\n",
      "[0. 0. 1.] <-> [0.12084497 0.01480769 0.8643473 ]\n",
      "[1. 0. 0.] <-> [0.97016925 0.02058526 0.00924553]\n",
      "[1. 0. 0.] <-> [0.91889924 0.0585467  0.02255411]\n",
      "[0. 0. 1.] <-> [0.12112363 0.01358076 0.8652956 ]\n",
      "[1. 0. 0.] <-> [0.9468728  0.03805422 0.01507297]\n",
      "[1. 0. 0.] <-> [0.87700737 0.03657354 0.08641908]\n",
      "[1. 0. 0.] <-> [0.9650872  0.02211016 0.01280274]\n",
      "[1. 0. 0.] <-> [0.95231223 0.0275527  0.02013503]\n",
      "[1. 0. 0.] <-> [0.9076187  0.06072317 0.03165811]\n",
      "[1. 0. 0.] <-> [0.94689137 0.03151312 0.02159555]\n",
      "[0. 0. 1.] <-> [0.12176859 0.01367491 0.86455655]\n",
      "[1. 0. 0.] <-> [0.91922176 0.03107472 0.04970357]\n",
      "[1. 0. 0.] <-> [0.9459784  0.03186677 0.02215481]\n",
      "[0. 1. 0.] <-> [0.9159404  0.06107073 0.02298889]\n",
      "{'accuracy': 0.8827160493827161, 'mean_square_error': 0.27297391601876425, 'categorical_crossentropy': 0.5209548385054977, 'essential_metrics': {0: {'tp_hit': 80, 'fp_hit': 11, 'tn_hit': 17, 'fn_hit': 0}, 1: {'tp_hit': 0, 'fp_hit': 0, 'tn_hit': 93, 'fn_hit': 15}, 2: {'tp_hit': 9, 'fp_hit': 8, 'tn_hit': 87, 'fn_hit': 4}}}\n"
     ]
    }
   ],
   "source": [
    "# recall phase\n",
    "score = model.evaluate(x_test, y_test, False)\n",
    "print(score)"
   ]
  },
  {
   "cell_type": "code",
   "execution_count": 11,
   "metadata": {},
   "outputs": [
    {
     "data": {
      "image/png": "[encoded data removed]",
      "text/plain": [
       "<Figure size 864x360 with 1 Axes>"
      ]
     },
     "metadata": {
      "needs_background": "light"
     },
     "output_type": "display_data"
    },
    {
     "data": {
      "image/png": "[encoded data removed]",
      "text/plain": [
       "<Figure size 864x360 with 1 Axes>"
      ]
     },
     "metadata": {
      "needs_background": "light"
     },
     "output_type": "display_data"
    }
   ],
   "source": [
    "draw_plot(x = [[i for i in range(len(history))], [(i+1)*breakpoint for i in range(len(checkpoints))]], y_list = [history, [ ckp[model.loss_fn] for ckp in checkpoints ]], x_label = 'Epochs', \\\n",
    "    y_label = model.loss_fn, legend=['train', 'test'])\n",
    "acc = [ ckp['accuracy'] for ckp in checkpoints ]\n",
    "draw_plot(x = [[(i+1)*breakpoint for i in range(len(checkpoints))]], y_list = [acc], x_label = 'Checkpoints', \\\n",
    "    y_label = 'accuracy')"
   ]
  },
  {
   "cell_type": "code",
   "execution_count": 12,
   "metadata": {},
   "outputs": [
    {
     "name": "stdout",
     "output_type": "stream",
     "text": [
      "{'accuracy': 0.8827160493827161, 'mean_square_error': 0.27297391601876425, 'categorical_crossentropy': 0.5209548385054977, 'essential_metrics': {0: {'tp_hit': 80, 'fp_hit': 11, 'tn_hit': 17, 'fn_hit': 0}, 1: {'tp_hit': 0, 'fp_hit': 0, 'tn_hit': 93, 'fn_hit': 15}, 2: {'tp_hit': 9, 'fp_hit': 8, 'tn_hit': 87, 'fn_hit': 4}}, 'checkpoint': 100} \n",
      "\n",
      "\n",
      "{'accuracy': 0.8827160493827161, 'mean_square_error': 0.27297391601876425, 'categorical_crossentropy': 0.5209548385054977, 'essential_metrics': {0: {'tp_hit': 80, 'fp_hit': 11, 'tn_hit': 17, 'fn_hit': 0}, 1: {'tp_hit': 0, 'fp_hit': 0, 'tn_hit': 93, 'fn_hit': 15}, 2: {'tp_hit': 9, 'fp_hit': 8, 'tn_hit': 87, 'fn_hit': 4}}, 'checkpoint': 200} \n",
      "\n",
      "\n",
      "{'accuracy': 0.8827160493827161, 'mean_square_error': 0.27297391601876425, 'categorical_crossentropy': 0.5209548385054977, 'essential_metrics': {0: {'tp_hit': 80, 'fp_hit': 11, 'tn_hit': 17, 'fn_hit': 0}, 1: {'tp_hit': 0, 'fp_hit': 0, 'tn_hit': 93, 'fn_hit': 15}, 2: {'tp_hit': 9, 'fp_hit': 8, 'tn_hit': 87, 'fn_hit': 4}}, 'checkpoint': 300} \n",
      "\n",
      "\n",
      "{'accuracy': 0.8827160493827161, 'mean_square_error': 0.27297391601876425, 'categorical_crossentropy': 0.5209548385054977, 'essential_metrics': {0: {'tp_hit': 80, 'fp_hit': 11, 'tn_hit': 17, 'fn_hit': 0}, 1: {'tp_hit': 0, 'fp_hit': 0, 'tn_hit': 93, 'fn_hit': 15}, 2: {'tp_hit': 9, 'fp_hit': 8, 'tn_hit': 87, 'fn_hit': 4}}, 'checkpoint': 400} \n",
      "\n",
      "\n",
      "{'accuracy': 0.8827160493827161, 'mean_square_error': 0.27297391601876425, 'categorical_crossentropy': 0.5209548385054977, 'essential_metrics': {0: {'tp_hit': 80, 'fp_hit': 11, 'tn_hit': 17, 'fn_hit': 0}, 1: {'tp_hit': 0, 'fp_hit': 0, 'tn_hit': 93, 'fn_hit': 15}, 2: {'tp_hit': 9, 'fp_hit': 8, 'tn_hit': 87, 'fn_hit': 4}}, 'checkpoint': 500} \n",
      "\n",
      "\n"
     ]
    }
   ],
   "source": [
    "for checkpoint in checkpoints:\n",
    "    print(checkpoint, '\\n\\n')"
   ]
  },
  {
   "cell_type": "code",
   "execution_count": 13,
   "metadata": {},
   "outputs": [
    {
     "name": "stdout",
     "output_type": "stream",
     "text": [
      "Layer 1\n",
      "Neuron 0: weights:\n",
      "[1.44797132 1.10154012 1.94871937 2.90137859 1.47444782]\n",
      " bias: -1.502835278237134\n",
      "\n",
      "Neuron 1: weights:\n",
      "[-0.68939833  1.01985822 -2.68046086 -1.9075556  -1.99020606]\n",
      " bias: 2.045698828654481\n",
      "\n",
      "Neuron 2: weights:\n",
      "[ 0.93652805  2.40987161 -0.10480999  0.69578546 -1.54909939]\n",
      " bias: -0.8388450162360703\n",
      "\n",
      "Neuron 3: weights:\n",
      "[ 1.42464864  0.73871858 -1.99516877  0.15032245  0.88523414]\n",
      " bias: 2.6629908612267448\n",
      "\n",
      "$\n",
      "Layer 2\n",
      "Neuron 0: weights:\n",
      "[-2.64232584 -0.35801851  0.71782724  2.17337508]\n",
      " bias: 1.1060112629772965\n",
      "\n",
      "Neuron 1: weights:\n",
      "[-1.24532939 -0.91992872  2.04664378 -1.15748045]\n",
      " bias: 0.8516754434439804\n",
      "\n",
      "Neuron 2: weights:\n",
      "[ 2.75081343 -1.83146152  1.43163573 -0.93325497]\n",
      " bias: 0.7857409325059717\n",
      "\n",
      "$\n",
      "\n"
     ]
    }
   ],
   "source": [
    "print(model)"
   ]
  }
 ],
 "metadata": {
  "kernelspec": {
   "display_name": "Python 3",
   "language": "python",
   "name": "python3"
  },
  "language_info": {
   "codemirror_mode": {
    "name": "ipython",
    "version": 3
   },
   "file_extension": ".py",
   "mimetype": "text/x-python",
   "name": "python",
   "nbconvert_exporter": "python",
   "pygments_lexer": "ipython3",
   "version": "3.6.10"
  }
 },
 "nbformat": 4,
 "nbformat_minor": 2
}
