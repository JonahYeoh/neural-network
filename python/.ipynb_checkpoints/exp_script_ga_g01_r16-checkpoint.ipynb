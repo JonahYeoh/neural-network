{
 "cells": [
  {
   "cell_type": "code",
   "execution_count": 1,
   "metadata": {},
   "outputs": [],
   "source": [
    "# two"
   ]
  },
  {
   "cell_type": "code",
   "execution_count": 2,
   "metadata": {},
   "outputs": [],
   "source": [
    "# dependency\n",
    "import numpy as np\n",
    "import pandas as pd\n",
    "import copy\n",
    "import math\n",
    "import sys\n",
    "import os\n",
    "from activations import relu, leaky_relu, sigmoid, tanh, softmax, d_sigmoid, d_relu\n",
    "from initializers import glorot_uniform, random_normal, random_uniform\n",
    "from regularizers import l1_regularizer, l2_regularizer\n",
    "from utility import trim_tail, multiply, subtract, get_nparams, one_hot_encoding, get_data\n",
    "from metrics import MSE, CCE, ACC, PRECISION, RECALL, essential_metrics, wondering_penalty, close_gap_penalty\n",
    "from pso import PSO\n",
    "from ga import GA\n",
    "from nn import Network\n",
    "from layer import DenseLayer\n",
    "from scalers import MinMaxScaler, StandardScaler"
   ]
  },
  {
   "cell_type": "code",
   "execution_count": 3,
   "metadata": {},
   "outputs": [],
   "source": [
    "# reference\n",
    "metrics_fn_dict = dict()\n",
    "metrics_fn_dict['accuracy'] = ACC\n",
    "metrics_fn_dict['categorical_crossentropy'] = CCE\n",
    "metrics_fn_dict['mean_square_error'] = MSE\n",
    "metrics_fn_dict['precision'] = PRECISION\n",
    "metrics_fn_dict['recall'] = RECALL\n",
    "metrics_fn_dict['essential_metrics'] = essential_metrics"
   ]
  },
  {
   "cell_type": "code",
   "execution_count": 4,
   "metadata": {},
   "outputs": [],
   "source": [
    "# model\n",
    "model = Network(5, lr = None)\n",
    "model.add_layer(DenseLayer(1, 4, True, afn=sigmoid, dafn=None, rfn=None))\n",
    "model.add_layer(DenseLayer(2, 3, True, afn=softmax, dafn=None, rfn=None))"
   ]
  },
  {
   "cell_type": "code",
   "execution_count": 5,
   "metadata": {},
   "outputs": [],
   "source": [
    "# optimizer\n",
    "ga = GA(\n",
    "    dict(\n",
    "        m = 50,\n",
    "        x_rate = [0.5, 1.0],\n",
    "        m_rate = [0.5, 1.0],\n",
    "        weight_constraint = [-3.,3.],\n",
    "        radioactive_rating = [0.1, 0.5],\n",
    "        grow_factor = [0.1, 0.5],\n",
    "        scale_hyperparameter = False,\n",
    "        regularizer = None))"
   ]
  },
  {
   "cell_type": "code",
   "execution_count": 6,
   "metadata": {},
   "outputs": [
    {
     "name": "stdout",
     "output_type": "stream",
     "text": [
      "building layer 1 with 5\n",
      "24\n",
      "building layer 2 with 4\n",
      "15\n"
     ]
    }
   ],
   "source": [
    "model.compile(loss_fn = 'categorical_crossentropy', optimizer = ga, \\\n",
    "    metrics = ['accuracy', 'mean_square_error', 'categorical_crossentropy', 'precision', 'recall', 'f1'])"
   ]
  },
  {
   "cell_type": "code",
   "execution_count": 7,
   "metadata": {},
   "outputs": [
    {
     "name": "stdout",
     "output_type": "stream",
     "text": [
      "<class 'pandas.core.frame.DataFrame'>\n",
      "RangeIndex: 107 entries, 0 to 106\n",
      "Data columns (total 6 columns):\n",
      " #   Column  Non-Null Count  Dtype  \n",
      "---  ------  --------------  -----  \n",
      " 0   f1      107 non-null    float32\n",
      " 1   f2      107 non-null    float32\n",
      " 2   f3      107 non-null    float32\n",
      " 3   f4      107 non-null    float32\n",
      " 4   f5      107 non-null    float32\n",
      " 5   label   107 non-null    float32\n",
      "dtypes: float32(6)\n",
      "memory usage: 2.6 KB\n",
      "None\n",
      "<class 'pandas.core.frame.DataFrame'>\n",
      "RangeIndex: 108 entries, 0 to 107\n",
      "Data columns (total 6 columns):\n",
      " #   Column  Non-Null Count  Dtype  \n",
      "---  ------  --------------  -----  \n",
      " 0   f1      108 non-null    float32\n",
      " 1   f2      108 non-null    float32\n",
      " 2   f3      108 non-null    float32\n",
      " 3   f4      108 non-null    float32\n",
      " 4   f5      108 non-null    float32\n",
      " 5   label   108 non-null    float32\n",
      "dtypes: float32(6)\n",
      "memory usage: 2.7 KB\n",
      "None\n"
     ]
    }
   ],
   "source": [
    "# data loading\n",
    "DATA = os.path.join('c:\\\\Users\\\\tcumi\\\\github_repo\\\\neural-network\\\\', 'dataset')\n",
    "GROUP = 1\n",
    "COLUMNS = ['f1', 'f2', 'f3', 'f4', 'f5', 'label']\n",
    "N_CLASS = 3\n",
    "EPOCHS = 500\n",
    "train_dir, test_dir = \"..//dataset//training_data{}.txt\".format(GROUP), \"..//dataset//testing_data{}.txt\".format(GROUP)\n",
    "train, test = get_data(DATA, train_dir, COLUMNS), get_data(DATA, test_dir, COLUMNS)\n",
    "# shuffle\n",
    "train, test = train.sample(frac=1), test.sample(frac=1)\n",
    "x_train, y_train = train.drop('label', axis=1), train['label']\n",
    "x_test, y_test = test.drop('label', axis=1), test['label']"
   ]
  },
  {
   "cell_type": "code",
   "execution_count": 8,
   "metadata": {},
   "outputs": [],
   "source": [
    "# data scaling and encoding\n",
    "scaler = StandardScaler(['f1', 'f2', 'f3', 'f4', 'f5'])\n",
    "scaler.fit(x_train)\n",
    "x_train = scaler.transform(x_train)\n",
    "x_test = scaler.transform(x_test)\n",
    "y_train = one_hot_encoding(y_train, N_CLASS)\n",
    "y_test = one_hot_encoding(y_test, N_CLASS)"
   ]
  },
  {
   "cell_type": "code",
   "execution_count": 9,
   "metadata": {
    "scrolled": true,
    "tags": [
     "outputPrepend"
    ]
   },
   "outputs": [
    {
     "name": "stderr",
     "output_type": "stream",
     "text": [
      "C:\\Users\\tcumi\\github_repo\\neural-network\\python\\activations.py:14: RuntimeWarning: overflow encountered in exp\n",
      "  y = 1 / (1 + np.exp(-Xi))\n",
      "C:\\Users\\tcumi\\github_repo\\neural-network\\python\\ga.py:201: RuntimeWarning: overflow encountered in add\n",
      "  self.population.sort(key=lambda p: p.fitness + np.random.uniform(-shift, shift, 1), reverse = self.aim)\n"
     ]
    },
    {
     "name": "stdout",
     "output_type": "stream",
     "text": [
      "Checkpoint 100, Accuracy: 0.9567901234567902, Loss: 0.24104701148139107\n",
      "Checkpoint 200, Accuracy: 0.9567901234567902, Loss: 0.20314354366726345\n",
      "Checkpoint 300, Accuracy: 0.9567901234567902, Loss: 0.18160406748453775\n",
      "Checkpoint 400, Accuracy: 0.9629629629629629, Loss: 0.1539179837262189\n",
      "Checkpoint 500, Accuracy: 0.9691358024691358, Loss: 0.14350094618620696\n"
     ]
    }
   ],
   "source": [
    "# learning phase\n",
    "breakpoint = 100\n",
    "checkpoints = list()\n",
    "history = list()\n",
    "for century in range(0, EPOCHS, breakpoint):\n",
    "    sub_history = model.fit(x_train, y_train, breakpoint, verbose = 0)\n",
    "    score = model.evaluate(x_test, y_test, False, verbose = 0)\n",
    "    print('Checkpoint {}, Accuracy: {}, Loss: {}'.format(century+breakpoint, score['accuracy'], score[model.loss_fn]))\n",
    "    score['checkpoint'] = century + breakpoint\n",
    "    checkpoints.append(score)\n",
    "    history.extend(sub_history)\n",
    "    itr = century + breakpoint\n",
    "\n",
    "    model.optimizer.rr = model.optimizer.radioactive_rating[1] - (model.optimizer.radioactive_rating[1] - model.optimizer.radioactive_rating[0]) / EPOCHS * (EPOCHS - itr)\n",
    "    model.optimizer.gf = model.optimizer.grow_factor[1] - (model.optimizer.grow_factor[1] - model.optimizer.grow_factor[0]) / EPOCHS * (EPOCHS - itr)\n",
    "    model.optimizer.crossover_rate = model.optimizer.x_rate[1] - (model.optimizer.x_rate[1] - model.optimizer.x_rate[0]) / EPOCHS * (EPOCHS - itr)\n",
    "    model.optimizer.mutation_rate = model.optimizer.m_rate[0] + (model.optimizer.m_rate[1] - model.optimizer.m_rate[0]) / EPOCHS * (EPOCHS - itr)\n",
    "    "
   ]
  },
  {
   "cell_type": "code",
   "execution_count": 10,
   "metadata": {},
   "outputs": [],
   "source": [
    "import matplotlib.pyplot as plt\n",
    "\n",
    "def draw_plot(x, y_list, x_label=None, y_label=None, legend=None, title=None):\n",
    "    fig, ax = plt.subplots(figsize=(12,5))\n",
    "    for xi, yi in zip(x, y_list):\n",
    "        ax.plot(xi, yi)\n",
    "    if x_label is not None and y_label is not None:\n",
    "        ax.set(xlabel=x_label, ylabel=y_label, title='{} VS {}'.format(x_label, y_label))\n",
    "    if legend is not None:\n",
    "        ax.legend(legend)\n",
    "    ax.grid()\n",
    "    plt.show()"
   ]
  },
  {
   "cell_type": "code",
   "execution_count": 11,
   "metadata": {},
   "outputs": [
    {
     "name": "stdout",
     "output_type": "stream",
     "text": [
      "[1. 0. 0.] <-> [0.5293467  0.46279383 0.00785951]\n",
      "[1. 0. 0.] <-> [0.9846165  0.00596562 0.00941789]\n",
      "[1. 0. 0.] <-> [0.98783666 0.00360129 0.00856206]\n",
      "[1. 0. 0.] <-> [0.9875422  0.00383241 0.00862538]\n",
      "[0. 0. 1.] <-> [0.01936012 0.0038595  0.97678035]\n",
      "[1. 0. 0.] <-> [0.98139614 0.01373889 0.00486496]\n",
      "[1. 0. 0.] <-> [0.98667264 0.00323515 0.01009219]\n",
      "[1. 0. 0.] <-> [0.96231425 0.02031406 0.01737172]\n",
      "[1. 0. 0.] <-> [0.7564038  0.0116949  0.23190127]\n",
      "[1. 0. 0.] <-> [0.988943   0.00347189 0.00758516]\n",
      "[1. 0. 0.] <-> [0.99071443 0.00297416 0.00631144]\n",
      "[1. 0. 0.] <-> [0.04319163 0.00565631 0.9511521 ]\n",
      "[1. 0. 0.] <-> [0.92157644 0.00733537 0.07108822]\n",
      "[1. 0. 0.] <-> [0.98204684 0.00372793 0.01422514]\n",
      "[1. 0. 0.] <-> [0.9893963  0.00570709 0.00489657]\n",
      "[0. 0. 1.] <-> [0.0195171  0.00386322 0.97661966]\n",
      "[1. 0. 0.] <-> [0.9733113  0.00455202 0.02213668]\n",
      "[0. 1. 0.] <-> [0.01176114 0.9868155  0.00142335]\n",
      "[0. 1. 0.] <-> [0.01174718 0.986822   0.0014308 ]\n",
      "[1. 0. 0.] <-> [0.9868176  0.00436164 0.0088207 ]\n",
      "[1. 0. 0.] <-> [0.9853372  0.0038519  0.01081092]\n",
      "[1. 0. 0.] <-> [0.9869878  0.00368554 0.00932666]\n",
      "[1. 0. 0.] <-> [0.9820463  0.01191788 0.0060358 ]\n",
      "[1. 0. 0.] <-> [0.97287333 0.00442338 0.02270325]\n",
      "[1. 0. 0.] <-> [0.9859265  0.00479939 0.00927403]\n",
      "[1. 0. 0.] <-> [0.9639216  0.00591975 0.03015861]\n",
      "[0. 0. 1.] <-> [0.5589937  0.01115254 0.4298538 ]\n",
      "[1. 0. 0.] <-> [0.9892266  0.00451625 0.00625706]\n",
      "[1. 0. 0.] <-> [0.740312   0.01212009 0.2475679 ]\n",
      "[1. 0. 0.] <-> [0.9899554  0.00410808 0.00593642]\n",
      "[1. 0. 0.] <-> [0.98734343 0.00546768 0.00718897]\n",
      "[1. 0. 0.] <-> [0.979844   0.00432939 0.01582663]\n",
      "[1. 0. 0.] <-> [0.89575195 0.09640171 0.00784637]\n",
      "[1. 0. 0.] <-> [0.95513284 0.03591334 0.00895375]\n",
      "[1. 0. 0.] <-> [0.98764825 0.00553606 0.00681569]\n",
      "[1. 0. 0.] <-> [0.9760395  0.00505207 0.01890844]\n",
      "[1. 0. 0.] <-> [0.9802444  0.01102304 0.00873257]\n",
      "[1. 0. 0.] <-> [0.9248996  0.00691128 0.06818911]\n",
      "[1. 0. 0.] <-> [0.9013452  0.00850314 0.09015165]\n",
      "[1. 0. 0.] <-> [0.9871061  0.00493194 0.00796193]\n",
      "[1. 0. 0.] <-> [0.98743767 0.00383863 0.00872376]\n",
      "[1. 0. 0.] <-> [0.8697421  0.00989139 0.12036648]\n",
      "[0. 0. 1.] <-> [0.01949736 0.0038612  0.9766415 ]\n",
      "[0. 0. 1.] <-> [0.01724123 0.00400674 0.9787521 ]\n",
      "[1. 0. 0.] <-> [0.94253    0.05207889 0.00539115]\n",
      "[0. 1. 0.] <-> [0.03338098 0.9641819  0.00243716]\n",
      "[1. 0. 0.] <-> [0.9870411  0.00321752 0.00974127]\n",
      "[0. 0. 1.] <-> [0.01799681 0.00394618 0.97805697]\n",
      "[0. 0. 1.] <-> [0.01932446 0.00384789 0.9768276 ]\n",
      "[1. 0. 0.] <-> [0.9865665  0.00622115 0.00721243]\n",
      "[1. 0. 0.] <-> [0.98023933 0.0038282  0.01593236]\n",
      "[1. 0. 0.] <-> [0.97635686 0.00413369 0.01950947]\n",
      "[1. 0. 0.] <-> [0.9906364  0.00348046 0.00588322]\n",
      "[1. 0. 0.] <-> [0.97209215 0.00616889 0.02173894]\n",
      "[0. 0. 1.] <-> [0.01945541 0.00386992 0.9766747 ]\n",
      "[0. 1. 0.] <-> [0.0117653  0.9868122  0.00142263]\n",
      "[1. 0. 0.] <-> [0.97864425 0.00514305 0.01621276]\n",
      "[1. 0. 0.] <-> [0.9779781  0.00431569 0.01770615]\n",
      "[1. 0. 0.] <-> [0.982806   0.00799105 0.00920289]\n",
      "[1. 0. 0.] <-> [0.97801375 0.00429138 0.01769489]\n",
      "[0. 1. 0.] <-> [0.01189773 0.98661673 0.00148562]\n",
      "[1. 0. 0.] <-> [0.98271644 0.00783467 0.00944891]\n",
      "[1. 0. 0.] <-> [0.97863364 0.00398482 0.01738155]\n",
      "[1. 0. 0.] <-> [0.63764596 0.01317176 0.3491823 ]\n",
      "[1. 0. 0.] <-> [0.97638595 0.00507871 0.01853526]\n",
      "[1. 0. 0.] <-> [0.97794694 0.00501607 0.01703697]\n",
      "[1. 0. 0.] <-> [0.83852994 0.01356617 0.147904  ]\n",
      "[1. 0. 0.] <-> [0.9057686  0.0077617  0.08646964]\n",
      "[0. 0. 1.] <-> [0.16160494 0.00884509 0.8295499 ]\n",
      "[1. 0. 0.] <-> [0.9906098  0.0029514  0.00643879]\n",
      "[0. 1. 0.] <-> [0.6615345  0.331552   0.00691354]\n",
      "[1. 0. 0.] <-> [0.99007577 0.00433967 0.00558448]\n",
      "[0. 1. 0.] <-> [0.867044   0.12675469 0.00620142]\n",
      "[0. 1. 0.] <-> [0.01385709 0.98455113 0.00159179]\n",
      "[0. 0. 1.] <-> [0.01522195 0.0041869  0.9805911 ]\n",
      "[1. 0. 0.] <-> [0.9829049  0.00354757 0.01354752]\n",
      "[0. 1. 0.] <-> [0.01919526 0.97888935 0.00191541]\n",
      "[1. 0. 0.] <-> [0.9060485  0.00793018 0.08602133]\n",
      "[1. 0. 0.] <-> [0.98973024 0.00454706 0.00572269]\n",
      "[1. 0. 0.] <-> [0.9487803  0.00610476 0.04511493]\n",
      "[0. 1. 0.] <-> [0.01913424 0.97899765 0.00186806]\n",
      "[0. 1. 0.] <-> [0.36207008 0.63047373 0.00745613]\n",
      "[1. 0. 0.] <-> [0.9688617  0.00486151 0.02627681]\n",
      "[1. 0. 0.] <-> [0.98497576 0.00429483 0.01072945]\n",
      "[1. 0. 0.] <-> [0.98997694 0.00344155 0.00658156]\n",
      "[0. 1. 0.] <-> [0.011659   0.98690075 0.00144024]\n",
      "[1. 0. 0.] <-> [0.9582158  0.00755608 0.0342282 ]\n",
      "[1. 0. 0.] <-> [0.95328027 0.00566734 0.04105239]\n",
      "[0. 0. 1.] <-> [0.01931963 0.00384774 0.9768326 ]\n",
      "[1. 0. 0.] <-> [0.96274257 0.00596461 0.03129284]\n",
      "[1. 0. 0.] <-> [0.97782546 0.00462215 0.01755233]\n",
      "[0. 1. 0.] <-> [0.07336283 0.9233041  0.00333311]\n",
      "[1. 0. 0.] <-> [0.98657215 0.00406975 0.00935806]\n",
      "[1. 0. 0.] <-> [0.96332043 0.02365572 0.0130239 ]\n",
      "[1. 0. 0.] <-> [0.5874766  0.01235177 0.40017155]\n",
      "[1. 0. 0.] <-> [0.98878795 0.00310349 0.00810855]\n",
      "[1. 0. 0.] <-> [0.63431823 0.01181072 0.35387105]\n",
      "[1. 0. 0.] <-> [0.9620826  0.00633353 0.03158391]\n",
      "[0. 0. 1.] <-> [0.84346527 0.00891717 0.14761752]\n",
      "[1. 0. 0.] <-> [0.9900827  0.00371646 0.00620092]\n",
      "[1. 0. 0.] <-> [0.95452434 0.00600061 0.03947501]\n",
      "[0. 1. 0.] <-> [0.31795722 0.67599845 0.00604429]\n",
      "[1. 0. 0.] <-> [0.97546196 0.00454707 0.01999094]\n",
      "[1. 0. 0.] <-> [0.9883337  0.00350509 0.00816114]\n",
      "[0. 0. 1.] <-> [0.01970311 0.00422104 0.9760759 ]\n",
      "[0. 1. 0.] <-> [0.01189002 0.9866642  0.00144583]\n",
      "[1. 0. 0.] <-> [0.98923486 0.00500123 0.00576389]\n",
      "[1. 0. 0.] <-> [0.9889099  0.00414727 0.00694286]\n",
      "{'accuracy': 0.9691358024691358, 'mean_square_error': 0.0796781347757171, 'categorical_crossentropy': 0.14350094618620696, 'precision': 0.9537037037037037, 'recall': 0.9537037037037037, 'f1': 0.9537037037037037, 'essential_metrics': {0: {'tp_hit': 79, 'fp_hit': 4, 'tn_hit': 24, 'fn_hit': 1}, 1: {'tp_hit': 13, 'fp_hit': 0, 'tn_hit': 93, 'fn_hit': 2}, 2: {'tp_hit': 11, 'fp_hit': 1, 'tn_hit': 94, 'fn_hit': 2}}}\n"
     ]
    }
   ],
   "source": [
    "# recall phase\n",
    "score = model.evaluate(x_test, y_test, False)\n",
    "print(score)"
   ]
  },
  {
   "cell_type": "code",
   "execution_count": 12,
   "metadata": {},
   "outputs": [],
   "source": [
    "# Testing Performance"
   ]
  },
  {
   "cell_type": "code",
   "execution_count": 13,
   "metadata": {},
   "outputs": [
    {
     "data": {
      "image/png": "[encoded data removed]",
      "text/plain": [
       "<Figure size 864x360 with 1 Axes>"
      ]
     },
     "metadata": {
      "needs_background": "light"
     },
     "output_type": "display_data"
    },
    {
     "data": {
      "image/png": "[encoded data removed]",
      "text/plain": [
       "<Figure size 864x360 with 1 Axes>"
      ]
     },
     "metadata": {
      "needs_background": "light"
     },
     "output_type": "display_data"
    }
   ],
   "source": [
    "draw_plot(x = [[i for i in range(len(history))], [(i+1)*breakpoint for i in range(len(checkpoints))]], y_list = [history, [ ckp[model.loss_fn] for ckp in checkpoints ]], x_label = 'Epochs', \\\n",
    "    y_label = model.loss_fn, legend=['train', 'test'])\n",
    "acc = [ ckp['accuracy'] for ckp in checkpoints ]\n",
    "draw_plot(x = [[(i+1)*breakpoint for i in range(len(checkpoints))]], y_list = [acc], x_label = 'Checkpoints', \\\n",
    "    y_label = 'accuracy')"
   ]
  },
  {
   "cell_type": "code",
   "execution_count": 14,
   "metadata": {
    "scrolled": false
   },
   "outputs": [
    {
     "name": "stdout",
     "output_type": "stream",
     "text": [
      "{'accuracy': 0.9567901234567902, 'mean_square_error': 0.1166375962118979, 'categorical_crossentropy': 0.24104701148139107, 'precision': 0.9351851851851852, 'recall': 0.9351851851851852, 'f1': 0.9351851851851852, 'essential_metrics': {0: {'tp_hit': 79, 'fp_hit': 6, 'tn_hit': 22, 'fn_hit': 1}, 1: {'tp_hit': 11, 'fp_hit': 0, 'tn_hit': 93, 'fn_hit': 4}, 2: {'tp_hit': 11, 'fp_hit': 1, 'tn_hit': 94, 'fn_hit': 2}}, 'checkpoint': 100} \n",
      "\n",
      "\n",
      "{'accuracy': 0.9567901234567902, 'mean_square_error': 0.09953763134251908, 'categorical_crossentropy': 0.20314354366726345, 'precision': 0.9351851851851852, 'recall': 0.9351851851851852, 'f1': 0.9351851851851852, 'essential_metrics': {0: {'tp_hit': 79, 'fp_hit': 6, 'tn_hit': 22, 'fn_hit': 1}, 1: {'tp_hit': 11, 'fp_hit': 0, 'tn_hit': 93, 'fn_hit': 4}, 2: {'tp_hit': 11, 'fp_hit': 1, 'tn_hit': 94, 'fn_hit': 2}}, 'checkpoint': 200} \n",
      "\n",
      "\n",
      "{'accuracy': 0.9567901234567902, 'mean_square_error': 0.09490976008843825, 'categorical_crossentropy': 0.18160406748453775, 'precision': 0.9351851851851852, 'recall': 0.9351851851851852, 'f1': 0.9351851851851852, 'essential_metrics': {0: {'tp_hit': 79, 'fp_hit': 6, 'tn_hit': 22, 'fn_hit': 1}, 1: {'tp_hit': 11, 'fp_hit': 0, 'tn_hit': 93, 'fn_hit': 4}, 2: {'tp_hit': 11, 'fp_hit': 1, 'tn_hit': 94, 'fn_hit': 2}}, 'checkpoint': 300} \n",
      "\n",
      "\n",
      "{'accuracy': 0.9629629629629629, 'mean_square_error': 0.08671233205874299, 'categorical_crossentropy': 0.1539179837262189, 'precision': 0.9444444444444444, 'recall': 0.9444444444444444, 'f1': 0.9444444444444444, 'essential_metrics': {0: {'tp_hit': 79, 'fp_hit': 5, 'tn_hit': 23, 'fn_hit': 1}, 1: {'tp_hit': 12, 'fp_hit': 0, 'tn_hit': 93, 'fn_hit': 3}, 2: {'tp_hit': 11, 'fp_hit': 1, 'tn_hit': 94, 'fn_hit': 2}}, 'checkpoint': 400} \n",
      "\n",
      "\n",
      "{'accuracy': 0.9691358024691358, 'mean_square_error': 0.0796781347757171, 'categorical_crossentropy': 0.14350094618620696, 'precision': 0.9537037037037037, 'recall': 0.9537037037037037, 'f1': 0.9537037037037037, 'essential_metrics': {0: {'tp_hit': 79, 'fp_hit': 4, 'tn_hit': 24, 'fn_hit': 1}, 1: {'tp_hit': 13, 'fp_hit': 0, 'tn_hit': 93, 'fn_hit': 2}, 2: {'tp_hit': 11, 'fp_hit': 1, 'tn_hit': 94, 'fn_hit': 2}}, 'checkpoint': 500} \n",
      "\n",
      "\n"
     ]
    }
   ],
   "source": [
    "for checkpoint in checkpoints:\n",
    "    print(checkpoint, '\\n\\n')"
   ]
  },
  {
   "cell_type": "code",
   "execution_count": 15,
   "metadata": {},
   "outputs": [
    {
     "name": "stdout",
     "output_type": "stream",
     "text": [
      "Layer 1\n",
      "Neuron 0: weights:\n",
      "[ 1.4101161  1.5334667 -1.9807956  2.8989377  3.       ]\n",
      " bias: -2.6086690425872803\n",
      "\n",
      "Neuron 1: weights:\n",
      "[-2.297921    3.          2.6003091   0.7658345   0.48070177]\n",
      " bias: -2.2264888286590576\n",
      "\n",
      "Neuron 2: weights:\n",
      "[ 1.9797392 -3.        -2.2363648 -1.80813    2.3096776]\n",
      " bias: 2.048903226852417\n",
      "\n",
      "Neuron 3: weights:\n",
      "[ 0.11937853  2.7041662  -0.07595451 -2.8795109  -3.        ]\n",
      " bias: 1.1853927373886108\n",
      "\n",
      "$\n",
      "Layer 2\n",
      "Neuron 0: weights:\n",
      "[-0.36403227 -3.          1.5792186   3.        ]\n",
      " bias: -1.4304277896881104\n",
      "\n",
      "Neuron 1: weights:\n",
      "[ 1.5919234  3.        -3.         0.4213767]\n",
      " bias: -0.4228020906448364\n",
      "\n",
      "Neuron 2: weights:\n",
      "[ 3.         1.5011765  2.75143   -3.       ]\n",
      " bias: -2.0449609756469727\n",
      "\n",
      "$\n",
      "\n"
     ]
    }
   ],
   "source": [
    "print(model)"
   ]
  }
 ],
 "metadata": {
  "kernelspec": {
   "display_name": "Python 3",
   "language": "python",
   "name": "python3"
  },
  "language_info": {
   "codemirror_mode": {
    "name": "ipython",
    "version": 3
   },
   "file_extension": ".py",
   "mimetype": "text/x-python",
   "name": "python",
   "nbconvert_exporter": "python",
   "pygments_lexer": "ipython3",
   "version": "3.6.10"
  }
 },
 "nbformat": 4,
 "nbformat_minor": 2
}
