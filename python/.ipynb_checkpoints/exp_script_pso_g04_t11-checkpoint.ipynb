{
 "cells": [
  {
   "cell_type": "code",
   "execution_count": 1,
   "metadata": {},
   "outputs": [],
   "source": [
    "# dependency\n",
    "import numpy as np\n",
    "import pandas as pd\n",
    "import copy\n",
    "import math\n",
    "import sys\n",
    "import os\n",
    "from activations import relu, leaky_relu, sigmoid, tanh, softmax, d_sigmoid, d_relu\n",
    "from initializers import glorot_uniform, random_normal, random_uniform\n",
    "from regularizers import l1_regularizer, l2_regularizer\n",
    "from utility import trim_tail, multiply, subtract, get_nparams, one_hot_encoding, get_data\n",
    "from metrics import MSE, CCE, ACC, PRECISION, RECALL, essential_metrics, wondering_penalty, close_gap_penalty\n",
    "from pso import PSO\n",
    "from ga import GA\n",
    "from nn import Network\n",
    "from layer import DenseLayer\n",
    "from scalers import MinMaxScaler, StandardScaler"
   ]
  },
  {
   "cell_type": "code",
   "execution_count": 2,
   "metadata": {},
   "outputs": [],
   "source": [
    "# reference\n",
    "metrics_fn_dict = dict()\n",
    "metrics_fn_dict['accuracy'] = ACC\n",
    "metrics_fn_dict['categorical_crossentropy'] = CCE\n",
    "metrics_fn_dict['mean_square_error'] = MSE\n",
    "metrics_fn_dict['precision'] = PRECISION\n",
    "metrics_fn_dict['recall'] = RECALL\n",
    "metrics_fn_dict['essential_metrics'] = essential_metrics"
   ]
  },
  {
   "cell_type": "code",
   "execution_count": 3,
   "metadata": {},
   "outputs": [],
   "source": [
    "# model\n",
    "model = Network(5, lr = None)\n",
    "model.add_layer(DenseLayer(1, 4, True, afn=sigmoid, dafn=None, rfn=None))\n",
    "model.add_layer(DenseLayer(2, 3, True, afn=softmax, dafn=None, rfn=None))"
   ]
  },
  {
   "cell_type": "code",
   "execution_count": 4,
   "metadata": {},
   "outputs": [
    {
     "name": "stdout",
     "output_type": "stream",
     "text": [
      "see one see two 2.0 0.5\n"
     ]
    }
   ],
   "source": [
    "pso = PSO(dict(m = 50,\n",
    "    weight_constraint = [-3, 3], \n",
    "    velocity_constraint = [-0.1, 0.1],\n",
    "    c1 = [0.5, 2.0],\n",
    "    c2 = [0.5, 2.0],\n",
    "    w = [0.5, 1.6],\n",
    "    w_decay = 0.95,\n",
    "    scale_hyperparameter = False,\n",
    "    regularizer = l2_regularizer,\n",
    "    mask = True))"
   ]
  },
  {
   "cell_type": "code",
   "execution_count": 5,
   "metadata": {},
   "outputs": [
    {
     "name": "stdout",
     "output_type": "stream",
     "text": [
      "building layer 1 with 5\n",
      "24\n",
      "building layer 2 with 4\n",
      "15\n"
     ]
    }
   ],
   "source": [
    "model.compile(loss_fn = 'categorical_crossentropy', optimizer = pso, \\\n",
    "    metrics = ['accuracy', 'mean_square_error', 'categorical_crossentropy'])"
   ]
  },
  {
   "cell_type": "code",
   "execution_count": 6,
   "metadata": {},
   "outputs": [
    {
     "name": "stdout",
     "output_type": "stream",
     "text": [
      "<class 'pandas.core.frame.DataFrame'>\n",
      "RangeIndex: 107 entries, 0 to 106\n",
      "Data columns (total 6 columns):\n",
      " #   Column  Non-Null Count  Dtype  \n",
      "---  ------  --------------  -----  \n",
      " 0   f1      107 non-null    float32\n",
      " 1   f2      107 non-null    float32\n",
      " 2   f3      107 non-null    float32\n",
      " 3   f4      107 non-null    float32\n",
      " 4   f5      107 non-null    float32\n",
      " 5   label   107 non-null    float32\n",
      "dtypes: float32(6)\n",
      "memory usage: 2.6 KB\n",
      "None\n",
      "<class 'pandas.core.frame.DataFrame'>\n",
      "RangeIndex: 108 entries, 0 to 107\n",
      "Data columns (total 6 columns):\n",
      " #   Column  Non-Null Count  Dtype  \n",
      "---  ------  --------------  -----  \n",
      " 0   f1      108 non-null    float32\n",
      " 1   f2      108 non-null    float32\n",
      " 2   f3      108 non-null    float32\n",
      " 3   f4      108 non-null    float32\n",
      " 4   f5      108 non-null    float32\n",
      " 5   label   108 non-null    float32\n",
      "dtypes: float32(6)\n",
      "memory usage: 2.7 KB\n",
      "None\n"
     ]
    }
   ],
   "source": [
    "# data loading\n",
    "DATA = os.path.join('c:\\\\Users\\\\AI-lab\\\\github_repo\\\\neural-network\\\\', 'dataset')\n",
    "GROUP = 4\n",
    "COLUMNS = ['f1', 'f2', 'f3', 'f4', 'f5', 'label']\n",
    "N_CLASS = 3\n",
    "EPOCHS = 200\n",
    "train_dir, test_dir = \"..//dataset//training_data{}.txt\".format(GROUP), \"..//dataset//testing_data{}.txt\".format(GROUP)\n",
    "train, test = get_data(DATA, train_dir, COLUMNS), get_data(DATA, test_dir, COLUMNS)\n",
    "# shuffle\n",
    "train, test = train.sample(frac=1), test.sample(frac=1)\n",
    "x_train, y_train = train.drop('label', axis=1), train['label']\n",
    "x_test, y_test = test.drop('label', axis=1), test['label']"
   ]
  },
  {
   "cell_type": "code",
   "execution_count": 7,
   "metadata": {},
   "outputs": [],
   "source": [
    "# data scaling and encoding\n",
    "scaler = StandardScaler(['f1', 'f2', 'f3', 'f4', 'f5'])\n",
    "scaler.fit(x_train)\n",
    "x_train = scaler.transform(x_train)\n",
    "x_test = scaler.transform(x_test)\n",
    "y_train = one_hot_encoding(y_train, N_CLASS)\n",
    "y_test = one_hot_encoding(y_test, N_CLASS)"
   ]
  },
  {
   "cell_type": "code",
   "execution_count": 8,
   "metadata": {
    "tags": [
     "outputPrepend"
    ]
   },
   "outputs": [
    {
     "name": "stdout",
     "output_type": "stream",
     "text": [
      "Checkpoint 10, Accuracy: 0.6049382716049383, Loss: 1.0179104275173612\n",
      "Checkpoint 20, Accuracy: 0.8148148148148148, Loss: 0.7775783538818359\n",
      "Checkpoint 30, Accuracy: 0.8148148148148148, Loss: 0.7386392664026331\n",
      "Checkpoint 40, Accuracy: 0.845679012345679, Loss: 0.6943752147533275\n",
      "Checkpoint 50, Accuracy: 0.8333333333333334, Loss: 0.7948749683521412\n",
      "Checkpoint 60, Accuracy: 0.845679012345679, Loss: 0.6372725875289352\n",
      "Checkpoint 70, Accuracy: 0.8271604938271605, Loss: 0.5932997244375723\n",
      "Checkpoint 80, Accuracy: 0.8888888888888888, Loss: 0.4284944534301758\n",
      "Checkpoint 90, Accuracy: 0.8950617283950617, Loss: 0.4384032002201787\n",
      "Checkpoint 100, Accuracy: 0.8950617283950617, Loss: 0.4059767899689851\n",
      "Checkpoint 110, Accuracy: 0.8888888888888888, Loss: 0.4272232408876772\n",
      "Checkpoint 120, Accuracy: 0.8888888888888888, Loss: 0.40719357243290655\n",
      "Checkpoint 130, Accuracy: 0.8950617283950617, Loss: 0.41632715861002606\n",
      "Checkpoint 140, Accuracy: 0.9012345679012346, Loss: 0.3995430557816117\n",
      "Checkpoint 150, Accuracy: 0.9012345679012346, Loss: 0.37983233840377245\n",
      "Checkpoint 160, Accuracy: 0.9012345679012346, Loss: 0.38143479382550277\n",
      "Checkpoint 170, Accuracy: 0.9012345679012346, Loss: 0.38316737280951607\n",
      "Checkpoint 180, Accuracy: 0.9012345679012346, Loss: 0.36994782200566045\n",
      "Checkpoint 190, Accuracy: 0.9012345679012346, Loss: 0.36994782200566045\n",
      "Checkpoint 200, Accuracy: 0.9012345679012346, Loss: 0.36994782200566045\n"
     ]
    }
   ],
   "source": [
    "# learning phase\n",
    "breakpoint = 10\n",
    "checkpoints = list()\n",
    "history = list()\n",
    "for century in range(0, EPOCHS, breakpoint):\n",
    "    sub_history = model.fit(x_train, y_train, breakpoint, verbose = 0)\n",
    "    score = model.evaluate(x_test, y_test, False, verbose = 0)\n",
    "    print('Checkpoint {}, Accuracy: {}, Loss: {}'.format(century+breakpoint, score['accuracy'], score[model.loss_fn]))\n",
    "    score['checkpoint'] = century + breakpoint\n",
    "    checkpoints.append(score)\n",
    "    history.extend(sub_history)\n",
    "    itr = century + breakpoint\n",
    "    model.optimizer.c1 = np.max([model.optimizer.C1[1] - ((model.optimizer.C1[1] - model.optimizer.C1[0]) * itr / EPOCHS), model.optimizer.C1[0]])\n",
    "    model.optimizer.c2 = np.min([model.optimizer.C2[0] + ((model.optimizer.C2[1] - model.optimizer.C2[0]) * itr / EPOCHS), model.optimizer.C2[1]])\n",
    "    model.optimizer.w = np.max([model.optimizer.w * model.optimizer.W_Decay, model.optimizer.W[0]])"
   ]
  },
  {
   "cell_type": "code",
   "execution_count": 9,
   "metadata": {},
   "outputs": [],
   "source": [
    "import matplotlib.pyplot as plt\n",
    "\n",
    "def draw_plot(x, y_list, x_label=None, y_label=None, legend=None, title=None):\n",
    "    fig, ax = plt.subplots(figsize=(12,5))\n",
    "    for xi, yi in zip(x, y_list):\n",
    "        ax.plot(xi, yi)\n",
    "    if x_label is not None and y_label is not None:\n",
    "        ax.set(xlabel=x_label, ylabel=y_label, title='{} VS {}'.format(x_label, y_label))\n",
    "    if legend is not None:\n",
    "        ax.legend(legend)\n",
    "    ax.grid()\n",
    "    plt.show()"
   ]
  },
  {
   "cell_type": "code",
   "execution_count": 10,
   "metadata": {},
   "outputs": [],
   "source": [
    "train_acc = [h['accuracy'] for h in history]\n",
    "train_mse = [h['mean_square_error'] for h in history]\n",
    "train_cce = [h['categorical_crossentropy'] for h in history]"
   ]
  },
  {
   "cell_type": "code",
   "execution_count": 11,
   "metadata": {},
   "outputs": [
    {
     "data": {
      "image/png": "[encoded data removed]",
      "text/plain": [
       "<Figure size 864x360 with 1 Axes>"
      ]
     },
     "metadata": {
      "needs_background": "light"
     },
     "output_type": "display_data"
    },
    {
     "data": {
      "image/png": "[encoded data removed]",
      "text/plain": [
       "<Figure size 864x360 with 1 Axes>"
      ]
     },
     "metadata": {
      "needs_background": "light"
     },
     "output_type": "display_data"
    }
   ],
   "source": [
    "draw_plot(x = [[i for i in range(len(history))], [(i+1)*breakpoint for i in range(len(checkpoints))]], y_list = [train_cce, [ ckp[model.loss_fn] for ckp in checkpoints ]], x_label = 'Epochs', \\\n",
    "    y_label = model.loss_fn, legend=['train', 'test'])\n",
    "acc = [ ckp['accuracy'] for ckp in checkpoints ]\n",
    "draw_plot(x = [[i for i in range(len(history))], [(i+1)*breakpoint for i in range(len(checkpoints))]], y_list = [train_acc, acc], x_label = 'Checkpoints', \\\n",
    "    y_label = 'accuracy', legend=['train', 'test'])"
   ]
  },
  {
   "cell_type": "code",
   "execution_count": 12,
   "metadata": {},
   "outputs": [
    {
     "name": "stdout",
     "output_type": "stream",
     "text": [
      "[1. 0. 0.] <-> [0.85602397 0.0341819  0.1097941 ]\n",
      "[1. 0. 0.] <-> [0.8504388  0.0877566  0.06180465]\n",
      "[0. 0. 1.] <-> [0.23657763 0.02053736 0.74288505]\n",
      "[1. 0. 0.] <-> [0.7829947  0.11066434 0.10634094]\n",
      "[1. 0. 0.] <-> [0.80454427 0.1047299  0.09072581]\n",
      "[0. 0. 1.] <-> [0.70544887 0.03333552 0.2612157 ]\n",
      "[1. 0. 0.] <-> [0.8550528  0.04492951 0.10001763]\n",
      "[1. 0. 0.] <-> [0.8406112  0.07915333 0.08023551]\n",
      "[1. 0. 0.] <-> [0.82183003 0.05824579 0.11992419]\n",
      "[1. 0. 0.] <-> [0.84140193 0.07476368 0.0838344 ]\n",
      "[1. 0. 0.] <-> [0.7911354  0.06478821 0.14407638]\n",
      "[1. 0. 0.] <-> [0.80377984 0.06694265 0.12927753]\n",
      "[1. 0. 0.] <-> [0.8388176  0.03602742 0.12515496]\n",
      "[1. 0. 0.] <-> [0.8223963  0.07792605 0.09967759]\n",
      "[1. 0. 0.] <-> [0.7448861  0.05176662 0.2033473 ]\n",
      "[1. 0. 0.] <-> [0.82149994 0.10156101 0.07693902]\n",
      "[0. 0. 1.] <-> [0.5624195  0.01439585 0.42318472]\n",
      "[0. 1. 0.] <-> [0.6014454  0.35958934 0.03896523]\n",
      "[0. 1. 0.] <-> [0.44404462 0.5090075  0.04694788]\n",
      "[1. 0. 0.] <-> [0.87904257 0.02871536 0.09224205]\n",
      "[1. 0. 0.] <-> [0.7206622  0.17314446 0.10619331]\n",
      "[0. 0. 1.] <-> [0.85694194 0.01850981 0.1245482 ]\n",
      "[1. 0. 0.] <-> [0.8131023  0.08481558 0.10208213]\n",
      "[1. 0. 0.] <-> [0.8629718  0.05036887 0.08665931]\n",
      "[1. 0. 0.] <-> [0.82823163 0.04391102 0.12785736]\n",
      "[1. 0. 0.] <-> [0.8583021  0.04805661 0.09364128]\n",
      "[1. 0. 0.] <-> [0.77230924 0.13753158 0.09015915]\n",
      "[1. 0. 0.] <-> [0.77899754 0.13768812 0.08331429]\n",
      "[0. 0. 1.] <-> [0.1936224  0.02617993 0.7801977 ]\n",
      "[0. 1. 0.] <-> [0.25238687 0.71520174 0.03241139]\n",
      "[1. 0. 0.] <-> [0.76479244 0.1369419  0.09826571]\n",
      "[1. 0. 0.] <-> [0.8132038  0.05373578 0.13306035]\n",
      "[1. 0. 0.] <-> [0.79465497 0.11752969 0.08781528]\n",
      "[1. 0. 0.] <-> [0.8001272  0.10024259 0.0996302 ]\n",
      "[0. 1. 0.] <-> [0.1698695 0.8083791 0.0217514]\n",
      "[0. 0. 1.] <-> [0.5100768  0.01320839 0.4767148 ]\n",
      "[0. 1. 0.] <-> [0.34857666 0.60538876 0.04603457]\n",
      "[1. 0. 0.] <-> [0.82058334 0.1108853  0.06853132]\n",
      "[1. 0. 0.] <-> [0.8825306  0.02911599 0.08835331]\n",
      "[0. 0. 1.] <-> [0.5066016  0.01573392 0.47766453]\n",
      "[1. 0. 0.] <-> [0.80891764 0.08342601 0.10765634]\n",
      "[1. 0. 0.] <-> [0.84554493 0.07096927 0.08348586]\n",
      "[1. 0. 0.] <-> [0.697139   0.24696222 0.05589877]\n",
      "[1. 0. 0.] <-> [0.7567818  0.17482808 0.06839006]\n",
      "[1. 0. 0.] <-> [0.64739007 0.06213974 0.29047018]\n",
      "[1. 0. 0.] <-> [0.78461003 0.06883717 0.14655279]\n",
      "[1. 0. 0.] <-> [0.7753072  0.06125232 0.16344057]\n",
      "[1. 0. 0.] <-> [0.82285815 0.03059645 0.1465454 ]\n",
      "[1. 0. 0.] <-> [0.85226125 0.06873865 0.07900014]\n",
      "[1. 0. 0.] <-> [0.8712479  0.04934668 0.07940545]\n",
      "[1. 0. 0.] <-> [0.85271823 0.0895934  0.05768837]\n",
      "[1. 0. 0.] <-> [0.8559102  0.05829767 0.08579212]\n",
      "[0. 1. 0.] <-> [0.2185065  0.75330424 0.02818917]\n",
      "[1. 0. 0.] <-> [0.81398857 0.08829086 0.09772055]\n",
      "[1. 0. 0.] <-> [0.8308318  0.08600772 0.08316041]\n",
      "[0. 0. 1.] <-> [0.8352389  0.03502308 0.12973797]\n",
      "[1. 0. 0.] <-> [0.81410617 0.0948365  0.09105735]\n",
      "[0. 1. 0.] <-> [0.5882221  0.37547138 0.03630656]\n",
      "[1. 0. 0.] <-> [0.85945374 0.04118538 0.09936079]\n",
      "[0. 0. 1.] <-> [0.5886684  0.03663609 0.37469557]\n",
      "[1. 0. 0.] <-> [0.82791495 0.08879582 0.08328926]\n",
      "[1. 0. 0.] <-> [0.81149185 0.07751828 0.1109899 ]\n",
      "[1. 0. 0.] <-> [0.83476907 0.05973252 0.10549844]\n",
      "[1. 0. 0.] <-> [0.86837596 0.06716198 0.06446213]\n",
      "[0. 1. 0.] <-> [0.6087426  0.34584874 0.04540868]\n",
      "[1. 0. 0.] <-> [0.76777303 0.15248252 0.07974444]\n",
      "[1. 0. 0.] <-> [0.5967722  0.34108096 0.06214679]\n",
      "[0. 0. 1.] <-> [0.6558241  0.01477284 0.32940298]\n",
      "[1. 0. 0.] <-> [0.85703456 0.05795646 0.08500899]\n",
      "[1. 0. 0.] <-> [0.7776217  0.15741967 0.06495859]\n",
      "[1. 0. 0.] <-> [0.84564847 0.05626555 0.09808596]\n",
      "[1. 0. 0.] <-> [0.8229831  0.07291221 0.10410473]\n",
      "[1. 0. 0.] <-> [0.811872   0.10502564 0.08310235]\n",
      "[1. 0. 0.] <-> [0.7195355  0.20416832 0.07629614]\n",
      "[0. 1. 0.] <-> [0.30836427 0.6574059  0.03422983]\n",
      "[0. 1. 0.] <-> [0.15174392 0.8249162  0.02334   ]\n",
      "[1. 0. 0.] <-> [0.72062415 0.21095645 0.06841941]\n",
      "[1. 0. 0.] <-> [0.8537619  0.02771584 0.1185222 ]\n",
      "[1. 0. 0.] <-> [0.70634586 0.22658595 0.06706822]\n",
      "[1. 0. 0.] <-> [0.8618306  0.05162068 0.08654875]\n",
      "[1. 0. 0.] <-> [0.80886406 0.115296   0.07583983]\n",
      "[0. 0. 1.] <-> [0.5730802  0.01381845 0.41310135]\n",
      "[1. 0. 0.] <-> [0.7467741  0.19903882 0.05418716]\n",
      "[0. 1. 0.] <-> [0.6741803  0.2794033  0.04641636]\n",
      "[1. 0. 0.] <-> [0.76398045 0.14780557 0.08821391]\n",
      "[1. 0. 0.] <-> [0.8647455  0.05179404 0.08346048]\n",
      "[1. 0. 0.] <-> [0.8893429  0.03992225 0.07073482]\n",
      "[0. 1. 0.] <-> [0.15171133 0.8269477  0.02134094]\n",
      "[0. 1. 0.] <-> [0.1446305  0.83389705 0.02147249]\n",
      "[0. 1. 0.] <-> [0.56431496 0.3742206  0.06146442]\n",
      "[1. 0. 0.] <-> [0.8252675  0.09867113 0.07606135]\n",
      "[1. 0. 0.] <-> [0.6434006  0.2102073  0.14639206]\n",
      "[1. 0. 0.] <-> [0.8448707  0.05348524 0.10164399]\n",
      "[0. 1. 0.] <-> [0.50408316 0.41888532 0.07703149]\n",
      "[0. 1. 0.] <-> [0.17589694 0.80016726 0.02393576]\n",
      "[1. 0. 0.] <-> [0.8219003  0.09411581 0.08398387]\n",
      "[0. 0. 1.] <-> [0.37991178 0.01986333 0.60022485]\n",
      "[0. 0. 1.] <-> [0.21115205 0.04181712 0.74703085]\n",
      "[1. 0. 0.] <-> [0.7981853  0.12165114 0.08016352]\n",
      "[1. 0. 0.] <-> [0.8858503  0.02779437 0.08635534]\n",
      "[1. 0. 0.] <-> [0.84784997 0.08437515 0.06777489]\n",
      "[1. 0. 0.] <-> [0.77647203 0.06909487 0.15443306]\n",
      "[1. 0. 0.] <-> [0.85918736 0.02511186 0.11570072]\n",
      "[1. 0. 0.] <-> [0.86806387 0.06027161 0.07166455]\n",
      "[1. 0. 0.] <-> [0.7393916  0.1770629  0.08354542]\n",
      "[0. 0. 1.] <-> [0.739405   0.03787485 0.22272016]\n",
      "[1. 0. 0.] <-> [0.8259508  0.0822244  0.09182487]\n",
      "[1. 0. 0.] <-> [0.7187392  0.19800289 0.08325785]\n",
      "{'accuracy': 0.9012345679012346, 'mean_square_error': 0.1929693806344142, 'categorical_crossentropy': 0.36994782200566045, 'essential_metrics': {0: {'tp_hit': 78, 'fp_hit': 16, 'tn_hit': 14, 'fn_hit': 0}, 1: {'tp_hit': 10, 'fp_hit': 0, 'tn_hit': 92, 'fn_hit': 6}, 2: {'tp_hit': 4, 'fp_hit': 0, 'tn_hit': 94, 'fn_hit': 10}}}\n"
     ]
    }
   ],
   "source": [
    "# recall phase\n",
    "score = model.evaluate(x_test, y_test, False)\n",
    "print(score)"
   ]
  },
  {
   "cell_type": "code",
   "execution_count": 13,
   "metadata": {},
   "outputs": [
    {
     "name": "stdout",
     "output_type": "stream",
     "text": [
      "{'accuracy': 0.6049382716049383, 'mean_square_error': 0.662447734484565, 'categorical_crossentropy': 1.0179104275173612, 'essential_metrics': {0: {'tp_hit': 36, 'fp_hit': 11, 'tn_hit': 19, 'fn_hit': 42}, 1: {'tp_hit': 1, 'fp_hit': 0, 'tn_hit': 92, 'fn_hit': 15}, 2: {'tp_hit': 7, 'fp_hit': 53, 'tn_hit': 41, 'fn_hit': 7}}, 'checkpoint': 10} \n",
      "\n",
      "\n",
      "{'accuracy': 0.8148148148148148, 'mean_square_error': 0.44344221123645844, 'categorical_crossentropy': 0.7775783538818359, 'essential_metrics': {0: {'tp_hit': 78, 'fp_hit': 30, 'tn_hit': 0, 'fn_hit': 0}, 1: {'tp_hit': 0, 'fp_hit': 0, 'tn_hit': 92, 'fn_hit': 16}, 2: {'tp_hit': 0, 'fp_hit': 0, 'tn_hit': 94, 'fn_hit': 14}}, 'checkpoint': 20} \n",
      "\n",
      "\n",
      "{'accuracy': 0.8148148148148148, 'mean_square_error': 0.4332543564872933, 'categorical_crossentropy': 0.7386392664026331, 'essential_metrics': {0: {'tp_hit': 78, 'fp_hit': 30, 'tn_hit': 0, 'fn_hit': 0}, 1: {'tp_hit': 0, 'fp_hit': 0, 'tn_hit': 92, 'fn_hit': 16}, 2: {'tp_hit': 0, 'fp_hit': 0, 'tn_hit': 94, 'fn_hit': 14}}, 'checkpoint': 30} \n",
      "\n",
      "\n",
      "{'accuracy': 0.845679012345679, 'mean_square_error': 0.39421273516539906, 'categorical_crossentropy': 0.6943752147533275, 'essential_metrics': {0: {'tp_hit': 78, 'fp_hit': 25, 'tn_hit': 5, 'fn_hit': 0}, 1: {'tp_hit': 0, 'fp_hit': 0, 'tn_hit': 92, 'fn_hit': 16}, 2: {'tp_hit': 5, 'fp_hit': 0, 'tn_hit': 94, 'fn_hit': 9}}, 'checkpoint': 40} \n",
      "\n",
      "\n",
      "{'accuracy': 0.8333333333333334, 'mean_square_error': 0.4524693084218604, 'categorical_crossentropy': 0.7948749683521412, 'essential_metrics': {0: {'tp_hit': 78, 'fp_hit': 27, 'tn_hit': 3, 'fn_hit': 0}, 1: {'tp_hit': 0, 'fp_hit': 0, 'tn_hit': 92, 'fn_hit': 16}, 2: {'tp_hit': 3, 'fp_hit': 0, 'tn_hit': 94, 'fn_hit': 11}}, 'checkpoint': 50} \n",
      "\n",
      "\n",
      "{'accuracy': 0.845679012345679, 'mean_square_error': 0.35291824150849854, 'categorical_crossentropy': 0.6372725875289352, 'essential_metrics': {0: {'tp_hit': 78, 'fp_hit': 25, 'tn_hit': 5, 'fn_hit': 0}, 1: {'tp_hit': 0, 'fp_hit': 0, 'tn_hit': 92, 'fn_hit': 16}, 2: {'tp_hit': 5, 'fp_hit': 0, 'tn_hit': 94, 'fn_hit': 9}}, 'checkpoint': 60} \n",
      "\n",
      "\n",
      "{'accuracy': 0.8271604938271605, 'mean_square_error': 0.34292126211633445, 'categorical_crossentropy': 0.5932997244375723, 'essential_metrics': {0: {'tp_hit': 78, 'fp_hit': 28, 'tn_hit': 2, 'fn_hit': 0}, 1: {'tp_hit': 2, 'fp_hit': 0, 'tn_hit': 92, 'fn_hit': 14}, 2: {'tp_hit': 0, 'fp_hit': 0, 'tn_hit': 94, 'fn_hit': 14}}, 'checkpoint': 70} \n",
      "\n",
      "\n",
      "{'accuracy': 0.8888888888888888, 'mean_square_error': 0.2320713787107023, 'categorical_crossentropy': 0.4284944534301758, 'essential_metrics': {0: {'tp_hit': 78, 'fp_hit': 18, 'tn_hit': 12, 'fn_hit': 0}, 1: {'tp_hit': 8, 'fp_hit': 0, 'tn_hit': 92, 'fn_hit': 8}, 2: {'tp_hit': 4, 'fp_hit': 0, 'tn_hit': 94, 'fn_hit': 10}}, 'checkpoint': 80} \n",
      "\n",
      "\n",
      "{'accuracy': 0.8950617283950617, 'mean_square_error': 0.23978150934825454, 'categorical_crossentropy': 0.4384032002201787, 'essential_metrics': {0: {'tp_hit': 78, 'fp_hit': 17, 'tn_hit': 13, 'fn_hit': 0}, 1: {'tp_hit': 9, 'fp_hit': 0, 'tn_hit': 92, 'fn_hit': 7}, 2: {'tp_hit': 4, 'fp_hit': 0, 'tn_hit': 94, 'fn_hit': 10}}, 'checkpoint': 90} \n",
      "\n",
      "\n",
      "{'accuracy': 0.8950617283950617, 'mean_square_error': 0.2198365231371437, 'categorical_crossentropy': 0.4059767899689851, 'essential_metrics': {0: {'tp_hit': 78, 'fp_hit': 17, 'tn_hit': 13, 'fn_hit': 0}, 1: {'tp_hit': 9, 'fp_hit': 0, 'tn_hit': 92, 'fn_hit': 7}, 2: {'tp_hit': 4, 'fp_hit': 0, 'tn_hit': 94, 'fn_hit': 10}}, 'checkpoint': 100} \n",
      "\n",
      "\n",
      "{'accuracy': 0.8888888888888888, 'mean_square_error': 0.22968801668388059, 'categorical_crossentropy': 0.4272232408876772, 'essential_metrics': {0: {'tp_hit': 78, 'fp_hit': 18, 'tn_hit': 12, 'fn_hit': 0}, 1: {'tp_hit': 8, 'fp_hit': 0, 'tn_hit': 92, 'fn_hit': 8}, 2: {'tp_hit': 4, 'fp_hit': 0, 'tn_hit': 94, 'fn_hit': 10}}, 'checkpoint': 110} \n",
      "\n",
      "\n",
      "{'accuracy': 0.8888888888888888, 'mean_square_error': 0.22119901263868746, 'categorical_crossentropy': 0.40719357243290655, 'essential_metrics': {0: {'tp_hit': 78, 'fp_hit': 18, 'tn_hit': 12, 'fn_hit': 0}, 1: {'tp_hit': 9, 'fp_hit': 0, 'tn_hit': 92, 'fn_hit': 7}, 2: {'tp_hit': 3, 'fp_hit': 0, 'tn_hit': 94, 'fn_hit': 11}}, 'checkpoint': 120} \n",
      "\n",
      "\n",
      "{'accuracy': 0.8950617283950617, 'mean_square_error': 0.22211848299850206, 'categorical_crossentropy': 0.41632715861002606, 'essential_metrics': {0: {'tp_hit': 78, 'fp_hit': 17, 'tn_hit': 13, 'fn_hit': 0}, 1: {'tp_hit': 9, 'fp_hit': 0, 'tn_hit': 92, 'fn_hit': 7}, 2: {'tp_hit': 4, 'fp_hit': 0, 'tn_hit': 94, 'fn_hit': 10}}, 'checkpoint': 130} \n",
      "\n",
      "\n",
      "{'accuracy': 0.9012345679012346, 'mean_square_error': 0.20924477225784627, 'categorical_crossentropy': 0.3995430557816117, 'essential_metrics': {0: {'tp_hit': 78, 'fp_hit': 16, 'tn_hit': 14, 'fn_hit': 0}, 1: {'tp_hit': 10, 'fp_hit': 0, 'tn_hit': 92, 'fn_hit': 6}, 2: {'tp_hit': 4, 'fp_hit': 0, 'tn_hit': 94, 'fn_hit': 10}}, 'checkpoint': 140} \n",
      "\n",
      "\n",
      "{'accuracy': 0.9012345679012346, 'mean_square_error': 0.19379850349210404, 'categorical_crossentropy': 0.37983233840377245, 'essential_metrics': {0: {'tp_hit': 78, 'fp_hit': 16, 'tn_hit': 14, 'fn_hit': 0}, 1: {'tp_hit': 10, 'fp_hit': 0, 'tn_hit': 92, 'fn_hit': 6}, 2: {'tp_hit': 4, 'fp_hit': 0, 'tn_hit': 94, 'fn_hit': 10}}, 'checkpoint': 150} \n",
      "\n",
      "\n",
      "{'accuracy': 0.9012345679012346, 'mean_square_error': 0.19915763782112936, 'categorical_crossentropy': 0.38143479382550277, 'essential_metrics': {0: {'tp_hit': 78, 'fp_hit': 16, 'tn_hit': 14, 'fn_hit': 0}, 1: {'tp_hit': 10, 'fp_hit': 0, 'tn_hit': 92, 'fn_hit': 6}, 2: {'tp_hit': 4, 'fp_hit': 0, 'tn_hit': 94, 'fn_hit': 10}}, 'checkpoint': 160} \n",
      "\n",
      "\n",
      "{'accuracy': 0.9012345679012346, 'mean_square_error': 0.20211933819278746, 'categorical_crossentropy': 0.38316737280951607, 'essential_metrics': {0: {'tp_hit': 78, 'fp_hit': 16, 'tn_hit': 14, 'fn_hit': 0}, 1: {'tp_hit': 10, 'fp_hit': 0, 'tn_hit': 92, 'fn_hit': 6}, 2: {'tp_hit': 4, 'fp_hit': 0, 'tn_hit': 94, 'fn_hit': 10}}, 'checkpoint': 170} \n",
      "\n",
      "\n",
      "{'accuracy': 0.9012345679012346, 'mean_square_error': 0.1929693806344142, 'categorical_crossentropy': 0.36994782200566045, 'essential_metrics': {0: {'tp_hit': 78, 'fp_hit': 16, 'tn_hit': 14, 'fn_hit': 0}, 1: {'tp_hit': 10, 'fp_hit': 0, 'tn_hit': 92, 'fn_hit': 6}, 2: {'tp_hit': 4, 'fp_hit': 0, 'tn_hit': 94, 'fn_hit': 10}}, 'checkpoint': 180} \n",
      "\n",
      "\n",
      "{'accuracy': 0.9012345679012346, 'mean_square_error': 0.1929693806344142, 'categorical_crossentropy': 0.36994782200566045, 'essential_metrics': {0: {'tp_hit': 78, 'fp_hit': 16, 'tn_hit': 14, 'fn_hit': 0}, 1: {'tp_hit': 10, 'fp_hit': 0, 'tn_hit': 92, 'fn_hit': 6}, 2: {'tp_hit': 4, 'fp_hit': 0, 'tn_hit': 94, 'fn_hit': 10}}, 'checkpoint': 190} \n",
      "\n",
      "\n",
      "{'accuracy': 0.9012345679012346, 'mean_square_error': 0.1929693806344142, 'categorical_crossentropy': 0.36994782200566045, 'essential_metrics': {0: {'tp_hit': 78, 'fp_hit': 16, 'tn_hit': 14, 'fn_hit': 0}, 1: {'tp_hit': 10, 'fp_hit': 0, 'tn_hit': 92, 'fn_hit': 6}, 2: {'tp_hit': 4, 'fp_hit': 0, 'tn_hit': 94, 'fn_hit': 10}}, 'checkpoint': 200} \n",
      "\n",
      "\n"
     ]
    }
   ],
   "source": [
    "for checkpoint in checkpoints:\n",
    "    print(checkpoint, '\\n\\n')"
   ]
  },
  {
   "cell_type": "code",
   "execution_count": 14,
   "metadata": {},
   "outputs": [
    {
     "name": "stdout",
     "output_type": "stream",
     "text": [
      "Layer 1\n",
      "Neuron 0: weights:\n",
      "[ 0.616328   -1.0287898  -0.95885116 -0.1114381   0.01321062]\n",
      " bias: 0.5068472027778625\n",
      "\n",
      "Neuron 1: weights:\n",
      "[-0.40653977  0.67760956  0.10066959 -0.67837316 -0.7731639 ]\n",
      " bias: 0.699408233165741\n",
      "\n",
      "Neuron 2: weights:\n",
      "[ 0.2828698  -1.0469197  -0.29398745  0.1253729   0.12525997]\n",
      " bias: 0.039990175515413284\n",
      "\n",
      "Neuron 3: weights:\n",
      "[-0.0248729   0.43169883  0.927565    0.9140715   0.6994851 ]\n",
      " bias: -0.0774640366435051\n",
      "\n",
      "$\n",
      "Layer 2\n",
      "Neuron 0: weights:\n",
      "[ 1.0256436  1.2217135  0.3123231 -1.5050144]\n",
      " bias: 0.39760494232177734\n",
      "\n",
      "Neuron 1: weights:\n",
      "[-1.6256341  1.1413841 -1.1698763  0.7445333]\n",
      " bias: 0.04650438576936722\n",
      "\n",
      "Neuron 2: weights:\n",
      "[ 0.587018   -1.8287114   1.1142015   0.39164084]\n",
      " bias: -0.3403015732765198\n",
      "\n",
      "$\n",
      "\n"
     ]
    }
   ],
   "source": [
    "print(model)"
   ]
  }
 ],
 "metadata": {
  "kernelspec": {
   "display_name": "Python 3",
   "language": "python",
   "name": "python3"
  },
  "language_info": {
   "codemirror_mode": {
    "name": "ipython",
    "version": 3
   },
   "file_extension": ".py",
   "mimetype": "text/x-python",
   "name": "python",
   "nbconvert_exporter": "python",
   "pygments_lexer": "ipython3",
   "version": "3.6.12"
  }
 },
 "nbformat": 4,
 "nbformat_minor": 2
}
