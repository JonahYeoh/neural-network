{
 "cells": [
  {
   "cell_type": "code",
   "execution_count": 1,
   "metadata": {},
   "outputs": [],
   "source": [
    "# dependency\n",
    "import numpy as np\n",
    "import pandas as pd\n",
    "import copy\n",
    "import math\n",
    "import sys\n",
    "import os\n",
    "from activations import relu, leaky_relu, sigmoid, tanh, softmax, d_sigmoid, d_relu\n",
    "from initializers import glorot_uniform, random_normal, random_uniform\n",
    "from regularizers import l1_regularizer, l2_regularizer\n",
    "from utility import trim_tail, multiply, subtract, get_nparams, one_hot_encoding, get_data\n",
    "from metrics import MSE, CCE, ACC, PRECISION, RECALL, essential_metrics, wondering_penalty, close_gap_penalty\n",
    "from pso import PSO\n",
    "from ga import GA\n",
    "from nn import Network\n",
    "from layer import DenseLayer\n",
    "from scalers import MinMaxScaler, StandardScaler"
   ]
  },
  {
   "cell_type": "code",
   "execution_count": 2,
   "metadata": {},
   "outputs": [],
   "source": [
    "# reference\n",
    "metrics_fn_dict = dict()\n",
    "metrics_fn_dict['accuracy'] = ACC\n",
    "metrics_fn_dict['categorical_crossentropy'] = CCE\n",
    "metrics_fn_dict['mean_square_error'] = MSE\n",
    "metrics_fn_dict['precision'] = PRECISION\n",
    "metrics_fn_dict['recall'] = RECALL\n",
    "metrics_fn_dict['essential_metrics'] = essential_metrics"
   ]
  },
  {
   "cell_type": "code",
   "execution_count": 3,
   "metadata": {},
   "outputs": [],
   "source": [
    "# model\n",
    "model = Network(5, lr = None)\n",
    "model.add_layer(DenseLayer(1, 4, True, afn=sigmoid, dafn=None, rfn=None))\n",
    "model.add_layer(DenseLayer(2, 3, True, afn=softmax, dafn=None, rfn=None))"
   ]
  },
  {
   "cell_type": "code",
   "execution_count": 4,
   "metadata": {},
   "outputs": [],
   "source": [
    "pso = PSO(dict(m = 50,\n",
    "    weight_constraint = [-3, 3], \n",
    "    velocity_constraint = [-0.1, 0.1],\n",
    "    c1 = 2,\n",
    "    c2 = 2,\n",
    "    w = 1,\n",
    "    w_decay = 1,\n",
    "    scale_hyperparameter = False,\n",
    "    regularizer = None,\n",
    "    mask = False))"
   ]
  },
  {
   "cell_type": "code",
   "execution_count": 5,
   "metadata": {},
   "outputs": [
    {
     "name": "stdout",
     "output_type": "stream",
     "text": [
      "building layer 1 with 5\n",
      "24\n",
      "building layer 2 with 4\n",
      "15\n"
     ]
    }
   ],
   "source": [
    "model.compile(loss_fn = 'categorical_crossentropy', optimizer = pso, \\\n",
    "    metrics = ['accuracy', 'mean_square_error', 'categorical_crossentropy'])"
   ]
  },
  {
   "cell_type": "code",
   "execution_count": 6,
   "metadata": {},
   "outputs": [
    {
     "name": "stdout",
     "output_type": "stream",
     "text": [
      "<class 'pandas.core.frame.DataFrame'>\n",
      "RangeIndex: 107 entries, 0 to 106\n",
      "Data columns (total 6 columns):\n",
      " #   Column  Non-Null Count  Dtype  \n",
      "---  ------  --------------  -----  \n",
      " 0   f1      107 non-null    float32\n",
      " 1   f2      107 non-null    float32\n",
      " 2   f3      107 non-null    float32\n",
      " 3   f4      107 non-null    float32\n",
      " 4   f5      107 non-null    float32\n",
      " 5   label   107 non-null    float32\n",
      "dtypes: float32(6)\n",
      "memory usage: 2.6 KB\n",
      "None\n",
      "<class 'pandas.core.frame.DataFrame'>\n",
      "RangeIndex: 108 entries, 0 to 107\n",
      "Data columns (total 6 columns):\n",
      " #   Column  Non-Null Count  Dtype  \n",
      "---  ------  --------------  -----  \n",
      " 0   f1      108 non-null    float32\n",
      " 1   f2      108 non-null    float32\n",
      " 2   f3      108 non-null    float32\n",
      " 3   f4      108 non-null    float32\n",
      " 4   f5      108 non-null    float32\n",
      " 5   label   108 non-null    float32\n",
      "dtypes: float32(6)\n",
      "memory usage: 2.7 KB\n",
      "None\n"
     ]
    }
   ],
   "source": [
    "# data loading\n",
    "DATA = os.path.join('c:\\\\Users\\\\tcumi\\\\github_repo\\\\neural-network\\\\', 'dataset')\n",
    "GROUP = 5\n",
    "COLUMNS = ['f1', 'f2', 'f3', 'f4', 'f5', 'label']\n",
    "N_CLASS = 3\n",
    "EPOCHS = 500\n",
    "train_dir, test_dir = \"..//dataset//training_data{}.txt\".format(GROUP), \"..//dataset//testing_data{}.txt\".format(GROUP)\n",
    "train, test = get_data(DATA, train_dir, COLUMNS), get_data(DATA, test_dir, COLUMNS)\n",
    "# shuffle\n",
    "train, test = train.sample(frac=1), test.sample(frac=1)\n",
    "x_train, y_train = train.drop('label', axis=1), train['label']\n",
    "x_test, y_test = test.drop('label', axis=1), test['label']"
   ]
  },
  {
   "cell_type": "code",
   "execution_count": 7,
   "metadata": {},
   "outputs": [],
   "source": [
    "# data scaling and encoding\n",
    "scaler = StandardScaler(['f1', 'f2', 'f3', 'f4', 'f5'])\n",
    "scaler.fit(x_train)\n",
    "x_train = scaler.transform(x_train)\n",
    "x_test = scaler.transform(x_test)\n",
    "y_train = one_hot_encoding(y_train, N_CLASS)\n",
    "y_test = one_hot_encoding(y_test, N_CLASS)"
   ]
  },
  {
   "cell_type": "code",
   "execution_count": 8,
   "metadata": {
    "tags": [
     "outputPrepend"
    ]
   },
   "outputs": [
    {
     "name": "stdout",
     "output_type": "stream",
     "text": [
      "Checkpoint 100, Accuracy: 0.8765432098765432, Loss: 0.5945357569941768\n",
      "Checkpoint 200, Accuracy: 0.8765432098765432, Loss: 0.5945357569941768\n",
      "Checkpoint 300, Accuracy: 0.8765432098765432, Loss: 0.5945357569941768\n",
      "Checkpoint 400, Accuracy: 0.8765432098765432, Loss: 0.5945357569941768\n",
      "Checkpoint 500, Accuracy: 0.8765432098765432, Loss: 0.5945357569941768\n"
     ]
    }
   ],
   "source": [
    "# learning phase\n",
    "breakpoint = 100\n",
    "checkpoints = list()\n",
    "history = list()\n",
    "for century in range(0, EPOCHS, breakpoint):\n",
    "    sub_history = model.fit(x_train, y_train, breakpoint, verbose = 0)\n",
    "    score = model.evaluate(x_test, y_test, False, verbose = 0)\n",
    "    print('Checkpoint {}, Accuracy: {}, Loss: {}'.format(century+breakpoint, score['accuracy'], score[model.loss_fn]))\n",
    "    score['checkpoint'] = century + breakpoint\n",
    "    checkpoints.append(score)\n",
    "    history.extend(sub_history)"
   ]
  },
  {
   "cell_type": "code",
   "execution_count": 9,
   "metadata": {},
   "outputs": [],
   "source": [
    "import matplotlib.pyplot as plt\n",
    "\n",
    "def draw_plot(x, y_list, x_label=None, y_label=None, legend=None, title=None):\n",
    "    fig, ax = plt.subplots(figsize=(12,5))\n",
    "    for xi, yi in zip(x, y_list):\n",
    "        ax.plot(xi, yi)\n",
    "    if x_label is not None and y_label is not None:\n",
    "        ax.set(xlabel=x_label, ylabel=y_label, title='{} VS {}'.format(x_label, y_label))\n",
    "    if legend is not None:\n",
    "        ax.legend(legend)\n",
    "    ax.grid()\n",
    "    plt.show()"
   ]
  },
  {
   "cell_type": "code",
   "execution_count": 10,
   "metadata": {},
   "outputs": [
    {
     "name": "stdout",
     "output_type": "stream",
     "text": [
      "[1. 0. 0.] <-> [0.7448282  0.00818122 0.24699052]\n",
      "[1. 0. 0.] <-> [0.3620539  0.22898921 0.4089569 ]\n",
      "[1. 0. 0.] <-> [0.80799645 0.0554008  0.13660273]\n",
      "[1. 0. 0.] <-> [0.882017   0.07545129 0.04253175]\n",
      "[1. 0. 0.] <-> [0.8489609  0.07375902 0.07728007]\n",
      "[0. 1. 0.] <-> [0.86689067 0.03017022 0.10293916]\n",
      "[0. 1. 0.] <-> [0.10155697 0.77335036 0.12509269]\n",
      "[1. 0. 0.] <-> [0.74477327 0.13069259 0.12453418]\n",
      "[0. 1. 0.] <-> [0.12645833 0.7479194  0.12562224]\n",
      "[0. 1. 0.] <-> [0.8572557  0.10973322 0.03301101]\n",
      "[1. 0. 0.] <-> [0.6504235  0.19739507 0.15218142]\n",
      "[0. 1. 0.] <-> [0.5873349  0.32369128 0.08897381]\n",
      "[1. 0. 0.] <-> [0.8029662  0.11679906 0.08023469]\n",
      "[1. 0. 0.] <-> [0.47821355 0.11251101 0.40927535]\n",
      "[1. 0. 0.] <-> [0.76330173 0.11309419 0.12360406]\n",
      "[0. 0. 1.] <-> [2.9797956e-02 4.0805497e-04 9.6979392e-01]\n",
      "[1. 0. 0.] <-> [0.7281963  0.19356877 0.07823488]\n",
      "[0. 0. 1.] <-> [5.4715496e-02 3.5505125e-04 9.4492942e-01]\n",
      "[1. 0. 0.] <-> [0.7831513  0.11921326 0.09763537]\n",
      "[1. 0. 0.] <-> [0.42645362 0.30699039 0.266556  ]\n",
      "[1. 0. 0.] <-> [0.36843684 0.04143402 0.59012914]\n",
      "[0. 0. 1.] <-> [0.36665604 0.11163409 0.52170986]\n",
      "[1. 0. 0.] <-> [0.7370926  0.18230152 0.08060592]\n",
      "[1. 0. 0.] <-> [0.71616477 0.20951238 0.07432284]\n",
      "[1. 0. 0.] <-> [0.5059396 0.0474959 0.4465645]\n",
      "[1. 0. 0.] <-> [0.7809597  0.00883098 0.2102093 ]\n",
      "[0. 1. 0.] <-> [0.46265012 0.43619654 0.10115339]\n",
      "[1. 0. 0.] <-> [0.56104904 0.11148272 0.32746822]\n",
      "[1. 0. 0.] <-> [0.517918   0.08926429 0.39281774]\n",
      "[1. 0. 0.] <-> [0.7920179  0.10165813 0.10632401]\n",
      "[0. 1. 0.] <-> [0.51230514 0.3969218  0.09077305]\n",
      "[0. 0. 1.] <-> [0.00604309 0.00151679 0.9924401 ]\n",
      "[0. 0. 1.] <-> [4.7583049e-03 5.8949197e-04 9.9465215e-01]\n",
      "[1. 0. 0.] <-> [0.80336857 0.0751917  0.12143976]\n",
      "[1. 0. 0.] <-> [0.8042385  0.12629196 0.06946954]\n",
      "[0. 0. 1.] <-> [3.1623825e-02 4.9892155e-04 9.6787727e-01]\n",
      "[1. 0. 0.] <-> [0.8378532  0.0991118  0.06303494]\n",
      "[1. 0. 0.] <-> [0.76748157 0.04247409 0.19004431]\n",
      "[0. 0. 1.] <-> [2.8256759e-01 1.9114176e-04 7.1724129e-01]\n",
      "[1. 0. 0.] <-> [0.46181315 0.00726554 0.5309213 ]\n",
      "[0. 0. 1.] <-> [0.4469203  0.01299724 0.5400825 ]\n",
      "[0. 1. 0.] <-> [0.91471887 0.06408913 0.02119195]\n",
      "[1. 0. 0.] <-> [0.60666    0.2372529  0.15608713]\n",
      "[1. 0. 0.] <-> [0.4833493  0.29026023 0.22639053]\n",
      "[1. 0. 0.] <-> [0.72172785 0.04759794 0.23067419]\n",
      "[1. 0. 0.] <-> [0.2676992  0.17244603 0.55985475]\n",
      "[1. 0. 0.] <-> [0.5078015  0.12243747 0.36976105]\n",
      "[1. 0. 0.] <-> [0.75577736 0.09329259 0.15093009]\n",
      "[1. 0. 0.] <-> [0.79301906 0.06982515 0.13715583]\n",
      "[0. 0. 1.] <-> [2.8066391e-01 1.9244416e-04 7.1914369e-01]\n",
      "[0. 0. 1.] <-> [0.4193948  0.07828727 0.5023179 ]\n",
      "[0. 1. 0.] <-> [0.15380709 0.719163   0.12702988]\n",
      "[0. 1. 0.] <-> [0.08087458 0.79538643 0.12373908]\n",
      "[1. 0. 0.] <-> [0.48002374 0.04081938 0.4791569 ]\n",
      "[0. 1. 0.] <-> [0.22656707 0.65134776 0.12208514]\n",
      "[0. 1. 0.] <-> [0.886416   0.08490594 0.02867809]\n",
      "[0. 0. 1.] <-> [4.4952124e-02 3.7899049e-04 9.5466894e-01]\n",
      "[1. 0. 0.] <-> [0.4228404  0.00454636 0.57261324]\n",
      "[1. 0. 0.] <-> [0.499915   0.04791019 0.45217478]\n",
      "[1. 0. 0.] <-> [0.5329536  0.34360918 0.12343714]\n",
      "[0. 1. 0.] <-> [0.25442442 0.6255096  0.12006591]\n",
      "[1. 0. 0.] <-> [0.84768647 0.06196046 0.09035302]\n",
      "[0. 1. 0.] <-> [0.8881947  0.08306929 0.02873602]\n",
      "[1. 0. 0.] <-> [0.8100393  0.09245367 0.09750711]\n",
      "[1. 0. 0.] <-> [0.6593981  0.12813874 0.21246316]\n",
      "[1. 0. 0.] <-> [0.48181266 0.35833535 0.159852  ]\n",
      "[1. 0. 0.] <-> [0.6755836  0.15912811 0.1652883 ]\n",
      "[1. 0. 0.] <-> [0.90067077 0.06070012 0.03862909]\n",
      "[1. 0. 0.] <-> [0.22026989 0.16688453 0.6128456 ]\n",
      "[1. 0. 0.] <-> [0.7016565  0.11141403 0.1869295 ]\n",
      "[1. 0. 0.] <-> [0.57961315 0.00585915 0.41452774]\n",
      "[1. 0. 0.] <-> [0.47599077 0.27521    0.24879926]\n",
      "[0. 1. 0.] <-> [0.85744506 0.10847463 0.0340803 ]\n",
      "[1. 0. 0.] <-> [0.26685402 0.18613988 0.54700613]\n",
      "[1. 0. 0.] <-> [0.837582   0.033792   0.12862606]\n",
      "[1. 0. 0.] <-> [0.5005636  0.3127839  0.18665248]\n",
      "[1. 0. 0.] <-> [0.59002686 0.03063844 0.37933472]\n",
      "[1. 0. 0.] <-> [0.3223988  0.21696104 0.46064013]\n",
      "[0. 0. 1.] <-> [1.3117206e-02 7.1282673e-04 9.8616993e-01]\n",
      "[1. 0. 0.] <-> [0.9249406  0.05168894 0.02337053]\n",
      "[1. 0. 0.] <-> [0.7173699  0.07964949 0.20298064]\n",
      "[1. 0. 0.] <-> [0.7185596  0.15095174 0.13048859]\n",
      "[0. 0. 1.] <-> [1.0579743e-02 5.4240751e-04 9.8887783e-01]\n",
      "[1. 0. 0.] <-> [0.67098856 0.18404315 0.14496829]\n",
      "[1. 0. 0.] <-> [0.5541007 0.1644033 0.281496 ]\n",
      "[0. 1. 0.] <-> [0.55822927 0.20272808 0.23904264]\n",
      "[1. 0. 0.] <-> [0.65677553 0.05405583 0.28916863]\n",
      "[1. 0. 0.] <-> [0.63479286 0.00920247 0.3560047 ]\n",
      "[1. 0. 0.] <-> [0.7345024  0.12986648 0.13563104]\n",
      "[1. 0. 0.] <-> [0.79463327 0.10224769 0.10311903]\n",
      "[1. 0. 0.] <-> [0.57234555 0.03372407 0.39393038]\n",
      "[0. 0. 1.] <-> [2.8332353e-01 1.9339322e-04 7.1648306e-01]\n",
      "[1. 0. 0.] <-> [0.69560385 0.18537946 0.1190168 ]\n",
      "[1. 0. 0.] <-> [4.6605352e-01 4.5166432e-04 5.3349483e-01]\n",
      "[1. 0. 0.] <-> [0.33052212 0.00081272 0.6686652 ]\n",
      "[1. 0. 0.] <-> [0.42380658 0.28984934 0.28634402]\n",
      "[1. 0. 0.] <-> [0.6817612  0.15129432 0.16694446]\n",
      "[1. 0. 0.] <-> [0.8662778  0.05889183 0.07483027]\n",
      "[0. 1. 0.] <-> [0.2781063  0.5897446  0.13214909]\n",
      "[1. 0. 0.] <-> [0.6337247  0.00261213 0.36366317]\n",
      "[1. 0. 0.] <-> [0.7338755  0.15748888 0.10863566]\n",
      "[1. 0. 0.] <-> [0.80633193 0.13020115 0.06346692]\n",
      "[1. 0. 0.] <-> [0.8865475  0.05410643 0.05934608]\n",
      "[1. 0. 0.] <-> [0.3407423  0.3266215  0.33263618]\n",
      "[1. 0. 0.] <-> [0.488224   0.16014354 0.35163245]\n",
      "[1. 0. 0.] <-> [0.571772   0.30878374 0.1194443 ]\n",
      "[0. 0. 1.] <-> [2.3904920e-01 2.1294845e-04 7.6073790e-01]\n",
      "[1. 0. 0.] <-> [0.6080698  0.00150055 0.39042965]\n",
      "{'accuracy': 0.8765432098765432, 'mean_square_error': 0.33780335688426366, 'categorical_crossentropy': 0.5945357569941768, 'essential_metrics': {0: {'tp_hit': 66, 'fp_hit': 10, 'tn_hit': 22, 'fn_hit': 10}, 1: {'tp_hit': 7, 'fp_hit': 0, 'tn_hit': 91, 'fn_hit': 10}, 2: {'tp_hit': 15, 'fp_hit': 10, 'tn_hit': 83, 'fn_hit': 0}}}\n"
     ]
    }
   ],
   "source": [
    "# recall phase\n",
    "score = model.evaluate(x_test, y_test, False)\n",
    "print(score)"
   ]
  },
  {
   "cell_type": "code",
   "execution_count": 11,
   "metadata": {},
   "outputs": [
    {
     "data": {
      "image/png": "[encoded data removed]",
      "text/plain": [
       "<Figure size 864x360 with 1 Axes>"
      ]
     },
     "metadata": {
      "needs_background": "light"
     },
     "output_type": "display_data"
    },
    {
     "data": {
      "image/png": "[encoded data removed]",
      "text/plain": [
       "<Figure size 864x360 with 1 Axes>"
      ]
     },
     "metadata": {
      "needs_background": "light"
     },
     "output_type": "display_data"
    }
   ],
   "source": [
    "draw_plot(x = [[i for i in range(len(history))], [(i+1)*breakpoint for i in range(len(checkpoints))]], y_list = [history, [ ckp[model.loss_fn] for ckp in checkpoints ]], x_label = 'Epochs', \\\n",
    "    y_label = model.loss_fn, legend=['train', 'test'])\n",
    "acc = [ ckp['accuracy'] for ckp in checkpoints ]\n",
    "draw_plot(x = [[(i+1)*breakpoint for i in range(len(checkpoints))]], y_list = [acc], x_label = 'Checkpoints', \\\n",
    "    y_label = 'accuracy')"
   ]
  },
  {
   "cell_type": "code",
   "execution_count": 12,
   "metadata": {},
   "outputs": [
    {
     "name": "stdout",
     "output_type": "stream",
     "text": [
      "{'accuracy': 0.8765432098765432, 'mean_square_error': 0.33780335688426366, 'categorical_crossentropy': 0.5945357569941768, 'essential_metrics': {0: {'tp_hit': 66, 'fp_hit': 10, 'tn_hit': 22, 'fn_hit': 10}, 1: {'tp_hit': 7, 'fp_hit': 0, 'tn_hit': 91, 'fn_hit': 10}, 2: {'tp_hit': 15, 'fp_hit': 10, 'tn_hit': 83, 'fn_hit': 0}}, 'checkpoint': 100} \n",
      "\n",
      "\n",
      "{'accuracy': 0.8765432098765432, 'mean_square_error': 0.33780335688426366, 'categorical_crossentropy': 0.5945357569941768, 'essential_metrics': {0: {'tp_hit': 66, 'fp_hit': 10, 'tn_hit': 22, 'fn_hit': 10}, 1: {'tp_hit': 7, 'fp_hit': 0, 'tn_hit': 91, 'fn_hit': 10}, 2: {'tp_hit': 15, 'fp_hit': 10, 'tn_hit': 83, 'fn_hit': 0}}, 'checkpoint': 200} \n",
      "\n",
      "\n",
      "{'accuracy': 0.8765432098765432, 'mean_square_error': 0.33780335688426366, 'categorical_crossentropy': 0.5945357569941768, 'essential_metrics': {0: {'tp_hit': 66, 'fp_hit': 10, 'tn_hit': 22, 'fn_hit': 10}, 1: {'tp_hit': 7, 'fp_hit': 0, 'tn_hit': 91, 'fn_hit': 10}, 2: {'tp_hit': 15, 'fp_hit': 10, 'tn_hit': 83, 'fn_hit': 0}}, 'checkpoint': 300} \n",
      "\n",
      "\n",
      "{'accuracy': 0.8765432098765432, 'mean_square_error': 0.33780335688426366, 'categorical_crossentropy': 0.5945357569941768, 'essential_metrics': {0: {'tp_hit': 66, 'fp_hit': 10, 'tn_hit': 22, 'fn_hit': 10}, 1: {'tp_hit': 7, 'fp_hit': 0, 'tn_hit': 91, 'fn_hit': 10}, 2: {'tp_hit': 15, 'fp_hit': 10, 'tn_hit': 83, 'fn_hit': 0}}, 'checkpoint': 400} \n",
      "\n",
      "\n",
      "{'accuracy': 0.8765432098765432, 'mean_square_error': 0.33780335688426366, 'categorical_crossentropy': 0.5945357569941768, 'essential_metrics': {0: {'tp_hit': 66, 'fp_hit': 10, 'tn_hit': 22, 'fn_hit': 10}, 1: {'tp_hit': 7, 'fp_hit': 0, 'tn_hit': 91, 'fn_hit': 10}, 2: {'tp_hit': 15, 'fp_hit': 10, 'tn_hit': 83, 'fn_hit': 0}}, 'checkpoint': 500} \n",
      "\n",
      "\n"
     ]
    }
   ],
   "source": [
    "for checkpoint in checkpoints:\n",
    "    print(checkpoint, '\\n\\n')"
   ]
  },
  {
   "cell_type": "code",
   "execution_count": 13,
   "metadata": {},
   "outputs": [
    {
     "name": "stdout",
     "output_type": "stream",
     "text": [
      "Layer 1\n",
      "Neuron 0: weights:\n",
      "[-1.06187394  1.62324209  1.55722881 -1.75779944 -0.44287396]\n",
      " bias: 2.0352304354214628\n",
      "\n",
      "Neuron 1: weights:\n",
      "[ 2.37789262 -1.29101015  0.4041527   0.16419178  2.64503733]\n",
      " bias: -2.83687041509248\n",
      "\n",
      "Neuron 2: weights:\n",
      "[ 0.46134797  1.18660691 -2.17760424 -1.52027161  1.06085546]\n",
      " bias: 0.392937546683207\n",
      "\n",
      "Neuron 3: weights:\n",
      "[-0.67933677  1.8414245   0.70359933  0.04402387 -2.78835568]\n",
      " bias: -0.15377630349729765\n",
      "\n",
      "$\n",
      "Layer 2\n",
      "Neuron 0: weights:\n",
      "[1.49775853 2.04968225 2.68723632 2.67472286]\n",
      " bias: -2.122190584043032\n",
      "\n",
      "Neuron 1: weights:\n",
      "[ 0.9051203  -2.87059066 -2.60320783  2.69717401]\n",
      " bias: 0.7838454010773335\n",
      "\n",
      "Neuron 2: weights:\n",
      "[-0.54662643  2.99709704 -1.79997715  0.71920529]\n",
      " bias: 2.3447327353116245\n",
      "\n",
      "$\n",
      "\n"
     ]
    }
   ],
   "source": [
    "print(model)"
   ]
  }
 ],
 "metadata": {
  "kernelspec": {
   "display_name": "Python 3",
   "language": "python",
   "name": "python3"
  },
  "language_info": {
   "codemirror_mode": {
    "name": "ipython",
    "version": 3
   },
   "file_extension": ".py",
   "mimetype": "text/x-python",
   "name": "python",
   "nbconvert_exporter": "python",
   "pygments_lexer": "ipython3",
   "version": "3.6.10"
  }
 },
 "nbformat": 4,
 "nbformat_minor": 2
}
