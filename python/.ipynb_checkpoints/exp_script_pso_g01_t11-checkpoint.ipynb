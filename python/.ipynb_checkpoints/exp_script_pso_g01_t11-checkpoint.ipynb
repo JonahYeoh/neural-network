{
 "cells": [
  {
   "cell_type": "code",
   "execution_count": 1,
   "metadata": {},
   "outputs": [],
   "source": [
    "# dependency\n",
    "import numpy as np\n",
    "import pandas as pd\n",
    "import copy\n",
    "import math\n",
    "import sys\n",
    "import os\n",
    "from activations import relu, leaky_relu, sigmoid, tanh, softmax, d_sigmoid, d_relu\n",
    "from initializers import glorot_uniform, random_normal, random_uniform\n",
    "from regularizers import l1_regularizer, l2_regularizer\n",
    "from utility import trim_tail, multiply, subtract, get_nparams, one_hot_encoding, get_data\n",
    "from metrics import MSE, CCE, ACC, PRECISION, RECALL, essential_metrics, wondering_penalty, close_gap_penalty\n",
    "from pso import PSO\n",
    "from ga import GA\n",
    "from nn import Network\n",
    "from layer import DenseLayer\n",
    "from scalers import MinMaxScaler, StandardScaler"
   ]
  },
  {
   "cell_type": "code",
   "execution_count": 2,
   "metadata": {},
   "outputs": [],
   "source": [
    "# reference\n",
    "metrics_fn_dict = dict()\n",
    "metrics_fn_dict['accuracy'] = ACC\n",
    "metrics_fn_dict['categorical_crossentropy'] = CCE\n",
    "metrics_fn_dict['mean_square_error'] = MSE\n",
    "metrics_fn_dict['precision'] = PRECISION\n",
    "metrics_fn_dict['recall'] = RECALL\n",
    "metrics_fn_dict['essential_metrics'] = essential_metrics"
   ]
  },
  {
   "cell_type": "code",
   "execution_count": 3,
   "metadata": {},
   "outputs": [],
   "source": [
    "# model\n",
    "model = Network(5, lr = None)\n",
    "model.add_layer(DenseLayer(1, 4, True, afn=sigmoid, dafn=None, rfn=None))\n",
    "model.add_layer(DenseLayer(2, 3, True, afn=softmax, dafn=None, rfn=None))"
   ]
  },
  {
   "cell_type": "code",
   "execution_count": 4,
   "metadata": {},
   "outputs": [
    {
     "name": "stdout",
     "output_type": "stream",
     "text": [
      "see one see two 2.0 0.5\n"
     ]
    }
   ],
   "source": [
    "pso = PSO(dict(m = 50,\n",
    "    weight_constraint = [-3, 3], \n",
    "    velocity_constraint = [-0.1, 0.1],\n",
    "    c1 = [0.5, 2.0],\n",
    "    c2 = [0.5, 2.0],\n",
    "    w = [0.5, 1.6],\n",
    "    w_decay = 0.95,\n",
    "    scale_hyperparameter = False,\n",
    "    regularizer = l2_regularizer,\n",
    "    mask = True))"
   ]
  },
  {
   "cell_type": "code",
   "execution_count": 5,
   "metadata": {},
   "outputs": [
    {
     "name": "stdout",
     "output_type": "stream",
     "text": [
      "building layer 1 with 5\n",
      "24\n",
      "building layer 2 with 4\n",
      "15\n"
     ]
    }
   ],
   "source": [
    "model.compile(loss_fn = 'categorical_crossentropy', optimizer = pso, \\\n",
    "    metrics = ['accuracy', 'mean_square_error', 'categorical_crossentropy'])"
   ]
  },
  {
   "cell_type": "code",
   "execution_count": 6,
   "metadata": {},
   "outputs": [
    {
     "name": "stdout",
     "output_type": "stream",
     "text": [
      "<class 'pandas.core.frame.DataFrame'>\n",
      "RangeIndex: 107 entries, 0 to 106\n",
      "Data columns (total 6 columns):\n",
      " #   Column  Non-Null Count  Dtype  \n",
      "---  ------  --------------  -----  \n",
      " 0   f1      107 non-null    float32\n",
      " 1   f2      107 non-null    float32\n",
      " 2   f3      107 non-null    float32\n",
      " 3   f4      107 non-null    float32\n",
      " 4   f5      107 non-null    float32\n",
      " 5   label   107 non-null    float32\n",
      "dtypes: float32(6)\n",
      "memory usage: 2.6 KB\n",
      "None\n",
      "<class 'pandas.core.frame.DataFrame'>\n",
      "RangeIndex: 108 entries, 0 to 107\n",
      "Data columns (total 6 columns):\n",
      " #   Column  Non-Null Count  Dtype  \n",
      "---  ------  --------------  -----  \n",
      " 0   f1      108 non-null    float32\n",
      " 1   f2      108 non-null    float32\n",
      " 2   f3      108 non-null    float32\n",
      " 3   f4      108 non-null    float32\n",
      " 4   f5      108 non-null    float32\n",
      " 5   label   108 non-null    float32\n",
      "dtypes: float32(6)\n",
      "memory usage: 2.7 KB\n",
      "None\n"
     ]
    }
   ],
   "source": [
    "# data loading\n",
    "DATA = os.path.join('c:\\\\Users\\\\AI-lab\\\\github_repo\\\\neural-network\\\\', 'dataset')\n",
    "GROUP = 1\n",
    "COLUMNS = ['f1', 'f2', 'f3', 'f4', 'f5', 'label']\n",
    "N_CLASS = 3\n",
    "EPOCHS = 200\n",
    "train_dir, test_dir = \"..//dataset//training_data{}.txt\".format(GROUP), \"..//dataset//testing_data{}.txt\".format(GROUP)\n",
    "train, test = get_data(DATA, train_dir, COLUMNS), get_data(DATA, test_dir, COLUMNS)\n",
    "# shuffle\n",
    "train, test = train.sample(frac=1), test.sample(frac=1)\n",
    "x_train, y_train = train.drop('label', axis=1), train['label']\n",
    "x_test, y_test = test.drop('label', axis=1), test['label']"
   ]
  },
  {
   "cell_type": "code",
   "execution_count": 7,
   "metadata": {},
   "outputs": [],
   "source": [
    "# data scaling and encoding\n",
    "scaler = StandardScaler(['f1', 'f2', 'f3', 'f4', 'f5'])\n",
    "scaler.fit(x_train)\n",
    "x_train = scaler.transform(x_train)\n",
    "x_test = scaler.transform(x_test)\n",
    "y_train = one_hot_encoding(y_train, N_CLASS)\n",
    "y_test = one_hot_encoding(y_test, N_CLASS)"
   ]
  },
  {
   "cell_type": "code",
   "execution_count": 8,
   "metadata": {
    "tags": [
     "outputPrepend"
    ]
   },
   "outputs": [
    {
     "name": "stdout",
     "output_type": "stream",
     "text": [
      "Checkpoint 10, Accuracy: 0.845679012345679, Loss: 0.679271415427879\n",
      "Checkpoint 20, Accuracy: 0.8518518518518519, Loss: 0.6221581918221933\n",
      "Checkpoint 30, Accuracy: 0.8580246913580247, Loss: 0.6508511437310113\n",
      "Checkpoint 40, Accuracy: 0.8888888888888888, Loss: 0.5884389524106626\n",
      "Checkpoint 50, Accuracy: 0.8827160493827161, Loss: 0.5859054282859519\n",
      "Checkpoint 60, Accuracy: 0.8641975308641975, Loss: 0.4949209071971752\n",
      "Checkpoint 70, Accuracy: 0.9012345679012346, Loss: 0.44493675231933594\n",
      "Checkpoint 80, Accuracy: 0.9629629629629629, Loss: 0.4376652682269061\n",
      "Checkpoint 90, Accuracy: 0.9382716049382716, Loss: 0.40568104496708624\n",
      "Checkpoint 100, Accuracy: 0.9567901234567902, Loss: 0.34776073031955296\n",
      "Checkpoint 110, Accuracy: 0.9506172839506173, Loss: 0.3294191007260923\n",
      "Checkpoint 120, Accuracy: 0.9567901234567902, Loss: 0.3266990096480758\n",
      "Checkpoint 130, Accuracy: 0.9567901234567902, Loss: 0.31926434128372755\n",
      "Checkpoint 140, Accuracy: 0.9506172839506173, Loss: 0.3262164151227033\n",
      "Checkpoint 150, Accuracy: 0.9691358024691358, Loss: 0.341715000293873\n",
      "Checkpoint 160, Accuracy: 0.9567901234567902, Loss: 0.3465948458071108\n",
      "Checkpoint 170, Accuracy: 0.9382716049382716, Loss: 0.33335791693793404\n",
      "Checkpoint 180, Accuracy: 0.9382716049382716, Loss: 0.33335791693793404\n",
      "Checkpoint 190, Accuracy: 0.9382716049382716, Loss: 0.33335791693793404\n",
      "Checkpoint 200, Accuracy: 0.9382716049382716, Loss: 0.33335791693793404\n"
     ]
    }
   ],
   "source": [
    "# learning phase\n",
    "breakpoint = 10\n",
    "checkpoints = list()\n",
    "history = list()\n",
    "for century in range(0, EPOCHS, breakpoint):\n",
    "    sub_history = model.fit(x_train, y_train, breakpoint, verbose = 0)\n",
    "    score = model.evaluate(x_test, y_test, False, verbose = 0)\n",
    "    print('Checkpoint {}, Accuracy: {}, Loss: {}'.format(century+breakpoint, score['accuracy'], score[model.loss_fn]))\n",
    "    score['checkpoint'] = century + breakpoint\n",
    "    checkpoints.append(score)\n",
    "    history.extend(sub_history)\n",
    "    itr = century + breakpoint\n",
    "    model.optimizer.c1 = np.max([model.optimizer.C1[1] - ((model.optimizer.C1[1] - model.optimizer.C1[0]) * itr / EPOCHS), model.optimizer.C1[0]])\n",
    "    model.optimizer.c2 = np.min([model.optimizer.C2[0] + ((model.optimizer.C2[1] - model.optimizer.C2[0]) * itr / EPOCHS), model.optimizer.C2[1]])\n",
    "    model.optimizer.w = np.max([model.optimizer.w * model.optimizer.W_Decay, model.optimizer.W[0]])"
   ]
  },
  {
   "cell_type": "code",
   "execution_count": 9,
   "metadata": {},
   "outputs": [],
   "source": [
    "import matplotlib.pyplot as plt\n",
    "\n",
    "def draw_plot(x, y_list, x_label=None, y_label=None, legend=None, title=None):\n",
    "    fig, ax = plt.subplots(figsize=(12,5))\n",
    "    for xi, yi in zip(x, y_list):\n",
    "        ax.plot(xi, yi)\n",
    "    if x_label is not None and y_label is not None:\n",
    "        ax.set(xlabel=x_label, ylabel=y_label, title='{} VS {}'.format(x_label, y_label))\n",
    "    if legend is not None:\n",
    "        ax.legend(legend)\n",
    "    ax.grid()\n",
    "    plt.show()"
   ]
  },
  {
   "cell_type": "code",
   "execution_count": 10,
   "metadata": {},
   "outputs": [],
   "source": [
    "train_acc = [h['accuracy'] for h in history]\n",
    "train_mse = [h['mean_square_error'] for h in history]\n",
    "train_cce = [h['categorical_crossentropy'] for h in history]"
   ]
  },
  {
   "cell_type": "code",
   "execution_count": 11,
   "metadata": {},
   "outputs": [
    {
     "data": {
      "image/png": "[encoded data removed]",
      "text/plain": [
       "<Figure size 864x360 with 1 Axes>"
      ]
     },
     "metadata": {
      "needs_background": "light"
     },
     "output_type": "display_data"
    },
    {
     "data": {
      "image/png": "[encoded data removed]",
      "text/plain": [
       "<Figure size 864x360 with 1 Axes>"
      ]
     },
     "metadata": {
      "needs_background": "light"
     },
     "output_type": "display_data"
    }
   ],
   "source": [
    "draw_plot(x = [[i for i in range(len(history))], [(i+1)*breakpoint for i in range(len(checkpoints))]], y_list = [train_cce, [ ckp[model.loss_fn] for ckp in checkpoints ]], x_label = 'Epochs', \\\n",
    "    y_label = model.loss_fn, legend=['train', 'test'])\n",
    "acc = [ ckp['accuracy'] for ckp in checkpoints ]\n",
    "draw_plot(x = [[i for i in range(len(history))], [(i+1)*breakpoint for i in range(len(checkpoints))]], y_list = [train_acc, acc], x_label = 'Checkpoints', \\\n",
    "    y_label = 'accuracy', legend=['train', 'test'])"
   ]
  },
  {
   "cell_type": "code",
   "execution_count": 12,
   "metadata": {},
   "outputs": [
    {
     "name": "stdout",
     "output_type": "stream",
     "text": [
      "[1. 0. 0.] <-> [0.8319937  0.0948061  0.07320026]\n",
      "[1. 0. 0.] <-> [0.82046044 0.05144626 0.12809339]\n",
      "[1. 0. 0.] <-> [0.7267116  0.21276896 0.06051947]\n",
      "[0. 1. 0.] <-> [0.41738525 0.5553718  0.02724286]\n",
      "[1. 0. 0.] <-> [0.8035999  0.11331885 0.08308126]\n",
      "[1. 0. 0.] <-> [0.83062613 0.09688132 0.07249255]\n",
      "[0. 0. 1.] <-> [0.6856812  0.04029957 0.27401918]\n",
      "[0. 0. 1.] <-> [0.28226006 0.01757606 0.7001639 ]\n",
      "[1. 0. 0.] <-> [0.79312754 0.05657598 0.15029639]\n",
      "[1. 0. 0.] <-> [0.73950607 0.07264742 0.18784645]\n",
      "[1. 0. 0.] <-> [0.8086684  0.1276082  0.06372344]\n",
      "[1. 0. 0.] <-> [0.8005785  0.09343463 0.1059869 ]\n",
      "[1. 0. 0.] <-> [0.82608384 0.05666155 0.11725464]\n",
      "[1. 0. 0.] <-> [0.83698696 0.08573975 0.07727331]\n",
      "[0. 0. 1.] <-> [0.2147759  0.01527894 0.76994514]\n",
      "[1. 0. 0.] <-> [0.7795347  0.16078322 0.05968202]\n",
      "[1. 0. 0.] <-> [0.8212061  0.05799132 0.12080259]\n",
      "[1. 0. 0.] <-> [0.76319355 0.06225417 0.17455228]\n",
      "[1. 0. 0.] <-> [0.74613696 0.20063815 0.05322493]\n",
      "[1. 0. 0.] <-> [0.8245569  0.07236689 0.10307617]\n",
      "[1. 0. 0.] <-> [0.8005744  0.12103696 0.07838859]\n",
      "[0. 1. 0.] <-> [0.54048705 0.42671892 0.03279399]\n",
      "[1. 0. 0.] <-> [0.815403   0.12817086 0.05642618]\n",
      "[0. 0. 1.] <-> [0.26441082 0.01699801 0.7185912 ]\n",
      "[1. 0. 0.] <-> [0.76731247 0.14786512 0.08482244]\n",
      "[1. 0. 0.] <-> [0.7774475  0.11030639 0.11224605]\n",
      "[0. 0. 1.] <-> [0.8032899  0.04314865 0.15356146]\n",
      "[1. 0. 0.] <-> [0.79595155 0.06671714 0.1373313 ]\n",
      "[1. 0. 0.] <-> [0.7470276  0.07226133 0.18071109]\n",
      "[0. 1. 0.] <-> [0.6482484  0.31552923 0.03622236]\n",
      "[1. 0. 0.] <-> [0.770733   0.1681199  0.06114709]\n",
      "[1. 0. 0.] <-> [0.8117159  0.12286925 0.0654148 ]\n",
      "[1. 0. 0.] <-> [0.795631   0.07472757 0.12964147]\n",
      "[1. 0. 0.] <-> [0.78802603 0.08878841 0.12318548]\n",
      "[1. 0. 0.] <-> [0.78382427 0.14166924 0.0745065 ]\n",
      "[1. 0. 0.] <-> [0.7804833  0.13750738 0.08200932]\n",
      "[1. 0. 0.] <-> [0.7575235  0.1075017  0.13497491]\n",
      "[0. 1. 0.] <-> [0.6468052  0.3048364  0.04835838]\n",
      "[1. 0. 0.] <-> [0.7701905  0.04927766 0.18053187]\n",
      "[1. 0. 0.] <-> [0.82412696 0.0676283  0.10824472]\n",
      "[1. 0. 0.] <-> [0.7811371  0.08847335 0.13038947]\n",
      "[0. 1. 0.] <-> [0.48959804 0.47939488 0.03100711]\n",
      "[1. 0. 0.] <-> [0.8409291  0.08049554 0.07857537]\n",
      "[0. 0. 1.] <-> [0.25436616 0.02415066 0.7214831 ]\n",
      "[1. 0. 0.] <-> [0.8101889  0.07574996 0.11406112]\n",
      "[0. 1. 0.] <-> [0.67653555 0.28414136 0.03932307]\n",
      "[1. 0. 0.] <-> [0.6930886  0.04729856 0.25961283]\n",
      "[1. 0. 0.] <-> [0.83061653 0.10205911 0.06732433]\n",
      "[1. 0. 0.] <-> [0.7798936  0.10231505 0.1177914 ]\n",
      "[1. 0. 0.] <-> [0.8305212  0.10552855 0.06395021]\n",
      "[0. 0. 1.] <-> [0.2991968  0.01896019 0.681843  ]\n",
      "[1. 0. 0.] <-> [0.824289   0.0974806  0.07823038]\n",
      "[1. 0. 0.] <-> [0.5345109  0.04231145 0.42317763]\n",
      "[0. 1. 0.] <-> [0.2237437  0.7653156  0.01094068]\n",
      "[1. 0. 0.] <-> [0.6854595  0.272155   0.04238551]\n",
      "[0. 1. 0.] <-> [0.22833939 0.75972384 0.01193679]\n",
      "[1. 0. 0.] <-> [0.78964424 0.1436845  0.06667127]\n",
      "[1. 0. 0.] <-> [0.8142461  0.1090735  0.07668035]\n",
      "[1. 0. 0.] <-> [0.79743695 0.11559603 0.08696703]\n",
      "[1. 0. 0.] <-> [0.8083279  0.11548791 0.07618424]\n",
      "[1. 0. 0.] <-> [0.8240569  0.0583621  0.11758087]\n",
      "[0. 0. 1.] <-> [0.23704907 0.01373527 0.74921566]\n",
      "[0. 0. 1.] <-> [0.22398233 0.01343619 0.76258147]\n",
      "[1. 0. 0.] <-> [0.781891   0.11255658 0.10555244]\n",
      "[1. 0. 0.] <-> [0.7878798  0.05622926 0.15589082]\n",
      "[0. 0. 1.] <-> [0.21730757 0.01243345 0.77025896]\n",
      "[1. 0. 0.] <-> [0.8337405  0.05679005 0.10946947]\n",
      "[1. 0. 0.] <-> [0.7982537  0.14338273 0.05836357]\n",
      "[1. 0. 0.] <-> [0.8089582  0.07698099 0.11406081]\n",
      "[0. 0. 1.] <-> [0.22315493 0.01441923 0.76242584]\n",
      "[1. 0. 0.] <-> [0.8161078  0.08291986 0.10097232]\n",
      "[1. 0. 0.] <-> [0.7705146  0.16965637 0.05982901]\n",
      "[1. 0. 0.] <-> [0.8346168  0.05974289 0.10564028]\n",
      "[1. 0. 0.] <-> [0.7428073  0.21077818 0.04641452]\n",
      "[1. 0. 0.] <-> [0.82119477 0.09667601 0.08212917]\n",
      "[0. 0. 1.] <-> [0.21699324 0.0126347  0.77037203]\n",
      "[1. 0. 0.] <-> [0.7441357  0.06775258 0.18811175]\n",
      "[1. 0. 0.] <-> [0.779262   0.0932445  0.12749356]\n",
      "[1. 0. 0.] <-> [0.7776551  0.16733976 0.05500505]\n",
      "[1. 0. 0.] <-> [0.8251073  0.0972083  0.07768451]\n",
      "[1. 0. 0.] <-> [0.81213677 0.06614928 0.12171386]\n",
      "[1. 0. 0.] <-> [0.8549892  0.07358976 0.07142106]\n",
      "[0. 1. 0.] <-> [0.31347832 0.6692065  0.01731517]\n",
      "[1. 0. 0.] <-> [0.80785114 0.11598963 0.07615932]\n",
      "[1. 0. 0.] <-> [0.84274334 0.05901561 0.09824111]\n",
      "[1. 0. 0.] <-> [0.807722   0.0965521  0.09572592]\n",
      "[1. 0. 0.] <-> [0.8116548  0.1346107  0.05373452]\n",
      "[0. 1. 0.] <-> [0.2733773  0.71125084 0.01537189]\n",
      "[0. 1. 0.] <-> [0.51430523 0.4472218  0.03847298]\n",
      "[1. 0. 0.] <-> [0.83983356 0.08445068 0.07571568]\n",
      "[1. 0. 0.] <-> [0.8386911  0.07231791 0.08899099]\n",
      "[1. 0. 0.] <-> [0.7554904  0.19396713 0.05054247]\n",
      "[1. 0. 0.] <-> [0.7311242  0.06549715 0.20337869]\n",
      "[1. 0. 0.] <-> [0.8251688  0.08848497 0.08634628]\n",
      "[1. 0. 0.] <-> [0.8054059  0.10007302 0.09452111]\n",
      "[1. 0. 0.] <-> [0.8117285  0.09719746 0.09107415]\n",
      "[1. 0. 0.] <-> [0.7979296  0.09448955 0.10758085]\n",
      "[1. 0. 0.] <-> [0.84655243 0.05622626 0.09722129]\n",
      "[1. 0. 0.] <-> [0.7899111  0.14961618 0.06047267]\n",
      "[0. 1. 0.] <-> [0.31166944 0.66914    0.01919053]\n",
      "[0. 1. 0.] <-> [0.5957655  0.37028578 0.0339488 ]\n",
      "[1. 0. 0.] <-> [0.83148783 0.07021929 0.0982929 ]\n",
      "[0. 1. 0.] <-> [0.4386702  0.53701156 0.02431826]\n",
      "[1. 0. 0.] <-> [0.7019335  0.05525288 0.24281365]\n",
      "[1. 0. 0.] <-> [0.78928804 0.05888801 0.15182395]\n",
      "[0. 0. 1.] <-> [0.56127244 0.04036878 0.39835873]\n",
      "[1. 0. 0.] <-> [0.79593074 0.08672571 0.11734354]\n",
      "[0. 1. 0.] <-> [0.22579654 0.76268756 0.01151598]\n",
      "{'accuracy': 0.9382716049382716, 'mean_square_error': 0.15707601811013094, 'categorical_crossentropy': 0.33335791693793404, 'essential_metrics': {0: {'tp_hit': 80, 'fp_hit': 10, 'tn_hit': 18, 'fn_hit': 0}, 1: {'tp_hit': 8, 'fp_hit': 0, 'tn_hit': 93, 'fn_hit': 7}, 2: {'tp_hit': 10, 'fp_hit': 0, 'tn_hit': 95, 'fn_hit': 3}}}\n"
     ]
    }
   ],
   "source": [
    "# recall phase\n",
    "score = model.evaluate(x_test, y_test, False)\n",
    "print(score)"
   ]
  },
  {
   "cell_type": "code",
   "execution_count": 13,
   "metadata": {},
   "outputs": [
    {
     "name": "stdout",
     "output_type": "stream",
     "text": [
      "{'accuracy': 0.845679012345679, 'mean_square_error': 0.40461493608956106, 'categorical_crossentropy': 0.679271415427879, 'essential_metrics': {0: {'tp_hit': 80, 'fp_hit': 25, 'tn_hit': 3, 'fn_hit': 0}, 1: {'tp_hit': 1, 'fp_hit': 0, 'tn_hit': 93, 'fn_hit': 14}, 2: {'tp_hit': 2, 'fp_hit': 0, 'tn_hit': 95, 'fn_hit': 11}}, 'checkpoint': 10} \n",
      "\n",
      "\n",
      "{'accuracy': 0.8518518518518519, 'mean_square_error': 0.3588085615297586, 'categorical_crossentropy': 0.6221581918221933, 'essential_metrics': {0: {'tp_hit': 80, 'fp_hit': 24, 'tn_hit': 4, 'fn_hit': 0}, 1: {'tp_hit': 0, 'fp_hit': 0, 'tn_hit': 93, 'fn_hit': 15}, 2: {'tp_hit': 4, 'fp_hit': 0, 'tn_hit': 95, 'fn_hit': 9}}, 'checkpoint': 20} \n",
      "\n",
      "\n",
      "{'accuracy': 0.8580246913580247, 'mean_square_error': 0.3490058804859237, 'categorical_crossentropy': 0.6508511437310113, 'essential_metrics': {0: {'tp_hit': 80, 'fp_hit': 23, 'tn_hit': 5, 'fn_hit': 0}, 1: {'tp_hit': 0, 'fp_hit': 0, 'tn_hit': 93, 'fn_hit': 15}, 2: {'tp_hit': 5, 'fp_hit': 0, 'tn_hit': 95, 'fn_hit': 8}}, 'checkpoint': 30} \n",
      "\n",
      "\n",
      "{'accuracy': 0.8888888888888888, 'mean_square_error': 0.31637339515098123, 'categorical_crossentropy': 0.5884389524106626, 'essential_metrics': {0: {'tp_hit': 79, 'fp_hit': 17, 'tn_hit': 11, 'fn_hit': 1}, 1: {'tp_hit': 0, 'fp_hit': 0, 'tn_hit': 93, 'fn_hit': 15}, 2: {'tp_hit': 11, 'fp_hit': 1, 'tn_hit': 94, 'fn_hit': 2}}, 'checkpoint': 40} \n",
      "\n",
      "\n",
      "{'accuracy': 0.8827160493827161, 'mean_square_error': 0.3252821226024282, 'categorical_crossentropy': 0.5859054282859519, 'essential_metrics': {0: {'tp_hit': 77, 'fp_hit': 16, 'tn_hit': 12, 'fn_hit': 3}, 1: {'tp_hit': 0, 'fp_hit': 0, 'tn_hit': 93, 'fn_hit': 15}, 2: {'tp_hit': 12, 'fp_hit': 3, 'tn_hit': 92, 'fn_hit': 1}}, 'checkpoint': 50} \n",
      "\n",
      "\n",
      "{'accuracy': 0.8641975308641975, 'mean_square_error': 0.2711098236813753, 'categorical_crossentropy': 0.4949209071971752, 'essential_metrics': {0: {'tp_hit': 80, 'fp_hit': 22, 'tn_hit': 6, 'fn_hit': 0}, 1: {'tp_hit': 6, 'fp_hit': 0, 'tn_hit': 93, 'fn_hit': 9}, 2: {'tp_hit': 0, 'fp_hit': 0, 'tn_hit': 95, 'fn_hit': 13}}, 'checkpoint': 60} \n",
      "\n",
      "\n",
      "{'accuracy': 0.9012345679012346, 'mean_square_error': 0.24094917953702458, 'categorical_crossentropy': 0.44493675231933594, 'essential_metrics': {0: {'tp_hit': 80, 'fp_hit': 16, 'tn_hit': 12, 'fn_hit': 0}, 1: {'tp_hit': 4, 'fp_hit': 0, 'tn_hit': 93, 'fn_hit': 11}, 2: {'tp_hit': 8, 'fp_hit': 0, 'tn_hit': 95, 'fn_hit': 5}}, 'checkpoint': 70} \n",
      "\n",
      "\n",
      "{'accuracy': 0.9629629629629629, 'mean_square_error': 0.21274295456054002, 'categorical_crossentropy': 0.4376652682269061, 'essential_metrics': {0: {'tp_hit': 80, 'fp_hit': 6, 'tn_hit': 22, 'fn_hit': 0}, 1: {'tp_hit': 12, 'fp_hit': 0, 'tn_hit': 93, 'fn_hit': 3}, 2: {'tp_hit': 10, 'fp_hit': 0, 'tn_hit': 95, 'fn_hit': 3}}, 'checkpoint': 80} \n",
      "\n",
      "\n",
      "{'accuracy': 0.9382716049382716, 'mean_square_error': 0.2003392880288981, 'categorical_crossentropy': 0.40568104496708624, 'essential_metrics': {0: {'tp_hit': 80, 'fp_hit': 10, 'tn_hit': 18, 'fn_hit': 0}, 1: {'tp_hit': 8, 'fp_hit': 0, 'tn_hit': 93, 'fn_hit': 7}, 2: {'tp_hit': 10, 'fp_hit': 0, 'tn_hit': 95, 'fn_hit': 3}}, 'checkpoint': 90} \n",
      "\n",
      "\n",
      "{'accuracy': 0.9567901234567902, 'mean_square_error': 0.16363768934479148, 'categorical_crossentropy': 0.34776073031955296, 'essential_metrics': {0: {'tp_hit': 80, 'fp_hit': 7, 'tn_hit': 21, 'fn_hit': 0}, 1: {'tp_hit': 11, 'fp_hit': 0, 'tn_hit': 93, 'fn_hit': 4}, 2: {'tp_hit': 10, 'fp_hit': 0, 'tn_hit': 95, 'fn_hit': 3}}, 'checkpoint': 100} \n",
      "\n",
      "\n",
      "{'accuracy': 0.9506172839506173, 'mean_square_error': 0.15743562924510737, 'categorical_crossentropy': 0.3294191007260923, 'essential_metrics': {0: {'tp_hit': 80, 'fp_hit': 8, 'tn_hit': 20, 'fn_hit': 0}, 1: {'tp_hit': 10, 'fp_hit': 0, 'tn_hit': 93, 'fn_hit': 5}, 2: {'tp_hit': 10, 'fp_hit': 0, 'tn_hit': 95, 'fn_hit': 3}}, 'checkpoint': 110} \n",
      "\n",
      "\n",
      "{'accuracy': 0.9567901234567902, 'mean_square_error': 0.1470688392691158, 'categorical_crossentropy': 0.3266990096480758, 'essential_metrics': {0: {'tp_hit': 80, 'fp_hit': 7, 'tn_hit': 21, 'fn_hit': 0}, 1: {'tp_hit': 11, 'fp_hit': 0, 'tn_hit': 93, 'fn_hit': 4}, 2: {'tp_hit': 10, 'fp_hit': 0, 'tn_hit': 95, 'fn_hit': 3}}, 'checkpoint': 120} \n",
      "\n",
      "\n",
      "{'accuracy': 0.9567901234567902, 'mean_square_error': 0.14804272930021747, 'categorical_crossentropy': 0.31926434128372755, 'essential_metrics': {0: {'tp_hit': 80, 'fp_hit': 7, 'tn_hit': 21, 'fn_hit': 0}, 1: {'tp_hit': 11, 'fp_hit': 0, 'tn_hit': 93, 'fn_hit': 4}, 2: {'tp_hit': 10, 'fp_hit': 0, 'tn_hit': 95, 'fn_hit': 3}}, 'checkpoint': 130} \n",
      "\n",
      "\n",
      "{'accuracy': 0.9506172839506173, 'mean_square_error': 0.1509071756534411, 'categorical_crossentropy': 0.3262164151227033, 'essential_metrics': {0: {'tp_hit': 80, 'fp_hit': 8, 'tn_hit': 20, 'fn_hit': 0}, 1: {'tp_hit': 10, 'fp_hit': 0, 'tn_hit': 93, 'fn_hit': 5}, 2: {'tp_hit': 10, 'fp_hit': 0, 'tn_hit': 95, 'fn_hit': 3}}, 'checkpoint': 140} \n",
      "\n",
      "\n",
      "{'accuracy': 0.9691358024691358, 'mean_square_error': 0.1551564835948385, 'categorical_crossentropy': 0.341715000293873, 'essential_metrics': {0: {'tp_hit': 80, 'fp_hit': 5, 'tn_hit': 23, 'fn_hit': 0}, 1: {'tp_hit': 13, 'fp_hit': 0, 'tn_hit': 93, 'fn_hit': 2}, 2: {'tp_hit': 10, 'fp_hit': 0, 'tn_hit': 95, 'fn_hit': 3}}, 'checkpoint': 150} \n",
      "\n",
      "\n",
      "{'accuracy': 0.9567901234567902, 'mean_square_error': 0.1601550535545941, 'categorical_crossentropy': 0.3465948458071108, 'essential_metrics': {0: {'tp_hit': 80, 'fp_hit': 7, 'tn_hit': 21, 'fn_hit': 0}, 1: {'tp_hit': 11, 'fp_hit': 0, 'tn_hit': 93, 'fn_hit': 4}, 2: {'tp_hit': 10, 'fp_hit': 0, 'tn_hit': 95, 'fn_hit': 3}}, 'checkpoint': 160} \n",
      "\n",
      "\n",
      "{'accuracy': 0.9382716049382716, 'mean_square_error': 0.15707601811013094, 'categorical_crossentropy': 0.33335791693793404, 'essential_metrics': {0: {'tp_hit': 80, 'fp_hit': 10, 'tn_hit': 18, 'fn_hit': 0}, 1: {'tp_hit': 8, 'fp_hit': 0, 'tn_hit': 93, 'fn_hit': 7}, 2: {'tp_hit': 10, 'fp_hit': 0, 'tn_hit': 95, 'fn_hit': 3}}, 'checkpoint': 170} \n",
      "\n",
      "\n",
      "{'accuracy': 0.9382716049382716, 'mean_square_error': 0.15707601811013094, 'categorical_crossentropy': 0.33335791693793404, 'essential_metrics': {0: {'tp_hit': 80, 'fp_hit': 10, 'tn_hit': 18, 'fn_hit': 0}, 1: {'tp_hit': 8, 'fp_hit': 0, 'tn_hit': 93, 'fn_hit': 7}, 2: {'tp_hit': 10, 'fp_hit': 0, 'tn_hit': 95, 'fn_hit': 3}}, 'checkpoint': 180} \n",
      "\n",
      "\n",
      "{'accuracy': 0.9382716049382716, 'mean_square_error': 0.15707601811013094, 'categorical_crossentropy': 0.33335791693793404, 'essential_metrics': {0: {'tp_hit': 80, 'fp_hit': 10, 'tn_hit': 18, 'fn_hit': 0}, 1: {'tp_hit': 8, 'fp_hit': 0, 'tn_hit': 93, 'fn_hit': 7}, 2: {'tp_hit': 10, 'fp_hit': 0, 'tn_hit': 95, 'fn_hit': 3}}, 'checkpoint': 190} \n",
      "\n",
      "\n",
      "{'accuracy': 0.9382716049382716, 'mean_square_error': 0.15707601811013094, 'categorical_crossentropy': 0.33335791693793404, 'essential_metrics': {0: {'tp_hit': 80, 'fp_hit': 10, 'tn_hit': 18, 'fn_hit': 0}, 1: {'tp_hit': 8, 'fp_hit': 0, 'tn_hit': 93, 'fn_hit': 7}, 2: {'tp_hit': 10, 'fp_hit': 0, 'tn_hit': 95, 'fn_hit': 3}}, 'checkpoint': 200} \n",
      "\n",
      "\n"
     ]
    }
   ],
   "source": [
    "for checkpoint in checkpoints:\n",
    "    print(checkpoint, '\\n\\n')"
   ]
  },
  {
   "cell_type": "code",
   "execution_count": 14,
   "metadata": {},
   "outputs": [
    {
     "name": "stdout",
     "output_type": "stream",
     "text": [
      "Layer 1\n",
      "Neuron 0: weights:\n",
      "[-0.27826935  0.5539122   0.0480062  -0.8575927  -0.89741325]\n",
      " bias: 0.6121562123298645\n",
      "\n",
      "Neuron 1: weights:\n",
      "[-0.38645875  0.87806666  0.39398777  0.12378576 -0.46533033]\n",
      " bias: -0.3341049253940582\n",
      "\n",
      "Neuron 2: weights:\n",
      "[ 0.34426847 -0.7050461  -0.03993966  0.8576093   0.8697849 ]\n",
      " bias: -0.6713745594024658\n",
      "\n",
      "Neuron 3: weights:\n",
      "[ 0.64789134 -1.2444853  -0.77803147 -0.45251346  0.14029165]\n",
      " bias: 0.7753155827522278\n",
      "\n",
      "$\n",
      "Layer 2\n",
      "Neuron 0: weights:\n",
      "[ 0.83609444 -0.5240187  -0.7385916   1.234766  ]\n",
      " bias: 0.3585689961910248\n",
      "\n",
      "Neuron 1: weights:\n",
      "[ 0.4269345   1.4506707  -0.46471316 -1.7277246 ]\n",
      " bias: 0.07230211794376373\n",
      "\n",
      "Neuron 2: weights:\n",
      "[-1.6587552  -0.72522926  1.7882245   0.45013648]\n",
      " bias: -0.14158731698989868\n",
      "\n",
      "$\n",
      "\n"
     ]
    }
   ],
   "source": [
    "print(model)"
   ]
  }
 ],
 "metadata": {
  "kernelspec": {
   "display_name": "Python 3",
   "language": "python",
   "name": "python3"
  },
  "language_info": {
   "codemirror_mode": {
    "name": "ipython",
    "version": 3
   },
   "file_extension": ".py",
   "mimetype": "text/x-python",
   "name": "python",
   "nbconvert_exporter": "python",
   "pygments_lexer": "ipython3",
   "version": "3.6.12"
  }
 },
 "nbformat": 4,
 "nbformat_minor": 2
}
