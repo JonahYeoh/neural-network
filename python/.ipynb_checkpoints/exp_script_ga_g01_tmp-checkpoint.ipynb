{
 "cells": [
  {
   "cell_type": "code",
   "execution_count": 1,
   "metadata": {},
   "outputs": [],
   "source": [
    "# two"
   ]
  },
  {
   "cell_type": "code",
   "execution_count": 2,
   "metadata": {},
   "outputs": [],
   "source": [
    "# dependency\n",
    "import numpy as np\n",
    "import pandas as pd\n",
    "import copy\n",
    "import math\n",
    "import sys\n",
    "import os\n",
    "from activations import relu, leaky_relu, sigmoid, tanh, softmax, d_sigmoid, d_relu\n",
    "from initializers import glorot_uniform, random_normal, random_uniform\n",
    "from regularizers import l1_regularizer, l2_regularizer\n",
    "from utility import trim_tail, multiply, subtract, get_nparams, one_hot_encoding, get_data\n",
    "from metrics import MSE, CCE, ACC, PRECISION, RECALL, essential_metrics, wondering_penalty, close_gap_penalty\n",
    "from pso import PSO\n",
    "from ga import GA\n",
    "from nn import Network\n",
    "from layer import DenseLayer\n",
    "from scalers import MinMaxScaler, StandardScaler"
   ]
  },
  {
   "cell_type": "code",
   "execution_count": 3,
   "metadata": {},
   "outputs": [],
   "source": [
    "# reference\n",
    "metrics_fn_dict = dict()\n",
    "metrics_fn_dict['accuracy'] = ACC\n",
    "metrics_fn_dict['categorical_crossentropy'] = CCE\n",
    "metrics_fn_dict['mean_square_error'] = MSE\n",
    "metrics_fn_dict['precision'] = PRECISION\n",
    "metrics_fn_dict['recall'] = RECALL\n",
    "metrics_fn_dict['essential_metrics'] = essential_metrics"
   ]
  },
  {
   "cell_type": "code",
   "execution_count": 4,
   "metadata": {},
   "outputs": [],
   "source": [
    "# model\n",
    "model = Network(5, lr = None)\n",
    "model.add_layer(DenseLayer(1, 4, True, afn=sigmoid, dafn=None, rfn=None))\n",
    "model.add_layer(DenseLayer(2, 3, True, afn=softmax, dafn=None, rfn=None))"
   ]
  },
  {
   "cell_type": "code",
   "execution_count": 5,
   "metadata": {},
   "outputs": [],
   "source": [
    "# optimizer\n",
    "ga = GA(\n",
    "    dict(\n",
    "        m = 200,\n",
    "        x_rate = [0.5, 1.0],\n",
    "        m_rate = [0.5, 1.0],\n",
    "        weight_constraint = [-3.,3.],\n",
    "        radioactive_rating = [0.1, 0.5],\n",
    "        grow_factor = [0.1, 0.5],\n",
    "        scale_hyperparameter = False,\n",
    "        regularizer = l1_regularizer))"
   ]
  },
  {
   "cell_type": "code",
   "execution_count": 6,
   "metadata": {},
   "outputs": [
    {
     "name": "stdout",
     "output_type": "stream",
     "text": [
      "building layer 1 with 5\n",
      "24\n",
      "building layer 2 with 4\n",
      "15\n"
     ]
    }
   ],
   "source": [
    "model.compile(loss_fn = 'categorical_crossentropy', optimizer = ga, \\\n",
    "    metrics = ['accuracy', 'mean_square_error', 'categorical_crossentropy'])"
   ]
  },
  {
   "cell_type": "code",
   "execution_count": 7,
   "metadata": {},
   "outputs": [
    {
     "name": "stdout",
     "output_type": "stream",
     "text": [
      "<class 'pandas.core.frame.DataFrame'>\n",
      "RangeIndex: 107 entries, 0 to 106\n",
      "Data columns (total 6 columns):\n",
      " #   Column  Non-Null Count  Dtype  \n",
      "---  ------  --------------  -----  \n",
      " 0   f1      107 non-null    float32\n",
      " 1   f2      107 non-null    float32\n",
      " 2   f3      107 non-null    float32\n",
      " 3   f4      107 non-null    float32\n",
      " 4   f5      107 non-null    float32\n",
      " 5   label   107 non-null    float32\n",
      "dtypes: float32(6)\n",
      "memory usage: 2.6 KB\n",
      "None\n",
      "<class 'pandas.core.frame.DataFrame'>\n",
      "RangeIndex: 108 entries, 0 to 107\n",
      "Data columns (total 6 columns):\n",
      " #   Column  Non-Null Count  Dtype  \n",
      "---  ------  --------------  -----  \n",
      " 0   f1      108 non-null    float32\n",
      " 1   f2      108 non-null    float32\n",
      " 2   f3      108 non-null    float32\n",
      " 3   f4      108 non-null    float32\n",
      " 4   f5      108 non-null    float32\n",
      " 5   label   108 non-null    float32\n",
      "dtypes: float32(6)\n",
      "memory usage: 2.7 KB\n",
      "None\n"
     ]
    }
   ],
   "source": [
    "# data loading\n",
    "DATA = os.path.join('c:\\\\Users\\\\tcumi\\\\github_repo\\\\neural-network\\\\', 'dataset')\n",
    "GROUP = 3\n",
    "COLUMNS = ['f1', 'f2', 'f3', 'f4', 'f5', 'label']\n",
    "N_CLASS = 3\n",
    "EPOCHS = 500\n",
    "train_dir, test_dir = \"..//dataset//training_data{}.txt\".format(GROUP), \"..//dataset//testing_data{}.txt\".format(GROUP)\n",
    "train, test = get_data(DATA, train_dir, COLUMNS), get_data(DATA, test_dir, COLUMNS)\n",
    "# shuffle\n",
    "train, test = train.sample(frac=1), test.sample(frac=1)\n",
    "x_train, y_train = train.drop('label', axis=1), train['label']\n",
    "x_test, y_test = test.drop('label', axis=1), test['label']"
   ]
  },
  {
   "cell_type": "code",
   "execution_count": 8,
   "metadata": {},
   "outputs": [],
   "source": [
    "# data scaling and encoding\n",
    "scaler = StandardScaler(['f1', 'f2', 'f3', 'f4', 'f5'])\n",
    "scaler.fit(x_train)\n",
    "x_train = scaler.transform(x_train)\n",
    "x_test = scaler.transform(x_test)\n",
    "y_train = one_hot_encoding(y_train, N_CLASS)\n",
    "y_test = one_hot_encoding(y_test, N_CLASS)"
   ]
  },
  {
   "cell_type": "code",
   "execution_count": 9,
   "metadata": {
    "scrolled": true,
    "tags": [
     "outputPrepend"
    ]
   },
   "outputs": [
    {
     "name": "stderr",
     "output_type": "stream",
     "text": [
      "C:\\Users\\tcumi\\Anaconda3\\envs\\py_3_6\\lib\\site-packages\\numpy\\core\\fromnumeric.py:87: VisibleDeprecationWarning: Creating an ndarray from ragged nested sequences (which is a list-or-tuple of lists-or-tuples-or ndarrays with different lengths or shapes) is deprecated. If you meant to do this, you must specify 'dtype=object' when creating the ndarray\n",
      "  return ufunc.reduce(obj, axis, dtype, out, **passkwargs)\n",
      "C:\\Users\\tcumi\\github_repo\\neural-network\\python\\ga.py:201: RuntimeWarning: overflow encountered in add\n",
      "  self.population.sort(key=lambda p: p.fitness + np.random.uniform(-shift, shift, 1), reverse = self.aim)\n",
      "C:\\Users\\tcumi\\Anaconda3\\envs\\py_3_6\\lib\\site-packages\\numpy\\core\\_asarray.py:136: VisibleDeprecationWarning: Creating an ndarray from ragged nested sequences (which is a list-or-tuple of lists-or-tuples-or ndarrays with different lengths or shapes) is deprecated. If you meant to do this, you must specify 'dtype=object' when creating the ndarray\n",
      "  return array(a, dtype, copy=False, order=order, subok=True)\n"
     ]
    },
    {
     "name": "stdout",
     "output_type": "stream",
     "text": [
      "Checkpoint 50, Accuracy: 0.8765432098765432, Loss: 0.5053721533881294\n",
      "Checkpoint 100, Accuracy: 0.8827160493827161, Loss: 0.5001499741165726\n",
      "Checkpoint 150, Accuracy: 0.8888888888888888, Loss: 0.46873018476698136\n",
      "Checkpoint 200, Accuracy: 0.8827160493827161, Loss: 0.4371074040730794\n",
      "Checkpoint 250, Accuracy: 0.8950617283950617, Loss: 0.40753007818151404\n",
      "Checkpoint 300, Accuracy: 0.8950617283950617, Loss: 0.40708389988651983\n",
      "Checkpoint 350, Accuracy: 0.8950617283950617, Loss: 0.40393815217194734\n",
      "Checkpoint 400, Accuracy: 0.8950617283950617, Loss: 0.3958267635769314\n",
      "Checkpoint 450, Accuracy: 0.8950617283950617, Loss: 0.3927899819833261\n",
      "Checkpoint 500, Accuracy: 0.8950617283950617, Loss: 0.3897104969731084\n"
     ]
    }
   ],
   "source": [
    "# learning phase\n",
    "breakpoint = 50\n",
    "checkpoints = list()\n",
    "history = list()\n",
    "for century in range(0, EPOCHS, breakpoint):\n",
    "    sub_history = model.fit(x_train, y_train, breakpoint, verbose = 0)\n",
    "    score = model.evaluate(x_test, y_test, False, verbose = 0)\n",
    "    print('Checkpoint {}, Accuracy: {}, Loss: {}'.format(century+breakpoint, score['accuracy'], score[model.loss_fn]))\n",
    "    score['checkpoint'] = century + breakpoint\n",
    "    checkpoints.append(score)\n",
    "    history.extend(sub_history)\n",
    "    itr = century + breakpoint\n",
    "\n",
    "    model.optimizer.rr = model.optimizer.radioactive_rating[1] - (model.optimizer.radioactive_rating[1] - model.optimizer.radioactive_rating[0]) / EPOCHS * (EPOCHS - itr)\n",
    "    model.optimizer.gf = model.optimizer.grow_factor[1] - (model.optimizer.grow_factor[1] - model.optimizer.grow_factor[0]) / EPOCHS * (EPOCHS - itr)\n",
    "    model.optimizer.crossover_rate = model.optimizer.x_rate[1] - (model.optimizer.x_rate[1] - model.optimizer.x_rate[0]) / EPOCHS * (EPOCHS - itr)\n",
    "    model.optimizer.mutation_rate = model.optimizer.m_rate[0] + (model.optimizer.m_rate[1] - model.optimizer.m_rate[0]) / EPOCHS * (EPOCHS - itr)\n",
    "    "
   ]
  },
  {
   "cell_type": "code",
   "execution_count": 10,
   "metadata": {},
   "outputs": [],
   "source": [
    "import matplotlib.pyplot as plt\n",
    "\n",
    "def draw_plot(x, y_list, x_label=None, y_label=None, legend=None, title=None):\n",
    "    fig, ax = plt.subplots(figsize=(12,5))\n",
    "    for xi, yi in zip(x, y_list):\n",
    "        ax.plot(xi, yi)\n",
    "    if x_label is not None and y_label is not None:\n",
    "        ax.set(xlabel=x_label, ylabel=y_label, title='{} VS {}'.format(x_label, y_label))\n",
    "    if legend is not None:\n",
    "        ax.legend(legend)\n",
    "    ax.grid()\n",
    "    plt.show()"
   ]
  },
  {
   "cell_type": "code",
   "execution_count": 11,
   "metadata": {},
   "outputs": [
    {
     "name": "stdout",
     "output_type": "stream",
     "text": [
      "[1. 0. 0.] <-> [0.8182583 0.1090265 0.0727152]\n",
      "[1. 0. 0.] <-> [0.840253   0.04001982 0.11972715]\n",
      "[1. 0. 0.] <-> [0.66694486 0.22382204 0.10923313]\n",
      "[1. 0. 0.] <-> [0.8096536  0.12496782 0.06537855]\n",
      "[0. 0. 1.] <-> [0.6162918  0.02487471 0.3588335 ]\n",
      "[1. 0. 0.] <-> [0.70255303 0.24268709 0.05475992]\n",
      "[0. 1. 0.] <-> [0.4625166  0.50524205 0.03224137]\n",
      "[1. 0. 0.] <-> [0.79168105 0.13405569 0.0742632 ]\n",
      "[1. 0. 0.] <-> [0.85027164 0.06027143 0.08945695]\n",
      "[1. 0. 0.] <-> [0.8101142  0.08142433 0.10846154]\n",
      "[0. 1. 0.] <-> [0.23553987 0.74465    0.01981013]\n",
      "[1. 0. 0.] <-> [0.8352372  0.10959367 0.05516917]\n",
      "[1. 0. 0.] <-> [0.78082263 0.15301074 0.06616659]\n",
      "[1. 0. 0.] <-> [0.804906   0.11206499 0.08302901]\n",
      "[0. 0. 1.] <-> [0.5996832  0.02447541 0.3758413 ]\n",
      "[1. 0. 0.] <-> [0.87145567 0.04391349 0.08463084]\n",
      "[1. 0. 0.] <-> [0.83606964 0.09013326 0.07379703]\n",
      "[1. 0. 0.] <-> [0.8512731  0.08724762 0.0614792 ]\n",
      "[1. 0. 0.] <-> [0.76631093 0.1397238  0.09396535]\n",
      "[1. 0. 0.] <-> [0.8585224  0.06808334 0.07339422]\n",
      "[1. 0. 0.] <-> [0.84997594 0.03988225 0.11014182]\n",
      "[1. 0. 0.] <-> [0.825969   0.11008637 0.06394462]\n",
      "[1. 0. 0.] <-> [0.8670395  0.04460892 0.08835157]\n",
      "[1. 0. 0.] <-> [0.8277801  0.09027342 0.08194648]\n",
      "[0. 1. 0.] <-> [0.552002   0.40187404 0.04612396]\n",
      "[1. 0. 0.] <-> [0.8266829  0.06867243 0.10464463]\n",
      "[1. 0. 0.] <-> [0.83603394 0.08308598 0.08088014]\n",
      "[1. 0. 0.] <-> [0.73639345 0.1780966  0.08550997]\n",
      "[1. 0. 0.] <-> [0.8612089  0.06495215 0.0738389 ]\n",
      "[1. 0. 0.] <-> [0.76945287 0.08563727 0.14490987]\n",
      "[0. 0. 1.] <-> [0.63002944 0.02396327 0.34600723]\n",
      "[1. 0. 0.] <-> [0.72462296 0.21704517 0.05833191]\n",
      "[1. 0. 0.] <-> [0.8296932  0.06368625 0.10662047]\n",
      "[1. 0. 0.] <-> [0.8605738  0.05962513 0.07980109]\n",
      "[0. 0. 1.] <-> [0.85078216 0.03083055 0.11838732]\n",
      "[0. 1. 0.] <-> [0.6023062  0.35985592 0.0378379 ]\n",
      "[1. 0. 0.] <-> [0.82401615 0.08717042 0.08881339]\n",
      "[1. 0. 0.] <-> [0.7653701  0.15829784 0.07633214]\n",
      "[1. 0. 0.] <-> [0.8608915  0.04563335 0.09347505]\n",
      "[0. 0. 1.] <-> [0.63964546 0.05435666 0.30599782]\n",
      "[0. 0. 1.] <-> [0.27311018 0.11739254 0.6094973 ]\n",
      "[1. 0. 0.] <-> [0.81594354 0.10963427 0.0744222 ]\n",
      "[1. 0. 0.] <-> [0.8075345  0.10139566 0.09106987]\n",
      "[1. 0. 0.] <-> [0.82456726 0.08551043 0.08992238]\n",
      "[1. 0. 0.] <-> [0.8240311  0.11039388 0.06557496]\n",
      "[1. 0. 0.] <-> [0.8574933  0.06983248 0.07267429]\n",
      "[1. 0. 0.] <-> [0.69904506 0.2395089  0.06144599]\n",
      "[0. 0. 1.] <-> [0.27049604 0.09276399 0.63673997]\n",
      "[1. 0. 0.] <-> [0.8268864  0.10241657 0.07069699]\n",
      "[0. 0. 1.] <-> [0.5043901  0.03177215 0.46383774]\n",
      "[0. 1. 0.] <-> [0.4075756  0.5591165  0.03330795]\n",
      "[0. 1. 0.] <-> [0.6385741  0.31058234 0.05084361]\n",
      "[1. 0. 0.] <-> [0.8615008  0.05787117 0.08062806]\n",
      "[1. 0. 0.] <-> [0.83671564 0.09978753 0.06349681]\n",
      "[1. 0. 0.] <-> [0.7968619  0.1204418  0.08269632]\n",
      "[0. 0. 1.] <-> [0.716177   0.02433314 0.25948986]\n",
      "[1. 0. 0.] <-> [0.83211213 0.09660382 0.07128406]\n",
      "[0. 0. 1.] <-> [0.55750906 0.02343315 0.4190578 ]\n",
      "[1. 0. 0.] <-> [0.8148332  0.11464448 0.07052224]\n",
      "[1. 0. 0.] <-> [0.85714746 0.06560703 0.07724545]\n",
      "[1. 0. 0.] <-> [0.7970216  0.08059077 0.12238763]\n",
      "[0. 1. 0.] <-> [0.2593846  0.71915513 0.0214603 ]\n",
      "[1. 0. 0.] <-> [0.616992   0.33447292 0.04853506]\n",
      "[1. 0. 0.] <-> [0.85023224 0.06515369 0.08461408]\n",
      "[0. 0. 1.] <-> [0.38819817 0.04177375 0.5700281 ]\n",
      "[0. 1. 0.] <-> [0.16224635 0.8247902  0.01296343]\n",
      "[1. 0. 0.] <-> [0.84936446 0.08043811 0.07019742]\n",
      "[1. 0. 0.] <-> [0.81017345 0.10201459 0.08781194]\n",
      "[0. 0. 1.] <-> [0.82166886 0.05401746 0.12431368]\n",
      "[0. 1. 0.] <-> [0.66439736 0.2953865  0.04021615]\n",
      "[0. 1. 0.] <-> [0.1607561  0.8277549  0.01148897]\n",
      "[1. 0. 0.] <-> [0.6862538 0.2554035 0.0583427]\n",
      "[1. 0. 0.] <-> [0.7901773  0.12984729 0.07997547]\n",
      "[0. 0. 1.] <-> [0.71261054 0.06497944 0.22241002]\n",
      "[1. 0. 0.] <-> [0.8529244  0.05673249 0.09034318]\n",
      "[1. 0. 0.] <-> [0.770646   0.1589037  0.07045034]\n",
      "[1. 0. 0.] <-> [0.8318485  0.09842295 0.06972856]\n",
      "[1. 0. 0.] <-> [0.81930584 0.12128583 0.05940839]\n",
      "[1. 0. 0.] <-> [0.81036687 0.1259548  0.06367841]\n",
      "[1. 0. 0.] <-> [0.86022794 0.04524119 0.09453095]\n",
      "[1. 0. 0.] <-> [0.86176133 0.03772242 0.10051627]\n",
      "[1. 0. 0.] <-> [0.834626   0.08966252 0.07571149]\n",
      "[0. 1. 0.] <-> [0.5305019  0.4358739  0.03362424]\n",
      "[1. 0. 0.] <-> [0.7293232  0.22177711 0.04889962]\n",
      "[1. 0. 0.] <-> [0.7599748  0.18328685 0.05673835]\n",
      "[0. 1. 0.] <-> [0.17096426 0.81584966 0.0131861 ]\n",
      "[0. 0. 1.] <-> [0.7410356  0.04582826 0.2131362 ]\n",
      "[1. 0. 0.] <-> [0.8641755  0.06173652 0.07408802]\n",
      "[1. 0. 0.] <-> [0.8089904  0.08313725 0.10787238]\n",
      "[0. 1. 0.] <-> [0.16306691 0.82570696 0.01122621]\n",
      "[1. 0. 0.] <-> [0.7758612  0.06432241 0.15981641]\n",
      "[1. 0. 0.] <-> [0.6599411  0.292861   0.04719797]\n",
      "[1. 0. 0.] <-> [0.8489102  0.08242924 0.06866065]\n",
      "[1. 0. 0.] <-> [0.8743582  0.05703764 0.06860417]\n",
      "[1. 0. 0.] <-> [0.84435195 0.04766807 0.10797991]\n",
      "[1. 0. 0.] <-> [0.8739426  0.04118763 0.08486979]\n",
      "[1. 0. 0.] <-> [0.7251908  0.20753165 0.06727746]\n",
      "[1. 0. 0.] <-> [0.83506334 0.07383261 0.09110402]\n",
      "[1. 0. 0.] <-> [0.6973825  0.07691496 0.22570254]\n",
      "[0. 1. 0.] <-> [0.167623  0.8208568 0.0115202]\n",
      "[1. 0. 0.] <-> [0.79126054 0.1367548  0.07198472]\n",
      "[1. 0. 0.] <-> [0.7825895  0.08782059 0.12958995]\n",
      "[1. 0. 0.] <-> [0.8158184  0.12147917 0.06270243]\n",
      "[1. 0. 0.] <-> [0.7789642  0.15815945 0.06287634]\n",
      "[1. 0. 0.] <-> [0.8457534  0.08453277 0.06971384]\n",
      "[0. 1. 0.] <-> [0.541605   0.42656502 0.03182999]\n",
      "[0. 1. 0.] <-> [0.19817537 0.78552616 0.0162985 ]\n",
      "[1. 0. 0.] <-> [0.7416322  0.19019337 0.06817441]\n",
      "{'accuracy': 0.8950617283950617, 'mean_square_error': 0.208322656285541, 'categorical_crossentropy': 0.3897104969731084, 'essential_metrics': {0: {'tp_hit': 78, 'fp_hit': 17, 'tn_hit': 13, 'fn_hit': 0}, 1: {'tp_hit': 10, 'fp_hit': 0, 'tn_hit': 92, 'fn_hit': 6}, 2: {'tp_hit': 3, 'fp_hit': 0, 'tn_hit': 94, 'fn_hit': 11}}}\n"
     ]
    }
   ],
   "source": [
    "# recall phase\n",
    "score = model.evaluate(x_test, y_test, False)\n",
    "print(score)"
   ]
  },
  {
   "cell_type": "code",
   "execution_count": 12,
   "metadata": {},
   "outputs": [],
   "source": [
    "# Testing Performance"
   ]
  },
  {
   "cell_type": "code",
   "execution_count": 13,
   "metadata": {},
   "outputs": [
    {
     "name": "stderr",
     "output_type": "stream",
     "text": [
      "C:\\Users\\tcumi\\Anaconda3\\envs\\py_3_6\\lib\\site-packages\\numpy\\core\\_asarray.py:136: VisibleDeprecationWarning: Creating an ndarray from ragged nested sequences (which is a list-or-tuple of lists-or-tuples-or ndarrays with different lengths or shapes) is deprecated. If you meant to do this, you must specify 'dtype=object' when creating the ndarray\n",
      "  return array(a, dtype, copy=False, order=order, subok=True)\n"
     ]
    },
    {
     "data": {
      "image/png": "[encoded data removed]",
      "text/plain": [
       "<Figure size 864x360 with 1 Axes>"
      ]
     },
     "metadata": {
      "needs_background": "light"
     },
     "output_type": "display_data"
    },
    {
     "data": {
      "image/png": "[encoded data removed]",
      "text/plain": [
       "<Figure size 864x360 with 1 Axes>"
      ]
     },
     "metadata": {
      "needs_background": "light"
     },
     "output_type": "display_data"
    }
   ],
   "source": [
    "draw_plot(x = [[i for i in range(len(history))], [(i+1)*breakpoint for i in range(len(checkpoints))]], y_list = [history, [ ckp[model.loss_fn] for ckp in checkpoints ]], x_label = 'Epochs', \\\n",
    "    y_label = model.loss_fn, legend=['train', 'test'])\n",
    "acc = [ ckp['accuracy'] for ckp in checkpoints ]\n",
    "draw_plot(x = [[(i+1)*breakpoint for i in range(len(checkpoints))]], y_list = [acc], x_label = 'Checkpoints', \\\n",
    "    y_label = 'accuracy')"
   ]
  },
  {
   "cell_type": "code",
   "execution_count": 14,
   "metadata": {
    "scrolled": false
   },
   "outputs": [
    {
     "name": "stdout",
     "output_type": "stream",
     "text": [
      "{'accuracy': 0.8765432098765432, 'mean_square_error': 0.2746105614193176, 'categorical_crossentropy': 0.5053721533881294, 'essential_metrics': {0: {'tp_hit': 78, 'fp_hit': 20, 'tn_hit': 10, 'fn_hit': 0}, 1: {'tp_hit': 6, 'fp_hit': 0, 'tn_hit': 92, 'fn_hit': 10}, 2: {'tp_hit': 4, 'fp_hit': 0, 'tn_hit': 94, 'fn_hit': 10}}, 'checkpoint': 50} \n",
      "\n",
      "\n",
      "{'accuracy': 0.8827160493827161, 'mean_square_error': 0.27065524310816447, 'categorical_crossentropy': 0.5001499741165726, 'essential_metrics': {0: {'tp_hit': 78, 'fp_hit': 19, 'tn_hit': 11, 'fn_hit': 0}, 1: {'tp_hit': 8, 'fp_hit': 0, 'tn_hit': 92, 'fn_hit': 8}, 2: {'tp_hit': 3, 'fp_hit': 0, 'tn_hit': 94, 'fn_hit': 11}}, 'checkpoint': 100} \n",
      "\n",
      "\n",
      "{'accuracy': 0.8888888888888888, 'mean_square_error': 0.25084573877967836, 'categorical_crossentropy': 0.46873018476698136, 'essential_metrics': {0: {'tp_hit': 78, 'fp_hit': 18, 'tn_hit': 12, 'fn_hit': 0}, 1: {'tp_hit': 8, 'fp_hit': 0, 'tn_hit': 92, 'fn_hit': 8}, 2: {'tp_hit': 4, 'fp_hit': 0, 'tn_hit': 94, 'fn_hit': 10}}, 'checkpoint': 150} \n",
      "\n",
      "\n",
      "{'accuracy': 0.8827160493827161, 'mean_square_error': 0.23752217088798824, 'categorical_crossentropy': 0.4371074040730794, 'essential_metrics': {0: {'tp_hit': 78, 'fp_hit': 19, 'tn_hit': 11, 'fn_hit': 0}, 1: {'tp_hit': 8, 'fp_hit': 0, 'tn_hit': 92, 'fn_hit': 8}, 2: {'tp_hit': 3, 'fp_hit': 0, 'tn_hit': 94, 'fn_hit': 11}}, 'checkpoint': 200} \n",
      "\n",
      "\n",
      "{'accuracy': 0.8950617283950617, 'mean_square_error': 0.22036250394009652, 'categorical_crossentropy': 0.40753007818151404, 'essential_metrics': {0: {'tp_hit': 78, 'fp_hit': 17, 'tn_hit': 13, 'fn_hit': 0}, 1: {'tp_hit': 10, 'fp_hit': 0, 'tn_hit': 92, 'fn_hit': 6}, 2: {'tp_hit': 3, 'fp_hit': 0, 'tn_hit': 94, 'fn_hit': 11}}, 'checkpoint': 250} \n",
      "\n",
      "\n",
      "{'accuracy': 0.8950617283950617, 'mean_square_error': 0.21811834913270675, 'categorical_crossentropy': 0.40708389988651983, 'essential_metrics': {0: {'tp_hit': 78, 'fp_hit': 17, 'tn_hit': 13, 'fn_hit': 0}, 1: {'tp_hit': 10, 'fp_hit': 0, 'tn_hit': 92, 'fn_hit': 6}, 2: {'tp_hit': 3, 'fp_hit': 0, 'tn_hit': 94, 'fn_hit': 11}}, 'checkpoint': 300} \n",
      "\n",
      "\n",
      "{'accuracy': 0.8950617283950617, 'mean_square_error': 0.2159574431755109, 'categorical_crossentropy': 0.40393815217194734, 'essential_metrics': {0: {'tp_hit': 78, 'fp_hit': 17, 'tn_hit': 13, 'fn_hit': 0}, 1: {'tp_hit': 10, 'fp_hit': 0, 'tn_hit': 92, 'fn_hit': 6}, 2: {'tp_hit': 3, 'fp_hit': 0, 'tn_hit': 94, 'fn_hit': 11}}, 'checkpoint': 350} \n",
      "\n",
      "\n",
      "{'accuracy': 0.8950617283950617, 'mean_square_error': 0.21273077129259418, 'categorical_crossentropy': 0.3958267635769314, 'essential_metrics': {0: {'tp_hit': 78, 'fp_hit': 17, 'tn_hit': 13, 'fn_hit': 0}, 1: {'tp_hit': 10, 'fp_hit': 0, 'tn_hit': 92, 'fn_hit': 6}, 2: {'tp_hit': 3, 'fp_hit': 0, 'tn_hit': 94, 'fn_hit': 11}}, 'checkpoint': 400} \n",
      "\n",
      "\n",
      "{'accuracy': 0.8950617283950617, 'mean_square_error': 0.20949148269678164, 'categorical_crossentropy': 0.3927899819833261, 'essential_metrics': {0: {'tp_hit': 78, 'fp_hit': 17, 'tn_hit': 13, 'fn_hit': 0}, 1: {'tp_hit': 10, 'fp_hit': 0, 'tn_hit': 92, 'fn_hit': 6}, 2: {'tp_hit': 3, 'fp_hit': 0, 'tn_hit': 94, 'fn_hit': 11}}, 'checkpoint': 450} \n",
      "\n",
      "\n",
      "{'accuracy': 0.8950617283950617, 'mean_square_error': 0.208322656285541, 'categorical_crossentropy': 0.3897104969731084, 'essential_metrics': {0: {'tp_hit': 78, 'fp_hit': 17, 'tn_hit': 13, 'fn_hit': 0}, 1: {'tp_hit': 10, 'fp_hit': 0, 'tn_hit': 92, 'fn_hit': 6}, 2: {'tp_hit': 3, 'fp_hit': 0, 'tn_hit': 94, 'fn_hit': 11}}, 'checkpoint': 500} \n",
      "\n",
      "\n"
     ]
    }
   ],
   "source": [
    "for checkpoint in checkpoints:\n",
    "    print(checkpoint, '\\n\\n')"
   ]
  },
  {
   "cell_type": "code",
   "execution_count": 15,
   "metadata": {},
   "outputs": [
    {
     "name": "stdout",
     "output_type": "stream",
     "text": [
      "Layer 1\n",
      "Neuron 0: weights:\n",
      "[ 0.5130175 -0.8844755 -0.8654095 -0.7139253 -0.5291785]\n",
      " bias: 0.37491756677627563\n",
      "\n",
      "Neuron 1: weights:\n",
      "[-0.5898279   0.9534317   0.80173635  0.037574   -0.17576179]\n",
      " bias: -0.5811172127723694\n",
      "\n",
      "Neuron 2: weights:\n",
      "[-0.38167343  0.71274775  0.32880428 -0.34955263 -0.48778912]\n",
      " bias: 0.04795265197753906\n",
      "\n",
      "Neuron 3: weights:\n",
      "[-0.20506166  0.68844205 -0.19676219 -0.84594816 -0.9019835 ]\n",
      " bias: 0.7019380331039429\n",
      "\n",
      "$\n",
      "Layer 2\n",
      "Neuron 0: weights:\n",
      "[ 1.3490549  -0.80675143  0.15338199  1.2956057 ]\n",
      " bias: -0.18789257109165192\n",
      "\n",
      "Neuron 1: weights:\n",
      "[-1.529304    1.4045484   0.96051013  0.3274556 ]\n",
      " bias: -0.616645097732544\n",
      "\n",
      "Neuron 2: weights:\n",
      "[ 0.23257111 -0.69747347 -1.0896221  -1.4862728 ]\n",
      " bias: 0.9856138229370117\n",
      "\n",
      "$\n",
      "\n"
     ]
    }
   ],
   "source": [
    "print(model)"
   ]
  }
 ],
 "metadata": {
  "kernelspec": {
   "display_name": "Python 3",
   "language": "python",
   "name": "python3"
  },
  "language_info": {
   "codemirror_mode": {
    "name": "ipython",
    "version": 3
   },
   "file_extension": ".py",
   "mimetype": "text/x-python",
   "name": "python",
   "nbconvert_exporter": "python",
   "pygments_lexer": "ipython3",
   "version": "3.6.10"
  }
 },
 "nbformat": 4,
 "nbformat_minor": 2
}
