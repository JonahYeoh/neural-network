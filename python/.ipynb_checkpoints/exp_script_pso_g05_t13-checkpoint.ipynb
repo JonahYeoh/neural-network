{
 "cells": [
  {
   "cell_type": "code",
   "execution_count": 1,
   "metadata": {},
   "outputs": [],
   "source": [
    "# dependency\n",
    "import numpy as np\n",
    "import pandas as pd\n",
    "import copy\n",
    "import math\n",
    "import sys\n",
    "import os\n",
    "from activations import relu, leaky_relu, sigmoid, tanh, softmax, d_sigmoid, d_relu\n",
    "from initializers import glorot_uniform, random_normal, random_uniform\n",
    "from regularizers import l1_regularizer, l2_regularizer\n",
    "from utility import trim_tail, multiply, subtract, get_nparams, one_hot_encoding, get_data\n",
    "from metrics import MSE, CCE, ACC, PRECISION, RECALL, essential_metrics, wondering_penalty, close_gap_penalty\n",
    "from pso import PSO\n",
    "from ga import GA\n",
    "from nn import Network\n",
    "from layer import DenseLayer\n",
    "from scalers import MinMaxScaler, StandardScaler"
   ]
  },
  {
   "cell_type": "code",
   "execution_count": 2,
   "metadata": {},
   "outputs": [],
   "source": [
    "# reference\n",
    "metrics_fn_dict = dict()\n",
    "metrics_fn_dict['accuracy'] = ACC\n",
    "metrics_fn_dict['categorical_crossentropy'] = CCE\n",
    "metrics_fn_dict['mean_square_error'] = MSE\n",
    "metrics_fn_dict['precision'] = PRECISION\n",
    "metrics_fn_dict['recall'] = RECALL\n",
    "metrics_fn_dict['essential_metrics'] = essential_metrics"
   ]
  },
  {
   "cell_type": "code",
   "execution_count": 3,
   "metadata": {},
   "outputs": [],
   "source": [
    "# model\n",
    "model = Network(5, lr = None)\n",
    "model.add_layer(DenseLayer(1, 4, True, afn=sigmoid, dafn=None, rfn=None))\n",
    "model.add_layer(DenseLayer(2, 3, True, afn=softmax, dafn=None, rfn=None))"
   ]
  },
  {
   "cell_type": "code",
   "execution_count": 4,
   "metadata": {},
   "outputs": [
    {
     "name": "stdout",
     "output_type": "stream",
     "text": [
      "see one see two 2 2\n"
     ]
    }
   ],
   "source": [
    "pso = PSO(dict(m = 50,\n",
    "    weight_constraint = [-3, 3], \n",
    "    velocity_constraint = [-0.1, 0.1],\n",
    "    c1 = 2,\n",
    "    c2 = 2,\n",
    "    w = 1.2,\n",
    "    w_decay = 1,\n",
    "    scale_hyperparameter = False,\n",
    "    regularizer = None,\n",
    "    mask = True))"
   ]
  },
  {
   "cell_type": "code",
   "execution_count": 5,
   "metadata": {},
   "outputs": [
    {
     "name": "stdout",
     "output_type": "stream",
     "text": [
      "building layer 1 with 5\n",
      "24\n",
      "building layer 2 with 4\n",
      "15\n"
     ]
    }
   ],
   "source": [
    "model.compile(loss_fn = 'categorical_crossentropy', optimizer = pso, \\\n",
    "    metrics = ['accuracy', 'mean_square_error', 'categorical_crossentropy'])"
   ]
  },
  {
   "cell_type": "code",
   "execution_count": 6,
   "metadata": {},
   "outputs": [
    {
     "name": "stdout",
     "output_type": "stream",
     "text": [
      "<class 'pandas.core.frame.DataFrame'>\n",
      "RangeIndex: 107 entries, 0 to 106\n",
      "Data columns (total 6 columns):\n",
      " #   Column  Non-Null Count  Dtype  \n",
      "---  ------  --------------  -----  \n",
      " 0   f1      107 non-null    float32\n",
      " 1   f2      107 non-null    float32\n",
      " 2   f3      107 non-null    float32\n",
      " 3   f4      107 non-null    float32\n",
      " 4   f5      107 non-null    float32\n",
      " 5   label   107 non-null    float32\n",
      "dtypes: float32(6)\n",
      "memory usage: 2.6 KB\n",
      "None\n",
      "<class 'pandas.core.frame.DataFrame'>\n",
      "RangeIndex: 108 entries, 0 to 107\n",
      "Data columns (total 6 columns):\n",
      " #   Column  Non-Null Count  Dtype  \n",
      "---  ------  --------------  -----  \n",
      " 0   f1      108 non-null    float32\n",
      " 1   f2      108 non-null    float32\n",
      " 2   f3      108 non-null    float32\n",
      " 3   f4      108 non-null    float32\n",
      " 4   f5      108 non-null    float32\n",
      " 5   label   108 non-null    float32\n",
      "dtypes: float32(6)\n",
      "memory usage: 2.7 KB\n",
      "None\n"
     ]
    }
   ],
   "source": [
    "# data loading\n",
    "DATA = os.path.join('c:\\\\Users\\\\tcumi\\\\github_repo\\\\neural-network\\\\', 'dataset')\n",
    "GROUP = 5\n",
    "COLUMNS = ['f1', 'f2', 'f3', 'f4', 'f5', 'label']\n",
    "N_CLASS = 3\n",
    "EPOCHS = 500\n",
    "train_dir, test_dir = \"..//dataset//training_data{}.txt\".format(GROUP), \"..//dataset//testing_data{}.txt\".format(GROUP)\n",
    "train, test = get_data(DATA, train_dir, COLUMNS), get_data(DATA, test_dir, COLUMNS)\n",
    "# shuffle\n",
    "train, test = train.sample(frac=1), test.sample(frac=1)\n",
    "x_train, y_train = train.drop('label', axis=1), train['label']\n",
    "x_test, y_test = test.drop('label', axis=1), test['label']"
   ]
  },
  {
   "cell_type": "code",
   "execution_count": 7,
   "metadata": {},
   "outputs": [],
   "source": [
    "# data scaling and encoding\n",
    "scaler = StandardScaler(['f1', 'f2', 'f3', 'f4', 'f5'])\n",
    "scaler.fit(x_train)\n",
    "x_train = scaler.transform(x_train)\n",
    "x_test = scaler.transform(x_test)\n",
    "y_train = one_hot_encoding(y_train, N_CLASS)\n",
    "y_test = one_hot_encoding(y_test, N_CLASS)"
   ]
  },
  {
   "cell_type": "code",
   "execution_count": 8,
   "metadata": {
    "tags": [
     "outputPrepend"
    ]
   },
   "outputs": [
    {
     "name": "stdout",
     "output_type": "stream",
     "text": [
      "Checkpoint 100, Accuracy: 0.9629629629629629, Loss: 0.2325399186876085\n",
      "Checkpoint 200, Accuracy: 0.9814814814814815, Loss: 0.09005577475936324\n",
      "Checkpoint 300, Accuracy: 0.9753086419753086, Loss: 0.1049506664276123\n",
      "Checkpoint 400, Accuracy: 0.9691358024691358, Loss: 0.11366251662925438\n",
      "Checkpoint 500, Accuracy: 0.9691358024691358, Loss: 0.10695216390821669\n"
     ]
    }
   ],
   "source": [
    "# learning phase\n",
    "breakpoint = 100\n",
    "checkpoints = list()\n",
    "history = list()\n",
    "for century in range(0, EPOCHS, breakpoint):\n",
    "    sub_history = model.fit(x_train, y_train, breakpoint, verbose = 0)\n",
    "    score = model.evaluate(x_test, y_test, False, verbose = 0)\n",
    "    print('Checkpoint {}, Accuracy: {}, Loss: {}'.format(century+breakpoint, score['accuracy'], score[model.loss_fn]))\n",
    "    score['checkpoint'] = century + breakpoint\n",
    "    checkpoints.append(score)\n",
    "    history.extend(sub_history)"
   ]
  },
  {
   "cell_type": "code",
   "execution_count": 9,
   "metadata": {},
   "outputs": [],
   "source": [
    "import matplotlib.pyplot as plt\n",
    "\n",
    "def draw_plot(x, y_list, x_label=None, y_label=None, legend=None, title=None):\n",
    "    fig, ax = plt.subplots(figsize=(12,5))\n",
    "    for xi, yi in zip(x, y_list):\n",
    "        ax.plot(xi, yi)\n",
    "    if x_label is not None and y_label is not None:\n",
    "        ax.set(xlabel=x_label, ylabel=y_label, title='{} VS {}'.format(x_label, y_label))\n",
    "    if legend is not None:\n",
    "        ax.legend(legend)\n",
    "    ax.grid()\n",
    "    plt.show()"
   ]
  },
  {
   "cell_type": "code",
   "execution_count": 10,
   "metadata": {},
   "outputs": [
    {
     "name": "stdout",
     "output_type": "stream",
     "text": [
      "[0. 0. 1.] <-> [1.0257599e-02 6.9157190e-06 9.8973548e-01]\n",
      "[1. 0. 0.] <-> [9.9772757e-01 1.4241629e-03 8.4822689e-04]\n",
      "[1. 0. 0.] <-> [9.9596632e-01 7.1493653e-04 3.3186846e-03]\n",
      "[0. 1. 0.] <-> [1.7838754e-02 9.8202592e-01 1.3535256e-04]\n",
      "[1. 0. 0.] <-> [9.9781513e-01 1.2604137e-03 9.2442636e-04]\n",
      "[1. 0. 0.] <-> [0.9944858  0.00445401 0.00106022]\n",
      "[1. 0. 0.] <-> [9.9740857e-01 1.6806079e-03 9.1078226e-04]\n",
      "[1. 0. 0.] <-> [9.980585e-01 9.821540e-04 9.593270e-04]\n",
      "[1. 0. 0.] <-> [9.9632746e-01 6.8515842e-04 2.9873862e-03]\n",
      "[1. 0. 0.] <-> [9.9129266e-01 6.9808762e-04 8.0093481e-03]\n",
      "[0. 1. 0.] <-> [0.57270086 0.42487156 0.00242752]\n",
      "[0. 0. 1.] <-> [1.0238017e-02 6.9029079e-06 9.8975509e-01]\n",
      "[1. 0. 0.] <-> [9.9761319e-01 8.4864866e-04 1.5381286e-03]\n",
      "[1. 0. 0.] <-> [9.1803598e-01 6.2250346e-04 8.1341550e-02]\n",
      "[1. 0. 0.] <-> [9.9780434e-01 1.3622320e-03 8.3347247e-04]\n",
      "[1. 0. 0.] <-> [9.9583375e-01 6.9283217e-04 3.4733771e-03]\n",
      "[1. 0. 0.] <-> [9.6182096e-01 6.5924542e-04 3.7519716e-02]\n",
      "[0. 1. 0.] <-> [0.194425   0.8047017  0.00087337]\n",
      "[1. 0. 0.] <-> [6.6441333e-01 4.5086737e-04 3.3513588e-01]\n",
      "[1. 0. 0.] <-> [9.9777681e-01 7.2250416e-04 1.5007521e-03]\n",
      "[1. 0. 0.] <-> [9.8678839e-01 6.7376305e-04 1.2537843e-02]\n",
      "[1. 0. 0.] <-> [9.9323916e-01 6.8785914e-04 6.0730521e-03]\n",
      "[1. 0. 0.] <-> [9.9154764e-01 6.7759072e-04 7.7748047e-03]\n",
      "[1. 0. 0.] <-> [9.9721670e-01 1.9135160e-03 8.6967123e-04]\n",
      "[1. 0. 0.] <-> [9.9796665e-01 7.2981569e-04 1.3034756e-03]\n",
      "[1. 0. 0.] <-> [9.9824035e-01 8.9554116e-04 8.6410227e-04]\n",
      "[1. 0. 0.] <-> [9.9198276e-01 8.1364874e-04 7.2035911e-03]\n",
      "[1. 0. 0.] <-> [9.9804521e-01 7.6318125e-04 1.1915761e-03]\n",
      "[0. 1. 0.] <-> [0.18537962 0.8135521  0.00106827]\n",
      "[0. 0. 1.] <-> [6.3674310e-03 1.2359594e-05 9.9362022e-01]\n",
      "[0. 0. 1.] <-> [1.2626436e-01 8.5612395e-05 8.7365007e-01]\n",
      "[1. 0. 0.] <-> [9.9702889e-01 6.8999856e-04 2.2811650e-03]\n",
      "[1. 0. 0.] <-> [9.9781287e-01 1.3838304e-03 8.0329279e-04]\n",
      "[0. 1. 0.] <-> [9.2546185e-03 9.9066156e-01 8.3904444e-05]\n",
      "[1. 0. 0.] <-> [9.9802786e-01 8.7122823e-04 1.1008616e-03]\n",
      "[1. 0. 0.] <-> [9.9773967e-01 1.4331521e-03 8.2718791e-04]\n",
      "[1. 0. 0.] <-> [9.9823344e-01 9.7176264e-04 7.9483213e-04]\n",
      "[1. 0. 0.] <-> [9.5935982e-01 6.6287484e-04 3.9977234e-02]\n",
      "[1. 0. 0.] <-> [9.9828160e-01 8.0158695e-04 9.1682404e-04]\n",
      "[0. 0. 1.] <-> [1.023182e-02 6.899081e-06 9.897613e-01]\n",
      "[1. 0. 0.] <-> [9.9814820e-01 8.2047028e-04 1.0313577e-03]\n",
      "[0. 1. 0.] <-> [0.56919616 0.42879534 0.00200843]\n",
      "[0. 0. 1.] <-> [1.02238245e-02 6.90855177e-06 9.89769220e-01]\n",
      "[1. 0. 0.] <-> [9.9827611e-01 7.9017784e-04 9.3370723e-04]\n",
      "[0. 0. 1.] <-> [1.0232292e-02 6.8996706e-06 9.8976082e-01]\n",
      "[1. 0. 0.] <-> [0.99421304 0.0045195  0.00126742]\n",
      "[1. 0. 0.] <-> [9.980685e-01 9.384107e-04 9.930730e-04]\n",
      "[1. 0. 0.] <-> [9.6424073e-01 6.5561011e-04 3.5103630e-02]\n",
      "[1. 0. 0.] <-> [9.982444e-01 9.580965e-04 7.975390e-04]\n",
      "[1. 0. 0.] <-> [6.0620886e-01 4.0981287e-04 3.9338127e-01]\n",
      "[1. 0. 0.] <-> [0.9847809  0.01406086 0.0011582 ]\n",
      "[1. 0. 0.] <-> [9.7729403e-01 6.6663040e-04 2.2039386e-02]\n",
      "[1. 0. 0.] <-> [9.982223e-01 8.304900e-04 9.472476e-04]\n",
      "[1. 0. 0.] <-> [0.9978052  0.00113037 0.00106448]\n",
      "[0. 1. 0.] <-> [9.0307202e-03 9.9088717e-01 8.2117658e-05]\n",
      "[1. 0. 0.] <-> [6.9078881e-01 4.6948955e-04 3.0874172e-01]\n",
      "[1. 0. 0.] <-> [9.9557793e-01 7.0935726e-04 3.7127207e-03]\n",
      "[0. 0. 1.] <-> [9.0055609e-01 6.1324035e-04 9.8830663e-02]\n",
      "[1. 0. 0.] <-> [9.9835986e-01 8.8475336e-04 7.5534277e-04]\n",
      "[0. 0. 1.] <-> [1.0233679e-02 6.9107700e-06 9.8975945e-01]\n",
      "[1. 0. 0.] <-> [9.9830127e-01 8.4851508e-04 8.5016224e-04]\n",
      "[0. 0. 1.] <-> [1.0232167e-02 6.8990657e-06 9.8976094e-01]\n",
      "[0. 1. 0.] <-> [9.0307901e-03 9.9088717e-01 8.2118051e-05]\n",
      "[1. 0. 0.] <-> [9.9805391e-01 7.6673628e-04 1.1794659e-03]\n",
      "[1. 0. 0.] <-> [7.9395157e-01 5.3698214e-04 2.0551144e-01]\n",
      "[1. 0. 0.] <-> [9.9805969e-01 7.6469022e-04 1.1756305e-03]\n",
      "[1. 0. 0.] <-> [9.979208e-01 7.132590e-04 1.365903e-03]\n",
      "[0. 0. 1.] <-> [1.0232187e-02 6.8989475e-06 9.8976094e-01]\n",
      "[1. 0. 0.] <-> [9.8773175e-01 6.7791186e-04 1.1590385e-02]\n",
      "[0. 1. 0.] <-> [9.0380581e-03 9.9087965e-01 8.2170154e-05]\n",
      "[1. 0. 0.] <-> [9.9661285e-01 2.4854019e-03 9.0176787e-04]\n",
      "[1. 0. 0.] <-> [9.9837875e-01 8.0988690e-04 8.1127405e-04]\n",
      "[1. 0. 0.] <-> [9.9760866e-01 7.9295103e-04 1.5983002e-03]\n",
      "[1. 0. 0.] <-> [9.9805546e-01 1.0263070e-03 9.1832469e-04]\n",
      "[1. 0. 0.] <-> [9.7791994e-01 6.6524395e-04 2.1414917e-02]\n",
      "[1. 0. 0.] <-> [0.9640191  0.03416241 0.00181848]\n",
      "[0. 1. 0.] <-> [9.0315007e-03 9.9088633e-01 8.2121893e-05]\n",
      "[1. 0. 0.] <-> [9.9772269e-01 1.4481815e-03 8.2916376e-04]\n",
      "[0. 1. 0.] <-> [3.3470578e-02 9.6627551e-01 2.5390755e-04]\n",
      "[1. 0. 0.] <-> [9.9825293e-01 7.6780433e-04 9.7921758e-04]\n",
      "[0. 0. 1.] <-> [9.2585504e-01 6.3035812e-04 7.3514618e-02]\n",
      "[1. 0. 0.] <-> [9.9814534e-01 9.5946988e-04 8.9514384e-04]\n",
      "[0. 1. 0.] <-> [9.030631e-03 9.908873e-01 8.211719e-05]\n",
      "[1. 0. 0.] <-> [9.9770916e-01 1.3590230e-03 9.3185011e-04]\n",
      "[1. 0. 0.] <-> [9.9794561e-01 7.2553562e-04 1.3288002e-03]\n",
      "[1. 0. 0.] <-> [9.9834836e-01 8.0411596e-04 8.4746815e-04]\n",
      "[1. 0. 0.] <-> [9.9812371e-01 8.3126692e-04 1.0450504e-03]\n",
      "[0. 1. 0.] <-> [9.0307854e-03 9.9088717e-01 8.2117971e-05]\n",
      "[0. 0. 1.] <-> [9.185129e-03 7.870889e-06 9.908070e-01]\n",
      "[0. 1. 0.] <-> [0.8639526  0.1336469  0.00240054]\n",
      "[0. 1. 0.] <-> [5.6391910e-02 9.4328129e-01 3.2675866e-04]\n",
      "[1. 0. 0.] <-> [9.982002e-01 9.160571e-04 8.838120e-04]\n",
      "[1. 0. 0.] <-> [9.9551517e-01 6.7601376e-04 3.8088840e-03]\n",
      "[1. 0. 0.] <-> [9.9744189e-01 7.1763434e-04 1.8405765e-03]\n",
      "[0. 1. 0.] <-> [9.030653e-03 9.908873e-01 8.211727e-05]\n",
      "[0. 0. 1.] <-> [1.0241143e-02 6.9046509e-06 9.8975194e-01]\n",
      "[1. 0. 0.] <-> [9.9746180e-01 6.9107668e-04 1.8471197e-03]\n",
      "[1. 0. 0.] <-> [0.99751437 0.00146675 0.00101886]\n",
      "[1. 0. 0.] <-> [9.7644335e-01 6.6652289e-04 2.2890126e-02]\n",
      "[1. 0. 0.] <-> [9.9832255e-01 7.5580308e-04 9.2163600e-04]\n",
      "[1. 0. 0.] <-> [9.9397802e-01 6.7484158e-04 5.3471928e-03]\n",
      "[1. 0. 0.] <-> [9.9779356e-01 1.3610667e-03 8.4537640e-04]\n",
      "[1. 0. 0.] <-> [9.9709690e-01 7.4637483e-04 2.1568071e-03]\n",
      "[1. 0. 0.] <-> [9.981547e-01 9.881571e-04 8.570239e-04]\n",
      "[0. 1. 0.] <-> [9.469001e-03 9.904462e-01 8.472106e-05]\n",
      "[1. 0. 0.] <-> [9.9806386e-01 1.1087853e-03 8.2736433e-04]\n",
      "[1. 0. 0.] <-> [0.99067044 0.00790518 0.00142432]\n",
      "[0. 0. 1.] <-> [1.0273669e-02 6.9301113e-06 9.8971939e-01]\n",
      "{'accuracy': 0.9691358024691358, 'mean_square_error': 0.06643521108679451, 'categorical_crossentropy': 0.10695216390821669, 'essential_metrics': {0: {'tp_hit': 76, 'fp_hit': 5, 'tn_hit': 27, 'fn_hit': 0}, 1: {'tp_hit': 14, 'fp_hit': 0, 'tn_hit': 91, 'fn_hit': 3}, 2: {'tp_hit': 13, 'fp_hit': 0, 'tn_hit': 93, 'fn_hit': 2}}}\n"
     ]
    }
   ],
   "source": [
    "# recall phase\n",
    "score = model.evaluate(x_test, y_test, False)\n",
    "print(score)"
   ]
  },
  {
   "cell_type": "code",
   "execution_count": 11,
   "metadata": {},
   "outputs": [
    {
     "data": {
      "image/png": "[encoded data removed]",
      "text/plain": [
       "<Figure size 864x360 with 1 Axes>"
      ]
     },
     "metadata": {
      "needs_background": "light"
     },
     "output_type": "display_data"
    },
    {
     "data": {
      "image/png": "[encoded data removed]",
      "text/plain": [
       "<Figure size 864x360 with 1 Axes>"
      ]
     },
     "metadata": {
      "needs_background": "light"
     },
     "output_type": "display_data"
    }
   ],
   "source": [
    "draw_plot(x = [[i for i in range(len(history))], [(i+1)*breakpoint for i in range(len(checkpoints))]], y_list = [history, [ ckp[model.loss_fn] for ckp in checkpoints ]], x_label = 'Epochs', \\\n",
    "    y_label = model.loss_fn, legend=['train', 'test'])\n",
    "acc = [ ckp['accuracy'] for ckp in checkpoints ]\n",
    "draw_plot(x = [[(i+1)*breakpoint for i in range(len(checkpoints))]], y_list = [acc], x_label = 'Checkpoints', \\\n",
    "    y_label = 'accuracy')"
   ]
  },
  {
   "cell_type": "code",
   "execution_count": 12,
   "metadata": {},
   "outputs": [
    {
     "name": "stdout",
     "output_type": "stream",
     "text": [
      "{'accuracy': 0.9629629629629629, 'mean_square_error': 0.11309442778954056, 'categorical_crossentropy': 0.2325399186876085, 'essential_metrics': {0: {'tp_hit': 74, 'fp_hit': 4, 'tn_hit': 28, 'fn_hit': 2}, 1: {'tp_hit': 16, 'fp_hit': 0, 'tn_hit': 91, 'fn_hit': 1}, 2: {'tp_hit': 12, 'fp_hit': 2, 'tn_hit': 91, 'fn_hit': 3}}, 'checkpoint': 100} \n",
      "\n",
      "\n",
      "{'accuracy': 0.9814814814814815, 'mean_square_error': 0.05386914403406663, 'categorical_crossentropy': 0.09005577475936324, 'essential_metrics': {0: {'tp_hit': 76, 'fp_hit': 3, 'tn_hit': 29, 'fn_hit': 0}, 1: {'tp_hit': 16, 'fp_hit': 0, 'tn_hit': 91, 'fn_hit': 1}, 2: {'tp_hit': 13, 'fp_hit': 0, 'tn_hit': 93, 'fn_hit': 2}}, 'checkpoint': 200} \n",
      "\n",
      "\n",
      "{'accuracy': 0.9753086419753086, 'mean_square_error': 0.06364971006379824, 'categorical_crossentropy': 0.1049506664276123, 'essential_metrics': {0: {'tp_hit': 76, 'fp_hit': 4, 'tn_hit': 28, 'fn_hit': 0}, 1: {'tp_hit': 15, 'fp_hit': 0, 'tn_hit': 91, 'fn_hit': 2}, 2: {'tp_hit': 13, 'fp_hit': 0, 'tn_hit': 93, 'fn_hit': 2}}, 'checkpoint': 300} \n",
      "\n",
      "\n",
      "{'accuracy': 0.9691358024691358, 'mean_square_error': 0.07061866500454399, 'categorical_crossentropy': 0.11366251662925438, 'essential_metrics': {0: {'tp_hit': 76, 'fp_hit': 5, 'tn_hit': 27, 'fn_hit': 0}, 1: {'tp_hit': 14, 'fp_hit': 0, 'tn_hit': 91, 'fn_hit': 3}, 2: {'tp_hit': 13, 'fp_hit': 0, 'tn_hit': 93, 'fn_hit': 2}}, 'checkpoint': 400} \n",
      "\n",
      "\n",
      "{'accuracy': 0.9691358024691358, 'mean_square_error': 0.06643521108679451, 'categorical_crossentropy': 0.10695216390821669, 'essential_metrics': {0: {'tp_hit': 76, 'fp_hit': 5, 'tn_hit': 27, 'fn_hit': 0}, 1: {'tp_hit': 14, 'fp_hit': 0, 'tn_hit': 91, 'fn_hit': 3}, 2: {'tp_hit': 13, 'fp_hit': 0, 'tn_hit': 93, 'fn_hit': 2}}, 'checkpoint': 500} \n",
      "\n",
      "\n"
     ]
    }
   ],
   "source": [
    "for checkpoint in checkpoints:\n",
    "    print(checkpoint, '\\n\\n')"
   ]
  },
  {
   "cell_type": "code",
   "execution_count": 13,
   "metadata": {},
   "outputs": [
    {
     "name": "stdout",
     "output_type": "stream",
     "text": [
      "Layer 1\n",
      "Neuron 0: weights:\n",
      "[ 1.1481187 -3.        -1.1457603  3.         1.1844229]\n",
      " bias: -3.0\n",
      "\n",
      "Neuron 1: weights:\n",
      "[-1.2378422  3.         1.4061191 -3.        -1.244829 ]\n",
      " bias: 3.0\n",
      "\n",
      "Neuron 2: weights:\n",
      "[ 2.0486846  -3.         -2.8140504  -1.2186023   0.41340214]\n",
      " bias: 3.0\n",
      "\n",
      "Neuron 3: weights:\n",
      "[ 1.6516906 -3.        -1.7523006 -3.         3.       ]\n",
      " bias: 3.0\n",
      "\n",
      "$\n",
      "Layer 2\n",
      "Neuron 0: weights:\n",
      "[-3.  3.  3.  3.]\n",
      " bias: -1.8984339237213135\n",
      "\n",
      "Neuron 1: weights:\n",
      "[-3.  3. -3. -3.]\n",
      " bias: 2.7995448112487793\n",
      "\n",
      "Neuron 2: weights:\n",
      "[ 3.         -3.          3.          0.27215776]\n",
      " bias: -0.5986643433570862\n",
      "\n",
      "$\n",
      "\n"
     ]
    }
   ],
   "source": [
    "print(model)"
   ]
  }
 ],
 "metadata": {
  "kernelspec": {
   "display_name": "Python 3",
   "language": "python",
   "name": "python3"
  },
  "language_info": {
   "codemirror_mode": {
    "name": "ipython",
    "version": 3
   },
   "file_extension": ".py",
   "mimetype": "text/x-python",
   "name": "python",
   "nbconvert_exporter": "python",
   "pygments_lexer": "ipython3",
   "version": "3.6.10"
  }
 },
 "nbformat": 4,
 "nbformat_minor": 2
}
