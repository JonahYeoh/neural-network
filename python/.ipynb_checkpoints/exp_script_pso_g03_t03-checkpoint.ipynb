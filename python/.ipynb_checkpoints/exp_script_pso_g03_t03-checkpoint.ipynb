{
 "cells": [
  {
   "cell_type": "code",
   "execution_count": 1,
   "metadata": {},
   "outputs": [],
   "source": [
    "# dependency\n",
    "import numpy as np\n",
    "import pandas as pd\n",
    "import copy\n",
    "import math\n",
    "import sys\n",
    "import os\n",
    "from activations import relu, leaky_relu, sigmoid, tanh, softmax, d_sigmoid, d_relu\n",
    "from initializers import glorot_uniform, random_normal, random_uniform\n",
    "from regularizers import l1_regularizer, l2_regularizer\n",
    "from utility import trim_tail, multiply, subtract, get_nparams, one_hot_encoding, get_data\n",
    "from metrics import MSE, CCE, ACC, PRECISION, RECALL, essential_metrics, wondering_penalty, close_gap_penalty\n",
    "from pso import PSO\n",
    "from ga import GA\n",
    "from nn import Network\n",
    "from layer import DenseLayer\n",
    "from scalers import MinMaxScaler, StandardScaler"
   ]
  },
  {
   "cell_type": "code",
   "execution_count": 2,
   "metadata": {},
   "outputs": [],
   "source": [
    "# reference\n",
    "metrics_fn_dict = dict()\n",
    "metrics_fn_dict['accuracy'] = ACC\n",
    "metrics_fn_dict['categorical_crossentropy'] = CCE\n",
    "metrics_fn_dict['mean_square_error'] = MSE\n",
    "metrics_fn_dict['precision'] = PRECISION\n",
    "metrics_fn_dict['recall'] = RECALL\n",
    "metrics_fn_dict['essential_metrics'] = essential_metrics"
   ]
  },
  {
   "cell_type": "code",
   "execution_count": 3,
   "metadata": {},
   "outputs": [],
   "source": [
    "# model\n",
    "model = Network(5, lr = None)\n",
    "model.add_layer(DenseLayer(1, 4, True, afn=sigmoid, dafn=None, rfn=None))\n",
    "model.add_layer(DenseLayer(2, 3, True, afn=softmax, dafn=None, rfn=None))"
   ]
  },
  {
   "cell_type": "code",
   "execution_count": 4,
   "metadata": {},
   "outputs": [
    {
     "name": "stdout",
     "output_type": "stream",
     "text": [
      "see one see two 2.0 0.5\n"
     ]
    }
   ],
   "source": [
    "pso = PSO(dict(m = 50,\n",
    "    weight_constraint = [-3, 3], \n",
    "    velocity_constraint = [-0.1, 0.1],\n",
    "    c1 = [0.5, 2.0],\n",
    "    c2 = [0.5, 2.0],\n",
    "    w = [0.5, 1.6],\n",
    "    w_decay = 0.95,\n",
    "    scale_hyperparameter = False,\n",
    "    regularizer = None,\n",
    "    mask = True))"
   ]
  },
  {
   "cell_type": "code",
   "execution_count": 5,
   "metadata": {},
   "outputs": [
    {
     "name": "stdout",
     "output_type": "stream",
     "text": [
      "building layer 1 with 5\n",
      "24\n",
      "building layer 2 with 4\n",
      "15\n"
     ]
    }
   ],
   "source": [
    "model.compile(loss_fn = 'categorical_crossentropy', optimizer = pso, \\\n",
    "    metrics = ['accuracy', 'mean_square_error', 'categorical_crossentropy'])"
   ]
  },
  {
   "cell_type": "code",
   "execution_count": 6,
   "metadata": {},
   "outputs": [
    {
     "name": "stdout",
     "output_type": "stream",
     "text": [
      "<class 'pandas.core.frame.DataFrame'>\n",
      "RangeIndex: 107 entries, 0 to 106\n",
      "Data columns (total 6 columns):\n",
      " #   Column  Non-Null Count  Dtype  \n",
      "---  ------  --------------  -----  \n",
      " 0   f1      107 non-null    float32\n",
      " 1   f2      107 non-null    float32\n",
      " 2   f3      107 non-null    float32\n",
      " 3   f4      107 non-null    float32\n",
      " 4   f5      107 non-null    float32\n",
      " 5   label   107 non-null    float32\n",
      "dtypes: float32(6)\n",
      "memory usage: 2.6 KB\n",
      "None\n",
      "<class 'pandas.core.frame.DataFrame'>\n",
      "RangeIndex: 108 entries, 0 to 107\n",
      "Data columns (total 6 columns):\n",
      " #   Column  Non-Null Count  Dtype  \n",
      "---  ------  --------------  -----  \n",
      " 0   f1      108 non-null    float32\n",
      " 1   f2      108 non-null    float32\n",
      " 2   f3      108 non-null    float32\n",
      " 3   f4      108 non-null    float32\n",
      " 4   f5      108 non-null    float32\n",
      " 5   label   108 non-null    float32\n",
      "dtypes: float32(6)\n",
      "memory usage: 2.7 KB\n",
      "None\n"
     ]
    }
   ],
   "source": [
    "# data loading\n",
    "DATA = os.path.join('c:\\\\Users\\\\AI-lab\\\\github_repo\\\\neural-network\\\\', 'dataset')\n",
    "GROUP = 3\n",
    "COLUMNS = ['f1', 'f2', 'f3', 'f4', 'f5', 'label']\n",
    "N_CLASS = 3\n",
    "EPOCHS = 200\n",
    "train_dir, test_dir = \"..//dataset//training_data{}.txt\".format(GROUP), \"..//dataset//testing_data{}.txt\".format(GROUP)\n",
    "train, test = get_data(DATA, train_dir, COLUMNS), get_data(DATA, test_dir, COLUMNS)\n",
    "# shuffle\n",
    "train, test = train.sample(frac=1), test.sample(frac=1)\n",
    "x_train, y_train = train.drop('label', axis=1), train['label']\n",
    "x_test, y_test = test.drop('label', axis=1), test['label']"
   ]
  },
  {
   "cell_type": "code",
   "execution_count": 7,
   "metadata": {},
   "outputs": [],
   "source": [
    "# data scaling and encoding\n",
    "scaler = StandardScaler(['f1', 'f2', 'f3', 'f4', 'f5'])\n",
    "scaler.fit(x_train)\n",
    "x_train = scaler.transform(x_train)\n",
    "x_test = scaler.transform(x_test)\n",
    "y_train = one_hot_encoding(y_train, N_CLASS)\n",
    "y_test = one_hot_encoding(y_test, N_CLASS)"
   ]
  },
  {
   "cell_type": "code",
   "execution_count": 8,
   "metadata": {
    "tags": [
     "outputPrepend"
    ]
   },
   "outputs": [
    {
     "name": "stdout",
     "output_type": "stream",
     "text": [
      "Checkpoint 10, Accuracy: 0.8271604938271605, Loss: 0.7259758136890553\n",
      "Checkpoint 20, Accuracy: 0.8641975308641975, Loss: 0.6297921781186704\n",
      "Checkpoint 30, Accuracy: 0.8395061728395061, Loss: 0.559141441627785\n",
      "Checkpoint 40, Accuracy: 0.8641975308641975, Loss: 0.562398698594835\n",
      "Checkpoint 50, Accuracy: 0.8395061728395061, Loss: 0.47840287950303817\n",
      "Checkpoint 60, Accuracy: 0.8950617283950617, Loss: 0.4772926613136574\n",
      "Checkpoint 70, Accuracy: 0.8950617283950617, Loss: 0.40331349549470125\n",
      "Checkpoint 80, Accuracy: 0.9074074074074074, Loss: 0.3834982624760381\n",
      "Checkpoint 90, Accuracy: 0.9320987654320988, Loss: 0.3339758272524233\n",
      "Checkpoint 100, Accuracy: 0.9444444444444444, Loss: 0.29109071802209924\n",
      "Checkpoint 110, Accuracy: 0.9320987654320988, Loss: 0.2659884382177282\n",
      "Checkpoint 120, Accuracy: 0.9444444444444444, Loss: 0.23240698708428276\n",
      "Checkpoint 130, Accuracy: 0.9506172839506173, Loss: 0.19148104279129594\n",
      "Checkpoint 140, Accuracy: 0.9691358024691358, Loss: 0.15809671967117875\n",
      "Checkpoint 150, Accuracy: 0.9506172839506173, Loss: 0.15354177686903211\n",
      "Checkpoint 160, Accuracy: 0.9691358024691358, Loss: 0.12625894723115144\n",
      "Checkpoint 170, Accuracy: 0.9567901234567902, Loss: 0.13101673126220703\n",
      "Checkpoint 180, Accuracy: 0.9691358024691358, Loss: 0.1263656351301405\n",
      "Checkpoint 190, Accuracy: 0.9567901234567902, Loss: 0.12198522355821398\n",
      "Checkpoint 200, Accuracy: 0.9567901234567902, Loss: 0.12639196713765463\n"
     ]
    }
   ],
   "source": [
    "# learning phase\n",
    "breakpoint = 10\n",
    "checkpoints = list()\n",
    "history = list()\n",
    "for century in range(0, EPOCHS, breakpoint):\n",
    "    sub_history = model.fit(x_train, y_train, breakpoint, verbose = 0)\n",
    "    score = model.evaluate(x_test, y_test, False, verbose = 0)\n",
    "    print('Checkpoint {}, Accuracy: {}, Loss: {}'.format(century+breakpoint, score['accuracy'], score[model.loss_fn]))\n",
    "    score['checkpoint'] = century + breakpoint\n",
    "    checkpoints.append(score)\n",
    "    history.extend(sub_history)\n",
    "    itr = century + breakpoint\n",
    "    model.optimizer.c1 = np.max([model.optimizer.C1[1] - ((model.optimizer.C1[1] - model.optimizer.C1[0]) * itr / EPOCHS), model.optimizer.C1[0]])\n",
    "    model.optimizer.c2 = np.min([model.optimizer.C2[0] + ((model.optimizer.C2[1] - model.optimizer.C2[0]) * itr / EPOCHS), model.optimizer.C2[1]])\n",
    "    model.optimizer.w = np.max([model.optimizer.w * model.optimizer.W_Decay, model.optimizer.W[0]])"
   ]
  },
  {
   "cell_type": "code",
   "execution_count": 9,
   "metadata": {},
   "outputs": [],
   "source": [
    "import matplotlib.pyplot as plt\n",
    "\n",
    "def draw_plot(x, y_list, x_label=None, y_label=None, legend=None, title=None):\n",
    "    fig, ax = plt.subplots(figsize=(12,5))\n",
    "    for xi, yi in zip(x, y_list):\n",
    "        ax.plot(xi, yi)\n",
    "    if x_label is not None and y_label is not None:\n",
    "        ax.set(xlabel=x_label, ylabel=y_label, title='{} VS {}'.format(x_label, y_label))\n",
    "    if legend is not None:\n",
    "        ax.legend(legend)\n",
    "    ax.grid()\n",
    "    plt.show()"
   ]
  },
  {
   "cell_type": "code",
   "execution_count": 10,
   "metadata": {},
   "outputs": [],
   "source": [
    "train_acc = [h['accuracy'] for h in history]\n",
    "train_mse = [h['mean_square_error'] for h in history]\n",
    "train_cce = [h['categorical_crossentropy'] for h in history]"
   ]
  },
  {
   "cell_type": "code",
   "execution_count": 11,
   "metadata": {},
   "outputs": [
    {
     "data": {
      "image/png": "[encoded data removed]",
      "text/plain": [
       "<Figure size 864x360 with 1 Axes>"
      ]
     },
     "metadata": {
      "needs_background": "light"
     },
     "output_type": "display_data"
    },
    {
     "data": {
      "image/png": "[encoded data removed]",
      "text/plain": [
       "<Figure size 864x360 with 1 Axes>"
      ]
     },
     "metadata": {
      "needs_background": "light"
     },
     "output_type": "display_data"
    }
   ],
   "source": [
    "draw_plot(x = [[i for i in range(len(history))], [(i+1)*breakpoint for i in range(len(checkpoints))]], y_list = [train_cce, [ ckp[model.loss_fn] for ckp in checkpoints ]], x_label = 'Epochs', \\\n",
    "    y_label = model.loss_fn, legend=['train', 'test'])\n",
    "acc = [ ckp['accuracy'] for ckp in checkpoints ]\n",
    "draw_plot(x = [[i for i in range(len(history))], [(i+1)*breakpoint for i in range(len(checkpoints))]], y_list = [train_acc, acc], x_label = 'Checkpoints', \\\n",
    "    y_label = 'accuracy', legend=['train', 'test'])"
   ]
  },
  {
   "cell_type": "code",
   "execution_count": 12,
   "metadata": {},
   "outputs": [
    {
     "name": "stdout",
     "output_type": "stream",
     "text": [
      "[1. 0. 0.] <-> [0.9390119  0.03816427 0.02282389]\n",
      "[1. 0. 0.] <-> [9.9765861e-01 1.4985193e-03 8.4284157e-04]\n",
      "[0. 0. 1.] <-> [6.654568e-04 3.935042e-04 9.989410e-01]\n",
      "[1. 0. 0.] <-> [0.4676207  0.52899224 0.00338702]\n",
      "[0. 1. 0.] <-> [0.56699044 0.4306793  0.00233022]\n",
      "[0. 0. 1.] <-> [5.999214e-02 9.522697e-05 9.399126e-01]\n",
      "[0. 0. 1.] <-> [1.5382220e-02 3.7405465e-05 9.8458040e-01]\n",
      "[1. 0. 0.] <-> [0.80850774 0.00139348 0.19009878]\n",
      "[1. 0. 0.] <-> [0.99322927 0.00577672 0.00099394]\n",
      "[1. 0. 0.] <-> [0.9868593  0.00144799 0.0116928 ]\n",
      "[1. 0. 0.] <-> [9.9180484e-01 7.2545586e-03 9.4070379e-04]\n",
      "[0. 1. 0.] <-> [0.8505983  0.14791386 0.00148781]\n",
      "[1. 0. 0.] <-> [0.95217973 0.00282631 0.04499387]\n",
      "[1. 0. 0.] <-> [9.9631244e-01 2.9403102e-03 7.4727699e-04]\n",
      "[1. 0. 0.] <-> [0.99591017 0.00225774 0.00183212]\n",
      "[1. 0. 0.] <-> [9.9731147e-01 2.0290392e-03 6.5941928e-04]\n",
      "[1. 0. 0.] <-> [0.77497774 0.18867321 0.03634904]\n",
      "[0. 0. 1.] <-> [0.5501134  0.000888   0.44899863]\n",
      "[1. 0. 0.] <-> [0.997209   0.00152231 0.0012686 ]\n",
      "[1. 0. 0.] <-> [0.9968136  0.00163    0.00155638]\n",
      "[1. 0. 0.] <-> [0.9946083  0.00336757 0.00202415]\n",
      "[0. 0. 1.] <-> [2.7199715e-01 4.0280278e-04 7.2759998e-01]\n",
      "[0. 1. 0.] <-> [7.4898899e-02 9.2436373e-01 7.3736976e-04]\n",
      "[1. 0. 0.] <-> [0.99663454 0.00205963 0.00130584]\n",
      "[1. 0. 0.] <-> [9.9718517e-01 2.1789686e-03 6.3586433e-04]\n",
      "[1. 0. 0.] <-> [0.9946174  0.00210584 0.00327679]\n",
      "[1. 0. 0.] <-> [9.9590188e-01 3.3604507e-03 7.3758926e-04]\n",
      "[1. 0. 0.] <-> [9.9637860e-01 2.8615112e-03 7.5993268e-04]\n",
      "[1. 0. 0.] <-> [0.99159396 0.00145535 0.00695074]\n",
      "[1. 0. 0.] <-> [0.99690276 0.00203209 0.00106514]\n",
      "[1. 0. 0.] <-> [0.99680614 0.00208847 0.00110548]\n",
      "[1. 0. 0.] <-> [0.9958801  0.00311766 0.00100224]\n",
      "[1. 0. 0.] <-> [9.0735018e-02 4.9799524e-04 9.0876698e-01]\n",
      "[1. 0. 0.] <-> [9.9216688e-01 6.9724452e-03 8.6065696e-04]\n",
      "[1. 0. 0.] <-> [0.9957216  0.00182762 0.00245076]\n",
      "[1. 0. 0.] <-> [0.97318226 0.00224806 0.02456968]\n",
      "[1. 0. 0.] <-> [9.9597126e-01 3.2987634e-03 7.2989461e-04]\n",
      "[1. 0. 0.] <-> [0.8706274  0.12675025 0.00262238]\n",
      "[1. 0. 0.] <-> [0.89078367 0.10634182 0.00287442]\n",
      "[0. 1. 0.] <-> [2.8133320e-02 9.7135264e-01 5.1396899e-04]\n",
      "[1. 0. 0.] <-> [0.9955577  0.00342771 0.00101463]\n",
      "[1. 0. 0.] <-> [9.9713945e-01 2.0253886e-03 8.3513820e-04]\n",
      "[1. 0. 0.] <-> [0.9947488  0.00306088 0.00219031]\n",
      "[0. 0. 1.] <-> [2.6146596e-02 3.7816313e-05 9.7381556e-01]\n",
      "[1. 0. 0.] <-> [0.3174994  0.6803031  0.00219753]\n",
      "[1. 0. 0.] <-> [0.970044   0.00267217 0.02728378]\n",
      "[1. 0. 0.] <-> [0.8824104  0.00134664 0.11624289]\n",
      "[0. 1. 0.] <-> [1.087867e-02 9.888455e-01 2.758067e-04]\n",
      "[1. 0. 0.] <-> [0.95705956 0.0014138  0.04152667]\n",
      "[1. 0. 0.] <-> [0.99667156 0.00201043 0.00131802]\n",
      "[0. 1. 0.] <-> [4.0148929e-02 9.5922154e-01 6.2965165e-04]\n",
      "[1. 0. 0.] <-> [0.8865258  0.11108919 0.00238489]\n",
      "[1. 0. 0.] <-> [0.99676764 0.00165373 0.0015787 ]\n",
      "[1. 0. 0.] <-> [0.9926179  0.00440793 0.00297421]\n",
      "[1. 0. 0.] <-> [9.9666083e-01 2.7367948e-03 6.0232286e-04]\n",
      "[0. 1. 0.] <-> [1.0875363e-02 9.8884904e-01 2.7556944e-04]\n",
      "[1. 0. 0.] <-> [0.9970247  0.00161093 0.00136428]\n",
      "[1. 0. 0.] <-> [9.9754351e-01 1.7576382e-03 6.9883652e-04]\n",
      "[1. 0. 0.] <-> [9.9751759e-01 1.5285971e-03 9.5384376e-04]\n",
      "[1. 0. 0.] <-> [9.972299e-01 1.897922e-03 8.722602e-04]\n",
      "[1. 0. 0.] <-> [9.9741483e-01 1.8950355e-03 6.9013005e-04]\n",
      "[1. 0. 0.] <-> [0.9972241  0.00159581 0.00118014]\n",
      "[0. 0. 1.] <-> [6.4347533e-04 4.7809453e-04 9.9887842e-01]\n",
      "[0. 1. 0.] <-> [4.5516014e-02 9.5379555e-01 6.8842125e-04]\n",
      "[1. 0. 0.] <-> [0.8193791  0.1781669  0.00245403]\n",
      "[1. 0. 0.] <-> [9.9583960e-01 3.2809672e-03 8.7938656e-04]\n",
      "[1. 0. 0.] <-> [0.9852363  0.00145952 0.01330423]\n",
      "[1. 0. 0.] <-> [0.9948813  0.00376725 0.00135141]\n",
      "[1. 0. 0.] <-> [0.9965029  0.0024641  0.00103297]\n",
      "[0. 0. 1.] <-> [1.6111730e-02 2.3047236e-05 9.8386520e-01]\n",
      "[0. 0. 1.] <-> [1.6828163e-02 2.4099458e-05 9.8314774e-01]\n",
      "[1. 0. 0.] <-> [0.96621865 0.03049996 0.00328145]\n",
      "[0. 1. 0.] <-> [1.0875277e-02 9.8884928e-01 2.7552983e-04]\n",
      "[1. 0. 0.] <-> [0.9939559  0.00157535 0.00446884]\n",
      "[1. 0. 0.] <-> [0.6840959  0.30736667 0.0085374 ]\n",
      "[0. 0. 1.] <-> [1.0928672e-02 7.1992334e-05 9.8899931e-01]\n",
      "[0. 1. 0.] <-> [1.0875273e-02 9.8884928e-01 2.7553010e-04]\n",
      "[0. 0. 1.] <-> [1.6059158e-02 2.3129496e-05 9.8391771e-01]\n",
      "[1. 0. 0.] <-> [0.99286735 0.00146461 0.0056681 ]\n",
      "[1. 0. 0.] <-> [0.6218199  0.0022574  0.37592274]\n",
      "[1. 0. 0.] <-> [9.9753571e-01 1.6093699e-03 8.5491000e-04]\n",
      "[0. 1. 0.] <-> [1.0875293e-02 9.8884928e-01 2.7554089e-04]\n",
      "[1. 0. 0.] <-> [0.9954412  0.00348837 0.00107034]\n",
      "[1. 0. 0.] <-> [0.9917223  0.00212024 0.00615755]\n",
      "[1. 0. 0.] <-> [0.9967417  0.00153212 0.00172628]\n",
      "[1. 0. 0.] <-> [0.9811721  0.01708888 0.00173907]\n",
      "[1. 0. 0.] <-> [9.9523085e-01 3.9675627e-03 8.0155686e-04]\n",
      "[1. 0. 0.] <-> [0.2210322  0.77720857 0.00175929]\n",
      "[1. 0. 0.] <-> [0.9975424  0.00144239 0.00101532]\n",
      "[1. 0. 0.] <-> [0.98969615 0.00809272 0.0022112 ]\n",
      "[1. 0. 0.] <-> [0.9947503  0.00418772 0.00106195]\n",
      "[1. 0. 0.] <-> [0.76214796 0.23496594 0.00288611]\n",
      "[1. 0. 0.] <-> [0.9947246  0.00159151 0.00368392]\n",
      "[0. 1. 0.] <-> [1.3216852e-02 9.8646718e-01 3.1599353e-04]\n",
      "[1. 0. 0.] <-> [9.9702734e-01 2.2062543e-03 7.6641416e-04]\n",
      "[0. 1. 0.] <-> [1.0875267e-02 9.8884928e-01 2.7552931e-04]\n",
      "[1. 0. 0.] <-> [0.9687433  0.02964175 0.00161494]\n",
      "[0. 0. 1.] <-> [1.3251209e-02 2.7392369e-05 9.8672140e-01]\n",
      "[1. 0. 0.] <-> [0.9973546  0.00158048 0.00106493]\n",
      "[0. 1. 0.] <-> [0.17057168 0.8280427  0.00138559]\n",
      "[1. 0. 0.] <-> [0.94470054 0.05298158 0.00231789]\n",
      "[1. 0. 0.] <-> [0.99214596 0.00154496 0.00630908]\n",
      "[0. 0. 1.] <-> [1.6617628e-02 2.3796774e-05 9.8335856e-01]\n",
      "[0. 1. 0.] <-> [1.0914045e-02 9.8880941e-01 2.7652062e-04]\n",
      "[1. 0. 0.] <-> [0.71777546 0.00106324 0.28116128]\n",
      "[1. 0. 0.] <-> [0.9755992  0.00147286 0.02292792]\n",
      "[0. 0. 1.] <-> [1.7021254e-02 2.4395506e-05 9.8295432e-01]\n",
      "[0. 1. 0.] <-> [1.0945603e-02 9.8877650e-01 2.7782828e-04]\n",
      "{'accuracy': 0.9567901234567902, 'mean_square_error': 0.07788960903196288, 'categorical_crossentropy': 0.12639196713765463, 'essential_metrics': {0: {'tp_hit': 74, 'fp_hit': 3, 'tn_hit': 27, 'fn_hit': 4}, 1: {'tp_hit': 14, 'fp_hit': 3, 'tn_hit': 89, 'fn_hit': 2}, 2: {'tp_hit': 13, 'fp_hit': 1, 'tn_hit': 93, 'fn_hit': 1}}}\n"
     ]
    }
   ],
   "source": [
    "# recall phase\n",
    "score = model.evaluate(x_test, y_test, False)\n",
    "print(score)"
   ]
  },
  {
   "cell_type": "code",
   "execution_count": 13,
   "metadata": {},
   "outputs": [
    {
     "name": "stdout",
     "output_type": "stream",
     "text": [
      "{'accuracy': 0.8271604938271605, 'mean_square_error': 0.41356855500553114, 'categorical_crossentropy': 0.7259758136890553, 'essential_metrics': {0: {'tp_hit': 78, 'fp_hit': 28, 'tn_hit': 2, 'fn_hit': 0}, 1: {'tp_hit': 0, 'fp_hit': 0, 'tn_hit': 92, 'fn_hit': 16}, 2: {'tp_hit': 2, 'fp_hit': 0, 'tn_hit': 94, 'fn_hit': 12}}, 'checkpoint': 10} \n",
      "\n",
      "\n",
      "{'accuracy': 0.8641975308641975, 'mean_square_error': 0.34900577281480855, 'categorical_crossentropy': 0.6297921781186704, 'essential_metrics': {0: {'tp_hit': 76, 'fp_hit': 20, 'tn_hit': 10, 'fn_hit': 2}, 1: {'tp_hit': 0, 'fp_hit': 0, 'tn_hit': 92, 'fn_hit': 16}, 2: {'tp_hit': 10, 'fp_hit': 2, 'tn_hit': 92, 'fn_hit': 4}}, 'checkpoint': 20} \n",
      "\n",
      "\n",
      "{'accuracy': 0.8395061728395061, 'mean_square_error': 0.3297707352392635, 'categorical_crossentropy': 0.559141441627785, 'essential_metrics': {0: {'tp_hit': 78, 'fp_hit': 26, 'tn_hit': 4, 'fn_hit': 0}, 1: {'tp_hit': 0, 'fp_hit': 0, 'tn_hit': 92, 'fn_hit': 16}, 2: {'tp_hit': 4, 'fp_hit': 0, 'tn_hit': 94, 'fn_hit': 10}}, 'checkpoint': 30} \n",
      "\n",
      "\n",
      "{'accuracy': 0.8641975308641975, 'mean_square_error': 0.31916139481265354, 'categorical_crossentropy': 0.562398698594835, 'essential_metrics': {0: {'tp_hit': 77, 'fp_hit': 19, 'tn_hit': 11, 'fn_hit': 1}, 1: {'tp_hit': 7, 'fp_hit': 3, 'tn_hit': 89, 'fn_hit': 9}, 2: {'tp_hit': 2, 'fp_hit': 0, 'tn_hit': 94, 'fn_hit': 12}}, 'checkpoint': 40} \n",
      "\n",
      "\n",
      "{'accuracy': 0.8395061728395061, 'mean_square_error': 0.2871449435817061, 'categorical_crossentropy': 0.47840287950303817, 'essential_metrics': {0: {'tp_hit': 77, 'fp_hit': 25, 'tn_hit': 5, 'fn_hit': 1}, 1: {'tp_hit': 0, 'fp_hit': 0, 'tn_hit': 92, 'fn_hit': 16}, 2: {'tp_hit': 5, 'fp_hit': 1, 'tn_hit': 93, 'fn_hit': 9}}, 'checkpoint': 50} \n",
      "\n",
      "\n",
      "{'accuracy': 0.8950617283950617, 'mean_square_error': 0.26033083721213196, 'categorical_crossentropy': 0.4772926613136574, 'essential_metrics': {0: {'tp_hit': 77, 'fp_hit': 16, 'tn_hit': 14, 'fn_hit': 1}, 1: {'tp_hit': 9, 'fp_hit': 0, 'tn_hit': 92, 'fn_hit': 7}, 2: {'tp_hit': 5, 'fp_hit': 1, 'tn_hit': 93, 'fn_hit': 9}}, 'checkpoint': 60} \n",
      "\n",
      "\n",
      "{'accuracy': 0.8950617283950617, 'mean_square_error': 0.22329476845532217, 'categorical_crossentropy': 0.40331349549470125, 'essential_metrics': {0: {'tp_hit': 76, 'fp_hit': 15, 'tn_hit': 15, 'fn_hit': 2}, 1: {'tp_hit': 10, 'fp_hit': 1, 'tn_hit': 91, 'fn_hit': 6}, 2: {'tp_hit': 5, 'fp_hit': 1, 'tn_hit': 93, 'fn_hit': 9}}, 'checkpoint': 70} \n",
      "\n",
      "\n",
      "{'accuracy': 0.9074074074074074, 'mean_square_error': 0.21500886252984686, 'categorical_crossentropy': 0.3834982624760381, 'essential_metrics': {0: {'tp_hit': 76, 'fp_hit': 13, 'tn_hit': 17, 'fn_hit': 2}, 1: {'tp_hit': 12, 'fp_hit': 2, 'tn_hit': 90, 'fn_hit': 4}, 2: {'tp_hit': 5, 'fp_hit': 0, 'tn_hit': 94, 'fn_hit': 9}}, 'checkpoint': 80} \n",
      "\n",
      "\n",
      "{'accuracy': 0.9320987654320988, 'mean_square_error': 0.18585924033108675, 'categorical_crossentropy': 0.3339758272524233, 'essential_metrics': {0: {'tp_hit': 73, 'fp_hit': 6, 'tn_hit': 24, 'fn_hit': 5}, 1: {'tp_hit': 16, 'fp_hit': 4, 'tn_hit': 88, 'fn_hit': 0}, 2: {'tp_hit': 8, 'fp_hit': 1, 'tn_hit': 93, 'fn_hit': 6}}, 'checkpoint': 90} \n",
      "\n",
      "\n",
      "{'accuracy': 0.9444444444444444, 'mean_square_error': 0.1558225917898793, 'categorical_crossentropy': 0.29109071802209924, 'essential_metrics': {0: {'tp_hit': 72, 'fp_hit': 3, 'tn_hit': 27, 'fn_hit': 6}, 1: {'tp_hit': 16, 'fp_hit': 5, 'tn_hit': 87, 'fn_hit': 0}, 2: {'tp_hit': 11, 'fp_hit': 1, 'tn_hit': 93, 'fn_hit': 3}}, 'checkpoint': 100} \n",
      "\n",
      "\n",
      "{'accuracy': 0.9320987654320988, 'mean_square_error': 0.1522871016766398, 'categorical_crossentropy': 0.2659884382177282, 'essential_metrics': {0: {'tp_hit': 73, 'fp_hit': 6, 'tn_hit': 24, 'fn_hit': 5}, 1: {'tp_hit': 15, 'fp_hit': 4, 'tn_hit': 88, 'fn_hit': 1}, 2: {'tp_hit': 9, 'fp_hit': 1, 'tn_hit': 93, 'fn_hit': 5}}, 'checkpoint': 110} \n",
      "\n",
      "\n",
      "{'accuracy': 0.9444444444444444, 'mean_square_error': 0.12921518055581777, 'categorical_crossentropy': 0.23240698708428276, 'essential_metrics': {0: {'tp_hit': 73, 'fp_hit': 4, 'tn_hit': 26, 'fn_hit': 5}, 1: {'tp_hit': 14, 'fp_hit': 4, 'tn_hit': 88, 'fn_hit': 2}, 2: {'tp_hit': 12, 'fp_hit': 1, 'tn_hit': 93, 'fn_hit': 2}}, 'checkpoint': 120} \n",
      "\n",
      "\n",
      "{'accuracy': 0.9506172839506173, 'mean_square_error': 0.10940229865998023, 'categorical_crossentropy': 0.19148104279129594, 'essential_metrics': {0: {'tp_hit': 74, 'fp_hit': 4, 'tn_hit': 26, 'fn_hit': 4}, 1: {'tp_hit': 14, 'fp_hit': 3, 'tn_hit': 89, 'fn_hit': 2}, 2: {'tp_hit': 12, 'fp_hit': 1, 'tn_hit': 93, 'fn_hit': 2}}, 'checkpoint': 130} \n",
      "\n",
      "\n",
      "{'accuracy': 0.9691358024691358, 'mean_square_error': 0.08361303062121503, 'categorical_crossentropy': 0.15809671967117875, 'essential_metrics': {0: {'tp_hit': 76, 'fp_hit': 3, 'tn_hit': 27, 'fn_hit': 2}, 1: {'tp_hit': 14, 'fp_hit': 1, 'tn_hit': 91, 'fn_hit': 2}, 2: {'tp_hit': 13, 'fp_hit': 1, 'tn_hit': 93, 'fn_hit': 1}}, 'checkpoint': 140} \n",
      "\n",
      "\n",
      "{'accuracy': 0.9506172839506173, 'mean_square_error': 0.08682805893218559, 'categorical_crossentropy': 0.15354177686903211, 'essential_metrics': {0: {'tp_hit': 74, 'fp_hit': 4, 'tn_hit': 26, 'fn_hit': 4}, 1: {'tp_hit': 14, 'fp_hit': 3, 'tn_hit': 89, 'fn_hit': 2}, 2: {'tp_hit': 12, 'fp_hit': 1, 'tn_hit': 93, 'fn_hit': 2}}, 'checkpoint': 150} \n",
      "\n",
      "\n",
      "{'accuracy': 0.9691358024691358, 'mean_square_error': 0.07182262440308858, 'categorical_crossentropy': 0.12625894723115144, 'essential_metrics': {0: {'tp_hit': 76, 'fp_hit': 3, 'tn_hit': 27, 'fn_hit': 2}, 1: {'tp_hit': 14, 'fp_hit': 1, 'tn_hit': 91, 'fn_hit': 2}, 2: {'tp_hit': 13, 'fp_hit': 1, 'tn_hit': 93, 'fn_hit': 1}}, 'checkpoint': 160} \n",
      "\n",
      "\n",
      "{'accuracy': 0.9567901234567902, 'mean_square_error': 0.07516972839358722, 'categorical_crossentropy': 0.13101673126220703, 'essential_metrics': {0: {'tp_hit': 73, 'fp_hit': 2, 'tn_hit': 28, 'fn_hit': 5}, 1: {'tp_hit': 15, 'fp_hit': 4, 'tn_hit': 88, 'fn_hit': 1}, 2: {'tp_hit': 13, 'fp_hit': 1, 'tn_hit': 93, 'fn_hit': 1}}, 'checkpoint': 170} \n",
      "\n",
      "\n",
      "{'accuracy': 0.9691358024691358, 'mean_square_error': 0.07240161552076627, 'categorical_crossentropy': 0.1263656351301405, 'essential_metrics': {0: {'tp_hit': 73, 'fp_hit': 0, 'tn_hit': 30, 'fn_hit': 5}, 1: {'tp_hit': 16, 'fp_hit': 4, 'tn_hit': 88, 'fn_hit': 0}, 2: {'tp_hit': 14, 'fp_hit': 1, 'tn_hit': 93, 'fn_hit': 0}}, 'checkpoint': 180} \n",
      "\n",
      "\n",
      "{'accuracy': 0.9567901234567902, 'mean_square_error': 0.07463033461961643, 'categorical_crossentropy': 0.12198522355821398, 'essential_metrics': {0: {'tp_hit': 74, 'fp_hit': 3, 'tn_hit': 27, 'fn_hit': 4}, 1: {'tp_hit': 14, 'fp_hit': 3, 'tn_hit': 89, 'fn_hit': 2}, 2: {'tp_hit': 13, 'fp_hit': 1, 'tn_hit': 93, 'fn_hit': 1}}, 'checkpoint': 190} \n",
      "\n",
      "\n",
      "{'accuracy': 0.9567901234567902, 'mean_square_error': 0.07788960903196288, 'categorical_crossentropy': 0.12639196713765463, 'essential_metrics': {0: {'tp_hit': 74, 'fp_hit': 3, 'tn_hit': 27, 'fn_hit': 4}, 1: {'tp_hit': 14, 'fp_hit': 3, 'tn_hit': 89, 'fn_hit': 2}, 2: {'tp_hit': 13, 'fp_hit': 1, 'tn_hit': 93, 'fn_hit': 1}}, 'checkpoint': 200} \n",
      "\n",
      "\n"
     ]
    }
   ],
   "source": [
    "for checkpoint in checkpoints:\n",
    "    print(checkpoint, '\\n\\n')"
   ]
  },
  {
   "cell_type": "code",
   "execution_count": 14,
   "metadata": {},
   "outputs": [
    {
     "name": "stdout",
     "output_type": "stream",
     "text": [
      "Layer 1\n",
      "Neuron 0: weights:\n",
      "[ 2.5712729 -3.        -3.        -1.3501209 -3.       ]\n",
      " bias: 0.7322009801864624\n",
      "\n",
      "Neuron 1: weights:\n",
      "[ 1.9541024 -3.        -3.        -1.462577  -0.2599257]\n",
      " bias: 1.7499804496765137\n",
      "\n",
      "Neuron 2: weights:\n",
      "[-0.30518147  3.          1.017234   -3.         -2.4526875 ]\n",
      " bias: 1.8615238666534424\n",
      "\n",
      "Neuron 3: weights:\n",
      "[ 0.08999978 -2.95865    -0.37215608  1.9592215   3.        ]\n",
      " bias: -1.9913846254348755\n",
      "\n",
      "$\n",
      "Layer 2\n",
      "Neuron 0: weights:\n",
      "[ 3.         2.0711024  3.        -2.7479534]\n",
      " bias: -3.0\n",
      "\n",
      "Neuron 1: weights:\n",
      "[-3.       -3.        2.736955 -3.      ]\n",
      " bias: 1.7730956077575684\n",
      "\n",
      "Neuron 2: weights:\n",
      "[-0.196197   1.3095815 -3.         3.       ]\n",
      " bias: -0.6755548715591431\n",
      "\n",
      "$\n",
      "\n"
     ]
    }
   ],
   "source": [
    "print(model)"
   ]
  }
 ],
 "metadata": {
  "kernelspec": {
   "display_name": "Python 3",
   "language": "python",
   "name": "python3"
  },
  "language_info": {
   "codemirror_mode": {
    "name": "ipython",
    "version": 3
   },
   "file_extension": ".py",
   "mimetype": "text/x-python",
   "name": "python",
   "nbconvert_exporter": "python",
   "pygments_lexer": "ipython3",
   "version": "3.6.12"
  }
 },
 "nbformat": 4,
 "nbformat_minor": 2
}
