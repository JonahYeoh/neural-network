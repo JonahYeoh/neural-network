{
 "cells": [
  {
   "cell_type": "code",
   "execution_count": 1,
   "metadata": {},
   "outputs": [],
   "source": [
    "# dependency\n",
    "import numpy as np\n",
    "import pandas as pd\n",
    "import copy\n",
    "import math\n",
    "import sys\n",
    "import os\n",
    "from activations import relu, leaky_relu, sigmoid, tanh, softmax, d_sigmoid, d_relu\n",
    "from initializers import glorot_uniform, random_normal, random_uniform\n",
    "from regularizers import l1_regularizer, l2_regularizer\n",
    "from utility import trim_tail, multiply, subtract, get_nparams, one_hot_encoding, get_data\n",
    "from metrics import MSE, CCE, ACC, PRECISION, RECALL, essential_metrics, wondering_penalty, close_gap_penalty\n",
    "from pso import PSO\n",
    "from ga import GA\n",
    "from nn import Network\n",
    "from layer import DenseLayer\n",
    "from scalers import MinMaxScaler, StandardScaler"
   ]
  },
  {
   "cell_type": "code",
   "execution_count": 2,
   "metadata": {},
   "outputs": [],
   "source": [
    "# reference\n",
    "metrics_fn_dict = dict()\n",
    "metrics_fn_dict['accuracy'] = ACC\n",
    "metrics_fn_dict['categorical_crossentropy'] = CCE\n",
    "metrics_fn_dict['mean_square_error'] = MSE\n",
    "metrics_fn_dict['precision'] = PRECISION\n",
    "metrics_fn_dict['recall'] = RECALL\n",
    "metrics_fn_dict['essential_metrics'] = essential_metrics"
   ]
  },
  {
   "cell_type": "code",
   "execution_count": 3,
   "metadata": {},
   "outputs": [],
   "source": [
    "# model\n",
    "model = Network(5, lr = None)\n",
    "model.add_layer(DenseLayer(1, 4, True, afn=sigmoid, dafn=None, rfn=None))\n",
    "model.add_layer(DenseLayer(2, 3, True, afn=softmax, dafn=None, rfn=None))"
   ]
  },
  {
   "cell_type": "code",
   "execution_count": 4,
   "metadata": {},
   "outputs": [],
   "source": [
    "pso = PSO(dict(m = 50,\n",
    "    weight_constraint = [-3, 3], \n",
    "    velocity_constraint = [-0.1, 0.1],\n",
    "    c1 = 2,\n",
    "    c2 = 2,\n",
    "    w = 1,\n",
    "    w_decay = 1,\n",
    "    scale_hyperparameter = False,\n",
    "    regularizer = l1_regularizer,\n",
    "    mask = True))"
   ]
  },
  {
   "cell_type": "code",
   "execution_count": 5,
   "metadata": {},
   "outputs": [
    {
     "name": "stdout",
     "output_type": "stream",
     "text": [
      "building layer 1 with 5\n",
      "24\n",
      "building layer 2 with 4\n",
      "15\n"
     ]
    }
   ],
   "source": [
    "model.compile(loss_fn = 'categorical_crossentropy', optimizer = pso, \\\n",
    "    metrics = ['accuracy', 'mean_square_error', 'categorical_crossentropy'])"
   ]
  },
  {
   "cell_type": "code",
   "execution_count": 6,
   "metadata": {},
   "outputs": [
    {
     "name": "stdout",
     "output_type": "stream",
     "text": [
      "<class 'pandas.core.frame.DataFrame'>\n",
      "RangeIndex: 107 entries, 0 to 106\n",
      "Data columns (total 6 columns):\n",
      " #   Column  Non-Null Count  Dtype  \n",
      "---  ------  --------------  -----  \n",
      " 0   f1      107 non-null    float32\n",
      " 1   f2      107 non-null    float32\n",
      " 2   f3      107 non-null    float32\n",
      " 3   f4      107 non-null    float32\n",
      " 4   f5      107 non-null    float32\n",
      " 5   label   107 non-null    float32\n",
      "dtypes: float32(6)\n",
      "memory usage: 2.6 KB\n",
      "None\n",
      "<class 'pandas.core.frame.DataFrame'>\n",
      "RangeIndex: 108 entries, 0 to 107\n",
      "Data columns (total 6 columns):\n",
      " #   Column  Non-Null Count  Dtype  \n",
      "---  ------  --------------  -----  \n",
      " 0   f1      108 non-null    float32\n",
      " 1   f2      108 non-null    float32\n",
      " 2   f3      108 non-null    float32\n",
      " 3   f4      108 non-null    float32\n",
      " 4   f5      108 non-null    float32\n",
      " 5   label   108 non-null    float32\n",
      "dtypes: float32(6)\n",
      "memory usage: 2.7 KB\n",
      "None\n"
     ]
    }
   ],
   "source": [
    "# data loading\n",
    "DATA = os.path.join('c:\\\\Users\\\\tcumi\\\\github_repo\\\\neural-network\\\\', 'dataset')\n",
    "GROUP = 3\n",
    "COLUMNS = ['f1', 'f2', 'f3', 'f4', 'f5', 'label']\n",
    "N_CLASS = 3\n",
    "EPOCHS = 500\n",
    "train_dir, test_dir = \"..//dataset//training_data{}.txt\".format(GROUP), \"..//dataset//testing_data{}.txt\".format(GROUP)\n",
    "train, test = get_data(DATA, train_dir, COLUMNS), get_data(DATA, test_dir, COLUMNS)\n",
    "# shuffle\n",
    "train, test = train.sample(frac=1), test.sample(frac=1)\n",
    "x_train, y_train = train.drop('label', axis=1), train['label']\n",
    "x_test, y_test = test.drop('label', axis=1), test['label']"
   ]
  },
  {
   "cell_type": "code",
   "execution_count": 7,
   "metadata": {},
   "outputs": [],
   "source": [
    "# data scaling and encoding\n",
    "scaler = StandardScaler(['f1', 'f2', 'f3', 'f4', 'f5'])\n",
    "scaler.fit(x_train)\n",
    "x_train = scaler.transform(x_train)\n",
    "x_test = scaler.transform(x_test)\n",
    "y_train = one_hot_encoding(y_train, N_CLASS)\n",
    "y_test = one_hot_encoding(y_test, N_CLASS)"
   ]
  },
  {
   "cell_type": "code",
   "execution_count": 8,
   "metadata": {
    "tags": [
     "outputPrepend"
    ]
   },
   "outputs": [
    {
     "name": "stdout",
     "output_type": "stream",
     "text": [
      "Checkpoint 100, Accuracy: 0.9012345679012346, Loss: 0.3512623398392289\n",
      "Checkpoint 200, Accuracy: 0.9444444444444444, Loss: 0.2658232053120931\n",
      "Checkpoint 300, Accuracy: 0.9567901234567902, Loss: 0.2597531212700738\n",
      "Checkpoint 400, Accuracy: 0.9567901234567902, Loss: 0.2597531212700738\n",
      "Checkpoint 500, Accuracy: 0.9567901234567902, Loss: 0.24281261585376882\n"
     ]
    }
   ],
   "source": [
    "# learning phase\n",
    "breakpoint = 100\n",
    "checkpoints = list()\n",
    "history = list()\n",
    "for century in range(0, EPOCHS, breakpoint):\n",
    "    sub_history = model.fit(x_train, y_train, breakpoint, verbose = 0)\n",
    "    score = model.evaluate(x_test, y_test, False, verbose = 0)\n",
    "    print('Checkpoint {}, Accuracy: {}, Loss: {}'.format(century+breakpoint, score['accuracy'], score[model.loss_fn]))\n",
    "    score['checkpoint'] = century + breakpoint\n",
    "    checkpoints.append(score)\n",
    "    history.extend(sub_history)"
   ]
  },
  {
   "cell_type": "code",
   "execution_count": 9,
   "metadata": {},
   "outputs": [],
   "source": [
    "import matplotlib.pyplot as plt\n",
    "\n",
    "def draw_plot(x, y_list, x_label=None, y_label=None, legend=None, title=None):\n",
    "    fig, ax = plt.subplots(figsize=(12,5))\n",
    "    for xi, yi in zip(x, y_list):\n",
    "        ax.plot(xi, yi)\n",
    "    if x_label is not None and y_label is not None:\n",
    "        ax.set(xlabel=x_label, ylabel=y_label, title='{} VS {}'.format(x_label, y_label))\n",
    "    if legend is not None:\n",
    "        ax.legend(legend)\n",
    "    ax.grid()\n",
    "    plt.show()"
   ]
  },
  {
   "cell_type": "code",
   "execution_count": 10,
   "metadata": {},
   "outputs": [
    {
     "name": "stdout",
     "output_type": "stream",
     "text": [
      "[1. 0. 0.] <-> [0.92987204 0.04793403 0.02219388]\n",
      "[1. 0. 0.] <-> [0.94118387 0.01766894 0.04114717]\n",
      "[1. 0. 0.] <-> [0.9106256  0.03359751 0.05577688]\n",
      "[1. 0. 0.] <-> [0.9522186  0.01680239 0.03097904]\n",
      "[1. 0. 0.] <-> [0.9279385  0.01591375 0.05614775]\n",
      "[0. 0. 1.] <-> [0.7203814  0.01950584 0.26011273]\n",
      "[1. 0. 0.] <-> [0.95907116 0.01563216 0.02529665]\n",
      "[1. 0. 0.] <-> [0.9442758  0.02687974 0.02884451]\n",
      "[0. 0. 1.] <-> [0.3555307  0.01388435 0.63058496]\n",
      "[1. 0. 0.] <-> [0.93148154 0.02614441 0.04237405]\n",
      "[0. 1. 0.] <-> [0.5070189  0.45799753 0.03498355]\n",
      "[0. 1. 0.] <-> [0.10817669 0.87121636 0.02060693]\n",
      "[1. 0. 0.] <-> [0.9480521  0.01730271 0.03464508]\n",
      "[0. 0. 1.] <-> [0.24644895 0.01229882 0.7412522 ]\n",
      "[1. 0. 0.] <-> [0.9121954  0.01972548 0.06807907]\n",
      "[1. 0. 0.] <-> [0.57047373 0.3911487  0.03837765]\n",
      "[1. 0. 0.] <-> [0.9510797  0.01839231 0.03052792]\n",
      "[1. 0. 0.] <-> [0.88118    0.06881192 0.0500081 ]\n",
      "[1. 0. 0.] <-> [0.9276228  0.02766651 0.04471065]\n",
      "[0. 0. 1.] <-> [0.09631117 0.00912594 0.8945629 ]\n",
      "[1. 0. 0.] <-> [0.9539412  0.01392941 0.03212935]\n",
      "[1. 0. 0.] <-> [0.9139257  0.02356838 0.06250591]\n",
      "[1. 0. 0.] <-> [0.9452401  0.02332637 0.03143346]\n",
      "[1. 0. 0.] <-> [0.870835   0.08446259 0.04470243]\n",
      "[1. 0. 0.] <-> [0.5155674  0.45066044 0.0337722 ]\n",
      "[1. 0. 0.] <-> [0.6764907  0.25300682 0.07050256]\n",
      "[1. 0. 0.] <-> [0.926773   0.04029441 0.03293267]\n",
      "[1. 0. 0.] <-> [0.9321415  0.02624999 0.0416085 ]\n",
      "[1. 0. 0.] <-> [0.66329706 0.278536   0.05816699]\n",
      "[0. 0. 1.] <-> [0.15279213 0.01187062 0.8353373 ]\n",
      "[1. 0. 0.] <-> [0.80626416 0.16953628 0.02419949]\n",
      "[0. 1. 0.] <-> [0.245375   0.73461276 0.02001218]\n",
      "[0. 0. 1.] <-> [0.89191777 0.01003941 0.09804277]\n",
      "[0. 1. 0.] <-> [0.04008549 0.9359057  0.02400882]\n",
      "[1. 0. 0.] <-> [0.95002383 0.03200932 0.01796685]\n",
      "[1. 0. 0.] <-> [0.91331786 0.0550627  0.03161946]\n",
      "[1. 0. 0.] <-> [0.9349313  0.03703318 0.0280355 ]\n",
      "[1. 0. 0.] <-> [0.9592319  0.01342516 0.02734283]\n",
      "[1. 0. 0.] <-> [0.95415324 0.01607023 0.02977654]\n",
      "[1. 0. 0.] <-> [0.9400148  0.03541249 0.02457277]\n",
      "[0. 0. 1.] <-> [0.10142417 0.00935136 0.8892245 ]\n",
      "[0. 0. 1.] <-> [0.8446056  0.01669175 0.13870265]\n",
      "[1. 0. 0.] <-> [0.92175114 0.03617502 0.04207383]\n",
      "[0. 1. 0.] <-> [0.03398505 0.9435116  0.02250331]\n",
      "[0. 0. 1.] <-> [0.36820185 0.01389664 0.61790144]\n",
      "[1. 0. 0.] <-> [0.8229321  0.12854713 0.04852077]\n",
      "[1. 0. 0.] <-> [0.93053186 0.04410883 0.02535927]\n",
      "[0. 1. 0.] <-> [0.16931397 0.80471677 0.0259693 ]\n",
      "[0. 1. 0.] <-> [0.0912303  0.8884782  0.02029146]\n",
      "[0. 1. 0.] <-> [0.61545783 0.36341876 0.02112337]\n",
      "[1. 0. 0.] <-> [0.8322121  0.03044369 0.13734427]\n",
      "[1. 0. 0.] <-> [0.85375774 0.02540068 0.12084156]\n",
      "[1. 0. 0.] <-> [0.89381945 0.04788733 0.05829318]\n",
      "[0. 1. 0.] <-> [0.06038278 0.92031157 0.01930565]\n",
      "[1. 0. 0.] <-> [0.93165237 0.03486652 0.03348109]\n",
      "[1. 0. 0.] <-> [0.923773   0.01233872 0.06388825]\n",
      "[1. 0. 0.] <-> [0.72774243 0.23366758 0.03858995]\n",
      "[1. 0. 0.] <-> [0.9343149  0.0342815  0.03140359]\n",
      "[0. 1. 0.] <-> [0.04970403 0.9323626  0.01793329]\n",
      "[0. 0. 1.] <-> [0.74530417 0.0124468  0.24224901]\n",
      "[1. 0. 0.] <-> [0.8671167  0.08265086 0.05023246]\n",
      "[0. 0. 1.] <-> [0.44232714 0.02169332 0.5359795 ]\n",
      "[1. 0. 0.] <-> [0.9216948  0.01497868 0.0633266 ]\n",
      "[1. 0. 0.] <-> [0.77411664 0.09369905 0.13218431]\n",
      "[0. 1. 0.] <-> [0.07907399 0.90110517 0.01982081]\n",
      "[1. 0. 0.] <-> [0.9443842  0.02171477 0.03390107]\n",
      "[1. 0. 0.] <-> [0.75710636 0.02881916 0.21407458]\n",
      "[1. 0. 0.] <-> [0.95447004 0.02252294 0.02300704]\n",
      "[0. 1. 0.] <-> [0.07867317 0.9070774  0.01424945]\n",
      "[0. 1. 0.] <-> [0.3421609  0.6390425  0.01879664]\n",
      "[1. 0. 0.] <-> [0.64316154 0.19055265 0.16628583]\n",
      "[0. 1. 0.] <-> [0.3717789  0.6129178  0.01530335]\n",
      "[1. 0. 0.] <-> [0.9269611  0.02149211 0.05154675]\n",
      "[1. 0. 0.] <-> [0.66208774 0.03026633 0.30764595]\n",
      "[1. 0. 0.] <-> [0.8873941  0.01218364 0.10042226]\n",
      "[0. 0. 1.] <-> [0.41548747 0.01402207 0.5704905 ]\n",
      "[1. 0. 0.] <-> [0.92895204 0.02194051 0.04910741]\n",
      "[1. 0. 0.] <-> [0.91751087 0.01358995 0.06889921]\n",
      "[1. 0. 0.] <-> [0.88194764 0.02700303 0.09104937]\n",
      "[1. 0. 0.] <-> [0.8845068  0.08058336 0.03490975]\n",
      "[0. 0. 1.] <-> [0.5717866  0.02166701 0.4065464 ]\n",
      "[1. 0. 0.] <-> [0.94419503 0.01137927 0.04442577]\n",
      "[1. 0. 0.] <-> [0.929289   0.04503784 0.02567308]\n",
      "[1. 0. 0.] <-> [0.8754223  0.0400739  0.08450385]\n",
      "[1. 0. 0.] <-> [0.87345076 0.02681308 0.09973622]\n",
      "[1. 0. 0.] <-> [0.934359   0.01190556 0.05373543]\n",
      "[1. 0. 0.] <-> [0.9078514  0.05501193 0.03713667]\n",
      "[1. 0. 0.] <-> [0.9301556  0.01705623 0.05278816]\n",
      "[1. 0. 0.] <-> [0.9365593  0.01159653 0.05184415]\n",
      "[1. 0. 0.] <-> [0.9534076  0.01804022 0.02855215]\n",
      "[1. 0. 0.] <-> [0.8967517  0.03432427 0.06892411]\n",
      "[1. 0. 0.] <-> [0.93774736 0.03024516 0.03200737]\n",
      "[1. 0. 0.] <-> [0.92163384 0.03228817 0.04607802]\n",
      "[1. 0. 0.] <-> [0.95730835 0.0213744  0.02131729]\n",
      "[1. 0. 0.] <-> [0.75078946 0.19129571 0.05791485]\n",
      "[1. 0. 0.] <-> [0.7925724  0.02341797 0.18400973]\n",
      "[1. 0. 0.] <-> [0.89245933 0.05013936 0.0574014 ]\n",
      "[1. 0. 0.] <-> [0.9532974  0.02851967 0.01818297]\n",
      "[1. 0. 0.] <-> [0.9378519  0.01323793 0.04891008]\n",
      "[0. 1. 0.] <-> [0.4658236  0.51335514 0.02082125]\n",
      "[1. 0. 0.] <-> [0.79269016 0.15882197 0.04848794]\n",
      "[1. 0. 0.] <-> [0.92326385 0.02654377 0.05019241]\n",
      "[1. 0. 0.] <-> [0.94832563 0.01602606 0.03564824]\n",
      "[1. 0. 0.] <-> [0.83945614 0.05686028 0.10368354]\n",
      "[0. 0. 1.] <-> [0.10511006 0.01163794 0.88325197]\n",
      "[0. 1. 0.] <-> [0.31412837 0.6457374  0.04013425]\n",
      "[1. 0. 0.] <-> [0.8508945  0.11478233 0.03432317]\n",
      "[1. 0. 0.] <-> [0.94342506 0.0296054  0.0269696 ]\n",
      "{'accuracy': 0.9567901234567902, 'mean_square_error': 0.12337956642948099, 'categorical_crossentropy': 0.24281261585376882, 'essential_metrics': {0: {'tp_hit': 78, 'fp_hit': 7, 'tn_hit': 23, 'fn_hit': 0}, 1: {'tp_hit': 14, 'fp_hit': 0, 'tn_hit': 92, 'fn_hit': 2}, 2: {'tp_hit': 9, 'fp_hit': 0, 'tn_hit': 94, 'fn_hit': 5}}}\n"
     ]
    }
   ],
   "source": [
    "# recall phase\n",
    "score = model.evaluate(x_test, y_test, False)\n",
    "print(score)"
   ]
  },
  {
   "cell_type": "code",
   "execution_count": 11,
   "metadata": {},
   "outputs": [
    {
     "data": {
      "image/png": "[encoded data removed]",
      "text/plain": [
       "<Figure size 864x360 with 1 Axes>"
      ]
     },
     "metadata": {
      "needs_background": "light"
     },
     "output_type": "display_data"
    },
    {
     "data": {
      "image/png": "[encoded data removed]",
      "text/plain": [
       "<Figure size 864x360 with 1 Axes>"
      ]
     },
     "metadata": {
      "needs_background": "light"
     },
     "output_type": "display_data"
    }
   ],
   "source": [
    "draw_plot(x = [[i for i in range(len(history))], [(i+1)*breakpoint for i in range(len(checkpoints))]], y_list = [history, [ ckp[model.loss_fn] for ckp in checkpoints ]], x_label = 'Epochs', \\\n",
    "    y_label = model.loss_fn, legend=['train', 'test'])\n",
    "acc = [ ckp['accuracy'] for ckp in checkpoints ]\n",
    "draw_plot(x = [[(i+1)*breakpoint for i in range(len(checkpoints))]], y_list = [acc], x_label = 'Checkpoints', \\\n",
    "    y_label = 'accuracy')"
   ]
  },
  {
   "cell_type": "code",
   "execution_count": 12,
   "metadata": {},
   "outputs": [
    {
     "name": "stdout",
     "output_type": "stream",
     "text": [
      "{'accuracy': 0.9012345679012346, 'mean_square_error': 0.19779014232549091, 'categorical_crossentropy': 0.3512623398392289, 'essential_metrics': {0: {'tp_hit': 78, 'fp_hit': 16, 'tn_hit': 14, 'fn_hit': 0}, 1: {'tp_hit': 10, 'fp_hit': 0, 'tn_hit': 92, 'fn_hit': 6}, 2: {'tp_hit': 4, 'fp_hit': 0, 'tn_hit': 94, 'fn_hit': 10}}, 'checkpoint': 100} \n",
      "\n",
      "\n",
      "{'accuracy': 0.9444444444444444, 'mean_square_error': 0.144010522546358, 'categorical_crossentropy': 0.2658232053120931, 'essential_metrics': {0: {'tp_hit': 78, 'fp_hit': 9, 'tn_hit': 21, 'fn_hit': 0}, 1: {'tp_hit': 13, 'fp_hit': 0, 'tn_hit': 92, 'fn_hit': 3}, 2: {'tp_hit': 8, 'fp_hit': 0, 'tn_hit': 94, 'fn_hit': 6}}, 'checkpoint': 200} \n",
      "\n",
      "\n",
      "{'accuracy': 0.9567901234567902, 'mean_square_error': 0.13140575069279778, 'categorical_crossentropy': 0.2597531212700738, 'essential_metrics': {0: {'tp_hit': 78, 'fp_hit': 7, 'tn_hit': 23, 'fn_hit': 0}, 1: {'tp_hit': 14, 'fp_hit': 0, 'tn_hit': 92, 'fn_hit': 2}, 2: {'tp_hit': 9, 'fp_hit': 0, 'tn_hit': 94, 'fn_hit': 5}}, 'checkpoint': 300} \n",
      "\n",
      "\n",
      "{'accuracy': 0.9567901234567902, 'mean_square_error': 0.13140575069279778, 'categorical_crossentropy': 0.2597531212700738, 'essential_metrics': {0: {'tp_hit': 78, 'fp_hit': 7, 'tn_hit': 23, 'fn_hit': 0}, 1: {'tp_hit': 14, 'fp_hit': 0, 'tn_hit': 92, 'fn_hit': 2}, 2: {'tp_hit': 9, 'fp_hit': 0, 'tn_hit': 94, 'fn_hit': 5}}, 'checkpoint': 400} \n",
      "\n",
      "\n",
      "{'accuracy': 0.9567901234567902, 'mean_square_error': 0.12337956642948099, 'categorical_crossentropy': 0.24281261585376882, 'essential_metrics': {0: {'tp_hit': 78, 'fp_hit': 7, 'tn_hit': 23, 'fn_hit': 0}, 1: {'tp_hit': 14, 'fp_hit': 0, 'tn_hit': 92, 'fn_hit': 2}, 2: {'tp_hit': 9, 'fp_hit': 0, 'tn_hit': 94, 'fn_hit': 5}}, 'checkpoint': 500} \n",
      "\n",
      "\n"
     ]
    }
   ],
   "source": [
    "for checkpoint in checkpoints:\n",
    "    print(checkpoint, '\\n\\n')"
   ]
  },
  {
   "cell_type": "code",
   "execution_count": 13,
   "metadata": {},
   "outputs": [
    {
     "name": "stdout",
     "output_type": "stream",
     "text": [
      "Layer 1\n",
      "Neuron 0: weights:\n",
      "[-0.31953996  0.423305    0.09611858 -0.15576454 -0.23577534]\n",
      " bias: -0.04637517035007477\n",
      "\n",
      "Neuron 1: weights:\n",
      "[-0.06597438 -0.0421974   0.6640519   1.4764401   1.03156   ]\n",
      " bias: -0.04881703108549118\n",
      "\n",
      "Neuron 2: weights:\n",
      "[ 1.4723049e-02  1.6365170e+00  1.1803218e-03 -5.1549655e-01\n",
      " -7.0933795e-01]\n",
      " bias: 0.5279276371002197\n",
      "\n",
      "Neuron 3: weights:\n",
      "[ 1.2302119  -2.0377674  -1.8871679   0.04520777  0.02801886]\n",
      " bias: 1.357301950454712\n",
      "\n",
      "$\n",
      "Layer 2\n",
      "Neuron 0: weights:\n",
      "[-0.00626195 -3.          0.4442143   2.6298454 ]\n",
      " bias: 0.006992282811552286\n",
      "\n",
      "Neuron 1: weights:\n",
      "[ 0.8970135 -0.0118433  0.3835882 -3.       ]\n",
      " bias: 0.18186800181865692\n",
      "\n",
      "Neuron 2: weights:\n",
      "[-0.57206744  1.4828225  -3.          0.45449293]\n",
      " bias: 0.0061178007163107395\n",
      "\n",
      "$\n",
      "\n"
     ]
    }
   ],
   "source": [
    "print(model)"
   ]
  }
 ],
 "metadata": {
  "kernelspec": {
   "display_name": "Python 3",
   "language": "python",
   "name": "python3"
  },
  "language_info": {
   "codemirror_mode": {
    "name": "ipython",
    "version": 3
   },
   "file_extension": ".py",
   "mimetype": "text/x-python",
   "name": "python",
   "nbconvert_exporter": "python",
   "pygments_lexer": "ipython3",
   "version": "3.6.10"
  }
 },
 "nbformat": 4,
 "nbformat_minor": 2
}
