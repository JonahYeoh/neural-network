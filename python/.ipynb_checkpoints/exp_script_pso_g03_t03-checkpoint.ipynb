{
 "cells": [
  {
   "cell_type": "code",
   "execution_count": 1,
   "metadata": {},
   "outputs": [],
   "source": [
    "# dependency\n",
    "import numpy as np\n",
    "import pandas as pd\n",
    "import copy\n",
    "import math\n",
    "import sys\n",
    "import os\n",
    "from activations import relu, leaky_relu, sigmoid, tanh, softmax, d_sigmoid, d_relu\n",
    "from initializers import glorot_uniform, random_normal, random_uniform\n",
    "from regularizers import l1_regularizer, l2_regularizer\n",
    "from utility import trim_tail, multiply, subtract, get_nparams, one_hot_encoding, get_data\n",
    "from metrics import MSE, CCE, ACC, PRECISION, RECALL, essential_metrics, wondering_penalty, close_gap_penalty\n",
    "from pso import PSO\n",
    "from ga import GA\n",
    "from nn import Network\n",
    "from layer import DenseLayer\n",
    "from scalers import MinMaxScaler, StandardScaler"
   ]
  },
  {
   "cell_type": "code",
   "execution_count": 2,
   "metadata": {},
   "outputs": [],
   "source": [
    "# reference\n",
    "metrics_fn_dict = dict()\n",
    "metrics_fn_dict['accuracy'] = ACC\n",
    "metrics_fn_dict['categorical_crossentropy'] = CCE\n",
    "metrics_fn_dict['mean_square_error'] = MSE\n",
    "metrics_fn_dict['precision'] = PRECISION\n",
    "metrics_fn_dict['recall'] = RECALL\n",
    "metrics_fn_dict['essential_metrics'] = essential_metrics"
   ]
  },
  {
   "cell_type": "code",
   "execution_count": 3,
   "metadata": {},
   "outputs": [],
   "source": [
    "# model\n",
    "model = Network(5, lr = None)\n",
    "model.add_layer(DenseLayer(1, 4, True, afn=sigmoid, dafn=None, rfn=None))\n",
    "model.add_layer(DenseLayer(2, 3, True, afn=softmax, dafn=None, rfn=None))"
   ]
  },
  {
   "cell_type": "code",
   "execution_count": 4,
   "metadata": {},
   "outputs": [
    {
     "name": "stdout",
     "output_type": "stream",
     "text": [
      "see one see two 2 2\n"
     ]
    }
   ],
   "source": [
    "pso = PSO(dict(m = 50,\n",
    "    weight_constraint = [-3, 3], \n",
    "    velocity_constraint = [-0.1, 0.1],\n",
    "    c1 = 2,\n",
    "    c2 = 2,\n",
    "    w = 1,\n",
    "    w_decay = 1,\n",
    "    scale_hyperparameter = False,\n",
    "    regularizer = l1_regularizer,\n",
    "    mask = True))"
   ]
  },
  {
   "cell_type": "code",
   "execution_count": 5,
   "metadata": {},
   "outputs": [
    {
     "name": "stdout",
     "output_type": "stream",
     "text": [
      "building layer 1 with 5\n",
      "24\n",
      "building layer 2 with 4\n",
      "15\n"
     ]
    }
   ],
   "source": [
    "model.compile(loss_fn = 'categorical_crossentropy', optimizer = pso, \\\n",
    "    metrics = ['accuracy', 'mean_square_error', 'categorical_crossentropy'])"
   ]
  },
  {
   "cell_type": "code",
   "execution_count": 6,
   "metadata": {},
   "outputs": [
    {
     "name": "stdout",
     "output_type": "stream",
     "text": [
      "<class 'pandas.core.frame.DataFrame'>\n",
      "RangeIndex: 107 entries, 0 to 106\n",
      "Data columns (total 6 columns):\n",
      " #   Column  Non-Null Count  Dtype  \n",
      "---  ------  --------------  -----  \n",
      " 0   f1      107 non-null    float32\n",
      " 1   f2      107 non-null    float32\n",
      " 2   f3      107 non-null    float32\n",
      " 3   f4      107 non-null    float32\n",
      " 4   f5      107 non-null    float32\n",
      " 5   label   107 non-null    float32\n",
      "dtypes: float32(6)\n",
      "memory usage: 2.6 KB\n",
      "None\n",
      "<class 'pandas.core.frame.DataFrame'>\n",
      "RangeIndex: 108 entries, 0 to 107\n",
      "Data columns (total 6 columns):\n",
      " #   Column  Non-Null Count  Dtype  \n",
      "---  ------  --------------  -----  \n",
      " 0   f1      108 non-null    float32\n",
      " 1   f2      108 non-null    float32\n",
      " 2   f3      108 non-null    float32\n",
      " 3   f4      108 non-null    float32\n",
      " 4   f5      108 non-null    float32\n",
      " 5   label   108 non-null    float32\n",
      "dtypes: float32(6)\n",
      "memory usage: 2.7 KB\n",
      "None\n"
     ]
    }
   ],
   "source": [
    "# data loading\n",
    "DATA = os.path.join('c:\\\\Users\\\\tcumi\\\\github_repo\\\\neural-network\\\\', 'dataset')\n",
    "GROUP = 3\n",
    "COLUMNS = ['f1', 'f2', 'f3', 'f4', 'f5', 'label']\n",
    "N_CLASS = 3\n",
    "EPOCHS = 500\n",
    "train_dir, test_dir = \"..//dataset//training_data{}.txt\".format(GROUP), \"..//dataset//testing_data{}.txt\".format(GROUP)\n",
    "train, test = get_data(DATA, train_dir, COLUMNS), get_data(DATA, test_dir, COLUMNS)\n",
    "# shuffle\n",
    "train, test = train.sample(frac=1), test.sample(frac=1)\n",
    "x_train, y_train = train.drop('label', axis=1), train['label']\n",
    "x_test, y_test = test.drop('label', axis=1), test['label']"
   ]
  },
  {
   "cell_type": "code",
   "execution_count": 7,
   "metadata": {},
   "outputs": [],
   "source": [
    "# data scaling and encoding\n",
    "scaler = StandardScaler(['f1', 'f2', 'f3', 'f4', 'f5'])\n",
    "scaler.fit(x_train)\n",
    "x_train = scaler.transform(x_train)\n",
    "x_test = scaler.transform(x_test)\n",
    "y_train = one_hot_encoding(y_train, N_CLASS)\n",
    "y_test = one_hot_encoding(y_test, N_CLASS)"
   ]
  },
  {
   "cell_type": "code",
   "execution_count": 8,
   "metadata": {
    "tags": [
     "outputPrepend"
    ]
   },
   "outputs": [
    {
     "name": "stdout",
     "output_type": "stream",
     "text": [
      "Checkpoint 100, Accuracy: 0.9444444444444444, Loss: 0.3355265370121709\n",
      "Checkpoint 200, Accuracy: 0.9691358024691358, Loss: 0.2274849503128617\n",
      "Checkpoint 300, Accuracy: 0.9691358024691358, Loss: 0.2249177473562735\n",
      "Checkpoint 400, Accuracy: 0.9691358024691358, Loss: 0.21158804716887297\n",
      "Checkpoint 500, Accuracy: 0.9629629629629629, Loss: 0.20995846501103155\n"
     ]
    }
   ],
   "source": [
    "# learning phase\n",
    "breakpoint = 100\n",
    "checkpoints = list()\n",
    "history = list()\n",
    "for century in range(0, EPOCHS, breakpoint):\n",
    "    sub_history = model.fit(x_train, y_train, breakpoint, verbose = 0)\n",
    "    score = model.evaluate(x_test, y_test, False, verbose = 0)\n",
    "    print('Checkpoint {}, Accuracy: {}, Loss: {}'.format(century+breakpoint, score['accuracy'], score[model.loss_fn]))\n",
    "    score['checkpoint'] = century + breakpoint\n",
    "    checkpoints.append(score)\n",
    "    history.extend(sub_history)"
   ]
  },
  {
   "cell_type": "code",
   "execution_count": 9,
   "metadata": {},
   "outputs": [],
   "source": [
    "import matplotlib.pyplot as plt\n",
    "\n",
    "def draw_plot(x, y_list, x_label=None, y_label=None, legend=None, title=None):\n",
    "    fig, ax = plt.subplots(figsize=(12,5))\n",
    "    for xi, yi in zip(x, y_list):\n",
    "        ax.plot(xi, yi)\n",
    "    if x_label is not None and y_label is not None:\n",
    "        ax.set(xlabel=x_label, ylabel=y_label, title='{} VS {}'.format(x_label, y_label))\n",
    "    if legend is not None:\n",
    "        ax.legend(legend)\n",
    "    ax.grid()\n",
    "    plt.show()"
   ]
  },
  {
   "cell_type": "code",
   "execution_count": 10,
   "metadata": {},
   "outputs": [
    {
     "name": "stdout",
     "output_type": "stream",
     "text": [
      "[1. 0. 0.] <-> [0.9412563  0.0318116  0.02693219]\n",
      "[1. 0. 0.] <-> [0.90846455 0.05346626 0.03806929]\n",
      "[0. 0. 1.] <-> [0.1707087  0.01765557 0.8116357 ]\n",
      "[1. 0. 0.] <-> [0.7972291  0.1439356  0.05883534]\n",
      "[0. 0. 1.] <-> [0.68990695 0.03067702 0.27941602]\n",
      "[1. 0. 0.] <-> [0.93773943 0.05045713 0.01180335]\n",
      "[1. 0. 0.] <-> [0.9265918  0.05814181 0.01526639]\n",
      "[0. 0. 1.] <-> [0.19824453 0.01769447 0.78406096]\n",
      "[1. 0. 0.] <-> [0.94469506 0.03167835 0.02362655]\n",
      "[0. 0. 1.] <-> [0.14511982 0.01835659 0.83652353]\n",
      "[1. 0. 0.] <-> [0.91887385 0.03339922 0.04772696]\n",
      "[1. 0. 0.] <-> [0.9035939  0.04337914 0.05302697]\n",
      "[1. 0. 0.] <-> [0.93171084 0.03619292 0.03209632]\n",
      "[1. 0. 0.] <-> [0.943231   0.03096528 0.02580372]\n",
      "[1. 0. 0.] <-> [0.94974786 0.03664086 0.01361124]\n",
      "[0. 1. 0.] <-> [0.17929599 0.814124   0.00658007]\n",
      "[1. 0. 0.] <-> [0.86558807 0.10719251 0.02721942]\n",
      "[1. 0. 0.] <-> [0.8093524  0.04321585 0.14743178]\n",
      "[1. 0. 0.] <-> [0.75898296 0.05909637 0.18192063]\n",
      "[1. 0. 0.] <-> [0.8773301  0.0496722  0.07299759]\n",
      "[0. 1. 0.] <-> [0.3707255  0.61743104 0.01184347]\n",
      "[0. 0. 1.] <-> [0.4125269  0.02714184 0.5603312 ]\n",
      "[1. 0. 0.] <-> [0.9384689  0.03940685 0.0221243 ]\n",
      "[1. 0. 0.] <-> [0.8800558  0.1014495  0.01849477]\n",
      "[1. 0. 0.] <-> [0.93402153 0.03213416 0.03384439]\n",
      "[1. 0. 0.] <-> [0.9550079  0.02680075 0.01819126]\n",
      "[1. 0. 0.] <-> [0.93284905 0.04155634 0.02559453]\n",
      "[0. 1. 0.] <-> [0.3233227  0.65744    0.01923724]\n",
      "[1. 0. 0.] <-> [0.9174097  0.02927353 0.05331684]\n",
      "[1. 0. 0.] <-> [0.4911808  0.4946134  0.01420573]\n",
      "[1. 0. 0.] <-> [0.9555282  0.02323048 0.02124135]\n",
      "[1. 0. 0.] <-> [0.67779064 0.287086   0.0351234 ]\n",
      "[0. 0. 1.] <-> [0.2168413  0.01860692 0.7645518 ]\n",
      "[1. 0. 0.] <-> [0.90500087 0.06504989 0.02994912]\n",
      "[1. 0. 0.] <-> [0.9532865  0.03082528 0.01588819]\n",
      "[1. 0. 0.] <-> [0.9304434  0.04208339 0.0274732 ]\n",
      "[1. 0. 0.] <-> [0.81393164 0.16385904 0.02220937]\n",
      "[0. 0. 1.] <-> [0.4723364  0.04537506 0.4822885 ]\n",
      "[0. 1. 0.] <-> [0.06842101 0.9281586  0.00342053]\n",
      "[1. 0. 0.] <-> [0.7694902  0.05666352 0.17384626]\n",
      "[1. 0. 0.] <-> [0.8994597  0.07325135 0.02728897]\n",
      "[1. 0. 0.] <-> [0.93055284 0.03042222 0.0390249 ]\n",
      "[0. 1. 0.] <-> [0.09660462 0.89738154 0.00601382]\n",
      "[1. 0. 0.] <-> [0.9008445  0.02811233 0.07104322]\n",
      "[0. 0. 1.] <-> [0.14534025 0.01517268 0.8394871 ]\n",
      "[1. 0. 0.] <-> [0.90552676 0.07950088 0.01497244]\n",
      "[0. 1. 0.] <-> [0.09085945 0.90350425 0.00563626]\n",
      "[1. 0. 0.] <-> [0.86526924 0.08912604 0.04560472]\n",
      "[1. 0. 0.] <-> [0.52550745 0.4518707  0.02262178]\n",
      "[1. 0. 0.] <-> [0.742189   0.209055   0.04875602]\n",
      "[1. 0. 0.] <-> [0.9104715  0.02525203 0.0642765 ]\n",
      "[1. 0. 0.] <-> [0.94551605 0.0301708  0.0243132 ]\n",
      "[0. 1. 0.] <-> [0.51585203 0.470649   0.01349901]\n",
      "[1. 0. 0.] <-> [0.64430296 0.32747266 0.02822435]\n",
      "[0. 1. 0.] <-> [0.25178346 0.73750395 0.01071261]\n",
      "[1. 0. 0.] <-> [0.8874045  0.03096302 0.08163256]\n",
      "[0. 1. 0.] <-> [0.07874199 0.91687703 0.00438092]\n",
      "[1. 0. 0.] <-> [0.9489658  0.02764078 0.02339351]\n",
      "[1. 0. 0.] <-> [0.9268063  0.05954048 0.01365332]\n",
      "[1. 0. 0.] <-> [0.93204486 0.04739075 0.02056437]\n",
      "[0. 1. 0.] <-> [0.5009762  0.485121   0.01390276]\n",
      "[1. 0. 0.] <-> [0.90457684 0.04436345 0.05105967]\n",
      "[0. 0. 1.] <-> [0.20825441 0.01850305 0.77324253]\n",
      "[1. 0. 0.] <-> [0.9422185  0.04087785 0.01690364]\n",
      "[1. 0. 0.] <-> [0.9219229  0.03052282 0.04755424]\n",
      "[1. 0. 0.] <-> [0.91805077 0.05789378 0.02405546]\n",
      "[1. 0. 0.] <-> [0.944575   0.02768704 0.02773791]\n",
      "[1. 0. 0.] <-> [0.9279679  0.05391388 0.01811813]\n",
      "[1. 0. 0.] <-> [0.8603267 0.1143035 0.0253698]\n",
      "[1. 0. 0.] <-> [0.8197948  0.15991287 0.02029235]\n",
      "[1. 0. 0.] <-> [0.84965473 0.04974713 0.10059821]\n",
      "[1. 0. 0.] <-> [0.92826796 0.05715862 0.01457351]\n",
      "[1. 0. 0.] <-> [0.9371314  0.03892233 0.02394633]\n",
      "[1. 0. 0.] <-> [0.7428153  0.24252035 0.01466437]\n",
      "[1. 0. 0.] <-> [0.7832948  0.19569214 0.02101308]\n",
      "[1. 0. 0.] <-> [0.93842095 0.04529488 0.01628412]\n",
      "[0. 0. 1.] <-> [0.15962262 0.03452692 0.80585045]\n",
      "[1. 0. 0.] <-> [0.93941927 0.03939219 0.02118855]\n",
      "[0. 1. 0.] <-> [0.06997778 0.92646533 0.00355691]\n",
      "[1. 0. 0.] <-> [0.9217011  0.05786551 0.02043344]\n",
      "[1. 0. 0.] <-> [0.9159501  0.07153146 0.01251851]\n",
      "[1. 0. 0.] <-> [0.9125336  0.06561131 0.02185519]\n",
      "[1. 0. 0.] <-> [0.9193336  0.05048523 0.03018121]\n",
      "[1. 0. 0.] <-> [0.94171226 0.04116384 0.01712393]\n",
      "[0. 0. 1.] <-> [0.4555362  0.04840964 0.4960542 ]\n",
      "[0. 1. 0.] <-> [0.1668728  0.8212705  0.01185668]\n",
      "[1. 0. 0.] <-> [0.919331   0.0667062  0.01396283]\n",
      "[0. 1. 0.] <-> [0.10916357 0.88316876 0.00766767]\n",
      "[1. 0. 0.] <-> [0.9298114  0.04275295 0.02743562]\n",
      "[1. 0. 0.] <-> [0.9112733  0.07173927 0.01698739]\n",
      "[1. 0. 0.] <-> [0.9021263  0.02772097 0.07015273]\n",
      "[1. 0. 0.] <-> [0.73219454 0.23605335 0.0317521 ]\n",
      "[1. 0. 0.] <-> [0.768148   0.0324483  0.19940367]\n",
      "[1. 0. 0.] <-> [0.70331764 0.27732712 0.01935529]\n",
      "[1. 0. 0.] <-> [0.9258655  0.02624349 0.04789096]\n",
      "[1. 0. 0.] <-> [0.9111965  0.04275766 0.04604585]\n",
      "[1. 0. 0.] <-> [0.92047477 0.02531231 0.05421294]\n",
      "[1. 0. 0.] <-> [0.9194419  0.05196235 0.02859582]\n",
      "[0. 1. 0.] <-> [0.07718591 0.91861415 0.00419995]\n",
      "[0. 0. 1.] <-> [0.16042688 0.01506557 0.8245076 ]\n",
      "[1. 0. 0.] <-> [0.94200253 0.02802327 0.02997423]\n",
      "[1. 0. 0.] <-> [0.8755938  0.1055679  0.01883835]\n",
      "[1. 0. 0.] <-> [0.91164607 0.07148882 0.01686515]\n",
      "[0. 0. 1.] <-> [0.76804644 0.04057727 0.19137628]\n",
      "[0. 1. 0.] <-> [0.06896357 0.92757386 0.00346254]\n",
      "[0. 1. 0.] <-> [0.24459791 0.7465193  0.00888274]\n",
      "[1. 0. 0.] <-> [0.8731959  0.06928456 0.05751949]\n",
      "[0. 0. 1.] <-> [0.6813794  0.04280013 0.2758205 ]\n",
      "{'accuracy': 0.9629629629629629, 'mean_square_error': 0.09625443286269873, 'categorical_crossentropy': 0.20995846501103155, 'essential_metrics': {0: {'tp_hit': 77, 'fp_hit': 5, 'tn_hit': 25, 'fn_hit': 1}, 1: {'tp_hit': 14, 'fp_hit': 1, 'tn_hit': 91, 'fn_hit': 2}, 2: {'tp_hit': 11, 'fp_hit': 0, 'tn_hit': 94, 'fn_hit': 3}}}\n"
     ]
    }
   ],
   "source": [
    "# recall phase\n",
    "score = model.evaluate(x_test, y_test, False)\n",
    "print(score)"
   ]
  },
  {
   "cell_type": "code",
   "execution_count": 11,
   "metadata": {},
   "outputs": [
    {
     "data": {
      "image/png": "[encoded data removed]",
      "text/plain": [
       "<Figure size 864x360 with 1 Axes>"
      ]
     },
     "metadata": {
      "needs_background": "light"
     },
     "output_type": "display_data"
    },
    {
     "data": {
      "image/png": "[encoded data removed]",
      "text/plain": [
       "<Figure size 864x360 with 1 Axes>"
      ]
     },
     "metadata": {
      "needs_background": "light"
     },
     "output_type": "display_data"
    }
   ],
   "source": [
    "draw_plot(x = [[i for i in range(len(history))], [(i+1)*breakpoint for i in range(len(checkpoints))]], y_list = [history, [ ckp[model.loss_fn] for ckp in checkpoints ]], x_label = 'Epochs', \\\n",
    "    y_label = model.loss_fn, legend=['train', 'test'])\n",
    "acc = [ ckp['accuracy'] for ckp in checkpoints ]\n",
    "draw_plot(x = [[(i+1)*breakpoint for i in range(len(checkpoints))]], y_list = [acc], x_label = 'Checkpoints', \\\n",
    "    y_label = 'accuracy')"
   ]
  },
  {
   "cell_type": "code",
   "execution_count": 12,
   "metadata": {},
   "outputs": [
    {
     "name": "stdout",
     "output_type": "stream",
     "text": [
      "{'accuracy': 0.9444444444444444, 'mean_square_error': 0.1678861439192662, 'categorical_crossentropy': 0.3355265370121709, 'essential_metrics': {0: {'tp_hit': 77, 'fp_hit': 8, 'tn_hit': 22, 'fn_hit': 1}, 1: {'tp_hit': 14, 'fp_hit': 1, 'tn_hit': 91, 'fn_hit': 2}, 2: {'tp_hit': 8, 'fp_hit': 0, 'tn_hit': 94, 'fn_hit': 6}}, 'checkpoint': 100} \n",
      "\n",
      "\n",
      "{'accuracy': 0.9691358024691358, 'mean_square_error': 0.10315233317828942, 'categorical_crossentropy': 0.2274849503128617, 'essential_metrics': {0: {'tp_hit': 77, 'fp_hit': 4, 'tn_hit': 26, 'fn_hit': 1}, 1: {'tp_hit': 15, 'fp_hit': 1, 'tn_hit': 91, 'fn_hit': 1}, 2: {'tp_hit': 11, 'fp_hit': 0, 'tn_hit': 94, 'fn_hit': 3}}, 'checkpoint': 200} \n",
      "\n",
      "\n",
      "{'accuracy': 0.9691358024691358, 'mean_square_error': 0.10397353108142668, 'categorical_crossentropy': 0.2249177473562735, 'essential_metrics': {0: {'tp_hit': 77, 'fp_hit': 4, 'tn_hit': 26, 'fn_hit': 1}, 1: {'tp_hit': 16, 'fp_hit': 1, 'tn_hit': 91, 'fn_hit': 0}, 2: {'tp_hit': 10, 'fp_hit': 0, 'tn_hit': 94, 'fn_hit': 4}}, 'checkpoint': 300} \n",
      "\n",
      "\n",
      "{'accuracy': 0.9691358024691358, 'mean_square_error': 0.09653258461548514, 'categorical_crossentropy': 0.21158804716887297, 'essential_metrics': {0: {'tp_hit': 77, 'fp_hit': 4, 'tn_hit': 26, 'fn_hit': 1}, 1: {'tp_hit': 16, 'fp_hit': 1, 'tn_hit': 91, 'fn_hit': 0}, 2: {'tp_hit': 10, 'fp_hit': 0, 'tn_hit': 94, 'fn_hit': 4}}, 'checkpoint': 400} \n",
      "\n",
      "\n",
      "{'accuracy': 0.9629629629629629, 'mean_square_error': 0.09625443286269873, 'categorical_crossentropy': 0.20995846501103155, 'essential_metrics': {0: {'tp_hit': 77, 'fp_hit': 5, 'tn_hit': 25, 'fn_hit': 1}, 1: {'tp_hit': 14, 'fp_hit': 1, 'tn_hit': 91, 'fn_hit': 2}, 2: {'tp_hit': 11, 'fp_hit': 0, 'tn_hit': 94, 'fn_hit': 3}}, 'checkpoint': 500} \n",
      "\n",
      "\n"
     ]
    }
   ],
   "source": [
    "for checkpoint in checkpoints:\n",
    "    print(checkpoint, '\\n\\n')"
   ]
  },
  {
   "cell_type": "code",
   "execution_count": 13,
   "metadata": {},
   "outputs": [
    {
     "name": "stdout",
     "output_type": "stream",
     "text": [
      "Layer 1\n",
      "Neuron 0: weights:\n",
      "[-0.15860957  2.0298939  -0.11098392 -0.8382017  -1.0753931 ]\n",
      " bias: 1.6266955137252808\n",
      "\n",
      "Neuron 1: weights:\n",
      "[-1.1805665   1.7540191   1.87055    -0.00530159  0.12849645]\n",
      " bias: -1.2261865139007568\n",
      "\n",
      "Neuron 2: weights:\n",
      "[-0.25541398  0.97428596  0.00122762 -0.01042337 -0.00788792]\n",
      " bias: 0.18610329926013947\n",
      "\n",
      "Neuron 3: weights:\n",
      "[-0.09129722  0.98289466  0.04614449 -0.14663143 -0.14535768]\n",
      " bias: 0.05307688191533089\n",
      "\n",
      "$\n",
      "Layer 2\n",
      "Neuron 0: weights:\n",
      "[ 3.         -2.4318964  -0.07518093  0.02067009]\n",
      " bias: -0.12704604864120483\n",
      "\n",
      "Neuron 1: weights:\n",
      "[0.0666739 3.        1.4248221 1.2742759]\n",
      " bias: -2.720743417739868\n",
      "\n",
      "Neuron 2: weights:\n",
      "[-2.8744912   0.10048493 -0.41058278 -1.2667698 ]\n",
      " bias: 1.806816577911377\n",
      "\n",
      "$\n",
      "\n"
     ]
    }
   ],
   "source": [
    "print(model)"
   ]
  }
 ],
 "metadata": {
  "kernelspec": {
   "display_name": "Python 3",
   "language": "python",
   "name": "python3"
  },
  "language_info": {
   "codemirror_mode": {
    "name": "ipython",
    "version": 3
   },
   "file_extension": ".py",
   "mimetype": "text/x-python",
   "name": "python",
   "nbconvert_exporter": "python",
   "pygments_lexer": "ipython3",
   "version": "3.6.10"
  }
 },
 "nbformat": 4,
 "nbformat_minor": 2
}
