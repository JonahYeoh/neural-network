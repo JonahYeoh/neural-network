{
 "cells": [
  {
   "cell_type": "code",
   "execution_count": 1,
   "metadata": {},
   "outputs": [],
   "source": [
    "# uniform"
   ]
  },
  {
   "cell_type": "code",
   "execution_count": 2,
   "metadata": {},
   "outputs": [],
   "source": [
    "# dependency\n",
    "import numpy as np\n",
    "import pandas as pd\n",
    "import copy\n",
    "import math\n",
    "import sys\n",
    "import os\n",
    "from activations import relu, leaky_relu, sigmoid, tanh, softmax, d_sigmoid, d_relu\n",
    "from initializers import glorot_uniform, random_normal, random_uniform\n",
    "from regularizers import l1_regularizer, l2_regularizer\n",
    "from utility import trim_tail, multiply, subtract, get_nparams, one_hot_encoding, get_data\n",
    "from metrics import MSE, CCE, ACC, PRECISION, RECALL, essential_metrics, wondering_penalty, close_gap_penalty\n",
    "from pso import PSO\n",
    "from ga import GA\n",
    "from nn import Network\n",
    "from layer import DenseLayer\n",
    "from scalers import MinMaxScaler, StandardScaler"
   ]
  },
  {
   "cell_type": "code",
   "execution_count": 3,
   "metadata": {},
   "outputs": [],
   "source": [
    "# reference\n",
    "metrics_fn_dict = dict()\n",
    "metrics_fn_dict['accuracy'] = ACC\n",
    "metrics_fn_dict['categorical_crossentropy'] = CCE\n",
    "metrics_fn_dict['mean_square_error'] = MSE\n",
    "metrics_fn_dict['precision'] = PRECISION\n",
    "metrics_fn_dict['recall'] = RECALL\n",
    "metrics_fn_dict['essential_metrics'] = essential_metrics"
   ]
  },
  {
   "cell_type": "code",
   "execution_count": 4,
   "metadata": {},
   "outputs": [],
   "source": [
    "# model\n",
    "model = Network(5, lr = None)\n",
    "model.add_layer(DenseLayer(1, 4, True, afn=sigmoid, dafn=None, rfn=None))\n",
    "model.add_layer(DenseLayer(2, 3, True, afn=softmax, dafn=None, rfn=None))"
   ]
  },
  {
   "cell_type": "code",
   "execution_count": 5,
   "metadata": {},
   "outputs": [],
   "source": [
    "# optimizer\n",
    "ga = GA(\n",
    "    dict(\n",
    "        m = 100,\n",
    "        x_rate = 0.5,\n",
    "        m_rate = 0.5,\n",
    "        weight_constraint = [-3.,3.],\n",
    "        radioactive_rating = 0.1,\n",
    "        grow_factor = 0.1,\n",
    "        scale_hyperparameter = False,\n",
    "        regularizer = None))"
   ]
  },
  {
   "cell_type": "code",
   "execution_count": 6,
   "metadata": {},
   "outputs": [
    {
     "name": "stdout",
     "output_type": "stream",
     "text": [
      "building layer 1 with 5\n",
      "24\n",
      "building layer 2 with 4\n",
      "15\n"
     ]
    }
   ],
   "source": [
    "model.compile(loss_fn = 'categorical_crossentropy', optimizer = ga, \\\n",
    "    metrics = ['accuracy', 'mean_square_error', 'categorical_crossentropy', 'precision', 'recall', 'f1'])"
   ]
  },
  {
   "cell_type": "code",
   "execution_count": 7,
   "metadata": {},
   "outputs": [
    {
     "name": "stdout",
     "output_type": "stream",
     "text": [
      "<class 'pandas.core.frame.DataFrame'>\n",
      "RangeIndex: 107 entries, 0 to 106\n",
      "Data columns (total 6 columns):\n",
      " #   Column  Non-Null Count  Dtype  \n",
      "---  ------  --------------  -----  \n",
      " 0   f1      107 non-null    float32\n",
      " 1   f2      107 non-null    float32\n",
      " 2   f3      107 non-null    float32\n",
      " 3   f4      107 non-null    float32\n",
      " 4   f5      107 non-null    float32\n",
      " 5   label   107 non-null    float32\n",
      "dtypes: float32(6)\n",
      "memory usage: 2.6 KB\n",
      "None\n",
      "<class 'pandas.core.frame.DataFrame'>\n",
      "RangeIndex: 108 entries, 0 to 107\n",
      "Data columns (total 6 columns):\n",
      " #   Column  Non-Null Count  Dtype  \n",
      "---  ------  --------------  -----  \n",
      " 0   f1      108 non-null    float32\n",
      " 1   f2      108 non-null    float32\n",
      " 2   f3      108 non-null    float32\n",
      " 3   f4      108 non-null    float32\n",
      " 4   f5      108 non-null    float32\n",
      " 5   label   108 non-null    float32\n",
      "dtypes: float32(6)\n",
      "memory usage: 2.7 KB\n",
      "None\n"
     ]
    }
   ],
   "source": [
    "# data loading\n",
    "DATA = os.path.join('c:\\\\Users\\\\tcumi\\\\github_repo\\\\neural-network\\\\', 'dataset')\n",
    "GROUP = 3\n",
    "COLUMNS = ['f1', 'f2', 'f3', 'f4', 'f5', 'label']\n",
    "N_CLASS = 3\n",
    "EPOCHS = 500\n",
    "train_dir, test_dir = \"..//dataset//training_data{}.txt\".format(GROUP), \"..//dataset//testing_data{}.txt\".format(GROUP)\n",
    "train, test = get_data(DATA, train_dir, COLUMNS), get_data(DATA, test_dir, COLUMNS)\n",
    "# shuffle\n",
    "train, test = train.sample(frac=1), test.sample(frac=1)\n",
    "x_train, y_train = train.drop('label', axis=1), train['label']\n",
    "x_test, y_test = test.drop('label', axis=1), test['label']"
   ]
  },
  {
   "cell_type": "code",
   "execution_count": 8,
   "metadata": {},
   "outputs": [],
   "source": [
    "# data scaling and encoding\n",
    "scaler = StandardScaler(['f1', 'f2', 'f3', 'f4', 'f5'])\n",
    "scaler.fit(x_train)\n",
    "x_train = scaler.transform(x_train)\n",
    "x_test = scaler.transform(x_test)\n",
    "y_train = one_hot_encoding(y_train, N_CLASS)\n",
    "y_test = one_hot_encoding(y_test, N_CLASS)"
   ]
  },
  {
   "cell_type": "code",
   "execution_count": 9,
   "metadata": {
    "scrolled": true,
    "tags": [
     "outputPrepend"
    ]
   },
   "outputs": [
    {
     "name": "stderr",
     "output_type": "stream",
     "text": [
      "C:\\Users\\tcumi\\github_repo\\neural-network\\python\\ga.py:201: RuntimeWarning: overflow encountered in add\n",
      "  self.population.sort(key=lambda p: p.fitness + np.random.uniform(-shift, shift, 1), reverse = self.aim)\n"
     ]
    },
    {
     "name": "stdout",
     "output_type": "stream",
     "text": [
      "Checkpoint 100, Accuracy: 0.9259259259259259, Loss: 0.32527061744972513\n",
      "Checkpoint 200, Accuracy: 0.9444444444444444, Loss: 0.27308232695968065\n",
      "Checkpoint 300, Accuracy: 0.9567901234567902, Loss: 0.23557634706850406\n",
      "Checkpoint 400, Accuracy: 0.9506172839506173, Loss: 0.2189469160857024\n",
      "Checkpoint 500, Accuracy: 0.9567901234567902, Loss: 0.18823150352195459\n"
     ]
    }
   ],
   "source": [
    "# learning phase\n",
    "breakpoint = 100\n",
    "checkpoints = list()\n",
    "history = list()\n",
    "for century in range(0, EPOCHS, breakpoint):\n",
    "    sub_history = model.fit(x_train, y_train, breakpoint, verbose = 0)\n",
    "    score = model.evaluate(x_test, y_test, False, verbose = 0)\n",
    "    print('Checkpoint {}, Accuracy: {}, Loss: {}'.format(century+breakpoint, score['accuracy'], score[model.loss_fn]))\n",
    "    score['checkpoint'] = century + breakpoint\n",
    "    checkpoints.append(score)\n",
    "    history.extend(sub_history)\n",
    "    "
   ]
  },
  {
   "cell_type": "code",
   "execution_count": 10,
   "metadata": {},
   "outputs": [],
   "source": [
    "import matplotlib.pyplot as plt\n",
    "\n",
    "def draw_plot(x, y_list, x_label=None, y_label=None, legend=None, title=None):\n",
    "    fig, ax = plt.subplots(figsize=(12,5))\n",
    "    for xi, yi in zip(x, y_list):\n",
    "        ax.plot(xi, yi)\n",
    "    if x_label is not None and y_label is not None:\n",
    "        ax.set(xlabel=x_label, ylabel=y_label, title='{} VS {}'.format(x_label, y_label))\n",
    "    if legend is not None:\n",
    "        ax.legend(legend)\n",
    "    ax.grid()\n",
    "    plt.show()"
   ]
  },
  {
   "cell_type": "code",
   "execution_count": 11,
   "metadata": {},
   "outputs": [
    {
     "name": "stdout",
     "output_type": "stream",
     "text": [
      "[1. 0. 0.] <-> [0.97525054 0.01994651 0.00480293]\n",
      "[0. 1. 0.] <-> [0.05772639 0.9351357  0.0071379 ]\n",
      "[0. 1. 0.] <-> [0.04350733 0.9235033  0.03298937]\n",
      "[1. 0. 0.] <-> [0.8484317  0.03497073 0.11659758]\n",
      "[1. 0. 0.] <-> [0.9087842  0.05313887 0.03807689]\n",
      "[1. 0. 0.] <-> [0.93578595 0.05605828 0.00815576]\n",
      "[1. 0. 0.] <-> [0.9676638  0.01319514 0.019141  ]\n",
      "[1. 0. 0.] <-> [0.9392281  0.04351734 0.01725452]\n",
      "[0. 1. 0.] <-> [0.0509898  0.9387873  0.01022294]\n",
      "[0. 1. 0.] <-> [0.05358112 0.939584   0.00683489]\n",
      "[1. 0. 0.] <-> [0.9613754  0.01606875 0.02255584]\n",
      "[1. 0. 0.] <-> [0.95499986 0.01346335 0.03153678]\n",
      "[1. 0. 0.] <-> [0.9779636  0.01752464 0.00451173]\n",
      "[1. 0. 0.] <-> [0.97171605 0.01637729 0.01190673]\n",
      "[0. 1. 0.] <-> [0.44882047 0.27466813 0.27651137]\n",
      "[1. 0. 0.] <-> [0.9674248  0.01556404 0.01701116]\n",
      "[1. 0. 0.] <-> [0.983546   0.01145148 0.00500251]\n",
      "[1. 0. 0.] <-> [0.9600532  0.02471714 0.01522956]\n",
      "[0. 1. 0.] <-> [0.0588718  0.93500704 0.00612126]\n",
      "[1. 0. 0.] <-> [0.84189516 0.05686909 0.10123576]\n",
      "[1. 0. 0.] <-> [0.97834295 0.01396985 0.00768717]\n",
      "[1. 0. 0.] <-> [0.50898325 0.01820273 0.47281402]\n",
      "[0. 1. 0.] <-> [0.5561051  0.4313494  0.01254556]\n",
      "[0. 1. 0.] <-> [0.18386784 0.36833522 0.4477969 ]\n",
      "[1. 0. 0.] <-> [0.96020883 0.02064389 0.01914729]\n",
      "[0. 0. 1.] <-> [0.0776229  0.01332036 0.9090567 ]\n",
      "[0. 1. 0.] <-> [0.35390386 0.63308233 0.01301378]\n",
      "[1. 0. 0.] <-> [0.9326845  0.02122919 0.04608637]\n",
      "[1. 0. 0.] <-> [0.9230177  0.06948663 0.00749571]\n",
      "[1. 0. 0.] <-> [0.9669348  0.01514816 0.01791704]\n",
      "[1. 0. 0.] <-> [0.94787794 0.01397743 0.03814462]\n",
      "[1. 0. 0.] <-> [0.9180221  0.07537586 0.006602  ]\n",
      "[1. 0. 0.] <-> [0.92094713 0.02047636 0.05857649]\n",
      "[1. 0. 0.] <-> [0.92711616 0.03769228 0.03519159]\n",
      "[1. 0. 0.] <-> [0.57361555 0.01707506 0.40930942]\n",
      "[0. 0. 1.] <-> [0.079271   0.01377115 0.9069578 ]\n",
      "[1. 0. 0.] <-> [0.97125906 0.02077528 0.00796567]\n",
      "[1. 0. 0.] <-> [0.86846924 0.02922566 0.10230507]\n",
      "[1. 0. 0.] <-> [0.9331692  0.06077149 0.00605922]\n",
      "[1. 0. 0.] <-> [0.9435574  0.02229573 0.03414693]\n",
      "[1. 0. 0.] <-> [0.9269816  0.06528257 0.00773573]\n",
      "[1. 0. 0.] <-> [0.90346795 0.01745241 0.0790796 ]\n",
      "[1. 0. 0.] <-> [0.9051267  0.06787521 0.02699806]\n",
      "[1. 0. 0.] <-> [0.65568286 0.01709844 0.3272187 ]\n",
      "[1. 0. 0.] <-> [0.975633   0.01897508 0.00539186]\n",
      "[0. 0. 1.] <-> [0.07826215 0.01328946 0.9084484 ]\n",
      "[1. 0. 0.] <-> [0.96718174 0.02216702 0.01065122]\n",
      "[1. 0. 0.] <-> [0.9265831  0.06702508 0.00639184]\n",
      "[1. 0. 0.] <-> [0.5881164  0.39383566 0.01804791]\n",
      "[1. 0. 0.] <-> [0.85153157 0.01659257 0.13187584]\n",
      "[1. 0. 0.] <-> [0.9156173  0.01940606 0.06497668]\n",
      "[1. 0. 0.] <-> [0.8440037  0.13359068 0.02240565]\n",
      "[1. 0. 0.] <-> [0.9789682  0.01526471 0.00576709]\n",
      "[1. 0. 0.] <-> [0.9770099 0.0157627 0.0072273]\n",
      "[1. 0. 0.] <-> [0.9526421  0.01450385 0.03285414]\n",
      "[1. 0. 0.] <-> [0.9589098  0.02581853 0.01527174]\n",
      "[0. 0. 1.] <-> [0.0633822  0.01888089 0.9177369 ]\n",
      "[1. 0. 0.] <-> [0.8622823  0.02050807 0.11720964]\n",
      "[0. 1. 0.] <-> [0.11725309 0.87510574 0.00764119]\n",
      "[1. 0. 0.] <-> [0.77230483 0.01897071 0.20872445]\n",
      "[1. 0. 0.] <-> [0.9473592  0.02029781 0.03234297]\n",
      "[1. 0. 0.] <-> [0.9390353  0.0288018  0.03216292]\n",
      "[1. 0. 0.] <-> [0.8964681  0.01459485 0.08893704]\n",
      "[1. 0. 0.] <-> [0.9191911  0.01426184 0.06654704]\n",
      "[0. 1. 0.] <-> [0.1472078  0.84086734 0.01192482]\n",
      "[1. 0. 0.] <-> [0.97591656 0.01218186 0.01190147]\n",
      "[0. 0. 1.] <-> [0.07861824 0.01337113 0.9080106 ]\n",
      "[1. 0. 0.] <-> [0.8395272  0.01688798 0.14358474]\n",
      "[0. 1. 0.] <-> [0.054554   0.9387851  0.00666086]\n",
      "[1. 0. 0.] <-> [0.95665234 0.03439938 0.00894831]\n",
      "[1. 0. 0.] <-> [0.96292204 0.01858591 0.01849205]\n",
      "[1. 0. 0.] <-> [0.98216474 0.01257544 0.00525989]\n",
      "[0. 0. 1.] <-> [0.06488442 0.01816055 0.916955  ]\n",
      "[0. 0. 1.] <-> [0.7626686  0.02679134 0.21054001]\n",
      "[0. 0. 1.] <-> [0.07747235 0.01323026 0.9092974 ]\n",
      "[1. 0. 0.] <-> [0.94789284 0.02507085 0.02703624]\n",
      "[1. 0. 0.] <-> [0.869678   0.0161692  0.11415284]\n",
      "[0. 0. 1.] <-> [0.93764204 0.01326717 0.04909072]\n",
      "[1. 0. 0.] <-> [0.97150594 0.01783396 0.01066005]\n",
      "[1. 0. 0.] <-> [0.97817606 0.01307265 0.00875127]\n",
      "[1. 0. 0.] <-> [0.9694781  0.01355443 0.01696757]\n",
      "[0. 0. 1.] <-> [0.06015979 0.02067303 0.91916716]\n",
      "[1. 0. 0.] <-> [0.7615031  0.03522113 0.20327574]\n",
      "[1. 0. 0.] <-> [0.84972954 0.0229222  0.12734829]\n",
      "[1. 0. 0.] <-> [0.97276896 0.01222699 0.01500399]\n",
      "[1. 0. 0.] <-> [0.8624909  0.01992951 0.11757961]\n",
      "[1. 0. 0.] <-> [0.9624621  0.01698881 0.020549  ]\n",
      "[1. 0. 0.] <-> [0.3204118  0.02339141 0.65619683]\n",
      "[1. 0. 0.] <-> [0.9674761  0.02771932 0.00480467]\n",
      "[0. 0. 1.] <-> [0.09837809 0.01599484 0.88562703]\n",
      "[0. 0. 1.] <-> [0.07757223 0.01323207 0.9091957 ]\n",
      "[1. 0. 0.] <-> [0.9785501  0.01621352 0.00523644]\n",
      "[1. 0. 0.] <-> [0.9765816  0.01683864 0.00657985]\n",
      "[0. 1. 0.] <-> [0.07760696 0.91353506 0.00885799]\n",
      "[0. 1. 0.] <-> [0.54070246 0.44587272 0.01342481]\n",
      "[1. 0. 0.] <-> [0.9643324  0.0137267  0.02194085]\n",
      "[1. 0. 0.] <-> [0.97297716 0.01957325 0.00744969]\n",
      "[0. 1. 0.] <-> [0.10489195 0.88180774 0.01330024]\n",
      "[1. 0. 0.] <-> [0.94746    0.01532397 0.0372161 ]\n",
      "[1. 0. 0.] <-> [0.9532859  0.0326006  0.01411344]\n",
      "[1. 0. 0.] <-> [0.95942897 0.017706   0.02286503]\n",
      "[1. 0. 0.] <-> [0.96737415 0.02646358 0.00616222]\n",
      "[1. 0. 0.] <-> [0.93980783 0.05303154 0.00716067]\n",
      "[1. 0. 0.] <-> [0.7712813  0.02736684 0.20135194]\n",
      "[1. 0. 0.] <-> [0.8610763  0.01776592 0.12115777]\n",
      "[1. 0. 0.] <-> [0.8980661  0.01783662 0.08409736]\n",
      "[0. 0. 1.] <-> [0.44203568 0.01475953 0.54320484]\n",
      "[1. 0. 0.] <-> [0.9428573  0.01953731 0.0376054 ]\n",
      "{'accuracy': 0.9567901234567902, 'mean_square_error': 0.09136359955149699, 'categorical_crossentropy': 0.18823150352195459, 'precision': 0.9351851851851852, 'recall': 0.9351851851851852, 'f1': 0.9351851851851852, 'essential_metrics': {0: {'tp_hit': 79, 'fp_hit': 5, 'tn_hit': 23, 'fn_hit': 1}, 1: {'tp_hit': 11, 'fp_hit': 0, 'tn_hit': 93, 'fn_hit': 4}, 2: {'tp_hit': 11, 'fp_hit': 2, 'tn_hit': 93, 'fn_hit': 2}}}\n"
     ]
    }
   ],
   "source": [
    "# recall phase\n",
    "score = model.evaluate(x_test, y_test, False)\n",
    "print(score)"
   ]
  },
  {
   "cell_type": "code",
   "execution_count": 12,
   "metadata": {},
   "outputs": [],
   "source": [
    "# Testing Performance"
   ]
  },
  {
   "cell_type": "code",
   "execution_count": 13,
   "metadata": {},
   "outputs": [
    {
     "data": {
      "image/png": "[encoded data removed]",
      "text/plain": [
       "<Figure size 864x360 with 1 Axes>"
      ]
     },
     "metadata": {
      "needs_background": "light"
     },
     "output_type": "display_data"
    },
    {
     "data": {
      "image/png": "[encoded data removed]",
      "text/plain": [
       "<Figure size 864x360 with 1 Axes>"
      ]
     },
     "metadata": {
      "needs_background": "light"
     },
     "output_type": "display_data"
    }
   ],
   "source": [
    "draw_plot(x = [[i for i in range(len(history))], [(i+1)*breakpoint for i in range(len(checkpoints))]], y_list = [history, [ ckp[model.loss_fn] for ckp in checkpoints ]], x_label = 'Epochs', \\\n",
    "    y_label = model.loss_fn, legend=['train', 'test'])\n",
    "acc = [ ckp['accuracy'] for ckp in checkpoints ]\n",
    "draw_plot(x = [[(i+1)*breakpoint for i in range(len(checkpoints))]], y_list = [acc], x_label = 'Checkpoints', \\\n",
    "    y_label = 'accuracy')"
   ]
  },
  {
   "cell_type": "code",
   "execution_count": 14,
   "metadata": {
    "scrolled": false
   },
   "outputs": [
    {
     "name": "stdout",
     "output_type": "stream",
     "text": [
      "{'accuracy': 0.9259259259259259, 'mean_square_error': 0.15802113628751874, 'categorical_crossentropy': 0.32527061744972513, 'precision': 0.8888888888888888, 'recall': 0.8888888888888888, 'f1': 0.8888888888888888, 'essential_metrics': {0: {'tp_hit': 77, 'fp_hit': 5, 'tn_hit': 23, 'fn_hit': 3}, 1: {'tp_hit': 8, 'fp_hit': 0, 'tn_hit': 93, 'fn_hit': 7}, 2: {'tp_hit': 11, 'fp_hit': 7, 'tn_hit': 88, 'fn_hit': 2}}, 'checkpoint': 100} \n",
      "\n",
      "\n",
      "{'accuracy': 0.9444444444444444, 'mean_square_error': 0.12883265702571164, 'categorical_crossentropy': 0.27308232695968065, 'precision': 0.9166666666666666, 'recall': 0.9166666666666666, 'f1': 0.9166666666666666, 'essential_metrics': {0: {'tp_hit': 78, 'fp_hit': 5, 'tn_hit': 23, 'fn_hit': 2}, 1: {'tp_hit': 10, 'fp_hit': 0, 'tn_hit': 93, 'fn_hit': 5}, 2: {'tp_hit': 11, 'fp_hit': 4, 'tn_hit': 91, 'fn_hit': 2}}, 'checkpoint': 200} \n",
      "\n",
      "\n",
      "{'accuracy': 0.9567901234567902, 'mean_square_error': 0.11074399982109794, 'categorical_crossentropy': 0.23557634706850406, 'precision': 0.9351851851851852, 'recall': 0.9351851851851852, 'f1': 0.9351851851851852, 'essential_metrics': {0: {'tp_hit': 79, 'fp_hit': 4, 'tn_hit': 24, 'fn_hit': 1}, 1: {'tp_hit': 11, 'fp_hit': 0, 'tn_hit': 93, 'fn_hit': 4}, 2: {'tp_hit': 11, 'fp_hit': 3, 'tn_hit': 92, 'fn_hit': 2}}, 'checkpoint': 300} \n",
      "\n",
      "\n",
      "{'accuracy': 0.9506172839506173, 'mean_square_error': 0.10639100402771266, 'categorical_crossentropy': 0.2189469160857024, 'precision': 0.9259259259259259, 'recall': 0.9259259259259259, 'f1': 0.9259259259259259, 'essential_metrics': {0: {'tp_hit': 78, 'fp_hit': 4, 'tn_hit': 24, 'fn_hit': 2}, 1: {'tp_hit': 11, 'fp_hit': 0, 'tn_hit': 93, 'fn_hit': 4}, 2: {'tp_hit': 11, 'fp_hit': 4, 'tn_hit': 91, 'fn_hit': 2}}, 'checkpoint': 400} \n",
      "\n",
      "\n",
      "{'accuracy': 0.9567901234567902, 'mean_square_error': 0.09136359955149699, 'categorical_crossentropy': 0.18823150352195459, 'precision': 0.9351851851851852, 'recall': 0.9351851851851852, 'f1': 0.9351851851851852, 'essential_metrics': {0: {'tp_hit': 79, 'fp_hit': 5, 'tn_hit': 23, 'fn_hit': 1}, 1: {'tp_hit': 11, 'fp_hit': 0, 'tn_hit': 93, 'fn_hit': 4}, 2: {'tp_hit': 11, 'fp_hit': 2, 'tn_hit': 93, 'fn_hit': 2}}, 'checkpoint': 500} \n",
      "\n",
      "\n"
     ]
    }
   ],
   "source": [
    "for checkpoint in checkpoints:\n",
    "    print(checkpoint, '\\n\\n')"
   ]
  },
  {
   "cell_type": "code",
   "execution_count": 15,
   "metadata": {},
   "outputs": [
    {
     "name": "stdout",
     "output_type": "stream",
     "text": [
      "Layer 1\n",
      "Neuron 0: weights:\n",
      "[ 0.56597126 -1.8135334  -2.6648712  -0.6348437   2.0909305 ]\n",
      " bias: 1.9036526679992676\n",
      "\n",
      "Neuron 1: weights:\n",
      "[-1.3104628  1.1517675 -0.3803288 -2.9143293 -1.8465062]\n",
      " bias: 2.935084104537964\n",
      "\n",
      "Neuron 2: weights:\n",
      "[-2.0664914   2.8562868   0.8966256  -1.5339817   0.98924005]\n",
      " bias: -1.8322861194610596\n",
      "\n",
      "Neuron 3: weights:\n",
      "[ 1.514441  -2.9690528  2.2061522  0.8142455  1.163638 ]\n",
      " bias: -0.8011206388473511\n",
      "\n",
      "$\n",
      "Layer 2\n",
      "Neuron 0: weights:\n",
      "[ 0.5204623  2.1823723 -1.061236  -2.9359639]\n",
      " bias: 1.09364914894104\n",
      "\n",
      "Neuron 1: weights:\n",
      "[-2.933587   -0.16145314  2.9997559  -2.3746552 ]\n",
      " bias: 2.2175819873809814\n",
      "\n",
      "Neuron 2: weights:\n",
      "[-1.58967   -0.9576921  0.4658083  2.2946303]\n",
      " bias: 0.43622589111328125\n",
      "\n",
      "$\n",
      "\n"
     ]
    }
   ],
   "source": [
    "print(model)"
   ]
  }
 ],
 "metadata": {
  "kernelspec": {
   "display_name": "Python 3",
   "language": "python",
   "name": "python3"
  },
  "language_info": {
   "codemirror_mode": {
    "name": "ipython",
    "version": 3
   },
   "file_extension": ".py",
   "mimetype": "text/x-python",
   "name": "python",
   "nbconvert_exporter": "python",
   "pygments_lexer": "ipython3",
   "version": "3.6.10"
  }
 },
 "nbformat": 4,
 "nbformat_minor": 2
}
