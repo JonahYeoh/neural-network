{
 "cells": [
  {
   "cell_type": "code",
   "execution_count": 1,
   "metadata": {},
   "outputs": [],
   "source": [
    "# dependency\n",
    "import numpy as np\n",
    "import pandas as pd\n",
    "import copy\n",
    "import math\n",
    "import sys\n",
    "import os\n",
    "from activations import relu, leaky_relu, sigmoid, tanh, softmax, d_sigmoid, d_relu\n",
    "from initializers import glorot_uniform, random_normal, random_uniform\n",
    "from regularizers import l1_regularizer, l2_regularizer\n",
    "from utility import trim_tail, multiply, subtract, get_nparams, one_hot_encoding, get_data\n",
    "from metrics import MSE, CCE, ACC, PRECISION, RECALL, essential_metrics, wondering_penalty, close_gap_penalty\n",
    "from pso import PSO\n",
    "from ga import GA\n",
    "from nn import Network\n",
    "from layer import DenseLayer\n",
    "from scalers import MinMaxScaler, StandardScaler"
   ]
  },
  {
   "cell_type": "code",
   "execution_count": 2,
   "metadata": {},
   "outputs": [],
   "source": [
    "# reference\n",
    "metrics_fn_dict = dict()\n",
    "metrics_fn_dict['accuracy'] = ACC\n",
    "metrics_fn_dict['categorical_crossentropy'] = CCE\n",
    "metrics_fn_dict['mean_square_error'] = MSE\n",
    "metrics_fn_dict['precision'] = PRECISION\n",
    "metrics_fn_dict['recall'] = RECALL\n",
    "metrics_fn_dict['essential_metrics'] = essential_metrics"
   ]
  },
  {
   "cell_type": "code",
   "execution_count": 3,
   "metadata": {},
   "outputs": [],
   "source": [
    "# model\n",
    "model = Network(5, lr = None)\n",
    "model.add_layer(DenseLayer(1, 4, True, afn=sigmoid, dafn=None, rfn=None))\n",
    "model.add_layer(DenseLayer(2, 3, True, afn=softmax, dafn=None, rfn=None))"
   ]
  },
  {
   "cell_type": "code",
   "execution_count": 4,
   "metadata": {},
   "outputs": [
    {
     "name": "stdout",
     "output_type": "stream",
     "text": [
      "see one see two 2 2\n"
     ]
    }
   ],
   "source": [
    "pso = PSO(dict(m = 50,\n",
    "    weight_constraint = [-3, 3], \n",
    "    velocity_constraint = [-0.1, 0.1],\n",
    "    c1 = 2,\n",
    "    c2 = 2,\n",
    "    w = 1,\n",
    "    w_decay = 1,\n",
    "    scale_hyperparameter = False,\n",
    "    regularizer = None,\n",
    "    mask = False))"
   ]
  },
  {
   "cell_type": "code",
   "execution_count": 5,
   "metadata": {},
   "outputs": [
    {
     "name": "stdout",
     "output_type": "stream",
     "text": [
      "building layer 1 with 5\n",
      "24\n",
      "building layer 2 with 4\n",
      "15\n"
     ]
    }
   ],
   "source": [
    "model.compile(loss_fn = 'categorical_crossentropy', optimizer = pso, \\\n",
    "    metrics = ['accuracy', 'mean_square_error', 'categorical_crossentropy'])"
   ]
  },
  {
   "cell_type": "code",
   "execution_count": 6,
   "metadata": {
    "scrolled": false
   },
   "outputs": [
    {
     "name": "stdout",
     "output_type": "stream",
     "text": [
      "<class 'pandas.core.frame.DataFrame'>\n",
      "RangeIndex: 107 entries, 0 to 106\n",
      "Data columns (total 6 columns):\n",
      " #   Column  Non-Null Count  Dtype  \n",
      "---  ------  --------------  -----  \n",
      " 0   f1      107 non-null    float32\n",
      " 1   f2      107 non-null    float32\n",
      " 2   f3      107 non-null    float32\n",
      " 3   f4      107 non-null    float32\n",
      " 4   f5      107 non-null    float32\n",
      " 5   label   107 non-null    float32\n",
      "dtypes: float32(6)\n",
      "memory usage: 2.6 KB\n",
      "None\n",
      "<class 'pandas.core.frame.DataFrame'>\n",
      "RangeIndex: 108 entries, 0 to 107\n",
      "Data columns (total 6 columns):\n",
      " #   Column  Non-Null Count  Dtype  \n",
      "---  ------  --------------  -----  \n",
      " 0   f1      108 non-null    float32\n",
      " 1   f2      108 non-null    float32\n",
      " 2   f3      108 non-null    float32\n",
      " 3   f4      108 non-null    float32\n",
      " 4   f5      108 non-null    float32\n",
      " 5   label   108 non-null    float32\n",
      "dtypes: float32(6)\n",
      "memory usage: 2.7 KB\n",
      "None\n"
     ]
    }
   ],
   "source": [
    "# data loading\n",
    "DATA = os.path.join('c:\\\\Users\\\\Ai-lab\\\\github_repo\\\\neural-network\\\\', 'dataset')\n",
    "GROUP = 3\n",
    "COLUMNS = ['f1', 'f2', 'f3', 'f4', 'f5', 'label']\n",
    "N_CLASS = 3\n",
    "EPOCHS = 500\n",
    "train_dir, test_dir = \"..//dataset//training_data{}.txt\".format(GROUP), \"..//dataset//testing_data{}.txt\".format(GROUP)\n",
    "train, test = get_data(DATA, train_dir, COLUMNS), get_data(DATA, test_dir, COLUMNS)\n",
    "# shuffle\n",
    "train, test = train.sample(frac=1), test.sample(frac=1)\n",
    "x_train, y_train = train.drop('label', axis=1), train['label']\n",
    "x_test, y_test = test.drop('label', axis=1), test['label']"
   ]
  },
  {
   "cell_type": "code",
   "execution_count": 7,
   "metadata": {},
   "outputs": [],
   "source": [
    "# data scaling and encoding\n",
    "scaler = StandardScaler(['f1', 'f2', 'f3', 'f4', 'f5'])\n",
    "scaler.fit(x_train)\n",
    "x_train = scaler.transform(x_train)\n",
    "x_test = scaler.transform(x_test)\n",
    "y_train = one_hot_encoding(y_train, N_CLASS)\n",
    "y_test = one_hot_encoding(y_test, N_CLASS)"
   ]
  },
  {
   "cell_type": "code",
   "execution_count": 8,
   "metadata": {
    "tags": [
     "outputPrepend"
    ]
   },
   "outputs": [
    {
     "name": "stdout",
     "output_type": "stream",
     "text": [
      "Checkpoint 100, Accuracy: 0.8765432098765432, Loss: 0.4807636826126664\n",
      "Checkpoint 200, Accuracy: 0.8765432098765432, Loss: 0.4807636826126664\n",
      "Checkpoint 300, Accuracy: 0.8765432098765432, Loss: 0.4807636826126664\n",
      "Checkpoint 400, Accuracy: 0.8765432098765432, Loss: 0.4807636826126664\n",
      "Checkpoint 500, Accuracy: 0.8765432098765432, Loss: 0.4807636826126664\n"
     ]
    }
   ],
   "source": [
    "# learning phase\n",
    "breakpoint = 100\n",
    "checkpoints = list()\n",
    "history = list()\n",
    "for century in range(0, EPOCHS, breakpoint):\n",
    "    sub_history = model.fit(x_train, y_train, breakpoint, verbose = 0)\n",
    "    score = model.evaluate(x_test, y_test, False, verbose = 0)\n",
    "    print('Checkpoint {}, Accuracy: {}, Loss: {}'.format(century+breakpoint, score['accuracy'], score[model.loss_fn]))\n",
    "    score['checkpoint'] = century + breakpoint\n",
    "    checkpoints.append(score)\n",
    "    history.extend(sub_history)"
   ]
  },
  {
   "cell_type": "code",
   "execution_count": 9,
   "metadata": {},
   "outputs": [],
   "source": [
    "import matplotlib.pyplot as plt\n",
    "\n",
    "def draw_plot(x, y_list, x_label=None, y_label=None, legend=None, title=None):\n",
    "    fig, ax = plt.subplots(figsize=(12,5))\n",
    "    for xi, yi in zip(x, y_list):\n",
    "        ax.plot(xi, yi)\n",
    "    if x_label is not None and y_label is not None:\n",
    "        ax.set(xlabel=x_label, ylabel=y_label, title='{} VS {}'.format(x_label, y_label))\n",
    "    if legend is not None:\n",
    "        ax.legend(legend)\n",
    "    ax.grid()\n",
    "    plt.show()"
   ]
  },
  {
   "cell_type": "code",
   "execution_count": 12,
   "metadata": {},
   "outputs": [],
   "source": [
    "train_acc = [h['accuracy'] for h in history]\n",
    "train_mse = [h['mean_square_error'] for h in history]\n",
    "train_cce = [h['categorical_crossentropy'] for h in history]"
   ]
  },
  {
   "cell_type": "code",
   "execution_count": 13,
   "metadata": {},
   "outputs": [
    {
     "data": {
      "image/png": "[encoded data removed]",
      "text/plain": [
       "<Figure size 864x360 with 1 Axes>"
      ]
     },
     "metadata": {
      "needs_background": "light"
     },
     "output_type": "display_data"
    },
    {
     "data": {
      "image/png": "[encoded data removed]",
      "text/plain": [
       "<Figure size 864x360 with 1 Axes>"
      ]
     },
     "metadata": {
      "needs_background": "light"
     },
     "output_type": "display_data"
    }
   ],
   "source": [
    "draw_plot(x = [[i for i in range(len(history))], [(i+1)*breakpoint for i in range(len(checkpoints))]], y_list = [train_cce, [ ckp[model.loss_fn] for ckp in checkpoints ]], x_label = 'Epochs', \\\n",
    "    y_label = model.loss_fn, legend=['train', 'test'])\n",
    "acc = [ ckp['accuracy'] for ckp in checkpoints ]\n",
    "draw_plot(x = [[i for i in range(len(history))], [(i+1)*breakpoint for i in range(len(checkpoints))]], y_list = [train_acc, acc], x_label = 'Checkpoints', \\\n",
    "    y_label = 'accuracy', legend=['train', 'test'])"
   ]
  },
  {
   "cell_type": "code",
   "execution_count": 10,
   "metadata": {},
   "outputs": [
    {
     "name": "stdout",
     "output_type": "stream",
     "text": [
      "[0. 0. 1.] <-> [0.24979635 0.00108043 0.7491233 ]\n",
      "[1. 0. 0.] <-> [0.874257   0.04233622 0.0834068 ]\n",
      "[0. 1. 0.] <-> [0.5681804  0.42360708 0.00821246]\n",
      "[1. 0. 0.] <-> [0.7616401  0.0232048  0.21515512]\n",
      "[0. 1. 0.] <-> [0.5510472  0.44664225 0.00231059]\n",
      "[1. 0. 0.] <-> [0.7009393  0.01508408 0.28397664]\n",
      "[0. 1. 0.] <-> [0.55970293 0.4361908  0.00410629]\n",
      "[1. 0. 0.] <-> [0.7780667  0.04655478 0.17537856]\n",
      "[1. 0. 0.] <-> [0.6032162  0.00667627 0.3901075 ]\n",
      "[1. 0. 0.] <-> [0.64798963 0.015314   0.33669633]\n",
      "[1. 0. 0.] <-> [0.83326316 0.15084958 0.0158872 ]\n",
      "[1. 0. 0.] <-> [0.7092671  0.22456685 0.06616608]\n",
      "[1. 0. 0.] <-> [0.87473935 0.07925193 0.04600867]\n",
      "[0. 1. 0.] <-> [0.6870818  0.24080706 0.07211114]\n",
      "[1. 0. 0.] <-> [0.86569285 0.10525755 0.02904958]\n",
      "[0. 1. 0.] <-> [0.59892166 0.38620338 0.01487499]\n",
      "[1. 0. 0.] <-> [0.7643981  0.03773572 0.19786617]\n",
      "[0. 1. 0.] <-> [0.58029115 0.40591505 0.01379381]\n",
      "[1. 0. 0.] <-> [0.81143516 0.0894868  0.09907797]\n",
      "[1. 0. 0.] <-> [0.8975786  0.04119954 0.06122177]\n",
      "[0. 0. 1.] <-> [0.23671956 0.00097273 0.7623077 ]\n",
      "[0. 1. 0.] <-> [0.5567436  0.44016626 0.00309008]\n",
      "[1. 0. 0.] <-> [0.8991023  0.06563868 0.03525897]\n",
      "[1. 0. 0.] <-> [0.75276345 0.02700382 0.22023267]\n",
      "[0. 0. 1.] <-> [0.21926484 0.00087982 0.7798553 ]\n",
      "[1. 0. 0.] <-> [0.8758012  0.02482302 0.09937578]\n",
      "[1. 0. 0.] <-> [0.89609843 0.01898661 0.08491488]\n",
      "[1. 0. 0.] <-> [0.72700036 0.14372963 0.12926997]\n",
      "[1. 0. 0.] <-> [0.782365   0.20829232 0.00934265]\n",
      "[1. 0. 0.] <-> [0.8688817  0.07747021 0.05364815]\n",
      "[1. 0. 0.] <-> [0.9081502  0.04475418 0.04709559]\n",
      "[1. 0. 0.] <-> [0.7884512  0.01570117 0.19584769]\n",
      "[1. 0. 0.] <-> [0.7369435  0.00850098 0.25455552]\n",
      "[0. 1. 0.] <-> [0.55964637 0.43755794 0.00279566]\n",
      "[1. 0. 0.] <-> [0.80444694 0.18505712 0.01049586]\n",
      "[1. 0. 0.] <-> [0.78336996 0.05195256 0.16467746]\n",
      "[1. 0. 0.] <-> [0.90471435 0.0136394  0.08164629]\n",
      "[1. 0. 0.] <-> [0.57479006 0.00875875 0.4164512 ]\n",
      "[1. 0. 0.] <-> [0.8196102  0.04988638 0.13050342]\n",
      "[1. 0. 0.] <-> [0.9207227  0.05001338 0.02926381]\n",
      "[1. 0. 0.] <-> [0.8244017  0.12553233 0.050066  ]\n",
      "[1. 0. 0.] <-> [0.8636653  0.09447594 0.0418588 ]\n",
      "[0. 1. 0.] <-> [0.5528877  0.4445227  0.00258959]\n",
      "[1. 0. 0.] <-> [0.93936527 0.01369947 0.04693533]\n",
      "[1. 0. 0.] <-> [0.89579237 0.03512305 0.06908464]\n",
      "[1. 0. 0.] <-> [0.8547954  0.02107995 0.12412463]\n",
      "[1. 0. 0.] <-> [0.83146334 0.04486053 0.12367618]\n",
      "[0. 0. 1.] <-> [1.9506340e-01 6.8948232e-04 8.0424714e-01]\n",
      "[0. 0. 1.] <-> [0.9220114  0.02044285 0.05754576]\n",
      "[1. 0. 0.] <-> [0.65822154 0.01280538 0.32897308]\n",
      "[0. 0. 1.] <-> [0.5303489  0.00520444 0.46444666]\n",
      "[1. 0. 0.] <-> [0.84271014 0.02283042 0.13445945]\n",
      "[1. 0. 0.] <-> [0.9278395  0.03518799 0.03697247]\n",
      "[1. 0. 0.] <-> [0.8369607  0.02888272 0.13415663]\n",
      "[1. 0. 0.] <-> [0.6850905  0.01837929 0.2965302 ]\n",
      "[0. 0. 1.] <-> [1.7681684e-01 5.8210804e-04 8.2260108e-01]\n",
      "[1. 0. 0.] <-> [0.6864893  0.30626512 0.00724556]\n",
      "[0. 0. 1.] <-> [1.9612044e-01 7.0970150e-04 8.0316985e-01]\n",
      "[1. 0. 0.] <-> [0.8443695  0.04918944 0.10644113]\n",
      "[1. 0. 0.] <-> [0.9200022  0.01977852 0.0602193 ]\n",
      "[1. 0. 0.] <-> [0.7551647  0.03294809 0.2118872 ]\n",
      "[1. 0. 0.] <-> [0.74462986 0.24513058 0.01023959]\n",
      "[1. 0. 0.] <-> [0.8382724  0.01810119 0.14362638]\n",
      "[1. 0. 0.] <-> [0.90999806 0.06044023 0.02956172]\n",
      "[1. 0. 0.] <-> [0.8835266  0.02619176 0.09028164]\n",
      "[0. 1. 0.] <-> [0.6039279  0.3906466  0.00542545]\n",
      "[1. 0. 0.] <-> [0.79721177 0.17538328 0.02740499]\n",
      "[1. 0. 0.] <-> [0.71888304 0.00999446 0.2711225 ]\n",
      "[1. 0. 0.] <-> [0.84763056 0.02969493 0.12267452]\n",
      "[0. 1. 0.] <-> [0.60512936 0.33879766 0.05607297]\n",
      "[1. 0. 0.] <-> [0.8458322  0.0204838  0.13368396]\n",
      "[1. 0. 0.] <-> [0.8712504  0.09854953 0.03020012]\n",
      "[1. 0. 0.] <-> [0.7923728  0.01125003 0.19637705]\n",
      "[1. 0. 0.] <-> [0.8721334  0.03675033 0.09111625]\n",
      "[1. 0. 0.] <-> [0.73052216 0.02421712 0.24526066]\n",
      "[0. 1. 0.] <-> [0.67092353 0.25003016 0.07904629]\n",
      "[1. 0. 0.] <-> [0.8645522  0.01959902 0.11584885]\n",
      "[1. 0. 0.] <-> [0.8298206  0.06664935 0.10353013]\n",
      "[1. 0. 0.] <-> [0.9365406  0.01799185 0.04546756]\n",
      "[0. 1. 0.] <-> [0.5529958  0.4443685  0.00263572]\n",
      "[1. 0. 0.] <-> [0.9206842  0.05766552 0.02165029]\n",
      "[1. 0. 0.] <-> [0.75687027 0.02305681 0.22007293]\n",
      "[0. 0. 1.] <-> [0.22258848 0.00093548 0.7764761 ]\n",
      "[0. 0. 1.] <-> [0.4544874  0.00384331 0.5416693 ]\n",
      "[0. 1. 0.] <-> [0.49298656 0.00867996 0.49833342]\n",
      "[1. 0. 0.] <-> [0.88325894 0.02498663 0.09175448]\n",
      "[0. 1. 0.] <-> [0.70898926 0.27721348 0.01379727]\n",
      "[1. 0. 0.] <-> [0.8144021  0.01869361 0.16690432]\n",
      "[0. 0. 1.] <-> [0.93228614 0.01130361 0.05641027]\n",
      "[0. 0. 1.] <-> [1.9296363e-01 6.8625889e-04 8.0635011e-01]\n",
      "[1. 0. 0.] <-> [0.8196977  0.16458502 0.01571733]\n",
      "[1. 0. 0.] <-> [0.72691727 0.01087734 0.2622054 ]\n",
      "[1. 0. 0.] <-> [0.7604297  0.03144456 0.20812568]\n",
      "[0. 1. 0.] <-> [0.5021387  0.00734297 0.4905184 ]\n",
      "[1. 0. 0.] <-> [0.8297034  0.05501607 0.1152806 ]\n",
      "[1. 0. 0.] <-> [0.7772074  0.02690085 0.19589183]\n",
      "[1. 0. 0.] <-> [0.83993506 0.14184026 0.01822472]\n",
      "[1. 0. 0.] <-> [0.932075   0.03438458 0.03354036]\n",
      "[1. 0. 0.] <-> [0.76739293 0.17258854 0.06001854]\n",
      "[1. 0. 0.] <-> [0.9341631  0.02563546 0.0402014 ]\n",
      "[1. 0. 0.] <-> [0.926196   0.03449156 0.03931247]\n",
      "[0. 0. 1.] <-> [1.8096399e-01 6.2439078e-04 8.1841165e-01]\n",
      "[1. 0. 0.] <-> [0.83027655 0.09046444 0.07925908]\n",
      "[1. 0. 0.] <-> [0.7768444  0.01831359 0.20484199]\n",
      "[1. 0. 0.] <-> [0.8839996  0.06398756 0.05201289]\n",
      "[0. 0. 1.] <-> [0.9357315  0.01733651 0.04693197]\n",
      "[1. 0. 0.] <-> [0.8629639  0.03874548 0.09829056]\n",
      "[1. 0. 0.] <-> [0.6257714  0.01010999 0.36411864]\n",
      "{'accuracy': 0.8765432098765432, 'mean_square_error': 0.2422485056426965, 'categorical_crossentropy': 0.4807636826126664, 'essential_metrics': {0: {'tp_hit': 78, 'fp_hit': 19, 'tn_hit': 11, 'fn_hit': 0}, 1: {'tp_hit': 0, 'fp_hit': 0, 'tn_hit': 92, 'fn_hit': 16}, 2: {'tp_hit': 10, 'fp_hit': 1, 'tn_hit': 93, 'fn_hit': 4}}}\n"
     ]
    }
   ],
   "source": [
    "# recall phase\n",
    "score = model.evaluate(x_test, y_test, False)\n",
    "print(score)"
   ]
  },
  {
   "cell_type": "code",
   "execution_count": 14,
   "metadata": {},
   "outputs": [
    {
     "name": "stdout",
     "output_type": "stream",
     "text": [
      "{'accuracy': 0.8765432098765432, 'mean_square_error': 0.2422485056426965, 'categorical_crossentropy': 0.4807636826126664, 'essential_metrics': {0: {'tp_hit': 78, 'fp_hit': 19, 'tn_hit': 11, 'fn_hit': 0}, 1: {'tp_hit': 0, 'fp_hit': 0, 'tn_hit': 92, 'fn_hit': 16}, 2: {'tp_hit': 10, 'fp_hit': 1, 'tn_hit': 93, 'fn_hit': 4}}, 'checkpoint': 100} \n",
      "\n",
      "\n",
      "{'accuracy': 0.8765432098765432, 'mean_square_error': 0.2422485056426965, 'categorical_crossentropy': 0.4807636826126664, 'essential_metrics': {0: {'tp_hit': 78, 'fp_hit': 19, 'tn_hit': 11, 'fn_hit': 0}, 1: {'tp_hit': 0, 'fp_hit': 0, 'tn_hit': 92, 'fn_hit': 16}, 2: {'tp_hit': 10, 'fp_hit': 1, 'tn_hit': 93, 'fn_hit': 4}}, 'checkpoint': 200} \n",
      "\n",
      "\n",
      "{'accuracy': 0.8765432098765432, 'mean_square_error': 0.2422485056426965, 'categorical_crossentropy': 0.4807636826126664, 'essential_metrics': {0: {'tp_hit': 78, 'fp_hit': 19, 'tn_hit': 11, 'fn_hit': 0}, 1: {'tp_hit': 0, 'fp_hit': 0, 'tn_hit': 92, 'fn_hit': 16}, 2: {'tp_hit': 10, 'fp_hit': 1, 'tn_hit': 93, 'fn_hit': 4}}, 'checkpoint': 300} \n",
      "\n",
      "\n",
      "{'accuracy': 0.8765432098765432, 'mean_square_error': 0.2422485056426965, 'categorical_crossentropy': 0.4807636826126664, 'essential_metrics': {0: {'tp_hit': 78, 'fp_hit': 19, 'tn_hit': 11, 'fn_hit': 0}, 1: {'tp_hit': 0, 'fp_hit': 0, 'tn_hit': 92, 'fn_hit': 16}, 2: {'tp_hit': 10, 'fp_hit': 1, 'tn_hit': 93, 'fn_hit': 4}}, 'checkpoint': 400} \n",
      "\n",
      "\n",
      "{'accuracy': 0.8765432098765432, 'mean_square_error': 0.2422485056426965, 'categorical_crossentropy': 0.4807636826126664, 'essential_metrics': {0: {'tp_hit': 78, 'fp_hit': 19, 'tn_hit': 11, 'fn_hit': 0}, 1: {'tp_hit': 0, 'fp_hit': 0, 'tn_hit': 92, 'fn_hit': 16}, 2: {'tp_hit': 10, 'fp_hit': 1, 'tn_hit': 93, 'fn_hit': 4}}, 'checkpoint': 500} \n",
      "\n",
      "\n"
     ]
    }
   ],
   "source": [
    "for checkpoint in checkpoints:\n",
    "    print(checkpoint, '\\n\\n')"
   ]
  },
  {
   "cell_type": "code",
   "execution_count": 15,
   "metadata": {},
   "outputs": [
    {
     "name": "stdout",
     "output_type": "stream",
     "text": [
      "Layer 1\n",
      "Neuron 0: weights:\n",
      "[-2.2902042  -1.93746811  0.63440183 -2.09584967 -1.62186664]\n",
      " bias: -1.4584670407577844\n",
      "\n",
      "Neuron 1: weights:\n",
      "[-2.52372973  1.88019085  0.23627536  1.35245596 -0.734946  ]\n",
      " bias: -0.4277200856975085\n",
      "\n",
      "Neuron 2: weights:\n",
      "[ 2.48133699  0.55947565 -0.27292809  0.96185392  0.6047081 ]\n",
      " bias: -2.9159526345364375\n",
      "\n",
      "Neuron 3: weights:\n",
      "[-0.76195106 -2.91325052 -1.65809164  2.13484851 -0.1232212 ]\n",
      " bias: -0.4487147298914058\n",
      "\n",
      "$\n",
      "Layer 2\n",
      "Neuron 0: weights:\n",
      "[ 1.71861675 -1.96165674  0.60117274 -0.78083546]\n",
      " bias: 1.266420374681604\n",
      "\n",
      "Neuron 1: weights:\n",
      "[ 1.94541964  1.00406119 -0.42056118 -2.14322041]\n",
      " bias: -2.131603938479281\n",
      "\n",
      "Neuron 2: weights:\n",
      "[-1.64893311 -2.74704215  2.11913529  0.72462506]\n",
      " bias: -0.12220131046936178\n",
      "\n",
      "$\n",
      "\n"
     ]
    }
   ],
   "source": [
    "print(model)"
   ]
  },
  {
   "cell_type": "code",
   "execution_count": null,
   "metadata": {},
   "outputs": [],
   "source": []
  }
 ],
 "metadata": {
  "kernelspec": {
   "display_name": "Python 3",
   "language": "python",
   "name": "python3"
  },
  "language_info": {
   "codemirror_mode": {
    "name": "ipython",
    "version": 3
   },
   "file_extension": ".py",
   "mimetype": "text/x-python",
   "name": "python",
   "nbconvert_exporter": "python",
   "pygments_lexer": "ipython3",
   "version": "3.6.12"
  }
 },
 "nbformat": 4,
 "nbformat_minor": 2
}
