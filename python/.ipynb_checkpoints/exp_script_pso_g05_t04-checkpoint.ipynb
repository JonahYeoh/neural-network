{
 "cells": [
  {
   "cell_type": "code",
   "execution_count": 1,
   "metadata": {},
   "outputs": [],
   "source": [
    "# dependency\n",
    "import numpy as np\n",
    "import pandas as pd\n",
    "import copy\n",
    "import math\n",
    "import sys\n",
    "import os\n",
    "from activations import relu, leaky_relu, sigmoid, tanh, softmax, d_sigmoid, d_relu\n",
    "from initializers import glorot_uniform, random_normal, random_uniform\n",
    "from regularizers import l1_regularizer, l2_regularizer\n",
    "from utility import trim_tail, multiply, subtract, get_nparams, one_hot_encoding, get_data\n",
    "from metrics import MSE, CCE, ACC, PRECISION, RECALL, essential_metrics, wondering_penalty, close_gap_penalty\n",
    "from pso import PSO\n",
    "from ga import GA\n",
    "from nn import Network\n",
    "from layer import DenseLayer\n",
    "from scalers import MinMaxScaler, StandardScaler"
   ]
  },
  {
   "cell_type": "code",
   "execution_count": 2,
   "metadata": {},
   "outputs": [],
   "source": [
    "# reference\n",
    "metrics_fn_dict = dict()\n",
    "metrics_fn_dict['accuracy'] = ACC\n",
    "metrics_fn_dict['categorical_crossentropy'] = CCE\n",
    "metrics_fn_dict['mean_square_error'] = MSE\n",
    "metrics_fn_dict['precision'] = PRECISION\n",
    "metrics_fn_dict['recall'] = RECALL\n",
    "metrics_fn_dict['essential_metrics'] = essential_metrics"
   ]
  },
  {
   "cell_type": "code",
   "execution_count": 3,
   "metadata": {},
   "outputs": [],
   "source": [
    "# model\n",
    "model = Network(5, lr = None)\n",
    "model.add_layer(DenseLayer(1, 4, True, afn=sigmoid, dafn=None, rfn=None))\n",
    "model.add_layer(DenseLayer(2, 3, True, afn=softmax, dafn=None, rfn=None))"
   ]
  },
  {
   "cell_type": "code",
   "execution_count": 4,
   "metadata": {},
   "outputs": [],
   "source": [
    "pso = PSO(dict(m = 50,\n",
    "    weight_constraint = [-3, 3], \n",
    "    velocity_constraint = [-0.5, 0.5],\n",
    "    c1 = 2.0,\n",
    "    c2 = 2.0,\n",
    "    w = 0.8,\n",
    "    w_decay = 0.95,\n",
    "    scale_hyperparameter = False))"
   ]
  },
  {
   "cell_type": "code",
   "execution_count": 5,
   "metadata": {},
   "outputs": [
    {
     "name": "stdout",
     "output_type": "stream",
     "text": [
      "building layer 1 with 5\n",
      "24\n",
      "building layer 2 with 4\n",
      "15\n"
     ]
    }
   ],
   "source": [
    "model.compile(loss_fn = 'categorical_crossentropy', optimizer = pso, \\\n",
    "    metrics = ['accuracy', 'mean_square_error', 'categorical_crossentropy', 'precision', 'recall', 'f1'])"
   ]
  },
  {
   "cell_type": "code",
   "execution_count": 6,
   "metadata": {},
   "outputs": [
    {
     "name": "stdout",
     "output_type": "stream",
     "text": [
      "<class 'pandas.core.frame.DataFrame'>\n",
      "RangeIndex: 107 entries, 0 to 106\n",
      "Data columns (total 6 columns):\n",
      " #   Column  Non-Null Count  Dtype  \n",
      "---  ------  --------------  -----  \n",
      " 0   f1      107 non-null    float32\n",
      " 1   f2      107 non-null    float32\n",
      " 2   f3      107 non-null    float32\n",
      " 3   f4      107 non-null    float32\n",
      " 4   f5      107 non-null    float32\n",
      " 5   label   107 non-null    float32\n",
      "dtypes: float32(6)\n",
      "memory usage: 2.6 KB\n",
      "None\n",
      "<class 'pandas.core.frame.DataFrame'>\n",
      "RangeIndex: 108 entries, 0 to 107\n",
      "Data columns (total 6 columns):\n",
      " #   Column  Non-Null Count  Dtype  \n",
      "---  ------  --------------  -----  \n",
      " 0   f1      108 non-null    float32\n",
      " 1   f2      108 non-null    float32\n",
      " 2   f3      108 non-null    float32\n",
      " 3   f4      108 non-null    float32\n",
      " 4   f5      108 non-null    float32\n",
      " 5   label   108 non-null    float32\n",
      "dtypes: float32(6)\n",
      "memory usage: 2.7 KB\n",
      "None\n"
     ]
    }
   ],
   "source": [
    "# data loading\n",
    "DATA = os.path.join('c:\\\\Users\\\\tcumi\\\\github_repo\\\\neural-network\\\\', 'dataset')\n",
    "GROUP = 5\n",
    "COLUMNS = ['f1', 'f2', 'f3', 'f4', 'f5', 'label']\n",
    "N_CLASS = 3\n",
    "EPOCHS = 500\n",
    "train_dir, test_dir = \"..//dataset//training_data{}.txt\".format(GROUP), \"..//dataset//testing_data{}.txt\".format(GROUP)\n",
    "train, test = get_data(DATA, train_dir, COLUMNS), get_data(DATA, test_dir, COLUMNS)\n",
    "# shuffle\n",
    "train, test = train.sample(frac=1), test.sample(frac=1)\n",
    "x_train, y_train = train.drop('label', axis=1), train['label']\n",
    "x_test, y_test = test.drop('label', axis=1), test['label']"
   ]
  },
  {
   "cell_type": "code",
   "execution_count": 7,
   "metadata": {},
   "outputs": [],
   "source": [
    "# data scaling and encoding\n",
    "scaler = StandardScaler(['f1', 'f2', 'f3', 'f4', 'f5'])\n",
    "scaler.fit(x_train)\n",
    "x_train = scaler.transform(x_train)\n",
    "x_test = scaler.transform(x_test)\n",
    "y_train = one_hot_encoding(y_train, N_CLASS)\n",
    "y_test = one_hot_encoding(y_test, N_CLASS)"
   ]
  },
  {
   "cell_type": "code",
   "execution_count": 8,
   "metadata": {
    "tags": [
     "outputPrepend"
    ]
   },
   "outputs": [
    {
     "name": "stderr",
     "output_type": "stream",
     "text": [
      "C:\\Users\\tcumi\\github_repo\\neural-network\\python\\activations.py:14: RuntimeWarning: overflow encountered in exp\n",
      "  y = 1 / (1 + np.exp(-Xi))\n"
     ]
    },
    {
     "name": "stdout",
     "output_type": "stream",
     "text": [
      "Checkpoint 100, Accuracy: 0.8765432098765432, Loss: 0.5043941427160192\n",
      "Checkpoint 200, Accuracy: 0.8765432098765432, Loss: 0.5043941427160192\n",
      "Checkpoint 300, Accuracy: 0.8765432098765432, Loss: 0.5043941427160192\n",
      "Checkpoint 400, Accuracy: 0.8765432098765432, Loss: 0.5043941427160192\n",
      "Checkpoint 500, Accuracy: 0.8765432098765432, Loss: 0.5043941427160192\n"
     ]
    }
   ],
   "source": [
    "# learning phase\n",
    "breakpoint = 100\n",
    "checkpoints = list()\n",
    "history = list()\n",
    "for century in range(0, EPOCHS, breakpoint):\n",
    "    sub_history = model.fit(x_train, y_train, breakpoint, verbose = 0)\n",
    "    score = model.evaluate(x_test, y_test, False, verbose = 0)\n",
    "    print('Checkpoint {}, Accuracy: {}, Loss: {}'.format(century+breakpoint, score['accuracy'], score[model.loss_fn]))\n",
    "    score['checkpoint'] = century + breakpoint\n",
    "    checkpoints.append(score)\n",
    "    history.extend(sub_history)"
   ]
  },
  {
   "cell_type": "code",
   "execution_count": 9,
   "metadata": {},
   "outputs": [],
   "source": [
    "import matplotlib.pyplot as plt\n",
    "\n",
    "def draw_plot(x, y_list, x_label=None, y_label=None, legend=None, title=None):\n",
    "    fig, ax = plt.subplots(figsize=(12,5))\n",
    "    for y in y_list:\n",
    "        ax.plot(x, y)\n",
    "    if x_label is not None and y_label is not None and title is not None:\n",
    "        ax.set(xlabel=x_label, ylabel=y_label, title=title)\n",
    "    if legend is not None:\n",
    "        ax.legend(legend)\n",
    "    ax.grid()\n",
    "    plt.show()"
   ]
  },
  {
   "cell_type": "code",
   "execution_count": 10,
   "metadata": {},
   "outputs": [
    {
     "data": {
      "image/png": "[encoded data removed]",
      "text/plain": [
       "<Figure size 864x360 with 1 Axes>"
      ]
     },
     "metadata": {
      "needs_background": "light"
     },
     "output_type": "display_data"
    }
   ],
   "source": [
    "draw_plot(x = [i for i in range(len(history))], y_list = [history], x_label = 'Epochs', \\\n",
    "    y_label = model.loss_fn)"
   ]
  },
  {
   "cell_type": "code",
   "execution_count": 11,
   "metadata": {},
   "outputs": [
    {
     "name": "stdout",
     "output_type": "stream",
     "text": [
      "[0. 1. 0.] <-> [0.03222251 0.9247455  0.0430319 ]\n",
      "[1. 0. 0.] <-> [0.7945586  0.1186416  0.08679979]\n",
      "[0. 0. 1.] <-> [0.37918437 0.44127446 0.17954119]\n",
      "[1. 0. 0.] <-> [0.8900275  0.08337885 0.02659368]\n",
      "[1. 0. 0.] <-> [0.87931204 0.07798316 0.04270474]\n",
      "[1. 0. 0.] <-> [0.9121773  0.0691981  0.01862459]\n",
      "[0. 1. 0.] <-> [0.39683223 0.51844364 0.08472414]\n",
      "[0. 1. 0.] <-> [0.7709669  0.17095569 0.0580774 ]\n",
      "[1. 0. 0.] <-> [0.92656416 0.04809342 0.02534242]\n",
      "[1. 0. 0.] <-> [0.9308361  0.04374235 0.02542158]\n",
      "[1. 0. 0.] <-> [0.8669759  0.10697175 0.02605235]\n",
      "[1. 0. 0.] <-> [0.88242537 0.09094536 0.02662928]\n",
      "[0. 1. 0.] <-> [0.09526218 0.8192811  0.08545666]\n",
      "[1. 0. 0.] <-> [0.5453274  0.40579757 0.04887498]\n",
      "[1. 0. 0.] <-> [0.9126361  0.06684241 0.02052151]\n",
      "[1. 0. 0.] <-> [0.21233301 0.20939386 0.5782732 ]\n",
      "[0. 0. 1.] <-> [0.5321346  0.13418919 0.3336762 ]\n",
      "[1. 0. 0.] <-> [0.8638014  0.10407516 0.03212345]\n",
      "[1. 0. 0.] <-> [0.8516373  0.11797879 0.03038394]\n",
      "[1. 0. 0.] <-> [0.83875865 0.11866176 0.0425796 ]\n",
      "[1. 0. 0.] <-> [0.9062852  0.07325236 0.02046246]\n",
      "[0. 0. 1.] <-> [0.9364917  0.03889655 0.02461174]\n",
      "[1. 0. 0.] <-> [0.8696698  0.10556406 0.02476621]\n",
      "[1. 0. 0.] <-> [0.8750475  0.10043219 0.02452028]\n",
      "[0. 1. 0.] <-> [0.44168416 0.51918346 0.03913235]\n",
      "[0. 0. 1.] <-> [0.07735941 0.5857022  0.3369384 ]\n",
      "[0. 1. 0.] <-> [0.00824746 0.75619495 0.23555757]\n",
      "[1. 0. 0.] <-> [0.3550126  0.26158673 0.3834007 ]\n",
      "[1. 0. 0.] <-> [0.9164432  0.05653667 0.02702017]\n",
      "[1. 0. 0.] <-> [0.8582273  0.11450172 0.02727104]\n",
      "[1. 0. 0.] <-> [0.89805    0.08059558 0.02135448]\n",
      "[1. 0. 0.] <-> [0.80149347 0.1122575  0.08624903]\n",
      "[1. 0. 0.] <-> [0.8957712  0.08144955 0.02277919]\n",
      "[1. 0. 0.] <-> [0.8637251  0.11089572 0.02537916]\n",
      "[1. 0. 0.] <-> [0.8724621  0.10232977 0.02520818]\n",
      "[1. 0. 0.] <-> [0.78485686 0.1748622  0.04028099]\n",
      "[1. 0. 0.] <-> [0.8983496  0.07700791 0.02464249]\n",
      "[1. 0. 0.] <-> [0.8887834  0.08808668 0.02312984]\n",
      "[0. 0. 1.] <-> [0.07059097 0.6407503  0.2886588 ]\n",
      "[0. 0. 1.] <-> [0.44782707 0.50879616 0.04337677]\n",
      "[1. 0. 0.] <-> [0.85785615 0.11250982 0.02963406]\n",
      "[0. 1. 0.] <-> [0.3761328  0.5757815  0.04808569]\n",
      "[1. 0. 0.] <-> [0.7994151  0.1673845  0.03320043]\n",
      "[0. 1. 0.] <-> [0.03669042 0.9281792  0.03513039]\n",
      "[1. 0. 0.] <-> [0.81114143 0.15571362 0.0331449 ]\n",
      "[1. 0. 0.] <-> [0.8956649  0.08110321 0.02323191]\n",
      "[0. 0. 1.] <-> [0.05766297 0.6756834  0.26665363]\n",
      "[1. 0. 0.] <-> [0.84263176 0.10310633 0.05426192]\n",
      "[1. 0. 0.] <-> [0.7431079  0.21779571 0.03909638]\n",
      "[0. 0. 1.] <-> [0.06272501 0.65391445 0.2833606 ]\n",
      "[0. 1. 0.] <-> [0.5219053  0.32907754 0.14901717]\n",
      "[0. 0. 1.] <-> [0.24859284 0.20719372 0.5442134 ]\n",
      "[0. 1. 0.] <-> [0.00722211 0.7132724  0.27950558]\n",
      "[1. 0. 0.] <-> [0.75524205 0.20947422 0.0352837 ]\n",
      "[1. 0. 0.] <-> [0.7741428  0.12741975 0.09843747]\n",
      "[0. 0. 1.] <-> [0.09610545 0.41680643 0.4870881 ]\n",
      "[1. 0. 0.] <-> [0.9231615  0.05339059 0.02344788]\n",
      "[1. 0. 0.] <-> [0.7631917  0.20305414 0.03375417]\n",
      "[1. 0. 0.] <-> [0.6222632  0.24254654 0.1351903 ]\n",
      "[1. 0. 0.] <-> [0.89763767 0.07988244 0.02247991]\n",
      "[1. 0. 0.] <-> [0.9110987  0.06544705 0.02345423]\n",
      "[1. 0. 0.] <-> [0.8929039  0.08544755 0.02164856]\n",
      "[0. 1. 0.] <-> [0.6411952  0.28852358 0.07028124]\n",
      "[1. 0. 0.] <-> [0.5583615  0.15329584 0.28834265]\n",
      "[0. 0. 1.] <-> [0.934837   0.03991382 0.02524929]\n",
      "[1. 0. 0.] <-> [0.88202065 0.09061632 0.02736301]\n",
      "[1. 0. 0.] <-> [0.84059125 0.11290611 0.04650268]\n",
      "[0. 1. 0.] <-> [0.02798263 0.9368981  0.03511931]\n",
      "[1. 0. 0.] <-> [0.87907386 0.08994509 0.03098105]\n",
      "[1. 0. 0.] <-> [0.9390576  0.03738262 0.02355986]\n",
      "[1. 0. 0.] <-> [0.889245   0.08842959 0.0223254 ]\n",
      "[0. 0. 1.] <-> [0.43595207 0.13731962 0.42672828]\n",
      "[1. 0. 0.] <-> [0.869582   0.10418196 0.026236  ]\n",
      "[1. 0. 0.] <-> [0.7870283  0.13522105 0.07775068]\n",
      "[1. 0. 0.] <-> [0.8822541  0.08896688 0.02877904]\n",
      "[1. 0. 0.] <-> [0.59596145 0.2298154  0.17422314]\n",
      "[1. 0. 0.] <-> [0.54722327 0.33710918 0.11566757]\n",
      "[1. 0. 0.] <-> [0.8850963  0.09242572 0.022478  ]\n",
      "[1. 0. 0.] <-> [0.88803995 0.0894706  0.0224894 ]\n",
      "[0. 0. 1.] <-> [0.05887519 0.6746972  0.26642752]\n",
      "[1. 0. 0.] <-> [0.79095244 0.15144952 0.05759805]\n",
      "[1. 0. 0.] <-> [0.83830976 0.13393626 0.02775392]\n",
      "[1. 0. 0.] <-> [0.9095379  0.06962936 0.02083278]\n",
      "[0. 1. 0.] <-> [0.5046848 0.4565931 0.0387221]\n",
      "[0. 1. 0.] <-> [0.00714735 0.7146146  0.2782381 ]\n",
      "[1. 0. 0.] <-> [0.79427123 0.16197442 0.04375442]\n",
      "[1. 0. 0.] <-> [0.8706469  0.09387338 0.03547976]\n",
      "[0. 1. 0.] <-> [0.11415402 0.63077694 0.25506908]\n",
      "[1. 0. 0.] <-> [0.8954045  0.0822671  0.02232839]\n",
      "[1. 0. 0.] <-> [0.7369783  0.14810143 0.1149203 ]\n",
      "[0. 1. 0.] <-> [0.01346637 0.7945517  0.19198197]\n",
      "[1. 0. 0.] <-> [0.8951089  0.08265054 0.02224057]\n",
      "[0. 0. 1.] <-> [0.9260935  0.04454421 0.02936222]\n",
      "[0. 0. 1.] <-> [0.381262   0.53485185 0.08388617]\n",
      "[1. 0. 0.] <-> [0.88196033 0.08590403 0.03213562]\n",
      "[1. 0. 0.] <-> [0.82995886 0.13153878 0.03850248]\n",
      "[1. 0. 0.] <-> [0.8810812  0.09181407 0.02710471]\n",
      "[1. 0. 0.] <-> [0.74701726 0.21901877 0.0339639 ]\n",
      "[1. 0. 0.] <-> [0.8520353  0.11913241 0.02883231]\n",
      "[1. 0. 0.] <-> [0.8705642  0.10375848 0.02567734]\n",
      "[1. 0. 0.] <-> [0.89521396 0.07799075 0.02679519]\n",
      "[1. 0. 0.] <-> [0.13781919 0.64383984 0.21834101]\n",
      "[1. 0. 0.] <-> [0.9250636  0.04687645 0.02806003]\n",
      "[1. 0. 0.] <-> [0.7512549  0.21090633 0.03783876]\n",
      "[1. 0. 0.] <-> [0.80106604 0.14330514 0.05562878]\n",
      "[0. 1. 0.] <-> [0.03284805 0.9251299  0.04202205]\n",
      "[1. 0. 0.] <-> [0.8836452  0.09316845 0.02318644]\n",
      "[1. 0. 0.] <-> [0.8784704  0.09578244 0.02574715]\n",
      "{'accuracy': 0.8765432098765432, 'mean_square_error': 0.2601997930397991, 'categorical_crossentropy': 0.5043941427160192, 'precision': 0.8148148148148148, 'recall': 0.8148148148148148, 'f1': 0.8148148148148148, 'essential_metrics': {0: {'tp_hit': 73, 'fp_hit': 9, 'tn_hit': 23, 'fn_hit': 3}, 1: {'tp_hit': 13, 'fp_hit': 9, 'tn_hit': 82, 'fn_hit': 4}, 2: {'tp_hit': 2, 'fp_hit': 2, 'tn_hit': 91, 'fn_hit': 13}}}\n"
     ]
    }
   ],
   "source": [
    "# recall phase\n",
    "score = model.evaluate(x_test, y_test, False)\n",
    "print(score)"
   ]
  },
  {
   "cell_type": "code",
   "execution_count": 12,
   "metadata": {},
   "outputs": [
    {
     "data": {
      "image/png": "[encoded data removed]",
      "text/plain": [
       "<Figure size 864x360 with 1 Axes>"
      ]
     },
     "metadata": {
      "needs_background": "light"
     },
     "output_type": "display_data"
    }
   ],
   "source": [
    "cat_cross = [ ckp[model.loss_fn] for ckp in checkpoints ]\n",
    "draw_plot(x = [(i+1)*breakpoint for i in range(len(checkpoints))], y_list = [cat_cross], x_label = 'Checkpoints', \\\n",
    "    y_label = model.loss_fn)"
   ]
  },
  {
   "cell_type": "code",
   "execution_count": 13,
   "metadata": {},
   "outputs": [
    {
     "data": {
      "image/png": "[encoded data removed]",
      "text/plain": [
       "<Figure size 864x360 with 1 Axes>"
      ]
     },
     "metadata": {
      "needs_background": "light"
     },
     "output_type": "display_data"
    }
   ],
   "source": [
    "acc = [ ckp['accuracy'] for ckp in checkpoints ]\n",
    "draw_plot(x = [(i+1)*breakpoint for i in range(len(checkpoints))], y_list = [acc], x_label = 'Checkpoints', \\\n",
    "    y_label = 'accuracy')"
   ]
  },
  {
   "cell_type": "code",
   "execution_count": 14,
   "metadata": {},
   "outputs": [
    {
     "name": "stdout",
     "output_type": "stream",
     "text": [
      "Layer 1\n",
      "Neuron 0: weights:\n",
      "[-2.88684677 -2.77961714  1.25773618 -2.00906002  0.60881936]\n",
      " bias: 2.4206606834662585\n",
      "\n",
      "Neuron 1: weights:\n",
      "[ 0.19385788 -2.13745638 -2.92554019 -2.74941963 -2.95246222]\n",
      " bias: 0.4367588832957532\n",
      "\n",
      "Neuron 2: weights:\n",
      "[-2.01382153  1.80043328  0.49359368 -1.77605404  0.86509363]\n",
      " bias: -2.6884913884247705\n",
      "\n",
      "Neuron 3: weights:\n",
      "[ 2.36233115  2.54634308 -2.39354687  0.07998176 -2.89129816]\n",
      " bias: 1.5158565302652347\n",
      "\n",
      "$\n",
      "Layer 2\n",
      "Neuron 0: weights:\n",
      "[-0.57094594  1.23965221 -2.90339236  2.29594375]\n",
      " bias: -0.40478411910049195\n",
      "\n",
      "Neuron 1: weights:\n",
      "[ 0.48330137 -2.39882066 -0.50328895  1.09447584]\n",
      " bias: 0.8819283325381786\n",
      "\n",
      "Neuron 2: weights:\n",
      "[-0.91564016  0.05912588 -0.15400477 -1.95592977]\n",
      " bias: 1.3140609921540793\n",
      "\n",
      "$\n",
      "\n"
     ]
    }
   ],
   "source": [
    "print(model)"
   ]
  }
 ],
 "metadata": {
  "kernelspec": {
   "display_name": "Python 3",
   "language": "python",
   "name": "python3"
  },
  "language_info": {
   "codemirror_mode": {
    "name": "ipython",
    "version": 3
   },
   "file_extension": ".py",
   "mimetype": "text/x-python",
   "name": "python",
   "nbconvert_exporter": "python",
   "pygments_lexer": "ipython3",
   "version": "3.6.10"
  }
 },
 "nbformat": 4,
 "nbformat_minor": 2
}
