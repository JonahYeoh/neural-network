{
 "cells": [
  {
   "cell_type": "code",
   "execution_count": 1,
   "metadata": {},
   "outputs": [],
   "source": [
    "# dependency\n",
    "import numpy as np\n",
    "import pandas as pd\n",
    "import copy\n",
    "import math\n",
    "import sys\n",
    "import os\n",
    "from activations import relu, leaky_relu, sigmoid, tanh, softmax, d_sigmoid, d_relu\n",
    "from initializers import glorot_uniform, random_normal, random_uniform\n",
    "from regularizers import l1_regularizer, l2_regularizer\n",
    "from utility import trim_tail, multiply, subtract, get_nparams, one_hot_encoding, get_data\n",
    "from metrics import MSE, CCE, ACC, PRECISION, RECALL, essential_metrics, wondering_penalty, close_gap_penalty\n",
    "from pso import PSO\n",
    "from ga import GA\n",
    "from nn import Network\n",
    "from layer import DenseLayer\n",
    "from scalers import MinMaxScaler, StandardScaler"
   ]
  },
  {
   "cell_type": "code",
   "execution_count": 2,
   "metadata": {},
   "outputs": [],
   "source": [
    "# reference\n",
    "metrics_fn_dict = dict()\n",
    "metrics_fn_dict['accuracy'] = ACC\n",
    "metrics_fn_dict['categorical_crossentropy'] = CCE\n",
    "metrics_fn_dict['mean_square_error'] = MSE\n",
    "metrics_fn_dict['precision'] = PRECISION\n",
    "metrics_fn_dict['recall'] = RECALL\n",
    "metrics_fn_dict['essential_metrics'] = essential_metrics"
   ]
  },
  {
   "cell_type": "code",
   "execution_count": 3,
   "metadata": {},
   "outputs": [],
   "source": [
    "# model\n",
    "model = Network(5, lr = None)\n",
    "model.add_layer(DenseLayer(1, 4, True, afn=sigmoid, dafn=None, rfn=None))\n",
    "model.add_layer(DenseLayer(2, 3, True, afn=softmax, dafn=None, rfn=None))"
   ]
  },
  {
   "cell_type": "code",
   "execution_count": 4,
   "metadata": {},
   "outputs": [
    {
     "name": "stdout",
     "output_type": "stream",
     "text": [
      "see one see two 2 2\n"
     ]
    }
   ],
   "source": [
    "pso = PSO(dict(m = 50,\n",
    "    weight_constraint = [-3, 3], \n",
    "    velocity_constraint = [-0.1, 0.1],\n",
    "    c1 = 2,\n",
    "    c2 = 2,\n",
    "    w = 1,\n",
    "    w_decay = 1,\n",
    "    scale_hyperparameter = False,\n",
    "    regularizer = l2_regularizer,\n",
    "    mask = True))"
   ]
  },
  {
   "cell_type": "code",
   "execution_count": 5,
   "metadata": {},
   "outputs": [
    {
     "name": "stdout",
     "output_type": "stream",
     "text": [
      "building layer 1 with 5\n",
      "24\n",
      "building layer 2 with 4\n",
      "15\n"
     ]
    }
   ],
   "source": [
    "model.compile(loss_fn = 'categorical_crossentropy', optimizer = pso, \\\n",
    "    metrics = ['accuracy', 'mean_square_error', 'categorical_crossentropy'])"
   ]
  },
  {
   "cell_type": "code",
   "execution_count": 6,
   "metadata": {},
   "outputs": [
    {
     "name": "stdout",
     "output_type": "stream",
     "text": [
      "<class 'pandas.core.frame.DataFrame'>\n",
      "RangeIndex: 107 entries, 0 to 106\n",
      "Data columns (total 6 columns):\n",
      " #   Column  Non-Null Count  Dtype  \n",
      "---  ------  --------------  -----  \n",
      " 0   f1      107 non-null    float32\n",
      " 1   f2      107 non-null    float32\n",
      " 2   f3      107 non-null    float32\n",
      " 3   f4      107 non-null    float32\n",
      " 4   f5      107 non-null    float32\n",
      " 5   label   107 non-null    float32\n",
      "dtypes: float32(6)\n",
      "memory usage: 2.6 KB\n",
      "None\n",
      "<class 'pandas.core.frame.DataFrame'>\n",
      "RangeIndex: 108 entries, 0 to 107\n",
      "Data columns (total 6 columns):\n",
      " #   Column  Non-Null Count  Dtype  \n",
      "---  ------  --------------  -----  \n",
      " 0   f1      108 non-null    float32\n",
      " 1   f2      108 non-null    float32\n",
      " 2   f3      108 non-null    float32\n",
      " 3   f4      108 non-null    float32\n",
      " 4   f5      108 non-null    float32\n",
      " 5   label   108 non-null    float32\n",
      "dtypes: float32(6)\n",
      "memory usage: 2.7 KB\n",
      "None\n"
     ]
    }
   ],
   "source": [
    "# data loading\n",
    "DATA = os.path.join('c:\\\\Users\\\\tcumi\\\\github_repo\\\\neural-network\\\\', 'dataset')\n",
    "GROUP = 5\n",
    "COLUMNS = ['f1', 'f2', 'f3', 'f4', 'f5', 'label']\n",
    "N_CLASS = 3\n",
    "EPOCHS = 500\n",
    "train_dir, test_dir = \"..//dataset//training_data{}.txt\".format(GROUP), \"..//dataset//testing_data{}.txt\".format(GROUP)\n",
    "train, test = get_data(DATA, train_dir, COLUMNS), get_data(DATA, test_dir, COLUMNS)\n",
    "# shuffle\n",
    "train, test = train.sample(frac=1), test.sample(frac=1)\n",
    "x_train, y_train = train.drop('label', axis=1), train['label']\n",
    "x_test, y_test = test.drop('label', axis=1), test['label']"
   ]
  },
  {
   "cell_type": "code",
   "execution_count": 7,
   "metadata": {},
   "outputs": [],
   "source": [
    "# data scaling and encoding\n",
    "scaler = StandardScaler(['f1', 'f2', 'f3', 'f4', 'f5'])\n",
    "scaler.fit(x_train)\n",
    "x_train = scaler.transform(x_train)\n",
    "x_test = scaler.transform(x_test)\n",
    "y_train = one_hot_encoding(y_train, N_CLASS)\n",
    "y_test = one_hot_encoding(y_test, N_CLASS)"
   ]
  },
  {
   "cell_type": "code",
   "execution_count": 8,
   "metadata": {
    "tags": [
     "outputPrepend"
    ]
   },
   "outputs": [
    {
     "name": "stdout",
     "output_type": "stream",
     "text": [
      "Checkpoint 100, Accuracy: 0.9506172839506173, Loss: 0.30797636950457535\n",
      "Checkpoint 200, Accuracy: 0.9506172839506173, Loss: 0.23492164965029116\n",
      "Checkpoint 300, Accuracy: 0.9506172839506173, Loss: 0.2224461237589518\n",
      "Checkpoint 400, Accuracy: 0.9567901234567902, Loss: 0.2255539894104004\n",
      "Checkpoint 500, Accuracy: 0.9567901234567902, Loss: 0.22257912600481952\n"
     ]
    }
   ],
   "source": [
    "# learning phase\n",
    "breakpoint = 100\n",
    "checkpoints = list()\n",
    "history = list()\n",
    "for century in range(0, EPOCHS, breakpoint):\n",
    "    sub_history = model.fit(x_train, y_train, breakpoint, verbose = 0)\n",
    "    score = model.evaluate(x_test, y_test, False, verbose = 0)\n",
    "    print('Checkpoint {}, Accuracy: {}, Loss: {}'.format(century+breakpoint, score['accuracy'], score[model.loss_fn]))\n",
    "    score['checkpoint'] = century + breakpoint\n",
    "    checkpoints.append(score)\n",
    "    history.extend(sub_history)"
   ]
  },
  {
   "cell_type": "code",
   "execution_count": 9,
   "metadata": {},
   "outputs": [],
   "source": [
    "import matplotlib.pyplot as plt\n",
    "\n",
    "def draw_plot(x, y_list, x_label=None, y_label=None, legend=None, title=None):\n",
    "    fig, ax = plt.subplots(figsize=(12,5))\n",
    "    for xi, yi in zip(x, y_list):\n",
    "        ax.plot(xi, yi)\n",
    "    if x_label is not None and y_label is not None:\n",
    "        ax.set(xlabel=x_label, ylabel=y_label, title='{} VS {}'.format(x_label, y_label))\n",
    "    if legend is not None:\n",
    "        ax.legend(legend)\n",
    "    ax.grid()\n",
    "    plt.show()"
   ]
  },
  {
   "cell_type": "code",
   "execution_count": 10,
   "metadata": {},
   "outputs": [
    {
     "name": "stdout",
     "output_type": "stream",
     "text": [
      "[1. 0. 0.] <-> [0.93434995 0.03088775 0.0347622 ]\n",
      "[1. 0. 0.] <-> [0.8546103  0.0174987  0.12789097]\n",
      "[1. 0. 0.] <-> [0.9121814  0.04464758 0.04317101]\n",
      "[1. 0. 0.] <-> [0.914375   0.03244964 0.05317528]\n",
      "[1. 0. 0.] <-> [0.9204247  0.05408364 0.02549166]\n",
      "[0. 0. 1.] <-> [0.15166654 0.00224768 0.8460858 ]\n",
      "[1. 0. 0.] <-> [0.8592862  0.01567479 0.12503903]\n",
      "[1. 0. 0.] <-> [0.9243307  0.03552489 0.04014446]\n",
      "[1. 0. 0.] <-> [0.86906743 0.01533792 0.11559472]\n",
      "[1. 0. 0.] <-> [0.91862774 0.04254207 0.03883023]\n",
      "[1. 0. 0.] <-> [0.8903968  0.02630636 0.08329677]\n",
      "[1. 0. 0.] <-> [0.9027779  0.04271128 0.05451081]\n",
      "[1. 0. 0.] <-> [0.88629216 0.06916016 0.0445477 ]\n",
      "[1. 0. 0.] <-> [0.9341592  0.03378139 0.03205937]\n",
      "[1. 0. 0.] <-> [0.9166002  0.04248517 0.04091459]\n",
      "[0. 1. 0.] <-> [0.6973051  0.2793609  0.02333402]\n",
      "[0. 0. 1.] <-> [0.5810238  0.0108903  0.40808585]\n",
      "[0. 1. 0.] <-> [0.19378334 0.7957908  0.01042586]\n",
      "[1. 0. 0.] <-> [0.86724246 0.10589162 0.02686593]\n",
      "[0. 0. 1.] <-> [0.14528137 0.00211525 0.8526034 ]\n",
      "[0. 1. 0.] <-> [0.32013232 0.6597155  0.0201523 ]\n",
      "[1. 0. 0.] <-> [0.7837022  0.1931032  0.02319462]\n",
      "[1. 0. 0.] <-> [0.91197044 0.03672338 0.05130619]\n",
      "[1. 0. 0.] <-> [0.90894246 0.04791309 0.04314447]\n",
      "[1. 0. 0.] <-> [0.93303096 0.02435254 0.04261646]\n",
      "[0. 0. 1.] <-> [0.1407147  0.00207183 0.8572135 ]\n",
      "[1. 0. 0.] <-> [0.85181165 0.11906749 0.02912082]\n",
      "[0. 1. 0.] <-> [0.3466843  0.6378362  0.01547951]\n",
      "[0. 0. 1.] <-> [0.14451411 0.00207593 0.85341   ]\n",
      "[1. 0. 0.] <-> [0.90890086 0.0298547  0.06124441]\n",
      "[1. 0. 0.] <-> [0.8738693  0.04767403 0.0784567 ]\n",
      "[1. 0. 0.] <-> [0.89698845 0.02315669 0.07985485]\n",
      "[0. 0. 1.] <-> [0.14050543 0.00209929 0.8573953 ]\n",
      "[1. 0. 0.] <-> [0.9097816  0.05336784 0.03685067]\n",
      "[0. 0. 1.] <-> [0.21799114 0.00316159 0.7788473 ]\n",
      "[1. 0. 0.] <-> [0.883457   0.02260514 0.09393784]\n",
      "[0. 0. 1.] <-> [0.17904338 0.00258165 0.818375  ]\n",
      "[0. 1. 0.] <-> [0.14102533 0.8513145  0.00766015]\n",
      "[0. 1. 0.] <-> [0.47608957 0.504885   0.01902542]\n",
      "[0. 1. 0.] <-> [0.58195525 0.39695096 0.02109383]\n",
      "[1. 0. 0.] <-> [0.8870286  0.07520457 0.03776687]\n",
      "[1. 0. 0.] <-> [0.8429633  0.01323971 0.14379704]\n",
      "[0. 0. 1.] <-> [0.20046744 0.00288771 0.79664487]\n",
      "[1. 0. 0.] <-> [0.9027926  0.05656025 0.04064717]\n",
      "[1. 0. 0.] <-> [0.8805122  0.02471938 0.0947684 ]\n",
      "[1. 0. 0.] <-> [0.8794058  0.01977821 0.10081597]\n",
      "[1. 0. 0.] <-> [0.79344124 0.01306693 0.19349188]\n",
      "[1. 0. 0.] <-> [0.91428185 0.01558019 0.07013788]\n",
      "[1. 0. 0.] <-> [0.8824963  0.08088267 0.03662102]\n",
      "[0. 0. 1.] <-> [0.83132476 0.0152125  0.15346277]\n",
      "[1. 0. 0.] <-> [0.5378969  0.01198261 0.45012057]\n",
      "[1. 0. 0.] <-> [0.66826475 0.01194088 0.3197943 ]\n",
      "[0. 1. 0.] <-> [0.55121446 0.42342937 0.02535621]\n",
      "[0. 0. 1.] <-> [0.16739213 0.00247931 0.8301285 ]\n",
      "[1. 0. 0.] <-> [0.8423482  0.02298952 0.13466227]\n",
      "[0. 1. 0.] <-> [0.17674384 0.8142859  0.00897024]\n",
      "[1. 0. 0.] <-> [0.92296225 0.0252055  0.05183235]\n",
      "[0. 1. 0.] <-> [0.14075565 0.85171515 0.00752919]\n",
      "[1. 0. 0.] <-> [0.8914683  0.07987239 0.02865927]\n",
      "[1. 0. 0.] <-> [0.91408026 0.04641154 0.03950821]\n",
      "[0. 1. 0.] <-> [0.41005567 0.57329804 0.01664632]\n",
      "[0. 0. 1.] <-> [0.18296048 0.00298524 0.8140543 ]\n",
      "[1. 0. 0.] <-> [0.8711251  0.01706104 0.11181393]\n",
      "[1. 0. 0.] <-> [0.9349819  0.02653625 0.03848184]\n",
      "[0. 0. 1.] <-> [0.80328476 0.01531901 0.1813962 ]\n",
      "[1. 0. 0.] <-> [0.9407579  0.02091201 0.03833019]\n",
      "[0. 1. 0.] <-> [0.54117256 0.42935407 0.02947335]\n",
      "[1. 0. 0.] <-> [0.8858996  0.01530996 0.0987905 ]\n",
      "[1. 0. 0.] <-> [0.90338933 0.03353237 0.06307828]\n",
      "[1. 0. 0.] <-> [0.8558642  0.01561077 0.12852503]\n",
      "[1. 0. 0.] <-> [0.7991685  0.16970192 0.03112955]\n",
      "[1. 0. 0.] <-> [0.92198807 0.04858685 0.02942512]\n",
      "[0. 1. 0.] <-> [0.14898746 0.8431374  0.00787509]\n",
      "[1. 0. 0.] <-> [0.80811703 0.0184135  0.17346944]\n",
      "[1. 0. 0.] <-> [0.84969354 0.02432445 0.12598202]\n",
      "[0. 1. 0.] <-> [0.14282185 0.84945935 0.00771881]\n",
      "[1. 0. 0.] <-> [0.9276458  0.03355255 0.03880173]\n",
      "[0. 1. 0.] <-> [0.14096978 0.8514855  0.00754469]\n",
      "[1. 0. 0.] <-> [0.92018896 0.05034639 0.02946461]\n",
      "[1. 0. 0.] <-> [0.9054102  0.06595975 0.02863005]\n",
      "[1. 0. 0.] <-> [0.898916   0.05750301 0.043581  ]\n",
      "[1. 0. 0.] <-> [0.9080257  0.05431317 0.03766112]\n",
      "[1. 0. 0.] <-> [0.9033728  0.06506221 0.03156491]\n",
      "[1. 0. 0.] <-> [0.8536804  0.01356922 0.13275036]\n",
      "[1. 0. 0.] <-> [0.8621798  0.02311934 0.11470085]\n",
      "[1. 0. 0.] <-> [0.89033204 0.01924401 0.09042393]\n",
      "[1. 0. 0.] <-> [0.9226389  0.02140255 0.05595858]\n",
      "[1. 0. 0.] <-> [0.8464756  0.01550899 0.1380154 ]\n",
      "[1. 0. 0.] <-> [0.8978007  0.04778712 0.05441221]\n",
      "[1. 0. 0.] <-> [0.90436846 0.03074628 0.06488521]\n",
      "[1. 0. 0.] <-> [0.89834046 0.03824637 0.06341307]\n",
      "[0. 1. 0.] <-> [0.14044738 0.8520756  0.00747707]\n",
      "[1. 0. 0.] <-> [0.9334077  0.03742688 0.02916539]\n",
      "[0. 1. 0.] <-> [0.13998695 0.8525665  0.00744653]\n",
      "[1. 0. 0.] <-> [0.76556855 0.20503804 0.02939343]\n",
      "[1. 0. 0.] <-> [0.8771022  0.05585445 0.06704334]\n",
      "[1. 0. 0.] <-> [0.9274527  0.03476412 0.03778318]\n",
      "[1. 0. 0.] <-> [0.90834826 0.01513569 0.07651608]\n",
      "[1. 0. 0.] <-> [0.86721194 0.09828905 0.03449892]\n",
      "[1. 0. 0.] <-> [0.8627314  0.08814003 0.04912857]\n",
      "[1. 0. 0.] <-> [0.8667328  0.0159799  0.11728733]\n",
      "[1. 0. 0.] <-> [0.912906   0.05311737 0.03397663]\n",
      "[0. 0. 1.] <-> [0.14400972 0.00216749 0.85382277]\n",
      "[1. 0. 0.] <-> [0.89526606 0.05108479 0.05364922]\n",
      "[0. 0. 1.] <-> [0.14425798 0.00208307 0.853659  ]\n",
      "[1. 0. 0.] <-> [0.9389052  0.02268509 0.03840977]\n",
      "[1. 0. 0.] <-> [0.8768028  0.08515885 0.03803831]\n",
      "[1. 0. 0.] <-> [0.9168408 0.0341084 0.0490508]\n",
      "{'accuracy': 0.9567901234567902, 'mean_square_error': 0.10288951539765429, 'categorical_crossentropy': 0.22257912600481952, 'essential_metrics': {0: {'tp_hit': 76, 'fp_hit': 7, 'tn_hit': 25, 'fn_hit': 0}, 1: {'tp_hit': 13, 'fp_hit': 0, 'tn_hit': 91, 'fn_hit': 4}, 2: {'tp_hit': 12, 'fp_hit': 0, 'tn_hit': 93, 'fn_hit': 3}}}\n"
     ]
    }
   ],
   "source": [
    "# recall phase\n",
    "score = model.evaluate(x_test, y_test, False)\n",
    "print(score)"
   ]
  },
  {
   "cell_type": "code",
   "execution_count": 11,
   "metadata": {},
   "outputs": [
    {
     "data": {
      "image/png": "[encoded data removed]",
      "text/plain": [
       "<Figure size 864x360 with 1 Axes>"
      ]
     },
     "metadata": {
      "needs_background": "light"
     },
     "output_type": "display_data"
    },
    {
     "data": {
      "image/png": "[encoded data removed]",
      "text/plain": [
       "<Figure size 864x360 with 1 Axes>"
      ]
     },
     "metadata": {
      "needs_background": "light"
     },
     "output_type": "display_data"
    }
   ],
   "source": [
    "draw_plot(x = [[i for i in range(len(history))], [(i+1)*breakpoint for i in range(len(checkpoints))]], y_list = [history, [ ckp[model.loss_fn] for ckp in checkpoints ]], x_label = 'Epochs', \\\n",
    "    y_label = model.loss_fn, legend=['train', 'test'])\n",
    "acc = [ ckp['accuracy'] for ckp in checkpoints ]\n",
    "draw_plot(x = [[(i+1)*breakpoint for i in range(len(checkpoints))]], y_list = [acc], x_label = 'Checkpoints', \\\n",
    "    y_label = 'accuracy')"
   ]
  },
  {
   "cell_type": "code",
   "execution_count": 12,
   "metadata": {},
   "outputs": [
    {
     "name": "stdout",
     "output_type": "stream",
     "text": [
      "{'accuracy': 0.9506172839506173, 'mean_square_error': 0.15188734398162207, 'categorical_crossentropy': 0.30797636950457535, 'essential_metrics': {0: {'tp_hit': 76, 'fp_hit': 8, 'tn_hit': 24, 'fn_hit': 0}, 1: {'tp_hit': 12, 'fp_hit': 0, 'tn_hit': 91, 'fn_hit': 5}, 2: {'tp_hit': 12, 'fp_hit': 0, 'tn_hit': 93, 'fn_hit': 3}}, 'checkpoint': 100} \n",
      "\n",
      "\n",
      "{'accuracy': 0.9506172839506173, 'mean_square_error': 0.1090405158564229, 'categorical_crossentropy': 0.23492164965029116, 'essential_metrics': {0: {'tp_hit': 76, 'fp_hit': 8, 'tn_hit': 24, 'fn_hit': 0}, 1: {'tp_hit': 12, 'fp_hit': 0, 'tn_hit': 91, 'fn_hit': 5}, 2: {'tp_hit': 12, 'fp_hit': 0, 'tn_hit': 93, 'fn_hit': 3}}, 'checkpoint': 200} \n",
      "\n",
      "\n",
      "{'accuracy': 0.9506172839506173, 'mean_square_error': 0.10340223299814814, 'categorical_crossentropy': 0.2224461237589518, 'essential_metrics': {0: {'tp_hit': 76, 'fp_hit': 8, 'tn_hit': 24, 'fn_hit': 0}, 1: {'tp_hit': 12, 'fp_hit': 0, 'tn_hit': 91, 'fn_hit': 5}, 2: {'tp_hit': 12, 'fp_hit': 0, 'tn_hit': 93, 'fn_hit': 3}}, 'checkpoint': 300} \n",
      "\n",
      "\n",
      "{'accuracy': 0.9567901234567902, 'mean_square_error': 0.10520179771342388, 'categorical_crossentropy': 0.2255539894104004, 'essential_metrics': {0: {'tp_hit': 76, 'fp_hit': 7, 'tn_hit': 25, 'fn_hit': 0}, 1: {'tp_hit': 13, 'fp_hit': 0, 'tn_hit': 91, 'fn_hit': 4}, 2: {'tp_hit': 12, 'fp_hit': 0, 'tn_hit': 93, 'fn_hit': 3}}, 'checkpoint': 400} \n",
      "\n",
      "\n",
      "{'accuracy': 0.9567901234567902, 'mean_square_error': 0.10288951539765429, 'categorical_crossentropy': 0.22257912600481952, 'essential_metrics': {0: {'tp_hit': 76, 'fp_hit': 7, 'tn_hit': 25, 'fn_hit': 0}, 1: {'tp_hit': 13, 'fp_hit': 0, 'tn_hit': 91, 'fn_hit': 4}, 2: {'tp_hit': 12, 'fp_hit': 0, 'tn_hit': 93, 'fn_hit': 3}}, 'checkpoint': 500} \n",
      "\n",
      "\n"
     ]
    }
   ],
   "source": [
    "for checkpoint in checkpoints:\n",
    "    print(checkpoint, '\\n\\n')"
   ]
  },
  {
   "cell_type": "code",
   "execution_count": 13,
   "metadata": {},
   "outputs": [
    {
     "name": "stdout",
     "output_type": "stream",
     "text": [
      "Layer 1\n",
      "Neuron 0: weights:\n",
      "[-0.5827895   1.0818398   0.07633211 -0.56991327 -0.7430065 ]\n",
      " bias: 1.0769175291061401\n",
      "\n",
      "Neuron 1: weights:\n",
      "[ 0.5517032  -1.2074172  -0.11082254  0.6701983   0.93109083]\n",
      " bias: -1.2019202709197998\n",
      "\n",
      "Neuron 2: weights:\n",
      "[ 0.6946994  -1.431458   -1.0327135  -0.18588898  0.3248594 ]\n",
      " bias: 1.073455572128296\n",
      "\n",
      "Neuron 3: weights:\n",
      "[ 0.56917804 -1.4511672  -0.95877457 -0.02296812  0.13325453]\n",
      " bias: 0.8256456851959229\n",
      "\n",
      "$\n",
      "Layer 2\n",
      "Neuron 0: weights:\n",
      "[ 0.76759136 -1.5883377   1.5371335   1.1344935 ]\n",
      " bias: -0.2972222566604614\n",
      "\n",
      "Neuron 1: weights:\n",
      "[ 1.5858486  -0.49665108 -1.9326237  -1.7412726 ]\n",
      " bias: 0.6927496194839478\n",
      "\n",
      "Neuron 2: weights:\n",
      "[-2.2059906   2.0634456   0.31841478  0.46289372]\n",
      " bias: -0.2599169909954071\n",
      "\n",
      "$\n",
      "\n"
     ]
    }
   ],
   "source": [
    "print(model)"
   ]
  }
 ],
 "metadata": {
  "kernelspec": {
   "display_name": "Python 3",
   "language": "python",
   "name": "python3"
  },
  "language_info": {
   "codemirror_mode": {
    "name": "ipython",
    "version": 3
   },
   "file_extension": ".py",
   "mimetype": "text/x-python",
   "name": "python",
   "nbconvert_exporter": "python",
   "pygments_lexer": "ipython3",
   "version": "3.6.10"
  }
 },
 "nbformat": 4,
 "nbformat_minor": 2
}
