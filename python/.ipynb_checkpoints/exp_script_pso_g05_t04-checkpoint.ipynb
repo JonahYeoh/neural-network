{
 "cells": [
  {
   "cell_type": "code",
   "execution_count": 1,
   "metadata": {},
   "outputs": [],
   "source": [
    "# dependency\n",
    "import numpy as np\n",
    "import pandas as pd\n",
    "import copy\n",
    "import math\n",
    "import sys\n",
    "import os\n",
    "from activations import relu, leaky_relu, sigmoid, tanh, softmax, d_sigmoid, d_relu\n",
    "from initializers import glorot_uniform, random_normal, random_uniform\n",
    "from regularizers import l1_regularizer, l2_regularizer\n",
    "from utility import trim_tail, multiply, subtract, get_nparams, one_hot_encoding, get_data\n",
    "from metrics import MSE, CCE, ACC, PRECISION, RECALL, essential_metrics, wondering_penalty, close_gap_penalty\n",
    "from pso import PSO\n",
    "from ga import GA\n",
    "from nn import Network\n",
    "from layer import DenseLayer\n",
    "from scalers import MinMaxScaler, StandardScaler"
   ]
  },
  {
   "cell_type": "code",
   "execution_count": 2,
   "metadata": {},
   "outputs": [],
   "source": [
    "# reference\n",
    "metrics_fn_dict = dict()\n",
    "metrics_fn_dict['accuracy'] = ACC\n",
    "metrics_fn_dict['categorical_crossentropy'] = CCE\n",
    "metrics_fn_dict['mean_square_error'] = MSE\n",
    "metrics_fn_dict['precision'] = PRECISION\n",
    "metrics_fn_dict['recall'] = RECALL\n",
    "metrics_fn_dict['essential_metrics'] = essential_metrics"
   ]
  },
  {
   "cell_type": "code",
   "execution_count": 3,
   "metadata": {},
   "outputs": [],
   "source": [
    "# model\n",
    "model = Network(5, lr = None)\n",
    "model.add_layer(DenseLayer(1, 4, True, afn=sigmoid, dafn=None, rfn=None))\n",
    "model.add_layer(DenseLayer(2, 3, True, afn=softmax, dafn=None, rfn=None))"
   ]
  },
  {
   "cell_type": "code",
   "execution_count": 4,
   "metadata": {},
   "outputs": [
    {
     "name": "stdout",
     "output_type": "stream",
     "text": [
      "see one see two 2 2\n"
     ]
    }
   ],
   "source": [
    "pso = PSO(dict(m = 50,\n",
    "    weight_constraint = [-3, 3], \n",
    "    velocity_constraint = [-0.1, 0.1],\n",
    "    c1 = 2,\n",
    "    c2 = 2,\n",
    "    w = 1,\n",
    "    w_decay = 1,\n",
    "    scale_hyperparameter = False,\n",
    "    regularizer = l2_regularizer,\n",
    "    mask = True))"
   ]
  },
  {
   "cell_type": "code",
   "execution_count": 5,
   "metadata": {},
   "outputs": [
    {
     "name": "stdout",
     "output_type": "stream",
     "text": [
      "building layer 1 with 5\n",
      "24\n",
      "building layer 2 with 4\n",
      "15\n"
     ]
    }
   ],
   "source": [
    "model.compile(loss_fn = 'categorical_crossentropy', optimizer = pso, \\\n",
    "    metrics = ['accuracy', 'mean_square_error', 'categorical_crossentropy'])"
   ]
  },
  {
   "cell_type": "code",
   "execution_count": 6,
   "metadata": {},
   "outputs": [
    {
     "name": "stdout",
     "output_type": "stream",
     "text": [
      "<class 'pandas.core.frame.DataFrame'>\n",
      "RangeIndex: 107 entries, 0 to 106\n",
      "Data columns (total 6 columns):\n",
      " #   Column  Non-Null Count  Dtype  \n",
      "---  ------  --------------  -----  \n",
      " 0   f1      107 non-null    float32\n",
      " 1   f2      107 non-null    float32\n",
      " 2   f3      107 non-null    float32\n",
      " 3   f4      107 non-null    float32\n",
      " 4   f5      107 non-null    float32\n",
      " 5   label   107 non-null    float32\n",
      "dtypes: float32(6)\n",
      "memory usage: 2.6 KB\n",
      "None\n",
      "<class 'pandas.core.frame.DataFrame'>\n",
      "RangeIndex: 108 entries, 0 to 107\n",
      "Data columns (total 6 columns):\n",
      " #   Column  Non-Null Count  Dtype  \n",
      "---  ------  --------------  -----  \n",
      " 0   f1      108 non-null    float32\n",
      " 1   f2      108 non-null    float32\n",
      " 2   f3      108 non-null    float32\n",
      " 3   f4      108 non-null    float32\n",
      " 4   f5      108 non-null    float32\n",
      " 5   label   108 non-null    float32\n",
      "dtypes: float32(6)\n",
      "memory usage: 2.7 KB\n",
      "None\n"
     ]
    }
   ],
   "source": [
    "# data loading\n",
    "DATA = os.path.join('c:\\\\Users\\\\tcumi\\\\github_repo\\\\neural-network\\\\', 'dataset')\n",
    "GROUP = 5\n",
    "COLUMNS = ['f1', 'f2', 'f3', 'f4', 'f5', 'label']\n",
    "N_CLASS = 3\n",
    "EPOCHS = 500\n",
    "train_dir, test_dir = \"..//dataset//training_data{}.txt\".format(GROUP), \"..//dataset//testing_data{}.txt\".format(GROUP)\n",
    "train, test = get_data(DATA, train_dir, COLUMNS), get_data(DATA, test_dir, COLUMNS)\n",
    "# shuffle\n",
    "train, test = train.sample(frac=1), test.sample(frac=1)\n",
    "x_train, y_train = train.drop('label', axis=1), train['label']\n",
    "x_test, y_test = test.drop('label', axis=1), test['label']"
   ]
  },
  {
   "cell_type": "code",
   "execution_count": 7,
   "metadata": {},
   "outputs": [],
   "source": [
    "# data scaling and encoding\n",
    "scaler = StandardScaler(['f1', 'f2', 'f3', 'f4', 'f5'])\n",
    "scaler.fit(x_train)\n",
    "x_train = scaler.transform(x_train)\n",
    "x_test = scaler.transform(x_test)\n",
    "y_train = one_hot_encoding(y_train, N_CLASS)\n",
    "y_test = one_hot_encoding(y_test, N_CLASS)"
   ]
  },
  {
   "cell_type": "code",
   "execution_count": 8,
   "metadata": {
    "tags": [
     "outputPrepend"
    ]
   },
   "outputs": [
    {
     "name": "stdout",
     "output_type": "stream",
     "text": [
      "Checkpoint 100, Accuracy: 0.9259259259259259, Loss: 0.3909862306382921\n",
      "Checkpoint 200, Accuracy: 0.9259259259259259, Loss: 0.3793248777036314\n",
      "Checkpoint 300, Accuracy: 0.9197530864197531, Loss: 0.3727602782072844\n",
      "Checkpoint 400, Accuracy: 0.9259259259259259, Loss: 0.37333417821813514\n",
      "Checkpoint 500, Accuracy: 0.9197530864197531, Loss: 0.3747020650793005\n"
     ]
    }
   ],
   "source": [
    "# learning phase\n",
    "breakpoint = 100\n",
    "checkpoints = list()\n",
    "history = list()\n",
    "for century in range(0, EPOCHS, breakpoint):\n",
    "    sub_history = model.fit(x_train, y_train, breakpoint, verbose = 0)\n",
    "    score = model.evaluate(x_test, y_test, False, verbose = 0)\n",
    "    print('Checkpoint {}, Accuracy: {}, Loss: {}'.format(century+breakpoint, score['accuracy'], score[model.loss_fn]))\n",
    "    score['checkpoint'] = century + breakpoint\n",
    "    checkpoints.append(score)\n",
    "    history.extend(sub_history)"
   ]
  },
  {
   "cell_type": "code",
   "execution_count": 9,
   "metadata": {},
   "outputs": [],
   "source": [
    "import matplotlib.pyplot as plt\n",
    "\n",
    "def draw_plot(x, y_list, x_label=None, y_label=None, legend=None, title=None):\n",
    "    fig, ax = plt.subplots(figsize=(12,5))\n",
    "    for xi, yi in zip(x, y_list):\n",
    "        ax.plot(xi, yi)\n",
    "    if x_label is not None and y_label is not None:\n",
    "        ax.set(xlabel=x_label, ylabel=y_label, title='{} VS {}'.format(x_label, y_label))\n",
    "    if legend is not None:\n",
    "        ax.legend(legend)\n",
    "    ax.grid()\n",
    "    plt.show()"
   ]
  },
  {
   "cell_type": "code",
   "execution_count": 10,
   "metadata": {},
   "outputs": [
    {
     "name": "stdout",
     "output_type": "stream",
     "text": [
      "[0. 1. 0.] <-> [0.33120537 0.6543382  0.01445639]\n",
      "[0. 0. 1.] <-> [0.30389068 0.03517346 0.6609358 ]\n",
      "[1. 0. 0.] <-> [0.78940594 0.12587026 0.08472379]\n",
      "[1. 0. 0.] <-> [0.7811142  0.16681413 0.05207171]\n",
      "[1. 0. 0.] <-> [0.8099903  0.10754248 0.08246724]\n",
      "[1. 0. 0.] <-> [0.77744085 0.07584056 0.14671855]\n",
      "[1. 0. 0.] <-> [0.7573913  0.07767964 0.16492917]\n",
      "[0. 1. 0.] <-> [0.64528835 0.32023725 0.03447442]\n",
      "[1. 0. 0.] <-> [0.8619222  0.05583588 0.08224192]\n",
      "[0. 0. 1.] <-> [0.3095337  0.03264037 0.65782595]\n",
      "[1. 0. 0.] <-> [0.7584148  0.13110438 0.11048081]\n",
      "[1. 0. 0.] <-> [0.8151963  0.08451534 0.10028826]\n",
      "[1. 0. 0.] <-> [0.80981964 0.11510236 0.07507797]\n",
      "[1. 0. 0.] <-> [0.86568964 0.05076252 0.08354784]\n",
      "[1. 0. 0.] <-> [0.829465   0.10183999 0.06869507]\n",
      "[1. 0. 0.] <-> [0.7237078  0.1891036  0.08718859]\n",
      "[1. 0. 0.] <-> [0.83249    0.11024221 0.05726779]\n",
      "[1. 0. 0.] <-> [0.70768213 0.16037709 0.13194077]\n",
      "[1. 0. 0.] <-> [0.7561115  0.05987641 0.18401214]\n",
      "[1. 0. 0.] <-> [0.83689517 0.08372905 0.07937574]\n",
      "[1. 0. 0.] <-> [0.70659703 0.24553435 0.04786866]\n",
      "[1. 0. 0.] <-> [0.79198074 0.08802077 0.11999843]\n",
      "[1. 0. 0.] <-> [0.79753286 0.13870244 0.06376467]\n",
      "[1. 0. 0.] <-> [0.78322387 0.13090833 0.08586784]\n",
      "[0. 0. 1.] <-> [0.36192775 0.03163299 0.60643923]\n",
      "[1. 0. 0.] <-> [0.77605575 0.10839672 0.11554748]\n",
      "[0. 0. 1.] <-> [0.38753662 0.04014974 0.5723136 ]\n",
      "[0. 0. 1.] <-> [0.27494836 0.03472653 0.69032514]\n",
      "[1. 0. 0.] <-> [0.8760177  0.04938469 0.07459763]\n",
      "[0. 1. 0.] <-> [0.7551541  0.21304384 0.03180205]\n",
      "[1. 0. 0.] <-> [0.8196605  0.09211235 0.08822715]\n",
      "[1. 0. 0.] <-> [0.79753524 0.11592123 0.08654348]\n",
      "[1. 0. 0.] <-> [0.8374685  0.04847682 0.11405465]\n",
      "[1. 0. 0.] <-> [0.7799615  0.05529034 0.16474819]\n",
      "[0. 1. 0.] <-> [0.41688138 0.5634447  0.01967391]\n",
      "[1. 0. 0.] <-> [0.80407166 0.06919576 0.1267326 ]\n",
      "[1. 0. 0.] <-> [0.86617637 0.03557085 0.09825274]\n",
      "[0. 1. 0.] <-> [0.4816724  0.4597323  0.05859532]\n",
      "[0. 0. 1.] <-> [0.5791441  0.01938154 0.4014743 ]\n",
      "[0. 0. 1.] <-> [0.81782573 0.03831987 0.1438544 ]\n",
      "[1. 0. 0.] <-> [0.7613004  0.17206647 0.06663318]\n",
      "[1. 0. 0.] <-> [0.81429064 0.07918345 0.10652596]\n",
      "[0. 1. 0.] <-> [0.25076362 0.7352277  0.01400862]\n",
      "[0. 1. 0.] <-> [0.22218019 0.7644448  0.01337499]\n",
      "[1. 0. 0.] <-> [0.8540992  0.08242105 0.06347977]\n",
      "[0. 1. 0.] <-> [0.38529027 0.57476044 0.03994928]\n",
      "[0. 0. 1.] <-> [0.42988887 0.02861244 0.54149866]\n",
      "[1. 0. 0.] <-> [0.76357454 0.166118   0.0703074 ]\n",
      "[1. 0. 0.] <-> [0.8433144  0.08005079 0.07663479]\n",
      "[0. 0. 1.] <-> [0.8313368  0.03659904 0.13206413]\n",
      "[1. 0. 0.] <-> [0.8297267  0.10566793 0.06460541]\n",
      "[1. 0. 0.] <-> [0.75814486 0.07848266 0.1633725 ]\n",
      "[1. 0. 0.] <-> [0.7581685  0.19270216 0.04912927]\n",
      "[1. 0. 0.] <-> [0.83724827 0.06525508 0.09749661]\n",
      "[1. 0. 0.] <-> [0.8441433  0.02955706 0.12629962]\n",
      "[1. 0. 0.] <-> [0.8570335  0.03559163 0.10737488]\n",
      "[0. 0. 1.] <-> [0.58059454 0.02099201 0.3984134 ]\n",
      "[1. 0. 0.] <-> [0.8111501  0.09541859 0.0934314 ]\n",
      "[1. 0. 0.] <-> [0.8260448  0.10774313 0.06621205]\n",
      "[1. 0. 0.] <-> [0.8657968  0.06109735 0.07310596]\n",
      "[0. 1. 0.] <-> [0.21340892 0.77301055 0.01358053]\n",
      "[0. 1. 0.] <-> [0.21275185 0.77448106 0.01276707]\n",
      "[0. 1. 0.] <-> [0.612882   0.36149552 0.02562245]\n",
      "[1. 0. 0.] <-> [0.8193976  0.04123189 0.13937044]\n",
      "[1. 0. 0.] <-> [0.8272219  0.09470382 0.07807429]\n",
      "[1. 0. 0.] <-> [0.83000094 0.04156178 0.12843733]\n",
      "[1. 0. 0.] <-> [0.8227842  0.03399041 0.14322542]\n",
      "[1. 0. 0.] <-> [0.8636085  0.0586553  0.07773617]\n",
      "[1. 0. 0.] <-> [0.6388402  0.05846646 0.3026933 ]\n",
      "[1. 0. 0.] <-> [0.8376469 0.0911119 0.0712413]\n",
      "[1. 0. 0.] <-> [0.8142979  0.08729733 0.09840474]\n",
      "[1. 0. 0.] <-> [0.8069947  0.04425741 0.14874794]\n",
      "[0. 0. 1.] <-> [0.32035494 0.03256091 0.6470841 ]\n",
      "[1. 0. 0.] <-> [0.7881432  0.1406608  0.07119598]\n",
      "[1. 0. 0.] <-> [0.7917993  0.1148923  0.09330837]\n",
      "[1. 0. 0.] <-> [0.7792487  0.06804793 0.15270327]\n",
      "[1. 0. 0.] <-> [0.70954746 0.23889992 0.05155265]\n",
      "[1. 0. 0.] <-> [0.8463394  0.10147115 0.0521895 ]\n",
      "[1. 0. 0.] <-> [0.7127859  0.1902064  0.09700772]\n",
      "[0. 1. 0.] <-> [0.6264715  0.33430603 0.03922253]\n",
      "[1. 0. 0.] <-> [0.84169877 0.03750519 0.12079606]\n",
      "[1. 0. 0.] <-> [0.8396227  0.03779348 0.12258386]\n",
      "[0. 1. 0.] <-> [0.5850301  0.38262078 0.03234915]\n",
      "[1. 0. 0.] <-> [0.75501853 0.06264061 0.18234088]\n",
      "[0. 1. 0.] <-> [0.6101372  0.36662653 0.02323624]\n",
      "[0. 0. 1.] <-> [0.51967955 0.0220552  0.45826524]\n",
      "[0. 0. 1.] <-> [0.7537104  0.03447999 0.21180956]\n",
      "[0. 0. 1.] <-> [0.30593807 0.03282191 0.6612401 ]\n",
      "[1. 0. 0.] <-> [0.8329324  0.0568931  0.11017453]\n",
      "[1. 0. 0.] <-> [0.80684155 0.05803196 0.13512653]\n",
      "[1. 0. 0.] <-> [0.7862334  0.03617496 0.17759164]\n",
      "[0. 0. 1.] <-> [0.27739742 0.03518673 0.68741584]\n",
      "[1. 0. 0.] <-> [0.7921172  0.10145561 0.10642722]\n",
      "[1. 0. 0.] <-> [0.70899487 0.04502599 0.24597915]\n",
      "[1. 0. 0.] <-> [0.78879005 0.15810387 0.05310601]\n",
      "[1. 0. 0.] <-> [0.8598701  0.07023917 0.06989074]\n",
      "[1. 0. 0.] <-> [0.749015   0.15839995 0.09258505]\n",
      "[0. 1. 0.] <-> [0.4064492  0.57680637 0.01674448]\n",
      "[1. 0. 0.] <-> [0.79428506 0.11436144 0.09135351]\n",
      "[1. 0. 0.] <-> [0.8385715  0.07553066 0.08589786]\n",
      "[0. 1. 0.] <-> [0.2186833  0.76802945 0.01328724]\n",
      "[0. 1. 0.] <-> [0.2290144  0.7579411  0.01304444]\n",
      "[1. 0. 0.] <-> [0.7509619  0.12488823 0.12414984]\n",
      "[1. 0. 0.] <-> [0.79096556 0.12700877 0.08202566]\n",
      "[1. 0. 0.] <-> [0.8677615  0.07105012 0.06118839]\n",
      "[1. 0. 0.] <-> [0.8109978  0.04189478 0.14710747]\n",
      "[1. 0. 0.] <-> [0.82202977 0.1213645  0.05660582]\n",
      "[1. 0. 0.] <-> [0.7986085  0.07558636 0.12580524]\n",
      "{'accuracy': 0.9197530864197531, 'mean_square_error': 0.1930360508516751, 'categorical_crossentropy': 0.3747020650793005, 'essential_metrics': {0: {'tp_hit': 76, 'fp_hit': 13, 'tn_hit': 19, 'fn_hit': 0}, 1: {'tp_hit': 10, 'fp_hit': 0, 'tn_hit': 91, 'fn_hit': 7}, 2: {'tp_hit': 9, 'fp_hit': 0, 'tn_hit': 93, 'fn_hit': 6}}}\n"
     ]
    }
   ],
   "source": [
    "# recall phase\n",
    "score = model.evaluate(x_test, y_test, False)\n",
    "print(score)"
   ]
  },
  {
   "cell_type": "code",
   "execution_count": 11,
   "metadata": {},
   "outputs": [
    {
     "data": {
      "image/png": "[encoded data removed]",
      "text/plain": [
       "<Figure size 864x360 with 1 Axes>"
      ]
     },
     "metadata": {
      "needs_background": "light"
     },
     "output_type": "display_data"
    },
    {
     "data": {
      "image/png": "[encoded data removed]",
      "text/plain": [
       "<Figure size 864x360 with 1 Axes>"
      ]
     },
     "metadata": {
      "needs_background": "light"
     },
     "output_type": "display_data"
    }
   ],
   "source": [
    "draw_plot(x = [[i for i in range(len(history))], [(i+1)*breakpoint for i in range(len(checkpoints))]], y_list = [history, [ ckp[model.loss_fn] for ckp in checkpoints ]], x_label = 'Epochs', \\\n",
    "    y_label = model.loss_fn, legend=['train', 'test'])\n",
    "acc = [ ckp['accuracy'] for ckp in checkpoints ]\n",
    "draw_plot(x = [[(i+1)*breakpoint for i in range(len(checkpoints))]], y_list = [acc], x_label = 'Checkpoints', \\\n",
    "    y_label = 'accuracy')"
   ]
  },
  {
   "cell_type": "code",
   "execution_count": 12,
   "metadata": {},
   "outputs": [
    {
     "name": "stdout",
     "output_type": "stream",
     "text": [
      "{'accuracy': 0.9259259259259259, 'mean_square_error': 0.1998716104314658, 'categorical_crossentropy': 0.3909862306382921, 'essential_metrics': {0: {'tp_hit': 76, 'fp_hit': 12, 'tn_hit': 20, 'fn_hit': 0}, 1: {'tp_hit': 9, 'fp_hit': 0, 'tn_hit': 91, 'fn_hit': 8}, 2: {'tp_hit': 11, 'fp_hit': 0, 'tn_hit': 93, 'fn_hit': 4}}, 'checkpoint': 100} \n",
      "\n",
      "\n",
      "{'accuracy': 0.9259259259259259, 'mean_square_error': 0.19911683035369684, 'categorical_crossentropy': 0.3793248777036314, 'essential_metrics': {0: {'tp_hit': 76, 'fp_hit': 12, 'tn_hit': 20, 'fn_hit': 0}, 1: {'tp_hit': 10, 'fp_hit': 0, 'tn_hit': 91, 'fn_hit': 7}, 2: {'tp_hit': 10, 'fp_hit': 0, 'tn_hit': 93, 'fn_hit': 5}}, 'checkpoint': 200} \n",
      "\n",
      "\n",
      "{'accuracy': 0.9197530864197531, 'mean_square_error': 0.19320627580990285, 'categorical_crossentropy': 0.3727602782072844, 'essential_metrics': {0: {'tp_hit': 76, 'fp_hit': 13, 'tn_hit': 19, 'fn_hit': 0}, 1: {'tp_hit': 10, 'fp_hit': 0, 'tn_hit': 91, 'fn_hit': 7}, 2: {'tp_hit': 9, 'fp_hit': 0, 'tn_hit': 93, 'fn_hit': 6}}, 'checkpoint': 300} \n",
      "\n",
      "\n",
      "{'accuracy': 0.9259259259259259, 'mean_square_error': 0.19259834689418215, 'categorical_crossentropy': 0.37333417821813514, 'essential_metrics': {0: {'tp_hit': 76, 'fp_hit': 12, 'tn_hit': 20, 'fn_hit': 0}, 1: {'tp_hit': 10, 'fp_hit': 0, 'tn_hit': 91, 'fn_hit': 7}, 2: {'tp_hit': 10, 'fp_hit': 0, 'tn_hit': 93, 'fn_hit': 5}}, 'checkpoint': 400} \n",
      "\n",
      "\n",
      "{'accuracy': 0.9197530864197531, 'mean_square_error': 0.1930360508516751, 'categorical_crossentropy': 0.3747020650793005, 'essential_metrics': {0: {'tp_hit': 76, 'fp_hit': 13, 'tn_hit': 19, 'fn_hit': 0}, 1: {'tp_hit': 10, 'fp_hit': 0, 'tn_hit': 91, 'fn_hit': 7}, 2: {'tp_hit': 9, 'fp_hit': 0, 'tn_hit': 93, 'fn_hit': 6}}, 'checkpoint': 500} \n",
      "\n",
      "\n"
     ]
    }
   ],
   "source": [
    "for checkpoint in checkpoints:\n",
    "    print(checkpoint, '\\n\\n')"
   ]
  },
  {
   "cell_type": "code",
   "execution_count": 13,
   "metadata": {},
   "outputs": [
    {
     "name": "stdout",
     "output_type": "stream",
     "text": [
      "Layer 1\n",
      "Neuron 0: weights:\n",
      "[-0.515908    0.68808067  0.21773595 -0.6028792  -0.5517585 ]\n",
      " bias: 0.601645290851593\n",
      "\n",
      "Neuron 1: weights:\n",
      "[ 0.44503662 -1.1140667  -0.6099746  -0.07752223  0.23167545]\n",
      " bias: 0.39371439814567566\n",
      "\n",
      "Neuron 2: weights:\n",
      "[-0.41995123  0.7818461   0.44548228 -0.2675992  -0.5421033 ]\n",
      " bias: -0.0995098277926445\n",
      "\n",
      "Neuron 3: weights:\n",
      "[-0.14097711 -0.63083386 -0.79444826 -0.9089484  -0.6448914 ]\n",
      " bias: 0.17244282364845276\n",
      "\n",
      "$\n",
      "Layer 2\n",
      "Neuron 0: weights:\n",
      "[0.7596563  0.61418563 0.02750615 1.1628525 ]\n",
      " bias: -0.3672247529029846\n",
      "\n",
      "Neuron 1: weights:\n",
      "[ 0.71214676 -1.8793414   1.118388   -0.9466217 ]\n",
      " bias: 0.018635336309671402\n",
      "\n",
      "Neuron 2: weights:\n",
      "[-1.5053406   1.0621268  -0.93833745 -0.43458906]\n",
      " bias: 0.13351982831954956\n",
      "\n",
      "$\n",
      "\n"
     ]
    }
   ],
   "source": [
    "print(model)"
   ]
  }
 ],
 "metadata": {
  "kernelspec": {
   "display_name": "Python 3",
   "language": "python",
   "name": "python3"
  },
  "language_info": {
   "codemirror_mode": {
    "name": "ipython",
    "version": 3
   },
   "file_extension": ".py",
   "mimetype": "text/x-python",
   "name": "python",
   "nbconvert_exporter": "python",
   "pygments_lexer": "ipython3",
   "version": "3.6.10"
  }
 },
 "nbformat": 4,
 "nbformat_minor": 2
}
