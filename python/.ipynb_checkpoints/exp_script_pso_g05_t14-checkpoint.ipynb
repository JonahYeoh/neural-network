{
 "cells": [
  {
   "cell_type": "code",
   "execution_count": 1,
   "metadata": {},
   "outputs": [],
   "source": [
    "# dependency\n",
    "import numpy as np\n",
    "import pandas as pd\n",
    "import copy\n",
    "import math\n",
    "import sys\n",
    "import os\n",
    "from activations import relu, leaky_relu, sigmoid, tanh, softmax, d_sigmoid, d_relu\n",
    "from initializers import glorot_uniform, random_normal, random_uniform\n",
    "from regularizers import l1_regularizer, l2_regularizer\n",
    "from utility import trim_tail, multiply, subtract, get_nparams, one_hot_encoding, get_data\n",
    "from metrics import MSE, CCE, ACC, PRECISION, RECALL, essential_metrics, wondering_penalty, close_gap_penalty\n",
    "from pso import PSO\n",
    "from ga import GA\n",
    "from nn import Network\n",
    "from layer import DenseLayer\n",
    "from scalers import MinMaxScaler, StandardScaler"
   ]
  },
  {
   "cell_type": "code",
   "execution_count": 2,
   "metadata": {},
   "outputs": [],
   "source": [
    "# reference\n",
    "metrics_fn_dict = dict()\n",
    "metrics_fn_dict['accuracy'] = ACC\n",
    "metrics_fn_dict['categorical_crossentropy'] = CCE\n",
    "metrics_fn_dict['mean_square_error'] = MSE\n",
    "metrics_fn_dict['precision'] = PRECISION\n",
    "metrics_fn_dict['recall'] = RECALL\n",
    "metrics_fn_dict['essential_metrics'] = essential_metrics"
   ]
  },
  {
   "cell_type": "code",
   "execution_count": 3,
   "metadata": {},
   "outputs": [],
   "source": [
    "# model\n",
    "model = Network(5, lr = None)\n",
    "model.add_layer(DenseLayer(1, 4, True, afn=sigmoid, dafn=None, rfn=None))\n",
    "model.add_layer(DenseLayer(2, 3, True, afn=softmax, dafn=None, rfn=None))"
   ]
  },
  {
   "cell_type": "code",
   "execution_count": 4,
   "metadata": {},
   "outputs": [
    {
     "name": "stdout",
     "output_type": "stream",
     "text": [
      "see one see two 2 2\n"
     ]
    }
   ],
   "source": [
    "pso = PSO(dict(m = 50,\n",
    "    weight_constraint = [-3, 3], \n",
    "    velocity_constraint = [-0.1, 0.1],\n",
    "    c1 = 2,\n",
    "    c2 = 2,\n",
    "    w = 0.8,\n",
    "    w_decay = 1,\n",
    "    scale_hyperparameter = False,\n",
    "    regularizer = None,\n",
    "    mask = True))"
   ]
  },
  {
   "cell_type": "code",
   "execution_count": 5,
   "metadata": {},
   "outputs": [
    {
     "name": "stdout",
     "output_type": "stream",
     "text": [
      "building layer 1 with 5\n",
      "24\n",
      "building layer 2 with 4\n",
      "15\n"
     ]
    }
   ],
   "source": [
    "model.compile(loss_fn = 'categorical_crossentropy', optimizer = pso, \\\n",
    "    metrics = ['accuracy', 'mean_square_error', 'categorical_crossentropy'])"
   ]
  },
  {
   "cell_type": "code",
   "execution_count": 6,
   "metadata": {},
   "outputs": [
    {
     "name": "stdout",
     "output_type": "stream",
     "text": [
      "<class 'pandas.core.frame.DataFrame'>\n",
      "RangeIndex: 107 entries, 0 to 106\n",
      "Data columns (total 6 columns):\n",
      " #   Column  Non-Null Count  Dtype  \n",
      "---  ------  --------------  -----  \n",
      " 0   f1      107 non-null    float32\n",
      " 1   f2      107 non-null    float32\n",
      " 2   f3      107 non-null    float32\n",
      " 3   f4      107 non-null    float32\n",
      " 4   f5      107 non-null    float32\n",
      " 5   label   107 non-null    float32\n",
      "dtypes: float32(6)\n",
      "memory usage: 2.6 KB\n",
      "None\n",
      "<class 'pandas.core.frame.DataFrame'>\n",
      "RangeIndex: 108 entries, 0 to 107\n",
      "Data columns (total 6 columns):\n",
      " #   Column  Non-Null Count  Dtype  \n",
      "---  ------  --------------  -----  \n",
      " 0   f1      108 non-null    float32\n",
      " 1   f2      108 non-null    float32\n",
      " 2   f3      108 non-null    float32\n",
      " 3   f4      108 non-null    float32\n",
      " 4   f5      108 non-null    float32\n",
      " 5   label   108 non-null    float32\n",
      "dtypes: float32(6)\n",
      "memory usage: 2.7 KB\n",
      "None\n"
     ]
    }
   ],
   "source": [
    "# data loading\n",
    "DATA = os.path.join('c:\\\\Users\\\\tcumi\\\\github_repo\\\\neural-network\\\\', 'dataset')\n",
    "GROUP = 5\n",
    "COLUMNS = ['f1', 'f2', 'f3', 'f4', 'f5', 'label']\n",
    "N_CLASS = 3\n",
    "EPOCHS = 500\n",
    "train_dir, test_dir = \"..//dataset//training_data{}.txt\".format(GROUP), \"..//dataset//testing_data{}.txt\".format(GROUP)\n",
    "train, test = get_data(DATA, train_dir, COLUMNS), get_data(DATA, test_dir, COLUMNS)\n",
    "# shuffle\n",
    "train, test = train.sample(frac=1), test.sample(frac=1)\n",
    "x_train, y_train = train.drop('label', axis=1), train['label']\n",
    "x_test, y_test = test.drop('label', axis=1), test['label']"
   ]
  },
  {
   "cell_type": "code",
   "execution_count": 7,
   "metadata": {},
   "outputs": [],
   "source": [
    "# data scaling and encoding\n",
    "scaler = StandardScaler(['f1', 'f2', 'f3', 'f4', 'f5'])\n",
    "scaler.fit(x_train)\n",
    "x_train = scaler.transform(x_train)\n",
    "x_test = scaler.transform(x_test)\n",
    "y_train = one_hot_encoding(y_train, N_CLASS)\n",
    "y_test = one_hot_encoding(y_test, N_CLASS)"
   ]
  },
  {
   "cell_type": "code",
   "execution_count": 8,
   "metadata": {
    "tags": [
     "outputPrepend"
    ]
   },
   "outputs": [
    {
     "name": "stdout",
     "output_type": "stream",
     "text": [
      "Checkpoint 100, Accuracy: 0.9506172839506173, Loss: 0.19992623505768953\n",
      "Checkpoint 200, Accuracy: 0.9629629629629629, Loss: 0.10539616478814019\n",
      "Checkpoint 300, Accuracy: 0.9691358024691358, Loss: 0.11234327598854348\n",
      "Checkpoint 400, Accuracy: 0.9691358024691358, Loss: 0.11908048170584219\n",
      "Checkpoint 500, Accuracy: 0.9691358024691358, Loss: 0.1165453592936198\n"
     ]
    }
   ],
   "source": [
    "# learning phase\n",
    "breakpoint = 100\n",
    "checkpoints = list()\n",
    "history = list()\n",
    "for century in range(0, EPOCHS, breakpoint):\n",
    "    sub_history = model.fit(x_train, y_train, breakpoint, verbose = 0)\n",
    "    score = model.evaluate(x_test, y_test, False, verbose = 0)\n",
    "    print('Checkpoint {}, Accuracy: {}, Loss: {}'.format(century+breakpoint, score['accuracy'], score[model.loss_fn]))\n",
    "    score['checkpoint'] = century + breakpoint\n",
    "    checkpoints.append(score)\n",
    "    history.extend(sub_history)"
   ]
  },
  {
   "cell_type": "code",
   "execution_count": 9,
   "metadata": {},
   "outputs": [],
   "source": [
    "import matplotlib.pyplot as plt\n",
    "\n",
    "def draw_plot(x, y_list, x_label=None, y_label=None, legend=None, title=None):\n",
    "    fig, ax = plt.subplots(figsize=(12,5))\n",
    "    for xi, yi in zip(x, y_list):\n",
    "        ax.plot(xi, yi)\n",
    "    if x_label is not None and y_label is not None:\n",
    "        ax.set(xlabel=x_label, ylabel=y_label, title='{} VS {}'.format(x_label, y_label))\n",
    "    if legend is not None:\n",
    "        ax.legend(legend)\n",
    "    ax.grid()\n",
    "    plt.show()"
   ]
  },
  {
   "cell_type": "code",
   "execution_count": 10,
   "metadata": {},
   "outputs": [
    {
     "name": "stdout",
     "output_type": "stream",
     "text": [
      "[0. 0. 1.] <-> [9.1422266e-01 8.3500624e-04 8.4942296e-02]\n",
      "[0. 0. 1.] <-> [9.570041e-03 8.669287e-06 9.904213e-01]\n",
      "[1. 0. 0.] <-> [9.9758589e-01 1.6276701e-03 7.8636926e-04]\n",
      "[1. 0. 0.] <-> [9.1777396e-01 8.3351985e-04 8.1392519e-02]\n",
      "[0. 0. 1.] <-> [9.7557425e-02 8.8587694e-05 9.0235406e-01]\n",
      "[1. 0. 0.] <-> [9.9801588e-01 1.2233818e-03 7.6070323e-04]\n",
      "[0. 1. 0.] <-> [6.7444951e-03 9.9323809e-01 1.7435452e-05]\n",
      "[1. 0. 0.] <-> [0.9977552  0.00099813 0.00124662]\n",
      "[1. 0. 0.] <-> [0.9978746  0.00106089 0.00106452]\n",
      "[1. 0. 0.] <-> [9.9762827e-01 9.6660753e-04 1.4050596e-03]\n",
      "[0. 1. 0.] <-> [0.9337859  0.0652322  0.00098194]\n",
      "[1. 0. 0.] <-> [9.9779093e-01 1.3816777e-03 8.2740636e-04]\n",
      "[1. 0. 0.] <-> [9.9676704e-01 9.8069513e-04 2.2522714e-03]\n",
      "[1. 0. 0.] <-> [9.9799430e-01 1.0512364e-03 9.5450581e-04]\n",
      "[1. 0. 0.] <-> [9.9526924e-01 9.2658761e-04 3.8041770e-03]\n",
      "[1. 0. 0.] <-> [9.9798322e-01 1.1495209e-03 8.6730759e-04]\n",
      "[0. 0. 1.] <-> [9.597577e-03 8.684669e-06 9.903937e-01]\n",
      "[1. 0. 0.] <-> [9.9745554e-01 1.7554110e-03 7.8900554e-04]\n",
      "[1. 0. 0.] <-> [9.9243987e-01 9.2053920e-04 6.6396082e-03]\n",
      "[1. 0. 0.] <-> [9.9804354e-01 1.1041188e-03 8.5231289e-04]\n",
      "[1. 0. 0.] <-> [9.5921791e-01 8.8336703e-04 3.9898787e-02]\n",
      "[0. 1. 0.] <-> [6.7444472e-03 9.9323809e-01 1.7435352e-05]\n",
      "[1. 0. 0.] <-> [9.9800426e-01 1.2022333e-03 7.9355564e-04]\n",
      "[1. 0. 0.] <-> [9.9760997e-01 9.4271236e-04 1.4473614e-03]\n",
      "[1. 0. 0.] <-> [9.7647911e-01 8.9037424e-04 2.2630477e-02]\n",
      "[1. 0. 0.] <-> [9.9790192e-01 1.2224374e-03 8.7563682e-04]\n",
      "[1. 0. 0.] <-> [9.8614800e-01 8.9943758e-04 1.2952587e-02]\n",
      "[0. 1. 0.] <-> [7.0556481e-03 9.9292618e-01 1.8137553e-05]\n",
      "[0. 0. 1.] <-> [7.838541e-03 1.753683e-05 9.921440e-01]\n",
      "[0. 0. 1.] <-> [8.7998384e-01 8.0361695e-04 1.1921249e-01]\n",
      "[1. 0. 0.] <-> [0.9918657  0.00105116 0.00708318]\n",
      "[0. 0. 1.] <-> [9.5799481e-03 8.6736827e-06 9.9041134e-01]\n",
      "[1. 0. 0.] <-> [7.8397149e-01 7.1130355e-04 2.1531714e-01]\n",
      "[0. 0. 1.] <-> [9.576066e-03 8.664870e-06 9.904152e-01]\n",
      "[1. 0. 0.] <-> [9.9640059e-01 2.8366449e-03 7.6284446e-04]\n",
      "[1. 0. 0.] <-> [9.9552047e-01 9.5550774e-04 3.5240129e-03]\n",
      "[1. 0. 0.] <-> [5.9492856e-01 5.3970487e-04 4.0453172e-01]\n",
      "[0. 1. 0.] <-> [2.2283658e-01 7.7679211e-01 3.7132858e-04]\n",
      "[1. 0. 0.] <-> [9.9748826e-01 9.4530435e-04 1.5663932e-03]\n",
      "[1. 0. 0.] <-> [9.9773777e-01 1.5309853e-03 7.3124812e-04]\n",
      "[1. 0. 0.] <-> [9.9784148e-01 1.1700572e-03 9.8851754e-04]\n",
      "[1. 0. 0.] <-> [9.9597859e-01 9.1614423e-04 3.1052034e-03]\n",
      "[1. 0. 0.] <-> [0.99728954 0.00111691 0.00159361]\n",
      "[1. 0. 0.] <-> [9.9561948e-01 3.5493099e-03 8.3110906e-04]\n",
      "[1. 0. 0.] <-> [9.9489790e-01 4.3091956e-03 7.9281785e-04]\n",
      "[1. 0. 0.] <-> [9.9803990e-01 1.0651601e-03 8.9488114e-04]\n",
      "[1. 0. 0.] <-> [0.9969215  0.00199922 0.00107927]\n",
      "[0. 1. 0.] <-> [0.6862393  0.31286827 0.00089245]\n",
      "[1. 0. 0.] <-> [9.9714440e-01 9.2191627e-04 1.9336195e-03]\n",
      "[1. 0. 0.] <-> [9.9803549e-01 1.0127685e-03 9.5174683e-04]\n",
      "[0. 1. 0.] <-> [6.7506982e-03 9.9323189e-01 1.7449649e-05]\n",
      "[1. 0. 0.] <-> [9.9810612e-01 1.0540729e-03 8.3982170e-04]\n",
      "[0. 1. 0.] <-> [1.4752489e-02 9.8521298e-01 3.4471414e-05]\n",
      "[1. 0. 0.] <-> [9.6074843e-01 8.8023808e-04 3.8371250e-02]\n",
      "[0. 1. 0.] <-> [2.2229868e-01 7.7733302e-01 3.6822722e-04]\n",
      "[1. 0. 0.] <-> [9.934822e-01 9.041652e-04 5.613672e-03]\n",
      "[0. 0. 1.] <-> [9.572301e-03 8.661442e-06 9.904191e-01]\n",
      "[1. 0. 0.] <-> [0.99764144 0.00115377 0.00120492]\n",
      "[0. 0. 1.] <-> [9.6140988e-03 8.7020671e-06 9.9037725e-01]\n",
      "[1. 0. 0.] <-> [9.9702173e-01 2.1921531e-03 7.8607968e-04]\n",
      "[1. 0. 0.] <-> [9.9743420e-01 1.7705716e-03 7.9518778e-04]\n",
      "[1. 0. 0.] <-> [9.9670082e-01 9.2210434e-04 2.3770251e-03]\n",
      "[0. 0. 1.] <-> [9.567257e-03 8.686178e-06 9.904241e-01]\n",
      "[1. 0. 0.] <-> [9.9779701e-01 1.4661755e-03 7.3684822e-04]\n",
      "[1. 0. 0.] <-> [6.7922664e-01 6.1816187e-04 3.2015523e-01]\n",
      "[1. 0. 0.] <-> [9.9800867e-01 1.1093860e-03 8.8190142e-04]\n",
      "[1. 0. 0.] <-> [9.9804604e-01 9.9447265e-04 9.5944857e-04]\n",
      "[1. 0. 0.] <-> [9.9782002e-01 1.2334177e-03 9.4655209e-04]\n",
      "[0. 1. 0.] <-> [6.7445342e-03 9.9323809e-01 1.7435552e-05]\n",
      "[0. 1. 0.] <-> [7.231036e-02 9.275519e-01 1.376802e-04]\n",
      "[0. 0. 1.] <-> [9.5723635e-03 8.6615155e-06 9.9041897e-01]\n",
      "[1. 0. 0.] <-> [0.9979791  0.00100671 0.00101417]\n",
      "[1. 0. 0.] <-> [9.7657448e-01 8.9171046e-04 2.2533752e-02]\n",
      "[1. 0. 0.] <-> [9.6078104e-01 8.7596395e-04 3.8343020e-02]\n",
      "[1. 0. 0.] <-> [0.99773765 0.00101781 0.00124462]\n",
      "[1. 0. 0.] <-> [9.8690933e-01 9.0361445e-04 1.2187016e-02]\n",
      "[1. 0. 0.] <-> [0.9976139  0.00137297 0.00101317]\n",
      "[1. 0. 0.] <-> [9.9759692e-01 1.5588730e-03 8.4422744e-04]\n",
      "[1. 0. 0.] <-> [0.9973972  0.00100153 0.00160138]\n",
      "[1. 0. 0.] <-> [0.9978254  0.00107721 0.00109745]\n",
      "[0. 1. 0.] <-> [6.7444951e-03 9.9323809e-01 1.7435452e-05]\n",
      "[0. 1. 0.] <-> [2.8911697e-02 9.7102529e-01 6.2972613e-05]\n",
      "[1. 0. 0.] <-> [9.9813771e-01 1.1066593e-03 7.5557193e-04]\n",
      "[0. 0. 1.] <-> [9.5716910e-03 8.6640985e-06 9.9041969e-01]\n",
      "[1. 0. 0.] <-> [9.9797970e-01 1.2263904e-03 7.9387106e-04]\n",
      "[1. 0. 0.] <-> [9.9791020e-01 1.2441537e-03 8.4557885e-04]\n",
      "[1. 0. 0.] <-> [5.9630221e-01 5.4128701e-04 4.0315643e-01]\n",
      "[1. 0. 0.] <-> [9.9793649e-01 1.1734457e-03 8.9002540e-04]\n",
      "[1. 0. 0.] <-> [9.9009436e-01 9.3416736e-04 8.9714276e-03]\n",
      "[0. 0. 1.] <-> [9.579116e-03 8.667753e-06 9.904122e-01]\n",
      "[0. 1. 0.] <-> [6.744460e-03 9.932381e-01 1.743537e-05]\n",
      "[1. 0. 0.] <-> [9.7182411e-01 2.7222658e-02 9.5322134e-04]\n",
      "[0. 1. 0.] <-> [6.9234953e-03 9.9305868e-01 1.7845119e-05]\n",
      "[0. 1. 0.] <-> [0.6283594  0.37079197 0.00084868]\n",
      "[1. 0. 0.] <-> [9.7621775e-01 8.9083571e-04 2.2891378e-02]\n",
      "[1. 0. 0.] <-> [9.8469216e-01 1.4427284e-02 8.8064000e-04]\n",
      "[1. 0. 0.] <-> [9.9096268e-01 9.0731704e-04 8.1299888e-03]\n",
      "[1. 0. 0.] <-> [9.9774456e-01 1.5265832e-03 7.2882394e-04]\n",
      "[1. 0. 0.] <-> [9.9764377e-01 9.7213383e-04 1.3840981e-03]\n",
      "[1. 0. 0.] <-> [9.9502510e-01 9.4756583e-04 4.0273583e-03]\n",
      "[1. 0. 0.] <-> [9.9515921e-01 9.0526964e-04 3.9354842e-03]\n",
      "[1. 0. 0.] <-> [9.9713862e-01 9.4822649e-04 1.9131862e-03]\n",
      "[1. 0. 0.] <-> [0.9977418  0.0010157  0.00124244]\n",
      "[0. 0. 1.] <-> [9.200060e-03 9.897968e-06 9.907900e-01]\n",
      "[1. 0. 0.] <-> [9.9802268e-01 1.0361694e-03 9.4125187e-04]\n",
      "[1. 0. 0.] <-> [9.9410099e-01 5.1179887e-03 7.8098226e-04]\n",
      "[1. 0. 0.] <-> [9.9780160e-01 1.4516126e-03 7.4678229e-04]\n",
      "[0. 1. 0.] <-> [6.7448146e-03 9.9323773e-01 1.7436194e-05]\n",
      "{'accuracy': 0.9691358024691358, 'mean_square_error': 0.0733101177721189, 'categorical_crossentropy': 0.1165453592936198, 'essential_metrics': {0: {'tp_hit': 76, 'fp_hit': 5, 'tn_hit': 27, 'fn_hit': 0}, 1: {'tp_hit': 14, 'fp_hit': 0, 'tn_hit': 91, 'fn_hit': 3}, 2: {'tp_hit': 13, 'fp_hit': 0, 'tn_hit': 93, 'fn_hit': 2}}}\n"
     ]
    }
   ],
   "source": [
    "# recall phase\n",
    "score = model.evaluate(x_test, y_test, False)\n",
    "print(score)"
   ]
  },
  {
   "cell_type": "code",
   "execution_count": 11,
   "metadata": {},
   "outputs": [
    {
     "data": {
      "image/png": "[encoded data removed]",
      "text/plain": [
       "<Figure size 864x360 with 1 Axes>"
      ]
     },
     "metadata": {
      "needs_background": "light"
     },
     "output_type": "display_data"
    },
    {
     "data": {
      "image/png": "[encoded data removed]",
      "text/plain": [
       "<Figure size 864x360 with 1 Axes>"
      ]
     },
     "metadata": {
      "needs_background": "light"
     },
     "output_type": "display_data"
    }
   ],
   "source": [
    "draw_plot(x = [[i for i in range(len(history))], [(i+1)*breakpoint for i in range(len(checkpoints))]], y_list = [history, [ ckp[model.loss_fn] for ckp in checkpoints ]], x_label = 'Epochs', \\\n",
    "    y_label = model.loss_fn, legend=['train', 'test'])\n",
    "acc = [ ckp['accuracy'] for ckp in checkpoints ]\n",
    "draw_plot(x = [[(i+1)*breakpoint for i in range(len(checkpoints))]], y_list = [acc], x_label = 'Checkpoints', \\\n",
    "    y_label = 'accuracy')"
   ]
  },
  {
   "cell_type": "code",
   "execution_count": 12,
   "metadata": {},
   "outputs": [
    {
     "name": "stdout",
     "output_type": "stream",
     "text": [
      "{'accuracy': 0.9506172839506173, 'mean_square_error': 0.10942951763355042, 'categorical_crossentropy': 0.19992623505768953, 'essential_metrics': {0: {'tp_hit': 75, 'fp_hit': 7, 'tn_hit': 25, 'fn_hit': 1}, 1: {'tp_hit': 12, 'fp_hit': 0, 'tn_hit': 91, 'fn_hit': 5}, 2: {'tp_hit': 13, 'fp_hit': 1, 'tn_hit': 92, 'fn_hit': 2}}, 'checkpoint': 100} \n",
      "\n",
      "\n",
      "{'accuracy': 0.9629629629629629, 'mean_square_error': 0.06482735882500006, 'categorical_crossentropy': 0.10539616478814019, 'essential_metrics': {0: {'tp_hit': 75, 'fp_hit': 5, 'tn_hit': 27, 'fn_hit': 1}, 1: {'tp_hit': 14, 'fp_hit': 0, 'tn_hit': 91, 'fn_hit': 3}, 2: {'tp_hit': 13, 'fp_hit': 1, 'tn_hit': 92, 'fn_hit': 2}}, 'checkpoint': 200} \n",
      "\n",
      "\n",
      "{'accuracy': 0.9691358024691358, 'mean_square_error': 0.06975566683747197, 'categorical_crossentropy': 0.11234327598854348, 'essential_metrics': {0: {'tp_hit': 76, 'fp_hit': 5, 'tn_hit': 27, 'fn_hit': 0}, 1: {'tp_hit': 14, 'fp_hit': 0, 'tn_hit': 91, 'fn_hit': 3}, 2: {'tp_hit': 13, 'fp_hit': 0, 'tn_hit': 93, 'fn_hit': 2}}, 'checkpoint': 300} \n",
      "\n",
      "\n",
      "{'accuracy': 0.9691358024691358, 'mean_square_error': 0.07261907805516286, 'categorical_crossentropy': 0.11908048170584219, 'essential_metrics': {0: {'tp_hit': 76, 'fp_hit': 5, 'tn_hit': 27, 'fn_hit': 0}, 1: {'tp_hit': 14, 'fp_hit': 0, 'tn_hit': 91, 'fn_hit': 3}, 2: {'tp_hit': 13, 'fp_hit': 0, 'tn_hit': 93, 'fn_hit': 2}}, 'checkpoint': 400} \n",
      "\n",
      "\n",
      "{'accuracy': 0.9691358024691358, 'mean_square_error': 0.0733101177721189, 'categorical_crossentropy': 0.1165453592936198, 'essential_metrics': {0: {'tp_hit': 76, 'fp_hit': 5, 'tn_hit': 27, 'fn_hit': 0}, 1: {'tp_hit': 14, 'fp_hit': 0, 'tn_hit': 91, 'fn_hit': 3}, 2: {'tp_hit': 13, 'fp_hit': 0, 'tn_hit': 93, 'fn_hit': 2}}, 'checkpoint': 500} \n",
      "\n",
      "\n"
     ]
    }
   ],
   "source": [
    "for checkpoint in checkpoints:\n",
    "    print(checkpoint, '\\n\\n')"
   ]
  },
  {
   "cell_type": "code",
   "execution_count": 13,
   "metadata": {},
   "outputs": [
    {
     "name": "stdout",
     "output_type": "stream",
     "text": [
      "Layer 1\n",
      "Neuron 0: weights:\n",
      "[ 1.9230907 -3.        -2.3210437 -3.         1.6376818]\n",
      " bias: 3.0\n",
      "\n",
      "Neuron 1: weights:\n",
      "[-1.0260973  3.         1.2822343 -3.        -1.2972704]\n",
      " bias: 3.0\n",
      "\n",
      "Neuron 2: weights:\n",
      "[ 1.313851  -3.        -1.3181514  3.         1.2612259]\n",
      " bias: -3.0\n",
      "\n",
      "Neuron 3: weights:\n",
      "[-1.9211919  3.         2.3586695  1.8714837 -1.1859685]\n",
      " bias: -3.0\n",
      "\n",
      "$\n",
      "Layer 2\n",
      "Neuron 0: weights:\n",
      "[ 3.  3. -3. -3.]\n",
      " bias: 1.2442450523376465\n",
      "\n",
      "Neuron 1: weights:\n",
      "[-3.  3. -3.  3.]\n",
      " bias: 0.2364959567785263\n",
      "\n",
      "Neuron 2: weights:\n",
      "[ 1.5972313 -3.         3.        -3.       ]\n",
      " bias: 1.2862695455551147\n",
      "\n",
      "$\n",
      "\n"
     ]
    }
   ],
   "source": [
    "print(model)"
   ]
  }
 ],
 "metadata": {
  "kernelspec": {
   "display_name": "Python 3",
   "language": "python",
   "name": "python3"
  },
  "language_info": {
   "codemirror_mode": {
    "name": "ipython",
    "version": 3
   },
   "file_extension": ".py",
   "mimetype": "text/x-python",
   "name": "python",
   "nbconvert_exporter": "python",
   "pygments_lexer": "ipython3",
   "version": "3.6.10"
  }
 },
 "nbformat": 4,
 "nbformat_minor": 2
}
