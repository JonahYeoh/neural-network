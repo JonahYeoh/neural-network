{
 "cells": [
  {
   "cell_type": "code",
   "execution_count": 1,
   "metadata": {},
   "outputs": [],
   "source": [
    "# dependency\n",
    "import numpy as np\n",
    "import pandas as pd\n",
    "import copy\n",
    "import math\n",
    "import sys\n",
    "import os\n",
    "from activations import relu, leaky_relu, sigmoid, tanh, softmax, d_sigmoid, d_relu\n",
    "from initializers import glorot_uniform, random_normal, random_uniform\n",
    "from regularizers import l1_regularizer, l2_regularizer\n",
    "from utility import trim_tail, multiply, subtract, get_nparams, one_hot_encoding, get_data\n",
    "from metrics import MSE, CCE, ACC, PRECISION, RECALL, essential_metrics, wondering_penalty, close_gap_penalty\n",
    "from pso import PSO\n",
    "from ga import GA\n",
    "from nn import Network\n",
    "from layer import DenseLayer\n",
    "from scalers import MinMaxScaler, StandardScaler"
   ]
  },
  {
   "cell_type": "code",
   "execution_count": 2,
   "metadata": {},
   "outputs": [],
   "source": [
    "# reference\n",
    "metrics_fn_dict = dict()\n",
    "metrics_fn_dict['accuracy'] = ACC\n",
    "metrics_fn_dict['categorical_crossentropy'] = CCE\n",
    "metrics_fn_dict['mean_square_error'] = MSE\n",
    "metrics_fn_dict['precision'] = PRECISION\n",
    "metrics_fn_dict['recall'] = RECALL\n",
    "metrics_fn_dict['essential_metrics'] = essential_metrics"
   ]
  },
  {
   "cell_type": "code",
   "execution_count": 3,
   "metadata": {},
   "outputs": [],
   "source": [
    "# model\n",
    "model = Network(5, lr = None)\n",
    "model.add_layer(DenseLayer(1, 4, True, afn=sigmoid, dafn=None, rfn=None))\n",
    "model.add_layer(DenseLayer(2, 3, True, afn=softmax, dafn=None, rfn=None))"
   ]
  },
  {
   "cell_type": "code",
   "execution_count": 4,
   "metadata": {},
   "outputs": [
    {
     "name": "stdout",
     "output_type": "stream",
     "text": [
      "see one see two 2 2\n"
     ]
    }
   ],
   "source": [
    "pso = PSO(dict(m = 100,\n",
    "    weight_constraint = [-3, 3], \n",
    "    velocity_constraint = [-0.1, 0.1],\n",
    "    c1 = 2,\n",
    "    c2 = 2,\n",
    "    w = 1,\n",
    "    w_decay = 1,\n",
    "    scale_hyperparameter = False,\n",
    "    regularizer = None,\n",
    "    mask = True))"
   ]
  },
  {
   "cell_type": "code",
   "execution_count": 5,
   "metadata": {},
   "outputs": [
    {
     "name": "stdout",
     "output_type": "stream",
     "text": [
      "building layer 1 with 5\n",
      "24\n",
      "building layer 2 with 4\n",
      "15\n"
     ]
    }
   ],
   "source": [
    "model.compile(loss_fn = 'categorical_crossentropy', optimizer = pso, \\\n",
    "    metrics = ['accuracy', 'mean_square_error', 'categorical_crossentropy'])"
   ]
  },
  {
   "cell_type": "code",
   "execution_count": 6,
   "metadata": {},
   "outputs": [
    {
     "name": "stdout",
     "output_type": "stream",
     "text": [
      "<class 'pandas.core.frame.DataFrame'>\n",
      "RangeIndex: 107 entries, 0 to 106\n",
      "Data columns (total 6 columns):\n",
      " #   Column  Non-Null Count  Dtype  \n",
      "---  ------  --------------  -----  \n",
      " 0   f1      107 non-null    float32\n",
      " 1   f2      107 non-null    float32\n",
      " 2   f3      107 non-null    float32\n",
      " 3   f4      107 non-null    float32\n",
      " 4   f5      107 non-null    float32\n",
      " 5   label   107 non-null    float32\n",
      "dtypes: float32(6)\n",
      "memory usage: 2.6 KB\n",
      "None\n",
      "<class 'pandas.core.frame.DataFrame'>\n",
      "RangeIndex: 108 entries, 0 to 107\n",
      "Data columns (total 6 columns):\n",
      " #   Column  Non-Null Count  Dtype  \n",
      "---  ------  --------------  -----  \n",
      " 0   f1      108 non-null    float32\n",
      " 1   f2      108 non-null    float32\n",
      " 2   f3      108 non-null    float32\n",
      " 3   f4      108 non-null    float32\n",
      " 4   f5      108 non-null    float32\n",
      " 5   label   108 non-null    float32\n",
      "dtypes: float32(6)\n",
      "memory usage: 2.7 KB\n",
      "None\n"
     ]
    }
   ],
   "source": [
    "# data loading\n",
    "DATA = os.path.join('c:\\\\Users\\\\tcumi\\\\github_repo\\\\neural-network\\\\', 'dataset')\n",
    "GROUP = 3\n",
    "COLUMNS = ['f1', 'f2', 'f3', 'f4', 'f5', 'label']\n",
    "N_CLASS = 3\n",
    "EPOCHS = 500\n",
    "train_dir, test_dir = \"..//dataset//training_data{}.txt\".format(GROUP), \"..//dataset//testing_data{}.txt\".format(GROUP)\n",
    "train, test = get_data(DATA, train_dir, COLUMNS), get_data(DATA, test_dir, COLUMNS)\n",
    "# shuffle\n",
    "train, test = train.sample(frac=1), test.sample(frac=1)\n",
    "x_train, y_train = train.drop('label', axis=1), train['label']\n",
    "x_test, y_test = test.drop('label', axis=1), test['label']"
   ]
  },
  {
   "cell_type": "code",
   "execution_count": 7,
   "metadata": {},
   "outputs": [],
   "source": [
    "# data scaling and encoding\n",
    "scaler = StandardScaler(['f1', 'f2', 'f3', 'f4', 'f5'])\n",
    "scaler.fit(x_train)\n",
    "x_train = scaler.transform(x_train)\n",
    "x_test = scaler.transform(x_test)\n",
    "y_train = one_hot_encoding(y_train, N_CLASS)\n",
    "y_test = one_hot_encoding(y_test, N_CLASS)"
   ]
  },
  {
   "cell_type": "code",
   "execution_count": 8,
   "metadata": {
    "tags": [
     "outputPrepend"
    ]
   },
   "outputs": [
    {
     "name": "stdout",
     "output_type": "stream",
     "text": [
      "Checkpoint 100, Accuracy: 0.9567901234567902, Loss: 0.2256696135909469\n",
      "Checkpoint 200, Accuracy: 0.9506172839506173, Loss: 0.16689169848406757\n",
      "Checkpoint 300, Accuracy: 0.9629629629629629, Loss: 0.10931414145010489\n",
      "Checkpoint 400, Accuracy: 0.9691358024691358, Loss: 0.10702313317192926\n",
      "Checkpoint 500, Accuracy: 0.9629629629629629, Loss: 0.10918182796902126\n"
     ]
    }
   ],
   "source": [
    "# learning phase\n",
    "breakpoint = 100\n",
    "checkpoints = list()\n",
    "history = list()\n",
    "for century in range(0, EPOCHS, breakpoint):\n",
    "    sub_history = model.fit(x_train, y_train, breakpoint, verbose = 0)\n",
    "    score = model.evaluate(x_test, y_test, False, verbose = 0)\n",
    "    print('Checkpoint {}, Accuracy: {}, Loss: {}'.format(century+breakpoint, score['accuracy'], score[model.loss_fn]))\n",
    "    score['checkpoint'] = century + breakpoint\n",
    "    checkpoints.append(score)\n",
    "    history.extend(sub_history)"
   ]
  },
  {
   "cell_type": "code",
   "execution_count": 9,
   "metadata": {},
   "outputs": [],
   "source": [
    "import matplotlib.pyplot as plt\n",
    "\n",
    "def draw_plot(x, y_list, x_label=None, y_label=None, legend=None, title=None):\n",
    "    fig, ax = plt.subplots(figsize=(12,5))\n",
    "    for xi, yi in zip(x, y_list):\n",
    "        ax.plot(xi, yi)\n",
    "    if x_label is not None and y_label is not None:\n",
    "        ax.set(xlabel=x_label, ylabel=y_label, title='{} VS {}'.format(x_label, y_label))\n",
    "    if legend is not None:\n",
    "        ax.legend(legend)\n",
    "    ax.grid()\n",
    "    plt.show()"
   ]
  },
  {
   "cell_type": "code",
   "execution_count": 10,
   "metadata": {},
   "outputs": [
    {
     "name": "stdout",
     "output_type": "stream",
     "text": [
      "[0. 1. 0.] <-> [7.4617066e-03 9.9251235e-01 2.5853280e-05]\n",
      "[1. 0. 0.] <-> [0.99725074 0.00148627 0.00126299]\n",
      "[1. 0. 0.] <-> [0.996238   0.0022522  0.00150985]\n",
      "[1. 0. 0.] <-> [0.99561775 0.00155919 0.00282306]\n",
      "[1. 0. 0.] <-> [0.99536985 0.00251681 0.00211332]\n",
      "[1. 0. 0.] <-> [0.9903813  0.0025541  0.00706463]\n",
      "[1. 0. 0.] <-> [0.76543283 0.23315394 0.0014132 ]\n",
      "[0. 1. 0.] <-> [7.4609872e-03 9.9251318e-01 2.5855916e-05]\n",
      "[1. 0. 0.] <-> [0.60374624 0.39472005 0.00153364]\n",
      "[1. 0. 0.] <-> [0.99411833 0.00435459 0.00152709]\n",
      "[1. 0. 0.] <-> [0.992661   0.00202694 0.00531198]\n",
      "[1. 0. 0.] <-> [0.83276033 0.01031858 0.1569211 ]\n",
      "[1. 0. 0.] <-> [0.9849761  0.01371918 0.00130479]\n",
      "[1. 0. 0.] <-> [0.9954821  0.00323616 0.00128177]\n",
      "[1. 0. 0.] <-> [0.99598515 0.0028787  0.00113612]\n",
      "[1. 0. 0.] <-> [0.99554294 0.00275222 0.00170482]\n",
      "[1. 0. 0.] <-> [0.9965563  0.00171594 0.00172777]\n",
      "[1. 0. 0.] <-> [0.95143336 0.00605775 0.04250889]\n",
      "[1. 0. 0.] <-> [0.99590945 0.00175682 0.00233375]\n",
      "[1. 0. 0.] <-> [0.6652383  0.33328    0.00148168]\n",
      "[0. 1. 0.] <-> [8.3838673e-03 9.9158704e-01 2.9137564e-05]\n",
      "[1. 0. 0.] <-> [0.9969836  0.00177614 0.00124032]\n",
      "[1. 0. 0.] <-> [0.9966612  0.00215163 0.00118716]\n",
      "[0. 0. 1.] <-> [0.00599291 0.00246116 0.99154586]\n",
      "[1. 0. 0.] <-> [0.9969183  0.00125136 0.00183029]\n",
      "[1. 0. 0.] <-> [0.99132186 0.00700321 0.00167495]\n",
      "[1. 0. 0.] <-> [0.9963062  0.0019636  0.00173026]\n",
      "[0. 1. 0.] <-> [7.4599176e-03 9.9251419e-01 2.5859961e-05]\n",
      "[1. 0. 0.] <-> [0.98633146 0.00282069 0.01084782]\n",
      "[1. 0. 0.] <-> [0.9968581  0.00148164 0.00166023]\n",
      "[1. 0. 0.] <-> [0.9972146  0.001442   0.00134344]\n",
      "[1. 0. 0.] <-> [0.9801788  0.01814202 0.00167924]\n",
      "[0. 1. 0.] <-> [7.4561439e-03 9.9251795e-01 2.5885351e-05]\n",
      "[1. 0. 0.] <-> [0.9973175  0.00148529 0.00119724]\n",
      "[1. 0. 0.] <-> [0.98467755 0.00512592 0.01019653]\n",
      "[0. 1. 0.] <-> [1.8831153e-01 8.1128341e-01 4.0506606e-04]\n",
      "[1. 0. 0.] <-> [0.9940574  0.00180195 0.00414065]\n",
      "[1. 0. 0.] <-> [9.9764085e-01 9.7509794e-04 1.3841131e-03]\n",
      "[1. 0. 0.] <-> [0.9971378  0.00115346 0.00170874]\n",
      "[1. 0. 0.] <-> [0.9941204  0.00172559 0.00415391]\n",
      "[1. 0. 0.] <-> [0.92596686 0.07242155 0.00161163]\n",
      "[0. 0. 1.] <-> [0.00906718 0.00304532 0.9878875 ]\n",
      "[1. 0. 0.] <-> [0.9970968  0.00146148 0.00144185]\n",
      "[0. 1. 0.] <-> [1.969384e-02 9.802430e-01 6.310452e-05]\n",
      "[1. 0. 0.] <-> [0.9943798  0.00168126 0.00393896]\n",
      "[1. 0. 0.] <-> [0.9971209  0.00112911 0.00174998]\n",
      "[1. 0. 0.] <-> [0.99739194 0.00114103 0.00146699]\n",
      "[0. 1. 0.] <-> [7.4723791e-03 9.9250162e-01 2.6072623e-05]\n",
      "[1. 0. 0.] <-> [0.96929395 0.01542104 0.01528507]\n",
      "[1. 0. 0.] <-> [0.9946049  0.00411281 0.0012823 ]\n",
      "[1. 0. 0.] <-> [0.9927683  0.00193816 0.00529356]\n",
      "[1. 0. 0.] <-> [0.99351704 0.00230048 0.00418247]\n",
      "[0. 1. 0.] <-> [7.4615940e-03 9.9251246e-01 2.5853677e-05]\n",
      "[0. 0. 1.] <-> [0.00617252 0.00249691 0.9913306 ]\n",
      "[1. 0. 0.] <-> [0.539541   0.01577554 0.44468346]\n",
      "[1. 0. 0.] <-> [0.99429625 0.00175611 0.00394764]\n",
      "[1. 0. 0.] <-> [0.99699473 0.0015908  0.00141442]\n",
      "[0. 1. 0.] <-> [1.5930049e-02 9.8402065e-01 4.9258939e-05]\n",
      "[0. 0. 1.] <-> [0.5322442  0.01441908 0.45333675]\n",
      "[1. 0. 0.] <-> [0.9968617  0.00180822 0.0013301 ]\n",
      "[1. 0. 0.] <-> [0.99665064 0.00151758 0.00183181]\n",
      "[0. 1. 0.] <-> [4.1790374e-02 9.5809078e-01 1.1877813e-04]\n",
      "[0. 1. 0.] <-> [1.3641970e-01 8.6324018e-01 3.4005602e-04]\n",
      "[1. 0. 0.] <-> [0.996258   0.00250589 0.00123606]\n",
      "[1. 0. 0.] <-> [0.995729   0.00267472 0.00159623]\n",
      "[0. 0. 1.] <-> [0.0059764  0.00245786 0.9915657 ]\n",
      "[0. 1. 0.] <-> [7.4616931e-03 9.9251246e-01 2.5853307e-05]\n",
      "[0. 1. 0.] <-> [1.5170606e-02 9.8478043e-01 4.8926544e-05]\n",
      "[1. 0. 0.] <-> [0.47294432 0.52592206 0.00113356]\n",
      "[0. 0. 1.] <-> [0.02106814 0.00452728 0.9744046 ]\n",
      "[1. 0. 0.] <-> [0.9828044  0.00319563 0.01399999]\n",
      "[0. 0. 1.] <-> [0.00597618 0.00245843 0.99156547]\n",
      "[1. 0. 0.] <-> [0.99771583 0.00108445 0.0011997 ]\n",
      "[1. 0. 0.] <-> [0.9848183  0.01353409 0.00164767]\n",
      "[1. 0. 0.] <-> [0.9641757  0.00555065 0.03027373]\n",
      "[1. 0. 0.] <-> [0.99621576 0.00151032 0.00227392]\n",
      "[1. 0. 0.] <-> [0.9966126  0.00215425 0.00123303]\n",
      "[1. 0. 0.] <-> [0.99736327 0.00121964 0.00141708]\n",
      "[1. 0. 0.] <-> [0.10483296 0.00942548 0.8857416 ]\n",
      "[1. 0. 0.] <-> [0.99129546 0.00654561 0.00215883]\n",
      "[0. 0. 1.] <-> [0.0078691  0.00280841 0.9893225 ]\n",
      "[1. 0. 0.] <-> [0.99007636 0.00236706 0.00755662]\n",
      "[1. 0. 0.] <-> [0.7988189  0.01130437 0.18987677]\n",
      "[0. 0. 1.] <-> [0.00598456 0.00245957 0.9915558 ]\n",
      "[1. 0. 0.] <-> [0.99634796 0.00150143 0.00215064]\n",
      "[0. 0. 1.] <-> [0.04954485 0.00668998 0.9437652 ]\n",
      "[1. 0. 0.] <-> [0.9967648  0.00197795 0.00125731]\n",
      "[1. 0. 0.] <-> [0.33035672 0.6689152  0.00072808]\n",
      "[1. 0. 0.] <-> [0.99749595 0.00127603 0.00122805]\n",
      "[1. 0. 0.] <-> [0.9975351  0.00132872 0.00113612]\n",
      "[1. 0. 0.] <-> [0.9623478  0.03605695 0.00159515]\n",
      "[1. 0. 0.] <-> [0.98571485 0.01063528 0.00364991]\n",
      "[1. 0. 0.] <-> [0.99663025 0.00131324 0.00205642]\n",
      "[1. 0. 0.] <-> [0.9951603  0.00204516 0.00279466]\n",
      "[1. 0. 0.] <-> [0.9970618  0.00119572 0.00174252]\n",
      "[1. 0. 0.] <-> [0.9477396  0.00590243 0.04635802]\n",
      "[1. 0. 0.] <-> [0.99723476 0.00118677 0.00157847]\n",
      "[0. 0. 1.] <-> [0.00597642 0.00245785 0.9915657 ]\n",
      "[1. 0. 0.] <-> [0.97689146 0.00399656 0.01911191]\n",
      "[1. 0. 0.] <-> [0.9969926  0.00125709 0.00175036]\n",
      "[0. 0. 1.] <-> [0.5668403  0.01444565 0.41871408]\n",
      "[1. 0. 0.] <-> [9.9768770e-01 9.9424168e-04 1.3180678e-03]\n",
      "[1. 0. 0.] <-> [0.991964   0.00402417 0.00401174]\n",
      "[0. 1. 0.] <-> [7.4777431e-03 9.9249637e-01 2.5960659e-05]\n",
      "[0. 0. 1.] <-> [0.00641577 0.00254424 0.99103993]\n",
      "[0. 1. 0.] <-> [1.7380979e-02 9.8256314e-01 5.5868371e-05]\n",
      "[1. 0. 0.] <-> [8.6525097e-02 9.1323334e-01 2.4161596e-04]\n",
      "[0. 0. 1.] <-> [0.00637227 0.00253619 0.99109155]\n",
      "{'accuracy': 0.9629629629629629, 'mean_square_error': 0.06746867649446642, 'categorical_crossentropy': 0.10918182796902126, 'essential_metrics': {0: {'tp_hit': 74, 'fp_hit': 2, 'tn_hit': 28, 'fn_hit': 4}, 1: {'tp_hit': 16, 'fp_hit': 3, 'tn_hit': 89, 'fn_hit': 0}, 2: {'tp_hit': 12, 'fp_hit': 1, 'tn_hit': 93, 'fn_hit': 2}}}\n"
     ]
    }
   ],
   "source": [
    "# recall phase\n",
    "score = model.evaluate(x_test, y_test, False)\n",
    "print(score)"
   ]
  },
  {
   "cell_type": "code",
   "execution_count": 11,
   "metadata": {},
   "outputs": [
    {
     "data": {
      "image/png": "[encoded data removed]",
      "text/plain": [
       "<Figure size 864x360 with 1 Axes>"
      ]
     },
     "metadata": {
      "needs_background": "light"
     },
     "output_type": "display_data"
    },
    {
     "data": {
      "image/png": "[encoded data removed]",
      "text/plain": [
       "<Figure size 864x360 with 1 Axes>"
      ]
     },
     "metadata": {
      "needs_background": "light"
     },
     "output_type": "display_data"
    }
   ],
   "source": [
    "draw_plot(x = [[i for i in range(len(history))], [(i+1)*breakpoint for i in range(len(checkpoints))]], y_list = [history, [ ckp[model.loss_fn] for ckp in checkpoints ]], x_label = 'Epochs', \\\n",
    "    y_label = model.loss_fn, legend=['train', 'test'])\n",
    "acc = [ ckp['accuracy'] for ckp in checkpoints ]\n",
    "draw_plot(x = [[(i+1)*breakpoint for i in range(len(checkpoints))]], y_list = [acc], x_label = 'Checkpoints', \\\n",
    "    y_label = 'accuracy')"
   ]
  },
  {
   "cell_type": "code",
   "execution_count": 12,
   "metadata": {},
   "outputs": [
    {
     "name": "stdout",
     "output_type": "stream",
     "text": [
      "{'accuracy': 0.9567901234567902, 'mean_square_error': 0.11093125307647846, 'categorical_crossentropy': 0.2256696135909469, 'essential_metrics': {0: {'tp_hit': 75, 'fp_hit': 4, 'tn_hit': 26, 'fn_hit': 3}, 1: {'tp_hit': 16, 'fp_hit': 2, 'tn_hit': 90, 'fn_hit': 0}, 2: {'tp_hit': 10, 'fp_hit': 1, 'tn_hit': 93, 'fn_hit': 4}}, 'checkpoint': 100} \n",
      "\n",
      "\n",
      "{'accuracy': 0.9506172839506173, 'mean_square_error': 0.09440725746036191, 'categorical_crossentropy': 0.16689169848406757, 'essential_metrics': {0: {'tp_hit': 75, 'fp_hit': 5, 'tn_hit': 25, 'fn_hit': 3}, 1: {'tp_hit': 16, 'fp_hit': 2, 'tn_hit': 90, 'fn_hit': 0}, 2: {'tp_hit': 9, 'fp_hit': 1, 'tn_hit': 93, 'fn_hit': 5}}, 'checkpoint': 200} \n",
      "\n",
      "\n",
      "{'accuracy': 0.9629629629629629, 'mean_square_error': 0.06798270298105531, 'categorical_crossentropy': 0.10931414145010489, 'essential_metrics': {0: {'tp_hit': 74, 'fp_hit': 2, 'tn_hit': 28, 'fn_hit': 4}, 1: {'tp_hit': 16, 'fp_hit': 3, 'tn_hit': 89, 'fn_hit': 0}, 2: {'tp_hit': 12, 'fp_hit': 1, 'tn_hit': 93, 'fn_hit': 2}}, 'checkpoint': 300} \n",
      "\n",
      "\n",
      "{'accuracy': 0.9691358024691358, 'mean_square_error': 0.06583911546783694, 'categorical_crossentropy': 0.10702313317192926, 'essential_metrics': {0: {'tp_hit': 74, 'fp_hit': 1, 'tn_hit': 29, 'fn_hit': 4}, 1: {'tp_hit': 16, 'fp_hit': 3, 'tn_hit': 89, 'fn_hit': 0}, 2: {'tp_hit': 13, 'fp_hit': 1, 'tn_hit': 93, 'fn_hit': 1}}, 'checkpoint': 400} \n",
      "\n",
      "\n",
      "{'accuracy': 0.9629629629629629, 'mean_square_error': 0.06746867649446642, 'categorical_crossentropy': 0.10918182796902126, 'essential_metrics': {0: {'tp_hit': 74, 'fp_hit': 2, 'tn_hit': 28, 'fn_hit': 4}, 1: {'tp_hit': 16, 'fp_hit': 3, 'tn_hit': 89, 'fn_hit': 0}, 2: {'tp_hit': 12, 'fp_hit': 1, 'tn_hit': 93, 'fn_hit': 2}}, 'checkpoint': 500} \n",
      "\n",
      "\n"
     ]
    }
   ],
   "source": [
    "for checkpoint in checkpoints:\n",
    "    print(checkpoint, '\\n\\n')"
   ]
  },
  {
   "cell_type": "code",
   "execution_count": 13,
   "metadata": {},
   "outputs": [
    {
     "name": "stdout",
     "output_type": "stream",
     "text": [
      "Layer 1\n",
      "Neuron 0: weights:\n",
      "[ 0.01038467  3.          0.29800203 -3.         -3.        ]\n",
      " bias: 2.0888774394989014\n",
      "\n",
      "Neuron 1: weights:\n",
      "[ 0.17498696  3.         -0.05697583 -3.         -3.        ]\n",
      " bias: 1.9487051963806152\n",
      "\n",
      "Neuron 2: weights:\n",
      "[-2.1772926  3.         3.        -2.48487   -0.3303986]\n",
      " bias: -3.0\n",
      "\n",
      "Neuron 3: weights:\n",
      "[-1.8582832  3.         3.         1.0489762 -3.       ]\n",
      " bias: -3.0\n",
      "\n",
      "$\n",
      "Layer 2\n",
      "Neuron 0: weights:\n",
      "[ 3.  3. -3. -3.]\n",
      " bias: -2.111464500427246\n",
      "\n",
      "Neuron 1: weights:\n",
      "[-0.37270308  0.15168907  3.          3.        ]\n",
      " bias: -3.0\n",
      "\n",
      "Neuron 2: weights:\n",
      "[-3.        -3.        -1.7765769 -3.       ]\n",
      " bias: 3.0\n",
      "\n",
      "$\n",
      "\n"
     ]
    }
   ],
   "source": [
    "print(model)"
   ]
  }
 ],
 "metadata": {
  "kernelspec": {
   "display_name": "Python 3",
   "language": "python",
   "name": "python3"
  },
  "language_info": {
   "codemirror_mode": {
    "name": "ipython",
    "version": 3
   },
   "file_extension": ".py",
   "mimetype": "text/x-python",
   "name": "python",
   "nbconvert_exporter": "python",
   "pygments_lexer": "ipython3",
   "version": "3.6.10"
  }
 },
 "nbformat": 4,
 "nbformat_minor": 2
}
