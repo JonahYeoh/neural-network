{
 "cells": [
  {
   "cell_type": "code",
   "execution_count": 1,
   "metadata": {},
   "outputs": [],
   "source": [
    "# dependency\n",
    "import numpy as np\n",
    "import pandas as pd\n",
    "import copy\n",
    "import math\n",
    "import sys\n",
    "import os\n",
    "from activations import relu, leaky_relu, sigmoid, tanh, softmax, d_sigmoid, d_relu\n",
    "from initializers import glorot_uniform, random_normal, random_uniform\n",
    "from regularizers import l1_regularizer, l2_regularizer\n",
    "from utility import trim_tail, multiply, subtract, get_nparams, one_hot_encoding, get_data\n",
    "from metrics import MSE, CCE, ACC, PRECISION, RECALL, essential_metrics, wondering_penalty, close_gap_penalty\n",
    "from pso import PSO\n",
    "from ga import GA\n",
    "from nn import Network\n",
    "from layer import DenseLayer\n",
    "from scalers import MinMaxScaler, StandardScaler"
   ]
  },
  {
   "cell_type": "code",
   "execution_count": 2,
   "metadata": {},
   "outputs": [],
   "source": [
    "# reference\n",
    "metrics_fn_dict = dict()\n",
    "metrics_fn_dict['accuracy'] = ACC\n",
    "metrics_fn_dict['categorical_crossentropy'] = CCE\n",
    "metrics_fn_dict['mean_square_error'] = MSE\n",
    "metrics_fn_dict['precision'] = PRECISION\n",
    "metrics_fn_dict['recall'] = RECALL\n",
    "metrics_fn_dict['essential_metrics'] = essential_metrics"
   ]
  },
  {
   "cell_type": "code",
   "execution_count": 3,
   "metadata": {},
   "outputs": [],
   "source": [
    "# model\n",
    "model = Network(5, lr = None)\n",
    "model.add_layer(DenseLayer(1, 4, True, afn=sigmoid, dafn=None, rfn=None))\n",
    "model.add_layer(DenseLayer(2, 3, True, afn=softmax, dafn=None, rfn=None))"
   ]
  },
  {
   "cell_type": "code",
   "execution_count": 4,
   "metadata": {},
   "outputs": [
    {
     "name": "stdout",
     "output_type": "stream",
     "text": [
      "see one see two 2.0 0.5\n"
     ]
    }
   ],
   "source": [
    "pso = PSO(dict(m = 50,\n",
    "    weight_constraint = [-3, 3], \n",
    "    velocity_constraint = [-0.1, 0.1],\n",
    "    c1 = [0.5, 2.0],\n",
    "    c2 = [0.5, 2.0],\n",
    "    w = [0.5, 1.6],\n",
    "    w_decay = 0.95,\n",
    "    scale_hyperparameter = False,\n",
    "    regularizer = None,\n",
    "    mask = True))"
   ]
  },
  {
   "cell_type": "code",
   "execution_count": 5,
   "metadata": {},
   "outputs": [
    {
     "name": "stdout",
     "output_type": "stream",
     "text": [
      "building layer 1 with 5\n",
      "24\n",
      "building layer 2 with 4\n",
      "15\n"
     ]
    }
   ],
   "source": [
    "model.compile(loss_fn = 'categorical_crossentropy', optimizer = pso, \\\n",
    "    metrics = ['accuracy', 'mean_square_error', 'categorical_crossentropy'])"
   ]
  },
  {
   "cell_type": "code",
   "execution_count": 6,
   "metadata": {},
   "outputs": [
    {
     "name": "stdout",
     "output_type": "stream",
     "text": [
      "<class 'pandas.core.frame.DataFrame'>\n",
      "RangeIndex: 107 entries, 0 to 106\n",
      "Data columns (total 6 columns):\n",
      " #   Column  Non-Null Count  Dtype  \n",
      "---  ------  --------------  -----  \n",
      " 0   f1      107 non-null    float32\n",
      " 1   f2      107 non-null    float32\n",
      " 2   f3      107 non-null    float32\n",
      " 3   f4      107 non-null    float32\n",
      " 4   f5      107 non-null    float32\n",
      " 5   label   107 non-null    float32\n",
      "dtypes: float32(6)\n",
      "memory usage: 2.6 KB\n",
      "None\n",
      "<class 'pandas.core.frame.DataFrame'>\n",
      "RangeIndex: 108 entries, 0 to 107\n",
      "Data columns (total 6 columns):\n",
      " #   Column  Non-Null Count  Dtype  \n",
      "---  ------  --------------  -----  \n",
      " 0   f1      108 non-null    float32\n",
      " 1   f2      108 non-null    float32\n",
      " 2   f3      108 non-null    float32\n",
      " 3   f4      108 non-null    float32\n",
      " 4   f5      108 non-null    float32\n",
      " 5   label   108 non-null    float32\n",
      "dtypes: float32(6)\n",
      "memory usage: 2.7 KB\n",
      "None\n"
     ]
    }
   ],
   "source": [
    "# data loading\n",
    "DATA = os.path.join('c:\\\\Users\\\\AI-lab\\\\github_repo\\\\neural-network\\\\', 'dataset')\n",
    "GROUP = 3\n",
    "COLUMNS = ['f1', 'f2', 'f3', 'f4', 'f5', 'label']\n",
    "N_CLASS = 3\n",
    "EPOCHS = 200\n",
    "train_dir, test_dir = \"..//dataset//training_data{}.txt\".format(GROUP), \"..//dataset//testing_data{}.txt\".format(GROUP)\n",
    "train, test = get_data(DATA, train_dir, COLUMNS), get_data(DATA, test_dir, COLUMNS)\n",
    "# shuffle\n",
    "train, test = train.sample(frac=1), test.sample(frac=1)\n",
    "x_train, y_train = train.drop('label', axis=1), train['label']\n",
    "x_test, y_test = test.drop('label', axis=1), test['label']"
   ]
  },
  {
   "cell_type": "code",
   "execution_count": 7,
   "metadata": {},
   "outputs": [],
   "source": [
    "# data scaling and encoding\n",
    "scaler = StandardScaler(['f1', 'f2', 'f3', 'f4', 'f5'])\n",
    "scaler.fit(x_train)\n",
    "x_train = scaler.transform(x_train)\n",
    "x_test = scaler.transform(x_test)\n",
    "y_train = one_hot_encoding(y_train, N_CLASS)\n",
    "y_test = one_hot_encoding(y_test, N_CLASS)"
   ]
  },
  {
   "cell_type": "code",
   "execution_count": 8,
   "metadata": {
    "tags": [
     "outputPrepend"
    ]
   },
   "outputs": [
    {
     "name": "stdout",
     "output_type": "stream",
     "text": [
      "Checkpoint 10, Accuracy: 0.8827160493827161, Loss: 0.625151104397244\n",
      "Checkpoint 20, Accuracy: 0.9074074074074074, Loss: 0.5331739143089012\n",
      "Checkpoint 30, Accuracy: 0.9135802469135802, Loss: 0.5275887736567745\n",
      "Checkpoint 40, Accuracy: 0.9074074074074074, Loss: 0.47313026145652487\n",
      "Checkpoint 50, Accuracy: 0.9012345679012346, Loss: 0.4063328637017144\n",
      "Checkpoint 60, Accuracy: 0.9074074074074074, Loss: 0.4367568051373517\n",
      "Checkpoint 70, Accuracy: 0.9567901234567902, Loss: 0.28565940150508173\n",
      "Checkpoint 80, Accuracy: 0.9691358024691358, Loss: 0.27183610421639903\n",
      "Checkpoint 90, Accuracy: 0.9444444444444444, Loss: 0.2746857890376338\n",
      "Checkpoint 100, Accuracy: 0.9691358024691358, Loss: 0.23631102950484664\n",
      "Checkpoint 110, Accuracy: 0.9629629629629629, Loss: 0.22586774826049805\n",
      "Checkpoint 120, Accuracy: 0.9506172839506173, Loss: 0.22266613995587384\n",
      "Checkpoint 130, Accuracy: 0.9567901234567902, Loss: 0.18879593743218315\n",
      "Checkpoint 140, Accuracy: 0.9629629629629629, Loss: 0.1523354141800492\n",
      "Checkpoint 150, Accuracy: 0.9629629629629629, Loss: 0.14331610997517905\n",
      "Checkpoint 160, Accuracy: 0.9629629629629629, Loss: 0.13182136747572157\n",
      "Checkpoint 170, Accuracy: 0.9629629629629629, Loss: 0.11854206191168891\n",
      "Checkpoint 180, Accuracy: 0.9506172839506173, Loss: 0.14359811500266748\n",
      "Checkpoint 190, Accuracy: 0.9567901234567902, Loss: 0.12732760111490884\n",
      "Checkpoint 200, Accuracy: 0.9629629629629629, Loss: 0.1209147329683657\n"
     ]
    }
   ],
   "source": [
    "# learning phase\n",
    "breakpoint = 10\n",
    "checkpoints = list()\n",
    "history = list()\n",
    "for century in range(0, EPOCHS, breakpoint):\n",
    "    sub_history = model.fit(x_train, y_train, breakpoint, verbose = 0)\n",
    "    score = model.evaluate(x_test, y_test, False, verbose = 0)\n",
    "    print('Checkpoint {}, Accuracy: {}, Loss: {}'.format(century+breakpoint, score['accuracy'], score[model.loss_fn]))\n",
    "    score['checkpoint'] = century + breakpoint\n",
    "    checkpoints.append(score)\n",
    "    history.extend(sub_history)\n",
    "    itr = century + breakpoint\n",
    "    model.optimizer.c2 = np.max([model.optimizer.C2[1] - ((model.optimizer.C2[1] - model.optimizer.C2[0]) * itr / EPOCHS), model.optimizer.C2[0]])\n",
    "    model.optimizer.c1 = np.min([model.optimizer.C1[0] + ((model.optimizer.C1[1] - model.optimizer.C1[0]) * itr / EPOCHS), model.optimizer.C1[1]])\n",
    "    model.optimizer.w = np.max([model.optimizer.w * model.optimizer.W_Decay, model.optimizer.W[0]])"
   ]
  },
  {
   "cell_type": "code",
   "execution_count": 9,
   "metadata": {},
   "outputs": [],
   "source": [
    "import matplotlib.pyplot as plt\n",
    "\n",
    "def draw_plot(x, y_list, x_label=None, y_label=None, legend=None, title=None):\n",
    "    fig, ax = plt.subplots(figsize=(12,5))\n",
    "    for xi, yi in zip(x, y_list):\n",
    "        ax.plot(xi, yi)\n",
    "    if x_label is not None and y_label is not None:\n",
    "        ax.set(xlabel=x_label, ylabel=y_label, title='{} VS {}'.format(x_label, y_label))\n",
    "    if legend is not None:\n",
    "        ax.legend(legend)\n",
    "    ax.grid()\n",
    "    plt.show()"
   ]
  },
  {
   "cell_type": "code",
   "execution_count": 10,
   "metadata": {},
   "outputs": [],
   "source": [
    "train_acc = [h['accuracy'] for h in history]\n",
    "train_mse = [h['mean_square_error'] for h in history]\n",
    "train_cce = [h['categorical_crossentropy'] for h in history]"
   ]
  },
  {
   "cell_type": "code",
   "execution_count": 11,
   "metadata": {},
   "outputs": [
    {
     "data": {
      "image/png": "[encoded data removed]",
      "text/plain": [
       "<Figure size 864x360 with 1 Axes>"
      ]
     },
     "metadata": {
      "needs_background": "light"
     },
     "output_type": "display_data"
    },
    {
     "data": {
      "image/png": "[encoded data removed]",
      "text/plain": [
       "<Figure size 864x360 with 1 Axes>"
      ]
     },
     "metadata": {
      "needs_background": "light"
     },
     "output_type": "display_data"
    }
   ],
   "source": [
    "draw_plot(x = [[i for i in range(len(history))], [(i+1)*breakpoint for i in range(len(checkpoints))]], y_list = [train_cce, [ ckp[model.loss_fn] for ckp in checkpoints ]], x_label = 'Epochs', \\\n",
    "    y_label = model.loss_fn, legend=['train', 'test'])\n",
    "acc = [ ckp['accuracy'] for ckp in checkpoints ]\n",
    "draw_plot(x = [[i for i in range(len(history))], [(i+1)*breakpoint for i in range(len(checkpoints))]], y_list = [train_acc, acc], x_label = 'Checkpoints', \\\n",
    "    y_label = 'accuracy', legend=['train', 'test'])"
   ]
  },
  {
   "cell_type": "code",
   "execution_count": 12,
   "metadata": {},
   "outputs": [
    {
     "name": "stdout",
     "output_type": "stream",
     "text": [
      "[1. 0. 0.] <-> [0.11414804 0.8792647  0.00658731]\n",
      "[1. 0. 0.] <-> [0.99501944 0.00239678 0.00258375]\n",
      "[1. 0. 0.] <-> [0.99632734 0.0015117  0.00216092]\n",
      "[1. 0. 0.] <-> [0.22273214 0.00311935 0.77414846]\n",
      "[0. 1. 0.] <-> [0.01795867 0.98066324 0.00137804]\n",
      "[1. 0. 0.] <-> [0.9956535  0.00145367 0.00289281]\n",
      "[1. 0. 0.] <-> [0.9914908  0.00165858 0.00685063]\n",
      "[1. 0. 0.] <-> [0.988267   0.00195766 0.00977537]\n",
      "[1. 0. 0.] <-> [0.9958579  0.00139599 0.00274618]\n",
      "[0. 1. 0.] <-> [0.01571025 0.98300606 0.00128378]\n",
      "[1. 0. 0.] <-> [0.9905978  0.00408313 0.00531907]\n",
      "[1. 0. 0.] <-> [0.98538405 0.00211818 0.01249782]\n",
      "[0. 1. 0.] <-> [0.03014205 0.9675876  0.00227034]\n",
      "[1. 0. 0.] <-> [0.99293655 0.00154943 0.00551402]\n",
      "[0. 1. 0.] <-> [0.01570362 0.9829952  0.00130117]\n",
      "[0. 0. 1.] <-> [3.6197649e-03 1.6271281e-04 9.9621755e-01]\n",
      "[1. 0. 0.] <-> [0.9953252  0.00145848 0.00321629]\n",
      "[1. 0. 0.] <-> [0.9938844  0.00245103 0.00366461]\n",
      "[0. 1. 0.] <-> [0.01570389 0.9830057  0.00129046]\n",
      "[1. 0. 0.] <-> [0.99549073 0.00151653 0.00299273]\n",
      "[1. 0. 0.] <-> [0.9939201  0.00155095 0.00452891]\n",
      "[1. 0. 0.] <-> [0.9448861 0.0030081 0.0521058]\n",
      "[1. 0. 0.] <-> [0.9949409  0.0017348  0.00332427]\n",
      "[1. 0. 0.] <-> [0.9942226  0.002187   0.00359035]\n",
      "[1. 0. 0.] <-> [0.9723973  0.02109769 0.006505  ]\n",
      "[0. 1. 0.] <-> [0.04677388 0.950258   0.00296805]\n",
      "[0. 1. 0.] <-> [0.01570898 0.98300594 0.00128504]\n",
      "[1. 0. 0.] <-> [0.97227037 0.00246808 0.02526157]\n",
      "[1. 0. 0.] <-> [0.54661477 0.43570012 0.01768512]\n",
      "[0. 1. 0.] <-> [0.01778354 0.9807216  0.00149483]\n",
      "[1. 0. 0.] <-> [0.98272735 0.00398188 0.01329082]\n",
      "[0. 0. 1.] <-> [6.5338174e-03 2.6438336e-04 9.9320179e-01]\n",
      "[1. 0. 0.] <-> [0.9690369  0.02657414 0.00438901]\n",
      "[1. 0. 0.] <-> [0.99427336 0.00180698 0.00391967]\n",
      "[1. 0. 0.] <-> [0.9849208  0.00937639 0.00570283]\n",
      "[0. 1. 0.] <-> [0.10530613 0.8892868  0.00540701]\n",
      "[1. 0. 0.] <-> [0.991052   0.00169601 0.00725198]\n",
      "[0. 0. 1.] <-> [1.4822735e-02 4.9441971e-04 9.8468286e-01]\n",
      "[1. 0. 0.] <-> [0.994056   0.00150382 0.00444027]\n",
      "[0. 0. 1.] <-> [0.1300774 0.0024721 0.8674505]\n",
      "[1. 0. 0.] <-> [0.995587   0.00139925 0.00301368]\n",
      "[1. 0. 0.] <-> [0.9911624  0.00171799 0.00711965]\n",
      "[0. 0. 1.] <-> [0.03486986 0.00098008 0.9641501 ]\n",
      "[1. 0. 0.] <-> [0.98863167 0.00790233 0.00346602]\n",
      "[1. 0. 0.] <-> [0.9937224  0.00277766 0.00349995]\n",
      "[1. 0. 0.] <-> [0.99517584 0.00186265 0.00296142]\n",
      "[1. 0. 0.] <-> [0.98959774 0.00186567 0.00853666]\n",
      "[1. 0. 0.] <-> [0.9782599  0.00240916 0.01933084]\n",
      "[1. 0. 0.] <-> [0.99521834 0.00205237 0.00272924]\n",
      "[1. 0. 0.] <-> [0.98884684 0.00630299 0.00485015]\n",
      "[0. 0. 1.] <-> [3.6916155e-03 1.6561807e-04 9.9614280e-01]\n",
      "[1. 0. 0.] <-> [0.9942404  0.00288764 0.00287197]\n",
      "[0. 0. 1.] <-> [0.11174676 0.00239184 0.8858614 ]\n",
      "[1. 0. 0.] <-> [0.99646854 0.00117902 0.00235246]\n",
      "[1. 0. 0.] <-> [0.99430954 0.00295534 0.00273506]\n",
      "[1. 0. 0.] <-> [0.86219597 0.00352685 0.13427722]\n",
      "[1. 0. 0.] <-> [0.97972476 0.00385193 0.01642333]\n",
      "[0. 1. 0.] <-> [0.01570447 0.9830057  0.00128988]\n",
      "[0. 0. 1.] <-> [2.0563837e-02 6.6071784e-04 9.7877550e-01]\n",
      "[1. 0. 0.] <-> [0.98852926 0.00672441 0.00474637]\n",
      "[1. 0. 0.] <-> [0.9559704  0.00352153 0.04050807]\n",
      "[1. 0. 0.] <-> [0.9928209  0.00377468 0.00340442]\n",
      "[0. 1. 0.] <-> [0.0301141  0.9680944  0.00179148]\n",
      "[1. 0. 0.] <-> [0.22512826 0.767387   0.00748475]\n",
      "[0. 0. 1.] <-> [5.2400632e-03 2.2411138e-04 9.9453580e-01]\n",
      "[1. 0. 0.] <-> [0.30847806 0.6784149  0.01310709]\n",
      "[1. 0. 0.] <-> [0.98647124 0.00236298 0.01116575]\n",
      "[0. 1. 0.] <-> [0.01584973 0.98281    0.00134017]\n",
      "[1. 0. 0.] <-> [0.9964059  0.00117695 0.00241713]\n",
      "[0. 1. 0.] <-> [0.03896706 0.9581985  0.00283442]\n",
      "[1. 0. 0.] <-> [0.8958708  0.09574682 0.00838248]\n",
      "[1. 0. 0.] <-> [0.9923349  0.00209666 0.00556843]\n",
      "[1. 0. 0.] <-> [0.99080944 0.0021098  0.0070808 ]\n",
      "[1. 0. 0.] <-> [0.9917395  0.00168624 0.00657425]\n",
      "[1. 0. 0.] <-> [0.98379207 0.00780798 0.00839997]\n",
      "[1. 0. 0.] <-> [0.9919031  0.00498122 0.00311561]\n",
      "[1. 0. 0.] <-> [0.9936846  0.00239672 0.00391872]\n",
      "[1. 0. 0.] <-> [0.9945767  0.00153321 0.00389007]\n",
      "[1. 0. 0.] <-> [0.9953601  0.0019239  0.00271609]\n",
      "[0. 0. 1.] <-> [9.6834609e-03 3.5479994e-04 9.8996174e-01]\n",
      "[1. 0. 0.] <-> [0.8584408  0.00402182 0.13753733]\n",
      "[0. 1. 0.] <-> [0.01571005 0.98300606 0.00128389]\n",
      "[1. 0. 0.] <-> [0.9066765  0.0821998  0.01112376]\n",
      "[1. 0. 0.] <-> [0.99464476 0.00221864 0.0031367 ]\n",
      "[1. 0. 0.] <-> [0.7021418  0.2789198  0.01893837]\n",
      "[1. 0. 0.] <-> [0.9864406  0.00911996 0.00443946]\n",
      "[0. 1. 0.] <-> [0.01577682 0.98292476 0.0012984 ]\n",
      "[0. 0. 1.] <-> [3.6308351e-03 1.6315193e-04 9.9620605e-01]\n",
      "[0. 1. 0.] <-> [0.03821061 0.95904946 0.00273999]\n",
      "[1. 0. 0.] <-> [0.9947131  0.00155829 0.00372864]\n",
      "[1. 0. 0.] <-> [0.99476224 0.0021117  0.00312602]\n",
      "[1. 0. 0.] <-> [0.99553156 0.00203031 0.00243815]\n",
      "[0. 0. 1.] <-> [0.70046824 0.00543874 0.294093  ]\n",
      "[1. 0. 0.] <-> [0.97550756 0.01811988 0.00637256]\n",
      "[1. 0. 0.] <-> [0.99582577 0.00156531 0.00260889]\n",
      "[1. 0. 0.] <-> [0.99539894 0.0022244  0.00237667]\n",
      "[1. 0. 0.] <-> [0.989734   0.00541777 0.00484824]\n",
      "[1. 0. 0.] <-> [0.55785596 0.4295696  0.01257445]\n",
      "[0. 0. 1.] <-> [0.27174845 0.00460634 0.7236452 ]\n",
      "[1. 0. 0.] <-> [0.53611475 0.00380577 0.46007943]\n",
      "[0. 0. 1.] <-> [0.567236   0.00444344 0.4283206 ]\n",
      "[1. 0. 0.] <-> [0.99645436 0.00126665 0.00227906]\n",
      "[1. 0. 0.] <-> [0.9936546  0.00352018 0.00282527]\n",
      "[1. 0. 0.] <-> [0.99376607 0.00312662 0.00310727]\n",
      "[1. 0. 0.] <-> [0.92314565 0.06625199 0.01060232]\n",
      "[1. 0. 0.] <-> [0.9941982  0.00173566 0.00406605]\n",
      "[1. 0. 0.] <-> [0.9752235  0.02021657 0.00455998]\n",
      "[1. 0. 0.] <-> [0.9851597  0.00209663 0.0127437 ]\n",
      "{'accuracy': 0.9629629629629629, 'mean_square_error': 0.07685837631980597, 'categorical_crossentropy': 0.1209147329683657, 'essential_metrics': {0: {'tp_hit': 74, 'fp_hit': 2, 'tn_hit': 28, 'fn_hit': 4}, 1: {'tp_hit': 16, 'fp_hit': 3, 'tn_hit': 89, 'fn_hit': 0}, 2: {'tp_hit': 12, 'fp_hit': 1, 'tn_hit': 93, 'fn_hit': 2}}}\n"
     ]
    }
   ],
   "source": [
    "# recall phase\n",
    "score = model.evaluate(x_test, y_test, False)\n",
    "print(score)"
   ]
  },
  {
   "cell_type": "code",
   "execution_count": 13,
   "metadata": {},
   "outputs": [
    {
     "name": "stdout",
     "output_type": "stream",
     "text": [
      "{'accuracy': 0.8827160493827161, 'mean_square_error': 0.30293712524352034, 'categorical_crossentropy': 0.625151104397244, 'essential_metrics': {0: {'tp_hit': 73, 'fp_hit': 14, 'tn_hit': 16, 'fn_hit': 5}, 1: {'tp_hit': 16, 'fp_hit': 5, 'tn_hit': 87, 'fn_hit': 0}, 2: {'tp_hit': 0, 'fp_hit': 0, 'tn_hit': 94, 'fn_hit': 14}}, 'checkpoint': 10} \n",
      "\n",
      "\n",
      "{'accuracy': 0.9074074074074074, 'mean_square_error': 0.2717020758126878, 'categorical_crossentropy': 0.5331739143089012, 'essential_metrics': {0: {'tp_hit': 71, 'fp_hit': 8, 'tn_hit': 22, 'fn_hit': 7}, 1: {'tp_hit': 16, 'fp_hit': 7, 'tn_hit': 85, 'fn_hit': 0}, 2: {'tp_hit': 6, 'fp_hit': 0, 'tn_hit': 94, 'fn_hit': 8}}, 'checkpoint': 20} \n",
      "\n",
      "\n",
      "{'accuracy': 0.9135802469135802, 'mean_square_error': 0.2631526206589976, 'categorical_crossentropy': 0.5275887736567745, 'essential_metrics': {0: {'tp_hit': 72, 'fp_hit': 8, 'tn_hit': 22, 'fn_hit': 6}, 1: {'tp_hit': 14, 'fp_hit': 5, 'tn_hit': 87, 'fn_hit': 2}, 2: {'tp_hit': 8, 'fp_hit': 1, 'tn_hit': 93, 'fn_hit': 6}}, 'checkpoint': 30} \n",
      "\n",
      "\n",
      "{'accuracy': 0.9074074074074074, 'mean_square_error': 0.24360080204260579, 'categorical_crossentropy': 0.47313026145652487, 'essential_metrics': {0: {'tp_hit': 73, 'fp_hit': 10, 'tn_hit': 20, 'fn_hit': 5}, 1: {'tp_hit': 15, 'fp_hit': 5, 'tn_hit': 87, 'fn_hit': 1}, 2: {'tp_hit': 5, 'fp_hit': 0, 'tn_hit': 94, 'fn_hit': 9}}, 'checkpoint': 40} \n",
      "\n",
      "\n",
      "{'accuracy': 0.9012345679012346, 'mean_square_error': 0.20422001216270327, 'categorical_crossentropy': 0.4063328637017144, 'essential_metrics': {0: {'tp_hit': 76, 'fp_hit': 14, 'tn_hit': 16, 'fn_hit': 2}, 1: {'tp_hit': 13, 'fp_hit': 2, 'tn_hit': 90, 'fn_hit': 3}, 2: {'tp_hit': 3, 'fp_hit': 0, 'tn_hit': 94, 'fn_hit': 11}}, 'checkpoint': 50} \n",
      "\n",
      "\n",
      "{'accuracy': 0.9074074074074074, 'mean_square_error': 0.2543816096254066, 'categorical_crossentropy': 0.4367568051373517, 'essential_metrics': {0: {'tp_hit': 76, 'fp_hit': 13, 'tn_hit': 17, 'fn_hit': 2}, 1: {'tp_hit': 14, 'fp_hit': 2, 'tn_hit': 90, 'fn_hit': 2}, 2: {'tp_hit': 3, 'fp_hit': 0, 'tn_hit': 94, 'fn_hit': 11}}, 'checkpoint': 60} \n",
      "\n",
      "\n",
      "{'accuracy': 0.9567901234567902, 'mean_square_error': 0.13338924707492666, 'categorical_crossentropy': 0.28565940150508173, 'essential_metrics': {0: {'tp_hit': 78, 'fp_hit': 7, 'tn_hit': 23, 'fn_hit': 0}, 1: {'tp_hit': 14, 'fp_hit': 0, 'tn_hit': 92, 'fn_hit': 2}, 2: {'tp_hit': 9, 'fp_hit': 0, 'tn_hit': 94, 'fn_hit': 5}}, 'checkpoint': 70} \n",
      "\n",
      "\n",
      "{'accuracy': 0.9691358024691358, 'mean_square_error': 0.1254887936746671, 'categorical_crossentropy': 0.27183610421639903, 'essential_metrics': {0: {'tp_hit': 77, 'fp_hit': 4, 'tn_hit': 26, 'fn_hit': 1}, 1: {'tp_hit': 16, 'fp_hit': 1, 'tn_hit': 91, 'fn_hit': 0}, 2: {'tp_hit': 10, 'fp_hit': 0, 'tn_hit': 94, 'fn_hit': 4}}, 'checkpoint': 80} \n",
      "\n",
      "\n",
      "{'accuracy': 0.9444444444444444, 'mean_square_error': 0.13947872011316179, 'categorical_crossentropy': 0.2746857890376338, 'essential_metrics': {0: {'tp_hit': 77, 'fp_hit': 8, 'tn_hit': 22, 'fn_hit': 1}, 1: {'tp_hit': 14, 'fp_hit': 1, 'tn_hit': 91, 'fn_hit': 2}, 2: {'tp_hit': 8, 'fp_hit': 0, 'tn_hit': 94, 'fn_hit': 6}}, 'checkpoint': 90} \n",
      "\n",
      "\n",
      "{'accuracy': 0.9691358024691358, 'mean_square_error': 0.11301900210625136, 'categorical_crossentropy': 0.23631102950484664, 'essential_metrics': {0: {'tp_hit': 76, 'fp_hit': 3, 'tn_hit': 27, 'fn_hit': 2}, 1: {'tp_hit': 16, 'fp_hit': 1, 'tn_hit': 91, 'fn_hit': 0}, 2: {'tp_hit': 11, 'fp_hit': 1, 'tn_hit': 93, 'fn_hit': 3}}, 'checkpoint': 100} \n",
      "\n",
      "\n",
      "{'accuracy': 0.9629629629629629, 'mean_square_error': 0.10893690826989079, 'categorical_crossentropy': 0.22586774826049805, 'essential_metrics': {0: {'tp_hit': 76, 'fp_hit': 4, 'tn_hit': 26, 'fn_hit': 2}, 1: {'tp_hit': 16, 'fp_hit': 2, 'tn_hit': 90, 'fn_hit': 0}, 2: {'tp_hit': 10, 'fp_hit': 0, 'tn_hit': 94, 'fn_hit': 4}}, 'checkpoint': 110} \n",
      "\n",
      "\n",
      "{'accuracy': 0.9506172839506173, 'mean_square_error': 0.11227093829387386, 'categorical_crossentropy': 0.22266613995587384, 'essential_metrics': {0: {'tp_hit': 74, 'fp_hit': 4, 'tn_hit': 26, 'fn_hit': 4}, 1: {'tp_hit': 16, 'fp_hit': 3, 'tn_hit': 89, 'fn_hit': 0}, 2: {'tp_hit': 10, 'fp_hit': 1, 'tn_hit': 93, 'fn_hit': 4}}, 'checkpoint': 120} \n",
      "\n",
      "\n",
      "{'accuracy': 0.9567901234567902, 'mean_square_error': 0.1019029499999541, 'categorical_crossentropy': 0.18879593743218315, 'essential_metrics': {0: {'tp_hit': 74, 'fp_hit': 3, 'tn_hit': 27, 'fn_hit': 4}, 1: {'tp_hit': 16, 'fp_hit': 3, 'tn_hit': 89, 'fn_hit': 0}, 2: {'tp_hit': 11, 'fp_hit': 1, 'tn_hit': 93, 'fn_hit': 3}}, 'checkpoint': 130} \n",
      "\n",
      "\n",
      "{'accuracy': 0.9629629629629629, 'mean_square_error': 0.07987340369685317, 'categorical_crossentropy': 0.1523354141800492, 'essential_metrics': {0: {'tp_hit': 74, 'fp_hit': 2, 'tn_hit': 28, 'fn_hit': 4}, 1: {'tp_hit': 16, 'fp_hit': 3, 'tn_hit': 89, 'fn_hit': 0}, 2: {'tp_hit': 12, 'fp_hit': 1, 'tn_hit': 93, 'fn_hit': 2}}, 'checkpoint': 140} \n",
      "\n",
      "\n",
      "{'accuracy': 0.9629629629629629, 'mean_square_error': 0.07898979215138094, 'categorical_crossentropy': 0.14331610997517905, 'essential_metrics': {0: {'tp_hit': 74, 'fp_hit': 2, 'tn_hit': 28, 'fn_hit': 4}, 1: {'tp_hit': 16, 'fp_hit': 3, 'tn_hit': 89, 'fn_hit': 0}, 2: {'tp_hit': 12, 'fp_hit': 1, 'tn_hit': 93, 'fn_hit': 2}}, 'checkpoint': 150} \n",
      "\n",
      "\n",
      "{'accuracy': 0.9629629629629629, 'mean_square_error': 0.07599280506609588, 'categorical_crossentropy': 0.13182136747572157, 'essential_metrics': {0: {'tp_hit': 74, 'fp_hit': 2, 'tn_hit': 28, 'fn_hit': 4}, 1: {'tp_hit': 16, 'fp_hit': 3, 'tn_hit': 89, 'fn_hit': 0}, 2: {'tp_hit': 12, 'fp_hit': 1, 'tn_hit': 93, 'fn_hit': 2}}, 'checkpoint': 160} \n",
      "\n",
      "\n",
      "{'accuracy': 0.9629629629629629, 'mean_square_error': 0.06596985214915903, 'categorical_crossentropy': 0.11854206191168891, 'essential_metrics': {0: {'tp_hit': 74, 'fp_hit': 2, 'tn_hit': 28, 'fn_hit': 4}, 1: {'tp_hit': 16, 'fp_hit': 4, 'tn_hit': 88, 'fn_hit': 0}, 2: {'tp_hit': 12, 'fp_hit': 0, 'tn_hit': 94, 'fn_hit': 2}}, 'checkpoint': 170} \n",
      "\n",
      "\n",
      "{'accuracy': 0.9506172839506173, 'mean_square_error': 0.08850846050227622, 'categorical_crossentropy': 0.14359811500266748, 'essential_metrics': {0: {'tp_hit': 72, 'fp_hit': 2, 'tn_hit': 28, 'fn_hit': 6}, 1: {'tp_hit': 16, 'fp_hit': 5, 'tn_hit': 87, 'fn_hit': 0}, 2: {'tp_hit': 12, 'fp_hit': 1, 'tn_hit': 93, 'fn_hit': 2}}, 'checkpoint': 180} \n",
      "\n",
      "\n",
      "{'accuracy': 0.9567901234567902, 'mean_square_error': 0.07842511465643615, 'categorical_crossentropy': 0.12732760111490884, 'essential_metrics': {0: {'tp_hit': 73, 'fp_hit': 2, 'tn_hit': 28, 'fn_hit': 5}, 1: {'tp_hit': 16, 'fp_hit': 4, 'tn_hit': 88, 'fn_hit': 0}, 2: {'tp_hit': 12, 'fp_hit': 1, 'tn_hit': 93, 'fn_hit': 2}}, 'checkpoint': 190} \n",
      "\n",
      "\n",
      "{'accuracy': 0.9629629629629629, 'mean_square_error': 0.07685837631980597, 'categorical_crossentropy': 0.1209147329683657, 'essential_metrics': {0: {'tp_hit': 74, 'fp_hit': 2, 'tn_hit': 28, 'fn_hit': 4}, 1: {'tp_hit': 16, 'fp_hit': 3, 'tn_hit': 89, 'fn_hit': 0}, 2: {'tp_hit': 12, 'fp_hit': 1, 'tn_hit': 93, 'fn_hit': 2}}, 'checkpoint': 200} \n",
      "\n",
      "\n"
     ]
    }
   ],
   "source": [
    "for checkpoint in checkpoints:\n",
    "    print(checkpoint, '\\n\\n')"
   ]
  },
  {
   "cell_type": "code",
   "execution_count": 14,
   "metadata": {},
   "outputs": [
    {
     "name": "stdout",
     "output_type": "stream",
     "text": [
      "Layer 1\n",
      "Neuron 0: weights:\n",
      "[ 1.7125262 -2.9075198 -3.         1.3327231  3.       ]\n",
      " bias: 3.0\n",
      "\n",
      "Neuron 1: weights:\n",
      "[-0.94061154  2.5055318   3.          0.06868587 -3.        ]\n",
      " bias: -2.888913631439209\n",
      "\n",
      "Neuron 2: weights:\n",
      "[-0.2405091  -3.          0.966295    0.21301495  2.3420672 ]\n",
      " bias: -2.7388455867767334\n",
      "\n",
      "Neuron 3: weights:\n",
      "[ 0.06833762  3.          0.49496958 -0.20577307 -3.        ]\n",
      " bias: 3.0\n",
      "\n",
      "$\n",
      "Layer 2\n",
      "Neuron 0: weights:\n",
      "[ 3.        -2.0664055 -3.         3.       ]\n",
      " bias: -0.6856666803359985\n",
      "\n",
      "Neuron 1: weights:\n",
      "[-3.         3.        -2.5815248 -0.4094529]\n",
      " bias: 1.7936843633651733\n",
      "\n",
      "Neuron 2: weights:\n",
      "[-1.06807   -2.2566338  3.        -3.       ]\n",
      " bias: 3.0\n",
      "\n",
      "$\n",
      "\n"
     ]
    }
   ],
   "source": [
    "print(model)"
   ]
  }
 ],
 "metadata": {
  "kernelspec": {
   "display_name": "Python 3",
   "language": "python",
   "name": "python3"
  },
  "language_info": {
   "codemirror_mode": {
    "name": "ipython",
    "version": 3
   },
   "file_extension": ".py",
   "mimetype": "text/x-python",
   "name": "python",
   "nbconvert_exporter": "python",
   "pygments_lexer": "ipython3",
   "version": "3.6.12"
  }
 },
 "nbformat": 4,
 "nbformat_minor": 2
}
