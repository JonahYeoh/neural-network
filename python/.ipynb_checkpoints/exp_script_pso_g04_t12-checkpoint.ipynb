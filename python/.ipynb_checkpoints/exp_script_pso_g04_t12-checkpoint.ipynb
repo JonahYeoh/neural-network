{
 "cells": [
  {
   "cell_type": "code",
   "execution_count": 1,
   "metadata": {},
   "outputs": [],
   "source": [
    "# dependency\n",
    "import numpy as np\n",
    "import pandas as pd\n",
    "import copy\n",
    "import math\n",
    "import sys\n",
    "import os\n",
    "from activations import relu, leaky_relu, sigmoid, tanh, softmax, d_sigmoid, d_relu\n",
    "from initializers import glorot_uniform, random_normal, random_uniform\n",
    "from regularizers import l1_regularizer, l2_regularizer\n",
    "from utility import trim_tail, multiply, subtract, get_nparams, one_hot_encoding, get_data\n",
    "from metrics import MSE, CCE, ACC, PRECISION, RECALL, essential_metrics, wondering_penalty, close_gap_penalty\n",
    "from pso import PSO\n",
    "from ga import GA\n",
    "from nn import Network\n",
    "from layer import DenseLayer\n",
    "from scalers import MinMaxScaler, StandardScaler"
   ]
  },
  {
   "cell_type": "code",
   "execution_count": 2,
   "metadata": {},
   "outputs": [],
   "source": [
    "# reference\n",
    "metrics_fn_dict = dict()\n",
    "metrics_fn_dict['accuracy'] = ACC\n",
    "metrics_fn_dict['categorical_crossentropy'] = CCE\n",
    "metrics_fn_dict['mean_square_error'] = MSE\n",
    "metrics_fn_dict['precision'] = PRECISION\n",
    "metrics_fn_dict['recall'] = RECALL\n",
    "metrics_fn_dict['essential_metrics'] = essential_metrics"
   ]
  },
  {
   "cell_type": "code",
   "execution_count": 3,
   "metadata": {},
   "outputs": [],
   "source": [
    "# model\n",
    "model = Network(5, lr = None)\n",
    "model.add_layer(DenseLayer(1, 4, True, afn=sigmoid, dafn=None, rfn=None))\n",
    "model.add_layer(DenseLayer(2, 3, True, afn=softmax, dafn=None, rfn=None))"
   ]
  },
  {
   "cell_type": "code",
   "execution_count": 4,
   "metadata": {},
   "outputs": [
    {
     "name": "stdout",
     "output_type": "stream",
     "text": [
      "see one see two 2 2\n"
     ]
    }
   ],
   "source": [
    "pso = PSO(dict(m = 100,\n",
    "    weight_constraint = [-3, 3], \n",
    "    velocity_constraint = [-0.1, 0.1],\n",
    "    c1 = 2,\n",
    "    c2 = 2,\n",
    "    w = 1,\n",
    "    w_decay = 1,\n",
    "    scale_hyperparameter = False,\n",
    "    regularizer = None,\n",
    "    mask = True))"
   ]
  },
  {
   "cell_type": "code",
   "execution_count": 5,
   "metadata": {},
   "outputs": [
    {
     "name": "stdout",
     "output_type": "stream",
     "text": [
      "building layer 1 with 5\n",
      "24\n",
      "building layer 2 with 4\n",
      "15\n"
     ]
    }
   ],
   "source": [
    "model.compile(loss_fn = 'categorical_crossentropy', optimizer = pso, \\\n",
    "    metrics = ['accuracy', 'mean_square_error', 'categorical_crossentropy'])"
   ]
  },
  {
   "cell_type": "code",
   "execution_count": 6,
   "metadata": {},
   "outputs": [
    {
     "name": "stdout",
     "output_type": "stream",
     "text": [
      "<class 'pandas.core.frame.DataFrame'>\n",
      "RangeIndex: 107 entries, 0 to 106\n",
      "Data columns (total 6 columns):\n",
      " #   Column  Non-Null Count  Dtype  \n",
      "---  ------  --------------  -----  \n",
      " 0   f1      107 non-null    float32\n",
      " 1   f2      107 non-null    float32\n",
      " 2   f3      107 non-null    float32\n",
      " 3   f4      107 non-null    float32\n",
      " 4   f5      107 non-null    float32\n",
      " 5   label   107 non-null    float32\n",
      "dtypes: float32(6)\n",
      "memory usage: 2.6 KB\n",
      "None\n",
      "<class 'pandas.core.frame.DataFrame'>\n",
      "RangeIndex: 108 entries, 0 to 107\n",
      "Data columns (total 6 columns):\n",
      " #   Column  Non-Null Count  Dtype  \n",
      "---  ------  --------------  -----  \n",
      " 0   f1      108 non-null    float32\n",
      " 1   f2      108 non-null    float32\n",
      " 2   f3      108 non-null    float32\n",
      " 3   f4      108 non-null    float32\n",
      " 4   f5      108 non-null    float32\n",
      " 5   label   108 non-null    float32\n",
      "dtypes: float32(6)\n",
      "memory usage: 2.7 KB\n",
      "None\n"
     ]
    }
   ],
   "source": [
    "# data loading\n",
    "DATA = os.path.join('c:\\\\Users\\\\tcumi\\\\github_repo\\\\neural-network\\\\', 'dataset')\n",
    "GROUP = 4\n",
    "COLUMNS = ['f1', 'f2', 'f3', 'f4', 'f5', 'label']\n",
    "N_CLASS = 3\n",
    "EPOCHS = 500\n",
    "train_dir, test_dir = \"..//dataset//training_data{}.txt\".format(GROUP), \"..//dataset//testing_data{}.txt\".format(GROUP)\n",
    "train, test = get_data(DATA, train_dir, COLUMNS), get_data(DATA, test_dir, COLUMNS)\n",
    "# shuffle\n",
    "train, test = train.sample(frac=1), test.sample(frac=1)\n",
    "x_train, y_train = train.drop('label', axis=1), train['label']\n",
    "x_test, y_test = test.drop('label', axis=1), test['label']"
   ]
  },
  {
   "cell_type": "code",
   "execution_count": 7,
   "metadata": {},
   "outputs": [],
   "source": [
    "# data scaling and encoding\n",
    "scaler = StandardScaler(['f1', 'f2', 'f3', 'f4', 'f5'])\n",
    "scaler.fit(x_train)\n",
    "x_train = scaler.transform(x_train)\n",
    "x_test = scaler.transform(x_test)\n",
    "y_train = one_hot_encoding(y_train, N_CLASS)\n",
    "y_test = one_hot_encoding(y_test, N_CLASS)"
   ]
  },
  {
   "cell_type": "code",
   "execution_count": 8,
   "metadata": {
    "tags": [
     "outputPrepend"
    ]
   },
   "outputs": [
    {
     "name": "stdout",
     "output_type": "stream",
     "text": [
      "Checkpoint 100, Accuracy: 0.9629629629629629, Loss: 0.2184766310232657\n",
      "Checkpoint 200, Accuracy: 0.9506172839506173, Loss: 0.1840961420977557\n",
      "Checkpoint 300, Accuracy: 0.9567901234567902, Loss: 0.13517932538632993\n",
      "Checkpoint 400, Accuracy: 0.9506172839506173, Loss: 0.1268664730919732\n",
      "Checkpoint 500, Accuracy: 0.9506172839506173, Loss: 0.12725428298667626\n"
     ]
    }
   ],
   "source": [
    "# learning phase\n",
    "breakpoint = 100\n",
    "checkpoints = list()\n",
    "history = list()\n",
    "for century in range(0, EPOCHS, breakpoint):\n",
    "    sub_history = model.fit(x_train, y_train, breakpoint, verbose = 0)\n",
    "    score = model.evaluate(x_test, y_test, False, verbose = 0)\n",
    "    print('Checkpoint {}, Accuracy: {}, Loss: {}'.format(century+breakpoint, score['accuracy'], score[model.loss_fn]))\n",
    "    score['checkpoint'] = century + breakpoint\n",
    "    checkpoints.append(score)\n",
    "    history.extend(sub_history)"
   ]
  },
  {
   "cell_type": "code",
   "execution_count": 9,
   "metadata": {},
   "outputs": [],
   "source": [
    "import matplotlib.pyplot as plt\n",
    "\n",
    "def draw_plot(x, y_list, x_label=None, y_label=None, legend=None, title=None):\n",
    "    fig, ax = plt.subplots(figsize=(12,5))\n",
    "    for xi, yi in zip(x, y_list):\n",
    "        ax.plot(xi, yi)\n",
    "    if x_label is not None and y_label is not None:\n",
    "        ax.set(xlabel=x_label, ylabel=y_label, title='{} VS {}'.format(x_label, y_label))\n",
    "    if legend is not None:\n",
    "        ax.legend(legend)\n",
    "    ax.grid()\n",
    "    plt.show()"
   ]
  },
  {
   "cell_type": "code",
   "execution_count": 10,
   "metadata": {},
   "outputs": [
    {
     "name": "stdout",
     "output_type": "stream",
     "text": [
      "[1. 0. 0.] <-> [9.5031345e-01 9.2669972e-04 4.8759840e-02]\n",
      "[1. 0. 0.] <-> [0.9806126  0.00129611 0.01809129]\n",
      "[0. 1. 0.] <-> [3.9910164e-02 9.6000171e-01 8.8123430e-05]\n",
      "[1. 0. 0.] <-> [0.99472445 0.00102805 0.00424741]\n",
      "[0. 1. 0.] <-> [2.1663136e-03 9.9759346e-01 2.4019965e-04]\n",
      "[1. 0. 0.] <-> [0.9968919  0.00197111 0.00113706]\n",
      "[1. 0. 0.] <-> [9.9595946e-01 3.0834381e-03 9.5708389e-04]\n",
      "[0. 0. 1.] <-> [1.4688268e-01 3.8364282e-04 8.5273367e-01]\n",
      "[1. 0. 0.] <-> [0.99735284 0.00122437 0.00142274]\n",
      "[0. 0. 1.] <-> [1.2367895e-02 6.6027809e-05 9.8756599e-01]\n",
      "[0. 1. 0.] <-> [5.3437473e-03 9.9461824e-01 3.8099271e-05]\n",
      "[1. 0. 0.] <-> [0.9460649  0.00246749 0.05146758]\n",
      "[0. 1. 0.] <-> [1.3158970e-01 8.6816180e-01 2.4847966e-04]\n",
      "[1. 0. 0.] <-> [0.6369018  0.36147824 0.00161994]\n",
      "[1. 0. 0.] <-> [9.9782038e-01 1.3241139e-03 8.5551699e-04]\n",
      "[1. 0. 0.] <-> [0.47071403 0.00200932 0.5272767 ]\n",
      "[0. 0. 1.] <-> [1.4784361e-02 7.6869437e-05 9.8513871e-01]\n",
      "[1. 0. 0.] <-> [0.997017   0.001608   0.00137504]\n",
      "[1. 0. 0.] <-> [9.9802279e-01 1.0530354e-03 9.2413381e-04]\n",
      "[0. 1. 0.] <-> [7.2171283e-03 9.9276274e-01 2.0143514e-05]\n",
      "[1. 0. 0.] <-> [0.99652404 0.00106834 0.00240757]\n",
      "[1. 0. 0.] <-> [0.74046457 0.2584586  0.00107685]\n",
      "[1. 0. 0.] <-> [0.9976057  0.0010365  0.00135779]\n",
      "[1. 0. 0.] <-> [0.99706405 0.00155967 0.00137622]\n",
      "[1. 0. 0.] <-> [0.99766856 0.00102588 0.00130547]\n",
      "[1. 0. 0.] <-> [9.9739218e-01 1.6791968e-03 9.2863449e-04]\n",
      "[1. 0. 0.] <-> [9.972480e-01 1.823915e-03 9.281302e-04]\n",
      "[1. 0. 0.] <-> [0.99134433 0.00155353 0.0071021 ]\n",
      "[1. 0. 0.] <-> [0.98785377 0.01084582 0.00130048]\n",
      "[0. 0. 1.] <-> [1.3543943e-02 7.3743504e-05 9.8638225e-01]\n",
      "[0. 0. 1.] <-> [8.0959070e-03 4.8911013e-05 9.9185514e-01]\n",
      "[1. 0. 0.] <-> [0.9967     0.00132965 0.00197035]\n",
      "[1. 0. 0.] <-> [0.6269008  0.37142935 0.00166992]\n",
      "[1. 0. 0.] <-> [0.9974521  0.00100564 0.00154236]\n",
      "[1. 0. 0.] <-> [0.9975061  0.00101748 0.00147637]\n",
      "[0. 0. 1.] <-> [8.0966810e-03 4.8915223e-05 9.9185443e-01]\n",
      "[1. 0. 0.] <-> [0.9952284  0.00168149 0.00309013]\n",
      "[0. 0. 1.] <-> [0.5222052  0.00066054 0.47713426]\n",
      "[1. 0. 0.] <-> [0.9599473  0.00193905 0.03811363]\n",
      "[1. 0. 0.] <-> [9.9798334e-01 9.1655977e-04 1.1001067e-03]\n",
      "[1. 0. 0.] <-> [0.7707484  0.00217813 0.22707346]\n",
      "[1. 0. 0.] <-> [0.9971432  0.00181747 0.00103933]\n",
      "[0. 1. 0.] <-> [4.9172216e-03 9.9503833e-01 4.4532873e-05]\n",
      "[1. 0. 0.] <-> [0.9976204  0.00133986 0.00103974]\n",
      "[0. 0. 1.] <-> [8.284306e-03 4.993118e-05 9.916658e-01]\n",
      "[1. 0. 0.] <-> [0.98503184 0.013695   0.0012731 ]\n",
      "[1. 0. 0.] <-> [0.99752027 0.00135784 0.00112187]\n",
      "[1. 0. 0.] <-> [0.38703275 0.6112188  0.00174849]\n",
      "[1. 0. 0.] <-> [0.9974956  0.00145208 0.00105241]\n",
      "[0. 0. 1.] <-> [0.6109094  0.00138813 0.38770247]\n",
      "[0. 1. 0.] <-> [1.8504581e-03 9.9781764e-01 3.3188879e-04]\n",
      "[0. 1. 0.] <-> [1.6903352e-02 9.8303264e-01 6.3948115e-05]\n",
      "[1. 0. 0.] <-> [9.8996615e-01 9.7021490e-04 9.0637011e-03]\n",
      "[1. 0. 0.] <-> [0.9943751  0.00458209 0.00104279]\n",
      "[1. 0. 0.] <-> [0.9977337  0.0011388  0.00112738]\n",
      "[0. 0. 1.] <-> [8.6154593e-03 5.1043586e-05 9.9133354e-01]\n",
      "[1. 0. 0.] <-> [9.9779034e-01 1.2693043e-03 9.4034779e-04]\n",
      "[1. 0. 0.] <-> [0.9949121  0.00116423 0.00392368]\n",
      "[0. 1. 0.] <-> [1.3911960e-01 8.6063921e-01 2.4116236e-04]\n",
      "[1. 0. 0.] <-> [0.964509   0.0342889  0.00120214]\n",
      "[1. 0. 0.] <-> [0.9962674  0.00201883 0.00171373]\n",
      "[1. 0. 0.] <-> [0.98779374 0.00369345 0.00851283]\n",
      "[1. 0. 0.] <-> [0.9939487  0.00439429 0.00165708]\n",
      "[1. 0. 0.] <-> [9.917366e-01 9.079126e-04 7.355457e-03]\n",
      "[1. 0. 0.] <-> [9.9683750e-01 2.2802814e-03 8.8217005e-04]\n",
      "[1. 0. 0.] <-> [9.9776685e-01 8.7190041e-04 1.3613516e-03]\n",
      "[1. 0. 0.] <-> [0.98116827 0.0177798  0.001052  ]\n",
      "[0. 1. 0.] <-> [1.40958605e-02 9.85869169e-01 3.50110895e-05]\n",
      "[1. 0. 0.] <-> [0.99614173 0.00101387 0.00284441]\n",
      "[0. 1. 0.] <-> [1.4914741e-02 9.8504722e-01 3.8057220e-05]\n",
      "[1. 0. 0.] <-> [0.9950879  0.00302295 0.00188921]\n",
      "[1. 0. 0.] <-> [9.8091722e-01 9.3186850e-04 1.8150967e-02]\n",
      "[1. 0. 0.] <-> [0.9347454  0.06409703 0.00115756]\n",
      "[0. 0. 1.] <-> [2.3228444e-02 1.0133839e-04 9.7667027e-01]\n",
      "[0. 0. 1.] <-> [8.0971289e-03 4.8922804e-05 9.9185395e-01]\n",
      "[1. 0. 0.] <-> [0.9723674  0.00761462 0.02001801]\n",
      "[0. 1. 0.] <-> [6.8669962e-03 9.9311066e-01 2.2326254e-05]\n",
      "[1. 0. 0.] <-> [0.9956377  0.00284268 0.00151962]\n",
      "[0. 1. 0.] <-> [7.0211007e-03 9.9294758e-01 3.1216485e-05]\n",
      "[1. 0. 0.] <-> [0.9976574  0.00100213 0.00134041]\n",
      "[1. 0. 0.] <-> [9.8708111e-01 9.4436214e-04 1.1974531e-02]\n",
      "[0. 1. 0.] <-> [1.7429553e-02 9.8252684e-01 4.3628726e-05]\n",
      "[1. 0. 0.] <-> [0.95931387 0.01441759 0.02626853]\n",
      "[1. 0. 0.] <-> [8.5970700e-02 9.1382247e-01 2.0682838e-04]\n",
      "[1. 0. 0.] <-> [3.0513039e-01 6.9434988e-01 5.1972293e-04]\n",
      "[1. 0. 0.] <-> [9.9495995e-01 9.3186978e-04 4.1080751e-03]\n",
      "[1. 0. 0.] <-> [0.99700975 0.00113963 0.00185055]\n",
      "[1. 0. 0.] <-> [9.9310368e-01 9.1029028e-04 5.9860377e-03]\n",
      "[1. 0. 0.] <-> [0.99730587 0.00136982 0.00132429]\n",
      "[1. 0. 0.] <-> [9.9729198e-01 8.8758947e-04 1.8203835e-03]\n",
      "[1. 0. 0.] <-> [0.99456537 0.00430335 0.00113135]\n",
      "[1. 0. 0.] <-> [0.9971631  0.00119472 0.00164212]\n",
      "[1. 0. 0.] <-> [0.9925921  0.00596018 0.00144772]\n",
      "[0. 0. 1.] <-> [0.7967021  0.0008866  0.20241132]\n",
      "[1. 0. 0.] <-> [1.15085244e-01 4.23667458e-04 8.84491086e-01]\n",
      "[1. 0. 0.] <-> [9.9755883e-01 1.5331125e-03 9.0805674e-04]\n",
      "[1. 0. 0.] <-> [0.98841804 0.00232964 0.00925241]\n",
      "[0. 1. 0.] <-> [4.5865318e-03 9.9536210e-01 5.1366198e-05]\n",
      "[1. 0. 0.] <-> [9.9629396e-01 2.7508636e-03 9.5517369e-04]\n",
      "[1. 0. 0.] <-> [9.9574190e-01 3.4062862e-03 8.5181888e-04]\n",
      "[0. 1. 0.] <-> [6.5415469e-03 9.9343359e-01 2.4928262e-05]\n",
      "[1. 0. 0.] <-> [0.895596   0.00127769 0.10312632]\n",
      "[1. 0. 0.] <-> [0.99494666 0.00153075 0.00352257]\n",
      "[0. 0. 1.] <-> [1.22379055e-02 6.57509081e-05 9.87696350e-01]\n",
      "[1. 0. 0.] <-> [9.9699926e-01 9.8396721e-04 2.0168410e-03]\n",
      "[1. 0. 0.] <-> [0.9978503  0.00103377 0.00111592]\n",
      "[1. 0. 0.] <-> [9.9763966e-01 1.4261507e-03 9.3421602e-04]\n",
      "[1. 0. 0.] <-> [9.9702567e-01 2.0427469e-03 9.3153416e-04]\n",
      "{'accuracy': 0.9506172839506173, 'mean_square_error': 0.08362731890906527, 'categorical_crossentropy': 0.12725428298667626, 'essential_metrics': {0: {'tp_hit': 73, 'fp_hit': 3, 'tn_hit': 27, 'fn_hit': 5}, 1: {'tp_hit': 16, 'fp_hit': 3, 'tn_hit': 89, 'fn_hit': 0}, 2: {'tp_hit': 11, 'fp_hit': 2, 'tn_hit': 92, 'fn_hit': 3}}}\n"
     ]
    }
   ],
   "source": [
    "# recall phase\n",
    "score = model.evaluate(x_test, y_test, False)\n",
    "print(score)"
   ]
  },
  {
   "cell_type": "code",
   "execution_count": 11,
   "metadata": {},
   "outputs": [
    {
     "data": {
      "image/png": "[encoded data removed]",
      "text/plain": [
       "<Figure size 864x360 with 1 Axes>"
      ]
     },
     "metadata": {
      "needs_background": "light"
     },
     "output_type": "display_data"
    },
    {
     "data": {
      "image/png": "[encoded data removed]",
      "text/plain": [
       "<Figure size 864x360 with 1 Axes>"
      ]
     },
     "metadata": {
      "needs_background": "light"
     },
     "output_type": "display_data"
    }
   ],
   "source": [
    "draw_plot(x = [[i for i in range(len(history))], [(i+1)*breakpoint for i in range(len(checkpoints))]], y_list = [history, [ ckp[model.loss_fn] for ckp in checkpoints ]], x_label = 'Epochs', \\\n",
    "    y_label = model.loss_fn, legend=['train', 'test'])\n",
    "acc = [ ckp['accuracy'] for ckp in checkpoints ]\n",
    "draw_plot(x = [[(i+1)*breakpoint for i in range(len(checkpoints))]], y_list = [acc], x_label = 'Checkpoints', \\\n",
    "    y_label = 'accuracy')"
   ]
  },
  {
   "cell_type": "code",
   "execution_count": 12,
   "metadata": {},
   "outputs": [
    {
     "name": "stdout",
     "output_type": "stream",
     "text": [
      "{'accuracy': 0.9629629629629629, 'mean_square_error': 0.10977137449004558, 'categorical_crossentropy': 0.2184766310232657, 'essential_metrics': {0: {'tp_hit': 77, 'fp_hit': 5, 'tn_hit': 25, 'fn_hit': 1}, 1: {'tp_hit': 13, 'fp_hit': 0, 'tn_hit': 92, 'fn_hit': 3}, 2: {'tp_hit': 12, 'fp_hit': 1, 'tn_hit': 93, 'fn_hit': 2}}, 'checkpoint': 100} \n",
      "\n",
      "\n",
      "{'accuracy': 0.9506172839506173, 'mean_square_error': 0.10388909615913883, 'categorical_crossentropy': 0.1840961420977557, 'essential_metrics': {0: {'tp_hit': 73, 'fp_hit': 3, 'tn_hit': 27, 'fn_hit': 5}, 1: {'tp_hit': 15, 'fp_hit': 3, 'tn_hit': 89, 'fn_hit': 1}, 2: {'tp_hit': 12, 'fp_hit': 2, 'tn_hit': 92, 'fn_hit': 2}}, 'checkpoint': 200} \n",
      "\n",
      "\n",
      "{'accuracy': 0.9567901234567902, 'mean_square_error': 0.08710203924941293, 'categorical_crossentropy': 0.13517932538632993, 'essential_metrics': {0: {'tp_hit': 73, 'fp_hit': 2, 'tn_hit': 28, 'fn_hit': 5}, 1: {'tp_hit': 16, 'fp_hit': 3, 'tn_hit': 89, 'fn_hit': 0}, 2: {'tp_hit': 12, 'fp_hit': 2, 'tn_hit': 92, 'fn_hit': 2}}, 'checkpoint': 300} \n",
      "\n",
      "\n",
      "{'accuracy': 0.9506172839506173, 'mean_square_error': 0.0837592591382761, 'categorical_crossentropy': 0.1268664730919732, 'essential_metrics': {0: {'tp_hit': 73, 'fp_hit': 3, 'tn_hit': 27, 'fn_hit': 5}, 1: {'tp_hit': 16, 'fp_hit': 3, 'tn_hit': 89, 'fn_hit': 0}, 2: {'tp_hit': 11, 'fp_hit': 2, 'tn_hit': 92, 'fn_hit': 3}}, 'checkpoint': 400} \n",
      "\n",
      "\n",
      "{'accuracy': 0.9506172839506173, 'mean_square_error': 0.08362731890906527, 'categorical_crossentropy': 0.12725428298667626, 'essential_metrics': {0: {'tp_hit': 73, 'fp_hit': 3, 'tn_hit': 27, 'fn_hit': 5}, 1: {'tp_hit': 16, 'fp_hit': 3, 'tn_hit': 89, 'fn_hit': 0}, 2: {'tp_hit': 11, 'fp_hit': 2, 'tn_hit': 92, 'fn_hit': 3}}, 'checkpoint': 500} \n",
      "\n",
      "\n"
     ]
    }
   ],
   "source": [
    "for checkpoint in checkpoints:\n",
    "    print(checkpoint, '\\n\\n')"
   ]
  },
  {
   "cell_type": "code",
   "execution_count": 13,
   "metadata": {},
   "outputs": [
    {
     "name": "stdout",
     "output_type": "stream",
     "text": [
      "Layer 1\n",
      "Neuron 0: weights:\n",
      "[ 2.1041973 -3.        -3.         1.1385498  0.9749399]\n",
      " bias: 3.0\n",
      "\n",
      "Neuron 1: weights:\n",
      "[ 1.8173639 -3.        -3.        -0.5943699  3.       ]\n",
      " bias: 3.0\n",
      "\n",
      "Neuron 2: weights:\n",
      "[-0.7977077 -3.         3.         3.         3.       ]\n",
      " bias: -1.2418752908706665\n",
      "\n",
      "Neuron 3: weights:\n",
      "[-0.4454089  3.         2.037005  -0.4199615 -3.       ]\n",
      " bias: 3.0\n",
      "\n",
      "$\n",
      "Layer 2\n",
      "Neuron 0: weights:\n",
      "[ 3.  3. -3.  3.]\n",
      " bias: -1.9219383001327515\n",
      "\n",
      "Neuron 1: weights:\n",
      "[-3.        -3.        -1.0310515  3.       ]\n",
      " bias: 3.0\n",
      "\n",
      "Neuron 2: weights:\n",
      "[ 1.6959368  3.         3.        -3.       ]\n",
      " bias: -1.8096567392349243\n",
      "\n",
      "$\n",
      "\n"
     ]
    }
   ],
   "source": [
    "print(model)"
   ]
  }
 ],
 "metadata": {
  "kernelspec": {
   "display_name": "Python 3",
   "language": "python",
   "name": "python3"
  },
  "language_info": {
   "codemirror_mode": {
    "name": "ipython",
    "version": 3
   },
   "file_extension": ".py",
   "mimetype": "text/x-python",
   "name": "python",
   "nbconvert_exporter": "python",
   "pygments_lexer": "ipython3",
   "version": "3.6.10"
  }
 },
 "nbformat": 4,
 "nbformat_minor": 2
}
