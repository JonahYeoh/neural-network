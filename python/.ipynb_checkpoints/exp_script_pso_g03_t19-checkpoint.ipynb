{
 "cells": [
  {
   "cell_type": "code",
   "execution_count": 1,
   "metadata": {},
   "outputs": [],
   "source": [
    "# dependency\n",
    "import numpy as np\n",
    "import pandas as pd\n",
    "import copy\n",
    "import math\n",
    "import sys\n",
    "import os\n",
    "from activations import relu, leaky_relu, sigmoid, tanh, softmax, d_sigmoid, d_relu\n",
    "from initializers import glorot_uniform, random_normal, random_uniform\n",
    "from regularizers import l1_regularizer, l2_regularizer\n",
    "from utility import trim_tail, multiply, subtract, get_nparams, one_hot_encoding, get_data\n",
    "from metrics import MSE, CCE, ACC, PRECISION, RECALL, essential_metrics, wondering_penalty, close_gap_penalty\n",
    "from pso import PSO\n",
    "from ga import GA\n",
    "from nn import Network\n",
    "from layer import DenseLayer\n",
    "from scalers import MinMaxScaler, StandardScaler"
   ]
  },
  {
   "cell_type": "code",
   "execution_count": 2,
   "metadata": {},
   "outputs": [],
   "source": [
    "# reference\n",
    "metrics_fn_dict = dict()\n",
    "metrics_fn_dict['accuracy'] = ACC\n",
    "metrics_fn_dict['categorical_crossentropy'] = CCE\n",
    "metrics_fn_dict['mean_square_error'] = MSE\n",
    "metrics_fn_dict['precision'] = PRECISION\n",
    "metrics_fn_dict['recall'] = RECALL\n",
    "metrics_fn_dict['essential_metrics'] = essential_metrics"
   ]
  },
  {
   "cell_type": "code",
   "execution_count": 3,
   "metadata": {},
   "outputs": [],
   "source": [
    "# model\n",
    "model = Network(5, lr = None)\n",
    "model.add_layer(DenseLayer(1, 4, True, afn=sigmoid, dafn=None, rfn=None))\n",
    "model.add_layer(DenseLayer(2, 3, True, afn=softmax, dafn=None, rfn=None))"
   ]
  },
  {
   "cell_type": "code",
   "execution_count": 4,
   "metadata": {},
   "outputs": [
    {
     "name": "stdout",
     "output_type": "stream",
     "text": [
      "see one see two 2 0.5\n"
     ]
    }
   ],
   "source": [
    "pso = PSO(dict(m = 200,\n",
    "    weight_constraint = [-3, 3], \n",
    "    velocity_constraint = [-0.1, 0.1],\n",
    "    c1 = [0.5, 2],\n",
    "    c2 = [0.5, 2],\n",
    "    w = [0.5, 1.6],\n",
    "    w_decay = 0.95,\n",
    "    scale_hyperparameter = False,\n",
    "    regularizer = None,\n",
    "    mask = True))"
   ]
  },
  {
   "cell_type": "code",
   "execution_count": 5,
   "metadata": {},
   "outputs": [
    {
     "name": "stdout",
     "output_type": "stream",
     "text": [
      "building layer 1 with 5\n",
      "24\n",
      "building layer 2 with 4\n",
      "15\n"
     ]
    }
   ],
   "source": [
    "model.compile(loss_fn = 'categorical_crossentropy', optimizer = pso, \\\n",
    "    metrics = ['accuracy', 'mean_square_error', 'categorical_crossentropy'])"
   ]
  },
  {
   "cell_type": "code",
   "execution_count": 6,
   "metadata": {},
   "outputs": [
    {
     "name": "stdout",
     "output_type": "stream",
     "text": [
      "<class 'pandas.core.frame.DataFrame'>\n",
      "RangeIndex: 107 entries, 0 to 106\n",
      "Data columns (total 6 columns):\n",
      " #   Column  Non-Null Count  Dtype  \n",
      "---  ------  --------------  -----  \n",
      " 0   f1      107 non-null    float32\n",
      " 1   f2      107 non-null    float32\n",
      " 2   f3      107 non-null    float32\n",
      " 3   f4      107 non-null    float32\n",
      " 4   f5      107 non-null    float32\n",
      " 5   label   107 non-null    float32\n",
      "dtypes: float32(6)\n",
      "memory usage: 2.6 KB\n",
      "None\n",
      "<class 'pandas.core.frame.DataFrame'>\n",
      "RangeIndex: 108 entries, 0 to 107\n",
      "Data columns (total 6 columns):\n",
      " #   Column  Non-Null Count  Dtype  \n",
      "---  ------  --------------  -----  \n",
      " 0   f1      108 non-null    float32\n",
      " 1   f2      108 non-null    float32\n",
      " 2   f3      108 non-null    float32\n",
      " 3   f4      108 non-null    float32\n",
      " 4   f5      108 non-null    float32\n",
      " 5   label   108 non-null    float32\n",
      "dtypes: float32(6)\n",
      "memory usage: 2.7 KB\n",
      "None\n"
     ]
    }
   ],
   "source": [
    "# data loading\n",
    "DATA = os.path.join('c:\\\\Users\\\\Ai-lab\\\\github_repo\\\\neural-network\\\\', 'dataset')\n",
    "GROUP = 3\n",
    "COLUMNS = ['f1', 'f2', 'f3', 'f4', 'f5', 'label']\n",
    "N_CLASS = 3\n",
    "EPOCHS = 500\n",
    "train_dir, test_dir = \"..//dataset//training_data{}.txt\".format(GROUP), \"..//dataset//testing_data{}.txt\".format(GROUP)\n",
    "train, test = get_data(DATA, train_dir, COLUMNS), get_data(DATA, test_dir, COLUMNS)\n",
    "# shuffle\n",
    "train, test = train.sample(frac=1), test.sample(frac=1)\n",
    "x_train, y_train = train.drop('label', axis=1), train['label']\n",
    "x_test, y_test = test.drop('label', axis=1), test['label']"
   ]
  },
  {
   "cell_type": "code",
   "execution_count": 7,
   "metadata": {},
   "outputs": [],
   "source": [
    "# data scaling and encoding\n",
    "scaler = StandardScaler(['f1', 'f2', 'f3', 'f4', 'f5'])\n",
    "scaler.fit(x_train)\n",
    "x_train = scaler.transform(x_train)\n",
    "x_test = scaler.transform(x_test)\n",
    "y_train = one_hot_encoding(y_train, N_CLASS)\n",
    "y_test = one_hot_encoding(y_test, N_CLASS)"
   ]
  },
  {
   "cell_type": "code",
   "execution_count": 8,
   "metadata": {
    "tags": [
     "outputPrepend"
    ]
   },
   "outputs": [
    {
     "name": "stdout",
     "output_type": "stream",
     "text": [
      "Checkpoint 100, Accuracy: 0.9567901234567902, Loss: 0.2212688481366193\n",
      "Checkpoint 200, Accuracy: 0.9629629629629629, Loss: 0.10748764320656105\n",
      "Checkpoint 300, Accuracy: 0.9629629629629629, Loss: 0.10654742629439742\n",
      "Checkpoint 400, Accuracy: 0.9691358024691358, Loss: 0.10415410995483398\n",
      "Checkpoint 500, Accuracy: 0.9691358024691358, Loss: 0.10497521471094202\n"
     ]
    }
   ],
   "source": [
    "# learning phase\n",
    "breakpoint = 100\n",
    "checkpoints = list()\n",
    "history = list()\n",
    "for century in range(0, EPOCHS, breakpoint):\n",
    "    sub_history = model.fit(x_train, y_train, breakpoint, verbose = 0)\n",
    "    score = model.evaluate(x_test, y_test, False, verbose = 0)\n",
    "    print('Checkpoint {}, Accuracy: {}, Loss: {}'.format(century+breakpoint, score['accuracy'], score[model.loss_fn]))\n",
    "    score['checkpoint'] = century + breakpoint\n",
    "    checkpoints.append(score)\n",
    "    history.extend(sub_history)\n",
    "    itr = century + breakpoint\n",
    "    model.optimizer.c2 = np.max([model.optimizer.C2[1] - ((model.optimizer.C2[1] - model.optimizer.C2[0]) * itr / EPOCHS), model.optimizer.C2[0]])\n",
    "    model.optimizer.c1 = np.min([model.optimizer.C1[0] + ((model.optimizer.C1[1] - model.optimizer.C1[0]) * itr / EPOCHS), model.optimizer.C1[1]])\n",
    "    model.optimizer.w = np.max([model.optimizer.w * model.optimizer.W_Decay, model.optimizer.W[0]])"
   ]
  },
  {
   "cell_type": "code",
   "execution_count": 9,
   "metadata": {},
   "outputs": [],
   "source": [
    "train_acc = [h['accuracy'] for h in history]\n",
    "train_mse = [h['mean_square_error'] for h in history]\n",
    "train_cce = [h['categorical_crossentropy'] for h in history]"
   ]
  },
  {
   "cell_type": "code",
   "execution_count": 10,
   "metadata": {},
   "outputs": [],
   "source": [
    "import matplotlib.pyplot as plt\n",
    "\n",
    "def draw_plot(x, y_list, x_label=None, y_label=None, legend=None, title=None):\n",
    "    fig, ax = plt.subplots(figsize=(12,5))\n",
    "    for xi, yi in zip(x, y_list):\n",
    "        ax.plot(xi, yi)\n",
    "    if x_label is not None and y_label is not None:\n",
    "        ax.set(xlabel=x_label, ylabel=y_label, title='{} VS {}'.format(x_label, y_label))\n",
    "    if legend is not None:\n",
    "        ax.legend(legend)\n",
    "    ax.grid()\n",
    "    plt.show()"
   ]
  },
  {
   "cell_type": "code",
   "execution_count": 11,
   "metadata": {},
   "outputs": [
    {
     "data": {
      "image/png": "[encoded data removed]",
      "text/plain": [
       "<Figure size 864x360 with 1 Axes>"
      ]
     },
     "metadata": {
      "needs_background": "light"
     },
     "output_type": "display_data"
    },
    {
     "data": {
      "image/png": "[encoded data removed]",
      "text/plain": [
       "<Figure size 864x360 with 1 Axes>"
      ]
     },
     "metadata": {
      "needs_background": "light"
     },
     "output_type": "display_data"
    }
   ],
   "source": [
    "draw_plot(x = [[i for i in range(len(history))], [(i+1)*breakpoint for i in range(len(checkpoints))]], y_list = [train_cce, [ ckp[model.loss_fn] for ckp in checkpoints ]], x_label = 'Epochs', \\\n",
    "    y_label = model.loss_fn, legend=['train', 'test'])\n",
    "acc = [ ckp['accuracy'] for ckp in checkpoints ]\n",
    "draw_plot(x = [[i for i in range(len(history))], [(i+1)*breakpoint for i in range(len(checkpoints))]], y_list = [train_acc, acc], x_label = 'Checkpoints', \\\n",
    "    y_label = 'accuracy', legend=['train', 'test'])"
   ]
  },
  {
   "cell_type": "code",
   "execution_count": 12,
   "metadata": {},
   "outputs": [
    {
     "name": "stdout",
     "output_type": "stream",
     "text": [
      "[1. 0. 0.] <-> [0.98536795 0.00616217 0.00846982]\n",
      "[1. 0. 0.] <-> [0.99712604 0.00157664 0.00129733]\n",
      "[1. 0. 0.] <-> [0.9795543  0.01930916 0.00113659]\n",
      "[0. 1. 0.] <-> [5.9966198e-03 9.9399722e-01 6.1074816e-06]\n",
      "[0. 1. 0.] <-> [6.0186246e-03 9.9397522e-01 6.1539085e-06]\n",
      "[0. 1. 0.] <-> [6.882355e-03 9.931104e-01 7.189115e-06]\n",
      "[1. 0. 0.] <-> [0.99448377 0.00441142 0.00110483]\n",
      "[0. 1. 0.] <-> [5.9966142e-03 9.9399722e-01 6.1141836e-06]\n",
      "[1. 0. 0.] <-> [0.9963373  0.00135149 0.00231115]\n",
      "[1. 0. 0.] <-> [0.99704224 0.0012517  0.00170609]\n",
      "[1. 0. 0.] <-> [0.99719775 0.00113394 0.00166829]\n",
      "[1. 0. 0.] <-> [0.9716636  0.00146381 0.02687262]\n",
      "[1. 0. 0.] <-> [0.9971781  0.00167471 0.00114724]\n",
      "[0. 0. 1.] <-> [0.5366705  0.00110247 0.46222693]\n",
      "[0. 0. 1.] <-> [1.0528463e-02 3.4215795e-05 9.8943734e-01]\n",
      "[0. 0. 1.] <-> [5.4079629e-02 1.5340482e-04 9.4576699e-01]\n",
      "[1. 0. 0.] <-> [0.9853323  0.01359752 0.00107015]\n",
      "[0. 0. 1.] <-> [5.9995921e-03 2.0575017e-05 9.9397981e-01]\n",
      "[0. 1. 0.] <-> [2.0922199e-01 7.9056460e-01 2.1348418e-04]\n",
      "[0. 1. 0.] <-> [6.0286419e-03 9.9396509e-01 6.2391773e-06]\n",
      "[0. 0. 1.] <-> [9.9579114e-03 3.3110202e-05 9.9000895e-01]\n",
      "[1. 0. 0.] <-> [0.61826825 0.38097197 0.00075974]\n",
      "[1. 0. 0.] <-> [0.9954809  0.00165452 0.00286457]\n",
      "[1. 0. 0.] <-> [0.5152837  0.48407468 0.00064167]\n",
      "[1. 0. 0.] <-> [0.77825093 0.2209233  0.00082582]\n",
      "[1. 0. 0.] <-> [0.9945791  0.00154241 0.00387854]\n",
      "[1. 0. 0.] <-> [0.9968359  0.00200457 0.00115956]\n",
      "[1. 0. 0.] <-> [0.9888997  0.00841745 0.00268285]\n",
      "[1. 0. 0.] <-> [0.9943434  0.00435822 0.00129845]\n",
      "[1. 0. 0.] <-> [0.9421225  0.00161391 0.05626364]\n",
      "[1. 0. 0.] <-> [0.997355   0.00144388 0.00120115]\n",
      "[1. 0. 0.] <-> [0.997027   0.00154389 0.00142908]\n",
      "[1. 0. 0.] <-> [0.99670166 0.00166574 0.00163269]\n",
      "[1. 0. 0.] <-> [0.99583817 0.00312349 0.00103838]\n",
      "[1. 0. 0.] <-> [0.9958688  0.00261531 0.00151593]\n",
      "[0. 1. 0.] <-> [4.0910229e-02 9.5904803e-01 4.1786210e-05]\n",
      "[1. 0. 0.] <-> [0.9954145  0.00346205 0.00112342]\n",
      "[1. 0. 0.] <-> [0.99712306 0.00118029 0.00169656]\n",
      "[0. 0. 1.] <-> [0.5678326 0.0012585 0.4309089]\n",
      "[1. 0. 0.] <-> [0.9973508  0.00156039 0.00108886]\n",
      "[1. 0. 0.] <-> [0.9944832  0.00122124 0.00429563]\n",
      "[1. 0. 0.] <-> [0.9962759  0.00232925 0.00139485]\n",
      "[1. 0. 0.] <-> [0.9926917  0.00135588 0.00595235]\n",
      "[1. 0. 0.] <-> [0.9967964  0.00193933 0.0012642 ]\n",
      "[1. 0. 0.] <-> [0.99237204 0.00127631 0.00635163]\n",
      "[1. 0. 0.] <-> [0.9646612  0.03426099 0.00107774]\n",
      "[1. 0. 0.] <-> [0.9968309  0.00122848 0.00194065]\n",
      "[1. 0. 0.] <-> [0.5770021  0.00118508 0.4218128 ]\n",
      "[0. 0. 1.] <-> [6.2690146e-02 1.8821323e-04 9.3712169e-01]\n",
      "[0. 0. 1.] <-> [5.9965355e-03 2.0566820e-05 9.9398285e-01]\n",
      "[1. 0. 0.] <-> [0.9959079  0.00262544 0.00146663]\n",
      "[1. 0. 0.] <-> [0.99756926 0.00125418 0.00117663]\n",
      "[0. 1. 0.] <-> [1.4013200e-02 9.8597252e-01 1.4272744e-05]\n",
      "[1. 0. 0.] <-> [0.98777753 0.00135513 0.01086731]\n",
      "[1. 0. 0.] <-> [1.0895398e-01 2.8035583e-04 8.9076561e-01]\n",
      "[1. 0. 0.] <-> [0.99165666 0.00699874 0.00134452]\n",
      "[1. 0. 0.] <-> [0.99735993 0.00120673 0.00143331]\n",
      "[0. 1. 0.] <-> [1.7971151e-02 9.8200971e-01 1.9134211e-05]\n",
      "[1. 0. 0.] <-> [0.9931375  0.00127122 0.00559139]\n",
      "[0. 0. 1.] <-> [1.1260868e-02 3.6337908e-05 9.8870277e-01]\n",
      "[0. 1. 0.] <-> [1.5286572e-02 9.8469782e-01 1.5590882e-05]\n",
      "[1. 0. 0.] <-> [0.85467404 0.00150621 0.14381975]\n",
      "[0. 0. 1.] <-> [9.1675473e-03 3.0277813e-05 9.9080223e-01]\n",
      "[1. 0. 0.] <-> [0.9960807  0.00156171 0.00235766]\n",
      "[0. 1. 0.] <-> [1.4571011e-01 8.5414088e-01 1.4908076e-04]\n",
      "[1. 0. 0.] <-> [0.995846   0.00230653 0.0018475 ]\n",
      "[0. 0. 1.] <-> [5.998156e-03 2.059012e-05 9.939812e-01]\n",
      "[1. 0. 0.] <-> [0.9971462  0.00168021 0.00117363]\n",
      "[1. 0. 0.] <-> [0.99613464 0.00274832 0.00111704]\n",
      "[1. 0. 0.] <-> [0.9941981  0.00124465 0.0045573 ]\n",
      "[0. 1. 0.] <-> [5.9966170e-03 9.9399722e-01 6.1087394e-06]\n",
      "[1. 0. 0.] <-> [0.92747533 0.07155773 0.00096703]\n",
      "[1. 0. 0.] <-> [0.99698704 0.00146842 0.0015446 ]\n",
      "[1. 0. 0.] <-> [0.99750704 0.00111839 0.00137457]\n",
      "[0. 1. 0.] <-> [5.996617e-03 9.939972e-01 6.107633e-06]\n",
      "[1. 0. 0.] <-> [0.9965822  0.00134514 0.00207257]\n",
      "[1. 0. 0.] <-> [0.99703014 0.0011582  0.00181163]\n",
      "[1. 0. 0.] <-> [0.99697196 0.0017125  0.00131555]\n",
      "[1. 0. 0.] <-> [0.99673575 0.00146953 0.00179467]\n",
      "[1. 0. 0.] <-> [0.9970861  0.00123388 0.00167996]\n",
      "[1. 0. 0.] <-> [0.99658656 0.00227724 0.00113621]\n",
      "[1. 0. 0.] <-> [0.98850715 0.00135171 0.01014113]\n",
      "[1. 0. 0.] <-> [3.2851529e-01 6.7114687e-01 3.3786296e-04]\n",
      "[1. 0. 0.] <-> [0.99568945 0.00128064 0.00302997]\n",
      "[1. 0. 0.] <-> [0.7015481  0.29758853 0.00086336]\n",
      "[1. 0. 0.] <-> [0.989394   0.00247564 0.00813031]\n",
      "[1. 0. 0.] <-> [0.98476416 0.01405627 0.0011796 ]\n",
      "[1. 0. 0.] <-> [0.9954972  0.00122284 0.00328001]\n",
      "[0. 0. 1.] <-> [1.5965717e-02 5.0428320e-05 9.8398387e-01]\n",
      "[1. 0. 0.] <-> [0.9766765  0.00148682 0.02183666]\n",
      "[1. 0. 0.] <-> [0.9964735  0.00239932 0.00112714]\n",
      "[0. 1. 0.] <-> [1.3216598e-02 9.8676991e-01 1.3537459e-05]\n",
      "[1. 0. 0.] <-> [0.9973465  0.00109075 0.00156276]\n",
      "[1. 0. 0.] <-> [0.9963569  0.00196168 0.00168141]\n",
      "[0. 1. 0.] <-> [5.9980382e-03 9.9399579e-01 6.1412316e-06]\n",
      "[1. 0. 0.] <-> [0.99291754 0.00271846 0.004364  ]\n",
      "[1. 0. 0.] <-> [0.85115844 0.0014048  0.14743681]\n",
      "[0. 0. 1.] <-> [6.282017e-03 2.146516e-05 9.936965e-01]\n",
      "[1. 0. 0.] <-> [0.99649113 0.0024215  0.00108724]\n",
      "[1. 0. 0.] <-> [0.99219745 0.00605515 0.00174729]\n",
      "[1. 0. 0.] <-> [0.9972288  0.00130785 0.00146328]\n",
      "[1. 0. 0.] <-> [0.9963779  0.00124672 0.00237547]\n",
      "[0. 0. 1.] <-> [6.5004267e-03 2.2053486e-05 9.9347746e-01]\n",
      "[1. 0. 0.] <-> [8.9497909e-02 9.1040570e-01 9.6377225e-05]\n",
      "[0. 1. 0.] <-> [5.9966198e-03 9.9399722e-01 6.1177475e-06]\n",
      "[1. 0. 0.] <-> [0.9832735  0.00140386 0.01532263]\n",
      "[1. 0. 0.] <-> [0.96551746 0.0015797  0.03290278]\n",
      "[1. 0. 0.] <-> [0.9937184  0.00126608 0.00501553]\n",
      "{'accuracy': 0.9691358024691358, 'mean_square_error': 0.06508395026315934, 'categorical_crossentropy': 0.10497521471094202, 'essential_metrics': {0: {'tp_hit': 75, 'fp_hit': 2, 'tn_hit': 28, 'fn_hit': 3}, 1: {'tp_hit': 16, 'fp_hit': 2, 'tn_hit': 90, 'fn_hit': 0}, 2: {'tp_hit': 12, 'fp_hit': 1, 'tn_hit': 93, 'fn_hit': 2}}}\n"
     ]
    }
   ],
   "source": [
    "# recall phase\n",
    "score = model.evaluate(x_test, y_test, False)\n",
    "print(score)"
   ]
  },
  {
   "cell_type": "code",
   "execution_count": 13,
   "metadata": {},
   "outputs": [
    {
     "name": "stdout",
     "output_type": "stream",
     "text": [
      "{'accuracy': 0.9567901234567902, 'mean_square_error': 0.11105708618388357, 'categorical_crossentropy': 0.2212688481366193, 'essential_metrics': {0: {'tp_hit': 77, 'fp_hit': 6, 'tn_hit': 24, 'fn_hit': 1}, 1: {'tp_hit': 15, 'fp_hit': 1, 'tn_hit': 91, 'fn_hit': 1}, 2: {'tp_hit': 9, 'fp_hit': 0, 'tn_hit': 94, 'fn_hit': 5}}, 'checkpoint': 100} \n",
      "\n",
      "\n",
      "{'accuracy': 0.9629629629629629, 'mean_square_error': 0.061483894041219574, 'categorical_crossentropy': 0.10748764320656105, 'essential_metrics': {0: {'tp_hit': 75, 'fp_hit': 3, 'tn_hit': 27, 'fn_hit': 3}, 1: {'tp_hit': 15, 'fp_hit': 2, 'tn_hit': 90, 'fn_hit': 1}, 2: {'tp_hit': 12, 'fp_hit': 1, 'tn_hit': 93, 'fn_hit': 2}}, 'checkpoint': 200} \n",
      "\n",
      "\n",
      "{'accuracy': 0.9629629629629629, 'mean_square_error': 0.06615721635526713, 'categorical_crossentropy': 0.10654742629439742, 'essential_metrics': {0: {'tp_hit': 74, 'fp_hit': 2, 'tn_hit': 28, 'fn_hit': 4}, 1: {'tp_hit': 16, 'fp_hit': 3, 'tn_hit': 89, 'fn_hit': 0}, 2: {'tp_hit': 12, 'fp_hit': 1, 'tn_hit': 93, 'fn_hit': 2}}, 'checkpoint': 300} \n",
      "\n",
      "\n",
      "{'accuracy': 0.9691358024691358, 'mean_square_error': 0.06503786049747783, 'categorical_crossentropy': 0.10415410995483398, 'essential_metrics': {0: {'tp_hit': 75, 'fp_hit': 2, 'tn_hit': 28, 'fn_hit': 3}, 1: {'tp_hit': 16, 'fp_hit': 2, 'tn_hit': 90, 'fn_hit': 0}, 2: {'tp_hit': 12, 'fp_hit': 1, 'tn_hit': 93, 'fn_hit': 2}}, 'checkpoint': 400} \n",
      "\n",
      "\n",
      "{'accuracy': 0.9691358024691358, 'mean_square_error': 0.06508395026315934, 'categorical_crossentropy': 0.10497521471094202, 'essential_metrics': {0: {'tp_hit': 75, 'fp_hit': 2, 'tn_hit': 28, 'fn_hit': 3}, 1: {'tp_hit': 16, 'fp_hit': 2, 'tn_hit': 90, 'fn_hit': 0}, 2: {'tp_hit': 12, 'fp_hit': 1, 'tn_hit': 93, 'fn_hit': 2}}, 'checkpoint': 500} \n",
      "\n",
      "\n"
     ]
    }
   ],
   "source": [
    "for checkpoint in checkpoints:\n",
    "    print(checkpoint, '\\n\\n')"
   ]
  },
  {
   "cell_type": "code",
   "execution_count": 14,
   "metadata": {},
   "outputs": [
    {
     "name": "stdout",
     "output_type": "stream",
     "text": [
      "Layer 1\n",
      "Neuron 0: weights:\n",
      "[ 0.241593    3.         -0.52112556 -1.2695174  -3.        ]\n",
      " bias: 2.2249200344085693\n",
      "\n",
      "Neuron 1: weights:\n",
      "[-1.913398   3.         3.         1.2372968 -3.       ]\n",
      " bias: -3.0\n",
      "\n",
      "Neuron 2: weights:\n",
      "[ 2.154087   -3.         -3.          2.4652941   0.01325396]\n",
      " bias: 3.0\n",
      "\n",
      "Neuron 3: weights:\n",
      "[ 0.12797089 -3.         -0.90875846  0.41227764  3.        ]\n",
      " bias: -3.0\n",
      "\n",
      "$\n",
      "Layer 2\n",
      "Neuron 0: weights:\n",
      "[ 3. -3.  3. -3.]\n",
      " bias: -2.110538959503174\n",
      "\n",
      "Neuron 1: weights:\n",
      "[ 3.        3.       -3.       -1.785836]\n",
      " bias: -3.0\n",
      "\n",
      "Neuron 2: weights:\n",
      "[-3. -3.  3.  3.]\n",
      " bias: -3.0\n",
      "\n",
      "$\n",
      "\n"
     ]
    }
   ],
   "source": [
    "print(model)"
   ]
  }
 ],
 "metadata": {
  "kernelspec": {
   "display_name": "Python 3",
   "language": "python",
   "name": "python3"
  },
  "language_info": {
   "codemirror_mode": {
    "name": "ipython",
    "version": 3
   },
   "file_extension": ".py",
   "mimetype": "text/x-python",
   "name": "python",
   "nbconvert_exporter": "python",
   "pygments_lexer": "ipython3",
   "version": "3.6.12"
  }
 },
 "nbformat": 4,
 "nbformat_minor": 2
}
