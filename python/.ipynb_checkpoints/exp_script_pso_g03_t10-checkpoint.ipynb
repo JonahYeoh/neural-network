{
 "cells": [
  {
   "cell_type": "code",
   "execution_count": 1,
   "metadata": {},
   "outputs": [],
   "source": [
    "# dependency\n",
    "import numpy as np\n",
    "import pandas as pd\n",
    "import copy\n",
    "import math\n",
    "import sys\n",
    "import os\n",
    "from activations import relu, leaky_relu, sigmoid, tanh, softmax, d_sigmoid, d_relu\n",
    "from initializers import glorot_uniform, random_normal, random_uniform\n",
    "from regularizers import l1_regularizer, l2_regularizer\n",
    "from utility import trim_tail, multiply, subtract, get_nparams, one_hot_encoding, get_data\n",
    "from metrics import MSE, CCE, ACC, PRECISION, RECALL, essential_metrics, wondering_penalty, close_gap_penalty\n",
    "from pso import PSO\n",
    "from ga import GA\n",
    "from nn import Network\n",
    "from layer import DenseLayer\n",
    "from scalers import MinMaxScaler, StandardScaler"
   ]
  },
  {
   "cell_type": "code",
   "execution_count": 2,
   "metadata": {},
   "outputs": [],
   "source": [
    "# reference\n",
    "metrics_fn_dict = dict()\n",
    "metrics_fn_dict['accuracy'] = ACC\n",
    "metrics_fn_dict['categorical_crossentropy'] = CCE\n",
    "metrics_fn_dict['mean_square_error'] = MSE\n",
    "metrics_fn_dict['precision'] = PRECISION\n",
    "metrics_fn_dict['recall'] = RECALL\n",
    "metrics_fn_dict['essential_metrics'] = essential_metrics"
   ]
  },
  {
   "cell_type": "code",
   "execution_count": 3,
   "metadata": {},
   "outputs": [],
   "source": [
    "# model\n",
    "model = Network(5, lr = None)\n",
    "model.add_layer(DenseLayer(1, 4, True, afn=sigmoid, dafn=None, rfn=None))\n",
    "model.add_layer(DenseLayer(2, 3, True, afn=softmax, dafn=None, rfn=None))"
   ]
  },
  {
   "cell_type": "code",
   "execution_count": 4,
   "metadata": {},
   "outputs": [
    {
     "name": "stdout",
     "output_type": "stream",
     "text": [
      "see one see two 2 0.5\n"
     ]
    }
   ],
   "source": [
    "pso = PSO(dict(m = 50,\n",
    "    weight_constraint = [-3, 3], \n",
    "    velocity_constraint = [-0.1, 0.1],\n",
    "    c1 = [0.5, 2],\n",
    "    c2 = [0.5, 2],\n",
    "    w = [0.5, 1.6],\n",
    "    w_decay = 0.95,\n",
    "    scale_hyperparameter = False,\n",
    "    regularizer = None,\n",
    "    mask = True))"
   ]
  },
  {
   "cell_type": "code",
   "execution_count": 5,
   "metadata": {},
   "outputs": [
    {
     "name": "stdout",
     "output_type": "stream",
     "text": [
      "building layer 1 with 5\n",
      "24\n",
      "building layer 2 with 4\n",
      "15\n"
     ]
    }
   ],
   "source": [
    "model.compile(loss_fn = 'categorical_crossentropy', optimizer = pso, \\\n",
    "    metrics = ['accuracy', 'mean_square_error', 'categorical_crossentropy'])"
   ]
  },
  {
   "cell_type": "code",
   "execution_count": 6,
   "metadata": {},
   "outputs": [
    {
     "name": "stdout",
     "output_type": "stream",
     "text": [
      "<class 'pandas.core.frame.DataFrame'>\n",
      "RangeIndex: 107 entries, 0 to 106\n",
      "Data columns (total 6 columns):\n",
      " #   Column  Non-Null Count  Dtype  \n",
      "---  ------  --------------  -----  \n",
      " 0   f1      107 non-null    float32\n",
      " 1   f2      107 non-null    float32\n",
      " 2   f3      107 non-null    float32\n",
      " 3   f4      107 non-null    float32\n",
      " 4   f5      107 non-null    float32\n",
      " 5   label   107 non-null    float32\n",
      "dtypes: float32(6)\n",
      "memory usage: 2.6 KB\n",
      "None\n",
      "<class 'pandas.core.frame.DataFrame'>\n",
      "RangeIndex: 108 entries, 0 to 107\n",
      "Data columns (total 6 columns):\n",
      " #   Column  Non-Null Count  Dtype  \n",
      "---  ------  --------------  -----  \n",
      " 0   f1      108 non-null    float32\n",
      " 1   f2      108 non-null    float32\n",
      " 2   f3      108 non-null    float32\n",
      " 3   f4      108 non-null    float32\n",
      " 4   f5      108 non-null    float32\n",
      " 5   label   108 non-null    float32\n",
      "dtypes: float32(6)\n",
      "memory usage: 2.7 KB\n",
      "None\n"
     ]
    }
   ],
   "source": [
    "# data loading\n",
    "DATA = os.path.join('c:\\\\Users\\\\tcumi\\\\github_repo\\\\neural-network\\\\', 'dataset')\n",
    "GROUP = 3\n",
    "COLUMNS = ['f1', 'f2', 'f3', 'f4', 'f5', 'label']\n",
    "N_CLASS = 3\n",
    "EPOCHS = 500\n",
    "train_dir, test_dir = \"..//dataset//training_data{}.txt\".format(GROUP), \"..//dataset//testing_data{}.txt\".format(GROUP)\n",
    "train, test = get_data(DATA, train_dir, COLUMNS), get_data(DATA, test_dir, COLUMNS)\n",
    "# shuffle\n",
    "train, test = train.sample(frac=1), test.sample(frac=1)\n",
    "x_train, y_train = train.drop('label', axis=1), train['label']\n",
    "x_test, y_test = test.drop('label', axis=1), test['label']"
   ]
  },
  {
   "cell_type": "code",
   "execution_count": 7,
   "metadata": {},
   "outputs": [],
   "source": [
    "# data scaling and encoding\n",
    "scaler = StandardScaler(['f1', 'f2', 'f3', 'f4', 'f5'])\n",
    "scaler.fit(x_train)\n",
    "x_train = scaler.transform(x_train)\n",
    "x_test = scaler.transform(x_test)\n",
    "y_train = one_hot_encoding(y_train, N_CLASS)\n",
    "y_test = one_hot_encoding(y_test, N_CLASS)"
   ]
  },
  {
   "cell_type": "code",
   "execution_count": 8,
   "metadata": {
    "tags": [
     "outputPrepend"
    ]
   },
   "outputs": [
    {
     "name": "stdout",
     "output_type": "stream",
     "text": [
      "Checkpoint 100, Accuracy: 0.9567901234567902, Loss: 0.26277821152298536\n",
      "Checkpoint 200, Accuracy: 0.9629629629629629, Loss: 0.11880256511546948\n",
      "Checkpoint 300, Accuracy: 0.9691358024691358, Loss: 0.11037315262688531\n",
      "Checkpoint 400, Accuracy: 0.9753086419753086, Loss: 0.10503867820457176\n",
      "Checkpoint 500, Accuracy: 0.9691358024691358, Loss: 0.10700348571494774\n"
     ]
    }
   ],
   "source": [
    "# learning phase\n",
    "breakpoint = 100\n",
    "checkpoints = list()\n",
    "history = list()\n",
    "for century in range(0, EPOCHS, breakpoint):\n",
    "    sub_history = model.fit(x_train, y_train, breakpoint, verbose = 0)\n",
    "    score = model.evaluate(x_test, y_test, False, verbose = 0)\n",
    "    print('Checkpoint {}, Accuracy: {}, Loss: {}'.format(century+breakpoint, score['accuracy'], score[model.loss_fn]))\n",
    "    score['checkpoint'] = century + breakpoint\n",
    "    checkpoints.append(score)\n",
    "    history.extend(sub_history)\n",
    "    itr = century + breakpoint\n",
    "    model.optimizer.c1 = np.max([model.optimizer.C1[1] - ((model.optimizer.C1[1] - model.optimizer.C1[0]) * itr / EPOCHS), model.optimizer.C1[0]])\n",
    "    model.optimizer.c2 = np.min([model.optimizer.C2[0] + ((model.optimizer.C2[1] - model.optimizer.C2[0]) * itr / EPOCHS), model.optimizer.C2[1]])\n",
    "    model.optimizer.w = np.max([model.optimizer.w * model.optimizer.W_Decay, model.optimizer.W[0]])"
   ]
  },
  {
   "cell_type": "code",
   "execution_count": 9,
   "metadata": {},
   "outputs": [],
   "source": [
    "import matplotlib.pyplot as plt\n",
    "\n",
    "def draw_plot(x, y_list, x_label=None, y_label=None, legend=None, title=None):\n",
    "    fig, ax = plt.subplots(figsize=(12,5))\n",
    "    for xi, yi in zip(x, y_list):\n",
    "        ax.plot(xi, yi)\n",
    "    if x_label is not None and y_label is not None:\n",
    "        ax.set(xlabel=x_label, ylabel=y_label, title='{} VS {}'.format(x_label, y_label))\n",
    "    if legend is not None:\n",
    "        ax.legend(legend)\n",
    "    ax.grid()\n",
    "    plt.show()"
   ]
  },
  {
   "cell_type": "code",
   "execution_count": 10,
   "metadata": {},
   "outputs": [
    {
     "name": "stdout",
     "output_type": "stream",
     "text": [
      "[1. 0. 0.] <-> [0.9960372  0.0029207  0.00104214]\n",
      "[1. 0. 0.] <-> [0.99450964 0.00110213 0.00438833]\n",
      "[1. 0. 0.] <-> [0.9964569  0.00139281 0.00215028]\n",
      "[0. 1. 0.] <-> [1.4406972e-01 8.5565746e-01 2.7288724e-04]\n",
      "[1. 0. 0.] <-> [0.9970071  0.00123758 0.00175537]\n",
      "[1. 0. 0.] <-> [0.8346724  0.00094718 0.16438049]\n",
      "[1. 0. 0.] <-> [0.9021712  0.09657677 0.00125201]\n",
      "[1. 0. 0.] <-> [0.9970003  0.0014937  0.00150592]\n",
      "[1. 0. 0.] <-> [0.9970458  0.00180682 0.00114736]\n",
      "[1. 0. 0.] <-> [0.99720323 0.00118294 0.00161382]\n",
      "[1. 0. 0.] <-> [0.98852646 0.00109324 0.01038026]\n",
      "[0. 0. 1.] <-> [6.4762593e-03 7.0490892e-06 9.9351668e-01]\n",
      "[1. 0. 0.] <-> [0.9967861  0.00199164 0.00122228]\n",
      "[0. 0. 1.] <-> [6.749110e-03 7.338480e-06 9.932435e-01]\n",
      "[0. 1. 0.] <-> [4.0535871e-02 9.5937842e-01 8.5742686e-05]\n",
      "[1. 0. 0.] <-> [0.99557567 0.00176135 0.00266295]\n",
      "[0. 0. 1.] <-> [0.5561308  0.00062954 0.44323963]\n",
      "[1. 0. 0.] <-> [0.55791056 0.44101205 0.00107736]\n",
      "[1. 0. 0.] <-> [0.99626046 0.00261638 0.00112313]\n",
      "[0. 1. 0.] <-> [1.3728287e-02 9.8623997e-01 3.1703428e-05]\n",
      "[1. 0. 0.] <-> [0.5517611  0.00071575 0.44752315]\n",
      "[1. 0. 0.] <-> [0.9955101  0.00260684 0.00188312]\n",
      "[0. 1. 0.] <-> [1.7468937e-02 9.8249006e-01 4.0980103e-05]\n",
      "[1. 0. 0.] <-> [0.9946109  0.00148314 0.00390591]\n",
      "[1. 0. 0.] <-> [0.9896179  0.00918897 0.00119311]\n",
      "[1. 0. 0.] <-> [0.9961772  0.00228312 0.00153964]\n",
      "[0. 1. 0.] <-> [1.2772281e-02 9.8719794e-01 2.9797389e-05]\n",
      "[1. 0. 0.] <-> [0.9952533  0.00115075 0.00359594]\n",
      "[1. 0. 0.] <-> [0.9968636  0.00185091 0.0012856 ]\n",
      "[1. 0. 0.] <-> [0.99489564 0.00373303 0.00137125]\n",
      "[1. 0. 0.] <-> [0.9494052  0.00105478 0.04954004]\n",
      "[1. 0. 0.] <-> [0.9958482  0.00270717 0.00144469]\n",
      "[1. 0. 0.] <-> [0.997326   0.00154061 0.00113344]\n",
      "[0. 1. 0.] <-> [2.4909277e-01 7.5045890e-01 4.4831799e-04]\n",
      "[0. 1. 0.] <-> [5.6190039e-03 9.9436694e-01 1.3941114e-05]\n",
      "[1. 0. 0.] <-> [0.99504364 0.00110487 0.00385137]\n",
      "[1. 0. 0.] <-> [0.9972366  0.00172356 0.00103983]\n",
      "[1. 0. 0.] <-> [0.99461836 0.00424195 0.00113962]\n",
      "[1. 0. 0.] <-> [0.95897126 0.03970746 0.00132131]\n",
      "[0. 1. 0.] <-> [5.6204186e-03 9.9436557e-01 1.3976025e-05]\n",
      "[1. 0. 0.] <-> [0.9967886  0.00149737 0.00171403]\n",
      "[1. 0. 0.] <-> [0.9961163  0.0016778  0.00220594]\n",
      "[1. 0. 0.] <-> [0.9960641  0.00256013 0.0013757 ]\n",
      "[1. 0. 0.] <-> [0.9961932  0.00269599 0.00111087]\n",
      "[1. 0. 0.] <-> [0.99650145 0.00241759 0.00108103]\n",
      "[0. 0. 1.] <-> [0.5708815 0.0006218 0.4284967]\n",
      "[1. 0. 0.] <-> [0.9792965  0.00120659 0.01949688]\n",
      "[1. 0. 0.] <-> [0.99742776 0.00121441 0.00135786]\n",
      "[1. 0. 0.] <-> [0.9975967  0.00116002 0.00124334]\n",
      "[1. 0. 0.] <-> [0.9672272  0.00132677 0.03144602]\n",
      "[1. 0. 0.] <-> [0.9658303  0.03282822 0.00134144]\n",
      "[1. 0. 0.] <-> [0.73131794 0.26735908 0.00132299]\n",
      "[1. 0. 0.] <-> [0.9971295  0.00163026 0.00124026]\n",
      "[1. 0. 0.] <-> [0.9890463  0.00950876 0.00144487]\n",
      "[0. 0. 1.] <-> [9.2463419e-03 1.0053722e-05 9.9074358e-01]\n",
      "[0. 0. 1.] <-> [6.476026e-03 7.041801e-06 9.935169e-01]\n",
      "[1. 0. 0.] <-> [0.9961564  0.00223684 0.00160679]\n",
      "[1. 0. 0.] <-> [0.99656725 0.00230678 0.00112598]\n",
      "[1. 0. 0.] <-> [0.9650765  0.00120035 0.03372315]\n",
      "[1. 0. 0.] <-> [0.99707603 0.00130526 0.00161871]\n",
      "[0. 1. 0.] <-> [1.3537111e-02 9.8643154e-01 3.1235337e-05]\n",
      "[1. 0. 0.] <-> [0.99418265 0.00466864 0.00114866]\n",
      "[0. 0. 1.] <-> [9.65313427e-03 1.04960745e-05 9.90336418e-01]\n",
      "[1. 0. 0.] <-> [0.5153706  0.4836394  0.00098999]\n",
      "[1. 0. 0.] <-> [0.9882442  0.00263171 0.0091241 ]\n",
      "[1. 0. 0.] <-> [8.5352555e-02 9.1447008e-01 1.7738726e-04]\n",
      "[0. 0. 1.] <-> [1.04318755e-02 1.13687547e-05 9.89556730e-01]\n",
      "[1. 0. 0.] <-> [0.9851702  0.00107811 0.01375163]\n",
      "[1. 0. 0.] <-> [0.98095167 0.00717482 0.01187363]\n",
      "[0. 0. 1.] <-> [6.7068888e-03 7.2925091e-06 9.9328583e-01]\n",
      "[1. 0. 0.] <-> [1.1491642e-01 1.3109567e-04 8.8495249e-01]\n",
      "[1. 0. 0.] <-> [0.99718755 0.00119324 0.00161914]\n",
      "[0. 0. 1.] <-> [1.0065104e-02 1.1270548e-05 9.8992366e-01]\n",
      "[0. 1. 0.] <-> [5.6189825e-03 9.9436706e-01 1.3933965e-05]\n",
      "[0. 1. 0.] <-> [5.6189876e-03 9.9436694e-01 1.3928290e-05]\n",
      "[0. 0. 1.] <-> [5.8591414e-02 6.4054133e-05 9.4134450e-01]\n",
      "[1. 0. 0.] <-> [0.9972356  0.00113978 0.00162456]\n",
      "[1. 0. 0.] <-> [0.9961055  0.00276794 0.00112659]\n",
      "[1. 0. 0.] <-> [0.98991954 0.00819928 0.00188116]\n",
      "[1. 0. 0.] <-> [0.9967384  0.00121181 0.00204973]\n",
      "[1. 0. 0.] <-> [0.84962666 0.00093445 0.14943884]\n",
      "[1. 0. 0.] <-> [0.99293774 0.0029975  0.00406475]\n",
      "[0. 1. 0.] <-> [5.6476635e-03 9.9433821e-01 1.4151781e-05]\n",
      "[1. 0. 0.] <-> [0.99704593 0.00160849 0.00134556]\n",
      "[0. 0. 1.] <-> [1.3781314e-02 1.4984689e-05 9.8620367e-01]\n",
      "[1. 0. 0.] <-> [0.9971637  0.00173607 0.00110016]\n",
      "[1. 0. 0.] <-> [0.9975545  0.00110835 0.0013372 ]\n",
      "[1. 0. 0.] <-> [0.99600226 0.00125807 0.00273968]\n",
      "[1. 0. 0.] <-> [3.3470008e-01 6.6471523e-01 5.8463012e-04]\n",
      "[1. 0. 0.] <-> [0.9846128  0.01249233 0.00289486]\n",
      "[0. 0. 1.] <-> [5.9078135e-02 6.4237196e-05 9.4085765e-01]\n",
      "[1. 0. 0.] <-> [0.99722797 0.00126065 0.00151148]\n",
      "[0. 1. 0.] <-> [5.6412308e-03 9.9434483e-01 1.4016831e-05]\n",
      "[1. 0. 0.] <-> [0.9966878  0.00130973 0.0020025 ]\n",
      "[1. 0. 0.] <-> [0.9938891  0.00114462 0.00496624]\n",
      "[0. 1. 0.] <-> [6.4443336e-03 9.9353951e-01 1.6106133e-05]\n",
      "[0. 1. 0.] <-> [5.6189825e-03 9.9436706e-01 1.3929315e-05]\n",
      "[1. 0. 0.] <-> [0.99731195 0.00134859 0.00133956]\n",
      "[1. 0. 0.] <-> [0.8020213  0.19675532 0.00122337]\n",
      "[1. 0. 0.] <-> [0.9975688  0.00132279 0.00110848]\n",
      "[1. 0. 0.] <-> [0.9925177  0.00128004 0.0062022 ]\n",
      "[1. 0. 0.] <-> [0.9948996  0.00117515 0.00392534]\n",
      "[1. 0. 0.] <-> [0.99355423 0.00108883 0.00535694]\n",
      "[0. 0. 1.] <-> [6.4775604e-03 7.0431529e-06 9.9351537e-01]\n",
      "[1. 0. 0.] <-> [0.99071807 0.00110797 0.00817406]\n",
      "[0. 1. 0.] <-> [5.61898248e-03 9.94367063e-01 1.39284375e-05]\n",
      "[1. 0. 0.] <-> [0.99673885 0.00167287 0.00158825]\n",
      "[1. 0. 0.] <-> [0.97676396 0.021882   0.00135403]\n",
      "{'accuracy': 0.9691358024691358, 'mean_square_error': 0.06669349750667189, 'categorical_crossentropy': 0.10700348571494774, 'essential_metrics': {0: {'tp_hit': 75, 'fp_hit': 2, 'tn_hit': 28, 'fn_hit': 3}, 1: {'tp_hit': 16, 'fp_hit': 2, 'tn_hit': 90, 'fn_hit': 0}, 2: {'tp_hit': 12, 'fp_hit': 1, 'tn_hit': 93, 'fn_hit': 2}}}\n"
     ]
    }
   ],
   "source": [
    "# recall phase\n",
    "score = model.evaluate(x_test, y_test, False)\n",
    "print(score)"
   ]
  },
  {
   "cell_type": "code",
   "execution_count": 11,
   "metadata": {},
   "outputs": [
    {
     "data": {
      "image/png": "[encoded data removed]",
      "text/plain": [
       "<Figure size 864x360 with 1 Axes>"
      ]
     },
     "metadata": {
      "needs_background": "light"
     },
     "output_type": "display_data"
    },
    {
     "data": {
      "image/png": "[encoded data removed]",
      "text/plain": [
       "<Figure size 864x360 with 1 Axes>"
      ]
     },
     "metadata": {
      "needs_background": "light"
     },
     "output_type": "display_data"
    }
   ],
   "source": [
    "draw_plot(x = [[i for i in range(len(history))], [(i+1)*breakpoint for i in range(len(checkpoints))]], y_list = [history, [ ckp[model.loss_fn] for ckp in checkpoints ]], x_label = 'Epochs', \\\n",
    "    y_label = model.loss_fn, legend=['train', 'test'])\n",
    "acc = [ ckp['accuracy'] for ckp in checkpoints ]\n",
    "draw_plot(x = [[(i+1)*breakpoint for i in range(len(checkpoints))]], y_list = [acc], x_label = 'Checkpoints', \\\n",
    "    y_label = 'accuracy')"
   ]
  },
  {
   "cell_type": "code",
   "execution_count": 12,
   "metadata": {},
   "outputs": [
    {
     "name": "stdout",
     "output_type": "stream",
     "text": [
      "{'accuracy': 0.9567901234567902, 'mean_square_error': 0.12856496001541293, 'categorical_crossentropy': 0.26277821152298536, 'essential_metrics': {0: {'tp_hit': 76, 'fp_hit': 5, 'tn_hit': 25, 'fn_hit': 2}, 1: {'tp_hit': 15, 'fp_hit': 2, 'tn_hit': 90, 'fn_hit': 1}, 2: {'tp_hit': 10, 'fp_hit': 0, 'tn_hit': 94, 'fn_hit': 4}}, 'checkpoint': 100} \n",
      "\n",
      "\n",
      "{'accuracy': 0.9629629629629629, 'mean_square_error': 0.07046016254230408, 'categorical_crossentropy': 0.11880256511546948, 'essential_metrics': {0: {'tp_hit': 74, 'fp_hit': 2, 'tn_hit': 28, 'fn_hit': 4}, 1: {'tp_hit': 16, 'fp_hit': 3, 'tn_hit': 89, 'fn_hit': 0}, 2: {'tp_hit': 12, 'fp_hit': 1, 'tn_hit': 93, 'fn_hit': 2}}, 'checkpoint': 200} \n",
      "\n",
      "\n",
      "{'accuracy': 0.9691358024691358, 'mean_square_error': 0.06851358315716384, 'categorical_crossentropy': 0.11037315262688531, 'essential_metrics': {0: {'tp_hit': 75, 'fp_hit': 2, 'tn_hit': 28, 'fn_hit': 3}, 1: {'tp_hit': 16, 'fp_hit': 2, 'tn_hit': 90, 'fn_hit': 0}, 2: {'tp_hit': 12, 'fp_hit': 1, 'tn_hit': 93, 'fn_hit': 2}}, 'checkpoint': 300} \n",
      "\n",
      "\n",
      "{'accuracy': 0.9753086419753086, 'mean_square_error': 0.0649070176965954, 'categorical_crossentropy': 0.10503867820457176, 'essential_metrics': {0: {'tp_hit': 75, 'fp_hit': 1, 'tn_hit': 29, 'fn_hit': 3}, 1: {'tp_hit': 16, 'fp_hit': 2, 'tn_hit': 90, 'fn_hit': 0}, 2: {'tp_hit': 13, 'fp_hit': 1, 'tn_hit': 93, 'fn_hit': 1}}, 'checkpoint': 400} \n",
      "\n",
      "\n",
      "{'accuracy': 0.9691358024691358, 'mean_square_error': 0.06669349750667189, 'categorical_crossentropy': 0.10700348571494774, 'essential_metrics': {0: {'tp_hit': 75, 'fp_hit': 2, 'tn_hit': 28, 'fn_hit': 3}, 1: {'tp_hit': 16, 'fp_hit': 2, 'tn_hit': 90, 'fn_hit': 0}, 2: {'tp_hit': 12, 'fp_hit': 1, 'tn_hit': 93, 'fn_hit': 2}}, 'checkpoint': 500} \n",
      "\n",
      "\n"
     ]
    }
   ],
   "source": [
    "for checkpoint in checkpoints:\n",
    "    print(checkpoint, '\\n\\n')"
   ]
  },
  {
   "cell_type": "code",
   "execution_count": 13,
   "metadata": {},
   "outputs": [
    {
     "name": "stdout",
     "output_type": "stream",
     "text": [
      "Layer 1\n",
      "Neuron 0: weights:\n",
      "[ 2.1300263  -3.         -3.          3.         -0.13443905]\n",
      " bias: 3.0\n",
      "\n",
      "Neuron 1: weights:\n",
      "[ 0.29392344  3.         -0.24744229 -1.0855285  -3.        ]\n",
      " bias: 2.478179454803467\n",
      "\n",
      "Neuron 2: weights:\n",
      "[-0.08116845  3.          0.4984593  -3.         -3.        ]\n",
      " bias: 2.032742977142334\n",
      "\n",
      "Neuron 3: weights:\n",
      "[ 2.0093963  -3.         -3.          0.04800432  1.8513    ]\n",
      " bias: 3.0\n",
      "\n",
      "$\n",
      "Layer 2\n",
      "Neuron 0: weights:\n",
      "[3. 3. 3. 3.]\n",
      " bias: -3.0\n",
      "\n",
      "Neuron 1: weights:\n",
      "[-3.  3.  3. -3.]\n",
      " bias: 2.1759557723999023\n",
      "\n",
      "Neuron 2: weights:\n",
      "[ 2.5846336 -3.        -3.         2.4485073]\n",
      " bias: 3.0\n",
      "\n",
      "$\n",
      "\n"
     ]
    }
   ],
   "source": [
    "print(model)"
   ]
  }
 ],
 "metadata": {
  "kernelspec": {
   "display_name": "Python 3",
   "language": "python",
   "name": "python3"
  },
  "language_info": {
   "codemirror_mode": {
    "name": "ipython",
    "version": 3
   },
   "file_extension": ".py",
   "mimetype": "text/x-python",
   "name": "python",
   "nbconvert_exporter": "python",
   "pygments_lexer": "ipython3",
   "version": "3.6.10"
  }
 },
 "nbformat": 4,
 "nbformat_minor": 2
}
