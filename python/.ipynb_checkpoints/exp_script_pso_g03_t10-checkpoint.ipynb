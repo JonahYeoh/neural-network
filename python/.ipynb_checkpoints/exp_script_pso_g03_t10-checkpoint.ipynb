{
 "cells": [
  {
   "cell_type": "code",
   "execution_count": 1,
   "metadata": {},
   "outputs": [],
   "source": [
    "# dependency\n",
    "import numpy as np\n",
    "import pandas as pd\n",
    "import copy\n",
    "import math\n",
    "import sys\n",
    "import os\n",
    "from activations import relu, leaky_relu, sigmoid, tanh, softmax, d_sigmoid, d_relu\n",
    "from initializers import glorot_uniform, random_normal, random_uniform\n",
    "from regularizers import l1_regularizer, l2_regularizer\n",
    "from utility import trim_tail, multiply, subtract, get_nparams, one_hot_encoding, get_data\n",
    "from metrics import MSE, CCE, ACC, PRECISION, RECALL, essential_metrics, wondering_penalty, close_gap_penalty\n",
    "from pso import PSO\n",
    "from ga import GA\n",
    "from nn import Network\n",
    "from layer import DenseLayer\n",
    "from scalers import MinMaxScaler, StandardScaler"
   ]
  },
  {
   "cell_type": "code",
   "execution_count": 2,
   "metadata": {},
   "outputs": [],
   "source": [
    "# reference\n",
    "metrics_fn_dict = dict()\n",
    "metrics_fn_dict['accuracy'] = ACC\n",
    "metrics_fn_dict['categorical_crossentropy'] = CCE\n",
    "metrics_fn_dict['mean_square_error'] = MSE\n",
    "metrics_fn_dict['precision'] = PRECISION\n",
    "metrics_fn_dict['recall'] = RECALL\n",
    "metrics_fn_dict['essential_metrics'] = essential_metrics"
   ]
  },
  {
   "cell_type": "code",
   "execution_count": 3,
   "metadata": {},
   "outputs": [],
   "source": [
    "# model\n",
    "model = Network(5, lr = None)\n",
    "model.add_layer(DenseLayer(1, 4, True, afn=sigmoid, dafn=None, rfn=None))\n",
    "model.add_layer(DenseLayer(2, 3, True, afn=softmax, dafn=None, rfn=None))"
   ]
  },
  {
   "cell_type": "code",
   "execution_count": 4,
   "metadata": {},
   "outputs": [
    {
     "name": "stdout",
     "output_type": "stream",
     "text": [
      "see one see two 2.0 0.5\n"
     ]
    }
   ],
   "source": [
    "pso = PSO(dict(m = 50,\n",
    "    weight_constraint = [-3, 3], \n",
    "    velocity_constraint = [-0.1, 0.1],\n",
    "    c1 = [0.5, 2.0],\n",
    "    c2 = [0.5, 2.0],\n",
    "    w = [0.5, 1.6],\n",
    "    w_decay = 0.95,\n",
    "    scale_hyperparameter = False,\n",
    "    regularizer = l1_regularizer,\n",
    "    mask = True))"
   ]
  },
  {
   "cell_type": "code",
   "execution_count": 5,
   "metadata": {},
   "outputs": [
    {
     "name": "stdout",
     "output_type": "stream",
     "text": [
      "building layer 1 with 5\n",
      "24\n",
      "building layer 2 with 4\n",
      "15\n"
     ]
    }
   ],
   "source": [
    "model.compile(loss_fn = 'categorical_crossentropy', optimizer = pso, \\\n",
    "    metrics = ['accuracy', 'mean_square_error', 'categorical_crossentropy'])"
   ]
  },
  {
   "cell_type": "code",
   "execution_count": 6,
   "metadata": {},
   "outputs": [
    {
     "name": "stdout",
     "output_type": "stream",
     "text": [
      "<class 'pandas.core.frame.DataFrame'>\n",
      "RangeIndex: 107 entries, 0 to 106\n",
      "Data columns (total 6 columns):\n",
      " #   Column  Non-Null Count  Dtype  \n",
      "---  ------  --------------  -----  \n",
      " 0   f1      107 non-null    float32\n",
      " 1   f2      107 non-null    float32\n",
      " 2   f3      107 non-null    float32\n",
      " 3   f4      107 non-null    float32\n",
      " 4   f5      107 non-null    float32\n",
      " 5   label   107 non-null    float32\n",
      "dtypes: float32(6)\n",
      "memory usage: 2.6 KB\n",
      "None\n",
      "<class 'pandas.core.frame.DataFrame'>\n",
      "RangeIndex: 108 entries, 0 to 107\n",
      "Data columns (total 6 columns):\n",
      " #   Column  Non-Null Count  Dtype  \n",
      "---  ------  --------------  -----  \n",
      " 0   f1      108 non-null    float32\n",
      " 1   f2      108 non-null    float32\n",
      " 2   f3      108 non-null    float32\n",
      " 3   f4      108 non-null    float32\n",
      " 4   f5      108 non-null    float32\n",
      " 5   label   108 non-null    float32\n",
      "dtypes: float32(6)\n",
      "memory usage: 2.7 KB\n",
      "None\n"
     ]
    }
   ],
   "source": [
    "# data loading\n",
    "DATA = os.path.join('c:\\\\Users\\\\AI-lab\\\\github_repo\\\\neural-network\\\\', 'dataset')\n",
    "GROUP = 3\n",
    "COLUMNS = ['f1', 'f2', 'f3', 'f4', 'f5', 'label']\n",
    "N_CLASS = 3\n",
    "EPOCHS = 200\n",
    "train_dir, test_dir = \"..//dataset//training_data{}.txt\".format(GROUP), \"..//dataset//testing_data{}.txt\".format(GROUP)\n",
    "train, test = get_data(DATA, train_dir, COLUMNS), get_data(DATA, test_dir, COLUMNS)\n",
    "# shuffle\n",
    "train, test = train.sample(frac=1), test.sample(frac=1)\n",
    "x_train, y_train = train.drop('label', axis=1), train['label']\n",
    "x_test, y_test = test.drop('label', axis=1), test['label']"
   ]
  },
  {
   "cell_type": "code",
   "execution_count": 7,
   "metadata": {},
   "outputs": [],
   "source": [
    "# data scaling and encoding\n",
    "scaler = StandardScaler(['f1', 'f2', 'f3', 'f4', 'f5'])\n",
    "scaler.fit(x_train)\n",
    "x_train = scaler.transform(x_train)\n",
    "x_test = scaler.transform(x_test)\n",
    "y_train = one_hot_encoding(y_train, N_CLASS)\n",
    "y_test = one_hot_encoding(y_test, N_CLASS)"
   ]
  },
  {
   "cell_type": "code",
   "execution_count": 8,
   "metadata": {
    "tags": [
     "outputPrepend"
    ]
   },
   "outputs": [
    {
     "name": "stdout",
     "output_type": "stream",
     "text": [
      "Checkpoint 10, Accuracy: 0.8765432098765432, Loss: 0.5846881866455078\n",
      "Checkpoint 20, Accuracy: 0.8395061728395061, Loss: 0.6262710006148727\n",
      "Checkpoint 30, Accuracy: 0.845679012345679, Loss: 0.5160495969984267\n",
      "Checkpoint 40, Accuracy: 0.8148148148148148, Loss: 0.566796479401765\n",
      "Checkpoint 50, Accuracy: 0.8518518518518519, Loss: 0.5127475879810475\n",
      "Checkpoint 60, Accuracy: 0.8827160493827161, Loss: 0.4642852853845667\n",
      "Checkpoint 70, Accuracy: 0.9012345679012346, Loss: 0.4036905853836625\n",
      "Checkpoint 80, Accuracy: 0.8950617283950617, Loss: 0.37447071075439453\n",
      "Checkpoint 90, Accuracy: 0.9197530864197531, Loss: 0.3721686469184028\n",
      "Checkpoint 100, Accuracy: 0.9074074074074074, Loss: 0.33860337292706527\n",
      "Checkpoint 110, Accuracy: 0.9135802469135802, Loss: 0.3053882740162037\n",
      "Checkpoint 120, Accuracy: 0.9629629629629629, Loss: 0.2765722627992983\n",
      "Checkpoint 130, Accuracy: 0.9567901234567902, Loss: 0.2793554023460106\n",
      "Checkpoint 140, Accuracy: 0.9506172839506173, Loss: 0.25141998573585794\n",
      "Checkpoint 150, Accuracy: 0.9567901234567902, Loss: 0.24446936006899234\n",
      "Checkpoint 160, Accuracy: 0.9382716049382716, Loss: 0.2556324181733308\n",
      "Checkpoint 170, Accuracy: 0.9506172839506173, Loss: 0.23827363826610423\n",
      "Checkpoint 180, Accuracy: 0.9567901234567902, Loss: 0.23197416022971826\n",
      "Checkpoint 190, Accuracy: 0.9567901234567902, Loss: 0.2406918207804362\n",
      "Checkpoint 200, Accuracy: 0.9629629629629629, Loss: 0.23068594049524377\n"
     ]
    }
   ],
   "source": [
    "# learning phase\n",
    "breakpoint = 10\n",
    "checkpoints = list()\n",
    "history = list()\n",
    "for century in range(0, EPOCHS, breakpoint):\n",
    "    sub_history = model.fit(x_train, y_train, breakpoint, verbose = 0)\n",
    "    score = model.evaluate(x_test, y_test, False, verbose = 0)\n",
    "    print('Checkpoint {}, Accuracy: {}, Loss: {}'.format(century+breakpoint, score['accuracy'], score[model.loss_fn]))\n",
    "    score['checkpoint'] = century + breakpoint\n",
    "    checkpoints.append(score)\n",
    "    history.extend(sub_history)\n",
    "    itr = century + breakpoint\n",
    "    model.optimizer.c1 = np.max([model.optimizer.C1[1] - ((model.optimizer.C1[1] - model.optimizer.C1[0]) * itr / EPOCHS), model.optimizer.C1[0]])\n",
    "    model.optimizer.c2 = np.min([model.optimizer.C2[0] + ((model.optimizer.C2[1] - model.optimizer.C2[0]) * itr / EPOCHS), model.optimizer.C2[1]])\n",
    "    model.optimizer.w = np.max([model.optimizer.w * model.optimizer.W_Decay, model.optimizer.W[0]])"
   ]
  },
  {
   "cell_type": "code",
   "execution_count": 9,
   "metadata": {},
   "outputs": [],
   "source": [
    "import matplotlib.pyplot as plt\n",
    "\n",
    "def draw_plot(x, y_list, x_label=None, y_label=None, legend=None, title=None):\n",
    "    fig, ax = plt.subplots(figsize=(12,5))\n",
    "    for xi, yi in zip(x, y_list):\n",
    "        ax.plot(xi, yi)\n",
    "    if x_label is not None and y_label is not None:\n",
    "        ax.set(xlabel=x_label, ylabel=y_label, title='{} VS {}'.format(x_label, y_label))\n",
    "    if legend is not None:\n",
    "        ax.legend(legend)\n",
    "    ax.grid()\n",
    "    plt.show()"
   ]
  },
  {
   "cell_type": "code",
   "execution_count": 10,
   "metadata": {},
   "outputs": [],
   "source": [
    "train_acc = [h['accuracy'] for h in history]\n",
    "train_mse = [h['mean_square_error'] for h in history]\n",
    "train_cce = [h['categorical_crossentropy'] for h in history]"
   ]
  },
  {
   "cell_type": "code",
   "execution_count": 11,
   "metadata": {},
   "outputs": [
    {
     "data": {
      "image/png": "[encoded data removed]",
      "text/plain": [
       "<Figure size 864x360 with 1 Axes>"
      ]
     },
     "metadata": {
      "needs_background": "light"
     },
     "output_type": "display_data"
    },
    {
     "data": {
      "image/png": "[encoded data removed]",
      "text/plain": [
       "<Figure size 864x360 with 1 Axes>"
      ]
     },
     "metadata": {
      "needs_background": "light"
     },
     "output_type": "display_data"
    }
   ],
   "source": [
    "draw_plot(x = [[i for i in range(len(history))], [(i+1)*breakpoint for i in range(len(checkpoints))]], y_list = [train_cce, [ ckp[model.loss_fn] for ckp in checkpoints ]], x_label = 'Epochs', \\\n",
    "    y_label = model.loss_fn, legend=['train', 'test'])\n",
    "acc = [ ckp['accuracy'] for ckp in checkpoints ]\n",
    "draw_plot(x = [[i for i in range(len(history))], [(i+1)*breakpoint for i in range(len(checkpoints))]], y_list = [train_acc, acc], x_label = 'Checkpoints', \\\n",
    "    y_label = 'accuracy', legend=['train', 'test'])"
   ]
  },
  {
   "cell_type": "code",
   "execution_count": 12,
   "metadata": {},
   "outputs": [
    {
     "name": "stdout",
     "output_type": "stream",
     "text": [
      "[1. 0. 0.] <-> [0.9155683  0.06723206 0.01719956]\n",
      "[1. 0. 0.] <-> [0.7269571  0.05354434 0.21949862]\n",
      "[1. 0. 0.] <-> [0.76344633 0.02970245 0.20685123]\n",
      "[1. 0. 0.] <-> [0.8606715  0.03811457 0.10121389]\n",
      "[0. 1. 0.] <-> [8.723050e-02 9.120011e-01 7.684119e-04]\n",
      "[0. 1. 0.] <-> [0.45377523 0.54163164 0.00459316]\n",
      "[1. 0. 0.] <-> [0.91751534 0.05818334 0.0243014 ]\n",
      "[0. 1. 0.] <-> [9.1936462e-02 9.0731412e-01 7.4946485e-04]\n",
      "[0. 0. 1.] <-> [0.1321292  0.00722283 0.8606479 ]\n",
      "[0. 0. 1.] <-> [0.56111497 0.01381525 0.42506975]\n",
      "[0. 1. 0.] <-> [0.49861062 0.49399808 0.00739125]\n",
      "[1. 0. 0.] <-> [0.89037704 0.01827255 0.09135045]\n",
      "[0. 0. 1.] <-> [0.3867387  0.01836105 0.5949003 ]\n",
      "[1. 0. 0.] <-> [0.93142074 0.03037976 0.03819944]\n",
      "[1. 0. 0.] <-> [0.8289547  0.05496552 0.11607977]\n",
      "[1. 0. 0.] <-> [0.8739894  0.04734248 0.07866814]\n",
      "[0. 1. 0.] <-> [8.587854e-02 9.133332e-01 7.882225e-04]\n",
      "[1. 0. 0.] <-> [0.8372618  0.1119022  0.05083606]\n",
      "[0. 1. 0.] <-> [0.56956244 0.42440954 0.00602807]\n",
      "[1. 0. 0.] <-> [0.89101106 0.09149638 0.01749251]\n",
      "[1. 0. 0.] <-> [0.88385254 0.01742375 0.09872375]\n",
      "[1. 0. 0.] <-> [0.89570767 0.01353074 0.09076157]\n",
      "[1. 0. 0.] <-> [0.9225964  0.05013171 0.02727188]\n",
      "[1. 0. 0.] <-> [0.63532996 0.35156825 0.01310176]\n",
      "[0. 1. 0.] <-> [0.10583564 0.89319223 0.00097214]\n",
      "[0. 0. 1.] <-> [0.45458558 0.00727693 0.5381375 ]\n",
      "[0. 0. 1.] <-> [0.24094597 0.00475491 0.75429916]\n",
      "[0. 1. 0.] <-> [0.29571477 0.701072   0.00321331]\n",
      "[0. 0. 1.] <-> [0.22274713 0.00470797 0.7725449 ]\n",
      "[1. 0. 0.] <-> [0.5666626  0.42090324 0.01243416]\n",
      "[1. 0. 0.] <-> [0.74475724 0.23999055 0.01525223]\n",
      "[0. 0. 1.] <-> [0.21524067 0.00448487 0.78027445]\n",
      "[1. 0. 0.] <-> [0.66713536 0.29729474 0.03556984]\n",
      "[1. 0. 0.] <-> [0.8550507  0.01821371 0.12673561]\n",
      "[1. 0. 0.] <-> [0.90956306 0.02567752 0.06475934]\n",
      "[1. 0. 0.] <-> [0.9086026  0.06531679 0.02608061]\n",
      "[1. 0. 0.] <-> [0.89243484 0.07685409 0.03071113]\n",
      "[1. 0. 0.] <-> [0.8323368  0.14770935 0.01995391]\n",
      "[0. 1. 0.] <-> [0.10778698 0.89115    0.00106301]\n",
      "[1. 0. 0.] <-> [0.80978984 0.16875404 0.02145617]\n",
      "[1. 0. 0.] <-> [0.90954393 0.05377254 0.03668362]\n",
      "[1. 0. 0.] <-> [0.9075917  0.01704741 0.07536089]\n",
      "[1. 0. 0.] <-> [0.91982013 0.03088113 0.04929869]\n",
      "[1. 0. 0.] <-> [0.9097232  0.03591492 0.05436182]\n",
      "[1. 0. 0.] <-> [0.81972796 0.16388853 0.01638355]\n",
      "[1. 0. 0.] <-> [0.9358629  0.02720962 0.03692757]\n",
      "[1. 0. 0.] <-> [0.8318328  0.04746812 0.12069905]\n",
      "[1. 0. 0.] <-> [0.8878979  0.09187894 0.02022322]\n",
      "[1. 0. 0.] <-> [0.8783475  0.07264754 0.04900494]\n",
      "[1. 0. 0.] <-> [0.9291087  0.04649639 0.02439503]\n",
      "[0. 1. 0.] <-> [0.16894495 0.8291516  0.00190338]\n",
      "[1. 0. 0.] <-> [0.88045055 0.09820321 0.02134619]\n",
      "[0. 0. 1.] <-> [0.13710453 0.00345729 0.8594382 ]\n",
      "[1. 0. 0.] <-> [0.9296184  0.02573914 0.04464243]\n",
      "[1. 0. 0.] <-> [0.9405028  0.03425419 0.02524301]\n",
      "[1. 0. 0.] <-> [0.77088684 0.21554922 0.01356391]\n",
      "[1. 0. 0.] <-> [0.58370787 0.40505472 0.01123745]\n",
      "[1. 0. 0.] <-> [0.483159   0.51014525 0.00669577]\n",
      "[1. 0. 0.] <-> [0.7553328  0.23503038 0.00963685]\n",
      "[1. 0. 0.] <-> [0.9010722  0.0247251  0.07420273]\n",
      "[0. 1. 0.] <-> [0.34216624 0.6547099  0.00312382]\n",
      "[1. 0. 0.] <-> [0.9405523  0.02115352 0.03829427]\n",
      "[1. 0. 0.] <-> [0.9194954  0.05009142 0.03041315]\n",
      "[1. 0. 0.] <-> [0.9278319  0.02997114 0.04219691]\n",
      "[1. 0. 0.] <-> [0.94167644 0.01513964 0.04318399]\n",
      "[1. 0. 0.] <-> [0.82820356 0.14813755 0.02365885]\n",
      "[0. 0. 1.] <-> [0.74289024 0.02507001 0.23203973]\n",
      "[1. 0. 0.] <-> [0.8687298  0.0140526  0.11721764]\n",
      "[1. 0. 0.] <-> [0.94274676 0.02172479 0.03552842]\n",
      "[1. 0. 0.] <-> [0.76664346 0.21650419 0.01685233]\n",
      "[1. 0. 0.] <-> [0.898617   0.07722916 0.02415377]\n",
      "[1. 0. 0.] <-> [0.9187893  0.03629939 0.04491124]\n",
      "[1. 0. 0.] <-> [0.8595683  0.1085944  0.03183727]\n",
      "[1. 0. 0.] <-> [0.6255118  0.02771384 0.34677428]\n",
      "[1. 0. 0.] <-> [0.9081038  0.04666072 0.04523554]\n",
      "[1. 0. 0.] <-> [0.7491306  0.20223787 0.04863144]\n",
      "[1. 0. 0.] <-> [0.9149281  0.06281789 0.02225396]\n",
      "[1. 0. 0.] <-> [0.9090287  0.07000671 0.0209646 ]\n",
      "[0. 1. 0.] <-> [9.0326495e-02 9.0888554e-01 7.8799721e-04]\n",
      "[1. 0. 0.] <-> [0.8784589  0.10003182 0.02150926]\n",
      "[1. 0. 0.] <-> [0.9303569  0.05010598 0.01953709]\n",
      "[0. 0. 1.] <-> [0.33526903 0.01053478 0.65419614]\n",
      "[1. 0. 0.] <-> [0.886899   0.08148844 0.03161259]\n",
      "[1. 0. 0.] <-> [0.89513844 0.03002143 0.07484017]\n",
      "[1. 0. 0.] <-> [0.8667418  0.10072193 0.03253633]\n",
      "[0. 0. 1.] <-> [0.72068447 0.01150638 0.26780915]\n",
      "[1. 0. 0.] <-> [0.90662307 0.06703451 0.02634235]\n",
      "[1. 0. 0.] <-> [0.90079904 0.08042166 0.01877938]\n",
      "[1. 0. 0.] <-> [0.9072831  0.01570318 0.07701379]\n",
      "[0. 1. 0.] <-> [0.30285883 0.6929657  0.00417547]\n",
      "[1. 0. 0.] <-> [0.8936294  0.06395761 0.04241298]\n",
      "[0. 0. 1.] <-> [0.16734649 0.00371876 0.8289347 ]\n",
      "[1. 0. 0.] <-> [0.9302187  0.02580785 0.04397345]\n",
      "[1. 0. 0.] <-> [0.9291781  0.03625141 0.03457054]\n",
      "[1. 0. 0.] <-> [0.9204672  0.04011598 0.03941678]\n",
      "[1. 0. 0.] <-> [0.8283539  0.11488401 0.05676209]\n",
      "[0. 1. 0.] <-> [0.374254   0.6225064  0.00323968]\n",
      "[1. 0. 0.] <-> [0.66249496 0.32739258 0.01011244]\n",
      "[1. 0. 0.] <-> [0.5426426  0.45061892 0.0067384 ]\n",
      "[1. 0. 0.] <-> [0.78112    0.01662426 0.20225576]\n",
      "[0. 0. 1.] <-> [0.12172562 0.00407601 0.8741983 ]\n",
      "[0. 0. 1.] <-> [0.1622709  0.00396723 0.8337619 ]\n",
      "[0. 1. 0.] <-> [9.5596276e-02 9.0366215e-01 7.4155175e-04]\n",
      "[1. 0. 0.] <-> [0.92020005 0.04552643 0.03427354]\n",
      "[0. 1. 0.] <-> [9.425874e-02 9.048802e-01 8.610321e-04]\n",
      "[1. 0. 0.] <-> [0.88059705 0.10038571 0.01901722]\n",
      "[1. 0. 0.] <-> [0.9066556  0.05844044 0.03490397]\n",
      "[1. 0. 0.] <-> [0.8895655  0.05396406 0.05647049]\n",
      "{'accuracy': 0.9629629629629629, 'mean_square_error': 0.10820778249106576, 'categorical_crossentropy': 0.23068594049524377, 'essential_metrics': {0: {'tp_hit': 77, 'fp_hit': 5, 'tn_hit': 25, 'fn_hit': 1}, 1: {'tp_hit': 14, 'fp_hit': 1, 'tn_hit': 91, 'fn_hit': 2}, 2: {'tp_hit': 11, 'fp_hit': 0, 'tn_hit': 94, 'fn_hit': 3}}}\n"
     ]
    }
   ],
   "source": [
    "# recall phase\n",
    "score = model.evaluate(x_test, y_test, False)\n",
    "print(score)"
   ]
  },
  {
   "cell_type": "code",
   "execution_count": 13,
   "metadata": {},
   "outputs": [
    {
     "name": "stdout",
     "output_type": "stream",
     "text": [
      "{'accuracy': 0.8765432098765432, 'mean_square_error': 0.31340896813949903, 'categorical_crossentropy': 0.5846881866455078, 'essential_metrics': {0: {'tp_hit': 78, 'fp_hit': 19, 'tn_hit': 11, 'fn_hit': 0}, 1: {'tp_hit': 10, 'fp_hit': 1, 'tn_hit': 91, 'fn_hit': 6}, 2: {'tp_hit': 0, 'fp_hit': 0, 'tn_hit': 94, 'fn_hit': 14}}, 'checkpoint': 10} \n",
      "\n",
      "\n",
      "{'accuracy': 0.8395061728395061, 'mean_square_error': 0.35739754395615325, 'categorical_crossentropy': 0.6262710006148727, 'essential_metrics': {0: {'tp_hit': 78, 'fp_hit': 26, 'tn_hit': 4, 'fn_hit': 0}, 1: {'tp_hit': 0, 'fp_hit': 0, 'tn_hit': 92, 'fn_hit': 16}, 2: {'tp_hit': 4, 'fp_hit': 0, 'tn_hit': 94, 'fn_hit': 10}}, 'checkpoint': 20} \n",
      "\n",
      "\n",
      "{'accuracy': 0.845679012345679, 'mean_square_error': 0.2902624873065338, 'categorical_crossentropy': 0.5160495969984267, 'essential_metrics': {0: {'tp_hit': 78, 'fp_hit': 25, 'tn_hit': 5, 'fn_hit': 0}, 1: {'tp_hit': 1, 'fp_hit': 0, 'tn_hit': 92, 'fn_hit': 15}, 2: {'tp_hit': 4, 'fp_hit': 0, 'tn_hit': 94, 'fn_hit': 10}}, 'checkpoint': 30} \n",
      "\n",
      "\n",
      "{'accuracy': 0.8148148148148148, 'mean_square_error': 0.33704124584865874, 'categorical_crossentropy': 0.566796479401765, 'essential_metrics': {0: {'tp_hit': 78, 'fp_hit': 30, 'tn_hit': 0, 'fn_hit': 0}, 1: {'tp_hit': 0, 'fp_hit': 0, 'tn_hit': 92, 'fn_hit': 16}, 2: {'tp_hit': 0, 'fp_hit': 0, 'tn_hit': 94, 'fn_hit': 14}}, 'checkpoint': 40} \n",
      "\n",
      "\n",
      "{'accuracy': 0.8518518518518519, 'mean_square_error': 0.29908879362402496, 'categorical_crossentropy': 0.5127475879810475, 'essential_metrics': {0: {'tp_hit': 78, 'fp_hit': 24, 'tn_hit': 6, 'fn_hit': 0}, 1: {'tp_hit': 2, 'fp_hit': 0, 'tn_hit': 92, 'fn_hit': 14}, 2: {'tp_hit': 4, 'fp_hit': 0, 'tn_hit': 94, 'fn_hit': 10}}, 'checkpoint': 50} \n",
      "\n",
      "\n",
      "{'accuracy': 0.8827160493827161, 'mean_square_error': 0.2622313084764138, 'categorical_crossentropy': 0.4642852853845667, 'essential_metrics': {0: {'tp_hit': 78, 'fp_hit': 19, 'tn_hit': 11, 'fn_hit': 0}, 1: {'tp_hit': 5, 'fp_hit': 0, 'tn_hit': 92, 'fn_hit': 11}, 2: {'tp_hit': 6, 'fp_hit': 0, 'tn_hit': 94, 'fn_hit': 8}}, 'checkpoint': 60} \n",
      "\n",
      "\n",
      "{'accuracy': 0.9012345679012346, 'mean_square_error': 0.22012961749812435, 'categorical_crossentropy': 0.4036905853836625, 'essential_metrics': {0: {'tp_hit': 78, 'fp_hit': 16, 'tn_hit': 14, 'fn_hit': 0}, 1: {'tp_hit': 11, 'fp_hit': 0, 'tn_hit': 92, 'fn_hit': 5}, 2: {'tp_hit': 3, 'fp_hit': 0, 'tn_hit': 94, 'fn_hit': 11}}, 'checkpoint': 70} \n",
      "\n",
      "\n",
      "{'accuracy': 0.8950617283950617, 'mean_square_error': 0.21550427811785802, 'categorical_crossentropy': 0.37447071075439453, 'essential_metrics': {0: {'tp_hit': 78, 'fp_hit': 17, 'tn_hit': 13, 'fn_hit': 0}, 1: {'tp_hit': 9, 'fp_hit': 0, 'tn_hit': 92, 'fn_hit': 7}, 2: {'tp_hit': 4, 'fp_hit': 0, 'tn_hit': 94, 'fn_hit': 10}}, 'checkpoint': 80} \n",
      "\n",
      "\n",
      "{'accuracy': 0.9197530864197531, 'mean_square_error': 0.19649829809381472, 'categorical_crossentropy': 0.3721686469184028, 'essential_metrics': {0: {'tp_hit': 78, 'fp_hit': 13, 'tn_hit': 17, 'fn_hit': 0}, 1: {'tp_hit': 12, 'fp_hit': 0, 'tn_hit': 92, 'fn_hit': 4}, 2: {'tp_hit': 5, 'fp_hit': 0, 'tn_hit': 94, 'fn_hit': 9}}, 'checkpoint': 90} \n",
      "\n",
      "\n",
      "{'accuracy': 0.9074074074074074, 'mean_square_error': 0.17984393257985826, 'categorical_crossentropy': 0.33860337292706527, 'essential_metrics': {0: {'tp_hit': 78, 'fp_hit': 15, 'tn_hit': 15, 'fn_hit': 0}, 1: {'tp_hit': 9, 'fp_hit': 0, 'tn_hit': 92, 'fn_hit': 7}, 2: {'tp_hit': 6, 'fp_hit': 0, 'tn_hit': 94, 'fn_hit': 8}}, 'checkpoint': 100} \n",
      "\n",
      "\n",
      "{'accuracy': 0.9135802469135802, 'mean_square_error': 0.1642325545403223, 'categorical_crossentropy': 0.3053882740162037, 'essential_metrics': {0: {'tp_hit': 78, 'fp_hit': 14, 'tn_hit': 16, 'fn_hit': 0}, 1: {'tp_hit': 10, 'fp_hit': 0, 'tn_hit': 92, 'fn_hit': 6}, 2: {'tp_hit': 6, 'fp_hit': 0, 'tn_hit': 94, 'fn_hit': 8}}, 'checkpoint': 110} \n",
      "\n",
      "\n",
      "{'accuracy': 0.9629629629629629, 'mean_square_error': 0.1368343187539718, 'categorical_crossentropy': 0.2765722627992983, 'essential_metrics': {0: {'tp_hit': 78, 'fp_hit': 6, 'tn_hit': 24, 'fn_hit': 0}, 1: {'tp_hit': 15, 'fp_hit': 0, 'tn_hit': 92, 'fn_hit': 1}, 2: {'tp_hit': 9, 'fp_hit': 0, 'tn_hit': 94, 'fn_hit': 5}}, 'checkpoint': 120} \n",
      "\n",
      "\n",
      "{'accuracy': 0.9567901234567902, 'mean_square_error': 0.13868984965611342, 'categorical_crossentropy': 0.2793554023460106, 'essential_metrics': {0: {'tp_hit': 77, 'fp_hit': 6, 'tn_hit': 24, 'fn_hit': 1}, 1: {'tp_hit': 15, 'fp_hit': 1, 'tn_hit': 91, 'fn_hit': 1}, 2: {'tp_hit': 9, 'fp_hit': 0, 'tn_hit': 94, 'fn_hit': 5}}, 'checkpoint': 130} \n",
      "\n",
      "\n",
      "{'accuracy': 0.9506172839506173, 'mean_square_error': 0.1249602002179656, 'categorical_crossentropy': 0.25141998573585794, 'essential_metrics': {0: {'tp_hit': 78, 'fp_hit': 8, 'tn_hit': 22, 'fn_hit': 0}, 1: {'tp_hit': 13, 'fp_hit': 0, 'tn_hit': 92, 'fn_hit': 3}, 2: {'tp_hit': 9, 'fp_hit': 0, 'tn_hit': 94, 'fn_hit': 5}}, 'checkpoint': 140} \n",
      "\n",
      "\n",
      "{'accuracy': 0.9567901234567902, 'mean_square_error': 0.12042424571472984, 'categorical_crossentropy': 0.24446936006899234, 'essential_metrics': {0: {'tp_hit': 78, 'fp_hit': 7, 'tn_hit': 23, 'fn_hit': 0}, 1: {'tp_hit': 14, 'fp_hit': 0, 'tn_hit': 92, 'fn_hit': 2}, 2: {'tp_hit': 9, 'fp_hit': 0, 'tn_hit': 94, 'fn_hit': 5}}, 'checkpoint': 150} \n",
      "\n",
      "\n",
      "{'accuracy': 0.9382716049382716, 'mean_square_error': 0.13800626745283043, 'categorical_crossentropy': 0.2556324181733308, 'essential_metrics': {0: {'tp_hit': 78, 'fp_hit': 10, 'tn_hit': 20, 'fn_hit': 0}, 1: {'tp_hit': 11, 'fp_hit': 0, 'tn_hit': 92, 'fn_hit': 5}, 2: {'tp_hit': 9, 'fp_hit': 0, 'tn_hit': 94, 'fn_hit': 5}}, 'checkpoint': 160} \n",
      "\n",
      "\n",
      "{'accuracy': 0.9506172839506173, 'mean_square_error': 0.12404638404638745, 'categorical_crossentropy': 0.23827363826610423, 'essential_metrics': {0: {'tp_hit': 78, 'fp_hit': 8, 'tn_hit': 22, 'fn_hit': 0}, 1: {'tp_hit': 13, 'fp_hit': 0, 'tn_hit': 92, 'fn_hit': 3}, 2: {'tp_hit': 9, 'fp_hit': 0, 'tn_hit': 94, 'fn_hit': 5}}, 'checkpoint': 170} \n",
      "\n",
      "\n",
      "{'accuracy': 0.9567901234567902, 'mean_square_error': 0.11978216602262916, 'categorical_crossentropy': 0.23197416022971826, 'essential_metrics': {0: {'tp_hit': 78, 'fp_hit': 7, 'tn_hit': 23, 'fn_hit': 0}, 1: {'tp_hit': 13, 'fp_hit': 0, 'tn_hit': 92, 'fn_hit': 3}, 2: {'tp_hit': 10, 'fp_hit': 0, 'tn_hit': 94, 'fn_hit': 4}}, 'checkpoint': 180} \n",
      "\n",
      "\n",
      "{'accuracy': 0.9567901234567902, 'mean_square_error': 0.12211882521796458, 'categorical_crossentropy': 0.2406918207804362, 'essential_metrics': {0: {'tp_hit': 78, 'fp_hit': 7, 'tn_hit': 23, 'fn_hit': 0}, 1: {'tp_hit': 13, 'fp_hit': 0, 'tn_hit': 92, 'fn_hit': 3}, 2: {'tp_hit': 10, 'fp_hit': 0, 'tn_hit': 94, 'fn_hit': 4}}, 'checkpoint': 190} \n",
      "\n",
      "\n",
      "{'accuracy': 0.9629629629629629, 'mean_square_error': 0.10820778249106576, 'categorical_crossentropy': 0.23068594049524377, 'essential_metrics': {0: {'tp_hit': 77, 'fp_hit': 5, 'tn_hit': 25, 'fn_hit': 1}, 1: {'tp_hit': 14, 'fp_hit': 1, 'tn_hit': 91, 'fn_hit': 2}, 2: {'tp_hit': 11, 'fp_hit': 0, 'tn_hit': 94, 'fn_hit': 3}}, 'checkpoint': 200} \n",
      "\n",
      "\n"
     ]
    }
   ],
   "source": [
    "for checkpoint in checkpoints:\n",
    "    print(checkpoint, '\\n\\n')"
   ]
  },
  {
   "cell_type": "code",
   "execution_count": 14,
   "metadata": {},
   "outputs": [
    {
     "name": "stdout",
     "output_type": "stream",
     "text": [
      "Layer 1\n",
      "Neuron 0: weights:\n",
      "[ 0.8782017  -1.126328   -1.0795482   0.00812434  0.159762  ]\n",
      " bias: 0.3650374412536621\n",
      "\n",
      "Neuron 1: weights:\n",
      "[ 0.01118211  1.5154357  -0.03943365 -1.0937028  -1.311823  ]\n",
      " bias: 1.0832040309906006\n",
      "\n",
      "Neuron 2: weights:\n",
      "[-0.01976796  0.15463096 -0.34099483 -0.08479716 -0.2923008 ]\n",
      " bias: 0.19200050830841064\n",
      "\n",
      "Neuron 3: weights:\n",
      "[-0.6923215   1.1664181   1.5645419  -0.00840527 -0.03409138]\n",
      " bias: -0.6252923011779785\n",
      "\n",
      "$\n",
      "Layer 2\n",
      "Neuron 0: weights:\n",
      "[ 0.6576633   2.5416136   0.73428977 -0.99562377]\n",
      " bias: -0.08243522047996521\n",
      "\n",
      "Neuron 1: weights:\n",
      "[-3.          1.2267979   0.15766782  2.770017  ]\n",
      " bias: 0.0628129169344902\n",
      "\n",
      "Neuron 2: weights:\n",
      "[ 2.6690915  -3.         -0.0100425  -0.00797657]\n",
      " bias: 0.052185848355293274\n",
      "\n",
      "$\n",
      "\n"
     ]
    }
   ],
   "source": [
    "print(model)"
   ]
  }
 ],
 "metadata": {
  "kernelspec": {
   "display_name": "Python 3",
   "language": "python",
   "name": "python3"
  },
  "language_info": {
   "codemirror_mode": {
    "name": "ipython",
    "version": 3
   },
   "file_extension": ".py",
   "mimetype": "text/x-python",
   "name": "python",
   "nbconvert_exporter": "python",
   "pygments_lexer": "ipython3",
   "version": "3.6.12"
  }
 },
 "nbformat": 4,
 "nbformat_minor": 2
}
