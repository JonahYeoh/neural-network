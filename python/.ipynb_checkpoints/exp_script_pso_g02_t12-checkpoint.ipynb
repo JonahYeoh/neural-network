{
 "cells": [
  {
   "cell_type": "code",
   "execution_count": 1,
   "metadata": {},
   "outputs": [],
   "source": [
    "# dependency\n",
    "import numpy as np\n",
    "import pandas as pd\n",
    "import copy\n",
    "import math\n",
    "import sys\n",
    "import os\n",
    "from activations import relu, leaky_relu, sigmoid, tanh, softmax, d_sigmoid, d_relu\n",
    "from initializers import glorot_uniform, random_normal, random_uniform\n",
    "from regularizers import l1_regularizer, l2_regularizer\n",
    "from utility import trim_tail, multiply, subtract, get_nparams, one_hot_encoding, get_data\n",
    "from metrics import MSE, CCE, ACC, PRECISION, RECALL, essential_metrics, wondering_penalty, close_gap_penalty\n",
    "from pso import PSO\n",
    "from ga import GA\n",
    "from nn import Network\n",
    "from layer import DenseLayer\n",
    "from scalers import MinMaxScaler, StandardScaler"
   ]
  },
  {
   "cell_type": "code",
   "execution_count": 2,
   "metadata": {},
   "outputs": [],
   "source": [
    "# reference\n",
    "metrics_fn_dict = dict()\n",
    "metrics_fn_dict['accuracy'] = ACC\n",
    "metrics_fn_dict['categorical_crossentropy'] = CCE\n",
    "metrics_fn_dict['mean_square_error'] = MSE\n",
    "metrics_fn_dict['precision'] = PRECISION\n",
    "metrics_fn_dict['recall'] = RECALL\n",
    "metrics_fn_dict['essential_metrics'] = essential_metrics"
   ]
  },
  {
   "cell_type": "code",
   "execution_count": 3,
   "metadata": {},
   "outputs": [],
   "source": [
    "# model\n",
    "model = Network(5, lr = None)\n",
    "model.add_layer(DenseLayer(1, 4, True, afn=sigmoid, dafn=None, rfn=None))\n",
    "model.add_layer(DenseLayer(2, 3, True, afn=softmax, dafn=None, rfn=None))"
   ]
  },
  {
   "cell_type": "code",
   "execution_count": 4,
   "metadata": {},
   "outputs": [
    {
     "name": "stdout",
     "output_type": "stream",
     "text": [
      "see one see two 2 2\n"
     ]
    }
   ],
   "source": [
    "pso = PSO(dict(m = 100,\n",
    "    weight_constraint = [-3, 3], \n",
    "    velocity_constraint = [-0.1, 0.1],\n",
    "    c1 = 2,\n",
    "    c2 = 2,\n",
    "    w = 1,\n",
    "    w_decay = 1,\n",
    "    scale_hyperparameter = False,\n",
    "    regularizer = None,\n",
    "    mask = True))"
   ]
  },
  {
   "cell_type": "code",
   "execution_count": 5,
   "metadata": {},
   "outputs": [
    {
     "name": "stdout",
     "output_type": "stream",
     "text": [
      "building layer 1 with 5\n",
      "24\n",
      "building layer 2 with 4\n",
      "15\n"
     ]
    }
   ],
   "source": [
    "model.compile(loss_fn = 'categorical_crossentropy', optimizer = pso, \\\n",
    "    metrics = ['accuracy', 'mean_square_error', 'categorical_crossentropy'])"
   ]
  },
  {
   "cell_type": "code",
   "execution_count": 6,
   "metadata": {},
   "outputs": [
    {
     "name": "stdout",
     "output_type": "stream",
     "text": [
      "<class 'pandas.core.frame.DataFrame'>\n",
      "RangeIndex: 107 entries, 0 to 106\n",
      "Data columns (total 6 columns):\n",
      " #   Column  Non-Null Count  Dtype  \n",
      "---  ------  --------------  -----  \n",
      " 0   f1      107 non-null    float32\n",
      " 1   f2      107 non-null    float32\n",
      " 2   f3      107 non-null    float32\n",
      " 3   f4      107 non-null    float32\n",
      " 4   f5      107 non-null    float32\n",
      " 5   label   107 non-null    float32\n",
      "dtypes: float32(6)\n",
      "memory usage: 2.6 KB\n",
      "None\n",
      "<class 'pandas.core.frame.DataFrame'>\n",
      "RangeIndex: 108 entries, 0 to 107\n",
      "Data columns (total 6 columns):\n",
      " #   Column  Non-Null Count  Dtype  \n",
      "---  ------  --------------  -----  \n",
      " 0   f1      108 non-null    float32\n",
      " 1   f2      108 non-null    float32\n",
      " 2   f3      108 non-null    float32\n",
      " 3   f4      108 non-null    float32\n",
      " 4   f5      108 non-null    float32\n",
      " 5   label   108 non-null    float32\n",
      "dtypes: float32(6)\n",
      "memory usage: 2.7 KB\n",
      "None\n"
     ]
    }
   ],
   "source": [
    "# data loading\n",
    "DATA = os.path.join('c:\\\\Users\\\\tcumi\\\\github_repo\\\\neural-network\\\\', 'dataset')\n",
    "GROUP = 2\n",
    "COLUMNS = ['f1', 'f2', 'f3', 'f4', 'f5', 'label']\n",
    "N_CLASS = 3\n",
    "EPOCHS = 500\n",
    "train_dir, test_dir = \"..//dataset//training_data{}.txt\".format(GROUP), \"..//dataset//testing_data{}.txt\".format(GROUP)\n",
    "train, test = get_data(DATA, train_dir, COLUMNS), get_data(DATA, test_dir, COLUMNS)\n",
    "# shuffle\n",
    "train, test = train.sample(frac=1), test.sample(frac=1)\n",
    "x_train, y_train = train.drop('label', axis=1), train['label']\n",
    "x_test, y_test = test.drop('label', axis=1), test['label']"
   ]
  },
  {
   "cell_type": "code",
   "execution_count": 7,
   "metadata": {},
   "outputs": [],
   "source": [
    "# data scaling and encoding\n",
    "scaler = StandardScaler(['f1', 'f2', 'f3', 'f4', 'f5'])\n",
    "scaler.fit(x_train)\n",
    "x_train = scaler.transform(x_train)\n",
    "x_test = scaler.transform(x_test)\n",
    "y_train = one_hot_encoding(y_train, N_CLASS)\n",
    "y_test = one_hot_encoding(y_test, N_CLASS)"
   ]
  },
  {
   "cell_type": "code",
   "execution_count": 8,
   "metadata": {
    "tags": [
     "outputPrepend"
    ]
   },
   "outputs": [
    {
     "name": "stdout",
     "output_type": "stream",
     "text": [
      "Checkpoint 100, Accuracy: 0.9629629629629629, Loss: 0.27774831983778214\n",
      "Checkpoint 200, Accuracy: 0.9629629629629629, Loss: 0.12188547628897207\n",
      "Checkpoint 300, Accuracy: 0.9691358024691358, Loss: 0.10570813991405346\n",
      "Checkpoint 400, Accuracy: 0.9691358024691358, Loss: 0.10979793689869068\n",
      "Checkpoint 500, Accuracy: 0.9691358024691358, Loss: 0.1067376489992495\n"
     ]
    }
   ],
   "source": [
    "# learning phase\n",
    "breakpoint = 100\n",
    "checkpoints = list()\n",
    "history = list()\n",
    "for century in range(0, EPOCHS, breakpoint):\n",
    "    sub_history = model.fit(x_train, y_train, breakpoint, verbose = 0)\n",
    "    score = model.evaluate(x_test, y_test, False, verbose = 0)\n",
    "    print('Checkpoint {}, Accuracy: {}, Loss: {}'.format(century+breakpoint, score['accuracy'], score[model.loss_fn]))\n",
    "    score['checkpoint'] = century + breakpoint\n",
    "    checkpoints.append(score)\n",
    "    history.extend(sub_history)"
   ]
  },
  {
   "cell_type": "code",
   "execution_count": 9,
   "metadata": {},
   "outputs": [],
   "source": [
    "import matplotlib.pyplot as plt\n",
    "\n",
    "def draw_plot(x, y_list, x_label=None, y_label=None, legend=None, title=None):\n",
    "    fig, ax = plt.subplots(figsize=(12,5))\n",
    "    for xi, yi in zip(x, y_list):\n",
    "        ax.plot(xi, yi)\n",
    "    if x_label is not None and y_label is not None:\n",
    "        ax.set(xlabel=x_label, ylabel=y_label, title='{} VS {}'.format(x_label, y_label))\n",
    "    if legend is not None:\n",
    "        ax.legend(legend)\n",
    "    ax.grid()\n",
    "    plt.show()"
   ]
  },
  {
   "cell_type": "code",
   "execution_count": 10,
   "metadata": {},
   "outputs": [
    {
     "name": "stdout",
     "output_type": "stream",
     "text": [
      "[1. 0. 0.] <-> [0.99591345 0.00132573 0.00276076]\n",
      "[0. 1. 0.] <-> [0.00550269 0.9920328  0.00246436]\n",
      "[1. 0. 0.] <-> [0.8425603  0.0021565  0.15528323]\n",
      "[1. 0. 0.] <-> [0.9965829  0.0019475  0.00146962]\n",
      "[1. 0. 0.] <-> [0.98694175 0.00155872 0.0114995 ]\n",
      "[0. 1. 0.] <-> [0.29076636 0.70022506 0.00900859]\n",
      "[1. 0. 0.] <-> [1.7278189e-02 1.2175810e-04 9.8260003e-01]\n",
      "[1. 0. 0.] <-> [0.99234796 0.00161508 0.00603696]\n",
      "[1. 0. 0.] <-> [0.86381584 0.00225153 0.13393266]\n",
      "[1. 0. 0.] <-> [0.908093   0.00212202 0.089785  ]\n",
      "[1. 0. 0.] <-> [0.9482248  0.0021497  0.04962549]\n",
      "[0. 1. 0.] <-> [0.04170059 0.9509376  0.00736175]\n",
      "[0. 1. 0.] <-> [0.7617537  0.22456568 0.01368061]\n",
      "[1. 0. 0.] <-> [0.99677676 0.00155021 0.001673  ]\n",
      "[0. 1. 0.] <-> [0.02056082 0.97525966 0.00417952]\n",
      "[1. 0. 0.] <-> [0.99695253 0.00150248 0.00154503]\n",
      "[1. 0. 0.] <-> [0.9936232  0.00153572 0.00484112]\n",
      "[1. 0. 0.] <-> [0.9962025  0.00152123 0.00227617]\n",
      "[1. 0. 0.] <-> [0.99593854 0.00236657 0.00169488]\n",
      "[1. 0. 0.] <-> [0.3621007  0.00133881 0.6365605 ]\n",
      "[1. 0. 0.] <-> [0.8965991  0.09639923 0.00700163]\n",
      "[1. 0. 0.] <-> [0.996305   0.00136067 0.00233446]\n",
      "[1. 0. 0.] <-> [0.9916756  0.0015111  0.00681337]\n",
      "[0. 1. 0.] <-> [0.13649464 0.85586506 0.00764028]\n",
      "[0. 0. 1.] <-> [0.56920516 0.00222983 0.428565  ]\n",
      "[1. 0. 0.] <-> [0.9971975  0.00134001 0.00146252]\n",
      "[1. 0. 0.] <-> [0.99702543 0.00167081 0.0013037 ]\n",
      "[1. 0. 0.] <-> [0.9955569  0.00220004 0.00224299]\n",
      "[0. 1. 0.] <-> [0.418983   0.57185155 0.00916543]\n",
      "[1. 0. 0.] <-> [0.99736613 0.00137769 0.00125629]\n",
      "[1. 0. 0.] <-> [0.5996848  0.00181301 0.39850223]\n",
      "[1. 0. 0.] <-> [0.9805086  0.01619081 0.00330062]\n",
      "[1. 0. 0.] <-> [0.9906517  0.00755639 0.00179191]\n",
      "[1. 0. 0.] <-> [0.99270236 0.00159652 0.00570106]\n",
      "[1. 0. 0.] <-> [0.9957314  0.00150518 0.00276346]\n",
      "[1. 0. 0.] <-> [0.99550736 0.00243997 0.00205267]\n",
      "[1. 0. 0.] <-> [0.99406046 0.00149964 0.00443991]\n",
      "[1. 0. 0.] <-> [0.9950075  0.0014518  0.00354065]\n",
      "[1. 0. 0.] <-> [0.99622476 0.00229626 0.00147908]\n",
      "[1. 0. 0.] <-> [0.98037857 0.00182596 0.01779547]\n",
      "[0. 0. 1.] <-> [1.08667806e-01 5.01358532e-04 8.90830815e-01]\n",
      "[0. 0. 1.] <-> [6.9964207e-03 5.8719499e-05 9.9294490e-01]\n",
      "[1. 0. 0.] <-> [0.99302316 0.00153616 0.00544069]\n",
      "[1. 0. 0.] <-> [0.99632144 0.00171626 0.00196238]\n",
      "[0. 0. 1.] <-> [4.226199e-03 6.718757e-05 9.957066e-01]\n",
      "[1. 0. 0.] <-> [0.9900775  0.00164312 0.00827929]\n",
      "[1. 0. 0.] <-> [0.99149114 0.00656238 0.00194644]\n",
      "[1. 0. 0.] <-> [0.99172664 0.00164924 0.00662419]\n",
      "[1. 0. 0.] <-> [0.9970969  0.00164525 0.00125785]\n",
      "[1. 0. 0.] <-> [0.9968424  0.00165288 0.00150479]\n",
      "[0. 1. 0.] <-> [0.00552865 0.99200225 0.0024691 ]\n",
      "[1. 0. 0.] <-> [0.9964059  0.00192689 0.00166716]\n",
      "[1. 0. 0.] <-> [0.9946636  0.00144938 0.00388693]\n",
      "[1. 0. 0.] <-> [0.9944799  0.00395338 0.00156674]\n",
      "[1. 0. 0.] <-> [0.99476177 0.00364221 0.00159607]\n",
      "[1. 0. 0.] <-> [0.99659866 0.00199335 0.00140809]\n",
      "[1. 0. 0.] <-> [0.99712026 0.00144863 0.00143115]\n",
      "[0. 1. 0.] <-> [0.00580561 0.9916747  0.00251965]\n",
      "[1. 0. 0.] <-> [0.9949614  0.00138466 0.00365402]\n",
      "[1. 0. 0.] <-> [0.99635625 0.00220205 0.00144173]\n",
      "[1. 0. 0.] <-> [0.9968514  0.00161996 0.00152872]\n",
      "[1. 0. 0.] <-> [0.99618465 0.00248617 0.0013292 ]\n",
      "[0. 1. 0.] <-> [0.00550278 0.992038   0.00245919]\n",
      "[0. 1. 0.] <-> [0.00550286 0.99203765 0.00245944]\n",
      "[1. 0. 0.] <-> [0.9076855  0.00264416 0.08967026]\n",
      "[0. 0. 1.] <-> [6.750267e-03 5.718789e-05 9.931926e-01]\n",
      "[1. 0. 0.] <-> [0.9825226  0.00189496 0.01558243]\n",
      "[1. 0. 0.] <-> [0.940685  0.0022705 0.0570446]\n",
      "[1. 0. 0.] <-> [0.996231   0.00135546 0.0024136 ]\n",
      "[0. 0. 1.] <-> [6.6065607e-03 5.6107983e-05 9.9333739e-01]\n",
      "[1. 0. 0.] <-> [0.9972308  0.0013446  0.00142457]\n",
      "[1. 0. 0.] <-> [0.99687886 0.00135095 0.00177016]\n",
      "[1. 0. 0.] <-> [0.96644086 0.00205772 0.03150142]\n",
      "[0. 1. 0.] <-> [0.00963517 0.9873673  0.00299761]\n",
      "[1. 0. 0.] <-> [0.9032286  0.08949394 0.00727748]\n",
      "[1. 0. 0.] <-> [0.9664876  0.00209054 0.03142184]\n",
      "[0. 0. 1.] <-> [6.607540e-03 5.611488e-05 9.933363e-01]\n",
      "[1. 0. 0.] <-> [0.9970987  0.00144957 0.00145176]\n",
      "[1. 0. 0.] <-> [0.98882383 0.0017005  0.00947563]\n",
      "[1. 0. 0.] <-> [0.9848881  0.01207776 0.00303412]\n",
      "[0. 0. 1.] <-> [6.606686e-03 5.610926e-05 9.933373e-01]\n",
      "[0. 1. 0.] <-> [0.00566639 0.99182886 0.00250465]\n",
      "[0. 1. 0.] <-> [0.00721382 0.9899547  0.00283151]\n",
      "[1. 0. 0.] <-> [0.9961541  0.00248506 0.00136076]\n",
      "[1. 0. 0.] <-> [0.9965371  0.00132168 0.00214124]\n",
      "[1. 0. 0.] <-> [0.99513173 0.00151305 0.00335526]\n",
      "[1. 0. 0.] <-> [0.9951056  0.00161232 0.00328205]\n",
      "[0. 1. 0.] <-> [0.01085227 0.9857883  0.00335939]\n",
      "[1. 0. 0.] <-> [0.9962948  0.00228972 0.00141549]\n",
      "[1. 0. 0.] <-> [0.99607444 0.0025468  0.00137884]\n",
      "[0. 0. 1.] <-> [6.6065295e-03 5.6107769e-05 9.9333739e-01]\n",
      "[0. 0. 1.] <-> [6.6495007e-03 5.6420715e-05 9.9329412e-01]\n",
      "[1. 0. 0.] <-> [0.99523973 0.00148699 0.00327333]\n",
      "[1. 0. 0.] <-> [0.9966101  0.00208876 0.00130118]\n",
      "[0. 0. 1.] <-> [6.6065295e-03 5.6107769e-05 9.9333739e-01]\n",
      "[1. 0. 0.] <-> [0.99334186 0.00167399 0.00498411]\n",
      "[1. 0. 0.] <-> [0.42890432 0.56040275 0.01069299]\n",
      "[0. 0. 1.] <-> [8.115088e-03 6.680556e-05 9.918181e-01]\n",
      "[1. 0. 0.] <-> [0.99747145 0.00132689 0.00120164]\n",
      "[1. 0. 0.] <-> [0.9789448  0.00175179 0.01930346]\n",
      "[1. 0. 0.] <-> [0.99611086 0.00141397 0.0024751 ]\n",
      "[1. 0. 0.] <-> [0.9880265  0.00860518 0.00336834]\n",
      "[1. 0. 0.] <-> [0.9633345  0.00197061 0.03469485]\n",
      "[1. 0. 0.] <-> [0.995959   0.00166805 0.00237303]\n",
      "[1. 0. 0.] <-> [0.99596345 0.00269904 0.00133745]\n",
      "[0. 0. 1.] <-> [6.045628e-03 5.688974e-05 9.938975e-01]\n",
      "[1. 0. 0.] <-> [0.994616   0.00176435 0.00361959]\n",
      "[1. 0. 0.] <-> [0.9956755  0.00163866 0.00268576]\n",
      "{'accuracy': 0.9691358024691358, 'mean_square_error': 0.058518368727478676, 'categorical_crossentropy': 0.1067376489992495, 'essential_metrics': {0: {'tp_hit': 77, 'fp_hit': 2, 'tn_hit': 26, 'fn_hit': 3}, 1: {'tp_hit': 14, 'fp_hit': 1, 'tn_hit': 92, 'fn_hit': 1}, 2: {'tp_hit': 12, 'fp_hit': 2, 'tn_hit': 93, 'fn_hit': 1}}}\n"
     ]
    }
   ],
   "source": [
    "# recall phase\n",
    "score = model.evaluate(x_test, y_test, False)\n",
    "print(score)"
   ]
  },
  {
   "cell_type": "code",
   "execution_count": 11,
   "metadata": {},
   "outputs": [
    {
     "data": {
      "image/png": "[encoded data removed]",
      "text/plain": [
       "<Figure size 864x360 with 1 Axes>"
      ]
     },
     "metadata": {
      "needs_background": "light"
     },
     "output_type": "display_data"
    },
    {
     "data": {
      "image/png": "[encoded data removed]",
      "text/plain": [
       "<Figure size 864x360 with 1 Axes>"
      ]
     },
     "metadata": {
      "needs_background": "light"
     },
     "output_type": "display_data"
    }
   ],
   "source": [
    "draw_plot(x = [[i for i in range(len(history))], [(i+1)*breakpoint for i in range(len(checkpoints))]], y_list = [history, [ ckp[model.loss_fn] for ckp in checkpoints ]], x_label = 'Epochs', \\\n",
    "    y_label = model.loss_fn, legend=['train', 'test'])\n",
    "acc = [ ckp['accuracy'] for ckp in checkpoints ]\n",
    "draw_plot(x = [[(i+1)*breakpoint for i in range(len(checkpoints))]], y_list = [acc], x_label = 'Checkpoints', \\\n",
    "    y_label = 'accuracy')"
   ]
  },
  {
   "cell_type": "code",
   "execution_count": 12,
   "metadata": {},
   "outputs": [
    {
     "name": "stdout",
     "output_type": "stream",
     "text": [
      "{'accuracy': 0.9629629629629629, 'mean_square_error': 0.1270220770835133, 'categorical_crossentropy': 0.27774831983778214, 'essential_metrics': {0: {'tp_hit': 80, 'fp_hit': 6, 'tn_hit': 22, 'fn_hit': 0}, 1: {'tp_hit': 12, 'fp_hit': 0, 'tn_hit': 93, 'fn_hit': 3}, 2: {'tp_hit': 10, 'fp_hit': 0, 'tn_hit': 95, 'fn_hit': 3}}, 'checkpoint': 100} \n",
      "\n",
      "\n",
      "{'accuracy': 0.9629629629629629, 'mean_square_error': 0.07170557297687401, 'categorical_crossentropy': 0.12188547628897207, 'essential_metrics': {0: {'tp_hit': 77, 'fp_hit': 3, 'tn_hit': 25, 'fn_hit': 3}, 1: {'tp_hit': 13, 'fp_hit': 0, 'tn_hit': 93, 'fn_hit': 2}, 2: {'tp_hit': 12, 'fp_hit': 3, 'tn_hit': 92, 'fn_hit': 1}}, 'checkpoint': 200} \n",
      "\n",
      "\n",
      "{'accuracy': 0.9691358024691358, 'mean_square_error': 0.058281626522122446, 'categorical_crossentropy': 0.10570813991405346, 'essential_metrics': {0: {'tp_hit': 77, 'fp_hit': 2, 'tn_hit': 26, 'fn_hit': 3}, 1: {'tp_hit': 14, 'fp_hit': 1, 'tn_hit': 92, 'fn_hit': 1}, 2: {'tp_hit': 12, 'fp_hit': 2, 'tn_hit': 93, 'fn_hit': 1}}, 'checkpoint': 300} \n",
      "\n",
      "\n",
      "{'accuracy': 0.9691358024691358, 'mean_square_error': 0.061348076075564126, 'categorical_crossentropy': 0.10979793689869068, 'essential_metrics': {0: {'tp_hit': 77, 'fp_hit': 2, 'tn_hit': 26, 'fn_hit': 3}, 1: {'tp_hit': 14, 'fp_hit': 1, 'tn_hit': 92, 'fn_hit': 1}, 2: {'tp_hit': 12, 'fp_hit': 2, 'tn_hit': 93, 'fn_hit': 1}}, 'checkpoint': 400} \n",
      "\n",
      "\n",
      "{'accuracy': 0.9691358024691358, 'mean_square_error': 0.058518368727478676, 'categorical_crossentropy': 0.1067376489992495, 'essential_metrics': {0: {'tp_hit': 77, 'fp_hit': 2, 'tn_hit': 26, 'fn_hit': 3}, 1: {'tp_hit': 14, 'fp_hit': 1, 'tn_hit': 92, 'fn_hit': 1}, 2: {'tp_hit': 12, 'fp_hit': 2, 'tn_hit': 93, 'fn_hit': 1}}, 'checkpoint': 500} \n",
      "\n",
      "\n"
     ]
    }
   ],
   "source": [
    "for checkpoint in checkpoints:\n",
    "    print(checkpoint, '\\n\\n')"
   ]
  },
  {
   "cell_type": "code",
   "execution_count": 13,
   "metadata": {},
   "outputs": [
    {
     "name": "stdout",
     "output_type": "stream",
     "text": [
      "Layer 1\n",
      "Neuron 0: weights:\n",
      "[ 0.12264265 -3.         -1.0484732   0.85920465  3.        ]\n",
      " bias: -3.0\n",
      "\n",
      "Neuron 1: weights:\n",
      "[ 0.14178686 -3.         -0.11327872  1.0184718   3.        ]\n",
      " bias: -2.556894540786743\n",
      "\n",
      "Neuron 2: weights:\n",
      "[ 1.89875   -3.        -2.4481955 -3.         3.       ]\n",
      " bias: 3.0\n",
      "\n",
      "Neuron 3: weights:\n",
      "[ 1.9551401 -3.        -1.7215251 -0.4719549  3.       ]\n",
      " bias: 3.0\n",
      "\n",
      "$\n",
      "Layer 2\n",
      "Neuron 0: weights:\n",
      "[-3. -3.  3.  3.]\n",
      " bias: -2.194525957107544\n",
      "\n",
      "Neuron 1: weights:\n",
      "[-0.96306556 -3.         -3.         -3.        ]\n",
      " bias: 3.0\n",
      "\n",
      "Neuron 2: weights:\n",
      "[ 3.         3.        -2.3239996  2.1424859]\n",
      " bias: -3.0\n",
      "\n",
      "$\n",
      "\n"
     ]
    }
   ],
   "source": [
    "print(model)"
   ]
  }
 ],
 "metadata": {
  "kernelspec": {
   "display_name": "Python 3",
   "language": "python",
   "name": "python3"
  },
  "language_info": {
   "codemirror_mode": {
    "name": "ipython",
    "version": 3
   },
   "file_extension": ".py",
   "mimetype": "text/x-python",
   "name": "python",
   "nbconvert_exporter": "python",
   "pygments_lexer": "ipython3",
   "version": "3.6.10"
  }
 },
 "nbformat": 4,
 "nbformat_minor": 2
}
