{
 "cells": [
  {
   "cell_type": "code",
   "execution_count": 1,
   "metadata": {},
   "outputs": [],
   "source": [
    "# dependency\n",
    "import numpy as np\n",
    "import pandas as pd\n",
    "import copy\n",
    "import math\n",
    "import sys\n",
    "import os\n",
    "from activations import relu, leaky_relu, sigmoid, tanh, softmax, d_sigmoid, d_relu\n",
    "from initializers import glorot_uniform, random_normal, random_uniform\n",
    "from regularizers import l1_regularizer, l2_regularizer\n",
    "from utility import trim_tail, multiply, subtract, get_nparams, one_hot_encoding, get_data\n",
    "from metrics import MSE, CCE, ACC, PRECISION, RECALL, essential_metrics, wondering_penalty, close_gap_penalty\n",
    "from pso import PSO\n",
    "from ga import GA\n",
    "from nn import Network\n",
    "from layer import DenseLayer\n",
    "from scalers import MinMaxScaler, StandardScaler"
   ]
  },
  {
   "cell_type": "code",
   "execution_count": 2,
   "metadata": {},
   "outputs": [],
   "source": [
    "# reference\n",
    "metrics_fn_dict = dict()\n",
    "metrics_fn_dict['accuracy'] = ACC\n",
    "metrics_fn_dict['categorical_crossentropy'] = CCE\n",
    "metrics_fn_dict['mean_square_error'] = MSE\n",
    "metrics_fn_dict['precision'] = PRECISION\n",
    "metrics_fn_dict['recall'] = RECALL\n",
    "metrics_fn_dict['essential_metrics'] = essential_metrics"
   ]
  },
  {
   "cell_type": "code",
   "execution_count": 3,
   "metadata": {},
   "outputs": [],
   "source": [
    "# model\n",
    "model = Network(5, lr = None)\n",
    "model.add_layer(DenseLayer(1, 4, True, afn=sigmoid, dafn=None, rfn=None))\n",
    "model.add_layer(DenseLayer(2, 3, True, afn=softmax, dafn=None, rfn=None))"
   ]
  },
  {
   "cell_type": "code",
   "execution_count": 4,
   "metadata": {},
   "outputs": [
    {
     "name": "stdout",
     "output_type": "stream",
     "text": [
      "see one see two 2 2\n"
     ]
    }
   ],
   "source": [
    "pso = PSO(dict(m = 100,\n",
    "    weight_constraint = [-3, 3], \n",
    "    velocity_constraint = [-0.1, 0.1],\n",
    "    c1 = 2,\n",
    "    c2 = 2,\n",
    "    w = 1,\n",
    "    w_decay = 1,\n",
    "    scale_hyperparameter = False,\n",
    "    regularizer = None,\n",
    "    mask = True))"
   ]
  },
  {
   "cell_type": "code",
   "execution_count": 5,
   "metadata": {},
   "outputs": [
    {
     "name": "stdout",
     "output_type": "stream",
     "text": [
      "building layer 1 with 5\n",
      "24\n",
      "building layer 2 with 4\n",
      "15\n"
     ]
    }
   ],
   "source": [
    "model.compile(loss_fn = 'categorical_crossentropy', optimizer = pso, \\\n",
    "    metrics = ['accuracy', 'mean_square_error', 'categorical_crossentropy'])"
   ]
  },
  {
   "cell_type": "code",
   "execution_count": 6,
   "metadata": {},
   "outputs": [
    {
     "name": "stdout",
     "output_type": "stream",
     "text": [
      "<class 'pandas.core.frame.DataFrame'>\n",
      "RangeIndex: 107 entries, 0 to 106\n",
      "Data columns (total 6 columns):\n",
      " #   Column  Non-Null Count  Dtype  \n",
      "---  ------  --------------  -----  \n",
      " 0   f1      107 non-null    float32\n",
      " 1   f2      107 non-null    float32\n",
      " 2   f3      107 non-null    float32\n",
      " 3   f4      107 non-null    float32\n",
      " 4   f5      107 non-null    float32\n",
      " 5   label   107 non-null    float32\n",
      "dtypes: float32(6)\n",
      "memory usage: 2.6 KB\n",
      "None\n",
      "<class 'pandas.core.frame.DataFrame'>\n",
      "RangeIndex: 108 entries, 0 to 107\n",
      "Data columns (total 6 columns):\n",
      " #   Column  Non-Null Count  Dtype  \n",
      "---  ------  --------------  -----  \n",
      " 0   f1      108 non-null    float32\n",
      " 1   f2      108 non-null    float32\n",
      " 2   f3      108 non-null    float32\n",
      " 3   f4      108 non-null    float32\n",
      " 4   f5      108 non-null    float32\n",
      " 5   label   108 non-null    float32\n",
      "dtypes: float32(6)\n",
      "memory usage: 2.7 KB\n",
      "None\n"
     ]
    }
   ],
   "source": [
    "# data loading\n",
    "DATA = os.path.join('c:\\\\Users\\\\tcumi\\\\github_repo\\\\neural-network\\\\', 'dataset')\n",
    "GROUP = 2\n",
    "COLUMNS = ['f1', 'f2', 'f3', 'f4', 'f5', 'label']\n",
    "N_CLASS = 3\n",
    "EPOCHS = 500\n",
    "train_dir, test_dir = \"..//dataset//training_data{}.txt\".format(GROUP), \"..//dataset//testing_data{}.txt\".format(GROUP)\n",
    "train, test = get_data(DATA, train_dir, COLUMNS), get_data(DATA, test_dir, COLUMNS)\n",
    "# shuffle\n",
    "train, test = train.sample(frac=1), test.sample(frac=1)\n",
    "x_train, y_train = train.drop('label', axis=1), train['label']\n",
    "x_test, y_test = test.drop('label', axis=1), test['label']"
   ]
  },
  {
   "cell_type": "code",
   "execution_count": 7,
   "metadata": {},
   "outputs": [],
   "source": [
    "# data scaling and encoding\n",
    "scaler = StandardScaler(['f1', 'f2', 'f3', 'f4', 'f5'])\n",
    "scaler.fit(x_train)\n",
    "x_train = scaler.transform(x_train)\n",
    "x_test = scaler.transform(x_test)\n",
    "y_train = one_hot_encoding(y_train, N_CLASS)\n",
    "y_test = one_hot_encoding(y_test, N_CLASS)"
   ]
  },
  {
   "cell_type": "code",
   "execution_count": 8,
   "metadata": {
    "tags": [
     "outputPrepend"
    ]
   },
   "outputs": [
    {
     "name": "stdout",
     "output_type": "stream",
     "text": [
      "Checkpoint 100, Accuracy: 0.9629629629629629, Loss: 0.2188213136461046\n",
      "Checkpoint 200, Accuracy: 0.9691358024691358, Loss: 0.126622270654749\n",
      "Checkpoint 300, Accuracy: 0.9691358024691358, Loss: 0.1204915929723669\n",
      "Checkpoint 400, Accuracy: 0.9814814814814815, Loss: 0.0950258837805854\n",
      "Checkpoint 500, Accuracy: 0.9814814814814815, Loss: 0.09745305555838125\n"
     ]
    }
   ],
   "source": [
    "# learning phase\n",
    "breakpoint = 100\n",
    "checkpoints = list()\n",
    "history = list()\n",
    "for century in range(0, EPOCHS, breakpoint):\n",
    "    sub_history = model.fit(x_train, y_train, breakpoint, verbose = 0)\n",
    "    score = model.evaluate(x_test, y_test, False, verbose = 0)\n",
    "    print('Checkpoint {}, Accuracy: {}, Loss: {}'.format(century+breakpoint, score['accuracy'], score[model.loss_fn]))\n",
    "    score['checkpoint'] = century + breakpoint\n",
    "    checkpoints.append(score)\n",
    "    history.extend(sub_history)"
   ]
  },
  {
   "cell_type": "code",
   "execution_count": 9,
   "metadata": {},
   "outputs": [],
   "source": [
    "import matplotlib.pyplot as plt\n",
    "\n",
    "def draw_plot(x, y_list, x_label=None, y_label=None, legend=None, title=None):\n",
    "    fig, ax = plt.subplots(figsize=(12,5))\n",
    "    for xi, yi in zip(x, y_list):\n",
    "        ax.plot(xi, yi)\n",
    "    if x_label is not None and y_label is not None:\n",
    "        ax.set(xlabel=x_label, ylabel=y_label, title='{} VS {}'.format(x_label, y_label))\n",
    "    if legend is not None:\n",
    "        ax.legend(legend)\n",
    "    ax.grid()\n",
    "    plt.show()"
   ]
  },
  {
   "cell_type": "code",
   "execution_count": 10,
   "metadata": {},
   "outputs": [
    {
     "name": "stdout",
     "output_type": "stream",
     "text": [
      "[0. 0. 1.] <-> [7.3634316e-03 9.4035222e-06 9.9262720e-01]\n",
      "[1. 0. 0.] <-> [0.9970969  0.00175726 0.00114589]\n",
      "[1. 0. 0.] <-> [0.9966666  0.00131478 0.00201862]\n",
      "[1. 0. 0.] <-> [0.9946649  0.00142482 0.00391037]\n",
      "[1. 0. 0.] <-> [0.9881166  0.01073504 0.00114835]\n",
      "[1. 0. 0.] <-> [0.99560225 0.00163654 0.0027612 ]\n",
      "[0. 1. 0.] <-> [4.7882162e-03 9.9518955e-01 2.2186330e-05]\n",
      "[1. 0. 0.] <-> [0.99571335 0.0015628  0.00272392]\n",
      "[1. 0. 0.] <-> [9.9654859e-01 2.4729748e-03 9.7844144e-04]\n",
      "[0. 1. 0.] <-> [4.8091365e-03 9.9516857e-01 2.2284636e-05]\n",
      "[0. 0. 1.] <-> [7.5367214e-03 9.6388076e-06 9.9245363e-01]\n",
      "[1. 0. 0.] <-> [0.99663407 0.00149037 0.00187568]\n",
      "[1. 0. 0.] <-> [0.9966827  0.0020108  0.00130642]\n",
      "[1. 0. 0.] <-> [9.9657083e-01 2.4788103e-03 9.5042080e-04]\n",
      "[1. 0. 0.] <-> [0.9950016  0.00129049 0.00370789]\n",
      "[1. 0. 0.] <-> [0.9953903  0.00131084 0.00329881]\n",
      "[1. 0. 0.] <-> [0.9131969  0.08539916 0.00140392]\n",
      "[1. 0. 0.] <-> [0.99589586 0.00146272 0.00264141]\n",
      "[0. 0. 1.] <-> [7.3636156e-03 9.4038423e-06 9.9262697e-01]\n",
      "[1. 0. 0.] <-> [0.9873044  0.00130329 0.01139233]\n",
      "[0. 1. 0.] <-> [8.5549634e-03 9.9140936e-01 3.5703157e-05]\n",
      "[1. 0. 0.] <-> [0.5913535  0.00077443 0.40787205]\n",
      "[1. 0. 0.] <-> [0.9850182  0.00128515 0.01369661]\n",
      "[1. 0. 0.] <-> [9.9687910e-01 2.1399593e-03 9.8096440e-04]\n",
      "[1. 0. 0.] <-> [9.9757308e-01 1.5127684e-03 9.1419125e-04]\n",
      "[1. 0. 0.] <-> [0.98618746 0.00127294 0.01253955]\n",
      "[0. 1. 0.] <-> [9.4290962e-03 9.9053150e-01 3.9478058e-05]\n",
      "[1. 0. 0.] <-> [0.9892278  0.00129138 0.00948078]\n",
      "[1. 0. 0.] <-> [0.99718684 0.00144785 0.00136522]\n",
      "[1. 0. 0.] <-> [0.99739504 0.00146645 0.00113845]\n",
      "[1. 0. 0.] <-> [0.9967734  0.0013708  0.00185581]\n",
      "[1. 0. 0.] <-> [0.8670742  0.00111686 0.13180901]\n",
      "[1. 0. 0.] <-> [0.9921015  0.00129632 0.00660218]\n",
      "[1. 0. 0.] <-> [0.99566394 0.00153989 0.00279615]\n",
      "[1. 0. 0.] <-> [0.9892994  0.00129778 0.00940287]\n",
      "[0. 1. 0.] <-> [4.7881529e-03 9.9518967e-01 2.2185552e-05]\n",
      "[0. 0. 1.] <-> [7.3633995e-03 9.4034867e-06 9.9262720e-01]\n",
      "[1. 0. 0.] <-> [0.9967891  0.0014556  0.00175532]\n",
      "[1. 0. 0.] <-> [0.9961606  0.00247284 0.00136647]\n",
      "[0. 0. 1.] <-> [7.1880715e-03 1.0104804e-05 9.9280190e-01]\n",
      "[1. 0. 0.] <-> [0.989806   0.00854424 0.00164979]\n",
      "[1. 0. 0.] <-> [9.971505e-01 1.872579e-03 9.769303e-04]\n",
      "[1. 0. 0.] <-> [0.99198115 0.00698609 0.00103284]\n",
      "[1. 0. 0.] <-> [9.9724495e-01 1.8076372e-03 9.4747473e-04]\n",
      "[1. 0. 0.] <-> [0.9523254  0.00125534 0.04641922]\n",
      "[1. 0. 0.] <-> [0.99637455 0.0017207  0.00190475]\n",
      "[1. 0. 0.] <-> [0.99744844 0.00148153 0.00107001]\n",
      "[1. 0. 0.] <-> [0.9902001  0.00157249 0.00822732]\n",
      "[0. 1. 0.] <-> [6.2961718e-03 9.9367565e-01 2.8210123e-05]\n",
      "[1. 0. 0.] <-> [0.9961868  0.00273614 0.00107711]\n",
      "[0. 0. 1.] <-> [8.6500710e-03 1.1061371e-05 9.9133885e-01]\n",
      "[1. 0. 0.] <-> [0.9082327  0.00116526 0.09060196]\n",
      "[0. 0. 1.] <-> [7.825930e-03 9.994493e-06 9.921640e-01]\n",
      "[1. 0. 0.] <-> [0.99108255 0.00133856 0.00757882]\n",
      "[0. 1. 0.] <-> [1.4067185e-01 8.5897684e-01 3.5128882e-04]\n",
      "[1. 0. 0.] <-> [2.5142642e-02 3.2138199e-05 9.7482520e-01]\n",
      "[1. 0. 0.] <-> [0.85269743 0.00110338 0.14619912]\n",
      "[0. 0. 1.] <-> [7.4007753e-03 9.4513389e-06 9.9258971e-01]\n",
      "[1. 0. 0.] <-> [9.9638164e-01 2.6976333e-03 9.2068716e-04]\n",
      "[1. 0. 0.] <-> [0.9070938  0.00117743 0.09172867]\n",
      "[1. 0. 0.] <-> [0.9853834  0.00130103 0.01331558]\n",
      "[1. 0. 0.] <-> [0.997338   0.00154961 0.00111236]\n",
      "[0. 0. 1.] <-> [2.6179516e-01 3.3574525e-04 7.3786908e-01]\n",
      "[1. 0. 0.] <-> [9.9668932e-01 2.3768968e-03 9.3377131e-04]\n",
      "[0. 1. 0.] <-> [3.7954357e-02 9.6191108e-01 1.3462096e-04]\n",
      "[1. 0. 0.] <-> [0.9871884  0.00137332 0.01143818]\n",
      "[0. 1. 0.] <-> [5.0531882e-03 9.9492365e-01 2.3215973e-05]\n",
      "[1. 0. 0.] <-> [0.996384   0.00144464 0.00217121]\n",
      "[1. 0. 0.] <-> [0.99691087 0.00134819 0.00174105]\n",
      "[1. 0. 0.] <-> [0.9971916  0.00150187 0.00130655]\n",
      "[1. 0. 0.] <-> [0.99608624 0.00289409 0.00101967]\n",
      "[1. 0. 0.] <-> [0.9256447  0.07289384 0.00146141]\n",
      "[1. 0. 0.] <-> [9.9493140e-01 4.0997812e-03 9.6873293e-04]\n",
      "[1. 0. 0.] <-> [0.92784864 0.00119817 0.07095319]\n",
      "[0. 1. 0.] <-> [0.43949643 0.55967015 0.00083334]\n",
      "[1. 0. 0.] <-> [0.42591152 0.57322323 0.00086521]\n",
      "[1. 0. 0.] <-> [0.99715084 0.00164282 0.00120646]\n",
      "[1. 0. 0.] <-> [0.9947877  0.00411588 0.00109652]\n",
      "[0. 0. 1.] <-> [7.3633995e-03 9.4034867e-06 9.9262720e-01]\n",
      "[1. 0. 0.] <-> [9.9162078e-01 7.4032913e-03 9.7598496e-04]\n",
      "[0. 0. 1.] <-> [0.48527622 0.00062111 0.51410264]\n",
      "[1. 0. 0.] <-> [0.70384115 0.00092001 0.29523882]\n",
      "[0. 1. 0.] <-> [1.7944198e-02 9.8198938e-01 6.6418870e-05]\n",
      "[1. 0. 0.] <-> [0.99647623 0.00168127 0.00184256]\n",
      "[0. 1. 0.] <-> [2.7811563e-01 7.2127742e-01 6.0697255e-04]\n",
      "[1. 0. 0.] <-> [0.99684733 0.00210179 0.00105087]\n",
      "[1. 0. 0.] <-> [0.99737334 0.00150752 0.00111912]\n",
      "[1. 0. 0.] <-> [0.9952787  0.00135179 0.00336951]\n",
      "[1. 0. 0.] <-> [0.9861763  0.00135709 0.01246658]\n",
      "[1. 0. 0.] <-> [0.9957212  0.00130179 0.00297702]\n",
      "[1. 0. 0.] <-> [0.8996609  0.00115198 0.09918717]\n",
      "[1. 0. 0.] <-> [0.99728096 0.00152394 0.00119504]\n",
      "[1. 0. 0.] <-> [0.99629116 0.00265611 0.0010527 ]\n",
      "[1. 0. 0.] <-> [0.9965102  0.00235771 0.00113213]\n",
      "[1. 0. 0.] <-> [0.992278   0.00141766 0.00630435]\n",
      "[1. 0. 0.] <-> [0.98372215 0.01504075 0.00123709]\n",
      "[0. 1. 0.] <-> [4.7881710e-03 9.9518967e-01 2.2200174e-05]\n",
      "[1. 0. 0.] <-> [0.996427   0.00136881 0.00220412]\n",
      "[0. 0. 1.] <-> [7.0122345e-03 1.6930069e-05 9.9297088e-01]\n",
      "[1. 0. 0.] <-> [0.9959735  0.00214997 0.00187654]\n",
      "[1. 0. 0.] <-> [0.9964289  0.00128344 0.00228769]\n",
      "[1. 0. 0.] <-> [0.997017   0.00175252 0.00123052]\n",
      "[1. 0. 0.] <-> [0.9956375  0.00140634 0.00295624]\n",
      "[0. 1. 0.] <-> [0.80127245 0.1972677  0.00145983]\n",
      "[1. 0. 0.] <-> [0.9970682  0.00159894 0.0013329 ]\n",
      "[1. 0. 0.] <-> [9.9632818e-01 2.7450025e-03 9.2680112e-04]\n",
      "[0. 1. 0.] <-> [4.9314173e-03 9.9504578e-01 2.2791584e-05]\n",
      "[0. 0. 1.] <-> [7.3644384e-03 9.4048128e-06 9.9262613e-01]\n",
      "{'accuracy': 0.9814814814814815, 'mean_square_error': 0.05302577114410316, 'categorical_crossentropy': 0.09745305555838125, 'essential_metrics': {0: {'tp_hit': 78, 'fp_hit': 1, 'tn_hit': 27, 'fn_hit': 2}, 1: {'tp_hit': 14, 'fp_hit': 1, 'tn_hit': 92, 'fn_hit': 1}, 2: {'tp_hit': 13, 'fp_hit': 1, 'tn_hit': 94, 'fn_hit': 0}}}\n"
     ]
    }
   ],
   "source": [
    "# recall phase\n",
    "score = model.evaluate(x_test, y_test, False)\n",
    "print(score)"
   ]
  },
  {
   "cell_type": "code",
   "execution_count": 11,
   "metadata": {},
   "outputs": [
    {
     "data": {
      "image/png": "[encoded data removed]",
      "text/plain": [
       "<Figure size 864x360 with 1 Axes>"
      ]
     },
     "metadata": {
      "needs_background": "light"
     },
     "output_type": "display_data"
    },
    {
     "data": {
      "image/png": "[encoded data removed]",
      "text/plain": [
       "<Figure size 864x360 with 1 Axes>"
      ]
     },
     "metadata": {
      "needs_background": "light"
     },
     "output_type": "display_data"
    }
   ],
   "source": [
    "draw_plot(x = [[i for i in range(len(history))], [(i+1)*breakpoint for i in range(len(checkpoints))]], y_list = [history, [ ckp[model.loss_fn] for ckp in checkpoints ]], x_label = 'Epochs', \\\n",
    "    y_label = model.loss_fn, legend=['train', 'test'])\n",
    "acc = [ ckp['accuracy'] for ckp in checkpoints ]\n",
    "draw_plot(x = [[(i+1)*breakpoint for i in range(len(checkpoints))]], y_list = [acc], x_label = 'Checkpoints', \\\n",
    "    y_label = 'accuracy')"
   ]
  },
  {
   "cell_type": "code",
   "execution_count": 12,
   "metadata": {},
   "outputs": [
    {
     "name": "stdout",
     "output_type": "stream",
     "text": [
      "{'accuracy': 0.9629629629629629, 'mean_square_error': 0.09942845581133444, 'categorical_crossentropy': 0.2188213136461046, 'essential_metrics': {0: {'tp_hit': 80, 'fp_hit': 6, 'tn_hit': 22, 'fn_hit': 0}, 1: {'tp_hit': 11, 'fp_hit': 0, 'tn_hit': 93, 'fn_hit': 4}, 2: {'tp_hit': 11, 'fp_hit': 0, 'tn_hit': 95, 'fn_hit': 2}}, 'checkpoint': 100} \n",
      "\n",
      "\n",
      "{'accuracy': 0.9691358024691358, 'mean_square_error': 0.06274525460355238, 'categorical_crossentropy': 0.126622270654749, 'essential_metrics': {0: {'tp_hit': 78, 'fp_hit': 3, 'tn_hit': 25, 'fn_hit': 2}, 1: {'tp_hit': 13, 'fp_hit': 1, 'tn_hit': 92, 'fn_hit': 2}, 2: {'tp_hit': 12, 'fp_hit': 1, 'tn_hit': 94, 'fn_hit': 1}}, 'checkpoint': 200} \n",
      "\n",
      "\n",
      "{'accuracy': 0.9691358024691358, 'mean_square_error': 0.0692399435867665, 'categorical_crossentropy': 0.1204915929723669, 'essential_metrics': {0: {'tp_hit': 77, 'fp_hit': 2, 'tn_hit': 26, 'fn_hit': 3}, 1: {'tp_hit': 14, 'fp_hit': 1, 'tn_hit': 92, 'fn_hit': 1}, 2: {'tp_hit': 12, 'fp_hit': 2, 'tn_hit': 93, 'fn_hit': 1}}, 'checkpoint': 300} \n",
      "\n",
      "\n",
      "{'accuracy': 0.9814814814814815, 'mean_square_error': 0.05079935805890132, 'categorical_crossentropy': 0.0950258837805854, 'essential_metrics': {0: {'tp_hit': 78, 'fp_hit': 1, 'tn_hit': 27, 'fn_hit': 2}, 1: {'tp_hit': 14, 'fp_hit': 1, 'tn_hit': 92, 'fn_hit': 1}, 2: {'tp_hit': 13, 'fp_hit': 1, 'tn_hit': 94, 'fn_hit': 0}}, 'checkpoint': 400} \n",
      "\n",
      "\n",
      "{'accuracy': 0.9814814814814815, 'mean_square_error': 0.05302577114410316, 'categorical_crossentropy': 0.09745305555838125, 'essential_metrics': {0: {'tp_hit': 78, 'fp_hit': 1, 'tn_hit': 27, 'fn_hit': 2}, 1: {'tp_hit': 14, 'fp_hit': 1, 'tn_hit': 92, 'fn_hit': 1}, 2: {'tp_hit': 13, 'fp_hit': 1, 'tn_hit': 94, 'fn_hit': 0}}, 'checkpoint': 500} \n",
      "\n",
      "\n"
     ]
    }
   ],
   "source": [
    "for checkpoint in checkpoints:\n",
    "    print(checkpoint, '\\n\\n')"
   ]
  },
  {
   "cell_type": "code",
   "execution_count": 13,
   "metadata": {},
   "outputs": [
    {
     "name": "stdout",
     "output_type": "stream",
     "text": [
      "Layer 1\n",
      "Neuron 0: weights:\n",
      "[ 0.04593241  3.          0.47426438 -0.81617516 -3.        ]\n",
      " bias: 3.0\n",
      "\n",
      "Neuron 1: weights:\n",
      "[-1.9446418  3.         2.4340277  3.        -3.       ]\n",
      " bias: -3.0\n",
      "\n",
      "Neuron 2: weights:\n",
      "[ 0.34251004 -3.         -3.          3.          3.        ]\n",
      " bias: -3.0\n",
      "\n",
      "Neuron 3: weights:\n",
      "[ 1.9825691  -3.         -1.8392775   0.13546985  2.3866553 ]\n",
      " bias: 3.0\n",
      "\n",
      "$\n",
      "Layer 2\n",
      "Neuron 0: weights:\n",
      "[ 3. -3. -3.  3.]\n",
      " bias: -0.22421154379844666\n",
      "\n",
      "Neuron 1: weights:\n",
      "[ 3.  3. -3. -3.]\n",
      " bias: -0.8874083757400513\n",
      "\n",
      "Neuron 2: weights:\n",
      "[-3.        -1.2783071  3.         3.       ]\n",
      " bias: -1.3203781843185425\n",
      "\n",
      "$\n",
      "\n"
     ]
    }
   ],
   "source": [
    "print(model)"
   ]
  }
 ],
 "metadata": {
  "kernelspec": {
   "display_name": "Python 3",
   "language": "python",
   "name": "python3"
  },
  "language_info": {
   "codemirror_mode": {
    "name": "ipython",
    "version": 3
   },
   "file_extension": ".py",
   "mimetype": "text/x-python",
   "name": "python",
   "nbconvert_exporter": "python",
   "pygments_lexer": "ipython3",
   "version": "3.6.10"
  }
 },
 "nbformat": 4,
 "nbformat_minor": 2
}
