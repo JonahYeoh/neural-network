{
 "cells": [
  {
   "cell_type": "code",
   "execution_count": 1,
   "metadata": {},
   "outputs": [],
   "source": [
    "# dependency\n",
    "import numpy as np\n",
    "import pandas as pd\n",
    "import copy\n",
    "import math\n",
    "import sys\n",
    "import os\n",
    "from activations import relu, leaky_relu, sigmoid, tanh, softmax, d_sigmoid, d_relu\n",
    "from initializers import glorot_uniform, random_normal, random_uniform\n",
    "from regularizers import l1_regularizer, l2_regularizer\n",
    "from utility import trim_tail, multiply, subtract, get_nparams, one_hot_encoding, get_data\n",
    "from metrics import MSE, CCE, ACC, PRECISION, RECALL, essential_metrics, wondering_penalty, close_gap_penalty\n",
    "from pso import PSO\n",
    "from ga import GA\n",
    "from nn import Network\n",
    "from layer import DenseLayer\n",
    "from scalers import MinMaxScaler, StandardScaler"
   ]
  },
  {
   "cell_type": "code",
   "execution_count": 2,
   "metadata": {},
   "outputs": [],
   "source": [
    "# reference\n",
    "metrics_fn_dict = dict()\n",
    "metrics_fn_dict['accuracy'] = ACC\n",
    "metrics_fn_dict['categorical_crossentropy'] = CCE\n",
    "metrics_fn_dict['mean_square_error'] = MSE\n",
    "metrics_fn_dict['precision'] = PRECISION\n",
    "metrics_fn_dict['recall'] = RECALL\n",
    "metrics_fn_dict['essential_metrics'] = essential_metrics"
   ]
  },
  {
   "cell_type": "code",
   "execution_count": 3,
   "metadata": {},
   "outputs": [],
   "source": [
    "# model\n",
    "model = Network(5, lr = None)\n",
    "model.add_layer(DenseLayer(1, 4, True, afn=sigmoid, dafn=None, rfn=None))\n",
    "model.add_layer(DenseLayer(2, 3, True, afn=softmax, dafn=None, rfn=None))"
   ]
  },
  {
   "cell_type": "code",
   "execution_count": 4,
   "metadata": {},
   "outputs": [
    {
     "name": "stdout",
     "output_type": "stream",
     "text": [
      "see one see two 2 2\n"
     ]
    }
   ],
   "source": [
    "pso = PSO(dict(m = 50,\n",
    "    weight_constraint = [-3, 3], \n",
    "    velocity_constraint = [-0.1, 0.1],\n",
    "    c1 = 2,\n",
    "    c2 = 2,\n",
    "    w = 1.2,\n",
    "    w_decay = 1,\n",
    "    scale_hyperparameter = False,\n",
    "    regularizer = None,\n",
    "    mask = True))"
   ]
  },
  {
   "cell_type": "code",
   "execution_count": 5,
   "metadata": {},
   "outputs": [
    {
     "name": "stdout",
     "output_type": "stream",
     "text": [
      "building layer 1 with 5\n",
      "24\n",
      "building layer 2 with 4\n",
      "15\n"
     ]
    }
   ],
   "source": [
    "model.compile(loss_fn = 'categorical_crossentropy', optimizer = pso, \\\n",
    "    metrics = ['accuracy', 'mean_square_error', 'categorical_crossentropy'])"
   ]
  },
  {
   "cell_type": "code",
   "execution_count": 6,
   "metadata": {},
   "outputs": [
    {
     "name": "stdout",
     "output_type": "stream",
     "text": [
      "<class 'pandas.core.frame.DataFrame'>\n",
      "RangeIndex: 107 entries, 0 to 106\n",
      "Data columns (total 6 columns):\n",
      " #   Column  Non-Null Count  Dtype  \n",
      "---  ------  --------------  -----  \n",
      " 0   f1      107 non-null    float32\n",
      " 1   f2      107 non-null    float32\n",
      " 2   f3      107 non-null    float32\n",
      " 3   f4      107 non-null    float32\n",
      " 4   f5      107 non-null    float32\n",
      " 5   label   107 non-null    float32\n",
      "dtypes: float32(6)\n",
      "memory usage: 2.6 KB\n",
      "None\n",
      "<class 'pandas.core.frame.DataFrame'>\n",
      "RangeIndex: 108 entries, 0 to 107\n",
      "Data columns (total 6 columns):\n",
      " #   Column  Non-Null Count  Dtype  \n",
      "---  ------  --------------  -----  \n",
      " 0   f1      108 non-null    float32\n",
      " 1   f2      108 non-null    float32\n",
      " 2   f3      108 non-null    float32\n",
      " 3   f4      108 non-null    float32\n",
      " 4   f5      108 non-null    float32\n",
      " 5   label   108 non-null    float32\n",
      "dtypes: float32(6)\n",
      "memory usage: 2.7 KB\n",
      "None\n"
     ]
    }
   ],
   "source": [
    "# data loading\n",
    "DATA = os.path.join('c:\\\\Users\\\\tcumi\\\\github_repo\\\\neural-network\\\\', 'dataset')\n",
    "GROUP = 3\n",
    "COLUMNS = ['f1', 'f2', 'f3', 'f4', 'f5', 'label']\n",
    "N_CLASS = 3\n",
    "EPOCHS = 500\n",
    "train_dir, test_dir = \"..//dataset//training_data{}.txt\".format(GROUP), \"..//dataset//testing_data{}.txt\".format(GROUP)\n",
    "train, test = get_data(DATA, train_dir, COLUMNS), get_data(DATA, test_dir, COLUMNS)\n",
    "# shuffle\n",
    "train, test = train.sample(frac=1), test.sample(frac=1)\n",
    "x_train, y_train = train.drop('label', axis=1), train['label']\n",
    "x_test, y_test = test.drop('label', axis=1), test['label']"
   ]
  },
  {
   "cell_type": "code",
   "execution_count": 7,
   "metadata": {},
   "outputs": [],
   "source": [
    "# data scaling and encoding\n",
    "scaler = StandardScaler(['f1', 'f2', 'f3', 'f4', 'f5'])\n",
    "scaler.fit(x_train)\n",
    "x_train = scaler.transform(x_train)\n",
    "x_test = scaler.transform(x_test)\n",
    "y_train = one_hot_encoding(y_train, N_CLASS)\n",
    "y_test = one_hot_encoding(y_test, N_CLASS)"
   ]
  },
  {
   "cell_type": "code",
   "execution_count": 8,
   "metadata": {
    "tags": [
     "outputPrepend"
    ]
   },
   "outputs": [
    {
     "name": "stdout",
     "output_type": "stream",
     "text": [
      "Checkpoint 100, Accuracy: 0.9012345679012346, Loss: 0.4294815416689272\n",
      "Checkpoint 200, Accuracy: 0.9382716049382716, Loss: 0.2870634573477286\n",
      "Checkpoint 300, Accuracy: 0.9382716049382716, Loss: 0.23293413939299407\n",
      "Checkpoint 400, Accuracy: 0.9506172839506173, Loss: 0.1499988767835829\n",
      "Checkpoint 500, Accuracy: 0.9506172839506173, Loss: 0.14299395349290636\n"
     ]
    }
   ],
   "source": [
    "# learning phase\n",
    "breakpoint = 100\n",
    "checkpoints = list()\n",
    "history = list()\n",
    "for century in range(0, EPOCHS, breakpoint):\n",
    "    sub_history = model.fit(x_train, y_train, breakpoint, verbose = 0)\n",
    "    score = model.evaluate(x_test, y_test, False, verbose = 0)\n",
    "    print('Checkpoint {}, Accuracy: {}, Loss: {}'.format(century+breakpoint, score['accuracy'], score[model.loss_fn]))\n",
    "    score['checkpoint'] = century + breakpoint\n",
    "    checkpoints.append(score)\n",
    "    history.extend(sub_history)"
   ]
  },
  {
   "cell_type": "code",
   "execution_count": 9,
   "metadata": {},
   "outputs": [],
   "source": [
    "import matplotlib.pyplot as plt\n",
    "\n",
    "def draw_plot(x, y_list, x_label=None, y_label=None, legend=None, title=None):\n",
    "    fig, ax = plt.subplots(figsize=(12,5))\n",
    "    for xi, yi in zip(x, y_list):\n",
    "        ax.plot(xi, yi)\n",
    "    if x_label is not None and y_label is not None:\n",
    "        ax.set(xlabel=x_label, ylabel=y_label, title='{} VS {}'.format(x_label, y_label))\n",
    "    if legend is not None:\n",
    "        ax.legend(legend)\n",
    "    ax.grid()\n",
    "    plt.show()"
   ]
  },
  {
   "cell_type": "code",
   "execution_count": 10,
   "metadata": {},
   "outputs": [
    {
     "name": "stdout",
     "output_type": "stream",
     "text": [
      "[1. 0. 0.] <-> [9.9495894e-01 4.1361898e-03 9.0484577e-04]\n",
      "[1. 0. 0.] <-> [0.9959403  0.00268866 0.00137103]\n",
      "[1. 0. 0.] <-> [9.9814057e-01 1.0619796e-03 7.9747621e-04]\n",
      "[1. 0. 0.] <-> [0.9922213  0.00245482 0.00532387]\n",
      "[1. 0. 0.] <-> [0.13367307 0.8653509  0.00097602]\n",
      "[1. 0. 0.] <-> [9.9811018e-01 1.1706814e-03 7.1908761e-04]\n",
      "[1. 0. 0.] <-> [0.98398256 0.01375889 0.00225855]\n",
      "[1. 0. 0.] <-> [0.77256495 0.01275298 0.21468215]\n",
      "[1. 0. 0.] <-> [0.9972076  0.00152703 0.00126531]\n",
      "[0. 1. 0.] <-> [8.9263474e-04 9.9707234e-01 2.0349887e-03]\n",
      "[1. 0. 0.] <-> [0.99734515 0.00137501 0.00127986]\n",
      "[1. 0. 0.] <-> [0.99648404 0.00251186 0.00100409]\n",
      "[0. 1. 0.] <-> [0.23689552 0.7621005  0.00100394]\n",
      "[1. 0. 0.] <-> [0.9939774  0.00397016 0.00205242]\n",
      "[0. 0. 1.] <-> [0.01672227 0.0032449  0.98003286]\n",
      "[1. 0. 0.] <-> [0.9975775  0.00131479 0.0011078 ]\n",
      "[0. 1. 0.] <-> [7.3388316e-02 9.2605144e-01 5.6025147e-04]\n",
      "[1. 0. 0.] <-> [0.5257776  0.47029006 0.00393231]\n",
      "[0. 0. 1.] <-> [0.81080145 0.01108694 0.17811161]\n",
      "[0. 1. 0.] <-> [9.6791465e-04 9.9717736e-01 1.8547231e-03]\n",
      "[0. 0. 1.] <-> [0.01104885 0.00393186 0.9850193 ]\n",
      "[0. 0. 1.] <-> [0.0317682  0.00430956 0.9639223 ]\n",
      "[1. 0. 0.] <-> [0.9954828  0.00184861 0.00266857]\n",
      "[1. 0. 0.] <-> [9.9590981e-01 3.4292513e-03 6.6090905e-04]\n",
      "[1. 0. 0.] <-> [0.9966112  0.00181897 0.00156975]\n",
      "[1. 0. 0.] <-> [0.99454296 0.00205509 0.00340198]\n",
      "[1. 0. 0.] <-> [0.9951847  0.00185724 0.00295803]\n",
      "[1. 0. 0.] <-> [9.8688382e-01 1.2307304e-02 8.0898876e-04]\n",
      "[1. 0. 0.] <-> [9.9788803e-01 1.2866266e-03 8.2527625e-04]\n",
      "[1. 0. 0.] <-> [0.9938446  0.00312965 0.00302569]\n",
      "[1. 0. 0.] <-> [9.9720496e-01 1.9778016e-03 8.1716338e-04]\n",
      "[1. 0. 0.] <-> [0.9592991  0.03773291 0.00296808]\n",
      "[1. 0. 0.] <-> [0.9944013  0.00251675 0.00308202]\n",
      "[1. 0. 0.] <-> [0.405607   0.590262   0.00413104]\n",
      "[1. 0. 0.] <-> [0.86065114 0.0673962  0.07195278]\n",
      "[1. 0. 0.] <-> [0.454741   0.02052603 0.52473295]\n",
      "[1. 0. 0.] <-> [9.9758685e-01 1.5525481e-03 8.6067710e-04]\n",
      "[1. 0. 0.] <-> [0.9925276  0.00236256 0.00510979]\n",
      "[1. 0. 0.] <-> [9.9722064e-01 1.8503813e-03 9.2901062e-04]\n",
      "[0. 1. 0.] <-> [4.1974159e-03 9.9545658e-01 3.4599652e-04]\n",
      "[1. 0. 0.] <-> [0.9976277  0.00127795 0.00109433]\n",
      "[0. 0. 1.] <-> [0.65603995 0.01393715 0.33002284]\n",
      "[1. 0. 0.] <-> [9.9691963e-01 2.3553602e-03 7.2510459e-04]\n",
      "[0. 0. 1.] <-> [0.16778731 0.01024734 0.8219653 ]\n",
      "[0. 0. 1.] <-> [0.0107884  0.00244598 0.9867656 ]\n",
      "[1. 0. 0.] <-> [0.8090073  0.18931803 0.00167468]\n",
      "[0. 1. 0.] <-> [0.42768314 0.5714345  0.00088236]\n",
      "[0. 1. 0.] <-> [1.9766077e-02 9.7992992e-01 3.0395179e-04]\n",
      "[1. 0. 0.] <-> [0.74854314 0.15783808 0.09361872]\n",
      "[1. 0. 0.] <-> [0.95616686 0.02022694 0.02360615]\n",
      "[0. 1. 0.] <-> [7.2543016e-03 9.9256402e-01 1.8171867e-04]\n",
      "[1. 0. 0.] <-> [0.883051   0.11466882 0.00228018]\n",
      "[1. 0. 0.] <-> [0.9945615  0.00198995 0.00344853]\n",
      "[0. 1. 0.] <-> [6.1200801e-03 9.9365669e-01 2.2321375e-04]\n",
      "[0. 0. 1.] <-> [0.01147735 0.00252735 0.98599523]\n",
      "[1. 0. 0.] <-> [9.9783248e-01 1.2392706e-03 9.2835090e-04]\n",
      "[0. 1. 0.] <-> [3.0887320e-03 9.9642283e-01 4.8849406e-04]\n",
      "[0. 0. 1.] <-> [3.2606884e-04 1.8712329e-02 9.8096162e-01]\n",
      "[1. 0. 0.] <-> [0.9970644  0.00183318 0.00110247]\n",
      "[1. 0. 0.] <-> [0.9448927  0.00827882 0.04682848]\n",
      "[0. 0. 1.] <-> [3.3144656e-04 1.8539719e-02 9.8112881e-01]\n",
      "[1. 0. 0.] <-> [0.99731594 0.00161435 0.00106961]\n",
      "[1. 0. 0.] <-> [0.9574885  0.0409416  0.00156987]\n",
      "[0. 0. 1.] <-> [0.01579406 0.00299088 0.9812151 ]\n",
      "[1. 0. 0.] <-> [0.9974016  0.00145793 0.00114044]\n",
      "[1. 0. 0.] <-> [9.9802411e-01 1.0708128e-03 9.0516289e-04]\n",
      "[1. 0. 0.] <-> [0.99526125 0.00194317 0.00279558]\n",
      "[1. 0. 0.] <-> [9.9765801e-01 1.6359716e-03 7.0596574e-04]\n",
      "[0. 1. 0.] <-> [6.5454338e-03 9.9318486e-01 2.6975197e-04]\n",
      "[0. 0. 1.] <-> [0.60362625 0.01352918 0.3828446 ]\n",
      "[1. 0. 0.] <-> [0.07614087 0.01465106 0.90920806]\n",
      "[1. 0. 0.] <-> [9.9519134e-01 3.8982232e-03 9.1044174e-04]\n",
      "[1. 0. 0.] <-> [0.98680204 0.00325493 0.00994298]\n",
      "[1. 0. 0.] <-> [9.9776363e-01 1.5311857e-03 7.0521847e-04]\n",
      "[1. 0. 0.] <-> [0.99546164 0.00257499 0.00196341]\n",
      "[1. 0. 0.] <-> [9.9769551e-01 1.5045089e-03 7.9994369e-04]\n",
      "[1. 0. 0.] <-> [0.98149025 0.00845888 0.0100509 ]\n",
      "[1. 0. 0.] <-> [9.964386e-01 2.775688e-03 7.857432e-04]\n",
      "[1. 0. 0.] <-> [0.30449098 0.6939646  0.00154447]\n",
      "[0. 1. 0.] <-> [1.8061677e-02 9.8163730e-01 3.0095529e-04]\n",
      "[0. 1. 0.] <-> [2.6211273e-02 9.7347927e-01 3.0955047e-04]\n",
      "[0. 1. 0.] <-> [3.6417546e-03 9.9595416e-01 4.0409566e-04]\n",
      "[0. 1. 0.] <-> [2.2422178e-02 9.7710848e-01 4.6944292e-04]\n",
      "[1. 0. 0.] <-> [0.99577916 0.00299198 0.00122887]\n",
      "[1. 0. 0.] <-> [9.9796861e-01 1.1849051e-03 8.4641622e-04]\n",
      "[1. 0. 0.] <-> [9.9785322e-01 1.4113750e-03 7.3542807e-04]\n",
      "[1. 0. 0.] <-> [0.9003798  0.0086284  0.09099176]\n",
      "[1. 0. 0.] <-> [0.98144287 0.00384735 0.01470983]\n",
      "[1. 0. 0.] <-> [0.9956632  0.00326009 0.00107662]\n",
      "[0. 0. 1.] <-> [0.01087034 0.0024558  0.98667383]\n",
      "[1. 0. 0.] <-> [0.9301304  0.06608308 0.00378653]\n",
      "[1. 0. 0.] <-> [0.97722375 0.00583143 0.01694473]\n",
      "[1. 0. 0.] <-> [0.9597005  0.00574844 0.03455103]\n",
      "[1. 0. 0.] <-> [0.9900709  0.00323637 0.00669279]\n",
      "[1. 0. 0.] <-> [0.99773633 0.00123686 0.00102681]\n",
      "[1. 0. 0.] <-> [9.9744618e-01 1.7317070e-03 8.2209765e-04]\n",
      "[1. 0. 0.] <-> [0.9968196  0.00149026 0.0016901 ]\n",
      "[1. 0. 0.] <-> [9.9698788e-01 2.1777565e-03 8.3431002e-04]\n",
      "[0. 1. 0.] <-> [6.4546727e-03 9.9333715e-01 2.0814854e-04]\n",
      "[1. 0. 0.] <-> [0.98309475 0.01383491 0.00307032]\n",
      "[1. 0. 0.] <-> [9.9680662e-01 2.3992255e-03 7.9407572e-04]\n",
      "[1. 0. 0.] <-> [0.94446737 0.00843612 0.04709657]\n",
      "[1. 0. 0.] <-> [0.73974067 0.2574599  0.00279941]\n",
      "[1. 0. 0.] <-> [0.99642855 0.00173037 0.00184116]\n",
      "[1. 0. 0.] <-> [0.9945963  0.0037491  0.00165454]\n",
      "[0. 0. 1.] <-> [0.01688904 0.00309818 0.98001283]\n",
      "[1. 0. 0.] <-> [0.9973225  0.00157453 0.00110296]\n",
      "[1. 0. 0.] <-> [0.993383   0.0056069  0.00101014]\n",
      "{'accuracy': 0.9506172839506173, 'mean_square_error': 0.09164747653547452, 'categorical_crossentropy': 0.14299395349290636, 'essential_metrics': {0: {'tp_hit': 73, 'fp_hit': 3, 'tn_hit': 27, 'fn_hit': 5}, 1: {'tp_hit': 16, 'fp_hit': 3, 'tn_hit': 89, 'fn_hit': 0}, 2: {'tp_hit': 11, 'fp_hit': 2, 'tn_hit': 92, 'fn_hit': 3}}}\n"
     ]
    }
   ],
   "source": [
    "# recall phase\n",
    "score = model.evaluate(x_test, y_test, False)\n",
    "print(score)"
   ]
  },
  {
   "cell_type": "code",
   "execution_count": 11,
   "metadata": {},
   "outputs": [
    {
     "data": {
      "image/png": "[encoded data removed]",
      "text/plain": [
       "<Figure size 864x360 with 1 Axes>"
      ]
     },
     "metadata": {
      "needs_background": "light"
     },
     "output_type": "display_data"
    },
    {
     "data": {
      "image/png": "[encoded data removed]",
      "text/plain": [
       "<Figure size 864x360 with 1 Axes>"
      ]
     },
     "metadata": {
      "needs_background": "light"
     },
     "output_type": "display_data"
    }
   ],
   "source": [
    "draw_plot(x = [[i for i in range(len(history))], [(i+1)*breakpoint for i in range(len(checkpoints))]], y_list = [history, [ ckp[model.loss_fn] for ckp in checkpoints ]], x_label = 'Epochs', \\\n",
    "    y_label = model.loss_fn, legend=['train', 'test'])\n",
    "acc = [ ckp['accuracy'] for ckp in checkpoints ]\n",
    "draw_plot(x = [[(i+1)*breakpoint for i in range(len(checkpoints))]], y_list = [acc], x_label = 'Checkpoints', \\\n",
    "    y_label = 'accuracy')"
   ]
  },
  {
   "cell_type": "code",
   "execution_count": 12,
   "metadata": {},
   "outputs": [
    {
     "name": "stdout",
     "output_type": "stream",
     "text": [
      "{'accuracy': 0.9012345679012346, 'mean_square_error': 0.2291417154887359, 'categorical_crossentropy': 0.4294815416689272, 'essential_metrics': {0: {'tp_hit': 76, 'fp_hit': 12, 'tn_hit': 18, 'fn_hit': 2}, 1: {'tp_hit': 11, 'fp_hit': 0, 'tn_hit': 92, 'fn_hit': 5}, 2: {'tp_hit': 5, 'fp_hit': 4, 'tn_hit': 90, 'fn_hit': 9}}, 'checkpoint': 100} \n",
      "\n",
      "\n",
      "{'accuracy': 0.9382716049382716, 'mean_square_error': 0.14825563513857604, 'categorical_crossentropy': 0.2870634573477286, 'essential_metrics': {0: {'tp_hit': 73, 'fp_hit': 5, 'tn_hit': 25, 'fn_hit': 5}, 1: {'tp_hit': 14, 'fp_hit': 2, 'tn_hit': 90, 'fn_hit': 2}, 2: {'tp_hit': 11, 'fp_hit': 3, 'tn_hit': 91, 'fn_hit': 3}}, 'checkpoint': 200} \n",
      "\n",
      "\n",
      "{'accuracy': 0.9382716049382716, 'mean_square_error': 0.1263007339517974, 'categorical_crossentropy': 0.23293413939299407, 'essential_metrics': {0: {'tp_hit': 71, 'fp_hit': 3, 'tn_hit': 27, 'fn_hit': 7}, 1: {'tp_hit': 16, 'fp_hit': 3, 'tn_hit': 89, 'fn_hit': 0}, 2: {'tp_hit': 11, 'fp_hit': 4, 'tn_hit': 90, 'fn_hit': 3}}, 'checkpoint': 300} \n",
      "\n",
      "\n",
      "{'accuracy': 0.9506172839506173, 'mean_square_error': 0.09448204065965236, 'categorical_crossentropy': 0.1499988767835829, 'essential_metrics': {0: {'tp_hit': 73, 'fp_hit': 3, 'tn_hit': 27, 'fn_hit': 5}, 1: {'tp_hit': 16, 'fp_hit': 3, 'tn_hit': 89, 'fn_hit': 0}, 2: {'tp_hit': 11, 'fp_hit': 2, 'tn_hit': 92, 'fn_hit': 3}}, 'checkpoint': 400} \n",
      "\n",
      "\n",
      "{'accuracy': 0.9506172839506173, 'mean_square_error': 0.09164747653547452, 'categorical_crossentropy': 0.14299395349290636, 'essential_metrics': {0: {'tp_hit': 73, 'fp_hit': 3, 'tn_hit': 27, 'fn_hit': 5}, 1: {'tp_hit': 16, 'fp_hit': 3, 'tn_hit': 89, 'fn_hit': 0}, 2: {'tp_hit': 11, 'fp_hit': 2, 'tn_hit': 92, 'fn_hit': 3}}, 'checkpoint': 500} \n",
      "\n",
      "\n"
     ]
    }
   ],
   "source": [
    "for checkpoint in checkpoints:\n",
    "    print(checkpoint, '\\n\\n')"
   ]
  },
  {
   "cell_type": "code",
   "execution_count": 13,
   "metadata": {},
   "outputs": [
    {
     "name": "stdout",
     "output_type": "stream",
     "text": [
      "Layer 1\n",
      "Neuron 0: weights:\n",
      "[-1.8028275  3.         3.        -0.3615144 -3.       ]\n",
      " bias: -3.0\n",
      "\n",
      "Neuron 1: weights:\n",
      "[-0.5257782  3.         2.1102061 -3.        -3.       ]\n",
      " bias: 2.3950695991516113\n",
      "\n",
      "Neuron 2: weights:\n",
      "[-2.2789268  3.         3.        -3.         3.       ]\n",
      " bias: -2.2395360469818115\n",
      "\n",
      "Neuron 3: weights:\n",
      "[ 0.922231  3.       -3.       -3.       -3.      ]\n",
      " bias: 1.138312816619873\n",
      "\n",
      "$\n",
      "Layer 2\n",
      "Neuron 0: weights:\n",
      "[-3.  3. -3.  3.]\n",
      " bias: -1.5159831047058105\n",
      "\n",
      "Neuron 1: weights:\n",
      "[3.         0.1910161  3.         0.20719521]\n",
      " bias: -3.0\n",
      "\n",
      "Neuron 2: weights:\n",
      "[-3.        -3.         0.7874529 -3.       ]\n",
      " bias: 3.0\n",
      "\n",
      "$\n",
      "\n"
     ]
    }
   ],
   "source": [
    "print(model)"
   ]
  }
 ],
 "metadata": {
  "kernelspec": {
   "display_name": "Python 3",
   "language": "python",
   "name": "python3"
  },
  "language_info": {
   "codemirror_mode": {
    "name": "ipython",
    "version": 3
   },
   "file_extension": ".py",
   "mimetype": "text/x-python",
   "name": "python",
   "nbconvert_exporter": "python",
   "pygments_lexer": "ipython3",
   "version": "3.6.10"
  }
 },
 "nbformat": 4,
 "nbformat_minor": 2
}
