{
 "cells": [
  {
   "cell_type": "code",
   "execution_count": 1,
   "metadata": {},
   "outputs": [],
   "source": [
    "# dependency\n",
    "import numpy as np\n",
    "import pandas as pd\n",
    "import copy\n",
    "import math\n",
    "import sys\n",
    "import os\n",
    "from activations import relu, leaky_relu, sigmoid, tanh, softmax, d_sigmoid, d_relu\n",
    "from initializers import glorot_uniform, random_normal, random_uniform\n",
    "from regularizers import l1_regularizer, l2_regularizer\n",
    "from utility import trim_tail, multiply, subtract, get_nparams, one_hot_encoding, get_data\n",
    "from metrics import MSE, CCE, ACC, PRECISION, RECALL, essential_metrics, wondering_penalty, close_gap_penalty\n",
    "from pso import PSO\n",
    "from ga import GA\n",
    "from nn import Network\n",
    "from layer import DenseLayer\n",
    "from scalers import MinMaxScaler, StandardScaler"
   ]
  },
  {
   "cell_type": "code",
   "execution_count": 2,
   "metadata": {},
   "outputs": [],
   "source": [
    "# reference\n",
    "metrics_fn_dict = dict()\n",
    "metrics_fn_dict['accuracy'] = ACC\n",
    "metrics_fn_dict['categorical_crossentropy'] = CCE\n",
    "metrics_fn_dict['mean_square_error'] = MSE\n",
    "metrics_fn_dict['precision'] = PRECISION\n",
    "metrics_fn_dict['recall'] = RECALL\n",
    "metrics_fn_dict['essential_metrics'] = essential_metrics"
   ]
  },
  {
   "cell_type": "code",
   "execution_count": 3,
   "metadata": {},
   "outputs": [],
   "source": [
    "# model\n",
    "model = Network(5, lr = None)\n",
    "model.add_layer(DenseLayer(1, 4, True, afn=sigmoid, dafn=None, rfn=None))\n",
    "model.add_layer(DenseLayer(2, 3, True, afn=softmax, dafn=None, rfn=None))"
   ]
  },
  {
   "cell_type": "code",
   "execution_count": 4,
   "metadata": {},
   "outputs": [
    {
     "name": "stdout",
     "output_type": "stream",
     "text": [
      "see one see two 2 2\n"
     ]
    }
   ],
   "source": [
    "pso = PSO(dict(m = 50,\n",
    "    weight_constraint = [-3, 3], \n",
    "    velocity_constraint = [-0.1, 0.1],\n",
    "    c1 = 2,\n",
    "    c2 = 2,\n",
    "    w = 1,\n",
    "    w_decay = 1,\n",
    "    scale_hyperparameter = False,\n",
    "    regularizer = l2_regularizer,\n",
    "    mask = True))"
   ]
  },
  {
   "cell_type": "code",
   "execution_count": 5,
   "metadata": {},
   "outputs": [
    {
     "name": "stdout",
     "output_type": "stream",
     "text": [
      "building layer 1 with 5\n",
      "24\n",
      "building layer 2 with 4\n",
      "15\n"
     ]
    }
   ],
   "source": [
    "model.compile(loss_fn = 'categorical_crossentropy', optimizer = pso, \\\n",
    "    metrics = ['accuracy', 'mean_square_error', 'categorical_crossentropy'])"
   ]
  },
  {
   "cell_type": "code",
   "execution_count": 6,
   "metadata": {},
   "outputs": [
    {
     "name": "stdout",
     "output_type": "stream",
     "text": [
      "<class 'pandas.core.frame.DataFrame'>\n",
      "RangeIndex: 107 entries, 0 to 106\n",
      "Data columns (total 6 columns):\n",
      " #   Column  Non-Null Count  Dtype  \n",
      "---  ------  --------------  -----  \n",
      " 0   f1      107 non-null    float32\n",
      " 1   f2      107 non-null    float32\n",
      " 2   f3      107 non-null    float32\n",
      " 3   f4      107 non-null    float32\n",
      " 4   f5      107 non-null    float32\n",
      " 5   label   107 non-null    float32\n",
      "dtypes: float32(6)\n",
      "memory usage: 2.6 KB\n",
      "None\n",
      "<class 'pandas.core.frame.DataFrame'>\n",
      "RangeIndex: 108 entries, 0 to 107\n",
      "Data columns (total 6 columns):\n",
      " #   Column  Non-Null Count  Dtype  \n",
      "---  ------  --------------  -----  \n",
      " 0   f1      108 non-null    float32\n",
      " 1   f2      108 non-null    float32\n",
      " 2   f3      108 non-null    float32\n",
      " 3   f4      108 non-null    float32\n",
      " 4   f5      108 non-null    float32\n",
      " 5   label   108 non-null    float32\n",
      "dtypes: float32(6)\n",
      "memory usage: 2.7 KB\n",
      "None\n"
     ]
    }
   ],
   "source": [
    "# data loading\n",
    "DATA = os.path.join('c:\\\\Users\\\\tcumi\\\\github_repo\\\\neural-network\\\\', 'dataset')\n",
    "GROUP = 1\n",
    "COLUMNS = ['f1', 'f2', 'f3', 'f4', 'f5', 'label']\n",
    "N_CLASS = 3\n",
    "EPOCHS = 500\n",
    "train_dir, test_dir = \"..//dataset//training_data{}.txt\".format(GROUP), \"..//dataset//testing_data{}.txt\".format(GROUP)\n",
    "train, test = get_data(DATA, train_dir, COLUMNS), get_data(DATA, test_dir, COLUMNS)\n",
    "# shuffle\n",
    "train, test = train.sample(frac=1), test.sample(frac=1)\n",
    "x_train, y_train = train.drop('label', axis=1), train['label']\n",
    "x_test, y_test = test.drop('label', axis=1), test['label']"
   ]
  },
  {
   "cell_type": "code",
   "execution_count": 7,
   "metadata": {},
   "outputs": [],
   "source": [
    "# data scaling and encoding\n",
    "scaler = StandardScaler(['f1', 'f2', 'f3', 'f4', 'f5'])\n",
    "scaler.fit(x_train)\n",
    "x_train = scaler.transform(x_train)\n",
    "x_test = scaler.transform(x_test)\n",
    "y_train = one_hot_encoding(y_train, N_CLASS)\n",
    "y_test = one_hot_encoding(y_test, N_CLASS)"
   ]
  },
  {
   "cell_type": "code",
   "execution_count": 8,
   "metadata": {
    "tags": [
     "outputPrepend"
    ]
   },
   "outputs": [
    {
     "name": "stdout",
     "output_type": "stream",
     "text": [
      "Checkpoint 100, Accuracy: 0.9506172839506173, Loss: 0.28000492519802517\n",
      "Checkpoint 200, Accuracy: 0.9629629629629629, Loss: 0.20474871882685908\n",
      "Checkpoint 300, Accuracy: 0.9629629629629629, Loss: 0.20673460430569118\n",
      "Checkpoint 400, Accuracy: 0.9629629629629629, Loss: 0.20673460430569118\n",
      "Checkpoint 500, Accuracy: 0.9629629629629629, Loss: 0.21793141188444914\n"
     ]
    }
   ],
   "source": [
    "# learning phase\n",
    "breakpoint = 100\n",
    "checkpoints = list()\n",
    "history = list()\n",
    "for century in range(0, EPOCHS, breakpoint):\n",
    "    sub_history = model.fit(x_train, y_train, breakpoint, verbose = 0)\n",
    "    score = model.evaluate(x_test, y_test, False, verbose = 0)\n",
    "    print('Checkpoint {}, Accuracy: {}, Loss: {}'.format(century+breakpoint, score['accuracy'], score[model.loss_fn]))\n",
    "    score['checkpoint'] = century + breakpoint\n",
    "    checkpoints.append(score)\n",
    "    history.extend(sub_history)"
   ]
  },
  {
   "cell_type": "code",
   "execution_count": 9,
   "metadata": {},
   "outputs": [],
   "source": [
    "import matplotlib.pyplot as plt\n",
    "\n",
    "def draw_plot(x, y_list, x_label=None, y_label=None, legend=None, title=None):\n",
    "    fig, ax = plt.subplots(figsize=(12,5))\n",
    "    for xi, yi in zip(x, y_list):\n",
    "        ax.plot(xi, yi)\n",
    "    if x_label is not None and y_label is not None:\n",
    "        ax.set(xlabel=x_label, ylabel=y_label, title='{} VS {}'.format(x_label, y_label))\n",
    "    if legend is not None:\n",
    "        ax.legend(legend)\n",
    "    ax.grid()\n",
    "    plt.show()"
   ]
  },
  {
   "cell_type": "code",
   "execution_count": 10,
   "metadata": {},
   "outputs": [
    {
     "name": "stdout",
     "output_type": "stream",
     "text": [
      "[0. 1. 0.] <-> [0.35632238 0.62951934 0.01415833]\n",
      "[1. 0. 0.] <-> [0.89725506 0.04116739 0.06157751]\n",
      "[1. 0. 0.] <-> [0.8256709  0.02340637 0.15092275]\n",
      "[1. 0. 0.] <-> [0.8080325  0.0311809  0.16078666]\n",
      "[0. 0. 1.] <-> [0.12136388 0.00525739 0.87337875]\n",
      "[1. 0. 0.] <-> [0.892334   0.0691167  0.03854923]\n",
      "[1. 0. 0.] <-> [0.8954201  0.04439154 0.06018845]\n",
      "[1. 0. 0.] <-> [0.8881082  0.061377   0.05051488]\n",
      "[0. 1. 0.] <-> [0.2808678  0.7074876  0.01164465]\n",
      "[0. 1. 0.] <-> [0.11750971 0.87745017 0.00504007]\n",
      "[1. 0. 0.] <-> [0.87793654 0.04344356 0.07861989]\n",
      "[1. 0. 0.] <-> [0.86766726 0.0837535  0.04857925]\n",
      "[1. 0. 0.] <-> [0.88304764 0.02601454 0.09093782]\n",
      "[1. 0. 0.] <-> [0.848134   0.11589183 0.03597426]\n",
      "[1. 0. 0.] <-> [0.82784003 0.02552305 0.14663696]\n",
      "[0. 0. 1.] <-> [0.12537907 0.00534505 0.86927587]\n",
      "[1. 0. 0.] <-> [0.848556   0.11286598 0.03857809]\n",
      "[1. 0. 0.] <-> [0.86841434 0.01958969 0.11199604]\n",
      "[1. 0. 0.] <-> [0.8635507  0.0984237  0.03802561]\n",
      "[1. 0. 0.] <-> [0.8909132  0.05485104 0.05423576]\n",
      "[0. 1. 0.] <-> [0.3619887  0.6227334  0.01527789]\n",
      "[1. 0. 0.] <-> [0.7811172  0.18628632 0.0325965 ]\n",
      "[1. 0. 0.] <-> [0.8806056  0.04356521 0.07582926]\n",
      "[1. 0. 0.] <-> [0.8596437  0.02192567 0.11843058]\n",
      "[1. 0. 0.] <-> [0.8798105  0.03233601 0.08785342]\n",
      "[1. 0. 0.] <-> [0.87289435 0.05098293 0.07612273]\n",
      "[1. 0. 0.] <-> [0.8479749  0.11777776 0.03424725]\n",
      "[0. 1. 0.] <-> [0.07568485 0.9213033  0.00301194]\n",
      "[1. 0. 0.] <-> [0.8659674  0.04021816 0.09381451]\n",
      "[1. 0. 0.] <-> [0.88548887 0.02741192 0.08709913]\n",
      "[0. 0. 1.] <-> [0.7955329  0.01812514 0.18634202]\n",
      "[1. 0. 0.] <-> [0.9056919  0.04353812 0.05077002]\n",
      "[1. 0. 0.] <-> [0.90603477 0.03803034 0.05593491]\n",
      "[1. 0. 0.] <-> [0.9175016  0.03197285 0.0505255 ]\n",
      "[0. 1. 0.] <-> [0.07636008 0.92056763 0.00307228]\n",
      "[1. 0. 0.] <-> [0.8536662  0.03415075 0.11218301]\n",
      "[1. 0. 0.] <-> [0.8895758  0.07594049 0.03448374]\n",
      "[1. 0. 0.] <-> [0.8772204  0.02207803 0.10070156]\n",
      "[1. 0. 0.] <-> [0.86477    0.02360679 0.11162322]\n",
      "[0. 0. 1.] <-> [0.14561851 0.00767057 0.8467109 ]\n",
      "[1. 0. 0.] <-> [0.8719764  0.02343012 0.10459349]\n",
      "[1. 0. 0.] <-> [0.8795558  0.03650192 0.08394225]\n",
      "[1. 0. 0.] <-> [0.89009684 0.03489649 0.07500662]\n",
      "[1. 0. 0.] <-> [0.8502623  0.05285368 0.09688408]\n",
      "[0. 0. 1.] <-> [0.15378022 0.00648693 0.8397329 ]\n",
      "[1. 0. 0.] <-> [0.9077369  0.05023918 0.04202394]\n",
      "[1. 0. 0.] <-> [0.9007578  0.0301785  0.06906375]\n",
      "[1. 0. 0.] <-> [0.901761   0.05134075 0.04689828]\n",
      "[1. 0. 0.] <-> [0.88665515 0.08025017 0.03309459]\n",
      "[1. 0. 0.] <-> [0.91646826 0.03507309 0.04845865]\n",
      "[1. 0. 0.] <-> [0.7851887  0.03301499 0.18179631]\n",
      "[1. 0. 0.] <-> [0.8654481  0.0391376  0.09541416]\n",
      "[1. 0. 0.] <-> [0.8969702  0.05727632 0.04575348]\n",
      "[1. 0. 0.] <-> [0.8839384  0.03175041 0.0843112 ]\n",
      "[1. 0. 0.] <-> [0.87831384 0.07357353 0.04811257]\n",
      "[1. 0. 0.] <-> [0.7120764  0.02439816 0.2635254 ]\n",
      "[1. 0. 0.] <-> [0.90508467 0.04333721 0.05157811]\n",
      "[1. 0. 0.] <-> [0.91927814 0.02967112 0.05105073]\n",
      "[0. 1. 0.] <-> [0.09421456 0.9018459  0.00393955]\n",
      "[1. 0. 0.] <-> [0.89584476 0.04101773 0.0631375 ]\n",
      "[1. 0. 0.] <-> [0.8998082  0.02158973 0.07860206]\n",
      "[1. 0. 0.] <-> [0.79647315 0.1664686  0.03705833]\n",
      "[1. 0. 0.] <-> [0.8460911  0.04861192 0.10529701]\n",
      "[0. 0. 1.] <-> [0.12125979 0.00519615 0.8735441 ]\n",
      "[0. 0. 1.] <-> [0.6407917  0.0178289  0.34137937]\n",
      "[0. 1. 0.] <-> [0.07642737 0.920457   0.00311561]\n",
      "[1. 0. 0.] <-> [0.87223023 0.04913143 0.07863827]\n",
      "[1. 0. 0.] <-> [0.8036471  0.16436084 0.03199209]\n",
      "[0. 1. 0.] <-> [0.6424012 0.3323735 0.0252253]\n",
      "[1. 0. 0.] <-> [0.90777105 0.04024863 0.05198035]\n",
      "[0. 1. 0.] <-> [0.20217755 0.78908384 0.00873864]\n",
      "[1. 0. 0.] <-> [0.88219583 0.03171759 0.08608654]\n",
      "[0. 1. 0.] <-> [0.48949346 0.49277967 0.01772694]\n",
      "[0. 1. 0.] <-> [0.5927245  0.38660207 0.0206734 ]\n",
      "[1. 0. 0.] <-> [0.89440095 0.06943671 0.03616229]\n",
      "[1. 0. 0.] <-> [0.7786649  0.03005176 0.19128333]\n",
      "[1. 0. 0.] <-> [0.8984086  0.04657676 0.05501462]\n",
      "[1. 0. 0.] <-> [0.4126386  0.01748812 0.56987333]\n",
      "[1. 0. 0.] <-> [0.86330485 0.02719338 0.10950179]\n",
      "[0. 1. 0.] <-> [0.6165879  0.36031967 0.02309249]\n",
      "[0. 0. 1.] <-> [0.1195105  0.00498264 0.8755069 ]\n",
      "[1. 0. 0.] <-> [0.8870364  0.05958706 0.05337662]\n",
      "[1. 0. 0.] <-> [0.82546157 0.02289073 0.15164764]\n",
      "[1. 0. 0.] <-> [0.6470854  0.3283913  0.02452324]\n",
      "[0. 1. 0.] <-> [0.11964801 0.8754868  0.00486522]\n",
      "[1. 0. 0.] <-> [0.7456177  0.03083988 0.22354242]\n",
      "[1. 0. 0.] <-> [0.86670625 0.08607773 0.04721604]\n",
      "[1. 0. 0.] <-> [0.8962508  0.06224092 0.04150829]\n",
      "[0. 0. 1.] <-> [0.15455866 0.00680674 0.8386346 ]\n",
      "[1. 0. 0.] <-> [0.8510782  0.10722601 0.04169575]\n",
      "[1. 0. 0.] <-> [0.89622706 0.02281249 0.08096051]\n",
      "[1. 0. 0.] <-> [0.81623596 0.1549835  0.02878053]\n",
      "[1. 0. 0.] <-> [0.9025369  0.02748279 0.06998032]\n",
      "[1. 0. 0.] <-> [0.88146335 0.0223876  0.09614902]\n",
      "[1. 0. 0.] <-> [0.69732004 0.01991742 0.28276262]\n",
      "[1. 0. 0.] <-> [0.89926237 0.02126388 0.07947376]\n",
      "[1. 0. 0.] <-> [0.8972142  0.04375724 0.05902866]\n",
      "[1. 0. 0.] <-> [0.9039977  0.05023678 0.04576552]\n",
      "[0. 0. 1.] <-> [0.38152418 0.01658916 0.6018867 ]\n",
      "[0. 0. 1.] <-> [0.11983718 0.00540455 0.87475824]\n",
      "[1. 0. 0.] <-> [0.8921201  0.06004328 0.04783662]\n",
      "[0. 0. 1.] <-> [0.14183271 0.00616301 0.85200423]\n",
      "[1. 0. 0.] <-> [0.9091595  0.04410325 0.04673723]\n",
      "[0. 1. 0.] <-> [0.23116653 0.7597833  0.00905014]\n",
      "[0. 0. 1.] <-> [0.11948356 0.00501154 0.8755049 ]\n",
      "[1. 0. 0.] <-> [0.8885879  0.05044021 0.06097186]\n",
      "[1. 0. 0.] <-> [0.7943464  0.02002047 0.18563306]\n",
      "[1. 0. 0.] <-> [0.88494986 0.07745004 0.03760006]\n",
      "{'accuracy': 0.9629629629629629, 'mean_square_error': 0.09428187002760298, 'categorical_crossentropy': 0.21793141188444914, 'essential_metrics': {0: {'tp_hit': 79, 'fp_hit': 5, 'tn_hit': 23, 'fn_hit': 1}, 1: {'tp_hit': 12, 'fp_hit': 0, 'tn_hit': 93, 'fn_hit': 3}, 2: {'tp_hit': 11, 'fp_hit': 1, 'tn_hit': 94, 'fn_hit': 2}}}\n"
     ]
    }
   ],
   "source": [
    "# recall phase\n",
    "score = model.evaluate(x_test, y_test, False)\n",
    "print(score)"
   ]
  },
  {
   "cell_type": "code",
   "execution_count": 11,
   "metadata": {},
   "outputs": [
    {
     "data": {
      "image/png": "[encoded data removed]",
      "text/plain": [
       "<Figure size 864x360 with 1 Axes>"
      ]
     },
     "metadata": {
      "needs_background": "light"
     },
     "output_type": "display_data"
    },
    {
     "data": {
      "image/png": "[encoded data removed]",
      "text/plain": [
       "<Figure size 864x360 with 1 Axes>"
      ]
     },
     "metadata": {
      "needs_background": "light"
     },
     "output_type": "display_data"
    }
   ],
   "source": [
    "draw_plot(x = [[i for i in range(len(history))], [(i+1)*breakpoint for i in range(len(checkpoints))]], y_list = [history, [ ckp[model.loss_fn] for ckp in checkpoints ]], x_label = 'Epochs', \\\n",
    "    y_label = model.loss_fn, legend=['train', 'test'])\n",
    "acc = [ ckp['accuracy'] for ckp in checkpoints ]\n",
    "draw_plot(x = [[(i+1)*breakpoint for i in range(len(checkpoints))]], y_list = [acc], x_label = 'Checkpoints', \\\n",
    "    y_label = 'accuracy')"
   ]
  },
  {
   "cell_type": "code",
   "execution_count": 12,
   "metadata": {},
   "outputs": [
    {
     "name": "stdout",
     "output_type": "stream",
     "text": [
      "{'accuracy': 0.9506172839506173, 'mean_square_error': 0.12674374315097003, 'categorical_crossentropy': 0.28000492519802517, 'essential_metrics': {0: {'tp_hit': 79, 'fp_hit': 7, 'tn_hit': 21, 'fn_hit': 1}, 1: {'tp_hit': 10, 'fp_hit': 0, 'tn_hit': 93, 'fn_hit': 5}, 2: {'tp_hit': 11, 'fp_hit': 1, 'tn_hit': 94, 'fn_hit': 2}}, 'checkpoint': 100} \n",
      "\n",
      "\n",
      "{'accuracy': 0.9629629629629629, 'mean_square_error': 0.08549629965225881, 'categorical_crossentropy': 0.20474871882685908, 'essential_metrics': {0: {'tp_hit': 79, 'fp_hit': 5, 'tn_hit': 23, 'fn_hit': 1}, 1: {'tp_hit': 12, 'fp_hit': 0, 'tn_hit': 93, 'fn_hit': 3}, 2: {'tp_hit': 11, 'fp_hit': 1, 'tn_hit': 94, 'fn_hit': 2}}, 'checkpoint': 200} \n",
      "\n",
      "\n",
      "{'accuracy': 0.9629629629629629, 'mean_square_error': 0.08665649154643523, 'categorical_crossentropy': 0.20673460430569118, 'essential_metrics': {0: {'tp_hit': 79, 'fp_hit': 5, 'tn_hit': 23, 'fn_hit': 1}, 1: {'tp_hit': 12, 'fp_hit': 0, 'tn_hit': 93, 'fn_hit': 3}, 2: {'tp_hit': 11, 'fp_hit': 1, 'tn_hit': 94, 'fn_hit': 2}}, 'checkpoint': 300} \n",
      "\n",
      "\n",
      "{'accuracy': 0.9629629629629629, 'mean_square_error': 0.08665649154643523, 'categorical_crossentropy': 0.20673460430569118, 'essential_metrics': {0: {'tp_hit': 79, 'fp_hit': 5, 'tn_hit': 23, 'fn_hit': 1}, 1: {'tp_hit': 12, 'fp_hit': 0, 'tn_hit': 93, 'fn_hit': 3}, 2: {'tp_hit': 11, 'fp_hit': 1, 'tn_hit': 94, 'fn_hit': 2}}, 'checkpoint': 400} \n",
      "\n",
      "\n",
      "{'accuracy': 0.9629629629629629, 'mean_square_error': 0.09428187002760298, 'categorical_crossentropy': 0.21793141188444914, 'essential_metrics': {0: {'tp_hit': 79, 'fp_hit': 5, 'tn_hit': 23, 'fn_hit': 1}, 1: {'tp_hit': 12, 'fp_hit': 0, 'tn_hit': 93, 'fn_hit': 3}, 2: {'tp_hit': 11, 'fp_hit': 1, 'tn_hit': 94, 'fn_hit': 2}}, 'checkpoint': 500} \n",
      "\n",
      "\n"
     ]
    }
   ],
   "source": [
    "for checkpoint in checkpoints:\n",
    "    print(checkpoint, '\\n\\n')"
   ]
  },
  {
   "cell_type": "code",
   "execution_count": 13,
   "metadata": {},
   "outputs": [
    {
     "name": "stdout",
     "output_type": "stream",
     "text": [
      "Layer 1\n",
      "Neuron 0: weights:\n",
      "[-0.8297806   1.4923602   1.00135     0.25929323 -0.61532724]\n",
      " bias: -1.0357929468154907\n",
      "\n",
      "Neuron 1: weights:\n",
      "[ 0.47675404 -0.8004476  -0.21622773  0.70464504  0.89535207]\n",
      " bias: -0.7890270948410034\n",
      "\n",
      "Neuron 2: weights:\n",
      "[-0.23831454  1.0846289   0.2665118  -0.9486902  -1.3230871 ]\n",
      " bias: 1.1438772678375244\n",
      "\n",
      "Neuron 3: weights:\n",
      "[ 0.59999233 -1.1731262  -0.5918307  -0.13625142  0.34927115]\n",
      " bias: 0.8006475567817688\n",
      "\n",
      "$\n",
      "Layer 2\n",
      "Neuron 0: weights:\n",
      "[-1.4160593 -1.055865   1.6302161  1.2269509]\n",
      " bias: 0.2540114223957062\n",
      "\n",
      "Neuron 1: weights:\n",
      "[ 3.        -0.8146489  0.2645151 -1.6891363]\n",
      " bias: -0.2671099007129669\n",
      "\n",
      "Neuron 2: weights:\n",
      "[-0.7065804  1.7352387 -2.0911937  0.6713317]\n",
      " bias: 0.007327997125685215\n",
      "\n",
      "$\n",
      "\n"
     ]
    }
   ],
   "source": [
    "print(model)"
   ]
  }
 ],
 "metadata": {
  "kernelspec": {
   "display_name": "Python 3",
   "language": "python",
   "name": "python3"
  },
  "language_info": {
   "codemirror_mode": {
    "name": "ipython",
    "version": 3
   },
   "file_extension": ".py",
   "mimetype": "text/x-python",
   "name": "python",
   "nbconvert_exporter": "python",
   "pygments_lexer": "ipython3",
   "version": "3.6.10"
  }
 },
 "nbformat": 4,
 "nbformat_minor": 2
}
