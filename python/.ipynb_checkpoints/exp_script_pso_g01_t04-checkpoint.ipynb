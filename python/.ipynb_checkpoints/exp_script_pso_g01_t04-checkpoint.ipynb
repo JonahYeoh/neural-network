{
 "cells": [
  {
   "cell_type": "code",
   "execution_count": 1,
   "metadata": {},
   "outputs": [],
   "source": [
    "# dependency\n",
    "import numpy as np\n",
    "import pandas as pd\n",
    "import copy\n",
    "import math\n",
    "import sys\n",
    "import os\n",
    "from activations import relu, leaky_relu, sigmoid, tanh, softmax, d_sigmoid, d_relu\n",
    "from initializers import glorot_uniform, random_normal, random_uniform\n",
    "from regularizers import l1_regularizer, l2_regularizer\n",
    "from utility import trim_tail, multiply, subtract, get_nparams, one_hot_encoding, get_data\n",
    "from metrics import MSE, CCE, ACC, PRECISION, RECALL, essential_metrics, wondering_penalty, close_gap_penalty\n",
    "from pso import PSO\n",
    "from ga import GA\n",
    "from nn import Network\n",
    "from layer import DenseLayer\n",
    "from scalers import MinMaxScaler, StandardScaler"
   ]
  },
  {
   "cell_type": "code",
   "execution_count": 2,
   "metadata": {},
   "outputs": [],
   "source": [
    "# reference\n",
    "metrics_fn_dict = dict()\n",
    "metrics_fn_dict['accuracy'] = ACC\n",
    "metrics_fn_dict['categorical_crossentropy'] = CCE\n",
    "metrics_fn_dict['mean_square_error'] = MSE\n",
    "metrics_fn_dict['precision'] = PRECISION\n",
    "metrics_fn_dict['recall'] = RECALL\n",
    "metrics_fn_dict['essential_metrics'] = essential_metrics"
   ]
  },
  {
   "cell_type": "code",
   "execution_count": 3,
   "metadata": {},
   "outputs": [],
   "source": [
    "# model\n",
    "model = Network(5, lr = None)\n",
    "model.add_layer(DenseLayer(1, 4, True, afn=sigmoid, dafn=None, rfn=None))\n",
    "model.add_layer(DenseLayer(2, 3, True, afn=softmax, dafn=None, rfn=None))"
   ]
  },
  {
   "cell_type": "code",
   "execution_count": 4,
   "metadata": {},
   "outputs": [
    {
     "name": "stdout",
     "output_type": "stream",
     "text": [
      "see one see two 2 2\n"
     ]
    }
   ],
   "source": [
    "pso = PSO(dict(m = 50,\n",
    "    weight_constraint = [-3, 3], \n",
    "    velocity_constraint = [-0.1, 0.1],\n",
    "    c1 = 2,\n",
    "    c2 = 2,\n",
    "    w = 1,\n",
    "    w_decay = 1,\n",
    "    scale_hyperparameter = False,\n",
    "    regularizer = l2_regularizer,\n",
    "    mask = True))"
   ]
  },
  {
   "cell_type": "code",
   "execution_count": 5,
   "metadata": {},
   "outputs": [
    {
     "name": "stdout",
     "output_type": "stream",
     "text": [
      "building layer 1 with 5\n",
      "24\n",
      "building layer 2 with 4\n",
      "15\n"
     ]
    }
   ],
   "source": [
    "model.compile(loss_fn = 'categorical_crossentropy', optimizer = pso, \\\n",
    "    metrics = ['accuracy', 'mean_square_error', 'categorical_crossentropy'])"
   ]
  },
  {
   "cell_type": "code",
   "execution_count": 6,
   "metadata": {},
   "outputs": [
    {
     "name": "stdout",
     "output_type": "stream",
     "text": [
      "<class 'pandas.core.frame.DataFrame'>\n",
      "RangeIndex: 107 entries, 0 to 106\n",
      "Data columns (total 6 columns):\n",
      " #   Column  Non-Null Count  Dtype  \n",
      "---  ------  --------------  -----  \n",
      " 0   f1      107 non-null    float32\n",
      " 1   f2      107 non-null    float32\n",
      " 2   f3      107 non-null    float32\n",
      " 3   f4      107 non-null    float32\n",
      " 4   f5      107 non-null    float32\n",
      " 5   label   107 non-null    float32\n",
      "dtypes: float32(6)\n",
      "memory usage: 2.6 KB\n",
      "None\n",
      "<class 'pandas.core.frame.DataFrame'>\n",
      "RangeIndex: 108 entries, 0 to 107\n",
      "Data columns (total 6 columns):\n",
      " #   Column  Non-Null Count  Dtype  \n",
      "---  ------  --------------  -----  \n",
      " 0   f1      108 non-null    float32\n",
      " 1   f2      108 non-null    float32\n",
      " 2   f3      108 non-null    float32\n",
      " 3   f4      108 non-null    float32\n",
      " 4   f5      108 non-null    float32\n",
      " 5   label   108 non-null    float32\n",
      "dtypes: float32(6)\n",
      "memory usage: 2.7 KB\n",
      "None\n"
     ]
    }
   ],
   "source": [
    "# data loading\n",
    "DATA = os.path.join('c:\\\\Users\\\\tcumi\\\\github_repo\\\\neural-network\\\\', 'dataset')\n",
    "GROUP = 1\n",
    "COLUMNS = ['f1', 'f2', 'f3', 'f4', 'f5', 'label']\n",
    "N_CLASS = 3\n",
    "EPOCHS = 500\n",
    "train_dir, test_dir = \"..//dataset//training_data{}.txt\".format(GROUP), \"..//dataset//testing_data{}.txt\".format(GROUP)\n",
    "train, test = get_data(DATA, train_dir, COLUMNS), get_data(DATA, test_dir, COLUMNS)\n",
    "# shuffle\n",
    "train, test = train.sample(frac=1), test.sample(frac=1)\n",
    "x_train, y_train = train.drop('label', axis=1), train['label']\n",
    "x_test, y_test = test.drop('label', axis=1), test['label']"
   ]
  },
  {
   "cell_type": "code",
   "execution_count": 7,
   "metadata": {},
   "outputs": [],
   "source": [
    "# data scaling and encoding\n",
    "scaler = StandardScaler(['f1', 'f2', 'f3', 'f4', 'f5'])\n",
    "scaler.fit(x_train)\n",
    "x_train = scaler.transform(x_train)\n",
    "x_test = scaler.transform(x_test)\n",
    "y_train = one_hot_encoding(y_train, N_CLASS)\n",
    "y_test = one_hot_encoding(y_test, N_CLASS)"
   ]
  },
  {
   "cell_type": "code",
   "execution_count": 8,
   "metadata": {
    "tags": [
     "outputPrepend"
    ]
   },
   "outputs": [
    {
     "name": "stdout",
     "output_type": "stream",
     "text": [
      "Checkpoint 100, Accuracy: 0.9506172839506173, Loss: 0.32899757667824076\n",
      "Checkpoint 200, Accuracy: 0.9506172839506173, Loss: 0.336928579542372\n",
      "Checkpoint 300, Accuracy: 0.9444444444444444, Loss: 0.3285053747671622\n",
      "Checkpoint 400, Accuracy: 0.9444444444444444, Loss: 0.34253307625099466\n",
      "Checkpoint 500, Accuracy: 0.9506172839506173, Loss: 0.32922271445945456\n"
     ]
    }
   ],
   "source": [
    "# learning phase\n",
    "breakpoint = 100\n",
    "checkpoints = list()\n",
    "history = list()\n",
    "for century in range(0, EPOCHS, breakpoint):\n",
    "    sub_history = model.fit(x_train, y_train, breakpoint, verbose = 0)\n",
    "    score = model.evaluate(x_test, y_test, False, verbose = 0)\n",
    "    print('Checkpoint {}, Accuracy: {}, Loss: {}'.format(century+breakpoint, score['accuracy'], score[model.loss_fn]))\n",
    "    score['checkpoint'] = century + breakpoint\n",
    "    checkpoints.append(score)\n",
    "    history.extend(sub_history)"
   ]
  },
  {
   "cell_type": "code",
   "execution_count": 9,
   "metadata": {},
   "outputs": [],
   "source": [
    "import matplotlib.pyplot as plt\n",
    "\n",
    "def draw_plot(x, y_list, x_label=None, y_label=None, legend=None, title=None):\n",
    "    fig, ax = plt.subplots(figsize=(12,5))\n",
    "    for xi, yi in zip(x, y_list):\n",
    "        ax.plot(xi, yi)\n",
    "    if x_label is not None and y_label is not None:\n",
    "        ax.set(xlabel=x_label, ylabel=y_label, title='{} VS {}'.format(x_label, y_label))\n",
    "    if legend is not None:\n",
    "        ax.legend(legend)\n",
    "    ax.grid()\n",
    "    plt.show()"
   ]
  },
  {
   "cell_type": "code",
   "execution_count": 10,
   "metadata": {},
   "outputs": [
    {
     "name": "stdout",
     "output_type": "stream",
     "text": [
      "[0. 0. 1.] <-> [0.33636633 0.01086437 0.6527693 ]\n",
      "[1. 0. 0.] <-> [0.7772617  0.13443647 0.08830182]\n",
      "[1. 0. 0.] <-> [0.83447284 0.04252971 0.12299757]\n",
      "[1. 0. 0.] <-> [0.8078946  0.06345148 0.12865396]\n",
      "[0. 0. 1.] <-> [0.27688953 0.00742789 0.71568257]\n",
      "[1. 0. 0.] <-> [0.74556327 0.19735432 0.05708247]\n",
      "[1. 0. 0.] <-> [0.8251903  0.04048621 0.13432352]\n",
      "[1. 0. 0.] <-> [0.8282687  0.08608873 0.08564262]\n",
      "[1. 0. 0.] <-> [0.69167924 0.03361841 0.27470237]\n",
      "[1. 0. 0.] <-> [0.78038013 0.09760506 0.12201474]\n",
      "[1. 0. 0.] <-> [0.75430787 0.05883936 0.1868527 ]\n",
      "[0. 0. 1.] <-> [0.27703282 0.00765306 0.7153141 ]\n",
      "[0. 0. 1.] <-> [0.3551685  0.0116155  0.63321596]\n",
      "[1. 0. 0.] <-> [0.6736315  0.2821627  0.04420575]\n",
      "[1. 0. 0.] <-> [0.8125132  0.04392694 0.14355987]\n",
      "[1. 0. 0.] <-> [0.7515434  0.05679424 0.19166239]\n",
      "[1. 0. 0.] <-> [0.8340765  0.07470293 0.0912206 ]\n",
      "[0. 1. 0.] <-> [0.39444724 0.5823076  0.02324514]\n",
      "[1. 0. 0.] <-> [0.80106616 0.08196449 0.11696938]\n",
      "[0. 0. 1.] <-> [0.29500827 0.0083905  0.6966013 ]\n",
      "[1. 0. 0.] <-> [0.8004871  0.0948827  0.10463016]\n",
      "[1. 0. 0.] <-> [0.7612558  0.0509867  0.18775745]\n",
      "[1. 0. 0.] <-> [0.7721153  0.11664634 0.11123838]\n",
      "[1. 0. 0.] <-> [0.81559813 0.10773354 0.07666839]\n",
      "[0. 1. 0.] <-> [0.5638843  0.4022964  0.03381922]\n",
      "[1. 0. 0.] <-> [0.79302925 0.07492764 0.13204308]\n",
      "[1. 0. 0.] <-> [0.77750903 0.15594791 0.06654301]\n",
      "[0. 1. 0.] <-> [0.5664896  0.38966325 0.0438472 ]\n",
      "[1. 0. 0.] <-> [0.81146467 0.0857631  0.10277217]\n",
      "[1. 0. 0.] <-> [0.8038862  0.13307303 0.06304076]\n",
      "[1. 0. 0.] <-> [0.7638329  0.16929398 0.06687305]\n",
      "[1. 0. 0.] <-> [0.8047428  0.05528234 0.13997477]\n",
      "[1. 0. 0.] <-> [0.81506425 0.04243818 0.14249757]\n",
      "[0. 1. 0.] <-> [0.24632822 0.7415564  0.0121154 ]\n",
      "[1. 0. 0.] <-> [0.8226551  0.0458877  0.13145721]\n",
      "[0. 1. 0.] <-> [0.67984605 0.27804777 0.04210621]\n",
      "[1. 0. 0.] <-> [0.573248   0.03077533 0.39597657]\n",
      "[1. 0. 0.] <-> [0.8164313  0.11640677 0.06716189]\n",
      "[1. 0. 0.] <-> [0.80767703 0.0638396  0.12848341]\n",
      "[0. 0. 1.] <-> [0.28377503 0.00782814 0.70839685]\n",
      "[1. 0. 0.] <-> [0.7830331  0.13701817 0.07994885]\n",
      "[1. 0. 0.] <-> [0.8354123  0.08495696 0.07963078]\n",
      "[1. 0. 0.] <-> [0.7947135  0.11092217 0.09436437]\n",
      "[0. 0. 1.] <-> [0.32690394 0.0124369  0.66065913]\n",
      "[0. 1. 0.] <-> [0.27734357 0.7086045  0.01405193]\n",
      "[1. 0. 0.] <-> [0.7986768  0.06040151 0.1409217 ]\n",
      "[1. 0. 0.] <-> [0.77867717 0.04678425 0.17453855]\n",
      "[0. 1. 0.] <-> [0.19967476 0.7913961  0.00892914]\n",
      "[1. 0. 0.] <-> [0.75752693 0.15442783 0.08804519]\n",
      "[1. 0. 0.] <-> [0.7981479  0.12920322 0.07264886]\n",
      "[1. 0. 0.] <-> [0.73319936 0.21400128 0.05279938]\n",
      "[1. 0. 0.] <-> [0.8244629  0.08459024 0.0909469 ]\n",
      "[0. 0. 1.] <-> [0.5925839 0.0262678 0.3811483]\n",
      "[1. 0. 0.] <-> [0.78940344 0.06996885 0.1406277 ]\n",
      "[1. 0. 0.] <-> [0.77105725 0.15472953 0.07421322]\n",
      "[1. 0. 0.] <-> [0.8343762  0.07869512 0.08692867]\n",
      "[1. 0. 0.] <-> [0.75244397 0.05280371 0.19475232]\n",
      "[0. 0. 1.] <-> [0.28041604 0.00968965 0.7098943 ]\n",
      "[1. 0. 0.] <-> [0.8261115 0.0836125 0.090276 ]\n",
      "[1. 0. 0.] <-> [0.7919874  0.05462183 0.1533907 ]\n",
      "[0. 1. 0.] <-> [0.20204471 0.7888251  0.0091302 ]\n",
      "[0. 1. 0.] <-> [0.1976172  0.79374367 0.00863914]\n",
      "[0. 1. 0.] <-> [0.5128436  0.45657998 0.0305764 ]\n",
      "[0. 0. 1.] <-> [0.7792439  0.02880103 0.19195503]\n",
      "[1. 0. 0.] <-> [0.80438346 0.12787402 0.06774258]\n",
      "[1. 0. 0.] <-> [0.78118354 0.10069207 0.11812437]\n",
      "[0. 1. 0.] <-> [0.6215168  0.34071633 0.03776683]\n",
      "[1. 0. 0.] <-> [0.81800216 0.06555446 0.11644331]\n",
      "[1. 0. 0.] <-> [0.80616456 0.10080852 0.09302693]\n",
      "[1. 0. 0.] <-> [0.80522    0.08707926 0.10770077]\n",
      "[1. 0. 0.] <-> [0.83618265 0.06799245 0.09582493]\n",
      "[1. 0. 0.] <-> [0.7570607  0.03469102 0.20824824]\n",
      "[0. 1. 0.] <-> [0.42405134 0.5530388  0.02290983]\n",
      "[1. 0. 0.] <-> [0.7960773  0.11668201 0.08724077]\n",
      "[1. 0. 0.] <-> [0.7745333  0.1638292  0.06163753]\n",
      "[0. 1. 0.] <-> [0.42764807 0.54236007 0.02999188]\n",
      "[0. 0. 1.] <-> [0.6788174  0.02778592 0.29339665]\n",
      "[1. 0. 0.] <-> [0.7905248  0.07767232 0.13180293]\n",
      "[1. 0. 0.] <-> [0.7967189  0.07420134 0.12907973]\n",
      "[1. 0. 0.] <-> [0.766096   0.09871408 0.1351899 ]\n",
      "[1. 0. 0.] <-> [0.83290017 0.04483742 0.1222624 ]\n",
      "[0. 1. 0.] <-> [0.28467754 0.7000664  0.01525604]\n",
      "[1. 0. 0.] <-> [0.7382645  0.19714846 0.06458701]\n",
      "[1. 0. 0.] <-> [0.82420266 0.05890475 0.1168925 ]\n",
      "[1. 0. 0.] <-> [0.7890334  0.14274365 0.06822293]\n",
      "[1. 0. 0.] <-> [0.8044319  0.03760597 0.15796213]\n",
      "[1. 0. 0.] <-> [0.83645225 0.05651231 0.1070355 ]\n",
      "[1. 0. 0.] <-> [0.82352763 0.0574818  0.1189906 ]\n",
      "[1. 0. 0.] <-> [0.8025914  0.08217071 0.11523797]\n",
      "[1. 0. 0.] <-> [0.83290386 0.0901316  0.07696453]\n",
      "[1. 0. 0.] <-> [0.78011894 0.04085206 0.17902894]\n",
      "[1. 0. 0.] <-> [0.785931   0.04080905 0.17325991]\n",
      "[1. 0. 0.] <-> [0.81821924 0.08548204 0.09629878]\n",
      "[1. 0. 0.] <-> [0.8140826  0.10001453 0.08590275]\n",
      "[0. 1. 0.] <-> [0.4583277  0.5142722  0.02740006]\n",
      "[1. 0. 0.] <-> [0.8278447  0.07258341 0.09957194]\n",
      "[1. 0. 0.] <-> [0.8074613  0.10470972 0.08782903]\n",
      "[0. 0. 1.] <-> [0.28348982 0.00775917 0.70875096]\n",
      "[1. 0. 0.] <-> [0.7104431  0.04164271 0.24791422]\n",
      "[1. 0. 0.] <-> [0.7811146  0.1516613  0.06722419]\n",
      "[1. 0. 0.] <-> [0.8135137  0.04433434 0.14215204]\n",
      "[0. 0. 1.] <-> [0.3220144  0.00972097 0.6682646 ]\n",
      "[1. 0. 0.] <-> [0.8511023  0.05929478 0.08960298]\n",
      "[1. 0. 0.] <-> [0.82001615 0.05228929 0.12769459]\n",
      "[1. 0. 0.] <-> [0.7436951  0.05061924 0.2056857 ]\n",
      "[1. 0. 0.] <-> [0.76888    0.17416638 0.05695361]\n",
      "[1. 0. 0.] <-> [0.80349934 0.11048765 0.08601303]\n",
      "[1. 0. 0.] <-> [0.83762866 0.07019892 0.0921724 ]\n",
      "{'accuracy': 0.9506172839506173, 'mean_square_error': 0.15457520611620004, 'categorical_crossentropy': 0.32922271445945456, 'essential_metrics': {0: {'tp_hit': 80, 'fp_hit': 8, 'tn_hit': 20, 'fn_hit': 0}, 1: {'tp_hit': 10, 'fp_hit': 0, 'tn_hit': 93, 'fn_hit': 5}, 2: {'tp_hit': 10, 'fp_hit': 0, 'tn_hit': 95, 'fn_hit': 3}}}\n"
     ]
    }
   ],
   "source": [
    "# recall phase\n",
    "score = model.evaluate(x_test, y_test, False)\n",
    "print(score)"
   ]
  },
  {
   "cell_type": "code",
   "execution_count": 11,
   "metadata": {},
   "outputs": [
    {
     "data": {
      "image/png": "[encoded data removed]",
      "text/plain": [
       "<Figure size 864x360 with 1 Axes>"
      ]
     },
     "metadata": {
      "needs_background": "light"
     },
     "output_type": "display_data"
    },
    {
     "data": {
      "image/png": "[encoded data removed]",
      "text/plain": [
       "<Figure size 864x360 with 1 Axes>"
      ]
     },
     "metadata": {
      "needs_background": "light"
     },
     "output_type": "display_data"
    }
   ],
   "source": [
    "draw_plot(x = [[i for i in range(len(history))], [(i+1)*breakpoint for i in range(len(checkpoints))]], y_list = [history, [ ckp[model.loss_fn] for ckp in checkpoints ]], x_label = 'Epochs', \\\n",
    "    y_label = model.loss_fn, legend=['train', 'test'])\n",
    "acc = [ ckp['accuracy'] for ckp in checkpoints ]\n",
    "draw_plot(x = [[(i+1)*breakpoint for i in range(len(checkpoints))]], y_list = [acc], x_label = 'Checkpoints', \\\n",
    "    y_label = 'accuracy')"
   ]
  },
  {
   "cell_type": "code",
   "execution_count": 12,
   "metadata": {},
   "outputs": [
    {
     "name": "stdout",
     "output_type": "stream",
     "text": [
      "{'accuracy': 0.9506172839506173, 'mean_square_error': 0.15692585590397762, 'categorical_crossentropy': 0.32899757667824076, 'essential_metrics': {0: {'tp_hit': 80, 'fp_hit': 8, 'tn_hit': 20, 'fn_hit': 0}, 1: {'tp_hit': 9, 'fp_hit': 0, 'tn_hit': 93, 'fn_hit': 6}, 2: {'tp_hit': 11, 'fp_hit': 0, 'tn_hit': 95, 'fn_hit': 2}}, 'checkpoint': 100} \n",
      "\n",
      "\n",
      "{'accuracy': 0.9506172839506173, 'mean_square_error': 0.157457579988579, 'categorical_crossentropy': 0.336928579542372, 'essential_metrics': {0: {'tp_hit': 80, 'fp_hit': 8, 'tn_hit': 20, 'fn_hit': 0}, 1: {'tp_hit': 10, 'fp_hit': 0, 'tn_hit': 93, 'fn_hit': 5}, 2: {'tp_hit': 10, 'fp_hit': 0, 'tn_hit': 95, 'fn_hit': 3}}, 'checkpoint': 200} \n",
      "\n",
      "\n",
      "{'accuracy': 0.9444444444444444, 'mean_square_error': 0.1549175082592915, 'categorical_crossentropy': 0.3285053747671622, 'essential_metrics': {0: {'tp_hit': 80, 'fp_hit': 9, 'tn_hit': 19, 'fn_hit': 0}, 1: {'tp_hit': 9, 'fp_hit': 0, 'tn_hit': 93, 'fn_hit': 6}, 2: {'tp_hit': 10, 'fp_hit': 0, 'tn_hit': 95, 'fn_hit': 3}}, 'checkpoint': 300} \n",
      "\n",
      "\n",
      "{'accuracy': 0.9444444444444444, 'mean_square_error': 0.16259768683051642, 'categorical_crossentropy': 0.34253307625099466, 'essential_metrics': {0: {'tp_hit': 80, 'fp_hit': 9, 'tn_hit': 19, 'fn_hit': 0}, 1: {'tp_hit': 9, 'fp_hit': 0, 'tn_hit': 93, 'fn_hit': 6}, 2: {'tp_hit': 10, 'fp_hit': 0, 'tn_hit': 95, 'fn_hit': 3}}, 'checkpoint': 400} \n",
      "\n",
      "\n",
      "{'accuracy': 0.9506172839506173, 'mean_square_error': 0.15457520611620004, 'categorical_crossentropy': 0.32922271445945456, 'essential_metrics': {0: {'tp_hit': 80, 'fp_hit': 8, 'tn_hit': 20, 'fn_hit': 0}, 1: {'tp_hit': 10, 'fp_hit': 0, 'tn_hit': 93, 'fn_hit': 5}, 2: {'tp_hit': 10, 'fp_hit': 0, 'tn_hit': 95, 'fn_hit': 3}}, 'checkpoint': 500} \n",
      "\n",
      "\n"
     ]
    }
   ],
   "source": [
    "for checkpoint in checkpoints:\n",
    "    print(checkpoint, '\\n\\n')"
   ]
  },
  {
   "cell_type": "code",
   "execution_count": 13,
   "metadata": {},
   "outputs": [
    {
     "name": "stdout",
     "output_type": "stream",
     "text": [
      "Layer 1\n",
      "Neuron 0: weights:\n",
      "[ 0.5257156  -1.1767069  -0.77378833 -0.18945928  0.23158257]\n",
      " bias: 0.6069442629814148\n",
      "\n",
      "Neuron 1: weights:\n",
      "[-0.34251598  0.77440375  0.08540906 -0.93240887 -0.88867044]\n",
      " bias: 0.7856043577194214\n",
      "\n",
      "Neuron 2: weights:\n",
      "[-0.3535455   1.0479205   0.635177    0.02133831 -0.19463578]\n",
      " bias: -0.5238860249519348\n",
      "\n",
      "Neuron 3: weights:\n",
      "[ 0.41721657 -0.6088363  -0.24720202  0.5012062   0.7715674 ]\n",
      " bias: -0.5060257315635681\n",
      "\n",
      "$\n",
      "Layer 2\n",
      "Neuron 0: weights:\n",
      "[ 1.0706787   1.1704707  -0.6130348  -0.21691647]\n",
      " bias: 0.2129182368516922\n",
      "\n",
      "Neuron 1: weights:\n",
      "[-1.6955131  0.6698458  1.5404736 -0.967724 ]\n",
      " bias: 0.0043754614889621735\n",
      "\n",
      "Neuron 2: weights:\n",
      "[ 0.615907  -1.6647339 -0.7880956  1.3953726]\n",
      " bias: 0.004383839666843414\n",
      "\n",
      "$\n",
      "\n"
     ]
    }
   ],
   "source": [
    "print(model)"
   ]
  }
 ],
 "metadata": {
  "kernelspec": {
   "display_name": "Python 3",
   "language": "python",
   "name": "python3"
  },
  "language_info": {
   "codemirror_mode": {
    "name": "ipython",
    "version": 3
   },
   "file_extension": ".py",
   "mimetype": "text/x-python",
   "name": "python",
   "nbconvert_exporter": "python",
   "pygments_lexer": "ipython3",
   "version": "3.6.10"
  }
 },
 "nbformat": 4,
 "nbformat_minor": 2
}
