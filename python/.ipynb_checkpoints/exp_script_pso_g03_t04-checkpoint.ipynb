{
 "cells": [
  {
   "cell_type": "code",
   "execution_count": 1,
   "metadata": {},
   "outputs": [],
   "source": [
    "# dependency\n",
    "import numpy as np\n",
    "import pandas as pd\n",
    "import copy\n",
    "import math\n",
    "import sys\n",
    "import os\n",
    "from activations import relu, leaky_relu, sigmoid, tanh, softmax, d_sigmoid, d_relu\n",
    "from initializers import glorot_uniform, random_normal, random_uniform\n",
    "from regularizers import l1_regularizer, l2_regularizer\n",
    "from utility import trim_tail, multiply, subtract, get_nparams, one_hot_encoding, get_data\n",
    "from metrics import MSE, CCE, ACC, PRECISION, RECALL, essential_metrics, wondering_penalty, close_gap_penalty\n",
    "from pso import PSO\n",
    "from ga import GA\n",
    "from nn import Network\n",
    "from layer import DenseLayer\n",
    "from scalers import MinMaxScaler, StandardScaler"
   ]
  },
  {
   "cell_type": "code",
   "execution_count": 2,
   "metadata": {},
   "outputs": [],
   "source": [
    "# reference\n",
    "metrics_fn_dict = dict()\n",
    "metrics_fn_dict['accuracy'] = ACC\n",
    "metrics_fn_dict['categorical_crossentropy'] = CCE\n",
    "metrics_fn_dict['mean_square_error'] = MSE\n",
    "metrics_fn_dict['precision'] = PRECISION\n",
    "metrics_fn_dict['recall'] = RECALL\n",
    "metrics_fn_dict['essential_metrics'] = essential_metrics"
   ]
  },
  {
   "cell_type": "code",
   "execution_count": 3,
   "metadata": {},
   "outputs": [],
   "source": [
    "# model\n",
    "model = Network(5, lr = None)\n",
    "model.add_layer(DenseLayer(1, 4, True, afn=sigmoid, dafn=None, rfn=None))\n",
    "model.add_layer(DenseLayer(2, 3, True, afn=softmax, dafn=None, rfn=None))"
   ]
  },
  {
   "cell_type": "code",
   "execution_count": 4,
   "metadata": {},
   "outputs": [
    {
     "name": "stdout",
     "output_type": "stream",
     "text": [
      "see one see two 2 2\n"
     ]
    }
   ],
   "source": [
    "pso = PSO(dict(m = 50,\n",
    "    weight_constraint = [-3, 3], \n",
    "    velocity_constraint = [-0.1, 0.1],\n",
    "    c1 = 2,\n",
    "    c2 = 2,\n",
    "    w = 1,\n",
    "    w_decay = 1,\n",
    "    scale_hyperparameter = False,\n",
    "    regularizer = l2_regularizer,\n",
    "    mask = True))"
   ]
  },
  {
   "cell_type": "code",
   "execution_count": 5,
   "metadata": {},
   "outputs": [
    {
     "name": "stdout",
     "output_type": "stream",
     "text": [
      "building layer 1 with 5\n",
      "24\n",
      "building layer 2 with 4\n",
      "15\n"
     ]
    }
   ],
   "source": [
    "model.compile(loss_fn = 'categorical_crossentropy', optimizer = pso, \\\n",
    "    metrics = ['accuracy', 'mean_square_error', 'categorical_crossentropy'])"
   ]
  },
  {
   "cell_type": "code",
   "execution_count": 6,
   "metadata": {},
   "outputs": [
    {
     "name": "stdout",
     "output_type": "stream",
     "text": [
      "<class 'pandas.core.frame.DataFrame'>\n",
      "RangeIndex: 107 entries, 0 to 106\n",
      "Data columns (total 6 columns):\n",
      " #   Column  Non-Null Count  Dtype  \n",
      "---  ------  --------------  -----  \n",
      " 0   f1      107 non-null    float32\n",
      " 1   f2      107 non-null    float32\n",
      " 2   f3      107 non-null    float32\n",
      " 3   f4      107 non-null    float32\n",
      " 4   f5      107 non-null    float32\n",
      " 5   label   107 non-null    float32\n",
      "dtypes: float32(6)\n",
      "memory usage: 2.6 KB\n",
      "None\n",
      "<class 'pandas.core.frame.DataFrame'>\n",
      "RangeIndex: 108 entries, 0 to 107\n",
      "Data columns (total 6 columns):\n",
      " #   Column  Non-Null Count  Dtype  \n",
      "---  ------  --------------  -----  \n",
      " 0   f1      108 non-null    float32\n",
      " 1   f2      108 non-null    float32\n",
      " 2   f3      108 non-null    float32\n",
      " 3   f4      108 non-null    float32\n",
      " 4   f5      108 non-null    float32\n",
      " 5   label   108 non-null    float32\n",
      "dtypes: float32(6)\n",
      "memory usage: 2.7 KB\n",
      "None\n"
     ]
    }
   ],
   "source": [
    "# data loading\n",
    "DATA = os.path.join('c:\\\\Users\\\\tcumi\\\\github_repo\\\\neural-network\\\\', 'dataset')\n",
    "GROUP = 3\n",
    "COLUMNS = ['f1', 'f2', 'f3', 'f4', 'f5', 'label']\n",
    "N_CLASS = 3\n",
    "EPOCHS = 500\n",
    "train_dir, test_dir = \"..//dataset//training_data{}.txt\".format(GROUP), \"..//dataset//testing_data{}.txt\".format(GROUP)\n",
    "train, test = get_data(DATA, train_dir, COLUMNS), get_data(DATA, test_dir, COLUMNS)\n",
    "# shuffle\n",
    "train, test = train.sample(frac=1), test.sample(frac=1)\n",
    "x_train, y_train = train.drop('label', axis=1), train['label']\n",
    "x_test, y_test = test.drop('label', axis=1), test['label']"
   ]
  },
  {
   "cell_type": "code",
   "execution_count": 7,
   "metadata": {},
   "outputs": [],
   "source": [
    "# data scaling and encoding\n",
    "scaler = StandardScaler(['f1', 'f2', 'f3', 'f4', 'f5'])\n",
    "scaler.fit(x_train)\n",
    "x_train = scaler.transform(x_train)\n",
    "x_test = scaler.transform(x_test)\n",
    "y_train = one_hot_encoding(y_train, N_CLASS)\n",
    "y_test = one_hot_encoding(y_test, N_CLASS)"
   ]
  },
  {
   "cell_type": "code",
   "execution_count": 8,
   "metadata": {
    "tags": [
     "outputPrepend"
    ]
   },
   "outputs": [
    {
     "name": "stdout",
     "output_type": "stream",
     "text": [
      "Checkpoint 100, Accuracy: 0.8950617283950617, Loss: 0.4248392670242875\n",
      "Checkpoint 200, Accuracy: 0.9012345679012346, Loss: 0.36996580053258826\n",
      "Checkpoint 300, Accuracy: 0.9012345679012346, Loss: 0.3750490965666594\n",
      "Checkpoint 400, Accuracy: 0.9012345679012346, Loss: 0.3767768012152778\n",
      "Checkpoint 500, Accuracy: 0.8950617283950617, Loss: 0.3734585797345197\n"
     ]
    }
   ],
   "source": [
    "# learning phase\n",
    "breakpoint = 100\n",
    "checkpoints = list()\n",
    "history = list()\n",
    "for century in range(0, EPOCHS, breakpoint):\n",
    "    sub_history = model.fit(x_train, y_train, breakpoint, verbose = 0)\n",
    "    score = model.evaluate(x_test, y_test, False, verbose = 0)\n",
    "    print('Checkpoint {}, Accuracy: {}, Loss: {}'.format(century+breakpoint, score['accuracy'], score[model.loss_fn]))\n",
    "    score['checkpoint'] = century + breakpoint\n",
    "    checkpoints.append(score)\n",
    "    history.extend(sub_history)"
   ]
  },
  {
   "cell_type": "code",
   "execution_count": 9,
   "metadata": {},
   "outputs": [],
   "source": [
    "import matplotlib.pyplot as plt\n",
    "\n",
    "def draw_plot(x, y_list, x_label=None, y_label=None, legend=None, title=None):\n",
    "    fig, ax = plt.subplots(figsize=(12,5))\n",
    "    for xi, yi in zip(x, y_list):\n",
    "        ax.plot(xi, yi)\n",
    "    if x_label is not None and y_label is not None:\n",
    "        ax.set(xlabel=x_label, ylabel=y_label, title='{} VS {}'.format(x_label, y_label))\n",
    "    if legend is not None:\n",
    "        ax.legend(legend)\n",
    "    ax.grid()\n",
    "    plt.show()"
   ]
  },
  {
   "cell_type": "code",
   "execution_count": 10,
   "metadata": {},
   "outputs": [
    {
     "name": "stdout",
     "output_type": "stream",
     "text": [
      "[1. 0. 0.] <-> [0.61604923 0.32997617 0.05397454]\n",
      "[0. 1. 0.] <-> [0.41145325 0.547078   0.04146875]\n",
      "[0. 1. 0.] <-> [0.67421436 0.2858713  0.03991429]\n",
      "[1. 0. 0.] <-> [0.7866654  0.12712273 0.08621178]\n",
      "[0. 1. 0.] <-> [0.24874867 0.7204324  0.03081893]\n",
      "[0. 1. 0.] <-> [0.18010752 0.79491043 0.02498209]\n",
      "[1. 0. 0.] <-> [0.7624929  0.18034552 0.05716161]\n",
      "[1. 0. 0.] <-> [0.86867917 0.05715561 0.07416523]\n",
      "[1. 0. 0.] <-> [0.81978023 0.10662474 0.07359501]\n",
      "[1. 0. 0.] <-> [0.8004449  0.12617375 0.07338139]\n",
      "[1. 0. 0.] <-> [0.7885509  0.07366351 0.13778548]\n",
      "[1. 0. 0.] <-> [0.75965476 0.07571026 0.164635  ]\n",
      "[1. 0. 0.] <-> [0.7744792  0.15204662 0.07347421]\n",
      "[1. 0. 0.] <-> [0.83704627 0.11065246 0.05230137]\n",
      "[1. 0. 0.] <-> [0.8176461  0.10612899 0.07622495]\n",
      "[1. 0. 0.] <-> [0.83746    0.0569432  0.10559684]\n",
      "[1. 0. 0.] <-> [0.83463997 0.08535439 0.08000574]\n",
      "[1. 0. 0.] <-> [0.85290307 0.08856588 0.05853108]\n",
      "[1. 0. 0.] <-> [0.8726736  0.05973433 0.06759208]\n",
      "[1. 0. 0.] <-> [0.84443116 0.09578793 0.05978082]\n",
      "[1. 0. 0.] <-> [0.7877797  0.15161283 0.06060747]\n",
      "[1. 0. 0.] <-> [0.846262   0.08276893 0.07096904]\n",
      "[1. 0. 0.] <-> [0.8496683  0.08295517 0.06737655]\n",
      "[1. 0. 0.] <-> [0.810696   0.07638316 0.11292086]\n",
      "[1. 0. 0.] <-> [0.86258906 0.06335972 0.07405117]\n",
      "[1. 0. 0.] <-> [0.86667466 0.04270752 0.09061782]\n",
      "[1. 0. 0.] <-> [0.83155864 0.10047597 0.06796534]\n",
      "[1. 0. 0.] <-> [0.81148237 0.09418207 0.09433549]\n",
      "[0. 1. 0.] <-> [0.5607641  0.38732955 0.05190641]\n",
      "[1. 0. 0.] <-> [0.87951034 0.04004902 0.08044061]\n",
      "[0. 0. 1.] <-> [0.61220384 0.01743843 0.3703577 ]\n",
      "[1. 0. 0.] <-> [0.77515894 0.05449679 0.17034423]\n",
      "[0. 1. 0.] <-> [0.22030161 0.750753   0.02894546]\n",
      "[0. 0. 1.] <-> [0.3996356  0.02853385 0.5718306 ]\n",
      "[0. 1. 0.] <-> [0.13169597 0.85040283 0.01790127]\n",
      "[1. 0. 0.] <-> [0.7290451  0.1978584  0.07309648]\n",
      "[1. 0. 0.] <-> [0.8556083  0.07794192 0.06644983]\n",
      "[1. 0. 0.] <-> [0.86364305 0.0670589  0.06929812]\n",
      "[1. 0. 0.] <-> [0.81096107 0.096472   0.09256693]\n",
      "[1. 0. 0.] <-> [0.8273597  0.11368962 0.05895075]\n",
      "[0. 0. 1.] <-> [0.81826156 0.04931678 0.13242167]\n",
      "[1. 0. 0.] <-> [0.6667223  0.20257336 0.13070437]\n",
      "[1. 0. 0.] <-> [0.74889725 0.13905346 0.11204924]\n",
      "[0. 1. 0.] <-> [0.5487055  0.41699412 0.03430038]\n",
      "[1. 0. 0.] <-> [0.711427  0.1844074 0.1041657]\n",
      "[1. 0. 0.] <-> [0.84104246 0.08750513 0.07145243]\n",
      "[0. 0. 1.] <-> [0.6216716  0.01874226 0.3595861 ]\n",
      "[1. 0. 0.] <-> [0.65866935 0.06327131 0.2780593 ]\n",
      "[1. 0. 0.] <-> [0.8757748  0.04288926 0.08133587]\n",
      "[1. 0. 0.] <-> [0.81049746 0.07482535 0.1146772 ]\n",
      "[1. 0. 0.] <-> [0.84422493 0.03636799 0.11940712]\n",
      "[1. 0. 0.] <-> [0.7044854  0.23842454 0.05709006]\n",
      "[1. 0. 0.] <-> [0.6635165  0.28726804 0.04921537]\n",
      "[1. 0. 0.] <-> [0.8381291  0.06942882 0.09244206]\n",
      "[0. 0. 1.] <-> [0.17798524 0.03694312 0.7850716 ]\n",
      "[1. 0. 0.] <-> [0.8529245  0.05853994 0.08853551]\n",
      "[1. 0. 0.] <-> [0.8488704  0.06461155 0.08651798]\n",
      "[1. 0. 0.] <-> [0.8434726  0.0901861  0.06634137]\n",
      "[0. 0. 1.] <-> [0.64241064 0.01774035 0.339849  ]\n",
      "[1. 0. 0.] <-> [0.7045562  0.23124956 0.06419424]\n",
      "[1. 0. 0.] <-> [0.8157821  0.12575302 0.05846482]\n",
      "[0. 1. 0.] <-> [0.1307887  0.85104567 0.01816564]\n",
      "[1. 0. 0.] <-> [0.82722944 0.11495368 0.05781682]\n",
      "[0. 0. 1.] <-> [0.85154015 0.0287963  0.11966359]\n",
      "[0. 0. 1.] <-> [0.72198796 0.01830852 0.25970352]\n",
      "[1. 0. 0.] <-> [0.8561599  0.05455846 0.08928155]\n",
      "[0. 0. 1.] <-> [0.5695102  0.04605167 0.3844381 ]\n",
      "[0. 1. 0.] <-> [0.13748413 0.84418064 0.01833521]\n",
      "[1. 0. 0.] <-> [0.8307733  0.10582194 0.06340481]\n",
      "[1. 0. 0.] <-> [0.82585347 0.11056941 0.06357714]\n",
      "[1. 0. 0.] <-> [0.8668734  0.06639561 0.06673094]\n",
      "[1. 0. 0.] <-> [0.8785637  0.05714868 0.06428761]\n",
      "[1. 0. 0.] <-> [0.8393658  0.0599029  0.10073131]\n",
      "[0. 1. 0.] <-> [0.52184236 0.440552   0.03760571]\n",
      "[1. 0. 0.] <-> [0.8683672  0.06255573 0.06907708]\n",
      "[1. 0. 0.] <-> [0.8686851  0.03539816 0.09591678]\n",
      "[0. 1. 0.] <-> [0.14575392 0.83340085 0.02084524]\n",
      "[1. 0. 0.] <-> [0.872525   0.04147176 0.08600318]\n",
      "[1. 0. 0.] <-> [0.8523433  0.08172794 0.06592872]\n",
      "[1. 0. 0.] <-> [0.85365313 0.03719576 0.10915112]\n",
      "[0. 1. 0.] <-> [0.68404955 0.26654544 0.04940501]\n",
      "[1. 0. 0.] <-> [0.72585064 0.21401957 0.06012976]\n",
      "[1. 0. 0.] <-> [0.779453   0.14407685 0.07647018]\n",
      "[1. 0. 0.] <-> [0.80821925 0.10620593 0.0855749 ]\n",
      "[1. 0. 0.] <-> [0.7462249  0.1810917  0.07268339]\n",
      "[1. 0. 0.] <-> [0.6837812 0.2521962 0.0640226]\n",
      "[1. 0. 0.] <-> [0.845605   0.0446321  0.10976294]\n",
      "[1. 0. 0.] <-> [0.72788787 0.22199246 0.05011965]\n",
      "[0. 1. 0.] <-> [0.61262345 0.3480402  0.03933634]\n",
      "[0. 1. 0.] <-> [0.5026323  0.46089593 0.03647177]\n",
      "[1. 0. 0.] <-> [0.8403697  0.09378903 0.06584136]\n",
      "[0. 0. 1.] <-> [0.14587162 0.04909378 0.80503464]\n",
      "[1. 0. 0.] <-> [0.8279912  0.08017923 0.09182956]\n",
      "[1. 0. 0.] <-> [0.8157296  0.11280884 0.07146151]\n",
      "[1. 0. 0.] <-> [0.826299   0.08222373 0.09147733]\n",
      "[0. 1. 0.] <-> [0.13786414 0.8418337  0.02030205]\n",
      "[0. 0. 1.] <-> [0.7203633  0.03814523 0.24149144]\n",
      "[1. 0. 0.] <-> [0.79679227 0.12934853 0.07385925]\n",
      "[0. 0. 1.] <-> [0.5453162  0.01746638 0.4372174 ]\n",
      "[1. 0. 0.] <-> [0.7743285  0.08013228 0.14553922]\n",
      "[1. 0. 0.] <-> [0.83693796 0.08144195 0.08162006]\n",
      "[0. 0. 1.] <-> [0.13177653 0.04104105 0.8271825 ]\n",
      "[1. 0. 0.] <-> [0.8647453  0.0446908  0.09056389]\n",
      "[1. 0. 0.] <-> [0.8713877  0.05418245 0.07442992]\n",
      "[1. 0. 0.] <-> [0.77207744 0.15604334 0.07187928]\n",
      "[1. 0. 0.] <-> [0.80797905 0.11052973 0.08149121]\n",
      "[0. 0. 1.] <-> [0.657863   0.05737724 0.28475976]\n",
      "[1. 0. 0.] <-> [0.81528115 0.12113953 0.06357935]\n",
      "{'accuracy': 0.8950617283950617, 'mean_square_error': 0.19813962616883599, 'categorical_crossentropy': 0.3734585797345197, 'essential_metrics': {0: {'tp_hit': 78, 'fp_hit': 17, 'tn_hit': 13, 'fn_hit': 0}, 1: {'tp_hit': 9, 'fp_hit': 0, 'tn_hit': 92, 'fn_hit': 7}, 2: {'tp_hit': 4, 'fp_hit': 0, 'tn_hit': 94, 'fn_hit': 10}}}\n"
     ]
    }
   ],
   "source": [
    "# recall phase\n",
    "score = model.evaluate(x_test, y_test, False)\n",
    "print(score)"
   ]
  },
  {
   "cell_type": "code",
   "execution_count": 11,
   "metadata": {},
   "outputs": [
    {
     "data": {
      "image/png": "[encoded data removed]",
      "text/plain": [
       "<Figure size 864x360 with 1 Axes>"
      ]
     },
     "metadata": {
      "needs_background": "light"
     },
     "output_type": "display_data"
    },
    {
     "data": {
      "image/png": "[encoded data removed]",
      "text/plain": [
       "<Figure size 864x360 with 1 Axes>"
      ]
     },
     "metadata": {
      "needs_background": "light"
     },
     "output_type": "display_data"
    }
   ],
   "source": [
    "draw_plot(x = [[i for i in range(len(history))], [(i+1)*breakpoint for i in range(len(checkpoints))]], y_list = [history, [ ckp[model.loss_fn] for ckp in checkpoints ]], x_label = 'Epochs', \\\n",
    "    y_label = model.loss_fn, legend=['train', 'test'])\n",
    "acc = [ ckp['accuracy'] for ckp in checkpoints ]\n",
    "draw_plot(x = [[(i+1)*breakpoint for i in range(len(checkpoints))]], y_list = [acc], x_label = 'Checkpoints', \\\n",
    "    y_label = 'accuracy')"
   ]
  },
  {
   "cell_type": "code",
   "execution_count": 12,
   "metadata": {},
   "outputs": [
    {
     "name": "stdout",
     "output_type": "stream",
     "text": [
      "{'accuracy': 0.8950617283950617, 'mean_square_error': 0.22804431595091598, 'categorical_crossentropy': 0.4248392670242875, 'essential_metrics': {0: {'tp_hit': 78, 'fp_hit': 17, 'tn_hit': 13, 'fn_hit': 0}, 1: {'tp_hit': 10, 'fp_hit': 0, 'tn_hit': 92, 'fn_hit': 6}, 2: {'tp_hit': 3, 'fp_hit': 0, 'tn_hit': 94, 'fn_hit': 11}}, 'checkpoint': 100} \n",
      "\n",
      "\n",
      "{'accuracy': 0.9012345679012346, 'mean_square_error': 0.1962491554944752, 'categorical_crossentropy': 0.36996580053258826, 'essential_metrics': {0: {'tp_hit': 78, 'fp_hit': 16, 'tn_hit': 14, 'fn_hit': 0}, 1: {'tp_hit': 10, 'fp_hit': 0, 'tn_hit': 92, 'fn_hit': 6}, 2: {'tp_hit': 4, 'fp_hit': 0, 'tn_hit': 94, 'fn_hit': 10}}, 'checkpoint': 200} \n",
      "\n",
      "\n",
      "{'accuracy': 0.9012345679012346, 'mean_square_error': 0.20156997863904083, 'categorical_crossentropy': 0.3750490965666594, 'essential_metrics': {0: {'tp_hit': 78, 'fp_hit': 16, 'tn_hit': 14, 'fn_hit': 0}, 1: {'tp_hit': 10, 'fp_hit': 0, 'tn_hit': 92, 'fn_hit': 6}, 2: {'tp_hit': 4, 'fp_hit': 0, 'tn_hit': 94, 'fn_hit': 10}}, 'checkpoint': 300} \n",
      "\n",
      "\n",
      "{'accuracy': 0.9012345679012346, 'mean_square_error': 0.20022864117637146, 'categorical_crossentropy': 0.3767768012152778, 'essential_metrics': {0: {'tp_hit': 78, 'fp_hit': 16, 'tn_hit': 14, 'fn_hit': 0}, 1: {'tp_hit': 10, 'fp_hit': 0, 'tn_hit': 92, 'fn_hit': 6}, 2: {'tp_hit': 4, 'fp_hit': 0, 'tn_hit': 94, 'fn_hit': 10}}, 'checkpoint': 400} \n",
      "\n",
      "\n",
      "{'accuracy': 0.8950617283950617, 'mean_square_error': 0.19813962616883599, 'categorical_crossentropy': 0.3734585797345197, 'essential_metrics': {0: {'tp_hit': 78, 'fp_hit': 17, 'tn_hit': 13, 'fn_hit': 0}, 1: {'tp_hit': 9, 'fp_hit': 0, 'tn_hit': 92, 'fn_hit': 7}, 2: {'tp_hit': 4, 'fp_hit': 0, 'tn_hit': 94, 'fn_hit': 10}}, 'checkpoint': 500} \n",
      "\n",
      "\n"
     ]
    }
   ],
   "source": [
    "for checkpoint in checkpoints:\n",
    "    print(checkpoint, '\\n\\n')"
   ]
  },
  {
   "cell_type": "code",
   "execution_count": 13,
   "metadata": {},
   "outputs": [
    {
     "name": "stdout",
     "output_type": "stream",
     "text": [
      "Layer 1\n",
      "Neuron 0: weights:\n",
      "[-0.18863437  0.74613    -0.00360188 -0.5375757  -0.7598545 ]\n",
      " bias: 0.4910984933376312\n",
      "\n",
      "Neuron 1: weights:\n",
      "[-0.6719767   1.05795     0.88443625  0.1288264  -0.2813444 ]\n",
      " bias: -0.6157193779945374\n",
      "\n",
      "Neuron 2: weights:\n",
      "[ 0.51321524 -0.74225795 -0.76886636 -1.1680713  -0.87026477]\n",
      " bias: 0.2951844036579132\n",
      "\n",
      "Neuron 3: weights:\n",
      "[ 0.33117476 -0.68751156 -0.14831695  0.54651654  0.7177185 ]\n",
      " bias: -0.452728807926178\n",
      "\n",
      "$\n",
      "Layer 2\n",
      "Neuron 0: weights:\n",
      "[ 0.78337795 -0.89759165  1.6924214  -0.5006153 ]\n",
      " bias: 0.27896010875701904\n",
      "\n",
      "Neuron 1: weights:\n",
      "[ 0.61164445  1.6606947  -1.1469666  -1.1393981 ]\n",
      " bias: -0.2149742990732193\n",
      "\n",
      "Neuron 2: weights:\n",
      "[-1.3184823  -0.70054233 -0.40689623  1.5645833 ]\n",
      " bias: 0.1486077606678009\n",
      "\n",
      "$\n",
      "\n"
     ]
    }
   ],
   "source": [
    "print(model)"
   ]
  }
 ],
 "metadata": {
  "kernelspec": {
   "display_name": "Python 3",
   "language": "python",
   "name": "python3"
  },
  "language_info": {
   "codemirror_mode": {
    "name": "ipython",
    "version": 3
   },
   "file_extension": ".py",
   "mimetype": "text/x-python",
   "name": "python",
   "nbconvert_exporter": "python",
   "pygments_lexer": "ipython3",
   "version": "3.6.10"
  }
 },
 "nbformat": 4,
 "nbformat_minor": 2
}
