{
 "cells": [
  {
   "cell_type": "code",
   "execution_count": 1,
   "metadata": {},
   "outputs": [],
   "source": [
    "# dependency\n",
    "import numpy as np\n",
    "import pandas as pd\n",
    "import copy\n",
    "import math\n",
    "import sys\n",
    "import os\n",
    "from activations import relu, leaky_relu, sigmoid, tanh, softmax, d_sigmoid, d_relu\n",
    "from initializers import glorot_uniform, random_normal, random_uniform\n",
    "from regularizers import l1_regularizer, l2_regularizer\n",
    "from utility import trim_tail, multiply, subtract, get_nparams, one_hot_encoding, get_data\n",
    "from metrics import MSE, CCE, ACC, PRECISION, RECALL, essential_metrics, wondering_penalty, close_gap_penalty\n",
    "from pso import PSO\n",
    "from ga import GA\n",
    "from nn import Network\n",
    "from layer import DenseLayer\n",
    "from scalers import MinMaxScaler, StandardScaler"
   ]
  },
  {
   "cell_type": "code",
   "execution_count": 2,
   "metadata": {},
   "outputs": [],
   "source": [
    "# reference\n",
    "metrics_fn_dict = dict()\n",
    "metrics_fn_dict['accuracy'] = ACC\n",
    "metrics_fn_dict['categorical_crossentropy'] = CCE\n",
    "metrics_fn_dict['mean_square_error'] = MSE\n",
    "metrics_fn_dict['precision'] = PRECISION\n",
    "metrics_fn_dict['recall'] = RECALL\n",
    "metrics_fn_dict['essential_metrics'] = essential_metrics"
   ]
  },
  {
   "cell_type": "code",
   "execution_count": 3,
   "metadata": {},
   "outputs": [],
   "source": [
    "# model\n",
    "model = Network(5, lr = None)\n",
    "model.add_layer(DenseLayer(1, 4, True, afn=sigmoid, dafn=None, rfn=None))\n",
    "model.add_layer(DenseLayer(2, 3, True, afn=softmax, dafn=None, rfn=None))"
   ]
  },
  {
   "cell_type": "code",
   "execution_count": 4,
   "metadata": {},
   "outputs": [
    {
     "name": "stdout",
     "output_type": "stream",
     "text": [
      "see one see two 2 2\n"
     ]
    }
   ],
   "source": [
    "pso = PSO(dict(m = 50,\n",
    "    weight_constraint = [-3, 3], \n",
    "    velocity_constraint = [-0.1, 0.1],\n",
    "    c1 = 2,\n",
    "    c2 = 2,\n",
    "    w = 1,\n",
    "    w_decay = 1,\n",
    "    scale_hyperparameter = False,\n",
    "    regularizer = l2_regularizer,\n",
    "    mask = True))"
   ]
  },
  {
   "cell_type": "code",
   "execution_count": 5,
   "metadata": {},
   "outputs": [
    {
     "name": "stdout",
     "output_type": "stream",
     "text": [
      "building layer 1 with 5\n",
      "24\n",
      "building layer 2 with 4\n",
      "15\n"
     ]
    }
   ],
   "source": [
    "model.compile(loss_fn = 'categorical_crossentropy', optimizer = pso, \\\n",
    "    metrics = ['accuracy', 'mean_square_error', 'categorical_crossentropy'])"
   ]
  },
  {
   "cell_type": "code",
   "execution_count": 6,
   "metadata": {},
   "outputs": [
    {
     "name": "stdout",
     "output_type": "stream",
     "text": [
      "<class 'pandas.core.frame.DataFrame'>\n",
      "RangeIndex: 107 entries, 0 to 106\n",
      "Data columns (total 6 columns):\n",
      " #   Column  Non-Null Count  Dtype  \n",
      "---  ------  --------------  -----  \n",
      " 0   f1      107 non-null    float32\n",
      " 1   f2      107 non-null    float32\n",
      " 2   f3      107 non-null    float32\n",
      " 3   f4      107 non-null    float32\n",
      " 4   f5      107 non-null    float32\n",
      " 5   label   107 non-null    float32\n",
      "dtypes: float32(6)\n",
      "memory usage: 2.6 KB\n",
      "None\n",
      "<class 'pandas.core.frame.DataFrame'>\n",
      "RangeIndex: 108 entries, 0 to 107\n",
      "Data columns (total 6 columns):\n",
      " #   Column  Non-Null Count  Dtype  \n",
      "---  ------  --------------  -----  \n",
      " 0   f1      108 non-null    float32\n",
      " 1   f2      108 non-null    float32\n",
      " 2   f3      108 non-null    float32\n",
      " 3   f4      108 non-null    float32\n",
      " 4   f5      108 non-null    float32\n",
      " 5   label   108 non-null    float32\n",
      "dtypes: float32(6)\n",
      "memory usage: 2.7 KB\n",
      "None\n"
     ]
    }
   ],
   "source": [
    "# data loading\n",
    "DATA = os.path.join('c:\\\\Users\\\\tcumi\\\\github_repo\\\\neural-network\\\\', 'dataset')\n",
    "GROUP = 3\n",
    "COLUMNS = ['f1', 'f2', 'f3', 'f4', 'f5', 'label']\n",
    "N_CLASS = 3\n",
    "EPOCHS = 500\n",
    "train_dir, test_dir = \"..//dataset//training_data{}.txt\".format(GROUP), \"..//dataset//testing_data{}.txt\".format(GROUP)\n",
    "train, test = get_data(DATA, train_dir, COLUMNS), get_data(DATA, test_dir, COLUMNS)\n",
    "# shuffle\n",
    "train, test = train.sample(frac=1), test.sample(frac=1)\n",
    "x_train, y_train = train.drop('label', axis=1), train['label']\n",
    "x_test, y_test = test.drop('label', axis=1), test['label']"
   ]
  },
  {
   "cell_type": "code",
   "execution_count": 7,
   "metadata": {},
   "outputs": [],
   "source": [
    "# data scaling and encoding\n",
    "scaler = StandardScaler(['f1', 'f2', 'f3', 'f4', 'f5'])\n",
    "scaler.fit(x_train)\n",
    "x_train = scaler.transform(x_train)\n",
    "x_test = scaler.transform(x_test)\n",
    "y_train = one_hot_encoding(y_train, N_CLASS)\n",
    "y_test = one_hot_encoding(y_test, N_CLASS)"
   ]
  },
  {
   "cell_type": "code",
   "execution_count": 8,
   "metadata": {
    "tags": [
     "outputPrepend"
    ]
   },
   "outputs": [
    {
     "name": "stdout",
     "output_type": "stream",
     "text": [
      "Checkpoint 100, Accuracy: 0.9012345679012346, Loss: 0.3754879280372902\n",
      "Checkpoint 200, Accuracy: 0.9135802469135802, Loss: 0.31897410640010126\n",
      "Checkpoint 300, Accuracy: 0.9382716049382716, Loss: 0.2804671216894079\n",
      "Checkpoint 400, Accuracy: 0.9444444444444444, Loss: 0.2766720100685402\n",
      "Checkpoint 500, Accuracy: 0.9444444444444444, Loss: 0.2766720100685402\n"
     ]
    }
   ],
   "source": [
    "# learning phase\n",
    "breakpoint = 100\n",
    "checkpoints = list()\n",
    "history = list()\n",
    "for century in range(0, EPOCHS, breakpoint):\n",
    "    sub_history = model.fit(x_train, y_train, breakpoint, verbose = 0)\n",
    "    score = model.evaluate(x_test, y_test, False, verbose = 0)\n",
    "    print('Checkpoint {}, Accuracy: {}, Loss: {}'.format(century+breakpoint, score['accuracy'], score[model.loss_fn]))\n",
    "    score['checkpoint'] = century + breakpoint\n",
    "    checkpoints.append(score)\n",
    "    history.extend(sub_history)"
   ]
  },
  {
   "cell_type": "code",
   "execution_count": 9,
   "metadata": {},
   "outputs": [],
   "source": [
    "import matplotlib.pyplot as plt\n",
    "\n",
    "def draw_plot(x, y_list, x_label=None, y_label=None, legend=None, title=None):\n",
    "    fig, ax = plt.subplots(figsize=(12,5))\n",
    "    for xi, yi in zip(x, y_list):\n",
    "        ax.plot(xi, yi)\n",
    "    if x_label is not None and y_label is not None:\n",
    "        ax.set(xlabel=x_label, ylabel=y_label, title='{} VS {}'.format(x_label, y_label))\n",
    "    if legend is not None:\n",
    "        ax.legend(legend)\n",
    "    ax.grid()\n",
    "    plt.show()"
   ]
  },
  {
   "cell_type": "code",
   "execution_count": 10,
   "metadata": {},
   "outputs": [
    {
     "name": "stdout",
     "output_type": "stream",
     "text": [
      "[1. 0. 0.] <-> [0.8431494  0.11869866 0.03815192]\n",
      "[1. 0. 0.] <-> [0.926944   0.01617487 0.05688121]\n",
      "[1. 0. 0.] <-> [0.92294717 0.01770994 0.05934283]\n",
      "[1. 0. 0.] <-> [0.8891396  0.07769669 0.03316368]\n",
      "[1. 0. 0.] <-> [0.9263237  0.02590036 0.04777589]\n",
      "[0. 0. 1.] <-> [0.8437147  0.02109148 0.1351939 ]\n",
      "[0. 1. 0.] <-> [0.09962652 0.8915132  0.00886027]\n",
      "[1. 0. 0.] <-> [0.9080599  0.06522098 0.02671915]\n",
      "[1. 0. 0.] <-> [0.635672   0.02717622 0.33715183]\n",
      "[1. 0. 0.] <-> [0.8221544  0.04197593 0.13586968]\n",
      "[1. 0. 0.] <-> [0.810834   0.15412593 0.03504   ]\n",
      "[0. 0. 1.] <-> [0.36451638 0.00447962 0.63100404]\n",
      "[1. 0. 0.] <-> [0.92280465 0.04621062 0.03098474]\n",
      "[1. 0. 0.] <-> [0.89891255 0.04314326 0.05794417]\n",
      "[1. 0. 0.] <-> [0.8558328  0.0858599  0.05830734]\n",
      "[1. 0. 0.] <-> [0.8889089  0.07581863 0.03527239]\n",
      "[1. 0. 0.] <-> [0.70468456 0.24726085 0.04805458]\n",
      "[1. 0. 0.] <-> [0.91240114 0.023941   0.06365785]\n",
      "[0. 1. 0.] <-> [0.55302554 0.42429736 0.02267708]\n",
      "[1. 0. 0.] <-> [0.8658495  0.08785466 0.04629582]\n",
      "[0. 1. 0.] <-> [0.14163218 0.84456414 0.01380375]\n",
      "[1. 0. 0.] <-> [0.92555124 0.03259247 0.04185631]\n",
      "[1. 0. 0.] <-> [0.76666486 0.20542964 0.02790551]\n",
      "[1. 0. 0.] <-> [0.8965532  0.06673723 0.03670955]\n",
      "[1. 0. 0.] <-> [0.8930536  0.02891403 0.07803228]\n",
      "[1. 0. 0.] <-> [0.90817785 0.05187594 0.03994626]\n",
      "[1. 0. 0.] <-> [0.9043008  0.05474048 0.04095868]\n",
      "[1. 0. 0.] <-> [0.9251862  0.01681456 0.05799919]\n",
      "[1. 0. 0.] <-> [0.8787047  0.05649352 0.06480178]\n",
      "[0. 1. 0.] <-> [0.65860873 0.3181243  0.02326695]\n",
      "[0. 1. 0.] <-> [0.11150655 0.87744135 0.01105208]\n",
      "[0. 1. 0.] <-> [0.10186244 0.8885528  0.00958482]\n",
      "[1. 0. 0.] <-> [0.91026974 0.04577644 0.04395381]\n",
      "[1. 0. 0.] <-> [0.79025835 0.16143973 0.04830192]\n",
      "[0. 1. 0.] <-> [0.26151848 0.71674395 0.02173763]\n",
      "[1. 0. 0.] <-> [0.77009207 0.03963835 0.19026966]\n",
      "[0. 0. 1.] <-> [0.49658507 0.01460065 0.48881426]\n",
      "[1. 0. 0.] <-> [0.83817375 0.116523   0.04530327]\n",
      "[1. 0. 0.] <-> [0.8663966  0.08982277 0.04378068]\n",
      "[1. 0. 0.] <-> [0.9146098  0.05421628 0.03117393]\n",
      "[0. 0. 1.] <-> [0.8653014  0.01100325 0.12369537]\n",
      "[1. 0. 0.] <-> [0.9012833  0.03401299 0.06470369]\n",
      "[1. 0. 0.] <-> [0.90526646 0.04839086 0.0463427 ]\n",
      "[0. 1. 0.] <-> [0.10025952 0.89102703 0.00871343]\n",
      "[0. 0. 1.] <-> [0.2849997  0.00608819 0.70891213]\n",
      "[1. 0. 0.] <-> [0.88428783 0.01391921 0.10179292]\n",
      "[1. 0. 0.] <-> [0.8918938  0.06831065 0.03979563]\n",
      "[1. 0. 0.] <-> [0.5809263  0.38814178 0.03093192]\n",
      "[1. 0. 0.] <-> [0.72191215 0.24265067 0.03543724]\n",
      "[0. 1. 0.] <-> [0.1301242  0.8573534  0.01252241]\n",
      "[1. 0. 0.] <-> [0.9232519  0.03226432 0.04448371]\n",
      "[1. 0. 0.] <-> [0.90985507 0.01386107 0.07628385]\n",
      "[1. 0. 0.] <-> [0.92530113 0.03908872 0.03561018]\n",
      "[0. 0. 1.] <-> [0.4246553  0.00499293 0.5703518 ]\n",
      "[1. 0. 0.] <-> [0.87080437 0.05637508 0.07282057]\n",
      "[1. 0. 0.] <-> [0.8945365  0.06017068 0.04529278]\n",
      "[0. 0. 1.] <-> [0.69531196 0.01344984 0.2912382 ]\n",
      "[1. 0. 0.] <-> [0.8519425  0.03977716 0.10828037]\n",
      "[1. 0. 0.] <-> [0.8291711  0.1209015  0.04992737]\n",
      "[1. 0. 0.] <-> [0.91829586 0.04254263 0.03916145]\n",
      "[1. 0. 0.] <-> [0.88621014 0.06504645 0.0487434 ]\n",
      "[1. 0. 0.] <-> [0.89273477 0.06371614 0.04354903]\n",
      "[1. 0. 0.] <-> [0.83331674 0.11481551 0.05186772]\n",
      "[1. 0. 0.] <-> [0.88550764 0.02656741 0.0879249 ]\n",
      "[1. 0. 0.] <-> [0.6355576  0.33265206 0.03179025]\n",
      "[1. 0. 0.] <-> [0.7787903  0.02446882 0.1967409 ]\n",
      "[1. 0. 0.] <-> [0.9282319  0.02935368 0.04241439]\n",
      "[1. 0. 0.] <-> [0.92437154 0.02957765 0.04605086]\n",
      "[1. 0. 0.] <-> [0.9157845  0.01744661 0.0667689 ]\n",
      "[0. 0. 1.] <-> [0.47760573 0.0053241  0.5170702 ]\n",
      "[1. 0. 0.] <-> [0.81762516 0.09691753 0.08545727]\n",
      "[1. 0. 0.] <-> [0.91846097 0.01785818 0.06368086]\n",
      "[1. 0. 0.] <-> [0.8935359  0.04381074 0.0626533 ]\n",
      "[0. 0. 1.] <-> [0.6055398  0.02165909 0.37280107]\n",
      "[1. 0. 0.] <-> [0.8645105  0.0401822  0.09530728]\n",
      "[1. 0. 0.] <-> [0.9367531  0.02534012 0.03790682]\n",
      "[0. 1. 0.] <-> [0.35701326 0.6238853  0.01910148]\n",
      "[1. 0. 0.] <-> [0.91631377 0.04355914 0.04012708]\n",
      "[0. 1. 0.] <-> [0.6321481  0.33610097 0.03175097]\n",
      "[0. 0. 1.] <-> [0.0591568  0.01759009 0.9232532 ]\n",
      "[1. 0. 0.] <-> [0.92514795 0.02794086 0.04691117]\n",
      "[1. 0. 0.] <-> [0.74690485 0.21093802 0.04215704]\n",
      "[1. 0. 0.] <-> [0.91364723 0.02603413 0.06031867]\n",
      "[1. 0. 0.] <-> [0.8630962  0.07516484 0.06173903]\n",
      "[1. 0. 0.] <-> [0.86079895 0.06941497 0.06978606]\n",
      "[1. 0. 0.] <-> [0.8994007  0.06462886 0.03597046]\n",
      "[1. 0. 0.] <-> [0.6722876  0.20209108 0.12562135]\n",
      "[0. 0. 1.] <-> [0.12872411 0.00785531 0.8634206 ]\n",
      "[1. 0. 0.] <-> [0.76661766 0.15199965 0.08138271]\n",
      "[1. 0. 0.] <-> [0.8983698  0.01785002 0.08378021]\n",
      "[1. 0. 0.] <-> [0.68509585 0.27139232 0.0435119 ]\n",
      "[1. 0. 0.] <-> [0.9310119  0.0239576  0.04503054]\n",
      "[1. 0. 0.] <-> [0.8867665  0.0796043  0.03362921]\n",
      "[0. 0. 1.] <-> [0.62263924 0.00612504 0.37123573]\n",
      "[1. 0. 0.] <-> [0.9313645  0.02745516 0.04118039]\n",
      "[1. 0. 0.] <-> [0.76646835 0.18566984 0.04786192]\n",
      "[0. 1. 0.] <-> [0.45789722 0.5230979  0.0190049 ]\n",
      "[1. 0. 0.] <-> [0.8478505  0.03631553 0.11583394]\n",
      "[0. 0. 1.] <-> [0.44968122 0.0053605  0.5449583 ]\n",
      "[1. 0. 0.] <-> [0.89875555 0.04721714 0.05402728]\n",
      "[1. 0. 0.] <-> [0.87819076 0.01504739 0.10676183]\n",
      "[0. 1. 0.] <-> [0.42896223 0.55047023 0.02056751]\n",
      "[0. 1. 0.] <-> [0.09948073 0.89094347 0.00957574]\n",
      "[0. 0. 1.] <-> [0.05654594 0.01355602 0.929898  ]\n",
      "[0. 1. 0.] <-> [0.45450372 0.51261586 0.03288047]\n",
      "[1. 0. 0.] <-> [0.8857291  0.07865218 0.03561881]\n",
      "[0. 1. 0.] <-> [0.10137746 0.8898568  0.0087657 ]\n",
      "[1. 0. 0.] <-> [0.89834577 0.04174051 0.05991371]\n",
      "{'accuracy': 0.9444444444444444, 'mean_square_error': 0.14239674799793947, 'categorical_crossentropy': 0.2766720100685402, 'essential_metrics': {0: {'tp_hit': 78, 'fp_hit': 9, 'tn_hit': 21, 'fn_hit': 0}, 1: {'tp_hit': 13, 'fp_hit': 0, 'tn_hit': 92, 'fn_hit': 3}, 2: {'tp_hit': 8, 'fp_hit': 0, 'tn_hit': 94, 'fn_hit': 6}}}\n"
     ]
    }
   ],
   "source": [
    "# recall phase\n",
    "score = model.evaluate(x_test, y_test, False)\n",
    "print(score)"
   ]
  },
  {
   "cell_type": "code",
   "execution_count": 11,
   "metadata": {},
   "outputs": [
    {
     "data": {
      "image/png": "[encoded data removed]",
      "text/plain": [
       "<Figure size 864x360 with 1 Axes>"
      ]
     },
     "metadata": {
      "needs_background": "light"
     },
     "output_type": "display_data"
    },
    {
     "data": {
      "image/png": "[encoded data removed]",
      "text/plain": [
       "<Figure size 864x360 with 1 Axes>"
      ]
     },
     "metadata": {
      "needs_background": "light"
     },
     "output_type": "display_data"
    }
   ],
   "source": [
    "draw_plot(x = [[i for i in range(len(history))], [(i+1)*breakpoint for i in range(len(checkpoints))]], y_list = [history, [ ckp[model.loss_fn] for ckp in checkpoints ]], x_label = 'Epochs', \\\n",
    "    y_label = model.loss_fn, legend=['train', 'test'])\n",
    "acc = [ ckp['accuracy'] for ckp in checkpoints ]\n",
    "draw_plot(x = [[(i+1)*breakpoint for i in range(len(checkpoints))]], y_list = [acc], x_label = 'Checkpoints', \\\n",
    "    y_label = 'accuracy')"
   ]
  },
  {
   "cell_type": "code",
   "execution_count": 12,
   "metadata": {},
   "outputs": [
    {
     "name": "stdout",
     "output_type": "stream",
     "text": [
      "{'accuracy': 0.9012345679012346, 'mean_square_error': 0.20972455572043036, 'categorical_crossentropy': 0.3754879280372902, 'essential_metrics': {0: {'tp_hit': 78, 'fp_hit': 16, 'tn_hit': 14, 'fn_hit': 0}, 1: {'tp_hit': 9, 'fp_hit': 0, 'tn_hit': 92, 'fn_hit': 7}, 2: {'tp_hit': 5, 'fp_hit': 0, 'tn_hit': 94, 'fn_hit': 9}}, 'checkpoint': 100} \n",
      "\n",
      "\n",
      "{'accuracy': 0.9135802469135802, 'mean_square_error': 0.17517912372147468, 'categorical_crossentropy': 0.31897410640010126, 'essential_metrics': {0: {'tp_hit': 78, 'fp_hit': 14, 'tn_hit': 16, 'fn_hit': 0}, 1: {'tp_hit': 12, 'fp_hit': 0, 'tn_hit': 92, 'fn_hit': 4}, 2: {'tp_hit': 4, 'fp_hit': 0, 'tn_hit': 94, 'fn_hit': 10}}, 'checkpoint': 200} \n",
      "\n",
      "\n",
      "{'accuracy': 0.9382716049382716, 'mean_square_error': 0.14336029978990422, 'categorical_crossentropy': 0.2804671216894079, 'essential_metrics': {0: {'tp_hit': 78, 'fp_hit': 10, 'tn_hit': 20, 'fn_hit': 0}, 1: {'tp_hit': 12, 'fp_hit': 0, 'tn_hit': 92, 'fn_hit': 4}, 2: {'tp_hit': 8, 'fp_hit': 0, 'tn_hit': 94, 'fn_hit': 6}}, 'checkpoint': 300} \n",
      "\n",
      "\n",
      "{'accuracy': 0.9444444444444444, 'mean_square_error': 0.14239674799793947, 'categorical_crossentropy': 0.2766720100685402, 'essential_metrics': {0: {'tp_hit': 78, 'fp_hit': 9, 'tn_hit': 21, 'fn_hit': 0}, 1: {'tp_hit': 13, 'fp_hit': 0, 'tn_hit': 92, 'fn_hit': 3}, 2: {'tp_hit': 8, 'fp_hit': 0, 'tn_hit': 94, 'fn_hit': 6}}, 'checkpoint': 400} \n",
      "\n",
      "\n",
      "{'accuracy': 0.9444444444444444, 'mean_square_error': 0.14239674799793947, 'categorical_crossentropy': 0.2766720100685402, 'essential_metrics': {0: {'tp_hit': 78, 'fp_hit': 9, 'tn_hit': 21, 'fn_hit': 0}, 1: {'tp_hit': 13, 'fp_hit': 0, 'tn_hit': 92, 'fn_hit': 3}, 2: {'tp_hit': 8, 'fp_hit': 0, 'tn_hit': 94, 'fn_hit': 6}}, 'checkpoint': 500} \n",
      "\n",
      "\n"
     ]
    }
   ],
   "source": [
    "for checkpoint in checkpoints:\n",
    "    print(checkpoint, '\\n\\n')"
   ]
  },
  {
   "cell_type": "code",
   "execution_count": 13,
   "metadata": {},
   "outputs": [
    {
     "name": "stdout",
     "output_type": "stream",
     "text": [
      "Layer 1\n",
      "Neuron 0: weights:\n",
      "[ 0.8169996  -1.2885586  -1.1307467  -0.16504392  0.03284166]\n",
      " bias: 0.7250208854675293\n",
      "\n",
      "Neuron 1: weights:\n",
      "[ 0.17669226 -1.124781    0.28903532  0.7111564   0.8641507 ]\n",
      " bias: -1.0066497325897217\n",
      "\n",
      "Neuron 2: weights:\n",
      "[-0.4492412   1.0120254   0.19854197 -0.55211383 -1.002933  ]\n",
      " bias: 0.4737167954444885\n",
      "\n",
      "Neuron 3: weights:\n",
      "[ 0.65443605 -1.0158468  -1.1508542  -1.0341645  -0.74207723]\n",
      " bias: 0.23256650567054749\n",
      "\n",
      "$\n",
      "Layer 2\n",
      "Neuron 0: weights:\n",
      "[ 1.1113436  -1.4668142   0.46727934  1.8594288 ]\n",
      " bias: -0.32131099700927734\n",
      "\n",
      "Neuron 1: weights:\n",
      "[-1.9680799  -0.47815228  1.7572056  -1.47398   ]\n",
      " bias: 0.5729414224624634\n",
      "\n",
      "Neuron 2: weights:\n",
      "[ 0.63644445  1.9069804  -2.1207445  -0.30003944]\n",
      " bias: -0.1980048567056656\n",
      "\n",
      "$\n",
      "\n"
     ]
    }
   ],
   "source": [
    "print(model)"
   ]
  }
 ],
 "metadata": {
  "kernelspec": {
   "display_name": "Python 3",
   "language": "python",
   "name": "python3"
  },
  "language_info": {
   "codemirror_mode": {
    "name": "ipython",
    "version": 3
   },
   "file_extension": ".py",
   "mimetype": "text/x-python",
   "name": "python",
   "nbconvert_exporter": "python",
   "pygments_lexer": "ipython3",
   "version": "3.6.10"
  }
 },
 "nbformat": 4,
 "nbformat_minor": 2
}
