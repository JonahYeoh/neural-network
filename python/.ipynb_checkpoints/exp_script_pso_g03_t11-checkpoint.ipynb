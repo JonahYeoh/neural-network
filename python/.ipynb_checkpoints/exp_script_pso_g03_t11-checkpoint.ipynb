{
 "cells": [
  {
   "cell_type": "code",
   "execution_count": 1,
   "metadata": {},
   "outputs": [],
   "source": [
    "# dependency\n",
    "import numpy as np\n",
    "import pandas as pd\n",
    "import copy\n",
    "import math\n",
    "import sys\n",
    "import os\n",
    "from activations import relu, leaky_relu, sigmoid, tanh, softmax, d_sigmoid, d_relu\n",
    "from initializers import glorot_uniform, random_normal, random_uniform\n",
    "from regularizers import l1_regularizer, l2_regularizer\n",
    "from utility import trim_tail, multiply, subtract, get_nparams, one_hot_encoding, get_data\n",
    "from metrics import MSE, CCE, ACC, PRECISION, RECALL, essential_metrics, wondering_penalty, close_gap_penalty\n",
    "from pso import PSO\n",
    "from ga import GA\n",
    "from nn import Network\n",
    "from layer import DenseLayer\n",
    "from scalers import MinMaxScaler, StandardScaler"
   ]
  },
  {
   "cell_type": "code",
   "execution_count": 2,
   "metadata": {},
   "outputs": [],
   "source": [
    "# reference\n",
    "metrics_fn_dict = dict()\n",
    "metrics_fn_dict['accuracy'] = ACC\n",
    "metrics_fn_dict['categorical_crossentropy'] = CCE\n",
    "metrics_fn_dict['mean_square_error'] = MSE\n",
    "metrics_fn_dict['precision'] = PRECISION\n",
    "metrics_fn_dict['recall'] = RECALL\n",
    "metrics_fn_dict['essential_metrics'] = essential_metrics"
   ]
  },
  {
   "cell_type": "code",
   "execution_count": 3,
   "metadata": {},
   "outputs": [],
   "source": [
    "# model\n",
    "model = Network(5, lr = None)\n",
    "model.add_layer(DenseLayer(1, 4, True, afn=sigmoid, dafn=None, rfn=None))\n",
    "model.add_layer(DenseLayer(2, 3, True, afn=softmax, dafn=None, rfn=None))"
   ]
  },
  {
   "cell_type": "code",
   "execution_count": 4,
   "metadata": {},
   "outputs": [
    {
     "name": "stdout",
     "output_type": "stream",
     "text": [
      "see one see two 2.0 0.5\n"
     ]
    }
   ],
   "source": [
    "pso = PSO(dict(m = 50,\n",
    "    weight_constraint = [-3, 3], \n",
    "    velocity_constraint = [-0.1, 0.1],\n",
    "    c1 = [0.5, 2.0],\n",
    "    c2 = [0.5, 2.0],\n",
    "    w = [0.5, 1.6],\n",
    "    w_decay = 0.95,\n",
    "    scale_hyperparameter = False,\n",
    "    regularizer = l2_regularizer,\n",
    "    mask = True))"
   ]
  },
  {
   "cell_type": "code",
   "execution_count": 5,
   "metadata": {},
   "outputs": [
    {
     "name": "stdout",
     "output_type": "stream",
     "text": [
      "building layer 1 with 5\n",
      "24\n",
      "building layer 2 with 4\n",
      "15\n"
     ]
    }
   ],
   "source": [
    "model.compile(loss_fn = 'categorical_crossentropy', optimizer = pso, \\\n",
    "    metrics = ['accuracy', 'mean_square_error', 'categorical_crossentropy'])"
   ]
  },
  {
   "cell_type": "code",
   "execution_count": 6,
   "metadata": {},
   "outputs": [
    {
     "name": "stdout",
     "output_type": "stream",
     "text": [
      "<class 'pandas.core.frame.DataFrame'>\n",
      "RangeIndex: 107 entries, 0 to 106\n",
      "Data columns (total 6 columns):\n",
      " #   Column  Non-Null Count  Dtype  \n",
      "---  ------  --------------  -----  \n",
      " 0   f1      107 non-null    float32\n",
      " 1   f2      107 non-null    float32\n",
      " 2   f3      107 non-null    float32\n",
      " 3   f4      107 non-null    float32\n",
      " 4   f5      107 non-null    float32\n",
      " 5   label   107 non-null    float32\n",
      "dtypes: float32(6)\n",
      "memory usage: 2.6 KB\n",
      "None\n",
      "<class 'pandas.core.frame.DataFrame'>\n",
      "RangeIndex: 108 entries, 0 to 107\n",
      "Data columns (total 6 columns):\n",
      " #   Column  Non-Null Count  Dtype  \n",
      "---  ------  --------------  -----  \n",
      " 0   f1      108 non-null    float32\n",
      " 1   f2      108 non-null    float32\n",
      " 2   f3      108 non-null    float32\n",
      " 3   f4      108 non-null    float32\n",
      " 4   f5      108 non-null    float32\n",
      " 5   label   108 non-null    float32\n",
      "dtypes: float32(6)\n",
      "memory usage: 2.7 KB\n",
      "None\n"
     ]
    }
   ],
   "source": [
    "# data loading\n",
    "DATA = os.path.join('c:\\\\Users\\\\AI-lab\\\\github_repo\\\\neural-network\\\\', 'dataset')\n",
    "GROUP = 3\n",
    "COLUMNS = ['f1', 'f2', 'f3', 'f4', 'f5', 'label']\n",
    "N_CLASS = 3\n",
    "EPOCHS = 200\n",
    "train_dir, test_dir = \"..//dataset//training_data{}.txt\".format(GROUP), \"..//dataset//testing_data{}.txt\".format(GROUP)\n",
    "train, test = get_data(DATA, train_dir, COLUMNS), get_data(DATA, test_dir, COLUMNS)\n",
    "# shuffle\n",
    "train, test = train.sample(frac=1), test.sample(frac=1)\n",
    "x_train, y_train = train.drop('label', axis=1), train['label']\n",
    "x_test, y_test = test.drop('label', axis=1), test['label']"
   ]
  },
  {
   "cell_type": "code",
   "execution_count": 7,
   "metadata": {},
   "outputs": [],
   "source": [
    "# data scaling and encoding\n",
    "scaler = StandardScaler(['f1', 'f2', 'f3', 'f4', 'f5'])\n",
    "scaler.fit(x_train)\n",
    "x_train = scaler.transform(x_train)\n",
    "x_test = scaler.transform(x_test)\n",
    "y_train = one_hot_encoding(y_train, N_CLASS)\n",
    "y_test = one_hot_encoding(y_test, N_CLASS)"
   ]
  },
  {
   "cell_type": "code",
   "execution_count": 8,
   "metadata": {
    "tags": [
     "outputPrepend"
    ]
   },
   "outputs": [
    {
     "name": "stdout",
     "output_type": "stream",
     "text": [
      "Checkpoint 10, Accuracy: 0.8703703703703703, Loss: 0.7240276336669922\n",
      "Checkpoint 20, Accuracy: 0.8024691358024691, Loss: 0.8009295993381076\n",
      "Checkpoint 30, Accuracy: 0.8271604938271605, Loss: 0.7588450820357712\n",
      "Checkpoint 40, Accuracy: 0.8703703703703703, Loss: 0.6498647619176794\n",
      "Checkpoint 50, Accuracy: 0.8148148148148148, Loss: 0.6038375430636935\n",
      "Checkpoint 60, Accuracy: 0.8518518518518519, Loss: 0.6344617207845052\n",
      "Checkpoint 70, Accuracy: 0.845679012345679, Loss: 0.5560789461489077\n",
      "Checkpoint 80, Accuracy: 0.8703703703703703, Loss: 0.5333241003530996\n",
      "Checkpoint 90, Accuracy: 0.8950617283950617, Loss: 0.4483155851010923\n",
      "Checkpoint 100, Accuracy: 0.8888888888888888, Loss: 0.4231190151638455\n",
      "Checkpoint 110, Accuracy: 0.9012345679012346, Loss: 0.3814543264883536\n",
      "Checkpoint 120, Accuracy: 0.9012345679012346, Loss: 0.3814543264883536\n",
      "Checkpoint 130, Accuracy: 0.8950617283950617, Loss: 0.39555143426965783\n",
      "Checkpoint 140, Accuracy: 0.9012345679012346, Loss: 0.3819137149386936\n",
      "Checkpoint 150, Accuracy: 0.9012345679012346, Loss: 0.3896074648256655\n",
      "Checkpoint 160, Accuracy: 0.8950617283950617, Loss: 0.41193068469012223\n",
      "Checkpoint 170, Accuracy: 0.8950617283950617, Loss: 0.4059643568816008\n",
      "Checkpoint 180, Accuracy: 0.8950617283950617, Loss: 0.4059643568816008\n",
      "Checkpoint 190, Accuracy: 0.8950617283950617, Loss: 0.40527817055031107\n",
      "Checkpoint 200, Accuracy: 0.8950617283950617, Loss: 0.40527817055031107\n"
     ]
    }
   ],
   "source": [
    "# learning phase\n",
    "breakpoint = 10\n",
    "checkpoints = list()\n",
    "history = list()\n",
    "for century in range(0, EPOCHS, breakpoint):\n",
    "    sub_history = model.fit(x_train, y_train, breakpoint, verbose = 0)\n",
    "    score = model.evaluate(x_test, y_test, False, verbose = 0)\n",
    "    print('Checkpoint {}, Accuracy: {}, Loss: {}'.format(century+breakpoint, score['accuracy'], score[model.loss_fn]))\n",
    "    score['checkpoint'] = century + breakpoint\n",
    "    checkpoints.append(score)\n",
    "    history.extend(sub_history)\n",
    "    itr = century + breakpoint\n",
    "    model.optimizer.c1 = np.max([model.optimizer.C1[1] - ((model.optimizer.C1[1] - model.optimizer.C1[0]) * itr / EPOCHS), model.optimizer.C1[0]])\n",
    "    model.optimizer.c2 = np.min([model.optimizer.C2[0] + ((model.optimizer.C2[1] - model.optimizer.C2[0]) * itr / EPOCHS), model.optimizer.C2[1]])\n",
    "    model.optimizer.w = np.max([model.optimizer.w * model.optimizer.W_Decay, model.optimizer.W[0]])"
   ]
  },
  {
   "cell_type": "code",
   "execution_count": 9,
   "metadata": {},
   "outputs": [],
   "source": [
    "import matplotlib.pyplot as plt\n",
    "\n",
    "def draw_plot(x, y_list, x_label=None, y_label=None, legend=None, title=None):\n",
    "    fig, ax = plt.subplots(figsize=(12,5))\n",
    "    for xi, yi in zip(x, y_list):\n",
    "        ax.plot(xi, yi)\n",
    "    if x_label is not None and y_label is not None:\n",
    "        ax.set(xlabel=x_label, ylabel=y_label, title='{} VS {}'.format(x_label, y_label))\n",
    "    if legend is not None:\n",
    "        ax.legend(legend)\n",
    "    ax.grid()\n",
    "    plt.show()"
   ]
  },
  {
   "cell_type": "code",
   "execution_count": 10,
   "metadata": {},
   "outputs": [],
   "source": [
    "train_acc = [h['accuracy'] for h in history]\n",
    "train_mse = [h['mean_square_error'] for h in history]\n",
    "train_cce = [h['categorical_crossentropy'] for h in history]"
   ]
  },
  {
   "cell_type": "code",
   "execution_count": 11,
   "metadata": {},
   "outputs": [
    {
     "data": {
      "image/png": "[encoded data removed]",
      "text/plain": [
       "<Figure size 864x360 with 1 Axes>"
      ]
     },
     "metadata": {
      "needs_background": "light"
     },
     "output_type": "display_data"
    },
    {
     "data": {
      "image/png": "[encoded data removed]",
      "text/plain": [
       "<Figure size 864x360 with 1 Axes>"
      ]
     },
     "metadata": {
      "needs_background": "light"
     },
     "output_type": "display_data"
    }
   ],
   "source": [
    "draw_plot(x = [[i for i in range(len(history))], [(i+1)*breakpoint for i in range(len(checkpoints))]], y_list = [train_cce, [ ckp[model.loss_fn] for ckp in checkpoints ]], x_label = 'Epochs', \\\n",
    "    y_label = model.loss_fn, legend=['train', 'test'])\n",
    "acc = [ ckp['accuracy'] for ckp in checkpoints ]\n",
    "draw_plot(x = [[i for i in range(len(history))], [(i+1)*breakpoint for i in range(len(checkpoints))]], y_list = [train_acc, acc], x_label = 'Checkpoints', \\\n",
    "    y_label = 'accuracy', legend=['train', 'test'])"
   ]
  },
  {
   "cell_type": "code",
   "execution_count": 12,
   "metadata": {},
   "outputs": [
    {
     "name": "stdout",
     "output_type": "stream",
     "text": [
      "[1. 0. 0.] <-> [0.7885526  0.0599744  0.15147296]\n",
      "[0. 0. 1.] <-> [0.8940737  0.02457031 0.08135602]\n",
      "[1. 0. 0.] <-> [0.78901905 0.13342191 0.07755902]\n",
      "[0. 0. 1.] <-> [0.47081444 0.0410608  0.4881248 ]\n",
      "[0. 1. 0.] <-> [0.5665066  0.38671094 0.04678242]\n",
      "[1. 0. 0.] <-> [0.87088823 0.03520588 0.09390589]\n",
      "[1. 0. 0.] <-> [0.6969578  0.23638867 0.06665353]\n",
      "[1. 0. 0.] <-> [0.9024384  0.03461405 0.06294751]\n",
      "[1. 0. 0.] <-> [0.89254534 0.05116905 0.0562857 ]\n",
      "[1. 0. 0.] <-> [0.60766214 0.32744804 0.0648898 ]\n",
      "[1. 0. 0.] <-> [0.81419516 0.10180905 0.0839958 ]\n",
      "[1. 0. 0.] <-> [0.7574525  0.17859173 0.06395586]\n",
      "[1. 0. 0.] <-> [0.8181142  0.10680825 0.07507746]\n",
      "[1. 0. 0.] <-> [0.8052593  0.12795544 0.06678532]\n",
      "[1. 0. 0.] <-> [0.7209879  0.17697415 0.10203796]\n",
      "[0. 1. 0.] <-> [0.21954006 0.73300385 0.0474561 ]\n",
      "[1. 0. 0.] <-> [0.7166092  0.22610092 0.05728986]\n",
      "[1. 0. 0.] <-> [0.6694455  0.2691209  0.06143365]\n",
      "[0. 1. 0.] <-> [0.5476839  0.40104827 0.05126782]\n",
      "[1. 0. 0.] <-> [0.8814679  0.05650138 0.06203075]\n",
      "[1. 0. 0.] <-> [0.7536868  0.14027928 0.10603388]\n",
      "[1. 0. 0.] <-> [0.85562176 0.06731917 0.07705914]\n",
      "[1. 0. 0.] <-> [0.78469986 0.13922583 0.07607427]\n",
      "[1. 0. 0.] <-> [0.8664057  0.04376097 0.08983331]\n",
      "[0. 1. 0.] <-> [0.15149571 0.8073908  0.0411135 ]\n",
      "[1. 0. 0.] <-> [0.8041804  0.111771   0.08404854]\n",
      "[1. 0. 0.] <-> [0.73731214 0.18432692 0.07836097]\n",
      "[1. 0. 0.] <-> [0.67763317 0.07600506 0.2463617 ]\n",
      "[1. 0. 0.] <-> [0.87136155 0.05198331 0.07665516]\n",
      "[1. 0. 0.] <-> [0.8789195  0.05434866 0.06673188]\n",
      "[1. 0. 0.] <-> [0.8450636  0.08519312 0.0697432 ]\n",
      "[1. 0. 0.] <-> [0.82158047 0.07449317 0.10392632]\n",
      "[1. 0. 0.] <-> [0.7183364  0.20251064 0.07915299]\n",
      "[0. 1. 0.] <-> [0.15639238 0.8027495  0.0408581 ]\n",
      "[1. 0. 0.] <-> [0.8948846  0.03161252 0.07350288]\n",
      "[0. 1. 0.] <-> [0.44452125 0.49439624 0.06108249]\n",
      "[0. 0. 1.] <-> [0.7947923  0.02006797 0.18513969]\n",
      "[0. 1. 0.] <-> [0.17743659 0.77913755 0.04342585]\n",
      "[1. 0. 0.] <-> [0.8348623  0.09633347 0.06880429]\n",
      "[1. 0. 0.] <-> [0.84804255 0.0578392  0.09411819]\n",
      "[0. 1. 0.] <-> [0.6545387  0.28121522 0.06424607]\n",
      "[1. 0. 0.] <-> [0.8865222  0.03958889 0.07388891]\n",
      "[1. 0. 0.] <-> [0.6585445  0.20650883 0.13494673]\n",
      "[1. 0. 0.] <-> [0.7740839  0.15254252 0.07337356]\n",
      "[1. 0. 0.] <-> [0.8373738  0.10183954 0.06078669]\n",
      "[0. 0. 1.] <-> [0.2903629  0.05762778 0.6520093 ]\n",
      "[1. 0. 0.] <-> [0.874041   0.06222341 0.06373561]\n",
      "[1. 0. 0.] <-> [0.8985001  0.03716188 0.06433803]\n",
      "[0. 1. 0.] <-> [0.29510516 0.65223974 0.05265517]\n",
      "[1. 0. 0.] <-> [0.86546046 0.0568321  0.0777074 ]\n",
      "[1. 0. 0.] <-> [0.83962417 0.0928573  0.06751854]\n",
      "[1. 0. 0.] <-> [0.81674737 0.11004496 0.07320775]\n",
      "[1. 0. 0.] <-> [0.81816125 0.12094031 0.06089842]\n",
      "[1. 0. 0.] <-> [0.8269795  0.10903634 0.06398413]\n",
      "[1. 0. 0.] <-> [0.84329855 0.06319062 0.09351079]\n",
      "[0. 1. 0.] <-> [0.26343945 0.6854342  0.05112633]\n",
      "[0. 0. 1.] <-> [0.6969008  0.06553804 0.23756117]\n",
      "[1. 0. 0.] <-> [0.84614336 0.07780659 0.07605001]\n",
      "[1. 0. 0.] <-> [0.83577263 0.08620416 0.07802324]\n",
      "[1. 0. 0.] <-> [0.8086594  0.11949789 0.07184271]\n",
      "[1. 0. 0.] <-> [0.68669885 0.24000286 0.07329831]\n",
      "[1. 0. 0.] <-> [0.82181513 0.11564635 0.06253858]\n",
      "[1. 0. 0.] <-> [0.7854299  0.12905452 0.08551562]\n",
      "[0. 1. 0.] <-> [0.49749663 0.45087746 0.05162591]\n",
      "[1. 0. 0.] <-> [0.8561434  0.07998157 0.06387497]\n",
      "[1. 0. 0.] <-> [0.8774947  0.05941453 0.06309075]\n",
      "[0. 1. 0.] <-> [0.6129852  0.3353819  0.05163286]\n",
      "[1. 0. 0.] <-> [0.8289698  0.0844721  0.08655813]\n",
      "[1. 0. 0.] <-> [0.85498846 0.08068006 0.06433149]\n",
      "[1. 0. 0.] <-> [0.778689   0.15362543 0.06768554]\n",
      "[1. 0. 0.] <-> [0.7818724  0.08559834 0.13252926]\n",
      "[0. 1. 0.] <-> [0.16143689 0.79547536 0.04308781]\n",
      "[1. 0. 0.] <-> [0.8558319  0.08674295 0.05742517]\n",
      "[1. 0. 0.] <-> [0.8719364  0.06099739 0.06706623]\n",
      "[1. 0. 0.] <-> [0.7291222  0.20133202 0.06954583]\n",
      "[1. 0. 0.] <-> [0.8137384  0.09542836 0.09083327]\n",
      "[1. 0. 0.] <-> [0.8874364  0.04002402 0.07253958]\n",
      "[0. 1. 0.] <-> [0.6678059  0.28148502 0.05070902]\n",
      "[1. 0. 0.] <-> [0.8338385  0.11198979 0.05417172]\n",
      "[1. 0. 0.] <-> [0.8739628  0.06328782 0.06274935]\n",
      "[1. 0. 0.] <-> [0.8167671  0.07881629 0.10441665]\n",
      "[1. 0. 0.] <-> [0.7640851  0.15323524 0.08267958]\n",
      "[0. 0. 1.] <-> [0.677677   0.02553547 0.29678756]\n",
      "[1. 0. 0.] <-> [0.8122505  0.09928095 0.08846855]\n",
      "[0. 0. 1.] <-> [0.18052416 0.10287757 0.7165983 ]\n",
      "[0. 0. 1.] <-> [0.8426978  0.04870356 0.10859862]\n",
      "[0. 1. 0.] <-> [0.17225122 0.7866681  0.0410806 ]\n",
      "[0. 0. 1.] <-> [0.621838   0.02523725 0.35292473]\n",
      "[0. 1. 0.] <-> [0.5728486  0.35887676 0.06827459]\n",
      "[1. 0. 0.] <-> [0.8458829  0.07007598 0.08404119]\n",
      "[1. 0. 0.] <-> [0.7982952  0.07898459 0.12272026]\n",
      "[1. 0. 0.] <-> [0.84013253 0.09325858 0.06660892]\n",
      "[1. 0. 0.] <-> [0.8899078  0.03971862 0.07037362]\n",
      "[1. 0. 0.] <-> [0.81254506 0.12407929 0.06337567]\n",
      "[1. 0. 0.] <-> [0.77223605 0.07998722 0.14777674]\n",
      "[0. 0. 1.] <-> [0.17277023 0.09405841 0.73317134]\n",
      "[1. 0. 0.] <-> [0.8297756  0.08446259 0.08576182]\n",
      "[1. 0. 0.] <-> [0.8797076  0.0533395  0.06695298]\n",
      "[1. 0. 0.] <-> [0.7072564  0.21747148 0.07527211]\n",
      "[0. 0. 1.] <-> [0.7033149  0.02342559 0.27325943]\n",
      "[1. 0. 0.] <-> [0.77004004 0.15247709 0.07748293]\n",
      "[1. 0. 0.] <-> [0.8439553  0.08541252 0.07063223]\n",
      "[0. 0. 1.] <-> [0.7561917  0.04406971 0.1997387 ]\n",
      "[1. 0. 0.] <-> [0.8563127  0.07953869 0.0641486 ]\n",
      "[1. 0. 0.] <-> [0.8838089  0.03337011 0.08282094]\n",
      "[0. 0. 1.] <-> [0.6132991  0.05783797 0.32886288]\n",
      "[1. 0. 0.] <-> [0.8256729  0.10951979 0.06480727]\n",
      "[0. 0. 1.] <-> [0.67383087 0.02413502 0.3020341 ]\n",
      "{'accuracy': 0.8950617283950617, 'mean_square_error': 0.21926633496417736, 'categorical_crossentropy': 0.40527817055031107, 'essential_metrics': {0: {'tp_hit': 78, 'fp_hit': 17, 'tn_hit': 13, 'fn_hit': 0}, 1: {'tp_hit': 9, 'fp_hit': 0, 'tn_hit': 92, 'fn_hit': 7}, 2: {'tp_hit': 4, 'fp_hit': 0, 'tn_hit': 94, 'fn_hit': 10}}}\n"
     ]
    }
   ],
   "source": [
    "# recall phase\n",
    "score = model.evaluate(x_test, y_test, False)\n",
    "print(score)"
   ]
  },
  {
   "cell_type": "code",
   "execution_count": 13,
   "metadata": {},
   "outputs": [
    {
     "name": "stdout",
     "output_type": "stream",
     "text": [
      "{'accuracy': 0.8703703703703703, 'mean_square_error': 0.3938849180636476, 'categorical_crossentropy': 0.7240276336669922, 'essential_metrics': {0: {'tp_hit': 75, 'fp_hit': 16, 'tn_hit': 14, 'fn_hit': 3}, 1: {'tp_hit': 12, 'fp_hit': 5, 'tn_hit': 87, 'fn_hit': 4}, 2: {'tp_hit': 0, 'fp_hit': 0, 'tn_hit': 94, 'fn_hit': 14}}, 'checkpoint': 10} \n",
      "\n",
      "\n",
      "{'accuracy': 0.8024691358024691, 'mean_square_error': 0.44808141632494725, 'categorical_crossentropy': 0.8009295993381076, 'essential_metrics': {0: {'tp_hit': 76, 'fp_hit': 27, 'tn_hit': 3, 'fn_hit': 2}, 1: {'tp_hit': 0, 'fp_hit': 5, 'tn_hit': 87, 'fn_hit': 16}, 2: {'tp_hit': 0, 'fp_hit': 0, 'tn_hit': 94, 'fn_hit': 14}}, 'checkpoint': 20} \n",
      "\n",
      "\n",
      "{'accuracy': 0.8271604938271605, 'mean_square_error': 0.42814164383549264, 'categorical_crossentropy': 0.7588450820357712, 'essential_metrics': {0: {'tp_hit': 78, 'fp_hit': 28, 'tn_hit': 2, 'fn_hit': 0}, 1: {'tp_hit': 2, 'fp_hit': 0, 'tn_hit': 92, 'fn_hit': 14}, 2: {'tp_hit': 0, 'fp_hit': 0, 'tn_hit': 94, 'fn_hit': 14}}, 'checkpoint': 30} \n",
      "\n",
      "\n",
      "{'accuracy': 0.8703703703703703, 'mean_square_error': 0.3511817631053813, 'categorical_crossentropy': 0.6498647619176794, 'essential_metrics': {0: {'tp_hit': 78, 'fp_hit': 21, 'tn_hit': 9, 'fn_hit': 0}, 1: {'tp_hit': 7, 'fp_hit': 0, 'tn_hit': 92, 'fn_hit': 9}, 2: {'tp_hit': 2, 'fp_hit': 0, 'tn_hit': 94, 'fn_hit': 12}}, 'checkpoint': 40} \n",
      "\n",
      "\n",
      "{'accuracy': 0.8148148148148148, 'mean_square_error': 0.35348467731866484, 'categorical_crossentropy': 0.6038375430636935, 'essential_metrics': {0: {'tp_hit': 78, 'fp_hit': 30, 'tn_hit': 0, 'fn_hit': 0}, 1: {'tp_hit': 0, 'fp_hit': 0, 'tn_hit': 92, 'fn_hit': 16}, 2: {'tp_hit': 0, 'fp_hit': 0, 'tn_hit': 94, 'fn_hit': 14}}, 'checkpoint': 50} \n",
      "\n",
      "\n",
      "{'accuracy': 0.8518518518518519, 'mean_square_error': 0.34550291069646993, 'categorical_crossentropy': 0.6344617207845052, 'essential_metrics': {0: {'tp_hit': 78, 'fp_hit': 24, 'tn_hit': 6, 'fn_hit': 0}, 1: {'tp_hit': 4, 'fp_hit': 0, 'tn_hit': 92, 'fn_hit': 12}, 2: {'tp_hit': 2, 'fp_hit': 0, 'tn_hit': 94, 'fn_hit': 12}}, 'checkpoint': 60} \n",
      "\n",
      "\n",
      "{'accuracy': 0.845679012345679, 'mean_square_error': 0.3135812269724937, 'categorical_crossentropy': 0.5560789461489077, 'essential_metrics': {0: {'tp_hit': 78, 'fp_hit': 25, 'tn_hit': 5, 'fn_hit': 0}, 1: {'tp_hit': 5, 'fp_hit': 0, 'tn_hit': 92, 'fn_hit': 11}, 2: {'tp_hit': 0, 'fp_hit': 0, 'tn_hit': 94, 'fn_hit': 14}}, 'checkpoint': 70} \n",
      "\n",
      "\n",
      "{'accuracy': 0.8703703703703703, 'mean_square_error': 0.28783343481072576, 'categorical_crossentropy': 0.5333241003530996, 'essential_metrics': {0: {'tp_hit': 78, 'fp_hit': 21, 'tn_hit': 9, 'fn_hit': 0}, 1: {'tp_hit': 7, 'fp_hit': 0, 'tn_hit': 92, 'fn_hit': 9}, 2: {'tp_hit': 2, 'fp_hit': 0, 'tn_hit': 94, 'fn_hit': 12}}, 'checkpoint': 80} \n",
      "\n",
      "\n",
      "{'accuracy': 0.8950617283950617, 'mean_square_error': 0.22968846211616342, 'categorical_crossentropy': 0.4483155851010923, 'essential_metrics': {0: {'tp_hit': 78, 'fp_hit': 17, 'tn_hit': 13, 'fn_hit': 0}, 1: {'tp_hit': 9, 'fp_hit': 0, 'tn_hit': 92, 'fn_hit': 7}, 2: {'tp_hit': 4, 'fp_hit': 0, 'tn_hit': 94, 'fn_hit': 10}}, 'checkpoint': 90} \n",
      "\n",
      "\n",
      "{'accuracy': 0.8888888888888888, 'mean_square_error': 0.21961387979147892, 'categorical_crossentropy': 0.4231190151638455, 'essential_metrics': {0: {'tp_hit': 78, 'fp_hit': 18, 'tn_hit': 12, 'fn_hit': 0}, 1: {'tp_hit': 8, 'fp_hit': 0, 'tn_hit': 92, 'fn_hit': 8}, 2: {'tp_hit': 4, 'fp_hit': 0, 'tn_hit': 94, 'fn_hit': 10}}, 'checkpoint': 100} \n",
      "\n",
      "\n",
      "{'accuracy': 0.9012345679012346, 'mean_square_error': 0.20189264659888562, 'categorical_crossentropy': 0.3814543264883536, 'essential_metrics': {0: {'tp_hit': 78, 'fp_hit': 16, 'tn_hit': 14, 'fn_hit': 0}, 1: {'tp_hit': 10, 'fp_hit': 0, 'tn_hit': 92, 'fn_hit': 6}, 2: {'tp_hit': 4, 'fp_hit': 0, 'tn_hit': 94, 'fn_hit': 10}}, 'checkpoint': 110} \n",
      "\n",
      "\n",
      "{'accuracy': 0.9012345679012346, 'mean_square_error': 0.20189264659888562, 'categorical_crossentropy': 0.3814543264883536, 'essential_metrics': {0: {'tp_hit': 78, 'fp_hit': 16, 'tn_hit': 14, 'fn_hit': 0}, 1: {'tp_hit': 10, 'fp_hit': 0, 'tn_hit': 92, 'fn_hit': 6}, 2: {'tp_hit': 4, 'fp_hit': 0, 'tn_hit': 94, 'fn_hit': 10}}, 'checkpoint': 120} \n",
      "\n",
      "\n",
      "{'accuracy': 0.8950617283950617, 'mean_square_error': 0.2094262931709839, 'categorical_crossentropy': 0.39555143426965783, 'essential_metrics': {0: {'tp_hit': 78, 'fp_hit': 17, 'tn_hit': 13, 'fn_hit': 0}, 1: {'tp_hit': 9, 'fp_hit': 0, 'tn_hit': 92, 'fn_hit': 7}, 2: {'tp_hit': 4, 'fp_hit': 0, 'tn_hit': 94, 'fn_hit': 10}}, 'checkpoint': 130} \n",
      "\n",
      "\n",
      "{'accuracy': 0.9012345679012346, 'mean_square_error': 0.20179279562099459, 'categorical_crossentropy': 0.3819137149386936, 'essential_metrics': {0: {'tp_hit': 78, 'fp_hit': 16, 'tn_hit': 14, 'fn_hit': 0}, 1: {'tp_hit': 10, 'fp_hit': 0, 'tn_hit': 92, 'fn_hit': 6}, 2: {'tp_hit': 4, 'fp_hit': 0, 'tn_hit': 94, 'fn_hit': 10}}, 'checkpoint': 140} \n",
      "\n",
      "\n",
      "{'accuracy': 0.9012345679012346, 'mean_square_error': 0.21063129043160872, 'categorical_crossentropy': 0.3896074648256655, 'essential_metrics': {0: {'tp_hit': 78, 'fp_hit': 16, 'tn_hit': 14, 'fn_hit': 0}, 1: {'tp_hit': 10, 'fp_hit': 0, 'tn_hit': 92, 'fn_hit': 6}, 2: {'tp_hit': 4, 'fp_hit': 0, 'tn_hit': 94, 'fn_hit': 10}}, 'checkpoint': 150} \n",
      "\n",
      "\n",
      "{'accuracy': 0.8950617283950617, 'mean_square_error': 0.224560427201985, 'categorical_crossentropy': 0.41193068469012223, 'essential_metrics': {0: {'tp_hit': 78, 'fp_hit': 17, 'tn_hit': 13, 'fn_hit': 0}, 1: {'tp_hit': 10, 'fp_hit': 0, 'tn_hit': 92, 'fn_hit': 6}, 2: {'tp_hit': 3, 'fp_hit': 0, 'tn_hit': 94, 'fn_hit': 11}}, 'checkpoint': 160} \n",
      "\n",
      "\n",
      "{'accuracy': 0.8950617283950617, 'mean_square_error': 0.217091430705571, 'categorical_crossentropy': 0.4059643568816008, 'essential_metrics': {0: {'tp_hit': 78, 'fp_hit': 17, 'tn_hit': 13, 'fn_hit': 0}, 1: {'tp_hit': 10, 'fp_hit': 0, 'tn_hit': 92, 'fn_hit': 6}, 2: {'tp_hit': 3, 'fp_hit': 0, 'tn_hit': 94, 'fn_hit': 11}}, 'checkpoint': 170} \n",
      "\n",
      "\n",
      "{'accuracy': 0.8950617283950617, 'mean_square_error': 0.217091430705571, 'categorical_crossentropy': 0.4059643568816008, 'essential_metrics': {0: {'tp_hit': 78, 'fp_hit': 17, 'tn_hit': 13, 'fn_hit': 0}, 1: {'tp_hit': 10, 'fp_hit': 0, 'tn_hit': 92, 'fn_hit': 6}, 2: {'tp_hit': 3, 'fp_hit': 0, 'tn_hit': 94, 'fn_hit': 11}}, 'checkpoint': 180} \n",
      "\n",
      "\n",
      "{'accuracy': 0.8950617283950617, 'mean_square_error': 0.21926633496417736, 'categorical_crossentropy': 0.40527817055031107, 'essential_metrics': {0: {'tp_hit': 78, 'fp_hit': 17, 'tn_hit': 13, 'fn_hit': 0}, 1: {'tp_hit': 9, 'fp_hit': 0, 'tn_hit': 92, 'fn_hit': 7}, 2: {'tp_hit': 4, 'fp_hit': 0, 'tn_hit': 94, 'fn_hit': 10}}, 'checkpoint': 190} \n",
      "\n",
      "\n",
      "{'accuracy': 0.8950617283950617, 'mean_square_error': 0.21926633496417736, 'categorical_crossentropy': 0.40527817055031107, 'essential_metrics': {0: {'tp_hit': 78, 'fp_hit': 17, 'tn_hit': 13, 'fn_hit': 0}, 1: {'tp_hit': 9, 'fp_hit': 0, 'tn_hit': 92, 'fn_hit': 7}, 2: {'tp_hit': 4, 'fp_hit': 0, 'tn_hit': 94, 'fn_hit': 10}}, 'checkpoint': 200} \n",
      "\n",
      "\n"
     ]
    }
   ],
   "source": [
    "for checkpoint in checkpoints:\n",
    "    print(checkpoint, '\\n\\n')"
   ]
  },
  {
   "cell_type": "code",
   "execution_count": 14,
   "metadata": {},
   "outputs": [
    {
     "name": "stdout",
     "output_type": "stream",
     "text": [
      "Layer 1\n",
      "Neuron 0: weights:\n",
      "[ 0.5406068  -0.84897435 -0.64271724 -0.5453879  -0.5867714 ]\n",
      " bias: 0.20141081511974335\n",
      "\n",
      "Neuron 1: weights:\n",
      "[ 0.5696455  -1.2171441  -0.5624877  -0.00123223  0.39650288]\n",
      " bias: 0.2710283398628235\n",
      "\n",
      "Neuron 2: weights:\n",
      "[-0.30315977  0.7812131   0.02212977 -0.82136333 -1.017163  ]\n",
      " bias: 0.7968225479125977\n",
      "\n",
      "Neuron 3: weights:\n",
      "[-0.27533433  0.2997651   0.75449914  1.0049413   0.51091653]\n",
      " bias: 0.06254410743713379\n",
      "\n",
      "$\n",
      "Layer 2\n",
      "Neuron 0: weights:\n",
      "[ 1.2101222  0.7851634  1.1265395 -1.1819466]\n",
      " bias: 0.049130793660879135\n",
      "\n",
      "Neuron 1: weights:\n",
      "[-0.8689653  -1.5329194   0.65137833  0.7515244 ]\n",
      " bias: 0.31309774518013\n",
      "\n",
      "Neuron 2: weights:\n",
      "[ 0.02428541  0.89173037 -1.840426    0.51674247]\n",
      " bias: 0.03122709132730961\n",
      "\n",
      "$\n",
      "\n"
     ]
    }
   ],
   "source": [
    "print(model)"
   ]
  }
 ],
 "metadata": {
  "kernelspec": {
   "display_name": "Python 3",
   "language": "python",
   "name": "python3"
  },
  "language_info": {
   "codemirror_mode": {
    "name": "ipython",
    "version": 3
   },
   "file_extension": ".py",
   "mimetype": "text/x-python",
   "name": "python",
   "nbconvert_exporter": "python",
   "pygments_lexer": "ipython3",
   "version": "3.6.12"
  }
 },
 "nbformat": 4,
 "nbformat_minor": 2
}
