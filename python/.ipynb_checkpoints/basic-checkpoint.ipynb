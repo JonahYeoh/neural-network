{
 "cells": [
  {
   "cell_type": "code",
   "execution_count": null,
   "metadata": {},
   "outputs": [],
   "source": [
    "class Network:\n",
    "    def __init__(self):\n",
    "        pass\n",
    "    \n",
    "    def add_layer(self, units):\n",
    "        pass\n",
    "    \n",
    "    def predict(self, x):\n",
    "        pass\n",
    "    \n",
    "    def evaluate(self, x, y):\n",
    "        pass\n",
    "    \n",
    "    def metrics(self, y, yhat):\n",
    "        pass\n",
    "    \n",
    "    def fit(self, x, y):\n",
    "        pass"
   ]
  },
  {
   "cell_type": "code",
   "execution_count": 3,
   "metadata": {},
   "outputs": [
    {
     "name": "stdout",
     "output_type": "stream",
     "text": [
      "32\n"
     ]
    }
   ],
   "source": [
    "in_size = 3\n",
    "units = 8\n",
    "\n",
    "n_weights = in_size * units + units\n",
    "print(n_weights)"
   ]
  },
  {
   "cell_type": "code",
   "execution_count": 5,
   "metadata": {},
   "outputs": [
    {
     "name": "stdout",
     "output_type": "stream",
     "text": [
      "[-0.14030945  0.40390173 -0.73526444 -0.71673646 -0.80406228 -0.27342759\n",
      "  0.67957979  0.15100122 -0.92037022 -0.13828581 -0.07563049  0.62981199\n",
      " -0.92150503 -0.84756725 -0.23889943  0.26613983  0.3238023   0.34153033\n",
      "  0.50906002 -0.30979535 -0.79606679 -0.59542173 -0.62766416  0.87280361\n",
      "  0.16980935  0.62213459  0.84356266  0.87886772 -0.52764573 -0.86949001\n",
      " -0.16638299  0.69084577]\n",
      "[[-0.14030945  0.40390173 -0.73526444 -0.71673646]\n",
      " [-0.80406228 -0.27342759  0.67957979  0.15100122]\n",
      " [-0.92037022 -0.13828581 -0.07563049  0.62981199]\n",
      " [-0.92150503 -0.84756725 -0.23889943  0.26613983]\n",
      " [ 0.3238023   0.34153033  0.50906002 -0.30979535]\n",
      " [-0.79606679 -0.59542173 -0.62766416  0.87280361]\n",
      " [ 0.16980935  0.62213459  0.84356266  0.87886772]\n",
      " [-0.52764573 -0.86949001 -0.16638299  0.69084577]]\n"
     ]
    }
   ],
   "source": [
    "import numpy as np\n",
    "# 8 * 4\n",
    "\n",
    "seq = np.random.uniform(-1, 1, n_weights)\n",
    "print(seq)\n",
    "seq = np.reshape(seq, (8, 4))\n",
    "print(seq)"
   ]
  },
  {
   "cell_type": "code",
   "execution_count": 6,
   "metadata": {},
   "outputs": [
    {
     "name": "stdout",
     "output_type": "stream",
     "text": [
      "[[-1.34235766 -0.9396529   1.33411518]\n",
      " [ 0.70483389 -0.61098495 -0.04596852]\n",
      " [ 1.72630664  0.42985856 -0.71987942]\n",
      " [ 1.67291449  1.67677414  2.51686941]\n",
      " [ 0.87333995  0.66549691  0.62603981]]\n"
     ]
    }
   ],
   "source": [
    "inputs = np.random.normal(0, 1, 5 * 3)\n",
    "inputs = np.reshape(inputs, (5, 3))\n",
    "print(inputs)"
   ]
  },
  {
   "cell_type": "code",
   "execution_count": 10,
   "metadata": {},
   "outputs": [
    {
     "name": "stdout",
     "output_type": "stream",
     "text": [
      "[[0, 1.0576389367172547, 0.5289122040918808, 0, 0.3693493485463162, 0.035427321728830896, 2.0042774686532074, 0.4688716958677011], [0, 0.11976194690102601, 0.633288609470228, 0.277121685570479, 0, 0.9016564026821079, 0.8400903927415593, 0.6984941469233947], [0, 0, 0.6842568206642725, 0.4381186166970116, 0, 1.32464612512381, 0.2716043202488647, 0.8106214570935206], [0, 1.8614148010618177, 0.439459923717033, 0, 0.9714422374810752, 0, 3.0020047648341364, 0.2720815132805671], [0, 0.5764452270093816, 0.5824642906185169, 0.11657927746889779, 0.008896486414780025, 0.47986085560028563, 1.40697152775188, 0.58668339213008]]\n"
     ]
    }
   ],
   "source": [
    "outputs = list()\n",
    "for i in range(5): # batch\n",
    "    data = inputs[i]\n",
    "    loutput = list()\n",
    "    for n in range(units): # units of neuron\n",
    "        neuron = seq[n]\n",
    "        total = 0.0\n",
    "        for x, w in zip(data, neuron):\n",
    "            total = x * w\n",
    "        total += neuron[-1]\n",
    "        total = 0 if total <= 0 else total # relu\n",
    "        loutput.append(total)\n",
    "    outputs.append(loutput)\n",
    "    \n",
    "print(outputs)"
   ]
  },
  {
   "cell_type": "code",
   "execution_count": 9,
   "metadata": {},
   "outputs": [
    {
     "name": "stdout",
     "output_type": "stream",
     "text": [
      "[-1.697663916929417, 1.0576389367172547, 0.5289122040918808, -0.05257952532656657, 0.3693493485463162, 0.035427321728830896, 2.0042774686532074, 0.4688716958677011]\n",
      "\n",
      "[-0.6829374425804157, 0.11976194690102601, 0.633288609470228, 0.277121685570479, -0.3331960889487036, 0.9016564026821079, 0.8400903927415593, 0.6984941469233947]\n",
      "\n",
      "[-0.18743471798153755, -0.33821428170844, 0.6842568206642725, 0.4381186166970116, -0.6762571869225448, 1.32464612512381, 0.2716043202488647, 0.8106214570935206]\n",
      "\n",
      "[-2.567301041892888, 1.8614148010618177, 0.439459923717033, -0.3351388360269476, 0.9714422374810752, -0.7069451171131149, 3.0020047648341364, 0.2720815132805671]\n",
      "\n",
      "[-1.1770412746930803, 0.5764452270093816, 0.5824642906185169, 0.11657927746889779, 0.008896486414780025, 0.47986085560028563, 1.40697152775188, 0.58668339213008]\n",
      "\n"
     ]
    }
   ],
   "source": [
    "for output in outputs:\n",
    "    print(output, end='\\n\\n')"
   ]
  },
  {
   "cell_type": "code",
   "execution_count": 11,
   "metadata": {},
   "outputs": [
    {
     "name": "stdout",
     "output_type": "stream",
     "text": [
      "[[0.54714578 0.77163629 0.12120973 ... 0.40257063 0.04723983 0.87894809]\n",
      " [0.03523017 0.41041309 0.53851818 ... 0.42730019 0.47495074 0.96061712]\n",
      " [0.28359098 0.35912987 0.53156661 ... 0.46870188 0.85082482 0.45975201]\n",
      " ...\n",
      " [0.38125987 0.97339236 0.38799806 ... 0.78572508 0.16314394 0.09770595]\n",
      " [0.35526546 0.86747347 0.05917    ... 0.44658686 0.33443972 0.08659377]\n",
      " [0.07141324 0.64530635 0.75517435 ... 0.43621564 0.11381803 0.97435179]]\n"
     ]
    }
   ],
   "source": [
    "population = np.random.uniform(0, 1, 100 * 32)\n",
    "population = np.reshape(population, (100, 32))\n",
    "print(population)"
   ]
  },
  {
   "cell_type": "code",
   "execution_count": 2,
   "metadata": {},
   "outputs": [],
   "source": [
    "import numpy as np"
   ]
  },
  {
   "cell_type": "code",
   "execution_count": 3,
   "metadata": {},
   "outputs": [
    {
     "name": "stdout",
     "output_type": "stream",
     "text": [
      "[2.718281828459045, 20.085536923187668, 148.4131591025766]\n"
     ]
    }
   ],
   "source": [
    "x = [1, 3, 5]\n",
    "\n",
    "ex = []\n",
    "for xi in x:\n",
    "    ex.append(np.exp(xi))\n",
    "    \n",
    "print(ex)"
   ]
  },
  {
   "cell_type": "code",
   "execution_count": 4,
   "metadata": {},
   "outputs": [
    {
     "name": "stdout",
     "output_type": "stream",
     "text": [
      "171.2169778542233\n"
     ]
    }
   ],
   "source": [
    "sum_x = np.sum(ex)\n",
    "print(sum_x)"
   ]
  },
  {
   "cell_type": "code",
   "execution_count": 5,
   "metadata": {},
   "outputs": [
    {
     "name": "stdout",
     "output_type": "stream",
     "text": [
      "[0.015876239976466765, 0.11731042782619837, 0.8668133321973349]\n"
     ]
    }
   ],
   "source": [
    "softmax = []\n",
    "for exi in ex:\n",
    "    softmax.append(exi/sum_x)\n",
    "    \n",
    "print(softmax)"
   ]
  },
  {
   "cell_type": "code",
   "execution_count": null,
   "metadata": {},
   "outputs": [],
   "source": [
    "stable softmax"
   ]
  }
 ],
 "metadata": {
  "kernelspec": {
   "display_name": "Python 3",
   "language": "python",
   "name": "python3"
  },
  "language_info": {
   "codemirror_mode": {
    "name": "ipython",
    "version": 3
   },
   "file_extension": ".py",
   "mimetype": "text/x-python",
   "name": "python",
   "nbconvert_exporter": "python",
   "pygments_lexer": "ipython3",
   "version": "3.6.10"
  }
 },
 "nbformat": 4,
 "nbformat_minor": 4
}
