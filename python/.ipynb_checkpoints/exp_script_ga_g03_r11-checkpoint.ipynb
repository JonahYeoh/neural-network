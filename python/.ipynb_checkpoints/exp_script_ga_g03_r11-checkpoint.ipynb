{
 "cells": [
  {
   "cell_type": "code",
   "execution_count": 1,
   "metadata": {},
   "outputs": [],
   "source": [
    "# single"
   ]
  },
  {
   "cell_type": "code",
   "execution_count": 2,
   "metadata": {},
   "outputs": [],
   "source": [
    "# dependency\n",
    "import numpy as np\n",
    "import pandas as pd\n",
    "import copy\n",
    "import math\n",
    "import sys\n",
    "import os\n",
    "from activations import relu, leaky_relu, sigmoid, tanh, softmax, d_sigmoid, d_relu\n",
    "from initializers import glorot_uniform, random_normal, random_uniform\n",
    "from regularizers import l1_regularizer, l2_regularizer\n",
    "from utility import trim_tail, multiply, subtract, get_nparams, one_hot_encoding, get_data\n",
    "from metrics import MSE, CCE, ACC, PRECISION, RECALL, essential_metrics, wondering_penalty, close_gap_penalty\n",
    "from pso import PSO\n",
    "from ga import GA\n",
    "from nn import Network\n",
    "from layer import DenseLayer\n",
    "from scalers import MinMaxScaler, StandardScaler"
   ]
  },
  {
   "cell_type": "code",
   "execution_count": 3,
   "metadata": {},
   "outputs": [],
   "source": [
    "# reference\n",
    "metrics_fn_dict = dict()\n",
    "metrics_fn_dict['accuracy'] = ACC\n",
    "metrics_fn_dict['categorical_crossentropy'] = CCE\n",
    "metrics_fn_dict['mean_square_error'] = MSE\n",
    "metrics_fn_dict['precision'] = PRECISION\n",
    "metrics_fn_dict['recall'] = RECALL\n",
    "metrics_fn_dict['essential_metrics'] = essential_metrics"
   ]
  },
  {
   "cell_type": "code",
   "execution_count": 4,
   "metadata": {},
   "outputs": [],
   "source": [
    "# model\n",
    "model = Network(5, lr = None)\n",
    "model.add_layer(DenseLayer(1, 4, True, afn=sigmoid, dafn=None, rfn=None))\n",
    "model.add_layer(DenseLayer(2, 3, True, afn=softmax, dafn=None, rfn=None))"
   ]
  },
  {
   "cell_type": "code",
   "execution_count": 5,
   "metadata": {},
   "outputs": [],
   "source": [
    "# optimizer\n",
    "ga = GA(\n",
    "    dict(\n",
    "        m = 50,\n",
    "        x_rate = [0.5, 1.0],\n",
    "        m_rate = [0.5, 1.0],\n",
    "        weight_constraint = [-3.,3.],\n",
    "        radioactive_rating = [0.1, 0.5],\n",
    "        grow_factor = [0.1, 0.5],\n",
    "        scale_hyperparameter = False,\n",
    "        regularizer = l2_regularizer))"
   ]
  },
  {
   "cell_type": "code",
   "execution_count": 6,
   "metadata": {},
   "outputs": [
    {
     "name": "stdout",
     "output_type": "stream",
     "text": [
      "building layer 1 with 5\n",
      "24\n",
      "building layer 2 with 4\n",
      "15\n"
     ]
    }
   ],
   "source": [
    "model.compile(loss_fn = 'categorical_crossentropy', optimizer = ga, \\\n",
    "    metrics = ['accuracy', 'mean_square_error', 'categorical_crossentropy', 'precision', 'recall', 'f1'])"
   ]
  },
  {
   "cell_type": "code",
   "execution_count": 7,
   "metadata": {},
   "outputs": [
    {
     "name": "stdout",
     "output_type": "stream",
     "text": [
      "<class 'pandas.core.frame.DataFrame'>\n",
      "RangeIndex: 107 entries, 0 to 106\n",
      "Data columns (total 6 columns):\n",
      " #   Column  Non-Null Count  Dtype  \n",
      "---  ------  --------------  -----  \n",
      " 0   f1      107 non-null    float32\n",
      " 1   f2      107 non-null    float32\n",
      " 2   f3      107 non-null    float32\n",
      " 3   f4      107 non-null    float32\n",
      " 4   f5      107 non-null    float32\n",
      " 5   label   107 non-null    float32\n",
      "dtypes: float32(6)\n",
      "memory usage: 2.6 KB\n",
      "None\n",
      "<class 'pandas.core.frame.DataFrame'>\n",
      "RangeIndex: 108 entries, 0 to 107\n",
      "Data columns (total 6 columns):\n",
      " #   Column  Non-Null Count  Dtype  \n",
      "---  ------  --------------  -----  \n",
      " 0   f1      108 non-null    float32\n",
      " 1   f2      108 non-null    float32\n",
      " 2   f3      108 non-null    float32\n",
      " 3   f4      108 non-null    float32\n",
      " 4   f5      108 non-null    float32\n",
      " 5   label   108 non-null    float32\n",
      "dtypes: float32(6)\n",
      "memory usage: 2.7 KB\n",
      "None\n"
     ]
    }
   ],
   "source": [
    "# data loading\n",
    "DATA = os.path.join('c:\\\\Users\\\\tcumi\\\\github_repo\\\\neural-network\\\\', 'dataset')\n",
    "GROUP = 3\n",
    "COLUMNS = ['f1', 'f2', 'f3', 'f4', 'f5', 'label']\n",
    "N_CLASS = 3\n",
    "EPOCHS = 500\n",
    "train_dir, test_dir = \"..//dataset//training_data{}.txt\".format(GROUP), \"..//dataset//testing_data{}.txt\".format(GROUP)\n",
    "train, test = get_data(DATA, train_dir, COLUMNS), get_data(DATA, test_dir, COLUMNS)\n",
    "# shuffle\n",
    "train, test = train.sample(frac=1), test.sample(frac=1)\n",
    "x_train, y_train = train.drop('label', axis=1), train['label']\n",
    "x_test, y_test = test.drop('label', axis=1), test['label']"
   ]
  },
  {
   "cell_type": "code",
   "execution_count": 8,
   "metadata": {},
   "outputs": [],
   "source": [
    "# data scaling and encoding\n",
    "scaler = StandardScaler(['f1', 'f2', 'f3', 'f4', 'f5'])\n",
    "scaler.fit(x_train)\n",
    "x_train = scaler.transform(x_train)\n",
    "x_test = scaler.transform(x_test)\n",
    "y_train = one_hot_encoding(y_train, N_CLASS)\n",
    "y_test = one_hot_encoding(y_test, N_CLASS)"
   ]
  },
  {
   "cell_type": "code",
   "execution_count": 9,
   "metadata": {
    "scrolled": true,
    "tags": [
     "outputPrepend"
    ]
   },
   "outputs": [
    {
     "name": "stderr",
     "output_type": "stream",
     "text": [
      "C:\\Users\\tcumi\\Anaconda3\\envs\\py_3_6\\lib\\site-packages\\numpy\\core\\fromnumeric.py:87: VisibleDeprecationWarning: Creating an ndarray from ragged nested sequences (which is a list-or-tuple of lists-or-tuples-or ndarrays with different lengths or shapes) is deprecated. If you meant to do this, you must specify 'dtype=object' when creating the ndarray\n",
      "  return ufunc.reduce(obj, axis, dtype, out, **passkwargs)\n",
      "C:\\Users\\tcumi\\github_repo\\neural-network\\python\\ga.py:201: RuntimeWarning: overflow encountered in add\n",
      "  self.population.sort(key=lambda p: p.fitness + np.random.uniform(-shift, shift, 1), reverse = self.aim)\n",
      "C:\\Users\\tcumi\\Anaconda3\\envs\\py_3_6\\lib\\site-packages\\numpy\\core\\_asarray.py:136: VisibleDeprecationWarning: Creating an ndarray from ragged nested sequences (which is a list-or-tuple of lists-or-tuples-or ndarrays with different lengths or shapes) is deprecated. If you meant to do this, you must specify 'dtype=object' when creating the ndarray\n",
      "  return array(a, dtype, copy=False, order=order, subok=True)\n"
     ]
    },
    {
     "name": "stdout",
     "output_type": "stream",
     "text": [
      "Checkpoint 100, Accuracy: 0.9197530864197531, Loss: 0.43048851578323927\n",
      "Checkpoint 200, Accuracy: 0.9629629629629629, Loss: 0.35586328859682437\n",
      "Checkpoint 300, Accuracy: 0.9629629629629629, Loss: 0.3069801330566406\n",
      "Checkpoint 400, Accuracy: 0.9691358024691358, Loss: 0.25403607333147965\n",
      "Checkpoint 500, Accuracy: 0.9753086419753086, Loss: 0.2347935570610894\n"
     ]
    }
   ],
   "source": [
    "# learning phase\n",
    "breakpoint = 100\n",
    "checkpoints = list()\n",
    "history = list()\n",
    "for century in range(0, EPOCHS, breakpoint):\n",
    "    sub_history = model.fit(x_train, y_train, breakpoint, verbose = 0)\n",
    "    score = model.evaluate(x_test, y_test, False, verbose = 0)\n",
    "    print('Checkpoint {}, Accuracy: {}, Loss: {}'.format(century+breakpoint, score['accuracy'], score[model.loss_fn]))\n",
    "    score['checkpoint'] = century + breakpoint\n",
    "    checkpoints.append(score)\n",
    "    history.extend(sub_history)\n",
    "    itr = century + breakpoint\n",
    "    '''\n",
    "    model.optimizer.rr = model.optimizer.rr * 0.9\n",
    "    model.optimizer.gf = model.optimizer.gf * 0.9\n",
    "    model.optimizer.crossover_rate = model.optimizer.crossover_rate * 0.9\n",
    "    model.optimizer.mutation_rate = model.optimizer.mutation_rate * 1.1\n",
    "    '''\n",
    "    model.optimizer.rr = model.optimizer.radioactive_rating[1] - (model.optimizer.radioactive_rating[1] - model.optimizer.radioactive_rating[0]) / EPOCHS * (EPOCHS - itr)\n",
    "    model.optimizer.gf = model.optimizer.grow_factor[1] - (model.optimizer.grow_factor[1] - model.optimizer.grow_factor[0]) / EPOCHS * (EPOCHS - itr)\n",
    "    model.optimizer.crossover_rate = model.optimizer.x_rate[1] - (model.optimizer.x_rate[1] - model.optimizer.x_rate[0]) / EPOCHS * (EPOCHS - itr)\n",
    "    model.optimizer.mutation_rate = model.optimizer.m_rate[0] + (model.optimizer.m_rate[1] - model.optimizer.m_rate[0]) / EPOCHS * (EPOCHS - itr)\n",
    "    "
   ]
  },
  {
   "cell_type": "code",
   "execution_count": 10,
   "metadata": {},
   "outputs": [],
   "source": [
    "import matplotlib.pyplot as plt\n",
    "\n",
    "def draw_plot(x, y_list, x_label=None, y_label=None, legend=None, title=None):\n",
    "    fig, ax = plt.subplots(figsize=(12,5))\n",
    "    for xi, yi in zip(x, y_list):\n",
    "        ax.plot(xi, yi)\n",
    "    if x_label is not None and y_label is not None:\n",
    "        ax.set(xlabel=x_label, ylabel=y_label, title='{} VS {}'.format(x_label, y_label))\n",
    "    if legend is not None:\n",
    "        ax.legend(legend)\n",
    "    ax.grid()\n",
    "    plt.show()"
   ]
  },
  {
   "cell_type": "code",
   "execution_count": 11,
   "metadata": {},
   "outputs": [
    {
     "name": "stdout",
     "output_type": "stream",
     "text": [
      "[1. 0. 0.] <-> [0.8771752  0.01396137 0.10886336]\n",
      "[1. 0. 0.] <-> [0.8473194  0.04348363 0.10919699]\n",
      "[0. 1. 0.] <-> [0.27145    0.71067065 0.01787938]\n",
      "[1. 0. 0.] <-> [0.8023563  0.01312442 0.18451934]\n",
      "[0. 1. 0.] <-> [0.16442429 0.83094174 0.00463395]\n",
      "[1. 0. 0.] <-> [0.8443328  0.11018161 0.04548561]\n",
      "[1. 0. 0.] <-> [0.8920672  0.03254431 0.07538854]\n",
      "[1. 0. 0.] <-> [0.880592   0.04640916 0.07299887]\n",
      "[1. 0. 0.] <-> [0.84025586 0.01709548 0.14264868]\n",
      "[1. 0. 0.] <-> [0.83748865 0.00931546 0.15319593]\n",
      "[0. 1. 0.] <-> [0.29707938 0.69219255 0.01072802]\n",
      "[1. 0. 0.] <-> [0.90159565 0.03696479 0.06143956]\n",
      "[1. 0. 0.] <-> [0.87477183 0.02203746 0.10319065]\n",
      "[0. 1. 0.] <-> [0.633966   0.34341478 0.02261921]\n",
      "[1. 0. 0.] <-> [0.89544743 0.04188256 0.06267009]\n",
      "[1. 0. 0.] <-> [0.88704866 0.05087255 0.06207878]\n",
      "[1. 0. 0.] <-> [0.8677642  0.01760179 0.11463404]\n",
      "[0. 1. 0.] <-> [0.39105222 0.59374905 0.01519867]\n",
      "[1. 0. 0.] <-> [0.91002256 0.03175408 0.05822328]\n",
      "[1. 0. 0.] <-> [0.8758846  0.01097625 0.11313907]\n",
      "[1. 0. 0.] <-> [0.836636   0.01255456 0.15080945]\n",
      "[1. 0. 0.] <-> [0.88672245 0.05238711 0.06089037]\n",
      "[1. 0. 0.] <-> [0.877295   0.03124185 0.09146316]\n",
      "[1. 0. 0.] <-> [0.86843175 0.01329454 0.11827373]\n",
      "[1. 0. 0.] <-> [0.88484097 0.0402233  0.07493576]\n",
      "[1. 0. 0.] <-> [0.87782913 0.04451844 0.07765242]\n",
      "[1. 0. 0.] <-> [0.84604067 0.01530164 0.13865769]\n",
      "[1. 0. 0.] <-> [0.8730401  0.06757792 0.05938202]\n",
      "[0. 0. 1.] <-> [0.18400605 0.00087271 0.81512123]\n",
      "[0. 0. 1.] <-> [0.28134358 0.00115863 0.7174978 ]\n",
      "[1. 0. 0.] <-> [0.8595663  0.08432855 0.05610522]\n",
      "[1. 0. 0.] <-> [0.82607687 0.00988018 0.16404293]\n",
      "[1. 0. 0.] <-> [0.84016323 0.013638   0.14619878]\n",
      "[1. 0. 0.] <-> [0.85644525 0.08366998 0.05988478]\n",
      "[0. 1. 0.] <-> [0.35279563 0.6346806  0.01252378]\n",
      "[1. 0. 0.] <-> [0.7093689  0.00674128 0.28388983]\n",
      "[1. 0. 0.] <-> [0.90969515 0.04187574 0.04842917]\n",
      "[1. 0. 0.] <-> [0.85934395 0.00902589 0.13163015]\n",
      "[0. 1. 0.] <-> [0.4499469  0.51826376 0.03178937]\n",
      "[1. 0. 0.] <-> [0.88667935 0.05266828 0.06065238]\n",
      "[0. 1. 0.] <-> [0.4882923  0.4931328  0.01857487]\n",
      "[1. 0. 0.] <-> [0.8548326  0.0147147  0.13045269]\n",
      "[0. 0. 1.] <-> [0.1918239  0.00092133 0.80725473]\n",
      "[0. 1. 0.] <-> [0.14627744 0.84939146 0.0043311 ]\n",
      "[1. 0. 0.] <-> [0.8835217  0.0175266  0.09895171]\n",
      "[1. 0. 0.] <-> [0.79821986 0.01171421 0.19006598]\n",
      "[0. 0. 1.] <-> [0.21272002 0.00087056 0.78640944]\n",
      "[0. 0. 1.] <-> [0.22419003 0.00093789 0.7748721 ]\n",
      "[0. 0. 1.] <-> [0.7616949  0.00503816 0.23326686]\n",
      "[1. 0. 0.] <-> [0.9002246  0.03148272 0.06829265]\n",
      "[1. 0. 0.] <-> [0.8938002  0.01525254 0.09094726]\n",
      "[1. 0. 0.] <-> [0.8274443  0.00932733 0.16322838]\n",
      "[1. 0. 0.] <-> [0.90511024 0.03381184 0.06107789]\n",
      "[1. 0. 0.] <-> [0.9094603  0.03023768 0.06030198]\n",
      "[1. 0. 0.] <-> [0.86060387 0.05971901 0.07967711]\n",
      "[1. 0. 0.] <-> [0.88356394 0.01499985 0.10143629]\n",
      "[1. 0. 0.] <-> [0.880735   0.07730607 0.04195897]\n",
      "[1. 0. 0.] <-> [0.7468422  0.21821412 0.03494366]\n",
      "[1. 0. 0.] <-> [0.88546026 0.07425557 0.04028416]\n",
      "[0. 0. 1.] <-> [0.21949919 0.00122394 0.77927685]\n",
      "[1. 0. 0.] <-> [0.8921931  0.06177906 0.0460279 ]\n",
      "[1. 0. 0.] <-> [0.5464341  0.00419222 0.44937366]\n",
      "[0. 0. 1.] <-> [0.57763153 0.0029439  0.4194245 ]\n",
      "[1. 0. 0.] <-> [0.9065208  0.02345726 0.07002193]\n",
      "[0. 1. 0.] <-> [0.1642752  0.8317801  0.00394476]\n",
      "[1. 0. 0.] <-> [0.850872   0.06708987 0.08203819]\n",
      "[1. 0. 0.] <-> [0.7085151  0.0065129  0.28497192]\n",
      "[1. 0. 0.] <-> [0.74633384 0.00801563 0.2456505 ]\n",
      "[0. 1. 0.] <-> [0.23475176 0.75792694 0.00732134]\n",
      "[1. 0. 0.] <-> [0.87604284 0.02950667 0.09445053]\n",
      "[1. 0. 0.] <-> [0.83758074 0.00895427 0.15346493]\n",
      "[1. 0. 0.] <-> [0.88302475 0.06716123 0.04981399]\n",
      "[0. 1. 0.] <-> [0.1762007  0.81776047 0.00603888]\n",
      "[1. 0. 0.] <-> [0.8610796  0.01165192 0.12726848]\n",
      "[1. 0. 0.] <-> [0.67607605 0.2935231  0.03040091]\n",
      "[1. 0. 0.] <-> [0.6479095  0.32700434 0.02508613]\n",
      "[1. 0. 0.] <-> [0.8102983  0.15207367 0.03762794]\n",
      "[0. 1. 0.] <-> [0.23294587 0.75899345 0.00806066]\n",
      "[1. 0. 0.] <-> [0.9126622  0.01859094 0.06874683]\n",
      "[1. 0. 0.] <-> [0.8672461  0.02477114 0.10798272]\n",
      "[1. 0. 0.] <-> [0.8721307  0.07736738 0.05050191]\n",
      "[1. 0. 0.] <-> [0.83076054 0.13110113 0.03813834]\n",
      "[0. 1. 0.] <-> [0.16101526 0.83492446 0.00406028]\n",
      "[1. 0. 0.] <-> [0.8346341  0.11105854 0.05430729]\n",
      "[1. 0. 0.] <-> [0.9069751  0.02355553 0.06946941]\n",
      "[1. 0. 0.] <-> [0.8550744  0.01033198 0.13459362]\n",
      "[1. 0. 0.] <-> [0.82828444 0.10921378 0.06250183]\n",
      "[0. 0. 1.] <-> [0.57788754 0.00292397 0.4191885 ]\n",
      "[1. 0. 0.] <-> [0.817064   0.01680378 0.16613218]\n",
      "[1. 0. 0.] <-> [0.8385742  0.11629698 0.04512892]\n",
      "[1. 0. 0.] <-> [0.8954831  0.02307049 0.08144639]\n",
      "[1. 0. 0.] <-> [0.8136597  0.14916532 0.03717497]\n",
      "[1. 0. 0.] <-> [0.878093   0.01155535 0.11035158]\n",
      "[1. 0. 0.] <-> [0.85729724 0.03692652 0.10577624]\n",
      "[1. 0. 0.] <-> [0.8744546  0.01956765 0.10597774]\n",
      "[1. 0. 0.] <-> [0.87544775 0.02735785 0.09719436]\n",
      "[1. 0. 0.] <-> [0.8981083  0.04133759 0.06055412]\n",
      "[1. 0. 0.] <-> [0.8962096  0.02157327 0.08221705]\n",
      "[1. 0. 0.] <-> [0.7843851  0.00770148 0.20791343]\n",
      "[1. 0. 0.] <-> [0.8139687  0.14776838 0.03826285]\n",
      "[1. 0. 0.] <-> [0.9049269  0.02604482 0.06902827]\n",
      "[0. 1. 0.] <-> [0.17647745 0.81793636 0.00558616]\n",
      "[0. 0. 1.] <-> [0.30242997 0.00118558 0.69638443]\n",
      "[0. 0. 1.] <-> [0.34405124 0.00136726 0.65458155]\n",
      "[1. 0. 0.] <-> [0.8320727  0.13442653 0.03350075]\n",
      "[0. 0. 1.] <-> [0.3526528  0.00194482 0.64540243]\n",
      "[1. 0. 0.] <-> [0.79951847 0.01278873 0.18769279]\n",
      "[0. 0. 1.] <-> [0.24384882 0.00094511 0.75520605]\n",
      "{'accuracy': 0.9753086419753086, 'mean_square_error': 0.10134065041911319, 'categorical_crossentropy': 0.2347935570610894, 'precision': 0.9629629629629629, 'recall': 0.9629629629629629, 'f1': 0.9629629629629629, 'essential_metrics': {0: {'tp_hit': 80, 'fp_hit': 4, 'tn_hit': 24, 'fn_hit': 0}, 1: {'tp_hit': 14, 'fp_hit': 0, 'tn_hit': 93, 'fn_hit': 1}, 2: {'tp_hit': 10, 'fp_hit': 0, 'tn_hit': 95, 'fn_hit': 3}}}\n"
     ]
    }
   ],
   "source": [
    "# recall phase\n",
    "score = model.evaluate(x_test, y_test, False)\n",
    "print(score)"
   ]
  },
  {
   "cell_type": "code",
   "execution_count": 12,
   "metadata": {},
   "outputs": [],
   "source": [
    "# Testing Performance"
   ]
  },
  {
   "cell_type": "code",
   "execution_count": 13,
   "metadata": {},
   "outputs": [
    {
     "name": "stderr",
     "output_type": "stream",
     "text": [
      "C:\\Users\\tcumi\\Anaconda3\\envs\\py_3_6\\lib\\site-packages\\numpy\\core\\_asarray.py:136: VisibleDeprecationWarning: Creating an ndarray from ragged nested sequences (which is a list-or-tuple of lists-or-tuples-or ndarrays with different lengths or shapes) is deprecated. If you meant to do this, you must specify 'dtype=object' when creating the ndarray\n",
      "  return array(a, dtype, copy=False, order=order, subok=True)\n"
     ]
    },
    {
     "data": {
      "image/png": "[encoded data removed]",
      "text/plain": [
       "<Figure size 864x360 with 1 Axes>"
      ]
     },
     "metadata": {
      "needs_background": "light"
     },
     "output_type": "display_data"
    },
    {
     "data": {
      "image/png": "[encoded data removed]",
      "text/plain": [
       "<Figure size 864x360 with 1 Axes>"
      ]
     },
     "metadata": {
      "needs_background": "light"
     },
     "output_type": "display_data"
    }
   ],
   "source": [
    "draw_plot(x = [[i for i in range(len(history))], [(i+1)*breakpoint for i in range(len(checkpoints))]], y_list = [history, [ ckp[model.loss_fn] for ckp in checkpoints ]], x_label = 'Epochs', \\\n",
    "    y_label = model.loss_fn, legend=['train', 'test'])\n",
    "acc = [ ckp['accuracy'] for ckp in checkpoints ]\n",
    "draw_plot(x = [[(i+1)*breakpoint for i in range(len(checkpoints))]], y_list = [acc], x_label = 'Checkpoints', \\\n",
    "    y_label = 'accuracy')"
   ]
  },
  {
   "cell_type": "code",
   "execution_count": 14,
   "metadata": {
    "scrolled": false
   },
   "outputs": [
    {
     "name": "stdout",
     "output_type": "stream",
     "text": [
      "{'accuracy': 0.9197530864197531, 'mean_square_error': 0.23160926572146195, 'categorical_crossentropy': 0.43048851578323927, 'precision': 0.8796296296296297, 'recall': 0.8796296296296297, 'f1': 0.8796296296296297, 'essential_metrics': {0: {'tp_hit': 80, 'fp_hit': 13, 'tn_hit': 15, 'fn_hit': 0}, 1: {'tp_hit': 6, 'fp_hit': 0, 'tn_hit': 93, 'fn_hit': 9}, 2: {'tp_hit': 9, 'fp_hit': 0, 'tn_hit': 95, 'fn_hit': 4}}, 'checkpoint': 100} \n",
      "\n",
      "\n",
      "{'accuracy': 0.9629629629629629, 'mean_square_error': 0.1788513735628426, 'categorical_crossentropy': 0.35586328859682437, 'precision': 0.9444444444444444, 'recall': 0.9444444444444444, 'f1': 0.9444444444444444, 'essential_metrics': {0: {'tp_hit': 80, 'fp_hit': 6, 'tn_hit': 22, 'fn_hit': 0}, 1: {'tp_hit': 12, 'fp_hit': 0, 'tn_hit': 93, 'fn_hit': 3}, 2: {'tp_hit': 10, 'fp_hit': 0, 'tn_hit': 95, 'fn_hit': 3}}, 'checkpoint': 200} \n",
      "\n",
      "\n",
      "{'accuracy': 0.9629629629629629, 'mean_square_error': 0.14468018081429632, 'categorical_crossentropy': 0.3069801330566406, 'precision': 0.9444444444444444, 'recall': 0.9444444444444444, 'f1': 0.9444444444444444, 'essential_metrics': {0: {'tp_hit': 80, 'fp_hit': 6, 'tn_hit': 22, 'fn_hit': 0}, 1: {'tp_hit': 12, 'fp_hit': 0, 'tn_hit': 93, 'fn_hit': 3}, 2: {'tp_hit': 10, 'fp_hit': 0, 'tn_hit': 95, 'fn_hit': 3}}, 'checkpoint': 300} \n",
      "\n",
      "\n",
      "{'accuracy': 0.9691358024691358, 'mean_square_error': 0.11117749850952724, 'categorical_crossentropy': 0.25403607333147965, 'precision': 0.9537037037037037, 'recall': 0.9537037037037037, 'f1': 0.9537037037037037, 'essential_metrics': {0: {'tp_hit': 80, 'fp_hit': 5, 'tn_hit': 23, 'fn_hit': 0}, 1: {'tp_hit': 13, 'fp_hit': 0, 'tn_hit': 93, 'fn_hit': 2}, 2: {'tp_hit': 10, 'fp_hit': 0, 'tn_hit': 95, 'fn_hit': 3}}, 'checkpoint': 400} \n",
      "\n",
      "\n",
      "{'accuracy': 0.9753086419753086, 'mean_square_error': 0.10134065041911319, 'categorical_crossentropy': 0.2347935570610894, 'precision': 0.9629629629629629, 'recall': 0.9629629629629629, 'f1': 0.9629629629629629, 'essential_metrics': {0: {'tp_hit': 80, 'fp_hit': 4, 'tn_hit': 24, 'fn_hit': 0}, 1: {'tp_hit': 14, 'fp_hit': 0, 'tn_hit': 93, 'fn_hit': 1}, 2: {'tp_hit': 10, 'fp_hit': 0, 'tn_hit': 95, 'fn_hit': 3}}, 'checkpoint': 500} \n",
      "\n",
      "\n"
     ]
    }
   ],
   "source": [
    "for checkpoint in checkpoints:\n",
    "    print(checkpoint, '\\n\\n')"
   ]
  },
  {
   "cell_type": "code",
   "execution_count": 15,
   "metadata": {},
   "outputs": [
    {
     "name": "stdout",
     "output_type": "stream",
     "text": [
      "Layer 1\n",
      "Neuron 0: weights:\n",
      "[-0.18520483  1.7129622   0.04939787 -0.10564177 -1.2974728 ]\n",
      " bias: 1.1622233390808105\n",
      "\n",
      "Neuron 1: weights:\n",
      "[ 0.99078625 -0.00422137 -0.10584231  0.6287174   0.20103991]\n",
      " bias: -0.3694632053375244\n",
      "\n",
      "Neuron 2: weights:\n",
      "[ 0.82992244 -2.0166752  -1.0452901  -0.04447192  0.0127102 ]\n",
      " bias: 0.7432040572166443\n",
      "\n",
      "Neuron 3: weights:\n",
      "[-0.26687062 -0.4432068   0.04510443  0.22784565  0.26878488]\n",
      " bias: -0.07802274823188782\n",
      "\n",
      "$\n",
      "Layer 2\n",
      "Neuron 0: weights:\n",
      "[ 0.37500912 -1.1423613   2.6532972  -0.77735823]\n",
      " bias: 0.8913220167160034\n",
      "\n",
      "Neuron 1: weights:\n",
      "[ 2.580553   -0.8146522  -3.          0.04914577]\n",
      " bias: 0.024769023060798645\n",
      "\n",
      "Neuron 2: weights:\n",
      "[-3.          0.6260544   2.2598836   0.40889233]\n",
      " bias: -0.002586906310170889\n",
      "\n",
      "$\n",
      "\n"
     ]
    }
   ],
   "source": [
    "print(model)"
   ]
  }
 ],
 "metadata": {
  "kernelspec": {
   "display_name": "Python 3",
   "language": "python",
   "name": "python3"
  },
  "language_info": {
   "codemirror_mode": {
    "name": "ipython",
    "version": 3
   },
   "file_extension": ".py",
   "mimetype": "text/x-python",
   "name": "python",
   "nbconvert_exporter": "python",
   "pygments_lexer": "ipython3",
   "version": "3.6.10"
  }
 },
 "nbformat": 4,
 "nbformat_minor": 2
}
