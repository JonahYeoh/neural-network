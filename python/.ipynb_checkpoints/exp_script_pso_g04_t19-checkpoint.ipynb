{
 "cells": [
  {
   "cell_type": "code",
   "execution_count": 1,
   "metadata": {},
   "outputs": [],
   "source": [
    "# dependency\n",
    "import numpy as np\n",
    "import pandas as pd\n",
    "import copy\n",
    "import math\n",
    "import sys\n",
    "import os\n",
    "from activations import relu, leaky_relu, sigmoid, tanh, softmax, d_sigmoid, d_relu\n",
    "from initializers import glorot_uniform, random_normal, random_uniform\n",
    "from regularizers import l1_regularizer, l2_regularizer\n",
    "from utility import trim_tail, multiply, subtract, get_nparams, one_hot_encoding, get_data\n",
    "from metrics import MSE, CCE, ACC, PRECISION, RECALL, essential_metrics, wondering_penalty, close_gap_penalty\n",
    "from pso import PSO\n",
    "from ga import GA\n",
    "from nn import Network\n",
    "from layer import DenseLayer\n",
    "from scalers import MinMaxScaler, StandardScaler"
   ]
  },
  {
   "cell_type": "code",
   "execution_count": 2,
   "metadata": {},
   "outputs": [],
   "source": [
    "# reference\n",
    "metrics_fn_dict = dict()\n",
    "metrics_fn_dict['accuracy'] = ACC\n",
    "metrics_fn_dict['categorical_crossentropy'] = CCE\n",
    "metrics_fn_dict['mean_square_error'] = MSE\n",
    "metrics_fn_dict['precision'] = PRECISION\n",
    "metrics_fn_dict['recall'] = RECALL\n",
    "metrics_fn_dict['essential_metrics'] = essential_metrics"
   ]
  },
  {
   "cell_type": "code",
   "execution_count": 3,
   "metadata": {},
   "outputs": [],
   "source": [
    "# model\n",
    "model = Network(5, lr = None)\n",
    "model.add_layer(DenseLayer(1, 4, True, afn=sigmoid, dafn=None, rfn=None))\n",
    "model.add_layer(DenseLayer(2, 3, True, afn=softmax, dafn=None, rfn=None))"
   ]
  },
  {
   "cell_type": "code",
   "execution_count": 4,
   "metadata": {},
   "outputs": [
    {
     "name": "stdout",
     "output_type": "stream",
     "text": [
      "see one see two 2 0.5\n"
     ]
    }
   ],
   "source": [
    "pso = PSO(dict(m = 200,\n",
    "    weight_constraint = [-3, 3], \n",
    "    velocity_constraint = [-0.1, 0.1],\n",
    "    c1 = [0.5, 2],\n",
    "    c2 = [0.5, 2],\n",
    "    w = [0.5, 1.6],\n",
    "    w_decay = 0.95,\n",
    "    scale_hyperparameter = False,\n",
    "    regularizer = None,\n",
    "    mask = True))"
   ]
  },
  {
   "cell_type": "code",
   "execution_count": 5,
   "metadata": {},
   "outputs": [
    {
     "name": "stdout",
     "output_type": "stream",
     "text": [
      "building layer 1 with 5\n",
      "24\n",
      "building layer 2 with 4\n",
      "15\n"
     ]
    }
   ],
   "source": [
    "model.compile(loss_fn = 'categorical_crossentropy', optimizer = pso, \\\n",
    "    metrics = ['accuracy', 'mean_square_error', 'categorical_crossentropy'])"
   ]
  },
  {
   "cell_type": "code",
   "execution_count": 6,
   "metadata": {},
   "outputs": [
    {
     "name": "stdout",
     "output_type": "stream",
     "text": [
      "<class 'pandas.core.frame.DataFrame'>\n",
      "RangeIndex: 107 entries, 0 to 106\n",
      "Data columns (total 6 columns):\n",
      " #   Column  Non-Null Count  Dtype  \n",
      "---  ------  --------------  -----  \n",
      " 0   f1      107 non-null    float32\n",
      " 1   f2      107 non-null    float32\n",
      " 2   f3      107 non-null    float32\n",
      " 3   f4      107 non-null    float32\n",
      " 4   f5      107 non-null    float32\n",
      " 5   label   107 non-null    float32\n",
      "dtypes: float32(6)\n",
      "memory usage: 2.6 KB\n",
      "None\n",
      "<class 'pandas.core.frame.DataFrame'>\n",
      "RangeIndex: 108 entries, 0 to 107\n",
      "Data columns (total 6 columns):\n",
      " #   Column  Non-Null Count  Dtype  \n",
      "---  ------  --------------  -----  \n",
      " 0   f1      108 non-null    float32\n",
      " 1   f2      108 non-null    float32\n",
      " 2   f3      108 non-null    float32\n",
      " 3   f4      108 non-null    float32\n",
      " 4   f5      108 non-null    float32\n",
      " 5   label   108 non-null    float32\n",
      "dtypes: float32(6)\n",
      "memory usage: 2.7 KB\n",
      "None\n"
     ]
    }
   ],
   "source": [
    "# data loading\n",
    "DATA = os.path.join('c:\\\\Users\\\\Ai-lab\\\\github_repo\\\\neural-network\\\\', 'dataset')\n",
    "GROUP = 4\n",
    "COLUMNS = ['f1', 'f2', 'f3', 'f4', 'f5', 'label']\n",
    "N_CLASS = 3\n",
    "EPOCHS = 500\n",
    "train_dir, test_dir = \"..//dataset//training_data{}.txt\".format(GROUP), \"..//dataset//testing_data{}.txt\".format(GROUP)\n",
    "train, test = get_data(DATA, train_dir, COLUMNS), get_data(DATA, test_dir, COLUMNS)\n",
    "# shuffle\n",
    "train, test = train.sample(frac=1), test.sample(frac=1)\n",
    "x_train, y_train = train.drop('label', axis=1), train['label']\n",
    "x_test, y_test = test.drop('label', axis=1), test['label']"
   ]
  },
  {
   "cell_type": "code",
   "execution_count": 7,
   "metadata": {},
   "outputs": [],
   "source": [
    "# data scaling and encoding\n",
    "scaler = StandardScaler(['f1', 'f2', 'f3', 'f4', 'f5'])\n",
    "scaler.fit(x_train)\n",
    "x_train = scaler.transform(x_train)\n",
    "x_test = scaler.transform(x_test)\n",
    "y_train = one_hot_encoding(y_train, N_CLASS)\n",
    "y_test = one_hot_encoding(y_test, N_CLASS)"
   ]
  },
  {
   "cell_type": "code",
   "execution_count": 8,
   "metadata": {
    "tags": [
     "outputPrepend"
    ]
   },
   "outputs": [
    {
     "name": "stdout",
     "output_type": "stream",
     "text": [
      "Checkpoint 100, Accuracy: 0.9753086419753086, Loss: 0.19509107095223885\n",
      "Checkpoint 200, Accuracy: 0.9567901234567902, Loss: 0.12685799598693848\n",
      "Checkpoint 300, Accuracy: 0.9691358024691358, Loss: 0.10442786746554905\n",
      "Checkpoint 400, Accuracy: 0.9753086419753086, Loss: 0.1068161681846336\n",
      "Checkpoint 500, Accuracy: 0.9691358024691358, Loss: 0.10522135098775227\n"
     ]
    }
   ],
   "source": [
    "# learning phase\n",
    "breakpoint = 100\n",
    "checkpoints = list()\n",
    "history = list()\n",
    "for century in range(0, EPOCHS, breakpoint):\n",
    "    sub_history = model.fit(x_train, y_train, breakpoint, verbose = 0)\n",
    "    score = model.evaluate(x_test, y_test, False, verbose = 0)\n",
    "    print('Checkpoint {}, Accuracy: {}, Loss: {}'.format(century+breakpoint, score['accuracy'], score[model.loss_fn]))\n",
    "    score['checkpoint'] = century + breakpoint\n",
    "    checkpoints.append(score)\n",
    "    history.extend(sub_history)\n",
    "    itr = century + breakpoint\n",
    "    model.optimizer.c2 = np.max([model.optimizer.C2[1] - ((model.optimizer.C2[1] - model.optimizer.C2[0]) * itr / EPOCHS), model.optimizer.C2[0]])\n",
    "    model.optimizer.c1 = np.min([model.optimizer.C1[0] + ((model.optimizer.C1[1] - model.optimizer.C1[0]) * itr / EPOCHS), model.optimizer.C1[1]])\n",
    "    model.optimizer.w = np.max([model.optimizer.w * model.optimizer.W_Decay, model.optimizer.W[0]])"
   ]
  },
  {
   "cell_type": "code",
   "execution_count": 9,
   "metadata": {},
   "outputs": [],
   "source": [
    "train_acc = [h['accuracy'] for h in history]\n",
    "train_mse = [h['mean_square_error'] for h in history]\n",
    "train_cce = [h['categorical_crossentropy'] for h in history]"
   ]
  },
  {
   "cell_type": "code",
   "execution_count": 10,
   "metadata": {},
   "outputs": [],
   "source": [
    "import matplotlib.pyplot as plt\n",
    "\n",
    "def draw_plot(x, y_list, x_label=None, y_label=None, legend=None, title=None):\n",
    "    fig, ax = plt.subplots(figsize=(12,5))\n",
    "    for xi, yi in zip(x, y_list):\n",
    "        ax.plot(xi, yi)\n",
    "    if x_label is not None and y_label is not None:\n",
    "        ax.set(xlabel=x_label, ylabel=y_label, title='{} VS {}'.format(x_label, y_label))\n",
    "    if legend is not None:\n",
    "        ax.legend(legend)\n",
    "    ax.grid()\n",
    "    plt.show()"
   ]
  },
  {
   "cell_type": "code",
   "execution_count": 11,
   "metadata": {},
   "outputs": [
    {
     "data": {
      "image/png": "[encoded data removed]",
      "text/plain": [
       "<Figure size 864x360 with 1 Axes>"
      ]
     },
     "metadata": {
      "needs_background": "light"
     },
     "output_type": "display_data"
    },
    {
     "data": {
      "image/png": "[encoded data removed]",
      "text/plain": [
       "<Figure size 864x360 with 1 Axes>"
      ]
     },
     "metadata": {
      "needs_background": "light"
     },
     "output_type": "display_data"
    }
   ],
   "source": [
    "draw_plot(x = [[i for i in range(len(history))], [(i+1)*breakpoint for i in range(len(checkpoints))]], y_list = [train_cce, [ ckp[model.loss_fn] for ckp in checkpoints ]], x_label = 'Epochs', \\\n",
    "    y_label = model.loss_fn, legend=['train', 'test'])\n",
    "acc = [ ckp['accuracy'] for ckp in checkpoints ]\n",
    "draw_plot(x = [[i for i in range(len(history))], [(i+1)*breakpoint for i in range(len(checkpoints))]], y_list = [train_acc, acc], x_label = 'Checkpoints', \\\n",
    "    y_label = 'accuracy', legend=['train', 'test'])"
   ]
  },
  {
   "cell_type": "code",
   "execution_count": 12,
   "metadata": {},
   "outputs": [
    {
     "name": "stdout",
     "output_type": "stream",
     "text": [
      "[1. 0. 0.] <-> [0.99360067 0.00473743 0.00166187]\n",
      "[1. 0. 0.] <-> [0.99524236 0.00116306 0.0035946 ]\n",
      "[1. 0. 0.] <-> [0.988155   0.001117   0.01072804]\n",
      "[1. 0. 0.] <-> [0.9755981  0.00115488 0.02324706]\n",
      "[1. 0. 0.] <-> [0.9666432  0.00128159 0.03207515]\n",
      "[1. 0. 0.] <-> [0.986967   0.0011021  0.01193081]\n",
      "[1. 0. 0.] <-> [0.9952661  0.00236275 0.00237128]\n",
      "[0. 1. 0.] <-> [0.21654786 0.7819965  0.00145564]\n",
      "[0. 0. 1.] <-> [4.213923e-02 4.731059e-05 9.578135e-01]\n",
      "[1. 0. 0.] <-> [0.85093707 0.00097042 0.14809258]\n",
      "[1. 0. 0.] <-> [0.8509007  0.00095308 0.14814624]\n",
      "[1. 0. 0.] <-> [0.9957302  0.00153498 0.00273475]\n",
      "[1. 0. 0.] <-> [0.99422425 0.00147944 0.00429631]\n",
      "[1. 0. 0.] <-> [0.99417275 0.00111397 0.00471328]\n",
      "[1. 0. 0.] <-> [0.9960454  0.00133851 0.00261604]\n",
      "[1. 0. 0.] <-> [0.9946063  0.00377341 0.00162038]\n",
      "[1. 0. 0.] <-> [0.9967873  0.00127756 0.00193509]\n",
      "[1. 0. 0.] <-> [0.9965829  0.0018045  0.00161266]\n",
      "[1. 0. 0.] <-> [0.99697006 0.00135744 0.00167244]\n",
      "[1. 0. 0.] <-> [0.995906   0.00200168 0.00209233]\n",
      "[1. 0. 0.] <-> [0.9610118  0.03633877 0.00264931]\n",
      "[1. 0. 0.] <-> [0.9961773  0.00121524 0.0026075 ]\n",
      "[1. 0. 0.] <-> [0.9407162  0.00105985 0.05822393]\n",
      "[1. 0. 0.] <-> [0.5957925  0.0007384  0.40346912]\n",
      "[0. 0. 1.] <-> [5.4641003e-03 6.1565902e-06 9.9452978e-01]\n",
      "[1. 0. 0.] <-> [0.9953845  0.00319402 0.00142147]\n",
      "[1. 0. 0.] <-> [0.99189466 0.00109895 0.00700632]\n",
      "[1. 0. 0.] <-> [0.99287146 0.00111119 0.00601735]\n",
      "[1. 0. 0.] <-> [0.9969111  0.00119812 0.00189073]\n",
      "[1. 0. 0.] <-> [0.3241849  0.6737157  0.00209939]\n",
      "[0. 1. 0.] <-> [1.25491945e-02 9.87250030e-01 2.00819748e-04]\n",
      "[1. 0. 0.] <-> [0.78180695 0.21497998 0.00321298]\n",
      "[1. 0. 0.] <-> [0.9822894  0.015326   0.00238454]\n",
      "[1. 0. 0.] <-> [0.9179986  0.07910198 0.00289948]\n",
      "[1. 0. 0.] <-> [0.99387205 0.00116716 0.00496087]\n",
      "[0. 0. 1.] <-> [1.3273171e-02 1.4926330e-05 9.8671186e-01]\n",
      "[0. 0. 1.] <-> [4.7364771e-02 5.3214193e-05 9.5258206e-01]\n",
      "[0. 1. 0.] <-> [5.5843205e-03 9.9430686e-01 1.0876462e-04]\n",
      "[0. 0. 1.] <-> [1.0221463e-02 1.1513443e-05 9.8976701e-01]\n",
      "[1. 0. 0.] <-> [0.97638935 0.0211159  0.00249477]\n",
      "[1. 0. 0.] <-> [0.99607086 0.00243156 0.00149754]\n",
      "[1. 0. 0.] <-> [0.9970174  0.00114178 0.0018408 ]\n",
      "[1. 0. 0.] <-> [0.99659806 0.00123438 0.00216763]\n",
      "[0. 0. 1.] <-> [5.6964504e-03 6.4178239e-06 9.9429709e-01]\n",
      "[0. 0. 1.] <-> [5.4616183e-03 6.1538231e-06 9.9453223e-01]\n",
      "[0. 1. 0.] <-> [4.0029235e-02 9.5950407e-01 4.6667128e-04]\n",
      "[1. 0. 0.] <-> [0.9825445  0.00560939 0.0118461 ]\n",
      "[0. 0. 1.] <-> [0.5296152  0.0005907  0.46979415]\n",
      "[1. 0. 0.] <-> [0.9973042  0.00116302 0.00153278]\n",
      "[0. 1. 0.] <-> [5.5843205e-03 9.9430686e-01 1.0876908e-04]\n",
      "[1. 0. 0.] <-> [0.99669844 0.00160724 0.00169431]\n",
      "[1. 0. 0.] <-> [0.9940303  0.00406903 0.00190076]\n",
      "[1. 0. 0.] <-> [0.9963404  0.00133349 0.00232621]\n",
      "[1. 0. 0.] <-> [0.9923889  0.00126535 0.00634569]\n",
      "[1. 0. 0.] <-> [0.9921078  0.00265016 0.00524199]\n",
      "[0. 1. 0.] <-> [0.14481907 0.85398906 0.00119196]\n",
      "[1. 0. 0.] <-> [0.99715424 0.0012357  0.00161012]\n",
      "[0. 1. 0.] <-> [1.3526295e-02 9.8626965e-01 2.0406280e-04]\n",
      "[0. 1. 0.] <-> [5.6146174e-03 9.9427515e-01 1.1025897e-04]\n",
      "[1. 0. 0.] <-> [0.9910698  0.00609316 0.00283695]\n",
      "[1. 0. 0.] <-> [0.99704427 0.00153809 0.00141756]\n",
      "[1. 0. 0.] <-> [0.9967738  0.00178654 0.00143963]\n",
      "[1. 0. 0.] <-> [0.52559114 0.47113675 0.0032721 ]\n",
      "[0. 0. 1.] <-> [8.0539538e-03 9.0666435e-06 9.9193704e-01]\n",
      "[0. 1. 0.] <-> [1.41948145e-02 9.85586524e-01 2.18672329e-04]\n",
      "[1. 0. 0.] <-> [0.9956085  0.00245475 0.00193668]\n",
      "[1. 0. 0.] <-> [0.981673   0.00108786 0.01723912]\n",
      "[1. 0. 0.] <-> [0.9902486  0.00747799 0.00227335]\n",
      "[0. 1. 0.] <-> [6.4284294e-03 9.9344856e-01 1.2306189e-04]\n",
      "[1. 0. 0.] <-> [0.5826653  0.41375846 0.00357625]\n",
      "[1. 0. 0.] <-> [0.9966865  0.0015154  0.00179818]\n",
      "[0. 0. 1.] <-> [5.887088e-03 6.631740e-06 9.941063e-01]\n",
      "[1. 0. 0.] <-> [0.9953435  0.00274162 0.00191482]\n",
      "[1. 0. 0.] <-> [0.9950793  0.00163504 0.00328556]\n",
      "[0. 0. 1.] <-> [9.21721291e-03 1.03724105e-05 9.90772367e-01]\n",
      "[0. 0. 1.] <-> [9.2860544e-03 1.0566633e-05 9.9070334e-01]\n",
      "[1. 0. 0.] <-> [0.9963731  0.00214631 0.00148057]\n",
      "[1. 0. 0.] <-> [0.996851   0.00126022 0.00188872]\n",
      "[1. 0. 0.] <-> [0.99715257 0.00111233 0.00173498]\n",
      "[1. 0. 0.] <-> [0.98670596 0.01135046 0.00194366]\n",
      "[0. 1. 0.] <-> [5.6054806e-03 9.9428529e-01 1.0932715e-04]\n",
      "[0. 1. 0.] <-> [5.5843205e-03 9.9430686e-01 1.0879948e-04]\n",
      "[1. 0. 0.] <-> [0.9934156  0.00115278 0.00543165]\n",
      "[0. 1. 0.] <-> [5.5843471e-03 9.9430686e-01 1.0883850e-04]\n",
      "[0. 1. 0.] <-> [5.5843233e-03 9.9430686e-01 1.0876421e-04]\n",
      "[0. 0. 1.] <-> [5.4627340e-03 6.1559995e-06 9.9453110e-01]\n",
      "[1. 0. 0.] <-> [0.99643    0.001489   0.00208105]\n",
      "[1. 0. 0.] <-> [8.7554075e-02 9.1155988e-01 8.8606786e-04]\n",
      "[1. 0. 0.] <-> [0.99639696 0.00202578 0.0015773 ]\n",
      "[1. 0. 0.] <-> [0.99605125 0.00251699 0.00143176]\n",
      "[1. 0. 0.] <-> [0.9963586  0.00169984 0.00194156]\n",
      "[1. 0. 0.] <-> [0.9957385  0.00243579 0.00182574]\n",
      "[1. 0. 0.] <-> [0.7096612  0.2866659  0.00367293]\n",
      "[1. 0. 0.] <-> [0.9954099  0.00123281 0.00335727]\n",
      "[1. 0. 0.] <-> [0.9714065  0.00118503 0.02740857]\n",
      "[1. 0. 0.] <-> [0.99732375 0.00132748 0.00134869]\n",
      "[1. 0. 0.] <-> [0.9968087  0.00163898 0.00155226]\n",
      "[1. 0. 0.] <-> [0.99683434 0.00177133 0.00139437]\n",
      "[1. 0. 0.] <-> [0.9884744  0.00207969 0.00944593]\n",
      "[1. 0. 0.] <-> [0.9970059  0.00167925 0.00131488]\n",
      "[1. 0. 0.] <-> [1.03221215e-01 1.17087773e-04 8.96661699e-01]\n",
      "[0. 0. 1.] <-> [0.54237056 0.00062047 0.45700893]\n",
      "[1. 0. 0.] <-> [0.9967943  0.00118372 0.00202199]\n",
      "[0. 1. 0.] <-> [1.7213123e-02 9.8252672e-01 2.6018839e-04]\n",
      "[1. 0. 0.] <-> [0.9957129  0.00279023 0.00149688]\n",
      "[1. 0. 0.] <-> [0.98722494 0.00855824 0.00421681]\n",
      "[1. 0. 0.] <-> [0.9959388  0.00256101 0.00150025]\n",
      "[0. 1. 0.] <-> [5.5858023e-03 9.9430519e-01 1.0907024e-04]\n",
      "{'accuracy': 0.9691358024691358, 'mean_square_error': 0.0646797931159491, 'categorical_crossentropy': 0.10522135098775227, 'essential_metrics': {0: {'tp_hit': 75, 'fp_hit': 2, 'tn_hit': 28, 'fn_hit': 3}, 1: {'tp_hit': 16, 'fp_hit': 2, 'tn_hit': 90, 'fn_hit': 0}, 2: {'tp_hit': 12, 'fp_hit': 1, 'tn_hit': 93, 'fn_hit': 2}}}\n"
     ]
    }
   ],
   "source": [
    "# recall phase\n",
    "score = model.evaluate(x_test, y_test, False)\n",
    "print(score)"
   ]
  },
  {
   "cell_type": "code",
   "execution_count": 13,
   "metadata": {},
   "outputs": [
    {
     "name": "stdout",
     "output_type": "stream",
     "text": [
      "{'accuracy': 0.9753086419753086, 'mean_square_error': 0.09127900335591434, 'categorical_crossentropy': 0.19509107095223885, 'essential_metrics': {0: {'tp_hit': 77, 'fp_hit': 3, 'tn_hit': 27, 'fn_hit': 1}, 1: {'tp_hit': 15, 'fp_hit': 0, 'tn_hit': 92, 'fn_hit': 1}, 2: {'tp_hit': 12, 'fp_hit': 1, 'tn_hit': 93, 'fn_hit': 2}}, 'checkpoint': 100} \n",
      "\n",
      "\n",
      "{'accuracy': 0.9567901234567902, 'mean_square_error': 0.07897482742708917, 'categorical_crossentropy': 0.12685799598693848, 'essential_metrics': {0: {'tp_hit': 73, 'fp_hit': 2, 'tn_hit': 28, 'fn_hit': 5}, 1: {'tp_hit': 15, 'fp_hit': 4, 'tn_hit': 88, 'fn_hit': 1}, 2: {'tp_hit': 13, 'fp_hit': 1, 'tn_hit': 93, 'fn_hit': 1}}, 'checkpoint': 200} \n",
      "\n",
      "\n",
      "{'accuracy': 0.9691358024691358, 'mean_square_error': 0.06376277164905496, 'categorical_crossentropy': 0.10442786746554905, 'essential_metrics': {0: {'tp_hit': 75, 'fp_hit': 2, 'tn_hit': 28, 'fn_hit': 3}, 1: {'tp_hit': 16, 'fp_hit': 2, 'tn_hit': 90, 'fn_hit': 0}, 2: {'tp_hit': 12, 'fp_hit': 1, 'tn_hit': 93, 'fn_hit': 2}}, 'checkpoint': 300} \n",
      "\n",
      "\n",
      "{'accuracy': 0.9753086419753086, 'mean_square_error': 0.06504525822645947, 'categorical_crossentropy': 0.1068161681846336, 'essential_metrics': {0: {'tp_hit': 75, 'fp_hit': 1, 'tn_hit': 29, 'fn_hit': 3}, 1: {'tp_hit': 16, 'fp_hit': 2, 'tn_hit': 90, 'fn_hit': 0}, 2: {'tp_hit': 13, 'fp_hit': 1, 'tn_hit': 93, 'fn_hit': 1}}, 'checkpoint': 400} \n",
      "\n",
      "\n",
      "{'accuracy': 0.9691358024691358, 'mean_square_error': 0.0646797931159491, 'categorical_crossentropy': 0.10522135098775227, 'essential_metrics': {0: {'tp_hit': 75, 'fp_hit': 2, 'tn_hit': 28, 'fn_hit': 3}, 1: {'tp_hit': 16, 'fp_hit': 2, 'tn_hit': 90, 'fn_hit': 0}, 2: {'tp_hit': 12, 'fp_hit': 1, 'tn_hit': 93, 'fn_hit': 2}}, 'checkpoint': 500} \n",
      "\n",
      "\n"
     ]
    }
   ],
   "source": [
    "for checkpoint in checkpoints:\n",
    "    print(checkpoint, '\\n\\n')"
   ]
  },
  {
   "cell_type": "code",
   "execution_count": 14,
   "metadata": {},
   "outputs": [
    {
     "name": "stdout",
     "output_type": "stream",
     "text": [
      "Layer 1\n",
      "Neuron 0: weights:\n",
      "[ 1.9255513  -3.         -3.          0.77944094  1.6917375 ]\n",
      " bias: 3.0\n",
      "\n",
      "Neuron 1: weights:\n",
      "[ 0.14957133  3.         -0.2092238  -1.0865979  -3.        ]\n",
      " bias: 2.3367226123809814\n",
      "\n",
      "Neuron 2: weights:\n",
      "[ 0.1282283  -3.         -0.75598115  0.5770361   3.        ]\n",
      " bias: -3.0\n",
      "\n",
      "Neuron 3: weights:\n",
      "[ 2.1599493  -3.         -3.          0.9715095   0.88701063]\n",
      " bias: 3.0\n",
      "\n",
      "$\n",
      "Layer 2\n",
      "Neuron 0: weights:\n",
      "[ 3.  3. -3.  3.]\n",
      " bias: -3.0\n",
      "\n",
      "Neuron 1: weights:\n",
      "[-3.        3.       -2.970513 -3.      ]\n",
      " bias: 2.1820831298828125\n",
      "\n",
      "Neuron 2: weights:\n",
      "[ 2.2872455 -3.         3.         0.85583  ]\n",
      " bias: -0.9385482668876648\n",
      "\n",
      "$\n",
      "\n"
     ]
    }
   ],
   "source": [
    "print(model)"
   ]
  }
 ],
 "metadata": {
  "kernelspec": {
   "display_name": "Python 3",
   "language": "python",
   "name": "python3"
  },
  "language_info": {
   "codemirror_mode": {
    "name": "ipython",
    "version": 3
   },
   "file_extension": ".py",
   "mimetype": "text/x-python",
   "name": "python",
   "nbconvert_exporter": "python",
   "pygments_lexer": "ipython3",
   "version": "3.6.12"
  }
 },
 "nbformat": 4,
 "nbformat_minor": 2
}
