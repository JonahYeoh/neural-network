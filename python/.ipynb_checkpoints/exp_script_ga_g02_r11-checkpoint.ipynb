{
 "cells": [
  {
   "cell_type": "code",
   "execution_count": 1,
   "metadata": {},
   "outputs": [],
   "source": [
    "# single"
   ]
  },
  {
   "cell_type": "code",
   "execution_count": 2,
   "metadata": {},
   "outputs": [],
   "source": [
    "# dependency\n",
    "import numpy as np\n",
    "import pandas as pd\n",
    "import copy\n",
    "import math\n",
    "import sys\n",
    "import os\n",
    "from activations import relu, leaky_relu, sigmoid, tanh, softmax, d_sigmoid, d_relu\n",
    "from initializers import glorot_uniform, random_normal, random_uniform\n",
    "from regularizers import l1_regularizer, l2_regularizer\n",
    "from utility import trim_tail, multiply, subtract, get_nparams, one_hot_encoding, get_data\n",
    "from metrics import MSE, CCE, ACC, PRECISION, RECALL, essential_metrics, wondering_penalty, close_gap_penalty\n",
    "from pso import PSO\n",
    "from ga import GA\n",
    "from nn import Network\n",
    "from layer import DenseLayer\n",
    "from scalers import MinMaxScaler, StandardScaler"
   ]
  },
  {
   "cell_type": "code",
   "execution_count": 3,
   "metadata": {},
   "outputs": [],
   "source": [
    "# reference\n",
    "metrics_fn_dict = dict()\n",
    "metrics_fn_dict['accuracy'] = ACC\n",
    "metrics_fn_dict['categorical_crossentropy'] = CCE\n",
    "metrics_fn_dict['mean_square_error'] = MSE\n",
    "metrics_fn_dict['precision'] = PRECISION\n",
    "metrics_fn_dict['recall'] = RECALL\n",
    "metrics_fn_dict['essential_metrics'] = essential_metrics"
   ]
  },
  {
   "cell_type": "code",
   "execution_count": 4,
   "metadata": {},
   "outputs": [],
   "source": [
    "# model\n",
    "model = Network(5, lr = None)\n",
    "model.add_layer(DenseLayer(1, 4, True, afn=sigmoid, dafn=None, rfn=None))\n",
    "model.add_layer(DenseLayer(2, 3, True, afn=softmax, dafn=None, rfn=None))"
   ]
  },
  {
   "cell_type": "code",
   "execution_count": 5,
   "metadata": {},
   "outputs": [],
   "source": [
    "# optimizer\n",
    "ga = GA(\n",
    "    dict(\n",
    "        m = 50,\n",
    "        x_rate = [0.5, 1.0],\n",
    "        m_rate = [0.5, 1.0],\n",
    "        weight_constraint = [-3.,3.],\n",
    "        radioactive_rating = [0.1, 0.5],\n",
    "        grow_factor = [0.1, 0.5],\n",
    "        scale_hyperparameter = False,\n",
    "        regularizer = l2_regularizer))"
   ]
  },
  {
   "cell_type": "code",
   "execution_count": 6,
   "metadata": {},
   "outputs": [
    {
     "name": "stdout",
     "output_type": "stream",
     "text": [
      "building layer 1 with 5\n",
      "24\n",
      "building layer 2 with 4\n",
      "15\n"
     ]
    }
   ],
   "source": [
    "model.compile(loss_fn = 'categorical_crossentropy', optimizer = ga, \\\n",
    "    metrics = ['accuracy', 'mean_square_error', 'categorical_crossentropy', 'precision', 'recall', 'f1'])"
   ]
  },
  {
   "cell_type": "code",
   "execution_count": 7,
   "metadata": {},
   "outputs": [
    {
     "name": "stdout",
     "output_type": "stream",
     "text": [
      "<class 'pandas.core.frame.DataFrame'>\n",
      "RangeIndex: 107 entries, 0 to 106\n",
      "Data columns (total 6 columns):\n",
      " #   Column  Non-Null Count  Dtype  \n",
      "---  ------  --------------  -----  \n",
      " 0   f1      107 non-null    float32\n",
      " 1   f2      107 non-null    float32\n",
      " 2   f3      107 non-null    float32\n",
      " 3   f4      107 non-null    float32\n",
      " 4   f5      107 non-null    float32\n",
      " 5   label   107 non-null    float32\n",
      "dtypes: float32(6)\n",
      "memory usage: 2.6 KB\n",
      "None\n",
      "<class 'pandas.core.frame.DataFrame'>\n",
      "RangeIndex: 108 entries, 0 to 107\n",
      "Data columns (total 6 columns):\n",
      " #   Column  Non-Null Count  Dtype  \n",
      "---  ------  --------------  -----  \n",
      " 0   f1      108 non-null    float32\n",
      " 1   f2      108 non-null    float32\n",
      " 2   f3      108 non-null    float32\n",
      " 3   f4      108 non-null    float32\n",
      " 4   f5      108 non-null    float32\n",
      " 5   label   108 non-null    float32\n",
      "dtypes: float32(6)\n",
      "memory usage: 2.7 KB\n",
      "None\n"
     ]
    }
   ],
   "source": [
    "# data loading\n",
    "DATA = os.path.join('c:\\\\Users\\\\tcumi\\\\github_repo\\\\neural-network\\\\', 'dataset')\n",
    "GROUP = 2\n",
    "COLUMNS = ['f1', 'f2', 'f3', 'f4', 'f5', 'label']\n",
    "N_CLASS = 3\n",
    "EPOCHS = 500\n",
    "train_dir, test_dir = \"..//dataset//training_data{}.txt\".format(GROUP), \"..//dataset//testing_data{}.txt\".format(GROUP)\n",
    "train, test = get_data(DATA, train_dir, COLUMNS), get_data(DATA, test_dir, COLUMNS)\n",
    "# shuffle\n",
    "train, test = train.sample(frac=1), test.sample(frac=1)\n",
    "x_train, y_train = train.drop('label', axis=1), train['label']\n",
    "x_test, y_test = test.drop('label', axis=1), test['label']"
   ]
  },
  {
   "cell_type": "code",
   "execution_count": 8,
   "metadata": {},
   "outputs": [],
   "source": [
    "# data scaling and encoding\n",
    "scaler = StandardScaler(['f1', 'f2', 'f3', 'f4', 'f5'])\n",
    "scaler.fit(x_train)\n",
    "x_train = scaler.transform(x_train)\n",
    "x_test = scaler.transform(x_test)\n",
    "y_train = one_hot_encoding(y_train, N_CLASS)\n",
    "y_test = one_hot_encoding(y_test, N_CLASS)"
   ]
  },
  {
   "cell_type": "code",
   "execution_count": 9,
   "metadata": {
    "scrolled": true,
    "tags": [
     "outputPrepend"
    ]
   },
   "outputs": [
    {
     "name": "stderr",
     "output_type": "stream",
     "text": [
      "C:\\Users\\tcumi\\github_repo\\neural-network\\python\\activations.py:14: RuntimeWarning: overflow encountered in exp\n",
      "  y = 1 / (1 + np.exp(-Xi))\n",
      "C:\\Users\\tcumi\\Anaconda3\\envs\\py_3_6\\lib\\site-packages\\numpy\\core\\fromnumeric.py:87: VisibleDeprecationWarning: Creating an ndarray from ragged nested sequences (which is a list-or-tuple of lists-or-tuples-or ndarrays with different lengths or shapes) is deprecated. If you meant to do this, you must specify 'dtype=object' when creating the ndarray\n",
      "  return ufunc.reduce(obj, axis, dtype, out, **passkwargs)\n",
      "C:\\Users\\tcumi\\github_repo\\neural-network\\python\\ga.py:201: RuntimeWarning: overflow encountered in add\n",
      "  self.population.sort(key=lambda p: p.fitness + np.random.uniform(-shift, shift, 1), reverse = self.aim)\n",
      "C:\\Users\\tcumi\\Anaconda3\\envs\\py_3_6\\lib\\site-packages\\numpy\\core\\_asarray.py:136: VisibleDeprecationWarning: Creating an ndarray from ragged nested sequences (which is a list-or-tuple of lists-or-tuples-or ndarrays with different lengths or shapes) is deprecated. If you meant to do this, you must specify 'dtype=object' when creating the ndarray\n",
      "  return array(a, dtype, copy=False, order=order, subok=True)\n"
     ]
    },
    {
     "name": "stdout",
     "output_type": "stream",
     "text": [
      "Checkpoint 100, Accuracy: 0.9320987654320988, Loss: 0.3830097692984122\n",
      "Checkpoint 200, Accuracy: 0.9444444444444444, Loss: 0.34754071412263093\n",
      "Checkpoint 300, Accuracy: 0.9506172839506173, Loss: 0.3498353604917173\n",
      "Checkpoint 400, Accuracy: 0.9444444444444444, Loss: 0.3470896261709708\n",
      "Checkpoint 500, Accuracy: 0.9444444444444444, Loss: 0.36168066660563153\n"
     ]
    }
   ],
   "source": [
    "# learning phase\n",
    "breakpoint = 100\n",
    "checkpoints = list()\n",
    "history = list()\n",
    "for century in range(0, EPOCHS, breakpoint):\n",
    "    sub_history = model.fit(x_train, y_train, breakpoint, verbose = 0)\n",
    "    score = model.evaluate(x_test, y_test, False, verbose = 0)\n",
    "    print('Checkpoint {}, Accuracy: {}, Loss: {}'.format(century+breakpoint, score['accuracy'], score[model.loss_fn]))\n",
    "    score['checkpoint'] = century + breakpoint\n",
    "    checkpoints.append(score)\n",
    "    history.extend(sub_history)\n",
    "    itr = century + breakpoint\n",
    "    '''\n",
    "    model.optimizer.rr = model.optimizer.rr * 0.9\n",
    "    model.optimizer.gf = model.optimizer.gf * 0.9\n",
    "    model.optimizer.crossover_rate = model.optimizer.crossover_rate * 0.9\n",
    "    model.optimizer.mutation_rate = model.optimizer.mutation_rate * 1.1\n",
    "    '''\n",
    "    model.optimizer.rr = model.optimizer.radioactive_rating[1] - (model.optimizer.radioactive_rating[1] - model.optimizer.radioactive_rating[0]) / EPOCHS * (EPOCHS - itr)\n",
    "    model.optimizer.gf = model.optimizer.grow_factor[1] - (model.optimizer.grow_factor[1] - model.optimizer.grow_factor[0]) / EPOCHS * (EPOCHS - itr)\n",
    "    model.optimizer.crossover_rate = model.optimizer.x_rate[1] - (model.optimizer.x_rate[1] - model.optimizer.x_rate[0]) / EPOCHS * (EPOCHS - itr)\n",
    "    model.optimizer.mutation_rate = model.optimizer.m_rate[0] + (model.optimizer.m_rate[1] - model.optimizer.m_rate[0]) / EPOCHS * (EPOCHS - itr)\n",
    "    "
   ]
  },
  {
   "cell_type": "code",
   "execution_count": 10,
   "metadata": {},
   "outputs": [],
   "source": [
    "import matplotlib.pyplot as plt\n",
    "\n",
    "def draw_plot(x, y_list, x_label=None, y_label=None, legend=None, title=None):\n",
    "    fig, ax = plt.subplots(figsize=(12,5))\n",
    "    for xi, yi in zip(x, y_list):\n",
    "        ax.plot(xi, yi)\n",
    "    if x_label is not None and y_label is not None:\n",
    "        ax.set(xlabel=x_label, ylabel=y_label, title='{} VS {}'.format(x_label, y_label))\n",
    "    if legend is not None:\n",
    "        ax.legend(legend)\n",
    "    ax.grid()\n",
    "    plt.show()"
   ]
  },
  {
   "cell_type": "code",
   "execution_count": 11,
   "metadata": {},
   "outputs": [
    {
     "name": "stdout",
     "output_type": "stream",
     "text": [
      "[1. 0. 0.] <-> [0.8143796  0.12057393 0.06504654]\n",
      "[0. 0. 1.] <-> [0.7419578  0.08242466 0.17561756]\n",
      "[1. 0. 0.] <-> [0.824928   0.1347552  0.04031678]\n",
      "[1. 0. 0.] <-> [0.7925138  0.11258511 0.09490106]\n",
      "[1. 0. 0.] <-> [0.8208152  0.11557331 0.06361147]\n",
      "[1. 0. 0.] <-> [0.764157   0.17315418 0.06268881]\n",
      "[1. 0. 0.] <-> [0.7708053  0.1354203  0.09377442]\n",
      "[0. 1. 0.] <-> [0.68210787 0.27859843 0.03929371]\n",
      "[1. 0. 0.] <-> [0.70399135 0.1194279  0.17658079]\n",
      "[0. 1. 0.] <-> [0.29141012 0.68757504 0.02101487]\n",
      "[1. 0. 0.] <-> [0.8235928  0.10951734 0.06688984]\n",
      "[0. 0. 1.] <-> [0.3447079  0.06718002 0.5881121 ]\n",
      "[0. 1. 0.] <-> [0.19738427 0.788405   0.01421078]\n",
      "[0. 0. 1.] <-> [0.5133177  0.09941732 0.38726503]\n",
      "[0. 1. 0.] <-> [0.51837885 0.4490835  0.03253768]\n",
      "[0. 1. 0.] <-> [0.200314   0.78616714 0.01351885]\n",
      "[1. 0. 0.] <-> [0.73414785 0.20370305 0.06214914]\n",
      "[1. 0. 0.] <-> [0.6979764  0.23961039 0.06241316]\n",
      "[1. 0. 0.] <-> [0.8081341  0.1240541  0.06781178]\n",
      "[1. 0. 0.] <-> [0.8137359  0.11837515 0.06788892]\n",
      "[1. 0. 0.] <-> [0.79550534 0.09495148 0.10954312]\n",
      "[1. 0. 0.] <-> [0.80444396 0.14919621 0.0463599 ]\n",
      "[1. 0. 0.] <-> [0.7733936  0.09426372 0.13234271]\n",
      "[0. 0. 1.] <-> [0.3702055 0.0564752 0.5733193]\n",
      "[1. 0. 0.] <-> [0.8078091  0.10473117 0.08745968]\n",
      "[0. 1. 0.] <-> [0.39812014 0.57152504 0.03035484]\n",
      "[1. 0. 0.] <-> [0.82257813 0.12310269 0.05431913]\n",
      "[0. 1. 0.] <-> [0.382206   0.5872656  0.03052836]\n",
      "[1. 0. 0.] <-> [0.72074467 0.12510747 0.15414782]\n",
      "[1. 0. 0.] <-> [0.80457    0.13252689 0.06290312]\n",
      "[1. 0. 0.] <-> [0.78022355 0.14680621 0.07297021]\n",
      "[1. 0. 0.] <-> [0.77524495 0.17715919 0.04759579]\n",
      "[1. 0. 0.] <-> [0.78631425 0.12857898 0.08510679]\n",
      "[1. 0. 0.] <-> [0.7970693  0.10213843 0.10079221]\n",
      "[1. 0. 0.] <-> [0.77439713 0.10323264 0.12237028]\n",
      "[0. 0. 1.] <-> [0.79780847 0.07653108 0.1256605 ]\n",
      "[0. 0. 1.] <-> [0.23833758 0.09985941 0.661803  ]\n",
      "[1. 0. 0.] <-> [0.8286884  0.09730122 0.07401037]\n",
      "[1. 0. 0.] <-> [0.80543005 0.13359314 0.06097673]\n",
      "[1. 0. 0.] <-> [0.81590134 0.11260442 0.07149428]\n",
      "[0. 1. 0.] <-> [0.27903402 0.69822705 0.02273892]\n",
      "[1. 0. 0.] <-> [0.74076605 0.19796209 0.06127184]\n",
      "[1. 0. 0.] <-> [0.80736566 0.14212446 0.05050997]\n",
      "[1. 0. 0.] <-> [0.84754956 0.09963788 0.05281261]\n",
      "[1. 0. 0.] <-> [0.7089808  0.10415033 0.18686892]\n",
      "[0. 1. 0.] <-> [0.6664249  0.2971839  0.03639115]\n",
      "[1. 0. 0.] <-> [0.7011001  0.1236828  0.17521712]\n",
      "[1. 0. 0.] <-> [0.76650876 0.17060314 0.06288806]\n",
      "[0. 0. 1.] <-> [0.39112774 0.06061012 0.5482621 ]\n",
      "[1. 0. 0.] <-> [0.82446444 0.08705157 0.08848405]\n",
      "[1. 0. 0.] <-> [0.78585196 0.1419093  0.07223885]\n",
      "[0. 0. 1.] <-> [0.32371008 0.05781282 0.6184771 ]\n",
      "[1. 0. 0.] <-> [0.76806873 0.18538941 0.04654181]\n",
      "[1. 0. 0.] <-> [0.80846006 0.10674185 0.08479811]\n",
      "[0. 0. 1.] <-> [0.33463165 0.05809868 0.60726964]\n",
      "[1. 0. 0.] <-> [0.8152728  0.09665322 0.08807403]\n",
      "[1. 0. 0.] <-> [0.77039033 0.1425723  0.0870373 ]\n",
      "[1. 0. 0.] <-> [0.79871494 0.12594819 0.07533691]\n",
      "[1. 0. 0.] <-> [0.81763387 0.09730573 0.08506045]\n",
      "[1. 0. 0.] <-> [0.821672   0.11960775 0.05872022]\n",
      "[1. 0. 0.] <-> [0.73375183 0.16372316 0.10252503]\n",
      "[1. 0. 0.] <-> [0.7163359  0.09170983 0.19195427]\n",
      "[1. 0. 0.] <-> [0.72002476 0.23297827 0.04699699]\n",
      "[0. 0. 1.] <-> [0.35948592 0.06839014 0.57212394]\n",
      "[1. 0. 0.] <-> [0.7817197  0.15600024 0.06228013]\n",
      "[0. 0. 1.] <-> [0.34008497 0.0511604  0.60875463]\n",
      "[1. 0. 0.] <-> [0.773827   0.09381196 0.13236107]\n",
      "[1. 0. 0.] <-> [0.76205546 0.19406414 0.04388046]\n",
      "[0. 1. 0.] <-> [0.5315573  0.43483964 0.03360303]\n",
      "[1. 0. 0.] <-> [0.78069454 0.11714997 0.10215554]\n",
      "[1. 0. 0.] <-> [0.72114146 0.16436478 0.11449372]\n",
      "[1. 0. 0.] <-> [0.81438327 0.119401   0.06621565]\n",
      "[1. 0. 0.] <-> [0.83254445 0.11247209 0.05498349]\n",
      "[0. 1. 0.] <-> [0.65090686 0.3134683  0.03562489]\n",
      "[1. 0. 0.] <-> [0.8055067  0.13697352 0.05751979]\n",
      "[1. 0. 0.] <-> [0.8353805  0.08609901 0.07852048]\n",
      "[1. 0. 0.] <-> [0.8112405  0.14089765 0.04786183]\n",
      "[1. 0. 0.] <-> [0.83244586 0.09627989 0.07127424]\n",
      "[1. 0. 0.] <-> [0.8375302  0.08490691 0.07756285]\n",
      "[1. 0. 0.] <-> [0.8044029  0.14898692 0.04661018]\n",
      "[1. 0. 0.] <-> [0.82468283 0.08708875 0.08822837]\n",
      "[1. 0. 0.] <-> [0.7654505  0.12999503 0.10455444]\n",
      "[1. 0. 0.] <-> [0.8177581  0.12781458 0.05442733]\n",
      "[0. 0. 1.] <-> [0.23388799 0.10216554 0.6639465 ]\n",
      "[0. 1. 0.] <-> [0.24024966 0.7411421  0.01860819]\n",
      "[1. 0. 0.] <-> [0.7763738  0.12549853 0.0981276 ]\n",
      "[1. 0. 0.] <-> [0.8248504  0.12002517 0.05512444]\n",
      "[0. 1. 0.] <-> [0.5891075  0.37598377 0.03490876]\n",
      "[1. 0. 0.] <-> [0.84326714 0.08217168 0.07456122]\n",
      "[1. 0. 0.] <-> [0.8022502  0.09047372 0.10727605]\n",
      "[1. 0. 0.] <-> [0.790638   0.16355523 0.04580671]\n",
      "[1. 0. 0.] <-> [0.79510975 0.1323755  0.07251473]\n",
      "[0. 1. 0.] <-> [0.47431895 0.4936033  0.03207778]\n",
      "[1. 0. 0.] <-> [0.7721283  0.08650643 0.14136529]\n",
      "[1. 0. 0.] <-> [0.51837367 0.10936793 0.37225837]\n",
      "[1. 0. 0.] <-> [0.70997477 0.12495826 0.16506696]\n",
      "[1. 0. 0.] <-> [0.8507572  0.09442226 0.05482053]\n",
      "[1. 0. 0.] <-> [0.7769654  0.16533941 0.05769518]\n",
      "[1. 0. 0.] <-> [0.84912306 0.09311742 0.05775955]\n",
      "[1. 0. 0.] <-> [0.7613348  0.13367146 0.10499375]\n",
      "[1. 0. 0.] <-> [0.793669   0.14458632 0.06174469]\n",
      "[1. 0. 0.] <-> [0.7807192  0.11336096 0.10591972]\n",
      "[1. 0. 0.] <-> [0.82338786 0.08613413 0.09047803]\n",
      "[1. 0. 0.] <-> [0.6998931  0.26181743 0.03828954]\n",
      "[1. 0. 0.] <-> [0.7995152  0.1119945  0.08849025]\n",
      "[0. 0. 1.] <-> [0.22096963 0.11465431 0.664376  ]\n",
      "[1. 0. 0.] <-> [0.8264271  0.08084754 0.09272532]\n",
      "[0. 1. 0.] <-> [0.20194742 0.7840546  0.01399789]\n",
      "{'accuracy': 0.9444444444444444, 'mean_square_error': 0.17242296249413375, 'categorical_crossentropy': 0.36168066660563153, 'precision': 0.9166666666666666, 'recall': 0.9166666666666666, 'f1': 0.9166666666666666, 'essential_metrics': {0: {'tp_hit': 80, 'fp_hit': 9, 'tn_hit': 19, 'fn_hit': 0}, 1: {'tp_hit': 9, 'fp_hit': 0, 'tn_hit': 93, 'fn_hit': 6}, 2: {'tp_hit': 10, 'fp_hit': 0, 'tn_hit': 95, 'fn_hit': 3}}}\n"
     ]
    }
   ],
   "source": [
    "# recall phase\n",
    "score = model.evaluate(x_test, y_test, False)\n",
    "print(score)"
   ]
  },
  {
   "cell_type": "code",
   "execution_count": 12,
   "metadata": {},
   "outputs": [],
   "source": [
    "# Testing Performance"
   ]
  },
  {
   "cell_type": "code",
   "execution_count": 13,
   "metadata": {},
   "outputs": [
    {
     "name": "stderr",
     "output_type": "stream",
     "text": [
      "C:\\Users\\tcumi\\Anaconda3\\envs\\py_3_6\\lib\\site-packages\\numpy\\core\\_asarray.py:136: VisibleDeprecationWarning: Creating an ndarray from ragged nested sequences (which is a list-or-tuple of lists-or-tuples-or ndarrays with different lengths or shapes) is deprecated. If you meant to do this, you must specify 'dtype=object' when creating the ndarray\n",
      "  return array(a, dtype, copy=False, order=order, subok=True)\n"
     ]
    },
    {
     "data": {
      "image/png": "[encoded data removed]",
      "text/plain": [
       "<Figure size 864x360 with 1 Axes>"
      ]
     },
     "metadata": {
      "needs_background": "light"
     },
     "output_type": "display_data"
    },
    {
     "data": {
      "image/png": "[encoded data removed]",
      "text/plain": [
       "<Figure size 864x360 with 1 Axes>"
      ]
     },
     "metadata": {
      "needs_background": "light"
     },
     "output_type": "display_data"
    }
   ],
   "source": [
    "draw_plot(x = [[i for i in range(len(history))], [(i+1)*breakpoint for i in range(len(checkpoints))]], y_list = [history, [ ckp[model.loss_fn] for ckp in checkpoints ]], x_label = 'Epochs', \\\n",
    "    y_label = model.loss_fn, legend=['train', 'test'])\n",
    "acc = [ ckp['accuracy'] for ckp in checkpoints ]\n",
    "draw_plot(x = [[(i+1)*breakpoint for i in range(len(checkpoints))]], y_list = [acc], x_label = 'Checkpoints', \\\n",
    "    y_label = 'accuracy')"
   ]
  },
  {
   "cell_type": "code",
   "execution_count": 14,
   "metadata": {
    "scrolled": false
   },
   "outputs": [
    {
     "name": "stdout",
     "output_type": "stream",
     "text": [
      "{'accuracy': 0.9320987654320988, 'mean_square_error': 0.18687664664551026, 'categorical_crossentropy': 0.3830097692984122, 'precision': 0.8981481481481481, 'recall': 0.8981481481481481, 'f1': 0.8981481481481481, 'essential_metrics': {0: {'tp_hit': 79, 'fp_hit': 8, 'tn_hit': 20, 'fn_hit': 1}, 1: {'tp_hit': 10, 'fp_hit': 2, 'tn_hit': 91, 'fn_hit': 5}, 2: {'tp_hit': 8, 'fp_hit': 1, 'tn_hit': 94, 'fn_hit': 5}}, 'checkpoint': 100} \n",
      "\n",
      "\n",
      "{'accuracy': 0.9444444444444444, 'mean_square_error': 0.16563355283802375, 'categorical_crossentropy': 0.34754071412263093, 'precision': 0.9166666666666666, 'recall': 0.9166666666666666, 'f1': 0.9166666666666666, 'essential_metrics': {0: {'tp_hit': 79, 'fp_hit': 8, 'tn_hit': 20, 'fn_hit': 1}, 1: {'tp_hit': 10, 'fp_hit': 0, 'tn_hit': 93, 'fn_hit': 5}, 2: {'tp_hit': 10, 'fp_hit': 1, 'tn_hit': 94, 'fn_hit': 3}}, 'checkpoint': 200} \n",
      "\n",
      "\n",
      "{'accuracy': 0.9506172839506173, 'mean_square_error': 0.16348720219410598, 'categorical_crossentropy': 0.3498353604917173, 'precision': 0.9259259259259259, 'recall': 0.9259259259259259, 'f1': 0.9259259259259259, 'essential_metrics': {0: {'tp_hit': 80, 'fp_hit': 8, 'tn_hit': 20, 'fn_hit': 0}, 1: {'tp_hit': 10, 'fp_hit': 0, 'tn_hit': 93, 'fn_hit': 5}, 2: {'tp_hit': 10, 'fp_hit': 0, 'tn_hit': 95, 'fn_hit': 3}}, 'checkpoint': 300} \n",
      "\n",
      "\n",
      "{'accuracy': 0.9444444444444444, 'mean_square_error': 0.1648085918083305, 'categorical_crossentropy': 0.3470896261709708, 'precision': 0.9166666666666666, 'recall': 0.9166666666666666, 'f1': 0.9166666666666666, 'essential_metrics': {0: {'tp_hit': 80, 'fp_hit': 9, 'tn_hit': 19, 'fn_hit': 0}, 1: {'tp_hit': 9, 'fp_hit': 0, 'tn_hit': 93, 'fn_hit': 6}, 2: {'tp_hit': 10, 'fp_hit': 0, 'tn_hit': 95, 'fn_hit': 3}}, 'checkpoint': 400} \n",
      "\n",
      "\n",
      "{'accuracy': 0.9444444444444444, 'mean_square_error': 0.17242296249413375, 'categorical_crossentropy': 0.36168066660563153, 'precision': 0.9166666666666666, 'recall': 0.9166666666666666, 'f1': 0.9166666666666666, 'essential_metrics': {0: {'tp_hit': 80, 'fp_hit': 9, 'tn_hit': 19, 'fn_hit': 0}, 1: {'tp_hit': 9, 'fp_hit': 0, 'tn_hit': 93, 'fn_hit': 6}, 2: {'tp_hit': 10, 'fp_hit': 0, 'tn_hit': 95, 'fn_hit': 3}}, 'checkpoint': 500} \n",
      "\n",
      "\n"
     ]
    }
   ],
   "source": [
    "for checkpoint in checkpoints:\n",
    "    print(checkpoint, '\\n\\n')"
   ]
  },
  {
   "cell_type": "code",
   "execution_count": 15,
   "metadata": {},
   "outputs": [
    {
     "name": "stdout",
     "output_type": "stream",
     "text": [
      "Layer 1\n",
      "Neuron 0: weights:\n",
      "[-0.0430049   0.51799005  0.39381272 -0.8872093  -0.859958  ]\n",
      " bias: 0.15959876775741577\n",
      "\n",
      "Neuron 1: weights:\n",
      "[-0.57750034  0.5917295   0.37310454  0.10769554  0.11700574]\n",
      " bias: -0.6585838198661804\n",
      "\n",
      "Neuron 2: weights:\n",
      "[-0.33646607  0.61701417  0.11357912 -0.8549843  -1.1209135 ]\n",
      " bias: 0.3958762586116791\n",
      "\n",
      "Neuron 3: weights:\n",
      "[-0.68807155  1.6160133   0.8570598   0.5172443   0.2436131 ]\n",
      " bias: -0.930220365524292\n",
      "\n",
      "$\n",
      "Layer 2\n",
      "Neuron 0: weights:\n",
      "[ 0.9304943  -0.84130424  1.4324664  -1.4023149 ]\n",
      " bias: 0.5560938715934753\n",
      "\n",
      "Neuron 1: weights:\n",
      "[0.7116026  0.43623608 0.60119927 1.8808374 ]\n",
      " bias: -1.5084316730499268\n",
      "\n",
      "Neuron 2: weights:\n",
      "[-1.42957    -0.46679634 -1.4432184   0.08875999]\n",
      " bias: 1.0956093072891235\n",
      "\n",
      "$\n",
      "\n"
     ]
    }
   ],
   "source": [
    "print(model)"
   ]
  }
 ],
 "metadata": {
  "kernelspec": {
   "display_name": "Python 3",
   "language": "python",
   "name": "python3"
  },
  "language_info": {
   "codemirror_mode": {
    "name": "ipython",
    "version": 3
   },
   "file_extension": ".py",
   "mimetype": "text/x-python",
   "name": "python",
   "nbconvert_exporter": "python",
   "pygments_lexer": "ipython3",
   "version": "3.6.10"
  }
 },
 "nbformat": 4,
 "nbformat_minor": 2
}
