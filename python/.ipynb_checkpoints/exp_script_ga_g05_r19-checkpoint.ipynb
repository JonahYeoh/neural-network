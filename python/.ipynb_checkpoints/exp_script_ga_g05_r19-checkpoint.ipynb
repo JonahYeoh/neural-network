{
 "cells": [
  {
   "cell_type": "code",
   "execution_count": 1,
   "metadata": {},
   "outputs": [],
   "source": [
    "# two"
   ]
  },
  {
   "cell_type": "code",
   "execution_count": 2,
   "metadata": {},
   "outputs": [],
   "source": [
    "# dependency\n",
    "import numpy as np\n",
    "import pandas as pd\n",
    "import copy\n",
    "import math\n",
    "import sys\n",
    "import os\n",
    "from activations import relu, leaky_relu, sigmoid, tanh, softmax, d_sigmoid, d_relu\n",
    "from initializers import glorot_uniform, random_normal, random_uniform\n",
    "from regularizers import l1_regularizer, l2_regularizer\n",
    "from utility import trim_tail, multiply, subtract, get_nparams, one_hot_encoding, get_data\n",
    "from metrics import MSE, CCE, ACC, PRECISION, RECALL, essential_metrics, wondering_penalty, close_gap_penalty\n",
    "from pso import PSO\n",
    "from ga import GA\n",
    "from nn import Network\n",
    "from layer import DenseLayer\n",
    "from scalers import MinMaxScaler, StandardScaler"
   ]
  },
  {
   "cell_type": "code",
   "execution_count": 3,
   "metadata": {},
   "outputs": [],
   "source": [
    "# reference\n",
    "metrics_fn_dict = dict()\n",
    "metrics_fn_dict['accuracy'] = ACC\n",
    "metrics_fn_dict['categorical_crossentropy'] = CCE\n",
    "metrics_fn_dict['mean_square_error'] = MSE\n",
    "metrics_fn_dict['precision'] = PRECISION\n",
    "metrics_fn_dict['recall'] = RECALL\n",
    "metrics_fn_dict['essential_metrics'] = essential_metrics"
   ]
  },
  {
   "cell_type": "code",
   "execution_count": 4,
   "metadata": {},
   "outputs": [],
   "source": [
    "# model\n",
    "model = Network(5, lr = None)\n",
    "model.add_layer(DenseLayer(1, 4, True, afn=sigmoid, dafn=None, rfn=None))\n",
    "model.add_layer(DenseLayer(2, 3, True, afn=softmax, dafn=None, rfn=None))"
   ]
  },
  {
   "cell_type": "code",
   "execution_count": 5,
   "metadata": {},
   "outputs": [],
   "source": [
    "# optimizer\n",
    "ga = GA(\n",
    "    dict(\n",
    "        m = 50,\n",
    "        x_rate = [0.5, 1.0],\n",
    "        m_rate = [0.5, 1.0],\n",
    "        weight_constraint = [-3.,3.],\n",
    "        radioactive_rating = [0.1, 0.5],\n",
    "        grow_factor = [0.1, 0.5],\n",
    "        scale_hyperparameter = False,\n",
    "        regularizer = l2_regularizer))"
   ]
  },
  {
   "cell_type": "code",
   "execution_count": 6,
   "metadata": {},
   "outputs": [
    {
     "name": "stdout",
     "output_type": "stream",
     "text": [
      "building layer 1 with 5\n",
      "24\n",
      "building layer 2 with 4\n",
      "15\n"
     ]
    }
   ],
   "source": [
    "model.compile(loss_fn = 'categorical_crossentropy', optimizer = ga, \\\n",
    "    metrics = ['accuracy', 'mean_square_error', 'categorical_crossentropy', 'precision', 'recall', 'f1'])"
   ]
  },
  {
   "cell_type": "code",
   "execution_count": 7,
   "metadata": {},
   "outputs": [
    {
     "name": "stdout",
     "output_type": "stream",
     "text": [
      "<class 'pandas.core.frame.DataFrame'>\n",
      "RangeIndex: 107 entries, 0 to 106\n",
      "Data columns (total 6 columns):\n",
      " #   Column  Non-Null Count  Dtype  \n",
      "---  ------  --------------  -----  \n",
      " 0   f1      107 non-null    float32\n",
      " 1   f2      107 non-null    float32\n",
      " 2   f3      107 non-null    float32\n",
      " 3   f4      107 non-null    float32\n",
      " 4   f5      107 non-null    float32\n",
      " 5   label   107 non-null    float32\n",
      "dtypes: float32(6)\n",
      "memory usage: 2.6 KB\n",
      "None\n",
      "<class 'pandas.core.frame.DataFrame'>\n",
      "RangeIndex: 108 entries, 0 to 107\n",
      "Data columns (total 6 columns):\n",
      " #   Column  Non-Null Count  Dtype  \n",
      "---  ------  --------------  -----  \n",
      " 0   f1      108 non-null    float32\n",
      " 1   f2      108 non-null    float32\n",
      " 2   f3      108 non-null    float32\n",
      " 3   f4      108 non-null    float32\n",
      " 4   f5      108 non-null    float32\n",
      " 5   label   108 non-null    float32\n",
      "dtypes: float32(6)\n",
      "memory usage: 2.7 KB\n",
      "None\n"
     ]
    }
   ],
   "source": [
    "# data loading\n",
    "DATA = os.path.join('c:\\\\Users\\\\tcumi\\\\github_repo\\\\neural-network\\\\', 'dataset')\n",
    "GROUP = 5\n",
    "COLUMNS = ['f1', 'f2', 'f3', 'f4', 'f5', 'label']\n",
    "N_CLASS = 3\n",
    "EPOCHS = 500\n",
    "train_dir, test_dir = \"..//dataset//training_data{}.txt\".format(GROUP), \"..//dataset//testing_data{}.txt\".format(GROUP)\n",
    "train, test = get_data(DATA, train_dir, COLUMNS), get_data(DATA, test_dir, COLUMNS)\n",
    "# shuffle\n",
    "train, test = train.sample(frac=1), test.sample(frac=1)\n",
    "x_train, y_train = train.drop('label', axis=1), train['label']\n",
    "x_test, y_test = test.drop('label', axis=1), test['label']"
   ]
  },
  {
   "cell_type": "code",
   "execution_count": 8,
   "metadata": {},
   "outputs": [],
   "source": [
    "# data scaling and encoding\n",
    "scaler = StandardScaler(['f1', 'f2', 'f3', 'f4', 'f5'])\n",
    "scaler.fit(x_train)\n",
    "x_train = scaler.transform(x_train)\n",
    "x_test = scaler.transform(x_test)\n",
    "y_train = one_hot_encoding(y_train, N_CLASS)\n",
    "y_test = one_hot_encoding(y_test, N_CLASS)"
   ]
  },
  {
   "cell_type": "code",
   "execution_count": 9,
   "metadata": {
    "scrolled": true,
    "tags": [
     "outputPrepend"
    ]
   },
   "outputs": [
    {
     "name": "stderr",
     "output_type": "stream",
     "text": [
      "C:\\Users\\tcumi\\github_repo\\neural-network\\python\\activations.py:14: RuntimeWarning: overflow encountered in exp\n",
      "  y = 1 / (1 + np.exp(-Xi))\n",
      "C:\\Users\\tcumi\\Anaconda3\\envs\\py_3_6\\lib\\site-packages\\numpy\\core\\fromnumeric.py:87: VisibleDeprecationWarning: Creating an ndarray from ragged nested sequences (which is a list-or-tuple of lists-or-tuples-or ndarrays with different lengths or shapes) is deprecated. If you meant to do this, you must specify 'dtype=object' when creating the ndarray\n",
      "  return ufunc.reduce(obj, axis, dtype, out, **passkwargs)\n",
      "C:\\Users\\tcumi\\github_repo\\neural-network\\python\\ga.py:201: RuntimeWarning: overflow encountered in add\n",
      "  self.population.sort(key=lambda p: p.fitness + np.random.uniform(-shift, shift, 1), reverse = self.aim)\n",
      "C:\\Users\\tcumi\\Anaconda3\\envs\\py_3_6\\lib\\site-packages\\numpy\\core\\_asarray.py:136: VisibleDeprecationWarning: Creating an ndarray from ragged nested sequences (which is a list-or-tuple of lists-or-tuples-or ndarrays with different lengths or shapes) is deprecated. If you meant to do this, you must specify 'dtype=object' when creating the ndarray\n",
      "  return array(a, dtype, copy=False, order=order, subok=True)\n"
     ]
    },
    {
     "name": "stdout",
     "output_type": "stream",
     "text": [
      "Checkpoint 100, Accuracy: 0.9012345679012346, Loss: 0.4341686390064381\n",
      "Checkpoint 200, Accuracy: 0.8950617283950617, Loss: 0.4189390606350369\n",
      "Checkpoint 300, Accuracy: 0.9074074074074074, Loss: 0.4101628197564019\n",
      "Checkpoint 400, Accuracy: 0.9259259259259259, Loss: 0.3886005613538954\n",
      "Checkpoint 500, Accuracy: 0.9259259259259259, Loss: 0.37589550018310547\n"
     ]
    }
   ],
   "source": [
    "# learning phase\n",
    "breakpoint = 100\n",
    "checkpoints = list()\n",
    "history = list()\n",
    "for century in range(0, EPOCHS, breakpoint):\n",
    "    sub_history = model.fit(x_train, y_train, breakpoint, verbose = 0)\n",
    "    score = model.evaluate(x_test, y_test, False, verbose = 0)\n",
    "    print('Checkpoint {}, Accuracy: {}, Loss: {}'.format(century+breakpoint, score['accuracy'], score[model.loss_fn]))\n",
    "    score['checkpoint'] = century + breakpoint\n",
    "    checkpoints.append(score)\n",
    "    history.extend(sub_history)\n",
    "    itr = century + breakpoint\n",
    "    '''\n",
    "    model.optimizer.rr = model.optimizer.rr * 0.9\n",
    "    model.optimizer.gf = model.optimizer.gf * 0.9\n",
    "    model.optimizer.crossover_rate = model.optimizer.crossover_rate * 0.9\n",
    "    model.optimizer.mutation_rate = model.optimizer.mutation_rate * 1.1\n",
    "    '''\n",
    "    model.optimizer.rr = model.optimizer.radioactive_rating[1] - (model.optimizer.radioactive_rating[1] - model.optimizer.radioactive_rating[0]) / EPOCHS * (EPOCHS - itr)\n",
    "    model.optimizer.gf = model.optimizer.grow_factor[1] - (model.optimizer.grow_factor[1] - model.optimizer.grow_factor[0]) / EPOCHS * (EPOCHS - itr)\n",
    "    model.optimizer.crossover_rate = model.optimizer.x_rate[1] - (model.optimizer.x_rate[1] - model.optimizer.x_rate[0]) / EPOCHS * (EPOCHS - itr)\n",
    "    model.optimizer.mutation_rate = model.optimizer.m_rate[0] + (model.optimizer.m_rate[1] - model.optimizer.m_rate[0]) / EPOCHS * (EPOCHS - itr)\n",
    "    "
   ]
  },
  {
   "cell_type": "code",
   "execution_count": 10,
   "metadata": {},
   "outputs": [],
   "source": [
    "import matplotlib.pyplot as plt\n",
    "\n",
    "def draw_plot(x, y_list, x_label=None, y_label=None, legend=None, title=None):\n",
    "    fig, ax = plt.subplots(figsize=(12,5))\n",
    "    for xi, yi in zip(x, y_list):\n",
    "        ax.plot(xi, yi)\n",
    "    if x_label is not None and y_label is not None:\n",
    "        ax.set(xlabel=x_label, ylabel=y_label, title='{} VS {}'.format(x_label, y_label))\n",
    "    if legend is not None:\n",
    "        ax.legend(legend)\n",
    "    ax.grid()\n",
    "    plt.show()"
   ]
  },
  {
   "cell_type": "code",
   "execution_count": 11,
   "metadata": {},
   "outputs": [
    {
     "name": "stdout",
     "output_type": "stream",
     "text": [
      "[0. 1. 0.] <-> [0.2573568  0.72393996 0.01870319]\n",
      "[1. 0. 0.] <-> [0.8394965  0.06132944 0.09917406]\n",
      "[0. 0. 1.] <-> [0.8018076  0.03583184 0.16236058]\n",
      "[1. 0. 0.] <-> [0.83145076 0.03084074 0.13770853]\n",
      "[0. 0. 1.] <-> [0.8216062  0.03386052 0.14453325]\n",
      "[1. 0. 0.] <-> [0.84936446 0.02649421 0.12414127]\n",
      "[0. 1. 0.] <-> [0.24832165 0.72999984 0.02167851]\n",
      "[1. 0. 0.] <-> [0.7528255  0.05397446 0.19320013]\n",
      "[1. 0. 0.] <-> [0.79083437 0.1321742  0.07699144]\n",
      "[1. 0. 0.] <-> [0.7856269  0.06532314 0.14904995]\n",
      "[1. 0. 0.] <-> [0.7498481  0.12120913 0.12894276]\n",
      "[1. 0. 0.] <-> [0.7297352  0.07214915 0.19811568]\n",
      "[1. 0. 0.] <-> [0.7549756  0.18446492 0.06055942]\n",
      "[1. 0. 0.] <-> [0.79387635 0.10535145 0.1007722 ]\n",
      "[1. 0. 0.] <-> [0.8703481  0.03218265 0.09746925]\n",
      "[1. 0. 0.] <-> [0.793105   0.05371514 0.15317988]\n",
      "[1. 0. 0.] <-> [0.7195616  0.11769008 0.16274835]\n",
      "[1. 0. 0.] <-> [0.74780035 0.14563596 0.10656375]\n",
      "[1. 0. 0.] <-> [0.7757404  0.06885196 0.15540773]\n",
      "[1. 0. 0.] <-> [0.8294713  0.07256395 0.09796479]\n",
      "[0. 1. 0.] <-> [0.6261273  0.33704445 0.03682821]\n",
      "[1. 0. 0.] <-> [0.7849127  0.08160906 0.13347813]\n",
      "[1. 0. 0.] <-> [0.8492623  0.09698572 0.05375195]\n",
      "[1. 0. 0.] <-> [0.8131699  0.05412422 0.1327059 ]\n",
      "[1. 0. 0.] <-> [0.8386798  0.03448945 0.12683073]\n",
      "[1. 0. 0.] <-> [0.83314544 0.1011199  0.06573463]\n",
      "[1. 0. 0.] <-> [0.81782806 0.08771998 0.09445196]\n",
      "[0. 1. 0.] <-> [0.61938   0.3515119 0.0291081]\n",
      "[1. 0. 0.] <-> [0.8245843  0.11404081 0.06137487]\n",
      "[1. 0. 0.] <-> [0.77688843 0.10841099 0.11470068]\n",
      "[1. 0. 0.] <-> [0.8147881  0.03798582 0.14722602]\n",
      "[0. 1. 0.] <-> [0.3670436 0.6143638 0.0185926]\n",
      "[0. 0. 1.] <-> [0.71717125 0.03322356 0.2496052 ]\n",
      "[1. 0. 0.] <-> [0.808636   0.10790023 0.08346371]\n",
      "[0. 0. 1.] <-> [0.4897236  0.0195997  0.49067676]\n",
      "[0. 0. 1.] <-> [0.2561443  0.02625433 0.71760136]\n",
      "[0. 0. 1.] <-> [0.29146978 0.02407492 0.68445534]\n",
      "[1. 0. 0.] <-> [0.72067255 0.21950428 0.05982313]\n",
      "[1. 0. 0.] <-> [0.8350065  0.09865025 0.06634328]\n",
      "[1. 0. 0.] <-> [0.72184825 0.05771013 0.22044161]\n",
      "[0. 0. 1.] <-> [0.5833729  0.01878488 0.3978422 ]\n",
      "[1. 0. 0.] <-> [0.8379451  0.07871187 0.08334298]\n",
      "[1. 0. 0.] <-> [0.81371695 0.03849391 0.14778906]\n",
      "[1. 0. 0.] <-> [0.8419065  0.07561526 0.08247824]\n",
      "[0. 1. 0.] <-> [0.64167726 0.32959074 0.02873198]\n",
      "[1. 0. 0.] <-> [0.8436647  0.03450835 0.12182687]\n",
      "[0. 0. 1.] <-> [0.13790554 0.03709695 0.82499754]\n",
      "[1. 0. 0.] <-> [0.8132601  0.08183037 0.10490958]\n",
      "[1. 0. 0.] <-> [0.79452175 0.11626653 0.08921175]\n",
      "[1. 0. 0.] <-> [0.7414548  0.21305346 0.04549174]\n",
      "[1. 0. 0.] <-> [0.8658797  0.06861486 0.06550544]\n",
      "[1. 0. 0.] <-> [0.8672322  0.05225288 0.08051491]\n",
      "[1. 0. 0.] <-> [0.73483175 0.07180972 0.19335854]\n",
      "[1. 0. 0.] <-> [0.8647248  0.05805621 0.077219  ]\n",
      "[0. 0. 1.] <-> [0.18858749 0.0328109  0.7786015 ]\n",
      "[1. 0. 0.] <-> [0.76010233 0.10013538 0.13976222]\n",
      "[1. 0. 0.] <-> [0.79640955 0.14810838 0.05548213]\n",
      "[1. 0. 0.] <-> [0.83369714 0.08748089 0.07882196]\n",
      "[1. 0. 0.] <-> [0.78466326 0.15672709 0.05860967]\n",
      "[1. 0. 0.] <-> [0.75112754 0.06433402 0.18453845]\n",
      "[0. 1. 0.] <-> [0.67939234 0.28299975 0.03760791]\n",
      "[1. 0. 0.] <-> [0.821802   0.08986954 0.08832844]\n",
      "[0. 1. 0.] <-> [0.27569714 0.70600396 0.01829893]\n",
      "[1. 0. 0.] <-> [0.86351126 0.03217902 0.10430974]\n",
      "[1. 0. 0.] <-> [0.8588494  0.04762252 0.09352808]\n",
      "[1. 0. 0.] <-> [0.8780502  0.04623415 0.07571568]\n",
      "[0. 0. 1.] <-> [0.40780368 0.02361377 0.5685825 ]\n",
      "[1. 0. 0.] <-> [0.8159969  0.10074364 0.08325952]\n",
      "[0. 1. 0.] <-> [0.63390523 0.31317788 0.05291689]\n",
      "[1. 0. 0.] <-> [0.8290701  0.04532465 0.12560527]\n",
      "[0. 1. 0.] <-> [0.7594677  0.20447886 0.03605344]\n",
      "[1. 0. 0.] <-> [0.799081   0.08019228 0.12072672]\n",
      "[1. 0. 0.] <-> [0.77827686 0.04997287 0.17175034]\n",
      "[0. 1. 0.] <-> [0.1974303 0.7740759 0.0284938]\n",
      "[0. 1. 0.] <-> [0.26831698 0.7092661  0.02241683]\n",
      "[1. 0. 0.] <-> [0.81015545 0.10073018 0.08911443]\n",
      "[1. 0. 0.] <-> [0.8601859  0.06703649 0.07277755]\n",
      "[1. 0. 0.] <-> [0.8280125  0.10707617 0.06491138]\n",
      "[1. 0. 0.] <-> [0.6861323  0.04114021 0.27272755]\n",
      "[1. 0. 0.] <-> [0.765716   0.15885334 0.07543064]\n",
      "[1. 0. 0.] <-> [0.55668545 0.05319587 0.39011872]\n",
      "[1. 0. 0.] <-> [0.80436534 0.08924038 0.10639425]\n",
      "[0. 0. 1.] <-> [0.58039165 0.02000586 0.39960247]\n",
      "[0. 1. 0.] <-> [0.45235926 0.5273468  0.02029393]\n",
      "[0. 1. 0.] <-> [0.47915545 0.4287459  0.09209867]\n",
      "[1. 0. 0.] <-> [0.8267709  0.03857034 0.13465866]\n",
      "[0. 0. 1.] <-> [0.25843012 0.02669599 0.71487385]\n",
      "[1. 0. 0.] <-> [0.78359985 0.14751929 0.06888089]\n",
      "[1. 0. 0.] <-> [0.7999717  0.11544141 0.08458687]\n",
      "[1. 0. 0.] <-> [0.783957   0.13266057 0.08338234]\n",
      "[1. 0. 0.] <-> [0.79164577 0.071473   0.13688114]\n",
      "[0. 1. 0.] <-> [0.4272986 0.5436877 0.0290137]\n",
      "[0. 1. 0.] <-> [0.35930252 0.5630621  0.07763542]\n",
      "[1. 0. 0.] <-> [0.7997242  0.0408907  0.15938503]\n",
      "[1. 0. 0.] <-> [0.79507524 0.10783499 0.09708976]\n",
      "[1. 0. 0.] <-> [0.8053669  0.07428209 0.12035102]\n",
      "[1. 0. 0.] <-> [0.7906047  0.03310922 0.17628604]\n",
      "[1. 0. 0.] <-> [0.7024709  0.17510082 0.12242831]\n",
      "[0. 0. 1.] <-> [0.2917494  0.02615185 0.6820988 ]\n",
      "[1. 0. 0.] <-> [0.68544966 0.14628725 0.16826305]\n",
      "[0. 1. 0.] <-> [0.24407174 0.7341889  0.02173932]\n",
      "[1. 0. 0.] <-> [0.86319506 0.05554632 0.08125862]\n",
      "[1. 0. 0.] <-> [0.78258264 0.1208337  0.09658363]\n",
      "[0. 0. 1.] <-> [0.3669593  0.03507798 0.59796274]\n",
      "[0. 0. 1.] <-> [0.13417841 0.03724465 0.8285769 ]\n",
      "[1. 0. 0.] <-> [0.85741115 0.07857753 0.0640113 ]\n",
      "[1. 0. 0.] <-> [0.7323395  0.16900407 0.09865644]\n",
      "[1. 0. 0.] <-> [0.7898947  0.09352839 0.11657695]\n",
      "{'accuracy': 0.9259259259259259, 'mean_square_error': 0.19385796335016806, 'categorical_crossentropy': 0.37589550018310547, 'precision': 0.8888888888888888, 'recall': 0.8888888888888888, 'f1': 0.8888888888888888, 'essential_metrics': {0: {'tp_hit': 76, 'fp_hit': 12, 'tn_hit': 20, 'fn_hit': 0}, 1: {'tp_hit': 10, 'fp_hit': 0, 'tn_hit': 91, 'fn_hit': 7}, 2: {'tp_hit': 10, 'fp_hit': 0, 'tn_hit': 93, 'fn_hit': 5}}}\n"
     ]
    }
   ],
   "source": [
    "# recall phase\n",
    "score = model.evaluate(x_test, y_test, False)\n",
    "print(score)"
   ]
  },
  {
   "cell_type": "code",
   "execution_count": 12,
   "metadata": {},
   "outputs": [],
   "source": [
    "# Testing Performance"
   ]
  },
  {
   "cell_type": "code",
   "execution_count": 13,
   "metadata": {},
   "outputs": [
    {
     "name": "stderr",
     "output_type": "stream",
     "text": [
      "C:\\Users\\tcumi\\Anaconda3\\envs\\py_3_6\\lib\\site-packages\\numpy\\core\\_asarray.py:136: VisibleDeprecationWarning: Creating an ndarray from ragged nested sequences (which is a list-or-tuple of lists-or-tuples-or ndarrays with different lengths or shapes) is deprecated. If you meant to do this, you must specify 'dtype=object' when creating the ndarray\n",
      "  return array(a, dtype, copy=False, order=order, subok=True)\n"
     ]
    },
    {
     "data": {
      "image/png": "[encoded data removed]",
      "text/plain": [
       "<Figure size 864x360 with 1 Axes>"
      ]
     },
     "metadata": {
      "needs_background": "light"
     },
     "output_type": "display_data"
    },
    {
     "data": {
      "image/png": "[encoded data removed]",
      "text/plain": [
       "<Figure size 864x360 with 1 Axes>"
      ]
     },
     "metadata": {
      "needs_background": "light"
     },
     "output_type": "display_data"
    }
   ],
   "source": [
    "draw_plot(x = [[i for i in range(len(history))], [(i+1)*breakpoint for i in range(len(checkpoints))]], y_list = [history, [ ckp[model.loss_fn] for ckp in checkpoints ]], x_label = 'Epochs', \\\n",
    "    y_label = model.loss_fn, legend=['train', 'test'])\n",
    "acc = [ ckp['accuracy'] for ckp in checkpoints ]\n",
    "draw_plot(x = [[(i+1)*breakpoint for i in range(len(checkpoints))]], y_list = [acc], x_label = 'Checkpoints', \\\n",
    "    y_label = 'accuracy')"
   ]
  },
  {
   "cell_type": "code",
   "execution_count": 14,
   "metadata": {
    "scrolled": false
   },
   "outputs": [
    {
     "name": "stdout",
     "output_type": "stream",
     "text": [
      "{'accuracy': 0.9012345679012346, 'mean_square_error': 0.2495644888973059, 'categorical_crossentropy': 0.4341686390064381, 'precision': 0.8518518518518519, 'recall': 0.8518518518518519, 'f1': 0.8518518518518519, 'essential_metrics': {0: {'tp_hit': 75, 'fp_hit': 15, 'tn_hit': 17, 'fn_hit': 1}, 1: {'tp_hit': 8, 'fp_hit': 0, 'tn_hit': 91, 'fn_hit': 9}, 2: {'tp_hit': 9, 'fp_hit': 1, 'tn_hit': 92, 'fn_hit': 6}}, 'checkpoint': 100} \n",
      "\n",
      "\n",
      "{'accuracy': 0.8950617283950617, 'mean_square_error': 0.22991891145111282, 'categorical_crossentropy': 0.4189390606350369, 'precision': 0.8425925925925926, 'recall': 0.8425925925925926, 'f1': 0.8425925925925926, 'essential_metrics': {0: {'tp_hit': 75, 'fp_hit': 16, 'tn_hit': 16, 'fn_hit': 1}, 1: {'tp_hit': 8, 'fp_hit': 0, 'tn_hit': 91, 'fn_hit': 9}, 2: {'tp_hit': 8, 'fp_hit': 1, 'tn_hit': 92, 'fn_hit': 7}}, 'checkpoint': 200} \n",
      "\n",
      "\n",
      "{'accuracy': 0.9074074074074074, 'mean_square_error': 0.2203264422951289, 'categorical_crossentropy': 0.4101628197564019, 'precision': 0.8611111111111112, 'recall': 0.8611111111111112, 'f1': 0.8611111111111112, 'essential_metrics': {0: {'tp_hit': 76, 'fp_hit': 15, 'tn_hit': 17, 'fn_hit': 0}, 1: {'tp_hit': 10, 'fp_hit': 0, 'tn_hit': 91, 'fn_hit': 7}, 2: {'tp_hit': 7, 'fp_hit': 0, 'tn_hit': 93, 'fn_hit': 8}}, 'checkpoint': 300} \n",
      "\n",
      "\n",
      "{'accuracy': 0.9259259259259259, 'mean_square_error': 0.20212164108426126, 'categorical_crossentropy': 0.3886005613538954, 'precision': 0.8888888888888888, 'recall': 0.8888888888888888, 'f1': 0.8888888888888888, 'essential_metrics': {0: {'tp_hit': 76, 'fp_hit': 12, 'tn_hit': 20, 'fn_hit': 0}, 1: {'tp_hit': 11, 'fp_hit': 0, 'tn_hit': 91, 'fn_hit': 6}, 2: {'tp_hit': 9, 'fp_hit': 0, 'tn_hit': 93, 'fn_hit': 6}}, 'checkpoint': 400} \n",
      "\n",
      "\n",
      "{'accuracy': 0.9259259259259259, 'mean_square_error': 0.19385796335016806, 'categorical_crossentropy': 0.37589550018310547, 'precision': 0.8888888888888888, 'recall': 0.8888888888888888, 'f1': 0.8888888888888888, 'essential_metrics': {0: {'tp_hit': 76, 'fp_hit': 12, 'tn_hit': 20, 'fn_hit': 0}, 1: {'tp_hit': 10, 'fp_hit': 0, 'tn_hit': 91, 'fn_hit': 7}, 2: {'tp_hit': 10, 'fp_hit': 0, 'tn_hit': 93, 'fn_hit': 5}}, 'checkpoint': 500} \n",
      "\n",
      "\n"
     ]
    }
   ],
   "source": [
    "for checkpoint in checkpoints:\n",
    "    print(checkpoint, '\\n\\n')"
   ]
  },
  {
   "cell_type": "code",
   "execution_count": 15,
   "metadata": {},
   "outputs": [
    {
     "name": "stdout",
     "output_type": "stream",
     "text": [
      "Layer 1\n",
      "Neuron 0: weights:\n",
      "[ 0.38056543 -0.94603586 -0.38702193  0.15200272  0.51619756]\n",
      " bias: -0.13110199570655823\n",
      "\n",
      "Neuron 1: weights:\n",
      "[ 0.40802163 -0.1611389   0.63429874  0.81489754  0.8018537 ]\n",
      " bias: -0.566240131855011\n",
      "\n",
      "Neuron 2: weights:\n",
      "[-4.8596910e-01  1.0149077e+00  4.7174495e-01 -8.0088666e-04\n",
      " -4.2063728e-01]\n",
      " bias: -0.2315777987241745\n",
      "\n",
      "Neuron 3: weights:\n",
      "[ 0.160744  -0.729928  -0.7639188 -0.5359947 -0.4726509]\n",
      " bias: 0.4974546432495117\n",
      "\n",
      "$\n",
      "Layer 2\n",
      "Neuron 0: weights:\n",
      "[-0.01435486 -1.2246025  -0.270106    1.1613767 ]\n",
      " bias: 0.7737687230110168\n",
      "\n",
      "Neuron 1: weights:\n",
      "[-1.5272615   0.13700972  1.5773298  -1.127061  ]\n",
      " bias: -0.19767233729362488\n",
      "\n",
      "Neuron 2: weights:\n",
      "[ 1.1524177   1.1712327  -1.6380124  -0.47218698]\n",
      " bias: -0.8282284140586853\n",
      "\n",
      "$\n",
      "\n"
     ]
    }
   ],
   "source": [
    "print(model)"
   ]
  }
 ],
 "metadata": {
  "kernelspec": {
   "display_name": "Python 3",
   "language": "python",
   "name": "python3"
  },
  "language_info": {
   "codemirror_mode": {
    "name": "ipython",
    "version": 3
   },
   "file_extension": ".py",
   "mimetype": "text/x-python",
   "name": "python",
   "nbconvert_exporter": "python",
   "pygments_lexer": "ipython3",
   "version": "3.6.10"
  }
 },
 "nbformat": 4,
 "nbformat_minor": 2
}
