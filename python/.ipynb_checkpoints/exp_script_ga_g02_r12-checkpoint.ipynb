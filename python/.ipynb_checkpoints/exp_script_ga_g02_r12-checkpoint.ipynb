{
 "cells": [
  {
   "cell_type": "code",
   "execution_count": 1,
   "metadata": {},
   "outputs": [],
   "source": [
    "# single"
   ]
  },
  {
   "cell_type": "code",
   "execution_count": 2,
   "metadata": {},
   "outputs": [],
   "source": [
    "# dependency\n",
    "import numpy as np\n",
    "import pandas as pd\n",
    "import copy\n",
    "import math\n",
    "import sys\n",
    "import os\n",
    "from activations import relu, leaky_relu, sigmoid, tanh, softmax, d_sigmoid, d_relu\n",
    "from initializers import glorot_uniform, random_normal, random_uniform\n",
    "from regularizers import l1_regularizer, l2_regularizer\n",
    "from utility import trim_tail, multiply, subtract, get_nparams, one_hot_encoding, get_data\n",
    "from metrics import MSE, CCE, ACC, PRECISION, RECALL, essential_metrics, wondering_penalty, close_gap_penalty\n",
    "from pso import PSO\n",
    "from ga import GA\n",
    "from nn import Network\n",
    "from layer import DenseLayer\n",
    "from scalers import MinMaxScaler, StandardScaler"
   ]
  },
  {
   "cell_type": "code",
   "execution_count": 3,
   "metadata": {},
   "outputs": [],
   "source": [
    "# reference\n",
    "metrics_fn_dict = dict()\n",
    "metrics_fn_dict['accuracy'] = ACC\n",
    "metrics_fn_dict['categorical_crossentropy'] = CCE\n",
    "metrics_fn_dict['mean_square_error'] = MSE\n",
    "metrics_fn_dict['precision'] = PRECISION\n",
    "metrics_fn_dict['recall'] = RECALL\n",
    "metrics_fn_dict['essential_metrics'] = essential_metrics"
   ]
  },
  {
   "cell_type": "code",
   "execution_count": 4,
   "metadata": {},
   "outputs": [],
   "source": [
    "# model\n",
    "model = Network(5, lr = None)\n",
    "model.add_layer(DenseLayer(1, 4, True, afn=sigmoid, dafn=None, rfn=None))\n",
    "model.add_layer(DenseLayer(2, 3, True, afn=softmax, dafn=None, rfn=None))"
   ]
  },
  {
   "cell_type": "code",
   "execution_count": 5,
   "metadata": {},
   "outputs": [],
   "source": [
    "# optimizer\n",
    "ga = GA(\n",
    "    dict(\n",
    "        m = 100,\n",
    "        x_rate = 0.5,\n",
    "        m_rate = 0.5,\n",
    "        weight_constraint = [-3.,3.],\n",
    "        radioactive_rating = 0.1,\n",
    "        grow_factor = 0.1,\n",
    "        scale_hyperparameter = False,\n",
    "        regularizer = None))"
   ]
  },
  {
   "cell_type": "code",
   "execution_count": 6,
   "metadata": {},
   "outputs": [
    {
     "name": "stdout",
     "output_type": "stream",
     "text": [
      "building layer 1 with 5\n",
      "24\n",
      "building layer 2 with 4\n",
      "15\n"
     ]
    }
   ],
   "source": [
    "model.compile(loss_fn = 'categorical_crossentropy', optimizer = ga, \\\n",
    "    metrics = ['accuracy', 'mean_square_error', 'categorical_crossentropy', 'precision', 'recall', 'f1'])"
   ]
  },
  {
   "cell_type": "code",
   "execution_count": 7,
   "metadata": {},
   "outputs": [
    {
     "name": "stdout",
     "output_type": "stream",
     "text": [
      "<class 'pandas.core.frame.DataFrame'>\n",
      "RangeIndex: 107 entries, 0 to 106\n",
      "Data columns (total 6 columns):\n",
      " #   Column  Non-Null Count  Dtype  \n",
      "---  ------  --------------  -----  \n",
      " 0   f1      107 non-null    float32\n",
      " 1   f2      107 non-null    float32\n",
      " 2   f3      107 non-null    float32\n",
      " 3   f4      107 non-null    float32\n",
      " 4   f5      107 non-null    float32\n",
      " 5   label   107 non-null    float32\n",
      "dtypes: float32(6)\n",
      "memory usage: 2.6 KB\n",
      "None\n",
      "<class 'pandas.core.frame.DataFrame'>\n",
      "RangeIndex: 108 entries, 0 to 107\n",
      "Data columns (total 6 columns):\n",
      " #   Column  Non-Null Count  Dtype  \n",
      "---  ------  --------------  -----  \n",
      " 0   f1      108 non-null    float32\n",
      " 1   f2      108 non-null    float32\n",
      " 2   f3      108 non-null    float32\n",
      " 3   f4      108 non-null    float32\n",
      " 4   f5      108 non-null    float32\n",
      " 5   label   108 non-null    float32\n",
      "dtypes: float32(6)\n",
      "memory usage: 2.7 KB\n",
      "None\n"
     ]
    }
   ],
   "source": [
    "# data loading\n",
    "DATA = os.path.join('c:\\\\Users\\\\tcumi\\\\github_repo\\\\neural-network\\\\', 'dataset')\n",
    "GROUP = 2\n",
    "COLUMNS = ['f1', 'f2', 'f3', 'f4', 'f5', 'label']\n",
    "N_CLASS = 3\n",
    "EPOCHS = 500\n",
    "train_dir, test_dir = \"..//dataset//training_data{}.txt\".format(GROUP), \"..//dataset//testing_data{}.txt\".format(GROUP)\n",
    "train, test = get_data(DATA, train_dir, COLUMNS), get_data(DATA, test_dir, COLUMNS)\n",
    "# shuffle\n",
    "train, test = train.sample(frac=1), test.sample(frac=1)\n",
    "x_train, y_train = train.drop('label', axis=1), train['label']\n",
    "x_test, y_test = test.drop('label', axis=1), test['label']"
   ]
  },
  {
   "cell_type": "code",
   "execution_count": 8,
   "metadata": {},
   "outputs": [],
   "source": [
    "# data scaling and encoding\n",
    "scaler = StandardScaler(['f1', 'f2', 'f3', 'f4', 'f5'])\n",
    "scaler.fit(x_train)\n",
    "x_train = scaler.transform(x_train)\n",
    "x_test = scaler.transform(x_test)\n",
    "y_train = one_hot_encoding(y_train, N_CLASS)\n",
    "y_test = one_hot_encoding(y_test, N_CLASS)"
   ]
  },
  {
   "cell_type": "code",
   "execution_count": 9,
   "metadata": {
    "scrolled": true,
    "tags": [
     "outputPrepend"
    ]
   },
   "outputs": [
    {
     "name": "stderr",
     "output_type": "stream",
     "text": [
      "C:\\Users\\tcumi\\github_repo\\neural-network\\python\\ga.py:201: RuntimeWarning: overflow encountered in add\n",
      "  self.population.sort(key=lambda p: p.fitness + np.random.uniform(-shift, shift, 1), reverse = self.aim)\n"
     ]
    },
    {
     "name": "stdout",
     "output_type": "stream",
     "text": [
      "Checkpoint 100, Accuracy: 0.9691358024691358, Loss: 0.22825716159961842\n",
      "Checkpoint 200, Accuracy: 0.9753086419753086, Loss: 0.1968745125664605\n",
      "Checkpoint 300, Accuracy: 0.9753086419753086, Loss: 0.1736469268798828\n",
      "Checkpoint 400, Accuracy: 0.9814814814814815, Loss: 0.1606581652605975\n",
      "Checkpoint 500, Accuracy: 0.9814814814814815, Loss: 0.1497059045014558\n"
     ]
    }
   ],
   "source": [
    "# learning phase\n",
    "breakpoint = 100\n",
    "checkpoints = list()\n",
    "history = list()\n",
    "for century in range(0, EPOCHS, breakpoint):\n",
    "    sub_history = model.fit(x_train, y_train, breakpoint, verbose = 0)\n",
    "    score = model.evaluate(x_test, y_test, False, verbose = 0)\n",
    "    print('Checkpoint {}, Accuracy: {}, Loss: {}'.format(century+breakpoint, score['accuracy'], score[model.loss_fn]))\n",
    "    score['checkpoint'] = century + breakpoint\n",
    "    checkpoints.append(score)\n",
    "    history.extend(sub_history)\n",
    "    "
   ]
  },
  {
   "cell_type": "code",
   "execution_count": 10,
   "metadata": {},
   "outputs": [],
   "source": [
    "import matplotlib.pyplot as plt\n",
    "\n",
    "def draw_plot(x, y_list, x_label=None, y_label=None, legend=None, title=None):\n",
    "    fig, ax = plt.subplots(figsize=(12,5))\n",
    "    for xi, yi in zip(x, y_list):\n",
    "        ax.plot(xi, yi)\n",
    "    if x_label is not None and y_label is not None:\n",
    "        ax.set(xlabel=x_label, ylabel=y_label, title='{} VS {}'.format(x_label, y_label))\n",
    "    if legend is not None:\n",
    "        ax.legend(legend)\n",
    "    ax.grid()\n",
    "    plt.show()"
   ]
  },
  {
   "cell_type": "code",
   "execution_count": 11,
   "metadata": {},
   "outputs": [
    {
     "name": "stdout",
     "output_type": "stream",
     "text": [
      "[1. 0. 0.] <-> [0.9402993  0.00774017 0.05196058]\n",
      "[0. 1. 0.] <-> [0.08714011 0.91173404 0.00112583]\n",
      "[1. 0. 0.] <-> [0.9693578  0.00570405 0.02493815]\n",
      "[1. 0. 0.] <-> [0.9430303  0.04062367 0.01634604]\n",
      "[1. 0. 0.] <-> [0.9371475  0.00753676 0.05531571]\n",
      "[1. 0. 0.] <-> [0.9042843  0.00810613 0.08760951]\n",
      "[1. 0. 0.] <-> [0.5282355  0.01939433 0.45237017]\n",
      "[1. 0. 0.] <-> [0.9460134  0.00571811 0.04826851]\n",
      "[1. 0. 0.] <-> [0.9045799  0.00873641 0.08668365]\n",
      "[1. 0. 0.] <-> [0.95055705 0.03086031 0.01858271]\n",
      "[0. 1. 0.] <-> [0.5596267  0.42535642 0.01501687]\n",
      "[0. 0. 1.] <-> [0.07100856 0.01405537 0.91493607]\n",
      "[1. 0. 0.] <-> [0.8923447  0.09165122 0.01600401]\n",
      "[1. 0. 0.] <-> [0.5217929  0.4707529  0.00745422]\n",
      "[1. 0. 0.] <-> [0.95182556 0.02511067 0.02306373]\n",
      "[0. 0. 1.] <-> [0.06547207 0.01365229 0.92087567]\n",
      "[1. 0. 0.] <-> [0.9712228  0.01039279 0.01838441]\n",
      "[1. 0. 0.] <-> [0.9192177  0.01150277 0.06927951]\n",
      "[1. 0. 0.] <-> [0.96176714 0.00469382 0.03353905]\n",
      "[1. 0. 0.] <-> [0.76012325 0.01596971 0.22390707]\n",
      "[1. 0. 0.] <-> [0.9368571  0.00598102 0.05716188]\n",
      "[1. 0. 0.] <-> [0.9649966  0.00951222 0.02549119]\n",
      "[1. 0. 0.] <-> [0.9724201  0.00525791 0.02232206]\n",
      "[1. 0. 0.] <-> [0.5781555  0.01722978 0.40461472]\n",
      "[1. 0. 0.] <-> [0.96493375 0.01032313 0.02474312]\n",
      "[0. 1. 0.] <-> [0.1834488  0.81428117 0.00227011]\n",
      "[0. 1. 0.] <-> [0.17481832 0.8211246  0.00405709]\n",
      "[1. 0. 0.] <-> [0.95674574 0.00855123 0.03470303]\n",
      "[0. 0. 1.] <-> [0.32599545 0.0191797  0.6548249 ]\n",
      "[1. 0. 0.] <-> [0.95584023 0.01066369 0.03349611]\n",
      "[1. 0. 0.] <-> [0.9699238  0.00646606 0.0236102 ]\n",
      "[1. 0. 0.] <-> [0.9660696  0.00859871 0.02533173]\n",
      "[1. 0. 0.] <-> [0.8583839  0.01516833 0.12644778]\n",
      "[1. 0. 0.] <-> [0.93864024 0.01147773 0.04988209]\n",
      "[1. 0. 0.] <-> [0.9531117  0.03019583 0.0166925 ]\n",
      "[0. 1. 0.] <-> [3.9650500e-02 9.5990139e-01 4.4815746e-04]\n",
      "[1. 0. 0.] <-> [0.9596341  0.0048455  0.03552039]\n",
      "[1. 0. 0.] <-> [0.9692505  0.00727428 0.02347519]\n",
      "[0. 1. 0.] <-> [3.6124468e-02 9.6346343e-01 4.1205107e-04]\n",
      "[0. 0. 1.] <-> [0.06434456 0.01355585 0.92209953]\n",
      "[1. 0. 0.] <-> [0.9621162  0.00562381 0.03225995]\n",
      "[1. 0. 0.] <-> [0.9696916  0.00730202 0.02300647]\n",
      "[0. 1. 0.] <-> [6.5238908e-02 9.3393564e-01 8.2547939e-04]\n",
      "[1. 0. 0.] <-> [0.7726444  0.01576287 0.21159269]\n",
      "[0. 0. 1.] <-> [0.05879872 0.01313011 0.9280712 ]\n",
      "[1. 0. 0.] <-> [0.8172732  0.01334765 0.16937919]\n",
      "[0. 1. 0.] <-> [0.11679475 0.8817159  0.00148936]\n",
      "[1. 0. 0.] <-> [0.95160925 0.00588584 0.04250485]\n",
      "[1. 0. 0.] <-> [0.9602939  0.00586065 0.03384549]\n",
      "[1. 0. 0.] <-> [0.9693093  0.00778332 0.02290735]\n",
      "[1. 0. 0.] <-> [0.94582224 0.03758378 0.01659396]\n",
      "[1. 0. 0.] <-> [0.9367916  0.04729312 0.01591523]\n",
      "[1. 0. 0.] <-> [0.9238555  0.06122592 0.01491861]\n",
      "[1. 0. 0.] <-> [0.9642323  0.01938496 0.01638273]\n",
      "[1. 0. 0.] <-> [0.88498724 0.01127824 0.10373455]\n",
      "[1. 0. 0.] <-> [0.9649425  0.01073499 0.02432259]\n",
      "[1. 0. 0.] <-> [0.9408999  0.00913823 0.04996194]\n",
      "[0. 0. 1.] <-> [0.11062092 0.01639056 0.8729885 ]\n",
      "[0. 0. 1.] <-> [0.90648425 0.00751596 0.08599974]\n",
      "[1. 0. 0.] <-> [0.92685974 0.00752815 0.06561212]\n",
      "[1. 0. 0.] <-> [0.93019897 0.0068442  0.06295677]\n",
      "[0. 1. 0.] <-> [3.7076455e-02 9.6248996e-01 4.3359137e-04]\n",
      "[0. 1. 0.] <-> [4.0902536e-02 9.5861262e-01 4.8482392e-04]\n",
      "[1. 0. 0.] <-> [0.94943523 0.03448697 0.01607779]\n",
      "[1. 0. 0.] <-> [0.9592427  0.00728591 0.03347134]\n",
      "[1. 0. 0.] <-> [0.9607163  0.01915453 0.02012909]\n",
      "[1. 0. 0.] <-> [0.9680857  0.00947886 0.02243534]\n",
      "[0. 0. 1.] <-> [0.356358   0.02263272 0.6210093 ]\n",
      "[0. 1. 0.] <-> [6.4310297e-02 9.3495190e-01 7.3780393e-04]\n",
      "[1. 0. 0.] <-> [0.96236795 0.01187856 0.02575351]\n",
      "[1. 0. 0.] <-> [0.9640498  0.00886341 0.02708684]\n",
      "[0. 0. 1.] <-> [0.08720213 0.0151022  0.89769566]\n",
      "[1. 0. 0.] <-> [0.9054727  0.00784082 0.0866865 ]\n",
      "[1. 0. 0.] <-> [0.9464705  0.00725009 0.04627942]\n",
      "[0. 1. 0.] <-> [0.43994445 0.55405813 0.00599745]\n",
      "[1. 0. 0.] <-> [0.96136385 0.02159991 0.01703628]\n",
      "[1. 0. 0.] <-> [0.9607349  0.00490593 0.03435911]\n",
      "[1. 0. 0.] <-> [0.96796215 0.00669377 0.02534406]\n",
      "[1. 0. 0.] <-> [0.19132684 0.01972786 0.78894526]\n",
      "[1. 0. 0.] <-> [0.9432723  0.00723051 0.04949723]\n",
      "[1. 0. 0.] <-> [0.90569717 0.00818766 0.08611517]\n",
      "[1. 0. 0.] <-> [0.97219527 0.00897809 0.01882662]\n",
      "[1. 0. 0.] <-> [0.946336   0.03201979 0.02164429]\n",
      "[1. 0. 0.] <-> [0.94686526 0.00568669 0.04744805]\n",
      "[0. 0. 1.] <-> [0.06275824 0.01344606 0.9237957 ]\n",
      "[0. 0. 1.] <-> [0.18203613 0.01899953 0.7989644 ]\n",
      "[1. 0. 0.] <-> [0.9257859  0.00927634 0.0649377 ]\n",
      "[1. 0. 0.] <-> [0.9493822  0.00921922 0.04139861]\n",
      "[0. 1. 0.] <-> [3.2579221e-02 9.6698606e-01 4.3465738e-04]\n",
      "[1. 0. 0.] <-> [0.95654285 0.01871096 0.02474617]\n",
      "[1. 0. 0.] <-> [0.9650849  0.00970573 0.02520936]\n",
      "[1. 0. 0.] <-> [0.8991334  0.01300911 0.08785743]\n",
      "[1. 0. 0.] <-> [0.6228358  0.02040635 0.35675785]\n",
      "[1. 0. 0.] <-> [0.9673989  0.00677362 0.02582754]\n",
      "[1. 0. 0.] <-> [0.9538603  0.01614914 0.0299905 ]\n",
      "[1. 0. 0.] <-> [0.8615154  0.00960159 0.12888306]\n",
      "[0. 0. 1.] <-> [0.05882352 0.01313246 0.92804396]\n",
      "[0. 1. 0.] <-> [0.28586861 0.71051216 0.0036192 ]\n",
      "[1. 0. 0.] <-> [0.93237853 0.00758206 0.06003939]\n",
      "[1. 0. 0.] <-> [0.9612283  0.00719544 0.03157622]\n",
      "[1. 0. 0.] <-> [0.9614183  0.00702751 0.0315542 ]\n",
      "[0. 0. 1.] <-> [0.06100708 0.01331314 0.92567974]\n",
      "[0. 1. 0.] <-> [3.6535904e-02 9.6305490e-01 4.0911231e-04]\n",
      "[1. 0. 0.] <-> [0.8060272 0.0125428 0.18143  ]\n",
      "[1. 0. 0.] <-> [0.85433894 0.13364995 0.01201111]\n",
      "[1. 0. 0.] <-> [0.94411445 0.00902538 0.04686015]\n",
      "[1. 0. 0.] <-> [0.9559514  0.00598687 0.03806167]\n",
      "[1. 0. 0.] <-> [0.9451253  0.00614958 0.04872504]\n",
      "{'accuracy': 0.9814814814814815, 'mean_square_error': 0.06796628494154959, 'categorical_crossentropy': 0.1497059045014558, 'precision': 0.9722222222222222, 'recall': 0.9722222222222222, 'f1': 0.9722222222222222, 'essential_metrics': {0: {'tp_hit': 79, 'fp_hit': 2, 'tn_hit': 26, 'fn_hit': 1}, 1: {'tp_hit': 14, 'fp_hit': 0, 'tn_hit': 93, 'fn_hit': 1}, 2: {'tp_hit': 12, 'fp_hit': 1, 'tn_hit': 94, 'fn_hit': 1}}}\n"
     ]
    }
   ],
   "source": [
    "# recall phase\n",
    "score = model.evaluate(x_test, y_test, False)\n",
    "print(score)"
   ]
  },
  {
   "cell_type": "code",
   "execution_count": 12,
   "metadata": {},
   "outputs": [],
   "source": [
    "# Testing Performance"
   ]
  },
  {
   "cell_type": "code",
   "execution_count": 13,
   "metadata": {},
   "outputs": [
    {
     "data": {
      "image/png": "[encoded data removed]",
      "text/plain": [
       "<Figure size 864x360 with 1 Axes>"
      ]
     },
     "metadata": {
      "needs_background": "light"
     },
     "output_type": "display_data"
    },
    {
     "data": {
      "image/png": "[encoded data removed]",
      "text/plain": [
       "<Figure size 864x360 with 1 Axes>"
      ]
     },
     "metadata": {
      "needs_background": "light"
     },
     "output_type": "display_data"
    }
   ],
   "source": [
    "draw_plot(x = [[i for i in range(len(history))], [(i+1)*breakpoint for i in range(len(checkpoints))]], y_list = [history, [ ckp[model.loss_fn] for ckp in checkpoints ]], x_label = 'Epochs', \\\n",
    "    y_label = model.loss_fn, legend=['train', 'test'])\n",
    "acc = [ ckp['accuracy'] for ckp in checkpoints ]\n",
    "draw_plot(x = [[(i+1)*breakpoint for i in range(len(checkpoints))]], y_list = [acc], x_label = 'Checkpoints', \\\n",
    "    y_label = 'accuracy')"
   ]
  },
  {
   "cell_type": "code",
   "execution_count": 14,
   "metadata": {
    "scrolled": false
   },
   "outputs": [
    {
     "name": "stdout",
     "output_type": "stream",
     "text": [
      "{'accuracy': 0.9691358024691358, 'mean_square_error': 0.11067616704782857, 'categorical_crossentropy': 0.22825716159961842, 'precision': 0.9537037037037037, 'recall': 0.9537037037037037, 'f1': 0.9537037037037037, 'essential_metrics': {0: {'tp_hit': 79, 'fp_hit': 4, 'tn_hit': 24, 'fn_hit': 1}, 1: {'tp_hit': 13, 'fp_hit': 0, 'tn_hit': 93, 'fn_hit': 2}, 2: {'tp_hit': 11, 'fp_hit': 1, 'tn_hit': 94, 'fn_hit': 2}}, 'checkpoint': 100} \n",
      "\n",
      "\n",
      "{'accuracy': 0.9753086419753086, 'mean_square_error': 0.08857849745462468, 'categorical_crossentropy': 0.1968745125664605, 'precision': 0.9629629629629629, 'recall': 0.9629629629629629, 'f1': 0.9629629629629629, 'essential_metrics': {0: {'tp_hit': 79, 'fp_hit': 3, 'tn_hit': 25, 'fn_hit': 1}, 1: {'tp_hit': 13, 'fp_hit': 0, 'tn_hit': 93, 'fn_hit': 2}, 2: {'tp_hit': 12, 'fp_hit': 1, 'tn_hit': 94, 'fn_hit': 1}}, 'checkpoint': 200} \n",
      "\n",
      "\n",
      "{'accuracy': 0.9753086419753086, 'mean_square_error': 0.07759019904754821, 'categorical_crossentropy': 0.1736469268798828, 'precision': 0.9629629629629629, 'recall': 0.9629629629629629, 'f1': 0.9629629629629629, 'essential_metrics': {0: {'tp_hit': 79, 'fp_hit': 3, 'tn_hit': 25, 'fn_hit': 1}, 1: {'tp_hit': 13, 'fp_hit': 0, 'tn_hit': 93, 'fn_hit': 2}, 2: {'tp_hit': 12, 'fp_hit': 1, 'tn_hit': 94, 'fn_hit': 1}}, 'checkpoint': 300} \n",
      "\n",
      "\n",
      "{'accuracy': 0.9814814814814815, 'mean_square_error': 0.07144635204054951, 'categorical_crossentropy': 0.1606581652605975, 'precision': 0.9722222222222222, 'recall': 0.9722222222222222, 'f1': 0.9722222222222222, 'essential_metrics': {0: {'tp_hit': 79, 'fp_hit': 2, 'tn_hit': 26, 'fn_hit': 1}, 1: {'tp_hit': 14, 'fp_hit': 0, 'tn_hit': 93, 'fn_hit': 1}, 2: {'tp_hit': 12, 'fp_hit': 1, 'tn_hit': 94, 'fn_hit': 1}}, 'checkpoint': 400} \n",
      "\n",
      "\n",
      "{'accuracy': 0.9814814814814815, 'mean_square_error': 0.06796628494154959, 'categorical_crossentropy': 0.1497059045014558, 'precision': 0.9722222222222222, 'recall': 0.9722222222222222, 'f1': 0.9722222222222222, 'essential_metrics': {0: {'tp_hit': 79, 'fp_hit': 2, 'tn_hit': 26, 'fn_hit': 1}, 1: {'tp_hit': 14, 'fp_hit': 0, 'tn_hit': 93, 'fn_hit': 1}, 2: {'tp_hit': 12, 'fp_hit': 1, 'tn_hit': 94, 'fn_hit': 1}}, 'checkpoint': 500} \n",
      "\n",
      "\n"
     ]
    }
   ],
   "source": [
    "for checkpoint in checkpoints:\n",
    "    print(checkpoint, '\\n\\n')"
   ]
  },
  {
   "cell_type": "code",
   "execution_count": 15,
   "metadata": {},
   "outputs": [
    {
     "name": "stdout",
     "output_type": "stream",
     "text": [
      "Layer 1\n",
      "Neuron 0: weights:\n",
      "[ 1.8443844  -2.7325897  -0.96896327  1.9899311   0.41748992]\n",
      " bias: 2.11625075340271\n",
      "\n",
      "Neuron 1: weights:\n",
      "[ 0.12334866  1.6413696  -0.40343976 -2.290054   -2.825041  ]\n",
      " bias: 1.0199190378189087\n",
      "\n",
      "Neuron 2: weights:\n",
      "[-1.4903916   1.5299563  -0.47995317  0.10039084 -0.9313007 ]\n",
      " bias: 2.418116331100464\n",
      "\n",
      "Neuron 3: weights:\n",
      "[-0.66076756  2.3170717   1.2450901  -1.430981   -2.5468113 ]\n",
      " bias: -2.7370479106903076\n",
      "\n",
      "$\n",
      "Layer 2\n",
      "Neuron 0: weights:\n",
      "[ 2.3321764  1.2458143  1.4044175 -1.8311095]\n",
      " bias: -0.3511561453342438\n",
      "\n",
      "Neuron 1: weights:\n",
      "[-2.1521893  -1.6851366  -0.22437921  3.        ]\n",
      " bias: 2.6358888149261475\n",
      "\n",
      "Neuron 2: weights:\n",
      "[ 2.5398655 -2.9953158 -1.3370626 -1.9161615]\n",
      " bias: 2.2033472061157227\n",
      "\n",
      "$\n",
      "\n"
     ]
    }
   ],
   "source": [
    "print(model)"
   ]
  }
 ],
 "metadata": {
  "kernelspec": {
   "display_name": "Python 3",
   "language": "python",
   "name": "python3"
  },
  "language_info": {
   "codemirror_mode": {
    "name": "ipython",
    "version": 3
   },
   "file_extension": ".py",
   "mimetype": "text/x-python",
   "name": "python",
   "nbconvert_exporter": "python",
   "pygments_lexer": "ipython3",
   "version": "3.6.10"
  }
 },
 "nbformat": 4,
 "nbformat_minor": 2
}
