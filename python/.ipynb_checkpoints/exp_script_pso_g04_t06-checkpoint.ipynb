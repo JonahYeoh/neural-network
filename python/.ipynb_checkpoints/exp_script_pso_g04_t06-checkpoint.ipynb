{
 "cells": [
  {
   "cell_type": "code",
   "execution_count": 1,
   "metadata": {},
   "outputs": [],
   "source": [
    "# dependency\n",
    "import numpy as np\n",
    "import pandas as pd\n",
    "import copy\n",
    "import math\n",
    "import sys\n",
    "import os\n",
    "from activations import relu, leaky_relu, sigmoid, tanh, softmax, d_sigmoid, d_relu\n",
    "from initializers import glorot_uniform, random_normal, random_uniform\n",
    "from regularizers import l1_regularizer, l2_regularizer\n",
    "from utility import trim_tail, multiply, subtract, get_nparams, one_hot_encoding, get_data\n",
    "from metrics import MSE, CCE, ACC, PRECISION, RECALL, essential_metrics, wondering_penalty, close_gap_penalty\n",
    "from pso import PSO\n",
    "from ga import GA\n",
    "from nn import Network\n",
    "from layer import DenseLayer\n",
    "from scalers import MinMaxScaler, StandardScaler"
   ]
  },
  {
   "cell_type": "code",
   "execution_count": 2,
   "metadata": {},
   "outputs": [],
   "source": [
    "# reference\n",
    "metrics_fn_dict = dict()\n",
    "metrics_fn_dict['accuracy'] = ACC\n",
    "metrics_fn_dict['categorical_crossentropy'] = CCE\n",
    "metrics_fn_dict['mean_square_error'] = MSE\n",
    "metrics_fn_dict['precision'] = PRECISION\n",
    "metrics_fn_dict['recall'] = RECALL\n",
    "metrics_fn_dict['essential_metrics'] = essential_metrics"
   ]
  },
  {
   "cell_type": "code",
   "execution_count": 3,
   "metadata": {},
   "outputs": [],
   "source": [
    "# model\n",
    "model = Network(5, lr = None)\n",
    "model.add_layer(DenseLayer(1, 4, True, afn=sigmoid, dafn=None, rfn=None))\n",
    "model.add_layer(DenseLayer(2, 3, True, afn=softmax, dafn=None, rfn=None))"
   ]
  },
  {
   "cell_type": "code",
   "execution_count": 4,
   "metadata": {},
   "outputs": [
    {
     "name": "stdout",
     "output_type": "stream",
     "text": [
      "see one see two 2.0 0.5\n"
     ]
    }
   ],
   "source": [
    "pso = PSO(dict(m = 100,\n",
    "    weight_constraint = [-3, 3], \n",
    "    velocity_constraint = [-0.1, 0.1],\n",
    "    c1 = [0.5, 2.0],\n",
    "    c2 = [0.5, 2.0],\n",
    "    w = [0.5, 1.6],\n",
    "    w_decay = 0.95,\n",
    "    scale_hyperparameter = False,\n",
    "    regularizer = None,\n",
    "    mask = True))"
   ]
  },
  {
   "cell_type": "code",
   "execution_count": 5,
   "metadata": {},
   "outputs": [
    {
     "name": "stdout",
     "output_type": "stream",
     "text": [
      "building layer 1 with 5\n",
      "24\n",
      "building layer 2 with 4\n",
      "15\n"
     ]
    }
   ],
   "source": [
    "model.compile(loss_fn = 'categorical_crossentropy', optimizer = pso, \\\n",
    "    metrics = ['accuracy', 'mean_square_error', 'categorical_crossentropy'])"
   ]
  },
  {
   "cell_type": "code",
   "execution_count": 6,
   "metadata": {},
   "outputs": [
    {
     "name": "stdout",
     "output_type": "stream",
     "text": [
      "<class 'pandas.core.frame.DataFrame'>\n",
      "RangeIndex: 107 entries, 0 to 106\n",
      "Data columns (total 6 columns):\n",
      " #   Column  Non-Null Count  Dtype  \n",
      "---  ------  --------------  -----  \n",
      " 0   f1      107 non-null    float32\n",
      " 1   f2      107 non-null    float32\n",
      " 2   f3      107 non-null    float32\n",
      " 3   f4      107 non-null    float32\n",
      " 4   f5      107 non-null    float32\n",
      " 5   label   107 non-null    float32\n",
      "dtypes: float32(6)\n",
      "memory usage: 2.6 KB\n",
      "None\n",
      "<class 'pandas.core.frame.DataFrame'>\n",
      "RangeIndex: 108 entries, 0 to 107\n",
      "Data columns (total 6 columns):\n",
      " #   Column  Non-Null Count  Dtype  \n",
      "---  ------  --------------  -----  \n",
      " 0   f1      108 non-null    float32\n",
      " 1   f2      108 non-null    float32\n",
      " 2   f3      108 non-null    float32\n",
      " 3   f4      108 non-null    float32\n",
      " 4   f5      108 non-null    float32\n",
      " 5   label   108 non-null    float32\n",
      "dtypes: float32(6)\n",
      "memory usage: 2.7 KB\n",
      "None\n"
     ]
    }
   ],
   "source": [
    "# data loading\n",
    "DATA = os.path.join('c:\\\\Users\\\\AI-lab\\\\github_repo\\\\neural-network\\\\', 'dataset')\n",
    "GROUP = 4\n",
    "COLUMNS = ['f1', 'f2', 'f3', 'f4', 'f5', 'label']\n",
    "N_CLASS = 3\n",
    "EPOCHS = 200\n",
    "train_dir, test_dir = \"..//dataset//training_data{}.txt\".format(GROUP), \"..//dataset//testing_data{}.txt\".format(GROUP)\n",
    "train, test = get_data(DATA, train_dir, COLUMNS), get_data(DATA, test_dir, COLUMNS)\n",
    "# shuffle\n",
    "train, test = train.sample(frac=1), test.sample(frac=1)\n",
    "x_train, y_train = train.drop('label', axis=1), train['label']\n",
    "x_test, y_test = test.drop('label', axis=1), test['label']"
   ]
  },
  {
   "cell_type": "code",
   "execution_count": 7,
   "metadata": {},
   "outputs": [],
   "source": [
    "# data scaling and encoding\n",
    "scaler = StandardScaler(['f1', 'f2', 'f3', 'f4', 'f5'])\n",
    "scaler.fit(x_train)\n",
    "x_train = scaler.transform(x_train)\n",
    "x_test = scaler.transform(x_test)\n",
    "y_train = one_hot_encoding(y_train, N_CLASS)\n",
    "y_test = one_hot_encoding(y_test, N_CLASS)"
   ]
  },
  {
   "cell_type": "code",
   "execution_count": 8,
   "metadata": {
    "tags": [
     "outputPrepend"
    ]
   },
   "outputs": [
    {
     "name": "stdout",
     "output_type": "stream",
     "text": [
      "Checkpoint 10, Accuracy: 0.8827160493827161, Loss: 0.519218020968967\n",
      "Checkpoint 20, Accuracy: 0.9135802469135802, Loss: 0.46259565706606265\n",
      "Checkpoint 30, Accuracy: 0.9197530864197531, Loss: 0.43697350113480177\n",
      "Checkpoint 40, Accuracy: 0.9135802469135802, Loss: 0.41973053967511215\n",
      "Checkpoint 50, Accuracy: 0.9382716049382716, Loss: 0.379309406986943\n",
      "Checkpoint 60, Accuracy: 0.9567901234567902, Loss: 0.3761798010932075\n",
      "Checkpoint 70, Accuracy: 0.9444444444444444, Loss: 0.3214284755565502\n",
      "Checkpoint 80, Accuracy: 0.9506172839506173, Loss: 0.2938074359187373\n",
      "Checkpoint 90, Accuracy: 0.9444444444444444, Loss: 0.2714451683892144\n",
      "Checkpoint 100, Accuracy: 0.9629629629629629, Loss: 0.22577631915057148\n",
      "Checkpoint 110, Accuracy: 0.9629629629629629, Loss: 0.20212664427580657\n",
      "Checkpoint 120, Accuracy: 0.9629629629629629, Loss: 0.15246124620790835\n",
      "Checkpoint 130, Accuracy: 0.9814814814814815, Loss: 0.13275798161824545\n",
      "Checkpoint 140, Accuracy: 0.9753086419753086, Loss: 0.12741219555890118\n",
      "Checkpoint 150, Accuracy: 0.9691358024691358, Loss: 0.11448180233990704\n",
      "Checkpoint 160, Accuracy: 0.9753086419753086, Loss: 0.10591498127690067\n",
      "Checkpoint 170, Accuracy: 0.9753086419753086, Loss: 0.1086663316797327\n",
      "Checkpoint 180, Accuracy: 0.9691358024691358, Loss: 0.10198960480866609\n",
      "Checkpoint 190, Accuracy: 0.9629629629629629, Loss: 0.11321180838125723\n",
      "Checkpoint 200, Accuracy: 0.9629629629629629, Loss: 0.11101645010489004\n"
     ]
    }
   ],
   "source": [
    "# learning phase\n",
    "breakpoint = 10\n",
    "checkpoints = list()\n",
    "history = list()\n",
    "for century in range(0, EPOCHS, breakpoint):\n",
    "    sub_history = model.fit(x_train, y_train, breakpoint, verbose = 0)\n",
    "    score = model.evaluate(x_test, y_test, False, verbose = 0)\n",
    "    print('Checkpoint {}, Accuracy: {}, Loss: {}'.format(century+breakpoint, score['accuracy'], score[model.loss_fn]))\n",
    "    score['checkpoint'] = century + breakpoint\n",
    "    checkpoints.append(score)\n",
    "    history.extend(sub_history)\n",
    "    itr = century + breakpoint\n",
    "    model.optimizer.c1 = np.max([model.optimizer.C1[1] - ((model.optimizer.C1[1] - model.optimizer.C1[0]) * itr / EPOCHS), model.optimizer.C1[0]])\n",
    "    model.optimizer.c2 = np.min([model.optimizer.C2[0] + ((model.optimizer.C2[1] - model.optimizer.C2[0]) * itr / EPOCHS), model.optimizer.C2[1]])\n",
    "    model.optimizer.w = np.max([model.optimizer.w * model.optimizer.W_Decay, model.optimizer.W[0]])"
   ]
  },
  {
   "cell_type": "code",
   "execution_count": 9,
   "metadata": {},
   "outputs": [],
   "source": [
    "import matplotlib.pyplot as plt\n",
    "\n",
    "def draw_plot(x, y_list, x_label=None, y_label=None, legend=None, title=None):\n",
    "    fig, ax = plt.subplots(figsize=(12,5))\n",
    "    for xi, yi in zip(x, y_list):\n",
    "        ax.plot(xi, yi)\n",
    "    if x_label is not None and y_label is not None:\n",
    "        ax.set(xlabel=x_label, ylabel=y_label, title='{} VS {}'.format(x_label, y_label))\n",
    "    if legend is not None:\n",
    "        ax.legend(legend)\n",
    "    ax.grid()\n",
    "    plt.show()"
   ]
  },
  {
   "cell_type": "code",
   "execution_count": 10,
   "metadata": {},
   "outputs": [
    {
     "name": "stdout",
     "output_type": "stream",
     "text": [
      "[1. 0. 0.] <-> [0.852781   0.00709663 0.14012235]\n",
      "[1. 0. 0.] <-> [0.9783589  0.00438359 0.01725741]\n",
      "[1. 0. 0.] <-> [0.99306786 0.00297832 0.00395387]\n",
      "[1. 0. 0.] <-> [0.98645705 0.00281011 0.01073281]\n",
      "[0. 0. 1.] <-> [0.00855967 0.00109174 0.9903486 ]\n",
      "[1. 0. 0.] <-> [0.84659356 0.09717832 0.05622811]\n",
      "[1. 0. 0.] <-> [0.995723   0.00199711 0.00227984]\n",
      "[0. 0. 1.] <-> [0.09834322 0.00466452 0.89699227]\n",
      "[1. 0. 0.] <-> [0.5100301  0.47518045 0.0147895 ]\n",
      "[1. 0. 0.] <-> [0.9936918  0.00196483 0.00434331]\n",
      "[1. 0. 0.] <-> [0.99206877 0.00218503 0.0057462 ]\n",
      "[1. 0. 0.] <-> [0.99671125 0.0013703  0.00191848]\n",
      "[1. 0. 0.] <-> [0.99672204 0.00140138 0.00187665]\n",
      "[1. 0. 0.] <-> [0.9905155  0.00574963 0.00373493]\n",
      "[1. 0. 0.] <-> [0.99397814 0.00340974 0.00261209]\n",
      "[0. 0. 1.] <-> [0.01312212 0.00172198 0.9851559 ]\n",
      "[1. 0. 0.] <-> [0.24414031 0.7450209  0.01083881]\n",
      "[1. 0. 0.] <-> [0.8750531  0.1137369  0.01121004]\n",
      "[1. 0. 0.] <-> [0.9959661  0.00158035 0.00245347]\n",
      "[1. 0. 0.] <-> [0.995394   0.00281845 0.00178761]\n",
      "[1. 0. 0.] <-> [0.9963624  0.0019337  0.00170393]\n",
      "[1. 0. 0.] <-> [0.9918926  0.00571509 0.00239235]\n",
      "[1. 0. 0.] <-> [0.99608994 0.00238327 0.00152684]\n",
      "[0. 1. 0.] <-> [0.00615984 0.99257326 0.00126688]\n",
      "[0. 1. 0.] <-> [0.00622324 0.9924967  0.00128005]\n",
      "[0. 0. 1.] <-> [0.00468208 0.0054998  0.98981816]\n",
      "[0. 0. 1.] <-> [0.00960712 0.00116928 0.9892236 ]\n",
      "[1. 0. 0.] <-> [0.981998   0.01372353 0.00427839]\n",
      "[1. 0. 0.] <-> [0.99195063 0.00267996 0.00536938]\n",
      "[0. 0. 1.] <-> [0.5530656  0.00975277 0.4371816 ]\n",
      "[1. 0. 0.] <-> [0.23085931 0.7612518  0.00788897]\n",
      "[0. 0. 1.] <-> [0.00959744 0.00116696 0.9892356 ]\n",
      "[1. 0. 0.] <-> [0.99385965 0.00297278 0.00316753]\n",
      "[1. 0. 0.] <-> [0.99290574 0.00492771 0.00216648]\n",
      "[1. 0. 0.] <-> [0.9971396  0.00147203 0.0013884 ]\n",
      "[1. 0. 0.] <-> [0.95474076 0.03932637 0.00593293]\n",
      "[1. 0. 0.] <-> [0.9964132  0.00189604 0.00169083]\n",
      "[0. 0. 1.] <-> [0.05256425 0.00332941 0.9441064 ]\n",
      "[1. 0. 0.] <-> [0.9870536  0.00520132 0.00774512]\n",
      "[0. 1. 0.] <-> [0.0250538 0.9723962 0.00255  ]\n",
      "[1. 0. 0.] <-> [0.9376774  0.00583683 0.05648578]\n",
      "[1. 0. 0.] <-> [0.99678576 0.00142091 0.00179336]\n",
      "[0. 0. 1.] <-> [0.00858526 0.00109262 0.9903222 ]\n",
      "[0. 0. 1.] <-> [0.00687326 0.00201182 0.99111485]\n",
      "[1. 0. 0.] <-> [0.9973563  0.00121506 0.0014286 ]\n",
      "[0. 0. 1.] <-> [0.00851989 0.00109202 0.9903881 ]\n",
      "[1. 0. 0.] <-> [0.9963894  0.00153152 0.00207911]\n",
      "[1. 0. 0.] <-> [0.80272937 0.18865135 0.00861926]\n",
      "[0. 1. 0.] <-> [0.044668   0.95078146 0.00455054]\n",
      "[1. 0. 0.] <-> [0.9574711  0.00569915 0.03682986]\n",
      "[1. 0. 0.] <-> [0.99650395 0.00203292 0.00146318]\n",
      "[0. 1. 0.] <-> [0.00622587 0.992467   0.00130706]\n",
      "[0. 1. 0.] <-> [0.01636638 0.9814699  0.0021637 ]\n",
      "[1. 0. 0.] <-> [0.9951109  0.0021577  0.00273143]\n",
      "[1. 0. 0.] <-> [0.9891431  0.00288833 0.00796856]\n",
      "[1. 0. 0.] <-> [0.9945462  0.00349064 0.00196323]\n",
      "[1. 0. 0.] <-> [0.9576899  0.00538652 0.03692349]\n",
      "[1. 0. 0.] <-> [0.96989733 0.02364495 0.00645779]\n",
      "[0. 1. 0.] <-> [0.00617066 0.9925666  0.00126271]\n",
      "[1. 0. 0.] <-> [0.9597145  0.0197619  0.02052369]\n",
      "[1. 0. 0.] <-> [0.9958268  0.00164823 0.00252504]\n",
      "[1. 0. 0.] <-> [0.9961887  0.00178582 0.00202551]\n",
      "[1. 0. 0.] <-> [0.99517065 0.00300459 0.00182473]\n",
      "[1. 0. 0.] <-> [0.9933913  0.00411489 0.00249381]\n",
      "[1. 0. 0.] <-> [0.98787385 0.0026195  0.00950662]\n",
      "[1. 0. 0.] <-> [0.99649197 0.00154596 0.00196206]\n",
      "[1. 0. 0.] <-> [0.9947242  0.00281782 0.0024579 ]\n",
      "[1. 0. 0.] <-> [0.9918122  0.00212959 0.00605817]\n",
      "[1. 0. 0.] <-> [0.90078896 0.07827862 0.02093237]\n",
      "[1. 0. 0.] <-> [0.9953507  0.00268492 0.00196436]\n",
      "[1. 0. 0.] <-> [0.81219196 0.17382336 0.01398461]\n",
      "[1. 0. 0.] <-> [0.95946145 0.03510962 0.00542895]\n",
      "[1. 0. 0.] <-> [0.99549294 0.00274423 0.00176287]\n",
      "[1. 0. 0.] <-> [0.6047046  0.01131463 0.38398078]\n",
      "[1. 0. 0.] <-> [0.9948067  0.00332948 0.0018639 ]\n",
      "[1. 0. 0.] <-> [0.9166902  0.0758969  0.00741297]\n",
      "[0. 0. 1.] <-> [0.01278129 0.00147566 0.985743  ]\n",
      "[1. 0. 0.] <-> [0.9973527  0.00117003 0.00147728]\n",
      "[1. 0. 0.] <-> [0.99485755 0.00196268 0.00317983]\n",
      "[1. 0. 0.] <-> [0.99538285 0.00225965 0.00235746]\n",
      "[1. 0. 0.] <-> [0.9969734  0.00156583 0.00146072]\n",
      "[0. 1. 0.] <-> [0.00617442 0.99256426 0.00126127]\n",
      "[1. 0. 0.] <-> [0.20690192 0.00810333 0.7849948 ]\n",
      "[1. 0. 0.] <-> [0.98323417 0.00304832 0.01371745]\n",
      "[0. 1. 0.] <-> [0.2672772  0.7238194  0.00890331]\n",
      "[1. 0. 0.] <-> [0.8266454  0.00759935 0.16575533]\n",
      "[1. 0. 0.] <-> [0.99699235 0.00138518 0.00162246]\n",
      "[1. 0. 0.] <-> [0.99653023 0.00171177 0.00175811]\n",
      "[1. 0. 0.] <-> [0.9942427  0.00344699 0.00231023]\n",
      "[0. 1. 0.] <-> [0.01584211 0.9819802  0.00217773]\n",
      "[0. 1. 0.] <-> [0.00617478 0.99256414 0.00126114]\n",
      "[0. 0. 1.] <-> [0.00905306 0.00112746 0.98981947]\n",
      "[1. 0. 0.] <-> [0.9961682  0.00180854 0.00202325]\n",
      "[0. 1. 0.] <-> [0.07177228 0.9234305  0.00479727]\n",
      "[1. 0. 0.] <-> [0.99285066 0.00201123 0.00513814]\n",
      "[1. 0. 0.] <-> [0.99708945 0.00129084 0.00161976]\n",
      "[1. 0. 0.] <-> [0.99586236 0.00194892 0.00218862]\n",
      "[0. 1. 0.] <-> [0.78544724 0.20514858 0.00940414]\n",
      "[0. 1. 0.] <-> [0.00871876 0.9896318  0.00164942]\n",
      "[1. 0. 0.] <-> [0.99527645 0.00299379 0.00172979]\n",
      "[0. 1. 0.] <-> [0.00615135 0.9925735  0.00127515]\n",
      "[1. 0. 0.] <-> [0.8263587  0.16442914 0.00921219]\n",
      "[0. 1. 0.] <-> [0.00616157 0.9925721  0.00126632]\n",
      "[1. 0. 0.] <-> [0.99383    0.00185427 0.00431579]\n",
      "[0. 0. 1.] <-> [0.608505   0.00935009 0.38214487]\n",
      "[1. 0. 0.] <-> [0.99685574 0.00168411 0.00146006]\n",
      "[1. 0. 0.] <-> [0.9925533  0.00515824 0.00228846]\n",
      "[1. 0. 0.] <-> [0.99375653 0.00193859 0.00430489]\n",
      "{'accuracy': 0.9629629629629629, 'mean_square_error': 0.06991655145405308, 'categorical_crossentropy': 0.11101645010489004, 'essential_metrics': {0: {'tp_hit': 75, 'fp_hit': 3, 'tn_hit': 27, 'fn_hit': 3}, 1: {'tp_hit': 15, 'fp_hit': 2, 'tn_hit': 90, 'fn_hit': 1}, 2: {'tp_hit': 12, 'fp_hit': 1, 'tn_hit': 93, 'fn_hit': 2}}}\n"
     ]
    }
   ],
   "source": [
    "# recall phase\n",
    "score = model.evaluate(x_test, y_test, False)\n",
    "print(score)"
   ]
  },
  {
   "cell_type": "code",
   "execution_count": 11,
   "metadata": {},
   "outputs": [],
   "source": [
    "train_acc = [h['accuracy'] for h in history]\n",
    "train_mse = [h['mean_square_error'] for h in history]\n",
    "train_cce = [h['categorical_crossentropy'] for h in history]"
   ]
  },
  {
   "cell_type": "code",
   "execution_count": 12,
   "metadata": {},
   "outputs": [
    {
     "data": {
      "image/png": "[encoded data removed]",
      "text/plain": [
       "<Figure size 864x360 with 1 Axes>"
      ]
     },
     "metadata": {
      "needs_background": "light"
     },
     "output_type": "display_data"
    },
    {
     "data": {
      "image/png": "[encoded data removed]",
      "text/plain": [
       "<Figure size 864x360 with 1 Axes>"
      ]
     },
     "metadata": {
      "needs_background": "light"
     },
     "output_type": "display_data"
    }
   ],
   "source": [
    "draw_plot(x = [[i for i in range(len(history))], [(i+1)*breakpoint for i in range(len(checkpoints))]], y_list = [train_cce, [ ckp[model.loss_fn] for ckp in checkpoints ]], x_label = 'Epochs', \\\n",
    "    y_label = model.loss_fn, legend=['train', 'test'])\n",
    "acc = [ ckp['accuracy'] for ckp in checkpoints ]\n",
    "draw_plot(x = [[i for i in range(len(history))], [(i+1)*breakpoint for i in range(len(checkpoints))]], y_list = [train_acc, acc], x_label = 'Checkpoints', \\\n",
    "    y_label = 'accuracy', legend=['train', 'test'])"
   ]
  },
  {
   "cell_type": "code",
   "execution_count": 13,
   "metadata": {},
   "outputs": [
    {
     "name": "stdout",
     "output_type": "stream",
     "text": [
      "{'accuracy': 0.8827160493827161, 'mean_square_error': 0.2779918122252924, 'categorical_crossentropy': 0.519218020968967, 'essential_metrics': {0: {'tp_hit': 75, 'fp_hit': 14, 'tn_hit': 16, 'fn_hit': 3}, 1: {'tp_hit': 5, 'fp_hit': 0, 'tn_hit': 92, 'fn_hit': 11}, 2: {'tp_hit': 9, 'fp_hit': 5, 'tn_hit': 89, 'fn_hit': 5}}, 'checkpoint': 10} \n",
      "\n",
      "\n",
      "{'accuracy': 0.9135802469135802, 'mean_square_error': 0.2411975783870395, 'categorical_crossentropy': 0.46259565706606265, 'essential_metrics': {0: {'tp_hit': 77, 'fp_hit': 11, 'tn_hit': 19, 'fn_hit': 1}, 1: {'tp_hit': 8, 'fp_hit': 0, 'tn_hit': 92, 'fn_hit': 8}, 2: {'tp_hit': 9, 'fp_hit': 3, 'tn_hit': 91, 'fn_hit': 5}}, 'checkpoint': 20} \n",
      "\n",
      "\n",
      "{'accuracy': 0.9197530864197531, 'mean_square_error': 0.20194077620881704, 'categorical_crossentropy': 0.43697350113480177, 'essential_metrics': {0: {'tp_hit': 73, 'fp_hit': 6, 'tn_hit': 24, 'fn_hit': 5}, 1: {'tp_hit': 13, 'fp_hit': 1, 'tn_hit': 91, 'fn_hit': 3}, 2: {'tp_hit': 9, 'fp_hit': 6, 'tn_hit': 88, 'fn_hit': 5}}, 'checkpoint': 30} \n",
      "\n",
      "\n",
      "{'accuracy': 0.9135802469135802, 'mean_square_error': 0.2025927525211037, 'categorical_crossentropy': 0.41973053967511215, 'essential_metrics': {0: {'tp_hit': 73, 'fp_hit': 7, 'tn_hit': 23, 'fn_hit': 5}, 1: {'tp_hit': 12, 'fp_hit': 1, 'tn_hit': 91, 'fn_hit': 4}, 2: {'tp_hit': 9, 'fp_hit': 6, 'tn_hit': 88, 'fn_hit': 5}}, 'checkpoint': 40} \n",
      "\n",
      "\n",
      "{'accuracy': 0.9382716049382716, 'mean_square_error': 0.17151628956380152, 'categorical_crossentropy': 0.379309406986943, 'essential_metrics': {0: {'tp_hit': 76, 'fp_hit': 6, 'tn_hit': 24, 'fn_hit': 2}, 1: {'tp_hit': 13, 'fp_hit': 1, 'tn_hit': 91, 'fn_hit': 3}, 2: {'tp_hit': 9, 'fp_hit': 3, 'tn_hit': 91, 'fn_hit': 5}}, 'checkpoint': 50} \n",
      "\n",
      "\n",
      "{'accuracy': 0.9567901234567902, 'mean_square_error': 0.15721731015505164, 'categorical_crossentropy': 0.3761798010932075, 'essential_metrics': {0: {'tp_hit': 77, 'fp_hit': 5, 'tn_hit': 25, 'fn_hit': 1}, 1: {'tp_hit': 15, 'fp_hit': 1, 'tn_hit': 91, 'fn_hit': 1}, 2: {'tp_hit': 9, 'fp_hit': 1, 'tn_hit': 93, 'fn_hit': 5}}, 'checkpoint': 60} \n",
      "\n",
      "\n",
      "{'accuracy': 0.9444444444444444, 'mean_square_error': 0.14578216682961026, 'categorical_crossentropy': 0.3214284755565502, 'essential_metrics': {0: {'tp_hit': 77, 'fp_hit': 7, 'tn_hit': 23, 'fn_hit': 1}, 1: {'tp_hit': 13, 'fp_hit': 1, 'tn_hit': 91, 'fn_hit': 3}, 2: {'tp_hit': 9, 'fp_hit': 1, 'tn_hit': 93, 'fn_hit': 5}}, 'checkpoint': 70} \n",
      "\n",
      "\n",
      "{'accuracy': 0.9506172839506173, 'mean_square_error': 0.13305705900451376, 'categorical_crossentropy': 0.2938074359187373, 'essential_metrics': {0: {'tp_hit': 77, 'fp_hit': 7, 'tn_hit': 23, 'fn_hit': 1}, 1: {'tp_hit': 14, 'fp_hit': 1, 'tn_hit': 91, 'fn_hit': 2}, 2: {'tp_hit': 9, 'fp_hit': 0, 'tn_hit': 94, 'fn_hit': 5}}, 'checkpoint': 80} \n",
      "\n",
      "\n",
      "{'accuracy': 0.9444444444444444, 'mean_square_error': 0.12875185920102683, 'categorical_crossentropy': 0.2714451683892144, 'essential_metrics': {0: {'tp_hit': 78, 'fp_hit': 8, 'tn_hit': 22, 'fn_hit': 0}, 1: {'tp_hit': 12, 'fp_hit': 0, 'tn_hit': 92, 'fn_hit': 4}, 2: {'tp_hit': 9, 'fp_hit': 1, 'tn_hit': 93, 'fn_hit': 5}}, 'checkpoint': 90} \n",
      "\n",
      "\n",
      "{'accuracy': 0.9629629629629629, 'mean_square_error': 0.0974250356967275, 'categorical_crossentropy': 0.22577631915057148, 'essential_metrics': {0: {'tp_hit': 77, 'fp_hit': 5, 'tn_hit': 25, 'fn_hit': 1}, 1: {'tp_hit': 15, 'fp_hit': 1, 'tn_hit': 91, 'fn_hit': 1}, 2: {'tp_hit': 10, 'fp_hit': 0, 'tn_hit': 94, 'fn_hit': 4}}, 'checkpoint': 100} \n",
      "\n",
      "\n",
      "{'accuracy': 0.9629629629629629, 'mean_square_error': 0.09431839199199524, 'categorical_crossentropy': 0.20212664427580657, 'essential_metrics': {0: {'tp_hit': 76, 'fp_hit': 4, 'tn_hit': 26, 'fn_hit': 2}, 1: {'tp_hit': 16, 'fp_hit': 2, 'tn_hit': 90, 'fn_hit': 0}, 2: {'tp_hit': 10, 'fp_hit': 0, 'tn_hit': 94, 'fn_hit': 4}}, 'checkpoint': 110} \n",
      "\n",
      "\n",
      "{'accuracy': 0.9629629629629629, 'mean_square_error': 0.07248843560371608, 'categorical_crossentropy': 0.15246124620790835, 'essential_metrics': {0: {'tp_hit': 76, 'fp_hit': 4, 'tn_hit': 26, 'fn_hit': 2}, 1: {'tp_hit': 16, 'fp_hit': 2, 'tn_hit': 90, 'fn_hit': 0}, 2: {'tp_hit': 10, 'fp_hit': 0, 'tn_hit': 94, 'fn_hit': 4}}, 'checkpoint': 120} \n",
      "\n",
      "\n",
      "{'accuracy': 0.9814814814814815, 'mean_square_error': 0.06404001647973837, 'categorical_crossentropy': 0.13275798161824545, 'essential_metrics': {0: {'tp_hit': 77, 'fp_hit': 2, 'tn_hit': 28, 'fn_hit': 1}, 1: {'tp_hit': 15, 'fp_hit': 1, 'tn_hit': 91, 'fn_hit': 1}, 2: {'tp_hit': 13, 'fp_hit': 0, 'tn_hit': 94, 'fn_hit': 1}}, 'checkpoint': 130} \n",
      "\n",
      "\n",
      "{'accuracy': 0.9753086419753086, 'mean_square_error': 0.06288019747069812, 'categorical_crossentropy': 0.12741219555890118, 'essential_metrics': {0: {'tp_hit': 76, 'fp_hit': 2, 'tn_hit': 28, 'fn_hit': 2}, 1: {'tp_hit': 15, 'fp_hit': 2, 'tn_hit': 90, 'fn_hit': 1}, 2: {'tp_hit': 13, 'fp_hit': 0, 'tn_hit': 94, 'fn_hit': 1}}, 'checkpoint': 140} \n",
      "\n",
      "\n",
      "{'accuracy': 0.9691358024691358, 'mean_square_error': 0.06121553687834292, 'categorical_crossentropy': 0.11448180233990704, 'essential_metrics': {0: {'tp_hit': 76, 'fp_hit': 3, 'tn_hit': 27, 'fn_hit': 2}, 1: {'tp_hit': 15, 'fp_hit': 2, 'tn_hit': 90, 'fn_hit': 1}, 2: {'tp_hit': 12, 'fp_hit': 0, 'tn_hit': 94, 'fn_hit': 2}}, 'checkpoint': 150} \n",
      "\n",
      "\n",
      "{'accuracy': 0.9753086419753086, 'mean_square_error': 0.05965937905748358, 'categorical_crossentropy': 0.10591498127690067, 'essential_metrics': {0: {'tp_hit': 76, 'fp_hit': 2, 'tn_hit': 28, 'fn_hit': 2}, 1: {'tp_hit': 15, 'fp_hit': 2, 'tn_hit': 90, 'fn_hit': 1}, 2: {'tp_hit': 13, 'fp_hit': 0, 'tn_hit': 94, 'fn_hit': 1}}, 'checkpoint': 160} \n",
      "\n",
      "\n",
      "{'accuracy': 0.9753086419753086, 'mean_square_error': 0.057774567724025845, 'categorical_crossentropy': 0.1086663316797327, 'essential_metrics': {0: {'tp_hit': 76, 'fp_hit': 2, 'tn_hit': 28, 'fn_hit': 2}, 1: {'tp_hit': 15, 'fp_hit': 2, 'tn_hit': 90, 'fn_hit': 1}, 2: {'tp_hit': 13, 'fp_hit': 0, 'tn_hit': 94, 'fn_hit': 1}}, 'checkpoint': 170} \n",
      "\n",
      "\n",
      "{'accuracy': 0.9691358024691358, 'mean_square_error': 0.05870954464084521, 'categorical_crossentropy': 0.10198960480866609, 'essential_metrics': {0: {'tp_hit': 76, 'fp_hit': 3, 'tn_hit': 27, 'fn_hit': 2}, 1: {'tp_hit': 15, 'fp_hit': 2, 'tn_hit': 90, 'fn_hit': 1}, 2: {'tp_hit': 12, 'fp_hit': 0, 'tn_hit': 94, 'fn_hit': 2}}, 'checkpoint': 180} \n",
      "\n",
      "\n",
      "{'accuracy': 0.9629629629629629, 'mean_square_error': 0.06973392025320128, 'categorical_crossentropy': 0.11321180838125723, 'essential_metrics': {0: {'tp_hit': 75, 'fp_hit': 3, 'tn_hit': 27, 'fn_hit': 3}, 1: {'tp_hit': 15, 'fp_hit': 2, 'tn_hit': 90, 'fn_hit': 1}, 2: {'tp_hit': 12, 'fp_hit': 1, 'tn_hit': 93, 'fn_hit': 2}}, 'checkpoint': 190} \n",
      "\n",
      "\n",
      "{'accuracy': 0.9629629629629629, 'mean_square_error': 0.06991655145405308, 'categorical_crossentropy': 0.11101645010489004, 'essential_metrics': {0: {'tp_hit': 75, 'fp_hit': 3, 'tn_hit': 27, 'fn_hit': 3}, 1: {'tp_hit': 15, 'fp_hit': 2, 'tn_hit': 90, 'fn_hit': 1}, 2: {'tp_hit': 12, 'fp_hit': 1, 'tn_hit': 93, 'fn_hit': 2}}, 'checkpoint': 200} \n",
      "\n",
      "\n"
     ]
    }
   ],
   "source": [
    "for checkpoint in checkpoints:\n",
    "    print(checkpoint, '\\n\\n')"
   ]
  },
  {
   "cell_type": "code",
   "execution_count": 14,
   "metadata": {},
   "outputs": [
    {
     "name": "stdout",
     "output_type": "stream",
     "text": [
      "Layer 1\n",
      "Neuron 0: weights:\n",
      "[ 0.3141861   3.         -0.97271174 -3.         -2.6810906 ]\n",
      " bias: 1.6154627799987793\n",
      "\n",
      "Neuron 1: weights:\n",
      "[-2.3258529  3.         3.        -1.1004814  0.7345121]\n",
      " bias: -2.3050825595855713\n",
      "\n",
      "Neuron 2: weights:\n",
      "[ 0.11426107 -3.         -1.3063369   2.027808    2.8204484 ]\n",
      " bias: -2.758906126022339\n",
      "\n",
      "Neuron 3: weights:\n",
      "[-1.8236796  3.         1.9926381  0.6186596  1.0263848]\n",
      " bias: -1.5613776445388794\n",
      "\n",
      "$\n",
      "Layer 2\n",
      "Neuron 0: weights:\n",
      "[ 3.        -3.        -2.5997021 -3.       ]\n",
      " bias: 1.818196177482605\n",
      "\n",
      "Neuron 1: weights:\n",
      "[0.89799094 3.         0.15943082 3.        ]\n",
      " bias: -3.0\n",
      "\n",
      "Neuron 2: weights:\n",
      "[-3.         0.7165296  3.        -1.4598498]\n",
      " bias: 0.9729900360107422\n",
      "\n",
      "$\n",
      "\n"
     ]
    }
   ],
   "source": [
    "print(model)"
   ]
  },
  {
   "cell_type": "code",
   "execution_count": null,
   "metadata": {},
   "outputs": [],
   "source": []
  }
 ],
 "metadata": {
  "kernelspec": {
   "display_name": "Python 3",
   "language": "python",
   "name": "python3"
  },
  "language_info": {
   "codemirror_mode": {
    "name": "ipython",
    "version": 3
   },
   "file_extension": ".py",
   "mimetype": "text/x-python",
   "name": "python",
   "nbconvert_exporter": "python",
   "pygments_lexer": "ipython3",
   "version": "3.6.12"
  }
 },
 "nbformat": 4,
 "nbformat_minor": 2
}
