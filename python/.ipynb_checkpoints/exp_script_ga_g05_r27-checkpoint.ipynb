{
 "cells": [
  {
   "cell_type": "code",
   "execution_count": 1,
   "metadata": {},
   "outputs": [],
   "source": [
    "# single"
   ]
  },
  {
   "cell_type": "code",
   "execution_count": 2,
   "metadata": {},
   "outputs": [],
   "source": [
    "# dependency\n",
    "import numpy as np\n",
    "import pandas as pd\n",
    "import copy\n",
    "import math\n",
    "import sys\n",
    "import os\n",
    "from activations import relu, leaky_relu, sigmoid, tanh, softmax, d_sigmoid, d_relu\n",
    "from initializers import glorot_uniform, random_normal, random_uniform\n",
    "from regularizers import l1_regularizer, l2_regularizer\n",
    "from utility import trim_tail, multiply, subtract, get_nparams, one_hot_encoding, get_data\n",
    "from metrics import MSE, CCE, ACC, PRECISION, RECALL, essential_metrics, wondering_penalty, close_gap_penalty\n",
    "from pso import PSO\n",
    "from ga import GA\n",
    "from nn import Network\n",
    "from layer import DenseLayer\n",
    "from scalers import MinMaxScaler, StandardScaler"
   ]
  },
  {
   "cell_type": "code",
   "execution_count": 3,
   "metadata": {},
   "outputs": [],
   "source": [
    "# reference\n",
    "metrics_fn_dict = dict()\n",
    "metrics_fn_dict['accuracy'] = ACC\n",
    "metrics_fn_dict['categorical_crossentropy'] = CCE\n",
    "metrics_fn_dict['mean_square_error'] = MSE\n",
    "metrics_fn_dict['precision'] = PRECISION\n",
    "metrics_fn_dict['recall'] = RECALL\n",
    "metrics_fn_dict['essential_metrics'] = essential_metrics"
   ]
  },
  {
   "cell_type": "code",
   "execution_count": 4,
   "metadata": {},
   "outputs": [],
   "source": [
    "# model\n",
    "model = Network(5, lr = None)\n",
    "model.add_layer(DenseLayer(1, 4, True, afn=sigmoid, dafn=None, rfn=None))\n",
    "model.add_layer(DenseLayer(2, 3, True, afn=softmax, dafn=None, rfn=None))"
   ]
  },
  {
   "cell_type": "code",
   "execution_count": 5,
   "metadata": {},
   "outputs": [],
   "source": [
    "# optimizer\n",
    "ga = GA(\n",
    "    dict(\n",
    "        m = 200,\n",
    "        x_rate = [0.5, 1.0],\n",
    "        m_rate = [0.5, 1.0],\n",
    "        weight_constraint = [-3.,3.],\n",
    "        radioactive_rating = [0.1, 0.5],\n",
    "        grow_factor = [0.1, 0.5],\n",
    "        scale_hyperparameter = False,\n",
    "        regularizer = None))"
   ]
  },
  {
   "cell_type": "code",
   "execution_count": 6,
   "metadata": {},
   "outputs": [
    {
     "name": "stdout",
     "output_type": "stream",
     "text": [
      "building layer 1 with 5\n",
      "24\n",
      "building layer 2 with 4\n",
      "15\n"
     ]
    }
   ],
   "source": [
    "model.compile(loss_fn = 'categorical_crossentropy', optimizer = ga, \\\n",
    "    metrics = ['accuracy', 'mean_square_error', 'categorical_crossentropy', 'precision', 'recall', 'f1'])"
   ]
  },
  {
   "cell_type": "code",
   "execution_count": 7,
   "metadata": {},
   "outputs": [
    {
     "name": "stdout",
     "output_type": "stream",
     "text": [
      "<class 'pandas.core.frame.DataFrame'>\n",
      "RangeIndex: 107 entries, 0 to 106\n",
      "Data columns (total 6 columns):\n",
      " #   Column  Non-Null Count  Dtype  \n",
      "---  ------  --------------  -----  \n",
      " 0   f1      107 non-null    float32\n",
      " 1   f2      107 non-null    float32\n",
      " 2   f3      107 non-null    float32\n",
      " 3   f4      107 non-null    float32\n",
      " 4   f5      107 non-null    float32\n",
      " 5   label   107 non-null    float32\n",
      "dtypes: float32(6)\n",
      "memory usage: 2.6 KB\n",
      "None\n",
      "<class 'pandas.core.frame.DataFrame'>\n",
      "RangeIndex: 108 entries, 0 to 107\n",
      "Data columns (total 6 columns):\n",
      " #   Column  Non-Null Count  Dtype  \n",
      "---  ------  --------------  -----  \n",
      " 0   f1      108 non-null    float32\n",
      " 1   f2      108 non-null    float32\n",
      " 2   f3      108 non-null    float32\n",
      " 3   f4      108 non-null    float32\n",
      " 4   f5      108 non-null    float32\n",
      " 5   label   108 non-null    float32\n",
      "dtypes: float32(6)\n",
      "memory usage: 2.7 KB\n",
      "None\n"
     ]
    }
   ],
   "source": [
    "# data loading\n",
    "DATA = os.path.join('c:\\\\Users\\\\AI-lab\\\\github_repo\\\\neural-network\\\\', 'dataset')\n",
    "GROUP = 5\n",
    "COLUMNS = ['f1', 'f2', 'f3', 'f4', 'f5', 'label']\n",
    "N_CLASS = 3\n",
    "EPOCHS = 1000\n",
    "train_dir, test_dir = \"..//dataset//training_data{}.txt\".format(GROUP), \"..//dataset//testing_data{}.txt\".format(GROUP)\n",
    "train, test = get_data(DATA, train_dir, COLUMNS), get_data(DATA, test_dir, COLUMNS)\n",
    "# shuffle\n",
    "train, test = train.sample(frac=1), test.sample(frac=1)\n",
    "x_train, y_train = train.drop('label', axis=1), train['label']\n",
    "x_test, y_test = test.drop('label', axis=1), test['label']"
   ]
  },
  {
   "cell_type": "code",
   "execution_count": 8,
   "metadata": {},
   "outputs": [],
   "source": [
    "# data scaling and encoding\n",
    "scaler = StandardScaler(['f1', 'f2', 'f3', 'f4', 'f5'])\n",
    "scaler.fit(x_train)\n",
    "x_train = scaler.transform(x_train)\n",
    "x_test = scaler.transform(x_test)\n",
    "y_train = one_hot_encoding(y_train, N_CLASS)\n",
    "y_test = one_hot_encoding(y_test, N_CLASS)"
   ]
  },
  {
   "cell_type": "code",
   "execution_count": 9,
   "metadata": {
    "scrolled": true,
    "tags": [
     "outputPrepend"
    ]
   },
   "outputs": [
    {
     "name": "stderr",
     "output_type": "stream",
     "text": [
      "C:\\Users\\AI-lab\\github_repo\\neural-network\\python\\ga.py:203: RuntimeWarning: overflow encountered in add\n",
      "  self.population.sort(key=lambda p: p.fitness + np.random.uniform(-shift, shift, 1), reverse = self.aim)\n"
     ]
    },
    {
     "name": "stdout",
     "output_type": "stream",
     "text": [
      "Checkpoint 100, Accuracy: 0.9567901234567902, Loss: 0.2735863791571723\n",
      "Checkpoint 200, Accuracy: 0.9629629629629629, Loss: 0.233304465258563\n",
      "Checkpoint 300, Accuracy: 0.9691358024691358, Loss: 0.19141847115975838\n",
      "Checkpoint 400, Accuracy: 0.9691358024691358, Loss: 0.16831389179936163\n",
      "Checkpoint 500, Accuracy: 0.9691358024691358, Loss: 0.14112902570653846\n",
      "Checkpoint 600, Accuracy: 0.9691358024691358, Loss: 0.1341163052452935\n",
      "Checkpoint 700, Accuracy: 0.9691358024691358, Loss: 0.11738823078296802\n",
      "Checkpoint 800, Accuracy: 0.9691358024691358, Loss: 0.12185826124968352\n",
      "Checkpoint 900, Accuracy: 0.9691358024691358, Loss: 0.11920117448877406\n",
      "Checkpoint 1000, Accuracy: 0.9629629629629629, Loss: 0.1125722814489294\n"
     ]
    }
   ],
   "source": [
    "# learning phase\n",
    "breakpoint = 100\n",
    "checkpoints = list()\n",
    "history = list()\n",
    "for century in range(0, EPOCHS, breakpoint):\n",
    "    sub_history = model.fit(x_train, y_train, breakpoint, verbose = 0)\n",
    "    score = model.evaluate(x_test, y_test, False, verbose = 0)\n",
    "    print('Checkpoint {}, Accuracy: {}, Loss: {}'.format(century+breakpoint, score['accuracy'], score[model.loss_fn]))\n",
    "    score['checkpoint'] = century + breakpoint\n",
    "    checkpoints.append(score)\n",
    "    history.extend(sub_history)\n",
    "    itr = century + breakpoint\n",
    "\n",
    "    model.optimizer.rr = model.optimizer.radioactive_rating[1] - (model.optimizer.radioactive_rating[1] - model.optimizer.radioactive_rating[0]) / EPOCHS * (EPOCHS - itr)\n",
    "    model.optimizer.gf = model.optimizer.grow_factor[1] - (model.optimizer.grow_factor[1] - model.optimizer.grow_factor[0]) / EPOCHS * (EPOCHS - itr)\n",
    "    model.optimizer.crossover_rate = model.optimizer.x_rate[1] - (model.optimizer.x_rate[1] - model.optimizer.x_rate[0]) / EPOCHS * (EPOCHS - itr)\n",
    "    model.optimizer.mutation_rate = model.optimizer.m_rate[0] + (model.optimizer.m_rate[1] - model.optimizer.m_rate[0]) / EPOCHS * (EPOCHS - itr)"
   ]
  },
  {
   "cell_type": "code",
   "execution_count": 10,
   "metadata": {},
   "outputs": [],
   "source": [
    "train_acc = [ h['accuracy'] for h in history]\n",
    "train_mse = [h['mean_square_error'] for h in history]\n",
    "train_cce = [h['categorical_crossentropy'] for h in history]"
   ]
  },
  {
   "cell_type": "code",
   "execution_count": 11,
   "metadata": {},
   "outputs": [],
   "source": [
    "import matplotlib.pyplot as plt\n",
    "\n",
    "def draw_plot(x, y_list, x_label=None, y_label=None, legend=None, title=None):\n",
    "    fig, ax = plt.subplots(figsize=(12,5))\n",
    "    for xi, yi in zip(x, y_list):\n",
    "        ax.plot(xi, yi)\n",
    "    if x_label is not None and y_label is not None:\n",
    "        ax.set(xlabel=x_label, ylabel=y_label, title='{} VS {}'.format(x_label, y_label))\n",
    "    if legend is not None:\n",
    "        ax.legend(legend)\n",
    "    ax.grid()\n",
    "    plt.show()"
   ]
  },
  {
   "cell_type": "code",
   "execution_count": 12,
   "metadata": {},
   "outputs": [
    {
     "name": "stdout",
     "output_type": "stream",
     "text": [
      "[1. 0. 0.] <-> [0.991521   0.00554781 0.00293125]\n",
      "[1. 0. 0.] <-> [0.9929819  0.00389291 0.0031251 ]\n",
      "[1. 0. 0.] <-> [0.9639225  0.0037314  0.03234609]\n",
      "[1. 0. 0.] <-> [0.9481834  0.00333806 0.04847856]\n",
      "[1. 0. 0.] <-> [0.94313705 0.00350261 0.0533604 ]\n",
      "[1. 0. 0.] <-> [0.9859702  0.00334186 0.01068801]\n",
      "[0. 0. 1.] <-> [3.6867391e-03 5.2646443e-05 9.9626058e-01]\n",
      "[1. 0. 0.] <-> [0.99173343 0.00516611 0.00310047]\n",
      "[1. 0. 0.] <-> [0.9850116  0.01219315 0.00279525]\n",
      "[0. 1. 0.] <-> [1.5364502e-01 8.4575123e-01 6.0376653e-04]\n",
      "[1. 0. 0.] <-> [0.98459923 0.00319943 0.01220128]\n",
      "[1. 0. 0.] <-> [0.9925823  0.00318777 0.00422991]\n",
      "[1. 0. 0.] <-> [0.9900237  0.0072941  0.00268221]\n",
      "[0. 0. 1.] <-> [4.5881094e-03 5.9197126e-05 9.9535275e-01]\n",
      "[0. 1. 0.] <-> [0.5816726  0.4158327  0.00249466]\n",
      "[0. 1. 0.] <-> [0.29012647 0.70888394 0.00098956]\n",
      "[1. 0. 0.] <-> [0.9883879  0.00789239 0.00371976]\n",
      "[1. 0. 0.] <-> [0.99203885 0.00321318 0.00474804]\n",
      "[0. 0. 1.] <-> [3.8546186e-03 5.1210998e-05 9.9609417e-01]\n",
      "[1. 0. 0.] <-> [0.99088037 0.00297413 0.0061456 ]\n",
      "[0. 0. 1.] <-> [3.7213897e-03 5.0051105e-05 9.9622858e-01]\n",
      "[1. 0. 0.] <-> [0.8972996  0.00353382 0.09916655]\n",
      "[0. 1. 0.] <-> [7.3406924e-03 9.9262661e-01 3.2683685e-05]\n",
      "[1. 0. 0.] <-> [0.9846844  0.00400793 0.01130768]\n",
      "[1. 0. 0.] <-> [0.9905488  0.00292178 0.00652943]\n",
      "[1. 0. 0.] <-> [0.98615414 0.01131073 0.00253518]\n",
      "[1. 0. 0.] <-> [0.9855203  0.00347078 0.01100883]\n",
      "[1. 0. 0.] <-> [0.99255097 0.00460394 0.00284516]\n",
      "[0. 1. 0.] <-> [7.4054874e-03 9.9256176e-01 3.2764627e-05]\n",
      "[0. 1. 0.] <-> [7.3467456e-03 9.9262071e-01 3.2535649e-05]\n",
      "[1. 0. 0.] <-> [0.99295145 0.00368446 0.00336409]\n",
      "[1. 0. 0.] <-> [0.32069856 0.00246693 0.67683446]\n",
      "[0. 0. 1.] <-> [4.2132400e-03 5.5255401e-05 9.9573153e-01]\n",
      "[0. 0. 1.] <-> [0.8949541  0.00363214 0.10141371]\n",
      "[1. 0. 0.] <-> [0.95513743 0.04193396 0.00292864]\n",
      "[0. 0. 1.] <-> [3.6533973e-03 5.1475483e-05 9.9629515e-01]\n",
      "[1. 0. 0.] <-> [0.99164844 0.00314942 0.00520217]\n",
      "[0. 0. 1.] <-> [3.7831347e-03 5.0906354e-05 9.9616599e-01]\n",
      "[1. 0. 0.] <-> [0.99073786 0.0031087  0.00615356]\n",
      "[0. 0. 1.] <-> [3.8165129e-03 5.0938350e-05 9.9613261e-01]\n",
      "[1. 0. 0.] <-> [0.9819166  0.00353902 0.01454434]\n",
      "[0. 0. 1.] <-> [3.0267388e-03 2.8317500e-04 9.9669003e-01]\n",
      "[1. 0. 0.] <-> [0.9902188  0.00375247 0.00602869]\n",
      "[1. 0. 0.] <-> [0.99098724 0.00482121 0.00419151]\n",
      "[0. 1. 0.] <-> [7.3451218e-03 9.9262238e-01 3.2577183e-05]\n",
      "[0. 0. 1.] <-> [3.6214143e-03 5.4437976e-05 9.9632418e-01]\n",
      "[0. 1. 0.] <-> [0.70978576 0.28798    0.0022342 ]\n",
      "[1. 0. 0.] <-> [0.9852239  0.00314903 0.01162706]\n",
      "[0. 1. 0.] <-> [2.3449969e-02 9.7645426e-01 9.5775045e-05]\n",
      "[1. 0. 0.] <-> [0.99376416 0.00337194 0.00286391]\n",
      "[1. 0. 0.] <-> [0.9868685  0.00305321 0.01007837]\n",
      "[1. 0. 0.] <-> [0.9917579  0.00349317 0.00474897]\n",
      "[1. 0. 0.] <-> [0.9916358  0.00431974 0.00404455]\n",
      "[1. 0. 0.] <-> [0.98947024 0.00645739 0.0040724 ]\n",
      "[1. 0. 0.] <-> [0.9929189  0.00349597 0.00358517]\n",
      "[0. 0. 1.] <-> [0.90591013 0.00354454 0.09054536]\n",
      "[1. 0. 0.] <-> [0.99300426 0.00391297 0.00308271]\n",
      "[0. 1. 0.] <-> [7.3471693e-03 9.9262023e-01 3.2531538e-05]\n",
      "[1. 0. 0.] <-> [0.99298686 0.00402723 0.00298596]\n",
      "[1. 0. 0.] <-> [0.99265444 0.0036222  0.00372333]\n",
      "[1. 0. 0.] <-> [0.9318416  0.06529982 0.00285854]\n",
      "[1. 0. 0.] <-> [0.9912459  0.0034695  0.00528458]\n",
      "[0. 0. 1.] <-> [2.9118997e-03 5.7106331e-04 9.9651706e-01]\n",
      "[0. 0. 1.] <-> [0.21248485 0.00149555 0.78601956]\n",
      "[1. 0. 0.] <-> [0.99303585 0.00333337 0.00363077]\n",
      "[1. 0. 0.] <-> [0.99292433 0.0032277  0.00384796]\n",
      "[1. 0. 0.] <-> [0.9923563  0.00417013 0.00347359]\n",
      "[1. 0. 0.] <-> [0.9279011  0.00348116 0.06861775]\n",
      "[0. 0. 1.] <-> [3.9919866e-03 5.2986852e-05 9.9595499e-01]\n",
      "[1. 0. 0.] <-> [0.9929971  0.00362665 0.00337628]\n",
      "[0. 1. 0.] <-> [2.8720494e-02 9.7110760e-01 1.7189136e-04]\n",
      "[1. 0. 0.] <-> [0.9889109  0.00451386 0.00657515]\n",
      "[1. 0. 0.] <-> [0.6934768  0.00367724 0.30284593]\n",
      "[1. 0. 0.] <-> [0.99003893 0.00313722 0.00682381]\n",
      "[1. 0. 0.] <-> [0.9921467  0.00343925 0.00441404]\n",
      "[1. 0. 0.] <-> [0.99152887 0.00388418 0.00458698]\n",
      "[1. 0. 0.] <-> [0.8031094  0.00334778 0.19354285]\n",
      "[1. 0. 0.] <-> [0.9814942  0.00344415 0.01506165]\n",
      "[1. 0. 0.] <-> [0.9930107  0.00389022 0.00309909]\n",
      "[1. 0. 0.] <-> [0.95024574 0.00335981 0.04639445]\n",
      "[0. 1. 0.] <-> [0.7027588  0.29507968 0.00216161]\n",
      "[0. 1. 0.] <-> [7.825065e-03 9.921401e-01 3.489182e-05]\n",
      "[1. 0. 0.] <-> [0.99280244 0.00453974 0.00265787]\n",
      "[0. 1. 0.] <-> [7.5901225e-02 9.2381728e-01 2.8148660e-04]\n",
      "[1. 0. 0.] <-> [0.9841622  0.0031424  0.01269533]\n",
      "[1. 0. 0.] <-> [0.9930702  0.00314812 0.00378161]\n",
      "[1. 0. 0.] <-> [0.9775129  0.00326961 0.01921756]\n",
      "[1. 0. 0.] <-> [0.98878014 0.00322217 0.00799769]\n",
      "[1. 0. 0.] <-> [0.95639133 0.00338556 0.04022311]\n",
      "[1. 0. 0.] <-> [0.97384495 0.00378459 0.02237047]\n",
      "[1. 0. 0.] <-> [0.99054986 0.00606711 0.00338306]\n",
      "[1. 0. 0.] <-> [0.993364   0.00362179 0.00301421]\n",
      "[1. 0. 0.] <-> [0.9141237  0.00343256 0.08244381]\n",
      "[1. 0. 0.] <-> [0.9926434  0.00325395 0.00410273]\n",
      "[1. 0. 0.] <-> [0.993433   0.00307679 0.0034902 ]\n",
      "[0. 1. 0.] <-> [7.2841230e-03 9.9268204e-01 3.3804012e-05]\n",
      "[1. 0. 0.] <-> [0.9908037  0.00610823 0.00308803]\n",
      "[1. 0. 0.] <-> [0.95925313 0.0033582  0.03738867]\n",
      "[1. 0. 0.] <-> [0.9928589  0.00400791 0.00313315]\n",
      "[0. 1. 0.] <-> [7.3448122e-03 9.9262261e-01 3.2579366e-05]\n",
      "[0. 1. 0.] <-> [8.5196253e-03 9.9144310e-01 3.7220052e-05]\n",
      "[1. 0. 0.] <-> [0.9856302  0.0030485  0.01132138]\n",
      "[1. 0. 0.] <-> [0.94318575 0.0033699  0.05344438]\n",
      "[1. 0. 0.] <-> [0.990546   0.00436249 0.00509144]\n",
      "[1. 0. 0.] <-> [0.98895544 0.00793176 0.00311287]\n",
      "[1. 0. 0.] <-> [0.99186265 0.00315055 0.00498677]\n",
      "[1. 0. 0.] <-> [0.9567808  0.00343694 0.0397823 ]\n",
      "[1. 0. 0.] <-> [0.98464096 0.01233634 0.00302271]\n",
      "{'accuracy': 0.9629629629629629, 'mean_square_error': 0.06986469169520083, 'categorical_crossentropy': 0.1125722814489294, 'precision': 0.9444444444444444, 'recall': 0.9444444444444444, 'f1': 0.9444444444444444, 'essential_metrics': {0: {'tp_hit': 75, 'fp_hit': 5, 'tn_hit': 27, 'fn_hit': 1}, 1: {'tp_hit': 14, 'fp_hit': 0, 'tn_hit': 91, 'fn_hit': 3}, 2: {'tp_hit': 13, 'fp_hit': 1, 'tn_hit': 92, 'fn_hit': 2}}}\n"
     ]
    }
   ],
   "source": [
    "# recall phase\n",
    "score = model.evaluate(x_test, y_test, False)\n",
    "print(score)"
   ]
  },
  {
   "cell_type": "code",
   "execution_count": 13,
   "metadata": {},
   "outputs": [],
   "source": [
    "# Testing Performance"
   ]
  },
  {
   "cell_type": "code",
   "execution_count": 14,
   "metadata": {},
   "outputs": [
    {
     "data": {
      "image/png": "[encoded data removed]",
      "text/plain": [
       "<Figure size 864x360 with 1 Axes>"
      ]
     },
     "metadata": {
      "needs_background": "light"
     },
     "output_type": "display_data"
    },
    {
     "data": {
      "image/png": "[encoded data removed]",
      "text/plain": [
       "<Figure size 864x360 with 1 Axes>"
      ]
     },
     "metadata": {
      "needs_background": "light"
     },
     "output_type": "display_data"
    }
   ],
   "source": [
    "draw_plot(x = [[i for i in range(len(history))], [(i+1)*breakpoint for i in range(len(checkpoints))]], y_list = [train_cce, [ ckp[model.loss_fn] for ckp in checkpoints ]], x_label = 'Epochs', \\\n",
    "    y_label = model.loss_fn, legend=['train', 'test'])\n",
    "acc = [ ckp['accuracy'] for ckp in checkpoints ]\n",
    "draw_plot(x = [[i for i in range(len(history))], [(i+1)*breakpoint for i in range(len(checkpoints))]], y_list = [train_acc, acc], x_label = 'Checkpoints', \\\n",
    "    y_label = 'accuracy', legend=['train', 'test'])"
   ]
  },
  {
   "cell_type": "code",
   "execution_count": 15,
   "metadata": {
    "scrolled": false
   },
   "outputs": [
    {
     "name": "stdout",
     "output_type": "stream",
     "text": [
      "{'accuracy': 0.9567901234567902, 'mean_square_error': 0.13206505601478727, 'categorical_crossentropy': 0.2735863791571723, 'precision': 0.9351851851851852, 'recall': 0.9351851851851852, 'f1': 0.9351851851851852, 'essential_metrics': {0: {'tp_hit': 75, 'fp_hit': 6, 'tn_hit': 26, 'fn_hit': 1}, 1: {'tp_hit': 13, 'fp_hit': 0, 'tn_hit': 91, 'fn_hit': 4}, 2: {'tp_hit': 13, 'fp_hit': 1, 'tn_hit': 92, 'fn_hit': 2}}, 'checkpoint': 100} \n",
      "\n",
      "\n",
      "{'accuracy': 0.9629629629629629, 'mean_square_error': 0.10809312423874731, 'categorical_crossentropy': 0.233304465258563, 'precision': 0.9444444444444444, 'recall': 0.9444444444444444, 'f1': 0.9444444444444444, 'essential_metrics': {0: {'tp_hit': 75, 'fp_hit': 5, 'tn_hit': 27, 'fn_hit': 1}, 1: {'tp_hit': 14, 'fp_hit': 0, 'tn_hit': 91, 'fn_hit': 3}, 2: {'tp_hit': 13, 'fp_hit': 1, 'tn_hit': 92, 'fn_hit': 2}}, 'checkpoint': 200} \n",
      "\n",
      "\n",
      "{'accuracy': 0.9691358024691358, 'mean_square_error': 0.0879205596431199, 'categorical_crossentropy': 0.19141847115975838, 'precision': 0.9537037037037037, 'recall': 0.9537037037037037, 'f1': 0.9537037037037037, 'essential_metrics': {0: {'tp_hit': 75, 'fp_hit': 4, 'tn_hit': 28, 'fn_hit': 1}, 1: {'tp_hit': 15, 'fp_hit': 0, 'tn_hit': 91, 'fn_hit': 2}, 2: {'tp_hit': 13, 'fp_hit': 1, 'tn_hit': 92, 'fn_hit': 2}}, 'checkpoint': 300} \n",
      "\n",
      "\n",
      "{'accuracy': 0.9691358024691358, 'mean_square_error': 0.08541836198529326, 'categorical_crossentropy': 0.16831389179936163, 'precision': 0.9537037037037037, 'recall': 0.9537037037037037, 'f1': 0.9537037037037037, 'essential_metrics': {0: {'tp_hit': 75, 'fp_hit': 4, 'tn_hit': 28, 'fn_hit': 1}, 1: {'tp_hit': 15, 'fp_hit': 0, 'tn_hit': 91, 'fn_hit': 2}, 2: {'tp_hit': 13, 'fp_hit': 1, 'tn_hit': 92, 'fn_hit': 2}}, 'checkpoint': 400} \n",
      "\n",
      "\n",
      "{'accuracy': 0.9691358024691358, 'mean_square_error': 0.0716979047318213, 'categorical_crossentropy': 0.14112902570653846, 'precision': 0.9537037037037037, 'recall': 0.9537037037037037, 'f1': 0.9537037037037037, 'essential_metrics': {0: {'tp_hit': 75, 'fp_hit': 4, 'tn_hit': 28, 'fn_hit': 1}, 1: {'tp_hit': 15, 'fp_hit': 0, 'tn_hit': 91, 'fn_hit': 2}, 2: {'tp_hit': 13, 'fp_hit': 1, 'tn_hit': 92, 'fn_hit': 2}}, 'checkpoint': 500} \n",
      "\n",
      "\n",
      "{'accuracy': 0.9691358024691358, 'mean_square_error': 0.07155281625254976, 'categorical_crossentropy': 0.1341163052452935, 'precision': 0.9537037037037037, 'recall': 0.9537037037037037, 'f1': 0.9537037037037037, 'essential_metrics': {0: {'tp_hit': 75, 'fp_hit': 4, 'tn_hit': 28, 'fn_hit': 1}, 1: {'tp_hit': 15, 'fp_hit': 0, 'tn_hit': 91, 'fn_hit': 2}, 2: {'tp_hit': 13, 'fp_hit': 1, 'tn_hit': 92, 'fn_hit': 2}}, 'checkpoint': 600} \n",
      "\n",
      "\n",
      "{'accuracy': 0.9691358024691358, 'mean_square_error': 0.06368941819693824, 'categorical_crossentropy': 0.11738823078296802, 'precision': 0.9537037037037037, 'recall': 0.9537037037037037, 'f1': 0.9537037037037037, 'essential_metrics': {0: {'tp_hit': 75, 'fp_hit': 4, 'tn_hit': 28, 'fn_hit': 1}, 1: {'tp_hit': 15, 'fp_hit': 0, 'tn_hit': 91, 'fn_hit': 2}, 2: {'tp_hit': 13, 'fp_hit': 1, 'tn_hit': 92, 'fn_hit': 2}}, 'checkpoint': 700} \n",
      "\n",
      "\n",
      "{'accuracy': 0.9691358024691358, 'mean_square_error': 0.06944004048692876, 'categorical_crossentropy': 0.12185826124968352, 'precision': 0.9537037037037037, 'recall': 0.9537037037037037, 'f1': 0.9537037037037037, 'essential_metrics': {0: {'tp_hit': 75, 'fp_hit': 4, 'tn_hit': 28, 'fn_hit': 1}, 1: {'tp_hit': 15, 'fp_hit': 0, 'tn_hit': 91, 'fn_hit': 2}, 2: {'tp_hit': 13, 'fp_hit': 1, 'tn_hit': 92, 'fn_hit': 2}}, 'checkpoint': 800} \n",
      "\n",
      "\n",
      "{'accuracy': 0.9691358024691358, 'mean_square_error': 0.06974037956150375, 'categorical_crossentropy': 0.11920117448877406, 'precision': 0.9537037037037037, 'recall': 0.9537037037037037, 'f1': 0.9537037037037037, 'essential_metrics': {0: {'tp_hit': 75, 'fp_hit': 4, 'tn_hit': 28, 'fn_hit': 1}, 1: {'tp_hit': 15, 'fp_hit': 0, 'tn_hit': 91, 'fn_hit': 2}, 2: {'tp_hit': 13, 'fp_hit': 1, 'tn_hit': 92, 'fn_hit': 2}}, 'checkpoint': 900} \n",
      "\n",
      "\n",
      "{'accuracy': 0.9629629629629629, 'mean_square_error': 0.06986469169520083, 'categorical_crossentropy': 0.1125722814489294, 'precision': 0.9444444444444444, 'recall': 0.9444444444444444, 'f1': 0.9444444444444444, 'essential_metrics': {0: {'tp_hit': 75, 'fp_hit': 5, 'tn_hit': 27, 'fn_hit': 1}, 1: {'tp_hit': 14, 'fp_hit': 0, 'tn_hit': 91, 'fn_hit': 3}, 2: {'tp_hit': 13, 'fp_hit': 1, 'tn_hit': 92, 'fn_hit': 2}}, 'checkpoint': 1000} \n",
      "\n",
      "\n"
     ]
    }
   ],
   "source": [
    "for checkpoint in checkpoints:\n",
    "    print(checkpoint, '\\n\\n')"
   ]
  },
  {
   "cell_type": "code",
   "execution_count": 16,
   "metadata": {},
   "outputs": [
    {
     "name": "stdout",
     "output_type": "stream",
     "text": [
      "Layer 1\n",
      "Neuron 0: weights:\n",
      "[-1.8139391  2.9660158  2.1606157  1.4567146 -1.1832876]\n",
      " bias: -3.0\n",
      "\n",
      "Neuron 1: weights:\n",
      "[ 1.0097349 -1.447586   1.6376287  3.         2.8585775]\n",
      " bias: -2.6618101596832275\n",
      "\n",
      "Neuron 2: weights:\n",
      "[-0.858817    3.          1.4831411  -0.87844324 -0.37259936]\n",
      " bias: 3.0\n",
      "\n",
      "Neuron 3: weights:\n",
      "[-1.269846    2.1091397   2.9079516   2.7513633  -0.47761437]\n",
      " bias: -1.935874581336975\n",
      "\n",
      "$\n",
      "Layer 2\n",
      "Neuron 0: weights:\n",
      "[-3.        -2.6939144  2.980688  -3.       ]\n",
      " bias: 3.0\n",
      "\n",
      "Neuron 1: weights:\n",
      "[ 3.        -1.6459866  2.352484   1.8967458]\n",
      " bias: -2.3625235557556152\n",
      "\n",
      "Neuron 2: weights:\n",
      "[-2.8453014  2.985732  -3.        -2.5216584]\n",
      " bias: 2.92757248878479\n",
      "\n",
      "$\n",
      "\n"
     ]
    }
   ],
   "source": [
    "print(model)"
   ]
  }
 ],
 "metadata": {
  "kernelspec": {
   "display_name": "Python 3",
   "language": "python",
   "name": "python3"
  },
  "language_info": {
   "codemirror_mode": {
    "name": "ipython",
    "version": 3
   },
   "file_extension": ".py",
   "mimetype": "text/x-python",
   "name": "python",
   "nbconvert_exporter": "python",
   "pygments_lexer": "ipython3",
   "version": "3.6.12"
  }
 },
 "nbformat": 4,
 "nbformat_minor": 2
}
