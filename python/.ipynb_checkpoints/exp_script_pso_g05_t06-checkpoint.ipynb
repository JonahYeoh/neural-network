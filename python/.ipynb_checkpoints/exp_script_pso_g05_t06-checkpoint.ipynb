{
 "cells": [
  {
   "cell_type": "code",
   "execution_count": 1,
   "metadata": {},
   "outputs": [],
   "source": [
    "# dependency\n",
    "import numpy as np\n",
    "import pandas as pd\n",
    "import copy\n",
    "import math\n",
    "import sys\n",
    "import os\n",
    "from activations import relu, leaky_relu, sigmoid, tanh, softmax, d_sigmoid, d_relu\n",
    "from initializers import glorot_uniform, random_normal, random_uniform\n",
    "from regularizers import l1_regularizer, l2_regularizer\n",
    "from utility import trim_tail, multiply, subtract, get_nparams, one_hot_encoding, get_data\n",
    "from metrics import MSE, CCE, ACC, PRECISION, RECALL, essential_metrics, wondering_penalty, close_gap_penalty\n",
    "from pso import PSO\n",
    "from ga import GA\n",
    "from nn import Network\n",
    "from layer import DenseLayer\n",
    "from scalers import MinMaxScaler, StandardScaler"
   ]
  },
  {
   "cell_type": "code",
   "execution_count": 2,
   "metadata": {},
   "outputs": [],
   "source": [
    "# reference\n",
    "metrics_fn_dict = dict()\n",
    "metrics_fn_dict['accuracy'] = ACC\n",
    "metrics_fn_dict['categorical_crossentropy'] = CCE\n",
    "metrics_fn_dict['mean_square_error'] = MSE\n",
    "metrics_fn_dict['precision'] = PRECISION\n",
    "metrics_fn_dict['recall'] = RECALL\n",
    "metrics_fn_dict['essential_metrics'] = essential_metrics"
   ]
  },
  {
   "cell_type": "code",
   "execution_count": 3,
   "metadata": {},
   "outputs": [],
   "source": [
    "# model\n",
    "model = Network(5, lr = None)\n",
    "model.add_layer(DenseLayer(1, 4, True, afn=sigmoid, dafn=None, rfn=None))\n",
    "model.add_layer(DenseLayer(2, 3, True, afn=softmax, dafn=None, rfn=None))"
   ]
  },
  {
   "cell_type": "code",
   "execution_count": 4,
   "metadata": {},
   "outputs": [
    {
     "name": "stdout",
     "output_type": "stream",
     "text": [
      "see one see two 2.0 0.5\n"
     ]
    }
   ],
   "source": [
    "pso = PSO(dict(m = 100,\n",
    "    weight_constraint = [-3, 3], \n",
    "    velocity_constraint = [-0.1, 0.1],\n",
    "    c1 = [0.5, 2.0],\n",
    "    c2 = [0.5, 2.0],\n",
    "    w = [0.5, 1.6],\n",
    "    w_decay = 0.95,\n",
    "    scale_hyperparameter = False,\n",
    "    regularizer = None,\n",
    "    mask = True))"
   ]
  },
  {
   "cell_type": "code",
   "execution_count": 5,
   "metadata": {},
   "outputs": [
    {
     "name": "stdout",
     "output_type": "stream",
     "text": [
      "building layer 1 with 5\n",
      "24\n",
      "building layer 2 with 4\n",
      "15\n"
     ]
    }
   ],
   "source": [
    "model.compile(loss_fn = 'categorical_crossentropy', optimizer = pso, \\\n",
    "    metrics = ['accuracy', 'mean_square_error', 'categorical_crossentropy'])"
   ]
  },
  {
   "cell_type": "code",
   "execution_count": 6,
   "metadata": {},
   "outputs": [
    {
     "name": "stdout",
     "output_type": "stream",
     "text": [
      "<class 'pandas.core.frame.DataFrame'>\n",
      "RangeIndex: 107 entries, 0 to 106\n",
      "Data columns (total 6 columns):\n",
      " #   Column  Non-Null Count  Dtype  \n",
      "---  ------  --------------  -----  \n",
      " 0   f1      107 non-null    float32\n",
      " 1   f2      107 non-null    float32\n",
      " 2   f3      107 non-null    float32\n",
      " 3   f4      107 non-null    float32\n",
      " 4   f5      107 non-null    float32\n",
      " 5   label   107 non-null    float32\n",
      "dtypes: float32(6)\n",
      "memory usage: 2.6 KB\n",
      "None\n",
      "<class 'pandas.core.frame.DataFrame'>\n",
      "RangeIndex: 108 entries, 0 to 107\n",
      "Data columns (total 6 columns):\n",
      " #   Column  Non-Null Count  Dtype  \n",
      "---  ------  --------------  -----  \n",
      " 0   f1      108 non-null    float32\n",
      " 1   f2      108 non-null    float32\n",
      " 2   f3      108 non-null    float32\n",
      " 3   f4      108 non-null    float32\n",
      " 4   f5      108 non-null    float32\n",
      " 5   label   108 non-null    float32\n",
      "dtypes: float32(6)\n",
      "memory usage: 2.7 KB\n",
      "None\n"
     ]
    }
   ],
   "source": [
    "# data loading\n",
    "DATA = os.path.join('c:\\\\Users\\\\AI-lab\\\\github_repo\\\\neural-network\\\\', 'dataset')\n",
    "GROUP = 5\n",
    "COLUMNS = ['f1', 'f2', 'f3', 'f4', 'f5', 'label']\n",
    "N_CLASS = 3\n",
    "EPOCHS = 200\n",
    "train_dir, test_dir = \"..//dataset//training_data{}.txt\".format(GROUP), \"..//dataset//testing_data{}.txt\".format(GROUP)\n",
    "train, test = get_data(DATA, train_dir, COLUMNS), get_data(DATA, test_dir, COLUMNS)\n",
    "# shuffle\n",
    "train, test = train.sample(frac=1), test.sample(frac=1)\n",
    "x_train, y_train = train.drop('label', axis=1), train['label']\n",
    "x_test, y_test = test.drop('label', axis=1), test['label']"
   ]
  },
  {
   "cell_type": "code",
   "execution_count": 7,
   "metadata": {},
   "outputs": [],
   "source": [
    "# data scaling and encoding\n",
    "scaler = StandardScaler(['f1', 'f2', 'f3', 'f4', 'f5'])\n",
    "scaler.fit(x_train)\n",
    "x_train = scaler.transform(x_train)\n",
    "x_test = scaler.transform(x_test)\n",
    "y_train = one_hot_encoding(y_train, N_CLASS)\n",
    "y_test = one_hot_encoding(y_test, N_CLASS)"
   ]
  },
  {
   "cell_type": "code",
   "execution_count": 8,
   "metadata": {
    "tags": [
     "outputPrepend"
    ]
   },
   "outputs": [
    {
     "name": "stdout",
     "output_type": "stream",
     "text": [
      "Checkpoint 10, Accuracy: 0.8888888888888888, Loss: 0.635829007184064\n",
      "Checkpoint 20, Accuracy: 0.8765432098765432, Loss: 0.6292759224220559\n",
      "Checkpoint 30, Accuracy: 0.8518518518518519, Loss: 0.542486826578776\n",
      "Checkpoint 40, Accuracy: 0.8888888888888888, Loss: 0.499614503648546\n",
      "Checkpoint 50, Accuracy: 0.9074074074074074, Loss: 0.4673985375298394\n",
      "Checkpoint 60, Accuracy: 0.9135802469135802, Loss: 0.4590508849532516\n",
      "Checkpoint 70, Accuracy: 0.9197530864197531, Loss: 0.41795780040599684\n",
      "Checkpoint 80, Accuracy: 0.9135802469135802, Loss: 0.3938594041047273\n",
      "Checkpoint 90, Accuracy: 0.9506172839506173, Loss: 0.30878497936107496\n",
      "Checkpoint 100, Accuracy: 0.9382716049382716, Loss: 0.2891612935949255\n",
      "Checkpoint 110, Accuracy: 0.9629629629629629, Loss: 0.2548930733292191\n",
      "Checkpoint 120, Accuracy: 0.9691358024691358, Loss: 0.2086959061799226\n",
      "Checkpoint 130, Accuracy: 0.9506172839506173, Loss: 0.19190125995212132\n",
      "Checkpoint 140, Accuracy: 0.9567901234567902, Loss: 0.17552209783483436\n",
      "Checkpoint 150, Accuracy: 0.9691358024691358, Loss: 0.158801414348461\n",
      "Checkpoint 160, Accuracy: 0.9567901234567902, Loss: 0.16282302361947518\n",
      "Checkpoint 170, Accuracy: 0.9691358024691358, Loss: 0.14913754993014866\n",
      "Checkpoint 180, Accuracy: 0.9629629629629629, Loss: 0.16900636531688548\n",
      "Checkpoint 190, Accuracy: 0.9629629629629629, Loss: 0.1544186097604257\n",
      "Checkpoint 200, Accuracy: 0.9691358024691358, Loss: 0.12466850987187138\n"
     ]
    }
   ],
   "source": [
    "# learning phase\n",
    "breakpoint = 10\n",
    "checkpoints = list()\n",
    "history = list()\n",
    "for century in range(0, EPOCHS, breakpoint):\n",
    "    sub_history = model.fit(x_train, y_train, breakpoint, verbose = 0)\n",
    "    score = model.evaluate(x_test, y_test, False, verbose = 0)\n",
    "    print('Checkpoint {}, Accuracy: {}, Loss: {}'.format(century+breakpoint, score['accuracy'], score[model.loss_fn]))\n",
    "    score['checkpoint'] = century + breakpoint\n",
    "    checkpoints.append(score)\n",
    "    history.extend(sub_history)\n",
    "    itr = century + breakpoint\n",
    "    model.optimizer.c1 = np.max([model.optimizer.C1[1] - ((model.optimizer.C1[1] - model.optimizer.C1[0]) * itr / EPOCHS), model.optimizer.C1[0]])\n",
    "    model.optimizer.c2 = np.min([model.optimizer.C2[0] + ((model.optimizer.C2[1] - model.optimizer.C2[0]) * itr / EPOCHS), model.optimizer.C2[1]])\n",
    "    model.optimizer.w = np.max([model.optimizer.w * model.optimizer.W_Decay, model.optimizer.W[0]])"
   ]
  },
  {
   "cell_type": "code",
   "execution_count": 9,
   "metadata": {},
   "outputs": [],
   "source": [
    "import matplotlib.pyplot as plt\n",
    "\n",
    "def draw_plot(x, y_list, x_label=None, y_label=None, legend=None, title=None):\n",
    "    fig, ax = plt.subplots(figsize=(12,5))\n",
    "    for xi, yi in zip(x, y_list):\n",
    "        ax.plot(xi, yi)\n",
    "    if x_label is not None and y_label is not None:\n",
    "        ax.set(xlabel=x_label, ylabel=y_label, title='{} VS {}'.format(x_label, y_label))\n",
    "    if legend is not None:\n",
    "        ax.legend(legend)\n",
    "    ax.grid()\n",
    "    plt.show()"
   ]
  },
  {
   "cell_type": "code",
   "execution_count": 10,
   "metadata": {},
   "outputs": [
    {
     "name": "stdout",
     "output_type": "stream",
     "text": [
      "[0. 0. 1.] <-> [0.00360388 0.0059036  0.9904925 ]\n",
      "[1. 0. 0.] <-> [0.99566805 0.0027047  0.00162723]\n",
      "[0. 1. 0.] <-> [0.1281469  0.86540055 0.0064526 ]\n",
      "[1. 0. 0.] <-> [0.9967691  0.00205676 0.00117418]\n",
      "[1. 0. 0.] <-> [0.99670947 0.0019375  0.00135299]\n",
      "[1. 0. 0.] <-> [0.99692386 0.00202558 0.00105055]\n",
      "[1. 0. 0.] <-> [0.993558   0.00513592 0.00130602]\n",
      "[0. 1. 0.] <-> [0.96605396 0.03158119 0.00236481]\n",
      "[1. 0. 0.] <-> [0.8669687  0.0024771  0.13055421]\n",
      "[1. 0. 0.] <-> [0.9968832  0.00199838 0.00111835]\n",
      "[1. 0. 0.] <-> [0.9913572  0.00302443 0.00561831]\n",
      "[1. 0. 0.] <-> [0.9205263  0.07472128 0.00475237]\n",
      "[1. 0. 0.] <-> [0.9809264  0.00299578 0.01607786]\n",
      "[1. 0. 0.] <-> [0.9961765  0.00250223 0.00132129]\n",
      "[1. 0. 0.] <-> [0.9954716  0.00338319 0.00114523]\n",
      "[1. 0. 0.] <-> [0.99606675 0.00286874 0.00106449]\n",
      "[1. 0. 0.] <-> [0.9966184  0.00207809 0.00130358]\n",
      "[1. 0. 0.] <-> [0.9962077  0.00276103 0.00103134]\n",
      "[1. 0. 0.] <-> [0.99014354 0.00741506 0.00244138]\n",
      "[1. 0. 0.] <-> [0.9758725  0.02046633 0.00366107]\n",
      "[0. 0. 1.] <-> [2.5566902e-02 1.3798379e-04 9.7429514e-01]\n",
      "[1. 0. 0.] <-> [0.9963922  0.00238097 0.00122685]\n",
      "[1. 0. 0.] <-> [9.9656725e-01 2.5526977e-03 8.8004884e-04]\n",
      "[1. 0. 0.] <-> [0.995823   0.00234773 0.00182923]\n",
      "[1. 0. 0.] <-> [9.963386e-01 2.779058e-03 8.823783e-04]\n",
      "[1. 0. 0.] <-> [9.966838e-01 2.424590e-03 8.915800e-04]\n",
      "[1. 0. 0.] <-> [0.9929503  0.0023585  0.00469114]\n",
      "[1. 0. 0.] <-> [0.9964271  0.00255367 0.00101911]\n",
      "[0. 0. 1.] <-> [2.5938809e-02 1.3931878e-04 9.7392184e-01]\n",
      "[0. 1. 0.] <-> [0.00592193 0.99215466 0.00192333]\n",
      "[1. 0. 0.] <-> [0.9952748  0.00207341 0.00265174]\n",
      "[1. 0. 0.] <-> [0.98619485 0.00302159 0.01078356]\n",
      "[0. 0. 1.] <-> [1.5841668e-02 1.7664487e-04 9.8398167e-01]\n",
      "[1. 0. 0.] <-> [0.99399287 0.00471355 0.00129358]\n",
      "[1. 0. 0.] <-> [9.9651837e-01 2.5416813e-03 9.3991426e-04]\n",
      "[1. 0. 0.] <-> [0.99602616 0.00274926 0.00122468]\n",
      "[1. 0. 0.] <-> [0.98688555 0.00218645 0.01092797]\n",
      "[1. 0. 0.] <-> [0.9960223  0.00280692 0.00117083]\n",
      "[1. 0. 0.] <-> [0.99579513 0.00242505 0.00177982]\n",
      "[1. 0. 0.] <-> [0.9965148  0.00219288 0.00129223]\n",
      "[1. 0. 0.] <-> [0.9490916  0.0023743  0.04853411]\n",
      "[1. 0. 0.] <-> [0.9820086  0.01613766 0.00185368]\n",
      "[0. 1. 0.] <-> [0.0056016  0.99253994 0.00185847]\n",
      "[0. 0. 1.] <-> [2.2330480e-02 1.7478953e-04 9.7749478e-01]\n",
      "[0. 1. 0.] <-> [0.00560166 0.99253994 0.00185848]\n",
      "[1. 0. 0.] <-> [0.99048305 0.00786662 0.00165034]\n",
      "[1. 0. 0.] <-> [0.99328125 0.00486613 0.00185263]\n",
      "[0. 1. 0.] <-> [0.01082419 0.98651946 0.00265633]\n",
      "[0. 0. 1.] <-> [2.3463737e-02 1.5751936e-04 9.7637880e-01]\n",
      "[1. 0. 0.] <-> [0.99653804 0.00220032 0.00126167]\n",
      "[0. 0. 1.] <-> [0.866652   0.00245506 0.13089299]\n",
      "[0. 0. 1.] <-> [0.83559746 0.0026043  0.1617982 ]\n",
      "[0. 1. 0.] <-> [0.73816806 0.25525755 0.00657436]\n",
      "[0. 0. 1.] <-> [2.5613843e-02 1.3795334e-04 9.7424817e-01]\n",
      "[1. 0. 0.] <-> [0.9488163  0.00230472 0.04887901]\n",
      "[1. 0. 0.] <-> [0.99477035 0.00187375 0.00335582]\n",
      "[0. 1. 0.] <-> [0.00560154 0.99254006 0.00185846]\n",
      "[0. 1. 0.] <-> [0.2170131  0.772844   0.01014293]\n",
      "[0. 1. 0.] <-> [0.00576979 0.9923443  0.00188586]\n",
      "[0. 1. 0.] <-> [0.00560863 0.9925315  0.00185987]\n",
      "[0. 0. 1.] <-> [2.4101991e-02 1.4028950e-04 9.7575778e-01]\n",
      "[1. 0. 0.] <-> [0.9576957  0.00269034 0.03961402]\n",
      "[0. 0. 1.] <-> [0.1684459  0.00101208 0.830542  ]\n",
      "[1. 0. 0.] <-> [0.9969676  0.00202298 0.00100942]\n",
      "[1. 0. 0.] <-> [0.6403233  0.00275712 0.35691962]\n",
      "[1. 0. 0.] <-> [0.99597234 0.00166385 0.00236381]\n",
      "[1. 0. 0.] <-> [0.9964644  0.0018437  0.00169195]\n",
      "[1. 0. 0.] <-> [0.98759615 0.0025786  0.00982526]\n",
      "[1. 0. 0.] <-> [0.5940921  0.00565322 0.4002547 ]\n",
      "[1. 0. 0.] <-> [0.996182   0.001721   0.00209699]\n",
      "[0. 1. 0.] <-> [0.00560173 0.9925398  0.0018585 ]\n",
      "[0. 0. 1.] <-> [2.2416018e-02 1.7620053e-04 9.7740775e-01]\n",
      "[1. 0. 0.] <-> [0.99473864 0.00411528 0.00114609]\n",
      "[1. 0. 0.] <-> [0.954769   0.00255165 0.04267935]\n",
      "[0. 1. 0.] <-> [0.025424   0.97086865 0.00370733]\n",
      "[1. 0. 0.] <-> [0.9961713  0.00270393 0.00112484]\n",
      "[1. 0. 0.] <-> [0.75389975 0.00250132 0.2435989 ]\n",
      "[1. 0. 0.] <-> [0.97046643 0.0020696  0.027464  ]\n",
      "[0. 0. 1.] <-> [0.0043149  0.00423785 0.9914472 ]\n",
      "[0. 0. 1.] <-> [0.0036123  0.00587595 0.9905117 ]\n",
      "[1. 0. 0.] <-> [0.989141   0.00250094 0.00835798]\n",
      "[1. 0. 0.] <-> [0.9909072  0.00235126 0.00674159]\n",
      "[1. 0. 0.] <-> [0.995784   0.00230905 0.00190692]\n",
      "[1. 0. 0.] <-> [0.9339401  0.00234503 0.06371491]\n",
      "[1. 0. 0.] <-> [0.9928804  0.0020864  0.00503314]\n",
      "[1. 0. 0.] <-> [0.9963038  0.00174092 0.00195532]\n",
      "[1. 0. 0.] <-> [0.99552476 0.00190139 0.00257385]\n",
      "[0. 1. 0.] <-> [0.00560152 0.99254006 0.00185845]\n",
      "[0. 1. 0.] <-> [0.0056023  0.992539   0.00185863]\n",
      "[1. 0. 0.] <-> [0.9758204  0.02237014 0.0018095 ]\n",
      "[1. 0. 0.] <-> [0.99693596 0.0018811  0.00118294]\n",
      "[1. 0. 0.] <-> [0.9957853  0.00312434 0.0010903 ]\n",
      "[1. 0. 0.] <-> [0.9916414  0.00232068 0.00603793]\n",
      "[1. 0. 0.] <-> [0.95813096 0.00223659 0.03963244]\n",
      "[0. 1. 0.] <-> [0.28524435 0.70710933 0.00764628]\n",
      "[1. 0. 0.] <-> [9.9713969e-01 1.9844915e-03 8.7586005e-04]\n",
      "[1. 0. 0.] <-> [0.9936645  0.0023842  0.00395124]\n",
      "[1. 0. 0.] <-> [0.9887527  0.0096162  0.00163106]\n",
      "[1. 0. 0.] <-> [0.9729187  0.00194921 0.02513218]\n",
      "[1. 0. 0.] <-> [0.9968182  0.0021383  0.00104339]\n",
      "[1. 0. 0.] <-> [9.9665773e-01 2.4174359e-03 9.2479581e-04]\n",
      "[1. 0. 0.] <-> [0.993789   0.00479087 0.00142011]\n",
      "[0. 0. 1.] <-> [2.5354424e-02 1.3832138e-04 9.7450721e-01]\n",
      "[0. 1. 0.] <-> [0.526129   0.46242982 0.01144115]\n",
      "[1. 0. 0.] <-> [0.6387618  0.00183514 0.35940304]\n",
      "[1. 0. 0.] <-> [0.9949273  0.00392952 0.00114327]\n",
      "[1. 0. 0.] <-> [0.9955323  0.00237297 0.00209474]\n",
      "[1. 0. 0.] <-> [0.95034534 0.04615301 0.0035017 ]\n",
      "{'accuracy': 0.9691358024691358, 'mean_square_error': 0.07283264344383915, 'categorical_crossentropy': 0.12466850987187138, 'essential_metrics': {0: {'tp_hit': 76, 'fp_hit': 5, 'tn_hit': 27, 'fn_hit': 0}, 1: {'tp_hit': 14, 'fp_hit': 0, 'tn_hit': 91, 'fn_hit': 3}, 2: {'tp_hit': 13, 'fp_hit': 0, 'tn_hit': 93, 'fn_hit': 2}}}\n"
     ]
    }
   ],
   "source": [
    "# recall phase\n",
    "score = model.evaluate(x_test, y_test, False)\n",
    "print(score)"
   ]
  },
  {
   "cell_type": "code",
   "execution_count": 11,
   "metadata": {},
   "outputs": [],
   "source": [
    "train_acc = [h['accuracy'] for h in history]\n",
    "train_mse = [h['mean_square_error'] for h in history]\n",
    "train_cce = [h['categorical_crossentropy'] for h in history]"
   ]
  },
  {
   "cell_type": "code",
   "execution_count": 12,
   "metadata": {},
   "outputs": [
    {
     "data": {
      "image/png": "[encoded data removed]",
      "text/plain": [
       "<Figure size 864x360 with 1 Axes>"
      ]
     },
     "metadata": {
      "needs_background": "light"
     },
     "output_type": "display_data"
    },
    {
     "data": {
      "image/png": "[encoded data removed]",
      "text/plain": [
       "<Figure size 864x360 with 1 Axes>"
      ]
     },
     "metadata": {
      "needs_background": "light"
     },
     "output_type": "display_data"
    }
   ],
   "source": [
    "draw_plot(x = [[i for i in range(len(history))], [(i+1)*breakpoint for i in range(len(checkpoints))]], y_list = [train_cce, [ ckp[model.loss_fn] for ckp in checkpoints ]], x_label = 'Epochs', \\\n",
    "    y_label = model.loss_fn, legend=['train', 'test'])\n",
    "acc = [ ckp['accuracy'] for ckp in checkpoints ]\n",
    "draw_plot(x = [[i for i in range(len(history))], [(i+1)*breakpoint for i in range(len(checkpoints))]], y_list = [train_acc, acc], x_label = 'Checkpoints', \\\n",
    "    y_label = 'accuracy', legend=['train', 'test'])"
   ]
  },
  {
   "cell_type": "code",
   "execution_count": 13,
   "metadata": {},
   "outputs": [
    {
     "name": "stdout",
     "output_type": "stream",
     "text": [
      "{'accuracy': 0.8888888888888888, 'mean_square_error': 0.32637733457774476, 'categorical_crossentropy': 0.635829007184064, 'essential_metrics': {0: {'tp_hit': 76, 'fp_hit': 18, 'tn_hit': 14, 'fn_hit': 0}, 1: {'tp_hit': 10, 'fp_hit': 0, 'tn_hit': 91, 'fn_hit': 7}, 2: {'tp_hit': 4, 'fp_hit': 0, 'tn_hit': 93, 'fn_hit': 11}}, 'checkpoint': 10} \n",
      "\n",
      "\n",
      "{'accuracy': 0.8765432098765432, 'mean_square_error': 0.30708763282664814, 'categorical_crossentropy': 0.6292759224220559, 'essential_metrics': {0: {'tp_hit': 76, 'fp_hit': 20, 'tn_hit': 12, 'fn_hit': 0}, 1: {'tp_hit': 9, 'fp_hit': 0, 'tn_hit': 91, 'fn_hit': 8}, 2: {'tp_hit': 3, 'fp_hit': 0, 'tn_hit': 93, 'fn_hit': 12}}, 'checkpoint': 20} \n",
      "\n",
      "\n",
      "{'accuracy': 0.8518518518518519, 'mean_square_error': 0.30389956376497446, 'categorical_crossentropy': 0.542486826578776, 'essential_metrics': {0: {'tp_hit': 76, 'fp_hit': 23, 'tn_hit': 9, 'fn_hit': 0}, 1: {'tp_hit': 1, 'fp_hit': 1, 'tn_hit': 90, 'fn_hit': 16}, 2: {'tp_hit': 7, 'fp_hit': 0, 'tn_hit': 93, 'fn_hit': 8}}, 'checkpoint': 30} \n",
      "\n",
      "\n",
      "{'accuracy': 0.8888888888888888, 'mean_square_error': 0.26737923635065236, 'categorical_crossentropy': 0.499614503648546, 'essential_metrics': {0: {'tp_hit': 76, 'fp_hit': 18, 'tn_hit': 14, 'fn_hit': 0}, 1: {'tp_hit': 10, 'fp_hit': 0, 'tn_hit': 91, 'fn_hit': 7}, 2: {'tp_hit': 4, 'fp_hit': 0, 'tn_hit': 93, 'fn_hit': 11}}, 'checkpoint': 40} \n",
      "\n",
      "\n",
      "{'accuracy': 0.9074074074074074, 'mean_square_error': 0.24516028626351247, 'categorical_crossentropy': 0.4673985375298394, 'essential_metrics': {0: {'tp_hit': 75, 'fp_hit': 14, 'tn_hit': 18, 'fn_hit': 1}, 1: {'tp_hit': 12, 'fp_hit': 1, 'tn_hit': 90, 'fn_hit': 5}, 2: {'tp_hit': 6, 'fp_hit': 0, 'tn_hit': 93, 'fn_hit': 9}}, 'checkpoint': 50} \n",
      "\n",
      "\n",
      "{'accuracy': 0.9135802469135802, 'mean_square_error': 0.24263527776758184, 'categorical_crossentropy': 0.4590508849532516, 'essential_metrics': {0: {'tp_hit': 76, 'fp_hit': 12, 'tn_hit': 20, 'fn_hit': 0}, 1: {'tp_hit': 13, 'fp_hit': 0, 'tn_hit': 91, 'fn_hit': 4}, 2: {'tp_hit': 5, 'fp_hit': 2, 'tn_hit': 91, 'fn_hit': 10}}, 'checkpoint': 60} \n",
      "\n",
      "\n",
      "{'accuracy': 0.9197530864197531, 'mean_square_error': 0.2170835900890467, 'categorical_crossentropy': 0.41795780040599684, 'essential_metrics': {0: {'tp_hit': 76, 'fp_hit': 12, 'tn_hit': 20, 'fn_hit': 0}, 1: {'tp_hit': 10, 'fp_hit': 0, 'tn_hit': 91, 'fn_hit': 7}, 2: {'tp_hit': 9, 'fp_hit': 1, 'tn_hit': 92, 'fn_hit': 6}}, 'checkpoint': 70} \n",
      "\n",
      "\n",
      "{'accuracy': 0.9135802469135802, 'mean_square_error': 0.2075474550001297, 'categorical_crossentropy': 0.3938594041047273, 'essential_metrics': {0: {'tp_hit': 76, 'fp_hit': 12, 'tn_hit': 20, 'fn_hit': 0}, 1: {'tp_hit': 10, 'fp_hit': 0, 'tn_hit': 91, 'fn_hit': 7}, 2: {'tp_hit': 8, 'fp_hit': 2, 'tn_hit': 91, 'fn_hit': 7}}, 'checkpoint': 80} \n",
      "\n",
      "\n",
      "{'accuracy': 0.9506172839506173, 'mean_square_error': 0.15123941808011912, 'categorical_crossentropy': 0.30878497936107496, 'essential_metrics': {0: {'tp_hit': 76, 'fp_hit': 8, 'tn_hit': 24, 'fn_hit': 0}, 1: {'tp_hit': 15, 'fp_hit': 0, 'tn_hit': 91, 'fn_hit': 2}, 2: {'tp_hit': 9, 'fp_hit': 0, 'tn_hit': 93, 'fn_hit': 6}}, 'checkpoint': 90} \n",
      "\n",
      "\n",
      "{'accuracy': 0.9382716049382716, 'mean_square_error': 0.14590855080537268, 'categorical_crossentropy': 0.2891612935949255, 'essential_metrics': {0: {'tp_hit': 76, 'fp_hit': 10, 'tn_hit': 22, 'fn_hit': 0}, 1: {'tp_hit': 12, 'fp_hit': 0, 'tn_hit': 91, 'fn_hit': 5}, 2: {'tp_hit': 10, 'fp_hit': 0, 'tn_hit': 93, 'fn_hit': 5}}, 'checkpoint': 100} \n",
      "\n",
      "\n",
      "{'accuracy': 0.9629629629629629, 'mean_square_error': 0.12211345591016748, 'categorical_crossentropy': 0.2548930733292191, 'essential_metrics': {0: {'tp_hit': 76, 'fp_hit': 6, 'tn_hit': 26, 'fn_hit': 0}, 1: {'tp_hit': 14, 'fp_hit': 0, 'tn_hit': 91, 'fn_hit': 3}, 2: {'tp_hit': 12, 'fp_hit': 0, 'tn_hit': 93, 'fn_hit': 3}}, 'checkpoint': 110} \n",
      "\n",
      "\n",
      "{'accuracy': 0.9691358024691358, 'mean_square_error': 0.10195822858524907, 'categorical_crossentropy': 0.2086959061799226, 'essential_metrics': {0: {'tp_hit': 76, 'fp_hit': 5, 'tn_hit': 27, 'fn_hit': 0}, 1: {'tp_hit': 15, 'fp_hit': 0, 'tn_hit': 91, 'fn_hit': 2}, 2: {'tp_hit': 12, 'fp_hit': 0, 'tn_hit': 93, 'fn_hit': 3}}, 'checkpoint': 120} \n",
      "\n",
      "\n",
      "{'accuracy': 0.9506172839506173, 'mean_square_error': 0.10497604267680097, 'categorical_crossentropy': 0.19190125995212132, 'essential_metrics': {0: {'tp_hit': 76, 'fp_hit': 8, 'tn_hit': 24, 'fn_hit': 0}, 1: {'tp_hit': 12, 'fp_hit': 0, 'tn_hit': 91, 'fn_hit': 5}, 2: {'tp_hit': 12, 'fp_hit': 0, 'tn_hit': 93, 'fn_hit': 3}}, 'checkpoint': 130} \n",
      "\n",
      "\n",
      "{'accuracy': 0.9567901234567902, 'mean_square_error': 0.09730660847428403, 'categorical_crossentropy': 0.17552209783483436, 'essential_metrics': {0: {'tp_hit': 76, 'fp_hit': 7, 'tn_hit': 25, 'fn_hit': 0}, 1: {'tp_hit': 12, 'fp_hit': 0, 'tn_hit': 91, 'fn_hit': 5}, 2: {'tp_hit': 13, 'fp_hit': 0, 'tn_hit': 93, 'fn_hit': 2}}, 'checkpoint': 140} \n",
      "\n",
      "\n",
      "{'accuracy': 0.9691358024691358, 'mean_square_error': 0.08723664655566575, 'categorical_crossentropy': 0.158801414348461, 'essential_metrics': {0: {'tp_hit': 76, 'fp_hit': 5, 'tn_hit': 27, 'fn_hit': 0}, 1: {'tp_hit': 14, 'fp_hit': 0, 'tn_hit': 91, 'fn_hit': 3}, 2: {'tp_hit': 13, 'fp_hit': 0, 'tn_hit': 93, 'fn_hit': 2}}, 'checkpoint': 150} \n",
      "\n",
      "\n",
      "{'accuracy': 0.9567901234567902, 'mean_square_error': 0.09554745213009523, 'categorical_crossentropy': 0.16282302361947518, 'essential_metrics': {0: {'tp_hit': 76, 'fp_hit': 7, 'tn_hit': 25, 'fn_hit': 0}, 1: {'tp_hit': 13, 'fp_hit': 0, 'tn_hit': 91, 'fn_hit': 4}, 2: {'tp_hit': 12, 'fp_hit': 0, 'tn_hit': 93, 'fn_hit': 3}}, 'checkpoint': 160} \n",
      "\n",
      "\n",
      "{'accuracy': 0.9691358024691358, 'mean_square_error': 0.08499124610728456, 'categorical_crossentropy': 0.14913754993014866, 'essential_metrics': {0: {'tp_hit': 76, 'fp_hit': 5, 'tn_hit': 27, 'fn_hit': 0}, 1: {'tp_hit': 14, 'fp_hit': 0, 'tn_hit': 91, 'fn_hit': 3}, 2: {'tp_hit': 13, 'fp_hit': 0, 'tn_hit': 93, 'fn_hit': 2}}, 'checkpoint': 170} \n",
      "\n",
      "\n",
      "{'accuracy': 0.9629629629629629, 'mean_square_error': 0.09781832950570671, 'categorical_crossentropy': 0.16900636531688548, 'essential_metrics': {0: {'tp_hit': 76, 'fp_hit': 6, 'tn_hit': 26, 'fn_hit': 0}, 1: {'tp_hit': 13, 'fp_hit': 0, 'tn_hit': 91, 'fn_hit': 4}, 2: {'tp_hit': 13, 'fp_hit': 0, 'tn_hit': 93, 'fn_hit': 2}}, 'checkpoint': 180} \n",
      "\n",
      "\n",
      "{'accuracy': 0.9629629629629629, 'mean_square_error': 0.0899090712708455, 'categorical_crossentropy': 0.1544186097604257, 'essential_metrics': {0: {'tp_hit': 75, 'fp_hit': 5, 'tn_hit': 27, 'fn_hit': 1}, 1: {'tp_hit': 14, 'fp_hit': 0, 'tn_hit': 91, 'fn_hit': 3}, 2: {'tp_hit': 13, 'fp_hit': 1, 'tn_hit': 92, 'fn_hit': 2}}, 'checkpoint': 190} \n",
      "\n",
      "\n",
      "{'accuracy': 0.9691358024691358, 'mean_square_error': 0.07283264344383915, 'categorical_crossentropy': 0.12466850987187138, 'essential_metrics': {0: {'tp_hit': 76, 'fp_hit': 5, 'tn_hit': 27, 'fn_hit': 0}, 1: {'tp_hit': 14, 'fp_hit': 0, 'tn_hit': 91, 'fn_hit': 3}, 2: {'tp_hit': 13, 'fp_hit': 0, 'tn_hit': 93, 'fn_hit': 2}}, 'checkpoint': 200} \n",
      "\n",
      "\n"
     ]
    }
   ],
   "source": [
    "for checkpoint in checkpoints:\n",
    "    print(checkpoint, '\\n\\n')"
   ]
  },
  {
   "cell_type": "code",
   "execution_count": 14,
   "metadata": {},
   "outputs": [
    {
     "name": "stdout",
     "output_type": "stream",
     "text": [
      "Layer 1\n",
      "Neuron 0: weights:\n",
      "[ 2.5676684  -3.         -3.         -3.          0.22591065]\n",
      " bias: 2.686336040496826\n",
      "\n",
      "Neuron 1: weights:\n",
      "[ 0.9452165 -2.9431224 -1.6051203  2.2965224  0.964041 ]\n",
      " bias: -2.920257806777954\n",
      "\n",
      "Neuron 2: weights:\n",
      "[ 1.3165493  -3.         -0.8846939   0.87538284  1.3394887 ]\n",
      " bias: -3.0\n",
      "\n",
      "Neuron 3: weights:\n",
      "[-1.6017591   3.          1.6974974   0.98290795  1.6647364 ]\n",
      " bias: -1.482456922531128\n",
      "\n",
      "$\n",
      "Layer 2\n",
      "Neuron 0: weights:\n",
      "[ 3.        -2.0310206 -3.        -2.7168815]\n",
      " bias: 0.5495495796203613\n",
      "\n",
      "Neuron 1: weights:\n",
      "[-3.        -3.        -0.7121531  3.       ]\n",
      " bias: 0.009898578748106956\n",
      "\n",
      "Neuron 2: weights:\n",
      "[-1.3121862   3.          3.         -0.75060487]\n",
      " bias: -2.52001953125\n",
      "\n",
      "$\n",
      "\n"
     ]
    }
   ],
   "source": [
    "print(model)"
   ]
  },
  {
   "cell_type": "code",
   "execution_count": null,
   "metadata": {},
   "outputs": [],
   "source": []
  }
 ],
 "metadata": {
  "kernelspec": {
   "display_name": "Python 3",
   "language": "python",
   "name": "python3"
  },
  "language_info": {
   "codemirror_mode": {
    "name": "ipython",
    "version": 3
   },
   "file_extension": ".py",
   "mimetype": "text/x-python",
   "name": "python",
   "nbconvert_exporter": "python",
   "pygments_lexer": "ipython3",
   "version": "3.6.12"
  }
 },
 "nbformat": 4,
 "nbformat_minor": 2
}
