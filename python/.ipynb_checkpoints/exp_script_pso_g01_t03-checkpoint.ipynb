{
 "cells": [
  {
   "cell_type": "code",
   "execution_count": 1,
   "metadata": {},
   "outputs": [],
   "source": [
    "# dependency\n",
    "import numpy as np\n",
    "import pandas as pd\n",
    "import copy\n",
    "import math\n",
    "import sys\n",
    "import os\n",
    "from activations import relu, leaky_relu, sigmoid, tanh, softmax, d_sigmoid, d_relu\n",
    "from initializers import glorot_uniform, random_normal, random_uniform\n",
    "from regularizers import l1_regularizer, l2_regularizer\n",
    "from utility import trim_tail, multiply, subtract, get_nparams, one_hot_encoding, get_data\n",
    "from metrics import MSE, CCE, ACC, PRECISION, RECALL, essential_metrics, wondering_penalty, close_gap_penalty\n",
    "from pso import PSO\n",
    "from ga import GA\n",
    "from nn import Network\n",
    "from layer import DenseLayer\n",
    "from scalers import MinMaxScaler, StandardScaler"
   ]
  },
  {
   "cell_type": "code",
   "execution_count": 2,
   "metadata": {},
   "outputs": [],
   "source": [
    "# reference\n",
    "metrics_fn_dict = dict()\n",
    "metrics_fn_dict['accuracy'] = ACC\n",
    "metrics_fn_dict['categorical_crossentropy'] = CCE\n",
    "metrics_fn_dict['mean_square_error'] = MSE\n",
    "metrics_fn_dict['precision'] = PRECISION\n",
    "metrics_fn_dict['recall'] = RECALL\n",
    "metrics_fn_dict['essential_metrics'] = essential_metrics"
   ]
  },
  {
   "cell_type": "code",
   "execution_count": 3,
   "metadata": {},
   "outputs": [],
   "source": [
    "# model\n",
    "model = Network(5, lr = None)\n",
    "model.add_layer(DenseLayer(1, 4, True, afn=sigmoid, dafn=None, rfn=None))\n",
    "model.add_layer(DenseLayer(2, 3, True, afn=softmax, dafn=None, rfn=None))"
   ]
  },
  {
   "cell_type": "code",
   "execution_count": 4,
   "metadata": {},
   "outputs": [
    {
     "name": "stdout",
     "output_type": "stream",
     "text": [
      "see one see two 2 2\n"
     ]
    }
   ],
   "source": [
    "pso = PSO(dict(m = 50,\n",
    "    weight_constraint = [-3, 3], \n",
    "    velocity_constraint = [-0.1, 0.1],\n",
    "    c1 = 2,\n",
    "    c2 = 2,\n",
    "    w = 1,\n",
    "    w_decay = 1,\n",
    "    scale_hyperparameter = False,\n",
    "    regularizer = l1_regularizer,\n",
    "    mask = True))"
   ]
  },
  {
   "cell_type": "code",
   "execution_count": 5,
   "metadata": {},
   "outputs": [
    {
     "name": "stdout",
     "output_type": "stream",
     "text": [
      "building layer 1 with 5\n",
      "24\n",
      "building layer 2 with 4\n",
      "15\n"
     ]
    }
   ],
   "source": [
    "model.compile(loss_fn = 'categorical_crossentropy', optimizer = pso, \\\n",
    "    metrics = ['accuracy', 'mean_square_error', 'categorical_crossentropy'])"
   ]
  },
  {
   "cell_type": "code",
   "execution_count": 6,
   "metadata": {},
   "outputs": [
    {
     "name": "stdout",
     "output_type": "stream",
     "text": [
      "<class 'pandas.core.frame.DataFrame'>\n",
      "RangeIndex: 107 entries, 0 to 106\n",
      "Data columns (total 6 columns):\n",
      " #   Column  Non-Null Count  Dtype  \n",
      "---  ------  --------------  -----  \n",
      " 0   f1      107 non-null    float32\n",
      " 1   f2      107 non-null    float32\n",
      " 2   f3      107 non-null    float32\n",
      " 3   f4      107 non-null    float32\n",
      " 4   f5      107 non-null    float32\n",
      " 5   label   107 non-null    float32\n",
      "dtypes: float32(6)\n",
      "memory usage: 2.6 KB\n",
      "None\n",
      "<class 'pandas.core.frame.DataFrame'>\n",
      "RangeIndex: 108 entries, 0 to 107\n",
      "Data columns (total 6 columns):\n",
      " #   Column  Non-Null Count  Dtype  \n",
      "---  ------  --------------  -----  \n",
      " 0   f1      108 non-null    float32\n",
      " 1   f2      108 non-null    float32\n",
      " 2   f3      108 non-null    float32\n",
      " 3   f4      108 non-null    float32\n",
      " 4   f5      108 non-null    float32\n",
      " 5   label   108 non-null    float32\n",
      "dtypes: float32(6)\n",
      "memory usage: 2.7 KB\n",
      "None\n"
     ]
    }
   ],
   "source": [
    "# data loading\n",
    "DATA = os.path.join('c:\\\\Users\\\\tcumi\\\\github_repo\\\\neural-network\\\\', 'dataset')\n",
    "GROUP = 1\n",
    "COLUMNS = ['f1', 'f2', 'f3', 'f4', 'f5', 'label']\n",
    "N_CLASS = 3\n",
    "EPOCHS = 500\n",
    "train_dir, test_dir = \"..//dataset//training_data{}.txt\".format(GROUP), \"..//dataset//testing_data{}.txt\".format(GROUP)\n",
    "train, test = get_data(DATA, train_dir, COLUMNS), get_data(DATA, test_dir, COLUMNS)\n",
    "# shuffle\n",
    "train, test = train.sample(frac=1), test.sample(frac=1)\n",
    "x_train, y_train = train.drop('label', axis=1), train['label']\n",
    "x_test, y_test = test.drop('label', axis=1), test['label']"
   ]
  },
  {
   "cell_type": "code",
   "execution_count": 7,
   "metadata": {},
   "outputs": [],
   "source": [
    "# data scaling and encoding\n",
    "scaler = StandardScaler(['f1', 'f2', 'f3', 'f4', 'f5'])\n",
    "scaler.fit(x_train)\n",
    "x_train = scaler.transform(x_train)\n",
    "x_test = scaler.transform(x_test)\n",
    "y_train = one_hot_encoding(y_train, N_CLASS)\n",
    "y_test = one_hot_encoding(y_test, N_CLASS)"
   ]
  },
  {
   "cell_type": "code",
   "execution_count": 8,
   "metadata": {
    "tags": [
     "outputPrepend"
    ]
   },
   "outputs": [
    {
     "name": "stdout",
     "output_type": "stream",
     "text": [
      "Checkpoint 100, Accuracy: 0.9629629629629629, Loss: 0.29029501809014213\n",
      "Checkpoint 200, Accuracy: 0.9629629629629629, Loss: 0.22891630949797453\n",
      "Checkpoint 300, Accuracy: 0.9753086419753086, Loss: 0.18851500970345955\n",
      "Checkpoint 400, Accuracy: 0.9691358024691358, Loss: 0.19848837675871672\n",
      "Checkpoint 500, Accuracy: 0.9629629629629629, Loss: 0.17949997937237774\n"
     ]
    }
   ],
   "source": [
    "# learning phase\n",
    "breakpoint = 100\n",
    "checkpoints = list()\n",
    "history = list()\n",
    "for century in range(0, EPOCHS, breakpoint):\n",
    "    sub_history = model.fit(x_train, y_train, breakpoint, verbose = 0)\n",
    "    score = model.evaluate(x_test, y_test, False, verbose = 0)\n",
    "    print('Checkpoint {}, Accuracy: {}, Loss: {}'.format(century+breakpoint, score['accuracy'], score[model.loss_fn]))\n",
    "    score['checkpoint'] = century + breakpoint\n",
    "    checkpoints.append(score)\n",
    "    history.extend(sub_history)"
   ]
  },
  {
   "cell_type": "code",
   "execution_count": 9,
   "metadata": {},
   "outputs": [],
   "source": [
    "import matplotlib.pyplot as plt\n",
    "\n",
    "def draw_plot(x, y_list, x_label=None, y_label=None, legend=None, title=None):\n",
    "    fig, ax = plt.subplots(figsize=(12,5))\n",
    "    for xi, yi in zip(x, y_list):\n",
    "        ax.plot(xi, yi)\n",
    "    if x_label is not None and y_label is not None:\n",
    "        ax.set(xlabel=x_label, ylabel=y_label, title='{} VS {}'.format(x_label, y_label))\n",
    "    if legend is not None:\n",
    "        ax.legend(legend)\n",
    "    ax.grid()\n",
    "    plt.show()"
   ]
  },
  {
   "cell_type": "code",
   "execution_count": 10,
   "metadata": {},
   "outputs": [
    {
     "name": "stdout",
     "output_type": "stream",
     "text": [
      "[0. 1. 0.] <-> [0.09893171 0.8966885  0.0043797 ]\n",
      "[0. 0. 1.] <-> [0.7964345  0.01538924 0.18817626]\n",
      "[0. 1. 0.] <-> [0.10428195 0.8903635  0.00535452]\n",
      "[1. 0. 0.] <-> [0.9160971  0.016426   0.06747694]\n",
      "[1. 0. 0.] <-> [0.7052049  0.01042749 0.28436756]\n",
      "[1. 0. 0.] <-> [0.24637344 0.00389168 0.7497349 ]\n",
      "[1. 0. 0.] <-> [0.9073814  0.02187608 0.07074246]\n",
      "[1. 0. 0.] <-> [0.85381424 0.01242987 0.13375582]\n",
      "[0. 1. 0.] <-> [0.5066268  0.4812386  0.01213466]\n",
      "[1. 0. 0.] <-> [0.90656745 0.06371456 0.02971799]\n",
      "[1. 0. 0.] <-> [0.9262611  0.01912354 0.05461525]\n",
      "[0. 0. 1.] <-> [0.08676246 0.00173735 0.91150016]\n",
      "[1. 0. 0.] <-> [0.89927256 0.08772126 0.01300618]\n",
      "[1. 0. 0.] <-> [0.90977186 0.05648914 0.03373895]\n",
      "[1. 0. 0.] <-> [0.80943924 0.01214521 0.17841549]\n",
      "[1. 0. 0.] <-> [0.9364781  0.03811722 0.02540479]\n",
      "[0. 1. 0.] <-> [0.22471473 0.7656516  0.00963374]\n",
      "[1. 0. 0.] <-> [0.8555232  0.01188346 0.13259333]\n",
      "[1. 0. 0.] <-> [0.7438664  0.0123198  0.24381375]\n",
      "[1. 0. 0.] <-> [0.9532055  0.02786571 0.01892872]\n",
      "[0. 0. 1.] <-> [0.1205459  0.00214121 0.8773129 ]\n",
      "[1. 0. 0.] <-> [0.95765644 0.02650299 0.01584061]\n",
      "[1. 0. 0.] <-> [0.93848324 0.03363614 0.02788058]\n",
      "[1. 0. 0.] <-> [0.9283632  0.01653547 0.05510134]\n",
      "[1. 0. 0.] <-> [0.94679326 0.028368   0.02483882]\n",
      "[1. 0. 0.] <-> [0.9264829  0.06084695 0.01267006]\n",
      "[1. 0. 0.] <-> [0.94029206 0.02521859 0.0344893 ]\n",
      "[0. 1. 0.] <-> [0.10024218 0.89520156 0.00455623]\n",
      "[1. 0. 0.] <-> [0.7251979  0.00852885 0.2662732 ]\n",
      "[1. 0. 0.] <-> [0.93886524 0.021539   0.03959573]\n",
      "[1. 0. 0.] <-> [0.92981195 0.05181536 0.01837267]\n",
      "[0. 1. 0.] <-> [0.2823633  0.70563436 0.01200234]\n",
      "[1. 0. 0.] <-> [0.93142164 0.02579083 0.0427876 ]\n",
      "[0. 0. 1.] <-> [0.10136657 0.00180056 0.8968329 ]\n",
      "[1. 0. 0.] <-> [0.9484935  0.03507497 0.01643156]\n",
      "[1. 0. 0.] <-> [0.8958454  0.01948973 0.08466483]\n",
      "[1. 0. 0.] <-> [0.9222696  0.01554484 0.06218552]\n",
      "[1. 0. 0.] <-> [0.90480256 0.02561158 0.06958587]\n",
      "[1. 0. 0.] <-> [0.92007256 0.01837235 0.06155508]\n",
      "[1. 0. 0.] <-> [0.9140464  0.06298242 0.02297106]\n",
      "[1. 0. 0.] <-> [0.8344902  0.1538111  0.01169874]\n",
      "[0. 0. 1.] <-> [0.09138884 0.00163712 0.906974  ]\n",
      "[1. 0. 0.] <-> [0.92104006 0.01572774 0.06323228]\n",
      "[0. 1. 0.] <-> [0.10854877 0.88584745 0.00560368]\n",
      "[1. 0. 0.] <-> [0.915172   0.02618355 0.05864455]\n",
      "[0. 0. 1.] <-> [0.08993213 0.00164633 0.9084215 ]\n",
      "[1. 0. 0.] <-> [0.87766576 0.10908626 0.013248  ]\n",
      "[0. 1. 0.] <-> [0.1785088  0.8141754  0.00731575]\n",
      "[1. 0. 0.] <-> [0.9453686  0.0282764  0.02635505]\n",
      "[1. 0. 0.] <-> [0.930245   0.05226317 0.01749182]\n",
      "[1. 0. 0.] <-> [0.8953017  0.01456012 0.09013823]\n",
      "[1. 0. 0.] <-> [0.92391557 0.01840981 0.05767469]\n",
      "[1. 0. 0.] <-> [0.9428161  0.04266465 0.01451932]\n",
      "[1. 0. 0.] <-> [0.9332548  0.02811341 0.03863179]\n",
      "[0. 1. 0.] <-> [0.5403463  0.4477684  0.01188521]\n",
      "[1. 0. 0.] <-> [0.95086163 0.02426421 0.02487408]\n",
      "[0. 1. 0.] <-> [0.11214337 0.8826698  0.00518687]\n",
      "[1. 0. 0.] <-> [0.567677   0.00960944 0.42271352]\n",
      "[0. 0. 1.] <-> [0.5036196  0.00745682 0.4889235 ]\n",
      "[1. 0. 0.] <-> [0.870756   0.02426829 0.10497566]\n",
      "[1. 0. 0.] <-> [0.93599635 0.04928671 0.01471702]\n",
      "[1. 0. 0.] <-> [0.83395225 0.01128512 0.15476272]\n",
      "[0. 1. 0.] <-> [0.11719628 0.87671655 0.00608715]\n",
      "[1. 0. 0.] <-> [0.95418733 0.02691449 0.01889817]\n",
      "[1. 0. 0.] <-> [0.63653046 0.00884069 0.35462886]\n",
      "[1. 0. 0.] <-> [0.8932169  0.09018473 0.01659842]\n",
      "[1. 0. 0.] <-> [0.8874334  0.01846194 0.09410476]\n",
      "[1. 0. 0.] <-> [0.85343516 0.12898909 0.01757571]\n",
      "[1. 0. 0.] <-> [0.92751676 0.0625598  0.00992338]\n",
      "[1. 0. 0.] <-> [0.9452353  0.02893612 0.02582861]\n",
      "[1. 0. 0.] <-> [0.9373072  0.03347421 0.02921853]\n",
      "[0. 0. 1.] <-> [0.16256282 0.00284577 0.8345914 ]\n",
      "[1. 0. 0.] <-> [0.94056165 0.03349126 0.02594706]\n",
      "[1. 0. 0.] <-> [0.9355511  0.01857373 0.0458752 ]\n",
      "[0. 0. 1.] <-> [0.08952699 0.00165622 0.9088168 ]\n",
      "[1. 0. 0.] <-> [0.9112624  0.02300987 0.06572766]\n",
      "[1. 0. 0.] <-> [0.89990985 0.01744972 0.08264042]\n",
      "[1. 0. 0.] <-> [0.9349328  0.03847667 0.02659045]\n",
      "[1. 0. 0.] <-> [0.9120926  0.01736451 0.07054292]\n",
      "[1. 0. 0.] <-> [0.9489379  0.03107525 0.01998686]\n",
      "[1. 0. 0.] <-> [0.6575135  0.3258696  0.01661692]\n",
      "[1. 0. 0.] <-> [0.93341726 0.02187844 0.04470437]\n",
      "[1. 0. 0.] <-> [0.8217272  0.02172801 0.15654474]\n",
      "[0. 0. 1.] <-> [0.09209577 0.00165058 0.90625364]\n",
      "[1. 0. 0.] <-> [0.94287777 0.04046157 0.01666073]\n",
      "[1. 0. 0.] <-> [0.90495557 0.07395736 0.021087  ]\n",
      "[1. 0. 0.] <-> [0.8361558  0.01273928 0.15110493]\n",
      "[1. 0. 0.] <-> [0.83978605 0.14135252 0.01886141]\n",
      "[0. 1. 0.] <-> [0.1654482  0.82564366 0.00890812]\n",
      "[1. 0. 0.] <-> [0.921334   0.06687625 0.01178981]\n",
      "[0. 0. 1.] <-> [0.12608096 0.00206426 0.8718547 ]\n",
      "[1. 0. 0.] <-> [0.85900223 0.01619608 0.1248017 ]\n",
      "[1. 0. 0.] <-> [0.9370733  0.04100768 0.02191898]\n",
      "[1. 0. 0.] <-> [0.9472917  0.03661604 0.01609227]\n",
      "[0. 1. 0.] <-> [0.40150142 0.5876141  0.01088446]\n",
      "[1. 0. 0.] <-> [0.93347347 0.02284647 0.04368   ]\n",
      "[1. 0. 0.] <-> [0.93758523 0.02680043 0.03561441]\n",
      "[1. 0. 0.] <-> [0.89667976 0.08103769 0.02228253]\n",
      "[0. 1. 0.] <-> [0.21745571 0.77179295 0.01075134]\n",
      "[1. 0. 0.] <-> [0.94559    0.0255061  0.02890391]\n",
      "[1. 0. 0.] <-> [0.92569846 0.01202616 0.06227545]\n",
      "[0. 0. 1.] <-> [0.10422993 0.00192965 0.8938404 ]\n",
      "[1. 0. 0.] <-> [0.95294327 0.01794763 0.02910917]\n",
      "[1. 0. 0.] <-> [0.9418299  0.0187171  0.03945291]\n",
      "[0. 0. 1.] <-> [0.1887825  0.00383833 0.8073791 ]\n",
      "[1. 0. 0.] <-> [0.92975277 0.01825364 0.05199351]\n",
      "[1. 0. 0.] <-> [0.83196425 0.01641159 0.1516242 ]\n",
      "[0. 1. 0.] <-> [0.6415855  0.34151632 0.0168982 ]\n",
      "{'accuracy': 0.9629629629629629, 'mean_square_error': 0.07964650397506746, 'categorical_crossentropy': 0.17949997937237774, 'essential_metrics': {0: {'tp_hit': 79, 'fp_hit': 5, 'tn_hit': 23, 'fn_hit': 1}, 1: {'tp_hit': 12, 'fp_hit': 0, 'tn_hit': 93, 'fn_hit': 3}, 2: {'tp_hit': 11, 'fp_hit': 1, 'tn_hit': 94, 'fn_hit': 2}}}\n"
     ]
    }
   ],
   "source": [
    "# recall phase\n",
    "score = model.evaluate(x_test, y_test, False)\n",
    "print(score)"
   ]
  },
  {
   "cell_type": "code",
   "execution_count": 11,
   "metadata": {},
   "outputs": [
    {
     "data": {
      "image/png": "[encoded data removed]",
      "text/plain": [
       "<Figure size 864x360 with 1 Axes>"
      ]
     },
     "metadata": {
      "needs_background": "light"
     },
     "output_type": "display_data"
    },
    {
     "data": {
      "image/png": "[encoded data removed]",
      "text/plain": [
       "<Figure size 864x360 with 1 Axes>"
      ]
     },
     "metadata": {
      "needs_background": "light"
     },
     "output_type": "display_data"
    }
   ],
   "source": [
    "draw_plot(x = [[i for i in range(len(history))], [(i+1)*breakpoint for i in range(len(checkpoints))]], y_list = [history, [ ckp[model.loss_fn] for ckp in checkpoints ]], x_label = 'Epochs', \\\n",
    "    y_label = model.loss_fn, legend=['train', 'test'])\n",
    "acc = [ ckp['accuracy'] for ckp in checkpoints ]\n",
    "draw_plot(x = [[(i+1)*breakpoint for i in range(len(checkpoints))]], y_list = [acc], x_label = 'Checkpoints', \\\n",
    "    y_label = 'accuracy')"
   ]
  },
  {
   "cell_type": "code",
   "execution_count": 12,
   "metadata": {},
   "outputs": [
    {
     "name": "stdout",
     "output_type": "stream",
     "text": [
      "{'accuracy': 0.9629629629629629, 'mean_square_error': 0.13600873263128113, 'categorical_crossentropy': 0.29029501809014213, 'essential_metrics': {0: {'tp_hit': 80, 'fp_hit': 6, 'tn_hit': 22, 'fn_hit': 0}, 1: {'tp_hit': 12, 'fp_hit': 0, 'tn_hit': 93, 'fn_hit': 3}, 2: {'tp_hit': 10, 'fp_hit': 0, 'tn_hit': 95, 'fn_hit': 3}}, 'checkpoint': 100} \n",
      "\n",
      "\n",
      "{'accuracy': 0.9629629629629629, 'mean_square_error': 0.10190041851362397, 'categorical_crossentropy': 0.22891630949797453, 'essential_metrics': {0: {'tp_hit': 79, 'fp_hit': 5, 'tn_hit': 23, 'fn_hit': 1}, 1: {'tp_hit': 12, 'fp_hit': 0, 'tn_hit': 93, 'fn_hit': 3}, 2: {'tp_hit': 11, 'fp_hit': 1, 'tn_hit': 94, 'fn_hit': 2}}, 'checkpoint': 200} \n",
      "\n",
      "\n",
      "{'accuracy': 0.9753086419753086, 'mean_square_error': 0.08200049453108654, 'categorical_crossentropy': 0.18851500970345955, 'essential_metrics': {0: {'tp_hit': 79, 'fp_hit': 3, 'tn_hit': 25, 'fn_hit': 1}, 1: {'tp_hit': 14, 'fp_hit': 0, 'tn_hit': 93, 'fn_hit': 1}, 2: {'tp_hit': 11, 'fp_hit': 1, 'tn_hit': 94, 'fn_hit': 2}}, 'checkpoint': 300} \n",
      "\n",
      "\n",
      "{'accuracy': 0.9691358024691358, 'mean_square_error': 0.09295476937256106, 'categorical_crossentropy': 0.19848837675871672, 'essential_metrics': {0: {'tp_hit': 79, 'fp_hit': 4, 'tn_hit': 24, 'fn_hit': 1}, 1: {'tp_hit': 12, 'fp_hit': 0, 'tn_hit': 93, 'fn_hit': 3}, 2: {'tp_hit': 12, 'fp_hit': 1, 'tn_hit': 94, 'fn_hit': 1}}, 'checkpoint': 400} \n",
      "\n",
      "\n",
      "{'accuracy': 0.9629629629629629, 'mean_square_error': 0.07964650397506746, 'categorical_crossentropy': 0.17949997937237774, 'essential_metrics': {0: {'tp_hit': 79, 'fp_hit': 5, 'tn_hit': 23, 'fn_hit': 1}, 1: {'tp_hit': 12, 'fp_hit': 0, 'tn_hit': 93, 'fn_hit': 3}, 2: {'tp_hit': 11, 'fp_hit': 1, 'tn_hit': 94, 'fn_hit': 2}}, 'checkpoint': 500} \n",
      "\n",
      "\n"
     ]
    }
   ],
   "source": [
    "for checkpoint in checkpoints:\n",
    "    print(checkpoint, '\\n\\n')"
   ]
  },
  {
   "cell_type": "code",
   "execution_count": 13,
   "metadata": {},
   "outputs": [
    {
     "name": "stdout",
     "output_type": "stream",
     "text": [
      "Layer 1\n",
      "Neuron 0: weights:\n",
      "[-0.11005967  0.00278116 -0.02828446  0.00503917  0.04885581]\n",
      " bias: 0.04287700727581978\n",
      "\n",
      "Neuron 1: weights:\n",
      "[ 1.0526851  -2.1841798  -1.4434708   0.03671536  0.06774259]\n",
      " bias: 1.3275917768478394\n",
      "\n",
      "Neuron 2: weights:\n",
      "[-0.1967988   0.9645826   0.03751066 -0.06185791 -2.2042587 ]\n",
      " bias: 0.05706286057829857\n",
      "\n",
      "Neuron 3: weights:\n",
      "[ 0.05707275 -1.5091237  -0.19382551  0.4941843   1.4880645 ]\n",
      " bias: -1.4123624563217163\n",
      "\n",
      "$\n",
      "Layer 2\n",
      "Neuron 0: weights:\n",
      "[-0.07171645  2.7375774   0.10765777 -2.039725  ]\n",
      " bias: 0.12167865037918091\n",
      "\n",
      "Neuron 1: weights:\n",
      "[ 0.03753489 -3.          2.4519947  -0.23902139]\n",
      " bias: -0.024214686825871468\n",
      "\n",
      "Neuron 2: weights:\n",
      "[-0.04655777  0.0895101  -3.          3.        ]\n",
      " bias: 0.019344525411725044\n",
      "\n",
      "$\n",
      "\n"
     ]
    }
   ],
   "source": [
    "print(model)"
   ]
  }
 ],
 "metadata": {
  "kernelspec": {
   "display_name": "Python 3",
   "language": "python",
   "name": "python3"
  },
  "language_info": {
   "codemirror_mode": {
    "name": "ipython",
    "version": 3
   },
   "file_extension": ".py",
   "mimetype": "text/x-python",
   "name": "python",
   "nbconvert_exporter": "python",
   "pygments_lexer": "ipython3",
   "version": "3.6.10"
  }
 },
 "nbformat": 4,
 "nbformat_minor": 2
}
