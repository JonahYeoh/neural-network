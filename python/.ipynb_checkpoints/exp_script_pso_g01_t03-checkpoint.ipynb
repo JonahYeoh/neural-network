{
 "cells": [
  {
   "cell_type": "code",
   "execution_count": 1,
   "metadata": {},
   "outputs": [],
   "source": [
    "# dependency\n",
    "import numpy as np\n",
    "import pandas as pd\n",
    "import copy\n",
    "import math\n",
    "import sys\n",
    "import os\n",
    "from activations import relu, leaky_relu, sigmoid, tanh, softmax, d_sigmoid, d_relu\n",
    "from initializers import glorot_uniform, random_normal, random_uniform\n",
    "from regularizers import l1_regularizer, l2_regularizer\n",
    "from utility import trim_tail, multiply, subtract, get_nparams, one_hot_encoding, get_data\n",
    "from metrics import MSE, CCE, ACC, PRECISION, RECALL, essential_metrics, wondering_penalty, close_gap_penalty\n",
    "from pso import PSO\n",
    "from ga import GA\n",
    "from nn import Network\n",
    "from layer import DenseLayer\n",
    "from scalers import MinMaxScaler, StandardScaler"
   ]
  },
  {
   "cell_type": "code",
   "execution_count": 2,
   "metadata": {},
   "outputs": [],
   "source": [
    "# reference\n",
    "metrics_fn_dict = dict()\n",
    "metrics_fn_dict['accuracy'] = ACC\n",
    "metrics_fn_dict['categorical_crossentropy'] = CCE\n",
    "metrics_fn_dict['mean_square_error'] = MSE\n",
    "metrics_fn_dict['precision'] = PRECISION\n",
    "metrics_fn_dict['recall'] = RECALL\n",
    "metrics_fn_dict['essential_metrics'] = essential_metrics"
   ]
  },
  {
   "cell_type": "code",
   "execution_count": 3,
   "metadata": {},
   "outputs": [],
   "source": [
    "# model\n",
    "model = Network(5, lr = None)\n",
    "model.add_layer(DenseLayer(1, 4, True, afn=sigmoid, dafn=None, rfn=None))\n",
    "model.add_layer(DenseLayer(2, 3, True, afn=softmax, dafn=None, rfn=None))"
   ]
  },
  {
   "cell_type": "code",
   "execution_count": 4,
   "metadata": {},
   "outputs": [
    {
     "name": "stdout",
     "output_type": "stream",
     "text": [
      "see one see two 2 2\n"
     ]
    }
   ],
   "source": [
    "pso = PSO(dict(m = 50,\n",
    "    weight_constraint = [-3, 3], \n",
    "    velocity_constraint = [-0.1, 0.1],\n",
    "    c1 = 2,\n",
    "    c2 = 2,\n",
    "    w = 1,\n",
    "    w_decay = 1,\n",
    "    scale_hyperparameter = False,\n",
    "    regularizer = l1_regularizer,\n",
    "    mask = True))"
   ]
  },
  {
   "cell_type": "code",
   "execution_count": 5,
   "metadata": {},
   "outputs": [
    {
     "name": "stdout",
     "output_type": "stream",
     "text": [
      "building layer 1 with 5\n",
      "24\n",
      "building layer 2 with 4\n",
      "15\n"
     ]
    }
   ],
   "source": [
    "model.compile(loss_fn = 'categorical_crossentropy', optimizer = pso, \\\n",
    "    metrics = ['accuracy', 'mean_square_error', 'categorical_crossentropy'])"
   ]
  },
  {
   "cell_type": "code",
   "execution_count": 6,
   "metadata": {},
   "outputs": [
    {
     "name": "stdout",
     "output_type": "stream",
     "text": [
      "<class 'pandas.core.frame.DataFrame'>\n",
      "RangeIndex: 107 entries, 0 to 106\n",
      "Data columns (total 6 columns):\n",
      " #   Column  Non-Null Count  Dtype  \n",
      "---  ------  --------------  -----  \n",
      " 0   f1      107 non-null    float32\n",
      " 1   f2      107 non-null    float32\n",
      " 2   f3      107 non-null    float32\n",
      " 3   f4      107 non-null    float32\n",
      " 4   f5      107 non-null    float32\n",
      " 5   label   107 non-null    float32\n",
      "dtypes: float32(6)\n",
      "memory usage: 2.6 KB\n",
      "None\n",
      "<class 'pandas.core.frame.DataFrame'>\n",
      "RangeIndex: 108 entries, 0 to 107\n",
      "Data columns (total 6 columns):\n",
      " #   Column  Non-Null Count  Dtype  \n",
      "---  ------  --------------  -----  \n",
      " 0   f1      108 non-null    float32\n",
      " 1   f2      108 non-null    float32\n",
      " 2   f3      108 non-null    float32\n",
      " 3   f4      108 non-null    float32\n",
      " 4   f5      108 non-null    float32\n",
      " 5   label   108 non-null    float32\n",
      "dtypes: float32(6)\n",
      "memory usage: 2.7 KB\n",
      "None\n"
     ]
    }
   ],
   "source": [
    "# data loading\n",
    "DATA = os.path.join('c:\\\\Users\\\\tcumi\\\\github_repo\\\\neural-network\\\\', 'dataset')\n",
    "GROUP = 1\n",
    "COLUMNS = ['f1', 'f2', 'f3', 'f4', 'f5', 'label']\n",
    "N_CLASS = 3\n",
    "EPOCHS = 500\n",
    "train_dir, test_dir = \"..//dataset//training_data{}.txt\".format(GROUP), \"..//dataset//testing_data{}.txt\".format(GROUP)\n",
    "train, test = get_data(DATA, train_dir, COLUMNS), get_data(DATA, test_dir, COLUMNS)\n",
    "# shuffle\n",
    "train, test = train.sample(frac=1), test.sample(frac=1)\n",
    "x_train, y_train = train.drop('label', axis=1), train['label']\n",
    "x_test, y_test = test.drop('label', axis=1), test['label']"
   ]
  },
  {
   "cell_type": "code",
   "execution_count": 7,
   "metadata": {},
   "outputs": [],
   "source": [
    "# data scaling and encoding\n",
    "scaler = StandardScaler(['f1', 'f2', 'f3', 'f4', 'f5'])\n",
    "scaler.fit(x_train)\n",
    "x_train = scaler.transform(x_train)\n",
    "x_test = scaler.transform(x_test)\n",
    "y_train = one_hot_encoding(y_train, N_CLASS)\n",
    "y_test = one_hot_encoding(y_test, N_CLASS)"
   ]
  },
  {
   "cell_type": "code",
   "execution_count": 8,
   "metadata": {
    "tags": [
     "outputPrepend"
    ]
   },
   "outputs": [
    {
     "name": "stdout",
     "output_type": "stream",
     "text": [
      "Checkpoint 100, Accuracy: 0.9506172839506173, Loss: 0.2400904408207646\n",
      "Checkpoint 200, Accuracy: 0.9691358024691358, Loss: 0.1306926762616193\n",
      "Checkpoint 300, Accuracy: 0.9753086419753086, Loss: 0.13699752313119393\n",
      "Checkpoint 400, Accuracy: 0.9691358024691358, Loss: 0.1364138921101888\n",
      "Checkpoint 500, Accuracy: 0.9629629629629629, Loss: 0.13573467289959942\n"
     ]
    }
   ],
   "source": [
    "# learning phase\n",
    "breakpoint = 100\n",
    "checkpoints = list()\n",
    "history = list()\n",
    "for century in range(0, EPOCHS, breakpoint):\n",
    "    sub_history = model.fit(x_train, y_train, breakpoint, verbose = 0)\n",
    "    score = model.evaluate(x_test, y_test, False, verbose = 0)\n",
    "    print('Checkpoint {}, Accuracy: {}, Loss: {}'.format(century+breakpoint, score['accuracy'], score[model.loss_fn]))\n",
    "    score['checkpoint'] = century + breakpoint\n",
    "    checkpoints.append(score)\n",
    "    history.extend(sub_history)"
   ]
  },
  {
   "cell_type": "code",
   "execution_count": 9,
   "metadata": {},
   "outputs": [],
   "source": [
    "import matplotlib.pyplot as plt\n",
    "\n",
    "def draw_plot(x, y_list, x_label=None, y_label=None, legend=None, title=None):\n",
    "    fig, ax = plt.subplots(figsize=(12,5))\n",
    "    for xi, yi in zip(x, y_list):\n",
    "        ax.plot(xi, yi)\n",
    "    if x_label is not None and y_label is not None:\n",
    "        ax.set(xlabel=x_label, ylabel=y_label, title='{} VS {}'.format(x_label, y_label))\n",
    "    if legend is not None:\n",
    "        ax.legend(legend)\n",
    "    ax.grid()\n",
    "    plt.show()"
   ]
  },
  {
   "cell_type": "code",
   "execution_count": 10,
   "metadata": {},
   "outputs": [
    {
     "name": "stdout",
     "output_type": "stream",
     "text": [
      "[1. 0. 0.] <-> [0.96389574 0.024617   0.0114873 ]\n",
      "[1. 0. 0.] <-> [0.96371    0.02502055 0.01126945]\n",
      "[1. 0. 0.] <-> [0.9321691  0.05622637 0.01160463]\n",
      "[0. 1. 0.] <-> [0.08236574 0.9116878  0.00594652]\n",
      "[1. 0. 0.] <-> [0.9763787  0.00735561 0.01626578]\n",
      "[0. 1. 0.] <-> [0.03834676 0.9589364  0.00271684]\n",
      "[0. 1. 0.] <-> [0.0514414  0.94482785 0.00373069]\n",
      "[1. 0. 0.] <-> [0.9661561  0.01168479 0.02215907]\n",
      "[1. 0. 0.] <-> [0.95576173 0.00874949 0.03548884]\n",
      "[1. 0. 0.] <-> [0.9666255  0.0151693  0.01820515]\n",
      "[1. 0. 0.] <-> [0.9484139  0.00601855 0.04556762]\n",
      "[1. 0. 0.] <-> [0.82817984 0.01312277 0.1586974 ]\n",
      "[1. 0. 0.] <-> [0.6598815  0.32403746 0.01608102]\n",
      "[0. 1. 0.] <-> [0.180384   0.81038064 0.00923547]\n",
      "[1. 0. 0.] <-> [0.97658914 0.01185942 0.01155141]\n",
      "[1. 0. 0.] <-> [0.968652   0.02085568 0.01049231]\n",
      "[0. 1. 0.] <-> [0.12136995 0.8711569  0.00747328]\n",
      "[1. 0. 0.] <-> [0.95805305 0.03060225 0.01134467]\n",
      "[1. 0. 0.] <-> [0.93588495 0.02310671 0.04100832]\n",
      "[1. 0. 0.] <-> [0.97115344 0.01582325 0.01302327]\n",
      "[1. 0. 0.] <-> [0.94052297 0.04872338 0.01075363]\n",
      "[1. 0. 0.] <-> [0.9615827  0.03069236 0.00772504]\n",
      "[1. 0. 0.] <-> [0.76621777 0.00832587 0.22545639]\n",
      "[0. 0. 1.] <-> [7.1714669e-02 3.5107695e-04 9.2793423e-01]\n",
      "[0. 1. 0.] <-> [0.6296663  0.35349298 0.0168407 ]\n",
      "[1. 0. 0.] <-> [0.9654615  0.02039932 0.01413919]\n",
      "[1. 0. 0.] <-> [0.9550487  0.01058618 0.0343651 ]\n",
      "[0. 0. 1.] <-> [5.6540545e-02 2.6955982e-04 9.4318986e-01]\n",
      "[0. 0. 1.] <-> [4.0845770e-02 1.8779446e-04 9.5896643e-01]\n",
      "[1. 0. 0.] <-> [0.9405585  0.00904559 0.05039591]\n",
      "[1. 0. 0.] <-> [0.9422051  0.04080855 0.01698642]\n",
      "[1. 0. 0.] <-> [0.959746   0.00908622 0.03116771]\n",
      "[1. 0. 0.] <-> [0.8977562  0.00659993 0.09564383]\n",
      "[0. 0. 1.] <-> [4.1860051e-02 2.8068252e-04 9.5785928e-01]\n",
      "[1. 0. 0.] <-> [0.94455874 0.04310285 0.01233844]\n",
      "[1. 0. 0.] <-> [0.8477556  0.00929018 0.14295423]\n",
      "[1. 0. 0.] <-> [0.9563494  0.03531574 0.00833489]\n",
      "[1. 0. 0.] <-> [0.95814717 0.00656386 0.03528892]\n",
      "[0. 0. 1.] <-> [4.0970683e-02 1.9888658e-04 9.5883042e-01]\n",
      "[0. 0. 1.] <-> [1.1003249e-01 7.3162268e-04 8.8923585e-01]\n",
      "[1. 0. 0.] <-> [0.8812789  0.10256039 0.01616079]\n",
      "[0. 0. 1.] <-> [6.1919473e-02 2.7270644e-04 9.3780780e-01]\n",
      "[1. 0. 0.] <-> [0.7870743  0.00892187 0.20400378]\n",
      "[0. 1. 0.] <-> [0.04475172 0.9521659  0.00308238]\n",
      "[1. 0. 0.] <-> [0.96065044 0.03040918 0.00894037]\n",
      "[1. 0. 0.] <-> [0.9188655  0.00864904 0.07248543]\n",
      "[1. 0. 0.] <-> [0.9731261  0.01472564 0.01214824]\n",
      "[1. 0. 0.] <-> [0.97503906 0.01480891 0.01015212]\n",
      "[1. 0. 0.] <-> [0.77485466 0.00532568 0.21981971]\n",
      "[1. 0. 0.] <-> [0.9643787  0.01351599 0.0221053 ]\n",
      "[1. 0. 0.] <-> [0.9731948  0.01597608 0.01082916]\n",
      "[1. 0. 0.] <-> [0.9690354  0.02095991 0.0100047 ]\n",
      "[1. 0. 0.] <-> [0.8761895  0.00561967 0.11819088]\n",
      "[1. 0. 0.] <-> [0.96367466 0.01941173 0.01691365]\n",
      "[1. 0. 0.] <-> [0.48706153 0.00496559 0.5079729 ]\n",
      "[0. 1. 0.] <-> [0.03690299 0.9609693  0.0021276 ]\n",
      "[0. 0. 1.] <-> [4.1491229e-02 1.5660573e-04 9.5835215e-01]\n",
      "[1. 0. 0.] <-> [0.95941085 0.0114945  0.02909469]\n",
      "[1. 0. 0.] <-> [0.93986076 0.03764751 0.02249177]\n",
      "[0. 0. 1.] <-> [4.2633008e-02 1.4607570e-04 9.5722085e-01]\n",
      "[0. 1. 0.] <-> [0.04986278 0.94715095 0.00298629]\n",
      "[1. 0. 0.] <-> [0.9697826  0.00948874 0.02072868]\n",
      "[1. 0. 0.] <-> [0.9521021  0.01594501 0.0319529 ]\n",
      "[0. 0. 1.] <-> [0.69327766 0.0034261  0.30329618]\n",
      "[0. 0. 1.] <-> [0.35215896 0.00192508 0.6459159 ]\n",
      "[1. 0. 0.] <-> [0.9509148  0.01541833 0.03366686]\n",
      "[1. 0. 0.] <-> [0.9534275  0.00693863 0.03963386]\n",
      "[0. 1. 0.] <-> [0.34848845 0.6406159  0.01089571]\n",
      "[0. 0. 1.] <-> [4.5011152e-02 1.7950131e-04 9.5480931e-01]\n",
      "[1. 0. 0.] <-> [0.96270216 0.02241459 0.01488332]\n",
      "[1. 0. 0.] <-> [0.96624225 0.01089422 0.02286359]\n",
      "[1. 0. 0.] <-> [0.9786612  0.01035913 0.01097975]\n",
      "[1. 0. 0.] <-> [0.96726    0.01857434 0.01416558]\n",
      "[1. 0. 0.] <-> [0.9574248  0.02296782 0.01960731]\n",
      "[1. 0. 0.] <-> [0.97026014 0.01351251 0.01622734]\n",
      "[1. 0. 0.] <-> [0.95695716 0.01208061 0.03096224]\n",
      "[1. 0. 0.] <-> [0.8932655  0.09679367 0.00994082]\n",
      "[0. 1. 0.] <-> [0.52871156 0.45945278 0.01183564]\n",
      "[1. 0. 0.] <-> [0.9602408  0.02991051 0.00984875]\n",
      "[1. 0. 0.] <-> [0.17219196 0.00146843 0.8263396 ]\n",
      "[1. 0. 0.] <-> [0.9419132  0.00664008 0.05144678]\n",
      "[1. 0. 0.] <-> [0.8922755  0.09312662 0.01459784]\n",
      "[1. 0. 0.] <-> [0.9080365  0.00895284 0.08301067]\n",
      "[1. 0. 0.] <-> [0.9296036  0.05701284 0.0133835 ]\n",
      "[1. 0. 0.] <-> [0.85034204 0.00575183 0.14390609]\n",
      "[1. 0. 0.] <-> [0.89484996 0.01060916 0.0945409 ]\n",
      "[0. 1. 0.] <-> [0.03746608 0.9602315  0.00230243]\n",
      "[0. 1. 0.] <-> [0.54063016 0.44688395 0.01248595]\n",
      "[1. 0. 0.] <-> [0.97172844 0.01508032 0.01319132]\n",
      "[1. 0. 0.] <-> [0.95062816 0.02064588 0.02872602]\n",
      "[1. 0. 0.] <-> [0.951141   0.00824695 0.04061211]\n",
      "[1. 0. 0.] <-> [0.97145665 0.01899937 0.00954399]\n",
      "[1. 0. 0.] <-> [0.96513754 0.02537149 0.00949093]\n",
      "[1. 0. 0.] <-> [0.9698057  0.00823996 0.02195427]\n",
      "[1. 0. 0.] <-> [0.94327366 0.01380461 0.04292165]\n",
      "[1. 0. 0.] <-> [0.90900165 0.00650236 0.08449603]\n",
      "[1. 0. 0.] <-> [0.9531752  0.01087365 0.03595116]\n",
      "[0. 0. 1.] <-> [5.0887730e-02 1.9548871e-04 9.4891673e-01]\n",
      "[1. 0. 0.] <-> [0.6099878  0.00506373 0.3849485 ]\n",
      "[0. 1. 0.] <-> [0.09959132 0.89474255 0.00566612]\n",
      "[1. 0. 0.] <-> [0.97347516 0.00916435 0.01736039]\n",
      "[1. 0. 0.] <-> [0.9370713  0.05125311 0.01167559]\n",
      "[1. 0. 0.] <-> [0.92282534 0.06433696 0.01283764]\n",
      "[1. 0. 0.] <-> [0.96269727 0.01547961 0.02182312]\n",
      "[1. 0. 0.] <-> [0.9701173  0.01482748 0.01505532]\n",
      "[0. 1. 0.] <-> [0.13634358 0.8570125  0.00664387]\n",
      "[1. 0. 0.] <-> [0.866348   0.00630217 0.12734985]\n",
      "[1. 0. 0.] <-> [0.95685196 0.0070531  0.03609496]\n",
      "{'accuracy': 0.9629629629629629, 'mean_square_error': 0.06451215001453167, 'categorical_crossentropy': 0.13573467289959942, 'essential_metrics': {0: {'tp_hit': 78, 'fp_hit': 4, 'tn_hit': 24, 'fn_hit': 2}, 1: {'tp_hit': 12, 'fp_hit': 0, 'tn_hit': 93, 'fn_hit': 3}, 2: {'tp_hit': 12, 'fp_hit': 2, 'tn_hit': 93, 'fn_hit': 1}}}\n"
     ]
    }
   ],
   "source": [
    "# recall phase\n",
    "score = model.evaluate(x_test, y_test, False)\n",
    "print(score)"
   ]
  },
  {
   "cell_type": "code",
   "execution_count": 11,
   "metadata": {},
   "outputs": [
    {
     "data": {
      "image/png": "[encoded data removed]",
      "text/plain": [
       "<Figure size 864x360 with 1 Axes>"
      ]
     },
     "metadata": {
      "needs_background": "light"
     },
     "output_type": "display_data"
    },
    {
     "data": {
      "image/png": "[encoded data removed]",
      "text/plain": [
       "<Figure size 864x360 with 1 Axes>"
      ]
     },
     "metadata": {
      "needs_background": "light"
     },
     "output_type": "display_data"
    }
   ],
   "source": [
    "draw_plot(x = [[i for i in range(len(history))], [(i+1)*breakpoint for i in range(len(checkpoints))]], y_list = [history, [ ckp[model.loss_fn] for ckp in checkpoints ]], x_label = 'Epochs', \\\n",
    "    y_label = model.loss_fn, legend=['train', 'test'])\n",
    "acc = [ ckp['accuracy'] for ckp in checkpoints ]\n",
    "draw_plot(x = [[(i+1)*breakpoint for i in range(len(checkpoints))]], y_list = [acc], x_label = 'Checkpoints', \\\n",
    "    y_label = 'accuracy')"
   ]
  },
  {
   "cell_type": "code",
   "execution_count": 12,
   "metadata": {},
   "outputs": [
    {
     "name": "stdout",
     "output_type": "stream",
     "text": [
      "{'accuracy': 0.9506172839506173, 'mean_square_error': 0.11160725350599206, 'categorical_crossentropy': 0.2400904408207646, 'essential_metrics': {0: {'tp_hit': 79, 'fp_hit': 7, 'tn_hit': 21, 'fn_hit': 1}, 1: {'tp_hit': 11, 'fp_hit': 0, 'tn_hit': 93, 'fn_hit': 4}, 2: {'tp_hit': 10, 'fp_hit': 1, 'tn_hit': 94, 'fn_hit': 3}}, 'checkpoint': 100} \n",
      "\n",
      "\n",
      "{'accuracy': 0.9691358024691358, 'mean_square_error': 0.06484833251332299, 'categorical_crossentropy': 0.1306926762616193, 'essential_metrics': {0: {'tp_hit': 79, 'fp_hit': 4, 'tn_hit': 24, 'fn_hit': 1}, 1: {'tp_hit': 12, 'fp_hit': 0, 'tn_hit': 93, 'fn_hit': 3}, 2: {'tp_hit': 12, 'fp_hit': 1, 'tn_hit': 94, 'fn_hit': 1}}, 'checkpoint': 200} \n",
      "\n",
      "\n",
      "{'accuracy': 0.9753086419753086, 'mean_square_error': 0.06560436010464293, 'categorical_crossentropy': 0.13699752313119393, 'essential_metrics': {0: {'tp_hit': 78, 'fp_hit': 2, 'tn_hit': 26, 'fn_hit': 2}, 1: {'tp_hit': 14, 'fp_hit': 0, 'tn_hit': 93, 'fn_hit': 1}, 2: {'tp_hit': 12, 'fp_hit': 2, 'tn_hit': 93, 'fn_hit': 1}}, 'checkpoint': 300} \n",
      "\n",
      "\n",
      "{'accuracy': 0.9691358024691358, 'mean_square_error': 0.0628762709712072, 'categorical_crossentropy': 0.1364138921101888, 'essential_metrics': {0: {'tp_hit': 78, 'fp_hit': 3, 'tn_hit': 25, 'fn_hit': 2}, 1: {'tp_hit': 13, 'fp_hit': 0, 'tn_hit': 93, 'fn_hit': 2}, 2: {'tp_hit': 12, 'fp_hit': 2, 'tn_hit': 93, 'fn_hit': 1}}, 'checkpoint': 400} \n",
      "\n",
      "\n",
      "{'accuracy': 0.9629629629629629, 'mean_square_error': 0.06451215001453167, 'categorical_crossentropy': 0.13573467289959942, 'essential_metrics': {0: {'tp_hit': 78, 'fp_hit': 4, 'tn_hit': 24, 'fn_hit': 2}, 1: {'tp_hit': 12, 'fp_hit': 0, 'tn_hit': 93, 'fn_hit': 3}, 2: {'tp_hit': 12, 'fp_hit': 2, 'tn_hit': 93, 'fn_hit': 1}}, 'checkpoint': 500} \n",
      "\n",
      "\n"
     ]
    }
   ],
   "source": [
    "for checkpoint in checkpoints:\n",
    "    print(checkpoint, '\\n\\n')"
   ]
  },
  {
   "cell_type": "code",
   "execution_count": 13,
   "metadata": {},
   "outputs": [
    {
     "name": "stdout",
     "output_type": "stream",
     "text": [
      "Layer 1\n",
      "Neuron 0: weights:\n",
      "[-0.01584305  0.42288208 -0.00188028 -1.107436   -0.74398255]\n",
      " bias: 0.308384507894516\n",
      "\n",
      "Neuron 1: weights:\n",
      "[-0.37545547  0.92098075  0.55385685  0.12629864 -0.02164979]\n",
      " bias: -0.0031597211491316557\n",
      "\n",
      "Neuron 2: weights:\n",
      "[ 0.04814197 -2.59617    -0.21514018  0.20563416  2.4092226 ]\n",
      " bias: -1.9970331192016602\n",
      "\n",
      "Neuron 3: weights:\n",
      "[ 1.3445098  -2.5173404  -1.7222352  -0.01154326  0.1458328 ]\n",
      " bias: 1.6836813688278198\n",
      "\n",
      "$\n",
      "Layer 2\n",
      "Neuron 0: weights:\n",
      "[ 0.11253644 -0.01783984 -3.          3.        ]\n",
      " bias: -0.023546230047941208\n",
      "\n",
      "Neuron 1: weights:\n",
      "[ 0.37243947  3.         -3.         -3.        ]\n",
      " bias: 0.03411317989230156\n",
      "\n",
      "Neuron 2: weights:\n",
      "[-3.         -0.15912141  3.          0.14623255]\n",
      " bias: 0.012918000109493732\n",
      "\n",
      "$\n",
      "\n"
     ]
    }
   ],
   "source": [
    "print(model)"
   ]
  }
 ],
 "metadata": {
  "kernelspec": {
   "display_name": "Python 3",
   "language": "python",
   "name": "python3"
  },
  "language_info": {
   "codemirror_mode": {
    "name": "ipython",
    "version": 3
   },
   "file_extension": ".py",
   "mimetype": "text/x-python",
   "name": "python",
   "nbconvert_exporter": "python",
   "pygments_lexer": "ipython3",
   "version": "3.6.10"
  }
 },
 "nbformat": 4,
 "nbformat_minor": 2
}
