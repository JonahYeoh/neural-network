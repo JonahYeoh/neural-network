{
 "cells": [
  {
   "cell_type": "code",
   "execution_count": 1,
   "metadata": {},
   "outputs": [],
   "source": [
    "# dependency\n",
    "import numpy as np\n",
    "import pandas as pd\n",
    "import copy\n",
    "import math\n",
    "import sys\n",
    "import os\n",
    "from activations import relu, leaky_relu, sigmoid, tanh, softmax, d_sigmoid, d_relu\n",
    "from initializers import glorot_uniform, random_normal, random_uniform\n",
    "from regularizers import l1_regularizer, l2_regularizer\n",
    "from utility import trim_tail, multiply, subtract, get_nparams, one_hot_encoding, get_data\n",
    "from metrics import MSE, CCE, ACC, PRECISION, RECALL, essential_metrics, wondering_penalty, close_gap_penalty\n",
    "from pso import PSO\n",
    "from ga import GA\n",
    "from nn import Network\n",
    "from layer import DenseLayer\n",
    "from scalers import MinMaxScaler, StandardScaler"
   ]
  },
  {
   "cell_type": "code",
   "execution_count": 2,
   "metadata": {},
   "outputs": [],
   "source": [
    "# reference\n",
    "metrics_fn_dict = dict()\n",
    "metrics_fn_dict['accuracy'] = ACC\n",
    "metrics_fn_dict['categorical_crossentropy'] = CCE\n",
    "metrics_fn_dict['mean_square_error'] = MSE\n",
    "metrics_fn_dict['precision'] = PRECISION\n",
    "metrics_fn_dict['recall'] = RECALL\n",
    "metrics_fn_dict['essential_metrics'] = essential_metrics"
   ]
  },
  {
   "cell_type": "code",
   "execution_count": 3,
   "metadata": {},
   "outputs": [],
   "source": [
    "# model\n",
    "model = Network(5, lr = None)\n",
    "model.add_layer(DenseLayer(1, 4, True, afn=sigmoid, dafn=None, rfn=None))\n",
    "model.add_layer(DenseLayer(2, 3, True, afn=softmax, dafn=None, rfn=None))"
   ]
  },
  {
   "cell_type": "code",
   "execution_count": 4,
   "metadata": {},
   "outputs": [
    {
     "name": "stdout",
     "output_type": "stream",
     "text": [
      "see one see two 2.0 0.5\n"
     ]
    }
   ],
   "source": [
    "pso = PSO(dict(m = 50,\n",
    "    weight_constraint = [-3, 3], \n",
    "    velocity_constraint = [-0.1, 0.1],\n",
    "    c1 = [0.5, 2.0],\n",
    "    c2 = [0.5, 2.0],\n",
    "    w = [0.5, 1.6],\n",
    "    w_decay = 0.95,\n",
    "    scale_hyperparameter = False,\n",
    "    regularizer = None,\n",
    "    mask = True))"
   ]
  },
  {
   "cell_type": "code",
   "execution_count": 5,
   "metadata": {},
   "outputs": [
    {
     "name": "stdout",
     "output_type": "stream",
     "text": [
      "building layer 1 with 5\n",
      "24\n",
      "building layer 2 with 4\n",
      "15\n"
     ]
    }
   ],
   "source": [
    "model.compile(loss_fn = 'categorical_crossentropy', optimizer = pso, \\\n",
    "    metrics = ['accuracy', 'mean_square_error', 'categorical_crossentropy'])"
   ]
  },
  {
   "cell_type": "code",
   "execution_count": 6,
   "metadata": {},
   "outputs": [
    {
     "name": "stdout",
     "output_type": "stream",
     "text": [
      "<class 'pandas.core.frame.DataFrame'>\n",
      "RangeIndex: 107 entries, 0 to 106\n",
      "Data columns (total 6 columns):\n",
      " #   Column  Non-Null Count  Dtype  \n",
      "---  ------  --------------  -----  \n",
      " 0   f1      107 non-null    float32\n",
      " 1   f2      107 non-null    float32\n",
      " 2   f3      107 non-null    float32\n",
      " 3   f4      107 non-null    float32\n",
      " 4   f5      107 non-null    float32\n",
      " 5   label   107 non-null    float32\n",
      "dtypes: float32(6)\n",
      "memory usage: 2.6 KB\n",
      "None\n",
      "<class 'pandas.core.frame.DataFrame'>\n",
      "RangeIndex: 108 entries, 0 to 107\n",
      "Data columns (total 6 columns):\n",
      " #   Column  Non-Null Count  Dtype  \n",
      "---  ------  --------------  -----  \n",
      " 0   f1      108 non-null    float32\n",
      " 1   f2      108 non-null    float32\n",
      " 2   f3      108 non-null    float32\n",
      " 3   f4      108 non-null    float32\n",
      " 4   f5      108 non-null    float32\n",
      " 5   label   108 non-null    float32\n",
      "dtypes: float32(6)\n",
      "memory usage: 2.7 KB\n",
      "None\n"
     ]
    }
   ],
   "source": [
    "# data loading\n",
    "DATA = os.path.join('c:\\\\Users\\\\AI-lab\\\\github_repo\\\\neural-network\\\\', 'dataset')\n",
    "GROUP = 1\n",
    "COLUMNS = ['f1', 'f2', 'f3', 'f4', 'f5', 'label']\n",
    "N_CLASS = 3\n",
    "EPOCHS = 200\n",
    "train_dir, test_dir = \"..//dataset//training_data{}.txt\".format(GROUP), \"..//dataset//testing_data{}.txt\".format(GROUP)\n",
    "train, test = get_data(DATA, train_dir, COLUMNS), get_data(DATA, test_dir, COLUMNS)\n",
    "# shuffle\n",
    "train, test = train.sample(frac=1), test.sample(frac=1)\n",
    "x_train, y_train = train.drop('label', axis=1), train['label']\n",
    "x_test, y_test = test.drop('label', axis=1), test['label']"
   ]
  },
  {
   "cell_type": "code",
   "execution_count": 7,
   "metadata": {},
   "outputs": [],
   "source": [
    "# data scaling and encoding\n",
    "scaler = StandardScaler(['f1', 'f2', 'f3', 'f4', 'f5'])\n",
    "scaler.fit(x_train)\n",
    "x_train = scaler.transform(x_train)\n",
    "x_test = scaler.transform(x_test)\n",
    "y_train = one_hot_encoding(y_train, N_CLASS)\n",
    "y_test = one_hot_encoding(y_test, N_CLASS)"
   ]
  },
  {
   "cell_type": "code",
   "execution_count": 8,
   "metadata": {
    "tags": [
     "outputPrepend"
    ]
   },
   "outputs": [
    {
     "name": "stdout",
     "output_type": "stream",
     "text": [
      "Checkpoint 10, Accuracy: 0.9444444444444444, Loss: 0.4305317136976454\n",
      "Checkpoint 20, Accuracy: 0.9444444444444444, Loss: 0.35668150583902997\n",
      "Checkpoint 30, Accuracy: 0.9012345679012346, Loss: 0.33019065856933594\n",
      "Checkpoint 40, Accuracy: 0.9259259259259259, Loss: 0.30112764570448136\n",
      "Checkpoint 50, Accuracy: 0.9629629629629629, Loss: 0.3100305133395725\n",
      "Checkpoint 60, Accuracy: 0.9691358024691358, Loss: 0.2112454131797508\n",
      "Checkpoint 70, Accuracy: 0.9691358024691358, Loss: 0.2153472547177915\n",
      "Checkpoint 80, Accuracy: 0.9691358024691358, Loss: 0.23836918230409976\n",
      "Checkpoint 90, Accuracy: 0.9753086419753086, Loss: 0.21196012143735532\n",
      "Checkpoint 100, Accuracy: 0.9876543209876543, Loss: 0.18284059453893592\n",
      "Checkpoint 110, Accuracy: 0.9753086419753086, Loss: 0.16217450742368344\n",
      "Checkpoint 120, Accuracy: 0.9691358024691358, Loss: 0.16915061738755968\n",
      "Checkpoint 130, Accuracy: 0.9753086419753086, Loss: 0.14867289861043295\n",
      "Checkpoint 140, Accuracy: 0.9629629629629629, Loss: 0.1397828525967068\n",
      "Checkpoint 150, Accuracy: 0.9691358024691358, Loss: 0.1299946043226454\n",
      "Checkpoint 160, Accuracy: 0.9691358024691358, Loss: 0.134513881471422\n",
      "Checkpoint 170, Accuracy: 0.9814814814814815, Loss: 0.12414704428778754\n",
      "Checkpoint 180, Accuracy: 0.9753086419753086, Loss: 0.1240749270827682\n",
      "Checkpoint 190, Accuracy: 0.9753086419753086, Loss: 0.1261052202295374\n",
      "Checkpoint 200, Accuracy: 0.9753086419753086, Loss: 0.12340008770978009\n"
     ]
    }
   ],
   "source": [
    "# learning phase\n",
    "breakpoint = 10\n",
    "checkpoints = list()\n",
    "history = list()\n",
    "for century in range(0, EPOCHS, breakpoint):\n",
    "    sub_history = model.fit(x_train, y_train, breakpoint, verbose = 0)\n",
    "    score = model.evaluate(x_test, y_test, False, verbose = 0)\n",
    "    print('Checkpoint {}, Accuracy: {}, Loss: {}'.format(century+breakpoint, score['accuracy'], score[model.loss_fn]))\n",
    "    score['checkpoint'] = century + breakpoint\n",
    "    checkpoints.append(score)\n",
    "    history.extend(sub_history)\n",
    "    itr = century + breakpoint\n",
    "    model.optimizer.c1 = np.max([model.optimizer.C1[1] - ((model.optimizer.C1[1] - model.optimizer.C1[0]) * itr / EPOCHS), model.optimizer.C1[0]])\n",
    "    model.optimizer.c2 = np.min([model.optimizer.C2[0] + ((model.optimizer.C2[1] - model.optimizer.C2[0]) * itr / EPOCHS), model.optimizer.C2[1]])\n",
    "    model.optimizer.w = np.max([model.optimizer.w * model.optimizer.W_Decay, model.optimizer.W[0]])"
   ]
  },
  {
   "cell_type": "code",
   "execution_count": 9,
   "metadata": {},
   "outputs": [],
   "source": [
    "import matplotlib.pyplot as plt\n",
    "\n",
    "def draw_plot(x, y_list, x_label=None, y_label=None, legend=None, title=None):\n",
    "    fig, ax = plt.subplots(figsize=(12,5))\n",
    "    for xi, yi in zip(x, y_list):\n",
    "        ax.plot(xi, yi)\n",
    "    if x_label is not None and y_label is not None:\n",
    "        ax.set(xlabel=x_label, ylabel=y_label, title='{} VS {}'.format(x_label, y_label))\n",
    "    if legend is not None:\n",
    "        ax.legend(legend)\n",
    "    ax.grid()\n",
    "    plt.show()"
   ]
  },
  {
   "cell_type": "code",
   "execution_count": 10,
   "metadata": {},
   "outputs": [],
   "source": [
    "train_acc = [h['accuracy'] for h in history]\n",
    "train_mse = [h['mean_square_error'] for h in history]\n",
    "train_cce = [h['categorical_crossentropy'] for h in history]"
   ]
  },
  {
   "cell_type": "code",
   "execution_count": 11,
   "metadata": {},
   "outputs": [
    {
     "data": {
      "image/png": "[encoded data removed]",
      "text/plain": [
       "<Figure size 864x360 with 1 Axes>"
      ]
     },
     "metadata": {
      "needs_background": "light"
     },
     "output_type": "display_data"
    },
    {
     "data": {
      "image/png": "[encoded data removed]",
      "text/plain": [
       "<Figure size 864x360 with 1 Axes>"
      ]
     },
     "metadata": {
      "needs_background": "light"
     },
     "output_type": "display_data"
    }
   ],
   "source": [
    "draw_plot(x = [[i for i in range(len(history))], [(i+1)*breakpoint for i in range(len(checkpoints))]], y_list = [train_cce, [ ckp[model.loss_fn] for ckp in checkpoints ]], x_label = 'Epochs', \\\n",
    "    y_label = model.loss_fn, legend=['train', 'test'])\n",
    "acc = [ ckp['accuracy'] for ckp in checkpoints ]\n",
    "draw_plot(x = [[i for i in range(len(history))], [(i+1)*breakpoint for i in range(len(checkpoints))]], y_list = [train_acc, acc], x_label = 'Checkpoints', \\\n",
    "    y_label = 'accuracy', legend=['train', 'test'])"
   ]
  },
  {
   "cell_type": "code",
   "execution_count": 12,
   "metadata": {},
   "outputs": [
    {
     "name": "stdout",
     "output_type": "stream",
     "text": [
      "[1. 0. 0.] <-> [0.0377525  0.00128625 0.9609612 ]\n",
      "[0. 1. 0.] <-> [6.0302682e-02 9.3916631e-01 5.3097185e-04]\n",
      "[1. 0. 0.] <-> [0.9234239  0.01128893 0.06528722]\n",
      "[1. 0. 0.] <-> [0.9494614  0.04928316 0.00125542]\n",
      "[1. 0. 0.] <-> [0.98110586 0.01410237 0.0047919 ]\n",
      "[1. 0. 0.] <-> [0.9842003  0.01301721 0.00278251]\n",
      "[0. 0. 1.] <-> [0.3821629  0.00687206 0.610965  ]\n",
      "[0. 1. 0.] <-> [8.1161842e-02 9.1824675e-01 5.9141190e-04]\n",
      "[1. 0. 0.] <-> [0.9836283  0.01275806 0.00361363]\n",
      "[1. 0. 0.] <-> [0.7690652  0.03212254 0.19881223]\n",
      "[0. 0. 1.] <-> [9.8819304e-03 4.3952977e-04 9.8967850e-01]\n",
      "[1. 0. 0.] <-> [0.9730329  0.02352441 0.00344271]\n",
      "[1. 0. 0.] <-> [0.9815092  0.01122733 0.00726348]\n",
      "[1. 0. 0.] <-> [0.96594954 0.01315874 0.02089171]\n",
      "[1. 0. 0.] <-> [0.9591264  0.03857473 0.00229891]\n",
      "[1. 0. 0.] <-> [0.98556536 0.00963048 0.00480412]\n",
      "[1. 0. 0.] <-> [0.9509122  0.03185868 0.01722911]\n",
      "[1. 0. 0.] <-> [0.9749555  0.02301925 0.00202517]\n",
      "[1. 0. 0.] <-> [0.94325775 0.05537821 0.00136406]\n",
      "[0. 0. 1.] <-> [0.38619363 0.00286804 0.6109383 ]\n",
      "[1. 0. 0.] <-> [0.9610505  0.03230159 0.00664793]\n",
      "[1. 0. 0.] <-> [0.9687269  0.02906537 0.00220773]\n",
      "[1. 0. 0.] <-> [0.9540653  0.02641996 0.01951475]\n",
      "[1. 0. 0.] <-> [0.93359494 0.02177355 0.04463153]\n",
      "[1. 0. 0.] <-> [0.9755071  0.02123077 0.00326213]\n",
      "[0. 1. 0.] <-> [6.747282e-02 9.318957e-01 6.315315e-04]\n",
      "[1. 0. 0.] <-> [0.9769149  0.02125183 0.00183327]\n",
      "[0. 0. 1.] <-> [5.0454601e-03 5.9228125e-05 9.9489528e-01]\n",
      "[0. 1. 0.] <-> [6.7007028e-02 9.3240881e-01 5.8418023e-04]\n",
      "[1. 0. 0.] <-> [0.98220176 0.0086848  0.00911342]\n",
      "[1. 0. 0.] <-> [0.97053736 0.01581182 0.01365075]\n",
      "[1. 0. 0.] <-> [0.93064624 0.06710418 0.00224957]\n",
      "[1. 0. 0.] <-> [0.9843188  0.01111928 0.00456194]\n",
      "[1. 0. 0.] <-> [0.9547605  0.04394105 0.00129847]\n",
      "[0. 1. 0.] <-> [5.7248458e-02 9.4226146e-01 4.9006660e-04]\n",
      "[1. 0. 0.] <-> [0.97406673 0.01764832 0.00828501]\n",
      "[1. 0. 0.] <-> [0.9772611  0.02078786 0.00195099]\n",
      "[1. 0. 0.] <-> [0.77188766 0.00961338 0.21849899]\n",
      "[1. 0. 0.] <-> [0.9702514  0.0248787  0.00486995]\n",
      "[1. 0. 0.] <-> [0.9667437  0.03137393 0.00188238]\n",
      "[1. 0. 0.] <-> [0.9738911  0.02246753 0.00364132]\n",
      "[0. 1. 0.] <-> [0.29815727 0.6962379  0.00560477]\n",
      "[1. 0. 0.] <-> [0.9812448  0.01637193 0.00238317]\n",
      "[1. 0. 0.] <-> [0.98281026 0.01434058 0.0028491 ]\n",
      "[1. 0. 0.] <-> [0.82395494 0.1737999  0.00224521]\n",
      "[0. 1. 0.] <-> [5.7258245e-02 9.4225138e-01 4.9030001e-04]\n",
      "[1. 0. 0.] <-> [0.9627798  0.03275803 0.00446209]\n",
      "[1. 0. 0.] <-> [0.9666531  0.02464989 0.00869697]\n",
      "[1. 0. 0.] <-> [0.9551559  0.04248424 0.00235988]\n",
      "[1. 0. 0.] <-> [0.97735447 0.02066453 0.00198103]\n",
      "[1. 0. 0.] <-> [0.9395277  0.05899353 0.00147869]\n",
      "[1. 0. 0.] <-> [0.63600886 0.02045734 0.34353378]\n",
      "[1. 0. 0.] <-> [0.9593692  0.03821821 0.0024127 ]\n",
      "[0. 0. 1.] <-> [9.9307504e-03 4.4310023e-04 9.8962617e-01]\n",
      "[0. 1. 0.] <-> [6.852286e-02 9.308374e-01 6.396847e-04]\n",
      "[1. 0. 0.] <-> [0.95780253 0.04042827 0.00176917]\n",
      "[1. 0. 0.] <-> [0.91171366 0.086781   0.0015054 ]\n",
      "[1. 0. 0.] <-> [0.94041497 0.05836981 0.00121519]\n",
      "[0. 0. 1.] <-> [7.2631156e-03 1.7689873e-04 9.9256003e-01]\n",
      "[1. 0. 0.] <-> [0.97820616 0.01977335 0.00202055]\n",
      "[1. 0. 0.] <-> [0.9599204  0.03793997 0.00213967]\n",
      "[0. 1. 0.] <-> [0.6662271  0.32654566 0.00722727]\n",
      "[1. 0. 0.] <-> [0.9018396  0.02724616 0.07091419]\n",
      "[1. 0. 0.] <-> [0.9680954  0.02301621 0.0088883 ]\n",
      "[0. 0. 1.] <-> [4.3638917e-03 3.6643905e-05 9.9559939e-01]\n",
      "[0. 0. 1.] <-> [5.6485566e-03 8.2708168e-05 9.9426877e-01]\n",
      "[1. 0. 0.] <-> [0.98385596 0.01281221 0.00333179]\n",
      "[1. 0. 0.] <-> [0.96166646 0.03428115 0.00405241]\n",
      "[1. 0. 0.] <-> [0.9655514  0.03114808 0.00330055]\n",
      "[1. 0. 0.] <-> [0.962807   0.03441335 0.00277964]\n",
      "[1. 0. 0.] <-> [0.98464483 0.0126184  0.00273665]\n",
      "[1. 0. 0.] <-> [0.98082423 0.01666373 0.00251215]\n",
      "[0. 1. 0.] <-> [0.507331   0.4910016  0.00166738]\n",
      "[1. 0. 0.] <-> [0.8809888  0.11736109 0.0016501 ]\n",
      "[0. 1. 0.] <-> [0.58280796 0.415274   0.00191804]\n",
      "[1. 0. 0.] <-> [0.89105725 0.03227993 0.0766629 ]\n",
      "[1. 0. 0.] <-> [0.96486825 0.03235873 0.00277309]\n",
      "[1. 0. 0.] <-> [0.9680531  0.02680607 0.00514092]\n",
      "[0. 0. 1.] <-> [9.9658649e-03 4.5078108e-04 9.8958337e-01]\n",
      "[1. 0. 0.] <-> [0.9592507  0.0376604  0.00308881]\n",
      "[1. 0. 0.] <-> [0.9814813  0.01568691 0.00283175]\n",
      "[1. 0. 0.] <-> [0.96471536 0.03344128 0.00184342]\n",
      "[1. 0. 0.] <-> [0.9590432  0.039359   0.00159778]\n",
      "[1. 0. 0.] <-> [0.8925553  0.02698343 0.08046116]\n",
      "[1. 0. 0.] <-> [0.98524064 0.01230731 0.00245206]\n",
      "[0. 0. 1.] <-> [1.2058331e-02 5.4229068e-04 9.8739934e-01]\n",
      "[1. 0. 0.] <-> [0.9781025  0.01301055 0.00888691]\n",
      "[1. 0. 0.] <-> [0.9865936  0.00856127 0.00484516]\n",
      "[1. 0. 0.] <-> [0.8705502  0.00789976 0.12155   ]\n",
      "[1. 0. 0.] <-> [0.9673738  0.03088415 0.00174199]\n",
      "[0. 0. 1.] <-> [9.9689709e-03 4.5120143e-04 9.8957986e-01]\n",
      "[0. 1. 0.] <-> [1.0765802e-01 8.9150745e-01 8.3453691e-04]\n",
      "[1. 0. 0.] <-> [0.9840973  0.01337844 0.00252421]\n",
      "[1. 0. 0.] <-> [0.5147714  0.48327422 0.00195438]\n",
      "[1. 0. 0.] <-> [0.96390855 0.02061404 0.01547732]\n",
      "[0. 0. 1.] <-> [9.9688722e-03 4.5118813e-04 9.8957998e-01]\n",
      "[1. 0. 0.] <-> [0.9543053  0.03316401 0.01253061]\n",
      "[1. 0. 0.] <-> [0.97629184 0.00986378 0.01384433]\n",
      "[1. 0. 0.] <-> [0.9878318  0.00940945 0.00275874]\n",
      "[1. 0. 0.] <-> [0.95888525 0.03964724 0.00146752]\n",
      "[0. 0. 1.] <-> [9.6679470e-03 4.1163136e-04 9.8992038e-01]\n",
      "[0. 1. 0.] <-> [9.0085261e-02 9.0908480e-01 8.2993833e-04]\n",
      "[1. 0. 0.] <-> [0.9750504  0.0176584  0.00729122]\n",
      "[1. 0. 0.] <-> [0.98112124 0.01615223 0.00272655]\n",
      "[0. 1. 0.] <-> [6.286730e-02 9.365689e-01 5.638599e-04]\n",
      "[1. 0. 0.] <-> [0.9829385  0.01465486 0.00240652]\n",
      "[1. 0. 0.] <-> [0.9830617  0.01446321 0.00247509]\n",
      "[0. 1. 0.] <-> [0.3399945  0.65839463 0.00161087]\n",
      "{'accuracy': 0.9753086419753086, 'mean_square_error': 0.05850540282004496, 'categorical_crossentropy': 0.12340008770978009, 'essential_metrics': {0: {'tp_hit': 79, 'fp_hit': 3, 'tn_hit': 25, 'fn_hit': 1}, 1: {'tp_hit': 12, 'fp_hit': 0, 'tn_hit': 93, 'fn_hit': 3}, 2: {'tp_hit': 13, 'fp_hit': 1, 'tn_hit': 94, 'fn_hit': 0}}}\n"
     ]
    }
   ],
   "source": [
    "# recall phase\n",
    "score = model.evaluate(x_test, y_test, False)\n",
    "print(score)"
   ]
  },
  {
   "cell_type": "code",
   "execution_count": 13,
   "metadata": {},
   "outputs": [
    {
     "name": "stdout",
     "output_type": "stream",
     "text": [
      "{'accuracy': 0.9444444444444444, 'mean_square_error': 0.2254441417359582, 'categorical_crossentropy': 0.4305317136976454, 'essential_metrics': {0: {'tp_hit': 80, 'fp_hit': 4, 'tn_hit': 24, 'fn_hit': 0}, 1: {'tp_hit': 8, 'fp_hit': 0, 'tn_hit': 93, 'fn_hit': 7}, 2: {'tp_hit': 11, 'fp_hit': 5, 'tn_hit': 90, 'fn_hit': 2}}, 'checkpoint': 10} \n",
      "\n",
      "\n",
      "{'accuracy': 0.9444444444444444, 'mean_square_error': 0.17495197168276935, 'categorical_crossentropy': 0.35668150583902997, 'essential_metrics': {0: {'tp_hit': 80, 'fp_hit': 4, 'tn_hit': 24, 'fn_hit': 0}, 1: {'tp_hit': 8, 'fp_hit': 0, 'tn_hit': 93, 'fn_hit': 7}, 2: {'tp_hit': 11, 'fp_hit': 5, 'tn_hit': 90, 'fn_hit': 2}}, 'checkpoint': 20} \n",
      "\n",
      "\n",
      "{'accuracy': 0.9012345679012346, 'mean_square_error': 0.18408636313178153, 'categorical_crossentropy': 0.33019065856933594, 'essential_metrics': {0: {'tp_hit': 80, 'fp_hit': 12, 'tn_hit': 16, 'fn_hit': 0}, 1: {'tp_hit': 8, 'fp_hit': 0, 'tn_hit': 93, 'fn_hit': 7}, 2: {'tp_hit': 4, 'fp_hit': 4, 'tn_hit': 91, 'fn_hit': 9}}, 'checkpoint': 30} \n",
      "\n",
      "\n",
      "{'accuracy': 0.9259259259259259, 'mean_square_error': 0.16632386836987642, 'categorical_crossentropy': 0.30112764570448136, 'essential_metrics': {0: {'tp_hit': 80, 'fp_hit': 8, 'tn_hit': 20, 'fn_hit': 0}, 1: {'tp_hit': 7, 'fp_hit': 0, 'tn_hit': 93, 'fn_hit': 8}, 2: {'tp_hit': 9, 'fp_hit': 4, 'tn_hit': 91, 'fn_hit': 4}}, 'checkpoint': 40} \n",
      "\n",
      "\n",
      "{'accuracy': 0.9629629629629629, 'mean_square_error': 0.1388071088189993, 'categorical_crossentropy': 0.3100305133395725, 'essential_metrics': {0: {'tp_hit': 79, 'fp_hit': 4, 'tn_hit': 24, 'fn_hit': 1}, 1: {'tp_hit': 12, 'fp_hit': 0, 'tn_hit': 93, 'fn_hit': 3}, 2: {'tp_hit': 11, 'fp_hit': 2, 'tn_hit': 93, 'fn_hit': 2}}, 'checkpoint': 50} \n",
      "\n",
      "\n",
      "{'accuracy': 0.9691358024691358, 'mean_square_error': 0.09572008876231515, 'categorical_crossentropy': 0.2112454131797508, 'essential_metrics': {0: {'tp_hit': 80, 'fp_hit': 5, 'tn_hit': 23, 'fn_hit': 0}, 1: {'tp_hit': 13, 'fp_hit': 0, 'tn_hit': 93, 'fn_hit': 2}, 2: {'tp_hit': 10, 'fp_hit': 0, 'tn_hit': 95, 'fn_hit': 3}}, 'checkpoint': 60} \n",
      "\n",
      "\n",
      "{'accuracy': 0.9691358024691358, 'mean_square_error': 0.0893144753872749, 'categorical_crossentropy': 0.2153472547177915, 'essential_metrics': {0: {'tp_hit': 80, 'fp_hit': 5, 'tn_hit': 23, 'fn_hit': 0}, 1: {'tp_hit': 13, 'fp_hit': 0, 'tn_hit': 93, 'fn_hit': 2}, 2: {'tp_hit': 10, 'fp_hit': 0, 'tn_hit': 95, 'fn_hit': 3}}, 'checkpoint': 70} \n",
      "\n",
      "\n",
      "{'accuracy': 0.9691358024691358, 'mean_square_error': 0.10058064580239731, 'categorical_crossentropy': 0.23836918230409976, 'essential_metrics': {0: {'tp_hit': 78, 'fp_hit': 3, 'tn_hit': 25, 'fn_hit': 2}, 1: {'tp_hit': 14, 'fp_hit': 2, 'tn_hit': 91, 'fn_hit': 1}, 2: {'tp_hit': 11, 'fp_hit': 0, 'tn_hit': 95, 'fn_hit': 2}}, 'checkpoint': 80} \n",
      "\n",
      "\n",
      "{'accuracy': 0.9753086419753086, 'mean_square_error': 0.08817774608167363, 'categorical_crossentropy': 0.21196012143735532, 'essential_metrics': {0: {'tp_hit': 80, 'fp_hit': 4, 'tn_hit': 24, 'fn_hit': 0}, 1: {'tp_hit': 13, 'fp_hit': 0, 'tn_hit': 93, 'fn_hit': 2}, 2: {'tp_hit': 11, 'fp_hit': 0, 'tn_hit': 95, 'fn_hit': 2}}, 'checkpoint': 90} \n",
      "\n",
      "\n",
      "{'accuracy': 0.9876543209876543, 'mean_square_error': 0.0684937809396521, 'categorical_crossentropy': 0.18284059453893592, 'essential_metrics': {0: {'tp_hit': 79, 'fp_hit': 1, 'tn_hit': 27, 'fn_hit': 1}, 1: {'tp_hit': 14, 'fp_hit': 0, 'tn_hit': 93, 'fn_hit': 1}, 2: {'tp_hit': 13, 'fp_hit': 1, 'tn_hit': 94, 'fn_hit': 0}}, 'checkpoint': 100} \n",
      "\n",
      "\n",
      "{'accuracy': 0.9753086419753086, 'mean_square_error': 0.06378947709981267, 'categorical_crossentropy': 0.16217450742368344, 'essential_metrics': {0: {'tp_hit': 79, 'fp_hit': 3, 'tn_hit': 25, 'fn_hit': 1}, 1: {'tp_hit': 13, 'fp_hit': 0, 'tn_hit': 93, 'fn_hit': 2}, 2: {'tp_hit': 12, 'fp_hit': 1, 'tn_hit': 94, 'fn_hit': 1}}, 'checkpoint': 110} \n",
      "\n",
      "\n",
      "{'accuracy': 0.9691358024691358, 'mean_square_error': 0.07271264382055496, 'categorical_crossentropy': 0.16915061738755968, 'essential_metrics': {0: {'tp_hit': 78, 'fp_hit': 3, 'tn_hit': 25, 'fn_hit': 2}, 1: {'tp_hit': 13, 'fp_hit': 0, 'tn_hit': 93, 'fn_hit': 2}, 2: {'tp_hit': 12, 'fp_hit': 2, 'tn_hit': 93, 'fn_hit': 1}}, 'checkpoint': 120} \n",
      "\n",
      "\n",
      "{'accuracy': 0.9753086419753086, 'mean_square_error': 0.06521928125032855, 'categorical_crossentropy': 0.14867289861043295, 'essential_metrics': {0: {'tp_hit': 79, 'fp_hit': 3, 'tn_hit': 25, 'fn_hit': 1}, 1: {'tp_hit': 13, 'fp_hit': 0, 'tn_hit': 93, 'fn_hit': 2}, 2: {'tp_hit': 12, 'fp_hit': 1, 'tn_hit': 94, 'fn_hit': 1}}, 'checkpoint': 130} \n",
      "\n",
      "\n",
      "{'accuracy': 0.9629629629629629, 'mean_square_error': 0.06624651434355606, 'categorical_crossentropy': 0.1397828525967068, 'essential_metrics': {0: {'tp_hit': 78, 'fp_hit': 4, 'tn_hit': 24, 'fn_hit': 2}, 1: {'tp_hit': 13, 'fp_hit': 0, 'tn_hit': 93, 'fn_hit': 2}, 2: {'tp_hit': 11, 'fp_hit': 2, 'tn_hit': 93, 'fn_hit': 2}}, 'checkpoint': 140} \n",
      "\n",
      "\n",
      "{'accuracy': 0.9691358024691358, 'mean_square_error': 0.06409764615260784, 'categorical_crossentropy': 0.1299946043226454, 'essential_metrics': {0: {'tp_hit': 79, 'fp_hit': 4, 'tn_hit': 24, 'fn_hit': 1}, 1: {'tp_hit': 13, 'fp_hit': 0, 'tn_hit': 93, 'fn_hit': 2}, 2: {'tp_hit': 11, 'fp_hit': 1, 'tn_hit': 94, 'fn_hit': 2}}, 'checkpoint': 150} \n",
      "\n",
      "\n",
      "{'accuracy': 0.9691358024691358, 'mean_square_error': 0.06421043631198758, 'categorical_crossentropy': 0.134513881471422, 'essential_metrics': {0: {'tp_hit': 77, 'fp_hit': 2, 'tn_hit': 26, 'fn_hit': 3}, 1: {'tp_hit': 13, 'fp_hit': 1, 'tn_hit': 92, 'fn_hit': 2}, 2: {'tp_hit': 13, 'fp_hit': 2, 'tn_hit': 93, 'fn_hit': 0}}, 'checkpoint': 160} \n",
      "\n",
      "\n",
      "{'accuracy': 0.9814814814814815, 'mean_square_error': 0.0617316634047821, 'categorical_crossentropy': 0.12414704428778754, 'essential_metrics': {0: {'tp_hit': 79, 'fp_hit': 2, 'tn_hit': 26, 'fn_hit': 1}, 1: {'tp_hit': 13, 'fp_hit': 0, 'tn_hit': 93, 'fn_hit': 2}, 2: {'tp_hit': 13, 'fp_hit': 1, 'tn_hit': 94, 'fn_hit': 0}}, 'checkpoint': 170} \n",
      "\n",
      "\n",
      "{'accuracy': 0.9753086419753086, 'mean_square_error': 0.06002700916461198, 'categorical_crossentropy': 0.1240749270827682, 'essential_metrics': {0: {'tp_hit': 79, 'fp_hit': 3, 'tn_hit': 25, 'fn_hit': 1}, 1: {'tp_hit': 12, 'fp_hit': 0, 'tn_hit': 93, 'fn_hit': 3}, 2: {'tp_hit': 13, 'fp_hit': 1, 'tn_hit': 94, 'fn_hit': 0}}, 'checkpoint': 180} \n",
      "\n",
      "\n",
      "{'accuracy': 0.9753086419753086, 'mean_square_error': 0.061349094221362324, 'categorical_crossentropy': 0.1261052202295374, 'essential_metrics': {0: {'tp_hit': 79, 'fp_hit': 3, 'tn_hit': 25, 'fn_hit': 1}, 1: {'tp_hit': 12, 'fp_hit': 0, 'tn_hit': 93, 'fn_hit': 3}, 2: {'tp_hit': 13, 'fp_hit': 1, 'tn_hit': 94, 'fn_hit': 0}}, 'checkpoint': 190} \n",
      "\n",
      "\n",
      "{'accuracy': 0.9753086419753086, 'mean_square_error': 0.05850540282004496, 'categorical_crossentropy': 0.12340008770978009, 'essential_metrics': {0: {'tp_hit': 79, 'fp_hit': 3, 'tn_hit': 25, 'fn_hit': 1}, 1: {'tp_hit': 12, 'fp_hit': 0, 'tn_hit': 93, 'fn_hit': 3}, 2: {'tp_hit': 13, 'fp_hit': 1, 'tn_hit': 94, 'fn_hit': 0}}, 'checkpoint': 200} \n",
      "\n",
      "\n"
     ]
    }
   ],
   "source": [
    "for checkpoint in checkpoints:\n",
    "    print(checkpoint, '\\n\\n')"
   ]
  },
  {
   "cell_type": "code",
   "execution_count": 14,
   "metadata": {},
   "outputs": [
    {
     "name": "stdout",
     "output_type": "stream",
     "text": [
      "Layer 1\n",
      "Neuron 0: weights:\n",
      "[ 0.08184763  2.416242    1.2145302  -2.7060313  -3.        ]\n",
      " bias: 2.293064832687378\n",
      "\n",
      "Neuron 1: weights:\n",
      "[-1.7751113  3.         3.         1.2092863 -1.9058274]\n",
      " bias: -2.833139657974243\n",
      "\n",
      "Neuron 2: weights:\n",
      "[-0.0149914 -3.        -1.1598237  2.4696696  2.642176 ]\n",
      " bias: -2.7674758434295654\n",
      "\n",
      "Neuron 3: weights:\n",
      "[-3.          2.008598   -1.819554    0.71421087  1.913576  ]\n",
      " bias: 1.5640099048614502\n",
      "\n",
      "$\n",
      "Layer 2\n",
      "Neuron 0: weights:\n",
      "[ 3.        -3.        -2.4956849 -0.7849997]\n",
      " bias: 3.0\n",
      "\n",
      "Neuron 1: weights:\n",
      "[ 2.4394271  3.        -3.         0.9807303]\n",
      " bias: -1.3567299842834473\n",
      "\n",
      "Neuron 2: weights:\n",
      "[-3.         -0.88682604  3.         -1.6828836 ]\n",
      " bias: 3.0\n",
      "\n",
      "$\n",
      "\n"
     ]
    }
   ],
   "source": [
    "print(model)"
   ]
  }
 ],
 "metadata": {
  "kernelspec": {
   "display_name": "Python 3",
   "language": "python",
   "name": "python3"
  },
  "language_info": {
   "codemirror_mode": {
    "name": "ipython",
    "version": 3
   },
   "file_extension": ".py",
   "mimetype": "text/x-python",
   "name": "python",
   "nbconvert_exporter": "python",
   "pygments_lexer": "ipython3",
   "version": "3.6.12"
  }
 },
 "nbformat": 4,
 "nbformat_minor": 2
}
