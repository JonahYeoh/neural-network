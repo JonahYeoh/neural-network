{
 "cells": [
  {
   "cell_type": "code",
   "execution_count": 1,
   "metadata": {},
   "outputs": [],
   "source": [
    "# single"
   ]
  },
  {
   "cell_type": "code",
   "execution_count": 2,
   "metadata": {},
   "outputs": [],
   "source": [
    "# dependency\n",
    "import numpy as np\n",
    "import pandas as pd\n",
    "import copy\n",
    "import math\n",
    "import sys\n",
    "import os\n",
    "from activations import relu, leaky_relu, sigmoid, tanh, softmax, d_sigmoid, d_relu\n",
    "from initializers import glorot_uniform, random_normal, random_uniform\n",
    "from regularizers import l1_regularizer, l2_regularizer\n",
    "from utility import trim_tail, multiply, subtract, get_nparams, one_hot_encoding, get_data\n",
    "from metrics import MSE, CCE, ACC, PRECISION, RECALL, essential_metrics, wondering_penalty, close_gap_penalty\n",
    "from pso import PSO\n",
    "from ga import GA\n",
    "from nn import Network\n",
    "from layer import DenseLayer\n",
    "from scalers import MinMaxScaler, StandardScaler"
   ]
  },
  {
   "cell_type": "code",
   "execution_count": 3,
   "metadata": {},
   "outputs": [],
   "source": [
    "# reference\n",
    "metrics_fn_dict = dict()\n",
    "metrics_fn_dict['accuracy'] = ACC\n",
    "metrics_fn_dict['categorical_crossentropy'] = CCE\n",
    "metrics_fn_dict['mean_square_error'] = MSE\n",
    "metrics_fn_dict['precision'] = PRECISION\n",
    "metrics_fn_dict['recall'] = RECALL\n",
    "metrics_fn_dict['essential_metrics'] = essential_metrics"
   ]
  },
  {
   "cell_type": "code",
   "execution_count": 4,
   "metadata": {},
   "outputs": [],
   "source": [
    "# model\n",
    "model = Network(5, lr = None)\n",
    "model.add_layer(DenseLayer(1, 4, True, afn=sigmoid, dafn=None, rfn=None))\n",
    "model.add_layer(DenseLayer(2, 3, True, afn=softmax, dafn=None, rfn=None))"
   ]
  },
  {
   "cell_type": "code",
   "execution_count": 5,
   "metadata": {},
   "outputs": [],
   "source": [
    "# optimizer\n",
    "ga = GA(\n",
    "    dict(\n",
    "        m = 50,\n",
    "        x_rate = [0.5, 1.0],\n",
    "        m_rate = [0.5, 1.0],\n",
    "        weight_constraint = [-3.,3.],\n",
    "        radioactive_rating = [0.1, 0.5],\n",
    "        grow_factor = [0.1, 0.5],\n",
    "        scale_hyperparameter = False,\n",
    "        regularizer = l2_regularizer))"
   ]
  },
  {
   "cell_type": "code",
   "execution_count": 6,
   "metadata": {},
   "outputs": [
    {
     "name": "stdout",
     "output_type": "stream",
     "text": [
      "building layer 1 with 5\n",
      "24\n",
      "building layer 2 with 4\n",
      "15\n"
     ]
    }
   ],
   "source": [
    "model.compile(loss_fn = 'categorical_crossentropy', optimizer = ga, \\\n",
    "    metrics = ['accuracy', 'mean_square_error', 'categorical_crossentropy', 'precision', 'recall', 'f1'])"
   ]
  },
  {
   "cell_type": "code",
   "execution_count": 7,
   "metadata": {},
   "outputs": [
    {
     "name": "stdout",
     "output_type": "stream",
     "text": [
      "<class 'pandas.core.frame.DataFrame'>\n",
      "RangeIndex: 107 entries, 0 to 106\n",
      "Data columns (total 6 columns):\n",
      " #   Column  Non-Null Count  Dtype  \n",
      "---  ------  --------------  -----  \n",
      " 0   f1      107 non-null    float32\n",
      " 1   f2      107 non-null    float32\n",
      " 2   f3      107 non-null    float32\n",
      " 3   f4      107 non-null    float32\n",
      " 4   f5      107 non-null    float32\n",
      " 5   label   107 non-null    float32\n",
      "dtypes: float32(6)\n",
      "memory usage: 2.6 KB\n",
      "None\n",
      "<class 'pandas.core.frame.DataFrame'>\n",
      "RangeIndex: 108 entries, 0 to 107\n",
      "Data columns (total 6 columns):\n",
      " #   Column  Non-Null Count  Dtype  \n",
      "---  ------  --------------  -----  \n",
      " 0   f1      108 non-null    float32\n",
      " 1   f2      108 non-null    float32\n",
      " 2   f3      108 non-null    float32\n",
      " 3   f4      108 non-null    float32\n",
      " 4   f5      108 non-null    float32\n",
      " 5   label   108 non-null    float32\n",
      "dtypes: float32(6)\n",
      "memory usage: 2.7 KB\n",
      "None\n"
     ]
    }
   ],
   "source": [
    "# data loading\n",
    "DATA = os.path.join('c:\\\\Users\\\\tcumi\\\\github_repo\\\\neural-network\\\\', 'dataset')\n",
    "GROUP = 4\n",
    "COLUMNS = ['f1', 'f2', 'f3', 'f4', 'f5', 'label']\n",
    "N_CLASS = 3\n",
    "EPOCHS = 500\n",
    "train_dir, test_dir = \"..//dataset//training_data{}.txt\".format(GROUP), \"..//dataset//testing_data{}.txt\".format(GROUP)\n",
    "train, test = get_data(DATA, train_dir, COLUMNS), get_data(DATA, test_dir, COLUMNS)\n",
    "# shuffle\n",
    "train, test = train.sample(frac=1), test.sample(frac=1)\n",
    "x_train, y_train = train.drop('label', axis=1), train['label']\n",
    "x_test, y_test = test.drop('label', axis=1), test['label']"
   ]
  },
  {
   "cell_type": "code",
   "execution_count": 8,
   "metadata": {},
   "outputs": [],
   "source": [
    "# data scaling and encoding\n",
    "scaler = StandardScaler(['f1', 'f2', 'f3', 'f4', 'f5'])\n",
    "scaler.fit(x_train)\n",
    "x_train = scaler.transform(x_train)\n",
    "x_test = scaler.transform(x_test)\n",
    "y_train = one_hot_encoding(y_train, N_CLASS)\n",
    "y_test = one_hot_encoding(y_test, N_CLASS)"
   ]
  },
  {
   "cell_type": "code",
   "execution_count": 9,
   "metadata": {
    "scrolled": true,
    "tags": [
     "outputPrepend"
    ]
   },
   "outputs": [
    {
     "name": "stderr",
     "output_type": "stream",
     "text": [
      "C:\\Users\\tcumi\\Anaconda3\\envs\\py_3_6\\lib\\site-packages\\numpy\\core\\fromnumeric.py:87: VisibleDeprecationWarning: Creating an ndarray from ragged nested sequences (which is a list-or-tuple of lists-or-tuples-or ndarrays with different lengths or shapes) is deprecated. If you meant to do this, you must specify 'dtype=object' when creating the ndarray\n",
      "  return ufunc.reduce(obj, axis, dtype, out, **passkwargs)\n",
      "C:\\Users\\tcumi\\github_repo\\neural-network\\python\\ga.py:201: RuntimeWarning: overflow encountered in add\n",
      "  self.population.sort(key=lambda p: p.fitness + np.random.uniform(-shift, shift, 1), reverse = self.aim)\n",
      "C:\\Users\\tcumi\\Anaconda3\\envs\\py_3_6\\lib\\site-packages\\numpy\\core\\_asarray.py:136: VisibleDeprecationWarning: Creating an ndarray from ragged nested sequences (which is a list-or-tuple of lists-or-tuples-or ndarrays with different lengths or shapes) is deprecated. If you meant to do this, you must specify 'dtype=object' when creating the ndarray\n",
      "  return array(a, dtype, copy=False, order=order, subok=True)\n"
     ]
    },
    {
     "name": "stdout",
     "output_type": "stream",
     "text": [
      "Checkpoint 100, Accuracy: 0.9320987654320988, Loss: 0.3999722092239945\n",
      "Checkpoint 200, Accuracy: 0.9259259259259259, Loss: 0.3785711924235026\n",
      "Checkpoint 300, Accuracy: 0.9197530864197531, Loss: 0.35198713231969764\n",
      "Checkpoint 400, Accuracy: 0.9012345679012346, Loss: 0.367600229051378\n",
      "Checkpoint 500, Accuracy: 0.9074074074074074, Loss: 0.3698378668891059\n"
     ]
    }
   ],
   "source": [
    "# learning phase\n",
    "breakpoint = 100\n",
    "checkpoints = list()\n",
    "history = list()\n",
    "for century in range(0, EPOCHS, breakpoint):\n",
    "    sub_history = model.fit(x_train, y_train, breakpoint, verbose = 0)\n",
    "    score = model.evaluate(x_test, y_test, False, verbose = 0)\n",
    "    print('Checkpoint {}, Accuracy: {}, Loss: {}'.format(century+breakpoint, score['accuracy'], score[model.loss_fn]))\n",
    "    score['checkpoint'] = century + breakpoint\n",
    "    checkpoints.append(score)\n",
    "    history.extend(sub_history)\n",
    "    itr = century + breakpoint\n",
    "    '''\n",
    "    model.optimizer.rr = model.optimizer.rr * 0.9\n",
    "    model.optimizer.gf = model.optimizer.gf * 0.9\n",
    "    model.optimizer.crossover_rate = model.optimizer.crossover_rate * 0.9\n",
    "    model.optimizer.mutation_rate = model.optimizer.mutation_rate * 1.1\n",
    "    '''\n",
    "    model.optimizer.rr = model.optimizer.radioactive_rating[1] - (model.optimizer.radioactive_rating[1] - model.optimizer.radioactive_rating[0]) / EPOCHS * (EPOCHS - itr)\n",
    "    model.optimizer.gf = model.optimizer.grow_factor[1] - (model.optimizer.grow_factor[1] - model.optimizer.grow_factor[0]) / EPOCHS * (EPOCHS - itr)\n",
    "    model.optimizer.crossover_rate = model.optimizer.x_rate[1] - (model.optimizer.x_rate[1] - model.optimizer.x_rate[0]) / EPOCHS * (EPOCHS - itr)\n",
    "    model.optimizer.mutation_rate = model.optimizer.m_rate[0] + (model.optimizer.m_rate[1] - model.optimizer.m_rate[0]) / EPOCHS * (EPOCHS - itr)\n",
    "    "
   ]
  },
  {
   "cell_type": "code",
   "execution_count": 10,
   "metadata": {},
   "outputs": [],
   "source": [
    "import matplotlib.pyplot as plt\n",
    "\n",
    "def draw_plot(x, y_list, x_label=None, y_label=None, legend=None, title=None):\n",
    "    fig, ax = plt.subplots(figsize=(12,5))\n",
    "    for xi, yi in zip(x, y_list):\n",
    "        ax.plot(xi, yi)\n",
    "    if x_label is not None and y_label is not None:\n",
    "        ax.set(xlabel=x_label, ylabel=y_label, title='{} VS {}'.format(x_label, y_label))\n",
    "    if legend is not None:\n",
    "        ax.legend(legend)\n",
    "    ax.grid()\n",
    "    plt.show()"
   ]
  },
  {
   "cell_type": "code",
   "execution_count": 11,
   "metadata": {},
   "outputs": [
    {
     "name": "stdout",
     "output_type": "stream",
     "text": [
      "[1. 0. 0.] <-> [0.6845858 0.1949432 0.1204709]\n",
      "[1. 0. 0.] <-> [0.8619433  0.06172071 0.07633609]\n",
      "[0. 1. 0.] <-> [0.2408339  0.74254256 0.01662357]\n",
      "[1. 0. 0.] <-> [0.86414826 0.05562184 0.08022981]\n",
      "[1. 0. 0.] <-> [0.81864756 0.09668145 0.08467101]\n",
      "[1. 0. 0.] <-> [0.74422914 0.19539763 0.06037321]\n",
      "[0. 1. 0.] <-> [0.24336329 0.7375737  0.01906297]\n",
      "[0. 0. 1.] <-> [0.64226526 0.01753657 0.34019813]\n",
      "[1. 0. 0.] <-> [0.70541954 0.23423462 0.06034587]\n",
      "[1. 0. 0.] <-> [0.70888627 0.23514761 0.05596607]\n",
      "[1. 0. 0.] <-> [0.8518511  0.07951605 0.06863278]\n",
      "[1. 0. 0.] <-> [0.8260394  0.10986812 0.06409255]\n",
      "[1. 0. 0.] <-> [0.7209908  0.2139073  0.06510194]\n",
      "[1. 0. 0.] <-> [0.8041261  0.10984197 0.08603189]\n",
      "[0. 1. 0.] <-> [0.3030523  0.67052186 0.02642586]\n",
      "[1. 0. 0.] <-> [0.6157306  0.33445963 0.04980979]\n",
      "[1. 0. 0.] <-> [0.68578506 0.05901359 0.2552013 ]\n",
      "[1. 0. 0.] <-> [0.83728135 0.09319834 0.06952035]\n",
      "[1. 0. 0.] <-> [0.8518783  0.06451099 0.08361076]\n",
      "[1. 0. 0.] <-> [0.7303703  0.20126301 0.06836665]\n",
      "[1. 0. 0.] <-> [0.8341827  0.03611469 0.12970264]\n",
      "[0. 1. 0.] <-> [0.5803484  0.36893508 0.05071653]\n",
      "[0. 0. 1.] <-> [0.6040989  0.03576905 0.3601321 ]\n",
      "[1. 0. 0.] <-> [0.79285437 0.13108552 0.0760601 ]\n",
      "[1. 0. 0.] <-> [0.78160304 0.12291913 0.09547775]\n",
      "[0. 0. 1.] <-> [0.18956296 0.04445186 0.76598513]\n",
      "[1. 0. 0.] <-> [0.76776814 0.17568013 0.05655167]\n",
      "[1. 0. 0.] <-> [0.7654678  0.15524864 0.07928347]\n",
      "[1. 0. 0.] <-> [0.8571729  0.05132349 0.09150363]\n",
      "[1. 0. 0.] <-> [0.8008604  0.07132109 0.12781855]\n",
      "[1. 0. 0.] <-> [0.8154186  0.0911281  0.09345337]\n",
      "[0. 0. 1.] <-> [0.28142983 0.01602437 0.70254576]\n",
      "[1. 0. 0.] <-> [0.83700806 0.09187503 0.07111687]\n",
      "[1. 0. 0.] <-> [0.84383744 0.04339036 0.11277221]\n",
      "[0. 0. 1.] <-> [0.40709448 0.01586715 0.5770384 ]\n",
      "[1. 0. 0.] <-> [0.79015374 0.13813268 0.07171363]\n",
      "[1. 0. 0.] <-> [0.823487   0.10274494 0.07376807]\n",
      "[0. 1. 0.] <-> [0.5486232  0.41599262 0.03538425]\n",
      "[0. 1. 0.] <-> [0.54602706 0.42153275 0.03244015]\n",
      "[1. 0. 0.] <-> [0.83052015 0.11149442 0.05798542]\n",
      "[1. 0. 0.] <-> [0.8168589  0.09434444 0.08879668]\n",
      "[1. 0. 0.] <-> [0.8484903  0.03447699 0.11703271]\n",
      "[1. 0. 0.] <-> [0.88085    0.05317117 0.06597869]\n",
      "[1. 0. 0.] <-> [0.83608526 0.08767778 0.07623704]\n",
      "[1. 0. 0.] <-> [0.78360504 0.1523302  0.06406482]\n",
      "[1. 0. 0.] <-> [0.857393   0.08386735 0.05873965]\n",
      "[0. 1. 0.] <-> [0.24355958 0.7394612  0.01697921]\n",
      "[1. 0. 0.] <-> [0.8049039  0.13128616 0.06380989]\n",
      "[1. 0. 0.] <-> [0.79971224 0.11958966 0.0806981 ]\n",
      "[0. 0. 1.] <-> [0.84240717 0.02740539 0.13018744]\n",
      "[0. 0. 1.] <-> [0.45792744 0.01275339 0.52931917]\n",
      "[1. 0. 0.] <-> [0.8567716  0.0766942  0.06653416]\n",
      "[1. 0. 0.] <-> [0.8621808  0.06574603 0.0720731 ]\n",
      "[1. 0. 0.] <-> [0.87602353 0.03834483 0.08563154]\n",
      "[1. 0. 0.] <-> [0.83866537 0.1091697  0.05216492]\n",
      "[1. 0. 0.] <-> [0.84587675 0.07323199 0.08089124]\n",
      "[1. 0. 0.] <-> [0.8545557  0.05479538 0.09064892]\n",
      "[0. 1. 0.] <-> [0.6216969  0.32512245 0.05318062]\n",
      "[1. 0. 0.] <-> [0.8751093  0.03998839 0.08490226]\n",
      "[1. 0. 0.] <-> [0.8437941  0.08255672 0.07364916]\n",
      "[1. 0. 0.] <-> [0.8396358  0.06810983 0.09225436]\n",
      "[1. 0. 0.] <-> [0.7270442  0.22531728 0.04763852]\n",
      "[1. 0. 0.] <-> [0.7606473  0.15155119 0.08780148]\n",
      "[1. 0. 0.] <-> [0.82495195 0.06424855 0.11079952]\n",
      "[0. 1. 0.] <-> [0.4544655  0.50656164 0.03897285]\n",
      "[1. 0. 0.] <-> [0.8141274  0.07278629 0.11308634]\n",
      "[1. 0. 0.] <-> [0.830765   0.05715411 0.11208083]\n",
      "[0. 1. 0.] <-> [0.6013218  0.36028674 0.03839145]\n",
      "[1. 0. 0.] <-> [0.86814344 0.0581577  0.07369883]\n",
      "[1. 0. 0.] <-> [0.87192225 0.04046722 0.08761053]\n",
      "[1. 0. 0.] <-> [0.8350956  0.10353251 0.06137189]\n",
      "[1. 0. 0.] <-> [0.77530015 0.06849638 0.15620352]\n",
      "[0. 0. 1.] <-> [0.72017735 0.03517287 0.24464974]\n",
      "[1. 0. 0.] <-> [0.82279426 0.10517506 0.07203071]\n",
      "[0. 0. 1.] <-> [0.5380719  0.01475686 0.4471713 ]\n",
      "[1. 0. 0.] <-> [0.86577827 0.06171563 0.072506  ]\n",
      "[1. 0. 0.] <-> [0.7800354  0.14868413 0.07128043]\n",
      "[1. 0. 0.] <-> [0.85786813 0.04469947 0.0974324 ]\n",
      "[1. 0. 0.] <-> [0.7872474  0.07467528 0.13807733]\n",
      "[1. 0. 0.] <-> [0.8341006  0.10382257 0.06207678]\n",
      "[1. 0. 0.] <-> [0.8505141  0.08084022 0.06864567]\n",
      "[0. 0. 1.] <-> [0.7074222  0.0465557  0.24602218]\n",
      "[1. 0. 0.] <-> [0.82708234 0.08162893 0.09128879]\n",
      "[1. 0. 0.] <-> [0.86592245 0.06135858 0.07271902]\n",
      "[1. 0. 0.] <-> [0.8329877  0.08358871 0.08342351]\n",
      "[1. 0. 0.] <-> [0.8622055  0.05682091 0.08097365]\n",
      "[1. 0. 0.] <-> [0.6785226  0.27249187 0.04898555]\n",
      "[0. 1. 0.] <-> [0.32709128 0.6448636  0.02804504]\n",
      "[1. 0. 0.] <-> [0.7943749  0.14042346 0.06520164]\n",
      "[0. 1. 0.] <-> [0.24033281 0.7427405  0.01692664]\n",
      "[1. 0. 0.] <-> [0.83379275 0.09476431 0.0714429 ]\n",
      "[1. 0. 0.] <-> [0.80963576 0.12557833 0.06478587]\n",
      "[1. 0. 0.] <-> [0.81840914 0.11984024 0.06175055]\n",
      "[1. 0. 0.] <-> [0.7700846  0.0521968  0.17771855]\n",
      "[1. 0. 0.] <-> [0.8291292  0.08108401 0.08978676]\n",
      "[0. 1. 0.] <-> [0.6606155  0.29945356 0.03993095]\n",
      "[1. 0. 0.] <-> [0.7482807  0.18246342 0.06925588]\n",
      "[0. 0. 1.] <-> [0.18588395 0.02894083 0.7851752 ]\n",
      "[0. 1. 0.] <-> [0.45058122 0.5158334  0.03358535]\n",
      "[1. 0. 0.] <-> [0.8588699  0.0348569  0.10627324]\n",
      "[0. 0. 1.] <-> [0.52689403 0.01495916 0.4581468 ]\n",
      "[1. 0. 0.] <-> [0.8183847  0.06849281 0.11312243]\n",
      "[1. 0. 0.] <-> [0.81632566 0.11412494 0.06954949]\n",
      "[0. 1. 0.] <-> [0.24897099 0.7318043  0.01922468]\n",
      "[1. 0. 0.] <-> [0.8606694  0.04173192 0.09759863]\n",
      "[0. 0. 1.] <-> [0.82370585 0.04501855 0.13127561]\n",
      "[0. 0. 1.] <-> [0.5051362  0.01432745 0.48053628]\n",
      "[0. 1. 0.] <-> [0.27281722 0.70431757 0.02286521]\n",
      "{'accuracy': 0.9074074074074074, 'mean_square_error': 0.19376783076465962, 'categorical_crossentropy': 0.3698378668891059, 'precision': 0.8611111111111112, 'recall': 0.8611111111111112, 'f1': 0.8611111111111112, 'essential_metrics': {0: {'tp_hit': 78, 'fp_hit': 15, 'tn_hit': 15, 'fn_hit': 0}, 1: {'tp_hit': 10, 'fp_hit': 0, 'tn_hit': 92, 'fn_hit': 6}, 2: {'tp_hit': 5, 'fp_hit': 0, 'tn_hit': 94, 'fn_hit': 9}}}\n"
     ]
    }
   ],
   "source": [
    "# recall phase\n",
    "score = model.evaluate(x_test, y_test, False)\n",
    "print(score)"
   ]
  },
  {
   "cell_type": "code",
   "execution_count": 12,
   "metadata": {},
   "outputs": [],
   "source": [
    "# Testing Performance"
   ]
  },
  {
   "cell_type": "code",
   "execution_count": 13,
   "metadata": {},
   "outputs": [
    {
     "name": "stderr",
     "output_type": "stream",
     "text": [
      "C:\\Users\\tcumi\\Anaconda3\\envs\\py_3_6\\lib\\site-packages\\numpy\\core\\_asarray.py:136: VisibleDeprecationWarning: Creating an ndarray from ragged nested sequences (which is a list-or-tuple of lists-or-tuples-or ndarrays with different lengths or shapes) is deprecated. If you meant to do this, you must specify 'dtype=object' when creating the ndarray\n",
      "  return array(a, dtype, copy=False, order=order, subok=True)\n"
     ]
    },
    {
     "data": {
      "image/png": "[encoded data removed]",
      "text/plain": [
       "<Figure size 864x360 with 1 Axes>"
      ]
     },
     "metadata": {
      "needs_background": "light"
     },
     "output_type": "display_data"
    },
    {
     "data": {
      "image/png": "[encoded data removed]",
      "text/plain": [
       "<Figure size 864x360 with 1 Axes>"
      ]
     },
     "metadata": {
      "needs_background": "light"
     },
     "output_type": "display_data"
    }
   ],
   "source": [
    "draw_plot(x = [[i for i in range(len(history))], [(i+1)*breakpoint for i in range(len(checkpoints))]], y_list = [history, [ ckp[model.loss_fn] for ckp in checkpoints ]], x_label = 'Epochs', \\\n",
    "    y_label = model.loss_fn, legend=['train', 'test'])\n",
    "acc = [ ckp['accuracy'] for ckp in checkpoints ]\n",
    "draw_plot(x = [[(i+1)*breakpoint for i in range(len(checkpoints))]], y_list = [acc], x_label = 'Checkpoints', \\\n",
    "    y_label = 'accuracy')"
   ]
  },
  {
   "cell_type": "code",
   "execution_count": 14,
   "metadata": {
    "scrolled": false
   },
   "outputs": [
    {
     "name": "stdout",
     "output_type": "stream",
     "text": [
      "{'accuracy': 0.9320987654320988, 'mean_square_error': 0.2060026309280588, 'categorical_crossentropy': 0.3999722092239945, 'precision': 0.8981481481481481, 'recall': 0.8981481481481481, 'f1': 0.8981481481481481, 'essential_metrics': {0: {'tp_hit': 78, 'fp_hit': 11, 'tn_hit': 19, 'fn_hit': 0}, 1: {'tp_hit': 10, 'fp_hit': 0, 'tn_hit': 92, 'fn_hit': 6}, 2: {'tp_hit': 9, 'fp_hit': 0, 'tn_hit': 94, 'fn_hit': 5}}, 'checkpoint': 100} \n",
      "\n",
      "\n",
      "{'accuracy': 0.9259259259259259, 'mean_square_error': 0.19318504652526797, 'categorical_crossentropy': 0.3785711924235026, 'precision': 0.8888888888888888, 'recall': 0.8888888888888888, 'f1': 0.8888888888888888, 'essential_metrics': {0: {'tp_hit': 78, 'fp_hit': 12, 'tn_hit': 18, 'fn_hit': 0}, 1: {'tp_hit': 9, 'fp_hit': 0, 'tn_hit': 92, 'fn_hit': 7}, 2: {'tp_hit': 9, 'fp_hit': 0, 'tn_hit': 94, 'fn_hit': 5}}, 'checkpoint': 200} \n",
      "\n",
      "\n",
      "{'accuracy': 0.9197530864197531, 'mean_square_error': 0.18039381822058442, 'categorical_crossentropy': 0.35198713231969764, 'precision': 0.8796296296296297, 'recall': 0.8796296296296297, 'f1': 0.8796296296296297, 'essential_metrics': {0: {'tp_hit': 78, 'fp_hit': 13, 'tn_hit': 17, 'fn_hit': 0}, 1: {'tp_hit': 9, 'fp_hit': 0, 'tn_hit': 92, 'fn_hit': 7}, 2: {'tp_hit': 8, 'fp_hit': 0, 'tn_hit': 94, 'fn_hit': 6}}, 'checkpoint': 300} \n",
      "\n",
      "\n",
      "{'accuracy': 0.9012345679012346, 'mean_square_error': 0.19279399959223614, 'categorical_crossentropy': 0.367600229051378, 'precision': 0.8518518518518519, 'recall': 0.8518518518518519, 'f1': 0.8518518518518519, 'essential_metrics': {0: {'tp_hit': 78, 'fp_hit': 16, 'tn_hit': 14, 'fn_hit': 0}, 1: {'tp_hit': 9, 'fp_hit': 0, 'tn_hit': 92, 'fn_hit': 7}, 2: {'tp_hit': 5, 'fp_hit': 0, 'tn_hit': 94, 'fn_hit': 9}}, 'checkpoint': 400} \n",
      "\n",
      "\n",
      "{'accuracy': 0.9074074074074074, 'mean_square_error': 0.19376783076465962, 'categorical_crossentropy': 0.3698378668891059, 'precision': 0.8611111111111112, 'recall': 0.8611111111111112, 'f1': 0.8611111111111112, 'essential_metrics': {0: {'tp_hit': 78, 'fp_hit': 15, 'tn_hit': 15, 'fn_hit': 0}, 1: {'tp_hit': 10, 'fp_hit': 0, 'tn_hit': 92, 'fn_hit': 6}, 2: {'tp_hit': 5, 'fp_hit': 0, 'tn_hit': 94, 'fn_hit': 9}}, 'checkpoint': 500} \n",
      "\n",
      "\n"
     ]
    }
   ],
   "source": [
    "for checkpoint in checkpoints:\n",
    "    print(checkpoint, '\\n\\n')"
   ]
  },
  {
   "cell_type": "code",
   "execution_count": 15,
   "metadata": {},
   "outputs": [
    {
     "name": "stdout",
     "output_type": "stream",
     "text": [
      "Layer 1\n",
      "Neuron 0: weights:\n",
      "[-0.29495603  0.79561865 -0.09399781 -0.73383933 -0.8146609 ]\n",
      " bias: 0.7448461055755615\n",
      "\n",
      "Neuron 1: weights:\n",
      "[ 0.54594606 -0.9671643  -0.962275   -0.7757389  -0.41639072]\n",
      " bias: 0.2796926498413086\n",
      "\n",
      "Neuron 2: weights:\n",
      "[ 0.26600918 -0.5495624  -0.12865779  0.4767719   0.55826384]\n",
      " bias: -0.5329321622848511\n",
      "\n",
      "Neuron 3: weights:\n",
      "[ 0.5318541  -1.1053107  -0.7044499   0.12870416  0.02345259]\n",
      " bias: 0.3708476722240448\n",
      "\n",
      "$\n",
      "Layer 2\n",
      "Neuron 0: weights:\n",
      "[ 1.0126648  1.4352654 -0.5895923  0.5823742]\n",
      " bias: -0.44992318749427795\n",
      "\n",
      "Neuron 1: weights:\n",
      "[ 0.9621957  -1.3303659  -0.58142215 -1.5902648 ]\n",
      " bias: 0.7329415082931519\n",
      "\n",
      "Neuron 2: weights:\n",
      "[-1.9644406   0.00445038  1.0976452   0.693878  ]\n",
      " bias: -0.20471236109733582\n",
      "\n",
      "$\n",
      "\n"
     ]
    }
   ],
   "source": [
    "print(model)"
   ]
  }
 ],
 "metadata": {
  "kernelspec": {
   "display_name": "Python 3",
   "language": "python",
   "name": "python3"
  },
  "language_info": {
   "codemirror_mode": {
    "name": "ipython",
    "version": 3
   },
   "file_extension": ".py",
   "mimetype": "text/x-python",
   "name": "python",
   "nbconvert_exporter": "python",
   "pygments_lexer": "ipython3",
   "version": "3.6.10"
  }
 },
 "nbformat": 4,
 "nbformat_minor": 2
}
