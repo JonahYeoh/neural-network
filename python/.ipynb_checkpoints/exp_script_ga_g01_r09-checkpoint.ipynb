{
 "cells": [
  {
   "cell_type": "code",
   "execution_count": null,
   "metadata": {},
   "outputs": [],
   "source": [
    "# single"
   ]
  },
  {
   "cell_type": "code",
   "execution_count": 1,
   "metadata": {},
   "outputs": [],
   "source": [
    "# dependency\n",
    "import numpy as np\n",
    "import pandas as pd\n",
    "import copy\n",
    "import math\n",
    "import sys\n",
    "import os\n",
    "from activations import relu, leaky_relu, sigmoid, tanh, softmax, d_sigmoid, d_relu\n",
    "from initializers import glorot_uniform, random_normal, random_uniform\n",
    "from regularizers import l1_regularizer, l2_regularizer\n",
    "from utility import trim_tail, multiply, subtract, get_nparams, one_hot_encoding, get_data\n",
    "from metrics import MSE, CCE, ACC, PRECISION, RECALL, essential_metrics, wondering_penalty, close_gap_penalty\n",
    "from pso import PSO\n",
    "from ga import GA\n",
    "from nn import Network\n",
    "from layer import DenseLayer\n",
    "from scalers import MinMaxScaler, StandardScaler"
   ]
  },
  {
   "cell_type": "code",
   "execution_count": 2,
   "metadata": {},
   "outputs": [],
   "source": [
    "# reference\n",
    "metrics_fn_dict = dict()\n",
    "metrics_fn_dict['accuracy'] = ACC\n",
    "metrics_fn_dict['categorical_crossentropy'] = CCE\n",
    "metrics_fn_dict['mean_square_error'] = MSE\n",
    "metrics_fn_dict['precision'] = PRECISION\n",
    "metrics_fn_dict['recall'] = RECALL\n",
    "metrics_fn_dict['essential_metrics'] = essential_metrics"
   ]
  },
  {
   "cell_type": "code",
   "execution_count": 3,
   "metadata": {},
   "outputs": [],
   "source": [
    "# model\n",
    "model = Network(5, lr = None)\n",
    "model.add_layer(DenseLayer(1, 4, True, afn=sigmoid, dafn=None, rfn=None))\n",
    "model.add_layer(DenseLayer(2, 3, True, afn=softmax, dafn=None, rfn=None))"
   ]
  },
  {
   "cell_type": "code",
   "execution_count": 4,
   "metadata": {},
   "outputs": [],
   "source": [
    "# optimizer\n",
    "ga = GA(\n",
    "    dict(\n",
    "        m = 50,\n",
    "        x_rate = 0.5,\n",
    "        m_rate = 0.5,\n",
    "        weight_constraint = [-3.,3.],\n",
    "        radioactive_rating = 0.1,\n",
    "        grow_factor = 0.1,\n",
    "        scale_hyperparameter = False,\n",
    "        regularizer = None))"
   ]
  },
  {
   "cell_type": "code",
   "execution_count": 5,
   "metadata": {},
   "outputs": [
    {
     "name": "stdout",
     "output_type": "stream",
     "text": [
      "building layer 1 with 5\n",
      "24\n",
      "building layer 2 with 4\n",
      "15\n"
     ]
    }
   ],
   "source": [
    "model.compile(loss_fn = 'categorical_crossentropy', optimizer = ga, \\\n",
    "    metrics = ['accuracy', 'mean_square_error', 'categorical_crossentropy', 'precision', 'recall', 'f1'])"
   ]
  },
  {
   "cell_type": "code",
   "execution_count": 6,
   "metadata": {},
   "outputs": [
    {
     "name": "stdout",
     "output_type": "stream",
     "text": [
      "<class 'pandas.core.frame.DataFrame'>\n",
      "RangeIndex: 107 entries, 0 to 106\n",
      "Data columns (total 6 columns):\n",
      " #   Column  Non-Null Count  Dtype  \n",
      "---  ------  --------------  -----  \n",
      " 0   f1      107 non-null    float32\n",
      " 1   f2      107 non-null    float32\n",
      " 2   f3      107 non-null    float32\n",
      " 3   f4      107 non-null    float32\n",
      " 4   f5      107 non-null    float32\n",
      " 5   label   107 non-null    float32\n",
      "dtypes: float32(6)\n",
      "memory usage: 2.6 KB\n",
      "None\n",
      "<class 'pandas.core.frame.DataFrame'>\n",
      "RangeIndex: 108 entries, 0 to 107\n",
      "Data columns (total 6 columns):\n",
      " #   Column  Non-Null Count  Dtype  \n",
      "---  ------  --------------  -----  \n",
      " 0   f1      108 non-null    float32\n",
      " 1   f2      108 non-null    float32\n",
      " 2   f3      108 non-null    float32\n",
      " 3   f4      108 non-null    float32\n",
      " 4   f5      108 non-null    float32\n",
      " 5   label   108 non-null    float32\n",
      "dtypes: float32(6)\n",
      "memory usage: 2.7 KB\n",
      "None\n"
     ]
    }
   ],
   "source": [
    "# data loading\n",
    "DATA = os.path.join('c:\\\\Users\\\\tcumi\\\\github_repo\\\\neural-network\\\\', 'dataset')\n",
    "GROUP = 1\n",
    "COLUMNS = ['f1', 'f2', 'f3', 'f4', 'f5', 'label']\n",
    "N_CLASS = 3\n",
    "EPOCHS = 500\n",
    "train_dir, test_dir = \"..//dataset//training_data{}.txt\".format(GROUP), \"..//dataset//testing_data{}.txt\".format(GROUP)\n",
    "train, test = get_data(DATA, train_dir, COLUMNS), get_data(DATA, test_dir, COLUMNS)\n",
    "# shuffle\n",
    "train, test = train.sample(frac=1), test.sample(frac=1)\n",
    "x_train, y_train = train.drop('label', axis=1), train['label']\n",
    "x_test, y_test = test.drop('label', axis=1), test['label']"
   ]
  },
  {
   "cell_type": "code",
   "execution_count": 7,
   "metadata": {},
   "outputs": [],
   "source": [
    "# data scaling and encoding\n",
    "scaler = StandardScaler(['f1', 'f2', 'f3', 'f4', 'f5'])\n",
    "scaler.fit(x_train)\n",
    "x_train = scaler.transform(x_train)\n",
    "x_test = scaler.transform(x_test)\n",
    "y_train = one_hot_encoding(y_train, N_CLASS)\n",
    "y_test = one_hot_encoding(y_test, N_CLASS)"
   ]
  },
  {
   "cell_type": "code",
   "execution_count": 8,
   "metadata": {
    "scrolled": true,
    "tags": [
     "outputPrepend"
    ]
   },
   "outputs": [
    {
     "name": "stderr",
     "output_type": "stream",
     "text": [
      "C:\\Users\\tcumi\\github_repo\\neural-network\\python\\activations.py:14: RuntimeWarning: overflow encountered in exp\n",
      "  y = 1 / (1 + np.exp(-Xi))\n",
      "C:\\Users\\tcumi\\github_repo\\neural-network\\python\\ga.py:201: RuntimeWarning: overflow encountered in add\n",
      "  self.population.sort(key=lambda p: p.fitness + np.random.uniform(-shift, shift, 1), reverse = self.aim)\n"
     ]
    },
    {
     "name": "stdout",
     "output_type": "stream",
     "text": [
      "Checkpoint 100, Accuracy: 0.8827160493827161, Loss: 0.47649132763897933\n",
      "Checkpoint 200, Accuracy: 0.8950617283950617, Loss: 0.4310400927508319\n",
      "Checkpoint 300, Accuracy: 0.9382716049382716, Loss: 0.3916445838080512\n",
      "Checkpoint 400, Accuracy: 0.9506172839506173, Loss: 0.3463643391927083\n",
      "Checkpoint 500, Accuracy: 0.9506172839506173, Loss: 0.31328773498535156\n"
     ]
    }
   ],
   "source": [
    "# learning phase\n",
    "breakpoint = 100\n",
    "checkpoints = list()\n",
    "history = list()\n",
    "for century in range(0, EPOCHS, breakpoint):\n",
    "    sub_history = model.fit(x_train, y_train, breakpoint, verbose = 0)\n",
    "    score = model.evaluate(x_test, y_test, False, verbose = 0)\n",
    "    print('Checkpoint {}, Accuracy: {}, Loss: {}'.format(century+breakpoint, score['accuracy'], score[model.loss_fn]))\n",
    "    score['checkpoint'] = century + breakpoint\n",
    "    checkpoints.append(score)\n",
    "    history.extend(sub_history)\n",
    "    "
   ]
  },
  {
   "cell_type": "code",
   "execution_count": 9,
   "metadata": {},
   "outputs": [],
   "source": [
    "import matplotlib.pyplot as plt\n",
    "\n",
    "def draw_plot(x, y_list, x_label=None, y_label=None, legend=None, title=None):\n",
    "    fig, ax = plt.subplots(figsize=(12,5))\n",
    "    for xi, yi in zip(x, y_list):\n",
    "        ax.plot(xi, yi)\n",
    "    if x_label is not None and y_label is not None:\n",
    "        ax.set(xlabel=x_label, ylabel=y_label, title='{} VS {}'.format(x_label, y_label))\n",
    "    if legend is not None:\n",
    "        ax.legend(legend)\n",
    "    ax.grid()\n",
    "    plt.show()"
   ]
  },
  {
   "cell_type": "code",
   "execution_count": 10,
   "metadata": {},
   "outputs": [
    {
     "name": "stdout",
     "output_type": "stream",
     "text": [
      "[1. 0. 0.] <-> [0.85801804 0.04708142 0.09490062]\n",
      "[1. 0. 0.] <-> [0.8648869  0.03528973 0.09982335]\n",
      "[0. 0. 1.] <-> [0.3111202  0.00110339 0.6877764 ]\n",
      "[1. 0. 0.] <-> [0.8350024  0.02257547 0.14242208]\n",
      "[1. 0. 0.] <-> [0.79810274 0.05994099 0.14195628]\n",
      "[1. 0. 0.] <-> [0.7452036  0.07859217 0.17620425]\n",
      "[0. 0. 1.] <-> [0.37219673 0.00697915 0.62082416]\n",
      "[1. 0. 0.] <-> [0.8759754  0.04472437 0.07930032]\n",
      "[0. 0. 1.] <-> [0.66077846 0.00182616 0.3373954 ]\n",
      "[1. 0. 0.] <-> [0.8548103  0.06932715 0.07586253]\n",
      "[0. 1. 0.] <-> [0.19462356 0.7300812  0.0752953 ]\n",
      "[1. 0. 0.] <-> [0.86188936 0.0375033  0.10060734]\n",
      "[1. 0. 0.] <-> [0.8469005  0.05962569 0.09347378]\n",
      "[1. 0. 0.] <-> [0.7654649  0.00286844 0.23166662]\n",
      "[1. 0. 0.] <-> [0.85633326 0.04204135 0.10162534]\n",
      "[1. 0. 0.] <-> [0.8748265  0.06105124 0.06412231]\n",
      "[1. 0. 0.] <-> [0.853391   0.08750068 0.05910834]\n",
      "[0. 0. 1.] <-> [0.8780302  0.01894411 0.10302569]\n",
      "[1. 0. 0.] <-> [0.8711882  0.03402495 0.09478676]\n",
      "[0. 0. 1.] <-> [2.8869757e-01 3.9917530e-04 7.1090329e-01]\n",
      "[1. 0. 0.] <-> [0.8477008  0.0369068  0.11539244]\n",
      "[0. 1. 0.] <-> [0.4051224  0.49525082 0.09962681]\n",
      "[1. 0. 0.] <-> [0.84211445 0.03171492 0.12617058]\n",
      "[1. 0. 0.] <-> [0.8739182  0.04492265 0.08115909]\n",
      "[0. 1. 0.] <-> [0.16117923 0.77518195 0.06363887]\n",
      "[1. 0. 0.] <-> [0.82483906 0.04458236 0.1305786 ]\n",
      "[1. 0. 0.] <-> [0.8515403  0.01620559 0.13225411]\n",
      "[1. 0. 0.] <-> [0.8548702  0.02965391 0.11547581]\n",
      "[1. 0. 0.] <-> [0.87805307 0.01955949 0.10238747]\n",
      "[1. 0. 0.] <-> [0.87025285 0.05629182 0.07345537]\n",
      "[1. 0. 0.] <-> [0.8728486  0.04903992 0.0781115 ]\n",
      "[0. 1. 0.] <-> [0.29503188 0.61709315 0.08787504]\n",
      "[1. 0. 0.] <-> [0.8746085  0.0573006  0.06809087]\n",
      "[1. 0. 0.] <-> [0.8349049  0.05617282 0.10892225]\n",
      "[1. 0. 0.] <-> [0.8186555  0.10850435 0.07284011]\n",
      "[0. 0. 1.] <-> [0.5263976  0.00905068 0.46455178]\n",
      "[1. 0. 0.] <-> [0.8289914  0.08474588 0.08626273]\n",
      "[1. 0. 0.] <-> [0.84034914 0.04822667 0.11142424]\n",
      "[1. 0. 0.] <-> [0.88501805 0.05382293 0.06115907]\n",
      "[1. 0. 0.] <-> [0.8078164  0.03378657 0.15839703]\n",
      "[1. 0. 0.] <-> [0.8468055  0.0910799  0.06211459]\n",
      "[1. 0. 0.] <-> [0.8094685  0.10767666 0.08285481]\n",
      "[1. 0. 0.] <-> [0.83704925 0.07957731 0.08337348]\n",
      "[1. 0. 0.] <-> [0.8809827  0.0555526  0.06346466]\n",
      "[1. 0. 0.] <-> [0.8699701  0.03245173 0.09757815]\n",
      "[1. 0. 0.] <-> [0.7558341  0.1636199  0.08054598]\n",
      "[1. 0. 0.] <-> [0.83929217 0.03049557 0.13021223]\n",
      "[0. 0. 1.] <-> [3.3833683e-01 5.1223725e-04 6.6115093e-01]\n",
      "[1. 0. 0.] <-> [0.87109596 0.04494235 0.08396178]\n",
      "[1. 0. 0.] <-> [0.7568726  0.01232748 0.23079985]\n",
      "[0. 0. 1.] <-> [2.8909853e-01 5.5123685e-04 7.1035028e-01]\n",
      "[0. 1. 0.] <-> [0.17213488 0.75878555 0.06907959]\n",
      "[1. 0. 0.] <-> [0.8741369  0.04029901 0.08556412]\n",
      "[1. 0. 0.] <-> [0.8398711  0.0851562  0.07497268]\n",
      "[1. 0. 0.] <-> [0.8746624  0.02962905 0.09570857]\n",
      "[1. 0. 0.] <-> [0.8583377  0.04639724 0.09526513]\n",
      "[1. 0. 0.] <-> [0.84530705 0.05176929 0.10292371]\n",
      "[0. 0. 1.] <-> [0.4004126  0.00695712 0.5926303 ]\n",
      "[1. 0. 0.] <-> [0.8608684  0.07493395 0.06419764]\n",
      "[0. 1. 0.] <-> [0.24250442 0.6824575  0.07503808]\n",
      "[1. 0. 0.] <-> [0.8363744  0.03458621 0.12903942]\n",
      "[1. 0. 0.] <-> [0.79000145 0.13806334 0.0719352 ]\n",
      "[1. 0. 0.] <-> [0.86511356 0.05801504 0.07687144]\n",
      "[1. 0. 0.] <-> [0.862252   0.03780939 0.09993864]\n",
      "[0. 0. 1.] <-> [2.9411966e-01 4.0982169e-04 7.0547056e-01]\n",
      "[0. 0. 1.] <-> [0.35867688 0.00886117 0.6324619 ]\n",
      "[1. 0. 0.] <-> [0.8748618  0.05002781 0.07511041]\n",
      "[1. 0. 0.] <-> [0.83050084 0.02574247 0.14375667]\n",
      "[1. 0. 0.] <-> [0.70787317 0.0070523  0.2850745 ]\n",
      "[1. 0. 0.] <-> [0.8436981  0.06921725 0.08708473]\n",
      "[0. 1. 0.] <-> [0.15532003 0.77827626 0.06640372]\n",
      "[1. 0. 0.] <-> [0.83118737 0.02623613 0.14257659]\n",
      "[1. 0. 0.] <-> [0.8174085  0.00950684 0.17308474]\n",
      "[1. 0. 0.] <-> [0.8734608  0.06682634 0.05971283]\n",
      "[1. 0. 0.] <-> [0.73429984 0.14302662 0.12267353]\n",
      "[0. 1. 0.] <-> [0.3683599  0.1922341  0.43940598]\n",
      "[1. 0. 0.] <-> [0.758821   0.08451512 0.15666385]\n",
      "[1. 0. 0.] <-> [0.8572316  0.03556273 0.10720564]\n",
      "[1. 0. 0.] <-> [0.87544036 0.03808353 0.0864761 ]\n",
      "[0. 1. 0.] <-> [0.30054772 0.2248816  0.47457066]\n",
      "[0. 0. 1.] <-> [3.1188491e-01 4.1140665e-04 6.8770367e-01]\n",
      "[1. 0. 0.] <-> [0.8643807  0.04231329 0.09330609]\n",
      "[1. 0. 0.] <-> [0.87184477 0.04206103 0.08609418]\n",
      "[1. 0. 0.] <-> [0.8786948  0.05936741 0.06193784]\n",
      "[1. 0. 0.] <-> [0.7512145  0.01362357 0.2351619 ]\n",
      "[1. 0. 0.] <-> [0.86589706 0.07578162 0.05832132]\n",
      "[1. 0. 0.] <-> [0.60690856 0.29891005 0.09418141]\n",
      "[0. 1. 0.] <-> [0.5282275  0.3747869  0.09698554]\n",
      "[1. 0. 0.] <-> [0.82305986 0.06538521 0.11155491]\n",
      "[1. 0. 0.] <-> [0.8726801  0.0677167  0.05960326]\n",
      "[1. 0. 0.] <-> [0.7381428  0.16682221 0.09503501]\n",
      "[1. 0. 0.] <-> [0.8618069  0.07400297 0.06419014]\n",
      "[0. 0. 1.] <-> [0.8451427  0.0337058  0.12115145]\n",
      "[1. 0. 0.] <-> [0.78829587 0.08225753 0.12944663]\n",
      "[1. 0. 0.] <-> [0.8631127 0.0410272 0.0958601]\n",
      "[0. 1. 0.] <-> [0.17190842 0.7575368  0.07055471]\n",
      "[1. 0. 0.] <-> [0.8758039  0.05247476 0.07172137]\n",
      "[1. 0. 0.] <-> [0.8451775  0.02933898 0.12548348]\n",
      "[1. 0. 0.] <-> [0.86010957 0.04850146 0.09138907]\n",
      "[1. 0. 0.] <-> [0.85808027 0.03541129 0.10650854]\n",
      "[0. 1. 0.] <-> [0.6782638  0.24417548 0.07756076]\n",
      "[0. 1. 0.] <-> [0.16605037 0.76510644 0.06884319]\n",
      "[1. 0. 0.] <-> [0.8767662  0.05198635 0.07124741]\n",
      "[1. 0. 0.] <-> [0.86493486 0.0615273  0.07353786]\n",
      "[0. 1. 0.] <-> [0.23208389 0.68163013 0.08628597]\n",
      "[1. 0. 0.] <-> [0.7514166  0.0224671  0.22611625]\n",
      "[1. 0. 0.] <-> [0.8759272  0.06265921 0.06141353]\n",
      "[0. 1. 0.] <-> [0.23600365 0.66000086 0.10399549]\n",
      "{'accuracy': 0.9506172839506173, 'mean_square_error': 0.14467360259266634, 'categorical_crossentropy': 0.31328773498535156, 'precision': 0.9259259259259259, 'recall': 0.9259259259259259, 'f1': 0.9259259259259259, 'essential_metrics': {0: {'tp_hit': 80, 'fp_hit': 6, 'tn_hit': 22, 'fn_hit': 0}, 1: {'tp_hit': 11, 'fp_hit': 0, 'tn_hit': 93, 'fn_hit': 4}, 2: {'tp_hit': 9, 'fp_hit': 2, 'tn_hit': 93, 'fn_hit': 4}}}\n"
     ]
    }
   ],
   "source": [
    "# recall phase\n",
    "score = model.evaluate(x_test, y_test, False)\n",
    "print(score)"
   ]
  },
  {
   "cell_type": "code",
   "execution_count": 11,
   "metadata": {},
   "outputs": [],
   "source": [
    "# Testing Performance"
   ]
  },
  {
   "cell_type": "code",
   "execution_count": 12,
   "metadata": {},
   "outputs": [
    {
     "data": {
      "image/png": "[encoded data removed]",
      "text/plain": [
       "<Figure size 864x360 with 1 Axes>"
      ]
     },
     "metadata": {
      "needs_background": "light"
     },
     "output_type": "display_data"
    },
    {
     "data": {
      "image/png": "[encoded data removed]",
      "text/plain": [
       "<Figure size 864x360 with 1 Axes>"
      ]
     },
     "metadata": {
      "needs_background": "light"
     },
     "output_type": "display_data"
    }
   ],
   "source": [
    "draw_plot(x = [[i for i in range(len(history))], [(i+1)*breakpoint for i in range(len(checkpoints))]], y_list = [history, [ ckp[model.loss_fn] for ckp in checkpoints ]], x_label = 'Epochs', \\\n",
    "    y_label = model.loss_fn, legend=['train', 'test'])\n",
    "acc = [ ckp['accuracy'] for ckp in checkpoints ]\n",
    "draw_plot(x = [[(i+1)*breakpoint for i in range(len(checkpoints))]], y_list = [acc], x_label = 'Checkpoints', \\\n",
    "    y_label = 'accuracy')"
   ]
  },
  {
   "cell_type": "code",
   "execution_count": 13,
   "metadata": {
    "scrolled": false
   },
   "outputs": [
    {
     "name": "stdout",
     "output_type": "stream",
     "text": [
      "{'accuracy': 0.8827160493827161, 'mean_square_error': 0.26892706578374964, 'categorical_crossentropy': 0.47649132763897933, 'precision': 0.8240740740740741, 'recall': 0.8240740740740741, 'f1': 0.8240740740740741, 'essential_metrics': {0: {'tp_hit': 80, 'fp_hit': 17, 'tn_hit': 11, 'fn_hit': 0}, 1: {'tp_hit': 9, 'fp_hit': 0, 'tn_hit': 93, 'fn_hit': 6}, 2: {'tp_hit': 0, 'fp_hit': 2, 'tn_hit': 93, 'fn_hit': 13}}, 'checkpoint': 100} \n",
      "\n",
      "\n",
      "{'accuracy': 0.8950617283950617, 'mean_square_error': 0.22591758762775604, 'categorical_crossentropy': 0.4310400927508319, 'precision': 0.8425925925925926, 'recall': 0.8425925925925926, 'f1': 0.8425925925925926, 'essential_metrics': {0: {'tp_hit': 80, 'fp_hit': 15, 'tn_hit': 13, 'fn_hit': 0}, 1: {'tp_hit': 10, 'fp_hit': 0, 'tn_hit': 93, 'fn_hit': 5}, 2: {'tp_hit': 1, 'fp_hit': 2, 'tn_hit': 93, 'fn_hit': 12}}, 'checkpoint': 200} \n",
      "\n",
      "\n",
      "{'accuracy': 0.9382716049382716, 'mean_square_error': 0.1942508468628192, 'categorical_crossentropy': 0.3916445838080512, 'precision': 0.9074074074074074, 'recall': 0.9074074074074074, 'f1': 0.9074074074074074, 'essential_metrics': {0: {'tp_hit': 80, 'fp_hit': 8, 'tn_hit': 20, 'fn_hit': 0}, 1: {'tp_hit': 11, 'fp_hit': 0, 'tn_hit': 93, 'fn_hit': 4}, 2: {'tp_hit': 7, 'fp_hit': 2, 'tn_hit': 93, 'fn_hit': 6}}, 'checkpoint': 300} \n",
      "\n",
      "\n",
      "{'accuracy': 0.9506172839506173, 'mean_square_error': 0.1674005698011362, 'categorical_crossentropy': 0.3463643391927083, 'precision': 0.9259259259259259, 'recall': 0.9259259259259259, 'f1': 0.9259259259259259, 'essential_metrics': {0: {'tp_hit': 80, 'fp_hit': 6, 'tn_hit': 22, 'fn_hit': 0}, 1: {'tp_hit': 11, 'fp_hit': 0, 'tn_hit': 93, 'fn_hit': 4}, 2: {'tp_hit': 9, 'fp_hit': 2, 'tn_hit': 93, 'fn_hit': 4}}, 'checkpoint': 400} \n",
      "\n",
      "\n",
      "{'accuracy': 0.9506172839506173, 'mean_square_error': 0.14467360259266634, 'categorical_crossentropy': 0.31328773498535156, 'precision': 0.9259259259259259, 'recall': 0.9259259259259259, 'f1': 0.9259259259259259, 'essential_metrics': {0: {'tp_hit': 80, 'fp_hit': 6, 'tn_hit': 22, 'fn_hit': 0}, 1: {'tp_hit': 11, 'fp_hit': 0, 'tn_hit': 93, 'fn_hit': 4}, 2: {'tp_hit': 9, 'fp_hit': 2, 'tn_hit': 93, 'fn_hit': 4}}, 'checkpoint': 500} \n",
      "\n",
      "\n"
     ]
    }
   ],
   "source": [
    "for checkpoint in checkpoints:\n",
    "    print(checkpoint, '\\n\\n')"
   ]
  },
  {
   "cell_type": "code",
   "execution_count": 14,
   "metadata": {},
   "outputs": [
    {
     "name": "stdout",
     "output_type": "stream",
     "text": [
      "Layer 1\n",
      "Neuron 0: weights:\n",
      "[ 0.7330189  -2.4991477  -2.231641   -1.6158371   0.98381597]\n",
      " bias: 1.609023094177246\n",
      "\n",
      "Neuron 1: weights:\n",
      "[ 1.0430095  -1.4779776   0.22387545  0.97165096 -0.28071028]\n",
      " bias: -0.4312340021133423\n",
      "\n",
      "Neuron 2: weights:\n",
      "[-1.1441323   1.8898981  -1.1659847  -1.2750957  -0.13402633]\n",
      " bias: 1.9879236221313477\n",
      "\n",
      "Neuron 3: weights:\n",
      "[ 1.1305487  1.0213519  0.0469135 -2.2570093  3.       ]\n",
      " bias: -2.6714258193969727\n",
      "\n",
      "$\n",
      "Layer 2\n",
      "Neuron 0: weights:\n",
      "[2.073644  1.3186045 1.1946291 1.6507183]\n",
      " bias: -2.5895426273345947\n",
      "\n",
      "Neuron 1: weights:\n",
      "[-2.0283604   0.58562356  2.1128955  -1.0894463 ]\n",
      " bias: -1.830722689628601\n",
      "\n",
      "Neuron 2: weights:\n",
      "[ 0.05019435  1.7232126  -1.8882592   2.336436  ]\n",
      " bias: -0.5051039457321167\n",
      "\n",
      "$\n",
      "\n"
     ]
    }
   ],
   "source": [
    "print(model)"
   ]
  }
 ],
 "metadata": {
  "kernelspec": {
   "display_name": "Python 3",
   "language": "python",
   "name": "python3"
  },
  "language_info": {
   "codemirror_mode": {
    "name": "ipython",
    "version": 3
   },
   "file_extension": ".py",
   "mimetype": "text/x-python",
   "name": "python",
   "nbconvert_exporter": "python",
   "pygments_lexer": "ipython3",
   "version": "3.6.10"
  }
 },
 "nbformat": 4,
 "nbformat_minor": 2
}
