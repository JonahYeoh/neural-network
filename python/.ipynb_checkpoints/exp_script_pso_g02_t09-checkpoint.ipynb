{
 "cells": [
  {
   "cell_type": "code",
   "execution_count": 1,
   "metadata": {},
   "outputs": [],
   "source": [
    "# dependency\n",
    "import numpy as np\n",
    "import pandas as pd\n",
    "import copy\n",
    "import math\n",
    "import sys\n",
    "import os\n",
    "from activations import relu, leaky_relu, sigmoid, tanh, softmax, d_sigmoid, d_relu\n",
    "from initializers import glorot_uniform, random_normal, random_uniform\n",
    "from regularizers import l1_regularizer, l2_regularizer\n",
    "from utility import trim_tail, multiply, subtract, get_nparams, one_hot_encoding, get_data\n",
    "from metrics import MSE, CCE, ACC, PRECISION, RECALL, essential_metrics, wondering_penalty, close_gap_penalty\n",
    "from pso import PSO\n",
    "from ga import GA\n",
    "from nn import Network\n",
    "from layer import DenseLayer\n",
    "from scalers import MinMaxScaler, StandardScaler"
   ]
  },
  {
   "cell_type": "code",
   "execution_count": 2,
   "metadata": {},
   "outputs": [],
   "source": [
    "# reference\n",
    "metrics_fn_dict = dict()\n",
    "metrics_fn_dict['accuracy'] = ACC\n",
    "metrics_fn_dict['categorical_crossentropy'] = CCE\n",
    "metrics_fn_dict['mean_square_error'] = MSE\n",
    "metrics_fn_dict['precision'] = PRECISION\n",
    "metrics_fn_dict['recall'] = RECALL\n",
    "metrics_fn_dict['essential_metrics'] = essential_metrics"
   ]
  },
  {
   "cell_type": "code",
   "execution_count": 3,
   "metadata": {},
   "outputs": [],
   "source": [
    "# model\n",
    "model = Network(5, lr = None)\n",
    "model.add_layer(DenseLayer(1, 4, True, afn=sigmoid, dafn=None, rfn=None))\n",
    "model.add_layer(DenseLayer(2, 3, True, afn=softmax, dafn=None, rfn=None))"
   ]
  },
  {
   "cell_type": "code",
   "execution_count": 4,
   "metadata": {},
   "outputs": [
    {
     "name": "stdout",
     "output_type": "stream",
     "text": [
      "see one see two 2 2\n"
     ]
    }
   ],
   "source": [
    "pso = PSO(dict(m = 50,\n",
    "    weight_constraint = [-3, 3], \n",
    "    velocity_constraint = [-0.1, 0.1],\n",
    "    c1 = 2,\n",
    "    c2 = 2,\n",
    "    w = 1.2,\n",
    "    w_decay = 1,\n",
    "    scale_hyperparameter = False,\n",
    "    regularizer = l2_regularizer,\n",
    "    mask = True))"
   ]
  },
  {
   "cell_type": "code",
   "execution_count": 5,
   "metadata": {},
   "outputs": [
    {
     "name": "stdout",
     "output_type": "stream",
     "text": [
      "building layer 1 with 5\n",
      "24\n",
      "building layer 2 with 4\n",
      "15\n"
     ]
    }
   ],
   "source": [
    "model.compile(loss_fn = 'categorical_crossentropy', optimizer = pso, \\\n",
    "    metrics = ['accuracy', 'mean_square_error', 'categorical_crossentropy'])"
   ]
  },
  {
   "cell_type": "code",
   "execution_count": 6,
   "metadata": {},
   "outputs": [
    {
     "name": "stdout",
     "output_type": "stream",
     "text": [
      "<class 'pandas.core.frame.DataFrame'>\n",
      "RangeIndex: 107 entries, 0 to 106\n",
      "Data columns (total 6 columns):\n",
      " #   Column  Non-Null Count  Dtype  \n",
      "---  ------  --------------  -----  \n",
      " 0   f1      107 non-null    float32\n",
      " 1   f2      107 non-null    float32\n",
      " 2   f3      107 non-null    float32\n",
      " 3   f4      107 non-null    float32\n",
      " 4   f5      107 non-null    float32\n",
      " 5   label   107 non-null    float32\n",
      "dtypes: float32(6)\n",
      "memory usage: 2.6 KB\n",
      "None\n",
      "<class 'pandas.core.frame.DataFrame'>\n",
      "RangeIndex: 108 entries, 0 to 107\n",
      "Data columns (total 6 columns):\n",
      " #   Column  Non-Null Count  Dtype  \n",
      "---  ------  --------------  -----  \n",
      " 0   f1      108 non-null    float32\n",
      " 1   f2      108 non-null    float32\n",
      " 2   f3      108 non-null    float32\n",
      " 3   f4      108 non-null    float32\n",
      " 4   f5      108 non-null    float32\n",
      " 5   label   108 non-null    float32\n",
      "dtypes: float32(6)\n",
      "memory usage: 2.7 KB\n",
      "None\n"
     ]
    }
   ],
   "source": [
    "# data loading\n",
    "DATA = os.path.join('c:\\\\Users\\\\AI-lab\\\\github_repo\\\\neural-network\\\\', 'dataset')\n",
    "GROUP = 2\n",
    "COLUMNS = ['f1', 'f2', 'f3', 'f4', 'f5', 'label']\n",
    "N_CLASS = 3\n",
    "EPOCHS = 200\n",
    "train_dir, test_dir = \"..//dataset//training_data{}.txt\".format(GROUP), \"..//dataset//testing_data{}.txt\".format(GROUP)\n",
    "train, test = get_data(DATA, train_dir, COLUMNS), get_data(DATA, test_dir, COLUMNS)\n",
    "# shuffle\n",
    "train, test = train.sample(frac=1), test.sample(frac=1)\n",
    "x_train, y_train = train.drop('label', axis=1), train['label']\n",
    "x_test, y_test = test.drop('label', axis=1), test['label']"
   ]
  },
  {
   "cell_type": "code",
   "execution_count": 7,
   "metadata": {},
   "outputs": [],
   "source": [
    "# data scaling and encoding\n",
    "scaler = StandardScaler(['f1', 'f2', 'f3', 'f4', 'f5'])\n",
    "scaler.fit(x_train)\n",
    "x_train = scaler.transform(x_train)\n",
    "x_test = scaler.transform(x_test)\n",
    "y_train = one_hot_encoding(y_train, N_CLASS)\n",
    "y_test = one_hot_encoding(y_test, N_CLASS)"
   ]
  },
  {
   "cell_type": "code",
   "execution_count": 8,
   "metadata": {
    "tags": [
     "outputPrepend"
    ]
   },
   "outputs": [
    {
     "name": "stdout",
     "output_type": "stream",
     "text": [
      "Checkpoint 10, Accuracy: 0.8271604938271605, Loss: 0.7624766031901041\n",
      "Checkpoint 20, Accuracy: 0.8271604938271605, Loss: 0.7381432851155599\n",
      "Checkpoint 30, Accuracy: 0.8827160493827161, Loss: 0.691968423348886\n",
      "Checkpoint 40, Accuracy: 0.8271604938271605, Loss: 0.6637638939751519\n",
      "Checkpoint 50, Accuracy: 0.8580246913580247, Loss: 0.5963490804036459\n",
      "Checkpoint 60, Accuracy: 0.845679012345679, Loss: 0.6052568930166738\n",
      "Checkpoint 70, Accuracy: 0.8580246913580247, Loss: 0.5709364149305556\n",
      "Checkpoint 80, Accuracy: 0.8950617283950617, Loss: 0.4650058039912471\n",
      "Checkpoint 90, Accuracy: 0.9135802469135802, Loss: 0.4052988688151042\n",
      "Checkpoint 100, Accuracy: 0.9506172839506173, Loss: 0.3990315684565791\n",
      "Checkpoint 110, Accuracy: 0.9382716049382716, Loss: 0.37380285616274234\n",
      "Checkpoint 120, Accuracy: 0.9259259259259259, Loss: 0.36481299223723235\n",
      "Checkpoint 130, Accuracy: 0.9320987654320988, Loss: 0.32944099991409864\n",
      "Checkpoint 140, Accuracy: 0.9444444444444444, Loss: 0.34110048082139754\n",
      "Checkpoint 150, Accuracy: 0.9444444444444444, Loss: 0.32060414773446544\n",
      "Checkpoint 160, Accuracy: 0.9444444444444444, Loss: 0.3377869923909505\n",
      "Checkpoint 170, Accuracy: 0.9444444444444444, Loss: 0.3264349478262442\n",
      "Checkpoint 180, Accuracy: 0.9444444444444444, Loss: 0.3332909478081597\n",
      "Checkpoint 190, Accuracy: 0.9444444444444444, Loss: 0.3332909478081597\n",
      "Checkpoint 200, Accuracy: 0.9444444444444444, Loss: 0.34815523359510636\n"
     ]
    }
   ],
   "source": [
    "# learning phase\n",
    "breakpoint = 10\n",
    "checkpoints = list()\n",
    "history = list()\n",
    "for century in range(0, EPOCHS, breakpoint):\n",
    "    sub_history = model.fit(x_train, y_train, breakpoint, verbose = 0)\n",
    "    score = model.evaluate(x_test, y_test, False, verbose = 0)\n",
    "    print('Checkpoint {}, Accuracy: {}, Loss: {}'.format(century+breakpoint, score['accuracy'], score[model.loss_fn]))\n",
    "    score['checkpoint'] = century + breakpoint\n",
    "    checkpoints.append(score)\n",
    "    history.extend(sub_history)"
   ]
  },
  {
   "cell_type": "code",
   "execution_count": 9,
   "metadata": {},
   "outputs": [],
   "source": [
    "import matplotlib.pyplot as plt\n",
    "\n",
    "def draw_plot(x, y_list, x_label=None, y_label=None, legend=None, title=None):\n",
    "    fig, ax = plt.subplots(figsize=(12,5))\n",
    "    for xi, yi in zip(x, y_list):\n",
    "        ax.plot(xi, yi)\n",
    "    if x_label is not None and y_label is not None:\n",
    "        ax.set(xlabel=x_label, ylabel=y_label, title='{} VS {}'.format(x_label, y_label))\n",
    "    if legend is not None:\n",
    "        ax.legend(legend)\n",
    "    ax.grid()\n",
    "    plt.show()"
   ]
  },
  {
   "cell_type": "code",
   "execution_count": 10,
   "metadata": {},
   "outputs": [],
   "source": [
    "train_acc = [h['accuracy'] for h in history]\n",
    "train_mse = [h['mean_square_error'] for h in history]\n",
    "train_cce = [h['categorical_crossentropy'] for h in history]"
   ]
  },
  {
   "cell_type": "code",
   "execution_count": 11,
   "metadata": {},
   "outputs": [
    {
     "name": "stdout",
     "output_type": "stream",
     "text": [
      "[1. 0. 0.] <-> [0.7865386  0.10121319 0.11224817]\n",
      "[1. 0. 0.] <-> [0.8215978  0.10034849 0.07805368]\n",
      "[1. 0. 0.] <-> [0.7946643  0.10008771 0.10524797]\n",
      "[1. 0. 0.] <-> [0.80751526 0.05440979 0.13807504]\n",
      "[0. 0. 1.] <-> [0.62582654 0.03997849 0.33419496]\n",
      "[1. 0. 0.] <-> [0.74436426 0.06286587 0.19276991]\n",
      "[1. 0. 0.] <-> [0.7396774  0.05570741 0.20461518]\n",
      "[1. 0. 0.] <-> [0.8208285  0.0546336  0.12453794]\n",
      "[1. 0. 0.] <-> [0.7921923  0.13895811 0.06884965]\n",
      "[1. 0. 0.] <-> [0.81908065 0.06534862 0.11557078]\n",
      "[0. 0. 1.] <-> [0.78778404 0.03588184 0.17633408]\n",
      "[1. 0. 0.] <-> [0.7095098  0.05496874 0.23552147]\n",
      "[1. 0. 0.] <-> [0.8326676  0.05217395 0.11515848]\n",
      "[0. 1. 0.] <-> [0.54745454 0.42298287 0.02956254]\n",
      "[0. 0. 1.] <-> [0.1783086  0.03197091 0.78972054]\n",
      "[1. 0. 0.] <-> [0.7667283  0.18759899 0.04567273]\n",
      "[1. 0. 0.] <-> [0.7327008  0.07001615 0.197283  ]\n",
      "[1. 0. 0.] <-> [0.8331378  0.08004104 0.08682116]\n",
      "[1. 0. 0.] <-> [0.7605408  0.1788812  0.06057802]\n",
      "[1. 0. 0.] <-> [0.7403469  0.123288   0.13636515]\n",
      "[1. 0. 0.] <-> [0.7955     0.12418216 0.08031783]\n",
      "[0. 1. 0.] <-> [0.4499206  0.5247575  0.02532189]\n",
      "[1. 0. 0.] <-> [0.7970139  0.09929426 0.10369184]\n",
      "[1. 0. 0.] <-> [0.7162556  0.22118872 0.06255567]\n",
      "[0. 1. 0.] <-> [0.643756   0.31868452 0.03755952]\n",
      "[1. 0. 0.] <-> [0.7852622  0.10320822 0.11152948]\n",
      "[1. 0. 0.] <-> [0.8126253  0.05244449 0.13493016]\n",
      "[0. 1. 0.] <-> [0.5893768  0.37524042 0.03538272]\n",
      "[1. 0. 0.] <-> [0.76534617 0.11621736 0.1184365 ]\n",
      "[1. 0. 0.] <-> [0.7587017  0.16164531 0.07965302]\n",
      "[0. 1. 0.] <-> [0.41761315 0.55767447 0.02471238]\n",
      "[1. 0. 0.] <-> [0.7745866  0.09159359 0.1338198 ]\n",
      "[0. 0. 1.] <-> [0.2862053  0.01841824 0.69537646]\n",
      "[1. 0. 0.] <-> [0.7804391  0.13240045 0.08716051]\n",
      "[0. 0. 1.] <-> [0.29053918 0.01845072 0.69101006]\n",
      "[0. 1. 0.] <-> [0.26016575 0.7251565  0.01467776]\n",
      "[0. 1. 0.] <-> [0.45851862 0.5032785  0.03820288]\n",
      "[1. 0. 0.] <-> [0.76169145 0.17067556 0.06763298]\n",
      "[1. 0. 0.] <-> [0.8077566  0.05536453 0.13687892]\n",
      "[1. 0. 0.] <-> [0.7751778  0.1531481  0.07167421]\n",
      "[1. 0. 0.] <-> [0.78880596 0.12630092 0.08489314]\n",
      "[0. 1. 0.] <-> [0.49262276 0.47987196 0.02750523]\n",
      "[1. 0. 0.] <-> [0.8143626  0.10032897 0.0853085 ]\n",
      "[1. 0. 0.] <-> [0.8104051  0.11834085 0.07125409]\n",
      "[1. 0. 0.] <-> [0.7964357  0.04578062 0.15778367]\n",
      "[1. 0. 0.] <-> [0.78552425 0.08981926 0.12465654]\n",
      "[0. 1. 0.] <-> [0.29794747 0.6839873  0.01806512]\n",
      "[0. 0. 1.] <-> [0.707692   0.03517581 0.25713214]\n",
      "[0. 1. 0.] <-> [0.69623566 0.26948866 0.03427568]\n",
      "[1. 0. 0.] <-> [0.80252343 0.07785058 0.11962597]\n",
      "[0. 1. 0.] <-> [0.2015609 0.7871635 0.0112756]\n",
      "[1. 0. 0.] <-> [0.8291031  0.0520101  0.11888684]\n",
      "[1. 0. 0.] <-> [0.8277152  0.07206273 0.1002221 ]\n",
      "[0. 0. 1.] <-> [0.36846605 0.01897197 0.61256194]\n",
      "[1. 0. 0.] <-> [0.78258497 0.06715057 0.15026449]\n",
      "[1. 0. 0.] <-> [0.69145286 0.27094996 0.03759722]\n",
      "[1. 0. 0.] <-> [0.8167664  0.07038393 0.1128497 ]\n",
      "[0. 0. 1.] <-> [0.38781917 0.02068412 0.5914967 ]\n",
      "[1. 0. 0.] <-> [0.7417443  0.13132712 0.12692854]\n",
      "[1. 0. 0.] <-> [0.7602005  0.1767454  0.06305406]\n",
      "[1. 0. 0.] <-> [0.82954806 0.08903887 0.0814131 ]\n",
      "[1. 0. 0.] <-> [0.7202221  0.2221159  0.05766195]\n",
      "[1. 0. 0.] <-> [0.7815308  0.11026221 0.10820699]\n",
      "[1. 0. 0.] <-> [0.5504709  0.04534478 0.40418428]\n",
      "[1. 0. 0.] <-> [0.80375344 0.07676588 0.11948065]\n",
      "[1. 0. 0.] <-> [0.7906597  0.12002731 0.08931294]\n",
      "[1. 0. 0.] <-> [0.7429126  0.07611931 0.18096812]\n",
      "[1. 0. 0.] <-> [0.8084587  0.1307773  0.06076392]\n",
      "[1. 0. 0.] <-> [0.7806832  0.09430137 0.12501547]\n",
      "[1. 0. 0.] <-> [0.7510389  0.06839221 0.18056886]\n",
      "[1. 0. 0.] <-> [0.7970465  0.07871103 0.12424254]\n",
      "[1. 0. 0.] <-> [0.83499235 0.10151685 0.06349079]\n",
      "[1. 0. 0.] <-> [0.7424888  0.04293176 0.21457945]\n",
      "[1. 0. 0.] <-> [0.7940097  0.06637464 0.13961573]\n",
      "[1. 0. 0.] <-> [0.8512356  0.07185966 0.07690471]\n",
      "[1. 0. 0.] <-> [0.8039872  0.10174915 0.09426363]\n",
      "[0. 1. 0.] <-> [0.5850676  0.3594845  0.05544793]\n",
      "[1. 0. 0.] <-> [0.77029055 0.17465276 0.05505674]\n",
      "[1. 0. 0.] <-> [0.6725136  0.04244307 0.28504336]\n",
      "[1. 0. 0.] <-> [0.76892394 0.0516412  0.17943487]\n",
      "[1. 0. 0.] <-> [0.8359062  0.08557738 0.07851636]\n",
      "[1. 0. 0.] <-> [0.7509265  0.20357248 0.04550103]\n",
      "[0. 0. 1.] <-> [0.34849823 0.03121235 0.62028944]\n",
      "[1. 0. 0.] <-> [0.800063   0.10058764 0.0993493 ]\n",
      "[1. 0. 0.] <-> [0.7724706  0.15482524 0.07270422]\n",
      "[1. 0. 0.] <-> [0.80518365 0.14023511 0.05458117]\n",
      "[1. 0. 0.] <-> [0.83117443 0.08634841 0.0824772 ]\n",
      "[1. 0. 0.] <-> [0.804101   0.1251068  0.07079224]\n",
      "[1. 0. 0.] <-> [0.7283151  0.07626019 0.19542468]\n",
      "[1. 0. 0.] <-> [0.79649174 0.11732041 0.08618784]\n",
      "[0. 1. 0.] <-> [0.20519122 0.78359336 0.01121545]\n",
      "[1. 0. 0.] <-> [0.8269561  0.10571872 0.06732521]\n",
      "[0. 0. 1.] <-> [0.18745565 0.03400114 0.7785432 ]\n",
      "[0. 1. 0.] <-> [0.3003553  0.68151414 0.01813059]\n",
      "[1. 0. 0.] <-> [0.73794806 0.17029715 0.09175481]\n",
      "[0. 0. 1.] <-> [0.32125303 0.01651871 0.6622282 ]\n",
      "[0. 0. 1.] <-> [0.3796812  0.01808448 0.6022343 ]\n",
      "[1. 0. 0.] <-> [0.78026885 0.05205592 0.16767521]\n",
      "[1. 0. 0.] <-> [0.8304762  0.09493184 0.07459193]\n",
      "[1. 0. 0.] <-> [0.8244774  0.09974312 0.0757795 ]\n",
      "[0. 1. 0.] <-> [0.1989883  0.7899839  0.01102779]\n",
      "[1. 0. 0.] <-> [0.8395831  0.07028801 0.09012894]\n",
      "[1. 0. 0.] <-> [0.8317589  0.05538505 0.11285607]\n",
      "[0. 0. 1.] <-> [0.16965273 0.03367438 0.7966729 ]\n",
      "[1. 0. 0.] <-> [0.7471746  0.12359937 0.12922598]\n",
      "[1. 0. 0.] <-> [0.801734   0.14732058 0.05094554]\n",
      "[1. 0. 0.] <-> [0.7598302  0.15183917 0.08833067]\n",
      "[1. 0. 0.] <-> [0.8093756  0.08236623 0.10825823]\n",
      "{'accuracy': 0.9444444444444444, 'mean_square_error': 0.1670974586199261, 'categorical_crossentropy': 0.34815523359510636, 'essential_metrics': {0: {'tp_hit': 80, 'fp_hit': 9, 'tn_hit': 19, 'fn_hit': 0}, 1: {'tp_hit': 9, 'fp_hit': 0, 'tn_hit': 93, 'fn_hit': 6}, 2: {'tp_hit': 10, 'fp_hit': 0, 'tn_hit': 95, 'fn_hit': 3}}}\n"
     ]
    }
   ],
   "source": [
    "# recall phase\n",
    "score = model.evaluate(x_test, y_test, False)\n",
    "print(score)"
   ]
  },
  {
   "cell_type": "code",
   "execution_count": 12,
   "metadata": {},
   "outputs": [
    {
     "data": {
      "image/png": "[encoded data removed]",
      "text/plain": [
       "<Figure size 864x360 with 1 Axes>"
      ]
     },
     "metadata": {
      "needs_background": "light"
     },
     "output_type": "display_data"
    },
    {
     "data": {
      "image/png": "[encoded data removed]",
      "text/plain": [
       "<Figure size 864x360 with 1 Axes>"
      ]
     },
     "metadata": {
      "needs_background": "light"
     },
     "output_type": "display_data"
    }
   ],
   "source": [
    "draw_plot(x = [[i for i in range(len(history))], [(i+1)*breakpoint for i in range(len(checkpoints))]], y_list = [train_cce, [ ckp[model.loss_fn] for ckp in checkpoints ]], x_label = 'Epochs', \\\n",
    "    y_label = model.loss_fn, legend=['train', 'test'])\n",
    "acc = [ ckp['accuracy'] for ckp in checkpoints ]\n",
    "draw_plot(x = [[i for i in range(len(history))], [(i+1)*breakpoint for i in range(len(checkpoints))]], y_list = [train_acc, acc], x_label = 'Checkpoints', \\\n",
    "    y_label = 'accuracy', legend=['train', 'test'])"
   ]
  },
  {
   "cell_type": "code",
   "execution_count": 13,
   "metadata": {},
   "outputs": [
    {
     "name": "stdout",
     "output_type": "stream",
     "text": [
      "{'accuracy': 0.8271604938271605, 'mean_square_error': 0.4147297521287658, 'categorical_crossentropy': 0.7624766031901041, 'essential_metrics': {0: {'tp_hit': 80, 'fp_hit': 28, 'tn_hit': 0, 'fn_hit': 0}, 1: {'tp_hit': 0, 'fp_hit': 0, 'tn_hit': 93, 'fn_hit': 15}, 2: {'tp_hit': 0, 'fp_hit': 0, 'tn_hit': 95, 'fn_hit': 13}}, 'checkpoint': 10} \n",
      "\n",
      "\n",
      "{'accuracy': 0.8271604938271605, 'mean_square_error': 0.4093102658960149, 'categorical_crossentropy': 0.7381432851155599, 'essential_metrics': {0: {'tp_hit': 80, 'fp_hit': 28, 'tn_hit': 0, 'fn_hit': 0}, 1: {'tp_hit': 0, 'fp_hit': 0, 'tn_hit': 93, 'fn_hit': 15}, 2: {'tp_hit': 0, 'fp_hit': 0, 'tn_hit': 95, 'fn_hit': 13}}, 'checkpoint': 20} \n",
      "\n",
      "\n",
      "{'accuracy': 0.8827160493827161, 'mean_square_error': 0.3842144016422221, 'categorical_crossentropy': 0.691968423348886, 'essential_metrics': {0: {'tp_hit': 80, 'fp_hit': 19, 'tn_hit': 9, 'fn_hit': 0}, 1: {'tp_hit': 0, 'fp_hit': 0, 'tn_hit': 93, 'fn_hit': 15}, 2: {'tp_hit': 9, 'fp_hit': 0, 'tn_hit': 95, 'fn_hit': 4}}, 'checkpoint': 30} \n",
      "\n",
      "\n",
      "{'accuracy': 0.8271604938271605, 'mean_square_error': 0.3736792934455174, 'categorical_crossentropy': 0.6637638939751519, 'essential_metrics': {0: {'tp_hit': 80, 'fp_hit': 28, 'tn_hit': 0, 'fn_hit': 0}, 1: {'tp_hit': 0, 'fp_hit': 0, 'tn_hit': 93, 'fn_hit': 15}, 2: {'tp_hit': 0, 'fp_hit': 0, 'tn_hit': 95, 'fn_hit': 13}}, 'checkpoint': 40} \n",
      "\n",
      "\n",
      "{'accuracy': 0.8580246913580247, 'mean_square_error': 0.32551075331690266, 'categorical_crossentropy': 0.5963490804036459, 'essential_metrics': {0: {'tp_hit': 80, 'fp_hit': 23, 'tn_hit': 5, 'fn_hit': 0}, 1: {'tp_hit': 5, 'fp_hit': 0, 'tn_hit': 93, 'fn_hit': 10}, 2: {'tp_hit': 0, 'fp_hit': 0, 'tn_hit': 95, 'fn_hit': 13}}, 'checkpoint': 50} \n",
      "\n",
      "\n",
      "{'accuracy': 0.845679012345679, 'mean_square_error': 0.3367385392215952, 'categorical_crossentropy': 0.6052568930166738, 'essential_metrics': {0: {'tp_hit': 80, 'fp_hit': 25, 'tn_hit': 3, 'fn_hit': 0}, 1: {'tp_hit': 3, 'fp_hit': 0, 'tn_hit': 93, 'fn_hit': 12}, 2: {'tp_hit': 0, 'fp_hit': 0, 'tn_hit': 95, 'fn_hit': 13}}, 'checkpoint': 60} \n",
      "\n",
      "\n",
      "{'accuracy': 0.8580246913580247, 'mean_square_error': 0.3103923072401277, 'categorical_crossentropy': 0.5709364149305556, 'essential_metrics': {0: {'tp_hit': 80, 'fp_hit': 23, 'tn_hit': 5, 'fn_hit': 0}, 1: {'tp_hit': 5, 'fp_hit': 0, 'tn_hit': 93, 'fn_hit': 10}, 2: {'tp_hit': 0, 'fp_hit': 0, 'tn_hit': 95, 'fn_hit': 13}}, 'checkpoint': 70} \n",
      "\n",
      "\n",
      "{'accuracy': 0.8950617283950617, 'mean_square_error': 0.24202360519712857, 'categorical_crossentropy': 0.4650058039912471, 'essential_metrics': {0: {'tp_hit': 80, 'fp_hit': 17, 'tn_hit': 11, 'fn_hit': 0}, 1: {'tp_hit': 5, 'fp_hit': 0, 'tn_hit': 93, 'fn_hit': 10}, 2: {'tp_hit': 6, 'fp_hit': 0, 'tn_hit': 95, 'fn_hit': 7}}, 'checkpoint': 80} \n",
      "\n",
      "\n",
      "{'accuracy': 0.9135802469135802, 'mean_square_error': 0.2063341720820929, 'categorical_crossentropy': 0.4052988688151042, 'essential_metrics': {0: {'tp_hit': 80, 'fp_hit': 14, 'tn_hit': 14, 'fn_hit': 0}, 1: {'tp_hit': 6, 'fp_hit': 0, 'tn_hit': 93, 'fn_hit': 9}, 2: {'tp_hit': 8, 'fp_hit': 0, 'tn_hit': 95, 'fn_hit': 5}}, 'checkpoint': 90} \n",
      "\n",
      "\n",
      "{'accuracy': 0.9506172839506173, 'mean_square_error': 0.1919758352138793, 'categorical_crossentropy': 0.3990315684565791, 'essential_metrics': {0: {'tp_hit': 80, 'fp_hit': 8, 'tn_hit': 20, 'fn_hit': 0}, 1: {'tp_hit': 10, 'fp_hit': 0, 'tn_hit': 93, 'fn_hit': 5}, 2: {'tp_hit': 10, 'fp_hit': 0, 'tn_hit': 95, 'fn_hit': 3}}, 'checkpoint': 100} \n",
      "\n",
      "\n",
      "{'accuracy': 0.9382716049382716, 'mean_square_error': 0.18283580168099098, 'categorical_crossentropy': 0.37380285616274234, 'essential_metrics': {0: {'tp_hit': 80, 'fp_hit': 10, 'tn_hit': 18, 'fn_hit': 0}, 1: {'tp_hit': 8, 'fp_hit': 0, 'tn_hit': 93, 'fn_hit': 7}, 2: {'tp_hit': 10, 'fp_hit': 0, 'tn_hit': 95, 'fn_hit': 3}}, 'checkpoint': 110} \n",
      "\n",
      "\n",
      "{'accuracy': 0.9259259259259259, 'mean_square_error': 0.18434395808911141, 'categorical_crossentropy': 0.36481299223723235, 'essential_metrics': {0: {'tp_hit': 80, 'fp_hit': 12, 'tn_hit': 16, 'fn_hit': 0}, 1: {'tp_hit': 6, 'fp_hit': 0, 'tn_hit': 93, 'fn_hit': 9}, 2: {'tp_hit': 10, 'fp_hit': 0, 'tn_hit': 95, 'fn_hit': 3}}, 'checkpoint': 120} \n",
      "\n",
      "\n",
      "{'accuracy': 0.9320987654320988, 'mean_square_error': 0.16228230101439609, 'categorical_crossentropy': 0.32944099991409864, 'essential_metrics': {0: {'tp_hit': 80, 'fp_hit': 11, 'tn_hit': 17, 'fn_hit': 0}, 1: {'tp_hit': 7, 'fp_hit': 0, 'tn_hit': 93, 'fn_hit': 8}, 2: {'tp_hit': 10, 'fp_hit': 0, 'tn_hit': 95, 'fn_hit': 3}}, 'checkpoint': 130} \n",
      "\n",
      "\n",
      "{'accuracy': 0.9444444444444444, 'mean_square_error': 0.16121586986163827, 'categorical_crossentropy': 0.34110048082139754, 'essential_metrics': {0: {'tp_hit': 80, 'fp_hit': 9, 'tn_hit': 19, 'fn_hit': 0}, 1: {'tp_hit': 9, 'fp_hit': 0, 'tn_hit': 93, 'fn_hit': 6}, 2: {'tp_hit': 10, 'fp_hit': 0, 'tn_hit': 95, 'fn_hit': 3}}, 'checkpoint': 140} \n",
      "\n",
      "\n",
      "{'accuracy': 0.9444444444444444, 'mean_square_error': 0.15035668737544505, 'categorical_crossentropy': 0.32060414773446544, 'essential_metrics': {0: {'tp_hit': 80, 'fp_hit': 9, 'tn_hit': 19, 'fn_hit': 0}, 1: {'tp_hit': 9, 'fp_hit': 0, 'tn_hit': 93, 'fn_hit': 6}, 2: {'tp_hit': 10, 'fp_hit': 0, 'tn_hit': 95, 'fn_hit': 3}}, 'checkpoint': 150} \n",
      "\n",
      "\n",
      "{'accuracy': 0.9444444444444444, 'mean_square_error': 0.1589367318026584, 'categorical_crossentropy': 0.3377869923909505, 'essential_metrics': {0: {'tp_hit': 80, 'fp_hit': 9, 'tn_hit': 19, 'fn_hit': 0}, 1: {'tp_hit': 9, 'fp_hit': 0, 'tn_hit': 93, 'fn_hit': 6}, 2: {'tp_hit': 10, 'fp_hit': 0, 'tn_hit': 95, 'fn_hit': 3}}, 'checkpoint': 160} \n",
      "\n",
      "\n",
      "{'accuracy': 0.9444444444444444, 'mean_square_error': 0.15541599734581138, 'categorical_crossentropy': 0.3264349478262442, 'essential_metrics': {0: {'tp_hit': 80, 'fp_hit': 9, 'tn_hit': 19, 'fn_hit': 0}, 1: {'tp_hit': 9, 'fp_hit': 0, 'tn_hit': 93, 'fn_hit': 6}, 2: {'tp_hit': 10, 'fp_hit': 0, 'tn_hit': 95, 'fn_hit': 3}}, 'checkpoint': 170} \n",
      "\n",
      "\n",
      "{'accuracy': 0.9444444444444444, 'mean_square_error': 0.15922001147000994, 'categorical_crossentropy': 0.3332909478081597, 'essential_metrics': {0: {'tp_hit': 80, 'fp_hit': 9, 'tn_hit': 19, 'fn_hit': 0}, 1: {'tp_hit': 9, 'fp_hit': 0, 'tn_hit': 93, 'fn_hit': 6}, 2: {'tp_hit': 10, 'fp_hit': 0, 'tn_hit': 95, 'fn_hit': 3}}, 'checkpoint': 180} \n",
      "\n",
      "\n",
      "{'accuracy': 0.9444444444444444, 'mean_square_error': 0.15922001147000994, 'categorical_crossentropy': 0.3332909478081597, 'essential_metrics': {0: {'tp_hit': 80, 'fp_hit': 9, 'tn_hit': 19, 'fn_hit': 0}, 1: {'tp_hit': 9, 'fp_hit': 0, 'tn_hit': 93, 'fn_hit': 6}, 2: {'tp_hit': 10, 'fp_hit': 0, 'tn_hit': 95, 'fn_hit': 3}}, 'checkpoint': 190} \n",
      "\n",
      "\n",
      "{'accuracy': 0.9444444444444444, 'mean_square_error': 0.1670974586199261, 'categorical_crossentropy': 0.34815523359510636, 'essential_metrics': {0: {'tp_hit': 80, 'fp_hit': 9, 'tn_hit': 19, 'fn_hit': 0}, 1: {'tp_hit': 9, 'fp_hit': 0, 'tn_hit': 93, 'fn_hit': 6}, 2: {'tp_hit': 10, 'fp_hit': 0, 'tn_hit': 95, 'fn_hit': 3}}, 'checkpoint': 200} \n",
      "\n",
      "\n"
     ]
    }
   ],
   "source": [
    "for checkpoint in checkpoints:\n",
    "    print(checkpoint, '\\n\\n')"
   ]
  },
  {
   "cell_type": "code",
   "execution_count": 14,
   "metadata": {},
   "outputs": [
    {
     "name": "stdout",
     "output_type": "stream",
     "text": [
      "Layer 1\n",
      "Neuron 0: weights:\n",
      "[-0.5107987   1.0174161   0.5826567  -0.01094864 -0.45452753]\n",
      " bias: -0.3497839570045471\n",
      "\n",
      "Neuron 1: weights:\n",
      "[ 0.5903092  -0.7047977  -0.31386876  0.35431927  0.761035  ]\n",
      " bias: -0.6589184999465942\n",
      "\n",
      "Neuron 2: weights:\n",
      "[ 0.38540033 -1.0422219  -0.709954   -0.639898   -0.26298788]\n",
      " bias: 0.47397035360336304\n",
      "\n",
      "Neuron 3: weights:\n",
      "[-0.39273763  0.59160894  0.3286483  -0.5725031  -0.8086867 ]\n",
      " bias: 0.3754011392593384\n",
      "\n",
      "$\n",
      "Layer 2\n",
      "Neuron 0: weights:\n",
      "[-0.28750527 -0.6756632   1.4483806   0.55774903]\n",
      " bias: 0.10298486053943634\n",
      "\n",
      "Neuron 1: weights:\n",
      "[ 1.3947891 -0.8371103 -1.6210564  0.7400501]\n",
      " bias: -0.31227001547813416\n",
      "\n",
      "Neuron 2: weights:\n",
      "[-0.7375835   1.5978471  -0.14318493 -1.7609113 ]\n",
      " bias: -0.07480961084365845\n",
      "\n",
      "$\n",
      "\n"
     ]
    }
   ],
   "source": [
    "print(model)"
   ]
  },
  {
   "cell_type": "code",
   "execution_count": null,
   "metadata": {},
   "outputs": [],
   "source": []
  }
 ],
 "metadata": {
  "kernelspec": {
   "display_name": "Python 3",
   "language": "python",
   "name": "python3"
  },
  "language_info": {
   "codemirror_mode": {
    "name": "ipython",
    "version": 3
   },
   "file_extension": ".py",
   "mimetype": "text/x-python",
   "name": "python",
   "nbconvert_exporter": "python",
   "pygments_lexer": "ipython3",
   "version": "3.6.12"
  }
 },
 "nbformat": 4,
 "nbformat_minor": 2
}
