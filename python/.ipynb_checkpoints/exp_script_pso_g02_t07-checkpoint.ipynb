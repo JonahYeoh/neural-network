{
 "cells": [
  {
   "cell_type": "code",
   "execution_count": 1,
   "metadata": {},
   "outputs": [],
   "source": [
    "# dependency\n",
    "import numpy as np\n",
    "import pandas as pd\n",
    "import copy\n",
    "import math\n",
    "import sys\n",
    "import os\n",
    "from activations import relu, leaky_relu, sigmoid, tanh, softmax, d_sigmoid, d_relu\n",
    "from initializers import glorot_uniform, random_normal, random_uniform\n",
    "from regularizers import l1_regularizer, l2_regularizer\n",
    "from utility import trim_tail, multiply, subtract, get_nparams, one_hot_encoding, get_data\n",
    "from metrics import MSE, CCE, ACC, PRECISION, RECALL, essential_metrics, wondering_penalty, close_gap_penalty\n",
    "from pso import PSO\n",
    "from ga import GA\n",
    "from nn import Network\n",
    "from layer import DenseLayer\n",
    "from scalers import MinMaxScaler, StandardScaler"
   ]
  },
  {
   "cell_type": "code",
   "execution_count": 2,
   "metadata": {},
   "outputs": [],
   "source": [
    "# reference\n",
    "metrics_fn_dict = dict()\n",
    "metrics_fn_dict['accuracy'] = ACC\n",
    "metrics_fn_dict['categorical_crossentropy'] = CCE\n",
    "metrics_fn_dict['mean_square_error'] = MSE\n",
    "metrics_fn_dict['precision'] = PRECISION\n",
    "metrics_fn_dict['recall'] = RECALL\n",
    "metrics_fn_dict['essential_metrics'] = essential_metrics"
   ]
  },
  {
   "cell_type": "code",
   "execution_count": 3,
   "metadata": {},
   "outputs": [],
   "source": [
    "# model\n",
    "model = Network(5, lr = None)\n",
    "model.add_layer(DenseLayer(1, 4, True, afn=sigmoid, dafn=None, rfn=None))\n",
    "model.add_layer(DenseLayer(2, 3, True, afn=softmax, dafn=None, rfn=None))"
   ]
  },
  {
   "cell_type": "code",
   "execution_count": 4,
   "metadata": {},
   "outputs": [
    {
     "name": "stdout",
     "output_type": "stream",
     "text": [
      "see one see two 2 0.5\n"
     ]
    }
   ],
   "source": [
    "pso = PSO(dict(m = 50,\n",
    "    weight_constraint = [-3, 3], \n",
    "    velocity_constraint = [-0.1, 0.1],\n",
    "    c1 = [0.5, 2],\n",
    "    c2 = [0.5, 2],\n",
    "    w = [0.5, 1.6],\n",
    "    w_decay = 0.95,\n",
    "    scale_hyperparameter = False,\n",
    "    regularizer = l1_regularizer,\n",
    "    mask = True))"
   ]
  },
  {
   "cell_type": "code",
   "execution_count": 5,
   "metadata": {},
   "outputs": [
    {
     "name": "stdout",
     "output_type": "stream",
     "text": [
      "building layer 1 with 5\n",
      "24\n",
      "building layer 2 with 4\n",
      "15\n"
     ]
    }
   ],
   "source": [
    "model.compile(loss_fn = 'categorical_crossentropy', optimizer = pso, \\\n",
    "    metrics = ['accuracy', 'mean_square_error', 'categorical_crossentropy'])"
   ]
  },
  {
   "cell_type": "code",
   "execution_count": 6,
   "metadata": {},
   "outputs": [
    {
     "name": "stdout",
     "output_type": "stream",
     "text": [
      "<class 'pandas.core.frame.DataFrame'>\n",
      "RangeIndex: 107 entries, 0 to 106\n",
      "Data columns (total 6 columns):\n",
      " #   Column  Non-Null Count  Dtype  \n",
      "---  ------  --------------  -----  \n",
      " 0   f1      107 non-null    float32\n",
      " 1   f2      107 non-null    float32\n",
      " 2   f3      107 non-null    float32\n",
      " 3   f4      107 non-null    float32\n",
      " 4   f5      107 non-null    float32\n",
      " 5   label   107 non-null    float32\n",
      "dtypes: float32(6)\n",
      "memory usage: 2.6 KB\n",
      "None\n",
      "<class 'pandas.core.frame.DataFrame'>\n",
      "RangeIndex: 108 entries, 0 to 107\n",
      "Data columns (total 6 columns):\n",
      " #   Column  Non-Null Count  Dtype  \n",
      "---  ------  --------------  -----  \n",
      " 0   f1      108 non-null    float32\n",
      " 1   f2      108 non-null    float32\n",
      " 2   f3      108 non-null    float32\n",
      " 3   f4      108 non-null    float32\n",
      " 4   f5      108 non-null    float32\n",
      " 5   label   108 non-null    float32\n",
      "dtypes: float32(6)\n",
      "memory usage: 2.7 KB\n",
      "None\n"
     ]
    }
   ],
   "source": [
    "# data loading\n",
    "DATA = os.path.join('c:\\\\Users\\\\tcumi\\\\github_repo\\\\neural-network\\\\', 'dataset')\n",
    "GROUP = 2\n",
    "COLUMNS = ['f1', 'f2', 'f3', 'f4', 'f5', 'label']\n",
    "N_CLASS = 3\n",
    "EPOCHS = 500\n",
    "train_dir, test_dir = \"..//dataset//training_data{}.txt\".format(GROUP), \"..//dataset//testing_data{}.txt\".format(GROUP)\n",
    "train, test = get_data(DATA, train_dir, COLUMNS), get_data(DATA, test_dir, COLUMNS)\n",
    "# shuffle\n",
    "train, test = train.sample(frac=1), test.sample(frac=1)\n",
    "x_train, y_train = train.drop('label', axis=1), train['label']\n",
    "x_test, y_test = test.drop('label', axis=1), test['label']"
   ]
  },
  {
   "cell_type": "code",
   "execution_count": 7,
   "metadata": {},
   "outputs": [],
   "source": [
    "# data scaling and encoding\n",
    "scaler = StandardScaler(['f1', 'f2', 'f3', 'f4', 'f5'])\n",
    "scaler.fit(x_train)\n",
    "x_train = scaler.transform(x_train)\n",
    "x_test = scaler.transform(x_test)\n",
    "y_train = one_hot_encoding(y_train, N_CLASS)\n",
    "y_test = one_hot_encoding(y_test, N_CLASS)"
   ]
  },
  {
   "cell_type": "code",
   "execution_count": 8,
   "metadata": {
    "tags": [
     "outputPrepend"
    ]
   },
   "outputs": [
    {
     "name": "stdout",
     "output_type": "stream",
     "text": [
      "Checkpoint 100, Accuracy: 0.9506172839506173, Loss: 0.30887699127197266\n",
      "Checkpoint 200, Accuracy: 0.9814814814814815, Loss: 0.20676372669361257\n",
      "Checkpoint 300, Accuracy: 0.9691358024691358, Loss: 0.18703746795654297\n",
      "Checkpoint 400, Accuracy: 0.9753086419753086, Loss: 0.19487356256555627\n",
      "Checkpoint 500, Accuracy: 0.9691358024691358, Loss: 0.17455646726820204\n"
     ]
    }
   ],
   "source": [
    "# learning phase\n",
    "breakpoint = 100\n",
    "checkpoints = list()\n",
    "history = list()\n",
    "for century in range(0, EPOCHS, breakpoint):\n",
    "    sub_history = model.fit(x_train, y_train, breakpoint, verbose = 0)\n",
    "    score = model.evaluate(x_test, y_test, False, verbose = 0)\n",
    "    print('Checkpoint {}, Accuracy: {}, Loss: {}'.format(century+breakpoint, score['accuracy'], score[model.loss_fn]))\n",
    "    score['checkpoint'] = century + breakpoint\n",
    "    checkpoints.append(score)\n",
    "    history.extend(sub_history)\n",
    "    itr = century + breakpoint\n",
    "    model.optimizer.c1 = np.max([model.optimizer.C1[1] - ((model.optimizer.C1[1] - model.optimizer.C1[0]) * itr / EPOCHS), model.optimizer.C1[0]])\n",
    "    model.optimizer.c2 = np.min([model.optimizer.C2[0] + ((model.optimizer.C2[1] - model.optimizer.C2[0]) * itr / EPOCHS), model.optimizer.C2[1]])\n",
    "    model.optimizer.w = np.max([model.optimizer.w * model.optimizer.W_Decay, model.optimizer.W[0]])"
   ]
  },
  {
   "cell_type": "code",
   "execution_count": 9,
   "metadata": {},
   "outputs": [],
   "source": [
    "import matplotlib.pyplot as plt\n",
    "\n",
    "def draw_plot(x, y_list, x_label=None, y_label=None, legend=None, title=None):\n",
    "    fig, ax = plt.subplots(figsize=(12,5))\n",
    "    for xi, yi in zip(x, y_list):\n",
    "        ax.plot(xi, yi)\n",
    "    if x_label is not None and y_label is not None:\n",
    "        ax.set(xlabel=x_label, ylabel=y_label, title='{} VS {}'.format(x_label, y_label))\n",
    "    if legend is not None:\n",
    "        ax.legend(legend)\n",
    "    ax.grid()\n",
    "    plt.show()"
   ]
  },
  {
   "cell_type": "code",
   "execution_count": 10,
   "metadata": {},
   "outputs": [
    {
     "name": "stdout",
     "output_type": "stream",
     "text": [
      "[1. 0. 0.] <-> [0.94068277 0.04597201 0.01334519]\n",
      "[1. 0. 0.] <-> [0.7534412  0.01995311 0.22660567]\n",
      "[0. 1. 0.] <-> [0.12351518 0.87073874 0.00574607]\n",
      "[1. 0. 0.] <-> [0.9132982  0.01864465 0.06805719]\n",
      "[1. 0. 0.] <-> [0.9442913  0.01786788 0.03784079]\n",
      "[1. 0. 0.] <-> [0.71557206 0.01304236 0.27138564]\n",
      "[1. 0. 0.] <-> [0.9263137  0.01678965 0.05689664]\n",
      "[0. 1. 0.] <-> [0.18902367 0.80328804 0.00768824]\n",
      "[1. 0. 0.] <-> [0.8890942  0.09451661 0.01638913]\n",
      "[1. 0. 0.] <-> [0.8527029  0.01584986 0.13144726]\n",
      "[1. 0. 0.] <-> [0.64633614 0.33591834 0.01774556]\n",
      "[0. 1. 0.] <-> [0.5099939  0.4773803  0.01262579]\n",
      "[0. 0. 1.] <-> [0.13731904 0.00361701 0.8590639 ]\n",
      "[1. 0. 0.] <-> [0.8626242  0.01561082 0.12176497]\n",
      "[1. 0. 0.] <-> [0.92463046 0.05733389 0.01803569]\n",
      "[1. 0. 0.] <-> [0.88209945 0.01685596 0.10104463]\n",
      "[0. 0. 1.] <-> [0.5487987  0.00985647 0.44134486]\n",
      "[1. 0. 0.] <-> [0.87473744 0.01958643 0.10567611]\n",
      "[0. 0. 1.] <-> [0.10612844 0.00280215 0.8910695 ]\n",
      "[0. 0. 1.] <-> [0.1916608  0.00497108 0.80336815]\n",
      "[1. 0. 0.] <-> [0.9104296  0.01453668 0.07503378]\n",
      "[1. 0. 0.] <-> [0.8656411  0.01653427 0.1178245 ]\n",
      "[0. 1. 0.] <-> [0.374134   0.61445075 0.01141529]\n",
      "[1. 0. 0.] <-> [0.9531454  0.0249648  0.02188969]\n",
      "[1. 0. 0.] <-> [0.90378296 0.03774226 0.05847481]\n",
      "[1. 0. 0.] <-> [0.9198045 0.0149001 0.0652954]\n",
      "[1. 0. 0.] <-> [0.94575566 0.03648591 0.01775832]\n",
      "[1. 0. 0.] <-> [0.9093658  0.04417134 0.04646289]\n",
      "[1. 0. 0.] <-> [0.8368684  0.1459614  0.01717018]\n",
      "[1. 0. 0.] <-> [0.93241256 0.01696367 0.05062371]\n",
      "[0. 0. 1.] <-> [0.20484982 0.00614866 0.7890015 ]\n",
      "[1. 0. 0.] <-> [0.79373163 0.02042611 0.18584225]\n",
      "[1. 0. 0.] <-> [0.94467837 0.02096731 0.03435425]\n",
      "[1. 0. 0.] <-> [0.9588279  0.02171064 0.01946146]\n",
      "[0. 1. 0.] <-> [0.11934689 0.87468684 0.00596622]\n",
      "[1. 0. 0.] <-> [0.916507   0.0138441  0.06964891]\n",
      "[1. 0. 0.] <-> [0.8117723  0.17648196 0.01174575]\n",
      "[0. 0. 1.] <-> [0.11934697 0.00309858 0.8775545 ]\n",
      "[0. 0. 1.] <-> [0.11125815 0.00287922 0.88586265]\n",
      "[1. 0. 0.] <-> [0.9095482  0.02569726 0.06475451]\n",
      "[1. 0. 0.] <-> [0.9435249  0.022227   0.03424808]\n",
      "[1. 0. 0.] <-> [0.9303339  0.04797275 0.0216934 ]\n",
      "[1. 0. 0.] <-> [0.83228767 0.02151799 0.1461944 ]\n",
      "[1. 0. 0.] <-> [0.6816208  0.01451608 0.30386317]\n",
      "[1. 0. 0.] <-> [0.9539677  0.02678451 0.01924773]\n",
      "[1. 0. 0.] <-> [0.9588497  0.01846222 0.02268805]\n",
      "[0. 1. 0.] <-> [0.11383779 0.8810182  0.00514391]\n",
      "[1. 0. 0.] <-> [0.92029655 0.01560455 0.06409888]\n",
      "[1. 0. 0.] <-> [0.8926151  0.09401441 0.01337044]\n",
      "[1. 0. 0.] <-> [0.9435922  0.03367261 0.02273521]\n",
      "[1. 0. 0.] <-> [0.9522199  0.01516537 0.03261467]\n",
      "[1. 0. 0.] <-> [0.93197024 0.04050109 0.02752872]\n",
      "[1. 0. 0.] <-> [0.24957596 0.00827819 0.74214584]\n",
      "[1. 0. 0.] <-> [0.9631844  0.01940686 0.01740869]\n",
      "[0. 1. 0.] <-> [0.19934674 0.7893386  0.01131475]\n",
      "[1. 0. 0.] <-> [0.9211148  0.02776089 0.05112431]\n",
      "[1. 0. 0.] <-> [0.94719106 0.03883617 0.01397274]\n",
      "[1. 0. 0.] <-> [0.95337    0.0281013  0.01852865]\n",
      "[1. 0. 0.] <-> [0.94227535 0.02781813 0.02990651]\n",
      "[1. 0. 0.] <-> [0.937724   0.02094609 0.04132989]\n",
      "[0. 0. 1.] <-> [0.7868081  0.01382499 0.19936688]\n",
      "[1. 0. 0.] <-> [0.9166448  0.05157322 0.03178192]\n",
      "[1. 0. 0.] <-> [0.9232949  0.0544177  0.02228732]\n",
      "[1. 0. 0.] <-> [0.8285971  0.01400532 0.1573976 ]\n",
      "[1. 0. 0.] <-> [0.9226949  0.02072814 0.05657693]\n",
      "[1. 0. 0.] <-> [0.94333816 0.02950627 0.0271556 ]\n",
      "[1. 0. 0.] <-> [0.9302952  0.05624374 0.01346098]\n",
      "[1. 0. 0.] <-> [0.92810076 0.01945057 0.05244867]\n",
      "[1. 0. 0.] <-> [0.93869096 0.01493157 0.04637749]\n",
      "[1. 0. 0.] <-> [0.9330504  0.03476822 0.03218141]\n",
      "[1. 0. 0.] <-> [0.9454258  0.01771256 0.03686164]\n",
      "[1. 0. 0.] <-> [0.93817466 0.03737158 0.02445379]\n",
      "[0. 1. 0.] <-> [0.22124271 0.7670964  0.0116609 ]\n",
      "[0. 1. 0.] <-> [0.13015866 0.8630669  0.00677438]\n",
      "[1. 0. 0.] <-> [0.9501828  0.02781913 0.02199801]\n",
      "[1. 0. 0.] <-> [0.94225734 0.03932047 0.01842224]\n",
      "[1. 0. 0.] <-> [0.9298428  0.01495659 0.05520063]\n",
      "[1. 0. 0.] <-> [0.9011092  0.06970453 0.02918622]\n",
      "[1. 0. 0.] <-> [0.8894216  0.09220091 0.01837752]\n",
      "[0. 1. 0.] <-> [0.17451514 0.8159461  0.00953877]\n",
      "[0. 0. 1.] <-> [0.13812713 0.00361325 0.8582596 ]\n",
      "[1. 0. 0.] <-> [0.9287639  0.02518151 0.04605447]\n",
      "[1. 0. 0.] <-> [0.9555429  0.02944569 0.01501142]\n",
      "[1. 0. 0.] <-> [0.947536   0.02668555 0.02577849]\n",
      "[0. 1. 0.] <-> [0.6607352  0.3226959  0.01656889]\n",
      "[1. 0. 0.] <-> [0.9184084  0.06085656 0.02073508]\n",
      "[0. 0. 1.] <-> [0.12175587 0.00336598 0.8748781 ]\n",
      "[1. 0. 0.] <-> [0.95180094 0.02707123 0.02112785]\n",
      "[1. 0. 0.] <-> [0.8760349  0.04344302 0.08052216]\n",
      "[0. 1. 0.] <-> [0.38090983 0.6045436  0.01454655]\n",
      "[1. 0. 0.] <-> [0.8846869  0.08905641 0.02625662]\n",
      "[0. 0. 1.] <-> [0.09908804 0.00326829 0.8976436 ]\n",
      "[1. 0. 0.] <-> [0.91756463 0.02935535 0.05307998]\n",
      "[0. 0. 1.] <-> [0.11199316 0.00294972 0.88505715]\n",
      "[1. 0. 0.] <-> [0.8731486  0.02598033 0.10087103]\n",
      "[1. 0. 0.] <-> [0.665427   0.01734458 0.31722838]\n",
      "[0. 1. 0.] <-> [0.12220859 0.8716157  0.00617577]\n",
      "[1. 0. 0.] <-> [0.9353782  0.01556814 0.04905377]\n",
      "[1. 0. 0.] <-> [0.8931457  0.08941116 0.01744316]\n",
      "[1. 0. 0.] <-> [0.92289805 0.06591535 0.01118662]\n",
      "[0. 1. 0.] <-> [0.11207903 0.88301444 0.00490652]\n",
      "[1. 0. 0.] <-> [0.90512156 0.01721682 0.07766163]\n",
      "[1. 0. 0.] <-> [0.8411024  0.13900645 0.01989115]\n",
      "[1. 0. 0.] <-> [0.90358263 0.0812788  0.01513856]\n",
      "[0. 0. 1.] <-> [0.1052233 0.0028665 0.8919102]\n",
      "[0. 1. 0.] <-> [0.28021964 0.7070916  0.01268874]\n",
      "[1. 0. 0.] <-> [0.8915046  0.09260368 0.01589173]\n",
      "[1. 0. 0.] <-> [0.9499984  0.02212933 0.02787226]\n",
      "{'accuracy': 0.9691358024691358, 'mean_square_error': 0.0749884402963734, 'categorical_crossentropy': 0.17455646726820204, 'essential_metrics': {0: {'tp_hit': 79, 'fp_hit': 4, 'tn_hit': 24, 'fn_hit': 1}, 1: {'tp_hit': 13, 'fp_hit': 0, 'tn_hit': 93, 'fn_hit': 2}, 2: {'tp_hit': 11, 'fp_hit': 1, 'tn_hit': 94, 'fn_hit': 2}}}\n"
     ]
    }
   ],
   "source": [
    "# recall phase\n",
    "score = model.evaluate(x_test, y_test, False)\n",
    "print(score)"
   ]
  },
  {
   "cell_type": "code",
   "execution_count": 11,
   "metadata": {},
   "outputs": [
    {
     "data": {
      "image/png": "[encoded data removed]",
      "text/plain": [
       "<Figure size 864x360 with 1 Axes>"
      ]
     },
     "metadata": {
      "needs_background": "light"
     },
     "output_type": "display_data"
    },
    {
     "data": {
      "image/png": "[encoded data removed]",
      "text/plain": [
       "<Figure size 864x360 with 1 Axes>"
      ]
     },
     "metadata": {
      "needs_background": "light"
     },
     "output_type": "display_data"
    }
   ],
   "source": [
    "draw_plot(x = [[i for i in range(len(history))], [(i+1)*breakpoint for i in range(len(checkpoints))]], y_list = [history, [ ckp[model.loss_fn] for ckp in checkpoints ]], x_label = 'Epochs', \\\n",
    "    y_label = model.loss_fn, legend=['train', 'test'])\n",
    "acc = [ ckp['accuracy'] for ckp in checkpoints ]\n",
    "draw_plot(x = [[(i+1)*breakpoint for i in range(len(checkpoints))]], y_list = [acc], x_label = 'Checkpoints', \\\n",
    "    y_label = 'accuracy')"
   ]
  },
  {
   "cell_type": "code",
   "execution_count": 12,
   "metadata": {},
   "outputs": [
    {
     "name": "stdout",
     "output_type": "stream",
     "text": [
      "{'accuracy': 0.9506172839506173, 'mean_square_error': 0.15135098202533956, 'categorical_crossentropy': 0.30887699127197266, 'essential_metrics': {0: {'tp_hit': 78, 'fp_hit': 6, 'tn_hit': 22, 'fn_hit': 2}, 1: {'tp_hit': 11, 'fp_hit': 0, 'tn_hit': 93, 'fn_hit': 4}, 2: {'tp_hit': 11, 'fp_hit': 2, 'tn_hit': 93, 'fn_hit': 2}}, 'checkpoint': 100} \n",
      "\n",
      "\n",
      "{'accuracy': 0.9814814814814815, 'mean_square_error': 0.08552481491781345, 'categorical_crossentropy': 0.20676372669361257, 'essential_metrics': {0: {'tp_hit': 79, 'fp_hit': 2, 'tn_hit': 26, 'fn_hit': 1}, 1: {'tp_hit': 14, 'fp_hit': 0, 'tn_hit': 93, 'fn_hit': 1}, 2: {'tp_hit': 12, 'fp_hit': 1, 'tn_hit': 94, 'fn_hit': 1}}, 'checkpoint': 200} \n",
      "\n",
      "\n",
      "{'accuracy': 0.9691358024691358, 'mean_square_error': 0.08128088639201987, 'categorical_crossentropy': 0.18703746795654297, 'essential_metrics': {0: {'tp_hit': 79, 'fp_hit': 4, 'tn_hit': 24, 'fn_hit': 1}, 1: {'tp_hit': 13, 'fp_hit': 0, 'tn_hit': 93, 'fn_hit': 2}, 2: {'tp_hit': 11, 'fp_hit': 1, 'tn_hit': 94, 'fn_hit': 2}}, 'checkpoint': 300} \n",
      "\n",
      "\n",
      "{'accuracy': 0.9753086419753086, 'mean_square_error': 0.08111811886572742, 'categorical_crossentropy': 0.19487356256555627, 'essential_metrics': {0: {'tp_hit': 79, 'fp_hit': 3, 'tn_hit': 25, 'fn_hit': 1}, 1: {'tp_hit': 13, 'fp_hit': 0, 'tn_hit': 93, 'fn_hit': 2}, 2: {'tp_hit': 12, 'fp_hit': 1, 'tn_hit': 94, 'fn_hit': 1}}, 'checkpoint': 400} \n",
      "\n",
      "\n",
      "{'accuracy': 0.9691358024691358, 'mean_square_error': 0.0749884402963734, 'categorical_crossentropy': 0.17455646726820204, 'essential_metrics': {0: {'tp_hit': 79, 'fp_hit': 4, 'tn_hit': 24, 'fn_hit': 1}, 1: {'tp_hit': 13, 'fp_hit': 0, 'tn_hit': 93, 'fn_hit': 2}, 2: {'tp_hit': 11, 'fp_hit': 1, 'tn_hit': 94, 'fn_hit': 2}}, 'checkpoint': 500} \n",
      "\n",
      "\n"
     ]
    }
   ],
   "source": [
    "for checkpoint in checkpoints:\n",
    "    print(checkpoint, '\\n\\n')"
   ]
  },
  {
   "cell_type": "code",
   "execution_count": 13,
   "metadata": {},
   "outputs": [
    {
     "name": "stdout",
     "output_type": "stream",
     "text": [
      "Layer 1\n",
      "Neuron 0: weights:\n",
      "[-0.02161608  0.15360983  0.07840387 -0.13192965 -0.2092676 ]\n",
      " bias: 0.2056729942560196\n",
      "\n",
      "Neuron 1: weights:\n",
      "[-0.3268698   1.1850384  -0.04109156 -0.26490736 -1.2733423 ]\n",
      " bias: 0.13523370027542114\n",
      "\n",
      "Neuron 2: weights:\n",
      "[ 0.91360945 -2.143957   -1.5437887  -0.01673271  0.01336798]\n",
      " bias: 0.9812262058258057\n",
      "\n",
      "Neuron 3: weights:\n",
      "[ 0.26175848 -1.5047667  -0.4847852   0.456332    1.7841014 ]\n",
      " bias: -1.554399013519287\n",
      "\n",
      "$\n",
      "Layer 2\n",
      "Neuron 0: weights:\n",
      "[-0.04221581 -0.02389002  3.         -2.1043758 ]\n",
      " bias: -0.11482897400856018\n",
      "\n",
      "Neuron 1: weights:\n",
      "[ 0.10234641  1.6941483  -3.         -0.09002597]\n",
      " bias: 0.16403746604919434\n",
      "\n",
      "Neuron 2: weights:\n",
      "[-0.23658681 -3.          0.10796629  3.        ]\n",
      " bias: -0.19422416388988495\n",
      "\n",
      "$\n",
      "\n"
     ]
    }
   ],
   "source": [
    "print(model)"
   ]
  }
 ],
 "metadata": {
  "kernelspec": {
   "display_name": "Python 3",
   "language": "python",
   "name": "python3"
  },
  "language_info": {
   "codemirror_mode": {
    "name": "ipython",
    "version": 3
   },
   "file_extension": ".py",
   "mimetype": "text/x-python",
   "name": "python",
   "nbconvert_exporter": "python",
   "pygments_lexer": "ipython3",
   "version": "3.6.10"
  }
 },
 "nbformat": 4,
 "nbformat_minor": 2
}
