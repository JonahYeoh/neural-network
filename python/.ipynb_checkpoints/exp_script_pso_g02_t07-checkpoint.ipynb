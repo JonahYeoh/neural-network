{
 "cells": [
  {
   "cell_type": "code",
   "execution_count": 1,
   "metadata": {},
   "outputs": [],
   "source": [
    "# dependency\n",
    "import numpy as np\n",
    "import pandas as pd\n",
    "import copy\n",
    "import math\n",
    "import sys\n",
    "import os\n",
    "from activations import relu, leaky_relu, sigmoid, tanh, softmax, d_sigmoid, d_relu\n",
    "from initializers import glorot_uniform, random_normal, random_uniform\n",
    "from regularizers import l1_regularizer, l2_regularizer\n",
    "from utility import trim_tail, multiply, subtract, get_nparams, one_hot_encoding, get_data\n",
    "from metrics import MSE, CCE, ACC, PRECISION, RECALL, essential_metrics, wondering_penalty, close_gap_penalty\n",
    "from pso import PSO\n",
    "from ga import GA\n",
    "from nn import Network\n",
    "from layer import DenseLayer\n",
    "from scalers import MinMaxScaler, StandardScaler"
   ]
  },
  {
   "cell_type": "code",
   "execution_count": 2,
   "metadata": {},
   "outputs": [],
   "source": [
    "# reference\n",
    "metrics_fn_dict = dict()\n",
    "metrics_fn_dict['accuracy'] = ACC\n",
    "metrics_fn_dict['categorical_crossentropy'] = CCE\n",
    "metrics_fn_dict['mean_square_error'] = MSE\n",
    "metrics_fn_dict['precision'] = PRECISION\n",
    "metrics_fn_dict['recall'] = RECALL\n",
    "metrics_fn_dict['essential_metrics'] = essential_metrics"
   ]
  },
  {
   "cell_type": "code",
   "execution_count": 3,
   "metadata": {},
   "outputs": [],
   "source": [
    "# model\n",
    "model = Network(5, lr = None)\n",
    "model.add_layer(DenseLayer(1, 4, True, afn=sigmoid, dafn=None, rfn=None))\n",
    "model.add_layer(DenseLayer(2, 3, True, afn=softmax, dafn=None, rfn=None))"
   ]
  },
  {
   "cell_type": "code",
   "execution_count": 4,
   "metadata": {},
   "outputs": [
    {
     "name": "stdout",
     "output_type": "stream",
     "text": [
      "see one see two 2 0.5\n"
     ]
    }
   ],
   "source": [
    "pso = PSO(dict(m = 50,\n",
    "    weight_constraint = [-3, 3], \n",
    "    velocity_constraint = [-0.1, 0.1],\n",
    "    c1 = [0.5, 2],\n",
    "    c2 = [0.5, 2],\n",
    "    w = [0.5, 1.6],\n",
    "    w_decay = 0.95,\n",
    "    scale_hyperparameter = False,\n",
    "    regularizer = l1_regularizer,\n",
    "    mask = True))"
   ]
  },
  {
   "cell_type": "code",
   "execution_count": 5,
   "metadata": {},
   "outputs": [
    {
     "name": "stdout",
     "output_type": "stream",
     "text": [
      "building layer 1 with 5\n",
      "24\n",
      "building layer 2 with 4\n",
      "15\n"
     ]
    }
   ],
   "source": [
    "model.compile(loss_fn = 'categorical_crossentropy', optimizer = pso, \\\n",
    "    metrics = ['accuracy', 'mean_square_error', 'categorical_crossentropy'])"
   ]
  },
  {
   "cell_type": "code",
   "execution_count": 6,
   "metadata": {},
   "outputs": [
    {
     "name": "stdout",
     "output_type": "stream",
     "text": [
      "<class 'pandas.core.frame.DataFrame'>\n",
      "RangeIndex: 107 entries, 0 to 106\n",
      "Data columns (total 6 columns):\n",
      " #   Column  Non-Null Count  Dtype  \n",
      "---  ------  --------------  -----  \n",
      " 0   f1      107 non-null    float32\n",
      " 1   f2      107 non-null    float32\n",
      " 2   f3      107 non-null    float32\n",
      " 3   f4      107 non-null    float32\n",
      " 4   f5      107 non-null    float32\n",
      " 5   label   107 non-null    float32\n",
      "dtypes: float32(6)\n",
      "memory usage: 2.6 KB\n",
      "None\n",
      "<class 'pandas.core.frame.DataFrame'>\n",
      "RangeIndex: 108 entries, 0 to 107\n",
      "Data columns (total 6 columns):\n",
      " #   Column  Non-Null Count  Dtype  \n",
      "---  ------  --------------  -----  \n",
      " 0   f1      108 non-null    float32\n",
      " 1   f2      108 non-null    float32\n",
      " 2   f3      108 non-null    float32\n",
      " 3   f4      108 non-null    float32\n",
      " 4   f5      108 non-null    float32\n",
      " 5   label   108 non-null    float32\n",
      "dtypes: float32(6)\n",
      "memory usage: 2.7 KB\n",
      "None\n"
     ]
    }
   ],
   "source": [
    "# data loading\n",
    "DATA = os.path.join('c:\\\\Users\\\\tcumi\\\\github_repo\\\\neural-network\\\\', 'dataset')\n",
    "GROUP = 2\n",
    "COLUMNS = ['f1', 'f2', 'f3', 'f4', 'f5', 'label']\n",
    "N_CLASS = 3\n",
    "EPOCHS = 500\n",
    "train_dir, test_dir = \"..//dataset//training_data{}.txt\".format(GROUP), \"..//dataset//testing_data{}.txt\".format(GROUP)\n",
    "train, test = get_data(DATA, train_dir, COLUMNS), get_data(DATA, test_dir, COLUMNS)\n",
    "# shuffle\n",
    "train, test = train.sample(frac=1), test.sample(frac=1)\n",
    "x_train, y_train = train.drop('label', axis=1), train['label']\n",
    "x_test, y_test = test.drop('label', axis=1), test['label']"
   ]
  },
  {
   "cell_type": "code",
   "execution_count": 7,
   "metadata": {},
   "outputs": [],
   "source": [
    "# data scaling and encoding\n",
    "scaler = StandardScaler(['f1', 'f2', 'f3', 'f4', 'f5'])\n",
    "scaler.fit(x_train)\n",
    "x_train = scaler.transform(x_train)\n",
    "x_test = scaler.transform(x_test)\n",
    "y_train = one_hot_encoding(y_train, N_CLASS)\n",
    "y_test = one_hot_encoding(y_test, N_CLASS)"
   ]
  },
  {
   "cell_type": "code",
   "execution_count": 8,
   "metadata": {
    "tags": [
     "outputPrepend"
    ]
   },
   "outputs": [
    {
     "name": "stdout",
     "output_type": "stream",
     "text": [
      "Checkpoint 100, Accuracy: 0.9444444444444444, Loss: 0.3111609352959527\n",
      "Checkpoint 200, Accuracy: 0.9629629629629629, Loss: 0.1995334095425076\n",
      "Checkpoint 300, Accuracy: 0.9691358024691358, Loss: 0.21095786271271882\n",
      "Checkpoint 400, Accuracy: 0.9753086419753086, Loss: 0.19170584502043547\n",
      "Checkpoint 500, Accuracy: 0.9691358024691358, Loss: 0.16851190284446435\n"
     ]
    }
   ],
   "source": [
    "# learning phase\n",
    "breakpoint = 100\n",
    "checkpoints = list()\n",
    "history = list()\n",
    "for century in range(0, EPOCHS, breakpoint):\n",
    "    sub_history = model.fit(x_train, y_train, breakpoint, verbose = 0)\n",
    "    score = model.evaluate(x_test, y_test, False, verbose = 0)\n",
    "    print('Checkpoint {}, Accuracy: {}, Loss: {}'.format(century+breakpoint, score['accuracy'], score[model.loss_fn]))\n",
    "    score['checkpoint'] = century + breakpoint\n",
    "    checkpoints.append(score)\n",
    "    history.extend(sub_history)\n",
    "    itr = century + breakpoint\n",
    "    model.optimizer.c1 = np.max([model.optimizer.C1[1] - ((model.optimizer.C1[1] - model.optimizer.C1[0]) * itr / EPOCHS), model.optimizer.C1[0]])\n",
    "    model.optimizer.c2 = np.min([model.optimizer.C2[0] + ((model.optimizer.C2[1] - model.optimizer.C2[0]) * itr / EPOCHS), model.optimizer.C2[1]])\n",
    "    model.optimizer.w = np.max([model.optimizer.w * model.optimizer.W_Decay, model.optimizer.W[0]])"
   ]
  },
  {
   "cell_type": "code",
   "execution_count": 9,
   "metadata": {},
   "outputs": [],
   "source": [
    "import matplotlib.pyplot as plt\n",
    "\n",
    "def draw_plot(x, y_list, x_label=None, y_label=None, legend=None, title=None):\n",
    "    fig, ax = plt.subplots(figsize=(12,5))\n",
    "    for xi, yi in zip(x, y_list):\n",
    "        ax.plot(xi, yi)\n",
    "    if x_label is not None and y_label is not None:\n",
    "        ax.set(xlabel=x_label, ylabel=y_label, title='{} VS {}'.format(x_label, y_label))\n",
    "    if legend is not None:\n",
    "        ax.legend(legend)\n",
    "    ax.grid()\n",
    "    plt.show()"
   ]
  },
  {
   "cell_type": "code",
   "execution_count": 10,
   "metadata": {},
   "outputs": [
    {
     "name": "stdout",
     "output_type": "stream",
     "text": [
      "[1. 0. 0.] <-> [0.91346157 0.02599587 0.06054255]\n",
      "[1. 0. 0.] <-> [0.932752   0.01379041 0.0534576 ]\n",
      "[1. 0. 0.] <-> [0.8674338  0.0166337  0.11593246]\n",
      "[0. 1. 0.] <-> [0.3296048 0.6594519 0.0109433]\n",
      "[1. 0. 0.] <-> [0.93427896 0.0080912  0.05762981]\n",
      "[1. 0. 0.] <-> [0.6632699  0.01903698 0.31769317]\n",
      "[1. 0. 0.] <-> [0.93007874 0.01591898 0.05400226]\n",
      "[1. 0. 0.] <-> [0.9274991  0.01817994 0.05432096]\n",
      "[1. 0. 0.] <-> [0.8589033  0.01074545 0.1303512 ]\n",
      "[1. 0. 0.] <-> [0.8878849  0.00854182 0.10357329]\n",
      "[1. 0. 0.] <-> [0.62486094 0.02148218 0.35365686]\n",
      "[1. 0. 0.] <-> [0.9239062  0.05748208 0.01861173]\n",
      "[0. 1. 0.] <-> [0.74924344 0.23154728 0.01920925]\n",
      "[0. 1. 0.] <-> [0.06384308 0.93344873 0.00270817]\n",
      "[1. 0. 0.] <-> [0.8669898  0.01183496 0.12117522]\n",
      "[0. 0. 1.] <-> [0.14770816 0.00811851 0.8441734 ]\n",
      "[1. 0. 0.] <-> [0.74563074 0.01606435 0.23830488]\n",
      "[0. 1. 0.] <-> [0.3845376  0.60639983 0.00906251]\n",
      "[1. 0. 0.] <-> [0.92254645 0.0572288  0.0202247 ]\n",
      "[0. 1. 0.] <-> [0.15457149 0.8402467  0.00518184]\n",
      "[0. 1. 0.] <-> [0.53550935 0.45354253 0.0109481 ]\n",
      "[1. 0. 0.] <-> [0.9522318  0.00930776 0.03846038]\n",
      "[1. 0. 0.] <-> [0.9389508  0.03449928 0.02654995]\n",
      "[1. 0. 0.] <-> [0.95130205 0.02250466 0.02619332]\n",
      "[1. 0. 0.] <-> [0.90995306 0.07684538 0.01320158]\n",
      "[1. 0. 0.] <-> [0.94679475 0.01267469 0.04053058]\n",
      "[1. 0. 0.] <-> [0.9255345  0.02478334 0.04968214]\n",
      "[0. 0. 1.] <-> [0.09084198 0.00493341 0.9042246 ]\n",
      "[1. 0. 0.] <-> [0.77157533 0.21776108 0.01066357]\n",
      "[0. 0. 1.] <-> [0.8270034  0.00646769 0.16652891]\n",
      "[1. 0. 0.] <-> [0.95813763 0.01457337 0.02728898]\n",
      "[1. 0. 0.] <-> [0.94547814 0.02930061 0.02522131]\n",
      "[0. 0. 1.] <-> [0.08386536 0.00354812 0.91258645]\n",
      "[1. 0. 0.] <-> [0.9162181  0.03819063 0.0455912 ]\n",
      "[0. 0. 1.] <-> [0.07938425 0.00370428 0.9169114 ]\n",
      "[1. 0. 0.] <-> [0.9469911  0.03219005 0.02081883]\n",
      "[0. 1. 0.] <-> [0.07227159 0.9246537  0.00307471]\n",
      "[1. 0. 0.] <-> [0.9476911  0.01408368 0.03822513]\n",
      "[1. 0. 0.] <-> [0.8521394  0.03049457 0.11736602]\n",
      "[0. 1. 0.] <-> [0.08279879 0.91373    0.0034712 ]\n",
      "[1. 0. 0.] <-> [0.9328077  0.03479905 0.03239322]\n",
      "[1. 0. 0.] <-> [0.93733895 0.01579032 0.04687067]\n",
      "[1. 0. 0.] <-> [0.9112155  0.06964689 0.01913767]\n",
      "[1. 0. 0.] <-> [0.95584124 0.02136307 0.02279567]\n",
      "[0. 0. 1.] <-> [0.09775091 0.00513155 0.89711756]\n",
      "[1. 0. 0.] <-> [0.9231497  0.00760435 0.06924593]\n",
      "[1. 0. 0.] <-> [0.9400276  0.03202383 0.02794855]\n",
      "[1. 0. 0.] <-> [0.93727225 0.00726494 0.05546285]\n",
      "[0. 0. 1.] <-> [0.09908465 0.00807824 0.8928371 ]\n",
      "[0. 1. 0.] <-> [0.15196869 0.8418582  0.0061731 ]\n",
      "[0. 0. 1.] <-> [0.08041857 0.0042296  0.9153518 ]\n",
      "[1. 0. 0.] <-> [0.8343644  0.14952981 0.01610583]\n",
      "[1. 0. 0.] <-> [0.95484006 0.01901396 0.02614607]\n",
      "[1. 0. 0.] <-> [0.2361532  0.02045326 0.7433936 ]\n",
      "[1. 0. 0.] <-> [0.77496046 0.02853074 0.19650878]\n",
      "[1. 0. 0.] <-> [0.94125485 0.04093595 0.01780911]\n",
      "[0. 1. 0.] <-> [0.43520153 0.55595356 0.00884494]\n",
      "[0. 1. 0.] <-> [0.06267163 0.9348128  0.00251557]\n",
      "[1. 0. 0.] <-> [0.9428431  0.01631178 0.04084516]\n",
      "[1. 0. 0.] <-> [0.9519044  0.01689812 0.03119741]\n",
      "[1. 0. 0.] <-> [0.9388973  0.01452369 0.04657903]\n",
      "[1. 0. 0.] <-> [0.92212105 0.00856026 0.06931873]\n",
      "[1. 0. 0.] <-> [0.90556145 0.07660371 0.01783484]\n",
      "[1. 0. 0.] <-> [0.93478125 0.04507134 0.0201475 ]\n",
      "[1. 0. 0.] <-> [0.9162663  0.05748617 0.02624748]\n",
      "[1. 0. 0.] <-> [0.90559345 0.00839981 0.08600675]\n",
      "[1. 0. 0.] <-> [0.9116009  0.0714734  0.01692567]\n",
      "[1. 0. 0.] <-> [0.9531504  0.02638895 0.02046065]\n",
      "[1. 0. 0.] <-> [0.9124511  0.05564732 0.03190163]\n",
      "[1. 0. 0.] <-> [0.8826912  0.01843842 0.09887032]\n",
      "[1. 0. 0.] <-> [0.78778225 0.02662203 0.18559563]\n",
      "[1. 0. 0.] <-> [0.89820117 0.08311355 0.01868526]\n",
      "[1. 0. 0.] <-> [0.91761863 0.07020172 0.01217964]\n",
      "[1. 0. 0.] <-> [0.93470705 0.0469308  0.01836218]\n",
      "[1. 0. 0.] <-> [0.94516087 0.02426638 0.03057271]\n",
      "[1. 0. 0.] <-> [0.93157506 0.0091555  0.05926947]\n",
      "[1. 0. 0.] <-> [0.89018184 0.09156433 0.01825389]\n",
      "[1. 0. 0.] <-> [0.8921652  0.08504269 0.02279215]\n",
      "[1. 0. 0.] <-> [0.9435511  0.02029763 0.03615132]\n",
      "[1. 0. 0.] <-> [0.94007766 0.03473492 0.02518738]\n",
      "[0. 0. 1.] <-> [0.07622012 0.00323735 0.92054254]\n",
      "[1. 0. 0.] <-> [0.8797145  0.01230934 0.1079762 ]\n",
      "[1. 0. 0.] <-> [0.9304207  0.01838656 0.05119276]\n",
      "[1. 0. 0.] <-> [0.9235512  0.02890331 0.04754547]\n",
      "[0. 1. 0.] <-> [0.24006233 0.7509122  0.0090255 ]\n",
      "[1. 0. 0.] <-> [0.95440704 0.00968601 0.03590691]\n",
      "[1. 0. 0.] <-> [0.94841665 0.0216068  0.02997655]\n",
      "[1. 0. 0.] <-> [0.92976546 0.01099649 0.05923816]\n",
      "[0. 0. 1.] <-> [0.51201355 0.00909787 0.47888857]\n",
      "[1. 0. 0.] <-> [0.95025986 0.01674641 0.03299379]\n",
      "[1. 0. 0.] <-> [0.9430006  0.03918628 0.01781306]\n",
      "[1. 0. 0.] <-> [0.88780534 0.09599166 0.01620301]\n",
      "[0. 0. 1.] <-> [0.10100927 0.00506533 0.89392537]\n",
      "[0. 0. 1.] <-> [0.08078386 0.00416503 0.91505104]\n",
      "[1. 0. 0.] <-> [0.90925694 0.01245987 0.07828327]\n",
      "[1. 0. 0.] <-> [0.7465373  0.2352293  0.01823341]\n",
      "[1. 0. 0.] <-> [0.85518193 0.02291467 0.12190344]\n",
      "[1. 0. 0.] <-> [0.91278654 0.01544472 0.0717687 ]\n",
      "[1. 0. 0.] <-> [0.9380475  0.01009538 0.05185714]\n",
      "[1. 0. 0.] <-> [0.94741386 0.03387196 0.01871413]\n",
      "[1. 0. 0.] <-> [0.93389416 0.02675007 0.03935572]\n",
      "[1. 0. 0.] <-> [0.9603156  0.01237304 0.0273114 ]\n",
      "[1. 0. 0.] <-> [0.88742316 0.05401584 0.05856105]\n",
      "[0. 1. 0.] <-> [0.0624043  0.9351154  0.00248032]\n",
      "[0. 0. 1.] <-> [0.07653172 0.00302272 0.9204456 ]\n",
      "[0. 1. 0.] <-> [0.1859241  0.80820847 0.00586748]\n",
      "[0. 1. 0.] <-> [0.07672843 0.9202685  0.00300309]\n",
      "[1. 0. 0.] <-> [0.9490159  0.03167867 0.01930539]\n",
      "{'accuracy': 0.9691358024691358, 'mean_square_error': 0.07477797112028389, 'categorical_crossentropy': 0.16851190284446435, 'essential_metrics': {0: {'tp_hit': 79, 'fp_hit': 4, 'tn_hit': 24, 'fn_hit': 1}, 1: {'tp_hit': 13, 'fp_hit': 0, 'tn_hit': 93, 'fn_hit': 2}, 2: {'tp_hit': 11, 'fp_hit': 1, 'tn_hit': 94, 'fn_hit': 2}}}\n"
     ]
    }
   ],
   "source": [
    "# recall phase\n",
    "score = model.evaluate(x_test, y_test, False)\n",
    "print(score)"
   ]
  },
  {
   "cell_type": "code",
   "execution_count": 11,
   "metadata": {},
   "outputs": [
    {
     "data": {
      "image/png": "[encoded data removed]",
      "text/plain": [
       "<Figure size 864x360 with 1 Axes>"
      ]
     },
     "metadata": {
      "needs_background": "light"
     },
     "output_type": "display_data"
    },
    {
     "data": {
      "image/png": "[encoded data removed]",
      "text/plain": [
       "<Figure size 864x360 with 1 Axes>"
      ]
     },
     "metadata": {
      "needs_background": "light"
     },
     "output_type": "display_data"
    }
   ],
   "source": [
    "draw_plot(x = [[i for i in range(len(history))], [(i+1)*breakpoint for i in range(len(checkpoints))]], y_list = [history, [ ckp[model.loss_fn] for ckp in checkpoints ]], x_label = 'Epochs', \\\n",
    "    y_label = model.loss_fn, legend=['train', 'test'])\n",
    "acc = [ ckp['accuracy'] for ckp in checkpoints ]\n",
    "draw_plot(x = [[(i+1)*breakpoint for i in range(len(checkpoints))]], y_list = [acc], x_label = 'Checkpoints', \\\n",
    "    y_label = 'accuracy')"
   ]
  },
  {
   "cell_type": "code",
   "execution_count": 12,
   "metadata": {},
   "outputs": [
    {
     "name": "stdout",
     "output_type": "stream",
     "text": [
      "{'accuracy': 0.9444444444444444, 'mean_square_error': 0.15709258911016888, 'categorical_crossentropy': 0.3111609352959527, 'essential_metrics': {0: {'tp_hit': 79, 'fp_hit': 8, 'tn_hit': 20, 'fn_hit': 1}, 1: {'tp_hit': 8, 'fp_hit': 0, 'tn_hit': 93, 'fn_hit': 7}, 2: {'tp_hit': 12, 'fp_hit': 1, 'tn_hit': 94, 'fn_hit': 1}}, 'checkpoint': 100} \n",
      "\n",
      "\n",
      "{'accuracy': 0.9629629629629629, 'mean_square_error': 0.08483846171018396, 'categorical_crossentropy': 0.1995334095425076, 'essential_metrics': {0: {'tp_hit': 79, 'fp_hit': 5, 'tn_hit': 23, 'fn_hit': 1}, 1: {'tp_hit': 12, 'fp_hit': 0, 'tn_hit': 93, 'fn_hit': 3}, 2: {'tp_hit': 11, 'fp_hit': 1, 'tn_hit': 94, 'fn_hit': 2}}, 'checkpoint': 200} \n",
      "\n",
      "\n",
      "{'accuracy': 0.9691358024691358, 'mean_square_error': 0.09506601772037337, 'categorical_crossentropy': 0.21095786271271882, 'essential_metrics': {0: {'tp_hit': 79, 'fp_hit': 4, 'tn_hit': 24, 'fn_hit': 1}, 1: {'tp_hit': 12, 'fp_hit': 0, 'tn_hit': 93, 'fn_hit': 3}, 2: {'tp_hit': 12, 'fp_hit': 1, 'tn_hit': 94, 'fn_hit': 1}}, 'checkpoint': 300} \n",
      "\n",
      "\n",
      "{'accuracy': 0.9753086419753086, 'mean_square_error': 0.08348103184164345, 'categorical_crossentropy': 0.19170584502043547, 'essential_metrics': {0: {'tp_hit': 79, 'fp_hit': 3, 'tn_hit': 25, 'fn_hit': 1}, 1: {'tp_hit': 13, 'fp_hit': 0, 'tn_hit': 93, 'fn_hit': 2}, 2: {'tp_hit': 12, 'fp_hit': 1, 'tn_hit': 94, 'fn_hit': 1}}, 'checkpoint': 400} \n",
      "\n",
      "\n",
      "{'accuracy': 0.9691358024691358, 'mean_square_error': 0.07477797112028389, 'categorical_crossentropy': 0.16851190284446435, 'essential_metrics': {0: {'tp_hit': 79, 'fp_hit': 4, 'tn_hit': 24, 'fn_hit': 1}, 1: {'tp_hit': 13, 'fp_hit': 0, 'tn_hit': 93, 'fn_hit': 2}, 2: {'tp_hit': 11, 'fp_hit': 1, 'tn_hit': 94, 'fn_hit': 2}}, 'checkpoint': 500} \n",
      "\n",
      "\n"
     ]
    }
   ],
   "source": [
    "for checkpoint in checkpoints:\n",
    "    print(checkpoint, '\\n\\n')"
   ]
  },
  {
   "cell_type": "code",
   "execution_count": 13,
   "metadata": {},
   "outputs": [
    {
     "name": "stdout",
     "output_type": "stream",
     "text": [
      "Layer 1\n",
      "Neuron 0: weights:\n",
      "[ 0.30770898 -1.6367246  -0.5225224  -0.09217792  0.1030802 ]\n",
      " bias: -0.16315039992332458\n",
      "\n",
      "Neuron 1: weights:\n",
      "[-0.11510206 -0.02375014 -0.12364914  0.26023355 -0.18010134]\n",
      " bias: -0.05239351838827133\n",
      "\n",
      "Neuron 2: weights:\n",
      "[-0.84532225  2.0101473   1.1643263   0.144757   -0.04591738]\n",
      " bias: -1.2958801984786987\n",
      "\n",
      "Neuron 3: weights:\n",
      "[-0.12348787  1.4408826  -0.00656974 -1.1226095  -2.2190106 ]\n",
      " bias: 1.5700914859771729\n",
      "\n",
      "$\n",
      "Layer 2\n",
      "Neuron 0: weights:\n",
      "[ 0.12640971  0.07606983 -3.          2.749089  ]\n",
      " bias: 0.047914206981658936\n",
      "\n",
      "Neuron 1: weights:\n",
      "[-3.         -0.11724504  2.5724452   0.04982852]\n",
      " bias: -0.02958601713180542\n",
      "\n",
      "Neuron 2: weights:\n",
      "[ 3.         -0.01002506 -0.23030119 -3.        ]\n",
      " bias: -0.17902857065200806\n",
      "\n",
      "$\n",
      "\n"
     ]
    }
   ],
   "source": [
    "print(model)"
   ]
  }
 ],
 "metadata": {
  "kernelspec": {
   "display_name": "Python 3",
   "language": "python",
   "name": "python3"
  },
  "language_info": {
   "codemirror_mode": {
    "name": "ipython",
    "version": 3
   },
   "file_extension": ".py",
   "mimetype": "text/x-python",
   "name": "python",
   "nbconvert_exporter": "python",
   "pygments_lexer": "ipython3",
   "version": "3.6.10"
  }
 },
 "nbformat": 4,
 "nbformat_minor": 2
}
