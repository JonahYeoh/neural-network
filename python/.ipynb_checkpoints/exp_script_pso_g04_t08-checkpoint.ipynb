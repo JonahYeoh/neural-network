{
 "cells": [
  {
   "cell_type": "code",
   "execution_count": 1,
   "metadata": {},
   "outputs": [],
   "source": [
    "# dependency\n",
    "import numpy as np\n",
    "import pandas as pd\n",
    "import copy\n",
    "import math\n",
    "import sys\n",
    "import os\n",
    "from activations import relu, leaky_relu, sigmoid, tanh, softmax, d_sigmoid, d_relu\n",
    "from initializers import glorot_uniform, random_normal, random_uniform\n",
    "from regularizers import l1_regularizer, l2_regularizer\n",
    "from utility import trim_tail, multiply, subtract, get_nparams, one_hot_encoding, get_data\n",
    "from metrics import MSE, CCE, ACC, PRECISION, RECALL, essential_metrics, wondering_penalty, close_gap_penalty\n",
    "from pso import PSO\n",
    "from ga import GA\n",
    "from nn import Network\n",
    "from layer import DenseLayer\n",
    "from scalers import MinMaxScaler, StandardScaler"
   ]
  },
  {
   "cell_type": "code",
   "execution_count": 2,
   "metadata": {},
   "outputs": [],
   "source": [
    "# reference\n",
    "metrics_fn_dict = dict()\n",
    "metrics_fn_dict['accuracy'] = ACC\n",
    "metrics_fn_dict['categorical_crossentropy'] = CCE\n",
    "metrics_fn_dict['mean_square_error'] = MSE\n",
    "metrics_fn_dict['precision'] = PRECISION\n",
    "metrics_fn_dict['recall'] = RECALL\n",
    "metrics_fn_dict['essential_metrics'] = essential_metrics"
   ]
  },
  {
   "cell_type": "code",
   "execution_count": 3,
   "metadata": {},
   "outputs": [],
   "source": [
    "# model\n",
    "model = Network(5, lr = None)\n",
    "model.add_layer(DenseLayer(1, 4, True, afn=sigmoid, dafn=None, rfn=None))\n",
    "model.add_layer(DenseLayer(2, 3, True, afn=softmax, dafn=None, rfn=None))"
   ]
  },
  {
   "cell_type": "code",
   "execution_count": 4,
   "metadata": {},
   "outputs": [
    {
     "name": "stdout",
     "output_type": "stream",
     "text": [
      "see one see two 2 0.5\n"
     ]
    }
   ],
   "source": [
    "pso = PSO(dict(m = 50,\n",
    "    weight_constraint = [-3, 3], \n",
    "    velocity_constraint = [-0.1, 0.1],\n",
    "    c1 = [0.5, 2],\n",
    "    c2 = [0.5, 2],\n",
    "    w = [0.5, 1.6],\n",
    "    w_decay = 0.95,\n",
    "    scale_hyperparameter = False,\n",
    "    regularizer = l2_regularizer,\n",
    "    mask = True))"
   ]
  },
  {
   "cell_type": "code",
   "execution_count": 5,
   "metadata": {},
   "outputs": [
    {
     "name": "stdout",
     "output_type": "stream",
     "text": [
      "building layer 1 with 5\n",
      "24\n",
      "building layer 2 with 4\n",
      "15\n"
     ]
    }
   ],
   "source": [
    "model.compile(loss_fn = 'categorical_crossentropy', optimizer = pso, \\\n",
    "    metrics = ['accuracy', 'mean_square_error', 'categorical_crossentropy'])"
   ]
  },
  {
   "cell_type": "code",
   "execution_count": 6,
   "metadata": {},
   "outputs": [
    {
     "name": "stdout",
     "output_type": "stream",
     "text": [
      "<class 'pandas.core.frame.DataFrame'>\n",
      "RangeIndex: 107 entries, 0 to 106\n",
      "Data columns (total 6 columns):\n",
      " #   Column  Non-Null Count  Dtype  \n",
      "---  ------  --------------  -----  \n",
      " 0   f1      107 non-null    float32\n",
      " 1   f2      107 non-null    float32\n",
      " 2   f3      107 non-null    float32\n",
      " 3   f4      107 non-null    float32\n",
      " 4   f5      107 non-null    float32\n",
      " 5   label   107 non-null    float32\n",
      "dtypes: float32(6)\n",
      "memory usage: 2.6 KB\n",
      "None\n",
      "<class 'pandas.core.frame.DataFrame'>\n",
      "RangeIndex: 108 entries, 0 to 107\n",
      "Data columns (total 6 columns):\n",
      " #   Column  Non-Null Count  Dtype  \n",
      "---  ------  --------------  -----  \n",
      " 0   f1      108 non-null    float32\n",
      " 1   f2      108 non-null    float32\n",
      " 2   f3      108 non-null    float32\n",
      " 3   f4      108 non-null    float32\n",
      " 4   f5      108 non-null    float32\n",
      " 5   label   108 non-null    float32\n",
      "dtypes: float32(6)\n",
      "memory usage: 2.7 KB\n",
      "None\n"
     ]
    }
   ],
   "source": [
    "# data loading\n",
    "DATA = os.path.join('c:\\\\Users\\\\tcumi\\\\github_repo\\\\neural-network\\\\', 'dataset')\n",
    "GROUP = 4\n",
    "COLUMNS = ['f1', 'f2', 'f3', 'f4', 'f5', 'label']\n",
    "N_CLASS = 3\n",
    "EPOCHS = 500\n",
    "train_dir, test_dir = \"..//dataset//training_data{}.txt\".format(GROUP), \"..//dataset//testing_data{}.txt\".format(GROUP)\n",
    "train, test = get_data(DATA, train_dir, COLUMNS), get_data(DATA, test_dir, COLUMNS)\n",
    "# shuffle\n",
    "train, test = train.sample(frac=1), test.sample(frac=1)\n",
    "x_train, y_train = train.drop('label', axis=1), train['label']\n",
    "x_test, y_test = test.drop('label', axis=1), test['label']"
   ]
  },
  {
   "cell_type": "code",
   "execution_count": 7,
   "metadata": {},
   "outputs": [],
   "source": [
    "# data scaling and encoding\n",
    "scaler = StandardScaler(['f1', 'f2', 'f3', 'f4', 'f5'])\n",
    "scaler.fit(x_train)\n",
    "x_train = scaler.transform(x_train)\n",
    "x_test = scaler.transform(x_test)\n",
    "y_train = one_hot_encoding(y_train, N_CLASS)\n",
    "y_test = one_hot_encoding(y_test, N_CLASS)"
   ]
  },
  {
   "cell_type": "code",
   "execution_count": 8,
   "metadata": {
    "tags": [
     "outputPrepend"
    ]
   },
   "outputs": [
    {
     "name": "stdout",
     "output_type": "stream",
     "text": [
      "Checkpoint 100, Accuracy: 0.8950617283950617, Loss: 0.45846179679588034\n",
      "Checkpoint 200, Accuracy: 0.8888888888888888, Loss: 0.427239665278682\n",
      "Checkpoint 300, Accuracy: 0.8888888888888888, Loss: 0.40514610431812426\n",
      "Checkpoint 400, Accuracy: 0.8950617283950617, Loss: 0.41458928143536605\n",
      "Checkpoint 500, Accuracy: 0.9012345679012346, Loss: 0.3984587987263997\n"
     ]
    }
   ],
   "source": [
    "# learning phase\n",
    "breakpoint = 100\n",
    "checkpoints = list()\n",
    "history = list()\n",
    "for century in range(0, EPOCHS, breakpoint):\n",
    "    sub_history = model.fit(x_train, y_train, breakpoint, verbose = 0)\n",
    "    score = model.evaluate(x_test, y_test, False, verbose = 0)\n",
    "    print('Checkpoint {}, Accuracy: {}, Loss: {}'.format(century+breakpoint, score['accuracy'], score[model.loss_fn]))\n",
    "    score['checkpoint'] = century + breakpoint\n",
    "    checkpoints.append(score)\n",
    "    history.extend(sub_history)\n",
    "    itr = century + breakpoint\n",
    "    model.optimizer.c1 = np.max([model.optimizer.C1[1] - ((model.optimizer.C1[1] - model.optimizer.C1[0]) * itr / EPOCHS), model.optimizer.C1[0]])\n",
    "    model.optimizer.c2 = np.min([model.optimizer.C2[0] + ((model.optimizer.C2[1] - model.optimizer.C2[0]) * itr / EPOCHS), model.optimizer.C2[1]])\n",
    "    model.optimizer.w = np.max([model.optimizer.w * model.optimizer.W_Decay, model.optimizer.W[0]])"
   ]
  },
  {
   "cell_type": "code",
   "execution_count": 9,
   "metadata": {},
   "outputs": [],
   "source": [
    "import matplotlib.pyplot as plt\n",
    "\n",
    "def draw_plot(x, y_list, x_label=None, y_label=None, legend=None, title=None):\n",
    "    fig, ax = plt.subplots(figsize=(12,5))\n",
    "    for xi, yi in zip(x, y_list):\n",
    "        ax.plot(xi, yi)\n",
    "    if x_label is not None and y_label is not None:\n",
    "        ax.set(xlabel=x_label, ylabel=y_label, title='{} VS {}'.format(x_label, y_label))\n",
    "    if legend is not None:\n",
    "        ax.legend(legend)\n",
    "    ax.grid()\n",
    "    plt.show()"
   ]
  },
  {
   "cell_type": "code",
   "execution_count": 10,
   "metadata": {},
   "outputs": [
    {
     "name": "stdout",
     "output_type": "stream",
     "text": [
      "[1. 0. 0.] <-> [0.82052416 0.09447911 0.08499672]\n",
      "[1. 0. 0.] <-> [0.6735052 0.2576842 0.0688106]\n",
      "[1. 0. 0.] <-> [0.82069594 0.11665095 0.06265317]\n",
      "[1. 0. 0.] <-> [0.8133175  0.07345366 0.11322881]\n",
      "[1. 0. 0.] <-> [0.79071146 0.06547423 0.14381433]\n",
      "[0. 1. 0.] <-> [0.22067103 0.7425112  0.03681773]\n",
      "[1. 0. 0.] <-> [0.85834444 0.05169103 0.08996452]\n",
      "[0. 0. 1.] <-> [0.69693655 0.01412339 0.28894   ]\n",
      "[1. 0. 0.] <-> [0.83956635 0.0836985  0.07673512]\n",
      "[1. 0. 0.] <-> [0.8660713  0.0601741  0.07375463]\n",
      "[1. 0. 0.] <-> [0.8100375  0.09281998 0.09714254]\n",
      "[1. 0. 0.] <-> [0.828366   0.10475757 0.06687642]\n",
      "[1. 0. 0.] <-> [0.7832383  0.12206932 0.09469238]\n",
      "[0. 1. 0.] <-> [0.17088549 0.7969127  0.03220173]\n",
      "[1. 0. 0.] <-> [0.69196093 0.23366413 0.07437493]\n",
      "[1. 0. 0.] <-> [0.8115455  0.09462962 0.09382489]\n",
      "[0. 0. 1.] <-> [0.65823597 0.03832912 0.3034349 ]\n",
      "[1. 0. 0.] <-> [0.8557112  0.07489555 0.06939326]\n",
      "[1. 0. 0.] <-> [0.7636791  0.15623179 0.08008909]\n",
      "[1. 0. 0.] <-> [0.8216509  0.08870665 0.08964244]\n",
      "[0. 0. 1.] <-> [0.66757685 0.01534026 0.31708288]\n",
      "[1. 0. 0.] <-> [0.8728798  0.02691113 0.10020905]\n",
      "[0. 0. 1.] <-> [0.79266644 0.01331797 0.19401562]\n",
      "[1. 0. 0.] <-> [0.71395314 0.05942852 0.22661836]\n",
      "[0. 1. 0.] <-> [0.5684988  0.38029897 0.05120227]\n",
      "[1. 0. 0.] <-> [0.78970504 0.07467183 0.13562317]\n",
      "[0. 0. 1.] <-> [0.63482046 0.01376087 0.3514187 ]\n",
      "[1. 0. 0.] <-> [0.7476805  0.17593752 0.07638201]\n",
      "[1. 0. 0.] <-> [0.65279895 0.21312842 0.13407268]\n",
      "[0. 0. 1.] <-> [0.44616693 0.0246403  0.52919275]\n",
      "[1. 0. 0.] <-> [0.84142476 0.06551702 0.09305821]\n",
      "[1. 0. 0.] <-> [0.8165504  0.09727477 0.08617484]\n",
      "[1. 0. 0.] <-> [0.81238437 0.11492103 0.07269461]\n",
      "[0. 1. 0.] <-> [0.5423099  0.41202283 0.04566725]\n",
      "[0. 1. 0.] <-> [0.53597474 0.42047575 0.04354951]\n",
      "[1. 0. 0.] <-> [0.8602133  0.03719736 0.1025894 ]\n",
      "[0. 0. 1.] <-> [0.2541084  0.02703803 0.7188536 ]\n",
      "[1. 0. 0.] <-> [0.84659153 0.07161857 0.08178989]\n",
      "[0. 1. 0.] <-> [0.18437001 0.78281605 0.03281388]\n",
      "[1. 0. 0.] <-> [0.8638676  0.05856139 0.077571  ]\n",
      "[1. 0. 0.] <-> [0.84646577 0.08075912 0.07277504]\n",
      "[0. 0. 1.] <-> [0.7774042  0.03161039 0.19098538]\n",
      "[1. 0. 0.] <-> [0.7047095  0.21342768 0.08186282]\n",
      "[1. 0. 0.] <-> [0.7578355  0.15128122 0.09088326]\n",
      "[0. 0. 1.] <-> [0.8779982  0.01851537 0.10348647]\n",
      "[1. 0. 0.] <-> [0.8256972  0.0806359  0.09366696]\n",
      "[1. 0. 0.] <-> [0.8803006  0.0275348  0.09216458]\n",
      "[1. 0. 0.] <-> [0.8497816  0.061728   0.08849043]\n",
      "[1. 0. 0.] <-> [0.78059673 0.11920119 0.10020205]\n",
      "[1. 0. 0.] <-> [0.8662675  0.05751083 0.07622169]\n",
      "[1. 0. 0.] <-> [0.78287774 0.13982342 0.07729881]\n",
      "[1. 0. 0.] <-> [0.8671082  0.05867324 0.07421853]\n",
      "[1. 0. 0.] <-> [0.72326744 0.20890012 0.06783246]\n",
      "[0. 1. 0.] <-> [0.53369296 0.39055824 0.07574882]\n",
      "[1. 0. 0.] <-> [0.7893975  0.05157316 0.15902938]\n",
      "[1. 0. 0.] <-> [0.81746185 0.10335218 0.07918591]\n",
      "[1. 0. 0.] <-> [0.8885428  0.03258465 0.07887262]\n",
      "[1. 0. 0.] <-> [0.8904376  0.03075809 0.07880425]\n",
      "[1. 0. 0.] <-> [0.8650841  0.04654039 0.08837555]\n",
      "[1. 0. 0.] <-> [0.7583946  0.14865017 0.09295528]\n",
      "[1. 0. 0.] <-> [0.88660276 0.03191248 0.08148476]\n",
      "[1. 0. 0.] <-> [0.818743   0.08345333 0.09780374]\n",
      "[1. 0. 0.] <-> [0.83149135 0.1107056  0.057803  ]\n",
      "[1. 0. 0.] <-> [0.82534915 0.09857325 0.07607754]\n",
      "[0. 1. 0.] <-> [0.3694929  0.5764973  0.05400976]\n",
      "[1. 0. 0.] <-> [0.8244734  0.09934326 0.07618338]\n",
      "[1. 0. 0.] <-> [0.85292804 0.08399777 0.06307418]\n",
      "[1. 0. 0.] <-> [0.8097844  0.10981169 0.08040389]\n",
      "[1. 0. 0.] <-> [0.8261908  0.06558069 0.10822847]\n",
      "[1. 0. 0.] <-> [0.6888711  0.24153751 0.06959143]\n",
      "[0. 1. 0.] <-> [0.63289136 0.31601283 0.05109576]\n",
      "[1. 0. 0.] <-> [0.7917239  0.13808419 0.07019185]\n",
      "[1. 0. 0.] <-> [0.81852823 0.10971918 0.07175265]\n",
      "[1. 0. 0.] <-> [0.8147993  0.10406978 0.08113096]\n",
      "[1. 0. 0.] <-> [0.7887775  0.12306595 0.08815663]\n",
      "[1. 0. 0.] <-> [0.7658798  0.14872725 0.085393  ]\n",
      "[1. 0. 0.] <-> [0.70749646 0.23413467 0.05836885]\n",
      "[0. 0. 1.] <-> [0.20669228 0.02951024 0.76379746]\n",
      "[1. 0. 0.] <-> [0.87438416 0.03565705 0.08995879]\n",
      "[0. 1. 0.] <-> [0.42707768 0.5204296  0.05249265]\n",
      "[1. 0. 0.] <-> [0.86713815 0.04045226 0.09240957]\n",
      "[1. 0. 0.] <-> [0.66021204 0.2822863  0.05750163]\n",
      "[0. 1. 0.] <-> [0.17459117 0.7948823  0.0305266 ]\n",
      "[1. 0. 0.] <-> [0.8605238  0.02960324 0.10987297]\n",
      "[1. 0. 0.] <-> [0.80800676 0.06766474 0.1243286 ]\n",
      "[0. 0. 1.] <-> [0.8476388  0.03796703 0.11439417]\n",
      "[1. 0. 0.] <-> [0.85989636 0.06539734 0.07470638]\n",
      "[1. 0. 0.] <-> [0.8373895  0.05503839 0.10757207]\n",
      "[0. 0. 1.] <-> [0.22839957 0.04012712 0.7314733 ]\n",
      "[1. 0. 0.] <-> [0.76430434 0.15549842 0.08019724]\n",
      "[1. 0. 0.] <-> [0.72362524 0.18024184 0.09613293]\n",
      "[1. 0. 0.] <-> [0.8647853  0.05391217 0.08130254]\n",
      "[1. 0. 0.] <-> [0.5673212  0.36538365 0.0672952 ]\n",
      "[1. 0. 0.] <-> [0.74877846 0.18601386 0.06520762]\n",
      "[0. 1. 0.] <-> [0.2528518  0.7062066  0.04094157]\n",
      "[1. 0. 0.] <-> [0.83697027 0.08516971 0.07786003]\n",
      "[1. 0. 0.] <-> [0.7976717  0.12170964 0.08061874]\n",
      "[1. 0. 0.] <-> [0.8018853  0.12782472 0.07028999]\n",
      "[1. 0. 0.] <-> [0.8206655  0.06674744 0.1125871 ]\n",
      "[0. 0. 1.] <-> [0.6763342  0.0150207  0.30864504]\n",
      "[1. 0. 0.] <-> [0.7249151 0.1938077 0.0812772]\n",
      "[0. 1. 0.] <-> [0.5433414  0.39287344 0.06378512]\n",
      "[1. 0. 0.] <-> [0.88615274 0.04792158 0.06592568]\n",
      "[0. 1. 0.] <-> [0.29641312 0.6614288  0.04215809]\n",
      "[0. 1. 0.] <-> [0.16661121 0.80319446 0.03019426]\n",
      "[0. 0. 1.] <-> [0.75977623 0.04007799 0.20014577]\n",
      "[0. 1. 0.] <-> [0.16443107 0.80512935 0.0304396 ]\n",
      "[1. 0. 0.] <-> [0.8618698  0.05484862 0.08328157]\n",
      "{'accuracy': 0.9012345679012346, 'mean_square_error': 0.21418350629603258, 'categorical_crossentropy': 0.3984587987263997, 'essential_metrics': {0: {'tp_hit': 78, 'fp_hit': 16, 'tn_hit': 14, 'fn_hit': 0}, 1: {'tp_hit': 10, 'fp_hit': 0, 'tn_hit': 92, 'fn_hit': 6}, 2: {'tp_hit': 4, 'fp_hit': 0, 'tn_hit': 94, 'fn_hit': 10}}}\n"
     ]
    }
   ],
   "source": [
    "# recall phase\n",
    "score = model.evaluate(x_test, y_test, False)\n",
    "print(score)"
   ]
  },
  {
   "cell_type": "code",
   "execution_count": 11,
   "metadata": {},
   "outputs": [
    {
     "data": {
      "image/png": "[encoded data removed]",
      "text/plain": [
       "<Figure size 864x360 with 1 Axes>"
      ]
     },
     "metadata": {
      "needs_background": "light"
     },
     "output_type": "display_data"
    },
    {
     "data": {
      "image/png": "[encoded data removed]",
      "text/plain": [
       "<Figure size 864x360 with 1 Axes>"
      ]
     },
     "metadata": {
      "needs_background": "light"
     },
     "output_type": "display_data"
    }
   ],
   "source": [
    "draw_plot(x = [[i for i in range(len(history))], [(i+1)*breakpoint for i in range(len(checkpoints))]], y_list = [history, [ ckp[model.loss_fn] for ckp in checkpoints ]], x_label = 'Epochs', \\\n",
    "    y_label = model.loss_fn, legend=['train', 'test'])\n",
    "acc = [ ckp['accuracy'] for ckp in checkpoints ]\n",
    "draw_plot(x = [[(i+1)*breakpoint for i in range(len(checkpoints))]], y_list = [acc], x_label = 'Checkpoints', \\\n",
    "    y_label = 'accuracy')"
   ]
  },
  {
   "cell_type": "code",
   "execution_count": 12,
   "metadata": {},
   "outputs": [
    {
     "name": "stdout",
     "output_type": "stream",
     "text": [
      "{'accuracy': 0.8950617283950617, 'mean_square_error': 0.2457861125429461, 'categorical_crossentropy': 0.45846179679588034, 'essential_metrics': {0: {'tp_hit': 78, 'fp_hit': 17, 'tn_hit': 13, 'fn_hit': 0}, 1: {'tp_hit': 6, 'fp_hit': 0, 'tn_hit': 92, 'fn_hit': 10}, 2: {'tp_hit': 7, 'fp_hit': 0, 'tn_hit': 94, 'fn_hit': 7}}, 'checkpoint': 100} \n",
      "\n",
      "\n",
      "{'accuracy': 0.8888888888888888, 'mean_square_error': 0.22515526952630327, 'categorical_crossentropy': 0.427239665278682, 'essential_metrics': {0: {'tp_hit': 78, 'fp_hit': 18, 'tn_hit': 12, 'fn_hit': 0}, 1: {'tp_hit': 8, 'fp_hit': 0, 'tn_hit': 92, 'fn_hit': 8}, 2: {'tp_hit': 4, 'fp_hit': 0, 'tn_hit': 94, 'fn_hit': 10}}, 'checkpoint': 200} \n",
      "\n",
      "\n",
      "{'accuracy': 0.8888888888888888, 'mean_square_error': 0.21402114094718502, 'categorical_crossentropy': 0.40514610431812426, 'essential_metrics': {0: {'tp_hit': 78, 'fp_hit': 18, 'tn_hit': 12, 'fn_hit': 0}, 1: {'tp_hit': 8, 'fp_hit': 0, 'tn_hit': 92, 'fn_hit': 8}, 2: {'tp_hit': 4, 'fp_hit': 0, 'tn_hit': 94, 'fn_hit': 10}}, 'checkpoint': 300} \n",
      "\n",
      "\n",
      "{'accuracy': 0.8950617283950617, 'mean_square_error': 0.22369152215773389, 'categorical_crossentropy': 0.41458928143536605, 'essential_metrics': {0: {'tp_hit': 78, 'fp_hit': 17, 'tn_hit': 13, 'fn_hit': 0}, 1: {'tp_hit': 9, 'fp_hit': 0, 'tn_hit': 92, 'fn_hit': 7}, 2: {'tp_hit': 4, 'fp_hit': 0, 'tn_hit': 94, 'fn_hit': 10}}, 'checkpoint': 400} \n",
      "\n",
      "\n",
      "{'accuracy': 0.9012345679012346, 'mean_square_error': 0.21418350629603258, 'categorical_crossentropy': 0.3984587987263997, 'essential_metrics': {0: {'tp_hit': 78, 'fp_hit': 16, 'tn_hit': 14, 'fn_hit': 0}, 1: {'tp_hit': 10, 'fp_hit': 0, 'tn_hit': 92, 'fn_hit': 6}, 2: {'tp_hit': 4, 'fp_hit': 0, 'tn_hit': 94, 'fn_hit': 10}}, 'checkpoint': 500} \n",
      "\n",
      "\n"
     ]
    }
   ],
   "source": [
    "for checkpoint in checkpoints:\n",
    "    print(checkpoint, '\\n\\n')"
   ]
  },
  {
   "cell_type": "code",
   "execution_count": 13,
   "metadata": {},
   "outputs": [
    {
     "name": "stdout",
     "output_type": "stream",
     "text": [
      "Layer 1\n",
      "Neuron 0: weights:\n",
      "[ 0.5370926  -0.86017144 -0.64836794 -0.07077028  0.26446983]\n",
      " bias: 0.19362613558769226\n",
      "\n",
      "Neuron 1: weights:\n",
      "[ 0.17278048 -0.8167062  -0.00752816  0.7253982   0.68015885]\n",
      " bias: -0.876424252986908\n",
      "\n",
      "Neuron 2: weights:\n",
      "[ 0.18554546 -0.71575254 -0.8637719  -1.1213775  -0.6451405 ]\n",
      " bias: -0.11402314901351929\n",
      "\n",
      "Neuron 3: weights:\n",
      "[-0.5213132   0.98139125  0.5215289  -0.19413398 -0.37184268]\n",
      " bias: 0.01456337422132492\n",
      "\n",
      "$\n",
      "Layer 2\n",
      "Neuron 0: weights:\n",
      "[ 0.74884343 -0.80967146  1.8807787  -0.2691599 ]\n",
      " bias: 0.1684081107378006\n",
      "\n",
      "Neuron 1: weights:\n",
      "[-1.4031645  -0.65410525 -0.83098197  1.2883183 ]\n",
      " bias: 0.22269850969314575\n",
      "\n",
      "Neuron 2: weights:\n",
      "[ 0.57596505  1.5411633  -0.5270391  -1.2681702 ]\n",
      " bias: -0.535582423210144\n",
      "\n",
      "$\n",
      "\n"
     ]
    }
   ],
   "source": [
    "print(model)"
   ]
  }
 ],
 "metadata": {
  "kernelspec": {
   "display_name": "Python 3",
   "language": "python",
   "name": "python3"
  },
  "language_info": {
   "codemirror_mode": {
    "name": "ipython",
    "version": 3
   },
   "file_extension": ".py",
   "mimetype": "text/x-python",
   "name": "python",
   "nbconvert_exporter": "python",
   "pygments_lexer": "ipython3",
   "version": "3.6.10"
  }
 },
 "nbformat": 4,
 "nbformat_minor": 2
}
