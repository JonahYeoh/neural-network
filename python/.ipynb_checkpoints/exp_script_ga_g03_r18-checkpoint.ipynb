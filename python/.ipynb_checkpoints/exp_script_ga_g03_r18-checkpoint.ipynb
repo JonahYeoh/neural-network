{
 "cells": [
  {
   "cell_type": "code",
   "execution_count": 1,
   "metadata": {},
   "outputs": [],
   "source": [
    "# two"
   ]
  },
  {
   "cell_type": "code",
   "execution_count": 2,
   "metadata": {},
   "outputs": [],
   "source": [
    "# dependency\n",
    "import numpy as np\n",
    "import pandas as pd\n",
    "import copy\n",
    "import math\n",
    "import sys\n",
    "import os\n",
    "from activations import relu, leaky_relu, sigmoid, tanh, softmax, d_sigmoid, d_relu\n",
    "from initializers import glorot_uniform, random_normal, random_uniform\n",
    "from regularizers import l1_regularizer, l2_regularizer\n",
    "from utility import trim_tail, multiply, subtract, get_nparams, one_hot_encoding, get_data\n",
    "from metrics import MSE, CCE, ACC, PRECISION, RECALL, essential_metrics, wondering_penalty, close_gap_penalty\n",
    "from pso import PSO\n",
    "from ga import GA\n",
    "from nn import Network\n",
    "from layer import DenseLayer\n",
    "from scalers import MinMaxScaler, StandardScaler"
   ]
  },
  {
   "cell_type": "code",
   "execution_count": 3,
   "metadata": {},
   "outputs": [],
   "source": [
    "# reference\n",
    "metrics_fn_dict = dict()\n",
    "metrics_fn_dict['accuracy'] = ACC\n",
    "metrics_fn_dict['categorical_crossentropy'] = CCE\n",
    "metrics_fn_dict['mean_square_error'] = MSE\n",
    "metrics_fn_dict['precision'] = PRECISION\n",
    "metrics_fn_dict['recall'] = RECALL\n",
    "metrics_fn_dict['essential_metrics'] = essential_metrics"
   ]
  },
  {
   "cell_type": "code",
   "execution_count": 4,
   "metadata": {},
   "outputs": [],
   "source": [
    "# model\n",
    "model = Network(5, lr = None)\n",
    "model.add_layer(DenseLayer(1, 4, True, afn=sigmoid, dafn=None, rfn=None))\n",
    "model.add_layer(DenseLayer(2, 3, True, afn=softmax, dafn=None, rfn=None))"
   ]
  },
  {
   "cell_type": "code",
   "execution_count": 5,
   "metadata": {},
   "outputs": [],
   "source": [
    "# optimizer\n",
    "ga = GA(\n",
    "    dict(\n",
    "        m = 50,\n",
    "        x_rate = [0.5, 1.0],\n",
    "        m_rate = [0.5, 1.0],\n",
    "        weight_constraint = [-3.,3.],\n",
    "        radioactive_rating = [0.1, 0.5],\n",
    "        grow_factor = [0.1, 0.5],\n",
    "        scale_hyperparameter = False,\n",
    "        regularizer = l1_regularizer))"
   ]
  },
  {
   "cell_type": "code",
   "execution_count": 6,
   "metadata": {},
   "outputs": [
    {
     "name": "stdout",
     "output_type": "stream",
     "text": [
      "building layer 1 with 5\n",
      "24\n",
      "building layer 2 with 4\n",
      "15\n"
     ]
    }
   ],
   "source": [
    "model.compile(loss_fn = 'categorical_crossentropy', optimizer = ga, \\\n",
    "    metrics = ['accuracy', 'mean_square_error', 'categorical_crossentropy', 'precision', 'recall', 'f1'])"
   ]
  },
  {
   "cell_type": "code",
   "execution_count": 7,
   "metadata": {},
   "outputs": [
    {
     "name": "stdout",
     "output_type": "stream",
     "text": [
      "<class 'pandas.core.frame.DataFrame'>\n",
      "RangeIndex: 107 entries, 0 to 106\n",
      "Data columns (total 6 columns):\n",
      " #   Column  Non-Null Count  Dtype  \n",
      "---  ------  --------------  -----  \n",
      " 0   f1      107 non-null    float32\n",
      " 1   f2      107 non-null    float32\n",
      " 2   f3      107 non-null    float32\n",
      " 3   f4      107 non-null    float32\n",
      " 4   f5      107 non-null    float32\n",
      " 5   label   107 non-null    float32\n",
      "dtypes: float32(6)\n",
      "memory usage: 2.6 KB\n",
      "None\n",
      "<class 'pandas.core.frame.DataFrame'>\n",
      "RangeIndex: 108 entries, 0 to 107\n",
      "Data columns (total 6 columns):\n",
      " #   Column  Non-Null Count  Dtype  \n",
      "---  ------  --------------  -----  \n",
      " 0   f1      108 non-null    float32\n",
      " 1   f2      108 non-null    float32\n",
      " 2   f3      108 non-null    float32\n",
      " 3   f4      108 non-null    float32\n",
      " 4   f5      108 non-null    float32\n",
      " 5   label   108 non-null    float32\n",
      "dtypes: float32(6)\n",
      "memory usage: 2.7 KB\n",
      "None\n"
     ]
    }
   ],
   "source": [
    "# data loading\n",
    "DATA = os.path.join('c:\\\\Users\\\\tcumi\\\\github_repo\\\\neural-network\\\\', 'dataset')\n",
    "GROUP = 3\n",
    "COLUMNS = ['f1', 'f2', 'f3', 'f4', 'f5', 'label']\n",
    "N_CLASS = 3\n",
    "EPOCHS = 500\n",
    "train_dir, test_dir = \"..//dataset//training_data{}.txt\".format(GROUP), \"..//dataset//testing_data{}.txt\".format(GROUP)\n",
    "train, test = get_data(DATA, train_dir, COLUMNS), get_data(DATA, test_dir, COLUMNS)\n",
    "# shuffle\n",
    "train, test = train.sample(frac=1), test.sample(frac=1)\n",
    "x_train, y_train = train.drop('label', axis=1), train['label']\n",
    "x_test, y_test = test.drop('label', axis=1), test['label']"
   ]
  },
  {
   "cell_type": "code",
   "execution_count": 8,
   "metadata": {},
   "outputs": [],
   "source": [
    "# data scaling and encoding\n",
    "scaler = StandardScaler(['f1', 'f2', 'f3', 'f4', 'f5'])\n",
    "scaler.fit(x_train)\n",
    "x_train = scaler.transform(x_train)\n",
    "x_test = scaler.transform(x_test)\n",
    "y_train = one_hot_encoding(y_train, N_CLASS)\n",
    "y_test = one_hot_encoding(y_test, N_CLASS)"
   ]
  },
  {
   "cell_type": "code",
   "execution_count": 9,
   "metadata": {
    "scrolled": true,
    "tags": [
     "outputPrepend"
    ]
   },
   "outputs": [
    {
     "name": "stderr",
     "output_type": "stream",
     "text": [
      "C:\\Users\\tcumi\\Anaconda3\\envs\\py_3_6\\lib\\site-packages\\numpy\\core\\fromnumeric.py:87: VisibleDeprecationWarning: Creating an ndarray from ragged nested sequences (which is a list-or-tuple of lists-or-tuples-or ndarrays with different lengths or shapes) is deprecated. If you meant to do this, you must specify 'dtype=object' when creating the ndarray\n",
      "  return ufunc.reduce(obj, axis, dtype, out, **passkwargs)\n",
      "C:\\Users\\tcumi\\github_repo\\neural-network\\python\\ga.py:201: RuntimeWarning: overflow encountered in add\n",
      "  self.population.sort(key=lambda p: p.fitness + np.random.uniform(-shift, shift, 1), reverse = self.aim)\n",
      "C:\\Users\\tcumi\\Anaconda3\\envs\\py_3_6\\lib\\site-packages\\numpy\\core\\_asarray.py:136: VisibleDeprecationWarning: Creating an ndarray from ragged nested sequences (which is a list-or-tuple of lists-or-tuples-or ndarrays with different lengths or shapes) is deprecated. If you meant to do this, you must specify 'dtype=object' when creating the ndarray\n",
      "  return array(a, dtype, copy=False, order=order, subok=True)\n"
     ]
    },
    {
     "name": "stdout",
     "output_type": "stream",
     "text": [
      "Checkpoint 100, Accuracy: 0.9567901234567902, Loss: 0.29384916800039784\n",
      "Checkpoint 200, Accuracy: 0.9629629629629629, Loss: 0.27468116195113573\n",
      "Checkpoint 300, Accuracy: 0.9691358024691358, Loss: 0.2407767860977738\n",
      "Checkpoint 400, Accuracy: 0.9691358024691358, Loss: 0.23220335995709454\n",
      "Checkpoint 500, Accuracy: 0.9629629629629629, Loss: 0.22395049201117623\n"
     ]
    }
   ],
   "source": [
    "# learning phase\n",
    "breakpoint = 100\n",
    "checkpoints = list()\n",
    "history = list()\n",
    "for century in range(0, EPOCHS, breakpoint):\n",
    "    sub_history = model.fit(x_train, y_train, breakpoint, verbose = 0)\n",
    "    score = model.evaluate(x_test, y_test, False, verbose = 0)\n",
    "    print('Checkpoint {}, Accuracy: {}, Loss: {}'.format(century+breakpoint, score['accuracy'], score[model.loss_fn]))\n",
    "    score['checkpoint'] = century + breakpoint\n",
    "    checkpoints.append(score)\n",
    "    history.extend(sub_history)\n",
    "    itr = century + breakpoint\n",
    "    '''\n",
    "    model.optimizer.rr = model.optimizer.rr * 0.9\n",
    "    model.optimizer.gf = model.optimizer.gf * 0.9\n",
    "    model.optimizer.crossover_rate = model.optimizer.crossover_rate * 0.9\n",
    "    model.optimizer.mutation_rate = model.optimizer.mutation_rate * 1.1\n",
    "    '''\n",
    "    model.optimizer.rr = model.optimizer.radioactive_rating[1] - (model.optimizer.radioactive_rating[1] - model.optimizer.radioactive_rating[0]) / EPOCHS * (EPOCHS - itr)\n",
    "    model.optimizer.gf = model.optimizer.grow_factor[1] - (model.optimizer.grow_factor[1] - model.optimizer.grow_factor[0]) / EPOCHS * (EPOCHS - itr)\n",
    "    model.optimizer.crossover_rate = model.optimizer.x_rate[1] - (model.optimizer.x_rate[1] - model.optimizer.x_rate[0]) / EPOCHS * (EPOCHS - itr)\n",
    "    model.optimizer.mutation_rate = model.optimizer.m_rate[0] + (model.optimizer.m_rate[1] - model.optimizer.m_rate[0]) / EPOCHS * (EPOCHS - itr)\n",
    "    "
   ]
  },
  {
   "cell_type": "code",
   "execution_count": 10,
   "metadata": {},
   "outputs": [],
   "source": [
    "import matplotlib.pyplot as plt\n",
    "\n",
    "def draw_plot(x, y_list, x_label=None, y_label=None, legend=None, title=None):\n",
    "    fig, ax = plt.subplots(figsize=(12,5))\n",
    "    for xi, yi in zip(x, y_list):\n",
    "        ax.plot(xi, yi)\n",
    "    if x_label is not None and y_label is not None:\n",
    "        ax.set(xlabel=x_label, ylabel=y_label, title='{} VS {}'.format(x_label, y_label))\n",
    "    if legend is not None:\n",
    "        ax.legend(legend)\n",
    "    ax.grid()\n",
    "    plt.show()"
   ]
  },
  {
   "cell_type": "code",
   "execution_count": 11,
   "metadata": {},
   "outputs": [
    {
     "name": "stdout",
     "output_type": "stream",
     "text": [
      "[1. 0. 0.] <-> [0.90167964 0.03747873 0.0608417 ]\n",
      "[1. 0. 0.] <-> [0.88829005 0.08853704 0.02317284]\n",
      "[1. 0. 0.] <-> [0.9168745  0.05951285 0.02361266]\n",
      "[1. 0. 0.] <-> [0.870109   0.10442349 0.02546747]\n",
      "[0. 1. 0.] <-> [0.506975   0.46456984 0.02845512]\n",
      "[1. 0. 0.] <-> [0.8267174  0.06946774 0.10381489]\n",
      "[1. 0. 0.] <-> [0.9469008  0.03143764 0.02166169]\n",
      "[1. 0. 0.] <-> [0.92993194 0.05298741 0.01708063]\n",
      "[1. 0. 0.] <-> [0.92206055 0.04286837 0.03507102]\n",
      "[1. 0. 0.] <-> [0.9187997  0.05245132 0.02874893]\n",
      "[1. 0. 0.] <-> [0.9413386  0.04050524 0.01815612]\n",
      "[1. 0. 0.] <-> [0.9432733  0.03774897 0.01897771]\n",
      "[0. 1. 0.] <-> [0.11898242 0.8661776  0.01484001]\n",
      "[1. 0. 0.] <-> [0.60702467 0.3562684  0.03670689]\n",
      "[0. 0. 1.] <-> [0.12293391 0.01611722 0.86094886]\n",
      "[1. 0. 0.] <-> [0.78173053 0.05300722 0.1652622 ]\n",
      "[1. 0. 0.] <-> [0.88373387 0.08928493 0.02698125]\n",
      "[1. 0. 0.] <-> [0.94377637 0.03407153 0.02215202]\n",
      "[0. 0. 1.] <-> [0.23820318 0.02622677 0.7355701 ]\n",
      "[1. 0. 0.] <-> [0.91960657 0.05791323 0.02248012]\n",
      "[1. 0. 0.] <-> [0.9207326  0.05212993 0.02713747]\n",
      "[1. 0. 0.] <-> [0.58145195 0.3794735  0.03907458]\n",
      "[0. 0. 1.] <-> [0.13287452 0.01852414 0.8486014 ]\n",
      "[1. 0. 0.] <-> [0.75457793 0.21778801 0.02763413]\n",
      "[1. 0. 0.] <-> [0.67847645 0.28635192 0.03517164]\n",
      "[1. 0. 0.] <-> [0.79722327 0.17465782 0.02811886]\n",
      "[0. 1. 0.] <-> [0.12352975 0.8607695  0.0157007 ]\n",
      "[1. 0. 0.] <-> [0.9189116  0.03541613 0.04567219]\n",
      "[0. 1. 0.] <-> [0.11838615 0.8675057  0.01410818]\n",
      "[1. 0. 0.] <-> [0.73433566 0.22958755 0.03607672]\n",
      "[0. 1. 0.] <-> [0.12216737 0.8603617  0.01747086]\n",
      "[0. 1. 0.] <-> [0.11831822 0.86819464 0.01348709]\n",
      "[1. 0. 0.] <-> [0.9393042  0.03460833 0.02608753]\n",
      "[1. 0. 0.] <-> [0.6998603  0.08014265 0.21999711]\n",
      "[1. 0. 0.] <-> [0.9367268  0.03687907 0.02639408]\n",
      "[1. 0. 0.] <-> [0.85351837 0.08919066 0.05729096]\n",
      "[1. 0. 0.] <-> [0.7596009  0.06025602 0.18014309]\n",
      "[1. 0. 0.] <-> [0.6051754  0.06231192 0.33251274]\n",
      "[0. 0. 1.] <-> [0.54656786 0.0506115  0.40282062]\n",
      "[0. 0. 1.] <-> [0.3821321  0.05313962 0.56472826]\n",
      "[0. 1. 0.] <-> [0.26133573 0.7109862  0.02767806]\n",
      "[1. 0. 0.] <-> [0.8533204  0.09211166 0.05456796]\n",
      "[0. 0. 1.] <-> [0.3953524  0.03928604 0.5653616 ]\n",
      "[1. 0. 0.] <-> [0.9346125  0.04177577 0.0236117 ]\n",
      "[1. 0. 0.] <-> [0.9156101  0.036517   0.04787295]\n",
      "[1. 0. 0.] <-> [0.8019092  0.13462466 0.06346607]\n",
      "[1. 0. 0.] <-> [0.9193939  0.05824349 0.02236263]\n",
      "[0. 0. 1.] <-> [0.19428545 0.02469016 0.7810244 ]\n",
      "[1. 0. 0.] <-> [0.9059114  0.05262601 0.04146265]\n",
      "[1. 0. 0.] <-> [0.8664905  0.09763286 0.03587671]\n",
      "[1. 0. 0.] <-> [0.9076714  0.06390642 0.02842216]\n",
      "[1. 0. 0.] <-> [0.9244057  0.05241206 0.02318235]\n",
      "[1. 0. 0.] <-> [0.8453307  0.06155208 0.09311723]\n",
      "[1. 0. 0.] <-> [0.8727211  0.09822739 0.02905158]\n",
      "[0. 1. 0.] <-> [0.15785842 0.8222644  0.01987722]\n",
      "[1. 0. 0.] <-> [0.9038049  0.06024961 0.03594551]\n",
      "[1. 0. 0.] <-> [0.9264809  0.04450041 0.02901865]\n",
      "[0. 0. 1.] <-> [0.20655006 0.02449323 0.7689567 ]\n",
      "[0. 1. 0.] <-> [0.11820863 0.86965054 0.01214089]\n",
      "[0. 0. 1.] <-> [0.71106416 0.05387076 0.23506512]\n",
      "[1. 0. 0.] <-> [0.88166106 0.03854272 0.0797962 ]\n",
      "[1. 0. 0.] <-> [0.8874349  0.06894602 0.04361913]\n",
      "[1. 0. 0.] <-> [0.88600683 0.0800002  0.03399301]\n",
      "[1. 0. 0.] <-> [0.93132603 0.04024101 0.02843293]\n",
      "[1. 0. 0.] <-> [0.7685216  0.19655381 0.03492464]\n",
      "[1. 0. 0.] <-> [0.90125465 0.07540751 0.02333791]\n",
      "[1. 0. 0.] <-> [0.8712332  0.09834862 0.0304182 ]\n",
      "[0. 1. 0.] <-> [0.2978421  0.6778466  0.02431132]\n",
      "[1. 0. 0.] <-> [0.43860242 0.5257087  0.03568886]\n",
      "[1. 0. 0.] <-> [0.93642336 0.04036501 0.02321164]\n",
      "[1. 0. 0.] <-> [0.6431228  0.32320943 0.03366777]\n",
      "[1. 0. 0.] <-> [0.8846949  0.05621237 0.05909279]\n",
      "[1. 0. 0.] <-> [0.87493104 0.04366609 0.08140285]\n",
      "[1. 0. 0.] <-> [0.9301495  0.05088855 0.01896198]\n",
      "[1. 0. 0.] <-> [0.82138443 0.14943323 0.02918231]\n",
      "[0. 0. 1.] <-> [0.06957694 0.00995513 0.9204679 ]\n",
      "[1. 0. 0.] <-> [0.91919446 0.04368499 0.03712059]\n",
      "[0. 1. 0.] <-> [0.36580706 0.60657495 0.02761803]\n",
      "[1. 0. 0.] <-> [0.9006782  0.04578181 0.05354   ]\n",
      "[1. 0. 0.] <-> [0.94805837 0.02912105 0.0228206 ]\n",
      "[1. 0. 0.] <-> [0.62282807 0.3027286  0.07444328]\n",
      "[0. 1. 0.] <-> [0.1697394  0.803503   0.02675763]\n",
      "[1. 0. 0.] <-> [0.9391911  0.03673755 0.02407139]\n",
      "[1. 0. 0.] <-> [0.80579704 0.15920413 0.0349989 ]\n",
      "[1. 0. 0.] <-> [0.9157015  0.0390932  0.04520533]\n",
      "[1. 0. 0.] <-> [0.918524   0.05724503 0.02423091]\n",
      "[0. 1. 0.] <-> [0.1181764  0.87007326 0.01175035]\n",
      "[1. 0. 0.] <-> [0.9301865  0.04687428 0.02293914]\n",
      "[1. 0. 0.] <-> [0.48422053 0.4856116  0.0301679 ]\n",
      "[1. 0. 0.] <-> [0.8296159  0.13709623 0.03328788]\n",
      "[1. 0. 0.] <-> [0.91561085 0.06286848 0.02152068]\n",
      "[1. 0. 0.] <-> [0.89892226 0.04095659 0.06012108]\n",
      "[1. 0. 0.] <-> [0.90783167 0.06426959 0.02789878]\n",
      "[1. 0. 0.] <-> [0.9127357  0.06545268 0.02181156]\n",
      "[0. 1. 0.] <-> [0.30276513 0.66383123 0.0334037 ]\n",
      "[1. 0. 0.] <-> [0.9453165 0.0288365 0.025847 ]\n",
      "[0. 0. 1.] <-> [0.3478923  0.03995126 0.6121564 ]\n",
      "[1. 0. 0.] <-> [0.91717577 0.04908778 0.0337365 ]\n",
      "[1. 0. 0.] <-> [0.9041798  0.03653595 0.05928423]\n",
      "[0. 1. 0.] <-> [0.29814363 0.67820513 0.02365123]\n",
      "[1. 0. 0.] <-> [0.92611283 0.03665253 0.03723457]\n",
      "[0. 0. 1.] <-> [0.07554638 0.01170488 0.9127487 ]\n",
      "[1. 0. 0.] <-> [0.91945934 0.05770919 0.02283144]\n",
      "[0. 0. 1.] <-> [0.07510975 0.01553286 0.90935737]\n",
      "[0. 1. 0.] <-> [0.11836998 0.8691137  0.01251642]\n",
      "[0. 0. 1.] <-> [0.7358561  0.05995034 0.20419352]\n",
      "[1. 0. 0.] <-> [0.939236   0.034655   0.02610893]\n",
      "[1. 0. 0.] <-> [0.8709447  0.05313911 0.07591624]\n",
      "{'accuracy': 0.9629629629629629, 'mean_square_error': 0.09895626444137477, 'categorical_crossentropy': 0.22395049201117623, 'precision': 0.9444444444444444, 'recall': 0.9444444444444444, 'f1': 0.9444444444444444, 'essential_metrics': {0: {'tp_hit': 76, 'fp_hit': 4, 'tn_hit': 26, 'fn_hit': 2}, 1: {'tp_hit': 15, 'fp_hit': 2, 'tn_hit': 90, 'fn_hit': 1}, 2: {'tp_hit': 11, 'fp_hit': 0, 'tn_hit': 94, 'fn_hit': 3}}}\n"
     ]
    }
   ],
   "source": [
    "# recall phase\n",
    "score = model.evaluate(x_test, y_test, False)\n",
    "print(score)"
   ]
  },
  {
   "cell_type": "code",
   "execution_count": 12,
   "metadata": {},
   "outputs": [],
   "source": [
    "# Testing Performance"
   ]
  },
  {
   "cell_type": "code",
   "execution_count": 13,
   "metadata": {},
   "outputs": [
    {
     "name": "stderr",
     "output_type": "stream",
     "text": [
      "C:\\Users\\tcumi\\Anaconda3\\envs\\py_3_6\\lib\\site-packages\\numpy\\core\\_asarray.py:136: VisibleDeprecationWarning: Creating an ndarray from ragged nested sequences (which is a list-or-tuple of lists-or-tuples-or ndarrays with different lengths or shapes) is deprecated. If you meant to do this, you must specify 'dtype=object' when creating the ndarray\n",
      "  return array(a, dtype, copy=False, order=order, subok=True)\n"
     ]
    },
    {
     "data": {
      "image/png": "[encoded data removed]",
      "text/plain": [
       "<Figure size 864x360 with 1 Axes>"
      ]
     },
     "metadata": {
      "needs_background": "light"
     },
     "output_type": "display_data"
    },
    {
     "data": {
      "image/png": "[encoded data removed]",
      "text/plain": [
       "<Figure size 864x360 with 1 Axes>"
      ]
     },
     "metadata": {
      "needs_background": "light"
     },
     "output_type": "display_data"
    }
   ],
   "source": [
    "draw_plot(x = [[i for i in range(len(history))], [(i+1)*breakpoint for i in range(len(checkpoints))]], y_list = [history, [ ckp[model.loss_fn] for ckp in checkpoints ]], x_label = 'Epochs', \\\n",
    "    y_label = model.loss_fn, legend=['train', 'test'])\n",
    "acc = [ ckp['accuracy'] for ckp in checkpoints ]\n",
    "draw_plot(x = [[(i+1)*breakpoint for i in range(len(checkpoints))]], y_list = [acc], x_label = 'Checkpoints', \\\n",
    "    y_label = 'accuracy')"
   ]
  },
  {
   "cell_type": "code",
   "execution_count": 14,
   "metadata": {
    "scrolled": false
   },
   "outputs": [
    {
     "name": "stdout",
     "output_type": "stream",
     "text": [
      "{'accuracy': 0.9567901234567902, 'mean_square_error': 0.14016328471524078, 'categorical_crossentropy': 0.29384916800039784, 'precision': 0.9351851851851852, 'recall': 0.9351851851851852, 'f1': 0.9351851851851852, 'essential_metrics': {0: {'tp_hit': 78, 'fp_hit': 7, 'tn_hit': 23, 'fn_hit': 0}, 1: {'tp_hit': 12, 'fp_hit': 0, 'tn_hit': 92, 'fn_hit': 4}, 2: {'tp_hit': 11, 'fp_hit': 0, 'tn_hit': 94, 'fn_hit': 3}}, 'checkpoint': 100} \n",
      "\n",
      "\n",
      "{'accuracy': 0.9629629629629629, 'mean_square_error': 0.1309621464596893, 'categorical_crossentropy': 0.27468116195113573, 'precision': 0.9444444444444444, 'recall': 0.9444444444444444, 'f1': 0.9444444444444444, 'essential_metrics': {0: {'tp_hit': 78, 'fp_hit': 6, 'tn_hit': 24, 'fn_hit': 0}, 1: {'tp_hit': 13, 'fp_hit': 0, 'tn_hit': 92, 'fn_hit': 3}, 2: {'tp_hit': 11, 'fp_hit': 0, 'tn_hit': 94, 'fn_hit': 3}}, 'checkpoint': 200} \n",
      "\n",
      "\n",
      "{'accuracy': 0.9691358024691358, 'mean_square_error': 0.11342571618366154, 'categorical_crossentropy': 0.2407767860977738, 'precision': 0.9537037037037037, 'recall': 0.9537037037037037, 'f1': 0.9537037037037037, 'essential_metrics': {0: {'tp_hit': 78, 'fp_hit': 5, 'tn_hit': 25, 'fn_hit': 0}, 1: {'tp_hit': 14, 'fp_hit': 0, 'tn_hit': 92, 'fn_hit': 2}, 2: {'tp_hit': 11, 'fp_hit': 0, 'tn_hit': 94, 'fn_hit': 3}}, 'checkpoint': 300} \n",
      "\n",
      "\n",
      "{'accuracy': 0.9691358024691358, 'mean_square_error': 0.1060903270216527, 'categorical_crossentropy': 0.23220335995709454, 'precision': 0.9537037037037037, 'recall': 0.9537037037037037, 'f1': 0.9537037037037037, 'essential_metrics': {0: {'tp_hit': 78, 'fp_hit': 5, 'tn_hit': 25, 'fn_hit': 0}, 1: {'tp_hit': 15, 'fp_hit': 0, 'tn_hit': 92, 'fn_hit': 1}, 2: {'tp_hit': 10, 'fp_hit': 0, 'tn_hit': 94, 'fn_hit': 4}}, 'checkpoint': 400} \n",
      "\n",
      "\n",
      "{'accuracy': 0.9629629629629629, 'mean_square_error': 0.09895626444137477, 'categorical_crossentropy': 0.22395049201117623, 'precision': 0.9444444444444444, 'recall': 0.9444444444444444, 'f1': 0.9444444444444444, 'essential_metrics': {0: {'tp_hit': 76, 'fp_hit': 4, 'tn_hit': 26, 'fn_hit': 2}, 1: {'tp_hit': 15, 'fp_hit': 2, 'tn_hit': 90, 'fn_hit': 1}, 2: {'tp_hit': 11, 'fp_hit': 0, 'tn_hit': 94, 'fn_hit': 3}}, 'checkpoint': 500} \n",
      "\n",
      "\n"
     ]
    }
   ],
   "source": [
    "for checkpoint in checkpoints:\n",
    "    print(checkpoint, '\\n\\n')"
   ]
  },
  {
   "cell_type": "code",
   "execution_count": 15,
   "metadata": {},
   "outputs": [
    {
     "name": "stdout",
     "output_type": "stream",
     "text": [
      "Layer 1\n",
      "Neuron 0: weights:\n",
      "[-0.95730054  1.7784783   2.0027297   0.17418553 -0.00671353]\n",
      " bias: -1.0278421640396118\n",
      "\n",
      "Neuron 1: weights:\n",
      "[ 0.07149678  0.05811124 -0.03926313  0.71134526  0.03596043]\n",
      " bias: -0.10926613211631775\n",
      "\n",
      "Neuron 2: weights:\n",
      "[ 0.15505907 -0.15239318  0.00111232  0.7507865   0.5449555 ]\n",
      " bias: -0.1132655143737793\n",
      "\n",
      "Neuron 3: weights:\n",
      "[-0.12721209  2.3865917  -0.01542162 -0.05010786 -1.5306275 ]\n",
      " bias: 1.8920315504074097\n",
      "\n",
      "$\n",
      "Layer 2\n",
      "Neuron 0: weights:\n",
      "[-3.          0.00933298  0.10529703  2.1178024 ]\n",
      " bias: 1.0953363180160522\n",
      "\n",
      "Neuron 1: weights:\n",
      "[ 3.         -0.06072783  0.02484553 -0.04321994]\n",
      " bias: -0.7067788243293762\n",
      "\n",
      "Neuron 2: weights:\n",
      "[-0.0934786  1.130918   2.8712971 -3.       ]\n",
      " bias: 0.10164891183376312\n",
      "\n",
      "$\n",
      "\n"
     ]
    }
   ],
   "source": [
    "print(model)"
   ]
  }
 ],
 "metadata": {
  "kernelspec": {
   "display_name": "Python 3",
   "language": "python",
   "name": "python3"
  },
  "language_info": {
   "codemirror_mode": {
    "name": "ipython",
    "version": 3
   },
   "file_extension": ".py",
   "mimetype": "text/x-python",
   "name": "python",
   "nbconvert_exporter": "python",
   "pygments_lexer": "ipython3",
   "version": "3.6.10"
  }
 },
 "nbformat": 4,
 "nbformat_minor": 2
}
