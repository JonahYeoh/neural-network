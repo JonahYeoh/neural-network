{
 "cells": [
  {
   "cell_type": "code",
   "execution_count": 1,
   "metadata": {},
   "outputs": [],
   "source": [
    "# dependency\n",
    "import numpy as np\n",
    "import pandas as pd\n",
    "import copy\n",
    "import math\n",
    "import sys\n",
    "import os\n",
    "from activations import relu, leaky_relu, sigmoid, tanh, softmax, d_sigmoid, d_relu\n",
    "from initializers import glorot_uniform, random_normal, random_uniform\n",
    "from regularizers import l1_regularizer, l2_regularizer\n",
    "from utility import trim_tail, multiply, subtract, get_nparams, one_hot_encoding, get_data\n",
    "from metrics import MSE, CCE, ACC, PRECISION, RECALL, essential_metrics, wondering_penalty, close_gap_penalty\n",
    "from pso import PSO\n",
    "from ga import GA\n",
    "from nn import Network\n",
    "from layer import DenseLayer\n",
    "from scalers import MinMaxScaler, StandardScaler"
   ]
  },
  {
   "cell_type": "code",
   "execution_count": 2,
   "metadata": {},
   "outputs": [],
   "source": [
    "# reference\n",
    "metrics_fn_dict = dict()\n",
    "metrics_fn_dict['accuracy'] = ACC\n",
    "metrics_fn_dict['categorical_crossentropy'] = CCE\n",
    "metrics_fn_dict['mean_square_error'] = MSE\n",
    "metrics_fn_dict['precision'] = PRECISION\n",
    "metrics_fn_dict['recall'] = RECALL\n",
    "metrics_fn_dict['essential_metrics'] = essential_metrics"
   ]
  },
  {
   "cell_type": "code",
   "execution_count": 3,
   "metadata": {},
   "outputs": [],
   "source": [
    "# model\n",
    "model = Network(5, lr = None)\n",
    "model.add_layer(DenseLayer(1, 4, True, afn=sigmoid, dafn=None, rfn=None))\n",
    "model.add_layer(DenseLayer(2, 3, True, afn=softmax, dafn=None, rfn=None))"
   ]
  },
  {
   "cell_type": "code",
   "execution_count": 4,
   "metadata": {},
   "outputs": [
    {
     "name": "stdout",
     "output_type": "stream",
     "text": [
      "see one see two 2 2\n"
     ]
    }
   ],
   "source": [
    "pso = PSO(dict(m = 50,\n",
    "    weight_constraint = [-3, 3], \n",
    "    velocity_constraint = [-0.1, 0.1],\n",
    "    c1 = 2,\n",
    "    c2 = 2,\n",
    "    w = 1,\n",
    "    w_decay = 1.2,\n",
    "    scale_hyperparameter = False,\n",
    "    regularizer = None,\n",
    "    mask = True))"
   ]
  },
  {
   "cell_type": "code",
   "execution_count": 5,
   "metadata": {},
   "outputs": [
    {
     "name": "stdout",
     "output_type": "stream",
     "text": [
      "building layer 1 with 5\n",
      "24\n",
      "building layer 2 with 4\n",
      "15\n"
     ]
    }
   ],
   "source": [
    "model.compile(loss_fn = 'categorical_crossentropy', optimizer = pso, \\\n",
    "    metrics = ['accuracy', 'mean_square_error', 'categorical_crossentropy'])"
   ]
  },
  {
   "cell_type": "code",
   "execution_count": 6,
   "metadata": {},
   "outputs": [
    {
     "name": "stdout",
     "output_type": "stream",
     "text": [
      "<class 'pandas.core.frame.DataFrame'>\n",
      "RangeIndex: 107 entries, 0 to 106\n",
      "Data columns (total 6 columns):\n",
      " #   Column  Non-Null Count  Dtype  \n",
      "---  ------  --------------  -----  \n",
      " 0   f1      107 non-null    float32\n",
      " 1   f2      107 non-null    float32\n",
      " 2   f3      107 non-null    float32\n",
      " 3   f4      107 non-null    float32\n",
      " 4   f5      107 non-null    float32\n",
      " 5   label   107 non-null    float32\n",
      "dtypes: float32(6)\n",
      "memory usage: 2.6 KB\n",
      "None\n",
      "<class 'pandas.core.frame.DataFrame'>\n",
      "RangeIndex: 108 entries, 0 to 107\n",
      "Data columns (total 6 columns):\n",
      " #   Column  Non-Null Count  Dtype  \n",
      "---  ------  --------------  -----  \n",
      " 0   f1      108 non-null    float32\n",
      " 1   f2      108 non-null    float32\n",
      " 2   f3      108 non-null    float32\n",
      " 3   f4      108 non-null    float32\n",
      " 4   f5      108 non-null    float32\n",
      " 5   label   108 non-null    float32\n",
      "dtypes: float32(6)\n",
      "memory usage: 2.7 KB\n",
      "None\n"
     ]
    }
   ],
   "source": [
    "# data loading\n",
    "DATA = os.path.join('c:\\\\Users\\\\AI-lab\\\\github_repo\\\\neural-network\\\\', 'dataset')\n",
    "GROUP = 5\n",
    "COLUMNS = ['f1', 'f2', 'f3', 'f4', 'f5', 'label']\n",
    "N_CLASS = 3\n",
    "EPOCHS = 200\n",
    "train_dir, test_dir = \"..//dataset//training_data{}.txt\".format(GROUP), \"..//dataset//testing_data{}.txt\".format(GROUP)\n",
    "train, test = get_data(DATA, train_dir, COLUMNS), get_data(DATA, test_dir, COLUMNS)\n",
    "# shuffle\n",
    "train, test = train.sample(frac=1), test.sample(frac=1)\n",
    "x_train, y_train = train.drop('label', axis=1), train['label']\n",
    "x_test, y_test = test.drop('label', axis=1), test['label']"
   ]
  },
  {
   "cell_type": "code",
   "execution_count": 7,
   "metadata": {},
   "outputs": [],
   "source": [
    "# data scaling and encoding\n",
    "scaler = StandardScaler(['f1', 'f2', 'f3', 'f4', 'f5'])\n",
    "scaler.fit(x_train)\n",
    "x_train = scaler.transform(x_train)\n",
    "x_test = scaler.transform(x_test)\n",
    "y_train = one_hot_encoding(y_train, N_CLASS)\n",
    "y_test = one_hot_encoding(y_test, N_CLASS)"
   ]
  },
  {
   "cell_type": "code",
   "execution_count": 8,
   "metadata": {
    "tags": [
     "outputPrepend"
    ]
   },
   "outputs": [
    {
     "name": "stdout",
     "output_type": "stream",
     "text": [
      "Checkpoint 10, Accuracy: 0.808641975308642, Loss: 0.6078741991961444\n",
      "Checkpoint 20, Accuracy: 0.8148148148148148, Loss: 0.5977661697952835\n",
      "Checkpoint 30, Accuracy: 0.8641975308641975, Loss: 0.5278259559913918\n",
      "Checkpoint 40, Accuracy: 0.8765432098765432, Loss: 0.5109381145901151\n",
      "Checkpoint 50, Accuracy: 0.8888888888888888, Loss: 0.4932047526041667\n",
      "Checkpoint 60, Accuracy: 0.8950617283950617, Loss: 0.4015636444091797\n",
      "Checkpoint 70, Accuracy: 0.9197530864197531, Loss: 0.33778084648980033\n",
      "Checkpoint 80, Accuracy: 0.9012345679012346, Loss: 0.3119919741595233\n",
      "Checkpoint 90, Accuracy: 0.9506172839506173, Loss: 0.26499107148912215\n",
      "Checkpoint 100, Accuracy: 0.9691358024691358, Loss: 0.20183308919270834\n",
      "Checkpoint 110, Accuracy: 0.9691358024691358, Loss: 0.17926413924605758\n",
      "Checkpoint 120, Accuracy: 0.9814814814814815, Loss: 0.16657693297774703\n",
      "Checkpoint 130, Accuracy: 0.9691358024691358, Loss: 0.14083405777260108\n",
      "Checkpoint 140, Accuracy: 0.9567901234567902, Loss: 0.1502068660877369\n",
      "Checkpoint 150, Accuracy: 0.9814814814814815, Loss: 0.10518406055591724\n",
      "Checkpoint 160, Accuracy: 0.9814814814814815, Loss: 0.092896717566031\n",
      "Checkpoint 170, Accuracy: 0.9814814814814815, Loss: 0.08574270319055628\n",
      "Checkpoint 180, Accuracy: 0.9691358024691358, Loss: 0.08741830896448206\n",
      "Checkpoint 190, Accuracy: 0.9691358024691358, Loss: 0.07490090970639829\n",
      "Checkpoint 200, Accuracy: 0.9629629629629629, Loss: 0.08034673443547001\n"
     ]
    }
   ],
   "source": [
    "# learning phase\n",
    "breakpoint = 10\n",
    "checkpoints = list()\n",
    "history = list()\n",
    "for century in range(0, EPOCHS, breakpoint):\n",
    "    sub_history = model.fit(x_train, y_train, breakpoint, verbose = 0)\n",
    "    score = model.evaluate(x_test, y_test, False, verbose = 0)\n",
    "    print('Checkpoint {}, Accuracy: {}, Loss: {}'.format(century+breakpoint, score['accuracy'], score[model.loss_fn]))\n",
    "    score['checkpoint'] = century + breakpoint\n",
    "    checkpoints.append(score)\n",
    "    history.extend(sub_history)"
   ]
  },
  {
   "cell_type": "code",
   "execution_count": 9,
   "metadata": {},
   "outputs": [],
   "source": [
    "import matplotlib.pyplot as plt\n",
    "\n",
    "def draw_plot(x, y_list, x_label=None, y_label=None, legend=None, title=None):\n",
    "    fig, ax = plt.subplots(figsize=(12,5))\n",
    "    for xi, yi in zip(x, y_list):\n",
    "        ax.plot(xi, yi)\n",
    "    if x_label is not None and y_label is not None:\n",
    "        ax.set(xlabel=x_label, ylabel=y_label, title='{} VS {}'.format(x_label, y_label))\n",
    "    if legend is not None:\n",
    "        ax.legend(legend)\n",
    "    ax.grid()\n",
    "    plt.show()"
   ]
  },
  {
   "cell_type": "code",
   "execution_count": 10,
   "metadata": {},
   "outputs": [
    {
     "name": "stdout",
     "output_type": "stream",
     "text": [
      "[1. 0. 0.] <-> [9.9794441e-01 1.3024327e-03 7.5312483e-04]\n",
      "[1. 0. 0.] <-> [9.9774003e-01 1.5859711e-03 6.7398371e-04]\n",
      "[1. 0. 0.] <-> [9.9780339e-01 1.2849681e-03 9.1158214e-04]\n",
      "[1. 0. 0.] <-> [0.99683577 0.00150279 0.00166151]\n",
      "[0. 0. 1.] <-> [0.6501216  0.00350581 0.34637254]\n",
      "[0. 0. 1.] <-> [1.3579318e-02 2.8702131e-04 9.8613364e-01]\n",
      "[1. 0. 0.] <-> [9.9580538e-01 3.4117638e-03 7.8271120e-04]\n",
      "[1. 0. 0.] <-> [9.9724686e-01 1.9938927e-03 7.5925374e-04]\n",
      "[1. 0. 0.] <-> [0.98728395 0.00236061 0.01035553]\n",
      "[1. 0. 0.] <-> [9.9664658e-01 2.5701057e-03 7.8328344e-04]\n",
      "[1. 0. 0.] <-> [9.9799877e-01 1.2815438e-03 7.1970845e-04]\n",
      "[1. 0. 0.] <-> [0.78585285 0.00308211 0.21106502]\n",
      "[1. 0. 0.] <-> [0.99492115 0.00155004 0.00352887]\n",
      "[0. 1. 0.] <-> [7.2072130e-03 9.9262637e-01 1.6636365e-04]\n",
      "[1. 0. 0.] <-> [0.99702567 0.00159999 0.00137426]\n",
      "[1. 0. 0.] <-> [9.9790204e-01 1.4706259e-03 6.2742503e-04]\n",
      "[1. 0. 0.] <-> [0.9926307  0.00137227 0.00599702]\n",
      "[1. 0. 0.] <-> [0.43877116 0.00184274 0.55938613]\n",
      "[0. 0. 1.] <-> [1.3549553e-02 2.8668868e-04 9.8616379e-01]\n",
      "[0. 1. 0.] <-> [7.7420590e-03 9.9208379e-01 1.7419682e-04]\n",
      "[1. 0. 0.] <-> [0.99742645 0.00141999 0.00115356]\n",
      "[1. 0. 0.] <-> [0.9891473  0.00978959 0.00106314]\n",
      "[1. 0. 0.] <-> [0.97960573 0.00251204 0.01788227]\n",
      "[0. 0. 1.] <-> [1.3833150e-02 2.9159273e-04 9.8587519e-01]\n",
      "[1. 0. 0.] <-> [0.977101   0.00274344 0.0201555 ]\n",
      "[0. 0. 1.] <-> [1.3904882e-02 2.9807637e-04 9.8579699e-01]\n",
      "[0. 1. 0.] <-> [0.71243393 0.28506127 0.00250482]\n",
      "[1. 0. 0.] <-> [0.9949543  0.00131158 0.00373415]\n",
      "[0. 1. 0.] <-> [7.2067357e-03 9.9262685e-01 1.6635707e-04]\n",
      "[0. 1. 0.] <-> [2.8089076e-02 9.7147954e-01 4.3141487e-04]\n",
      "[0. 1. 0.] <-> [4.9181007e-02 9.5022076e-01 5.9818465e-04]\n",
      "[1. 0. 0.] <-> [0.6339078  0.00236395 0.36372826]\n",
      "[1. 0. 0.] <-> [0.99668723 0.00153799 0.00177482]\n",
      "[1. 0. 0.] <-> [9.9697065e-01 2.3030632e-03 7.2624109e-04]\n",
      "[1. 0. 0.] <-> [0.9974433  0.00125962 0.001297  ]\n",
      "[0. 1. 0.] <-> [7.2508138e-03 9.9258220e-01 1.6698746e-04]\n",
      "[1. 0. 0.] <-> [0.9684144  0.00299007 0.02859552]\n",
      "[1. 0. 0.] <-> [9.9727386e-01 1.8523419e-03 8.7385025e-04]\n",
      "[0. 0. 1.] <-> [1.3575829e-02 2.8722710e-04 9.8613691e-01]\n",
      "[1. 0. 0.] <-> [0.98939383 0.0015307  0.00907553]\n",
      "[1. 0. 0.] <-> [0.98928505 0.00956992 0.00114501]\n",
      "[1. 0. 0.] <-> [0.9469991  0.00294094 0.05005993]\n",
      "[1. 0. 0.] <-> [0.99749076 0.00122597 0.00128332]\n",
      "[1. 0. 0.] <-> [0.99467695 0.00140038 0.00392264]\n",
      "[0. 1. 0.] <-> [2.2440281e-02 9.7721261e-01 3.4715937e-04]\n",
      "[0. 0. 1.] <-> [4.032932e-02 5.852551e-04 9.590854e-01]\n",
      "[1. 0. 0.] <-> [9.9777776e-01 1.4480053e-03 7.7422842e-04]\n",
      "[1. 0. 0.] <-> [9.9757773e-01 1.7006524e-03 7.2163559e-04]\n",
      "[1. 0. 0.] <-> [9.9766052e-01 1.6560921e-03 6.8342575e-04]\n",
      "[1. 0. 0.] <-> [9.9791175e-01 1.3417079e-03 7.4643077e-04]\n",
      "[1. 0. 0.] <-> [0.9880179 0.0014691 0.010513 ]\n",
      "[1. 0. 0.] <-> [0.98230916 0.00203206 0.01565878]\n",
      "[1. 0. 0.] <-> [0.9970624  0.00162919 0.0013084 ]\n",
      "[1. 0. 0.] <-> [9.9713755e-01 2.1557084e-03 7.0679246e-04]\n",
      "[1. 0. 0.] <-> [9.9626875e-01 2.9222239e-03 8.0907595e-04]\n",
      "[1. 0. 0.] <-> [9.9744642e-01 1.6068257e-03 9.4674603e-04]\n",
      "[1. 0. 0.] <-> [0.9974022  0.00133647 0.0012614 ]\n",
      "[1. 0. 0.] <-> [9.9764073e-01 1.4329143e-03 9.2637382e-04]\n",
      "[1. 0. 0.] <-> [0.95660263 0.04170038 0.00169696]\n",
      "[0. 0. 1.] <-> [1.3549501e-02 2.8669523e-04 9.8616379e-01]\n",
      "[1. 0. 0.] <-> [0.7712007  0.00490031 0.223899  ]\n",
      "[0. 1. 0.] <-> [7.2064563e-03 9.9262720e-01 1.6635301e-04]\n",
      "[1. 0. 0.] <-> [0.98934656 0.00201124 0.00864218]\n",
      "[0. 1. 0.] <-> [7.2068041e-03 9.9262685e-01 1.6635803e-04]\n",
      "[1. 0. 0.] <-> [9.9793869e-01 1.2354804e-03 8.2585396e-04]\n",
      "[0. 1. 0.] <-> [0.5174414  0.47978657 0.00277204]\n",
      "[1. 0. 0.] <-> [9.9765480e-01 1.4789066e-03 8.6633570e-04]\n",
      "[1. 0. 0.] <-> [0.9950736  0.00192971 0.00299667]\n",
      "[0. 0. 1.] <-> [1.3550037e-02 2.8674101e-04 9.8616320e-01]\n",
      "[1. 0. 0.] <-> [9.960592e-01 3.166070e-03 7.747937e-04]\n",
      "[1. 0. 0.] <-> [0.9977003  0.00126694 0.00103279]\n",
      "[0. 0. 1.] <-> [1.3549540e-02 2.8667995e-04 9.8616379e-01]\n",
      "[1. 0. 0.] <-> [9.9792743e-01 1.2528917e-03 8.1961480e-04]\n",
      "[1. 0. 0.] <-> [9.9743313e-01 1.8581672e-03 7.0868927e-04]\n",
      "[0. 0. 1.] <-> [0.80852205 0.00381595 0.18766199]\n",
      "[1. 0. 0.] <-> [9.973132e-01 1.862831e-03 8.238799e-04]\n",
      "[1. 0. 0.] <-> [9.9206209e-01 6.9694687e-03 9.6851448e-04]\n",
      "[1. 0. 0.] <-> [0.9970304 0.0015007 0.0014689]\n",
      "[1. 0. 0.] <-> [9.9572492e-01 3.4591604e-03 8.1589766e-04]\n",
      "[1. 0. 0.] <-> [0.9972088  0.00148969 0.00130155]\n",
      "[0. 0. 1.] <-> [1.3745806e-02 2.9044185e-04 9.8596370e-01]\n",
      "[1. 0. 0.] <-> [0.9543695  0.00266786 0.04296263]\n",
      "[1. 0. 0.] <-> [9.9631506e-01 2.9645509e-03 7.2042673e-04]\n",
      "[1. 0. 0.] <-> [9.9781621e-01 1.5057438e-03 6.7803107e-04]\n",
      "[0. 1. 0.] <-> [0.5429491  0.45448118 0.00256966]\n",
      "[0. 1. 0.] <-> [7.2059510e-03 9.9262768e-01 1.6634594e-04]\n",
      "[1. 0. 0.] <-> [0.9928255  0.00179148 0.00538298]\n",
      "[1. 0. 0.] <-> [0.99739516 0.00133667 0.00126822]\n",
      "[1. 0. 0.] <-> [9.9484575e-01 4.2788512e-03 8.7535771e-04]\n",
      "[1. 0. 0.] <-> [9.9705005e-01 2.2385272e-03 7.1136485e-04]\n",
      "[1. 0. 0.] <-> [9.9738747e-01 1.8963231e-03 7.1624044e-04]\n",
      "[1. 0. 0.] <-> [0.9967296  0.00214601 0.00112443]\n",
      "[1. 0. 0.] <-> [0.9693443  0.00235508 0.02830056]\n",
      "[1. 0. 0.] <-> [0.9819947  0.01677613 0.00122913]\n",
      "[1. 0. 0.] <-> [0.9975267  0.00131421 0.00115904]\n",
      "[0. 1. 0.] <-> [0.19050516 0.80804014 0.00145469]\n",
      "[0. 1. 0.] <-> [0.18491963 0.8136142  0.00146617]\n",
      "[0. 1. 0.] <-> [8.0542089e-03 9.9176747e-01 1.7843385e-04]\n",
      "[1. 0. 0.] <-> [0.9856925  0.00264941 0.01165816]\n",
      "[1. 0. 0.] <-> [0.99685943 0.0012178  0.00192272]\n",
      "[0. 0. 1.] <-> [1.3574714e-02 2.8699063e-04 9.8613828e-01]\n",
      "[1. 0. 0.] <-> [0.98202467 0.00197373 0.01600153]\n",
      "[1. 0. 0.] <-> [0.977786   0.001674   0.02053996]\n",
      "[0. 0. 1.] <-> [1.3549112e-02 2.8675114e-04 9.8616415e-01]\n",
      "[1. 0. 0.] <-> [9.9772948e-01 1.5319570e-03 7.3859934e-04]\n",
      "[1. 0. 0.] <-> [9.9784625e-01 1.4366086e-03 7.1721495e-04]\n",
      "[0. 0. 1.] <-> [1.3668865e-02 2.8827318e-04 9.8604286e-01]\n",
      "[0. 1. 0.] <-> [7.2126947e-03 9.9262083e-01 1.6644130e-04]\n",
      "{'accuracy': 0.9629629629629629, 'mean_square_error': 0.051686559646603354, 'categorical_crossentropy': 0.08034673443547001, 'essential_metrics': {0: {'tp_hit': 75, 'fp_hit': 5, 'tn_hit': 27, 'fn_hit': 1}, 1: {'tp_hit': 14, 'fp_hit': 0, 'tn_hit': 91, 'fn_hit': 3}, 2: {'tp_hit': 13, 'fp_hit': 1, 'tn_hit': 92, 'fn_hit': 2}}}\n"
     ]
    }
   ],
   "source": [
    "# recall phase\n",
    "score = model.evaluate(x_test, y_test, False)\n",
    "print(score)"
   ]
  },
  {
   "cell_type": "code",
   "execution_count": 11,
   "metadata": {},
   "outputs": [],
   "source": [
    "train_acc = [h['accuracy'] for h in history]\n",
    "train_mse = [h['mean_square_error'] for h in history]\n",
    "train_cce = [h['categorical_crossentropy'] for h in history]"
   ]
  },
  {
   "cell_type": "code",
   "execution_count": 12,
   "metadata": {},
   "outputs": [
    {
     "data": {
      "image/png": "[encoded data removed]",
      "text/plain": [
       "<Figure size 864x360 with 1 Axes>"
      ]
     },
     "metadata": {
      "needs_background": "light"
     },
     "output_type": "display_data"
    },
    {
     "data": {
      "image/png": "[encoded data removed]",
      "text/plain": [
       "<Figure size 864x360 with 1 Axes>"
      ]
     },
     "metadata": {
      "needs_background": "light"
     },
     "output_type": "display_data"
    }
   ],
   "source": [
    "draw_plot(x = [[i for i in range(len(history))], [(i+1)*breakpoint for i in range(len(checkpoints))]], y_list = [train_cce, [ ckp[model.loss_fn] for ckp in checkpoints ]], x_label = 'Epochs', \\\n",
    "    y_label = model.loss_fn, legend=['train', 'test'])\n",
    "acc = [ ckp['accuracy'] for ckp in checkpoints ]\n",
    "draw_plot(x = [[i for i in range(len(history))], [(i+1)*breakpoint for i in range(len(checkpoints))]], y_list = [train_acc, acc], x_label = 'Checkpoints', \\\n",
    "    y_label = 'accuracy', legend=['train', 'test'])"
   ]
  },
  {
   "cell_type": "code",
   "execution_count": 13,
   "metadata": {},
   "outputs": [
    {
     "name": "stdout",
     "output_type": "stream",
     "text": [
      "{'accuracy': 0.808641975308642, 'mean_square_error': 0.3880096618770675, 'categorical_crossentropy': 0.6078741991961444, 'essential_metrics': {0: {'tp_hit': 76, 'fp_hit': 31, 'tn_hit': 1, 'fn_hit': 0}, 1: {'tp_hit': 1, 'fp_hit': 0, 'tn_hit': 91, 'fn_hit': 16}, 2: {'tp_hit': 0, 'fp_hit': 0, 'tn_hit': 93, 'fn_hit': 15}}, 'checkpoint': 10} \n",
      "\n",
      "\n",
      "{'accuracy': 0.8148148148148148, 'mean_square_error': 0.37237701629370934, 'categorical_crossentropy': 0.5977661697952835, 'essential_metrics': {0: {'tp_hit': 76, 'fp_hit': 30, 'tn_hit': 2, 'fn_hit': 0}, 1: {'tp_hit': 2, 'fp_hit': 0, 'tn_hit': 91, 'fn_hit': 15}, 2: {'tp_hit': 0, 'fp_hit': 0, 'tn_hit': 93, 'fn_hit': 15}}, 'checkpoint': 20} \n",
      "\n",
      "\n",
      "{'accuracy': 0.8641975308641975, 'mean_square_error': 0.310378917587954, 'categorical_crossentropy': 0.5278259559913918, 'essential_metrics': {0: {'tp_hit': 73, 'fp_hit': 18, 'tn_hit': 14, 'fn_hit': 3}, 1: {'tp_hit': 10, 'fp_hit': 3, 'tn_hit': 88, 'fn_hit': 7}, 2: {'tp_hit': 3, 'fp_hit': 1, 'tn_hit': 92, 'fn_hit': 12}}, 'checkpoint': 30} \n",
      "\n",
      "\n",
      "{'accuracy': 0.8765432098765432, 'mean_square_error': 0.2961136697588128, 'categorical_crossentropy': 0.5109381145901151, 'essential_metrics': {0: {'tp_hit': 76, 'fp_hit': 18, 'tn_hit': 14, 'fn_hit': 0}, 1: {'tp_hit': 6, 'fp_hit': 0, 'tn_hit': 91, 'fn_hit': 11}, 2: {'tp_hit': 6, 'fp_hit': 2, 'tn_hit': 91, 'fn_hit': 9}}, 'checkpoint': 40} \n",
      "\n",
      "\n",
      "{'accuracy': 0.8888888888888888, 'mean_square_error': 0.28411425694402825, 'categorical_crossentropy': 0.4932047526041667, 'essential_metrics': {0: {'tp_hit': 75, 'fp_hit': 15, 'tn_hit': 17, 'fn_hit': 1}, 1: {'tp_hit': 9, 'fp_hit': 0, 'tn_hit': 91, 'fn_hit': 8}, 2: {'tp_hit': 6, 'fp_hit': 3, 'tn_hit': 90, 'fn_hit': 9}}, 'checkpoint': 50} \n",
      "\n",
      "\n",
      "{'accuracy': 0.8950617283950617, 'mean_square_error': 0.23273066398500197, 'categorical_crossentropy': 0.4015636444091797, 'essential_metrics': {0: {'tp_hit': 76, 'fp_hit': 17, 'tn_hit': 15, 'fn_hit': 0}, 1: {'tp_hit': 9, 'fp_hit': 0, 'tn_hit': 91, 'fn_hit': 8}, 2: {'tp_hit': 6, 'fp_hit': 0, 'tn_hit': 93, 'fn_hit': 9}}, 'checkpoint': 60} \n",
      "\n",
      "\n",
      "{'accuracy': 0.9197530864197531, 'mean_square_error': 0.18635361878560938, 'categorical_crossentropy': 0.33778084648980033, 'essential_metrics': {0: {'tp_hit': 76, 'fp_hit': 13, 'tn_hit': 19, 'fn_hit': 0}, 1: {'tp_hit': 12, 'fp_hit': 0, 'tn_hit': 91, 'fn_hit': 5}, 2: {'tp_hit': 7, 'fp_hit': 0, 'tn_hit': 93, 'fn_hit': 8}}, 'checkpoint': 70} \n",
      "\n",
      "\n",
      "{'accuracy': 0.9012345679012346, 'mean_square_error': 0.17906336194175404, 'categorical_crossentropy': 0.3119919741595233, 'essential_metrics': {0: {'tp_hit': 75, 'fp_hit': 15, 'tn_hit': 17, 'fn_hit': 1}, 1: {'tp_hit': 8, 'fp_hit': 0, 'tn_hit': 91, 'fn_hit': 9}, 2: {'tp_hit': 9, 'fp_hit': 1, 'tn_hit': 92, 'fn_hit': 6}}, 'checkpoint': 80} \n",
      "\n",
      "\n",
      "{'accuracy': 0.9506172839506173, 'mean_square_error': 0.13971119783884575, 'categorical_crossentropy': 0.26499107148912215, 'essential_metrics': {0: {'tp_hit': 76, 'fp_hit': 8, 'tn_hit': 24, 'fn_hit': 0}, 1: {'tp_hit': 12, 'fp_hit': 0, 'tn_hit': 91, 'fn_hit': 5}, 2: {'tp_hit': 12, 'fp_hit': 0, 'tn_hit': 93, 'fn_hit': 3}}, 'checkpoint': 90} \n",
      "\n",
      "\n",
      "{'accuracy': 0.9691358024691358, 'mean_square_error': 0.09793326536604816, 'categorical_crossentropy': 0.20183308919270834, 'essential_metrics': {0: {'tp_hit': 74, 'fp_hit': 3, 'tn_hit': 29, 'fn_hit': 2}, 1: {'tp_hit': 16, 'fp_hit': 0, 'tn_hit': 91, 'fn_hit': 1}, 2: {'tp_hit': 13, 'fp_hit': 2, 'tn_hit': 91, 'fn_hit': 2}}, 'checkpoint': 100} \n",
      "\n",
      "\n",
      "{'accuracy': 0.9691358024691358, 'mean_square_error': 0.08984550081189537, 'categorical_crossentropy': 0.17926413924605758, 'essential_metrics': {0: {'tp_hit': 76, 'fp_hit': 5, 'tn_hit': 27, 'fn_hit': 0}, 1: {'tp_hit': 14, 'fp_hit': 0, 'tn_hit': 91, 'fn_hit': 3}, 2: {'tp_hit': 13, 'fp_hit': 0, 'tn_hit': 93, 'fn_hit': 2}}, 'checkpoint': 110} \n",
      "\n",
      "\n",
      "{'accuracy': 0.9814814814814815, 'mean_square_error': 0.08327790585601151, 'categorical_crossentropy': 0.16657693297774703, 'essential_metrics': {0: {'tp_hit': 76, 'fp_hit': 3, 'tn_hit': 29, 'fn_hit': 0}, 1: {'tp_hit': 16, 'fp_hit': 0, 'tn_hit': 91, 'fn_hit': 1}, 2: {'tp_hit': 13, 'fp_hit': 0, 'tn_hit': 93, 'fn_hit': 2}}, 'checkpoint': 120} \n",
      "\n",
      "\n",
      "{'accuracy': 0.9691358024691358, 'mean_square_error': 0.06918678358013615, 'categorical_crossentropy': 0.14083405777260108, 'essential_metrics': {0: {'tp_hit': 74, 'fp_hit': 3, 'tn_hit': 29, 'fn_hit': 2}, 1: {'tp_hit': 16, 'fp_hit': 0, 'tn_hit': 91, 'fn_hit': 1}, 2: {'tp_hit': 13, 'fp_hit': 2, 'tn_hit': 91, 'fn_hit': 2}}, 'checkpoint': 130} \n",
      "\n",
      "\n",
      "{'accuracy': 0.9567901234567902, 'mean_square_error': 0.0853213874710607, 'categorical_crossentropy': 0.1502068660877369, 'essential_metrics': {0: {'tp_hit': 73, 'fp_hit': 4, 'tn_hit': 28, 'fn_hit': 3}, 1: {'tp_hit': 15, 'fp_hit': 0, 'tn_hit': 91, 'fn_hit': 2}, 2: {'tp_hit': 13, 'fp_hit': 3, 'tn_hit': 90, 'fn_hit': 2}}, 'checkpoint': 140} \n",
      "\n",
      "\n",
      "{'accuracy': 0.9814814814814815, 'mean_square_error': 0.0562932868008374, 'categorical_crossentropy': 0.10518406055591724, 'essential_metrics': {0: {'tp_hit': 76, 'fp_hit': 3, 'tn_hit': 29, 'fn_hit': 0}, 1: {'tp_hit': 16, 'fp_hit': 0, 'tn_hit': 91, 'fn_hit': 1}, 2: {'tp_hit': 13, 'fp_hit': 0, 'tn_hit': 93, 'fn_hit': 2}}, 'checkpoint': 150} \n",
      "\n",
      "\n",
      "{'accuracy': 0.9814814814814815, 'mean_square_error': 0.05230437961460246, 'categorical_crossentropy': 0.092896717566031, 'essential_metrics': {0: {'tp_hit': 76, 'fp_hit': 3, 'tn_hit': 29, 'fn_hit': 0}, 1: {'tp_hit': 16, 'fp_hit': 0, 'tn_hit': 91, 'fn_hit': 1}, 2: {'tp_hit': 13, 'fp_hit': 0, 'tn_hit': 93, 'fn_hit': 2}}, 'checkpoint': 160} \n",
      "\n",
      "\n",
      "{'accuracy': 0.9814814814814815, 'mean_square_error': 0.050107830005477666, 'categorical_crossentropy': 0.08574270319055628, 'essential_metrics': {0: {'tp_hit': 76, 'fp_hit': 3, 'tn_hit': 29, 'fn_hit': 0}, 1: {'tp_hit': 16, 'fp_hit': 0, 'tn_hit': 91, 'fn_hit': 1}, 2: {'tp_hit': 13, 'fp_hit': 0, 'tn_hit': 93, 'fn_hit': 2}}, 'checkpoint': 170} \n",
      "\n",
      "\n",
      "{'accuracy': 0.9691358024691358, 'mean_square_error': 0.054934500441946546, 'categorical_crossentropy': 0.08741830896448206, 'essential_metrics': {0: {'tp_hit': 76, 'fp_hit': 5, 'tn_hit': 27, 'fn_hit': 0}, 1: {'tp_hit': 14, 'fp_hit': 0, 'tn_hit': 91, 'fn_hit': 3}, 2: {'tp_hit': 13, 'fp_hit': 0, 'tn_hit': 93, 'fn_hit': 2}}, 'checkpoint': 180} \n",
      "\n",
      "\n",
      "{'accuracy': 0.9691358024691358, 'mean_square_error': 0.0462389059705342, 'categorical_crossentropy': 0.07490090970639829, 'essential_metrics': {0: {'tp_hit': 75, 'fp_hit': 4, 'tn_hit': 28, 'fn_hit': 1}, 1: {'tp_hit': 15, 'fp_hit': 0, 'tn_hit': 91, 'fn_hit': 2}, 2: {'tp_hit': 13, 'fp_hit': 1, 'tn_hit': 92, 'fn_hit': 2}}, 'checkpoint': 190} \n",
      "\n",
      "\n",
      "{'accuracy': 0.9629629629629629, 'mean_square_error': 0.051686559646603354, 'categorical_crossentropy': 0.08034673443547001, 'essential_metrics': {0: {'tp_hit': 75, 'fp_hit': 5, 'tn_hit': 27, 'fn_hit': 1}, 1: {'tp_hit': 14, 'fp_hit': 0, 'tn_hit': 91, 'fn_hit': 3}, 2: {'tp_hit': 13, 'fp_hit': 1, 'tn_hit': 92, 'fn_hit': 2}}, 'checkpoint': 200} \n",
      "\n",
      "\n"
     ]
    }
   ],
   "source": [
    "for checkpoint in checkpoints:\n",
    "    print(checkpoint, '\\n\\n')"
   ]
  },
  {
   "cell_type": "code",
   "execution_count": 14,
   "metadata": {},
   "outputs": [
    {
     "name": "stdout",
     "output_type": "stream",
     "text": [
      "Layer 1\n",
      "Neuron 0: weights:\n",
      "[ 1.5750157 -3.        -0.7077033  0.624357   3.       ]\n",
      " bias: -3.0\n",
      "\n",
      "Neuron 1: weights:\n",
      "[-0.49576604  3.          1.7014208  -2.892897   -0.9143925 ]\n",
      " bias: 3.0\n",
      "\n",
      "Neuron 2: weights:\n",
      "[ 0.9182439  -2.2716737  -1.817697   -0.69760406  3.        ]\n",
      " bias: 3.0\n",
      "\n",
      "Neuron 3: weights:\n",
      "[-1.9436743   3.          2.596569    1.325744   -0.34832737]\n",
      " bias: -3.0\n",
      "\n",
      "$\n",
      "Layer 2\n",
      "Neuron 0: weights:\n",
      "[-3.         3.         3.        -2.9619675]\n",
      " bias: 0.11092476546764374\n",
      "\n",
      "Neuron 1: weights:\n",
      "[-2.315645    0.50376016 -3.          3.        ]\n",
      " bias: 1.5706552267074585\n",
      "\n",
      "Neuron 2: weights:\n",
      "[ 3.         -3.          0.66184783 -1.3561367 ]\n",
      " bias: 0.7365046739578247\n",
      "\n",
      "$\n",
      "\n"
     ]
    }
   ],
   "source": [
    "print(model)"
   ]
  },
  {
   "cell_type": "code",
   "execution_count": null,
   "metadata": {},
   "outputs": [],
   "source": []
  }
 ],
 "metadata": {
  "kernelspec": {
   "display_name": "Python 3",
   "language": "python",
   "name": "python3"
  },
  "language_info": {
   "codemirror_mode": {
    "name": "ipython",
    "version": 3
   },
   "file_extension": ".py",
   "mimetype": "text/x-python",
   "name": "python",
   "nbconvert_exporter": "python",
   "pygments_lexer": "ipython3",
   "version": "3.6.12"
  }
 },
 "nbformat": 4,
 "nbformat_minor": 2
}
