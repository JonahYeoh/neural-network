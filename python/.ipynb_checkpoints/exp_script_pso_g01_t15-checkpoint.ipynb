{
 "cells": [
  {
   "cell_type": "code",
   "execution_count": 1,
   "metadata": {},
   "outputs": [],
   "source": [
    "# dependency\n",
    "import numpy as np\n",
    "import pandas as pd\n",
    "import copy\n",
    "import math\n",
    "import sys\n",
    "import os\n",
    "from activations import relu, leaky_relu, sigmoid, tanh, softmax, d_sigmoid, d_relu\n",
    "from initializers import glorot_uniform, random_normal, random_uniform\n",
    "from regularizers import l1_regularizer, l2_regularizer\n",
    "from utility import trim_tail, multiply, subtract, get_nparams, one_hot_encoding, get_data\n",
    "from metrics import MSE, CCE, ACC, PRECISION, RECALL, essential_metrics, wondering_penalty, close_gap_penalty\n",
    "from pso import PSO\n",
    "from ga import GA\n",
    "from nn import Network\n",
    "from layer import DenseLayer\n",
    "from scalers import MinMaxScaler, StandardScaler"
   ]
  },
  {
   "cell_type": "code",
   "execution_count": 2,
   "metadata": {},
   "outputs": [],
   "source": [
    "# reference\n",
    "metrics_fn_dict = dict()\n",
    "metrics_fn_dict['accuracy'] = ACC\n",
    "metrics_fn_dict['categorical_crossentropy'] = CCE\n",
    "metrics_fn_dict['mean_square_error'] = MSE\n",
    "metrics_fn_dict['precision'] = PRECISION\n",
    "metrics_fn_dict['recall'] = RECALL\n",
    "metrics_fn_dict['essential_metrics'] = essential_metrics"
   ]
  },
  {
   "cell_type": "code",
   "execution_count": 3,
   "metadata": {},
   "outputs": [],
   "source": [
    "# model\n",
    "model = Network(5, lr = None)\n",
    "model.add_layer(DenseLayer(1, 4, True, afn=sigmoid, dafn=None, rfn=None))\n",
    "model.add_layer(DenseLayer(2, 3, True, afn=softmax, dafn=None, rfn=None))"
   ]
  },
  {
   "cell_type": "code",
   "execution_count": 4,
   "metadata": {},
   "outputs": [
    {
     "name": "stdout",
     "output_type": "stream",
     "text": [
      "see one see two 2 0.5\n"
     ]
    }
   ],
   "source": [
    "pso = PSO(dict(m = 50,\n",
    "    weight_constraint = [-3, 3], \n",
    "    velocity_constraint = [-0.1, 0.1],\n",
    "    c1 = [0.5, 2],\n",
    "    c2 = [0.5, 2],\n",
    "    w = [0.5, 1.6],\n",
    "    w_decay = 0.95,\n",
    "    scale_hyperparameter = False,\n",
    "    regularizer = None,\n",
    "    mask = None))"
   ]
  },
  {
   "cell_type": "code",
   "execution_count": 5,
   "metadata": {},
   "outputs": [
    {
     "name": "stdout",
     "output_type": "stream",
     "text": [
      "building layer 1 with 5\n",
      "24\n",
      "building layer 2 with 4\n",
      "15\n"
     ]
    }
   ],
   "source": [
    "model.compile(loss_fn = 'categorical_crossentropy', optimizer = pso, \\\n",
    "    metrics = ['accuracy', 'mean_square_error', 'categorical_crossentropy'])"
   ]
  },
  {
   "cell_type": "code",
   "execution_count": 6,
   "metadata": {},
   "outputs": [
    {
     "name": "stdout",
     "output_type": "stream",
     "text": [
      "<class 'pandas.core.frame.DataFrame'>\n",
      "RangeIndex: 107 entries, 0 to 106\n",
      "Data columns (total 6 columns):\n",
      " #   Column  Non-Null Count  Dtype  \n",
      "---  ------  --------------  -----  \n",
      " 0   f1      107 non-null    float32\n",
      " 1   f2      107 non-null    float32\n",
      " 2   f3      107 non-null    float32\n",
      " 3   f4      107 non-null    float32\n",
      " 4   f5      107 non-null    float32\n",
      " 5   label   107 non-null    float32\n",
      "dtypes: float32(6)\n",
      "memory usage: 2.6 KB\n",
      "None\n",
      "<class 'pandas.core.frame.DataFrame'>\n",
      "RangeIndex: 108 entries, 0 to 107\n",
      "Data columns (total 6 columns):\n",
      " #   Column  Non-Null Count  Dtype  \n",
      "---  ------  --------------  -----  \n",
      " 0   f1      108 non-null    float32\n",
      " 1   f2      108 non-null    float32\n",
      " 2   f3      108 non-null    float32\n",
      " 3   f4      108 non-null    float32\n",
      " 4   f5      108 non-null    float32\n",
      " 5   label   108 non-null    float32\n",
      "dtypes: float32(6)\n",
      "memory usage: 2.7 KB\n",
      "None\n"
     ]
    }
   ],
   "source": [
    "# data loading\n",
    "DATA = os.path.join('c:\\\\Users\\\\tcumi\\\\github_repo\\\\neural-network\\\\', 'dataset')\n",
    "GROUP = 1\n",
    "COLUMNS = ['f1', 'f2', 'f3', 'f4', 'f5', 'label']\n",
    "N_CLASS = 3\n",
    "EPOCHS = 500\n",
    "train_dir, test_dir = \"..//dataset//training_data{}.txt\".format(GROUP), \"..//dataset//testing_data{}.txt\".format(GROUP)\n",
    "train, test = get_data(DATA, train_dir, COLUMNS), get_data(DATA, test_dir, COLUMNS)\n",
    "# shuffle\n",
    "train, test = train.sample(frac=1), test.sample(frac=1)\n",
    "x_train, y_train = train.drop('label', axis=1), train['label']\n",
    "x_test, y_test = test.drop('label', axis=1), test['label']"
   ]
  },
  {
   "cell_type": "code",
   "execution_count": 7,
   "metadata": {},
   "outputs": [],
   "source": [
    "# data scaling and encoding\n",
    "scaler = StandardScaler(['f1', 'f2', 'f3', 'f4', 'f5'])\n",
    "scaler.fit(x_train)\n",
    "x_train = scaler.transform(x_train)\n",
    "x_test = scaler.transform(x_test)\n",
    "y_train = one_hot_encoding(y_train, N_CLASS)\n",
    "y_test = one_hot_encoding(y_test, N_CLASS)"
   ]
  },
  {
   "cell_type": "code",
   "execution_count": 8,
   "metadata": {
    "tags": [
     "outputPrepend"
    ]
   },
   "outputs": [
    {
     "name": "stdout",
     "output_type": "stream",
     "text": [
      "Checkpoint 100, Accuracy: 0.9567901234567902, Loss: 0.2788958726105867\n",
      "Checkpoint 200, Accuracy: 0.9691358024691358, Loss: 0.1291070337648745\n",
      "Checkpoint 300, Accuracy: 0.9629629629629629, Loss: 0.12451873002228914\n",
      "Checkpoint 400, Accuracy: 0.9691358024691358, Loss: 0.10436076588100857\n",
      "Checkpoint 500, Accuracy: 0.9691358024691358, Loss: 0.10436076588100857\n"
     ]
    }
   ],
   "source": [
    "# learning phase\n",
    "breakpoint = 100\n",
    "checkpoints = list()\n",
    "history = list()\n",
    "for century in range(0, EPOCHS, breakpoint):\n",
    "    sub_history = model.fit(x_train, y_train, breakpoint, verbose = 0)\n",
    "    score = model.evaluate(x_test, y_test, False, verbose = 0)\n",
    "    print('Checkpoint {}, Accuracy: {}, Loss: {}'.format(century+breakpoint, score['accuracy'], score[model.loss_fn]))\n",
    "    score['checkpoint'] = century + breakpoint\n",
    "    checkpoints.append(score)\n",
    "    history.extend(sub_history)\n",
    "    itr = century + breakpoint\n",
    "    model.optimizer.c1 = np.max([model.optimizer.C1[1] - ((model.optimizer.C1[1] - model.optimizer.C1[0]) * itr / EPOCHS), model.optimizer.C1[0]])\n",
    "    model.optimizer.c2 = np.min([model.optimizer.C2[0] + ((model.optimizer.C2[1] - model.optimizer.C2[0]) * itr / EPOCHS), model.optimizer.C2[1]])\n",
    "    model.optimizer.w = np.max([model.optimizer.w * model.optimizer.W_Decay, model.optimizer.W[0]])"
   ]
  },
  {
   "cell_type": "code",
   "execution_count": 9,
   "metadata": {},
   "outputs": [],
   "source": [
    "import matplotlib.pyplot as plt\n",
    "\n",
    "def draw_plot(x, y_list, x_label=None, y_label=None, legend=None, title=None):\n",
    "    fig, ax = plt.subplots(figsize=(12,5))\n",
    "    for xi, yi in zip(x, y_list):\n",
    "        ax.plot(xi, yi)\n",
    "    if x_label is not None and y_label is not None:\n",
    "        ax.set(xlabel=x_label, ylabel=y_label, title='{} VS {}'.format(x_label, y_label))\n",
    "    if legend is not None:\n",
    "        ax.legend(legend)\n",
    "    ax.grid()\n",
    "    plt.show()"
   ]
  },
  {
   "cell_type": "code",
   "execution_count": 10,
   "metadata": {},
   "outputs": [
    {
     "name": "stdout",
     "output_type": "stream",
     "text": [
      "[1. 0. 0.] <-> [0.9950536  0.00136238 0.00358411]\n",
      "[1. 0. 0.] <-> [0.9970341  0.00149072 0.00147521]\n",
      "[0. 0. 1.] <-> [6.3935905e-03 3.8220951e-05 9.9356824e-01]\n",
      "[0. 1. 0.] <-> [0.03292667 0.9630099  0.00406342]\n",
      "[1. 0. 0.] <-> [0.96018803 0.00178142 0.03803053]\n",
      "[0. 0. 1.] <-> [1.6331775e-02 7.3598305e-05 9.8359460e-01]\n",
      "[0. 1. 0.] <-> [0.01128735 0.9854037  0.00330886]\n",
      "[1. 0. 0.] <-> [0.9963206  0.00196238 0.00171708]\n",
      "[0. 0. 1.] <-> [7.7982452e-03 4.4921417e-05 9.9215686e-01]\n",
      "[1. 0. 0.] <-> [0.99716264 0.0012529  0.00158439]\n",
      "[1. 0. 0.] <-> [0.99682593 0.00134371 0.00183039]\n",
      "[0. 0. 1.] <-> [6.3563497e-03 3.8052105e-05 9.9360561e-01]\n",
      "[1. 0. 0.] <-> [0.99478614 0.00135759 0.00385622]\n",
      "[1. 0. 0.] <-> [0.99648213 0.00116342 0.00235441]\n",
      "[1. 0. 0.] <-> [0.8087391  0.00209523 0.1891656 ]\n",
      "[1. 0. 0.] <-> [0.9469867  0.04488331 0.00812999]\n",
      "[1. 0. 0.] <-> [0.9960257  0.0013529  0.00262146]\n",
      "[1. 0. 0.] <-> [0.9928477  0.00136681 0.0057855 ]\n",
      "[1. 0. 0.] <-> [0.942475   0.00195394 0.05557109]\n",
      "[1. 0. 0.] <-> [0.9901216  0.00554629 0.00433214]\n",
      "[1. 0. 0.] <-> [0.41877422 0.56694096 0.01428474]\n",
      "[1. 0. 0.] <-> [0.91409284 0.07756522 0.00834192]\n",
      "[1. 0. 0.] <-> [0.99722075 0.00122308 0.00155607]\n",
      "[1. 0. 0.] <-> [0.9957385  0.00193917 0.0023223 ]\n",
      "[1. 0. 0.] <-> [0.9960459  0.00139894 0.00255512]\n",
      "[1. 0. 0.] <-> [0.9921638  0.00134855 0.00648757]\n",
      "[1. 0. 0.] <-> [0.99676776 0.00154167 0.00169059]\n",
      "[0. 1. 0.] <-> [0.5803233  0.409188   0.01048872]\n",
      "[1. 0. 0.] <-> [0.9971806  0.00121458 0.00160495]\n",
      "[1. 0. 0.] <-> [0.9852846  0.00160691 0.01310841]\n",
      "[1. 0. 0.] <-> [0.9960836  0.0022521  0.00166429]\n",
      "[1. 0. 0.] <-> [0.99465793 0.0013151  0.00402691]\n",
      "[1. 0. 0.] <-> [0.9893658  0.00148796 0.00914629]\n",
      "[0. 0. 1.] <-> [0.5629367  0.00158458 0.43547866]\n",
      "[1. 0. 0.] <-> [0.938282   0.00181984 0.05989819]\n",
      "[1. 0. 0.] <-> [0.99330443 0.00135715 0.00533845]\n",
      "[0. 0. 1.] <-> [6.3553834e-03 3.8047892e-05 9.9360657e-01]\n",
      "[1. 0. 0.] <-> [0.9964592  0.00138461 0.00215619]\n",
      "[0. 1. 0.] <-> [0.00673794 0.99076384 0.00249826]\n",
      "[1. 0. 0.] <-> [0.9961726  0.00122201 0.00260547]\n",
      "[1. 0. 0.] <-> [0.9945945  0.00143347 0.00397206]\n",
      "[1. 0. 0.] <-> [0.9966983  0.00174161 0.00156008]\n",
      "[0. 1. 0.] <-> [0.0122209  0.9846659  0.00311321]\n",
      "[1. 0. 0.] <-> [0.9763534  0.00165251 0.02199407]\n",
      "[1. 0. 0.] <-> [0.9615747  0.00170522 0.03672012]\n",
      "[1. 0. 0.] <-> [0.9855635  0.01048695 0.0039495 ]\n",
      "[0. 0. 1.] <-> [9.6357070e-02 4.1031404e-04 9.0323263e-01]\n",
      "[1. 0. 0.] <-> [0.99742496 0.00119019 0.00138483]\n",
      "[1. 0. 0.] <-> [0.99343216 0.0013427  0.00522507]\n",
      "[1. 0. 0.] <-> [0.994719   0.00323144 0.00204953]\n",
      "[1. 0. 0.] <-> [0.9953302  0.00128043 0.00338944]\n",
      "[1. 0. 0.] <-> [0.9964025  0.00179128 0.00180623]\n",
      "[0. 1. 0.] <-> [0.00853145 0.98874134 0.00272718]\n",
      "[1. 0. 0.] <-> [0.99689734 0.00139043 0.0017122 ]\n",
      "[0. 0. 1.] <-> [6.6698915e-03 3.9343617e-05 9.9329078e-01]\n",
      "[1. 0. 0.] <-> [0.99579793 0.00167428 0.00252782]\n",
      "[1. 0. 0.] <-> [0.99070376 0.00610027 0.00319594]\n",
      "[1. 0. 0.] <-> [0.98689866 0.00989794 0.00320338]\n",
      "[0. 1. 0.] <-> [0.32497835 0.65937567 0.01564601]\n",
      "[0. 0. 1.] <-> [6.7853024e-03 3.9815230e-05 9.9317485e-01]\n",
      "[1. 0. 0.] <-> [0.9943889  0.00131362 0.0042974 ]\n",
      "[0. 1. 0.] <-> [0.00643094 0.9911122  0.00245697]\n",
      "[1. 0. 0.] <-> [0.99714893 0.00145012 0.001401  ]\n",
      "[1. 0. 0.] <-> [0.99491787 0.00291356 0.0021685 ]\n",
      "[0. 1. 0.] <-> [0.00647071 0.99106544 0.00246372]\n",
      "[1. 0. 0.] <-> [0.9970186  0.0012804  0.00170099]\n",
      "[1. 0. 0.] <-> [0.99653196 0.00180119 0.00166682]\n",
      "[0. 0. 1.] <-> [6.3553834e-03 3.8047892e-05 9.9360657e-01]\n",
      "[1. 0. 0.] <-> [0.9945174  0.00131662 0.00416601]\n",
      "[1. 0. 0.] <-> [0.9956774  0.00124155 0.00308104]\n",
      "[1. 0. 0.] <-> [0.99273854 0.00135761 0.00590379]\n",
      "[1. 0. 0.] <-> [0.99195886 0.00533659 0.00270459]\n",
      "[1. 0. 0.] <-> [0.9793311  0.00157075 0.01909811]\n",
      "[1. 0. 0.] <-> [0.99600816 0.00239001 0.00160185]\n",
      "[1. 0. 0.] <-> [0.9885768  0.00147196 0.00995129]\n",
      "[1. 0. 0.] <-> [1.6343853e-02 8.7235894e-05 9.8356885e-01]\n",
      "[1. 0. 0.] <-> [0.99517435 0.00131882 0.00350684]\n",
      "[1. 0. 0.] <-> [0.99198145 0.0013867  0.00663173]\n",
      "[1. 0. 0.] <-> [0.99639446 0.00124808 0.00235737]\n",
      "[1. 0. 0.] <-> [0.99725014 0.00118824 0.0015616 ]\n",
      "[1. 0. 0.] <-> [0.9962275  0.00121106 0.00256146]\n",
      "[1. 0. 0.] <-> [0.8588028  0.00196906 0.1392282 ]\n",
      "[1. 0. 0.] <-> [0.99634224 0.00204516 0.00161259]\n",
      "[1. 0. 0.] <-> [0.33343422 0.00102219 0.66554356]\n",
      "[1. 0. 0.] <-> [0.99654585 0.00188889 0.00156528]\n",
      "[1. 0. 0.] <-> [0.88737124 0.00177384 0.11085489]\n",
      "[0. 1. 0.] <-> [0.42777663 0.5543015  0.01792184]\n",
      "[0. 1. 0.] <-> [0.02074948 0.97526336 0.0039872 ]\n",
      "[1. 0. 0.] <-> [0.99112016 0.0014355  0.00744435]\n",
      "[0. 1. 0.] <-> [0.13531806 0.8532842  0.01139773]\n",
      "[1. 0. 0.] <-> [0.9961389  0.00210669 0.00175441]\n",
      "[1. 0. 0.] <-> [0.9640817  0.00174683 0.03417153]\n",
      "[1. 0. 0.] <-> [0.54256505 0.00154466 0.45589027]\n",
      "[1. 0. 0.] <-> [0.98300827 0.00155728 0.01543446]\n",
      "[1. 0. 0.] <-> [0.9974565  0.00123157 0.00131187]\n",
      "[0. 1. 0.] <-> [0.00643074 0.9911124  0.00245682]\n",
      "[1. 0. 0.] <-> [0.9939434  0.00132708 0.00472957]\n",
      "[1. 0. 0.] <-> [0.9969318  0.00139908 0.00166921]\n",
      "[1. 0. 0.] <-> [0.9176577  0.00179147 0.08055093]\n",
      "[1. 0. 0.] <-> [0.9962196  0.00218332 0.00159701]\n",
      "[0. 0. 1.] <-> [6.3554314e-03 3.8048078e-05 9.9360657e-01]\n",
      "[0. 0. 1.] <-> [6.6612246e-03 3.9381572e-05 9.9329937e-01]\n",
      "[1. 0. 0.] <-> [0.99583226 0.00133336 0.00283444]\n",
      "[1. 0. 0.] <-> [0.99581844 0.00219293 0.0019886 ]\n",
      "[0. 0. 1.] <-> [6.3562323e-03 3.8051454e-05 9.9360573e-01]\n",
      "[0. 1. 0.] <-> [0.00665541 0.99085885 0.00248571]\n",
      "[0. 1. 0.] <-> [0.00643074 0.99110866 0.00246053]\n",
      "[1. 0. 0.] <-> [0.9968412  0.00121184 0.00194693]\n",
      "{'accuracy': 0.9691358024691358, 'mean_square_error': 0.056350871768252854, 'categorical_crossentropy': 0.10436076588100857, 'essential_metrics': {0: {'tp_hit': 77, 'fp_hit': 2, 'tn_hit': 26, 'fn_hit': 3}, 1: {'tp_hit': 14, 'fp_hit': 1, 'tn_hit': 92, 'fn_hit': 1}, 2: {'tp_hit': 12, 'fp_hit': 2, 'tn_hit': 93, 'fn_hit': 1}}}\n"
     ]
    }
   ],
   "source": [
    "# recall phase\n",
    "score = model.evaluate(x_test, y_test, False)\n",
    "print(score)"
   ]
  },
  {
   "cell_type": "code",
   "execution_count": 11,
   "metadata": {},
   "outputs": [
    {
     "data": {
      "image/png": "[encoded data removed]",
      "text/plain": [
       "<Figure size 864x360 with 1 Axes>"
      ]
     },
     "metadata": {
      "needs_background": "light"
     },
     "output_type": "display_data"
    },
    {
     "data": {
      "image/png": "[encoded data removed]",
      "text/plain": [
       "<Figure size 864x360 with 1 Axes>"
      ]
     },
     "metadata": {
      "needs_background": "light"
     },
     "output_type": "display_data"
    }
   ],
   "source": [
    "draw_plot(x = [[i for i in range(len(history))], [(i+1)*breakpoint for i in range(len(checkpoints))]], y_list = [history, [ ckp[model.loss_fn] for ckp in checkpoints ]], x_label = 'Epochs', \\\n",
    "    y_label = model.loss_fn, legend=['train', 'test'])\n",
    "acc = [ ckp['accuracy'] for ckp in checkpoints ]\n",
    "draw_plot(x = [[(i+1)*breakpoint for i in range(len(checkpoints))]], y_list = [acc], x_label = 'Checkpoints', \\\n",
    "    y_label = 'accuracy')"
   ]
  },
  {
   "cell_type": "code",
   "execution_count": 12,
   "metadata": {},
   "outputs": [
    {
     "name": "stdout",
     "output_type": "stream",
     "text": [
      "{'accuracy': 0.9567901234567902, 'mean_square_error': 0.13400504346194722, 'categorical_crossentropy': 0.2788958726105867, 'essential_metrics': {0: {'tp_hit': 77, 'fp_hit': 4, 'tn_hit': 24, 'fn_hit': 3}, 1: {'tp_hit': 12, 'fp_hit': 0, 'tn_hit': 93, 'fn_hit': 3}, 2: {'tp_hit': 12, 'fp_hit': 3, 'tn_hit': 92, 'fn_hit': 1}}, 'checkpoint': 100} \n",
      "\n",
      "\n",
      "{'accuracy': 0.9691358024691358, 'mean_square_error': 0.07367242225171981, 'categorical_crossentropy': 0.1291070337648745, 'essential_metrics': {0: {'tp_hit': 77, 'fp_hit': 2, 'tn_hit': 26, 'fn_hit': 3}, 1: {'tp_hit': 14, 'fp_hit': 0, 'tn_hit': 93, 'fn_hit': 1}, 2: {'tp_hit': 12, 'fp_hit': 3, 'tn_hit': 92, 'fn_hit': 1}}, 'checkpoint': 200} \n",
      "\n",
      "\n",
      "{'accuracy': 0.9629629629629629, 'mean_square_error': 0.07066426449887703, 'categorical_crossentropy': 0.12451873002228914, 'essential_metrics': {0: {'tp_hit': 76, 'fp_hit': 2, 'tn_hit': 26, 'fn_hit': 4}, 1: {'tp_hit': 14, 'fp_hit': 1, 'tn_hit': 92, 'fn_hit': 1}, 2: {'tp_hit': 12, 'fp_hit': 3, 'tn_hit': 92, 'fn_hit': 1}}, 'checkpoint': 300} \n",
      "\n",
      "\n",
      "{'accuracy': 0.9691358024691358, 'mean_square_error': 0.056350871768252854, 'categorical_crossentropy': 0.10436076588100857, 'essential_metrics': {0: {'tp_hit': 77, 'fp_hit': 2, 'tn_hit': 26, 'fn_hit': 3}, 1: {'tp_hit': 14, 'fp_hit': 1, 'tn_hit': 92, 'fn_hit': 1}, 2: {'tp_hit': 12, 'fp_hit': 2, 'tn_hit': 93, 'fn_hit': 1}}, 'checkpoint': 400} \n",
      "\n",
      "\n",
      "{'accuracy': 0.9691358024691358, 'mean_square_error': 0.056350871768252854, 'categorical_crossentropy': 0.10436076588100857, 'essential_metrics': {0: {'tp_hit': 77, 'fp_hit': 2, 'tn_hit': 26, 'fn_hit': 3}, 1: {'tp_hit': 14, 'fp_hit': 1, 'tn_hit': 92, 'fn_hit': 1}, 2: {'tp_hit': 12, 'fp_hit': 2, 'tn_hit': 93, 'fn_hit': 1}}, 'checkpoint': 500} \n",
      "\n",
      "\n"
     ]
    }
   ],
   "source": [
    "for checkpoint in checkpoints:\n",
    "    print(checkpoint, '\\n\\n')"
   ]
  },
  {
   "cell_type": "code",
   "execution_count": 13,
   "metadata": {},
   "outputs": [
    {
     "name": "stdout",
     "output_type": "stream",
     "text": [
      "Layer 1\n",
      "Neuron 0: weights:\n",
      "[ 1.7744446 -3.        -1.5989339 -0.7406902  2.6591327]\n",
      " bias: 3.0\n",
      "\n",
      "Neuron 1: weights:\n",
      "[ 1.9626163 -3.        -3.        -1.4118546  2.6885037]\n",
      " bias: 3.0\n",
      "\n",
      "Neuron 2: weights:\n",
      "[ 0.45733538 -3.         -0.70558393 -0.15562609  3.        ]\n",
      " bias: -3.0\n",
      "\n",
      "Neuron 3: weights:\n",
      "[-0.17288634 -3.         -0.34145525  3.          3.        ]\n",
      " bias: -2.2611823081970215\n",
      "\n",
      "$\n",
      "Layer 2\n",
      "Neuron 0: weights:\n",
      "[ 3.  3. -3. -3.]\n",
      " bias: -2.037773370742798\n",
      "\n",
      "Neuron 1: weights:\n",
      "[-3.        -3.        -1.1559852 -3.       ]\n",
      " bias: 3.0\n",
      "\n",
      "Neuron 2: weights:\n",
      "[-1.6367456  1.6510111  3.         3.       ]\n",
      " bias: -3.0\n",
      "\n",
      "$\n",
      "\n"
     ]
    }
   ],
   "source": [
    "print(model)"
   ]
  }
 ],
 "metadata": {
  "kernelspec": {
   "display_name": "Python 3",
   "language": "python",
   "name": "python3"
  },
  "language_info": {
   "codemirror_mode": {
    "name": "ipython",
    "version": 3
   },
   "file_extension": ".py",
   "mimetype": "text/x-python",
   "name": "python",
   "nbconvert_exporter": "python",
   "pygments_lexer": "ipython3",
   "version": "3.6.10"
  }
 },
 "nbformat": 4,
 "nbformat_minor": 2
}
