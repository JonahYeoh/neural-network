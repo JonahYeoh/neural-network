{
 "cells": [
  {
   "cell_type": "code",
   "execution_count": 1,
   "metadata": {},
   "outputs": [],
   "source": [
    "# dependency\n",
    "import numpy as np\n",
    "import pandas as pd\n",
    "import copy\n",
    "import math\n",
    "import sys\n",
    "import os\n",
    "from activations import relu, leaky_relu, sigmoid, tanh, softmax, d_sigmoid, d_relu\n",
    "from initializers import glorot_uniform, random_normal, random_uniform\n",
    "from regularizers import l1_regularizer, l2_regularizer\n",
    "from utility import trim_tail, multiply, subtract, get_nparams, one_hot_encoding, get_data\n",
    "from metrics import MSE, CCE, ACC, PRECISION, RECALL, essential_metrics, wondering_penalty, close_gap_penalty\n",
    "from pso import PSO\n",
    "from ga import GA\n",
    "from nn import Network\n",
    "from layer import DenseLayer\n",
    "from scalers import MinMaxScaler, StandardScaler"
   ]
  },
  {
   "cell_type": "code",
   "execution_count": 2,
   "metadata": {},
   "outputs": [],
   "source": [
    "# reference\n",
    "metrics_fn_dict = dict()\n",
    "metrics_fn_dict['accuracy'] = ACC\n",
    "metrics_fn_dict['categorical_crossentropy'] = CCE\n",
    "metrics_fn_dict['mean_square_error'] = MSE\n",
    "metrics_fn_dict['precision'] = PRECISION\n",
    "metrics_fn_dict['recall'] = RECALL\n",
    "metrics_fn_dict['essential_metrics'] = essential_metrics"
   ]
  },
  {
   "cell_type": "code",
   "execution_count": 3,
   "metadata": {},
   "outputs": [],
   "source": [
    "# model\n",
    "model = Network(5, lr = None)\n",
    "model.add_layer(DenseLayer(1, 4, True, afn=sigmoid, dafn=None, rfn=None))\n",
    "model.add_layer(DenseLayer(2, 3, True, afn=softmax, dafn=None, rfn=None))"
   ]
  },
  {
   "cell_type": "code",
   "execution_count": 4,
   "metadata": {},
   "outputs": [
    {
     "name": "stdout",
     "output_type": "stream",
     "text": [
      "see one see two 2 0.5\n"
     ]
    }
   ],
   "source": [
    "pso = PSO(dict(m = 200,\n",
    "    weight_constraint = [-3, 3], \n",
    "    velocity_constraint = [-0.1, 0.1],\n",
    "    c1 = [0.5, 2],\n",
    "    c2 = [0.5, 2],\n",
    "    w = [0.5, 1.6],\n",
    "    w_decay = 0.95,\n",
    "    scale_hyperparameter = False,\n",
    "    regularizer = None,\n",
    "    mask = True))"
   ]
  },
  {
   "cell_type": "code",
   "execution_count": 5,
   "metadata": {},
   "outputs": [
    {
     "name": "stdout",
     "output_type": "stream",
     "text": [
      "building layer 1 with 5\n",
      "24\n",
      "building layer 2 with 4\n",
      "15\n"
     ]
    }
   ],
   "source": [
    "model.compile(loss_fn = 'categorical_crossentropy', optimizer = pso, \\\n",
    "    metrics = ['accuracy', 'mean_square_error', 'categorical_crossentropy'])"
   ]
  },
  {
   "cell_type": "code",
   "execution_count": 6,
   "metadata": {},
   "outputs": [
    {
     "name": "stdout",
     "output_type": "stream",
     "text": [
      "<class 'pandas.core.frame.DataFrame'>\n",
      "RangeIndex: 107 entries, 0 to 106\n",
      "Data columns (total 6 columns):\n",
      " #   Column  Non-Null Count  Dtype  \n",
      "---  ------  --------------  -----  \n",
      " 0   f1      107 non-null    float32\n",
      " 1   f2      107 non-null    float32\n",
      " 2   f3      107 non-null    float32\n",
      " 3   f4      107 non-null    float32\n",
      " 4   f5      107 non-null    float32\n",
      " 5   label   107 non-null    float32\n",
      "dtypes: float32(6)\n",
      "memory usage: 2.6 KB\n",
      "None\n",
      "<class 'pandas.core.frame.DataFrame'>\n",
      "RangeIndex: 108 entries, 0 to 107\n",
      "Data columns (total 6 columns):\n",
      " #   Column  Non-Null Count  Dtype  \n",
      "---  ------  --------------  -----  \n",
      " 0   f1      108 non-null    float32\n",
      " 1   f2      108 non-null    float32\n",
      " 2   f3      108 non-null    float32\n",
      " 3   f4      108 non-null    float32\n",
      " 4   f5      108 non-null    float32\n",
      " 5   label   108 non-null    float32\n",
      "dtypes: float32(6)\n",
      "memory usage: 2.7 KB\n",
      "None\n"
     ]
    }
   ],
   "source": [
    "# data loading\n",
    "DATA = os.path.join('c:\\\\Users\\\\Ai-lab\\\\github_repo\\\\neural-network\\\\', 'dataset')\n",
    "GROUP = 1\n",
    "COLUMNS = ['f1', 'f2', 'f3', 'f4', 'f5', 'label']\n",
    "N_CLASS = 3\n",
    "EPOCHS = 500\n",
    "train_dir, test_dir = \"..//dataset//training_data{}.txt\".format(GROUP), \"..//dataset//testing_data{}.txt\".format(GROUP)\n",
    "train, test = get_data(DATA, train_dir, COLUMNS), get_data(DATA, test_dir, COLUMNS)\n",
    "# shuffle\n",
    "train, test = train.sample(frac=1), test.sample(frac=1)\n",
    "x_train, y_train = train.drop('label', axis=1), train['label']\n",
    "x_test, y_test = test.drop('label', axis=1), test['label']"
   ]
  },
  {
   "cell_type": "code",
   "execution_count": 7,
   "metadata": {},
   "outputs": [],
   "source": [
    "# data scaling and encoding\n",
    "scaler = StandardScaler(['f1', 'f2', 'f3', 'f4', 'f5'])\n",
    "scaler.fit(x_train)\n",
    "x_train = scaler.transform(x_train)\n",
    "x_test = scaler.transform(x_test)\n",
    "y_train = one_hot_encoding(y_train, N_CLASS)\n",
    "y_test = one_hot_encoding(y_test, N_CLASS)"
   ]
  },
  {
   "cell_type": "code",
   "execution_count": 8,
   "metadata": {
    "tags": [
     "outputPrepend"
    ]
   },
   "outputs": [
    {
     "name": "stdout",
     "output_type": "stream",
     "text": [
      "Checkpoint 100, Accuracy: 0.9567901234567902, Loss: 0.17954815758599174\n",
      "Checkpoint 200, Accuracy: 0.9753086419753086, Loss: 0.11552923697012442\n",
      "Checkpoint 300, Accuracy: 0.9691358024691358, Loss: 0.11981603834364149\n",
      "Checkpoint 400, Accuracy: 0.9691358024691358, Loss: 0.12029181586371528\n",
      "Checkpoint 500, Accuracy: 0.9691358024691358, Loss: 0.11773944784093786\n"
     ]
    }
   ],
   "source": [
    "# learning phase\n",
    "breakpoint = 100\n",
    "checkpoints = list()\n",
    "history = list()\n",
    "for century in range(0, EPOCHS, breakpoint):\n",
    "    sub_history = model.fit(x_train, y_train, breakpoint, verbose = 0)\n",
    "    score = model.evaluate(x_test, y_test, False, verbose = 0)\n",
    "    print('Checkpoint {}, Accuracy: {}, Loss: {}'.format(century+breakpoint, score['accuracy'], score[model.loss_fn]))\n",
    "    score['checkpoint'] = century + breakpoint\n",
    "    checkpoints.append(score)\n",
    "    history.extend(sub_history)\n",
    "    itr = century + breakpoint\n",
    "    model.optimizer.c2 = np.max([model.optimizer.C2[1] - ((model.optimizer.C2[1] - model.optimizer.C2[0]) * itr / EPOCHS), model.optimizer.C2[0]])\n",
    "    model.optimizer.c1 = np.min([model.optimizer.C1[0] + ((model.optimizer.C1[1] - model.optimizer.C1[0]) * itr / EPOCHS), model.optimizer.C1[1]])\n",
    "    model.optimizer.w = np.max([model.optimizer.w * model.optimizer.W_Decay, model.optimizer.W[0]])"
   ]
  },
  {
   "cell_type": "code",
   "execution_count": 9,
   "metadata": {},
   "outputs": [],
   "source": [
    "train_acc = [h['accuracy'] for h in history]\n",
    "train_mse = [h['mean_square_error'] for h in history]\n",
    "train_cce = [h['categorical_crossentropy'] for h in history]"
   ]
  },
  {
   "cell_type": "code",
   "execution_count": 10,
   "metadata": {},
   "outputs": [],
   "source": [
    "import matplotlib.pyplot as plt\n",
    "\n",
    "def draw_plot(x, y_list, x_label=None, y_label=None, legend=None, title=None):\n",
    "    fig, ax = plt.subplots(figsize=(12,5))\n",
    "    for xi, yi in zip(x, y_list):\n",
    "        ax.plot(xi, yi)\n",
    "    if x_label is not None and y_label is not None:\n",
    "        ax.set(xlabel=x_label, ylabel=y_label, title='{} VS {}'.format(x_label, y_label))\n",
    "    if legend is not None:\n",
    "        ax.legend(legend)\n",
    "    ax.grid()\n",
    "    plt.show()"
   ]
  },
  {
   "cell_type": "code",
   "execution_count": 11,
   "metadata": {},
   "outputs": [
    {
     "data": {
      "image/png": "[encoded data removed]",
      "text/plain": [
       "<Figure size 864x360 with 1 Axes>"
      ]
     },
     "metadata": {
      "needs_background": "light"
     },
     "output_type": "display_data"
    },
    {
     "data": {
      "image/png": "[encoded data removed]",
      "text/plain": [
       "<Figure size 864x360 with 1 Axes>"
      ]
     },
     "metadata": {
      "needs_background": "light"
     },
     "output_type": "display_data"
    }
   ],
   "source": [
    "draw_plot(x = [[i for i in range(len(history))], [(i+1)*breakpoint for i in range(len(checkpoints))]], y_list = [train_cce, [ ckp[model.loss_fn] for ckp in checkpoints ]], x_label = 'Epochs', \\\n",
    "    y_label = model.loss_fn, legend=['train', 'test'])\n",
    "acc = [ ckp['accuracy'] for ckp in checkpoints ]\n",
    "draw_plot(x = [[i for i in range(len(history))], [(i+1)*breakpoint for i in range(len(checkpoints))]], y_list = [train_acc, acc], x_label = 'Checkpoints', \\\n",
    "    y_label = 'accuracy', legend=['train', 'test'])"
   ]
  },
  {
   "cell_type": "code",
   "execution_count": 12,
   "metadata": {},
   "outputs": [
    {
     "name": "stdout",
     "output_type": "stream",
     "text": [
      "[1. 0. 0.] <-> [0.98746604 0.00246791 0.01006601]\n",
      "[1. 0. 0.] <-> [0.98877454 0.00267628 0.0085492 ]\n",
      "[1. 0. 0.] <-> [0.9937395  0.00290431 0.00335615]\n",
      "[1. 0. 0.] <-> [0.99256116 0.00419307 0.00324569]\n",
      "[1. 0. 0.] <-> [0.9940679  0.00274584 0.00318633]\n",
      "[1. 0. 0.] <-> [0.9895224  0.00249643 0.00798124]\n",
      "[0. 1. 0.] <-> [2.4892164e-03 9.9750286e-01 7.9478832e-06]\n",
      "[1. 0. 0.] <-> [0.9438473  0.00245997 0.05369278]\n",
      "[0. 0. 1.] <-> [2.9432911e-03 1.1526213e-05 9.9704522e-01]\n",
      "[0. 0. 1.] <-> [2.7603456e-03 6.8451886e-06 9.9723285e-01]\n",
      "[1. 0. 0.] <-> [0.9927859  0.00270881 0.00450527]\n",
      "[1. 0. 0.] <-> [2.6980174e-01 6.7843875e-04 7.2951984e-01]\n",
      "[1. 0. 0.] <-> [0.9936148  0.00314431 0.0032408 ]\n",
      "[0. 1. 0.] <-> [4.7637019e-03 9.9522120e-01 1.5017869e-05]\n",
      "[1. 0. 0.] <-> [0.9732621  0.0025488  0.02418917]\n",
      "[1. 0. 0.] <-> [0.987115   0.00249777 0.0103873 ]\n",
      "[1. 0. 0.] <-> [0.9609895  0.00239028 0.03662023]\n",
      "[1. 0. 0.] <-> [0.9921321  0.00272705 0.00514084]\n",
      "[0. 1. 0.] <-> [3.4956222e-03 9.9649316e-01 1.1157345e-05]\n",
      "[1. 0. 0.] <-> [0.993107   0.00413769 0.00275533]\n",
      "[1. 0. 0.] <-> [0.99400324 0.00271548 0.00328133]\n",
      "[1. 0. 0.] <-> [0.9928306  0.0025978  0.00457172]\n",
      "[1. 0. 0.] <-> [0.8686556  0.00217287 0.12917155]\n",
      "[1. 0. 0.] <-> [0.45507732 0.5435889  0.00133379]\n",
      "[1. 0. 0.] <-> [0.9932835  0.00388777 0.00282869]\n",
      "[1. 0. 0.] <-> [0.99061185 0.00269437 0.00669381]\n",
      "[0. 1. 0.] <-> [2.4726980e-03 9.9751943e-01 7.8841476e-06]\n",
      "[1. 0. 0.] <-> [0.9942882  0.00282604 0.00288574]\n",
      "[0. 0. 1.] <-> [2.4726081e-03 6.1313972e-06 9.9752122e-01]\n",
      "[0. 0. 1.] <-> [2.4795253e-03 6.4198139e-06 9.9751401e-01]\n",
      "[1. 0. 0.] <-> [0.86135626 0.13611358 0.00253018]\n",
      "[1. 0. 0.] <-> [0.59728676 0.0014898  0.40122342]\n",
      "[1. 0. 0.] <-> [0.98425967 0.01149333 0.00424695]\n",
      "[1. 0. 0.] <-> [0.96910065 0.00242172 0.02847757]\n",
      "[1. 0. 0.] <-> [0.98262894 0.00246044 0.01491059]\n",
      "[0. 0. 1.] <-> [2.4726246e-03 6.1314436e-06 9.9752122e-01]\n",
      "[0. 0. 1.] <-> [2.5729446e-03 6.3907241e-06 9.9742067e-01]\n",
      "[1. 0. 0.] <-> [0.98925984 0.00249852 0.00824154]\n",
      "[1. 0. 0.] <-> [0.9938507  0.00330696 0.00284237]\n",
      "[0. 1. 0.] <-> [3.69064212e-02 9.62983370e-01 1.10189045e-04]\n",
      "[1. 0. 0.] <-> [0.9665499  0.03077887 0.00267128]\n",
      "[0. 0. 1.] <-> [2.4727362e-03 6.1317760e-06 9.9752110e-01]\n",
      "[1. 0. 0.] <-> [0.9918007  0.00444764 0.00375163]\n",
      "[1. 0. 0.] <-> [0.99109566 0.00266766 0.00623664]\n",
      "[1. 0. 0.] <-> [0.99224865 0.00274894 0.00500235]\n",
      "[1. 0. 0.] <-> [0.98535246 0.00248162 0.01216595]\n",
      "[0. 1. 0.] <-> [0.425402   0.5733867  0.00121127]\n",
      "[1. 0. 0.] <-> [0.9933942  0.00354529 0.00306044]\n",
      "[1. 0. 0.] <-> [0.993403   0.00307782 0.00351922]\n",
      "[1. 0. 0.] <-> [0.97812575 0.01921702 0.00265718]\n",
      "[1. 0. 0.] <-> [0.89954233 0.09774991 0.0027078 ]\n",
      "[1. 0. 0.] <-> [0.9191177  0.00231732 0.07856493]\n",
      "[1. 0. 0.] <-> [0.8926644  0.00226582 0.10506993]\n",
      "[1. 0. 0.] <-> [0.9934614  0.00251042 0.00402818]\n",
      "[1. 0. 0.] <-> [0.99267185 0.00477646 0.00255168]\n",
      "[1. 0. 0.] <-> [0.99008465 0.00300062 0.00691479]\n",
      "[1. 0. 0.] <-> [0.9898672  0.00255601 0.00757676]\n",
      "[0. 1. 0.] <-> [6.2464671e-03 9.9373370e-01 1.9761046e-05]\n",
      "[1. 0. 0.] <-> [0.9939464  0.00329264 0.00276101]\n",
      "[1. 0. 0.] <-> [0.9939418  0.00290239 0.00315593]\n",
      "[0. 0. 1.] <-> [3.2327091e-03 8.0213877e-06 9.9675924e-01]\n",
      "[1. 0. 0.] <-> [0.97440726 0.00245019 0.02314249]\n",
      "[1. 0. 0.] <-> [0.99288875 0.00247481 0.00463645]\n",
      "[1. 0. 0.] <-> [0.9935654  0.00317586 0.00325866]\n",
      "[1. 0. 0.] <-> [0.9888116  0.00263927 0.00854911]\n",
      "[1. 0. 0.] <-> [0.99299896 0.00373435 0.00326663]\n",
      "[1. 0. 0.] <-> [0.9929047  0.00310201 0.0039934 ]\n",
      "[1. 0. 0.] <-> [0.9910494  0.00306099 0.00588965]\n",
      "[1. 0. 0.] <-> [0.94843006 0.00237335 0.04919658]\n",
      "[0. 1. 0.] <-> [0.7753741  0.22251873 0.00210715]\n",
      "[1. 0. 0.] <-> [0.9919206  0.00283905 0.00524029]\n",
      "[1. 0. 0.] <-> [0.98816186 0.00912571 0.00271246]\n",
      "[1. 0. 0.] <-> [0.9374062  0.00274717 0.05984662]\n",
      "[0. 0. 1.] <-> [8.3406210e-02 2.0712055e-04 9.1638666e-01]\n",
      "[0. 0. 1.] <-> [2.4726081e-03 6.1313972e-06 9.9752122e-01]\n",
      "[0. 1. 0.] <-> [1.4195949e-02 9.8575979e-01 4.4180895e-05]\n",
      "[1. 0. 0.] <-> [0.9943996  0.00280661 0.00279378]\n",
      "[1. 0. 0.] <-> [0.9880093  0.0025613  0.00942945]\n",
      "[0. 0. 1.] <-> [2.4732878e-03 6.1330884e-06 9.9752051e-01]\n",
      "[0. 1. 0.] <-> [2.4726789e-03 9.9751943e-01 7.9033143e-06]\n",
      "[1. 0. 0.] <-> [0.9911355  0.00250788 0.00635656]\n",
      "[1. 0. 0.] <-> [0.98682004 0.01063312 0.00254683]\n",
      "[1. 0. 0.] <-> [0.9924912  0.00496164 0.00254721]\n",
      "[1. 0. 0.] <-> [0.99128854 0.00591766 0.00279381]\n",
      "[1. 0. 0.] <-> [0.99158406 0.00573311 0.0026828 ]\n",
      "[1. 0. 0.] <-> [0.9926432  0.00462131 0.00273546]\n",
      "[0. 0. 1.] <-> [2.4992812e-03 6.1976102e-06 9.9749458e-01]\n",
      "[0. 1. 0.] <-> [0.28751218 0.71161914 0.00086869]\n",
      "[1. 0. 0.] <-> [0.9935579  0.00268696 0.00375523]\n",
      "[1. 0. 0.] <-> [0.97391427 0.00247923 0.02360652]\n",
      "[1. 0. 0.] <-> [0.9930611  0.00424349 0.00269536]\n",
      "[1. 0. 0.] <-> [0.9922333  0.00294863 0.004818  ]\n",
      "[1. 0. 0.] <-> [0.99197704 0.00367309 0.0043499 ]\n",
      "[1. 0. 0.] <-> [0.99293655 0.00435169 0.00271179]\n",
      "[0. 1. 0.] <-> [2.6659986e-03 9.9732554e-01 8.4866242e-06]\n",
      "[1. 0. 0.] <-> [0.99356574 0.00371121 0.00272298]\n",
      "[1. 0. 0.] <-> [0.98805773 0.00250595 0.00943625]\n",
      "[0. 1. 0.] <-> [2.4726600e-03 9.9751943e-01 7.8834037e-06]\n",
      "[1. 0. 0.] <-> [0.9927256  0.00255431 0.0047201 ]\n",
      "[0. 0. 1.] <-> [0.6823655  0.0016977  0.31593674]\n",
      "[0. 1. 0.] <-> [1.1737038e-01 8.8228410e-01 3.4555170e-04]\n",
      "[1. 0. 0.] <-> [0.99288046 0.00431808 0.00280146]\n",
      "[1. 0. 0.] <-> [9.7810980e-03 2.4263192e-05 9.9019462e-01]\n",
      "[0. 1. 0.] <-> [2.5651066e-03 9.9742669e-01 8.1862909e-06]\n",
      "[1. 0. 0.] <-> [0.99391794 0.00285208 0.00322995]\n",
      "[1. 0. 0.] <-> [0.99074066 0.00273554 0.00652381]\n",
      "[1. 0. 0.] <-> [0.8953147  0.00222394 0.10246133]\n",
      "[1. 0. 0.] <-> [0.99035674 0.00258514 0.00705803]\n",
      "{'accuracy': 0.9691358024691358, 'mean_square_error': 0.06334119787019558, 'categorical_crossentropy': 0.11773944784093786, 'essential_metrics': {0: {'tp_hit': 77, 'fp_hit': 2, 'tn_hit': 26, 'fn_hit': 3}, 1: {'tp_hit': 14, 'fp_hit': 1, 'tn_hit': 92, 'fn_hit': 1}, 2: {'tp_hit': 12, 'fp_hit': 2, 'tn_hit': 93, 'fn_hit': 1}}}\n"
     ]
    }
   ],
   "source": [
    "# recall phase\n",
    "score = model.evaluate(x_test, y_test, False)\n",
    "print(score)"
   ]
  },
  {
   "cell_type": "code",
   "execution_count": 13,
   "metadata": {},
   "outputs": [
    {
     "name": "stdout",
     "output_type": "stream",
     "text": [
      "{'accuracy': 0.9567901234567902, 'mean_square_error': 0.09539422017454653, 'categorical_crossentropy': 0.17954815758599174, 'essential_metrics': {0: {'tp_hit': 79, 'fp_hit': 6, 'tn_hit': 22, 'fn_hit': 1}, 1: {'tp_hit': 11, 'fp_hit': 0, 'tn_hit': 93, 'fn_hit': 4}, 2: {'tp_hit': 11, 'fp_hit': 1, 'tn_hit': 94, 'fn_hit': 2}}, 'checkpoint': 100} \n",
      "\n",
      "\n",
      "{'accuracy': 0.9753086419753086, 'mean_square_error': 0.05888675416116715, 'categorical_crossentropy': 0.11552923697012442, 'essential_metrics': {0: {'tp_hit': 77, 'fp_hit': 1, 'tn_hit': 27, 'fn_hit': 3}, 1: {'tp_hit': 14, 'fp_hit': 1, 'tn_hit': 92, 'fn_hit': 1}, 2: {'tp_hit': 13, 'fp_hit': 2, 'tn_hit': 93, 'fn_hit': 0}}, 'checkpoint': 200} \n",
      "\n",
      "\n",
      "{'accuracy': 0.9691358024691358, 'mean_square_error': 0.06408784340843705, 'categorical_crossentropy': 0.11981603834364149, 'essential_metrics': {0: {'tp_hit': 77, 'fp_hit': 2, 'tn_hit': 26, 'fn_hit': 3}, 1: {'tp_hit': 14, 'fp_hit': 1, 'tn_hit': 92, 'fn_hit': 1}, 2: {'tp_hit': 12, 'fp_hit': 2, 'tn_hit': 93, 'fn_hit': 1}}, 'checkpoint': 300} \n",
      "\n",
      "\n",
      "{'accuracy': 0.9691358024691358, 'mean_square_error': 0.06471714357882087, 'categorical_crossentropy': 0.12029181586371528, 'essential_metrics': {0: {'tp_hit': 77, 'fp_hit': 2, 'tn_hit': 26, 'fn_hit': 3}, 1: {'tp_hit': 14, 'fp_hit': 1, 'tn_hit': 92, 'fn_hit': 1}, 2: {'tp_hit': 12, 'fp_hit': 2, 'tn_hit': 93, 'fn_hit': 1}}, 'checkpoint': 400} \n",
      "\n",
      "\n",
      "{'accuracy': 0.9691358024691358, 'mean_square_error': 0.06334119787019558, 'categorical_crossentropy': 0.11773944784093786, 'essential_metrics': {0: {'tp_hit': 77, 'fp_hit': 2, 'tn_hit': 26, 'fn_hit': 3}, 1: {'tp_hit': 14, 'fp_hit': 1, 'tn_hit': 92, 'fn_hit': 1}, 2: {'tp_hit': 12, 'fp_hit': 2, 'tn_hit': 93, 'fn_hit': 1}}, 'checkpoint': 500} \n",
      "\n",
      "\n"
     ]
    }
   ],
   "source": [
    "for checkpoint in checkpoints:\n",
    "    print(checkpoint, '\\n\\n')"
   ]
  },
  {
   "cell_type": "code",
   "execution_count": 14,
   "metadata": {},
   "outputs": [
    {
     "name": "stdout",
     "output_type": "stream",
     "text": [
      "Layer 1\n",
      "Neuron 0: weights:\n",
      "[-1.9557095  3.         1.9520918  2.5663345 -3.       ]\n",
      " bias: -3.0\n",
      "\n",
      "Neuron 1: weights:\n",
      "[-1.8922551  3.         2.1608343  2.3998373 -2.8398118]\n",
      " bias: -3.0\n",
      "\n",
      "Neuron 2: weights:\n",
      "[ 0.06283126 -3.         -0.32288414  0.9645365   3.        ]\n",
      " bias: -3.0\n",
      "\n",
      "Neuron 3: weights:\n",
      "[-0.17078635 -3.         -0.28048807  1.02217     3.        ]\n",
      " bias: -3.0\n",
      "\n",
      "$\n",
      "Layer 2\n",
      "Neuron 0: weights:\n",
      "[-3. -3. -3. -3.]\n",
      " bias: 3.0\n",
      "\n",
      "Neuron 1: weights:\n",
      "[ 3.         3.        -3.        -2.9996061]\n",
      " bias: -3.0\n",
      "\n",
      "Neuron 2: weights:\n",
      "[-2.748343 -3.        3.        3.      ]\n",
      " bias: -3.0\n",
      "\n",
      "$\n",
      "\n"
     ]
    }
   ],
   "source": [
    "print(model)"
   ]
  }
 ],
 "metadata": {
  "kernelspec": {
   "display_name": "Python 3",
   "language": "python",
   "name": "python3"
  },
  "language_info": {
   "codemirror_mode": {
    "name": "ipython",
    "version": 3
   },
   "file_extension": ".py",
   "mimetype": "text/x-python",
   "name": "python",
   "nbconvert_exporter": "python",
   "pygments_lexer": "ipython3",
   "version": "3.6.12"
  }
 },
 "nbformat": 4,
 "nbformat_minor": 2
}
