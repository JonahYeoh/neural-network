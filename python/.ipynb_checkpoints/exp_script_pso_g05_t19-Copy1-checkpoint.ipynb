{
 "cells": [
  {
   "cell_type": "code",
   "execution_count": 1,
   "metadata": {},
   "outputs": [],
   "source": [
    "# dependency\n",
    "import numpy as np\n",
    "import pandas as pd\n",
    "import copy\n",
    "import math\n",
    "import sys\n",
    "import os\n",
    "from activations import relu, leaky_relu, sigmoid, tanh, softmax, d_sigmoid, d_relu\n",
    "from initializers import glorot_uniform, random_normal, random_uniform\n",
    "from regularizers import l1_regularizer, l2_regularizer\n",
    "from utility import trim_tail, multiply, subtract, get_nparams, one_hot_encoding, get_data\n",
    "from metrics import MSE, CCE, ACC, PRECISION, RECALL, essential_metrics, wondering_penalty, close_gap_penalty\n",
    "from pso import PSO\n",
    "from ga import GA\n",
    "from nn import Network\n",
    "from layer import DenseLayer\n",
    "from scalers import MinMaxScaler, StandardScaler"
   ]
  },
  {
   "cell_type": "code",
   "execution_count": 2,
   "metadata": {},
   "outputs": [],
   "source": [
    "# reference\n",
    "metrics_fn_dict = dict()\n",
    "metrics_fn_dict['accuracy'] = ACC\n",
    "metrics_fn_dict['categorical_crossentropy'] = CCE\n",
    "metrics_fn_dict['mean_square_error'] = MSE\n",
    "metrics_fn_dict['precision'] = PRECISION\n",
    "metrics_fn_dict['recall'] = RECALL\n",
    "metrics_fn_dict['essential_metrics'] = essential_metrics"
   ]
  },
  {
   "cell_type": "code",
   "execution_count": 3,
   "metadata": {},
   "outputs": [],
   "source": [
    "# model\n",
    "model = Network(5, lr = None)\n",
    "model.add_layer(DenseLayer(1, 4, True, afn=sigmoid, dafn=None, rfn=None))\n",
    "model.add_layer(DenseLayer(2, 3, True, afn=softmax, dafn=None, rfn=None))"
   ]
  },
  {
   "cell_type": "code",
   "execution_count": 4,
   "metadata": {},
   "outputs": [
    {
     "name": "stdout",
     "output_type": "stream",
     "text": [
      "see one see two 2 0.5\n"
     ]
    }
   ],
   "source": [
    "pso = PSO(dict(m = 50,\n",
    "    weight_constraint = [-3, 3], \n",
    "    velocity_constraint = [-0.1, 0.1],\n",
    "    c1 = [0.5, 2],\n",
    "    c2 = [0.5, 2],\n",
    "    w = [0.5, 1.6],\n",
    "    w_decay = 0.95,\n",
    "    scale_hyperparameter = False,\n",
    "    regularizer = None,\n",
    "    mask = True))"
   ]
  },
  {
   "cell_type": "code",
   "execution_count": 5,
   "metadata": {},
   "outputs": [
    {
     "name": "stdout",
     "output_type": "stream",
     "text": [
      "building layer 1 with 5\n",
      "24\n",
      "building layer 2 with 4\n",
      "15\n"
     ]
    }
   ],
   "source": [
    "model.compile(loss_fn = 'categorical_crossentropy', optimizer = pso, \\\n",
    "    metrics = ['accuracy', 'mean_square_error', 'categorical_crossentropy', 'precision', 'recall', 'f1'])"
   ]
  },
  {
   "cell_type": "code",
   "execution_count": 6,
   "metadata": {},
   "outputs": [
    {
     "name": "stdout",
     "output_type": "stream",
     "text": [
      "<class 'pandas.core.frame.DataFrame'>\n",
      "RangeIndex: 107 entries, 0 to 106\n",
      "Data columns (total 6 columns):\n",
      " #   Column  Non-Null Count  Dtype  \n",
      "---  ------  --------------  -----  \n",
      " 0   f1      107 non-null    float32\n",
      " 1   f2      107 non-null    float32\n",
      " 2   f3      107 non-null    float32\n",
      " 3   f4      107 non-null    float32\n",
      " 4   f5      107 non-null    float32\n",
      " 5   label   107 non-null    float32\n",
      "dtypes: float32(6)\n",
      "memory usage: 2.6 KB\n",
      "None\n",
      "<class 'pandas.core.frame.DataFrame'>\n",
      "RangeIndex: 108 entries, 0 to 107\n",
      "Data columns (total 6 columns):\n",
      " #   Column  Non-Null Count  Dtype  \n",
      "---  ------  --------------  -----  \n",
      " 0   f1      108 non-null    float32\n",
      " 1   f2      108 non-null    float32\n",
      " 2   f3      108 non-null    float32\n",
      " 3   f4      108 non-null    float32\n",
      " 4   f5      108 non-null    float32\n",
      " 5   label   108 non-null    float32\n",
      "dtypes: float32(6)\n",
      "memory usage: 2.7 KB\n",
      "None\n"
     ]
    }
   ],
   "source": [
    "# data loading\n",
    "DATA = os.path.join('c:\\\\Users\\\\Ai-lab\\\\github_repo\\\\neural-network\\\\', 'dataset')\n",
    "GROUP = 5\n",
    "COLUMNS = ['f1', 'f2', 'f3', 'f4', 'f5', 'label']\n",
    "N_CLASS = 3\n",
    "EPOCHS = 150\n",
    "train_dir, test_dir = \"..//dataset//training_data{}.txt\".format(GROUP), \"..//dataset//testing_data{}.txt\".format(GROUP)\n",
    "train, test = get_data(DATA, train_dir, COLUMNS), get_data(DATA, test_dir, COLUMNS)\n",
    "# shuffle\n",
    "train, test = train.sample(frac=1), test.sample(frac=1)\n",
    "x_train, y_train = train.drop('label', axis=1), train['label']\n",
    "x_test, y_test = test.drop('label', axis=1), test['label']"
   ]
  },
  {
   "cell_type": "code",
   "execution_count": 7,
   "metadata": {},
   "outputs": [],
   "source": [
    "# data scaling and encoding\n",
    "scaler = StandardScaler(['f1', 'f2', 'f3', 'f4', 'f5'])\n",
    "scaler.fit(x_train)\n",
    "x_train = scaler.transform(x_train)\n",
    "x_test = scaler.transform(x_test)\n",
    "y_train = one_hot_encoding(y_train, N_CLASS)\n",
    "y_test = one_hot_encoding(y_test, N_CLASS)"
   ]
  },
  {
   "cell_type": "code",
   "execution_count": 8,
   "metadata": {
    "tags": [
     "outputPrepend"
    ]
   },
   "outputs": [
    {
     "name": "stdout",
     "output_type": "stream",
     "text": [
      "Checkpoint 10, Accuracy: 0.8580246913580247, Loss: 0.582627225805212\n",
      "Checkpoint 20, Accuracy: 0.8580246913580247, Loss: 0.5574717345061125\n",
      "Checkpoint 30, Accuracy: 0.8641975308641975, Loss: 0.5151556509512442\n",
      "Checkpoint 40, Accuracy: 0.8950617283950617, Loss: 0.5320900457876699\n",
      "Checkpoint 50, Accuracy: 0.9012345679012346, Loss: 0.4160055937590422\n",
      "Checkpoint 60, Accuracy: 0.8950617283950617, Loss: 0.4333687535038701\n",
      "Checkpoint 70, Accuracy: 0.9074074074074074, Loss: 0.4070044270268193\n",
      "Checkpoint 80, Accuracy: 0.9074074074074074, Loss: 0.394666177255136\n",
      "Checkpoint 90, Accuracy: 0.9444444444444444, Loss: 0.2911488215128581\n",
      "Checkpoint 100, Accuracy: 0.9567901234567902, Loss: 0.23760442380551938\n",
      "Checkpoint 110, Accuracy: 0.9629629629629629, Loss: 0.19790239687319156\n",
      "Checkpoint 120, Accuracy: 0.9629629629629629, Loss: 0.15752223685935693\n",
      "Checkpoint 130, Accuracy: 0.9753086419753086, Loss: 0.13567153612772623\n",
      "Checkpoint 140, Accuracy: 0.9691358024691358, Loss: 0.12091536875124331\n",
      "Checkpoint 150, Accuracy: 0.9753086419753086, Loss: 0.10916109438295718\n"
     ]
    }
   ],
   "source": [
    "# learning phase\n",
    "breakpoint = 10\n",
    "checkpoints = list()\n",
    "history = list()\n",
    "for century in range(0, EPOCHS, breakpoint):\n",
    "    sub_history = model.fit(x_train, y_train, breakpoint, verbose = 0)\n",
    "    score = model.evaluate(x_test, y_test, False, verbose = 0)\n",
    "    print('Checkpoint {}, Accuracy: {}, Loss: {}'.format(century+breakpoint, score['accuracy'], score[model.loss_fn]))\n",
    "    score['checkpoint'] = century + breakpoint\n",
    "    checkpoints.append(score)\n",
    "    history.extend(sub_history)\n",
    "    itr = century + breakpoint\n",
    "    model.optimizer.c2 = np.max([model.optimizer.C2[1] - ((model.optimizer.C2[1] - model.optimizer.C2[0]) * itr / EPOCHS), model.optimizer.C2[0]])\n",
    "    model.optimizer.c1 = np.min([model.optimizer.C1[0] + ((model.optimizer.C1[1] - model.optimizer.C1[0]) * itr / EPOCHS), model.optimizer.C1[1]])\n",
    "    model.optimizer.w = np.max([model.optimizer.w * model.optimizer.W_Decay, model.optimizer.W[0]])"
   ]
  },
  {
   "cell_type": "code",
   "execution_count": 9,
   "metadata": {},
   "outputs": [],
   "source": [
    "train_acc = [h['accuracy'] for h in history]\n",
    "train_mse = [h['mean_square_error'] for h in history]\n",
    "train_cce = [h['categorical_crossentropy'] for h in history]"
   ]
  },
  {
   "cell_type": "code",
   "execution_count": 10,
   "metadata": {},
   "outputs": [],
   "source": [
    "import matplotlib.pyplot as plt\n",
    "\n",
    "def draw_plot(x, y_list, x_label=None, y_label=None, legend=None, title=None):\n",
    "    fig, ax = plt.subplots(figsize=(12,5))\n",
    "    for xi, yi in zip(x, y_list):\n",
    "        ax.plot(xi, yi)\n",
    "    if x_label is not None and y_label is not None:\n",
    "        ax.set(xlabel=x_label, ylabel=y_label, title='{} VS {}'.format(x_label, y_label))\n",
    "    if legend is not None:\n",
    "        ax.legend(legend)\n",
    "    ax.grid()\n",
    "    plt.show()"
   ]
  },
  {
   "cell_type": "code",
   "execution_count": 11,
   "metadata": {},
   "outputs": [
    {
     "data": {
      "image/png": "[encoded data removed]",
      "text/plain": [
       "<Figure size 864x360 with 1 Axes>"
      ]
     },
     "metadata": {
      "needs_background": "light"
     },
     "output_type": "display_data"
    },
    {
     "data": {
      "image/png": "[encoded data removed]",
      "text/plain": [
       "<Figure size 864x360 with 1 Axes>"
      ]
     },
     "metadata": {
      "needs_background": "light"
     },
     "output_type": "display_data"
    }
   ],
   "source": [
    "draw_plot(x = [[i for i in range(len(history))], [(i+1)*breakpoint for i in range(len(checkpoints))]], y_list = [train_cce, [ ckp[model.loss_fn] for ckp in checkpoints ]], x_label = 'Epochs', \\\n",
    "    y_label = model.loss_fn, legend=['train', 'test'])\n",
    "acc = [ ckp['accuracy'] for ckp in checkpoints ]\n",
    "draw_plot(x = [[i for i in range(len(history))], [(i+1)*breakpoint for i in range(len(checkpoints))]], y_list = [train_acc, acc], x_label = 'Checkpoints', \\\n",
    "    y_label = 'accuracy', legend=['train', 'test'])"
   ]
  },
  {
   "cell_type": "code",
   "execution_count": 12,
   "metadata": {},
   "outputs": [
    {
     "name": "stdout",
     "output_type": "stream",
     "text": [
      "[1. 0. 0.] <-> [0.98622245 0.00815826 0.0056193 ]\n",
      "[0. 1. 0.] <-> [0.01014044 0.9879639  0.00189569]\n",
      "[0. 1. 0.] <-> [0.10193721 0.89368296 0.00437979]\n",
      "[1. 0. 0.] <-> [0.98672116 0.00663536 0.00664358]\n",
      "[1. 0. 0.] <-> [0.97202796 0.00420636 0.02376565]\n",
      "[0. 0. 1.] <-> [0.17720541 0.00250646 0.82028806]\n",
      "[1. 0. 0.] <-> [0.9773697  0.0183963  0.00423392]\n",
      "[1. 0. 0.] <-> [0.9799265  0.01101348 0.00906006]\n",
      "[1. 0. 0.] <-> [0.98241144 0.01242514 0.00516336]\n",
      "[0. 0. 1.] <-> [0.06413443 0.00237995 0.9334856 ]\n",
      "[0. 1. 0.] <-> [0.45559534 0.53817827 0.00622645]\n",
      "[1. 0. 0.] <-> [0.9473472  0.0469562  0.00569649]\n",
      "[1. 0. 0.] <-> [0.94853    0.00461304 0.04685687]\n",
      "[0. 0. 1.] <-> [0.02983532 0.00290534 0.96725935]\n",
      "[0. 1. 0.] <-> [0.00971471 0.9884034  0.00188198]\n",
      "[1. 0. 0.] <-> [0.9471673  0.00465778 0.04817491]\n",
      "[1. 0. 0.] <-> [0.93414104 0.05826791 0.00759102]\n",
      "[1. 0. 0.] <-> [0.9760023  0.01775877 0.00623896]\n",
      "[0. 1. 0.] <-> [0.01152929 0.9865259  0.00194481]\n",
      "[1. 0. 0.] <-> [0.983977   0.01191836 0.00410454]\n",
      "[1. 0. 0.] <-> [0.9814131  0.01402811 0.0045588 ]\n",
      "[1. 0. 0.] <-> [0.84320194 0.00438791 0.15241016]\n",
      "[1. 0. 0.] <-> [0.94394535 0.00489944 0.05115528]\n",
      "[1. 0. 0.] <-> [0.97251815 0.0225367  0.00494508]\n",
      "[1. 0. 0.] <-> [0.9801215  0.01625639 0.00362211]\n",
      "[1. 0. 0.] <-> [0.94903344 0.04408523 0.00688131]\n",
      "[1. 0. 0.] <-> [0.98190844 0.00535416 0.01273741]\n",
      "[0. 0. 1.] <-> [0.11233499 0.00199346 0.88567156]\n",
      "[0. 1. 0.] <-> [0.45272383 0.54258657 0.00468958]\n",
      "[1. 0. 0.] <-> [0.980276   0.01595946 0.00376458]\n",
      "[1. 0. 0.] <-> [0.9582748  0.00448586 0.03723937]\n",
      "[1. 0. 0.] <-> [0.9716861  0.0228539  0.00545991]\n",
      "[1. 0. 0.] <-> [0.9751619  0.00681186 0.01802626]\n",
      "[1. 0. 0.] <-> [0.940425   0.05392058 0.00565438]\n",
      "[0. 0. 1.] <-> [0.13832371 0.00189895 0.8597774 ]\n",
      "[1. 0. 0.] <-> [0.98053384 0.00584519 0.01362108]\n",
      "[1. 0. 0.] <-> [0.9831118  0.00823173 0.00865641]\n",
      "[0. 1. 0.] <-> [0.0103368  0.9877614  0.00190173]\n",
      "[1. 0. 0.] <-> [0.9841649  0.00825061 0.00758445]\n",
      "[1. 0. 0.] <-> [0.987104   0.00723694 0.00565903]\n",
      "[1. 0. 0.] <-> [0.9776464  0.00773565 0.0146179 ]\n",
      "[1. 0. 0.] <-> [0.9755175  0.01858909 0.00589342]\n",
      "[1. 0. 0.] <-> [0.98494536 0.01086986 0.00418477]\n",
      "[1. 0. 0.] <-> [0.9446432  0.00438609 0.0509708 ]\n",
      "[0. 1. 0.] <-> [0.04659649 0.95071846 0.00268511]\n",
      "[1. 0. 0.] <-> [0.94595003 0.00447175 0.04957822]\n",
      "[1. 0. 0.] <-> [0.985106   0.00936783 0.00552616]\n",
      "[1. 0. 0.] <-> [0.9815564  0.0064474  0.01199619]\n",
      "[1. 0. 0.] <-> [0.9797214  0.00404122 0.01623735]\n",
      "[1. 0. 0.] <-> [0.9581066  0.0044484  0.03744514]\n",
      "[0. 1. 0.] <-> [0.0137217  0.9842315  0.00204681]\n",
      "[1. 0. 0.] <-> [0.9822198  0.01266727 0.00511293]\n",
      "[1. 0. 0.] <-> [0.9798702  0.00781812 0.01231174]\n",
      "[0. 0. 1.] <-> [0.02502133 0.00305398 0.97192466]\n",
      "[0. 1. 0.] <-> [0.22712104 0.76953524 0.00334376]\n",
      "[0. 1. 0.] <-> [0.37626174 0.61712635 0.00661193]\n",
      "[1. 0. 0.] <-> [0.9757342  0.0205355  0.00373042]\n",
      "[1. 0. 0.] <-> [0.98191434 0.01319482 0.00489085]\n",
      "[1. 0. 0.] <-> [0.92969674 0.00549092 0.06481239]\n",
      "[1. 0. 0.] <-> [0.98411256 0.00619541 0.00969201]\n",
      "[1. 0. 0.] <-> [0.9804216  0.00584314 0.01373514]\n",
      "[0. 0. 1.] <-> [0.7669128  0.00465988 0.22842738]\n",
      "[1. 0. 0.] <-> [0.9652031  0.0079312  0.02686578]\n",
      "[1. 0. 0.] <-> [0.9748223  0.01901304 0.00616471]\n",
      "[1. 0. 0.] <-> [0.82737625 0.16486798 0.00775571]\n",
      "[0. 1. 0.] <-> [0.6640137  0.32802415 0.00796216]\n",
      "[1. 0. 0.] <-> [0.97270566 0.02184919 0.0054451 ]\n",
      "[1. 0. 0.] <-> [0.93478286 0.00460436 0.06061272]\n",
      "[0. 0. 1.] <-> [0.01413742 0.00344981 0.9824128 ]\n",
      "[1. 0. 0.] <-> [0.97723776 0.0045324  0.01822989]\n",
      "[1. 0. 0.] <-> [0.9839902  0.00861759 0.00739224]\n",
      "[1. 0. 0.] <-> [0.97718185 0.01417628 0.00864187]\n",
      "[1. 0. 0.] <-> [0.90375656 0.00604632 0.09019703]\n",
      "[0. 0. 1.] <-> [0.09414237 0.00221175 0.9036459 ]\n",
      "[1. 0. 0.] <-> [0.9664923  0.00858957 0.02491808]\n",
      "[1. 0. 0.] <-> [0.9524422  0.00616877 0.04138907]\n",
      "[1. 0. 0.] <-> [0.26371074 0.00342235 0.73286694]\n",
      "[1. 0. 0.] <-> [0.9831405  0.00959904 0.00726056]\n",
      "[1. 0. 0.] <-> [0.9847953  0.00611931 0.00908548]\n",
      "[1. 0. 0.] <-> [0.9810543  0.01178482 0.00716088]\n",
      "[1. 0. 0.] <-> [0.93282986 0.00416199 0.06300812]\n",
      "[0. 1. 0.] <-> [0.00959088 0.988531   0.00187809]\n",
      "[1. 0. 0.] <-> [0.9864009  0.00524257 0.00835649]\n",
      "[1. 0. 0.] <-> [0.9852042  0.00916018 0.00563561]\n",
      "[1. 0. 0.] <-> [0.8650951  0.0055195  0.12938541]\n",
      "[1. 0. 0.] <-> [0.9808435  0.01285889 0.00629759]\n",
      "[0. 0. 1.] <-> [0.11782739 0.00211067 0.880062  ]\n",
      "[0. 0. 1.] <-> [0.00306824 0.00477506 0.99215674]\n",
      "[0. 0. 1.] <-> [0.6412804  0.00470662 0.35401306]\n",
      "[0. 1. 0.] <-> [0.01111088 0.9869593  0.00192991]\n",
      "[0. 1. 0.] <-> [0.19991824 0.794793   0.0052888 ]\n",
      "[1. 0. 0.] <-> [0.979884   0.00983242 0.01028347]\n",
      "[1. 0. 0.] <-> [0.9852417  0.00519646 0.00956178]\n",
      "[0. 1. 0.] <-> [0.14493021 0.8509545  0.00411524]\n",
      "[0. 1. 0.] <-> [0.01188283 0.9861573  0.00195987]\n",
      "[1. 0. 0.] <-> [0.98279244 0.00762072 0.00958696]\n",
      "[1. 0. 0.] <-> [0.8078164  0.18247095 0.0097126 ]\n",
      "[0. 0. 1.] <-> [0.1087332  0.00201496 0.8892518 ]\n",
      "[1. 0. 0.] <-> [0.96356267 0.00539112 0.0310462 ]\n",
      "[1. 0. 0.] <-> [0.9615129  0.01078624 0.02770083]\n",
      "[1. 0. 0.] <-> [0.9537437  0.04160064 0.00465574]\n",
      "[1. 0. 0.] <-> [0.96475685 0.03150191 0.00374123]\n",
      "[1. 0. 0.] <-> [0.9840836  0.01145583 0.00446058]\n",
      "[1. 0. 0.] <-> [0.98584974 0.00690065 0.00724955]\n",
      "[0. 0. 1.] <-> [0.00374289 0.00469494 0.9915622 ]\n",
      "[0. 0. 1.] <-> [0.00555777 0.0042163  0.990226  ]\n",
      "[1. 0. 0.] <-> [0.9670099  0.00403853 0.02895157]\n",
      "[1. 0. 0.] <-> [0.70507616 0.00572339 0.28920043]\n",
      "{'accuracy': 0.9753086419753086, 'mean_square_error': 0.05655664407231317, 'categorical_crossentropy': 0.10916109438295718, 'precision': 0.9629629629629629, 'recall': 0.9629629629629629, 'f1': 0.9629629629629629, 'essential_metrics': {0: {'tp_hit': 75, 'fp_hit': 3, 'tn_hit': 29, 'fn_hit': 1}, 1: {'tp_hit': 16, 'fp_hit': 0, 'tn_hit': 91, 'fn_hit': 1}, 2: {'tp_hit': 13, 'fp_hit': 1, 'tn_hit': 92, 'fn_hit': 2}}}\n"
     ]
    }
   ],
   "source": [
    "# recall phase\n",
    "score = model.evaluate(x_test, y_test, False)\n",
    "print(score)"
   ]
  },
  {
   "cell_type": "code",
   "execution_count": 13,
   "metadata": {},
   "outputs": [
    {
     "name": "stdout",
     "output_type": "stream",
     "text": [
      "{'accuracy': 0.8580246913580247, 'mean_square_error': 0.3065147091871785, 'categorical_crossentropy': 0.582627225805212, 'precision': 0.7870370370370371, 'recall': 0.7870370370370371, 'f1': 0.7870370370370371, 'essential_metrics': {0: {'tp_hit': 75, 'fp_hit': 20, 'tn_hit': 12, 'fn_hit': 1}, 1: {'tp_hit': 6, 'fp_hit': 2, 'tn_hit': 89, 'fn_hit': 11}, 2: {'tp_hit': 4, 'fp_hit': 1, 'tn_hit': 92, 'fn_hit': 11}}, 'checkpoint': 10} \n",
      "\n",
      "\n",
      "{'accuracy': 0.8580246913580247, 'mean_square_error': 0.29603623457749534, 'categorical_crossentropy': 0.5574717345061125, 'precision': 0.7870370370370371, 'recall': 0.7870370370370371, 'f1': 0.7870370370370371, 'essential_metrics': {0: {'tp_hit': 74, 'fp_hit': 19, 'tn_hit': 13, 'fn_hit': 2}, 1: {'tp_hit': 7, 'fp_hit': 2, 'tn_hit': 89, 'fn_hit': 10}, 2: {'tp_hit': 4, 'fp_hit': 2, 'tn_hit': 91, 'fn_hit': 11}}, 'checkpoint': 20} \n",
      "\n",
      "\n",
      "{'accuracy': 0.8641975308641975, 'mean_square_error': 0.2739562012865959, 'categorical_crossentropy': 0.5151556509512442, 'precision': 0.7962962962962963, 'recall': 0.7962962962962963, 'f1': 0.7962962962962963, 'essential_metrics': {0: {'tp_hit': 73, 'fp_hit': 12, 'tn_hit': 20, 'fn_hit': 3}, 1: {'tp_hit': 10, 'fp_hit': 7, 'tn_hit': 84, 'fn_hit': 7}, 2: {'tp_hit': 3, 'fp_hit': 3, 'tn_hit': 90, 'fn_hit': 12}}, 'checkpoint': 30} \n",
      "\n",
      "\n",
      "{'accuracy': 0.8950617283950617, 'mean_square_error': 0.2859713388146065, 'categorical_crossentropy': 0.5320900457876699, 'precision': 0.8425925925925926, 'recall': 0.8425925925925926, 'f1': 0.8425925925925926, 'essential_metrics': {0: {'tp_hit': 74, 'fp_hit': 11, 'tn_hit': 21, 'fn_hit': 2}, 1: {'tp_hit': 11, 'fp_hit': 6, 'tn_hit': 85, 'fn_hit': 6}, 2: {'tp_hit': 6, 'fp_hit': 0, 'tn_hit': 93, 'fn_hit': 9}}, 'checkpoint': 40} \n",
      "\n",
      "\n",
      "{'accuracy': 0.9012345679012346, 'mean_square_error': 0.22656378111291534, 'categorical_crossentropy': 0.4160055937590422, 'precision': 0.8518518518518519, 'recall': 0.8518518518518519, 'f1': 0.8518518518518519, 'essential_metrics': {0: {'tp_hit': 73, 'fp_hit': 11, 'tn_hit': 21, 'fn_hit': 3}, 1: {'tp_hit': 12, 'fp_hit': 5, 'tn_hit': 86, 'fn_hit': 5}, 2: {'tp_hit': 7, 'fp_hit': 0, 'tn_hit': 93, 'fn_hit': 8}}, 'checkpoint': 50} \n",
      "\n",
      "\n",
      "{'accuracy': 0.8950617283950617, 'mean_square_error': 0.24051997087367236, 'categorical_crossentropy': 0.4333687535038701, 'precision': 0.8425925925925926, 'recall': 0.8425925925925926, 'f1': 0.8425925925925926, 'essential_metrics': {0: {'tp_hit': 74, 'fp_hit': 13, 'tn_hit': 19, 'fn_hit': 2}, 1: {'tp_hit': 10, 'fp_hit': 4, 'tn_hit': 87, 'fn_hit': 7}, 2: {'tp_hit': 7, 'fp_hit': 0, 'tn_hit': 93, 'fn_hit': 8}}, 'checkpoint': 60} \n",
      "\n",
      "\n",
      "{'accuracy': 0.9074074074074074, 'mean_square_error': 0.2237109922357685, 'categorical_crossentropy': 0.4070044270268193, 'precision': 0.8611111111111112, 'recall': 0.8611111111111112, 'f1': 0.8611111111111112, 'essential_metrics': {0: {'tp_hit': 75, 'fp_hit': 11, 'tn_hit': 21, 'fn_hit': 1}, 1: {'tp_hit': 10, 'fp_hit': 3, 'tn_hit': 88, 'fn_hit': 7}, 2: {'tp_hit': 8, 'fp_hit': 1, 'tn_hit': 92, 'fn_hit': 7}}, 'checkpoint': 70} \n",
      "\n",
      "\n",
      "{'accuracy': 0.9074074074074074, 'mean_square_error': 0.20987982853998213, 'categorical_crossentropy': 0.394666177255136, 'precision': 0.8611111111111112, 'recall': 0.8611111111111112, 'f1': 0.8611111111111112, 'essential_metrics': {0: {'tp_hit': 73, 'fp_hit': 9, 'tn_hit': 23, 'fn_hit': 3}, 1: {'tp_hit': 11, 'fp_hit': 6, 'tn_hit': 85, 'fn_hit': 6}, 2: {'tp_hit': 9, 'fp_hit': 0, 'tn_hit': 93, 'fn_hit': 6}}, 'checkpoint': 80} \n",
      "\n",
      "\n",
      "{'accuracy': 0.9444444444444444, 'mean_square_error': 0.1551973898379966, 'categorical_crossentropy': 0.2911488215128581, 'precision': 0.9166666666666666, 'recall': 0.9166666666666666, 'f1': 0.9166666666666666, 'essential_metrics': {0: {'tp_hit': 76, 'fp_hit': 9, 'tn_hit': 23, 'fn_hit': 0}, 1: {'tp_hit': 11, 'fp_hit': 0, 'tn_hit': 91, 'fn_hit': 6}, 2: {'tp_hit': 12, 'fp_hit': 0, 'tn_hit': 93, 'fn_hit': 3}}, 'checkpoint': 90} \n",
      "\n",
      "\n",
      "{'accuracy': 0.9567901234567902, 'mean_square_error': 0.11903334028184026, 'categorical_crossentropy': 0.23760442380551938, 'precision': 0.9351851851851852, 'recall': 0.9351851851851852, 'f1': 0.9351851851851852, 'essential_metrics': {0: {'tp_hit': 76, 'fp_hit': 7, 'tn_hit': 25, 'fn_hit': 0}, 1: {'tp_hit': 13, 'fp_hit': 0, 'tn_hit': 91, 'fn_hit': 4}, 2: {'tp_hit': 12, 'fp_hit': 0, 'tn_hit': 93, 'fn_hit': 3}}, 'checkpoint': 100} \n",
      "\n",
      "\n",
      "{'accuracy': 0.9629629629629629, 'mean_square_error': 0.10072072644085665, 'categorical_crossentropy': 0.19790239687319156, 'precision': 0.9444444444444444, 'recall': 0.9444444444444444, 'f1': 0.9444444444444444, 'essential_metrics': {0: {'tp_hit': 75, 'fp_hit': 5, 'tn_hit': 27, 'fn_hit': 1}, 1: {'tp_hit': 15, 'fp_hit': 0, 'tn_hit': 91, 'fn_hit': 2}, 2: {'tp_hit': 12, 'fp_hit': 1, 'tn_hit': 92, 'fn_hit': 3}}, 'checkpoint': 110} \n",
      "\n",
      "\n",
      "{'accuracy': 0.9629629629629629, 'mean_square_error': 0.08933758398763424, 'categorical_crossentropy': 0.15752223685935693, 'precision': 0.9444444444444444, 'recall': 0.9444444444444444, 'f1': 0.9444444444444444, 'essential_metrics': {0: {'tp_hit': 75, 'fp_hit': 5, 'tn_hit': 27, 'fn_hit': 1}, 1: {'tp_hit': 14, 'fp_hit': 0, 'tn_hit': 91, 'fn_hit': 3}, 2: {'tp_hit': 13, 'fp_hit': 1, 'tn_hit': 92, 'fn_hit': 2}}, 'checkpoint': 120} \n",
      "\n",
      "\n",
      "{'accuracy': 0.9753086419753086, 'mean_square_error': 0.07002381968570418, 'categorical_crossentropy': 0.13567153612772623, 'precision': 0.9629629629629629, 'recall': 0.9629629629629629, 'f1': 0.9629629629629629, 'essential_metrics': {0: {'tp_hit': 75, 'fp_hit': 3, 'tn_hit': 29, 'fn_hit': 1}, 1: {'tp_hit': 16, 'fp_hit': 0, 'tn_hit': 91, 'fn_hit': 1}, 2: {'tp_hit': 13, 'fp_hit': 1, 'tn_hit': 92, 'fn_hit': 2}}, 'checkpoint': 130} \n",
      "\n",
      "\n",
      "{'accuracy': 0.9691358024691358, 'mean_square_error': 0.06634161869334036, 'categorical_crossentropy': 0.12091536875124331, 'precision': 0.9537037037037037, 'recall': 0.9537037037037037, 'f1': 0.9537037037037037, 'essential_metrics': {0: {'tp_hit': 75, 'fp_hit': 4, 'tn_hit': 28, 'fn_hit': 1}, 1: {'tp_hit': 15, 'fp_hit': 0, 'tn_hit': 91, 'fn_hit': 2}, 2: {'tp_hit': 13, 'fp_hit': 1, 'tn_hit': 92, 'fn_hit': 2}}, 'checkpoint': 140} \n",
      "\n",
      "\n",
      "{'accuracy': 0.9753086419753086, 'mean_square_error': 0.05655664407231317, 'categorical_crossentropy': 0.10916109438295718, 'precision': 0.9629629629629629, 'recall': 0.9629629629629629, 'f1': 0.9629629629629629, 'essential_metrics': {0: {'tp_hit': 75, 'fp_hit': 3, 'tn_hit': 29, 'fn_hit': 1}, 1: {'tp_hit': 16, 'fp_hit': 0, 'tn_hit': 91, 'fn_hit': 1}, 2: {'tp_hit': 13, 'fp_hit': 1, 'tn_hit': 92, 'fn_hit': 2}}, 'checkpoint': 150} \n",
      "\n",
      "\n"
     ]
    }
   ],
   "source": [
    "for checkpoint in checkpoints:\n",
    "    print(checkpoint, '\\n\\n')"
   ]
  },
  {
   "cell_type": "code",
   "execution_count": 14,
   "metadata": {},
   "outputs": [
    {
     "name": "stdout",
     "output_type": "stream",
     "text": [
      "Layer 1\n",
      "Neuron 0: weights:\n",
      "[-0.1318421   2.4091606  -0.16578741 -0.86800796 -1.6081127 ]\n",
      " bias: 0.22565391659736633\n",
      "\n",
      "Neuron 1: weights:\n",
      "[-0.852661   2.7330678  0.6628926 -1.2591156 -2.2662766]\n",
      " bias: 2.8191070556640625\n",
      "\n",
      "Neuron 2: weights:\n",
      "[ 0.59472984 -1.4667599  -0.1612155  -2.2052824   0.07231925]\n",
      " bias: 1.033315658569336\n",
      "\n",
      "Neuron 3: weights:\n",
      "[-1.08021    2.2651505  1.9286948  0.1754942 -2.3933103]\n",
      " bias: -2.8867318630218506\n",
      "\n",
      "$\n",
      "Layer 2\n",
      "Neuron 0: weights:\n",
      "[ 0.01516506  3.          3.         -2.0271294 ]\n",
      " bias: -2.8440451622009277\n",
      "\n",
      "Neuron 1: weights:\n",
      "[ 1.1132526  1.0038601 -1.99903    3.       ]\n",
      " bias: -2.323734998703003\n",
      "\n",
      "Neuron 2: weights:\n",
      "[-3.        -2.5876532 -1.1495919 -0.8875751]\n",
      " bias: 3.0\n",
      "\n",
      "$\n",
      "\n"
     ]
    }
   ],
   "source": [
    "print(model)"
   ]
  }
 ],
 "metadata": {
  "kernelspec": {
   "display_name": "Python 3",
   "language": "python",
   "name": "python3"
  },
  "language_info": {
   "codemirror_mode": {
    "name": "ipython",
    "version": 3
   },
   "file_extension": ".py",
   "mimetype": "text/x-python",
   "name": "python",
   "nbconvert_exporter": "python",
   "pygments_lexer": "ipython3",
   "version": "3.6.12"
  }
 },
 "nbformat": 4,
 "nbformat_minor": 2
}
