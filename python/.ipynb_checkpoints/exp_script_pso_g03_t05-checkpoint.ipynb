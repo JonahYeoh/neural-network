{
 "cells": [
  {
   "cell_type": "code",
   "execution_count": 1,
   "metadata": {},
   "outputs": [],
   "source": [
    "# dependency\n",
    "import numpy as np\n",
    "import pandas as pd\n",
    "import copy\n",
    "import math\n",
    "import sys\n",
    "import os\n",
    "from activations import relu, leaky_relu, sigmoid, tanh, softmax, d_sigmoid, d_relu\n",
    "from initializers import glorot_uniform, random_normal, random_uniform\n",
    "from regularizers import l1_regularizer, l2_regularizer\n",
    "from utility import trim_tail, multiply, subtract, get_nparams, one_hot_encoding, get_data\n",
    "from metrics import MSE, CCE, ACC, PRECISION, RECALL, essential_metrics, wondering_penalty, close_gap_penalty\n",
    "from pso import PSO\n",
    "from ga import GA\n",
    "from nn import Network\n",
    "from layer import DenseLayer\n",
    "from scalers import MinMaxScaler, StandardScaler"
   ]
  },
  {
   "cell_type": "code",
   "execution_count": 2,
   "metadata": {},
   "outputs": [],
   "source": [
    "# reference\n",
    "metrics_fn_dict = dict()\n",
    "metrics_fn_dict['accuracy'] = ACC\n",
    "metrics_fn_dict['categorical_crossentropy'] = CCE\n",
    "metrics_fn_dict['mean_square_error'] = MSE\n",
    "metrics_fn_dict['precision'] = PRECISION\n",
    "metrics_fn_dict['recall'] = RECALL\n",
    "metrics_fn_dict['essential_metrics'] = essential_metrics"
   ]
  },
  {
   "cell_type": "code",
   "execution_count": 3,
   "metadata": {},
   "outputs": [],
   "source": [
    "# model\n",
    "model = Network(5, lr = None)\n",
    "model.add_layer(DenseLayer(1, 4, True, afn=sigmoid, dafn=None, rfn=None))\n",
    "model.add_layer(DenseLayer(2, 3, True, afn=softmax, dafn=None, rfn=None))"
   ]
  },
  {
   "cell_type": "code",
   "execution_count": 4,
   "metadata": {},
   "outputs": [
    {
     "name": "stdout",
     "output_type": "stream",
     "text": [
      "see one see two 2 2\n"
     ]
    }
   ],
   "source": [
    "pso = PSO(dict(m = 50,\n",
    "    weight_constraint = [-3, 3], \n",
    "    velocity_constraint = [-0.1, 0.1],\n",
    "    c1 = 2,\n",
    "    c2 = 2,\n",
    "    w = 1.2,\n",
    "    w_decay = 1,\n",
    "    scale_hyperparameter = False,\n",
    "    regularizer = None,\n",
    "    mask = True))"
   ]
  },
  {
   "cell_type": "code",
   "execution_count": 5,
   "metadata": {},
   "outputs": [
    {
     "name": "stdout",
     "output_type": "stream",
     "text": [
      "building layer 1 with 5\n",
      "24\n",
      "building layer 2 with 4\n",
      "15\n"
     ]
    }
   ],
   "source": [
    "model.compile(loss_fn = 'categorical_crossentropy', optimizer = pso, \\\n",
    "    metrics = ['accuracy', 'mean_square_error', 'categorical_crossentropy'])"
   ]
  },
  {
   "cell_type": "code",
   "execution_count": 6,
   "metadata": {
    "scrolled": false
   },
   "outputs": [
    {
     "name": "stdout",
     "output_type": "stream",
     "text": [
      "<class 'pandas.core.frame.DataFrame'>\n",
      "RangeIndex: 107 entries, 0 to 106\n",
      "Data columns (total 6 columns):\n",
      " #   Column  Non-Null Count  Dtype  \n",
      "---  ------  --------------  -----  \n",
      " 0   f1      107 non-null    float32\n",
      " 1   f2      107 non-null    float32\n",
      " 2   f3      107 non-null    float32\n",
      " 3   f4      107 non-null    float32\n",
      " 4   f5      107 non-null    float32\n",
      " 5   label   107 non-null    float32\n",
      "dtypes: float32(6)\n",
      "memory usage: 2.6 KB\n",
      "None\n",
      "<class 'pandas.core.frame.DataFrame'>\n",
      "RangeIndex: 108 entries, 0 to 107\n",
      "Data columns (total 6 columns):\n",
      " #   Column  Non-Null Count  Dtype  \n",
      "---  ------  --------------  -----  \n",
      " 0   f1      108 non-null    float32\n",
      " 1   f2      108 non-null    float32\n",
      " 2   f3      108 non-null    float32\n",
      " 3   f4      108 non-null    float32\n",
      " 4   f5      108 non-null    float32\n",
      " 5   label   108 non-null    float32\n",
      "dtypes: float32(6)\n",
      "memory usage: 2.7 KB\n",
      "None\n"
     ]
    }
   ],
   "source": [
    "# data loading\n",
    "DATA = os.path.join('c:\\\\Users\\\\Ai-lab\\\\github_repo\\\\neural-network\\\\', 'dataset')\n",
    "GROUP = 3\n",
    "COLUMNS = ['f1', 'f2', 'f3', 'f4', 'f5', 'label']\n",
    "N_CLASS = 3\n",
    "EPOCHS = 200\n",
    "train_dir, test_dir = \"..//dataset//training_data{}.txt\".format(GROUP), \"..//dataset//testing_data{}.txt\".format(GROUP)\n",
    "train, test = get_data(DATA, train_dir, COLUMNS), get_data(DATA, test_dir, COLUMNS)\n",
    "# shuffle\n",
    "train, test = train.sample(frac=1), test.sample(frac=1)\n",
    "x_train, y_train = train.drop('label', axis=1), train['label']\n",
    "x_test, y_test = test.drop('label', axis=1), test['label']"
   ]
  },
  {
   "cell_type": "code",
   "execution_count": 7,
   "metadata": {},
   "outputs": [],
   "source": [
    "# data scaling and encoding\n",
    "scaler = StandardScaler(['f1', 'f2', 'f3', 'f4', 'f5'])\n",
    "scaler.fit(x_train)\n",
    "x_train = scaler.transform(x_train)\n",
    "x_test = scaler.transform(x_test)\n",
    "y_train = one_hot_encoding(y_train, N_CLASS)\n",
    "y_test = one_hot_encoding(y_test, N_CLASS)"
   ]
  },
  {
   "cell_type": "code",
   "execution_count": 8,
   "metadata": {
    "tags": [
     "outputPrepend"
    ]
   },
   "outputs": [
    {
     "name": "stdout",
     "output_type": "stream",
     "text": [
      "Checkpoint 10, Accuracy: 0.8765432098765432, Loss: 0.43600195425528065\n",
      "Checkpoint 20, Accuracy: 0.9012345679012346, Loss: 0.3996926060429326\n",
      "Checkpoint 30, Accuracy: 0.9135802469135802, Loss: 0.39085289284035013\n",
      "Checkpoint 40, Accuracy: 0.9197530864197531, Loss: 0.32674001764368127\n",
      "Checkpoint 50, Accuracy: 0.9382716049382716, Loss: 0.299094765274613\n",
      "Checkpoint 60, Accuracy: 0.9444444444444444, Loss: 0.23495614087140118\n",
      "Checkpoint 70, Accuracy: 0.9567901234567902, Loss: 0.2010883578547725\n",
      "Checkpoint 80, Accuracy: 0.9567901234567902, Loss: 0.18547955265751592\n",
      "Checkpoint 90, Accuracy: 0.9629629629629629, Loss: 0.17877960205078125\n",
      "Checkpoint 100, Accuracy: 0.9691358024691358, Loss: 0.1468026284818296\n",
      "Checkpoint 110, Accuracy: 0.9691358024691358, Loss: 0.12941047880384657\n",
      "Checkpoint 120, Accuracy: 0.9629629629629629, Loss: 0.12617840590300383\n",
      "Checkpoint 130, Accuracy: 0.9629629629629629, Loss: 0.11258746959544995\n",
      "Checkpoint 140, Accuracy: 0.9691358024691358, Loss: 0.1175081729888916\n",
      "Checkpoint 150, Accuracy: 0.9691358024691358, Loss: 0.1148549097555655\n",
      "Checkpoint 160, Accuracy: 0.9691358024691358, Loss: 0.11590314794469762\n",
      "Checkpoint 170, Accuracy: 0.9629629629629629, Loss: 0.12991083992852104\n",
      "Checkpoint 180, Accuracy: 0.9753086419753086, Loss: 0.11185423533121745\n",
      "Checkpoint 190, Accuracy: 0.9691358024691358, Loss: 0.11107045632821543\n",
      "Checkpoint 200, Accuracy: 0.9691358024691358, Loss: 0.10497893227471246\n"
     ]
    }
   ],
   "source": [
    "# learning phase\n",
    "breakpoint = 10\n",
    "checkpoints = list()\n",
    "history = list()\n",
    "for century in range(0, EPOCHS, breakpoint):\n",
    "    sub_history = model.fit(x_train, y_train, breakpoint, verbose = 0)\n",
    "    score = model.evaluate(x_test, y_test, False, verbose = 0)\n",
    "    print('Checkpoint {}, Accuracy: {}, Loss: {}'.format(century+breakpoint, score['accuracy'], score[model.loss_fn]))\n",
    "    score['checkpoint'] = century + breakpoint\n",
    "    checkpoints.append(score)\n",
    "    history.extend(sub_history)"
   ]
  },
  {
   "cell_type": "code",
   "execution_count": 9,
   "metadata": {},
   "outputs": [],
   "source": [
    "import matplotlib.pyplot as plt\n",
    "\n",
    "def draw_plot(x, y_list, x_label=None, y_label=None, legend=None, title=None):\n",
    "    fig, ax = plt.subplots(figsize=(12,5))\n",
    "    for xi, yi in zip(x, y_list):\n",
    "        ax.plot(xi, yi)\n",
    "    if x_label is not None and y_label is not None:\n",
    "        ax.set(xlabel=x_label, ylabel=y_label, title='{} VS {}'.format(x_label, y_label))\n",
    "    if legend is not None:\n",
    "        ax.legend(legend)\n",
    "    ax.grid()\n",
    "    plt.show()"
   ]
  },
  {
   "cell_type": "code",
   "execution_count": 10,
   "metadata": {},
   "outputs": [],
   "source": [
    "train_acc = [h['accuracy'] for h in history]\n",
    "train_mse = [h['mean_square_error'] for h in history]\n",
    "train_cce = [h['categorical_crossentropy'] for h in history]"
   ]
  },
  {
   "cell_type": "code",
   "execution_count": 11,
   "metadata": {},
   "outputs": [
    {
     "data": {
      "image/png": "[encoded data removed]",
      "text/plain": [
       "<Figure size 864x360 with 1 Axes>"
      ]
     },
     "metadata": {
      "needs_background": "light"
     },
     "output_type": "display_data"
    },
    {
     "data": {
      "image/png": "[encoded data removed]",
      "text/plain": [
       "<Figure size 864x360 with 1 Axes>"
      ]
     },
     "metadata": {
      "needs_background": "light"
     },
     "output_type": "display_data"
    }
   ],
   "source": [
    "draw_plot(x = [[i for i in range(len(history))], [(i+1)*breakpoint for i in range(len(checkpoints))]], y_list = [train_cce, [ ckp[model.loss_fn] for ckp in checkpoints ]], x_label = 'Epochs', \\\n",
    "    y_label = model.loss_fn, legend=['train', 'test'])\n",
    "acc = [ ckp['accuracy'] for ckp in checkpoints ]\n",
    "draw_plot(x = [[i for i in range(len(history))], [(i+1)*breakpoint for i in range(len(checkpoints))]], y_list = [train_acc, acc], x_label = 'Checkpoints', \\\n",
    "    y_label = 'accuracy', legend=['train', 'test'])"
   ]
  },
  {
   "cell_type": "code",
   "execution_count": 12,
   "metadata": {},
   "outputs": [
    {
     "name": "stdout",
     "output_type": "stream",
     "text": [
      "[1. 0. 0.] <-> [1.4759994e-01 8.5214019e-01 2.5983292e-04]\n",
      "[0. 0. 1.] <-> [0.53912467 0.00324096 0.45763445]\n",
      "[0. 1. 0.] <-> [8.5552577e-03 9.9142456e-01 2.0188241e-05]\n",
      "[0. 0. 1.] <-> [1.9812714e-02 3.0742306e-04 9.7987980e-01]\n",
      "[1. 0. 0.] <-> [0.9820456  0.00234735 0.01560702]\n",
      "[1. 0. 0.] <-> [0.9400159  0.00344233 0.05654181]\n",
      "[1. 0. 0.] <-> [0.12413746 0.00113739 0.87472516]\n",
      "[1. 0. 0.] <-> [0.99659485 0.00143457 0.00197061]\n",
      "[1. 0. 0.] <-> [9.9767607e-01 9.2259998e-04 1.4013933e-03]\n",
      "[1. 0. 0.] <-> [0.9968156  0.00138219 0.00180218]\n",
      "[1. 0. 0.] <-> [0.9932046  0.00572648 0.00106886]\n",
      "[1. 0. 0.] <-> [0.9974837  0.00108779 0.00142857]\n",
      "[1. 0. 0.] <-> [0.9736443  0.02533818 0.00101741]\n",
      "[1. 0. 0.] <-> [9.9807405e-01 9.8718621e-04 9.3876326e-04]\n",
      "[1. 0. 0.] <-> [0.9969823  0.00114362 0.00187409]\n",
      "[1. 0. 0.] <-> [0.72972804 0.26917833 0.00109366]\n",
      "[1. 0. 0.] <-> [0.9968207  0.00208431 0.001095  ]\n",
      "[1. 0. 0.] <-> [0.997514   0.00146637 0.00101968]\n",
      "[0. 1. 0.] <-> [8.5196691e-03 9.9146044e-01 1.9866970e-05]\n",
      "[0. 0. 1.] <-> [1.3870191e-02 2.2594781e-04 9.8590380e-01]\n",
      "[0. 1. 0.] <-> [8.5220067e-03 9.9145824e-01 1.9772058e-05]\n",
      "[1. 0. 0.] <-> [0.9799729  0.01489061 0.0051365 ]\n",
      "[1. 0. 0.] <-> [0.99694496 0.00138562 0.00166945]\n",
      "[1. 0. 0.] <-> [0.98314166 0.01586055 0.00099783]\n",
      "[1. 0. 0.] <-> [9.9788207e-01 9.1952039e-04 1.1983456e-03]\n",
      "[1. 0. 0.] <-> [0.9971367  0.00118061 0.00168273]\n",
      "[1. 0. 0.] <-> [0.99773324 0.00119461 0.00107216]\n",
      "[0. 1. 0.] <-> [8.5246498e-03 9.9145561e-01 1.9721425e-05]\n",
      "[1. 0. 0.] <-> [0.99790347 0.00099832 0.00109821]\n",
      "[1. 0. 0.] <-> [9.9764329e-01 1.4436945e-03 9.1306976e-04]\n",
      "[1. 0. 0.] <-> [9.9789548e-01 9.5955224e-04 1.1449283e-03]\n",
      "[1. 0. 0.] <-> [9.9682742e-01 2.3334017e-03 8.3914347e-04]\n",
      "[1. 0. 0.] <-> [0.9969022  0.00197709 0.00112061]\n",
      "[1. 0. 0.] <-> [0.9949063  0.00121406 0.00387976]\n",
      "[0. 1. 0.] <-> [2.8236106e-02 9.7170681e-01 5.7064233e-05]\n",
      "[1. 0. 0.] <-> [0.9902587  0.00176282 0.00797849]\n",
      "[0. 0. 1.] <-> [1.2588704e-02 2.0819555e-04 9.8720306e-01]\n",
      "[1. 0. 0.] <-> [0.82604855 0.0051517  0.1687998 ]\n",
      "[1. 0. 0.] <-> [0.97806066 0.00199848 0.01994079]\n",
      "[0. 0. 1.] <-> [6.3667394e-02 7.9643773e-04 9.3553609e-01]\n",
      "[1. 0. 0.] <-> [0.9949207  0.00240032 0.00267902]\n",
      "[1. 0. 0.] <-> [9.9766481e-01 1.4663610e-03 8.6883275e-04]\n",
      "[1. 0. 0.] <-> [0.8874165  0.00236725 0.11021628]\n",
      "[1. 0. 0.] <-> [0.99709535 0.00162649 0.00127808]\n",
      "[1. 0. 0.] <-> [0.99446046 0.00145468 0.00408479]\n",
      "[1. 0. 0.] <-> [0.9834524  0.01418865 0.00235887]\n",
      "[1. 0. 0.] <-> [0.9974457  0.00136393 0.00119035]\n",
      "[0. 1. 0.] <-> [8.5242549e-03 9.9145597e-01 1.9728843e-05]\n",
      "[0. 0. 1.] <-> [4.3346729e-02 6.1841344e-04 9.5603484e-01]\n",
      "[0. 0. 1.] <-> [0.0882717  0.00114947 0.9105788 ]\n",
      "[1. 0. 0.] <-> [9.9795616e-01 1.2158811e-03 8.2802889e-04]\n",
      "[1. 0. 0.] <-> [9.9730909e-01 1.7771386e-03 9.1376808e-04]\n",
      "[0. 0. 1.] <-> [0.4548151  0.00409864 0.5410862 ]\n",
      "[1. 0. 0.] <-> [0.99749655 0.00104973 0.00145363]\n",
      "[1. 0. 0.] <-> [0.6321209  0.36689687 0.00098222]\n",
      "[0. 1. 0.] <-> [8.5246060e-03 9.9145561e-01 1.9722102e-05]\n",
      "[1. 0. 0.] <-> [0.9913784  0.00169258 0.00692897]\n",
      "[0. 1. 0.] <-> [3.3115562e-02 9.6682245e-01 6.2043138e-05]\n",
      "[0. 1. 0.] <-> [9.8958863e-03 9.9008089e-01 2.3214592e-05]\n",
      "[1. 0. 0.] <-> [0.9730216  0.00265528 0.02432307]\n",
      "[1. 0. 0.] <-> [0.9785946  0.00244064 0.01896481]\n",
      "[1. 0. 0.] <-> [3.2327783e-01 6.7624110e-01 4.8101551e-04]\n",
      "[1. 0. 0.] <-> [9.892398e-01 9.847157e-03 9.131072e-04]\n",
      "[1. 0. 0.] <-> [0.99532205 0.0014184  0.00325961]\n",
      "[0. 0. 1.] <-> [1.36421425e-02 2.22815273e-04 9.86135066e-01]\n",
      "[0. 1. 0.] <-> [8.5479952e-03 9.9143219e-01 1.9873794e-05]\n",
      "[0. 0. 1.] <-> [2.1378547e-02 3.2550981e-04 9.7829598e-01]\n",
      "[0. 0. 1.] <-> [2.5995905e-02 3.9327357e-04 9.7361076e-01]\n",
      "[1. 0. 0.] <-> [0.997689   0.00119546 0.00111563]\n",
      "[1. 0. 0.] <-> [0.996768   0.00215176 0.00108023]\n",
      "[1. 0. 0.] <-> [0.99755645 0.00100387 0.00143958]\n",
      "[1. 0. 0.] <-> [0.96266234 0.00300258 0.03433514]\n",
      "[1. 0. 0.] <-> [0.98001647 0.00189657 0.01808693]\n",
      "[1. 0. 0.] <-> [9.9737859e-01 9.8568434e-04 1.6357481e-03]\n",
      "[1. 0. 0.] <-> [0.9958515  0.00128286 0.0028656 ]\n",
      "[1. 0. 0.] <-> [9.9806815e-01 1.0645166e-03 8.6731726e-04]\n",
      "[1. 0. 0.] <-> [0.997547   0.00132505 0.00112795]\n",
      "[0. 1. 0.] <-> [2.6384046e-02 9.7355968e-01 5.6341869e-05]\n",
      "[1. 0. 0.] <-> [9.9724054e-01 1.9988015e-03 7.6062669e-04]\n",
      "[1. 0. 0.] <-> [9.9704069e-01 2.1242914e-03 8.3501253e-04]\n",
      "[1. 0. 0.] <-> [0.7895549  0.20945695 0.00098815]\n",
      "[0. 1. 0.] <-> [1.8713593e-02 9.8124605e-01 4.0338822e-05]\n",
      "[0. 1. 0.] <-> [0.54225206 0.45710948 0.00063845]\n",
      "[0. 1. 0.] <-> [8.522264e-03 9.914580e-01 1.976798e-05]\n",
      "[1. 0. 0.] <-> [0.7616421  0.00271765 0.23564026]\n",
      "[1. 0. 0.] <-> [0.99685776 0.00122871 0.0019135 ]\n",
      "[1. 0. 0.] <-> [0.9875825  0.01141299 0.00100444]\n",
      "[0. 0. 1.] <-> [1.2591344e-02 2.0753995e-04 9.8720109e-01]\n",
      "[1. 0. 0.] <-> [0.94637764 0.05261666 0.00100576]\n",
      "[1. 0. 0.] <-> [0.9947968  0.00412158 0.00108164]\n",
      "[1. 0. 0.] <-> [9.9540460e-01 3.7421056e-03 8.5325202e-04]\n",
      "[1. 0. 0.] <-> [9.980421e-01 1.144777e-03 8.130465e-04]\n",
      "[1. 0. 0.] <-> [0.99442697 0.00136577 0.00420723]\n",
      "[1. 0. 0.] <-> [0.77959085 0.00392342 0.21648577]\n",
      "[1. 0. 0.] <-> [0.54740715 0.45168793 0.00090493]\n",
      "[0. 1. 0.] <-> [3.0762044e-01 6.9192415e-01 4.5536825e-04]\n",
      "[1. 0. 0.] <-> [0.97042274 0.00236955 0.02720764]\n",
      "[1. 0. 0.] <-> [0.99560297 0.00155135 0.00284575]\n",
      "[1. 0. 0.] <-> [0.996332   0.00228893 0.0013791 ]\n",
      "[1. 0. 0.] <-> [9.9723238e-01 1.9484522e-03 8.1924745e-04]\n",
      "[0. 0. 1.] <-> [1.2603354e-02 2.0774391e-04 9.8718888e-01]\n",
      "[1. 0. 0.] <-> [9.9764532e-01 1.4345377e-03 9.2014862e-04]\n",
      "[1. 0. 0.] <-> [0.9950488  0.00147531 0.00347591]\n",
      "[1. 0. 0.] <-> [9.9735355e-01 1.7956661e-03 8.5077505e-04]\n",
      "[1. 0. 0.] <-> [0.9923171  0.00622998 0.00145297]\n",
      "[0. 0. 1.] <-> [1.7946355e-02 2.8233769e-04 9.8177123e-01]\n",
      "[0. 1. 0.] <-> [8.0222882e-02 9.1963494e-01 1.4215628e-04]\n",
      "[1. 0. 0.] <-> [0.9910715  0.00324223 0.00568623]\n",
      "{'accuracy': 0.9691358024691358, 'mean_square_error': 0.06448241106105984, 'categorical_crossentropy': 0.10497893227471246, 'essential_metrics': {0: {'tp_hit': 75, 'fp_hit': 2, 'tn_hit': 28, 'fn_hit': 3}, 1: {'tp_hit': 15, 'fp_hit': 2, 'tn_hit': 90, 'fn_hit': 1}, 2: {'tp_hit': 13, 'fp_hit': 1, 'tn_hit': 93, 'fn_hit': 1}}}\n"
     ]
    }
   ],
   "source": [
    "# recall phase\n",
    "score = model.evaluate(x_test, y_test, False)\n",
    "print(score)"
   ]
  },
  {
   "cell_type": "code",
   "execution_count": 13,
   "metadata": {},
   "outputs": [
    {
     "name": "stdout",
     "output_type": "stream",
     "text": [
      "{'accuracy': 0.8765432098765432, 'mean_square_error': 0.26446848464521394, 'categorical_crossentropy': 0.43600195425528065, 'essential_metrics': {0: {'tp_hit': 77, 'fp_hit': 19, 'tn_hit': 11, 'fn_hit': 1}, 1: {'tp_hit': 7, 'fp_hit': 1, 'tn_hit': 91, 'fn_hit': 9}, 2: {'tp_hit': 4, 'fp_hit': 0, 'tn_hit': 94, 'fn_hit': 10}}, 'checkpoint': 10} \n",
      "\n",
      "\n",
      "{'accuracy': 0.9012345679012346, 'mean_square_error': 0.22689583393504897, 'categorical_crossentropy': 0.3996926060429326, 'essential_metrics': {0: {'tp_hit': 74, 'fp_hit': 12, 'tn_hit': 18, 'fn_hit': 4}, 1: {'tp_hit': 12, 'fp_hit': 2, 'tn_hit': 90, 'fn_hit': 4}, 2: {'tp_hit': 6, 'fp_hit': 2, 'tn_hit': 92, 'fn_hit': 8}}, 'checkpoint': 20} \n",
      "\n",
      "\n",
      "{'accuracy': 0.9135802469135802, 'mean_square_error': 0.21415293225878582, 'categorical_crossentropy': 0.39085289284035013, 'essential_metrics': {0: {'tp_hit': 74, 'fp_hit': 10, 'tn_hit': 20, 'fn_hit': 4}, 1: {'tp_hit': 12, 'fp_hit': 2, 'tn_hit': 90, 'fn_hit': 4}, 2: {'tp_hit': 8, 'fp_hit': 2, 'tn_hit': 92, 'fn_hit': 6}}, 'checkpoint': 30} \n",
      "\n",
      "\n",
      "{'accuracy': 0.9197530864197531, 'mean_square_error': 0.18615544718732882, 'categorical_crossentropy': 0.32674001764368127, 'essential_metrics': {0: {'tp_hit': 76, 'fp_hit': 11, 'tn_hit': 19, 'fn_hit': 2}, 1: {'tp_hit': 8, 'fp_hit': 0, 'tn_hit': 92, 'fn_hit': 8}, 2: {'tp_hit': 11, 'fp_hit': 2, 'tn_hit': 92, 'fn_hit': 3}}, 'checkpoint': 40} \n",
      "\n",
      "\n",
      "{'accuracy': 0.9382716049382716, 'mean_square_error': 0.1605319000972903, 'categorical_crossentropy': 0.299094765274613, 'essential_metrics': {0: {'tp_hit': 77, 'fp_hit': 9, 'tn_hit': 21, 'fn_hit': 1}, 1: {'tp_hit': 10, 'fp_hit': 0, 'tn_hit': 92, 'fn_hit': 6}, 2: {'tp_hit': 11, 'fp_hit': 1, 'tn_hit': 93, 'fn_hit': 3}}, 'checkpoint': 50} \n",
      "\n",
      "\n",
      "{'accuracy': 0.9444444444444444, 'mean_square_error': 0.1235569785674137, 'categorical_crossentropy': 0.23495614087140118, 'essential_metrics': {0: {'tp_hit': 76, 'fp_hit': 7, 'tn_hit': 23, 'fn_hit': 2}, 1: {'tp_hit': 13, 'fp_hit': 1, 'tn_hit': 91, 'fn_hit': 3}, 2: {'tp_hit': 10, 'fp_hit': 1, 'tn_hit': 93, 'fn_hit': 4}}, 'checkpoint': 60} \n",
      "\n",
      "\n",
      "{'accuracy': 0.9567901234567902, 'mean_square_error': 0.0999380446476095, 'categorical_crossentropy': 0.2010883578547725, 'essential_metrics': {0: {'tp_hit': 76, 'fp_hit': 5, 'tn_hit': 25, 'fn_hit': 2}, 1: {'tp_hit': 13, 'fp_hit': 1, 'tn_hit': 91, 'fn_hit': 3}, 2: {'tp_hit': 12, 'fp_hit': 1, 'tn_hit': 93, 'fn_hit': 2}}, 'checkpoint': 70} \n",
      "\n",
      "\n",
      "{'accuracy': 0.9567901234567902, 'mean_square_error': 0.09533219348545213, 'categorical_crossentropy': 0.18547955265751592, 'essential_metrics': {0: {'tp_hit': 76, 'fp_hit': 5, 'tn_hit': 25, 'fn_hit': 2}, 1: {'tp_hit': 13, 'fp_hit': 1, 'tn_hit': 91, 'fn_hit': 3}, 2: {'tp_hit': 12, 'fp_hit': 1, 'tn_hit': 93, 'fn_hit': 2}}, 'checkpoint': 80} \n",
      "\n",
      "\n",
      "{'accuracy': 0.9629629629629629, 'mean_square_error': 0.09274630323893608, 'categorical_crossentropy': 0.17877960205078125, 'essential_metrics': {0: {'tp_hit': 75, 'fp_hit': 3, 'tn_hit': 27, 'fn_hit': 3}, 1: {'tp_hit': 15, 'fp_hit': 2, 'tn_hit': 90, 'fn_hit': 1}, 2: {'tp_hit': 12, 'fp_hit': 1, 'tn_hit': 93, 'fn_hit': 2}}, 'checkpoint': 90} \n",
      "\n",
      "\n",
      "{'accuracy': 0.9691358024691358, 'mean_square_error': 0.07988644628667121, 'categorical_crossentropy': 0.1468026284818296, 'essential_metrics': {0: {'tp_hit': 76, 'fp_hit': 3, 'tn_hit': 27, 'fn_hit': 2}, 1: {'tp_hit': 15, 'fp_hit': 1, 'tn_hit': 91, 'fn_hit': 1}, 2: {'tp_hit': 12, 'fp_hit': 1, 'tn_hit': 93, 'fn_hit': 2}}, 'checkpoint': 100} \n",
      "\n",
      "\n",
      "{'accuracy': 0.9691358024691358, 'mean_square_error': 0.07234593482608907, 'categorical_crossentropy': 0.12941047880384657, 'essential_metrics': {0: {'tp_hit': 76, 'fp_hit': 3, 'tn_hit': 27, 'fn_hit': 2}, 1: {'tp_hit': 15, 'fp_hit': 1, 'tn_hit': 91, 'fn_hit': 1}, 2: {'tp_hit': 12, 'fp_hit': 1, 'tn_hit': 93, 'fn_hit': 2}}, 'checkpoint': 110} \n",
      "\n",
      "\n",
      "{'accuracy': 0.9629629629629629, 'mean_square_error': 0.07268994240852243, 'categorical_crossentropy': 0.12617840590300383, 'essential_metrics': {0: {'tp_hit': 75, 'fp_hit': 3, 'tn_hit': 27, 'fn_hit': 3}, 1: {'tp_hit': 15, 'fp_hit': 2, 'tn_hit': 90, 'fn_hit': 1}, 2: {'tp_hit': 12, 'fp_hit': 1, 'tn_hit': 93, 'fn_hit': 2}}, 'checkpoint': 120} \n",
      "\n",
      "\n",
      "{'accuracy': 0.9629629629629629, 'mean_square_error': 0.06539602574254953, 'categorical_crossentropy': 0.11258746959544995, 'essential_metrics': {0: {'tp_hit': 75, 'fp_hit': 3, 'tn_hit': 27, 'fn_hit': 3}, 1: {'tp_hit': 15, 'fp_hit': 2, 'tn_hit': 90, 'fn_hit': 1}, 2: {'tp_hit': 12, 'fp_hit': 1, 'tn_hit': 93, 'fn_hit': 2}}, 'checkpoint': 130} \n",
      "\n",
      "\n",
      "{'accuracy': 0.9691358024691358, 'mean_square_error': 0.06719889165859093, 'categorical_crossentropy': 0.1175081729888916, 'essential_metrics': {0: {'tp_hit': 75, 'fp_hit': 2, 'tn_hit': 28, 'fn_hit': 3}, 1: {'tp_hit': 15, 'fp_hit': 2, 'tn_hit': 90, 'fn_hit': 1}, 2: {'tp_hit': 13, 'fp_hit': 1, 'tn_hit': 93, 'fn_hit': 1}}, 'checkpoint': 140} \n",
      "\n",
      "\n",
      "{'accuracy': 0.9691358024691358, 'mean_square_error': 0.06695047382314895, 'categorical_crossentropy': 0.1148549097555655, 'essential_metrics': {0: {'tp_hit': 75, 'fp_hit': 2, 'tn_hit': 28, 'fn_hit': 3}, 1: {'tp_hit': 15, 'fp_hit': 2, 'tn_hit': 90, 'fn_hit': 1}, 2: {'tp_hit': 13, 'fp_hit': 1, 'tn_hit': 93, 'fn_hit': 1}}, 'checkpoint': 150} \n",
      "\n",
      "\n",
      "{'accuracy': 0.9691358024691358, 'mean_square_error': 0.06955698655857459, 'categorical_crossentropy': 0.11590314794469762, 'essential_metrics': {0: {'tp_hit': 75, 'fp_hit': 2, 'tn_hit': 28, 'fn_hit': 3}, 1: {'tp_hit': 15, 'fp_hit': 2, 'tn_hit': 90, 'fn_hit': 1}, 2: {'tp_hit': 13, 'fp_hit': 1, 'tn_hit': 93, 'fn_hit': 1}}, 'checkpoint': 160} \n",
      "\n",
      "\n",
      "{'accuracy': 0.9629629629629629, 'mean_square_error': 0.07751278142407562, 'categorical_crossentropy': 0.12991083992852104, 'essential_metrics': {0: {'tp_hit': 73, 'fp_hit': 1, 'tn_hit': 29, 'fn_hit': 5}, 1: {'tp_hit': 16, 'fp_hit': 4, 'tn_hit': 88, 'fn_hit': 0}, 2: {'tp_hit': 13, 'fp_hit': 1, 'tn_hit': 93, 'fn_hit': 1}}, 'checkpoint': 170} \n",
      "\n",
      "\n",
      "{'accuracy': 0.9753086419753086, 'mean_square_error': 0.06729425755506489, 'categorical_crossentropy': 0.11185423533121745, 'essential_metrics': {0: {'tp_hit': 75, 'fp_hit': 1, 'tn_hit': 29, 'fn_hit': 3}, 1: {'tp_hit': 16, 'fp_hit': 2, 'tn_hit': 90, 'fn_hit': 0}, 2: {'tp_hit': 13, 'fp_hit': 1, 'tn_hit': 93, 'fn_hit': 1}}, 'checkpoint': 180} \n",
      "\n",
      "\n",
      "{'accuracy': 0.9691358024691358, 'mean_square_error': 0.06935826798639046, 'categorical_crossentropy': 0.11107045632821543, 'essential_metrics': {0: {'tp_hit': 75, 'fp_hit': 2, 'tn_hit': 28, 'fn_hit': 3}, 1: {'tp_hit': 15, 'fp_hit': 2, 'tn_hit': 90, 'fn_hit': 1}, 2: {'tp_hit': 13, 'fp_hit': 1, 'tn_hit': 93, 'fn_hit': 1}}, 'checkpoint': 190} \n",
      "\n",
      "\n",
      "{'accuracy': 0.9691358024691358, 'mean_square_error': 0.06448241106105984, 'categorical_crossentropy': 0.10497893227471246, 'essential_metrics': {0: {'tp_hit': 75, 'fp_hit': 2, 'tn_hit': 28, 'fn_hit': 3}, 1: {'tp_hit': 15, 'fp_hit': 2, 'tn_hit': 90, 'fn_hit': 1}, 2: {'tp_hit': 13, 'fp_hit': 1, 'tn_hit': 93, 'fn_hit': 1}}, 'checkpoint': 200} \n",
      "\n",
      "\n"
     ]
    }
   ],
   "source": [
    "for checkpoint in checkpoints:\n",
    "    print(checkpoint, '\\n\\n')"
   ]
  },
  {
   "cell_type": "code",
   "execution_count": 14,
   "metadata": {},
   "outputs": [
    {
     "name": "stdout",
     "output_type": "stream",
     "text": [
      "Layer 1\n",
      "Neuron 0: weights:\n",
      "[-1.9183961  2.863696   3.         0.3794336 -0.9128889]\n",
      " bias: -2.1935200691223145\n",
      "\n",
      "Neuron 1: weights:\n",
      "[ 2.3852844  -3.         -3.         -1.8859147   0.96455145]\n",
      " bias: 2.2554235458374023\n",
      "\n",
      "Neuron 2: weights:\n",
      "[-0.5165051  3.         3.        -0.6185749 -3.       ]\n",
      " bias: 3.0\n",
      "\n",
      "Neuron 3: weights:\n",
      "[ 0.09121122  3.         -0.8721184  -0.65796167 -3.        ]\n",
      " bias: 2.3755807876586914\n",
      "\n",
      "$\n",
      "Layer 2\n",
      "Neuron 0: weights:\n",
      "[-3.         3.         2.6276598  3.       ]\n",
      " bias: -2.558619737625122\n",
      "\n",
      "Neuron 1: weights:\n",
      "[ 3.         -3.          0.14105284  2.3483543 ]\n",
      " bias: -0.6641572117805481\n",
      "\n",
      "Neuron 2: weights:\n",
      "[-3.         1.8032322 -3.        -3.       ]\n",
      " bias: 3.0\n",
      "\n",
      "$\n",
      "\n"
     ]
    }
   ],
   "source": [
    "print(model)"
   ]
  },
  {
   "cell_type": "code",
   "execution_count": null,
   "metadata": {},
   "outputs": [],
   "source": []
  }
 ],
 "metadata": {
  "kernelspec": {
   "display_name": "Python 3",
   "language": "python",
   "name": "python3"
  },
  "language_info": {
   "codemirror_mode": {
    "name": "ipython",
    "version": 3
   },
   "file_extension": ".py",
   "mimetype": "text/x-python",
   "name": "python",
   "nbconvert_exporter": "python",
   "pygments_lexer": "ipython3",
   "version": "3.6.12"
  }
 },
 "nbformat": 4,
 "nbformat_minor": 2
}
