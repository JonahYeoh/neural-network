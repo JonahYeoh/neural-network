{
 "cells": [
  {
   "cell_type": "code",
   "execution_count": 1,
   "metadata": {},
   "outputs": [],
   "source": [
    "# dependency\n",
    "import numpy as np\n",
    "import pandas as pd\n",
    "import copy\n",
    "import math\n",
    "import sys\n",
    "import os\n",
    "from activations import relu, leaky_relu, sigmoid, tanh, softmax, d_sigmoid, d_relu\n",
    "from initializers import glorot_uniform, random_normal, random_uniform\n",
    "from regularizers import l1_regularizer, l2_regularizer\n",
    "from utility import trim_tail, multiply, subtract, get_nparams, one_hot_encoding, get_data\n",
    "from metrics import MSE, CCE, ACC, PRECISION, RECALL, essential_metrics, wondering_penalty, close_gap_penalty\n",
    "from pso import PSO\n",
    "from ga import GA\n",
    "from nn import Network\n",
    "from layer import DenseLayer\n",
    "from scalers import MinMaxScaler, StandardScaler"
   ]
  },
  {
   "cell_type": "code",
   "execution_count": 2,
   "metadata": {},
   "outputs": [],
   "source": [
    "# reference\n",
    "metrics_fn_dict = dict()\n",
    "metrics_fn_dict['accuracy'] = ACC\n",
    "metrics_fn_dict['categorical_crossentropy'] = CCE\n",
    "metrics_fn_dict['mean_square_error'] = MSE\n",
    "metrics_fn_dict['precision'] = PRECISION\n",
    "metrics_fn_dict['recall'] = RECALL\n",
    "metrics_fn_dict['essential_metrics'] = essential_metrics"
   ]
  },
  {
   "cell_type": "code",
   "execution_count": 3,
   "metadata": {},
   "outputs": [],
   "source": [
    "# model\n",
    "model = Network(5, lr = None)\n",
    "model.add_layer(DenseLayer(1, 4, True, afn=sigmoid, dafn=None, rfn=None))\n",
    "model.add_layer(DenseLayer(2, 3, True, afn=softmax, dafn=None, rfn=None))"
   ]
  },
  {
   "cell_type": "code",
   "execution_count": 4,
   "metadata": {},
   "outputs": [],
   "source": [
    "pso = PSO(dict(m = 50,\n",
    "    weight_constraint = [-3, 3], \n",
    "    velocity_constraint = [-0.1, 0.1],\n",
    "    c1 = 2,\n",
    "    c2 = 2,\n",
    "    w = 1,\n",
    "    w_decay = 1,\n",
    "    scale_hyperparameter = False,\n",
    "    regularizer = l2_regularizer,\n",
    "    mask = False))"
   ]
  },
  {
   "cell_type": "code",
   "execution_count": 5,
   "metadata": {},
   "outputs": [
    {
     "name": "stdout",
     "output_type": "stream",
     "text": [
      "building layer 1 with 5\n",
      "24\n",
      "building layer 2 with 4\n",
      "15\n"
     ]
    }
   ],
   "source": [
    "model.compile(loss_fn = 'categorical_crossentropy', optimizer = pso, \\\n",
    "    metrics = ['accuracy', 'mean_square_error', 'categorical_crossentropy'])"
   ]
  },
  {
   "cell_type": "code",
   "execution_count": 6,
   "metadata": {},
   "outputs": [
    {
     "name": "stdout",
     "output_type": "stream",
     "text": [
      "<class 'pandas.core.frame.DataFrame'>\n",
      "RangeIndex: 107 entries, 0 to 106\n",
      "Data columns (total 6 columns):\n",
      " #   Column  Non-Null Count  Dtype  \n",
      "---  ------  --------------  -----  \n",
      " 0   f1      107 non-null    float32\n",
      " 1   f2      107 non-null    float32\n",
      " 2   f3      107 non-null    float32\n",
      " 3   f4      107 non-null    float32\n",
      " 4   f5      107 non-null    float32\n",
      " 5   label   107 non-null    float32\n",
      "dtypes: float32(6)\n",
      "memory usage: 2.6 KB\n",
      "None\n",
      "<class 'pandas.core.frame.DataFrame'>\n",
      "RangeIndex: 108 entries, 0 to 107\n",
      "Data columns (total 6 columns):\n",
      " #   Column  Non-Null Count  Dtype  \n",
      "---  ------  --------------  -----  \n",
      " 0   f1      108 non-null    float32\n",
      " 1   f2      108 non-null    float32\n",
      " 2   f3      108 non-null    float32\n",
      " 3   f4      108 non-null    float32\n",
      " 4   f5      108 non-null    float32\n",
      " 5   label   108 non-null    float32\n",
      "dtypes: float32(6)\n",
      "memory usage: 2.7 KB\n",
      "None\n"
     ]
    }
   ],
   "source": [
    "# data loading\n",
    "DATA = os.path.join('c:\\\\Users\\\\tcumi\\\\github_repo\\\\neural-network\\\\', 'dataset')\n",
    "GROUP = 3\n",
    "COLUMNS = ['f1', 'f2', 'f3', 'f4', 'f5', 'label']\n",
    "N_CLASS = 3\n",
    "EPOCHS = 500\n",
    "train_dir, test_dir = \"..//dataset//training_data{}.txt\".format(GROUP), \"..//dataset//testing_data{}.txt\".format(GROUP)\n",
    "train, test = get_data(DATA, train_dir, COLUMNS), get_data(DATA, test_dir, COLUMNS)\n",
    "# shuffle\n",
    "train, test = train.sample(frac=1), test.sample(frac=1)\n",
    "x_train, y_train = train.drop('label', axis=1), train['label']\n",
    "x_test, y_test = test.drop('label', axis=1), test['label']"
   ]
  },
  {
   "cell_type": "code",
   "execution_count": 7,
   "metadata": {},
   "outputs": [],
   "source": [
    "# data scaling and encoding\n",
    "scaler = StandardScaler(['f1', 'f2', 'f3', 'f4', 'f5'])\n",
    "scaler.fit(x_train)\n",
    "x_train = scaler.transform(x_train)\n",
    "x_test = scaler.transform(x_test)\n",
    "y_train = one_hot_encoding(y_train, N_CLASS)\n",
    "y_test = one_hot_encoding(y_test, N_CLASS)"
   ]
  },
  {
   "cell_type": "code",
   "execution_count": 8,
   "metadata": {
    "tags": [
     "outputPrepend"
    ]
   },
   "outputs": [
    {
     "name": "stdout",
     "output_type": "stream",
     "text": [
      "Checkpoint 100, Accuracy: 0.9320987654320988, Loss: 0.4113633191144025\n",
      "Checkpoint 200, Accuracy: 0.9382716049382716, Loss: 0.3575350796734845\n",
      "Checkpoint 300, Accuracy: 0.9382716049382716, Loss: 0.34334083839699076\n",
      "Checkpoint 400, Accuracy: 0.9382716049382716, Loss: 0.34616187766746237\n",
      "Checkpoint 500, Accuracy: 0.9444444444444444, Loss: 0.3457119906390155\n"
     ]
    }
   ],
   "source": [
    "# learning phase\n",
    "breakpoint = 100\n",
    "checkpoints = list()\n",
    "history = list()\n",
    "for century in range(0, EPOCHS, breakpoint):\n",
    "    sub_history = model.fit(x_train, y_train, breakpoint, verbose = 0)\n",
    "    score = model.evaluate(x_test, y_test, False, verbose = 0)\n",
    "    print('Checkpoint {}, Accuracy: {}, Loss: {}'.format(century+breakpoint, score['accuracy'], score[model.loss_fn]))\n",
    "    score['checkpoint'] = century + breakpoint\n",
    "    checkpoints.append(score)\n",
    "    history.extend(sub_history)"
   ]
  },
  {
   "cell_type": "code",
   "execution_count": 9,
   "metadata": {},
   "outputs": [],
   "source": [
    "import matplotlib.pyplot as plt\n",
    "\n",
    "def draw_plot(x, y_list, x_label=None, y_label=None, legend=None, title=None):\n",
    "    fig, ax = plt.subplots(figsize=(12,5))\n",
    "    for xi, yi in zip(x, y_list):\n",
    "        ax.plot(xi, yi)\n",
    "    if x_label is not None and y_label is not None:\n",
    "        ax.set(xlabel=x_label, ylabel=y_label, title='{} VS {}'.format(x_label, y_label))\n",
    "    if legend is not None:\n",
    "        ax.legend(legend)\n",
    "    ax.grid()\n",
    "    plt.show()"
   ]
  },
  {
   "cell_type": "code",
   "execution_count": 10,
   "metadata": {},
   "outputs": [
    {
     "name": "stdout",
     "output_type": "stream",
     "text": [
      "[1. 0. 0.] <-> [0.8295829  0.08188626 0.08853083]\n",
      "[1. 0. 0.] <-> [0.7856141  0.05778037 0.15660551]\n",
      "[0. 1. 0.] <-> [0.46494392 0.5060238  0.02903233]\n",
      "[1. 0. 0.] <-> [0.6751976  0.27783015 0.04697226]\n",
      "[1. 0. 0.] <-> [0.7952148  0.13654429 0.06824099]\n",
      "[1. 0. 0.] <-> [0.8221728  0.05435902 0.12346808]\n",
      "[1. 0. 0.] <-> [0.74513435 0.06135859 0.19350697]\n",
      "[1. 0. 0.] <-> [0.76772636 0.15600827 0.07626532]\n",
      "[0. 0. 1.] <-> [0.21852109 0.01309961 0.7683793 ]\n",
      "[1. 0. 0.] <-> [0.82669085 0.07628883 0.09702031]\n",
      "[0. 1. 0.] <-> [0.5549794  0.37143192 0.07358869]\n",
      "[1. 0. 0.] <-> [0.7459576  0.05572667 0.19831574]\n",
      "[0. 1. 0.] <-> [0.42994136 0.51752174 0.05253695]\n",
      "[1. 0. 0.] <-> [0.81702906 0.04594741 0.1370235 ]\n",
      "[1. 0. 0.] <-> [0.8523486  0.06047024 0.08718118]\n",
      "[1. 0. 0.] <-> [0.8403932  0.05831182 0.101295  ]\n",
      "[1. 0. 0.] <-> [0.7437982  0.1573958  0.09880605]\n",
      "[1. 0. 0.] <-> [0.7984661  0.08859188 0.11294204]\n",
      "[1. 0. 0.] <-> [0.82214165 0.08611143 0.09174693]\n",
      "[1. 0. 0.] <-> [0.7346395  0.06259985 0.20276059]\n",
      "[1. 0. 0.] <-> [0.80441827 0.10629164 0.08929005]\n",
      "[0. 0. 1.] <-> [0.20844005 0.01139804 0.7801619 ]\n",
      "[1. 0. 0.] <-> [0.7444477  0.17640042 0.07915189]\n",
      "[1. 0. 0.] <-> [0.8140921  0.08722895 0.09867889]\n",
      "[1. 0. 0.] <-> [0.8240178  0.04348042 0.13250174]\n",
      "[1. 0. 0.] <-> [0.7532853  0.10216149 0.14455323]\n",
      "[1. 0. 0.] <-> [0.7715036  0.13921782 0.08927862]\n",
      "[1. 0. 0.] <-> [0.8248945  0.09386248 0.08124297]\n",
      "[1. 0. 0.] <-> [0.7901166  0.10429559 0.10558783]\n",
      "[1. 0. 0.] <-> [0.8431397  0.03986815 0.11699215]\n",
      "[1. 0. 0.] <-> [0.76560134 0.16572511 0.06867349]\n",
      "[1. 0. 0.] <-> [0.79748666 0.05790352 0.14460985]\n",
      "[1. 0. 0.] <-> [0.71493125 0.04680951 0.23825923]\n",
      "[1. 0. 0.] <-> [0.80123246 0.11242754 0.08633998]\n",
      "[0. 1. 0.] <-> [0.311453  0.6654614 0.0230855]\n",
      "[1. 0. 0.] <-> [0.75364995 0.04999092 0.19635916]\n",
      "[0. 1. 0.] <-> [0.31433907 0.6621585  0.02350242]\n",
      "[1. 0. 0.] <-> [0.56887895 0.03635331 0.39476773]\n",
      "[1. 0. 0.] <-> [0.7709802  0.14927074 0.07974914]\n",
      "[1. 0. 0.] <-> [0.801247   0.06706475 0.13168833]\n",
      "[1. 0. 0.] <-> [0.7772892  0.11700191 0.10570883]\n",
      "[1. 0. 0.] <-> [0.79314786 0.08556183 0.1212903 ]\n",
      "[1. 0. 0.] <-> [0.8324315  0.08925175 0.07831673]\n",
      "[1. 0. 0.] <-> [0.79648495 0.0425102  0.16100486]\n",
      "[1. 0. 0.] <-> [0.79642767 0.09099697 0.11257537]\n",
      "[1. 0. 0.] <-> [0.8437558  0.04255159 0.11369263]\n",
      "[1. 0. 0.] <-> [0.7872641  0.1091286  0.10360723]\n",
      "[1. 0. 0.] <-> [0.8078808  0.11871636 0.07340278]\n",
      "[0. 0. 1.] <-> [0.82457584 0.02834232 0.14708182]\n",
      "[1. 0. 0.] <-> [0.7363904  0.20423777 0.05937186]\n",
      "[1. 0. 0.] <-> [0.7862698  0.13043566 0.08329453]\n",
      "[1. 0. 0.] <-> [0.8092472  0.06904276 0.12171005]\n",
      "[1. 0. 0.] <-> [0.7481611  0.05515788 0.19668107]\n",
      "[1. 0. 0.] <-> [0.81720215 0.0476344  0.13516344]\n",
      "[1. 0. 0.] <-> [0.78038675 0.0969565  0.1226568 ]\n",
      "[1. 0. 0.] <-> [0.8189959  0.06085219 0.12015191]\n",
      "[1. 0. 0.] <-> [0.8305106  0.05902499 0.11046448]\n",
      "[0. 0. 1.] <-> [0.6575794  0.03137129 0.31104934]\n",
      "[1. 0. 0.] <-> [0.6886381 0.0386473 0.2727146]\n",
      "[1. 0. 0.] <-> [0.8364163  0.0724252  0.09115845]\n",
      "[1. 0. 0.] <-> [0.79220754 0.08301143 0.12478106]\n",
      "[1. 0. 0.] <-> [0.768008   0.03723857 0.19475348]\n",
      "[1. 0. 0.] <-> [0.7723752  0.07774935 0.14987543]\n",
      "[1. 0. 0.] <-> [0.72533536 0.20574126 0.06892341]\n",
      "[0. 1. 0.] <-> [0.2078546  0.7743083  0.01783709]\n",
      "[1. 0. 0.] <-> [0.80417866 0.06339788 0.13242337]\n",
      "[1. 0. 0.] <-> [0.7196837  0.20068374 0.07963249]\n",
      "[1. 0. 0.] <-> [0.8197035  0.08976664 0.09052978]\n",
      "[0. 0. 1.] <-> [0.25208005 0.01330135 0.73461854]\n",
      "[0. 1. 0.] <-> [0.58253723 0.37472048 0.04274226]\n",
      "[0. 1. 0.] <-> [0.53846925 0.4264401  0.03509072]\n",
      "[1. 0. 0.] <-> [0.7279418  0.15770014 0.11435805]\n",
      "[1. 0. 0.] <-> [0.7764167  0.11952227 0.10406095]\n",
      "[0. 1. 0.] <-> [0.2361271  0.7485154  0.01535748]\n",
      "[1. 0. 0.] <-> [0.7333853  0.11923879 0.14737588]\n",
      "[0. 0. 1.] <-> [0.35909763 0.01777366 0.6231287 ]\n",
      "[0. 0. 1.] <-> [0.3004412  0.01665699 0.68290174]\n",
      "[1. 0. 0.] <-> [0.79861766 0.13570859 0.06567373]\n",
      "[1. 0. 0.] <-> [0.75659686 0.05451634 0.18888682]\n",
      "[0. 0. 1.] <-> [0.28999642 0.01586344 0.69414014]\n",
      "[0. 0. 1.] <-> [0.73387617 0.0320311  0.23409276]\n",
      "[0. 1. 0.] <-> [0.28844082 0.6933131  0.01824607]\n",
      "[1. 0. 0.] <-> [0.78929985 0.08446487 0.12623528]\n",
      "[1. 0. 0.] <-> [0.7807362  0.07864402 0.14061981]\n",
      "[1. 0. 0.] <-> [0.8261587  0.07789836 0.09594299]\n",
      "[0. 0. 1.] <-> [0.20949778 0.01154215 0.77896005]\n",
      "[1. 0. 0.] <-> [0.8150724 0.0387485 0.1461791]\n",
      "[1. 0. 0.] <-> [0.7605786  0.10131294 0.13810858]\n",
      "[1. 0. 0.] <-> [0.76772636 0.14500359 0.08727008]\n",
      "[1. 0. 0.] <-> [0.78305006 0.0904076  0.12654227]\n",
      "[1. 0. 0.] <-> [0.8262241  0.04549586 0.12828001]\n",
      "[0. 0. 1.] <-> [0.21812667 0.01257506 0.76929826]\n",
      "[1. 0. 0.] <-> [0.78546196 0.04302932 0.17150876]\n",
      "[0. 0. 1.] <-> [0.276411   0.01972549 0.70386356]\n",
      "[1. 0. 0.] <-> [0.7761943  0.07738834 0.14641742]\n",
      "[0. 1. 0.] <-> [0.4246184  0.5451063  0.03027529]\n",
      "[0. 1. 0.] <-> [0.20806372 0.7746411  0.01729517]\n",
      "[1. 0. 0.] <-> [0.80054325 0.0658531  0.13360365]\n",
      "[1. 0. 0.] <-> [0.7492273  0.14031312 0.11045959]\n",
      "[1. 0. 0.] <-> [0.7558281  0.18449295 0.05967901]\n",
      "[1. 0. 0.] <-> [0.78455067 0.11619242 0.09925686]\n",
      "[0. 1. 0.] <-> [0.6337763  0.32080626 0.04541744]\n",
      "[1. 0. 0.] <-> [0.82712674 0.07191712 0.10095607]\n",
      "[0. 1. 0.] <-> [0.682143   0.27585882 0.04199822]\n",
      "[0. 0. 1.] <-> [0.22411254 0.01245936 0.7634281 ]\n",
      "[1. 0. 0.] <-> [0.7415778  0.10191339 0.15650876]\n",
      "[0. 1. 0.] <-> [0.4870955  0.4799049  0.03299963]\n",
      "[1. 0. 0.] <-> [0.8410831  0.04510709 0.11380982]\n",
      "{'accuracy': 0.9444444444444444, 'mean_square_error': 0.1640984996813968, 'categorical_crossentropy': 0.3457119906390155, 'essential_metrics': {0: {'tp_hit': 80, 'fp_hit': 9, 'tn_hit': 19, 'fn_hit': 0}, 1: {'tp_hit': 9, 'fp_hit': 0, 'tn_hit': 93, 'fn_hit': 6}, 2: {'tp_hit': 10, 'fp_hit': 0, 'tn_hit': 95, 'fn_hit': 3}}}\n"
     ]
    }
   ],
   "source": [
    "# recall phase\n",
    "score = model.evaluate(x_test, y_test, False)\n",
    "print(score)"
   ]
  },
  {
   "cell_type": "code",
   "execution_count": 11,
   "metadata": {},
   "outputs": [
    {
     "data": {
      "image/png": "[encoded data removed]",
      "text/plain": [
       "<Figure size 864x360 with 1 Axes>"
      ]
     },
     "metadata": {
      "needs_background": "light"
     },
     "output_type": "display_data"
    },
    {
     "data": {
      "image/png": "[encoded data removed]",
      "text/plain": [
       "<Figure size 864x360 with 1 Axes>"
      ]
     },
     "metadata": {
      "needs_background": "light"
     },
     "output_type": "display_data"
    }
   ],
   "source": [
    "draw_plot(x = [[i for i in range(len(history))], [(i+1)*breakpoint for i in range(len(checkpoints))]], y_list = [history, [ ckp[model.loss_fn] for ckp in checkpoints ]], x_label = 'Epochs', \\\n",
    "    y_label = model.loss_fn, legend=['train', 'test'])\n",
    "acc = [ ckp['accuracy'] for ckp in checkpoints ]\n",
    "draw_plot(x = [[(i+1)*breakpoint for i in range(len(checkpoints))]], y_list = [acc], x_label = 'Checkpoints', \\\n",
    "    y_label = 'accuracy')"
   ]
  },
  {
   "cell_type": "code",
   "execution_count": 12,
   "metadata": {},
   "outputs": [
    {
     "name": "stdout",
     "output_type": "stream",
     "text": [
      "{'accuracy': 0.9320987654320988, 'mean_square_error': 0.20335443562045724, 'categorical_crossentropy': 0.4113633191144025, 'essential_metrics': {0: {'tp_hit': 80, 'fp_hit': 11, 'tn_hit': 17, 'fn_hit': 0}, 1: {'tp_hit': 7, 'fp_hit': 0, 'tn_hit': 93, 'fn_hit': 8}, 2: {'tp_hit': 10, 'fp_hit': 0, 'tn_hit': 95, 'fn_hit': 3}}, 'checkpoint': 100} \n",
      "\n",
      "\n",
      "{'accuracy': 0.9382716049382716, 'mean_square_error': 0.1709389019628814, 'categorical_crossentropy': 0.3575350796734845, 'essential_metrics': {0: {'tp_hit': 80, 'fp_hit': 10, 'tn_hit': 18, 'fn_hit': 0}, 1: {'tp_hit': 8, 'fp_hit': 0, 'tn_hit': 93, 'fn_hit': 7}, 2: {'tp_hit': 10, 'fp_hit': 0, 'tn_hit': 95, 'fn_hit': 3}}, 'checkpoint': 200} \n",
      "\n",
      "\n",
      "{'accuracy': 0.9382716049382716, 'mean_square_error': 0.16415173075593614, 'categorical_crossentropy': 0.34334083839699076, 'essential_metrics': {0: {'tp_hit': 80, 'fp_hit': 10, 'tn_hit': 18, 'fn_hit': 0}, 1: {'tp_hit': 8, 'fp_hit': 0, 'tn_hit': 93, 'fn_hit': 7}, 2: {'tp_hit': 10, 'fp_hit': 0, 'tn_hit': 95, 'fn_hit': 3}}, 'checkpoint': 300} \n",
      "\n",
      "\n",
      "{'accuracy': 0.9382716049382716, 'mean_square_error': 0.16631927388832732, 'categorical_crossentropy': 0.34616187766746237, 'essential_metrics': {0: {'tp_hit': 80, 'fp_hit': 10, 'tn_hit': 18, 'fn_hit': 0}, 1: {'tp_hit': 8, 'fp_hit': 0, 'tn_hit': 93, 'fn_hit': 7}, 2: {'tp_hit': 10, 'fp_hit': 0, 'tn_hit': 95, 'fn_hit': 3}}, 'checkpoint': 400} \n",
      "\n",
      "\n",
      "{'accuracy': 0.9444444444444444, 'mean_square_error': 0.1640984996813968, 'categorical_crossentropy': 0.3457119906390155, 'essential_metrics': {0: {'tp_hit': 80, 'fp_hit': 9, 'tn_hit': 19, 'fn_hit': 0}, 1: {'tp_hit': 9, 'fp_hit': 0, 'tn_hit': 93, 'fn_hit': 6}, 2: {'tp_hit': 10, 'fp_hit': 0, 'tn_hit': 95, 'fn_hit': 3}}, 'checkpoint': 500} \n",
      "\n",
      "\n"
     ]
    }
   ],
   "source": [
    "for checkpoint in checkpoints:\n",
    "    print(checkpoint, '\\n\\n')"
   ]
  },
  {
   "cell_type": "code",
   "execution_count": 13,
   "metadata": {},
   "outputs": [
    {
     "name": "stdout",
     "output_type": "stream",
     "text": [
      "Layer 1\n",
      "Neuron 0: weights:\n",
      "[-0.24754976 -0.16906068 -0.34789366 -1.0691334  -0.65673864]\n",
      " bias: 0.21840959787368774\n",
      "\n",
      "Neuron 1: weights:\n",
      "[ 0.35440966 -0.59261817 -0.24187641  0.63828135  0.8269654 ]\n",
      " bias: -0.8061704039573669\n",
      "\n",
      "Neuron 2: weights:\n",
      "[-0.45385903  0.9914103   0.5976286  -0.15999745 -0.5158977 ]\n",
      " bias: -0.27188313007354736\n",
      "\n",
      "Neuron 3: weights:\n",
      "[ 0.5579885  -1.0574099  -0.66501164 -0.16206768  0.3674398 ]\n",
      " bias: 0.6098847389221191\n",
      "\n",
      "$\n",
      "Layer 2\n",
      "Neuron 0: weights:\n",
      "[ 1.2446655  -0.72084284 -0.33915928  1.0065798 ]\n",
      " bias: 0.1938452273607254\n",
      "\n",
      "Neuron 1: weights:\n",
      "[-0.0440325 -0.8158059  1.6920581 -1.7420284]\n",
      " bias: 0.10970383137464523\n",
      "\n",
      "Neuron 2: weights:\n",
      "[-1.0511401   1.3326182  -1.3651586   0.74336606]\n",
      " bias: -0.26867780089378357\n",
      "\n",
      "$\n",
      "\n"
     ]
    }
   ],
   "source": [
    "print(model)"
   ]
  }
 ],
 "metadata": {
  "kernelspec": {
   "display_name": "Python 3",
   "language": "python",
   "name": "python3"
  },
  "language_info": {
   "codemirror_mode": {
    "name": "ipython",
    "version": 3
   },
   "file_extension": ".py",
   "mimetype": "text/x-python",
   "name": "python",
   "nbconvert_exporter": "python",
   "pygments_lexer": "ipython3",
   "version": "3.6.10"
  }
 },
 "nbformat": 4,
 "nbformat_minor": 2
}
