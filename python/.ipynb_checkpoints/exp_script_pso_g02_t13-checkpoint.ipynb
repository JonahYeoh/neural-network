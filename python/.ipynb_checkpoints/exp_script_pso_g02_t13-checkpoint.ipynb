{
 "cells": [
  {
   "cell_type": "code",
   "execution_count": 1,
   "metadata": {},
   "outputs": [],
   "source": [
    "# dependency\n",
    "import numpy as np\n",
    "import pandas as pd\n",
    "import copy\n",
    "import math\n",
    "import sys\n",
    "import os\n",
    "from activations import relu, leaky_relu, sigmoid, tanh, softmax, d_sigmoid, d_relu\n",
    "from initializers import glorot_uniform, random_normal, random_uniform\n",
    "from regularizers import l1_regularizer, l2_regularizer\n",
    "from utility import trim_tail, multiply, subtract, get_nparams, one_hot_encoding, get_data\n",
    "from metrics import MSE, CCE, ACC, PRECISION, RECALL, essential_metrics, wondering_penalty, close_gap_penalty\n",
    "from pso import PSO\n",
    "from ga import GA\n",
    "from nn import Network\n",
    "from layer import DenseLayer\n",
    "from scalers import MinMaxScaler, StandardScaler"
   ]
  },
  {
   "cell_type": "code",
   "execution_count": 2,
   "metadata": {},
   "outputs": [],
   "source": [
    "# reference\n",
    "metrics_fn_dict = dict()\n",
    "metrics_fn_dict['accuracy'] = ACC\n",
    "metrics_fn_dict['categorical_crossentropy'] = CCE\n",
    "metrics_fn_dict['mean_square_error'] = MSE\n",
    "metrics_fn_dict['precision'] = PRECISION\n",
    "metrics_fn_dict['recall'] = RECALL\n",
    "metrics_fn_dict['essential_metrics'] = essential_metrics"
   ]
  },
  {
   "cell_type": "code",
   "execution_count": 3,
   "metadata": {},
   "outputs": [],
   "source": [
    "# model\n",
    "model = Network(5, lr = None)\n",
    "model.add_layer(DenseLayer(1, 4, True, afn=sigmoid, dafn=None, rfn=None))\n",
    "model.add_layer(DenseLayer(2, 3, True, afn=softmax, dafn=None, rfn=None))"
   ]
  },
  {
   "cell_type": "code",
   "execution_count": 4,
   "metadata": {},
   "outputs": [
    {
     "name": "stdout",
     "output_type": "stream",
     "text": [
      "see one see two 2 2\n"
     ]
    }
   ],
   "source": [
    "pso = PSO(dict(m = 50,\n",
    "    weight_constraint = [-3, 3], \n",
    "    velocity_constraint = [-0.1, 0.1],\n",
    "    c1 = 2,\n",
    "    c2 = 2,\n",
    "    w = 1.2,\n",
    "    w_decay = 1,\n",
    "    scale_hyperparameter = False,\n",
    "    regularizer = None,\n",
    "    mask = True))"
   ]
  },
  {
   "cell_type": "code",
   "execution_count": 5,
   "metadata": {},
   "outputs": [
    {
     "name": "stdout",
     "output_type": "stream",
     "text": [
      "building layer 1 with 5\n",
      "24\n",
      "building layer 2 with 4\n",
      "15\n"
     ]
    }
   ],
   "source": [
    "model.compile(loss_fn = 'categorical_crossentropy', optimizer = pso, \\\n",
    "    metrics = ['accuracy', 'mean_square_error', 'categorical_crossentropy'])"
   ]
  },
  {
   "cell_type": "code",
   "execution_count": 6,
   "metadata": {},
   "outputs": [
    {
     "name": "stdout",
     "output_type": "stream",
     "text": [
      "<class 'pandas.core.frame.DataFrame'>\n",
      "RangeIndex: 107 entries, 0 to 106\n",
      "Data columns (total 6 columns):\n",
      " #   Column  Non-Null Count  Dtype  \n",
      "---  ------  --------------  -----  \n",
      " 0   f1      107 non-null    float32\n",
      " 1   f2      107 non-null    float32\n",
      " 2   f3      107 non-null    float32\n",
      " 3   f4      107 non-null    float32\n",
      " 4   f5      107 non-null    float32\n",
      " 5   label   107 non-null    float32\n",
      "dtypes: float32(6)\n",
      "memory usage: 2.6 KB\n",
      "None\n",
      "<class 'pandas.core.frame.DataFrame'>\n",
      "RangeIndex: 108 entries, 0 to 107\n",
      "Data columns (total 6 columns):\n",
      " #   Column  Non-Null Count  Dtype  \n",
      "---  ------  --------------  -----  \n",
      " 0   f1      108 non-null    float32\n",
      " 1   f2      108 non-null    float32\n",
      " 2   f3      108 non-null    float32\n",
      " 3   f4      108 non-null    float32\n",
      " 4   f5      108 non-null    float32\n",
      " 5   label   108 non-null    float32\n",
      "dtypes: float32(6)\n",
      "memory usage: 2.7 KB\n",
      "None\n"
     ]
    }
   ],
   "source": [
    "# data loading\n",
    "DATA = os.path.join('c:\\\\Users\\\\tcumi\\\\github_repo\\\\neural-network\\\\', 'dataset')\n",
    "GROUP = 2\n",
    "COLUMNS = ['f1', 'f2', 'f3', 'f4', 'f5', 'label']\n",
    "N_CLASS = 3\n",
    "EPOCHS = 500\n",
    "train_dir, test_dir = \"..//dataset//training_data{}.txt\".format(GROUP), \"..//dataset//testing_data{}.txt\".format(GROUP)\n",
    "train, test = get_data(DATA, train_dir, COLUMNS), get_data(DATA, test_dir, COLUMNS)\n",
    "# shuffle\n",
    "train, test = train.sample(frac=1), test.sample(frac=1)\n",
    "x_train, y_train = train.drop('label', axis=1), train['label']\n",
    "x_test, y_test = test.drop('label', axis=1), test['label']"
   ]
  },
  {
   "cell_type": "code",
   "execution_count": 7,
   "metadata": {},
   "outputs": [],
   "source": [
    "# data scaling and encoding\n",
    "scaler = StandardScaler(['f1', 'f2', 'f3', 'f4', 'f5'])\n",
    "scaler.fit(x_train)\n",
    "x_train = scaler.transform(x_train)\n",
    "x_test = scaler.transform(x_test)\n",
    "y_train = one_hot_encoding(y_train, N_CLASS)\n",
    "y_test = one_hot_encoding(y_test, N_CLASS)"
   ]
  },
  {
   "cell_type": "code",
   "execution_count": 8,
   "metadata": {
    "tags": [
     "outputPrepend"
    ]
   },
   "outputs": [
    {
     "name": "stdout",
     "output_type": "stream",
     "text": [
      "Checkpoint 100, Accuracy: 0.9567901234567902, Loss: 0.254227496959545\n",
      "Checkpoint 200, Accuracy: 0.9691358024691358, Loss: 0.09752760110078035\n",
      "Checkpoint 300, Accuracy: 0.9691358024691358, Loss: 0.09936430719163683\n",
      "Checkpoint 400, Accuracy: 0.9691358024691358, Loss: 0.10379917533309371\n",
      "Checkpoint 500, Accuracy: 0.9691358024691358, Loss: 0.10024699458369503\n"
     ]
    }
   ],
   "source": [
    "# learning phase\n",
    "breakpoint = 100\n",
    "checkpoints = list()\n",
    "history = list()\n",
    "for century in range(0, EPOCHS, breakpoint):\n",
    "    sub_history = model.fit(x_train, y_train, breakpoint, verbose = 0)\n",
    "    score = model.evaluate(x_test, y_test, False, verbose = 0)\n",
    "    print('Checkpoint {}, Accuracy: {}, Loss: {}'.format(century+breakpoint, score['accuracy'], score[model.loss_fn]))\n",
    "    score['checkpoint'] = century + breakpoint\n",
    "    checkpoints.append(score)\n",
    "    history.extend(sub_history)"
   ]
  },
  {
   "cell_type": "code",
   "execution_count": 9,
   "metadata": {},
   "outputs": [],
   "source": [
    "import matplotlib.pyplot as plt\n",
    "\n",
    "def draw_plot(x, y_list, x_label=None, y_label=None, legend=None, title=None):\n",
    "    fig, ax = plt.subplots(figsize=(12,5))\n",
    "    for xi, yi in zip(x, y_list):\n",
    "        ax.plot(xi, yi)\n",
    "    if x_label is not None and y_label is not None:\n",
    "        ax.set(xlabel=x_label, ylabel=y_label, title='{} VS {}'.format(x_label, y_label))\n",
    "    if legend is not None:\n",
    "        ax.legend(legend)\n",
    "    ax.grid()\n",
    "    plt.show()"
   ]
  },
  {
   "cell_type": "code",
   "execution_count": 10,
   "metadata": {},
   "outputs": [
    {
     "name": "stdout",
     "output_type": "stream",
     "text": [
      "[1. 0. 0.] <-> [0.98962384 0.00215429 0.00822183]\n",
      "[1. 0. 0.] <-> [0.98801893 0.00953598 0.00244498]\n",
      "[0. 0. 1.] <-> [0.00609405 0.00245756 0.9914484 ]\n",
      "[0. 1. 0.] <-> [6.1381068e-03 9.9383152e-01 3.0336578e-05]\n",
      "[0. 0. 1.] <-> [0.00612262 0.0024662  0.9914112 ]\n",
      "[1. 0. 0.] <-> [0.99661654 0.00220254 0.00118097]\n",
      "[1. 0. 0.] <-> [0.99081004 0.00209855 0.00709149]\n",
      "[1. 0. 0.] <-> [0.9948913  0.00200512 0.00310349]\n",
      "[1. 0. 0.] <-> [0.9966792  0.00208604 0.00123481]\n",
      "[1. 0. 0.] <-> [0.96028304 0.00760748 0.0321095 ]\n",
      "[1. 0. 0.] <-> [0.9890883  0.00240133 0.00851045]\n",
      "[1. 0. 0.] <-> [0.89345175 0.00852477 0.09802341]\n",
      "[0. 0. 1.] <-> [0.00699445 0.00286342 0.99014217]\n",
      "[1. 0. 0.] <-> [0.996151   0.00155966 0.00228944]\n",
      "[1. 0. 0.] <-> [0.9965467  0.00134396 0.00210936]\n",
      "[0. 1. 0.] <-> [6.109006e-03 9.938607e-01 3.020352e-05]\n",
      "[1. 0. 0.] <-> [0.992488  0.0023333 0.0051787]\n",
      "[1. 0. 0.] <-> [0.9939476  0.00192105 0.00413136]\n",
      "[1. 0. 0.] <-> [0.9820164 0.003504  0.0144796]\n",
      "[1. 0. 0.] <-> [0.9962153  0.00132304 0.00246162]\n",
      "[1. 0. 0.] <-> [0.989144   0.00923365 0.00162233]\n",
      "[0. 1. 0.] <-> [6.3005732e-03 9.9366838e-01 3.0979725e-05]\n",
      "[1. 0. 0.] <-> [0.99718565 0.00138659 0.00142782]\n",
      "[1. 0. 0.] <-> [0.99700975 0.00156023 0.00143   ]\n",
      "[1. 0. 0.] <-> [0.9939651  0.0023466  0.00368838]\n",
      "[1. 0. 0.] <-> [0.3362144  0.66288537 0.00090026]\n",
      "[1. 0. 0.] <-> [0.96398497 0.00511365 0.03090141]\n",
      "[1. 0. 0.] <-> [0.99644166 0.00241565 0.00114269]\n",
      "[1. 0. 0.] <-> [0.8859188  0.00739624 0.10668492]\n",
      "[0. 0. 1.] <-> [0.15241036 0.00767192 0.8399178 ]\n",
      "[1. 0. 0.] <-> [0.9963856  0.00217073 0.0014438 ]\n",
      "[0. 0. 1.] <-> [0.00609407 0.00245774 0.99144816]\n",
      "[1. 0. 0.] <-> [0.99446267 0.00406701 0.0014702 ]\n",
      "[1. 0. 0.] <-> [0.992968   0.00189932 0.00513263]\n",
      "[1. 0. 0.] <-> [0.9945603  0.00414744 0.00129218]\n",
      "[0. 1. 0.] <-> [1.0707919e-02 9.8924226e-01 4.9916856e-05]\n",
      "[1. 0. 0.] <-> [0.9942772  0.00432429 0.00139854]\n",
      "[1. 0. 0.] <-> [0.9917698  0.00682376 0.00140641]\n",
      "[0. 1. 0.] <-> [6.1069448e-03 9.9386287e-01 3.0213265e-05]\n",
      "[0. 0. 1.] <-> [0.00621325 0.0025053  0.99128145]\n",
      "[1. 0. 0.] <-> [0.9972025  0.0015938  0.00120369]\n",
      "[1. 0. 0.] <-> [0.99596304 0.002832   0.00120497]\n",
      "[1. 0. 0.] <-> [0.9973973  0.00131987 0.00128283]\n",
      "[0. 1. 0.] <-> [0.36189285 0.6370926  0.00101459]\n",
      "[1. 0. 0.] <-> [0.9802358  0.00340937 0.01635488]\n",
      "[1. 0. 0.] <-> [0.9962016  0.0018142  0.00198417]\n",
      "[0. 1. 0.] <-> [6.3930564e-03 9.9357563e-01 3.1293115e-05]\n",
      "[1. 0. 0.] <-> [0.9809178  0.00325647 0.01582565]\n",
      "[1. 0. 0.] <-> [0.9951079  0.00188807 0.00300407]\n",
      "[1. 0. 0.] <-> [0.9930736  0.00191514 0.00501128]\n",
      "[1. 0. 0.] <-> [0.88235515 0.00665221 0.1109926 ]\n",
      "[1. 0. 0.] <-> [0.9972053  0.00135624 0.00143838]\n",
      "[1. 0. 0.] <-> [0.9972361  0.00158595 0.00117796]\n",
      "[1. 0. 0.] <-> [0.9967474  0.00180179 0.00145082]\n",
      "[1. 0. 0.] <-> [0.9917448  0.00682175 0.00143348]\n",
      "[1. 0. 0.] <-> [0.94016033 0.00587236 0.05396729]\n",
      "[0. 1. 0.] <-> [2.3073035e-01 7.6854628e-01 7.2331727e-04]\n",
      "[1. 0. 0.] <-> [0.9969099  0.00184078 0.0012494 ]\n",
      "[1. 0. 0.] <-> [0.99567646 0.00201052 0.00231299]\n",
      "[1. 0. 0.] <-> [0.9915418  0.00234522 0.00611304]\n",
      "[1. 0. 0.] <-> [0.9961661 0.001576  0.0022579]\n",
      "[1. 0. 0.] <-> [0.99678254 0.00159385 0.00162363]\n",
      "[1. 0. 0.] <-> [0.99560934 0.00312484 0.00126584]\n",
      "[0. 1. 0.] <-> [0.6631416  0.33567095 0.00118745]\n",
      "[1. 0. 0.] <-> [0.96851695 0.02935877 0.00212429]\n",
      "[1. 0. 0.] <-> [0.9944326  0.00238225 0.0031851 ]\n",
      "[0. 0. 1.] <-> [0.00634569 0.00254071 0.9911136 ]\n",
      "[0. 1. 0.] <-> [1.0900353e-02 9.8905152e-01 4.8130030e-05]\n",
      "[1. 0. 0.] <-> [0.99303716 0.00229727 0.00466555]\n",
      "[0. 1. 0.] <-> [6.1090784e-03 9.9386072e-01 3.0204528e-05]\n",
      "[1. 0. 0.] <-> [0.995698   0.00244324 0.00185882]\n",
      "[0. 1. 0.] <-> [4.0711146e-02 9.5916241e-01 1.2643266e-04]\n",
      "[1. 0. 0.] <-> [0.99183625 0.00209835 0.0060654 ]\n",
      "[0. 0. 1.] <-> [0.0073271  0.00273151 0.9899414 ]\n",
      "[1. 0. 0.] <-> [0.9963176  0.00142417 0.00225814]\n",
      "[0. 0. 1.] <-> [0.00609422 0.00245763 0.99144816]\n",
      "[1. 0. 0.] <-> [0.99466866 0.00181016 0.00352111]\n",
      "[0. 0. 1.] <-> [0.5525174  0.01305608 0.43442652]\n",
      "[0. 1. 0.] <-> [7.9263011e-03 9.9203628e-01 3.7482692e-05]\n",
      "[1. 0. 0.] <-> [0.91988826 0.07825506 0.00185673]\n",
      "[1. 0. 0.] <-> [0.99239606 0.001982   0.00562182]\n",
      "[1. 0. 0.] <-> [0.9969093  0.00154192 0.00154878]\n",
      "[0. 1. 0.] <-> [1.7083745e-02 9.8284632e-01 6.9896843e-05]\n",
      "[1. 0. 0.] <-> [0.99676764 0.00172206 0.00151023]\n",
      "[1. 0. 0.] <-> [0.99360245 0.00247661 0.0039209 ]\n",
      "[1. 0. 0.] <-> [0.37703565 0.01349787 0.60946643]\n",
      "[1. 0. 0.] <-> [0.9963074  0.0023928  0.00129985]\n",
      "[1. 0. 0.] <-> [0.99606663 0.00273899 0.00119444]\n",
      "[1. 0. 0.] <-> [0.9968965  0.00163788 0.00146559]\n",
      "[1. 0. 0.] <-> [0.0185451  0.00381957 0.9776354 ]\n",
      "[1. 0. 0.] <-> [0.95721036 0.00431601 0.03847356]\n",
      "[0. 0. 1.] <-> [0.00609471 0.00245779 0.99144757]\n",
      "[1. 0. 0.] <-> [0.9953334  0.00153633 0.00313027]\n",
      "[0. 1. 0.] <-> [1.18840106e-01 8.80765021e-01 3.94843461e-04]\n",
      "[1. 0. 0.] <-> [0.99481565 0.00209419 0.00309018]\n",
      "[1. 0. 0.] <-> [0.89890754 0.00873434 0.0923581 ]\n",
      "[1. 0. 0.] <-> [0.9956987  0.0021418  0.00215951]\n",
      "[1. 0. 0.] <-> [0.9954144  0.00188954 0.00269596]\n",
      "[1. 0. 0.] <-> [0.9966948  0.00197362 0.00133158]\n",
      "[1. 0. 0.] <-> [0.9908069  0.00778712 0.00140605]\n",
      "[1. 0. 0.] <-> [0.96763456 0.00417828 0.02818722]\n",
      "[1. 0. 0.] <-> [0.6483463  0.01133543 0.34031823]\n",
      "[1. 0. 0.] <-> [0.9966     0.00164823 0.00175175]\n",
      "[0. 0. 1.] <-> [0.00609405 0.00245756 0.9914484 ]\n",
      "[1. 0. 0.] <-> [0.99687994 0.00185699 0.00126315]\n",
      "[0. 0. 1.] <-> [0.00611376 0.00246646 0.9914198 ]\n",
      "[1. 0. 0.] <-> [0.99716043 0.00140809 0.00143143]\n",
      "[1. 0. 0.] <-> [0.9954425  0.0023553  0.00220225]\n",
      "{'accuracy': 0.9691358024691358, 'mean_square_error': 0.054486283549329766, 'categorical_crossentropy': 0.10024699458369503, 'essential_metrics': {0: {'tp_hit': 77, 'fp_hit': 2, 'tn_hit': 26, 'fn_hit': 3}, 1: {'tp_hit': 14, 'fp_hit': 1, 'tn_hit': 92, 'fn_hit': 1}, 2: {'tp_hit': 12, 'fp_hit': 2, 'tn_hit': 93, 'fn_hit': 1}}}\n"
     ]
    }
   ],
   "source": [
    "# recall phase\n",
    "score = model.evaluate(x_test, y_test, False)\n",
    "print(score)"
   ]
  },
  {
   "cell_type": "code",
   "execution_count": 11,
   "metadata": {},
   "outputs": [
    {
     "data": {
      "image/png": "[encoded data removed]",
      "text/plain": [
       "<Figure size 864x360 with 1 Axes>"
      ]
     },
     "metadata": {
      "needs_background": "light"
     },
     "output_type": "display_data"
    },
    {
     "data": {
      "image/png": "[encoded data removed]",
      "text/plain": [
       "<Figure size 864x360 with 1 Axes>"
      ]
     },
     "metadata": {
      "needs_background": "light"
     },
     "output_type": "display_data"
    }
   ],
   "source": [
    "draw_plot(x = [[i for i in range(len(history))], [(i+1)*breakpoint for i in range(len(checkpoints))]], y_list = [history, [ ckp[model.loss_fn] for ckp in checkpoints ]], x_label = 'Epochs', \\\n",
    "    y_label = model.loss_fn, legend=['train', 'test'])\n",
    "acc = [ ckp['accuracy'] for ckp in checkpoints ]\n",
    "draw_plot(x = [[(i+1)*breakpoint for i in range(len(checkpoints))]], y_list = [acc], x_label = 'Checkpoints', \\\n",
    "    y_label = 'accuracy')"
   ]
  },
  {
   "cell_type": "code",
   "execution_count": 12,
   "metadata": {},
   "outputs": [
    {
     "name": "stdout",
     "output_type": "stream",
     "text": [
      "{'accuracy': 0.9567901234567902, 'mean_square_error': 0.11528106153453173, 'categorical_crossentropy': 0.254227496959545, 'essential_metrics': {0: {'tp_hit': 79, 'fp_hit': 6, 'tn_hit': 22, 'fn_hit': 1}, 1: {'tp_hit': 11, 'fp_hit': 0, 'tn_hit': 93, 'fn_hit': 4}, 2: {'tp_hit': 11, 'fp_hit': 1, 'tn_hit': 94, 'fn_hit': 2}}, 'checkpoint': 100} \n",
      "\n",
      "\n",
      "{'accuracy': 0.9691358024691358, 'mean_square_error': 0.054657628356278624, 'categorical_crossentropy': 0.09752760110078035, 'essential_metrics': {0: {'tp_hit': 78, 'fp_hit': 3, 'tn_hit': 25, 'fn_hit': 2}, 1: {'tp_hit': 13, 'fp_hit': 0, 'tn_hit': 93, 'fn_hit': 2}, 2: {'tp_hit': 12, 'fp_hit': 2, 'tn_hit': 93, 'fn_hit': 1}}, 'checkpoint': 200} \n",
      "\n",
      "\n",
      "{'accuracy': 0.9691358024691358, 'mean_square_error': 0.054626798177469356, 'categorical_crossentropy': 0.09936430719163683, 'essential_metrics': {0: {'tp_hit': 77, 'fp_hit': 2, 'tn_hit': 26, 'fn_hit': 3}, 1: {'tp_hit': 14, 'fp_hit': 1, 'tn_hit': 92, 'fn_hit': 1}, 2: {'tp_hit': 12, 'fp_hit': 2, 'tn_hit': 93, 'fn_hit': 1}}, 'checkpoint': 300} \n",
      "\n",
      "\n",
      "{'accuracy': 0.9691358024691358, 'mean_square_error': 0.05857121573707634, 'categorical_crossentropy': 0.10379917533309371, 'essential_metrics': {0: {'tp_hit': 77, 'fp_hit': 2, 'tn_hit': 26, 'fn_hit': 3}, 1: {'tp_hit': 14, 'fp_hit': 1, 'tn_hit': 92, 'fn_hit': 1}, 2: {'tp_hit': 12, 'fp_hit': 2, 'tn_hit': 93, 'fn_hit': 1}}, 'checkpoint': 400} \n",
      "\n",
      "\n",
      "{'accuracy': 0.9691358024691358, 'mean_square_error': 0.054486283549329766, 'categorical_crossentropy': 0.10024699458369503, 'essential_metrics': {0: {'tp_hit': 77, 'fp_hit': 2, 'tn_hit': 26, 'fn_hit': 3}, 1: {'tp_hit': 14, 'fp_hit': 1, 'tn_hit': 92, 'fn_hit': 1}, 2: {'tp_hit': 12, 'fp_hit': 2, 'tn_hit': 93, 'fn_hit': 1}}, 'checkpoint': 500} \n",
      "\n",
      "\n"
     ]
    }
   ],
   "source": [
    "for checkpoint in checkpoints:\n",
    "    print(checkpoint, '\\n\\n')"
   ]
  },
  {
   "cell_type": "code",
   "execution_count": 13,
   "metadata": {},
   "outputs": [
    {
     "name": "stdout",
     "output_type": "stream",
     "text": [
      "Layer 1\n",
      "Neuron 0: weights:\n",
      "[-0.16493934  3.          0.6068134  -0.6157964  -3.        ]\n",
      " bias: 2.765773057937622\n",
      "\n",
      "Neuron 1: weights:\n",
      "[-1.9230554  3.         3.        -3.        -0.3984843]\n",
      " bias: -3.0\n",
      "\n",
      "Neuron 2: weights:\n",
      "[ 0.13001336  3.          0.6221858  -3.         -3.        ]\n",
      " bias: 2.5282137393951416\n",
      "\n",
      "Neuron 3: weights:\n",
      "[-1.9330872  3.         1.6059098  1.3876011 -3.       ]\n",
      " bias: -3.0\n",
      "\n",
      "$\n",
      "Layer 2\n",
      "Neuron 0: weights:\n",
      "[ 3. -3.  3. -3.]\n",
      " bias: -2.0918543338775635\n",
      "\n",
      "Neuron 1: weights:\n",
      "[ 3.  3. -3.  3.]\n",
      " bias: -3.0\n",
      "\n",
      "Neuron 2: weights:\n",
      "[-3.        -3.        -3.        -1.4014266]\n",
      " bias: 3.0\n",
      "\n",
      "$\n",
      "\n"
     ]
    }
   ],
   "source": [
    "print(model)"
   ]
  }
 ],
 "metadata": {
  "kernelspec": {
   "display_name": "Python 3",
   "language": "python",
   "name": "python3"
  },
  "language_info": {
   "codemirror_mode": {
    "name": "ipython",
    "version": 3
   },
   "file_extension": ".py",
   "mimetype": "text/x-python",
   "name": "python",
   "nbconvert_exporter": "python",
   "pygments_lexer": "ipython3",
   "version": "3.6.10"
  }
 },
 "nbformat": 4,
 "nbformat_minor": 2
}
