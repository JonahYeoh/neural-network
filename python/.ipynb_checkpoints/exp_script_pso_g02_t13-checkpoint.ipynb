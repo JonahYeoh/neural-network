{
 "cells": [
  {
   "cell_type": "code",
   "execution_count": 1,
   "metadata": {},
   "outputs": [],
   "source": [
    "# dependency\n",
    "import numpy as np\n",
    "import pandas as pd\n",
    "import copy\n",
    "import math\n",
    "import sys\n",
    "import os\n",
    "from activations import relu, leaky_relu, sigmoid, tanh, softmax, d_sigmoid, d_relu\n",
    "from initializers import glorot_uniform, random_normal, random_uniform\n",
    "from regularizers import l1_regularizer, l2_regularizer\n",
    "from utility import trim_tail, multiply, subtract, get_nparams, one_hot_encoding, get_data\n",
    "from metrics import MSE, CCE, ACC, PRECISION, RECALL, essential_metrics, wondering_penalty, close_gap_penalty\n",
    "from pso import PSO\n",
    "from ga import GA\n",
    "from nn import Network\n",
    "from layer import DenseLayer\n",
    "from scalers import MinMaxScaler, StandardScaler"
   ]
  },
  {
   "cell_type": "code",
   "execution_count": 2,
   "metadata": {},
   "outputs": [],
   "source": [
    "# reference\n",
    "metrics_fn_dict = dict()\n",
    "metrics_fn_dict['accuracy'] = ACC\n",
    "metrics_fn_dict['categorical_crossentropy'] = CCE\n",
    "metrics_fn_dict['mean_square_error'] = MSE\n",
    "metrics_fn_dict['precision'] = PRECISION\n",
    "metrics_fn_dict['recall'] = RECALL\n",
    "metrics_fn_dict['essential_metrics'] = essential_metrics"
   ]
  },
  {
   "cell_type": "code",
   "execution_count": 3,
   "metadata": {},
   "outputs": [],
   "source": [
    "# model\n",
    "model = Network(5, lr = None)\n",
    "model.add_layer(DenseLayer(1, 4, True, afn=sigmoid, dafn=None, rfn=None))\n",
    "model.add_layer(DenseLayer(2, 3, True, afn=softmax, dafn=None, rfn=None))"
   ]
  },
  {
   "cell_type": "code",
   "execution_count": 4,
   "metadata": {},
   "outputs": [
    {
     "name": "stdout",
     "output_type": "stream",
     "text": [
      "see one see two 2 2\n"
     ]
    }
   ],
   "source": [
    "pso = PSO(dict(m = 50,\n",
    "    weight_constraint = [-3, 3], \n",
    "    velocity_constraint = [-0.1, 0.1],\n",
    "    c1 = 2,\n",
    "    c2 = 2,\n",
    "    w = 1.2,\n",
    "    w_decay = 1,\n",
    "    scale_hyperparameter = False,\n",
    "    regularizer = None,\n",
    "    mask = True))"
   ]
  },
  {
   "cell_type": "code",
   "execution_count": 5,
   "metadata": {},
   "outputs": [
    {
     "name": "stdout",
     "output_type": "stream",
     "text": [
      "building layer 1 with 5\n",
      "24\n",
      "building layer 2 with 4\n",
      "15\n"
     ]
    }
   ],
   "source": [
    "model.compile(loss_fn = 'categorical_crossentropy', optimizer = pso, \\\n",
    "    metrics = ['accuracy', 'mean_square_error', 'categorical_crossentropy'])"
   ]
  },
  {
   "cell_type": "code",
   "execution_count": 6,
   "metadata": {},
   "outputs": [
    {
     "name": "stdout",
     "output_type": "stream",
     "text": [
      "<class 'pandas.core.frame.DataFrame'>\n",
      "RangeIndex: 107 entries, 0 to 106\n",
      "Data columns (total 6 columns):\n",
      " #   Column  Non-Null Count  Dtype  \n",
      "---  ------  --------------  -----  \n",
      " 0   f1      107 non-null    float32\n",
      " 1   f2      107 non-null    float32\n",
      " 2   f3      107 non-null    float32\n",
      " 3   f4      107 non-null    float32\n",
      " 4   f5      107 non-null    float32\n",
      " 5   label   107 non-null    float32\n",
      "dtypes: float32(6)\n",
      "memory usage: 2.6 KB\n",
      "None\n",
      "<class 'pandas.core.frame.DataFrame'>\n",
      "RangeIndex: 108 entries, 0 to 107\n",
      "Data columns (total 6 columns):\n",
      " #   Column  Non-Null Count  Dtype  \n",
      "---  ------  --------------  -----  \n",
      " 0   f1      108 non-null    float32\n",
      " 1   f2      108 non-null    float32\n",
      " 2   f3      108 non-null    float32\n",
      " 3   f4      108 non-null    float32\n",
      " 4   f5      108 non-null    float32\n",
      " 5   label   108 non-null    float32\n",
      "dtypes: float32(6)\n",
      "memory usage: 2.7 KB\n",
      "None\n"
     ]
    }
   ],
   "source": [
    "# data loading\n",
    "DATA = os.path.join('c:\\\\Users\\\\tcumi\\\\github_repo\\\\neural-network\\\\', 'dataset')\n",
    "GROUP = 2\n",
    "COLUMNS = ['f1', 'f2', 'f3', 'f4', 'f5', 'label']\n",
    "N_CLASS = 3\n",
    "EPOCHS = 500\n",
    "train_dir, test_dir = \"..//dataset//training_data{}.txt\".format(GROUP), \"..//dataset//testing_data{}.txt\".format(GROUP)\n",
    "train, test = get_data(DATA, train_dir, COLUMNS), get_data(DATA, test_dir, COLUMNS)\n",
    "# shuffle\n",
    "train, test = train.sample(frac=1), test.sample(frac=1)\n",
    "x_train, y_train = train.drop('label', axis=1), train['label']\n",
    "x_test, y_test = test.drop('label', axis=1), test['label']"
   ]
  },
  {
   "cell_type": "code",
   "execution_count": 7,
   "metadata": {},
   "outputs": [],
   "source": [
    "# data scaling and encoding\n",
    "scaler = StandardScaler(['f1', 'f2', 'f3', 'f4', 'f5'])\n",
    "scaler.fit(x_train)\n",
    "x_train = scaler.transform(x_train)\n",
    "x_test = scaler.transform(x_test)\n",
    "y_train = one_hot_encoding(y_train, N_CLASS)\n",
    "y_test = one_hot_encoding(y_test, N_CLASS)"
   ]
  },
  {
   "cell_type": "code",
   "execution_count": 8,
   "metadata": {
    "tags": [
     "outputPrepend"
    ]
   },
   "outputs": [
    {
     "name": "stdout",
     "output_type": "stream",
     "text": [
      "Checkpoint 100, Accuracy: 0.9444444444444444, Loss: 0.3375268159089265\n",
      "Checkpoint 200, Accuracy: 0.9753086419753086, Loss: 0.14430522918701172\n",
      "Checkpoint 300, Accuracy: 0.9691358024691358, Loss: 0.10557215302078812\n",
      "Checkpoint 400, Accuracy: 0.9691358024691358, Loss: 0.10828792607342755\n",
      "Checkpoint 500, Accuracy: 0.9691358024691358, Loss: 0.10651334126790364\n"
     ]
    }
   ],
   "source": [
    "# learning phase\n",
    "breakpoint = 100\n",
    "checkpoints = list()\n",
    "history = list()\n",
    "for century in range(0, EPOCHS, breakpoint):\n",
    "    sub_history = model.fit(x_train, y_train, breakpoint, verbose = 0)\n",
    "    score = model.evaluate(x_test, y_test, False, verbose = 0)\n",
    "    print('Checkpoint {}, Accuracy: {}, Loss: {}'.format(century+breakpoint, score['accuracy'], score[model.loss_fn]))\n",
    "    score['checkpoint'] = century + breakpoint\n",
    "    checkpoints.append(score)\n",
    "    history.extend(sub_history)"
   ]
  },
  {
   "cell_type": "code",
   "execution_count": 9,
   "metadata": {},
   "outputs": [],
   "source": [
    "import matplotlib.pyplot as plt\n",
    "\n",
    "def draw_plot(x, y_list, x_label=None, y_label=None, legend=None, title=None):\n",
    "    fig, ax = plt.subplots(figsize=(12,5))\n",
    "    for xi, yi in zip(x, y_list):\n",
    "        ax.plot(xi, yi)\n",
    "    if x_label is not None and y_label is not None:\n",
    "        ax.set(xlabel=x_label, ylabel=y_label, title='{} VS {}'.format(x_label, y_label))\n",
    "    if legend is not None:\n",
    "        ax.legend(legend)\n",
    "    ax.grid()\n",
    "    plt.show()"
   ]
  },
  {
   "cell_type": "code",
   "execution_count": 10,
   "metadata": {},
   "outputs": [
    {
     "name": "stdout",
     "output_type": "stream",
     "text": [
      "[1. 0. 0.] <-> [0.9941307  0.00276588 0.00310341]\n",
      "[0. 1. 0.] <-> [1.3160457e-02 9.8680657e-01 3.2976925e-05]\n",
      "[1. 0. 0.] <-> [0.9937959  0.00291959 0.00328457]\n",
      "[0. 0. 1.] <-> [2.4726081e-03 6.1916435e-06 9.9752122e-01]\n",
      "[1. 0. 0.] <-> [0.9760705  0.00257462 0.02135487]\n",
      "[1. 0. 0.] <-> [0.7220213  0.00181566 0.27616298]\n",
      "[1. 0. 0.] <-> [0.9919813 0.0036546 0.004364 ]\n",
      "[1. 0. 0.] <-> [0.99432063 0.00282508 0.00285431]\n",
      "[0. 1. 0.] <-> [0.7087471  0.28949288 0.00176   ]\n",
      "[1. 0. 0.] <-> [0.99259335 0.00290381 0.00450279]\n",
      "[1. 0. 0.] <-> [0.994307   0.00293227 0.0027607 ]\n",
      "[1. 0. 0.] <-> [0.37442434 0.00095489 0.62462074]\n",
      "[1. 0. 0.] <-> [0.9911901  0.00260654 0.00620338]\n",
      "[1. 0. 0.] <-> [0.9859168  0.00248764 0.01159559]\n",
      "[0. 1. 0.] <-> [2.4728666e-03 9.9752098e-01 6.1303017e-06]\n",
      "[1. 0. 0.] <-> [0.97682345 0.00249025 0.02068639]\n",
      "[1. 0. 0.] <-> [0.99403834 0.00284075 0.00312085]\n",
      "[0. 1. 0.] <-> [2.5821496e-03 9.9741143e-01 6.4097699e-06]\n",
      "[1. 0. 0.] <-> [0.9936474  0.00275102 0.00360149]\n",
      "[0. 1. 0.] <-> [2.4944013e-03 9.9749941e-01 6.1905048e-06]\n",
      "[1. 0. 0.] <-> [0.98967946 0.00267849 0.00764211]\n",
      "[1. 0. 0.] <-> [0.99178326 0.00560704 0.00260966]\n",
      "[1. 0. 0.] <-> [0.9918224  0.00272434 0.00545324]\n",
      "[1. 0. 0.] <-> [0.9914681  0.00279897 0.00573294]\n",
      "[1. 0. 0.] <-> [0.9938571  0.00336202 0.00278085]\n",
      "[1. 0. 0.] <-> [0.9930393  0.00261967 0.00434109]\n",
      "[0. 1. 0.] <-> [4.3149963e-02 9.5674288e-01 1.0714245e-04]\n",
      "[1. 0. 0.] <-> [0.99236685 0.0045474  0.00308578]\n",
      "[1. 0. 0.] <-> [0.98226845 0.01519165 0.00253996]\n",
      "[0. 1. 0.] <-> [1.3908386e-01 8.6057043e-01 3.4570493e-04]\n",
      "[0. 1. 0.] <-> [3.5406109e-03 9.9645054e-01 8.8361430e-06]\n",
      "[1. 0. 0.] <-> [0.9927947  0.00271837 0.0044869 ]\n",
      "[0. 0. 1.] <-> [3.6162876e-03 1.1563338e-05 9.9637222e-01]\n",
      "[1. 0. 0.] <-> [0.99305737 0.00256432 0.00437835]\n",
      "[0. 0. 1.] <-> [3.1510773e-03 7.8982257e-06 9.9684107e-01]\n",
      "[1. 0. 0.] <-> [0.9119083  0.08560489 0.00248678]\n",
      "[1. 0. 0.] <-> [0.9179687  0.07955763 0.0024737 ]\n",
      "[1. 0. 0.] <-> [0.9913413  0.00282292 0.00583583]\n",
      "[1. 0. 0.] <-> [0.9640109  0.00240479 0.03358424]\n",
      "[1. 0. 0.] <-> [0.9934837  0.00385021 0.00266606]\n",
      "[0. 0. 1.] <-> [2.4728125e-03 6.1922033e-06 9.9752098e-01]\n",
      "[1. 0. 0.] <-> [0.9428855  0.0023679  0.05474655]\n",
      "[1. 0. 0.] <-> [0.9928779  0.00446397 0.00265817]\n",
      "[1. 0. 0.] <-> [0.9869804  0.01055403 0.00246556]\n",
      "[1. 0. 0.] <-> [0.9928098  0.00468362 0.00250662]\n",
      "[1. 0. 0.] <-> [0.46177524 0.5370447  0.00118004]\n",
      "[1. 0. 0.] <-> [0.9903189  0.00299333 0.00668789]\n",
      "[1. 0. 0.] <-> [1.3411017e-02 3.3592460e-05 9.8655534e-01]\n",
      "[1. 0. 0.] <-> [0.9935161  0.00251152 0.00397237]\n",
      "[1. 0. 0.] <-> [0.9928397  0.00448551 0.00267471]\n",
      "[1. 0. 0.] <-> [0.9881585  0.00251185 0.00932967]\n",
      "[0. 1. 0.] <-> [2.6711836e-03 9.9732214e-01 6.6225284e-06]\n",
      "[1. 0. 0.] <-> [0.98844737 0.0026774  0.00887525]\n",
      "[1. 0. 0.] <-> [0.99301815 0.00419814 0.0027838 ]\n",
      "[1. 0. 0.] <-> [0.9940598  0.00277798 0.00316222]\n",
      "[1. 0. 0.] <-> [0.9926785  0.00466724 0.00265433]\n",
      "[1. 0. 0.] <-> [0.973348   0.02409529 0.00255669]\n",
      "[1. 0. 0.] <-> [0.98949146 0.00250346 0.00800498]\n",
      "[1. 0. 0.] <-> [0.99287647 0.00310599 0.00401755]\n",
      "[1. 0. 0.] <-> [0.9919288  0.00285517 0.00521598]\n",
      "[0. 0. 1.] <-> [2.4731313e-03 6.1929568e-06 9.9752063e-01]\n",
      "[0. 0. 1.] <-> [2.472621e-03 6.191703e-06 9.975212e-01]\n",
      "[1. 0. 0.] <-> [0.9920815  0.00427208 0.0036463 ]\n",
      "[0. 1. 0.] <-> [5.1872777e-03 9.9479973e-01 1.2880460e-05]\n",
      "[0. 1. 0.] <-> [6.2223272e-03 9.9376208e-01 1.5579260e-05]\n",
      "[1. 0. 0.] <-> [0.99341017 0.00353338 0.0030564 ]\n",
      "[1. 0. 0.] <-> [0.99283093 0.00465607 0.002513  ]\n",
      "[1. 0. 0.] <-> [0.99373406 0.00312821 0.00313768]\n",
      "[1. 0. 0.] <-> [0.99310994 0.00247999 0.00441008]\n",
      "[1. 0. 0.] <-> [0.9848867  0.01095783 0.00415547]\n",
      "[1. 0. 0.] <-> [0.9940498  0.00285425 0.00309592]\n",
      "[0. 1. 0.] <-> [2.4727527e-03 9.9752110e-01 6.1296132e-06]\n",
      "[0. 0. 1.] <-> [2.5987055e-03 6.5138302e-06 9.9739480e-01]\n",
      "[1. 0. 0.] <-> [0.90916723 0.00233232 0.08850035]\n",
      "[0. 0. 1.] <-> [2.0796137e-01 5.2066054e-04 7.9151797e-01]\n",
      "[1. 0. 0.] <-> [0.9916271  0.00271855 0.00565441]\n",
      "[1. 0. 0.] <-> [0.99355984 0.00305346 0.00338678]\n",
      "[1. 0. 0.] <-> [0.9789534  0.00248263 0.01856383]\n",
      "[0. 1. 0.] <-> [0.3241186  0.6750427  0.00083866]\n",
      "[1. 0. 0.] <-> [0.86502934 0.00219261 0.13277802]\n",
      "[1. 0. 0.] <-> [0.9215883  0.00229933 0.07611243]\n",
      "[1. 0. 0.] <-> [0.9930896  0.00419324 0.00271721]\n",
      "[0. 0. 1.] <-> [0.5793857  0.00144779 0.4191665 ]\n",
      "[1. 0. 0.] <-> [0.98835886 0.00902622 0.00261497]\n",
      "[1. 0. 0.] <-> [0.9905399  0.00257544 0.00688466]\n",
      "[0. 0. 1.] <-> [2.4939871e-03 6.2452627e-06 9.9749976e-01]\n",
      "[1. 0. 0.] <-> [0.98877454 0.00251666 0.00870884]\n",
      "[1. 0. 0.] <-> [0.9686525  0.00242795 0.02891954]\n",
      "[1. 0. 0.] <-> [0.9924396  0.00299051 0.00456992]\n",
      "[1. 0. 0.] <-> [0.9918276  0.00252221 0.00565024]\n",
      "[1. 0. 0.] <-> [0.99401855 0.00327005 0.00271148]\n",
      "[1. 0. 0.] <-> [0.89659613 0.00226128 0.10114253]\n",
      "[1. 0. 0.] <-> [0.99305665 0.0038288  0.00311451]\n",
      "[1. 0. 0.] <-> [0.9934487  0.00379121 0.00276012]\n",
      "[1. 0. 0.] <-> [0.98993987 0.00250074 0.00755937]\n",
      "[1. 0. 0.] <-> [0.99361223 0.0031955  0.00319223]\n",
      "[1. 0. 0.] <-> [0.9856852  0.0024841  0.01183064]\n",
      "[0. 0. 1.] <-> [2.5108154e-03 6.4439450e-06 9.9748272e-01]\n",
      "[0. 1. 0.] <-> [2.4728372e-03 9.9752098e-01 6.1401724e-06]\n",
      "[0. 1. 0.] <-> [0.4857697  0.5130211  0.00120917]\n",
      "[0. 0. 1.] <-> [2.6683970e-03 6.6816215e-06 9.9732494e-01]\n",
      "[0. 0. 1.] <-> [2.4726081e-03 6.1916435e-06 9.9752122e-01]\n",
      "[1. 0. 0.] <-> [0.98800373 0.00256495 0.00943128]\n",
      "[1. 0. 0.] <-> [0.9908042  0.00296319 0.00623256]\n",
      "[1. 0. 0.] <-> [0.9577365  0.00252903 0.03973454]\n",
      "[1. 0. 0.] <-> [0.9535579  0.00290073 0.04354142]\n",
      "[1. 0. 0.] <-> [0.98809797 0.00247302 0.00942895]\n",
      "[1. 0. 0.] <-> [0.99110764 0.00614753 0.00274479]\n",
      "{'accuracy': 0.9691358024691358, 'mean_square_error': 0.05644800800168377, 'categorical_crossentropy': 0.10651334126790364, 'essential_metrics': {0: {'tp_hit': 77, 'fp_hit': 2, 'tn_hit': 26, 'fn_hit': 3}, 1: {'tp_hit': 14, 'fp_hit': 1, 'tn_hit': 92, 'fn_hit': 1}, 2: {'tp_hit': 12, 'fp_hit': 2, 'tn_hit': 93, 'fn_hit': 1}}}\n"
     ]
    }
   ],
   "source": [
    "# recall phase\n",
    "score = model.evaluate(x_test, y_test, False)\n",
    "print(score)"
   ]
  },
  {
   "cell_type": "code",
   "execution_count": 11,
   "metadata": {},
   "outputs": [
    {
     "data": {
      "image/png": "[encoded data removed]",
      "text/plain": [
       "<Figure size 864x360 with 1 Axes>"
      ]
     },
     "metadata": {
      "needs_background": "light"
     },
     "output_type": "display_data"
    },
    {
     "data": {
      "image/png": "[encoded data removed]",
      "text/plain": [
       "<Figure size 864x360 with 1 Axes>"
      ]
     },
     "metadata": {
      "needs_background": "light"
     },
     "output_type": "display_data"
    }
   ],
   "source": [
    "draw_plot(x = [[i for i in range(len(history))], [(i+1)*breakpoint for i in range(len(checkpoints))]], y_list = [history, [ ckp[model.loss_fn] for ckp in checkpoints ]], x_label = 'Epochs', \\\n",
    "    y_label = model.loss_fn, legend=['train', 'test'])\n",
    "acc = [ ckp['accuracy'] for ckp in checkpoints ]\n",
    "draw_plot(x = [[(i+1)*breakpoint for i in range(len(checkpoints))]], y_list = [acc], x_label = 'Checkpoints', \\\n",
    "    y_label = 'accuracy')"
   ]
  },
  {
   "cell_type": "code",
   "execution_count": 12,
   "metadata": {},
   "outputs": [
    {
     "name": "stdout",
     "output_type": "stream",
     "text": [
      "{'accuracy': 0.9444444444444444, 'mean_square_error': 0.16953678107008296, 'categorical_crossentropy': 0.3375268159089265, 'essential_metrics': {0: {'tp_hit': 75, 'fp_hit': 4, 'tn_hit': 24, 'fn_hit': 5}, 1: {'tp_hit': 12, 'fp_hit': 0, 'tn_hit': 93, 'fn_hit': 3}, 2: {'tp_hit': 12, 'fp_hit': 5, 'tn_hit': 90, 'fn_hit': 1}}, 'checkpoint': 100} \n",
      "\n",
      "\n",
      "{'accuracy': 0.9753086419753086, 'mean_square_error': 0.07633824838123016, 'categorical_crossentropy': 0.14430522918701172, 'essential_metrics': {0: {'tp_hit': 78, 'fp_hit': 2, 'tn_hit': 26, 'fn_hit': 2}, 1: {'tp_hit': 14, 'fp_hit': 0, 'tn_hit': 93, 'fn_hit': 1}, 2: {'tp_hit': 12, 'fp_hit': 2, 'tn_hit': 93, 'fn_hit': 1}}, 'checkpoint': 200} \n",
      "\n",
      "\n",
      "{'accuracy': 0.9691358024691358, 'mean_square_error': 0.05603924505107773, 'categorical_crossentropy': 0.10557215302078812, 'essential_metrics': {0: {'tp_hit': 77, 'fp_hit': 2, 'tn_hit': 26, 'fn_hit': 3}, 1: {'tp_hit': 14, 'fp_hit': 1, 'tn_hit': 92, 'fn_hit': 1}, 2: {'tp_hit': 12, 'fp_hit': 2, 'tn_hit': 93, 'fn_hit': 1}}, 'checkpoint': 300} \n",
      "\n",
      "\n",
      "{'accuracy': 0.9691358024691358, 'mean_square_error': 0.05717783332584047, 'categorical_crossentropy': 0.10828792607342755, 'essential_metrics': {0: {'tp_hit': 77, 'fp_hit': 2, 'tn_hit': 26, 'fn_hit': 3}, 1: {'tp_hit': 14, 'fp_hit': 1, 'tn_hit': 92, 'fn_hit': 1}, 2: {'tp_hit': 12, 'fp_hit': 2, 'tn_hit': 93, 'fn_hit': 1}}, 'checkpoint': 400} \n",
      "\n",
      "\n",
      "{'accuracy': 0.9691358024691358, 'mean_square_error': 0.05644800800168377, 'categorical_crossentropy': 0.10651334126790364, 'essential_metrics': {0: {'tp_hit': 77, 'fp_hit': 2, 'tn_hit': 26, 'fn_hit': 3}, 1: {'tp_hit': 14, 'fp_hit': 1, 'tn_hit': 92, 'fn_hit': 1}, 2: {'tp_hit': 12, 'fp_hit': 2, 'tn_hit': 93, 'fn_hit': 1}}, 'checkpoint': 500} \n",
      "\n",
      "\n"
     ]
    }
   ],
   "source": [
    "for checkpoint in checkpoints:\n",
    "    print(checkpoint, '\\n\\n')"
   ]
  },
  {
   "cell_type": "code",
   "execution_count": 13,
   "metadata": {},
   "outputs": [
    {
     "name": "stdout",
     "output_type": "stream",
     "text": [
      "Layer 1\n",
      "Neuron 0: weights:\n",
      "[ 0.13385901 -3.         -0.12330113  0.44807813  3.        ]\n",
      " bias: -3.0\n",
      "\n",
      "Neuron 1: weights:\n",
      "[ 1.9231696 -3.        -3.        -1.232463   1.8407965]\n",
      " bias: 3.0\n",
      "\n",
      "Neuron 2: weights:\n",
      "[-1.9454178  3.         1.4950647  2.3927581 -3.       ]\n",
      " bias: -3.0\n",
      "\n",
      "Neuron 3: weights:\n",
      "[-0.40081918 -3.         -1.1061589   3.          3.        ]\n",
      " bias: -3.0\n",
      "\n",
      "$\n",
      "Layer 2\n",
      "Neuron 0: weights:\n",
      "[-3.  3. -3. -3.]\n",
      " bias: 3.0\n",
      "\n",
      "Neuron 1: weights:\n",
      "[-2.9898288 -3.         3.        -3.       ]\n",
      " bias: 3.0\n",
      "\n",
      "Neuron 2: weights:\n",
      "[ 3.  3. -3.  3.]\n",
      " bias: -3.0\n",
      "\n",
      "$\n",
      "\n"
     ]
    }
   ],
   "source": [
    "print(model)"
   ]
  }
 ],
 "metadata": {
  "kernelspec": {
   "display_name": "Python 3",
   "language": "python",
   "name": "python3"
  },
  "language_info": {
   "codemirror_mode": {
    "name": "ipython",
    "version": 3
   },
   "file_extension": ".py",
   "mimetype": "text/x-python",
   "name": "python",
   "nbconvert_exporter": "python",
   "pygments_lexer": "ipython3",
   "version": "3.6.10"
  }
 },
 "nbformat": 4,
 "nbformat_minor": 2
}
