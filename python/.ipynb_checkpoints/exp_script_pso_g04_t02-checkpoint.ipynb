{
 "cells": [
  {
   "cell_type": "code",
   "execution_count": 1,
   "metadata": {},
   "outputs": [],
   "source": [
    "# dependency\n",
    "import numpy as np\n",
    "import pandas as pd\n",
    "import copy\n",
    "import math\n",
    "import sys\n",
    "import os\n",
    "from activations import relu, leaky_relu, sigmoid, tanh, softmax, d_sigmoid, d_relu\n",
    "from initializers import glorot_uniform, random_normal, random_uniform\n",
    "from regularizers import l1_regularizer, l2_regularizer\n",
    "from utility import trim_tail, multiply, subtract, get_nparams, one_hot_encoding, get_data\n",
    "from metrics import MSE, CCE, ACC, PRECISION, RECALL, essential_metrics, wondering_penalty, close_gap_penalty\n",
    "from pso import PSO\n",
    "from ga import GA\n",
    "from nn import Network\n",
    "from layer import DenseLayer\n",
    "from scalers import MinMaxScaler, StandardScaler"
   ]
  },
  {
   "cell_type": "code",
   "execution_count": 2,
   "metadata": {},
   "outputs": [],
   "source": [
    "# reference\n",
    "metrics_fn_dict = dict()\n",
    "metrics_fn_dict['accuracy'] = ACC\n",
    "metrics_fn_dict['categorical_crossentropy'] = CCE\n",
    "metrics_fn_dict['mean_square_error'] = MSE\n",
    "metrics_fn_dict['precision'] = PRECISION\n",
    "metrics_fn_dict['recall'] = RECALL\n",
    "metrics_fn_dict['essential_metrics'] = essential_metrics"
   ]
  },
  {
   "cell_type": "code",
   "execution_count": 3,
   "metadata": {},
   "outputs": [],
   "source": [
    "# model\n",
    "model = Network(5, lr = None)\n",
    "model.add_layer(DenseLayer(1, 4, True, afn=sigmoid, dafn=None, rfn=None))\n",
    "model.add_layer(DenseLayer(2, 3, True, afn=softmax, dafn=None, rfn=None))"
   ]
  },
  {
   "cell_type": "code",
   "execution_count": 4,
   "metadata": {},
   "outputs": [
    {
     "name": "stdout",
     "output_type": "stream",
     "text": [
      "see one see two 2 2\n"
     ]
    }
   ],
   "source": [
    "pso = PSO(dict(m = 50,\n",
    "    weight_constraint = [-3, 3], \n",
    "    velocity_constraint = [-0.1, 0.1],\n",
    "    c1 = 2,\n",
    "    c2 = 2,\n",
    "    w = 1,\n",
    "    w_decay = 1,\n",
    "    scale_hyperparameter = False,\n",
    "    regularizer = None,\n",
    "    mask = True))"
   ]
  },
  {
   "cell_type": "code",
   "execution_count": 5,
   "metadata": {},
   "outputs": [
    {
     "name": "stdout",
     "output_type": "stream",
     "text": [
      "building layer 1 with 5\n",
      "24\n",
      "building layer 2 with 4\n",
      "15\n"
     ]
    }
   ],
   "source": [
    "model.compile(loss_fn = 'categorical_crossentropy', optimizer = pso, \\\n",
    "    metrics = ['accuracy', 'mean_square_error', 'categorical_crossentropy'])"
   ]
  },
  {
   "cell_type": "code",
   "execution_count": 6,
   "metadata": {},
   "outputs": [
    {
     "name": "stdout",
     "output_type": "stream",
     "text": [
      "<class 'pandas.core.frame.DataFrame'>\n",
      "RangeIndex: 107 entries, 0 to 106\n",
      "Data columns (total 6 columns):\n",
      " #   Column  Non-Null Count  Dtype  \n",
      "---  ------  --------------  -----  \n",
      " 0   f1      107 non-null    float32\n",
      " 1   f2      107 non-null    float32\n",
      " 2   f3      107 non-null    float32\n",
      " 3   f4      107 non-null    float32\n",
      " 4   f5      107 non-null    float32\n",
      " 5   label   107 non-null    float32\n",
      "dtypes: float32(6)\n",
      "memory usage: 2.6 KB\n",
      "None\n",
      "<class 'pandas.core.frame.DataFrame'>\n",
      "RangeIndex: 108 entries, 0 to 107\n",
      "Data columns (total 6 columns):\n",
      " #   Column  Non-Null Count  Dtype  \n",
      "---  ------  --------------  -----  \n",
      " 0   f1      108 non-null    float32\n",
      " 1   f2      108 non-null    float32\n",
      " 2   f3      108 non-null    float32\n",
      " 3   f4      108 non-null    float32\n",
      " 4   f5      108 non-null    float32\n",
      " 5   label   108 non-null    float32\n",
      "dtypes: float32(6)\n",
      "memory usage: 2.7 KB\n",
      "None\n"
     ]
    }
   ],
   "source": [
    "# data loading\n",
    "DATA = os.path.join('c:\\\\Users\\\\tcumi\\\\github_repo\\\\neural-network\\\\', 'dataset')\n",
    "GROUP = 4\n",
    "COLUMNS = ['f1', 'f2', 'f3', 'f4', 'f5', 'label']\n",
    "N_CLASS = 3\n",
    "EPOCHS = 500\n",
    "train_dir, test_dir = \"..//dataset//training_data{}.txt\".format(GROUP), \"..//dataset//testing_data{}.txt\".format(GROUP)\n",
    "train, test = get_data(DATA, train_dir, COLUMNS), get_data(DATA, test_dir, COLUMNS)\n",
    "# shuffle\n",
    "train, test = train.sample(frac=1), test.sample(frac=1)\n",
    "x_train, y_train = train.drop('label', axis=1), train['label']\n",
    "x_test, y_test = test.drop('label', axis=1), test['label']"
   ]
  },
  {
   "cell_type": "code",
   "execution_count": 7,
   "metadata": {},
   "outputs": [],
   "source": [
    "# data scaling and encoding\n",
    "scaler = StandardScaler(['f1', 'f2', 'f3', 'f4', 'f5'])\n",
    "scaler.fit(x_train)\n",
    "x_train = scaler.transform(x_train)\n",
    "x_test = scaler.transform(x_test)\n",
    "y_train = one_hot_encoding(y_train, N_CLASS)\n",
    "y_test = one_hot_encoding(y_test, N_CLASS)"
   ]
  },
  {
   "cell_type": "code",
   "execution_count": 8,
   "metadata": {
    "tags": [
     "outputPrepend"
    ]
   },
   "outputs": [
    {
     "name": "stdout",
     "output_type": "stream",
     "text": [
      "Checkpoint 100, Accuracy: 0.9259259259259259, Loss: 0.2912316852145725\n",
      "Checkpoint 200, Accuracy: 0.9567901234567902, Loss: 0.13618207860876014\n",
      "Checkpoint 300, Accuracy: 0.9691358024691358, Loss: 0.10905328503361454\n",
      "Checkpoint 400, Accuracy: 0.9691358024691358, Loss: 0.10430530265525535\n",
      "Checkpoint 500, Accuracy: 0.9629629629629629, Loss: 0.10342731299223723\n"
     ]
    }
   ],
   "source": [
    "# learning phase\n",
    "breakpoint = 100\n",
    "checkpoints = list()\n",
    "history = list()\n",
    "for century in range(0, EPOCHS, breakpoint):\n",
    "    sub_history = model.fit(x_train, y_train, breakpoint, verbose = 0)\n",
    "    score = model.evaluate(x_test, y_test, False, verbose = 0)\n",
    "    print('Checkpoint {}, Accuracy: {}, Loss: {}'.format(century+breakpoint, score['accuracy'], score[model.loss_fn]))\n",
    "    score['checkpoint'] = century + breakpoint\n",
    "    checkpoints.append(score)\n",
    "    history.extend(sub_history)"
   ]
  },
  {
   "cell_type": "code",
   "execution_count": 9,
   "metadata": {},
   "outputs": [],
   "source": [
    "import matplotlib.pyplot as plt\n",
    "\n",
    "def draw_plot(x, y_list, x_label=None, y_label=None, legend=None, title=None):\n",
    "    fig, ax = plt.subplots(figsize=(12,5))\n",
    "    for xi, yi in zip(x, y_list):\n",
    "        ax.plot(xi, yi)\n",
    "    if x_label is not None and y_label is not None:\n",
    "        ax.set(xlabel=x_label, ylabel=y_label, title='{} VS {}'.format(x_label, y_label))\n",
    "    if legend is not None:\n",
    "        ax.legend(legend)\n",
    "    ax.grid()\n",
    "    plt.show()"
   ]
  },
  {
   "cell_type": "code",
   "execution_count": 10,
   "metadata": {},
   "outputs": [
    {
     "name": "stdout",
     "output_type": "stream",
     "text": [
      "[1. 0. 0.] <-> [0.9958236  0.00142894 0.00274743]\n",
      "[1. 0. 0.] <-> [0.9929404  0.00579638 0.00126318]\n",
      "[1. 0. 0.] <-> [0.9970202  0.00148751 0.00149234]\n",
      "[0. 1. 0.] <-> [0.21100754 0.78776956 0.00122286]\n",
      "[1. 0. 0.] <-> [0.99571407 0.00236661 0.0019194 ]\n",
      "[1. 0. 0.] <-> [0.9946966  0.00367129 0.0016321 ]\n",
      "[1. 0. 0.] <-> [0.96785486 0.00144326 0.03070188]\n",
      "[1. 0. 0.] <-> [0.9888439  0.00957152 0.00158454]\n",
      "[1. 0. 0.] <-> [0.97811574 0.00134157 0.02054273]\n",
      "[1. 0. 0.] <-> [0.48988676 0.5074606  0.00265268]\n",
      "[0. 0. 1.] <-> [6.8931184e-03 9.1996026e-06 9.9309772e-01]\n",
      "[0. 0. 1.] <-> [0.5805223 0.0007736 0.418704 ]\n",
      "[1. 0. 0.] <-> [0.9968188  0.00185685 0.0013244 ]\n",
      "[1. 0. 0.] <-> [0.99612325 0.00247673 0.00140005]\n",
      "[0. 1. 0.] <-> [1.7219026e-02 9.8247194e-01 3.0894380e-04]\n",
      "[0. 0. 1.] <-> [0.5600077  0.00075722 0.43923506]\n",
      "[1. 0. 0.] <-> [0.99669147 0.00203067 0.00127783]\n",
      "[0. 1. 0.] <-> [4.6075415e-03 9.9525660e-01 1.3585859e-04]\n",
      "[1. 0. 0.] <-> [0.99715626 0.0015457  0.00129812]\n",
      "[1. 0. 0.] <-> [0.9901002  0.00134434 0.0085555 ]\n",
      "[0. 0. 1.] <-> [5.554898e-02 7.404303e-05 9.443770e-01]\n",
      "[1. 0. 0.] <-> [0.9956222  0.00326315 0.00111458]\n",
      "[0. 1. 0.] <-> [4.6467022e-03 9.9521565e-01 1.3766219e-04]\n",
      "[1. 0. 0.] <-> [0.996958   0.00140142 0.00164058]\n",
      "[1. 0. 0.] <-> [0.98449856 0.00131315 0.01418825]\n",
      "[1. 0. 0.] <-> [0.9934934  0.00238409 0.00412259]\n",
      "[1. 0. 0.] <-> [0.9530667  0.00128333 0.04565008]\n",
      "[1. 0. 0.] <-> [0.97161454 0.02657872 0.00180679]\n",
      "[0. 0. 1.] <-> [7.085313e-03 9.443710e-06 9.929053e-01]\n",
      "[1. 0. 0.] <-> [0.9967284  0.00216773 0.00110383]\n",
      "[0. 0. 1.] <-> [4.4662025e-02 5.9479593e-05 9.5527852e-01]\n",
      "[0. 0. 1.] <-> [1.2248729e-02 1.6325073e-05 9.8773497e-01]\n",
      "[0. 0. 1.] <-> [9.6004261e-03 1.2798314e-05 9.9038678e-01]\n",
      "[1. 0. 0.] <-> [0.9968587  0.0019223  0.00121897]\n",
      "[1. 0. 0.] <-> [0.99618524 0.00162223 0.00219262]\n",
      "[0. 0. 1.] <-> [6.8969647e-03 9.1925240e-06 9.9309385e-01]\n",
      "[1. 0. 0.] <-> [0.9970693  0.00161513 0.00131551]\n",
      "[1. 0. 0.] <-> [0.99635977 0.00241842 0.00122179]\n",
      "[1. 0. 0.] <-> [0.9969874  0.00147215 0.00154043]\n",
      "[0. 1. 0.] <-> [4.6075135e-03 9.9525660e-01 1.3581662e-04]\n",
      "[1. 0. 0.] <-> [0.13197309 0.86693764 0.00108925]\n",
      "[0. 0. 1.] <-> [1.1633071e-02 1.5527423e-05 9.8835140e-01]\n",
      "[1. 0. 0.] <-> [0.9964462  0.00195092 0.00160294]\n",
      "[0. 1. 0.] <-> [1.15309805e-02 9.88226235e-01 2.42840280e-04]\n",
      "[1. 0. 0.] <-> [0.9826606  0.00480813 0.01253129]\n",
      "[1. 0. 0.] <-> [0.99712014 0.00187595 0.00100389]\n",
      "[1. 0. 0.] <-> [0.9963366  0.00255392 0.00110951]\n",
      "[1. 0. 0.] <-> [0.9969537  0.00148198 0.00156424]\n",
      "[1. 0. 0.] <-> [0.9973918  0.00139544 0.00121272]\n",
      "[1. 0. 0.] <-> [0.99463683 0.00414036 0.00122277]\n",
      "[1. 0. 0.] <-> [0.9963684  0.00205948 0.0015721 ]\n",
      "[1. 0. 0.] <-> [0.9964347  0.00164644 0.00191879]\n",
      "[0. 1. 0.] <-> [4.607511e-03 9.952566e-01 1.357933e-04]\n",
      "[1. 0. 0.] <-> [0.9896091  0.00192364 0.00846726]\n",
      "[1. 0. 0.] <-> [0.9933426  0.00508322 0.00157427]\n",
      "[0. 1. 0.] <-> [4.6075135e-03 9.9525660e-01 1.3579331e-04]\n",
      "[0. 0. 1.] <-> [9.1279810e-03 1.2165086e-05 9.9085993e-01]\n",
      "[1. 0. 0.] <-> [0.99734515 0.00159167 0.00106327]\n",
      "[1. 0. 0.] <-> [0.99681526 0.00145606 0.0017287 ]\n",
      "[1. 0. 0.] <-> [0.9725218  0.02584649 0.00163178]\n",
      "[1. 0. 0.] <-> [0.9970926  0.0018053  0.00110204]\n",
      "[1. 0. 0.] <-> [0.99729055 0.00134101 0.00136839]\n",
      "[1. 0. 0.] <-> [0.9903003  0.00814444 0.00155526]\n",
      "[1. 0. 0.] <-> [1.09186344e-01 1.46036371e-04 8.90667617e-01]\n",
      "[1. 0. 0.] <-> [0.26239848 0.735872   0.00172954]\n",
      "[0. 1. 0.] <-> [4.6092118e-03 9.9525476e-01 1.3610304e-04]\n",
      "[0. 1. 0.] <-> [4.6075112e-03 9.9525660e-01 1.3579616e-04]\n",
      "[1. 0. 0.] <-> [0.9965174  0.00143996 0.00204267]\n",
      "[1. 0. 0.] <-> [0.9952394  0.00325779 0.00150284]\n",
      "[1. 0. 0.] <-> [0.78821373 0.20854628 0.00324001]\n",
      "[1. 0. 0.] <-> [0.9967423  0.00217686 0.00108084]\n",
      "[1. 0. 0.] <-> [0.99479806 0.0013448  0.00385706]\n",
      "[1. 0. 0.] <-> [0.9967573  0.00209591 0.0011467 ]\n",
      "[0. 1. 0.] <-> [2.0350546e-02 9.7932786e-01 3.2165169e-04]\n",
      "[1. 0. 0.] <-> [0.9538137  0.04424468 0.00194161]\n",
      "[0. 0. 1.] <-> [7.1672150e-03 9.5767446e-06 9.9282324e-01]\n",
      "[0. 1. 0.] <-> [5.6112739e-03 9.9423331e-01 1.5538956e-04]\n",
      "[1. 0. 0.] <-> [0.99457574 0.00172137 0.00370288]\n",
      "[0. 0. 1.] <-> [1.12234065e-02 1.50323694e-05 9.88761604e-01]\n",
      "[1. 0. 0.] <-> [0.99636877 0.00150888 0.00212226]\n",
      "[1. 0. 0.] <-> [0.9956086  0.00172345 0.00266789]\n",
      "[0. 1. 0.] <-> [4.8868779e-02 9.5060295e-01 5.2826304e-04]\n",
      "[1. 0. 0.] <-> [0.727084   0.27032542 0.00259053]\n",
      "[1. 0. 0.] <-> [0.570299   0.00080201 0.42889896]\n",
      "[1. 0. 0.] <-> [0.99666387 0.001866   0.00147005]\n",
      "[1. 0. 0.] <-> [0.7000483 0.2969721 0.0029796]\n",
      "[1. 0. 0.] <-> [0.99228024 0.00608362 0.00163623]\n",
      "[1. 0. 0.] <-> [0.9904214  0.00609096 0.00348762]\n",
      "[1. 0. 0.] <-> [0.97023904 0.00138372 0.02837716]\n",
      "[1. 0. 0.] <-> [0.9927409  0.0014822  0.00577683]\n",
      "[1. 0. 0.] <-> [0.8388903  0.00113695 0.1599727 ]\n",
      "[1. 0. 0.] <-> [0.996615   0.00171828 0.00166672]\n",
      "[0. 1. 0.] <-> [0.21086712 0.78820634 0.00092655]\n",
      "[0. 1. 0.] <-> [1.3355690e-02 9.8641580e-01 2.2842125e-04]\n",
      "[1. 0. 0.] <-> [0.9939501  0.00397675 0.00207316]\n",
      "[1. 0. 0.] <-> [0.99655366 0.0023274  0.00111898]\n",
      "[0. 0. 1.] <-> [6.8940753e-03 9.1976108e-06 9.9309677e-01]\n",
      "[1. 0. 0.] <-> [0.99443793 0.00138019 0.00418187]\n",
      "[1. 0. 0.] <-> [0.9939892  0.00134003 0.0046708 ]\n",
      "[1. 0. 0.] <-> [0.99417615 0.00476217 0.00106167]\n",
      "[1. 0. 0.] <-> [0.9971578  0.00137375 0.00146835]\n",
      "[1. 0. 0.] <-> [0.99551916 0.00334368 0.00113718]\n",
      "[1. 0. 0.] <-> [0.9930627  0.00132821 0.00560904]\n",
      "[1. 0. 0.] <-> [0.9887207  0.00132691 0.00995237]\n",
      "[1. 0. 0.] <-> [0.99397415 0.00138593 0.00463989]\n",
      "[1. 0. 0.] <-> [0.8602963  0.00115642 0.1385473 ]\n",
      "[0. 1. 0.] <-> [4.6246597e-03 9.9523890e-01 1.3640636e-04]\n",
      "[1. 0. 0.] <-> [0.9954601  0.00141787 0.00312208]\n",
      "{'accuracy': 0.9629629629629629, 'mean_square_error': 0.06563684828496198, 'categorical_crossentropy': 0.10342731299223723, 'essential_metrics': {0: {'tp_hit': 74, 'fp_hit': 2, 'tn_hit': 28, 'fn_hit': 4}, 1: {'tp_hit': 16, 'fp_hit': 3, 'tn_hit': 89, 'fn_hit': 0}, 2: {'tp_hit': 12, 'fp_hit': 1, 'tn_hit': 93, 'fn_hit': 2}}}\n"
     ]
    }
   ],
   "source": [
    "# recall phase\n",
    "score = model.evaluate(x_test, y_test, False)\n",
    "print(score)"
   ]
  },
  {
   "cell_type": "code",
   "execution_count": 11,
   "metadata": {},
   "outputs": [
    {
     "data": {
      "image/png": "[encoded data removed]",
      "text/plain": [
       "<Figure size 864x360 with 1 Axes>"
      ]
     },
     "metadata": {
      "needs_background": "light"
     },
     "output_type": "display_data"
    },
    {
     "data": {
      "image/png": "[encoded data removed]",
      "text/plain": [
       "<Figure size 864x360 with 1 Axes>"
      ]
     },
     "metadata": {
      "needs_background": "light"
     },
     "output_type": "display_data"
    }
   ],
   "source": [
    "draw_plot(x = [[i for i in range(len(history))], [(i+1)*breakpoint for i in range(len(checkpoints))]], y_list = [history, [ ckp[model.loss_fn] for ckp in checkpoints ]], x_label = 'Epochs', \\\n",
    "    y_label = model.loss_fn, legend=['train', 'test'])\n",
    "acc = [ ckp['accuracy'] for ckp in checkpoints ]\n",
    "draw_plot(x = [[(i+1)*breakpoint for i in range(len(checkpoints))]], y_list = [acc], x_label = 'Checkpoints', \\\n",
    "    y_label = 'accuracy')"
   ]
  },
  {
   "cell_type": "code",
   "execution_count": 12,
   "metadata": {},
   "outputs": [
    {
     "name": "stdout",
     "output_type": "stream",
     "text": [
      "{'accuracy': 0.9259259259259259, 'mean_square_error': 0.152932384547459, 'categorical_crossentropy': 0.2912316852145725, 'essential_metrics': {0: {'tp_hit': 77, 'fp_hit': 11, 'tn_hit': 19, 'fn_hit': 1}, 1: {'tp_hit': 11, 'fp_hit': 0, 'tn_hit': 92, 'fn_hit': 5}, 2: {'tp_hit': 8, 'fp_hit': 1, 'tn_hit': 93, 'fn_hit': 6}}, 'checkpoint': 100} \n",
      "\n",
      "\n",
      "{'accuracy': 0.9567901234567902, 'mean_square_error': 0.08500291220602253, 'categorical_crossentropy': 0.13618207860876014, 'essential_metrics': {0: {'tp_hit': 74, 'fp_hit': 3, 'tn_hit': 27, 'fn_hit': 4}, 1: {'tp_hit': 15, 'fp_hit': 2, 'tn_hit': 90, 'fn_hit': 1}, 2: {'tp_hit': 12, 'fp_hit': 2, 'tn_hit': 92, 'fn_hit': 2}}, 'checkpoint': 200} \n",
      "\n",
      "\n",
      "{'accuracy': 0.9691358024691358, 'mean_square_error': 0.06907780633992532, 'categorical_crossentropy': 0.10905328503361454, 'essential_metrics': {0: {'tp_hit': 75, 'fp_hit': 2, 'tn_hit': 28, 'fn_hit': 3}, 1: {'tp_hit': 16, 'fp_hit': 2, 'tn_hit': 90, 'fn_hit': 0}, 2: {'tp_hit': 12, 'fp_hit': 1, 'tn_hit': 93, 'fn_hit': 2}}, 'checkpoint': 300} \n",
      "\n",
      "\n",
      "{'accuracy': 0.9691358024691358, 'mean_square_error': 0.06533678811874316, 'categorical_crossentropy': 0.10430530265525535, 'essential_metrics': {0: {'tp_hit': 75, 'fp_hit': 2, 'tn_hit': 28, 'fn_hit': 3}, 1: {'tp_hit': 16, 'fp_hit': 2, 'tn_hit': 90, 'fn_hit': 0}, 2: {'tp_hit': 12, 'fp_hit': 1, 'tn_hit': 93, 'fn_hit': 2}}, 'checkpoint': 400} \n",
      "\n",
      "\n",
      "{'accuracy': 0.9629629629629629, 'mean_square_error': 0.06563684828496198, 'categorical_crossentropy': 0.10342731299223723, 'essential_metrics': {0: {'tp_hit': 74, 'fp_hit': 2, 'tn_hit': 28, 'fn_hit': 4}, 1: {'tp_hit': 16, 'fp_hit': 3, 'tn_hit': 89, 'fn_hit': 0}, 2: {'tp_hit': 12, 'fp_hit': 1, 'tn_hit': 93, 'fn_hit': 2}}, 'checkpoint': 500} \n",
      "\n",
      "\n"
     ]
    }
   ],
   "source": [
    "for checkpoint in checkpoints:\n",
    "    print(checkpoint, '\\n\\n')"
   ]
  },
  {
   "cell_type": "code",
   "execution_count": 13,
   "metadata": {},
   "outputs": [
    {
     "name": "stdout",
     "output_type": "stream",
     "text": [
      "Layer 1\n",
      "Neuron 0: weights:\n",
      "[ 0.09802084 -3.         -0.28180623  0.84524965  3.        ]\n",
      " bias: -2.613839626312256\n",
      "\n",
      "Neuron 1: weights:\n",
      "[-2.2008417  3.         3.         3.        -1.4370705]\n",
      " bias: -2.483489990234375\n",
      "\n",
      "Neuron 2: weights:\n",
      "[ 0.17963879  3.          0.02016168 -1.6193135  -3.        ]\n",
      " bias: 2.30049991607666\n",
      "\n",
      "Neuron 3: weights:\n",
      "[ 1.7460004  -3.         -3.         -0.66644865  3.        ]\n",
      " bias: 3.0\n",
      "\n",
      "$\n",
      "Layer 2\n",
      "Neuron 0: weights:\n",
      "[-3. -3.  3.  3.]\n",
      " bias: -0.590404748916626\n",
      "\n",
      "Neuron 1: weights:\n",
      "[-3.         3.         2.9957786 -3.       ]\n",
      " bias: -1.2108705043792725\n",
      "\n",
      "Neuron 2: weights:\n",
      "[ 3.         0.5059474 -3.         3.       ]\n",
      " bias: -1.6206718683242798\n",
      "\n",
      "$\n",
      "\n"
     ]
    }
   ],
   "source": [
    "print(model)"
   ]
  }
 ],
 "metadata": {
  "kernelspec": {
   "display_name": "Python 3",
   "language": "python",
   "name": "python3"
  },
  "language_info": {
   "codemirror_mode": {
    "name": "ipython",
    "version": 3
   },
   "file_extension": ".py",
   "mimetype": "text/x-python",
   "name": "python",
   "nbconvert_exporter": "python",
   "pygments_lexer": "ipython3",
   "version": "3.6.10"
  }
 },
 "nbformat": 4,
 "nbformat_minor": 2
}
