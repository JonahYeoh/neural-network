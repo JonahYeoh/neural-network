{
 "cells": [
  {
   "cell_type": "code",
   "execution_count": 1,
   "metadata": {},
   "outputs": [],
   "source": [
    "# dependency\n",
    "import numpy as np\n",
    "import pandas as pd\n",
    "import copy\n",
    "import math\n",
    "import sys\n",
    "import os\n",
    "from activations import relu, leaky_relu, sigmoid, tanh, softmax, d_sigmoid, d_relu\n",
    "from initializers import glorot_uniform, random_normal, random_uniform\n",
    "from regularizers import l1_regularizer, l2_regularizer\n",
    "from utility import trim_tail, multiply, subtract, get_nparams, one_hot_encoding, get_data\n",
    "from metrics import MSE, CCE, ACC, PRECISION, RECALL, essential_metrics, wondering_penalty, close_gap_penalty\n",
    "from pso import PSO\n",
    "from ga import GA\n",
    "from nn import Network\n",
    "from layer import DenseLayer\n",
    "from scalers import MinMaxScaler, StandardScaler"
   ]
  },
  {
   "cell_type": "code",
   "execution_count": 2,
   "metadata": {},
   "outputs": [],
   "source": [
    "# reference\n",
    "metrics_fn_dict = dict()\n",
    "metrics_fn_dict['accuracy'] = ACC\n",
    "metrics_fn_dict['categorical_crossentropy'] = CCE\n",
    "metrics_fn_dict['mean_square_error'] = MSE\n",
    "metrics_fn_dict['precision'] = PRECISION\n",
    "metrics_fn_dict['recall'] = RECALL\n",
    "metrics_fn_dict['essential_metrics'] = essential_metrics"
   ]
  },
  {
   "cell_type": "code",
   "execution_count": 3,
   "metadata": {},
   "outputs": [],
   "source": [
    "# model\n",
    "model = Network(5, lr = None)\n",
    "model.add_layer(DenseLayer(1, 4, True, afn=sigmoid, dafn=None, rfn=None))\n",
    "model.add_layer(DenseLayer(2, 3, True, afn=softmax, dafn=None, rfn=None))"
   ]
  },
  {
   "cell_type": "code",
   "execution_count": 4,
   "metadata": {},
   "outputs": [
    {
     "name": "stdout",
     "output_type": "stream",
     "text": [
      "see one see two 2 2\n"
     ]
    }
   ],
   "source": [
    "pso = PSO(dict(m = 50,\n",
    "    weight_constraint = [-3, 3], \n",
    "    velocity_constraint = [-0.1, 0.1],\n",
    "    c1 = 2,\n",
    "    c2 = 2,\n",
    "    w = 1,\n",
    "    w_decay = 1,\n",
    "    scale_hyperparameter = False,\n",
    "    regularizer = None,\n",
    "    mask = True))"
   ]
  },
  {
   "cell_type": "code",
   "execution_count": 5,
   "metadata": {},
   "outputs": [
    {
     "name": "stdout",
     "output_type": "stream",
     "text": [
      "building layer 1 with 5\n",
      "24\n",
      "building layer 2 with 4\n",
      "15\n"
     ]
    }
   ],
   "source": [
    "model.compile(loss_fn = 'categorical_crossentropy', optimizer = pso, \\\n",
    "    metrics = ['accuracy', 'mean_square_error', 'categorical_crossentropy'])"
   ]
  },
  {
   "cell_type": "code",
   "execution_count": 6,
   "metadata": {},
   "outputs": [
    {
     "name": "stdout",
     "output_type": "stream",
     "text": [
      "<class 'pandas.core.frame.DataFrame'>\n",
      "RangeIndex: 107 entries, 0 to 106\n",
      "Data columns (total 6 columns):\n",
      " #   Column  Non-Null Count  Dtype  \n",
      "---  ------  --------------  -----  \n",
      " 0   f1      107 non-null    float32\n",
      " 1   f2      107 non-null    float32\n",
      " 2   f3      107 non-null    float32\n",
      " 3   f4      107 non-null    float32\n",
      " 4   f5      107 non-null    float32\n",
      " 5   label   107 non-null    float32\n",
      "dtypes: float32(6)\n",
      "memory usage: 2.6 KB\n",
      "None\n",
      "<class 'pandas.core.frame.DataFrame'>\n",
      "RangeIndex: 108 entries, 0 to 107\n",
      "Data columns (total 6 columns):\n",
      " #   Column  Non-Null Count  Dtype  \n",
      "---  ------  --------------  -----  \n",
      " 0   f1      108 non-null    float32\n",
      " 1   f2      108 non-null    float32\n",
      " 2   f3      108 non-null    float32\n",
      " 3   f4      108 non-null    float32\n",
      " 4   f5      108 non-null    float32\n",
      " 5   label   108 non-null    float32\n",
      "dtypes: float32(6)\n",
      "memory usage: 2.7 KB\n",
      "None\n"
     ]
    }
   ],
   "source": [
    "# data loading\n",
    "DATA = os.path.join('c:\\\\Users\\\\AI-lab\\\\github_repo\\\\neural-network\\\\', 'dataset')\n",
    "GROUP = 4\n",
    "COLUMNS = ['f1', 'f2', 'f3', 'f4', 'f5', 'label']\n",
    "N_CLASS = 3\n",
    "EPOCHS = 500\n",
    "train_dir, test_dir = \"..//dataset//training_data{}.txt\".format(GROUP), \"..//dataset//testing_data{}.txt\".format(GROUP)\n",
    "train, test = get_data(DATA, train_dir, COLUMNS), get_data(DATA, test_dir, COLUMNS)\n",
    "# shuffle\n",
    "train, test = train.sample(frac=1), test.sample(frac=1)\n",
    "x_train, y_train = train.drop('label', axis=1), train['label']\n",
    "x_test, y_test = test.drop('label', axis=1), test['label']"
   ]
  },
  {
   "cell_type": "code",
   "execution_count": 7,
   "metadata": {},
   "outputs": [],
   "source": [
    "# data scaling and encoding\n",
    "scaler = StandardScaler(['f1', 'f2', 'f3', 'f4', 'f5'])\n",
    "scaler.fit(x_train)\n",
    "x_train = scaler.transform(x_train)\n",
    "x_test = scaler.transform(x_test)\n",
    "y_train = one_hot_encoding(y_train, N_CLASS)\n",
    "y_test = one_hot_encoding(y_test, N_CLASS)"
   ]
  },
  {
   "cell_type": "code",
   "execution_count": 8,
   "metadata": {
    "tags": [
     "outputPrepend"
    ]
   },
   "outputs": [
    {
     "name": "stdout",
     "output_type": "stream",
     "text": [
      "Checkpoint 100, Accuracy: 0.9135802469135802, Loss: 0.3774945647628219\n",
      "Checkpoint 200, Accuracy: 0.9691358024691358, Loss: 0.13796851370069715\n",
      "Checkpoint 300, Accuracy: 0.9691358024691358, Loss: 0.12088577835648148\n",
      "Checkpoint 400, Accuracy: 0.9691358024691358, Loss: 0.1091112737302427\n",
      "Checkpoint 500, Accuracy: 0.9629629629629629, Loss: 0.10851903314943667\n"
     ]
    }
   ],
   "source": [
    "# learning phase\n",
    "breakpoint = 100\n",
    "checkpoints = list()\n",
    "history = list()\n",
    "for century in range(0, EPOCHS, breakpoint):\n",
    "    sub_history = model.fit(x_train, y_train, breakpoint, verbose = 0)\n",
    "    score = model.evaluate(x_test, y_test, False, verbose = 0)\n",
    "    print('Checkpoint {}, Accuracy: {}, Loss: {}'.format(century+breakpoint, score['accuracy'], score[model.loss_fn]))\n",
    "    score['checkpoint'] = century + breakpoint\n",
    "    checkpoints.append(score)\n",
    "    history.extend(sub_history)"
   ]
  },
  {
   "cell_type": "code",
   "execution_count": 9,
   "metadata": {},
   "outputs": [],
   "source": [
    "import matplotlib.pyplot as plt\n",
    "\n",
    "def draw_plot(x, y_list, x_label=None, y_label=None, legend=None, title=None):\n",
    "    fig, ax = plt.subplots(figsize=(12,5))\n",
    "    for xi, yi in zip(x, y_list):\n",
    "        ax.plot(xi, yi)\n",
    "    if x_label is not None and y_label is not None:\n",
    "        ax.set(xlabel=x_label, ylabel=y_label, title='{} VS {}'.format(x_label, y_label))\n",
    "    if legend is not None:\n",
    "        ax.legend(legend)\n",
    "    ax.grid()\n",
    "    plt.show()"
   ]
  },
  {
   "cell_type": "code",
   "execution_count": 10,
   "metadata": {},
   "outputs": [
    {
     "name": "stdout",
     "output_type": "stream",
     "text": [
      "[1. 0. 0.] <-> [0.99699247 0.00176905 0.00123845]\n",
      "[0. 1. 0.] <-> [0.00692068 0.99062294 0.00245648]\n",
      "[1. 0. 0.] <-> [0.9953229  0.00281061 0.00186652]\n",
      "[1. 0. 0.] <-> [0.9647409  0.03185285 0.0034063 ]\n",
      "[1. 0. 0.] <-> [0.5788099  0.00099573 0.4201943 ]\n",
      "[1. 0. 0.] <-> [0.97714293 0.01165668 0.01120031]\n",
      "[0. 1. 0.] <-> [0.00692092 0.99062353 0.00245558]\n",
      "[0. 1. 0.] <-> [0.00694212 0.99059474 0.00246305]\n",
      "[1. 0. 0.] <-> [0.93066114 0.06446836 0.00487049]\n",
      "[1. 0. 0.] <-> [1.1390757e-01 2.1352948e-04 8.8587892e-01]\n",
      "[1. 0. 0.] <-> [0.9967415  0.0015693  0.00168923]\n",
      "[0. 1. 0.] <-> [0.00696502 0.9905577  0.00247722]\n",
      "[1. 0. 0.] <-> [0.995747   0.00141273 0.00284035]\n",
      "[1. 0. 0.] <-> [0.9664773  0.00131766 0.03220506]\n",
      "[1. 0. 0.] <-> [0.99664485 0.0020885  0.00126661]\n",
      "[1. 0. 0.] <-> [0.99715316 0.00169172 0.00115507]\n",
      "[1. 0. 0.] <-> [9.9750262e-01 9.6922164e-04 1.5281521e-03]\n",
      "[1. 0. 0.] <-> [0.99361503 0.00101034 0.00537464]\n",
      "[1. 0. 0.] <-> [0.9963265  0.00203086 0.00164266]\n",
      "[1. 0. 0.] <-> [0.9970108  0.00140267 0.00158645]\n",
      "[1. 0. 0.] <-> [0.97933507 0.00118338 0.01948164]\n",
      "[1. 0. 0.] <-> [0.99524236 0.00216471 0.00259289]\n",
      "[1. 0. 0.] <-> [0.99665976 0.00114798 0.00219233]\n",
      "[1. 0. 0.] <-> [0.995611   0.00106443 0.00332466]\n",
      "[1. 0. 0.] <-> [0.9946461  0.0010065  0.00434746]\n",
      "[1. 0. 0.] <-> [0.9968503  0.00120491 0.0019448 ]\n",
      "[1. 0. 0.] <-> [0.99727315 0.00109076 0.00163613]\n",
      "[0. 1. 0.] <-> [0.00692188 0.9906183  0.00245977]\n",
      "[1. 0. 0.] <-> [0.98897797 0.00106784 0.00995412]\n",
      "[0. 0. 1.] <-> [1.0801208e-02 2.5083578e-05 9.8917365e-01]\n",
      "[1. 0. 0.] <-> [0.9921415  0.00440059 0.00345794]\n",
      "[1. 0. 0.] <-> [0.9965282  0.00206122 0.00141054]\n",
      "[0. 0. 1.] <-> [0.5853756  0.00090976 0.41371465]\n",
      "[1. 0. 0.] <-> [0.69396335 0.29799595 0.00804069]\n",
      "[0. 1. 0.] <-> [0.0157775  0.9810168  0.00320572]\n",
      "[1. 0. 0.] <-> [0.99676406 0.00191266 0.00132322]\n",
      "[1. 0. 0.] <-> [0.99227303 0.00592467 0.00180227]\n",
      "[0. 0. 1.] <-> [7.078992e-03 1.650851e-05 9.929045e-01]\n",
      "[0. 1. 0.] <-> [0.05966328 0.9364688  0.00386796]\n",
      "[1. 0. 0.] <-> [0.20825613 0.78287196 0.00887193]\n",
      "[1. 0. 0.] <-> [0.99760383 0.00108889 0.00130737]\n",
      "[1. 0. 0.] <-> [0.99746144 0.00106566 0.00147291]\n",
      "[1. 0. 0.] <-> [0.99488693 0.00353476 0.00157829]\n",
      "[0. 0. 1.] <-> [5.61140031e-02 1.09474655e-04 9.43776548e-01]\n",
      "[1. 0. 0.] <-> [0.99330056 0.00219214 0.00450726]\n",
      "[0. 0. 1.] <-> [6.7480179e-03 1.6197280e-05 9.9323577e-01]\n",
      "[0. 1. 0.] <-> [0.00692094 0.99062353 0.00245553]\n",
      "[1. 0. 0.] <-> [0.9953779  0.0028278  0.00179433]\n",
      "[1. 0. 0.] <-> [0.9969913  0.00103968 0.00196906]\n",
      "[1. 0. 0.] <-> [0.99186397 0.00569187 0.00244415]\n",
      "[1. 0. 0.] <-> [0.95380694 0.00817871 0.03801433]\n",
      "[1. 0. 0.] <-> [0.9950382  0.00104864 0.00391319]\n",
      "[0. 0. 1.] <-> [8.4364982e-03 1.9450523e-05 9.9154401e-01]\n",
      "[1. 0. 0.] <-> [0.98570573 0.01125205 0.00304225]\n",
      "[0. 1. 0.] <-> [0.22521254 0.76983804 0.00494941]\n",
      "[1. 0. 0.] <-> [0.99525887 0.00100132 0.00373982]\n",
      "[0. 0. 1.] <-> [3.2680549e-02 6.6844848e-05 9.6725255e-01]\n",
      "[1. 0. 0.] <-> [0.9969748  0.0016585  0.00136663]\n",
      "[0. 1. 0.] <-> [0.00692083 0.9906233  0.00245587]\n",
      "[1. 0. 0.] <-> [0.98501354 0.00107573 0.0139107 ]\n",
      "[0. 1. 0.] <-> [0.26109886 0.735751   0.00315024]\n",
      "[1. 0. 0.] <-> [0.9926796  0.0012166  0.00610375]\n",
      "[1. 0. 0.] <-> [0.9958366  0.0027714  0.00139198]\n",
      "[1. 0. 0.] <-> [0.69769037 0.29400802 0.00830161]\n",
      "[1. 0. 0.] <-> [0.99722975 0.00139663 0.00137361]\n",
      "[1. 0. 0.] <-> [0.9750011  0.02259771 0.00240118]\n",
      "[0. 1. 0.] <-> [0.01874214 0.97859395 0.00266392]\n",
      "[1. 0. 0.] <-> [0.9974892  0.00135903 0.00115179]\n",
      "[1. 0. 0.] <-> [0.8620053 0.0011701 0.1368246]\n",
      "[1. 0. 0.] <-> [0.99727505 0.00142119 0.00130375]\n",
      "[1. 0. 0.] <-> [0.9956285  0.00309536 0.00127612]\n",
      "[1. 0. 0.] <-> [0.9963336  0.0013     0.00236645]\n",
      "[0. 1. 0.] <-> [0.02442081 0.9723146  0.00326457]\n",
      "[1. 0. 0.] <-> [0.9973902  0.00100048 0.00160932]\n",
      "[0. 0. 1.] <-> [6.6952538e-03 1.6201959e-05 9.9328858e-01]\n",
      "[1. 0. 0.] <-> [0.95421046 0.00117454 0.04461499]\n",
      "[1. 0. 0.] <-> [0.14381559 0.850488   0.00569638]\n",
      "[1. 0. 0.] <-> [0.68029404 0.30769497 0.01201102]\n",
      "[1. 0. 0.] <-> [9.9774408e-01 9.2119945e-04 1.3346974e-03]\n",
      "[1. 0. 0.] <-> [0.84094244 0.00118471 0.15787275]\n",
      "[1. 0. 0.] <-> [0.99775887 0.00113583 0.00110536]\n",
      "[1. 0. 0.] <-> [0.9697464  0.00135507 0.02889845]\n",
      "[0. 1. 0.] <-> [0.00692095 0.99062353 0.00245553]\n",
      "[0. 1. 0.] <-> [0.00822249 0.98917484 0.00260272]\n",
      "[1. 0. 0.] <-> [0.99690706 0.00160661 0.00148631]\n",
      "[1. 0. 0.] <-> [0.9943703  0.00442192 0.00120779]\n",
      "[1. 0. 0.] <-> [0.9975147  0.00117479 0.00131055]\n",
      "[1. 0. 0.] <-> [0.9974094  0.00104362 0.00154702]\n",
      "[1. 0. 0.] <-> [0.99621433 0.00107401 0.00271156]\n",
      "[0. 0. 1.] <-> [5.1811375e-03 1.6224798e-05 9.9480271e-01]\n",
      "[1. 0. 0.] <-> [0.98494315 0.00221095 0.0128459 ]\n",
      "[1. 0. 0.] <-> [0.99472165 0.00137345 0.00390488]\n",
      "[1. 0. 0.] <-> [9.9783009e-01 9.6711941e-04 1.2028444e-03]\n",
      "[0. 0. 1.] <-> [0.57115054 0.000863   0.4279865 ]\n",
      "[1. 0. 0.] <-> [0.9814519  0.01496727 0.00358081]\n",
      "[0. 0. 1.] <-> [1.0606333e-02 2.4312705e-05 9.8936927e-01]\n",
      "[0. 0. 1.] <-> [8.9343209e-03 2.0590434e-05 9.9104512e-01]\n",
      "[0. 0. 1.] <-> [7.1313460e-03 1.6786169e-05 9.9285179e-01]\n",
      "[0. 1. 0.] <-> [0.02244939 0.9741131  0.00343743]\n",
      "[1. 0. 0.] <-> [0.9972396  0.0010488  0.00171166]\n",
      "[1. 0. 0.] <-> [0.9911075  0.00106289 0.00782966]\n",
      "[1. 0. 0.] <-> [0.9942847  0.00106481 0.0046505 ]\n",
      "[1. 0. 0.] <-> [0.9969619  0.00128207 0.00175598]\n",
      "[1. 0. 0.] <-> [0.49280465 0.4982479  0.00894752]\n",
      "[1. 0. 0.] <-> [0.9931132  0.00473912 0.00214771]\n",
      "[0. 0. 1.] <-> [1.0510707e-02 2.3999288e-05 9.8946536e-01]\n",
      "[1. 0. 0.] <-> [0.99748224 0.00143675 0.00108104]\n",
      "[1. 0. 0.] <-> [0.9965789  0.00160491 0.00181618]\n",
      "{'accuracy': 0.9629629629629629, 'mean_square_error': 0.06856314819060995, 'categorical_crossentropy': 0.10851903314943667, 'essential_metrics': {0: {'tp_hit': 74, 'fp_hit': 2, 'tn_hit': 28, 'fn_hit': 4}, 1: {'tp_hit': 16, 'fp_hit': 3, 'tn_hit': 89, 'fn_hit': 0}, 2: {'tp_hit': 12, 'fp_hit': 1, 'tn_hit': 93, 'fn_hit': 2}}}\n"
     ]
    }
   ],
   "source": [
    "# recall phase\n",
    "score = model.evaluate(x_test, y_test, False)\n",
    "print(score)"
   ]
  },
  {
   "cell_type": "code",
   "execution_count": 11,
   "metadata": {},
   "outputs": [],
   "source": [
    "train_acc = [h['accuracy'] for h in history]\n",
    "train_mse = [h['mean_square_error'] for h in history]\n",
    "train_cce = [h['categorical_crossentropy'] for h in history]"
   ]
  },
  {
   "cell_type": "code",
   "execution_count": 12,
   "metadata": {},
   "outputs": [
    {
     "data": {
      "image/png": "[encoded data removed]",
      "text/plain": [
       "<Figure size 864x360 with 1 Axes>"
      ]
     },
     "metadata": {
      "needs_background": "light"
     },
     "output_type": "display_data"
    },
    {
     "data": {
      "image/png": "[encoded data removed]",
      "text/plain": [
       "<Figure size 864x360 with 1 Axes>"
      ]
     },
     "metadata": {
      "needs_background": "light"
     },
     "output_type": "display_data"
    }
   ],
   "source": [
    "draw_plot(x = [[i for i in range(len(history))], [(i+1)*breakpoint for i in range(len(checkpoints))]], y_list = [train_cce, [ ckp[model.loss_fn] for ckp in checkpoints ]], x_label = 'Epochs', \\\n",
    "    y_label = model.loss_fn, legend=['train', 'test'])\n",
    "acc = [ ckp['accuracy'] for ckp in checkpoints ]\n",
    "draw_plot(x = [[i for i in range(len(history))], [(i+1)*breakpoint for i in range(len(checkpoints))]], y_list = [train_acc, acc], x_label = 'Checkpoints', \\\n",
    "    y_label = 'accuracy', legend=['train', 'test'])"
   ]
  },
  {
   "cell_type": "code",
   "execution_count": 13,
   "metadata": {},
   "outputs": [
    {
     "name": "stdout",
     "output_type": "stream",
     "text": [
      "{'accuracy': 0.9135802469135802, 'mean_square_error': 0.19645772006684403, 'categorical_crossentropy': 0.3774945647628219, 'essential_metrics': {0: {'tp_hit': 76, 'fp_hit': 12, 'tn_hit': 18, 'fn_hit': 2}, 1: {'tp_hit': 13, 'fp_hit': 1, 'tn_hit': 91, 'fn_hit': 3}, 2: {'tp_hit': 5, 'fp_hit': 1, 'tn_hit': 93, 'fn_hit': 9}}, 'checkpoint': 100} \n",
      "\n",
      "\n",
      "{'accuracy': 0.9691358024691358, 'mean_square_error': 0.07798681392442626, 'categorical_crossentropy': 0.13796851370069715, 'essential_metrics': {0: {'tp_hit': 75, 'fp_hit': 2, 'tn_hit': 28, 'fn_hit': 3}, 1: {'tp_hit': 16, 'fp_hit': 2, 'tn_hit': 90, 'fn_hit': 0}, 2: {'tp_hit': 12, 'fp_hit': 1, 'tn_hit': 93, 'fn_hit': 2}}, 'checkpoint': 200} \n",
      "\n",
      "\n",
      "{'accuracy': 0.9691358024691358, 'mean_square_error': 0.07360809816873133, 'categorical_crossentropy': 0.12088577835648148, 'essential_metrics': {0: {'tp_hit': 74, 'fp_hit': 1, 'tn_hit': 29, 'fn_hit': 4}, 1: {'tp_hit': 16, 'fp_hit': 2, 'tn_hit': 90, 'fn_hit': 0}, 2: {'tp_hit': 13, 'fp_hit': 2, 'tn_hit': 92, 'fn_hit': 1}}, 'checkpoint': 300} \n",
      "\n",
      "\n",
      "{'accuracy': 0.9691358024691358, 'mean_square_error': 0.06840284468457235, 'categorical_crossentropy': 0.1091112737302427, 'essential_metrics': {0: {'tp_hit': 75, 'fp_hit': 2, 'tn_hit': 28, 'fn_hit': 3}, 1: {'tp_hit': 16, 'fp_hit': 2, 'tn_hit': 90, 'fn_hit': 0}, 2: {'tp_hit': 12, 'fp_hit': 1, 'tn_hit': 93, 'fn_hit': 2}}, 'checkpoint': 400} \n",
      "\n",
      "\n",
      "{'accuracy': 0.9629629629629629, 'mean_square_error': 0.06856314819060995, 'categorical_crossentropy': 0.10851903314943667, 'essential_metrics': {0: {'tp_hit': 74, 'fp_hit': 2, 'tn_hit': 28, 'fn_hit': 4}, 1: {'tp_hit': 16, 'fp_hit': 3, 'tn_hit': 89, 'fn_hit': 0}, 2: {'tp_hit': 12, 'fp_hit': 1, 'tn_hit': 93, 'fn_hit': 2}}, 'checkpoint': 500} \n",
      "\n",
      "\n"
     ]
    }
   ],
   "source": [
    "for checkpoint in checkpoints:\n",
    "    print(checkpoint, '\\n\\n')"
   ]
  },
  {
   "cell_type": "code",
   "execution_count": 14,
   "metadata": {},
   "outputs": [
    {
     "name": "stdout",
     "output_type": "stream",
     "text": [
      "Layer 1\n",
      "Neuron 0: weights:\n",
      "[ 0.1189243  -3.         -0.35448226  0.6857122   3.        ]\n",
      " bias: -2.6480560302734375\n",
      "\n",
      "Neuron 1: weights:\n",
      "[ 1.6895223  -3.         -3.          0.31792086  3.        ]\n",
      " bias: 3.0\n",
      "\n",
      "Neuron 2: weights:\n",
      "[-0.20628045 -3.         -0.01015421  3.          3.        ]\n",
      " bias: -2.014011859893799\n",
      "\n",
      "Neuron 3: weights:\n",
      "[ 2.2405329  -3.         -3.         -3.          0.05803044]\n",
      " bias: 1.7352148294448853\n",
      "\n",
      "$\n",
      "Layer 2\n",
      "Neuron 0: weights:\n",
      "[-3.  3. -3.  3.]\n",
      " bias: -1.9637812376022339\n",
      "\n",
      "Neuron 1: weights:\n",
      "[-2.725662 -3.       -2.298219 -3.      ]\n",
      " bias: 3.0\n",
      "\n",
      "Neuron 2: weights:\n",
      "[ 3.  3.  3. -3.]\n",
      " bias: -3.0\n",
      "\n",
      "$\n",
      "\n"
     ]
    }
   ],
   "source": [
    "print(model)"
   ]
  },
  {
   "cell_type": "code",
   "execution_count": null,
   "metadata": {},
   "outputs": [],
   "source": []
  }
 ],
 "metadata": {
  "kernelspec": {
   "display_name": "Python 3",
   "language": "python",
   "name": "python3"
  },
  "language_info": {
   "codemirror_mode": {
    "name": "ipython",
    "version": 3
   },
   "file_extension": ".py",
   "mimetype": "text/x-python",
   "name": "python",
   "nbconvert_exporter": "python",
   "pygments_lexer": "ipython3",
   "version": "3.6.12"
  }
 },
 "nbformat": 4,
 "nbformat_minor": 2
}
