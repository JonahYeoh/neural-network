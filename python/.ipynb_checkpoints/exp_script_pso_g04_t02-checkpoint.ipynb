{
 "cells": [
  {
   "cell_type": "code",
   "execution_count": 1,
   "metadata": {},
   "outputs": [],
   "source": [
    "# dependency\n",
    "import numpy as np\n",
    "import pandas as pd\n",
    "import copy\n",
    "import math\n",
    "import sys\n",
    "import os\n",
    "from activations import relu, leaky_relu, sigmoid, tanh, softmax, d_sigmoid, d_relu\n",
    "from initializers import glorot_uniform, random_normal, random_uniform\n",
    "from regularizers import l1_regularizer, l2_regularizer\n",
    "from utility import trim_tail, multiply, subtract, get_nparams, one_hot_encoding, get_data\n",
    "from metrics import MSE, CCE, ACC, PRECISION, RECALL, essential_metrics, wondering_penalty, close_gap_penalty\n",
    "from pso import PSO\n",
    "from ga import GA\n",
    "from nn import Network\n",
    "from layer import DenseLayer\n",
    "from scalers import MinMaxScaler, StandardScaler"
   ]
  },
  {
   "cell_type": "code",
   "execution_count": 2,
   "metadata": {},
   "outputs": [],
   "source": [
    "# reference\n",
    "metrics_fn_dict = dict()\n",
    "metrics_fn_dict['accuracy'] = ACC\n",
    "metrics_fn_dict['categorical_crossentropy'] = CCE\n",
    "metrics_fn_dict['mean_square_error'] = MSE\n",
    "metrics_fn_dict['precision'] = PRECISION\n",
    "metrics_fn_dict['recall'] = RECALL\n",
    "metrics_fn_dict['essential_metrics'] = essential_metrics"
   ]
  },
  {
   "cell_type": "code",
   "execution_count": 3,
   "metadata": {},
   "outputs": [],
   "source": [
    "# model\n",
    "model = Network(5, lr = None)\n",
    "model.add_layer(DenseLayer(1, 4, True, afn=sigmoid, dafn=None, rfn=None))\n",
    "model.add_layer(DenseLayer(2, 3, True, afn=softmax, dafn=None, rfn=None))"
   ]
  },
  {
   "cell_type": "code",
   "execution_count": 4,
   "metadata": {},
   "outputs": [
    {
     "name": "stdout",
     "output_type": "stream",
     "text": [
      "see one see two 2 2\n"
     ]
    }
   ],
   "source": [
    "pso = PSO(dict(m = 50,\n",
    "    weight_constraint = [-3, 3], \n",
    "    velocity_constraint = [-0.1, 0.1],\n",
    "    c1 = 2,\n",
    "    c2 = 2,\n",
    "    w = 1,\n",
    "    w_decay = 1,\n",
    "    scale_hyperparameter = False,\n",
    "    regularizer = None,\n",
    "    mask = True))"
   ]
  },
  {
   "cell_type": "code",
   "execution_count": 5,
   "metadata": {},
   "outputs": [
    {
     "name": "stdout",
     "output_type": "stream",
     "text": [
      "building layer 1 with 5\n",
      "24\n",
      "building layer 2 with 4\n",
      "15\n"
     ]
    }
   ],
   "source": [
    "model.compile(loss_fn = 'categorical_crossentropy', optimizer = pso, \\\n",
    "    metrics = ['accuracy', 'mean_square_error', 'categorical_crossentropy'])"
   ]
  },
  {
   "cell_type": "code",
   "execution_count": 6,
   "metadata": {},
   "outputs": [
    {
     "name": "stdout",
     "output_type": "stream",
     "text": [
      "<class 'pandas.core.frame.DataFrame'>\n",
      "RangeIndex: 107 entries, 0 to 106\n",
      "Data columns (total 6 columns):\n",
      " #   Column  Non-Null Count  Dtype  \n",
      "---  ------  --------------  -----  \n",
      " 0   f1      107 non-null    float32\n",
      " 1   f2      107 non-null    float32\n",
      " 2   f3      107 non-null    float32\n",
      " 3   f4      107 non-null    float32\n",
      " 4   f5      107 non-null    float32\n",
      " 5   label   107 non-null    float32\n",
      "dtypes: float32(6)\n",
      "memory usage: 2.6 KB\n",
      "None\n",
      "<class 'pandas.core.frame.DataFrame'>\n",
      "RangeIndex: 108 entries, 0 to 107\n",
      "Data columns (total 6 columns):\n",
      " #   Column  Non-Null Count  Dtype  \n",
      "---  ------  --------------  -----  \n",
      " 0   f1      108 non-null    float32\n",
      " 1   f2      108 non-null    float32\n",
      " 2   f3      108 non-null    float32\n",
      " 3   f4      108 non-null    float32\n",
      " 4   f5      108 non-null    float32\n",
      " 5   label   108 non-null    float32\n",
      "dtypes: float32(6)\n",
      "memory usage: 2.7 KB\n",
      "None\n"
     ]
    }
   ],
   "source": [
    "# data loading\n",
    "DATA = os.path.join('c:\\\\Users\\\\tcumi\\\\github_repo\\\\neural-network\\\\', 'dataset')\n",
    "GROUP = 4\n",
    "COLUMNS = ['f1', 'f2', 'f3', 'f4', 'f5', 'label']\n",
    "N_CLASS = 3\n",
    "EPOCHS = 500\n",
    "train_dir, test_dir = \"..//dataset//training_data{}.txt\".format(GROUP), \"..//dataset//testing_data{}.txt\".format(GROUP)\n",
    "train, test = get_data(DATA, train_dir, COLUMNS), get_data(DATA, test_dir, COLUMNS)\n",
    "# shuffle\n",
    "train, test = train.sample(frac=1), test.sample(frac=1)\n",
    "x_train, y_train = train.drop('label', axis=1), train['label']\n",
    "x_test, y_test = test.drop('label', axis=1), test['label']"
   ]
  },
  {
   "cell_type": "code",
   "execution_count": 7,
   "metadata": {},
   "outputs": [],
   "source": [
    "# data scaling and encoding\n",
    "scaler = StandardScaler(['f1', 'f2', 'f3', 'f4', 'f5'])\n",
    "scaler.fit(x_train)\n",
    "x_train = scaler.transform(x_train)\n",
    "x_test = scaler.transform(x_test)\n",
    "y_train = one_hot_encoding(y_train, N_CLASS)\n",
    "y_test = one_hot_encoding(y_test, N_CLASS)"
   ]
  },
  {
   "cell_type": "code",
   "execution_count": 8,
   "metadata": {
    "tags": [
     "outputPrepend"
    ]
   },
   "outputs": [
    {
     "name": "stdout",
     "output_type": "stream",
     "text": [
      "Checkpoint 100, Accuracy: 0.9506172839506173, Loss: 0.244063518665455\n",
      "Checkpoint 200, Accuracy: 0.9814814814814815, Loss: 0.10066515428048593\n",
      "Checkpoint 300, Accuracy: 0.9691358024691358, Loss: 0.10890397319087276\n",
      "Checkpoint 400, Accuracy: 0.9691358024691358, Loss: 0.10516709751553005\n",
      "Checkpoint 500, Accuracy: 0.9691358024691358, Loss: 0.09992913846616391\n"
     ]
    }
   ],
   "source": [
    "# learning phase\n",
    "breakpoint = 100\n",
    "checkpoints = list()\n",
    "history = list()\n",
    "for century in range(0, EPOCHS, breakpoint):\n",
    "    sub_history = model.fit(x_train, y_train, breakpoint, verbose = 0)\n",
    "    score = model.evaluate(x_test, y_test, False, verbose = 0)\n",
    "    print('Checkpoint {}, Accuracy: {}, Loss: {}'.format(century+breakpoint, score['accuracy'], score[model.loss_fn]))\n",
    "    score['checkpoint'] = century + breakpoint\n",
    "    checkpoints.append(score)\n",
    "    history.extend(sub_history)"
   ]
  },
  {
   "cell_type": "code",
   "execution_count": 9,
   "metadata": {},
   "outputs": [],
   "source": [
    "import matplotlib.pyplot as plt\n",
    "\n",
    "def draw_plot(x, y_list, x_label=None, y_label=None, legend=None, title=None):\n",
    "    fig, ax = plt.subplots(figsize=(12,5))\n",
    "    for xi, yi in zip(x, y_list):\n",
    "        ax.plot(xi, yi)\n",
    "    if x_label is not None and y_label is not None:\n",
    "        ax.set(xlabel=x_label, ylabel=y_label, title='{} VS {}'.format(x_label, y_label))\n",
    "    if legend is not None:\n",
    "        ax.legend(legend)\n",
    "    ax.grid()\n",
    "    plt.show()"
   ]
  },
  {
   "cell_type": "code",
   "execution_count": 10,
   "metadata": {},
   "outputs": [
    {
     "name": "stdout",
     "output_type": "stream",
     "text": [
      "[1. 0. 0.] <-> [0.9967373  0.002121   0.00114178]\n",
      "[1. 0. 0.] <-> [0.99743503 0.00141077 0.00115417]\n",
      "[0. 0. 1.] <-> [5.01579866e-02 1.07705026e-04 9.49734330e-01]\n",
      "[1. 0. 0.] <-> [0.9971486  0.00144816 0.00140331]\n",
      "[0. 1. 0.] <-> [1.8659381e-02 9.8130023e-01 4.0334820e-05]\n",
      "[1. 0. 0.] <-> [0.99720913 0.00172209 0.00106879]\n",
      "[1. 0. 0.] <-> [0.9924764  0.00615291 0.00137065]\n",
      "[1. 0. 0.] <-> [0.9966614  0.00208259 0.00125593]\n",
      "[0. 0. 1.] <-> [6.1928276e-03 1.5351648e-05 9.9379188e-01]\n",
      "[1. 0. 0.] <-> [0.9942532  0.00459839 0.0011484 ]\n",
      "[1. 0. 0.] <-> [0.9957098  0.0028152  0.00147501]\n",
      "[1. 0. 0.] <-> [0.99344337 0.00135641 0.0052001 ]\n",
      "[1. 0. 0.] <-> [0.9967782  0.00134903 0.00187283]\n",
      "[1. 0. 0.] <-> [0.99706334 0.00125133 0.00168536]\n",
      "[1. 0. 0.] <-> [0.9969965  0.00132206 0.00168144]\n",
      "[1. 0. 0.] <-> [0.9871278  0.00134073 0.01153145]\n",
      "[1. 0. 0.] <-> [0.99723333 0.0013504  0.00141632]\n",
      "[1. 0. 0.] <-> [0.99702966 0.00136191 0.0016083 ]\n",
      "[1. 0. 0.] <-> [0.99552816 0.00285947 0.00161233]\n",
      "[0. 1. 0.] <-> [5.2084331e-03 9.9477863e-01 1.2912053e-05]\n",
      "[1. 0. 0.] <-> [0.8429032  0.00147885 0.1556179 ]\n",
      "[0. 1. 0.] <-> [1.7925099e-02 9.8203367e-01 4.1232637e-05]\n",
      "[1. 0. 0.] <-> [0.99583757 0.00300009 0.00116236]\n",
      "[1. 0. 0.] <-> [0.9973189  0.00121224 0.00146891]\n",
      "[0. 1. 0.] <-> [5.2383058e-03 9.9474853e-01 1.3109977e-05]\n",
      "[0. 0. 1.] <-> [0.51395863 0.00087985 0.48516157]\n",
      "[1. 0. 0.] <-> [0.9950487  0.00135411 0.00359716]\n",
      "[0. 1. 0.] <-> [2.6298985e-01 7.3658460e-01 4.2549640e-04]\n",
      "[1. 0. 0.] <-> [0.9969229  0.00168275 0.00139438]\n",
      "[0. 1. 0.] <-> [5.2079340e-03 9.9477911e-01 1.2921729e-05]\n",
      "[1. 0. 0.] <-> [0.99638355 0.00133473 0.0022817 ]\n",
      "[0. 1. 0.] <-> [5.2262642e-03 9.9476069e-01 1.2992702e-05]\n",
      "[1. 0. 0.] <-> [0.99227905 0.00152812 0.00619282]\n",
      "[1. 0. 0.] <-> [0.5850591  0.00119496 0.4137459 ]\n",
      "[1. 0. 0.] <-> [0.99742115 0.00125766 0.00132123]\n",
      "[1. 0. 0.] <-> [0.9957172  0.00240256 0.00188022]\n",
      "[1. 0. 0.] <-> [0.9965314  0.00183298 0.00163561]\n",
      "[0. 1. 0.] <-> [1.4642109e-02 9.8532575e-01 3.2235763e-05]\n",
      "[1. 0. 0.] <-> [0.9827947  0.00134186 0.01586346]\n",
      "[0. 1. 0.] <-> [1.9971508e-01 7.9993945e-01 3.4548301e-04]\n",
      "[1. 0. 0.] <-> [0.9851961  0.01354222 0.00126168]\n",
      "[1. 0. 0.] <-> [0.9961946  0.00240397 0.0014014 ]\n",
      "[0. 0. 1.] <-> [3.1944681e-02 7.0609669e-05 9.6798474e-01]\n",
      "[1. 0. 0.] <-> [0.83951974 0.00137007 0.15911014]\n",
      "[0. 0. 1.] <-> [6.3516446e-03 1.5740075e-05 9.9363261e-01]\n",
      "[1. 0. 0.] <-> [0.97130907 0.02742702 0.00126384]\n",
      "[0. 0. 1.] <-> [8.8785794e-03 2.1948556e-05 9.9109942e-01]\n",
      "[1. 0. 0.] <-> [0.9969297  0.00139195 0.00167844]\n",
      "[1. 0. 0.] <-> [0.9775678  0.00147764 0.02095449]\n",
      "[1. 0. 0.] <-> [0.7899396  0.20886016 0.00120024]\n",
      "[1. 0. 0.] <-> [0.9889122  0.00133487 0.00975299]\n",
      "[1. 0. 0.] <-> [3.4137297e-01 6.5805036e-01 5.7669351e-04]\n",
      "[0. 1. 0.] <-> [5.2085100e-03 9.9477863e-01 1.2910808e-05]\n",
      "[1. 0. 0.] <-> [0.99626094 0.00262614 0.00111298]\n",
      "[0. 0. 1.] <-> [6.1945771e-03 1.5356425e-05 9.9379009e-01]\n",
      "[1. 0. 0.] <-> [0.9957581  0.00318325 0.00105855]\n",
      "[1. 0. 0.] <-> [0.94664687 0.05216801 0.00118511]\n",
      "[1. 0. 0.] <-> [0.9970304  0.00183582 0.00113375]\n",
      "[0. 0. 1.] <-> [9.9771097e-03 2.4290126e-05 9.8999864e-01]\n",
      "[1. 0. 0.] <-> [0.53408486 0.46487993 0.00103519]\n",
      "[1. 0. 0.] <-> [0.99629503 0.00146988 0.00223511]\n",
      "[1. 0. 0.] <-> [0.9955323  0.00177868 0.00268894]\n",
      "[1. 0. 0.] <-> [0.99571085 0.00138634 0.00290272]\n",
      "[1. 0. 0.] <-> [0.99547184 0.00341149 0.00111666]\n",
      "[1. 0. 0.] <-> [0.996434   0.0014898  0.00207623]\n",
      "[1. 0. 0.] <-> [0.9933969  0.00128108 0.005322  ]\n",
      "[0. 0. 1.] <-> [8.1389956e-03 2.0059471e-05 9.9184096e-01]\n",
      "[1. 0. 0.] <-> [0.9937046  0.00484565 0.00144965]\n",
      "[1. 0. 0.] <-> [0.99635565 0.00201646 0.00162787]\n",
      "[1. 0. 0.] <-> [0.9875751  0.01118297 0.00124192]\n",
      "[0. 1. 0.] <-> [6.1586481e-03 9.9382609e-01 1.5304524e-05]\n",
      "[0. 0. 1.] <-> [1.0919592e-02 2.6903148e-05 9.8905355e-01]\n",
      "[1. 0. 0.] <-> [0.7206223  0.278174   0.00120369]\n",
      "[1. 0. 0.] <-> [0.9972197  0.00160946 0.00117079]\n",
      "[0. 0. 1.] <-> [6.6619669e-03 1.6527843e-05 9.9332148e-01]\n",
      "[1. 0. 0.] <-> [0.9924959  0.00128594 0.00621813]\n",
      "[1. 0. 0.] <-> [0.99608946 0.00165287 0.00225769]\n",
      "[0. 1. 0.] <-> [4.8310887e-02 9.5159233e-01 9.6783020e-05]\n",
      "[1. 0. 0.] <-> [0.9363932  0.00137341 0.06223342]\n",
      "[0. 1. 0.] <-> [1.2311807e-02 9.8765963e-01 2.8615406e-05]\n",
      "[1. 0. 0.] <-> [0.99641377 0.00245519 0.001131  ]\n",
      "[1. 0. 0.] <-> [1.0934544e-01 2.3117328e-04 8.9042336e-01]\n",
      "[1. 0. 0.] <-> [0.9966132  0.00159746 0.00178931]\n",
      "[1. 0. 0.] <-> [0.72486967 0.27382043 0.00130992]\n",
      "[1. 0. 0.] <-> [0.9969579  0.00186395 0.00117813]\n",
      "[0. 1. 0.] <-> [5.2085002e-03 9.9477863e-01 1.2910932e-05]\n",
      "[1. 0. 0.] <-> [0.9944622  0.00136172 0.00417599]\n",
      "[1. 0. 0.] <-> [0.9943749  0.0016955  0.00392966]\n",
      "[1. 0. 0.] <-> [0.96686435 0.00160766 0.03152795]\n",
      "[1. 0. 0.] <-> [0.9843292  0.01446107 0.00120981]\n",
      "[0. 1. 0.] <-> [5.2081374e-03 9.9477899e-01 1.2951510e-05]\n",
      "[1. 0. 0.] <-> [0.9836406  0.0058915  0.01046793]\n",
      "[1. 0. 0.] <-> [0.9964832  0.00239061 0.00112611]\n",
      "[1. 0. 0.] <-> [0.99679726 0.00164951 0.00155325]\n",
      "[1. 0. 0.] <-> [0.99316275 0.00504521 0.00179207]\n",
      "[0. 0. 1.] <-> [9.7995466e-03 2.3863253e-05 9.9017662e-01]\n",
      "[1. 0. 0.] <-> [0.9968106  0.00187221 0.00131724]\n",
      "[1. 0. 0.] <-> [0.9934143  0.00272668 0.00385894]\n",
      "[1. 0. 0.] <-> [0.99698657 0.00171914 0.00129433]\n",
      "[1. 0. 0.] <-> [0.968234   0.00170243 0.03006353]\n",
      "[1. 0. 0.] <-> [0.9893519  0.00780453 0.00284358]\n",
      "[1. 0. 0.] <-> [1.1439373e-01 8.8538325e-01 2.2305535e-04]\n",
      "[1. 0. 0.] <-> [0.99447167 0.00128621 0.0042421 ]\n",
      "[1. 0. 0.] <-> [0.9891794  0.00229393 0.0085268 ]\n",
      "[1. 0. 0.] <-> [0.99698764 0.0013079  0.00170447]\n",
      "[0. 0. 1.] <-> [6.1912639e-03 1.5346623e-05 9.9379337e-01]\n",
      "[0. 0. 1.] <-> [0.5416173  0.00099092 0.45739183]\n",
      "[0. 1. 0.] <-> [5.2081491e-03 9.9477899e-01 1.2917157e-05]\n",
      "{'accuracy': 0.9691358024691358, 'mean_square_error': 0.061734281973737995, 'categorical_crossentropy': 0.09992913846616391, 'essential_metrics': {0: {'tp_hit': 75, 'fp_hit': 2, 'tn_hit': 28, 'fn_hit': 3}, 1: {'tp_hit': 16, 'fp_hit': 2, 'tn_hit': 90, 'fn_hit': 0}, 2: {'tp_hit': 12, 'fp_hit': 1, 'tn_hit': 93, 'fn_hit': 2}}}\n"
     ]
    }
   ],
   "source": [
    "# recall phase\n",
    "score = model.evaluate(x_test, y_test, False)\n",
    "print(score)"
   ]
  },
  {
   "cell_type": "code",
   "execution_count": 11,
   "metadata": {},
   "outputs": [
    {
     "data": {
      "image/png": "[encoded data removed]",
      "text/plain": [
       "<Figure size 864x360 with 1 Axes>"
      ]
     },
     "metadata": {
      "needs_background": "light"
     },
     "output_type": "display_data"
    },
    {
     "data": {
      "image/png": "[encoded data removed]",
      "text/plain": [
       "<Figure size 864x360 with 1 Axes>"
      ]
     },
     "metadata": {
      "needs_background": "light"
     },
     "output_type": "display_data"
    }
   ],
   "source": [
    "draw_plot(x = [[i for i in range(len(history))], [(i+1)*breakpoint for i in range(len(checkpoints))]], y_list = [history, [ ckp[model.loss_fn] for ckp in checkpoints ]], x_label = 'Epochs', \\\n",
    "    y_label = model.loss_fn, legend=['train', 'test'])\n",
    "acc = [ ckp['accuracy'] for ckp in checkpoints ]\n",
    "draw_plot(x = [[(i+1)*breakpoint for i in range(len(checkpoints))]], y_list = [acc], x_label = 'Checkpoints', \\\n",
    "    y_label = 'accuracy')"
   ]
  },
  {
   "cell_type": "code",
   "execution_count": 12,
   "metadata": {},
   "outputs": [
    {
     "name": "stdout",
     "output_type": "stream",
     "text": [
      "{'accuracy': 0.9506172839506173, 'mean_square_error': 0.1295925829892608, 'categorical_crossentropy': 0.244063518665455, 'essential_metrics': {0: {'tp_hit': 76, 'fp_hit': 6, 'tn_hit': 24, 'fn_hit': 2}, 1: {'tp_hit': 15, 'fp_hit': 2, 'tn_hit': 90, 'fn_hit': 1}, 2: {'tp_hit': 9, 'fp_hit': 0, 'tn_hit': 94, 'fn_hit': 5}}, 'checkpoint': 100} \n",
      "\n",
      "\n",
      "{'accuracy': 0.9814814814814815, 'mean_square_error': 0.060568205523358384, 'categorical_crossentropy': 0.10066515428048593, 'essential_metrics': {0: {'tp_hit': 75, 'fp_hit': 0, 'tn_hit': 30, 'fn_hit': 3}, 1: {'tp_hit': 16, 'fp_hit': 2, 'tn_hit': 90, 'fn_hit': 0}, 2: {'tp_hit': 14, 'fp_hit': 1, 'tn_hit': 93, 'fn_hit': 0}}, 'checkpoint': 200} \n",
      "\n",
      "\n",
      "{'accuracy': 0.9691358024691358, 'mean_square_error': 0.06892922587201822, 'categorical_crossentropy': 0.10890397319087276, 'essential_metrics': {0: {'tp_hit': 75, 'fp_hit': 2, 'tn_hit': 28, 'fn_hit': 3}, 1: {'tp_hit': 16, 'fp_hit': 2, 'tn_hit': 90, 'fn_hit': 0}, 2: {'tp_hit': 12, 'fp_hit': 1, 'tn_hit': 93, 'fn_hit': 2}}, 'checkpoint': 300} \n",
      "\n",
      "\n",
      "{'accuracy': 0.9691358024691358, 'mean_square_error': 0.06597453050697315, 'categorical_crossentropy': 0.10516709751553005, 'essential_metrics': {0: {'tp_hit': 75, 'fp_hit': 2, 'tn_hit': 28, 'fn_hit': 3}, 1: {'tp_hit': 16, 'fp_hit': 2, 'tn_hit': 90, 'fn_hit': 0}, 2: {'tp_hit': 12, 'fp_hit': 1, 'tn_hit': 93, 'fn_hit': 2}}, 'checkpoint': 400} \n",
      "\n",
      "\n",
      "{'accuracy': 0.9691358024691358, 'mean_square_error': 0.061734281973737995, 'categorical_crossentropy': 0.09992913846616391, 'essential_metrics': {0: {'tp_hit': 75, 'fp_hit': 2, 'tn_hit': 28, 'fn_hit': 3}, 1: {'tp_hit': 16, 'fp_hit': 2, 'tn_hit': 90, 'fn_hit': 0}, 2: {'tp_hit': 12, 'fp_hit': 1, 'tn_hit': 93, 'fn_hit': 2}}, 'checkpoint': 500} \n",
      "\n",
      "\n"
     ]
    }
   ],
   "source": [
    "for checkpoint in checkpoints:\n",
    "    print(checkpoint, '\\n\\n')"
   ]
  },
  {
   "cell_type": "code",
   "execution_count": 13,
   "metadata": {},
   "outputs": [
    {
     "name": "stdout",
     "output_type": "stream",
     "text": [
      "Layer 1\n",
      "Neuron 0: weights:\n",
      "[-1.9182049   3.          3.         -1.8756496  -0.93241405]\n",
      " bias: -3.0\n",
      "\n",
      "Neuron 1: weights:\n",
      "[ 2.1879358 -3.        -3.        -3.         2.6209776]\n",
      " bias: 2.834453582763672\n",
      "\n",
      "Neuron 2: weights:\n",
      "[ 0.19757514  3.         -0.37037838 -3.         -3.        ]\n",
      " bias: 1.8047430515289307\n",
      "\n",
      "Neuron 3: weights:\n",
      "[-0.08040658  3.          0.87945664 -0.27283707 -3.        ]\n",
      " bias: 3.0\n",
      "\n",
      "$\n",
      "Layer 2\n",
      "Neuron 0: weights:\n",
      "[-3.  3.  3.  3.]\n",
      " bias: -3.0\n",
      "\n",
      "Neuron 1: weights:\n",
      "[ 3.        -3.         2.2522252  3.       ]\n",
      " bias: -3.0\n",
      "\n",
      "Neuron 2: weights:\n",
      "[-3.        2.078391 -3.       -3.      ]\n",
      " bias: 3.0\n",
      "\n",
      "$\n",
      "\n"
     ]
    }
   ],
   "source": [
    "print(model)"
   ]
  }
 ],
 "metadata": {
  "kernelspec": {
   "display_name": "Python 3",
   "language": "python",
   "name": "python3"
  },
  "language_info": {
   "codemirror_mode": {
    "name": "ipython",
    "version": 3
   },
   "file_extension": ".py",
   "mimetype": "text/x-python",
   "name": "python",
   "nbconvert_exporter": "python",
   "pygments_lexer": "ipython3",
   "version": "3.6.10"
  }
 },
 "nbformat": 4,
 "nbformat_minor": 2
}
