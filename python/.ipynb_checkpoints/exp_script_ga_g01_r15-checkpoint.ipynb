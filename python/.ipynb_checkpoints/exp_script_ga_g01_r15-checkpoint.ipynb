{
 "cells": [
  {
   "cell_type": "code",
   "execution_count": 1,
   "metadata": {},
   "outputs": [],
   "source": [
    "# two"
   ]
  },
  {
   "cell_type": "code",
   "execution_count": 2,
   "metadata": {},
   "outputs": [],
   "source": [
    "# dependency\n",
    "import numpy as np\n",
    "import pandas as pd\n",
    "import copy\n",
    "import math\n",
    "import sys\n",
    "import os\n",
    "from activations import relu, leaky_relu, sigmoid, tanh, softmax, d_sigmoid, d_relu\n",
    "from initializers import glorot_uniform, random_normal, random_uniform\n",
    "from regularizers import l1_regularizer, l2_regularizer\n",
    "from utility import trim_tail, multiply, subtract, get_nparams, one_hot_encoding, get_data\n",
    "from metrics import MSE, CCE, ACC, PRECISION, RECALL, essential_metrics, wondering_penalty, close_gap_penalty\n",
    "from pso import PSO\n",
    "from ga import GA\n",
    "from nn import Network\n",
    "from layer import DenseLayer\n",
    "from scalers import MinMaxScaler, StandardScaler"
   ]
  },
  {
   "cell_type": "code",
   "execution_count": 3,
   "metadata": {},
   "outputs": [],
   "source": [
    "# reference\n",
    "metrics_fn_dict = dict()\n",
    "metrics_fn_dict['accuracy'] = ACC\n",
    "metrics_fn_dict['categorical_crossentropy'] = CCE\n",
    "metrics_fn_dict['mean_square_error'] = MSE\n",
    "metrics_fn_dict['precision'] = PRECISION\n",
    "metrics_fn_dict['recall'] = RECALL\n",
    "metrics_fn_dict['essential_metrics'] = essential_metrics"
   ]
  },
  {
   "cell_type": "code",
   "execution_count": 4,
   "metadata": {},
   "outputs": [],
   "source": [
    "# model\n",
    "model = Network(5, lr = None)\n",
    "model.add_layer(DenseLayer(1, 4, True, afn=sigmoid, dafn=None, rfn=None))\n",
    "model.add_layer(DenseLayer(2, 3, True, afn=softmax, dafn=None, rfn=None))"
   ]
  },
  {
   "cell_type": "code",
   "execution_count": 5,
   "metadata": {},
   "outputs": [],
   "source": [
    "# optimizer\n",
    "ga = GA(\n",
    "    dict(\n",
    "        m = 50,\n",
    "        x_rate = 0.5,\n",
    "        m_rate = 0.5,\n",
    "        weight_constraint = [-3.,3.],\n",
    "        radioactive_rating = 0.1,\n",
    "        grow_factor = 0.1,\n",
    "        scale_hyperparameter = False,\n",
    "        regularizer = None))"
   ]
  },
  {
   "cell_type": "code",
   "execution_count": 6,
   "metadata": {},
   "outputs": [
    {
     "name": "stdout",
     "output_type": "stream",
     "text": [
      "building layer 1 with 5\n",
      "24\n",
      "building layer 2 with 4\n",
      "15\n"
     ]
    }
   ],
   "source": [
    "model.compile(loss_fn = 'categorical_crossentropy', optimizer = ga, \\\n",
    "    metrics = ['accuracy', 'mean_square_error', 'categorical_crossentropy', 'precision', 'recall', 'f1'])"
   ]
  },
  {
   "cell_type": "code",
   "execution_count": 7,
   "metadata": {},
   "outputs": [
    {
     "name": "stdout",
     "output_type": "stream",
     "text": [
      "<class 'pandas.core.frame.DataFrame'>\n",
      "RangeIndex: 107 entries, 0 to 106\n",
      "Data columns (total 6 columns):\n",
      " #   Column  Non-Null Count  Dtype  \n",
      "---  ------  --------------  -----  \n",
      " 0   f1      107 non-null    float32\n",
      " 1   f2      107 non-null    float32\n",
      " 2   f3      107 non-null    float32\n",
      " 3   f4      107 non-null    float32\n",
      " 4   f5      107 non-null    float32\n",
      " 5   label   107 non-null    float32\n",
      "dtypes: float32(6)\n",
      "memory usage: 2.6 KB\n",
      "None\n",
      "<class 'pandas.core.frame.DataFrame'>\n",
      "RangeIndex: 108 entries, 0 to 107\n",
      "Data columns (total 6 columns):\n",
      " #   Column  Non-Null Count  Dtype  \n",
      "---  ------  --------------  -----  \n",
      " 0   f1      108 non-null    float32\n",
      " 1   f2      108 non-null    float32\n",
      " 2   f3      108 non-null    float32\n",
      " 3   f4      108 non-null    float32\n",
      " 4   f5      108 non-null    float32\n",
      " 5   label   108 non-null    float32\n",
      "dtypes: float32(6)\n",
      "memory usage: 2.7 KB\n",
      "None\n"
     ]
    }
   ],
   "source": [
    "# data loading\n",
    "DATA = os.path.join('c:\\\\Users\\\\tcumi\\\\github_repo\\\\neural-network\\\\', 'dataset')\n",
    "GROUP = 1\n",
    "COLUMNS = ['f1', 'f2', 'f3', 'f4', 'f5', 'label']\n",
    "N_CLASS = 3\n",
    "EPOCHS = 500\n",
    "train_dir, test_dir = \"..//dataset//training_data{}.txt\".format(GROUP), \"..//dataset//testing_data{}.txt\".format(GROUP)\n",
    "train, test = get_data(DATA, train_dir, COLUMNS), get_data(DATA, test_dir, COLUMNS)\n",
    "# shuffle\n",
    "train, test = train.sample(frac=1), test.sample(frac=1)\n",
    "x_train, y_train = train.drop('label', axis=1), train['label']\n",
    "x_test, y_test = test.drop('label', axis=1), test['label']"
   ]
  },
  {
   "cell_type": "code",
   "execution_count": 8,
   "metadata": {},
   "outputs": [],
   "source": [
    "# data scaling and encoding\n",
    "scaler = StandardScaler(['f1', 'f2', 'f3', 'f4', 'f5'])\n",
    "scaler.fit(x_train)\n",
    "x_train = scaler.transform(x_train)\n",
    "x_test = scaler.transform(x_test)\n",
    "y_train = one_hot_encoding(y_train, N_CLASS)\n",
    "y_test = one_hot_encoding(y_test, N_CLASS)"
   ]
  },
  {
   "cell_type": "code",
   "execution_count": 9,
   "metadata": {
    "scrolled": true,
    "tags": [
     "outputPrepend"
    ]
   },
   "outputs": [
    {
     "name": "stderr",
     "output_type": "stream",
     "text": [
      "C:\\Users\\tcumi\\github_repo\\neural-network\\python\\ga.py:201: RuntimeWarning: overflow encountered in add\n",
      "  self.population.sort(key=lambda p: p.fitness + np.random.uniform(-shift, shift, 1), reverse = self.aim)\n"
     ]
    },
    {
     "name": "stdout",
     "output_type": "stream",
     "text": [
      "Checkpoint 100, Accuracy: 0.9259259259259259, Loss: 0.4084543652004666\n",
      "Checkpoint 200, Accuracy: 0.9382716049382716, Loss: 0.3797128465440538\n",
      "Checkpoint 300, Accuracy: 0.9382716049382716, Loss: 0.34427946585196034\n",
      "Checkpoint 400, Accuracy: 0.9444444444444444, Loss: 0.3183686644942672\n",
      "Checkpoint 500, Accuracy: 0.9444444444444444, Loss: 0.28927384482489693\n"
     ]
    }
   ],
   "source": [
    "# learning phase\n",
    "breakpoint = 100\n",
    "checkpoints = list()\n",
    "history = list()\n",
    "for century in range(0, EPOCHS, breakpoint):\n",
    "    sub_history = model.fit(x_train, y_train, breakpoint, verbose = 0)\n",
    "    score = model.evaluate(x_test, y_test, False, verbose = 0)\n",
    "    print('Checkpoint {}, Accuracy: {}, Loss: {}'.format(century+breakpoint, score['accuracy'], score[model.loss_fn]))\n",
    "    score['checkpoint'] = century + breakpoint\n",
    "    checkpoints.append(score)\n",
    "    history.extend(sub_history)\n",
    "    "
   ]
  },
  {
   "cell_type": "code",
   "execution_count": 10,
   "metadata": {},
   "outputs": [],
   "source": [
    "import matplotlib.pyplot as plt\n",
    "\n",
    "def draw_plot(x, y_list, x_label=None, y_label=None, legend=None, title=None):\n",
    "    fig, ax = plt.subplots(figsize=(12,5))\n",
    "    for xi, yi in zip(x, y_list):\n",
    "        ax.plot(xi, yi)\n",
    "    if x_label is not None and y_label is not None:\n",
    "        ax.set(xlabel=x_label, ylabel=y_label, title='{} VS {}'.format(x_label, y_label))\n",
    "    if legend is not None:\n",
    "        ax.legend(legend)\n",
    "    ax.grid()\n",
    "    plt.show()"
   ]
  },
  {
   "cell_type": "code",
   "execution_count": 11,
   "metadata": {},
   "outputs": [
    {
     "name": "stdout",
     "output_type": "stream",
     "text": [
      "[1. 0. 0.] <-> [0.8894848  0.06646072 0.04405437]\n",
      "[1. 0. 0.] <-> [0.83189774 0.14849082 0.01961147]\n",
      "[0. 0. 1.] <-> [0.19576523 0.00205856 0.8021762 ]\n",
      "[0. 0. 1.] <-> [0.5885559  0.02280143 0.3886427 ]\n",
      "[1. 0. 0.] <-> [0.8759909  0.09254659 0.03146243]\n",
      "[1. 0. 0.] <-> [0.8793243  0.08067252 0.04000323]\n",
      "[1. 0. 0.] <-> [0.8657913  0.06003335 0.07417528]\n",
      "[0. 1. 0.] <-> [0.16787376 0.82177687 0.01034937]\n",
      "[0. 0. 1.] <-> [0.19290897 0.00238056 0.8047105 ]\n",
      "[1. 0. 0.] <-> [0.88603985 0.08132957 0.03263059]\n",
      "[1. 0. 0.] <-> [0.76975834 0.02284078 0.20740084]\n",
      "[1. 0. 0.] <-> [0.87552214 0.05790319 0.0665746 ]\n",
      "[1. 0. 0.] <-> [0.8735436  0.05230372 0.0741526 ]\n",
      "[1. 0. 0.] <-> [0.805602   0.02401552 0.17038241]\n",
      "[1. 0. 0.] <-> [0.8949392  0.06751185 0.03754898]\n",
      "[1. 0. 0.] <-> [0.6939682  0.285806   0.02022586]\n",
      "[0. 1. 0.] <-> [0.21899937 0.7687997  0.01220089]\n",
      "[1. 0. 0.] <-> [0.8188375  0.04613819 0.13502431]\n",
      "[1. 0. 0.] <-> [0.8804512  0.08550341 0.03404548]\n",
      "[1. 0. 0.] <-> [0.875358   0.06098228 0.06365969]\n",
      "[1. 0. 0.] <-> [0.8877791  0.0763068  0.03591399]\n",
      "[0. 1. 0.] <-> [0.8713057  0.07915772 0.04953658]\n",
      "[1. 0. 0.] <-> [0.8075089  0.03558786 0.15690324]\n",
      "[1. 0. 0.] <-> [0.882475   0.07405236 0.04347258]\n",
      "[1. 0. 0.] <-> [0.76552147 0.21514575 0.01933272]\n",
      "[0. 1. 0.] <-> [0.5204896  0.46641973 0.01309072]\n",
      "[0. 1. 0.] <-> [0.12241013 0.8722283  0.00536153]\n",
      "[1. 0. 0.] <-> [0.8738767  0.06328706 0.06283624]\n",
      "[0. 0. 1.] <-> [0.11355288 0.00706412 0.879383  ]\n",
      "[0. 1. 0.] <-> [0.16163558 0.83122355 0.0071409 ]\n",
      "[1. 0. 0.] <-> [0.7754753  0.02621183 0.19831291]\n",
      "[0. 1. 0.] <-> [0.88581055 0.08252364 0.03166582]\n",
      "[0. 0. 1.] <-> [0.20259954 0.00212278 0.79527766]\n",
      "[1. 0. 0.] <-> [0.8741558  0.05220995 0.07363424]\n",
      "[1. 0. 0.] <-> [0.8690511  0.08957068 0.0413783 ]\n",
      "[1. 0. 0.] <-> [0.84395957 0.03581521 0.12022525]\n",
      "[1. 0. 0.] <-> [0.81258327 0.03883404 0.1485827 ]\n",
      "[1. 0. 0.] <-> [0.7685794  0.02574681 0.20567378]\n",
      "[1. 0. 0.] <-> [0.8495385  0.12279832 0.02766315]\n",
      "[1. 0. 0.] <-> [0.8346996  0.04900578 0.11629461]\n",
      "[1. 0. 0.] <-> [0.8838566  0.07857548 0.03756794]\n",
      "[1. 0. 0.] <-> [0.89486855 0.05056311 0.05456829]\n",
      "[0. 0. 1.] <-> [0.19049712 0.0020282  0.8074747 ]\n",
      "[1. 0. 0.] <-> [0.8929206  0.06588305 0.04119629]\n",
      "[0. 1. 0.] <-> [0.57085544 0.41272047 0.01642402]\n",
      "[1. 0. 0.] <-> [0.7863625  0.18868531 0.02495214]\n",
      "[1. 0. 0.] <-> [0.86473334 0.11214559 0.02312112]\n",
      "[1. 0. 0.] <-> [0.8947112  0.05479281 0.05049597]\n",
      "[1. 0. 0.] <-> [0.87579995 0.09244023 0.03175985]\n",
      "[0. 0. 1.] <-> [0.21339902 0.00284711 0.7837539 ]\n",
      "[1. 0. 0.] <-> [0.59149206 0.0127021  0.39580584]\n",
      "[1. 0. 0.] <-> [0.55978835 0.4235375  0.01667414]\n",
      "[1. 0. 0.] <-> [0.68569183 0.2939474  0.02036076]\n",
      "[1. 0. 0.] <-> [0.8610322  0.04683467 0.09213312]\n",
      "[1. 0. 0.] <-> [0.75855863 0.02956009 0.21188125]\n",
      "[1. 0. 0.] <-> [0.88032293 0.05758619 0.06209089]\n",
      "[1. 0. 0.] <-> [0.8918866  0.07797419 0.0301393 ]\n",
      "[1. 0. 0.] <-> [0.7088568  0.2701547  0.02098844]\n",
      "[0. 1. 0.] <-> [0.593602   0.39247426 0.0139237 ]\n",
      "[1. 0. 0.] <-> [0.57134426 0.01341805 0.41523767]\n",
      "[1. 0. 0.] <-> [0.8877025  0.0676926  0.04460493]\n",
      "[1. 0. 0.] <-> [0.88850695 0.0870075  0.02448554]\n",
      "[1. 0. 0.] <-> [0.73276997 0.02126804 0.245962  ]\n",
      "[1. 0. 0.] <-> [0.8797076  0.0719551  0.04833736]\n",
      "[1. 0. 0.] <-> [0.80433375 0.02653761 0.16912866]\n",
      "[1. 0. 0.] <-> [0.7853923  0.19368418 0.02092342]\n",
      "[1. 0. 0.] <-> [0.8341716  0.04570892 0.12011941]\n",
      "[1. 0. 0.] <-> [0.8762094  0.07302371 0.0507669 ]\n",
      "[1. 0. 0.] <-> [0.86576694 0.10303812 0.03119498]\n",
      "[1. 0. 0.] <-> [0.83353275 0.03882758 0.12763962]\n",
      "[1. 0. 0.] <-> [0.8836523  0.09560803 0.02073954]\n",
      "[0. 0. 1.] <-> [0.63113433 0.01663821 0.35222742]\n",
      "[1. 0. 0.] <-> [0.8505873  0.05042083 0.0989918 ]\n",
      "[0. 0. 1.] <-> [0.13863812 0.00512524 0.8562367 ]\n",
      "[0. 0. 1.] <-> [0.19446322 0.0029207  0.8026161 ]\n",
      "[0. 1. 0.] <-> [0.1555263  0.8285588  0.01591491]\n",
      "[1. 0. 0.] <-> [0.77512246 0.0238017  0.20107585]\n",
      "[1. 0. 0.] <-> [0.8819891  0.06304991 0.05496106]\n",
      "[1. 0. 0.] <-> [0.7831635  0.02293552 0.19390099]\n",
      "[1. 0. 0.] <-> [0.81795377 0.04502548 0.13702083]\n",
      "[1. 0. 0.] <-> [0.8295829  0.1473536  0.02306349]\n",
      "[1. 0. 0.] <-> [0.7114313  0.02873863 0.25982997]\n",
      "[1. 0. 0.] <-> [0.87030643 0.05108798 0.07860554]\n",
      "[1. 0. 0.] <-> [0.88948417 0.06737178 0.04314408]\n",
      "[0. 1. 0.] <-> [0.5802458  0.39699927 0.02275494]\n",
      "[1. 0. 0.] <-> [0.8867321  0.0638227  0.04944515]\n",
      "[1. 0. 0.] <-> [0.8880795  0.06997088 0.04194963]\n",
      "[1. 0. 0.] <-> [0.85866433 0.06898407 0.07235157]\n",
      "[1. 0. 0.] <-> [0.8745319  0.04393698 0.0815312 ]\n",
      "[1. 0. 0.] <-> [0.8823256  0.04498651 0.07268793]\n",
      "[1. 0. 0.] <-> [0.84548295 0.06011819 0.09439882]\n",
      "[1. 0. 0.] <-> [0.876285   0.08907185 0.03464317]\n",
      "[0. 1. 0.] <-> [0.36666322 0.616207   0.01712979]\n",
      "[1. 0. 0.] <-> [0.6598758  0.01497378 0.32515034]\n",
      "[0. 1. 0.] <-> [0.5749058  0.40666723 0.01842697]\n",
      "[1. 0. 0.] <-> [0.8839365  0.08527666 0.03078685]\n",
      "[0. 1. 0.] <-> [0.14435679 0.8458906  0.00975268]\n",
      "[1. 0. 0.] <-> [0.84518    0.03945235 0.11536766]\n",
      "[1. 0. 0.] <-> [0.86358815 0.05880403 0.07760776]\n",
      "[0. 0. 1.] <-> [0.45436114 0.00673461 0.53890425]\n",
      "[1. 0. 0.] <-> [0.86295736 0.10705178 0.02999082]\n",
      "[1. 0. 0.] <-> [0.8758025  0.06031145 0.06388599]\n",
      "[0. 0. 1.] <-> [0.19056113 0.00595527 0.8034836 ]\n",
      "[0. 0. 1.] <-> [0.19314969 0.00204954 0.80480075]\n",
      "[1. 0. 0.] <-> [0.875901   0.04514513 0.07895395]\n",
      "[0. 1. 0.] <-> [0.16701688 0.7893904  0.04359268]\n",
      "[1. 0. 0.] <-> [0.748633   0.02256691 0.22880004]\n",
      "[1. 0. 0.] <-> [0.8306857  0.02810159 0.14121269]\n",
      "{'accuracy': 0.9444444444444444, 'mean_square_error': 0.13699922834695114, 'categorical_crossentropy': 0.28927384482489693, 'precision': 0.9166666666666666, 'recall': 0.9166666666666666, 'f1': 0.9166666666666666, 'essential_metrics': {0: {'tp_hit': 80, 'fp_hit': 9, 'tn_hit': 19, 'fn_hit': 0}, 1: {'tp_hit': 8, 'fp_hit': 0, 'tn_hit': 93, 'fn_hit': 7}, 2: {'tp_hit': 11, 'fp_hit': 0, 'tn_hit': 95, 'fn_hit': 2}}}\n"
     ]
    }
   ],
   "source": [
    "# recall phase\n",
    "score = model.evaluate(x_test, y_test, False)\n",
    "print(score)"
   ]
  },
  {
   "cell_type": "code",
   "execution_count": 12,
   "metadata": {},
   "outputs": [],
   "source": [
    "# Testing Performance"
   ]
  },
  {
   "cell_type": "code",
   "execution_count": 13,
   "metadata": {},
   "outputs": [
    {
     "data": {
      "image/png": "[encoded data removed]",
      "text/plain": [
       "<Figure size 864x360 with 1 Axes>"
      ]
     },
     "metadata": {
      "needs_background": "light"
     },
     "output_type": "display_data"
    },
    {
     "data": {
      "image/png": "[encoded data removed]",
      "text/plain": [
       "<Figure size 864x360 with 1 Axes>"
      ]
     },
     "metadata": {
      "needs_background": "light"
     },
     "output_type": "display_data"
    }
   ],
   "source": [
    "draw_plot(x = [[i for i in range(len(history))], [(i+1)*breakpoint for i in range(len(checkpoints))]], y_list = [history, [ ckp[model.loss_fn] for ckp in checkpoints ]], x_label = 'Epochs', \\\n",
    "    y_label = model.loss_fn, legend=['train', 'test'])\n",
    "acc = [ ckp['accuracy'] for ckp in checkpoints ]\n",
    "draw_plot(x = [[(i+1)*breakpoint for i in range(len(checkpoints))]], y_list = [acc], x_label = 'Checkpoints', \\\n",
    "    y_label = 'accuracy')"
   ]
  },
  {
   "cell_type": "code",
   "execution_count": 14,
   "metadata": {
    "scrolled": false
   },
   "outputs": [
    {
     "name": "stdout",
     "output_type": "stream",
     "text": [
      "{'accuracy': 0.9259259259259259, 'mean_square_error': 0.2080615721259777, 'categorical_crossentropy': 0.4084543652004666, 'precision': 0.8888888888888888, 'recall': 0.8888888888888888, 'f1': 0.8888888888888888, 'essential_metrics': {0: {'tp_hit': 80, 'fp_hit': 12, 'tn_hit': 16, 'fn_hit': 0}, 1: {'tp_hit': 6, 'fp_hit': 0, 'tn_hit': 93, 'fn_hit': 9}, 2: {'tp_hit': 10, 'fp_hit': 0, 'tn_hit': 95, 'fn_hit': 3}}, 'checkpoint': 100} \n",
      "\n",
      "\n",
      "{'accuracy': 0.9382716049382716, 'mean_square_error': 0.19036100766164316, 'categorical_crossentropy': 0.3797128465440538, 'precision': 0.9074074074074074, 'recall': 0.9074074074074074, 'f1': 0.9074074074074074, 'essential_metrics': {0: {'tp_hit': 80, 'fp_hit': 10, 'tn_hit': 18, 'fn_hit': 0}, 1: {'tp_hit': 7, 'fp_hit': 0, 'tn_hit': 93, 'fn_hit': 8}, 2: {'tp_hit': 11, 'fp_hit': 0, 'tn_hit': 95, 'fn_hit': 2}}, 'checkpoint': 200} \n",
      "\n",
      "\n",
      "{'accuracy': 0.9382716049382716, 'mean_square_error': 0.17024066370741478, 'categorical_crossentropy': 0.34427946585196034, 'precision': 0.9074074074074074, 'recall': 0.9074074074074074, 'f1': 0.9074074074074074, 'essential_metrics': {0: {'tp_hit': 80, 'fp_hit': 10, 'tn_hit': 18, 'fn_hit': 0}, 1: {'tp_hit': 7, 'fp_hit': 0, 'tn_hit': 93, 'fn_hit': 8}, 2: {'tp_hit': 11, 'fp_hit': 0, 'tn_hit': 95, 'fn_hit': 2}}, 'checkpoint': 300} \n",
      "\n",
      "\n",
      "{'accuracy': 0.9444444444444444, 'mean_square_error': 0.15350258861605123, 'categorical_crossentropy': 0.3183686644942672, 'precision': 0.9166666666666666, 'recall': 0.9166666666666666, 'f1': 0.9166666666666666, 'essential_metrics': {0: {'tp_hit': 80, 'fp_hit': 9, 'tn_hit': 19, 'fn_hit': 0}, 1: {'tp_hit': 8, 'fp_hit': 0, 'tn_hit': 93, 'fn_hit': 7}, 2: {'tp_hit': 11, 'fp_hit': 0, 'tn_hit': 95, 'fn_hit': 2}}, 'checkpoint': 400} \n",
      "\n",
      "\n",
      "{'accuracy': 0.9444444444444444, 'mean_square_error': 0.13699922834695114, 'categorical_crossentropy': 0.28927384482489693, 'precision': 0.9166666666666666, 'recall': 0.9166666666666666, 'f1': 0.9166666666666666, 'essential_metrics': {0: {'tp_hit': 80, 'fp_hit': 9, 'tn_hit': 19, 'fn_hit': 0}, 1: {'tp_hit': 8, 'fp_hit': 0, 'tn_hit': 93, 'fn_hit': 7}, 2: {'tp_hit': 11, 'fp_hit': 0, 'tn_hit': 95, 'fn_hit': 2}}, 'checkpoint': 500} \n",
      "\n",
      "\n"
     ]
    }
   ],
   "source": [
    "for checkpoint in checkpoints:\n",
    "    print(checkpoint, '\\n\\n')"
   ]
  },
  {
   "cell_type": "code",
   "execution_count": 15,
   "metadata": {},
   "outputs": [
    {
     "name": "stdout",
     "output_type": "stream",
     "text": [
      "Layer 1\n",
      "Neuron 0: weights:\n",
      "[ 1.2554406 -1.6895242 -2.6137087  1.6479232  0.1999829]\n",
      " bias: -2.3938469886779785\n",
      "\n",
      "Neuron 1: weights:\n",
      "[-0.09382495 -1.5204006   1.339635   -0.6147446   0.30703995]\n",
      " bias: 2.684993028640747\n",
      "\n",
      "Neuron 2: weights:\n",
      "[-0.9218019  2.6286492 -1.9415998 -2.630183  -1.270895 ]\n",
      " bias: -0.3417523503303528\n",
      "\n",
      "Neuron 3: weights:\n",
      "[-1.7696226   2.3521612   0.04329282  0.22327536  0.6912432 ]\n",
      " bias: -1.9183998107910156\n",
      "\n",
      "$\n",
      "Layer 2\n",
      "Neuron 0: weights:\n",
      "[-1.0345533  0.4437278 -0.7260291 -1.8307545]\n",
      " bias: 0.9588677287101746\n",
      "\n",
      "Neuron 1: weights:\n",
      "[-2.8334494  -1.4590672  -0.46405226  2.5457404 ]\n",
      " bias: 0.00464555062353611\n",
      "\n",
      "Neuron 2: weights:\n",
      "[ 2.5511246   0.51073056 -3.         -0.35089442]\n",
      " bias: -1.2607386112213135\n",
      "\n",
      "$\n",
      "\n"
     ]
    }
   ],
   "source": [
    "print(model)"
   ]
  }
 ],
 "metadata": {
  "kernelspec": {
   "display_name": "Python 3",
   "language": "python",
   "name": "python3"
  },
  "language_info": {
   "codemirror_mode": {
    "name": "ipython",
    "version": 3
   },
   "file_extension": ".py",
   "mimetype": "text/x-python",
   "name": "python",
   "nbconvert_exporter": "python",
   "pygments_lexer": "ipython3",
   "version": "3.6.10"
  }
 },
 "nbformat": 4,
 "nbformat_minor": 2
}
