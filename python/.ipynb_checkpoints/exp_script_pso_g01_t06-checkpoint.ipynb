{
 "cells": [
  {
   "cell_type": "code",
   "execution_count": 1,
   "metadata": {},
   "outputs": [],
   "source": [
    "# dependency\n",
    "import numpy as np\n",
    "import pandas as pd\n",
    "import copy\n",
    "import math\n",
    "import sys\n",
    "import os\n",
    "from activations import relu, leaky_relu, sigmoid, tanh, softmax, d_sigmoid, d_relu\n",
    "from initializers import glorot_uniform, random_normal, random_uniform\n",
    "from regularizers import l1_regularizer, l2_regularizer\n",
    "from utility import trim_tail, multiply, subtract, get_nparams, one_hot_encoding, get_data\n",
    "from metrics import MSE, CCE, ACC, PRECISION, RECALL, essential_metrics, wondering_penalty, close_gap_penalty\n",
    "from pso import PSO\n",
    "from ga import GA\n",
    "from nn import Network\n",
    "from layer import DenseLayer\n",
    "from scalers import MinMaxScaler, StandardScaler"
   ]
  },
  {
   "cell_type": "code",
   "execution_count": 2,
   "metadata": {},
   "outputs": [],
   "source": [
    "# reference\n",
    "metrics_fn_dict = dict()\n",
    "metrics_fn_dict['accuracy'] = ACC\n",
    "metrics_fn_dict['categorical_crossentropy'] = CCE\n",
    "metrics_fn_dict['mean_square_error'] = MSE\n",
    "metrics_fn_dict['precision'] = PRECISION\n",
    "metrics_fn_dict['recall'] = RECALL\n",
    "metrics_fn_dict['essential_metrics'] = essential_metrics"
   ]
  },
  {
   "cell_type": "code",
   "execution_count": 3,
   "metadata": {},
   "outputs": [],
   "source": [
    "# model\n",
    "model = Network(5, lr = None)\n",
    "model.add_layer(DenseLayer(1, 4, True, afn=sigmoid, dafn=None, rfn=None))\n",
    "model.add_layer(DenseLayer(2, 3, True, afn=softmax, dafn=None, rfn=None))"
   ]
  },
  {
   "cell_type": "code",
   "execution_count": 4,
   "metadata": {},
   "outputs": [
    {
     "name": "stdout",
     "output_type": "stream",
     "text": [
      "see one see two 2.0 0.5\n"
     ]
    }
   ],
   "source": [
    "pso = PSO(dict(m = 100,\n",
    "    weight_constraint = [-3, 3], \n",
    "    velocity_constraint = [-0.1, 0.1],\n",
    "    c1 = [0.5, 2.0],\n",
    "    c2 = [0.5, 2.0],\n",
    "    w = [0.5, 1.6],\n",
    "    w_decay = 0.95,\n",
    "    scale_hyperparameter = False,\n",
    "    regularizer = None,\n",
    "    mask = True))"
   ]
  },
  {
   "cell_type": "code",
   "execution_count": 5,
   "metadata": {},
   "outputs": [
    {
     "name": "stdout",
     "output_type": "stream",
     "text": [
      "building layer 1 with 5\n",
      "24\n",
      "building layer 2 with 4\n",
      "15\n"
     ]
    }
   ],
   "source": [
    "model.compile(loss_fn = 'categorical_crossentropy', optimizer = pso, \\\n",
    "    metrics = ['accuracy', 'mean_square_error', 'categorical_crossentropy'])"
   ]
  },
  {
   "cell_type": "code",
   "execution_count": 6,
   "metadata": {},
   "outputs": [
    {
     "name": "stdout",
     "output_type": "stream",
     "text": [
      "<class 'pandas.core.frame.DataFrame'>\n",
      "RangeIndex: 107 entries, 0 to 106\n",
      "Data columns (total 6 columns):\n",
      " #   Column  Non-Null Count  Dtype  \n",
      "---  ------  --------------  -----  \n",
      " 0   f1      107 non-null    float32\n",
      " 1   f2      107 non-null    float32\n",
      " 2   f3      107 non-null    float32\n",
      " 3   f4      107 non-null    float32\n",
      " 4   f5      107 non-null    float32\n",
      " 5   label   107 non-null    float32\n",
      "dtypes: float32(6)\n",
      "memory usage: 2.6 KB\n",
      "None\n",
      "<class 'pandas.core.frame.DataFrame'>\n",
      "RangeIndex: 108 entries, 0 to 107\n",
      "Data columns (total 6 columns):\n",
      " #   Column  Non-Null Count  Dtype  \n",
      "---  ------  --------------  -----  \n",
      " 0   f1      108 non-null    float32\n",
      " 1   f2      108 non-null    float32\n",
      " 2   f3      108 non-null    float32\n",
      " 3   f4      108 non-null    float32\n",
      " 4   f5      108 non-null    float32\n",
      " 5   label   108 non-null    float32\n",
      "dtypes: float32(6)\n",
      "memory usage: 2.7 KB\n",
      "None\n"
     ]
    }
   ],
   "source": [
    "# data loading\n",
    "DATA = os.path.join('c:\\\\Users\\\\AI-lab\\\\github_repo\\\\neural-network\\\\', 'dataset')\n",
    "GROUP = 1\n",
    "COLUMNS = ['f1', 'f2', 'f3', 'f4', 'f5', 'label']\n",
    "N_CLASS = 3\n",
    "EPOCHS = 200\n",
    "train_dir, test_dir = \"..//dataset//training_data{}.txt\".format(GROUP), \"..//dataset//testing_data{}.txt\".format(GROUP)\n",
    "train, test = get_data(DATA, train_dir, COLUMNS), get_data(DATA, test_dir, COLUMNS)\n",
    "# shuffle\n",
    "train, test = train.sample(frac=1), test.sample(frac=1)\n",
    "x_train, y_train = train.drop('label', axis=1), train['label']\n",
    "x_test, y_test = test.drop('label', axis=1), test['label']"
   ]
  },
  {
   "cell_type": "code",
   "execution_count": 7,
   "metadata": {},
   "outputs": [],
   "source": [
    "# data scaling and encoding\n",
    "scaler = StandardScaler(['f1', 'f2', 'f3', 'f4', 'f5'])\n",
    "scaler.fit(x_train)\n",
    "x_train = scaler.transform(x_train)\n",
    "x_test = scaler.transform(x_test)\n",
    "y_train = one_hot_encoding(y_train, N_CLASS)\n",
    "y_test = one_hot_encoding(y_test, N_CLASS)"
   ]
  },
  {
   "cell_type": "code",
   "execution_count": 8,
   "metadata": {
    "tags": [
     "outputPrepend"
    ]
   },
   "outputs": [
    {
     "name": "stdout",
     "output_type": "stream",
     "text": [
      "Checkpoint 10, Accuracy: 0.9135802469135802, Loss: 0.49722021597403065\n",
      "Checkpoint 20, Accuracy: 0.9197530864197531, Loss: 0.4535367753770616\n",
      "Checkpoint 30, Accuracy: 0.9382716049382716, Loss: 0.4513832021642614\n",
      "Checkpoint 40, Accuracy: 0.9444444444444444, Loss: 0.2954532128793222\n",
      "Checkpoint 50, Accuracy: 0.9444444444444444, Loss: 0.28276242150200737\n",
      "Checkpoint 60, Accuracy: 0.9444444444444444, Loss: 0.28276242150200737\n",
      "Checkpoint 70, Accuracy: 0.9382716049382716, Loss: 0.282340579562717\n",
      "Checkpoint 80, Accuracy: 0.9814814814814815, Loss: 0.23903060842443397\n",
      "Checkpoint 90, Accuracy: 0.9753086419753086, Loss: 0.21545592060795538\n",
      "Checkpoint 100, Accuracy: 0.9506172839506173, Loss: 0.20150368301956742\n",
      "Checkpoint 110, Accuracy: 0.9753086419753086, Loss: 0.16985691918267143\n",
      "Checkpoint 120, Accuracy: 0.9753086419753086, Loss: 0.146183208183006\n",
      "Checkpoint 130, Accuracy: 0.9691358024691358, Loss: 0.13518285751342773\n",
      "Checkpoint 140, Accuracy: 0.9691358024691358, Loss: 0.12765623022008826\n",
      "Checkpoint 150, Accuracy: 0.9691358024691358, Loss: 0.12243964936998156\n",
      "Checkpoint 160, Accuracy: 0.9691358024691358, Loss: 0.11688622721919308\n",
      "Checkpoint 170, Accuracy: 0.9691358024691358, Loss: 0.10575335997122305\n",
      "Checkpoint 180, Accuracy: 0.9691358024691358, Loss: 0.10427154435051812\n",
      "Checkpoint 190, Accuracy: 0.9691358024691358, Loss: 0.10920992604008427\n",
      "Checkpoint 200, Accuracy: 0.9691358024691358, Loss: 0.10879873346399378\n"
     ]
    }
   ],
   "source": [
    "# learning phase\n",
    "breakpoint = 10\n",
    "checkpoints = list()\n",
    "history = list()\n",
    "for century in range(0, EPOCHS, breakpoint):\n",
    "    sub_history = model.fit(x_train, y_train, breakpoint, verbose = 0)\n",
    "    score = model.evaluate(x_test, y_test, False, verbose = 0)\n",
    "    print('Checkpoint {}, Accuracy: {}, Loss: {}'.format(century+breakpoint, score['accuracy'], score[model.loss_fn]))\n",
    "    score['checkpoint'] = century + breakpoint\n",
    "    checkpoints.append(score)\n",
    "    history.extend(sub_history)\n",
    "    itr = century + breakpoint\n",
    "    model.optimizer.c1 = np.max([model.optimizer.C1[1] - ((model.optimizer.C1[1] - model.optimizer.C1[0]) * itr / EPOCHS), model.optimizer.C1[0]])\n",
    "    model.optimizer.c2 = np.min([model.optimizer.C2[0] + ((model.optimizer.C2[1] - model.optimizer.C2[0]) * itr / EPOCHS), model.optimizer.C2[1]])\n",
    "    model.optimizer.w = np.max([model.optimizer.w * model.optimizer.W_Decay, model.optimizer.W[0]])"
   ]
  },
  {
   "cell_type": "code",
   "execution_count": 9,
   "metadata": {},
   "outputs": [],
   "source": [
    "import matplotlib.pyplot as plt\n",
    "\n",
    "def draw_plot(x, y_list, x_label=None, y_label=None, legend=None, title=None):\n",
    "    fig, ax = plt.subplots(figsize=(12,5))\n",
    "    for xi, yi in zip(x, y_list):\n",
    "        ax.plot(xi, yi)\n",
    "    if x_label is not None and y_label is not None:\n",
    "        ax.set(xlabel=x_label, ylabel=y_label, title='{} VS {}'.format(x_label, y_label))\n",
    "    if legend is not None:\n",
    "        ax.legend(legend)\n",
    "    ax.grid()\n",
    "    plt.show()"
   ]
  },
  {
   "cell_type": "code",
   "execution_count": 10,
   "metadata": {},
   "outputs": [],
   "source": [
    "train_acc = [h['accuracy'] for h in history]\n",
    "train_mse = [h['mean_square_error'] for h in history]\n",
    "train_cce = [h['categorical_crossentropy'] for h in history]"
   ]
  },
  {
   "cell_type": "code",
   "execution_count": 11,
   "metadata": {},
   "outputs": [
    {
     "data": {
      "image/png": "[encoded data removed]",
      "text/plain": [
       "<Figure size 864x360 with 1 Axes>"
      ]
     },
     "metadata": {
      "needs_background": "light"
     },
     "output_type": "display_data"
    },
    {
     "data": {
      "image/png": "[encoded data removed]",
      "text/plain": [
       "<Figure size 864x360 with 1 Axes>"
      ]
     },
     "metadata": {
      "needs_background": "light"
     },
     "output_type": "display_data"
    }
   ],
   "source": [
    "draw_plot(x = [[i for i in range(len(history))], [(i+1)*breakpoint for i in range(len(checkpoints))]], y_list = [train_cce, [ ckp[model.loss_fn] for ckp in checkpoints ]], x_label = 'Epochs', \\\n",
    "    y_label = model.loss_fn, legend=['train', 'test'])\n",
    "acc = [ ckp['accuracy'] for ckp in checkpoints ]\n",
    "draw_plot(x = [[i for i in range(len(history))], [(i+1)*breakpoint for i in range(len(checkpoints))]], y_list = [train_acc, acc], x_label = 'Checkpoints', \\\n",
    "    y_label = 'accuracy', legend=['train', 'test'])"
   ]
  },
  {
   "cell_type": "code",
   "execution_count": 12,
   "metadata": {},
   "outputs": [
    {
     "name": "stdout",
     "output_type": "stream",
     "text": [
      "[0. 0. 1.] <-> [1.2468109e-02 3.3102435e-05 9.8749882e-01]\n",
      "[1. 0. 0.] <-> [9.9681526e-01 2.5531040e-03 6.3166220e-04]\n",
      "[1. 0. 0.] <-> [9.9007016e-01 9.2628915e-03 6.6701591e-04]\n",
      "[1. 0. 0.] <-> [0.9924999  0.00246325 0.00503696]\n",
      "[1. 0. 0.] <-> [0.9330678 0.0020844 0.0648478]\n",
      "[1. 0. 0.] <-> [9.9550015e-01 3.6322437e-03 8.6763629e-04]\n",
      "[1. 0. 0.] <-> [0.99384093 0.00199284 0.0041662 ]\n",
      "[1. 0. 0.] <-> [9.9602795e-01 3.4204926e-03 5.5156089e-04]\n",
      "[1. 0. 0.] <-> [0.9894944  0.00216253 0.00834307]\n",
      "[0. 0. 1.] <-> [1.1475519e-02 3.0510000e-05 9.8849398e-01]\n",
      "[1. 0. 0.] <-> [0.9497107  0.00210154 0.04818778]\n",
      "[1. 0. 0.] <-> [0.9919349  0.00213925 0.00592581]\n",
      "[1. 0. 0.] <-> [0.99562484 0.00215414 0.00222101]\n",
      "[1. 0. 0.] <-> [0.80283564 0.0017925  0.19537188]\n",
      "[1. 0. 0.] <-> [9.8735368e-01 1.2118139e-02 5.2823930e-04]\n",
      "[1. 0. 0.] <-> [9.9648845e-01 2.9501275e-03 5.6141731e-04]\n",
      "[1. 0. 0.] <-> [5.4465257e-02 1.3832140e-04 9.4539636e-01]\n",
      "[1. 0. 0.] <-> [9.9617982e-01 3.1045766e-03 7.1562355e-04]\n",
      "[0. 0. 1.] <-> [1.1501246e-02 3.0578587e-05 9.8846811e-01]\n",
      "[1. 0. 0.] <-> [9.9673945e-01 2.3461271e-03 9.1446715e-04]\n",
      "[1. 0. 0.] <-> [9.8916721e-01 1.0311797e-02 5.2099029e-04]\n",
      "[1. 0. 0.] <-> [0.28000483 0.00076259 0.71923256]\n",
      "[1. 0. 0.] <-> [0.99709225 0.00185705 0.00105072]\n",
      "[1. 0. 0.] <-> [9.5969331e-01 3.9832104e-02 4.7469267e-04]\n",
      "[0. 1. 0.] <-> [2.9322686e-02 9.7066408e-01 1.3221660e-05]\n",
      "[1. 0. 0.] <-> [9.9482334e-01 4.4653434e-03 7.1128242e-04]\n",
      "[1. 0. 0.] <-> [0.9967693  0.00212474 0.00110606]\n",
      "[0. 1. 0.] <-> [4.3602079e-02 9.5637804e-01 1.9854642e-05]\n",
      "[1. 0. 0.] <-> [0.99643326 0.00196434 0.00160241]\n",
      "[0. 0. 1.] <-> [1.9778895e-01 4.9660960e-04 8.0171442e-01]\n",
      "[1. 0. 0.] <-> [9.7813749e-01 2.1333000e-02 5.2954897e-04]\n",
      "[1. 0. 0.] <-> [9.8417664e-01 1.5152220e-02 6.7113788e-04]\n",
      "[1. 0. 0.] <-> [0.9890576  0.00206472 0.00887767]\n",
      "[0. 1. 0.] <-> [3.1240863e-01 6.8744779e-01 1.4361431e-04]\n",
      "[1. 0. 0.] <-> [0.9823251  0.01644619 0.0012287 ]\n",
      "[0. 0. 1.] <-> [0.9119185  0.00184257 0.08623888]\n",
      "[0. 0. 1.] <-> [1.1474530e-02 3.0507379e-05 9.8849493e-01]\n",
      "[1. 0. 0.] <-> [0.85396767 0.0019864  0.1440459 ]\n",
      "[1. 0. 0.] <-> [0.99078184 0.00237888 0.00683933]\n",
      "[0. 0. 1.] <-> [1.1474573e-02 3.0507526e-05 9.8849493e-01]\n",
      "[1. 0. 0.] <-> [9.6142948e-01 3.8021699e-02 5.4871157e-04]\n",
      "[1. 0. 0.] <-> [0.972571   0.00206654 0.02536249]\n",
      "[0. 0. 1.] <-> [1.2616990e-02 3.3642304e-05 9.8734933e-01]\n",
      "[1. 0. 0.] <-> [0.99503446 0.00264609 0.00231943]\n",
      "[0. 1. 0.] <-> [2.0789072e-02 9.7920173e-01 9.2392738e-06]\n",
      "[1. 0. 0.] <-> [0.9922943  0.00198819 0.00571745]\n",
      "[0. 1. 0.] <-> [2.1555953e-02 9.7843450e-01 9.5913047e-06]\n",
      "[1. 0. 0.] <-> [0.9847031  0.00234352 0.01295345]\n",
      "[1. 0. 0.] <-> [0.9905324  0.00212636 0.00734115]\n",
      "[0. 1. 0.] <-> [2.0764228e-02 9.7922659e-01 9.2271976e-06]\n",
      "[1. 0. 0.] <-> [9.9611205e-01 2.9854218e-03 9.0261357e-04]\n",
      "[1. 0. 0.] <-> [9.9619484e-01 3.2386959e-03 5.6645309e-04]\n",
      "[1. 0. 0.] <-> [9.8421347e-01 1.5228569e-02 5.5793207e-04]\n",
      "[1. 0. 0.] <-> [0.9947312  0.00275885 0.00250987]\n",
      "[0. 0. 1.] <-> [1.1474573e-02 3.0507497e-05 9.8849493e-01]\n",
      "[1. 0. 0.] <-> [0.99508923 0.00328852 0.00162225]\n",
      "[1. 0. 0.] <-> [0.9901636  0.00201205 0.00782432]\n",
      "[1. 0. 0.] <-> [9.9616194e-01 3.2518378e-03 5.8631465e-04]\n",
      "[1. 0. 0.] <-> [0.96710515 0.00196251 0.03093235]\n",
      "[1. 0. 0.] <-> [0.9970565  0.00193834 0.00100522]\n",
      "[1. 0. 0.] <-> [0.99515295 0.00336964 0.00147746]\n",
      "[1. 0. 0.] <-> [0.9946621  0.00227165 0.0030663 ]\n",
      "[1. 0. 0.] <-> [0.9967378  0.00206328 0.00119887]\n",
      "[1. 0. 0.] <-> [9.9529451e-01 4.1696769e-03 5.3581205e-04]\n",
      "[1. 0. 0.] <-> [3.3929387e-01 6.6054344e-01 1.6268260e-04]\n",
      "[1. 0. 0.] <-> [9.9594891e-01 3.4702723e-03 5.8082934e-04]\n",
      "[1. 0. 0.] <-> [0.9614653  0.00206321 0.03647149]\n",
      "[0. 0. 1.] <-> [1.1531046e-02 3.0656207e-05 9.8843831e-01]\n",
      "[1. 0. 0.] <-> [0.99396473 0.00431941 0.00171581]\n",
      "[1. 0. 0.] <-> [9.9355173e-01 5.9244852e-03 5.2375294e-04]\n",
      "[0. 0. 1.] <-> [1.1618438e-02 3.0886928e-05 9.8835075e-01]\n",
      "[1. 0. 0.] <-> [9.9687177e-01 2.4166640e-03 7.1155169e-04]\n",
      "[1. 0. 0.] <-> [9.9678779e-01 2.5364957e-03 6.7570637e-04]\n",
      "[0. 1. 0.] <-> [2.3564687e-01 7.6423854e-01 1.1463993e-04]\n",
      "[1. 0. 0.] <-> [9.9697626e-01 2.3384476e-03 6.8533426e-04]\n",
      "[1. 0. 0.] <-> [9.0141255e-01 9.8109737e-02 4.7777395e-04]\n",
      "[0. 1. 0.] <-> [3.6119722e-02 9.6386379e-01 1.6400807e-05]\n",
      "[1. 0. 0.] <-> [9.9701524e-01 2.4404707e-03 5.4437283e-04]\n",
      "[0. 1. 0.] <-> [1.4623730e-01 8.5369605e-01 6.6646397e-05]\n",
      "[1. 0. 0.] <-> [0.99683905 0.00186013 0.00130084]\n",
      "[1. 0. 0.] <-> [0.98745185 0.0021858  0.01036234]\n",
      "[1. 0. 0.] <-> [9.9675602e-01 2.5466227e-03 6.9734821e-04]\n",
      "[1. 0. 0.] <-> [9.947094e-01 4.355685e-03 9.350451e-04]\n",
      "[0. 1. 0.] <-> [1.2689798e-01 8.7304163e-01 6.0505889e-05]\n",
      "[1. 0. 0.] <-> [0.99429154 0.00298158 0.00272683]\n",
      "[0. 0. 1.] <-> [1.14756115e-02 3.05102603e-05 9.88493860e-01]\n",
      "[0. 0. 1.] <-> [1.1474530e-02 3.0507379e-05 9.8849493e-01]\n",
      "[1. 0. 0.] <-> [9.9483204e-01 4.6474147e-03 5.2048772e-04]\n",
      "[1. 0. 0.] <-> [9.8584586e-01 1.3525022e-02 6.2910182e-04]\n",
      "[0. 1. 0.] <-> [2.1085108e-02 9.7890556e-01 9.3774870e-06]\n",
      "[1. 0. 0.] <-> [0.996135   0.00243525 0.00142975]\n",
      "[1. 0. 0.] <-> [9.9701715e-01 2.2572763e-03 7.2556152e-04]\n",
      "[1. 0. 0.] <-> [9.961158e-01 3.095644e-03 7.886273e-04]\n",
      "[0. 1. 0.] <-> [2.2450602e-02 9.7753942e-01 1.0010641e-05]\n",
      "[1. 0. 0.] <-> [9.9274242e-01 6.6407556e-03 6.1684934e-04]\n",
      "[0. 1. 0.] <-> [3.0174900e-02 9.6981156e-01 1.3504382e-05]\n",
      "[1. 0. 0.] <-> [0.99653494 0.00193827 0.00152672]\n",
      "[1. 0. 0.] <-> [0.99652016 0.00200371 0.00147611]\n",
      "[0. 1. 0.] <-> [7.1348488e-01 2.8616032e-01 3.5473809e-04]\n",
      "[1. 0. 0.] <-> [9.9684274e-01 2.4814513e-03 6.7582092e-04]\n",
      "[1. 0. 0.] <-> [0.99689996 0.00208024 0.00101972]\n",
      "[1. 0. 0.] <-> [9.9670488e-01 2.4563451e-03 8.3884783e-04]\n",
      "[1. 0. 0.] <-> [0.99600035 0.0021941  0.00180554]\n",
      "[1. 0. 0.] <-> [0.9964826  0.00242118 0.00109616]\n",
      "[1. 0. 0.] <-> [0.9811917  0.00198864 0.0168197 ]\n",
      "[0. 1. 0.] <-> [2.0780718e-02 9.7921008e-01 9.2348509e-06]\n",
      "[1. 0. 0.] <-> [9.9303585e-01 6.4235441e-03 5.4059795e-04]\n",
      "[1. 0. 0.] <-> [0.9943374  0.00199968 0.00366296]\n",
      "{'accuracy': 0.9691358024691358, 'mean_square_error': 0.06510855922781039, 'categorical_crossentropy': 0.10879873346399378, 'essential_metrics': {0: {'tp_hit': 77, 'fp_hit': 2, 'tn_hit': 26, 'fn_hit': 3}, 1: {'tp_hit': 14, 'fp_hit': 1, 'tn_hit': 92, 'fn_hit': 1}, 2: {'tp_hit': 12, 'fp_hit': 2, 'tn_hit': 93, 'fn_hit': 1}}}\n"
     ]
    }
   ],
   "source": [
    "# recall phase\n",
    "score = model.evaluate(x_test, y_test, False)\n",
    "print(score)"
   ]
  },
  {
   "cell_type": "code",
   "execution_count": 13,
   "metadata": {},
   "outputs": [
    {
     "name": "stdout",
     "output_type": "stream",
     "text": [
      "{'accuracy': 0.9135802469135802, 'mean_square_error': 0.2806360882742134, 'categorical_crossentropy': 0.49722021597403065, 'essential_metrics': {0: {'tp_hit': 69, 'fp_hit': 3, 'tn_hit': 25, 'fn_hit': 11}, 1: {'tp_hit': 15, 'fp_hit': 10, 'tn_hit': 83, 'fn_hit': 0}, 2: {'tp_hit': 10, 'fp_hit': 1, 'tn_hit': 94, 'fn_hit': 3}}, 'checkpoint': 10} \n",
      "\n",
      "\n",
      "{'accuracy': 0.9197530864197531, 'mean_square_error': 0.2481365630408814, 'categorical_crossentropy': 0.4535367753770616, 'essential_metrics': {0: {'tp_hit': 70, 'fp_hit': 3, 'tn_hit': 25, 'fn_hit': 10}, 1: {'tp_hit': 15, 'fp_hit': 6, 'tn_hit': 87, 'fn_hit': 0}, 2: {'tp_hit': 10, 'fp_hit': 4, 'tn_hit': 91, 'fn_hit': 3}}, 'checkpoint': 20} \n",
      "\n",
      "\n",
      "{'accuracy': 0.9382716049382716, 'mean_square_error': 0.24678237658268184, 'categorical_crossentropy': 0.4513832021642614, 'essential_metrics': {0: {'tp_hit': 72, 'fp_hit': 2, 'tn_hit': 26, 'fn_hit': 8}, 1: {'tp_hit': 15, 'fp_hit': 3, 'tn_hit': 90, 'fn_hit': 0}, 2: {'tp_hit': 11, 'fp_hit': 5, 'tn_hit': 90, 'fn_hit': 2}}, 'checkpoint': 30} \n",
      "\n",
      "\n",
      "{'accuracy': 0.9444444444444444, 'mean_square_error': 0.1433732795320219, 'categorical_crossentropy': 0.2954532128793222, 'essential_metrics': {0: {'tp_hit': 76, 'fp_hit': 5, 'tn_hit': 23, 'fn_hit': 4}, 1: {'tp_hit': 13, 'fp_hit': 0, 'tn_hit': 93, 'fn_hit': 2}, 2: {'tp_hit': 10, 'fp_hit': 4, 'tn_hit': 91, 'fn_hit': 3}}, 'checkpoint': 40} \n",
      "\n",
      "\n",
      "{'accuracy': 0.9444444444444444, 'mean_square_error': 0.14520132253177054, 'categorical_crossentropy': 0.28276242150200737, 'essential_metrics': {0: {'tp_hit': 77, 'fp_hit': 6, 'tn_hit': 22, 'fn_hit': 3}, 1: {'tp_hit': 12, 'fp_hit': 0, 'tn_hit': 93, 'fn_hit': 3}, 2: {'tp_hit': 10, 'fp_hit': 3, 'tn_hit': 92, 'fn_hit': 3}}, 'checkpoint': 50} \n",
      "\n",
      "\n",
      "{'accuracy': 0.9444444444444444, 'mean_square_error': 0.14520132253177054, 'categorical_crossentropy': 0.28276242150200737, 'essential_metrics': {0: {'tp_hit': 77, 'fp_hit': 6, 'tn_hit': 22, 'fn_hit': 3}, 1: {'tp_hit': 12, 'fp_hit': 0, 'tn_hit': 93, 'fn_hit': 3}, 2: {'tp_hit': 10, 'fp_hit': 3, 'tn_hit': 92, 'fn_hit': 3}}, 'checkpoint': 60} \n",
      "\n",
      "\n",
      "{'accuracy': 0.9382716049382716, 'mean_square_error': 0.14600073244904888, 'categorical_crossentropy': 0.282340579562717, 'essential_metrics': {0: {'tp_hit': 76, 'fp_hit': 6, 'tn_hit': 22, 'fn_hit': 4}, 1: {'tp_hit': 12, 'fp_hit': 0, 'tn_hit': 93, 'fn_hit': 3}, 2: {'tp_hit': 10, 'fp_hit': 4, 'tn_hit': 91, 'fn_hit': 3}}, 'checkpoint': 70} \n",
      "\n",
      "\n",
      "{'accuracy': 0.9814814814814815, 'mean_square_error': 0.10865478569387642, 'categorical_crossentropy': 0.23903060842443397, 'essential_metrics': {0: {'tp_hit': 80, 'fp_hit': 3, 'tn_hit': 25, 'fn_hit': 0}, 1: {'tp_hit': 15, 'fp_hit': 0, 'tn_hit': 93, 'fn_hit': 0}, 2: {'tp_hit': 10, 'fp_hit': 0, 'tn_hit': 95, 'fn_hit': 3}}, 'checkpoint': 80} \n",
      "\n",
      "\n",
      "{'accuracy': 0.9753086419753086, 'mean_square_error': 0.09885046431750694, 'categorical_crossentropy': 0.21545592060795538, 'essential_metrics': {0: {'tp_hit': 79, 'fp_hit': 3, 'tn_hit': 25, 'fn_hit': 1}, 1: {'tp_hit': 14, 'fp_hit': 0, 'tn_hit': 93, 'fn_hit': 1}, 2: {'tp_hit': 11, 'fp_hit': 1, 'tn_hit': 94, 'fn_hit': 2}}, 'checkpoint': 90} \n",
      "\n",
      "\n",
      "{'accuracy': 0.9506172839506173, 'mean_square_error': 0.09626743394301684, 'categorical_crossentropy': 0.20150368301956742, 'essential_metrics': {0: {'tp_hit': 74, 'fp_hit': 2, 'tn_hit': 26, 'fn_hit': 6}, 1: {'tp_hit': 14, 'fp_hit': 0, 'tn_hit': 93, 'fn_hit': 1}, 2: {'tp_hit': 12, 'fp_hit': 6, 'tn_hit': 89, 'fn_hit': 1}}, 'checkpoint': 100} \n",
      "\n",
      "\n",
      "{'accuracy': 0.9753086419753086, 'mean_square_error': 0.08214390404356281, 'categorical_crossentropy': 0.16985691918267143, 'essential_metrics': {0: {'tp_hit': 78, 'fp_hit': 2, 'tn_hit': 26, 'fn_hit': 2}, 1: {'tp_hit': 14, 'fp_hit': 0, 'tn_hit': 93, 'fn_hit': 1}, 2: {'tp_hit': 12, 'fp_hit': 2, 'tn_hit': 93, 'fn_hit': 1}}, 'checkpoint': 110} \n",
      "\n",
      "\n",
      "{'accuracy': 0.9753086419753086, 'mean_square_error': 0.07121496850841134, 'categorical_crossentropy': 0.146183208183006, 'essential_metrics': {0: {'tp_hit': 78, 'fp_hit': 2, 'tn_hit': 26, 'fn_hit': 2}, 1: {'tp_hit': 14, 'fp_hit': 1, 'tn_hit': 92, 'fn_hit': 1}, 2: {'tp_hit': 12, 'fp_hit': 1, 'tn_hit': 94, 'fn_hit': 1}}, 'checkpoint': 120} \n",
      "\n",
      "\n",
      "{'accuracy': 0.9691358024691358, 'mean_square_error': 0.06698805023283552, 'categorical_crossentropy': 0.13518285751342773, 'essential_metrics': {0: {'tp_hit': 77, 'fp_hit': 2, 'tn_hit': 26, 'fn_hit': 3}, 1: {'tp_hit': 14, 'fp_hit': 1, 'tn_hit': 92, 'fn_hit': 1}, 2: {'tp_hit': 12, 'fp_hit': 2, 'tn_hit': 93, 'fn_hit': 1}}, 'checkpoint': 130} \n",
      "\n",
      "\n",
      "{'accuracy': 0.9691358024691358, 'mean_square_error': 0.06566807419255369, 'categorical_crossentropy': 0.12765623022008826, 'essential_metrics': {0: {'tp_hit': 77, 'fp_hit': 2, 'tn_hit': 26, 'fn_hit': 3}, 1: {'tp_hit': 14, 'fp_hit': 1, 'tn_hit': 92, 'fn_hit': 1}, 2: {'tp_hit': 12, 'fp_hit': 2, 'tn_hit': 93, 'fn_hit': 1}}, 'checkpoint': 140} \n",
      "\n",
      "\n",
      "{'accuracy': 0.9691358024691358, 'mean_square_error': 0.0658580216917724, 'categorical_crossentropy': 0.12243964936998156, 'essential_metrics': {0: {'tp_hit': 77, 'fp_hit': 2, 'tn_hit': 26, 'fn_hit': 3}, 1: {'tp_hit': 14, 'fp_hit': 1, 'tn_hit': 92, 'fn_hit': 1}, 2: {'tp_hit': 12, 'fp_hit': 2, 'tn_hit': 93, 'fn_hit': 1}}, 'checkpoint': 150} \n",
      "\n",
      "\n",
      "{'accuracy': 0.9691358024691358, 'mean_square_error': 0.06516663219177435, 'categorical_crossentropy': 0.11688622721919308, 'essential_metrics': {0: {'tp_hit': 77, 'fp_hit': 2, 'tn_hit': 26, 'fn_hit': 3}, 1: {'tp_hit': 14, 'fp_hit': 1, 'tn_hit': 92, 'fn_hit': 1}, 2: {'tp_hit': 12, 'fp_hit': 2, 'tn_hit': 93, 'fn_hit': 1}}, 'checkpoint': 160} \n",
      "\n",
      "\n",
      "{'accuracy': 0.9691358024691358, 'mean_square_error': 0.05889573720548651, 'categorical_crossentropy': 0.10575335997122305, 'essential_metrics': {0: {'tp_hit': 77, 'fp_hit': 2, 'tn_hit': 26, 'fn_hit': 3}, 1: {'tp_hit': 14, 'fp_hit': 1, 'tn_hit': 92, 'fn_hit': 1}, 2: {'tp_hit': 12, 'fp_hit': 2, 'tn_hit': 93, 'fn_hit': 1}}, 'checkpoint': 170} \n",
      "\n",
      "\n",
      "{'accuracy': 0.9691358024691358, 'mean_square_error': 0.05987916319468246, 'categorical_crossentropy': 0.10427154435051812, 'essential_metrics': {0: {'tp_hit': 77, 'fp_hit': 2, 'tn_hit': 26, 'fn_hit': 3}, 1: {'tp_hit': 14, 'fp_hit': 1, 'tn_hit': 92, 'fn_hit': 1}, 2: {'tp_hit': 12, 'fp_hit': 2, 'tn_hit': 93, 'fn_hit': 1}}, 'checkpoint': 180} \n",
      "\n",
      "\n",
      "{'accuracy': 0.9691358024691358, 'mean_square_error': 0.06280347420045865, 'categorical_crossentropy': 0.10920992604008427, 'essential_metrics': {0: {'tp_hit': 77, 'fp_hit': 2, 'tn_hit': 26, 'fn_hit': 3}, 1: {'tp_hit': 14, 'fp_hit': 1, 'tn_hit': 92, 'fn_hit': 1}, 2: {'tp_hit': 12, 'fp_hit': 2, 'tn_hit': 93, 'fn_hit': 1}}, 'checkpoint': 190} \n",
      "\n",
      "\n",
      "{'accuracy': 0.9691358024691358, 'mean_square_error': 0.06510855922781039, 'categorical_crossentropy': 0.10879873346399378, 'essential_metrics': {0: {'tp_hit': 77, 'fp_hit': 2, 'tn_hit': 26, 'fn_hit': 3}, 1: {'tp_hit': 14, 'fp_hit': 1, 'tn_hit': 92, 'fn_hit': 1}, 2: {'tp_hit': 12, 'fp_hit': 2, 'tn_hit': 93, 'fn_hit': 1}}, 'checkpoint': 200} \n",
      "\n",
      "\n"
     ]
    }
   ],
   "source": [
    "for checkpoint in checkpoints:\n",
    "    print(checkpoint, '\\n\\n')"
   ]
  },
  {
   "cell_type": "code",
   "execution_count": 14,
   "metadata": {},
   "outputs": [
    {
     "name": "stdout",
     "output_type": "stream",
     "text": [
      "Layer 1\n",
      "Neuron 0: weights:\n",
      "[ 0.47141123  3.          1.380807   -1.6430881  -3.        ]\n",
      " bias: 3.0\n",
      "\n",
      "Neuron 1: weights:\n",
      "[ 1.6602844  -3.         -0.45333222  3.          1.8839052 ]\n",
      " bias: 3.0\n",
      "\n",
      "Neuron 2: weights:\n",
      "[ 2.0191352 -3.        -3.         1.0018295  1.6170964]\n",
      " bias: 3.0\n",
      "\n",
      "Neuron 3: weights:\n",
      "[ 0.08475324  2.6100829   3.         -2.041345   -3.        ]\n",
      " bias: 3.0\n",
      "\n",
      "$\n",
      "Layer 2\n",
      "Neuron 0: weights:\n",
      "[3.        1.2110647 3.        3.       ]\n",
      " bias: -1.2811484336853027\n",
      "\n",
      "Neuron 1: weights:\n",
      "[ 3.        -3.        -3.         2.5728366]\n",
      " bias: 3.0\n",
      "\n",
      "Neuron 2: weights:\n",
      "[-3.         1.3859702  3.        -3.       ]\n",
      " bias: 3.0\n",
      "\n",
      "$\n",
      "\n"
     ]
    }
   ],
   "source": [
    "print(model)"
   ]
  }
 ],
 "metadata": {
  "kernelspec": {
   "display_name": "Python 3",
   "language": "python",
   "name": "python3"
  },
  "language_info": {
   "codemirror_mode": {
    "name": "ipython",
    "version": 3
   },
   "file_extension": ".py",
   "mimetype": "text/x-python",
   "name": "python",
   "nbconvert_exporter": "python",
   "pygments_lexer": "ipython3",
   "version": "3.6.12"
  }
 },
 "nbformat": 4,
 "nbformat_minor": 2
}
