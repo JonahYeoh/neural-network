{
 "cells": [
  {
   "cell_type": "code",
   "execution_count": 1,
   "metadata": {},
   "outputs": [],
   "source": [
    "# dependency\n",
    "import numpy as np\n",
    "import pandas as pd\n",
    "import copy\n",
    "import math\n",
    "import sys\n",
    "import os\n",
    "from activations import relu, leaky_relu, sigmoid, tanh, softmax, d_sigmoid, d_relu\n",
    "from initializers import glorot_uniform, random_normal, random_uniform\n",
    "from regularizers import l1_regularizer, l2_regularizer\n",
    "from utility import trim_tail, multiply, subtract, get_nparams, one_hot_encoding, get_data\n",
    "from metrics import MSE, CCE, ACC, PRECISION, RECALL, essential_metrics, wondering_penalty, close_gap_penalty\n",
    "from pso import PSO\n",
    "from ga import GA\n",
    "from nn import Network\n",
    "from layer import DenseLayer\n",
    "from scalers import MinMaxScaler, StandardScaler"
   ]
  },
  {
   "cell_type": "code",
   "execution_count": 2,
   "metadata": {},
   "outputs": [],
   "source": [
    "# reference\n",
    "metrics_fn_dict = dict()\n",
    "metrics_fn_dict['accuracy'] = ACC\n",
    "metrics_fn_dict['categorical_crossentropy'] = CCE\n",
    "metrics_fn_dict['mean_square_error'] = MSE\n",
    "metrics_fn_dict['precision'] = PRECISION\n",
    "metrics_fn_dict['recall'] = RECALL\n",
    "metrics_fn_dict['essential_metrics'] = essential_metrics"
   ]
  },
  {
   "cell_type": "code",
   "execution_count": 3,
   "metadata": {},
   "outputs": [],
   "source": [
    "# model\n",
    "model = Network(5, lr = None)\n",
    "model.add_layer(DenseLayer(1, 4, True, afn=sigmoid, dafn=None, rfn=None))\n",
    "model.add_layer(DenseLayer(2, 3, True, afn=softmax, dafn=None, rfn=None))"
   ]
  },
  {
   "cell_type": "code",
   "execution_count": 4,
   "metadata": {},
   "outputs": [
    {
     "name": "stdout",
     "output_type": "stream",
     "text": [
      "see one see two 2 2\n"
     ]
    }
   ],
   "source": [
    "pso = PSO(dict(m = 50,\n",
    "    weight_constraint = [-3, 3], \n",
    "    velocity_constraint = [-0.1, 0.1],\n",
    "    c1 = 2,\n",
    "    c2 = 2,\n",
    "    w = 1.2,\n",
    "    w_decay = 1,\n",
    "    scale_hyperparameter = False,\n",
    "    regularizer = l2_regularizer,\n",
    "    mask = True))"
   ]
  },
  {
   "cell_type": "code",
   "execution_count": 5,
   "metadata": {},
   "outputs": [
    {
     "name": "stdout",
     "output_type": "stream",
     "text": [
      "building layer 1 with 5\n",
      "24\n",
      "building layer 2 with 4\n",
      "15\n"
     ]
    }
   ],
   "source": [
    "model.compile(loss_fn = 'categorical_crossentropy', optimizer = pso, \\\n",
    "    metrics = ['accuracy', 'mean_square_error', 'categorical_crossentropy'])"
   ]
  },
  {
   "cell_type": "code",
   "execution_count": 6,
   "metadata": {},
   "outputs": [
    {
     "name": "stdout",
     "output_type": "stream",
     "text": [
      "<class 'pandas.core.frame.DataFrame'>\n",
      "RangeIndex: 107 entries, 0 to 106\n",
      "Data columns (total 6 columns):\n",
      " #   Column  Non-Null Count  Dtype  \n",
      "---  ------  --------------  -----  \n",
      " 0   f1      107 non-null    float32\n",
      " 1   f2      107 non-null    float32\n",
      " 2   f3      107 non-null    float32\n",
      " 3   f4      107 non-null    float32\n",
      " 4   f5      107 non-null    float32\n",
      " 5   label   107 non-null    float32\n",
      "dtypes: float32(6)\n",
      "memory usage: 2.6 KB\n",
      "None\n",
      "<class 'pandas.core.frame.DataFrame'>\n",
      "RangeIndex: 108 entries, 0 to 107\n",
      "Data columns (total 6 columns):\n",
      " #   Column  Non-Null Count  Dtype  \n",
      "---  ------  --------------  -----  \n",
      " 0   f1      108 non-null    float32\n",
      " 1   f2      108 non-null    float32\n",
      " 2   f3      108 non-null    float32\n",
      " 3   f4      108 non-null    float32\n",
      " 4   f5      108 non-null    float32\n",
      " 5   label   108 non-null    float32\n",
      "dtypes: float32(6)\n",
      "memory usage: 2.7 KB\n",
      "None\n"
     ]
    }
   ],
   "source": [
    "# data loading\n",
    "DATA = os.path.join('c:\\\\Users\\\\AI-lab\\\\github_repo\\\\neural-network\\\\', 'dataset')\n",
    "GROUP = 1\n",
    "COLUMNS = ['f1', 'f2', 'f3', 'f4', 'f5', 'label']\n",
    "N_CLASS = 3\n",
    "EPOCHS = 200\n",
    "train_dir, test_dir = \"..//dataset//training_data{}.txt\".format(GROUP), \"..//dataset//testing_data{}.txt\".format(GROUP)\n",
    "train, test = get_data(DATA, train_dir, COLUMNS), get_data(DATA, test_dir, COLUMNS)\n",
    "# shuffle\n",
    "train, test = train.sample(frac=1), test.sample(frac=1)\n",
    "x_train, y_train = train.drop('label', axis=1), train['label']\n",
    "x_test, y_test = test.drop('label', axis=1), test['label']"
   ]
  },
  {
   "cell_type": "code",
   "execution_count": 7,
   "metadata": {},
   "outputs": [],
   "source": [
    "# data scaling and encoding\n",
    "scaler = StandardScaler(['f1', 'f2', 'f3', 'f4', 'f5'])\n",
    "scaler.fit(x_train)\n",
    "x_train = scaler.transform(x_train)\n",
    "x_test = scaler.transform(x_test)\n",
    "y_train = one_hot_encoding(y_train, N_CLASS)\n",
    "y_test = one_hot_encoding(y_test, N_CLASS)"
   ]
  },
  {
   "cell_type": "code",
   "execution_count": 8,
   "metadata": {
    "tags": [
     "outputPrepend"
    ]
   },
   "outputs": [
    {
     "name": "stdout",
     "output_type": "stream",
     "text": [
      "Checkpoint 10, Accuracy: 0.7283950617283951, Loss: 0.8730398813883463\n",
      "Checkpoint 20, Accuracy: 0.8827160493827161, Loss: 0.7114329161467375\n",
      "Checkpoint 30, Accuracy: 0.8827160493827161, Loss: 0.6849933200412326\n",
      "Checkpoint 40, Accuracy: 0.9074074074074074, Loss: 0.7150853474934896\n",
      "Checkpoint 50, Accuracy: 0.8888888888888888, Loss: 0.7306339122630932\n",
      "Checkpoint 60, Accuracy: 0.8518518518518519, Loss: 0.5907524250171803\n",
      "Checkpoint 70, Accuracy: 0.8580246913580247, Loss: 0.537035482901114\n",
      "Checkpoint 80, Accuracy: 0.8641975308641975, Loss: 0.4807294209798177\n",
      "Checkpoint 90, Accuracy: 0.8888888888888888, Loss: 0.4636941132722078\n",
      "Checkpoint 100, Accuracy: 0.9567901234567902, Loss: 0.37980609469943577\n",
      "Checkpoint 110, Accuracy: 0.9629629629629629, Loss: 0.35698586923104747\n",
      "Checkpoint 120, Accuracy: 0.9567901234567902, Loss: 0.3656952116224501\n",
      "Checkpoint 130, Accuracy: 0.9320987654320988, Loss: 0.36528216467963326\n",
      "Checkpoint 140, Accuracy: 0.9444444444444444, Loss: 0.34910014823631\n",
      "Checkpoint 150, Accuracy: 0.9506172839506173, Loss: 0.3343726970531322\n",
      "Checkpoint 160, Accuracy: 0.9506172839506173, Loss: 0.36046586213288484\n",
      "Checkpoint 170, Accuracy: 0.9567901234567902, Loss: 0.3265194363064236\n",
      "Checkpoint 180, Accuracy: 0.9382716049382716, Loss: 0.3405663878829391\n",
      "Checkpoint 190, Accuracy: 0.9444444444444444, Loss: 0.3358454174465603\n",
      "Checkpoint 200, Accuracy: 0.9444444444444444, Loss: 0.3358454174465603\n"
     ]
    }
   ],
   "source": [
    "# learning phase\n",
    "breakpoint = 10\n",
    "checkpoints = list()\n",
    "history = list()\n",
    "for century in range(0, EPOCHS, breakpoint):\n",
    "    sub_history = model.fit(x_train, y_train, breakpoint, verbose = 0)\n",
    "    score = model.evaluate(x_test, y_test, False, verbose = 0)\n",
    "    print('Checkpoint {}, Accuracy: {}, Loss: {}'.format(century+breakpoint, score['accuracy'], score[model.loss_fn]))\n",
    "    score['checkpoint'] = century + breakpoint\n",
    "    checkpoints.append(score)\n",
    "    history.extend(sub_history)"
   ]
  },
  {
   "cell_type": "code",
   "execution_count": 9,
   "metadata": {},
   "outputs": [],
   "source": [
    "import matplotlib.pyplot as plt\n",
    "\n",
    "def draw_plot(x, y_list, x_label=None, y_label=None, legend=None, title=None):\n",
    "    fig, ax = plt.subplots(figsize=(12,5))\n",
    "    for xi, yi in zip(x, y_list):\n",
    "        ax.plot(xi, yi)\n",
    "    if x_label is not None and y_label is not None:\n",
    "        ax.set(xlabel=x_label, ylabel=y_label, title='{} VS {}'.format(x_label, y_label))\n",
    "    if legend is not None:\n",
    "        ax.legend(legend)\n",
    "    ax.grid()\n",
    "    plt.show()"
   ]
  },
  {
   "cell_type": "code",
   "execution_count": 10,
   "metadata": {},
   "outputs": [],
   "source": [
    "train_acc = [h['accuracy'] for h in history]\n",
    "train_mse = [h['mean_square_error'] for h in history]\n",
    "train_cce = [h['categorical_crossentropy'] for h in history]"
   ]
  },
  {
   "cell_type": "code",
   "execution_count": 11,
   "metadata": {},
   "outputs": [
    {
     "name": "stdout",
     "output_type": "stream",
     "text": [
      "[1. 0. 0.] <-> [0.82144016 0.09120144 0.08735838]\n",
      "[1. 0. 0.] <-> [0.80863607 0.05437561 0.13698837]\n",
      "[1. 0. 0.] <-> [0.75353473 0.06228447 0.18418077]\n",
      "[0. 1. 0.] <-> [0.46596628 0.5134263  0.02060744]\n",
      "[1. 0. 0.] <-> [0.82659096 0.09102029 0.08238871]\n",
      "[1. 0. 0.] <-> [0.75317407 0.03708582 0.20974012]\n",
      "[1. 0. 0.] <-> [0.79553175 0.05516605 0.14930218]\n",
      "[1. 0. 0.] <-> [0.7779157  0.05152669 0.17055762]\n",
      "[1. 0. 0.] <-> [0.7941873  0.04524515 0.16056758]\n",
      "[1. 0. 0.] <-> [0.81340086 0.08855102 0.09804808]\n",
      "[1. 0. 0.] <-> [0.7893662  0.04468041 0.16595344]\n",
      "[1. 0. 0.] <-> [0.80440027 0.06494514 0.13065451]\n",
      "[1. 0. 0.] <-> [0.8219834  0.09365303 0.08436353]\n",
      "[1. 0. 0.] <-> [0.81648755 0.10074916 0.08276328]\n",
      "[1. 0. 0.] <-> [0.8153586  0.11589728 0.06874411]\n",
      "[1. 0. 0.] <-> [0.74852294 0.19181821 0.0596589 ]\n",
      "[1. 0. 0.] <-> [0.81693816 0.08778123 0.09528067]\n",
      "[0. 1. 0.] <-> [0.43189725 0.5507248  0.01737794]\n",
      "[1. 0. 0.] <-> [0.78996176 0.07034682 0.13969146]\n",
      "[1. 0. 0.] <-> [0.816109   0.04476753 0.13912345]\n",
      "[1. 0. 0.] <-> [0.82423955 0.07953316 0.09622728]\n",
      "[1. 0. 0.] <-> [0.7588593  0.19169447 0.04944617]\n",
      "[1. 0. 0.] <-> [0.81575984 0.08248241 0.10175772]\n",
      "[0. 0. 1.] <-> [0.30607286 0.01306434 0.6808628 ]\n",
      "[1. 0. 0.] <-> [0.81651723 0.10491735 0.07856535]\n",
      "[0. 0. 1.] <-> [0.34887794 0.01544645 0.6356756 ]\n",
      "[1. 0. 0.] <-> [0.8154554  0.04354353 0.14100112]\n",
      "[1. 0. 0.] <-> [0.7150588  0.03704485 0.2478964 ]\n",
      "[1. 0. 0.] <-> [0.7851591  0.15025796 0.06458293]\n",
      "[1. 0. 0.] <-> [0.61190516 0.03955521 0.34853965]\n",
      "[0. 1. 0.] <-> [0.5952293  0.37634486 0.02842579]\n",
      "[0. 0. 1.] <-> [0.3264147  0.01404338 0.6595419 ]\n",
      "[1. 0. 0.] <-> [0.79246867 0.03850851 0.16902289]\n",
      "[1. 0. 0.] <-> [0.82354355 0.08181302 0.09464342]\n",
      "[0. 0. 1.] <-> [0.7409422  0.03143617 0.22762164]\n",
      "[0. 1. 0.] <-> [0.50811166 0.46786842 0.02401993]\n",
      "[0. 0. 1.] <-> [0.30539453 0.01268606 0.6819194 ]\n",
      "[1. 0. 0.] <-> [0.7813943  0.08604375 0.13256197]\n",
      "[1. 0. 0.] <-> [0.8121655  0.12196191 0.06587257]\n",
      "[0. 0. 1.] <-> [0.5800174  0.03537171 0.38461092]\n",
      "[1. 0. 0.] <-> [0.7938168  0.07721967 0.1289635 ]\n",
      "[1. 0. 0.] <-> [0.73924065 0.05825804 0.20250133]\n",
      "[1. 0. 0.] <-> [0.75406    0.05834035 0.18759976]\n",
      "[1. 0. 0.] <-> [0.76490927 0.17993537 0.0551554 ]\n",
      "[1. 0. 0.] <-> [0.8010415  0.0840783  0.11488023]\n",
      "[0. 0. 1.] <-> [0.3844728  0.01838687 0.5971403 ]\n",
      "[1. 0. 0.] <-> [0.788581   0.06562176 0.14579718]\n",
      "[1. 0. 0.] <-> [0.7891823  0.13364798 0.07716973]\n",
      "[1. 0. 0.] <-> [0.7764563  0.15950483 0.06403884]\n",
      "[1. 0. 0.] <-> [0.8090737  0.0989724  0.09195389]\n",
      "[1. 0. 0.] <-> [0.8029738  0.07286871 0.12415743]\n",
      "[0. 0. 1.] <-> [0.31435812 0.01624803 0.66939384]\n",
      "[1. 0. 0.] <-> [0.82377297 0.07402797 0.10219909]\n",
      "[0. 1. 0.] <-> [0.6638633  0.29847217 0.03766454]\n",
      "[1. 0. 0.] <-> [0.7851221  0.14545476 0.06942317]\n",
      "[0. 1. 0.] <-> [0.20851435 0.78540635 0.00607924]\n",
      "[0. 0. 1.] <-> [0.31026933 0.01298692 0.6767438 ]\n",
      "[1. 0. 0.] <-> [0.7693386  0.04405803 0.18660332]\n",
      "[1. 0. 0.] <-> [0.8114985  0.11894234 0.0695591 ]\n",
      "[1. 0. 0.] <-> [0.81511897 0.0768765  0.10800449]\n",
      "[1. 0. 0.] <-> [0.7470486  0.20037915 0.05257226]\n",
      "[1. 0. 0.] <-> [0.7665918  0.06151068 0.17189746]\n",
      "[0. 0. 1.] <-> [0.38024485 0.01698552 0.6027697 ]\n",
      "[1. 0. 0.] <-> [0.80989563 0.10749888 0.08260548]\n",
      "[1. 0. 0.] <-> [0.8218107  0.05781215 0.12037712]\n",
      "[1. 0. 0.] <-> [0.7241398  0.0463369  0.22952323]\n",
      "[1. 0. 0.] <-> [0.82725286 0.08409107 0.08865613]\n",
      "[1. 0. 0.] <-> [0.8073921  0.10397135 0.0886365 ]\n",
      "[1. 0. 0.] <-> [0.8182141  0.05966124 0.12212462]\n",
      "[1. 0. 0.] <-> [0.83571833 0.06102493 0.10325677]\n",
      "[1. 0. 0.] <-> [0.7997163  0.11932852 0.08095521]\n",
      "[1. 0. 0.] <-> [0.8089812  0.06716988 0.12384892]\n",
      "[1. 0. 0.] <-> [0.6777792  0.2839725  0.03824826]\n",
      "[1. 0. 0.] <-> [0.7963678  0.09406575 0.10956639]\n",
      "[1. 0. 0.] <-> [0.7854163  0.15223661 0.06234709]\n",
      "[1. 0. 0.] <-> [0.8340313  0.07125311 0.0947156 ]\n",
      "[1. 0. 0.] <-> [0.8339953  0.06461863 0.10138608]\n",
      "[1. 0. 0.] <-> [0.8062254  0.05430445 0.13947019]\n",
      "[0. 1. 0.] <-> [0.39938846 0.58374816 0.01686341]\n",
      "[0. 1. 0.] <-> [0.2068811  0.78719467 0.00592421]\n",
      "[0. 0. 1.] <-> [0.3528978  0.01895692 0.62814534]\n",
      "[1. 0. 0.] <-> [0.7812079  0.16008884 0.05870335]\n",
      "[1. 0. 0.] <-> [0.8066987  0.12547411 0.06782718]\n",
      "[1. 0. 0.] <-> [0.78874755 0.13606021 0.07519224]\n",
      "[1. 0. 0.] <-> [0.8033946  0.08367275 0.11293259]\n",
      "[1. 0. 0.] <-> [0.8030427  0.04503791 0.15191947]\n",
      "[0. 0. 1.] <-> [0.31231612 0.01326326 0.6744206 ]\n",
      "[0. 1. 0.] <-> [0.5189019  0.45733497 0.02376323]\n",
      "[1. 0. 0.] <-> [0.8076212  0.06407958 0.1282993 ]\n",
      "[1. 0. 0.] <-> [0.7963034  0.04603199 0.1576646 ]\n",
      "[1. 0. 0.] <-> [0.8094225  0.10247337 0.08810414]\n",
      "[1. 0. 0.] <-> [0.76986897 0.04346072 0.18667036]\n",
      "[1. 0. 0.] <-> [0.8064023  0.09847394 0.09512378]\n",
      "[1. 0. 0.] <-> [0.79424363 0.09758762 0.10816876]\n",
      "[1. 0. 0.] <-> [0.82233006 0.08368805 0.0939818 ]\n",
      "[0. 0. 1.] <-> [0.6890204  0.03226083 0.27871868]\n",
      "[0. 1. 0.] <-> [0.6484865  0.318851   0.03266245]\n",
      "[0. 1. 0.] <-> [0.20800975 0.7857829  0.00620727]\n",
      "[0. 1. 0.] <-> [0.2935582  0.69584006 0.01060179]\n",
      "[1. 0. 0.] <-> [0.7996509  0.04388182 0.15646729]\n",
      "[1. 0. 0.] <-> [0.81516033 0.08147202 0.10336768]\n",
      "[1. 0. 0.] <-> [0.78100103 0.09867325 0.12032571]\n",
      "[0. 1. 0.] <-> [0.25088462 0.74086463 0.00825072]\n",
      "[1. 0. 0.] <-> [0.81189966 0.12590191 0.06219843]\n",
      "[1. 0. 0.] <-> [0.8060434  0.06231258 0.13164398]\n",
      "[0. 1. 0.] <-> [0.66522884 0.29845524 0.03631597]\n",
      "[1. 0. 0.] <-> [0.81370604 0.04638811 0.13990593]\n",
      "[0. 1. 0.] <-> [0.29658636 0.6932798  0.01013382]\n",
      "{'accuracy': 0.9444444444444444, 'mean_square_error': 0.16099852457390473, 'categorical_crossentropy': 0.3358454174465603, 'essential_metrics': {0: {'tp_hit': 80, 'fp_hit': 9, 'tn_hit': 19, 'fn_hit': 0}, 1: {'tp_hit': 9, 'fp_hit': 0, 'tn_hit': 93, 'fn_hit': 6}, 2: {'tp_hit': 10, 'fp_hit': 0, 'tn_hit': 95, 'fn_hit': 3}}}\n"
     ]
    }
   ],
   "source": [
    "# recall phase\n",
    "score = model.evaluate(x_test, y_test, False)\n",
    "print(score)"
   ]
  },
  {
   "cell_type": "code",
   "execution_count": 12,
   "metadata": {},
   "outputs": [
    {
     "data": {
      "image/png": "[encoded data removed]",
      "text/plain": [
       "<Figure size 864x360 with 1 Axes>"
      ]
     },
     "metadata": {
      "needs_background": "light"
     },
     "output_type": "display_data"
    },
    {
     "data": {
      "image/png": "[encoded data removed]",
      "text/plain": [
       "<Figure size 864x360 with 1 Axes>"
      ]
     },
     "metadata": {
      "needs_background": "light"
     },
     "output_type": "display_data"
    }
   ],
   "source": [
    "draw_plot(x = [[i for i in range(len(history))], [(i+1)*breakpoint for i in range(len(checkpoints))]], y_list = [train_cce, [ ckp[model.loss_fn] for ckp in checkpoints ]], x_label = 'Epochs', \\\n",
    "    y_label = model.loss_fn, legend=['train', 'test'])\n",
    "acc = [ ckp['accuracy'] for ckp in checkpoints ]\n",
    "draw_plot(x = [[i for i in range(len(history))], [(i+1)*breakpoint for i in range(len(checkpoints))]], y_list = [train_acc, acc], x_label = 'Checkpoints', \\\n",
    "    y_label = 'accuracy', legend=['train', 'test'])"
   ]
  },
  {
   "cell_type": "code",
   "execution_count": 13,
   "metadata": {},
   "outputs": [
    {
     "name": "stdout",
     "output_type": "stream",
     "text": [
      "{'accuracy': 0.7283950617283951, 'mean_square_error': 0.5397806122129649, 'categorical_crossentropy': 0.8730398813883463, 'essential_metrics': {0: {'tp_hit': 55, 'fp_hit': 18, 'tn_hit': 10, 'fn_hit': 25}, 1: {'tp_hit': 0, 'fp_hit': 0, 'tn_hit': 93, 'fn_hit': 15}, 2: {'tp_hit': 9, 'fp_hit': 26, 'tn_hit': 69, 'fn_hit': 4}}, 'checkpoint': 10} \n",
      "\n",
      "\n",
      "{'accuracy': 0.8827160493827161, 'mean_square_error': 0.34926808189885533, 'categorical_crossentropy': 0.7114329161467375, 'essential_metrics': {0: {'tp_hit': 80, 'fp_hit': 19, 'tn_hit': 9, 'fn_hit': 0}, 1: {'tp_hit': 9, 'fp_hit': 0, 'tn_hit': 93, 'fn_hit': 6}, 2: {'tp_hit': 0, 'fp_hit': 0, 'tn_hit': 95, 'fn_hit': 13}}, 'checkpoint': 20} \n",
      "\n",
      "\n",
      "{'accuracy': 0.8827160493827161, 'mean_square_error': 0.3761454729536486, 'categorical_crossentropy': 0.6849933200412326, 'essential_metrics': {0: {'tp_hit': 79, 'fp_hit': 18, 'tn_hit': 10, 'fn_hit': 1}, 1: {'tp_hit': 10, 'fp_hit': 1, 'tn_hit': 92, 'fn_hit': 5}, 2: {'tp_hit': 0, 'fp_hit': 0, 'tn_hit': 95, 'fn_hit': 13}}, 'checkpoint': 30} \n",
      "\n",
      "\n",
      "{'accuracy': 0.9074074074074074, 'mean_square_error': 0.40126009960815195, 'categorical_crossentropy': 0.7150853474934896, 'essential_metrics': {0: {'tp_hit': 80, 'fp_hit': 15, 'tn_hit': 13, 'fn_hit': 0}, 1: {'tp_hit': 13, 'fp_hit': 0, 'tn_hit': 93, 'fn_hit': 2}, 2: {'tp_hit': 0, 'fp_hit': 0, 'tn_hit': 95, 'fn_hit': 13}}, 'checkpoint': 40} \n",
      "\n",
      "\n",
      "{'accuracy': 0.8888888888888888, 'mean_square_error': 0.41882440108374663, 'categorical_crossentropy': 0.7306339122630932, 'essential_metrics': {0: {'tp_hit': 80, 'fp_hit': 18, 'tn_hit': 10, 'fn_hit': 0}, 1: {'tp_hit': 10, 'fp_hit': 0, 'tn_hit': 93, 'fn_hit': 5}, 2: {'tp_hit': 0, 'fp_hit': 0, 'tn_hit': 95, 'fn_hit': 13}}, 'checkpoint': 50} \n",
      "\n",
      "\n",
      "{'accuracy': 0.8518518518518519, 'mean_square_error': 0.3322985455950711, 'categorical_crossentropy': 0.5907524250171803, 'essential_metrics': {0: {'tp_hit': 80, 'fp_hit': 24, 'tn_hit': 4, 'fn_hit': 0}, 1: {'tp_hit': 4, 'fp_hit': 0, 'tn_hit': 93, 'fn_hit': 11}, 2: {'tp_hit': 0, 'fp_hit': 0, 'tn_hit': 95, 'fn_hit': 13}}, 'checkpoint': 60} \n",
      "\n",
      "\n",
      "{'accuracy': 0.8580246913580247, 'mean_square_error': 0.2997134023001034, 'categorical_crossentropy': 0.537035482901114, 'essential_metrics': {0: {'tp_hit': 80, 'fp_hit': 23, 'tn_hit': 5, 'fn_hit': 0}, 1: {'tp_hit': 5, 'fp_hit': 0, 'tn_hit': 93, 'fn_hit': 10}, 2: {'tp_hit': 0, 'fp_hit': 0, 'tn_hit': 95, 'fn_hit': 13}}, 'checkpoint': 70} \n",
      "\n",
      "\n",
      "{'accuracy': 0.8641975308641975, 'mean_square_error': 0.268592332578327, 'categorical_crossentropy': 0.4807294209798177, 'essential_metrics': {0: {'tp_hit': 80, 'fp_hit': 22, 'tn_hit': 6, 'fn_hit': 0}, 1: {'tp_hit': 6, 'fp_hit': 0, 'tn_hit': 93, 'fn_hit': 9}, 2: {'tp_hit': 0, 'fp_hit': 0, 'tn_hit': 95, 'fn_hit': 13}}, 'checkpoint': 80} \n",
      "\n",
      "\n",
      "{'accuracy': 0.8888888888888888, 'mean_square_error': 0.24878274298963532, 'categorical_crossentropy': 0.4636941132722078, 'essential_metrics': {0: {'tp_hit': 80, 'fp_hit': 18, 'tn_hit': 10, 'fn_hit': 0}, 1: {'tp_hit': 6, 'fp_hit': 0, 'tn_hit': 93, 'fn_hit': 9}, 2: {'tp_hit': 4, 'fp_hit': 0, 'tn_hit': 95, 'fn_hit': 9}}, 'checkpoint': 90} \n",
      "\n",
      "\n",
      "{'accuracy': 0.9567901234567902, 'mean_square_error': 0.1857198424838622, 'categorical_crossentropy': 0.37980609469943577, 'essential_metrics': {0: {'tp_hit': 80, 'fp_hit': 7, 'tn_hit': 21, 'fn_hit': 0}, 1: {'tp_hit': 11, 'fp_hit': 0, 'tn_hit': 93, 'fn_hit': 4}, 2: {'tp_hit': 10, 'fp_hit': 0, 'tn_hit': 95, 'fn_hit': 3}}, 'checkpoint': 100} \n",
      "\n",
      "\n",
      "{'accuracy': 0.9629629629629629, 'mean_square_error': 0.16988172729352286, 'categorical_crossentropy': 0.35698586923104747, 'essential_metrics': {0: {'tp_hit': 80, 'fp_hit': 6, 'tn_hit': 22, 'fn_hit': 0}, 1: {'tp_hit': 12, 'fp_hit': 0, 'tn_hit': 93, 'fn_hit': 3}, 2: {'tp_hit': 10, 'fp_hit': 0, 'tn_hit': 95, 'fn_hit': 3}}, 'checkpoint': 110} \n",
      "\n",
      "\n",
      "{'accuracy': 0.9567901234567902, 'mean_square_error': 0.1775121507082208, 'categorical_crossentropy': 0.3656952116224501, 'essential_metrics': {0: {'tp_hit': 80, 'fp_hit': 7, 'tn_hit': 21, 'fn_hit': 0}, 1: {'tp_hit': 11, 'fp_hit': 0, 'tn_hit': 93, 'fn_hit': 4}, 2: {'tp_hit': 10, 'fp_hit': 0, 'tn_hit': 95, 'fn_hit': 3}}, 'checkpoint': 120} \n",
      "\n",
      "\n",
      "{'accuracy': 0.9320987654320988, 'mean_square_error': 0.18378238868411112, 'categorical_crossentropy': 0.36528216467963326, 'essential_metrics': {0: {'tp_hit': 80, 'fp_hit': 11, 'tn_hit': 17, 'fn_hit': 0}, 1: {'tp_hit': 7, 'fp_hit': 0, 'tn_hit': 93, 'fn_hit': 8}, 2: {'tp_hit': 10, 'fp_hit': 0, 'tn_hit': 95, 'fn_hit': 3}}, 'checkpoint': 130} \n",
      "\n",
      "\n",
      "{'accuracy': 0.9444444444444444, 'mean_square_error': 0.17133756085175056, 'categorical_crossentropy': 0.34910014823631, 'essential_metrics': {0: {'tp_hit': 80, 'fp_hit': 9, 'tn_hit': 19, 'fn_hit': 0}, 1: {'tp_hit': 9, 'fp_hit': 0, 'tn_hit': 93, 'fn_hit': 6}, 2: {'tp_hit': 10, 'fp_hit': 0, 'tn_hit': 95, 'fn_hit': 3}}, 'checkpoint': 140} \n",
      "\n",
      "\n",
      "{'accuracy': 0.9506172839506173, 'mean_square_error': 0.1590271630321579, 'categorical_crossentropy': 0.3343726970531322, 'essential_metrics': {0: {'tp_hit': 80, 'fp_hit': 8, 'tn_hit': 20, 'fn_hit': 0}, 1: {'tp_hit': 10, 'fp_hit': 0, 'tn_hit': 93, 'fn_hit': 5}, 2: {'tp_hit': 10, 'fp_hit': 0, 'tn_hit': 95, 'fn_hit': 3}}, 'checkpoint': 150} \n",
      "\n",
      "\n",
      "{'accuracy': 0.9506172839506173, 'mean_square_error': 0.17254021856824117, 'categorical_crossentropy': 0.36046586213288484, 'essential_metrics': {0: {'tp_hit': 80, 'fp_hit': 8, 'tn_hit': 20, 'fn_hit': 0}, 1: {'tp_hit': 10, 'fp_hit': 0, 'tn_hit': 93, 'fn_hit': 5}, 2: {'tp_hit': 10, 'fp_hit': 0, 'tn_hit': 95, 'fn_hit': 3}}, 'checkpoint': 160} \n",
      "\n",
      "\n",
      "{'accuracy': 0.9567901234567902, 'mean_square_error': 0.15194323763248252, 'categorical_crossentropy': 0.3265194363064236, 'essential_metrics': {0: {'tp_hit': 80, 'fp_hit': 7, 'tn_hit': 21, 'fn_hit': 0}, 1: {'tp_hit': 11, 'fp_hit': 0, 'tn_hit': 93, 'fn_hit': 4}, 2: {'tp_hit': 10, 'fp_hit': 0, 'tn_hit': 95, 'fn_hit': 3}}, 'checkpoint': 170} \n",
      "\n",
      "\n",
      "{'accuracy': 0.9382716049382716, 'mean_square_error': 0.1619976232779905, 'categorical_crossentropy': 0.3405663878829391, 'essential_metrics': {0: {'tp_hit': 80, 'fp_hit': 10, 'tn_hit': 18, 'fn_hit': 0}, 1: {'tp_hit': 8, 'fp_hit': 0, 'tn_hit': 93, 'fn_hit': 7}, 2: {'tp_hit': 10, 'fp_hit': 0, 'tn_hit': 95, 'fn_hit': 3}}, 'checkpoint': 180} \n",
      "\n",
      "\n",
      "{'accuracy': 0.9444444444444444, 'mean_square_error': 0.16099852457390473, 'categorical_crossentropy': 0.3358454174465603, 'essential_metrics': {0: {'tp_hit': 80, 'fp_hit': 9, 'tn_hit': 19, 'fn_hit': 0}, 1: {'tp_hit': 9, 'fp_hit': 0, 'tn_hit': 93, 'fn_hit': 6}, 2: {'tp_hit': 10, 'fp_hit': 0, 'tn_hit': 95, 'fn_hit': 3}}, 'checkpoint': 190} \n",
      "\n",
      "\n",
      "{'accuracy': 0.9444444444444444, 'mean_square_error': 0.16099852457390473, 'categorical_crossentropy': 0.3358454174465603, 'essential_metrics': {0: {'tp_hit': 80, 'fp_hit': 9, 'tn_hit': 19, 'fn_hit': 0}, 1: {'tp_hit': 9, 'fp_hit': 0, 'tn_hit': 93, 'fn_hit': 6}, 2: {'tp_hit': 10, 'fp_hit': 0, 'tn_hit': 95, 'fn_hit': 3}}, 'checkpoint': 200} \n",
      "\n",
      "\n"
     ]
    }
   ],
   "source": [
    "for checkpoint in checkpoints:\n",
    "    print(checkpoint, '\\n\\n')"
   ]
  },
  {
   "cell_type": "code",
   "execution_count": 14,
   "metadata": {},
   "outputs": [
    {
     "name": "stdout",
     "output_type": "stream",
     "text": [
      "Layer 1\n",
      "Neuron 0: weights:\n",
      "[-0.45538282  0.9477137   0.68101853  0.12653664 -0.25940403]\n",
      " bias: -0.5600071549415588\n",
      "\n",
      "Neuron 1: weights:\n",
      "[ 0.6822399  -1.2655224  -0.70064515 -0.01776098  0.15826713]\n",
      " bias: 0.6915244460105896\n",
      "\n",
      "Neuron 2: weights:\n",
      "[-0.18278934  0.81103414  0.19711283 -0.88953125 -0.84549695]\n",
      " bias: 0.8199494481086731\n",
      "\n",
      "Neuron 3: weights:\n",
      "[-0.44973844  0.66272724  0.39195773 -0.4211669  -0.6049274 ]\n",
      " bias: 0.1761031299829483\n",
      "\n",
      "$\n",
      "Layer 2\n",
      "Neuron 0: weights:\n",
      "[-0.8837845   0.7107428   1.133387    0.42767522]\n",
      " bias: 0.11614055931568146\n",
      "\n",
      "Neuron 1: weights:\n",
      "[ 1.4333309  -1.9430803   0.44413507  0.79514164]\n",
      " bias: -0.5008414387702942\n",
      "\n",
      "Neuron 2: weights:\n",
      "[-0.5467841  1.1122684 -1.6844175 -1.1218227]\n",
      " bias: 0.5234216451644897\n",
      "\n",
      "$\n",
      "\n"
     ]
    }
   ],
   "source": [
    "print(model)"
   ]
  },
  {
   "cell_type": "code",
   "execution_count": null,
   "metadata": {},
   "outputs": [],
   "source": []
  }
 ],
 "metadata": {
  "kernelspec": {
   "display_name": "Python 3",
   "language": "python",
   "name": "python3"
  },
  "language_info": {
   "codemirror_mode": {
    "name": "ipython",
    "version": 3
   },
   "file_extension": ".py",
   "mimetype": "text/x-python",
   "name": "python",
   "nbconvert_exporter": "python",
   "pygments_lexer": "ipython3",
   "version": "3.6.12"
  }
 },
 "nbformat": 4,
 "nbformat_minor": 2
}
