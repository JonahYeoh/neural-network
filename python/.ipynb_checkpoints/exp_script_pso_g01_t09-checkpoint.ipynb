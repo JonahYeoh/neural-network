{
 "cells": [
  {
   "cell_type": "code",
   "execution_count": 1,
   "metadata": {},
   "outputs": [],
   "source": [
    "# dependency\n",
    "import numpy as np\n",
    "import pandas as pd\n",
    "import copy\n",
    "import math\n",
    "import sys\n",
    "import os\n",
    "from activations import relu, leaky_relu, sigmoid, tanh, softmax, d_sigmoid, d_relu\n",
    "from initializers import glorot_uniform, random_normal, random_uniform\n",
    "from regularizers import l1_regularizer, l2_regularizer\n",
    "from utility import trim_tail, multiply, subtract, get_nparams, one_hot_encoding, get_data\n",
    "from metrics import MSE, CCE, ACC, PRECISION, RECALL, essential_metrics, wondering_penalty, close_gap_penalty\n",
    "from pso import PSO\n",
    "from ga import GA\n",
    "from nn import Network\n",
    "from layer import DenseLayer\n",
    "from scalers import MinMaxScaler, StandardScaler"
   ]
  },
  {
   "cell_type": "code",
   "execution_count": 2,
   "metadata": {},
   "outputs": [],
   "source": [
    "# reference\n",
    "metrics_fn_dict = dict()\n",
    "metrics_fn_dict['accuracy'] = ACC\n",
    "metrics_fn_dict['categorical_crossentropy'] = CCE\n",
    "metrics_fn_dict['mean_square_error'] = MSE\n",
    "metrics_fn_dict['precision'] = PRECISION\n",
    "metrics_fn_dict['recall'] = RECALL\n",
    "metrics_fn_dict['essential_metrics'] = essential_metrics"
   ]
  },
  {
   "cell_type": "code",
   "execution_count": 3,
   "metadata": {},
   "outputs": [],
   "source": [
    "# model\n",
    "model = Network(5, lr = None)\n",
    "model.add_layer(DenseLayer(1, 4, True, afn=relu, dafn=None, rfn=None))\n",
    "model.add_layer(DenseLayer(2, 3, True, afn=softmax, dafn=None, rfn=None))"
   ]
  },
  {
   "cell_type": "code",
   "execution_count": 4,
   "metadata": {},
   "outputs": [
    {
     "name": "stdout",
     "output_type": "stream",
     "text": [
      "see one see two 2 0.5\n"
     ]
    }
   ],
   "source": [
    "pso = PSO(dict(m = 200,\n",
    "    weight_constraint = [-3, 3], \n",
    "    velocity_constraint = [-0.1, 0.1],\n",
    "    c1 = [0.5, 2],\n",
    "    c2 = [0.5, 2],\n",
    "    w = [0.5, 1.6],\n",
    "    w_decay = 0.95,\n",
    "    scale_hyperparameter = False,\n",
    "    regularizer = l1_regularizer,\n",
    "    mask = False))"
   ]
  },
  {
   "cell_type": "code",
   "execution_count": 5,
   "metadata": {},
   "outputs": [
    {
     "name": "stdout",
     "output_type": "stream",
     "text": [
      "building layer 1 with 5\n",
      "24\n",
      "building layer 2 with 4\n",
      "15\n"
     ]
    }
   ],
   "source": [
    "model.compile(loss_fn = 'categorical_crossentropy', optimizer = pso, \\\n",
    "    metrics = ['accuracy', 'mean_square_error', 'categorical_crossentropy'])"
   ]
  },
  {
   "cell_type": "code",
   "execution_count": 6,
   "metadata": {},
   "outputs": [
    {
     "name": "stdout",
     "output_type": "stream",
     "text": [
      "<class 'pandas.core.frame.DataFrame'>\n",
      "RangeIndex: 107 entries, 0 to 106\n",
      "Data columns (total 6 columns):\n",
      " #   Column  Non-Null Count  Dtype  \n",
      "---  ------  --------------  -----  \n",
      " 0   f1      107 non-null    float32\n",
      " 1   f2      107 non-null    float32\n",
      " 2   f3      107 non-null    float32\n",
      " 3   f4      107 non-null    float32\n",
      " 4   f5      107 non-null    float32\n",
      " 5   label   107 non-null    float32\n",
      "dtypes: float32(6)\n",
      "memory usage: 2.6 KB\n",
      "None\n",
      "<class 'pandas.core.frame.DataFrame'>\n",
      "RangeIndex: 108 entries, 0 to 107\n",
      "Data columns (total 6 columns):\n",
      " #   Column  Non-Null Count  Dtype  \n",
      "---  ------  --------------  -----  \n",
      " 0   f1      108 non-null    float32\n",
      " 1   f2      108 non-null    float32\n",
      " 2   f3      108 non-null    float32\n",
      " 3   f4      108 non-null    float32\n",
      " 4   f5      108 non-null    float32\n",
      " 5   label   108 non-null    float32\n",
      "dtypes: float32(6)\n",
      "memory usage: 2.7 KB\n",
      "None\n"
     ]
    }
   ],
   "source": [
    "# data loading\n",
    "DATA = os.path.join('c:\\\\Users\\\\tcumi\\\\github_repo\\\\neural-network\\\\', 'dataset')\n",
    "GROUP = 3\n",
    "COLUMNS = ['f1', 'f2', 'f3', 'f4', 'f5', 'label']\n",
    "N_CLASS = 3\n",
    "EPOCHS = 500\n",
    "train_dir, test_dir = \"..//dataset//training_data{}.txt\".format(GROUP), \"..//dataset//testing_data{}.txt\".format(GROUP)\n",
    "train, test = get_data(DATA, train_dir, COLUMNS), get_data(DATA, test_dir, COLUMNS)\n",
    "# shuffle\n",
    "train, test = train.sample(frac=1), test.sample(frac=1)\n",
    "x_train, y_train = train.drop('label', axis=1), train['label']\n",
    "x_test, y_test = test.drop('label', axis=1), test['label']"
   ]
  },
  {
   "cell_type": "code",
   "execution_count": 7,
   "metadata": {},
   "outputs": [],
   "source": [
    "# data scaling and encoding\n",
    "scaler = StandardScaler(['f1', 'f2', 'f3', 'f4', 'f5'])\n",
    "scaler.fit(x_train)\n",
    "x_train = scaler.transform(x_train)\n",
    "x_test = scaler.transform(x_test)\n",
    "y_train = one_hot_encoding(y_train, N_CLASS)\n",
    "y_test = one_hot_encoding(y_test, N_CLASS)"
   ]
  },
  {
   "cell_type": "code",
   "execution_count": 8,
   "metadata": {
    "tags": [
     "outputPrepend"
    ]
   },
   "outputs": [
    {
     "name": "stdout",
     "output_type": "stream",
     "text": [
      "Checkpoint 50, Accuracy: 0.9320987654320988, Loss: 0.21851488395973487\n",
      "Checkpoint 100, Accuracy: 0.9629629629629629, Loss: 0.1240368507526539\n",
      "Checkpoint 150, Accuracy: 0.9629629629629629, Loss: 0.12079303352921097\n",
      "Checkpoint 200, Accuracy: 0.9753086419753086, Loss: 0.08969547130443432\n",
      "Checkpoint 250, Accuracy: 0.9691358024691358, Loss: 0.09375086537113896\n",
      "Checkpoint 300, Accuracy: 0.9753086419753086, Loss: 0.08508505644621672\n",
      "Checkpoint 350, Accuracy: 0.9691358024691358, Loss: 0.1094342690927011\n",
      "Checkpoint 400, Accuracy: 0.9691358024691358, Loss: 0.08821113021285445\n",
      "Checkpoint 450, Accuracy: 0.9814814814814815, Loss: 0.07991495838871708\n",
      "Checkpoint 500, Accuracy: 0.9629629629629629, Loss: 0.09236228907549823\n"
     ]
    }
   ],
   "source": [
    "# learning phase\n",
    "breakpoint = 50\n",
    "checkpoints = list()\n",
    "history = list()\n",
    "for century in range(0, EPOCHS, breakpoint):\n",
    "    sub_history = model.fit(x_train, y_train, breakpoint, verbose = 0)\n",
    "    score = model.evaluate(x_test, y_test, False, verbose = 0)\n",
    "    print('Checkpoint {}, Accuracy: {}, Loss: {}'.format(century+breakpoint, score['accuracy'], score[model.loss_fn]))\n",
    "    score['checkpoint'] = century + breakpoint\n",
    "    checkpoints.append(score)\n",
    "    history.extend(sub_history)\n",
    "    itr = century + breakpoint\n",
    "    model.optimizer.c1 = np.max([model.optimizer.C1[1] - ((model.optimizer.C1[1] - model.optimizer.C1[0]) * itr / EPOCHS), model.optimizer.C1[0]])\n",
    "    model.optimizer.c2 = np.min([model.optimizer.C2[0] + ((model.optimizer.C2[1] - model.optimizer.C2[0]) * itr / EPOCHS), model.optimizer.C2[1]])\n",
    "    model.optimizer.w = np.max([model.optimizer.w * model.optimizer.W_Decay, model.optimizer.W[0]])\n"
   ]
  },
  {
   "cell_type": "code",
   "execution_count": 9,
   "metadata": {},
   "outputs": [],
   "source": [
    "import matplotlib.pyplot as plt\n",
    "\n",
    "def draw_plot(x, y_list, x_label=None, y_label=None, legend=None, title=None):\n",
    "    fig, ax = plt.subplots(figsize=(12,5))\n",
    "    for xi, yi in zip(x, y_list):\n",
    "        ax.plot(xi, yi)\n",
    "    if x_label is not None and y_label is not None:\n",
    "        ax.set(xlabel=x_label, ylabel=y_label, title='{} VS {}'.format(x_label, y_label))\n",
    "    if legend is not None:\n",
    "        ax.legend(legend)\n",
    "    ax.grid()\n",
    "    plt.show()"
   ]
  },
  {
   "cell_type": "code",
   "execution_count": 10,
   "metadata": {},
   "outputs": [
    {
     "name": "stdout",
     "output_type": "stream",
     "text": [
      "[1. 0. 0.] <-> [9.9820352e-01 1.7301782e-03 6.6232853e-05]\n",
      "[0. 0. 1.] <-> [8.2135684e-04 2.2391108e-14 9.9917859e-01]\n",
      "[1. 0. 0.] <-> [9.994506e-01 1.645663e-05 5.328799e-04]\n",
      "[1. 0. 0.] <-> [8.4073508e-01 7.7557943e-06 1.5925723e-01]\n",
      "[1. 0. 0.] <-> [9.5904088e-01 1.5578061e-07 4.0958945e-02]\n",
      "[0. 0. 1.] <-> [5.5226511e-01 2.7911409e-09 4.4773489e-01]\n",
      "[1. 0. 0.] <-> [9.9729055e-01 2.6924494e-03 1.6970347e-05]\n",
      "[1. 0. 0.] <-> [9.9790299e-01 2.0943698e-03 2.6123357e-06]\n",
      "[1. 0. 0.] <-> [9.9586618e-01 3.9467188e-03 1.8713776e-04]\n",
      "[1. 0. 0.] <-> [9.9349505e-01 2.1888313e-04 6.2861061e-03]\n",
      "[0. 0. 1.] <-> [2.3207424e-02 1.8986082e-08 9.7679263e-01]\n",
      "[1. 0. 0.] <-> [9.9956352e-01 9.7760440e-06 4.2674848e-04]\n",
      "[1. 0. 0.] <-> [9.9461490e-01 5.3432607e-03 4.1882573e-05]\n",
      "[0. 0. 1.] <-> [1.2920372e-02 2.2445194e-07 9.8707938e-01]\n",
      "[1. 0. 0.] <-> [9.9962640e-01 2.5611673e-04 1.1748870e-04]\n",
      "[1. 0. 0.] <-> [9.0549070e-01 1.5006252e-06 9.4507769e-02]\n",
      "[1. 0. 0.] <-> [9.9807906e-01 1.5172267e-03 4.0371789e-04]\n",
      "[1. 0. 0.] <-> [9.948749e-01 4.171376e-03 9.537804e-04]\n",
      "[1. 0. 0.] <-> [9.9931943e-01 4.6613370e-04 2.1443336e-04]\n",
      "[0. 0. 1.] <-> [1.6453952e-01 6.7689932e-08 8.3546036e-01]\n",
      "[0. 1. 0.] <-> [6.3354671e-01 3.6645335e-01 9.1371062e-09]\n",
      "[0. 0. 1.] <-> [5.6053190e-03 3.3447106e-15 9.9439466e-01]\n",
      "[1. 0. 0.] <-> [7.8795844e-01 2.1204010e-01 1.4423017e-06]\n",
      "[0. 1. 0.] <-> [1.0689848e-02 9.8931015e-01 9.4190489e-10]\n",
      "[1. 0. 0.] <-> [9.805547e-01 9.919677e-08 1.944515e-02]\n",
      "[0. 0. 1.] <-> [3.6234442e-02 4.0473246e-15 9.6376562e-01]\n",
      "[1. 0. 0.] <-> [9.8908782e-01 1.1420715e-04 1.0797938e-02]\n",
      "[0. 1. 0.] <-> [1.0617015e-02 9.8938292e-01 8.1768321e-11]\n",
      "[1. 0. 0.] <-> [0.98141575 0.00749931 0.01108492]\n",
      "[0. 0. 1.] <-> [1.8202672e-12 1.5422012e-18 1.0000000e+00]\n",
      "[1. 0. 0.] <-> [3.4568593e-01 1.2685914e-05 6.5430135e-01]\n",
      "[1. 0. 0.] <-> [9.9886036e-01 3.6027035e-05 1.1035738e-03]\n",
      "[1. 0. 0.] <-> [0.9914948  0.00174767 0.00675756]\n",
      "[1. 0. 0.] <-> [9.9587870e-01 6.7174225e-04 3.4496034e-03]\n",
      "[1. 0. 0.] <-> [9.9976259e-01 1.5399033e-04 8.3454928e-05]\n",
      "[1. 0. 0.] <-> [9.9934012e-01 5.5093089e-05 6.0483895e-04]\n",
      "[1. 0. 0.] <-> [7.9279488e-01 2.0720142e-01 3.6663491e-06]\n",
      "[1. 0. 0.] <-> [9.8412460e-01 4.7551444e-07 1.5874976e-02]\n",
      "[0. 0. 1.] <-> [1.9483274e-07 3.1679173e-18 9.9999976e-01]\n",
      "[1. 0. 0.] <-> [9.9741435e-01 1.7728655e-03 8.1281335e-04]\n",
      "[1. 0. 0.] <-> [9.8249626e-01 1.7278118e-02 2.2552727e-04]\n",
      "[1. 0. 0.] <-> [9.9481380e-01 1.2450188e-05 5.1737721e-03]\n",
      "[0. 1. 0.] <-> [3.4040178e-07 9.9999964e-01 2.2038431e-15]\n",
      "[1. 0. 0.] <-> [9.4412899e-01 1.2795351e-04 5.5743072e-02]\n",
      "[0. 1. 0.] <-> [6.4786732e-02 9.3521297e-01 2.0061896e-07]\n",
      "[1. 0. 0.] <-> [9.4951028e-01 5.0421517e-02 6.8267102e-05]\n",
      "[1. 0. 0.] <-> [9.9696594e-01 8.1757701e-04 2.2164497e-03]\n",
      "[0. 0. 1.] <-> [4.2336296e-08 4.0486434e-12 1.0000000e+00]\n",
      "[1. 0. 0.] <-> [9.9844021e-01 1.3465715e-03 2.1312672e-04]\n",
      "[1. 0. 0.] <-> [7.08766699e-01 1.01938465e-04 2.91131467e-01]\n",
      "[1. 0. 0.] <-> [7.9109544e-01 1.5288258e-07 2.0890436e-01]\n",
      "[1. 0. 0.] <-> [9.1426229e-01 8.5696049e-02 4.1663185e-05]\n",
      "[0. 1. 0.] <-> [8.7062986e-16 1.0000000e+00 6.7795737e-29]\n",
      "[1. 0. 0.] <-> [9.7656006e-01 2.2681894e-02 7.5806584e-04]\n",
      "[1. 0. 0.] <-> [9.9914885e-01 2.4582632e-04 6.0526724e-04]\n",
      "[0. 1. 0.] <-> [1.0366142e-06 9.9999893e-01 1.1855785e-13]\n",
      "[1. 0. 0.] <-> [9.9747157e-01 2.5732082e-04 2.2710888e-03]\n",
      "[1. 0. 0.] <-> [9.9927753e-01 2.6316204e-04 4.5938778e-04]\n",
      "[0. 1. 0.] <-> [9.037576e-04 9.990963e-01 6.112184e-10]\n",
      "[1. 0. 0.] <-> [9.8923165e-01 8.7696108e-06 1.0759611e-02]\n",
      "[1. 0. 0.] <-> [6.5165478e-01 3.4829602e-01 4.9151869e-05]\n",
      "[0. 1. 0.] <-> [9.4139405e-02 9.0586060e-01 2.9857750e-09]\n",
      "[1. 0. 0.] <-> [3.5719299e-01 6.4280438e-01 2.7099406e-06]\n",
      "[0. 0. 1.] <-> [1.3677904e-04 1.8769957e-17 9.9986315e-01]\n",
      "[0. 0. 1.] <-> [9.6258946e-02 1.3478616e-13 9.0374112e-01]\n",
      "[1. 0. 0.] <-> [9.9735814e-01 2.3125017e-03 3.2938394e-04]\n",
      "[1. 0. 0.] <-> [9.9812716e-01 1.8060944e-03 6.6740409e-05]\n",
      "[1. 0. 0.] <-> [9.7034228e-01 1.0152828e-06 2.9656630e-02]\n",
      "[1. 0. 0.] <-> [0.9537425  0.03676693 0.00949053]\n",
      "[0. 0. 1.] <-> [6.3681918e-01 3.3078518e-06 3.6317745e-01]\n",
      "[0. 1. 0.] <-> [6.9195646e-15 1.0000000e+00 1.4923032e-25]\n",
      "[1. 0. 0.] <-> [9.9883622e-01 1.1669978e-05 1.1520899e-03]\n",
      "[1. 0. 0.] <-> [9.8972845e-01 8.8597682e-07 1.0270599e-02]\n",
      "[1. 0. 0.] <-> [9.8963857e-01 1.0348179e-02 1.3167724e-05]\n",
      "[1. 0. 0.] <-> [8.2179022e-01 1.7814644e-01 6.3262443e-05]\n",
      "[1. 0. 0.] <-> [9.991984e-01 6.180282e-04 1.835304e-04]\n",
      "[1. 0. 0.] <-> [9.901787e-01 1.592464e-05 9.805364e-03]\n",
      "[1. 0. 0.] <-> [0.9457335  0.05281273 0.00145381]\n",
      "[1. 0. 0.] <-> [9.9855536e-01 2.2493896e-05 1.4221048e-03]\n",
      "[1. 0. 0.] <-> [9.9711239e-01 2.8476787e-03 3.9973616e-05]\n",
      "[1. 0. 0.] <-> [9.9891758e-01 1.8330864e-04 8.9920062e-04]\n",
      "[1. 0. 0.] <-> [9.9790478e-01 4.7208174e-05 2.0479728e-03]\n",
      "[1. 0. 0.] <-> [2.8992584e-01 7.1007401e-01 7.7203779e-08]\n",
      "[0. 1. 0.] <-> [2.3744828e-09 1.0000000e+00 1.2422753e-17]\n",
      "[1. 0. 0.] <-> [9.453965e-01 5.457853e-02 2.499982e-05]\n",
      "[1. 0. 0.] <-> [9.9248767e-01 7.4890107e-03 2.3271868e-05]\n",
      "[1. 0. 0.] <-> [9.6299255e-01 1.1345883e-04 3.6894068e-02]\n",
      "[0. 1. 0.] <-> [5.0756355e-13 1.0000000e+00 9.4415556e-23]\n",
      "[1. 0. 0.] <-> [9.5960075e-01 1.4073520e-04 4.0258545e-02]\n",
      "[1. 0. 0.] <-> [9.990069e-01 8.593894e-07 9.923144e-04]\n",
      "[0. 1. 0.] <-> [4.6998047e-20 1.0000000e+00 1.1310225e-32]\n",
      "[0. 1. 0.] <-> [3.0035939e-19 1.0000000e+00 1.5340345e-32]\n",
      "[1. 0. 0.] <-> [9.988593e-01 3.473834e-04 7.933381e-04]\n",
      "[1. 0. 0.] <-> [9.9925655e-01 2.9445542e-05 7.1398623e-04]\n",
      "[1. 0. 0.] <-> [9.9950373e-01 4.3449408e-04 6.1698258e-05]\n",
      "[1. 0. 0.] <-> [9.7419214e-01 1.3986939e-06 2.5806390e-02]\n",
      "[1. 0. 0.] <-> [9.9683666e-01 1.7835637e-05 3.1454896e-03]\n",
      "[1. 0. 0.] <-> [9.955100e-01 7.760362e-05 4.412399e-03]\n",
      "[1. 0. 0.] <-> [8.7128848e-01 1.2864174e-01 6.9754140e-05]\n",
      "[1. 0. 0.] <-> [9.9859089e-01 2.8629744e-04 1.1228267e-03]\n",
      "[1. 0. 0.] <-> [9.9721515e-01 2.7548200e-03 2.9910347e-05]\n",
      "[1. 0. 0.] <-> [9.9873668e-01 7.4495614e-04 5.1841722e-04]\n",
      "[1. 0. 0.] <-> [9.9913174e-01 8.4878091e-04 1.9557858e-05]\n",
      "[1. 0. 0.] <-> [9.9825984e-01 3.8420403e-05 1.7017577e-03]\n",
      "[0. 0. 1.] <-> [1.4387535e-02 6.1163563e-15 9.8561251e-01]\n",
      "[1. 0. 0.] <-> [9.9653178e-01 3.4246470e-03 4.3560205e-05]\n",
      "[0. 1. 0.] <-> [3.1298563e-01 6.8701434e-01 2.6669163e-08]\n",
      "[0. 1. 0.] <-> [1.1211269e-02 9.8878878e-01 2.0270972e-13]\n",
      "{'accuracy': 0.9629629629629629, 'mean_square_error': 0.05661460477341303, 'categorical_crossentropy': 0.09236228907549823, 'essential_metrics': {0: {'tp_hit': 75, 'fp_hit': 3, 'tn_hit': 27, 'fn_hit': 3}, 1: {'tp_hit': 15, 'fp_hit': 2, 'tn_hit': 90, 'fn_hit': 1}, 2: {'tp_hit': 12, 'fp_hit': 1, 'tn_hit': 93, 'fn_hit': 2}}}\n"
     ]
    }
   ],
   "source": [
    "# recall phase\n",
    "score = model.evaluate(x_test, y_test, False)\n",
    "print(score)"
   ]
  },
  {
   "cell_type": "code",
   "execution_count": 11,
   "metadata": {},
   "outputs": [
    {
     "data": {
      "image/png": "[encoded data removed]",
      "text/plain": [
       "<Figure size 864x360 with 1 Axes>"
      ]
     },
     "metadata": {
      "needs_background": "light"
     },
     "output_type": "display_data"
    },
    {
     "data": {
      "image/png": "[encoded data removed]",
      "text/plain": [
       "<Figure size 864x360 with 1 Axes>"
      ]
     },
     "metadata": {
      "needs_background": "light"
     },
     "output_type": "display_data"
    }
   ],
   "source": [
    "draw_plot(x = [[i for i in range(len(history))], [(i+1)*breakpoint for i in range(len(checkpoints))]], y_list = [history, [ ckp[model.loss_fn] for ckp in checkpoints ]], x_label = 'Epochs', \\\n",
    "    y_label = model.loss_fn, legend=['train', 'test'])\n",
    "acc = [ ckp['accuracy'] for ckp in checkpoints ]\n",
    "draw_plot(x = [[(i+1)*breakpoint for i in range(len(checkpoints))]], y_list = [acc], x_label = 'Checkpoints', \\\n",
    "    y_label = 'accuracy')"
   ]
  },
  {
   "cell_type": "code",
   "execution_count": 12,
   "metadata": {},
   "outputs": [
    {
     "name": "stdout",
     "output_type": "stream",
     "text": [
      "{'accuracy': 0.9320987654320988, 'mean_square_error': 0.13811804344903938, 'categorical_crossentropy': 0.21851488395973487, 'essential_metrics': {0: {'tp_hit': 74, 'fp_hit': 7, 'tn_hit': 23, 'fn_hit': 4}, 1: {'tp_hit': 15, 'fp_hit': 4, 'tn_hit': 88, 'fn_hit': 1}, 2: {'tp_hit': 8, 'fp_hit': 0, 'tn_hit': 94, 'fn_hit': 6}}, 'checkpoint': 50} \n",
      "\n",
      "\n",
      "{'accuracy': 0.9629629629629629, 'mean_square_error': 0.07273139274769633, 'categorical_crossentropy': 0.1240368507526539, 'essential_metrics': {0: {'tp_hit': 73, 'fp_hit': 1, 'tn_hit': 29, 'fn_hit': 5}, 1: {'tp_hit': 16, 'fp_hit': 4, 'tn_hit': 88, 'fn_hit': 0}, 2: {'tp_hit': 13, 'fp_hit': 1, 'tn_hit': 93, 'fn_hit': 1}}, 'checkpoint': 100} \n",
      "\n",
      "\n",
      "{'accuracy': 0.9629629629629629, 'mean_square_error': 0.07471561833153768, 'categorical_crossentropy': 0.12079303352921097, 'essential_metrics': {0: {'tp_hit': 75, 'fp_hit': 3, 'tn_hit': 27, 'fn_hit': 3}, 1: {'tp_hit': 15, 'fp_hit': 2, 'tn_hit': 90, 'fn_hit': 1}, 2: {'tp_hit': 12, 'fp_hit': 1, 'tn_hit': 93, 'fn_hit': 2}}, 'checkpoint': 150} \n",
      "\n",
      "\n",
      "{'accuracy': 0.9753086419753086, 'mean_square_error': 0.05321546672895717, 'categorical_crossentropy': 0.08969547130443432, 'essential_metrics': {0: {'tp_hit': 75, 'fp_hit': 1, 'tn_hit': 29, 'fn_hit': 3}, 1: {'tp_hit': 16, 'fp_hit': 2, 'tn_hit': 90, 'fn_hit': 0}, 2: {'tp_hit': 13, 'fp_hit': 1, 'tn_hit': 93, 'fn_hit': 1}}, 'checkpoint': 200} \n",
      "\n",
      "\n",
      "{'accuracy': 0.9691358024691358, 'mean_square_error': 0.05488047977226399, 'categorical_crossentropy': 0.09375086537113896, 'essential_metrics': {0: {'tp_hit': 75, 'fp_hit': 2, 'tn_hit': 28, 'fn_hit': 3}, 1: {'tp_hit': 15, 'fp_hit': 2, 'tn_hit': 90, 'fn_hit': 1}, 2: {'tp_hit': 13, 'fp_hit': 1, 'tn_hit': 93, 'fn_hit': 1}}, 'checkpoint': 250} \n",
      "\n",
      "\n",
      "{'accuracy': 0.9753086419753086, 'mean_square_error': 0.04619464091998097, 'categorical_crossentropy': 0.08508505644621672, 'essential_metrics': {0: {'tp_hit': 75, 'fp_hit': 1, 'tn_hit': 29, 'fn_hit': 3}, 1: {'tp_hit': 16, 'fp_hit': 2, 'tn_hit': 90, 'fn_hit': 0}, 2: {'tp_hit': 13, 'fp_hit': 1, 'tn_hit': 93, 'fn_hit': 1}}, 'checkpoint': 300} \n",
      "\n",
      "\n",
      "{'accuracy': 0.9691358024691358, 'mean_square_error': 0.06716384667663307, 'categorical_crossentropy': 0.1094342690927011, 'essential_metrics': {0: {'tp_hit': 76, 'fp_hit': 3, 'tn_hit': 27, 'fn_hit': 2}, 1: {'tp_hit': 15, 'fp_hit': 2, 'tn_hit': 90, 'fn_hit': 1}, 2: {'tp_hit': 12, 'fp_hit': 0, 'tn_hit': 94, 'fn_hit': 2}}, 'checkpoint': 350} \n",
      "\n",
      "\n",
      "{'accuracy': 0.9691358024691358, 'mean_square_error': 0.052911170676781624, 'categorical_crossentropy': 0.08821113021285445, 'essential_metrics': {0: {'tp_hit': 75, 'fp_hit': 2, 'tn_hit': 28, 'fn_hit': 3}, 1: {'tp_hit': 15, 'fp_hit': 2, 'tn_hit': 90, 'fn_hit': 1}, 2: {'tp_hit': 13, 'fp_hit': 1, 'tn_hit': 93, 'fn_hit': 1}}, 'checkpoint': 400} \n",
      "\n",
      "\n",
      "{'accuracy': 0.9814814814814815, 'mean_square_error': 0.04400736769869176, 'categorical_crossentropy': 0.07991495838871708, 'essential_metrics': {0: {'tp_hit': 76, 'fp_hit': 1, 'tn_hit': 29, 'fn_hit': 2}, 1: {'tp_hit': 16, 'fp_hit': 2, 'tn_hit': 90, 'fn_hit': 0}, 2: {'tp_hit': 13, 'fp_hit': 0, 'tn_hit': 94, 'fn_hit': 1}}, 'checkpoint': 450} \n",
      "\n",
      "\n",
      "{'accuracy': 0.9629629629629629, 'mean_square_error': 0.05661460477341303, 'categorical_crossentropy': 0.09236228907549823, 'essential_metrics': {0: {'tp_hit': 75, 'fp_hit': 3, 'tn_hit': 27, 'fn_hit': 3}, 1: {'tp_hit': 15, 'fp_hit': 2, 'tn_hit': 90, 'fn_hit': 1}, 2: {'tp_hit': 12, 'fp_hit': 1, 'tn_hit': 93, 'fn_hit': 2}}, 'checkpoint': 500} \n",
      "\n",
      "\n"
     ]
    }
   ],
   "source": [
    "for checkpoint in checkpoints:\n",
    "    print(checkpoint, '\\n\\n')"
   ]
  },
  {
   "cell_type": "code",
   "execution_count": 13,
   "metadata": {},
   "outputs": [
    {
     "name": "stdout",
     "output_type": "stream",
     "text": [
      "Layer 1\n",
      "Neuron 0: weights:\n",
      "[-0.6562995   0.11845163  0.7668003   0.05685257  1.0499558 ]\n",
      " bias: -1.7367563247680664\n",
      "\n",
      "Neuron 1: weights:\n",
      "[ 0.10682885  0.3427693  -0.07211704 -0.21774472 -0.21938238]\n",
      " bias: 1.0589144229888916\n",
      "\n",
      "Neuron 2: weights:\n",
      "[ 1.0220253  -2.6444273  -1.3267231   0.06307044  0.7790483 ]\n",
      " bias: 0.10226734727621078\n",
      "\n",
      "Neuron 3: weights:\n",
      "[-0.0827148   0.0015486   0.09090059  0.02149758 -0.20022337]\n",
      " bias: -0.08715101331472397\n",
      "\n",
      "$\n",
      "Layer 2\n",
      "Neuron 0: weights:\n",
      "[-1.9587338  -0.08221213  0.30103216  0.00407341]\n",
      " bias: 0.039760179817676544\n",
      "\n",
      "Neuron 1: weights:\n",
      "[ 0.78951406 -0.25233632 -2.1367235   0.08691861]\n",
      " bias: -0.1254560798406601\n",
      "\n",
      "Neuron 2: weights:\n",
      "[ 1.076047   -1.3993485   2.5424063  -0.12553832]\n",
      " bias: -0.07887681573629379\n",
      "\n",
      "$\n",
      "\n"
     ]
    }
   ],
   "source": [
    "print(model)"
   ]
  }
 ],
 "metadata": {
  "kernelspec": {
   "display_name": "Python 3",
   "language": "python",
   "name": "python3"
  },
  "language_info": {
   "codemirror_mode": {
    "name": "ipython",
    "version": 3
   },
   "file_extension": ".py",
   "mimetype": "text/x-python",
   "name": "python",
   "nbconvert_exporter": "python",
   "pygments_lexer": "ipython3",
   "version": "3.6.10"
  }
 },
 "nbformat": 4,
 "nbformat_minor": 2
}
