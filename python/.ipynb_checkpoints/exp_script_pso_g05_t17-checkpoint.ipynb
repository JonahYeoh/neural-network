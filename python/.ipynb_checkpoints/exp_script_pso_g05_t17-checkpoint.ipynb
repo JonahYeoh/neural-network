{
 "cells": [
  {
   "cell_type": "code",
   "execution_count": 1,
   "metadata": {},
   "outputs": [],
   "source": [
    "# dependency\n",
    "import numpy as np\n",
    "import pandas as pd\n",
    "import copy\n",
    "import math\n",
    "import sys\n",
    "import os\n",
    "from activations import relu, leaky_relu, sigmoid, tanh, softmax, d_sigmoid, d_relu\n",
    "from initializers import glorot_uniform, random_normal, random_uniform\n",
    "from regularizers import l1_regularizer, l2_regularizer\n",
    "from utility import trim_tail, multiply, subtract, get_nparams, one_hot_encoding, get_data\n",
    "from metrics import MSE, CCE, ACC, PRECISION, RECALL, essential_metrics, wondering_penalty, close_gap_penalty\n",
    "from pso import PSO\n",
    "from ga import GA\n",
    "from nn import Network\n",
    "from layer import DenseLayer\n",
    "from scalers import MinMaxScaler, StandardScaler"
   ]
  },
  {
   "cell_type": "code",
   "execution_count": 2,
   "metadata": {},
   "outputs": [],
   "source": [
    "# reference\n",
    "metrics_fn_dict = dict()\n",
    "metrics_fn_dict['accuracy'] = ACC\n",
    "metrics_fn_dict['categorical_crossentropy'] = CCE\n",
    "metrics_fn_dict['mean_square_error'] = MSE\n",
    "metrics_fn_dict['precision'] = PRECISION\n",
    "metrics_fn_dict['recall'] = RECALL\n",
    "metrics_fn_dict['essential_metrics'] = essential_metrics"
   ]
  },
  {
   "cell_type": "code",
   "execution_count": 3,
   "metadata": {},
   "outputs": [],
   "source": [
    "# model\n",
    "model = Network(5, lr = None)\n",
    "model.add_layer(DenseLayer(1, 4, True, afn=sigmoid, dafn=None, rfn=None))\n",
    "model.add_layer(DenseLayer(2, 3, True, afn=softmax, dafn=None, rfn=None))"
   ]
  },
  {
   "cell_type": "code",
   "execution_count": 4,
   "metadata": {},
   "outputs": [
    {
     "name": "stdout",
     "output_type": "stream",
     "text": [
      "see one see two 2 2\n"
     ]
    }
   ],
   "source": [
    "pso = PSO(dict(m = 200,\n",
    "    weight_constraint = [-3, 3], \n",
    "    velocity_constraint = [-0.1, 0.1],\n",
    "    c1 = 2,\n",
    "    c2 = 2,\n",
    "    w = 1.2,\n",
    "    w_decay = 1,\n",
    "    scale_hyperparameter = False,\n",
    "    regularizer = None,\n",
    "    mask = True))"
   ]
  },
  {
   "cell_type": "code",
   "execution_count": 5,
   "metadata": {},
   "outputs": [
    {
     "name": "stdout",
     "output_type": "stream",
     "text": [
      "building layer 1 with 5\n",
      "24\n",
      "building layer 2 with 4\n",
      "15\n"
     ]
    }
   ],
   "source": [
    "model.compile(loss_fn = 'categorical_crossentropy', optimizer = pso, \\\n",
    "    metrics = ['accuracy', 'mean_square_error', 'categorical_crossentropy'])"
   ]
  },
  {
   "cell_type": "code",
   "execution_count": 6,
   "metadata": {},
   "outputs": [
    {
     "name": "stdout",
     "output_type": "stream",
     "text": [
      "<class 'pandas.core.frame.DataFrame'>\n",
      "RangeIndex: 107 entries, 0 to 106\n",
      "Data columns (total 6 columns):\n",
      " #   Column  Non-Null Count  Dtype  \n",
      "---  ------  --------------  -----  \n",
      " 0   f1      107 non-null    float32\n",
      " 1   f2      107 non-null    float32\n",
      " 2   f3      107 non-null    float32\n",
      " 3   f4      107 non-null    float32\n",
      " 4   f5      107 non-null    float32\n",
      " 5   label   107 non-null    float32\n",
      "dtypes: float32(6)\n",
      "memory usage: 2.6 KB\n",
      "None\n",
      "<class 'pandas.core.frame.DataFrame'>\n",
      "RangeIndex: 108 entries, 0 to 107\n",
      "Data columns (total 6 columns):\n",
      " #   Column  Non-Null Count  Dtype  \n",
      "---  ------  --------------  -----  \n",
      " 0   f1      108 non-null    float32\n",
      " 1   f2      108 non-null    float32\n",
      " 2   f3      108 non-null    float32\n",
      " 3   f4      108 non-null    float32\n",
      " 4   f5      108 non-null    float32\n",
      " 5   label   108 non-null    float32\n",
      "dtypes: float32(6)\n",
      "memory usage: 2.7 KB\n",
      "None\n"
     ]
    }
   ],
   "source": [
    "# data loading\n",
    "DATA = os.path.join('c:\\\\Users\\\\tcumi\\\\github_repo\\\\neural-network\\\\', 'dataset')\n",
    "GROUP = 5\n",
    "COLUMNS = ['f1', 'f2', 'f3', 'f4', 'f5', 'label']\n",
    "N_CLASS = 3\n",
    "EPOCHS = 500\n",
    "train_dir, test_dir = \"..//dataset//training_data{}.txt\".format(GROUP), \"..//dataset//testing_data{}.txt\".format(GROUP)\n",
    "train, test = get_data(DATA, train_dir, COLUMNS), get_data(DATA, test_dir, COLUMNS)\n",
    "# shuffle\n",
    "train, test = train.sample(frac=1), test.sample(frac=1)\n",
    "x_train, y_train = train.drop('label', axis=1), train['label']\n",
    "x_test, y_test = test.drop('label', axis=1), test['label']"
   ]
  },
  {
   "cell_type": "code",
   "execution_count": 7,
   "metadata": {},
   "outputs": [],
   "source": [
    "# data scaling and encoding\n",
    "scaler = StandardScaler(['f1', 'f2', 'f3', 'f4', 'f5'])\n",
    "scaler.fit(x_train)\n",
    "x_train = scaler.transform(x_train)\n",
    "x_test = scaler.transform(x_test)\n",
    "y_train = one_hot_encoding(y_train, N_CLASS)\n",
    "y_test = one_hot_encoding(y_test, N_CLASS)"
   ]
  },
  {
   "cell_type": "code",
   "execution_count": 8,
   "metadata": {
    "tags": [
     "outputPrepend"
    ]
   },
   "outputs": [
    {
     "name": "stdout",
     "output_type": "stream",
     "text": [
      "Checkpoint 100, Accuracy: 0.9691358024691358, Loss: 0.15110978373774775\n",
      "Checkpoint 200, Accuracy: 0.9691358024691358, Loss: 0.11190942481712059\n",
      "Checkpoint 300, Accuracy: 0.9691358024691358, Loss: 0.11837674953319409\n",
      "Checkpoint 400, Accuracy: 0.9691358024691358, Loss: 0.11945063979537399\n",
      "Checkpoint 500, Accuracy: 0.9691358024691358, Loss: 0.11897319334524649\n"
     ]
    }
   ],
   "source": [
    "# learning phase\n",
    "breakpoint = 100\n",
    "checkpoints = list()\n",
    "history = list()\n",
    "for century in range(0, EPOCHS, breakpoint):\n",
    "    sub_history = model.fit(x_train, y_train, breakpoint, verbose = 0)\n",
    "    score = model.evaluate(x_test, y_test, False, verbose = 0)\n",
    "    print('Checkpoint {}, Accuracy: {}, Loss: {}'.format(century+breakpoint, score['accuracy'], score[model.loss_fn]))\n",
    "    score['checkpoint'] = century + breakpoint\n",
    "    checkpoints.append(score)\n",
    "    history.extend(sub_history)"
   ]
  },
  {
   "cell_type": "code",
   "execution_count": 9,
   "metadata": {},
   "outputs": [],
   "source": [
    "import matplotlib.pyplot as plt\n",
    "\n",
    "def draw_plot(x, y_list, x_label=None, y_label=None, legend=None, title=None):\n",
    "    fig, ax = plt.subplots(figsize=(12,5))\n",
    "    for xi, yi in zip(x, y_list):\n",
    "        ax.plot(xi, yi)\n",
    "    if x_label is not None and y_label is not None:\n",
    "        ax.set(xlabel=x_label, ylabel=y_label, title='{} VS {}'.format(x_label, y_label))\n",
    "    if legend is not None:\n",
    "        ax.legend(legend)\n",
    "    ax.grid()\n",
    "    plt.show()"
   ]
  },
  {
   "cell_type": "code",
   "execution_count": 10,
   "metadata": {},
   "outputs": [
    {
     "name": "stdout",
     "output_type": "stream",
     "text": [
      "[1. 0. 0.] <-> [0.9935088  0.00275749 0.00373362]\n",
      "[1. 0. 0.] <-> [0.99389946 0.00288068 0.00321984]\n",
      "[1. 0. 0.] <-> [0.9931572  0.00372384 0.00311898]\n",
      "[1. 0. 0.] <-> [0.9935633  0.00307698 0.00335968]\n",
      "[1. 0. 0.] <-> [0.9936777  0.00273128 0.0035911 ]\n",
      "[1. 0. 0.] <-> [0.98710144 0.00269892 0.0101997 ]\n",
      "[0. 1. 0.] <-> [6.8023548e-02 9.3180490e-01 1.7166583e-04]\n",
      "[1. 0. 0.] <-> [0.99324375 0.00318817 0.00356812]\n",
      "[1. 0. 0.] <-> [0.9929508  0.00273269 0.00431661]\n",
      "[0. 0. 1.] <-> [2.4727115e-03 8.0774435e-06 9.9751925e-01]\n",
      "[1. 0. 0.] <-> [0.99268734 0.00260675 0.00470594]\n",
      "[1. 0. 0.] <-> [0.9927583  0.00286137 0.00438036]\n",
      "[1. 0. 0.] <-> [0.9939144  0.0028796  0.00320588]\n",
      "[1. 0. 0.] <-> [0.99351186 0.00333251 0.00315565]\n",
      "[1. 0. 0.] <-> [0.9874035  0.01009435 0.00250207]\n",
      "[0. 0. 1.] <-> [2.4737217e-03 8.0866912e-06 9.9751818e-01]\n",
      "[1. 0. 0.] <-> [0.6245469  0.00178795 0.37366512]\n",
      "[0. 0. 1.] <-> [2.4717904e-03 9.5669529e-06 9.9751866e-01]\n",
      "[1. 0. 0.] <-> [0.99250436 0.00272278 0.00477282]\n",
      "[1. 0. 0.] <-> [0.9913162  0.00261279 0.00607091]\n",
      "[0. 1. 0.] <-> [0.9523922  0.04520809 0.00239962]\n",
      "[1. 0. 0.] <-> [0.98531693 0.00256207 0.01212107]\n",
      "[1. 0. 0.] <-> [0.705198   0.0019767  0.29282528]\n",
      "[1. 0. 0.] <-> [0.9893656  0.00684498 0.00378951]\n",
      "[0. 1. 0.] <-> [2.5683092e-03 9.9742520e-01 6.5007971e-06]\n",
      "[0. 0. 1.] <-> [2.4726244e-03 8.0745640e-06 9.9751931e-01]\n",
      "[1. 0. 0.] <-> [0.9775938  0.00284774 0.01955845]\n",
      "[0. 0. 1.] <-> [2.4724759e-03 8.1910493e-06 9.9751931e-01]\n",
      "[1. 0. 0.] <-> [0.9935469  0.00340497 0.00304817]\n",
      "[1. 0. 0.] <-> [0.9765569  0.00270593 0.02073716]\n",
      "[1. 0. 0.] <-> [0.9927488  0.00317355 0.00407772]\n",
      "[1. 0. 0.] <-> [0.99375015 0.00273658 0.00351331]\n",
      "[1. 0. 0.] <-> [0.99023426 0.00257878 0.0071869 ]\n",
      "[0. 0. 1.] <-> [2.479354e-03 8.091706e-06 9.975126e-01]\n",
      "[1. 0. 0.] <-> [0.9870575  0.00264764 0.01029486]\n",
      "[0. 1. 0.] <-> [5.9697521e-03 9.9401516e-01 1.5117473e-05]\n",
      "[1. 0. 0.] <-> [0.9913521  0.00586538 0.00278252]\n",
      "[1. 0. 0.] <-> [0.9914432  0.00305291 0.00550387]\n",
      "[1. 0. 0.] <-> [0.9896437  0.00772345 0.0026328 ]\n",
      "[1. 0. 0.] <-> [0.99384576 0.00341713 0.00273713]\n",
      "[0. 0. 1.] <-> [2.4927619e-03 8.1333210e-06 9.9749905e-01]\n",
      "[1. 0. 0.] <-> [0.9936301  0.00308031 0.00328958]\n",
      "[1. 0. 0.] <-> [0.9795895  0.00258248 0.01782799]\n",
      "[0. 1. 0.] <-> [2.4727627e-03 9.9752086e-01 6.2587028e-06]\n",
      "[1. 0. 0.] <-> [0.9937158  0.00329728 0.0029868 ]\n",
      "[1. 0. 0.] <-> [0.99285126 0.00344918 0.00369959]\n",
      "[1. 0. 0.] <-> [0.9824463  0.00261454 0.01493914]\n",
      "[1. 0. 0.] <-> [0.96042484 0.00255782 0.03701729]\n",
      "[1. 0. 0.] <-> [0.99366695 0.0027995  0.0035335 ]\n",
      "[0. 0. 1.] <-> [2.4725974e-03 8.0824830e-06 9.9751931e-01]\n",
      "[1. 0. 0.] <-> [0.991856   0.00525716 0.00288694]\n",
      "[1. 0. 0.] <-> [0.9924595  0.0027009  0.00483956]\n",
      "[0. 1. 0.] <-> [1.7295364e-02 9.8266083e-01 4.3772634e-05]\n",
      "[1. 0. 0.] <-> [0.9474467  0.00255467 0.04999854]\n",
      "[1. 0. 0.] <-> [0.99269533 0.00284307 0.00446163]\n",
      "[1. 0. 0.] <-> [0.99371225 0.00281408 0.00347359]\n",
      "[0. 0. 1.] <-> [0.9006241  0.00246617 0.09690979]\n",
      "[0. 0. 1.] <-> [9.9652529e-02 3.0265632e-04 9.0004486e-01]\n",
      "[1. 0. 0.] <-> [0.9936126  0.00309136 0.00329601]\n",
      "[0. 1. 0.] <-> [2.0227662e-01 7.9720813e-01 5.1530777e-04]\n",
      "[0. 0. 1.] <-> [0.8697559  0.00240661 0.12783752]\n",
      "[1. 0. 0.] <-> [0.9125963  0.00247808 0.08492561]\n",
      "[1. 0. 0.] <-> [0.99206936 0.00363672 0.0042939 ]\n",
      "[1. 0. 0.] <-> [0.93624026 0.00253546 0.06122429]\n",
      "[1. 0. 0.] <-> [0.9629866  0.00256475 0.03444866]\n",
      "[1. 0. 0.] <-> [0.9889116  0.00256756 0.00852074]\n",
      "[1. 0. 0.] <-> [0.9633784  0.00256464 0.03405691]\n",
      "[0. 1. 0.] <-> [2.2401842e-01 7.7541679e-01 5.6481111e-04]\n",
      "[0. 0. 1.] <-> [2.4726454e-03 8.0779355e-06 9.9751925e-01]\n",
      "[0. 1. 0.] <-> [2.4726323e-03 9.9752110e-01 6.2583463e-06]\n",
      "[1. 0. 0.] <-> [0.9759409  0.0025669  0.02149221]\n",
      "[1. 0. 0.] <-> [0.99237907 0.00259522 0.00502568]\n",
      "[1. 0. 0.] <-> [0.9918994  0.005287   0.00281361]\n",
      "[1. 0. 0.] <-> [0.98813653 0.00254724 0.00931626]\n",
      "[1. 0. 0.] <-> [0.9903342  0.00271073 0.00695508]\n",
      "[0. 1. 0.] <-> [2.4726288e-03 9.9752110e-01 6.2583163e-06]\n",
      "[1. 0. 0.] <-> [0.9937903  0.00352086 0.00268873]\n",
      "[1. 0. 0.] <-> [0.99379575 0.00299265 0.00321163]\n",
      "[0. 0. 1.] <-> [2.5037383e-03 8.1695662e-06 9.9748814e-01]\n",
      "[1. 0. 0.] <-> [0.9617807  0.03569629 0.00252301]\n",
      "[1. 0. 0.] <-> [0.99248576 0.00462882 0.0028854 ]\n",
      "[1. 0. 0.] <-> [0.9608608  0.03663989 0.00249931]\n",
      "[0. 0. 1.] <-> [2.4794799e-03 8.0922073e-06 9.9751246e-01]\n",
      "[1. 0. 0.] <-> [0.98828065 0.00910545 0.00261389]\n",
      "[1. 0. 0.] <-> [0.9933188  0.00285405 0.00382704]\n",
      "[1. 0. 0.] <-> [0.98623395 0.00268735 0.01107874]\n",
      "[1. 0. 0.] <-> [0.99370366 0.00353702 0.00275923]\n",
      "[0. 1. 0.] <-> [0.56824857 0.43030524 0.00144622]\n",
      "[1. 0. 0.] <-> [0.8075544  0.0022451  0.19020051]\n",
      "[1. 0. 0.] <-> [0.9936783  0.00362795 0.00269386]\n",
      "[1. 0. 0.] <-> [0.9935095  0.00317283 0.0033177 ]\n",
      "[1. 0. 0.] <-> [0.9933296  0.00308013 0.00359031]\n",
      "[0. 1. 0.] <-> [2.4726451e-03 9.9752098e-01 6.2583576e-06]\n",
      "[0. 1. 0.] <-> [2.4726077e-03 9.9752110e-01 6.2582631e-06]\n",
      "[1. 0. 0.] <-> [0.991462   0.0025671  0.00597095]\n",
      "[1. 0. 0.] <-> [0.99409324 0.00304743 0.00285929]\n",
      "[0. 1. 0.] <-> [2.4726123e-03 9.9752110e-01 6.2582749e-06]\n",
      "[1. 0. 0.] <-> [0.9763116  0.00257208 0.02111623]\n",
      "[1. 0. 0.] <-> [0.99380726 0.00319527 0.00299746]\n",
      "[1. 0. 0.] <-> [0.9919443  0.00268695 0.00536871]\n",
      "[0. 1. 0.] <-> [0.70253885 0.29569244 0.0017687 ]\n",
      "[0. 1. 0.] <-> [2.4756710e-03 9.9751806e-01 6.2660847e-06]\n",
      "[1. 0. 0.] <-> [0.6193731  0.00175965 0.37886727]\n",
      "[0. 0. 1.] <-> [2.4770221e-03 8.0861946e-06 9.9751484e-01]\n",
      "[0. 1. 0.] <-> [2.6077826e-03 9.9738556e-01 6.6032853e-06]\n",
      "[1. 0. 0.] <-> [0.9930393  0.00404984 0.00291085]\n",
      "[1. 0. 0.] <-> [0.94202447 0.00253638 0.05543916]\n",
      "[1. 0. 0.] <-> [0.9941689  0.00296434 0.00286677]\n",
      "{'accuracy': 0.9691358024691358, 'mean_square_error': 0.07117314118839217, 'categorical_crossentropy': 0.11897319334524649, 'essential_metrics': {0: {'tp_hit': 76, 'fp_hit': 5, 'tn_hit': 27, 'fn_hit': 0}, 1: {'tp_hit': 14, 'fp_hit': 0, 'tn_hit': 91, 'fn_hit': 3}, 2: {'tp_hit': 13, 'fp_hit': 0, 'tn_hit': 93, 'fn_hit': 2}}}\n"
     ]
    }
   ],
   "source": [
    "# recall phase\n",
    "score = model.evaluate(x_test, y_test, False)\n",
    "print(score)"
   ]
  },
  {
   "cell_type": "code",
   "execution_count": 11,
   "metadata": {},
   "outputs": [
    {
     "data": {
      "image/png": "[encoded data removed]",
      "text/plain": [
       "<Figure size 864x360 with 1 Axes>"
      ]
     },
     "metadata": {
      "needs_background": "light"
     },
     "output_type": "display_data"
    },
    {
     "data": {
      "image/png": "[encoded data removed]",
      "text/plain": [
       "<Figure size 864x360 with 1 Axes>"
      ]
     },
     "metadata": {
      "needs_background": "light"
     },
     "output_type": "display_data"
    }
   ],
   "source": [
    "draw_plot(x = [[i for i in range(len(history))], [(i+1)*breakpoint for i in range(len(checkpoints))]], y_list = [history, [ ckp[model.loss_fn] for ckp in checkpoints ]], x_label = 'Epochs', \\\n",
    "    y_label = model.loss_fn, legend=['train', 'test'])\n",
    "acc = [ ckp['accuracy'] for ckp in checkpoints ]\n",
    "draw_plot(x = [[(i+1)*breakpoint for i in range(len(checkpoints))]], y_list = [acc], x_label = 'Checkpoints', \\\n",
    "    y_label = 'accuracy')"
   ]
  },
  {
   "cell_type": "code",
   "execution_count": 12,
   "metadata": {},
   "outputs": [
    {
     "name": "stdout",
     "output_type": "stream",
     "text": [
      "{'accuracy': 0.9691358024691358, 'mean_square_error': 0.06816576623222409, 'categorical_crossentropy': 0.15110978373774775, 'essential_metrics': {0: {'tp_hit': 75, 'fp_hit': 4, 'tn_hit': 28, 'fn_hit': 1}, 1: {'tp_hit': 16, 'fp_hit': 0, 'tn_hit': 91, 'fn_hit': 1}, 2: {'tp_hit': 12, 'fp_hit': 1, 'tn_hit': 92, 'fn_hit': 3}}, 'checkpoint': 100} \n",
      "\n",
      "\n",
      "{'accuracy': 0.9691358024691358, 'mean_square_error': 0.06549620421670113, 'categorical_crossentropy': 0.11190942481712059, 'essential_metrics': {0: {'tp_hit': 76, 'fp_hit': 5, 'tn_hit': 27, 'fn_hit': 0}, 1: {'tp_hit': 14, 'fp_hit': 0, 'tn_hit': 91, 'fn_hit': 3}, 2: {'tp_hit': 13, 'fp_hit': 0, 'tn_hit': 93, 'fn_hit': 2}}, 'checkpoint': 200} \n",
      "\n",
      "\n",
      "{'accuracy': 0.9691358024691358, 'mean_square_error': 0.07074109706664518, 'categorical_crossentropy': 0.11837674953319409, 'essential_metrics': {0: {'tp_hit': 76, 'fp_hit': 5, 'tn_hit': 27, 'fn_hit': 0}, 1: {'tp_hit': 14, 'fp_hit': 0, 'tn_hit': 91, 'fn_hit': 3}, 2: {'tp_hit': 13, 'fp_hit': 0, 'tn_hit': 93, 'fn_hit': 2}}, 'checkpoint': 300} \n",
      "\n",
      "\n",
      "{'accuracy': 0.9691358024691358, 'mean_square_error': 0.07128808746996501, 'categorical_crossentropy': 0.11945063979537399, 'essential_metrics': {0: {'tp_hit': 76, 'fp_hit': 5, 'tn_hit': 27, 'fn_hit': 0}, 1: {'tp_hit': 14, 'fp_hit': 0, 'tn_hit': 91, 'fn_hit': 3}, 2: {'tp_hit': 13, 'fp_hit': 0, 'tn_hit': 93, 'fn_hit': 2}}, 'checkpoint': 400} \n",
      "\n",
      "\n",
      "{'accuracy': 0.9691358024691358, 'mean_square_error': 0.07117314118839217, 'categorical_crossentropy': 0.11897319334524649, 'essential_metrics': {0: {'tp_hit': 76, 'fp_hit': 5, 'tn_hit': 27, 'fn_hit': 0}, 1: {'tp_hit': 14, 'fp_hit': 0, 'tn_hit': 91, 'fn_hit': 3}, 2: {'tp_hit': 13, 'fp_hit': 0, 'tn_hit': 93, 'fn_hit': 2}}, 'checkpoint': 500} \n",
      "\n",
      "\n"
     ]
    }
   ],
   "source": [
    "for checkpoint in checkpoints:\n",
    "    print(checkpoint, '\\n\\n')"
   ]
  },
  {
   "cell_type": "code",
   "execution_count": 13,
   "metadata": {},
   "outputs": [
    {
     "name": "stdout",
     "output_type": "stream",
     "text": [
      "Layer 1\n",
      "Neuron 0: weights:\n",
      "[-1.958397   3.         2.2330463  2.2772121 -0.7377689]\n",
      " bias: -3.0\n",
      "\n",
      "Neuron 1: weights:\n",
      "[-2.0449994   3.          2.4850812   1.4080043  -0.22158884]\n",
      " bias: -3.0\n",
      "\n",
      "Neuron 2: weights:\n",
      "[ 0.9593378 -2.7118475 -0.8445628  3.         1.0927807]\n",
      " bias: -3.0\n",
      "\n",
      "Neuron 3: weights:\n",
      "[ 1.0647614 -2.6145217 -1.1735771  3.         1.1568503]\n",
      " bias: -3.0\n",
      "\n",
      "$\n",
      "Layer 2\n",
      "Neuron 0: weights:\n",
      "[-3. -3. -3. -3.]\n",
      " bias: 3.0\n",
      "\n",
      "Neuron 1: weights:\n",
      "[ 3.         3.        -3.        -2.7250545]\n",
      " bias: -3.0\n",
      "\n",
      "Neuron 2: weights:\n",
      "[-2.9791265 -3.         3.         3.       ]\n",
      " bias: -3.0\n",
      "\n",
      "$\n",
      "\n"
     ]
    }
   ],
   "source": [
    "print(model)"
   ]
  }
 ],
 "metadata": {
  "kernelspec": {
   "display_name": "Python 3",
   "language": "python",
   "name": "python3"
  },
  "language_info": {
   "codemirror_mode": {
    "name": "ipython",
    "version": 3
   },
   "file_extension": ".py",
   "mimetype": "text/x-python",
   "name": "python",
   "nbconvert_exporter": "python",
   "pygments_lexer": "ipython3",
   "version": "3.6.10"
  }
 },
 "nbformat": 4,
 "nbformat_minor": 2
}
