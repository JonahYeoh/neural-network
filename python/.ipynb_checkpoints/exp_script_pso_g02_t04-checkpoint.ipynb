{
 "cells": [
  {
   "cell_type": "code",
   "execution_count": 1,
   "metadata": {},
   "outputs": [],
   "source": [
    "# dependency\n",
    "import numpy as np\n",
    "import pandas as pd\n",
    "import copy\n",
    "import math\n",
    "import sys\n",
    "import os\n",
    "from activations import relu, leaky_relu, sigmoid, tanh, softmax, d_sigmoid, d_relu\n",
    "from initializers import glorot_uniform, random_normal, random_uniform\n",
    "from regularizers import l1_regularizer, l2_regularizer\n",
    "from utility import trim_tail, multiply, subtract, get_nparams, one_hot_encoding, get_data\n",
    "from metrics import MSE, CCE, ACC, PRECISION, RECALL, essential_metrics, wondering_penalty, close_gap_penalty\n",
    "from pso import PSO\n",
    "from ga import GA\n",
    "from nn import Network\n",
    "from layer import DenseLayer\n",
    "from scalers import MinMaxScaler, StandardScaler"
   ]
  },
  {
   "cell_type": "code",
   "execution_count": 2,
   "metadata": {},
   "outputs": [],
   "source": [
    "# reference\n",
    "metrics_fn_dict = dict()\n",
    "metrics_fn_dict['accuracy'] = ACC\n",
    "metrics_fn_dict['categorical_crossentropy'] = CCE\n",
    "metrics_fn_dict['mean_square_error'] = MSE\n",
    "metrics_fn_dict['precision'] = PRECISION\n",
    "metrics_fn_dict['recall'] = RECALL\n",
    "metrics_fn_dict['essential_metrics'] = essential_metrics"
   ]
  },
  {
   "cell_type": "code",
   "execution_count": 3,
   "metadata": {},
   "outputs": [],
   "source": [
    "# model\n",
    "model = Network(5, lr = None)\n",
    "model.add_layer(DenseLayer(1, 4, True, afn=sigmoid, dafn=None, rfn=None))\n",
    "model.add_layer(DenseLayer(2, 3, True, afn=softmax, dafn=None, rfn=None))"
   ]
  },
  {
   "cell_type": "code",
   "execution_count": 4,
   "metadata": {},
   "outputs": [
    {
     "name": "stdout",
     "output_type": "stream",
     "text": [
      "see one see two 2 2\n"
     ]
    }
   ],
   "source": [
    "pso = PSO(dict(m = 50,\n",
    "    weight_constraint = [-3, 3], \n",
    "    velocity_constraint = [-0.1, 0.1],\n",
    "    c1 = 2,\n",
    "    c2 = 2,\n",
    "    w = 1.4,\n",
    "    w_decay = 1,\n",
    "    scale_hyperparameter = False,\n",
    "    regularizer = None,\n",
    "    mask = True))"
   ]
  },
  {
   "cell_type": "code",
   "execution_count": 5,
   "metadata": {},
   "outputs": [
    {
     "name": "stdout",
     "output_type": "stream",
     "text": [
      "building layer 1 with 5\n",
      "24\n",
      "building layer 2 with 4\n",
      "15\n"
     ]
    }
   ],
   "source": [
    "model.compile(loss_fn = 'categorical_crossentropy', optimizer = pso, \\\n",
    "    metrics = ['accuracy', 'mean_square_error', 'categorical_crossentropy'])"
   ]
  },
  {
   "cell_type": "code",
   "execution_count": 6,
   "metadata": {},
   "outputs": [
    {
     "name": "stdout",
     "output_type": "stream",
     "text": [
      "<class 'pandas.core.frame.DataFrame'>\n",
      "RangeIndex: 107 entries, 0 to 106\n",
      "Data columns (total 6 columns):\n",
      " #   Column  Non-Null Count  Dtype  \n",
      "---  ------  --------------  -----  \n",
      " 0   f1      107 non-null    float32\n",
      " 1   f2      107 non-null    float32\n",
      " 2   f3      107 non-null    float32\n",
      " 3   f4      107 non-null    float32\n",
      " 4   f5      107 non-null    float32\n",
      " 5   label   107 non-null    float32\n",
      "dtypes: float32(6)\n",
      "memory usage: 2.6 KB\n",
      "None\n",
      "<class 'pandas.core.frame.DataFrame'>\n",
      "RangeIndex: 108 entries, 0 to 107\n",
      "Data columns (total 6 columns):\n",
      " #   Column  Non-Null Count  Dtype  \n",
      "---  ------  --------------  -----  \n",
      " 0   f1      108 non-null    float32\n",
      " 1   f2      108 non-null    float32\n",
      " 2   f3      108 non-null    float32\n",
      " 3   f4      108 non-null    float32\n",
      " 4   f5      108 non-null    float32\n",
      " 5   label   108 non-null    float32\n",
      "dtypes: float32(6)\n",
      "memory usage: 2.7 KB\n",
      "None\n"
     ]
    }
   ],
   "source": [
    "# data loading\n",
    "DATA = os.path.join('c:\\\\Users\\\\AI-lab\\\\github_repo\\\\neural-network\\\\', 'dataset')\n",
    "GROUP = 2\n",
    "COLUMNS = ['f1', 'f2', 'f3', 'f4', 'f5', 'label']\n",
    "N_CLASS = 3\n",
    "EPOCHS = 200\n",
    "train_dir, test_dir = \"..//dataset//training_data{}.txt\".format(GROUP), \"..//dataset//testing_data{}.txt\".format(GROUP)\n",
    "train, test = get_data(DATA, train_dir, COLUMNS), get_data(DATA, test_dir, COLUMNS)\n",
    "# shuffle\n",
    "train, test = train.sample(frac=1), test.sample(frac=1)\n",
    "x_train, y_train = train.drop('label', axis=1), train['label']\n",
    "x_test, y_test = test.drop('label', axis=1), test['label']"
   ]
  },
  {
   "cell_type": "code",
   "execution_count": 7,
   "metadata": {},
   "outputs": [],
   "source": [
    "# data scaling and encoding\n",
    "scaler = StandardScaler(['f1', 'f2', 'f3', 'f4', 'f5'])\n",
    "scaler.fit(x_train)\n",
    "x_train = scaler.transform(x_train)\n",
    "x_test = scaler.transform(x_test)\n",
    "y_train = one_hot_encoding(y_train, N_CLASS)\n",
    "y_test = one_hot_encoding(y_test, N_CLASS)"
   ]
  },
  {
   "cell_type": "code",
   "execution_count": 8,
   "metadata": {
    "tags": [
     "outputPrepend"
    ]
   },
   "outputs": [
    {
     "name": "stdout",
     "output_type": "stream",
     "text": [
      "Checkpoint 10, Accuracy: 0.8827160493827161, Loss: 0.5907198588053385\n",
      "Checkpoint 20, Accuracy: 0.8765432098765432, Loss: 0.5558506294533059\n",
      "Checkpoint 30, Accuracy: 0.8765432098765432, Loss: 0.5534399880303277\n",
      "Checkpoint 40, Accuracy: 0.8950617283950617, Loss: 0.483271528173376\n",
      "Checkpoint 50, Accuracy: 0.9197530864197531, Loss: 0.4169679571081091\n",
      "Checkpoint 60, Accuracy: 0.9197530864197531, Loss: 0.3274891464798539\n",
      "Checkpoint 70, Accuracy: 0.9320987654320988, Loss: 0.29378705554538304\n",
      "Checkpoint 80, Accuracy: 0.9259259259259259, Loss: 0.30769711953622325\n",
      "Checkpoint 90, Accuracy: 0.9506172839506173, Loss: 0.21305289091887297\n",
      "Checkpoint 100, Accuracy: 0.9506172839506173, Loss: 0.20641489382143374\n",
      "Checkpoint 110, Accuracy: 0.9567901234567902, Loss: 0.18749313001279477\n",
      "Checkpoint 120, Accuracy: 0.9567901234567902, Loss: 0.16290954307273584\n",
      "Checkpoint 130, Accuracy: 0.9567901234567902, Loss: 0.1541410905343515\n",
      "Checkpoint 140, Accuracy: 0.9691358024691358, Loss: 0.1583369043138292\n",
      "Checkpoint 150, Accuracy: 0.9691358024691358, Loss: 0.13776835688838251\n",
      "Checkpoint 160, Accuracy: 0.9691358024691358, Loss: 0.1322349707285563\n",
      "Checkpoint 170, Accuracy: 0.9691358024691358, Loss: 0.12505888938903809\n",
      "Checkpoint 180, Accuracy: 0.9691358024691358, Loss: 0.11584821453800907\n",
      "Checkpoint 190, Accuracy: 0.9814814814814815, Loss: 0.11931307227523238\n",
      "Checkpoint 200, Accuracy: 0.9753086419753086, Loss: 0.11732700135972765\n"
     ]
    }
   ],
   "source": [
    "# learning phase\n",
    "breakpoint = 10\n",
    "checkpoints = list()\n",
    "history = list()\n",
    "for century in range(0, EPOCHS, breakpoint):\n",
    "    sub_history = model.fit(x_train, y_train, breakpoint, verbose = 0)\n",
    "    score = model.evaluate(x_test, y_test, False, verbose = 0)\n",
    "    print('Checkpoint {}, Accuracy: {}, Loss: {}'.format(century+breakpoint, score['accuracy'], score[model.loss_fn]))\n",
    "    score['checkpoint'] = century + breakpoint\n",
    "    checkpoints.append(score)\n",
    "    history.extend(sub_history)"
   ]
  },
  {
   "cell_type": "code",
   "execution_count": 9,
   "metadata": {},
   "outputs": [],
   "source": [
    "import matplotlib.pyplot as plt\n",
    "\n",
    "def draw_plot(x, y_list, x_label=None, y_label=None, legend=None, title=None):\n",
    "    fig, ax = plt.subplots(figsize=(12,5))\n",
    "    for xi, yi in zip(x, y_list):\n",
    "        ax.plot(xi, yi)\n",
    "    if x_label is not None and y_label is not None:\n",
    "        ax.set(xlabel=x_label, ylabel=y_label, title='{} VS {}'.format(x_label, y_label))\n",
    "    if legend is not None:\n",
    "        ax.legend(legend)\n",
    "    ax.grid()\n",
    "    plt.show()"
   ]
  },
  {
   "cell_type": "code",
   "execution_count": 10,
   "metadata": {},
   "outputs": [],
   "source": [
    "train_acc = [h['accuracy'] for h in history]\n",
    "train_mse = [h['mean_square_error'] for h in history]\n",
    "train_cce = [h['categorical_crossentropy'] for h in history]"
   ]
  },
  {
   "cell_type": "code",
   "execution_count": 11,
   "metadata": {},
   "outputs": [
    {
     "name": "stdout",
     "output_type": "stream",
     "text": [
      "[1. 0. 0.] <-> [0.4242821  0.5743385  0.00137939]\n",
      "[0. 0. 1.] <-> [7.7934456e-03 6.1526592e-04 9.9159122e-01]\n",
      "[1. 0. 0.] <-> [0.9926651  0.00387583 0.0034591 ]\n",
      "[1. 0. 0.] <-> [0.9967528  0.00200345 0.00124373]\n",
      "[1. 0. 0.] <-> [0.98729265 0.00447669 0.00823059]\n",
      "[0. 1. 0.] <-> [3.9953538e-03 9.9590176e-01 1.0290997e-04]\n",
      "[0. 0. 1.] <-> [7.7525103e-03 6.1153737e-04 9.9163592e-01]\n",
      "[1. 0. 0.] <-> [0.9963431  0.0022157  0.00144117]\n",
      "[1. 0. 0.] <-> [0.9959115  0.00248654 0.00160205]\n",
      "[0. 1. 0.] <-> [0.63097143 0.3668225  0.00220604]\n",
      "[0. 0. 1.] <-> [0.39909276 0.01674286 0.58416444]\n",
      "[0. 1. 0.] <-> [1.3547446e-02 9.8624647e-01 2.0613520e-04]\n",
      "[1. 0. 0.] <-> [0.95500433 0.04297527 0.0020204 ]\n",
      "[1. 0. 0.] <-> [0.9919093 0.0043375 0.0037532]\n",
      "[1. 0. 0.] <-> [0.9807342  0.01794168 0.0013241 ]\n",
      "[1. 0. 0.] <-> [0.02192633 0.00105935 0.97701436]\n",
      "[0. 1. 0.] <-> [3.8119496e-03 9.9608850e-01 9.9544071e-05]\n",
      "[0. 1. 0.] <-> [8.6723100e-03 9.9117661e-01 1.5118135e-04]\n",
      "[1. 0. 0.] <-> [0.9950805  0.00237314 0.00254641]\n",
      "[0. 1. 0.] <-> [3.8983533e-03 9.9600083e-01 1.0078643e-04]\n",
      "[0. 0. 1.] <-> [7.783539e-03 6.150470e-04 9.916014e-01]\n",
      "[1. 0. 0.] <-> [0.9937071  0.00202683 0.00426608]\n",
      "[1. 0. 0.] <-> [0.995394   0.00259884 0.00200721]\n",
      "[1. 0. 0.] <-> [0.99595743 0.0025142  0.00152842]\n",
      "[1. 0. 0.] <-> [0.995876   0.00293392 0.00119009]\n",
      "[1. 0. 0.] <-> [0.919176   0.07970526 0.00111873]\n",
      "[1. 0. 0.] <-> [0.99346054 0.00203382 0.00450565]\n",
      "[1. 0. 0.] <-> [0.99448    0.00256185 0.00295813]\n",
      "[1. 0. 0.] <-> [0.99023765 0.00230079 0.00746154]\n",
      "[1. 0. 0.] <-> [0.9967355  0.00207075 0.00119367]\n",
      "[1. 0. 0.] <-> [0.8920223  0.00702563 0.10095216]\n",
      "[1. 0. 0.] <-> [0.99281126 0.00386729 0.00332139]\n",
      "[1. 0. 0.] <-> [0.9814601  0.00595539 0.01258458]\n",
      "[1. 0. 0.] <-> [0.7365557  0.00371276 0.25973153]\n",
      "[0. 1. 0.] <-> [0.85258347 0.14017491 0.00724167]\n",
      "[1. 0. 0.] <-> [0.996732   0.00216906 0.00109898]\n",
      "[1. 0. 0.] <-> [0.99651647 0.00208309 0.00140048]\n",
      "[1. 0. 0.] <-> [0.99596417 0.00291065 0.00112513]\n",
      "[1. 0. 0.] <-> [0.7092305  0.03259087 0.25817868]\n",
      "[1. 0. 0.] <-> [0.9945984  0.0026192  0.00278241]\n",
      "[1. 0. 0.] <-> [0.9821348  0.00428742 0.01357774]\n",
      "[1. 0. 0.] <-> [0.8491762  0.01373984 0.13708389]\n",
      "[1. 0. 0.] <-> [0.993873   0.00287853 0.00324847]\n",
      "[1. 0. 0.] <-> [0.99471855 0.00253394 0.00274744]\n",
      "[0. 1. 0.] <-> [3.8119415e-03 9.9608874e-01 9.9354787e-05]\n",
      "[0. 0. 1.] <-> [7.6366253e-03 6.1823131e-04 9.9174517e-01]\n",
      "[1. 0. 0.] <-> [0.9908167  0.00794949 0.00123388]\n",
      "[0. 0. 1.] <-> [0.48241252 0.00240865 0.5151788 ]\n",
      "[1. 0. 0.] <-> [0.986925   0.0054332  0.00764172]\n",
      "[0. 1. 0.] <-> [0.3037396  0.6953888  0.00087159]\n",
      "[1. 0. 0.] <-> [0.99673176 0.00200592 0.00126233]\n",
      "[0. 1. 0.] <-> [6.9307080e-03 9.9292773e-01 1.4156668e-04]\n",
      "[1. 0. 0.] <-> [0.91917187 0.00917118 0.07165686]\n",
      "[1. 0. 0.] <-> [0.9951173  0.00382156 0.00106117]\n",
      "[1. 0. 0.] <-> [0.9808317  0.00493735 0.014231  ]\n",
      "[0. 0. 1.] <-> [9.3298974e-03 8.0903975e-04 9.8986101e-01]\n",
      "[1. 0. 0.] <-> [0.99439645 0.00427342 0.00133012]\n",
      "[1. 0. 0.] <-> [0.974375   0.00421463 0.02141026]\n",
      "[1. 0. 0.] <-> [0.99383533 0.00377177 0.00239297]\n",
      "[1. 0. 0.] <-> [0.9957611  0.00275475 0.00148412]\n",
      "[1. 0. 0.] <-> [0.992916   0.00284174 0.00424231]\n",
      "[1. 0. 0.] <-> [0.8054498  0.00364868 0.19090153]\n",
      "[1. 0. 0.] <-> [0.99629635 0.00250532 0.00119835]\n",
      "[1. 0. 0.] <-> [0.98363954 0.00392349 0.01243701]\n",
      "[1. 0. 0.] <-> [0.9925142  0.00288953 0.0045962 ]\n",
      "[0. 0. 1.] <-> [7.7442294e-03 6.1191793e-04 9.9164385e-01]\n",
      "[1. 0. 0.] <-> [0.99210703 0.00541909 0.00247397]\n",
      "[0. 1. 0.] <-> [0.22526512 0.77332157 0.00141331]\n",
      "[1. 0. 0.] <-> [0.9894657  0.00341882 0.00711539]\n",
      "[1. 0. 0.] <-> [0.9962663  0.00218566 0.00154805]\n",
      "[1. 0. 0.] <-> [0.53635204 0.00615613 0.4574918 ]\n",
      "[1. 0. 0.] <-> [0.9921633  0.00301817 0.00481851]\n",
      "[0. 1. 0.] <-> [4.90001123e-03 9.94985700e-01 1.14382536e-04]\n",
      "[1. 0. 0.] <-> [0.9940912  0.00225754 0.00365128]\n",
      "[1. 0. 0.] <-> [0.9935921  0.00522663 0.00118121]\n",
      "[1. 0. 0.] <-> [0.9920196  0.00388947 0.0040909 ]\n",
      "[0. 1. 0.] <-> [3.8224428e-03 9.9607795e-01 9.9609591e-05]\n",
      "[1. 0. 0.] <-> [0.9801499  0.00407357 0.01577652]\n",
      "[1. 0. 0.] <-> [0.9953779  0.00342276 0.00119938]\n",
      "[1. 0. 0.] <-> [0.9775809  0.00610283 0.01631632]\n",
      "[0. 0. 1.] <-> [9.9407807e-03 7.8027643e-04 9.8927897e-01]\n",
      "[0. 0. 1.] <-> [7.7536525e-03 6.1142130e-04 9.9163496e-01]\n",
      "[1. 0. 0.] <-> [0.9132743  0.00572    0.08100577]\n",
      "[1. 0. 0.] <-> [0.9945156  0.00400193 0.0014824 ]\n",
      "[0. 0. 1.] <-> [7.7277324e-03 6.1287545e-04 9.9165934e-01]\n",
      "[1. 0. 0.] <-> [0.9941052  0.00347821 0.00241661]\n",
      "[1. 0. 0.] <-> [0.99638677 0.002344   0.00126929]\n",
      "[1. 0. 0.] <-> [0.995906   0.00266529 0.00142875]\n",
      "[1. 0. 0.] <-> [0.9954631  0.00213565 0.00240125]\n",
      "[1. 0. 0.] <-> [0.9727964  0.00336188 0.0238418 ]\n",
      "[0. 1. 0.] <-> [3.8119252e-03 9.9608874e-01 9.9334138e-05]\n",
      "[1. 0. 0.] <-> [0.9915742  0.00698556 0.00144015]\n",
      "[1. 0. 0.] <-> [0.99469334 0.00382142 0.00148531]\n",
      "[1. 0. 0.] <-> [0.99593335 0.0029093  0.00115727]\n",
      "[0. 0. 1.] <-> [8.2856612e-03 6.2913628e-04 9.9108523e-01]\n",
      "[1. 0. 0.] <-> [0.99385756 0.00461607 0.00152639]\n",
      "[0. 0. 1.] <-> [7.9178885e-03 6.2373345e-04 9.9145836e-01]\n",
      "[1. 0. 0.] <-> [0.99149656 0.00729949 0.00120393]\n",
      "[1. 0. 0.] <-> [0.99527115 0.00323491 0.00149401]\n",
      "[0. 1. 0.] <-> [0.1006946  0.89703494 0.00227047]\n",
      "[1. 0. 0.] <-> [0.9941749  0.00252631 0.00329891]\n",
      "[1. 0. 0.] <-> [0.8147934  0.00827578 0.17693083]\n",
      "[1. 0. 0.] <-> [0.98512834 0.00503554 0.00983616]\n",
      "[1. 0. 0.] <-> [0.9964186  0.00245252 0.00112892]\n",
      "[1. 0. 0.] <-> [0.8878665  0.11063076 0.00150273]\n",
      "[1. 0. 0.] <-> [9.9651331e-01 2.5161728e-03 9.7055495e-04]\n",
      "[1. 0. 0.] <-> [0.9801374  0.00206652 0.01779617]\n",
      "[1. 0. 0.] <-> [0.9957445  0.00307202 0.00118343]\n",
      "{'accuracy': 0.9753086419753086, 'mean_square_error': 0.06429698281680593, 'categorical_crossentropy': 0.11732700135972765, 'essential_metrics': {0: {'tp_hit': 78, 'fp_hit': 2, 'tn_hit': 26, 'fn_hit': 2}, 1: {'tp_hit': 13, 'fp_hit': 1, 'tn_hit': 92, 'fn_hit': 2}, 2: {'tp_hit': 13, 'fp_hit': 1, 'tn_hit': 94, 'fn_hit': 0}}}\n"
     ]
    }
   ],
   "source": [
    "# recall phase\n",
    "score = model.evaluate(x_test, y_test, False)\n",
    "print(score)"
   ]
  },
  {
   "cell_type": "code",
   "execution_count": 12,
   "metadata": {},
   "outputs": [
    {
     "data": {
      "image/png": "[encoded data removed]",
      "text/plain": [
       "<Figure size 864x360 with 1 Axes>"
      ]
     },
     "metadata": {
      "needs_background": "light"
     },
     "output_type": "display_data"
    },
    {
     "data": {
      "image/png": "[encoded data removed]",
      "text/plain": [
       "<Figure size 864x360 with 1 Axes>"
      ]
     },
     "metadata": {
      "needs_background": "light"
     },
     "output_type": "display_data"
    }
   ],
   "source": [
    "draw_plot(x = [[i for i in range(len(history))], [(i+1)*breakpoint for i in range(len(checkpoints))]], y_list = [train_cce, [ ckp[model.loss_fn] for ckp in checkpoints ]], x_label = 'Epochs', \\\n",
    "    y_label = model.loss_fn, legend=['train', 'test'])\n",
    "acc = [ ckp['accuracy'] for ckp in checkpoints ]\n",
    "draw_plot(x = [[i for i in range(len(history))], [(i+1)*breakpoint for i in range(len(checkpoints))]], y_list = [train_acc, acc], x_label = 'Checkpoints', \\\n",
    "    y_label = 'accuracy', legend=['train', 'test'])"
   ]
  },
  {
   "cell_type": "code",
   "execution_count": 13,
   "metadata": {},
   "outputs": [
    {
     "name": "stdout",
     "output_type": "stream",
     "text": [
      "{'accuracy': 0.8827160493827161, 'mean_square_error': 0.31697146692171785, 'categorical_crossentropy': 0.5907198588053385, 'essential_metrics': {0: {'tp_hit': 73, 'fp_hit': 12, 'tn_hit': 16, 'fn_hit': 7}, 1: {'tp_hit': 6, 'fp_hit': 0, 'tn_hit': 93, 'fn_hit': 9}, 2: {'tp_hit': 10, 'fp_hit': 7, 'tn_hit': 88, 'fn_hit': 3}}, 'checkpoint': 10} \n",
      "\n",
      "\n",
      "{'accuracy': 0.8765432098765432, 'mean_square_error': 0.3034026683376225, 'categorical_crossentropy': 0.5558506294533059, 'essential_metrics': {0: {'tp_hit': 71, 'fp_hit': 10, 'tn_hit': 18, 'fn_hit': 9}, 1: {'tp_hit': 7, 'fp_hit': 4, 'tn_hit': 89, 'fn_hit': 8}, 2: {'tp_hit': 10, 'fp_hit': 6, 'tn_hit': 89, 'fn_hit': 3}}, 'checkpoint': 20} \n",
      "\n",
      "\n",
      "{'accuracy': 0.8765432098765432, 'mean_square_error': 0.3031375288588248, 'categorical_crossentropy': 0.5534399880303277, 'essential_metrics': {0: {'tp_hit': 70, 'fp_hit': 10, 'tn_hit': 18, 'fn_hit': 10}, 1: {'tp_hit': 8, 'fp_hit': 5, 'tn_hit': 88, 'fn_hit': 7}, 2: {'tp_hit': 10, 'fp_hit': 5, 'tn_hit': 90, 'fn_hit': 3}}, 'checkpoint': 30} \n",
      "\n",
      "\n",
      "{'accuracy': 0.8950617283950617, 'mean_square_error': 0.2589205131569311, 'categorical_crossentropy': 0.483271528173376, 'essential_metrics': {0: {'tp_hit': 78, 'fp_hit': 15, 'tn_hit': 13, 'fn_hit': 2}, 1: {'tp_hit': 3, 'fp_hit': 0, 'tn_hit': 93, 'fn_hit': 12}, 2: {'tp_hit': 10, 'fp_hit': 2, 'tn_hit': 93, 'fn_hit': 3}}, 'checkpoint': 40} \n",
      "\n",
      "\n",
      "{'accuracy': 0.9197530864197531, 'mean_square_error': 0.22618217560480358, 'categorical_crossentropy': 0.4169679571081091, 'essential_metrics': {0: {'tp_hit': 78, 'fp_hit': 10, 'tn_hit': 18, 'fn_hit': 2}, 1: {'tp_hit': 7, 'fp_hit': 2, 'tn_hit': 91, 'fn_hit': 8}, 2: {'tp_hit': 10, 'fp_hit': 1, 'tn_hit': 94, 'fn_hit': 3}}, 'checkpoint': 50} \n",
      "\n",
      "\n",
      "{'accuracy': 0.9197530864197531, 'mean_square_error': 0.18013749006625407, 'categorical_crossentropy': 0.3274891464798539, 'essential_metrics': {0: {'tp_hit': 75, 'fp_hit': 8, 'tn_hit': 20, 'fn_hit': 5}, 1: {'tp_hit': 9, 'fp_hit': 3, 'tn_hit': 90, 'fn_hit': 6}, 2: {'tp_hit': 11, 'fp_hit': 2, 'tn_hit': 93, 'fn_hit': 2}}, 'checkpoint': 60} \n",
      "\n",
      "\n",
      "{'accuracy': 0.9320987654320988, 'mean_square_error': 0.16066724492478943, 'categorical_crossentropy': 0.29378705554538304, 'essential_metrics': {0: {'tp_hit': 77, 'fp_hit': 8, 'tn_hit': 20, 'fn_hit': 3}, 1: {'tp_hit': 9, 'fp_hit': 1, 'tn_hit': 92, 'fn_hit': 6}, 2: {'tp_hit': 11, 'fp_hit': 2, 'tn_hit': 93, 'fn_hit': 2}}, 'checkpoint': 70} \n",
      "\n",
      "\n",
      "{'accuracy': 0.9259259259259259, 'mean_square_error': 0.16132733030528787, 'categorical_crossentropy': 0.30769711953622325, 'essential_metrics': {0: {'tp_hit': 75, 'fp_hit': 7, 'tn_hit': 21, 'fn_hit': 5}, 1: {'tp_hit': 10, 'fp_hit': 1, 'tn_hit': 92, 'fn_hit': 5}, 2: {'tp_hit': 11, 'fp_hit': 4, 'tn_hit': 91, 'fn_hit': 2}}, 'checkpoint': 80} \n",
      "\n",
      "\n",
      "{'accuracy': 0.9506172839506173, 'mean_square_error': 0.10849478566742031, 'categorical_crossentropy': 0.21305289091887297, 'essential_metrics': {0: {'tp_hit': 78, 'fp_hit': 6, 'tn_hit': 22, 'fn_hit': 2}, 1: {'tp_hit': 11, 'fp_hit': 1, 'tn_hit': 92, 'fn_hit': 4}, 2: {'tp_hit': 11, 'fp_hit': 1, 'tn_hit': 94, 'fn_hit': 2}}, 'checkpoint': 90} \n",
      "\n",
      "\n",
      "{'accuracy': 0.9506172839506173, 'mean_square_error': 0.11344020173860077, 'categorical_crossentropy': 0.20641489382143374, 'essential_metrics': {0: {'tp_hit': 78, 'fp_hit': 6, 'tn_hit': 22, 'fn_hit': 2}, 1: {'tp_hit': 11, 'fp_hit': 0, 'tn_hit': 93, 'fn_hit': 4}, 2: {'tp_hit': 11, 'fp_hit': 2, 'tn_hit': 93, 'fn_hit': 2}}, 'checkpoint': 100} \n",
      "\n",
      "\n",
      "{'accuracy': 0.9567901234567902, 'mean_square_error': 0.09395515668843403, 'categorical_crossentropy': 0.18749313001279477, 'essential_metrics': {0: {'tp_hit': 79, 'fp_hit': 6, 'tn_hit': 22, 'fn_hit': 1}, 1: {'tp_hit': 11, 'fp_hit': 0, 'tn_hit': 93, 'fn_hit': 4}, 2: {'tp_hit': 11, 'fp_hit': 1, 'tn_hit': 94, 'fn_hit': 2}}, 'checkpoint': 110} \n",
      "\n",
      "\n",
      "{'accuracy': 0.9567901234567902, 'mean_square_error': 0.08842666328685322, 'categorical_crossentropy': 0.16290954307273584, 'essential_metrics': {0: {'tp_hit': 79, 'fp_hit': 6, 'tn_hit': 22, 'fn_hit': 1}, 1: {'tp_hit': 11, 'fp_hit': 0, 'tn_hit': 93, 'fn_hit': 4}, 2: {'tp_hit': 11, 'fp_hit': 1, 'tn_hit': 94, 'fn_hit': 2}}, 'checkpoint': 120} \n",
      "\n",
      "\n",
      "{'accuracy': 0.9567901234567902, 'mean_square_error': 0.08395570820977542, 'categorical_crossentropy': 0.1541410905343515, 'essential_metrics': {0: {'tp_hit': 77, 'fp_hit': 4, 'tn_hit': 24, 'fn_hit': 3}, 1: {'tp_hit': 13, 'fp_hit': 1, 'tn_hit': 92, 'fn_hit': 2}, 2: {'tp_hit': 11, 'fp_hit': 2, 'tn_hit': 93, 'fn_hit': 2}}, 'checkpoint': 130} \n",
      "\n",
      "\n",
      "{'accuracy': 0.9691358024691358, 'mean_square_error': 0.08492304906635341, 'categorical_crossentropy': 0.1583369043138292, 'essential_metrics': {0: {'tp_hit': 79, 'fp_hit': 4, 'tn_hit': 24, 'fn_hit': 1}, 1: {'tp_hit': 13, 'fp_hit': 0, 'tn_hit': 93, 'fn_hit': 2}, 2: {'tp_hit': 11, 'fp_hit': 1, 'tn_hit': 94, 'fn_hit': 2}}, 'checkpoint': 140} \n",
      "\n",
      "\n",
      "{'accuracy': 0.9691358024691358, 'mean_square_error': 0.07617176316264024, 'categorical_crossentropy': 0.13776835688838251, 'essential_metrics': {0: {'tp_hit': 79, 'fp_hit': 4, 'tn_hit': 24, 'fn_hit': 1}, 1: {'tp_hit': 13, 'fp_hit': 0, 'tn_hit': 93, 'fn_hit': 2}, 2: {'tp_hit': 11, 'fp_hit': 1, 'tn_hit': 94, 'fn_hit': 2}}, 'checkpoint': 150} \n",
      "\n",
      "\n",
      "{'accuracy': 0.9691358024691358, 'mean_square_error': 0.07213617120266205, 'categorical_crossentropy': 0.1322349707285563, 'essential_metrics': {0: {'tp_hit': 78, 'fp_hit': 3, 'tn_hit': 25, 'fn_hit': 2}, 1: {'tp_hit': 13, 'fp_hit': 1, 'tn_hit': 92, 'fn_hit': 2}, 2: {'tp_hit': 12, 'fp_hit': 1, 'tn_hit': 94, 'fn_hit': 1}}, 'checkpoint': 160} \n",
      "\n",
      "\n",
      "{'accuracy': 0.9691358024691358, 'mean_square_error': 0.06958100096539653, 'categorical_crossentropy': 0.12505888938903809, 'essential_metrics': {0: {'tp_hit': 78, 'fp_hit': 3, 'tn_hit': 25, 'fn_hit': 2}, 1: {'tp_hit': 13, 'fp_hit': 1, 'tn_hit': 92, 'fn_hit': 2}, 2: {'tp_hit': 12, 'fp_hit': 1, 'tn_hit': 94, 'fn_hit': 1}}, 'checkpoint': 170} \n",
      "\n",
      "\n",
      "{'accuracy': 0.9691358024691358, 'mean_square_error': 0.06621661366064414, 'categorical_crossentropy': 0.11584821453800907, 'essential_metrics': {0: {'tp_hit': 78, 'fp_hit': 3, 'tn_hit': 25, 'fn_hit': 2}, 1: {'tp_hit': 13, 'fp_hit': 1, 'tn_hit': 92, 'fn_hit': 2}, 2: {'tp_hit': 12, 'fp_hit': 1, 'tn_hit': 94, 'fn_hit': 1}}, 'checkpoint': 180} \n",
      "\n",
      "\n",
      "{'accuracy': 0.9814814814814815, 'mean_square_error': 0.06302290477865004, 'categorical_crossentropy': 0.11931307227523238, 'essential_metrics': {0: {'tp_hit': 78, 'fp_hit': 1, 'tn_hit': 27, 'fn_hit': 2}, 1: {'tp_hit': 14, 'fp_hit': 1, 'tn_hit': 92, 'fn_hit': 1}, 2: {'tp_hit': 13, 'fp_hit': 1, 'tn_hit': 94, 'fn_hit': 0}}, 'checkpoint': 190} \n",
      "\n",
      "\n",
      "{'accuracy': 0.9753086419753086, 'mean_square_error': 0.06429698281680593, 'categorical_crossentropy': 0.11732700135972765, 'essential_metrics': {0: {'tp_hit': 78, 'fp_hit': 2, 'tn_hit': 26, 'fn_hit': 2}, 1: {'tp_hit': 13, 'fp_hit': 1, 'tn_hit': 92, 'fn_hit': 2}, 2: {'tp_hit': 13, 'fp_hit': 1, 'tn_hit': 94, 'fn_hit': 0}}, 'checkpoint': 200} \n",
      "\n",
      "\n"
     ]
    }
   ],
   "source": [
    "for checkpoint in checkpoints:\n",
    "    print(checkpoint, '\\n\\n')"
   ]
  },
  {
   "cell_type": "code",
   "execution_count": 14,
   "metadata": {},
   "outputs": [
    {
     "name": "stdout",
     "output_type": "stream",
     "text": [
      "Layer 1\n",
      "Neuron 0: weights:\n",
      "[ 0.81819385 -3.          0.35803452  0.49119797  3.        ]\n",
      " bias: -2.534168004989624\n",
      "\n",
      "Neuron 1: weights:\n",
      "[-0.41996074 -2.5494976  -3.          1.6805363   3.        ]\n",
      " bias: -3.0\n",
      "\n",
      "Neuron 2: weights:\n",
      "[-3.         3.         2.2201302  2.3084261 -2.5627136]\n",
      " bias: -2.5630247592926025\n",
      "\n",
      "Neuron 3: weights:\n",
      "[ 1.4778781  -3.         -2.7650127   0.49927932 -0.16145436]\n",
      " bias: 2.643542528152466\n",
      "\n",
      "$\n",
      "Layer 2\n",
      "Neuron 0: weights:\n",
      "[-2.9859662 -3.        -3.         3.       ]\n",
      " bias: 1.624262809753418\n",
      "\n",
      "Neuron 1: weights:\n",
      "[-3.         0.9081269  3.        -3.       ]\n",
      " bias: 1.1899691820144653\n",
      "\n",
      "Neuron 2: weights:\n",
      "[ 3.         3.        -3.        -0.4872453]\n",
      " bias: -2.0232601165771484\n",
      "\n",
      "$\n",
      "\n"
     ]
    }
   ],
   "source": [
    "print(model)"
   ]
  },
  {
   "cell_type": "code",
   "execution_count": null,
   "metadata": {},
   "outputs": [],
   "source": []
  }
 ],
 "metadata": {
  "kernelspec": {
   "display_name": "Python 3",
   "language": "python",
   "name": "python3"
  },
  "language_info": {
   "codemirror_mode": {
    "name": "ipython",
    "version": 3
   },
   "file_extension": ".py",
   "mimetype": "text/x-python",
   "name": "python",
   "nbconvert_exporter": "python",
   "pygments_lexer": "ipython3",
   "version": "3.6.12"
  }
 },
 "nbformat": 4,
 "nbformat_minor": 2
}
