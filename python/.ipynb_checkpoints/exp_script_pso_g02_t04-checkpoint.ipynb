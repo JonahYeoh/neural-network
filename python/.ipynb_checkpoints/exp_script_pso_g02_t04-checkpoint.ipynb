{
 "cells": [
  {
   "cell_type": "code",
   "execution_count": 1,
   "metadata": {},
   "outputs": [],
   "source": [
    "# dependency\n",
    "import numpy as np\n",
    "import pandas as pd\n",
    "import copy\n",
    "import math\n",
    "import sys\n",
    "import os\n",
    "from activations import relu, leaky_relu, sigmoid, tanh, softmax, d_sigmoid, d_relu\n",
    "from initializers import glorot_uniform, random_normal, random_uniform\n",
    "from regularizers import l1_regularizer, l2_regularizer\n",
    "from utility import trim_tail, multiply, subtract, get_nparams, one_hot_encoding, get_data\n",
    "from metrics import MSE, CCE, ACC, PRECISION, RECALL, essential_metrics, wondering_penalty, close_gap_penalty\n",
    "from pso import PSO\n",
    "from ga import GA\n",
    "from nn import Network\n",
    "from layer import DenseLayer\n",
    "from scalers import MinMaxScaler, StandardScaler"
   ]
  },
  {
   "cell_type": "code",
   "execution_count": 2,
   "metadata": {},
   "outputs": [],
   "source": [
    "# reference\n",
    "metrics_fn_dict = dict()\n",
    "metrics_fn_dict['accuracy'] = ACC\n",
    "metrics_fn_dict['categorical_crossentropy'] = CCE\n",
    "metrics_fn_dict['mean_square_error'] = MSE\n",
    "metrics_fn_dict['precision'] = PRECISION\n",
    "metrics_fn_dict['recall'] = RECALL\n",
    "metrics_fn_dict['essential_metrics'] = essential_metrics"
   ]
  },
  {
   "cell_type": "code",
   "execution_count": 3,
   "metadata": {},
   "outputs": [],
   "source": [
    "# model\n",
    "model = Network(5, lr = None)\n",
    "model.add_layer(DenseLayer(1, 4, True, afn=sigmoid, dafn=None, rfn=None))\n",
    "model.add_layer(DenseLayer(2, 3, True, afn=softmax, dafn=None, rfn=None))"
   ]
  },
  {
   "cell_type": "code",
   "execution_count": 4,
   "metadata": {},
   "outputs": [
    {
     "name": "stdout",
     "output_type": "stream",
     "text": [
      "see one see two 2 2\n"
     ]
    }
   ],
   "source": [
    "pso = PSO(dict(m = 50,\n",
    "    weight_constraint = [-3, 3], \n",
    "    velocity_constraint = [-0.1, 0.1],\n",
    "    c1 = 2,\n",
    "    c2 = 2,\n",
    "    w = 1,\n",
    "    w_decay = 1,\n",
    "    scale_hyperparameter = False,\n",
    "    regularizer = l2_regularizer,\n",
    "    mask = True))"
   ]
  },
  {
   "cell_type": "code",
   "execution_count": 5,
   "metadata": {},
   "outputs": [
    {
     "name": "stdout",
     "output_type": "stream",
     "text": [
      "building layer 1 with 5\n",
      "24\n",
      "building layer 2 with 4\n",
      "15\n"
     ]
    }
   ],
   "source": [
    "model.compile(loss_fn = 'categorical_crossentropy', optimizer = pso, \\\n",
    "    metrics = ['accuracy', 'mean_square_error', 'categorical_crossentropy'])"
   ]
  },
  {
   "cell_type": "code",
   "execution_count": 6,
   "metadata": {},
   "outputs": [
    {
     "name": "stdout",
     "output_type": "stream",
     "text": [
      "<class 'pandas.core.frame.DataFrame'>\n",
      "RangeIndex: 107 entries, 0 to 106\n",
      "Data columns (total 6 columns):\n",
      " #   Column  Non-Null Count  Dtype  \n",
      "---  ------  --------------  -----  \n",
      " 0   f1      107 non-null    float32\n",
      " 1   f2      107 non-null    float32\n",
      " 2   f3      107 non-null    float32\n",
      " 3   f4      107 non-null    float32\n",
      " 4   f5      107 non-null    float32\n",
      " 5   label   107 non-null    float32\n",
      "dtypes: float32(6)\n",
      "memory usage: 2.6 KB\n",
      "None\n",
      "<class 'pandas.core.frame.DataFrame'>\n",
      "RangeIndex: 108 entries, 0 to 107\n",
      "Data columns (total 6 columns):\n",
      " #   Column  Non-Null Count  Dtype  \n",
      "---  ------  --------------  -----  \n",
      " 0   f1      108 non-null    float32\n",
      " 1   f2      108 non-null    float32\n",
      " 2   f3      108 non-null    float32\n",
      " 3   f4      108 non-null    float32\n",
      " 4   f5      108 non-null    float32\n",
      " 5   label   108 non-null    float32\n",
      "dtypes: float32(6)\n",
      "memory usage: 2.7 KB\n",
      "None\n"
     ]
    }
   ],
   "source": [
    "# data loading\n",
    "DATA = os.path.join('c:\\\\Users\\\\tcumi\\\\github_repo\\\\neural-network\\\\', 'dataset')\n",
    "GROUP = 2\n",
    "COLUMNS = ['f1', 'f2', 'f3', 'f4', 'f5', 'label']\n",
    "N_CLASS = 3\n",
    "EPOCHS = 500\n",
    "train_dir, test_dir = \"..//dataset//training_data{}.txt\".format(GROUP), \"..//dataset//testing_data{}.txt\".format(GROUP)\n",
    "train, test = get_data(DATA, train_dir, COLUMNS), get_data(DATA, test_dir, COLUMNS)\n",
    "# shuffle\n",
    "train, test = train.sample(frac=1), test.sample(frac=1)\n",
    "x_train, y_train = train.drop('label', axis=1), train['label']\n",
    "x_test, y_test = test.drop('label', axis=1), test['label']"
   ]
  },
  {
   "cell_type": "code",
   "execution_count": 7,
   "metadata": {},
   "outputs": [],
   "source": [
    "# data scaling and encoding\n",
    "scaler = StandardScaler(['f1', 'f2', 'f3', 'f4', 'f5'])\n",
    "scaler.fit(x_train)\n",
    "x_train = scaler.transform(x_train)\n",
    "x_test = scaler.transform(x_test)\n",
    "y_train = one_hot_encoding(y_train, N_CLASS)\n",
    "y_test = one_hot_encoding(y_test, N_CLASS)"
   ]
  },
  {
   "cell_type": "code",
   "execution_count": 8,
   "metadata": {
    "tags": [
     "outputPrepend"
    ]
   },
   "outputs": [
    {
     "name": "stdout",
     "output_type": "stream",
     "text": [
      "Checkpoint 100, Accuracy: 0.9259259259259259, Loss: 0.37944821958188657\n",
      "Checkpoint 200, Accuracy: 0.9382716049382716, Loss: 0.3361209233601888\n",
      "Checkpoint 300, Accuracy: 0.9506172839506173, Loss: 0.3316319430315936\n",
      "Checkpoint 400, Accuracy: 0.9506172839506173, Loss: 0.3252026946456344\n",
      "Checkpoint 500, Accuracy: 0.9506172839506173, Loss: 0.3252026946456344\n"
     ]
    }
   ],
   "source": [
    "# learning phase\n",
    "breakpoint = 100\n",
    "checkpoints = list()\n",
    "history = list()\n",
    "for century in range(0, EPOCHS, breakpoint):\n",
    "    sub_history = model.fit(x_train, y_train, breakpoint, verbose = 0)\n",
    "    score = model.evaluate(x_test, y_test, False, verbose = 0)\n",
    "    print('Checkpoint {}, Accuracy: {}, Loss: {}'.format(century+breakpoint, score['accuracy'], score[model.loss_fn]))\n",
    "    score['checkpoint'] = century + breakpoint\n",
    "    checkpoints.append(score)\n",
    "    history.extend(sub_history)"
   ]
  },
  {
   "cell_type": "code",
   "execution_count": 9,
   "metadata": {},
   "outputs": [],
   "source": [
    "import matplotlib.pyplot as plt\n",
    "\n",
    "def draw_plot(x, y_list, x_label=None, y_label=None, legend=None, title=None):\n",
    "    fig, ax = plt.subplots(figsize=(12,5))\n",
    "    for xi, yi in zip(x, y_list):\n",
    "        ax.plot(xi, yi)\n",
    "    if x_label is not None and y_label is not None:\n",
    "        ax.set(xlabel=x_label, ylabel=y_label, title='{} VS {}'.format(x_label, y_label))\n",
    "    if legend is not None:\n",
    "        ax.legend(legend)\n",
    "    ax.grid()\n",
    "    plt.show()"
   ]
  },
  {
   "cell_type": "code",
   "execution_count": 10,
   "metadata": {},
   "outputs": [
    {
     "name": "stdout",
     "output_type": "stream",
     "text": [
      "[1. 0. 0.] <-> [0.8071358  0.04062832 0.15223593]\n",
      "[0. 0. 1.] <-> [0.25897488 0.01104423 0.72998095]\n",
      "[1. 0. 0.] <-> [0.7631345  0.05703324 0.17983222]\n",
      "[0. 1. 0.] <-> [0.2822603  0.70759434 0.01014543]\n",
      "[1. 0. 0.] <-> [0.7360891  0.22032593 0.04358498]\n",
      "[1. 0. 0.] <-> [0.7574767  0.19287021 0.04965313]\n",
      "[1. 0. 0.] <-> [0.8249312  0.08869103 0.08637781]\n",
      "[1. 0. 0.] <-> [0.8188506  0.08753305 0.09361637]\n",
      "[0. 1. 0.] <-> [0.2037476  0.7897455  0.00650692]\n",
      "[1. 0. 0.] <-> [0.8183562  0.05550588 0.12613788]\n",
      "[0. 0. 1.] <-> [0.32080644 0.01589875 0.6632948 ]\n",
      "[1. 0. 0.] <-> [0.7206124  0.05792581 0.22146179]\n",
      "[0. 1. 0.] <-> [0.524378   0.45125544 0.02436653]\n",
      "[0. 1. 0.] <-> [0.20115283 0.7926046  0.00624254]\n",
      "[1. 0. 0.] <-> [0.80460185 0.11874826 0.0766499 ]\n",
      "[1. 0. 0.] <-> [0.8059472  0.06858016 0.12547256]\n",
      "[1. 0. 0.] <-> [0.81113726 0.04636757 0.14249507]\n",
      "[1. 0. 0.] <-> [0.8158592  0.10934123 0.07479957]\n",
      "[1. 0. 0.] <-> [0.82034135 0.11033884 0.06931978]\n",
      "[0. 0. 1.] <-> [0.2742234  0.01181124 0.7139654 ]\n",
      "[0. 0. 1.] <-> [0.7684996  0.03126786 0.20023257]\n",
      "[1. 0. 0.] <-> [0.68586344 0.27715105 0.03698558]\n",
      "[0. 0. 1.] <-> [0.52652866 0.03227789 0.44119346]\n",
      "[1. 0. 0.] <-> [0.84524053 0.06805924 0.08670027]\n",
      "[1. 0. 0.] <-> [0.81169003 0.09116077 0.09714917]\n",
      "[0. 1. 0.] <-> [0.2897936 0.6989292 0.0112772]\n",
      "[1. 0. 0.] <-> [0.81725806 0.06981401 0.11292799]\n",
      "[1. 0. 0.] <-> [0.8197588  0.11941477 0.06082647]\n",
      "[1. 0. 0.] <-> [0.8347316  0.04449804 0.12077035]\n",
      "[1. 0. 0.] <-> [0.8090607  0.10532431 0.08561506]\n",
      "[1. 0. 0.] <-> [0.8141417  0.0453979  0.14046043]\n",
      "[1. 0. 0.] <-> [0.80936563 0.05909184 0.13154249]\n",
      "[0. 1. 0.] <-> [0.42134747 0.5612261  0.0174264 ]\n",
      "[1. 0. 0.] <-> [0.82755035 0.0877752  0.08467442]\n",
      "[1. 0. 0.] <-> [0.8199847  0.1041615  0.07585387]\n",
      "[1. 0. 0.] <-> [0.83613497 0.09218124 0.07168382]\n",
      "[0. 0. 1.] <-> [0.2653021 0.0104728 0.7242251]\n",
      "[1. 0. 0.] <-> [0.7796391  0.16040346 0.05995744]\n",
      "[1. 0. 0.] <-> [0.818179   0.10163876 0.08018216]\n",
      "[1. 0. 0.] <-> [0.82753354 0.07497019 0.09749626]\n",
      "[1. 0. 0.] <-> [0.8088848  0.12811702 0.06299816]\n",
      "[1. 0. 0.] <-> [0.80289847 0.08676246 0.11033902]\n",
      "[1. 0. 0.] <-> [0.80607826 0.1103574  0.08356434]\n",
      "[1. 0. 0.] <-> [0.7930466  0.05936575 0.14758767]\n",
      "[1. 0. 0.] <-> [0.7931775  0.07391669 0.13290583]\n",
      "[1. 0. 0.] <-> [0.8015189  0.14163588 0.05684523]\n",
      "[0. 1. 0.] <-> [0.5738012  0.39963302 0.02656581]\n",
      "[1. 0. 0.] <-> [0.81743485 0.06097168 0.12159348]\n",
      "[1. 0. 0.] <-> [0.83676034 0.0729014  0.09033823]\n",
      "[1. 0. 0.] <-> [0.80989677 0.06750552 0.12259772]\n",
      "[1. 0. 0.] <-> [0.78541106 0.1022502  0.11233875]\n",
      "[1. 0. 0.] <-> [0.83603585 0.08694724 0.07701699]\n",
      "[1. 0. 0.] <-> [0.7639525  0.10761433 0.12843315]\n",
      "[1. 0. 0.] <-> [0.68692416 0.04019009 0.27288577]\n",
      "[1. 0. 0.] <-> [0.7373127  0.06486516 0.19782218]\n",
      "[0. 0. 1.] <-> [0.30147514 0.01297402 0.68555087]\n",
      "[0. 1. 0.] <-> [0.60444874 0.3630306  0.03252066]\n",
      "[1. 0. 0.] <-> [0.7909079  0.14912122 0.05997081]\n",
      "[1. 0. 0.] <-> [0.78048027 0.16330384 0.05621588]\n",
      "[1. 0. 0.] <-> [0.786667   0.05265048 0.16068251]\n",
      "[1. 0. 0.] <-> [0.7802566  0.11007732 0.10966606]\n",
      "[1. 0. 0.] <-> [0.82912475 0.04867868 0.12219657]\n",
      "[0. 0. 1.] <-> [0.6681204  0.03231557 0.2995641 ]\n",
      "[1. 0. 0.] <-> [0.8038071  0.13161069 0.06458223]\n",
      "[1. 0. 0.] <-> [0.815276   0.04743073 0.1372933 ]\n",
      "[1. 0. 0.] <-> [0.8116818  0.04355272 0.14476548]\n",
      "[1. 0. 0.] <-> [0.8351657  0.08132508 0.08350918]\n",
      "[1. 0. 0.] <-> [0.8314502  0.04716047 0.12138933]\n",
      "[1. 0. 0.] <-> [0.77249044 0.1536214  0.0738881 ]\n",
      "[0. 1. 0.] <-> [0.6838987  0.28034735 0.03575402]\n",
      "[1. 0. 0.] <-> [0.7900996  0.0812257  0.12867461]\n",
      "[1. 0. 0.] <-> [0.7909361  0.06511935 0.14394459]\n",
      "[1. 0. 0.] <-> [0.8070534  0.09884323 0.0941034 ]\n",
      "[1. 0. 0.] <-> [0.6969137  0.04852744 0.2545588 ]\n",
      "[1. 0. 0.] <-> [0.7873716  0.11903032 0.09359808]\n",
      "[1. 0. 0.] <-> [0.8287157  0.06159018 0.1096941 ]\n",
      "[1. 0. 0.] <-> [0.7529689  0.03961392 0.20741725]\n",
      "[1. 0. 0.] <-> [0.8346783  0.05867245 0.10664919]\n",
      "[0. 0. 1.] <-> [0.31890288 0.01485118 0.66624594]\n",
      "[1. 0. 0.] <-> [0.78173196 0.16445702 0.05381098]\n",
      "[0. 1. 0.] <-> [0.19881552 0.79517245 0.00601206]\n",
      "[0. 0. 1.] <-> [0.3081192  0.01638607 0.67549473]\n",
      "[1. 0. 0.] <-> [0.7755428  0.16446221 0.059995  ]\n",
      "[0. 0. 1.] <-> [0.25937063 0.01146566 0.72916365]\n",
      "[0. 0. 1.] <-> [0.26378027 0.01497767 0.7212421 ]\n",
      "[1. 0. 0.] <-> [0.78336066 0.08254588 0.13409339]\n",
      "[1. 0. 0.] <-> [0.8256661  0.08713278 0.08720103]\n",
      "[1. 0. 0.] <-> [0.53185666 0.03969082 0.42845255]\n",
      "[1. 0. 0.] <-> [0.8425484  0.07477147 0.08268016]\n",
      "[1. 0. 0.] <-> [0.74025404 0.20388094 0.05586497]\n",
      "[0. 1. 0.] <-> [0.45981303 0.51798654 0.02220042]\n",
      "[1. 0. 0.] <-> [0.7978155  0.08050521 0.12167929]\n",
      "[1. 0. 0.] <-> [0.85236263 0.06049569 0.08714168]\n",
      "[1. 0. 0.] <-> [0.7756107  0.04565103 0.1787383 ]\n",
      "[1. 0. 0.] <-> [0.79853183 0.08835393 0.1131142 ]\n",
      "[1. 0. 0.] <-> [0.77292025 0.04596206 0.18111774]\n",
      "[1. 0. 0.] <-> [0.79019856 0.13443515 0.07536628]\n",
      "[0. 1. 0.] <-> [0.47133502 0.507064   0.02160106]\n",
      "[0. 1. 0.] <-> [0.40164152 0.58038527 0.01797329]\n",
      "[0. 0. 1.] <-> [0.26482716 0.01092392 0.72424895]\n",
      "[1. 0. 0.] <-> [0.8151701  0.13000868 0.05482128]\n",
      "[1. 0. 0.] <-> [0.775353   0.17440479 0.05024219]\n",
      "[1. 0. 0.] <-> [0.78766125 0.1400498  0.07228898]\n",
      "[1. 0. 0.] <-> [0.8347754  0.08678527 0.07843928]\n",
      "[1. 0. 0.] <-> [0.7460945  0.06760214 0.1863033 ]\n",
      "[1. 0. 0.] <-> [0.73406255 0.06174514 0.20419228]\n",
      "[0. 1. 0.] <-> [0.24979998 0.7413576  0.00884243]\n",
      "[0. 1. 0.] <-> [0.631599   0.33820087 0.03020019]\n",
      "{'accuracy': 0.9506172839506173, 'mean_square_error': 0.15235535120845742, 'categorical_crossentropy': 0.3252026946456344, 'essential_metrics': {0: {'tp_hit': 80, 'fp_hit': 8, 'tn_hit': 20, 'fn_hit': 0}, 1: {'tp_hit': 10, 'fp_hit': 0, 'tn_hit': 93, 'fn_hit': 5}, 2: {'tp_hit': 10, 'fp_hit': 0, 'tn_hit': 95, 'fn_hit': 3}}}\n"
     ]
    }
   ],
   "source": [
    "# recall phase\n",
    "score = model.evaluate(x_test, y_test, False)\n",
    "print(score)"
   ]
  },
  {
   "cell_type": "code",
   "execution_count": 11,
   "metadata": {},
   "outputs": [
    {
     "data": {
      "image/png": "[encoded data removed]",
      "text/plain": [
       "<Figure size 864x360 with 1 Axes>"
      ]
     },
     "metadata": {
      "needs_background": "light"
     },
     "output_type": "display_data"
    },
    {
     "data": {
      "image/png": "[encoded data removed]",
      "text/plain": [
       "<Figure size 864x360 with 1 Axes>"
      ]
     },
     "metadata": {
      "needs_background": "light"
     },
     "output_type": "display_data"
    }
   ],
   "source": [
    "draw_plot(x = [[i for i in range(len(history))], [(i+1)*breakpoint for i in range(len(checkpoints))]], y_list = [history, [ ckp[model.loss_fn] for ckp in checkpoints ]], x_label = 'Epochs', \\\n",
    "    y_label = model.loss_fn, legend=['train', 'test'])\n",
    "acc = [ ckp['accuracy'] for ckp in checkpoints ]\n",
    "draw_plot(x = [[(i+1)*breakpoint for i in range(len(checkpoints))]], y_list = [acc], x_label = 'Checkpoints', \\\n",
    "    y_label = 'accuracy')"
   ]
  },
  {
   "cell_type": "code",
   "execution_count": 12,
   "metadata": {},
   "outputs": [
    {
     "name": "stdout",
     "output_type": "stream",
     "text": [
      "{'accuracy': 0.9259259259259259, 'mean_square_error': 0.18908672605328045, 'categorical_crossentropy': 0.37944821958188657, 'essential_metrics': {0: {'tp_hit': 80, 'fp_hit': 12, 'tn_hit': 16, 'fn_hit': 0}, 1: {'tp_hit': 6, 'fp_hit': 0, 'tn_hit': 93, 'fn_hit': 9}, 2: {'tp_hit': 10, 'fp_hit': 0, 'tn_hit': 95, 'fn_hit': 3}}, 'checkpoint': 100} \n",
      "\n",
      "\n",
      "{'accuracy': 0.9382716049382716, 'mean_square_error': 0.16054273839407215, 'categorical_crossentropy': 0.3361209233601888, 'essential_metrics': {0: {'tp_hit': 80, 'fp_hit': 10, 'tn_hit': 18, 'fn_hit': 0}, 1: {'tp_hit': 8, 'fp_hit': 0, 'tn_hit': 93, 'fn_hit': 7}, 2: {'tp_hit': 10, 'fp_hit': 0, 'tn_hit': 95, 'fn_hit': 3}}, 'checkpoint': 200} \n",
      "\n",
      "\n",
      "{'accuracy': 0.9506172839506173, 'mean_square_error': 0.158253464617519, 'categorical_crossentropy': 0.3316319430315936, 'essential_metrics': {0: {'tp_hit': 80, 'fp_hit': 8, 'tn_hit': 20, 'fn_hit': 0}, 1: {'tp_hit': 10, 'fp_hit': 0, 'tn_hit': 93, 'fn_hit': 5}, 2: {'tp_hit': 10, 'fp_hit': 0, 'tn_hit': 95, 'fn_hit': 3}}, 'checkpoint': 300} \n",
      "\n",
      "\n",
      "{'accuracy': 0.9506172839506173, 'mean_square_error': 0.15235535120845742, 'categorical_crossentropy': 0.3252026946456344, 'essential_metrics': {0: {'tp_hit': 80, 'fp_hit': 8, 'tn_hit': 20, 'fn_hit': 0}, 1: {'tp_hit': 10, 'fp_hit': 0, 'tn_hit': 93, 'fn_hit': 5}, 2: {'tp_hit': 10, 'fp_hit': 0, 'tn_hit': 95, 'fn_hit': 3}}, 'checkpoint': 400} \n",
      "\n",
      "\n",
      "{'accuracy': 0.9506172839506173, 'mean_square_error': 0.15235535120845742, 'categorical_crossentropy': 0.3252026946456344, 'essential_metrics': {0: {'tp_hit': 80, 'fp_hit': 8, 'tn_hit': 20, 'fn_hit': 0}, 1: {'tp_hit': 10, 'fp_hit': 0, 'tn_hit': 93, 'fn_hit': 5}, 2: {'tp_hit': 10, 'fp_hit': 0, 'tn_hit': 95, 'fn_hit': 3}}, 'checkpoint': 500} \n",
      "\n",
      "\n"
     ]
    }
   ],
   "source": [
    "for checkpoint in checkpoints:\n",
    "    print(checkpoint, '\\n\\n')"
   ]
  },
  {
   "cell_type": "code",
   "execution_count": 13,
   "metadata": {},
   "outputs": [
    {
     "name": "stdout",
     "output_type": "stream",
     "text": [
      "Layer 1\n",
      "Neuron 0: weights:\n",
      "[-0.30674595  0.78486115  0.05973938 -0.8897828  -1.0749155 ]\n",
      " bias: 0.7479410767555237\n",
      "\n",
      "Neuron 1: weights:\n",
      "[-4.0011448e-01  9.6954918e-01  5.1009941e-01 -8.0867944e-04\n",
      " -7.4740872e-02]\n",
      " bias: -0.40086087584495544\n",
      "\n",
      "Neuron 2: weights:\n",
      "[ 0.56411856 -1.2630621  -0.7663879  -0.20609005  0.2443969 ]\n",
      " bias: 0.7079600095748901\n",
      "\n",
      "Neuron 3: weights:\n",
      "[ 0.27176118 -0.64647996 -0.3639063   0.49609846  0.66664886]\n",
      " bias: -0.26785093545913696\n",
      "\n",
      "$\n",
      "Layer 2\n",
      "Neuron 0: weights:\n",
      "[ 1.2321928  -0.66294646  1.080626   -0.41034007]\n",
      " bias: 0.20496907830238342\n",
      "\n",
      "Neuron 1: weights:\n",
      "[ 0.5501243   1.5312154  -1.7944582  -0.82717705]\n",
      " bias: 0.13687850534915924\n",
      "\n",
      "Neuron 2: weights:\n",
      "[-1.8573798 -0.7556708  0.8407114  1.290305 ]\n",
      " bias: -0.21244414150714874\n",
      "\n",
      "$\n",
      "\n"
     ]
    }
   ],
   "source": [
    "print(model)"
   ]
  }
 ],
 "metadata": {
  "kernelspec": {
   "display_name": "Python 3",
   "language": "python",
   "name": "python3"
  },
  "language_info": {
   "codemirror_mode": {
    "name": "ipython",
    "version": 3
   },
   "file_extension": ".py",
   "mimetype": "text/x-python",
   "name": "python",
   "nbconvert_exporter": "python",
   "pygments_lexer": "ipython3",
   "version": "3.6.10"
  }
 },
 "nbformat": 4,
 "nbformat_minor": 2
}
