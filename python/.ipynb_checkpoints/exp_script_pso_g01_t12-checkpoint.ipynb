{
 "cells": [
  {
   "cell_type": "code",
   "execution_count": 1,
   "metadata": {},
   "outputs": [],
   "source": [
    "# dependency\n",
    "import numpy as np\n",
    "import pandas as pd\n",
    "import copy\n",
    "import math\n",
    "import sys\n",
    "import os\n",
    "from activations import relu, leaky_relu, sigmoid, tanh, softmax, d_sigmoid, d_relu\n",
    "from initializers import glorot_uniform, random_normal, random_uniform\n",
    "from regularizers import l1_regularizer, l2_regularizer\n",
    "from utility import trim_tail, multiply, subtract, get_nparams, one_hot_encoding, get_data\n",
    "from metrics import MSE, CCE, ACC, PRECISION, RECALL, essential_metrics, wondering_penalty, close_gap_penalty\n",
    "from pso import PSO\n",
    "from ga import GA\n",
    "from nn import Network\n",
    "from layer import DenseLayer\n",
    "from scalers import MinMaxScaler, StandardScaler"
   ]
  },
  {
   "cell_type": "code",
   "execution_count": 2,
   "metadata": {},
   "outputs": [],
   "source": [
    "# reference\n",
    "metrics_fn_dict = dict()\n",
    "metrics_fn_dict['accuracy'] = ACC\n",
    "metrics_fn_dict['categorical_crossentropy'] = CCE\n",
    "metrics_fn_dict['mean_square_error'] = MSE\n",
    "metrics_fn_dict['precision'] = PRECISION\n",
    "metrics_fn_dict['recall'] = RECALL\n",
    "metrics_fn_dict['essential_metrics'] = essential_metrics"
   ]
  },
  {
   "cell_type": "code",
   "execution_count": 3,
   "metadata": {},
   "outputs": [],
   "source": [
    "# model\n",
    "model = Network(5, lr = None)\n",
    "model.add_layer(DenseLayer(1, 4, True, afn=sigmoid, dafn=None, rfn=None))\n",
    "model.add_layer(DenseLayer(2, 3, True, afn=softmax, dafn=None, rfn=None))"
   ]
  },
  {
   "cell_type": "code",
   "execution_count": 4,
   "metadata": {},
   "outputs": [
    {
     "name": "stdout",
     "output_type": "stream",
     "text": [
      "see one see two 2 2\n"
     ]
    }
   ],
   "source": [
    "pso = PSO(dict(m = 100,\n",
    "    weight_constraint = [-3, 3], \n",
    "    velocity_constraint = [-0.1, 0.1],\n",
    "    c1 = 2,\n",
    "    c2 = 2,\n",
    "    w = 1,\n",
    "    w_decay = 1,\n",
    "    scale_hyperparameter = False,\n",
    "    regularizer = None,\n",
    "    mask = True))"
   ]
  },
  {
   "cell_type": "code",
   "execution_count": 5,
   "metadata": {},
   "outputs": [
    {
     "name": "stdout",
     "output_type": "stream",
     "text": [
      "building layer 1 with 5\n",
      "24\n",
      "building layer 2 with 4\n",
      "15\n"
     ]
    }
   ],
   "source": [
    "model.compile(loss_fn = 'categorical_crossentropy', optimizer = pso, \\\n",
    "    metrics = ['accuracy', 'mean_square_error', 'categorical_crossentropy'])"
   ]
  },
  {
   "cell_type": "code",
   "execution_count": 6,
   "metadata": {},
   "outputs": [
    {
     "name": "stdout",
     "output_type": "stream",
     "text": [
      "<class 'pandas.core.frame.DataFrame'>\n",
      "RangeIndex: 107 entries, 0 to 106\n",
      "Data columns (total 6 columns):\n",
      " #   Column  Non-Null Count  Dtype  \n",
      "---  ------  --------------  -----  \n",
      " 0   f1      107 non-null    float32\n",
      " 1   f2      107 non-null    float32\n",
      " 2   f3      107 non-null    float32\n",
      " 3   f4      107 non-null    float32\n",
      " 4   f5      107 non-null    float32\n",
      " 5   label   107 non-null    float32\n",
      "dtypes: float32(6)\n",
      "memory usage: 2.6 KB\n",
      "None\n",
      "<class 'pandas.core.frame.DataFrame'>\n",
      "RangeIndex: 108 entries, 0 to 107\n",
      "Data columns (total 6 columns):\n",
      " #   Column  Non-Null Count  Dtype  \n",
      "---  ------  --------------  -----  \n",
      " 0   f1      108 non-null    float32\n",
      " 1   f2      108 non-null    float32\n",
      " 2   f3      108 non-null    float32\n",
      " 3   f4      108 non-null    float32\n",
      " 4   f5      108 non-null    float32\n",
      " 5   label   108 non-null    float32\n",
      "dtypes: float32(6)\n",
      "memory usage: 2.7 KB\n",
      "None\n"
     ]
    }
   ],
   "source": [
    "# data loading\n",
    "DATA = os.path.join('c:\\\\Users\\\\tcumi\\\\github_repo\\\\neural-network\\\\', 'dataset')\n",
    "GROUP = 1\n",
    "COLUMNS = ['f1', 'f2', 'f3', 'f4', 'f5', 'label']\n",
    "N_CLASS = 3\n",
    "EPOCHS = 500\n",
    "train_dir, test_dir = \"..//dataset//training_data{}.txt\".format(GROUP), \"..//dataset//testing_data{}.txt\".format(GROUP)\n",
    "train, test = get_data(DATA, train_dir, COLUMNS), get_data(DATA, test_dir, COLUMNS)\n",
    "# shuffle\n",
    "train, test = train.sample(frac=1), test.sample(frac=1)\n",
    "x_train, y_train = train.drop('label', axis=1), train['label']\n",
    "x_test, y_test = test.drop('label', axis=1), test['label']"
   ]
  },
  {
   "cell_type": "code",
   "execution_count": 7,
   "metadata": {},
   "outputs": [],
   "source": [
    "# data scaling and encoding\n",
    "scaler = StandardScaler(['f1', 'f2', 'f3', 'f4', 'f5'])\n",
    "scaler.fit(x_train)\n",
    "x_train = scaler.transform(x_train)\n",
    "x_test = scaler.transform(x_test)\n",
    "y_train = one_hot_encoding(y_train, N_CLASS)\n",
    "y_test = one_hot_encoding(y_test, N_CLASS)"
   ]
  },
  {
   "cell_type": "code",
   "execution_count": 8,
   "metadata": {
    "tags": [
     "outputPrepend"
    ]
   },
   "outputs": [
    {
     "name": "stdout",
     "output_type": "stream",
     "text": [
      "Checkpoint 100, Accuracy: 0.9814814814814815, Loss: 0.09681403195416485\n",
      "Checkpoint 200, Accuracy: 0.9691358024691358, Loss: 0.11295212639702691\n",
      "Checkpoint 300, Accuracy: 0.9691358024691358, Loss: 0.1052220485828541\n",
      "Checkpoint 400, Accuracy: 0.9691358024691358, Loss: 0.10158111430980542\n",
      "Checkpoint 500, Accuracy: 0.9691358024691358, Loss: 0.10549930289939598\n"
     ]
    }
   ],
   "source": [
    "# learning phase\n",
    "breakpoint = 100\n",
    "checkpoints = list()\n",
    "history = list()\n",
    "for century in range(0, EPOCHS, breakpoint):\n",
    "    sub_history = model.fit(x_train, y_train, breakpoint, verbose = 0)\n",
    "    score = model.evaluate(x_test, y_test, False, verbose = 0)\n",
    "    print('Checkpoint {}, Accuracy: {}, Loss: {}'.format(century+breakpoint, score['accuracy'], score[model.loss_fn]))\n",
    "    score['checkpoint'] = century + breakpoint\n",
    "    checkpoints.append(score)\n",
    "    history.extend(sub_history)"
   ]
  },
  {
   "cell_type": "code",
   "execution_count": 9,
   "metadata": {},
   "outputs": [],
   "source": [
    "import matplotlib.pyplot as plt\n",
    "\n",
    "def draw_plot(x, y_list, x_label=None, y_label=None, legend=None, title=None):\n",
    "    fig, ax = plt.subplots(figsize=(12,5))\n",
    "    for xi, yi in zip(x, y_list):\n",
    "        ax.plot(xi, yi)\n",
    "    if x_label is not None and y_label is not None:\n",
    "        ax.set(xlabel=x_label, ylabel=y_label, title='{} VS {}'.format(x_label, y_label))\n",
    "    if legend is not None:\n",
    "        ax.legend(legend)\n",
    "    ax.grid()\n",
    "    plt.show()"
   ]
  },
  {
   "cell_type": "code",
   "execution_count": 10,
   "metadata": {},
   "outputs": [
    {
     "name": "stdout",
     "output_type": "stream",
     "text": [
      "[1. 0. 0.] <-> [0.9921129  0.00675241 0.00113471]\n",
      "[1. 0. 0.] <-> [0.6402246  0.00079464 0.35898072]\n",
      "[0. 1. 0.] <-> [9.0465546e-03 9.9093902e-01 1.4436478e-05]\n",
      "[1. 0. 0.] <-> [3.8629511e-01 6.1315584e-01 5.4909644e-04]\n",
      "[1. 0. 0.] <-> [0.9811841  0.00116298 0.0176529 ]\n",
      "[1. 0. 0.] <-> [0.99686253 0.00146285 0.00167459]\n",
      "[0. 1. 0.] <-> [5.504666e-03 9.944865e-01 8.943577e-06]\n",
      "[1. 0. 0.] <-> [0.9934818  0.00116782 0.00535029]\n",
      "[1. 0. 0.] <-> [0.9961904  0.00113453 0.00267501]\n",
      "[1. 0. 0.] <-> [0.99202734 0.00118621 0.00678645]\n",
      "[1. 0. 0.] <-> [0.995248   0.00129769 0.00345433]\n",
      "[0. 1. 0.] <-> [5.6384983e-03 9.9435234e-01 9.1557858e-06]\n",
      "[0. 0. 1.] <-> [5.764631e-03 8.053283e-06 9.942273e-01]\n",
      "[1. 0. 0.] <-> [0.99709773 0.00162012 0.00128221]\n",
      "[1. 0. 0.] <-> [0.9924971  0.00627853 0.00122444]\n",
      "[0. 1. 0.] <-> [7.1444344e-03 9.9284393e-01 1.1581883e-05]\n",
      "[1. 0. 0.] <-> [0.9962657  0.0012951  0.00243915]\n",
      "[0. 0. 1.] <-> [1.3014950e-01 1.6805695e-04 8.6968243e-01]\n",
      "[0. 1. 0.] <-> [0.79323876 0.20573832 0.00102288]\n",
      "[0. 0. 1.] <-> [0.5764272  0.00074177 0.42283103]\n",
      "[0. 0. 1.] <-> [7.072339e-03 9.855989e-06 9.929178e-01]\n",
      "[1. 0. 0.] <-> [0.99636924 0.00250807 0.00112272]\n",
      "[1. 0. 0.] <-> [0.9938066  0.0012415  0.00495194]\n",
      "[1. 0. 0.] <-> [0.9958047  0.00127594 0.00291942]\n",
      "[0. 0. 1.] <-> [6.1521498e-03 8.5830861e-06 9.9383932e-01]\n",
      "[1. 0. 0.] <-> [0.9966119 0.0021752 0.0012129]\n",
      "[1. 0. 0.] <-> [0.9963775  0.00120195 0.00242055]\n",
      "[1. 0. 0.] <-> [0.99678934 0.00199707 0.00121353]\n",
      "[0. 0. 1.] <-> [5.7636718e-03 8.0519612e-06 9.9422824e-01]\n",
      "[0. 1. 0.] <-> [1.05511965e-02 9.89431858e-01 1.69314426e-05]\n",
      "[1. 0. 0.] <-> [0.9965119  0.00226378 0.00122441]\n",
      "[1. 0. 0.] <-> [0.99645823 0.00152123 0.00202057]\n",
      "[1. 0. 0.] <-> [0.9966354  0.00115482 0.00220989]\n",
      "[0. 1. 0.] <-> [5.4797120e-03 9.9451137e-01 8.8904717e-06]\n",
      "[1. 0. 0.] <-> [0.9969399  0.001526   0.00153418]\n",
      "[1. 0. 0.] <-> [0.99615425 0.00129208 0.00255367]\n",
      "[1. 0. 0.] <-> [0.9962488  0.0022607  0.00149045]\n",
      "[1. 0. 0.] <-> [0.99742943 0.0013053  0.0012652 ]\n",
      "[1. 0. 0.] <-> [0.99677426 0.00195173 0.00127398]\n",
      "[1. 0. 0.] <-> [0.99722266 0.00127725 0.00150008]\n",
      "[1. 0. 0.] <-> [0.9884029  0.00114942 0.01044771]\n",
      "[1. 0. 0.] <-> [0.9970035  0.00138979 0.00160679]\n",
      "[1. 0. 0.] <-> [0.99712306 0.00136653 0.0015104 ]\n",
      "[0. 0. 1.] <-> [5.7638716e-03 8.0522450e-06 9.9422812e-01]\n",
      "[0. 1. 0.] <-> [5.4796655e-03 9.9451149e-01 8.9159103e-06]\n",
      "[1. 0. 0.] <-> [0.9811328  0.00119019 0.01767698]\n",
      "[1. 0. 0.] <-> [0.99609154 0.00144647 0.00246194]\n",
      "[1. 0. 0.] <-> [0.9922316  0.00116689 0.00660152]\n",
      "[1. 0. 0.] <-> [0.90072215 0.09800854 0.00126933]\n",
      "[1. 0. 0.] <-> [0.9933381  0.001283   0.00537887]\n",
      "[1. 0. 0.] <-> [0.89364225 0.10513263 0.00122514]\n",
      "[1. 0. 0.] <-> [0.99306196 0.00117671 0.00576132]\n",
      "[1. 0. 0.] <-> [0.99650913 0.00228064 0.00121024]\n",
      "[1. 0. 0.] <-> [0.9967691  0.00179519 0.00143576]\n",
      "[1. 0. 0.] <-> [0.9823375  0.01643327 0.00122925]\n",
      "[1. 0. 0.] <-> [0.9950982  0.00370209 0.00119977]\n",
      "[1. 0. 0.] <-> [0.8746768  0.00107591 0.12424727]\n",
      "[1. 0. 0.] <-> [0.99661785 0.00186899 0.00151328]\n",
      "[1. 0. 0.] <-> [0.9899048  0.00805961 0.00203558]\n",
      "[0. 1. 0.] <-> [1.1739204e-01 8.8243759e-01 1.7035613e-04]\n",
      "[1. 0. 0.] <-> [0.9627597  0.00121358 0.03602674]\n",
      "[1. 0. 0.] <-> [0.99427056 0.00119817 0.00453123]\n",
      "[1. 0. 0.] <-> [0.9579097  0.0011499  0.04094036]\n",
      "[1. 0. 0.] <-> [0.99714583 0.00137276 0.0014814 ]\n",
      "[1. 0. 0.] <-> [0.99627656 0.00260368 0.00111977]\n",
      "[1. 0. 0.] <-> [0.99518484 0.00116102 0.0036542 ]\n",
      "[0. 1. 0.] <-> [5.4796524e-03 9.9451149e-01 8.8893112e-06]\n",
      "[1. 0. 0.] <-> [0.9951331  0.00125839 0.00360841]\n",
      "[0. 0. 1.] <-> [5.7637021e-03 8.0520067e-06 9.9422824e-01]\n",
      "[0. 0. 1.] <-> [5.7789120e-03 8.0826740e-06 9.9421304e-01]\n",
      "[1. 0. 0.] <-> [0.9964927  0.00226126 0.00124601]\n",
      "[0. 0. 1.] <-> [5.9060063e-03 8.2512734e-06 9.9408567e-01]\n",
      "[1. 0. 0.] <-> [0.99482393 0.00120932 0.00396682]\n",
      "[1. 0. 0.] <-> [0.9925256  0.00121113 0.00626327]\n",
      "[1. 0. 0.] <-> [0.99538535 0.00139494 0.00321975]\n",
      "[1. 0. 0.] <-> [0.9440441  0.00115569 0.05480017]\n",
      "[1. 0. 0.] <-> [0.98664665 0.01214418 0.00120908]\n",
      "[0. 0. 1.] <-> [5.7636718e-03 8.0519612e-06 9.9422824e-01]\n",
      "[1. 0. 0.] <-> [0.9973532  0.00132112 0.00132562]\n",
      "[1. 0. 0.] <-> [0.99631006 0.00118582 0.00250413]\n",
      "[1. 0. 0.] <-> [0.96993005 0.00116674 0.02890318]\n",
      "[1. 0. 0.] <-> [0.9958918  0.00192102 0.0021872 ]\n",
      "[0. 1. 0.] <-> [3.7338495e-01 6.2610054e-01 5.1447551e-04]\n",
      "[1. 0. 0.] <-> [0.9965419  0.00218361 0.00127442]\n",
      "[1. 0. 0.] <-> [0.9971831  0.00127182 0.00154509]\n",
      "[1. 0. 0.] <-> [0.9969002  0.00124526 0.00185465]\n",
      "[1. 0. 0.] <-> [0.911428   0.00112582 0.0874462 ]\n",
      "[1. 0. 0.] <-> [0.98202974 0.00124259 0.01672775]\n",
      "[1. 0. 0.] <-> [0.9895695  0.00117507 0.00925545]\n",
      "[0. 1. 0.] <-> [5.775514e-03 9.942152e-01 9.352777e-06]\n",
      "[1. 0. 0.] <-> [0.99535024 0.00125692 0.00339282]\n",
      "[0. 1. 0.] <-> [1.8870197e-02 9.8110020e-01 2.9645891e-05]\n",
      "[0. 1. 0.] <-> [4.3840896e-02 9.5609313e-01 6.6027853e-05]\n",
      "[0. 0. 1.] <-> [5.8039152e-03 8.1075295e-06 9.9418795e-01]\n",
      "[1. 0. 0.] <-> [3.5543334e-01 4.5832986e-04 6.4410836e-01]\n",
      "[1. 0. 0.] <-> [0.9911645  0.00115974 0.00767581]\n",
      "[0. 0. 1.] <-> [6.5346533e-03 9.5116729e-06 9.9345583e-01]\n",
      "[1. 0. 0.] <-> [1.6962528e-02 2.3130817e-05 9.8301435e-01]\n",
      "[1. 0. 0.] <-> [0.99477935 0.00146641 0.00375428]\n",
      "[1. 0. 0.] <-> [0.9971559  0.00160749 0.00123663]\n",
      "[1. 0. 0.] <-> [0.8820541  0.00106588 0.11688004]\n",
      "[1. 0. 0.] <-> [0.9969373  0.00155086 0.00151185]\n",
      "[0. 1. 0.] <-> [2.3435609e-01 7.6529801e-01 3.4590179e-04]\n",
      "[1. 0. 0.] <-> [0.9953549  0.00337433 0.00127075]\n",
      "[1. 0. 0.] <-> [0.96523386 0.00138745 0.03337874]\n",
      "[1. 0. 0.] <-> [0.99592423 0.00229153 0.00178427]\n",
      "[1. 0. 0.] <-> [0.9957696  0.00137594 0.00285446]\n",
      "[1. 0. 0.] <-> [0.8956453  0.0011389  0.10321578]\n",
      "{'accuracy': 0.9691358024691358, 'mean_square_error': 0.058479275459473484, 'categorical_crossentropy': 0.10549930289939598, 'essential_metrics': {0: {'tp_hit': 77, 'fp_hit': 2, 'tn_hit': 26, 'fn_hit': 3}, 1: {'tp_hit': 14, 'fp_hit': 1, 'tn_hit': 92, 'fn_hit': 1}, 2: {'tp_hit': 12, 'fp_hit': 2, 'tn_hit': 93, 'fn_hit': 1}}}\n"
     ]
    }
   ],
   "source": [
    "# recall phase\n",
    "score = model.evaluate(x_test, y_test, False)\n",
    "print(score)"
   ]
  },
  {
   "cell_type": "code",
   "execution_count": 11,
   "metadata": {},
   "outputs": [
    {
     "data": {
      "image/png": "[encoded data removed]",
      "text/plain": [
       "<Figure size 864x360 with 1 Axes>"
      ]
     },
     "metadata": {
      "needs_background": "light"
     },
     "output_type": "display_data"
    },
    {
     "data": {
      "image/png": "[encoded data removed]",
      "text/plain": [
       "<Figure size 864x360 with 1 Axes>"
      ]
     },
     "metadata": {
      "needs_background": "light"
     },
     "output_type": "display_data"
    }
   ],
   "source": [
    "draw_plot(x = [[i for i in range(len(history))], [(i+1)*breakpoint for i in range(len(checkpoints))]], y_list = [history, [ ckp[model.loss_fn] for ckp in checkpoints ]], x_label = 'Epochs', \\\n",
    "    y_label = model.loss_fn, legend=['train', 'test'])\n",
    "acc = [ ckp['accuracy'] for ckp in checkpoints ]\n",
    "draw_plot(x = [[(i+1)*breakpoint for i in range(len(checkpoints))]], y_list = [acc], x_label = 'Checkpoints', \\\n",
    "    y_label = 'accuracy')"
   ]
  },
  {
   "cell_type": "code",
   "execution_count": 12,
   "metadata": {},
   "outputs": [
    {
     "name": "stdout",
     "output_type": "stream",
     "text": [
      "{'accuracy': 0.9814814814814815, 'mean_square_error': 0.03976262421646863, 'categorical_crossentropy': 0.09681403195416485, 'essential_metrics': {0: {'tp_hit': 80, 'fp_hit': 3, 'tn_hit': 25, 'fn_hit': 0}, 1: {'tp_hit': 14, 'fp_hit': 0, 'tn_hit': 93, 'fn_hit': 1}, 2: {'tp_hit': 11, 'fp_hit': 0, 'tn_hit': 95, 'fn_hit': 2}}, 'checkpoint': 100} \n",
      "\n",
      "\n",
      "{'accuracy': 0.9691358024691358, 'mean_square_error': 0.06353233318328906, 'categorical_crossentropy': 0.11295212639702691, 'essential_metrics': {0: {'tp_hit': 77, 'fp_hit': 2, 'tn_hit': 26, 'fn_hit': 3}, 1: {'tp_hit': 14, 'fp_hit': 1, 'tn_hit': 92, 'fn_hit': 1}, 2: {'tp_hit': 12, 'fp_hit': 2, 'tn_hit': 93, 'fn_hit': 1}}, 'checkpoint': 200} \n",
      "\n",
      "\n",
      "{'accuracy': 0.9691358024691358, 'mean_square_error': 0.057951056094148086, 'categorical_crossentropy': 0.1052220485828541, 'essential_metrics': {0: {'tp_hit': 77, 'fp_hit': 2, 'tn_hit': 26, 'fn_hit': 3}, 1: {'tp_hit': 14, 'fp_hit': 1, 'tn_hit': 92, 'fn_hit': 1}, 2: {'tp_hit': 12, 'fp_hit': 2, 'tn_hit': 93, 'fn_hit': 1}}, 'checkpoint': 300} \n",
      "\n",
      "\n",
      "{'accuracy': 0.9691358024691358, 'mean_square_error': 0.05564330329353387, 'categorical_crossentropy': 0.10158111430980542, 'essential_metrics': {0: {'tp_hit': 77, 'fp_hit': 2, 'tn_hit': 26, 'fn_hit': 3}, 1: {'tp_hit': 14, 'fp_hit': 1, 'tn_hit': 92, 'fn_hit': 1}, 2: {'tp_hit': 12, 'fp_hit': 2, 'tn_hit': 93, 'fn_hit': 1}}, 'checkpoint': 400} \n",
      "\n",
      "\n",
      "{'accuracy': 0.9691358024691358, 'mean_square_error': 0.058479275459473484, 'categorical_crossentropy': 0.10549930289939598, 'essential_metrics': {0: {'tp_hit': 77, 'fp_hit': 2, 'tn_hit': 26, 'fn_hit': 3}, 1: {'tp_hit': 14, 'fp_hit': 1, 'tn_hit': 92, 'fn_hit': 1}, 2: {'tp_hit': 12, 'fp_hit': 2, 'tn_hit': 93, 'fn_hit': 1}}, 'checkpoint': 500} \n",
      "\n",
      "\n"
     ]
    }
   ],
   "source": [
    "for checkpoint in checkpoints:\n",
    "    print(checkpoint, '\\n\\n')"
   ]
  },
  {
   "cell_type": "code",
   "execution_count": 13,
   "metadata": {},
   "outputs": [
    {
     "name": "stdout",
     "output_type": "stream",
     "text": [
      "Layer 1\n",
      "Neuron 0: weights:\n",
      "[-0.1293629   3.          0.02739321 -0.83828115 -3.        ]\n",
      " bias: 2.6143038272857666\n",
      "\n",
      "Neuron 1: weights:\n",
      "[-0.04568887 -3.         -1.1232644   1.2485689   3.        ]\n",
      " bias: -3.0\n",
      "\n",
      "Neuron 2: weights:\n",
      "[-1.9279943  3.         2.0373373  1.7078829 -3.       ]\n",
      " bias: -3.0\n",
      "\n",
      "Neuron 3: weights:\n",
      "[ 1.978589  -3.        -2.0767372 -1.4896216  3.       ]\n",
      " bias: 3.0\n",
      "\n",
      "$\n",
      "Layer 2\n",
      "Neuron 0: weights:\n",
      "[ 3. -3. -3.  3.]\n",
      " bias: 0.3363242745399475\n",
      "\n",
      "Neuron 1: weights:\n",
      "[ 3.        -2.7746396  3.        -3.       ]\n",
      " bias: -0.4624507427215576\n",
      "\n",
      "Neuron 2: weights:\n",
      "[-3.         3.        -2.5744154  3.       ]\n",
      " bias: -0.513283908367157\n",
      "\n",
      "$\n",
      "\n"
     ]
    }
   ],
   "source": [
    "print(model)"
   ]
  }
 ],
 "metadata": {
  "kernelspec": {
   "display_name": "Python 3",
   "language": "python",
   "name": "python3"
  },
  "language_info": {
   "codemirror_mode": {
    "name": "ipython",
    "version": 3
   },
   "file_extension": ".py",
   "mimetype": "text/x-python",
   "name": "python",
   "nbconvert_exporter": "python",
   "pygments_lexer": "ipython3",
   "version": "3.6.10"
  }
 },
 "nbformat": 4,
 "nbformat_minor": 2
}
