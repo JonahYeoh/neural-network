{
 "cells": [
  {
   "cell_type": "code",
   "execution_count": 1,
   "metadata": {},
   "outputs": [],
   "source": [
    "# two"
   ]
  },
  {
   "cell_type": "code",
   "execution_count": 2,
   "metadata": {},
   "outputs": [],
   "source": [
    "# dependency\n",
    "import numpy as np\n",
    "import pandas as pd\n",
    "import copy\n",
    "import math\n",
    "import sys\n",
    "import os\n",
    "from activations import relu, leaky_relu, sigmoid, tanh, softmax, d_sigmoid, d_relu\n",
    "from initializers import glorot_uniform, random_normal, random_uniform\n",
    "from regularizers import l1_regularizer, l2_regularizer\n",
    "from utility import trim_tail, multiply, subtract, get_nparams, one_hot_encoding, get_data\n",
    "from metrics import MSE, CCE, ACC, PRECISION, RECALL, essential_metrics, wondering_penalty, close_gap_penalty\n",
    "from pso import PSO\n",
    "from ga import GA\n",
    "from nn import Network\n",
    "from layer import DenseLayer\n",
    "from scalers import MinMaxScaler, StandardScaler"
   ]
  },
  {
   "cell_type": "code",
   "execution_count": 3,
   "metadata": {},
   "outputs": [],
   "source": [
    "# reference\n",
    "metrics_fn_dict = dict()\n",
    "metrics_fn_dict['accuracy'] = ACC\n",
    "metrics_fn_dict['categorical_crossentropy'] = CCE\n",
    "metrics_fn_dict['mean_square_error'] = MSE\n",
    "metrics_fn_dict['precision'] = PRECISION\n",
    "metrics_fn_dict['recall'] = RECALL\n",
    "metrics_fn_dict['essential_metrics'] = essential_metrics"
   ]
  },
  {
   "cell_type": "code",
   "execution_count": 4,
   "metadata": {},
   "outputs": [],
   "source": [
    "# model\n",
    "model = Network(5, lr = None)\n",
    "model.add_layer(DenseLayer(1, 4, True, afn=sigmoid, dafn=None, rfn=None))\n",
    "model.add_layer(DenseLayer(2, 3, True, afn=softmax, dafn=None, rfn=None))"
   ]
  },
  {
   "cell_type": "code",
   "execution_count": 5,
   "metadata": {},
   "outputs": [],
   "source": [
    "# optimizer\n",
    "ga = GA(\n",
    "    dict(\n",
    "        m = 50,\n",
    "        x_rate = 0.5,\n",
    "        m_rate = 0.5,\n",
    "        weight_constraint = [-3.,3.],\n",
    "        radioactive_rating = 0.1,\n",
    "        grow_factor = 0.1,\n",
    "        scale_hyperparameter = False,\n",
    "        regularizer = None))"
   ]
  },
  {
   "cell_type": "code",
   "execution_count": 6,
   "metadata": {},
   "outputs": [
    {
     "name": "stdout",
     "output_type": "stream",
     "text": [
      "building layer 1 with 5\n",
      "24\n",
      "building layer 2 with 4\n",
      "15\n"
     ]
    }
   ],
   "source": [
    "model.compile(loss_fn = 'categorical_crossentropy', optimizer = ga, \\\n",
    "    metrics = ['accuracy', 'mean_square_error', 'categorical_crossentropy', 'precision', 'recall', 'f1'])"
   ]
  },
  {
   "cell_type": "code",
   "execution_count": 7,
   "metadata": {},
   "outputs": [
    {
     "name": "stdout",
     "output_type": "stream",
     "text": [
      "<class 'pandas.core.frame.DataFrame'>\n",
      "RangeIndex: 107 entries, 0 to 106\n",
      "Data columns (total 6 columns):\n",
      " #   Column  Non-Null Count  Dtype  \n",
      "---  ------  --------------  -----  \n",
      " 0   f1      107 non-null    float32\n",
      " 1   f2      107 non-null    float32\n",
      " 2   f3      107 non-null    float32\n",
      " 3   f4      107 non-null    float32\n",
      " 4   f5      107 non-null    float32\n",
      " 5   label   107 non-null    float32\n",
      "dtypes: float32(6)\n",
      "memory usage: 2.6 KB\n",
      "None\n",
      "<class 'pandas.core.frame.DataFrame'>\n",
      "RangeIndex: 108 entries, 0 to 107\n",
      "Data columns (total 6 columns):\n",
      " #   Column  Non-Null Count  Dtype  \n",
      "---  ------  --------------  -----  \n",
      " 0   f1      108 non-null    float32\n",
      " 1   f2      108 non-null    float32\n",
      " 2   f3      108 non-null    float32\n",
      " 3   f4      108 non-null    float32\n",
      " 4   f5      108 non-null    float32\n",
      " 5   label   108 non-null    float32\n",
      "dtypes: float32(6)\n",
      "memory usage: 2.7 KB\n",
      "None\n"
     ]
    }
   ],
   "source": [
    "# data loading\n",
    "DATA = os.path.join('c:\\\\Users\\\\tcumi\\\\github_repo\\\\neural-network\\\\', 'dataset')\n",
    "GROUP = 3\n",
    "COLUMNS = ['f1', 'f2', 'f3', 'f4', 'f5', 'label']\n",
    "N_CLASS = 3\n",
    "EPOCHS = 500\n",
    "train_dir, test_dir = \"..//dataset//training_data{}.txt\".format(GROUP), \"..//dataset//testing_data{}.txt\".format(GROUP)\n",
    "train, test = get_data(DATA, train_dir, COLUMNS), get_data(DATA, test_dir, COLUMNS)\n",
    "# shuffle\n",
    "train, test = train.sample(frac=1), test.sample(frac=1)\n",
    "x_train, y_train = train.drop('label', axis=1), train['label']\n",
    "x_test, y_test = test.drop('label', axis=1), test['label']"
   ]
  },
  {
   "cell_type": "code",
   "execution_count": 8,
   "metadata": {},
   "outputs": [],
   "source": [
    "# data scaling and encoding\n",
    "scaler = StandardScaler(['f1', 'f2', 'f3', 'f4', 'f5'])\n",
    "scaler.fit(x_train)\n",
    "x_train = scaler.transform(x_train)\n",
    "x_test = scaler.transform(x_test)\n",
    "y_train = one_hot_encoding(y_train, N_CLASS)\n",
    "y_test = one_hot_encoding(y_test, N_CLASS)"
   ]
  },
  {
   "cell_type": "code",
   "execution_count": 9,
   "metadata": {
    "scrolled": true,
    "tags": [
     "outputPrepend"
    ]
   },
   "outputs": [
    {
     "name": "stderr",
     "output_type": "stream",
     "text": [
      "C:\\Users\\tcumi\\github_repo\\neural-network\\python\\ga.py:201: RuntimeWarning: overflow encountered in add\n",
      "  self.population.sort(key=lambda p: p.fitness + np.random.uniform(-shift, shift, 1), reverse = self.aim)\n"
     ]
    },
    {
     "name": "stdout",
     "output_type": "stream",
     "text": [
      "Checkpoint 100, Accuracy: 0.9074074074074074, Loss: 0.47532392431188514\n",
      "Checkpoint 200, Accuracy: 0.9135802469135802, Loss: 0.40460325170446326\n",
      "Checkpoint 300, Accuracy: 0.9197530864197531, Loss: 0.3632182721738462\n",
      "Checkpoint 400, Accuracy: 0.9382716049382716, Loss: 0.32924298886899594\n",
      "Checkpoint 500, Accuracy: 0.9444444444444444, Loss: 0.30059309358950015\n"
     ]
    }
   ],
   "source": [
    "# learning phase\n",
    "breakpoint = 100\n",
    "checkpoints = list()\n",
    "history = list()\n",
    "for century in range(0, EPOCHS, breakpoint):\n",
    "    sub_history = model.fit(x_train, y_train, breakpoint, verbose = 0)\n",
    "    score = model.evaluate(x_test, y_test, False, verbose = 0)\n",
    "    print('Checkpoint {}, Accuracy: {}, Loss: {}'.format(century+breakpoint, score['accuracy'], score[model.loss_fn]))\n",
    "    score['checkpoint'] = century + breakpoint\n",
    "    checkpoints.append(score)\n",
    "    history.extend(sub_history)\n",
    "    "
   ]
  },
  {
   "cell_type": "code",
   "execution_count": 10,
   "metadata": {},
   "outputs": [],
   "source": [
    "import matplotlib.pyplot as plt\n",
    "\n",
    "def draw_plot(x, y_list, x_label=None, y_label=None, legend=None, title=None):\n",
    "    fig, ax = plt.subplots(figsize=(12,5))\n",
    "    for xi, yi in zip(x, y_list):\n",
    "        ax.plot(xi, yi)\n",
    "    if x_label is not None and y_label is not None:\n",
    "        ax.set(xlabel=x_label, ylabel=y_label, title='{} VS {}'.format(x_label, y_label))\n",
    "    if legend is not None:\n",
    "        ax.legend(legend)\n",
    "    ax.grid()\n",
    "    plt.show()"
   ]
  },
  {
   "cell_type": "code",
   "execution_count": 11,
   "metadata": {},
   "outputs": [
    {
     "name": "stdout",
     "output_type": "stream",
     "text": [
      "[0. 1. 0.] <-> [0.0877513  0.9104538  0.00179498]\n",
      "[0. 1. 0.] <-> [6.8200439e-01 3.1736314e-01 6.3242018e-04]\n",
      "[1. 0. 0.] <-> [0.8815542  0.04702584 0.07141992]\n",
      "[1. 0. 0.] <-> [0.9283469  0.04485257 0.02680055]\n",
      "[0. 0. 1.] <-> [0.13673379 0.00453838 0.8587278 ]\n",
      "[0. 0. 1.] <-> [0.1477752  0.00342134 0.8488035 ]\n",
      "[1. 0. 0.] <-> [0.8298736  0.04329405 0.12683235]\n",
      "[1. 0. 0.] <-> [0.87865    0.11917426 0.00217571]\n",
      "[0. 1. 0.] <-> [6.2191093e-01 3.7763533e-01 4.5374935e-04]\n",
      "[1. 0. 0.] <-> [0.91103864 0.07044004 0.01852126]\n",
      "[1. 0. 0.] <-> [0.9040217  0.08936399 0.00661436]\n",
      "[1. 0. 0.] <-> [0.89840156 0.09772259 0.00387591]\n",
      "[1. 0. 0.] <-> [0.69840974 0.2991807  0.0024095 ]\n",
      "[0. 1. 0.] <-> [0.15341029 0.84463054 0.00195919]\n",
      "[1. 0. 0.] <-> [0.8430613  0.15430154 0.00263713]\n",
      "[1. 0. 0.] <-> [0.92987365 0.06223886 0.00788748]\n",
      "[0. 1. 0.] <-> [0.48235935 0.5167698  0.00087083]\n",
      "[0. 1. 0.] <-> [0.5414686  0.4571623  0.00136909]\n",
      "[1. 0. 0.] <-> [0.85930717 0.13839579 0.00229702]\n",
      "[1. 0. 0.] <-> [0.87051445 0.12736662 0.00211891]\n",
      "[0. 0. 1.] <-> [0.33634877 0.00851687 0.6551344 ]\n",
      "[1. 0. 0.] <-> [0.882651   0.11374815 0.00360081]\n",
      "[1. 0. 0.] <-> [0.8554865  0.06639478 0.07811876]\n",
      "[1. 0. 0.] <-> [0.8822622  0.11393663 0.00380122]\n",
      "[1. 0. 0.] <-> [0.8834615  0.0623822  0.05415629]\n",
      "[1. 0. 0.] <-> [0.9186052  0.07277229 0.00862257]\n",
      "[1. 0. 0.] <-> [0.8973974  0.09670758 0.00589503]\n",
      "[1. 0. 0.] <-> [0.91208744 0.08102191 0.0068906 ]\n",
      "[1. 0. 0.] <-> [0.92145747 0.07401341 0.00452913]\n",
      "[1. 0. 0.] <-> [0.72985715 0.26929453 0.00084834]\n",
      "[1. 0. 0.] <-> [0.899109   0.09804823 0.00284283]\n",
      "[1. 0. 0.] <-> [0.7049763  0.29252243 0.00250123]\n",
      "[0. 0. 1.] <-> [0.8698104  0.07477541 0.0554142 ]\n",
      "[1. 0. 0.] <-> [0.74024236 0.25876784 0.00098985]\n",
      "[1. 0. 0.] <-> [0.84870553 0.14963993 0.00165445]\n",
      "[1. 0. 0.] <-> [0.830897   0.1671464  0.00195662]\n",
      "[1. 0. 0.] <-> [0.8888499  0.10695998 0.0041902 ]\n",
      "[1. 0. 0.] <-> [0.74207073 0.02935887 0.22857043]\n",
      "[1. 0. 0.] <-> [0.9093328  0.06983797 0.02082922]\n",
      "[1. 0. 0.] <-> [0.9226279  0.06606393 0.01130807]\n",
      "[1. 0. 0.] <-> [0.49619964 0.01890821 0.48489222]\n",
      "[1. 0. 0.] <-> [0.91116387 0.08515272 0.00368349]\n",
      "[1. 0. 0.] <-> [0.83736193 0.07915893 0.0834792 ]\n",
      "[1. 0. 0.] <-> [0.9006088  0.09147232 0.00791887]\n",
      "[1. 0. 0.] <-> [0.89738077 0.09918423 0.00343497]\n",
      "[1. 0. 0.] <-> [0.87863714 0.11850662 0.00285624]\n",
      "[1. 0. 0.] <-> [0.9211533  0.07220296 0.00664376]\n",
      "[1. 0. 0.] <-> [0.8732566  0.12257403 0.00416933]\n",
      "[1. 0. 0.] <-> [0.87127423 0.12444717 0.00427864]\n",
      "[1. 0. 0.] <-> [0.9178067  0.07023883 0.01195445]\n",
      "[1. 0. 0.] <-> [0.8869669  0.1102256  0.00280756]\n",
      "[0. 0. 1.] <-> [0.19284002 0.00316971 0.8039903 ]\n",
      "[1. 0. 0.] <-> [0.8014926  0.19566412 0.00284338]\n",
      "[0. 1. 0.] <-> [0.33128625 0.66710585 0.00160789]\n",
      "[0. 0. 1.] <-> [0.39724493 0.01119649 0.5915586 ]\n",
      "[1. 0. 0.] <-> [0.8626809  0.03698542 0.10033366]\n",
      "[1. 0. 0.] <-> [0.8592128  0.13941653 0.00137063]\n",
      "[1. 0. 0.] <-> [0.92220116 0.06331064 0.01448822]\n",
      "[1. 0. 0.] <-> [0.91794777 0.07706657 0.00498561]\n",
      "[1. 0. 0.] <-> [0.89227706 0.10538136 0.00234161]\n",
      "[1. 0. 0.] <-> [0.78584105 0.21305953 0.0010994 ]\n",
      "[1. 0. 0.] <-> [0.69729054 0.01994215 0.2827673 ]\n",
      "[1. 0. 0.] <-> [0.8336359  0.16465263 0.00171152]\n",
      "[1. 0. 0.] <-> [0.8168498  0.18212056 0.00102962]\n",
      "[1. 0. 0.] <-> [7.4395424e-01 2.5530967e-01 7.3605368e-04]\n",
      "[1. 0. 0.] <-> [0.9083658  0.07162357 0.02001065]\n",
      "[1. 0. 0.] <-> [0.8887176  0.10916276 0.00211956]\n",
      "[1. 0. 0.] <-> [0.926504   0.06653285 0.00696314]\n",
      "[1. 0. 0.] <-> [0.83942664 0.15933523 0.00123815]\n",
      "[1. 0. 0.] <-> [0.6221731  0.3763169  0.00151003]\n",
      "[0. 0. 1.] <-> [0.6549304  0.03156516 0.3135045 ]\n",
      "[0. 0. 1.] <-> [0.79984087 0.06750917 0.13264996]\n",
      "[1. 0. 0.] <-> [0.9169929 0.0751781 0.007829 ]\n",
      "[1. 0. 0.] <-> [0.86567676 0.13253668 0.00178654]\n",
      "[1. 0. 0.] <-> [0.80143803 0.19403571 0.00452623]\n",
      "[1. 0. 0.] <-> [0.7320485  0.26658458 0.00136695]\n",
      "[1. 0. 0.] <-> [0.8244634  0.02775996 0.1477766 ]\n",
      "[1. 0. 0.] <-> [0.88507324 0.11192556 0.00300121]\n",
      "[0. 0. 1.] <-> [0.16082798 0.00314906 0.8360229 ]\n",
      "[0. 1. 0.] <-> [0.10887177 0.8893176  0.00181059]\n",
      "[0. 1. 0.] <-> [0.09025257 0.90793693 0.00181059]\n",
      "[0. 0. 1.] <-> [0.16994451 0.00413691 0.82591856]\n",
      "[0. 1. 0.] <-> [6.5872568e-01 3.4067345e-01 6.0086511e-04]\n",
      "[1. 0. 0.] <-> [0.5001789  0.01281383 0.4870073 ]\n",
      "[1. 0. 0.] <-> [0.8848976  0.11249304 0.00260931]\n",
      "[0. 0. 1.] <-> [0.18880044 0.00309262 0.8081069 ]\n",
      "[1. 0. 0.] <-> [0.9096357  0.08279178 0.00757243]\n",
      "[1. 0. 0.] <-> [0.89684266 0.10044429 0.00271304]\n",
      "[0. 0. 1.] <-> [0.22108594 0.00389039 0.77502364]\n",
      "[0. 1. 0.] <-> [0.8957165  0.09450293 0.00978065]\n",
      "[1. 0. 0.] <-> [0.8055537  0.1934748  0.00097155]\n",
      "[1. 0. 0.] <-> [0.89127696 0.1052084  0.00351463]\n",
      "[1. 0. 0.] <-> [0.8940451  0.07100933 0.03494561]\n",
      "[1. 0. 0.] <-> [0.9282731  0.03643019 0.0352967 ]\n",
      "[1. 0. 0.] <-> [0.8901124 0.1061732 0.0037144]\n",
      "[0. 1. 0.] <-> [0.8887231  0.10290211 0.00837492]\n",
      "[0. 1. 0.] <-> [0.08505602 0.9131386  0.00180536]\n",
      "[0. 1. 0.] <-> [0.08537579 0.9128249  0.00179931]\n",
      "[1. 0. 0.] <-> [0.88124657 0.11618058 0.00257289]\n",
      "[1. 0. 0.] <-> [0.85973775 0.13825329 0.002009  ]\n",
      "[0. 1. 0.] <-> [0.16216372 0.8363095  0.00152687]\n",
      "[0. 0. 1.] <-> [0.26878446 0.0055071  0.7257084 ]\n",
      "[0. 0. 1.] <-> [0.18437052 0.00338703 0.81224245]\n",
      "[0. 1. 0.] <-> [0.08979749 0.9084417  0.00176078]\n",
      "[1. 0. 0.] <-> [0.92110485 0.03780677 0.04108836]\n",
      "[1. 0. 0.] <-> [0.89974195 0.08373087 0.01652719]\n",
      "[1. 0. 0.] <-> [0.8663739  0.03482487 0.09880118]\n",
      "[1. 0. 0.] <-> [0.9314682  0.05770002 0.01083176]\n",
      "{'accuracy': 0.9444444444444444, 'mean_square_error': 0.1555166618475495, 'categorical_crossentropy': 0.30059309358950015, 'precision': 0.9166666666666666, 'recall': 0.9166666666666666, 'f1': 0.9166666666666666, 'essential_metrics': {0: {'tp_hit': 78, 'fp_hit': 9, 'tn_hit': 21, 'fn_hit': 0}, 1: {'tp_hit': 10, 'fp_hit': 0, 'tn_hit': 92, 'fn_hit': 6}, 2: {'tp_hit': 11, 'fp_hit': 0, 'tn_hit': 94, 'fn_hit': 3}}}\n"
     ]
    }
   ],
   "source": [
    "# recall phase\n",
    "score = model.evaluate(x_test, y_test, False)\n",
    "print(score)"
   ]
  },
  {
   "cell_type": "code",
   "execution_count": 12,
   "metadata": {},
   "outputs": [],
   "source": [
    "# Testing Performance"
   ]
  },
  {
   "cell_type": "code",
   "execution_count": 13,
   "metadata": {},
   "outputs": [
    {
     "data": {
      "image/png": "[encoded data removed]",
      "text/plain": [
       "<Figure size 864x360 with 1 Axes>"
      ]
     },
     "metadata": {
      "needs_background": "light"
     },
     "output_type": "display_data"
    },
    {
     "data": {
      "image/png": "[encoded data removed]",
      "text/plain": [
       "<Figure size 864x360 with 1 Axes>"
      ]
     },
     "metadata": {
      "needs_background": "light"
     },
     "output_type": "display_data"
    }
   ],
   "source": [
    "draw_plot(x = [[i for i in range(len(history))], [(i+1)*breakpoint for i in range(len(checkpoints))]], y_list = [history, [ ckp[model.loss_fn] for ckp in checkpoints ]], x_label = 'Epochs', \\\n",
    "    y_label = model.loss_fn, legend=['train', 'test'])\n",
    "acc = [ ckp['accuracy'] for ckp in checkpoints ]\n",
    "draw_plot(x = [[(i+1)*breakpoint for i in range(len(checkpoints))]], y_list = [acc], x_label = 'Checkpoints', \\\n",
    "    y_label = 'accuracy')"
   ]
  },
  {
   "cell_type": "code",
   "execution_count": 14,
   "metadata": {
    "scrolled": false
   },
   "outputs": [
    {
     "name": "stdout",
     "output_type": "stream",
     "text": [
      "{'accuracy': 0.9074074074074074, 'mean_square_error': 0.2522464319795099, 'categorical_crossentropy': 0.47532392431188514, 'precision': 0.8611111111111112, 'recall': 0.8611111111111112, 'f1': 0.8611111111111112, 'essential_metrics': {0: {'tp_hit': 78, 'fp_hit': 15, 'tn_hit': 15, 'fn_hit': 0}, 1: {'tp_hit': 9, 'fp_hit': 0, 'tn_hit': 92, 'fn_hit': 7}, 2: {'tp_hit': 6, 'fp_hit': 0, 'tn_hit': 94, 'fn_hit': 8}}, 'checkpoint': 100} \n",
      "\n",
      "\n",
      "{'accuracy': 0.9135802469135802, 'mean_square_error': 0.21376424822692972, 'categorical_crossentropy': 0.40460325170446326, 'precision': 0.8703703703703703, 'recall': 0.8703703703703703, 'f1': 0.8703703703703703, 'essential_metrics': {0: {'tp_hit': 78, 'fp_hit': 14, 'tn_hit': 16, 'fn_hit': 0}, 1: {'tp_hit': 9, 'fp_hit': 0, 'tn_hit': 92, 'fn_hit': 7}, 2: {'tp_hit': 7, 'fp_hit': 0, 'tn_hit': 94, 'fn_hit': 7}}, 'checkpoint': 200} \n",
      "\n",
      "\n",
      "{'accuracy': 0.9197530864197531, 'mean_square_error': 0.1894744351616771, 'categorical_crossentropy': 0.3632182721738462, 'precision': 0.8796296296296297, 'recall': 0.8796296296296297, 'f1': 0.8796296296296297, 'essential_metrics': {0: {'tp_hit': 78, 'fp_hit': 13, 'tn_hit': 17, 'fn_hit': 0}, 1: {'tp_hit': 8, 'fp_hit': 0, 'tn_hit': 92, 'fn_hit': 8}, 2: {'tp_hit': 9, 'fp_hit': 0, 'tn_hit': 94, 'fn_hit': 5}}, 'checkpoint': 300} \n",
      "\n",
      "\n",
      "{'accuracy': 0.9382716049382716, 'mean_square_error': 0.16842341757372062, 'categorical_crossentropy': 0.32924298886899594, 'precision': 0.9074074074074074, 'recall': 0.9074074074074074, 'f1': 0.9074074074074074, 'essential_metrics': {0: {'tp_hit': 78, 'fp_hit': 10, 'tn_hit': 20, 'fn_hit': 0}, 1: {'tp_hit': 9, 'fp_hit': 0, 'tn_hit': 92, 'fn_hit': 7}, 2: {'tp_hit': 11, 'fp_hit': 0, 'tn_hit': 94, 'fn_hit': 3}}, 'checkpoint': 400} \n",
      "\n",
      "\n",
      "{'accuracy': 0.9444444444444444, 'mean_square_error': 0.1555166618475495, 'categorical_crossentropy': 0.30059309358950015, 'precision': 0.9166666666666666, 'recall': 0.9166666666666666, 'f1': 0.9166666666666666, 'essential_metrics': {0: {'tp_hit': 78, 'fp_hit': 9, 'tn_hit': 21, 'fn_hit': 0}, 1: {'tp_hit': 10, 'fp_hit': 0, 'tn_hit': 92, 'fn_hit': 6}, 2: {'tp_hit': 11, 'fp_hit': 0, 'tn_hit': 94, 'fn_hit': 3}}, 'checkpoint': 500} \n",
      "\n",
      "\n"
     ]
    }
   ],
   "source": [
    "for checkpoint in checkpoints:\n",
    "    print(checkpoint, '\\n\\n')"
   ]
  },
  {
   "cell_type": "code",
   "execution_count": 15,
   "metadata": {},
   "outputs": [
    {
     "name": "stdout",
     "output_type": "stream",
     "text": [
      "Layer 1\n",
      "Neuron 0: weights:\n",
      "[-1.0291936   2.2160022   2.988388   -0.98538154 -2.8766868 ]\n",
      " bias: 1.725766658782959\n",
      "\n",
      "Neuron 1: weights:\n",
      "[-0.12899348 -2.442777   -0.43491524  2.4622328  -0.2901779 ]\n",
      " bias: 1.373373031616211\n",
      "\n",
      "Neuron 2: weights:\n",
      "[-1.4785954   0.04039954  1.2457963   2.5821564  -1.8602588 ]\n",
      " bias: -2.0626800060272217\n",
      "\n",
      "Neuron 3: weights:\n",
      "[-2.8889844   0.39272028  1.5696211   0.7865782  -0.56340504]\n",
      " bias: 1.9777096509933472\n",
      "\n",
      "$\n",
      "Layer 2\n",
      "Neuron 0: weights:\n",
      "[ 2.9661248   2.2158086  -1.8507799   0.98806983]\n",
      " bias: 2.101228713989258\n",
      "\n",
      "Neuron 1: weights:\n",
      "[2.8617084  0.30633315 1.2187197  2.6272848 ]\n",
      " bias: -0.1257360279560089\n",
      "\n",
      "Neuron 2: weights:\n",
      "[-2.125422   3.         2.1758044 -2.4598413]\n",
      " bias: 2.763157606124878\n",
      "\n",
      "$\n",
      "\n"
     ]
    }
   ],
   "source": [
    "print(model)"
   ]
  }
 ],
 "metadata": {
  "kernelspec": {
   "display_name": "Python 3",
   "language": "python",
   "name": "python3"
  },
  "language_info": {
   "codemirror_mode": {
    "name": "ipython",
    "version": 3
   },
   "file_extension": ".py",
   "mimetype": "text/x-python",
   "name": "python",
   "nbconvert_exporter": "python",
   "pygments_lexer": "ipython3",
   "version": "3.6.10"
  }
 },
 "nbformat": 4,
 "nbformat_minor": 2
}
