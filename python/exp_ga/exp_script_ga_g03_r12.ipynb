{
 "cells": [
  {
   "cell_type": "code",
   "execution_count": 1,
   "metadata": {},
   "outputs": [],
   "source": [
    "# single"
   ]
  },
  {
   "cell_type": "code",
   "execution_count": 2,
   "metadata": {},
   "outputs": [],
   "source": [
    "# dependency\n",
    "import numpy as np\n",
    "import pandas as pd\n",
    "import copy\n",
    "import math\n",
    "import sys\n",
    "import os\n",
    "from activations import relu, leaky_relu, sigmoid, tanh, softmax, d_sigmoid, d_relu\n",
    "from initializers import glorot_uniform, random_normal, random_uniform\n",
    "from regularizers import l1_regularizer, l2_regularizer\n",
    "from utility import trim_tail, multiply, subtract, get_nparams, one_hot_encoding, get_data\n",
    "from metrics import MSE, CCE, ACC, PRECISION, RECALL, essential_metrics, wondering_penalty, close_gap_penalty\n",
    "from pso import PSO\n",
    "from ga import GA\n",
    "from nn import Network\n",
    "from layer import DenseLayer\n",
    "from scalers import MinMaxScaler, StandardScaler"
   ]
  },
  {
   "cell_type": "code",
   "execution_count": 3,
   "metadata": {},
   "outputs": [],
   "source": [
    "# reference\n",
    "metrics_fn_dict = dict()\n",
    "metrics_fn_dict['accuracy'] = ACC\n",
    "metrics_fn_dict['categorical_crossentropy'] = CCE\n",
    "metrics_fn_dict['mean_square_error'] = MSE\n",
    "metrics_fn_dict['precision'] = PRECISION\n",
    "metrics_fn_dict['recall'] = RECALL\n",
    "metrics_fn_dict['essential_metrics'] = essential_metrics"
   ]
  },
  {
   "cell_type": "code",
   "execution_count": 4,
   "metadata": {},
   "outputs": [],
   "source": [
    "# model\n",
    "model = Network(5, lr = None)\n",
    "model.add_layer(DenseLayer(1, 4, True, afn=sigmoid, dafn=None, rfn=None))\n",
    "model.add_layer(DenseLayer(2, 3, True, afn=softmax, dafn=None, rfn=None))"
   ]
  },
  {
   "cell_type": "code",
   "execution_count": 5,
   "metadata": {},
   "outputs": [],
   "source": [
    "# optimizer\n",
    "ga = GA(\n",
    "    dict(\n",
    "        m = 100,\n",
    "        x_rate = 0.5,\n",
    "        m_rate = 0.5,\n",
    "        weight_constraint = [-3.,3.],\n",
    "        radioactive_rating = 0.1,\n",
    "        grow_factor = 0.1,\n",
    "        scale_hyperparameter = False,\n",
    "        regularizer = None))"
   ]
  },
  {
   "cell_type": "code",
   "execution_count": 6,
   "metadata": {},
   "outputs": [
    {
     "name": "stdout",
     "output_type": "stream",
     "text": [
      "building layer 1 with 5\n",
      "24\n",
      "building layer 2 with 4\n",
      "15\n"
     ]
    }
   ],
   "source": [
    "model.compile(loss_fn = 'categorical_crossentropy', optimizer = ga, \\\n",
    "    metrics = ['accuracy', 'mean_square_error', 'categorical_crossentropy', 'precision', 'recall', 'f1'])"
   ]
  },
  {
   "cell_type": "code",
   "execution_count": 7,
   "metadata": {},
   "outputs": [
    {
     "name": "stdout",
     "output_type": "stream",
     "text": [
      "<class 'pandas.core.frame.DataFrame'>\n",
      "RangeIndex: 107 entries, 0 to 106\n",
      "Data columns (total 6 columns):\n",
      " #   Column  Non-Null Count  Dtype  \n",
      "---  ------  --------------  -----  \n",
      " 0   f1      107 non-null    float32\n",
      " 1   f2      107 non-null    float32\n",
      " 2   f3      107 non-null    float32\n",
      " 3   f4      107 non-null    float32\n",
      " 4   f5      107 non-null    float32\n",
      " 5   label   107 non-null    float32\n",
      "dtypes: float32(6)\n",
      "memory usage: 2.6 KB\n",
      "None\n",
      "<class 'pandas.core.frame.DataFrame'>\n",
      "RangeIndex: 108 entries, 0 to 107\n",
      "Data columns (total 6 columns):\n",
      " #   Column  Non-Null Count  Dtype  \n",
      "---  ------  --------------  -----  \n",
      " 0   f1      108 non-null    float32\n",
      " 1   f2      108 non-null    float32\n",
      " 2   f3      108 non-null    float32\n",
      " 3   f4      108 non-null    float32\n",
      " 4   f5      108 non-null    float32\n",
      " 5   label   108 non-null    float32\n",
      "dtypes: float32(6)\n",
      "memory usage: 2.7 KB\n",
      "None\n"
     ]
    }
   ],
   "source": [
    "# data loading\n",
    "DATA = os.path.join('c:\\\\Users\\\\tcumi\\\\github_repo\\\\neural-network\\\\', 'dataset')\n",
    "GROUP = 3\n",
    "COLUMNS = ['f1', 'f2', 'f3', 'f4', 'f5', 'label']\n",
    "N_CLASS = 3\n",
    "EPOCHS = 500\n",
    "train_dir, test_dir = \"..//dataset//training_data{}.txt\".format(GROUP), \"..//dataset//testing_data{}.txt\".format(GROUP)\n",
    "train, test = get_data(DATA, train_dir, COLUMNS), get_data(DATA, test_dir, COLUMNS)\n",
    "# shuffle\n",
    "train, test = train.sample(frac=1), test.sample(frac=1)\n",
    "x_train, y_train = train.drop('label', axis=1), train['label']\n",
    "x_test, y_test = test.drop('label', axis=1), test['label']"
   ]
  },
  {
   "cell_type": "code",
   "execution_count": 8,
   "metadata": {},
   "outputs": [],
   "source": [
    "# data scaling and encoding\n",
    "scaler = StandardScaler(['f1', 'f2', 'f3', 'f4', 'f5'])\n",
    "scaler.fit(x_train)\n",
    "x_train = scaler.transform(x_train)\n",
    "x_test = scaler.transform(x_test)\n",
    "y_train = one_hot_encoding(y_train, N_CLASS)\n",
    "y_test = one_hot_encoding(y_test, N_CLASS)"
   ]
  },
  {
   "cell_type": "code",
   "execution_count": 9,
   "metadata": {
    "scrolled": true,
    "tags": [
     "outputPrepend"
    ]
   },
   "outputs": [
    {
     "name": "stderr",
     "output_type": "stream",
     "text": [
      "C:\\Users\\tcumi\\github_repo\\neural-network\\python\\ga.py:201: RuntimeWarning: overflow encountered in add\n",
      "  self.population.sort(key=lambda p: p.fitness + np.random.uniform(-shift, shift, 1), reverse = self.aim)\n"
     ]
    },
    {
     "name": "stdout",
     "output_type": "stream",
     "text": [
      "Checkpoint 100, Accuracy: 0.9012345679012346, Loss: 0.3894681930541992\n",
      "Checkpoint 200, Accuracy: 0.9135802469135802, Loss: 0.3499750561184353\n",
      "Checkpoint 300, Accuracy: 0.9259259259259259, Loss: 0.31420244993986907\n",
      "Checkpoint 400, Accuracy: 0.9382716049382716, Loss: 0.2841779390970866\n",
      "Checkpoint 500, Accuracy: 0.9506172839506173, Loss: 0.25464298107005934\n"
     ]
    }
   ],
   "source": [
    "# learning phase\n",
    "breakpoint = 100\n",
    "checkpoints = list()\n",
    "history = list()\n",
    "for century in range(0, EPOCHS, breakpoint):\n",
    "    sub_history = model.fit(x_train, y_train, breakpoint, verbose = 0)\n",
    "    score = model.evaluate(x_test, y_test, False, verbose = 0)\n",
    "    print('Checkpoint {}, Accuracy: {}, Loss: {}'.format(century+breakpoint, score['accuracy'], score[model.loss_fn]))\n",
    "    score['checkpoint'] = century + breakpoint\n",
    "    checkpoints.append(score)\n",
    "    history.extend(sub_history)\n",
    "    "
   ]
  },
  {
   "cell_type": "code",
   "execution_count": 10,
   "metadata": {},
   "outputs": [],
   "source": [
    "import matplotlib.pyplot as plt\n",
    "\n",
    "def draw_plot(x, y_list, x_label=None, y_label=None, legend=None, title=None):\n",
    "    fig, ax = plt.subplots(figsize=(12,5))\n",
    "    for xi, yi in zip(x, y_list):\n",
    "        ax.plot(xi, yi)\n",
    "    if x_label is not None and y_label is not None:\n",
    "        ax.set(xlabel=x_label, ylabel=y_label, title='{} VS {}'.format(x_label, y_label))\n",
    "    if legend is not None:\n",
    "        ax.legend(legend)\n",
    "    ax.grid()\n",
    "    plt.show()"
   ]
  },
  {
   "cell_type": "code",
   "execution_count": 11,
   "metadata": {},
   "outputs": [
    {
     "name": "stdout",
     "output_type": "stream",
     "text": [
      "[1. 0. 0.] <-> [0.84200346 0.03734012 0.12065642]\n",
      "[1. 0. 0.] <-> [0.9312122  0.04464346 0.02414437]\n",
      "[0. 1. 0.] <-> [0.07397236 0.91282374 0.01320399]\n",
      "[1. 0. 0.] <-> [0.91230816 0.03095641 0.05673538]\n",
      "[0. 0. 1.] <-> [0.6895608  0.04073256 0.26970664]\n",
      "[1. 0. 0.] <-> [0.92760843 0.03752393 0.03486759]\n",
      "[1. 0. 0.] <-> [0.9032242  0.0495149  0.04726094]\n",
      "[1. 0. 0.] <-> [0.90447485 0.0696659  0.02585923]\n",
      "[1. 0. 0.] <-> [0.49286848 0.48689884 0.02023275]\n",
      "[0. 1. 0.] <-> [0.0636278  0.92096573 0.01540648]\n",
      "[0. 0. 1.] <-> [0.43277505 0.00416968 0.5630553 ]\n",
      "[1. 0. 0.] <-> [0.87390035 0.06790917 0.05819053]\n",
      "[0. 1. 0.] <-> [0.06715396 0.91827345 0.01457259]\n",
      "[1. 0. 0.] <-> [0.9340154 0.033512  0.0324726]\n",
      "[1. 0. 0.] <-> [0.6712189  0.03717899 0.29160216]\n",
      "[1. 0. 0.] <-> [0.94072115 0.04063671 0.01864211]\n",
      "[1. 0. 0.] <-> [0.91490436 0.01553532 0.06956034]\n",
      "[1. 0. 0.] <-> [0.38341588 0.5847021  0.03188208]\n",
      "[0. 0. 1.] <-> [0.70080346 0.02739039 0.27180615]\n",
      "[1. 0. 0.] <-> [0.819422   0.00891899 0.17165895]\n",
      "[0. 0. 1.] <-> [0.48332065 0.0382768  0.47840253]\n",
      "[1. 0. 0.] <-> [0.67389554 0.01456809 0.3115363 ]\n",
      "[1. 0. 0.] <-> [0.9448194  0.03461858 0.02056205]\n",
      "[0. 0. 1.] <-> [0.59636325 0.03423986 0.3693969 ]\n",
      "[1. 0. 0.] <-> [0.9032029  0.0630707  0.03372639]\n",
      "[1. 0. 0.] <-> [0.9069576  0.04467476 0.04836752]\n",
      "[1. 0. 0.] <-> [0.903083   0.03016295 0.0667541 ]\n",
      "[0. 0. 1.] <-> [0.47362727 0.02680422 0.4995685 ]\n",
      "[1. 0. 0.] <-> [0.8794395  0.0596814  0.06087918]\n",
      "[1. 0. 0.] <-> [0.9503067  0.02715345 0.02253981]\n",
      "[1. 0. 0.] <-> [0.5869813  0.3705779  0.04244081]\n",
      "[1. 0. 0.] <-> [0.9020829  0.07330681 0.02461034]\n",
      "[1. 0. 0.] <-> [0.7260326  0.0190648  0.25490257]\n",
      "[0. 0. 1.] <-> [0.39639553 0.00947024 0.5941343 ]\n",
      "[1. 0. 0.] <-> [0.94524765 0.02844674 0.02630554]\n",
      "[0. 1. 0.] <-> [0.10328761 0.8876429  0.00906959]\n",
      "[1. 0. 0.] <-> [0.940826   0.03673197 0.022442  ]\n",
      "[1. 0. 0.] <-> [0.8674144  0.04564939 0.08693618]\n",
      "[1. 0. 0.] <-> [0.7281545  0.02227602 0.24956952]\n",
      "[1. 0. 0.] <-> [0.9214836  0.02862677 0.04988968]\n",
      "[1. 0. 0.] <-> [0.92063624 0.03663563 0.04272813]\n",
      "[1. 0. 0.] <-> [0.92882234 0.05169858 0.01947908]\n",
      "[1. 0. 0.] <-> [0.676593   0.27486822 0.04853879]\n",
      "[0. 1. 0.] <-> [0.45498157 0.525332   0.01968642]\n",
      "[1. 0. 0.] <-> [0.88941497 0.03075287 0.07983211]\n",
      "[1. 0. 0.] <-> [0.8610067  0.10868642 0.03030688]\n",
      "[1. 0. 0.] <-> [0.9076014  0.04130284 0.05109569]\n",
      "[0. 1. 0.] <-> [0.09244066 0.89728165 0.01027771]\n",
      "[1. 0. 0.] <-> [0.94959605 0.02040735 0.02999659]\n",
      "[1. 0. 0.] <-> [0.8753008  0.07023403 0.05446512]\n",
      "[0. 0. 1.] <-> [0.28696588 0.00666606 0.706368  ]\n",
      "[1. 0. 0.] <-> [0.8965017  0.05804319 0.0454551 ]\n",
      "[1. 0. 0.] <-> [0.8727966  0.04616465 0.08103874]\n",
      "[1. 0. 0.] <-> [0.8024931  0.04138874 0.15611821]\n",
      "[0. 1. 0.] <-> [0.09852296 0.8890231  0.01245387]\n",
      "[1. 0. 0.] <-> [0.92724556 0.02958102 0.04317341]\n",
      "[1. 0. 0.] <-> [0.89865947 0.02463687 0.07670359]\n",
      "[1. 0. 0.] <-> [0.7945175  0.02446425 0.18101826]\n",
      "[1. 0. 0.] <-> [0.58502084 0.03655778 0.3784214 ]\n",
      "[1. 0. 0.] <-> [0.8881139  0.09240313 0.01948296]\n",
      "[1. 0. 0.] <-> [0.8883591  0.03143493 0.08020599]\n",
      "[1. 0. 0.] <-> [0.6899466  0.01459535 0.29545805]\n",
      "[1. 0. 0.] <-> [0.83917415 0.02829535 0.13253047]\n",
      "[0. 0. 1.] <-> [0.5143514  0.03851783 0.4471307 ]\n",
      "[1. 0. 0.] <-> [0.897251   0.05041017 0.05233885]\n",
      "[0. 1. 0.] <-> [0.2944427  0.6904135  0.01514382]\n",
      "[1. 0. 0.] <-> [0.68462116 0.2672746  0.04810432]\n",
      "[1. 0. 0.] <-> [0.9111497  0.03591013 0.05294018]\n",
      "[1. 0. 0.] <-> [0.8344053  0.02948146 0.13611321]\n",
      "[0. 1. 0.] <-> [0.06909433 0.91639143 0.01451428]\n",
      "[1. 0. 0.] <-> [0.9492818  0.02649619 0.02422206]\n",
      "[1. 0. 0.] <-> [0.86737025 0.03878432 0.09384554]\n",
      "[0. 1. 0.] <-> [0.06810452 0.9175539  0.01434159]\n",
      "[1. 0. 0.] <-> [0.90927005 0.02880052 0.06192941]\n",
      "[1. 0. 0.] <-> [0.89299697 0.0381427  0.06886028]\n",
      "[1. 0. 0.] <-> [0.87779576 0.05361152 0.06859266]\n",
      "[0. 1. 0.] <-> [0.23541701 0.75079167 0.01379137]\n",
      "[1. 0. 0.] <-> [0.90888524 0.04238556 0.04872923]\n",
      "[1. 0. 0.] <-> [0.69340396 0.02882047 0.27777565]\n",
      "[0. 0. 1.] <-> [0.6053723  0.03341008 0.3612176 ]\n",
      "[1. 0. 0.] <-> [0.9349574  0.04076249 0.02428013]\n",
      "[0. 0. 1.] <-> [0.45089734 0.02776902 0.5213337 ]\n",
      "[1. 0. 0.] <-> [0.8055766  0.03784355 0.1565798 ]\n",
      "[0. 1. 0.] <-> [0.2722912  0.6806711  0.04703771]\n",
      "[1. 0. 0.] <-> [0.8803377  0.0173631  0.10229917]\n",
      "[0. 1. 0.] <-> [0.18652949 0.7983195  0.01515098]\n",
      "[1. 0. 0.] <-> [0.85397047 0.04871813 0.09731147]\n",
      "[1. 0. 0.] <-> [0.60459834 0.03760107 0.35780057]\n",
      "[1. 0. 0.] <-> [0.936043   0.01512575 0.04883118]\n",
      "[1. 0. 0.] <-> [0.95099336 0.02311943 0.02588717]\n",
      "[1. 0. 0.] <-> [0.94301313 0.02040822 0.03657869]\n",
      "[1. 0. 0.] <-> [0.8965551  0.07252876 0.03091624]\n",
      "[0. 1. 0.] <-> [0.18337344 0.8026529  0.01397362]\n",
      "[1. 0. 0.] <-> [0.9337359  0.03364074 0.03262327]\n",
      "[0. 1. 0.] <-> [0.31625858 0.658134   0.02560747]\n",
      "[1. 0. 0.] <-> [0.8713199  0.06959043 0.05908966]\n",
      "[0. 0. 1.] <-> [0.4317878  0.01668597 0.55152625]\n",
      "[0. 1. 0.] <-> [0.10693292 0.88416153 0.00890563]\n",
      "[1. 0. 0.] <-> [0.9366256  0.03626939 0.02710498]\n",
      "[1. 0. 0.] <-> [0.8572176  0.11863326 0.02414918]\n",
      "[1. 0. 0.] <-> [0.8394279  0.04586013 0.11471202]\n",
      "[1. 0. 0.] <-> [0.72363013 0.25296345 0.02340637]\n",
      "[1. 0. 0.] <-> [0.94584805 0.02802256 0.02612935]\n",
      "[1. 0. 0.] <-> [0.86110294 0.05199966 0.08689748]\n",
      "[0. 0. 1.] <-> [0.5777692  0.01109808 0.4111327 ]\n",
      "[1. 0. 0.] <-> [0.9040168  0.0405078  0.05547548]\n",
      "[0. 0. 1.] <-> [0.1206348  0.00211882 0.8772464 ]\n",
      "[1. 0. 0.] <-> [0.93471456 0.02205681 0.04322866]\n",
      "{'accuracy': 0.9506172839506173, 'mean_square_error': 0.12818934639986015, 'categorical_crossentropy': 0.25464298107005934, 'precision': 0.9259259259259259, 'recall': 0.9259259259259259, 'f1': 0.9259259259259259, 'essential_metrics': {0: {'tp_hit': 77, 'fp_hit': 7, 'tn_hit': 23, 'fn_hit': 1}, 1: {'tp_hit': 16, 'fp_hit': 1, 'tn_hit': 91, 'fn_hit': 0}, 2: {'tp_hit': 7, 'fp_hit': 0, 'tn_hit': 94, 'fn_hit': 7}}}\n"
     ]
    }
   ],
   "source": [
    "# recall phase\n",
    "score = model.evaluate(x_test, y_test, False)\n",
    "print(score)"
   ]
  },
  {
   "cell_type": "code",
   "execution_count": 12,
   "metadata": {},
   "outputs": [],
   "source": [
    "# Testing Performance"
   ]
  },
  {
   "cell_type": "code",
   "execution_count": 13,
   "metadata": {},
   "outputs": [
    {
     "data": {
      "image/png": "[encoded data removed]",
      "text/plain": [
       "<Figure size 864x360 with 1 Axes>"
      ]
     },
     "metadata": {
      "needs_background": "light"
     },
     "output_type": "display_data"
    },
    {
     "data": {
      "image/png": "[encoded data removed]",
      "text/plain": [
       "<Figure size 864x360 with 1 Axes>"
      ]
     },
     "metadata": {
      "needs_background": "light"
     },
     "output_type": "display_data"
    }
   ],
   "source": [
    "draw_plot(x = [[i for i in range(len(history))], [(i+1)*breakpoint for i in range(len(checkpoints))]], y_list = [history, [ ckp[model.loss_fn] for ckp in checkpoints ]], x_label = 'Epochs', \\\n",
    "    y_label = model.loss_fn, legend=['train', 'test'])\n",
    "acc = [ ckp['accuracy'] for ckp in checkpoints ]\n",
    "draw_plot(x = [[(i+1)*breakpoint for i in range(len(checkpoints))]], y_list = [acc], x_label = 'Checkpoints', \\\n",
    "    y_label = 'accuracy')"
   ]
  },
  {
   "cell_type": "code",
   "execution_count": 14,
   "metadata": {
    "scrolled": false
   },
   "outputs": [
    {
     "name": "stdout",
     "output_type": "stream",
     "text": [
      "{'accuracy': 0.9012345679012346, 'mean_square_error': 0.21163636216088635, 'categorical_crossentropy': 0.3894681930541992, 'precision': 0.8518518518518519, 'recall': 0.8518518518518519, 'f1': 0.8518518518518519, 'essential_metrics': {0: {'tp_hit': 76, 'fp_hit': 14, 'tn_hit': 16, 'fn_hit': 2}, 1: {'tp_hit': 16, 'fp_hit': 2, 'tn_hit': 90, 'fn_hit': 0}, 2: {'tp_hit': 0, 'fp_hit': 0, 'tn_hit': 94, 'fn_hit': 14}}, 'checkpoint': 100} \n",
      "\n",
      "\n",
      "{'accuracy': 0.9135802469135802, 'mean_square_error': 0.1882763600408342, 'categorical_crossentropy': 0.3499750561184353, 'precision': 0.8703703703703703, 'recall': 0.8703703703703703, 'f1': 0.8703703703703703, 'essential_metrics': {0: {'tp_hit': 77, 'fp_hit': 13, 'tn_hit': 17, 'fn_hit': 1}, 1: {'tp_hit': 16, 'fp_hit': 1, 'tn_hit': 91, 'fn_hit': 0}, 2: {'tp_hit': 1, 'fp_hit': 0, 'tn_hit': 94, 'fn_hit': 13}}, 'checkpoint': 200} \n",
      "\n",
      "\n",
      "{'accuracy': 0.9259259259259259, 'mean_square_error': 0.16660772979600919, 'categorical_crossentropy': 0.31420244993986907, 'precision': 0.8888888888888888, 'recall': 0.8888888888888888, 'f1': 0.8888888888888888, 'essential_metrics': {0: {'tp_hit': 77, 'fp_hit': 11, 'tn_hit': 19, 'fn_hit': 1}, 1: {'tp_hit': 16, 'fp_hit': 1, 'tn_hit': 91, 'fn_hit': 0}, 2: {'tp_hit': 3, 'fp_hit': 0, 'tn_hit': 94, 'fn_hit': 11}}, 'checkpoint': 300} \n",
      "\n",
      "\n",
      "{'accuracy': 0.9382716049382716, 'mean_square_error': 0.14413368470905427, 'categorical_crossentropy': 0.2841779390970866, 'precision': 0.9074074074074074, 'recall': 0.9074074074074074, 'f1': 0.9074074074074074, 'essential_metrics': {0: {'tp_hit': 77, 'fp_hit': 9, 'tn_hit': 21, 'fn_hit': 1}, 1: {'tp_hit': 16, 'fp_hit': 1, 'tn_hit': 91, 'fn_hit': 0}, 2: {'tp_hit': 5, 'fp_hit': 0, 'tn_hit': 94, 'fn_hit': 9}}, 'checkpoint': 400} \n",
      "\n",
      "\n",
      "{'accuracy': 0.9506172839506173, 'mean_square_error': 0.12818934639986015, 'categorical_crossentropy': 0.25464298107005934, 'precision': 0.9259259259259259, 'recall': 0.9259259259259259, 'f1': 0.9259259259259259, 'essential_metrics': {0: {'tp_hit': 77, 'fp_hit': 7, 'tn_hit': 23, 'fn_hit': 1}, 1: {'tp_hit': 16, 'fp_hit': 1, 'tn_hit': 91, 'fn_hit': 0}, 2: {'tp_hit': 7, 'fp_hit': 0, 'tn_hit': 94, 'fn_hit': 7}}, 'checkpoint': 500} \n",
      "\n",
      "\n"
     ]
    }
   ],
   "source": [
    "for checkpoint in checkpoints:\n",
    "    print(checkpoint, '\\n\\n')"
   ]
  },
  {
   "cell_type": "code",
   "execution_count": 15,
   "metadata": {},
   "outputs": [
    {
     "name": "stdout",
     "output_type": "stream",
     "text": [
      "Layer 1\n",
      "Neuron 0: weights:\n",
      "[-1.413122   2.9699295  2.8120782  0.4974648 -1.840344 ]\n",
      " bias: -2.864067554473877\n",
      "\n",
      "Neuron 1: weights:\n",
      "[-1.1469147   2.3166027   2.6449747   0.1252378  -0.38066563]\n",
      " bias: 2.3339099884033203\n",
      "\n",
      "Neuron 2: weights:\n",
      "[-2.5190506  -2.1986647   0.41669708  0.7003154   1.7385844 ]\n",
      " bias: 0.43490779399871826\n",
      "\n",
      "Neuron 3: weights:\n",
      "[-1.3592137  -0.05950842  1.3397932   2.5881479  -1.3069599 ]\n",
      " bias: 2.7547531127929688\n",
      "\n",
      "$\n",
      "Layer 2\n",
      "Neuron 0: weights:\n",
      "[-2.5817316  2.8131404 -2.5030668 -0.2277239]\n",
      " bias: 2.3227808475494385\n",
      "\n",
      "Neuron 1: weights:\n",
      "[ 3.         2.4635522 -1.666335   1.5020226]\n",
      " bias: -2.7395713329315186\n",
      "\n",
      "Neuron 2: weights:\n",
      "[-0.79605275 -0.21747269 -0.87181574 -2.569593  ]\n",
      " bias: 2.984588623046875\n",
      "\n",
      "$\n",
      "\n"
     ]
    }
   ],
   "source": [
    "print(model)"
   ]
  }
 ],
 "metadata": {
  "kernelspec": {
   "display_name": "Python 3",
   "language": "python",
   "name": "python3"
  },
  "language_info": {
   "codemirror_mode": {
    "name": "ipython",
    "version": 3
   },
   "file_extension": ".py",
   "mimetype": "text/x-python",
   "name": "python",
   "nbconvert_exporter": "python",
   "pygments_lexer": "ipython3",
   "version": "3.6.10"
  }
 },
 "nbformat": 4,
 "nbformat_minor": 2
}
