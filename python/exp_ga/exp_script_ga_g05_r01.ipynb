{
 "cells": [
  {
   "cell_type": "code",
   "execution_count": null,
   "metadata": {},
   "outputs": [],
   "source": []
  },
  {
   "cell_type": "code",
   "execution_count": 1,
   "metadata": {},
   "outputs": [],
   "source": [
    "# dependency\n",
    "import numpy as np\n",
    "import pandas as pd\n",
    "import copy\n",
    "import math\n",
    "import sys\n",
    "import os\n",
    "from activations import relu, leaky_relu, sigmoid, tanh, softmax, d_sigmoid, d_relu\n",
    "from initializers import glorot_uniform, random_normal, random_uniform\n",
    "from regularizers import l1_regularizer, l2_regularizer\n",
    "from utility import trim_tail, multiply, subtract, get_nparams, one_hot_encoding, get_data\n",
    "from metrics import MSE, CCE, ACC, PRECISION, RECALL, essential_metrics, wondering_penalty, close_gap_penalty\n",
    "from pso import PSO\n",
    "from ga import GA\n",
    "from nn import Network\n",
    "from layer import DenseLayer\n",
    "from scalers import MinMaxScaler, StandardScaler"
   ]
  },
  {
   "cell_type": "code",
   "execution_count": 2,
   "metadata": {},
   "outputs": [],
   "source": [
    "# reference\n",
    "metrics_fn_dict = dict()\n",
    "metrics_fn_dict['accuracy'] = ACC\n",
    "metrics_fn_dict['categorical_crossentropy'] = CCE\n",
    "metrics_fn_dict['mean_square_error'] = MSE\n",
    "metrics_fn_dict['precision'] = PRECISION\n",
    "metrics_fn_dict['recall'] = RECALL\n",
    "metrics_fn_dict['essential_metrics'] = essential_metrics"
   ]
  },
  {
   "cell_type": "code",
   "execution_count": 3,
   "metadata": {},
   "outputs": [],
   "source": [
    "# model\n",
    "model = Network(5, lr = None)\n",
    "model.add_layer(DenseLayer(1, 4, True, afn=sigmoid, dafn=None, rfn=None))\n",
    "model.add_layer(DenseLayer(2, 3, True, afn=softmax, dafn=None, rfn=None))"
   ]
  },
  {
   "cell_type": "code",
   "execution_count": 4,
   "metadata": {},
   "outputs": [],
   "source": [
    "# optimizer\n",
    "ga = GA(\n",
    "    dict(\n",
    "        m = 50,\n",
    "        x_rate = 0.5,\n",
    "        m_rate = 0.6,\n",
    "        weight_constraint = [-3.,3.],\n",
    "        radioactive_rating = 0.5,\n",
    "        grow_factor = 0.5,\n",
    "        scale_hyperparameter = False))"
   ]
  },
  {
   "cell_type": "code",
   "execution_count": 5,
   "metadata": {},
   "outputs": [
    {
     "name": "stdout",
     "output_type": "stream",
     "text": [
      "building layer 1 with 5\n",
      "24\n",
      "building layer 2 with 4\n",
      "15\n"
     ]
    }
   ],
   "source": [
    "model.compile(loss_fn = 'categorical_crossentropy', optimizer = ga, \\\n",
    "    metrics = ['accuracy', 'mean_square_error', 'categorical_crossentropy', 'precision', 'recall', 'f1'])"
   ]
  },
  {
   "cell_type": "code",
   "execution_count": 6,
   "metadata": {},
   "outputs": [
    {
     "name": "stdout",
     "output_type": "stream",
     "text": [
      "<class 'pandas.core.frame.DataFrame'>\n",
      "RangeIndex: 107 entries, 0 to 106\n",
      "Data columns (total 6 columns):\n",
      " #   Column  Non-Null Count  Dtype  \n",
      "---  ------  --------------  -----  \n",
      " 0   f1      107 non-null    float32\n",
      " 1   f2      107 non-null    float32\n",
      " 2   f3      107 non-null    float32\n",
      " 3   f4      107 non-null    float32\n",
      " 4   f5      107 non-null    float32\n",
      " 5   label   107 non-null    float32\n",
      "dtypes: float32(6)\n",
      "memory usage: 2.6 KB\n",
      "None\n",
      "<class 'pandas.core.frame.DataFrame'>\n",
      "RangeIndex: 108 entries, 0 to 107\n",
      "Data columns (total 6 columns):\n",
      " #   Column  Non-Null Count  Dtype  \n",
      "---  ------  --------------  -----  \n",
      " 0   f1      108 non-null    float32\n",
      " 1   f2      108 non-null    float32\n",
      " 2   f3      108 non-null    float32\n",
      " 3   f4      108 non-null    float32\n",
      " 4   f5      108 non-null    float32\n",
      " 5   label   108 non-null    float32\n",
      "dtypes: float32(6)\n",
      "memory usage: 2.7 KB\n",
      "None\n"
     ]
    }
   ],
   "source": [
    "# data loading\n",
    "DATA = os.path.join('c:\\\\Users\\\\tcumi\\\\github_repo\\\\neural-network\\\\', 'dataset')\n",
    "GROUP = 5\n",
    "COLUMNS = ['f1', 'f2', 'f3', 'f4', 'f5', 'label']\n",
    "N_CLASS = 3\n",
    "EPOCHS = 500\n",
    "train_dir, test_dir = \"..//dataset//training_data{}.txt\".format(GROUP), \"..//dataset//testing_data{}.txt\".format(GROUP)\n",
    "train, test = get_data(DATA, train_dir, COLUMNS), get_data(DATA, test_dir, COLUMNS)\n",
    "# shuffle\n",
    "train, test = train.sample(frac=1), test.sample(frac=1)\n",
    "x_train, y_train = train.drop('label', axis=1), train['label']\n",
    "x_test, y_test = test.drop('label', axis=1), test['label']"
   ]
  },
  {
   "cell_type": "code",
   "execution_count": 7,
   "metadata": {},
   "outputs": [],
   "source": [
    "# data scaling and encoding\n",
    "scaler = StandardScaler(['f1', 'f2', 'f3', 'f4', 'f5'])\n",
    "scaler.fit(x_train)\n",
    "x_train = scaler.transform(x_train)\n",
    "x_test = scaler.transform(x_test)\n",
    "y_train = one_hot_encoding(y_train, N_CLASS)\n",
    "y_test = one_hot_encoding(y_test, N_CLASS)"
   ]
  },
  {
   "cell_type": "code",
   "execution_count": 8,
   "metadata": {
    "scrolled": true,
    "tags": [
     "outputPrepend"
    ]
   },
   "outputs": [
    {
     "name": "stderr",
     "output_type": "stream",
     "text": [
      "C:\\Users\\tcumi\\github_repo\\neural-network\\python\\activations.py:14: RuntimeWarning: overflow encountered in exp\n",
      "  y = 1 / (1 + np.exp(-Xi))\n",
      "C:\\Users\\tcumi\\github_repo\\neural-network\\python\\ga.py:189: RuntimeWarning: overflow encountered in add\n",
      "  self.population.sort(key=lambda p: p.fitness + np.random.uniform(-shift, shift, 1), reverse = self.aim)\n"
     ]
    },
    {
     "name": "stdout",
     "output_type": "stream",
     "text": [
      "Checkpoint 100, Accuracy: 0.8209876543209876, Loss: 0.7486291814733435\n",
      "Checkpoint 200, Accuracy: 0.8271604938271605, Loss: 0.6974923169171369\n",
      "Checkpoint 300, Accuracy: 0.8333333333333334, Loss: 0.6943651128698278\n",
      "Checkpoint 400, Accuracy: 0.8333333333333334, Loss: 0.6862652390091507\n",
      "Checkpoint 500, Accuracy: 0.8333333333333334, Loss: 0.6870334060103805\n"
     ]
    }
   ],
   "source": [
    "# learning phase\n",
    "breakpoint = 100\n",
    "checkpoints = list()\n",
    "history = list()\n",
    "for century in range(0, EPOCHS, breakpoint):\n",
    "    sub_history = model.fit(x_train, y_train, breakpoint, verbose = 0)\n",
    "    score = model.evaluate(x_test, y_test, False, verbose = 0)\n",
    "    print('Checkpoint {}, Accuracy: {}, Loss: {}'.format(century+breakpoint, score['accuracy'], score[model.loss_fn]))\n",
    "    score['checkpoint'] = century + breakpoint\n",
    "    checkpoints.append(score)\n",
    "    history.extend(sub_history)"
   ]
  },
  {
   "cell_type": "code",
   "execution_count": 9,
   "metadata": {},
   "outputs": [],
   "source": [
    "import matplotlib.pyplot as plt\n",
    "\n",
    "def draw_plot(x, y_list, x_label=None, y_label=None, legend=None):\n",
    "    fig, ax = plt.subplots(figsize=(12,5))\n",
    "    for y in y_list:\n",
    "        ax.plot(x, y)\n",
    "    if x_label is not None and y_label is not None:\n",
    "        title = '{} VS {}'.format(x_label, y_label)\n",
    "        ax.set(xlabel=x_label, ylabel=y_label, title=title)\n",
    "    if legend is not None:\n",
    "        ax.legend(legend)\n",
    "    ax.grid()\n",
    "    plt.show()"
   ]
  },
  {
   "cell_type": "code",
   "execution_count": 10,
   "metadata": {},
   "outputs": [
    {
     "data": {
      "image/png": "[encoded data removed]",
      "text/plain": [
       "<Figure size 864x360 with 1 Axes>"
      ]
     },
     "metadata": {
      "needs_background": "light"
     },
     "output_type": "display_data"
    }
   ],
   "source": [
    "draw_plot(x = [i for i in range(len(history))], y_list = [history], x_label = 'Epochs', \\\n",
    "    y_label = model.loss_fn)"
   ]
  },
  {
   "cell_type": "code",
   "execution_count": 11,
   "metadata": {},
   "outputs": [
    {
     "name": "stdout",
     "output_type": "stream",
     "text": [
      "[0. 0. 1.] <-> [[0.09825618]\n",
      " [0.427512  ]\n",
      " [0.4742318 ]]\n",
      "[1. 0. 0.] <-> [[0.8371195 ]\n",
      " [0.09485341]\n",
      " [0.06802706]]\n",
      "[0. 0. 1.] <-> [[0.21935375]\n",
      " [0.4082079 ]\n",
      " [0.3724383 ]]\n",
      "[0. 0. 1.] <-> [[0.95989734]\n",
      " [0.0224282 ]\n",
      " [0.01767438]]\n",
      "[1. 0. 0.] <-> [[0.94674855]\n",
      " [0.02873567]\n",
      " [0.02451575]]\n",
      "[1. 0. 0.] <-> [[0.91540277]\n",
      " [0.04362668]\n",
      " [0.04097063]]\n",
      "[1. 0. 0.] <-> [[0.95514536]\n",
      " [0.0247114 ]\n",
      " [0.02014326]]\n",
      "[0. 0. 1.] <-> [[0.66047996]\n",
      " [0.23676229]\n",
      " [0.10275771]]\n",
      "[1. 0. 0.] <-> [[0.4206028 ]\n",
      " [0.32351422]\n",
      " [0.25588304]]\n",
      "[1. 0. 0.] <-> [[0.2041095 ]\n",
      " [0.41317812]\n",
      " [0.38271245]]\n",
      "[0. 0. 1.] <-> [[0.9565961 ]\n",
      " [0.02401463]\n",
      " [0.01938924]]\n",
      "[1. 0. 0.] <-> [[0.9573452 ]\n",
      " [0.02365478]\n",
      " [0.01900006]]\n",
      "[0. 1. 0.] <-> [[0.55731857]\n",
      " [0.32195386]\n",
      " [0.12072757]]\n",
      "[0. 1. 0.] <-> [[0.10516023]\n",
      " [0.428623  ]\n",
      " [0.4662168 ]]\n",
      "[1. 0. 0.] <-> [[0.37142882]\n",
      " [0.34570825]\n",
      " [0.28286296]]\n",
      "[0. 1. 0.] <-> [[0.52395   ]\n",
      " [0.33755696]\n",
      " [0.13849309]]\n",
      "[1. 0. 0.] <-> [[0.9651791 ]\n",
      " [0.0198902 ]\n",
      " [0.01493062]]\n",
      "[1. 0. 0.] <-> [[0.95170945]\n",
      " [0.02636003]\n",
      " [0.02193049]]\n",
      "[1. 0. 0.] <-> [[0.962108  ]\n",
      " [0.02136568]\n",
      " [0.01652639]]\n",
      "[1. 0. 0.] <-> [[0.9602586 ]\n",
      " [0.02225458]\n",
      " [0.01748681]]\n",
      "[0. 0. 1.] <-> [[0.51078045]\n",
      " [0.31259274]\n",
      " [0.17662674]]\n",
      "[0. 0. 1.] <-> [[0.9520809 ]\n",
      " [0.02618189]\n",
      " [0.02173714]]\n",
      "[0. 1. 0.] <-> [[0.4079177 ]\n",
      " [0.32916477]\n",
      " [0.26291752]]\n",
      "[0. 1. 0.] <-> [[0.47965595]\n",
      " [0.30225053]\n",
      " [0.21809345]]\n",
      "[1. 0. 0.] <-> [[0.9564267 ]\n",
      " [0.02409603]\n",
      " [0.01947729]]\n",
      "[1. 0. 0.] <-> [[0.46517748]\n",
      " [0.30590305]\n",
      " [0.2289195 ]]\n",
      "[1. 0. 0.] <-> [[0.9338372 ]\n",
      " [0.03488602]\n",
      " [0.03127681]]\n",
      "[1. 0. 0.] <-> [[0.96621084]\n",
      " [0.01939505]\n",
      " [0.01439405]]\n",
      "[1. 0. 0.] <-> [[0.47272733]\n",
      " [0.3037571 ]\n",
      " [0.22351548]]\n",
      "[1. 0. 0.] <-> [[0.48469368]\n",
      " [0.30154225]\n",
      " [0.21376407]]\n",
      "[1. 0. 0.] <-> [[0.6359231 ]\n",
      " [0.25753132]\n",
      " [0.10654561]]\n",
      "[1. 0. 0.] <-> [[0.9655478 ]\n",
      " [0.01971321]\n",
      " [0.01473892]]\n",
      "[1. 0. 0.] <-> [[0.95959383]\n",
      " [0.02257412]\n",
      " [0.01783204]]\n",
      "[0. 1. 0.] <-> [[0.87829804]\n",
      " [0.06566003]\n",
      " [0.05604191]]\n",
      "[1. 0. 0.] <-> [[0.9293708 ]\n",
      " [0.03700155]\n",
      " [0.03362761]]\n",
      "[1. 0. 0.] <-> [[0.9618425 ]\n",
      " [0.02149327]\n",
      " [0.01666427]]\n",
      "[1. 0. 0.] <-> [[0.9524068 ]\n",
      " [0.02602559]\n",
      " [0.02156754]]\n",
      "[0. 1. 0.] <-> [[0.12610608]\n",
      " [0.42930013]\n",
      " [0.44459373]]\n",
      "[0. 1. 0.] <-> [[0.5776508 ]\n",
      " [0.3061676 ]\n",
      " [0.11618158]]\n",
      "[1. 0. 0.] <-> [[0.96074   ]\n",
      " [0.0220232 ]\n",
      " [0.01723682]]\n",
      "[1. 0. 0.] <-> [[0.9423466 ]\n",
      " [0.03083817]\n",
      " [0.02681528]]\n",
      "[1. 0. 0.] <-> [[0.9423089 ]\n",
      " [0.03085618]\n",
      " [0.02683502]]\n",
      "[1. 0. 0.] <-> [[0.44929028]\n",
      " [0.3115092 ]\n",
      " [0.23920055]]\n",
      "[1. 0. 0.] <-> [[0.9575647 ]\n",
      " [0.02354928]\n",
      " [0.01888599]]\n",
      "[1. 0. 0.] <-> [[0.51604545]\n",
      " [0.32557926]\n",
      " [0.15837532]]\n",
      "[0. 1. 0.] <-> [[0.2929965 ]\n",
      " [0.38007867]\n",
      " [0.3269248 ]]\n",
      "[1. 0. 0.] <-> [[0.9518999 ]\n",
      " [0.02626878]\n",
      " [0.02183145]]\n",
      "[1. 0. 0.] <-> [[0.93785965]\n",
      " [0.03297536]\n",
      " [0.02916499]]\n",
      "[0. 1. 0.] <-> [[0.929156  ]\n",
      " [0.03710314]\n",
      " [0.03374081]]\n",
      "[1. 0. 0.] <-> [[0.58954364]\n",
      " [0.2964673 ]\n",
      " [0.11398911]]\n",
      "[0. 1. 0.] <-> [[0.13396387]\n",
      " [0.42875814]\n",
      " [0.43727794]]\n",
      "[0. 0. 1.] <-> [[0.26857483]\n",
      " [0.39000902]\n",
      " [0.34141615]]\n",
      "[1. 0. 0.] <-> [[0.9658738 ]\n",
      " [0.01955679]\n",
      " [0.01456941]]\n",
      "[1. 0. 0.] <-> [[0.9146978 ]\n",
      " [0.04396836]\n",
      " [0.04133373]]\n",
      "[1. 0. 0.] <-> [[0.9327193 ]\n",
      " [0.03541611]\n",
      " [0.03186462]]\n",
      "[0. 0. 1.] <-> [[0.0444456 ]\n",
      " [0.38242364]\n",
      " [0.5731308 ]]\n",
      "[1. 0. 0.] <-> [[0.9354362 ]\n",
      " [0.03412712]\n",
      " [0.03043671]]\n",
      "[0. 1. 0.] <-> [[0.29222548]\n",
      " [0.38039923]\n",
      " [0.32737526]]\n",
      "[0. 0. 1.] <-> [[0.07543083]\n",
      " [0.41892853]\n",
      " [0.5056407 ]]\n",
      "[0. 0. 1.] <-> [[0.02356191]\n",
      " [0.31077874]\n",
      " [0.6656593 ]]\n",
      "[1. 0. 0.] <-> [[0.28735912]\n",
      " [0.38241327]\n",
      " [0.33022767]]\n",
      "[1. 0. 0.] <-> [[0.51809275]\n",
      " [0.33101767]\n",
      " [0.15088959]]\n",
      "[1. 0. 0.] <-> [[0.9367787 ]\n",
      " [0.0334893 ]\n",
      " [0.02973198]]\n",
      "[1. 0. 0.] <-> [[0.9591047 ]\n",
      " [0.02280923]\n",
      " [0.01808609]]\n",
      "[0. 0. 1.] <-> [[0.02148709]\n",
      " [0.29895845]\n",
      " [0.67955446]]\n",
      "[1. 0. 0.] <-> [[0.9193724 ]\n",
      " [0.04172771]\n",
      " [0.03889991]]\n",
      "[1. 0. 0.] <-> [[0.9141504 ]\n",
      " [0.04423511]\n",
      " [0.04161444]]\n",
      "[1. 0. 0.] <-> [[0.46993977]\n",
      " [0.30449754]\n",
      " [0.22556266]]\n",
      "[1. 0. 0.] <-> [[0.9483526 ]\n",
      " [0.02796826]\n",
      " [0.02367921]]\n",
      "[1. 0. 0.] <-> [[0.91419065]\n",
      " [0.04421551]\n",
      " [0.04159391]]\n",
      "[0. 1. 0.] <-> [[0.0653575 ]\n",
      " [0.41152164]\n",
      " [0.5231209 ]]\n",
      "[1. 0. 0.] <-> [[0.9157653 ]\n",
      " [0.04345156]\n",
      " [0.04078313]]\n",
      "[1. 0. 0.] <-> [[0.32538357]\n",
      " [0.3662538 ]\n",
      " [0.3083627 ]]\n",
      "[1. 0. 0.] <-> [[0.49673268]\n",
      " [0.30202022]\n",
      " [0.20124708]]\n",
      "[0. 1. 0.] <-> [[0.95094824]\n",
      " [0.02672498]\n",
      " [0.02232684]]\n",
      "[1. 0. 0.] <-> [[0.6464136 ]\n",
      " [0.24865326]\n",
      " [0.1049331 ]]\n",
      "[0. 0. 1.] <-> [[0.09087521]\n",
      " [0.42567417]\n",
      " [0.48345056]]\n",
      "[1. 0. 0.] <-> [[0.43226147]\n",
      " [0.31845772]\n",
      " [0.24928075]]\n",
      "[1. 0. 0.] <-> [[0.922569  ]\n",
      " [0.04021478]\n",
      " [0.03721632]]\n",
      "[1. 0. 0.] <-> [[0.9556523 ]\n",
      " [0.02446799]\n",
      " [0.01987977]]\n",
      "[1. 0. 0.] <-> [[0.39009407]\n",
      " [0.33723006]\n",
      " [0.27267587]]\n",
      "[0. 1. 0.] <-> [[0.05981607]\n",
      " [0.40600023]\n",
      " [0.53418374]]\n",
      "[1. 0. 0.] <-> [[0.6932816 ]\n",
      " [0.20919935]\n",
      " [0.09751906]]\n",
      "[0. 0. 1.] <-> [[0.28553218]\n",
      " [0.38316464]\n",
      " [0.33130318]]\n",
      "[1. 0. 0.] <-> [[0.94310707]\n",
      " [0.03047534]\n",
      " [0.02641761]]\n",
      "[1. 0. 0.] <-> [[0.9358822 ]\n",
      " [0.03391526]\n",
      " [0.03020249]]\n",
      "[1. 0. 0.] <-> [[0.9505786 ]\n",
      " [0.0269021 ]\n",
      " [0.02251929]]\n",
      "[1. 0. 0.] <-> [[0.48726347]\n",
      " [0.30134517]\n",
      " [0.21139133]]\n",
      "[1. 0. 0.] <-> [[0.93506664]\n",
      " [0.03430256]\n",
      " [0.03063077]]\n",
      "[1. 0. 0.] <-> [[0.5345866 ]\n",
      " [0.3361296 ]\n",
      " [0.12928382]]\n",
      "[1. 0. 0.] <-> [[0.92880034]\n",
      " [0.03727135]\n",
      " [0.03392832]]\n",
      "[1. 0. 0.] <-> [[0.46843675]\n",
      " [0.30492327]\n",
      " [0.22663997]]\n",
      "[1. 0. 0.] <-> [[0.44295606]\n",
      " [0.31401262]\n",
      " [0.2430313 ]]\n",
      "[0. 0. 1.] <-> [[0.06401327]\n",
      " [0.4102907 ]\n",
      " [0.5256961 ]]\n",
      "[1. 0. 0.] <-> [[0.9136984 ]\n",
      " [0.04445639]\n",
      " [0.04184528]]\n",
      "[1. 0. 0.] <-> [[0.89365625]\n",
      " [0.05566942]\n",
      " [0.05067433]]\n",
      "[1. 0. 0.] <-> [[0.9097938 ]\n",
      " [0.0464143 ]\n",
      " [0.04379184]]\n",
      "[0. 1. 0.] <-> [[0.9593696 ]\n",
      " [0.02268189]\n",
      " [0.01794849]]\n",
      "[1. 0. 0.] <-> [[0.51983833]\n",
      " [0.33419713]\n",
      " [0.14596453]]\n",
      "[1. 0. 0.] <-> [[0.55846417]\n",
      " [0.32110748]\n",
      " [0.12042835]]\n",
      "[0. 1. 0.] <-> [[0.53582376]\n",
      " [0.33558333]\n",
      " [0.12859288]]\n",
      "[1. 0. 0.] <-> [[0.5167864 ]\n",
      " [0.3277166 ]\n",
      " [0.15549701]]\n",
      "[1. 0. 0.] <-> [[0.93674177]\n",
      " [0.03350688]\n",
      " [0.02975139]]\n",
      "[1. 0. 0.] <-> [[0.9500797 ]\n",
      " [0.02714116]\n",
      " [0.02277916]]\n",
      "[1. 0. 0.] <-> [[0.91228276]\n",
      " [0.04515574]\n",
      " [0.04256157]]\n",
      "[1. 0. 0.] <-> [[0.6978952 ]\n",
      " [0.20534956]\n",
      " [0.09675522]]\n",
      "[1. 0. 0.] <-> [[0.31941876]\n",
      " [0.36884743]\n",
      " [0.31173375]]\n",
      "[1. 0. 0.] <-> [[0.92804307]\n",
      " [0.03762936]\n",
      " [0.03432761]]\n",
      "{'accuracy': 0.8333333333333334, 'mean_square_error': 2.9441507990382316, 'categorical_crossentropy': 0.6870334060103805, 'precision': 0.75, 'recall': 0.75, 'f1': 0.75, 'essential_metrics': {0: {'tp_hit': 72, 'fp_hit': 15, 'tn_hit': 17, 'fn_hit': 4}, 1: {'tp_hit': 2, 'fp_hit': 7, 'tn_hit': 84, 'fn_hit': 15}, 2: {'tp_hit': 7, 'fp_hit': 5, 'tn_hit': 88, 'fn_hit': 8}}}\n"
     ]
    },
    {
     "name": "stderr",
     "output_type": "stream",
     "text": [
      "C:\\Users\\tcumi\\github_repo\\neural-network\\python\\activations.py:14: RuntimeWarning: overflow encountered in exp\n",
      "  y = 1 / (1 + np.exp(-Xi))\n"
     ]
    }
   ],
   "source": [
    "# recall phase\n",
    "score = model.evaluate(x_test, y_test, False)\n",
    "print(score)"
   ]
  },
  {
   "cell_type": "code",
   "execution_count": 12,
   "metadata": {},
   "outputs": [],
   "source": [
    "# Testing Performance"
   ]
  },
  {
   "cell_type": "code",
   "execution_count": 13,
   "metadata": {
    "scrolled": true
   },
   "outputs": [
    {
     "name": "stdout",
     "output_type": "stream",
     "text": [
      "{'accuracy': 0.8209876543209876, 'mean_square_error': 2.915347882836357, 'categorical_crossentropy': 0.7486291814733435, 'precision': 0.7314814814814815, 'recall': 0.7314814814814815, 'f1': 0.7314814814814816, 'essential_metrics': {0: {'tp_hit': 72, 'fp_hit': 15, 'tn_hit': 17, 'fn_hit': 4}, 1: {'tp_hit': 7, 'fp_hit': 14, 'tn_hit': 77, 'fn_hit': 10}, 2: {'tp_hit': 0, 'fp_hit': 0, 'tn_hit': 93, 'fn_hit': 15}}, 'checkpoint': 100} \n",
      "\n",
      "\n",
      "{'accuracy': 0.8271604938271605, 'mean_square_error': 2.9100376002771267, 'categorical_crossentropy': 0.6974923169171369, 'precision': 0.7407407407407407, 'recall': 0.7407407407407407, 'f1': 0.7407407407407407, 'essential_metrics': {0: {'tp_hit': 71, 'fp_hit': 15, 'tn_hit': 17, 'fn_hit': 5}, 1: {'tp_hit': 5, 'fp_hit': 11, 'tn_hit': 80, 'fn_hit': 12}, 2: {'tp_hit': 4, 'fp_hit': 2, 'tn_hit': 91, 'fn_hit': 11}}, 'checkpoint': 200} \n",
      "\n",
      "\n",
      "{'accuracy': 0.8333333333333334, 'mean_square_error': 2.9155522485238725, 'categorical_crossentropy': 0.6943651128698278, 'precision': 0.75, 'recall': 0.75, 'f1': 0.75, 'essential_metrics': {0: {'tp_hit': 72, 'fp_hit': 15, 'tn_hit': 17, 'fn_hit': 4}, 1: {'tp_hit': 2, 'fp_hit': 7, 'tn_hit': 84, 'fn_hit': 15}, 2: {'tp_hit': 7, 'fp_hit': 5, 'tn_hit': 88, 'fn_hit': 8}}, 'checkpoint': 300} \n",
      "\n",
      "\n",
      "{'accuracy': 0.8333333333333334, 'mean_square_error': 2.925413820362832, 'categorical_crossentropy': 0.6862652390091507, 'precision': 0.75, 'recall': 0.75, 'f1': 0.75, 'essential_metrics': {0: {'tp_hit': 72, 'fp_hit': 15, 'tn_hit': 17, 'fn_hit': 4}, 1: {'tp_hit': 2, 'fp_hit': 7, 'tn_hit': 84, 'fn_hit': 15}, 2: {'tp_hit': 7, 'fp_hit': 5, 'tn_hit': 88, 'fn_hit': 8}}, 'checkpoint': 400} \n",
      "\n",
      "\n",
      "{'accuracy': 0.8333333333333334, 'mean_square_error': 2.9441507990382316, 'categorical_crossentropy': 0.6870334060103805, 'precision': 0.75, 'recall': 0.75, 'f1': 0.75, 'essential_metrics': {0: {'tp_hit': 72, 'fp_hit': 15, 'tn_hit': 17, 'fn_hit': 4}, 1: {'tp_hit': 2, 'fp_hit': 7, 'tn_hit': 84, 'fn_hit': 15}, 2: {'tp_hit': 7, 'fp_hit': 5, 'tn_hit': 88, 'fn_hit': 8}}, 'checkpoint': 500} \n",
      "\n",
      "\n"
     ]
    }
   ],
   "source": [
    "for checkpoint in checkpoints:\n",
    "    print(checkpoint, '\\n\\n')"
   ]
  },
  {
   "cell_type": "code",
   "execution_count": 16,
   "metadata": {},
   "outputs": [
    {
     "data": {
      "image/png": "[encoded data removed]",
      "text/plain": [
       "<Figure size 864x360 with 1 Axes>"
      ]
     },
     "metadata": {
      "needs_background": "light"
     },
     "output_type": "display_data"
    }
   ],
   "source": [
    "cat_cross = [ ckp[model.loss_fn] for ckp in checkpoints ]\n",
    "draw_plot(x = [(i+1)*breakpoint for i in range(len(checkpoints))], y_list = [cat_cross], x_label = 'Checkpoints', \\\n",
    "    y_label = model.loss_fn)"
   ]
  },
  {
   "cell_type": "code",
   "execution_count": 17,
   "metadata": {},
   "outputs": [
    {
     "data": {
      "image/png": "[encoded data removed]",
      "text/plain": [
       "<Figure size 864x360 with 1 Axes>"
      ]
     },
     "metadata": {
      "needs_background": "light"
     },
     "output_type": "display_data"
    }
   ],
   "source": [
    "acc = [ ckp['accuracy'] for ckp in checkpoints ]\n",
    "draw_plot(x = [(i+1)*breakpoint for i in range(len(checkpoints))], y_list = [acc], x_label = 'Checkpoints', \\\n",
    "    y_label = 'accuracy')"
   ]
  },
  {
   "cell_type": "code",
   "execution_count": 18,
   "metadata": {},
   "outputs": [
    {
     "name": "stdout",
     "output_type": "stream",
     "text": [
      "Layer 1\n",
      "Neuron 0: weights:\n",
      "[[-0.53327423]\n",
      " [-0.3117795 ]\n",
      " [-1.7331065 ]\n",
      " [ 2.2924156 ]\n",
      " [ 1.0875566 ]]\n",
      " bias: [-0.89072996]\n",
      "\n",
      "Neuron 1: weights:\n",
      "[[ 2.629629  ]\n",
      " [-0.9903834 ]\n",
      " [-0.36637518]\n",
      " [ 1.4765925 ]\n",
      " [-2.3725204 ]]\n",
      " bias: [-0.79507124]\n",
      "\n",
      "Neuron 2: weights:\n",
      "[[-2.8707166]\n",
      " [-2.9602945]\n",
      " [-3.       ]\n",
      " [-3.       ]\n",
      " [-2.6371346]]\n",
      " bias: [-0.72897005]\n",
      "\n",
      "Neuron 3: weights:\n",
      "[[0.7276437]\n",
      " [1.4273999]\n",
      " [2.663803 ]\n",
      " [1.5369706]\n",
      " [1.5002084]]\n",
      " bias: [-2.810584]\n",
      "\n",
      "$\n",
      "Layer 2\n",
      "Neuron 0: weights:\n",
      "[[-3.       ]\n",
      " [-3.       ]\n",
      " [ 2.7085824]\n",
      " [-0.747822 ]]\n",
      " bias: [1.6948093]\n",
      "\n",
      "Neuron 1: weights:\n",
      "[[ 0.60179573]\n",
      " [-1.1065013 ]\n",
      " [ 0.39614788]\n",
      " [-1.3987198 ]]\n",
      " bias: [-0.35136127]\n",
      "\n",
      "Neuron 2: weights:\n",
      "[[ 0.08322325]\n",
      " [ 1.4108795 ]\n",
      " [ 1.5907823 ]\n",
      " [-0.53771126]]\n",
      " bias: [-2.184252]\n",
      "\n",
      "$\n",
      "\n"
     ]
    }
   ],
   "source": [
    "print(model)"
   ]
  },
  {
   "cell_type": "code",
   "execution_count": null,
   "metadata": {},
   "outputs": [],
   "source": []
  }
 ],
 "metadata": {
  "kernelspec": {
   "display_name": "Python 3",
   "language": "python",
   "name": "python3"
  },
  "language_info": {
   "codemirror_mode": {
    "name": "ipython",
    "version": 3
   },
   "file_extension": ".py",
   "mimetype": "text/x-python",
   "name": "python",
   "nbconvert_exporter": "python",
   "pygments_lexer": "ipython3",
   "version": "3.6.10"
  }
 },
 "nbformat": 4,
 "nbformat_minor": 2
}
