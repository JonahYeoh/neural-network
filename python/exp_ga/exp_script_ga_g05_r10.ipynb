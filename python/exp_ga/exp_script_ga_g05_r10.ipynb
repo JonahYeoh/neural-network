{
 "cells": [
  {
   "cell_type": "code",
   "execution_count": 1,
   "metadata": {},
   "outputs": [],
   "source": [
    "# single"
   ]
  },
  {
   "cell_type": "code",
   "execution_count": 2,
   "metadata": {},
   "outputs": [],
   "source": [
    "# dependency\n",
    "import numpy as np\n",
    "import pandas as pd\n",
    "import copy\n",
    "import math\n",
    "import sys\n",
    "import os\n",
    "from activations import relu, leaky_relu, sigmoid, tanh, softmax, d_sigmoid, d_relu\n",
    "from initializers import glorot_uniform, random_normal, random_uniform\n",
    "from regularizers import l1_regularizer, l2_regularizer\n",
    "from utility import trim_tail, multiply, subtract, get_nparams, one_hot_encoding, get_data\n",
    "from metrics import MSE, CCE, ACC, PRECISION, RECALL, essential_metrics, wondering_penalty, close_gap_penalty\n",
    "from pso import PSO\n",
    "from ga import GA\n",
    "from nn import Network\n",
    "from layer import DenseLayer\n",
    "from scalers import MinMaxScaler, StandardScaler"
   ]
  },
  {
   "cell_type": "code",
   "execution_count": 3,
   "metadata": {},
   "outputs": [],
   "source": [
    "# reference\n",
    "metrics_fn_dict = dict()\n",
    "metrics_fn_dict['accuracy'] = ACC\n",
    "metrics_fn_dict['categorical_crossentropy'] = CCE\n",
    "metrics_fn_dict['mean_square_error'] = MSE\n",
    "metrics_fn_dict['precision'] = PRECISION\n",
    "metrics_fn_dict['recall'] = RECALL\n",
    "metrics_fn_dict['essential_metrics'] = essential_metrics"
   ]
  },
  {
   "cell_type": "code",
   "execution_count": 4,
   "metadata": {},
   "outputs": [],
   "source": [
    "# model\n",
    "model = Network(5, lr = None)\n",
    "model.add_layer(DenseLayer(1, 4, True, afn=sigmoid, dafn=None, rfn=None))\n",
    "model.add_layer(DenseLayer(2, 3, True, afn=softmax, dafn=None, rfn=None))"
   ]
  },
  {
   "cell_type": "code",
   "execution_count": 5,
   "metadata": {},
   "outputs": [],
   "source": [
    "# optimizer\n",
    "ga = GA(\n",
    "    dict(\n",
    "        m = 50,\n",
    "        x_rate = [0.5, 1.0],\n",
    "        m_rate = [0.5, 1.0],\n",
    "        weight_constraint = [-3.,3.],\n",
    "        radioactive_rating = [0.1, 0.5],\n",
    "        grow_factor = [0.1, 0.5],\n",
    "        scale_hyperparameter = False,\n",
    "        regularizer = l1_regularizer))"
   ]
  },
  {
   "cell_type": "code",
   "execution_count": 6,
   "metadata": {},
   "outputs": [
    {
     "name": "stdout",
     "output_type": "stream",
     "text": [
      "building layer 1 with 5\n",
      "24\n",
      "building layer 2 with 4\n",
      "15\n"
     ]
    }
   ],
   "source": [
    "model.compile(loss_fn = 'categorical_crossentropy', optimizer = ga, \\\n",
    "    metrics = ['accuracy', 'mean_square_error', 'categorical_crossentropy', 'precision', 'recall', 'f1'])"
   ]
  },
  {
   "cell_type": "code",
   "execution_count": 7,
   "metadata": {},
   "outputs": [
    {
     "name": "stdout",
     "output_type": "stream",
     "text": [
      "<class 'pandas.core.frame.DataFrame'>\n",
      "RangeIndex: 107 entries, 0 to 106\n",
      "Data columns (total 6 columns):\n",
      " #   Column  Non-Null Count  Dtype  \n",
      "---  ------  --------------  -----  \n",
      " 0   f1      107 non-null    float32\n",
      " 1   f2      107 non-null    float32\n",
      " 2   f3      107 non-null    float32\n",
      " 3   f4      107 non-null    float32\n",
      " 4   f5      107 non-null    float32\n",
      " 5   label   107 non-null    float32\n",
      "dtypes: float32(6)\n",
      "memory usage: 2.6 KB\n",
      "None\n",
      "<class 'pandas.core.frame.DataFrame'>\n",
      "RangeIndex: 108 entries, 0 to 107\n",
      "Data columns (total 6 columns):\n",
      " #   Column  Non-Null Count  Dtype  \n",
      "---  ------  --------------  -----  \n",
      " 0   f1      108 non-null    float32\n",
      " 1   f2      108 non-null    float32\n",
      " 2   f3      108 non-null    float32\n",
      " 3   f4      108 non-null    float32\n",
      " 4   f5      108 non-null    float32\n",
      " 5   label   108 non-null    float32\n",
      "dtypes: float32(6)\n",
      "memory usage: 2.7 KB\n",
      "None\n"
     ]
    }
   ],
   "source": [
    "# data loading\n",
    "DATA = os.path.join('c:\\\\Users\\\\tcumi\\\\github_repo\\\\neural-network\\\\', 'dataset')\n",
    "GROUP = 5\n",
    "COLUMNS = ['f1', 'f2', 'f3', 'f4', 'f5', 'label']\n",
    "N_CLASS = 3\n",
    "EPOCHS = 500\n",
    "train_dir, test_dir = \"..//dataset//training_data{}.txt\".format(GROUP), \"..//dataset//testing_data{}.txt\".format(GROUP)\n",
    "train, test = get_data(DATA, train_dir, COLUMNS), get_data(DATA, test_dir, COLUMNS)\n",
    "# shuffle\n",
    "train, test = train.sample(frac=1), test.sample(frac=1)\n",
    "x_train, y_train = train.drop('label', axis=1), train['label']\n",
    "x_test, y_test = test.drop('label', axis=1), test['label']"
   ]
  },
  {
   "cell_type": "code",
   "execution_count": 8,
   "metadata": {},
   "outputs": [],
   "source": [
    "# data scaling and encoding\n",
    "scaler = StandardScaler(['f1', 'f2', 'f3', 'f4', 'f5'])\n",
    "scaler.fit(x_train)\n",
    "x_train = scaler.transform(x_train)\n",
    "x_test = scaler.transform(x_test)\n",
    "y_train = one_hot_encoding(y_train, N_CLASS)\n",
    "y_test = one_hot_encoding(y_test, N_CLASS)"
   ]
  },
  {
   "cell_type": "code",
   "execution_count": 9,
   "metadata": {
    "scrolled": true,
    "tags": [
     "outputPrepend"
    ]
   },
   "outputs": [
    {
     "name": "stderr",
     "output_type": "stream",
     "text": [
      "C:\\Users\\tcumi\\Anaconda3\\envs\\py_3_6\\lib\\site-packages\\numpy\\core\\fromnumeric.py:87: VisibleDeprecationWarning: Creating an ndarray from ragged nested sequences (which is a list-or-tuple of lists-or-tuples-or ndarrays with different lengths or shapes) is deprecated. If you meant to do this, you must specify 'dtype=object' when creating the ndarray\n",
      "  return ufunc.reduce(obj, axis, dtype, out, **passkwargs)\n",
      "C:\\Users\\tcumi\\github_repo\\neural-network\\python\\ga.py:201: RuntimeWarning: overflow encountered in add\n",
      "  self.population.sort(key=lambda p: p.fitness + np.random.uniform(-shift, shift, 1), reverse = self.aim)\n",
      "C:\\Users\\tcumi\\Anaconda3\\envs\\py_3_6\\lib\\site-packages\\numpy\\core\\_asarray.py:136: VisibleDeprecationWarning: Creating an ndarray from ragged nested sequences (which is a list-or-tuple of lists-or-tuples-or ndarrays with different lengths or shapes) is deprecated. If you meant to do this, you must specify 'dtype=object' when creating the ndarray\n",
      "  return array(a, dtype, copy=False, order=order, subok=True)\n"
     ]
    },
    {
     "name": "stdout",
     "output_type": "stream",
     "text": [
      "Checkpoint 100, Accuracy: 0.9197530864197531, Loss: 0.3330047042281539\n",
      "Checkpoint 200, Accuracy: 0.9320987654320988, Loss: 0.31402414816397206\n",
      "Checkpoint 300, Accuracy: 0.9382716049382716, Loss: 0.27436289963898836\n",
      "Checkpoint 400, Accuracy: 0.9382716049382716, Loss: 0.2445601710566768\n",
      "Checkpoint 500, Accuracy: 0.9506172839506173, Loss: 0.23628439726652922\n"
     ]
    }
   ],
   "source": [
    "# learning phase\n",
    "breakpoint = 100\n",
    "checkpoints = list()\n",
    "history = list()\n",
    "for century in range(0, EPOCHS, breakpoint):\n",
    "    sub_history = model.fit(x_train, y_train, breakpoint, verbose = 0)\n",
    "    score = model.evaluate(x_test, y_test, False, verbose = 0)\n",
    "    print('Checkpoint {}, Accuracy: {}, Loss: {}'.format(century+breakpoint, score['accuracy'], score[model.loss_fn]))\n",
    "    score['checkpoint'] = century + breakpoint\n",
    "    checkpoints.append(score)\n",
    "    history.extend(sub_history)\n",
    "    itr = century + breakpoint\n",
    "    '''\n",
    "    model.optimizer.rr = model.optimizer.rr * 0.9\n",
    "    model.optimizer.gf = model.optimizer.gf * 0.9\n",
    "    model.optimizer.crossover_rate = model.optimizer.crossover_rate * 0.9\n",
    "    model.optimizer.mutation_rate = model.optimizer.mutation_rate * 1.1\n",
    "    '''\n",
    "    model.optimizer.rr = model.optimizer.radioactive_rating[1] - (model.optimizer.radioactive_rating[1] - model.optimizer.radioactive_rating[0]) / EPOCHS * (EPOCHS - itr)\n",
    "    model.optimizer.gf = model.optimizer.grow_factor[1] - (model.optimizer.grow_factor[1] - model.optimizer.grow_factor[0]) / EPOCHS * (EPOCHS - itr)\n",
    "    model.optimizer.crossover_rate = model.optimizer.x_rate[1] - (model.optimizer.x_rate[1] - model.optimizer.x_rate[0]) / EPOCHS * (EPOCHS - itr)\n",
    "    model.optimizer.mutation_rate = model.optimizer.m_rate[0] + (model.optimizer.m_rate[1] - model.optimizer.m_rate[0]) / EPOCHS * (EPOCHS - itr)\n",
    "    "
   ]
  },
  {
   "cell_type": "code",
   "execution_count": 10,
   "metadata": {},
   "outputs": [],
   "source": [
    "import matplotlib.pyplot as plt\n",
    "\n",
    "def draw_plot(x, y_list, x_label=None, y_label=None, legend=None, title=None):\n",
    "    fig, ax = plt.subplots(figsize=(12,5))\n",
    "    for xi, yi in zip(x, y_list):\n",
    "        ax.plot(xi, yi)\n",
    "    if x_label is not None and y_label is not None:\n",
    "        ax.set(xlabel=x_label, ylabel=y_label, title='{} VS {}'.format(x_label, y_label))\n",
    "    if legend is not None:\n",
    "        ax.legend(legend)\n",
    "    ax.grid()\n",
    "    plt.show()"
   ]
  },
  {
   "cell_type": "code",
   "execution_count": 11,
   "metadata": {},
   "outputs": [
    {
     "name": "stdout",
     "output_type": "stream",
     "text": [
      "[0. 0. 1.] <-> [0.08157724 0.04587519 0.87254757]\n",
      "[0. 1. 0.] <-> [0.09126331 0.90316117 0.00557557]\n",
      "[1. 0. 0.] <-> [0.78725153 0.18630955 0.02643898]\n",
      "[1. 0. 0.] <-> [0.8832954  0.05502634 0.06167828]\n",
      "[1. 0. 0.] <-> [0.89240426 0.03894313 0.06865261]\n",
      "[1. 0. 0.] <-> [0.9471002 0.024566  0.0283337]\n",
      "[1. 0. 0.] <-> [0.9583307  0.01586216 0.0258071 ]\n",
      "[1. 0. 0.] <-> [0.9501005  0.03275668 0.01714282]\n",
      "[1. 0. 0.] <-> [0.8801745  0.07820502 0.04162052]\n",
      "[1. 0. 0.] <-> [0.9134737  0.0535723  0.03295398]\n",
      "[0. 1. 0.] <-> [0.16695458 0.82604986 0.00699562]\n",
      "[0. 0. 1.] <-> [0.26482964 0.02575991 0.7094105 ]\n",
      "[1. 0. 0.] <-> [0.8229776  0.03009255 0.14692989]\n",
      "[1. 0. 0.] <-> [0.92407984 0.04328245 0.03263773]\n",
      "[1. 0. 0.] <-> [0.8992296  0.07425869 0.02651169]\n",
      "[0. 1. 0.] <-> [0.21837755 0.76692605 0.01469644]\n",
      "[1. 0. 0.] <-> [0.8685781  0.04448816 0.08693375]\n",
      "[1. 0. 0.] <-> [0.80687654 0.16181412 0.03130933]\n",
      "[1. 0. 0.] <-> [0.93232405 0.04970435 0.01797163]\n",
      "[1. 0. 0.] <-> [0.9435722  0.01364521 0.04278248]\n",
      "[1. 0. 0.] <-> [0.72350955 0.25011966 0.02637077]\n",
      "[0. 0. 1.] <-> [0.14735924 0.0332117  0.81942904]\n",
      "[1. 0. 0.] <-> [0.89394623 0.07972375 0.02633004]\n",
      "[1. 0. 0.] <-> [0.9184623  0.05082428 0.03071351]\n",
      "[0. 1. 0.] <-> [0.64453924 0.33956674 0.015894  ]\n",
      "[0. 0. 1.] <-> [0.06737488 0.04467798 0.88794714]\n",
      "[1. 0. 0.] <-> [0.79793495 0.03494302 0.1671221 ]\n",
      "[1. 0. 0.] <-> [0.8112847  0.08431432 0.10440091]\n",
      "[1. 0. 0.] <-> [0.8793951 0.0625197 0.0580852]\n",
      "[1. 0. 0.] <-> [0.8722667  0.07513427 0.05259899]\n",
      "[1. 0. 0.] <-> [0.9503437  0.02030881 0.02934753]\n",
      "[1. 0. 0.] <-> [0.90718776 0.0192326  0.07357962]\n",
      "[1. 0. 0.] <-> [0.88188565 0.09607942 0.02203495]\n",
      "[1. 0. 0.] <-> [0.93767476 0.01377038 0.04855488]\n",
      "[0. 1. 0.] <-> [0.22455785 0.76642483 0.00901722]\n",
      "[1. 0. 0.] <-> [0.88875103 0.01697685 0.09427208]\n",
      "[1. 0. 0.] <-> [0.82756865 0.06281143 0.1096199 ]\n",
      "[0. 1. 0.] <-> [0.11662003 0.8777324  0.00564753]\n",
      "[1. 0. 0.] <-> [0.91003853 0.02358331 0.0663781 ]\n",
      "[0. 1. 0.] <-> [0.07651126 0.91879344 0.00469531]\n",
      "[0. 1. 0.] <-> [0.08137443 0.91378635 0.00483923]\n",
      "[0. 0. 1.] <-> [0.06828123 0.04456097 0.88715786]\n",
      "[1. 0. 0.] <-> [0.9149875  0.01569304 0.06931948]\n",
      "[1. 0. 0.] <-> [0.57891715 0.02415667 0.39692622]\n",
      "[1. 0. 0.] <-> [0.9093105  0.03050982 0.06017965]\n",
      "[1. 0. 0.] <-> [0.90173364 0.05404628 0.04422011]\n",
      "[0. 0. 1.] <-> [0.16256702 0.03557487 0.80185807]\n",
      "[1. 0. 0.] <-> [0.8306772  0.07873729 0.0905855 ]\n",
      "[0. 0. 1.] <-> [0.07313447 0.05102017 0.8758454 ]\n",
      "[1. 0. 0.] <-> [0.948649   0.02271869 0.02863231]\n",
      "[0. 0. 1.] <-> [0.83413416 0.01530314 0.15056261]\n",
      "[0. 1. 0.] <-> [0.07956818 0.9156328  0.00479907]\n",
      "[1. 0. 0.] <-> [0.89793026 0.0149176  0.0871521 ]\n",
      "[1. 0. 0.] <-> [0.75600404 0.15848486 0.08551111]\n",
      "[1. 0. 0.] <-> [0.89682466 0.06424079 0.03893452]\n",
      "[1. 0. 0.] <-> [0.84565336 0.04222454 0.11212213]\n",
      "[1. 0. 0.] <-> [0.90693253 0.02037599 0.07269147]\n",
      "[1. 0. 0.] <-> [0.92643607 0.03757919 0.03598472]\n",
      "[0. 1. 0.] <-> [0.077489   0.9173747  0.00513627]\n",
      "[1. 0. 0.] <-> [0.8464614  0.12003353 0.03350504]\n",
      "[1. 0. 0.] <-> [0.9049107  0.04675826 0.04833104]\n",
      "[1. 0. 0.] <-> [0.8468818  0.13019897 0.02291923]\n",
      "[1. 0. 0.] <-> [0.8939313  0.02063786 0.08543076]\n",
      "[1. 0. 0.] <-> [0.92036635 0.01644956 0.06318419]\n",
      "[0. 0. 1.] <-> [0.07294502 0.04376795 0.8832871 ]\n",
      "[0. 1. 0.] <-> [0.14766227 0.84317654 0.00916122]\n",
      "[1. 0. 0.] <-> [0.88235843 0.08324714 0.0343944 ]\n",
      "[0. 0. 1.] <-> [0.87431204 0.01496239 0.11072551]\n",
      "[1. 0. 0.] <-> [0.90738505 0.04632292 0.04629202]\n",
      "[1. 0. 0.] <-> [0.7052774  0.02274866 0.27197394]\n",
      "[1. 0. 0.] <-> [0.861988   0.03809806 0.09991388]\n",
      "[0. 0. 1.] <-> [0.06314927 0.04489283 0.8919579 ]\n",
      "[1. 0. 0.] <-> [0.8873599  0.07441136 0.03822875]\n",
      "[1. 0. 0.] <-> [0.90251315 0.02403381 0.073453  ]\n",
      "[0. 0. 1.] <-> [0.23584381 0.03020029 0.7339559 ]\n",
      "[0. 1. 0.] <-> [0.48723638 0.4980135  0.01475007]\n",
      "[1. 0. 0.] <-> [0.9331439  0.03240988 0.03444629]\n",
      "[1. 0. 0.] <-> [0.8223071  0.01625427 0.16143857]\n",
      "[0. 1. 0.] <-> [0.08003744 0.915214   0.00474852]\n",
      "[1. 0. 0.] <-> [0.87227505 0.03510983 0.09261516]\n",
      "[1. 0. 0.] <-> [0.93461657 0.04370922 0.02167417]\n",
      "[1. 0. 0.] <-> [0.9471411  0.02878136 0.02407754]\n",
      "[1. 0. 0.] <-> [0.854126   0.01815708 0.12771693]\n",
      "[1. 0. 0.] <-> [0.89989907 0.03431761 0.06578337]\n",
      "[1. 0. 0.] <-> [0.93427587 0.03968348 0.02604071]\n",
      "[0. 0. 1.] <-> [0.6432532  0.01308118 0.34366557]\n",
      "[1. 0. 0.] <-> [0.9534733  0.02328339 0.0232433 ]\n",
      "[1. 0. 0.] <-> [0.7916981 0.1542621 0.0540399]\n",
      "[0. 1. 0.] <-> [0.5207289  0.46139717 0.01787394]\n",
      "[1. 0. 0.] <-> [0.78833497 0.03844637 0.17321856]\n",
      "[1. 0. 0.] <-> [0.8793572  0.02279603 0.09784681]\n",
      "[1. 0. 0.] <-> [0.87927455 0.07776418 0.04296128]\n",
      "[1. 0. 0.] <-> [0.76378715 0.19644654 0.0397663 ]\n",
      "[1. 0. 0.] <-> [0.95272183 0.01793198 0.02934618]\n",
      "[0. 1. 0.] <-> [0.5554462  0.4302404  0.01431335]\n",
      "[1. 0. 0.] <-> [0.72937536 0.216167   0.05445767]\n",
      "[1. 0. 0.] <-> [0.91129625 0.01365338 0.07505032]\n",
      "[0. 0. 1.] <-> [0.06459498 0.04489619 0.8905089 ]\n",
      "[0. 1. 0.] <-> [0.86118096 0.1236188  0.01520023]\n",
      "[1. 0. 0.] <-> [0.90761673 0.03851166 0.05387158]\n",
      "[0. 0. 1.] <-> [0.16435388 0.03194081 0.8037053 ]\n",
      "[1. 0. 0.] <-> [0.8917991  0.06873077 0.03947024]\n",
      "[1. 0. 0.] <-> [0.9178205  0.03540511 0.04677435]\n",
      "[1. 0. 0.] <-> [0.94409555 0.01843679 0.03746769]\n",
      "[0. 1. 0.] <-> [0.59202445 0.39561245 0.0123631 ]\n",
      "[1. 0. 0.] <-> [0.828175   0.02703593 0.144789  ]\n",
      "[1. 0. 0.] <-> [0.9403455  0.03138768 0.02826682]\n",
      "[1. 0. 0.] <-> [0.88821846 0.04058213 0.07119945]\n",
      "{'accuracy': 0.9506172839506173, 'mean_square_error': 0.11243531742777606, 'categorical_crossentropy': 0.23628439726652922, 'precision': 0.9259259259259259, 'recall': 0.9259259259259259, 'f1': 0.9259259259259259, 'essential_metrics': {0: {'tp_hit': 76, 'fp_hit': 8, 'tn_hit': 24, 'fn_hit': 0}, 1: {'tp_hit': 12, 'fp_hit': 0, 'tn_hit': 91, 'fn_hit': 5}, 2: {'tp_hit': 12, 'fp_hit': 0, 'tn_hit': 93, 'fn_hit': 3}}}\n"
     ]
    }
   ],
   "source": [
    "# recall phase\n",
    "score = model.evaluate(x_test, y_test, False)\n",
    "print(score)"
   ]
  },
  {
   "cell_type": "code",
   "execution_count": 12,
   "metadata": {},
   "outputs": [],
   "source": [
    "# Testing Performance"
   ]
  },
  {
   "cell_type": "code",
   "execution_count": 13,
   "metadata": {},
   "outputs": [
    {
     "name": "stderr",
     "output_type": "stream",
     "text": [
      "C:\\Users\\tcumi\\Anaconda3\\envs\\py_3_6\\lib\\site-packages\\numpy\\core\\_asarray.py:136: VisibleDeprecationWarning: Creating an ndarray from ragged nested sequences (which is a list-or-tuple of lists-or-tuples-or ndarrays with different lengths or shapes) is deprecated. If you meant to do this, you must specify 'dtype=object' when creating the ndarray\n",
      "  return array(a, dtype, copy=False, order=order, subok=True)\n"
     ]
    },
    {
     "data": {
      "image/png": "[encoded data removed]",
      "text/plain": [
       "<Figure size 864x360 with 1 Axes>"
      ]
     },
     "metadata": {
      "needs_background": "light"
     },
     "output_type": "display_data"
    },
    {
     "data": {
      "image/png": "[encoded data removed]",
      "text/plain": [
       "<Figure size 864x360 with 1 Axes>"
      ]
     },
     "metadata": {
      "needs_background": "light"
     },
     "output_type": "display_data"
    }
   ],
   "source": [
    "draw_plot(x = [[i for i in range(len(history))], [(i+1)*breakpoint for i in range(len(checkpoints))]], y_list = [history, [ ckp[model.loss_fn] for ckp in checkpoints ]], x_label = 'Epochs', \\\n",
    "    y_label = model.loss_fn, legend=['train', 'test'])\n",
    "acc = [ ckp['accuracy'] for ckp in checkpoints ]\n",
    "draw_plot(x = [[(i+1)*breakpoint for i in range(len(checkpoints))]], y_list = [acc], x_label = 'Checkpoints', \\\n",
    "    y_label = 'accuracy')"
   ]
  },
  {
   "cell_type": "code",
   "execution_count": 14,
   "metadata": {
    "scrolled": false
   },
   "outputs": [
    {
     "name": "stdout",
     "output_type": "stream",
     "text": [
      "{'accuracy': 0.9197530864197531, 'mean_square_error': 0.17584301358969318, 'categorical_crossentropy': 0.3330047042281539, 'precision': 0.8796296296296297, 'recall': 0.8796296296296297, 'f1': 0.8796296296296297, 'essential_metrics': {0: {'tp_hit': 76, 'fp_hit': 13, 'tn_hit': 19, 'fn_hit': 0}, 1: {'tp_hit': 10, 'fp_hit': 0, 'tn_hit': 91, 'fn_hit': 7}, 2: {'tp_hit': 9, 'fp_hit': 0, 'tn_hit': 93, 'fn_hit': 6}}, 'checkpoint': 100} \n",
      "\n",
      "\n",
      "{'accuracy': 0.9320987654320988, 'mean_square_error': 0.1597979693326609, 'categorical_crossentropy': 0.31402414816397206, 'precision': 0.8981481481481481, 'recall': 0.8981481481481481, 'f1': 0.8981481481481481, 'essential_metrics': {0: {'tp_hit': 76, 'fp_hit': 11, 'tn_hit': 21, 'fn_hit': 0}, 1: {'tp_hit': 11, 'fp_hit': 0, 'tn_hit': 91, 'fn_hit': 6}, 2: {'tp_hit': 10, 'fp_hit': 0, 'tn_hit': 93, 'fn_hit': 5}}, 'checkpoint': 200} \n",
      "\n",
      "\n",
      "{'accuracy': 0.9382716049382716, 'mean_square_error': 0.13315910535549721, 'categorical_crossentropy': 0.27436289963898836, 'precision': 0.9074074074074074, 'recall': 0.9074074074074074, 'f1': 0.9074074074074074, 'essential_metrics': {0: {'tp_hit': 76, 'fp_hit': 10, 'tn_hit': 22, 'fn_hit': 0}, 1: {'tp_hit': 11, 'fp_hit': 0, 'tn_hit': 91, 'fn_hit': 6}, 2: {'tp_hit': 11, 'fp_hit': 0, 'tn_hit': 93, 'fn_hit': 4}}, 'checkpoint': 300} \n",
      "\n",
      "\n",
      "{'accuracy': 0.9382716049382716, 'mean_square_error': 0.1169836284413157, 'categorical_crossentropy': 0.2445601710566768, 'precision': 0.9074074074074074, 'recall': 0.9074074074074074, 'f1': 0.9074074074074074, 'essential_metrics': {0: {'tp_hit': 75, 'fp_hit': 9, 'tn_hit': 23, 'fn_hit': 1}, 1: {'tp_hit': 11, 'fp_hit': 0, 'tn_hit': 91, 'fn_hit': 6}, 2: {'tp_hit': 12, 'fp_hit': 1, 'tn_hit': 92, 'fn_hit': 3}}, 'checkpoint': 400} \n",
      "\n",
      "\n",
      "{'accuracy': 0.9506172839506173, 'mean_square_error': 0.11243531742777606, 'categorical_crossentropy': 0.23628439726652922, 'precision': 0.9259259259259259, 'recall': 0.9259259259259259, 'f1': 0.9259259259259259, 'essential_metrics': {0: {'tp_hit': 76, 'fp_hit': 8, 'tn_hit': 24, 'fn_hit': 0}, 1: {'tp_hit': 12, 'fp_hit': 0, 'tn_hit': 91, 'fn_hit': 5}, 2: {'tp_hit': 12, 'fp_hit': 0, 'tn_hit': 93, 'fn_hit': 3}}, 'checkpoint': 500} \n",
      "\n",
      "\n"
     ]
    }
   ],
   "source": [
    "for checkpoint in checkpoints:\n",
    "    print(checkpoint, '\\n\\n')"
   ]
  },
  {
   "cell_type": "code",
   "execution_count": 15,
   "metadata": {},
   "outputs": [
    {
     "name": "stdout",
     "output_type": "stream",
     "text": [
      "Layer 1\n",
      "Neuron 0: weights:\n",
      "[-0.00296754 -1.0006651  -0.68509734 -2.5775719  -0.19075987]\n",
      " bias: 0.04741335287690163\n",
      "\n",
      "Neuron 1: weights:\n",
      "[-0.83597726  0.841348    0.732942   -0.9509621  -1.8932744 ]\n",
      " bias: 0.5714372396469116\n",
      "\n",
      "Neuron 2: weights:\n",
      "[-0.02199652 -0.94057053 -0.0389352   0.388702    0.25077778]\n",
      " bias: -0.03687572479248047\n",
      "\n",
      "Neuron 3: weights:\n",
      "[-0.44385445  1.4894422   1.6190526   0.02156449 -0.20361114]\n",
      " bias: -1.088062047958374\n",
      "\n",
      "$\n",
      "Layer 2\n",
      "Neuron 0: weights:\n",
      "[ 3.          0.49331808 -1.0483024  -0.6358571 ]\n",
      " bias: 0.3095957934856415\n",
      "\n",
      "Neuron 1: weights:\n",
      "[-1.1514859   0.4884772  -0.26354924  3.        ]\n",
      " bias: -0.7974782586097717\n",
      "\n",
      "Neuron 2: weights:\n",
      "[-1.3168114e-03 -2.9875236e+00  1.4060129e+00 -2.3929253e-01]\n",
      " bias: 0.5747480988502502\n",
      "\n",
      "$\n",
      "\n"
     ]
    }
   ],
   "source": [
    "print(model)"
   ]
  }
 ],
 "metadata": {
  "kernelspec": {
   "display_name": "Python 3",
   "language": "python",
   "name": "python3"
  },
  "language_info": {
   "codemirror_mode": {
    "name": "ipython",
    "version": 3
   },
   "file_extension": ".py",
   "mimetype": "text/x-python",
   "name": "python",
   "nbconvert_exporter": "python",
   "pygments_lexer": "ipython3",
   "version": "3.6.10"
  }
 },
 "nbformat": 4,
 "nbformat_minor": 2
}
