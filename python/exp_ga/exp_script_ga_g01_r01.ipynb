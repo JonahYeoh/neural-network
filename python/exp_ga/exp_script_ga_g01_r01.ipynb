{
 "cells": [
  {
   "cell_type": "code",
   "execution_count": null,
   "metadata": {},
   "outputs": [],
   "source": []
  },
  {
   "cell_type": "code",
   "execution_count": 1,
   "metadata": {},
   "outputs": [],
   "source": [
    "# dependency\n",
    "import numpy as np\n",
    "import pandas as pd\n",
    "import copy\n",
    "import math\n",
    "import sys\n",
    "import os\n",
    "from activations import relu, leaky_relu, sigmoid, tanh, softmax, d_sigmoid, d_relu\n",
    "from initializers import glorot_uniform, random_normal, random_uniform\n",
    "from regularizers import l1_regularizer, l2_regularizer\n",
    "from utility import trim_tail, multiply, subtract, get_nparams, one_hot_encoding, get_data\n",
    "from metrics import MSE, CCE, ACC, PRECISION, RECALL, essential_metrics, wondering_penalty, close_gap_penalty\n",
    "from pso import PSO\n",
    "from ga import GA\n",
    "from nn import Network\n",
    "from layer import DenseLayer\n",
    "from scalers import MinMaxScaler, StandardScaler"
   ]
  },
  {
   "cell_type": "code",
   "execution_count": 2,
   "metadata": {},
   "outputs": [],
   "source": [
    "# reference\n",
    "metrics_fn_dict = dict()\n",
    "metrics_fn_dict['accuracy'] = ACC\n",
    "metrics_fn_dict['categorical_crossentropy'] = CCE\n",
    "metrics_fn_dict['mean_square_error'] = MSE\n",
    "metrics_fn_dict['precision'] = PRECISION\n",
    "metrics_fn_dict['recall'] = RECALL\n",
    "metrics_fn_dict['essential_metrics'] = essential_metrics"
   ]
  },
  {
   "cell_type": "code",
   "execution_count": 3,
   "metadata": {},
   "outputs": [],
   "source": [
    "# model\n",
    "model = Network(5, lr = None)\n",
    "model.add_layer(DenseLayer(1, 4, True, afn=sigmoid, dafn=None, rfn=None))\n",
    "model.add_layer(DenseLayer(2, 3, True, afn=softmax, dafn=None, rfn=None))"
   ]
  },
  {
   "cell_type": "code",
   "execution_count": 4,
   "metadata": {},
   "outputs": [],
   "source": [
    "# optimizer\n",
    "ga = GA(\n",
    "    dict(\n",
    "        m = 50,\n",
    "        x_rate = 0.5,\n",
    "        m_rate = 0.6,\n",
    "        weight_constraint = [-3.,3.],\n",
    "        radioactive_rating = 0.5,\n",
    "        grow_factor = 0.5,\n",
    "        scale_hyperparameter = False))"
   ]
  },
  {
   "cell_type": "code",
   "execution_count": 5,
   "metadata": {},
   "outputs": [
    {
     "name": "stdout",
     "output_type": "stream",
     "text": [
      "building layer 1 with 5\n",
      "24\n",
      "building layer 2 with 4\n",
      "15\n"
     ]
    }
   ],
   "source": [
    "model.compile(loss_fn = 'categorical_crossentropy', optimizer = ga, \\\n",
    "    metrics = ['accuracy', 'mean_square_error', 'categorical_crossentropy', 'precision', 'recall', 'f1'])"
   ]
  },
  {
   "cell_type": "code",
   "execution_count": 6,
   "metadata": {},
   "outputs": [
    {
     "name": "stdout",
     "output_type": "stream",
     "text": [
      "<class 'pandas.core.frame.DataFrame'>\n",
      "RangeIndex: 107 entries, 0 to 106\n",
      "Data columns (total 6 columns):\n",
      " #   Column  Non-Null Count  Dtype  \n",
      "---  ------  --------------  -----  \n",
      " 0   f1      107 non-null    float32\n",
      " 1   f2      107 non-null    float32\n",
      " 2   f3      107 non-null    float32\n",
      " 3   f4      107 non-null    float32\n",
      " 4   f5      107 non-null    float32\n",
      " 5   label   107 non-null    float32\n",
      "dtypes: float32(6)\n",
      "memory usage: 2.6 KB\n",
      "None\n",
      "<class 'pandas.core.frame.DataFrame'>\n",
      "RangeIndex: 108 entries, 0 to 107\n",
      "Data columns (total 6 columns):\n",
      " #   Column  Non-Null Count  Dtype  \n",
      "---  ------  --------------  -----  \n",
      " 0   f1      108 non-null    float32\n",
      " 1   f2      108 non-null    float32\n",
      " 2   f3      108 non-null    float32\n",
      " 3   f4      108 non-null    float32\n",
      " 4   f5      108 non-null    float32\n",
      " 5   label   108 non-null    float32\n",
      "dtypes: float32(6)\n",
      "memory usage: 2.7 KB\n",
      "None\n"
     ]
    }
   ],
   "source": [
    "# data loading\n",
    "DATA = os.path.join('c:\\\\Users\\\\tcumi\\\\github_repo\\\\neural-network\\\\', 'dataset')\n",
    "GROUP = 1\n",
    "COLUMNS = ['f1', 'f2', 'f3', 'f4', 'f5', 'label']\n",
    "N_CLASS = 3\n",
    "EPOCHS = 500\n",
    "train_dir, test_dir = \"..//dataset//training_data{}.txt\".format(GROUP), \"..//dataset//testing_data{}.txt\".format(GROUP)\n",
    "train, test = get_data(DATA, train_dir, COLUMNS), get_data(DATA, test_dir, COLUMNS)\n",
    "# shuffle\n",
    "train, test = train.sample(frac=1), test.sample(frac=1)\n",
    "x_train, y_train = train.drop('label', axis=1), train['label']\n",
    "x_test, y_test = test.drop('label', axis=1), test['label']"
   ]
  },
  {
   "cell_type": "code",
   "execution_count": 7,
   "metadata": {},
   "outputs": [],
   "source": [
    "# data scaling and encoding\n",
    "scaler = StandardScaler(['f1', 'f2', 'f3', 'f4', 'f5'])\n",
    "scaler.fit(x_train)\n",
    "x_train = scaler.transform(x_train)\n",
    "x_test = scaler.transform(x_test)\n",
    "y_train = one_hot_encoding(y_train, N_CLASS)\n",
    "y_test = one_hot_encoding(y_test, N_CLASS)"
   ]
  },
  {
   "cell_type": "code",
   "execution_count": 8,
   "metadata": {
    "scrolled": true,
    "tags": [
     "outputPrepend"
    ]
   },
   "outputs": [
    {
     "name": "stderr",
     "output_type": "stream",
     "text": [
      "C:\\Users\\tcumi\\github_repo\\neural-network\\python\\ga.py:189: RuntimeWarning: overflow encountered in add\n",
      "  self.population.sort(key=lambda p: p.fitness + np.random.uniform(-shift, shift, 1), reverse = self.aim)\n",
      "C:\\Users\\tcumi\\github_repo\\neural-network\\python\\activations.py:14: RuntimeWarning: overflow encountered in exp\n",
      "  y = 1 / (1 + np.exp(-Xi))\n"
     ]
    },
    {
     "name": "stdout",
     "output_type": "stream",
     "text": [
      "Checkpoint 100, Accuracy: 0.8271604938271605, Loss: 0.6298727812590422\n",
      "Checkpoint 200, Accuracy: 0.8395061728395061, Loss: 0.6230593080873843\n",
      "Checkpoint 300, Accuracy: 0.8518518518518519, Loss: 0.6124670947039569\n",
      "Checkpoint 400, Accuracy: 0.8580246913580247, Loss: 0.6105372111002604\n",
      "Checkpoint 500, Accuracy: 0.8580246913580247, Loss: 0.5999041663275825\n"
     ]
    }
   ],
   "source": [
    "# learning phase\n",
    "breakpoint = 100\n",
    "checkpoints = list()\n",
    "history = list()\n",
    "for century in range(0, EPOCHS, breakpoint):\n",
    "    sub_history = model.fit(x_train, y_train, breakpoint, verbose = 0)\n",
    "    score = model.evaluate(x_test, y_test, False, verbose = 0)\n",
    "    print('Checkpoint {}, Accuracy: {}, Loss: {}'.format(century+breakpoint, score['accuracy'], score[model.loss_fn]))\n",
    "    score['checkpoint'] = century + breakpoint\n",
    "    checkpoints.append(score)\n",
    "    history.extend(sub_history)"
   ]
  },
  {
   "cell_type": "code",
   "execution_count": 9,
   "metadata": {},
   "outputs": [],
   "source": [
    "import matplotlib.pyplot as plt\n",
    "\n",
    "def draw_plot(x, y_list, x_label=None, y_label=None, legend=None):\n",
    "    fig, ax = plt.subplots(figsize=(12,5))\n",
    "    for y in y_list:\n",
    "        ax.plot(x, y)\n",
    "    if x_label is not None and y_label is not None:\n",
    "        title = '{} VS {}'.format(x_label, y_label)\n",
    "        ax.set(xlabel=x_label, ylabel=y_label, title=title)\n",
    "    if legend is not None:\n",
    "        ax.legend(legend)\n",
    "    ax.grid()\n",
    "    plt.show()"
   ]
  },
  {
   "cell_type": "code",
   "execution_count": 10,
   "metadata": {},
   "outputs": [
    {
     "data": {
      "image/png": "[encoded data removed]",
      "text/plain": [
       "<Figure size 864x360 with 1 Axes>"
      ]
     },
     "metadata": {
      "needs_background": "light"
     },
     "output_type": "display_data"
    }
   ],
   "source": [
    "draw_plot(x = [i for i in range(len(history))], y_list = [history], x_label = 'Epochs', \\\n",
    "    y_label = model.loss_fn)"
   ]
  },
  {
   "cell_type": "code",
   "execution_count": 11,
   "metadata": {},
   "outputs": [
    {
     "name": "stdout",
     "output_type": "stream",
     "text": [
      "[1. 0. 0.] <-> [[0.47106987]\n",
      " [0.22661729]\n",
      " [0.30231288]]\n",
      "[1. 0. 0.] <-> [[0.7781139 ]\n",
      " [0.17319551]\n",
      " [0.0486906 ]]\n",
      "[0. 0. 1.] <-> [[0.7770638 ]\n",
      " [0.17412941]\n",
      " [0.04880676]]\n",
      "[0. 1. 0.] <-> [[0.58237094]\n",
      " [0.18076634]\n",
      " [0.23686273]]\n",
      "[1. 0. 0.] <-> [[0.68226546]\n",
      " [0.25730473]\n",
      " [0.06042976]]\n",
      "[0. 1. 0.] <-> [[0.9383642 ]\n",
      " [0.0366368 ]\n",
      " [0.02499899]]\n",
      "[1. 0. 0.] <-> [[0.9390069 ]\n",
      " [0.03615633]\n",
      " [0.02483673]]\n",
      "[1. 0. 0.] <-> [[0.9505521 ]\n",
      " [0.02779214]\n",
      " [0.02165582]]\n",
      "[0. 0. 1.] <-> [[0.21740822]\n",
      " [0.43775225]\n",
      " [0.3448395 ]]\n",
      "[1. 0. 0.] <-> [[0.4537478 ]\n",
      " [0.23986839]\n",
      " [0.3063838 ]]\n",
      "[1. 0. 0.] <-> [[0.9226811 ]\n",
      " [0.04871737]\n",
      " [0.02860147]]\n",
      "[0. 1. 0.] <-> [[0.627151  ]\n",
      " [0.2651134 ]\n",
      " [0.10773557]]\n",
      "[0. 1. 0.] <-> [[0.12325794]\n",
      " [0.4623494 ]\n",
      " [0.4143926 ]]\n",
      "[0. 0. 1.] <-> [[0.95578766]\n",
      " [0.02421708]\n",
      " [0.0199952 ]]\n",
      "[1. 0. 0.] <-> [[0.6978422 ]\n",
      " [0.24408695]\n",
      " [0.05807084]]\n",
      "[1. 0. 0.] <-> [[0.9423486 ]\n",
      " [0.03368084]\n",
      " [0.0239706 ]]\n",
      "[1. 0. 0.] <-> [[0.9087347 ]\n",
      " [0.05990755]\n",
      " [0.03135771]]\n",
      "[1. 0. 0.] <-> [[0.87474537]\n",
      " [0.08833238]\n",
      " [0.03692224]]\n",
      "[1. 0. 0.] <-> [[0.9039611 ]\n",
      " [0.06381246]\n",
      " [0.03222642]]\n",
      "[0. 0. 1.] <-> [[0.9095828 ]\n",
      " [0.05921743]\n",
      " [0.03119974]]\n",
      "[1. 0. 0.] <-> [[0.5097855 ]\n",
      " [0.19938353]\n",
      " [0.29083097]]\n",
      "[1. 0. 0.] <-> [[0.49468297]\n",
      " [0.20946923]\n",
      " [0.2958478 ]]\n",
      "[1. 0. 0.] <-> [[0.9419173 ]\n",
      " [0.03399803]\n",
      " [0.02408458]]\n",
      "[1. 0. 0.] <-> [[0.7972066 ]\n",
      " [0.15622829]\n",
      " [0.04656515]]\n",
      "[1. 0. 0.] <-> [[0.89441955]\n",
      " [0.07171293]\n",
      " [0.03386756]]\n",
      "[1. 0. 0.] <-> [[0.92186964]\n",
      " [0.04935841]\n",
      " [0.02877191]]\n",
      "[1. 0. 0.] <-> [[0.58637494]\n",
      " [0.18237126]\n",
      " [0.2312538 ]]\n",
      "[0. 0. 1.] <-> [[0.13544813]\n",
      " [0.46842045]\n",
      " [0.39613146]]\n",
      "[0. 1. 0.] <-> [[0.43053108]\n",
      " [0.25823846]\n",
      " [0.31123048]]\n",
      "[1. 0. 0.] <-> [[0.8927521 ]\n",
      " [0.07310534]\n",
      " [0.03414252]]\n",
      "[0. 1. 0.] <-> [[0.7574407 ]\n",
      " [0.19158375]\n",
      " [0.05097559]]\n",
      "[0. 1. 0.] <-> [[0.11523361]\n",
      " [0.45554987]\n",
      " [0.42921656]]\n",
      "[1. 0. 0.] <-> [[0.5952068 ]\n",
      " [0.1874581 ]\n",
      " [0.21733515]]\n",
      "[1. 0. 0.] <-> [[0.4500738 ]\n",
      " [0.2427333 ]\n",
      " [0.30719292]]\n",
      "[0. 1. 0.] <-> [[0.6581871 ]\n",
      " [0.2761596 ]\n",
      " [0.06565323]]\n",
      "[1. 0. 0.] <-> [[0.836926  ]\n",
      " [0.12113383]\n",
      " [0.0419401 ]]\n",
      "[0. 1. 0.] <-> [[0.51516116]\n",
      " [0.19604436]\n",
      " [0.2887945 ]]\n",
      "[1. 0. 0.] <-> [[0.37855145]\n",
      " [0.30121937]\n",
      " [0.3202292 ]]\n",
      "[1. 0. 0.] <-> [[0.9505284 ]\n",
      " [0.02780866]\n",
      " [0.02166295]]\n",
      "[1. 0. 0.] <-> [[0.32112378]\n",
      " [0.35071093]\n",
      " [0.3281653 ]]\n",
      "[1. 0. 0.] <-> [[0.91543424]\n",
      " [0.05448825]\n",
      " [0.03007746]]\n",
      "[1. 0. 0.] <-> [[0.62750775]\n",
      " [0.26881027]\n",
      " [0.103682  ]]\n",
      "[0. 1. 0.] <-> [[0.14277111]\n",
      " [0.4699759 ]\n",
      " [0.38725305]]\n",
      "[1. 0. 0.] <-> [[0.3070391 ]\n",
      " [0.36299822]\n",
      " [0.32996264]]\n",
      "[1. 0. 0.] <-> [[0.30117062]\n",
      " [0.36811674]\n",
      " [0.3307127 ]]\n",
      "[0. 0. 1.] <-> [[0.3469443 ]\n",
      " [0.32828155]\n",
      " [0.32477412]]\n",
      "[1. 0. 0.] <-> [[0.8796266 ]\n",
      " [0.08417326]\n",
      " [0.03620021]]\n",
      "[1. 0. 0.] <-> [[0.8097784 ]\n",
      " [0.14508024]\n",
      " [0.0451414 ]]\n",
      "[0. 1. 0.] <-> [[0.19444495]\n",
      " [0.45341945]\n",
      " [0.35213557]]\n",
      "[1. 0. 0.] <-> [[0.93229204]\n",
      " [0.04123807]\n",
      " [0.02646989]]\n",
      "[1. 0. 0.] <-> [[0.67407954]\n",
      " [0.26401865]\n",
      " [0.06190177]]\n",
      "[1. 0. 0.] <-> [[0.93836313]\n",
      " [0.03663756]\n",
      " [0.02499923]]\n",
      "[1. 0. 0.] <-> [[0.90890294]\n",
      " [0.05977054]\n",
      " [0.03132647]]\n",
      "[1. 0. 0.] <-> [[0.93104535]\n",
      " [0.04219557]\n",
      " [0.02675909]]\n",
      "[1. 0. 0.] <-> [[0.6336131 ]\n",
      " [0.28569832]\n",
      " [0.08068855]]\n",
      "[0. 1. 0.] <-> [[0.63368225]\n",
      " [0.2857344 ]\n",
      " [0.08058342]]\n",
      "[1. 0. 0.] <-> [[0.8476161 ]\n",
      " [0.11177787]\n",
      " [0.040606  ]]\n",
      "[1. 0. 0.] <-> [[0.79128367]\n",
      " [0.1614883 ]\n",
      " [0.04722806]]\n",
      "[0. 0. 1.] <-> [[0.2620875 ]\n",
      " [0.40184182]\n",
      " [0.33607066]]\n",
      "[0. 1. 0.] <-> [[0.41368714]\n",
      " [0.2719167 ]\n",
      " [0.3143962 ]]\n",
      "[1. 0. 0.] <-> [[0.9534285 ]\n",
      " [0.02580634]\n",
      " [0.02076511]]\n",
      "[1. 0. 0.] <-> [[0.795835  ]\n",
      " [0.157446  ]\n",
      " [0.04671904]]\n",
      "[1. 0. 0.] <-> [[0.9084587 ]\n",
      " [0.06013235]\n",
      " [0.03140889]]\n",
      "[0. 0. 1.] <-> [[0.11314962]\n",
      " [0.45337597]\n",
      " [0.43347442]]\n",
      "[1. 0. 0.] <-> [[0.8828545 ]\n",
      " [0.08143489]\n",
      " [0.03571061]]\n",
      "[1. 0. 0.] <-> [[0.8747574 ]\n",
      " [0.08832205]\n",
      " [0.03692046]]\n",
      "[0. 0. 1.] <-> [[0.07685026]\n",
      " [0.38452604]\n",
      " [0.5386237 ]]\n",
      "[1. 0. 0.] <-> [[0.89523464]\n",
      " [0.07103347]\n",
      " [0.03373194]]\n",
      "[1. 0. 0.] <-> [[0.87525827]\n",
      " [0.08789437]\n",
      " [0.03684738]]\n",
      "[1. 0. 0.] <-> [[0.602722  ]\n",
      " [0.19385695]\n",
      " [0.2034211 ]]\n",
      "[1. 0. 0.] <-> [[0.7201914 ]\n",
      " [0.2245909 ]\n",
      " [0.05521767]]\n",
      "[1. 0. 0.] <-> [[0.92883736]\n",
      " [0.04390116]\n",
      " [0.02726149]]\n",
      "[1. 0. 0.] <-> [[0.7724325 ]\n",
      " [0.17824884]\n",
      " [0.04931864]]\n",
      "[1. 0. 0.] <-> [[0.84499997]\n",
      " [0.1140626 ]\n",
      " [0.04093747]]\n",
      "[0. 1. 0.] <-> [[0.1363844 ]\n",
      " [0.46869913]\n",
      " [0.39491653]]\n",
      "[1. 0. 0.] <-> [[0.81287205]\n",
      " [0.14234129]\n",
      " [0.04478662]]\n",
      "[1. 0. 0.] <-> [[0.49362698]\n",
      " [0.2102056 ]\n",
      " [0.29616743]]\n",
      "[0. 0. 1.] <-> [[0.12224074]\n",
      " [0.4616199 ]\n",
      " [0.41613936]]\n",
      "[1. 0. 0.] <-> [[0.76530516]\n",
      " [0.184589  ]\n",
      " [0.05010584]]\n",
      "[1. 0. 0.] <-> [[0.7902981 ]\n",
      " [0.16236387]\n",
      " [0.047338  ]]\n",
      "[0. 0. 1.] <-> [[0.1285291 ]\n",
      " [0.46555817]\n",
      " [0.4059128 ]]\n",
      "[1. 0. 0.] <-> [[0.88147396]\n",
      " [0.08260482]\n",
      " [0.03592123]]\n",
      "[1. 0. 0.] <-> [[0.66973513]\n",
      " [0.26748174]\n",
      " [0.0627831 ]]\n",
      "[1. 0. 0.] <-> [[0.9585046 ]\n",
      " [0.02244065]\n",
      " [0.01905478]]\n",
      "[1. 0. 0.] <-> [[0.6366413 ]\n",
      " [0.2864614 ]\n",
      " [0.07689722]]\n",
      "[1. 0. 0.] <-> [[0.9423871 ]\n",
      " [0.03365253]\n",
      " [0.02396039]]\n",
      "[1. 0. 0.] <-> [[0.8581394 ]\n",
      " [0.1026255 ]\n",
      " [0.03923504]]\n",
      "[1. 0. 0.] <-> [[0.68761283]\n",
      " [0.2528196 ]\n",
      " [0.05956759]]\n",
      "[1. 0. 0.] <-> [[0.6703323 ]\n",
      " [0.26701078]\n",
      " [0.06265698]]\n",
      "[1. 0. 0.] <-> [[0.8810876 ]\n",
      " [0.08293254]\n",
      " [0.03597984]]\n",
      "[1. 0. 0.] <-> [[0.622279  ]\n",
      " [0.2306948 ]\n",
      " [0.14702627]]\n",
      "[0. 0. 1.] <-> [[0.06412583]\n",
      " [0.3460662 ]\n",
      " [0.589808  ]]\n",
      "[1. 0. 0.] <-> [[0.9128411 ]\n",
      " [0.0565769 ]\n",
      " [0.03058197]]\n",
      "[1. 0. 0.] <-> [[0.57284373]\n",
      " [0.17844778]\n",
      " [0.24870849]]\n",
      "[1. 0. 0.] <-> [[0.40571702]\n",
      " [0.27847794]\n",
      " [0.31580505]]\n",
      "[1. 0. 0.] <-> [[0.8973327 ]\n",
      " [0.06928824]\n",
      " [0.03337907]]\n",
      "[1. 0. 0.] <-> [[0.5526695 ]\n",
      " [0.17942648]\n",
      " [0.26790398]]\n",
      "[1. 0. 0.] <-> [[0.22999631]\n",
      " [0.4281543 ]\n",
      " [0.3418494 ]]\n",
      "[1. 0. 0.] <-> [[0.862389  ]\n",
      " [0.09894875]\n",
      " [0.03866221]]\n",
      "[1. 0. 0.] <-> [[0.94416505]\n",
      " [0.03235221]\n",
      " [0.02348275]]\n",
      "[0. 1. 0.] <-> [[0.32279927]\n",
      " [0.3492503 ]\n",
      " [0.32795048]]\n",
      "[1. 0. 0.] <-> [[0.4705608 ]\n",
      " [0.22699997]\n",
      " [0.30243924]]\n",
      "[0. 0. 1.] <-> [[0.06653498]\n",
      " [0.35389566]\n",
      " [0.57956934]]\n",
      "[1. 0. 0.] <-> [[0.94783145]\n",
      " [0.02971152]\n",
      " [0.02245704]]\n",
      "[1. 0. 0.] <-> [[0.81555265]\n",
      " [0.13996986]\n",
      " [0.04447755]]\n",
      "[1. 0. 0.] <-> [[0.53526235]\n",
      " [0.1853302 ]\n",
      " [0.27940744]]\n",
      "[1. 0. 0.] <-> [[0.84246945]\n",
      " [0.11627562]\n",
      " [0.04125489]]\n",
      "[1. 0. 0.] <-> [[0.9317734 ]\n",
      " [0.04163587]\n",
      " [0.02659069]]\n",
      "{'accuracy': 0.8580246913580247, 'mean_square_error': 2.8259541012323743, 'categorical_crossentropy': 0.5999041663275825, 'precision': 0.7870370370370371, 'recall': 0.7870370370370371, 'f1': 0.7870370370370371, 'essential_metrics': {0: {'tp_hit': 76, 'fp_hit': 13, 'tn_hit': 15, 'fn_hit': 4}, 1: {'tp_hit': 6, 'fp_hit': 10, 'tn_hit': 83, 'fn_hit': 9}, 2: {'tp_hit': 3, 'fp_hit': 0, 'tn_hit': 95, 'fn_hit': 10}}}\n"
     ]
    },
    {
     "name": "stderr",
     "output_type": "stream",
     "text": [
      "C:\\Users\\tcumi\\github_repo\\neural-network\\python\\activations.py:14: RuntimeWarning: overflow encountered in exp\n",
      "  y = 1 / (1 + np.exp(-Xi))\n"
     ]
    }
   ],
   "source": [
    "# recall phase\n",
    "score = model.evaluate(x_test, y_test, False)\n",
    "print(score)"
   ]
  },
  {
   "cell_type": "code",
   "execution_count": 12,
   "metadata": {},
   "outputs": [],
   "source": [
    "# Testing Performance"
   ]
  },
  {
   "cell_type": "code",
   "execution_count": 13,
   "metadata": {
    "scrolled": true
   },
   "outputs": [
    {
     "name": "stdout",
     "output_type": "stream",
     "text": [
      "{'accuracy': 0.8271604938271605, 'mean_square_error': 2.8082091139262726, 'categorical_crossentropy': 0.6298727812590422, 'precision': 0.7407407407407407, 'recall': 0.7407407407407407, 'f1': 0.7407407407407407, 'essential_metrics': {0: {'tp_hit': 74, 'fp_hit': 10, 'tn_hit': 18, 'fn_hit': 6}, 1: {'tp_hit': 5, 'fp_hit': 10, 'tn_hit': 83, 'fn_hit': 10}, 2: {'tp_hit': 1, 'fp_hit': 8, 'tn_hit': 87, 'fn_hit': 12}}, 'checkpoint': 100} \n",
      "\n",
      "\n",
      "{'accuracy': 0.8395061728395061, 'mean_square_error': 2.83932880054467, 'categorical_crossentropy': 0.6230593080873843, 'precision': 0.7592592592592593, 'recall': 0.7592592592592593, 'f1': 0.7592592592592593, 'essential_metrics': {0: {'tp_hit': 76, 'fp_hit': 13, 'tn_hit': 15, 'fn_hit': 4}, 1: {'tp_hit': 6, 'fp_hit': 13, 'tn_hit': 80, 'fn_hit': 9}, 2: {'tp_hit': 0, 'fp_hit': 0, 'tn_hit': 95, 'fn_hit': 13}}, 'checkpoint': 200} \n",
      "\n",
      "\n",
      "{'accuracy': 0.8518518518518519, 'mean_square_error': 2.819164118554073, 'categorical_crossentropy': 0.6124670947039569, 'precision': 0.7777777777777778, 'recall': 0.7777777777777778, 'f1': 0.7777777777777778, 'essential_metrics': {0: {'tp_hit': 76, 'fp_hit': 13, 'tn_hit': 15, 'fn_hit': 4}, 1: {'tp_hit': 5, 'fp_hit': 10, 'tn_hit': 83, 'fn_hit': 10}, 2: {'tp_hit': 3, 'fp_hit': 1, 'tn_hit': 94, 'fn_hit': 10}}, 'checkpoint': 300} \n",
      "\n",
      "\n",
      "{'accuracy': 0.8580246913580247, 'mean_square_error': 2.8317359972701412, 'categorical_crossentropy': 0.6105372111002604, 'precision': 0.7870370370370371, 'recall': 0.7870370370370371, 'f1': 0.7870370370370371, 'essential_metrics': {0: {'tp_hit': 76, 'fp_hit': 12, 'tn_hit': 16, 'fn_hit': 4}, 1: {'tp_hit': 5, 'fp_hit': 9, 'tn_hit': 84, 'fn_hit': 10}, 2: {'tp_hit': 4, 'fp_hit': 2, 'tn_hit': 93, 'fn_hit': 9}}, 'checkpoint': 400} \n",
      "\n",
      "\n",
      "{'accuracy': 0.8580246913580247, 'mean_square_error': 2.8259541012323743, 'categorical_crossentropy': 0.5999041663275825, 'precision': 0.7870370370370371, 'recall': 0.7870370370370371, 'f1': 0.7870370370370371, 'essential_metrics': {0: {'tp_hit': 76, 'fp_hit': 13, 'tn_hit': 15, 'fn_hit': 4}, 1: {'tp_hit': 6, 'fp_hit': 10, 'tn_hit': 83, 'fn_hit': 9}, 2: {'tp_hit': 3, 'fp_hit': 0, 'tn_hit': 95, 'fn_hit': 10}}, 'checkpoint': 500} \n",
      "\n",
      "\n"
     ]
    }
   ],
   "source": [
    "for checkpoint in checkpoints:\n",
    "    print(checkpoint, '\\n\\n')"
   ]
  },
  {
   "cell_type": "code",
   "execution_count": 14,
   "metadata": {},
   "outputs": [
    {
     "data": {
      "image/png": "[encoded data removed]",
      "text/plain": [
       "<Figure size 864x360 with 1 Axes>"
      ]
     },
     "metadata": {
      "needs_background": "light"
     },
     "output_type": "display_data"
    }
   ],
   "source": [
    "cat_cross = [ ckp[model.loss_fn] for ckp in checkpoints ]\n",
    "draw_plot(x = [(i+1)*breakpoint for i in range(len(checkpoints))], y_list = [cat_cross], x_label = 'Checkpoints', \\\n",
    "    y_label = model.loss_fn)"
   ]
  },
  {
   "cell_type": "code",
   "execution_count": 15,
   "metadata": {},
   "outputs": [
    {
     "data": {
      "image/png": "[encoded data removed]",
      "text/plain": [
       "<Figure size 864x360 with 1 Axes>"
      ]
     },
     "metadata": {
      "needs_background": "light"
     },
     "output_type": "display_data"
    }
   ],
   "source": [
    "acc = [ ckp['accuracy'] for ckp in checkpoints ]\n",
    "draw_plot(x = [(i+1)*breakpoint for i in range(len(checkpoints))], y_list = [acc], x_label = 'Checkpoints', \\\n",
    "    y_label = 'accuracy')"
   ]
  },
  {
   "cell_type": "code",
   "execution_count": 16,
   "metadata": {},
   "outputs": [
    {
     "name": "stdout",
     "output_type": "stream",
     "text": [
      "Layer 1\n",
      "Neuron 0: weights:\n",
      "[[-0.0498622]\n",
      " [-1.3041798]\n",
      " [ 0.7796026]\n",
      " [-2.612258 ]\n",
      " [ 2.6927452]]\n",
      " bias: [1.0529455]\n",
      "\n",
      "Neuron 1: weights:\n",
      "[[ 1.6565169 ]\n",
      " [-0.49802995]\n",
      " [-2.3669417 ]\n",
      " [ 1.3088733 ]\n",
      " [ 0.9892465 ]]\n",
      " bias: [0.12440804]\n",
      "\n",
      "Neuron 2: weights:\n",
      "[[-0.26847476]\n",
      " [ 1.66691   ]\n",
      " [ 2.8490946 ]\n",
      " [ 2.088506  ]\n",
      " [-0.15182485]]\n",
      " bias: [1.0441965]\n",
      "\n",
      "Neuron 3: weights:\n",
      "[[-3.       ]\n",
      " [-2.8182786]\n",
      " [-3.       ]\n",
      " [-3.       ]\n",
      " [-2.908025 ]]\n",
      " bias: [0.79354805]\n",
      "\n",
      "$\n",
      "Layer 2\n",
      "Neuron 0: weights:\n",
      "[[ 2.4158378 ]\n",
      " [-3.        ]\n",
      " [ 2.5684025 ]\n",
      " [ 0.12402564]]\n",
      " bias: [2.5877857]\n",
      "\n",
      "Neuron 1: weights:\n",
      "[[1.5796567]\n",
      " [2.7247517]\n",
      " [3.       ]\n",
      " [1.3430991]]\n",
      " bias: [-1.8442317]\n",
      "\n",
      "Neuron 2: weights:\n",
      "[[-0.8515428]\n",
      " [-1.287807 ]\n",
      " [ 3.       ]\n",
      " [-1.0588298]]\n",
      " bias: [2.811419]\n",
      "\n",
      "$\n",
      "\n"
     ]
    }
   ],
   "source": [
    "print(model)"
   ]
  },
  {
   "cell_type": "code",
   "execution_count": null,
   "metadata": {},
   "outputs": [],
   "source": []
  }
 ],
 "metadata": {
  "kernelspec": {
   "display_name": "Python 3",
   "language": "python",
   "name": "python3"
  },
  "language_info": {
   "codemirror_mode": {
    "name": "ipython",
    "version": 3
   },
   "file_extension": ".py",
   "mimetype": "text/x-python",
   "name": "python",
   "nbconvert_exporter": "python",
   "pygments_lexer": "ipython3",
   "version": "3.6.10"
  }
 },
 "nbformat": 4,
 "nbformat_minor": 2
}
