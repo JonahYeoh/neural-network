{
 "cells": [
  {
   "cell_type": "code",
   "execution_count": 1,
   "metadata": {},
   "outputs": [],
   "source": [
    "# two"
   ]
  },
  {
   "cell_type": "code",
   "execution_count": 2,
   "metadata": {},
   "outputs": [],
   "source": [
    "# dependency\n",
    "import numpy as np\n",
    "import pandas as pd\n",
    "import copy\n",
    "import math\n",
    "import sys\n",
    "import os\n",
    "from activations import relu, leaky_relu, sigmoid, tanh, softmax, d_sigmoid, d_relu\n",
    "from initializers import glorot_uniform, random_normal, random_uniform\n",
    "from regularizers import l1_regularizer, l2_regularizer\n",
    "from utility import trim_tail, multiply, subtract, get_nparams, one_hot_encoding, get_data\n",
    "from metrics import MSE, CCE, ACC, PRECISION, RECALL, essential_metrics, wondering_penalty, close_gap_penalty\n",
    "from pso import PSO\n",
    "from ga import GA\n",
    "from nn import Network\n",
    "from layer import DenseLayer\n",
    "from scalers import MinMaxScaler, StandardScaler"
   ]
  },
  {
   "cell_type": "code",
   "execution_count": 3,
   "metadata": {},
   "outputs": [],
   "source": [
    "# reference\n",
    "metrics_fn_dict = dict()\n",
    "metrics_fn_dict['accuracy'] = ACC\n",
    "metrics_fn_dict['categorical_crossentropy'] = CCE\n",
    "metrics_fn_dict['mean_square_error'] = MSE\n",
    "metrics_fn_dict['precision'] = PRECISION\n",
    "metrics_fn_dict['recall'] = RECALL\n",
    "metrics_fn_dict['essential_metrics'] = essential_metrics"
   ]
  },
  {
   "cell_type": "code",
   "execution_count": 4,
   "metadata": {},
   "outputs": [],
   "source": [
    "# model\n",
    "model = Network(5, lr = None)\n",
    "model.add_layer(DenseLayer(1, 4, True, afn=sigmoid, dafn=None, rfn=None))\n",
    "model.add_layer(DenseLayer(2, 3, True, afn=softmax, dafn=None, rfn=None))"
   ]
  },
  {
   "cell_type": "code",
   "execution_count": 5,
   "metadata": {},
   "outputs": [],
   "source": [
    "# optimizer\n",
    "ga = GA(\n",
    "    dict(\n",
    "        m = 100,\n",
    "        x_rate = 0.5,\n",
    "        m_rate = 0.5,\n",
    "        weight_constraint = [-3.,3.],\n",
    "        radioactive_rating = 0.1,\n",
    "        grow_factor = 0.1,\n",
    "        scale_hyperparameter = False,\n",
    "        regularizer = None))"
   ]
  },
  {
   "cell_type": "code",
   "execution_count": 6,
   "metadata": {},
   "outputs": [
    {
     "name": "stdout",
     "output_type": "stream",
     "text": [
      "building layer 1 with 5\n",
      "24\n",
      "building layer 2 with 4\n",
      "15\n"
     ]
    }
   ],
   "source": [
    "model.compile(loss_fn = 'categorical_crossentropy', optimizer = ga, \\\n",
    "    metrics = ['accuracy', 'mean_square_error', 'categorical_crossentropy', 'precision', 'recall', 'f1'])"
   ]
  },
  {
   "cell_type": "code",
   "execution_count": 7,
   "metadata": {},
   "outputs": [
    {
     "name": "stdout",
     "output_type": "stream",
     "text": [
      "<class 'pandas.core.frame.DataFrame'>\n",
      "RangeIndex: 107 entries, 0 to 106\n",
      "Data columns (total 6 columns):\n",
      " #   Column  Non-Null Count  Dtype  \n",
      "---  ------  --------------  -----  \n",
      " 0   f1      107 non-null    float32\n",
      " 1   f2      107 non-null    float32\n",
      " 2   f3      107 non-null    float32\n",
      " 3   f4      107 non-null    float32\n",
      " 4   f5      107 non-null    float32\n",
      " 5   label   107 non-null    float32\n",
      "dtypes: float32(6)\n",
      "memory usage: 2.6 KB\n",
      "None\n",
      "<class 'pandas.core.frame.DataFrame'>\n",
      "RangeIndex: 108 entries, 0 to 107\n",
      "Data columns (total 6 columns):\n",
      " #   Column  Non-Null Count  Dtype  \n",
      "---  ------  --------------  -----  \n",
      " 0   f1      108 non-null    float32\n",
      " 1   f2      108 non-null    float32\n",
      " 2   f3      108 non-null    float32\n",
      " 3   f4      108 non-null    float32\n",
      " 4   f5      108 non-null    float32\n",
      " 5   label   108 non-null    float32\n",
      "dtypes: float32(6)\n",
      "memory usage: 2.7 KB\n",
      "None\n"
     ]
    }
   ],
   "source": [
    "# data loading\n",
    "DATA = os.path.join('c:\\\\Users\\\\tcumi\\\\github_repo\\\\neural-network\\\\', 'dataset')\n",
    "GROUP = 3\n",
    "COLUMNS = ['f1', 'f2', 'f3', 'f4', 'f5', 'label']\n",
    "N_CLASS = 3\n",
    "EPOCHS = 500\n",
    "train_dir, test_dir = \"..//dataset//training_data{}.txt\".format(GROUP), \"..//dataset//testing_data{}.txt\".format(GROUP)\n",
    "train, test = get_data(DATA, train_dir, COLUMNS), get_data(DATA, test_dir, COLUMNS)\n",
    "# shuffle\n",
    "train, test = train.sample(frac=1), test.sample(frac=1)\n",
    "x_train, y_train = train.drop('label', axis=1), train['label']\n",
    "x_test, y_test = test.drop('label', axis=1), test['label']"
   ]
  },
  {
   "cell_type": "code",
   "execution_count": 8,
   "metadata": {},
   "outputs": [],
   "source": [
    "# data scaling and encoding\n",
    "scaler = StandardScaler(['f1', 'f2', 'f3', 'f4', 'f5'])\n",
    "scaler.fit(x_train)\n",
    "x_train = scaler.transform(x_train)\n",
    "x_test = scaler.transform(x_test)\n",
    "y_train = one_hot_encoding(y_train, N_CLASS)\n",
    "y_test = one_hot_encoding(y_test, N_CLASS)"
   ]
  },
  {
   "cell_type": "code",
   "execution_count": 9,
   "metadata": {
    "scrolled": true,
    "tags": [
     "outputPrepend"
    ]
   },
   "outputs": [
    {
     "name": "stderr",
     "output_type": "stream",
     "text": [
      "C:\\Users\\tcumi\\github_repo\\neural-network\\python\\ga.py:201: RuntimeWarning: overflow encountered in add\n",
      "  self.population.sort(key=lambda p: p.fitness + np.random.uniform(-shift, shift, 1), reverse = self.aim)\n"
     ]
    },
    {
     "name": "stdout",
     "output_type": "stream",
     "text": [
      "Checkpoint 100, Accuracy: 0.9259259259259259, Loss: 0.2959060315732603\n",
      "Checkpoint 200, Accuracy: 0.9320987654320988, Loss: 0.2730967910201461\n",
      "Checkpoint 300, Accuracy: 0.9567901234567902, Loss: 0.24846472563566985\n",
      "Checkpoint 400, Accuracy: 0.9567901234567902, Loss: 0.22302030633997033\n",
      "Checkpoint 500, Accuracy: 0.9567901234567902, Loss: 0.2089074452718099\n"
     ]
    }
   ],
   "source": [
    "# learning phase\n",
    "breakpoint = 100\n",
    "checkpoints = list()\n",
    "history = list()\n",
    "for century in range(0, EPOCHS, breakpoint):\n",
    "    sub_history = model.fit(x_train, y_train, breakpoint, verbose = 0)\n",
    "    score = model.evaluate(x_test, y_test, False, verbose = 0)\n",
    "    print('Checkpoint {}, Accuracy: {}, Loss: {}'.format(century+breakpoint, score['accuracy'], score[model.loss_fn]))\n",
    "    score['checkpoint'] = century + breakpoint\n",
    "    checkpoints.append(score)\n",
    "    history.extend(sub_history)\n",
    "    "
   ]
  },
  {
   "cell_type": "code",
   "execution_count": 10,
   "metadata": {},
   "outputs": [],
   "source": [
    "import matplotlib.pyplot as plt\n",
    "\n",
    "def draw_plot(x, y_list, x_label=None, y_label=None, legend=None, title=None):\n",
    "    fig, ax = plt.subplots(figsize=(12,5))\n",
    "    for xi, yi in zip(x, y_list):\n",
    "        ax.plot(xi, yi)\n",
    "    if x_label is not None and y_label is not None:\n",
    "        ax.set(xlabel=x_label, ylabel=y_label, title='{} VS {}'.format(x_label, y_label))\n",
    "    if legend is not None:\n",
    "        ax.legend(legend)\n",
    "    ax.grid()\n",
    "    plt.show()"
   ]
  },
  {
   "cell_type": "code",
   "execution_count": 11,
   "metadata": {},
   "outputs": [
    {
     "name": "stdout",
     "output_type": "stream",
     "text": [
      "[0. 0. 1.] <-> [0.0653101  0.00176784 0.932922  ]\n",
      "[1. 0. 0.] <-> [0.95229286 0.01339011 0.03431709]\n",
      "[1. 0. 0.] <-> [0.9502845  0.00800369 0.04171184]\n",
      "[1. 0. 0.] <-> [0.7988656  0.15962799 0.04150634]\n",
      "[1. 0. 0.] <-> [0.9460103  0.02179484 0.03219483]\n",
      "[1. 0. 0.] <-> [0.9448857  0.0122062  0.04290816]\n",
      "[1. 0. 0.] <-> [0.94951594 0.01123123 0.0392528 ]\n",
      "[1. 0. 0.] <-> [0.9575149  0.00355341 0.03893163]\n",
      "[1. 0. 0.] <-> [0.49225247 0.4850309  0.02271667]\n",
      "[1. 0. 0.] <-> [0.9339781  0.01444565 0.05157625]\n",
      "[1. 0. 0.] <-> [0.9399993  0.00163383 0.05836698]\n",
      "[0. 0. 1.] <-> [0.29772007 0.00112721 0.70115274]\n",
      "[1. 0. 0.] <-> [0.952368   0.00799727 0.03963477]\n",
      "[0. 1. 0.] <-> [0.01366516 0.97478694 0.01154782]\n",
      "[1. 0. 0.] <-> [0.89785373 0.03448252 0.06766375]\n",
      "[1. 0. 0.] <-> [0.9467174  0.00461621 0.04866643]\n",
      "[0. 1. 0.] <-> [0.00729097 0.9815647  0.01114433]\n",
      "[1. 0. 0.] <-> [0.88310885 0.00351942 0.11337171]\n",
      "[1. 0. 0.] <-> [0.91001725 0.00176332 0.08821946]\n",
      "[1. 0. 0.] <-> [0.96327776 0.0040396  0.03268265]\n",
      "[0. 1. 0.] <-> [0.00956637 0.9791366  0.01129708]\n",
      "[1. 0. 0.] <-> [0.9059308  0.00677348 0.0872957 ]\n",
      "[1. 0. 0.] <-> [0.7690788  0.18606293 0.04485825]\n",
      "[1. 0. 0.] <-> [0.59643734 0.37686178 0.02670094]\n",
      "[0. 1. 0.] <-> [0.02542219 0.9622501  0.01232764]\n",
      "[0. 1. 0.] <-> [0.01471902 0.9735927  0.01168832]\n",
      "[0. 1. 0.] <-> [0.03043662 0.949557   0.02000639]\n",
      "[1. 0. 0.] <-> [0.48377767 0.00734197 0.5088803 ]\n",
      "[1. 0. 0.] <-> [0.9620672  0.00328467 0.03464819]\n",
      "[0. 0. 1.] <-> [0.28233877 0.00111271 0.71654856]\n",
      "[1. 0. 0.] <-> [0.94680727 0.0025327  0.05066017]\n",
      "[1. 0. 0.] <-> [0.9502882  0.02016097 0.02955084]\n",
      "[1. 0. 0.] <-> [0.95266175 0.00533036 0.04200793]\n",
      "[1. 0. 0.] <-> [0.95484537 0.00666066 0.03849397]\n",
      "[1. 0. 0.] <-> [0.9558567  0.00564343 0.03849986]\n",
      "[1. 0. 0.] <-> [0.90862334 0.00487752 0.08649916]\n",
      "[0. 0. 1.] <-> [0.07216882 0.00347243 0.9243588 ]\n",
      "[0. 0. 1.] <-> [0.06974217 0.00229735 0.9279605 ]\n",
      "[1. 0. 0.] <-> [0.95977664 0.00633566 0.0338877 ]\n",
      "[1. 0. 0.] <-> [0.18989286 0.76988435 0.04022283]\n",
      "[1. 0. 0.] <-> [0.863662   0.08360887 0.05272919]\n",
      "[1. 0. 0.] <-> [0.7129179  0.26028126 0.02680084]\n",
      "[1. 0. 0.] <-> [0.9436806  0.00188406 0.05443534]\n",
      "[1. 0. 0.] <-> [0.5804761  0.3754263  0.04409766]\n",
      "[1. 0. 0.] <-> [0.94751394 0.00192322 0.05056279]\n",
      "[0. 1. 0.] <-> [0.00728971 0.9815656  0.01114462]\n",
      "[1. 0. 0.] <-> [0.9569788  0.00315796 0.0398633 ]\n",
      "[1. 0. 0.] <-> [0.95615155 0.00420824 0.03964022]\n",
      "[1. 0. 0.] <-> [0.61052275 0.36396027 0.02551697]\n",
      "[1. 0. 0.] <-> [0.9312308  0.02820536 0.04056391]\n",
      "[0. 1. 0.] <-> [0.44313464 0.5187937  0.03807166]\n",
      "[1. 0. 0.] <-> [0.9485177  0.01028312 0.04119914]\n",
      "[1. 0. 0.] <-> [0.9407753  0.0057945  0.05343019]\n",
      "[0. 0. 1.] <-> [0.9000402  0.00191489 0.09804489]\n",
      "[0. 1. 0.] <-> [0.15735848 0.8238263  0.0188152 ]\n",
      "[1. 0. 0.] <-> [0.95505077 0.00807539 0.03687377]\n",
      "[0. 1. 0.] <-> [0.06542287 0.9201509  0.01442632]\n",
      "[0. 0. 1.] <-> [0.0230214  0.00236791 0.97461075]\n",
      "[1. 0. 0.] <-> [0.9504485  0.01282516 0.03672635]\n",
      "[1. 0. 0.] <-> [0.90987617 0.00162943 0.08849434]\n",
      "[1. 0. 0.] <-> [0.9454564  0.00545072 0.04909286]\n",
      "[1. 0. 0.] <-> [0.95071393 0.00598932 0.04329673]\n",
      "[1. 0. 0.] <-> [0.47988474 0.45895758 0.0611576 ]\n",
      "[1. 0. 0.] <-> [0.9538024  0.0106693  0.03552826]\n",
      "[0. 1. 0.] <-> [0.0075366  0.9812983  0.01116516]\n",
      "[1. 0. 0.] <-> [0.92264295 0.04691837 0.03043868]\n",
      "[1. 0. 0.] <-> [0.95261276 0.0038376  0.04354972]\n",
      "[0. 0. 1.] <-> [0.29010406 0.00218076 0.70771515]\n",
      "[0. 1. 0.] <-> [0.18411344 0.79421806 0.02166852]\n",
      "[1. 0. 0.] <-> [0.9473192  0.00177737 0.05090337]\n",
      "[1. 0. 0.] <-> [0.9218236  0.02319026 0.0549861 ]\n",
      "[1. 0. 0.] <-> [0.91928166 0.03042516 0.05029313]\n",
      "[1. 0. 0.] <-> [0.94674283 0.01479928 0.03845794]\n",
      "[1. 0. 0.] <-> [0.9345216  0.02450243 0.04097598]\n",
      "[1. 0. 0.] <-> [0.9529515  0.01167478 0.03537372]\n",
      "[1. 0. 0.] <-> [0.95916086 0.00322663 0.03761249]\n",
      "[1. 0. 0.] <-> [0.94448864 0.00613867 0.04937272]\n",
      "[1. 0. 0.] <-> [0.96112525 0.00277198 0.03610267]\n",
      "[1. 0. 0.] <-> [0.94426316 0.00300444 0.05273243]\n",
      "[1. 0. 0.] <-> [0.8926218  0.04107589 0.06630225]\n",
      "[0. 0. 1.] <-> [0.43992192 0.0008449  0.55923325]\n",
      "[1. 0. 0.] <-> [0.9607986  0.00202761 0.03717377]\n",
      "[1. 0. 0.] <-> [0.953842   0.00615745 0.04000056]\n",
      "[0. 1. 0.] <-> [0.13464478 0.8244165  0.04093874]\n",
      "[0. 0. 1.] <-> [0.3668921  0.00078691 0.632321  ]\n",
      "[1. 0. 0.] <-> [0.9487548  0.00908979 0.04215549]\n",
      "[1. 0. 0.] <-> [0.72479075 0.22973779 0.04547147]\n",
      "[0. 1. 0.] <-> [0.1716044  0.80471855 0.02367709]\n",
      "[1. 0. 0.] <-> [0.8948603  0.07090267 0.03423703]\n",
      "[1. 0. 0.] <-> [0.9584111  0.00276613 0.03882278]\n",
      "[1. 0. 0.] <-> [0.9330797  0.02498469 0.0419356 ]\n",
      "[1. 0. 0.] <-> [0.8178391  0.10831962 0.07384126]\n",
      "[1. 0. 0.] <-> [0.94064826 0.00324178 0.05610996]\n",
      "[1. 0. 0.] <-> [0.9169994  0.00158697 0.08141367]\n",
      "[1. 0. 0.] <-> [0.909171   0.03415215 0.05667691]\n",
      "[0. 0. 1.] <-> [0.59265345 0.00081269 0.4065339 ]\n",
      "[0. 1. 0.] <-> [0.21503283 0.75475496 0.03021226]\n",
      "[1. 0. 0.] <-> [0.869187   0.09038179 0.04043126]\n",
      "[1. 0. 0.] <-> [0.9476549  0.00999663 0.04234841]\n",
      "[1. 0. 0.] <-> [0.84917325 0.11701745 0.03380931]\n",
      "[0. 0. 1.] <-> [0.6446892  0.00158431 0.35372654]\n",
      "[0. 0. 1.] <-> [0.5898262  0.00180672 0.4083671 ]\n",
      "[1. 0. 0.] <-> [0.95022583 0.00306066 0.04671346]\n",
      "[0. 1. 0.] <-> [0.00883122 0.97992444 0.01124435]\n",
      "[1. 0. 0.] <-> [0.9527112  0.01278354 0.03450519]\n",
      "[0. 0. 1.] <-> [0.8457068  0.00130295 0.15299024]\n",
      "[1. 0. 0.] <-> [0.926221   0.00185966 0.0719193 ]\n",
      "[1. 0. 0.] <-> [0.89897424 0.00640343 0.0946224 ]\n",
      "{'accuracy': 0.9567901234567902, 'mean_square_error': 0.11098028379758665, 'categorical_crossentropy': 0.2089074452718099, 'precision': 0.9351851851851852, 'recall': 0.9351851851851852, 'f1': 0.9351851851851852, 'essential_metrics': {0: {'tp_hit': 76, 'fp_hit': 5, 'tn_hit': 25, 'fn_hit': 2}, 1: {'tp_hit': 16, 'fp_hit': 1, 'tn_hit': 91, 'fn_hit': 0}, 2: {'tp_hit': 9, 'fp_hit': 1, 'tn_hit': 93, 'fn_hit': 5}}}\n"
     ]
    }
   ],
   "source": [
    "# recall phase\n",
    "score = model.evaluate(x_test, y_test, False)\n",
    "print(score)"
   ]
  },
  {
   "cell_type": "code",
   "execution_count": 12,
   "metadata": {},
   "outputs": [],
   "source": [
    "# Testing Performance"
   ]
  },
  {
   "cell_type": "code",
   "execution_count": 13,
   "metadata": {},
   "outputs": [
    {
     "data": {
      "image/png": "[encoded data removed]",
      "text/plain": [
       "<Figure size 864x360 with 1 Axes>"
      ]
     },
     "metadata": {
      "needs_background": "light"
     },
     "output_type": "display_data"
    },
    {
     "data": {
      "image/png": "[encoded data removed]",
      "text/plain": [
       "<Figure size 864x360 with 1 Axes>"
      ]
     },
     "metadata": {
      "needs_background": "light"
     },
     "output_type": "display_data"
    }
   ],
   "source": [
    "draw_plot(x = [[i for i in range(len(history))], [(i+1)*breakpoint for i in range(len(checkpoints))]], y_list = [history, [ ckp[model.loss_fn] for ckp in checkpoints ]], x_label = 'Epochs', \\\n",
    "    y_label = model.loss_fn, legend=['train', 'test'])\n",
    "acc = [ ckp['accuracy'] for ckp in checkpoints ]\n",
    "draw_plot(x = [[(i+1)*breakpoint for i in range(len(checkpoints))]], y_list = [acc], x_label = 'Checkpoints', \\\n",
    "    y_label = 'accuracy')"
   ]
  },
  {
   "cell_type": "code",
   "execution_count": 14,
   "metadata": {
    "scrolled": false
   },
   "outputs": [
    {
     "name": "stdout",
     "output_type": "stream",
     "text": [
      "{'accuracy': 0.9259259259259259, 'mean_square_error': 0.15911736708868332, 'categorical_crossentropy': 0.2959060315732603, 'precision': 0.8888888888888888, 'recall': 0.8888888888888888, 'f1': 0.8888888888888888, 'essential_metrics': {0: {'tp_hit': 77, 'fp_hit': 11, 'tn_hit': 19, 'fn_hit': 1}, 1: {'tp_hit': 15, 'fp_hit': 1, 'tn_hit': 91, 'fn_hit': 1}, 2: {'tp_hit': 4, 'fp_hit': 0, 'tn_hit': 94, 'fn_hit': 10}}, 'checkpoint': 100} \n",
      "\n",
      "\n",
      "{'accuracy': 0.9320987654320988, 'mean_square_error': 0.14674809930534727, 'categorical_crossentropy': 0.2730967910201461, 'precision': 0.8981481481481481, 'recall': 0.8981481481481481, 'f1': 0.8981481481481481, 'essential_metrics': {0: {'tp_hit': 77, 'fp_hit': 10, 'tn_hit': 20, 'fn_hit': 1}, 1: {'tp_hit': 15, 'fp_hit': 1, 'tn_hit': 91, 'fn_hit': 1}, 2: {'tp_hit': 5, 'fp_hit': 0, 'tn_hit': 94, 'fn_hit': 9}}, 'checkpoint': 200} \n",
      "\n",
      "\n",
      "{'accuracy': 0.9567901234567902, 'mean_square_error': 0.13430179323050165, 'categorical_crossentropy': 0.24846472563566985, 'precision': 0.9351851851851852, 'recall': 0.9351851851851852, 'f1': 0.9351851851851852, 'essential_metrics': {0: {'tp_hit': 77, 'fp_hit': 6, 'tn_hit': 24, 'fn_hit': 1}, 1: {'tp_hit': 16, 'fp_hit': 1, 'tn_hit': 91, 'fn_hit': 0}, 2: {'tp_hit': 8, 'fp_hit': 0, 'tn_hit': 94, 'fn_hit': 6}}, 'checkpoint': 300} \n",
      "\n",
      "\n",
      "{'accuracy': 0.9567901234567902, 'mean_square_error': 0.11874750421302166, 'categorical_crossentropy': 0.22302030633997033, 'precision': 0.9351851851851852, 'recall': 0.9351851851851852, 'f1': 0.9351851851851852, 'essential_metrics': {0: {'tp_hit': 77, 'fp_hit': 6, 'tn_hit': 24, 'fn_hit': 1}, 1: {'tp_hit': 15, 'fp_hit': 1, 'tn_hit': 91, 'fn_hit': 1}, 2: {'tp_hit': 9, 'fp_hit': 0, 'tn_hit': 94, 'fn_hit': 5}}, 'checkpoint': 400} \n",
      "\n",
      "\n",
      "{'accuracy': 0.9567901234567902, 'mean_square_error': 0.11098028379758665, 'categorical_crossentropy': 0.2089074452718099, 'precision': 0.9351851851851852, 'recall': 0.9351851851851852, 'f1': 0.9351851851851852, 'essential_metrics': {0: {'tp_hit': 76, 'fp_hit': 5, 'tn_hit': 25, 'fn_hit': 2}, 1: {'tp_hit': 16, 'fp_hit': 1, 'tn_hit': 91, 'fn_hit': 0}, 2: {'tp_hit': 9, 'fp_hit': 1, 'tn_hit': 93, 'fn_hit': 5}}, 'checkpoint': 500} \n",
      "\n",
      "\n"
     ]
    }
   ],
   "source": [
    "for checkpoint in checkpoints:\n",
    "    print(checkpoint, '\\n\\n')"
   ]
  },
  {
   "cell_type": "code",
   "execution_count": 15,
   "metadata": {},
   "outputs": [
    {
     "name": "stdout",
     "output_type": "stream",
     "text": [
      "Layer 1\n",
      "Neuron 0: weights:\n",
      "[ 0.34149358 -1.6619412  -0.8748358   0.8021973   1.8366829 ]\n",
      " bias: -1.9169929027557373\n",
      "\n",
      "Neuron 1: weights:\n",
      "[-0.20213507  1.8418257   2.2649488   2.3357668   2.5295682 ]\n",
      " bias: -0.2722620368003845\n",
      "\n",
      "Neuron 2: weights:\n",
      "[ 0.36765158 -0.95901924 -0.19271402 -2.1373627   1.3923908 ]\n",
      " bias: 0.8841225504875183\n",
      "\n",
      "Neuron 3: weights:\n",
      "[-1.7745556   2.0637786   2.80773    -0.301992    0.29662418]\n",
      " bias: -0.5554654002189636\n",
      "\n",
      "$\n",
      "Layer 2\n",
      "Neuron 0: weights:\n",
      "[-2.9954834 -2.4179049  2.5065484 -2.2592323]\n",
      " bias: 2.2206547260284424\n",
      "\n",
      "Neuron 1: weights:\n",
      "[-2.97239     0.8862809  -0.70629233  3.        ]\n",
      " bias: -1.3805497884750366\n",
      "\n",
      "Neuron 2: weights:\n",
      "[ 1.4219534   0.16939875 -0.5331801  -2.9958024 ]\n",
      " bias: 0.8506612777709961\n",
      "\n",
      "$\n",
      "\n"
     ]
    }
   ],
   "source": [
    "print(model)"
   ]
  }
 ],
 "metadata": {
  "kernelspec": {
   "display_name": "Python 3",
   "language": "python",
   "name": "python3"
  },
  "language_info": {
   "codemirror_mode": {
    "name": "ipython",
    "version": 3
   },
   "file_extension": ".py",
   "mimetype": "text/x-python",
   "name": "python",
   "nbconvert_exporter": "python",
   "pygments_lexer": "ipython3",
   "version": "3.6.10"
  }
 },
 "nbformat": 4,
 "nbformat_minor": 2
}
