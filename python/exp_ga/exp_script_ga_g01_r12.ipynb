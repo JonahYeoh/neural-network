{
 "cells": [
  {
   "cell_type": "code",
   "execution_count": 1,
   "metadata": {},
   "outputs": [],
   "source": [
    "# single"
   ]
  },
  {
   "cell_type": "code",
   "execution_count": 2,
   "metadata": {},
   "outputs": [],
   "source": [
    "# dependency\n",
    "import numpy as np\n",
    "import pandas as pd\n",
    "import copy\n",
    "import math\n",
    "import sys\n",
    "import os\n",
    "from activations import relu, leaky_relu, sigmoid, tanh, softmax, d_sigmoid, d_relu\n",
    "from initializers import glorot_uniform, random_normal, random_uniform\n",
    "from regularizers import l1_regularizer, l2_regularizer\n",
    "from utility import trim_tail, multiply, subtract, get_nparams, one_hot_encoding, get_data\n",
    "from metrics import MSE, CCE, ACC, PRECISION, RECALL, essential_metrics, wondering_penalty, close_gap_penalty\n",
    "from pso import PSO\n",
    "from ga import GA\n",
    "from nn import Network\n",
    "from layer import DenseLayer\n",
    "from scalers import MinMaxScaler, StandardScaler"
   ]
  },
  {
   "cell_type": "code",
   "execution_count": 3,
   "metadata": {},
   "outputs": [],
   "source": [
    "# reference\n",
    "metrics_fn_dict = dict()\n",
    "metrics_fn_dict['accuracy'] = ACC\n",
    "metrics_fn_dict['categorical_crossentropy'] = CCE\n",
    "metrics_fn_dict['mean_square_error'] = MSE\n",
    "metrics_fn_dict['precision'] = PRECISION\n",
    "metrics_fn_dict['recall'] = RECALL\n",
    "metrics_fn_dict['essential_metrics'] = essential_metrics"
   ]
  },
  {
   "cell_type": "code",
   "execution_count": 4,
   "metadata": {},
   "outputs": [],
   "source": [
    "# model\n",
    "model = Network(5, lr = None)\n",
    "model.add_layer(DenseLayer(1, 4, True, afn=sigmoid, dafn=None, rfn=None))\n",
    "model.add_layer(DenseLayer(2, 3, True, afn=softmax, dafn=None, rfn=None))"
   ]
  },
  {
   "cell_type": "code",
   "execution_count": 5,
   "metadata": {},
   "outputs": [],
   "source": [
    "# optimizer\n",
    "ga = GA(\n",
    "    dict(\n",
    "        m = 100,\n",
    "        x_rate = 0.5,\n",
    "        m_rate = 0.5,\n",
    "        weight_constraint = [-3.,3.],\n",
    "        radioactive_rating = 0.1,\n",
    "        grow_factor = 0.1,\n",
    "        scale_hyperparameter = False,\n",
    "        regularizer = None))"
   ]
  },
  {
   "cell_type": "code",
   "execution_count": 6,
   "metadata": {},
   "outputs": [
    {
     "name": "stdout",
     "output_type": "stream",
     "text": [
      "building layer 1 with 5\n",
      "24\n",
      "building layer 2 with 4\n",
      "15\n"
     ]
    }
   ],
   "source": [
    "model.compile(loss_fn = 'categorical_crossentropy', optimizer = ga, \\\n",
    "    metrics = ['accuracy', 'mean_square_error', 'categorical_crossentropy', 'precision', 'recall', 'f1'])"
   ]
  },
  {
   "cell_type": "code",
   "execution_count": 7,
   "metadata": {},
   "outputs": [
    {
     "name": "stdout",
     "output_type": "stream",
     "text": [
      "<class 'pandas.core.frame.DataFrame'>\n",
      "RangeIndex: 107 entries, 0 to 106\n",
      "Data columns (total 6 columns):\n",
      " #   Column  Non-Null Count  Dtype  \n",
      "---  ------  --------------  -----  \n",
      " 0   f1      107 non-null    float32\n",
      " 1   f2      107 non-null    float32\n",
      " 2   f3      107 non-null    float32\n",
      " 3   f4      107 non-null    float32\n",
      " 4   f5      107 non-null    float32\n",
      " 5   label   107 non-null    float32\n",
      "dtypes: float32(6)\n",
      "memory usage: 2.6 KB\n",
      "None\n",
      "<class 'pandas.core.frame.DataFrame'>\n",
      "RangeIndex: 108 entries, 0 to 107\n",
      "Data columns (total 6 columns):\n",
      " #   Column  Non-Null Count  Dtype  \n",
      "---  ------  --------------  -----  \n",
      " 0   f1      108 non-null    float32\n",
      " 1   f2      108 non-null    float32\n",
      " 2   f3      108 non-null    float32\n",
      " 3   f4      108 non-null    float32\n",
      " 4   f5      108 non-null    float32\n",
      " 5   label   108 non-null    float32\n",
      "dtypes: float32(6)\n",
      "memory usage: 2.7 KB\n",
      "None\n"
     ]
    }
   ],
   "source": [
    "# data loading\n",
    "DATA = os.path.join('c:\\\\Users\\\\tcumi\\\\github_repo\\\\neural-network\\\\', 'dataset')\n",
    "GROUP = 1\n",
    "COLUMNS = ['f1', 'f2', 'f3', 'f4', 'f5', 'label']\n",
    "N_CLASS = 3\n",
    "EPOCHS = 500\n",
    "train_dir, test_dir = \"..//dataset//training_data{}.txt\".format(GROUP), \"..//dataset//testing_data{}.txt\".format(GROUP)\n",
    "train, test = get_data(DATA, train_dir, COLUMNS), get_data(DATA, test_dir, COLUMNS)\n",
    "# shuffle\n",
    "train, test = train.sample(frac=1), test.sample(frac=1)\n",
    "x_train, y_train = train.drop('label', axis=1), train['label']\n",
    "x_test, y_test = test.drop('label', axis=1), test['label']"
   ]
  },
  {
   "cell_type": "code",
   "execution_count": 8,
   "metadata": {},
   "outputs": [],
   "source": [
    "# data scaling and encoding\n",
    "scaler = StandardScaler(['f1', 'f2', 'f3', 'f4', 'f5'])\n",
    "scaler.fit(x_train)\n",
    "x_train = scaler.transform(x_train)\n",
    "x_test = scaler.transform(x_test)\n",
    "y_train = one_hot_encoding(y_train, N_CLASS)\n",
    "y_test = one_hot_encoding(y_test, N_CLASS)"
   ]
  },
  {
   "cell_type": "code",
   "execution_count": 9,
   "metadata": {
    "scrolled": true,
    "tags": [
     "outputPrepend"
    ]
   },
   "outputs": [
    {
     "name": "stderr",
     "output_type": "stream",
     "text": [
      "C:\\Users\\tcumi\\github_repo\\neural-network\\python\\activations.py:14: RuntimeWarning: overflow encountered in exp\n",
      "  y = 1 / (1 + np.exp(-Xi))\n",
      "C:\\Users\\tcumi\\github_repo\\neural-network\\python\\ga.py:201: RuntimeWarning: overflow encountered in add\n",
      "  self.population.sort(key=lambda p: p.fitness + np.random.uniform(-shift, shift, 1), reverse = self.aim)\n"
     ]
    },
    {
     "name": "stdout",
     "output_type": "stream",
     "text": [
      "Checkpoint 100, Accuracy: 0.9629629629629629, Loss: 0.3341572019788954\n",
      "Checkpoint 200, Accuracy: 0.9567901234567902, Loss: 0.30576126663773145\n",
      "Checkpoint 300, Accuracy: 0.9629629629629629, Loss: 0.27386010134661637\n",
      "Checkpoint 400, Accuracy: 0.9629629629629629, Loss: 0.2414497799343533\n",
      "Checkpoint 500, Accuracy: 0.9629629629629629, Loss: 0.2146938995078758\n"
     ]
    }
   ],
   "source": [
    "# learning phase\n",
    "breakpoint = 100\n",
    "checkpoints = list()\n",
    "history = list()\n",
    "for century in range(0, EPOCHS, breakpoint):\n",
    "    sub_history = model.fit(x_train, y_train, breakpoint, verbose = 0)\n",
    "    score = model.evaluate(x_test, y_test, False, verbose = 0)\n",
    "    print('Checkpoint {}, Accuracy: {}, Loss: {}'.format(century+breakpoint, score['accuracy'], score[model.loss_fn]))\n",
    "    score['checkpoint'] = century + breakpoint\n",
    "    checkpoints.append(score)\n",
    "    history.extend(sub_history)\n",
    "    "
   ]
  },
  {
   "cell_type": "code",
   "execution_count": 10,
   "metadata": {},
   "outputs": [],
   "source": [
    "import matplotlib.pyplot as plt\n",
    "\n",
    "def draw_plot(x, y_list, x_label=None, y_label=None, legend=None, title=None):\n",
    "    fig, ax = plt.subplots(figsize=(12,5))\n",
    "    for xi, yi in zip(x, y_list):\n",
    "        ax.plot(xi, yi)\n",
    "    if x_label is not None and y_label is not None:\n",
    "        ax.set(xlabel=x_label, ylabel=y_label, title='{} VS {}'.format(x_label, y_label))\n",
    "    if legend is not None:\n",
    "        ax.legend(legend)\n",
    "    ax.grid()\n",
    "    plt.show()"
   ]
  },
  {
   "cell_type": "code",
   "execution_count": 11,
   "metadata": {},
   "outputs": [
    {
     "name": "stdout",
     "output_type": "stream",
     "text": [
      "[1. 0. 0.] <-> [0.82632357 0.01094304 0.16273333]\n",
      "[1. 0. 0.] <-> [0.9548864  0.0350502  0.01006334]\n",
      "[0. 1. 0.] <-> [5.6475304e-02 9.4321221e-01 3.1250971e-04]\n",
      "[1. 0. 0.] <-> [0.9605202  0.0181553  0.02132447]\n",
      "[0. 0. 1.] <-> [0.22560084 0.04070017 0.73369896]\n",
      "[0. 0. 1.] <-> [0.08022963 0.00189295 0.9178774 ]\n",
      "[1. 0. 0.] <-> [0.83266133 0.13825417 0.0290846 ]\n",
      "[0. 0. 1.] <-> [0.44669235 0.00918711 0.5441205 ]\n",
      "[1. 0. 0.] <-> [0.90753156 0.01543994 0.07702855]\n",
      "[1. 0. 0.] <-> [0.8381014  0.14072579 0.02117283]\n",
      "[1. 0. 0.] <-> [0.9536405  0.01589717 0.03046234]\n",
      "[1. 0. 0.] <-> [0.9277222  0.02079913 0.05147861]\n",
      "[0. 0. 1.] <-> [0.08332868 0.00212475 0.91454655]\n",
      "[1. 0. 0.] <-> [0.8032257  0.16364212 0.03313219]\n",
      "[1. 0. 0.] <-> [0.95941824 0.01850186 0.02207985]\n",
      "[1. 0. 0.] <-> [0.85995054 0.01100522 0.12904423]\n",
      "[0. 0. 1.] <-> [0.13774729 0.00328649 0.8589663 ]\n",
      "[1. 0. 0.] <-> [0.92086643 0.01974704 0.05938653]\n",
      "[1. 0. 0.] <-> [0.47940955 0.49469188 0.02589858]\n",
      "[0. 1. 0.] <-> [0.09049136 0.90845126 0.00105736]\n",
      "[0. 1. 0.] <-> [0.06223415 0.93679786 0.00096798]\n",
      "[0. 1. 0.] <-> [0.5010998  0.3704621  0.12843807]\n",
      "[1. 0. 0.] <-> [0.9501165  0.01289848 0.03698508]\n",
      "[1. 0. 0.] <-> [0.78833485 0.15312785 0.0585373 ]\n",
      "[1. 0. 0.] <-> [0.9439674  0.03687139 0.01916125]\n",
      "[1. 0. 0.] <-> [0.9277012  0.01685821 0.05544059]\n",
      "[1. 0. 0.] <-> [0.933704   0.02260091 0.04369507]\n",
      "[1. 0. 0.] <-> [0.9249674  0.02597255 0.04906012]\n",
      "[0. 0. 1.] <-> [0.22632287 0.04012126 0.7335559 ]\n",
      "[1. 0. 0.] <-> [0.878139   0.09444823 0.02741278]\n",
      "[1. 0. 0.] <-> [0.8611502  0.0133525  0.12549728]\n",
      "[0. 1. 0.] <-> [0.14632945 0.84709173 0.00657882]\n",
      "[1. 0. 0.] <-> [0.95172244 0.02393671 0.02434092]\n",
      "[1. 0. 0.] <-> [0.87031686 0.01002595 0.11965714]\n",
      "[1. 0. 0.] <-> [0.89505124 0.00974164 0.09520708]\n",
      "[1. 0. 0.] <-> [0.9370934  0.0149962  0.04791041]\n",
      "[1. 0. 0.] <-> [0.91616434 0.0130641  0.07077149]\n",
      "[1. 0. 0.] <-> [0.95216846 0.0277134  0.02011811]\n",
      "[1. 0. 0.] <-> [0.9033979  0.01026239 0.08633963]\n",
      "[0. 0. 1.] <-> [0.08368852 0.00196444 0.9143471 ]\n",
      "[1. 0. 0.] <-> [0.9141871  0.01532758 0.07048535]\n",
      "[1. 0. 0.] <-> [0.7952852  0.01529955 0.18941516]\n",
      "[1. 0. 0.] <-> [0.5982612  0.00895311 0.39278576]\n",
      "[1. 0. 0.] <-> [0.63757765 0.00934211 0.35308024]\n",
      "[1. 0. 0.] <-> [0.8302456  0.01005134 0.15970309]\n",
      "[0. 1. 0.] <-> [0.43750796 0.55690503 0.00558697]\n",
      "[1. 0. 0.] <-> [0.93234324 0.02751816 0.04013866]\n",
      "[1. 0. 0.] <-> [0.91452026 0.03613856 0.04934119]\n",
      "[1. 0. 0.] <-> [0.9175246  0.01604899 0.06642646]\n",
      "[1. 0. 0.] <-> [0.5571544  0.00743678 0.4354088 ]\n",
      "[1. 0. 0.] <-> [0.92370117 0.04187538 0.03442346]\n",
      "[0. 1. 0.] <-> [6.487284e-02 9.343691e-01 7.581085e-04]\n",
      "[0. 1. 0.] <-> [0.2381954  0.73188925 0.02991533]\n",
      "[0. 0. 1.] <-> [0.79955184 0.00830413 0.19214398]\n",
      "[1. 0. 0.] <-> [0.92240244 0.05166719 0.02593039]\n",
      "[0. 1. 0.] <-> [6.2349595e-02 9.3728238e-01 3.6801450e-04]\n",
      "[1. 0. 0.] <-> [0.8897352  0.0098782  0.10038657]\n",
      "[1. 0. 0.] <-> [0.9505131  0.0151875  0.03429941]\n",
      "[0. 1. 0.] <-> [5.8927301e-02 9.4068086e-01 3.9179169e-04]\n",
      "[0. 0. 1.] <-> [0.23227234 0.00415492 0.76357275]\n",
      "[1. 0. 0.] <-> [0.8854561  0.01259376 0.10195027]\n",
      "[1. 0. 0.] <-> [0.91858196 0.01379028 0.06762768]\n",
      "[0. 1. 0.] <-> [0.14633757 0.84908736 0.00457508]\n",
      "[1. 0. 0.] <-> [0.95384675 0.02501108 0.02114213]\n",
      "[0. 0. 1.] <-> [0.09255864 0.00271911 0.9047222 ]\n",
      "[0. 1. 0.] <-> [0.07261594 0.9203948  0.0069893 ]\n",
      "[1. 0. 0.] <-> [0.89021    0.01173993 0.09805016]\n",
      "[0. 0. 1.] <-> [0.08076716 0.00190243 0.91733044]\n",
      "[1. 0. 0.] <-> [0.91341007 0.02067    0.06591996]\n",
      "[1. 0. 0.] <-> [0.9045035  0.01084802 0.08464856]\n",
      "[1. 0. 0.] <-> [0.9009008  0.01136543 0.08773369]\n",
      "[1. 0. 0.] <-> [0.86915374 0.01002389 0.12082241]\n",
      "[1. 0. 0.] <-> [0.8546339  0.00896886 0.13639726]\n",
      "[1. 0. 0.] <-> [0.9553652  0.02208803 0.02254684]\n",
      "[0. 0. 1.] <-> [0.8871511  0.00785855 0.10499032]\n",
      "[1. 0. 0.] <-> [0.83832777 0.15227921 0.00939301]\n",
      "[1. 0. 0.] <-> [0.9250142  0.02865112 0.04633467]\n",
      "[1. 0. 0.] <-> [0.7679142  0.01037137 0.22171438]\n",
      "[1. 0. 0.] <-> [0.92362356 0.01527727 0.06109922]\n",
      "[0. 1. 0.] <-> [0.82820266 0.06547648 0.10632088]\n",
      "[0. 0. 1.] <-> [0.08215736 0.00193232 0.9159103 ]\n",
      "[1. 0. 0.] <-> [0.8292658  0.12846023 0.04227399]\n",
      "[1. 0. 0.] <-> [0.90671706 0.01169747 0.08158543]\n",
      "[1. 0. 0.] <-> [0.9065291  0.01121601 0.08225487]\n",
      "[1. 0. 0.] <-> [0.9589101  0.02469588 0.01639398]\n",
      "[0. 1. 0.] <-> [0.08677121 0.9102634  0.00296538]\n",
      "[1. 0. 0.] <-> [0.93331426 0.01490788 0.05177788]\n",
      "[1. 0. 0.] <-> [0.8639513  0.00965384 0.12639481]\n",
      "[1. 0. 0.] <-> [0.9210437  0.01086537 0.06809092]\n",
      "[1. 0. 0.] <-> [0.9414356  0.01689589 0.04166856]\n",
      "[1. 0. 0.] <-> [0.8456173  0.01590047 0.13848232]\n",
      "[1. 0. 0.] <-> [0.8134524  0.15674874 0.02979888]\n",
      "[1. 0. 0.] <-> [0.9163036  0.02341238 0.06028405]\n",
      "[1. 0. 0.] <-> [0.843795   0.01018078 0.14602433]\n",
      "[1. 0. 0.] <-> [0.8563789  0.0089917  0.13462943]\n",
      "[1. 0. 0.] <-> [0.9418527  0.0519174  0.00622997]\n",
      "[1. 0. 0.] <-> [0.9167514  0.03733595 0.04591258]\n",
      "[1. 0. 0.] <-> [0.9396879  0.01459133 0.0457208 ]\n",
      "[1. 0. 0.] <-> [0.9126267  0.01435118 0.07302214]\n",
      "[1. 0. 0.] <-> [0.90278834 0.01287998 0.08433169]\n",
      "[0. 1. 0.] <-> [0.30401385 0.69270766 0.00327845]\n",
      "[1. 0. 0.] <-> [0.8511896  0.01045462 0.13835582]\n",
      "[1. 0. 0.] <-> [0.94211954 0.01722367 0.04065677]\n",
      "[1. 0. 0.] <-> [0.47663742 0.00973774 0.51362485]\n",
      "[1. 0. 0.] <-> [0.7836965  0.01333872 0.2029648 ]\n",
      "[1. 0. 0.] <-> [0.9452778  0.02307868 0.03164354]\n",
      "[1. 0. 0.] <-> [0.9230666  0.02162729 0.05530607]\n",
      "[1. 0. 0.] <-> [0.8972967  0.07334642 0.02935686]\n",
      "{'accuracy': 0.9629629629629629, 'mean_square_error': 0.09792607858776395, 'categorical_crossentropy': 0.2146938995078758, 'precision': 0.9444444444444444, 'recall': 0.9444444444444444, 'f1': 0.9444444444444444, 'essential_metrics': {0: {'tp_hit': 78, 'fp_hit': 4, 'tn_hit': 24, 'fn_hit': 2}, 1: {'tp_hit': 13, 'fp_hit': 1, 'tn_hit': 92, 'fn_hit': 2}, 2: {'tp_hit': 11, 'fp_hit': 1, 'tn_hit': 94, 'fn_hit': 2}}}\n"
     ]
    }
   ],
   "source": [
    "# recall phase\n",
    "score = model.evaluate(x_test, y_test, False)\n",
    "print(score)"
   ]
  },
  {
   "cell_type": "code",
   "execution_count": 12,
   "metadata": {},
   "outputs": [],
   "source": [
    "# Testing Performance"
   ]
  },
  {
   "cell_type": "code",
   "execution_count": 13,
   "metadata": {},
   "outputs": [
    {
     "data": {
      "image/png": "[encoded data removed]",
      "text/plain": [
       "<Figure size 864x360 with 1 Axes>"
      ]
     },
     "metadata": {
      "needs_background": "light"
     },
     "output_type": "display_data"
    },
    {
     "data": {
      "image/png": "[encoded data removed]",
      "text/plain": [
       "<Figure size 864x360 with 1 Axes>"
      ]
     },
     "metadata": {
      "needs_background": "light"
     },
     "output_type": "display_data"
    }
   ],
   "source": [
    "draw_plot(x = [[i for i in range(len(history))], [(i+1)*breakpoint for i in range(len(checkpoints))]], y_list = [history, [ ckp[model.loss_fn] for ckp in checkpoints ]], x_label = 'Epochs', \\\n",
    "    y_label = model.loss_fn, legend=['train', 'test'])\n",
    "acc = [ ckp['accuracy'] for ckp in checkpoints ]\n",
    "draw_plot(x = [[(i+1)*breakpoint for i in range(len(checkpoints))]], y_list = [acc], x_label = 'Checkpoints', \\\n",
    "    y_label = 'accuracy')"
   ]
  },
  {
   "cell_type": "code",
   "execution_count": 14,
   "metadata": {
    "scrolled": false
   },
   "outputs": [
    {
     "name": "stdout",
     "output_type": "stream",
     "text": [
      "{'accuracy': 0.9629629629629629, 'mean_square_error': 0.1588885507748666, 'categorical_crossentropy': 0.3341572019788954, 'precision': 0.9444444444444444, 'recall': 0.9444444444444444, 'f1': 0.9444444444444444, 'essential_metrics': {0: {'tp_hit': 80, 'fp_hit': 6, 'tn_hit': 22, 'fn_hit': 0}, 1: {'tp_hit': 11, 'fp_hit': 0, 'tn_hit': 93, 'fn_hit': 4}, 2: {'tp_hit': 11, 'fp_hit': 0, 'tn_hit': 95, 'fn_hit': 2}}, 'checkpoint': 100} \n",
      "\n",
      "\n",
      "{'accuracy': 0.9567901234567902, 'mean_square_error': 0.14335332512162088, 'categorical_crossentropy': 0.30576126663773145, 'precision': 0.9351851851851852, 'recall': 0.9351851851851852, 'f1': 0.9351851851851852, 'essential_metrics': {0: {'tp_hit': 79, 'fp_hit': 6, 'tn_hit': 22, 'fn_hit': 1}, 1: {'tp_hit': 11, 'fp_hit': 0, 'tn_hit': 93, 'fn_hit': 4}, 2: {'tp_hit': 11, 'fp_hit': 1, 'tn_hit': 94, 'fn_hit': 2}}, 'checkpoint': 200} \n",
      "\n",
      "\n",
      "{'accuracy': 0.9629629629629629, 'mean_square_error': 0.12780040086832162, 'categorical_crossentropy': 0.27386010134661637, 'precision': 0.9444444444444444, 'recall': 0.9444444444444444, 'f1': 0.9444444444444444, 'essential_metrics': {0: {'tp_hit': 79, 'fp_hit': 5, 'tn_hit': 23, 'fn_hit': 1}, 1: {'tp_hit': 12, 'fp_hit': 0, 'tn_hit': 93, 'fn_hit': 3}, 2: {'tp_hit': 11, 'fp_hit': 1, 'tn_hit': 94, 'fn_hit': 2}}, 'checkpoint': 300} \n",
      "\n",
      "\n",
      "{'accuracy': 0.9629629629629629, 'mean_square_error': 0.11141398914643659, 'categorical_crossentropy': 0.2414497799343533, 'precision': 0.9444444444444444, 'recall': 0.9444444444444444, 'f1': 0.9444444444444444, 'essential_metrics': {0: {'tp_hit': 79, 'fp_hit': 5, 'tn_hit': 23, 'fn_hit': 1}, 1: {'tp_hit': 12, 'fp_hit': 0, 'tn_hit': 93, 'fn_hit': 3}, 2: {'tp_hit': 11, 'fp_hit': 1, 'tn_hit': 94, 'fn_hit': 2}}, 'checkpoint': 400} \n",
      "\n",
      "\n",
      "{'accuracy': 0.9629629629629629, 'mean_square_error': 0.09792607858776395, 'categorical_crossentropy': 0.2146938995078758, 'precision': 0.9444444444444444, 'recall': 0.9444444444444444, 'f1': 0.9444444444444444, 'essential_metrics': {0: {'tp_hit': 78, 'fp_hit': 4, 'tn_hit': 24, 'fn_hit': 2}, 1: {'tp_hit': 13, 'fp_hit': 1, 'tn_hit': 92, 'fn_hit': 2}, 2: {'tp_hit': 11, 'fp_hit': 1, 'tn_hit': 94, 'fn_hit': 2}}, 'checkpoint': 500} \n",
      "\n",
      "\n"
     ]
    }
   ],
   "source": [
    "for checkpoint in checkpoints:\n",
    "    print(checkpoint, '\\n\\n')"
   ]
  },
  {
   "cell_type": "code",
   "execution_count": 15,
   "metadata": {},
   "outputs": [
    {
     "name": "stdout",
     "output_type": "stream",
     "text": [
      "Layer 1\n",
      "Neuron 0: weights:\n",
      "[ 2.7674396  -1.7851895   0.7327885   2.7431345   0.11236757]\n",
      " bias: -2.0860745906829834\n",
      "\n",
      "Neuron 1: weights:\n",
      "[-2.2459342   2.649526    1.9054086  -2.3059044   0.20640492]\n",
      " bias: -2.415299654006958\n",
      "\n",
      "Neuron 2: weights:\n",
      "[ 1.9607925  0.5503293  2.009703  -0.8866938 -1.8594755]\n",
      " bias: -1.7156816720962524\n",
      "\n",
      "Neuron 3: weights:\n",
      "[ 1.5379667 -2.997203   1.3801688 -2.1733577  1.0714383]\n",
      " bias: 0.40622761845588684\n",
      "\n",
      "$\n",
      "Layer 2\n",
      "Neuron 0: weights:\n",
      "[-3.        -2.3636336  1.1837504  1.2492952]\n",
      " bias: 1.0128287076950073\n",
      "\n",
      "Neuron 1: weights:\n",
      "[-1.7547836  3.         1.2068777 -1.2382666]\n",
      " bias: -1.4905768632888794\n",
      "\n",
      "Neuron 2: weights:\n",
      "[ 1.7448279   0.07359798 -2.697588    2.7850678 ]\n",
      " bias: -2.823237419128418\n",
      "\n",
      "$\n",
      "\n"
     ]
    }
   ],
   "source": [
    "print(model)"
   ]
  }
 ],
 "metadata": {
  "kernelspec": {
   "display_name": "Python 3",
   "language": "python",
   "name": "python3"
  },
  "language_info": {
   "codemirror_mode": {
    "name": "ipython",
    "version": 3
   },
   "file_extension": ".py",
   "mimetype": "text/x-python",
   "name": "python",
   "nbconvert_exporter": "python",
   "pygments_lexer": "ipython3",
   "version": "3.6.10"
  }
 },
 "nbformat": 4,
 "nbformat_minor": 2
}
