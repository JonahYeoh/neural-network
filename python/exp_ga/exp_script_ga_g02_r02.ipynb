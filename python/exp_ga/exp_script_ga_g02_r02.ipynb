{
 "cells": [
  {
   "cell_type": "code",
   "execution_count": null,
   "metadata": {},
   "outputs": [],
   "source": []
  },
  {
   "cell_type": "code",
   "execution_count": 1,
   "metadata": {},
   "outputs": [],
   "source": [
    "# dependency\n",
    "import numpy as np\n",
    "import pandas as pd\n",
    "import copy\n",
    "import math\n",
    "import sys\n",
    "import os\n",
    "from activations import relu, leaky_relu, sigmoid, tanh, softmax, d_sigmoid, d_relu\n",
    "from initializers import glorot_uniform, random_normal, random_uniform\n",
    "from regularizers import l1_regularizer, l2_regularizer\n",
    "from utility import trim_tail, multiply, subtract, get_nparams, one_hot_encoding, get_data\n",
    "from metrics import MSE, CCE, ACC, PRECISION, RECALL, essential_metrics, wondering_penalty, close_gap_penalty\n",
    "from pso import PSO\n",
    "from ga import GA\n",
    "from nn import Network\n",
    "from layer import DenseLayer\n",
    "from scalers import MinMaxScaler, StandardScaler"
   ]
  },
  {
   "cell_type": "code",
   "execution_count": 2,
   "metadata": {},
   "outputs": [],
   "source": [
    "# reference\n",
    "metrics_fn_dict = dict()\n",
    "metrics_fn_dict['accuracy'] = ACC\n",
    "metrics_fn_dict['categorical_crossentropy'] = CCE\n",
    "metrics_fn_dict['mean_square_error'] = MSE\n",
    "metrics_fn_dict['precision'] = PRECISION\n",
    "metrics_fn_dict['recall'] = RECALL\n",
    "metrics_fn_dict['essential_metrics'] = essential_metrics"
   ]
  },
  {
   "cell_type": "code",
   "execution_count": 3,
   "metadata": {},
   "outputs": [],
   "source": [
    "# model\n",
    "model = Network(5, lr = None)\n",
    "model.add_layer(DenseLayer(1, 4, True, afn=sigmoid, dafn=None, rfn=None))\n",
    "model.add_layer(DenseLayer(2, 3, True, afn=softmax, dafn=None, rfn=None))"
   ]
  },
  {
   "cell_type": "code",
   "execution_count": 4,
   "metadata": {},
   "outputs": [],
   "source": [
    "# optimizer\n",
    "ga = GA(\n",
    "    dict(\n",
    "        m = 75,\n",
    "        x_rate = 0.5,\n",
    "        m_rate = 0.6,\n",
    "        weight_constraint = [-3.,3.],\n",
    "        radioactive_rating = 0.5,\n",
    "        grow_factor = 0.5,\n",
    "        scale_hyperparameter = False))"
   ]
  },
  {
   "cell_type": "code",
   "execution_count": 5,
   "metadata": {},
   "outputs": [
    {
     "name": "stdout",
     "output_type": "stream",
     "text": [
      "building layer 1 with 5\n",
      "24\n",
      "building layer 2 with 4\n",
      "15\n"
     ]
    }
   ],
   "source": [
    "model.compile(loss_fn = 'categorical_crossentropy', optimizer = ga, \\\n",
    "    metrics = ['accuracy', 'mean_square_error', 'categorical_crossentropy', 'precision', 'recall', 'f1'])"
   ]
  },
  {
   "cell_type": "code",
   "execution_count": 6,
   "metadata": {},
   "outputs": [
    {
     "name": "stdout",
     "output_type": "stream",
     "text": [
      "<class 'pandas.core.frame.DataFrame'>\n",
      "RangeIndex: 107 entries, 0 to 106\n",
      "Data columns (total 6 columns):\n",
      " #   Column  Non-Null Count  Dtype  \n",
      "---  ------  --------------  -----  \n",
      " 0   f1      107 non-null    float32\n",
      " 1   f2      107 non-null    float32\n",
      " 2   f3      107 non-null    float32\n",
      " 3   f4      107 non-null    float32\n",
      " 4   f5      107 non-null    float32\n",
      " 5   label   107 non-null    float32\n",
      "dtypes: float32(6)\n",
      "memory usage: 2.6 KB\n",
      "None\n",
      "<class 'pandas.core.frame.DataFrame'>\n",
      "RangeIndex: 108 entries, 0 to 107\n",
      "Data columns (total 6 columns):\n",
      " #   Column  Non-Null Count  Dtype  \n",
      "---  ------  --------------  -----  \n",
      " 0   f1      108 non-null    float32\n",
      " 1   f2      108 non-null    float32\n",
      " 2   f3      108 non-null    float32\n",
      " 3   f4      108 non-null    float32\n",
      " 4   f5      108 non-null    float32\n",
      " 5   label   108 non-null    float32\n",
      "dtypes: float32(6)\n",
      "memory usage: 2.7 KB\n",
      "None\n"
     ]
    }
   ],
   "source": [
    "# data loading\n",
    "DATA = os.path.join('c:\\\\Users\\\\tcumi\\\\github_repo\\\\neural-network\\\\', 'dataset')\n",
    "GROUP = 2\n",
    "COLUMNS = ['f1', 'f2', 'f3', 'f4', 'f5', 'label']\n",
    "N_CLASS = 3\n",
    "EPOCHS = 500\n",
    "train_dir, test_dir = \"..//dataset//training_data{}.txt\".format(GROUP), \"..//dataset//testing_data{}.txt\".format(GROUP)\n",
    "train, test = get_data(DATA, train_dir, COLUMNS), get_data(DATA, test_dir, COLUMNS)\n",
    "# shuffle\n",
    "train, test = train.sample(frac=1), test.sample(frac=1)\n",
    "x_train, y_train = train.drop('label', axis=1), train['label']\n",
    "x_test, y_test = test.drop('label', axis=1), test['label']"
   ]
  },
  {
   "cell_type": "code",
   "execution_count": 7,
   "metadata": {},
   "outputs": [],
   "source": [
    "# data scaling and encoding\n",
    "scaler = StandardScaler(['f1', 'f2', 'f3', 'f4', 'f5'])\n",
    "scaler.fit(x_train)\n",
    "x_train = scaler.transform(x_train)\n",
    "x_test = scaler.transform(x_test)\n",
    "y_train = one_hot_encoding(y_train, N_CLASS)\n",
    "y_test = one_hot_encoding(y_test, N_CLASS)"
   ]
  },
  {
   "cell_type": "code",
   "execution_count": 8,
   "metadata": {
    "scrolled": true,
    "tags": [
     "outputPrepend"
    ]
   },
   "outputs": [
    {
     "name": "stderr",
     "output_type": "stream",
     "text": [
      "C:\\Users\\tcumi\\github_repo\\neural-network\\python\\ga.py:189: RuntimeWarning: overflow encountered in add\n",
      "  self.population.sort(key=lambda p: p.fitness + np.random.uniform(-shift, shift, 1), reverse = self.aim)\n",
      "C:\\Users\\tcumi\\github_repo\\neural-network\\python\\activations.py:14: RuntimeWarning: overflow encountered in exp\n",
      "  y = 1 / (1 + np.exp(-Xi))\n"
     ]
    },
    {
     "name": "stdout",
     "output_type": "stream",
     "text": [
      "Checkpoint 100, Accuracy: 0.8580246913580247, Loss: 0.5823559937653718\n",
      "Checkpoint 200, Accuracy: 0.8580246913580247, Loss: 0.5701082724112051\n",
      "Checkpoint 300, Accuracy: 0.8703703703703703, Loss: 0.5718291953757957\n",
      "Checkpoint 400, Accuracy: 0.8703703703703703, Loss: 0.5639790429009331\n",
      "Checkpoint 500, Accuracy: 0.8703703703703703, Loss: 0.563625900833695\n"
     ]
    }
   ],
   "source": [
    "# learning phase\n",
    "breakpoint = 100\n",
    "checkpoints = list()\n",
    "history = list()\n",
    "for century in range(0, EPOCHS, breakpoint):\n",
    "    sub_history = model.fit(x_train, y_train, breakpoint, verbose = 0)\n",
    "    score = model.evaluate(x_test, y_test, False, verbose = 0)\n",
    "    print('Checkpoint {}, Accuracy: {}, Loss: {}'.format(century+breakpoint, score['accuracy'], score[model.loss_fn]))\n",
    "    score['checkpoint'] = century + breakpoint\n",
    "    checkpoints.append(score)\n",
    "    history.extend(sub_history)"
   ]
  },
  {
   "cell_type": "code",
   "execution_count": 9,
   "metadata": {},
   "outputs": [],
   "source": [
    "import matplotlib.pyplot as plt\n",
    "\n",
    "def draw_plot(x, y_list, x_label=None, y_label=None, legend=None):\n",
    "    fig, ax = plt.subplots(figsize=(12,5))\n",
    "    for y in y_list:\n",
    "        ax.plot(x, y)\n",
    "    if x_label is not None and y_label is not None:\n",
    "        title = '{} VS {}'.format(x_label, y_label)\n",
    "        ax.set(xlabel=x_label, ylabel=y_label, title=title)\n",
    "    if legend is not None:\n",
    "        ax.legend(legend)\n",
    "    ax.grid()\n",
    "    plt.show()"
   ]
  },
  {
   "cell_type": "code",
   "execution_count": 10,
   "metadata": {},
   "outputs": [
    {
     "data": {
      "image/png": "[encoded data removed]",
      "text/plain": [
       "<Figure size 864x360 with 1 Axes>"
      ]
     },
     "metadata": {
      "needs_background": "light"
     },
     "output_type": "display_data"
    }
   ],
   "source": [
    "draw_plot(x = [i for i in range(len(history))], y_list = [history], x_label = 'Epochs', \\\n",
    "    y_label = model.loss_fn)"
   ]
  },
  {
   "cell_type": "code",
   "execution_count": 11,
   "metadata": {},
   "outputs": [
    {
     "name": "stdout",
     "output_type": "stream",
     "text": [
      "[1. 0. 0.] <-> [[0.6221541 ]\n",
      " [0.26957154]\n",
      " [0.10827437]]\n",
      "[1. 0. 0.] <-> [[0.59409964]\n",
      " [0.21146505]\n",
      " [0.19443531]]\n",
      "[1. 0. 0.] <-> [[0.9052905 ]\n",
      " [0.06133026]\n",
      " [0.03337924]]\n",
      "[1. 0. 0.] <-> [[0.9081732 ]\n",
      " [0.05955714]\n",
      " [0.03226959]]\n",
      "[1. 0. 0.] <-> [[0.91309476]\n",
      " [0.05650566]\n",
      " [0.03039955]]\n",
      "[1. 0. 0.] <-> [[0.8955486 ]\n",
      " [0.06756054]\n",
      " [0.03689082]]\n",
      "[1. 0. 0.] <-> [[0.57447076]\n",
      " [0.2057249 ]\n",
      " [0.21980435]]\n",
      "[1. 0. 0.] <-> [[0.35373503]\n",
      " [0.3246733 ]\n",
      " [0.32159162]]\n",
      "[1. 0. 0.] <-> [[0.91173106]\n",
      " [0.05734679]\n",
      " [0.03092213]]\n",
      "[1. 0. 0.] <-> [[0.9029277 ]\n",
      " [0.06276952]\n",
      " [0.03430285]]\n",
      "[0. 1. 0.] <-> [[0.8849132 ]\n",
      " [0.07481093]\n",
      " [0.04027592]]\n",
      "[1. 0. 0.] <-> [[0.91340965]\n",
      " [0.05631233]\n",
      " [0.03027813]]\n",
      "[1. 0. 0.] <-> [[0.91345143]\n",
      " [0.05628669]\n",
      " [0.03026198]]\n",
      "[1. 0. 0.] <-> [[0.9082899 ]\n",
      " [0.05948471]\n",
      " [0.03222544]]\n",
      "[1. 0. 0.] <-> [[0.90936744]\n",
      " [0.05881444]\n",
      " [0.03181814]]\n",
      "[1. 0. 0.] <-> [[0.9083206 ]\n",
      " [0.05946553]\n",
      " [0.03221377]]\n",
      "[1. 0. 0.] <-> [[0.9108956 ]\n",
      " [0.05786453]\n",
      " [0.03123993]]\n",
      "[0. 0. 1.] <-> [[0.00983001]\n",
      " [0.44985077]\n",
      " [0.54031926]]\n",
      "[0. 0. 1.] <-> [[0.00683154]\n",
      " [0.436071  ]\n",
      " [0.55709743]]\n",
      "[0. 0. 1.] <-> [[0.00210376]\n",
      " [0.38756087]\n",
      " [0.61033535]]\n",
      "[1. 0. 0.] <-> [[0.9148825 ]\n",
      " [0.05541237]\n",
      " [0.02970518]]\n",
      "[0. 1. 0.] <-> [[0.01703454]\n",
      " [0.4680811 ]\n",
      " [0.5148844 ]]\n",
      "[1. 0. 0.] <-> [[0.91256183]\n",
      " [0.05683374]\n",
      " [0.03060442]]\n",
      "[1. 0. 0.] <-> [[0.3403166 ]\n",
      " [0.33230972]\n",
      " [0.32737374]]\n",
      "[0. 1. 0.] <-> [[0.5531162 ]\n",
      " [0.21627045]\n",
      " [0.23061332]]\n",
      "[1. 0. 0.] <-> [[0.8898872 ]\n",
      " [0.07139436]\n",
      " [0.03871843]]\n",
      "[1. 0. 0.] <-> [[0.76111025]\n",
      " [0.16437653]\n",
      " [0.0745132 ]]\n",
      "[1. 0. 0.] <-> [[0.90263134]\n",
      " [0.06295294]\n",
      " [0.03441581]]\n",
      "[1. 0. 0.] <-> [[0.90649444]\n",
      " [0.06059502]\n",
      " [0.03291052]]\n",
      "[1. 0. 0.] <-> [[0.9001428 ]\n",
      " [0.06453049]\n",
      " [0.03532671]]\n",
      "[0. 0. 1.] <-> [[0.00208229]\n",
      " [0.38712823]\n",
      " [0.61078954]]\n",
      "[1. 0. 0.] <-> [[0.9124532 ]\n",
      " [0.05690071]\n",
      " [0.03064607]]\n",
      "[1. 0. 0.] <-> [[0.90226454]\n",
      " [0.06318129]\n",
      " [0.03455421]]\n",
      "[1. 0. 0.] <-> [[0.60240495]\n",
      " [0.20131107]\n",
      " [0.19628397]]\n",
      "[1. 0. 0.] <-> [[0.6038587 ]\n",
      " [0.19511768]\n",
      " [0.2010236 ]]\n",
      "[1. 0. 0.] <-> [[0.9105279 ]\n",
      " [0.05809275]\n",
      " [0.03137931]]\n",
      "[1. 0. 0.] <-> [[0.9136097 ]\n",
      " [0.05618962]\n",
      " [0.03020077]]\n",
      "[1. 0. 0.] <-> [[0.9141783 ]\n",
      " [0.0558416 ]\n",
      " [0.02998015]]\n",
      "[0. 1. 0.] <-> [[0.56592846]\n",
      " [0.24124838]\n",
      " [0.19282314]]\n",
      "[1. 0. 0.] <-> [[0.90960616]\n",
      " [0.05866589]\n",
      " [0.03172797]]\n",
      "[1. 0. 0.] <-> [[0.91111434]\n",
      " [0.05772878]\n",
      " [0.03115685]]\n",
      "[1. 0. 0.] <-> [[0.59923595]\n",
      " [0.1954391 ]\n",
      " [0.20532496]]\n",
      "[1. 0. 0.] <-> [[0.5251238]\n",
      " [0.2307103]\n",
      " [0.2441659]]\n",
      "[0. 0. 1.] <-> [[0.13578881]\n",
      " [0.4499785 ]\n",
      " [0.41423267]]\n",
      "[0. 0. 1.] <-> [[0.910622  ]\n",
      " [0.05803432]\n",
      " [0.03134366]]\n",
      "[0. 1. 0.] <-> [[0.00742254]\n",
      " [0.43929723]\n",
      " [0.55328023]]\n",
      "[1. 0. 0.] <-> [[0.44603425]\n",
      " [0.37920862]\n",
      " [0.17475717]]\n",
      "[1. 0. 0.] <-> [[0.5714051 ]\n",
      " [0.20719631]\n",
      " [0.2213986 ]]\n",
      "[0. 0. 1.] <-> [[0.8951753 ]\n",
      " [0.0678108 ]\n",
      " [0.03701386]]\n",
      "[0. 1. 0.] <-> [[0.3880775 ]\n",
      " [0.30529186]\n",
      " [0.3066306 ]]\n",
      "[1. 0. 0.] <-> [[0.45401508]\n",
      " [0.3923378 ]\n",
      " [0.15364705]]\n",
      "[0. 0. 1.] <-> [[0.01644874]\n",
      " [0.4670488 ]\n",
      " [0.51650244]]\n",
      "[0. 1. 0.] <-> [[0.02147775]\n",
      " [0.4743415 ]\n",
      " [0.5041807 ]]\n",
      "[1. 0. 0.] <-> [[0.91344786]\n",
      " [0.0562888 ]\n",
      " [0.03026331]]\n",
      "[1. 0. 0.] <-> [[0.9003947 ]\n",
      " [0.06436805]\n",
      " [0.03523721]]\n",
      "[1. 0. 0.] <-> [[0.9077871 ]\n",
      " [0.0597968 ]\n",
      " [0.03241606]]\n",
      "[1. 0. 0.] <-> [[0.9092313 ]\n",
      " [0.0588991 ]\n",
      " [0.03186954]]\n",
      "[1. 0. 0.] <-> [[0.599649  ]\n",
      " [0.19533634]\n",
      " [0.20501468]]\n",
      "[1. 0. 0.] <-> [[0.5358523 ]\n",
      " [0.2727252 ]\n",
      " [0.19142242]]\n",
      "[1. 0. 0.] <-> [[0.58724856]\n",
      " [0.19987977]\n",
      " [0.21287161]]\n",
      "[1. 0. 0.] <-> [[0.7150153 ]\n",
      " [0.19892557]\n",
      " [0.08605915]]\n",
      "[0. 0. 1.] <-> [[0.2446335 ]\n",
      " [0.38758707]\n",
      " [0.3677794 ]]\n",
      "[1. 0. 0.] <-> [[0.576822  ]\n",
      " [0.22992402]\n",
      " [0.19325393]]\n",
      "[1. 0. 0.] <-> [[0.9125166 ]\n",
      " [0.05686162]\n",
      " [0.03062176]]\n",
      "[1. 0. 0.] <-> [[0.6433139 ]\n",
      " [0.25339493]\n",
      " [0.10329118]]\n",
      "[1. 0. 0.] <-> [[0.90682167]\n",
      " [0.06039375]\n",
      " [0.03278458]]\n",
      "[1. 0. 0.] <-> [[0.44523922]\n",
      " [0.39614022]\n",
      " [0.15862058]]\n",
      "[1. 0. 0.] <-> [[0.38454968]\n",
      " [0.30727163]\n",
      " [0.3081787 ]]\n",
      "[0. 1. 0.] <-> [[0.44920525]\n",
      " [0.3743719 ]\n",
      " [0.1764228 ]]\n",
      "[1. 0. 0.] <-> [[0.48803625]\n",
      " [0.25038368]\n",
      " [0.26158008]]\n",
      "[1. 0. 0.] <-> [[0.9084312 ]\n",
      " [0.05939684]\n",
      " [0.03217195]]\n",
      "[1. 0. 0.] <-> [[0.9139371 ]\n",
      " [0.05598909]\n",
      " [0.03007389]]\n",
      "[0. 1. 0.] <-> [[0.01023798]\n",
      " [0.45132244]\n",
      " [0.5384395 ]]\n",
      "[1. 0. 0.] <-> [[0.9054864 ]\n",
      " [0.06121118]\n",
      " [0.03330244]]\n",
      "[1. 0. 0.] <-> [[0.91443694]\n",
      " [0.05568369]\n",
      " [0.02987938]]\n",
      "[0. 0. 1.] <-> [[0.0126133 ]\n",
      " [0.45859948]\n",
      " [0.5287872 ]]\n",
      "[0. 1. 0.] <-> [[0.6045168 ]\n",
      " [0.19567169]\n",
      " [0.19981153]]\n",
      "[1. 0. 0.] <-> [[0.56081235]\n",
      " [0.24656095]\n",
      " [0.19262673]]\n",
      "[0. 1. 0.] <-> [[0.5347051 ]\n",
      " [0.22571664]\n",
      " [0.23957826]]\n",
      "[0. 0. 1.] <-> [[0.00232397]\n",
      " [0.3917548 ]\n",
      " [0.6059212 ]]\n",
      "[1. 0. 0.] <-> [[0.91015327]\n",
      " [0.05832554]\n",
      " [0.03152111]]\n",
      "[0. 1. 0.] <-> [[0.44541073]\n",
      " [0.39609095]\n",
      " [0.15849838]]\n",
      "[0. 1. 0.] <-> [[0.91309476]\n",
      " [0.05650562]\n",
      " [0.03039952]]\n",
      "[1. 0. 0.] <-> [[0.5482552 ]\n",
      " [0.25965422]\n",
      " [0.19209056]]\n",
      "[1. 0. 0.] <-> [[0.9116616 ]\n",
      " [0.05738974]\n",
      " [0.0309486 ]]\n",
      "[1. 0. 0.] <-> [[0.90485466]\n",
      " [0.06159472]\n",
      " [0.03355063]]\n",
      "[1. 0. 0.] <-> [[0.61875963]\n",
      " [0.27216843]\n",
      " [0.10907197]]\n",
      "[1. 0. 0.] <-> [[0.9056878 ]\n",
      " [0.06108853]\n",
      " [0.03322365]]\n",
      "[1. 0. 0.] <-> [[0.9141804 ]\n",
      " [0.05584032]\n",
      " [0.02997934]]\n",
      "[1. 0. 0.] <-> [[0.90782666]\n",
      " [0.05977231]\n",
      " [0.03240106]]\n",
      "[1. 0. 0.] <-> [[0.9094341 ]\n",
      " [0.05877297]\n",
      " [0.03179296]]\n",
      "[0. 1. 0.] <-> [[0.08878459]\n",
      " [0.47336137]\n",
      " [0.43785408]]\n",
      "[1. 0. 0.] <-> [[0.6878715 ]\n",
      " [0.21946163]\n",
      " [0.09266679]]\n",
      "[1. 0. 0.] <-> [[0.8992185 ]\n",
      " [0.06513058]\n",
      " [0.03565084]]\n",
      "[1. 0. 0.] <-> [[0.8933513 ]\n",
      " [0.06903949]\n",
      " [0.03760923]]\n",
      "[0. 1. 0.] <-> [[0.5536253 ]\n",
      " [0.32189265]\n",
      " [0.12448206]]\n",
      "[1. 0. 0.] <-> [[0.910551  ]\n",
      " [0.05807839]\n",
      " [0.03137055]]\n",
      "[1. 0. 0.] <-> [[0.16488905]\n",
      " [0.43377024]\n",
      " [0.4013407 ]]\n",
      "[1. 0. 0.] <-> [[0.48513567]\n",
      " [0.32880625]\n",
      " [0.18605804]]\n",
      "[1. 0. 0.] <-> [[0.89899886]\n",
      " [0.06527413]\n",
      " [0.03572704]]\n",
      "[1. 0. 0.] <-> [[0.9122614 ]\n",
      " [0.05701903]\n",
      " [0.03071952]]\n",
      "[1. 0. 0.] <-> [[0.9077862 ]\n",
      " [0.05979738]\n",
      " [0.03241641]]\n",
      "[0. 0. 1.] <-> [[0.4355119 ]\n",
      " [0.27893755]\n",
      " [0.28555053]]\n",
      "[1. 0. 0.] <-> [[0.9105651 ]\n",
      " [0.05806968]\n",
      " [0.03136524]]\n",
      "[1. 0. 0.] <-> [[0.8324926 ]\n",
      " [0.11197295]\n",
      " [0.05553453]]\n",
      "[1. 0. 0.] <-> [[0.58691424]\n",
      " [0.20002416]\n",
      " [0.21306156]]\n",
      "[0. 0. 1.] <-> [[0.9146458 ]\n",
      " [0.05555639]\n",
      " [0.02979781]]\n",
      "[1. 0. 0.] <-> [[0.9131516 ]\n",
      " [0.05647073]\n",
      " [0.03037765]]\n",
      "{'accuracy': 0.8703703703703703, 'mean_square_error': 2.910570024055004, 'categorical_crossentropy': 0.563625900833695, 'precision': 0.8055555555555556, 'recall': 0.8055555555555556, 'f1': 0.8055555555555556, 'essential_metrics': {0: {'tp_hit': 79, 'fp_hit': 14, 'tn_hit': 14, 'fn_hit': 1}, 1: {'tp_hit': 1, 'fp_hit': 3, 'tn_hit': 90, 'fn_hit': 14}, 2: {'tp_hit': 7, 'fp_hit': 4, 'tn_hit': 91, 'fn_hit': 6}}}\n"
     ]
    },
    {
     "name": "stderr",
     "output_type": "stream",
     "text": [
      "C:\\Users\\tcumi\\github_repo\\neural-network\\python\\activations.py:14: RuntimeWarning: overflow encountered in exp\n",
      "  y = 1 / (1 + np.exp(-Xi))\n"
     ]
    }
   ],
   "source": [
    "# recall phase\n",
    "score = model.evaluate(x_test, y_test, False)\n",
    "print(score)"
   ]
  },
  {
   "cell_type": "code",
   "execution_count": 12,
   "metadata": {},
   "outputs": [],
   "source": [
    "# Testing Performance"
   ]
  },
  {
   "cell_type": "code",
   "execution_count": 13,
   "metadata": {
    "scrolled": true
   },
   "outputs": [
    {
     "name": "stdout",
     "output_type": "stream",
     "text": [
      "{'accuracy': 0.8580246913580247, 'mean_square_error': 2.8829246244167943, 'categorical_crossentropy': 0.5823559937653718, 'precision': 0.7870370370370371, 'recall': 0.7870370370370371, 'f1': 0.7870370370370371, 'essential_metrics': {0: {'tp_hit': 77, 'fp_hit': 14, 'tn_hit': 14, 'fn_hit': 3}, 1: {'tp_hit': 5, 'fp_hit': 9, 'tn_hit': 84, 'fn_hit': 10}, 2: {'tp_hit': 3, 'fp_hit': 0, 'tn_hit': 95, 'fn_hit': 10}}, 'checkpoint': 100} \n",
      "\n",
      "\n",
      "{'accuracy': 0.8580246913580247, 'mean_square_error': 2.884480213199163, 'categorical_crossentropy': 0.5701082724112051, 'precision': 0.7870370370370371, 'recall': 0.7870370370370371, 'f1': 0.7870370370370371, 'essential_metrics': {0: {'tp_hit': 78, 'fp_hit': 14, 'tn_hit': 14, 'fn_hit': 2}, 1: {'tp_hit': 0, 'fp_hit': 4, 'tn_hit': 89, 'fn_hit': 15}, 2: {'tp_hit': 7, 'fp_hit': 5, 'tn_hit': 90, 'fn_hit': 6}}, 'checkpoint': 200} \n",
      "\n",
      "\n",
      "{'accuracy': 0.8703703703703703, 'mean_square_error': 2.875122173704435, 'categorical_crossentropy': 0.5718291953757957, 'precision': 0.8055555555555556, 'recall': 0.8055555555555556, 'f1': 0.8055555555555556, 'essential_metrics': {0: {'tp_hit': 79, 'fp_hit': 14, 'tn_hit': 14, 'fn_hit': 1}, 1: {'tp_hit': 1, 'fp_hit': 3, 'tn_hit': 90, 'fn_hit': 14}, 2: {'tp_hit': 7, 'fp_hit': 4, 'tn_hit': 91, 'fn_hit': 6}}, 'checkpoint': 300} \n",
      "\n",
      "\n",
      "{'accuracy': 0.8703703703703703, 'mean_square_error': 2.9059472638247774, 'categorical_crossentropy': 0.5639790429009331, 'precision': 0.8055555555555556, 'recall': 0.8055555555555556, 'f1': 0.8055555555555556, 'essential_metrics': {0: {'tp_hit': 79, 'fp_hit': 14, 'tn_hit': 14, 'fn_hit': 1}, 1: {'tp_hit': 1, 'fp_hit': 3, 'tn_hit': 90, 'fn_hit': 14}, 2: {'tp_hit': 7, 'fp_hit': 4, 'tn_hit': 91, 'fn_hit': 6}}, 'checkpoint': 400} \n",
      "\n",
      "\n",
      "{'accuracy': 0.8703703703703703, 'mean_square_error': 2.910570024055004, 'categorical_crossentropy': 0.563625900833695, 'precision': 0.8055555555555556, 'recall': 0.8055555555555556, 'f1': 0.8055555555555556, 'essential_metrics': {0: {'tp_hit': 79, 'fp_hit': 14, 'tn_hit': 14, 'fn_hit': 1}, 1: {'tp_hit': 1, 'fp_hit': 3, 'tn_hit': 90, 'fn_hit': 14}, 2: {'tp_hit': 7, 'fp_hit': 4, 'tn_hit': 91, 'fn_hit': 6}}, 'checkpoint': 500} \n",
      "\n",
      "\n"
     ]
    }
   ],
   "source": [
    "for checkpoint in checkpoints:\n",
    "    print(checkpoint, '\\n\\n')"
   ]
  },
  {
   "cell_type": "code",
   "execution_count": 14,
   "metadata": {},
   "outputs": [
    {
     "data": {
      "image/png": "[encoded data removed]",
      "text/plain": [
       "<Figure size 864x360 with 1 Axes>"
      ]
     },
     "metadata": {
      "needs_background": "light"
     },
     "output_type": "display_data"
    }
   ],
   "source": [
    "cat_cross = [ ckp[model.loss_fn] for ckp in checkpoints ]\n",
    "draw_plot(x = [(i+1)*breakpoint for i in range(len(checkpoints))], y_list = [cat_cross], x_label = 'Checkpoints', \\\n",
    "    y_label = model.loss_fn)"
   ]
  },
  {
   "cell_type": "code",
   "execution_count": 15,
   "metadata": {},
   "outputs": [
    {
     "data": {
      "image/png": "[encoded data removed]",
      "text/plain": [
       "<Figure size 864x360 with 1 Axes>"
      ]
     },
     "metadata": {
      "needs_background": "light"
     },
     "output_type": "display_data"
    }
   ],
   "source": [
    "acc = [ ckp['accuracy'] for ckp in checkpoints ]\n",
    "draw_plot(x = [(i+1)*breakpoint for i in range(len(checkpoints))], y_list = [acc], x_label = 'Checkpoints', \\\n",
    "    y_label = 'accuracy')"
   ]
  },
  {
   "cell_type": "code",
   "execution_count": 16,
   "metadata": {},
   "outputs": [
    {
     "name": "stdout",
     "output_type": "stream",
     "text": [
      "Layer 1\n",
      "Neuron 0: weights:\n",
      "[[-1.0109212]\n",
      " [-2.8402793]\n",
      " [-3.       ]\n",
      " [ 0.7403337]\n",
      " [-2.3200576]]\n",
      " bias: [0.07189053]\n",
      "\n",
      "Neuron 1: weights:\n",
      "[[ 2.6416812 ]\n",
      " [-1.2094051 ]\n",
      " [-0.7685097 ]\n",
      " [-0.02137826]\n",
      " [-2.7736356 ]]\n",
      " bias: [3.]\n",
      "\n",
      "Neuron 2: weights:\n",
      "[[-3.       ]\n",
      " [-3.       ]\n",
      " [-2.9757686]\n",
      " [-1.2381238]\n",
      " [-3.       ]]\n",
      " bias: [-2.5971446]\n",
      "\n",
      "Neuron 3: weights:\n",
      "[[-1.4253271]\n",
      " [ 0.5112631]\n",
      " [ 1.4234108]\n",
      " [ 1.8176962]\n",
      " [-1.1930318]]\n",
      " bias: [-3.]\n",
      "\n",
      "$\n",
      "Layer 2\n",
      "Neuron 0: weights:\n",
      "[[-0.52980334]\n",
      " [ 2.0567288 ]\n",
      " [ 3.        ]\n",
      " [-2.9607651 ]]\n",
      " bias: [0.81902444]\n",
      "\n",
      "Neuron 1: weights:\n",
      "[[ 2.5484703]\n",
      " [-0.0408598]\n",
      " [-1.0739633]\n",
      " [ 1.9916272]]\n",
      " bias: [1.1000515]\n",
      "\n",
      "Neuron 2: weights:\n",
      "[[0.7238071 ]\n",
      " [0.59436   ]\n",
      " [0.04112467]\n",
      " [3.        ]]\n",
      " bias: [0.54933]\n",
      "\n",
      "$\n",
      "\n"
     ]
    }
   ],
   "source": [
    "print(model)"
   ]
  },
  {
   "cell_type": "code",
   "execution_count": null,
   "metadata": {},
   "outputs": [],
   "source": []
  }
 ],
 "metadata": {
  "kernelspec": {
   "display_name": "Python 3",
   "language": "python",
   "name": "python3"
  },
  "language_info": {
   "codemirror_mode": {
    "name": "ipython",
    "version": 3
   },
   "file_extension": ".py",
   "mimetype": "text/x-python",
   "name": "python",
   "nbconvert_exporter": "python",
   "pygments_lexer": "ipython3",
   "version": "3.6.10"
  }
 },
 "nbformat": 4,
 "nbformat_minor": 2
}
