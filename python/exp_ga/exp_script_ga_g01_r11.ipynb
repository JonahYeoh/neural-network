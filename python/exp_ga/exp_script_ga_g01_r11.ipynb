{
 "cells": [
  {
   "cell_type": "code",
   "execution_count": 1,
   "metadata": {},
   "outputs": [],
   "source": [
    "# single"
   ]
  },
  {
   "cell_type": "code",
   "execution_count": 2,
   "metadata": {},
   "outputs": [],
   "source": [
    "# dependency\n",
    "import numpy as np\n",
    "import pandas as pd\n",
    "import copy\n",
    "import math\n",
    "import sys\n",
    "import os\n",
    "from activations import relu, leaky_relu, sigmoid, tanh, softmax, d_sigmoid, d_relu\n",
    "from initializers import glorot_uniform, random_normal, random_uniform\n",
    "from regularizers import l1_regularizer, l2_regularizer\n",
    "from utility import trim_tail, multiply, subtract, get_nparams, one_hot_encoding, get_data\n",
    "from metrics import MSE, CCE, ACC, PRECISION, RECALL, essential_metrics, wondering_penalty, close_gap_penalty\n",
    "from pso import PSO\n",
    "from ga import GA\n",
    "from nn import Network\n",
    "from layer import DenseLayer\n",
    "from scalers import MinMaxScaler, StandardScaler"
   ]
  },
  {
   "cell_type": "code",
   "execution_count": 3,
   "metadata": {},
   "outputs": [],
   "source": [
    "# reference\n",
    "metrics_fn_dict = dict()\n",
    "metrics_fn_dict['accuracy'] = ACC\n",
    "metrics_fn_dict['categorical_crossentropy'] = CCE\n",
    "metrics_fn_dict['mean_square_error'] = MSE\n",
    "metrics_fn_dict['precision'] = PRECISION\n",
    "metrics_fn_dict['recall'] = RECALL\n",
    "metrics_fn_dict['essential_metrics'] = essential_metrics"
   ]
  },
  {
   "cell_type": "code",
   "execution_count": 4,
   "metadata": {},
   "outputs": [],
   "source": [
    "# model\n",
    "model = Network(5, lr = None)\n",
    "model.add_layer(DenseLayer(1, 4, True, afn=sigmoid, dafn=None, rfn=None))\n",
    "model.add_layer(DenseLayer(2, 3, True, afn=softmax, dafn=None, rfn=None))"
   ]
  },
  {
   "cell_type": "code",
   "execution_count": 5,
   "metadata": {},
   "outputs": [],
   "source": [
    "# optimizer\n",
    "ga = GA(\n",
    "    dict(\n",
    "        m = 50,\n",
    "        x_rate = [0.5, 1.0],\n",
    "        m_rate = [0.5, 1.0],\n",
    "        weight_constraint = [-3.,3.],\n",
    "        radioactive_rating = [0.1, 0.5],\n",
    "        grow_factor = [0.1, 0.5],\n",
    "        scale_hyperparameter = False,\n",
    "        regularizer = l2_regularizer))"
   ]
  },
  {
   "cell_type": "code",
   "execution_count": 6,
   "metadata": {},
   "outputs": [
    {
     "name": "stdout",
     "output_type": "stream",
     "text": [
      "building layer 1 with 5\n",
      "24\n",
      "building layer 2 with 4\n",
      "15\n"
     ]
    }
   ],
   "source": [
    "model.compile(loss_fn = 'categorical_crossentropy', optimizer = ga, \\\n",
    "    metrics = ['accuracy', 'mean_square_error', 'categorical_crossentropy', 'precision', 'recall', 'f1'])"
   ]
  },
  {
   "cell_type": "code",
   "execution_count": 7,
   "metadata": {},
   "outputs": [
    {
     "name": "stdout",
     "output_type": "stream",
     "text": [
      "<class 'pandas.core.frame.DataFrame'>\n",
      "RangeIndex: 107 entries, 0 to 106\n",
      "Data columns (total 6 columns):\n",
      " #   Column  Non-Null Count  Dtype  \n",
      "---  ------  --------------  -----  \n",
      " 0   f1      107 non-null    float32\n",
      " 1   f2      107 non-null    float32\n",
      " 2   f3      107 non-null    float32\n",
      " 3   f4      107 non-null    float32\n",
      " 4   f5      107 non-null    float32\n",
      " 5   label   107 non-null    float32\n",
      "dtypes: float32(6)\n",
      "memory usage: 2.6 KB\n",
      "None\n",
      "<class 'pandas.core.frame.DataFrame'>\n",
      "RangeIndex: 108 entries, 0 to 107\n",
      "Data columns (total 6 columns):\n",
      " #   Column  Non-Null Count  Dtype  \n",
      "---  ------  --------------  -----  \n",
      " 0   f1      108 non-null    float32\n",
      " 1   f2      108 non-null    float32\n",
      " 2   f3      108 non-null    float32\n",
      " 3   f4      108 non-null    float32\n",
      " 4   f5      108 non-null    float32\n",
      " 5   label   108 non-null    float32\n",
      "dtypes: float32(6)\n",
      "memory usage: 2.7 KB\n",
      "None\n"
     ]
    }
   ],
   "source": [
    "# data loading\n",
    "DATA = os.path.join('c:\\\\Users\\\\tcumi\\\\github_repo\\\\neural-network\\\\', 'dataset')\n",
    "GROUP = 1\n",
    "COLUMNS = ['f1', 'f2', 'f3', 'f4', 'f5', 'label']\n",
    "N_CLASS = 3\n",
    "EPOCHS = 500\n",
    "train_dir, test_dir = \"..//dataset//training_data{}.txt\".format(GROUP), \"..//dataset//testing_data{}.txt\".format(GROUP)\n",
    "train, test = get_data(DATA, train_dir, COLUMNS), get_data(DATA, test_dir, COLUMNS)\n",
    "# shuffle\n",
    "train, test = train.sample(frac=1), test.sample(frac=1)\n",
    "x_train, y_train = train.drop('label', axis=1), train['label']\n",
    "x_test, y_test = test.drop('label', axis=1), test['label']"
   ]
  },
  {
   "cell_type": "code",
   "execution_count": 8,
   "metadata": {},
   "outputs": [],
   "source": [
    "# data scaling and encoding\n",
    "scaler = StandardScaler(['f1', 'f2', 'f3', 'f4', 'f5'])\n",
    "scaler.fit(x_train)\n",
    "x_train = scaler.transform(x_train)\n",
    "x_test = scaler.transform(x_test)\n",
    "y_train = one_hot_encoding(y_train, N_CLASS)\n",
    "y_test = one_hot_encoding(y_test, N_CLASS)"
   ]
  },
  {
   "cell_type": "code",
   "execution_count": 9,
   "metadata": {
    "scrolled": true,
    "tags": [
     "outputPrepend"
    ]
   },
   "outputs": [
    {
     "name": "stderr",
     "output_type": "stream",
     "text": [
      "C:\\Users\\tcumi\\Anaconda3\\envs\\py_3_6\\lib\\site-packages\\numpy\\core\\fromnumeric.py:87: VisibleDeprecationWarning: Creating an ndarray from ragged nested sequences (which is a list-or-tuple of lists-or-tuples-or ndarrays with different lengths or shapes) is deprecated. If you meant to do this, you must specify 'dtype=object' when creating the ndarray\n",
      "  return ufunc.reduce(obj, axis, dtype, out, **passkwargs)\n",
      "C:\\Users\\tcumi\\github_repo\\neural-network\\python\\ga.py:201: RuntimeWarning: overflow encountered in add\n",
      "  self.population.sort(key=lambda p: p.fitness + np.random.uniform(-shift, shift, 1), reverse = self.aim)\n",
      "C:\\Users\\tcumi\\Anaconda3\\envs\\py_3_6\\lib\\site-packages\\numpy\\core\\_asarray.py:136: VisibleDeprecationWarning: Creating an ndarray from ragged nested sequences (which is a list-or-tuple of lists-or-tuples-or ndarrays with different lengths or shapes) is deprecated. If you meant to do this, you must specify 'dtype=object' when creating the ndarray\n",
      "  return array(a, dtype, copy=False, order=order, subok=True)\n"
     ]
    },
    {
     "name": "stdout",
     "output_type": "stream",
     "text": [
      "Checkpoint 100, Accuracy: 0.9012345679012346, Loss: 0.507370736863878\n",
      "Checkpoint 200, Accuracy: 0.9012345679012346, Loss: 0.44624625311957467\n",
      "Checkpoint 300, Accuracy: 0.9382716049382716, Loss: 0.40255829139992044\n",
      "Checkpoint 400, Accuracy: 0.9444444444444444, Loss: 0.3779613353587963\n",
      "Checkpoint 500, Accuracy: 0.9444444444444444, Loss: 0.3852871435659903\n"
     ]
    }
   ],
   "source": [
    "# learning phase\n",
    "breakpoint = 100\n",
    "checkpoints = list()\n",
    "history = list()\n",
    "for century in range(0, EPOCHS, breakpoint):\n",
    "    sub_history = model.fit(x_train, y_train, breakpoint, verbose = 0)\n",
    "    score = model.evaluate(x_test, y_test, False, verbose = 0)\n",
    "    print('Checkpoint {}, Accuracy: {}, Loss: {}'.format(century+breakpoint, score['accuracy'], score[model.loss_fn]))\n",
    "    score['checkpoint'] = century + breakpoint\n",
    "    checkpoints.append(score)\n",
    "    history.extend(sub_history)\n",
    "    itr = century + breakpoint\n",
    "    '''\n",
    "    model.optimizer.rr = model.optimizer.rr * 0.9\n",
    "    model.optimizer.gf = model.optimizer.gf * 0.9\n",
    "    model.optimizer.crossover_rate = model.optimizer.crossover_rate * 0.9\n",
    "    model.optimizer.mutation_rate = model.optimizer.mutation_rate * 1.1\n",
    "    '''\n",
    "    model.optimizer.rr = model.optimizer.radioactive_rating[1] - (model.optimizer.radioactive_rating[1] - model.optimizer.radioactive_rating[0]) / EPOCHS * (EPOCHS - itr)\n",
    "    model.optimizer.gf = model.optimizer.grow_factor[1] - (model.optimizer.grow_factor[1] - model.optimizer.grow_factor[0]) / EPOCHS * (EPOCHS - itr)\n",
    "    model.optimizer.crossover_rate = model.optimizer.x_rate[1] - (model.optimizer.x_rate[1] - model.optimizer.x_rate[0]) / EPOCHS * (EPOCHS - itr)\n",
    "    model.optimizer.mutation_rate = model.optimizer.m_rate[0] + (model.optimizer.m_rate[1] - model.optimizer.m_rate[0]) / EPOCHS * (EPOCHS - itr)\n",
    "    "
   ]
  },
  {
   "cell_type": "code",
   "execution_count": 10,
   "metadata": {},
   "outputs": [],
   "source": [
    "import matplotlib.pyplot as plt\n",
    "\n",
    "def draw_plot(x, y_list, x_label=None, y_label=None, legend=None, title=None):\n",
    "    fig, ax = plt.subplots(figsize=(12,5))\n",
    "    for xi, yi in zip(x, y_list):\n",
    "        ax.plot(xi, yi)\n",
    "    if x_label is not None and y_label is not None:\n",
    "        ax.set(xlabel=x_label, ylabel=y_label, title='{} VS {}'.format(x_label, y_label))\n",
    "    if legend is not None:\n",
    "        ax.legend(legend)\n",
    "    ax.grid()\n",
    "    plt.show()"
   ]
  },
  {
   "cell_type": "code",
   "execution_count": 11,
   "metadata": {},
   "outputs": [
    {
     "name": "stdout",
     "output_type": "stream",
     "text": [
      "[0. 1. 0.] <-> [0.4476245  0.51434886 0.03802662]\n",
      "[1. 0. 0.] <-> [0.6696316  0.08343843 0.24692996]\n",
      "[1. 0. 0.] <-> [0.7275614  0.18419756 0.088241  ]\n",
      "[1. 0. 0.] <-> [0.77212733 0.07957373 0.14829902]\n",
      "[1. 0. 0.] <-> [0.7888221  0.11121894 0.09995891]\n",
      "[0. 0. 1.] <-> [0.59057325 0.07421131 0.3352154 ]\n",
      "[1. 0. 0.] <-> [0.7483479  0.13064943 0.1210027 ]\n",
      "[1. 0. 0.] <-> [0.73327786 0.09490502 0.17181705]\n",
      "[1. 0. 0.] <-> [0.8035144  0.09929649 0.09718905]\n",
      "[1. 0. 0.] <-> [0.7275599  0.19332008 0.07912005]\n",
      "[0. 0. 1.] <-> [0.21734953 0.03905606 0.74359447]\n",
      "[1. 0. 0.] <-> [0.75964016 0.10794052 0.13241933]\n",
      "[1. 0. 0.] <-> [0.79540163 0.08276932 0.121829  ]\n",
      "[1. 0. 0.] <-> [0.75721437 0.10353772 0.13924794]\n",
      "[1. 0. 0.] <-> [0.74484366 0.13549888 0.11965743]\n",
      "[0. 1. 0.] <-> [0.2257264 0.7488178 0.0254558]\n",
      "[1. 0. 0.] <-> [0.7512563  0.14214031 0.10660344]\n",
      "[1. 0. 0.] <-> [0.728205   0.13623068 0.1355643 ]\n",
      "[1. 0. 0.] <-> [0.7809978  0.09898366 0.12001847]\n",
      "[1. 0. 0.] <-> [0.75248426 0.0857123  0.16180342]\n",
      "[0. 1. 0.] <-> [0.49530995 0.45368814 0.05100185]\n",
      "[0. 0. 1.] <-> [0.20768617 0.04397273 0.7483411 ]\n",
      "[1. 0. 0.] <-> [0.7224541  0.14671203 0.13083385]\n",
      "[1. 0. 0.] <-> [0.70788294 0.10894001 0.1831771 ]\n",
      "[1. 0. 0.] <-> [0.7833697  0.12006886 0.09656139]\n",
      "[1. 0. 0.] <-> [0.7608881  0.15833795 0.08077393]\n",
      "[0. 1. 0.] <-> [0.6607271  0.28144357 0.05782932]\n",
      "[1. 0. 0.] <-> [0.78264576 0.11322524 0.10412892]\n",
      "[0. 0. 1.] <-> [0.26651385 0.04829985 0.68518627]\n",
      "[1. 0. 0.] <-> [0.7889283  0.08239621 0.12867548]\n",
      "[1. 0. 0.] <-> [0.7772943  0.08542731 0.1372784 ]\n",
      "[1. 0. 0.] <-> [0.7491748  0.14597304 0.10485224]\n",
      "[0. 1. 0.] <-> [0.29174268 0.6782983  0.02995896]\n",
      "[1. 0. 0.] <-> [0.75074124 0.14292638 0.10633232]\n",
      "[0. 0. 1.] <-> [0.20311312 0.03762948 0.7592574 ]\n",
      "[1. 0. 0.] <-> [0.79265195 0.0857621  0.12158593]\n",
      "[1. 0. 0.] <-> [0.7475047  0.16039543 0.09209983]\n",
      "[1. 0. 0.] <-> [0.77899146 0.13207798 0.08893058]\n",
      "[1. 0. 0.] <-> [0.7193562  0.0993183  0.18132554]\n",
      "[1. 0. 0.] <-> [0.76391774 0.13738044 0.09870182]\n",
      "[1. 0. 0.] <-> [0.7676997  0.11052678 0.12177351]\n",
      "[0. 0. 1.] <-> [0.24725936 0.04081862 0.71192205]\n",
      "[1. 0. 0.] <-> [0.6685753  0.26278722 0.0686375 ]\n",
      "[1. 0. 0.] <-> [0.77866024 0.08880134 0.13253847]\n",
      "[0. 0. 1.] <-> [0.2884642  0.04655662 0.6649792 ]\n",
      "[0. 1. 0.] <-> [0.3264613  0.63833237 0.0352063 ]\n",
      "[1. 0. 0.] <-> [0.7478354  0.09991604 0.15224858]\n",
      "[0. 0. 1.] <-> [0.18920106 0.03952471 0.7712742 ]\n",
      "[1. 0. 0.] <-> [0.7581536  0.15120564 0.09064081]\n",
      "[1. 0. 0.] <-> [0.73183876 0.07991812 0.18824312]\n",
      "[1. 0. 0.] <-> [0.7217266  0.19782256 0.08045086]\n",
      "[1. 0. 0.] <-> [0.7602773  0.12993    0.10979276]\n",
      "[1. 0. 0.] <-> [0.71451867 0.20843264 0.07704859]\n",
      "[1. 0. 0.] <-> [0.71267754 0.14153652 0.14578596]\n",
      "[0. 1. 0.] <-> [0.21996711 0.75449955 0.02553341]\n",
      "[1. 0. 0.] <-> [0.7806541  0.11248726 0.10685868]\n",
      "[1. 0. 0.] <-> [0.77422947 0.08704524 0.13872531]\n",
      "[1. 0. 0.] <-> [0.74042106 0.15437305 0.10520584]\n",
      "[1. 0. 0.] <-> [0.7042819  0.18285151 0.1128666 ]\n",
      "[1. 0. 0.] <-> [0.7111176  0.10266303 0.18621935]\n",
      "[1. 0. 0.] <-> [0.7768565  0.09513219 0.12801135]\n",
      "[0. 1. 0.] <-> [0.21794875 0.7573347  0.02471661]\n",
      "[1. 0. 0.] <-> [0.7433341  0.14391875 0.11274716]\n",
      "[1. 0. 0.] <-> [0.75274897 0.12311076 0.12414028]\n",
      "[0. 0. 1.] <-> [0.3438688  0.04877908 0.60735214]\n",
      "[1. 0. 0.] <-> [0.6826815  0.23571032 0.08160813]\n",
      "[1. 0. 0.] <-> [0.74299467 0.11960492 0.13740037]\n",
      "[1. 0. 0.] <-> [0.72244483 0.1960626  0.08149267]\n",
      "[1. 0. 0.] <-> [0.7862943  0.12406852 0.08963728]\n",
      "[1. 0. 0.] <-> [0.7781413  0.08449811 0.13736059]\n",
      "[1. 0. 0.] <-> [0.7427454  0.12049243 0.1367622 ]\n",
      "[1. 0. 0.] <-> [0.75578976 0.16295506 0.08125517]\n",
      "[1. 0. 0.] <-> [0.7397803  0.1157266  0.14449313]\n",
      "[0. 1. 0.] <-> [0.56020665 0.35662043 0.08317291]\n",
      "[1. 0. 0.] <-> [0.72082055 0.16955929 0.10962023]\n",
      "[1. 0. 0.] <-> [0.7918066  0.09747443 0.110719  ]\n",
      "[1. 0. 0.] <-> [0.7104023  0.10607288 0.18352482]\n",
      "[1. 0. 0.] <-> [0.7766064  0.12444687 0.0989467 ]\n",
      "[1. 0. 0.] <-> [0.65893316 0.2766584  0.06440845]\n",
      "[1. 0. 0.] <-> [0.7708733  0.12655085 0.1025758 ]\n",
      "[1. 0. 0.] <-> [0.7459881  0.08642171 0.16759026]\n",
      "[1. 0. 0.] <-> [0.76013464 0.10671857 0.13314676]\n",
      "[1. 0. 0.] <-> [0.7586245  0.09924088 0.14213453]\n",
      "[1. 0. 0.] <-> [0.73537666 0.16736005 0.09726323]\n",
      "[1. 0. 0.] <-> [0.7762246  0.10082196 0.1229535 ]\n",
      "[1. 0. 0.] <-> [0.7598339  0.16064683 0.07951923]\n",
      "[1. 0. 0.] <-> [0.7845449  0.10809404 0.10736111]\n",
      "[1. 0. 0.] <-> [0.6825794  0.09200271 0.22541785]\n",
      "[0. 0. 1.] <-> [0.68222827 0.0750702  0.2427015 ]\n",
      "[0. 0. 1.] <-> [0.76633215 0.06803221 0.16563569]\n",
      "[0. 1. 0.] <-> [0.5372064  0.41047132 0.05232229]\n",
      "[0. 1. 0.] <-> [0.5535753  0.39330366 0.05312108]\n",
      "[0. 0. 1.] <-> [0.28244904 0.04266104 0.67488986]\n",
      "[0. 1. 0.] <-> [0.59908557 0.3446247  0.05628972]\n",
      "[1. 0. 0.] <-> [0.71190315 0.15462482 0.13347207]\n",
      "[1. 0. 0.] <-> [0.7145663  0.18488768 0.10054603]\n",
      "[0. 1. 0.] <-> [0.3203431  0.6468256  0.03283126]\n",
      "[1. 0. 0.] <-> [0.7495347  0.12529802 0.12516725]\n",
      "[1. 0. 0.] <-> [0.75837904 0.12602481 0.11559615]\n",
      "[0. 1. 0.] <-> [0.46247244 0.46906644 0.06846118]\n",
      "[1. 0. 0.] <-> [0.5476686  0.08317562 0.36915582]\n",
      "[1. 0. 0.] <-> [0.71091884 0.09893495 0.19014615]\n",
      "[1. 0. 0.] <-> [0.7168094  0.19319937 0.08999124]\n",
      "[0. 1. 0.] <-> [0.4329405  0.5220059  0.04505355]\n",
      "[1. 0. 0.] <-> [0.7476838  0.11806382 0.13425238]\n",
      "[0. 0. 1.] <-> [0.19188768 0.04016706 0.76794523]\n",
      "[1. 0. 0.] <-> [0.72231    0.20529819 0.07239177]\n",
      "[1. 0. 0.] <-> [0.7764869  0.1234873  0.10002588]\n",
      "{'accuracy': 0.9444444444444444, 'mean_square_error': 0.18112494774158464, 'categorical_crossentropy': 0.3852871435659903, 'precision': 0.9166666666666666, 'recall': 0.9166666666666666, 'f1': 0.9166666666666666, 'essential_metrics': {0: {'tp_hit': 80, 'fp_hit': 9, 'tn_hit': 19, 'fn_hit': 0}, 1: {'tp_hit': 9, 'fp_hit': 0, 'tn_hit': 93, 'fn_hit': 6}, 2: {'tp_hit': 10, 'fp_hit': 0, 'tn_hit': 95, 'fn_hit': 3}}}\n"
     ]
    }
   ],
   "source": [
    "# recall phase\n",
    "score = model.evaluate(x_test, y_test, False)\n",
    "print(score)"
   ]
  },
  {
   "cell_type": "code",
   "execution_count": 12,
   "metadata": {},
   "outputs": [],
   "source": [
    "# Testing Performance"
   ]
  },
  {
   "cell_type": "code",
   "execution_count": 13,
   "metadata": {},
   "outputs": [
    {
     "name": "stderr",
     "output_type": "stream",
     "text": [
      "C:\\Users\\tcumi\\Anaconda3\\envs\\py_3_6\\lib\\site-packages\\numpy\\core\\_asarray.py:136: VisibleDeprecationWarning: Creating an ndarray from ragged nested sequences (which is a list-or-tuple of lists-or-tuples-or ndarrays with different lengths or shapes) is deprecated. If you meant to do this, you must specify 'dtype=object' when creating the ndarray\n",
      "  return array(a, dtype, copy=False, order=order, subok=True)\n"
     ]
    },
    {
     "data": {
      "image/png": "[encoded data removed]",
      "text/plain": [
       "<Figure size 864x360 with 1 Axes>"
      ]
     },
     "metadata": {
      "needs_background": "light"
     },
     "output_type": "display_data"
    },
    {
     "data": {
      "image/png": "[encoded data removed]",
      "text/plain": [
       "<Figure size 864x360 with 1 Axes>"
      ]
     },
     "metadata": {
      "needs_background": "light"
     },
     "output_type": "display_data"
    }
   ],
   "source": [
    "draw_plot(x = [[i for i in range(len(history))], [(i+1)*breakpoint for i in range(len(checkpoints))]], y_list = [history, [ ckp[model.loss_fn] for ckp in checkpoints ]], x_label = 'Epochs', \\\n",
    "    y_label = model.loss_fn, legend=['train', 'test'])\n",
    "acc = [ ckp['accuracy'] for ckp in checkpoints ]\n",
    "draw_plot(x = [[(i+1)*breakpoint for i in range(len(checkpoints))]], y_list = [acc], x_label = 'Checkpoints', \\\n",
    "    y_label = 'accuracy')"
   ]
  },
  {
   "cell_type": "code",
   "execution_count": 14,
   "metadata": {
    "scrolled": false
   },
   "outputs": [
    {
     "name": "stdout",
     "output_type": "stream",
     "text": [
      "{'accuracy': 0.9012345679012346, 'mean_square_error': 0.2698143150950617, 'categorical_crossentropy': 0.507370736863878, 'precision': 0.8518518518518519, 'recall': 0.8518518518518519, 'f1': 0.8518518518518519, 'essential_metrics': {0: {'tp_hit': 80, 'fp_hit': 16, 'tn_hit': 12, 'fn_hit': 0}, 1: {'tp_hit': 8, 'fp_hit': 0, 'tn_hit': 93, 'fn_hit': 7}, 2: {'tp_hit': 4, 'fp_hit': 0, 'tn_hit': 95, 'fn_hit': 9}}, 'checkpoint': 100} \n",
      "\n",
      "\n",
      "{'accuracy': 0.9012345679012346, 'mean_square_error': 0.23160026086593724, 'categorical_crossentropy': 0.44624625311957467, 'precision': 0.8518518518518519, 'recall': 0.8518518518518519, 'f1': 0.8518518518518519, 'essential_metrics': {0: {'tp_hit': 80, 'fp_hit': 16, 'tn_hit': 12, 'fn_hit': 0}, 1: {'tp_hit': 7, 'fp_hit': 0, 'tn_hit': 93, 'fn_hit': 8}, 2: {'tp_hit': 5, 'fp_hit': 0, 'tn_hit': 95, 'fn_hit': 8}}, 'checkpoint': 200} \n",
      "\n",
      "\n",
      "{'accuracy': 0.9382716049382716, 'mean_square_error': 0.1983295686764547, 'categorical_crossentropy': 0.40255829139992044, 'precision': 0.9074074074074074, 'recall': 0.9074074074074074, 'f1': 0.9074074074074074, 'essential_metrics': {0: {'tp_hit': 80, 'fp_hit': 10, 'tn_hit': 18, 'fn_hit': 0}, 1: {'tp_hit': 8, 'fp_hit': 0, 'tn_hit': 93, 'fn_hit': 7}, 2: {'tp_hit': 10, 'fp_hit': 0, 'tn_hit': 95, 'fn_hit': 3}}, 'checkpoint': 300} \n",
      "\n",
      "\n",
      "{'accuracy': 0.9444444444444444, 'mean_square_error': 0.17668254367274022, 'categorical_crossentropy': 0.3779613353587963, 'precision': 0.9166666666666666, 'recall': 0.9166666666666666, 'f1': 0.9166666666666666, 'essential_metrics': {0: {'tp_hit': 80, 'fp_hit': 9, 'tn_hit': 19, 'fn_hit': 0}, 1: {'tp_hit': 9, 'fp_hit': 0, 'tn_hit': 93, 'fn_hit': 6}, 2: {'tp_hit': 10, 'fp_hit': 0, 'tn_hit': 95, 'fn_hit': 3}}, 'checkpoint': 400} \n",
      "\n",
      "\n",
      "{'accuracy': 0.9444444444444444, 'mean_square_error': 0.18112494774158464, 'categorical_crossentropy': 0.3852871435659903, 'precision': 0.9166666666666666, 'recall': 0.9166666666666666, 'f1': 0.9166666666666666, 'essential_metrics': {0: {'tp_hit': 80, 'fp_hit': 9, 'tn_hit': 19, 'fn_hit': 0}, 1: {'tp_hit': 9, 'fp_hit': 0, 'tn_hit': 93, 'fn_hit': 6}, 2: {'tp_hit': 10, 'fp_hit': 0, 'tn_hit': 95, 'fn_hit': 3}}, 'checkpoint': 500} \n",
      "\n",
      "\n"
     ]
    }
   ],
   "source": [
    "for checkpoint in checkpoints:\n",
    "    print(checkpoint, '\\n\\n')"
   ]
  },
  {
   "cell_type": "code",
   "execution_count": 15,
   "metadata": {},
   "outputs": [
    {
     "name": "stdout",
     "output_type": "stream",
     "text": [
      "Layer 1\n",
      "Neuron 0: weights:\n",
      "[-0.6068388   1.495367    0.5462905   0.11767282 -0.45829335]\n",
      " bias: -1.0762418508529663\n",
      "\n",
      "Neuron 1: weights:\n",
      "[-0.45102757  0.5642881   0.08723852 -0.30195075 -0.13155754]\n",
      " bias: -0.011318153701722622\n",
      "\n",
      "Neuron 2: weights:\n",
      "[0.10494643 0.24587338 0.76631737 0.70068496 0.41304377]\n",
      " bias: -0.16111308336257935\n",
      "\n",
      "Neuron 3: weights:\n",
      "[ 0.30088428 -0.6816743  -0.3318107   0.8545468   1.0386344 ]\n",
      " bias: -1.2869229316711426\n",
      "\n",
      "$\n",
      "Layer 2\n",
      "Neuron 0: weights:\n",
      "[-1.3734503   0.31551635 -0.63846076 -1.2902694 ]\n",
      " bias: 1.951347827911377\n",
      "\n",
      "Neuron 1: weights:\n",
      "[ 1.4716814   0.8115935   0.4536378  -0.94590855]\n",
      " bias: -1.0573114156723022\n",
      "\n",
      "Neuron 2: weights:\n",
      "[-1.2980031  -0.5499234   0.39290848  1.6063052 ]\n",
      " bias: -0.46154260635375977\n",
      "\n",
      "$\n",
      "\n"
     ]
    }
   ],
   "source": [
    "print(model)"
   ]
  }
 ],
 "metadata": {
  "kernelspec": {
   "display_name": "Python 3",
   "language": "python",
   "name": "python3"
  },
  "language_info": {
   "codemirror_mode": {
    "name": "ipython",
    "version": 3
   },
   "file_extension": ".py",
   "mimetype": "text/x-python",
   "name": "python",
   "nbconvert_exporter": "python",
   "pygments_lexer": "ipython3",
   "version": "3.6.10"
  }
 },
 "nbformat": 4,
 "nbformat_minor": 2
}
