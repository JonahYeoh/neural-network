{
 "cells": [
  {
   "cell_type": "code",
   "execution_count": 1,
   "metadata": {},
   "outputs": [],
   "source": [
    "# two"
   ]
  },
  {
   "cell_type": "code",
   "execution_count": 2,
   "metadata": {},
   "outputs": [],
   "source": [
    "# dependency\n",
    "import numpy as np\n",
    "import pandas as pd\n",
    "import copy\n",
    "import math\n",
    "import sys\n",
    "import os\n",
    "from activations import relu, leaky_relu, sigmoid, tanh, softmax, d_sigmoid, d_relu\n",
    "from initializers import glorot_uniform, random_normal, random_uniform\n",
    "from regularizers import l1_regularizer, l2_regularizer\n",
    "from utility import trim_tail, multiply, subtract, get_nparams, one_hot_encoding, get_data\n",
    "from metrics import MSE, CCE, ACC, PRECISION, RECALL, essential_metrics, wondering_penalty, close_gap_penalty\n",
    "from pso import PSO\n",
    "from ga import GA\n",
    "from nn import Network\n",
    "from layer import DenseLayer\n",
    "from scalers import MinMaxScaler, StandardScaler"
   ]
  },
  {
   "cell_type": "code",
   "execution_count": 3,
   "metadata": {},
   "outputs": [],
   "source": [
    "# reference\n",
    "metrics_fn_dict = dict()\n",
    "metrics_fn_dict['accuracy'] = ACC\n",
    "metrics_fn_dict['categorical_crossentropy'] = CCE\n",
    "metrics_fn_dict['mean_square_error'] = MSE\n",
    "metrics_fn_dict['precision'] = PRECISION\n",
    "metrics_fn_dict['recall'] = RECALL\n",
    "metrics_fn_dict['essential_metrics'] = essential_metrics"
   ]
  },
  {
   "cell_type": "code",
   "execution_count": 4,
   "metadata": {},
   "outputs": [],
   "source": [
    "# model\n",
    "model = Network(5, lr = None)\n",
    "model.add_layer(DenseLayer(1, 4, True, afn=sigmoid, dafn=None, rfn=None))\n",
    "model.add_layer(DenseLayer(2, 3, True, afn=softmax, dafn=None, rfn=None))"
   ]
  },
  {
   "cell_type": "code",
   "execution_count": 5,
   "metadata": {},
   "outputs": [],
   "source": [
    "# optimizer\n",
    "ga = GA(\n",
    "    dict(\n",
    "        m = 50,\n",
    "        x_rate = [0.5, 1.0],\n",
    "        m_rate = [0.5, 1.0],\n",
    "        weight_constraint = [-3.,3.],\n",
    "        radioactive_rating = [0.1, 0.5],\n",
    "        grow_factor = [0.1, 0.5],\n",
    "        scale_hyperparameter = False,\n",
    "        regularizer = l1_regularizer))"
   ]
  },
  {
   "cell_type": "code",
   "execution_count": 6,
   "metadata": {},
   "outputs": [
    {
     "name": "stdout",
     "output_type": "stream",
     "text": [
      "building layer 1 with 5\n",
      "24\n",
      "building layer 2 with 4\n",
      "15\n"
     ]
    }
   ],
   "source": [
    "model.compile(loss_fn = 'categorical_crossentropy', optimizer = ga, \\\n",
    "    metrics = ['accuracy', 'mean_square_error', 'categorical_crossentropy', 'precision', 'recall', 'f1'])"
   ]
  },
  {
   "cell_type": "code",
   "execution_count": 7,
   "metadata": {},
   "outputs": [
    {
     "name": "stdout",
     "output_type": "stream",
     "text": [
      "<class 'pandas.core.frame.DataFrame'>\n",
      "RangeIndex: 107 entries, 0 to 106\n",
      "Data columns (total 6 columns):\n",
      " #   Column  Non-Null Count  Dtype  \n",
      "---  ------  --------------  -----  \n",
      " 0   f1      107 non-null    float32\n",
      " 1   f2      107 non-null    float32\n",
      " 2   f3      107 non-null    float32\n",
      " 3   f4      107 non-null    float32\n",
      " 4   f5      107 non-null    float32\n",
      " 5   label   107 non-null    float32\n",
      "dtypes: float32(6)\n",
      "memory usage: 2.6 KB\n",
      "None\n",
      "<class 'pandas.core.frame.DataFrame'>\n",
      "RangeIndex: 108 entries, 0 to 107\n",
      "Data columns (total 6 columns):\n",
      " #   Column  Non-Null Count  Dtype  \n",
      "---  ------  --------------  -----  \n",
      " 0   f1      108 non-null    float32\n",
      " 1   f2      108 non-null    float32\n",
      " 2   f3      108 non-null    float32\n",
      " 3   f4      108 non-null    float32\n",
      " 4   f5      108 non-null    float32\n",
      " 5   label   108 non-null    float32\n",
      "dtypes: float32(6)\n",
      "memory usage: 2.7 KB\n",
      "None\n"
     ]
    }
   ],
   "source": [
    "# data loading\n",
    "DATA = os.path.join('c:\\\\Users\\\\tcumi\\\\github_repo\\\\neural-network\\\\', 'dataset')\n",
    "GROUP = 5\n",
    "COLUMNS = ['f1', 'f2', 'f3', 'f4', 'f5', 'label']\n",
    "N_CLASS = 3\n",
    "EPOCHS = 500\n",
    "train_dir, test_dir = \"..//dataset//training_data{}.txt\".format(GROUP), \"..//dataset//testing_data{}.txt\".format(GROUP)\n",
    "train, test = get_data(DATA, train_dir, COLUMNS), get_data(DATA, test_dir, COLUMNS)\n",
    "# shuffle\n",
    "train, test = train.sample(frac=1), test.sample(frac=1)\n",
    "x_train, y_train = train.drop('label', axis=1), train['label']\n",
    "x_test, y_test = test.drop('label', axis=1), test['label']"
   ]
  },
  {
   "cell_type": "code",
   "execution_count": 8,
   "metadata": {},
   "outputs": [],
   "source": [
    "# data scaling and encoding\n",
    "scaler = StandardScaler(['f1', 'f2', 'f3', 'f4', 'f5'])\n",
    "scaler.fit(x_train)\n",
    "x_train = scaler.transform(x_train)\n",
    "x_test = scaler.transform(x_test)\n",
    "y_train = one_hot_encoding(y_train, N_CLASS)\n",
    "y_test = one_hot_encoding(y_test, N_CLASS)"
   ]
  },
  {
   "cell_type": "code",
   "execution_count": 9,
   "metadata": {
    "scrolled": true,
    "tags": [
     "outputPrepend"
    ]
   },
   "outputs": [
    {
     "name": "stderr",
     "output_type": "stream",
     "text": [
      "C:\\Users\\tcumi\\Anaconda3\\envs\\py_3_6\\lib\\site-packages\\numpy\\core\\fromnumeric.py:87: VisibleDeprecationWarning: Creating an ndarray from ragged nested sequences (which is a list-or-tuple of lists-or-tuples-or ndarrays with different lengths or shapes) is deprecated. If you meant to do this, you must specify 'dtype=object' when creating the ndarray\n",
      "  return ufunc.reduce(obj, axis, dtype, out, **passkwargs)\n",
      "C:\\Users\\tcumi\\github_repo\\neural-network\\python\\ga.py:201: RuntimeWarning: overflow encountered in add\n",
      "  self.population.sort(key=lambda p: p.fitness + np.random.uniform(-shift, shift, 1), reverse = self.aim)\n",
      "C:\\Users\\tcumi\\Anaconda3\\envs\\py_3_6\\lib\\site-packages\\numpy\\core\\_asarray.py:136: VisibleDeprecationWarning: Creating an ndarray from ragged nested sequences (which is a list-or-tuple of lists-or-tuples-or ndarrays with different lengths or shapes) is deprecated. If you meant to do this, you must specify 'dtype=object' when creating the ndarray\n",
      "  return array(a, dtype, copy=False, order=order, subok=True)\n"
     ]
    },
    {
     "name": "stdout",
     "output_type": "stream",
     "text": [
      "Checkpoint 100, Accuracy: 0.9444444444444444, Loss: 0.34092157858389394\n",
      "Checkpoint 200, Accuracy: 0.9506172839506173, Loss: 0.3100580992522063\n",
      "Checkpoint 300, Accuracy: 0.9444444444444444, Loss: 0.2906286804764359\n",
      "Checkpoint 400, Accuracy: 0.9444444444444444, Loss: 0.24499580595228407\n",
      "Checkpoint 500, Accuracy: 0.9444444444444444, Loss: 0.2266493726659704\n"
     ]
    }
   ],
   "source": [
    "# learning phase\n",
    "breakpoint = 100\n",
    "checkpoints = list()\n",
    "history = list()\n",
    "for century in range(0, EPOCHS, breakpoint):\n",
    "    sub_history = model.fit(x_train, y_train, breakpoint, verbose = 0)\n",
    "    score = model.evaluate(x_test, y_test, False, verbose = 0)\n",
    "    print('Checkpoint {}, Accuracy: {}, Loss: {}'.format(century+breakpoint, score['accuracy'], score[model.loss_fn]))\n",
    "    score['checkpoint'] = century + breakpoint\n",
    "    checkpoints.append(score)\n",
    "    history.extend(sub_history)\n",
    "    itr = century + breakpoint\n",
    "    '''\n",
    "    model.optimizer.rr = model.optimizer.rr * 0.9\n",
    "    model.optimizer.gf = model.optimizer.gf * 0.9\n",
    "    model.optimizer.crossover_rate = model.optimizer.crossover_rate * 0.9\n",
    "    model.optimizer.mutation_rate = model.optimizer.mutation_rate * 1.1\n",
    "    '''\n",
    "    model.optimizer.rr = model.optimizer.radioactive_rating[1] - (model.optimizer.radioactive_rating[1] - model.optimizer.radioactive_rating[0]) / EPOCHS * (EPOCHS - itr)\n",
    "    model.optimizer.gf = model.optimizer.grow_factor[1] - (model.optimizer.grow_factor[1] - model.optimizer.grow_factor[0]) / EPOCHS * (EPOCHS - itr)\n",
    "    model.optimizer.crossover_rate = model.optimizer.x_rate[1] - (model.optimizer.x_rate[1] - model.optimizer.x_rate[0]) / EPOCHS * (EPOCHS - itr)\n",
    "    model.optimizer.mutation_rate = model.optimizer.m_rate[0] + (model.optimizer.m_rate[1] - model.optimizer.m_rate[0]) / EPOCHS * (EPOCHS - itr)\n",
    "    "
   ]
  },
  {
   "cell_type": "code",
   "execution_count": 10,
   "metadata": {},
   "outputs": [],
   "source": [
    "import matplotlib.pyplot as plt\n",
    "\n",
    "def draw_plot(x, y_list, x_label=None, y_label=None, legend=None, title=None):\n",
    "    fig, ax = plt.subplots(figsize=(12,5))\n",
    "    for xi, yi in zip(x, y_list):\n",
    "        ax.plot(xi, yi)\n",
    "    if x_label is not None and y_label is not None:\n",
    "        ax.set(xlabel=x_label, ylabel=y_label, title='{} VS {}'.format(x_label, y_label))\n",
    "    if legend is not None:\n",
    "        ax.legend(legend)\n",
    "    ax.grid()\n",
    "    plt.show()"
   ]
  },
  {
   "cell_type": "code",
   "execution_count": 11,
   "metadata": {},
   "outputs": [
    {
     "name": "stdout",
     "output_type": "stream",
     "text": [
      "[1. 0. 0.] <-> [0.917293   0.04149909 0.04120789]\n",
      "[1. 0. 0.] <-> [0.93330795 0.0329822  0.03370996]\n",
      "[1. 0. 0.] <-> [0.87199855 0.01196276 0.11603872]\n",
      "[1. 0. 0.] <-> [0.89809096 0.05914509 0.04276389]\n",
      "[1. 0. 0.] <-> [0.91740847 0.02416093 0.05843055]\n",
      "[1. 0. 0.] <-> [0.87577784 0.05071591 0.07350629]\n",
      "[1. 0. 0.] <-> [0.9142133  0.03993296 0.04585374]\n",
      "[1. 0. 0.] <-> [0.9081046  0.0404732  0.05142215]\n",
      "[0. 0. 1.] <-> [0.08745821 0.00321569 0.90932614]\n",
      "[1. 0. 0.] <-> [0.8604802  0.08767879 0.05184101]\n",
      "[1. 0. 0.] <-> [0.8685897  0.05745829 0.07395205]\n",
      "[1. 0. 0.] <-> [0.45776385 0.01412258 0.5281136 ]\n",
      "[0. 0. 1.] <-> [0.65583736 0.01342568 0.3307369 ]\n",
      "[1. 0. 0.] <-> [0.89144474 0.06257649 0.04597877]\n",
      "[1. 0. 0.] <-> [0.9164256  0.02665519 0.05691923]\n",
      "[0. 0. 1.] <-> [0.13134173 0.00213818 0.8665201 ]\n",
      "[1. 0. 0.] <-> [0.9062921  0.05519725 0.03851065]\n",
      "[0. 0. 1.] <-> [0.11482759 0.00228256 0.8828898 ]\n",
      "[1. 0. 0.] <-> [0.8939307  0.03229896 0.07377037]\n",
      "[1. 0. 0.] <-> [0.8677048  0.01235103 0.11994412]\n",
      "[1. 0. 0.] <-> [0.8403617  0.08768126 0.071957  ]\n",
      "[0. 0. 1.] <-> [0.15454206 0.00238222 0.8430757 ]\n",
      "[1. 0. 0.] <-> [0.859561   0.0201921  0.12024696]\n",
      "[0. 1. 0.] <-> [0.07497036 0.91418    0.01084957]\n",
      "[1. 0. 0.] <-> [0.9383473  0.02315195 0.03850076]\n",
      "[1. 0. 0.] <-> [0.81544024 0.01557099 0.16898885]\n",
      "[0. 1. 0.] <-> [0.07205862 0.91871583 0.00922546]\n",
      "[0. 0. 1.] <-> [0.11468964 0.00225109 0.8830593 ]\n",
      "[1. 0. 0.] <-> [0.8997649  0.03370083 0.06653419]\n",
      "[0. 1. 0.] <-> [0.07023642 0.9210829  0.00868069]\n",
      "[0. 0. 1.] <-> [0.12367389 0.00229182 0.8740343 ]\n",
      "[1. 0. 0.] <-> [0.92466396 0.03368264 0.04165335]\n",
      "[0. 1. 0.] <-> [0.59127665 0.3666333  0.04209002]\n",
      "[0. 1. 0.] <-> [0.11216941 0.8733236  0.01450702]\n",
      "[0. 1. 0.] <-> [0.78645694 0.16838174 0.04516131]\n",
      "[1. 0. 0.] <-> [0.9045708  0.01736317 0.07806597]\n",
      "[0. 1. 0.] <-> [0.53925276 0.41995654 0.0407907 ]\n",
      "[1. 0. 0.] <-> [0.8892001  0.01723947 0.0935604 ]\n",
      "[1. 0. 0.] <-> [0.8708669  0.01041891 0.11871422]\n",
      "[1. 0. 0.] <-> [0.8791954  0.04035164 0.08045303]\n",
      "[1. 0. 0.] <-> [0.6231396  0.01103548 0.36582488]\n",
      "[0. 0. 1.] <-> [0.03492975 0.00654505 0.9585252 ]\n",
      "[1. 0. 0.] <-> [0.9446476  0.01453248 0.04081998]\n",
      "[1. 0. 0.] <-> [0.92689383 0.02829441 0.04481182]\n",
      "[1. 0. 0.] <-> [0.9090978  0.01088039 0.08002184]\n",
      "[1. 0. 0.] <-> [0.9297868  0.02658696 0.04362616]\n",
      "[1. 0. 0.] <-> [0.9248842  0.0106998  0.06441605]\n",
      "[1. 0. 0.] <-> [0.9019835  0.01856811 0.07944839]\n",
      "[1. 0. 0.] <-> [0.93104774 0.02635122 0.04260098]\n",
      "[1. 0. 0.] <-> [0.93457264 0.02211883 0.04330848]\n",
      "[0. 0. 1.] <-> [0.8817648  0.01219173 0.10604347]\n",
      "[1. 0. 0.] <-> [0.9161882  0.03731451 0.04649734]\n",
      "[1. 0. 0.] <-> [0.9136102  0.02428519 0.06210463]\n",
      "[1. 0. 0.] <-> [0.9073014  0.0423787  0.05031988]\n",
      "[1. 0. 0.] <-> [0.93089336 0.01956931 0.04953729]\n",
      "[0. 0. 1.] <-> [0.04614831 0.0052698  0.9485818 ]\n",
      "[1. 0. 0.] <-> [0.91220134 0.01489587 0.07290272]\n",
      "[1. 0. 0.] <-> [0.9115676  0.04270229 0.04573014]\n",
      "[1. 0. 0.] <-> [0.763416   0.1890224  0.04756162]\n",
      "[1. 0. 0.] <-> [0.8949118  0.00936273 0.0957255 ]\n",
      "[1. 0. 0.] <-> [0.84943557 0.10909426 0.04147014]\n",
      "[1. 0. 0.] <-> [0.88052    0.01222922 0.10725087]\n",
      "[0. 0. 1.] <-> [0.1961625  0.00278567 0.8010518 ]\n",
      "[0. 1. 0.] <-> [0.2278647  0.74209046 0.03004479]\n",
      "[1. 0. 0.] <-> [0.93071264 0.02784332 0.04144398]\n",
      "[1. 0. 0.] <-> [0.92315316 0.03268702 0.04415974]\n",
      "[0. 1. 0.] <-> [0.20807703 0.7681714  0.02375148]\n",
      "[0. 1. 0.] <-> [0.49560586 0.46550158 0.03889254]\n",
      "[1. 0. 0.] <-> [0.94431436 0.01566708 0.04001858]\n",
      "[1. 0. 0.] <-> [0.90305054 0.01107618 0.08587325]\n",
      "[1. 0. 0.] <-> [0.76798075 0.17279248 0.05922669]\n",
      "[0. 0. 1.] <-> [0.85718906 0.0133503  0.1294607 ]\n",
      "[1. 0. 0.] <-> [0.8155665  0.01479521 0.16963828]\n",
      "[1. 0. 0.] <-> [0.84455854 0.02181588 0.13362561]\n",
      "[1. 0. 0.] <-> [0.6423453  0.30202588 0.05562881]\n",
      "[1. 0. 0.] <-> [0.9228674  0.02680558 0.05032712]\n",
      "[1. 0. 0.] <-> [0.8916525  0.05131849 0.05702903]\n",
      "[0. 1. 0.] <-> [0.6072584  0.35414487 0.03859675]\n",
      "[0. 1. 0.] <-> [0.07005536 0.9212839  0.00866069]\n",
      "[1. 0. 0.] <-> [0.9201099  0.02502287 0.05486714]\n",
      "[0. 1. 0.] <-> [0.07092718 0.9204288  0.00864399]\n",
      "[1. 0. 0.] <-> [0.91935575 0.02000498 0.06063934]\n",
      "[1. 0. 0.] <-> [0.9430234 0.0163961 0.0405806]\n",
      "[1. 0. 0.] <-> [0.86380935 0.01739958 0.11879113]\n",
      "[0. 1. 0.] <-> [0.06917283 0.9223363  0.00849084]\n",
      "[1. 0. 0.] <-> [0.7797846  0.17524958 0.04496577]\n",
      "[1. 0. 0.] <-> [0.8987736  0.04941993 0.05180641]\n",
      "[1. 0. 0.] <-> [0.91611904 0.01719188 0.06668916]\n",
      "[1. 0. 0.] <-> [0.9069338  0.05552283 0.0375433 ]\n",
      "[1. 0. 0.] <-> [0.9288779  0.02684462 0.04427755]\n",
      "[1. 0. 0.] <-> [0.7915092  0.01092077 0.19757001]\n",
      "[1. 0. 0.] <-> [0.932037   0.01085567 0.05710736]\n",
      "[0. 0. 1.] <-> [0.294488   0.00501362 0.70049834]\n",
      "[0. 1. 0.] <-> [0.08652881 0.89940596 0.01406528]\n",
      "[1. 0. 0.] <-> [0.9034028  0.02472728 0.07186995]\n",
      "[0. 0. 1.] <-> [0.19762227 0.00268559 0.7996921 ]\n",
      "[0. 0. 1.] <-> [0.16002375 0.00246518 0.83751106]\n",
      "[1. 0. 0.] <-> [0.9135311  0.04302946 0.04343951]\n",
      "[1. 0. 0.] <-> [0.9255333  0.04379119 0.03067551]\n",
      "[1. 0. 0.] <-> [0.84865195 0.01417529 0.1371728 ]\n",
      "[0. 1. 0.] <-> [0.372261   0.5927213  0.03501779]\n",
      "[1. 0. 0.] <-> [0.92148924 0.0255845  0.05292623]\n",
      "[1. 0. 0.] <-> [0.89725053 0.01493617 0.08781326]\n",
      "[0. 1. 0.] <-> [0.06987369 0.9212788  0.00884752]\n",
      "[1. 0. 0.] <-> [0.9290782  0.03020965 0.0407121 ]\n",
      "[1. 0. 0.] <-> [0.9048159  0.0474574  0.04772665]\n",
      "[1. 0. 0.] <-> [0.9154149  0.04902704 0.03555806]\n",
      "[1. 0. 0.] <-> [0.9064963  0.01111422 0.0823895 ]\n",
      "{'accuracy': 0.9444444444444444, 'mean_square_error': 0.10920495607757554, 'categorical_crossentropy': 0.2266493726659704, 'precision': 0.9166666666666666, 'recall': 0.9166666666666666, 'f1': 0.9166666666666666, 'essential_metrics': {0: {'tp_hit': 75, 'fp_hit': 8, 'tn_hit': 24, 'fn_hit': 1}, 1: {'tp_hit': 12, 'fp_hit': 0, 'tn_hit': 91, 'fn_hit': 5}, 2: {'tp_hit': 12, 'fp_hit': 1, 'tn_hit': 92, 'fn_hit': 3}}}\n"
     ]
    }
   ],
   "source": [
    "# recall phase\n",
    "score = model.evaluate(x_test, y_test, False)\n",
    "print(score)"
   ]
  },
  {
   "cell_type": "code",
   "execution_count": 12,
   "metadata": {},
   "outputs": [],
   "source": [
    "# Testing Performance"
   ]
  },
  {
   "cell_type": "code",
   "execution_count": 13,
   "metadata": {},
   "outputs": [
    {
     "name": "stderr",
     "output_type": "stream",
     "text": [
      "C:\\Users\\tcumi\\Anaconda3\\envs\\py_3_6\\lib\\site-packages\\numpy\\core\\_asarray.py:136: VisibleDeprecationWarning: Creating an ndarray from ragged nested sequences (which is a list-or-tuple of lists-or-tuples-or ndarrays with different lengths or shapes) is deprecated. If you meant to do this, you must specify 'dtype=object' when creating the ndarray\n",
      "  return array(a, dtype, copy=False, order=order, subok=True)\n"
     ]
    },
    {
     "data": {
      "image/png": "[encoded data removed]",
      "text/plain": [
       "<Figure size 864x360 with 1 Axes>"
      ]
     },
     "metadata": {
      "needs_background": "light"
     },
     "output_type": "display_data"
    },
    {
     "data": {
      "image/png": "[encoded data removed]",
      "text/plain": [
       "<Figure size 864x360 with 1 Axes>"
      ]
     },
     "metadata": {
      "needs_background": "light"
     },
     "output_type": "display_data"
    }
   ],
   "source": [
    "draw_plot(x = [[i for i in range(len(history))], [(i+1)*breakpoint for i in range(len(checkpoints))]], y_list = [history, [ ckp[model.loss_fn] for ckp in checkpoints ]], x_label = 'Epochs', \\\n",
    "    y_label = model.loss_fn, legend=['train', 'test'])\n",
    "acc = [ ckp['accuracy'] for ckp in checkpoints ]\n",
    "draw_plot(x = [[(i+1)*breakpoint for i in range(len(checkpoints))]], y_list = [acc], x_label = 'Checkpoints', \\\n",
    "    y_label = 'accuracy')"
   ]
  },
  {
   "cell_type": "code",
   "execution_count": 14,
   "metadata": {
    "scrolled": false
   },
   "outputs": [
    {
     "name": "stdout",
     "output_type": "stream",
     "text": [
      "{'accuracy': 0.9444444444444444, 'mean_square_error': 0.17330457898768914, 'categorical_crossentropy': 0.34092157858389394, 'precision': 0.9166666666666666, 'recall': 0.9166666666666666, 'f1': 0.9166666666666666, 'essential_metrics': {0: {'tp_hit': 75, 'fp_hit': 8, 'tn_hit': 24, 'fn_hit': 1}, 1: {'tp_hit': 12, 'fp_hit': 0, 'tn_hit': 91, 'fn_hit': 5}, 2: {'tp_hit': 12, 'fp_hit': 1, 'tn_hit': 92, 'fn_hit': 3}}, 'checkpoint': 100} \n",
      "\n",
      "\n",
      "{'accuracy': 0.9506172839506173, 'mean_square_error': 0.15583520103833448, 'categorical_crossentropy': 0.3100580992522063, 'precision': 0.9259259259259259, 'recall': 0.9259259259259259, 'f1': 0.9259259259259259, 'essential_metrics': {0: {'tp_hit': 75, 'fp_hit': 7, 'tn_hit': 25, 'fn_hit': 1}, 1: {'tp_hit': 12, 'fp_hit': 0, 'tn_hit': 91, 'fn_hit': 5}, 2: {'tp_hit': 13, 'fp_hit': 1, 'tn_hit': 92, 'fn_hit': 2}}, 'checkpoint': 200} \n",
      "\n",
      "\n",
      "{'accuracy': 0.9444444444444444, 'mean_square_error': 0.14655856724603947, 'categorical_crossentropy': 0.2906286804764359, 'precision': 0.9166666666666666, 'recall': 0.9166666666666666, 'f1': 0.9166666666666666, 'essential_metrics': {0: {'tp_hit': 75, 'fp_hit': 8, 'tn_hit': 24, 'fn_hit': 1}, 1: {'tp_hit': 12, 'fp_hit': 0, 'tn_hit': 91, 'fn_hit': 5}, 2: {'tp_hit': 12, 'fp_hit': 1, 'tn_hit': 92, 'fn_hit': 3}}, 'checkpoint': 300} \n",
      "\n",
      "\n",
      "{'accuracy': 0.9444444444444444, 'mean_square_error': 0.11896257684929343, 'categorical_crossentropy': 0.24499580595228407, 'precision': 0.9166666666666666, 'recall': 0.9166666666666666, 'f1': 0.9166666666666666, 'essential_metrics': {0: {'tp_hit': 75, 'fp_hit': 8, 'tn_hit': 24, 'fn_hit': 1}, 1: {'tp_hit': 12, 'fp_hit': 0, 'tn_hit': 91, 'fn_hit': 5}, 2: {'tp_hit': 12, 'fp_hit': 1, 'tn_hit': 92, 'fn_hit': 3}}, 'checkpoint': 400} \n",
      "\n",
      "\n",
      "{'accuracy': 0.9444444444444444, 'mean_square_error': 0.10920495607757554, 'categorical_crossentropy': 0.2266493726659704, 'precision': 0.9166666666666666, 'recall': 0.9166666666666666, 'f1': 0.9166666666666666, 'essential_metrics': {0: {'tp_hit': 75, 'fp_hit': 8, 'tn_hit': 24, 'fn_hit': 1}, 1: {'tp_hit': 12, 'fp_hit': 0, 'tn_hit': 91, 'fn_hit': 5}, 2: {'tp_hit': 12, 'fp_hit': 1, 'tn_hit': 92, 'fn_hit': 3}}, 'checkpoint': 500} \n",
      "\n",
      "\n"
     ]
    }
   ],
   "source": [
    "for checkpoint in checkpoints:\n",
    "    print(checkpoint, '\\n\\n')"
   ]
  },
  {
   "cell_type": "code",
   "execution_count": 15,
   "metadata": {},
   "outputs": [
    {
     "name": "stdout",
     "output_type": "stream",
     "text": [
      "Layer 1\n",
      "Neuron 0: weights:\n",
      "[-0.8098749   1.2347125   0.36004055 -0.00733742 -0.03634149]\n",
      " bias: -0.5377416610717773\n",
      "\n",
      "Neuron 1: weights:\n",
      "[ 0.01807061 -0.4470318  -0.6884242   1.7521045   0.5411017 ]\n",
      " bias: -0.06525595486164093\n",
      "\n",
      "Neuron 2: weights:\n",
      "[ 1.2014792  -1.3746351   0.00201992 -0.03522235  1.2273179 ]\n",
      " bias: -2.1556835174560547\n",
      "\n",
      "Neuron 3: weights:\n",
      "[ 1.0255619  -2.0049834  -0.7676882  -0.88890296 -0.43844178]\n",
      " bias: 1.0728280544281006\n",
      "\n",
      "$\n",
      "Layer 2\n",
      "Neuron 0: weights:\n",
      "[ 0.0495763   0.03545733 -1.2850536   3.        ]\n",
      " bias: 0.4158397912979126\n",
      "\n",
      "Neuron 1: weights:\n",
      "[ 2.9377222  -0.53134817  0.0083512  -1.6495303 ]\n",
      " bias: 0.13161452114582062\n",
      "\n",
      "Neuron 2: weights:\n",
      "[-0.02613151  2.4149375   3.          0.35163274]\n",
      " bias: -1.6541035175323486\n",
      "\n",
      "$\n",
      "\n"
     ]
    }
   ],
   "source": [
    "print(model)"
   ]
  }
 ],
 "metadata": {
  "kernelspec": {
   "display_name": "Python 3",
   "language": "python",
   "name": "python3"
  },
  "language_info": {
   "codemirror_mode": {
    "name": "ipython",
    "version": 3
   },
   "file_extension": ".py",
   "mimetype": "text/x-python",
   "name": "python",
   "nbconvert_exporter": "python",
   "pygments_lexer": "ipython3",
   "version": "3.6.10"
  }
 },
 "nbformat": 4,
 "nbformat_minor": 2
}
