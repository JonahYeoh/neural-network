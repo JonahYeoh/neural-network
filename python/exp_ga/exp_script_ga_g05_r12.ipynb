{
 "cells": [
  {
   "cell_type": "code",
   "execution_count": 1,
   "metadata": {},
   "outputs": [],
   "source": [
    "# single"
   ]
  },
  {
   "cell_type": "code",
   "execution_count": 2,
   "metadata": {},
   "outputs": [],
   "source": [
    "# dependency\n",
    "import numpy as np\n",
    "import pandas as pd\n",
    "import copy\n",
    "import math\n",
    "import sys\n",
    "import os\n",
    "from activations import relu, leaky_relu, sigmoid, tanh, softmax, d_sigmoid, d_relu\n",
    "from initializers import glorot_uniform, random_normal, random_uniform\n",
    "from regularizers import l1_regularizer, l2_regularizer\n",
    "from utility import trim_tail, multiply, subtract, get_nparams, one_hot_encoding, get_data\n",
    "from metrics import MSE, CCE, ACC, PRECISION, RECALL, essential_metrics, wondering_penalty, close_gap_penalty\n",
    "from pso import PSO\n",
    "from ga import GA\n",
    "from nn import Network\n",
    "from layer import DenseLayer\n",
    "from scalers import MinMaxScaler, StandardScaler"
   ]
  },
  {
   "cell_type": "code",
   "execution_count": 3,
   "metadata": {},
   "outputs": [],
   "source": [
    "# reference\n",
    "metrics_fn_dict = dict()\n",
    "metrics_fn_dict['accuracy'] = ACC\n",
    "metrics_fn_dict['categorical_crossentropy'] = CCE\n",
    "metrics_fn_dict['mean_square_error'] = MSE\n",
    "metrics_fn_dict['precision'] = PRECISION\n",
    "metrics_fn_dict['recall'] = RECALL\n",
    "metrics_fn_dict['essential_metrics'] = essential_metrics"
   ]
  },
  {
   "cell_type": "code",
   "execution_count": 4,
   "metadata": {},
   "outputs": [],
   "source": [
    "# model\n",
    "model = Network(5, lr = None)\n",
    "model.add_layer(DenseLayer(1, 4, True, afn=sigmoid, dafn=None, rfn=None))\n",
    "model.add_layer(DenseLayer(2, 3, True, afn=softmax, dafn=None, rfn=None))"
   ]
  },
  {
   "cell_type": "code",
   "execution_count": 5,
   "metadata": {},
   "outputs": [],
   "source": [
    "# optimizer\n",
    "ga = GA(\n",
    "    dict(\n",
    "        m = 100,\n",
    "        x_rate = 0.5,\n",
    "        m_rate = 0.5,\n",
    "        weight_constraint = [-3.,3.],\n",
    "        radioactive_rating = 0.1,\n",
    "        grow_factor = 0.1,\n",
    "        scale_hyperparameter = False,\n",
    "        regularizer = None))"
   ]
  },
  {
   "cell_type": "code",
   "execution_count": 6,
   "metadata": {},
   "outputs": [
    {
     "name": "stdout",
     "output_type": "stream",
     "text": [
      "building layer 1 with 5\n",
      "24\n",
      "building layer 2 with 4\n",
      "15\n"
     ]
    }
   ],
   "source": [
    "model.compile(loss_fn = 'categorical_crossentropy', optimizer = ga, \\\n",
    "    metrics = ['accuracy', 'mean_square_error', 'categorical_crossentropy', 'precision', 'recall', 'f1'])"
   ]
  },
  {
   "cell_type": "code",
   "execution_count": 7,
   "metadata": {},
   "outputs": [
    {
     "name": "stdout",
     "output_type": "stream",
     "text": [
      "<class 'pandas.core.frame.DataFrame'>\n",
      "RangeIndex: 107 entries, 0 to 106\n",
      "Data columns (total 6 columns):\n",
      " #   Column  Non-Null Count  Dtype  \n",
      "---  ------  --------------  -----  \n",
      " 0   f1      107 non-null    float32\n",
      " 1   f2      107 non-null    float32\n",
      " 2   f3      107 non-null    float32\n",
      " 3   f4      107 non-null    float32\n",
      " 4   f5      107 non-null    float32\n",
      " 5   label   107 non-null    float32\n",
      "dtypes: float32(6)\n",
      "memory usage: 2.6 KB\n",
      "None\n",
      "<class 'pandas.core.frame.DataFrame'>\n",
      "RangeIndex: 108 entries, 0 to 107\n",
      "Data columns (total 6 columns):\n",
      " #   Column  Non-Null Count  Dtype  \n",
      "---  ------  --------------  -----  \n",
      " 0   f1      108 non-null    float32\n",
      " 1   f2      108 non-null    float32\n",
      " 2   f3      108 non-null    float32\n",
      " 3   f4      108 non-null    float32\n",
      " 4   f5      108 non-null    float32\n",
      " 5   label   108 non-null    float32\n",
      "dtypes: float32(6)\n",
      "memory usage: 2.7 KB\n",
      "None\n"
     ]
    }
   ],
   "source": [
    "# data loading\n",
    "DATA = os.path.join('c:\\\\Users\\\\tcumi\\\\github_repo\\\\neural-network\\\\', 'dataset')\n",
    "GROUP = 5\n",
    "COLUMNS = ['f1', 'f2', 'f3', 'f4', 'f5', 'label']\n",
    "N_CLASS = 3\n",
    "EPOCHS = 500\n",
    "train_dir, test_dir = \"..//dataset//training_data{}.txt\".format(GROUP), \"..//dataset//testing_data{}.txt\".format(GROUP)\n",
    "train, test = get_data(DATA, train_dir, COLUMNS), get_data(DATA, test_dir, COLUMNS)\n",
    "# shuffle\n",
    "train, test = train.sample(frac=1), test.sample(frac=1)\n",
    "x_train, y_train = train.drop('label', axis=1), train['label']\n",
    "x_test, y_test = test.drop('label', axis=1), test['label']"
   ]
  },
  {
   "cell_type": "code",
   "execution_count": 8,
   "metadata": {},
   "outputs": [],
   "source": [
    "# data scaling and encoding\n",
    "scaler = StandardScaler(['f1', 'f2', 'f3', 'f4', 'f5'])\n",
    "scaler.fit(x_train)\n",
    "x_train = scaler.transform(x_train)\n",
    "x_test = scaler.transform(x_test)\n",
    "y_train = one_hot_encoding(y_train, N_CLASS)\n",
    "y_test = one_hot_encoding(y_test, N_CLASS)"
   ]
  },
  {
   "cell_type": "code",
   "execution_count": 9,
   "metadata": {
    "scrolled": true,
    "tags": [
     "outputPrepend"
    ]
   },
   "outputs": [
    {
     "name": "stderr",
     "output_type": "stream",
     "text": [
      "C:\\Users\\tcumi\\github_repo\\neural-network\\python\\ga.py:201: RuntimeWarning: overflow encountered in add\n",
      "  self.population.sort(key=lambda p: p.fitness + np.random.uniform(-shift, shift, 1), reverse = self.aim)\n"
     ]
    },
    {
     "name": "stdout",
     "output_type": "stream",
     "text": [
      "Checkpoint 100, Accuracy: 0.9567901234567902, Loss: 0.32266072873716\n",
      "Checkpoint 200, Accuracy: 0.9629629629629629, Loss: 0.290971455750642\n",
      "Checkpoint 300, Accuracy: 0.9629629629629629, Loss: 0.262207861299868\n",
      "Checkpoint 400, Accuracy: 0.9629629629629629, Loss: 0.23916746068883826\n",
      "Checkpoint 500, Accuracy: 0.9629629629629629, Loss: 0.21781345650001807\n"
     ]
    }
   ],
   "source": [
    "# learning phase\n",
    "breakpoint = 100\n",
    "checkpoints = list()\n",
    "history = list()\n",
    "for century in range(0, EPOCHS, breakpoint):\n",
    "    sub_history = model.fit(x_train, y_train, breakpoint, verbose = 0)\n",
    "    score = model.evaluate(x_test, y_test, False, verbose = 0)\n",
    "    print('Checkpoint {}, Accuracy: {}, Loss: {}'.format(century+breakpoint, score['accuracy'], score[model.loss_fn]))\n",
    "    score['checkpoint'] = century + breakpoint\n",
    "    checkpoints.append(score)\n",
    "    history.extend(sub_history)\n",
    "    "
   ]
  },
  {
   "cell_type": "code",
   "execution_count": 10,
   "metadata": {},
   "outputs": [],
   "source": [
    "import matplotlib.pyplot as plt\n",
    "\n",
    "def draw_plot(x, y_list, x_label=None, y_label=None, legend=None, title=None):\n",
    "    fig, ax = plt.subplots(figsize=(12,5))\n",
    "    for xi, yi in zip(x, y_list):\n",
    "        ax.plot(xi, yi)\n",
    "    if x_label is not None and y_label is not None:\n",
    "        ax.set(xlabel=x_label, ylabel=y_label, title='{} VS {}'.format(x_label, y_label))\n",
    "    if legend is not None:\n",
    "        ax.legend(legend)\n",
    "    ax.grid()\n",
    "    plt.show()"
   ]
  },
  {
   "cell_type": "code",
   "execution_count": 11,
   "metadata": {},
   "outputs": [
    {
     "name": "stdout",
     "output_type": "stream",
     "text": [
      "[0. 1. 0.] <-> [0.44004497 0.54802245 0.01193261]\n",
      "[1. 0. 0.] <-> [0.8999508  0.02228874 0.07776045]\n",
      "[0. 1. 0.] <-> [0.24885194 0.74193054 0.00921758]\n",
      "[1. 0. 0.] <-> [0.83291453 0.15189262 0.01519284]\n",
      "[1. 0. 0.] <-> [0.92820066 0.02755932 0.04423998]\n",
      "[1. 0. 0.] <-> [0.85144323 0.13302872 0.01552807]\n",
      "[1. 0. 0.] <-> [0.8817341  0.1078318  0.01043415]\n",
      "[0. 0. 1.] <-> [0.20138617 0.00377552 0.79483837]\n",
      "[1. 0. 0.] <-> [0.94253904 0.0464442  0.01101678]\n",
      "[1. 0. 0.] <-> [0.921322   0.03976609 0.03891191]\n",
      "[1. 0. 0.] <-> [0.8499264  0.01813309 0.13194048]\n",
      "[1. 0. 0.] <-> [0.8702804  0.02417985 0.10553981]\n",
      "[1. 0. 0.] <-> [0.93389875 0.05428658 0.01181475]\n",
      "[1. 0. 0.] <-> [0.41991702 0.0057149  0.57436806]\n",
      "[1. 0. 0.] <-> [0.8815933  0.01889485 0.09951182]\n",
      "[1. 0. 0.] <-> [0.7126021  0.27215242 0.01524539]\n",
      "[0. 1. 0.] <-> [0.18792157 0.8043967  0.00768176]\n",
      "[1. 0. 0.] <-> [0.88886356 0.07628019 0.03485624]\n",
      "[1. 0. 0.] <-> [0.9405638  0.02090275 0.03853355]\n",
      "[1. 0. 0.] <-> [0.9362967  0.04113073 0.02257254]\n",
      "[1. 0. 0.] <-> [0.9229544  0.06293066 0.01411494]\n",
      "[1. 0. 0.] <-> [0.8788541  0.10856555 0.01258024]\n",
      "[1. 0. 0.] <-> [0.91742957 0.06329921 0.01927117]\n",
      "[1. 0. 0.] <-> [0.92084885 0.06662634 0.01252485]\n",
      "[1. 0. 0.] <-> [0.88936865 0.09796596 0.01266534]\n",
      "[1. 0. 0.] <-> [0.93139076 0.04853646 0.02007275]\n",
      "[1. 0. 0.] <-> [0.917038   0.02086761 0.06209446]\n",
      "[1. 0. 0.] <-> [0.9534121  0.03199269 0.01459523]\n",
      "[1. 0. 0.] <-> [0.9364886  0.02895916 0.03455221]\n",
      "[1. 0. 0.] <-> [0.9170476  0.06838574 0.01456669]\n",
      "[1. 0. 0.] <-> [0.8976911  0.08963072 0.01267819]\n",
      "[1. 0. 0.] <-> [0.93508995 0.0495747  0.01533529]\n",
      "[1. 0. 0.] <-> [0.9207806  0.05890102 0.02031837]\n",
      "[0. 0. 1.] <-> [0.2004956  0.00374311 0.7957612 ]\n",
      "[0. 0. 1.] <-> [0.7957209  0.01417466 0.19010451]\n",
      "[1. 0. 0.] <-> [0.95334667 0.02533649 0.02131685]\n",
      "[1. 0. 0.] <-> [0.89389735 0.02257961 0.08352302]\n",
      "[1. 0. 0.] <-> [0.7042752 0.0096131 0.2861117]\n",
      "[0. 0. 1.] <-> [0.20040272 0.00374252 0.79585475]\n",
      "[0. 1. 0.] <-> [0.18787019 0.80444187 0.00768794]\n",
      "[0. 1. 0.] <-> [0.40911233 0.56811154 0.02277608]\n",
      "[1. 0. 0.] <-> [0.9220792  0.06688742 0.01103342]\n",
      "[1. 0. 0.] <-> [0.9389262  0.04126208 0.01981169]\n",
      "[0. 1. 0.] <-> [0.19018744 0.8020221  0.00779042]\n",
      "[1. 0. 0.] <-> [0.76575685 0.21875383 0.01548938]\n",
      "[1. 0. 0.] <-> [0.8855606  0.01636949 0.09806995]\n",
      "[1. 0. 0.] <-> [0.8474197  0.13316181 0.01941851]\n",
      "[1. 0. 0.] <-> [0.95484364 0.03122425 0.0139321 ]\n",
      "[1. 0. 0.] <-> [0.8500706  0.01347024 0.1364592 ]\n",
      "[0. 1. 0.] <-> [0.18791883 0.8043996  0.00768165]\n",
      "[0. 0. 1.] <-> [0.20316057 0.00378421 0.7930552 ]\n",
      "[1. 0. 0.] <-> [0.8890527  0.09736422 0.013583  ]\n",
      "[1. 0. 0.] <-> [0.93668616 0.03770084 0.02561311]\n",
      "[0. 1. 0.] <-> [0.60310453 0.38231507 0.01458033]\n",
      "[0. 0. 1.] <-> [0.8386127  0.0168865  0.14450087]\n",
      "[1. 0. 0.] <-> [0.92155457 0.03494036 0.04350503]\n",
      "[1. 0. 0.] <-> [0.8728404  0.01292209 0.11423757]\n",
      "[0. 0. 1.] <-> [0.20055369 0.00374042 0.79570585]\n",
      "[1. 0. 0.] <-> [0.95173097 0.03902017 0.00924881]\n",
      "[1. 0. 0.] <-> [0.9192653  0.01768953 0.06304525]\n",
      "[1. 0. 0.] <-> [0.92467195 0.06592852 0.00939955]\n",
      "[1. 0. 0.] <-> [0.8969943  0.08300103 0.02000473]\n",
      "[0. 0. 1.] <-> [0.6351442  0.00795064 0.35690522]\n",
      "[0. 0. 1.] <-> [0.20180123 0.003753   0.7944457 ]\n",
      "[1. 0. 0.] <-> [0.89383346 0.0921557  0.01401093]\n",
      "[0. 1. 0.] <-> [0.3369099  0.640502   0.02258817]\n",
      "[1. 0. 0.] <-> [0.9432398 0.0446449 0.0121153]\n",
      "[0. 0. 1.] <-> [0.20001246 0.00376255 0.796225  ]\n",
      "[1. 0. 0.] <-> [0.92763585 0.02508047 0.04728362]\n",
      "[1. 0. 0.] <-> [0.9507716  0.02985755 0.01937081]\n",
      "[1. 0. 0.] <-> [0.6268696  0.3588681  0.01426234]\n",
      "[1. 0. 0.] <-> [0.73688644 0.01577787 0.24733563]\n",
      "[1. 0. 0.] <-> [0.90568537 0.07978379 0.01453087]\n",
      "[1. 0. 0.] <-> [0.94520676 0.03633014 0.01846309]\n",
      "[1. 0. 0.] <-> [0.80561733 0.18016638 0.01421623]\n",
      "[0. 0. 1.] <-> [0.20236287 0.00375792 0.7938792 ]\n",
      "[1. 0. 0.] <-> [0.9277106  0.06041367 0.01187569]\n",
      "[1. 0. 0.] <-> [0.93393385 0.05253339 0.0135327 ]\n",
      "[1. 0. 0.] <-> [0.39878994 0.00669972 0.5945103 ]\n",
      "[1. 0. 0.] <-> [0.95721006 0.03175716 0.01103275]\n",
      "[1. 0. 0.] <-> [0.89566994 0.08878289 0.01554724]\n",
      "[1. 0. 0.] <-> [0.9340859  0.05298544 0.01292856]\n",
      "[1. 0. 0.] <-> [0.9322963  0.02128375 0.04641995]\n",
      "[0. 1. 0.] <-> [0.32787976 0.6612849  0.0108354 ]\n",
      "[1. 0. 0.] <-> [0.84971285 0.01709735 0.13318983]\n",
      "[0. 0. 1.] <-> [0.1999877  0.00374905 0.7962633 ]\n",
      "[1. 0. 0.] <-> [0.95024145 0.03431645 0.01544215]\n",
      "[1. 0. 0.] <-> [0.9373495  0.05041377 0.01223675]\n",
      "[0. 1. 0.] <-> [0.18790384 0.8044119  0.00768428]\n",
      "[1. 0. 0.] <-> [0.8764435  0.01496208 0.10859441]\n",
      "[0. 0. 1.] <-> [0.2009918 0.0037476 0.7952606]\n",
      "[1. 0. 0.] <-> [0.90184927 0.08305553 0.01509518]\n",
      "[0. 1. 0.] <-> [0.2679354 0.721916  0.0101486]\n",
      "[0. 1. 0.] <-> [0.33506685 0.6545753  0.01035781]\n",
      "[1. 0. 0.] <-> [0.931474   0.05516359 0.01336238]\n",
      "[1. 0. 0.] <-> [0.9274744  0.05665894 0.01586669]\n",
      "[1. 0. 0.] <-> [0.80147886 0.01453856 0.18398252]\n",
      "[0. 1. 0.] <-> [0.18713668 0.8051107  0.00775265]\n",
      "[1. 0. 0.] <-> [0.8358748  0.01793409 0.14619108]\n",
      "[1. 0. 0.] <-> [0.9485406  0.03682096 0.01463842]\n",
      "[0. 1. 0.] <-> [0.18847385 0.8038297  0.00769636]\n",
      "[0. 1. 0.] <-> [0.19569574 0.79642224 0.00788199]\n",
      "[1. 0. 0.] <-> [0.92149496 0.06676978 0.01173522]\n",
      "[1. 0. 0.] <-> [0.89464355 0.08860046 0.01675592]\n",
      "[0. 1. 0.] <-> [0.18790706 0.8044084  0.00768457]\n",
      "[0. 0. 1.] <-> [0.20053516 0.00374024 0.7957246 ]\n",
      "[0. 0. 1.] <-> [0.18153876 0.00413093 0.81433034]\n",
      "[1. 0. 0.] <-> [0.9261815  0.05836185 0.01545663]\n",
      "{'accuracy': 0.9629629629629629, 'mean_square_error': 0.10210582044754096, 'categorical_crossentropy': 0.21781345650001807, 'precision': 0.9444444444444444, 'recall': 0.9444444444444444, 'f1': 0.9444444444444444, 'essential_metrics': {0: {'tp_hit': 74, 'fp_hit': 4, 'tn_hit': 28, 'fn_hit': 2}, 1: {'tp_hit': 16, 'fp_hit': 0, 'tn_hit': 91, 'fn_hit': 1}, 2: {'tp_hit': 12, 'fp_hit': 2, 'tn_hit': 91, 'fn_hit': 3}}}\n"
     ]
    }
   ],
   "source": [
    "# recall phase\n",
    "score = model.evaluate(x_test, y_test, False)\n",
    "print(score)"
   ]
  },
  {
   "cell_type": "code",
   "execution_count": 12,
   "metadata": {},
   "outputs": [],
   "source": [
    "# Testing Performance"
   ]
  },
  {
   "cell_type": "code",
   "execution_count": 13,
   "metadata": {},
   "outputs": [
    {
     "data": {
      "image/png": "[encoded data removed]",
      "text/plain": [
       "<Figure size 864x360 with 1 Axes>"
      ]
     },
     "metadata": {
      "needs_background": "light"
     },
     "output_type": "display_data"
    },
    {
     "data": {
      "image/png": "[encoded data removed]",
      "text/plain": [
       "<Figure size 864x360 with 1 Axes>"
      ]
     },
     "metadata": {
      "needs_background": "light"
     },
     "output_type": "display_data"
    }
   ],
   "source": [
    "draw_plot(x = [[i for i in range(len(history))], [(i+1)*breakpoint for i in range(len(checkpoints))]], y_list = [history, [ ckp[model.loss_fn] for ckp in checkpoints ]], x_label = 'Epochs', \\\n",
    "    y_label = model.loss_fn, legend=['train', 'test'])\n",
    "acc = [ ckp['accuracy'] for ckp in checkpoints ]\n",
    "draw_plot(x = [[(i+1)*breakpoint for i in range(len(checkpoints))]], y_list = [acc], x_label = 'Checkpoints', \\\n",
    "    y_label = 'accuracy')"
   ]
  },
  {
   "cell_type": "code",
   "execution_count": 14,
   "metadata": {
    "scrolled": false
   },
   "outputs": [
    {
     "name": "stdout",
     "output_type": "stream",
     "text": [
      "{'accuracy': 0.9567901234567902, 'mean_square_error': 0.17672480191971, 'categorical_crossentropy': 0.32266072873716, 'precision': 0.9351851851851852, 'recall': 0.9351851851851852, 'f1': 0.9351851851851852, 'essential_metrics': {0: {'tp_hit': 76, 'fp_hit': 7, 'tn_hit': 25, 'fn_hit': 0}, 1: {'tp_hit': 13, 'fp_hit': 0, 'tn_hit': 91, 'fn_hit': 4}, 2: {'tp_hit': 12, 'fp_hit': 0, 'tn_hit': 93, 'fn_hit': 3}}, 'checkpoint': 100} \n",
      "\n",
      "\n",
      "{'accuracy': 0.9629629629629629, 'mean_square_error': 0.1510257167784543, 'categorical_crossentropy': 0.290971455750642, 'precision': 0.9444444444444444, 'recall': 0.9444444444444444, 'f1': 0.9444444444444444, 'essential_metrics': {0: {'tp_hit': 76, 'fp_hit': 6, 'tn_hit': 26, 'fn_hit': 0}, 1: {'tp_hit': 14, 'fp_hit': 0, 'tn_hit': 91, 'fn_hit': 3}, 2: {'tp_hit': 12, 'fp_hit': 0, 'tn_hit': 93, 'fn_hit': 3}}, 'checkpoint': 200} \n",
      "\n",
      "\n",
      "{'accuracy': 0.9629629629629629, 'mean_square_error': 0.1257840906941461, 'categorical_crossentropy': 0.262207861299868, 'precision': 0.9444444444444444, 'recall': 0.9444444444444444, 'f1': 0.9444444444444444, 'essential_metrics': {0: {'tp_hit': 75, 'fp_hit': 5, 'tn_hit': 27, 'fn_hit': 1}, 1: {'tp_hit': 15, 'fp_hit': 0, 'tn_hit': 91, 'fn_hit': 2}, 2: {'tp_hit': 12, 'fp_hit': 1, 'tn_hit': 92, 'fn_hit': 3}}, 'checkpoint': 300} \n",
      "\n",
      "\n",
      "{'accuracy': 0.9629629629629629, 'mean_square_error': 0.11523898005342917, 'categorical_crossentropy': 0.23916746068883826, 'precision': 0.9444444444444444, 'recall': 0.9444444444444444, 'f1': 0.9444444444444444, 'essential_metrics': {0: {'tp_hit': 74, 'fp_hit': 4, 'tn_hit': 28, 'fn_hit': 2}, 1: {'tp_hit': 16, 'fp_hit': 0, 'tn_hit': 91, 'fn_hit': 1}, 2: {'tp_hit': 12, 'fp_hit': 2, 'tn_hit': 91, 'fn_hit': 3}}, 'checkpoint': 400} \n",
      "\n",
      "\n",
      "{'accuracy': 0.9629629629629629, 'mean_square_error': 0.10210582044754096, 'categorical_crossentropy': 0.21781345650001807, 'precision': 0.9444444444444444, 'recall': 0.9444444444444444, 'f1': 0.9444444444444444, 'essential_metrics': {0: {'tp_hit': 74, 'fp_hit': 4, 'tn_hit': 28, 'fn_hit': 2}, 1: {'tp_hit': 16, 'fp_hit': 0, 'tn_hit': 91, 'fn_hit': 1}, 2: {'tp_hit': 12, 'fp_hit': 2, 'tn_hit': 91, 'fn_hit': 3}}, 'checkpoint': 500} \n",
      "\n",
      "\n"
     ]
    }
   ],
   "source": [
    "for checkpoint in checkpoints:\n",
    "    print(checkpoint, '\\n\\n')"
   ]
  },
  {
   "cell_type": "code",
   "execution_count": 15,
   "metadata": {},
   "outputs": [
    {
     "name": "stdout",
     "output_type": "stream",
     "text": [
      "Layer 1\n",
      "Neuron 0: weights:\n",
      "[-1.776078    1.7918009  -1.388253   -2.0266104  -0.69417185]\n",
      " bias: 1.859320044517517\n",
      "\n",
      "Neuron 1: weights:\n",
      "[-1.5451759  2.8759308  1.203403  -1.24891   -2.6640985]\n",
      " bias: 2.2684454917907715\n",
      "\n",
      "Neuron 2: weights:\n",
      "[-0.6217478   2.27088     2.9882548   0.28502122 -1.6133094 ]\n",
      " bias: -2.020721197128296\n",
      "\n",
      "Neuron 3: weights:\n",
      "[-2.5481443   1.1381567   0.7380282   0.77479625 -1.5104568 ]\n",
      " bias: 0.17969141900539398\n",
      "\n",
      "$\n",
      "Layer 2\n",
      "Neuron 0: weights:\n",
      "[ 0.34867275  1.2395892  -1.1128436  -1.8962129 ]\n",
      " bias: 0.9818120002746582\n",
      "\n",
      "Neuron 1: weights:\n",
      "[-0.5879866   2.1822507   2.679217   -0.25845388]\n",
      " bias: -2.9999301433563232\n",
      "\n",
      "Neuron 2: weights:\n",
      "[-2.0890765  -2.9949543  -0.06383463 -0.8486452 ]\n",
      " bias: 2.360332489013672\n",
      "\n",
      "$\n",
      "\n"
     ]
    }
   ],
   "source": [
    "print(model)"
   ]
  }
 ],
 "metadata": {
  "kernelspec": {
   "display_name": "Python 3",
   "language": "python",
   "name": "python3"
  },
  "language_info": {
   "codemirror_mode": {
    "name": "ipython",
    "version": 3
   },
   "file_extension": ".py",
   "mimetype": "text/x-python",
   "name": "python",
   "nbconvert_exporter": "python",
   "pygments_lexer": "ipython3",
   "version": "3.6.10"
  }
 },
 "nbformat": 4,
 "nbformat_minor": 2
}
