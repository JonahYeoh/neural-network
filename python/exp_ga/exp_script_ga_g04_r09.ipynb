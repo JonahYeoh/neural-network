{
 "cells": [
  {
   "cell_type": "code",
   "execution_count": 1,
   "metadata": {},
   "outputs": [],
   "source": [
    "# single"
   ]
  },
  {
   "cell_type": "code",
   "execution_count": 2,
   "metadata": {},
   "outputs": [],
   "source": [
    "# dependency\n",
    "import numpy as np\n",
    "import pandas as pd\n",
    "import copy\n",
    "import math\n",
    "import sys\n",
    "import os\n",
    "from activations import relu, leaky_relu, sigmoid, tanh, softmax, d_sigmoid, d_relu\n",
    "from initializers import glorot_uniform, random_normal, random_uniform\n",
    "from regularizers import l1_regularizer, l2_regularizer\n",
    "from utility import trim_tail, multiply, subtract, get_nparams, one_hot_encoding, get_data\n",
    "from metrics import MSE, CCE, ACC, PRECISION, RECALL, essential_metrics, wondering_penalty, close_gap_penalty\n",
    "from pso import PSO\n",
    "from ga import GA\n",
    "from nn import Network\n",
    "from layer import DenseLayer\n",
    "from scalers import MinMaxScaler, StandardScaler"
   ]
  },
  {
   "cell_type": "code",
   "execution_count": 3,
   "metadata": {},
   "outputs": [],
   "source": [
    "# reference\n",
    "metrics_fn_dict = dict()\n",
    "metrics_fn_dict['accuracy'] = ACC\n",
    "metrics_fn_dict['categorical_crossentropy'] = CCE\n",
    "metrics_fn_dict['mean_square_error'] = MSE\n",
    "metrics_fn_dict['precision'] = PRECISION\n",
    "metrics_fn_dict['recall'] = RECALL\n",
    "metrics_fn_dict['essential_metrics'] = essential_metrics"
   ]
  },
  {
   "cell_type": "code",
   "execution_count": 4,
   "metadata": {},
   "outputs": [],
   "source": [
    "# model\n",
    "model = Network(5, lr = None)\n",
    "model.add_layer(DenseLayer(1, 4, True, afn=sigmoid, dafn=None, rfn=None))\n",
    "model.add_layer(DenseLayer(2, 3, True, afn=softmax, dafn=None, rfn=None))"
   ]
  },
  {
   "cell_type": "code",
   "execution_count": 5,
   "metadata": {},
   "outputs": [],
   "source": [
    "# optimizer\n",
    "ga = GA(\n",
    "    dict(\n",
    "        m = 50,\n",
    "        x_rate = 0.5,\n",
    "        m_rate = 0.5,\n",
    "        weight_constraint = [-3.,3.],\n",
    "        radioactive_rating = 0.1,\n",
    "        grow_factor = 0.1,\n",
    "        scale_hyperparameter = False,\n",
    "        regularizer = None))"
   ]
  },
  {
   "cell_type": "code",
   "execution_count": 6,
   "metadata": {},
   "outputs": [
    {
     "name": "stdout",
     "output_type": "stream",
     "text": [
      "building layer 1 with 5\n",
      "24\n",
      "building layer 2 with 4\n",
      "15\n"
     ]
    }
   ],
   "source": [
    "model.compile(loss_fn = 'categorical_crossentropy', optimizer = ga, \\\n",
    "    metrics = ['accuracy', 'mean_square_error', 'categorical_crossentropy', 'precision', 'recall', 'f1'])"
   ]
  },
  {
   "cell_type": "code",
   "execution_count": 7,
   "metadata": {},
   "outputs": [
    {
     "name": "stdout",
     "output_type": "stream",
     "text": [
      "<class 'pandas.core.frame.DataFrame'>\n",
      "RangeIndex: 107 entries, 0 to 106\n",
      "Data columns (total 6 columns):\n",
      " #   Column  Non-Null Count  Dtype  \n",
      "---  ------  --------------  -----  \n",
      " 0   f1      107 non-null    float32\n",
      " 1   f2      107 non-null    float32\n",
      " 2   f3      107 non-null    float32\n",
      " 3   f4      107 non-null    float32\n",
      " 4   f5      107 non-null    float32\n",
      " 5   label   107 non-null    float32\n",
      "dtypes: float32(6)\n",
      "memory usage: 2.6 KB\n",
      "None\n",
      "<class 'pandas.core.frame.DataFrame'>\n",
      "RangeIndex: 108 entries, 0 to 107\n",
      "Data columns (total 6 columns):\n",
      " #   Column  Non-Null Count  Dtype  \n",
      "---  ------  --------------  -----  \n",
      " 0   f1      108 non-null    float32\n",
      " 1   f2      108 non-null    float32\n",
      " 2   f3      108 non-null    float32\n",
      " 3   f4      108 non-null    float32\n",
      " 4   f5      108 non-null    float32\n",
      " 5   label   108 non-null    float32\n",
      "dtypes: float32(6)\n",
      "memory usage: 2.7 KB\n",
      "None\n"
     ]
    }
   ],
   "source": [
    "# data loading\n",
    "DATA = os.path.join('c:\\\\Users\\\\tcumi\\\\github_repo\\\\neural-network\\\\', 'dataset')\n",
    "GROUP = 4\n",
    "COLUMNS = ['f1', 'f2', 'f3', 'f4', 'f5', 'label']\n",
    "N_CLASS = 3\n",
    "EPOCHS = 500\n",
    "train_dir, test_dir = \"..//dataset//training_data{}.txt\".format(GROUP), \"..//dataset//testing_data{}.txt\".format(GROUP)\n",
    "train, test = get_data(DATA, train_dir, COLUMNS), get_data(DATA, test_dir, COLUMNS)\n",
    "# shuffle\n",
    "train, test = train.sample(frac=1), test.sample(frac=1)\n",
    "x_train, y_train = train.drop('label', axis=1), train['label']\n",
    "x_test, y_test = test.drop('label', axis=1), test['label']"
   ]
  },
  {
   "cell_type": "code",
   "execution_count": 8,
   "metadata": {},
   "outputs": [],
   "source": [
    "# data scaling and encoding\n",
    "scaler = StandardScaler(['f1', 'f2', 'f3', 'f4', 'f5'])\n",
    "scaler.fit(x_train)\n",
    "x_train = scaler.transform(x_train)\n",
    "x_test = scaler.transform(x_test)\n",
    "y_train = one_hot_encoding(y_train, N_CLASS)\n",
    "y_test = one_hot_encoding(y_test, N_CLASS)"
   ]
  },
  {
   "cell_type": "code",
   "execution_count": 9,
   "metadata": {
    "scrolled": true,
    "tags": [
     "outputPrepend"
    ]
   },
   "outputs": [
    {
     "name": "stderr",
     "output_type": "stream",
     "text": [
      "C:\\Users\\tcumi\\github_repo\\neural-network\\python\\ga.py:201: RuntimeWarning: overflow encountered in add\n",
      "  self.population.sort(key=lambda p: p.fitness + np.random.uniform(-shift, shift, 1), reverse = self.aim)\n"
     ]
    },
    {
     "name": "stdout",
     "output_type": "stream",
     "text": [
      "Checkpoint 100, Accuracy: 0.8703703703703703, Loss: 0.3288009078414352\n",
      "Checkpoint 200, Accuracy: 0.9567901234567902, Loss: 0.2848660504376447\n",
      "Checkpoint 300, Accuracy: 0.9629629629629629, Loss: 0.26361557289406107\n",
      "Checkpoint 400, Accuracy: 0.9567901234567902, Loss: 0.23972838013260453\n",
      "Checkpoint 500, Accuracy: 0.9567901234567902, Loss: 0.21653044665301288\n"
     ]
    }
   ],
   "source": [
    "# learning phase\n",
    "breakpoint = 100\n",
    "checkpoints = list()\n",
    "history = list()\n",
    "for century in range(0, EPOCHS, breakpoint):\n",
    "    sub_history = model.fit(x_train, y_train, breakpoint, verbose = 0)\n",
    "    score = model.evaluate(x_test, y_test, False, verbose = 0)\n",
    "    print('Checkpoint {}, Accuracy: {}, Loss: {}'.format(century+breakpoint, score['accuracy'], score[model.loss_fn]))\n",
    "    score['checkpoint'] = century + breakpoint\n",
    "    checkpoints.append(score)\n",
    "    history.extend(sub_history)\n",
    "    "
   ]
  },
  {
   "cell_type": "code",
   "execution_count": 10,
   "metadata": {},
   "outputs": [],
   "source": [
    "import matplotlib.pyplot as plt\n",
    "\n",
    "def draw_plot(x, y_list, x_label=None, y_label=None, legend=None, title=None):\n",
    "    fig, ax = plt.subplots(figsize=(12,5))\n",
    "    for xi, yi in zip(x, y_list):\n",
    "        ax.plot(xi, yi)\n",
    "    if x_label is not None and y_label is not None:\n",
    "        ax.set(xlabel=x_label, ylabel=y_label, title='{} VS {}'.format(x_label, y_label))\n",
    "    if legend is not None:\n",
    "        ax.legend(legend)\n",
    "    ax.grid()\n",
    "    plt.show()"
   ]
  },
  {
   "cell_type": "code",
   "execution_count": 11,
   "metadata": {},
   "outputs": [
    {
     "name": "stdout",
     "output_type": "stream",
     "text": [
      "[1. 0. 0.] <-> [0.9237555  0.06120832 0.01503612]\n",
      "[1. 0. 0.] <-> [0.9407512  0.05626975 0.002979  ]\n",
      "[1. 0. 0.] <-> [0.94376713 0.05109531 0.00513763]\n",
      "[1. 0. 0.] <-> [0.9687329  0.02013324 0.01113389]\n",
      "[0. 0. 1.] <-> [0.60286313 0.02238173 0.37475514]\n",
      "[1. 0. 0.] <-> [0.9130593  0.08399349 0.00294722]\n",
      "[1. 0. 0.] <-> [0.92890483 0.01003128 0.0610639 ]\n",
      "[1. 0. 0.] <-> [0.97132146 0.01579593 0.01288265]\n",
      "[1. 0. 0.] <-> [0.94574684 0.04194222 0.01231092]\n",
      "[1. 0. 0.] <-> [0.9113907  0.02298685 0.06562238]\n",
      "[1. 0. 0.] <-> [0.83332926 0.01091384 0.15575688]\n",
      "[1. 0. 0.] <-> [0.92559874 0.04909455 0.02530672]\n",
      "[1. 0. 0.] <-> [0.96124125 0.02376998 0.01498875]\n",
      "[0. 1. 0.] <-> [9.6728444e-02 9.0314823e-01 1.2325549e-04]\n",
      "[0. 1. 0.] <-> [9.1529459e-02 9.0835965e-01 1.1087481e-04]\n",
      "[1. 0. 0.] <-> [0.9204449  0.01741702 0.062138  ]\n",
      "[0. 1. 0.] <-> [1.0467754e-01 8.9519060e-01 1.3193719e-04]\n",
      "[1. 0. 0.] <-> [0.954974   0.03549741 0.00952855]\n",
      "[1. 0. 0.] <-> [0.9562631  0.02621097 0.01752591]\n",
      "[1. 0. 0.] <-> [0.718756   0.2804435  0.00080051]\n",
      "[0. 1. 0.] <-> [1.6411138e-01 8.3562809e-01 2.6055949e-04]\n",
      "[1. 0. 0.] <-> [0.9552426  0.02830325 0.01645424]\n",
      "[1. 0. 0.] <-> [0.85860276 0.140285   0.00111225]\n",
      "[1. 0. 0.] <-> [0.96790344 0.0132363  0.01886032]\n",
      "[1. 0. 0.] <-> [0.958013   0.01534532 0.02664168]\n",
      "[1. 0. 0.] <-> [0.75916845 0.23978797 0.0010436 ]\n",
      "[1. 0. 0.] <-> [0.8876079  0.00552167 0.10687049]\n",
      "[0. 0. 1.] <-> [0.26123968 0.00341028 0.73535   ]\n",
      "[1. 0. 0.] <-> [0.9491586  0.01695347 0.03388782]\n",
      "[1. 0. 0.] <-> [0.9586621  0.03707838 0.00425952]\n",
      "[1. 0. 0.] <-> [0.9594695  0.02123573 0.01929488]\n",
      "[0. 0. 1.] <-> [0.2609207  0.00338354 0.7356958 ]\n",
      "[1. 0. 0.] <-> [0.96200484 0.02136774 0.01662742]\n",
      "[1. 0. 0.] <-> [0.90153897 0.08401891 0.01444214]\n",
      "[0. 0. 1.] <-> [0.26113623 0.00338938 0.7354744 ]\n",
      "[1. 0. 0.] <-> [0.9600116  0.02523555 0.01475286]\n",
      "[1. 0. 0.] <-> [0.9529389  0.01684536 0.03021565]\n",
      "[1. 0. 0.] <-> [0.95249444 0.01930729 0.0281983 ]\n",
      "[0. 0. 1.] <-> [0.27980518 0.00409223 0.7161026 ]\n",
      "[1. 0. 0.] <-> [0.85165805 0.14735356 0.0009884 ]\n",
      "[1. 0. 0.] <-> [0.89873594 0.0987894  0.00247467]\n",
      "[1. 0. 0.] <-> [0.93843967 0.0442109  0.01734943]\n",
      "[1. 0. 0.] <-> [0.925908   0.07187628 0.00221573]\n",
      "[0. 0. 1.] <-> [0.8924123  0.02321884 0.08436891]\n",
      "[0. 0. 1.] <-> [0.26312935 0.00338917 0.7334815 ]\n",
      "[1. 0. 0.] <-> [0.8949563  0.01844284 0.08660075]\n",
      "[0. 1. 0.] <-> [9.2203639e-02 9.0768403e-01 1.1232691e-04]\n",
      "[1. 0. 0.] <-> [0.66429836 0.334862   0.00083966]\n",
      "[1. 0. 0.] <-> [0.9598207  0.01871204 0.02146732]\n",
      "[1. 0. 0.] <-> [0.60811293 0.39108422 0.00080279]\n",
      "[1. 0. 0.] <-> [0.9504698  0.03741935 0.01211077]\n",
      "[1. 0. 0.] <-> [0.9408857  0.05675006 0.0023641 ]\n",
      "[1. 0. 0.] <-> [0.96782726 0.02269154 0.00948117]\n",
      "[1. 0. 0.] <-> [0.95171076 0.04401389 0.00427536]\n",
      "[1. 0. 0.] <-> [0.9577693  0.03836896 0.00386179]\n",
      "[1. 0. 0.] <-> [0.9664031  0.02381099 0.00978592]\n",
      "[0. 0. 1.] <-> [0.26371562 0.00344549 0.73283887]\n",
      "[0. 1. 0.] <-> [4.452344e-01 5.542512e-01 5.144499e-04]\n",
      "[0. 0. 1.] <-> [0.25938496 0.00334429 0.7372708 ]\n",
      "[1. 0. 0.] <-> [4.3697694e-01 5.6252193e-01 5.0121109e-04]\n",
      "[1. 0. 0.] <-> [0.8487915  0.14734559 0.0038629 ]\n",
      "[0. 1. 0.] <-> [3.4280115e-01 6.5677929e-01 4.1961277e-04]\n",
      "[1. 0. 0.] <-> [0.9457976  0.00768371 0.04651859]\n",
      "[0. 1. 0.] <-> [9.14855450e-02 9.08403754e-01 1.10709654e-04]\n",
      "[1. 0. 0.] <-> [0.944356   0.0461814  0.00946255]\n",
      "[1. 0. 0.] <-> [0.83619875 0.15967962 0.00412158]\n",
      "[1. 0. 0.] <-> [0.949925   0.04413103 0.00594395]\n",
      "[1. 0. 0.] <-> [0.9392237  0.05877611 0.00200013]\n",
      "[1. 0. 0.] <-> [0.89767784 0.01689514 0.08542696]\n",
      "[1. 0. 0.] <-> [0.94734144 0.0490171  0.00364152]\n",
      "[1. 0. 0.] <-> [0.9272423  0.0696776  0.00308012]\n",
      "[0. 1. 0.] <-> [1.15597874e-01 8.84201050e-01 2.01137009e-04]\n",
      "[1. 0. 0.] <-> [0.9090118  0.08956956 0.00141868]\n",
      "[0. 1. 0.] <-> [0.3490297  0.65005356 0.00091676]\n",
      "[0. 1. 0.] <-> [3.4245822e-01 6.5720314e-01 3.3862339e-04]\n",
      "[0. 0. 1.] <-> [0.2905339  0.00426755 0.7051985 ]\n",
      "[1. 0. 0.] <-> [0.8693563  0.12775193 0.00289188]\n",
      "[1. 0. 0.] <-> [0.9383594  0.05701159 0.00462906]\n",
      "[0. 0. 1.] <-> [0.2620062  0.00340053 0.7345933 ]\n",
      "[1. 0. 0.] <-> [0.9585816  0.03378981 0.00762855]\n",
      "[1. 0. 0.] <-> [0.9645327  0.02364307 0.01182431]\n",
      "[1. 0. 0.] <-> [0.59018433 0.40840307 0.0014126 ]\n",
      "[1. 0. 0.] <-> [0.65082526 0.00630701 0.34286776]\n",
      "[0. 1. 0.] <-> [1.1028463e-01 8.8955814e-01 1.5728167e-04]\n",
      "[0. 1. 0.] <-> [2.8078517e-01 7.1891969e-01 2.9513350e-04]\n",
      "[1. 0. 0.] <-> [0.89778674 0.10114147 0.00107179]\n",
      "[1. 0. 0.] <-> [0.96758455 0.02122378 0.01119168]\n",
      "[1. 0. 0.] <-> [0.9355091  0.01051216 0.05397877]\n",
      "[0. 1. 0.] <-> [9.16250572e-02 9.08264101e-01 1.10855006e-04]\n",
      "[1. 0. 0.] <-> [0.9556596  0.03298717 0.01135333]\n",
      "[1. 0. 0.] <-> [0.81705076 0.00696268 0.1759866 ]\n",
      "[1. 0. 0.] <-> [0.8924587  0.10330646 0.00423497]\n",
      "[0. 0. 1.] <-> [0.75734866 0.02187672 0.22077458]\n",
      "[0. 1. 0.] <-> [0.49837178 0.49238196 0.0092462 ]\n",
      "[0. 0. 1.] <-> [0.33340758 0.00488839 0.66170406]\n",
      "[1. 0. 0.] <-> [0.48200756 0.01082264 0.5071697 ]\n",
      "[1. 0. 0.] <-> [0.9445247  0.05153858 0.00393667]\n",
      "[1. 0. 0.] <-> [0.92004806 0.077122   0.00282991]\n",
      "[1. 0. 0.] <-> [0.91075724 0.00903341 0.08020937]\n",
      "[0. 1. 0.] <-> [0.59800273 0.39045796 0.01153938]\n",
      "[1. 0. 0.] <-> [0.9602892  0.01978601 0.01992478]\n",
      "[1. 0. 0.] <-> [0.9498227  0.04570402 0.00447324]\n",
      "[1. 0. 0.] <-> [0.7915622  0.01075335 0.19768447]\n",
      "[0. 0. 1.] <-> [0.25992185 0.00335404 0.7367241 ]\n",
      "[1. 0. 0.] <-> [0.906374   0.0921694  0.00145655]\n",
      "[1. 0. 0.] <-> [0.6898257  0.30894285 0.00123139]\n",
      "[1. 0. 0.] <-> [0.91456413 0.07965734 0.00577853]\n",
      "[1. 0. 0.] <-> [0.6557744  0.34274313 0.00148244]\n",
      "{'accuracy': 0.9567901234567902, 'mean_square_error': 0.10910783363918679, 'categorical_crossentropy': 0.21653044665301288, 'precision': 0.9351851851851852, 'recall': 0.9351851851851852, 'f1': 0.9351851851851852, 'essential_metrics': {0: {'tp_hit': 76, 'fp_hit': 5, 'tn_hit': 25, 'fn_hit': 2}, 1: {'tp_hit': 14, 'fp_hit': 1, 'tn_hit': 91, 'fn_hit': 2}, 2: {'tp_hit': 11, 'fp_hit': 1, 'tn_hit': 93, 'fn_hit': 3}}}\n"
     ]
    }
   ],
   "source": [
    "# recall phase\n",
    "score = model.evaluate(x_test, y_test, False)\n",
    "print(score)"
   ]
  },
  {
   "cell_type": "code",
   "execution_count": 12,
   "metadata": {},
   "outputs": [],
   "source": [
    "# Testing Performance"
   ]
  },
  {
   "cell_type": "code",
   "execution_count": 13,
   "metadata": {},
   "outputs": [
    {
     "data": {
      "image/png": "[encoded data removed]",
      "text/plain": [
       "<Figure size 864x360 with 1 Axes>"
      ]
     },
     "metadata": {
      "needs_background": "light"
     },
     "output_type": "display_data"
    },
    {
     "data": {
      "image/png": "[encoded data removed]",
      "text/plain": [
       "<Figure size 864x360 with 1 Axes>"
      ]
     },
     "metadata": {
      "needs_background": "light"
     },
     "output_type": "display_data"
    }
   ],
   "source": [
    "draw_plot(x = [[i for i in range(len(history))], [(i+1)*breakpoint for i in range(len(checkpoints))]], y_list = [history, [ ckp[model.loss_fn] for ckp in checkpoints ]], x_label = 'Epochs', \\\n",
    "    y_label = model.loss_fn, legend=['train', 'test'])\n",
    "acc = [ ckp['accuracy'] for ckp in checkpoints ]\n",
    "draw_plot(x = [[(i+1)*breakpoint for i in range(len(checkpoints))]], y_list = [acc], x_label = 'Checkpoints', \\\n",
    "    y_label = 'accuracy')"
   ]
  },
  {
   "cell_type": "code",
   "execution_count": 14,
   "metadata": {
    "scrolled": false
   },
   "outputs": [
    {
     "name": "stdout",
     "output_type": "stream",
     "text": [
      "{'accuracy': 0.8703703703703703, 'mean_square_error': 0.2030330189252383, 'categorical_crossentropy': 0.3288009078414352, 'precision': 0.8055555555555556, 'recall': 0.8055555555555556, 'f1': 0.8055555555555556, 'essential_metrics': {0: {'tp_hit': 78, 'fp_hit': 21, 'tn_hit': 9, 'fn_hit': 0}, 1: {'tp_hit': 9, 'fp_hit': 0, 'tn_hit': 92, 'fn_hit': 7}, 2: {'tp_hit': 0, 'fp_hit': 0, 'tn_hit': 94, 'fn_hit': 14}}, 'checkpoint': 100} \n",
      "\n",
      "\n",
      "{'accuracy': 0.9567901234567902, 'mean_square_error': 0.1560710895377468, 'categorical_crossentropy': 0.2848660504376447, 'precision': 0.9351851851851852, 'recall': 0.9351851851851852, 'f1': 0.9351851851851852, 'essential_metrics': {0: {'tp_hit': 78, 'fp_hit': 7, 'tn_hit': 23, 'fn_hit': 0}, 1: {'tp_hit': 12, 'fp_hit': 0, 'tn_hit': 92, 'fn_hit': 4}, 2: {'tp_hit': 11, 'fp_hit': 0, 'tn_hit': 94, 'fn_hit': 3}}, 'checkpoint': 200} \n",
      "\n",
      "\n",
      "{'accuracy': 0.9629629629629629, 'mean_square_error': 0.1365857761137238, 'categorical_crossentropy': 0.26361557289406107, 'precision': 0.9444444444444444, 'recall': 0.9444444444444444, 'f1': 0.9444444444444444, 'essential_metrics': {0: {'tp_hit': 77, 'fp_hit': 5, 'tn_hit': 25, 'fn_hit': 1}, 1: {'tp_hit': 14, 'fp_hit': 1, 'tn_hit': 91, 'fn_hit': 2}, 2: {'tp_hit': 11, 'fp_hit': 0, 'tn_hit': 94, 'fn_hit': 3}}, 'checkpoint': 300} \n",
      "\n",
      "\n",
      "{'accuracy': 0.9567901234567902, 'mean_square_error': 0.12349236040170418, 'categorical_crossentropy': 0.23972838013260453, 'precision': 0.9351851851851852, 'recall': 0.9351851851851852, 'f1': 0.9351851851851852, 'essential_metrics': {0: {'tp_hit': 76, 'fp_hit': 5, 'tn_hit': 25, 'fn_hit': 2}, 1: {'tp_hit': 14, 'fp_hit': 1, 'tn_hit': 91, 'fn_hit': 2}, 2: {'tp_hit': 11, 'fp_hit': 1, 'tn_hit': 93, 'fn_hit': 3}}, 'checkpoint': 400} \n",
      "\n",
      "\n",
      "{'accuracy': 0.9567901234567902, 'mean_square_error': 0.10910783363918679, 'categorical_crossentropy': 0.21653044665301288, 'precision': 0.9351851851851852, 'recall': 0.9351851851851852, 'f1': 0.9351851851851852, 'essential_metrics': {0: {'tp_hit': 76, 'fp_hit': 5, 'tn_hit': 25, 'fn_hit': 2}, 1: {'tp_hit': 14, 'fp_hit': 1, 'tn_hit': 91, 'fn_hit': 2}, 2: {'tp_hit': 11, 'fp_hit': 1, 'tn_hit': 93, 'fn_hit': 3}}, 'checkpoint': 500} \n",
      "\n",
      "\n"
     ]
    }
   ],
   "source": [
    "for checkpoint in checkpoints:\n",
    "    print(checkpoint, '\\n\\n')"
   ]
  },
  {
   "cell_type": "code",
   "execution_count": 15,
   "metadata": {},
   "outputs": [
    {
     "name": "stdout",
     "output_type": "stream",
     "text": [
      "Layer 1\n",
      "Neuron 0: weights:\n",
      "[-0.9594351  2.3519633  2.0379274 -2.0107214 -2.6969368]\n",
      " bias: 1.9705103635787964\n",
      "\n",
      "Neuron 1: weights:\n",
      "[-0.5376109  1.4020537  1.9689059 -1.9039235 -0.2723638]\n",
      " bias: -1.7294855117797852\n",
      "\n",
      "Neuron 2: weights:\n",
      "[-2.8621461   1.9011983  -2.2045465   0.49440396 -2.5260694 ]\n",
      " bias: -0.5450371503829956\n",
      "\n",
      "Neuron 3: weights:\n",
      "[-1.6888962   1.8635753   2.8883376  -0.96441627 -0.08324781]\n",
      " bias: 0.9785611033439636\n",
      "\n",
      "$\n",
      "Layer 2\n",
      "Neuron 0: weights:\n",
      "[ 2.689372  -2.728821   0.9828424  1.3095256]\n",
      " bias: 1.953916311264038\n",
      "\n",
      "Neuron 1: weights:\n",
      "[0.8666886 2.04861   3.        2.9855738]\n",
      " bias: -2.3982439041137695\n",
      "\n",
      "Neuron 2: weights:\n",
      "[-1.3063637  -2.0408735  -1.8266687  -0.33628976]\n",
      " bias: 3.0\n",
      "\n",
      "$\n",
      "\n"
     ]
    }
   ],
   "source": [
    "print(model)"
   ]
  }
 ],
 "metadata": {
  "kernelspec": {
   "display_name": "Python 3",
   "language": "python",
   "name": "python3"
  },
  "language_info": {
   "codemirror_mode": {
    "name": "ipython",
    "version": 3
   },
   "file_extension": ".py",
   "mimetype": "text/x-python",
   "name": "python",
   "nbconvert_exporter": "python",
   "pygments_lexer": "ipython3",
   "version": "3.6.10"
  }
 },
 "nbformat": 4,
 "nbformat_minor": 2
}
