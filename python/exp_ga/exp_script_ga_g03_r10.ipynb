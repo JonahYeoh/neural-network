{
 "cells": [
  {
   "cell_type": "code",
   "execution_count": 1,
   "metadata": {},
   "outputs": [],
   "source": [
    "# single"
   ]
  },
  {
   "cell_type": "code",
   "execution_count": 2,
   "metadata": {},
   "outputs": [],
   "source": [
    "# dependency\n",
    "import numpy as np\n",
    "import pandas as pd\n",
    "import copy\n",
    "import math\n",
    "import sys\n",
    "import os\n",
    "from activations import relu, leaky_relu, sigmoid, tanh, softmax, d_sigmoid, d_relu\n",
    "from initializers import glorot_uniform, random_normal, random_uniform\n",
    "from regularizers import l1_regularizer, l2_regularizer\n",
    "from utility import trim_tail, multiply, subtract, get_nparams, one_hot_encoding, get_data\n",
    "from metrics import MSE, CCE, ACC, PRECISION, RECALL, essential_metrics, wondering_penalty, close_gap_penalty\n",
    "from pso import PSO\n",
    "from ga import GA\n",
    "from nn import Network\n",
    "from layer import DenseLayer\n",
    "from scalers import MinMaxScaler, StandardScaler"
   ]
  },
  {
   "cell_type": "code",
   "execution_count": 3,
   "metadata": {},
   "outputs": [],
   "source": [
    "# reference\n",
    "metrics_fn_dict = dict()\n",
    "metrics_fn_dict['accuracy'] = ACC\n",
    "metrics_fn_dict['categorical_crossentropy'] = CCE\n",
    "metrics_fn_dict['mean_square_error'] = MSE\n",
    "metrics_fn_dict['precision'] = PRECISION\n",
    "metrics_fn_dict['recall'] = RECALL\n",
    "metrics_fn_dict['essential_metrics'] = essential_metrics"
   ]
  },
  {
   "cell_type": "code",
   "execution_count": 4,
   "metadata": {},
   "outputs": [],
   "source": [
    "# model\n",
    "model = Network(5, lr = None)\n",
    "model.add_layer(DenseLayer(1, 4, True, afn=sigmoid, dafn=None, rfn=None))\n",
    "model.add_layer(DenseLayer(2, 3, True, afn=softmax, dafn=None, rfn=None))"
   ]
  },
  {
   "cell_type": "code",
   "execution_count": 5,
   "metadata": {},
   "outputs": [],
   "source": [
    "# optimizer\n",
    "ga = GA(\n",
    "    dict(\n",
    "        m = 50,\n",
    "        x_rate = [0.5, 1.0],\n",
    "        m_rate = [0.5, 1.0],\n",
    "        weight_constraint = [-3.,3.],\n",
    "        radioactive_rating = [0.1, 0.5],\n",
    "        grow_factor = [0.1, 0.5],\n",
    "        scale_hyperparameter = False,\n",
    "        regularizer = l1_regularizer))"
   ]
  },
  {
   "cell_type": "code",
   "execution_count": 6,
   "metadata": {},
   "outputs": [
    {
     "name": "stdout",
     "output_type": "stream",
     "text": [
      "building layer 1 with 5\n",
      "24\n",
      "building layer 2 with 4\n",
      "15\n"
     ]
    }
   ],
   "source": [
    "model.compile(loss_fn = 'categorical_crossentropy', optimizer = ga, \\\n",
    "    metrics = ['accuracy', 'mean_square_error', 'categorical_crossentropy', 'precision', 'recall', 'f1'])"
   ]
  },
  {
   "cell_type": "code",
   "execution_count": 7,
   "metadata": {},
   "outputs": [
    {
     "name": "stdout",
     "output_type": "stream",
     "text": [
      "<class 'pandas.core.frame.DataFrame'>\n",
      "RangeIndex: 107 entries, 0 to 106\n",
      "Data columns (total 6 columns):\n",
      " #   Column  Non-Null Count  Dtype  \n",
      "---  ------  --------------  -----  \n",
      " 0   f1      107 non-null    float32\n",
      " 1   f2      107 non-null    float32\n",
      " 2   f3      107 non-null    float32\n",
      " 3   f4      107 non-null    float32\n",
      " 4   f5      107 non-null    float32\n",
      " 5   label   107 non-null    float32\n",
      "dtypes: float32(6)\n",
      "memory usage: 2.6 KB\n",
      "None\n",
      "<class 'pandas.core.frame.DataFrame'>\n",
      "RangeIndex: 108 entries, 0 to 107\n",
      "Data columns (total 6 columns):\n",
      " #   Column  Non-Null Count  Dtype  \n",
      "---  ------  --------------  -----  \n",
      " 0   f1      108 non-null    float32\n",
      " 1   f2      108 non-null    float32\n",
      " 2   f3      108 non-null    float32\n",
      " 3   f4      108 non-null    float32\n",
      " 4   f5      108 non-null    float32\n",
      " 5   label   108 non-null    float32\n",
      "dtypes: float32(6)\n",
      "memory usage: 2.7 KB\n",
      "None\n"
     ]
    }
   ],
   "source": [
    "# data loading\n",
    "DATA = os.path.join('c:\\\\Users\\\\tcumi\\\\github_repo\\\\neural-network\\\\', 'dataset')\n",
    "GROUP = 3\n",
    "COLUMNS = ['f1', 'f2', 'f3', 'f4', 'f5', 'label']\n",
    "N_CLASS = 3\n",
    "EPOCHS = 500\n",
    "train_dir, test_dir = \"..//dataset//training_data{}.txt\".format(GROUP), \"..//dataset//testing_data{}.txt\".format(GROUP)\n",
    "train, test = get_data(DATA, train_dir, COLUMNS), get_data(DATA, test_dir, COLUMNS)\n",
    "# shuffle\n",
    "train, test = train.sample(frac=1), test.sample(frac=1)\n",
    "x_train, y_train = train.drop('label', axis=1), train['label']\n",
    "x_test, y_test = test.drop('label', axis=1), test['label']"
   ]
  },
  {
   "cell_type": "code",
   "execution_count": 8,
   "metadata": {},
   "outputs": [],
   "source": [
    "# data scaling and encoding\n",
    "scaler = StandardScaler(['f1', 'f2', 'f3', 'f4', 'f5'])\n",
    "scaler.fit(x_train)\n",
    "x_train = scaler.transform(x_train)\n",
    "x_test = scaler.transform(x_test)\n",
    "y_train = one_hot_encoding(y_train, N_CLASS)\n",
    "y_test = one_hot_encoding(y_test, N_CLASS)"
   ]
  },
  {
   "cell_type": "code",
   "execution_count": 9,
   "metadata": {
    "scrolled": true,
    "tags": [
     "outputPrepend"
    ]
   },
   "outputs": [
    {
     "name": "stderr",
     "output_type": "stream",
     "text": [
      "C:\\Users\\tcumi\\Anaconda3\\envs\\py_3_6\\lib\\site-packages\\numpy\\core\\fromnumeric.py:87: VisibleDeprecationWarning: Creating an ndarray from ragged nested sequences (which is a list-or-tuple of lists-or-tuples-or ndarrays with different lengths or shapes) is deprecated. If you meant to do this, you must specify 'dtype=object' when creating the ndarray\n",
      "  return ufunc.reduce(obj, axis, dtype, out, **passkwargs)\n",
      "C:\\Users\\tcumi\\github_repo\\neural-network\\python\\ga.py:201: RuntimeWarning: overflow encountered in add\n",
      "  self.population.sort(key=lambda p: p.fitness + np.random.uniform(-shift, shift, 1), reverse = self.aim)\n",
      "C:\\Users\\tcumi\\Anaconda3\\envs\\py_3_6\\lib\\site-packages\\numpy\\core\\_asarray.py:136: VisibleDeprecationWarning: Creating an ndarray from ragged nested sequences (which is a list-or-tuple of lists-or-tuples-or ndarrays with different lengths or shapes) is deprecated. If you meant to do this, you must specify 'dtype=object' when creating the ndarray\n",
      "  return array(a, dtype, copy=False, order=order, subok=True)\n"
     ]
    },
    {
     "name": "stdout",
     "output_type": "stream",
     "text": [
      "Checkpoint 100, Accuracy: 0.9074074074074074, Loss: 0.3965442445543077\n",
      "Checkpoint 200, Accuracy: 0.9382716049382716, Loss: 0.33863692813449436\n",
      "Checkpoint 300, Accuracy: 0.9567901234567902, Loss: 0.2703073466265643\n",
      "Checkpoint 400, Accuracy: 0.9506172839506173, Loss: 0.2658235232035319\n",
      "Checkpoint 500, Accuracy: 0.9506172839506173, Loss: 0.2699587610032823\n"
     ]
    }
   ],
   "source": [
    "# learning phase\n",
    "breakpoint = 100\n",
    "checkpoints = list()\n",
    "history = list()\n",
    "for century in range(0, EPOCHS, breakpoint):\n",
    "    sub_history = model.fit(x_train, y_train, breakpoint, verbose = 0)\n",
    "    score = model.evaluate(x_test, y_test, False, verbose = 0)\n",
    "    print('Checkpoint {}, Accuracy: {}, Loss: {}'.format(century+breakpoint, score['accuracy'], score[model.loss_fn]))\n",
    "    score['checkpoint'] = century + breakpoint\n",
    "    checkpoints.append(score)\n",
    "    history.extend(sub_history)\n",
    "    itr = century + breakpoint\n",
    "    '''\n",
    "    model.optimizer.rr = model.optimizer.rr * 0.9\n",
    "    model.optimizer.gf = model.optimizer.gf * 0.9\n",
    "    model.optimizer.crossover_rate = model.optimizer.crossover_rate * 0.9\n",
    "    model.optimizer.mutation_rate = model.optimizer.mutation_rate * 1.1\n",
    "    '''\n",
    "    model.optimizer.rr = model.optimizer.radioactive_rating[1] - (model.optimizer.radioactive_rating[1] - model.optimizer.radioactive_rating[0]) / EPOCHS * (EPOCHS - itr)\n",
    "    model.optimizer.gf = model.optimizer.grow_factor[1] - (model.optimizer.grow_factor[1] - model.optimizer.grow_factor[0]) / EPOCHS * (EPOCHS - itr)\n",
    "    model.optimizer.crossover_rate = model.optimizer.x_rate[1] - (model.optimizer.x_rate[1] - model.optimizer.x_rate[0]) / EPOCHS * (EPOCHS - itr)\n",
    "    model.optimizer.mutation_rate = model.optimizer.m_rate[0] + (model.optimizer.m_rate[1] - model.optimizer.m_rate[0]) / EPOCHS * (EPOCHS - itr)\n",
    "    "
   ]
  },
  {
   "cell_type": "code",
   "execution_count": 10,
   "metadata": {},
   "outputs": [],
   "source": [
    "import matplotlib.pyplot as plt\n",
    "\n",
    "def draw_plot(x, y_list, x_label=None, y_label=None, legend=None, title=None):\n",
    "    fig, ax = plt.subplots(figsize=(12,5))\n",
    "    for xi, yi in zip(x, y_list):\n",
    "        ax.plot(xi, yi)\n",
    "    if x_label is not None and y_label is not None:\n",
    "        ax.set(xlabel=x_label, ylabel=y_label, title='{} VS {}'.format(x_label, y_label))\n",
    "    if legend is not None:\n",
    "        ax.legend(legend)\n",
    "    ax.grid()\n",
    "    plt.show()"
   ]
  },
  {
   "cell_type": "code",
   "execution_count": 11,
   "metadata": {},
   "outputs": [
    {
     "name": "stdout",
     "output_type": "stream",
     "text": [
      "[1. 0. 0.] <-> [0.9327692  0.03113793 0.03609283]\n",
      "[1. 0. 0.] <-> [0.9002079  0.06332348 0.03646862]\n",
      "[1. 0. 0.] <-> [0.8632233  0.09733408 0.03944263]\n",
      "[1. 0. 0.] <-> [0.91318136 0.04475366 0.04206506]\n",
      "[0. 1. 0.] <-> [0.1765693  0.81821764 0.00521312]\n",
      "[1. 0. 0.] <-> [0.8527241  0.07798123 0.0692948 ]\n",
      "[1. 0. 0.] <-> [0.6934778  0.28261232 0.02390983]\n",
      "[1. 0. 0.] <-> [0.5268704  0.45704752 0.01608199]\n",
      "[1. 0. 0.] <-> [0.63517034 0.3368912  0.0279385 ]\n",
      "[1. 0. 0.] <-> [0.7815649  0.14998004 0.06845506]\n",
      "[1. 0. 0.] <-> [0.6282541  0.34740666 0.02433916]\n",
      "[0. 0. 1.] <-> [0.3363634  0.01487357 0.648763  ]\n",
      "[0. 1. 0.] <-> [0.08666049 0.9105582  0.00278128]\n",
      "[1. 0. 0.] <-> [0.91335374 0.05713859 0.0295076 ]\n",
      "[0. 0. 1.] <-> [0.5248698  0.02401822 0.45111197]\n",
      "[0. 0. 1.] <-> [0.18841971 0.01690708 0.79467314]\n",
      "[1. 0. 0.] <-> [0.91867995 0.03712422 0.04419585]\n",
      "[1. 0. 0.] <-> [0.9402657  0.02145024 0.03828397]\n",
      "[1. 0. 0.] <-> [0.7576211  0.03148949 0.21088947]\n",
      "[0. 1. 0.] <-> [0.31603417 0.67627543 0.00769042]\n",
      "[0. 0. 1.] <-> [0.37624946 0.01442583 0.60932475]\n",
      "[0. 1. 0.] <-> [0.29971838 0.6949481  0.00533352]\n",
      "[1. 0. 0.] <-> [0.92905647 0.0331948  0.03774872]\n",
      "[0. 1. 0.] <-> [0.44646317 0.5435949  0.00994191]\n",
      "[1. 0. 0.] <-> [0.912771   0.03392626 0.05330284]\n",
      "[1. 0. 0.] <-> [0.93681294 0.02161385 0.04157324]\n",
      "[1. 0. 0.] <-> [0.8994352  0.04516439 0.05540031]\n",
      "[1. 0. 0.] <-> [0.8434999  0.02885251 0.12764761]\n",
      "[0. 1. 0.] <-> [0.07413992 0.9241468  0.00171328]\n",
      "[1. 0. 0.] <-> [0.83287436 0.04028355 0.12684214]\n",
      "[1. 0. 0.] <-> [0.904989   0.04987853 0.04513248]\n",
      "[1. 0. 0.] <-> [0.9235234  0.02459118 0.05188537]\n",
      "[1. 0. 0.] <-> [0.6859054  0.2358668  0.07822774]\n",
      "[1. 0. 0.] <-> [0.92624986 0.01968739 0.05406282]\n",
      "[0. 0. 1.] <-> [0.1652706  0.02024312 0.8144863 ]\n",
      "[1. 0. 0.] <-> [0.9244849  0.01437426 0.06114086]\n",
      "[0. 0. 1.] <-> [0.28471696 0.01236191 0.70292115]\n",
      "[1. 0. 0.] <-> [0.89093953 0.02921481 0.07984571]\n",
      "[1. 0. 0.] <-> [0.94858086 0.01444607 0.03697312]\n",
      "[0. 0. 1.] <-> [0.19426504 0.02435133 0.78138363]\n",
      "[1. 0. 0.] <-> [0.9232976  0.01615951 0.06054297]\n",
      "[1. 0. 0.] <-> [0.8823063  0.0671982  0.05049554]\n",
      "[0. 1. 0.] <-> [0.57542914 0.41146824 0.01310261]\n",
      "[0. 1. 0.] <-> [0.07360017 0.92408437 0.00231539]\n",
      "[1. 0. 0.] <-> [0.9288018  0.02976433 0.04143388]\n",
      "[1. 0. 0.] <-> [0.93852043 0.02436651 0.03711302]\n",
      "[1. 0. 0.] <-> [0.52028614 0.46457827 0.01513559]\n",
      "[0. 1. 0.] <-> [0.35064107 0.6420827  0.00727624]\n",
      "[1. 0. 0.] <-> [0.94445175 0.01796805 0.03758025]\n",
      "[1. 0. 0.] <-> [0.92257506 0.02576501 0.05165993]\n",
      "[1. 0. 0.] <-> [0.81142354 0.15543635 0.03314007]\n",
      "[0. 1. 0.] <-> [0.11217643 0.88441145 0.00341216]\n",
      "[1. 0. 0.] <-> [0.93365526 0.03468706 0.03165757]\n",
      "[1. 0. 0.] <-> [0.88958514 0.06846876 0.04194602]\n",
      "[1. 0. 0.] <-> [0.8528931  0.10975545 0.03735142]\n",
      "[1. 0. 0.] <-> [0.92165875 0.0450609  0.03328041]\n",
      "[0. 1. 0.] <-> [0.05562404 0.9417687  0.00260715]\n",
      "[1. 0. 0.] <-> [0.78605    0.18260443 0.03134553]\n",
      "[0. 1. 0.] <-> [0.57912296 0.4071721  0.01370489]\n",
      "[1. 0. 0.] <-> [0.8972326  0.06459588 0.03817154]\n",
      "[1. 0. 0.] <-> [0.8565183  0.10964452 0.03383714]\n",
      "[1. 0. 0.] <-> [0.9245531  0.04490732 0.03053952]\n",
      "[1. 0. 0.] <-> [0.9176706  0.02352429 0.05880505]\n",
      "[1. 0. 0.] <-> [0.9116965  0.05879268 0.02951085]\n",
      "[1. 0. 0.] <-> [0.7669327  0.2109322  0.02213514]\n",
      "[0. 0. 1.] <-> [0.7917119  0.01304461 0.19524348]\n",
      "[1. 0. 0.] <-> [0.91379213 0.04900325 0.03720462]\n",
      "[0. 0. 1.] <-> [0.69712186 0.02803073 0.27484745]\n",
      "[1. 0. 0.] <-> [0.9081207  0.05622176 0.03565749]\n",
      "[0. 0. 1.] <-> [0.89166766 0.0212662  0.08706611]\n",
      "[0. 0. 1.] <-> [0.21052551 0.01739016 0.7720843 ]\n",
      "[1. 0. 0.] <-> [0.9216169  0.02125529 0.05712775]\n",
      "[1. 0. 0.] <-> [0.9357684  0.02051841 0.04371323]\n",
      "[1. 0. 0.] <-> [0.9138389  0.04573806 0.04042304]\n",
      "[1. 0. 0.] <-> [0.8572911  0.03749892 0.10520991]\n",
      "[1. 0. 0.] <-> [0.81507725 0.15711257 0.02781024]\n",
      "[1. 0. 0.] <-> [0.932632   0.01888418 0.04848384]\n",
      "[1. 0. 0.] <-> [0.8598099  0.10107879 0.03911136]\n",
      "[1. 0. 0.] <-> [0.93129057 0.02474059 0.04396888]\n",
      "[0. 0. 1.] <-> [0.9254766 0.0116956 0.0628278]\n",
      "[1. 0. 0.] <-> [0.88626695 0.06137023 0.05236272]\n",
      "[1. 0. 0.] <-> [0.9165797  0.03213255 0.0512877 ]\n",
      "[1. 0. 0.] <-> [0.9361066  0.01542443 0.04846894]\n",
      "[1. 0. 0.] <-> [0.8859315  0.06522533 0.0488432 ]\n",
      "[0. 0. 1.] <-> [0.4171386  0.01489867 0.56796277]\n",
      "[0. 1. 0.] <-> [0.05712083 0.94073147 0.00214765]\n",
      "[1. 0. 0.] <-> [0.9449404  0.01341112 0.04164852]\n",
      "[0. 1. 0.] <-> [0.31413874 0.6755157  0.01034554]\n",
      "[1. 0. 0.] <-> [0.890557   0.03454743 0.07489555]\n",
      "[1. 0. 0.] <-> [0.91768396 0.01564129 0.06667469]\n",
      "[1. 0. 0.] <-> [0.9066519  0.04170204 0.05164607]\n",
      "[1. 0. 0.] <-> [0.930192   0.03177849 0.03802951]\n",
      "[1. 0. 0.] <-> [0.9387166  0.02106062 0.04022278]\n",
      "[0. 1. 0.] <-> [0.08664528 0.91157    0.00178476]\n",
      "[1. 0. 0.] <-> [0.9445521  0.01801902 0.03742879]\n",
      "[1. 0. 0.] <-> [0.9195208  0.02991455 0.05056456]\n",
      "[1. 0. 0.] <-> [0.93950427 0.01319925 0.04729652]\n",
      "[1. 0. 0.] <-> [0.8867514  0.03575718 0.07749142]\n",
      "[1. 0. 0.] <-> [0.9142313  0.03664772 0.04912097]\n",
      "[1. 0. 0.] <-> [0.9403883  0.01460511 0.04500659]\n",
      "[1. 0. 0.] <-> [0.92590195 0.03775577 0.03634227]\n",
      "[1. 0. 0.] <-> [0.93716866 0.02576895 0.03706236]\n",
      "[1. 0. 0.] <-> [0.92079455 0.0414581  0.03774726]\n",
      "[1. 0. 0.] <-> [0.7003412  0.27168658 0.02797219]\n",
      "[1. 0. 0.] <-> [0.932748   0.01416749 0.05308453]\n",
      "[0. 0. 1.] <-> [0.8062603  0.0197276  0.17401202]\n",
      "[0. 1. 0.] <-> [0.1025959  0.8941425  0.00326159]\n",
      "[1. 0. 0.] <-> [0.91011083 0.04793799 0.0419511 ]\n",
      "{'accuracy': 0.9506172839506173, 'mean_square_error': 0.1386775071635131, 'categorical_crossentropy': 0.2699587610032823, 'precision': 0.9259259259259259, 'recall': 0.9259259259259259, 'f1': 0.9259259259259259, 'essential_metrics': {0: {'tp_hit': 78, 'fp_hit': 8, 'tn_hit': 22, 'fn_hit': 0}, 1: {'tp_hit': 14, 'fp_hit': 0, 'tn_hit': 92, 'fn_hit': 2}, 2: {'tp_hit': 8, 'fp_hit': 0, 'tn_hit': 94, 'fn_hit': 6}}}\n"
     ]
    }
   ],
   "source": [
    "# recall phase\n",
    "score = model.evaluate(x_test, y_test, False)\n",
    "print(score)"
   ]
  },
  {
   "cell_type": "code",
   "execution_count": 12,
   "metadata": {},
   "outputs": [],
   "source": [
    "# Testing Performance"
   ]
  },
  {
   "cell_type": "code",
   "execution_count": 13,
   "metadata": {},
   "outputs": [
    {
     "name": "stderr",
     "output_type": "stream",
     "text": [
      "C:\\Users\\tcumi\\Anaconda3\\envs\\py_3_6\\lib\\site-packages\\numpy\\core\\_asarray.py:136: VisibleDeprecationWarning: Creating an ndarray from ragged nested sequences (which is a list-or-tuple of lists-or-tuples-or ndarrays with different lengths or shapes) is deprecated. If you meant to do this, you must specify 'dtype=object' when creating the ndarray\n",
      "  return array(a, dtype, copy=False, order=order, subok=True)\n"
     ]
    },
    {
     "data": {
      "image/png": "[encoded data removed]",
      "text/plain": [
       "<Figure size 864x360 with 1 Axes>"
      ]
     },
     "metadata": {
      "needs_background": "light"
     },
     "output_type": "display_data"
    },
    {
     "data": {
      "image/png": "[encoded data removed]",
      "text/plain": [
       "<Figure size 864x360 with 1 Axes>"
      ]
     },
     "metadata": {
      "needs_background": "light"
     },
     "output_type": "display_data"
    }
   ],
   "source": [
    "draw_plot(x = [[i for i in range(len(history))], [(i+1)*breakpoint for i in range(len(checkpoints))]], y_list = [history, [ ckp[model.loss_fn] for ckp in checkpoints ]], x_label = 'Epochs', \\\n",
    "    y_label = model.loss_fn, legend=['train', 'test'])\n",
    "acc = [ ckp['accuracy'] for ckp in checkpoints ]\n",
    "draw_plot(x = [[(i+1)*breakpoint for i in range(len(checkpoints))]], y_list = [acc], x_label = 'Checkpoints', \\\n",
    "    y_label = 'accuracy')"
   ]
  },
  {
   "cell_type": "code",
   "execution_count": 14,
   "metadata": {
    "scrolled": false
   },
   "outputs": [
    {
     "name": "stdout",
     "output_type": "stream",
     "text": [
      "{'accuracy': 0.9074074074074074, 'mean_square_error': 0.21754442057173473, 'categorical_crossentropy': 0.3965442445543077, 'precision': 0.8611111111111112, 'recall': 0.8611111111111112, 'f1': 0.8611111111111112, 'essential_metrics': {0: {'tp_hit': 78, 'fp_hit': 15, 'tn_hit': 15, 'fn_hit': 0}, 1: {'tp_hit': 11, 'fp_hit': 0, 'tn_hit': 92, 'fn_hit': 5}, 2: {'tp_hit': 4, 'fp_hit': 0, 'tn_hit': 94, 'fn_hit': 10}}, 'checkpoint': 100} \n",
      "\n",
      "\n",
      "{'accuracy': 0.9382716049382716, 'mean_square_error': 0.17617389088282018, 'categorical_crossentropy': 0.33863692813449436, 'precision': 0.9074074074074074, 'recall': 0.9074074074074074, 'f1': 0.9074074074074074, 'essential_metrics': {0: {'tp_hit': 77, 'fp_hit': 9, 'tn_hit': 21, 'fn_hit': 1}, 1: {'tp_hit': 13, 'fp_hit': 1, 'tn_hit': 91, 'fn_hit': 3}, 2: {'tp_hit': 8, 'fp_hit': 0, 'tn_hit': 94, 'fn_hit': 6}}, 'checkpoint': 200} \n",
      "\n",
      "\n",
      "{'accuracy': 0.9567901234567902, 'mean_square_error': 0.13471695559039523, 'categorical_crossentropy': 0.2703073466265643, 'precision': 0.9351851851851852, 'recall': 0.9351851851851852, 'f1': 0.9351851851851852, 'essential_metrics': {0: {'tp_hit': 78, 'fp_hit': 7, 'tn_hit': 23, 'fn_hit': 0}, 1: {'tp_hit': 14, 'fp_hit': 0, 'tn_hit': 92, 'fn_hit': 2}, 2: {'tp_hit': 9, 'fp_hit': 0, 'tn_hit': 94, 'fn_hit': 5}}, 'checkpoint': 300} \n",
      "\n",
      "\n",
      "{'accuracy': 0.9506172839506173, 'mean_square_error': 0.1323029541975762, 'categorical_crossentropy': 0.2658235232035319, 'precision': 0.9259259259259259, 'recall': 0.9259259259259259, 'f1': 0.9259259259259259, 'essential_metrics': {0: {'tp_hit': 78, 'fp_hit': 8, 'tn_hit': 22, 'fn_hit': 0}, 1: {'tp_hit': 14, 'fp_hit': 0, 'tn_hit': 92, 'fn_hit': 2}, 2: {'tp_hit': 8, 'fp_hit': 0, 'tn_hit': 94, 'fn_hit': 6}}, 'checkpoint': 400} \n",
      "\n",
      "\n",
      "{'accuracy': 0.9506172839506173, 'mean_square_error': 0.1386775071635131, 'categorical_crossentropy': 0.2699587610032823, 'precision': 0.9259259259259259, 'recall': 0.9259259259259259, 'f1': 0.9259259259259259, 'essential_metrics': {0: {'tp_hit': 78, 'fp_hit': 8, 'tn_hit': 22, 'fn_hit': 0}, 1: {'tp_hit': 14, 'fp_hit': 0, 'tn_hit': 92, 'fn_hit': 2}, 2: {'tp_hit': 8, 'fp_hit': 0, 'tn_hit': 94, 'fn_hit': 6}}, 'checkpoint': 500} \n",
      "\n",
      "\n"
     ]
    }
   ],
   "source": [
    "for checkpoint in checkpoints:\n",
    "    print(checkpoint, '\\n\\n')"
   ]
  },
  {
   "cell_type": "code",
   "execution_count": 15,
   "metadata": {},
   "outputs": [
    {
     "name": "stdout",
     "output_type": "stream",
     "text": [
      "Layer 1\n",
      "Neuron 0: weights:\n",
      "[-0.00405428  0.7306039  -0.7219712  -2.0598898  -1.1803112 ]\n",
      " bias: 0.6106788516044617\n",
      "\n",
      "Neuron 1: weights:\n",
      "[-0.42785093  0.55669844  0.45915008  1.0668417   0.05202456]\n",
      " bias: 0.0025417385622859\n",
      "\n",
      "Neuron 2: weights:\n",
      "[ 1.2980928  -1.9873112  -1.8084658  -0.0107493   0.02108254]\n",
      " bias: 1.1489098072052002\n",
      "\n",
      "Neuron 3: weights:\n",
      "[ 0.02952157  0.11119862  0.6759741  -0.9399654  -0.32362354]\n",
      " bias: 0.041999585926532745\n",
      "\n",
      "$\n",
      "Layer 2\n",
      "Neuron 0: weights:\n",
      "[ 2.986301   -0.7156236   1.8084528   0.01415302]\n",
      " bias: -1.1247808933258057\n",
      "\n",
      "Neuron 1: weights:\n",
      "[ 1.0534924  1.6812695 -2.9999783  1.0468074]\n",
      " bias: -0.11190731823444366\n",
      "\n",
      "Neuron 2: weights:\n",
      "[-1.4859757   0.04308848  2.2209408  -1.1686962 ]\n",
      " bias: -0.4407726228237152\n",
      "\n",
      "$\n",
      "\n"
     ]
    }
   ],
   "source": [
    "print(model)"
   ]
  }
 ],
 "metadata": {
  "kernelspec": {
   "display_name": "Python 3",
   "language": "python",
   "name": "python3"
  },
  "language_info": {
   "codemirror_mode": {
    "name": "ipython",
    "version": 3
   },
   "file_extension": ".py",
   "mimetype": "text/x-python",
   "name": "python",
   "nbconvert_exporter": "python",
   "pygments_lexer": "ipython3",
   "version": "3.6.10"
  }
 },
 "nbformat": 4,
 "nbformat_minor": 2
}
