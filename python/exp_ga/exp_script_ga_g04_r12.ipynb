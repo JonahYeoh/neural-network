{
 "cells": [
  {
   "cell_type": "code",
   "execution_count": 1,
   "metadata": {},
   "outputs": [],
   "source": [
    "# single"
   ]
  },
  {
   "cell_type": "code",
   "execution_count": 2,
   "metadata": {},
   "outputs": [],
   "source": [
    "# dependency\n",
    "import numpy as np\n",
    "import pandas as pd\n",
    "import copy\n",
    "import math\n",
    "import sys\n",
    "import os\n",
    "from activations import relu, leaky_relu, sigmoid, tanh, softmax, d_sigmoid, d_relu\n",
    "from initializers import glorot_uniform, random_normal, random_uniform\n",
    "from regularizers import l1_regularizer, l2_regularizer\n",
    "from utility import trim_tail, multiply, subtract, get_nparams, one_hot_encoding, get_data\n",
    "from metrics import MSE, CCE, ACC, PRECISION, RECALL, essential_metrics, wondering_penalty, close_gap_penalty\n",
    "from pso import PSO\n",
    "from ga import GA\n",
    "from nn import Network\n",
    "from layer import DenseLayer\n",
    "from scalers import MinMaxScaler, StandardScaler"
   ]
  },
  {
   "cell_type": "code",
   "execution_count": 3,
   "metadata": {},
   "outputs": [],
   "source": [
    "# reference\n",
    "metrics_fn_dict = dict()\n",
    "metrics_fn_dict['accuracy'] = ACC\n",
    "metrics_fn_dict['categorical_crossentropy'] = CCE\n",
    "metrics_fn_dict['mean_square_error'] = MSE\n",
    "metrics_fn_dict['precision'] = PRECISION\n",
    "metrics_fn_dict['recall'] = RECALL\n",
    "metrics_fn_dict['essential_metrics'] = essential_metrics"
   ]
  },
  {
   "cell_type": "code",
   "execution_count": 4,
   "metadata": {},
   "outputs": [],
   "source": [
    "# model\n",
    "model = Network(5, lr = None)\n",
    "model.add_layer(DenseLayer(1, 4, True, afn=sigmoid, dafn=None, rfn=None))\n",
    "model.add_layer(DenseLayer(2, 3, True, afn=softmax, dafn=None, rfn=None))"
   ]
  },
  {
   "cell_type": "code",
   "execution_count": 5,
   "metadata": {},
   "outputs": [],
   "source": [
    "# optimizer\n",
    "ga = GA(\n",
    "    dict(\n",
    "        m = 100,\n",
    "        x_rate = 0.5,\n",
    "        m_rate = 0.5,\n",
    "        weight_constraint = [-3.,3.],\n",
    "        radioactive_rating = 0.1,\n",
    "        grow_factor = 0.1,\n",
    "        scale_hyperparameter = False,\n",
    "        regularizer = None))"
   ]
  },
  {
   "cell_type": "code",
   "execution_count": 6,
   "metadata": {},
   "outputs": [
    {
     "name": "stdout",
     "output_type": "stream",
     "text": [
      "building layer 1 with 5\n",
      "24\n",
      "building layer 2 with 4\n",
      "15\n"
     ]
    }
   ],
   "source": [
    "model.compile(loss_fn = 'categorical_crossentropy', optimizer = ga, \\\n",
    "    metrics = ['accuracy', 'mean_square_error', 'categorical_crossentropy', 'precision', 'recall', 'f1'])"
   ]
  },
  {
   "cell_type": "code",
   "execution_count": 7,
   "metadata": {},
   "outputs": [
    {
     "name": "stdout",
     "output_type": "stream",
     "text": [
      "<class 'pandas.core.frame.DataFrame'>\n",
      "RangeIndex: 107 entries, 0 to 106\n",
      "Data columns (total 6 columns):\n",
      " #   Column  Non-Null Count  Dtype  \n",
      "---  ------  --------------  -----  \n",
      " 0   f1      107 non-null    float32\n",
      " 1   f2      107 non-null    float32\n",
      " 2   f3      107 non-null    float32\n",
      " 3   f4      107 non-null    float32\n",
      " 4   f5      107 non-null    float32\n",
      " 5   label   107 non-null    float32\n",
      "dtypes: float32(6)\n",
      "memory usage: 2.6 KB\n",
      "None\n",
      "<class 'pandas.core.frame.DataFrame'>\n",
      "RangeIndex: 108 entries, 0 to 107\n",
      "Data columns (total 6 columns):\n",
      " #   Column  Non-Null Count  Dtype  \n",
      "---  ------  --------------  -----  \n",
      " 0   f1      108 non-null    float32\n",
      " 1   f2      108 non-null    float32\n",
      " 2   f3      108 non-null    float32\n",
      " 3   f4      108 non-null    float32\n",
      " 4   f5      108 non-null    float32\n",
      " 5   label   108 non-null    float32\n",
      "dtypes: float32(6)\n",
      "memory usage: 2.7 KB\n",
      "None\n"
     ]
    }
   ],
   "source": [
    "# data loading\n",
    "DATA = os.path.join('c:\\\\Users\\\\tcumi\\\\github_repo\\\\neural-network\\\\', 'dataset')\n",
    "GROUP = 1\n",
    "COLUMNS = ['f1', 'f2', 'f3', 'f4', 'f5', 'label']\n",
    "N_CLASS = 3\n",
    "EPOCHS = 500\n",
    "train_dir, test_dir = \"..//dataset//training_data{}.txt\".format(GROUP), \"..//dataset//testing_data{}.txt\".format(GROUP)\n",
    "train, test = get_data(DATA, train_dir, COLUMNS), get_data(DATA, test_dir, COLUMNS)\n",
    "# shuffle\n",
    "train, test = train.sample(frac=1), test.sample(frac=1)\n",
    "x_train, y_train = train.drop('label', axis=1), train['label']\n",
    "x_test, y_test = test.drop('label', axis=1), test['label']"
   ]
  },
  {
   "cell_type": "code",
   "execution_count": 8,
   "metadata": {},
   "outputs": [],
   "source": [
    "# data scaling and encoding\n",
    "scaler = StandardScaler(['f1', 'f2', 'f3', 'f4', 'f5'])\n",
    "scaler.fit(x_train)\n",
    "x_train = scaler.transform(x_train)\n",
    "x_test = scaler.transform(x_test)\n",
    "y_train = one_hot_encoding(y_train, N_CLASS)\n",
    "y_test = one_hot_encoding(y_test, N_CLASS)"
   ]
  },
  {
   "cell_type": "code",
   "execution_count": 9,
   "metadata": {
    "scrolled": true,
    "tags": [
     "outputPrepend"
    ]
   },
   "outputs": [
    {
     "name": "stderr",
     "output_type": "stream",
     "text": [
      "C:\\Users\\tcumi\\github_repo\\neural-network\\python\\ga.py:201: RuntimeWarning: overflow encountered in add\n",
      "  self.population.sort(key=lambda p: p.fitness + np.random.uniform(-shift, shift, 1), reverse = self.aim)\n"
     ]
    },
    {
     "name": "stdout",
     "output_type": "stream",
     "text": [
      "Checkpoint 100, Accuracy: 0.9135802469135802, Loss: 0.36846351623535156\n",
      "Checkpoint 200, Accuracy: 0.9320987654320988, Loss: 0.34569976947925707\n",
      "Checkpoint 300, Accuracy: 0.9506172839506173, Loss: 0.32128076200132016\n",
      "Checkpoint 400, Accuracy: 0.9506172839506173, Loss: 0.2986489048710576\n",
      "Checkpoint 500, Accuracy: 0.9629629629629629, Loss: 0.2762229884112323\n"
     ]
    }
   ],
   "source": [
    "# learning phase\n",
    "breakpoint = 100\n",
    "checkpoints = list()\n",
    "history = list()\n",
    "for century in range(0, EPOCHS, breakpoint):\n",
    "    sub_history = model.fit(x_train, y_train, breakpoint, verbose = 0)\n",
    "    score = model.evaluate(x_test, y_test, False, verbose = 0)\n",
    "    print('Checkpoint {}, Accuracy: {}, Loss: {}'.format(century+breakpoint, score['accuracy'], score[model.loss_fn]))\n",
    "    score['checkpoint'] = century + breakpoint\n",
    "    checkpoints.append(score)\n",
    "    history.extend(sub_history)\n",
    "    "
   ]
  },
  {
   "cell_type": "code",
   "execution_count": 10,
   "metadata": {},
   "outputs": [],
   "source": [
    "import matplotlib.pyplot as plt\n",
    "\n",
    "def draw_plot(x, y_list, x_label=None, y_label=None, legend=None, title=None):\n",
    "    fig, ax = plt.subplots(figsize=(12,5))\n",
    "    for xi, yi in zip(x, y_list):\n",
    "        ax.plot(xi, yi)\n",
    "    if x_label is not None and y_label is not None:\n",
    "        ax.set(xlabel=x_label, ylabel=y_label, title='{} VS {}'.format(x_label, y_label))\n",
    "    if legend is not None:\n",
    "        ax.legend(legend)\n",
    "    ax.grid()\n",
    "    plt.show()"
   ]
  },
  {
   "cell_type": "code",
   "execution_count": 11,
   "metadata": {},
   "outputs": [
    {
     "name": "stdout",
     "output_type": "stream",
     "text": [
      "[0. 1. 0.] <-> [0.8274581  0.14708339 0.02545855]\n",
      "[0. 1. 0.] <-> [0.15872948 0.8147632  0.02650728]\n",
      "[1. 0. 0.] <-> [0.8671845  0.03997229 0.0928432 ]\n",
      "[0. 0. 1.] <-> [0.28223714 0.1660553  0.5517075 ]\n",
      "[1. 0. 0.] <-> [0.95307386 0.02487845 0.02204776]\n",
      "[1. 0. 0.] <-> [0.9387305  0.02988798 0.03138149]\n",
      "[1. 0. 0.] <-> [0.850544   0.04456457 0.10489147]\n",
      "[1. 0. 0.] <-> [0.92289954 0.04034384 0.03675655]\n",
      "[0. 1. 0.] <-> [0.01112225 0.96779466 0.02108309]\n",
      "[1. 0. 0.] <-> [0.8642304  0.04276073 0.09300891]\n",
      "[1. 0. 0.] <-> [0.9375476  0.03367877 0.02877361]\n",
      "[1. 0. 0.] <-> [0.94901735 0.02044902 0.03053367]\n",
      "[1. 0. 0.] <-> [0.4870432  0.07306015 0.43989673]\n",
      "[0. 1. 0.] <-> [0.03697317 0.9332722  0.02975461]\n",
      "[1. 0. 0.] <-> [0.9517443  0.02306152 0.02519405]\n",
      "[1. 0. 0.] <-> [0.9380776  0.0225934  0.03932893]\n",
      "[1. 0. 0.] <-> [0.6843044  0.06002811 0.25566745]\n",
      "[1. 0. 0.] <-> [0.94053644 0.03093858 0.02852495]\n",
      "[1. 0. 0.] <-> [0.901276   0.03560545 0.06311857]\n",
      "[1. 0. 0.] <-> [0.93213665 0.02409703 0.0437663 ]\n",
      "[0. 0. 1.] <-> [0.5382688  0.03738559 0.42434558]\n",
      "[1. 0. 0.] <-> [0.88888955 0.03300317 0.0781073 ]\n",
      "[1. 0. 0.] <-> [0.8976873  0.03416631 0.06814647]\n",
      "[0. 1. 0.] <-> [0.0078324  0.96762544 0.02454224]\n",
      "[1. 0. 0.] <-> [0.7635064  0.1563989  0.08009475]\n",
      "[1. 0. 0.] <-> [0.56510943 0.37289986 0.06199075]\n",
      "[1. 0. 0.] <-> [0.88658    0.03181953 0.08160042]\n",
      "[0. 1. 0.] <-> [0.08915767 0.86975306 0.04108932]\n",
      "[1. 0. 0.] <-> [0.95199376 0.02255773 0.02544861]\n",
      "[1. 0. 0.] <-> [0.95261276 0.02439429 0.02299292]\n",
      "[1. 0. 0.] <-> [0.95485497 0.02633272 0.01881233]\n",
      "[1. 0. 0.] <-> [0.88522875 0.03820587 0.07656535]\n",
      "[1. 0. 0.] <-> [0.9523984  0.024294   0.02330759]\n",
      "[1. 0. 0.] <-> [0.95570904 0.01957352 0.02471745]\n",
      "[1. 0. 0.] <-> [0.9413007  0.02636706 0.03233223]\n",
      "[0. 1. 0.] <-> [0.31590596 0.31334132 0.3707527 ]\n",
      "[1. 0. 0.] <-> [0.8226143  0.0331904  0.14419523]\n",
      "[1. 0. 0.] <-> [0.93644565 0.03919384 0.02436061]\n",
      "[1. 0. 0.] <-> [0.95916533 0.02269486 0.01813985]\n",
      "[1. 0. 0.] <-> [0.9249142  0.0265997  0.04848615]\n",
      "[0. 0. 1.] <-> [0.35024336 0.07337607 0.57638055]\n",
      "[1. 0. 0.] <-> [0.7542384  0.0585349  0.18722667]\n",
      "[0. 0. 1.] <-> [0.04364736 0.19242054 0.7639321 ]\n",
      "[1. 0. 0.] <-> [0.8568754  0.03340912 0.10971557]\n",
      "[1. 0. 0.] <-> [0.84587276 0.02849    0.12563726]\n",
      "[1. 0. 0.] <-> [0.8092121  0.05327482 0.13751303]\n",
      "[1. 0. 0.] <-> [0.8967295  0.03444559 0.06882493]\n",
      "[1. 0. 0.] <-> [0.9463531  0.02262846 0.03101845]\n",
      "[1. 0. 0.] <-> [0.8907574  0.02730398 0.0819387 ]\n",
      "[1. 0. 0.] <-> [0.79323727 0.0561429  0.1506198 ]\n",
      "[0. 0. 1.] <-> [0.36997882 0.03589303 0.59412813]\n",
      "[1. 0. 0.] <-> [0.77546984 0.1095312  0.11499901]\n",
      "[1. 0. 0.] <-> [0.9303579  0.0225194  0.04712272]\n",
      "[0. 1. 0.] <-> [0.00792639 0.9624502  0.02962339]\n",
      "[0. 0. 1.] <-> [0.04381989 0.19261445 0.76356566]\n",
      "[0. 0. 1.] <-> [0.94769603 0.02145871 0.0308453 ]\n",
      "[1. 0. 0.] <-> [0.95969254 0.01975102 0.02055646]\n",
      "[1. 0. 0.] <-> [0.93167937 0.02562434 0.04269635]\n",
      "[1. 0. 0.] <-> [0.9021432  0.06911954 0.02873735]\n",
      "[1. 0. 0.] <-> [0.9195854 0.0336326 0.046782 ]\n",
      "[0. 1. 0.] <-> [0.02130119 0.95176226 0.02693652]\n",
      "[1. 0. 0.] <-> [0.9192065  0.02486811 0.05592538]\n",
      "[1. 0. 0.] <-> [0.8971169  0.0439317  0.05895146]\n",
      "[1. 0. 0.] <-> [0.9370373  0.03319321 0.02976956]\n",
      "[1. 0. 0.] <-> [0.9349053  0.03215793 0.03293675]\n",
      "[1. 0. 0.] <-> [0.8109794  0.03251854 0.15650205]\n",
      "[1. 0. 0.] <-> [0.66990614 0.06392357 0.2661703 ]\n",
      "[0. 0. 1.] <-> [0.04129139 0.18851054 0.7701981 ]\n",
      "[0. 0. 1.] <-> [0.31475848 0.04605509 0.6391864 ]\n",
      "[1. 0. 0.] <-> [0.9125478  0.02616862 0.06128359]\n",
      "[1. 0. 0.] <-> [0.8881356  0.05732731 0.05453709]\n",
      "[1. 0. 0.] <-> [0.71103036 0.05233617 0.23663348]\n",
      "[0. 0. 1.] <-> [0.2973888  0.10223859 0.6003726 ]\n",
      "[1. 0. 0.] <-> [0.78782266 0.08038507 0.13179226]\n",
      "[0. 0. 1.] <-> [0.62795454 0.22135219 0.15069327]\n",
      "[1. 0. 0.] <-> [0.95805204 0.02638138 0.01556657]\n",
      "[0. 1. 0.] <-> [0.7230516  0.24866612 0.02828228]\n",
      "[1. 0. 0.] <-> [0.95200604 0.02018129 0.02781263]\n",
      "[1. 0. 0.] <-> [0.8850685  0.03011963 0.08481193]\n",
      "[1. 0. 0.] <-> [0.9501475  0.02252107 0.02733145]\n",
      "[0. 0. 1.] <-> [0.46829036 0.03391767 0.49779204]\n",
      "[1. 0. 0.] <-> [0.96393937 0.01830075 0.0177599 ]\n",
      "[1. 0. 0.] <-> [0.6803717  0.04015466 0.27947363]\n",
      "[1. 0. 0.] <-> [0.8341385  0.08819762 0.07766391]\n",
      "[1. 0. 0.] <-> [0.89690816 0.03902594 0.06406585]\n",
      "[1. 0. 0.] <-> [0.9571459  0.02250289 0.02035111]\n",
      "[1. 0. 0.] <-> [0.72362715 0.20917434 0.0671985 ]\n",
      "[1. 0. 0.] <-> [0.70336235 0.03034197 0.26629564]\n",
      "[1. 0. 0.] <-> [0.92189294 0.0280302  0.05007692]\n",
      "[0. 1. 0.] <-> [0.4239749  0.50340873 0.07261635]\n",
      "[1. 0. 0.] <-> [0.6352824  0.03244715 0.33227038]\n",
      "[0. 1. 0.] <-> [0.17275366 0.49147135 0.33577505]\n",
      "[1. 0. 0.] <-> [0.9159773  0.03407148 0.04995121]\n",
      "[1. 0. 0.] <-> [0.9021735  0.02577551 0.07205097]\n",
      "[0. 1. 0.] <-> [0.0125779  0.96261686 0.02480526]\n",
      "[1. 0. 0.] <-> [0.8965454  0.02864203 0.07481247]\n",
      "[0. 1. 0.] <-> [0.00951599 0.96550727 0.02497667]\n",
      "[1. 0. 0.] <-> [0.8567435  0.10689005 0.03636649]\n",
      "[1. 0. 0.] <-> [0.91828036 0.03304229 0.04867722]\n",
      "[0. 0. 1.] <-> [0.43876114 0.08383495 0.47740385]\n",
      "[1. 0. 0.] <-> [0.8508073  0.0382003  0.11099244]\n",
      "[1. 0. 0.] <-> [0.92486286 0.04556808 0.02956903]\n",
      "[1. 0. 0.] <-> [0.9395498  0.0277552  0.03269495]\n",
      "[0. 1. 0.] <-> [0.03627667 0.9291004  0.03462292]\n",
      "[1. 0. 0.] <-> [0.65595716 0.03525627 0.30878657]\n",
      "[1. 0. 0.] <-> [0.8042784  0.03628367 0.159438  ]\n",
      "[1. 0. 0.] <-> [0.60518116 0.04123434 0.3535845 ]\n",
      "[1. 0. 0.] <-> [0.92589164 0.02711087 0.04699751]\n",
      "{'accuracy': 0.9629629629629629, 'mean_square_error': 0.13236423988649815, 'categorical_crossentropy': 0.2762229884112323, 'precision': 0.9444444444444444, 'recall': 0.9444444444444444, 'f1': 0.9444444444444444, 'essential_metrics': {0: {'tp_hit': 80, 'fp_hit': 5, 'tn_hit': 23, 'fn_hit': 0}, 1: {'tp_hit': 12, 'fp_hit': 0, 'tn_hit': 93, 'fn_hit': 3}, 2: {'tp_hit': 10, 'fp_hit': 1, 'tn_hit': 94, 'fn_hit': 3}}}\n"
     ]
    }
   ],
   "source": [
    "# recall phase\n",
    "score = model.evaluate(x_test, y_test, False)\n",
    "print(score)"
   ]
  },
  {
   "cell_type": "code",
   "execution_count": 12,
   "metadata": {},
   "outputs": [],
   "source": [
    "# Testing Performance"
   ]
  },
  {
   "cell_type": "code",
   "execution_count": 13,
   "metadata": {},
   "outputs": [
    {
     "data": {
      "image/png": "[encoded data removed]",
      "text/plain": [
       "<Figure size 864x360 with 1 Axes>"
      ]
     },
     "metadata": {
      "needs_background": "light"
     },
     "output_type": "display_data"
    },
    {
     "data": {
      "image/png": "[encoded data removed]",
      "text/plain": [
       "<Figure size 864x360 with 1 Axes>"
      ]
     },
     "metadata": {
      "needs_background": "light"
     },
     "output_type": "display_data"
    }
   ],
   "source": [
    "draw_plot(x = [[i for i in range(len(history))], [(i+1)*breakpoint for i in range(len(checkpoints))]], y_list = [history, [ ckp[model.loss_fn] for ckp in checkpoints ]], x_label = 'Epochs', \\\n",
    "    y_label = model.loss_fn, legend=['train', 'test'])\n",
    "acc = [ ckp['accuracy'] for ckp in checkpoints ]\n",
    "draw_plot(x = [[(i+1)*breakpoint for i in range(len(checkpoints))]], y_list = [acc], x_label = 'Checkpoints', \\\n",
    "    y_label = 'accuracy')"
   ]
  },
  {
   "cell_type": "code",
   "execution_count": 14,
   "metadata": {
    "scrolled": false
   },
   "outputs": [
    {
     "name": "stdout",
     "output_type": "stream",
     "text": [
      "{'accuracy': 0.9135802469135802, 'mean_square_error': 0.18553523659841875, 'categorical_crossentropy': 0.36846351623535156, 'precision': 0.8703703703703703, 'recall': 0.8703703703703703, 'f1': 0.8703703703703703, 'essential_metrics': {0: {'tp_hit': 80, 'fp_hit': 14, 'tn_hit': 14, 'fn_hit': 0}, 1: {'tp_hit': 11, 'fp_hit': 0, 'tn_hit': 93, 'fn_hit': 4}, 2: {'tp_hit': 3, 'fp_hit': 0, 'tn_hit': 95, 'fn_hit': 10}}, 'checkpoint': 100} \n",
      "\n",
      "\n",
      "{'accuracy': 0.9320987654320988, 'mean_square_error': 0.17320235055858907, 'categorical_crossentropy': 0.34569976947925707, 'precision': 0.8981481481481481, 'recall': 0.8981481481481481, 'f1': 0.8981481481481481, 'essential_metrics': {0: {'tp_hit': 80, 'fp_hit': 11, 'tn_hit': 17, 'fn_hit': 0}, 1: {'tp_hit': 12, 'fp_hit': 0, 'tn_hit': 93, 'fn_hit': 3}, 2: {'tp_hit': 5, 'fp_hit': 0, 'tn_hit': 95, 'fn_hit': 8}}, 'checkpoint': 200} \n",
      "\n",
      "\n",
      "{'accuracy': 0.9506172839506173, 'mean_square_error': 0.15585196776189905, 'categorical_crossentropy': 0.32128076200132016, 'precision': 0.9259259259259259, 'recall': 0.9259259259259259, 'f1': 0.9259259259259259, 'essential_metrics': {0: {'tp_hit': 80, 'fp_hit': 7, 'tn_hit': 21, 'fn_hit': 0}, 1: {'tp_hit': 12, 'fp_hit': 0, 'tn_hit': 93, 'fn_hit': 3}, 2: {'tp_hit': 8, 'fp_hit': 1, 'tn_hit': 94, 'fn_hit': 5}}, 'checkpoint': 300} \n",
      "\n",
      "\n",
      "{'accuracy': 0.9506172839506173, 'mean_square_error': 0.14402685554522426, 'categorical_crossentropy': 0.2986489048710576, 'precision': 0.9259259259259259, 'recall': 0.9259259259259259, 'f1': 0.9259259259259259, 'essential_metrics': {0: {'tp_hit': 80, 'fp_hit': 7, 'tn_hit': 21, 'fn_hit': 0}, 1: {'tp_hit': 12, 'fp_hit': 0, 'tn_hit': 93, 'fn_hit': 3}, 2: {'tp_hit': 8, 'fp_hit': 1, 'tn_hit': 94, 'fn_hit': 5}}, 'checkpoint': 400} \n",
      "\n",
      "\n",
      "{'accuracy': 0.9629629629629629, 'mean_square_error': 0.13236423988649815, 'categorical_crossentropy': 0.2762229884112323, 'precision': 0.9444444444444444, 'recall': 0.9444444444444444, 'f1': 0.9444444444444444, 'essential_metrics': {0: {'tp_hit': 80, 'fp_hit': 5, 'tn_hit': 23, 'fn_hit': 0}, 1: {'tp_hit': 12, 'fp_hit': 0, 'tn_hit': 93, 'fn_hit': 3}, 2: {'tp_hit': 10, 'fp_hit': 1, 'tn_hit': 94, 'fn_hit': 3}}, 'checkpoint': 500} \n",
      "\n",
      "\n"
     ]
    }
   ],
   "source": [
    "for checkpoint in checkpoints:\n",
    "    print(checkpoint, '\\n\\n')"
   ]
  },
  {
   "cell_type": "code",
   "execution_count": 15,
   "metadata": {},
   "outputs": [
    {
     "name": "stdout",
     "output_type": "stream",
     "text": [
      "Layer 1\n",
      "Neuron 0: weights:\n",
      "[-2.5659523   0.7840932  -1.4906898  -0.98173463 -1.1693633 ]\n",
      " bias: 1.1299139261245728\n",
      "\n",
      "Neuron 1: weights:\n",
      "[-1.2168107  2.5544512  2.2137105  2.918085  -2.259062 ]\n",
      " bias: -1.9677271842956543\n",
      "\n",
      "Neuron 2: weights:\n",
      "[-2.4484      1.1336465   1.9378558  -0.49098206  2.1655302 ]\n",
      " bias: -1.590727686882019\n",
      "\n",
      "Neuron 3: weights:\n",
      "[-0.2239843   0.84564364 -0.73112756 -1.7214763   1.1395125 ]\n",
      " bias: -0.15936417877674103\n",
      "\n",
      "$\n",
      "Layer 2\n",
      "Neuron 0: weights:\n",
      "[ 3.        -1.8186196 -2.620029   2.524739 ]\n",
      " bias: 1.150397777557373\n",
      "\n",
      "Neuron 1: weights:\n",
      "[1.832648  1.6680554 2.3938308 1.2878271]\n",
      " bias: -1.151703119277954\n",
      "\n",
      "Neuron 2: weights:\n",
      "[-0.67098325 -1.445033    1.555067    0.6257341 ]\n",
      " bias: 1.722947597503662\n",
      "\n",
      "$\n",
      "\n"
     ]
    }
   ],
   "source": [
    "print(model)"
   ]
  }
 ],
 "metadata": {
  "kernelspec": {
   "display_name": "Python 3",
   "language": "python",
   "name": "python3"
  },
  "language_info": {
   "codemirror_mode": {
    "name": "ipython",
    "version": 3
   },
   "file_extension": ".py",
   "mimetype": "text/x-python",
   "name": "python",
   "nbconvert_exporter": "python",
   "pygments_lexer": "ipython3",
   "version": "3.6.10"
  }
 },
 "nbformat": 4,
 "nbformat_minor": 2
}
