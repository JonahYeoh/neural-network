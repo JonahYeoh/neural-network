{
 "cells": [
  {
   "cell_type": "code",
   "execution_count": 1,
   "metadata": {},
   "outputs": [],
   "source": [
    "# two"
   ]
  },
  {
   "cell_type": "code",
   "execution_count": 2,
   "metadata": {},
   "outputs": [],
   "source": [
    "# dependency\n",
    "import numpy as np\n",
    "import pandas as pd\n",
    "import copy\n",
    "import math\n",
    "import sys\n",
    "import os\n",
    "from activations import relu, leaky_relu, sigmoid, tanh, softmax, d_sigmoid, d_relu\n",
    "from initializers import glorot_uniform, random_normal, random_uniform\n",
    "from regularizers import l1_regularizer, l2_regularizer\n",
    "from utility import trim_tail, multiply, subtract, get_nparams, one_hot_encoding, get_data\n",
    "from metrics import MSE, CCE, ACC, PRECISION, RECALL, essential_metrics, wondering_penalty, close_gap_penalty\n",
    "from pso import PSO\n",
    "from ga import GA\n",
    "from nn import Network\n",
    "from layer import DenseLayer\n",
    "from scalers import MinMaxScaler, StandardScaler"
   ]
  },
  {
   "cell_type": "code",
   "execution_count": 3,
   "metadata": {},
   "outputs": [],
   "source": [
    "# reference\n",
    "metrics_fn_dict = dict()\n",
    "metrics_fn_dict['accuracy'] = ACC\n",
    "metrics_fn_dict['categorical_crossentropy'] = CCE\n",
    "metrics_fn_dict['mean_square_error'] = MSE\n",
    "metrics_fn_dict['precision'] = PRECISION\n",
    "metrics_fn_dict['recall'] = RECALL\n",
    "metrics_fn_dict['essential_metrics'] = essential_metrics"
   ]
  },
  {
   "cell_type": "code",
   "execution_count": 4,
   "metadata": {},
   "outputs": [],
   "source": [
    "# model\n",
    "model = Network(5, lr = None)\n",
    "model.add_layer(DenseLayer(1, 4, True, afn=sigmoid, dafn=None, rfn=None))\n",
    "model.add_layer(DenseLayer(2, 3, True, afn=softmax, dafn=None, rfn=None))"
   ]
  },
  {
   "cell_type": "code",
   "execution_count": 5,
   "metadata": {},
   "outputs": [],
   "source": [
    "# optimizer\n",
    "ga = GA(\n",
    "    dict(\n",
    "        m = 50,\n",
    "        x_rate = [0.5, 1.0],\n",
    "        m_rate = [0.5, 1.0],\n",
    "        weight_constraint = [-3.,3.],\n",
    "        radioactive_rating = [0.1, 0.5],\n",
    "        grow_factor = [0.1, 0.5],\n",
    "        scale_hyperparameter = False,\n",
    "        regularizer = None))"
   ]
  },
  {
   "cell_type": "code",
   "execution_count": 6,
   "metadata": {},
   "outputs": [
    {
     "name": "stdout",
     "output_type": "stream",
     "text": [
      "building layer 1 with 5\n",
      "24\n",
      "building layer 2 with 4\n",
      "15\n"
     ]
    }
   ],
   "source": [
    "model.compile(loss_fn = 'categorical_crossentropy', optimizer = ga, \\\n",
    "    metrics = ['accuracy', 'mean_square_error', 'categorical_crossentropy', 'precision', 'recall', 'f1'])"
   ]
  },
  {
   "cell_type": "code",
   "execution_count": 7,
   "metadata": {},
   "outputs": [
    {
     "name": "stdout",
     "output_type": "stream",
     "text": [
      "<class 'pandas.core.frame.DataFrame'>\n",
      "RangeIndex: 107 entries, 0 to 106\n",
      "Data columns (total 6 columns):\n",
      " #   Column  Non-Null Count  Dtype  \n",
      "---  ------  --------------  -----  \n",
      " 0   f1      107 non-null    float32\n",
      " 1   f2      107 non-null    float32\n",
      " 2   f3      107 non-null    float32\n",
      " 3   f4      107 non-null    float32\n",
      " 4   f5      107 non-null    float32\n",
      " 5   label   107 non-null    float32\n",
      "dtypes: float32(6)\n",
      "memory usage: 2.6 KB\n",
      "None\n",
      "<class 'pandas.core.frame.DataFrame'>\n",
      "RangeIndex: 108 entries, 0 to 107\n",
      "Data columns (total 6 columns):\n",
      " #   Column  Non-Null Count  Dtype  \n",
      "---  ------  --------------  -----  \n",
      " 0   f1      108 non-null    float32\n",
      " 1   f2      108 non-null    float32\n",
      " 2   f3      108 non-null    float32\n",
      " 3   f4      108 non-null    float32\n",
      " 4   f5      108 non-null    float32\n",
      " 5   label   108 non-null    float32\n",
      "dtypes: float32(6)\n",
      "memory usage: 2.7 KB\n",
      "None\n"
     ]
    }
   ],
   "source": [
    "# data loading\n",
    "DATA = os.path.join('c:\\\\Users\\\\tcumi\\\\github_repo\\\\neural-network\\\\', 'dataset')\n",
    "GROUP = 4\n",
    "COLUMNS = ['f1', 'f2', 'f3', 'f4', 'f5', 'label']\n",
    "N_CLASS = 3\n",
    "EPOCHS = 500\n",
    "train_dir, test_dir = \"..//dataset//training_data{}.txt\".format(GROUP), \"..//dataset//testing_data{}.txt\".format(GROUP)\n",
    "train, test = get_data(DATA, train_dir, COLUMNS), get_data(DATA, test_dir, COLUMNS)\n",
    "# shuffle\n",
    "train, test = train.sample(frac=1), test.sample(frac=1)\n",
    "x_train, y_train = train.drop('label', axis=1), train['label']\n",
    "x_test, y_test = test.drop('label', axis=1), test['label']"
   ]
  },
  {
   "cell_type": "code",
   "execution_count": 8,
   "metadata": {},
   "outputs": [],
   "source": [
    "# data scaling and encoding\n",
    "scaler = StandardScaler(['f1', 'f2', 'f3', 'f4', 'f5'])\n",
    "scaler.fit(x_train)\n",
    "x_train = scaler.transform(x_train)\n",
    "x_test = scaler.transform(x_test)\n",
    "y_train = one_hot_encoding(y_train, N_CLASS)\n",
    "y_test = one_hot_encoding(y_test, N_CLASS)"
   ]
  },
  {
   "cell_type": "code",
   "execution_count": 9,
   "metadata": {
    "scrolled": true,
    "tags": [
     "outputPrepend"
    ]
   },
   "outputs": [
    {
     "name": "stderr",
     "output_type": "stream",
     "text": [
      "C:\\Users\\tcumi\\github_repo\\neural-network\\python\\ga.py:201: RuntimeWarning: overflow encountered in add\n",
      "  self.population.sort(key=lambda p: p.fitness + np.random.uniform(-shift, shift, 1), reverse = self.aim)\n"
     ]
    },
    {
     "name": "stdout",
     "output_type": "stream",
     "text": [
      "Checkpoint 100, Accuracy: 0.9506172839506173, Loss: 0.26319263599537035\n",
      "Checkpoint 200, Accuracy: 0.9567901234567902, Loss: 0.21729732442785193\n",
      "Checkpoint 300, Accuracy: 0.9567901234567902, Loss: 0.1724529266357422\n",
      "Checkpoint 400, Accuracy: 0.9691358024691358, Loss: 0.13404503575077764\n",
      "Checkpoint 500, Accuracy: 0.9629629629629629, Loss: 0.12710698445638022\n"
     ]
    }
   ],
   "source": [
    "# learning phase\n",
    "breakpoint = 100\n",
    "checkpoints = list()\n",
    "history = list()\n",
    "for century in range(0, EPOCHS, breakpoint):\n",
    "    sub_history = model.fit(x_train, y_train, breakpoint, verbose = 0)\n",
    "    score = model.evaluate(x_test, y_test, False, verbose = 0)\n",
    "    print('Checkpoint {}, Accuracy: {}, Loss: {}'.format(century+breakpoint, score['accuracy'], score[model.loss_fn]))\n",
    "    score['checkpoint'] = century + breakpoint\n",
    "    checkpoints.append(score)\n",
    "    history.extend(sub_history)\n",
    "    itr = century + breakpoint\n",
    "\n",
    "    model.optimizer.rr = model.optimizer.radioactive_rating[1] - (model.optimizer.radioactive_rating[1] - model.optimizer.radioactive_rating[0]) / EPOCHS * (EPOCHS - itr)\n",
    "    model.optimizer.gf = model.optimizer.grow_factor[1] - (model.optimizer.grow_factor[1] - model.optimizer.grow_factor[0]) / EPOCHS * (EPOCHS - itr)\n",
    "    model.optimizer.crossover_rate = model.optimizer.x_rate[1] - (model.optimizer.x_rate[1] - model.optimizer.x_rate[0]) / EPOCHS * (EPOCHS - itr)\n",
    "    model.optimizer.mutation_rate = model.optimizer.m_rate[0] + (model.optimizer.m_rate[1] - model.optimizer.m_rate[0]) / EPOCHS * (EPOCHS - itr)\n",
    "    "
   ]
  },
  {
   "cell_type": "code",
   "execution_count": 10,
   "metadata": {},
   "outputs": [],
   "source": [
    "import matplotlib.pyplot as plt\n",
    "\n",
    "def draw_plot(x, y_list, x_label=None, y_label=None, legend=None, title=None):\n",
    "    fig, ax = plt.subplots(figsize=(12,5))\n",
    "    for xi, yi in zip(x, y_list):\n",
    "        ax.plot(xi, yi)\n",
    "    if x_label is not None and y_label is not None:\n",
    "        ax.set(xlabel=x_label, ylabel=y_label, title='{} VS {}'.format(x_label, y_label))\n",
    "    if legend is not None:\n",
    "        ax.legend(legend)\n",
    "    ax.grid()\n",
    "    plt.show()"
   ]
  },
  {
   "cell_type": "code",
   "execution_count": 11,
   "metadata": {},
   "outputs": [
    {
     "name": "stdout",
     "output_type": "stream",
     "text": [
      "[1. 0. 0.] <-> [0.9881621  0.00944555 0.00239233]\n",
      "[0. 1. 0.] <-> [2.1359881e-02 9.7857040e-01 6.9618909e-05]\n",
      "[0. 0. 1.] <-> [0.6958823  0.00486978 0.29924798]\n",
      "[1. 0. 0.] <-> [0.9844934  0.00200667 0.01349998]\n",
      "[0. 0. 1.] <-> [2.443876e-02 7.022268e-04 9.748590e-01]\n",
      "[1. 0. 0.] <-> [0.9763352  0.01144375 0.01222104]\n",
      "[1. 0. 0.] <-> [0.99456114 0.00196599 0.00347289]\n",
      "[1. 0. 0.] <-> [0.9931514 0.0030897 0.0037588]\n",
      "[0. 1. 0.] <-> [2.1568323e-02 9.7836280e-01 6.8796973e-05]\n",
      "[1. 0. 0.] <-> [0.9734501  0.0033628  0.02318699]\n",
      "[0. 1. 0.] <-> [2.5656365e-02 9.7425735e-01 8.6263877e-05]\n",
      "[1. 0. 0.] <-> [0.994214   0.00156311 0.00422279]\n",
      "[0. 0. 1.] <-> [0.27273795 0.00285118 0.72441083]\n",
      "[1. 0. 0.] <-> [0.8201916  0.17782527 0.00198316]\n",
      "[1. 0. 0.] <-> [0.9335698  0.04894004 0.01749018]\n",
      "[1. 0. 0.] <-> [0.9241194  0.07359985 0.00228068]\n",
      "[1. 0. 0.] <-> [0.9555046  0.00195882 0.04253656]\n",
      "[0. 1. 0.] <-> [2.1576509e-02 9.7835356e-01 6.9840200e-05]\n",
      "[1. 0. 0.] <-> [0.9453578  0.00558977 0.04905241]\n",
      "[1. 0. 0.] <-> [0.98036045 0.01625988 0.00337973]\n",
      "[0. 1. 0.] <-> [2.1223402e-02 9.7870630e-01 7.0324881e-05]\n",
      "[1. 0. 0.] <-> [0.830678   0.0032883  0.16603374]\n",
      "[1. 0. 0.] <-> [0.9949456  0.00218534 0.00286911]\n",
      "[1. 0. 0.] <-> [0.99396557 0.00173489 0.00429953]\n",
      "[1. 0. 0.] <-> [0.54992294 0.4483118  0.00176522]\n",
      "[0. 1. 0.] <-> [2.1305302e-02 9.7862476e-01 6.9829715e-05]\n",
      "[1. 0. 0.] <-> [0.99293923 0.0047032  0.00235752]\n",
      "[1. 0. 0.] <-> [0.9889443  0.00828832 0.00276732]\n",
      "[1. 0. 0.] <-> [0.9942491 0.0026269 0.0031241]\n",
      "[1. 0. 0.] <-> [0.9802099  0.00172785 0.01806225]\n",
      "[1. 0. 0.] <-> [0.9930889  0.00319702 0.00371409]\n",
      "[1. 0. 0.] <-> [0.9930101  0.00195357 0.00503633]\n",
      "[1. 0. 0.] <-> [0.9895331  0.00814225 0.00232454]\n",
      "[1. 0. 0.] <-> [0.99235266 0.00268221 0.00496524]\n",
      "[0. 0. 1.] <-> [0.7395609  0.00286391 0.25757524]\n",
      "[0. 0. 1.] <-> [0.04951861 0.0011757  0.94930565]\n",
      "[1. 0. 0.] <-> [1.8933526e-01 8.1012392e-01 5.4079661e-04]\n",
      "[1. 0. 0.] <-> [0.9865362  0.01134967 0.00211412]\n",
      "[0. 1. 0.] <-> [2.1463463e-02 9.7846735e-01 6.9205154e-05]\n",
      "[0. 0. 1.] <-> [2.2245862e-02 9.0863288e-04 9.7684550e-01]\n",
      "[1. 0. 0.] <-> [0.9911391  0.00221709 0.00664377]\n",
      "[0. 1. 0.] <-> [5.5783998e-02 9.4403392e-01 1.8212962e-04]\n",
      "[1. 0. 0.] <-> [0.99280643 0.00431027 0.0028833 ]\n",
      "[1. 0. 0.] <-> [2.2959894e-01 7.6972878e-01 6.7233486e-04]\n",
      "[1. 0. 0.] <-> [0.9945623  0.00259064 0.00284702]\n",
      "[1. 0. 0.] <-> [0.9703005  0.00176721 0.02793233]\n",
      "[0. 0. 1.] <-> [2.2936676e-02 6.8192667e-04 9.7638136e-01]\n",
      "[1. 0. 0.] <-> [0.94545263 0.00239237 0.05215494]\n",
      "[0. 0. 1.] <-> [0.05322162 0.00104654 0.9457318 ]\n",
      "[0. 1. 0.] <-> [3.3045091e-02 9.6685201e-01 1.0293665e-04]\n",
      "[0. 0. 1.] <-> [0.5698192  0.00262456 0.4275562 ]\n",
      "[1. 0. 0.] <-> [0.9820525  0.00173705 0.01621042]\n",
      "[1. 0. 0.] <-> [0.9871192  0.00195606 0.01092471]\n",
      "[0. 0. 1.] <-> [0.04883326 0.0010024  0.9501644 ]\n",
      "[1. 0. 0.] <-> [0.9882289  0.00792059 0.00385053]\n",
      "[1. 0. 0.] <-> [0.98335904 0.00338285 0.01325806]\n",
      "[1. 0. 0.] <-> [0.954625   0.00486224 0.0405128 ]\n",
      "[1. 0. 0.] <-> [0.6755882  0.00901044 0.31540135]\n",
      "[1. 0. 0.] <-> [0.9920061  0.00170837 0.00628559]\n",
      "[0. 1. 0.] <-> [2.1577757e-02 9.7835344e-01 6.8761088e-05]\n",
      "[1. 0. 0.] <-> [0.9932596  0.00182847 0.00491197]\n",
      "[1. 0. 0.] <-> [0.9341761  0.06332386 0.00250011]\n",
      "[1. 0. 0.] <-> [0.97074294 0.00196144 0.02729565]\n",
      "[1. 0. 0.] <-> [0.9728008  0.0243817  0.00281757]\n",
      "[1. 0. 0.] <-> [0.99194205 0.00144178 0.00661614]\n",
      "[0. 0. 1.] <-> [0.05571742 0.00151228 0.9427703 ]\n",
      "[1. 0. 0.] <-> [0.9933321  0.00244779 0.00422019]\n",
      "[1. 0. 0.] <-> [0.9940223  0.00178943 0.00418832]\n",
      "[0. 1. 0.] <-> [4.8571948e-02 9.5127994e-01 1.4807381e-04]\n",
      "[1. 0. 0.] <-> [0.9938799  0.00364608 0.00247401]\n",
      "[1. 0. 0.] <-> [0.9924908  0.00488537 0.00262373]\n",
      "[1. 0. 0.] <-> [0.9942656  0.00347108 0.00226332]\n",
      "[1. 0. 0.] <-> [0.99161494 0.00372996 0.00465515]\n",
      "[1. 0. 0.] <-> [0.99248403 0.00168833 0.00582769]\n",
      "[1. 0. 0.] <-> [0.99251693 0.00210163 0.00538142]\n",
      "[1. 0. 0.] <-> [0.98851424 0.00322683 0.0082589 ]\n",
      "[1. 0. 0.] <-> [0.7025359  0.29524526 0.0022188 ]\n",
      "[0. 1. 0.] <-> [2.4338289e-01 7.5595415e-01 6.6297193e-04]\n",
      "[1. 0. 0.] <-> [0.8260779  0.00494675 0.1689754 ]\n",
      "[0. 0. 1.] <-> [2.5447188e-02 7.1207766e-04 9.7384077e-01]\n",
      "[1. 0. 0.] <-> [0.99125415 0.00523849 0.00350746]\n",
      "[1. 0. 0.] <-> [0.98228604 0.00829428 0.0094197 ]\n",
      "[0. 1. 0.] <-> [9.6311204e-02 9.0340835e-01 2.8043176e-04]\n",
      "[1. 0. 0.] <-> [0.9898094  0.00433895 0.00585165]\n",
      "[1. 0. 0.] <-> [0.99362624 0.00243621 0.00393753]\n",
      "[1. 0. 0.] <-> [0.39288017 0.00541699 0.60170287]\n",
      "[1. 0. 0.] <-> [0.9855399  0.01198392 0.00247628]\n",
      "[1. 0. 0.] <-> [0.9921727  0.00450057 0.00332671]\n",
      "[1. 0. 0.] <-> [0.96912897 0.02846231 0.00240869]\n",
      "[1. 0. 0.] <-> [0.9932474  0.00451729 0.00223538]\n",
      "[1. 0. 0.] <-> [0.89974636 0.09786471 0.002389  ]\n",
      "[0. 0. 1.] <-> [0.12239517 0.0015811  0.87602377]\n",
      "[1. 0. 0.] <-> [0.9924581  0.00472961 0.00281236]\n",
      "[0. 0. 1.] <-> [0.02005202 0.00251405 0.977434  ]\n",
      "[1. 0. 0.] <-> [0.9560965  0.04159516 0.0023084 ]\n",
      "[1. 0. 0.] <-> [0.98821497 0.0084788  0.00330618]\n",
      "[1. 0. 0.] <-> [0.6004533  0.39795223 0.00159442]\n",
      "[1. 0. 0.] <-> [0.9749121  0.00198097 0.02310694]\n",
      "[1. 0. 0.] <-> [0.99337304 0.00392499 0.00270201]\n",
      "[0. 1. 0.] <-> [5.4260582e-02 9.4557595e-01 1.6345347e-04]\n",
      "[0. 1. 0.] <-> [2.1188676e-02 9.7873873e-01 7.2629424e-05]\n",
      "[1. 0. 0.] <-> [0.9944296  0.00291312 0.00265728]\n",
      "[1. 0. 0.] <-> [0.9869523  0.00219484 0.0108529 ]\n",
      "[1. 0. 0.] <-> [0.99282336 0.00172914 0.0054475 ]\n",
      "[1. 0. 0.] <-> [0.5127743  0.48543397 0.00179177]\n",
      "[1. 0. 0.] <-> [0.98989177 0.00789455 0.00221368]\n",
      "[0. 1. 0.] <-> [1.4559568e-01 8.5398889e-01 4.1548884e-04]\n",
      "[1. 0. 0.] <-> [0.83498657 0.15798938 0.00702414]\n",
      "{'accuracy': 0.9629629629629629, 'mean_square_error': 0.0765294610362262, 'categorical_crossentropy': 0.12710698445638022, 'precision': 0.9444444444444444, 'recall': 0.9444444444444444, 'f1': 0.9444444444444444, 'essential_metrics': {0: {'tp_hit': 75, 'fp_hit': 3, 'tn_hit': 27, 'fn_hit': 3}, 1: {'tp_hit': 16, 'fp_hit': 2, 'tn_hit': 90, 'fn_hit': 0}, 2: {'tp_hit': 11, 'fp_hit': 1, 'tn_hit': 93, 'fn_hit': 3}}}\n"
     ]
    }
   ],
   "source": [
    "# recall phase\n",
    "score = model.evaluate(x_test, y_test, False)\n",
    "print(score)"
   ]
  },
  {
   "cell_type": "code",
   "execution_count": 12,
   "metadata": {},
   "outputs": [],
   "source": [
    "# Testing Performance"
   ]
  },
  {
   "cell_type": "code",
   "execution_count": 13,
   "metadata": {},
   "outputs": [
    {
     "data": {
      "image/png": "[encoded data removed]",
      "text/plain": [
       "<Figure size 864x360 with 1 Axes>"
      ]
     },
     "metadata": {
      "needs_background": "light"
     },
     "output_type": "display_data"
    },
    {
     "data": {
      "image/png": "[encoded data removed]",
      "text/plain": [
       "<Figure size 864x360 with 1 Axes>"
      ]
     },
     "metadata": {
      "needs_background": "light"
     },
     "output_type": "display_data"
    }
   ],
   "source": [
    "draw_plot(x = [[i for i in range(len(history))], [(i+1)*breakpoint for i in range(len(checkpoints))]], y_list = [history, [ ckp[model.loss_fn] for ckp in checkpoints ]], x_label = 'Epochs', \\\n",
    "    y_label = model.loss_fn, legend=['train', 'test'])\n",
    "acc = [ ckp['accuracy'] for ckp in checkpoints ]\n",
    "draw_plot(x = [[(i+1)*breakpoint for i in range(len(checkpoints))]], y_list = [acc], x_label = 'Checkpoints', \\\n",
    "    y_label = 'accuracy')"
   ]
  },
  {
   "cell_type": "code",
   "execution_count": 14,
   "metadata": {
    "scrolled": false
   },
   "outputs": [
    {
     "name": "stdout",
     "output_type": "stream",
     "text": [
      "{'accuracy': 0.9506172839506173, 'mean_square_error': 0.13606172701749242, 'categorical_crossentropy': 0.26319263599537035, 'precision': 0.9259259259259259, 'recall': 0.9259259259259259, 'f1': 0.9259259259259259, 'essential_metrics': {0: {'tp_hit': 77, 'fp_hit': 7, 'tn_hit': 23, 'fn_hit': 1}, 1: {'tp_hit': 14, 'fp_hit': 1, 'tn_hit': 91, 'fn_hit': 2}, 2: {'tp_hit': 9, 'fp_hit': 0, 'tn_hit': 94, 'fn_hit': 5}}, 'checkpoint': 100} \n",
      "\n",
      "\n",
      "{'accuracy': 0.9567901234567902, 'mean_square_error': 0.1129843158382938, 'categorical_crossentropy': 0.21729732442785193, 'precision': 0.9351851851851852, 'recall': 0.9351851851851852, 'f1': 0.9351851851851852, 'essential_metrics': {0: {'tp_hit': 77, 'fp_hit': 6, 'tn_hit': 24, 'fn_hit': 1}, 1: {'tp_hit': 15, 'fp_hit': 1, 'tn_hit': 91, 'fn_hit': 1}, 2: {'tp_hit': 9, 'fp_hit': 0, 'tn_hit': 94, 'fn_hit': 5}}, 'checkpoint': 200} \n",
      "\n",
      "\n",
      "{'accuracy': 0.9567901234567902, 'mean_square_error': 0.0913274354361897, 'categorical_crossentropy': 0.1724529266357422, 'precision': 0.9351851851851852, 'recall': 0.9351851851851852, 'f1': 0.9351851851851852, 'essential_metrics': {0: {'tp_hit': 76, 'fp_hit': 5, 'tn_hit': 25, 'fn_hit': 2}, 1: {'tp_hit': 15, 'fp_hit': 2, 'tn_hit': 90, 'fn_hit': 1}, 2: {'tp_hit': 10, 'fp_hit': 0, 'tn_hit': 94, 'fn_hit': 4}}, 'checkpoint': 300} \n",
      "\n",
      "\n",
      "{'accuracy': 0.9691358024691358, 'mean_square_error': 0.0726035318275095, 'categorical_crossentropy': 0.13404503575077764, 'precision': 0.9537037037037037, 'recall': 0.9537037037037037, 'f1': 0.9537037037037037, 'essential_metrics': {0: {'tp_hit': 76, 'fp_hit': 3, 'tn_hit': 27, 'fn_hit': 2}, 1: {'tp_hit': 16, 'fp_hit': 2, 'tn_hit': 90, 'fn_hit': 0}, 2: {'tp_hit': 11, 'fp_hit': 0, 'tn_hit': 94, 'fn_hit': 3}}, 'checkpoint': 400} \n",
      "\n",
      "\n",
      "{'accuracy': 0.9629629629629629, 'mean_square_error': 0.0765294610362262, 'categorical_crossentropy': 0.12710698445638022, 'precision': 0.9444444444444444, 'recall': 0.9444444444444444, 'f1': 0.9444444444444444, 'essential_metrics': {0: {'tp_hit': 75, 'fp_hit': 3, 'tn_hit': 27, 'fn_hit': 3}, 1: {'tp_hit': 16, 'fp_hit': 2, 'tn_hit': 90, 'fn_hit': 0}, 2: {'tp_hit': 11, 'fp_hit': 1, 'tn_hit': 93, 'fn_hit': 3}}, 'checkpoint': 500} \n",
      "\n",
      "\n"
     ]
    }
   ],
   "source": [
    "for checkpoint in checkpoints:\n",
    "    print(checkpoint, '\\n\\n')"
   ]
  },
  {
   "cell_type": "code",
   "execution_count": 15,
   "metadata": {},
   "outputs": [
    {
     "name": "stdout",
     "output_type": "stream",
     "text": [
      "Layer 1\n",
      "Neuron 0: weights:\n",
      "[-1.7190206   2.5861773   2.688952    0.86516756 -0.98732734]\n",
      " bias: -1.7279043197631836\n",
      "\n",
      "Neuron 1: weights:\n",
      "[ 0.63563955  3.         -1.3348026  -1.4201599  -2.9482903 ]\n",
      " bias: 2.2331807613372803\n",
      "\n",
      "Neuron 2: weights:\n",
      "[-0.89319956  2.3754528   1.511982   -1.9900509  -1.2832333 ]\n",
      " bias: 1.6107878684997559\n",
      "\n",
      "Neuron 3: weights:\n",
      "[ 1.360099   -2.6625414  -2.455337   -1.0073141  -0.51069474]\n",
      " bias: 0.8093440532684326\n",
      "\n",
      "$\n",
      "Layer 2\n",
      "Neuron 0: weights:\n",
      "[-3.         3.         1.6851937  2.3205636]\n",
      " bias: -2.4917449951171875\n",
      "\n",
      "Neuron 1: weights:\n",
      "[ 3.          0.23037805  1.1379728  -2.3385198 ]\n",
      " bias: -1.360785961151123\n",
      "\n",
      "Neuron 2: weights:\n",
      "[-2.7295074 -3.        -2.5352018  1.8699925]\n",
      " bias: 1.7091690301895142\n",
      "\n",
      "$\n",
      "\n"
     ]
    }
   ],
   "source": [
    "print(model)"
   ]
  }
 ],
 "metadata": {
  "kernelspec": {
   "display_name": "Python 3",
   "language": "python",
   "name": "python3"
  },
  "language_info": {
   "codemirror_mode": {
    "name": "ipython",
    "version": 3
   },
   "file_extension": ".py",
   "mimetype": "text/x-python",
   "name": "python",
   "nbconvert_exporter": "python",
   "pygments_lexer": "ipython3",
   "version": "3.6.10"
  }
 },
 "nbformat": 4,
 "nbformat_minor": 2
}
