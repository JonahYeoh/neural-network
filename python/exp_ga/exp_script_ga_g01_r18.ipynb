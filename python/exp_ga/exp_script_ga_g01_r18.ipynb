{
 "cells": [
  {
   "cell_type": "code",
   "execution_count": 1,
   "metadata": {},
   "outputs": [],
   "source": [
    "# two"
   ]
  },
  {
   "cell_type": "code",
   "execution_count": 2,
   "metadata": {},
   "outputs": [],
   "source": [
    "# dependency\n",
    "import numpy as np\n",
    "import pandas as pd\n",
    "import copy\n",
    "import math\n",
    "import sys\n",
    "import os\n",
    "from activations import relu, leaky_relu, sigmoid, tanh, softmax, d_sigmoid, d_relu\n",
    "from initializers import glorot_uniform, random_normal, random_uniform\n",
    "from regularizers import l1_regularizer, l2_regularizer\n",
    "from utility import trim_tail, multiply, subtract, get_nparams, one_hot_encoding, get_data\n",
    "from metrics import MSE, CCE, ACC, PRECISION, RECALL, essential_metrics, wondering_penalty, close_gap_penalty\n",
    "from pso import PSO\n",
    "from ga import GA\n",
    "from nn import Network\n",
    "from layer import DenseLayer\n",
    "from scalers import MinMaxScaler, StandardScaler"
   ]
  },
  {
   "cell_type": "code",
   "execution_count": 3,
   "metadata": {},
   "outputs": [],
   "source": [
    "# reference\n",
    "metrics_fn_dict = dict()\n",
    "metrics_fn_dict['accuracy'] = ACC\n",
    "metrics_fn_dict['categorical_crossentropy'] = CCE\n",
    "metrics_fn_dict['mean_square_error'] = MSE\n",
    "metrics_fn_dict['precision'] = PRECISION\n",
    "metrics_fn_dict['recall'] = RECALL\n",
    "metrics_fn_dict['essential_metrics'] = essential_metrics"
   ]
  },
  {
   "cell_type": "code",
   "execution_count": 4,
   "metadata": {},
   "outputs": [],
   "source": [
    "# model\n",
    "model = Network(5, lr = None)\n",
    "model.add_layer(DenseLayer(1, 4, True, afn=sigmoid, dafn=None, rfn=None))\n",
    "model.add_layer(DenseLayer(2, 3, True, afn=softmax, dafn=None, rfn=None))"
   ]
  },
  {
   "cell_type": "code",
   "execution_count": 5,
   "metadata": {},
   "outputs": [],
   "source": [
    "# optimizer\n",
    "ga = GA(\n",
    "    dict(\n",
    "        m = 50,\n",
    "        x_rate = [0.5, 1.0],\n",
    "        m_rate = [0.5, 1.0],\n",
    "        weight_constraint = [-3.,3.],\n",
    "        radioactive_rating = [0.1, 0.5],\n",
    "        grow_factor = [0.1, 0.5],\n",
    "        scale_hyperparameter = False,\n",
    "        regularizer = l1_regularizer))"
   ]
  },
  {
   "cell_type": "code",
   "execution_count": 6,
   "metadata": {},
   "outputs": [
    {
     "name": "stdout",
     "output_type": "stream",
     "text": [
      "building layer 1 with 5\n",
      "24\n",
      "building layer 2 with 4\n",
      "15\n"
     ]
    }
   ],
   "source": [
    "model.compile(loss_fn = 'categorical_crossentropy', optimizer = ga, \\\n",
    "    metrics = ['accuracy', 'mean_square_error', 'categorical_crossentropy', 'precision', 'recall', 'f1'])"
   ]
  },
  {
   "cell_type": "code",
   "execution_count": 7,
   "metadata": {},
   "outputs": [
    {
     "name": "stdout",
     "output_type": "stream",
     "text": [
      "<class 'pandas.core.frame.DataFrame'>\n",
      "RangeIndex: 107 entries, 0 to 106\n",
      "Data columns (total 6 columns):\n",
      " #   Column  Non-Null Count  Dtype  \n",
      "---  ------  --------------  -----  \n",
      " 0   f1      107 non-null    float32\n",
      " 1   f2      107 non-null    float32\n",
      " 2   f3      107 non-null    float32\n",
      " 3   f4      107 non-null    float32\n",
      " 4   f5      107 non-null    float32\n",
      " 5   label   107 non-null    float32\n",
      "dtypes: float32(6)\n",
      "memory usage: 2.6 KB\n",
      "None\n",
      "<class 'pandas.core.frame.DataFrame'>\n",
      "RangeIndex: 108 entries, 0 to 107\n",
      "Data columns (total 6 columns):\n",
      " #   Column  Non-Null Count  Dtype  \n",
      "---  ------  --------------  -----  \n",
      " 0   f1      108 non-null    float32\n",
      " 1   f2      108 non-null    float32\n",
      " 2   f3      108 non-null    float32\n",
      " 3   f4      108 non-null    float32\n",
      " 4   f5      108 non-null    float32\n",
      " 5   label   108 non-null    float32\n",
      "dtypes: float32(6)\n",
      "memory usage: 2.7 KB\n",
      "None\n"
     ]
    }
   ],
   "source": [
    "# data loading\n",
    "DATA = os.path.join('c:\\\\Users\\\\tcumi\\\\github_repo\\\\neural-network\\\\', 'dataset')\n",
    "GROUP = 1\n",
    "COLUMNS = ['f1', 'f2', 'f3', 'f4', 'f5', 'label']\n",
    "N_CLASS = 3\n",
    "EPOCHS = 500\n",
    "train_dir, test_dir = \"..//dataset//training_data{}.txt\".format(GROUP), \"..//dataset//testing_data{}.txt\".format(GROUP)\n",
    "train, test = get_data(DATA, train_dir, COLUMNS), get_data(DATA, test_dir, COLUMNS)\n",
    "# shuffle\n",
    "train, test = train.sample(frac=1), test.sample(frac=1)\n",
    "x_train, y_train = train.drop('label', axis=1), train['label']\n",
    "x_test, y_test = test.drop('label', axis=1), test['label']"
   ]
  },
  {
   "cell_type": "code",
   "execution_count": 8,
   "metadata": {},
   "outputs": [],
   "source": [
    "# data scaling and encoding\n",
    "scaler = StandardScaler(['f1', 'f2', 'f3', 'f4', 'f5'])\n",
    "scaler.fit(x_train)\n",
    "x_train = scaler.transform(x_train)\n",
    "x_test = scaler.transform(x_test)\n",
    "y_train = one_hot_encoding(y_train, N_CLASS)\n",
    "y_test = one_hot_encoding(y_test, N_CLASS)"
   ]
  },
  {
   "cell_type": "code",
   "execution_count": 9,
   "metadata": {
    "scrolled": true,
    "tags": [
     "outputPrepend"
    ]
   },
   "outputs": [
    {
     "name": "stderr",
     "output_type": "stream",
     "text": [
      "C:\\Users\\tcumi\\Anaconda3\\envs\\py_3_6\\lib\\site-packages\\numpy\\core\\fromnumeric.py:87: VisibleDeprecationWarning: Creating an ndarray from ragged nested sequences (which is a list-or-tuple of lists-or-tuples-or ndarrays with different lengths or shapes) is deprecated. If you meant to do this, you must specify 'dtype=object' when creating the ndarray\n",
      "  return ufunc.reduce(obj, axis, dtype, out, **passkwargs)\n",
      "C:\\Users\\tcumi\\github_repo\\neural-network\\python\\ga.py:201: RuntimeWarning: overflow encountered in add\n",
      "  self.population.sort(key=lambda p: p.fitness + np.random.uniform(-shift, shift, 1), reverse = self.aim)\n",
      "C:\\Users\\tcumi\\Anaconda3\\envs\\py_3_6\\lib\\site-packages\\numpy\\core\\_asarray.py:136: VisibleDeprecationWarning: Creating an ndarray from ragged nested sequences (which is a list-or-tuple of lists-or-tuples-or ndarrays with different lengths or shapes) is deprecated. If you meant to do this, you must specify 'dtype=object' when creating the ndarray\n",
      "  return array(a, dtype, copy=False, order=order, subok=True)\n"
     ]
    },
    {
     "name": "stdout",
     "output_type": "stream",
     "text": [
      "Checkpoint 100, Accuracy: 0.9444444444444444, Loss: 0.307504795215748\n",
      "Checkpoint 200, Accuracy: 0.9506172839506173, Loss: 0.25243379451610426\n",
      "Checkpoint 300, Accuracy: 0.9629629629629629, Loss: 0.21797732953672055\n",
      "Checkpoint 400, Accuracy: 0.9629629629629629, Loss: 0.2076876958211263\n",
      "Checkpoint 500, Accuracy: 0.9691358024691358, Loss: 0.17816799658316154\n"
     ]
    }
   ],
   "source": [
    "# learning phase\n",
    "breakpoint = 100\n",
    "checkpoints = list()\n",
    "history = list()\n",
    "for century in range(0, EPOCHS, breakpoint):\n",
    "    sub_history = model.fit(x_train, y_train, breakpoint, verbose = 0)\n",
    "    score = model.evaluate(x_test, y_test, False, verbose = 0)\n",
    "    print('Checkpoint {}, Accuracy: {}, Loss: {}'.format(century+breakpoint, score['accuracy'], score[model.loss_fn]))\n",
    "    score['checkpoint'] = century + breakpoint\n",
    "    checkpoints.append(score)\n",
    "    history.extend(sub_history)\n",
    "    itr = century + breakpoint\n",
    "    '''\n",
    "    model.optimizer.rr = model.optimizer.rr * 0.9\n",
    "    model.optimizer.gf = model.optimizer.gf * 0.9\n",
    "    model.optimizer.crossover_rate = model.optimizer.crossover_rate * 0.9\n",
    "    model.optimizer.mutation_rate = model.optimizer.mutation_rate * 1.1\n",
    "    '''\n",
    "    model.optimizer.rr = model.optimizer.radioactive_rating[1] - (model.optimizer.radioactive_rating[1] - model.optimizer.radioactive_rating[0]) / EPOCHS * (EPOCHS - itr)\n",
    "    model.optimizer.gf = model.optimizer.grow_factor[1] - (model.optimizer.grow_factor[1] - model.optimizer.grow_factor[0]) / EPOCHS * (EPOCHS - itr)\n",
    "    model.optimizer.crossover_rate = model.optimizer.x_rate[1] - (model.optimizer.x_rate[1] - model.optimizer.x_rate[0]) / EPOCHS * (EPOCHS - itr)\n",
    "    model.optimizer.mutation_rate = model.optimizer.m_rate[0] + (model.optimizer.m_rate[1] - model.optimizer.m_rate[0]) / EPOCHS * (EPOCHS - itr)\n",
    "    "
   ]
  },
  {
   "cell_type": "code",
   "execution_count": 10,
   "metadata": {},
   "outputs": [],
   "source": [
    "import matplotlib.pyplot as plt\n",
    "\n",
    "def draw_plot(x, y_list, x_label=None, y_label=None, legend=None, title=None):\n",
    "    fig, ax = plt.subplots(figsize=(12,5))\n",
    "    for xi, yi in zip(x, y_list):\n",
    "        ax.plot(xi, yi)\n",
    "    if x_label is not None and y_label is not None:\n",
    "        ax.set(xlabel=x_label, ylabel=y_label, title='{} VS {}'.format(x_label, y_label))\n",
    "    if legend is not None:\n",
    "        ax.legend(legend)\n",
    "    ax.grid()\n",
    "    plt.show()"
   ]
  },
  {
   "cell_type": "code",
   "execution_count": 11,
   "metadata": {},
   "outputs": [
    {
     "name": "stdout",
     "output_type": "stream",
     "text": [
      "[1. 0. 0.] <-> [0.9275672  0.01535975 0.05707305]\n",
      "[1. 0. 0.] <-> [0.9538653  0.01283379 0.03330084]\n",
      "[0. 0. 1.] <-> [0.04866007 0.00192279 0.9494171 ]\n",
      "[0. 1. 0.] <-> [0.07347769 0.90852654 0.01799584]\n",
      "[1. 0. 0.] <-> [0.936425  0.0285424 0.0350327]\n",
      "[1. 0. 0.] <-> [0.92625684 0.02110821 0.05263493]\n",
      "[1. 0. 0.] <-> [0.9226106  0.04988822 0.02750123]\n",
      "[1. 0. 0.] <-> [0.92688155 0.05042148 0.02269697]\n",
      "[1. 0. 0.] <-> [0.9344734  0.0242031  0.04132348]\n",
      "[0. 1. 0.] <-> [0.6515042  0.31491795 0.03357786]\n",
      "[1. 0. 0.] <-> [0.8728652  0.02509797 0.10203686]\n",
      "[1. 0. 0.] <-> [0.9189284  0.01790826 0.06316336]\n",
      "[0. 1. 0.] <-> [0.05846292 0.9266137  0.01492334]\n",
      "[1. 0. 0.] <-> [0.9360751  0.01466249 0.04926243]\n",
      "[0. 0. 1.] <-> [0.05586074 0.00253943 0.9415998 ]\n",
      "[0. 1. 0.] <-> [0.06021206 0.9249773  0.01481068]\n",
      "[1. 0. 0.] <-> [0.947637   0.02486374 0.02749921]\n",
      "[1. 0. 0.] <-> [0.93224585 0.03545376 0.0323004 ]\n",
      "[1. 0. 0.] <-> [0.89249974 0.01572927 0.09177093]\n",
      "[1. 0. 0.] <-> [0.9194973  0.0309524  0.04955025]\n",
      "[0. 1. 0.] <-> [0.22122818 0.74530166 0.03347015]\n",
      "[0. 1. 0.] <-> [0.583671   0.36159948 0.05472959]\n",
      "[0. 1. 0.] <-> [0.14201313 0.8377456  0.02024123]\n",
      "[1. 0. 0.] <-> [0.9015613  0.02912187 0.0693168 ]\n",
      "[1. 0. 0.] <-> [0.9469209  0.0286919  0.02438723]\n",
      "[0. 1. 0.] <-> [0.0953766  0.8826428  0.02198064]\n",
      "[0. 0. 1.] <-> [0.08531817 0.00160348 0.91307837]\n",
      "[1. 0. 0.] <-> [0.8897334  0.06502358 0.04524307]\n",
      "[0. 0. 1.] <-> [0.36342755 0.01307627 0.62349623]\n",
      "[1. 0. 0.] <-> [0.9108741  0.04129671 0.04782913]\n",
      "[1. 0. 0.] <-> [0.87908006 0.01636447 0.10455544]\n",
      "[0. 0. 1.] <-> [0.08271306 0.00130515 0.91598177]\n",
      "[1. 0. 0.] <-> [0.8785635  0.02357247 0.09786406]\n",
      "[1. 0. 0.] <-> [0.9268399  0.02204534 0.05111483]\n",
      "[1. 0. 0.] <-> [0.9535695  0.01763903 0.02879145]\n",
      "[1. 0. 0.] <-> [0.9326859  0.0154178  0.05189624]\n",
      "[0. 1. 0.] <-> [0.3150516  0.65143543 0.03351301]\n",
      "[1. 0. 0.] <-> [0.84402037 0.11429597 0.04168364]\n",
      "[1. 0. 0.] <-> [0.860531   0.10499722 0.03447193]\n",
      "[0. 0. 1.] <-> [0.06536998 0.00161639 0.9330136 ]\n",
      "[1. 0. 0.] <-> [0.9489879  0.01447224 0.03653978]\n",
      "[0. 1. 0.] <-> [0.26829323 0.6853853  0.0463215 ]\n",
      "[0. 1. 0.] <-> [0.5463573  0.42338455 0.03025814]\n",
      "[1. 0. 0.] <-> [0.82278985 0.02970732 0.1475028 ]\n",
      "[1. 0. 0.] <-> [0.6356112  0.02934847 0.33504045]\n",
      "[1. 0. 0.] <-> [0.8870194  0.08524363 0.02773701]\n",
      "[0. 0. 1.] <-> [0.10158346 0.00236835 0.8960482 ]\n",
      "[1. 0. 0.] <-> [0.87659204 0.01628429 0.10712363]\n",
      "[1. 0. 0.] <-> [0.46164885 0.01858271 0.5197684 ]\n",
      "[0. 0. 1.] <-> [0.17684665 0.00404601 0.81910735]\n",
      "[0. 0. 1.] <-> [0.75135165 0.01386696 0.23478149]\n",
      "[1. 0. 0.] <-> [0.8624951  0.01974859 0.11775629]\n",
      "[1. 0. 0.] <-> [0.94425315 0.01886061 0.03688626]\n",
      "[1. 0. 0.] <-> [0.693174   0.26967233 0.03715365]\n",
      "[1. 0. 0.] <-> [0.9181365  0.05700567 0.02485778]\n",
      "[1. 0. 0.] <-> [0.9235457  0.03987077 0.03658354]\n",
      "[1. 0. 0.] <-> [0.90019333 0.06201044 0.03779629]\n",
      "[1. 0. 0.] <-> [0.92502046 0.01899427 0.05598531]\n",
      "[1. 0. 0.] <-> [0.918816   0.01421765 0.06696639]\n",
      "[1. 0. 0.] <-> [0.9438578  0.02948052 0.02666174]\n",
      "[1. 0. 0.] <-> [0.94340336 0.02483222 0.03176439]\n",
      "[1. 0. 0.] <-> [0.9469763  0.02586274 0.0271609 ]\n",
      "[1. 0. 0.] <-> [0.9076605  0.0323443  0.05999523]\n",
      "[1. 0. 0.] <-> [0.66265863 0.02469415 0.31264722]\n",
      "[1. 0. 0.] <-> [0.9410275  0.02255015 0.0364223 ]\n",
      "[1. 0. 0.] <-> [0.77801263 0.17983139 0.04215594]\n",
      "[1. 0. 0.] <-> [0.932237   0.03928751 0.02847551]\n",
      "[1. 0. 0.] <-> [0.93478256 0.02894081 0.03627658]\n",
      "[0. 0. 1.] <-> [0.07387889 0.00151536 0.9246058 ]\n",
      "[1. 0. 0.] <-> [0.91739434 0.02547589 0.05712982]\n",
      "[1. 0. 0.] <-> [0.91391414 0.02424097 0.06184492]\n",
      "[1. 0. 0.] <-> [0.9160692  0.01569645 0.06823435]\n",
      "[1. 0. 0.] <-> [0.8785041  0.02514822 0.0963477 ]\n",
      "[1. 0. 0.] <-> [0.9358411  0.03320403 0.03095489]\n",
      "[1. 0. 0.] <-> [0.95167965 0.02387041 0.02444993]\n",
      "[1. 0. 0.] <-> [0.91706526 0.04700788 0.03592681]\n",
      "[1. 0. 0.] <-> [0.695589   0.27007258 0.03433837]\n",
      "[1. 0. 0.] <-> [0.95191723 0.02085377 0.02722902]\n",
      "[1. 0. 0.] <-> [0.937966   0.03097395 0.03105997]\n",
      "[1. 0. 0.] <-> [0.878373   0.04621603 0.07541097]\n",
      "[1. 0. 0.] <-> [0.78772444 0.02704041 0.18523516]\n",
      "[0. 1. 0.] <-> [0.29331377 0.68380755 0.02287869]\n",
      "[1. 0. 0.] <-> [0.9532416  0.0173026  0.02945585]\n",
      "[1. 0. 0.] <-> [0.9438371  0.0258843  0.03027857]\n",
      "[1. 0. 0.] <-> [0.90280205 0.02258698 0.07461095]\n",
      "[0. 0. 1.] <-> [0.07806168 0.00146608 0.92047226]\n",
      "[1. 0. 0.] <-> [0.9324276  0.04379678 0.02377558]\n",
      "[0. 1. 0.] <-> [0.15829438 0.8133291  0.0283765 ]\n",
      "[1. 0. 0.] <-> [0.8463177  0.1237629  0.02991937]\n",
      "[0. 1. 0.] <-> [0.4454237  0.524749   0.02982736]\n",
      "[1. 0. 0.] <-> [0.9332891  0.02031763 0.04639327]\n",
      "[1. 0. 0.] <-> [0.84109163 0.1261464  0.03276195]\n",
      "[1. 0. 0.] <-> [0.89180094 0.02334642 0.08485264]\n",
      "[1. 0. 0.] <-> [0.93404496 0.03940842 0.02654668]\n",
      "[0. 0. 1.] <-> [0.3845533  0.02199808 0.59344864]\n",
      "[1. 0. 0.] <-> [0.9232163  0.03458816 0.04219555]\n",
      "[1. 0. 0.] <-> [0.9341762  0.04425103 0.02157286]\n",
      "[1. 0. 0.] <-> [0.89894456 0.06704575 0.03400974]\n",
      "[1. 0. 0.] <-> [0.7897883  0.01743428 0.19277741]\n",
      "[1. 0. 0.] <-> [0.74152666 0.04237693 0.2160964 ]\n",
      "[1. 0. 0.] <-> [0.8969044  0.0628224  0.04027315]\n",
      "[1. 0. 0.] <-> [0.8886967  0.04384241 0.06746098]\n",
      "[0. 1. 0.] <-> [0.06028749 0.92455494 0.01515756]\n",
      "[1. 0. 0.] <-> [0.84443915 0.02471714 0.13084365]\n",
      "[1. 0. 0.] <-> [0.8755045  0.01470437 0.10979114]\n",
      "[1. 0. 0.] <-> [0.9201394  0.04105692 0.0388038 ]\n",
      "[0. 0. 1.] <-> [0.0909107  0.00255291 0.90653634]\n",
      "[1. 0. 0.] <-> [0.9331536  0.02659233 0.0402541 ]\n",
      "{'accuracy': 0.9691358024691358, 'mean_square_error': 0.07575040688738881, 'categorical_crossentropy': 0.17816799658316154, 'precision': 0.9537037037037037, 'recall': 0.9537037037037037, 'f1': 0.9537037037037037, 'essential_metrics': {0: {'tp_hit': 79, 'fp_hit': 4, 'tn_hit': 24, 'fn_hit': 1}, 1: {'tp_hit': 12, 'fp_hit': 0, 'tn_hit': 93, 'fn_hit': 3}, 2: {'tp_hit': 12, 'fp_hit': 1, 'tn_hit': 94, 'fn_hit': 1}}}\n"
     ]
    }
   ],
   "source": [
    "# recall phase\n",
    "score = model.evaluate(x_test, y_test, False)\n",
    "print(score)"
   ]
  },
  {
   "cell_type": "code",
   "execution_count": 12,
   "metadata": {},
   "outputs": [],
   "source": [
    "# Testing Performance"
   ]
  },
  {
   "cell_type": "code",
   "execution_count": 13,
   "metadata": {},
   "outputs": [
    {
     "name": "stderr",
     "output_type": "stream",
     "text": [
      "C:\\Users\\tcumi\\Anaconda3\\envs\\py_3_6\\lib\\site-packages\\numpy\\core\\_asarray.py:136: VisibleDeprecationWarning: Creating an ndarray from ragged nested sequences (which is a list-or-tuple of lists-or-tuples-or ndarrays with different lengths or shapes) is deprecated. If you meant to do this, you must specify 'dtype=object' when creating the ndarray\n",
      "  return array(a, dtype, copy=False, order=order, subok=True)\n"
     ]
    },
    {
     "data": {
      "image/png": "[encoded data removed]",
      "text/plain": [
       "<Figure size 864x360 with 1 Axes>"
      ]
     },
     "metadata": {
      "needs_background": "light"
     },
     "output_type": "display_data"
    },
    {
     "data": {
      "image/png": "[encoded data removed]",
      "text/plain": [
       "<Figure size 864x360 with 1 Axes>"
      ]
     },
     "metadata": {
      "needs_background": "light"
     },
     "output_type": "display_data"
    }
   ],
   "source": [
    "draw_plot(x = [[i for i in range(len(history))], [(i+1)*breakpoint for i in range(len(checkpoints))]], y_list = [history, [ ckp[model.loss_fn] for ckp in checkpoints ]], x_label = 'Epochs', \\\n",
    "    y_label = model.loss_fn, legend=['train', 'test'])\n",
    "acc = [ ckp['accuracy'] for ckp in checkpoints ]\n",
    "draw_plot(x = [[(i+1)*breakpoint for i in range(len(checkpoints))]], y_list = [acc], x_label = 'Checkpoints', \\\n",
    "    y_label = 'accuracy')"
   ]
  },
  {
   "cell_type": "code",
   "execution_count": 14,
   "metadata": {
    "scrolled": false
   },
   "outputs": [
    {
     "name": "stdout",
     "output_type": "stream",
     "text": [
      "{'accuracy': 0.9444444444444444, 'mean_square_error': 0.1481672651438313, 'categorical_crossentropy': 0.307504795215748, 'precision': 0.9166666666666666, 'recall': 0.9166666666666666, 'f1': 0.9166666666666666, 'essential_metrics': {0: {'tp_hit': 80, 'fp_hit': 9, 'tn_hit': 19, 'fn_hit': 0}, 1: {'tp_hit': 7, 'fp_hit': 0, 'tn_hit': 93, 'fn_hit': 8}, 2: {'tp_hit': 12, 'fp_hit': 0, 'tn_hit': 95, 'fn_hit': 1}}, 'checkpoint': 100} \n",
      "\n",
      "\n",
      "{'accuracy': 0.9506172839506173, 'mean_square_error': 0.11849845528096649, 'categorical_crossentropy': 0.25243379451610426, 'precision': 0.9259259259259259, 'recall': 0.9259259259259259, 'f1': 0.9259259259259259, 'essential_metrics': {0: {'tp_hit': 80, 'fp_hit': 8, 'tn_hit': 20, 'fn_hit': 0}, 1: {'tp_hit': 8, 'fp_hit': 0, 'tn_hit': 93, 'fn_hit': 7}, 2: {'tp_hit': 12, 'fp_hit': 0, 'tn_hit': 95, 'fn_hit': 1}}, 'checkpoint': 200} \n",
      "\n",
      "\n",
      "{'accuracy': 0.9629629629629629, 'mean_square_error': 0.09806487842183012, 'categorical_crossentropy': 0.21797732953672055, 'precision': 0.9444444444444444, 'recall': 0.9444444444444444, 'f1': 0.9444444444444444, 'essential_metrics': {0: {'tp_hit': 80, 'fp_hit': 6, 'tn_hit': 22, 'fn_hit': 0}, 1: {'tp_hit': 10, 'fp_hit': 0, 'tn_hit': 93, 'fn_hit': 5}, 2: {'tp_hit': 12, 'fp_hit': 0, 'tn_hit': 95, 'fn_hit': 1}}, 'checkpoint': 300} \n",
      "\n",
      "\n",
      "{'accuracy': 0.9629629629629629, 'mean_square_error': 0.09200297546851707, 'categorical_crossentropy': 0.2076876958211263, 'precision': 0.9444444444444444, 'recall': 0.9444444444444444, 'f1': 0.9444444444444444, 'essential_metrics': {0: {'tp_hit': 80, 'fp_hit': 6, 'tn_hit': 22, 'fn_hit': 0}, 1: {'tp_hit': 10, 'fp_hit': 0, 'tn_hit': 93, 'fn_hit': 5}, 2: {'tp_hit': 12, 'fp_hit': 0, 'tn_hit': 95, 'fn_hit': 1}}, 'checkpoint': 400} \n",
      "\n",
      "\n",
      "{'accuracy': 0.9691358024691358, 'mean_square_error': 0.07575040688738881, 'categorical_crossentropy': 0.17816799658316154, 'precision': 0.9537037037037037, 'recall': 0.9537037037037037, 'f1': 0.9537037037037037, 'essential_metrics': {0: {'tp_hit': 79, 'fp_hit': 4, 'tn_hit': 24, 'fn_hit': 1}, 1: {'tp_hit': 12, 'fp_hit': 0, 'tn_hit': 93, 'fn_hit': 3}, 2: {'tp_hit': 12, 'fp_hit': 1, 'tn_hit': 94, 'fn_hit': 1}}, 'checkpoint': 500} \n",
      "\n",
      "\n"
     ]
    }
   ],
   "source": [
    "for checkpoint in checkpoints:\n",
    "    print(checkpoint, '\\n\\n')"
   ]
  },
  {
   "cell_type": "code",
   "execution_count": 15,
   "metadata": {},
   "outputs": [
    {
     "name": "stdout",
     "output_type": "stream",
     "text": [
      "Layer 1\n",
      "Neuron 0: weights:\n",
      "[-8.9477804e-03 -2.0640850e+00 -1.7245072e-04  1.4637449e+00\n",
      "  1.5307384e+00]\n",
      " bias: -1.2357453107833862\n",
      "\n",
      "Neuron 1: weights:\n",
      "[ 1.1802981  -2.7765436  -0.64176816 -0.5590185   0.07670338]\n",
      " bias: 1.0544968843460083\n",
      "\n",
      "Neuron 2: weights:\n",
      "[-0.31500682  0.24282512  0.32051715 -1.3273973  -0.1338097 ]\n",
      " bias: 0.5546443462371826\n",
      "\n",
      "Neuron 3: weights:\n",
      "[-0.01509754 -0.6507154   2.3595      0.12993635  0.13756512]\n",
      " bias: -0.904215395450592\n",
      "\n",
      "$\n",
      "Layer 2\n",
      "Neuron 0: weights:\n",
      "[-2.406538    2.4853258   0.00614726 -1.5821496 ]\n",
      " bias: 0.08814847469329834\n",
      "\n",
      "Neuron 1: weights:\n",
      "[-1.2175715  -3.          1.1754061   0.12001698]\n",
      " bias: 0.014248485676944256\n",
      "\n",
      "Neuron 2: weights:\n",
      "[ 2.7097173   0.02047898 -2.7258277   0.07731175]\n",
      " bias: -0.3610001504421234\n",
      "\n",
      "$\n",
      "\n"
     ]
    }
   ],
   "source": [
    "print(model)"
   ]
  }
 ],
 "metadata": {
  "kernelspec": {
   "display_name": "Python 3",
   "language": "python",
   "name": "python3"
  },
  "language_info": {
   "codemirror_mode": {
    "name": "ipython",
    "version": 3
   },
   "file_extension": ".py",
   "mimetype": "text/x-python",
   "name": "python",
   "nbconvert_exporter": "python",
   "pygments_lexer": "ipython3",
   "version": "3.6.10"
  }
 },
 "nbformat": 4,
 "nbformat_minor": 2
}
