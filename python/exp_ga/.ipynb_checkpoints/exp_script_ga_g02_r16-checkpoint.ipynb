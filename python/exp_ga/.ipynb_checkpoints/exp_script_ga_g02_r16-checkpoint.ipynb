{
 "cells": [
  {
   "cell_type": "code",
   "execution_count": 1,
   "metadata": {},
   "outputs": [],
   "source": [
    "# two"
   ]
  },
  {
   "cell_type": "code",
   "execution_count": 2,
   "metadata": {},
   "outputs": [],
   "source": [
    "# dependency\n",
    "import numpy as np\n",
    "import pandas as pd\n",
    "import copy\n",
    "import math\n",
    "import sys\n",
    "import os\n",
    "from activations import relu, leaky_relu, sigmoid, tanh, softmax, d_sigmoid, d_relu\n",
    "from initializers import glorot_uniform, random_normal, random_uniform\n",
    "from regularizers import l1_regularizer, l2_regularizer\n",
    "from utility import trim_tail, multiply, subtract, get_nparams, one_hot_encoding, get_data\n",
    "from metrics import MSE, CCE, ACC, PRECISION, RECALL, essential_metrics, wondering_penalty, close_gap_penalty\n",
    "from pso import PSO\n",
    "from ga import GA\n",
    "from nn import Network\n",
    "from layer import DenseLayer\n",
    "from scalers import MinMaxScaler, StandardScaler"
   ]
  },
  {
   "cell_type": "code",
   "execution_count": 3,
   "metadata": {},
   "outputs": [],
   "source": [
    "# reference\n",
    "metrics_fn_dict = dict()\n",
    "metrics_fn_dict['accuracy'] = ACC\n",
    "metrics_fn_dict['categorical_crossentropy'] = CCE\n",
    "metrics_fn_dict['mean_square_error'] = MSE\n",
    "metrics_fn_dict['precision'] = PRECISION\n",
    "metrics_fn_dict['recall'] = RECALL\n",
    "metrics_fn_dict['essential_metrics'] = essential_metrics"
   ]
  },
  {
   "cell_type": "code",
   "execution_count": 4,
   "metadata": {},
   "outputs": [],
   "source": [
    "# model\n",
    "model = Network(5, lr = None)\n",
    "model.add_layer(DenseLayer(1, 4, True, afn=sigmoid, dafn=None, rfn=None))\n",
    "model.add_layer(DenseLayer(2, 3, True, afn=softmax, dafn=None, rfn=None))"
   ]
  },
  {
   "cell_type": "code",
   "execution_count": 5,
   "metadata": {},
   "outputs": [],
   "source": [
    "# optimizer\n",
    "ga = GA(\n",
    "    dict(\n",
    "        m = 50,\n",
    "        x_rate = [0.5, 1.0],\n",
    "        m_rate = [0.5, 1.0],\n",
    "        weight_constraint = [-3.,3.],\n",
    "        radioactive_rating = [0.1, 0.5],\n",
    "        grow_factor = [0.1, 0.5],\n",
    "        scale_hyperparameter = False,\n",
    "        regularizer = None))"
   ]
  },
  {
   "cell_type": "code",
   "execution_count": 6,
   "metadata": {},
   "outputs": [
    {
     "name": "stdout",
     "output_type": "stream",
     "text": [
      "building layer 1 with 5\n",
      "24\n",
      "building layer 2 with 4\n",
      "15\n"
     ]
    }
   ],
   "source": [
    "model.compile(loss_fn = 'categorical_crossentropy', optimizer = ga, \\\n",
    "    metrics = ['accuracy', 'mean_square_error', 'categorical_crossentropy', 'precision', 'recall', 'f1'])"
   ]
  },
  {
   "cell_type": "code",
   "execution_count": 7,
   "metadata": {},
   "outputs": [
    {
     "name": "stdout",
     "output_type": "stream",
     "text": [
      "<class 'pandas.core.frame.DataFrame'>\n",
      "RangeIndex: 107 entries, 0 to 106\n",
      "Data columns (total 6 columns):\n",
      " #   Column  Non-Null Count  Dtype  \n",
      "---  ------  --------------  -----  \n",
      " 0   f1      107 non-null    float32\n",
      " 1   f2      107 non-null    float32\n",
      " 2   f3      107 non-null    float32\n",
      " 3   f4      107 non-null    float32\n",
      " 4   f5      107 non-null    float32\n",
      " 5   label   107 non-null    float32\n",
      "dtypes: float32(6)\n",
      "memory usage: 2.6 KB\n",
      "None\n",
      "<class 'pandas.core.frame.DataFrame'>\n",
      "RangeIndex: 108 entries, 0 to 107\n",
      "Data columns (total 6 columns):\n",
      " #   Column  Non-Null Count  Dtype  \n",
      "---  ------  --------------  -----  \n",
      " 0   f1      108 non-null    float32\n",
      " 1   f2      108 non-null    float32\n",
      " 2   f3      108 non-null    float32\n",
      " 3   f4      108 non-null    float32\n",
      " 4   f5      108 non-null    float32\n",
      " 5   label   108 non-null    float32\n",
      "dtypes: float32(6)\n",
      "memory usage: 2.7 KB\n",
      "None\n"
     ]
    }
   ],
   "source": [
    "# data loading\n",
    "DATA = os.path.join('c:\\\\Users\\\\tcumi\\\\github_repo\\\\neural-network\\\\', 'dataset')\n",
    "GROUP = 2\n",
    "COLUMNS = ['f1', 'f2', 'f3', 'f4', 'f5', 'label']\n",
    "N_CLASS = 3\n",
    "EPOCHS = 500\n",
    "train_dir, test_dir = \"..//dataset//training_data{}.txt\".format(GROUP), \"..//dataset//testing_data{}.txt\".format(GROUP)\n",
    "train, test = get_data(DATA, train_dir, COLUMNS), get_data(DATA, test_dir, COLUMNS)\n",
    "# shuffle\n",
    "train, test = train.sample(frac=1), test.sample(frac=1)\n",
    "x_train, y_train = train.drop('label', axis=1), train['label']\n",
    "x_test, y_test = test.drop('label', axis=1), test['label']"
   ]
  },
  {
   "cell_type": "code",
   "execution_count": 8,
   "metadata": {},
   "outputs": [],
   "source": [
    "# data scaling and encoding\n",
    "scaler = StandardScaler(['f1', 'f2', 'f3', 'f4', 'f5'])\n",
    "scaler.fit(x_train)\n",
    "x_train = scaler.transform(x_train)\n",
    "x_test = scaler.transform(x_test)\n",
    "y_train = one_hot_encoding(y_train, N_CLASS)\n",
    "y_test = one_hot_encoding(y_test, N_CLASS)"
   ]
  },
  {
   "cell_type": "code",
   "execution_count": 9,
   "metadata": {
    "scrolled": true,
    "tags": [
     "outputPrepend"
    ]
   },
   "outputs": [
    {
     "name": "stderr",
     "output_type": "stream",
     "text": [
      "C:\\Users\\tcumi\\github_repo\\neural-network\\python\\ga.py:201: RuntimeWarning: overflow encountered in add\n",
      "  self.population.sort(key=lambda p: p.fitness + np.random.uniform(-shift, shift, 1), reverse = self.aim)\n"
     ]
    },
    {
     "name": "stdout",
     "output_type": "stream",
     "text": [
      "Checkpoint 100, Accuracy: 0.9567901234567902, Loss: 0.23771091743751807\n",
      "Checkpoint 200, Accuracy: 0.9629629629629629, Loss: 0.20603642640290437\n",
      "Checkpoint 300, Accuracy: 0.9629629629629629, Loss: 0.17471793845847802\n",
      "Checkpoint 400, Accuracy: 0.9629629629629629, Loss: 0.14948371604636865\n",
      "Checkpoint 500, Accuracy: 0.9691358024691358, Loss: 0.1285233497619629\n"
     ]
    }
   ],
   "source": [
    "# learning phase\n",
    "breakpoint = 100\n",
    "checkpoints = list()\n",
    "history = list()\n",
    "for century in range(0, EPOCHS, breakpoint):\n",
    "    sub_history = model.fit(x_train, y_train, breakpoint, verbose = 0)\n",
    "    score = model.evaluate(x_test, y_test, False, verbose = 0)\n",
    "    print('Checkpoint {}, Accuracy: {}, Loss: {}'.format(century+breakpoint, score['accuracy'], score[model.loss_fn]))\n",
    "    score['checkpoint'] = century + breakpoint\n",
    "    checkpoints.append(score)\n",
    "    history.extend(sub_history)\n",
    "    itr = century + breakpoint\n",
    "\n",
    "    model.optimizer.rr = model.optimizer.radioactive_rating[1] - (model.optimizer.radioactive_rating[1] - model.optimizer.radioactive_rating[0]) / EPOCHS * (EPOCHS - itr)\n",
    "    model.optimizer.gf = model.optimizer.grow_factor[1] - (model.optimizer.grow_factor[1] - model.optimizer.grow_factor[0]) / EPOCHS * (EPOCHS - itr)\n",
    "    model.optimizer.crossover_rate = model.optimizer.x_rate[1] - (model.optimizer.x_rate[1] - model.optimizer.x_rate[0]) / EPOCHS * (EPOCHS - itr)\n",
    "    model.optimizer.mutation_rate = model.optimizer.m_rate[0] + (model.optimizer.m_rate[1] - model.optimizer.m_rate[0]) / EPOCHS * (EPOCHS - itr)\n",
    "    "
   ]
  },
  {
   "cell_type": "code",
   "execution_count": 10,
   "metadata": {},
   "outputs": [],
   "source": [
    "import matplotlib.pyplot as plt\n",
    "\n",
    "def draw_plot(x, y_list, x_label=None, y_label=None, legend=None, title=None):\n",
    "    fig, ax = plt.subplots(figsize=(12,5))\n",
    "    for xi, yi in zip(x, y_list):\n",
    "        ax.plot(xi, yi)\n",
    "    if x_label is not None and y_label is not None:\n",
    "        ax.set(xlabel=x_label, ylabel=y_label, title='{} VS {}'.format(x_label, y_label))\n",
    "    if legend is not None:\n",
    "        ax.legend(legend)\n",
    "    ax.grid()\n",
    "    plt.show()"
   ]
  },
  {
   "cell_type": "code",
   "execution_count": 11,
   "metadata": {},
   "outputs": [
    {
     "name": "stdout",
     "output_type": "stream",
     "text": [
      "[1. 0. 0.] <-> [0.98713624 0.00650748 0.00635621]\n",
      "[1. 0. 0.] <-> [0.9515589  0.00350563 0.04493554]\n",
      "[1. 0. 0.] <-> [0.97602874 0.00202676 0.02194448]\n",
      "[1. 0. 0.] <-> [0.9711773  0.02291689 0.00590577]\n",
      "[1. 0. 0.] <-> [0.98817295 0.00569583 0.00613122]\n",
      "[1. 0. 0.] <-> [0.98951656 0.00194393 0.0085394 ]\n",
      "[0. 0. 1.] <-> [8.4014416e-02 3.0922174e-04 9.1567636e-01]\n",
      "[1. 0. 0.] <-> [0.5834733  0.00089192 0.41563475]\n",
      "[1. 0. 0.] <-> [0.98662776 0.00572497 0.00764733]\n",
      "[0. 1. 0.] <-> [0.27046993 0.72771215 0.00181798]\n",
      "[1. 0. 0.] <-> [0.9724249  0.02030599 0.00726908]\n",
      "[1. 0. 0.] <-> [0.96581864 0.00120741 0.03297398]\n",
      "[0. 0. 1.] <-> [6.6230498e-02 2.3571250e-04 9.3353385e-01]\n",
      "[1. 0. 0.] <-> [0.79274917 0.00426553 0.20298529]\n",
      "[1. 0. 0.] <-> [0.9850786  0.00272672 0.01219474]\n",
      "[1. 0. 0.] <-> [0.98660916 0.00509562 0.00829523]\n",
      "[1. 0. 0.] <-> [0.9559067  0.00205899 0.04203423]\n",
      "[1. 0. 0.] <-> [0.9895633  0.00264121 0.00779548]\n",
      "[1. 0. 0.] <-> [0.9727391  0.01121786 0.01604315]\n",
      "[1. 0. 0.] <-> [0.907421   0.08551962 0.00705937]\n",
      "[0. 1. 0.] <-> [0.2395467  0.7474726  0.01298071]\n",
      "[0. 0. 1.] <-> [0.6405224  0.00316855 0.35630906]\n",
      "[1. 0. 0.] <-> [0.97173405 0.00155944 0.02670651]\n",
      "[1. 0. 0.] <-> [0.8422748  0.00291384 0.15481137]\n",
      "[0. 0. 1.] <-> [6.3669555e-02 2.2746358e-04 9.3610299e-01]\n",
      "[1. 0. 0.] <-> [0.99001795 0.00185042 0.00813163]\n",
      "[0. 1. 0.] <-> [0.05754468 0.93655103 0.00590431]\n",
      "[1. 0. 0.] <-> [0.9837356  0.00156438 0.01469996]\n",
      "[1. 0. 0.] <-> [0.9768857  0.00418386 0.01893048]\n",
      "[1. 0. 0.] <-> [0.9842403  0.00770091 0.00805882]\n",
      "[1. 0. 0.] <-> [0.9814492 0.0022148 0.0163361]\n",
      "[1. 0. 0.] <-> [0.98711383 0.00400701 0.00887917]\n",
      "[0. 1. 0.] <-> [0.6301929  0.35764784 0.01215929]\n",
      "[1. 0. 0.] <-> [0.97695994 0.00243548 0.02060461]\n",
      "[0. 1. 0.] <-> [3.0376371e-02 9.6934980e-01 2.7376844e-04]\n",
      "[1. 0. 0.] <-> [0.9875135  0.00250819 0.0099784 ]\n",
      "[1. 0. 0.] <-> [0.98703116 0.00468303 0.00828583]\n",
      "[1. 0. 0.] <-> [0.94628143 0.00163925 0.0520793 ]\n",
      "[0. 1. 0.] <-> [3.2508079e-02 9.6706355e-01 4.2835023e-04]\n",
      "[1. 0. 0.] <-> [0.9670871  0.00125144 0.03166155]\n",
      "[1. 0. 0.] <-> [0.8934472  0.00157526 0.10497755]\n",
      "[0. 0. 1.] <-> [6.4263113e-02 2.0277088e-04 9.3553412e-01]\n",
      "[0. 0. 1.] <-> [6.5041237e-02 2.0456921e-04 9.3475425e-01]\n",
      "[1. 0. 0.] <-> [0.9863223  0.00258806 0.01108964]\n",
      "[1. 0. 0.] <-> [0.9831986  0.00751304 0.00928841]\n",
      "[1. 0. 0.] <-> [0.982314  0.0017461 0.0159399]\n",
      "[0. 0. 1.] <-> [6.4843573e-02 2.0105424e-04 9.3495530e-01]\n",
      "[1. 0. 0.] <-> [0.76937544 0.00196817 0.22865644]\n",
      "[1. 0. 0.] <-> [0.93908364 0.05592649 0.00498983]\n",
      "[1. 0. 0.] <-> [0.9682916  0.00181445 0.02989398]\n",
      "[1. 0. 0.] <-> [0.96902007 0.00211347 0.02886644]\n",
      "[0. 1. 0.] <-> [0.55831796 0.43823224 0.00344977]\n",
      "[1. 0. 0.] <-> [0.98674786 0.00320285 0.01004928]\n",
      "[1. 0. 0.] <-> [0.9659896  0.00226007 0.03175042]\n",
      "[1. 0. 0.] <-> [0.91539365 0.07960487 0.00500143]\n",
      "[0. 0. 1.] <-> [0.08848781 0.00629273 0.90521944]\n",
      "[1. 0. 0.] <-> [0.9796866  0.00281529 0.01749813]\n",
      "[1. 0. 0.] <-> [0.97926486 0.01100994 0.00972511]\n",
      "[1. 0. 0.] <-> [0.9883195  0.00321447 0.00846593]\n",
      "[1. 0. 0.] <-> [0.97271496 0.02032405 0.006961  ]\n",
      "[1. 0. 0.] <-> [0.94645375 0.00280859 0.05073767]\n",
      "[1. 0. 0.] <-> [0.9704615  0.00219704 0.02734147]\n",
      "[1. 0. 0.] <-> [0.9251803  0.00255806 0.07226159]\n",
      "[0. 1. 0.] <-> [5.7474643e-02 9.4210905e-01 4.1631807e-04]\n",
      "[1. 0. 0.] <-> [0.9649321  0.00231797 0.03275003]\n",
      "[1. 0. 0.] <-> [0.5819445  0.00126532 0.41679016]\n",
      "[1. 0. 0.] <-> [0.9875958  0.00425197 0.0081522 ]\n",
      "[1. 0. 0.] <-> [0.98294985 0.0039369  0.01311329]\n",
      "[1. 0. 0.] <-> [0.9754613  0.00246097 0.02207776]\n",
      "[0. 0. 1.] <-> [6.4480364e-02 1.9855678e-04 9.3532109e-01]\n",
      "[0. 1. 0.] <-> [8.708262e-02 9.121860e-01 7.312295e-04]\n",
      "[1. 0. 0.] <-> [0.9744908  0.01942167 0.00608749]\n",
      "[0. 1. 0.] <-> [3.8361046e-02 9.6129662e-01 3.4234743e-04]\n",
      "[1. 0. 0.] <-> [0.9881859  0.00541765 0.00639645]\n",
      "[1. 0. 0.] <-> [0.9491698  0.00123606 0.04959418]\n",
      "[1. 0. 0.] <-> [0.95876765 0.03632136 0.00491099]\n",
      "[1. 0. 0.] <-> [0.9702899  0.00238699 0.02732313]\n",
      "[1. 0. 0.] <-> [0.9880227  0.00628788 0.00568943]\n",
      "[1. 0. 0.] <-> [0.9511254  0.00186961 0.0470051 ]\n",
      "[0. 0. 1.] <-> [0.47134313 0.00063003 0.5280269 ]\n",
      "[1. 0. 0.] <-> [0.80395985 0.00180566 0.19423455]\n",
      "[1. 0. 0.] <-> [0.59966326 0.3959924  0.00434431]\n",
      "[1. 0. 0.] <-> [0.98712695 0.00392271 0.00895036]\n",
      "[1. 0. 0.] <-> [0.98019207 0.00281006 0.01699791]\n",
      "[0. 1. 0.] <-> [0.53938794 0.45722136 0.0033907 ]\n",
      "[1. 0. 0.] <-> [0.8008318  0.00195437 0.19721386]\n",
      "[1. 0. 0.] <-> [0.98392904 0.00277073 0.01330028]\n",
      "[1. 0. 0.] <-> [0.98579836 0.00213635 0.01206526]\n",
      "[0. 1. 0.] <-> [2.9882785e-02 9.6983385e-01 2.8332762e-04]\n",
      "[1. 0. 0.] <-> [0.9900238  0.00250961 0.00746663]\n",
      "[0. 1. 0.] <-> [0.03992351 0.95898753 0.00108902]\n",
      "[0. 0. 1.] <-> [6.4429507e-02 1.9987921e-04 9.3537068e-01]\n",
      "[1. 0. 0.] <-> [0.9748834  0.00252317 0.02259347]\n",
      "[1. 0. 0.] <-> [0.98895127 0.00281202 0.00823679]\n",
      "[1. 0. 0.] <-> [0.8734777  0.00252511 0.12399723]\n",
      "[1. 0. 0.] <-> [0.89903027 0.00092359 0.10004608]\n",
      "[1. 0. 0.] <-> [0.98724073 0.00313687 0.00962245]\n",
      "[1. 0. 0.] <-> [0.92792004 0.00174666 0.07033335]\n",
      "[1. 0. 0.] <-> [0.6122298  0.00091625 0.38685387]\n",
      "[0. 0. 1.] <-> [0.09615538 0.00953863 0.894306  ]\n",
      "[1. 0. 0.] <-> [0.96766216 0.00355627 0.02878165]\n",
      "[0. 0. 1.] <-> [6.5185361e-02 2.2132994e-04 9.3459332e-01]\n",
      "[1. 0. 0.] <-> [1.0367979e-01 3.4611812e-04 8.9597416e-01]\n",
      "[1. 0. 0.] <-> [0.9795546  0.01448192 0.00596338]\n",
      "[0. 1. 0.] <-> [2.9932749e-02 9.6982801e-01 2.3917051e-04]\n",
      "[1. 0. 0.] <-> [0.9891039  0.00360488 0.00729127]\n",
      "[0. 1. 0.] <-> [5.7045154e-02 9.4239610e-01 5.5863563e-04]\n",
      "[1. 0. 0.] <-> [0.98395824 0.00273412 0.01330764]\n",
      "{'accuracy': 0.9691358024691358, 'mean_square_error': 0.067096644399977, 'categorical_crossentropy': 0.1285233497619629, 'precision': 0.9537037037037037, 'recall': 0.9537037037037037, 'f1': 0.9537037037037037, 'essential_metrics': {0: {'tp_hit': 79, 'fp_hit': 4, 'tn_hit': 24, 'fn_hit': 1}, 1: {'tp_hit': 12, 'fp_hit': 0, 'tn_hit': 93, 'fn_hit': 3}, 2: {'tp_hit': 12, 'fp_hit': 1, 'tn_hit': 94, 'fn_hit': 1}}}\n"
     ]
    }
   ],
   "source": [
    "# recall phase\n",
    "score = model.evaluate(x_test, y_test, False)\n",
    "print(score)"
   ]
  },
  {
   "cell_type": "code",
   "execution_count": 12,
   "metadata": {},
   "outputs": [],
   "source": [
    "# Testing Performance"
   ]
  },
  {
   "cell_type": "code",
   "execution_count": 13,
   "metadata": {},
   "outputs": [
    {
     "data": {
      "image/png": "[encoded data removed]",
      "text/plain": [
       "<Figure size 864x360 with 1 Axes>"
      ]
     },
     "metadata": {
      "needs_background": "light"
     },
     "output_type": "display_data"
    },
    {
     "data": {
      "image/png": "[encoded data removed]",
      "text/plain": [
       "<Figure size 864x360 with 1 Axes>"
      ]
     },
     "metadata": {
      "needs_background": "light"
     },
     "output_type": "display_data"
    }
   ],
   "source": [
    "draw_plot(x = [[i for i in range(len(history))], [(i+1)*breakpoint for i in range(len(checkpoints))]], y_list = [history, [ ckp[model.loss_fn] for ckp in checkpoints ]], x_label = 'Epochs', \\\n",
    "    y_label = model.loss_fn, legend=['train', 'test'])\n",
    "acc = [ ckp['accuracy'] for ckp in checkpoints ]\n",
    "draw_plot(x = [[(i+1)*breakpoint for i in range(len(checkpoints))]], y_list = [acc], x_label = 'Checkpoints', \\\n",
    "    y_label = 'accuracy')"
   ]
  },
  {
   "cell_type": "code",
   "execution_count": 14,
   "metadata": {
    "scrolled": false
   },
   "outputs": [
    {
     "name": "stdout",
     "output_type": "stream",
     "text": [
      "{'accuracy': 0.9567901234567902, 'mean_square_error': 0.11242029267464614, 'categorical_crossentropy': 0.23771091743751807, 'precision': 0.9351851851851852, 'recall': 0.9351851851851852, 'f1': 0.9351851851851852, 'essential_metrics': {0: {'tp_hit': 79, 'fp_hit': 6, 'tn_hit': 22, 'fn_hit': 1}, 1: {'tp_hit': 12, 'fp_hit': 1, 'tn_hit': 92, 'fn_hit': 3}, 2: {'tp_hit': 10, 'fp_hit': 0, 'tn_hit': 95, 'fn_hit': 3}}, 'checkpoint': 100} \n",
      "\n",
      "\n",
      "{'accuracy': 0.9629629629629629, 'mean_square_error': 0.09551525998551627, 'categorical_crossentropy': 0.20603642640290437, 'precision': 0.9444444444444444, 'recall': 0.9444444444444444, 'f1': 0.9444444444444444, 'essential_metrics': {0: {'tp_hit': 79, 'fp_hit': 5, 'tn_hit': 23, 'fn_hit': 1}, 1: {'tp_hit': 12, 'fp_hit': 0, 'tn_hit': 93, 'fn_hit': 3}, 2: {'tp_hit': 11, 'fp_hit': 1, 'tn_hit': 94, 'fn_hit': 2}}, 'checkpoint': 200} \n",
      "\n",
      "\n",
      "{'accuracy': 0.9629629629629629, 'mean_square_error': 0.08387638819206923, 'categorical_crossentropy': 0.17471793845847802, 'precision': 0.9444444444444444, 'recall': 0.9444444444444444, 'f1': 0.9444444444444444, 'essential_metrics': {0: {'tp_hit': 79, 'fp_hit': 5, 'tn_hit': 23, 'fn_hit': 1}, 1: {'tp_hit': 12, 'fp_hit': 0, 'tn_hit': 93, 'fn_hit': 3}, 2: {'tp_hit': 11, 'fp_hit': 1, 'tn_hit': 94, 'fn_hit': 2}}, 'checkpoint': 300} \n",
      "\n",
      "\n",
      "{'accuracy': 0.9629629629629629, 'mean_square_error': 0.07319120834912946, 'categorical_crossentropy': 0.14948371604636865, 'precision': 0.9444444444444444, 'recall': 0.9444444444444444, 'f1': 0.9444444444444444, 'essential_metrics': {0: {'tp_hit': 79, 'fp_hit': 5, 'tn_hit': 23, 'fn_hit': 1}, 1: {'tp_hit': 12, 'fp_hit': 0, 'tn_hit': 93, 'fn_hit': 3}, 2: {'tp_hit': 11, 'fp_hit': 1, 'tn_hit': 94, 'fn_hit': 2}}, 'checkpoint': 400} \n",
      "\n",
      "\n",
      "{'accuracy': 0.9691358024691358, 'mean_square_error': 0.067096644399977, 'categorical_crossentropy': 0.1285233497619629, 'precision': 0.9537037037037037, 'recall': 0.9537037037037037, 'f1': 0.9537037037037037, 'essential_metrics': {0: {'tp_hit': 79, 'fp_hit': 4, 'tn_hit': 24, 'fn_hit': 1}, 1: {'tp_hit': 12, 'fp_hit': 0, 'tn_hit': 93, 'fn_hit': 3}, 2: {'tp_hit': 12, 'fp_hit': 1, 'tn_hit': 94, 'fn_hit': 1}}, 'checkpoint': 500} \n",
      "\n",
      "\n"
     ]
    }
   ],
   "source": [
    "for checkpoint in checkpoints:\n",
    "    print(checkpoint, '\\n\\n')"
   ]
  },
  {
   "cell_type": "code",
   "execution_count": 15,
   "metadata": {},
   "outputs": [
    {
     "name": "stdout",
     "output_type": "stream",
     "text": [
      "Layer 1\n",
      "Neuron 0: weights:\n",
      "[-1.1387416e+00  2.2227495e+00  2.5075626e+00 -1.9664708e-01\n",
      "  1.3226954e-03]\n",
      " bias: -1.3626631498336792\n",
      "\n",
      "Neuron 1: weights:\n",
      "[-0.25712013  2.7309616   2.754335   -2.4314082  -2.8917763 ]\n",
      " bias: 2.78885817527771\n",
      "\n",
      "Neuron 2: weights:\n",
      "[ 1.9331616 -3.        -1.0736319 -3.         0.7296335]\n",
      " bias: 0.8301298022270203\n",
      "\n",
      "Neuron 3: weights:\n",
      "[-1.031251    2.77495    -2.8029914  -0.75554156 -2.8650634 ]\n",
      " bias: 1.1991121768951416\n",
      "\n",
      "$\n",
      "Layer 2\n",
      "Neuron 0: weights:\n",
      "[-3.         1.9117573  2.5160642  1.8728733]\n",
      " bias: -0.12469525635242462\n",
      "\n",
      "Neuron 1: weights:\n",
      "[ 3.          0.13848187 -1.7118992   2.7532403 ]\n",
      " bias: -1.687583565711975\n",
      "\n",
      "Neuron 2: weights:\n",
      "[-2.1457713 -3.         2.980792  -1.1233853]\n",
      " bias: 2.084728479385376\n",
      "\n",
      "$\n",
      "\n"
     ]
    }
   ],
   "source": [
    "print(model)"
   ]
  }
 ],
 "metadata": {
  "kernelspec": {
   "display_name": "Python 3",
   "language": "python",
   "name": "python3"
  },
  "language_info": {
   "codemirror_mode": {
    "name": "ipython",
    "version": 3
   },
   "file_extension": ".py",
   "mimetype": "text/x-python",
   "name": "python",
   "nbconvert_exporter": "python",
   "pygments_lexer": "ipython3",
   "version": "3.6.12"
  }
 },
 "nbformat": 4,
 "nbformat_minor": 2
}
