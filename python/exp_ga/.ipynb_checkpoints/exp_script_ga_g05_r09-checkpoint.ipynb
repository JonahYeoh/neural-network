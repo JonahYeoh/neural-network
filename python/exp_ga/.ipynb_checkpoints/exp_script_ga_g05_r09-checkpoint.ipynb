{
 "cells": [
  {
   "cell_type": "code",
   "execution_count": 1,
   "metadata": {},
   "outputs": [],
   "source": [
    "# single"
   ]
  },
  {
   "cell_type": "code",
   "execution_count": 2,
   "metadata": {},
   "outputs": [],
   "source": [
    "# dependency\n",
    "import numpy as np\n",
    "import pandas as pd\n",
    "import copy\n",
    "import math\n",
    "import sys\n",
    "import os\n",
    "from activations import relu, leaky_relu, sigmoid, tanh, softmax, d_sigmoid, d_relu\n",
    "from initializers import glorot_uniform, random_normal, random_uniform\n",
    "from regularizers import l1_regularizer, l2_regularizer\n",
    "from utility import trim_tail, multiply, subtract, get_nparams, one_hot_encoding, get_data\n",
    "from metrics import MSE, CCE, ACC, PRECISION, RECALL, essential_metrics, wondering_penalty, close_gap_penalty\n",
    "from pso import PSO\n",
    "from ga import GA\n",
    "from nn import Network\n",
    "from layer import DenseLayer\n",
    "from scalers import MinMaxScaler, StandardScaler"
   ]
  },
  {
   "cell_type": "code",
   "execution_count": 3,
   "metadata": {},
   "outputs": [],
   "source": [
    "# reference\n",
    "metrics_fn_dict = dict()\n",
    "metrics_fn_dict['accuracy'] = ACC\n",
    "metrics_fn_dict['categorical_crossentropy'] = CCE\n",
    "metrics_fn_dict['mean_square_error'] = MSE\n",
    "metrics_fn_dict['precision'] = PRECISION\n",
    "metrics_fn_dict['recall'] = RECALL\n",
    "metrics_fn_dict['essential_metrics'] = essential_metrics"
   ]
  },
  {
   "cell_type": "code",
   "execution_count": 4,
   "metadata": {},
   "outputs": [],
   "source": [
    "# model\n",
    "model = Network(5, lr = None)\n",
    "model.add_layer(DenseLayer(1, 4, True, afn=sigmoid, dafn=None, rfn=None))\n",
    "model.add_layer(DenseLayer(2, 3, True, afn=softmax, dafn=None, rfn=None))"
   ]
  },
  {
   "cell_type": "code",
   "execution_count": 5,
   "metadata": {},
   "outputs": [],
   "source": [
    "# optimizer\n",
    "ga = GA(\n",
    "    dict(\n",
    "        m = 50,\n",
    "        x_rate = 0.5,\n",
    "        m_rate = 0.5,\n",
    "        weight_constraint = [-3.,3.],\n",
    "        radioactive_rating = 0.1,\n",
    "        grow_factor = 0.1,\n",
    "        scale_hyperparameter = False,\n",
    "        regularizer = None))"
   ]
  },
  {
   "cell_type": "code",
   "execution_count": 6,
   "metadata": {},
   "outputs": [
    {
     "name": "stdout",
     "output_type": "stream",
     "text": [
      "building layer 1 with 5\n",
      "24\n",
      "building layer 2 with 4\n",
      "15\n"
     ]
    }
   ],
   "source": [
    "model.compile(loss_fn = 'categorical_crossentropy', optimizer = ga, \\\n",
    "    metrics = ['accuracy', 'mean_square_error', 'categorical_crossentropy', 'precision', 'recall', 'f1'])"
   ]
  },
  {
   "cell_type": "code",
   "execution_count": 7,
   "metadata": {},
   "outputs": [
    {
     "name": "stdout",
     "output_type": "stream",
     "text": [
      "<class 'pandas.core.frame.DataFrame'>\n",
      "RangeIndex: 107 entries, 0 to 106\n",
      "Data columns (total 6 columns):\n",
      " #   Column  Non-Null Count  Dtype  \n",
      "---  ------  --------------  -----  \n",
      " 0   f1      107 non-null    float32\n",
      " 1   f2      107 non-null    float32\n",
      " 2   f3      107 non-null    float32\n",
      " 3   f4      107 non-null    float32\n",
      " 4   f5      107 non-null    float32\n",
      " 5   label   107 non-null    float32\n",
      "dtypes: float32(6)\n",
      "memory usage: 2.6 KB\n",
      "None\n",
      "<class 'pandas.core.frame.DataFrame'>\n",
      "RangeIndex: 108 entries, 0 to 107\n",
      "Data columns (total 6 columns):\n",
      " #   Column  Non-Null Count  Dtype  \n",
      "---  ------  --------------  -----  \n",
      " 0   f1      108 non-null    float32\n",
      " 1   f2      108 non-null    float32\n",
      " 2   f3      108 non-null    float32\n",
      " 3   f4      108 non-null    float32\n",
      " 4   f5      108 non-null    float32\n",
      " 5   label   108 non-null    float32\n",
      "dtypes: float32(6)\n",
      "memory usage: 2.7 KB\n",
      "None\n"
     ]
    }
   ],
   "source": [
    "# data loading\n",
    "DATA = os.path.join('c:\\\\Users\\\\tcumi\\\\github_repo\\\\neural-network\\\\', 'dataset')\n",
    "GROUP = 5\n",
    "COLUMNS = ['f1', 'f2', 'f3', 'f4', 'f5', 'label']\n",
    "N_CLASS = 3\n",
    "EPOCHS = 500\n",
    "train_dir, test_dir = \"..//dataset//training_data{}.txt\".format(GROUP), \"..//dataset//testing_data{}.txt\".format(GROUP)\n",
    "train, test = get_data(DATA, train_dir, COLUMNS), get_data(DATA, test_dir, COLUMNS)\n",
    "# shuffle\n",
    "train, test = train.sample(frac=1), test.sample(frac=1)\n",
    "x_train, y_train = train.drop('label', axis=1), train['label']\n",
    "x_test, y_test = test.drop('label', axis=1), test['label']"
   ]
  },
  {
   "cell_type": "code",
   "execution_count": 8,
   "metadata": {},
   "outputs": [],
   "source": [
    "# data scaling and encoding\n",
    "scaler = StandardScaler(['f1', 'f2', 'f3', 'f4', 'f5'])\n",
    "scaler.fit(x_train)\n",
    "x_train = scaler.transform(x_train)\n",
    "x_test = scaler.transform(x_test)\n",
    "y_train = one_hot_encoding(y_train, N_CLASS)\n",
    "y_test = one_hot_encoding(y_test, N_CLASS)"
   ]
  },
  {
   "cell_type": "code",
   "execution_count": 9,
   "metadata": {
    "scrolled": true,
    "tags": [
     "outputPrepend"
    ]
   },
   "outputs": [
    {
     "name": "stderr",
     "output_type": "stream",
     "text": [
      "C:\\Users\\tcumi\\github_repo\\neural-network\\python\\activations.py:14: RuntimeWarning: overflow encountered in exp\n",
      "  y = 1 / (1 + np.exp(-Xi))\n",
      "C:\\Users\\tcumi\\github_repo\\neural-network\\python\\ga.py:201: RuntimeWarning: overflow encountered in add\n",
      "  self.population.sort(key=lambda p: p.fitness + np.random.uniform(-shift, shift, 1), reverse = self.aim)\n"
     ]
    },
    {
     "name": "stdout",
     "output_type": "stream",
     "text": [
      "Checkpoint 100, Accuracy: 0.9074074074074074, Loss: 0.4493958155314128\n",
      "Checkpoint 200, Accuracy: 0.9320987654320988, Loss: 0.38155718202944156\n",
      "Checkpoint 300, Accuracy: 0.9506172839506173, Loss: 0.33598161626745154\n",
      "Checkpoint 400, Accuracy: 0.9691358024691358, Loss: 0.2980906875045211\n",
      "Checkpoint 500, Accuracy: 0.9753086419753086, Loss: 0.2739381790161133\n"
     ]
    }
   ],
   "source": [
    "# learning phase\n",
    "breakpoint = 100\n",
    "checkpoints = list()\n",
    "history = list()\n",
    "for century in range(0, EPOCHS, breakpoint):\n",
    "    sub_history = model.fit(x_train, y_train, breakpoint, verbose = 0)\n",
    "    score = model.evaluate(x_test, y_test, False, verbose = 0)\n",
    "    print('Checkpoint {}, Accuracy: {}, Loss: {}'.format(century+breakpoint, score['accuracy'], score[model.loss_fn]))\n",
    "    score['checkpoint'] = century + breakpoint\n",
    "    checkpoints.append(score)\n",
    "    history.extend(sub_history)\n",
    "    "
   ]
  },
  {
   "cell_type": "code",
   "execution_count": 10,
   "metadata": {},
   "outputs": [],
   "source": [
    "import matplotlib.pyplot as plt\n",
    "\n",
    "def draw_plot(x, y_list, x_label=None, y_label=None, legend=None, title=None):\n",
    "    fig, ax = plt.subplots(figsize=(12,5))\n",
    "    for xi, yi in zip(x, y_list):\n",
    "        ax.plot(xi, yi)\n",
    "    if x_label is not None and y_label is not None:\n",
    "        ax.set(xlabel=x_label, ylabel=y_label, title='{} VS {}'.format(x_label, y_label))\n",
    "    if legend is not None:\n",
    "        ax.legend(legend)\n",
    "    ax.grid()\n",
    "    plt.show()"
   ]
  },
  {
   "cell_type": "code",
   "execution_count": 11,
   "metadata": {},
   "outputs": [
    {
     "name": "stdout",
     "output_type": "stream",
     "text": [
      "[1. 0. 0.] <-> [0.8647903  0.06156481 0.07364485]\n",
      "[0. 1. 0.] <-> [0.10364799 0.8929543  0.00339772]\n",
      "[1. 0. 0.] <-> [0.8510979  0.05909993 0.08980221]\n",
      "[0. 0. 1.] <-> [0.24835448 0.01481415 0.73683137]\n",
      "[0. 1. 0.] <-> [0.20750704 0.7803514  0.01214154]\n",
      "[1. 0. 0.] <-> [0.879309   0.05416881 0.06652223]\n",
      "[1. 0. 0.] <-> [0.8660119  0.02811776 0.10587038]\n",
      "[1. 0. 0.] <-> [0.88426375 0.05545683 0.06027941]\n",
      "[0. 1. 0.] <-> [0.20701253 0.78574485 0.00724264]\n",
      "[1. 0. 0.] <-> [0.885862   0.03830229 0.07583575]\n",
      "[0. 1. 0.] <-> [0.11185358 0.88425696 0.00388945]\n",
      "[1. 0. 0.] <-> [0.8622083  0.06214155 0.07565024]\n",
      "[0. 0. 1.] <-> [0.71675533 0.04623383 0.23701073]\n",
      "[1. 0. 0.] <-> [0.8528683  0.10946086 0.03767079]\n",
      "[1. 0. 0.] <-> [0.8747476  0.03917018 0.08608225]\n",
      "[1. 0. 0.] <-> [0.87384874 0.02850349 0.09764777]\n",
      "[1. 0. 0.] <-> [0.85822535 0.05208019 0.0896944 ]\n",
      "[1. 0. 0.] <-> [0.8585532  0.02121536 0.12023138]\n",
      "[1. 0. 0.] <-> [0.783587   0.14241609 0.07399701]\n",
      "[1. 0. 0.] <-> [0.8363206  0.03902018 0.12465927]\n",
      "[1. 0. 0.] <-> [0.88590723 0.04562607 0.06846663]\n",
      "[1. 0. 0.] <-> [0.8719135  0.07149567 0.05659081]\n",
      "[0. 0. 1.] <-> [0.234489   0.04112776 0.7243832 ]\n",
      "[1. 0. 0.] <-> [0.7588813  0.04689581 0.19422293]\n",
      "[1. 0. 0.] <-> [0.88029337 0.04255236 0.07715415]\n",
      "[1. 0. 0.] <-> [0.8271267  0.06785379 0.10501948]\n",
      "[1. 0. 0.] <-> [0.74281085 0.08969919 0.16749005]\n",
      "[1. 0. 0.] <-> [0.8249926  0.12167748 0.0533299 ]\n",
      "[1. 0. 0.] <-> [0.8674679  0.08058734 0.05194468]\n",
      "[1. 0. 0.] <-> [0.87913346 0.04935088 0.07151572]\n",
      "[0. 0. 1.] <-> [0.255892   0.01511028 0.7289977 ]\n",
      "[1. 0. 0.] <-> [0.7302746  0.14886595 0.1208594 ]\n",
      "[0. 1. 0.] <-> [0.44232368 0.49867192 0.05900442]\n",
      "[0. 1. 0.] <-> [0.09892163 0.8978222  0.00325612]\n",
      "[0. 1. 0.] <-> [0.11029174 0.88592035 0.00378792]\n",
      "[1. 0. 0.] <-> [0.8039803  0.01729124 0.17872852]\n",
      "[0. 1. 0.] <-> [0.10381838 0.89278    0.00340163]\n",
      "[1. 0. 0.] <-> [0.8536117  0.10059184 0.04579637]\n",
      "[1. 0. 0.] <-> [0.7433147  0.01356997 0.24311534]\n",
      "[0. 0. 1.] <-> [0.21705408 0.03478288 0.7481631 ]\n",
      "[0. 1. 0.] <-> [0.10674455 0.88971823 0.00353719]\n",
      "[1. 0. 0.] <-> [0.8207544  0.01675281 0.16249278]\n",
      "[1. 0. 0.] <-> [0.8873461  0.04319397 0.06945999]\n",
      "[1. 0. 0.] <-> [0.84415966 0.11677887 0.03906153]\n",
      "[1. 0. 0.] <-> [0.7641464  0.17046927 0.06538431]\n",
      "[1. 0. 0.] <-> [0.828566   0.12285843 0.04857554]\n",
      "[1. 0. 0.] <-> [0.740851   0.0169562  0.24219279]\n",
      "[1. 0. 0.] <-> [0.8643918  0.02584453 0.10976361]\n",
      "[1. 0. 0.] <-> [0.85496604 0.01811525 0.12691869]\n",
      "[0. 0. 1.] <-> [0.24896403 0.01576281 0.7352732 ]\n",
      "[1. 0. 0.] <-> [0.845494   0.11340766 0.04109845]\n",
      "[0. 1. 0.] <-> [0.6771439  0.29866868 0.02418745]\n",
      "[1. 0. 0.] <-> [0.79624325 0.02817928 0.1755775 ]\n",
      "[0. 1. 0.] <-> [0.35271227 0.6351781  0.01210965]\n",
      "[1. 0. 0.] <-> [0.83000696 0.01494624 0.15504682]\n",
      "[1. 0. 0.] <-> [0.8065648  0.0142961  0.17913908]\n",
      "[1. 0. 0.] <-> [0.8650682  0.03463673 0.10029501]\n",
      "[1. 0. 0.] <-> [0.870792   0.02555261 0.10365549]\n",
      "[1. 0. 0.] <-> [0.8337549  0.1254304  0.04081476]\n",
      "[1. 0. 0.] <-> [0.8278361  0.12860376 0.04356021]\n",
      "[0. 1. 0.] <-> [0.13587932 0.85873413 0.00538656]\n",
      "[1. 0. 0.] <-> [0.6458593  0.02291355 0.33122715]\n",
      "[1. 0. 0.] <-> [0.7721975  0.0169003  0.21090229]\n",
      "[1. 0. 0.] <-> [0.74238896 0.03247432 0.22513671]\n",
      "[1. 0. 0.] <-> [0.8739939  0.03338411 0.09262209]\n",
      "[1. 0. 0.] <-> [0.80487776 0.09180471 0.10331757]\n",
      "[0. 1. 0.] <-> [0.11103247 0.88513374 0.00383381]\n",
      "[1. 0. 0.] <-> [0.8437097  0.01672009 0.13957019]\n",
      "[0. 1. 0.] <-> [0.43224448 0.5107688  0.05698678]\n",
      "[1. 0. 0.] <-> [0.8166452  0.0615018  0.12185295]\n",
      "[1. 0. 0.] <-> [0.84596485 0.08121069 0.07282446]\n",
      "[1. 0. 0.] <-> [0.8866614  0.04105588 0.07228269]\n",
      "[1. 0. 0.] <-> [0.78881216 0.1748852  0.03630264]\n",
      "[1. 0. 0.] <-> [0.81909186 0.01613333 0.16477482]\n",
      "[0. 0. 1.] <-> [0.23444706 0.01462425 0.7509287 ]\n",
      "[1. 0. 0.] <-> [0.87986517 0.05592909 0.06420582]\n",
      "[1. 0. 0.] <-> [0.7827492  0.17529084 0.04196002]\n",
      "[1. 0. 0.] <-> [0.79052925 0.03946095 0.17000984]\n",
      "[0. 0. 1.] <-> [0.7865695  0.05256823 0.16086228]\n",
      "[0. 0. 1.] <-> [0.23718579 0.01652028 0.74629396]\n",
      "[1. 0. 0.] <-> [0.86839706 0.02436113 0.10724185]\n",
      "[1. 0. 0.] <-> [0.6795491  0.0318715  0.28857934]\n",
      "[1. 0. 0.] <-> [0.8690132  0.03108643 0.0999004 ]\n",
      "[0. 0. 1.] <-> [0.2545755  0.02396371 0.7214608 ]\n",
      "[1. 0. 0.] <-> [0.8670765  0.01986008 0.1130634 ]\n",
      "[1. 0. 0.] <-> [0.77051866 0.02420401 0.20527734]\n",
      "[1. 0. 0.] <-> [0.87068546 0.0241046  0.10521   ]\n",
      "[1. 0. 0.] <-> [0.81331474 0.12959927 0.05708598]\n",
      "[1. 0. 0.] <-> [0.88673896 0.03913135 0.07412975]\n",
      "[0. 1. 0.] <-> [0.44868132 0.5200617  0.03125697]\n",
      "[1. 0. 0.] <-> [0.8628173  0.02245237 0.11473028]\n",
      "[1. 0. 0.] <-> [0.78946745 0.16193892 0.04859366]\n",
      "[0. 0. 1.] <-> [0.25725114 0.01494516 0.7278037 ]\n",
      "[0. 0. 1.] <-> [0.3104163  0.03690622 0.6526775 ]\n",
      "[1. 0. 0.] <-> [0.8807632  0.06022539 0.05901139]\n",
      "[1. 0. 0.] <-> [0.8770596  0.04972732 0.07321312]\n",
      "[0. 0. 1.] <-> [0.22894546 0.01876861 0.75228596]\n",
      "[1. 0. 0.] <-> [0.8755732  0.03979892 0.08462786]\n",
      "[1. 0. 0.] <-> [0.85581315 0.02006819 0.1241186 ]\n",
      "[0. 0. 1.] <-> [0.25179338 0.02355524 0.72465134]\n",
      "[1. 0. 0.] <-> [0.6969921  0.10090714 0.20210078]\n",
      "[0. 1. 0.] <-> [0.42357174 0.55823505 0.01819322]\n",
      "[0. 0. 1.] <-> [0.79220724 0.04399984 0.16379292]\n",
      "[1. 0. 0.] <-> [0.7324116  0.01653802 0.2510503 ]\n",
      "[1. 0. 0.] <-> [0.66754436 0.01546257 0.31699315]\n",
      "[1. 0. 0.] <-> [0.876612   0.02213708 0.10125099]\n",
      "[0. 1. 0.] <-> [0.30022106 0.6865102  0.01326879]\n",
      "[1. 0. 0.] <-> [0.852004   0.02456652 0.12342947]\n",
      "{'accuracy': 0.9753086419753086, 'mean_square_error': 0.12155530194345841, 'categorical_crossentropy': 0.2739381790161133, 'precision': 0.9629629629629629, 'recall': 0.9629629629629629, 'f1': 0.9629629629629629, 'essential_metrics': {0: {'tp_hit': 76, 'fp_hit': 4, 'tn_hit': 28, 'fn_hit': 0}, 1: {'tp_hit': 16, 'fp_hit': 0, 'tn_hit': 91, 'fn_hit': 1}, 2: {'tp_hit': 12, 'fp_hit': 0, 'tn_hit': 93, 'fn_hit': 3}}}\n"
     ]
    }
   ],
   "source": [
    "# recall phase\n",
    "score = model.evaluate(x_test, y_test, False)\n",
    "print(score)"
   ]
  },
  {
   "cell_type": "code",
   "execution_count": 12,
   "metadata": {},
   "outputs": [],
   "source": [
    "# Testing Performance"
   ]
  },
  {
   "cell_type": "code",
   "execution_count": 13,
   "metadata": {},
   "outputs": [
    {
     "data": {
      "image/png": "[encoded data removed]",
      "text/plain": [
       "<Figure size 864x360 with 1 Axes>"
      ]
     },
     "metadata": {
      "needs_background": "light"
     },
     "output_type": "display_data"
    },
    {
     "data": {
      "image/png": "[encoded data removed]",
      "text/plain": [
       "<Figure size 864x360 with 1 Axes>"
      ]
     },
     "metadata": {
      "needs_background": "light"
     },
     "output_type": "display_data"
    }
   ],
   "source": [
    "draw_plot(x = [[i for i in range(len(history))], [(i+1)*breakpoint for i in range(len(checkpoints))]], y_list = [history, [ ckp[model.loss_fn] for ckp in checkpoints ]], x_label = 'Epochs', \\\n",
    "    y_label = model.loss_fn, legend=['train', 'test'])\n",
    "acc = [ ckp['accuracy'] for ckp in checkpoints ]\n",
    "draw_plot(x = [[(i+1)*breakpoint for i in range(len(checkpoints))]], y_list = [acc], x_label = 'Checkpoints', \\\n",
    "    y_label = 'accuracy')"
   ]
  },
  {
   "cell_type": "code",
   "execution_count": 14,
   "metadata": {
    "scrolled": false
   },
   "outputs": [
    {
     "name": "stdout",
     "output_type": "stream",
     "text": [
      "{'accuracy': 0.9074074074074074, 'mean_square_error': 0.2507825755136105, 'categorical_crossentropy': 0.4493958155314128, 'precision': 0.8611111111111112, 'recall': 0.8611111111111112, 'f1': 0.8611111111111112, 'essential_metrics': {0: {'tp_hit': 76, 'fp_hit': 15, 'tn_hit': 17, 'fn_hit': 0}, 1: {'tp_hit': 9, 'fp_hit': 0, 'tn_hit': 91, 'fn_hit': 8}, 2: {'tp_hit': 8, 'fp_hit': 0, 'tn_hit': 93, 'fn_hit': 7}}, 'checkpoint': 100} \n",
      "\n",
      "\n",
      "{'accuracy': 0.9320987654320988, 'mean_square_error': 0.19678429189627525, 'categorical_crossentropy': 0.38155718202944156, 'precision': 0.8981481481481481, 'recall': 0.8981481481481481, 'f1': 0.8981481481481481, 'essential_metrics': {0: {'tp_hit': 76, 'fp_hit': 11, 'tn_hit': 21, 'fn_hit': 0}, 1: {'tp_hit': 12, 'fp_hit': 0, 'tn_hit': 91, 'fn_hit': 5}, 2: {'tp_hit': 9, 'fp_hit': 0, 'tn_hit': 93, 'fn_hit': 6}}, 'checkpoint': 200} \n",
      "\n",
      "\n",
      "{'accuracy': 0.9506172839506173, 'mean_square_error': 0.16304962863945247, 'categorical_crossentropy': 0.33598161626745154, 'precision': 0.9259259259259259, 'recall': 0.9259259259259259, 'f1': 0.9259259259259259, 'essential_metrics': {0: {'tp_hit': 76, 'fp_hit': 8, 'tn_hit': 24, 'fn_hit': 0}, 1: {'tp_hit': 12, 'fp_hit': 0, 'tn_hit': 91, 'fn_hit': 5}, 2: {'tp_hit': 12, 'fp_hit': 0, 'tn_hit': 93, 'fn_hit': 3}}, 'checkpoint': 300} \n",
      "\n",
      "\n",
      "{'accuracy': 0.9691358024691358, 'mean_square_error': 0.13645372488151247, 'categorical_crossentropy': 0.2980906875045211, 'precision': 0.9537037037037037, 'recall': 0.9537037037037037, 'f1': 0.9537037037037037, 'essential_metrics': {0: {'tp_hit': 76, 'fp_hit': 5, 'tn_hit': 27, 'fn_hit': 0}, 1: {'tp_hit': 15, 'fp_hit': 0, 'tn_hit': 91, 'fn_hit': 2}, 2: {'tp_hit': 12, 'fp_hit': 0, 'tn_hit': 93, 'fn_hit': 3}}, 'checkpoint': 400} \n",
      "\n",
      "\n",
      "{'accuracy': 0.9753086419753086, 'mean_square_error': 0.12155530194345841, 'categorical_crossentropy': 0.2739381790161133, 'precision': 0.9629629629629629, 'recall': 0.9629629629629629, 'f1': 0.9629629629629629, 'essential_metrics': {0: {'tp_hit': 76, 'fp_hit': 4, 'tn_hit': 28, 'fn_hit': 0}, 1: {'tp_hit': 16, 'fp_hit': 0, 'tn_hit': 91, 'fn_hit': 1}, 2: {'tp_hit': 12, 'fp_hit': 0, 'tn_hit': 93, 'fn_hit': 3}}, 'checkpoint': 500} \n",
      "\n",
      "\n"
     ]
    }
   ],
   "source": [
    "for checkpoint in checkpoints:\n",
    "    print(checkpoint, '\\n\\n')"
   ]
  },
  {
   "cell_type": "code",
   "execution_count": 15,
   "metadata": {},
   "outputs": [
    {
     "name": "stdout",
     "output_type": "stream",
     "text": [
      "Layer 1\n",
      "Neuron 0: weights:\n",
      "[-0.19965316  2.3777227   2.849564   -2.0933504  -0.64318085]\n",
      " bias: -2.729386806488037\n",
      "\n",
      "Neuron 1: weights:\n",
      "[ 1.7571425 -1.2478081  1.6090883  0.3045217  1.3094614]\n",
      " bias: 0.930453360080719\n",
      "\n",
      "Neuron 2: weights:\n",
      "[ 0.9798842  -1.3868965  -1.9004145   0.24156083  0.42278752]\n",
      " bias: -2.889622688293457\n",
      "\n",
      "Neuron 3: weights:\n",
      "[ 1.2613344  1.0123987  2.562496  -0.3097372  1.2185827]\n",
      " bias: 2.986801862716675\n",
      "\n",
      "$\n",
      "Layer 2\n",
      "Neuron 0: weights:\n",
      "[-3.         0.9612075 -1.9979975  1.6786596]\n",
      " bias: 3.0\n",
      "\n",
      "Neuron 1: weights:\n",
      "[ 1.8303524  -1.0428324  -0.06348088 -0.53636026]\n",
      " bias: 2.538236141204834\n",
      "\n",
      "Neuron 2: weights:\n",
      "[-2.9131775  2.368598   1.3147472  1.5727503]\n",
      " bias: -0.40165531635284424\n",
      "\n",
      "$\n",
      "\n"
     ]
    }
   ],
   "source": [
    "print(model)"
   ]
  }
 ],
 "metadata": {
  "kernelspec": {
   "display_name": "Python 3",
   "language": "python",
   "name": "python3"
  },
  "language_info": {
   "codemirror_mode": {
    "name": "ipython",
    "version": 3
   },
   "file_extension": ".py",
   "mimetype": "text/x-python",
   "name": "python",
   "nbconvert_exporter": "python",
   "pygments_lexer": "ipython3",
   "version": "3.6.12"
  }
 },
 "nbformat": 4,
 "nbformat_minor": 2
}
