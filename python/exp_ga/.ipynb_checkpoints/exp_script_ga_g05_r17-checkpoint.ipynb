{
 "cells": [
  {
   "cell_type": "code",
   "execution_count": 1,
   "metadata": {},
   "outputs": [],
   "source": [
    "# two"
   ]
  },
  {
   "cell_type": "code",
   "execution_count": 2,
   "metadata": {},
   "outputs": [],
   "source": [
    "# dependency\n",
    "import numpy as np\n",
    "import pandas as pd\n",
    "import copy\n",
    "import math\n",
    "import sys\n",
    "import os\n",
    "from activations import relu, leaky_relu, sigmoid, tanh, softmax, d_sigmoid, d_relu\n",
    "from initializers import glorot_uniform, random_normal, random_uniform\n",
    "from regularizers import l1_regularizer, l2_regularizer\n",
    "from utility import trim_tail, multiply, subtract, get_nparams, one_hot_encoding, get_data\n",
    "from metrics import MSE, CCE, ACC, PRECISION, RECALL, essential_metrics, wondering_penalty, close_gap_penalty\n",
    "from pso import PSO\n",
    "from ga import GA\n",
    "from nn import Network\n",
    "from layer import DenseLayer\n",
    "from scalers import MinMaxScaler, StandardScaler"
   ]
  },
  {
   "cell_type": "code",
   "execution_count": 3,
   "metadata": {},
   "outputs": [],
   "source": [
    "# reference\n",
    "metrics_fn_dict = dict()\n",
    "metrics_fn_dict['accuracy'] = ACC\n",
    "metrics_fn_dict['categorical_crossentropy'] = CCE\n",
    "metrics_fn_dict['mean_square_error'] = MSE\n",
    "metrics_fn_dict['precision'] = PRECISION\n",
    "metrics_fn_dict['recall'] = RECALL\n",
    "metrics_fn_dict['essential_metrics'] = essential_metrics"
   ]
  },
  {
   "cell_type": "code",
   "execution_count": 4,
   "metadata": {},
   "outputs": [],
   "source": [
    "# model\n",
    "model = Network(5, lr = None)\n",
    "model.add_layer(DenseLayer(1, 4, True, afn=sigmoid, dafn=None, rfn=None))\n",
    "model.add_layer(DenseLayer(2, 3, True, afn=softmax, dafn=None, rfn=None))"
   ]
  },
  {
   "cell_type": "code",
   "execution_count": 5,
   "metadata": {},
   "outputs": [],
   "source": [
    "# optimizer\n",
    "ga = GA(\n",
    "    dict(\n",
    "        m = 100,\n",
    "        x_rate = 0.5,\n",
    "        m_rate = 0.5,\n",
    "        weight_constraint = [-3.,3.],\n",
    "        radioactive_rating = 0.1,\n",
    "        grow_factor = 0.1,\n",
    "        scale_hyperparameter = False,\n",
    "        regularizer = None))"
   ]
  },
  {
   "cell_type": "code",
   "execution_count": 6,
   "metadata": {},
   "outputs": [
    {
     "name": "stdout",
     "output_type": "stream",
     "text": [
      "building layer 1 with 5\n",
      "24\n",
      "building layer 2 with 4\n",
      "15\n"
     ]
    }
   ],
   "source": [
    "model.compile(loss_fn = 'categorical_crossentropy', optimizer = ga, \\\n",
    "    metrics = ['accuracy', 'mean_square_error', 'categorical_crossentropy', 'precision', 'recall', 'f1'])"
   ]
  },
  {
   "cell_type": "code",
   "execution_count": 7,
   "metadata": {},
   "outputs": [
    {
     "name": "stdout",
     "output_type": "stream",
     "text": [
      "<class 'pandas.core.frame.DataFrame'>\n",
      "RangeIndex: 107 entries, 0 to 106\n",
      "Data columns (total 6 columns):\n",
      " #   Column  Non-Null Count  Dtype  \n",
      "---  ------  --------------  -----  \n",
      " 0   f1      107 non-null    float32\n",
      " 1   f2      107 non-null    float32\n",
      " 2   f3      107 non-null    float32\n",
      " 3   f4      107 non-null    float32\n",
      " 4   f5      107 non-null    float32\n",
      " 5   label   107 non-null    float32\n",
      "dtypes: float32(6)\n",
      "memory usage: 2.6 KB\n",
      "None\n",
      "<class 'pandas.core.frame.DataFrame'>\n",
      "RangeIndex: 108 entries, 0 to 107\n",
      "Data columns (total 6 columns):\n",
      " #   Column  Non-Null Count  Dtype  \n",
      "---  ------  --------------  -----  \n",
      " 0   f1      108 non-null    float32\n",
      " 1   f2      108 non-null    float32\n",
      " 2   f3      108 non-null    float32\n",
      " 3   f4      108 non-null    float32\n",
      " 4   f5      108 non-null    float32\n",
      " 5   label   108 non-null    float32\n",
      "dtypes: float32(6)\n",
      "memory usage: 2.7 KB\n",
      "None\n"
     ]
    }
   ],
   "source": [
    "# data loading\n",
    "DATA = os.path.join('c:\\\\Users\\\\tcumi\\\\github_repo\\\\neural-network\\\\', 'dataset')\n",
    "GROUP = 5\n",
    "COLUMNS = ['f1', 'f2', 'f3', 'f4', 'f5', 'label']\n",
    "N_CLASS = 3\n",
    "EPOCHS = 500\n",
    "train_dir, test_dir = \"..//dataset//training_data{}.txt\".format(GROUP), \"..//dataset//testing_data{}.txt\".format(GROUP)\n",
    "train, test = get_data(DATA, train_dir, COLUMNS), get_data(DATA, test_dir, COLUMNS)\n",
    "# shuffle\n",
    "train, test = train.sample(frac=1), test.sample(frac=1)\n",
    "x_train, y_train = train.drop('label', axis=1), train['label']\n",
    "x_test, y_test = test.drop('label', axis=1), test['label']"
   ]
  },
  {
   "cell_type": "code",
   "execution_count": 8,
   "metadata": {},
   "outputs": [],
   "source": [
    "# data scaling and encoding\n",
    "scaler = StandardScaler(['f1', 'f2', 'f3', 'f4', 'f5'])\n",
    "scaler.fit(x_train)\n",
    "x_train = scaler.transform(x_train)\n",
    "x_test = scaler.transform(x_test)\n",
    "y_train = one_hot_encoding(y_train, N_CLASS)\n",
    "y_test = one_hot_encoding(y_test, N_CLASS)"
   ]
  },
  {
   "cell_type": "code",
   "execution_count": 9,
   "metadata": {
    "scrolled": true,
    "tags": [
     "outputPrepend"
    ]
   },
   "outputs": [
    {
     "name": "stderr",
     "output_type": "stream",
     "text": [
      "C:\\Users\\tcumi\\github_repo\\neural-network\\python\\activations.py:14: RuntimeWarning: overflow encountered in exp\n",
      "  y = 1 / (1 + np.exp(-Xi))\n",
      "C:\\Users\\tcumi\\github_repo\\neural-network\\python\\ga.py:201: RuntimeWarning: overflow encountered in add\n",
      "  self.population.sort(key=lambda p: p.fitness + np.random.uniform(-shift, shift, 1), reverse = self.aim)\n"
     ]
    },
    {
     "name": "stdout",
     "output_type": "stream",
     "text": [
      "Checkpoint 100, Accuracy: 0.9691358024691358, Loss: 0.30124692563657407\n",
      "Checkpoint 200, Accuracy: 0.9753086419753086, Loss: 0.2637767791748047\n",
      "Checkpoint 300, Accuracy: 0.9691358024691358, Loss: 0.233889932985659\n",
      "Checkpoint 400, Accuracy: 0.9753086419753086, Loss: 0.21291444919727467\n",
      "Checkpoint 500, Accuracy: 0.9753086419753086, Loss: 0.19311887246591072\n"
     ]
    }
   ],
   "source": [
    "# learning phase\n",
    "breakpoint = 100\n",
    "checkpoints = list()\n",
    "history = list()\n",
    "for century in range(0, EPOCHS, breakpoint):\n",
    "    sub_history = model.fit(x_train, y_train, breakpoint, verbose = 0)\n",
    "    score = model.evaluate(x_test, y_test, False, verbose = 0)\n",
    "    print('Checkpoint {}, Accuracy: {}, Loss: {}'.format(century+breakpoint, score['accuracy'], score[model.loss_fn]))\n",
    "    score['checkpoint'] = century + breakpoint\n",
    "    checkpoints.append(score)\n",
    "    history.extend(sub_history)\n",
    "    "
   ]
  },
  {
   "cell_type": "code",
   "execution_count": 10,
   "metadata": {},
   "outputs": [],
   "source": [
    "import matplotlib.pyplot as plt\n",
    "\n",
    "def draw_plot(x, y_list, x_label=None, y_label=None, legend=None, title=None):\n",
    "    fig, ax = plt.subplots(figsize=(12,5))\n",
    "    for xi, yi in zip(x, y_list):\n",
    "        ax.plot(xi, yi)\n",
    "    if x_label is not None and y_label is not None:\n",
    "        ax.set(xlabel=x_label, ylabel=y_label, title='{} VS {}'.format(x_label, y_label))\n",
    "    if legend is not None:\n",
    "        ax.legend(legend)\n",
    "    ax.grid()\n",
    "    plt.show()"
   ]
  },
  {
   "cell_type": "code",
   "execution_count": 11,
   "metadata": {},
   "outputs": [
    {
     "name": "stdout",
     "output_type": "stream",
     "text": [
      "[1. 0. 0.] <-> [0.9202478  0.05601133 0.02374084]\n",
      "[0. 0. 1.] <-> [0.13542439 0.02069162 0.843884  ]\n",
      "[1. 0. 0.] <-> [0.9139062  0.04674274 0.03935103]\n",
      "[0. 1. 0.] <-> [0.05155241 0.93015265 0.01829494]\n",
      "[1. 0. 0.] <-> [0.94467723 0.03249228 0.02283057]\n",
      "[0. 0. 1.] <-> [0.13790376 0.01986018 0.84223604]\n",
      "[1. 0. 0.] <-> [0.93084896 0.03004119 0.03910986]\n",
      "[1. 0. 0.] <-> [0.8014387  0.0165329  0.18202841]\n",
      "[1. 0. 0.] <-> [0.92126703 0.02806824 0.05066467]\n",
      "[0. 0. 1.] <-> [0.83792967 0.02671033 0.13535999]\n",
      "[1. 0. 0.] <-> [0.85141575 0.11718588 0.03139826]\n",
      "[1. 0. 0.] <-> [0.939047   0.02695031 0.03400268]\n",
      "[1. 0. 0.] <-> [0.92938197 0.02809928 0.04251885]\n",
      "[1. 0. 0.] <-> [0.9328945  0.02791134 0.03919418]\n",
      "[1. 0. 0.] <-> [0.9303948  0.03108554 0.03851965]\n",
      "[1. 0. 0.] <-> [0.8788458  0.0370623  0.08409183]\n",
      "[0. 0. 1.] <-> [0.13544372 0.020695   0.8438613 ]\n",
      "[0. 1. 0.] <-> [0.05392864 0.92736655 0.01870489]\n",
      "[0. 1. 0.] <-> [0.19957538 0.7676955  0.03272913]\n",
      "[1. 0. 0.] <-> [0.82605034 0.149847   0.02410272]\n",
      "[1. 0. 0.] <-> [0.90453786 0.02987409 0.06558802]\n",
      "[0. 0. 1.] <-> [0.18312843 0.00905863 0.8078129 ]\n",
      "[1. 0. 0.] <-> [0.7954593  0.01781676 0.18672395]\n",
      "[1. 0. 0.] <-> [0.94321    0.02884619 0.02794372]\n",
      "[1. 0. 0.] <-> [0.93290293 0.03471077 0.03238633]\n",
      "[1. 0. 0.] <-> [0.915156   0.04533775 0.03950623]\n",
      "[1. 0. 0.] <-> [0.9406095  0.03611004 0.02328037]\n",
      "[1. 0. 0.] <-> [0.8727552  0.01843608 0.10880875]\n",
      "[1. 0. 0.] <-> [0.91206974 0.0454725  0.04245774]\n",
      "[1. 0. 0.] <-> [0.84288526 0.02214122 0.13497351]\n",
      "[1. 0. 0.] <-> [0.916584   0.04248672 0.04092931]\n",
      "[0. 0. 1.] <-> [0.55226636 0.02959804 0.4181356 ]\n",
      "[0. 1. 0.] <-> [0.05137679 0.93029934 0.01832383]\n",
      "[0. 0. 1.] <-> [0.8288715  0.02776629 0.14336222]\n",
      "[1. 0. 0.] <-> [0.9415446  0.02969423 0.02876113]\n",
      "[1. 0. 0.] <-> [0.9399899  0.03095786 0.02905214]\n",
      "[1. 0. 0.] <-> [0.93999076 0.03051195 0.02949725]\n",
      "[0. 1. 0.] <-> [0.28481886 0.68560904 0.02957207]\n",
      "[0. 0. 1.] <-> [0.13683055 0.02011484 0.84305465]\n",
      "[1. 0. 0.] <-> [0.9331255  0.04127473 0.02559975]\n",
      "[1. 0. 0.] <-> [0.9035322  0.06625933 0.03020852]\n",
      "[1. 0. 0.] <-> [0.91713077 0.04577069 0.03709859]\n",
      "[1. 0. 0.] <-> [0.9361574  0.01828125 0.04556142]\n",
      "[1. 0. 0.] <-> [0.8656324  0.07890321 0.05546441]\n",
      "[0. 1. 0.] <-> [0.05155443 0.93008286 0.01836276]\n",
      "[1. 0. 0.] <-> [0.9243586  0.04192904 0.03371244]\n",
      "[1. 0. 0.] <-> [0.94517845 0.02374132 0.03108022]\n",
      "[1. 0. 0.] <-> [0.9394161  0.03210533 0.02847852]\n",
      "[1. 0. 0.] <-> [0.9356189  0.01817364 0.04620747]\n",
      "[1. 0. 0.] <-> [0.8624743  0.08355482 0.05397086]\n",
      "[1. 0. 0.] <-> [0.9222845  0.05220191 0.02551359]\n",
      "[1. 0. 0.] <-> [0.9316414  0.04066374 0.02769492]\n",
      "[0. 1. 0.] <-> [0.65018725 0.31921053 0.03060221]\n",
      "[1. 0. 0.] <-> [0.9293466  0.03131362 0.0393397 ]\n",
      "[0. 1. 0.] <-> [0.30217144 0.6222091  0.07561954]\n",
      "[1. 0. 0.] <-> [0.93656963 0.02129372 0.04213669]\n",
      "[1. 0. 0.] <-> [0.6803897  0.23492895 0.08468139]\n",
      "[1. 0. 0.] <-> [0.93457127 0.02886435 0.03656437]\n",
      "[1. 0. 0.] <-> [0.8851625  0.01807093 0.09676649]\n",
      "[1. 0. 0.] <-> [0.703049   0.02318512 0.27376583]\n",
      "[1. 0. 0.] <-> [0.90565836 0.05015556 0.04418605]\n",
      "[1. 0. 0.] <-> [0.9261315  0.02634477 0.04752374]\n",
      "[0. 1. 0.] <-> [0.05302034 0.92853296 0.01844664]\n",
      "[0. 1. 0.] <-> [0.23541085 0.65975153 0.10483758]\n",
      "[1. 0. 0.] <-> [0.76826966 0.03987373 0.19185656]\n",
      "[0. 1. 0.] <-> [0.0637382  0.91419005 0.02207176]\n",
      "[0. 1. 0.] <-> [0.32873893 0.5594286  0.11183251]\n",
      "[1. 0. 0.] <-> [0.9386608  0.0372457  0.02409342]\n",
      "[1. 0. 0.] <-> [0.832733   0.10105213 0.0662149 ]\n",
      "[0. 0. 1.] <-> [0.21875857 0.00606118 0.7751802 ]\n",
      "[1. 0. 0.] <-> [0.9193945  0.03861982 0.04198573]\n",
      "[0. 0. 1.] <-> [0.21422616 0.00620522 0.7795686 ]\n",
      "[0. 0. 1.] <-> [0.02172577 0.0606278  0.9176464 ]\n",
      "[1. 0. 0.] <-> [0.8281756  0.1042659  0.06755845]\n",
      "[1. 0. 0.] <-> [0.91268575 0.05683345 0.03048079]\n",
      "[0. 0. 1.] <-> [0.14655335 0.01729011 0.8361565 ]\n",
      "[1. 0. 0.] <-> [0.92188126 0.02484355 0.05327511]\n",
      "[1. 0. 0.] <-> [0.79391706 0.14402936 0.06205358]\n",
      "[1. 0. 0.] <-> [0.82712895 0.01722517 0.15564585]\n",
      "[1. 0. 0.] <-> [0.89595085 0.02569676 0.07835234]\n",
      "[1. 0. 0.] <-> [0.8933852  0.02075392 0.08586092]\n",
      "[0. 0. 1.] <-> [0.02522659 0.05483241 0.919941  ]\n",
      "[1. 0. 0.] <-> [0.90664935 0.05194458 0.04140605]\n",
      "[0. 1. 0.] <-> [0.42176095 0.50385463 0.07438438]\n",
      "[1. 0. 0.] <-> [0.93159133 0.03339598 0.0350127 ]\n",
      "[1. 0. 0.] <-> [0.86849344 0.10070632 0.03080021]\n",
      "[1. 0. 0.] <-> [0.92200845 0.05595097 0.02204067]\n",
      "[0. 1. 0.] <-> [0.05109544 0.93067163 0.01823288]\n",
      "[1. 0. 0.] <-> [0.90554136 0.05688555 0.03757314]\n",
      "[1. 0. 0.] <-> [0.9018998  0.07274916 0.02535103]\n",
      "[0. 1. 0.] <-> [0.05093148 0.9308655  0.018203  ]\n",
      "[1. 0. 0.] <-> [0.67667484 0.2680932  0.05523194]\n",
      "[1. 0. 0.] <-> [0.8509302  0.02345858 0.12561122]\n",
      "[1. 0. 0.] <-> [0.9223727  0.01945239 0.0581749 ]\n",
      "[1. 0. 0.] <-> [0.9382699  0.02140716 0.04032287]\n",
      "[0. 0. 1.] <-> [0.20421593 0.00645301 0.7893311 ]\n",
      "[0. 1. 0.] <-> [0.09937114 0.87806785 0.02256094]\n",
      "[1. 0. 0.] <-> [0.93777055 0.04278006 0.01944943]\n",
      "[0. 0. 1.] <-> [0.13589242 0.02069569 0.84341186]\n",
      "[1. 0. 0.] <-> [0.9220539  0.04214166 0.03580453]\n",
      "[1. 0. 0.] <-> [0.92093974 0.06179266 0.0172676 ]\n",
      "[1. 0. 0.] <-> [0.8876691  0.01853733 0.09379352]\n",
      "[1. 0. 0.] <-> [0.9159367  0.04617618 0.03788704]\n",
      "[0. 1. 0.] <-> [0.42083645 0.5393818  0.03978173]\n",
      "[1. 0. 0.] <-> [0.9096292  0.07065156 0.01971922]\n",
      "[1. 0. 0.] <-> [0.87719834 0.0195736  0.1032281 ]\n",
      "[1. 0. 0.] <-> [0.9401278  0.01671707 0.04315508]\n",
      "[1. 0. 0.] <-> [0.926596   0.04275279 0.03065119]\n",
      "{'accuracy': 0.9753086419753086, 'mean_square_error': 0.08136841323611377, 'categorical_crossentropy': 0.19311887246591072, 'precision': 0.9629629629629629, 'recall': 0.9629629629629629, 'f1': 0.9629629629629629, 'essential_metrics': {0: {'tp_hit': 76, 'fp_hit': 4, 'tn_hit': 28, 'fn_hit': 0}, 1: {'tp_hit': 16, 'fp_hit': 0, 'tn_hit': 91, 'fn_hit': 1}, 2: {'tp_hit': 12, 'fp_hit': 0, 'tn_hit': 93, 'fn_hit': 3}}}\n"
     ]
    }
   ],
   "source": [
    "# recall phase\n",
    "score = model.evaluate(x_test, y_test, False)\n",
    "print(score)"
   ]
  },
  {
   "cell_type": "code",
   "execution_count": 12,
   "metadata": {},
   "outputs": [],
   "source": [
    "# Testing Performance"
   ]
  },
  {
   "cell_type": "code",
   "execution_count": 13,
   "metadata": {},
   "outputs": [
    {
     "data": {
      "image/png": "[encoded data removed]",
      "text/plain": [
       "<Figure size 864x360 with 1 Axes>"
      ]
     },
     "metadata": {
      "needs_background": "light"
     },
     "output_type": "display_data"
    },
    {
     "data": {
      "image/png": "[encoded data removed]",
      "text/plain": [
       "<Figure size 864x360 with 1 Axes>"
      ]
     },
     "metadata": {
      "needs_background": "light"
     },
     "output_type": "display_data"
    }
   ],
   "source": [
    "draw_plot(x = [[i for i in range(len(history))], [(i+1)*breakpoint for i in range(len(checkpoints))]], y_list = [history, [ ckp[model.loss_fn] for ckp in checkpoints ]], x_label = 'Epochs', \\\n",
    "    y_label = model.loss_fn, legend=['train', 'test'])\n",
    "acc = [ ckp['accuracy'] for ckp in checkpoints ]\n",
    "draw_plot(x = [[(i+1)*breakpoint for i in range(len(checkpoints))]], y_list = [acc], x_label = 'Checkpoints', \\\n",
    "    y_label = 'accuracy')"
   ]
  },
  {
   "cell_type": "code",
   "execution_count": 14,
   "metadata": {
    "scrolled": false
   },
   "outputs": [
    {
     "name": "stdout",
     "output_type": "stream",
     "text": [
      "{'accuracy': 0.9691358024691358, 'mean_square_error': 0.13361086330042327, 'categorical_crossentropy': 0.30124692563657407, 'precision': 0.9537037037037037, 'recall': 0.9537037037037037, 'f1': 0.9537037037037037, 'essential_metrics': {0: {'tp_hit': 75, 'fp_hit': 4, 'tn_hit': 28, 'fn_hit': 1}, 1: {'tp_hit': 16, 'fp_hit': 1, 'tn_hit': 90, 'fn_hit': 1}, 2: {'tp_hit': 12, 'fp_hit': 0, 'tn_hit': 93, 'fn_hit': 3}}, 'checkpoint': 100} \n",
      "\n",
      "\n",
      "{'accuracy': 0.9753086419753086, 'mean_square_error': 0.11290403785193147, 'categorical_crossentropy': 0.2637767791748047, 'precision': 0.9629629629629629, 'recall': 0.9629629629629629, 'f1': 0.9629629629629629, 'essential_metrics': {0: {'tp_hit': 76, 'fp_hit': 4, 'tn_hit': 28, 'fn_hit': 0}, 1: {'tp_hit': 16, 'fp_hit': 0, 'tn_hit': 91, 'fn_hit': 1}, 2: {'tp_hit': 12, 'fp_hit': 0, 'tn_hit': 93, 'fn_hit': 3}}, 'checkpoint': 200} \n",
      "\n",
      "\n",
      "{'accuracy': 0.9691358024691358, 'mean_square_error': 0.10075479755824412, 'categorical_crossentropy': 0.233889932985659, 'precision': 0.9537037037037037, 'recall': 0.9537037037037037, 'f1': 0.9537037037037037, 'essential_metrics': {0: {'tp_hit': 76, 'fp_hit': 5, 'tn_hit': 27, 'fn_hit': 0}, 1: {'tp_hit': 15, 'fp_hit': 0, 'tn_hit': 91, 'fn_hit': 2}, 2: {'tp_hit': 12, 'fp_hit': 0, 'tn_hit': 93, 'fn_hit': 3}}, 'checkpoint': 300} \n",
      "\n",
      "\n",
      "{'accuracy': 0.9753086419753086, 'mean_square_error': 0.0914468142461082, 'categorical_crossentropy': 0.21291444919727467, 'precision': 0.9629629629629629, 'recall': 0.9629629629629629, 'f1': 0.9629629629629629, 'essential_metrics': {0: {'tp_hit': 76, 'fp_hit': 4, 'tn_hit': 28, 'fn_hit': 0}, 1: {'tp_hit': 16, 'fp_hit': 0, 'tn_hit': 91, 'fn_hit': 1}, 2: {'tp_hit': 12, 'fp_hit': 0, 'tn_hit': 93, 'fn_hit': 3}}, 'checkpoint': 400} \n",
      "\n",
      "\n",
      "{'accuracy': 0.9753086419753086, 'mean_square_error': 0.08136841323611377, 'categorical_crossentropy': 0.19311887246591072, 'precision': 0.9629629629629629, 'recall': 0.9629629629629629, 'f1': 0.9629629629629629, 'essential_metrics': {0: {'tp_hit': 76, 'fp_hit': 4, 'tn_hit': 28, 'fn_hit': 0}, 1: {'tp_hit': 16, 'fp_hit': 0, 'tn_hit': 91, 'fn_hit': 1}, 2: {'tp_hit': 12, 'fp_hit': 0, 'tn_hit': 93, 'fn_hit': 3}}, 'checkpoint': 500} \n",
      "\n",
      "\n"
     ]
    }
   ],
   "source": [
    "for checkpoint in checkpoints:\n",
    "    print(checkpoint, '\\n\\n')"
   ]
  },
  {
   "cell_type": "code",
   "execution_count": 15,
   "metadata": {},
   "outputs": [
    {
     "name": "stdout",
     "output_type": "stream",
     "text": [
      "Layer 1\n",
      "Neuron 0: weights:\n",
      "[-2.7478216 -0.2228478  1.0835736 -0.6500977 -0.7708739]\n",
      " bias: -0.5681812167167664\n",
      "\n",
      "Neuron 1: weights:\n",
      "[-0.51232785  1.6831462   0.81193876  2.2488847  -2.5205014 ]\n",
      " bias: -2.2288851737976074\n",
      "\n",
      "Neuron 2: weights:\n",
      "[ 0.739675  -2.9934874 -1.159409   2.8350966  0.8204825]\n",
      " bias: -2.8028995990753174\n",
      "\n",
      "Neuron 3: weights:\n",
      "[-0.835625   2.8116088  1.8101825  2.3019521  1.7894967]\n",
      " bias: 0.3245898187160492\n",
      "\n",
      "$\n",
      "Layer 2\n",
      "Neuron 0: weights:\n",
      "[ 1.2162337 -1.8587093 -1.9233414 -0.3157773]\n",
      " bias: 2.995821714401245\n",
      "\n",
      "Neuron 1: weights:\n",
      "[ 1.9426179  2.8833013 -1.2410834  1.4211578]\n",
      " bias: -1.302059292793274\n",
      "\n",
      "Neuron 2: weights:\n",
      "[0.24137308 1.1799339  2.9978545  0.25780174]\n",
      " bias: -0.6692995429039001\n",
      "\n",
      "$\n",
      "\n"
     ]
    }
   ],
   "source": [
    "print(model)"
   ]
  }
 ],
 "metadata": {
  "kernelspec": {
   "display_name": "Python 3",
   "language": "python",
   "name": "python3"
  },
  "language_info": {
   "codemirror_mode": {
    "name": "ipython",
    "version": 3
   },
   "file_extension": ".py",
   "mimetype": "text/x-python",
   "name": "python",
   "nbconvert_exporter": "python",
   "pygments_lexer": "ipython3",
   "version": "3.6.12"
  }
 },
 "nbformat": 4,
 "nbformat_minor": 2
}
