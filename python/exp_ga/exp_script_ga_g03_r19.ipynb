{
 "cells": [
  {
   "cell_type": "code",
   "execution_count": 1,
   "metadata": {},
   "outputs": [],
   "source": [
    "# two"
   ]
  },
  {
   "cell_type": "code",
   "execution_count": 2,
   "metadata": {},
   "outputs": [],
   "source": [
    "# dependency\n",
    "import numpy as np\n",
    "import pandas as pd\n",
    "import copy\n",
    "import math\n",
    "import sys\n",
    "import os\n",
    "from activations import relu, leaky_relu, sigmoid, tanh, softmax, d_sigmoid, d_relu\n",
    "from initializers import glorot_uniform, random_normal, random_uniform\n",
    "from regularizers import l1_regularizer, l2_regularizer\n",
    "from utility import trim_tail, multiply, subtract, get_nparams, one_hot_encoding, get_data\n",
    "from metrics import MSE, CCE, ACC, PRECISION, RECALL, essential_metrics, wondering_penalty, close_gap_penalty\n",
    "from pso import PSO\n",
    "from ga import GA\n",
    "from nn import Network\n",
    "from layer import DenseLayer\n",
    "from scalers import MinMaxScaler, StandardScaler"
   ]
  },
  {
   "cell_type": "code",
   "execution_count": 3,
   "metadata": {},
   "outputs": [],
   "source": [
    "# reference\n",
    "metrics_fn_dict = dict()\n",
    "metrics_fn_dict['accuracy'] = ACC\n",
    "metrics_fn_dict['categorical_crossentropy'] = CCE\n",
    "metrics_fn_dict['mean_square_error'] = MSE\n",
    "metrics_fn_dict['precision'] = PRECISION\n",
    "metrics_fn_dict['recall'] = RECALL\n",
    "metrics_fn_dict['essential_metrics'] = essential_metrics"
   ]
  },
  {
   "cell_type": "code",
   "execution_count": 4,
   "metadata": {},
   "outputs": [],
   "source": [
    "# model\n",
    "model = Network(5, lr = None)\n",
    "model.add_layer(DenseLayer(1, 4, True, afn=sigmoid, dafn=None, rfn=None))\n",
    "model.add_layer(DenseLayer(2, 3, True, afn=softmax, dafn=None, rfn=None))"
   ]
  },
  {
   "cell_type": "code",
   "execution_count": 5,
   "metadata": {},
   "outputs": [],
   "source": [
    "# optimizer\n",
    "ga = GA(\n",
    "    dict(\n",
    "        m = 50,\n",
    "        x_rate = [0.5, 1.0],\n",
    "        m_rate = [0.5, 1.0],\n",
    "        weight_constraint = [-3.,3.],\n",
    "        radioactive_rating = [0.1, 0.5],\n",
    "        grow_factor = [0.1, 0.5],\n",
    "        scale_hyperparameter = False,\n",
    "        regularizer = l2_regularizer))"
   ]
  },
  {
   "cell_type": "code",
   "execution_count": 6,
   "metadata": {},
   "outputs": [
    {
     "name": "stdout",
     "output_type": "stream",
     "text": [
      "building layer 1 with 5\n",
      "24\n",
      "building layer 2 with 4\n",
      "15\n"
     ]
    }
   ],
   "source": [
    "model.compile(loss_fn = 'categorical_crossentropy', optimizer = ga, \\\n",
    "    metrics = ['accuracy', 'mean_square_error', 'categorical_crossentropy', 'precision', 'recall', 'f1'])"
   ]
  },
  {
   "cell_type": "code",
   "execution_count": 7,
   "metadata": {},
   "outputs": [
    {
     "name": "stdout",
     "output_type": "stream",
     "text": [
      "<class 'pandas.core.frame.DataFrame'>\n",
      "RangeIndex: 107 entries, 0 to 106\n",
      "Data columns (total 6 columns):\n",
      " #   Column  Non-Null Count  Dtype  \n",
      "---  ------  --------------  -----  \n",
      " 0   f1      107 non-null    float32\n",
      " 1   f2      107 non-null    float32\n",
      " 2   f3      107 non-null    float32\n",
      " 3   f4      107 non-null    float32\n",
      " 4   f5      107 non-null    float32\n",
      " 5   label   107 non-null    float32\n",
      "dtypes: float32(6)\n",
      "memory usage: 2.6 KB\n",
      "None\n",
      "<class 'pandas.core.frame.DataFrame'>\n",
      "RangeIndex: 108 entries, 0 to 107\n",
      "Data columns (total 6 columns):\n",
      " #   Column  Non-Null Count  Dtype  \n",
      "---  ------  --------------  -----  \n",
      " 0   f1      108 non-null    float32\n",
      " 1   f2      108 non-null    float32\n",
      " 2   f3      108 non-null    float32\n",
      " 3   f4      108 non-null    float32\n",
      " 4   f5      108 non-null    float32\n",
      " 5   label   108 non-null    float32\n",
      "dtypes: float32(6)\n",
      "memory usage: 2.7 KB\n",
      "None\n"
     ]
    }
   ],
   "source": [
    "# data loading\n",
    "DATA = os.path.join('c:\\\\Users\\\\tcumi\\\\github_repo\\\\neural-network\\\\', 'dataset')\n",
    "GROUP = 3\n",
    "COLUMNS = ['f1', 'f2', 'f3', 'f4', 'f5', 'label']\n",
    "N_CLASS = 3\n",
    "EPOCHS = 500\n",
    "train_dir, test_dir = \"..//dataset//training_data{}.txt\".format(GROUP), \"..//dataset//testing_data{}.txt\".format(GROUP)\n",
    "train, test = get_data(DATA, train_dir, COLUMNS), get_data(DATA, test_dir, COLUMNS)\n",
    "# shuffle\n",
    "train, test = train.sample(frac=1), test.sample(frac=1)\n",
    "x_train, y_train = train.drop('label', axis=1), train['label']\n",
    "x_test, y_test = test.drop('label', axis=1), test['label']"
   ]
  },
  {
   "cell_type": "code",
   "execution_count": 8,
   "metadata": {},
   "outputs": [],
   "source": [
    "# data scaling and encoding\n",
    "scaler = StandardScaler(['f1', 'f2', 'f3', 'f4', 'f5'])\n",
    "scaler.fit(x_train)\n",
    "x_train = scaler.transform(x_train)\n",
    "x_test = scaler.transform(x_test)\n",
    "y_train = one_hot_encoding(y_train, N_CLASS)\n",
    "y_test = one_hot_encoding(y_test, N_CLASS)"
   ]
  },
  {
   "cell_type": "code",
   "execution_count": 9,
   "metadata": {
    "scrolled": true,
    "tags": [
     "outputPrepend"
    ]
   },
   "outputs": [
    {
     "name": "stderr",
     "output_type": "stream",
     "text": [
      "C:\\Users\\tcumi\\Anaconda3\\envs\\py_3_6\\lib\\site-packages\\numpy\\core\\fromnumeric.py:87: VisibleDeprecationWarning: Creating an ndarray from ragged nested sequences (which is a list-or-tuple of lists-or-tuples-or ndarrays with different lengths or shapes) is deprecated. If you meant to do this, you must specify 'dtype=object' when creating the ndarray\n",
      "  return ufunc.reduce(obj, axis, dtype, out, **passkwargs)\n",
      "C:\\Users\\tcumi\\github_repo\\neural-network\\python\\ga.py:201: RuntimeWarning: overflow encountered in add\n",
      "  self.population.sort(key=lambda p: p.fitness + np.random.uniform(-shift, shift, 1), reverse = self.aim)\n",
      "C:\\Users\\tcumi\\Anaconda3\\envs\\py_3_6\\lib\\site-packages\\numpy\\core\\_asarray.py:136: VisibleDeprecationWarning: Creating an ndarray from ragged nested sequences (which is a list-or-tuple of lists-or-tuples-or ndarrays with different lengths or shapes) is deprecated. If you meant to do this, you must specify 'dtype=object' when creating the ndarray\n",
      "  return array(a, dtype, copy=False, order=order, subok=True)\n"
     ]
    },
    {
     "name": "stdout",
     "output_type": "stream",
     "text": [
      "Checkpoint 100, Accuracy: 0.8888888888888888, Loss: 0.4304941671865958\n",
      "Checkpoint 200, Accuracy: 0.8950617283950617, Loss: 0.4153702700579608\n",
      "Checkpoint 300, Accuracy: 0.8888888888888888, Loss: 0.4052832214920609\n",
      "Checkpoint 400, Accuracy: 0.8888888888888888, Loss: 0.3909232528121383\n",
      "Checkpoint 500, Accuracy: 0.8888888888888888, Loss: 0.3844627451013636\n"
     ]
    }
   ],
   "source": [
    "# learning phase\n",
    "breakpoint = 100\n",
    "checkpoints = list()\n",
    "history = list()\n",
    "for century in range(0, EPOCHS, breakpoint):\n",
    "    sub_history = model.fit(x_train, y_train, breakpoint, verbose = 0)\n",
    "    score = model.evaluate(x_test, y_test, False, verbose = 0)\n",
    "    print('Checkpoint {}, Accuracy: {}, Loss: {}'.format(century+breakpoint, score['accuracy'], score[model.loss_fn]))\n",
    "    score['checkpoint'] = century + breakpoint\n",
    "    checkpoints.append(score)\n",
    "    history.extend(sub_history)\n",
    "    itr = century + breakpoint\n",
    "    '''\n",
    "    model.optimizer.rr = model.optimizer.rr * 0.9\n",
    "    model.optimizer.gf = model.optimizer.gf * 0.9\n",
    "    model.optimizer.crossover_rate = model.optimizer.crossover_rate * 0.9\n",
    "    model.optimizer.mutation_rate = model.optimizer.mutation_rate * 1.1\n",
    "    '''\n",
    "    model.optimizer.rr = model.optimizer.radioactive_rating[1] - (model.optimizer.radioactive_rating[1] - model.optimizer.radioactive_rating[0]) / EPOCHS * (EPOCHS - itr)\n",
    "    model.optimizer.gf = model.optimizer.grow_factor[1] - (model.optimizer.grow_factor[1] - model.optimizer.grow_factor[0]) / EPOCHS * (EPOCHS - itr)\n",
    "    model.optimizer.crossover_rate = model.optimizer.x_rate[1] - (model.optimizer.x_rate[1] - model.optimizer.x_rate[0]) / EPOCHS * (EPOCHS - itr)\n",
    "    model.optimizer.mutation_rate = model.optimizer.m_rate[0] + (model.optimizer.m_rate[1] - model.optimizer.m_rate[0]) / EPOCHS * (EPOCHS - itr)\n",
    "    "
   ]
  },
  {
   "cell_type": "code",
   "execution_count": 10,
   "metadata": {},
   "outputs": [],
   "source": [
    "import matplotlib.pyplot as plt\n",
    "\n",
    "def draw_plot(x, y_list, x_label=None, y_label=None, legend=None, title=None):\n",
    "    fig, ax = plt.subplots(figsize=(12,5))\n",
    "    for xi, yi in zip(x, y_list):\n",
    "        ax.plot(xi, yi)\n",
    "    if x_label is not None and y_label is not None:\n",
    "        ax.set(xlabel=x_label, ylabel=y_label, title='{} VS {}'.format(x_label, y_label))\n",
    "    if legend is not None:\n",
    "        ax.legend(legend)\n",
    "    ax.grid()\n",
    "    plt.show()"
   ]
  },
  {
   "cell_type": "code",
   "execution_count": 11,
   "metadata": {},
   "outputs": [
    {
     "name": "stdout",
     "output_type": "stream",
     "text": [
      "[1. 0. 0.] <-> [0.8301351  0.08999237 0.0798725 ]\n",
      "[1. 0. 0.] <-> [0.76987314 0.13468838 0.09543841]\n",
      "[1. 0. 0.] <-> [0.8165138  0.10601965 0.07746653]\n",
      "[0. 1. 0.] <-> [0.50381815 0.4573814  0.03880043]\n",
      "[1. 0. 0.] <-> [0.83007354 0.03587992 0.13404644]\n",
      "[1. 0. 0.] <-> [0.8255063  0.11336437 0.06112933]\n",
      "[1. 0. 0.] <-> [0.77746964 0.0818724  0.14065796]\n",
      "[1. 0. 0.] <-> [0.87745166 0.05992478 0.06262363]\n",
      "[0. 1. 0.] <-> [0.27479878 0.6983739  0.02682726]\n",
      "[1. 0. 0.] <-> [0.83453965 0.09172577 0.07373463]\n",
      "[0. 1. 0.] <-> [0.59888464 0.36625698 0.03485842]\n",
      "[1. 0. 0.] <-> [0.7331538  0.19929186 0.06755437]\n",
      "[1. 0. 0.] <-> [0.79135245 0.13455507 0.07409251]\n",
      "[0. 1. 0.] <-> [0.6061938  0.34469646 0.04910978]\n",
      "[0. 0. 1.] <-> [0.20950463 0.02533422 0.7651611 ]\n",
      "[1. 0. 0.] <-> [0.8189878  0.11113486 0.0698773 ]\n",
      "[0. 1. 0.] <-> [0.48789972 0.4716258  0.04047454]\n",
      "[1. 0. 0.] <-> [0.71360296 0.2300731  0.05632397]\n",
      "[1. 0. 0.] <-> [0.7446017  0.21042778 0.04497048]\n",
      "[0. 0. 1.] <-> [0.5837412  0.03910522 0.37715358]\n",
      "[1. 0. 0.] <-> [0.83865994 0.04519507 0.11614496]\n",
      "[1. 0. 0.] <-> [0.8507784  0.05991959 0.08930203]\n",
      "[0. 0. 1.] <-> [0.5815171  0.01231109 0.40617183]\n",
      "[1. 0. 0.] <-> [0.8113132  0.0984743  0.09021252]\n",
      "[0. 1. 0.] <-> [0.2297147  0.7493944  0.02089089]\n",
      "[0. 1. 0.] <-> [0.34546888 0.6227513  0.03177984]\n",
      "[0. 0. 1.] <-> [0.5433417  0.01139493 0.44526336]\n",
      "[1. 0. 0.] <-> [0.7491468  0.1661536  0.08469962]\n",
      "[1. 0. 0.] <-> [0.6597465  0.06393929 0.27631417]\n",
      "[1. 0. 0.] <-> [0.83192337 0.11078877 0.05728784]\n",
      "[1. 0. 0.] <-> [0.79158175 0.14754656 0.06087171]\n",
      "[1. 0. 0.] <-> [0.7898159  0.07692507 0.13325895]\n",
      "[1. 0. 0.] <-> [0.7501037  0.18267035 0.06722594]\n",
      "[1. 0. 0.] <-> [0.8237698  0.08719358 0.08903659]\n",
      "[1. 0. 0.] <-> [0.75117266 0.19517025 0.05365717]\n",
      "[1. 0. 0.] <-> [0.8284226  0.06062486 0.1109526 ]\n",
      "[1. 0. 0.] <-> [0.76558626 0.15628672 0.07812706]\n",
      "[1. 0. 0.] <-> [0.8354945  0.10032275 0.06418271]\n",
      "[0. 0. 1.] <-> [0.69505346 0.0517006  0.25324595]\n",
      "[1. 0. 0.] <-> [0.7015022  0.2541597  0.04433812]\n",
      "[1. 0. 0.] <-> [0.85455585 0.0910606  0.05438351]\n",
      "[1. 0. 0.] <-> [0.8724601  0.04373712 0.08380269]\n",
      "[1. 0. 0.] <-> [0.8433635  0.06875683 0.08787972]\n",
      "[1. 0. 0.] <-> [0.8634524  0.06696501 0.06958261]\n",
      "[1. 0. 0.] <-> [0.85408366 0.05599838 0.089918  ]\n",
      "[1. 0. 0.] <-> [0.858786   0.06729548 0.0739185 ]\n",
      "[0. 1. 0.] <-> [0.22379026 0.7557899  0.02041988]\n",
      "[1. 0. 0.] <-> [0.72822225 0.21317151 0.0586062 ]\n",
      "[0. 0. 1.] <-> [0.8397534  0.02635263 0.13389403]\n",
      "[1. 0. 0.] <-> [0.7939124  0.12771389 0.07837368]\n",
      "[1. 0. 0.] <-> [0.83926636 0.1131115  0.04762216]\n",
      "[1. 0. 0.] <-> [0.8537689  0.04524963 0.10098145]\n",
      "[1. 0. 0.] <-> [0.83302104 0.09883986 0.06813905]\n",
      "[1. 0. 0.] <-> [0.8499451  0.08607582 0.0639791 ]\n",
      "[1. 0. 0.] <-> [0.76962966 0.07605988 0.15431036]\n",
      "[0. 0. 1.] <-> [0.610708   0.01213897 0.37715304]\n",
      "[0. 0. 1.] <-> [0.71465534 0.03499286 0.25035182]\n",
      "[1. 0. 0.] <-> [0.8210111  0.12177696 0.05721191]\n",
      "[1. 0. 0.] <-> [0.8530936  0.08460333 0.06230306]\n",
      "[0. 0. 1.] <-> [0.6783503  0.01360693 0.30804273]\n",
      "[1. 0. 0.] <-> [0.8415202  0.09003265 0.06844725]\n",
      "[1. 0. 0.] <-> [0.8345966  0.10583127 0.05957211]\n",
      "[0. 1. 0.] <-> [0.64858633 0.314099   0.03731466]\n",
      "[1. 0. 0.] <-> [0.82153463 0.06677467 0.11169068]\n",
      "[0. 0. 1.] <-> [0.82306105 0.04832462 0.12861425]\n",
      "[1. 0. 0.] <-> [0.7796177  0.15297684 0.06740543]\n",
      "[1. 0. 0.] <-> [0.78743774 0.15347739 0.0590849 ]\n",
      "[1. 0. 0.] <-> [0.820016   0.10954697 0.07043702]\n",
      "[1. 0. 0.] <-> [0.7882537  0.13983741 0.07190884]\n",
      "[1. 0. 0.] <-> [0.8094935  0.12813754 0.06236893]\n",
      "[1. 0. 0.] <-> [0.63923186 0.30957446 0.05119376]\n",
      "[1. 0. 0.] <-> [0.80929977 0.12951367 0.06118657]\n",
      "[1. 0. 0.] <-> [0.84281087 0.08166731 0.07552179]\n",
      "[1. 0. 0.] <-> [0.85889626 0.05990287 0.08120091]\n",
      "[1. 0. 0.] <-> [0.8672073  0.04441233 0.08838037]\n",
      "[1. 0. 0.] <-> [0.7671725  0.05537141 0.17745602]\n",
      "[1. 0. 0.] <-> [0.8618938  0.06053498 0.07757121]\n",
      "[0. 0. 1.] <-> [0.13085912 0.03435986 0.83478105]\n",
      "[1. 0. 0.] <-> [0.7746373  0.17365268 0.05171007]\n",
      "[1. 0. 0.] <-> [0.7215016  0.22552013 0.05297825]\n",
      "[0. 0. 1.] <-> [0.59869653 0.01276947 0.38853392]\n",
      "[1. 0. 0.] <-> [0.80927724 0.07925511 0.11146761]\n",
      "[1. 0. 0.] <-> [0.8635179  0.06898934 0.06749281]\n",
      "[1. 0. 0.] <-> [0.86597866 0.06359547 0.07042586]\n",
      "[0. 0. 1.] <-> [0.14890972 0.04344697 0.8076433 ]\n",
      "[0. 1. 0.] <-> [0.31434193 0.6549058  0.0307523 ]\n",
      "[1. 0. 0.] <-> [0.82074517 0.08672405 0.0925308 ]\n",
      "[0. 1. 0.] <-> [0.60927534 0.3584738  0.03225082]\n",
      "[1. 0. 0.] <-> [0.8289494  0.11944935 0.05160125]\n",
      "[1. 0. 0.] <-> [0.85567707 0.03542604 0.10889696]\n",
      "[1. 0. 0.] <-> [0.8125989  0.1187576  0.06864358]\n",
      "[1. 0. 0.] <-> [0.8350679  0.07349908 0.09143306]\n",
      "[1. 0. 0.] <-> [0.8028626  0.11628198 0.08085534]\n",
      "[0. 0. 1.] <-> [0.4250637  0.01847675 0.55645955]\n",
      "[1. 0. 0.] <-> [0.8160667  0.07580201 0.10813134]\n",
      "[1. 0. 0.] <-> [0.8726912  0.04116373 0.08614509]\n",
      "[0. 1. 0.] <-> [0.23930222 0.7377147  0.02298303]\n",
      "[1. 0. 0.] <-> [0.8363533  0.09903694 0.06460972]\n",
      "[1. 0. 0.] <-> [0.86073536 0.0714279  0.06783676]\n",
      "[1. 0. 0.] <-> [0.81105185 0.10128863 0.08765945]\n",
      "[1. 0. 0.] <-> [0.8577615  0.04396592 0.09827264]\n",
      "[1. 0. 0.] <-> [0.6729098  0.20446372 0.12262642]\n",
      "[1. 0. 0.] <-> [0.8490438  0.03588782 0.11506836]\n",
      "[0. 1. 0.] <-> [0.6552802  0.29047745 0.05424241]\n",
      "[0. 1. 0.] <-> [0.23037493 0.7471742  0.02245085]\n",
      "[0. 1. 0.] <-> [0.7009027  0.26192424 0.03717308]\n",
      "[0. 1. 0.] <-> [0.2230054  0.75643563 0.02055897]\n",
      "[1. 0. 0.] <-> [0.84714377 0.08533006 0.06752624]\n",
      "{'accuracy': 0.8888888888888888, 'mean_square_error': 0.2069291440337589, 'categorical_crossentropy': 0.3844627451013636, 'precision': 0.8333333333333334, 'recall': 0.8333333333333334, 'f1': 0.8333333333333334, 'essential_metrics': {0: {'tp_hit': 78, 'fp_hit': 18, 'tn_hit': 12, 'fn_hit': 0}, 1: {'tp_hit': 8, 'fp_hit': 0, 'tn_hit': 92, 'fn_hit': 8}, 2: {'tp_hit': 4, 'fp_hit': 0, 'tn_hit': 94, 'fn_hit': 10}}}\n"
     ]
    }
   ],
   "source": [
    "# recall phase\n",
    "score = model.evaluate(x_test, y_test, False)\n",
    "print(score)"
   ]
  },
  {
   "cell_type": "code",
   "execution_count": 12,
   "metadata": {},
   "outputs": [],
   "source": [
    "# Testing Performance"
   ]
  },
  {
   "cell_type": "code",
   "execution_count": 13,
   "metadata": {},
   "outputs": [
    {
     "name": "stderr",
     "output_type": "stream",
     "text": [
      "C:\\Users\\tcumi\\Anaconda3\\envs\\py_3_6\\lib\\site-packages\\numpy\\core\\_asarray.py:136: VisibleDeprecationWarning: Creating an ndarray from ragged nested sequences (which is a list-or-tuple of lists-or-tuples-or ndarrays with different lengths or shapes) is deprecated. If you meant to do this, you must specify 'dtype=object' when creating the ndarray\n",
      "  return array(a, dtype, copy=False, order=order, subok=True)\n"
     ]
    },
    {
     "data": {
      "image/png": "[encoded data removed]",
      "text/plain": [
       "<Figure size 864x360 with 1 Axes>"
      ]
     },
     "metadata": {
      "needs_background": "light"
     },
     "output_type": "display_data"
    },
    {
     "data": {
      "image/png": "[encoded data removed]",
      "text/plain": [
       "<Figure size 864x360 with 1 Axes>"
      ]
     },
     "metadata": {
      "needs_background": "light"
     },
     "output_type": "display_data"
    }
   ],
   "source": [
    "draw_plot(x = [[i for i in range(len(history))], [(i+1)*breakpoint for i in range(len(checkpoints))]], y_list = [history, [ ckp[model.loss_fn] for ckp in checkpoints ]], x_label = 'Epochs', \\\n",
    "    y_label = model.loss_fn, legend=['train', 'test'])\n",
    "acc = [ ckp['accuracy'] for ckp in checkpoints ]\n",
    "draw_plot(x = [[(i+1)*breakpoint for i in range(len(checkpoints))]], y_list = [acc], x_label = 'Checkpoints', \\\n",
    "    y_label = 'accuracy')"
   ]
  },
  {
   "cell_type": "code",
   "execution_count": 14,
   "metadata": {
    "scrolled": false
   },
   "outputs": [
    {
     "name": "stdout",
     "output_type": "stream",
     "text": [
      "{'accuracy': 0.8888888888888888, 'mean_square_error': 0.2362897584251705, 'categorical_crossentropy': 0.4304941671865958, 'precision': 0.8333333333333334, 'recall': 0.8333333333333334, 'f1': 0.8333333333333334, 'essential_metrics': {0: {'tp_hit': 78, 'fp_hit': 18, 'tn_hit': 12, 'fn_hit': 0}, 1: {'tp_hit': 9, 'fp_hit': 0, 'tn_hit': 92, 'fn_hit': 7}, 2: {'tp_hit': 3, 'fp_hit': 0, 'tn_hit': 94, 'fn_hit': 11}}, 'checkpoint': 100} \n",
      "\n",
      "\n",
      "{'accuracy': 0.8950617283950617, 'mean_square_error': 0.22649086309413496, 'categorical_crossentropy': 0.4153702700579608, 'precision': 0.8425925925925926, 'recall': 0.8425925925925926, 'f1': 0.8425925925925926, 'essential_metrics': {0: {'tp_hit': 78, 'fp_hit': 17, 'tn_hit': 13, 'fn_hit': 0}, 1: {'tp_hit': 9, 'fp_hit': 0, 'tn_hit': 92, 'fn_hit': 7}, 2: {'tp_hit': 4, 'fp_hit': 0, 'tn_hit': 94, 'fn_hit': 10}}, 'checkpoint': 200} \n",
      "\n",
      "\n",
      "{'accuracy': 0.8888888888888888, 'mean_square_error': 0.22060687600148293, 'categorical_crossentropy': 0.4052832214920609, 'precision': 0.8333333333333334, 'recall': 0.8333333333333334, 'f1': 0.8333333333333334, 'essential_metrics': {0: {'tp_hit': 78, 'fp_hit': 18, 'tn_hit': 12, 'fn_hit': 0}, 1: {'tp_hit': 9, 'fp_hit': 0, 'tn_hit': 92, 'fn_hit': 7}, 2: {'tp_hit': 3, 'fp_hit': 0, 'tn_hit': 94, 'fn_hit': 11}}, 'checkpoint': 300} \n",
      "\n",
      "\n",
      "{'accuracy': 0.8888888888888888, 'mean_square_error': 0.21007913163032943, 'categorical_crossentropy': 0.3909232528121383, 'precision': 0.8333333333333334, 'recall': 0.8333333333333334, 'f1': 0.8333333333333334, 'essential_metrics': {0: {'tp_hit': 78, 'fp_hit': 18, 'tn_hit': 12, 'fn_hit': 0}, 1: {'tp_hit': 8, 'fp_hit': 0, 'tn_hit': 92, 'fn_hit': 8}, 2: {'tp_hit': 4, 'fp_hit': 0, 'tn_hit': 94, 'fn_hit': 10}}, 'checkpoint': 400} \n",
      "\n",
      "\n",
      "{'accuracy': 0.8888888888888888, 'mean_square_error': 0.2069291440337589, 'categorical_crossentropy': 0.3844627451013636, 'precision': 0.8333333333333334, 'recall': 0.8333333333333334, 'f1': 0.8333333333333334, 'essential_metrics': {0: {'tp_hit': 78, 'fp_hit': 18, 'tn_hit': 12, 'fn_hit': 0}, 1: {'tp_hit': 8, 'fp_hit': 0, 'tn_hit': 92, 'fn_hit': 8}, 2: {'tp_hit': 4, 'fp_hit': 0, 'tn_hit': 94, 'fn_hit': 10}}, 'checkpoint': 500} \n",
      "\n",
      "\n"
     ]
    }
   ],
   "source": [
    "for checkpoint in checkpoints:\n",
    "    print(checkpoint, '\\n\\n')"
   ]
  },
  {
   "cell_type": "code",
   "execution_count": 15,
   "metadata": {},
   "outputs": [
    {
     "name": "stdout",
     "output_type": "stream",
     "text": [
      "Layer 1\n",
      "Neuron 0: weights:\n",
      "[-0.42940807  0.8645006   0.2018605  -0.5550379  -0.5896436 ]\n",
      " bias: 0.4762560725212097\n",
      "\n",
      "Neuron 1: weights:\n",
      "[ 0.2712772  -0.66208893 -0.08440129  0.55648637  0.7818389 ]\n",
      " bias: -0.523216962814331\n",
      "\n",
      "Neuron 2: weights:\n",
      "[ 0.48937005 -0.81340826 -0.5970404   0.1463255   0.25460362]\n",
      " bias: 0.09325039386749268\n",
      "\n",
      "Neuron 3: weights:\n",
      "[ 0.47468245 -0.83222574 -0.95892596 -1.0238805  -0.7686864 ]\n",
      " bias: 0.18457722663879395\n",
      "\n",
      "$\n",
      "Layer 2\n",
      "Neuron 0: weights:\n",
      "[ 0.4911516  -0.5907553   0.28060192  1.757753  ]\n",
      " bias: 0.08852776139974594\n",
      "\n",
      "Neuron 1: weights:\n",
      "[ 1.369733  -0.7056465 -1.1990635 -1.3349963]\n",
      " bias: 0.4474509656429291\n",
      "\n",
      "Neuron 2: weights:\n",
      "[-1.6477058  1.3446375  0.667165  -0.3858293]\n",
      " bias: -0.19415618479251862\n",
      "\n",
      "$\n",
      "\n"
     ]
    }
   ],
   "source": [
    "print(model)"
   ]
  }
 ],
 "metadata": {
  "kernelspec": {
   "display_name": "Python 3",
   "language": "python",
   "name": "python3"
  },
  "language_info": {
   "codemirror_mode": {
    "name": "ipython",
    "version": 3
   },
   "file_extension": ".py",
   "mimetype": "text/x-python",
   "name": "python",
   "nbconvert_exporter": "python",
   "pygments_lexer": "ipython3",
   "version": "3.6.10"
  }
 },
 "nbformat": 4,
 "nbformat_minor": 2
}
