{
 "cells": [
  {
   "cell_type": "code",
   "execution_count": 1,
   "metadata": {},
   "outputs": [],
   "source": [
    "# single"
   ]
  },
  {
   "cell_type": "code",
   "execution_count": 2,
   "metadata": {},
   "outputs": [],
   "source": [
    "# dependency\n",
    "import numpy as np\n",
    "import pandas as pd\n",
    "import copy\n",
    "import math\n",
    "import sys\n",
    "import os\n",
    "from activations import relu, leaky_relu, sigmoid, tanh, softmax, d_sigmoid, d_relu\n",
    "from initializers import glorot_uniform, random_normal, random_uniform\n",
    "from regularizers import l1_regularizer, l2_regularizer\n",
    "from utility import trim_tail, multiply, subtract, get_nparams, one_hot_encoding, get_data\n",
    "from metrics import MSE, CCE, ACC, PRECISION, RECALL, essential_metrics, wondering_penalty, close_gap_penalty\n",
    "from pso import PSO\n",
    "from ga import GA\n",
    "from nn import Network\n",
    "from layer import DenseLayer\n",
    "from scalers import MinMaxScaler, StandardScaler"
   ]
  },
  {
   "cell_type": "code",
   "execution_count": 3,
   "metadata": {},
   "outputs": [],
   "source": [
    "# reference\n",
    "metrics_fn_dict = dict()\n",
    "metrics_fn_dict['accuracy'] = ACC\n",
    "metrics_fn_dict['categorical_crossentropy'] = CCE\n",
    "metrics_fn_dict['mean_square_error'] = MSE\n",
    "metrics_fn_dict['precision'] = PRECISION\n",
    "metrics_fn_dict['recall'] = RECALL\n",
    "metrics_fn_dict['essential_metrics'] = essential_metrics"
   ]
  },
  {
   "cell_type": "code",
   "execution_count": 4,
   "metadata": {},
   "outputs": [],
   "source": [
    "# model\n",
    "model = Network(5, lr = None)\n",
    "model.add_layer(DenseLayer(1, 4, True, afn=sigmoid, dafn=None, rfn=None))\n",
    "model.add_layer(DenseLayer(2, 3, True, afn=softmax, dafn=None, rfn=None))"
   ]
  },
  {
   "cell_type": "code",
   "execution_count": 5,
   "metadata": {},
   "outputs": [],
   "source": [
    "# optimizer\n",
    "ga = GA(\n",
    "    dict(\n",
    "        m = 50,\n",
    "        x_rate = 0.5,\n",
    "        m_rate = 0.5,\n",
    "        weight_constraint = [-3.,3.],\n",
    "        radioactive_rating = 0.1,\n",
    "        grow_factor = 0.1,\n",
    "        scale_hyperparameter = False,\n",
    "        regularizer = None))"
   ]
  },
  {
   "cell_type": "code",
   "execution_count": 6,
   "metadata": {},
   "outputs": [
    {
     "name": "stdout",
     "output_type": "stream",
     "text": [
      "building layer 1 with 5\n",
      "24\n",
      "building layer 2 with 4\n",
      "15\n"
     ]
    }
   ],
   "source": [
    "model.compile(loss_fn = 'categorical_crossentropy', optimizer = ga, \\\n",
    "    metrics = ['accuracy', 'mean_square_error', 'categorical_crossentropy', 'precision', 'recall', 'f1'])"
   ]
  },
  {
   "cell_type": "code",
   "execution_count": 7,
   "metadata": {},
   "outputs": [
    {
     "name": "stdout",
     "output_type": "stream",
     "text": [
      "<class 'pandas.core.frame.DataFrame'>\n",
      "RangeIndex: 107 entries, 0 to 106\n",
      "Data columns (total 6 columns):\n",
      " #   Column  Non-Null Count  Dtype  \n",
      "---  ------  --------------  -----  \n",
      " 0   f1      107 non-null    float32\n",
      " 1   f2      107 non-null    float32\n",
      " 2   f3      107 non-null    float32\n",
      " 3   f4      107 non-null    float32\n",
      " 4   f5      107 non-null    float32\n",
      " 5   label   107 non-null    float32\n",
      "dtypes: float32(6)\n",
      "memory usage: 2.6 KB\n",
      "None\n",
      "<class 'pandas.core.frame.DataFrame'>\n",
      "RangeIndex: 108 entries, 0 to 107\n",
      "Data columns (total 6 columns):\n",
      " #   Column  Non-Null Count  Dtype  \n",
      "---  ------  --------------  -----  \n",
      " 0   f1      108 non-null    float32\n",
      " 1   f2      108 non-null    float32\n",
      " 2   f3      108 non-null    float32\n",
      " 3   f4      108 non-null    float32\n",
      " 4   f5      108 non-null    float32\n",
      " 5   label   108 non-null    float32\n",
      "dtypes: float32(6)\n",
      "memory usage: 2.7 KB\n",
      "None\n"
     ]
    }
   ],
   "source": [
    "# data loading\n",
    "DATA = os.path.join('c:\\\\Users\\\\tcumi\\\\github_repo\\\\neural-network\\\\', 'dataset')\n",
    "GROUP = 3\n",
    "COLUMNS = ['f1', 'f2', 'f3', 'f4', 'f5', 'label']\n",
    "N_CLASS = 3\n",
    "EPOCHS = 500\n",
    "train_dir, test_dir = \"..//dataset//training_data{}.txt\".format(GROUP), \"..//dataset//testing_data{}.txt\".format(GROUP)\n",
    "train, test = get_data(DATA, train_dir, COLUMNS), get_data(DATA, test_dir, COLUMNS)\n",
    "# shuffle\n",
    "train, test = train.sample(frac=1), test.sample(frac=1)\n",
    "x_train, y_train = train.drop('label', axis=1), train['label']\n",
    "x_test, y_test = test.drop('label', axis=1), test['label']"
   ]
  },
  {
   "cell_type": "code",
   "execution_count": 8,
   "metadata": {},
   "outputs": [],
   "source": [
    "# data scaling and encoding\n",
    "scaler = StandardScaler(['f1', 'f2', 'f3', 'f4', 'f5'])\n",
    "scaler.fit(x_train)\n",
    "x_train = scaler.transform(x_train)\n",
    "x_test = scaler.transform(x_test)\n",
    "y_train = one_hot_encoding(y_train, N_CLASS)\n",
    "y_test = one_hot_encoding(y_test, N_CLASS)"
   ]
  },
  {
   "cell_type": "code",
   "execution_count": 9,
   "metadata": {
    "scrolled": true,
    "tags": [
     "outputPrepend"
    ]
   },
   "outputs": [
    {
     "name": "stderr",
     "output_type": "stream",
     "text": [
      "C:\\Users\\tcumi\\github_repo\\neural-network\\python\\ga.py:201: RuntimeWarning: overflow encountered in add\n",
      "  self.population.sort(key=lambda p: p.fitness + np.random.uniform(-shift, shift, 1), reverse = self.aim)\n"
     ]
    },
    {
     "name": "stdout",
     "output_type": "stream",
     "text": [
      "Checkpoint 100, Accuracy: 0.9259259259259259, Loss: 0.3978138323183413\n",
      "Checkpoint 200, Accuracy: 0.9135802469135802, Loss: 0.3607013843677662\n",
      "Checkpoint 300, Accuracy: 0.9320987654320988, Loss: 0.3414560247350622\n",
      "Checkpoint 400, Accuracy: 0.9506172839506173, Loss: 0.32259566695601855\n",
      "Checkpoint 500, Accuracy: 0.9567901234567902, Loss: 0.3069814752649378\n"
     ]
    }
   ],
   "source": [
    "# learning phase\n",
    "breakpoint = 100\n",
    "checkpoints = list()\n",
    "history = list()\n",
    "for century in range(0, EPOCHS, breakpoint):\n",
    "    sub_history = model.fit(x_train, y_train, breakpoint, verbose = 0)\n",
    "    score = model.evaluate(x_test, y_test, False, verbose = 0)\n",
    "    print('Checkpoint {}, Accuracy: {}, Loss: {}'.format(century+breakpoint, score['accuracy'], score[model.loss_fn]))\n",
    "    score['checkpoint'] = century + breakpoint\n",
    "    checkpoints.append(score)\n",
    "    history.extend(sub_history)\n",
    "    "
   ]
  },
  {
   "cell_type": "code",
   "execution_count": 10,
   "metadata": {},
   "outputs": [],
   "source": [
    "import matplotlib.pyplot as plt\n",
    "\n",
    "def draw_plot(x, y_list, x_label=None, y_label=None, legend=None, title=None):\n",
    "    fig, ax = plt.subplots(figsize=(12,5))\n",
    "    for xi, yi in zip(x, y_list):\n",
    "        ax.plot(xi, yi)\n",
    "    if x_label is not None and y_label is not None:\n",
    "        ax.set(xlabel=x_label, ylabel=y_label, title='{} VS {}'.format(x_label, y_label))\n",
    "    if legend is not None:\n",
    "        ax.legend(legend)\n",
    "    ax.grid()\n",
    "    plt.show()"
   ]
  },
  {
   "cell_type": "code",
   "execution_count": 11,
   "metadata": {},
   "outputs": [
    {
     "name": "stdout",
     "output_type": "stream",
     "text": [
      "[1. 0. 0.] <-> [0.95200485 0.02226883 0.02572635]\n",
      "[0. 1. 0.] <-> [0.42818516 0.557643   0.01417177]\n",
      "[1. 0. 0.] <-> [0.89963895 0.0610998  0.03926124]\n",
      "[1. 0. 0.] <-> [0.8547311  0.10256071 0.04270824]\n",
      "[1. 0. 0.] <-> [0.8193018  0.16293077 0.01776746]\n",
      "[1. 0. 0.] <-> [0.9360139  0.04134678 0.02263931]\n",
      "[1. 0. 0.] <-> [0.92928404 0.03884505 0.03187087]\n",
      "[1. 0. 0.] <-> [0.9231438  0.06167205 0.01518408]\n",
      "[0. 1. 0.] <-> [0.4246921  0.5298856  0.04542226]\n",
      "[0. 0. 1.] <-> [0.11254062 0.02623722 0.86122215]\n",
      "[0. 1. 0.] <-> [0.47459713 0.5187189  0.00668399]\n",
      "[0. 1. 0.] <-> [0.13170978 0.8612062  0.00708396]\n",
      "[0. 1. 0.] <-> [0.13410302 0.85927397 0.00662303]\n",
      "[1. 0. 0.] <-> [0.946404   0.0401737  0.01342233]\n",
      "[1. 0. 0.] <-> [0.932141   0.04268222 0.0251768 ]\n",
      "[1. 0. 0.] <-> [0.87981135 0.06546471 0.0547239 ]\n",
      "[1. 0. 0.] <-> [0.71789813 0.27251348 0.00958839]\n",
      "[1. 0. 0.] <-> [0.8261496  0.15989155 0.01395893]\n",
      "[0. 0. 1.] <-> [0.6772402  0.02293696 0.2998228 ]\n",
      "[1. 0. 0.] <-> [0.94997287 0.02204421 0.02798297]\n",
      "[1. 0. 0.] <-> [0.9399482  0.04803817 0.01201362]\n",
      "[1. 0. 0.] <-> [0.92760056 0.04601561 0.02638381]\n",
      "[1. 0. 0.] <-> [0.89465195 0.07905143 0.02629668]\n",
      "[1. 0. 0.] <-> [0.9425237  0.03351479 0.02396146]\n",
      "[1. 0. 0.] <-> [0.7027647 0.1462431 0.1509922]\n",
      "[0. 1. 0.] <-> [0.3893658  0.6065874  0.00404683]\n",
      "[0. 1. 0.] <-> [0.15110968 0.84041405 0.00847625]\n",
      "[1. 0. 0.] <-> [0.91381323 0.04854314 0.03764355]\n",
      "[1. 0. 0.] <-> [0.8675948  0.10866621 0.02373898]\n",
      "[0. 1. 0.] <-> [0.12309037 0.86704826 0.00986138]\n",
      "[1. 0. 0.] <-> [0.9479348  0.02904422 0.02302103]\n",
      "[1. 0. 0.] <-> [0.5331075  0.26613536 0.20075716]\n",
      "[1. 0. 0.] <-> [0.8898699  0.08127434 0.02885581]\n",
      "[1. 0. 0.] <-> [0.9302255  0.03328202 0.03649253]\n",
      "[0. 0. 1.] <-> [0.34600097 0.04104671 0.6129523 ]\n",
      "[1. 0. 0.] <-> [0.73136485 0.13914484 0.1294903 ]\n",
      "[1. 0. 0.] <-> [0.85825574 0.06108549 0.08065873]\n",
      "[1. 0. 0.] <-> [0.9366985  0.02911304 0.03418845]\n",
      "[1. 0. 0.] <-> [0.8641022  0.0906667  0.04523117]\n",
      "[1. 0. 0.] <-> [0.9394522  0.0345405  0.02600732]\n",
      "[0. 0. 1.] <-> [0.6130329  0.02263486 0.36433226]\n",
      "[0. 0. 1.] <-> [0.9083911  0.02379938 0.06780954]\n",
      "[1. 0. 0.] <-> [0.9039676  0.0691785  0.02685396]\n",
      "[1. 0. 0.] <-> [0.4679845  0.06583811 0.46617743]\n",
      "[1. 0. 0.] <-> [0.8113705  0.15771185 0.03091768]\n",
      "[0. 1. 0.] <-> [0.14699686 0.84560645 0.00739668]\n",
      "[1. 0. 0.] <-> [0.5046999  0.47836587 0.01693428]\n",
      "[1. 0. 0.] <-> [0.88478273 0.06455675 0.05066057]\n",
      "[1. 0. 0.] <-> [0.85952955 0.09852741 0.04194295]\n",
      "[1. 0. 0.] <-> [0.93444633 0.04345473 0.02209898]\n",
      "[1. 0. 0.] <-> [0.88988334 0.08637834 0.02373834]\n",
      "[0. 0. 1.] <-> [0.7752878  0.03780603 0.18690616]\n",
      "[1. 0. 0.] <-> [0.92161167 0.03041124 0.04797712]\n",
      "[1. 0. 0.] <-> [0.945981   0.02330341 0.03071549]\n",
      "[1. 0. 0.] <-> [0.93339175 0.03524142 0.03136678]\n",
      "[1. 0. 0.] <-> [0.9456295  0.02804112 0.02632943]\n",
      "[1. 0. 0.] <-> [0.94398093 0.02505822 0.03096089]\n",
      "[1. 0. 0.] <-> [0.8841758  0.09117778 0.02464649]\n",
      "[0. 0. 1.] <-> [0.14644875 0.03566162 0.81788963]\n",
      "[1. 0. 0.] <-> [0.6596285 0.3091459 0.0312256]\n",
      "[1. 0. 0.] <-> [0.8068188  0.1520526  0.04112866]\n",
      "[1. 0. 0.] <-> [0.7216379  0.08650157 0.19186047]\n",
      "[1. 0. 0.] <-> [0.8322355  0.05951038 0.1082541 ]\n",
      "[1. 0. 0.] <-> [0.9214376  0.06801425 0.01054808]\n",
      "[0. 1. 0.] <-> [0.5907884  0.4027671  0.00644445]\n",
      "[1. 0. 0.] <-> [0.64986104 0.34076425 0.00937476]\n",
      "[1. 0. 0.] <-> [0.943544   0.03862046 0.01783556]\n",
      "[1. 0. 0.] <-> [0.93205017 0.02522127 0.04272858]\n",
      "[0. 0. 1.] <-> [0.1269004  0.02462889 0.84847075]\n",
      "[0. 0. 1.] <-> [0.27567166 0.04389706 0.6804313 ]\n",
      "[1. 0. 0.] <-> [0.92109567 0.05357263 0.02533175]\n",
      "[1. 0. 0.] <-> [0.77994704 0.15538834 0.06466459]\n",
      "[1. 0. 0.] <-> [0.92877865 0.02723116 0.04399022]\n",
      "[0. 1. 0.] <-> [0.20077091 0.78585696 0.01337206]\n",
      "[0. 0. 1.] <-> [0.14235194 0.03337371 0.82427436]\n",
      "[1. 0. 0.] <-> [0.66355985 0.07411039 0.26232976]\n",
      "[1. 0. 0.] <-> [0.90613353 0.02431055 0.06955593]\n",
      "[1. 0. 0.] <-> [0.93374395 0.02939084 0.03686517]\n",
      "[1. 0. 0.] <-> [0.85866046 0.08599259 0.05534689]\n",
      "[1. 0. 0.] <-> [0.9396584  0.03556498 0.02477661]\n",
      "[1. 0. 0.] <-> [0.9015604  0.05007605 0.04836347]\n",
      "[0. 1. 0.] <-> [0.12777995 0.86370474 0.00851538]\n",
      "[1. 0. 0.] <-> [0.8972446  0.07557632 0.02717901]\n",
      "[1. 0. 0.] <-> [0.7688148  0.2051288  0.02605646]\n",
      "[1. 0. 0.] <-> [0.89909834 0.07548656 0.02541511]\n",
      "[1. 0. 0.] <-> [0.7196426  0.24874388 0.0316135 ]\n",
      "[0. 1. 0.] <-> [0.12708162 0.8644327  0.00848569]\n",
      "[0. 0. 1.] <-> [0.9230816  0.02142035 0.05549808]\n",
      "[1. 0. 0.] <-> [0.90637946 0.05999026 0.03363031]\n",
      "[1. 0. 0.] <-> [0.7881396  0.05800748 0.15385288]\n",
      "[1. 0. 0.] <-> [0.8643381  0.08171659 0.05394527]\n",
      "[0. 0. 1.] <-> [0.4759095  0.02668129 0.49740914]\n",
      "[1. 0. 0.] <-> [0.9536236  0.02711844 0.019258  ]\n",
      "[1. 0. 0.] <-> [0.662467   0.31755593 0.01997703]\n",
      "[0. 1. 0.] <-> [0.23894994 0.752278   0.00877211]\n",
      "[1. 0. 0.] <-> [0.92236227 0.04075586 0.03688195]\n",
      "[0. 0. 1.] <-> [0.17772591 0.02219182 0.80008227]\n",
      "[1. 0. 0.] <-> [0.94921845 0.0275373  0.02324418]\n",
      "[1. 0. 0.] <-> [0.56485015 0.05637634 0.3787735 ]\n",
      "[1. 0. 0.] <-> [0.88058364 0.04742244 0.07199398]\n",
      "[0. 0. 1.] <-> [0.48258832 0.02351844 0.49389327]\n",
      "[0. 1. 0.] <-> [0.13323505 0.8585585  0.00820652]\n",
      "[1. 0. 0.] <-> [0.18813393 0.05144048 0.7604256 ]\n",
      "[1. 0. 0.] <-> [0.8508148  0.12717387 0.02201124]\n",
      "[1. 0. 0.] <-> [0.7430657  0.2396687  0.01726551]\n",
      "[0. 1. 0.] <-> [0.45580027 0.53960526 0.00459452]\n",
      "[1. 0. 0.] <-> [0.86236525 0.07759966 0.06003509]\n",
      "[1. 0. 0.] <-> [0.85276854 0.07946932 0.06776212]\n",
      "{'accuracy': 0.9567901234567902, 'mean_square_error': 0.15834047178503521, 'categorical_crossentropy': 0.3069814752649378, 'precision': 0.9351851851851852, 'recall': 0.9351851851851852, 'f1': 0.9351851851851852, 'essential_metrics': {0: {'tp_hit': 77, 'fp_hit': 6, 'tn_hit': 24, 'fn_hit': 1}, 1: {'tp_hit': 15, 'fp_hit': 0, 'tn_hit': 92, 'fn_hit': 1}, 2: {'tp_hit': 9, 'fp_hit': 1, 'tn_hit': 93, 'fn_hit': 5}}}\n"
     ]
    }
   ],
   "source": [
    "# recall phase\n",
    "score = model.evaluate(x_test, y_test, False)\n",
    "print(score)"
   ]
  },
  {
   "cell_type": "code",
   "execution_count": 12,
   "metadata": {},
   "outputs": [],
   "source": [
    "# Testing Performance"
   ]
  },
  {
   "cell_type": "code",
   "execution_count": 13,
   "metadata": {},
   "outputs": [
    {
     "data": {
      "image/png": "[encoded data removed]",
      "text/plain": [
       "<Figure size 864x360 with 1 Axes>"
      ]
     },
     "metadata": {
      "needs_background": "light"
     },
     "output_type": "display_data"
    },
    {
     "data": {
      "image/png": "[encoded data removed]",
      "text/plain": [
       "<Figure size 864x360 with 1 Axes>"
      ]
     },
     "metadata": {
      "needs_background": "light"
     },
     "output_type": "display_data"
    }
   ],
   "source": [
    "draw_plot(x = [[i for i in range(len(history))], [(i+1)*breakpoint for i in range(len(checkpoints))]], y_list = [history, [ ckp[model.loss_fn] for ckp in checkpoints ]], x_label = 'Epochs', \\\n",
    "    y_label = model.loss_fn, legend=['train', 'test'])\n",
    "acc = [ ckp['accuracy'] for ckp in checkpoints ]\n",
    "draw_plot(x = [[(i+1)*breakpoint for i in range(len(checkpoints))]], y_list = [acc], x_label = 'Checkpoints', \\\n",
    "    y_label = 'accuracy')"
   ]
  },
  {
   "cell_type": "code",
   "execution_count": 14,
   "metadata": {
    "scrolled": false
   },
   "outputs": [
    {
     "name": "stdout",
     "output_type": "stream",
     "text": [
      "{'accuracy': 0.9259259259259259, 'mean_square_error': 0.21365632790581676, 'categorical_crossentropy': 0.3978138323183413, 'precision': 0.8888888888888888, 'recall': 0.8888888888888888, 'f1': 0.8888888888888888, 'essential_metrics': {0: {'tp_hit': 75, 'fp_hit': 9, 'tn_hit': 21, 'fn_hit': 3}, 1: {'tp_hit': 10, 'fp_hit': 0, 'tn_hit': 92, 'fn_hit': 6}, 2: {'tp_hit': 11, 'fp_hit': 3, 'tn_hit': 91, 'fn_hit': 3}}, 'checkpoint': 100} \n",
      "\n",
      "\n",
      "{'accuracy': 0.9135802469135802, 'mean_square_error': 0.19258958412588587, 'categorical_crossentropy': 0.3607013843677662, 'precision': 0.8703703703703703, 'recall': 0.8703703703703703, 'f1': 0.8703703703703703, 'essential_metrics': {0: {'tp_hit': 75, 'fp_hit': 11, 'tn_hit': 19, 'fn_hit': 3}, 1: {'tp_hit': 10, 'fp_hit': 0, 'tn_hit': 92, 'fn_hit': 6}, 2: {'tp_hit': 9, 'fp_hit': 3, 'tn_hit': 91, 'fn_hit': 5}}, 'checkpoint': 200} \n",
      "\n",
      "\n",
      "{'accuracy': 0.9320987654320988, 'mean_square_error': 0.17501394506059617, 'categorical_crossentropy': 0.3414560247350622, 'precision': 0.8981481481481481, 'recall': 0.8981481481481481, 'f1': 0.8981481481481481, 'essential_metrics': {0: {'tp_hit': 76, 'fp_hit': 9, 'tn_hit': 21, 'fn_hit': 2}, 1: {'tp_hit': 12, 'fp_hit': 0, 'tn_hit': 92, 'fn_hit': 4}, 2: {'tp_hit': 9, 'fp_hit': 2, 'tn_hit': 92, 'fn_hit': 5}}, 'checkpoint': 300} \n",
      "\n",
      "\n",
      "{'accuracy': 0.9506172839506173, 'mean_square_error': 0.16473476904842357, 'categorical_crossentropy': 0.32259566695601855, 'precision': 0.9259259259259259, 'recall': 0.9259259259259259, 'f1': 0.9259259259259259, 'essential_metrics': {0: {'tp_hit': 76, 'fp_hit': 6, 'tn_hit': 24, 'fn_hit': 2}, 1: {'tp_hit': 15, 'fp_hit': 0, 'tn_hit': 92, 'fn_hit': 1}, 2: {'tp_hit': 9, 'fp_hit': 2, 'tn_hit': 92, 'fn_hit': 5}}, 'checkpoint': 400} \n",
      "\n",
      "\n",
      "{'accuracy': 0.9567901234567902, 'mean_square_error': 0.15834047178503521, 'categorical_crossentropy': 0.3069814752649378, 'precision': 0.9351851851851852, 'recall': 0.9351851851851852, 'f1': 0.9351851851851852, 'essential_metrics': {0: {'tp_hit': 77, 'fp_hit': 6, 'tn_hit': 24, 'fn_hit': 1}, 1: {'tp_hit': 15, 'fp_hit': 0, 'tn_hit': 92, 'fn_hit': 1}, 2: {'tp_hit': 9, 'fp_hit': 1, 'tn_hit': 93, 'fn_hit': 5}}, 'checkpoint': 500} \n",
      "\n",
      "\n"
     ]
    }
   ],
   "source": [
    "for checkpoint in checkpoints:\n",
    "    print(checkpoint, '\\n\\n')"
   ]
  },
  {
   "cell_type": "code",
   "execution_count": 15,
   "metadata": {},
   "outputs": [
    {
     "name": "stdout",
     "output_type": "stream",
     "text": [
      "Layer 1\n",
      "Neuron 0: weights:\n",
      "[ 1.0475627  2.1209502 -1.1724541 -3.        -2.9734054]\n",
      " bias: 0.6807016134262085\n",
      "\n",
      "Neuron 1: weights:\n",
      "[-1.0214905   1.9849085   1.2289153  -2.4786143   0.42493296]\n",
      " bias: -1.690567135810852\n",
      "\n",
      "Neuron 2: weights:\n",
      "[ 2.5969703 -2.351886  -1.2543575 -2.3569882 -0.8674387]\n",
      " bias: -1.1117783784866333\n",
      "\n",
      "Neuron 3: weights:\n",
      "[-0.26159176  0.9993047   1.9139512   1.1272162   2.812592  ]\n",
      " bias: 0.6895027756690979\n",
      "\n",
      "$\n",
      "Layer 2\n",
      "Neuron 0: weights:\n",
      "[ 2.8584123 -1.3328837  1.7077717 -1.4420474]\n",
      " bias: 2.439091444015503\n",
      "\n",
      "Neuron 1: weights:\n",
      "[2.233379  2.6230159 1.7942194 0.604128 ]\n",
      " bias: -1.0754085779190063\n",
      "\n",
      "Neuron 2: weights:\n",
      "[-0.5122891 -2.6461244  2.7883096  1.9469615]\n",
      " bias: 0.7250040173530579\n",
      "\n",
      "$\n",
      "\n"
     ]
    }
   ],
   "source": [
    "print(model)"
   ]
  }
 ],
 "metadata": {
  "kernelspec": {
   "display_name": "Python 3",
   "language": "python",
   "name": "python3"
  },
  "language_info": {
   "codemirror_mode": {
    "name": "ipython",
    "version": 3
   },
   "file_extension": ".py",
   "mimetype": "text/x-python",
   "name": "python",
   "nbconvert_exporter": "python",
   "pygments_lexer": "ipython3",
   "version": "3.6.10"
  }
 },
 "nbformat": 4,
 "nbformat_minor": 2
}
