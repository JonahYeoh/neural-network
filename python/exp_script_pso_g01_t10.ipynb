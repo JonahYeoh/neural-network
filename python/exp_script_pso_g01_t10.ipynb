{
 "cells": [
  {
   "cell_type": "code",
   "execution_count": 1,
   "metadata": {},
   "outputs": [],
   "source": [
    "# dependency\n",
    "import numpy as np\n",
    "import pandas as pd\n",
    "import copy\n",
    "import math\n",
    "import sys\n",
    "import os\n",
    "from activations import relu, leaky_relu, sigmoid, tanh, softmax, d_sigmoid, d_relu\n",
    "from initializers import glorot_uniform, random_normal, random_uniform\n",
    "from regularizers import l1_regularizer, l2_regularizer\n",
    "from utility import trim_tail, multiply, subtract, get_nparams, one_hot_encoding, get_data\n",
    "from metrics import MSE, CCE, ACC, PRECISION, RECALL, essential_metrics, wondering_penalty, close_gap_penalty\n",
    "from pso import PSO\n",
    "from ga import GA\n",
    "from nn import Network\n",
    "from layer import DenseLayer\n",
    "from scalers import MinMaxScaler, StandardScaler"
   ]
  },
  {
   "cell_type": "code",
   "execution_count": 2,
   "metadata": {},
   "outputs": [],
   "source": [
    "# reference\n",
    "metrics_fn_dict = dict()\n",
    "metrics_fn_dict['accuracy'] = ACC\n",
    "metrics_fn_dict['categorical_crossentropy'] = CCE\n",
    "metrics_fn_dict['mean_square_error'] = MSE\n",
    "metrics_fn_dict['precision'] = PRECISION\n",
    "metrics_fn_dict['recall'] = RECALL\n",
    "metrics_fn_dict['essential_metrics'] = essential_metrics"
   ]
  },
  {
   "cell_type": "code",
   "execution_count": 3,
   "metadata": {},
   "outputs": [],
   "source": [
    "# model\n",
    "model = Network(5, lr = None)\n",
    "model.add_layer(DenseLayer(1, 4, True, afn=sigmoid, dafn=None, rfn=None))\n",
    "model.add_layer(DenseLayer(2, 3, True, afn=softmax, dafn=None, rfn=None))"
   ]
  },
  {
   "cell_type": "code",
   "execution_count": 4,
   "metadata": {},
   "outputs": [
    {
     "name": "stdout",
     "output_type": "stream",
     "text": [
      "see one see two 2 0.5\n"
     ]
    }
   ],
   "source": [
    "pso = PSO(dict(m = 50,\n",
    "    weight_constraint = [-3, 3], \n",
    "    velocity_constraint = [-0.1, 0.1],\n",
    "    c1 = [0.5, 2],\n",
    "    c2 = [0.5, 2],\n",
    "    w = [0.5, 1.6],\n",
    "    w_decay = 0.95,\n",
    "    scale_hyperparameter = False,\n",
    "    regularizer = None,\n",
    "    mask = True))"
   ]
  },
  {
   "cell_type": "code",
   "execution_count": 5,
   "metadata": {},
   "outputs": [
    {
     "name": "stdout",
     "output_type": "stream",
     "text": [
      "building layer 1 with 5\n",
      "24\n",
      "building layer 2 with 4\n",
      "15\n"
     ]
    }
   ],
   "source": [
    "model.compile(loss_fn = 'categorical_crossentropy', optimizer = pso, \\\n",
    "    metrics = ['accuracy', 'mean_square_error', 'categorical_crossentropy'])"
   ]
  },
  {
   "cell_type": "code",
   "execution_count": 6,
   "metadata": {},
   "outputs": [
    {
     "name": "stdout",
     "output_type": "stream",
     "text": [
      "<class 'pandas.core.frame.DataFrame'>\n",
      "RangeIndex: 107 entries, 0 to 106\n",
      "Data columns (total 6 columns):\n",
      " #   Column  Non-Null Count  Dtype  \n",
      "---  ------  --------------  -----  \n",
      " 0   f1      107 non-null    float32\n",
      " 1   f2      107 non-null    float32\n",
      " 2   f3      107 non-null    float32\n",
      " 3   f4      107 non-null    float32\n",
      " 4   f5      107 non-null    float32\n",
      " 5   label   107 non-null    float32\n",
      "dtypes: float32(6)\n",
      "memory usage: 2.6 KB\n",
      "None\n",
      "<class 'pandas.core.frame.DataFrame'>\n",
      "RangeIndex: 108 entries, 0 to 107\n",
      "Data columns (total 6 columns):\n",
      " #   Column  Non-Null Count  Dtype  \n",
      "---  ------  --------------  -----  \n",
      " 0   f1      108 non-null    float32\n",
      " 1   f2      108 non-null    float32\n",
      " 2   f3      108 non-null    float32\n",
      " 3   f4      108 non-null    float32\n",
      " 4   f5      108 non-null    float32\n",
      " 5   label   108 non-null    float32\n",
      "dtypes: float32(6)\n",
      "memory usage: 2.7 KB\n",
      "None\n"
     ]
    }
   ],
   "source": [
    "# data loading\n",
    "DATA = os.path.join('c:\\\\Users\\\\tcumi\\\\github_repo\\\\neural-network\\\\', 'dataset')\n",
    "GROUP = 1\n",
    "COLUMNS = ['f1', 'f2', 'f3', 'f4', 'f5', 'label']\n",
    "N_CLASS = 3\n",
    "EPOCHS = 500\n",
    "train_dir, test_dir = \"..//dataset//training_data{}.txt\".format(GROUP), \"..//dataset//testing_data{}.txt\".format(GROUP)\n",
    "train, test = get_data(DATA, train_dir, COLUMNS), get_data(DATA, test_dir, COLUMNS)\n",
    "# shuffle\n",
    "train, test = train.sample(frac=1), test.sample(frac=1)\n",
    "x_train, y_train = train.drop('label', axis=1), train['label']\n",
    "x_test, y_test = test.drop('label', axis=1), test['label']"
   ]
  },
  {
   "cell_type": "code",
   "execution_count": 7,
   "metadata": {},
   "outputs": [],
   "source": [
    "# data scaling and encoding\n",
    "scaler = StandardScaler(['f1', 'f2', 'f3', 'f4', 'f5'])\n",
    "scaler.fit(x_train)\n",
    "x_train = scaler.transform(x_train)\n",
    "x_test = scaler.transform(x_test)\n",
    "y_train = one_hot_encoding(y_train, N_CLASS)\n",
    "y_test = one_hot_encoding(y_test, N_CLASS)"
   ]
  },
  {
   "cell_type": "code",
   "execution_count": 8,
   "metadata": {
    "tags": [
     "outputPrepend"
    ]
   },
   "outputs": [
    {
     "name": "stdout",
     "output_type": "stream",
     "text": [
      "Checkpoint 100, Accuracy: 0.9753086419753086, Loss: 0.1679279539320204\n",
      "Checkpoint 200, Accuracy: 0.9814814814814815, Loss: 0.10622237346790454\n",
      "Checkpoint 300, Accuracy: 0.9691358024691358, Loss: 0.09894658901073315\n",
      "Checkpoint 400, Accuracy: 0.9691358024691358, Loss: 0.10718754485801414\n",
      "Checkpoint 500, Accuracy: 0.9691358024691358, Loss: 0.10190554018373843\n"
     ]
    }
   ],
   "source": [
    "# learning phase\n",
    "breakpoint = 100\n",
    "checkpoints = list()\n",
    "history = list()\n",
    "for century in range(0, EPOCHS, breakpoint):\n",
    "    sub_history = model.fit(x_train, y_train, breakpoint, verbose = 0)\n",
    "    score = model.evaluate(x_test, y_test, False, verbose = 0)\n",
    "    print('Checkpoint {}, Accuracy: {}, Loss: {}'.format(century+breakpoint, score['accuracy'], score[model.loss_fn]))\n",
    "    score['checkpoint'] = century + breakpoint\n",
    "    checkpoints.append(score)\n",
    "    history.extend(sub_history)\n",
    "    itr = century + breakpoint\n",
    "    model.optimizer.c1 = np.max([model.optimizer.C1[1] - ((model.optimizer.C1[1] - model.optimizer.C1[0]) * itr / EPOCHS), model.optimizer.C1[0]])\n",
    "    model.optimizer.c2 = np.min([model.optimizer.C2[0] + ((model.optimizer.C2[1] - model.optimizer.C2[0]) * itr / EPOCHS), model.optimizer.C2[1]])\n",
    "    model.optimizer.w = np.max([model.optimizer.w * model.optimizer.W_Decay, model.optimizer.W[0]])"
   ]
  },
  {
   "cell_type": "code",
   "execution_count": 9,
   "metadata": {},
   "outputs": [],
   "source": [
    "import matplotlib.pyplot as plt\n",
    "\n",
    "def draw_plot(x, y_list, x_label=None, y_label=None, legend=None, title=None):\n",
    "    fig, ax = plt.subplots(figsize=(12,5))\n",
    "    for xi, yi in zip(x, y_list):\n",
    "        ax.plot(xi, yi)\n",
    "    if x_label is not None and y_label is not None:\n",
    "        ax.set(xlabel=x_label, ylabel=y_label, title='{} VS {}'.format(x_label, y_label))\n",
    "    if legend is not None:\n",
    "        ax.legend(legend)\n",
    "    ax.grid()\n",
    "    plt.show()"
   ]
  },
  {
   "cell_type": "code",
   "execution_count": 10,
   "metadata": {},
   "outputs": [
    {
     "name": "stdout",
     "output_type": "stream",
     "text": [
      "[0. 0. 1.] <-> [0.14714755 0.00132786 0.8515246 ]\n",
      "[1. 0. 0.] <-> [0.99740285 0.00137311 0.00122413]\n",
      "[1. 0. 0.] <-> [0.9969121  0.00177214 0.00131566]\n",
      "[1. 0. 0.] <-> [0.99029845 0.00778812 0.00191336]\n",
      "[0. 0. 1.] <-> [6.1455257e-03 1.5875000e-04 9.9369568e-01]\n",
      "[1. 0. 0.] <-> [0.99412185 0.00130702 0.00457109]\n",
      "[1. 0. 0.] <-> [0.99714166 0.00159016 0.00126822]\n",
      "[1. 0. 0.] <-> [0.99742174 0.00116999 0.00140822]\n",
      "[0. 0. 1.] <-> [6.1456077e-03 1.5875092e-04 9.9369568e-01]\n",
      "[0. 1. 0.] <-> [0.7312702  0.26619354 0.00253625]\n",
      "[1. 0. 0.] <-> [0.9639316  0.00237213 0.03369638]\n",
      "[0. 0. 1.] <-> [6.1455257e-03 1.5875000e-04 9.9369568e-01]\n",
      "[0. 1. 0.] <-> [9.0353834e-03 9.9084866e-01 1.1601086e-04]\n",
      "[1. 0. 0.] <-> [0.9943883  0.0041619  0.00144977]\n",
      "[1. 0. 0.] <-> [0.997447   0.00111886 0.00143415]\n",
      "[1. 0. 0.] <-> [0.9832181  0.00210937 0.01467258]\n",
      "[1. 0. 0.] <-> [0.997012   0.00163082 0.00135715]\n",
      "[0. 0. 1.] <-> [6.1461055e-03 1.5875838e-04 9.9369508e-01]\n",
      "[0. 1. 0.] <-> [7.0924135e-03 9.9281234e-01 9.5314601e-05]\n",
      "[0. 0. 1.] <-> [6.1455490e-03 1.5875394e-04 9.9369568e-01]\n",
      "[1. 0. 0.] <-> [0.9910847  0.00734755 0.00156781]\n",
      "[1. 0. 0.] <-> [0.9960245  0.00166188 0.00231355]\n",
      "[1. 0. 0.] <-> [0.996549   0.00217307 0.00127786]\n",
      "[1. 0. 0.] <-> [0.9968919  0.00111535 0.00199276]\n",
      "[1. 0. 0.] <-> [0.9264709  0.07065727 0.00287188]\n",
      "[1. 0. 0.] <-> [0.994517   0.00160485 0.00387804]\n",
      "[1. 0. 0.] <-> [0.997131   0.00139695 0.00147209]\n",
      "[1. 0. 0.] <-> [0.9936963  0.00152567 0.00477817]\n",
      "[0. 1. 0.] <-> [1.1838644e-02 9.8802072e-01 1.4060613e-04]\n",
      "[0. 1. 0.] <-> [2.9476106e-02 9.7026145e-01 2.6241364e-04]\n",
      "[1. 0. 0.] <-> [0.99668854 0.00114376 0.00216774]\n",
      "[1. 0. 0.] <-> [0.9939207  0.00143138 0.00464794]\n",
      "[1. 0. 0.] <-> [0.99243903 0.00153917 0.00602173]\n",
      "[0. 1. 0.] <-> [7.261481e-03 9.926414e-01 9.716407e-05]\n",
      "[1. 0. 0.] <-> [0.9932233  0.00156158 0.00521513]\n",
      "[0. 1. 0.] <-> [7.0698638e-03 9.9283493e-01 9.5287505e-05]\n",
      "[1. 0. 0.] <-> [0.99609804 0.00189874 0.00200325]\n",
      "[1. 0. 0.] <-> [0.9718846  0.0023587  0.02575672]\n",
      "[1. 0. 0.] <-> [0.99623954 0.00251899 0.0012414 ]\n",
      "[1. 0. 0.] <-> [0.99759966 0.00113067 0.00126963]\n",
      "[1. 0. 0.] <-> [0.99209434 0.00159218 0.00631344]\n",
      "[1. 0. 0.] <-> [0.3556778  0.00238992 0.6419323 ]\n",
      "[1. 0. 0.] <-> [0.9546803  0.00257264 0.04274713]\n",
      "[1. 0. 0.] <-> [0.9904316  0.00169228 0.00787609]\n",
      "[0. 0. 1.] <-> [0.58391106 0.00387616 0.41221273]\n",
      "[1. 0. 0.] <-> [0.9958254  0.00148741 0.0026872 ]\n",
      "[1. 0. 0.] <-> [0.99668026 0.00209686 0.00122292]\n",
      "[1. 0. 0.] <-> [0.9973821  0.00120386 0.00141407]\n",
      "[1. 0. 0.] <-> [0.89577264 0.00270079 0.10152656]\n",
      "[1. 0. 0.] <-> [0.9967277  0.00173525 0.00153704]\n",
      "[0. 0. 1.] <-> [7.3403567e-03 1.8157405e-04 9.9247801e-01]\n",
      "[1. 0. 0.] <-> [0.995095   0.00160367 0.00330137]\n",
      "[1. 0. 0.] <-> [0.90112376 0.00366031 0.09521588]\n",
      "[1. 0. 0.] <-> [0.99628    0.00153803 0.00218192]\n",
      "[1. 0. 0.] <-> [0.89820504 0.00292558 0.09886936]\n",
      "[1. 0. 0.] <-> [0.9950918  0.0033537  0.00155445]\n",
      "[1. 0. 0.] <-> [0.64476717 0.00290383 0.35232893]\n",
      "[1. 0. 0.] <-> [0.9970335  0.00150814 0.00145838]\n",
      "[1. 0. 0.] <-> [0.9933482  0.00145244 0.00519926]\n",
      "[1. 0. 0.] <-> [0.9968636  0.00191072 0.0012257 ]\n",
      "[1. 0. 0.] <-> [0.9964897  0.00219684 0.00131348]\n",
      "[1. 0. 0.] <-> [0.9927112  0.00159688 0.00569194]\n",
      "[0. 0. 1.] <-> [6.4057503e-03 1.6212452e-04 9.9343210e-01]\n",
      "[1. 0. 0.] <-> [0.9465383  0.00283377 0.05062785]\n",
      "[1. 0. 0.] <-> [0.995331   0.00154331 0.00312569]\n",
      "[1. 0. 0.] <-> [0.99200964 0.00620427 0.00178609]\n",
      "[1. 0. 0.] <-> [0.96432555 0.00255858 0.03311585]\n",
      "[1. 0. 0.] <-> [0.994753   0.00385752 0.00138944]\n",
      "[1. 0. 0.] <-> [0.9946002  0.00144272 0.00395713]\n",
      "[1. 0. 0.] <-> [0.997059   0.00127912 0.00166191]\n",
      "[1. 0. 0.] <-> [0.99540764 0.00152809 0.00306416]\n",
      "[1. 0. 0.] <-> [0.9818996  0.00192061 0.01617986]\n",
      "[0. 0. 1.] <-> [6.1713546e-03 1.5917953e-04 9.9366945e-01]\n",
      "[1. 0. 0.] <-> [0.9959099  0.00125828 0.00283169]\n",
      "[1. 0. 0.] <-> [0.99668545 0.00119748 0.00211698]\n",
      "[0. 0. 1.] <-> [6.1494461e-03 1.5884053e-04 9.9369168e-01]\n",
      "[1. 0. 0.] <-> [0.9921646  0.00636492 0.00147053]\n",
      "[1. 0. 0.] <-> [0.98938984 0.00773238 0.00287789]\n",
      "[1. 0. 0.] <-> [0.99709725 0.00158521 0.00131762]\n",
      "[1. 0. 0.] <-> [0.99703145 0.00144355 0.00152506]\n",
      "[1. 0. 0.] <-> [0.358025   0.6401598  0.00181516]\n",
      "[0. 1. 0.] <-> [7.0701777e-03 9.9283493e-01 9.4944080e-05]\n",
      "[1. 0. 0.] <-> [0.99654526 0.00123127 0.00222356]\n",
      "[0. 1. 0.] <-> [1.8705312e-02 9.8109847e-01 1.9615915e-04]\n",
      "[1. 0. 0.] <-> [0.9911668  0.00153452 0.0072988 ]\n",
      "[1. 0. 0.] <-> [0.9971488  0.00131693 0.00153422]\n",
      "[1. 0. 0.] <-> [0.9958769  0.00185011 0.00227301]\n",
      "[0. 1. 0.] <-> [0.23594543 0.76265514 0.00139943]\n",
      "[0. 0. 1.] <-> [6.4796405e-03 1.6445939e-04 9.9335587e-01]\n",
      "[1. 0. 0.] <-> [0.99728334 0.00132069 0.00139596]\n",
      "[0. 1. 0.] <-> [7.070134e-03 9.928349e-01 9.493140e-05]\n",
      "[1. 0. 0.] <-> [0.9830231  0.00190394 0.01507295]\n",
      "[1. 0. 0.] <-> [0.9964893  0.00130237 0.00220829]\n",
      "[1. 0. 0.] <-> [0.99372923 0.00151097 0.00475977]\n",
      "[1. 0. 0.] <-> [1.8429613e-02 3.4795847e-04 9.8122245e-01]\n",
      "[1. 0. 0.] <-> [0.8935107  0.00322665 0.10326264]\n",
      "[0. 1. 0.] <-> [0.3621477  0.63606393 0.00178841]\n",
      "[0. 1. 0.] <-> [1.2501574e-01 8.7413031e-01 8.5397909e-04]\n",
      "[1. 0. 0.] <-> [0.9714604  0.0256031  0.00293651]\n",
      "[1. 0. 0.] <-> [0.9955598  0.00316039 0.00127987]\n",
      "[0. 1. 0.] <-> [7.3423088e-03 9.9256027e-01 9.7555363e-05]\n",
      "[1. 0. 0.] <-> [0.99566925 0.00130797 0.0030227 ]\n",
      "[1. 0. 0.] <-> [0.9975522  0.00127129 0.00117641]\n",
      "[1. 0. 0.] <-> [0.9969273  0.00135348 0.00171917]\n",
      "[1. 0. 0.] <-> [0.9952237  0.00135222 0.00342408]\n",
      "[0. 1. 0.] <-> [1.1941663e-02 9.8791438e-01 1.4403282e-04]\n",
      "[1. 0. 0.] <-> [0.996552   0.00145299 0.00199496]\n",
      "[0. 0. 1.] <-> [6.213147e-03 1.595398e-04 9.936273e-01]\n",
      "{'accuracy': 0.9691358024691358, 'mean_square_error': 0.05698999838161484, 'categorical_crossentropy': 0.10190554018373843, 'essential_metrics': {0: {'tp_hit': 77, 'fp_hit': 2, 'tn_hit': 26, 'fn_hit': 3}, 1: {'tp_hit': 14, 'fp_hit': 1, 'tn_hit': 92, 'fn_hit': 1}, 2: {'tp_hit': 12, 'fp_hit': 2, 'tn_hit': 93, 'fn_hit': 1}}}\n"
     ]
    }
   ],
   "source": [
    "# recall phase\n",
    "score = model.evaluate(x_test, y_test, False)\n",
    "print(score)"
   ]
  },
  {
   "cell_type": "code",
   "execution_count": 11,
   "metadata": {},
   "outputs": [
    {
     "data": {
      "image/png": "[encoded data removed]",
      "text/plain": [
       "<Figure size 864x360 with 1 Axes>"
      ]
     },
     "metadata": {
      "needs_background": "light"
     },
     "output_type": "display_data"
    },
    {
     "data": {
      "image/png": "[encoded data removed]",
      "text/plain": [
       "<Figure size 864x360 with 1 Axes>"
      ]
     },
     "metadata": {
      "needs_background": "light"
     },
     "output_type": "display_data"
    }
   ],
   "source": [
    "draw_plot(x = [[i for i in range(len(history))], [(i+1)*breakpoint for i in range(len(checkpoints))]], y_list = [history, [ ckp[model.loss_fn] for ckp in checkpoints ]], x_label = 'Epochs', \\\n",
    "    y_label = model.loss_fn, legend=['train', 'test'])\n",
    "acc = [ ckp['accuracy'] for ckp in checkpoints ]\n",
    "draw_plot(x = [[(i+1)*breakpoint for i in range(len(checkpoints))]], y_list = [acc], x_label = 'Checkpoints', \\\n",
    "    y_label = 'accuracy')"
   ]
  },
  {
   "cell_type": "code",
   "execution_count": 12,
   "metadata": {},
   "outputs": [
    {
     "name": "stdout",
     "output_type": "stream",
     "text": [
      "{'accuracy': 0.9753086419753086, 'mean_square_error': 0.07931067362605312, 'categorical_crossentropy': 0.1679279539320204, 'essential_metrics': {0: {'tp_hit': 79, 'fp_hit': 3, 'tn_hit': 25, 'fn_hit': 1}, 1: {'tp_hit': 13, 'fp_hit': 0, 'tn_hit': 93, 'fn_hit': 2}, 2: {'tp_hit': 12, 'fp_hit': 1, 'tn_hit': 94, 'fn_hit': 1}}, 'checkpoint': 100} \n",
      "\n",
      "\n",
      "{'accuracy': 0.9814814814814815, 'mean_square_error': 0.05635729726120614, 'categorical_crossentropy': 0.10622237346790454, 'essential_metrics': {0: {'tp_hit': 78, 'fp_hit': 1, 'tn_hit': 27, 'fn_hit': 2}, 1: {'tp_hit': 14, 'fp_hit': 1, 'tn_hit': 92, 'fn_hit': 1}, 2: {'tp_hit': 13, 'fp_hit': 1, 'tn_hit': 94, 'fn_hit': 0}}, 'checkpoint': 200} \n",
      "\n",
      "\n",
      "{'accuracy': 0.9691358024691358, 'mean_square_error': 0.05389233543234919, 'categorical_crossentropy': 0.09894658901073315, 'essential_metrics': {0: {'tp_hit': 77, 'fp_hit': 2, 'tn_hit': 26, 'fn_hit': 3}, 1: {'tp_hit': 14, 'fp_hit': 1, 'tn_hit': 92, 'fn_hit': 1}, 2: {'tp_hit': 12, 'fp_hit': 2, 'tn_hit': 93, 'fn_hit': 1}}, 'checkpoint': 300} \n",
      "\n",
      "\n",
      "{'accuracy': 0.9691358024691358, 'mean_square_error': 0.06028234208916032, 'categorical_crossentropy': 0.10718754485801414, 'essential_metrics': {0: {'tp_hit': 77, 'fp_hit': 2, 'tn_hit': 26, 'fn_hit': 3}, 1: {'tp_hit': 14, 'fp_hit': 1, 'tn_hit': 92, 'fn_hit': 1}, 2: {'tp_hit': 12, 'fp_hit': 2, 'tn_hit': 93, 'fn_hit': 1}}, 'checkpoint': 400} \n",
      "\n",
      "\n",
      "{'accuracy': 0.9691358024691358, 'mean_square_error': 0.05698999838161484, 'categorical_crossentropy': 0.10190554018373843, 'essential_metrics': {0: {'tp_hit': 77, 'fp_hit': 2, 'tn_hit': 26, 'fn_hit': 3}, 1: {'tp_hit': 14, 'fp_hit': 1, 'tn_hit': 92, 'fn_hit': 1}, 2: {'tp_hit': 12, 'fp_hit': 2, 'tn_hit': 93, 'fn_hit': 1}}, 'checkpoint': 500} \n",
      "\n",
      "\n"
     ]
    }
   ],
   "source": [
    "for checkpoint in checkpoints:\n",
    "    print(checkpoint, '\\n\\n')"
   ]
  },
  {
   "cell_type": "code",
   "execution_count": 13,
   "metadata": {},
   "outputs": [
    {
     "name": "stdout",
     "output_type": "stream",
     "text": [
      "Layer 1\n",
      "Neuron 0: weights:\n",
      "[ 1.9372861 -3.        -2.1044483 -1.5353377  3.       ]\n",
      " bias: 3.0\n",
      "\n",
      "Neuron 1: weights:\n",
      "[ 0.14486174  3.          0.08804087 -3.         -3.        ]\n",
      " bias: 2.143733024597168\n",
      "\n",
      "Neuron 2: weights:\n",
      "[ 0.07676288 -3.         -0.98748773  0.9595982   3.        ]\n",
      " bias: -3.0\n",
      "\n",
      "Neuron 3: weights:\n",
      "[ 1.9246833 -3.        -2.3020267  3.         0.6246137]\n",
      " bias: 3.0\n",
      "\n",
      "$\n",
      "Layer 2\n",
      "Neuron 0: weights:\n",
      "[ 3.  3. -3.  3.]\n",
      " bias: -1.9446929693222046\n",
      "\n",
      "Neuron 1: weights:\n",
      "[-3.          3.          0.39915746 -3.        ]\n",
      " bias: 3.0\n",
      "\n",
      "Neuron 2: weights:\n",
      "[ 0.39625412 -3.          3.          3.        ]\n",
      " bias: -0.2552403509616852\n",
      "\n",
      "$\n",
      "\n"
     ]
    }
   ],
   "source": [
    "print(model)"
   ]
  }
 ],
 "metadata": {
  "kernelspec": {
   "display_name": "Python 3",
   "language": "python",
   "name": "python3"
  },
  "language_info": {
   "codemirror_mode": {
    "name": "ipython",
    "version": 3
   },
   "file_extension": ".py",
   "mimetype": "text/x-python",
   "name": "python",
   "nbconvert_exporter": "python",
   "pygments_lexer": "ipython3",
   "version": "3.6.10"
  }
 },
 "nbformat": 4,
 "nbformat_minor": 2
}
