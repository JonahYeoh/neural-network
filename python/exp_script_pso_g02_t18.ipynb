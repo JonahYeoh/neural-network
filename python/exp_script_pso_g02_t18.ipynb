{
 "cells": [
  {
   "cell_type": "code",
   "execution_count": 1,
   "metadata": {},
   "outputs": [],
   "source": [
    "# dependency\n",
    "import numpy as np\n",
    "import pandas as pd\n",
    "import copy\n",
    "import math\n",
    "import sys\n",
    "import os\n",
    "from activations import relu, leaky_relu, sigmoid, tanh, softmax, d_sigmoid, d_relu\n",
    "from initializers import glorot_uniform, random_normal, random_uniform\n",
    "from regularizers import l1_regularizer, l2_regularizer\n",
    "from utility import trim_tail, multiply, subtract, get_nparams, one_hot_encoding, get_data\n",
    "from metrics import MSE, CCE, ACC, PRECISION, RECALL, essential_metrics, wondering_penalty, close_gap_penalty\n",
    "from pso import PSO\n",
    "from ga import GA\n",
    "from nn import Network\n",
    "from layer import DenseLayer\n",
    "from scalers import MinMaxScaler, StandardScaler"
   ]
  },
  {
   "cell_type": "code",
   "execution_count": 2,
   "metadata": {},
   "outputs": [],
   "source": [
    "# reference\n",
    "metrics_fn_dict = dict()\n",
    "metrics_fn_dict['accuracy'] = ACC\n",
    "metrics_fn_dict['categorical_crossentropy'] = CCE\n",
    "metrics_fn_dict['mean_square_error'] = MSE\n",
    "metrics_fn_dict['precision'] = PRECISION\n",
    "metrics_fn_dict['recall'] = RECALL\n",
    "metrics_fn_dict['essential_metrics'] = essential_metrics"
   ]
  },
  {
   "cell_type": "code",
   "execution_count": 3,
   "metadata": {},
   "outputs": [],
   "source": [
    "# model\n",
    "model = Network(5, lr = None)\n",
    "model.add_layer(DenseLayer(1, 4, True, afn=sigmoid, dafn=None, rfn=None))\n",
    "model.add_layer(DenseLayer(2, 3, True, afn=softmax, dafn=None, rfn=None))"
   ]
  },
  {
   "cell_type": "code",
   "execution_count": 4,
   "metadata": {},
   "outputs": [
    {
     "name": "stdout",
     "output_type": "stream",
     "text": [
      "see one see two 2 0.5\n"
     ]
    }
   ],
   "source": [
    "pso = PSO(dict(m = 50,\n",
    "    weight_constraint = [-3, 3], \n",
    "    velocity_constraint = [-0.1, 0.1],\n",
    "    c1 = [0.5, 2],\n",
    "    c2 = [0.5, 2],\n",
    "    w = [0.5, 1.6],\n",
    "    w_decay = 0.95,\n",
    "    scale_hyperparameter = False,\n",
    "    regularizer = None,\n",
    "    mask = True))"
   ]
  },
  {
   "cell_type": "code",
   "execution_count": 5,
   "metadata": {},
   "outputs": [
    {
     "name": "stdout",
     "output_type": "stream",
     "text": [
      "building layer 1 with 5\n",
      "24\n",
      "building layer 2 with 4\n",
      "15\n"
     ]
    }
   ],
   "source": [
    "model.compile(loss_fn = 'categorical_crossentropy', optimizer = pso, \\\n",
    "    metrics = ['accuracy', 'mean_square_error', 'categorical_crossentropy'])"
   ]
  },
  {
   "cell_type": "code",
   "execution_count": 6,
   "metadata": {},
   "outputs": [
    {
     "name": "stdout",
     "output_type": "stream",
     "text": [
      "<class 'pandas.core.frame.DataFrame'>\n",
      "RangeIndex: 107 entries, 0 to 106\n",
      "Data columns (total 6 columns):\n",
      " #   Column  Non-Null Count  Dtype  \n",
      "---  ------  --------------  -----  \n",
      " 0   f1      107 non-null    float32\n",
      " 1   f2      107 non-null    float32\n",
      " 2   f3      107 non-null    float32\n",
      " 3   f4      107 non-null    float32\n",
      " 4   f5      107 non-null    float32\n",
      " 5   label   107 non-null    float32\n",
      "dtypes: float32(6)\n",
      "memory usage: 2.6 KB\n",
      "None\n",
      "<class 'pandas.core.frame.DataFrame'>\n",
      "RangeIndex: 108 entries, 0 to 107\n",
      "Data columns (total 6 columns):\n",
      " #   Column  Non-Null Count  Dtype  \n",
      "---  ------  --------------  -----  \n",
      " 0   f1      108 non-null    float32\n",
      " 1   f2      108 non-null    float32\n",
      " 2   f3      108 non-null    float32\n",
      " 3   f4      108 non-null    float32\n",
      " 4   f5      108 non-null    float32\n",
      " 5   label   108 non-null    float32\n",
      "dtypes: float32(6)\n",
      "memory usage: 2.7 KB\n",
      "None\n"
     ]
    }
   ],
   "source": [
    "# data loading\n",
    "DATA = os.path.join('c:\\\\Users\\\\tcumi\\\\github_repo\\\\neural-network\\\\', 'dataset')\n",
    "GROUP = 2\n",
    "COLUMNS = ['f1', 'f2', 'f3', 'f4', 'f5', 'label']\n",
    "N_CLASS = 3\n",
    "EPOCHS = 500\n",
    "train_dir, test_dir = \"..//dataset//training_data{}.txt\".format(GROUP), \"..//dataset//testing_data{}.txt\".format(GROUP)\n",
    "train, test = get_data(DATA, train_dir, COLUMNS), get_data(DATA, test_dir, COLUMNS)\n",
    "# shuffle\n",
    "train, test = train.sample(frac=1), test.sample(frac=1)\n",
    "x_train, y_train = train.drop('label', axis=1), train['label']\n",
    "x_test, y_test = test.drop('label', axis=1), test['label']"
   ]
  },
  {
   "cell_type": "code",
   "execution_count": 7,
   "metadata": {},
   "outputs": [],
   "source": [
    "# data scaling and encoding\n",
    "scaler = StandardScaler(['f1', 'f2', 'f3', 'f4', 'f5'])\n",
    "scaler.fit(x_train)\n",
    "x_train = scaler.transform(x_train)\n",
    "x_test = scaler.transform(x_test)\n",
    "y_train = one_hot_encoding(y_train, N_CLASS)\n",
    "y_test = one_hot_encoding(y_test, N_CLASS)"
   ]
  },
  {
   "cell_type": "code",
   "execution_count": 8,
   "metadata": {
    "tags": [
     "outputPrepend"
    ]
   },
   "outputs": [
    {
     "name": "stdout",
     "output_type": "stream",
     "text": [
      "Checkpoint 100, Accuracy: 0.9320987654320988, Loss: 0.34663931528727215\n",
      "Checkpoint 200, Accuracy: 0.9753086419753086, Loss: 0.1190134331032082\n",
      "Checkpoint 300, Accuracy: 0.9753086419753086, Loss: 0.09702722231547038\n",
      "Checkpoint 400, Accuracy: 0.9753086419753086, Loss: 0.09868440804658113\n",
      "Checkpoint 500, Accuracy: 0.9753086419753086, Loss: 0.10455120934380426\n"
     ]
    }
   ],
   "source": [
    "# learning phase\n",
    "breakpoint = 100\n",
    "checkpoints = list()\n",
    "history = list()\n",
    "for century in range(0, EPOCHS, breakpoint):\n",
    "    sub_history = model.fit(x_train, y_train, breakpoint, verbose = 0)\n",
    "    score = model.evaluate(x_test, y_test, False, verbose = 0)\n",
    "    print('Checkpoint {}, Accuracy: {}, Loss: {}'.format(century+breakpoint, score['accuracy'], score[model.loss_fn]))\n",
    "    score['checkpoint'] = century + breakpoint\n",
    "    checkpoints.append(score)\n",
    "    history.extend(sub_history)\n",
    "    itr = century + breakpoint\n",
    "    model.optimizer.c2 = np.max([model.optimizer.C2[1] - ((model.optimizer.C2[1] - model.optimizer.C2[0]) * itr / EPOCHS), model.optimizer.C2[0]])\n",
    "    model.optimizer.c1 = np.min([model.optimizer.C1[0] + ((model.optimizer.C1[1] - model.optimizer.C1[0]) * itr / EPOCHS), model.optimizer.C1[1]])\n",
    "    model.optimizer.w = np.max([model.optimizer.w * model.optimizer.W_Decay, model.optimizer.W[0]])"
   ]
  },
  {
   "cell_type": "code",
   "execution_count": 9,
   "metadata": {},
   "outputs": [],
   "source": [
    "import matplotlib.pyplot as plt\n",
    "\n",
    "def draw_plot(x, y_list, x_label=None, y_label=None, legend=None, title=None):\n",
    "    fig, ax = plt.subplots(figsize=(12,5))\n",
    "    for xi, yi in zip(x, y_list):\n",
    "        ax.plot(xi, yi)\n",
    "    if x_label is not None and y_label is not None:\n",
    "        ax.set(xlabel=x_label, ylabel=y_label, title='{} VS {}'.format(x_label, y_label))\n",
    "    if legend is not None:\n",
    "        ax.legend(legend)\n",
    "    ax.grid()\n",
    "    plt.show()"
   ]
  },
  {
   "cell_type": "code",
   "execution_count": 10,
   "metadata": {},
   "outputs": [
    {
     "name": "stdout",
     "output_type": "stream",
     "text": [
      "[1. 0. 0.] <-> [0.9968528  0.00142835 0.00171886]\n",
      "[1. 0. 0.] <-> [0.9965798  0.00178776 0.00163247]\n",
      "[1. 0. 0.] <-> [0.9972898  0.00121025 0.00149994]\n",
      "[1. 0. 0.] <-> [0.9960155  0.00199481 0.00198968]\n",
      "[0. 1. 0.] <-> [1.7612336e-02 9.8234713e-01 4.0504583e-05]\n",
      "[1. 0. 0.] <-> [0.9970125  0.00154923 0.00143821]\n",
      "[1. 0. 0.] <-> [0.8642932  0.00089324 0.13481349]\n",
      "[1. 0. 0.] <-> [1.5855132e-02 1.6087888e-05 9.8412871e-01]\n",
      "[1. 0. 0.] <-> [0.9877824  0.01072282 0.00149471]\n",
      "[1. 0. 0.] <-> [0.99299026 0.00113776 0.00587189]\n",
      "[1. 0. 0.] <-> [0.9962715  0.00229053 0.00143795]\n",
      "[1. 0. 0.] <-> [0.9697655  0.00126961 0.02896495]\n",
      "[1. 0. 0.] <-> [0.9970656  0.00124729 0.0016871 ]\n",
      "[1. 0. 0.] <-> [0.99129313 0.00104288 0.00766406]\n",
      "[1. 0. 0.] <-> [0.9960169  0.0025702  0.00141287]\n",
      "[0. 0. 1.] <-> [4.9010399e-01 4.9909804e-04 5.0939691e-01]\n",
      "[1. 0. 0.] <-> [0.99704117 0.00120614 0.00175262]\n",
      "[1. 0. 0.] <-> [0.9959848  0.00138126 0.00263387]\n",
      "[1. 0. 0.] <-> [0.9921171  0.00642995 0.00145291]\n",
      "[0. 1. 0.] <-> [6.0264212e-03 9.9395859e-01 1.4938148e-05]\n",
      "[1. 0. 0.] <-> [0.99684    0.00174237 0.00141764]\n",
      "[1. 0. 0.] <-> [0.99635303 0.0014067  0.0022403 ]\n",
      "[1. 0. 0.] <-> [0.9888421  0.0010138  0.01014413]\n",
      "[1. 0. 0.] <-> [0.9961106  0.00109729 0.00279206]\n",
      "[1. 0. 0.] <-> [0.94052404 0.00095812 0.05851777]\n",
      "[1. 0. 0.] <-> [0.996831   0.00131894 0.00185003]\n",
      "[0. 0. 1.] <-> [5.2669761e-03 5.3376593e-06 9.9472767e-01]\n",
      "[1. 0. 0.] <-> [0.9967206  0.00117279 0.00210671]\n",
      "[1. 0. 0.] <-> [0.9657615  0.00106761 0.03317097]\n",
      "[1. 0. 0.] <-> [0.99481356 0.00118636 0.00400009]\n",
      "[0. 1. 0.] <-> [1.0911773e-02 9.8906237e-01 2.5821835e-05]\n",
      "[0. 1. 0.] <-> [5.4761000e-02 9.4513327e-01 1.0568931e-04]\n",
      "[1. 0. 0.] <-> [0.9954515  0.00113913 0.00340942]\n",
      "[0. 1. 0.] <-> [2.4505767e-01 7.5442630e-01 5.1604985e-04]\n",
      "[0. 1. 0.] <-> [1.0361049e-02 9.8961395e-01 2.5056959e-05]\n",
      "[1. 0. 0.] <-> [0.99500173 0.00360945 0.00138882]\n",
      "[0. 0. 1.] <-> [5.3013735e-03 5.3726108e-06 9.9469322e-01]\n",
      "[1. 0. 0.] <-> [0.9960174  0.00107592 0.00290662]\n",
      "[0. 1. 0.] <-> [1.3166752e-01 8.6805981e-01 2.7270633e-04]\n",
      "[1. 0. 0.] <-> [0.99731135 0.00125847 0.00143028]\n",
      "[1. 0. 0.] <-> [0.98586535 0.00101846 0.01311616]\n",
      "[1. 0. 0.] <-> [0.36445442 0.63484555 0.00070003]\n",
      "[1. 0. 0.] <-> [0.9966323  0.00191221 0.00145553]\n",
      "[1. 0. 0.] <-> [0.98792404 0.00102508 0.01105096]\n",
      "[1. 0. 0.] <-> [0.9961718  0.00118217 0.0026461 ]\n",
      "[0. 1. 0.] <-> [6.2324298e-03 9.9375218e-01 1.5409487e-05]\n",
      "[1. 0. 0.] <-> [0.9898344  0.00773245 0.00243307]\n",
      "[1. 0. 0.] <-> [0.83443797 0.00084825 0.16471386]\n",
      "[1. 0. 0.] <-> [0.99127156 0.00104102 0.00768735]\n",
      "[0. 1. 0.] <-> [0.40980947 0.5893995  0.00079097]\n",
      "[0. 0. 1.] <-> [5.2669370e-03 5.3376193e-06 9.9472779e-01]\n",
      "[1. 0. 0.] <-> [0.95190734 0.04644076 0.0016519 ]\n",
      "[0. 0. 1.] <-> [5.6147841e-03 5.6902436e-06 9.9437958e-01]\n",
      "[0. 1. 0.] <-> [6.02662750e-03 9.93958473e-01 1.49388725e-05]\n",
      "[0. 0. 1.] <-> [5.6814710e-03 5.7580573e-06 9.9431276e-01]\n",
      "[1. 0. 0.] <-> [0.9018859  0.0009486  0.09716547]\n",
      "[1. 0. 0.] <-> [0.9780537  0.00101777 0.02092853]\n",
      "[0. 0. 1.] <-> [5.528290e-03 5.602576e-06 9.944661e-01]\n",
      "[1. 0. 0.] <-> [0.99690634 0.00129822 0.00179546]\n",
      "[1. 0. 0.] <-> [0.99192023 0.00668242 0.0013973 ]\n",
      "[1. 0. 0.] <-> [0.99645114 0.00220247 0.0013464 ]\n",
      "[1. 0. 0.] <-> [0.9825614  0.00109727 0.01634132]\n",
      "[1. 0. 0.] <-> [0.99243563 0.00103108 0.00653335]\n",
      "[0. 1. 0.] <-> [6.0265046e-03 9.9395859e-01 1.4944374e-05]\n",
      "[0. 0. 1.] <-> [1.3500680e-01 1.3720394e-04 8.6485595e-01]\n",
      "[0. 0. 1.] <-> [6.5159434e-03 6.6146572e-06 9.9347746e-01]\n",
      "[0. 0. 1.] <-> [1.6159613e-02 1.6418753e-05 9.8382401e-01]\n",
      "[1. 0. 0.] <-> [0.99384993 0.00108013 0.0050699 ]\n",
      "[1. 0. 0.] <-> [0.99711835 0.00118003 0.00170163]\n",
      "[1. 0. 0.] <-> [0.9958978  0.00245629 0.00164583]\n",
      "[1. 0. 0.] <-> [3.710002e-01 3.870518e-04 6.286127e-01]\n",
      "[1. 0. 0.] <-> [0.99712855 0.00120933 0.00166217]\n",
      "[1. 0. 0.] <-> [0.88087684 0.00092119 0.11820192]\n",
      "[1. 0. 0.] <-> [0.99517363 0.00116802 0.00365829]\n",
      "[1. 0. 0.] <-> [0.61478573 0.0006297  0.38458458]\n",
      "[1. 0. 0.] <-> [0.9796029  0.00102872 0.01936842]\n",
      "[1. 0. 0.] <-> [0.9947748  0.00371896 0.00150622]\n",
      "[1. 0. 0.] <-> [0.9964735  0.00226794 0.00125859]\n",
      "[0. 1. 0.] <-> [0.7409908  0.25792146 0.00108774]\n",
      "[1. 0. 0.] <-> [0.91147196 0.08696844 0.00155962]\n",
      "[1. 0. 0.] <-> [0.9965274  0.00219765 0.00127507]\n",
      "[1. 0. 0.] <-> [0.9968934  0.00142855 0.00167796]\n",
      "[1. 0. 0.] <-> [0.9945708  0.00109495 0.00433423]\n",
      "[0. 1. 0.] <-> [6.3234279e-03 9.9366093e-01 1.5603695e-05]\n",
      "[1. 0. 0.] <-> [0.9946582  0.00132201 0.00401984]\n",
      "[1. 0. 0.] <-> [0.9950079  0.00101819 0.00397398]\n",
      "[1. 0. 0.] <-> [0.9304712  0.00095731 0.06857149]\n",
      "[1. 0. 0.] <-> [0.9967169  0.00166139 0.00162165]\n",
      "[1. 0. 0.] <-> [0.9613689  0.00098664 0.03764451]\n",
      "[0. 1. 0.] <-> [7.8511322e-03 9.9212974e-01 1.9093337e-05]\n",
      "[1. 0. 0.] <-> [0.99519366 0.0012121  0.00359421]\n",
      "[0. 1. 0.] <-> [6.0571069e-03 9.9392784e-01 1.5016186e-05]\n",
      "[1. 0. 0.] <-> [0.9957912  0.00178985 0.00241886]\n",
      "[1. 0. 0.] <-> [0.99608105 0.001253   0.00266596]\n",
      "[1. 0. 0.] <-> [0.9902508  0.00836656 0.00138258]\n",
      "[1. 0. 0.] <-> [0.9956495  0.00127163 0.00307884]\n",
      "[1. 0. 0.] <-> [0.9945122  0.00104631 0.00444149]\n",
      "[1. 0. 0.] <-> [0.9966336  0.00200224 0.00136421]\n",
      "[0. 0. 1.] <-> [5.2677956e-03 5.3384902e-06 9.9472684e-01]\n",
      "[0. 0. 1.] <-> [5.2678008e-03 5.3384952e-06 9.9472684e-01]\n",
      "[1. 0. 0.] <-> [0.9950393  0.00119411 0.00376656]\n",
      "[1. 0. 0.] <-> [0.99230415 0.00103636 0.00665949]\n",
      "[0. 0. 1.] <-> [5.2669370e-03 5.3376193e-06 9.9472779e-01]\n",
      "[1. 0. 0.] <-> [0.9971443  0.00147124 0.00138442]\n",
      "[1. 0. 0.] <-> [0.99624974 0.00103536 0.00271492]\n",
      "[1. 0. 0.] <-> [0.99179417 0.00106808 0.00713775]\n",
      "[1. 0. 0.] <-> [0.99353206 0.00112971 0.00533828]\n",
      "[1. 0. 0.] <-> [0.99656904 0.00205574 0.00137524]\n",
      "{'accuracy': 0.9753086419753086, 'mean_square_error': 0.05681704353906744, 'categorical_crossentropy': 0.10455120934380426, 'essential_metrics': {0: {'tp_hit': 77, 'fp_hit': 1, 'tn_hit': 27, 'fn_hit': 3}, 1: {'tp_hit': 14, 'fp_hit': 1, 'tn_hit': 92, 'fn_hit': 1}, 2: {'tp_hit': 13, 'fp_hit': 2, 'tn_hit': 93, 'fn_hit': 0}}}\n"
     ]
    }
   ],
   "source": [
    "# recall phase\n",
    "score = model.evaluate(x_test, y_test, False)\n",
    "print(score)"
   ]
  },
  {
   "cell_type": "code",
   "execution_count": 11,
   "metadata": {},
   "outputs": [
    {
     "data": {
      "image/png": "[encoded data removed]",
      "text/plain": [
       "<Figure size 864x360 with 1 Axes>"
      ]
     },
     "metadata": {
      "needs_background": "light"
     },
     "output_type": "display_data"
    },
    {
     "data": {
      "image/png": "[encoded data removed]",
      "text/plain": [
       "<Figure size 864x360 with 1 Axes>"
      ]
     },
     "metadata": {
      "needs_background": "light"
     },
     "output_type": "display_data"
    }
   ],
   "source": [
    "draw_plot(x = [[i for i in range(len(history))], [(i+1)*breakpoint for i in range(len(checkpoints))]], y_list = [history, [ ckp[model.loss_fn] for ckp in checkpoints ]], x_label = 'Epochs', \\\n",
    "    y_label = model.loss_fn, legend=['train', 'test'])\n",
    "acc = [ ckp['accuracy'] for ckp in checkpoints ]\n",
    "draw_plot(x = [[(i+1)*breakpoint for i in range(len(checkpoints))]], y_list = [acc], x_label = 'Checkpoints', \\\n",
    "    y_label = 'accuracy')"
   ]
  },
  {
   "cell_type": "code",
   "execution_count": 12,
   "metadata": {},
   "outputs": [
    {
     "name": "stdout",
     "output_type": "stream",
     "text": [
      "{'accuracy': 0.9320987654320988, 'mean_square_error': 0.18691160623775913, 'categorical_crossentropy': 0.34663931528727215, 'essential_metrics': {0: {'tp_hit': 74, 'fp_hit': 5, 'tn_hit': 23, 'fn_hit': 6}, 1: {'tp_hit': 12, 'fp_hit': 3, 'tn_hit': 90, 'fn_hit': 3}, 2: {'tp_hit': 11, 'fp_hit': 3, 'tn_hit': 92, 'fn_hit': 2}}, 'checkpoint': 100} \n",
      "\n",
      "\n",
      "{'accuracy': 0.9753086419753086, 'mean_square_error': 0.061548920937510285, 'categorical_crossentropy': 0.1190134331032082, 'essential_metrics': {0: {'tp_hit': 78, 'fp_hit': 2, 'tn_hit': 26, 'fn_hit': 2}, 1: {'tp_hit': 15, 'fp_hit': 1, 'tn_hit': 92, 'fn_hit': 0}, 2: {'tp_hit': 11, 'fp_hit': 1, 'tn_hit': 94, 'fn_hit': 2}}, 'checkpoint': 200} \n",
      "\n",
      "\n",
      "{'accuracy': 0.9753086419753086, 'mean_square_error': 0.05090269251781599, 'categorical_crossentropy': 0.09702722231547038, 'essential_metrics': {0: {'tp_hit': 77, 'fp_hit': 1, 'tn_hit': 27, 'fn_hit': 3}, 1: {'tp_hit': 14, 'fp_hit': 1, 'tn_hit': 92, 'fn_hit': 1}, 2: {'tp_hit': 13, 'fp_hit': 2, 'tn_hit': 93, 'fn_hit': 0}}, 'checkpoint': 300} \n",
      "\n",
      "\n",
      "{'accuracy': 0.9753086419753086, 'mean_square_error': 0.05210273665250388, 'categorical_crossentropy': 0.09868440804658113, 'essential_metrics': {0: {'tp_hit': 77, 'fp_hit': 1, 'tn_hit': 27, 'fn_hit': 3}, 1: {'tp_hit': 14, 'fp_hit': 1, 'tn_hit': 92, 'fn_hit': 1}, 2: {'tp_hit': 13, 'fp_hit': 2, 'tn_hit': 93, 'fn_hit': 0}}, 'checkpoint': 400} \n",
      "\n",
      "\n",
      "{'accuracy': 0.9753086419753086, 'mean_square_error': 0.05681704353906744, 'categorical_crossentropy': 0.10455120934380426, 'essential_metrics': {0: {'tp_hit': 77, 'fp_hit': 1, 'tn_hit': 27, 'fn_hit': 3}, 1: {'tp_hit': 14, 'fp_hit': 1, 'tn_hit': 92, 'fn_hit': 1}, 2: {'tp_hit': 13, 'fp_hit': 2, 'tn_hit': 93, 'fn_hit': 0}}, 'checkpoint': 500} \n",
      "\n",
      "\n"
     ]
    }
   ],
   "source": [
    "for checkpoint in checkpoints:\n",
    "    print(checkpoint, '\\n\\n')"
   ]
  },
  {
   "cell_type": "code",
   "execution_count": 13,
   "metadata": {},
   "outputs": [
    {
     "name": "stdout",
     "output_type": "stream",
     "text": [
      "Layer 1\n",
      "Neuron 0: weights:\n",
      "[-0.5165815   3.          0.56030214  0.21182571 -3.        ]\n",
      " bias: 3.0\n",
      "\n",
      "Neuron 1: weights:\n",
      "[ 1.9286287  -3.         -3.         -0.87023145  2.3295858 ]\n",
      " bias: 3.0\n",
      "\n",
      "Neuron 2: weights:\n",
      "[ 0.29510516  3.          0.8356308  -3.         -3.        ]\n",
      " bias: 2.5348622798919678\n",
      "\n",
      "Neuron 3: weights:\n",
      "[ 2.0201066  -3.         -1.5077349  -0.22401376  2.4538767 ]\n",
      " bias: 3.0\n",
      "\n",
      "$\n",
      "Layer 2\n",
      "Neuron 0: weights:\n",
      "[3. 3. 3. 3.]\n",
      " bias: -3.0\n",
      "\n",
      "Neuron 1: weights:\n",
      "[ 3. -3.  3. -3.]\n",
      " bias: 2.1055750846862793\n",
      "\n",
      "Neuron 2: weights:\n",
      "[-3.         3.        -3.         2.2410202]\n",
      " bias: 3.0\n",
      "\n",
      "$\n",
      "\n"
     ]
    }
   ],
   "source": [
    "print(model)"
   ]
  }
 ],
 "metadata": {
  "kernelspec": {
   "display_name": "Python 3",
   "language": "python",
   "name": "python3"
  },
  "language_info": {
   "codemirror_mode": {
    "name": "ipython",
    "version": 3
   },
   "file_extension": ".py",
   "mimetype": "text/x-python",
   "name": "python",
   "nbconvert_exporter": "python",
   "pygments_lexer": "ipython3",
   "version": "3.6.10"
  }
 },
 "nbformat": 4,
 "nbformat_minor": 2
}
