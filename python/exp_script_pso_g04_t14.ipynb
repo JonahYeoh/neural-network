{
 "cells": [
  {
   "cell_type": "code",
   "execution_count": 1,
   "metadata": {},
   "outputs": [],
   "source": [
    "# dependency\n",
    "import numpy as np\n",
    "import pandas as pd\n",
    "import copy\n",
    "import math\n",
    "import sys\n",
    "import os\n",
    "from activations import relu, leaky_relu, sigmoid, tanh, softmax, d_sigmoid, d_relu\n",
    "from initializers import glorot_uniform, random_normal, random_uniform\n",
    "from regularizers import l1_regularizer, l2_regularizer\n",
    "from utility import trim_tail, multiply, subtract, get_nparams, one_hot_encoding, get_data\n",
    "from metrics import MSE, CCE, ACC, PRECISION, RECALL, essential_metrics, wondering_penalty, close_gap_penalty\n",
    "from pso import PSO\n",
    "from ga import GA\n",
    "from nn import Network\n",
    "from layer import DenseLayer\n",
    "from scalers import MinMaxScaler, StandardScaler"
   ]
  },
  {
   "cell_type": "code",
   "execution_count": 2,
   "metadata": {},
   "outputs": [],
   "source": [
    "# reference\n",
    "metrics_fn_dict = dict()\n",
    "metrics_fn_dict['accuracy'] = ACC\n",
    "metrics_fn_dict['categorical_crossentropy'] = CCE\n",
    "metrics_fn_dict['mean_square_error'] = MSE\n",
    "metrics_fn_dict['precision'] = PRECISION\n",
    "metrics_fn_dict['recall'] = RECALL\n",
    "metrics_fn_dict['essential_metrics'] = essential_metrics"
   ]
  },
  {
   "cell_type": "code",
   "execution_count": 3,
   "metadata": {},
   "outputs": [],
   "source": [
    "# model\n",
    "model = Network(5, lr = None)\n",
    "model.add_layer(DenseLayer(1, 4, True, afn=sigmoid, dafn=None, rfn=None))\n",
    "model.add_layer(DenseLayer(2, 3, True, afn=softmax, dafn=None, rfn=None))"
   ]
  },
  {
   "cell_type": "code",
   "execution_count": 4,
   "metadata": {},
   "outputs": [
    {
     "name": "stdout",
     "output_type": "stream",
     "text": [
      "see one see two 2 2\n"
     ]
    }
   ],
   "source": [
    "pso = PSO(dict(m = 200,\n",
    "    weight_constraint = [-3, 3], \n",
    "    velocity_constraint = [-0.1, 0.1],\n",
    "    c1 = 2,\n",
    "    c2 = 2,\n",
    "    w = 1.2,\n",
    "    w_decay = 1,\n",
    "    scale_hyperparameter = False,\n",
    "    regularizer = None,\n",
    "    mask = True))"
   ]
  },
  {
   "cell_type": "code",
   "execution_count": 5,
   "metadata": {},
   "outputs": [
    {
     "name": "stdout",
     "output_type": "stream",
     "text": [
      "building layer 1 with 5\n",
      "24\n",
      "building layer 2 with 4\n",
      "15\n"
     ]
    }
   ],
   "source": [
    "model.compile(loss_fn = 'categorical_crossentropy', optimizer = pso, \\\n",
    "    metrics = ['accuracy', 'mean_square_error', 'categorical_crossentropy'])"
   ]
  },
  {
   "cell_type": "code",
   "execution_count": 6,
   "metadata": {},
   "outputs": [
    {
     "name": "stdout",
     "output_type": "stream",
     "text": [
      "<class 'pandas.core.frame.DataFrame'>\n",
      "RangeIndex: 107 entries, 0 to 106\n",
      "Data columns (total 6 columns):\n",
      " #   Column  Non-Null Count  Dtype  \n",
      "---  ------  --------------  -----  \n",
      " 0   f1      107 non-null    float32\n",
      " 1   f2      107 non-null    float32\n",
      " 2   f3      107 non-null    float32\n",
      " 3   f4      107 non-null    float32\n",
      " 4   f5      107 non-null    float32\n",
      " 5   label   107 non-null    float32\n",
      "dtypes: float32(6)\n",
      "memory usage: 2.6 KB\n",
      "None\n",
      "<class 'pandas.core.frame.DataFrame'>\n",
      "RangeIndex: 108 entries, 0 to 107\n",
      "Data columns (total 6 columns):\n",
      " #   Column  Non-Null Count  Dtype  \n",
      "---  ------  --------------  -----  \n",
      " 0   f1      108 non-null    float32\n",
      " 1   f2      108 non-null    float32\n",
      " 2   f3      108 non-null    float32\n",
      " 3   f4      108 non-null    float32\n",
      " 4   f5      108 non-null    float32\n",
      " 5   label   108 non-null    float32\n",
      "dtypes: float32(6)\n",
      "memory usage: 2.7 KB\n",
      "None\n"
     ]
    }
   ],
   "source": [
    "# data loading\n",
    "DATA = os.path.join('c:\\\\Users\\\\AI-lab\\\\github_repo\\\\neural-network\\\\', 'dataset')\n",
    "GROUP = 4\n",
    "COLUMNS = ['f1', 'f2', 'f3', 'f4', 'f5', 'label']\n",
    "N_CLASS = 3\n",
    "EPOCHS = 200\n",
    "train_dir, test_dir = \"..//dataset//training_data{}.txt\".format(GROUP), \"..//dataset//testing_data{}.txt\".format(GROUP)\n",
    "train, test = get_data(DATA, train_dir, COLUMNS), get_data(DATA, test_dir, COLUMNS)\n",
    "# shuffle\n",
    "train, test = train.sample(frac=1), test.sample(frac=1)\n",
    "x_train, y_train = train.drop('label', axis=1), train['label']\n",
    "x_test, y_test = test.drop('label', axis=1), test['label']"
   ]
  },
  {
   "cell_type": "code",
   "execution_count": 7,
   "metadata": {},
   "outputs": [],
   "source": [
    "# data scaling and encoding\n",
    "scaler = StandardScaler(['f1', 'f2', 'f3', 'f4', 'f5'])\n",
    "scaler.fit(x_train)\n",
    "x_train = scaler.transform(x_train)\n",
    "x_test = scaler.transform(x_test)\n",
    "y_train = one_hot_encoding(y_train, N_CLASS)\n",
    "y_test = one_hot_encoding(y_test, N_CLASS)"
   ]
  },
  {
   "cell_type": "code",
   "execution_count": 8,
   "metadata": {
    "tags": [
     "outputPrepend"
    ]
   },
   "outputs": [
    {
     "name": "stdout",
     "output_type": "stream",
     "text": [
      "Checkpoint 10, Accuracy: 0.8827160493827161, Loss: 0.5999461986400463\n",
      "Checkpoint 20, Accuracy: 0.8765432098765432, Loss: 0.5530632160328053\n",
      "Checkpoint 30, Accuracy: 0.8888888888888888, Loss: 0.5746242028695566\n",
      "Checkpoint 40, Accuracy: 0.9259259259259259, Loss: 0.46360164218478733\n",
      "Checkpoint 50, Accuracy: 0.8950617283950617, Loss: 0.45394583101625796\n",
      "Checkpoint 60, Accuracy: 0.9012345679012346, Loss: 0.4597896999782986\n",
      "Checkpoint 70, Accuracy: 0.9012345679012346, Loss: 0.35299385918511283\n",
      "Checkpoint 80, Accuracy: 0.9382716049382716, Loss: 0.3095905515882704\n",
      "Checkpoint 90, Accuracy: 0.9506172839506173, Loss: 0.2241826410646792\n",
      "Checkpoint 100, Accuracy: 0.9753086419753086, Loss: 0.17825345639829282\n",
      "Checkpoint 110, Accuracy: 0.9876543209876543, Loss: 0.14403552479214138\n",
      "Checkpoint 120, Accuracy: 0.9691358024691358, Loss: 0.1312318378024631\n",
      "Checkpoint 130, Accuracy: 0.9691358024691358, Loss: 0.12037490915369105\n",
      "Checkpoint 140, Accuracy: 0.9691358024691358, Loss: 0.11244553106802481\n",
      "Checkpoint 150, Accuracy: 0.9567901234567902, Loss: 0.12775198618570963\n",
      "Checkpoint 160, Accuracy: 0.9691358024691358, Loss: 0.12477122412787543\n",
      "Checkpoint 170, Accuracy: 0.9567901234567902, Loss: 0.13453332583109537\n",
      "Checkpoint 180, Accuracy: 0.9629629629629629, Loss: 0.12146269833600079\n",
      "Checkpoint 190, Accuracy: 0.9567901234567902, Loss: 0.13431682410063567\n",
      "Checkpoint 200, Accuracy: 0.9691358024691358, Loss: 0.12526870656896522\n"
     ]
    }
   ],
   "source": [
    "# learning phase\n",
    "breakpoint = 10\n",
    "checkpoints = list()\n",
    "history = list()\n",
    "for century in range(0, EPOCHS, breakpoint):\n",
    "    sub_history = model.fit(x_train, y_train, breakpoint, verbose = 0)\n",
    "    score = model.evaluate(x_test, y_test, False, verbose = 0)\n",
    "    print('Checkpoint {}, Accuracy: {}, Loss: {}'.format(century+breakpoint, score['accuracy'], score[model.loss_fn]))\n",
    "    score['checkpoint'] = century + breakpoint\n",
    "    checkpoints.append(score)\n",
    "    history.extend(sub_history)"
   ]
  },
  {
   "cell_type": "code",
   "execution_count": 9,
   "metadata": {},
   "outputs": [],
   "source": [
    "import matplotlib.pyplot as plt\n",
    "\n",
    "def draw_plot(x, y_list, x_label=None, y_label=None, legend=None, title=None):\n",
    "    fig, ax = plt.subplots(figsize=(12,5))\n",
    "    for xi, yi in zip(x, y_list):\n",
    "        ax.plot(xi, yi)\n",
    "    if x_label is not None and y_label is not None:\n",
    "        ax.set(xlabel=x_label, ylabel=y_label, title='{} VS {}'.format(x_label, y_label))\n",
    "    if legend is not None:\n",
    "        ax.legend(legend)\n",
    "    ax.grid()\n",
    "    plt.show()"
   ]
  },
  {
   "cell_type": "code",
   "execution_count": 10,
   "metadata": {},
   "outputs": [
    {
     "name": "stdout",
     "output_type": "stream",
     "text": [
      "[1. 0. 0.] <-> [0.9944326  0.00273181 0.00283561]\n",
      "[1. 0. 0.] <-> [0.9937663  0.00209981 0.00413384]\n",
      "[1. 0. 0.] <-> [0.9889474  0.00197162 0.00908094]\n",
      "[1. 0. 0.] <-> [0.9940341  0.0027962  0.00316967]\n",
      "[1. 0. 0.] <-> [0.9507485  0.00235385 0.04689775]\n",
      "[1. 0. 0.] <-> [0.99316347 0.00323285 0.00360365]\n",
      "[1. 0. 0.] <-> [0.99105644 0.0023218  0.00662176]\n",
      "[0. 1. 0.] <-> [2.8095525e-02 9.7172666e-01 1.7779470e-04]\n",
      "[1. 0. 0.] <-> [0.959437   0.03657858 0.00398441]\n",
      "[1. 0. 0.] <-> [0.9929819  0.00428226 0.0027358 ]\n",
      "[0. 1. 0.] <-> [1.4476857e-02 9.8542100e-01 1.0224451e-04]\n",
      "[0. 1. 0.] <-> [1.2040994e-02 9.8787618e-01 8.2767234e-05]\n",
      "[1. 0. 0.] <-> [0.5100614  0.48726502 0.00267364]\n",
      "[1. 0. 0.] <-> [0.9810372  0.01652944 0.00243338]\n",
      "[1. 0. 0.] <-> [0.9903352  0.00294565 0.00671913]\n",
      "[0. 0. 1.] <-> [1.8844247e-02 8.9089430e-05 9.8106670e-01]\n",
      "[0. 0. 1.] <-> [1.0526314e-02 5.0016988e-05 9.8942369e-01]\n",
      "[0. 0. 1.] <-> [1.0808416e-02 5.1389470e-05 9.8914015e-01]\n",
      "[1. 0. 0.] <-> [0.9942748  0.00271478 0.00301045]\n",
      "[1. 0. 0.] <-> [6.9695845e-02 2.9711897e-04 9.3000710e-01]\n",
      "[1. 0. 0.] <-> [0.92719555 0.00242086 0.07038365]\n",
      "[1. 0. 0.] <-> [0.96419483 0.02458732 0.0112178 ]\n",
      "[1. 0. 0.] <-> [0.98006505 0.01568868 0.00424626]\n",
      "[1. 0. 0.] <-> [0.98764825 0.0018176  0.01053412]\n",
      "[1. 0. 0.] <-> [0.95840824 0.00233065 0.03926115]\n",
      "[1. 0. 0.] <-> [0.992543   0.00441021 0.00304689]\n",
      "[1. 0. 0.] <-> [0.9945497 0.002348  0.0031024]\n",
      "[1. 0. 0.] <-> [0.9916856  0.00472515 0.00358925]\n",
      "[1. 0. 0.] <-> [0.99180955 0.00216683 0.00602364]\n",
      "[1. 0. 0.] <-> [0.9933826  0.00256484 0.0040526 ]\n",
      "[1. 0. 0.] <-> [0.99337715 0.00317764 0.00344513]\n",
      "[1. 0. 0.] <-> [0.9803601  0.00196249 0.01767749]\n",
      "[1. 0. 0.] <-> [0.9900955  0.0068919  0.00301255]\n",
      "[1. 0. 0.] <-> [0.7156566  0.0017904  0.28255305]\n",
      "[0. 1. 0.] <-> [0.35299012 0.6450419  0.00196798]\n",
      "[0. 0. 1.] <-> [5.8449909e-02 2.5224427e-04 9.4129783e-01]\n",
      "[0. 1. 0.] <-> [1.21729635e-02 9.87741828e-01 8.52555895e-05]\n",
      "[1. 0. 0.] <-> [0.93558335 0.06131312 0.00310359]\n",
      "[1. 0. 0.] <-> [0.9907481  0.0028538  0.00639807]\n",
      "[0. 0. 1.] <-> [6.1050672e-02 2.8276720e-04 9.3866658e-01]\n",
      "[1. 0. 0.] <-> [0.9939079  0.00177707 0.00431502]\n",
      "[1. 0. 0.] <-> [0.99204916 0.00171473 0.00623615]\n",
      "[0. 1. 0.] <-> [1.2040975e-02 9.8787653e-01 8.2462037e-05]\n",
      "[1. 0. 0.] <-> [0.9891164  0.00827557 0.00260814]\n",
      "[0. 0. 1.] <-> [1.9950246e-02 9.1174370e-05 9.7995859e-01]\n",
      "[1. 0. 0.] <-> [0.99318975 0.00192469 0.00488551]\n",
      "[1. 0. 0.] <-> [0.9941273  0.00258171 0.00329105]\n",
      "[0. 0. 1.] <-> [0.7221304  0.00182253 0.27604705]\n",
      "[1. 0. 0.] <-> [0.9924327  0.00469867 0.00286865]\n",
      "[1. 0. 0.] <-> [0.99466443 0.00180763 0.00352796]\n",
      "[1. 0. 0.] <-> [0.9935684  0.00285543 0.00357615]\n",
      "[0. 0. 1.] <-> [1.0525122e-02 5.0082439e-05 9.8942482e-01]\n",
      "[1. 0. 0.] <-> [1.3997222e-01 8.5926789e-01 7.5983111e-04]\n",
      "[0. 1. 0.] <-> [1.2040952e-02 9.8787653e-01 8.2509629e-05]\n",
      "[1. 0. 0.] <-> [0.98713756 0.00531739 0.00754502]\n",
      "[0. 1. 0.] <-> [1.2040953e-02 9.8787665e-01 8.2465427e-05]\n",
      "[1. 0. 0.] <-> [0.98514056 0.0022572  0.01260228]\n",
      "[0. 1. 0.] <-> [1.2051403e-02 9.8786539e-01 8.3282961e-05]\n",
      "[1. 0. 0.] <-> [0.9858781  0.00188449 0.01223737]\n",
      "[1. 0. 0.] <-> [0.9611672  0.00229652 0.0365363 ]\n",
      "[1. 0. 0.] <-> [0.98703974 0.00194114 0.01101916]\n",
      "[1. 0. 0.] <-> [0.9917973  0.00475394 0.00344868]\n",
      "[0. 1. 0.] <-> [1.2041257e-02 9.8787606e-01 8.2716244e-05]\n",
      "[0. 0. 1.] <-> [1.0892234e-02 5.1737119e-05 9.8905599e-01]\n",
      "[0. 1. 0.] <-> [1.2138449e-02 9.8777777e-01 8.3714003e-05]\n",
      "[1. 0. 0.] <-> [0.99095726 0.00259294 0.00644974]\n",
      "[1. 0. 0.] <-> [0.9306946  0.00255125 0.06675417]\n",
      "[1. 0. 0.] <-> [0.9931117  0.00379007 0.00309824]\n",
      "[0. 1. 0.] <-> [7.9348564e-02 9.2018104e-01 4.7031537e-04]\n",
      "[0. 1. 0.] <-> [0.21577792 0.783098   0.00112414]\n",
      "[0. 0. 1.] <-> [1.6043868e-02 7.5366996e-05 9.8388082e-01]\n",
      "[0. 0. 1.] <-> [1.291177e-02 6.101519e-05 9.870272e-01]\n",
      "[1. 0. 0.] <-> [0.99209666 0.00180221 0.00610113]\n",
      "[1. 0. 0.] <-> [0.9946175  0.00200673 0.0033758 ]\n",
      "[1. 0. 0.] <-> [0.99205595 0.00467375 0.00327031]\n",
      "[1. 0. 0.] <-> [0.7679696  0.22933881 0.00269167]\n",
      "[1. 0. 0.] <-> [0.99196446 0.00383304 0.00420258]\n",
      "[1. 0. 0.] <-> [0.97814107 0.00544071 0.01641825]\n",
      "[0. 0. 1.] <-> [0.74683166 0.00214769 0.2510207 ]\n",
      "[1. 0. 0.] <-> [0.6489305  0.00178901 0.34928045]\n",
      "[1. 0. 0.] <-> [0.99395955 0.00171344 0.00432703]\n",
      "[1. 0. 0.] <-> [0.3704471  0.6278151  0.00173773]\n",
      "[1. 0. 0.] <-> [0.9700861  0.01741944 0.01249443]\n",
      "[1. 0. 0.] <-> [0.9940831  0.00189556 0.00402126]\n",
      "[1. 0. 0.] <-> [0.86534226 0.13134503 0.00331265]\n",
      "[1. 0. 0.] <-> [0.98627996 0.00186853 0.01185158]\n",
      "[1. 0. 0.] <-> [0.93693805 0.00240776 0.06065419]\n",
      "[0. 0. 1.] <-> [1.0528286e-02 5.0031009e-05 9.8942167e-01]\n",
      "[1. 0. 0.] <-> [0.99344313 0.00187192 0.00468496]\n",
      "[1. 0. 0.] <-> [0.9903126  0.00493918 0.00474829]\n",
      "[1. 0. 0.] <-> [0.9927872  0.00466947 0.00254339]\n",
      "[1. 0. 0.] <-> [0.98560864 0.00183518 0.01255614]\n",
      "[1. 0. 0.] <-> [0.9829609  0.00220472 0.0148344 ]\n",
      "[1. 0. 0.] <-> [0.9944265  0.0020573  0.00351613]\n",
      "[0. 0. 1.] <-> [1.4434514e-02 6.8294707e-05 9.8549718e-01]\n",
      "[1. 0. 0.] <-> [0.979422   0.01676357 0.0038144 ]\n",
      "[0. 1. 0.] <-> [3.1075962e-02 9.6871424e-01 2.0980534e-04]\n",
      "[1. 0. 0.] <-> [0.57010245 0.42741305 0.00248456]\n",
      "[0. 1. 0.] <-> [3.7764728e-02 9.6198720e-01 2.4810198e-04]\n",
      "[1. 0. 0.] <-> [0.98880684 0.00819863 0.00299448]\n",
      "[1. 0. 0.] <-> [0.7097229  0.28758836 0.00268873]\n",
      "[1. 0. 0.] <-> [0.9937397  0.00330742 0.00295293]\n",
      "[1. 0. 0.] <-> [0.9134882  0.00195646 0.08455534]\n",
      "[1. 0. 0.] <-> [0.9925557  0.00467954 0.00276478]\n",
      "[1. 0. 0.] <-> [0.9896387  0.00208779 0.00827351]\n",
      "[1. 0. 0.] <-> [0.9425404  0.05324953 0.00421003]\n",
      "[0. 1. 0.] <-> [3.5606351e-02 9.6414143e-01 2.5213175e-04]\n",
      "[1. 0. 0.] <-> [0.9937117  0.00244907 0.00383922]\n",
      "{'accuracy': 0.9691358024691358, 'mean_square_error': 0.075861353758191, 'categorical_crossentropy': 0.12526870656896522, 'essential_metrics': {0: {'tp_hit': 75, 'fp_hit': 2, 'tn_hit': 28, 'fn_hit': 3}, 1: {'tp_hit': 16, 'fp_hit': 2, 'tn_hit': 90, 'fn_hit': 0}, 2: {'tp_hit': 12, 'fp_hit': 1, 'tn_hit': 93, 'fn_hit': 2}}}\n"
     ]
    }
   ],
   "source": [
    "# recall phase\n",
    "score = model.evaluate(x_test, y_test, False)\n",
    "print(score)"
   ]
  },
  {
   "cell_type": "code",
   "execution_count": 11,
   "metadata": {},
   "outputs": [],
   "source": [
    "train_acc = [h['accuracy'] for h in history]\n",
    "train_mse = [h['mean_square_error'] for h in history]\n",
    "train_cce = [h['categorical_crossentropy'] for h in history]"
   ]
  },
  {
   "cell_type": "code",
   "execution_count": 12,
   "metadata": {},
   "outputs": [
    {
     "data": {
      "image/png": "[encoded data removed]",
      "text/plain": [
       "<Figure size 864x360 with 1 Axes>"
      ]
     },
     "metadata": {
      "needs_background": "light"
     },
     "output_type": "display_data"
    },
    {
     "data": {
      "image/png": "[encoded data removed]",
      "text/plain": [
       "<Figure size 864x360 with 1 Axes>"
      ]
     },
     "metadata": {
      "needs_background": "light"
     },
     "output_type": "display_data"
    }
   ],
   "source": [
    "draw_plot(x = [[i for i in range(len(history))], [(i+1)*breakpoint for i in range(len(checkpoints))]], y_list = [train_cce, [ ckp[model.loss_fn] for ckp in checkpoints ]], x_label = 'Epochs', \\\n",
    "    y_label = model.loss_fn, legend=['train', 'test'])\n",
    "acc = [ ckp['accuracy'] for ckp in checkpoints ]\n",
    "draw_plot(x = [[i for i in range(len(history))], [(i+1)*breakpoint for i in range(len(checkpoints))]], y_list = [train_acc, acc], x_label = 'Checkpoints', \\\n",
    "    y_label = 'accuracy', legend=['train', 'test'])"
   ]
  },
  {
   "cell_type": "code",
   "execution_count": 13,
   "metadata": {},
   "outputs": [
    {
     "name": "stdout",
     "output_type": "stream",
     "text": [
      "{'accuracy': 0.8827160493827161, 'mean_square_error': 0.32180745563482177, 'categorical_crossentropy': 0.5999461986400463, 'essential_metrics': {0: {'tp_hit': 76, 'fp_hit': 14, 'tn_hit': 16, 'fn_hit': 2}, 1: {'tp_hit': 12, 'fp_hit': 4, 'tn_hit': 88, 'fn_hit': 4}, 2: {'tp_hit': 1, 'fp_hit': 1, 'tn_hit': 93, 'fn_hit': 13}}, 'checkpoint': 10} \n",
      "\n",
      "\n",
      "{'accuracy': 0.8765432098765432, 'mean_square_error': 0.30024435603493205, 'categorical_crossentropy': 0.5530632160328053, 'essential_metrics': {0: {'tp_hit': 78, 'fp_hit': 19, 'tn_hit': 11, 'fn_hit': 0}, 1: {'tp_hit': 9, 'fp_hit': 1, 'tn_hit': 91, 'fn_hit': 7}, 2: {'tp_hit': 1, 'fp_hit': 0, 'tn_hit': 94, 'fn_hit': 13}}, 'checkpoint': 20} \n",
      "\n",
      "\n",
      "{'accuracy': 0.8888888888888888, 'mean_square_error': 0.31219571294589593, 'categorical_crossentropy': 0.5746242028695566, 'essential_metrics': {0: {'tp_hit': 73, 'fp_hit': 13, 'tn_hit': 17, 'fn_hit': 5}, 1: {'tp_hit': 14, 'fp_hit': 5, 'tn_hit': 87, 'fn_hit': 2}, 2: {'tp_hit': 3, 'fp_hit': 0, 'tn_hit': 94, 'fn_hit': 11}}, 'checkpoint': 30} \n",
      "\n",
      "\n",
      "{'accuracy': 0.9259259259259259, 'mean_square_error': 0.23838841302977384, 'categorical_crossentropy': 0.46360164218478733, 'essential_metrics': {0: {'tp_hit': 78, 'fp_hit': 12, 'tn_hit': 18, 'fn_hit': 0}, 1: {'tp_hit': 11, 'fp_hit': 0, 'tn_hit': 92, 'fn_hit': 5}, 2: {'tp_hit': 7, 'fp_hit': 0, 'tn_hit': 94, 'fn_hit': 7}}, 'checkpoint': 40} \n",
      "\n",
      "\n",
      "{'accuracy': 0.8950617283950617, 'mean_square_error': 0.2506027146296831, 'categorical_crossentropy': 0.45394583101625796, 'essential_metrics': {0: {'tp_hit': 78, 'fp_hit': 17, 'tn_hit': 13, 'fn_hit': 0}, 1: {'tp_hit': 8, 'fp_hit': 0, 'tn_hit': 92, 'fn_hit': 8}, 2: {'tp_hit': 5, 'fp_hit': 0, 'tn_hit': 94, 'fn_hit': 9}}, 'checkpoint': 50} \n",
      "\n",
      "\n",
      "{'accuracy': 0.9012345679012346, 'mean_square_error': 0.25657155746338267, 'categorical_crossentropy': 0.4597896999782986, 'essential_metrics': {0: {'tp_hit': 78, 'fp_hit': 16, 'tn_hit': 14, 'fn_hit': 0}, 1: {'tp_hit': 11, 'fp_hit': 0, 'tn_hit': 92, 'fn_hit': 5}, 2: {'tp_hit': 3, 'fp_hit': 0, 'tn_hit': 94, 'fn_hit': 11}}, 'checkpoint': 60} \n",
      "\n",
      "\n",
      "{'accuracy': 0.9012345679012346, 'mean_square_error': 0.20184362069239345, 'categorical_crossentropy': 0.35299385918511283, 'essential_metrics': {0: {'tp_hit': 77, 'fp_hit': 15, 'tn_hit': 15, 'fn_hit': 1}, 1: {'tp_hit': 9, 'fp_hit': 0, 'tn_hit': 92, 'fn_hit': 7}, 2: {'tp_hit': 6, 'fp_hit': 1, 'tn_hit': 93, 'fn_hit': 8}}, 'checkpoint': 70} \n",
      "\n",
      "\n",
      "{'accuracy': 0.9382716049382716, 'mean_square_error': 0.1604642249297133, 'categorical_crossentropy': 0.3095905515882704, 'essential_metrics': {0: {'tp_hit': 76, 'fp_hit': 8, 'tn_hit': 22, 'fn_hit': 2}, 1: {'tp_hit': 12, 'fp_hit': 1, 'tn_hit': 91, 'fn_hit': 4}, 2: {'tp_hit': 10, 'fp_hit': 1, 'tn_hit': 93, 'fn_hit': 4}}, 'checkpoint': 80} \n",
      "\n",
      "\n",
      "{'accuracy': 0.9506172839506173, 'mean_square_error': 0.11143337320058766, 'categorical_crossentropy': 0.2241826410646792, 'essential_metrics': {0: {'tp_hit': 78, 'fp_hit': 8, 'tn_hit': 22, 'fn_hit': 0}, 1: {'tp_hit': 11, 'fp_hit': 0, 'tn_hit': 92, 'fn_hit': 5}, 2: {'tp_hit': 11, 'fp_hit': 0, 'tn_hit': 94, 'fn_hit': 3}}, 'checkpoint': 90} \n",
      "\n",
      "\n",
      "{'accuracy': 0.9753086419753086, 'mean_square_error': 0.08388863930401654, 'categorical_crossentropy': 0.17825345639829282, 'essential_metrics': {0: {'tp_hit': 77, 'fp_hit': 3, 'tn_hit': 27, 'fn_hit': 1}, 1: {'tp_hit': 15, 'fp_hit': 1, 'tn_hit': 91, 'fn_hit': 1}, 2: {'tp_hit': 12, 'fp_hit': 0, 'tn_hit': 94, 'fn_hit': 2}}, 'checkpoint': 100} \n",
      "\n",
      "\n",
      "{'accuracy': 0.9876543209876543, 'mean_square_error': 0.06574840241824459, 'categorical_crossentropy': 0.14403552479214138, 'essential_metrics': {0: {'tp_hit': 78, 'fp_hit': 2, 'tn_hit': 28, 'fn_hit': 0}, 1: {'tp_hit': 15, 'fp_hit': 0, 'tn_hit': 92, 'fn_hit': 1}, 2: {'tp_hit': 13, 'fp_hit': 0, 'tn_hit': 94, 'fn_hit': 1}}, 'checkpoint': 110} \n",
      "\n",
      "\n",
      "{'accuracy': 0.9691358024691358, 'mean_square_error': 0.0612477218855561, 'categorical_crossentropy': 0.1312318378024631, 'essential_metrics': {0: {'tp_hit': 75, 'fp_hit': 2, 'tn_hit': 28, 'fn_hit': 3}, 1: {'tp_hit': 15, 'fp_hit': 2, 'tn_hit': 90, 'fn_hit': 1}, 2: {'tp_hit': 13, 'fp_hit': 1, 'tn_hit': 93, 'fn_hit': 1}}, 'checkpoint': 120} \n",
      "\n",
      "\n",
      "{'accuracy': 0.9691358024691358, 'mean_square_error': 0.06119801367482686, 'categorical_crossentropy': 0.12037490915369105, 'essential_metrics': {0: {'tp_hit': 76, 'fp_hit': 3, 'tn_hit': 27, 'fn_hit': 2}, 1: {'tp_hit': 15, 'fp_hit': 1, 'tn_hit': 91, 'fn_hit': 1}, 2: {'tp_hit': 12, 'fp_hit': 1, 'tn_hit': 93, 'fn_hit': 2}}, 'checkpoint': 130} \n",
      "\n",
      "\n",
      "{'accuracy': 0.9691358024691358, 'mean_square_error': 0.05668800127523935, 'categorical_crossentropy': 0.11244553106802481, 'essential_metrics': {0: {'tp_hit': 76, 'fp_hit': 3, 'tn_hit': 27, 'fn_hit': 2}, 1: {'tp_hit': 15, 'fp_hit': 1, 'tn_hit': 91, 'fn_hit': 1}, 2: {'tp_hit': 12, 'fp_hit': 1, 'tn_hit': 93, 'fn_hit': 2}}, 'checkpoint': 140} \n",
      "\n",
      "\n",
      "{'accuracy': 0.9567901234567902, 'mean_square_error': 0.07124535486529807, 'categorical_crossentropy': 0.12775198618570963, 'essential_metrics': {0: {'tp_hit': 74, 'fp_hit': 3, 'tn_hit': 27, 'fn_hit': 4}, 1: {'tp_hit': 15, 'fp_hit': 3, 'tn_hit': 89, 'fn_hit': 1}, 2: {'tp_hit': 12, 'fp_hit': 1, 'tn_hit': 93, 'fn_hit': 2}}, 'checkpoint': 150} \n",
      "\n",
      "\n",
      "{'accuracy': 0.9691358024691358, 'mean_square_error': 0.07129758015649146, 'categorical_crossentropy': 0.12477122412787543, 'essential_metrics': {0: {'tp_hit': 75, 'fp_hit': 2, 'tn_hit': 28, 'fn_hit': 3}, 1: {'tp_hit': 16, 'fp_hit': 2, 'tn_hit': 90, 'fn_hit': 0}, 2: {'tp_hit': 12, 'fp_hit': 1, 'tn_hit': 93, 'fn_hit': 2}}, 'checkpoint': 160} \n",
      "\n",
      "\n",
      "{'accuracy': 0.9567901234567902, 'mean_square_error': 0.08096889870045672, 'categorical_crossentropy': 0.13453332583109537, 'essential_metrics': {0: {'tp_hit': 74, 'fp_hit': 3, 'tn_hit': 27, 'fn_hit': 4}, 1: {'tp_hit': 15, 'fp_hit': 3, 'tn_hit': 89, 'fn_hit': 1}, 2: {'tp_hit': 12, 'fp_hit': 1, 'tn_hit': 93, 'fn_hit': 2}}, 'checkpoint': 170} \n",
      "\n",
      "\n",
      "{'accuracy': 0.9629629629629629, 'mean_square_error': 0.06955773848188225, 'categorical_crossentropy': 0.12146269833600079, 'essential_metrics': {0: {'tp_hit': 75, 'fp_hit': 3, 'tn_hit': 27, 'fn_hit': 3}, 1: {'tp_hit': 15, 'fp_hit': 2, 'tn_hit': 90, 'fn_hit': 1}, 2: {'tp_hit': 12, 'fp_hit': 1, 'tn_hit': 93, 'fn_hit': 2}}, 'checkpoint': 180} \n",
      "\n",
      "\n",
      "{'accuracy': 0.9567901234567902, 'mean_square_error': 0.0817436964985136, 'categorical_crossentropy': 0.13431682410063567, 'essential_metrics': {0: {'tp_hit': 74, 'fp_hit': 3, 'tn_hit': 27, 'fn_hit': 4}, 1: {'tp_hit': 15, 'fp_hit': 3, 'tn_hit': 89, 'fn_hit': 1}, 2: {'tp_hit': 12, 'fp_hit': 1, 'tn_hit': 93, 'fn_hit': 2}}, 'checkpoint': 190} \n",
      "\n",
      "\n",
      "{'accuracy': 0.9691358024691358, 'mean_square_error': 0.075861353758191, 'categorical_crossentropy': 0.12526870656896522, 'essential_metrics': {0: {'tp_hit': 75, 'fp_hit': 2, 'tn_hit': 28, 'fn_hit': 3}, 1: {'tp_hit': 16, 'fp_hit': 2, 'tn_hit': 90, 'fn_hit': 0}, 2: {'tp_hit': 12, 'fp_hit': 1, 'tn_hit': 93, 'fn_hit': 2}}, 'checkpoint': 200} \n",
      "\n",
      "\n"
     ]
    }
   ],
   "source": [
    "for checkpoint in checkpoints:\n",
    "    print(checkpoint, '\\n\\n')"
   ]
  },
  {
   "cell_type": "code",
   "execution_count": 14,
   "metadata": {},
   "outputs": [
    {
     "name": "stdout",
     "output_type": "stream",
     "text": [
      "Layer 1\n",
      "Neuron 0: weights:\n",
      "[-0.6436229  1.5570668  1.7997543 -2.2243774 -3.       ]\n",
      " bias: 1.6158850193023682\n",
      "\n",
      "Neuron 1: weights:\n",
      "[-0.09004534 -3.          0.9539948   1.3764666   3.        ]\n",
      " bias: -2.1711502075195312\n",
      "\n",
      "Neuron 2: weights:\n",
      "[-1.790283   2.3114254  2.3132737  0.9064712 -1.412    ]\n",
      " bias: -1.8021860122680664\n",
      "\n",
      "Neuron 3: weights:\n",
      "[ 1.9525038  -3.         -3.          3.         -0.04399007]\n",
      " bias: 3.0\n",
      "\n",
      "$\n",
      "Layer 2\n",
      "Neuron 0: weights:\n",
      "[ 1.6709231 -3.        -2.0489776  3.       ]\n",
      " bias: 0.18876811861991882\n",
      "\n",
      "Neuron 1: weights:\n",
      "[ 0.37851134 -3.          3.         -3.        ]\n",
      " bias: 0.8394462466239929\n",
      "\n",
      "Neuron 2: weights:\n",
      "[-3.         3.        -3.         0.9050643]\n",
      " bias: 0.8269405961036682\n",
      "\n",
      "$\n",
      "\n"
     ]
    }
   ],
   "source": [
    "print(model)"
   ]
  },
  {
   "cell_type": "code",
   "execution_count": null,
   "metadata": {},
   "outputs": [],
   "source": []
  }
 ],
 "metadata": {
  "kernelspec": {
   "display_name": "Python 3",
   "language": "python",
   "name": "python3"
  },
  "language_info": {
   "codemirror_mode": {
    "name": "ipython",
    "version": 3
   },
   "file_extension": ".py",
   "mimetype": "text/x-python",
   "name": "python",
   "nbconvert_exporter": "python",
   "pygments_lexer": "ipython3",
   "version": "3.6.12"
  }
 },
 "nbformat": 4,
 "nbformat_minor": 2
}
