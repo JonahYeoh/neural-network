{
 "cells": [
  {
   "cell_type": "code",
   "execution_count": 1,
   "metadata": {},
   "outputs": [],
   "source": [
    "# dependency\n",
    "import numpy as np\n",
    "import pandas as pd\n",
    "import copy\n",
    "import math\n",
    "import sys\n",
    "import os\n",
    "from activations import relu, leaky_relu, sigmoid, tanh, softmax, d_sigmoid, d_relu\n",
    "from initializers import glorot_uniform, random_normal, random_uniform\n",
    "from regularizers import l1_regularizer, l2_regularizer\n",
    "from utility import trim_tail, multiply, subtract, get_nparams, one_hot_encoding, get_data\n",
    "from metrics import MSE, CCE, ACC, PRECISION, RECALL, essential_metrics, wondering_penalty, close_gap_penalty\n",
    "from pso import PSO\n",
    "from ga import GA\n",
    "from nn import Network\n",
    "from layer import DenseLayer\n",
    "from scalers import MinMaxScaler, StandardScaler"
   ]
  },
  {
   "cell_type": "code",
   "execution_count": 2,
   "metadata": {},
   "outputs": [],
   "source": [
    "# reference\n",
    "metrics_fn_dict = dict()\n",
    "metrics_fn_dict['accuracy'] = ACC\n",
    "metrics_fn_dict['categorical_crossentropy'] = CCE\n",
    "metrics_fn_dict['mean_square_error'] = MSE\n",
    "metrics_fn_dict['precision'] = PRECISION\n",
    "metrics_fn_dict['recall'] = RECALL\n",
    "metrics_fn_dict['essential_metrics'] = essential_metrics"
   ]
  },
  {
   "cell_type": "code",
   "execution_count": 3,
   "metadata": {},
   "outputs": [],
   "source": [
    "# model\n",
    "model = Network(5, lr = None)\n",
    "model.add_layer(DenseLayer(1, 4, True, afn=sigmoid, dafn=None, rfn=None))\n",
    "model.add_layer(DenseLayer(2, 3, True, afn=softmax, dafn=None, rfn=None))"
   ]
  },
  {
   "cell_type": "code",
   "execution_count": 4,
   "metadata": {},
   "outputs": [
    {
     "name": "stdout",
     "output_type": "stream",
     "text": [
      "see one see two 2 2\n"
     ]
    }
   ],
   "source": [
    "pso = PSO(dict(m = 50,\n",
    "    weight_constraint = [-3, 3], \n",
    "    velocity_constraint = [-0.1, 0.1],\n",
    "    c1 = 2,\n",
    "    c2 = 2,\n",
    "    w = 0.8,\n",
    "    w_decay = 1,\n",
    "    scale_hyperparameter = False,\n",
    "    regularizer = None,\n",
    "    mask = True))"
   ]
  },
  {
   "cell_type": "code",
   "execution_count": 5,
   "metadata": {},
   "outputs": [
    {
     "name": "stdout",
     "output_type": "stream",
     "text": [
      "building layer 1 with 5\n",
      "24\n",
      "building layer 2 with 4\n",
      "15\n"
     ]
    }
   ],
   "source": [
    "model.compile(loss_fn = 'categorical_crossentropy', optimizer = pso, \\\n",
    "    metrics = ['accuracy', 'mean_square_error', 'categorical_crossentropy'])"
   ]
  },
  {
   "cell_type": "code",
   "execution_count": 6,
   "metadata": {},
   "outputs": [
    {
     "name": "stdout",
     "output_type": "stream",
     "text": [
      "<class 'pandas.core.frame.DataFrame'>\n",
      "RangeIndex: 107 entries, 0 to 106\n",
      "Data columns (total 6 columns):\n",
      " #   Column  Non-Null Count  Dtype  \n",
      "---  ------  --------------  -----  \n",
      " 0   f1      107 non-null    float32\n",
      " 1   f2      107 non-null    float32\n",
      " 2   f3      107 non-null    float32\n",
      " 3   f4      107 non-null    float32\n",
      " 4   f5      107 non-null    float32\n",
      " 5   label   107 non-null    float32\n",
      "dtypes: float32(6)\n",
      "memory usage: 2.6 KB\n",
      "None\n",
      "<class 'pandas.core.frame.DataFrame'>\n",
      "RangeIndex: 108 entries, 0 to 107\n",
      "Data columns (total 6 columns):\n",
      " #   Column  Non-Null Count  Dtype  \n",
      "---  ------  --------------  -----  \n",
      " 0   f1      108 non-null    float32\n",
      " 1   f2      108 non-null    float32\n",
      " 2   f3      108 non-null    float32\n",
      " 3   f4      108 non-null    float32\n",
      " 4   f5      108 non-null    float32\n",
      " 5   label   108 non-null    float32\n",
      "dtypes: float32(6)\n",
      "memory usage: 2.7 KB\n",
      "None\n"
     ]
    }
   ],
   "source": [
    "# data loading\n",
    "DATA = os.path.join('c:\\\\Users\\\\tcumi\\\\github_repo\\\\neural-network\\\\', 'dataset')\n",
    "GROUP = 4\n",
    "COLUMNS = ['f1', 'f2', 'f3', 'f4', 'f5', 'label']\n",
    "N_CLASS = 3\n",
    "EPOCHS = 500\n",
    "train_dir, test_dir = \"..//dataset//training_data{}.txt\".format(GROUP), \"..//dataset//testing_data{}.txt\".format(GROUP)\n",
    "train, test = get_data(DATA, train_dir, COLUMNS), get_data(DATA, test_dir, COLUMNS)\n",
    "# shuffle\n",
    "train, test = train.sample(frac=1), test.sample(frac=1)\n",
    "x_train, y_train = train.drop('label', axis=1), train['label']\n",
    "x_test, y_test = test.drop('label', axis=1), test['label']"
   ]
  },
  {
   "cell_type": "code",
   "execution_count": 7,
   "metadata": {},
   "outputs": [],
   "source": [
    "# data scaling and encoding\n",
    "scaler = StandardScaler(['f1', 'f2', 'f3', 'f4', 'f5'])\n",
    "scaler.fit(x_train)\n",
    "x_train = scaler.transform(x_train)\n",
    "x_test = scaler.transform(x_test)\n",
    "y_train = one_hot_encoding(y_train, N_CLASS)\n",
    "y_test = one_hot_encoding(y_test, N_CLASS)"
   ]
  },
  {
   "cell_type": "code",
   "execution_count": 8,
   "metadata": {
    "tags": [
     "outputPrepend"
    ]
   },
   "outputs": [
    {
     "name": "stdout",
     "output_type": "stream",
     "text": [
      "Checkpoint 100, Accuracy: 0.9814814814814815, Loss: 0.15252968117042823\n",
      "Checkpoint 200, Accuracy: 0.9691358024691358, Loss: 0.08990925329702872\n",
      "Checkpoint 300, Accuracy: 0.9629629629629629, Loss: 0.10743844067608868\n",
      "Checkpoint 400, Accuracy: 0.9691358024691358, Loss: 0.10685831529122812\n",
      "Checkpoint 500, Accuracy: 0.9691358024691358, Loss: 0.10685831529122812\n"
     ]
    }
   ],
   "source": [
    "# learning phase\n",
    "breakpoint = 100\n",
    "checkpoints = list()\n",
    "history = list()\n",
    "for century in range(0, EPOCHS, breakpoint):\n",
    "    sub_history = model.fit(x_train, y_train, breakpoint, verbose = 0)\n",
    "    score = model.evaluate(x_test, y_test, False, verbose = 0)\n",
    "    print('Checkpoint {}, Accuracy: {}, Loss: {}'.format(century+breakpoint, score['accuracy'], score[model.loss_fn]))\n",
    "    score['checkpoint'] = century + breakpoint\n",
    "    checkpoints.append(score)\n",
    "    history.extend(sub_history)"
   ]
  },
  {
   "cell_type": "code",
   "execution_count": 9,
   "metadata": {},
   "outputs": [],
   "source": [
    "import matplotlib.pyplot as plt\n",
    "\n",
    "def draw_plot(x, y_list, x_label=None, y_label=None, legend=None, title=None):\n",
    "    fig, ax = plt.subplots(figsize=(12,5))\n",
    "    for xi, yi in zip(x, y_list):\n",
    "        ax.plot(xi, yi)\n",
    "    if x_label is not None and y_label is not None:\n",
    "        ax.set(xlabel=x_label, ylabel=y_label, title='{} VS {}'.format(x_label, y_label))\n",
    "    if legend is not None:\n",
    "        ax.legend(legend)\n",
    "    ax.grid()\n",
    "    plt.show()"
   ]
  },
  {
   "cell_type": "code",
   "execution_count": 10,
   "metadata": {},
   "outputs": [
    {
     "name": "stdout",
     "output_type": "stream",
     "text": [
      "[1. 0. 0.] <-> [0.996003   0.00248901 0.00150801]\n",
      "[0. 0. 1.] <-> [1.0857325e-02 1.2191848e-05 9.8913050e-01]\n",
      "[1. 0. 0.] <-> [0.9937581  0.00117615 0.00506575]\n",
      "[1. 0. 0.] <-> [0.9962979  0.0020291  0.00167291]\n",
      "[1. 0. 0.] <-> [0.9852533  0.00608464 0.00866198]\n",
      "[1. 0. 0.] <-> [0.9884322  0.00112384 0.01044387]\n",
      "[1. 0. 0.] <-> [0.5371828  0.00067353 0.4621437 ]\n",
      "[0. 0. 1.] <-> [5.0244916e-02 5.6350422e-05 9.4969869e-01]\n",
      "[1. 0. 0.] <-> [0.9964593 0.0024628 0.0010779]\n",
      "[0. 1. 0.] <-> [5.4486664e-03 9.9454594e-01 5.4875995e-06]\n",
      "[1. 0. 0.] <-> [0.9973151  0.00125579 0.00142903]\n",
      "[0. 1. 0.] <-> [5.4486664e-03 9.9454594e-01 5.4876050e-06]\n",
      "[0. 0. 1.] <-> [9.5653655e-03 1.0727694e-05 9.9042386e-01]\n",
      "[0. 1. 0.] <-> [5.4486664e-03 9.9454594e-01 5.4876887e-06]\n",
      "[1. 0. 0.] <-> [0.92427796 0.07476891 0.00095321]\n",
      "[1. 0. 0.] <-> [0.99631304 0.00257507 0.00111192]\n",
      "[1. 0. 0.] <-> [0.99655735 0.00135939 0.00208322]\n",
      "[1. 0. 0.] <-> [0.9968226  0.00125748 0.00191996]\n",
      "[0. 0. 1.] <-> [0.57761014 0.00064889 0.42174098]\n",
      "[1. 0. 0.] <-> [0.99648905 0.0023846  0.00112633]\n",
      "[0. 1. 0.] <-> [2.6488632e-01 7.3484635e-01 2.6723556e-04]\n",
      "[1. 0. 0.] <-> [0.52465767 0.47471285 0.00062948]\n",
      "[0. 0. 1.] <-> [6.0655624e-03 6.8025552e-06 9.9392760e-01]\n",
      "[1. 0. 0.] <-> [0.997256   0.00166815 0.00107594]\n",
      "[1. 0. 0.] <-> [0.969157   0.00120194 0.02964114]\n",
      "[0. 0. 1.] <-> [1.3473003e-02 1.5110106e-05 9.8651195e-01]\n",
      "[1. 0. 0.] <-> [0.94900304 0.00108468 0.04991224]\n",
      "[1. 0. 0.] <-> [0.9954796  0.00165618 0.00286428]\n",
      "[1. 0. 0.] <-> [0.9961959  0.00269598 0.00110816]\n",
      "[0. 1. 0.] <-> [5.450075e-03 9.945445e-01 5.500397e-06]\n",
      "[0. 1. 0.] <-> [1.4330356e-02 9.8565525e-01 1.4453036e-05]\n",
      "[1. 0. 0.] <-> [0.9973469  0.00113651 0.00151659]\n",
      "[1. 0. 0.] <-> [0.99749386 0.00134279 0.00116339]\n",
      "[1. 0. 0.] <-> [0.99672604 0.00212604 0.00114787]\n",
      "[0. 0. 1.] <-> [6.0636476e-03 6.8004151e-06 9.9392951e-01]\n",
      "[1. 0. 0.] <-> [0.9945596  0.00434776 0.00109262]\n",
      "[1. 0. 0.] <-> [0.5861603  0.41313553 0.0007042 ]\n",
      "[1. 0. 0.] <-> [0.9974617  0.00118428 0.00135394]\n",
      "[1. 0. 0.] <-> [0.851837   0.0009661  0.14719683]\n",
      "[1. 0. 0.] <-> [8.6922966e-02 9.1298485e-01 9.2154434e-05]\n",
      "[1. 0. 0.] <-> [1.02960639e-01 1.17187374e-04 8.96922171e-01]\n",
      "[0. 0. 1.] <-> [9.9206604e-03 1.1253792e-05 9.9006808e-01]\n",
      "[1. 0. 0.] <-> [0.9944425  0.00426387 0.00129362]\n",
      "[1. 0. 0.] <-> [0.9929054  0.00112152 0.00597309]\n",
      "[1. 0. 0.] <-> [0.9963176  0.00136148 0.00232086]\n",
      "[1. 0. 0.] <-> [0.97638977 0.00117564 0.02243461]\n",
      "[1. 0. 0.] <-> [0.98832697 0.01061128 0.00106178]\n",
      "[1. 0. 0.] <-> [0.9972773  0.00153055 0.00119221]\n",
      "[1. 0. 0.] <-> [0.9892679  0.00113905 0.00959307]\n",
      "[1. 0. 0.] <-> [0.9961326  0.00248271 0.00138469]\n",
      "[1. 0. 0.] <-> [0.98944306 0.00214856 0.0084083 ]\n",
      "[0. 1. 0.] <-> [1.7016692e-02 9.8296553e-01 1.7757011e-05]\n",
      "[1. 0. 0.] <-> [0.9941811  0.0011884  0.00463055]\n",
      "[1. 0. 0.] <-> [0.9844642  0.00110978 0.01442597]\n",
      "[0. 0. 1.] <-> [8.716984e-03 9.776183e-06 9.912732e-01]\n",
      "[1. 0. 0.] <-> [0.9946666  0.00113696 0.00419645]\n",
      "[1. 0. 0.] <-> [0.9936865  0.00113397 0.00517954]\n",
      "[1. 0. 0.] <-> [0.99570507 0.00125617 0.00303874]\n",
      "[1. 0. 0.] <-> [0.9791738  0.01970362 0.00112271]\n",
      "[1. 0. 0.] <-> [3.4449285e-01 6.5515667e-01 3.5041632e-04]\n",
      "[0. 1. 0.] <-> [6.2776930e-03 9.9371594e-01 6.4351007e-06]\n",
      "[1. 0. 0.] <-> [0.96405566 0.00130063 0.03464368]\n",
      "[1. 0. 0.] <-> [0.996994   0.00129826 0.00170776]\n",
      "[1. 0. 0.] <-> [0.98433095 0.01450465 0.00116439]\n",
      "[1. 0. 0.] <-> [0.9930622  0.00270577 0.00423205]\n",
      "[0. 0. 1.] <-> [6.0647139e-03 6.8022823e-06 9.9392843e-01]\n",
      "[1. 0. 0.] <-> [0.99588096 0.00267849 0.00144057]\n",
      "[1. 0. 0.] <-> [0.99530125 0.00358775 0.00111108]\n",
      "[1. 0. 0.] <-> [0.9892658  0.00827988 0.00245435]\n",
      "[0. 0. 1.] <-> [6.4135678e-03 7.1929344e-06 9.9357927e-01]\n",
      "[0. 0. 1.] <-> [5.296299e-02 5.953166e-05 9.469775e-01]\n",
      "[1. 0. 0.] <-> [0.9970493  0.00166868 0.00128206]\n",
      "[1. 0. 0.] <-> [0.99703884 0.00179597 0.00116526]\n",
      "[0. 1. 0.] <-> [5.4486664e-03 9.9454594e-01 5.4885049e-06]\n",
      "[1. 0. 0.] <-> [0.7047556  0.29439902 0.00084544]\n",
      "[1. 0. 0.] <-> [0.99574417 0.00240425 0.00185156]\n",
      "[1. 0. 0.] <-> [0.9971179  0.00174417 0.00113802]\n",
      "[1. 0. 0.] <-> [0.99186593 0.00639832 0.00173577]\n",
      "[1. 0. 0.] <-> [0.99692386 0.001529   0.00154705]\n",
      "[1. 0. 0.] <-> [0.99686927 0.00182085 0.00130991]\n",
      "[0. 1. 0.] <-> [5.4689124e-03 9.9452555e-01 5.5196083e-06]\n",
      "[1. 0. 0.] <-> [0.9972258  0.00116699 0.00160718]\n",
      "[0. 1. 0.] <-> [1.4021395e-02 9.8596454e-01 1.4122271e-05]\n",
      "[1. 0. 0.] <-> [0.99705744 0.00128118 0.00166143]\n",
      "[0. 0. 1.] <-> [0.5282275  0.00061006 0.47116247]\n",
      "[1. 0. 0.] <-> [0.99708194 0.00122003 0.00169803]\n",
      "[0. 1. 0.] <-> [5.4777996e-03 9.9451667e-01 5.5643936e-06]\n",
      "[1. 0. 0.] <-> [0.9971758  0.00137094 0.00145316]\n",
      "[0. 1. 0.] <-> [4.1262228e-02 9.5869607e-01 4.1678002e-05]\n",
      "[1. 0. 0.] <-> [0.9945387  0.00151383 0.00394741]\n",
      "[1. 0. 0.] <-> [0.9960742  0.00155973 0.00236599]\n",
      "[1. 0. 0.] <-> [0.9967349  0.00200983 0.00125519]\n",
      "[0. 1. 0.] <-> [5.4486892e-03 9.9454582e-01 5.4901793e-06]\n",
      "[1. 0. 0.] <-> [0.8328492  0.00096208 0.16618875]\n",
      "[0. 1. 0.] <-> [1.2121311e-02 9.8786640e-01 1.2277270e-05]\n",
      "[1. 0. 0.] <-> [0.99698216 0.00120261 0.00181522]\n",
      "[0. 0. 1.] <-> [6.2948908e-03 7.0597548e-06 9.9369806e-01]\n",
      "[1. 0. 0.] <-> [0.7920619  0.20710719 0.00083091]\n",
      "[1. 0. 0.] <-> [0.99695885 0.00162078 0.00142036]\n",
      "[1. 0. 0.] <-> [0.99133766 0.00733617 0.00132616]\n",
      "[1. 0. 0.] <-> [0.9964624  0.00124097 0.00229662]\n",
      "[1. 0. 0.] <-> [0.99608034 0.00289184 0.00102782]\n",
      "[0. 1. 0.] <-> [1.5378676e-01 8.4605759e-01 1.5560102e-04]\n",
      "[1. 0. 0.] <-> [0.9966941  0.00152228 0.00178361]\n",
      "[1. 0. 0.] <-> [0.99664646 0.0017211  0.00163243]\n",
      "[1. 0. 0.] <-> [0.99251574 0.00128743 0.00619692]\n",
      "[1. 0. 0.] <-> [0.99545974 0.00118765 0.00335267]\n",
      "[1. 0. 0.] <-> [0.9637338  0.03520132 0.00106488]\n",
      "{'accuracy': 0.9691358024691358, 'mean_square_error': 0.0664535796549126, 'categorical_crossentropy': 0.10685831529122812, 'essential_metrics': {0: {'tp_hit': 75, 'fp_hit': 2, 'tn_hit': 28, 'fn_hit': 3}, 1: {'tp_hit': 16, 'fp_hit': 2, 'tn_hit': 90, 'fn_hit': 0}, 2: {'tp_hit': 12, 'fp_hit': 1, 'tn_hit': 93, 'fn_hit': 2}}}\n"
     ]
    }
   ],
   "source": [
    "# recall phase\n",
    "score = model.evaluate(x_test, y_test, False)\n",
    "print(score)"
   ]
  },
  {
   "cell_type": "code",
   "execution_count": 11,
   "metadata": {},
   "outputs": [
    {
     "data": {
      "image/png": "[encoded data removed]",
      "text/plain": [
       "<Figure size 864x360 with 1 Axes>"
      ]
     },
     "metadata": {
      "needs_background": "light"
     },
     "output_type": "display_data"
    },
    {
     "data": {
      "image/png": "[encoded data removed]",
      "text/plain": [
       "<Figure size 864x360 with 1 Axes>"
      ]
     },
     "metadata": {
      "needs_background": "light"
     },
     "output_type": "display_data"
    }
   ],
   "source": [
    "draw_plot(x = [[i for i in range(len(history))], [(i+1)*breakpoint for i in range(len(checkpoints))]], y_list = [history, [ ckp[model.loss_fn] for ckp in checkpoints ]], x_label = 'Epochs', \\\n",
    "    y_label = model.loss_fn, legend=['train', 'test'])\n",
    "acc = [ ckp['accuracy'] for ckp in checkpoints ]\n",
    "draw_plot(x = [[(i+1)*breakpoint for i in range(len(checkpoints))]], y_list = [acc], x_label = 'Checkpoints', \\\n",
    "    y_label = 'accuracy')"
   ]
  },
  {
   "cell_type": "code",
   "execution_count": 12,
   "metadata": {},
   "outputs": [
    {
     "name": "stdout",
     "output_type": "stream",
     "text": [
      "{'accuracy': 0.9814814814814815, 'mean_square_error': 0.06787658517654173, 'categorical_crossentropy': 0.15252968117042823, 'essential_metrics': {0: {'tp_hit': 76, 'fp_hit': 1, 'tn_hit': 29, 'fn_hit': 2}, 1: {'tp_hit': 16, 'fp_hit': 2, 'tn_hit': 90, 'fn_hit': 0}, 2: {'tp_hit': 13, 'fp_hit': 0, 'tn_hit': 94, 'fn_hit': 1}}, 'checkpoint': 100} \n",
      "\n",
      "\n",
      "{'accuracy': 0.9691358024691358, 'mean_square_error': 0.052184933336975665, 'categorical_crossentropy': 0.08990925329702872, 'essential_metrics': {0: {'tp_hit': 75, 'fp_hit': 2, 'tn_hit': 28, 'fn_hit': 3}, 1: {'tp_hit': 15, 'fp_hit': 2, 'tn_hit': 90, 'fn_hit': 1}, 2: {'tp_hit': 13, 'fp_hit': 1, 'tn_hit': 93, 'fn_hit': 1}}, 'checkpoint': 200} \n",
      "\n",
      "\n",
      "{'accuracy': 0.9629629629629629, 'mean_square_error': 0.0673277622040835, 'categorical_crossentropy': 0.10743844067608868, 'essential_metrics': {0: {'tp_hit': 74, 'fp_hit': 2, 'tn_hit': 28, 'fn_hit': 4}, 1: {'tp_hit': 16, 'fp_hit': 3, 'tn_hit': 89, 'fn_hit': 0}, 2: {'tp_hit': 12, 'fp_hit': 1, 'tn_hit': 93, 'fn_hit': 2}}, 'checkpoint': 300} \n",
      "\n",
      "\n",
      "{'accuracy': 0.9691358024691358, 'mean_square_error': 0.0664535796549126, 'categorical_crossentropy': 0.10685831529122812, 'essential_metrics': {0: {'tp_hit': 75, 'fp_hit': 2, 'tn_hit': 28, 'fn_hit': 3}, 1: {'tp_hit': 16, 'fp_hit': 2, 'tn_hit': 90, 'fn_hit': 0}, 2: {'tp_hit': 12, 'fp_hit': 1, 'tn_hit': 93, 'fn_hit': 2}}, 'checkpoint': 400} \n",
      "\n",
      "\n",
      "{'accuracy': 0.9691358024691358, 'mean_square_error': 0.0664535796549126, 'categorical_crossentropy': 0.10685831529122812, 'essential_metrics': {0: {'tp_hit': 75, 'fp_hit': 2, 'tn_hit': 28, 'fn_hit': 3}, 1: {'tp_hit': 16, 'fp_hit': 2, 'tn_hit': 90, 'fn_hit': 0}, 2: {'tp_hit': 12, 'fp_hit': 1, 'tn_hit': 93, 'fn_hit': 2}}, 'checkpoint': 500} \n",
      "\n",
      "\n"
     ]
    }
   ],
   "source": [
    "for checkpoint in checkpoints:\n",
    "    print(checkpoint, '\\n\\n')"
   ]
  },
  {
   "cell_type": "code",
   "execution_count": 13,
   "metadata": {},
   "outputs": [
    {
     "name": "stdout",
     "output_type": "stream",
     "text": [
      "Layer 1\n",
      "Neuron 0: weights:\n",
      "[-2.0609357   3.          3.          0.03966052 -1.6931789 ]\n",
      " bias: -3.0\n",
      "\n",
      "Neuron 1: weights:\n",
      "[-0.0893553  -3.         -0.09182464  1.2536043   3.        ]\n",
      " bias: -2.429948091506958\n",
      "\n",
      "Neuron 2: weights:\n",
      "[ 0.05294345  3.          0.13885313 -0.8497704  -3.        ]\n",
      " bias: 2.586300849914551\n",
      "\n",
      "Neuron 3: weights:\n",
      "[ 2.1216528  -3.         -3.          1.4819839   0.93091494]\n",
      " bias: 3.0\n",
      "\n",
      "$\n",
      "Layer 2\n",
      "Neuron 0: weights:\n",
      "[-3. -3.  3.  3.]\n",
      " bias: -1.2227319478988647\n",
      "\n",
      "Neuron 1: weights:\n",
      "[ 3. -3.  3. -3.]\n",
      " bias: -2.0158164501190186\n",
      "\n",
      "Neuron 2: weights:\n",
      "[-3.  3. -3.  3.]\n",
      " bias: -2.1233766078948975\n",
      "\n",
      "$\n",
      "\n"
     ]
    }
   ],
   "source": [
    "print(model)"
   ]
  }
 ],
 "metadata": {
  "kernelspec": {
   "display_name": "Python 3",
   "language": "python",
   "name": "python3"
  },
  "language_info": {
   "codemirror_mode": {
    "name": "ipython",
    "version": 3
   },
   "file_extension": ".py",
   "mimetype": "text/x-python",
   "name": "python",
   "nbconvert_exporter": "python",
   "pygments_lexer": "ipython3",
   "version": "3.6.10"
  }
 },
 "nbformat": 4,
 "nbformat_minor": 2
}
