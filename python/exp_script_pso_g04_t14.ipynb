{
 "cells": [
  {
   "cell_type": "code",
   "execution_count": 1,
   "metadata": {},
   "outputs": [],
   "source": [
    "# dependency\n",
    "import numpy as np\n",
    "import pandas as pd\n",
    "import copy\n",
    "import math\n",
    "import sys\n",
    "import os\n",
    "from activations import relu, leaky_relu, sigmoid, tanh, softmax, d_sigmoid, d_relu\n",
    "from initializers import glorot_uniform, random_normal, random_uniform\n",
    "from regularizers import l1_regularizer, l2_regularizer\n",
    "from utility import trim_tail, multiply, subtract, get_nparams, one_hot_encoding, get_data\n",
    "from metrics import MSE, CCE, ACC, PRECISION, RECALL, essential_metrics, wondering_penalty, close_gap_penalty\n",
    "from pso import PSO\n",
    "from ga import GA\n",
    "from nn import Network\n",
    "from layer import DenseLayer\n",
    "from scalers import MinMaxScaler, StandardScaler"
   ]
  },
  {
   "cell_type": "code",
   "execution_count": 2,
   "metadata": {},
   "outputs": [],
   "source": [
    "# reference\n",
    "metrics_fn_dict = dict()\n",
    "metrics_fn_dict['accuracy'] = ACC\n",
    "metrics_fn_dict['categorical_crossentropy'] = CCE\n",
    "metrics_fn_dict['mean_square_error'] = MSE\n",
    "metrics_fn_dict['precision'] = PRECISION\n",
    "metrics_fn_dict['recall'] = RECALL\n",
    "metrics_fn_dict['essential_metrics'] = essential_metrics"
   ]
  },
  {
   "cell_type": "code",
   "execution_count": 3,
   "metadata": {},
   "outputs": [],
   "source": [
    "# model\n",
    "model = Network(5, lr = None)\n",
    "model.add_layer(DenseLayer(1, 4, True, afn=sigmoid, dafn=None, rfn=None))\n",
    "model.add_layer(DenseLayer(2, 3, True, afn=softmax, dafn=None, rfn=None))"
   ]
  },
  {
   "cell_type": "code",
   "execution_count": 4,
   "metadata": {},
   "outputs": [
    {
     "name": "stdout",
     "output_type": "stream",
     "text": [
      "see one see two 2 2\n"
     ]
    }
   ],
   "source": [
    "pso = PSO(dict(m = 50,\n",
    "    weight_constraint = [-3, 3], \n",
    "    velocity_constraint = [-0.1, 0.1],\n",
    "    c1 = 2,\n",
    "    c2 = 2,\n",
    "    w = 0.8,\n",
    "    w_decay = 1,\n",
    "    scale_hyperparameter = False,\n",
    "    regularizer = None,\n",
    "    mask = True))"
   ]
  },
  {
   "cell_type": "code",
   "execution_count": 5,
   "metadata": {},
   "outputs": [
    {
     "name": "stdout",
     "output_type": "stream",
     "text": [
      "building layer 1 with 5\n",
      "24\n",
      "building layer 2 with 4\n",
      "15\n"
     ]
    }
   ],
   "source": [
    "model.compile(loss_fn = 'categorical_crossentropy', optimizer = pso, \\\n",
    "    metrics = ['accuracy', 'mean_square_error', 'categorical_crossentropy'])"
   ]
  },
  {
   "cell_type": "code",
   "execution_count": 6,
   "metadata": {},
   "outputs": [
    {
     "name": "stdout",
     "output_type": "stream",
     "text": [
      "<class 'pandas.core.frame.DataFrame'>\n",
      "RangeIndex: 107 entries, 0 to 106\n",
      "Data columns (total 6 columns):\n",
      " #   Column  Non-Null Count  Dtype  \n",
      "---  ------  --------------  -----  \n",
      " 0   f1      107 non-null    float32\n",
      " 1   f2      107 non-null    float32\n",
      " 2   f3      107 non-null    float32\n",
      " 3   f4      107 non-null    float32\n",
      " 4   f5      107 non-null    float32\n",
      " 5   label   107 non-null    float32\n",
      "dtypes: float32(6)\n",
      "memory usage: 2.6 KB\n",
      "None\n",
      "<class 'pandas.core.frame.DataFrame'>\n",
      "RangeIndex: 108 entries, 0 to 107\n",
      "Data columns (total 6 columns):\n",
      " #   Column  Non-Null Count  Dtype  \n",
      "---  ------  --------------  -----  \n",
      " 0   f1      108 non-null    float32\n",
      " 1   f2      108 non-null    float32\n",
      " 2   f3      108 non-null    float32\n",
      " 3   f4      108 non-null    float32\n",
      " 4   f5      108 non-null    float32\n",
      " 5   label   108 non-null    float32\n",
      "dtypes: float32(6)\n",
      "memory usage: 2.7 KB\n",
      "None\n"
     ]
    }
   ],
   "source": [
    "# data loading\n",
    "DATA = os.path.join('c:\\\\Users\\\\tcumi\\\\github_repo\\\\neural-network\\\\', 'dataset')\n",
    "GROUP = 4\n",
    "COLUMNS = ['f1', 'f2', 'f3', 'f4', 'f5', 'label']\n",
    "N_CLASS = 3\n",
    "EPOCHS = 500\n",
    "train_dir, test_dir = \"..//dataset//training_data{}.txt\".format(GROUP), \"..//dataset//testing_data{}.txt\".format(GROUP)\n",
    "train, test = get_data(DATA, train_dir, COLUMNS), get_data(DATA, test_dir, COLUMNS)\n",
    "# shuffle\n",
    "train, test = train.sample(frac=1), test.sample(frac=1)\n",
    "x_train, y_train = train.drop('label', axis=1), train['label']\n",
    "x_test, y_test = test.drop('label', axis=1), test['label']"
   ]
  },
  {
   "cell_type": "code",
   "execution_count": 7,
   "metadata": {},
   "outputs": [],
   "source": [
    "# data scaling and encoding\n",
    "scaler = StandardScaler(['f1', 'f2', 'f3', 'f4', 'f5'])\n",
    "scaler.fit(x_train)\n",
    "x_train = scaler.transform(x_train)\n",
    "x_test = scaler.transform(x_test)\n",
    "y_train = one_hot_encoding(y_train, N_CLASS)\n",
    "y_test = one_hot_encoding(y_test, N_CLASS)"
   ]
  },
  {
   "cell_type": "code",
   "execution_count": 8,
   "metadata": {
    "tags": [
     "outputPrepend"
    ]
   },
   "outputs": [
    {
     "name": "stdout",
     "output_type": "stream",
     "text": [
      "Checkpoint 100, Accuracy: 0.9320987654320988, Loss: 0.2933270842940719\n",
      "Checkpoint 200, Accuracy: 0.9567901234567902, Loss: 0.13996340610362865\n",
      "Checkpoint 300, Accuracy: 0.9691358024691358, Loss: 0.10895515371251989\n",
      "Checkpoint 400, Accuracy: 0.9629629629629629, Loss: 0.10949826240539551\n",
      "Checkpoint 500, Accuracy: 0.9691358024691358, Loss: 0.11027530387595848\n"
     ]
    }
   ],
   "source": [
    "# learning phase\n",
    "breakpoint = 100\n",
    "checkpoints = list()\n",
    "history = list()\n",
    "for century in range(0, EPOCHS, breakpoint):\n",
    "    sub_history = model.fit(x_train, y_train, breakpoint, verbose = 0)\n",
    "    score = model.evaluate(x_test, y_test, False, verbose = 0)\n",
    "    print('Checkpoint {}, Accuracy: {}, Loss: {}'.format(century+breakpoint, score['accuracy'], score[model.loss_fn]))\n",
    "    score['checkpoint'] = century + breakpoint\n",
    "    checkpoints.append(score)\n",
    "    history.extend(sub_history)"
   ]
  },
  {
   "cell_type": "code",
   "execution_count": 9,
   "metadata": {},
   "outputs": [],
   "source": [
    "import matplotlib.pyplot as plt\n",
    "\n",
    "def draw_plot(x, y_list, x_label=None, y_label=None, legend=None, title=None):\n",
    "    fig, ax = plt.subplots(figsize=(12,5))\n",
    "    for xi, yi in zip(x, y_list):\n",
    "        ax.plot(xi, yi)\n",
    "    if x_label is not None and y_label is not None:\n",
    "        ax.set(xlabel=x_label, ylabel=y_label, title='{} VS {}'.format(x_label, y_label))\n",
    "    if legend is not None:\n",
    "        ax.legend(legend)\n",
    "    ax.grid()\n",
    "    plt.show()"
   ]
  },
  {
   "cell_type": "code",
   "execution_count": 10,
   "metadata": {},
   "outputs": [
    {
     "name": "stdout",
     "output_type": "stream",
     "text": [
      "[0. 0. 1.] <-> [2.7093654e-03 2.1168997e-05 9.9726945e-01]\n",
      "[1. 0. 0.] <-> [0.99205106 0.00129252 0.00665649]\n",
      "[0. 1. 0.] <-> [5.6979111e-03 9.9428803e-01 1.4130972e-05]\n",
      "[1. 0. 0.] <-> [0.9844684  0.01055364 0.00497794]\n",
      "[0. 1. 0.] <-> [5.6982790e-03 9.9428767e-01 1.4124823e-05]\n",
      "[1. 0. 0.] <-> [0.99290776 0.00409063 0.00300159]\n",
      "[1. 0. 0.] <-> [0.98414916 0.00273347 0.01311739]\n",
      "[1. 0. 0.] <-> [0.97954124 0.01774593 0.00271281]\n",
      "[1. 0. 0.] <-> [0.9851423  0.00143797 0.01341963]\n",
      "[1. 0. 0.] <-> [0.8609789  0.00187399 0.13714711]\n",
      "[1. 0. 0.] <-> [0.9932822  0.0013892  0.00532856]\n",
      "[1. 0. 0.] <-> [0.9947324  0.00262718 0.00264044]\n",
      "[1. 0. 0.] <-> [0.99538124 0.00118348 0.00343526]\n",
      "[1. 0. 0.] <-> [0.9737525  0.0016894  0.02455812]\n",
      "[0. 1. 0.] <-> [5.7182079e-03 9.9426758e-01 1.4201487e-05]\n",
      "[1. 0. 0.] <-> [0.99487394 0.00253151 0.00259459]\n",
      "[1. 0. 0.] <-> [0.9923955  0.00498868 0.00261575]\n",
      "[1. 0. 0.] <-> [0.9956468  0.0011455  0.00320778]\n",
      "[1. 0. 0.] <-> [0.98864937 0.00836311 0.00298758]\n",
      "[0. 1. 0.] <-> [1.2011214e-02 9.8795903e-01 2.9773957e-05]\n",
      "[0. 0. 1.] <-> [2.5936707e-03 2.0465055e-05 9.9738592e-01]\n",
      "[1. 0. 0.] <-> [0.9914997  0.00138031 0.00712001]\n",
      "[1. 0. 0.] <-> [0.9905648  0.00137296 0.00806228]\n",
      "[1. 0. 0.] <-> [0.99112856 0.00132057 0.00755079]\n",
      "[0. 1. 0.] <-> [1.2684057e-02 9.8728442e-01 3.1572446e-05]\n",
      "[1. 0. 0.] <-> [0.9863323  0.00143607 0.01223159]\n",
      "[1. 0. 0.] <-> [0.5130538  0.48549035 0.00145587]\n",
      "[0. 0. 1.] <-> [6.2551824e-03 4.0927745e-05 9.9370390e-01]\n",
      "[1. 0. 0.] <-> [0.98972404 0.00321116 0.0070648 ]\n",
      "[1. 0. 0.] <-> [0.994383   0.00142488 0.0041921 ]\n",
      "[1. 0. 0.] <-> [8.3914362e-02 9.1586989e-01 2.1578567e-04]\n",
      "[0. 0. 1.] <-> [3.6998328e-03 2.7221937e-05 9.9627292e-01]\n",
      "[0. 0. 1.] <-> [3.6742333e-02 1.8560281e-04 9.6307206e-01]\n",
      "[0. 0. 1.] <-> [4.9387678e-03 3.4656630e-05 9.9502653e-01]\n",
      "[1. 0. 0.] <-> [0.9591259  0.00199356 0.03888058]\n",
      "[0. 1. 0.] <-> [1.3210167e-01 8.6756992e-01 3.2845698e-04]\n",
      "[1. 0. 0.] <-> [0.98863643 0.0015614  0.00980212]\n",
      "[1. 0. 0.] <-> [0.9941018  0.00147101 0.00442718]\n",
      "[1. 0. 0.] <-> [0.5626498  0.43576452 0.0015857 ]\n",
      "[1. 0. 0.] <-> [0.9943243  0.00216634 0.00350942]\n",
      "[1. 0. 0.] <-> [0.99593985 0.00133327 0.00272688]\n",
      "[0. 1. 0.] <-> [3.7383024e-02 9.6252418e-01 9.2846713e-05]\n",
      "[1. 0. 0.] <-> [0.84171784 0.00192623 0.1563559 ]\n",
      "[0. 0. 1.] <-> [0.56847316 0.00164062 0.42988622]\n",
      "[1. 0. 0.] <-> [0.99252856 0.00131851 0.00615295]\n",
      "[1. 0. 0.] <-> [0.99504757 0.00157351 0.00337893]\n",
      "[1. 0. 0.] <-> [0.99426466 0.00323041 0.00250496]\n",
      "[0. 0. 1.] <-> [2.4725769e-03 1.9710636e-05 9.9750769e-01]\n",
      "[1. 0. 0.] <-> [0.9955806  0.00126118 0.00315816]\n",
      "[1. 0. 0.] <-> [0.99544406 0.00181212 0.00274385]\n",
      "[1. 0. 0.] <-> [0.9950636  0.00224071 0.00269566]\n",
      "[1. 0. 0.] <-> [0.9947442  0.00259042 0.00266541]\n",
      "[1. 0. 0.] <-> [0.9932662  0.00410172 0.00263203]\n",
      "[1. 0. 0.] <-> [0.9723732  0.02499229 0.00263448]\n",
      "[1. 0. 0.] <-> [0.99508744 0.00125463 0.0036579 ]\n",
      "[1. 0. 0.] <-> [0.9952277  0.00131662 0.00345562]\n",
      "[1. 0. 0.] <-> [0.99581736 0.00118407 0.00299865]\n",
      "[1. 0. 0.] <-> [0.9956648  0.00156716 0.00276803]\n",
      "[1. 0. 0.] <-> [0.99292374 0.00186837 0.00520786]\n",
      "[0. 1. 0.] <-> [6.5212590e-03 9.9346244e-01 1.6383650e-05]\n",
      "[0. 1. 0.] <-> [5.69813279e-03 9.94287789e-01 1.41271685e-05]\n",
      "[1. 0. 0.] <-> [0.99134254 0.00171783 0.00693956]\n",
      "[1. 0. 0.] <-> [0.99471503 0.00156956 0.00371547]\n",
      "[1. 0. 0.] <-> [0.97705007 0.00717047 0.01577952]\n",
      "[1. 0. 0.] <-> [0.30599526 0.6932407  0.00076406]\n",
      "[1. 0. 0.] <-> [0.99504787 0.00207285 0.00287927]\n",
      "[0. 1. 0.] <-> [5.69821056e-03 9.94287670e-01 1.41515875e-05]\n",
      "[1. 0. 0.] <-> [1.0607735e-01 4.5832506e-04 8.9346433e-01]\n",
      "[1. 0. 0.] <-> [0.77280307 0.2252226  0.00197437]\n",
      "[0. 1. 0.] <-> [1.686743e-01 8.309071e-01 4.185786e-04]\n",
      "[0. 1. 0.] <-> [5.7228096e-03 9.9426287e-01 1.4286401e-05]\n",
      "[1. 0. 0.] <-> [0.99025095 0.00133126 0.00841784]\n",
      "[1. 0. 0.] <-> [0.99391234 0.00288616 0.00320157]\n",
      "[1. 0. 0.] <-> [0.9937861  0.00171397 0.00449988]\n",
      "[1. 0. 0.] <-> [0.99436545 0.00131279 0.00432173]\n",
      "[0. 0. 1.] <-> [2.4731364e-03 1.9716659e-05 9.9750715e-01]\n",
      "[1. 0. 0.] <-> [0.91059977 0.08710641 0.00229383]\n",
      "[1. 0. 0.] <-> [0.99544203 0.0013988  0.00315915]\n",
      "[1. 0. 0.] <-> [0.70273286 0.29527688 0.00199025]\n",
      "[0. 0. 1.] <-> [4.8420407e-02 2.3695664e-04 9.5134258e-01]\n",
      "[1. 0. 0.] <-> [0.99508446 0.00134859 0.0035669 ]\n",
      "[1. 0. 0.] <-> [0.99355173 0.0025666  0.00388166]\n",
      "[1. 0. 0.] <-> [0.9947153  0.00177605 0.00350867]\n",
      "[1. 0. 0.] <-> [0.9941035  0.00252551 0.00337102]\n",
      "[1. 0. 0.] <-> [0.98199666 0.00148191 0.01652145]\n",
      "[1. 0. 0.] <-> [0.99485457 0.00131074 0.00383463]\n",
      "[0. 1. 0.] <-> [5.6982543e-03 9.9428767e-01 1.4125228e-05]\n",
      "[1. 0. 0.] <-> [0.99516016 0.00185964 0.00298012]\n",
      "[0. 0. 1.] <-> [4.3475293e-03 3.0703341e-05 9.9562174e-01]\n",
      "[0. 1. 0.] <-> [1.6873503e-02 9.8308349e-01 4.2957683e-05]\n",
      "[0. 1. 0.] <-> [5.6982841e-03 9.9428767e-01 1.4124769e-05]\n",
      "[0. 1. 0.] <-> [1.3956448e-02 9.8600894e-01 3.4626559e-05]\n",
      "[1. 0. 0.] <-> [0.99518317 0.00124862 0.00356815]\n",
      "[1. 0. 0.] <-> [0.96075493 0.00180398 0.0374411 ]\n",
      "[1. 0. 0.] <-> [0.99437225 0.00253623 0.00309143]\n",
      "[1. 0. 0.] <-> [0.9955225  0.00179089 0.00268653]\n",
      "[1. 0. 0.] <-> [0.9952106  0.00166078 0.00312857]\n",
      "[1. 0. 0.] <-> [0.9945374  0.00281016 0.00265236]\n",
      "[1. 0. 0.] <-> [0.9957088  0.00170905 0.00258211]\n",
      "[1. 0. 0.] <-> [0.9954105  0.00166356 0.00292602]\n",
      "[1. 0. 0.] <-> [0.95836115 0.03910385 0.00253502]\n",
      "[0. 0. 1.] <-> [0.6288597  0.00170217 0.3694381 ]\n",
      "[1. 0. 0.] <-> [0.5485214  0.00174003 0.4497386 ]\n",
      "[0. 0. 1.] <-> [4.695117e-03 3.384689e-05 9.952710e-01]\n",
      "[0. 0. 1.] <-> [2.4743991e-03 1.9721900e-05 9.9750584e-01]\n",
      "[1. 0. 0.] <-> [0.94873416 0.00173168 0.04953421]\n",
      "[1. 0. 0.] <-> [0.98963004 0.00670726 0.00366273]\n",
      "[1. 0. 0.] <-> [0.9860432  0.01139201 0.00256476]\n",
      "{'accuracy': 0.9691358024691358, 'mean_square_error': 0.06897848283994311, 'categorical_crossentropy': 0.11027530387595848, 'essential_metrics': {0: {'tp_hit': 75, 'fp_hit': 2, 'tn_hit': 28, 'fn_hit': 3}, 1: {'tp_hit': 16, 'fp_hit': 2, 'tn_hit': 90, 'fn_hit': 0}, 2: {'tp_hit': 12, 'fp_hit': 1, 'tn_hit': 93, 'fn_hit': 2}}}\n"
     ]
    }
   ],
   "source": [
    "# recall phase\n",
    "score = model.evaluate(x_test, y_test, False)\n",
    "print(score)"
   ]
  },
  {
   "cell_type": "code",
   "execution_count": 11,
   "metadata": {},
   "outputs": [
    {
     "data": {
      "image/png": "[encoded data removed]",
      "text/plain": [
       "<Figure size 864x360 with 1 Axes>"
      ]
     },
     "metadata": {
      "needs_background": "light"
     },
     "output_type": "display_data"
    },
    {
     "data": {
      "image/png": "[encoded data removed]",
      "text/plain": [
       "<Figure size 864x360 with 1 Axes>"
      ]
     },
     "metadata": {
      "needs_background": "light"
     },
     "output_type": "display_data"
    }
   ],
   "source": [
    "draw_plot(x = [[i for i in range(len(history))], [(i+1)*breakpoint for i in range(len(checkpoints))]], y_list = [history, [ ckp[model.loss_fn] for ckp in checkpoints ]], x_label = 'Epochs', \\\n",
    "    y_label = model.loss_fn, legend=['train', 'test'])\n",
    "acc = [ ckp['accuracy'] for ckp in checkpoints ]\n",
    "draw_plot(x = [[(i+1)*breakpoint for i in range(len(checkpoints))]], y_list = [acc], x_label = 'Checkpoints', \\\n",
    "    y_label = 'accuracy')"
   ]
  },
  {
   "cell_type": "code",
   "execution_count": 12,
   "metadata": {},
   "outputs": [
    {
     "name": "stdout",
     "output_type": "stream",
     "text": [
      "{'accuracy': 0.9320987654320988, 'mean_square_error': 0.16229894816044016, 'categorical_crossentropy': 0.2933270842940719, 'essential_metrics': {0: {'tp_hit': 76, 'fp_hit': 9, 'tn_hit': 21, 'fn_hit': 2}, 1: {'tp_hit': 15, 'fp_hit': 2, 'tn_hit': 90, 'fn_hit': 1}, 2: {'tp_hit': 6, 'fp_hit': 0, 'tn_hit': 94, 'fn_hit': 8}}, 'checkpoint': 100} \n",
      "\n",
      "\n",
      "{'accuracy': 0.9567901234567902, 'mean_square_error': 0.08413535051684594, 'categorical_crossentropy': 0.13996340610362865, 'essential_metrics': {0: {'tp_hit': 74, 'fp_hit': 3, 'tn_hit': 27, 'fn_hit': 4}, 1: {'tp_hit': 15, 'fp_hit': 2, 'tn_hit': 90, 'fn_hit': 1}, 2: {'tp_hit': 12, 'fp_hit': 2, 'tn_hit': 92, 'fn_hit': 2}}, 'checkpoint': 200} \n",
      "\n",
      "\n",
      "{'accuracy': 0.9691358024691358, 'mean_square_error': 0.06776705707879067, 'categorical_crossentropy': 0.10895515371251989, 'essential_metrics': {0: {'tp_hit': 75, 'fp_hit': 2, 'tn_hit': 28, 'fn_hit': 3}, 1: {'tp_hit': 16, 'fp_hit': 2, 'tn_hit': 90, 'fn_hit': 0}, 2: {'tp_hit': 12, 'fp_hit': 1, 'tn_hit': 93, 'fn_hit': 2}}, 'checkpoint': 300} \n",
      "\n",
      "\n",
      "{'accuracy': 0.9629629629629629, 'mean_square_error': 0.06878494923399414, 'categorical_crossentropy': 0.10949826240539551, 'essential_metrics': {0: {'tp_hit': 74, 'fp_hit': 2, 'tn_hit': 28, 'fn_hit': 4}, 1: {'tp_hit': 16, 'fp_hit': 3, 'tn_hit': 89, 'fn_hit': 0}, 2: {'tp_hit': 12, 'fp_hit': 1, 'tn_hit': 93, 'fn_hit': 2}}, 'checkpoint': 400} \n",
      "\n",
      "\n",
      "{'accuracy': 0.9691358024691358, 'mean_square_error': 0.06897848283994311, 'categorical_crossentropy': 0.11027530387595848, 'essential_metrics': {0: {'tp_hit': 75, 'fp_hit': 2, 'tn_hit': 28, 'fn_hit': 3}, 1: {'tp_hit': 16, 'fp_hit': 2, 'tn_hit': 90, 'fn_hit': 0}, 2: {'tp_hit': 12, 'fp_hit': 1, 'tn_hit': 93, 'fn_hit': 2}}, 'checkpoint': 500} \n",
      "\n",
      "\n"
     ]
    }
   ],
   "source": [
    "for checkpoint in checkpoints:\n",
    "    print(checkpoint, '\\n\\n')"
   ]
  },
  {
   "cell_type": "code",
   "execution_count": 13,
   "metadata": {},
   "outputs": [
    {
     "name": "stdout",
     "output_type": "stream",
     "text": [
      "Layer 1\n",
      "Neuron 0: weights:\n",
      "[-0.29461905 -3.          0.09744751  3.          3.        ]\n",
      " bias: -2.3224036693573\n",
      "\n",
      "Neuron 1: weights:\n",
      "[-2.0500436   3.          3.         -0.03726836 -1.792692  ]\n",
      " bias: -3.0\n",
      "\n",
      "Neuron 2: weights:\n",
      "[-0.01777479  3.          0.18433248 -0.50132215 -3.        ]\n",
      " bias: 3.0\n",
      "\n",
      "Neuron 3: weights:\n",
      "[-1.9824977  3.         3.        -2.0729046 -0.7160569]\n",
      " bias: -3.0\n",
      "\n",
      "$\n",
      "Layer 2\n",
      "Neuron 0: weights:\n",
      "[-3. -3.  3. -3.]\n",
      " bias: 3.0\n",
      "\n",
      "Neuron 1: weights:\n",
      "[-2.3174212  3.         1.6762996  3.       ]\n",
      " bias: -2.514439105987549\n",
      "\n",
      "Neuron 2: weights:\n",
      "[ 3. -3. -3. -3.]\n",
      " bias: 3.0\n",
      "\n",
      "$\n",
      "\n"
     ]
    }
   ],
   "source": [
    "print(model)"
   ]
  }
 ],
 "metadata": {
  "kernelspec": {
   "display_name": "Python 3",
   "language": "python",
   "name": "python3"
  },
  "language_info": {
   "codemirror_mode": {
    "name": "ipython",
    "version": 3
   },
   "file_extension": ".py",
   "mimetype": "text/x-python",
   "name": "python",
   "nbconvert_exporter": "python",
   "pygments_lexer": "ipython3",
   "version": "3.6.10"
  }
 },
 "nbformat": 4,
 "nbformat_minor": 2
}
