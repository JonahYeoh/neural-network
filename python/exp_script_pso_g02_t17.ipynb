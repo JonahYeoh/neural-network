{
 "cells": [
  {
   "cell_type": "code",
   "execution_count": 1,
   "metadata": {},
   "outputs": [],
   "source": [
    "# dependency\n",
    "import numpy as np\n",
    "import pandas as pd\n",
    "import copy\n",
    "import math\n",
    "import sys\n",
    "import os\n",
    "from activations import relu, leaky_relu, sigmoid, tanh, softmax, d_sigmoid, d_relu\n",
    "from initializers import glorot_uniform, random_normal, random_uniform\n",
    "from regularizers import l1_regularizer, l2_regularizer\n",
    "from utility import trim_tail, multiply, subtract, get_nparams, one_hot_encoding, get_data\n",
    "from metrics import MSE, CCE, ACC, PRECISION, RECALL, essential_metrics, wondering_penalty, close_gap_penalty\n",
    "from pso import PSO\n",
    "from ga import GA\n",
    "from nn import Network\n",
    "from layer import DenseLayer\n",
    "from scalers import MinMaxScaler, StandardScaler"
   ]
  },
  {
   "cell_type": "code",
   "execution_count": 2,
   "metadata": {},
   "outputs": [],
   "source": [
    "# reference\n",
    "metrics_fn_dict = dict()\n",
    "metrics_fn_dict['accuracy'] = ACC\n",
    "metrics_fn_dict['categorical_crossentropy'] = CCE\n",
    "metrics_fn_dict['mean_square_error'] = MSE\n",
    "metrics_fn_dict['precision'] = PRECISION\n",
    "metrics_fn_dict['recall'] = RECALL\n",
    "metrics_fn_dict['essential_metrics'] = essential_metrics"
   ]
  },
  {
   "cell_type": "code",
   "execution_count": 3,
   "metadata": {},
   "outputs": [],
   "source": [
    "# model\n",
    "model = Network(5, lr = None)\n",
    "model.add_layer(DenseLayer(1, 4, True, afn=sigmoid, dafn=None, rfn=None))\n",
    "model.add_layer(DenseLayer(2, 3, True, afn=softmax, dafn=None, rfn=None))"
   ]
  },
  {
   "cell_type": "code",
   "execution_count": 4,
   "metadata": {},
   "outputs": [
    {
     "name": "stdout",
     "output_type": "stream",
     "text": [
      "see one see two 2 2\n"
     ]
    }
   ],
   "source": [
    "pso = PSO(dict(m = 200,\n",
    "    weight_constraint = [-3, 3], \n",
    "    velocity_constraint = [-0.1, 0.1],\n",
    "    c1 = 2,\n",
    "    c2 = 2,\n",
    "    w = 1.2,\n",
    "    w_decay = 1,\n",
    "    scale_hyperparameter = False,\n",
    "    regularizer = None,\n",
    "    mask = True))"
   ]
  },
  {
   "cell_type": "code",
   "execution_count": 5,
   "metadata": {},
   "outputs": [
    {
     "name": "stdout",
     "output_type": "stream",
     "text": [
      "building layer 1 with 5\n",
      "24\n",
      "building layer 2 with 4\n",
      "15\n"
     ]
    }
   ],
   "source": [
    "model.compile(loss_fn = 'categorical_crossentropy', optimizer = pso, \\\n",
    "    metrics = ['accuracy', 'mean_square_error', 'categorical_crossentropy'])"
   ]
  },
  {
   "cell_type": "code",
   "execution_count": 6,
   "metadata": {},
   "outputs": [
    {
     "name": "stdout",
     "output_type": "stream",
     "text": [
      "<class 'pandas.core.frame.DataFrame'>\n",
      "RangeIndex: 107 entries, 0 to 106\n",
      "Data columns (total 6 columns):\n",
      " #   Column  Non-Null Count  Dtype  \n",
      "---  ------  --------------  -----  \n",
      " 0   f1      107 non-null    float32\n",
      " 1   f2      107 non-null    float32\n",
      " 2   f3      107 non-null    float32\n",
      " 3   f4      107 non-null    float32\n",
      " 4   f5      107 non-null    float32\n",
      " 5   label   107 non-null    float32\n",
      "dtypes: float32(6)\n",
      "memory usage: 2.6 KB\n",
      "None\n",
      "<class 'pandas.core.frame.DataFrame'>\n",
      "RangeIndex: 108 entries, 0 to 107\n",
      "Data columns (total 6 columns):\n",
      " #   Column  Non-Null Count  Dtype  \n",
      "---  ------  --------------  -----  \n",
      " 0   f1      108 non-null    float32\n",
      " 1   f2      108 non-null    float32\n",
      " 2   f3      108 non-null    float32\n",
      " 3   f4      108 non-null    float32\n",
      " 4   f5      108 non-null    float32\n",
      " 5   label   108 non-null    float32\n",
      "dtypes: float32(6)\n",
      "memory usage: 2.7 KB\n",
      "None\n"
     ]
    }
   ],
   "source": [
    "# data loading\n",
    "DATA = os.path.join('c:\\\\Users\\\\tcumi\\\\github_repo\\\\neural-network\\\\', 'dataset')\n",
    "GROUP = 1\n",
    "COLUMNS = ['f1', 'f2', 'f3', 'f4', 'f5', 'label']\n",
    "N_CLASS = 3\n",
    "EPOCHS = 500\n",
    "train_dir, test_dir = \"..//dataset//training_data{}.txt\".format(GROUP), \"..//dataset//testing_data{}.txt\".format(GROUP)\n",
    "train, test = get_data(DATA, train_dir, COLUMNS), get_data(DATA, test_dir, COLUMNS)\n",
    "# shuffle\n",
    "train, test = train.sample(frac=1), test.sample(frac=1)\n",
    "x_train, y_train = train.drop('label', axis=1), train['label']\n",
    "x_test, y_test = test.drop('label', axis=1), test['label']"
   ]
  },
  {
   "cell_type": "code",
   "execution_count": 7,
   "metadata": {},
   "outputs": [],
   "source": [
    "# data scaling and encoding\n",
    "scaler = StandardScaler(['f1', 'f2', 'f3', 'f4', 'f5'])\n",
    "scaler.fit(x_train)\n",
    "x_train = scaler.transform(x_train)\n",
    "x_test = scaler.transform(x_test)\n",
    "y_train = one_hot_encoding(y_train, N_CLASS)\n",
    "y_test = one_hot_encoding(y_test, N_CLASS)"
   ]
  },
  {
   "cell_type": "code",
   "execution_count": 8,
   "metadata": {
    "tags": [
     "outputPrepend"
    ]
   },
   "outputs": [
    {
     "name": "stdout",
     "output_type": "stream",
     "text": [
      "Checkpoint 100, Accuracy: 0.9506172839506173, Loss: 0.2100319332546658\n",
      "Checkpoint 200, Accuracy: 0.9567901234567902, Loss: 0.12385469012790257\n",
      "Checkpoint 300, Accuracy: 0.9629629629629629, Loss: 0.11155370429710106\n",
      "Checkpoint 400, Accuracy: 0.9691358024691358, Loss: 0.1077645531407109\n",
      "Checkpoint 500, Accuracy: 0.9691358024691358, Loss: 0.10769113787898311\n"
     ]
    }
   ],
   "source": [
    "# learning phase\n",
    "breakpoint = 100\n",
    "checkpoints = list()\n",
    "history = list()\n",
    "for century in range(0, EPOCHS, breakpoint):\n",
    "    sub_history = model.fit(x_train, y_train, breakpoint, verbose = 0)\n",
    "    score = model.evaluate(x_test, y_test, False, verbose = 0)\n",
    "    print('Checkpoint {}, Accuracy: {}, Loss: {}'.format(century+breakpoint, score['accuracy'], score[model.loss_fn]))\n",
    "    score['checkpoint'] = century + breakpoint\n",
    "    checkpoints.append(score)\n",
    "    history.extend(sub_history)"
   ]
  },
  {
   "cell_type": "code",
   "execution_count": 9,
   "metadata": {},
   "outputs": [],
   "source": [
    "import matplotlib.pyplot as plt\n",
    "\n",
    "def draw_plot(x, y_list, x_label=None, y_label=None, legend=None, title=None):\n",
    "    fig, ax = plt.subplots(figsize=(12,5))\n",
    "    for xi, yi in zip(x, y_list):\n",
    "        ax.plot(xi, yi)\n",
    "    if x_label is not None and y_label is not None:\n",
    "        ax.set(xlabel=x_label, ylabel=y_label, title='{} VS {}'.format(x_label, y_label))\n",
    "    if legend is not None:\n",
    "        ax.legend(legend)\n",
    "    ax.grid()\n",
    "    plt.show()"
   ]
  },
  {
   "cell_type": "code",
   "execution_count": 10,
   "metadata": {},
   "outputs": [
    {
     "name": "stdout",
     "output_type": "stream",
     "text": [
      "[1. 0. 0.] <-> [1.5851978e-02 1.9368312e-05 9.8412859e-01]\n",
      "[1. 0. 0.] <-> [0.97778976 0.00122226 0.02098799]\n",
      "[0. 1. 0.] <-> [1.3617705e-01 8.6347002e-01 3.5288552e-04]\n",
      "[1. 0. 0.] <-> [0.9936367  0.00137152 0.0049918 ]\n",
      "[1. 0. 0.] <-> [0.9944983  0.00131287 0.00418887]\n",
      "[1. 0. 0.] <-> [0.99582577 0.00239218 0.0017821 ]\n",
      "[1. 0. 0.] <-> [0.98244    0.00131329 0.01624672]\n",
      "[1. 0. 0.] <-> [0.99701536 0.00151507 0.00146961]\n",
      "[0. 1. 0.] <-> [2.6886934e-01 7.3046350e-01 6.6722470e-04]\n",
      "[1. 0. 0.] <-> [0.9922341  0.00126129 0.00650468]\n",
      "[1. 0. 0.] <-> [0.99724555 0.00148188 0.00127265]\n",
      "[1. 0. 0.] <-> [0.9966275  0.00211223 0.00126018]\n",
      "[1. 0. 0.] <-> [0.9226992  0.00116197 0.07613884]\n",
      "[0. 1. 0.] <-> [5.0086691e-03 9.9496871e-01 2.2602508e-05]\n",
      "[0. 0. 1.] <-> [9.0214536e-02 1.1038057e-04 9.0967512e-01]\n",
      "[1. 0. 0.] <-> [0.9959991  0.00292356 0.00107735]\n",
      "[0. 0. 1.] <-> [6.4812694e-03 7.9114861e-06 9.9351078e-01]\n",
      "[1. 0. 0.] <-> [0.9969042  0.00184934 0.00124638]\n",
      "[0. 1. 0.] <-> [5.0087022e-03 9.9496871e-01 2.2480104e-05]\n",
      "[0. 1. 0.] <-> [5.0388435e-03 9.9493849e-01 2.2660051e-05]\n",
      "[1. 0. 0.] <-> [0.9859454  0.00122414 0.01283046]\n",
      "[1. 0. 0.] <-> [0.9966113  0.00203176 0.00135688]\n",
      "[0. 1. 0.] <-> [0.43284604 0.5662925  0.00086141]\n",
      "[1. 0. 0.] <-> [0.9970431  0.00143847 0.00151836]\n",
      "[1. 0. 0.] <-> [3.201753e-01 3.998750e-04 6.794249e-01]\n",
      "[1. 0. 0.] <-> [0.94548315 0.00117234 0.05334454]\n",
      "[0. 0. 1.] <-> [7.5594173e-03 9.2395912e-06 9.9243128e-01]\n",
      "[1. 0. 0.] <-> [0.9963846  0.00206637 0.001549  ]\n",
      "[1. 0. 0.] <-> [0.99629384 0.00248088 0.00122517]\n",
      "[1. 0. 0.] <-> [0.92905545 0.0693443  0.0016002 ]\n",
      "[1. 0. 0.] <-> [0.99623317 0.00132034 0.00244644]\n",
      "[1. 0. 0.] <-> [0.9947758  0.00157598 0.00364815]\n",
      "[1. 0. 0.] <-> [0.9957237  0.00312768 0.00114859]\n",
      "[1. 0. 0.] <-> [0.9963276  0.00244236 0.00123002]\n",
      "[0. 0. 1.] <-> [0.6134155  0.00075276 0.38583177]\n",
      "[1. 0. 0.] <-> [0.95922625 0.00145536 0.03931842]\n",
      "[1. 0. 0.] <-> [0.98942214 0.00949646 0.00108135]\n",
      "[1. 0. 0.] <-> [0.9967434  0.00159061 0.00166598]\n",
      "[1. 0. 0.] <-> [0.9944818  0.00429689 0.00122131]\n",
      "[1. 0. 0.] <-> [0.9958371  0.00137719 0.00278575]\n",
      "[1. 0. 0.] <-> [0.555166   0.00068373 0.44415027]\n",
      "[0. 0. 1.] <-> [6.3459906e-03 1.1757707e-05 9.9364221e-01]\n",
      "[0. 1. 0.] <-> [1.643703e-02 9.834976e-01 6.540780e-05]\n",
      "[1. 0. 0.] <-> [0.9972995  0.00147023 0.00123021]\n",
      "[1. 0. 0.] <-> [0.99639744 0.0023824  0.00122027]\n",
      "[1. 0. 0.] <-> [0.9959906  0.00282776 0.00118158]\n",
      "[0. 1. 0.] <-> [5.2571017e-03 9.9471939e-01 2.3493258e-05]\n",
      "[1. 0. 0.] <-> [0.99701464 0.00178412 0.0012012 ]\n",
      "[1. 0. 0.] <-> [0.9951631  0.00139026 0.00344659]\n",
      "[1. 0. 0.] <-> [0.99312454 0.00125376 0.00562172]\n",
      "[1. 0. 0.] <-> [0.9945221  0.00429734 0.00118056]\n",
      "[0. 0. 1.] <-> [6.1270953e-03 7.4790114e-06 9.9386543e-01]\n",
      "[1. 0. 0.] <-> [0.99611545 0.00277569 0.00110887]\n",
      "[1. 0. 0.] <-> [0.9968051  0.00172854 0.00146638]\n",
      "[0. 1. 0.] <-> [5.193032e-03 9.947836e-01 2.333674e-05]\n",
      "[0. 0. 1.] <-> [6.2692813e-03 7.6587430e-06 9.9372309e-01]\n",
      "[1. 0. 0.] <-> [0.9967962  0.00171585 0.00148791]\n",
      "[1. 0. 0.] <-> [0.98935246 0.00123895 0.00940852]\n",
      "[1. 0. 0.] <-> [0.9913662  0.00125176 0.00738205]\n",
      "[1. 0. 0.] <-> [0.99058867 0.00122545 0.00818588]\n",
      "[1. 0. 0.] <-> [0.9968828  0.00157329 0.00154394]\n",
      "[1. 0. 0.] <-> [0.99343675 0.00134693 0.0052162 ]\n",
      "[1. 0. 0.] <-> [0.99483746 0.00126    0.00390258]\n",
      "[0. 1. 0.] <-> [0.7149688  0.2834317  0.00159952]\n",
      "[1. 0. 0.] <-> [0.99497247 0.00143055 0.00359691]\n",
      "[1. 0. 0.] <-> [0.99599695 0.0016388  0.00236423]\n",
      "[0. 0. 1.] <-> [6.1269063e-03 7.4787417e-06 9.9386555e-01]\n",
      "[1. 0. 0.] <-> [0.97999877 0.00124039 0.01876077]\n",
      "[1. 0. 0.] <-> [0.99514294 0.0014671  0.00339001]\n",
      "[0. 1. 0.] <-> [9.4512077e-03 9.9050784e-01 4.0935673e-05]\n",
      "[1. 0. 0.] <-> [0.3885321  0.61052495 0.00094291]\n",
      "[1. 0. 0.] <-> [0.9958574  0.00144328 0.00269939]\n",
      "[1. 0. 0.] <-> [0.9587296  0.00126224 0.04000819]\n",
      "[1. 0. 0.] <-> [0.98995614 0.00797036 0.00207352]\n",
      "[0. 1. 0.] <-> [6.6369879e-03 9.9333340e-01 2.9600256e-05]\n",
      "[1. 0. 0.] <-> [0.99406034 0.00129936 0.00464025]\n",
      "[1. 0. 0.] <-> [0.951972   0.00116879 0.04685917]\n",
      "[1. 0. 0.] <-> [0.90453833 0.09366164 0.00179996]\n",
      "[0. 1. 0.] <-> [3.3094533e-02 9.6677399e-01 1.3153003e-04]\n",
      "[1. 0. 0.] <-> [0.99640816 0.0016929  0.00189891]\n",
      "[1. 0. 0.] <-> [0.98724526 0.01136806 0.00138678]\n",
      "[0. 0. 1.] <-> [6.081550e-03 7.719511e-06 9.939108e-01]\n",
      "[1. 0. 0.] <-> [0.99710935 0.00142437 0.00146627]\n",
      "[1. 0. 0.] <-> [0.98429525 0.01436527 0.00133952]\n",
      "[0. 1. 0.] <-> [5.0084819e-03 9.9496907e-01 2.2474538e-05]\n",
      "[1. 0. 0.] <-> [0.96879333 0.00119854 0.03000817]\n",
      "[1. 0. 0.] <-> [0.9958106  0.001527   0.00266239]\n",
      "[1. 0. 0.] <-> [0.99584264 0.00210933 0.00204809]\n",
      "[1. 0. 0.] <-> [0.99617034 0.00129944 0.00253021]\n",
      "[1. 0. 0.] <-> [0.8596938  0.00106819 0.139238  ]\n",
      "[1. 0. 0.] <-> [0.9964132  0.0024098  0.00117699]\n",
      "[0. 0. 1.] <-> [6.1278585e-03 7.4799041e-06 9.9386460e-01]\n",
      "[1. 0. 0.] <-> [0.9967578  0.00140056 0.00184166]\n",
      "[1. 0. 0.] <-> [0.99583274 0.00267263 0.00149465]\n",
      "[0. 0. 1.] <-> [6.1269063e-03 7.4787417e-06 9.9386555e-01]\n",
      "[1. 0. 0.] <-> [0.9970796  0.00148383 0.00143652]\n",
      "[1. 0. 0.] <-> [0.99591005 0.00122931 0.00286056]\n",
      "[1. 0. 0.] <-> [0.9965432  0.00125345 0.00220338]\n",
      "[0. 0. 1.] <-> [6.1269356e-03 7.4787840e-06 9.9386555e-01]\n",
      "[1. 0. 0.] <-> [0.9932373  0.00124596 0.00551676]\n",
      "[1. 0. 0.] <-> [0.9946911  0.00139279 0.00391608]\n",
      "[1. 0. 0.] <-> [0.99154013 0.00722379 0.00123608]\n",
      "[0. 0. 1.] <-> [6.168533e-03 7.529653e-06 9.938239e-01]\n",
      "[1. 0. 0.] <-> [0.8969745  0.00113077 0.10189476]\n",
      "[1. 0. 0.] <-> [0.9925689  0.00128946 0.0061416 ]\n",
      "[0. 1. 0.] <-> [8.8771265e-03 9.9108654e-01 3.6414996e-05]\n",
      "[1. 0. 0.] <-> [0.83810014 0.00102616 0.16087368]\n",
      "[1. 0. 0.] <-> [0.99629277 0.00143536 0.00227175]\n",
      "{'accuracy': 0.9691358024691358, 'mean_square_error': 0.06051328817978746, 'categorical_crossentropy': 0.10769113787898311, 'essential_metrics': {0: {'tp_hit': 77, 'fp_hit': 2, 'tn_hit': 26, 'fn_hit': 3}, 1: {'tp_hit': 14, 'fp_hit': 1, 'tn_hit': 92, 'fn_hit': 1}, 2: {'tp_hit': 12, 'fp_hit': 2, 'tn_hit': 93, 'fn_hit': 1}}}\n"
     ]
    }
   ],
   "source": [
    "# recall phase\n",
    "score = model.evaluate(x_test, y_test, False)\n",
    "print(score)"
   ]
  },
  {
   "cell_type": "code",
   "execution_count": 11,
   "metadata": {},
   "outputs": [
    {
     "data": {
      "image/png": "[encoded data removed]",
      "text/plain": [
       "<Figure size 864x360 with 1 Axes>"
      ]
     },
     "metadata": {
      "needs_background": "light"
     },
     "output_type": "display_data"
    },
    {
     "data": {
      "image/png": "[encoded data removed]",
      "text/plain": [
       "<Figure size 864x360 with 1 Axes>"
      ]
     },
     "metadata": {
      "needs_background": "light"
     },
     "output_type": "display_data"
    }
   ],
   "source": [
    "draw_plot(x = [[i for i in range(len(history))], [(i+1)*breakpoint for i in range(len(checkpoints))]], y_list = [history, [ ckp[model.loss_fn] for ckp in checkpoints ]], x_label = 'Epochs', \\\n",
    "    y_label = model.loss_fn, legend=['train', 'test'])\n",
    "acc = [ ckp['accuracy'] for ckp in checkpoints ]\n",
    "draw_plot(x = [[(i+1)*breakpoint for i in range(len(checkpoints))]], y_list = [acc], x_label = 'Checkpoints', \\\n",
    "    y_label = 'accuracy')"
   ]
  },
  {
   "cell_type": "code",
   "execution_count": 12,
   "metadata": {},
   "outputs": [
    {
     "name": "stdout",
     "output_type": "stream",
     "text": [
      "{'accuracy': 0.9506172839506173, 'mean_square_error': 0.11876999956282866, 'categorical_crossentropy': 0.2100319332546658, 'essential_metrics': {0: {'tp_hit': 78, 'fp_hit': 6, 'tn_hit': 22, 'fn_hit': 2}, 1: {'tp_hit': 11, 'fp_hit': 0, 'tn_hit': 93, 'fn_hit': 4}, 2: {'tp_hit': 11, 'fp_hit': 2, 'tn_hit': 93, 'fn_hit': 2}}, 'checkpoint': 100} \n",
      "\n",
      "\n",
      "{'accuracy': 0.9567901234567902, 'mean_square_error': 0.07428911633508095, 'categorical_crossentropy': 0.12385469012790257, 'essential_metrics': {0: {'tp_hit': 76, 'fp_hit': 3, 'tn_hit': 25, 'fn_hit': 4}, 1: {'tp_hit': 13, 'fp_hit': 1, 'tn_hit': 92, 'fn_hit': 2}, 2: {'tp_hit': 12, 'fp_hit': 3, 'tn_hit': 92, 'fn_hit': 1}}, 'checkpoint': 200} \n",
      "\n",
      "\n",
      "{'accuracy': 0.9629629629629629, 'mean_square_error': 0.06278130946444219, 'categorical_crossentropy': 0.11155370429710106, 'essential_metrics': {0: {'tp_hit': 76, 'fp_hit': 2, 'tn_hit': 26, 'fn_hit': 4}, 1: {'tp_hit': 14, 'fp_hit': 1, 'tn_hit': 92, 'fn_hit': 1}, 2: {'tp_hit': 12, 'fp_hit': 3, 'tn_hit': 92, 'fn_hit': 1}}, 'checkpoint': 300} \n",
      "\n",
      "\n",
      "{'accuracy': 0.9691358024691358, 'mean_square_error': 0.06085713813385501, 'categorical_crossentropy': 0.1077645531407109, 'essential_metrics': {0: {'tp_hit': 77, 'fp_hit': 2, 'tn_hit': 26, 'fn_hit': 3}, 1: {'tp_hit': 14, 'fp_hit': 1, 'tn_hit': 92, 'fn_hit': 1}, 2: {'tp_hit': 12, 'fp_hit': 2, 'tn_hit': 93, 'fn_hit': 1}}, 'checkpoint': 400} \n",
      "\n",
      "\n",
      "{'accuracy': 0.9691358024691358, 'mean_square_error': 0.06051328817978746, 'categorical_crossentropy': 0.10769113787898311, 'essential_metrics': {0: {'tp_hit': 77, 'fp_hit': 2, 'tn_hit': 26, 'fn_hit': 3}, 1: {'tp_hit': 14, 'fp_hit': 1, 'tn_hit': 92, 'fn_hit': 1}, 2: {'tp_hit': 12, 'fp_hit': 2, 'tn_hit': 93, 'fn_hit': 1}}, 'checkpoint': 500} \n",
      "\n",
      "\n"
     ]
    }
   ],
   "source": [
    "for checkpoint in checkpoints:\n",
    "    print(checkpoint, '\\n\\n')"
   ]
  },
  {
   "cell_type": "code",
   "execution_count": 13,
   "metadata": {},
   "outputs": [
    {
     "name": "stdout",
     "output_type": "stream",
     "text": [
      "Layer 1\n",
      "Neuron 0: weights:\n",
      "[ 2.0826511 -3.        -3.        -3.         3.       ]\n",
      " bias: 3.0\n",
      "\n",
      "Neuron 1: weights:\n",
      "[-0.03955865  3.         -0.08173275 -1.2990326  -3.        ]\n",
      " bias: 2.4456024169921875\n",
      "\n",
      "Neuron 2: weights:\n",
      "[ 0.180433   -3.         -0.97341067  0.7041876   3.        ]\n",
      " bias: -3.0\n",
      "\n",
      "Neuron 3: weights:\n",
      "[ 1.817402   -3.         -1.4671493   0.28183642  2.464315  ]\n",
      " bias: 3.0\n",
      "\n",
      "$\n",
      "Layer 2\n",
      "Neuron 0: weights:\n",
      "[ 3.  3. -3.  3.]\n",
      " bias: -3.0\n",
      "\n",
      "Neuron 1: weights:\n",
      "[-3.  3. -3. -3.]\n",
      " bias: 2.2916195392608643\n",
      "\n",
      "Neuron 2: weights:\n",
      "[ 1.49554 -3.       3.       3.     ]\n",
      " bias: -2.406627893447876\n",
      "\n",
      "$\n",
      "\n"
     ]
    }
   ],
   "source": [
    "print(model)"
   ]
  }
 ],
 "metadata": {
  "kernelspec": {
   "display_name": "Python 3",
   "language": "python",
   "name": "python3"
  },
  "language_info": {
   "codemirror_mode": {
    "name": "ipython",
    "version": 3
   },
   "file_extension": ".py",
   "mimetype": "text/x-python",
   "name": "python",
   "nbconvert_exporter": "python",
   "pygments_lexer": "ipython3",
   "version": "3.6.10"
  }
 },
 "nbformat": 4,
 "nbformat_minor": 2
}
