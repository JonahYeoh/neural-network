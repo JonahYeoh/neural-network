{
 "cells": [
  {
   "cell_type": "code",
   "execution_count": 1,
   "metadata": {},
   "outputs": [],
   "source": [
    "# single"
   ]
  },
  {
   "cell_type": "code",
   "execution_count": 2,
   "metadata": {},
   "outputs": [],
   "source": [
    "# dependency\n",
    "import numpy as np\n",
    "import pandas as pd\n",
    "import copy\n",
    "import math\n",
    "import sys\n",
    "import os\n",
    "from activations import relu, leaky_relu, sigmoid, tanh, softmax, d_sigmoid, d_relu\n",
    "from initializers import glorot_uniform, random_normal, random_uniform\n",
    "from regularizers import l1_regularizer, l2_regularizer\n",
    "from utility import trim_tail, multiply, subtract, get_nparams, one_hot_encoding, get_data\n",
    "from metrics import MSE, CCE, ACC, PRECISION, RECALL, essential_metrics, wondering_penalty, close_gap_penalty\n",
    "from pso import PSO\n",
    "from ga import GA\n",
    "from nn import Network\n",
    "from layer import DenseLayer\n",
    "from scalers import MinMaxScaler, StandardScaler"
   ]
  },
  {
   "cell_type": "code",
   "execution_count": 3,
   "metadata": {},
   "outputs": [],
   "source": [
    "# reference\n",
    "metrics_fn_dict = dict()\n",
    "metrics_fn_dict['accuracy'] = ACC\n",
    "metrics_fn_dict['categorical_crossentropy'] = CCE\n",
    "metrics_fn_dict['mean_square_error'] = MSE\n",
    "metrics_fn_dict['precision'] = PRECISION\n",
    "metrics_fn_dict['recall'] = RECALL\n",
    "metrics_fn_dict['essential_metrics'] = essential_metrics"
   ]
  },
  {
   "cell_type": "code",
   "execution_count": 4,
   "metadata": {},
   "outputs": [],
   "source": [
    "# model\n",
    "model = Network(5, lr = None)\n",
    "model.add_layer(DenseLayer(1, 4, True, afn=sigmoid, dafn=None, rfn=None))\n",
    "model.add_layer(DenseLayer(2, 3, True, afn=softmax, dafn=None, rfn=None))"
   ]
  },
  {
   "cell_type": "code",
   "execution_count": 5,
   "metadata": {},
   "outputs": [],
   "source": [
    "# optimizer\n",
    "ga = GA(\n",
    "    dict(\n",
    "        m = 50,\n",
    "        x_rate = 0.5,\n",
    "        m_rate = 0.5,\n",
    "        weight_constraint = [-3.,3.],\n",
    "        radioactive_rating = 0.1,\n",
    "        grow_factor = 0.1,\n",
    "        scale_hyperparameter = False,\n",
    "        regularizer = None))"
   ]
  },
  {
   "cell_type": "code",
   "execution_count": 6,
   "metadata": {},
   "outputs": [
    {
     "name": "stdout",
     "output_type": "stream",
     "text": [
      "building layer 1 with 5\n",
      "24\n",
      "building layer 2 with 4\n",
      "15\n"
     ]
    }
   ],
   "source": [
    "model.compile(loss_fn = 'categorical_crossentropy', optimizer = ga, \\\n",
    "    metrics = ['accuracy', 'mean_square_error', 'categorical_crossentropy', 'precision', 'recall', 'f1'])"
   ]
  },
  {
   "cell_type": "code",
   "execution_count": 7,
   "metadata": {},
   "outputs": [
    {
     "name": "stdout",
     "output_type": "stream",
     "text": [
      "<class 'pandas.core.frame.DataFrame'>\n",
      "RangeIndex: 107 entries, 0 to 106\n",
      "Data columns (total 6 columns):\n",
      " #   Column  Non-Null Count  Dtype  \n",
      "---  ------  --------------  -----  \n",
      " 0   f1      107 non-null    float32\n",
      " 1   f2      107 non-null    float32\n",
      " 2   f3      107 non-null    float32\n",
      " 3   f4      107 non-null    float32\n",
      " 4   f5      107 non-null    float32\n",
      " 5   label   107 non-null    float32\n",
      "dtypes: float32(6)\n",
      "memory usage: 2.6 KB\n",
      "None\n",
      "<class 'pandas.core.frame.DataFrame'>\n",
      "RangeIndex: 108 entries, 0 to 107\n",
      "Data columns (total 6 columns):\n",
      " #   Column  Non-Null Count  Dtype  \n",
      "---  ------  --------------  -----  \n",
      " 0   f1      108 non-null    float32\n",
      " 1   f2      108 non-null    float32\n",
      " 2   f3      108 non-null    float32\n",
      " 3   f4      108 non-null    float32\n",
      " 4   f5      108 non-null    float32\n",
      " 5   label   108 non-null    float32\n",
      "dtypes: float32(6)\n",
      "memory usage: 2.7 KB\n",
      "None\n"
     ]
    }
   ],
   "source": [
    "# data loading\n",
    "DATA = os.path.join('c:\\\\Users\\\\tcumi\\\\github_repo\\\\neural-network\\\\', 'dataset')\n",
    "GROUP = 3\n",
    "COLUMNS = ['f1', 'f2', 'f3', 'f4', 'f5', 'label']\n",
    "N_CLASS = 3\n",
    "EPOCHS = 500\n",
    "train_dir, test_dir = \"..//dataset//training_data{}.txt\".format(GROUP), \"..//dataset//testing_data{}.txt\".format(GROUP)\n",
    "train, test = get_data(DATA, train_dir, COLUMNS), get_data(DATA, test_dir, COLUMNS)\n",
    "# shuffle\n",
    "train, test = train.sample(frac=1), test.sample(frac=1)\n",
    "x_train, y_train = train.drop('label', axis=1), train['label']\n",
    "x_test, y_test = test.drop('label', axis=1), test['label']"
   ]
  },
  {
   "cell_type": "code",
   "execution_count": 8,
   "metadata": {},
   "outputs": [],
   "source": [
    "# data scaling and encoding\n",
    "scaler = StandardScaler(['f1', 'f2', 'f3', 'f4', 'f5'])\n",
    "scaler.fit(x_train)\n",
    "x_train = scaler.transform(x_train)\n",
    "x_test = scaler.transform(x_test)\n",
    "y_train = one_hot_encoding(y_train, N_CLASS)\n",
    "y_test = one_hot_encoding(y_test, N_CLASS)"
   ]
  },
  {
   "cell_type": "code",
   "execution_count": 9,
   "metadata": {
    "scrolled": true,
    "tags": [
     "outputPrepend"
    ]
   },
   "outputs": [
    {
     "name": "stderr",
     "output_type": "stream",
     "text": [
      "C:\\Users\\tcumi\\github_repo\\neural-network\\python\\ga.py:201: RuntimeWarning: overflow encountered in add\n",
      "  self.population.sort(key=lambda p: p.fitness + np.random.uniform(-shift, shift, 1), reverse = self.aim)\n"
     ]
    },
    {
     "name": "stdout",
     "output_type": "stream",
     "text": [
      "Checkpoint 100, Accuracy: 0.9197530864197531, Loss: 0.3776601155598958\n",
      "Checkpoint 200, Accuracy: 0.9012345679012346, Loss: 0.35129261016845703\n",
      "Checkpoint 300, Accuracy: 0.9012345679012346, Loss: 0.3346393726490162\n",
      "Checkpoint 400, Accuracy: 0.9012345679012346, Loss: 0.3208027592411748\n",
      "Checkpoint 500, Accuracy: 0.9382716049382716, Loss: 0.30230511559380424\n"
     ]
    }
   ],
   "source": [
    "# learning phase\n",
    "breakpoint = 100\n",
    "checkpoints = list()\n",
    "history = list()\n",
    "for century in range(0, EPOCHS, breakpoint):\n",
    "    sub_history = model.fit(x_train, y_train, breakpoint, verbose = 0)\n",
    "    score = model.evaluate(x_test, y_test, False, verbose = 0)\n",
    "    print('Checkpoint {}, Accuracy: {}, Loss: {}'.format(century+breakpoint, score['accuracy'], score[model.loss_fn]))\n",
    "    score['checkpoint'] = century + breakpoint\n",
    "    checkpoints.append(score)\n",
    "    history.extend(sub_history)\n",
    "    "
   ]
  },
  {
   "cell_type": "code",
   "execution_count": 10,
   "metadata": {},
   "outputs": [],
   "source": [
    "import matplotlib.pyplot as plt\n",
    "\n",
    "def draw_plot(x, y_list, x_label=None, y_label=None, legend=None, title=None):\n",
    "    fig, ax = plt.subplots(figsize=(12,5))\n",
    "    for xi, yi in zip(x, y_list):\n",
    "        ax.plot(xi, yi)\n",
    "    if x_label is not None and y_label is not None:\n",
    "        ax.set(xlabel=x_label, ylabel=y_label, title='{} VS {}'.format(x_label, y_label))\n",
    "    if legend is not None:\n",
    "        ax.legend(legend)\n",
    "    ax.grid()\n",
    "    plt.show()"
   ]
  },
  {
   "cell_type": "code",
   "execution_count": 11,
   "metadata": {},
   "outputs": [
    {
     "name": "stdout",
     "output_type": "stream",
     "text": [
      "[1. 0. 0.] <-> [0.91568595 0.04709861 0.03721547]\n",
      "[0. 0. 1.] <-> [0.02523631 0.00407882 0.9706848 ]\n",
      "[0. 0. 1.] <-> [0.49067014 0.0024256  0.5069043 ]\n",
      "[0. 1. 0.] <-> [0.6169859  0.37071097 0.01230315]\n",
      "[1. 0. 0.] <-> [0.93055075 0.03223367 0.0372156 ]\n",
      "[1. 0. 0.] <-> [0.92862976 0.05214751 0.01922268]\n",
      "[1. 0. 0.] <-> [0.9230855  0.04101167 0.03590276]\n",
      "[0. 1. 0.] <-> [0.03295566 0.96457225 0.00247209]\n",
      "[1. 0. 0.] <-> [0.7380515  0.24658775 0.01536081]\n",
      "[1. 0. 0.] <-> [0.9144738  0.04425498 0.04127116]\n",
      "[0. 1. 0.] <-> [0.0571085  0.9402802  0.00261132]\n",
      "[0. 0. 1.] <-> [0.9432156  0.01999757 0.03678676]\n",
      "[1. 0. 0.] <-> [0.9467977  0.03782653 0.01537581]\n",
      "[1. 0. 0.] <-> [0.92452896 0.02679863 0.0486725 ]\n",
      "[1. 0. 0.] <-> [0.83867913 0.12724493 0.03407593]\n",
      "[1. 0. 0.] <-> [0.9484527  0.03459533 0.01695202]\n",
      "[1. 0. 0.] <-> [0.9033605  0.04366728 0.05297226]\n",
      "[1. 0. 0.] <-> [0.85381705 0.01147193 0.13471104]\n",
      "[1. 0. 0.] <-> [0.8820544  0.07313973 0.04480591]\n",
      "[1. 0. 0.] <-> [0.8912946  0.02118692 0.08751851]\n",
      "[0. 1. 0.] <-> [0.64004093 0.19820423 0.16175486]\n",
      "[1. 0. 0.] <-> [0.88549787 0.07354549 0.0409567 ]\n",
      "[1. 0. 0.] <-> [0.8853829  0.01896212 0.09565491]\n",
      "[0. 0. 1.] <-> [0.04203431 0.00407081 0.9538949 ]\n",
      "[0. 0. 1.] <-> [0.490515   0.00241381 0.50707114]\n",
      "[1. 0. 0.] <-> [0.9296864  0.03936511 0.03094856]\n",
      "[1. 0. 0.] <-> [0.9067993  0.01505405 0.07814661]\n",
      "[1. 0. 0.] <-> [0.8910497  0.04634749 0.06260283]\n",
      "[1. 0. 0.] <-> [0.95588917 0.01814683 0.02596409]\n",
      "[1. 0. 0.] <-> [0.8371018  0.06552408 0.09737409]\n",
      "[0. 1. 0.] <-> [0.42588168 0.5715926  0.00252566]\n",
      "[1. 0. 0.] <-> [0.9148198  0.06047085 0.02470937]\n",
      "[1. 0. 0.] <-> [0.8940919  0.02456524 0.08134285]\n",
      "[0. 0. 1.] <-> [0.49656177 0.00247309 0.5009651 ]\n",
      "[0. 1. 0.] <-> [0.5866903  0.33873504 0.0745746 ]\n",
      "[1. 0. 0.] <-> [0.7486185  0.01375825 0.23762327]\n",
      "[1. 0. 0.] <-> [0.8177157  0.1059947  0.07628957]\n",
      "[1. 0. 0.] <-> [0.896359   0.06388836 0.0397526 ]\n",
      "[1. 0. 0.] <-> [0.9507552  0.02103043 0.02821433]\n",
      "[1. 0. 0.] <-> [0.9377976  0.03014014 0.03206225]\n",
      "[0. 1. 0.] <-> [0.19264394 0.8049163  0.00243973]\n",
      "[1. 0. 0.] <-> [0.93755245 0.0352054  0.02724213]\n",
      "[1. 0. 0.] <-> [0.7552605  0.0083105  0.23642895]\n",
      "[0. 0. 1.] <-> [0.4892014  0.00240623 0.5083924 ]\n",
      "[1. 0. 0.] <-> [0.8490329  0.12262102 0.02834615]\n",
      "[1. 0. 0.] <-> [0.78971666 0.19208413 0.01819918]\n",
      "[0. 1. 0.] <-> [0.10017261 0.8972154  0.00261197]\n",
      "[0. 0. 1.] <-> [0.02555143 0.00410036 0.97034824]\n",
      "[1. 0. 0.] <-> [0.9186403  0.03527798 0.04608164]\n",
      "[1. 0. 0.] <-> [0.9448944  0.03375959 0.02134596]\n",
      "[1. 0. 0.] <-> [0.92463994 0.01919384 0.05616627]\n",
      "[0. 0. 1.] <-> [0.9495567  0.01617777 0.03426561]\n",
      "[1. 0. 0.] <-> [0.9273596  0.06071112 0.01192934]\n",
      "[1. 0. 0.] <-> [0.9120484  0.03572845 0.05222319]\n",
      "[1. 0. 0.] <-> [0.90173393 0.02731723 0.07094891]\n",
      "[1. 0. 0.] <-> [0.81504107 0.15026353 0.0346954 ]\n",
      "[0. 1. 0.] <-> [0.3999825  0.5832691  0.01674836]\n",
      "[1. 0. 0.] <-> [0.9066547  0.08176597 0.01157938]\n",
      "[1. 0. 0.] <-> [0.8024696  0.1281924  0.06933798]\n",
      "[1. 0. 0.] <-> [0.9046303  0.06040572 0.03496403]\n",
      "[1. 0. 0.] <-> [0.9429225  0.02812721 0.02895025]\n",
      "[0. 1. 0.] <-> [0.17944115 0.8167667  0.00379209]\n",
      "[1. 0. 0.] <-> [0.6880138  0.30725902 0.0047272 ]\n",
      "[1. 0. 0.] <-> [0.93570524 0.02400425 0.04029047]\n",
      "[0. 0. 1.] <-> [0.7817436  0.0457314  0.17252503]\n",
      "[0. 1. 0.] <-> [0.5349033  0.46121508 0.00388163]\n",
      "[1. 0. 0.] <-> [0.7531574  0.01015595 0.23668672]\n",
      "[1. 0. 0.] <-> [0.88681203 0.05514268 0.05804526]\n",
      "[1. 0. 0.] <-> [0.91385025 0.0253356  0.0608141 ]\n",
      "[1. 0. 0.] <-> [0.8605088  0.11830119 0.02118994]\n",
      "[1. 0. 0.] <-> [0.8893765  0.02287733 0.08774615]\n",
      "[0. 1. 0.] <-> [0.03246801 0.9649988  0.00253319]\n",
      "[1. 0. 0.] <-> [0.95440227 0.02035887 0.02523881]\n",
      "[1. 0. 0.] <-> [0.6377087  0.00956335 0.35272795]\n",
      "[1. 0. 0.] <-> [0.89995825 0.07761185 0.02242995]\n",
      "[1. 0. 0.] <-> [0.9382166  0.03875826 0.02302511]\n",
      "[1. 0. 0.] <-> [0.9011484  0.02343754 0.07541409]\n",
      "[1. 0. 0.] <-> [0.9012464  0.05075306 0.04800043]\n",
      "[1. 0. 0.] <-> [0.91920877 0.0305656  0.0502256 ]\n",
      "[1. 0. 0.] <-> [0.91052514 0.01778851 0.07168644]\n",
      "[1. 0. 0.] <-> [0.8598273  0.08503221 0.05514053]\n",
      "[1. 0. 0.] <-> [0.8721358  0.09406535 0.03379882]\n",
      "[0. 0. 1.] <-> [0.44492733 0.00259362 0.5524791 ]\n",
      "[1. 0. 0.] <-> [0.83273935 0.15363982 0.01362085]\n",
      "[0. 1. 0.] <-> [0.41129228 0.5785507  0.01015702]\n",
      "[1. 0. 0.] <-> [0.8855962  0.05789132 0.05651248]\n",
      "[0. 1. 0.] <-> [0.53603053 0.4519456  0.01202385]\n",
      "[1. 0. 0.] <-> [0.9144359  0.04684951 0.03871452]\n",
      "[1. 0. 0.] <-> [0.91461915 0.02178889 0.06359199]\n",
      "[1. 0. 0.] <-> [0.64786214 0.32331547 0.02882239]\n",
      "[1. 0. 0.] <-> [0.9592725  0.0214048  0.01932271]\n",
      "[1. 0. 0.] <-> [0.76683134 0.2235059  0.00966275]\n",
      "[1. 0. 0.] <-> [0.9254584  0.06227203 0.01226964]\n",
      "[1. 0. 0.] <-> [0.9417425  0.02343623 0.03482132]\n",
      "[1. 0. 0.] <-> [0.88023514 0.0982803  0.02148453]\n",
      "[1. 0. 0.] <-> [0.9568457  0.02713445 0.01601988]\n",
      "[1. 0. 0.] <-> [0.74476445 0.2502017  0.00503382]\n",
      "[1. 0. 0.] <-> [0.93068147 0.04857896 0.02073953]\n",
      "[1. 0. 0.] <-> [0.9272447  0.05185294 0.02090232]\n",
      "[0. 1. 0.] <-> [0.0407933  0.95660514 0.00260163]\n",
      "[0. 0. 1.] <-> [0.51528215 0.0089039  0.47581398]\n",
      "[1. 0. 0.] <-> [0.9250837  0.05053227 0.02438399]\n",
      "[0. 1. 0.] <-> [0.03239401 0.9647008  0.00290511]\n",
      "[0. 0. 1.] <-> [0.73617524 0.0084765  0.25534827]\n",
      "[1. 0. 0.] <-> [0.6320202  0.36386815 0.0041117 ]\n",
      "[0. 0. 1.] <-> [0.48304215 0.0024519  0.514506  ]\n",
      "[1. 0. 0.] <-> [0.9219833  0.05180643 0.02621025]\n",
      "[1. 0. 0.] <-> [0.9248082  0.04540355 0.02978819]\n",
      "{'accuracy': 0.9382716049382716, 'mean_square_error': 0.15998650730880545, 'categorical_crossentropy': 0.30230511559380424, 'precision': 0.9074074074074074, 'recall': 0.9074074074074074, 'f1': 0.9074074074074074, 'essential_metrics': {0: {'tp_hit': 78, 'fp_hit': 10, 'tn_hit': 20, 'fn_hit': 0}, 1: {'tp_hit': 11, 'fp_hit': 0, 'tn_hit': 92, 'fn_hit': 5}, 2: {'tp_hit': 9, 'fp_hit': 0, 'tn_hit': 94, 'fn_hit': 5}}}\n"
     ]
    }
   ],
   "source": [
    "# recall phase\n",
    "score = model.evaluate(x_test, y_test, False)\n",
    "print(score)"
   ]
  },
  {
   "cell_type": "code",
   "execution_count": 12,
   "metadata": {},
   "outputs": [],
   "source": [
    "# Testing Performance"
   ]
  },
  {
   "cell_type": "code",
   "execution_count": 13,
   "metadata": {},
   "outputs": [
    {
     "data": {
      "image/png": "[encoded data removed]",
      "text/plain": [
       "<Figure size 864x360 with 1 Axes>"
      ]
     },
     "metadata": {
      "needs_background": "light"
     },
     "output_type": "display_data"
    },
    {
     "data": {
      "image/png": "[encoded data removed]",
      "text/plain": [
       "<Figure size 864x360 with 1 Axes>"
      ]
     },
     "metadata": {
      "needs_background": "light"
     },
     "output_type": "display_data"
    }
   ],
   "source": [
    "draw_plot(x = [[i for i in range(len(history))], [(i+1)*breakpoint for i in range(len(checkpoints))]], y_list = [history, [ ckp[model.loss_fn] for ckp in checkpoints ]], x_label = 'Epochs', \\\n",
    "    y_label = model.loss_fn, legend=['train', 'test'])\n",
    "acc = [ ckp['accuracy'] for ckp in checkpoints ]\n",
    "draw_plot(x = [[(i+1)*breakpoint for i in range(len(checkpoints))]], y_list = [acc], x_label = 'Checkpoints', \\\n",
    "    y_label = 'accuracy')"
   ]
  },
  {
   "cell_type": "code",
   "execution_count": 14,
   "metadata": {
    "scrolled": false
   },
   "outputs": [
    {
     "name": "stdout",
     "output_type": "stream",
     "text": [
      "{'accuracy': 0.9197530864197531, 'mean_square_error': 0.19509389477923508, 'categorical_crossentropy': 0.3776601155598958, 'precision': 0.8796296296296297, 'recall': 0.8796296296296297, 'f1': 0.8796296296296297, 'essential_metrics': {0: {'tp_hit': 78, 'fp_hit': 13, 'tn_hit': 17, 'fn_hit': 0}, 1: {'tp_hit': 13, 'fp_hit': 0, 'tn_hit': 92, 'fn_hit': 3}, 2: {'tp_hit': 4, 'fp_hit': 0, 'tn_hit': 94, 'fn_hit': 10}}, 'checkpoint': 100} \n",
      "\n",
      "\n",
      "{'accuracy': 0.9012345679012346, 'mean_square_error': 0.1905845177486043, 'categorical_crossentropy': 0.35129261016845703, 'precision': 0.8518518518518519, 'recall': 0.8518518518518519, 'f1': 0.8518518518518519, 'essential_metrics': {0: {'tp_hit': 78, 'fp_hit': 16, 'tn_hit': 14, 'fn_hit': 0}, 1: {'tp_hit': 11, 'fp_hit': 0, 'tn_hit': 92, 'fn_hit': 5}, 2: {'tp_hit': 3, 'fp_hit': 0, 'tn_hit': 94, 'fn_hit': 11}}, 'checkpoint': 200} \n",
      "\n",
      "\n",
      "{'accuracy': 0.9012345679012346, 'mean_square_error': 0.18179401357562622, 'categorical_crossentropy': 0.3346393726490162, 'precision': 0.8518518518518519, 'recall': 0.8518518518518519, 'f1': 0.8518518518518519, 'essential_metrics': {0: {'tp_hit': 78, 'fp_hit': 16, 'tn_hit': 14, 'fn_hit': 0}, 1: {'tp_hit': 11, 'fp_hit': 0, 'tn_hit': 92, 'fn_hit': 5}, 2: {'tp_hit': 3, 'fp_hit': 0, 'tn_hit': 94, 'fn_hit': 11}}, 'checkpoint': 300} \n",
      "\n",
      "\n",
      "{'accuracy': 0.9012345679012346, 'mean_square_error': 0.1712042433881821, 'categorical_crossentropy': 0.3208027592411748, 'precision': 0.8518518518518519, 'recall': 0.8518518518518519, 'f1': 0.8518518518518519, 'essential_metrics': {0: {'tp_hit': 78, 'fp_hit': 16, 'tn_hit': 14, 'fn_hit': 0}, 1: {'tp_hit': 11, 'fp_hit': 0, 'tn_hit': 92, 'fn_hit': 5}, 2: {'tp_hit': 3, 'fp_hit': 0, 'tn_hit': 94, 'fn_hit': 11}}, 'checkpoint': 400} \n",
      "\n",
      "\n",
      "{'accuracy': 0.9382716049382716, 'mean_square_error': 0.15998650730880545, 'categorical_crossentropy': 0.30230511559380424, 'precision': 0.9074074074074074, 'recall': 0.9074074074074074, 'f1': 0.9074074074074074, 'essential_metrics': {0: {'tp_hit': 78, 'fp_hit': 10, 'tn_hit': 20, 'fn_hit': 0}, 1: {'tp_hit': 11, 'fp_hit': 0, 'tn_hit': 92, 'fn_hit': 5}, 2: {'tp_hit': 9, 'fp_hit': 0, 'tn_hit': 94, 'fn_hit': 5}}, 'checkpoint': 500} \n",
      "\n",
      "\n"
     ]
    }
   ],
   "source": [
    "for checkpoint in checkpoints:\n",
    "    print(checkpoint, '\\n\\n')"
   ]
  },
  {
   "cell_type": "code",
   "execution_count": 15,
   "metadata": {},
   "outputs": [
    {
     "name": "stdout",
     "output_type": "stream",
     "text": [
      "Layer 1\n",
      "Neuron 0: weights:\n",
      "[ 1.2278749  0.48559   -0.7224765  2.4733653  2.49812  ]\n",
      " bias: 2.1629202365875244\n",
      "\n",
      "Neuron 1: weights:\n",
      "[ 1.5259032  -1.7179542   0.13012624 -1.4537163  -2.4904613 ]\n",
      " bias: 2.2197086811065674\n",
      "\n",
      "Neuron 2: weights:\n",
      "[-2.6313555  1.9376392 -1.8865812 -2.3646388 -0.832261 ]\n",
      " bias: 2.046083688735962\n",
      "\n",
      "Neuron 3: weights:\n",
      "[ 0.36586723 -1.1789432  -2.3503954   1.5031781   2.5996568 ]\n",
      " bias: 1.736183762550354\n",
      "\n",
      "$\n",
      "Layer 2\n",
      "Neuron 0: weights:\n",
      "[-1.4446684   3.         -0.19222344  1.1080385 ]\n",
      " bias: 0.7152836322784424\n",
      "\n",
      "Neuron 1: weights:\n",
      "[-1.1641648 -0.5001934  1.1942945 -3.       ]\n",
      " bias: 2.721055746078491\n",
      "\n",
      "Neuron 2: weights:\n",
      "[ 1.1696098 -0.6138083 -2.8436348  2.0878026]\n",
      " bias: 0.7733240723609924\n",
      "\n",
      "$\n",
      "\n"
     ]
    }
   ],
   "source": [
    "print(model)"
   ]
  }
 ],
 "metadata": {
  "kernelspec": {
   "display_name": "Python 3",
   "language": "python",
   "name": "python3"
  },
  "language_info": {
   "codemirror_mode": {
    "name": "ipython",
    "version": 3
   },
   "file_extension": ".py",
   "mimetype": "text/x-python",
   "name": "python",
   "nbconvert_exporter": "python",
   "pygments_lexer": "ipython3",
   "version": "3.6.10"
  }
 },
 "nbformat": 4,
 "nbformat_minor": 2
}
