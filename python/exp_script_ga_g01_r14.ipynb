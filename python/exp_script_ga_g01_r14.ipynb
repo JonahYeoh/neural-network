{
 "cells": [
  {
   "cell_type": "code",
   "execution_count": 1,
   "metadata": {},
   "outputs": [],
   "source": [
    "# single"
   ]
  },
  {
   "cell_type": "code",
   "execution_count": 2,
   "metadata": {},
   "outputs": [],
   "source": [
    "# dependency\n",
    "import numpy as np\n",
    "import pandas as pd\n",
    "import copy\n",
    "import math\n",
    "import sys\n",
    "import os\n",
    "from activations import relu, leaky_relu, sigmoid, tanh, softmax, d_sigmoid, d_relu\n",
    "from initializers import glorot_uniform, random_normal, random_uniform\n",
    "from regularizers import l1_regularizer, l2_regularizer\n",
    "from utility import trim_tail, multiply, subtract, get_nparams, one_hot_encoding, get_data\n",
    "from metrics import MSE, CCE, ACC, PRECISION, RECALL, essential_metrics, wondering_penalty, close_gap_penalty\n",
    "from pso import PSO\n",
    "from ga import GA\n",
    "from nn import Network\n",
    "from layer import DenseLayer\n",
    "from scalers import MinMaxScaler, StandardScaler"
   ]
  },
  {
   "cell_type": "code",
   "execution_count": 3,
   "metadata": {},
   "outputs": [],
   "source": [
    "# reference\n",
    "metrics_fn_dict = dict()\n",
    "metrics_fn_dict['accuracy'] = ACC\n",
    "metrics_fn_dict['categorical_crossentropy'] = CCE\n",
    "metrics_fn_dict['mean_square_error'] = MSE\n",
    "metrics_fn_dict['precision'] = PRECISION\n",
    "metrics_fn_dict['recall'] = RECALL\n",
    "metrics_fn_dict['essential_metrics'] = essential_metrics"
   ]
  },
  {
   "cell_type": "code",
   "execution_count": 4,
   "metadata": {},
   "outputs": [],
   "source": [
    "# model\n",
    "model = Network(5, lr = None)\n",
    "model.add_layer(DenseLayer(1, 4, True, afn=sigmoid, dafn=None, rfn=None))\n",
    "model.add_layer(DenseLayer(2, 3, True, afn=softmax, dafn=None, rfn=None))"
   ]
  },
  {
   "cell_type": "code",
   "execution_count": 5,
   "metadata": {},
   "outputs": [],
   "source": [
    "# optimizer\n",
    "ga = GA(\n",
    "    dict(\n",
    "        m = 50,\n",
    "        x_rate = [0.5, 1.0],\n",
    "        m_rate = [0.5, 1.0],\n",
    "        weight_constraint = [-3.,3.],\n",
    "        radioactive_rating = [0.1, 0.5],\n",
    "        grow_factor = [0.1, 0.5],\n",
    "        scale_hyperparameter = False,\n",
    "        regularizer = None))"
   ]
  },
  {
   "cell_type": "code",
   "execution_count": 6,
   "metadata": {},
   "outputs": [
    {
     "name": "stdout",
     "output_type": "stream",
     "text": [
      "building layer 1 with 5\n",
      "24\n",
      "building layer 2 with 4\n",
      "15\n"
     ]
    }
   ],
   "source": [
    "model.compile(loss_fn = 'categorical_crossentropy', optimizer = ga, \\\n",
    "    metrics = ['accuracy', 'mean_square_error', 'categorical_crossentropy', 'precision', 'recall', 'f1'])"
   ]
  },
  {
   "cell_type": "code",
   "execution_count": 7,
   "metadata": {},
   "outputs": [
    {
     "name": "stdout",
     "output_type": "stream",
     "text": [
      "<class 'pandas.core.frame.DataFrame'>\n",
      "RangeIndex: 107 entries, 0 to 106\n",
      "Data columns (total 6 columns):\n",
      " #   Column  Non-Null Count  Dtype  \n",
      "---  ------  --------------  -----  \n",
      " 0   f1      107 non-null    float32\n",
      " 1   f2      107 non-null    float32\n",
      " 2   f3      107 non-null    float32\n",
      " 3   f4      107 non-null    float32\n",
      " 4   f5      107 non-null    float32\n",
      " 5   label   107 non-null    float32\n",
      "dtypes: float32(6)\n",
      "memory usage: 2.6 KB\n",
      "None\n",
      "<class 'pandas.core.frame.DataFrame'>\n",
      "RangeIndex: 108 entries, 0 to 107\n",
      "Data columns (total 6 columns):\n",
      " #   Column  Non-Null Count  Dtype  \n",
      "---  ------  --------------  -----  \n",
      " 0   f1      108 non-null    float32\n",
      " 1   f2      108 non-null    float32\n",
      " 2   f3      108 non-null    float32\n",
      " 3   f4      108 non-null    float32\n",
      " 4   f5      108 non-null    float32\n",
      " 5   label   108 non-null    float32\n",
      "dtypes: float32(6)\n",
      "memory usage: 2.7 KB\n",
      "None\n"
     ]
    }
   ],
   "source": [
    "# data loading\n",
    "DATA = os.path.join('c:\\\\Users\\\\tcumi\\\\github_repo\\\\neural-network\\\\', 'dataset')\n",
    "GROUP = 1\n",
    "COLUMNS = ['f1', 'f2', 'f3', 'f4', 'f5', 'label']\n",
    "N_CLASS = 3\n",
    "EPOCHS = 500\n",
    "train_dir, test_dir = \"..//dataset//training_data{}.txt\".format(GROUP), \"..//dataset//testing_data{}.txt\".format(GROUP)\n",
    "train, test = get_data(DATA, train_dir, COLUMNS), get_data(DATA, test_dir, COLUMNS)\n",
    "# shuffle\n",
    "train, test = train.sample(frac=1), test.sample(frac=1)\n",
    "x_train, y_train = train.drop('label', axis=1), train['label']\n",
    "x_test, y_test = test.drop('label', axis=1), test['label']"
   ]
  },
  {
   "cell_type": "code",
   "execution_count": 8,
   "metadata": {},
   "outputs": [],
   "source": [
    "# data scaling and encoding\n",
    "scaler = StandardScaler(['f1', 'f2', 'f3', 'f4', 'f5'])\n",
    "scaler.fit(x_train)\n",
    "x_train = scaler.transform(x_train)\n",
    "x_test = scaler.transform(x_test)\n",
    "y_train = one_hot_encoding(y_train, N_CLASS)\n",
    "y_test = one_hot_encoding(y_test, N_CLASS)"
   ]
  },
  {
   "cell_type": "code",
   "execution_count": 9,
   "metadata": {
    "scrolled": true,
    "tags": [
     "outputPrepend"
    ]
   },
   "outputs": [
    {
     "name": "stderr",
     "output_type": "stream",
     "text": [
      "C:\\Users\\tcumi\\github_repo\\neural-network\\python\\ga.py:201: RuntimeWarning: overflow encountered in add\n",
      "  self.population.sort(key=lambda p: p.fitness + np.random.uniform(-shift, shift, 1), reverse = self.aim)\n"
     ]
    },
    {
     "name": "stdout",
     "output_type": "stream",
     "text": [
      "Checkpoint 100, Accuracy: 0.9691358024691358, Loss: 0.2643750685232657\n",
      "Checkpoint 200, Accuracy: 0.9567901234567902, Loss: 0.2270096849512171\n",
      "Checkpoint 300, Accuracy: 0.9629629629629629, Loss: 0.19192089857878508\n",
      "Checkpoint 400, Accuracy: 0.9506172839506173, Loss: 0.17639361487494576\n",
      "Checkpoint 500, Accuracy: 0.9567901234567902, Loss: 0.15350433632179541\n"
     ]
    }
   ],
   "source": [
    "# learning phase\n",
    "breakpoint = 100\n",
    "checkpoints = list()\n",
    "history = list()\n",
    "for century in range(0, EPOCHS, breakpoint):\n",
    "    sub_history = model.fit(x_train, y_train, breakpoint, verbose = 0)\n",
    "    score = model.evaluate(x_test, y_test, False, verbose = 0)\n",
    "    print('Checkpoint {}, Accuracy: {}, Loss: {}'.format(century+breakpoint, score['accuracy'], score[model.loss_fn]))\n",
    "    score['checkpoint'] = century + breakpoint\n",
    "    checkpoints.append(score)\n",
    "    history.extend(sub_history)\n",
    "    itr = century + breakpoint\n",
    "\n",
    "    model.optimizer.rr = model.optimizer.radioactive_rating[1] - (model.optimizer.radioactive_rating[1] - model.optimizer.radioactive_rating[0]) / EPOCHS * (EPOCHS - itr)\n",
    "    model.optimizer.gf = model.optimizer.grow_factor[1] - (model.optimizer.grow_factor[1] - model.optimizer.grow_factor[0]) / EPOCHS * (EPOCHS - itr)\n",
    "    model.optimizer.crossover_rate = model.optimizer.x_rate[1] - (model.optimizer.x_rate[1] - model.optimizer.x_rate[0]) / EPOCHS * (EPOCHS - itr)\n",
    "    model.optimizer.mutation_rate = model.optimizer.m_rate[0] + (model.optimizer.m_rate[1] - model.optimizer.m_rate[0]) / EPOCHS * (EPOCHS - itr)\n",
    "    "
   ]
  },
  {
   "cell_type": "code",
   "execution_count": 10,
   "metadata": {},
   "outputs": [],
   "source": [
    "import matplotlib.pyplot as plt\n",
    "\n",
    "def draw_plot(x, y_list, x_label=None, y_label=None, legend=None, title=None):\n",
    "    fig, ax = plt.subplots(figsize=(12,5))\n",
    "    for xi, yi in zip(x, y_list):\n",
    "        ax.plot(xi, yi)\n",
    "    if x_label is not None and y_label is not None:\n",
    "        ax.set(xlabel=x_label, ylabel=y_label, title='{} VS {}'.format(x_label, y_label))\n",
    "    if legend is not None:\n",
    "        ax.legend(legend)\n",
    "    ax.grid()\n",
    "    plt.show()"
   ]
  },
  {
   "cell_type": "code",
   "execution_count": 11,
   "metadata": {},
   "outputs": [
    {
     "name": "stdout",
     "output_type": "stream",
     "text": [
      "[1. 0. 0.] <-> [7.5107291e-02 2.2930182e-04 9.2466336e-01]\n",
      "[1. 0. 0.] <-> [0.67896575 0.00102019 0.3200141 ]\n",
      "[0. 1. 0.] <-> [2.915784e-02 9.708335e-01 8.680258e-06]\n",
      "[0. 0. 1.] <-> [5.3418744e-02 1.2455657e-04 9.4645667e-01]\n",
      "[1. 0. 0.] <-> [0.9887916  0.00740765 0.0038008 ]\n",
      "[1. 0. 0.] <-> [0.9801538  0.01819809 0.00164809]\n",
      "[1. 0. 0.] <-> [0.9852632  0.00370304 0.01103373]\n",
      "[1. 0. 0.] <-> [0.9813136  0.00238766 0.01629867]\n",
      "[1. 0. 0.] <-> [0.9856705  0.01232244 0.00200702]\n",
      "[1. 0. 0.] <-> [0.9869016  0.00323781 0.00986068]\n",
      "[1. 0. 0.] <-> [0.96190244 0.00163025 0.03646727]\n",
      "[1. 0. 0.] <-> [0.9880292  0.00383099 0.00813987]\n",
      "[0. 0. 1.] <-> [6.4640805e-02 1.4044462e-04 9.3521875e-01]\n",
      "[1. 0. 0.] <-> [0.9425288  0.00603892 0.0514323 ]\n",
      "[1. 0. 0.] <-> [0.9836776  0.01205859 0.0042638 ]\n",
      "[1. 0. 0.] <-> [0.98789036 0.00657134 0.00553824]\n",
      "[1. 0. 0.] <-> [0.89779496 0.00102506 0.10117994]\n",
      "[0. 0. 1.] <-> [0.04876493 0.01426493 0.9369701 ]\n",
      "[1. 0. 0.] <-> [6.4960116e-01 3.4990349e-01 4.9526693e-04]\n",
      "[1. 0. 0.] <-> [0.98610467 0.00664112 0.0072542 ]\n",
      "[1. 0. 0.] <-> [0.9659412  0.03278941 0.00126944]\n",
      "[1. 0. 0.] <-> [0.92118376 0.07748372 0.00133245]\n",
      "[1. 0. 0.] <-> [0.96433675 0.00186597 0.0337973 ]\n",
      "[1. 0. 0.] <-> [0.98848534 0.00789155 0.00362316]\n",
      "[1. 0. 0.] <-> [0.9646984  0.03393339 0.00136832]\n",
      "[1. 0. 0.] <-> [0.9420469  0.00131491 0.05663824]\n",
      "[1. 0. 0.] <-> [0.96776205 0.0029265  0.02931142]\n",
      "[1. 0. 0.] <-> [0.93975663 0.00143638 0.05880692]\n",
      "[0. 1. 0.] <-> [0.6796158  0.31960484 0.0007794 ]\n",
      "[0. 1. 0.] <-> [8.775471e-02 9.122014e-01 4.383348e-05]\n",
      "[1. 0. 0.] <-> [9.3497628e-01 6.4473197e-02 5.5049686e-04]\n",
      "[1. 0. 0.] <-> [0.9877791  0.00697931 0.00524165]\n",
      "[0. 1. 0.] <-> [2.7836204e-02 9.7215569e-01 8.0854688e-06]\n",
      "[0. 0. 1.] <-> [1.6787052e-01 1.5380837e-04 8.3197570e-01]\n",
      "[1. 0. 0.] <-> [0.62900615 0.00086311 0.37013078]\n",
      "[1. 0. 0.] <-> [0.9802761  0.01794994 0.0017739 ]\n",
      "[0. 0. 1.] <-> [5.410048e-02 9.220544e-05 9.458073e-01]\n",
      "[1. 0. 0.] <-> [0.986159   0.01185009 0.00199092]\n",
      "[1. 0. 0.] <-> [0.9760502  0.00196145 0.02198825]\n",
      "[1. 0. 0.] <-> [0.96838266 0.00286289 0.0287544 ]\n",
      "[1. 0. 0.] <-> [0.9718837  0.00196509 0.02615127]\n",
      "[0. 1. 0.] <-> [4.4842985e-02 9.5513755e-01 1.9431664e-05]\n",
      "[0. 0. 1.] <-> [5.3670373e-02 9.2973103e-05 9.4623661e-01]\n",
      "[1. 0. 0.] <-> [0.9881493  0.00900718 0.00284345]\n",
      "[1. 0. 0.] <-> [0.9794826  0.00586979 0.01464768]\n",
      "[1. 0. 0.] <-> [0.95403105 0.0022801  0.04368887]\n",
      "[1. 0. 0.] <-> [0.9603152  0.03807782 0.0016069 ]\n",
      "[0. 1. 0.] <-> [2.8350433e-02 9.7164112e-01 8.4231342e-06]\n",
      "[1. 0. 0.] <-> [9.4806188e-01 5.1228892e-02 7.0913602e-04]\n",
      "[1. 0. 0.] <-> [0.96381545 0.00177669 0.03440796]\n",
      "[1. 0. 0.] <-> [0.9807772  0.01383011 0.00539274]\n",
      "[0. 1. 0.] <-> [3.1171668e-02 9.6881819e-01 1.0218164e-05]\n",
      "[0. 1. 0.] <-> [8.835434e-02 9.116101e-01 3.552087e-05]\n",
      "[0. 1. 0.] <-> [7.0693910e-01 2.9281124e-01 2.4964701e-04]\n",
      "[1. 0. 0.] <-> [0.971519   0.0022839  0.02619709]\n",
      "[1. 0. 0.] <-> [0.9663049  0.00218243 0.03151266]\n",
      "[1. 0. 0.] <-> [0.98944247 0.00760307 0.00295447]\n",
      "[1. 0. 0.] <-> [0.8304359  0.00228278 0.16728145]\n",
      "[1. 0. 0.] <-> [0.97170043 0.02683274 0.00146683]\n",
      "[1. 0. 0.] <-> [0.9890723  0.00483279 0.00609495]\n",
      "[1. 0. 0.] <-> [0.8824052  0.00097367 0.11662112]\n",
      "[0. 0. 1.] <-> [0.81826705 0.00090184 0.18083116]\n",
      "[0. 1. 0.] <-> [3.1776566e-02 9.6821290e-01 1.0546422e-05]\n",
      "[1. 0. 0.] <-> [3.1170473e-01 4.8131056e-04 6.8781394e-01]\n",
      "[1. 0. 0.] <-> [0.97889096 0.00215772 0.01895133]\n",
      "[1. 0. 0.] <-> [0.83894646 0.00119936 0.15985422]\n",
      "[1. 0. 0.] <-> [0.98946065 0.00375434 0.00678497]\n",
      "[1. 0. 0.] <-> [0.96488655 0.00216667 0.03294677]\n",
      "[0. 1. 0.] <-> [3.4971756e-01 6.5015489e-01 1.2754810e-04]\n",
      "[0. 0. 1.] <-> [5.6145493e-02 4.2540767e-05 9.4381195e-01]\n",
      "[1. 0. 0.] <-> [0.9795721  0.01728571 0.00314219]\n",
      "[0. 0. 1.] <-> [8.5197754e-02 8.3567480e-05 9.1471869e-01]\n",
      "[1. 0. 0.] <-> [0.9675959  0.00557215 0.026832  ]\n",
      "[1. 0. 0.] <-> [0.9724462  0.0019332  0.02562059]\n",
      "[1. 0. 0.] <-> [0.97309023 0.02582126 0.00108855]\n",
      "[1. 0. 0.] <-> [3.6030033e-01 3.6865819e-04 6.3933104e-01]\n",
      "[1. 0. 0.] <-> [0.98556453 0.00302    0.01141536]\n",
      "[1. 0. 0.] <-> [0.9353745  0.06338681 0.00123876]\n",
      "[0. 1. 0.] <-> [5.9805930e-02 9.4016939e-01 2.4675814e-05]\n",
      "[1. 0. 0.] <-> [0.8580834  0.00133962 0.14057696]\n",
      "[0. 0. 1.] <-> [0.0487726  0.01419424 0.93703324]\n",
      "[1. 0. 0.] <-> [0.97710526 0.01768234 0.00521231]\n",
      "[1. 0. 0.] <-> [0.9879753  0.00657237 0.00545232]\n",
      "[1. 0. 0.] <-> [9.5696098e-01 4.2474728e-02 5.6437735e-04]\n",
      "[1. 0. 0.] <-> [0.98171544 0.00339807 0.01488649]\n",
      "[1. 0. 0.] <-> [9.4824558e-01 5.1188953e-02 5.6542142e-04]\n",
      "[0. 1. 0.] <-> [5.7427544e-02 9.4254529e-01 2.7165268e-05]\n",
      "[1. 0. 0.] <-> [0.98940825 0.00454329 0.00604841]\n",
      "[0. 0. 1.] <-> [5.7897590e-02 4.4274515e-05 9.4205821e-01]\n",
      "[1. 0. 0.] <-> [0.8460589  0.00090049 0.15304069]\n",
      "[0. 1. 0.] <-> [3.2762785e-02 9.6722555e-01 1.1672936e-05]\n",
      "[1. 0. 0.] <-> [0.9328992  0.00155541 0.06554542]\n",
      "[1. 0. 0.] <-> [0.98926455 0.00555524 0.00518025]\n",
      "[1. 0. 0.] <-> [0.9880646  0.00914584 0.00278949]\n",
      "[0. 1. 0.] <-> [6.2960529e-01 3.7014398e-01 2.5066966e-04]\n",
      "[1. 0. 0.] <-> [0.9711699  0.02636303 0.00246712]\n",
      "[1. 0. 0.] <-> [5.4946250e-01 5.3245394e-04 4.5000505e-01]\n",
      "[0. 0. 1.] <-> [5.7519313e-02 4.2993783e-05 9.4243771e-01]\n",
      "[1. 0. 0.] <-> [0.97447884 0.02333665 0.00218455]\n",
      "[1. 0. 0.] <-> [0.98267174 0.00295055 0.01437779]\n",
      "[1. 0. 0.] <-> [0.9876737  0.00723447 0.00509181]\n",
      "[1. 0. 0.] <-> [0.8145221  0.00122037 0.18425758]\n",
      "[1. 0. 0.] <-> [0.9360219  0.00143564 0.06254249]\n",
      "[0. 0. 1.] <-> [0.04876504 0.01426371 0.93697125]\n",
      "[1. 0. 0.] <-> [0.9827046  0.014737   0.00255836]\n",
      "[1. 0. 0.] <-> [0.9765178  0.02186644 0.00161571]\n",
      "[1. 0. 0.] <-> [0.9821132  0.00291874 0.01496806]\n",
      "[1. 0. 0.] <-> [0.9786097  0.00286797 0.01852239]\n",
      "{'accuracy': 0.9567901234567902, 'mean_square_error': 0.08844089481813683, 'categorical_crossentropy': 0.15350433632179541, 'precision': 0.9351851851851852, 'recall': 0.9351851851851852, 'f1': 0.9351851851851852, 'essential_metrics': {0: {'tp_hit': 77, 'fp_hit': 4, 'tn_hit': 24, 'fn_hit': 3}, 1: {'tp_hit': 12, 'fp_hit': 0, 'tn_hit': 93, 'fn_hit': 3}, 2: {'tp_hit': 12, 'fp_hit': 3, 'tn_hit': 92, 'fn_hit': 1}}}\n"
     ]
    }
   ],
   "source": [
    "# recall phase\n",
    "score = model.evaluate(x_test, y_test, False)\n",
    "print(score)"
   ]
  },
  {
   "cell_type": "code",
   "execution_count": 12,
   "metadata": {},
   "outputs": [],
   "source": [
    "# Testing Performance"
   ]
  },
  {
   "cell_type": "code",
   "execution_count": 13,
   "metadata": {},
   "outputs": [
    {
     "data": {
      "image/png": "[encoded data removed]",
      "text/plain": [
       "<Figure size 864x360 with 1 Axes>"
      ]
     },
     "metadata": {
      "needs_background": "light"
     },
     "output_type": "display_data"
    },
    {
     "data": {
      "image/png": "[encoded data removed]",
      "text/plain": [
       "<Figure size 864x360 with 1 Axes>"
      ]
     },
     "metadata": {
      "needs_background": "light"
     },
     "output_type": "display_data"
    }
   ],
   "source": [
    "draw_plot(x = [[i for i in range(len(history))], [(i+1)*breakpoint for i in range(len(checkpoints))]], y_list = [history, [ ckp[model.loss_fn] for ckp in checkpoints ]], x_label = 'Epochs', \\\n",
    "    y_label = model.loss_fn, legend=['train', 'test'])\n",
    "acc = [ ckp['accuracy'] for ckp in checkpoints ]\n",
    "draw_plot(x = [[(i+1)*breakpoint for i in range(len(checkpoints))]], y_list = [acc], x_label = 'Checkpoints', \\\n",
    "    y_label = 'accuracy')"
   ]
  },
  {
   "cell_type": "code",
   "execution_count": 14,
   "metadata": {
    "scrolled": false
   },
   "outputs": [
    {
     "name": "stdout",
     "output_type": "stream",
     "text": [
      "{'accuracy': 0.9691358024691358, 'mean_square_error': 0.12944733291706256, 'categorical_crossentropy': 0.2643750685232657, 'precision': 0.9537037037037037, 'recall': 0.9537037037037037, 'f1': 0.9537037037037037, 'essential_metrics': {0: {'tp_hit': 78, 'fp_hit': 3, 'tn_hit': 25, 'fn_hit': 2}, 1: {'tp_hit': 13, 'fp_hit': 0, 'tn_hit': 93, 'fn_hit': 2}, 2: {'tp_hit': 12, 'fp_hit': 2, 'tn_hit': 93, 'fn_hit': 1}}, 'checkpoint': 100} \n",
      "\n",
      "\n",
      "{'accuracy': 0.9567901234567902, 'mean_square_error': 0.11124588036521052, 'categorical_crossentropy': 0.2270096849512171, 'precision': 0.9351851851851852, 'recall': 0.9351851851851852, 'f1': 0.9351851851851852, 'essential_metrics': {0: {'tp_hit': 77, 'fp_hit': 4, 'tn_hit': 24, 'fn_hit': 3}, 1: {'tp_hit': 12, 'fp_hit': 0, 'tn_hit': 93, 'fn_hit': 3}, 2: {'tp_hit': 12, 'fp_hit': 3, 'tn_hit': 92, 'fn_hit': 1}}, 'checkpoint': 200} \n",
      "\n",
      "\n",
      "{'accuracy': 0.9629629629629629, 'mean_square_error': 0.09797255475883225, 'categorical_crossentropy': 0.19192089857878508, 'precision': 0.9444444444444444, 'recall': 0.9444444444444444, 'f1': 0.9444444444444444, 'essential_metrics': {0: {'tp_hit': 77, 'fp_hit': 3, 'tn_hit': 25, 'fn_hit': 3}, 1: {'tp_hit': 13, 'fp_hit': 0, 'tn_hit': 93, 'fn_hit': 2}, 2: {'tp_hit': 12, 'fp_hit': 3, 'tn_hit': 92, 'fn_hit': 1}}, 'checkpoint': 300} \n",
      "\n",
      "\n",
      "{'accuracy': 0.9506172839506173, 'mean_square_error': 0.09743983722313995, 'categorical_crossentropy': 0.17639361487494576, 'precision': 0.9259259259259259, 'recall': 0.9259259259259259, 'f1': 0.9259259259259259, 'essential_metrics': {0: {'tp_hit': 76, 'fp_hit': 4, 'tn_hit': 24, 'fn_hit': 4}, 1: {'tp_hit': 12, 'fp_hit': 0, 'tn_hit': 93, 'fn_hit': 3}, 2: {'tp_hit': 12, 'fp_hit': 4, 'tn_hit': 91, 'fn_hit': 1}}, 'checkpoint': 400} \n",
      "\n",
      "\n",
      "{'accuracy': 0.9567901234567902, 'mean_square_error': 0.08844089481813683, 'categorical_crossentropy': 0.15350433632179541, 'precision': 0.9351851851851852, 'recall': 0.9351851851851852, 'f1': 0.9351851851851852, 'essential_metrics': {0: {'tp_hit': 77, 'fp_hit': 4, 'tn_hit': 24, 'fn_hit': 3}, 1: {'tp_hit': 12, 'fp_hit': 0, 'tn_hit': 93, 'fn_hit': 3}, 2: {'tp_hit': 12, 'fp_hit': 3, 'tn_hit': 92, 'fn_hit': 1}}, 'checkpoint': 500} \n",
      "\n",
      "\n"
     ]
    }
   ],
   "source": [
    "for checkpoint in checkpoints:\n",
    "    print(checkpoint, '\\n\\n')"
   ]
  },
  {
   "cell_type": "code",
   "execution_count": 15,
   "metadata": {},
   "outputs": [
    {
     "name": "stdout",
     "output_type": "stream",
     "text": [
      "Layer 1\n",
      "Neuron 0: weights:\n",
      "[-0.30418545  2.5679312  -0.27610716 -0.7096194  -2.901782  ]\n",
      " bias: 2.1614625453948975\n",
      "\n",
      "Neuron 1: weights:\n",
      "[ 2.2539935 -3.        -2.766709  -0.8557583 -2.2408316]\n",
      " bias: 1.0275774002075195\n",
      "\n",
      "Neuron 2: weights:\n",
      "[ 0.7892846  1.52314    1.5565146 -1.0322129 -2.6957796]\n",
      " bias: -1.3729116916656494\n",
      "\n",
      "Neuron 3: weights:\n",
      "[ 0.42140782 -1.9810193   0.43339562 -0.36044258  2.8628802 ]\n",
      " bias: 0.08973453938961029\n",
      "\n",
      "$\n",
      "Layer 2\n",
      "Neuron 0: weights:\n",
      "[ 2.9135206   3.          0.48421016 -0.2185903 ]\n",
      " bias: -1.9569692611694336\n",
      "\n",
      "Neuron 1: weights:\n",
      "[ 2.4215465 -3.         3.        -3.       ]\n",
      " bias: -0.40451669692993164\n",
      "\n",
      "Neuron 2: weights:\n",
      "[-3.         2.8995833 -1.5103531  3.       ]\n",
      " bias: -2.2199151515960693\n",
      "\n",
      "$\n",
      "\n"
     ]
    }
   ],
   "source": [
    "print(model)"
   ]
  }
 ],
 "metadata": {
  "kernelspec": {
   "display_name": "Python 3",
   "language": "python",
   "name": "python3"
  },
  "language_info": {
   "codemirror_mode": {
    "name": "ipython",
    "version": 3
   },
   "file_extension": ".py",
   "mimetype": "text/x-python",
   "name": "python",
   "nbconvert_exporter": "python",
   "pygments_lexer": "ipython3",
   "version": "3.6.10"
  }
 },
 "nbformat": 4,
 "nbformat_minor": 2
}
