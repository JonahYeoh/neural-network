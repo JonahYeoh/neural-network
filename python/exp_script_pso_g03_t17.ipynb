{
 "cells": [
  {
   "cell_type": "code",
   "execution_count": 1,
   "metadata": {},
   "outputs": [],
   "source": [
    "# dependency\n",
    "import numpy as np\n",
    "import pandas as pd\n",
    "import copy\n",
    "import math\n",
    "import sys\n",
    "import os\n",
    "from activations import relu, leaky_relu, sigmoid, tanh, softmax, d_sigmoid, d_relu\n",
    "from initializers import glorot_uniform, random_normal, random_uniform\n",
    "from regularizers import l1_regularizer, l2_regularizer\n",
    "from utility import trim_tail, multiply, subtract, get_nparams, one_hot_encoding, get_data\n",
    "from metrics import MSE, CCE, ACC, PRECISION, RECALL, essential_metrics, wondering_penalty, close_gap_penalty\n",
    "from pso import PSO\n",
    "from ga import GA\n",
    "from nn import Network\n",
    "from layer import DenseLayer\n",
    "from scalers import MinMaxScaler, StandardScaler"
   ]
  },
  {
   "cell_type": "code",
   "execution_count": 2,
   "metadata": {},
   "outputs": [],
   "source": [
    "# reference\n",
    "metrics_fn_dict = dict()\n",
    "metrics_fn_dict['accuracy'] = ACC\n",
    "metrics_fn_dict['categorical_crossentropy'] = CCE\n",
    "metrics_fn_dict['mean_square_error'] = MSE\n",
    "metrics_fn_dict['precision'] = PRECISION\n",
    "metrics_fn_dict['recall'] = RECALL\n",
    "metrics_fn_dict['essential_metrics'] = essential_metrics"
   ]
  },
  {
   "cell_type": "code",
   "execution_count": 3,
   "metadata": {},
   "outputs": [],
   "source": [
    "# model\n",
    "model = Network(5, lr = None)\n",
    "model.add_layer(DenseLayer(1, 4, True, afn=sigmoid, dafn=None, rfn=None))\n",
    "model.add_layer(DenseLayer(2, 3, True, afn=softmax, dafn=None, rfn=None))"
   ]
  },
  {
   "cell_type": "code",
   "execution_count": 4,
   "metadata": {},
   "outputs": [
    {
     "name": "stdout",
     "output_type": "stream",
     "text": [
      "see one see two 2 2\n"
     ]
    }
   ],
   "source": [
    "pso = PSO(dict(m = 200,\n",
    "    weight_constraint = [-3, 3], \n",
    "    velocity_constraint = [-0.1, 0.1],\n",
    "    c1 = 2,\n",
    "    c2 = 2,\n",
    "    w = 1.2,\n",
    "    w_decay = 1,\n",
    "    scale_hyperparameter = False,\n",
    "    regularizer = None,\n",
    "    mask = True))"
   ]
  },
  {
   "cell_type": "code",
   "execution_count": 5,
   "metadata": {},
   "outputs": [
    {
     "name": "stdout",
     "output_type": "stream",
     "text": [
      "building layer 1 with 5\n",
      "24\n",
      "building layer 2 with 4\n",
      "15\n"
     ]
    }
   ],
   "source": [
    "model.compile(loss_fn = 'categorical_crossentropy', optimizer = pso, \\\n",
    "    metrics = ['accuracy', 'mean_square_error', 'categorical_crossentropy'])"
   ]
  },
  {
   "cell_type": "code",
   "execution_count": 6,
   "metadata": {},
   "outputs": [
    {
     "name": "stdout",
     "output_type": "stream",
     "text": [
      "<class 'pandas.core.frame.DataFrame'>\n",
      "RangeIndex: 107 entries, 0 to 106\n",
      "Data columns (total 6 columns):\n",
      " #   Column  Non-Null Count  Dtype  \n",
      "---  ------  --------------  -----  \n",
      " 0   f1      107 non-null    float32\n",
      " 1   f2      107 non-null    float32\n",
      " 2   f3      107 non-null    float32\n",
      " 3   f4      107 non-null    float32\n",
      " 4   f5      107 non-null    float32\n",
      " 5   label   107 non-null    float32\n",
      "dtypes: float32(6)\n",
      "memory usage: 2.6 KB\n",
      "None\n",
      "<class 'pandas.core.frame.DataFrame'>\n",
      "RangeIndex: 108 entries, 0 to 107\n",
      "Data columns (total 6 columns):\n",
      " #   Column  Non-Null Count  Dtype  \n",
      "---  ------  --------------  -----  \n",
      " 0   f1      108 non-null    float32\n",
      " 1   f2      108 non-null    float32\n",
      " 2   f3      108 non-null    float32\n",
      " 3   f4      108 non-null    float32\n",
      " 4   f5      108 non-null    float32\n",
      " 5   label   108 non-null    float32\n",
      "dtypes: float32(6)\n",
      "memory usage: 2.7 KB\n",
      "None\n"
     ]
    }
   ],
   "source": [
    "# data loading\n",
    "DATA = os.path.join('c:\\\\Users\\\\tcumi\\\\github_repo\\\\neural-network\\\\', 'dataset')\n",
    "GROUP = 3\n",
    "COLUMNS = ['f1', 'f2', 'f3', 'f4', 'f5', 'label']\n",
    "N_CLASS = 3\n",
    "EPOCHS = 500\n",
    "train_dir, test_dir = \"..//dataset//training_data{}.txt\".format(GROUP), \"..//dataset//testing_data{}.txt\".format(GROUP)\n",
    "train, test = get_data(DATA, train_dir, COLUMNS), get_data(DATA, test_dir, COLUMNS)\n",
    "# shuffle\n",
    "train, test = train.sample(frac=1), test.sample(frac=1)\n",
    "x_train, y_train = train.drop('label', axis=1), train['label']\n",
    "x_test, y_test = test.drop('label', axis=1), test['label']"
   ]
  },
  {
   "cell_type": "code",
   "execution_count": 7,
   "metadata": {},
   "outputs": [],
   "source": [
    "# data scaling and encoding\n",
    "scaler = StandardScaler(['f1', 'f2', 'f3', 'f4', 'f5'])\n",
    "scaler.fit(x_train)\n",
    "x_train = scaler.transform(x_train)\n",
    "x_test = scaler.transform(x_test)\n",
    "y_train = one_hot_encoding(y_train, N_CLASS)\n",
    "y_test = one_hot_encoding(y_test, N_CLASS)"
   ]
  },
  {
   "cell_type": "code",
   "execution_count": 8,
   "metadata": {
    "tags": [
     "outputPrepend"
    ]
   },
   "outputs": [
    {
     "name": "stdout",
     "output_type": "stream",
     "text": [
      "Checkpoint 100, Accuracy: 0.9506172839506173, Loss: 0.30157474235252096\n",
      "Checkpoint 200, Accuracy: 0.9444444444444444, Loss: 0.14347782841435186\n",
      "Checkpoint 300, Accuracy: 0.9691358024691358, Loss: 0.10637097888522679\n",
      "Checkpoint 400, Accuracy: 0.9691358024691358, Loss: 0.10829051335652669\n",
      "Checkpoint 500, Accuracy: 0.9691358024691358, Loss: 0.10785504623695656\n"
     ]
    }
   ],
   "source": [
    "# learning phase\n",
    "breakpoint = 100\n",
    "checkpoints = list()\n",
    "history = list()\n",
    "for century in range(0, EPOCHS, breakpoint):\n",
    "    sub_history = model.fit(x_train, y_train, breakpoint, verbose = 0)\n",
    "    score = model.evaluate(x_test, y_test, False, verbose = 0)\n",
    "    print('Checkpoint {}, Accuracy: {}, Loss: {}'.format(century+breakpoint, score['accuracy'], score[model.loss_fn]))\n",
    "    score['checkpoint'] = century + breakpoint\n",
    "    checkpoints.append(score)\n",
    "    history.extend(sub_history)"
   ]
  },
  {
   "cell_type": "code",
   "execution_count": 9,
   "metadata": {},
   "outputs": [],
   "source": [
    "import matplotlib.pyplot as plt\n",
    "\n",
    "def draw_plot(x, y_list, x_label=None, y_label=None, legend=None, title=None):\n",
    "    fig, ax = plt.subplots(figsize=(12,5))\n",
    "    for xi, yi in zip(x, y_list):\n",
    "        ax.plot(xi, yi)\n",
    "    if x_label is not None and y_label is not None:\n",
    "        ax.set(xlabel=x_label, ylabel=y_label, title='{} VS {}'.format(x_label, y_label))\n",
    "    if legend is not None:\n",
    "        ax.legend(legend)\n",
    "    ax.grid()\n",
    "    plt.show()"
   ]
  },
  {
   "cell_type": "code",
   "execution_count": 10,
   "metadata": {},
   "outputs": [
    {
     "name": "stdout",
     "output_type": "stream",
     "text": [
      "[1. 0. 0.] <-> [0.994337   0.00126253 0.0044005 ]\n",
      "[1. 0. 0.] <-> [0.9943652  0.00163379 0.00400105]\n",
      "[0. 1. 0.] <-> [1.2708358e-02 9.8726183e-01 2.9731476e-05]\n",
      "[1. 0. 0.] <-> [0.9958293  0.00267103 0.00149967]\n",
      "[1. 0. 0.] <-> [0.99470913 0.00119325 0.00409754]\n",
      "[1. 0. 0.] <-> [0.99700826 0.00159597 0.00139584]\n",
      "[1. 0. 0.] <-> [0.997378   0.00122155 0.00140047]\n",
      "[1. 0. 0.] <-> [0.99460393 0.00399084 0.00140521]\n",
      "[0. 1. 0.] <-> [5.7458864e-03 9.9423993e-01 1.4246099e-05]\n",
      "[1. 0. 0.] <-> [0.9969009  0.00125546 0.00184369]\n",
      "[1. 0. 0.] <-> [0.99297994 0.00119756 0.00582249]\n",
      "[0. 0. 1.] <-> [6.6511817e-03 1.9147647e-05 9.9332958e-01]\n",
      "[0. 1. 0.] <-> [5.7456549e-03 9.9424016e-01 1.4250505e-05]\n",
      "[0. 1. 0.] <-> [1.5179196e-01 8.4791869e-01 2.8943515e-04]\n",
      "[0. 1. 0.] <-> [6.575470e-03 9.934082e-01 1.640028e-05]\n",
      "[0. 1. 0.] <-> [1.4223378e-02 9.8574394e-01 3.2705764e-05]\n",
      "[1. 0. 0.] <-> [3.4999788e-01 6.4938271e-01 6.1934721e-04]\n",
      "[0. 1. 0.] <-> [5.7460335e-03 9.9423981e-01 1.4243720e-05]\n",
      "[1. 0. 0.] <-> [0.99743795 0.00110151 0.0014605 ]\n",
      "[1. 0. 0.] <-> [0.99608994 0.0025039  0.00140612]\n",
      "[1. 0. 0.] <-> [0.99519485 0.00125682 0.00354833]\n",
      "[1. 0. 0.] <-> [0.98052776 0.00818125 0.01129106]\n",
      "[1. 0. 0.] <-> [0.9636374  0.00156952 0.03479308]\n",
      "[1. 0. 0.] <-> [0.99710494 0.00162458 0.00127045]\n",
      "[0. 1. 0.] <-> [5.7659969e-03 9.9421966e-01 1.4323800e-05]\n",
      "[1. 0. 0.] <-> [0.99542505 0.00176699 0.00280791]\n",
      "[1. 0. 0.] <-> [0.99400085 0.00119643 0.0048027 ]\n",
      "[1. 0. 0.] <-> [0.9882841  0.00270299 0.00901293]\n",
      "[0. 0. 1.] <-> [8.7028043e-03 2.4963454e-05 9.9127227e-01]\n",
      "[1. 0. 0.] <-> [0.99659604 0.00124904 0.00215494]\n",
      "[0. 0. 1.] <-> [6.3224528e-03 1.8203955e-05 9.9365932e-01]\n",
      "[0. 1. 0.] <-> [5.7459166e-03 9.9423993e-01 1.4275380e-05]\n",
      "[1. 0. 0.] <-> [0.8455768 0.0013878 0.1530354]\n",
      "[1. 0. 0.] <-> [0.99754685 0.00114733 0.00130583]\n",
      "[1. 0. 0.] <-> [0.99605346 0.00163706 0.00230942]\n",
      "[1. 0. 0.] <-> [0.99712604 0.00120499 0.00166899]\n",
      "[1. 0. 0.] <-> [0.9957741  0.00130565 0.00292028]\n",
      "[1. 0. 0.] <-> [0.9966524  0.00170738 0.00164019]\n",
      "[1. 0. 0.] <-> [1.0278005e-01 2.3255165e-04 8.9698738e-01]\n",
      "[1. 0. 0.] <-> [0.99512213 0.00371663 0.00116124]\n",
      "[1. 0. 0.] <-> [0.99633884 0.00140118 0.00226006]\n",
      "[1. 0. 0.] <-> [0.992762   0.00307708 0.00416088]\n",
      "[1. 0. 0.] <-> [0.9971443  0.00126439 0.00159134]\n",
      "[1. 0. 0.] <-> [0.81545055 0.00140174 0.18314771]\n",
      "[1. 0. 0.] <-> [0.7122708  0.28641543 0.00131377]\n",
      "[1. 0. 0.] <-> [0.9965347  0.00235657 0.00110868]\n",
      "[1. 0. 0.] <-> [0.9880624  0.00127172 0.01066584]\n",
      "[1. 0. 0.] <-> [0.9967179  0.00212848 0.00115365]\n",
      "[1. 0. 0.] <-> [0.9945163  0.00430558 0.00117809]\n",
      "[1. 0. 0.] <-> [0.9936307  0.00127374 0.00509563]\n",
      "[1. 0. 0.] <-> [0.99616027 0.00276775 0.00107203]\n",
      "[1. 0. 0.] <-> [0.5366523  0.46228933 0.00105831]\n",
      "[0. 0. 1.] <-> [1.0005723e-02 2.8272314e-05 9.8996603e-01]\n",
      "[1. 0. 0.] <-> [0.997022   0.00129777 0.00168025]\n",
      "[1. 0. 0.] <-> [0.9615843  0.03707873 0.00133692]\n",
      "[1. 0. 0.] <-> [8.5706241e-02 9.1411537e-01 1.7839535e-04]\n",
      "[0. 0. 1.] <-> [0.5648271  0.00101513 0.43415782]\n",
      "[0. 1. 0.] <-> [4.2102627e-02 9.5780778e-01 8.9607085e-05]\n",
      "[1. 0. 0.] <-> [0.9967175  0.00152653 0.00175584]\n",
      "[1. 0. 0.] <-> [0.99656975 0.00136742 0.0020629 ]\n",
      "[1. 0. 0.] <-> [0.9973066  0.00162794 0.00106551]\n",
      "[1. 0. 0.] <-> [0.98682564 0.01022081 0.00295353]\n",
      "[1. 0. 0.] <-> [0.99733657 0.00148976 0.00117367]\n",
      "[1. 0. 0.] <-> [0.9955474  0.00253276 0.00191987]\n",
      "[1. 0. 0.] <-> [0.9893337  0.00942582 0.00124047]\n",
      "[0. 0. 1.] <-> [7.9521565e-03 2.2702339e-05 9.9202514e-01]\n",
      "[1. 0. 0.] <-> [0.997077   0.00175243 0.00117051]\n",
      "[1. 0. 0.] <-> [0.9817592  0.01689138 0.00134945]\n",
      "[1. 0. 0.] <-> [0.99043006 0.00811375 0.00145616]\n",
      "[0. 1. 0.] <-> [5.76960575e-03 9.94215906e-01 1.44197975e-05]\n",
      "[1. 0. 0.] <-> [0.99705267 0.00119322 0.00175416]\n",
      "[1. 0. 0.] <-> [0.9967758  0.00196101 0.00126321]\n",
      "[1. 0. 0.] <-> [0.9971794  0.00168583 0.0011348 ]\n",
      "[1. 0. 0.] <-> [0.99201983 0.0014482  0.00653195]\n",
      "[1. 0. 0.] <-> [0.9962817  0.00256289 0.00115553]\n",
      "[0. 0. 1.] <-> [1.0700859e-02 3.0568404e-05 9.8926860e-01]\n",
      "[0. 1. 0.] <-> [5.7460656e-03 9.9423969e-01 1.4243284e-05]\n",
      "[1. 0. 0.] <-> [0.9154669  0.08327035 0.00126276]\n",
      "[1. 0. 0.] <-> [0.9968804  0.00180347 0.00131615]\n",
      "[1. 0. 0.] <-> [0.9748424  0.02382813 0.0013295 ]\n",
      "[0. 0. 1.] <-> [6.3233334e-03 1.8209827e-05 9.9365848e-01]\n",
      "[0. 0. 1.] <-> [6.4881118e-03 1.8674751e-05 9.9349326e-01]\n",
      "[0. 1. 0.] <-> [5.7460684e-03 9.9423969e-01 1.4243243e-05]\n",
      "[1. 0. 0.] <-> [0.99756753 0.00129487 0.00113762]\n",
      "[1. 0. 0.] <-> [0.98994434 0.00126781 0.0087879 ]\n",
      "[1. 0. 0.] <-> [0.98402405 0.0012703  0.01470563]\n",
      "[1. 0. 0.] <-> [0.9908223  0.00731069 0.00186693]\n",
      "[0. 0. 1.] <-> [3.4991145e-02 8.6498112e-05 9.6492231e-01]\n",
      "[1. 0. 0.] <-> [0.530804   0.00114348 0.4680526 ]\n",
      "[0. 0. 1.] <-> [6.3248556e-03 1.8210805e-05 9.9365693e-01]\n",
      "[1. 0. 0.] <-> [0.54389334 0.45508155 0.00102511]\n",
      "[0. 0. 1.] <-> [9.9523133e-03 2.7955533e-05 9.9001968e-01]\n",
      "[1. 0. 0.] <-> [0.977011   0.0014327  0.02155628]\n",
      "[1. 0. 0.] <-> [0.95068824 0.00140122 0.04791056]\n",
      "[1. 0. 0.] <-> [0.99724764 0.00115125 0.0016011 ]\n",
      "[1. 0. 0.] <-> [0.9963039  0.00256213 0.00113395]\n",
      "[0. 1. 0.] <-> [1.7629208e-02 9.8232931e-01 4.1471172e-05]\n",
      "[1. 0. 0.] <-> [0.99725395 0.00134168 0.00140439]\n",
      "[1. 0. 0.] <-> [0.996933   0.00151066 0.00155638]\n",
      "[0. 0. 1.] <-> [5.2579384e-02 1.2394601e-04 9.4729674e-01]\n",
      "[1. 0. 0.] <-> [0.96451634 0.00169492 0.03378874]\n",
      "[0. 0. 1.] <-> [0.5408913  0.00103022 0.45807847]\n",
      "[1. 0. 0.] <-> [0.99642193 0.00243214 0.00114589]\n",
      "[0. 1. 0.] <-> [1.4943779e-02 9.8502141e-01 3.4796820e-05]\n",
      "[1. 0. 0.] <-> [0.99602216 0.00238856 0.00158922]\n",
      "[1. 0. 0.] <-> [0.8000986  0.19865184 0.00124955]\n",
      "[1. 0. 0.] <-> [0.99623835 0.00210553 0.00165611]\n",
      "[0. 1. 0.] <-> [2.8071767e-01 7.1876115e-01 5.2124163e-04]\n",
      "{'accuracy': 0.9691358024691358, 'mean_square_error': 0.06708634924589083, 'categorical_crossentropy': 0.10785504623695656, 'essential_metrics': {0: {'tp_hit': 75, 'fp_hit': 2, 'tn_hit': 28, 'fn_hit': 3}, 1: {'tp_hit': 16, 'fp_hit': 2, 'tn_hit': 90, 'fn_hit': 0}, 2: {'tp_hit': 12, 'fp_hit': 1, 'tn_hit': 93, 'fn_hit': 2}}}\n"
     ]
    }
   ],
   "source": [
    "# recall phase\n",
    "score = model.evaluate(x_test, y_test, False)\n",
    "print(score)"
   ]
  },
  {
   "cell_type": "code",
   "execution_count": 11,
   "metadata": {},
   "outputs": [
    {
     "data": {
      "image/png": "[encoded data removed]",
      "text/plain": [
       "<Figure size 864x360 with 1 Axes>"
      ]
     },
     "metadata": {
      "needs_background": "light"
     },
     "output_type": "display_data"
    },
    {
     "data": {
      "image/png": "[encoded data removed]",
      "text/plain": [
       "<Figure size 864x360 with 1 Axes>"
      ]
     },
     "metadata": {
      "needs_background": "light"
     },
     "output_type": "display_data"
    }
   ],
   "source": [
    "draw_plot(x = [[i for i in range(len(history))], [(i+1)*breakpoint for i in range(len(checkpoints))]], y_list = [history, [ ckp[model.loss_fn] for ckp in checkpoints ]], x_label = 'Epochs', \\\n",
    "    y_label = model.loss_fn, legend=['train', 'test'])\n",
    "acc = [ ckp['accuracy'] for ckp in checkpoints ]\n",
    "draw_plot(x = [[(i+1)*breakpoint for i in range(len(checkpoints))]], y_list = [acc], x_label = 'Checkpoints', \\\n",
    "    y_label = 'accuracy')"
   ]
  },
  {
   "cell_type": "code",
   "execution_count": 12,
   "metadata": {},
   "outputs": [
    {
     "name": "stdout",
     "output_type": "stream",
     "text": [
      "{'accuracy': 0.9506172839506173, 'mean_square_error': 0.16459554318031178, 'categorical_crossentropy': 0.30157474235252096, 'essential_metrics': {0: {'tp_hit': 77, 'fp_hit': 7, 'tn_hit': 23, 'fn_hit': 1}, 1: {'tp_hit': 16, 'fp_hit': 1, 'tn_hit': 91, 'fn_hit': 0}, 2: {'tp_hit': 7, 'fp_hit': 0, 'tn_hit': 94, 'fn_hit': 7}}, 'checkpoint': 100} \n",
      "\n",
      "\n",
      "{'accuracy': 0.9444444444444444, 'mean_square_error': 0.0933460768499323, 'categorical_crossentropy': 0.14347782841435186, 'essential_metrics': {0: {'tp_hit': 72, 'fp_hit': 3, 'tn_hit': 27, 'fn_hit': 6}, 1: {'tp_hit': 15, 'fp_hit': 4, 'tn_hit': 88, 'fn_hit': 1}, 2: {'tp_hit': 12, 'fp_hit': 2, 'tn_hit': 92, 'fn_hit': 2}}, 'checkpoint': 200} \n",
      "\n",
      "\n",
      "{'accuracy': 0.9691358024691358, 'mean_square_error': 0.06653990987753211, 'categorical_crossentropy': 0.10637097888522679, 'essential_metrics': {0: {'tp_hit': 75, 'fp_hit': 2, 'tn_hit': 28, 'fn_hit': 3}, 1: {'tp_hit': 16, 'fp_hit': 2, 'tn_hit': 90, 'fn_hit': 0}, 2: {'tp_hit': 12, 'fp_hit': 1, 'tn_hit': 93, 'fn_hit': 2}}, 'checkpoint': 300} \n",
      "\n",
      "\n",
      "{'accuracy': 0.9691358024691358, 'mean_square_error': 0.06780327584343611, 'categorical_crossentropy': 0.10829051335652669, 'essential_metrics': {0: {'tp_hit': 75, 'fp_hit': 2, 'tn_hit': 28, 'fn_hit': 3}, 1: {'tp_hit': 16, 'fp_hit': 2, 'tn_hit': 90, 'fn_hit': 0}, 2: {'tp_hit': 12, 'fp_hit': 1, 'tn_hit': 93, 'fn_hit': 2}}, 'checkpoint': 400} \n",
      "\n",
      "\n",
      "{'accuracy': 0.9691358024691358, 'mean_square_error': 0.06708634924589083, 'categorical_crossentropy': 0.10785504623695656, 'essential_metrics': {0: {'tp_hit': 75, 'fp_hit': 2, 'tn_hit': 28, 'fn_hit': 3}, 1: {'tp_hit': 16, 'fp_hit': 2, 'tn_hit': 90, 'fn_hit': 0}, 2: {'tp_hit': 12, 'fp_hit': 1, 'tn_hit': 93, 'fn_hit': 2}}, 'checkpoint': 500} \n",
      "\n",
      "\n"
     ]
    }
   ],
   "source": [
    "for checkpoint in checkpoints:\n",
    "    print(checkpoint, '\\n\\n')"
   ]
  },
  {
   "cell_type": "code",
   "execution_count": 13,
   "metadata": {},
   "outputs": [
    {
     "name": "stdout",
     "output_type": "stream",
     "text": [
      "Layer 1\n",
      "Neuron 0: weights:\n",
      "[ 2.030996   -3.         -3.          0.51509774  1.5215573 ]\n",
      " bias: 3.0\n",
      "\n",
      "Neuron 1: weights:\n",
      "[ 0.07667511 -3.         -0.2933418   0.53936386  3.        ]\n",
      " bias: -2.617105484008789\n",
      "\n",
      "Neuron 2: weights:\n",
      "[-2.1616218  3.         3.        -1.7481476 -0.6600071]\n",
      " bias: -3.0\n",
      "\n",
      "Neuron 3: weights:\n",
      "[-0.22807701 -3.          0.09248079  3.          3.        ]\n",
      " bias: -1.9772558212280273\n",
      "\n",
      "$\n",
      "Layer 2\n",
      "Neuron 0: weights:\n",
      "[ 3. -3. -3. -3.]\n",
      " bias: 3.0\n",
      "\n",
      "Neuron 1: weights:\n",
      "[-3.        -3.         3.        -2.0036888]\n",
      " bias: 2.15346097946167\n",
      "\n",
      "Neuron 2: weights:\n",
      "[ 2.0572877  3.        -3.         3.       ]\n",
      " bias: -3.0\n",
      "\n",
      "$\n",
      "\n"
     ]
    }
   ],
   "source": [
    "print(model)"
   ]
  }
 ],
 "metadata": {
  "kernelspec": {
   "display_name": "Python 3",
   "language": "python",
   "name": "python3"
  },
  "language_info": {
   "codemirror_mode": {
    "name": "ipython",
    "version": 3
   },
   "file_extension": ".py",
   "mimetype": "text/x-python",
   "name": "python",
   "nbconvert_exporter": "python",
   "pygments_lexer": "ipython3",
   "version": "3.6.10"
  }
 },
 "nbformat": 4,
 "nbformat_minor": 2
}
