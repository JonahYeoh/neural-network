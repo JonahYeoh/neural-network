{
 "cells": [
  {
   "cell_type": "code",
   "execution_count": 1,
   "metadata": {},
   "outputs": [],
   "source": [
    "# dependency\n",
    "import numpy as np\n",
    "import pandas as pd\n",
    "import copy\n",
    "import math\n",
    "import sys\n",
    "import os\n",
    "from activations import relu, leaky_relu, sigmoid, tanh, softmax, d_sigmoid, d_relu\n",
    "from initializers import glorot_uniform, random_normal, random_uniform\n",
    "from regularizers import l1_regularizer, l2_regularizer\n",
    "from utility import trim_tail, multiply, subtract, get_nparams, one_hot_encoding, get_data\n",
    "from metrics import MSE, CCE, ACC, PRECISION, RECALL, essential_metrics, wondering_penalty, close_gap_penalty\n",
    "from pso import PSO\n",
    "from ga import GA\n",
    "from nn import Network\n",
    "from layer import DenseLayer\n",
    "from scalers import MinMaxScaler, StandardScaler"
   ]
  },
  {
   "cell_type": "code",
   "execution_count": 2,
   "metadata": {},
   "outputs": [],
   "source": [
    "# reference\n",
    "metrics_fn_dict = dict()\n",
    "metrics_fn_dict['accuracy'] = ACC\n",
    "metrics_fn_dict['categorical_crossentropy'] = CCE\n",
    "metrics_fn_dict['mean_square_error'] = MSE\n",
    "metrics_fn_dict['precision'] = PRECISION\n",
    "metrics_fn_dict['recall'] = RECALL\n",
    "metrics_fn_dict['essential_metrics'] = essential_metrics"
   ]
  },
  {
   "cell_type": "code",
   "execution_count": 3,
   "metadata": {},
   "outputs": [],
   "source": [
    "# model\n",
    "model = Network(5, lr = None)\n",
    "model.add_layer(DenseLayer(1, 4, True, afn=sigmoid, dafn=None, rfn=None))\n",
    "model.add_layer(DenseLayer(2, 3, True, afn=softmax, dafn=None, rfn=None))"
   ]
  },
  {
   "cell_type": "code",
   "execution_count": 4,
   "metadata": {},
   "outputs": [
    {
     "name": "stdout",
     "output_type": "stream",
     "text": [
      "see one see two 2.0 0.5\n"
     ]
    }
   ],
   "source": [
    "pso = PSO(dict(m = 50,\n",
    "    weight_constraint = [-3, 3], \n",
    "    velocity_constraint = [-0.1, 0.1],\n",
    "    c1 = [0.5, 2.0],\n",
    "    c2 = [0.5, 2.0],\n",
    "    w = [0.5, 1.6],\n",
    "    w_decay = 0.95,\n",
    "    scale_hyperparameter = False,\n",
    "    regularizer = None,\n",
    "    mask = True))"
   ]
  },
  {
   "cell_type": "code",
   "execution_count": 5,
   "metadata": {},
   "outputs": [
    {
     "name": "stdout",
     "output_type": "stream",
     "text": [
      "building layer 1 with 5\n",
      "24\n",
      "building layer 2 with 4\n",
      "15\n"
     ]
    }
   ],
   "source": [
    "model.compile(loss_fn = 'categorical_crossentropy', optimizer = pso, \\\n",
    "    metrics = ['accuracy', 'mean_square_error', 'categorical_crossentropy'])"
   ]
  },
  {
   "cell_type": "code",
   "execution_count": 6,
   "metadata": {},
   "outputs": [
    {
     "name": "stdout",
     "output_type": "stream",
     "text": [
      "<class 'pandas.core.frame.DataFrame'>\n",
      "RangeIndex: 107 entries, 0 to 106\n",
      "Data columns (total 6 columns):\n",
      " #   Column  Non-Null Count  Dtype  \n",
      "---  ------  --------------  -----  \n",
      " 0   f1      107 non-null    float32\n",
      " 1   f2      107 non-null    float32\n",
      " 2   f3      107 non-null    float32\n",
      " 3   f4      107 non-null    float32\n",
      " 4   f5      107 non-null    float32\n",
      " 5   label   107 non-null    float32\n",
      "dtypes: float32(6)\n",
      "memory usage: 2.6 KB\n",
      "None\n",
      "<class 'pandas.core.frame.DataFrame'>\n",
      "RangeIndex: 108 entries, 0 to 107\n",
      "Data columns (total 6 columns):\n",
      " #   Column  Non-Null Count  Dtype  \n",
      "---  ------  --------------  -----  \n",
      " 0   f1      108 non-null    float32\n",
      " 1   f2      108 non-null    float32\n",
      " 2   f3      108 non-null    float32\n",
      " 3   f4      108 non-null    float32\n",
      " 4   f5      108 non-null    float32\n",
      " 5   label   108 non-null    float32\n",
      "dtypes: float32(6)\n",
      "memory usage: 2.7 KB\n",
      "None\n"
     ]
    }
   ],
   "source": [
    "# data loading\n",
    "DATA = os.path.join('c:\\\\Users\\\\AI-lab\\\\github_repo\\\\neural-network\\\\', 'dataset')\n",
    "GROUP = 4\n",
    "COLUMNS = ['f1', 'f2', 'f3', 'f4', 'f5', 'label']\n",
    "N_CLASS = 3\n",
    "EPOCHS = 200\n",
    "train_dir, test_dir = \"..//dataset//training_data{}.txt\".format(GROUP), \"..//dataset//testing_data{}.txt\".format(GROUP)\n",
    "train, test = get_data(DATA, train_dir, COLUMNS), get_data(DATA, test_dir, COLUMNS)\n",
    "# shuffle\n",
    "train, test = train.sample(frac=1), test.sample(frac=1)\n",
    "x_train, y_train = train.drop('label', axis=1), train['label']\n",
    "x_test, y_test = test.drop('label', axis=1), test['label']"
   ]
  },
  {
   "cell_type": "code",
   "execution_count": 7,
   "metadata": {},
   "outputs": [],
   "source": [
    "# data scaling and encoding\n",
    "scaler = StandardScaler(['f1', 'f2', 'f3', 'f4', 'f5'])\n",
    "scaler.fit(x_train)\n",
    "x_train = scaler.transform(x_train)\n",
    "x_test = scaler.transform(x_test)\n",
    "y_train = one_hot_encoding(y_train, N_CLASS)\n",
    "y_test = one_hot_encoding(y_test, N_CLASS)"
   ]
  },
  {
   "cell_type": "code",
   "execution_count": 8,
   "metadata": {
    "tags": [
     "outputPrepend"
    ]
   },
   "outputs": [
    {
     "name": "stdout",
     "output_type": "stream",
     "text": [
      "Checkpoint 10, Accuracy: 0.8888888888888888, Loss: 0.6845644491690176\n",
      "Checkpoint 20, Accuracy: 0.8765432098765432, Loss: 0.629113373933015\n",
      "Checkpoint 30, Accuracy: 0.8703703703703703, Loss: 0.6243889420120804\n",
      "Checkpoint 40, Accuracy: 0.8703703703703703, Loss: 0.6258531499792028\n",
      "Checkpoint 50, Accuracy: 0.8641975308641975, Loss: 0.6277359856499566\n",
      "Checkpoint 60, Accuracy: 0.8888888888888888, Loss: 0.5704198766637731\n",
      "Checkpoint 70, Accuracy: 0.8580246913580247, Loss: 0.48705298812301073\n",
      "Checkpoint 80, Accuracy: 0.9074074074074074, Loss: 0.4427475399441189\n",
      "Checkpoint 90, Accuracy: 0.9259259259259259, Loss: 0.3605002650508174\n",
      "Checkpoint 100, Accuracy: 0.9074074074074074, Loss: 0.2911950217352973\n",
      "Checkpoint 110, Accuracy: 0.9074074074074074, Loss: 0.2523175698739511\n",
      "Checkpoint 120, Accuracy: 0.9506172839506173, Loss: 0.2167509573477286\n",
      "Checkpoint 130, Accuracy: 0.9629629629629629, Loss: 0.20696134920473452\n",
      "Checkpoint 140, Accuracy: 0.9567901234567902, Loss: 0.17413181728786892\n",
      "Checkpoint 150, Accuracy: 0.9629629629629629, Loss: 0.15818380426477502\n",
      "Checkpoint 160, Accuracy: 0.9629629629629629, Loss: 0.1620311737060547\n",
      "Checkpoint 170, Accuracy: 0.9814814814814815, Loss: 0.15122305905377423\n",
      "Checkpoint 180, Accuracy: 0.9506172839506173, Loss: 0.16456501572220414\n",
      "Checkpoint 190, Accuracy: 0.9629629629629629, Loss: 0.15972734380651404\n",
      "Checkpoint 200, Accuracy: 0.9444444444444444, Loss: 0.16448036829630533\n"
     ]
    }
   ],
   "source": [
    "# learning phase\n",
    "breakpoint = 10\n",
    "checkpoints = list()\n",
    "history = list()\n",
    "for century in range(0, EPOCHS, breakpoint):\n",
    "    sub_history = model.fit(x_train, y_train, breakpoint, verbose = 0)\n",
    "    score = model.evaluate(x_test, y_test, False, verbose = 0)\n",
    "    print('Checkpoint {}, Accuracy: {}, Loss: {}'.format(century+breakpoint, score['accuracy'], score[model.loss_fn]))\n",
    "    score['checkpoint'] = century + breakpoint\n",
    "    checkpoints.append(score)\n",
    "    history.extend(sub_history)\n",
    "    itr = century + breakpoint\n",
    "    model.optimizer.c2 = np.max([model.optimizer.C2[1] - ((model.optimizer.C2[1] - model.optimizer.C2[0]) * itr / EPOCHS), model.optimizer.C2[0]])\n",
    "    model.optimizer.c1 = np.min([model.optimizer.C1[0] + ((model.optimizer.C1[1] - model.optimizer.C1[0]) * itr / EPOCHS), model.optimizer.C1[1]])\n",
    "    model.optimizer.w = np.max([model.optimizer.w * model.optimizer.W_Decay, model.optimizer.W[0]])"
   ]
  },
  {
   "cell_type": "code",
   "execution_count": 9,
   "metadata": {},
   "outputs": [],
   "source": [
    "import matplotlib.pyplot as plt\n",
    "\n",
    "def draw_plot(x, y_list, x_label=None, y_label=None, legend=None, title=None):\n",
    "    fig, ax = plt.subplots(figsize=(12,5))\n",
    "    for xi, yi in zip(x, y_list):\n",
    "        ax.plot(xi, yi)\n",
    "    if x_label is not None and y_label is not None:\n",
    "        ax.set(xlabel=x_label, ylabel=y_label, title='{} VS {}'.format(x_label, y_label))\n",
    "    if legend is not None:\n",
    "        ax.legend(legend)\n",
    "    ax.grid()\n",
    "    plt.show()"
   ]
  },
  {
   "cell_type": "code",
   "execution_count": 10,
   "metadata": {},
   "outputs": [],
   "source": [
    "train_acc = [h['accuracy'] for h in history]\n",
    "train_mse = [h['mean_square_error'] for h in history]\n",
    "train_cce = [h['categorical_crossentropy'] for h in history]"
   ]
  },
  {
   "cell_type": "code",
   "execution_count": 11,
   "metadata": {},
   "outputs": [
    {
     "data": {
      "image/png": "[encoded data removed]",
      "text/plain": [
       "<Figure size 864x360 with 1 Axes>"
      ]
     },
     "metadata": {
      "needs_background": "light"
     },
     "output_type": "display_data"
    },
    {
     "data": {
      "image/png": "[encoded data removed]",
      "text/plain": [
       "<Figure size 864x360 with 1 Axes>"
      ]
     },
     "metadata": {
      "needs_background": "light"
     },
     "output_type": "display_data"
    }
   ],
   "source": [
    "draw_plot(x = [[i for i in range(len(history))], [(i+1)*breakpoint for i in range(len(checkpoints))]], y_list = [train_cce, [ ckp[model.loss_fn] for ckp in checkpoints ]], x_label = 'Epochs', \\\n",
    "    y_label = model.loss_fn, legend=['train', 'test'])\n",
    "acc = [ ckp['accuracy'] for ckp in checkpoints ]\n",
    "draw_plot(x = [[i for i in range(len(history))], [(i+1)*breakpoint for i in range(len(checkpoints))]], y_list = [train_acc, acc], x_label = 'Checkpoints', \\\n",
    "    y_label = 'accuracy', legend=['train', 'test'])"
   ]
  },
  {
   "cell_type": "code",
   "execution_count": 12,
   "metadata": {},
   "outputs": [
    {
     "name": "stdout",
     "output_type": "stream",
     "text": [
      "[1. 0. 0.] <-> [9.8591459e-01 6.5069087e-04 1.3434721e-02]\n",
      "[1. 0. 0.] <-> [0.98825663 0.00128641 0.01045697]\n",
      "[0. 0. 1.] <-> [9.641099e-02 3.546153e-04 9.032344e-01]\n",
      "[1. 0. 0.] <-> [9.8919535e-01 3.5810139e-04 1.0446490e-02]\n",
      "[1. 0. 0.] <-> [9.8316944e-01 2.9785535e-04 1.6532710e-02]\n",
      "[0. 1. 0.] <-> [0.00918907 0.9897871  0.00102386]\n",
      "[1. 0. 0.] <-> [0.92616963 0.0606211  0.01320929]\n",
      "[0. 0. 1.] <-> [8.6710282e-02 1.9593055e-04 9.1309375e-01]\n",
      "[1. 0. 0.] <-> [0.9894531  0.00372355 0.00682338]\n",
      "[1. 0. 0.] <-> [9.7394717e-01 3.1293390e-04 2.5739960e-02]\n",
      "[1. 0. 0.] <-> [0.9492928  0.00205704 0.04865021]\n",
      "[0. 1. 0.] <-> [0.00923241 0.9897405  0.00102705]\n",
      "[1. 0. 0.] <-> [9.898717e-01 2.962629e-04 9.832007e-03]\n",
      "[1. 0. 0.] <-> [0.96208715 0.00133629 0.03657664]\n",
      "[1. 0. 0.] <-> [0.9888813  0.0035622  0.00755642]\n",
      "[0. 1. 0.] <-> [0.00918891 0.9897872  0.00102386]\n",
      "[0. 1. 0.] <-> [0.12106831 0.87535495 0.00357674]\n",
      "[1. 0. 0.] <-> [9.8631859e-01 5.0178455e-04 1.3179634e-02]\n",
      "[1. 0. 0.] <-> [0.9870936  0.00313125 0.00977518]\n",
      "[1. 0. 0.] <-> [7.3817253e-01 1.2608647e-04 2.6170135e-01]\n",
      "[1. 0. 0.] <-> [0.65164816 0.34019494 0.00815692]\n",
      "[1. 0. 0.] <-> [0.36615437 0.621313   0.01253269]\n",
      "[1. 0. 0.] <-> [9.1434979e-01 4.3964817e-04 8.5210480e-02]\n",
      "[0. 1. 0.] <-> [0.21755362 0.7772601  0.00518629]\n",
      "[1. 0. 0.] <-> [0.9913065  0.00144787 0.0072457 ]\n",
      "[0. 0. 1.] <-> [1.7337970e-01 2.4029685e-05 8.2659626e-01]\n",
      "[0. 1. 0.] <-> [0.0323024  0.9656257  0.00207189]\n",
      "[1. 0. 0.] <-> [0.98598355 0.00667204 0.00734435]\n",
      "[1. 0. 0.] <-> [0.9915433  0.00136131 0.00709532]\n",
      "[1. 0. 0.] <-> [0.992736   0.0010536  0.00621039]\n",
      "[0. 1. 0.] <-> [0.5834156  0.40951207 0.00707232]\n",
      "[1. 0. 0.] <-> [0.9880953  0.00312887 0.0087758 ]\n",
      "[1. 0. 0.] <-> [9.6887422e-01 1.8775738e-04 3.0937944e-02]\n",
      "[0. 1. 0.] <-> [0.00958316 0.9893679  0.00104894]\n",
      "[0. 0. 1.] <-> [1.6926289e-01 2.3352293e-05 8.3071375e-01]\n",
      "[1. 0. 0.] <-> [9.6974665e-01 2.8296490e-04 2.9970367e-02]\n",
      "[1. 0. 0.] <-> [9.922070e-01 5.763812e-04 7.216652e-03]\n",
      "[1. 0. 0.] <-> [9.8338336e-01 4.2235153e-04 1.6194273e-02]\n",
      "[1. 0. 0.] <-> [0.36139122 0.63075227 0.00785657]\n",
      "[1. 0. 0.] <-> [9.8690444e-01 3.2653852e-04 1.2768897e-02]\n",
      "[1. 0. 0.] <-> [0.9920664  0.00250413 0.00542949]\n",
      "[1. 0. 0.] <-> [0.9938285  0.00343588 0.00273564]\n",
      "[0. 0. 1.] <-> [0.0018258  0.0056947  0.99247944]\n",
      "[1. 0. 0.] <-> [0.99353266 0.00140713 0.00506012]\n",
      "[1. 0. 0.] <-> [0.88123065 0.07618447 0.04258494]\n",
      "[1. 0. 0.] <-> [9.9198300e-01 6.4791105e-04 7.3690568e-03]\n",
      "[1. 0. 0.] <-> [9.8858356e-01 9.3644921e-04 1.0479966e-02]\n",
      "[0. 1. 0.] <-> [0.01594753 0.98269856 0.00135385]\n",
      "[1. 0. 0.] <-> [0.96397513 0.00133126 0.03469362]\n",
      "[1. 0. 0.] <-> [0.79852945 0.19263144 0.0088391 ]\n",
      "[1. 0. 0.] <-> [0.3330505  0.6607363  0.00621321]\n",
      "[1. 0. 0.] <-> [9.8360783e-01 3.6015781e-04 1.6031962e-02]\n",
      "[1. 0. 0.] <-> [0.9570139  0.03654676 0.00643934]\n",
      "[1. 0. 0.] <-> [9.911671e-01 5.083631e-04 8.324543e-03]\n",
      "[1. 0. 0.] <-> [0.93027514 0.06363054 0.00609436]\n",
      "[1. 0. 0.] <-> [0.99274045 0.00421471 0.00304492]\n",
      "[0. 1. 0.] <-> [0.06852756 0.9286208  0.00285162]\n",
      "[1. 0. 0.] <-> [0.8850672  0.10724819 0.00768457]\n",
      "[1. 0. 0.] <-> [0.9942983  0.00154476 0.00415697]\n",
      "[1. 0. 0.] <-> [9.5588601e-01 1.9543096e-04 4.3918535e-02]\n",
      "[1. 0. 0.] <-> [9.5974928e-01 1.6931753e-04 4.0081378e-02]\n",
      "[1. 0. 0.] <-> [9.8727268e-01 1.9966214e-04 1.2527726e-02]\n",
      "[1. 0. 0.] <-> [0.97326773 0.01553352 0.01119867]\n",
      "[0. 1. 0.] <-> [0.00941307 0.9895499  0.00103713]\n",
      "[1. 0. 0.] <-> [0.59936535 0.39282763 0.00780694]\n",
      "[0. 1. 0.] <-> [0.00918891 0.9897872  0.00102386]\n",
      "[1. 0. 0.] <-> [0.68771195 0.00222659 0.31006145]\n",
      "[1. 0. 0.] <-> [0.98800886 0.00735546 0.00463565]\n",
      "[1. 0. 0.] <-> [0.9905968  0.00445098 0.0049523 ]\n",
      "[0. 0. 1.] <-> [5.6343091e-01 1.5323321e-04 4.3641591e-01]\n",
      "[1. 0. 0.] <-> [9.5320183e-01 1.5331514e-04 4.6644818e-02]\n",
      "[1. 0. 0.] <-> [0.48848492 0.4642012  0.04731386]\n",
      "[0. 0. 1.] <-> [8.1432238e-03 5.9521303e-04 9.9126148e-01]\n",
      "[0. 1. 0.] <-> [0.8450425  0.1505276  0.00442987]\n",
      "[1. 0. 0.] <-> [0.732695   0.25926763 0.00803743]\n",
      "[1. 0. 0.] <-> [0.9910166  0.00276948 0.00621381]\n",
      "[0. 0. 1.] <-> [1.5991384e-01 2.3614468e-05 8.4006250e-01]\n",
      "[1. 0. 0.] <-> [9.4222122e-01 1.8058266e-04 5.7598092e-02]\n",
      "[1. 0. 0.] <-> [0.9896444  0.00593068 0.00442492]\n",
      "[1. 0. 0.] <-> [0.9941689  0.00119478 0.00463634]\n",
      "[1. 0. 0.] <-> [0.99132663 0.00100877 0.00766464]\n",
      "[1. 0. 0.] <-> [0.15919669 0.83569574 0.00510752]\n",
      "[0. 1. 0.] <-> [0.0633361  0.9337353  0.00292856]\n",
      "[0. 0. 1.] <-> [2.6682124e-01 3.6600915e-05 7.3314214e-01]\n",
      "[1. 0. 0.] <-> [0.8659785  0.00230903 0.13171251]\n",
      "[1. 0. 0.] <-> [0.98871255 0.00411836 0.007169  ]\n",
      "[1. 0. 0.] <-> [0.9893616  0.00102095 0.00961747]\n",
      "[1. 0. 0.] <-> [9.4319624e-01 1.5610571e-04 5.6647725e-02]\n",
      "[1. 0. 0.] <-> [8.7288862e-01 1.6902789e-04 1.2694244e-01]\n",
      "[1. 0. 0.] <-> [9.8973888e-01 4.2827005e-04 9.8328432e-03]\n",
      "[0. 1. 0.] <-> [0.00919061 0.98978525 0.00102411]\n",
      "[0. 0. 1.] <-> [5.267717e-01 7.551264e-05 4.731527e-01]\n",
      "[1. 0. 0.] <-> [9.8790854e-01 4.2201616e-04 1.1669456e-02]\n",
      "[0. 1. 0.] <-> [0.00918955 0.9897865  0.00102394]\n",
      "[1. 0. 0.] <-> [0.98952895 0.00318197 0.007289  ]\n",
      "[1. 0. 0.] <-> [0.98397845 0.00662549 0.009396  ]\n",
      "[1. 0. 0.] <-> [0.97827667 0.01758785 0.00413541]\n",
      "[0. 0. 1.] <-> [1.6638075e-01 2.3291859e-05 8.3359599e-01]\n",
      "[0. 0. 1.] <-> [6.827092e-02 6.065627e-05 9.316684e-01]\n",
      "[1. 0. 0.] <-> [0.9823418  0.00119103 0.01646705]\n",
      "[1. 0. 0.] <-> [0.9780296  0.01793463 0.00403573]\n",
      "[1. 0. 0.] <-> [0.9926379  0.00276051 0.00460151]\n",
      "[1. 0. 0.] <-> [0.9850927  0.00916709 0.00574018]\n",
      "[0. 0. 1.] <-> [7.8313494e-01 2.3812792e-04 2.1662690e-01]\n",
      "[1. 0. 0.] <-> [0.80875933 0.18234675 0.00889392]\n",
      "[1. 0. 0.] <-> [0.9935644  0.00191813 0.00451732]\n",
      "[0. 0. 1.] <-> [0.00202688 0.00391736 0.99405575]\n",
      "[1. 0. 0.] <-> [0.97958964 0.00117858 0.0192318 ]\n",
      "{'accuracy': 0.9444444444444444, 'mean_square_error': 0.10030921258631731, 'categorical_crossentropy': 0.16448036829630533, 'essential_metrics': {0: {'tp_hit': 74, 'fp_hit': 5, 'tn_hit': 25, 'fn_hit': 4}, 1: {'tp_hit': 14, 'fp_hit': 4, 'tn_hit': 88, 'fn_hit': 2}, 2: {'tp_hit': 11, 'fp_hit': 0, 'tn_hit': 94, 'fn_hit': 3}}}\n"
     ]
    }
   ],
   "source": [
    "# recall phase\n",
    "score = model.evaluate(x_test, y_test, False)\n",
    "print(score)"
   ]
  },
  {
   "cell_type": "code",
   "execution_count": 13,
   "metadata": {},
   "outputs": [
    {
     "name": "stdout",
     "output_type": "stream",
     "text": [
      "{'accuracy': 0.8888888888888888, 'mean_square_error': 0.33064346880978973, 'categorical_crossentropy': 0.6845644491690176, 'essential_metrics': {0: {'tp_hit': 78, 'fp_hit': 18, 'tn_hit': 12, 'fn_hit': 0}, 1: {'tp_hit': 12, 'fp_hit': 0, 'tn_hit': 92, 'fn_hit': 4}, 2: {'tp_hit': 0, 'fp_hit': 0, 'tn_hit': 94, 'fn_hit': 14}}, 'checkpoint': 10} \n",
      "\n",
      "\n",
      "{'accuracy': 0.8765432098765432, 'mean_square_error': 0.32529868439937637, 'categorical_crossentropy': 0.629113373933015, 'essential_metrics': {0: {'tp_hit': 78, 'fp_hit': 20, 'tn_hit': 10, 'fn_hit': 0}, 1: {'tp_hit': 10, 'fp_hit': 0, 'tn_hit': 92, 'fn_hit': 6}, 2: {'tp_hit': 0, 'fp_hit': 0, 'tn_hit': 94, 'fn_hit': 14}}, 'checkpoint': 20} \n",
      "\n",
      "\n",
      "{'accuracy': 0.8703703703703703, 'mean_square_error': 0.3481357698998196, 'categorical_crossentropy': 0.6243889420120804, 'essential_metrics': {0: {'tp_hit': 78, 'fp_hit': 21, 'tn_hit': 9, 'fn_hit': 0}, 1: {'tp_hit': 9, 'fp_hit': 0, 'tn_hit': 92, 'fn_hit': 7}, 2: {'tp_hit': 0, 'fp_hit': 0, 'tn_hit': 94, 'fn_hit': 14}}, 'checkpoint': 30} \n",
      "\n",
      "\n",
      "{'accuracy': 0.8703703703703703, 'mean_square_error': 0.34517909448055584, 'categorical_crossentropy': 0.6258531499792028, 'essential_metrics': {0: {'tp_hit': 78, 'fp_hit': 21, 'tn_hit': 9, 'fn_hit': 0}, 1: {'tp_hit': 9, 'fp_hit': 0, 'tn_hit': 92, 'fn_hit': 7}, 2: {'tp_hit': 0, 'fp_hit': 0, 'tn_hit': 94, 'fn_hit': 14}}, 'checkpoint': 40} \n",
      "\n",
      "\n",
      "{'accuracy': 0.8641975308641975, 'mean_square_error': 0.3524642910458216, 'categorical_crossentropy': 0.6277359856499566, 'essential_metrics': {0: {'tp_hit': 78, 'fp_hit': 22, 'tn_hit': 8, 'fn_hit': 0}, 1: {'tp_hit': 8, 'fp_hit': 0, 'tn_hit': 92, 'fn_hit': 8}, 2: {'tp_hit': 0, 'fp_hit': 0, 'tn_hit': 94, 'fn_hit': 14}}, 'checkpoint': 50} \n",
      "\n",
      "\n",
      "{'accuracy': 0.8888888888888888, 'mean_square_error': 0.31196693413049353, 'categorical_crossentropy': 0.5704198766637731, 'essential_metrics': {0: {'tp_hit': 77, 'fp_hit': 17, 'tn_hit': 13, 'fn_hit': 1}, 1: {'tp_hit': 13, 'fp_hit': 1, 'tn_hit': 91, 'fn_hit': 3}, 2: {'tp_hit': 0, 'fp_hit': 0, 'tn_hit': 94, 'fn_hit': 14}}, 'checkpoint': 60} \n",
      "\n",
      "\n",
      "{'accuracy': 0.8580246913580247, 'mean_square_error': 0.27752461438049486, 'categorical_crossentropy': 0.48705298812301073, 'essential_metrics': {0: {'tp_hit': 78, 'fp_hit': 23, 'tn_hit': 7, 'fn_hit': 0}, 1: {'tp_hit': 6, 'fp_hit': 0, 'tn_hit': 92, 'fn_hit': 10}, 2: {'tp_hit': 1, 'fp_hit': 0, 'tn_hit': 94, 'fn_hit': 13}}, 'checkpoint': 70} \n",
      "\n",
      "\n",
      "{'accuracy': 0.9074074074074074, 'mean_square_error': 0.2301500121994233, 'categorical_crossentropy': 0.4427475399441189, 'essential_metrics': {0: {'tp_hit': 77, 'fp_hit': 14, 'tn_hit': 16, 'fn_hit': 1}, 1: {'tp_hit': 12, 'fp_hit': 1, 'tn_hit': 91, 'fn_hit': 4}, 2: {'tp_hit': 4, 'fp_hit': 0, 'tn_hit': 94, 'fn_hit': 10}}, 'checkpoint': 80} \n",
      "\n",
      "\n",
      "{'accuracy': 0.9259259259259259, 'mean_square_error': 0.1883576451966652, 'categorical_crossentropy': 0.3605002650508174, 'essential_metrics': {0: {'tp_hit': 77, 'fp_hit': 11, 'tn_hit': 19, 'fn_hit': 1}, 1: {'tp_hit': 15, 'fp_hit': 1, 'tn_hit': 91, 'fn_hit': 1}, 2: {'tp_hit': 4, 'fp_hit': 0, 'tn_hit': 94, 'fn_hit': 10}}, 'checkpoint': 90} \n",
      "\n",
      "\n",
      "{'accuracy': 0.9074074074074074, 'mean_square_error': 0.17331938767840796, 'categorical_crossentropy': 0.2911950217352973, 'essential_metrics': {0: {'tp_hit': 78, 'fp_hit': 15, 'tn_hit': 15, 'fn_hit': 0}, 1: {'tp_hit': 12, 'fp_hit': 0, 'tn_hit': 92, 'fn_hit': 4}, 2: {'tp_hit': 3, 'fp_hit': 0, 'tn_hit': 94, 'fn_hit': 11}}, 'checkpoint': 100} \n",
      "\n",
      "\n",
      "{'accuracy': 0.9074074074074074, 'mean_square_error': 0.13895465686868594, 'categorical_crossentropy': 0.2523175698739511, 'essential_metrics': {0: {'tp_hit': 77, 'fp_hit': 14, 'tn_hit': 16, 'fn_hit': 1}, 1: {'tp_hit': 12, 'fp_hit': 1, 'tn_hit': 91, 'fn_hit': 4}, 2: {'tp_hit': 4, 'fp_hit': 0, 'tn_hit': 94, 'fn_hit': 10}}, 'checkpoint': 110} \n",
      "\n",
      "\n",
      "{'accuracy': 0.9506172839506173, 'mean_square_error': 0.10613297944345858, 'categorical_crossentropy': 0.2167509573477286, 'essential_metrics': {0: {'tp_hit': 77, 'fp_hit': 7, 'tn_hit': 23, 'fn_hit': 1}, 1: {'tp_hit': 12, 'fp_hit': 1, 'tn_hit': 91, 'fn_hit': 4}, 2: {'tp_hit': 11, 'fp_hit': 0, 'tn_hit': 94, 'fn_hit': 3}}, 'checkpoint': 120} \n",
      "\n",
      "\n",
      "{'accuracy': 0.9629629629629629, 'mean_square_error': 0.10493481306711515, 'categorical_crossentropy': 0.20696134920473452, 'essential_metrics': {0: {'tp_hit': 76, 'fp_hit': 4, 'tn_hit': 26, 'fn_hit': 2}, 1: {'tp_hit': 15, 'fp_hit': 2, 'tn_hit': 90, 'fn_hit': 1}, 2: {'tp_hit': 11, 'fp_hit': 0, 'tn_hit': 94, 'fn_hit': 3}}, 'checkpoint': 130} \n",
      "\n",
      "\n",
      "{'accuracy': 0.9567901234567902, 'mean_square_error': 0.09490181856347568, 'categorical_crossentropy': 0.17413181728786892, 'essential_metrics': {0: {'tp_hit': 78, 'fp_hit': 7, 'tn_hit': 23, 'fn_hit': 0}, 1: {'tp_hit': 12, 'fp_hit': 0, 'tn_hit': 92, 'fn_hit': 4}, 2: {'tp_hit': 11, 'fp_hit': 0, 'tn_hit': 94, 'fn_hit': 3}}, 'checkpoint': 140} \n",
      "\n",
      "\n",
      "{'accuracy': 0.9629629629629629, 'mean_square_error': 0.08809859083340926, 'categorical_crossentropy': 0.15818380426477502, 'essential_metrics': {0: {'tp_hit': 77, 'fp_hit': 5, 'tn_hit': 25, 'fn_hit': 1}, 1: {'tp_hit': 14, 'fp_hit': 1, 'tn_hit': 91, 'fn_hit': 2}, 2: {'tp_hit': 11, 'fp_hit': 0, 'tn_hit': 94, 'fn_hit': 3}}, 'checkpoint': 150} \n",
      "\n",
      "\n",
      "{'accuracy': 0.9629629629629629, 'mean_square_error': 0.09079093439886551, 'categorical_crossentropy': 0.1620311737060547, 'essential_metrics': {0: {'tp_hit': 76, 'fp_hit': 4, 'tn_hit': 26, 'fn_hit': 2}, 1: {'tp_hit': 15, 'fp_hit': 2, 'tn_hit': 90, 'fn_hit': 1}, 2: {'tp_hit': 11, 'fp_hit': 0, 'tn_hit': 94, 'fn_hit': 3}}, 'checkpoint': 160} \n",
      "\n",
      "\n",
      "{'accuracy': 0.9814814814814815, 'mean_square_error': 0.08116786014301373, 'categorical_crossentropy': 0.15122305905377423, 'essential_metrics': {0: {'tp_hit': 77, 'fp_hit': 2, 'tn_hit': 28, 'fn_hit': 1}, 1: {'tp_hit': 16, 'fp_hit': 1, 'tn_hit': 91, 'fn_hit': 0}, 2: {'tp_hit': 12, 'fp_hit': 0, 'tn_hit': 94, 'fn_hit': 2}}, 'checkpoint': 170} \n",
      "\n",
      "\n",
      "{'accuracy': 0.9506172839506173, 'mean_square_error': 0.09863990946236612, 'categorical_crossentropy': 0.16456501572220414, 'essential_metrics': {0: {'tp_hit': 74, 'fp_hit': 4, 'tn_hit': 26, 'fn_hit': 4}, 1: {'tp_hit': 14, 'fp_hit': 4, 'tn_hit': 88, 'fn_hit': 2}, 2: {'tp_hit': 12, 'fp_hit': 0, 'tn_hit': 94, 'fn_hit': 2}}, 'checkpoint': 180} \n",
      "\n",
      "\n",
      "{'accuracy': 0.9629629629629629, 'mean_square_error': 0.09091369802819128, 'categorical_crossentropy': 0.15972734380651404, 'essential_metrics': {0: {'tp_hit': 74, 'fp_hit': 2, 'tn_hit': 28, 'fn_hit': 4}, 1: {'tp_hit': 16, 'fp_hit': 4, 'tn_hit': 88, 'fn_hit': 0}, 2: {'tp_hit': 12, 'fp_hit': 0, 'tn_hit': 94, 'fn_hit': 2}}, 'checkpoint': 190} \n",
      "\n",
      "\n",
      "{'accuracy': 0.9444444444444444, 'mean_square_error': 0.10030921258631731, 'categorical_crossentropy': 0.16448036829630533, 'essential_metrics': {0: {'tp_hit': 74, 'fp_hit': 5, 'tn_hit': 25, 'fn_hit': 4}, 1: {'tp_hit': 14, 'fp_hit': 4, 'tn_hit': 88, 'fn_hit': 2}, 2: {'tp_hit': 11, 'fp_hit': 0, 'tn_hit': 94, 'fn_hit': 3}}, 'checkpoint': 200} \n",
      "\n",
      "\n"
     ]
    }
   ],
   "source": [
    "for checkpoint in checkpoints:\n",
    "    print(checkpoint, '\\n\\n')"
   ]
  },
  {
   "cell_type": "code",
   "execution_count": 14,
   "metadata": {},
   "outputs": [
    {
     "name": "stdout",
     "output_type": "stream",
     "text": [
      "Layer 1\n",
      "Neuron 0: weights:\n",
      "[ 1.8831952 -2.3050163 -1.6925172 -3.        -3.       ]\n",
      " bias: -0.19196897745132446\n",
      "\n",
      "Neuron 1: weights:\n",
      "[ 1.4254651  -2.150493   -2.8990273   0.8753511   0.25886437]\n",
      " bias: -0.5106078386306763\n",
      "\n",
      "Neuron 2: weights:\n",
      "[-2.0619745  2.5114977  2.9561992  3.         1.0523995]\n",
      " bias: -0.427850604057312\n",
      "\n",
      "Neuron 3: weights:\n",
      "[-0.06676874  3.          0.3832335  -2.240793   -1.5602993 ]\n",
      " bias: 2.2723920345306396\n",
      "\n",
      "$\n",
      "Layer 2\n",
      "Neuron 0: weights:\n",
      "[ 1.2858447   0.29220313 -3.          3.        ]\n",
      " bias: -0.33852091431617737\n",
      "\n",
      "Neuron 1: weights:\n",
      "[-3. -3.  3.  3.]\n",
      " bias: -1.6590276956558228\n",
      "\n",
      "Neuron 2: weights:\n",
      "[-1.0440685  3.        -0.4380015 -3.       ]\n",
      " bias: 0.905055582523346\n",
      "\n",
      "$\n",
      "\n"
     ]
    }
   ],
   "source": [
    "print(model)"
   ]
  }
 ],
 "metadata": {
  "kernelspec": {
   "display_name": "Python 3",
   "language": "python",
   "name": "python3"
  },
  "language_info": {
   "codemirror_mode": {
    "name": "ipython",
    "version": 3
   },
   "file_extension": ".py",
   "mimetype": "text/x-python",
   "name": "python",
   "nbconvert_exporter": "python",
   "pygments_lexer": "ipython3",
   "version": "3.6.12"
  }
 },
 "nbformat": 4,
 "nbformat_minor": 2
}
