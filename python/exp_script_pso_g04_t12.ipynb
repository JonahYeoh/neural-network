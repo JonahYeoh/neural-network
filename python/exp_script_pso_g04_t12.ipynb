{
 "cells": [
  {
   "cell_type": "code",
   "execution_count": 1,
   "metadata": {},
   "outputs": [],
   "source": [
    "# dependency\n",
    "import numpy as np\n",
    "import pandas as pd\n",
    "import copy\n",
    "import math\n",
    "import sys\n",
    "import os\n",
    "from activations import relu, leaky_relu, sigmoid, tanh, softmax, d_sigmoid, d_relu\n",
    "from initializers import glorot_uniform, random_normal, random_uniform\n",
    "from regularizers import l1_regularizer, l2_regularizer\n",
    "from utility import trim_tail, multiply, subtract, get_nparams, one_hot_encoding, get_data\n",
    "from metrics import MSE, CCE, ACC, PRECISION, RECALL, essential_metrics, wondering_penalty, close_gap_penalty\n",
    "from pso import PSO\n",
    "from ga import GA\n",
    "from nn import Network\n",
    "from layer import DenseLayer\n",
    "from scalers import MinMaxScaler, StandardScaler"
   ]
  },
  {
   "cell_type": "code",
   "execution_count": 2,
   "metadata": {},
   "outputs": [],
   "source": [
    "# reference\n",
    "metrics_fn_dict = dict()\n",
    "metrics_fn_dict['accuracy'] = ACC\n",
    "metrics_fn_dict['categorical_crossentropy'] = CCE\n",
    "metrics_fn_dict['mean_square_error'] = MSE\n",
    "metrics_fn_dict['precision'] = PRECISION\n",
    "metrics_fn_dict['recall'] = RECALL\n",
    "metrics_fn_dict['essential_metrics'] = essential_metrics"
   ]
  },
  {
   "cell_type": "code",
   "execution_count": 3,
   "metadata": {},
   "outputs": [],
   "source": [
    "# model\n",
    "model = Network(5, lr = None)\n",
    "model.add_layer(DenseLayer(1, 4, True, afn=sigmoid, dafn=None, rfn=None))\n",
    "model.add_layer(DenseLayer(2, 3, True, afn=softmax, dafn=None, rfn=None))"
   ]
  },
  {
   "cell_type": "code",
   "execution_count": 4,
   "metadata": {},
   "outputs": [
    {
     "name": "stdout",
     "output_type": "stream",
     "text": [
      "see one see two 2 2\n"
     ]
    }
   ],
   "source": [
    "pso = PSO(dict(m = 100,\n",
    "    weight_constraint = [-3, 3], \n",
    "    velocity_constraint = [-0.1, 0.1],\n",
    "    c1 = 2,\n",
    "    c2 = 2,\n",
    "    w = 1,\n",
    "    w_decay = 1,\n",
    "    scale_hyperparameter = False,\n",
    "    regularizer = None,\n",
    "    mask = True))"
   ]
  },
  {
   "cell_type": "code",
   "execution_count": 5,
   "metadata": {},
   "outputs": [
    {
     "name": "stdout",
     "output_type": "stream",
     "text": [
      "building layer 1 with 5\n",
      "24\n",
      "building layer 2 with 4\n",
      "15\n"
     ]
    }
   ],
   "source": [
    "model.compile(loss_fn = 'categorical_crossentropy', optimizer = pso, \\\n",
    "    metrics = ['accuracy', 'mean_square_error', 'categorical_crossentropy'])"
   ]
  },
  {
   "cell_type": "code",
   "execution_count": 6,
   "metadata": {},
   "outputs": [
    {
     "name": "stdout",
     "output_type": "stream",
     "text": [
      "<class 'pandas.core.frame.DataFrame'>\n",
      "RangeIndex: 107 entries, 0 to 106\n",
      "Data columns (total 6 columns):\n",
      " #   Column  Non-Null Count  Dtype  \n",
      "---  ------  --------------  -----  \n",
      " 0   f1      107 non-null    float32\n",
      " 1   f2      107 non-null    float32\n",
      " 2   f3      107 non-null    float32\n",
      " 3   f4      107 non-null    float32\n",
      " 4   f5      107 non-null    float32\n",
      " 5   label   107 non-null    float32\n",
      "dtypes: float32(6)\n",
      "memory usage: 2.6 KB\n",
      "None\n",
      "<class 'pandas.core.frame.DataFrame'>\n",
      "RangeIndex: 108 entries, 0 to 107\n",
      "Data columns (total 6 columns):\n",
      " #   Column  Non-Null Count  Dtype  \n",
      "---  ------  --------------  -----  \n",
      " 0   f1      108 non-null    float32\n",
      " 1   f2      108 non-null    float32\n",
      " 2   f3      108 non-null    float32\n",
      " 3   f4      108 non-null    float32\n",
      " 4   f5      108 non-null    float32\n",
      " 5   label   108 non-null    float32\n",
      "dtypes: float32(6)\n",
      "memory usage: 2.7 KB\n",
      "None\n"
     ]
    }
   ],
   "source": [
    "# data loading\n",
    "DATA = os.path.join('c:\\\\Users\\\\tcumi\\\\github_repo\\\\neural-network\\\\', 'dataset')\n",
    "GROUP = 4\n",
    "COLUMNS = ['f1', 'f2', 'f3', 'f4', 'f5', 'label']\n",
    "N_CLASS = 3\n",
    "EPOCHS = 500\n",
    "train_dir, test_dir = \"..//dataset//training_data{}.txt\".format(GROUP), \"..//dataset//testing_data{}.txt\".format(GROUP)\n",
    "train, test = get_data(DATA, train_dir, COLUMNS), get_data(DATA, test_dir, COLUMNS)\n",
    "# shuffle\n",
    "train, test = train.sample(frac=1), test.sample(frac=1)\n",
    "x_train, y_train = train.drop('label', axis=1), train['label']\n",
    "x_test, y_test = test.drop('label', axis=1), test['label']"
   ]
  },
  {
   "cell_type": "code",
   "execution_count": 7,
   "metadata": {},
   "outputs": [],
   "source": [
    "# data scaling and encoding\n",
    "scaler = StandardScaler(['f1', 'f2', 'f3', 'f4', 'f5'])\n",
    "scaler.fit(x_train)\n",
    "x_train = scaler.transform(x_train)\n",
    "x_test = scaler.transform(x_test)\n",
    "y_train = one_hot_encoding(y_train, N_CLASS)\n",
    "y_test = one_hot_encoding(y_test, N_CLASS)"
   ]
  },
  {
   "cell_type": "code",
   "execution_count": 8,
   "metadata": {
    "tags": [
     "outputPrepend"
    ]
   },
   "outputs": [
    {
     "name": "stdout",
     "output_type": "stream",
     "text": [
      "Checkpoint 100, Accuracy: 0.9506172839506173, Loss: 0.22585037019517687\n",
      "Checkpoint 200, Accuracy: 0.9506172839506173, Loss: 0.14235516830726905\n",
      "Checkpoint 300, Accuracy: 0.9567901234567902, Loss: 0.12404418874669958\n",
      "Checkpoint 400, Accuracy: 0.9506172839506173, Loss: 0.1240642335679796\n",
      "Checkpoint 500, Accuracy: 0.9506172839506173, Loss: 0.12721616250497322\n"
     ]
    }
   ],
   "source": [
    "# learning phase\n",
    "breakpoint = 100\n",
    "checkpoints = list()\n",
    "history = list()\n",
    "for century in range(0, EPOCHS, breakpoint):\n",
    "    sub_history = model.fit(x_train, y_train, breakpoint, verbose = 0)\n",
    "    score = model.evaluate(x_test, y_test, False, verbose = 0)\n",
    "    print('Checkpoint {}, Accuracy: {}, Loss: {}'.format(century+breakpoint, score['accuracy'], score[model.loss_fn]))\n",
    "    score['checkpoint'] = century + breakpoint\n",
    "    checkpoints.append(score)\n",
    "    history.extend(sub_history)"
   ]
  },
  {
   "cell_type": "code",
   "execution_count": 9,
   "metadata": {},
   "outputs": [],
   "source": [
    "import matplotlib.pyplot as plt\n",
    "\n",
    "def draw_plot(x, y_list, x_label=None, y_label=None, legend=None, title=None):\n",
    "    fig, ax = plt.subplots(figsize=(12,5))\n",
    "    for xi, yi in zip(x, y_list):\n",
    "        ax.plot(xi, yi)\n",
    "    if x_label is not None and y_label is not None:\n",
    "        ax.set(xlabel=x_label, ylabel=y_label, title='{} VS {}'.format(x_label, y_label))\n",
    "    if legend is not None:\n",
    "        ax.legend(legend)\n",
    "    ax.grid()\n",
    "    plt.show()"
   ]
  },
  {
   "cell_type": "code",
   "execution_count": 10,
   "metadata": {},
   "outputs": [
    {
     "name": "stdout",
     "output_type": "stream",
     "text": [
      "[1. 0. 0.] <-> [0.9950848  0.00176099 0.00315415]\n",
      "[1. 0. 0.] <-> [0.99733573 0.00160492 0.00105929]\n",
      "[0. 1. 0.] <-> [6.6139787e-03 9.9335843e-01 2.7635593e-05]\n",
      "[1. 0. 0.] <-> [0.9975568  0.00106858 0.00137457]\n",
      "[1. 0. 0.] <-> [9.9716395e-01 1.9064313e-03 9.2960033e-04]\n",
      "[1. 0. 0.] <-> [0.99118584 0.00150342 0.00731072]\n",
      "[0. 0. 1.] <-> [0.5970754  0.00114856 0.40177602]\n",
      "[0. 0. 1.] <-> [1.2592167e-02 4.2052132e-05 9.8736572e-01]\n",
      "[0. 1. 0.] <-> [4.7999853e-03 9.9515319e-01 4.6889858e-05]\n",
      "[0. 1. 0.] <-> [1.3608329e-01 8.6367285e-01 2.4392031e-04]\n",
      "[0. 1. 0.] <-> [6.222069e-03 9.937587e-01 1.934027e-05]\n",
      "[1. 0. 0.] <-> [0.94342697 0.00211535 0.05445765]\n",
      "[0. 1. 0.] <-> [1.5677333e-02 9.8428726e-01 3.5446334e-05]\n",
      "[1. 0. 0.] <-> [0.9945575  0.00108987 0.00435256]\n",
      "[1. 0. 0.] <-> [0.9871315  0.01177899 0.00108961]\n",
      "[0. 0. 1.] <-> [8.031059e-03 2.940512e-05 9.919395e-01]\n",
      "[1. 0. 0.] <-> [0.99678123 0.00183991 0.00137886]\n",
      "[1. 0. 0.] <-> [0.996378   0.00115069 0.0024713 ]\n",
      "[1. 0. 0.] <-> [0.92224735 0.07665873 0.00109388]\n",
      "[1. 0. 0.] <-> [0.99784684 0.00100585 0.00114725]\n",
      "[1. 0. 0.] <-> [0.8912994  0.00121647 0.10748409]\n",
      "[1. 0. 0.] <-> [0.7618341  0.00164553 0.23652036]\n",
      "[0. 1. 0.] <-> [6.5369965e-03 9.9344665e-01 1.6341086e-05]\n",
      "[1. 0. 0.] <-> [0.99457574 0.00100198 0.0044223 ]\n",
      "[0. 1. 0.] <-> [1.3923760e-02 9.8604393e-01 3.2332595e-05]\n",
      "[1. 0. 0.] <-> [0.9949026  0.00393681 0.00116054]\n",
      "[1. 0. 0.] <-> [9.9693561e-01 2.1421725e-03 9.2228461e-04]\n",
      "[1. 0. 0.] <-> [0.99733007 0.00109716 0.00157286]\n",
      "[1. 0. 0.] <-> [9.9768519e-01 1.3658702e-03 9.4897882e-04]\n",
      "[0. 0. 1.] <-> [1.3188605e-02 4.5424378e-05 9.8676598e-01]\n",
      "[0. 1. 0.] <-> [5.1343371e-03 9.9482757e-01 3.8083643e-05]\n",
      "[1. 0. 0.] <-> [9.9678230e-01 2.2875038e-03 9.3016087e-04]\n",
      "[1. 0. 0.] <-> [0.99698776 0.00161041 0.00140188]\n",
      "[0. 1. 0.] <-> [2.415865e-03 9.971015e-01 4.826146e-04]\n",
      "[0. 0. 1.] <-> [8.2099130e-03 3.0005376e-05 9.9176008e-01]\n",
      "[1. 0. 0.] <-> [0.9974063  0.00108552 0.0015081 ]\n",
      "[1. 0. 0.] <-> [0.9974099  0.00145521 0.00113491]\n",
      "[0. 0. 1.] <-> [8.0317855e-03 2.9407624e-05 9.9193877e-01]\n",
      "[1. 0. 0.] <-> [9.9684119e-01 2.2678848e-03 8.9085638e-04]\n",
      "[1. 0. 0.] <-> [0.96074474 0.01435206 0.02490327]\n",
      "[1. 0. 0.] <-> [0.99776924 0.00109146 0.00113936]\n",
      "[1. 0. 0.] <-> [9.9275196e-01 9.8661135e-04 6.2613781e-03]\n",
      "[1. 0. 0.] <-> [0.99476224 0.0015767  0.00366112]\n",
      "[1. 0. 0.] <-> [0.99755293 0.00111675 0.00133032]\n",
      "[1. 0. 0.] <-> [0.995911   0.00250827 0.00158078]\n",
      "[0. 0. 1.] <-> [0.5596635  0.00066194 0.4396746 ]\n",
      "[1. 0. 0.] <-> [0.9975091  0.0014469  0.00104391]\n",
      "[1. 0. 0.] <-> [1.117748e-01 2.880639e-04 8.879372e-01]\n",
      "[1. 0. 0.] <-> [0.9843231  0.01443389 0.00124294]\n",
      "[0. 0. 1.] <-> [1.3204172e-02 4.3499716e-05 9.8675227e-01]\n",
      "[1. 0. 0.] <-> [0.99474794 0.00118795 0.00406407]\n",
      "[1. 0. 0.] <-> [9.9753571e-01 9.5796527e-04 1.5063101e-03]\n",
      "[1. 0. 0.] <-> [9.9790895e-01 1.1498316e-03 9.4125094e-04]\n",
      "[1. 0. 0.] <-> [9.907081e-01 9.775243e-04 8.314306e-03]\n",
      "[1. 0. 0.] <-> [0.97973686 0.00128678 0.01897627]\n",
      "[1. 0. 0.] <-> [0.9779904  0.00098777 0.02102186]\n",
      "[1. 0. 0.] <-> [8.3977982e-02 9.1582972e-01 1.9239378e-04]\n",
      "[1. 0. 0.] <-> [0.9621744  0.03664362 0.00118199]\n",
      "[0. 0. 1.] <-> [0.7897955  0.00089778 0.2093067 ]\n",
      "[1. 0. 0.] <-> [0.99520594 0.00290683 0.00188715]\n",
      "[0. 0. 1.] <-> [2.6220888e-02 7.4046111e-05 9.7370499e-01]\n",
      "[1. 0. 0.] <-> [0.9966545  0.00220845 0.00113705]\n",
      "[1. 0. 0.] <-> [9.964647e-01 2.572677e-03 9.625107e-04]\n",
      "[1. 0. 0.] <-> [0.9898552  0.00103746 0.00910733]\n",
      "[1. 0. 0.] <-> [9.9709308e-01 9.7977696e-04 1.9271082e-03]\n",
      "[1. 0. 0.] <-> [0.99723935 0.00141972 0.00134098]\n",
      "[1. 0. 0.] <-> [0.9878209  0.00247695 0.00970213]\n",
      "[0. 1. 0.] <-> [3.979884e-02 9.601195e-01 8.176482e-05]\n",
      "[1. 0. 0.] <-> [0.9524189  0.00099812 0.04658299]\n",
      "[1. 0. 0.] <-> [0.9972402  0.00133726 0.0014225 ]\n",
      "[1. 0. 0.] <-> [0.95855695 0.00171433 0.03972866]\n",
      "[1. 0. 0.] <-> [9.9554479e-01 3.5052532e-03 9.4987388e-04]\n",
      "[1. 0. 0.] <-> [9.9749869e-01 1.5849359e-03 9.1632700e-04]\n",
      "[1. 0. 0.] <-> [0.997086   0.00124432 0.00166963]\n",
      "[1. 0. 0.] <-> [0.985952   0.00100738 0.01304065]\n",
      "[1. 0. 0.] <-> [0.9793956  0.01940822 0.00119608]\n",
      "[0. 1. 0.] <-> [2.5449179e-03 9.9705052e-01 4.0457444e-04]\n",
      "[1. 0. 0.] <-> [0.996923   0.00107446 0.00200249]\n",
      "[0. 1. 0.] <-> [6.0673077e-03 9.9391127e-01 2.1400134e-05]\n",
      "[1. 0. 0.] <-> [0.99600655 0.00107758 0.00291581]\n",
      "[1. 0. 0.] <-> [0.6643246  0.3338286  0.00184678]\n",
      "[1. 0. 0.] <-> [0.9690759  0.00818806 0.02273606]\n",
      "[1. 0. 0.] <-> [3.2064983e-01 6.7882866e-01 5.2150915e-04]\n",
      "[0. 1. 0.] <-> [4.4647115e-03 9.9547535e-01 5.9933212e-05]\n",
      "[1. 0. 0.] <-> [0.44305366 0.55484694 0.00209947]\n",
      "[1. 0. 0.] <-> [0.572285  0.4263055 0.0014095]\n",
      "[1. 0. 0.] <-> [0.995996   0.00227167 0.00173234]\n",
      "[0. 1. 0.] <-> [1.6688092e-02 9.8325288e-01 5.9121747e-05]\n",
      "[0. 0. 1.] <-> [8.032314e-03 2.941092e-05 9.919383e-01]\n",
      "[1. 0. 0.] <-> [0.9927078  0.0056544  0.00163784]\n",
      "[1. 0. 0.] <-> [9.9749267e-01 1.5658721e-03 9.4146951e-04]\n",
      "[0. 0. 1.] <-> [1.4927746e-01 3.0093212e-04 8.5042161e-01]\n",
      "[1. 0. 0.] <-> [0.9870324  0.00368961 0.00927804]\n",
      "[1. 0. 0.] <-> [0.9968736  0.00124227 0.001884  ]\n",
      "[1. 0. 0.] <-> [0.99747133 0.00113812 0.00139063]\n",
      "[1. 0. 0.] <-> [9.9766928e-01 1.4680005e-03 8.6274033e-04]\n",
      "[1. 0. 0.] <-> [0.99763775 0.00121714 0.0011452 ]\n",
      "[1. 0. 0.] <-> [0.7708898  0.22799875 0.00111141]\n",
      "[1. 0. 0.] <-> [0.46783456 0.00142331 0.53074217]\n",
      "[0. 1. 0.] <-> [1.7236125e-01 8.2734561e-01 2.9308235e-04]\n",
      "[0. 1. 0.] <-> [1.3566727e-02 9.8640245e-01 3.0842777e-05]\n",
      "[0. 0. 1.] <-> [1.4683546e-02 4.8355709e-05 9.8526812e-01]\n",
      "[1. 0. 0.] <-> [0.9965413  0.00146423 0.00199446]\n",
      "[1. 0. 0.] <-> [9.9618870e-01 2.9496225e-03 8.6168054e-04]\n",
      "[1. 0. 0.] <-> [0.9944676  0.00449994 0.00103246]\n",
      "[1. 0. 0.] <-> [0.99128854 0.00728558 0.00142588]\n",
      "[1. 0. 0.] <-> [0.99708396 0.00186585 0.00105015]\n",
      "[0. 0. 1.] <-> [8.5986927e-03 3.1012718e-05 9.9137032e-01]\n",
      "{'accuracy': 0.9506172839506173, 'mean_square_error': 0.08304567436428016, 'categorical_crossentropy': 0.12721616250497322, 'essential_metrics': {0: {'tp_hit': 73, 'fp_hit': 3, 'tn_hit': 27, 'fn_hit': 5}, 1: {'tp_hit': 16, 'fp_hit': 3, 'tn_hit': 89, 'fn_hit': 0}, 2: {'tp_hit': 11, 'fp_hit': 2, 'tn_hit': 92, 'fn_hit': 3}}}\n"
     ]
    }
   ],
   "source": [
    "# recall phase\n",
    "score = model.evaluate(x_test, y_test, False)\n",
    "print(score)"
   ]
  },
  {
   "cell_type": "code",
   "execution_count": 11,
   "metadata": {},
   "outputs": [
    {
     "data": {
      "image/png": "[encoded data removed]",
      "text/plain": [
       "<Figure size 864x360 with 1 Axes>"
      ]
     },
     "metadata": {
      "needs_background": "light"
     },
     "output_type": "display_data"
    },
    {
     "data": {
      "image/png": "[encoded data removed]",
      "text/plain": [
       "<Figure size 864x360 with 1 Axes>"
      ]
     },
     "metadata": {
      "needs_background": "light"
     },
     "output_type": "display_data"
    }
   ],
   "source": [
    "draw_plot(x = [[i for i in range(len(history))], [(i+1)*breakpoint for i in range(len(checkpoints))]], y_list = [history, [ ckp[model.loss_fn] for ckp in checkpoints ]], x_label = 'Epochs', \\\n",
    "    y_label = model.loss_fn, legend=['train', 'test'])\n",
    "acc = [ ckp['accuracy'] for ckp in checkpoints ]\n",
    "draw_plot(x = [[(i+1)*breakpoint for i in range(len(checkpoints))]], y_list = [acc], x_label = 'Checkpoints', \\\n",
    "    y_label = 'accuracy')"
   ]
  },
  {
   "cell_type": "code",
   "execution_count": 12,
   "metadata": {},
   "outputs": [
    {
     "name": "stdout",
     "output_type": "stream",
     "text": [
      "{'accuracy': 0.9506172839506173, 'mean_square_error': 0.12572590219248617, 'categorical_crossentropy': 0.22585037019517687, 'essential_metrics': {0: {'tp_hit': 78, 'fp_hit': 8, 'tn_hit': 22, 'fn_hit': 0}, 1: {'tp_hit': 14, 'fp_hit': 0, 'tn_hit': 92, 'fn_hit': 2}, 2: {'tp_hit': 8, 'fp_hit': 0, 'tn_hit': 94, 'fn_hit': 6}}, 'checkpoint': 100} \n",
      "\n",
      "\n",
      "{'accuracy': 0.9506172839506173, 'mean_square_error': 0.08908334311401528, 'categorical_crossentropy': 0.14235516830726905, 'essential_metrics': {0: {'tp_hit': 74, 'fp_hit': 4, 'tn_hit': 26, 'fn_hit': 4}, 1: {'tp_hit': 15, 'fp_hit': 2, 'tn_hit': 90, 'fn_hit': 1}, 2: {'tp_hit': 11, 'fp_hit': 2, 'tn_hit': 92, 'fn_hit': 3}}, 'checkpoint': 200} \n",
      "\n",
      "\n",
      "{'accuracy': 0.9567901234567902, 'mean_square_error': 0.07983619340320268, 'categorical_crossentropy': 0.12404418874669958, 'essential_metrics': {0: {'tp_hit': 73, 'fp_hit': 2, 'tn_hit': 28, 'fn_hit': 5}, 1: {'tp_hit': 16, 'fp_hit': 3, 'tn_hit': 89, 'fn_hit': 0}, 2: {'tp_hit': 12, 'fp_hit': 2, 'tn_hit': 92, 'fn_hit': 2}}, 'checkpoint': 300} \n",
      "\n",
      "\n",
      "{'accuracy': 0.9506172839506173, 'mean_square_error': 0.0806667842076241, 'categorical_crossentropy': 0.1240642335679796, 'essential_metrics': {0: {'tp_hit': 73, 'fp_hit': 3, 'tn_hit': 27, 'fn_hit': 5}, 1: {'tp_hit': 16, 'fp_hit': 3, 'tn_hit': 89, 'fn_hit': 0}, 2: {'tp_hit': 11, 'fp_hit': 2, 'tn_hit': 92, 'fn_hit': 3}}, 'checkpoint': 400} \n",
      "\n",
      "\n",
      "{'accuracy': 0.9506172839506173, 'mean_square_error': 0.08304567436428016, 'categorical_crossentropy': 0.12721616250497322, 'essential_metrics': {0: {'tp_hit': 73, 'fp_hit': 3, 'tn_hit': 27, 'fn_hit': 5}, 1: {'tp_hit': 16, 'fp_hit': 3, 'tn_hit': 89, 'fn_hit': 0}, 2: {'tp_hit': 11, 'fp_hit': 2, 'tn_hit': 92, 'fn_hit': 3}}, 'checkpoint': 500} \n",
      "\n",
      "\n"
     ]
    }
   ],
   "source": [
    "for checkpoint in checkpoints:\n",
    "    print(checkpoint, '\\n\\n')"
   ]
  },
  {
   "cell_type": "code",
   "execution_count": 13,
   "metadata": {},
   "outputs": [
    {
     "name": "stdout",
     "output_type": "stream",
     "text": [
      "Layer 1\n",
      "Neuron 0: weights:\n",
      "[ 0.55924    -3.         -2.057419    0.39981642  3.        ]\n",
      " bias: -3.0\n",
      "\n",
      "Neuron 1: weights:\n",
      "[-1.9569706  3.         3.        -1.2665484 -1.3225987]\n",
      " bias: -3.0\n",
      "\n",
      "Neuron 2: weights:\n",
      "[ 2.0802774 -3.        -3.         0.4118599  1.6384853]\n",
      " bias: 3.0\n",
      "\n",
      "Neuron 3: weights:\n",
      "[-0.9005153 -3.         3.         3.         3.       ]\n",
      " bias: -1.219558596611023\n",
      "\n",
      "$\n",
      "Layer 2\n",
      "Neuron 0: weights:\n",
      "[-3. -3.  3. -3.]\n",
      " bias: 3.0\n",
      "\n",
      "Neuron 1: weights:\n",
      "[-3.         3.        -3.        -1.6316789]\n",
      " bias: 2.0217761993408203\n",
      "\n",
      "Neuron 2: weights:\n",
      "[ 3.        -3.         1.8163463  3.       ]\n",
      " bias: -3.0\n",
      "\n",
      "$\n",
      "\n"
     ]
    }
   ],
   "source": [
    "print(model)"
   ]
  }
 ],
 "metadata": {
  "kernelspec": {
   "display_name": "Python 3",
   "language": "python",
   "name": "python3"
  },
  "language_info": {
   "codemirror_mode": {
    "name": "ipython",
    "version": 3
   },
   "file_extension": ".py",
   "mimetype": "text/x-python",
   "name": "python",
   "nbconvert_exporter": "python",
   "pygments_lexer": "ipython3",
   "version": "3.6.10"
  }
 },
 "nbformat": 4,
 "nbformat_minor": 2
}
