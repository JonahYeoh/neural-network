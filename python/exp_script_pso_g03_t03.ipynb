{
 "cells": [
  {
   "cell_type": "code",
   "execution_count": 1,
   "metadata": {},
   "outputs": [],
   "source": [
    "# dependency\n",
    "import numpy as np\n",
    "import pandas as pd\n",
    "import copy\n",
    "import math\n",
    "import sys\n",
    "import os\n",
    "from activations import relu, leaky_relu, sigmoid, tanh, softmax, d_sigmoid, d_relu\n",
    "from initializers import glorot_uniform, random_normal, random_uniform\n",
    "from regularizers import l1_regularizer, l2_regularizer\n",
    "from utility import trim_tail, multiply, subtract, get_nparams, one_hot_encoding, get_data\n",
    "from metrics import MSE, CCE, ACC, PRECISION, RECALL, essential_metrics, wondering_penalty, close_gap_penalty\n",
    "from pso import PSO\n",
    "from ga import GA\n",
    "from nn import Network\n",
    "from layer import DenseLayer\n",
    "from scalers import MinMaxScaler, StandardScaler"
   ]
  },
  {
   "cell_type": "code",
   "execution_count": 2,
   "metadata": {},
   "outputs": [],
   "source": [
    "# reference\n",
    "metrics_fn_dict = dict()\n",
    "metrics_fn_dict['accuracy'] = ACC\n",
    "metrics_fn_dict['categorical_crossentropy'] = CCE\n",
    "metrics_fn_dict['mean_square_error'] = MSE\n",
    "metrics_fn_dict['precision'] = PRECISION\n",
    "metrics_fn_dict['recall'] = RECALL\n",
    "metrics_fn_dict['essential_metrics'] = essential_metrics"
   ]
  },
  {
   "cell_type": "code",
   "execution_count": 3,
   "metadata": {},
   "outputs": [],
   "source": [
    "# model\n",
    "model = Network(5, lr = None)\n",
    "model.add_layer(DenseLayer(1, 4, True, afn=sigmoid, dafn=None, rfn=None))\n",
    "model.add_layer(DenseLayer(2, 3, True, afn=softmax, dafn=None, rfn=None))"
   ]
  },
  {
   "cell_type": "code",
   "execution_count": 4,
   "metadata": {},
   "outputs": [
    {
     "name": "stdout",
     "output_type": "stream",
     "text": [
      "see one see two 2 2\n"
     ]
    }
   ],
   "source": [
    "pso = PSO(dict(m = 50,\n",
    "    weight_constraint = [-3, 3], \n",
    "    velocity_constraint = [-0.1, 0.1],\n",
    "    c1 = 2,\n",
    "    c2 = 2,\n",
    "    w = 1,\n",
    "    w_decay = 1,\n",
    "    scale_hyperparameter = False,\n",
    "    regularizer = l1_regularizer,\n",
    "    mask = True))"
   ]
  },
  {
   "cell_type": "code",
   "execution_count": 5,
   "metadata": {},
   "outputs": [
    {
     "name": "stdout",
     "output_type": "stream",
     "text": [
      "building layer 1 with 5\n",
      "24\n",
      "building layer 2 with 4\n",
      "15\n"
     ]
    }
   ],
   "source": [
    "model.compile(loss_fn = 'categorical_crossentropy', optimizer = pso, \\\n",
    "    metrics = ['accuracy', 'mean_square_error', 'categorical_crossentropy'])"
   ]
  },
  {
   "cell_type": "code",
   "execution_count": 6,
   "metadata": {},
   "outputs": [
    {
     "name": "stdout",
     "output_type": "stream",
     "text": [
      "<class 'pandas.core.frame.DataFrame'>\n",
      "RangeIndex: 107 entries, 0 to 106\n",
      "Data columns (total 6 columns):\n",
      " #   Column  Non-Null Count  Dtype  \n",
      "---  ------  --------------  -----  \n",
      " 0   f1      107 non-null    float32\n",
      " 1   f2      107 non-null    float32\n",
      " 2   f3      107 non-null    float32\n",
      " 3   f4      107 non-null    float32\n",
      " 4   f5      107 non-null    float32\n",
      " 5   label   107 non-null    float32\n",
      "dtypes: float32(6)\n",
      "memory usage: 2.6 KB\n",
      "None\n",
      "<class 'pandas.core.frame.DataFrame'>\n",
      "RangeIndex: 108 entries, 0 to 107\n",
      "Data columns (total 6 columns):\n",
      " #   Column  Non-Null Count  Dtype  \n",
      "---  ------  --------------  -----  \n",
      " 0   f1      108 non-null    float32\n",
      " 1   f2      108 non-null    float32\n",
      " 2   f3      108 non-null    float32\n",
      " 3   f4      108 non-null    float32\n",
      " 4   f5      108 non-null    float32\n",
      " 5   label   108 non-null    float32\n",
      "dtypes: float32(6)\n",
      "memory usage: 2.7 KB\n",
      "None\n"
     ]
    }
   ],
   "source": [
    "# data loading\n",
    "DATA = os.path.join('c:\\\\Users\\\\tcumi\\\\github_repo\\\\neural-network\\\\', 'dataset')\n",
    "GROUP = 3\n",
    "COLUMNS = ['f1', 'f2', 'f3', 'f4', 'f5', 'label']\n",
    "N_CLASS = 3\n",
    "EPOCHS = 500\n",
    "train_dir, test_dir = \"..//dataset//training_data{}.txt\".format(GROUP), \"..//dataset//testing_data{}.txt\".format(GROUP)\n",
    "train, test = get_data(DATA, train_dir, COLUMNS), get_data(DATA, test_dir, COLUMNS)\n",
    "# shuffle\n",
    "train, test = train.sample(frac=1), test.sample(frac=1)\n",
    "x_train, y_train = train.drop('label', axis=1), train['label']\n",
    "x_test, y_test = test.drop('label', axis=1), test['label']"
   ]
  },
  {
   "cell_type": "code",
   "execution_count": 7,
   "metadata": {},
   "outputs": [],
   "source": [
    "# data scaling and encoding\n",
    "scaler = StandardScaler(['f1', 'f2', 'f3', 'f4', 'f5'])\n",
    "scaler.fit(x_train)\n",
    "x_train = scaler.transform(x_train)\n",
    "x_test = scaler.transform(x_test)\n",
    "y_train = one_hot_encoding(y_train, N_CLASS)\n",
    "y_test = one_hot_encoding(y_test, N_CLASS)"
   ]
  },
  {
   "cell_type": "code",
   "execution_count": 8,
   "metadata": {
    "tags": [
     "outputPrepend"
    ]
   },
   "outputs": [
    {
     "name": "stdout",
     "output_type": "stream",
     "text": [
      "Checkpoint 100, Accuracy: 0.8950617283950617, Loss: 0.4057516168665003\n",
      "Checkpoint 200, Accuracy: 0.9444444444444444, Loss: 0.20793944818002205\n",
      "Checkpoint 300, Accuracy: 0.9567901234567902, Loss: 0.18401525638721608\n",
      "Checkpoint 400, Accuracy: 0.9629629629629629, Loss: 0.18198652620668765\n",
      "Checkpoint 500, Accuracy: 0.9629629629629629, Loss: 0.17436636818779838\n"
     ]
    }
   ],
   "source": [
    "# learning phase\n",
    "breakpoint = 100\n",
    "checkpoints = list()\n",
    "history = list()\n",
    "for century in range(0, EPOCHS, breakpoint):\n",
    "    sub_history = model.fit(x_train, y_train, breakpoint, verbose = 0)\n",
    "    score = model.evaluate(x_test, y_test, False, verbose = 0)\n",
    "    print('Checkpoint {}, Accuracy: {}, Loss: {}'.format(century+breakpoint, score['accuracy'], score[model.loss_fn]))\n",
    "    score['checkpoint'] = century + breakpoint\n",
    "    checkpoints.append(score)\n",
    "    history.extend(sub_history)"
   ]
  },
  {
   "cell_type": "code",
   "execution_count": 9,
   "metadata": {},
   "outputs": [],
   "source": [
    "import matplotlib.pyplot as plt\n",
    "\n",
    "def draw_plot(x, y_list, x_label=None, y_label=None, legend=None, title=None):\n",
    "    fig, ax = plt.subplots(figsize=(12,5))\n",
    "    for xi, yi in zip(x, y_list):\n",
    "        ax.plot(xi, yi)\n",
    "    if x_label is not None and y_label is not None:\n",
    "        ax.set(xlabel=x_label, ylabel=y_label, title='{} VS {}'.format(x_label, y_label))\n",
    "    if legend is not None:\n",
    "        ax.legend(legend)\n",
    "    ax.grid()\n",
    "    plt.show()"
   ]
  },
  {
   "cell_type": "code",
   "execution_count": 10,
   "metadata": {},
   "outputs": [
    {
     "name": "stdout",
     "output_type": "stream",
     "text": [
      "[1. 0. 0.] <-> [0.96233666 0.02024032 0.01742302]\n",
      "[1. 0. 0.] <-> [0.85125005 0.12611598 0.02263395]\n",
      "[1. 0. 0.] <-> [0.95836794 0.02159449 0.02003758]\n",
      "[1. 0. 0.] <-> [0.7717378  0.22059189 0.00767026]\n",
      "[0. 1. 0.] <-> [0.01374774 0.9817339  0.00451838]\n",
      "[0. 1. 0.] <-> [0.02939784 0.96721286 0.00338931]\n",
      "[0. 0. 1.] <-> [0.05203791 0.00259219 0.94536984]\n",
      "[1. 0. 0.] <-> [0.96611184 0.02235368 0.01153447]\n",
      "[1. 0. 0.] <-> [0.8579751  0.01453595 0.12748896]\n",
      "[0. 1. 0.] <-> [0.25077686 0.7439494  0.00527366]\n",
      "[1. 0. 0.] <-> [0.95928556 0.01208534 0.02862904]\n",
      "[1. 0. 0.] <-> [0.67160994 0.01246358 0.31592646]\n",
      "[1. 0. 0.] <-> [0.9296714  0.00794881 0.06237975]\n",
      "[1. 0. 0.] <-> [0.94897556 0.02017886 0.03084564]\n",
      "[1. 0. 0.] <-> [0.9628083  0.0167797  0.02041191]\n",
      "[0. 1. 0.] <-> [0.06958918 0.9230255  0.00738534]\n",
      "[1. 0. 0.] <-> [0.9702553  0.02423444 0.00551035]\n",
      "[1. 0. 0.] <-> [0.9540243  0.02775253 0.01822316]\n",
      "[1. 0. 0.] <-> [0.9150245  0.02658837 0.05838716]\n",
      "[0. 0. 1.] <-> [0.21158284 0.00512569 0.78329146]\n",
      "[0. 0. 1.] <-> [0.5595412  0.00523249 0.4352263 ]\n",
      "[1. 0. 0.] <-> [0.92966837 0.04057153 0.02976004]\n",
      "[1. 0. 0.] <-> [0.9077927  0.06887428 0.02333304]\n",
      "[1. 0. 0.] <-> [0.9564568  0.01305383 0.03048935]\n",
      "[1. 0. 0.] <-> [0.9758001  0.00941681 0.01478304]\n",
      "[1. 0. 0.] <-> [0.9637317  0.00795825 0.02831008]\n",
      "[0. 1. 0.] <-> [0.17937015 0.8161882  0.00444159]\n",
      "[1. 0. 0.] <-> [0.962029   0.02568042 0.01229058]\n",
      "[1. 0. 0.] <-> [0.97140896 0.01292473 0.01566627]\n",
      "[1. 0. 0.] <-> [0.7369314  0.23711142 0.02595721]\n",
      "[0. 1. 0.] <-> [0.03292886 0.96231526 0.00475598]\n",
      "[1. 0. 0.] <-> [0.9573855  0.02389285 0.01872168]\n",
      "[1. 0. 0.] <-> [0.8937698  0.01222427 0.0940059 ]\n",
      "[1. 0. 0.] <-> [0.88943344 0.09074745 0.0198191 ]\n",
      "[1. 0. 0.] <-> [0.8637411  0.12362339 0.01263544]\n",
      "[1. 0. 0.] <-> [0.9502783  0.04175516 0.00796651]\n",
      "[1. 0. 0.] <-> [0.9386838  0.03386808 0.02744814]\n",
      "[1. 0. 0.] <-> [0.9775835  0.01131682 0.01109972]\n",
      "[0. 1. 0.] <-> [0.02151739 0.9740907  0.00439189]\n",
      "[0. 0. 1.] <-> [0.25094762 0.00482312 0.7442292 ]\n",
      "[1. 0. 0.] <-> [0.97729695 0.01185441 0.01084867]\n",
      "[0. 0. 1.] <-> [0.851374   0.00629206 0.14233392]\n",
      "[1. 0. 0.] <-> [0.97571725 0.01727011 0.00701259]\n",
      "[0. 1. 0.] <-> [0.4234517  0.57046366 0.00608472]\n",
      "[1. 0. 0.] <-> [0.5072861  0.00851597 0.48419797]\n",
      "[0. 0. 1.] <-> [0.02705457 0.00179052 0.9711549 ]\n",
      "[1. 0. 0.] <-> [0.31937462 0.67087716 0.0097482 ]\n",
      "[0. 1. 0.] <-> [0.2166766 0.7727659 0.0105575]\n",
      "[1. 0. 0.] <-> [0.9361807  0.00744712 0.05637216]\n",
      "[1. 0. 0.] <-> [0.9347697  0.02179675 0.04343351]\n",
      "[1. 0. 0.] <-> [0.8457502  0.01569614 0.13855366]\n",
      "[1. 0. 0.] <-> [0.95380986 0.01504167 0.03114844]\n",
      "[1. 0. 0.] <-> [0.9482491  0.01609189 0.03565898]\n",
      "[1. 0. 0.] <-> [0.92994696 0.04830351 0.02174953]\n",
      "[1. 0. 0.] <-> [0.9592485  0.00909503 0.03165646]\n",
      "[1. 0. 0.] <-> [0.68014526 0.165508   0.15434669]\n",
      "[0. 0. 1.] <-> [0.5621074  0.00622679 0.4316659 ]\n",
      "[0. 0. 1.] <-> [0.16312878 0.00440885 0.8324623 ]\n",
      "[1. 0. 0.] <-> [0.9692681 0.0257624 0.0049695]\n",
      "[1. 0. 0.] <-> [0.95661056 0.01625569 0.02713376]\n",
      "[0. 0. 1.] <-> [0.02634214 0.00164822 0.9720096 ]\n",
      "[0. 1. 0.] <-> [0.15183884 0.83499974 0.01316147]\n",
      "[0. 1. 0.] <-> [0.02820822 0.9669717  0.00482008]\n",
      "[1. 0. 0.] <-> [0.97591543 0.01712984 0.00695467]\n",
      "[1. 0. 0.] <-> [0.9743421  0.01238005 0.01327787]\n",
      "[1. 0. 0.] <-> [0.73022735 0.01166621 0.25810647]\n",
      "[1. 0. 0.] <-> [0.96356165 0.02800852 0.0084297 ]\n",
      "[0. 0. 1.] <-> [0.10647021 0.00272148 0.8908083 ]\n",
      "[0. 0. 1.] <-> [0.15101889 0.00359685 0.8453843 ]\n",
      "[1. 0. 0.] <-> [0.96810037 0.01389986 0.01799969]\n",
      "[0. 1. 0.] <-> [0.01856871 0.97743064 0.00400068]\n",
      "[0. 0. 1.] <-> [0.02833   0.0017307 0.9699393]\n",
      "[1. 0. 0.] <-> [0.6510941  0.3344411  0.01446482]\n",
      "[1. 0. 0.] <-> [0.9699896  0.01787629 0.01213406]\n",
      "[1. 0. 0.] <-> [0.89401907 0.03023712 0.07574376]\n",
      "[1. 0. 0.] <-> [0.9430908  0.0451415  0.01176766]\n",
      "[0. 1. 0.] <-> [0.19294393 0.80357856 0.00347754]\n",
      "[1. 0. 0.] <-> [0.95310146 0.00827481 0.03862371]\n",
      "[1. 0. 0.] <-> [0.94162    0.00866851 0.04971151]\n",
      "[1. 0. 0.] <-> [0.42692602 0.5587682  0.01430578]\n",
      "[1. 0. 0.] <-> [0.95136243 0.03925113 0.00938633]\n",
      "[1. 0. 0.] <-> [0.93136305 0.05463651 0.01400045]\n",
      "[1. 0. 0.] <-> [0.9717083  0.01524761 0.01304409]\n",
      "[0. 0. 1.] <-> [0.36321592 0.00485265 0.6319314 ]\n",
      "[1. 0. 0.] <-> [0.9127505  0.01668037 0.07056905]\n",
      "[1. 0. 0.] <-> [0.95634    0.03364229 0.01001766]\n",
      "[1. 0. 0.] <-> [0.934627   0.01235041 0.05302266]\n",
      "[0. 0. 1.] <-> [0.78968066 0.00839543 0.20192386]\n",
      "[1. 0. 0.] <-> [0.9636452  0.02643402 0.00992079]\n",
      "[0. 1. 0.] <-> [0.07055756 0.92566025 0.00378217]\n",
      "[1. 0. 0.] <-> [0.9617422  0.02913637 0.00912144]\n",
      "[1. 0. 0.] <-> [0.8105471  0.16669744 0.02275548]\n",
      "[1. 0. 0.] <-> [0.9727472  0.01460663 0.01264617]\n",
      "[1. 0. 0.] <-> [0.62361693 0.34100544 0.03537764]\n",
      "[1. 0. 0.] <-> [0.97595245 0.01008826 0.01395928]\n",
      "[1. 0. 0.] <-> [0.96271175 0.02518915 0.01209915]\n",
      "[1. 0. 0.] <-> [0.8394928  0.06110254 0.09940474]\n",
      "[1. 0. 0.] <-> [0.97477925 0.01377859 0.01144218]\n",
      "[1. 0. 0.] <-> [0.9721306  0.01207677 0.01579258]\n",
      "[0. 1. 0.] <-> [0.01464303 0.9804968  0.00486015]\n",
      "[1. 0. 0.] <-> [0.93530464 0.05706052 0.00763492]\n",
      "[1. 0. 0.] <-> [0.8924542  0.09489837 0.01264743]\n",
      "[1. 0. 0.] <-> [0.86634535 0.00806993 0.12558478]\n",
      "[1. 0. 0.] <-> [0.9641537  0.0249105  0.01093565]\n",
      "[0. 1. 0.] <-> [0.04361159 0.95084584 0.0055426 ]\n",
      "[1. 0. 0.] <-> [0.6268635  0.34480828 0.02832828]\n",
      "[1. 0. 0.] <-> [0.95410746 0.00796063 0.03793192]\n",
      "[1. 0. 0.] <-> [0.95385975 0.01069054 0.03544967]\n",
      "{'accuracy': 0.9629629629629629, 'mean_square_error': 0.08817189736986185, 'categorical_crossentropy': 0.17436636818779838, 'essential_metrics': {0: {'tp_hit': 76, 'fp_hit': 4, 'tn_hit': 26, 'fn_hit': 2}, 1: {'tp_hit': 16, 'fp_hit': 2, 'tn_hit': 90, 'fn_hit': 0}, 2: {'tp_hit': 10, 'fp_hit': 0, 'tn_hit': 94, 'fn_hit': 4}}}\n"
     ]
    }
   ],
   "source": [
    "# recall phase\n",
    "score = model.evaluate(x_test, y_test, False)\n",
    "print(score)"
   ]
  },
  {
   "cell_type": "code",
   "execution_count": 11,
   "metadata": {},
   "outputs": [
    {
     "data": {
      "image/png": "[encoded data removed]",
      "text/plain": [
       "<Figure size 864x360 with 1 Axes>"
      ]
     },
     "metadata": {
      "needs_background": "light"
     },
     "output_type": "display_data"
    },
    {
     "data": {
      "image/png": "[encoded data removed]",
      "text/plain": [
       "<Figure size 864x360 with 1 Axes>"
      ]
     },
     "metadata": {
      "needs_background": "light"
     },
     "output_type": "display_data"
    }
   ],
   "source": [
    "draw_plot(x = [[i for i in range(len(history))], [(i+1)*breakpoint for i in range(len(checkpoints))]], y_list = [history, [ ckp[model.loss_fn] for ckp in checkpoints ]], x_label = 'Epochs', \\\n",
    "    y_label = model.loss_fn, legend=['train', 'test'])\n",
    "acc = [ ckp['accuracy'] for ckp in checkpoints ]\n",
    "draw_plot(x = [[(i+1)*breakpoint for i in range(len(checkpoints))]], y_list = [acc], x_label = 'Checkpoints', \\\n",
    "    y_label = 'accuracy')"
   ]
  },
  {
   "cell_type": "code",
   "execution_count": 12,
   "metadata": {},
   "outputs": [
    {
     "name": "stdout",
     "output_type": "stream",
     "text": [
      "{'accuracy': 0.8950617283950617, 'mean_square_error': 0.2172236800000968, 'categorical_crossentropy': 0.4057516168665003, 'essential_metrics': {0: {'tp_hit': 78, 'fp_hit': 17, 'tn_hit': 13, 'fn_hit': 0}, 1: {'tp_hit': 10, 'fp_hit': 0, 'tn_hit': 92, 'fn_hit': 6}, 2: {'tp_hit': 3, 'fp_hit': 0, 'tn_hit': 94, 'fn_hit': 11}}, 'checkpoint': 100} \n",
      "\n",
      "\n",
      "{'accuracy': 0.9444444444444444, 'mean_square_error': 0.10924907413423356, 'categorical_crossentropy': 0.20793944818002205, 'essential_metrics': {0: {'tp_hit': 76, 'fp_hit': 7, 'tn_hit': 23, 'fn_hit': 2}, 1: {'tp_hit': 14, 'fp_hit': 2, 'tn_hit': 90, 'fn_hit': 2}, 2: {'tp_hit': 9, 'fp_hit': 0, 'tn_hit': 94, 'fn_hit': 5}}, 'checkpoint': 200} \n",
      "\n",
      "\n",
      "{'accuracy': 0.9567901234567902, 'mean_square_error': 0.09312555476627539, 'categorical_crossentropy': 0.18401525638721608, 'essential_metrics': {0: {'tp_hit': 75, 'fp_hit': 4, 'tn_hit': 26, 'fn_hit': 3}, 1: {'tp_hit': 16, 'fp_hit': 2, 'tn_hit': 90, 'fn_hit': 0}, 2: {'tp_hit': 10, 'fp_hit': 1, 'tn_hit': 93, 'fn_hit': 4}}, 'checkpoint': 300} \n",
      "\n",
      "\n",
      "{'accuracy': 0.9629629629629629, 'mean_square_error': 0.09417315717531044, 'categorical_crossentropy': 0.18198652620668765, 'essential_metrics': {0: {'tp_hit': 76, 'fp_hit': 4, 'tn_hit': 26, 'fn_hit': 2}, 1: {'tp_hit': 16, 'fp_hit': 2, 'tn_hit': 90, 'fn_hit': 0}, 2: {'tp_hit': 10, 'fp_hit': 0, 'tn_hit': 94, 'fn_hit': 4}}, 'checkpoint': 400} \n",
      "\n",
      "\n",
      "{'accuracy': 0.9629629629629629, 'mean_square_error': 0.08817189736986185, 'categorical_crossentropy': 0.17436636818779838, 'essential_metrics': {0: {'tp_hit': 76, 'fp_hit': 4, 'tn_hit': 26, 'fn_hit': 2}, 1: {'tp_hit': 16, 'fp_hit': 2, 'tn_hit': 90, 'fn_hit': 0}, 2: {'tp_hit': 10, 'fp_hit': 0, 'tn_hit': 94, 'fn_hit': 4}}, 'checkpoint': 500} \n",
      "\n",
      "\n"
     ]
    }
   ],
   "source": [
    "for checkpoint in checkpoints:\n",
    "    print(checkpoint, '\\n\\n')"
   ]
  },
  {
   "cell_type": "code",
   "execution_count": 13,
   "metadata": {},
   "outputs": [
    {
     "name": "stdout",
     "output_type": "stream",
     "text": [
      "Layer 1\n",
      "Neuron 0: weights:\n",
      "[-0.20857847  1.2491711   0.01449978  0.03169393 -1.420224  ]\n",
      " bias: 0.047901254147291183\n",
      "\n",
      "Neuron 1: weights:\n",
      "[ 1.4925045  -2.5373595  -2.291174   -0.09750564 -0.0604957 ]\n",
      " bias: 1.6055210828781128\n",
      "\n",
      "Neuron 2: weights:\n",
      "[ 0.00864202  0.0254225  -1.0103998  -1.4401332  -0.6033616 ]\n",
      " bias: 0.028224337846040726\n",
      "\n",
      "Neuron 3: weights:\n",
      "[-0.05950243 -1.7772706   0.02440612  0.7527363   1.3289201 ]\n",
      " bias: -0.9780200123786926\n",
      "\n",
      "$\n",
      "Layer 2\n",
      "Neuron 0: weights:\n",
      "[-0.20943686  3.          3.         -1.5863358 ]\n",
      " bias: -1.9255521297454834\n",
      "\n",
      "Neuron 1: weights:\n",
      "[ 2.1819453  -3.          0.06181969 -0.40158504]\n",
      " bias: 0.16186301410198212\n",
      "\n",
      "Neuron 2: weights:\n",
      "[-3.          0.17321658 -0.9304459   3.        ]\n",
      " bias: -0.006942063570022583\n",
      "\n",
      "$\n",
      "\n"
     ]
    }
   ],
   "source": [
    "print(model)"
   ]
  }
 ],
 "metadata": {
  "kernelspec": {
   "display_name": "Python 3",
   "language": "python",
   "name": "python3"
  },
  "language_info": {
   "codemirror_mode": {
    "name": "ipython",
    "version": 3
   },
   "file_extension": ".py",
   "mimetype": "text/x-python",
   "name": "python",
   "nbconvert_exporter": "python",
   "pygments_lexer": "ipython3",
   "version": "3.6.10"
  }
 },
 "nbformat": 4,
 "nbformat_minor": 2
}
