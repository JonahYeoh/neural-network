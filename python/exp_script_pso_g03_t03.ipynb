{
 "cells": [
  {
   "cell_type": "code",
   "execution_count": 1,
   "metadata": {},
   "outputs": [],
   "source": [
    "# dependency\n",
    "import numpy as np\n",
    "import pandas as pd\n",
    "import copy\n",
    "import math\n",
    "import sys\n",
    "import os\n",
    "from activations import relu, leaky_relu, sigmoid, tanh, softmax, d_sigmoid, d_relu\n",
    "from initializers import glorot_uniform, random_normal, random_uniform\n",
    "from regularizers import l1_regularizer, l2_regularizer\n",
    "from utility import trim_tail, multiply, subtract, get_nparams, one_hot_encoding, get_data\n",
    "from metrics import MSE, CCE, ACC, PRECISION, RECALL, essential_metrics, wondering_penalty, close_gap_penalty\n",
    "from pso import PSO\n",
    "from ga import GA\n",
    "from nn import Network\n",
    "from layer import DenseLayer\n",
    "from scalers import MinMaxScaler, StandardScaler"
   ]
  },
  {
   "cell_type": "code",
   "execution_count": 2,
   "metadata": {},
   "outputs": [],
   "source": [
    "# reference\n",
    "metrics_fn_dict = dict()\n",
    "metrics_fn_dict['accuracy'] = ACC\n",
    "metrics_fn_dict['categorical_crossentropy'] = CCE\n",
    "metrics_fn_dict['mean_square_error'] = MSE\n",
    "metrics_fn_dict['precision'] = PRECISION\n",
    "metrics_fn_dict['recall'] = RECALL\n",
    "metrics_fn_dict['essential_metrics'] = essential_metrics"
   ]
  },
  {
   "cell_type": "code",
   "execution_count": 3,
   "metadata": {},
   "outputs": [],
   "source": [
    "# model\n",
    "model = Network(5, lr = None)\n",
    "model.add_layer(DenseLayer(1, 4, True, afn=sigmoid, dafn=None, rfn=None))\n",
    "model.add_layer(DenseLayer(2, 3, True, afn=softmax, dafn=None, rfn=None))"
   ]
  },
  {
   "cell_type": "code",
   "execution_count": 4,
   "metadata": {},
   "outputs": [],
   "source": [
    "pso = PSO(dict(m = 50,\n",
    "    weight_constraint = [-3, 3], \n",
    "    velocity_constraint = [-0.5, 0.5],\n",
    "    c1 = 2.0,\n",
    "    c2 = 2.0,\n",
    "    w = 1.2,\n",
    "    w_decay = 0.95,\n",
    "    scale_hyperparameter = False))"
   ]
  },
  {
   "cell_type": "code",
   "execution_count": 5,
   "metadata": {},
   "outputs": [
    {
     "name": "stdout",
     "output_type": "stream",
     "text": [
      "building layer 1 with 5\n",
      "24\n",
      "building layer 2 with 4\n",
      "15\n"
     ]
    }
   ],
   "source": [
    "model.compile(loss_fn = 'categorical_crossentropy', optimizer = pso, \\\n",
    "    metrics = ['accuracy', 'mean_square_error', 'categorical_crossentropy', 'precision', 'recall', 'f1'])"
   ]
  },
  {
   "cell_type": "code",
   "execution_count": 6,
   "metadata": {},
   "outputs": [
    {
     "name": "stdout",
     "output_type": "stream",
     "text": [
      "<class 'pandas.core.frame.DataFrame'>\n",
      "RangeIndex: 107 entries, 0 to 106\n",
      "Data columns (total 6 columns):\n",
      " #   Column  Non-Null Count  Dtype  \n",
      "---  ------  --------------  -----  \n",
      " 0   f1      107 non-null    float32\n",
      " 1   f2      107 non-null    float32\n",
      " 2   f3      107 non-null    float32\n",
      " 3   f4      107 non-null    float32\n",
      " 4   f5      107 non-null    float32\n",
      " 5   label   107 non-null    float32\n",
      "dtypes: float32(6)\n",
      "memory usage: 2.6 KB\n",
      "None\n",
      "<class 'pandas.core.frame.DataFrame'>\n",
      "RangeIndex: 108 entries, 0 to 107\n",
      "Data columns (total 6 columns):\n",
      " #   Column  Non-Null Count  Dtype  \n",
      "---  ------  --------------  -----  \n",
      " 0   f1      108 non-null    float32\n",
      " 1   f2      108 non-null    float32\n",
      " 2   f3      108 non-null    float32\n",
      " 3   f4      108 non-null    float32\n",
      " 4   f5      108 non-null    float32\n",
      " 5   label   108 non-null    float32\n",
      "dtypes: float32(6)\n",
      "memory usage: 2.7 KB\n",
      "None\n"
     ]
    }
   ],
   "source": [
    "# data loading\n",
    "DATA = os.path.join('c:\\\\Users\\\\tcumi\\\\github_repo\\\\neural-network\\\\', 'dataset')\n",
    "GROUP = 3\n",
    "COLUMNS = ['f1', 'f2', 'f3', 'f4', 'f5', 'label']\n",
    "N_CLASS = 3\n",
    "EPOCHS = 500\n",
    "train_dir, test_dir = \"..//dataset//training_data{}.txt\".format(GROUP), \"..//dataset//testing_data{}.txt\".format(GROUP)\n",
    "train, test = get_data(DATA, train_dir, COLUMNS), get_data(DATA, test_dir, COLUMNS)\n",
    "# shuffle\n",
    "train, test = train.sample(frac=1), test.sample(frac=1)\n",
    "x_train, y_train = train.drop('label', axis=1), train['label']\n",
    "x_test, y_test = test.drop('label', axis=1), test['label']"
   ]
  },
  {
   "cell_type": "code",
   "execution_count": 7,
   "metadata": {},
   "outputs": [],
   "source": [
    "# data scaling and encoding\n",
    "scaler = StandardScaler(['f1', 'f2', 'f3', 'f4', 'f5'])\n",
    "scaler.fit(x_train)\n",
    "x_train = scaler.transform(x_train)\n",
    "x_test = scaler.transform(x_test)\n",
    "y_train = one_hot_encoding(y_train, N_CLASS)\n",
    "y_test = one_hot_encoding(y_test, N_CLASS)"
   ]
  },
  {
   "cell_type": "code",
   "execution_count": 8,
   "metadata": {
    "tags": [
     "outputPrepend"
    ]
   },
   "outputs": [
    {
     "name": "stdout",
     "output_type": "stream",
     "text": [
      "Checkpoint 100, Accuracy: 0.8765432098765432, Loss: 0.695604818838614\n",
      "Checkpoint 200, Accuracy: 0.8765432098765432, Loss: 0.695604818838614\n",
      "Checkpoint 300, Accuracy: 0.8765432098765432, Loss: 0.695604818838614\n",
      "Checkpoint 400, Accuracy: 0.8765432098765432, Loss: 0.695604818838614\n",
      "Checkpoint 500, Accuracy: 0.8765432098765432, Loss: 0.695604818838614\n"
     ]
    }
   ],
   "source": [
    "# learning phase\n",
    "breakpoint = 100\n",
    "checkpoints = list()\n",
    "history = list()\n",
    "for century in range(0, EPOCHS, breakpoint):\n",
    "    sub_history = model.fit(x_train, y_train, breakpoint, verbose = 0)\n",
    "    score = model.evaluate(x_test, y_test, False, verbose = 0)\n",
    "    print('Checkpoint {}, Accuracy: {}, Loss: {}'.format(century+breakpoint, score['accuracy'], score[model.loss_fn]))\n",
    "    score['checkpoint'] = century + breakpoint\n",
    "    checkpoints.append(score)\n",
    "    history.extend(sub_history)"
   ]
  },
  {
   "cell_type": "code",
   "execution_count": 9,
   "metadata": {},
   "outputs": [],
   "source": [
    "import matplotlib.pyplot as plt\n",
    "\n",
    "def draw_plot(x, y_list, x_label=None, y_label=None, legend=None, title=None):\n",
    "    fig, ax = plt.subplots(figsize=(12,5))\n",
    "    for y in y_list:\n",
    "        ax.plot(x, y)\n",
    "    if x_label is not None and y_label is not None and title is not None:\n",
    "        ax.set(xlabel=x_label, ylabel=y_label, title=title)\n",
    "    if legend is not None:\n",
    "        ax.legend(legend)\n",
    "    ax.grid()\n",
    "    plt.show()"
   ]
  },
  {
   "cell_type": "code",
   "execution_count": 10,
   "metadata": {},
   "outputs": [
    {
     "data": {
      "image/png": "[encoded data removed]",
      "text/plain": [
       "<Figure size 864x360 with 1 Axes>"
      ]
     },
     "metadata": {
      "needs_background": "light"
     },
     "output_type": "display_data"
    }
   ],
   "source": [
    "draw_plot(x = [i for i in range(len(history))], y_list = [history], x_label = 'Epochs', \\\n",
    "    y_label = model.loss_fn)"
   ]
  },
  {
   "cell_type": "code",
   "execution_count": 11,
   "metadata": {},
   "outputs": [
    {
     "name": "stdout",
     "output_type": "stream",
     "text": [
      "[1. 0. 0.] <-> [9.7380877e-01 3.7717487e-04 2.5814069e-02]\n",
      "[1. 0. 0.] <-> [0.81906426 0.02952303 0.15141273]\n",
      "[0. 1. 0.] <-> [0.86932623 0.00197006 0.12870371]\n",
      "[1. 0. 0.] <-> [0.9589556  0.00183088 0.0392135 ]\n",
      "[1. 0. 0.] <-> [0.9371871  0.00506355 0.05774931]\n",
      "[1. 0. 0.] <-> [0.64109486 0.13209607 0.22680901]\n",
      "[1. 0. 0.] <-> [0.5624626  0.12960884 0.30792847]\n",
      "[0. 1. 0.] <-> [0.2348577  0.38572827 0.379414  ]\n",
      "[0. 1. 0.] <-> [0.84135646 0.00226911 0.15637441]\n",
      "[1. 0. 0.] <-> [9.5643353e-01 8.8010798e-04 4.2686373e-02]\n",
      "[1. 0. 0.] <-> [0.97377986 0.00219652 0.02402362]\n",
      "[1. 0. 0.] <-> [0.8530886  0.02367759 0.12323377]\n",
      "[1. 0. 0.] <-> [0.8020636 0.0027107 0.1952257]\n",
      "[1. 0. 0.] <-> [0.94110835 0.00396536 0.05492632]\n",
      "[1. 0. 0.] <-> [0.9202305  0.00936514 0.07040438]\n",
      "[1. 0. 0.] <-> [0.91784644 0.03409343 0.04806012]\n",
      "[1. 0. 0.] <-> [0.96748817 0.00112123 0.03139059]\n",
      "[1. 0. 0.] <-> [0.8629803  0.02531606 0.11170364]\n",
      "[0. 1. 0.] <-> [0.24023919 0.38138103 0.37837976]\n",
      "[1. 0. 0.] <-> [0.95419884 0.0011574  0.04464377]\n",
      "[1. 0. 0.] <-> [0.92547286 0.00113711 0.07338998]\n",
      "[0. 1. 0.] <-> [0.3540228  0.29971507 0.34626216]\n",
      "[0. 1. 0.] <-> [0.51108974 0.20235911 0.28655115]\n",
      "[1. 0. 0.] <-> [0.9313677  0.00420587 0.06442646]\n",
      "[1. 0. 0.] <-> [0.905192   0.00846552 0.0863425 ]\n",
      "[1. 0. 0.] <-> [0.9448746  0.0093614  0.04576393]\n",
      "[1. 0. 0.] <-> [9.7064465e-01 4.9940916e-04 2.8855953e-02]\n",
      "[1. 0. 0.] <-> [0.9685097  0.00325304 0.02823731]\n",
      "[1. 0. 0.] <-> [0.93586206 0.00261464 0.0615233 ]\n",
      "[1. 0. 0.] <-> [0.8604524  0.02260796 0.11693956]\n",
      "[1. 0. 0.] <-> [0.88380486 0.02639038 0.08980472]\n",
      "[0. 0. 1.] <-> [0.41239977 0.08042058 0.5071797 ]\n",
      "[0. 0. 1.] <-> [0.85056293 0.05479923 0.09463781]\n",
      "[1. 0. 0.] <-> [0.9477419  0.00141168 0.05084638]\n",
      "[1. 0. 0.] <-> [0.72925156 0.11113431 0.15961407]\n",
      "[1. 0. 0.] <-> [0.8438719  0.00617125 0.1499569 ]\n",
      "[1. 0. 0.] <-> [0.97081053 0.00257933 0.02661007]\n",
      "[1. 0. 0.] <-> [0.96414065 0.00251787 0.03334146]\n",
      "[0. 0. 1.] <-> [0.6285286  0.02213267 0.34933877]\n",
      "[1. 0. 0.] <-> [0.8984391  0.01409543 0.08746555]\n",
      "[1. 0. 0.] <-> [0.7774182  0.10754275 0.11503909]\n",
      "[0. 0. 1.] <-> [0.33226863 0.00927667 0.6584547 ]\n",
      "[1. 0. 0.] <-> [0.95849794 0.00490006 0.03660202]\n",
      "[0. 0. 1.] <-> [0.82149434 0.00609646 0.17240928]\n",
      "[0. 0. 1.] <-> [0.02262055 0.00858323 0.96879625]\n",
      "[1. 0. 0.] <-> [0.8968453  0.041634   0.06152076]\n",
      "[1. 0. 0.] <-> [0.6967374  0.14161512 0.16164748]\n",
      "[1. 0. 0.] <-> [9.7192061e-01 4.9959309e-04 2.7579825e-02]\n",
      "[1. 0. 0.] <-> [0.9469187  0.00106988 0.0520114 ]\n",
      "[1. 0. 0.] <-> [0.89033705 0.02294718 0.08671576]\n",
      "[1. 0. 0.] <-> [0.9543355  0.00114385 0.04452068]\n",
      "[1. 0. 0.] <-> [8.9445245e-01 6.9989543e-04 1.0484764e-01]\n",
      "[0. 0. 1.] <-> [0.72764367 0.00365124 0.26870516]\n",
      "[1. 0. 0.] <-> [0.9160826  0.02667196 0.05724544]\n",
      "[1. 0. 0.] <-> [0.62353814 0.09574551 0.28071636]\n",
      "[1. 0. 0.] <-> [0.96827143 0.00521072 0.02651788]\n",
      "[1. 0. 0.] <-> [0.9663839  0.00102402 0.0325921 ]\n",
      "[1. 0. 0.] <-> [0.93128043 0.02692711 0.04179242]\n",
      "[1. 0. 0.] <-> [0.7199702  0.10471559 0.17531408]\n",
      "[0. 1. 0.] <-> [0.25794062 0.3693583  0.37270108]\n",
      "[1. 0. 0.] <-> [0.97179157 0.001105   0.02710345]\n",
      "[1. 0. 0.] <-> [9.5383644e-01 5.5905693e-04 4.5604434e-02]\n",
      "[0. 1. 0.] <-> [9.5230013e-01 7.5077661e-04 4.6949189e-02]\n",
      "[1. 0. 0.] <-> [0.9411859  0.00137715 0.05743697]\n",
      "[1. 0. 0.] <-> [0.96808684 0.00169578 0.03021735]\n",
      "[1. 0. 0.] <-> [0.9476978  0.00194885 0.05035334]\n",
      "[1. 0. 0.] <-> [0.94957507 0.00810418 0.04232074]\n",
      "[0. 0. 1.] <-> [9.0070355e-01 5.9647777e-04 9.8699950e-02]\n",
      "[1. 0. 0.] <-> [0.96863604 0.00240852 0.02895552]\n",
      "[1. 0. 0.] <-> [0.6223834  0.18216757 0.19544902]\n",
      "[1. 0. 0.] <-> [0.94922405 0.00668283 0.04409316]\n",
      "[1. 0. 0.] <-> [0.4430488  0.23375429 0.3231969 ]\n",
      "[0. 0. 1.] <-> [0.96139765 0.00811438 0.03048803]\n",
      "[1. 0. 0.] <-> [0.7907284  0.05531812 0.15395352]\n",
      "[1. 0. 0.] <-> [0.9559581  0.00537875 0.03866316]\n",
      "[0. 0. 1.] <-> [0.04859118 0.10552902 0.84587985]\n",
      "[0. 1. 0.] <-> [0.83301866 0.00152145 0.16545989]\n",
      "[1. 0. 0.] <-> [0.9428733  0.01461334 0.04251334]\n",
      "[0. 0. 1.] <-> [0.79252476 0.02010245 0.18737276]\n",
      "[0. 1. 0.] <-> [0.22687769 0.3914629  0.38165948]\n",
      "[0. 1. 0.] <-> [0.43224472 0.25748423 0.31027108]\n",
      "[0. 1. 0.] <-> [0.7855019  0.01152472 0.2029734 ]\n",
      "[1. 0. 0.] <-> [0.89969337 0.02614358 0.07416297]\n",
      "[1. 0. 0.] <-> [0.9543341  0.0069096  0.03875639]\n",
      "[1. 0. 0.] <-> [0.8360453  0.00220285 0.16175175]\n",
      "[1. 0. 0.] <-> [0.9549992  0.01416977 0.030831  ]\n",
      "[1. 0. 0.] <-> [0.8694266  0.01154443 0.11902887]\n",
      "[1. 0. 0.] <-> [9.5805794e-01 6.0329464e-04 4.1338790e-02]\n",
      "[1. 0. 0.] <-> [0.9424356  0.00143654 0.05612779]\n",
      "[0. 1. 0.] <-> [0.22651376 0.3918308  0.38165545]\n",
      "[0. 1. 0.] <-> [0.7397191  0.00228587 0.25799507]\n",
      "[0. 0. 1.] <-> [0.02255487 0.00818208 0.969263  ]\n",
      "[1. 0. 0.] <-> [0.93413675 0.00920117 0.05666204]\n",
      "[1. 0. 0.] <-> [0.5822403  0.00624788 0.41151184]\n",
      "[1. 0. 0.] <-> [0.8061515  0.08487801 0.10897046]\n",
      "[0. 0. 1.] <-> [0.7589066  0.00301429 0.2380791 ]\n",
      "[1. 0. 0.] <-> [0.95635754 0.00277205 0.04087036]\n",
      "[1. 0. 0.] <-> [0.94283473 0.00674244 0.05042281]\n",
      "[1. 0. 0.] <-> [0.8398255  0.00792878 0.1522457 ]\n",
      "[1. 0. 0.] <-> [0.960926   0.00502288 0.03405118]\n",
      "[0. 0. 1.] <-> [0.45264977 0.12547386 0.42187637]\n",
      "[0. 1. 0.] <-> [0.31851462 0.31502345 0.3664619 ]\n",
      "[0. 1. 0.] <-> [0.23126762 0.3882381  0.38049424]\n",
      "[1. 0. 0.] <-> [0.97200453 0.00252269 0.0254728 ]\n",
      "[1. 0. 0.] <-> [0.9226036  0.0012622  0.07613429]\n",
      "[1. 0. 0.] <-> [0.8555319  0.01160147 0.13286664]\n",
      "[1. 0. 0.] <-> [0.9344965  0.0023491  0.06315441]\n",
      "[1. 0. 0.] <-> [0.9632294  0.00855129 0.02821922]\n",
      "{'accuracy': 0.8765432098765432, 'mean_square_error': 0.2981813110126499, 'categorical_crossentropy': 0.695604818838614, 'precision': 0.8148148148148148, 'recall': 0.8148148148148148, 'f1': 0.8148148148148148, 'essential_metrics': {0: {'tp_hit': 78, 'fp_hit': 18, 'tn_hit': 12, 'fn_hit': 0}, 1: {'tp_hit': 5, 'fp_hit': 0, 'tn_hit': 92, 'fn_hit': 11}, 2: {'tp_hit': 5, 'fp_hit': 2, 'tn_hit': 92, 'fn_hit': 9}}}\n"
     ]
    }
   ],
   "source": [
    "# recall phase\n",
    "score = model.evaluate(x_test, y_test, False)\n",
    "print(score)"
   ]
  },
  {
   "cell_type": "code",
   "execution_count": 12,
   "metadata": {},
   "outputs": [
    {
     "data": {
      "image/png": "[encoded data removed]",
      "text/plain": [
       "<Figure size 864x360 with 1 Axes>"
      ]
     },
     "metadata": {
      "needs_background": "light"
     },
     "output_type": "display_data"
    }
   ],
   "source": [
    "cat_cross = [ ckp[model.loss_fn] for ckp in checkpoints ]\n",
    "draw_plot(x = [(i+1)*breakpoint for i in range(len(checkpoints))], y_list = [cat_cross], x_label = 'Checkpoints', \\\n",
    "    y_label = model.loss_fn)"
   ]
  },
  {
   "cell_type": "code",
   "execution_count": 13,
   "metadata": {},
   "outputs": [
    {
     "data": {
      "image/png": "[encoded data removed]",
      "text/plain": [
       "<Figure size 864x360 with 1 Axes>"
      ]
     },
     "metadata": {
      "needs_background": "light"
     },
     "output_type": "display_data"
    }
   ],
   "source": [
    "acc = [ ckp['accuracy'] for ckp in checkpoints ]\n",
    "draw_plot(x = [(i+1)*breakpoint for i in range(len(checkpoints))], y_list = [acc], x_label = 'Checkpoints', \\\n",
    "    y_label = 'accuracy')"
   ]
  },
  {
   "cell_type": "code",
   "execution_count": 14,
   "metadata": {},
   "outputs": [
    {
     "name": "stdout",
     "output_type": "stream",
     "text": [
      "Layer 1\n",
      "Neuron 0: weights:\n",
      "[ 0.88760313  1.60027872 -2.97477507  0.09779704 -2.17220445]\n",
      " bias: -0.1631788554750182\n",
      "\n",
      "Neuron 1: weights:\n",
      "[-0.15785551 -1.07453846  2.33645983 -2.74707331 -1.67701089]\n",
      " bias: 1.252064471952795\n",
      "\n",
      "Neuron 2: weights:\n",
      "[-2.03072575  2.70623837  1.63613717  2.82177398  1.41422433]\n",
      " bias: 0.14245627520508997\n",
      "\n",
      "Neuron 3: weights:\n",
      "[ 1.9500878   1.99703293 -2.73112747 -2.11830771  0.78896531]\n",
      " bias: -0.6882130785787894\n",
      "\n",
      "$\n",
      "Layer 2\n",
      "Neuron 0: weights:\n",
      "[ 0.61194051  1.47207983 -1.72382856  1.57188435]\n",
      " bias: -1.5169824754910122\n",
      "\n",
      "Neuron 1: weights:\n",
      "[-1.99603066  0.28087248  0.44839669 -2.60927696]\n",
      " bias: -1.9481885783396318\n",
      "\n",
      "Neuron 2: weights:\n",
      "[-2.13336872 -1.58238581  0.70902759  1.90220311]\n",
      " bias: -0.3724748908285549\n",
      "\n",
      "$\n",
      "\n"
     ]
    }
   ],
   "source": [
    "print(model)"
   ]
  }
 ],
 "metadata": {
  "kernelspec": {
   "display_name": "Python 3",
   "language": "python",
   "name": "python3"
  },
  "language_info": {
   "codemirror_mode": {
    "name": "ipython",
    "version": 3
   },
   "file_extension": ".py",
   "mimetype": "text/x-python",
   "name": "python",
   "nbconvert_exporter": "python",
   "pygments_lexer": "ipython3",
   "version": "3.6.10"
  }
 },
 "nbformat": 4,
 "nbformat_minor": 2
}
