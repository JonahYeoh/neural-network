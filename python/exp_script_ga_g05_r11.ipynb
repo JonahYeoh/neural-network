{
 "cells": [
  {
   "cell_type": "code",
   "execution_count": 1,
   "metadata": {},
   "outputs": [],
   "source": [
    "# single"
   ]
  },
  {
   "cell_type": "code",
   "execution_count": 2,
   "metadata": {},
   "outputs": [],
   "source": [
    "# dependency\n",
    "import numpy as np\n",
    "import pandas as pd\n",
    "import copy\n",
    "import math\n",
    "import sys\n",
    "import os\n",
    "from activations import relu, leaky_relu, sigmoid, tanh, softmax, d_sigmoid, d_relu\n",
    "from initializers import glorot_uniform, random_normal, random_uniform\n",
    "from regularizers import l1_regularizer, l2_regularizer\n",
    "from utility import trim_tail, multiply, subtract, get_nparams, one_hot_encoding, get_data\n",
    "from metrics import MSE, CCE, ACC, PRECISION, RECALL, essential_metrics, wondering_penalty, close_gap_penalty\n",
    "from pso import PSO\n",
    "from ga import GA\n",
    "from nn import Network\n",
    "from layer import DenseLayer\n",
    "from scalers import MinMaxScaler, StandardScaler"
   ]
  },
  {
   "cell_type": "code",
   "execution_count": 3,
   "metadata": {},
   "outputs": [],
   "source": [
    "# reference\n",
    "metrics_fn_dict = dict()\n",
    "metrics_fn_dict['accuracy'] = ACC\n",
    "metrics_fn_dict['categorical_crossentropy'] = CCE\n",
    "metrics_fn_dict['mean_square_error'] = MSE\n",
    "metrics_fn_dict['precision'] = PRECISION\n",
    "metrics_fn_dict['recall'] = RECALL\n",
    "metrics_fn_dict['essential_metrics'] = essential_metrics"
   ]
  },
  {
   "cell_type": "code",
   "execution_count": 4,
   "metadata": {},
   "outputs": [],
   "source": [
    "# model\n",
    "model = Network(5, lr = None)\n",
    "model.add_layer(DenseLayer(1, 4, True, afn=sigmoid, dafn=None, rfn=None))\n",
    "model.add_layer(DenseLayer(2, 3, True, afn=softmax, dafn=None, rfn=None))"
   ]
  },
  {
   "cell_type": "code",
   "execution_count": 5,
   "metadata": {},
   "outputs": [],
   "source": [
    "# optimizer\n",
    "ga = GA(\n",
    "    dict(\n",
    "        m = 50,\n",
    "        x_rate = [0.5, 1.0],\n",
    "        m_rate = [0.5, 1.0],\n",
    "        weight_constraint = [-3.,3.],\n",
    "        radioactive_rating = [0.1, 0.5],\n",
    "        grow_factor = [0.1, 0.5],\n",
    "        scale_hyperparameter = False,\n",
    "        regularizer = l2_regularizer))"
   ]
  },
  {
   "cell_type": "code",
   "execution_count": 6,
   "metadata": {},
   "outputs": [
    {
     "name": "stdout",
     "output_type": "stream",
     "text": [
      "building layer 1 with 5\n",
      "24\n",
      "building layer 2 with 4\n",
      "15\n"
     ]
    }
   ],
   "source": [
    "model.compile(loss_fn = 'categorical_crossentropy', optimizer = ga, \\\n",
    "    metrics = ['accuracy', 'mean_square_error', 'categorical_crossentropy', 'precision', 'recall', 'f1'])"
   ]
  },
  {
   "cell_type": "code",
   "execution_count": 7,
   "metadata": {},
   "outputs": [
    {
     "name": "stdout",
     "output_type": "stream",
     "text": [
      "<class 'pandas.core.frame.DataFrame'>\n",
      "RangeIndex: 107 entries, 0 to 106\n",
      "Data columns (total 6 columns):\n",
      " #   Column  Non-Null Count  Dtype  \n",
      "---  ------  --------------  -----  \n",
      " 0   f1      107 non-null    float32\n",
      " 1   f2      107 non-null    float32\n",
      " 2   f3      107 non-null    float32\n",
      " 3   f4      107 non-null    float32\n",
      " 4   f5      107 non-null    float32\n",
      " 5   label   107 non-null    float32\n",
      "dtypes: float32(6)\n",
      "memory usage: 2.6 KB\n",
      "None\n",
      "<class 'pandas.core.frame.DataFrame'>\n",
      "RangeIndex: 108 entries, 0 to 107\n",
      "Data columns (total 6 columns):\n",
      " #   Column  Non-Null Count  Dtype  \n",
      "---  ------  --------------  -----  \n",
      " 0   f1      108 non-null    float32\n",
      " 1   f2      108 non-null    float32\n",
      " 2   f3      108 non-null    float32\n",
      " 3   f4      108 non-null    float32\n",
      " 4   f5      108 non-null    float32\n",
      " 5   label   108 non-null    float32\n",
      "dtypes: float32(6)\n",
      "memory usage: 2.7 KB\n",
      "None\n"
     ]
    }
   ],
   "source": [
    "# data loading\n",
    "DATA = os.path.join('c:\\\\Users\\\\tcumi\\\\github_repo\\\\neural-network\\\\', 'dataset')\n",
    "GROUP = 5\n",
    "COLUMNS = ['f1', 'f2', 'f3', 'f4', 'f5', 'label']\n",
    "N_CLASS = 3\n",
    "EPOCHS = 500\n",
    "train_dir, test_dir = \"..//dataset//training_data{}.txt\".format(GROUP), \"..//dataset//testing_data{}.txt\".format(GROUP)\n",
    "train, test = get_data(DATA, train_dir, COLUMNS), get_data(DATA, test_dir, COLUMNS)\n",
    "# shuffle\n",
    "train, test = train.sample(frac=1), test.sample(frac=1)\n",
    "x_train, y_train = train.drop('label', axis=1), train['label']\n",
    "x_test, y_test = test.drop('label', axis=1), test['label']"
   ]
  },
  {
   "cell_type": "code",
   "execution_count": 8,
   "metadata": {},
   "outputs": [],
   "source": [
    "# data scaling and encoding\n",
    "scaler = StandardScaler(['f1', 'f2', 'f3', 'f4', 'f5'])\n",
    "scaler.fit(x_train)\n",
    "x_train = scaler.transform(x_train)\n",
    "x_test = scaler.transform(x_test)\n",
    "y_train = one_hot_encoding(y_train, N_CLASS)\n",
    "y_test = one_hot_encoding(y_test, N_CLASS)"
   ]
  },
  {
   "cell_type": "code",
   "execution_count": 9,
   "metadata": {
    "scrolled": true,
    "tags": [
     "outputPrepend"
    ]
   },
   "outputs": [
    {
     "name": "stderr",
     "output_type": "stream",
     "text": [
      "C:\\Users\\tcumi\\Anaconda3\\envs\\py_3_6\\lib\\site-packages\\numpy\\core\\fromnumeric.py:87: VisibleDeprecationWarning: Creating an ndarray from ragged nested sequences (which is a list-or-tuple of lists-or-tuples-or ndarrays with different lengths or shapes) is deprecated. If you meant to do this, you must specify 'dtype=object' when creating the ndarray\n",
      "  return ufunc.reduce(obj, axis, dtype, out, **passkwargs)\n",
      "C:\\Users\\tcumi\\github_repo\\neural-network\\python\\ga.py:201: RuntimeWarning: overflow encountered in add\n",
      "  self.population.sort(key=lambda p: p.fitness + np.random.uniform(-shift, shift, 1), reverse = self.aim)\n",
      "C:\\Users\\tcumi\\Anaconda3\\envs\\py_3_6\\lib\\site-packages\\numpy\\core\\_asarray.py:136: VisibleDeprecationWarning: Creating an ndarray from ragged nested sequences (which is a list-or-tuple of lists-or-tuples-or ndarrays with different lengths or shapes) is deprecated. If you meant to do this, you must specify 'dtype=object' when creating the ndarray\n",
      "  return array(a, dtype, copy=False, order=order, subok=True)\n"
     ]
    },
    {
     "name": "stdout",
     "output_type": "stream",
     "text": [
      "Checkpoint 100, Accuracy: 0.8271604938271605, Loss: 0.5500930856775355\n",
      "Checkpoint 200, Accuracy: 0.8518518518518519, Loss: 0.517896157723886\n",
      "Checkpoint 300, Accuracy: 0.8888888888888888, Loss: 0.4610558969003183\n",
      "Checkpoint 400, Accuracy: 0.8888888888888888, Loss: 0.4688251636646412\n",
      "Checkpoint 500, Accuracy: 0.8950617283950617, Loss: 0.4148196820859556\n"
     ]
    }
   ],
   "source": [
    "# learning phase\n",
    "breakpoint = 100\n",
    "checkpoints = list()\n",
    "history = list()\n",
    "for century in range(0, EPOCHS, breakpoint):\n",
    "    sub_history = model.fit(x_train, y_train, breakpoint, verbose = 0)\n",
    "    score = model.evaluate(x_test, y_test, False, verbose = 0)\n",
    "    print('Checkpoint {}, Accuracy: {}, Loss: {}'.format(century+breakpoint, score['accuracy'], score[model.loss_fn]))\n",
    "    score['checkpoint'] = century + breakpoint\n",
    "    checkpoints.append(score)\n",
    "    history.extend(sub_history)\n",
    "    itr = century + breakpoint\n",
    "    '''\n",
    "    model.optimizer.rr = model.optimizer.rr * 0.9\n",
    "    model.optimizer.gf = model.optimizer.gf * 0.9\n",
    "    model.optimizer.crossover_rate = model.optimizer.crossover_rate * 0.9\n",
    "    model.optimizer.mutation_rate = model.optimizer.mutation_rate * 1.1\n",
    "    '''\n",
    "    model.optimizer.rr = model.optimizer.radioactive_rating[1] - (model.optimizer.radioactive_rating[1] - model.optimizer.radioactive_rating[0]) / EPOCHS * (EPOCHS - itr)\n",
    "    model.optimizer.gf = model.optimizer.grow_factor[1] - (model.optimizer.grow_factor[1] - model.optimizer.grow_factor[0]) / EPOCHS * (EPOCHS - itr)\n",
    "    model.optimizer.crossover_rate = model.optimizer.x_rate[1] - (model.optimizer.x_rate[1] - model.optimizer.x_rate[0]) / EPOCHS * (EPOCHS - itr)\n",
    "    model.optimizer.mutation_rate = model.optimizer.m_rate[0] + (model.optimizer.m_rate[1] - model.optimizer.m_rate[0]) / EPOCHS * (EPOCHS - itr)\n",
    "    "
   ]
  },
  {
   "cell_type": "code",
   "execution_count": 10,
   "metadata": {},
   "outputs": [],
   "source": [
    "import matplotlib.pyplot as plt\n",
    "\n",
    "def draw_plot(x, y_list, x_label=None, y_label=None, legend=None, title=None):\n",
    "    fig, ax = plt.subplots(figsize=(12,5))\n",
    "    for xi, yi in zip(x, y_list):\n",
    "        ax.plot(xi, yi)\n",
    "    if x_label is not None and y_label is not None:\n",
    "        ax.set(xlabel=x_label, ylabel=y_label, title='{} VS {}'.format(x_label, y_label))\n",
    "    if legend is not None:\n",
    "        ax.legend(legend)\n",
    "    ax.grid()\n",
    "    plt.show()"
   ]
  },
  {
   "cell_type": "code",
   "execution_count": 11,
   "metadata": {},
   "outputs": [
    {
     "name": "stdout",
     "output_type": "stream",
     "text": [
      "[0. 1. 0.] <-> [0.4570122  0.42872232 0.1142655 ]\n",
      "[0. 1. 0.] <-> [0.520746   0.41002175 0.06923226]\n",
      "[1. 0. 0.] <-> [0.82891107 0.082867   0.08822195]\n",
      "[1. 0. 0.] <-> [0.78250307 0.10491577 0.11258127]\n",
      "[0. 1. 0.] <-> [0.545405   0.33684313 0.11775184]\n",
      "[0. 1. 0.] <-> [0.29547593 0.6311023  0.07342181]\n",
      "[1. 0. 0.] <-> [0.8591434  0.05762789 0.08322875]\n",
      "[1. 0. 0.] <-> [0.7868393  0.13698044 0.07618025]\n",
      "[1. 0. 0.] <-> [0.77274746 0.09507383 0.13217866]\n",
      "[1. 0. 0.] <-> [0.78828204 0.09763627 0.11408172]\n",
      "[1. 0. 0.] <-> [0.7165841  0.05215928 0.23125666]\n",
      "[1. 0. 0.] <-> [0.81753665 0.07307237 0.10939103]\n",
      "[1. 0. 0.] <-> [0.77659595 0.06841236 0.15499166]\n",
      "[0. 1. 0.] <-> [0.68970096 0.25448    0.05581902]\n",
      "[1. 0. 0.] <-> [0.79187804 0.08466245 0.12345957]\n",
      "[1. 0. 0.] <-> [0.8015304  0.10204808 0.09642151]\n",
      "[0. 1. 0.] <-> [0.67859286 0.24157748 0.07982969]\n",
      "[0. 0. 1.] <-> [0.42334127 0.02730079 0.5493579 ]\n",
      "[0. 0. 1.] <-> [0.2437726 0.0343865 0.7218409]\n",
      "[1. 0. 0.] <-> [0.7511912  0.13901873 0.10979009]\n",
      "[1. 0. 0.] <-> [0.80036205 0.10390329 0.09573474]\n",
      "[0. 0. 1.] <-> [0.6702758  0.04081539 0.28890875]\n",
      "[1. 0. 0.] <-> [0.7935445  0.11891833 0.08753715]\n",
      "[1. 0. 0.] <-> [0.76244074 0.1565351  0.0810242 ]\n",
      "[1. 0. 0.] <-> [0.78004014 0.07181405 0.14814584]\n",
      "[1. 0. 0.] <-> [0.79073024 0.1369986  0.07227117]\n",
      "[0. 1. 0.] <-> [0.47538307 0.4693431  0.05527386]\n",
      "[1. 0. 0.] <-> [0.85870194 0.06594668 0.07535136]\n",
      "[1. 0. 0.] <-> [0.7844128  0.11787585 0.0977113 ]\n",
      "[0. 1. 0.] <-> [0.3056662 0.6199472 0.0743866]\n",
      "[1. 0. 0.] <-> [0.8414014  0.03656096 0.12203757]\n",
      "[1. 0. 0.] <-> [0.80138254 0.04033127 0.15828626]\n",
      "[1. 0. 0.] <-> [0.853863   0.07618231 0.06995474]\n",
      "[0. 1. 0.] <-> [0.29999608 0.6251201  0.07488382]\n",
      "[0. 0. 1.] <-> [0.2827228  0.02797437 0.68930286]\n",
      "[0. 1. 0.] <-> [0.6994771  0.24746047 0.05306247]\n",
      "[1. 0. 0.] <-> [0.8323074  0.08109988 0.08659275]\n",
      "[1. 0. 0.] <-> [0.85295236 0.06734047 0.07970721]\n",
      "[0. 0. 1.] <-> [0.78012806 0.0420444  0.17782746]\n",
      "[1. 0. 0.] <-> [0.72341657 0.08676388 0.18981963]\n",
      "[1. 0. 0.] <-> [0.7992169  0.10442228 0.0963608 ]\n",
      "[0. 0. 1.] <-> [0.8064609  0.03917636 0.15436277]\n",
      "[0. 0. 1.] <-> [0.55240726 0.02259895 0.42499378]\n",
      "[1. 0. 0.] <-> [0.8635793  0.03733885 0.09908182]\n",
      "[1. 0. 0.] <-> [0.80511576 0.06184186 0.13304235]\n",
      "[1. 0. 0.] <-> [0.81833315 0.04450536 0.13716143]\n",
      "[1. 0. 0.] <-> [0.8430184  0.03042608 0.12655555]\n",
      "[1. 0. 0.] <-> [0.80512476 0.06169042 0.13318482]\n",
      "[0. 0. 1.] <-> [0.13305299 0.06612237 0.80082464]\n",
      "[1. 0. 0.] <-> [0.8417602  0.07527464 0.08296505]\n",
      "[0. 0. 1.] <-> [0.3542601  0.03717383 0.60856605]\n",
      "[1. 0. 0.] <-> [0.5457952  0.07249673 0.381708  ]\n",
      "[1. 0. 0.] <-> [0.79665256 0.08956092 0.11378657]\n",
      "[1. 0. 0.] <-> [0.8191324  0.05122483 0.12964268]\n",
      "[1. 0. 0.] <-> [0.8021492  0.05873984 0.13911097]\n",
      "[0. 0. 1.] <-> [0.27721506 0.03624799 0.68653697]\n",
      "[0. 0. 1.] <-> [0.63245624 0.02120679 0.346337  ]\n",
      "[1. 0. 0.] <-> [0.7960263  0.0818738  0.12209986]\n",
      "[1. 0. 0.] <-> [0.83969223 0.09205379 0.06825399]\n",
      "[1. 0. 0.] <-> [0.7358441  0.07395034 0.19020562]\n",
      "[1. 0. 0.] <-> [0.7077587  0.12681517 0.16542608]\n",
      "[1. 0. 0.] <-> [0.85694134 0.04988308 0.0931756 ]\n",
      "[1. 0. 0.] <-> [0.87395644 0.04902402 0.07701949]\n",
      "[1. 0. 0.] <-> [0.7913929  0.13593985 0.07266726]\n",
      "[1. 0. 0.] <-> [0.7803738  0.12019993 0.09942622]\n",
      "[1. 0. 0.] <-> [0.77833164 0.13750319 0.08416518]\n",
      "[1. 0. 0.] <-> [0.8302109  0.06593906 0.10385002]\n",
      "[1. 0. 0.] <-> [0.70972955 0.16647473 0.1237957 ]\n",
      "[0. 1. 0.] <-> [0.28197995 0.6381358  0.07988429]\n",
      "[1. 0. 0.] <-> [0.86180323 0.0558404  0.08235646]\n",
      "[1. 0. 0.] <-> [0.7951824  0.11722265 0.0875949 ]\n",
      "[1. 0. 0.] <-> [0.7872624  0.10009918 0.11263854]\n",
      "[1. 0. 0.] <-> [0.83006    0.09638184 0.07355818]\n",
      "[1. 0. 0.] <-> [0.85189694 0.0875423  0.06056076]\n",
      "[1. 0. 0.] <-> [0.7362593  0.18425184 0.07948881]\n",
      "[1. 0. 0.] <-> [0.8319577  0.10181178 0.06623047]\n",
      "[0. 1. 0.] <-> [0.67069435 0.26588738 0.0634183 ]\n",
      "[1. 0. 0.] <-> [0.7668742  0.10656989 0.12655593]\n",
      "[0. 0. 1.] <-> [0.17181456 0.05388651 0.77429897]\n",
      "[1. 0. 0.] <-> [0.74741036 0.18846992 0.06411975]\n",
      "[0. 0. 1.] <-> [0.12920919 0.06796961 0.8028212 ]\n",
      "[1. 0. 0.] <-> [0.83093953 0.04257558 0.12648484]\n",
      "[1. 0. 0.] <-> [0.8389549  0.03859292 0.12245216]\n",
      "[1. 0. 0.] <-> [0.81179726 0.09176254 0.09644016]\n",
      "[1. 0. 0.] <-> [0.8176934  0.04688687 0.1354197 ]\n",
      "[1. 0. 0.] <-> [0.77796954 0.09153982 0.13049069]\n",
      "[1. 0. 0.] <-> [0.8447524  0.0399835  0.11526421]\n",
      "[1. 0. 0.] <-> [0.81132954 0.04612569 0.14254473]\n",
      "[1. 0. 0.] <-> [0.786961   0.08103659 0.13200243]\n",
      "[1. 0. 0.] <-> [0.8157173  0.10152656 0.08275618]\n",
      "[0. 1. 0.] <-> [0.79089916 0.15405862 0.05504224]\n",
      "[1. 0. 0.] <-> [0.86553335 0.03670005 0.09776661]\n",
      "[0. 1. 0.] <-> [0.3428749  0.5843314  0.07279372]\n",
      "[1. 0. 0.] <-> [0.73258424 0.13265608 0.13475972]\n",
      "[1. 0. 0.] <-> [0.85616064 0.06001216 0.08382726]\n",
      "[1. 0. 0.] <-> [0.74365497 0.15681645 0.09952849]\n",
      "[1. 0. 0.] <-> [0.78839064 0.0736851  0.13792428]\n",
      "[1. 0. 0.] <-> [0.6978137  0.15275906 0.14942732]\n",
      "[1. 0. 0.] <-> [0.77952754 0.12545657 0.09501589]\n",
      "[1. 0. 0.] <-> [0.8147447  0.09231544 0.09293996]\n",
      "[1. 0. 0.] <-> [0.7433493  0.06931348 0.18733719]\n",
      "[0. 0. 1.] <-> [0.24533094 0.03564098 0.719028  ]\n",
      "[0. 1. 0.] <-> [0.32964948 0.6010836  0.06926695]\n",
      "[0. 0. 1.] <-> [0.64031875 0.01895347 0.34072778]\n",
      "[0. 1. 0.] <-> [0.552095   0.39603293 0.05187204]\n",
      "[1. 0. 0.] <-> [0.8037103 0.1064299 0.0898599]\n",
      "[1. 0. 0.] <-> [0.75564873 0.08416472 0.16018659]\n",
      "[0. 1. 0.] <-> [0.71630013 0.22400153 0.05969834]\n",
      "{'accuracy': 0.8950617283950617, 'mean_square_error': 0.22057596401959842, 'categorical_crossentropy': 0.4148196820859556, 'precision': 0.8425925925925926, 'recall': 0.8425925925925926, 'f1': 0.8425925925925926, 'essential_metrics': {0: {'tp_hit': 76, 'fp_hit': 17, 'tn_hit': 15, 'fn_hit': 0}, 1: {'tp_hit': 6, 'fp_hit': 0, 'tn_hit': 91, 'fn_hit': 11}, 2: {'tp_hit': 9, 'fp_hit': 0, 'tn_hit': 93, 'fn_hit': 6}}}\n"
     ]
    }
   ],
   "source": [
    "# recall phase\n",
    "score = model.evaluate(x_test, y_test, False)\n",
    "print(score)"
   ]
  },
  {
   "cell_type": "code",
   "execution_count": 12,
   "metadata": {},
   "outputs": [],
   "source": [
    "# Testing Performance"
   ]
  },
  {
   "cell_type": "code",
   "execution_count": 13,
   "metadata": {},
   "outputs": [
    {
     "name": "stderr",
     "output_type": "stream",
     "text": [
      "C:\\Users\\tcumi\\Anaconda3\\envs\\py_3_6\\lib\\site-packages\\numpy\\core\\_asarray.py:136: VisibleDeprecationWarning: Creating an ndarray from ragged nested sequences (which is a list-or-tuple of lists-or-tuples-or ndarrays with different lengths or shapes) is deprecated. If you meant to do this, you must specify 'dtype=object' when creating the ndarray\n",
      "  return array(a, dtype, copy=False, order=order, subok=True)\n"
     ]
    },
    {
     "data": {
      "image/png": "[encoded data removed]",
      "text/plain": [
       "<Figure size 864x360 with 1 Axes>"
      ]
     },
     "metadata": {
      "needs_background": "light"
     },
     "output_type": "display_data"
    },
    {
     "data": {
      "image/png": "[encoded data removed]",
      "text/plain": [
       "<Figure size 864x360 with 1 Axes>"
      ]
     },
     "metadata": {
      "needs_background": "light"
     },
     "output_type": "display_data"
    }
   ],
   "source": [
    "draw_plot(x = [[i for i in range(len(history))], [(i+1)*breakpoint for i in range(len(checkpoints))]], y_list = [history, [ ckp[model.loss_fn] for ckp in checkpoints ]], x_label = 'Epochs', \\\n",
    "    y_label = model.loss_fn, legend=['train', 'test'])\n",
    "acc = [ ckp['accuracy'] for ckp in checkpoints ]\n",
    "draw_plot(x = [[(i+1)*breakpoint for i in range(len(checkpoints))]], y_list = [acc], x_label = 'Checkpoints', \\\n",
    "    y_label = 'accuracy')"
   ]
  },
  {
   "cell_type": "code",
   "execution_count": 14,
   "metadata": {
    "scrolled": false
   },
   "outputs": [
    {
     "name": "stdout",
     "output_type": "stream",
     "text": [
      "{'accuracy': 0.8271604938271605, 'mean_square_error': 0.32323304575598505, 'categorical_crossentropy': 0.5500930856775355, 'precision': 0.7407407407407407, 'recall': 0.7407407407407407, 'f1': 0.7407407407407407, 'essential_metrics': {0: {'tp_hit': 76, 'fp_hit': 28, 'tn_hit': 4, 'fn_hit': 0}, 1: {'tp_hit': 0, 'fp_hit': 0, 'tn_hit': 91, 'fn_hit': 17}, 2: {'tp_hit': 4, 'fp_hit': 0, 'tn_hit': 93, 'fn_hit': 11}}, 'checkpoint': 100} \n",
      "\n",
      "\n",
      "{'accuracy': 0.8518518518518519, 'mean_square_error': 0.296693509873797, 'categorical_crossentropy': 0.517896157723886, 'precision': 0.7777777777777778, 'recall': 0.7777777777777778, 'f1': 0.7777777777777778, 'essential_metrics': {0: {'tp_hit': 76, 'fp_hit': 24, 'tn_hit': 8, 'fn_hit': 0}, 1: {'tp_hit': 3, 'fp_hit': 0, 'tn_hit': 91, 'fn_hit': 14}, 2: {'tp_hit': 5, 'fp_hit': 0, 'tn_hit': 93, 'fn_hit': 10}}, 'checkpoint': 200} \n",
      "\n",
      "\n",
      "{'accuracy': 0.8888888888888888, 'mean_square_error': 0.25507206505504676, 'categorical_crossentropy': 0.4610558969003183, 'precision': 0.8333333333333334, 'recall': 0.8333333333333334, 'f1': 0.8333333333333334, 'essential_metrics': {0: {'tp_hit': 76, 'fp_hit': 18, 'tn_hit': 14, 'fn_hit': 0}, 1: {'tp_hit': 5, 'fp_hit': 0, 'tn_hit': 91, 'fn_hit': 12}, 2: {'tp_hit': 9, 'fp_hit': 0, 'tn_hit': 93, 'fn_hit': 6}}, 'checkpoint': 300} \n",
      "\n",
      "\n",
      "{'accuracy': 0.8888888888888888, 'mean_square_error': 0.25516704898221537, 'categorical_crossentropy': 0.4688251636646412, 'precision': 0.8333333333333334, 'recall': 0.8333333333333334, 'f1': 0.8333333333333334, 'essential_metrics': {0: {'tp_hit': 76, 'fp_hit': 18, 'tn_hit': 14, 'fn_hit': 0}, 1: {'tp_hit': 6, 'fp_hit': 0, 'tn_hit': 91, 'fn_hit': 11}, 2: {'tp_hit': 8, 'fp_hit': 0, 'tn_hit': 93, 'fn_hit': 7}}, 'checkpoint': 400} \n",
      "\n",
      "\n",
      "{'accuracy': 0.8950617283950617, 'mean_square_error': 0.22057596401959842, 'categorical_crossentropy': 0.4148196820859556, 'precision': 0.8425925925925926, 'recall': 0.8425925925925926, 'f1': 0.8425925925925926, 'essential_metrics': {0: {'tp_hit': 76, 'fp_hit': 17, 'tn_hit': 15, 'fn_hit': 0}, 1: {'tp_hit': 6, 'fp_hit': 0, 'tn_hit': 91, 'fn_hit': 11}, 2: {'tp_hit': 9, 'fp_hit': 0, 'tn_hit': 93, 'fn_hit': 6}}, 'checkpoint': 500} \n",
      "\n",
      "\n"
     ]
    }
   ],
   "source": [
    "for checkpoint in checkpoints:\n",
    "    print(checkpoint, '\\n\\n')"
   ]
  },
  {
   "cell_type": "code",
   "execution_count": 15,
   "metadata": {},
   "outputs": [
    {
     "name": "stdout",
     "output_type": "stream",
     "text": [
      "Layer 1\n",
      "Neuron 0: weights:\n",
      "[ 0.36579776 -0.99054265 -0.5894397  -0.39963773 -0.44529885]\n",
      " bias: 0.12924224138259888\n",
      "\n",
      "Neuron 1: weights:\n",
      "[-0.18767081 -0.43535694 -0.8473887  -0.7738869  -0.72920144]\n",
      " bias: 0.27665287256240845\n",
      "\n",
      "Neuron 2: weights:\n",
      "[ 0.01405084 -1.1241555  -0.28960708  0.48056075  0.579239  ]\n",
      " bias: -0.493272602558136\n",
      "\n",
      "Neuron 3: weights:\n",
      "[ 0.52451617 -0.7426241  -0.27035505  0.40462002  0.68256783]\n",
      " bias: -0.31147387623786926\n",
      "\n",
      "$\n",
      "Layer 2\n",
      "Neuron 0: weights:\n",
      "[ 1.189927   1.2643964 -0.6878259 -0.1298101]\n",
      " bias: -0.008633614517748356\n",
      "\n",
      "Neuron 1: weights:\n",
      "[-0.94568664 -0.632185   -1.1729189  -1.0647734 ]\n",
      " bias: 1.0081586837768555\n",
      "\n",
      "Neuron 2: weights:\n",
      "[ 0.21821743 -0.9539135   0.93949     1.3060751 ]\n",
      " bias: -1.1236151456832886\n",
      "\n",
      "$\n",
      "\n"
     ]
    }
   ],
   "source": [
    "print(model)"
   ]
  }
 ],
 "metadata": {
  "kernelspec": {
   "display_name": "Python 3",
   "language": "python",
   "name": "python3"
  },
  "language_info": {
   "codemirror_mode": {
    "name": "ipython",
    "version": 3
   },
   "file_extension": ".py",
   "mimetype": "text/x-python",
   "name": "python",
   "nbconvert_exporter": "python",
   "pygments_lexer": "ipython3",
   "version": "3.6.10"
  }
 },
 "nbformat": 4,
 "nbformat_minor": 2
}
