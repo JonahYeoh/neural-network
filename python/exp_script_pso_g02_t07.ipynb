{
 "cells": [
  {
   "cell_type": "code",
   "execution_count": 1,
   "metadata": {},
   "outputs": [],
   "source": [
    "# dependency\n",
    "import numpy as np\n",
    "import pandas as pd\n",
    "import copy\n",
    "import math\n",
    "import sys\n",
    "import os\n",
    "from activations import relu, leaky_relu, sigmoid, tanh, softmax, d_sigmoid, d_relu\n",
    "from initializers import glorot_uniform, random_normal, random_uniform\n",
    "from regularizers import l1_regularizer, l2_regularizer\n",
    "from utility import trim_tail, multiply, subtract, get_nparams, one_hot_encoding, get_data\n",
    "from metrics import MSE, CCE, ACC, PRECISION, RECALL, essential_metrics, wondering_penalty, close_gap_penalty\n",
    "from pso import PSO\n",
    "from ga import GA\n",
    "from nn import Network\n",
    "from layer import DenseLayer\n",
    "from scalers import MinMaxScaler, StandardScaler"
   ]
  },
  {
   "cell_type": "code",
   "execution_count": 2,
   "metadata": {},
   "outputs": [],
   "source": [
    "# reference\n",
    "metrics_fn_dict = dict()\n",
    "metrics_fn_dict['accuracy'] = ACC\n",
    "metrics_fn_dict['categorical_crossentropy'] = CCE\n",
    "metrics_fn_dict['mean_square_error'] = MSE\n",
    "metrics_fn_dict['precision'] = PRECISION\n",
    "metrics_fn_dict['recall'] = RECALL\n",
    "metrics_fn_dict['essential_metrics'] = essential_metrics"
   ]
  },
  {
   "cell_type": "code",
   "execution_count": 3,
   "metadata": {},
   "outputs": [],
   "source": [
    "# model\n",
    "model = Network(5, lr = None)\n",
    "model.add_layer(DenseLayer(1, 4, True, afn=sigmoid, dafn=None, rfn=None))\n",
    "model.add_layer(DenseLayer(2, 3, True, afn=softmax, dafn=None, rfn=None))"
   ]
  },
  {
   "cell_type": "code",
   "execution_count": 4,
   "metadata": {},
   "outputs": [
    {
     "name": "stdout",
     "output_type": "stream",
     "text": [
      "see one see two 2.0 0.5\n"
     ]
    }
   ],
   "source": [
    "pso = PSO(dict(m = 200,\n",
    "    weight_constraint = [-3, 3], \n",
    "    velocity_constraint = [-0.1, 0.1],\n",
    "    c1 = [0.5, 2.0],\n",
    "    c2 = [0.5, 2.0],\n",
    "    w = [0.5, 1.6],\n",
    "    w_decay = 0.95,\n",
    "    scale_hyperparameter = False,\n",
    "    regularizer = None,\n",
    "    mask = True))"
   ]
  },
  {
   "cell_type": "code",
   "execution_count": 5,
   "metadata": {},
   "outputs": [
    {
     "name": "stdout",
     "output_type": "stream",
     "text": [
      "building layer 1 with 5\n",
      "24\n",
      "building layer 2 with 4\n",
      "15\n"
     ]
    }
   ],
   "source": [
    "model.compile(loss_fn = 'categorical_crossentropy', optimizer = pso, \\\n",
    "    metrics = ['accuracy', 'mean_square_error', 'categorical_crossentropy'])"
   ]
  },
  {
   "cell_type": "code",
   "execution_count": 6,
   "metadata": {},
   "outputs": [
    {
     "name": "stdout",
     "output_type": "stream",
     "text": [
      "<class 'pandas.core.frame.DataFrame'>\n",
      "RangeIndex: 107 entries, 0 to 106\n",
      "Data columns (total 6 columns):\n",
      " #   Column  Non-Null Count  Dtype  \n",
      "---  ------  --------------  -----  \n",
      " 0   f1      107 non-null    float32\n",
      " 1   f2      107 non-null    float32\n",
      " 2   f3      107 non-null    float32\n",
      " 3   f4      107 non-null    float32\n",
      " 4   f5      107 non-null    float32\n",
      " 5   label   107 non-null    float32\n",
      "dtypes: float32(6)\n",
      "memory usage: 2.6 KB\n",
      "None\n",
      "<class 'pandas.core.frame.DataFrame'>\n",
      "RangeIndex: 108 entries, 0 to 107\n",
      "Data columns (total 6 columns):\n",
      " #   Column  Non-Null Count  Dtype  \n",
      "---  ------  --------------  -----  \n",
      " 0   f1      108 non-null    float32\n",
      " 1   f2      108 non-null    float32\n",
      " 2   f3      108 non-null    float32\n",
      " 3   f4      108 non-null    float32\n",
      " 4   f5      108 non-null    float32\n",
      " 5   label   108 non-null    float32\n",
      "dtypes: float32(6)\n",
      "memory usage: 2.7 KB\n",
      "None\n"
     ]
    }
   ],
   "source": [
    "# data loading\n",
    "DATA = os.path.join('c:\\\\Users\\\\AI-lab\\\\github_repo\\\\neural-network\\\\', 'dataset')\n",
    "GROUP = 2\n",
    "COLUMNS = ['f1', 'f2', 'f3', 'f4', 'f5', 'label']\n",
    "N_CLASS = 3\n",
    "EPOCHS = 200\n",
    "train_dir, test_dir = \"..//dataset//training_data{}.txt\".format(GROUP), \"..//dataset//testing_data{}.txt\".format(GROUP)\n",
    "train, test = get_data(DATA, train_dir, COLUMNS), get_data(DATA, test_dir, COLUMNS)\n",
    "# shuffle\n",
    "train, test = train.sample(frac=1), test.sample(frac=1)\n",
    "x_train, y_train = train.drop('label', axis=1), train['label']\n",
    "x_test, y_test = test.drop('label', axis=1), test['label']"
   ]
  },
  {
   "cell_type": "code",
   "execution_count": 7,
   "metadata": {},
   "outputs": [],
   "source": [
    "# data scaling and encoding\n",
    "scaler = StandardScaler(['f1', 'f2', 'f3', 'f4', 'f5'])\n",
    "scaler.fit(x_train)\n",
    "x_train = scaler.transform(x_train)\n",
    "x_test = scaler.transform(x_test)\n",
    "y_train = one_hot_encoding(y_train, N_CLASS)\n",
    "y_test = one_hot_encoding(y_test, N_CLASS)"
   ]
  },
  {
   "cell_type": "code",
   "execution_count": 8,
   "metadata": {
    "tags": [
     "outputPrepend"
    ]
   },
   "outputs": [
    {
     "name": "stdout",
     "output_type": "stream",
     "text": [
      "Checkpoint 10, Accuracy: 0.8580246913580247, Loss: 0.6199843088785807\n",
      "Checkpoint 20, Accuracy: 0.8765432098765432, Loss: 0.5729131345395688\n",
      "Checkpoint 30, Accuracy: 0.845679012345679, Loss: 0.5400112293384693\n",
      "Checkpoint 40, Accuracy: 0.8395061728395061, Loss: 0.48507538548222295\n",
      "Checkpoint 50, Accuracy: 0.9382716049382716, Loss: 0.42351945241292316\n",
      "Checkpoint 60, Accuracy: 0.9629629629629629, Loss: 0.39415211147732204\n",
      "Checkpoint 70, Accuracy: 0.9629629629629629, Loss: 0.32059065500895184\n",
      "Checkpoint 80, Accuracy: 0.9506172839506173, Loss: 0.28481285660355177\n",
      "Checkpoint 90, Accuracy: 0.9567901234567902, Loss: 0.23994770756474249\n",
      "Checkpoint 100, Accuracy: 0.9753086419753086, Loss: 0.21374635343198423\n",
      "Checkpoint 110, Accuracy: 0.9691358024691358, Loss: 0.17527165236296477\n",
      "Checkpoint 120, Accuracy: 0.9753086419753086, Loss: 0.14982242937441226\n",
      "Checkpoint 130, Accuracy: 0.9814814814814815, Loss: 0.13156981821413394\n",
      "Checkpoint 140, Accuracy: 0.9629629629629629, Loss: 0.13422837963810674\n",
      "Checkpoint 150, Accuracy: 0.9629629629629629, Loss: 0.12171112166510688\n",
      "Checkpoint 160, Accuracy: 0.9629629629629629, Loss: 0.12603588457460757\n",
      "Checkpoint 170, Accuracy: 0.9691358024691358, Loss: 0.11540273383811668\n",
      "Checkpoint 180, Accuracy: 0.9629629629629629, Loss: 0.1242311089127152\n",
      "Checkpoint 190, Accuracy: 0.9691358024691358, Loss: 0.11609571068375199\n",
      "Checkpoint 200, Accuracy: 0.9753086419753086, Loss: 0.11249429208260996\n"
     ]
    }
   ],
   "source": [
    "# learning phase\n",
    "breakpoint = 10\n",
    "checkpoints = list()\n",
    "history = list()\n",
    "for century in range(0, EPOCHS, breakpoint):\n",
    "    sub_history = model.fit(x_train, y_train, breakpoint, verbose = 0)\n",
    "    score = model.evaluate(x_test, y_test, False, verbose = 0)\n",
    "    print('Checkpoint {}, Accuracy: {}, Loss: {}'.format(century+breakpoint, score['accuracy'], score[model.loss_fn]))\n",
    "    score['checkpoint'] = century + breakpoint\n",
    "    checkpoints.append(score)\n",
    "    history.extend(sub_history)\n",
    "    itr = century + breakpoint\n",
    "    model.optimizer.c1 = np.max([model.optimizer.C1[1] - ((model.optimizer.C1[1] - model.optimizer.C1[0]) * itr / EPOCHS), model.optimizer.C1[0]])\n",
    "    model.optimizer.c2 = np.min([model.optimizer.C2[0] + ((model.optimizer.C2[1] - model.optimizer.C2[0]) * itr / EPOCHS), model.optimizer.C2[1]])\n",
    "    model.optimizer.w = np.max([model.optimizer.w * model.optimizer.W_Decay, model.optimizer.W[0]])"
   ]
  },
  {
   "cell_type": "code",
   "execution_count": 9,
   "metadata": {},
   "outputs": [],
   "source": [
    "import matplotlib.pyplot as plt\n",
    "\n",
    "def draw_plot(x, y_list, x_label=None, y_label=None, legend=None, title=None):\n",
    "    fig, ax = plt.subplots(figsize=(12,5))\n",
    "    for xi, yi in zip(x, y_list):\n",
    "        ax.plot(xi, yi)\n",
    "    if x_label is not None and y_label is not None:\n",
    "        ax.set(xlabel=x_label, ylabel=y_label, title='{} VS {}'.format(x_label, y_label))\n",
    "    if legend is not None:\n",
    "        ax.legend(legend)\n",
    "    ax.grid()\n",
    "    plt.show()"
   ]
  },
  {
   "cell_type": "code",
   "execution_count": 10,
   "metadata": {},
   "outputs": [],
   "source": [
    "train_acc = [h['accuracy'] for h in history]\n",
    "train_mse = [h['mean_square_error'] for h in history]\n",
    "train_cce = [h['categorical_crossentropy'] for h in history]"
   ]
  },
  {
   "cell_type": "code",
   "execution_count": 11,
   "metadata": {},
   "outputs": [
    {
     "name": "stdout",
     "output_type": "stream",
     "text": [
      "[1. 0. 0.] <-> [0.9949744  0.00114778 0.00387779]\n",
      "[1. 0. 0.] <-> [9.9648935e-01 9.7529852e-04 2.5353495e-03]\n",
      "[0. 1. 0.] <-> [0.8149579  0.1831959  0.00184617]\n",
      "[1. 0. 0.] <-> [0.9951008  0.00221564 0.00268357]\n",
      "[1. 0. 0.] <-> [0.9966275  0.00163126 0.00174121]\n",
      "[1. 0. 0.] <-> [0.9114009  0.00115039 0.08744873]\n",
      "[1. 0. 0.] <-> [0.99618214 0.0021178  0.00170011]\n",
      "[1. 0. 0.] <-> [1.9477746e-02 1.3578388e-05 9.8050874e-01]\n",
      "[1. 0. 0.] <-> [9.7484958e-01 8.6547574e-04 2.4285011e-02]\n",
      "[1. 0. 0.] <-> [9.5224661e-01 8.2423666e-04 4.6929128e-02]\n",
      "[1. 0. 0.] <-> [9.7167945e-01 8.4791804e-04 2.7472591e-02]\n",
      "[1. 0. 0.] <-> [0.9958931  0.0010993  0.00300754]\n",
      "[1. 0. 0.] <-> [0.99686676 0.00117585 0.00195735]\n",
      "[1. 0. 0.] <-> [0.99284256 0.00138115 0.00577639]\n",
      "[0. 0. 1.] <-> [7.4226670e-03 4.9747314e-06 9.9257237e-01]\n",
      "[1. 0. 0.] <-> [0.99653935 0.00180035 0.00166028]\n",
      "[0. 1. 0.] <-> [1.5681332e-01 8.4274441e-01 4.4227470e-04]\n",
      "[1. 0. 0.] <-> [0.9954543  0.00129905 0.00324658]\n",
      "[0. 0. 1.] <-> [6.2069674e-03 4.0884215e-06 9.9378890e-01]\n",
      "[1. 0. 0.] <-> [0.9963973  0.00182619 0.00177645]\n",
      "[1. 0. 0.] <-> [9.7870231e-01 9.6909306e-04 2.0328693e-02]\n",
      "[1. 0. 0.] <-> [0.996618   0.00135963 0.00202242]\n",
      "[1. 0. 0.] <-> [0.9939772  0.00118231 0.00484044]\n",
      "[1. 0. 0.] <-> [0.99345785 0.00476562 0.00177653]\n",
      "[1. 0. 0.] <-> [9.064487e-01 7.487892e-04 9.280250e-02]\n",
      "[1. 0. 0.] <-> [0.91615427 0.08173656 0.0021091 ]\n",
      "[0. 1. 0.] <-> [6.3113021e-03 9.9366552e-01 2.3072598e-05]\n",
      "[1. 0. 0.] <-> [0.9968119  0.0011896  0.00199841]\n",
      "[0. 0. 1.] <-> [6.4996434e-03 4.3045293e-06 9.9349606e-01]\n",
      "[0. 0. 1.] <-> [1.6766450e-01 1.3099007e-04 8.3220452e-01]\n",
      "[1. 0. 0.] <-> [0.99515533 0.00117818 0.00366656]\n",
      "[0. 0. 1.] <-> [6.2069856e-03 4.1028579e-06 9.9378890e-01]\n",
      "[1. 0. 0.] <-> [0.996831   0.00121009 0.00195897]\n",
      "[0. 1. 0.] <-> [6.3110343e-03 9.9366599e-01 2.3009763e-05]\n",
      "[1. 0. 0.] <-> [9.9163765e-01 9.8524976e-04 7.3770154e-03]\n",
      "[0. 0. 1.] <-> [6.2403996e-03 4.1203093e-06 9.9375546e-01]\n",
      "[1. 0. 0.] <-> [0.99229854 0.00592781 0.00177367]\n",
      "[0. 0. 1.] <-> [6.2076207e-03 4.0902596e-06 9.9378830e-01]\n",
      "[1. 0. 0.] <-> [9.9190992e-01 9.7037764e-04 7.1197003e-03]\n",
      "[0. 0. 1.] <-> [6.2069404e-03 6.5341948e-05 9.9372768e-01]\n",
      "[0. 0. 1.] <-> [6.2069646e-03 4.0883829e-06 9.9378890e-01]\n",
      "[1. 0. 0.] <-> [0.9932532  0.00126248 0.0054844 ]\n",
      "[1. 0. 0.] <-> [9.8013490e-01 9.4602839e-04 1.8919084e-02]\n",
      "[1. 0. 0.] <-> [0.99401325 0.00103727 0.0049494 ]\n",
      "[1. 0. 0.] <-> [0.9883959  0.01002595 0.0015782 ]\n",
      "[1. 0. 0.] <-> [9.9344081e-01 9.3427167e-04 5.6249732e-03]\n",
      "[1. 0. 0.] <-> [0.99602216 0.00241603 0.0015619 ]\n",
      "[1. 0. 0.] <-> [0.53483933 0.463674   0.00148672]\n",
      "[1. 0. 0.] <-> [0.9959436  0.00135525 0.00270108]\n",
      "[1. 0. 0.] <-> [0.9964419  0.00161653 0.00194151]\n",
      "[1. 0. 0.] <-> [0.99201244 0.00112197 0.00686555]\n",
      "[1. 0. 0.] <-> [0.9254568  0.07215356 0.00238958]\n",
      "[0. 1. 0.] <-> [6.5432722e-03 9.9343264e-01 2.4011510e-05]\n",
      "[1. 0. 0.] <-> [0.9944534  0.00115781 0.00438882]\n",
      "[0. 0. 1.] <-> [6.9520253e-01 5.3395698e-04 3.0426347e-01]\n",
      "[1. 0. 0.] <-> [0.9959453  0.00180012 0.00225459]\n",
      "[0. 1. 0.] <-> [2.9014772e-02 9.7088379e-01 1.0134468e-04]\n",
      "[1. 0. 0.] <-> [0.99497104 0.00122876 0.00380016]\n",
      "[1. 0. 0.] <-> [0.9888127  0.00771816 0.00346923]\n",
      "[0. 1. 0.] <-> [0.3592391  0.63970673 0.00105415]\n",
      "[1. 0. 0.] <-> [8.8355404e-01 7.7973178e-04 1.1566624e-01]\n",
      "[1. 0. 0.] <-> [0.99582976 0.00262747 0.00154273]\n",
      "[1. 0. 0.] <-> [0.9937239  0.00102327 0.00525279]\n",
      "[1. 0. 0.] <-> [0.99594986 0.00106867 0.00298142]\n",
      "[1. 0. 0.] <-> [0.9966163  0.00128167 0.00210207]\n",
      "[0. 1. 0.] <-> [0.4914339  0.5073476  0.00121849]\n",
      "[0. 1. 0.] <-> [8.5322009e-03 9.9143618e-01 3.1535834e-05]\n",
      "[1. 0. 0.] <-> [9.8866665e-01 9.4691606e-04 1.0386503e-02]\n",
      "[1. 0. 0.] <-> [9.9635857e-01 9.6188154e-04 2.6795843e-03]\n",
      "[1. 0. 0.] <-> [9.903105e-01 9.211256e-04 8.768318e-03]\n",
      "[1. 0. 0.] <-> [9.1886538e-01 7.9484354e-04 8.0339812e-02]\n",
      "[0. 0. 1.] <-> [6.2453179e-03 4.3727673e-06 9.9375027e-01]\n",
      "[1. 0. 0.] <-> [9.9362975e-01 9.4649737e-04 5.4236939e-03]\n",
      "[1. 0. 0.] <-> [0.99700123 0.00124946 0.00174923]\n",
      "[1. 0. 0.] <-> [9.9511164e-01 9.8180270e-04 3.9065708e-03]\n",
      "[1. 0. 0.] <-> [0.9952749  0.00165348 0.0030716 ]\n",
      "[0. 1. 0.] <-> [6.3675619e-03 9.9360895e-01 2.3436414e-05]\n",
      "[0. 0. 1.] <-> [6.2843286e-03 1.5769176e-04 9.9355799e-01]\n",
      "[1. 0. 0.] <-> [0.9954     0.00245119 0.00214885]\n",
      "[1. 0. 0.] <-> [9.453031e-01 9.372397e-04 5.375975e-02]\n",
      "[1. 0. 0.] <-> [0.99536186 0.00298302 0.00165513]\n",
      "[1. 0. 0.] <-> [0.9872988  0.01085446 0.00184678]\n",
      "[0. 1. 0.] <-> [6.3114790e-03 9.9366260e-01 2.5882995e-05]\n",
      "[1. 0. 0.] <-> [0.9957386  0.00254072 0.00172072]\n",
      "[0. 1. 0.] <-> [5.9242338e-02 9.4056314e-01 1.9455938e-04]\n",
      "[1. 0. 0.] <-> [0.9956808  0.00258948 0.00172975]\n",
      "[1. 0. 0.] <-> [0.99218917 0.00104053 0.00677038]\n",
      "[1. 0. 0.] <-> [8.730395e-01 8.226239e-04 1.261379e-01]\n",
      "[1. 0. 0.] <-> [0.99683267 0.00148672 0.00168063]\n",
      "[1. 0. 0.] <-> [0.996014   0.00223243 0.00175353]\n",
      "[1. 0. 0.] <-> [0.9961128  0.00101093 0.00287624]\n",
      "[0. 1. 0.] <-> [1.4951185e-02 9.8499423e-01 5.4607361e-05]\n",
      "[1. 0. 0.] <-> [0.9963182  0.00128216 0.00239968]\n",
      "[1. 0. 0.] <-> [0.9932585  0.00126811 0.00547341]\n",
      "[1. 0. 0.] <-> [2.9530978e-01 2.4663704e-04 7.0444357e-01]\n",
      "[1. 0. 0.] <-> [0.9632386  0.03495349 0.00180797]\n",
      "[1. 0. 0.] <-> [0.99685967 0.00117053 0.00196982]\n",
      "[0. 1. 0.] <-> [6.7215892e-03 9.9325401e-01 2.4423325e-05]\n",
      "[0. 0. 1.] <-> [6.2070023e-03 4.1565763e-06 9.9378878e-01]\n",
      "[1. 0. 0.] <-> [9.9240220e-01 9.1783545e-04 6.6799587e-03]\n",
      "[1. 0. 0.] <-> [6.219458e-01 5.292127e-04 3.775250e-01]\n",
      "[1. 0. 0.] <-> [0.99701047 0.0012858  0.00170375]\n",
      "[1. 0. 0.] <-> [0.99553347 0.00277527 0.00169123]\n",
      "[0. 1. 0.] <-> [1.0435762e-02 9.8952752e-01 3.6672867e-05]\n",
      "[1. 0. 0.] <-> [9.7969866e-01 9.1434806e-04 1.9387061e-02]\n",
      "[1. 0. 0.] <-> [9.922996e-01 9.354782e-04 6.764985e-03]\n",
      "[1. 0. 0.] <-> [0.99630594 0.00136499 0.00232903]\n",
      "[1. 0. 0.] <-> [0.9963468  0.00157345 0.00207985]\n",
      "{'accuracy': 0.9753086419753086, 'mean_square_error': 0.06427590534133401, 'categorical_crossentropy': 0.11249429208260996, 'essential_metrics': {0: {'tp_hit': 78, 'fp_hit': 2, 'tn_hit': 26, 'fn_hit': 2}, 1: {'tp_hit': 14, 'fp_hit': 0, 'tn_hit': 93, 'fn_hit': 1}, 2: {'tp_hit': 12, 'fp_hit': 2, 'tn_hit': 93, 'fn_hit': 1}}}\n"
     ]
    }
   ],
   "source": [
    "# recall phase\n",
    "score = model.evaluate(x_test, y_test, False)\n",
    "print(score)"
   ]
  },
  {
   "cell_type": "code",
   "execution_count": 12,
   "metadata": {},
   "outputs": [
    {
     "data": {
      "image/png": "[encoded data removed]",
      "text/plain": [
       "<Figure size 864x360 with 1 Axes>"
      ]
     },
     "metadata": {
      "needs_background": "light"
     },
     "output_type": "display_data"
    },
    {
     "data": {
      "image/png": "[encoded data removed]",
      "text/plain": [
       "<Figure size 864x360 with 1 Axes>"
      ]
     },
     "metadata": {
      "needs_background": "light"
     },
     "output_type": "display_data"
    }
   ],
   "source": [
    "draw_plot(x = [[i for i in range(len(history))], [(i+1)*breakpoint for i in range(len(checkpoints))]], y_list = [train_cce, [ ckp[model.loss_fn] for ckp in checkpoints ]], x_label = 'Epochs', \\\n",
    "    y_label = model.loss_fn, legend=['train', 'test'])\n",
    "acc = [ ckp['accuracy'] for ckp in checkpoints ]\n",
    "draw_plot(x = [[i for i in range(len(history))], [(i+1)*breakpoint for i in range(len(checkpoints))]], y_list = [train_acc, acc], x_label = 'Checkpoints', \\\n",
    "    y_label = 'accuracy', legend=['train', 'test'])"
   ]
  },
  {
   "cell_type": "code",
   "execution_count": 13,
   "metadata": {},
   "outputs": [
    {
     "name": "stdout",
     "output_type": "stream",
     "text": [
      "{'accuracy': 0.8580246913580247, 'mean_square_error': 0.34259797266151865, 'categorical_crossentropy': 0.6199843088785807, 'essential_metrics': {0: {'tp_hit': 80, 'fp_hit': 23, 'tn_hit': 5, 'fn_hit': 0}, 1: {'tp_hit': 5, 'fp_hit': 0, 'tn_hit': 93, 'fn_hit': 10}, 2: {'tp_hit': 0, 'fp_hit': 0, 'tn_hit': 95, 'fn_hit': 13}}, 'checkpoint': 10} \n",
      "\n",
      "\n",
      "{'accuracy': 0.8765432098765432, 'mean_square_error': 0.303076821249368, 'categorical_crossentropy': 0.5729131345395688, 'essential_metrics': {0: {'tp_hit': 80, 'fp_hit': 20, 'tn_hit': 8, 'fn_hit': 0}, 1: {'tp_hit': 8, 'fp_hit': 0, 'tn_hit': 93, 'fn_hit': 7}, 2: {'tp_hit': 0, 'fp_hit': 0, 'tn_hit': 95, 'fn_hit': 13}}, 'checkpoint': 20} \n",
      "\n",
      "\n",
      "{'accuracy': 0.845679012345679, 'mean_square_error': 0.32669078424210723, 'categorical_crossentropy': 0.5400112293384693, 'essential_metrics': {0: {'tp_hit': 80, 'fp_hit': 25, 'tn_hit': 3, 'fn_hit': 0}, 1: {'tp_hit': 0, 'fp_hit': 0, 'tn_hit': 93, 'fn_hit': 15}, 2: {'tp_hit': 3, 'fp_hit': 0, 'tn_hit': 95, 'fn_hit': 10}}, 'checkpoint': 30} \n",
      "\n",
      "\n",
      "{'accuracy': 0.8395061728395061, 'mean_square_error': 0.2861272658993577, 'categorical_crossentropy': 0.48507538548222295, 'essential_metrics': {0: {'tp_hit': 80, 'fp_hit': 26, 'tn_hit': 2, 'fn_hit': 0}, 1: {'tp_hit': 2, 'fp_hit': 0, 'tn_hit': 93, 'fn_hit': 13}, 2: {'tp_hit': 0, 'fp_hit': 0, 'tn_hit': 95, 'fn_hit': 13}}, 'checkpoint': 40} \n",
      "\n",
      "\n",
      "{'accuracy': 0.9382716049382716, 'mean_square_error': 0.21763717049910147, 'categorical_crossentropy': 0.42351945241292316, 'essential_metrics': {0: {'tp_hit': 80, 'fp_hit': 10, 'tn_hit': 18, 'fn_hit': 0}, 1: {'tp_hit': 8, 'fp_hit': 0, 'tn_hit': 93, 'fn_hit': 7}, 2: {'tp_hit': 10, 'fp_hit': 0, 'tn_hit': 95, 'fn_hit': 3}}, 'checkpoint': 50} \n",
      "\n",
      "\n",
      "{'accuracy': 0.9629629629629629, 'mean_square_error': 0.19386679310542015, 'categorical_crossentropy': 0.39415211147732204, 'essential_metrics': {0: {'tp_hit': 80, 'fp_hit': 6, 'tn_hit': 22, 'fn_hit': 0}, 1: {'tp_hit': 13, 'fp_hit': 0, 'tn_hit': 93, 'fn_hit': 2}, 2: {'tp_hit': 9, 'fp_hit': 0, 'tn_hit': 95, 'fn_hit': 4}}, 'checkpoint': 60} \n",
      "\n",
      "\n",
      "{'accuracy': 0.9629629629629629, 'mean_square_error': 0.15000766790716846, 'categorical_crossentropy': 0.32059065500895184, 'essential_metrics': {0: {'tp_hit': 79, 'fp_hit': 5, 'tn_hit': 23, 'fn_hit': 1}, 1: {'tp_hit': 12, 'fp_hit': 0, 'tn_hit': 93, 'fn_hit': 3}, 2: {'tp_hit': 11, 'fp_hit': 1, 'tn_hit': 94, 'fn_hit': 2}}, 'checkpoint': 70} \n",
      "\n",
      "\n",
      "{'accuracy': 0.9506172839506173, 'mean_square_error': 0.14453343766997367, 'categorical_crossentropy': 0.28481285660355177, 'essential_metrics': {0: {'tp_hit': 80, 'fp_hit': 8, 'tn_hit': 20, 'fn_hit': 0}, 1: {'tp_hit': 9, 'fp_hit': 0, 'tn_hit': 93, 'fn_hit': 6}, 2: {'tp_hit': 11, 'fp_hit': 0, 'tn_hit': 95, 'fn_hit': 2}}, 'checkpoint': 80} \n",
      "\n",
      "\n",
      "{'accuracy': 0.9567901234567902, 'mean_square_error': 0.1117111700747282, 'categorical_crossentropy': 0.23994770756474249, 'essential_metrics': {0: {'tp_hit': 78, 'fp_hit': 5, 'tn_hit': 23, 'fn_hit': 2}, 1: {'tp_hit': 12, 'fp_hit': 1, 'tn_hit': 92, 'fn_hit': 3}, 2: {'tp_hit': 11, 'fp_hit': 1, 'tn_hit': 94, 'fn_hit': 2}}, 'checkpoint': 90} \n",
      "\n",
      "\n",
      "{'accuracy': 0.9753086419753086, 'mean_square_error': 0.10068471708376504, 'categorical_crossentropy': 0.21374635343198423, 'essential_metrics': {0: {'tp_hit': 78, 'fp_hit': 2, 'tn_hit': 26, 'fn_hit': 2}, 1: {'tp_hit': 14, 'fp_hit': 1, 'tn_hit': 92, 'fn_hit': 1}, 2: {'tp_hit': 12, 'fp_hit': 1, 'tn_hit': 94, 'fn_hit': 1}}, 'checkpoint': 100} \n",
      "\n",
      "\n",
      "{'accuracy': 0.9691358024691358, 'mean_square_error': 0.08597959089475733, 'categorical_crossentropy': 0.17527165236296477, 'essential_metrics': {0: {'tp_hit': 77, 'fp_hit': 2, 'tn_hit': 26, 'fn_hit': 3}, 1: {'tp_hit': 14, 'fp_hit': 0, 'tn_hit': 93, 'fn_hit': 1}, 2: {'tp_hit': 12, 'fp_hit': 3, 'tn_hit': 92, 'fn_hit': 1}}, 'checkpoint': 110} \n",
      "\n",
      "\n",
      "{'accuracy': 0.9753086419753086, 'mean_square_error': 0.07362699775478612, 'categorical_crossentropy': 0.14982242937441226, 'essential_metrics': {0: {'tp_hit': 79, 'fp_hit': 3, 'tn_hit': 25, 'fn_hit': 1}, 1: {'tp_hit': 13, 'fp_hit': 0, 'tn_hit': 93, 'fn_hit': 2}, 2: {'tp_hit': 12, 'fp_hit': 1, 'tn_hit': 94, 'fn_hit': 1}}, 'checkpoint': 120} \n",
      "\n",
      "\n",
      "{'accuracy': 0.9814814814814815, 'mean_square_error': 0.06821041385146945, 'categorical_crossentropy': 0.13156981821413394, 'essential_metrics': {0: {'tp_hit': 79, 'fp_hit': 2, 'tn_hit': 26, 'fn_hit': 1}, 1: {'tp_hit': 14, 'fp_hit': 0, 'tn_hit': 93, 'fn_hit': 1}, 2: {'tp_hit': 12, 'fp_hit': 1, 'tn_hit': 94, 'fn_hit': 1}}, 'checkpoint': 130} \n",
      "\n",
      "\n",
      "{'accuracy': 0.9629629629629629, 'mean_square_error': 0.07469982897292676, 'categorical_crossentropy': 0.13422837963810674, 'essential_metrics': {0: {'tp_hit': 78, 'fp_hit': 4, 'tn_hit': 24, 'fn_hit': 2}, 1: {'tp_hit': 12, 'fp_hit': 0, 'tn_hit': 93, 'fn_hit': 3}, 2: {'tp_hit': 12, 'fp_hit': 2, 'tn_hit': 93, 'fn_hit': 1}}, 'checkpoint': 140} \n",
      "\n",
      "\n",
      "{'accuracy': 0.9629629629629629, 'mean_square_error': 0.06864618741385568, 'categorical_crossentropy': 0.12171112166510688, 'essential_metrics': {0: {'tp_hit': 78, 'fp_hit': 4, 'tn_hit': 24, 'fn_hit': 2}, 1: {'tp_hit': 12, 'fp_hit': 0, 'tn_hit': 93, 'fn_hit': 3}, 2: {'tp_hit': 12, 'fp_hit': 2, 'tn_hit': 93, 'fn_hit': 1}}, 'checkpoint': 150} \n",
      "\n",
      "\n",
      "{'accuracy': 0.9629629629629629, 'mean_square_error': 0.07331188853752343, 'categorical_crossentropy': 0.12603588457460757, 'essential_metrics': {0: {'tp_hit': 77, 'fp_hit': 3, 'tn_hit': 25, 'fn_hit': 3}, 1: {'tp_hit': 13, 'fp_hit': 0, 'tn_hit': 93, 'fn_hit': 2}, 2: {'tp_hit': 12, 'fp_hit': 3, 'tn_hit': 92, 'fn_hit': 1}}, 'checkpoint': 160} \n",
      "\n",
      "\n",
      "{'accuracy': 0.9691358024691358, 'mean_square_error': 0.06695973291457519, 'categorical_crossentropy': 0.11540273383811668, 'essential_metrics': {0: {'tp_hit': 78, 'fp_hit': 3, 'tn_hit': 25, 'fn_hit': 2}, 1: {'tp_hit': 13, 'fp_hit': 0, 'tn_hit': 93, 'fn_hit': 2}, 2: {'tp_hit': 12, 'fp_hit': 2, 'tn_hit': 93, 'fn_hit': 1}}, 'checkpoint': 170} \n",
      "\n",
      "\n",
      "{'accuracy': 0.9629629629629629, 'mean_square_error': 0.0720954626089467, 'categorical_crossentropy': 0.1242311089127152, 'essential_metrics': {0: {'tp_hit': 77, 'fp_hit': 3, 'tn_hit': 25, 'fn_hit': 3}, 1: {'tp_hit': 13, 'fp_hit': 1, 'tn_hit': 92, 'fn_hit': 2}, 2: {'tp_hit': 12, 'fp_hit': 2, 'tn_hit': 93, 'fn_hit': 1}}, 'checkpoint': 180} \n",
      "\n",
      "\n",
      "{'accuracy': 0.9691358024691358, 'mean_square_error': 0.0678121599899124, 'categorical_crossentropy': 0.11609571068375199, 'essential_metrics': {0: {'tp_hit': 78, 'fp_hit': 3, 'tn_hit': 25, 'fn_hit': 2}, 1: {'tp_hit': 13, 'fp_hit': 0, 'tn_hit': 93, 'fn_hit': 2}, 2: {'tp_hit': 12, 'fp_hit': 2, 'tn_hit': 93, 'fn_hit': 1}}, 'checkpoint': 190} \n",
      "\n",
      "\n",
      "{'accuracy': 0.9753086419753086, 'mean_square_error': 0.06427590534133401, 'categorical_crossentropy': 0.11249429208260996, 'essential_metrics': {0: {'tp_hit': 78, 'fp_hit': 2, 'tn_hit': 26, 'fn_hit': 2}, 1: {'tp_hit': 14, 'fp_hit': 0, 'tn_hit': 93, 'fn_hit': 1}, 2: {'tp_hit': 12, 'fp_hit': 2, 'tn_hit': 93, 'fn_hit': 1}}, 'checkpoint': 200} \n",
      "\n",
      "\n"
     ]
    }
   ],
   "source": [
    "for checkpoint in checkpoints:\n",
    "    print(checkpoint, '\\n\\n')"
   ]
  },
  {
   "cell_type": "code",
   "execution_count": 14,
   "metadata": {},
   "outputs": [
    {
     "name": "stdout",
     "output_type": "stream",
     "text": [
      "Layer 1\n",
      "Neuron 0: weights:\n",
      "[ 0.23906699  3.         -0.701259   -2.184632   -3.        ]\n",
      " bias: 2.0529379844665527\n",
      "\n",
      "Neuron 1: weights:\n",
      "[ 1.7071227 -3.        -1.5772171 -3.         1.1260482]\n",
      " bias: 1.6498916149139404\n",
      "\n",
      "Neuron 2: weights:\n",
      "[ 2.1321514 -3.        -2.5527866 -1.7245997  3.       ]\n",
      " bias: 3.0\n",
      "\n",
      "Neuron 3: weights:\n",
      "[ 0.10034345  2.8918447   1.3288347  -1.5390859  -3.        ]\n",
      " bias: 3.0\n",
      "\n",
      "$\n",
      "Layer 2\n",
      "Neuron 0: weights:\n",
      "[3.       3.       3.       2.615456]\n",
      " bias: -3.0\n",
      "\n",
      "Neuron 1: weights:\n",
      "[ 3. -3. -3.  3.]\n",
      " bias: 1.6746143102645874\n",
      "\n",
      "Neuron 2: weights:\n",
      "[-3.         3.         2.0758526 -3.       ]\n",
      " bias: 3.0\n",
      "\n",
      "$\n",
      "\n"
     ]
    }
   ],
   "source": [
    "print(model)"
   ]
  },
  {
   "cell_type": "code",
   "execution_count": null,
   "metadata": {},
   "outputs": [],
   "source": []
  }
 ],
 "metadata": {
  "kernelspec": {
   "display_name": "Python 3",
   "language": "python",
   "name": "python3"
  },
  "language_info": {
   "codemirror_mode": {
    "name": "ipython",
    "version": 3
   },
   "file_extension": ".py",
   "mimetype": "text/x-python",
   "name": "python",
   "nbconvert_exporter": "python",
   "pygments_lexer": "ipython3",
   "version": "3.6.12"
  }
 },
 "nbformat": 4,
 "nbformat_minor": 2
}
