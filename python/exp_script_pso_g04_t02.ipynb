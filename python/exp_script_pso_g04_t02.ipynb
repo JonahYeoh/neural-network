{
 "cells": [
  {
   "cell_type": "code",
   "execution_count": 1,
   "metadata": {},
   "outputs": [],
   "source": [
    "# dependency\n",
    "import numpy as np\n",
    "import pandas as pd\n",
    "import copy\n",
    "import math\n",
    "import sys\n",
    "import os\n",
    "from activations import relu, leaky_relu, sigmoid, tanh, softmax, d_sigmoid, d_relu\n",
    "from initializers import glorot_uniform, random_normal, random_uniform\n",
    "from regularizers import l1_regularizer, l2_regularizer\n",
    "from utility import trim_tail, multiply, subtract, get_nparams, one_hot_encoding, get_data\n",
    "from metrics import MSE, CCE, ACC, PRECISION, RECALL, essential_metrics, wondering_penalty, close_gap_penalty\n",
    "from pso import PSO\n",
    "from ga import GA\n",
    "from nn import Network\n",
    "from layer import DenseLayer\n",
    "from scalers import MinMaxScaler, StandardScaler"
   ]
  },
  {
   "cell_type": "code",
   "execution_count": 2,
   "metadata": {},
   "outputs": [],
   "source": [
    "# reference\n",
    "metrics_fn_dict = dict()\n",
    "metrics_fn_dict['accuracy'] = ACC\n",
    "metrics_fn_dict['categorical_crossentropy'] = CCE\n",
    "metrics_fn_dict['mean_square_error'] = MSE\n",
    "metrics_fn_dict['precision'] = PRECISION\n",
    "metrics_fn_dict['recall'] = RECALL\n",
    "metrics_fn_dict['essential_metrics'] = essential_metrics"
   ]
  },
  {
   "cell_type": "code",
   "execution_count": 3,
   "metadata": {},
   "outputs": [],
   "source": [
    "# model\n",
    "model = Network(5, lr = None)\n",
    "model.add_layer(DenseLayer(1, 4, True, afn=sigmoid, dafn=None, rfn=None))\n",
    "model.add_layer(DenseLayer(2, 3, True, afn=softmax, dafn=None, rfn=None))"
   ]
  },
  {
   "cell_type": "code",
   "execution_count": 4,
   "metadata": {},
   "outputs": [],
   "source": [
    "pso = PSO(dict(m = 50,\n",
    "    weight_constraint = [-3, 3], \n",
    "    velocity_constraint = [-0.1, 0.1],\n",
    "    c1 = 2,\n",
    "    c2 = 2,\n",
    "    w = 1,\n",
    "    w_decay = 1,\n",
    "    scale_hyperparameter = False,\n",
    "    regularizer = None,\n",
    "    mask = True))"
   ]
  },
  {
   "cell_type": "code",
   "execution_count": 5,
   "metadata": {},
   "outputs": [
    {
     "name": "stdout",
     "output_type": "stream",
     "text": [
      "building layer 1 with 5\n",
      "24\n",
      "building layer 2 with 4\n",
      "15\n"
     ]
    }
   ],
   "source": [
    "model.compile(loss_fn = 'categorical_crossentropy', optimizer = pso, \\\n",
    "    metrics = ['accuracy', 'mean_square_error', 'categorical_crossentropy'])"
   ]
  },
  {
   "cell_type": "code",
   "execution_count": 6,
   "metadata": {},
   "outputs": [
    {
     "name": "stdout",
     "output_type": "stream",
     "text": [
      "<class 'pandas.core.frame.DataFrame'>\n",
      "RangeIndex: 107 entries, 0 to 106\n",
      "Data columns (total 6 columns):\n",
      " #   Column  Non-Null Count  Dtype  \n",
      "---  ------  --------------  -----  \n",
      " 0   f1      107 non-null    float32\n",
      " 1   f2      107 non-null    float32\n",
      " 2   f3      107 non-null    float32\n",
      " 3   f4      107 non-null    float32\n",
      " 4   f5      107 non-null    float32\n",
      " 5   label   107 non-null    float32\n",
      "dtypes: float32(6)\n",
      "memory usage: 2.6 KB\n",
      "None\n",
      "<class 'pandas.core.frame.DataFrame'>\n",
      "RangeIndex: 108 entries, 0 to 107\n",
      "Data columns (total 6 columns):\n",
      " #   Column  Non-Null Count  Dtype  \n",
      "---  ------  --------------  -----  \n",
      " 0   f1      108 non-null    float32\n",
      " 1   f2      108 non-null    float32\n",
      " 2   f3      108 non-null    float32\n",
      " 3   f4      108 non-null    float32\n",
      " 4   f5      108 non-null    float32\n",
      " 5   label   108 non-null    float32\n",
      "dtypes: float32(6)\n",
      "memory usage: 2.7 KB\n",
      "None\n"
     ]
    }
   ],
   "source": [
    "# data loading\n",
    "DATA = os.path.join('c:\\\\Users\\\\tcumi\\\\github_repo\\\\neural-network\\\\', 'dataset')\n",
    "GROUP = 4\n",
    "COLUMNS = ['f1', 'f2', 'f3', 'f4', 'f5', 'label']\n",
    "N_CLASS = 3\n",
    "EPOCHS = 500\n",
    "train_dir, test_dir = \"..//dataset//training_data{}.txt\".format(GROUP), \"..//dataset//testing_data{}.txt\".format(GROUP)\n",
    "train, test = get_data(DATA, train_dir, COLUMNS), get_data(DATA, test_dir, COLUMNS)\n",
    "# shuffle\n",
    "train, test = train.sample(frac=1), test.sample(frac=1)\n",
    "x_train, y_train = train.drop('label', axis=1), train['label']\n",
    "x_test, y_test = test.drop('label', axis=1), test['label']"
   ]
  },
  {
   "cell_type": "code",
   "execution_count": 7,
   "metadata": {},
   "outputs": [],
   "source": [
    "# data scaling and encoding\n",
    "scaler = StandardScaler(['f1', 'f2', 'f3', 'f4', 'f5'])\n",
    "scaler.fit(x_train)\n",
    "x_train = scaler.transform(x_train)\n",
    "x_test = scaler.transform(x_test)\n",
    "y_train = one_hot_encoding(y_train, N_CLASS)\n",
    "y_test = one_hot_encoding(y_test, N_CLASS)"
   ]
  },
  {
   "cell_type": "code",
   "execution_count": 8,
   "metadata": {
    "tags": [
     "outputPrepend"
    ]
   },
   "outputs": [
    {
     "name": "stdout",
     "output_type": "stream",
     "text": [
      "Checkpoint 100, Accuracy: 0.9567901234567902, Loss: 0.22849061754014757\n",
      "Checkpoint 200, Accuracy: 0.9629629629629629, Loss: 0.13606250727618183\n",
      "Checkpoint 300, Accuracy: 0.9691358024691358, Loss: 0.10914873193811488\n",
      "Checkpoint 400, Accuracy: 0.9691358024691358, Loss: 0.11088961142080801\n",
      "Checkpoint 500, Accuracy: 0.9691358024691358, Loss: 0.10986027894196687\n"
     ]
    }
   ],
   "source": [
    "# learning phase\n",
    "breakpoint = 100\n",
    "checkpoints = list()\n",
    "history = list()\n",
    "for century in range(0, EPOCHS, breakpoint):\n",
    "    sub_history = model.fit(x_train, y_train, breakpoint, verbose = 0)\n",
    "    score = model.evaluate(x_test, y_test, False, verbose = 0)\n",
    "    print('Checkpoint {}, Accuracy: {}, Loss: {}'.format(century+breakpoint, score['accuracy'], score[model.loss_fn]))\n",
    "    score['checkpoint'] = century + breakpoint\n",
    "    checkpoints.append(score)\n",
    "    history.extend(sub_history)"
   ]
  },
  {
   "cell_type": "code",
   "execution_count": 9,
   "metadata": {},
   "outputs": [],
   "source": [
    "import matplotlib.pyplot as plt\n",
    "\n",
    "def draw_plot(x, y_list, x_label=None, y_label=None, legend=None, title=None):\n",
    "    fig, ax = plt.subplots(figsize=(12,5))\n",
    "    for xi, yi in zip(x, y_list):\n",
    "        ax.plot(xi, yi)\n",
    "    if x_label is not None and y_label is not None:\n",
    "        ax.set(xlabel=x_label, ylabel=y_label, title='{} VS {}'.format(x_label, y_label))\n",
    "    if legend is not None:\n",
    "        ax.legend(legend)\n",
    "    ax.grid()\n",
    "    plt.show()"
   ]
  },
  {
   "cell_type": "code",
   "execution_count": 10,
   "metadata": {},
   "outputs": [
    {
     "name": "stdout",
     "output_type": "stream",
     "text": [
      "[1. 0. 0.] <-> [0.9953797  0.00307123 0.00154909]\n",
      "[0. 1. 0.] <-> [4.752119e-03 9.950830e-01 1.648805e-04]\n",
      "[1. 0. 0.] <-> [0.99623424 0.00161882 0.00214691]\n",
      "[1. 0. 0.] <-> [0.99718046 0.00153496 0.00128451]\n",
      "[1. 0. 0.] <-> [0.9969182  0.00188612 0.00119572]\n",
      "[0. 0. 1.] <-> [7.5009814e-03 9.7294505e-06 9.9248934e-01]\n",
      "[1. 0. 0.] <-> [0.99537945 0.00333382 0.0012867 ]\n",
      "[1. 0. 0.] <-> [0.9970897  0.0013919  0.00151852]\n",
      "[0. 0. 1.] <-> [1.1800205e-02 1.5319996e-05 9.8818445e-01]\n",
      "[1. 0. 0.] <-> [0.9932673  0.00534184 0.00139096]\n",
      "[0. 0. 1.] <-> [7.4253385e-03 9.5544792e-06 9.9256504e-01]\n",
      "[1. 0. 0.] <-> [0.9959065  0.00292355 0.00117002]\n",
      "[1. 0. 0.] <-> [0.9957918  0.00302656 0.00118165]\n",
      "[1. 0. 0.] <-> [0.9684559  0.00155555 0.02998852]\n",
      "[1. 0. 0.] <-> [0.9968899  0.00181102 0.00129917]\n",
      "[1. 0. 0.] <-> [0.9958477  0.00191116 0.0022411 ]\n",
      "[1. 0. 0.] <-> [0.915243   0.08238495 0.002372  ]\n",
      "[1. 0. 0.] <-> [0.9638379  0.03411423 0.0020478 ]\n",
      "[1. 0. 0.] <-> [0.9937801  0.00129923 0.0049207 ]\n",
      "[1. 0. 0.] <-> [0.9951579  0.00371976 0.00112233]\n",
      "[1. 0. 0.] <-> [0.5549875  0.44184214 0.0031703 ]\n",
      "[0. 1. 0.] <-> [4.753543e-03 9.950812e-01 1.652328e-04]\n",
      "[1. 0. 0.] <-> [0.9942715  0.00137419 0.00435427]\n",
      "[1. 0. 0.] <-> [0.97646743 0.00139878 0.02213375]\n",
      "[1. 0. 0.] <-> [0.823592   0.00110852 0.17529947]\n",
      "[1. 0. 0.] <-> [0.9968459  0.0014419  0.00171209]\n",
      "[1. 0. 0.] <-> [0.99606556 0.00282583 0.00110867]\n",
      "[1. 0. 0.] <-> [0.9946891  0.00324856 0.00206245]\n",
      "[1. 0. 0.] <-> [0.99660265 0.00153382 0.00186354]\n",
      "[0. 1. 0.] <-> [4.7521214e-03 9.9508297e-01 1.6490834e-04]\n",
      "[1. 0. 0.] <-> [0.9887677  0.00889878 0.00233355]\n",
      "[1. 0. 0.] <-> [0.99548256 0.00137719 0.00314027]\n",
      "[0. 1. 0.] <-> [4.7521191e-03 9.9508297e-01 1.6487704e-04]\n",
      "[1. 0. 0.] <-> [0.5655523  0.43087232 0.00357535]\n",
      "[0. 1. 0.] <-> [1.5893225e-02 9.8376393e-01 3.4290229e-04]\n",
      "[1. 0. 0.] <-> [0.9959584  0.00297758 0.00106404]\n",
      "[0. 0. 1.] <-> [9.7524766e-03 1.2552833e-05 9.9023497e-01]\n",
      "[1. 0. 0.] <-> [9.9709606e-01 1.9118845e-03 9.9202199e-04]\n",
      "[1. 0. 0.] <-> [0.97015756 0.01436478 0.01547772]\n",
      "[0. 0. 1.] <-> [6.929306e-03 9.600815e-06 9.930611e-01]\n",
      "[1. 0. 0.] <-> [0.99731183 0.00142172 0.00126655]\n",
      "[1. 0. 0.] <-> [0.995749   0.00146752 0.00278347]\n",
      "[0. 0. 1.] <-> [3.5895668e-02 4.6183941e-05 9.6405810e-01]\n",
      "[0. 1. 0.] <-> [4.7521214e-03 9.9508297e-01 1.6487672e-04]\n",
      "[1. 0. 0.] <-> [0.99717844 0.00173628 0.00108534]\n",
      "[0. 0. 1.] <-> [0.5600887  0.00074853 0.43916276]\n",
      "[0. 0. 1.] <-> [5.0784077e-02 6.5643086e-05 9.4915026e-01]\n",
      "[1. 0. 0.] <-> [0.9786632  0.01944667 0.00189005]\n",
      "[1. 0. 0.] <-> [0.9964561  0.00243438 0.00110951]\n",
      "[0. 0. 1.] <-> [1.1691550e-02 1.5506352e-05 9.8829299e-01]\n",
      "[0. 1. 0.] <-> [4.7836700e-03 9.9504954e-01 1.6680016e-04]\n",
      "[0. 1. 0.] <-> [4.7700200e-03 9.9506444e-01 1.6564339e-04]\n",
      "[0. 1. 0.] <-> [0.24161702 0.75672895 0.00165404]\n",
      "[1. 0. 0.] <-> [0.74251693 0.25390825 0.00357483]\n",
      "[1. 0. 0.] <-> [0.9898865  0.00130527 0.00880825]\n",
      "[1. 0. 0.] <-> [0.5757139  0.00087702 0.42340907]\n",
      "[0. 1. 0.] <-> [5.5439752e-02 9.4383329e-01 7.2698505e-04]\n",
      "[1. 0. 0.] <-> [0.2538091  0.74373585 0.00245499]\n",
      "[1. 0. 0.] <-> [0.9946243 0.0013046 0.004071 ]\n",
      "[1. 0. 0.] <-> [0.99699056 0.00194356 0.00106582]\n",
      "[1. 0. 0.] <-> [0.9927229  0.00317007 0.00410702]\n",
      "[1. 0. 0.] <-> [0.9968817  0.00153979 0.00157853]\n",
      "[0. 1. 0.] <-> [0.4361771  0.56154335 0.00227953]\n",
      "[1. 0. 0.] <-> [9.9559732e-02 1.3248403e-04 9.0030777e-01]\n",
      "[0. 1. 0.] <-> [5.6938841e-03 9.9411988e-01 1.8626862e-04]\n",
      "[1. 0. 0.] <-> [0.9952826  0.00200219 0.00271527]\n",
      "[1. 0. 0.] <-> [0.99660975 0.00175381 0.00163636]\n",
      "[0. 0. 1.] <-> [9.2020538e-03 1.1840114e-05 9.9078608e-01]\n",
      "[0. 1. 0.] <-> [1.1720854e-02 9.8798555e-01 2.9367331e-04]\n",
      "[1. 0. 0.] <-> [0.997407   0.00155041 0.0010425 ]\n",
      "[1. 0. 0.] <-> [0.99253476 0.0015396  0.00592568]\n",
      "[1. 0. 0.] <-> [0.9874523  0.00335472 0.00919297]\n",
      "[1. 0. 0.] <-> [0.9936054  0.00475574 0.00163889]\n",
      "[1. 0. 0.] <-> [0.9957231  0.00286196 0.00141488]\n",
      "[1. 0. 0.] <-> [0.99707675 0.00145615 0.00146715]\n",
      "[1. 0. 0.] <-> [0.7721806  0.22435777 0.00346155]\n",
      "[1. 0. 0.] <-> [0.99463034 0.00176785 0.00360176]\n",
      "[1. 0. 0.] <-> [0.9818171  0.00127108 0.01691179]\n",
      "[1. 0. 0.] <-> [0.99568695 0.00271252 0.00160046]\n",
      "[1. 0. 0.] <-> [0.99247426 0.00128578 0.00623988]\n",
      "[1. 0. 0.] <-> [0.99695086 0.00138972 0.00165948]\n",
      "[1. 0. 0.] <-> [0.9692731  0.028703   0.00202389]\n",
      "[1. 0. 0.] <-> [0.9520268  0.00125166 0.0467215 ]\n",
      "[1. 0. 0.] <-> [0.9686859  0.00146743 0.0298466 ]\n",
      "[1. 0. 0.] <-> [0.99744785 0.00135658 0.00119559]\n",
      "[0. 0. 1.] <-> [7.2311256e-03 9.3451781e-06 9.9275959e-01]\n",
      "[1. 0. 0.] <-> [0.98768914 0.01058298 0.00172786]\n",
      "[1. 0. 0.] <-> [0.99592197 0.0024446  0.00163338]\n",
      "[0. 0. 1.] <-> [7.1763052e-03 9.3929875e-06 9.9281436e-01]\n",
      "[1. 0. 0.] <-> [0.9891717  0.00906282 0.00176548]\n",
      "[1. 0. 0.] <-> [0.9737326  0.0209687  0.00529875]\n",
      "[1. 0. 0.] <-> [0.9964972  0.00195213 0.00155068]\n",
      "[1. 0. 0.] <-> [0.987638   0.00129288 0.01106918]\n",
      "[1. 0. 0.] <-> [0.99647933 0.0022172  0.00130351]\n",
      "[1. 0. 0.] <-> [0.9939375  0.00135638 0.00470605]\n",
      "[0. 1. 0.] <-> [4.7521414e-03 9.9508286e-01 1.6495361e-04]\n",
      "[1. 0. 0.] <-> [0.99675155 0.00178243 0.001466  ]\n",
      "[0. 1. 0.] <-> [1.792164e-02 9.816897e-01 3.885995e-04]\n",
      "[1. 0. 0.] <-> [0.99715877 0.00136108 0.00148017]\n",
      "[1. 0. 0.] <-> [0.85401094 0.0011116  0.14487746]\n",
      "[0. 0. 1.] <-> [0.54771245 0.00070592 0.4515816 ]\n",
      "[0. 0. 1.] <-> [1.1962367e-02 1.5393660e-05 9.8802221e-01]\n",
      "[0. 1. 0.] <-> [1.7332381e-02 9.8232841e-01 3.3924181e-04]\n",
      "[1. 0. 0.] <-> [0.9973115  0.0013038  0.00138474]\n",
      "[1. 0. 0.] <-> [0.9965821  0.00223982 0.00117821]\n",
      "[1. 0. 0.] <-> [0.12562558 0.87315655 0.00121782]\n",
      "[1. 0. 0.] <-> [0.9965898  0.00220219 0.00120812]\n",
      "[1. 0. 0.] <-> [0.9965879  0.00140933 0.00200272]\n",
      "{'accuracy': 0.9691358024691358, 'mean_square_error': 0.06948190305177217, 'categorical_crossentropy': 0.10986027894196687, 'essential_metrics': {0: {'tp_hit': 75, 'fp_hit': 2, 'tn_hit': 28, 'fn_hit': 3}, 1: {'tp_hit': 16, 'fp_hit': 2, 'tn_hit': 90, 'fn_hit': 0}, 2: {'tp_hit': 12, 'fp_hit': 1, 'tn_hit': 93, 'fn_hit': 2}}}\n"
     ]
    }
   ],
   "source": [
    "# recall phase\n",
    "score = model.evaluate(x_test, y_test, False)\n",
    "print(score)"
   ]
  },
  {
   "cell_type": "code",
   "execution_count": 11,
   "metadata": {},
   "outputs": [
    {
     "data": {
      "image/png": "[encoded data removed]",
      "text/plain": [
       "<Figure size 864x360 with 1 Axes>"
      ]
     },
     "metadata": {
      "needs_background": "light"
     },
     "output_type": "display_data"
    },
    {
     "data": {
      "image/png": "[encoded data removed]",
      "text/plain": [
       "<Figure size 864x360 with 1 Axes>"
      ]
     },
     "metadata": {
      "needs_background": "light"
     },
     "output_type": "display_data"
    }
   ],
   "source": [
    "draw_plot(x = [[i for i in range(len(history))], [(i+1)*breakpoint for i in range(len(checkpoints))]], y_list = [history, [ ckp[model.loss_fn] for ckp in checkpoints ]], x_label = 'Epochs', \\\n",
    "    y_label = model.loss_fn, legend=['train', 'test'])\n",
    "acc = [ ckp['accuracy'] for ckp in checkpoints ]\n",
    "draw_plot(x = [[(i+1)*breakpoint for i in range(len(checkpoints))]], y_list = [acc], x_label = 'Checkpoints', \\\n",
    "    y_label = 'accuracy')"
   ]
  },
  {
   "cell_type": "code",
   "execution_count": 12,
   "metadata": {},
   "outputs": [
    {
     "name": "stdout",
     "output_type": "stream",
     "text": [
      "{'accuracy': 0.9567901234567902, 'mean_square_error': 0.10873448333554513, 'categorical_crossentropy': 0.22849061754014757, 'essential_metrics': {0: {'tp_hit': 77, 'fp_hit': 6, 'tn_hit': 24, 'fn_hit': 1}, 1: {'tp_hit': 12, 'fp_hit': 0, 'tn_hit': 92, 'fn_hit': 4}, 2: {'tp_hit': 12, 'fp_hit': 1, 'tn_hit': 93, 'fn_hit': 2}}, 'checkpoint': 100} \n",
      "\n",
      "\n",
      "{'accuracy': 0.9629629629629629, 'mean_square_error': 0.07714384254325568, 'categorical_crossentropy': 0.13606250727618183, 'essential_metrics': {0: {'tp_hit': 75, 'fp_hit': 3, 'tn_hit': 27, 'fn_hit': 3}, 1: {'tp_hit': 15, 'fp_hit': 2, 'tn_hit': 90, 'fn_hit': 1}, 2: {'tp_hit': 12, 'fp_hit': 1, 'tn_hit': 93, 'fn_hit': 2}}, 'checkpoint': 200} \n",
      "\n",
      "\n",
      "{'accuracy': 0.9691358024691358, 'mean_square_error': 0.06695662944358514, 'categorical_crossentropy': 0.10914873193811488, 'essential_metrics': {0: {'tp_hit': 75, 'fp_hit': 2, 'tn_hit': 28, 'fn_hit': 3}, 1: {'tp_hit': 15, 'fp_hit': 2, 'tn_hit': 90, 'fn_hit': 1}, 2: {'tp_hit': 13, 'fp_hit': 1, 'tn_hit': 93, 'fn_hit': 1}}, 'checkpoint': 300} \n",
      "\n",
      "\n",
      "{'accuracy': 0.9691358024691358, 'mean_square_error': 0.0711793653281371, 'categorical_crossentropy': 0.11088961142080801, 'essential_metrics': {0: {'tp_hit': 75, 'fp_hit': 2, 'tn_hit': 28, 'fn_hit': 3}, 1: {'tp_hit': 16, 'fp_hit': 2, 'tn_hit': 90, 'fn_hit': 0}, 2: {'tp_hit': 12, 'fp_hit': 1, 'tn_hit': 93, 'fn_hit': 2}}, 'checkpoint': 400} \n",
      "\n",
      "\n",
      "{'accuracy': 0.9691358024691358, 'mean_square_error': 0.06948190305177217, 'categorical_crossentropy': 0.10986027894196687, 'essential_metrics': {0: {'tp_hit': 75, 'fp_hit': 2, 'tn_hit': 28, 'fn_hit': 3}, 1: {'tp_hit': 16, 'fp_hit': 2, 'tn_hit': 90, 'fn_hit': 0}, 2: {'tp_hit': 12, 'fp_hit': 1, 'tn_hit': 93, 'fn_hit': 2}}, 'checkpoint': 500} \n",
      "\n",
      "\n"
     ]
    }
   ],
   "source": [
    "for checkpoint in checkpoints:\n",
    "    print(checkpoint, '\\n\\n')"
   ]
  },
  {
   "cell_type": "code",
   "execution_count": 13,
   "metadata": {},
   "outputs": [
    {
     "name": "stdout",
     "output_type": "stream",
     "text": [
      "Layer 1\n",
      "Neuron 0: weights:\n",
      "[-2.1064148   3.          3.         -2.0690906  -0.68845195]\n",
      " bias: -3.0\n",
      "\n",
      "Neuron 1: weights:\n",
      "[-0.11018545 -3.          0.06985735  1.672993    3.        ]\n",
      " bias: -2.2377336025238037\n",
      "\n",
      "Neuron 2: weights:\n",
      "[ 2.1895099 -3.        -3.        -3.         0.4318237]\n",
      " bias: 1.831145167350769\n",
      "\n",
      "Neuron 3: weights:\n",
      "[ 0.1536467  -3.         -0.48113558  0.726962    3.        ]\n",
      " bias: -2.6527304649353027\n",
      "\n",
      "$\n",
      "Layer 2\n",
      "Neuron 0: weights:\n",
      "[-3. -3.  3. -3.]\n",
      " bias: 0.3611569106578827\n",
      "\n",
      "Neuron 1: weights:\n",
      "[ 3. -3. -3. -3.]\n",
      " bias: -0.2946077585220337\n",
      "\n",
      "Neuron 2: weights:\n",
      "[-3.         3.        -0.7195219  3.       ]\n",
      " bias: -3.0\n",
      "\n",
      "$\n",
      "\n"
     ]
    }
   ],
   "source": [
    "print(model)"
   ]
  }
 ],
 "metadata": {
  "kernelspec": {
   "display_name": "Python 3",
   "language": "python",
   "name": "python3"
  },
  "language_info": {
   "codemirror_mode": {
    "name": "ipython",
    "version": 3
   },
   "file_extension": ".py",
   "mimetype": "text/x-python",
   "name": "python",
   "nbconvert_exporter": "python",
   "pygments_lexer": "ipython3",
   "version": "3.6.10"
  }
 },
 "nbformat": 4,
 "nbformat_minor": 2
}
