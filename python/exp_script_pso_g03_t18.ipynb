{
 "cells": [
  {
   "cell_type": "code",
   "execution_count": 1,
   "metadata": {},
   "outputs": [],
   "source": [
    "# dependency\n",
    "import numpy as np\n",
    "import pandas as pd\n",
    "import copy\n",
    "import math\n",
    "import sys\n",
    "import os\n",
    "from activations import relu, leaky_relu, sigmoid, tanh, softmax, d_sigmoid, d_relu\n",
    "from initializers import glorot_uniform, random_normal, random_uniform\n",
    "from regularizers import l1_regularizer, l2_regularizer\n",
    "from utility import trim_tail, multiply, subtract, get_nparams, one_hot_encoding, get_data\n",
    "from metrics import MSE, CCE, ACC, PRECISION, RECALL, essential_metrics, wondering_penalty, close_gap_penalty\n",
    "from pso import PSO\n",
    "from ga import GA\n",
    "from nn import Network\n",
    "from layer import DenseLayer\n",
    "from scalers import MinMaxScaler, StandardScaler"
   ]
  },
  {
   "cell_type": "code",
   "execution_count": 2,
   "metadata": {},
   "outputs": [],
   "source": [
    "# reference\n",
    "metrics_fn_dict = dict()\n",
    "metrics_fn_dict['accuracy'] = ACC\n",
    "metrics_fn_dict['categorical_crossentropy'] = CCE\n",
    "metrics_fn_dict['mean_square_error'] = MSE\n",
    "metrics_fn_dict['precision'] = PRECISION\n",
    "metrics_fn_dict['recall'] = RECALL\n",
    "metrics_fn_dict['essential_metrics'] = essential_metrics"
   ]
  },
  {
   "cell_type": "code",
   "execution_count": 3,
   "metadata": {},
   "outputs": [],
   "source": [
    "# model\n",
    "model = Network(5, lr = None)\n",
    "model.add_layer(DenseLayer(1, 4, True, afn=sigmoid, dafn=None, rfn=None))\n",
    "model.add_layer(DenseLayer(2, 3, True, afn=softmax, dafn=None, rfn=None))"
   ]
  },
  {
   "cell_type": "code",
   "execution_count": 4,
   "metadata": {},
   "outputs": [
    {
     "name": "stdout",
     "output_type": "stream",
     "text": [
      "see one see two 2 0.5\n"
     ]
    }
   ],
   "source": [
    "pso = PSO(dict(m = 50,\n",
    "    weight_constraint = [-3, 3], \n",
    "    velocity_constraint = [-0.1, 0.1],\n",
    "    c1 = [0.5, 2],\n",
    "    c2 = [0.5, 2],\n",
    "    w = [0.5, 1.6],\n",
    "    w_decay = 0.95,\n",
    "    scale_hyperparameter = False,\n",
    "    regularizer = None,\n",
    "    mask = True))"
   ]
  },
  {
   "cell_type": "code",
   "execution_count": 5,
   "metadata": {},
   "outputs": [
    {
     "name": "stdout",
     "output_type": "stream",
     "text": [
      "building layer 1 with 5\n",
      "24\n",
      "building layer 2 with 4\n",
      "15\n"
     ]
    }
   ],
   "source": [
    "model.compile(loss_fn = 'categorical_crossentropy', optimizer = pso, \\\n",
    "    metrics = ['accuracy', 'mean_square_error', 'categorical_crossentropy'])"
   ]
  },
  {
   "cell_type": "code",
   "execution_count": 6,
   "metadata": {},
   "outputs": [
    {
     "name": "stdout",
     "output_type": "stream",
     "text": [
      "<class 'pandas.core.frame.DataFrame'>\n",
      "RangeIndex: 107 entries, 0 to 106\n",
      "Data columns (total 6 columns):\n",
      " #   Column  Non-Null Count  Dtype  \n",
      "---  ------  --------------  -----  \n",
      " 0   f1      107 non-null    float32\n",
      " 1   f2      107 non-null    float32\n",
      " 2   f3      107 non-null    float32\n",
      " 3   f4      107 non-null    float32\n",
      " 4   f5      107 non-null    float32\n",
      " 5   label   107 non-null    float32\n",
      "dtypes: float32(6)\n",
      "memory usage: 2.6 KB\n",
      "None\n",
      "<class 'pandas.core.frame.DataFrame'>\n",
      "RangeIndex: 108 entries, 0 to 107\n",
      "Data columns (total 6 columns):\n",
      " #   Column  Non-Null Count  Dtype  \n",
      "---  ------  --------------  -----  \n",
      " 0   f1      108 non-null    float32\n",
      " 1   f2      108 non-null    float32\n",
      " 2   f3      108 non-null    float32\n",
      " 3   f4      108 non-null    float32\n",
      " 4   f5      108 non-null    float32\n",
      " 5   label   108 non-null    float32\n",
      "dtypes: float32(6)\n",
      "memory usage: 2.7 KB\n",
      "None\n"
     ]
    }
   ],
   "source": [
    "# data loading\n",
    "DATA = os.path.join('c:\\\\Users\\\\tcumi\\\\github_repo\\\\neural-network\\\\', 'dataset')\n",
    "GROUP = 3\n",
    "COLUMNS = ['f1', 'f2', 'f3', 'f4', 'f5', 'label']\n",
    "N_CLASS = 3\n",
    "EPOCHS = 500\n",
    "train_dir, test_dir = \"..//dataset//training_data{}.txt\".format(GROUP), \"..//dataset//testing_data{}.txt\".format(GROUP)\n",
    "train, test = get_data(DATA, train_dir, COLUMNS), get_data(DATA, test_dir, COLUMNS)\n",
    "# shuffle\n",
    "train, test = train.sample(frac=1), test.sample(frac=1)\n",
    "x_train, y_train = train.drop('label', axis=1), train['label']\n",
    "x_test, y_test = test.drop('label', axis=1), test['label']"
   ]
  },
  {
   "cell_type": "code",
   "execution_count": 7,
   "metadata": {},
   "outputs": [],
   "source": [
    "# data scaling and encoding\n",
    "scaler = StandardScaler(['f1', 'f2', 'f3', 'f4', 'f5'])\n",
    "scaler.fit(x_train)\n",
    "x_train = scaler.transform(x_train)\n",
    "x_test = scaler.transform(x_test)\n",
    "y_train = one_hot_encoding(y_train, N_CLASS)\n",
    "y_test = one_hot_encoding(y_test, N_CLASS)"
   ]
  },
  {
   "cell_type": "code",
   "execution_count": 8,
   "metadata": {
    "tags": [
     "outputPrepend"
    ]
   },
   "outputs": [
    {
     "name": "stdout",
     "output_type": "stream",
     "text": [
      "Checkpoint 100, Accuracy: 0.9320987654320988, Loss: 0.23623549496686017\n",
      "Checkpoint 200, Accuracy: 0.9691358024691358, Loss: 0.12305660601015445\n",
      "Checkpoint 300, Accuracy: 0.9629629629629629, Loss: 0.10813041969581887\n",
      "Checkpoint 400, Accuracy: 0.9753086419753086, Loss: 0.10192155838012695\n",
      "Checkpoint 500, Accuracy: 0.9691358024691358, Loss: 0.10111130608452691\n"
     ]
    }
   ],
   "source": [
    "# learning phase\n",
    "breakpoint = 100\n",
    "checkpoints = list()\n",
    "history = list()\n",
    "for century in range(0, EPOCHS, breakpoint):\n",
    "    sub_history = model.fit(x_train, y_train, breakpoint, verbose = 0)\n",
    "    score = model.evaluate(x_test, y_test, False, verbose = 0)\n",
    "    print('Checkpoint {}, Accuracy: {}, Loss: {}'.format(century+breakpoint, score['accuracy'], score[model.loss_fn]))\n",
    "    score['checkpoint'] = century + breakpoint\n",
    "    checkpoints.append(score)\n",
    "    history.extend(sub_history)\n",
    "    itr = century + breakpoint\n",
    "    model.optimizer.c2 = np.max([model.optimizer.C2[1] - ((model.optimizer.C2[1] - model.optimizer.C2[0]) * itr / EPOCHS), model.optimizer.C2[0]])\n",
    "    model.optimizer.c1 = np.min([model.optimizer.C1[0] + ((model.optimizer.C1[1] - model.optimizer.C1[0]) * itr / EPOCHS), model.optimizer.C1[1]])\n",
    "    model.optimizer.w = np.max([model.optimizer.w * model.optimizer.W_Decay, model.optimizer.W[0]])"
   ]
  },
  {
   "cell_type": "code",
   "execution_count": 9,
   "metadata": {},
   "outputs": [],
   "source": [
    "import matplotlib.pyplot as plt\n",
    "\n",
    "def draw_plot(x, y_list, x_label=None, y_label=None, legend=None, title=None):\n",
    "    fig, ax = plt.subplots(figsize=(12,5))\n",
    "    for xi, yi in zip(x, y_list):\n",
    "        ax.plot(xi, yi)\n",
    "    if x_label is not None and y_label is not None:\n",
    "        ax.set(xlabel=x_label, ylabel=y_label, title='{} VS {}'.format(x_label, y_label))\n",
    "    if legend is not None:\n",
    "        ax.legend(legend)\n",
    "    ax.grid()\n",
    "    plt.show()"
   ]
  },
  {
   "cell_type": "code",
   "execution_count": 10,
   "metadata": {},
   "outputs": [
    {
     "name": "stdout",
     "output_type": "stream",
     "text": [
      "[1. 0. 0.] <-> [0.996911   0.00165232 0.00143663]\n",
      "[1. 0. 0.] <-> [0.99440336 0.00126435 0.00433222]\n",
      "[0. 0. 1.] <-> [7.303630e-03 8.758310e-06 9.926876e-01]\n",
      "[1. 0. 0.] <-> [0.99661946 0.00182886 0.00155166]\n",
      "[1. 0. 0.] <-> [0.99723685 0.00147134 0.00129177]\n",
      "[1. 0. 0.] <-> [0.992863   0.00250434 0.00463268]\n",
      "[1. 0. 0.] <-> [0.9878249  0.00119927 0.01097587]\n",
      "[1. 0. 0.] <-> [0.99642    0.00142064 0.00215936]\n",
      "[1. 0. 0.] <-> [0.9969382  0.00133427 0.00172758]\n",
      "[1. 0. 0.] <-> [0.99570554 0.00275294 0.00154155]\n",
      "[1. 0. 0.] <-> [0.99730384 0.00124541 0.0014507 ]\n",
      "[1. 0. 0.] <-> [0.9928308  0.00119913 0.00597005]\n",
      "[1. 0. 0.] <-> [0.99641365 0.00243905 0.00114736]\n",
      "[1. 0. 0.] <-> [0.997072   0.00137475 0.00155326]\n",
      "[1. 0. 0.] <-> [1.0246844e-01 1.2423539e-04 8.9740729e-01]\n",
      "[0. 0. 1.] <-> [7.5361840e-03 9.0344593e-06 9.9245477e-01]\n",
      "[0. 1. 0.] <-> [1.5612230e-02 9.8404747e-01 3.4028332e-04]\n",
      "[1. 0. 0.] <-> [0.99706465 0.00174383 0.00119153]\n",
      "[1. 0. 0.] <-> [0.11238291 0.886423   0.00119402]\n",
      "[0. 1. 0.] <-> [4.3423224e-02 9.5596027e-01 6.1653339e-04]\n",
      "[1. 0. 0.] <-> [0.99614954 0.00158381 0.00226668]\n",
      "[1. 0. 0.] <-> [0.9967422  0.001578   0.00167994]\n",
      "[0. 0. 1.] <-> [7.6458692e-03 9.1661213e-06 9.9234504e-01]\n",
      "[0. 0. 1.] <-> [5.3179100e-02 6.3752399e-05 9.4675714e-01]\n",
      "[1. 0. 0.] <-> [0.9944958  0.00156775 0.00393644]\n",
      "[0. 1. 0.] <-> [0.16911615 0.82949686 0.00138706]\n",
      "[1. 0. 0.] <-> [0.9941783  0.00433577 0.00148596]\n",
      "[1. 0. 0.] <-> [0.9970018  0.00193986 0.00105827]\n",
      "[0. 1. 0.] <-> [5.0982535e-03 9.9472964e-01 1.7208427e-04]\n",
      "[1. 0. 0.] <-> [0.9861041  0.01203156 0.00186433]\n",
      "[1. 0. 0.] <-> [0.99570024 0.002337   0.00196271]\n",
      "[1. 0. 0.] <-> [0.99755317 0.00126917 0.00117763]\n",
      "[1. 0. 0.] <-> [0.982989   0.00118434 0.01582659]\n",
      "[1. 0. 0.] <-> [0.7859045  0.21129364 0.00280176]\n",
      "[1. 0. 0.] <-> [0.991891   0.00634845 0.00176055]\n",
      "[1. 0. 0.] <-> [0.99670166 0.0021819  0.00111642]\n",
      "[1. 0. 0.] <-> [0.99352586 0.00517969 0.00129439]\n",
      "[0. 0. 1.] <-> [0.51634175 0.00063343 0.48302478]\n",
      "[1. 0. 0.] <-> [0.99285007 0.00483445 0.00231551]\n",
      "[0. 1. 0.] <-> [5.1199393e-03 9.9470717e-01 1.7290354e-04]\n",
      "[1. 0. 0.] <-> [0.31747046 0.68033653 0.00219305]\n",
      "[1. 0. 0.] <-> [0.9925403  0.00136015 0.00609948]\n",
      "[1. 0. 0.] <-> [0.98920816 0.00121501 0.00957682]\n",
      "[0. 1. 0.] <-> [0.17129998 0.8274835  0.00121655]\n",
      "[1. 0. 0.] <-> [0.9677385  0.03022614 0.0020354 ]\n",
      "[1. 0. 0.] <-> [0.9947627  0.00121557 0.00402174]\n",
      "[1. 0. 0.] <-> [0.99744475 0.0012158  0.00133942]\n",
      "[1. 0. 0.] <-> [0.9961643  0.00241901 0.0014167 ]\n",
      "[0. 0. 1.] <-> [7.3038926e-03 8.7560366e-06 9.9268734e-01]\n",
      "[0. 1. 0.] <-> [5.0982535e-03 9.9472964e-01 1.7208034e-04]\n",
      "[1. 0. 0.] <-> [0.53234714 0.00069539 0.46695742]\n",
      "[1. 0. 0.] <-> [0.99737763 0.00136227 0.00126003]\n",
      "[1. 0. 0.] <-> [0.9969754  0.00171324 0.00131134]\n",
      "[0. 1. 0.] <-> [5.0982535e-03 9.9472964e-01 1.7208082e-04]\n",
      "[1. 0. 0.] <-> [0.9968466  0.00189649 0.00125686]\n",
      "[1. 0. 0.] <-> [0.9958503  0.0013235  0.00282606]\n",
      "[1. 0. 0.] <-> [0.746825   0.24993423 0.00324071]\n",
      "[0. 1. 0.] <-> [5.1340414e-03 9.9469155e-01 1.7447225e-04]\n",
      "[1. 0. 0.] <-> [0.691363   0.3048956  0.00374136]\n",
      "[1. 0. 0.] <-> [0.9881585  0.00196655 0.00987503]\n",
      "[1. 0. 0.] <-> [0.9633211  0.00134441 0.03533453]\n",
      "[1. 0. 0.] <-> [0.98223853 0.01578088 0.00198058]\n",
      "[0. 1. 0.] <-> [1.2945434e-02 9.8674887e-01 3.0568417e-04]\n",
      "[1. 0. 0.] <-> [0.99698097 0.0019088  0.00111015]\n",
      "[0. 0. 1.] <-> [1.0825484e-02 1.2977845e-05 9.8916149e-01]\n",
      "[1. 0. 0.] <-> [0.83653355 0.00101366 0.16245277]\n",
      "[1. 0. 0.] <-> [0.9668915  0.00126492 0.03184361]\n",
      "[1. 0. 0.] <-> [0.9955071  0.00127018 0.00322275]\n",
      "[1. 0. 0.] <-> [0.9814834  0.00457758 0.01393904]\n",
      "[0. 1. 0.] <-> [1.7934334e-02 9.8168534e-01 3.8037251e-04]\n",
      "[1. 0. 0.] <-> [0.99381435 0.0012536  0.00493207]\n",
      "[1. 0. 0.] <-> [0.9972555  0.00166364 0.00108088]\n",
      "[0. 0. 1.] <-> [0.5293101  0.0006356  0.47005427]\n",
      "[1. 0. 0.] <-> [0.99635637 0.00198612 0.00165748]\n",
      "[0. 1. 0.] <-> [5.0982558e-03 9.9472964e-01 1.7210955e-04]\n",
      "[1. 0. 0.] <-> [0.99708253 0.00128645 0.00163101]\n",
      "[1. 0. 0.] <-> [0.9965857  0.00131376 0.00210057]\n",
      "[1. 0. 0.] <-> [0.995535   0.00168332 0.00278173]\n",
      "[1. 0. 0.] <-> [0.9966209  0.00145526 0.00192379]\n",
      "[1. 0. 0.] <-> [0.9975286  0.00144487 0.00102663]\n",
      "[0. 0. 1.] <-> [1.1475501e-02 1.3869851e-05 9.8851061e-01]\n",
      "[1. 0. 0.] <-> [9.9722832e-01 1.7832633e-03 9.8838645e-04]\n",
      "[0. 0. 1.] <-> [7.3057013e-03 8.7581493e-06 9.9268556e-01]\n",
      "[1. 0. 0.] <-> [0.99611926 0.00278704 0.00109379]\n",
      "[1. 0. 0.] <-> [0.8220104  0.0010118  0.17697781]\n",
      "[0. 0. 1.] <-> [5.2691117e-02 6.3280517e-05 9.4724560e-01]\n",
      "[0. 0. 1.] <-> [1.5062031e-02 1.8056639e-05 9.8491991e-01]\n",
      "[1. 0. 0.] <-> [0.9938232  0.00121152 0.00496526]\n",
      "[1. 0. 0.] <-> [0.9955713  0.00292622 0.00150255]\n",
      "[0. 1. 0.] <-> [5.0999667e-03 9.9472755e-01 1.7250652e-04]\n",
      "[1. 0. 0.] <-> [0.98869425 0.00747175 0.00383406]\n",
      "[1. 0. 0.] <-> [0.94182897 0.00114665 0.05702435]\n",
      "[1. 0. 0.] <-> [0.9756172  0.00123625 0.02314655]\n",
      "[1. 0. 0.] <-> [0.9842779  0.01422114 0.001501  ]\n",
      "[1. 0. 0.] <-> [0.9963362  0.00254595 0.00111786]\n",
      "[1. 0. 0.] <-> [0.93677497 0.06088582 0.0023392 ]\n",
      "[1. 0. 0.] <-> [0.9951858  0.00361733 0.00119688]\n",
      "[1. 0. 0.] <-> [0.99661785 0.00217654 0.00120567]\n",
      "[0. 0. 1.] <-> [1.0533500e-02 1.2627741e-05 9.8945391e-01]\n",
      "[0. 1. 0.] <-> [5.0982824e-03 9.9472958e-01 1.7217651e-04]\n",
      "[0. 1. 0.] <-> [6.0437117e-03 9.9376208e-01 1.9422320e-04]\n",
      "[1. 0. 0.] <-> [0.99518436 0.00374608 0.0010696 ]\n",
      "[0. 1. 0.] <-> [1.1483714e-02 9.8824793e-01 2.6834582e-04]\n",
      "[1. 0. 0.] <-> [0.9971717  0.0013144  0.00151391]\n",
      "[1. 0. 0.] <-> [0.9956428  0.0031959  0.00116132]\n",
      "[1. 0. 0.] <-> [0.9971608  0.00136286 0.00147636]\n",
      "[0. 0. 1.] <-> [1.1965098e-02 1.4362642e-05 9.8802060e-01]\n",
      "[1. 0. 0.] <-> [0.5595864  0.43730178 0.00311182]\n",
      "{'accuracy': 0.9691358024691358, 'mean_square_error': 0.06217347958099638, 'categorical_crossentropy': 0.10111130608452691, 'essential_metrics': {0: {'tp_hit': 75, 'fp_hit': 2, 'tn_hit': 28, 'fn_hit': 3}, 1: {'tp_hit': 16, 'fp_hit': 2, 'tn_hit': 90, 'fn_hit': 0}, 2: {'tp_hit': 12, 'fp_hit': 1, 'tn_hit': 93, 'fn_hit': 2}}}\n"
     ]
    }
   ],
   "source": [
    "# recall phase\n",
    "score = model.evaluate(x_test, y_test, False)\n",
    "print(score)"
   ]
  },
  {
   "cell_type": "code",
   "execution_count": 11,
   "metadata": {},
   "outputs": [
    {
     "data": {
      "image/png": "[encoded data removed]",
      "text/plain": [
       "<Figure size 864x360 with 1 Axes>"
      ]
     },
     "metadata": {
      "needs_background": "light"
     },
     "output_type": "display_data"
    },
    {
     "data": {
      "image/png": "[encoded data removed]",
      "text/plain": [
       "<Figure size 864x360 with 1 Axes>"
      ]
     },
     "metadata": {
      "needs_background": "light"
     },
     "output_type": "display_data"
    }
   ],
   "source": [
    "draw_plot(x = [[i for i in range(len(history))], [(i+1)*breakpoint for i in range(len(checkpoints))]], y_list = [history, [ ckp[model.loss_fn] for ckp in checkpoints ]], x_label = 'Epochs', \\\n",
    "    y_label = model.loss_fn, legend=['train', 'test'])\n",
    "acc = [ ckp['accuracy'] for ckp in checkpoints ]\n",
    "draw_plot(x = [[(i+1)*breakpoint for i in range(len(checkpoints))]], y_list = [acc], x_label = 'Checkpoints', \\\n",
    "    y_label = 'accuracy')"
   ]
  },
  {
   "cell_type": "code",
   "execution_count": 12,
   "metadata": {},
   "outputs": [
    {
     "name": "stdout",
     "output_type": "stream",
     "text": [
      "{'accuracy': 0.9320987654320988, 'mean_square_error': 0.1317219764127375, 'categorical_crossentropy': 0.23623549496686017, 'essential_metrics': {0: {'tp_hit': 77, 'fp_hit': 10, 'tn_hit': 20, 'fn_hit': 1}, 1: {'tp_hit': 14, 'fp_hit': 1, 'tn_hit': 91, 'fn_hit': 2}, 2: {'tp_hit': 6, 'fp_hit': 0, 'tn_hit': 94, 'fn_hit': 8}}, 'checkpoint': 100} \n",
      "\n",
      "\n",
      "{'accuracy': 0.9691358024691358, 'mean_square_error': 0.07009322619771205, 'categorical_crossentropy': 0.12305660601015445, 'essential_metrics': {0: {'tp_hit': 76, 'fp_hit': 3, 'tn_hit': 27, 'fn_hit': 2}, 1: {'tp_hit': 14, 'fp_hit': 1, 'tn_hit': 91, 'fn_hit': 2}, 2: {'tp_hit': 13, 'fp_hit': 1, 'tn_hit': 93, 'fn_hit': 1}}, 'checkpoint': 200} \n",
      "\n",
      "\n",
      "{'accuracy': 0.9629629629629629, 'mean_square_error': 0.06821068778561247, 'categorical_crossentropy': 0.10813041969581887, 'essential_metrics': {0: {'tp_hit': 75, 'fp_hit': 3, 'tn_hit': 27, 'fn_hit': 3}, 1: {'tp_hit': 15, 'fp_hit': 2, 'tn_hit': 90, 'fn_hit': 1}, 2: {'tp_hit': 12, 'fp_hit': 1, 'tn_hit': 93, 'fn_hit': 2}}, 'checkpoint': 300} \n",
      "\n",
      "\n",
      "{'accuracy': 0.9753086419753086, 'mean_square_error': 0.06259941702436976, 'categorical_crossentropy': 0.10192155838012695, 'essential_metrics': {0: {'tp_hit': 75, 'fp_hit': 1, 'tn_hit': 29, 'fn_hit': 3}, 1: {'tp_hit': 16, 'fp_hit': 2, 'tn_hit': 90, 'fn_hit': 0}, 2: {'tp_hit': 13, 'fp_hit': 1, 'tn_hit': 93, 'fn_hit': 1}}, 'checkpoint': 400} \n",
      "\n",
      "\n",
      "{'accuracy': 0.9691358024691358, 'mean_square_error': 0.06217347958099638, 'categorical_crossentropy': 0.10111130608452691, 'essential_metrics': {0: {'tp_hit': 75, 'fp_hit': 2, 'tn_hit': 28, 'fn_hit': 3}, 1: {'tp_hit': 16, 'fp_hit': 2, 'tn_hit': 90, 'fn_hit': 0}, 2: {'tp_hit': 12, 'fp_hit': 1, 'tn_hit': 93, 'fn_hit': 2}}, 'checkpoint': 500} \n",
      "\n",
      "\n"
     ]
    }
   ],
   "source": [
    "for checkpoint in checkpoints:\n",
    "    print(checkpoint, '\\n\\n')"
   ]
  },
  {
   "cell_type": "code",
   "execution_count": 13,
   "metadata": {},
   "outputs": [
    {
     "name": "stdout",
     "output_type": "stream",
     "text": [
      "Layer 1\n",
      "Neuron 0: weights:\n",
      "[-0.2154944   3.          0.23579189 -1.5613998  -3.        ]\n",
      " bias: 2.3585166931152344\n",
      "\n",
      "Neuron 1: weights:\n",
      "[-2.0556269   3.          3.         -0.18882886 -0.8931402 ]\n",
      " bias: -3.0\n",
      "\n",
      "Neuron 2: weights:\n",
      "[ 1.8838887  -3.         -3.          0.22727078  2.2151775 ]\n",
      " bias: 3.0\n",
      "\n",
      "Neuron 3: weights:\n",
      "[-0.31752157 -3.         -0.11559141  0.9242965   3.        ]\n",
      " bias: -2.4186084270477295\n",
      "\n",
      "$\n",
      "Layer 2\n",
      "Neuron 0: weights:\n",
      "[ 3. -3.  3. -3.]\n",
      " bias: 1.9164608716964722\n",
      "\n",
      "Neuron 1: weights:\n",
      "[ 3.  3. -3. -3.]\n",
      " bias: 1.190034031867981\n",
      "\n",
      "Neuron 2: weights:\n",
      "[-3.         0.6992921  3.         3.       ]\n",
      " bias: 0.8284657001495361\n",
      "\n",
      "$\n",
      "\n"
     ]
    }
   ],
   "source": [
    "print(model)"
   ]
  }
 ],
 "metadata": {
  "kernelspec": {
   "display_name": "Python 3",
   "language": "python",
   "name": "python3"
  },
  "language_info": {
   "codemirror_mode": {
    "name": "ipython",
    "version": 3
   },
   "file_extension": ".py",
   "mimetype": "text/x-python",
   "name": "python",
   "nbconvert_exporter": "python",
   "pygments_lexer": "ipython3",
   "version": "3.6.10"
  }
 },
 "nbformat": 4,
 "nbformat_minor": 2
}
