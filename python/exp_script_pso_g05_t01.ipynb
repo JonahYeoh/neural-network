{
 "cells": [
  {
   "cell_type": "code",
   "execution_count": 1,
   "metadata": {},
   "outputs": [],
   "source": [
    "# dependency\n",
    "import numpy as np\n",
    "import pandas as pd\n",
    "import copy\n",
    "import math\n",
    "import sys\n",
    "import os\n",
    "from activations import relu, leaky_relu, sigmoid, tanh, softmax, d_sigmoid, d_relu\n",
    "from initializers import glorot_uniform, random_normal, random_uniform\n",
    "from regularizers import l1_regularizer, l2_regularizer\n",
    "from utility import trim_tail, multiply, subtract, get_nparams, one_hot_encoding, get_data\n",
    "from metrics import MSE, CCE, ACC, PRECISION, RECALL, essential_metrics, wondering_penalty, close_gap_penalty\n",
    "from pso import PSO\n",
    "from ga import GA\n",
    "from nn import Network\n",
    "from layer import DenseLayer\n",
    "from scalers import MinMaxScaler, StandardScaler"
   ]
  },
  {
   "cell_type": "code",
   "execution_count": 2,
   "metadata": {},
   "outputs": [],
   "source": [
    "# reference\n",
    "metrics_fn_dict = dict()\n",
    "metrics_fn_dict['accuracy'] = ACC\n",
    "metrics_fn_dict['categorical_crossentropy'] = CCE\n",
    "metrics_fn_dict['mean_square_error'] = MSE\n",
    "metrics_fn_dict['precision'] = PRECISION\n",
    "metrics_fn_dict['recall'] = RECALL\n",
    "metrics_fn_dict['essential_metrics'] = essential_metrics"
   ]
  },
  {
   "cell_type": "code",
   "execution_count": 3,
   "metadata": {},
   "outputs": [],
   "source": [
    "# model\n",
    "model = Network(5, lr = None)\n",
    "model.add_layer(DenseLayer(1, 4, True, afn=sigmoid, dafn=None, rfn=None))\n",
    "model.add_layer(DenseLayer(2, 3, True, afn=softmax, dafn=None, rfn=None))"
   ]
  },
  {
   "cell_type": "code",
   "execution_count": 4,
   "metadata": {},
   "outputs": [
    {
     "name": "stdout",
     "output_type": "stream",
     "text": [
      "see one see two 2 2\n"
     ]
    }
   ],
   "source": [
    "pso = PSO(dict(m = 50,\n",
    "    weight_constraint = [-3, 3], \n",
    "    velocity_constraint = [-0.1, 0.1],\n",
    "    c1 = 2,\n",
    "    c2 = 2,\n",
    "    w = 1,\n",
    "    w_decay = 1,\n",
    "    scale_hyperparameter = False,\n",
    "    regularizer = None,\n",
    "    mask = False))"
   ]
  },
  {
   "cell_type": "code",
   "execution_count": 5,
   "metadata": {},
   "outputs": [
    {
     "name": "stdout",
     "output_type": "stream",
     "text": [
      "building layer 1 with 5\n",
      "24\n",
      "building layer 2 with 4\n",
      "15\n"
     ]
    }
   ],
   "source": [
    "model.compile(loss_fn = 'categorical_crossentropy', optimizer = pso, \\\n",
    "    metrics = ['accuracy', 'mean_square_error', 'categorical_crossentropy'])"
   ]
  },
  {
   "cell_type": "code",
   "execution_count": 6,
   "metadata": {},
   "outputs": [
    {
     "name": "stdout",
     "output_type": "stream",
     "text": [
      "<class 'pandas.core.frame.DataFrame'>\n",
      "RangeIndex: 107 entries, 0 to 106\n",
      "Data columns (total 6 columns):\n",
      " #   Column  Non-Null Count  Dtype  \n",
      "---  ------  --------------  -----  \n",
      " 0   f1      107 non-null    float32\n",
      " 1   f2      107 non-null    float32\n",
      " 2   f3      107 non-null    float32\n",
      " 3   f4      107 non-null    float32\n",
      " 4   f5      107 non-null    float32\n",
      " 5   label   107 non-null    float32\n",
      "dtypes: float32(6)\n",
      "memory usage: 2.6 KB\n",
      "None\n",
      "<class 'pandas.core.frame.DataFrame'>\n",
      "RangeIndex: 108 entries, 0 to 107\n",
      "Data columns (total 6 columns):\n",
      " #   Column  Non-Null Count  Dtype  \n",
      "---  ------  --------------  -----  \n",
      " 0   f1      108 non-null    float32\n",
      " 1   f2      108 non-null    float32\n",
      " 2   f3      108 non-null    float32\n",
      " 3   f4      108 non-null    float32\n",
      " 4   f5      108 non-null    float32\n",
      " 5   label   108 non-null    float32\n",
      "dtypes: float32(6)\n",
      "memory usage: 2.7 KB\n",
      "None\n"
     ]
    }
   ],
   "source": [
    "# data loading\n",
    "DATA = os.path.join('c:\\\\Users\\\\tcumi\\\\github_repo\\\\neural-network\\\\', 'dataset')\n",
    "GROUP = 5\n",
    "COLUMNS = ['f1', 'f2', 'f3', 'f4', 'f5', 'label']\n",
    "N_CLASS = 3\n",
    "EPOCHS = 500\n",
    "train_dir, test_dir = \"..//dataset//training_data{}.txt\".format(GROUP), \"..//dataset//testing_data{}.txt\".format(GROUP)\n",
    "train, test = get_data(DATA, train_dir, COLUMNS), get_data(DATA, test_dir, COLUMNS)\n",
    "# shuffle\n",
    "train, test = train.sample(frac=1), test.sample(frac=1)\n",
    "x_train, y_train = train.drop('label', axis=1), train['label']\n",
    "x_test, y_test = test.drop('label', axis=1), test['label']"
   ]
  },
  {
   "cell_type": "code",
   "execution_count": 7,
   "metadata": {},
   "outputs": [],
   "source": [
    "# data scaling and encoding\n",
    "scaler = StandardScaler(['f1', 'f2', 'f3', 'f4', 'f5'])\n",
    "scaler.fit(x_train)\n",
    "x_train = scaler.transform(x_train)\n",
    "x_test = scaler.transform(x_test)\n",
    "y_train = one_hot_encoding(y_train, N_CLASS)\n",
    "y_test = one_hot_encoding(y_test, N_CLASS)"
   ]
  },
  {
   "cell_type": "code",
   "execution_count": 8,
   "metadata": {
    "tags": [
     "outputPrepend"
    ]
   },
   "outputs": [
    {
     "name": "stderr",
     "output_type": "stream",
     "text": [
      "C:\\Users\\tcumi\\github_repo\\neural-network\\python\\activations.py:14: RuntimeWarning: overflow encountered in exp\n",
      "  y = 1 / (1 + np.exp(-Xi))\n"
     ]
    },
    {
     "name": "stdout",
     "output_type": "stream",
     "text": [
      "Checkpoint 100, Accuracy: 0.7839506172839507, Loss: 0.6365567666512949\n",
      "Checkpoint 200, Accuracy: 0.7839506172839507, Loss: 0.6365567666512949\n",
      "Checkpoint 300, Accuracy: 0.7839506172839507, Loss: 0.6365567666512949\n",
      "Checkpoint 400, Accuracy: 0.7839506172839507, Loss: 0.6365567666512949\n",
      "Checkpoint 500, Accuracy: 0.7839506172839507, Loss: 0.6365567666512949\n"
     ]
    }
   ],
   "source": [
    "# learning phase\n",
    "breakpoint = 100\n",
    "checkpoints = list()\n",
    "history = list()\n",
    "for century in range(0, EPOCHS, breakpoint):\n",
    "    sub_history = model.fit(x_train, y_train, breakpoint, verbose = 0)\n",
    "    score = model.evaluate(x_test, y_test, False, verbose = 0)\n",
    "    print('Checkpoint {}, Accuracy: {}, Loss: {}'.format(century+breakpoint, score['accuracy'], score[model.loss_fn]))\n",
    "    score['checkpoint'] = century + breakpoint\n",
    "    checkpoints.append(score)\n",
    "    history.extend(sub_history)"
   ]
  },
  {
   "cell_type": "code",
   "execution_count": 9,
   "metadata": {},
   "outputs": [],
   "source": [
    "import matplotlib.pyplot as plt\n",
    "\n",
    "def draw_plot(x, y_list, x_label=None, y_label=None, legend=None, title=None):\n",
    "    fig, ax = plt.subplots(figsize=(12,5))\n",
    "    for xi, yi in zip(x, y_list):\n",
    "        ax.plot(xi, yi)\n",
    "    if x_label is not None and y_label is not None:\n",
    "        ax.set(xlabel=x_label, ylabel=y_label, title='{} VS {}'.format(x_label, y_label))\n",
    "    if legend is not None:\n",
    "        ax.legend(legend)\n",
    "    ax.grid()\n",
    "    plt.show()"
   ]
  },
  {
   "cell_type": "code",
   "execution_count": 10,
   "metadata": {},
   "outputs": [
    {
     "name": "stdout",
     "output_type": "stream",
     "text": [
      "[1. 0. 0.] <-> [0.899739   0.04100088 0.05926005]\n",
      "[1. 0. 0.] <-> [0.9586839  0.01503677 0.02627929]\n",
      "[1. 0. 0.] <-> [6.312304e-01 3.789568e-04 3.683906e-01]\n",
      "[1. 0. 0.] <-> [7.1123755e-01 3.4924585e-04 2.8841323e-01]\n",
      "[1. 0. 0.] <-> [8.3853060e-01 3.9574524e-04 1.6107370e-01]\n",
      "[1. 0. 0.] <-> [0.69746006 0.00111058 0.3014294 ]\n",
      "[1. 0. 0.] <-> [0.9543703  0.00343013 0.04219944]\n",
      "[1. 0. 0.] <-> [0.4506646  0.00069599 0.5486394 ]\n",
      "[0. 0. 1.] <-> [7.7028549e-01 9.7713761e-05 2.2961682e-01]\n",
      "[1. 0. 0.] <-> [0.763605   0.0367979  0.19959708]\n",
      "[1. 0. 0.] <-> [0.9608631  0.01042565 0.02871125]\n",
      "[1. 0. 0.] <-> [1.4355387e-01 5.7318754e-04 8.5587299e-01]\n",
      "[1. 0. 0.] <-> [7.1972513e-01 1.5876176e-04 2.8011614e-01]\n",
      "[1. 0. 0.] <-> [0.68791044 0.01631206 0.2957775 ]\n",
      "[0. 1. 0.] <-> [0.5146203  0.28412676 0.20125295]\n",
      "[1. 0. 0.] <-> [0.86020434 0.00665014 0.13314554]\n",
      "[1. 0. 0.] <-> [6.704743e-01 2.762813e-04 3.292494e-01]\n",
      "[0. 0. 1.] <-> [5.6207895e-01 2.2842071e-04 4.3769261e-01]\n",
      "[1. 0. 0.] <-> [0.74208254 0.01157259 0.24634483]\n",
      "[1. 0. 0.] <-> [0.8156766  0.00470791 0.1796155 ]\n",
      "[1. 0. 0.] <-> [0.9025128  0.02067805 0.07680918]\n",
      "[1. 0. 0.] <-> [0.6930262  0.00311585 0.30385795]\n",
      "[1. 0. 0.] <-> [0.95953137 0.00143421 0.03903444]\n",
      "[1. 0. 0.] <-> [0.8864759  0.07700075 0.03652334]\n",
      "[0. 1. 0.] <-> [0.37528008 0.36091134 0.2638086 ]\n",
      "[0. 0. 1.] <-> [7.6793504e-01 9.6133590e-05 2.3196889e-01]\n",
      "[1. 0. 0.] <-> [0.565401   0.00274901 0.43184996]\n",
      "[0. 0. 1.] <-> [5.6210780e-01 2.2845379e-04 4.3766376e-01]\n",
      "[1. 0. 0.] <-> [0.7002428  0.09777069 0.2019865 ]\n",
      "[1. 0. 0.] <-> [0.90133524 0.0189057  0.07975908]\n",
      "[0. 1. 0.] <-> [0.48562768 0.0673385  0.4470338 ]\n",
      "[1. 0. 0.] <-> [0.93644303 0.00130232 0.06225468]\n",
      "[0. 1. 0.] <-> [0.73968416 0.18696044 0.07335542]\n",
      "[1. 0. 0.] <-> [0.48838413 0.00166053 0.5099554 ]\n",
      "[1. 0. 0.] <-> [8.1637996e-01 4.9720454e-04 1.8312283e-01]\n",
      "[0. 1. 0.] <-> [0.2784814 0.5468459 0.1746727]\n",
      "[1. 0. 0.] <-> [8.6675906e-01 8.1741600e-04 1.3242352e-01]\n",
      "[0. 1. 0.] <-> [0.3672751  0.02518522 0.6075397 ]\n",
      "[0. 0. 1.] <-> [7.84090459e-01 1.07094485e-04 2.15802416e-01]\n",
      "[1. 0. 0.] <-> [0.9320113  0.0441155  0.02387328]\n",
      "[1. 0. 0.] <-> [9.288501e-01 7.246316e-04 7.042529e-02]\n",
      "[1. 0. 0.] <-> [0.9181665  0.0047312  0.07710227]\n",
      "[1. 0. 0.] <-> [0.42129973 0.00077777 0.5779225 ]\n",
      "[0. 0. 1.] <-> [6.5442204e-01 1.9841506e-04 3.4537959e-01]\n",
      "[0. 1. 0.] <-> [0.28028202 0.54429    0.17542797]\n",
      "[1. 0. 0.] <-> [0.82866144 0.00187116 0.16946733]\n",
      "[0. 1. 0.] <-> [0.8656814  0.09532367 0.03899483]\n",
      "[0. 1. 0.] <-> [0.27172154 0.5600397  0.16823879]\n",
      "[1. 0. 0.] <-> [0.91454726 0.00367565 0.08177705]\n",
      "[1. 0. 0.] <-> [0.9092877  0.01971007 0.07100227]\n",
      "[1. 0. 0.] <-> [0.5113852  0.00932459 0.47929025]\n",
      "[1. 0. 0.] <-> [0.5365202  0.00069813 0.46278173]\n",
      "[0. 1. 0.] <-> [0.464705   0.35302845 0.18226655]\n",
      "[1. 0. 0.] <-> [8.93483102e-01 4.49807558e-04 1.06067166e-01]\n",
      "[1. 0. 0.] <-> [0.80468327 0.00185706 0.19345973]\n",
      "[1. 0. 0.] <-> [0.9591918  0.01681318 0.02399502]\n",
      "[1. 0. 0.] <-> [8.2148796e-01 3.8917561e-04 1.7812285e-01]\n",
      "[1. 0. 0.] <-> [7.7820563e-01 2.6507062e-04 2.2152932e-01]\n",
      "[0. 0. 1.] <-> [7.6780796e-01 9.5899406e-05 2.3209617e-01]\n",
      "[1. 0. 0.] <-> [0.9390375  0.00737957 0.0535829 ]\n",
      "[1. 0. 0.] <-> [0.83926266 0.0008733  0.159864  ]\n",
      "[1. 0. 0.] <-> [0.78521127 0.09216273 0.12262599]\n",
      "[1. 0. 0.] <-> [0.2207129  0.00128474 0.7780023 ]\n",
      "[0. 0. 1.] <-> [6.4211613e-01 1.7568184e-04 3.5770822e-01]\n",
      "[1. 0. 0.] <-> [2.5420460e-01 7.2799565e-04 7.4506742e-01]\n",
      "[1. 0. 0.] <-> [0.92499495 0.00664515 0.06835984]\n",
      "[1. 0. 0.] <-> [0.8044867  0.00334318 0.1921701 ]\n",
      "[1. 0. 0.] <-> [0.55530256 0.0061203  0.43857712]\n",
      "[1. 0. 0.] <-> [0.29731286 0.00071088 0.7019763 ]\n",
      "[1. 0. 0.] <-> [8.6035717e-01 4.0802683e-04 1.3923484e-01]\n",
      "[1. 0. 0.] <-> [0.8057837  0.00430537 0.18991096]\n",
      "[1. 0. 0.] <-> [0.85129774 0.0755747  0.07312751]\n",
      "[0. 1. 0.] <-> [0.27159694 0.5603275  0.1680756 ]\n",
      "[1. 0. 0.] <-> [0.87557125 0.00169201 0.12273669]\n",
      "[1. 0. 0.] <-> [0.81520575 0.00882938 0.1759649 ]\n",
      "[0. 0. 1.] <-> [5.6277448e-01 2.2915058e-04 4.3699640e-01]\n",
      "[0. 0. 1.] <-> [7.6550919e-01 9.7156968e-05 2.3439366e-01]\n",
      "[1. 0. 0.] <-> [0.44280943 0.01248076 0.5447098 ]\n",
      "[0. 1. 0.] <-> [0.5088063  0.2781254  0.21306834]\n",
      "[1. 0. 0.] <-> [0.93329555 0.00245791 0.06424652]\n",
      "[1. 0. 0.] <-> [0.4528836  0.00115652 0.5459599 ]\n",
      "[1. 0. 0.] <-> [0.8300792  0.02357127 0.14634955]\n",
      "[1. 0. 0.] <-> [0.752861   0.00092651 0.24621248]\n",
      "[1. 0. 0.] <-> [0.7188769  0.00613736 0.2749858 ]\n",
      "[1. 0. 0.] <-> [0.62711126 0.02418056 0.34870815]\n",
      "[1. 0. 0.] <-> [6.1163437e-01 6.1143923e-04 3.8775417e-01]\n",
      "[0. 1. 0.] <-> [0.36542338 0.34943545 0.28514114]\n",
      "[1. 0. 0.] <-> [0.89691764 0.06124851 0.04183384]\n",
      "[1. 0. 0.] <-> [0.9614109  0.00404154 0.03454749]\n",
      "[0. 0. 1.] <-> [8.4901381e-01 1.7376493e-04 1.5081243e-01]\n",
      "[1. 0. 0.] <-> [0.9506037  0.0022471  0.04714916]\n",
      "[0. 0. 1.] <-> [5.5361962e-01 2.3509125e-04 4.4614530e-01]\n",
      "[0. 1. 0.] <-> [0.41224262 0.286565   0.3011923 ]\n",
      "[0. 0. 1.] <-> [7.660163e-01 9.673015e-05 2.338870e-01]\n",
      "[1. 0. 0.] <-> [0.96415573 0.00941858 0.02642572]\n",
      "[1. 0. 0.] <-> [0.6726792  0.09492254 0.23239832]\n",
      "[1. 0. 0.] <-> [0.5960091  0.00097177 0.40301916]\n",
      "[0. 1. 0.] <-> [0.27460846 0.00525266 0.72013885]\n",
      "[1. 0. 0.] <-> [8.6304593e-01 8.1464765e-04 1.3613945e-01]\n",
      "[1. 0. 0.] <-> [0.9436063  0.02229714 0.03409665]\n",
      "[1. 0. 0.] <-> [0.9174742  0.03188949 0.05063631]\n",
      "[1. 0. 0.] <-> [0.89965314 0.02722731 0.07311951]\n",
      "[0. 0. 1.] <-> [7.4720973e-01 1.0734093e-04 2.5268298e-01]\n",
      "[1. 0. 0.] <-> [8.9876628e-01 5.1686913e-04 1.0071692e-01]\n",
      "[0. 1. 0.] <-> [0.28559512 0.53033924 0.18406568]\n",
      "[0. 0. 1.] <-> [6.1485654e-01 2.1849525e-04 3.8492501e-01]\n",
      "[0. 1. 0.] <-> [0.27174205 0.56002    0.16823795]\n",
      "[1. 0. 0.] <-> [9.3741214e-01 6.4618542e-04 6.1941609e-02]\n",
      "{'accuracy': 0.7839506172839507, 'mean_square_error': 0.38713146402248017, 'categorical_crossentropy': 0.6365567666512949, 'essential_metrics': {0: {'tp_hit': 67, 'fp_hit': 24, 'tn_hit': 8, 'fn_hit': 9}, 1: {'tp_hit': 6, 'fp_hit': 0, 'tn_hit': 91, 'fn_hit': 11}, 2: {'tp_hit': 0, 'fp_hit': 11, 'tn_hit': 82, 'fn_hit': 15}}}\n"
     ]
    }
   ],
   "source": [
    "# recall phase\n",
    "score = model.evaluate(x_test, y_test, False)\n",
    "print(score)"
   ]
  },
  {
   "cell_type": "code",
   "execution_count": 11,
   "metadata": {},
   "outputs": [
    {
     "data": {
      "image/png": "[encoded data removed]",
      "text/plain": [
       "<Figure size 864x360 with 1 Axes>"
      ]
     },
     "metadata": {
      "needs_background": "light"
     },
     "output_type": "display_data"
    },
    {
     "data": {
      "image/png": "[encoded data removed]",
      "text/plain": [
       "<Figure size 864x360 with 1 Axes>"
      ]
     },
     "metadata": {
      "needs_background": "light"
     },
     "output_type": "display_data"
    }
   ],
   "source": [
    "draw_plot(x = [[i for i in range(len(history))], [(i+1)*breakpoint for i in range(len(checkpoints))]], y_list = [history, [ ckp[model.loss_fn] for ckp in checkpoints ]], x_label = 'Epochs', \\\n",
    "    y_label = model.loss_fn, legend=['train', 'test'])\n",
    "acc = [ ckp['accuracy'] for ckp in checkpoints ]\n",
    "draw_plot(x = [[(i+1)*breakpoint for i in range(len(checkpoints))]], y_list = [acc], x_label = 'Checkpoints', \\\n",
    "    y_label = 'accuracy')"
   ]
  },
  {
   "cell_type": "code",
   "execution_count": 12,
   "metadata": {},
   "outputs": [
    {
     "name": "stdout",
     "output_type": "stream",
     "text": [
      "{'accuracy': 0.7839506172839507, 'mean_square_error': 0.38713146402248017, 'categorical_crossentropy': 0.6365567666512949, 'essential_metrics': {0: {'tp_hit': 67, 'fp_hit': 24, 'tn_hit': 8, 'fn_hit': 9}, 1: {'tp_hit': 6, 'fp_hit': 0, 'tn_hit': 91, 'fn_hit': 11}, 2: {'tp_hit': 0, 'fp_hit': 11, 'tn_hit': 82, 'fn_hit': 15}}, 'checkpoint': 100} \n",
      "\n",
      "\n",
      "{'accuracy': 0.7839506172839507, 'mean_square_error': 0.38713146402248017, 'categorical_crossentropy': 0.6365567666512949, 'essential_metrics': {0: {'tp_hit': 67, 'fp_hit': 24, 'tn_hit': 8, 'fn_hit': 9}, 1: {'tp_hit': 6, 'fp_hit': 0, 'tn_hit': 91, 'fn_hit': 11}, 2: {'tp_hit': 0, 'fp_hit': 11, 'tn_hit': 82, 'fn_hit': 15}}, 'checkpoint': 200} \n",
      "\n",
      "\n",
      "{'accuracy': 0.7839506172839507, 'mean_square_error': 0.38713146402248017, 'categorical_crossentropy': 0.6365567666512949, 'essential_metrics': {0: {'tp_hit': 67, 'fp_hit': 24, 'tn_hit': 8, 'fn_hit': 9}, 1: {'tp_hit': 6, 'fp_hit': 0, 'tn_hit': 91, 'fn_hit': 11}, 2: {'tp_hit': 0, 'fp_hit': 11, 'tn_hit': 82, 'fn_hit': 15}}, 'checkpoint': 300} \n",
      "\n",
      "\n",
      "{'accuracy': 0.7839506172839507, 'mean_square_error': 0.38713146402248017, 'categorical_crossentropy': 0.6365567666512949, 'essential_metrics': {0: {'tp_hit': 67, 'fp_hit': 24, 'tn_hit': 8, 'fn_hit': 9}, 1: {'tp_hit': 6, 'fp_hit': 0, 'tn_hit': 91, 'fn_hit': 11}, 2: {'tp_hit': 0, 'fp_hit': 11, 'tn_hit': 82, 'fn_hit': 15}}, 'checkpoint': 400} \n",
      "\n",
      "\n",
      "{'accuracy': 0.7839506172839507, 'mean_square_error': 0.38713146402248017, 'categorical_crossentropy': 0.6365567666512949, 'essential_metrics': {0: {'tp_hit': 67, 'fp_hit': 24, 'tn_hit': 8, 'fn_hit': 9}, 1: {'tp_hit': 6, 'fp_hit': 0, 'tn_hit': 91, 'fn_hit': 11}, 2: {'tp_hit': 0, 'fp_hit': 11, 'tn_hit': 82, 'fn_hit': 15}}, 'checkpoint': 500} \n",
      "\n",
      "\n"
     ]
    }
   ],
   "source": [
    "for checkpoint in checkpoints:\n",
    "    print(checkpoint, '\\n\\n')"
   ]
  },
  {
   "cell_type": "code",
   "execution_count": 13,
   "metadata": {},
   "outputs": [
    {
     "name": "stdout",
     "output_type": "stream",
     "text": [
      "Layer 1\n",
      "Neuron 0: weights:\n",
      "[-2.43569132  2.08778944  0.74022635  0.0976063  -2.1211176 ]\n",
      " bias: -0.04863124189182155\n",
      "\n",
      "Neuron 1: weights:\n",
      "[-2.57037486  1.66468507  0.25329818 -1.54556427  2.62661995]\n",
      " bias: -0.6491812202085034\n",
      "\n",
      "Neuron 2: weights:\n",
      "[ 2.17765258  2.76567319  0.79988682 -2.54118965 -0.83207419]\n",
      " bias: 0.8176193415382382\n",
      "\n",
      "Neuron 3: weights:\n",
      "[-1.79875344 -1.56317079 -2.45078406  2.49572905  2.53590849]\n",
      " bias: 2.239767699966934\n",
      "\n",
      "$\n",
      "Layer 2\n",
      "Neuron 0: weights:\n",
      "[-2.79186026  0.34643023  0.92015765  2.1207424 ]\n",
      " bias: 2.622150559699026\n",
      "\n",
      "Neuron 1: weights:\n",
      "[-0.19230326  1.52620088  2.72894362 -2.00676034]\n",
      " bias: -2.2384058322186093\n",
      "\n",
      "Neuron 2: weights:\n",
      "[-0.31197072  1.29283538 -1.1454507   2.765002  ]\n",
      " bias: 0.7814668341114022\n",
      "\n",
      "$\n",
      "\n"
     ]
    }
   ],
   "source": [
    "print(model)"
   ]
  }
 ],
 "metadata": {
  "kernelspec": {
   "display_name": "Python 3",
   "language": "python",
   "name": "python3"
  },
  "language_info": {
   "codemirror_mode": {
    "name": "ipython",
    "version": 3
   },
   "file_extension": ".py",
   "mimetype": "text/x-python",
   "name": "python",
   "nbconvert_exporter": "python",
   "pygments_lexer": "ipython3",
   "version": "3.6.10"
  }
 },
 "nbformat": 4,
 "nbformat_minor": 2
}
