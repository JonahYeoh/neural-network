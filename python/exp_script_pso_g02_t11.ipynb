{
 "cells": [
  {
   "cell_type": "code",
   "execution_count": 1,
   "metadata": {},
   "outputs": [],
   "source": [
    "# dependency\n",
    "import numpy as np\n",
    "import pandas as pd\n",
    "import copy\n",
    "import math\n",
    "import sys\n",
    "import os\n",
    "from activations import relu, leaky_relu, sigmoid, tanh, softmax, d_sigmoid, d_relu\n",
    "from initializers import glorot_uniform, random_normal, random_uniform\n",
    "from regularizers import l1_regularizer, l2_regularizer\n",
    "from utility import trim_tail, multiply, subtract, get_nparams, one_hot_encoding, get_data\n",
    "from metrics import MSE, CCE, ACC, PRECISION, RECALL, essential_metrics, wondering_penalty, close_gap_penalty\n",
    "from pso import PSO\n",
    "from ga import GA\n",
    "from nn import Network\n",
    "from layer import DenseLayer\n",
    "from scalers import MinMaxScaler, StandardScaler"
   ]
  },
  {
   "cell_type": "code",
   "execution_count": 2,
   "metadata": {},
   "outputs": [],
   "source": [
    "# reference\n",
    "metrics_fn_dict = dict()\n",
    "metrics_fn_dict['accuracy'] = ACC\n",
    "metrics_fn_dict['categorical_crossentropy'] = CCE\n",
    "metrics_fn_dict['mean_square_error'] = MSE\n",
    "metrics_fn_dict['precision'] = PRECISION\n",
    "metrics_fn_dict['recall'] = RECALL\n",
    "metrics_fn_dict['essential_metrics'] = essential_metrics"
   ]
  },
  {
   "cell_type": "code",
   "execution_count": 3,
   "metadata": {},
   "outputs": [],
   "source": [
    "# model\n",
    "model = Network(5, lr = None)\n",
    "model.add_layer(DenseLayer(1, 4, True, afn=sigmoid, dafn=None, rfn=None))\n",
    "model.add_layer(DenseLayer(2, 3, True, afn=softmax, dafn=None, rfn=None))"
   ]
  },
  {
   "cell_type": "code",
   "execution_count": 4,
   "metadata": {},
   "outputs": [
    {
     "name": "stdout",
     "output_type": "stream",
     "text": [
      "see one see two 2 2\n"
     ]
    }
   ],
   "source": [
    "pso = PSO(dict(m = 200,\n",
    "    weight_constraint = [-3, 3], \n",
    "    velocity_constraint = [-0.1, 0.1],\n",
    "    c1 = 2,\n",
    "    c2 = 2,\n",
    "    w = 1,\n",
    "    w_decay = 1,\n",
    "    scale_hyperparameter = False,\n",
    "    regularizer = None,\n",
    "    mask = True))"
   ]
  },
  {
   "cell_type": "code",
   "execution_count": 5,
   "metadata": {},
   "outputs": [
    {
     "name": "stdout",
     "output_type": "stream",
     "text": [
      "building layer 1 with 5\n",
      "24\n",
      "building layer 2 with 4\n",
      "15\n"
     ]
    }
   ],
   "source": [
    "model.compile(loss_fn = 'categorical_crossentropy', optimizer = pso, \\\n",
    "    metrics = ['accuracy', 'mean_square_error', 'categorical_crossentropy'])"
   ]
  },
  {
   "cell_type": "code",
   "execution_count": 6,
   "metadata": {},
   "outputs": [
    {
     "name": "stdout",
     "output_type": "stream",
     "text": [
      "<class 'pandas.core.frame.DataFrame'>\n",
      "RangeIndex: 107 entries, 0 to 106\n",
      "Data columns (total 6 columns):\n",
      " #   Column  Non-Null Count  Dtype  \n",
      "---  ------  --------------  -----  \n",
      " 0   f1      107 non-null    float32\n",
      " 1   f2      107 non-null    float32\n",
      " 2   f3      107 non-null    float32\n",
      " 3   f4      107 non-null    float32\n",
      " 4   f5      107 non-null    float32\n",
      " 5   label   107 non-null    float32\n",
      "dtypes: float32(6)\n",
      "memory usage: 2.6 KB\n",
      "None\n",
      "<class 'pandas.core.frame.DataFrame'>\n",
      "RangeIndex: 108 entries, 0 to 107\n",
      "Data columns (total 6 columns):\n",
      " #   Column  Non-Null Count  Dtype  \n",
      "---  ------  --------------  -----  \n",
      " 0   f1      108 non-null    float32\n",
      " 1   f2      108 non-null    float32\n",
      " 2   f3      108 non-null    float32\n",
      " 3   f4      108 non-null    float32\n",
      " 4   f5      108 non-null    float32\n",
      " 5   label   108 non-null    float32\n",
      "dtypes: float32(6)\n",
      "memory usage: 2.7 KB\n",
      "None\n"
     ]
    }
   ],
   "source": [
    "# data loading\n",
    "DATA = os.path.join('c:\\\\Users\\\\tcumi\\\\github_repo\\\\neural-network\\\\', 'dataset')\n",
    "GROUP = 2\n",
    "COLUMNS = ['f1', 'f2', 'f3', 'f4', 'f5', 'label']\n",
    "N_CLASS = 3\n",
    "EPOCHS = 500\n",
    "train_dir, test_dir = \"..//dataset//training_data{}.txt\".format(GROUP), \"..//dataset//testing_data{}.txt\".format(GROUP)\n",
    "train, test = get_data(DATA, train_dir, COLUMNS), get_data(DATA, test_dir, COLUMNS)\n",
    "# shuffle\n",
    "train, test = train.sample(frac=1), test.sample(frac=1)\n",
    "x_train, y_train = train.drop('label', axis=1), train['label']\n",
    "x_test, y_test = test.drop('label', axis=1), test['label']"
   ]
  },
  {
   "cell_type": "code",
   "execution_count": 7,
   "metadata": {},
   "outputs": [],
   "source": [
    "# data scaling and encoding\n",
    "scaler = StandardScaler(['f1', 'f2', 'f3', 'f4', 'f5'])\n",
    "scaler.fit(x_train)\n",
    "x_train = scaler.transform(x_train)\n",
    "x_test = scaler.transform(x_test)\n",
    "y_train = one_hot_encoding(y_train, N_CLASS)\n",
    "y_test = one_hot_encoding(y_test, N_CLASS)"
   ]
  },
  {
   "cell_type": "code",
   "execution_count": 8,
   "metadata": {
    "scrolled": true,
    "tags": [
     "outputPrepend"
    ]
   },
   "outputs": [
    {
     "name": "stdout",
     "output_type": "stream",
     "text": [
      "Checkpoint 100, Accuracy: 0.9567901234567902, Loss: 0.1789057519700792\n",
      "Checkpoint 200, Accuracy: 0.9691358024691358, Loss: 0.09776694686324508\n",
      "Checkpoint 300, Accuracy: 0.9691358024691358, Loss: 0.09837405769913285\n",
      "Checkpoint 400, Accuracy: 0.9691358024691358, Loss: 0.10056612226698133\n",
      "Checkpoint 500, Accuracy: 0.9691358024691358, Loss: 0.10030935428760669\n"
     ]
    }
   ],
   "source": [
    "# learning phase\n",
    "breakpoint = 100\n",
    "checkpoints = list()\n",
    "history = list()\n",
    "for century in range(0, EPOCHS, breakpoint):\n",
    "    sub_history = model.fit(x_train, y_train, breakpoint, verbose = 0)\n",
    "    score = model.evaluate(x_test, y_test, False, verbose = 0)\n",
    "    print('Checkpoint {}, Accuracy: {}, Loss: {}'.format(century+breakpoint, score['accuracy'], score[model.loss_fn]))\n",
    "    score['checkpoint'] = century + breakpoint\n",
    "    checkpoints.append(score)\n",
    "    history.extend(sub_history)"
   ]
  },
  {
   "cell_type": "code",
   "execution_count": 9,
   "metadata": {},
   "outputs": [],
   "source": [
    "import matplotlib.pyplot as plt\n",
    "\n",
    "def draw_plot(x, y_list, x_label=None, y_label=None, legend=None, title=None):\n",
    "    fig, ax = plt.subplots(figsize=(12,5))\n",
    "    for xi, yi in zip(x, y_list):\n",
    "        ax.plot(xi, yi)\n",
    "    if x_label is not None and y_label is not None:\n",
    "        ax.set(xlabel=x_label, ylabel=y_label, title='{} VS {}'.format(x_label, y_label))\n",
    "    if legend is not None:\n",
    "        ax.legend(legend)\n",
    "    ax.grid()\n",
    "    plt.show()"
   ]
  },
  {
   "cell_type": "code",
   "execution_count": 10,
   "metadata": {},
   "outputs": [
    {
     "name": "stdout",
     "output_type": "stream",
     "text": [
      "[1. 0. 0.] <-> [0.99724615 0.0014076  0.00134634]\n",
      "[0. 1. 0.] <-> [6.5919990e-03 9.9339163e-01 1.6340118e-05]\n",
      "[0. 1. 0.] <-> [6.8494040e-03 9.9313366e-01 1.6928356e-05]\n",
      "[1. 0. 0.] <-> [0.9968256  0.00183563 0.00133883]\n",
      "[1. 0. 0.] <-> [0.99718696 0.00117196 0.00164111]\n",
      "[1. 0. 0.] <-> [0.99540967 0.0032494  0.0013409 ]\n",
      "[1. 0. 0.] <-> [9.6668798e-01 9.1145048e-04 3.2400623e-02]\n",
      "[1. 0. 0.] <-> [1.5958514e-02 1.4993701e-05 9.8402643e-01]\n",
      "[1. 0. 0.] <-> [0.99591476 0.00103629 0.00304895]\n",
      "[1. 0. 0.] <-> [9.9517620e-01 9.8767830e-04 3.8361493e-03]\n",
      "[1. 0. 0.] <-> [0.994072   0.00110235 0.00482571]\n",
      "[1. 0. 0.] <-> [0.9905855  0.00798113 0.00143328]\n",
      "[1. 0. 0.] <-> [0.99700063 0.00135533 0.00164401]\n",
      "[1. 0. 0.] <-> [9.8141402e-01 9.4425183e-04 1.7641680e-02]\n",
      "[1. 0. 0.] <-> [0.99610126 0.00256465 0.00133414]\n",
      "[0. 1. 0.] <-> [1.8023344e-02 9.8193502e-01 4.1659187e-05]\n",
      "[1. 0. 0.] <-> [0.99736434 0.00129331 0.00134231]\n",
      "[0. 1. 0.] <-> [0.3755951  0.623725   0.00067989]\n",
      "[0. 0. 1.] <-> [5.2758753e-03 4.8850366e-06 9.9471927e-01]\n",
      "[0. 1. 0.] <-> [6.7681144e-03 9.9321508e-01 1.6767537e-05]\n",
      "[1. 0. 0.] <-> [0.99699116 0.00124953 0.00175934]\n",
      "[1. 0. 0.] <-> [0.9960516  0.0016043  0.00234409]\n",
      "[0. 1. 0.] <-> [6.6128625e-03 9.9337077e-01 1.6399350e-05]\n",
      "[1. 0. 0.] <-> [9.8211813e-01 9.7333040e-04 1.6908431e-02]\n",
      "[1. 0. 0.] <-> [0.9953643  0.00129455 0.00334113]\n",
      "[0. 0. 1.] <-> [1.2995762e-01 1.2096358e-04 8.6992145e-01]\n",
      "[1. 0. 0.] <-> [9.9119824e-01 9.5541251e-04 7.8462595e-03]\n",
      "[1. 0. 0.] <-> [0.9920918 0.0065023 0.0014059]\n",
      "[1. 0. 0.] <-> [4.0036955e-01 4.0136694e-04 5.9922910e-01]\n",
      "[1. 0. 0.] <-> [9.9656194e-01 9.4660820e-04 2.4914546e-03]\n",
      "[1. 0. 0.] <-> [0.9967079  0.00171988 0.00157221]\n",
      "[1. 0. 0.] <-> [8.7299836e-01 8.6383289e-04 1.2613778e-01]\n",
      "[1. 0. 0.] <-> [0.9959313  0.00141203 0.00265668]\n",
      "[1. 0. 0.] <-> [9.5128024e-01 8.8778633e-04 4.7831912e-02]\n",
      "[1. 0. 0.] <-> [0.9969957  0.00160927 0.00139503]\n",
      "[1. 0. 0.] <-> [0.9974152  0.00113141 0.00145333]\n",
      "[1. 0. 0.] <-> [0.9952785  0.00120527 0.00351618]\n",
      "[0. 0. 1.] <-> [7.2347848e-03 6.9873604e-06 9.9275815e-01]\n",
      "[0. 1. 0.] <-> [0.72740173 0.27136457 0.00123363]\n",
      "[1. 0. 0.] <-> [9.9013150e-01 9.2868344e-04 8.9397701e-03]\n",
      "[1. 0. 0.] <-> [0.9969488  0.00139292 0.0016584 ]\n",
      "[0. 1. 0.] <-> [6.5920055e-03 9.9339163e-01 1.6346323e-05]\n",
      "[1. 0. 0.] <-> [0.9674713  0.00103534 0.03149339]\n",
      "[0. 1. 0.] <-> [1.2692201e-01 8.7282360e-01 2.5444920e-04]\n",
      "[1. 0. 0.] <-> [9.893723e-01 9.570235e-04 9.670685e-03]\n",
      "[1. 0. 0.] <-> [0.9951383  0.00326284 0.00159886]\n",
      "[1. 0. 0.] <-> [0.9964522  0.00222858 0.00131927]\n",
      "[1. 0. 0.] <-> [9.9309689e-01 9.4595319e-04 5.9572486e-03]\n",
      "[1. 0. 0.] <-> [0.9963904  0.00222756 0.00138194]\n",
      "[1. 0. 0.] <-> [0.99652916 0.00128318 0.00218758]\n",
      "[1. 0. 0.] <-> [9.2717457e-01 9.2017278e-04 7.1905278e-02]\n",
      "[1. 0. 0.] <-> [0.9949663  0.00104251 0.00399114]\n",
      "[0. 1. 0.] <-> [1.1267411e-02 9.8870558e-01 2.6995156e-05]\n",
      "[0. 1. 0.] <-> [6.5920427e-03 9.9339163e-01 1.6340493e-05]\n",
      "[1. 0. 0.] <-> [0.99231696 0.00640121 0.00128184]\n",
      "[1. 0. 0.] <-> [6.8322122e-01 6.4788596e-04 3.1613091e-01]\n",
      "[0. 1. 0.] <-> [1.1125559e-02 9.8884761e-01 2.6727887e-05]\n",
      "[1. 0. 0.] <-> [0.99597025 0.00106869 0.00296106]\n",
      "[0. 1. 0.] <-> [8.419473e-03 9.915598e-01 2.066100e-05]\n",
      "[1. 0. 0.] <-> [0.9969627  0.00163385 0.00140347]\n",
      "[1. 0. 0.] <-> [9.9603695e-01 9.4161334e-04 3.0214584e-03]\n",
      "[1. 0. 0.] <-> [0.99533844 0.00124101 0.00342057]\n",
      "[1. 0. 0.] <-> [0.99706525 0.00128151 0.00165317]\n",
      "[1. 0. 0.] <-> [0.9970175  0.00122284 0.00175965]\n",
      "[1. 0. 0.] <-> [0.9972409  0.00114053 0.00161853]\n",
      "[1. 0. 0.] <-> [0.9967811  0.00124224 0.00197662]\n",
      "[0. 0. 1.] <-> [5.2770642e-03 4.8861489e-06 9.9471813e-01]\n",
      "[0. 0. 1.] <-> [5.3142705e-03 4.9283367e-06 9.9468082e-01]\n",
      "[1. 0. 0.] <-> [0.36325282 0.6360671  0.00068011]\n",
      "[1. 0. 0.] <-> [0.9943915  0.00419711 0.00141146]\n",
      "[1. 0. 0.] <-> [0.99656576 0.0021845  0.00124974]\n",
      "[0. 0. 1.] <-> [5.2456594e-01 4.8760828e-04 4.7494644e-01]\n",
      "[1. 0. 0.] <-> [0.9967739  0.00197899 0.00124706]\n",
      "[1. 0. 0.] <-> [0.9963805  0.00105392 0.00256561]\n",
      "[1. 0. 0.] <-> [0.9726629  0.02572707 0.00160992]\n",
      "[0. 0. 1.] <-> [6.5450850e-03 6.1239716e-06 9.9344879e-01]\n",
      "[0. 0. 1.] <-> [5.2762157e-03 4.8853562e-06 9.9471891e-01]\n",
      "[1. 0. 0.] <-> [0.9941445  0.00103419 0.00482144]\n",
      "[1. 0. 0.] <-> [0.99571264 0.00118926 0.00309816]\n",
      "[1. 0. 0.] <-> [0.99624324 0.00101586 0.00274087]\n",
      "[1. 0. 0.] <-> [0.97502464 0.00126449 0.02371084]\n",
      "[1. 0. 0.] <-> [0.99730456 0.00108924 0.00160612]\n",
      "[1. 0. 0.] <-> [9.3848282e-01 8.8706648e-04 6.0630113e-02]\n",
      "[1. 0. 0.] <-> [0.98181146 0.00104535 0.01714326]\n",
      "[1. 0. 0.] <-> [9.9228740e-01 9.4789156e-04 6.7647984e-03]\n",
      "[1. 0. 0.] <-> [9.9243975e-01 9.8032982e-04 6.5799197e-03]\n",
      "[1. 0. 0.] <-> [0.9962386  0.00136416 0.00239718]\n",
      "[1. 0. 0.] <-> [0.99634296 0.0017725  0.00188461]\n",
      "[1. 0. 0.] <-> [8.79302561e-01 8.38794280e-04 1.19858645e-01]\n",
      "[0. 0. 1.] <-> [5.7994481e-03 5.3699205e-06 9.9419516e-01]\n",
      "[0. 0. 1.] <-> [5.2758753e-03 4.8850366e-06 9.9471927e-01]\n",
      "[1. 0. 0.] <-> [8.8324445e-01 8.2307565e-04 1.1593245e-01]\n",
      "[1. 0. 0.] <-> [9.8862201e-01 9.4019307e-04 1.0437816e-02]\n",
      "[0. 0. 1.] <-> [5.3175231e-03 4.9240780e-06 9.9467754e-01]\n",
      "[1. 0. 0.] <-> [0.99331194 0.0010348  0.00565318]\n",
      "[0. 1. 0.] <-> [2.4388261e-01 7.5563884e-01 4.7857233e-04]\n",
      "[0. 1. 0.] <-> [2.6910415e-02 9.7302961e-01 5.9953869e-05]\n",
      "[1. 0. 0.] <-> [0.92704254 0.07138111 0.00157629]\n",
      "[1. 0. 0.] <-> [0.9908862  0.0069218  0.00219196]\n",
      "[1. 0. 0.] <-> [0.9949719  0.00122173 0.0038064 ]\n",
      "[1. 0. 0.] <-> [0.9969607  0.00146197 0.00157734]\n",
      "[1. 0. 0.] <-> [0.9969981  0.00161799 0.00138395]\n",
      "[0. 0. 1.] <-> [5.2759200e-03 4.8851475e-06 9.9471915e-01]\n",
      "[1. 0. 0.] <-> [9.9240327e-01 9.8017883e-04 6.6165985e-03]\n",
      "[1. 0. 0.] <-> [0.99124473 0.00737383 0.00138142]\n",
      "[1. 0. 0.] <-> [0.99619955 0.00107504 0.00272551]\n",
      "[1. 0. 0.] <-> [0.9947491  0.00390997 0.00134093]\n",
      "[0. 0. 1.] <-> [5.520190e-03 5.112459e-06 9.944747e-01]\n",
      "{'accuracy': 0.9691358024691358, 'mean_square_error': 0.05445543207345871, 'categorical_crossentropy': 0.10030935428760669, 'essential_metrics': {0: {'tp_hit': 77, 'fp_hit': 2, 'tn_hit': 26, 'fn_hit': 3}, 1: {'tp_hit': 14, 'fp_hit': 1, 'tn_hit': 92, 'fn_hit': 1}, 2: {'tp_hit': 12, 'fp_hit': 2, 'tn_hit': 93, 'fn_hit': 1}}}\n"
     ]
    }
   ],
   "source": [
    "# recall phase\n",
    "score = model.evaluate(x_test, y_test, False)\n",
    "print(score)"
   ]
  },
  {
   "cell_type": "code",
   "execution_count": 11,
   "metadata": {},
   "outputs": [
    {
     "data": {
      "image/png": "[encoded data removed]",
      "text/plain": [
       "<Figure size 864x360 with 1 Axes>"
      ]
     },
     "metadata": {
      "needs_background": "light"
     },
     "output_type": "display_data"
    },
    {
     "data": {
      "image/png": "[encoded data removed]",
      "text/plain": [
       "<Figure size 864x360 with 1 Axes>"
      ]
     },
     "metadata": {
      "needs_background": "light"
     },
     "output_type": "display_data"
    }
   ],
   "source": [
    "draw_plot(x = [[i for i in range(len(history))], [(i+1)*breakpoint for i in range(len(checkpoints))]], y_list = [history, [ ckp[model.loss_fn] for ckp in checkpoints ]], x_label = 'Epochs', \\\n",
    "    y_label = model.loss_fn, legend=['train', 'test'])\n",
    "acc = [ ckp['accuracy'] for ckp in checkpoints ]\n",
    "draw_plot(x = [[(i+1)*breakpoint for i in range(len(checkpoints))]], y_list = [acc], x_label = 'Checkpoints', \\\n",
    "    y_label = 'accuracy')"
   ]
  },
  {
   "cell_type": "code",
   "execution_count": 12,
   "metadata": {},
   "outputs": [
    {
     "name": "stdout",
     "output_type": "stream",
     "text": [
      "{'accuracy': 0.9567901234567902, 'mean_square_error': 0.08942009268806685, 'categorical_crossentropy': 0.1789057519700792, 'essential_metrics': {0: {'tp_hit': 78, 'fp_hit': 5, 'tn_hit': 23, 'fn_hit': 2}, 1: {'tp_hit': 12, 'fp_hit': 0, 'tn_hit': 93, 'fn_hit': 3}, 2: {'tp_hit': 11, 'fp_hit': 2, 'tn_hit': 93, 'fn_hit': 2}}, 'checkpoint': 100} \n",
      "\n",
      "\n",
      "{'accuracy': 0.9691358024691358, 'mean_square_error': 0.05402302514427437, 'categorical_crossentropy': 0.09776694686324508, 'essential_metrics': {0: {'tp_hit': 77, 'fp_hit': 2, 'tn_hit': 26, 'fn_hit': 3}, 1: {'tp_hit': 13, 'fp_hit': 1, 'tn_hit': 92, 'fn_hit': 2}, 2: {'tp_hit': 13, 'fp_hit': 2, 'tn_hit': 93, 'fn_hit': 0}}, 'checkpoint': 200} \n",
      "\n",
      "\n",
      "{'accuracy': 0.9691358024691358, 'mean_square_error': 0.05388709305729932, 'categorical_crossentropy': 0.09837405769913285, 'essential_metrics': {0: {'tp_hit': 77, 'fp_hit': 2, 'tn_hit': 26, 'fn_hit': 3}, 1: {'tp_hit': 14, 'fp_hit': 1, 'tn_hit': 92, 'fn_hit': 1}, 2: {'tp_hit': 12, 'fp_hit': 2, 'tn_hit': 93, 'fn_hit': 1}}, 'checkpoint': 300} \n",
      "\n",
      "\n",
      "{'accuracy': 0.9691358024691358, 'mean_square_error': 0.05426753110970026, 'categorical_crossentropy': 0.10056612226698133, 'essential_metrics': {0: {'tp_hit': 77, 'fp_hit': 2, 'tn_hit': 26, 'fn_hit': 3}, 1: {'tp_hit': 14, 'fp_hit': 1, 'tn_hit': 92, 'fn_hit': 1}, 2: {'tp_hit': 12, 'fp_hit': 2, 'tn_hit': 93, 'fn_hit': 1}}, 'checkpoint': 400} \n",
      "\n",
      "\n",
      "{'accuracy': 0.9691358024691358, 'mean_square_error': 0.05445543207345871, 'categorical_crossentropy': 0.10030935428760669, 'essential_metrics': {0: {'tp_hit': 77, 'fp_hit': 2, 'tn_hit': 26, 'fn_hit': 3}, 1: {'tp_hit': 14, 'fp_hit': 1, 'tn_hit': 92, 'fn_hit': 1}, 2: {'tp_hit': 12, 'fp_hit': 2, 'tn_hit': 93, 'fn_hit': 1}}, 'checkpoint': 500} \n",
      "\n",
      "\n"
     ]
    }
   ],
   "source": [
    "for checkpoint in checkpoints:\n",
    "    print(checkpoint, '\\n\\n')"
   ]
  },
  {
   "cell_type": "code",
   "execution_count": 13,
   "metadata": {},
   "outputs": [
    {
     "name": "stdout",
     "output_type": "stream",
     "text": [
      "Layer 1\n",
      "Neuron 0: weights:\n",
      "[ 0.12856291 -3.         -0.71096045  0.6075281   3.        ]\n",
      " bias: -3.0\n",
      "\n",
      "Neuron 1: weights:\n",
      "[-1.9582487  3.         2.2147014 -3.        -0.7197971]\n",
      " bias: -3.0\n",
      "\n",
      "Neuron 2: weights:\n",
      "[-0.05197688  3.          0.7518219  -0.6890555  -3.        ]\n",
      " bias: 3.0\n",
      "\n",
      "Neuron 3: weights:\n",
      "[ 1.9171144 -3.        -2.2398694 -1.9085022  3.       ]\n",
      " bias: 3.0\n",
      "\n",
      "$\n",
      "Layer 2\n",
      "Neuron 0: weights:\n",
      "[-3. -3.  3.  3.]\n",
      " bias: 3.0\n",
      "\n",
      "Neuron 1: weights:\n",
      "[-3.  3.  3. -3.]\n",
      " bias: 2.015277147293091\n",
      "\n",
      "Neuron 2: weights:\n",
      "[ 3.        -3.        -3.         2.2393162]\n",
      " bias: 3.0\n",
      "\n",
      "$\n",
      "\n"
     ]
    }
   ],
   "source": [
    "print(model)"
   ]
  }
 ],
 "metadata": {
  "kernelspec": {
   "display_name": "Python 3",
   "language": "python",
   "name": "python3"
  },
  "language_info": {
   "codemirror_mode": {
    "name": "ipython",
    "version": 3
   },
   "file_extension": ".py",
   "mimetype": "text/x-python",
   "name": "python",
   "nbconvert_exporter": "python",
   "pygments_lexer": "ipython3",
   "version": "3.6.10"
  }
 },
 "nbformat": 4,
 "nbformat_minor": 2
}
