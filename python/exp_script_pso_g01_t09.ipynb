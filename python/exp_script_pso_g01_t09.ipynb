{
 "cells": [
  {
   "cell_type": "code",
   "execution_count": 1,
   "metadata": {},
   "outputs": [],
   "source": [
    "# dependency\n",
    "import numpy as np\n",
    "import pandas as pd\n",
    "import copy\n",
    "import math\n",
    "import sys\n",
    "import os\n",
    "from activations import relu, leaky_relu, sigmoid, tanh, softmax, d_sigmoid, d_relu\n",
    "from initializers import glorot_uniform, random_normal, random_uniform\n",
    "from regularizers import l1_regularizer, l2_regularizer\n",
    "from utility import trim_tail, multiply, subtract, get_nparams, one_hot_encoding, get_data\n",
    "from metrics import MSE, CCE, ACC, PRECISION, RECALL, essential_metrics, wondering_penalty, close_gap_penalty\n",
    "from pso import PSO\n",
    "from ga import GA\n",
    "from nn import Network\n",
    "from layer import DenseLayer\n",
    "from scalers import MinMaxScaler, StandardScaler"
   ]
  },
  {
   "cell_type": "code",
   "execution_count": 2,
   "metadata": {},
   "outputs": [],
   "source": [
    "# reference\n",
    "metrics_fn_dict = dict()\n",
    "metrics_fn_dict['accuracy'] = ACC\n",
    "metrics_fn_dict['categorical_crossentropy'] = CCE\n",
    "metrics_fn_dict['mean_square_error'] = MSE\n",
    "metrics_fn_dict['precision'] = PRECISION\n",
    "metrics_fn_dict['recall'] = RECALL\n",
    "metrics_fn_dict['essential_metrics'] = essential_metrics"
   ]
  },
  {
   "cell_type": "code",
   "execution_count": 3,
   "metadata": {},
   "outputs": [],
   "source": [
    "# model\n",
    "model = Network(5, lr = None)\n",
    "model.add_layer(DenseLayer(1, 4, True, afn=sigmoid, dafn=None, rfn=None))\n",
    "model.add_layer(DenseLayer(2, 3, True, afn=softmax, dafn=None, rfn=None))"
   ]
  },
  {
   "cell_type": "code",
   "execution_count": 4,
   "metadata": {},
   "outputs": [
    {
     "name": "stdout",
     "output_type": "stream",
     "text": [
      "see one see two 2 0.5\n"
     ]
    }
   ],
   "source": [
    "pso = PSO(dict(m = 50,\n",
    "    weight_constraint = [-3, 3], \n",
    "    velocity_constraint = [-0.1, 0.1],\n",
    "    c1 = [0.5, 2],\n",
    "    c2 = [0.5, 2],\n",
    "    w = [0.5, 1.6],\n",
    "    w_decay = 0.95,\n",
    "    scale_hyperparameter = True,\n",
    "    regularizer = l1_regularizer,\n",
    "    mask = True))"
   ]
  },
  {
   "cell_type": "code",
   "execution_count": 5,
   "metadata": {},
   "outputs": [
    {
     "name": "stdout",
     "output_type": "stream",
     "text": [
      "building layer 1 with 5\n",
      "24\n",
      "building layer 2 with 4\n",
      "15\n"
     ]
    }
   ],
   "source": [
    "model.compile(loss_fn = 'categorical_crossentropy', optimizer = pso, \\\n",
    "    metrics = ['accuracy', 'mean_square_error', 'categorical_crossentropy'])"
   ]
  },
  {
   "cell_type": "code",
   "execution_count": 6,
   "metadata": {},
   "outputs": [
    {
     "name": "stdout",
     "output_type": "stream",
     "text": [
      "<class 'pandas.core.frame.DataFrame'>\n",
      "RangeIndex: 107 entries, 0 to 106\n",
      "Data columns (total 6 columns):\n",
      " #   Column  Non-Null Count  Dtype  \n",
      "---  ------  --------------  -----  \n",
      " 0   f1      107 non-null    float32\n",
      " 1   f2      107 non-null    float32\n",
      " 2   f3      107 non-null    float32\n",
      " 3   f4      107 non-null    float32\n",
      " 4   f5      107 non-null    float32\n",
      " 5   label   107 non-null    float32\n",
      "dtypes: float32(6)\n",
      "memory usage: 2.6 KB\n",
      "None\n",
      "<class 'pandas.core.frame.DataFrame'>\n",
      "RangeIndex: 108 entries, 0 to 107\n",
      "Data columns (total 6 columns):\n",
      " #   Column  Non-Null Count  Dtype  \n",
      "---  ------  --------------  -----  \n",
      " 0   f1      108 non-null    float32\n",
      " 1   f2      108 non-null    float32\n",
      " 2   f3      108 non-null    float32\n",
      " 3   f4      108 non-null    float32\n",
      " 4   f5      108 non-null    float32\n",
      " 5   label   108 non-null    float32\n",
      "dtypes: float32(6)\n",
      "memory usage: 2.7 KB\n",
      "None\n"
     ]
    }
   ],
   "source": [
    "# data loading\n",
    "DATA = os.path.join('c:\\\\Users\\\\tcumi\\\\github_repo\\\\neural-network\\\\', 'dataset')\n",
    "GROUP = 1\n",
    "COLUMNS = ['f1', 'f2', 'f3', 'f4', 'f5', 'label']\n",
    "N_CLASS = 3\n",
    "EPOCHS = 300\n",
    "train_dir, test_dir = \"..//dataset//training_data{}.txt\".format(GROUP), \"..//dataset//testing_data{}.txt\".format(GROUP)\n",
    "train, test = get_data(DATA, train_dir, COLUMNS), get_data(DATA, test_dir, COLUMNS)\n",
    "# shuffle\n",
    "train, test = train.sample(frac=1), test.sample(frac=1)\n",
    "x_train, y_train = train.drop('label', axis=1), train['label']\n",
    "x_test, y_test = test.drop('label', axis=1), test['label']"
   ]
  },
  {
   "cell_type": "code",
   "execution_count": 7,
   "metadata": {},
   "outputs": [],
   "source": [
    "# data scaling and encoding\n",
    "scaler = StandardScaler(['f1', 'f2', 'f3', 'f4', 'f5'])\n",
    "scaler.fit(x_train)\n",
    "x_train = scaler.transform(x_train)\n",
    "x_test = scaler.transform(x_test)\n",
    "y_train = one_hot_encoding(y_train, N_CLASS)\n",
    "y_test = one_hot_encoding(y_test, N_CLASS)"
   ]
  },
  {
   "cell_type": "code",
   "execution_count": 8,
   "metadata": {
    "tags": [
     "outputPrepend"
    ]
   },
   "outputs": [
    {
     "name": "stdout",
     "output_type": "stream",
     "text": [
      "Checkpoint 300, Accuracy: 0.9691358024691358, Loss: 0.09785544430768048\n"
     ]
    }
   ],
   "source": [
    "# learning phase\n",
    "breakpoint = 300\n",
    "checkpoints = list()\n",
    "history = list()\n",
    "for century in range(0, EPOCHS, breakpoint):\n",
    "    sub_history = model.fit(x_train, y_train, breakpoint, verbose = 0)\n",
    "    score = model.evaluate(x_test, y_test, False, verbose = 0)\n",
    "    print('Checkpoint {}, Accuracy: {}, Loss: {}'.format(century+breakpoint, score['accuracy'], score[model.loss_fn]))\n",
    "    score['checkpoint'] = century + breakpoint\n",
    "    checkpoints.append(score)\n",
    "    history.extend(sub_history)\n",
    "    '''\n",
    "    itr = century + breakpoint\n",
    "    model.optimizer.c1 = np.max([model.optimizer.C1[1] - ((model.optimizer.C1[1] - model.optimizer.C1[0]) * itr / EPOCHS), model.optimizer.C1[0]])\n",
    "    model.optimizer.c2 = np.min([model.optimizer.C2[0] + ((model.optimizer.C2[1] - model.optimizer.C2[0]) * itr / EPOCHS), model.optimizer.C2[1]])\n",
    "    model.optimizer.w = np.max([model.optimizer.w * model.optimizer.W_Decay, model.optimizer.W[0]])\n",
    "    '''    "
   ]
  },
  {
   "cell_type": "code",
   "execution_count": 9,
   "metadata": {},
   "outputs": [],
   "source": [
    "import matplotlib.pyplot as plt\n",
    "\n",
    "def draw_plot(x, y_list, x_label=None, y_label=None, legend=None, title=None):\n",
    "    fig, ax = plt.subplots(figsize=(12,5))\n",
    "    for xi, yi in zip(x, y_list):\n",
    "        ax.plot(xi, yi)\n",
    "    if x_label is not None and y_label is not None:\n",
    "        ax.set(xlabel=x_label, ylabel=y_label, title='{} VS {}'.format(x_label, y_label))\n",
    "    if legend is not None:\n",
    "        ax.legend(legend)\n",
    "    ax.grid()\n",
    "    plt.show()"
   ]
  },
  {
   "cell_type": "code",
   "execution_count": 10,
   "metadata": {},
   "outputs": [
    {
     "name": "stdout",
     "output_type": "stream",
     "text": [
      "[1. 0. 0.] <-> [0.99646914 0.00219555 0.00133535]\n",
      "[1. 0. 0.] <-> [0.9807879  0.00297106 0.01624116]\n",
      "[0. 0. 1.] <-> [6.4895758e-03 5.0159561e-04 9.9300885e-01]\n",
      "[1. 0. 0.] <-> [0.9959751  0.00151193 0.00251301]\n",
      "[1. 0. 0.] <-> [0.9973379  0.0013135  0.00134855]\n",
      "[1. 0. 0.] <-> [0.9944127  0.00183465 0.00375266]\n",
      "[1. 0. 0.] <-> [0.38854727 0.00697863 0.60447407]\n",
      "[1. 0. 0.] <-> [0.9881726  0.00212545 0.00970193]\n",
      "[1. 0. 0.] <-> [0.99702674 0.00142222 0.00155107]\n",
      "[1. 0. 0.] <-> [0.99616337 0.0025767  0.00125993]\n",
      "[1. 0. 0.] <-> [0.9908794  0.00189527 0.00722528]\n",
      "[0. 0. 1.] <-> [7.0352536e-03 5.2539923e-04 9.9243927e-01]\n",
      "[0. 0. 1.] <-> [5.7622520e-03 4.6716750e-04 9.9377054e-01]\n",
      "[1. 0. 0.] <-> [0.9360495  0.00356159 0.06038887]\n",
      "[1. 0. 0.] <-> [0.99625444 0.00167422 0.00207139]\n",
      "[1. 0. 0.] <-> [0.9522212  0.00334858 0.0444303 ]\n",
      "[1. 0. 0.] <-> [0.9664719  0.00526532 0.02826271]\n",
      "[1. 0. 0.] <-> [0.99608445 0.00253398 0.00138153]\n",
      "[0. 0. 1.] <-> [5.7632001e-03 4.6720757e-04 9.9376959e-01]\n",
      "[0. 1. 0.] <-> [0.40933836 0.5893944  0.00126732]\n",
      "[0. 0. 1.] <-> [6.1518149e-03 4.8507459e-04 9.9336314e-01]\n",
      "[0. 1. 0.] <-> [5.9926067e-03 9.9396557e-01 4.1869880e-05]\n",
      "[1. 0. 0.] <-> [0.992564   0.00193789 0.00549811]\n",
      "[1. 0. 0.] <-> [0.99688303 0.00147496 0.00164198]\n",
      "[0. 0. 1.] <-> [5.8004884e-03 4.6872025e-04 9.9373078e-01]\n",
      "[1. 0. 0.] <-> [0.9950358  0.00360098 0.0013632 ]\n",
      "[1. 0. 0.] <-> [0.96373594 0.0042534  0.03201066]\n",
      "[0. 0. 1.] <-> [5.7758549e-03 4.6781794e-04 9.9375629e-01]\n",
      "[1. 0. 0.] <-> [0.41232523 0.5861863  0.00148849]\n",
      "[0. 1. 0.] <-> [1.9725548e-02 9.8015070e-01 1.2369496e-04]\n",
      "[1. 0. 0.] <-> [0.99684674 0.0016081  0.00154514]\n",
      "[1. 0. 0.] <-> [0.9799881  0.00287347 0.01713843]\n",
      "[0. 1. 0.] <-> [1.0741562e-02 9.8919117e-01 6.7364330e-05]\n",
      "[1. 0. 0.] <-> [0.9926963  0.00179108 0.00551272]\n",
      "[1. 0. 0.] <-> [0.9946185  0.00201982 0.00336173]\n",
      "[1. 0. 0.] <-> [0.9957099  0.00188619 0.00240393]\n",
      "[0. 1. 0.] <-> [7.9896450e-03 9.9195546e-01 5.4917029e-05]\n",
      "[0. 1. 0.] <-> [1.2855992e-01 8.7091231e-01 5.2778225e-04]\n",
      "[1. 0. 0.] <-> [0.9966826  0.00199932 0.0013181 ]\n",
      "[1. 0. 0.] <-> [0.96552783 0.00297126 0.03150083]\n",
      "[1. 0. 0.] <-> [0.9953667  0.0017133  0.00291998]\n",
      "[1. 0. 0.] <-> [0.99632686 0.00236898 0.00130408]\n",
      "[0. 0. 1.] <-> [5.8992715e-03 4.7220846e-04 9.9362844e-01]\n",
      "[0. 1. 0.] <-> [6.000750e-03 9.939574e-01 4.184523e-05]\n",
      "[1. 0. 0.] <-> [0.99368966 0.00182977 0.00448049]\n",
      "[0. 1. 0.] <-> [6.0006650e-03 9.9395752e-01 4.1847547e-05]\n",
      "[1. 0. 0.] <-> [1.7126573e-02 9.5698558e-04 9.8191637e-01]\n",
      "[0. 1. 0.] <-> [6.0355216e-03 9.9392235e-01 4.2136155e-05]\n",
      "[1. 0. 0.] <-> [0.9886053  0.00254603 0.00884865]\n",
      "[0. 0. 1.] <-> [5.762433e-03 4.671741e-04 9.937704e-01]\n",
      "[1. 0. 0.] <-> [0.99727815 0.00142573 0.00129607]\n",
      "[1. 0. 0.] <-> [0.99322045 0.0020374  0.00474203]\n",
      "[1. 0. 0.] <-> [0.996736   0.00192207 0.00134193]\n",
      "[1. 0. 0.] <-> [0.9916475  0.00195352 0.00639904]\n",
      "[1. 0. 0.] <-> [0.99207425 0.00666823 0.00125753]\n",
      "[1. 0. 0.] <-> [0.9947395  0.00194472 0.00331574]\n",
      "[1. 0. 0.] <-> [0.9948749  0.00169523 0.0034299 ]\n",
      "[1. 0. 0.] <-> [0.9969613  0.00169429 0.00134438]\n",
      "[1. 0. 0.] <-> [0.9971348  0.00135415 0.00151106]\n",
      "[0. 0. 1.] <-> [0.52767444 0.00444912 0.46787643]\n",
      "[1. 0. 0.] <-> [0.9899075  0.00196735 0.00812509]\n",
      "[1. 0. 0.] <-> [0.99610776 0.0014891  0.00240317]\n",
      "[1. 0. 0.] <-> [0.8744515  0.00536136 0.12018719]\n",
      "[1. 0. 0.] <-> [0.99667823 0.00145712 0.00186461]\n",
      "[1. 0. 0.] <-> [0.99593097 0.00141635 0.0026527 ]\n",
      "[1. 0. 0.] <-> [0.99581677 0.00233078 0.00185252]\n",
      "[1. 0. 0.] <-> [0.9964509  0.00222564 0.00132336]\n",
      "[1. 0. 0.] <-> [0.99604887 0.00148226 0.00246889]\n",
      "[1. 0. 0.] <-> [0.9971136  0.00160363 0.00128278]\n",
      "[1. 0. 0.] <-> [0.99485415 0.00181005 0.00333581]\n",
      "[0. 0. 1.] <-> [0.14225489 0.00430593 0.85343915]\n",
      "[1. 0. 0.] <-> [0.9956481  0.00210203 0.00224987]\n",
      "[1. 0. 0.] <-> [0.98918194 0.00929568 0.0015224 ]\n",
      "[1. 0. 0.] <-> [0.9905876  0.00708932 0.00232303]\n",
      "[1. 0. 0.] <-> [0.98752743 0.01103008 0.00144248]\n",
      "[0. 1. 0.] <-> [6.3093179e-03 9.9364686e-01 4.3868033e-05]\n",
      "[1. 0. 0.] <-> [0.99712855 0.00137978 0.0014916 ]\n",
      "[1. 0. 0.] <-> [0.99641293 0.00240332 0.00118377]\n",
      "[1. 0. 0.] <-> [0.99681    0.00161215 0.00157785]\n",
      "[1. 0. 0.] <-> [0.670428   0.00773538 0.32183662]\n",
      "[1. 0. 0.] <-> [0.92170936 0.07606688 0.00222369]\n",
      "[1. 0. 0.] <-> [0.9956956  0.00179675 0.00250764]\n",
      "[1. 0. 0.] <-> [0.8834106  0.00523445 0.11135499]\n",
      "[0. 0. 1.] <-> [5.7622795e-03 4.6716971e-04 9.9377054e-01]\n",
      "[1. 0. 0.] <-> [0.99180675 0.00211782 0.00607546]\n",
      "[1. 0. 0.] <-> [0.9924232  0.00610393 0.0014729 ]\n",
      "[1. 0. 0.] <-> [0.99505794 0.00181345 0.00312858]\n",
      "[1. 0. 0.] <-> [0.9942168  0.00204325 0.00373986]\n",
      "[1. 0. 0.] <-> [0.8742188  0.0037267  0.12205441]\n",
      "[0. 1. 0.] <-> [3.8686715e-02 9.6106094e-01 2.5237145e-04]\n",
      "[0. 1. 0.] <-> [0.58993965 0.40775022 0.00231008]\n",
      "[1. 0. 0.] <-> [0.9920729  0.00178787 0.00613925]\n",
      "[1. 0. 0.] <-> [0.9967334  0.00158431 0.00168221]\n",
      "[1. 0. 0.] <-> [0.9963897  0.00131545 0.00229482]\n",
      "[1. 0. 0.] <-> [0.99525225 0.00334826 0.00139951]\n",
      "[1. 0. 0.] <-> [0.99554175 0.00278606 0.00167223]\n",
      "[1. 0. 0.] <-> [0.99628025 0.00212586 0.00159389]\n",
      "[1. 0. 0.] <-> [0.95745313 0.04091279 0.00163412]\n",
      "[0. 0. 1.] <-> [5.7622520e-03 4.6716750e-04 9.9377054e-01]\n",
      "[1. 0. 0.] <-> [0.9806732  0.00295246 0.0163743 ]\n",
      "[1. 0. 0.] <-> [0.9967757  0.0017463  0.00147809]\n",
      "[1. 0. 0.] <-> [0.99651164 0.0021783  0.00131002]\n",
      "[1. 0. 0.] <-> [0.9155626  0.0052409  0.07919658]\n",
      "[1. 0. 0.] <-> [0.99705124 0.00142716 0.00152161]\n",
      "[0. 1. 0.] <-> [0.3150631  0.6838147  0.00112215]\n",
      "[0. 1. 0.] <-> [6.210054e-03 9.937465e-01 4.330147e-05]\n",
      "[0. 1. 0.] <-> [1.1639415e-02 9.8828238e-01 7.8226476e-05]\n",
      "[1. 0. 0.] <-> [0.9954194  0.00158162 0.00299902]\n",
      "{'accuracy': 0.9691358024691358, 'mean_square_error': 0.051730647865273566, 'categorical_crossentropy': 0.09785544430768048, 'essential_metrics': {0: {'tp_hit': 77, 'fp_hit': 2, 'tn_hit': 26, 'fn_hit': 3}, 1: {'tp_hit': 14, 'fp_hit': 1, 'tn_hit': 92, 'fn_hit': 1}, 2: {'tp_hit': 12, 'fp_hit': 2, 'tn_hit': 93, 'fn_hit': 1}}}\n"
     ]
    }
   ],
   "source": [
    "# recall phase\n",
    "score = model.evaluate(x_test, y_test, False)\n",
    "print(score)"
   ]
  },
  {
   "cell_type": "code",
   "execution_count": 11,
   "metadata": {},
   "outputs": [
    {
     "data": {
      "image/png": "[encoded data removed]",
      "text/plain": [
       "<Figure size 864x360 with 1 Axes>"
      ]
     },
     "metadata": {
      "needs_background": "light"
     },
     "output_type": "display_data"
    },
    {
     "data": {
      "image/png": "[encoded data removed]",
      "text/plain": [
       "<Figure size 864x360 with 1 Axes>"
      ]
     },
     "metadata": {
      "needs_background": "light"
     },
     "output_type": "display_data"
    }
   ],
   "source": [
    "draw_plot(x = [[i for i in range(len(history))], [(i+1)*breakpoint for i in range(len(checkpoints))]], y_list = [history, [ ckp[model.loss_fn] for ckp in checkpoints ]], x_label = 'Epochs', \\\n",
    "    y_label = model.loss_fn, legend=['train', 'test'])\n",
    "acc = [ ckp['accuracy'] for ckp in checkpoints ]\n",
    "draw_plot(x = [[(i+1)*breakpoint for i in range(len(checkpoints))]], y_list = [acc], x_label = 'Checkpoints', \\\n",
    "    y_label = 'accuracy')"
   ]
  },
  {
   "cell_type": "code",
   "execution_count": 12,
   "metadata": {},
   "outputs": [
    {
     "name": "stdout",
     "output_type": "stream",
     "text": [
      "{'accuracy': 0.9691358024691358, 'mean_square_error': 0.051730647865273566, 'categorical_crossentropy': 0.09785544430768048, 'essential_metrics': {0: {'tp_hit': 77, 'fp_hit': 2, 'tn_hit': 26, 'fn_hit': 3}, 1: {'tp_hit': 14, 'fp_hit': 1, 'tn_hit': 92, 'fn_hit': 1}, 2: {'tp_hit': 12, 'fp_hit': 2, 'tn_hit': 93, 'fn_hit': 1}}, 'checkpoint': 300} \n",
      "\n",
      "\n"
     ]
    }
   ],
   "source": [
    "for checkpoint in checkpoints:\n",
    "    print(checkpoint, '\\n\\n')"
   ]
  },
  {
   "cell_type": "code",
   "execution_count": 13,
   "metadata": {},
   "outputs": [
    {
     "name": "stdout",
     "output_type": "stream",
     "text": [
      "Layer 1\n",
      "Neuron 0: weights:\n",
      "[-1.8777261   3.          3.         -0.22922541 -1.7880981 ]\n",
      " bias: -3.0\n",
      "\n",
      "Neuron 1: weights:\n",
      "[-1.8359454  3.         1.5473403  1.4291829 -3.       ]\n",
      " bias: -3.0\n",
      "\n",
      "Neuron 2: weights:\n",
      "[-0.02013656  3.          0.19159506 -0.9047704  -3.        ]\n",
      " bias: 2.72611665725708\n",
      "\n",
      "Neuron 3: weights:\n",
      "[ 0.09249684 -3.         -1.2168834   1.1858901   3.        ]\n",
      " bias: -3.0\n",
      "\n",
      "$\n",
      "Layer 2\n",
      "Neuron 0: weights:\n",
      "[-3. -3.  3. -3.]\n",
      " bias: -0.4876043498516083\n",
      "\n",
      "Neuron 1: weights:\n",
      "[ 3.         3.        -1.3777858 -3.       ]\n",
      " bias: -3.0\n",
      "\n",
      "Neuron 2: weights:\n",
      "[-1.1158857 -3.        -3.         3.       ]\n",
      " bias: -1.3374264240264893\n",
      "\n",
      "$\n",
      "\n"
     ]
    }
   ],
   "source": [
    "print(model)"
   ]
  }
 ],
 "metadata": {
  "kernelspec": {
   "display_name": "Python 3",
   "language": "python",
   "name": "python3"
  },
  "language_info": {
   "codemirror_mode": {
    "name": "ipython",
    "version": 3
   },
   "file_extension": ".py",
   "mimetype": "text/x-python",
   "name": "python",
   "nbconvert_exporter": "python",
   "pygments_lexer": "ipython3",
   "version": "3.6.10"
  }
 },
 "nbformat": 4,
 "nbformat_minor": 2
}
