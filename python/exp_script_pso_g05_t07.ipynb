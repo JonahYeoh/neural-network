{
 "cells": [
  {
   "cell_type": "code",
   "execution_count": 1,
   "metadata": {},
   "outputs": [],
   "source": [
    "# dependency\n",
    "import numpy as np\n",
    "import pandas as pd\n",
    "import copy\n",
    "import math\n",
    "import sys\n",
    "import os\n",
    "from activations import relu, leaky_relu, sigmoid, tanh, softmax, d_sigmoid, d_relu\n",
    "from initializers import glorot_uniform, random_normal, random_uniform\n",
    "from regularizers import l1_regularizer, l2_regularizer\n",
    "from utility import trim_tail, multiply, subtract, get_nparams, one_hot_encoding, get_data\n",
    "from metrics import MSE, CCE, ACC, PRECISION, RECALL, essential_metrics, wondering_penalty, close_gap_penalty\n",
    "from pso import PSO\n",
    "from ga import GA\n",
    "from nn import Network\n",
    "from layer import DenseLayer\n",
    "from scalers import MinMaxScaler, StandardScaler"
   ]
  },
  {
   "cell_type": "code",
   "execution_count": 2,
   "metadata": {},
   "outputs": [],
   "source": [
    "# reference\n",
    "metrics_fn_dict = dict()\n",
    "metrics_fn_dict['accuracy'] = ACC\n",
    "metrics_fn_dict['categorical_crossentropy'] = CCE\n",
    "metrics_fn_dict['mean_square_error'] = MSE\n",
    "metrics_fn_dict['precision'] = PRECISION\n",
    "metrics_fn_dict['recall'] = RECALL\n",
    "metrics_fn_dict['essential_metrics'] = essential_metrics"
   ]
  },
  {
   "cell_type": "code",
   "execution_count": 3,
   "metadata": {},
   "outputs": [],
   "source": [
    "# model\n",
    "model = Network(5, lr = None)\n",
    "model.add_layer(DenseLayer(1, 4, True, afn=sigmoid, dafn=None, rfn=None))\n",
    "model.add_layer(DenseLayer(2, 3, True, afn=softmax, dafn=None, rfn=None))"
   ]
  },
  {
   "cell_type": "code",
   "execution_count": 4,
   "metadata": {},
   "outputs": [
    {
     "name": "stdout",
     "output_type": "stream",
     "text": [
      "see one see two 2 0.5\n"
     ]
    }
   ],
   "source": [
    "pso = PSO(dict(m = 50,\n",
    "    weight_constraint = [-3, 3], \n",
    "    velocity_constraint = [-0.1, 0.1],\n",
    "    c1 = [0.5, 2],\n",
    "    c2 = [0.5, 2],\n",
    "    w = [0.5, 1.6],\n",
    "    w_decay = 0.95,\n",
    "    scale_hyperparameter = False,\n",
    "    regularizer = l1_regularizer,\n",
    "    mask = True))"
   ]
  },
  {
   "cell_type": "code",
   "execution_count": 5,
   "metadata": {},
   "outputs": [
    {
     "name": "stdout",
     "output_type": "stream",
     "text": [
      "building layer 1 with 5\n",
      "24\n",
      "building layer 2 with 4\n",
      "15\n"
     ]
    }
   ],
   "source": [
    "model.compile(loss_fn = 'categorical_crossentropy', optimizer = pso, \\\n",
    "    metrics = ['accuracy', 'mean_square_error', 'categorical_crossentropy'])"
   ]
  },
  {
   "cell_type": "code",
   "execution_count": 6,
   "metadata": {},
   "outputs": [
    {
     "name": "stdout",
     "output_type": "stream",
     "text": [
      "<class 'pandas.core.frame.DataFrame'>\n",
      "RangeIndex: 107 entries, 0 to 106\n",
      "Data columns (total 6 columns):\n",
      " #   Column  Non-Null Count  Dtype  \n",
      "---  ------  --------------  -----  \n",
      " 0   f1      107 non-null    float32\n",
      " 1   f2      107 non-null    float32\n",
      " 2   f3      107 non-null    float32\n",
      " 3   f4      107 non-null    float32\n",
      " 4   f5      107 non-null    float32\n",
      " 5   label   107 non-null    float32\n",
      "dtypes: float32(6)\n",
      "memory usage: 2.6 KB\n",
      "None\n",
      "<class 'pandas.core.frame.DataFrame'>\n",
      "RangeIndex: 108 entries, 0 to 107\n",
      "Data columns (total 6 columns):\n",
      " #   Column  Non-Null Count  Dtype  \n",
      "---  ------  --------------  -----  \n",
      " 0   f1      108 non-null    float32\n",
      " 1   f2      108 non-null    float32\n",
      " 2   f3      108 non-null    float32\n",
      " 3   f4      108 non-null    float32\n",
      " 4   f5      108 non-null    float32\n",
      " 5   label   108 non-null    float32\n",
      "dtypes: float32(6)\n",
      "memory usage: 2.7 KB\n",
      "None\n"
     ]
    }
   ],
   "source": [
    "# data loading\n",
    "DATA = os.path.join('c:\\\\Users\\\\tcumi\\\\github_repo\\\\neural-network\\\\', 'dataset')\n",
    "GROUP = 5\n",
    "COLUMNS = ['f1', 'f2', 'f3', 'f4', 'f5', 'label']\n",
    "N_CLASS = 3\n",
    "EPOCHS = 500\n",
    "train_dir, test_dir = \"..//dataset//training_data{}.txt\".format(GROUP), \"..//dataset//testing_data{}.txt\".format(GROUP)\n",
    "train, test = get_data(DATA, train_dir, COLUMNS), get_data(DATA, test_dir, COLUMNS)\n",
    "# shuffle\n",
    "train, test = train.sample(frac=1), test.sample(frac=1)\n",
    "x_train, y_train = train.drop('label', axis=1), train['label']\n",
    "x_test, y_test = test.drop('label', axis=1), test['label']"
   ]
  },
  {
   "cell_type": "code",
   "execution_count": 7,
   "metadata": {},
   "outputs": [],
   "source": [
    "# data scaling and encoding\n",
    "scaler = StandardScaler(['f1', 'f2', 'f3', 'f4', 'f5'])\n",
    "scaler.fit(x_train)\n",
    "x_train = scaler.transform(x_train)\n",
    "x_test = scaler.transform(x_test)\n",
    "y_train = one_hot_encoding(y_train, N_CLASS)\n",
    "y_test = one_hot_encoding(y_test, N_CLASS)"
   ]
  },
  {
   "cell_type": "code",
   "execution_count": 8,
   "metadata": {
    "tags": [
     "outputPrepend"
    ]
   },
   "outputs": [
    {
     "name": "stdout",
     "output_type": "stream",
     "text": [
      "Checkpoint 100, Accuracy: 0.9444444444444444, Loss: 0.3197645258020472\n",
      "Checkpoint 200, Accuracy: 0.9506172839506173, Loss: 0.2578560334664804\n",
      "Checkpoint 300, Accuracy: 0.9629629629629629, Loss: 0.24009987160011573\n",
      "Checkpoint 400, Accuracy: 0.9506172839506173, Loss: 0.2589913120976201\n",
      "Checkpoint 500, Accuracy: 0.9382716049382716, Loss: 0.2513591095253273\n"
     ]
    }
   ],
   "source": [
    "# learning phase\n",
    "breakpoint = 100\n",
    "checkpoints = list()\n",
    "history = list()\n",
    "for century in range(0, EPOCHS, breakpoint):\n",
    "    sub_history = model.fit(x_train, y_train, breakpoint, verbose = 0)\n",
    "    score = model.evaluate(x_test, y_test, False, verbose = 0)\n",
    "    print('Checkpoint {}, Accuracy: {}, Loss: {}'.format(century+breakpoint, score['accuracy'], score[model.loss_fn]))\n",
    "    score['checkpoint'] = century + breakpoint\n",
    "    checkpoints.append(score)\n",
    "    history.extend(sub_history)\n",
    "    itr = century + breakpoint\n",
    "    model.optimizer.c1 = np.max([model.optimizer.C1[1] - ((model.optimizer.C1[1] - model.optimizer.C1[0]) * itr / EPOCHS), model.optimizer.C1[0]])\n",
    "    model.optimizer.c2 = np.min([model.optimizer.C2[0] + ((model.optimizer.C2[1] - model.optimizer.C2[0]) * itr / EPOCHS), model.optimizer.C2[1]])\n",
    "    model.optimizer.w = np.max([model.optimizer.w * model.optimizer.W_Decay, model.optimizer.W[0]])"
   ]
  },
  {
   "cell_type": "code",
   "execution_count": 9,
   "metadata": {},
   "outputs": [],
   "source": [
    "import matplotlib.pyplot as plt\n",
    "\n",
    "def draw_plot(x, y_list, x_label=None, y_label=None, legend=None, title=None):\n",
    "    fig, ax = plt.subplots(figsize=(12,5))\n",
    "    for xi, yi in zip(x, y_list):\n",
    "        ax.plot(xi, yi)\n",
    "    if x_label is not None and y_label is not None:\n",
    "        ax.set(xlabel=x_label, ylabel=y_label, title='{} VS {}'.format(x_label, y_label))\n",
    "    if legend is not None:\n",
    "        ax.legend(legend)\n",
    "    ax.grid()\n",
    "    plt.show()"
   ]
  },
  {
   "cell_type": "code",
   "execution_count": 10,
   "metadata": {},
   "outputs": [
    {
     "name": "stdout",
     "output_type": "stream",
     "text": [
      "[1. 0. 0.] <-> [0.8945213  0.06256043 0.0429182 ]\n",
      "[1. 0. 0.] <-> [0.9369681  0.01807661 0.04495525]\n",
      "[1. 0. 0.] <-> [0.8114955  0.1168636  0.07164091]\n",
      "[1. 0. 0.] <-> [0.9095334  0.01184962 0.07861698]\n",
      "[1. 0. 0.] <-> [0.8614416  0.0119252  0.12663318]\n",
      "[1. 0. 0.] <-> [0.87986654 0.06859528 0.05153818]\n",
      "[1. 0. 0.] <-> [0.9201948  0.03377818 0.04602707]\n",
      "[1. 0. 0.] <-> [0.8899367  0.07936095 0.03070239]\n",
      "[0. 0. 1.] <-> [0.09339572 0.00777073 0.8988336 ]\n",
      "[0. 1. 0.] <-> [0.16010751 0.8362272  0.00366524]\n",
      "[1. 0. 0.] <-> [0.80718696 0.03569083 0.15712222]\n",
      "[1. 0. 0.] <-> [0.84566164 0.1303681  0.02397028]\n",
      "[1. 0. 0.] <-> [0.90438825 0.01187036 0.08374139]\n",
      "[1. 0. 0.] <-> [0.9238173  0.01065668 0.06552608]\n",
      "[1. 0. 0.] <-> [0.89174837 0.05262375 0.05562789]\n",
      "[0. 1. 0.] <-> [0.19339196 0.80367815 0.00292988]\n",
      "[1. 0. 0.] <-> [0.9054872  0.05911039 0.03540248]\n",
      "[0. 0. 1.] <-> [0.8855102  0.01420726 0.10028261]\n",
      "[0. 0. 1.] <-> [0.26094344 0.00913983 0.7299167 ]\n",
      "[0. 0. 1.] <-> [0.08528571 0.00629103 0.9084233 ]\n",
      "[1. 0. 0.] <-> [0.9160938  0.04932231 0.03458385]\n",
      "[1. 0. 0.] <-> [0.89428437 0.04912235 0.05659331]\n",
      "[1. 0. 0.] <-> [0.90264386 0.05056389 0.04679228]\n",
      "[1. 0. 0.] <-> [0.9294509  0.0267241  0.04382497]\n",
      "[1. 0. 0.] <-> [0.8378204  0.02827893 0.13390072]\n",
      "[1. 0. 0.] <-> [0.8995798  0.0191285  0.08129164]\n",
      "[0. 0. 1.] <-> [0.08739293 0.00651155 0.90609556]\n",
      "[1. 0. 0.] <-> [0.87926394 0.01578911 0.10494697]\n",
      "[1. 0. 0.] <-> [0.84711117 0.08882403 0.06406484]\n",
      "[1. 0. 0.] <-> [0.8924016  0.06454008 0.04305835]\n",
      "[1. 0. 0.] <-> [0.885401   0.01931824 0.09528071]\n",
      "[1. 0. 0.] <-> [0.9305266  0.02280223 0.04667118]\n",
      "[1. 0. 0.] <-> [0.8702829  0.06579936 0.06391779]\n",
      "[0. 1. 0.] <-> [0.5270193  0.46624514 0.00673555]\n",
      "[1. 0. 0.] <-> [0.8099944  0.02315158 0.16685395]\n",
      "[0. 0. 1.] <-> [0.09704358 0.00720114 0.89575523]\n",
      "[0. 1. 0.] <-> [0.28808752 0.70729214 0.00462033]\n",
      "[1. 0. 0.] <-> [0.9060833  0.06443096 0.02948579]\n",
      "[1. 0. 0.] <-> [0.92850035 0.02194828 0.04955136]\n",
      "[1. 0. 0.] <-> [0.8771553  0.05434001 0.06850459]\n",
      "[1. 0. 0.] <-> [0.9153633  0.03875577 0.04588096]\n",
      "[1. 0. 0.] <-> [0.88834596 0.02466357 0.08699044]\n",
      "[0. 1. 0.] <-> [0.09052058 0.90311587 0.00636356]\n",
      "[0. 0. 1.] <-> [0.08919096 0.00746944 0.90333956]\n",
      "[1. 0. 0.] <-> [0.8847396  0.0457789  0.06948154]\n",
      "[1. 0. 0.] <-> [0.8728609  0.02657109 0.10056795]\n",
      "[1. 0. 0.] <-> [0.8801737  0.01331958 0.10650676]\n",
      "[1. 0. 0.] <-> [0.8485535  0.03461002 0.11683644]\n",
      "[1. 0. 0.] <-> [0.9008505  0.03784424 0.06130525]\n",
      "[1. 0. 0.] <-> [0.76636904 0.21689913 0.01673182]\n",
      "[1. 0. 0.] <-> [0.9008062  0.00981443 0.08937947]\n",
      "[1. 0. 0.] <-> [0.85104454 0.12337383 0.02558168]\n",
      "[1. 0. 0.] <-> [0.8404608  0.08167736 0.07786186]\n",
      "[0. 1. 0.] <-> [0.25870138 0.73882496 0.00247366]\n",
      "[1. 0. 0.] <-> [0.871755   0.04603861 0.08220641]\n",
      "[1. 0. 0.] <-> [0.9288602  0.03517614 0.03596372]\n",
      "[1. 0. 0.] <-> [0.9273633  0.01773056 0.05490617]\n",
      "[1. 0. 0.] <-> [0.8898659  0.03683036 0.07330377]\n",
      "[1. 0. 0.] <-> [0.9074688  0.00910326 0.08342797]\n",
      "[0. 1. 0.] <-> [0.16341396 0.8327186  0.00386748]\n",
      "[1. 0. 0.] <-> [0.87654066 0.08583666 0.03762272]\n",
      "[1. 0. 0.] <-> [0.88695633 0.04038028 0.07266346]\n",
      "[1. 0. 0.] <-> [0.9164435  0.05671287 0.02684357]\n",
      "[1. 0. 0.] <-> [0.8895643  0.01369676 0.09673895]\n",
      "[1. 0. 0.] <-> [0.8027495  0.17268977 0.02456073]\n",
      "[0. 0. 1.] <-> [0.18829674 0.00798198 0.8037213 ]\n",
      "[1. 0. 0.] <-> [0.89203674 0.05833336 0.04962998]\n",
      "[1. 0. 0.] <-> [0.87698096 0.07318691 0.04983207]\n",
      "[0. 1. 0.] <-> [0.1506989  0.845442   0.00385915]\n",
      "[0. 1. 0.] <-> [0.65156966 0.33755338 0.01087698]\n",
      "[1. 0. 0.] <-> [0.7256589  0.01691336 0.25742775]\n",
      "[0. 1. 0.] <-> [0.56369025 0.42699707 0.00931273]\n",
      "[1. 0. 0.] <-> [0.90408534 0.04165877 0.05425591]\n",
      "[0. 0. 1.] <-> [0.08750457 0.00722256 0.9052729 ]\n",
      "[1. 0. 0.] <-> [0.90755296 0.02838074 0.06406631]\n",
      "[1. 0. 0.] <-> [0.927459   0.01113804 0.061403  ]\n",
      "[0. 1. 0.] <-> [0.53270745 0.43362096 0.03367158]\n",
      "[1. 0. 0.] <-> [0.8622551  0.03092722 0.10681774]\n",
      "[1. 0. 0.] <-> [0.88124603 0.01509085 0.10366322]\n",
      "[0. 1. 0.] <-> [0.15536284 0.84100807 0.00362904]\n",
      "[0. 0. 1.] <-> [0.21398693 0.00843405 0.777579  ]\n",
      "[0. 0. 1.] <-> [0.8611014  0.0168646  0.12203404]\n",
      "[1. 0. 0.] <-> [0.85262305 0.09628052 0.05109644]\n",
      "[1. 0. 0.] <-> [0.8703429  0.08256014 0.04709688]\n",
      "[1. 0. 0.] <-> [0.47092512 0.03156126 0.49751356]\n",
      "[1. 0. 0.] <-> [0.9244968  0.0406794  0.03482374]\n",
      "[1. 0. 0.] <-> [0.87434477 0.09166247 0.03399279]\n",
      "[0. 1. 0.] <-> [0.30113912 0.6960032  0.00285765]\n",
      "[0. 1. 0.] <-> [0.7557222  0.23183371 0.01244408]\n",
      "[0. 0. 1.] <-> [0.10153382 0.00919819 0.889268  ]\n",
      "[1. 0. 0.] <-> [0.80357665 0.03847582 0.15794747]\n",
      "[1. 0. 0.] <-> [0.76625645 0.2089513  0.02479231]\n",
      "[1. 0. 0.] <-> [0.9076305  0.04709113 0.04527837]\n",
      "[0. 0. 1.] <-> [0.6710254  0.02206279 0.3069118 ]\n",
      "[1. 0. 0.] <-> [0.85813355 0.10263874 0.03922774]\n",
      "[1. 0. 0.] <-> [0.9263311  0.03272718 0.04094166]\n",
      "[0. 0. 1.] <-> [0.10223969 0.0072388  0.8905216 ]\n",
      "[1. 0. 0.] <-> [0.8892993  0.04662926 0.06407142]\n",
      "[0. 1. 0.] <-> [0.31539658 0.6638927  0.02071073]\n",
      "[1. 0. 0.] <-> [0.8672922  0.0904417  0.04226605]\n",
      "[0. 1. 0.] <-> [0.49447757 0.49943468 0.0060877 ]\n",
      "[1. 0. 0.] <-> [0.8926716  0.01343721 0.0938912 ]\n",
      "[1. 0. 0.] <-> [0.80641943 0.07939027 0.11419033]\n",
      "[1. 0. 0.] <-> [0.84979236 0.01925572 0.1309519 ]\n",
      "[1. 0. 0.] <-> [0.8107099  0.08078163 0.10850851]\n",
      "[0. 0. 1.] <-> [0.08924884 0.00669914 0.90405196]\n",
      "[0. 1. 0.] <-> [0.622373   0.36081317 0.0168138 ]\n",
      "[1. 0. 0.] <-> [0.87322664 0.04089025 0.08588318]\n",
      "{'accuracy': 0.9382716049382716, 'mean_square_error': 0.12287403814857639, 'categorical_crossentropy': 0.2513591095253273, 'essential_metrics': {0: {'tp_hit': 75, 'fp_hit': 9, 'tn_hit': 23, 'fn_hit': 1}, 1: {'tp_hit': 11, 'fp_hit': 0, 'tn_hit': 91, 'fn_hit': 6}, 2: {'tp_hit': 12, 'fp_hit': 1, 'tn_hit': 92, 'fn_hit': 3}}}\n"
     ]
    }
   ],
   "source": [
    "# recall phase\n",
    "score = model.evaluate(x_test, y_test, False)\n",
    "print(score)"
   ]
  },
  {
   "cell_type": "code",
   "execution_count": 11,
   "metadata": {},
   "outputs": [
    {
     "data": {
      "image/png": "[encoded data removed]",
      "text/plain": [
       "<Figure size 864x360 with 1 Axes>"
      ]
     },
     "metadata": {
      "needs_background": "light"
     },
     "output_type": "display_data"
    },
    {
     "data": {
      "image/png": "[encoded data removed]",
      "text/plain": [
       "<Figure size 864x360 with 1 Axes>"
      ]
     },
     "metadata": {
      "needs_background": "light"
     },
     "output_type": "display_data"
    }
   ],
   "source": [
    "draw_plot(x = [[i for i in range(len(history))], [(i+1)*breakpoint for i in range(len(checkpoints))]], y_list = [history, [ ckp[model.loss_fn] for ckp in checkpoints ]], x_label = 'Epochs', \\\n",
    "    y_label = model.loss_fn, legend=['train', 'test'])\n",
    "acc = [ ckp['accuracy'] for ckp in checkpoints ]\n",
    "draw_plot(x = [[(i+1)*breakpoint for i in range(len(checkpoints))]], y_list = [acc], x_label = 'Checkpoints', \\\n",
    "    y_label = 'accuracy')"
   ]
  },
  {
   "cell_type": "code",
   "execution_count": 12,
   "metadata": {},
   "outputs": [
    {
     "name": "stdout",
     "output_type": "stream",
     "text": [
      "{'accuracy': 0.9444444444444444, 'mean_square_error': 0.150044469982933, 'categorical_crossentropy': 0.3197645258020472, 'essential_metrics': {0: {'tp_hit': 76, 'fp_hit': 9, 'tn_hit': 23, 'fn_hit': 0}, 1: {'tp_hit': 14, 'fp_hit': 0, 'tn_hit': 91, 'fn_hit': 3}, 2: {'tp_hit': 9, 'fp_hit': 0, 'tn_hit': 93, 'fn_hit': 6}}, 'checkpoint': 100} \n",
      "\n",
      "\n",
      "{'accuracy': 0.9506172839506173, 'mean_square_error': 0.12417340529948004, 'categorical_crossentropy': 0.2578560334664804, 'essential_metrics': {0: {'tp_hit': 76, 'fp_hit': 8, 'tn_hit': 24, 'fn_hit': 0}, 1: {'tp_hit': 12, 'fp_hit': 0, 'tn_hit': 91, 'fn_hit': 5}, 2: {'tp_hit': 12, 'fp_hit': 0, 'tn_hit': 93, 'fn_hit': 3}}, 'checkpoint': 200} \n",
      "\n",
      "\n",
      "{'accuracy': 0.9629629629629629, 'mean_square_error': 0.11078024499445994, 'categorical_crossentropy': 0.24009987160011573, 'essential_metrics': {0: {'tp_hit': 76, 'fp_hit': 6, 'tn_hit': 26, 'fn_hit': 0}, 1: {'tp_hit': 14, 'fp_hit': 0, 'tn_hit': 91, 'fn_hit': 3}, 2: {'tp_hit': 12, 'fp_hit': 0, 'tn_hit': 93, 'fn_hit': 3}}, 'checkpoint': 300} \n",
      "\n",
      "\n",
      "{'accuracy': 0.9506172839506173, 'mean_square_error': 0.12191942733770486, 'categorical_crossentropy': 0.2589913120976201, 'essential_metrics': {0: {'tp_hit': 76, 'fp_hit': 8, 'tn_hit': 24, 'fn_hit': 0}, 1: {'tp_hit': 12, 'fp_hit': 0, 'tn_hit': 91, 'fn_hit': 5}, 2: {'tp_hit': 12, 'fp_hit': 0, 'tn_hit': 93, 'fn_hit': 3}}, 'checkpoint': 400} \n",
      "\n",
      "\n",
      "{'accuracy': 0.9382716049382716, 'mean_square_error': 0.12287403814857639, 'categorical_crossentropy': 0.2513591095253273, 'essential_metrics': {0: {'tp_hit': 75, 'fp_hit': 9, 'tn_hit': 23, 'fn_hit': 1}, 1: {'tp_hit': 11, 'fp_hit': 0, 'tn_hit': 91, 'fn_hit': 6}, 2: {'tp_hit': 12, 'fp_hit': 1, 'tn_hit': 92, 'fn_hit': 3}}, 'checkpoint': 500} \n",
      "\n",
      "\n"
     ]
    }
   ],
   "source": [
    "for checkpoint in checkpoints:\n",
    "    print(checkpoint, '\\n\\n')"
   ]
  },
  {
   "cell_type": "code",
   "execution_count": 13,
   "metadata": {},
   "outputs": [
    {
     "name": "stdout",
     "output_type": "stream",
     "text": [
      "Layer 1\n",
      "Neuron 0: weights:\n",
      "[-0.01081199 -0.17347535 -0.019113   -0.2157382  -0.06920312]\n",
      " bias: -0.021239113062620163\n",
      "\n",
      "Neuron 1: weights:\n",
      "[-0.65052617  1.1769253   0.48777783 -0.04977696 -0.21138749]\n",
      " bias: 0.002154260640963912\n",
      "\n",
      "Neuron 2: weights:\n",
      "[-0.5502      1.4192255   0.87312144  0.06678689 -0.04706121]\n",
      " bias: -0.8915610909461975\n",
      "\n",
      "Neuron 3: weights:\n",
      "[ 0.21264352 -0.00954031  0.7455275   1.9150698   1.2065885 ]\n",
      " bias: -0.7501976490020752\n",
      "\n",
      "$\n",
      "Layer 2\n",
      "Neuron 0: weights:\n",
      "[ 0.40135643 -0.10310876 -0.3167502  -3.        ]\n",
      " bias: 2.368333339691162\n",
      "\n",
      "Neuron 1: weights:\n",
      "[-0.10244541  3.          3.         -0.11653509]\n",
      " bias: -3.0\n",
      "\n",
      "Neuron 2: weights:\n",
      "[ 0.12338063 -2.3634572  -0.7254263   1.8738378 ]\n",
      " bias: -0.015256206505000591\n",
      "\n",
      "$\n",
      "\n"
     ]
    }
   ],
   "source": [
    "print(model)"
   ]
  }
 ],
 "metadata": {
  "kernelspec": {
   "display_name": "Python 3",
   "language": "python",
   "name": "python3"
  },
  "language_info": {
   "codemirror_mode": {
    "name": "ipython",
    "version": 3
   },
   "file_extension": ".py",
   "mimetype": "text/x-python",
   "name": "python",
   "nbconvert_exporter": "python",
   "pygments_lexer": "ipython3",
   "version": "3.6.10"
  }
 },
 "nbformat": 4,
 "nbformat_minor": 2
}
