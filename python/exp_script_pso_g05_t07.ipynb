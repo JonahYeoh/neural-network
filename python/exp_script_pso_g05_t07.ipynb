{
 "cells": [
  {
   "cell_type": "code",
   "execution_count": 1,
   "metadata": {},
   "outputs": [],
   "source": [
    "# dependency\n",
    "import numpy as np\n",
    "import pandas as pd\n",
    "import copy\n",
    "import math\n",
    "import sys\n",
    "import os\n",
    "from activations import relu, leaky_relu, sigmoid, tanh, softmax, d_sigmoid, d_relu\n",
    "from initializers import glorot_uniform, random_normal, random_uniform\n",
    "from regularizers import l1_regularizer, l2_regularizer\n",
    "from utility import trim_tail, multiply, subtract, get_nparams, one_hot_encoding, get_data\n",
    "from metrics import MSE, CCE, ACC, PRECISION, RECALL, essential_metrics, wondering_penalty, close_gap_penalty\n",
    "from pso import PSO\n",
    "from ga import GA\n",
    "from nn import Network\n",
    "from layer import DenseLayer\n",
    "from scalers import MinMaxScaler, StandardScaler"
   ]
  },
  {
   "cell_type": "code",
   "execution_count": 2,
   "metadata": {},
   "outputs": [],
   "source": [
    "# reference\n",
    "metrics_fn_dict = dict()\n",
    "metrics_fn_dict['accuracy'] = ACC\n",
    "metrics_fn_dict['categorical_crossentropy'] = CCE\n",
    "metrics_fn_dict['mean_square_error'] = MSE\n",
    "metrics_fn_dict['precision'] = PRECISION\n",
    "metrics_fn_dict['recall'] = RECALL\n",
    "metrics_fn_dict['essential_metrics'] = essential_metrics"
   ]
  },
  {
   "cell_type": "code",
   "execution_count": 3,
   "metadata": {},
   "outputs": [],
   "source": [
    "# model\n",
    "model = Network(5, lr = None)\n",
    "model.add_layer(DenseLayer(1, 4, True, afn=sigmoid, dafn=None, rfn=None))\n",
    "model.add_layer(DenseLayer(2, 3, True, afn=softmax, dafn=None, rfn=None))"
   ]
  },
  {
   "cell_type": "code",
   "execution_count": 4,
   "metadata": {},
   "outputs": [
    {
     "name": "stdout",
     "output_type": "stream",
     "text": [
      "see one see two 2 0.5\n"
     ]
    }
   ],
   "source": [
    "pso = PSO(dict(m = 50,\n",
    "    weight_constraint = [-3, 3], \n",
    "    velocity_constraint = [-0.1, 0.1],\n",
    "    c1 = [0.5, 2],\n",
    "    c2 = [0.5, 2],\n",
    "    w = [0.5, 1.6],\n",
    "    w_decay = 0.95,\n",
    "    scale_hyperparameter = False,\n",
    "    regularizer = l1_regularizer,\n",
    "    mask = True))"
   ]
  },
  {
   "cell_type": "code",
   "execution_count": 5,
   "metadata": {},
   "outputs": [
    {
     "name": "stdout",
     "output_type": "stream",
     "text": [
      "building layer 1 with 5\n",
      "24\n",
      "building layer 2 with 4\n",
      "15\n"
     ]
    }
   ],
   "source": [
    "model.compile(loss_fn = 'categorical_crossentropy', optimizer = pso, \\\n",
    "    metrics = ['accuracy', 'mean_square_error', 'categorical_crossentropy'])"
   ]
  },
  {
   "cell_type": "code",
   "execution_count": 6,
   "metadata": {},
   "outputs": [
    {
     "name": "stdout",
     "output_type": "stream",
     "text": [
      "<class 'pandas.core.frame.DataFrame'>\n",
      "RangeIndex: 107 entries, 0 to 106\n",
      "Data columns (total 6 columns):\n",
      " #   Column  Non-Null Count  Dtype  \n",
      "---  ------  --------------  -----  \n",
      " 0   f1      107 non-null    float32\n",
      " 1   f2      107 non-null    float32\n",
      " 2   f3      107 non-null    float32\n",
      " 3   f4      107 non-null    float32\n",
      " 4   f5      107 non-null    float32\n",
      " 5   label   107 non-null    float32\n",
      "dtypes: float32(6)\n",
      "memory usage: 2.6 KB\n",
      "None\n",
      "<class 'pandas.core.frame.DataFrame'>\n",
      "RangeIndex: 108 entries, 0 to 107\n",
      "Data columns (total 6 columns):\n",
      " #   Column  Non-Null Count  Dtype  \n",
      "---  ------  --------------  -----  \n",
      " 0   f1      108 non-null    float32\n",
      " 1   f2      108 non-null    float32\n",
      " 2   f3      108 non-null    float32\n",
      " 3   f4      108 non-null    float32\n",
      " 4   f5      108 non-null    float32\n",
      " 5   label   108 non-null    float32\n",
      "dtypes: float32(6)\n",
      "memory usage: 2.7 KB\n",
      "None\n"
     ]
    }
   ],
   "source": [
    "# data loading\n",
    "DATA = os.path.join('c:\\\\Users\\\\tcumi\\\\github_repo\\\\neural-network\\\\', 'dataset')\n",
    "GROUP = 5\n",
    "COLUMNS = ['f1', 'f2', 'f3', 'f4', 'f5', 'label']\n",
    "N_CLASS = 3\n",
    "EPOCHS = 500\n",
    "train_dir, test_dir = \"..//dataset//training_data{}.txt\".format(GROUP), \"..//dataset//testing_data{}.txt\".format(GROUP)\n",
    "train, test = get_data(DATA, train_dir, COLUMNS), get_data(DATA, test_dir, COLUMNS)\n",
    "# shuffle\n",
    "train, test = train.sample(frac=1), test.sample(frac=1)\n",
    "x_train, y_train = train.drop('label', axis=1), train['label']\n",
    "x_test, y_test = test.drop('label', axis=1), test['label']"
   ]
  },
  {
   "cell_type": "code",
   "execution_count": 7,
   "metadata": {},
   "outputs": [],
   "source": [
    "# data scaling and encoding\n",
    "scaler = StandardScaler(['f1', 'f2', 'f3', 'f4', 'f5'])\n",
    "scaler.fit(x_train)\n",
    "x_train = scaler.transform(x_train)\n",
    "x_test = scaler.transform(x_test)\n",
    "y_train = one_hot_encoding(y_train, N_CLASS)\n",
    "y_test = one_hot_encoding(y_test, N_CLASS)"
   ]
  },
  {
   "cell_type": "code",
   "execution_count": 8,
   "metadata": {
    "tags": [
     "outputPrepend"
    ]
   },
   "outputs": [
    {
     "name": "stdout",
     "output_type": "stream",
     "text": [
      "Checkpoint 100, Accuracy: 0.9567901234567902, Loss: 0.288897849895336\n",
      "Checkpoint 200, Accuracy: 0.9506172839506173, Loss: 0.20748191409640843\n",
      "Checkpoint 300, Accuracy: 0.9506172839506173, Loss: 0.19154790595725732\n",
      "Checkpoint 400, Accuracy: 0.9691358024691358, Loss: 0.1971490118238661\n",
      "Checkpoint 500, Accuracy: 0.9629629629629629, Loss: 0.19258267791182906\n"
     ]
    }
   ],
   "source": [
    "# learning phase\n",
    "breakpoint = 100\n",
    "checkpoints = list()\n",
    "history = list()\n",
    "for century in range(0, EPOCHS, breakpoint):\n",
    "    sub_history = model.fit(x_train, y_train, breakpoint, verbose = 0)\n",
    "    score = model.evaluate(x_test, y_test, False, verbose = 0)\n",
    "    print('Checkpoint {}, Accuracy: {}, Loss: {}'.format(century+breakpoint, score['accuracy'], score[model.loss_fn]))\n",
    "    score['checkpoint'] = century + breakpoint\n",
    "    checkpoints.append(score)\n",
    "    history.extend(sub_history)\n",
    "    itr = century + breakpoint\n",
    "    model.optimizer.c1 = np.max([model.optimizer.C1[1] - ((model.optimizer.C1[1] - model.optimizer.C1[0]) * itr / EPOCHS), model.optimizer.C1[0]])\n",
    "    model.optimizer.c2 = np.min([model.optimizer.C2[0] + ((model.optimizer.C2[1] - model.optimizer.C2[0]) * itr / EPOCHS), model.optimizer.C2[1]])\n",
    "    model.optimizer.w = np.max([model.optimizer.w * model.optimizer.W_Decay, model.optimizer.W[0]])"
   ]
  },
  {
   "cell_type": "code",
   "execution_count": 9,
   "metadata": {},
   "outputs": [],
   "source": [
    "import matplotlib.pyplot as plt\n",
    "\n",
    "def draw_plot(x, y_list, x_label=None, y_label=None, legend=None, title=None):\n",
    "    fig, ax = plt.subplots(figsize=(12,5))\n",
    "    for xi, yi in zip(x, y_list):\n",
    "        ax.plot(xi, yi)\n",
    "    if x_label is not None and y_label is not None:\n",
    "        ax.set(xlabel=x_label, ylabel=y_label, title='{} VS {}'.format(x_label, y_label))\n",
    "    if legend is not None:\n",
    "        ax.legend(legend)\n",
    "    ax.grid()\n",
    "    plt.show()"
   ]
  },
  {
   "cell_type": "code",
   "execution_count": 10,
   "metadata": {},
   "outputs": [
    {
     "name": "stdout",
     "output_type": "stream",
     "text": [
      "[0. 0. 1.] <-> [0.17840809 0.01657867 0.80501324]\n",
      "[1. 0. 0.] <-> [0.92907387 0.03492542 0.03600065]\n",
      "[1. 0. 0.] <-> [0.83386934 0.0342898  0.13184083]\n",
      "[1. 0. 0.] <-> [0.8825318  0.01625204 0.10121621]\n",
      "[1. 0. 0.] <-> [0.9645707  0.0133702  0.02205906]\n",
      "[1. 0. 0.] <-> [0.803989   0.16833183 0.02767915]\n",
      "[1. 0. 0.] <-> [0.90955365 0.03118683 0.05925945]\n",
      "[0. 0. 1.] <-> [0.74107856 0.0181179  0.24080354]\n",
      "[0. 1. 0.] <-> [0.17022003 0.81296724 0.01681268]\n",
      "[0. 1. 0.] <-> [0.0696892  0.92118186 0.00912904]\n",
      "[0. 0. 1.] <-> [0.20604242 0.01646279 0.7774948 ]\n",
      "[1. 0. 0.] <-> [0.9354934  0.03486352 0.02964298]\n",
      "[0. 1. 0.] <-> [0.37549043 0.599157   0.02535264]\n",
      "[1. 0. 0.] <-> [0.85941386 0.02809533 0.11249084]\n",
      "[1. 0. 0.] <-> [0.9538589  0.02004173 0.02609936]\n",
      "[1. 0. 0.] <-> [0.8806171  0.03627031 0.08311255]\n",
      "[1. 0. 0.] <-> [0.9449112  0.02268182 0.0324069 ]\n",
      "[0. 0. 1.] <-> [0.08497126 0.02212251 0.89290625]\n",
      "[1. 0. 0.] <-> [0.9183843  0.01682615 0.06478943]\n",
      "[1. 0. 0.] <-> [0.84661794 0.11635387 0.03702819]\n",
      "[1. 0. 0.] <-> [0.90885216 0.01347532 0.07767253]\n",
      "[1. 0. 0.] <-> [0.8738235  0.09599158 0.03018493]\n",
      "[0. 0. 1.] <-> [0.13950689 0.01906557 0.8414275 ]\n",
      "[1. 0. 0.] <-> [0.95846945 0.01209995 0.02943062]\n",
      "[1. 0. 0.] <-> [0.8826405  0.09937999 0.01797947]\n",
      "[1. 0. 0.] <-> [0.93573374 0.03502535 0.02924084]\n",
      "[1. 0. 0.] <-> [0.8462976  0.02558115 0.12812118]\n",
      "[1. 0. 0.] <-> [0.9512524  0.02503204 0.02371552]\n",
      "[1. 0. 0.] <-> [0.9302749  0.02830694 0.04141816]\n",
      "[1. 0. 0.] <-> [0.9503149  0.02110157 0.02858347]\n",
      "[0. 0. 1.] <-> [0.07100111 0.01785225 0.91114664]\n",
      "[1. 0. 0.] <-> [0.92427653 0.04418837 0.03153507]\n",
      "[1. 0. 0.] <-> [0.94066125 0.0184333  0.04090547]\n",
      "[0. 1. 0.] <-> [0.17627849 0.81431204 0.00940946]\n",
      "[1. 0. 0.] <-> [0.8802532  0.06281457 0.05693228]\n",
      "[1. 0. 0.] <-> [0.9487375  0.02379095 0.02747158]\n",
      "[1. 0. 0.] <-> [0.9513154  0.0172111  0.03147344]\n",
      "[1. 0. 0.] <-> [0.61201173 0.03292678 0.35506147]\n",
      "[0. 1. 0.] <-> [0.06116696 0.93021315 0.00861991]\n",
      "[1. 0. 0.] <-> [0.8745979  0.10274336 0.02265875]\n",
      "[0. 1. 0.] <-> [0.46540645 0.52117294 0.0134206 ]\n",
      "[1. 0. 0.] <-> [0.9070181 0.0621041 0.0308778]\n",
      "[0. 0. 1.] <-> [0.07835272 0.02146877 0.90017855]\n",
      "[0. 0. 1.] <-> [0.07604034 0.01773322 0.9062264 ]\n",
      "[1. 0. 0.] <-> [0.94461846 0.0172954  0.03808613]\n",
      "[1. 0. 0.] <-> [0.7468427  0.22769232 0.02546494]\n",
      "[1. 0. 0.] <-> [0.8960642  0.07163484 0.0323009 ]\n",
      "[1. 0. 0.] <-> [0.7768984  0.20815301 0.01494859]\n",
      "[0. 0. 1.] <-> [0.08157274 0.02221363 0.89621365]\n",
      "[0. 0. 1.] <-> [0.09998494 0.01851753 0.8814975 ]\n",
      "[0. 1. 0.] <-> [0.05447562 0.9371423  0.00838203]\n",
      "[0. 1. 0.] <-> [0.07441248 0.9169105  0.00867698]\n",
      "[1. 0. 0.] <-> [0.8883743  0.01876142 0.0928642 ]\n",
      "[1. 0. 0.] <-> [0.912402   0.02965234 0.05794574]\n",
      "[0. 0. 1.] <-> [0.08237782 0.01800579 0.8996164 ]\n",
      "[1. 0. 0.] <-> [0.8846693  0.07710967 0.03822099]\n",
      "[0. 0. 1.] <-> [0.1521993  0.01734381 0.8304569 ]\n",
      "[1. 0. 0.] <-> [0.9209901  0.04077354 0.03823632]\n",
      "[1. 0. 0.] <-> [0.8882307  0.03401134 0.077758  ]\n",
      "[0. 0. 1.] <-> [0.7768524  0.01665056 0.20649698]\n",
      "[1. 0. 0.] <-> [0.88129914 0.03048836 0.0882125 ]\n",
      "[1. 0. 0.] <-> [0.7955535  0.01342745 0.19101903]\n",
      "[1. 0. 0.] <-> [0.93779373 0.03145692 0.03074926]\n",
      "[1. 0. 0.] <-> [0.958      0.02290087 0.01909906]\n",
      "[1. 0. 0.] <-> [0.9219357  0.05244688 0.02561744]\n",
      "[0. 1. 0.] <-> [0.4073508  0.5786432  0.01400596]\n",
      "[1. 0. 0.] <-> [0.9314679  0.03151514 0.03701692]\n",
      "[1. 0. 0.] <-> [0.93235195 0.03990059 0.02774746]\n",
      "[1. 0. 0.] <-> [0.7873083  0.02338731 0.18930443]\n",
      "[0. 0. 1.] <-> [0.53314847 0.01722351 0.44962803]\n",
      "[1. 0. 0.] <-> [0.9010338  0.01294803 0.08601813]\n",
      "[1. 0. 0.] <-> [0.95183223 0.03147776 0.01668997]\n",
      "[0. 1. 0.] <-> [0.06454754 0.92678297 0.00866954]\n",
      "[1. 0. 0.] <-> [0.922869   0.05305646 0.02407446]\n",
      "[0. 1. 0.] <-> [0.7570279  0.224241   0.01873116]\n",
      "[1. 0. 0.] <-> [0.8457425  0.01619918 0.13805829]\n",
      "[1. 0. 0.] <-> [0.8787932  0.0187733  0.10243353]\n",
      "[1. 0. 0.] <-> [0.897133   0.04777848 0.05508847]\n",
      "[1. 0. 0.] <-> [0.9171828  0.01151809 0.07129912]\n",
      "[1. 0. 0.] <-> [0.94638497 0.01610171 0.03751325]\n",
      "[1. 0. 0.] <-> [0.93746567 0.04292252 0.01961185]\n",
      "[1. 0. 0.] <-> [0.93232614 0.04118226 0.02649151]\n",
      "[1. 0. 0.] <-> [0.8852177  0.08104276 0.03373952]\n",
      "[1. 0. 0.] <-> [0.9303858  0.04466876 0.02494533]\n",
      "[1. 0. 0.] <-> [0.85498303 0.01859008 0.12642692]\n",
      "[0. 1. 0.] <-> [0.2644766  0.72578424 0.00973916]\n",
      "[1. 0. 0.] <-> [0.94246185 0.02090353 0.0366346 ]\n",
      "[1. 0. 0.] <-> [0.911196   0.03431522 0.05448883]\n",
      "[1. 0. 0.] <-> [0.89693254 0.0733377  0.02972974]\n",
      "[1. 0. 0.] <-> [0.94978637 0.0315534  0.01866019]\n",
      "[1. 0. 0.] <-> [0.8716107  0.01519761 0.11319163]\n",
      "[1. 0. 0.] <-> [0.92896664 0.01116051 0.05987278]\n",
      "[1. 0. 0.] <-> [0.9011821  0.05126495 0.04755293]\n",
      "[1. 0. 0.] <-> [0.9084552  0.07258567 0.01895913]\n",
      "[1. 0. 0.] <-> [0.9497833  0.02845043 0.02176621]\n",
      "[1. 0. 0.] <-> [0.91966134 0.05378389 0.02655474]\n",
      "[1. 0. 0.] <-> [0.9432635  0.03731082 0.01942566]\n",
      "[0. 1. 0.] <-> [0.49857605 0.47605428 0.02536966]\n",
      "[1. 0. 0.] <-> [0.93584    0.04499893 0.01916101]\n",
      "[0. 1. 0.] <-> [0.04843834 0.94301885 0.00854293]\n",
      "[1. 0. 0.] <-> [0.9157998  0.0206573  0.06354289]\n",
      "[1. 0. 0.] <-> [0.88064724 0.09229381 0.02705896]\n",
      "[0. 1. 0.] <-> [0.59931684 0.38482687 0.01585632]\n",
      "[0. 1. 0.] <-> [0.16019242 0.8281153  0.01169234]\n",
      "[1. 0. 0.] <-> [0.90382797 0.01554712 0.08062492]\n",
      "[0. 0. 1.] <-> [0.22948712 0.01677787 0.753735  ]\n",
      "[0. 1. 0.] <-> [0.47474226 0.5101533  0.01510441]\n",
      "[1. 0. 0.] <-> [0.87150943 0.06943947 0.05905106]\n",
      "{'accuracy': 0.9629629629629629, 'mean_square_error': 0.08831839647321915, 'categorical_crossentropy': 0.19258267791182906, 'essential_metrics': {0: {'tp_hit': 76, 'fp_hit': 6, 'tn_hit': 26, 'fn_hit': 0}, 1: {'tp_hit': 14, 'fp_hit': 0, 'tn_hit': 91, 'fn_hit': 3}, 2: {'tp_hit': 12, 'fp_hit': 0, 'tn_hit': 93, 'fn_hit': 3}}}\n"
     ]
    }
   ],
   "source": [
    "# recall phase\n",
    "score = model.evaluate(x_test, y_test, False)\n",
    "print(score)"
   ]
  },
  {
   "cell_type": "code",
   "execution_count": 11,
   "metadata": {},
   "outputs": [
    {
     "data": {
      "image/png": "[encoded data removed]",
      "text/plain": [
       "<Figure size 864x360 with 1 Axes>"
      ]
     },
     "metadata": {
      "needs_background": "light"
     },
     "output_type": "display_data"
    },
    {
     "data": {
      "image/png": "[encoded data removed]",
      "text/plain": [
       "<Figure size 864x360 with 1 Axes>"
      ]
     },
     "metadata": {
      "needs_background": "light"
     },
     "output_type": "display_data"
    }
   ],
   "source": [
    "draw_plot(x = [[i for i in range(len(history))], [(i+1)*breakpoint for i in range(len(checkpoints))]], y_list = [history, [ ckp[model.loss_fn] for ckp in checkpoints ]], x_label = 'Epochs', \\\n",
    "    y_label = model.loss_fn, legend=['train', 'test'])\n",
    "acc = [ ckp['accuracy'] for ckp in checkpoints ]\n",
    "draw_plot(x = [[(i+1)*breakpoint for i in range(len(checkpoints))]], y_list = [acc], x_label = 'Checkpoints', \\\n",
    "    y_label = 'accuracy')"
   ]
  },
  {
   "cell_type": "code",
   "execution_count": 12,
   "metadata": {},
   "outputs": [
    {
     "name": "stdout",
     "output_type": "stream",
     "text": [
      "{'accuracy': 0.9567901234567902, 'mean_square_error': 0.13886100767541343, 'categorical_crossentropy': 0.288897849895336, 'essential_metrics': {0: {'tp_hit': 74, 'fp_hit': 5, 'tn_hit': 27, 'fn_hit': 2}, 1: {'tp_hit': 15, 'fp_hit': 2, 'tn_hit': 89, 'fn_hit': 2}, 2: {'tp_hit': 12, 'fp_hit': 0, 'tn_hit': 93, 'fn_hit': 3}}, 'checkpoint': 100} \n",
      "\n",
      "\n",
      "{'accuracy': 0.9506172839506173, 'mean_square_error': 0.09838798173507629, 'categorical_crossentropy': 0.20748191409640843, 'essential_metrics': {0: {'tp_hit': 75, 'fp_hit': 7, 'tn_hit': 25, 'fn_hit': 1}, 1: {'tp_hit': 13, 'fp_hit': 0, 'tn_hit': 91, 'fn_hit': 4}, 2: {'tp_hit': 12, 'fp_hit': 1, 'tn_hit': 92, 'fn_hit': 3}}, 'checkpoint': 200} \n",
      "\n",
      "\n",
      "{'accuracy': 0.9506172839506173, 'mean_square_error': 0.09224990141915512, 'categorical_crossentropy': 0.19154790595725732, 'essential_metrics': {0: {'tp_hit': 76, 'fp_hit': 8, 'tn_hit': 24, 'fn_hit': 0}, 1: {'tp_hit': 12, 'fp_hit': 0, 'tn_hit': 91, 'fn_hit': 5}, 2: {'tp_hit': 12, 'fp_hit': 0, 'tn_hit': 93, 'fn_hit': 3}}, 'checkpoint': 300} \n",
      "\n",
      "\n",
      "{'accuracy': 0.9691358024691358, 'mean_square_error': 0.09289147771981773, 'categorical_crossentropy': 0.1971490118238661, 'essential_metrics': {0: {'tp_hit': 76, 'fp_hit': 5, 'tn_hit': 27, 'fn_hit': 0}, 1: {'tp_hit': 15, 'fp_hit': 0, 'tn_hit': 91, 'fn_hit': 2}, 2: {'tp_hit': 12, 'fp_hit': 0, 'tn_hit': 93, 'fn_hit': 3}}, 'checkpoint': 400} \n",
      "\n",
      "\n",
      "{'accuracy': 0.9629629629629629, 'mean_square_error': 0.08831839647321915, 'categorical_crossentropy': 0.19258267791182906, 'essential_metrics': {0: {'tp_hit': 76, 'fp_hit': 6, 'tn_hit': 26, 'fn_hit': 0}, 1: {'tp_hit': 14, 'fp_hit': 0, 'tn_hit': 91, 'fn_hit': 3}, 2: {'tp_hit': 12, 'fp_hit': 0, 'tn_hit': 93, 'fn_hit': 3}}, 'checkpoint': 500} \n",
      "\n",
      "\n"
     ]
    }
   ],
   "source": [
    "for checkpoint in checkpoints:\n",
    "    print(checkpoint, '\\n\\n')"
   ]
  },
  {
   "cell_type": "code",
   "execution_count": 13,
   "metadata": {},
   "outputs": [
    {
     "name": "stdout",
     "output_type": "stream",
     "text": [
      "Layer 1\n",
      "Neuron 0: weights:\n",
      "[-0.05770899  0.41540435  0.48247498  0.06052932 -0.01282713]\n",
      " bias: -0.17438668012619019\n",
      "\n",
      "Neuron 1: weights:\n",
      "[ 0.87549627 -2.0737305  -0.96644086 -0.05995274 -0.09545068]\n",
      " bias: 0.9587051868438721\n",
      "\n",
      "Neuron 2: weights:\n",
      "[0.02511019 0.19767128 0.9460843  1.5240915  0.19368927]\n",
      " bias: -0.0006552888080477715\n",
      "\n",
      "Neuron 3: weights:\n",
      "[-0.31015277  2.199893    0.04955669 -0.54907066 -1.0603032 ]\n",
      " bias: 1.5171713829040527\n",
      "\n",
      "$\n",
      "Layer 2\n",
      "Neuron 0: weights:\n",
      "[-0.04778424  1.898379   -2.7320592   1.7862158 ]\n",
      " bias: 0.029107630252838135\n",
      "\n",
      "Neuron 1: weights:\n",
      "[ 1.192362  -3.         0.5203783  0.5134561]\n",
      " bias: 0.05859311670064926\n",
      "\n",
      "Neuron 2: weights:\n",
      "[-0.14376837  1.1897454   0.43000522 -3.        ]\n",
      " bias: 0.1728222668170929\n",
      "\n",
      "$\n",
      "\n"
     ]
    }
   ],
   "source": [
    "print(model)"
   ]
  }
 ],
 "metadata": {
  "kernelspec": {
   "display_name": "Python 3",
   "language": "python",
   "name": "python3"
  },
  "language_info": {
   "codemirror_mode": {
    "name": "ipython",
    "version": 3
   },
   "file_extension": ".py",
   "mimetype": "text/x-python",
   "name": "python",
   "nbconvert_exporter": "python",
   "pygments_lexer": "ipython3",
   "version": "3.6.10"
  }
 },
 "nbformat": 4,
 "nbformat_minor": 2
}
