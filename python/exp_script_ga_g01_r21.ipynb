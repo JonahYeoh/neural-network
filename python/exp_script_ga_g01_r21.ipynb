{
 "cells": [
  {
   "cell_type": "code",
   "execution_count": 1,
   "metadata": {},
   "outputs": [],
   "source": [
    "# single"
   ]
  },
  {
   "cell_type": "code",
   "execution_count": 2,
   "metadata": {},
   "outputs": [],
   "source": [
    "# dependency\n",
    "import numpy as np\n",
    "import pandas as pd\n",
    "import copy\n",
    "import math\n",
    "import sys\n",
    "import os\n",
    "from activations import relu, leaky_relu, sigmoid, tanh, softmax, d_sigmoid, d_relu\n",
    "from initializers import glorot_uniform, random_normal, random_uniform\n",
    "from regularizers import l1_regularizer, l2_regularizer\n",
    "from utility import trim_tail, multiply, subtract, get_nparams, one_hot_encoding, get_data\n",
    "from metrics import MSE, CCE, ACC, PRECISION, RECALL, essential_metrics, wondering_penalty, close_gap_penalty\n",
    "from pso import PSO\n",
    "from ga import GA\n",
    "from nn import Network\n",
    "from layer import DenseLayer\n",
    "from scalers import MinMaxScaler, StandardScaler"
   ]
  },
  {
   "cell_type": "code",
   "execution_count": 3,
   "metadata": {},
   "outputs": [],
   "source": [
    "# reference\n",
    "metrics_fn_dict = dict()\n",
    "metrics_fn_dict['accuracy'] = ACC\n",
    "metrics_fn_dict['categorical_crossentropy'] = CCE\n",
    "metrics_fn_dict['mean_square_error'] = MSE\n",
    "metrics_fn_dict['precision'] = PRECISION\n",
    "metrics_fn_dict['recall'] = RECALL\n",
    "metrics_fn_dict['essential_metrics'] = essential_metrics"
   ]
  },
  {
   "cell_type": "code",
   "execution_count": 4,
   "metadata": {},
   "outputs": [],
   "source": [
    "# model\n",
    "model = Network(5, lr = None)\n",
    "model.add_layer(DenseLayer(1, 4, True, afn=sigmoid, dafn=None, rfn=None))\n",
    "model.add_layer(DenseLayer(2, 3, True, afn=softmax, dafn=None, rfn=None))"
   ]
  },
  {
   "cell_type": "code",
   "execution_count": 5,
   "metadata": {},
   "outputs": [],
   "source": [
    "# optimizer\n",
    "ga = GA(\n",
    "    dict(\n",
    "        m = 200,\n",
    "        x_rate = 0.5,\n",
    "        m_rate = 0.5,\n",
    "        weight_constraint = [-3.,3.],\n",
    "        radioactive_rating = 0.1,\n",
    "        grow_factor = 0.1,\n",
    "        scale_hyperparameter = False,\n",
    "        regularizer = None))"
   ]
  },
  {
   "cell_type": "code",
   "execution_count": 6,
   "metadata": {},
   "outputs": [
    {
     "name": "stdout",
     "output_type": "stream",
     "text": [
      "building layer 1 with 5\n",
      "24\n",
      "building layer 2 with 4\n",
      "15\n"
     ]
    }
   ],
   "source": [
    "model.compile(loss_fn = 'categorical_crossentropy', optimizer = ga, \\\n",
    "    metrics = ['accuracy', 'mean_square_error', 'categorical_crossentropy', 'precision', 'recall', 'f1'])"
   ]
  },
  {
   "cell_type": "code",
   "execution_count": 7,
   "metadata": {},
   "outputs": [
    {
     "name": "stdout",
     "output_type": "stream",
     "text": [
      "<class 'pandas.core.frame.DataFrame'>\n",
      "RangeIndex: 107 entries, 0 to 106\n",
      "Data columns (total 6 columns):\n",
      " #   Column  Non-Null Count  Dtype  \n",
      "---  ------  --------------  -----  \n",
      " 0   f1      107 non-null    float32\n",
      " 1   f2      107 non-null    float32\n",
      " 2   f3      107 non-null    float32\n",
      " 3   f4      107 non-null    float32\n",
      " 4   f5      107 non-null    float32\n",
      " 5   label   107 non-null    float32\n",
      "dtypes: float32(6)\n",
      "memory usage: 2.6 KB\n",
      "None\n",
      "<class 'pandas.core.frame.DataFrame'>\n",
      "RangeIndex: 108 entries, 0 to 107\n",
      "Data columns (total 6 columns):\n",
      " #   Column  Non-Null Count  Dtype  \n",
      "---  ------  --------------  -----  \n",
      " 0   f1      108 non-null    float32\n",
      " 1   f2      108 non-null    float32\n",
      " 2   f3      108 non-null    float32\n",
      " 3   f4      108 non-null    float32\n",
      " 4   f5      108 non-null    float32\n",
      " 5   label   108 non-null    float32\n",
      "dtypes: float32(6)\n",
      "memory usage: 2.7 KB\n",
      "None\n"
     ]
    }
   ],
   "source": [
    "# data loading\n",
    "DATA = os.path.join('c:\\\\Users\\\\tcumi\\\\github_repo\\\\neural-network\\\\', 'dataset')\n",
    "GROUP = 1\n",
    "COLUMNS = ['f1', 'f2', 'f3', 'f4', 'f5', 'label']\n",
    "N_CLASS = 3\n",
    "EPOCHS = 500\n",
    "train_dir, test_dir = \"..//dataset//training_data{}.txt\".format(GROUP), \"..//dataset//testing_data{}.txt\".format(GROUP)\n",
    "train, test = get_data(DATA, train_dir, COLUMNS), get_data(DATA, test_dir, COLUMNS)\n",
    "# shuffle\n",
    "train, test = train.sample(frac=1), test.sample(frac=1)\n",
    "x_train, y_train = train.drop('label', axis=1), train['label']\n",
    "x_test, y_test = test.drop('label', axis=1), test['label']"
   ]
  },
  {
   "cell_type": "code",
   "execution_count": 8,
   "metadata": {},
   "outputs": [],
   "source": [
    "# data scaling and encoding\n",
    "scaler = StandardScaler(['f1', 'f2', 'f3', 'f4', 'f5'])\n",
    "scaler.fit(x_train)\n",
    "x_train = scaler.transform(x_train)\n",
    "x_test = scaler.transform(x_test)\n",
    "y_train = one_hot_encoding(y_train, N_CLASS)\n",
    "y_test = one_hot_encoding(y_test, N_CLASS)"
   ]
  },
  {
   "cell_type": "code",
   "execution_count": 9,
   "metadata": {
    "scrolled": true,
    "tags": [
     "outputPrepend"
    ]
   },
   "outputs": [
    {
     "name": "stderr",
     "output_type": "stream",
     "text": [
      "C:\\Users\\tcumi\\github_repo\\neural-network\\python\\activations.py:14: RuntimeWarning: overflow encountered in exp\n",
      "  y = 1 / (1 + np.exp(-Xi))\n",
      "C:\\Users\\tcumi\\github_repo\\neural-network\\python\\ga.py:201: RuntimeWarning: overflow encountered in add\n",
      "  self.population.sort(key=lambda p: p.fitness + np.random.uniform(-shift, shift, 1), reverse = self.aim)\n"
     ]
    },
    {
     "name": "stdout",
     "output_type": "stream",
     "text": [
      "Checkpoint 100, Accuracy: 0.9567901234567902, Loss: 0.24627070956759983\n",
      "Checkpoint 200, Accuracy: 0.9567901234567902, Loss: 0.22735570978235314\n",
      "Checkpoint 300, Accuracy: 0.9629629629629629, Loss: 0.2185212947704174\n",
      "Checkpoint 400, Accuracy: 0.9567901234567902, Loss: 0.20508914523654515\n",
      "Checkpoint 500, Accuracy: 0.9629629629629629, Loss: 0.19217858491120515\n"
     ]
    }
   ],
   "source": [
    "# learning phase\n",
    "breakpoint = 100\n",
    "checkpoints = list()\n",
    "history = list()\n",
    "for century in range(0, EPOCHS, breakpoint):\n",
    "    sub_history = model.fit(x_train, y_train, breakpoint, verbose = 0)\n",
    "    score = model.evaluate(x_test, y_test, False, verbose = 0)\n",
    "    print('Checkpoint {}, Accuracy: {}, Loss: {}'.format(century+breakpoint, score['accuracy'], score[model.loss_fn]))\n",
    "    score['checkpoint'] = century + breakpoint\n",
    "    checkpoints.append(score)\n",
    "    history.extend(sub_history)\n",
    "    "
   ]
  },
  {
   "cell_type": "code",
   "execution_count": 10,
   "metadata": {},
   "outputs": [],
   "source": [
    "import matplotlib.pyplot as plt\n",
    "\n",
    "def draw_plot(x, y_list, x_label=None, y_label=None, legend=None, title=None):\n",
    "    fig, ax = plt.subplots(figsize=(12,5))\n",
    "    for xi, yi in zip(x, y_list):\n",
    "        ax.plot(xi, yi)\n",
    "    if x_label is not None and y_label is not None:\n",
    "        ax.set(xlabel=x_label, ylabel=y_label, title='{} VS {}'.format(x_label, y_label))\n",
    "    if legend is not None:\n",
    "        ax.legend(legend)\n",
    "    ax.grid()\n",
    "    plt.show()"
   ]
  },
  {
   "cell_type": "code",
   "execution_count": 11,
   "metadata": {},
   "outputs": [
    {
     "name": "stdout",
     "output_type": "stream",
     "text": [
      "[1. 0. 0.] <-> [0.9771573  0.01563481 0.0072079 ]\n",
      "[1. 0. 0.] <-> [0.9666755  0.02143395 0.01189062]\n",
      "[0. 1. 0.] <-> [0.23482592 0.76372063 0.00145343]\n",
      "[1. 0. 0.] <-> [0.95392525 0.02256601 0.02350878]\n",
      "[0. 1. 0.] <-> [0.0954683  0.89842176 0.00610998]\n",
      "[1. 0. 0.] <-> [0.9720833  0.01992031 0.00799636]\n",
      "[1. 0. 0.] <-> [0.97567797 0.01639923 0.00792279]\n",
      "[1. 0. 0.] <-> [0.9601169  0.01866572 0.02121725]\n",
      "[1. 0. 0.] <-> [0.97369426 0.0160474  0.01025831]\n",
      "[1. 0. 0.] <-> [0.86899006 0.12566815 0.00534182]\n",
      "[1. 0. 0.] <-> [0.8528598  0.03949006 0.10765008]\n",
      "[0. 0. 1.] <-> [0.08179925 0.01419235 0.90400845]\n",
      "[0. 0. 1.] <-> [0.00735417 0.00639407 0.9862518 ]\n",
      "[1. 0. 0.] <-> [0.96958995 0.01608305 0.01432705]\n",
      "[0. 1. 0.] <-> [0.5600352  0.43667832 0.00328644]\n",
      "[0. 0. 1.] <-> [0.05565614 0.01046335 0.9338805 ]\n",
      "[1. 0. 0.] <-> [0.9607653  0.01924946 0.01998529]\n",
      "[0. 1. 0.] <-> [0.0937891  0.90451163 0.00169927]\n",
      "[1. 0. 0.] <-> [0.8871183  0.03597824 0.07690344]\n",
      "[1. 0. 0.] <-> [0.9634427  0.01995969 0.01659768]\n",
      "[0. 1. 0.] <-> [0.2640637  0.73389316 0.00204318]\n",
      "[1. 0. 0.] <-> [0.9670565  0.02763205 0.00531141]\n",
      "[1. 0. 0.] <-> [0.92854005 0.06661906 0.00484095]\n",
      "[1. 0. 0.] <-> [0.72171557 0.03526212 0.24302235]\n",
      "[0. 0. 1.] <-> [0.00320006 0.00565212 0.99114776]\n",
      "[0. 1. 0.] <-> [0.06223973 0.9358774  0.00188287]\n",
      "[0. 1. 0.] <-> [0.02801438 0.9698064  0.00217929]\n",
      "[1. 0. 0.] <-> [0.9594868  0.01764222 0.02287087]\n",
      "[1. 0. 0.] <-> [0.96680605 0.02753479 0.00565906]\n",
      "[0. 0. 1.] <-> [0.00435261 0.00591822 0.98972917]\n",
      "[0. 1. 0.] <-> [0.04963199 0.9484317  0.00193631]\n",
      "[1. 0. 0.] <-> [0.8979471  0.09538915 0.00666374]\n",
      "[0. 1. 0.] <-> [0.4308284  0.56650037 0.00267122]\n",
      "[1. 0. 0.] <-> [0.9223289  0.0231693  0.05450188]\n",
      "[1. 0. 0.] <-> [0.90382737 0.03483388 0.06133881]\n",
      "[1. 0. 0.] <-> [0.9762922  0.01655964 0.00714813]\n",
      "[0. 0. 1.] <-> [0.00312972 0.00578747 0.9910828 ]\n",
      "[1. 0. 0.] <-> [0.967949   0.02682832 0.00522268]\n",
      "[1. 0. 0.] <-> [0.94052064 0.03095089 0.02852847]\n",
      "[1. 0. 0.] <-> [0.9726255  0.0217129  0.00566164]\n",
      "[1. 0. 0.] <-> [0.9016116  0.02677848 0.07160991]\n",
      "[1. 0. 0.] <-> [0.9605464  0.03138494 0.00806863]\n",
      "[0. 1. 0.] <-> [0.02714946 0.9704962  0.00235436]\n",
      "[1. 0. 0.] <-> [0.74846166 0.03677814 0.21476018]\n",
      "[1. 0. 0.] <-> [0.97012424 0.01527489 0.01460085]\n",
      "[1. 0. 0.] <-> [0.8229392  0.03038637 0.14667436]\n",
      "[0. 0. 1.] <-> [0.00301848 0.0056047  0.99137676]\n",
      "[1. 0. 0.] <-> [0.9480545  0.02163578 0.03030973]\n",
      "[1. 0. 0.] <-> [0.9594089  0.03300289 0.00758826]\n",
      "[1. 0. 0.] <-> [0.9134632  0.02419043 0.06234645]\n",
      "[1. 0. 0.] <-> [0.960795   0.03056489 0.00864017]\n",
      "[1. 0. 0.] <-> [0.9445251  0.04071039 0.01476455]\n",
      "[1. 0. 0.] <-> [0.97351676 0.01439154 0.01209169]\n",
      "[0. 1. 0.] <-> [0.137429   0.860823   0.00174802]\n",
      "[0. 0. 1.] <-> [0.00410903 0.00797613 0.9879148 ]\n",
      "[0. 0. 1.] <-> [0.8973857  0.02498766 0.07762666]\n",
      "[0. 0. 1.] <-> [0.0038511 0.0058036 0.9903453]\n",
      "[1. 0. 0.] <-> [0.37152696 0.03227931 0.59619373]\n",
      "[1. 0. 0.] <-> [0.9791616  0.01422185 0.0066164 ]\n",
      "[1. 0. 0.] <-> [0.9739603  0.01887647 0.00716321]\n",
      "[1. 0. 0.] <-> [0.02685668 0.00924481 0.9638985 ]\n",
      "[1. 0. 0.] <-> [0.93531895 0.05919357 0.00548748]\n",
      "[1. 0. 0.] <-> [0.9691255  0.0201458  0.01072874]\n",
      "[1. 0. 0.] <-> [0.5650817  0.43129548 0.00362286]\n",
      "[1. 0. 0.] <-> [0.7674299  0.22711986 0.00545022]\n",
      "[1. 0. 0.] <-> [0.19587378 0.02490636 0.77921987]\n",
      "[1. 0. 0.] <-> [0.964039   0.03056095 0.00539992]\n",
      "[1. 0. 0.] <-> [0.8938416  0.02854184 0.07761658]\n",
      "[1. 0. 0.] <-> [0.9370064  0.0218056  0.04118804]\n",
      "[1. 0. 0.] <-> [0.9683069  0.0185646  0.01312859]\n",
      "[0. 1. 0.] <-> [0.48142558 0.5041062  0.01446818]\n",
      "[1. 0. 0.] <-> [0.24971423 0.02712517 0.7231606 ]\n",
      "[1. 0. 0.] <-> [0.9699459  0.02354584 0.00650828]\n",
      "[1. 0. 0.] <-> [0.9731002  0.01458434 0.01231556]\n",
      "[1. 0. 0.] <-> [0.970447   0.02141094 0.00814206]\n",
      "[1. 0. 0.] <-> [0.95642126 0.03807747 0.00550128]\n",
      "[0. 1. 0.] <-> [0.49783456 0.49921617 0.00294924]\n",
      "[1. 0. 0.] <-> [0.96044993 0.01754789 0.02200224]\n",
      "[1. 0. 0.] <-> [0.96179116 0.01853833 0.01967043]\n",
      "[1. 0. 0.] <-> [0.65075755 0.03793172 0.3113107 ]\n",
      "[1. 0. 0.] <-> [0.97618014 0.0163443  0.00747561]\n",
      "[1. 0. 0.] <-> [0.9537641  0.0408454  0.00539056]\n",
      "[1. 0. 0.] <-> [0.9553065  0.03473468 0.00995896]\n",
      "[1. 0. 0.] <-> [0.7391463  0.25648466 0.00436913]\n",
      "[0. 0. 1.] <-> [0.0030235  0.00560604 0.99137044]\n",
      "[1. 0. 0.] <-> [0.9618259  0.0197514  0.01842261]\n",
      "[1. 0. 0.] <-> [0.9708882  0.02098709 0.00812474]\n",
      "[1. 0. 0.] <-> [0.97358274 0.01431044 0.01210685]\n",
      "[1. 0. 0.] <-> [0.9649727  0.02652408 0.00850318]\n",
      "[1. 0. 0.] <-> [0.9524251  0.0318985  0.01567639]\n",
      "[1. 0. 0.] <-> [0.9659435  0.01717239 0.01688415]\n",
      "[1. 0. 0.] <-> [0.92339474 0.02391829 0.052687  ]\n",
      "[1. 0. 0.] <-> [0.9501191  0.01909289 0.03078811]\n",
      "[1. 0. 0.] <-> [0.9153554  0.07866409 0.0059805 ]\n",
      "[1. 0. 0.] <-> [0.93884706 0.02203178 0.03912112]\n",
      "[0. 1. 0.] <-> [0.02822288 0.9696186  0.0021585 ]\n",
      "[1. 0. 0.] <-> [0.9720925  0.01690546 0.01100205]\n",
      "[1. 0. 0.] <-> [0.94198287 0.02391009 0.03410695]\n",
      "[1. 0. 0.] <-> [0.9748618  0.01844685 0.00669123]\n",
      "[0. 0. 1.] <-> [0.01755722 0.00718215 0.9752607 ]\n",
      "[1. 0. 0.] <-> [0.65637803 0.03870033 0.3049216 ]\n",
      "[1. 0. 0.] <-> [0.9315557  0.03069378 0.03775046]\n",
      "[1. 0. 0.] <-> [0.9714562  0.01747108 0.01107271]\n",
      "[1. 0. 0.] <-> [0.97559595 0.01664099 0.00776307]\n",
      "[1. 0. 0.] <-> [0.9694697  0.02412298 0.00640728]\n",
      "[1. 0. 0.] <-> [0.9740553  0.01792444 0.00802027]\n",
      "[0. 1. 0.] <-> [0.18049748 0.8175425  0.00196004]\n",
      "[0. 0. 1.] <-> [0.00301837 0.00560467 0.991377  ]\n",
      "{'accuracy': 0.9629629629629629, 'mean_square_error': 0.09940436835310955, 'categorical_crossentropy': 0.19217858491120515, 'precision': 0.9444444444444444, 'recall': 0.9444444444444444, 'f1': 0.9444444444444444, 'essential_metrics': {0: {'tp_hit': 76, 'fp_hit': 2, 'tn_hit': 26, 'fn_hit': 4}, 1: {'tp_hit': 14, 'fp_hit': 0, 'tn_hit': 93, 'fn_hit': 1}, 2: {'tp_hit': 12, 'fp_hit': 4, 'tn_hit': 91, 'fn_hit': 1}}}\n"
     ]
    }
   ],
   "source": [
    "# recall phase\n",
    "score = model.evaluate(x_test, y_test, False)\n",
    "print(score)"
   ]
  },
  {
   "cell_type": "code",
   "execution_count": 12,
   "metadata": {},
   "outputs": [],
   "source": [
    "# Testing Performance"
   ]
  },
  {
   "cell_type": "code",
   "execution_count": 13,
   "metadata": {},
   "outputs": [
    {
     "data": {
      "image/png": "[encoded data removed]",
      "text/plain": [
       "<Figure size 864x360 with 1 Axes>"
      ]
     },
     "metadata": {
      "needs_background": "light"
     },
     "output_type": "display_data"
    },
    {
     "data": {
      "image/png": "[encoded data removed]",
      "text/plain": [
       "<Figure size 864x360 with 1 Axes>"
      ]
     },
     "metadata": {
      "needs_background": "light"
     },
     "output_type": "display_data"
    }
   ],
   "source": [
    "draw_plot(x = [[i for i in range(len(history))], [(i+1)*breakpoint for i in range(len(checkpoints))]], y_list = [history, [ ckp[model.loss_fn] for ckp in checkpoints ]], x_label = 'Epochs', \\\n",
    "    y_label = model.loss_fn, legend=['train', 'test'])\n",
    "acc = [ ckp['accuracy'] for ckp in checkpoints ]\n",
    "draw_plot(x = [[(i+1)*breakpoint for i in range(len(checkpoints))]], y_list = [acc], x_label = 'Checkpoints', \\\n",
    "    y_label = 'accuracy')"
   ]
  },
  {
   "cell_type": "code",
   "execution_count": 14,
   "metadata": {
    "scrolled": false
   },
   "outputs": [
    {
     "name": "stdout",
     "output_type": "stream",
     "text": [
      "{'accuracy': 0.9567901234567902, 'mean_square_error': 0.12038374760953004, 'categorical_crossentropy': 0.24627070956759983, 'precision': 0.9351851851851852, 'recall': 0.9351851851851852, 'f1': 0.9351851851851852, 'essential_metrics': {0: {'tp_hit': 77, 'fp_hit': 4, 'tn_hit': 24, 'fn_hit': 3}, 1: {'tp_hit': 12, 'fp_hit': 0, 'tn_hit': 93, 'fn_hit': 3}, 2: {'tp_hit': 12, 'fp_hit': 3, 'tn_hit': 92, 'fn_hit': 1}}, 'checkpoint': 100} \n",
      "\n",
      "\n",
      "{'accuracy': 0.9567901234567902, 'mean_square_error': 0.11325920338150981, 'categorical_crossentropy': 0.22735570978235314, 'precision': 0.9351851851851852, 'recall': 0.9351851851851852, 'f1': 0.9351851851851852, 'essential_metrics': {0: {'tp_hit': 77, 'fp_hit': 4, 'tn_hit': 24, 'fn_hit': 3}, 1: {'tp_hit': 12, 'fp_hit': 0, 'tn_hit': 93, 'fn_hit': 3}, 2: {'tp_hit': 12, 'fp_hit': 3, 'tn_hit': 92, 'fn_hit': 1}}, 'checkpoint': 200} \n",
      "\n",
      "\n",
      "{'accuracy': 0.9629629629629629, 'mean_square_error': 0.11074798261004487, 'categorical_crossentropy': 0.2185212947704174, 'precision': 0.9444444444444444, 'recall': 0.9444444444444444, 'f1': 0.9444444444444444, 'essential_metrics': {0: {'tp_hit': 77, 'fp_hit': 3, 'tn_hit': 25, 'fn_hit': 3}, 1: {'tp_hit': 13, 'fp_hit': 0, 'tn_hit': 93, 'fn_hit': 2}, 2: {'tp_hit': 12, 'fp_hit': 3, 'tn_hit': 92, 'fn_hit': 1}}, 'checkpoint': 300} \n",
      "\n",
      "\n",
      "{'accuracy': 0.9567901234567902, 'mean_square_error': 0.1040255156785301, 'categorical_crossentropy': 0.20508914523654515, 'precision': 0.9351851851851852, 'recall': 0.9351851851851852, 'f1': 0.9351851851851852, 'essential_metrics': {0: {'tp_hit': 76, 'fp_hit': 3, 'tn_hit': 25, 'fn_hit': 4}, 1: {'tp_hit': 13, 'fp_hit': 0, 'tn_hit': 93, 'fn_hit': 2}, 2: {'tp_hit': 12, 'fp_hit': 4, 'tn_hit': 91, 'fn_hit': 1}}, 'checkpoint': 400} \n",
      "\n",
      "\n",
      "{'accuracy': 0.9629629629629629, 'mean_square_error': 0.09940436835310955, 'categorical_crossentropy': 0.19217858491120515, 'precision': 0.9444444444444444, 'recall': 0.9444444444444444, 'f1': 0.9444444444444444, 'essential_metrics': {0: {'tp_hit': 76, 'fp_hit': 2, 'tn_hit': 26, 'fn_hit': 4}, 1: {'tp_hit': 14, 'fp_hit': 0, 'tn_hit': 93, 'fn_hit': 1}, 2: {'tp_hit': 12, 'fp_hit': 4, 'tn_hit': 91, 'fn_hit': 1}}, 'checkpoint': 500} \n",
      "\n",
      "\n"
     ]
    }
   ],
   "source": [
    "for checkpoint in checkpoints:\n",
    "    print(checkpoint, '\\n\\n')"
   ]
  },
  {
   "cell_type": "code",
   "execution_count": 15,
   "metadata": {},
   "outputs": [
    {
     "name": "stdout",
     "output_type": "stream",
     "text": [
      "Layer 1\n",
      "Neuron 0: weights:\n",
      "[-1.6608467  2.4924095  1.5302889  1.7048819 -2.4562225]\n",
      " bias: -1.7587966918945312\n",
      "\n",
      "Neuron 1: weights:\n",
      "[-0.9258654   2.17901    -0.08192941 -1.5993327  -2.7330956 ]\n",
      " bias: 1.8859317302703857\n",
      "\n",
      "Neuron 2: weights:\n",
      "[ 0.6688345 -2.7051492  1.2738703  2.5247972  2.7354078]\n",
      " bias: -1.3961316347122192\n",
      "\n",
      "Neuron 3: weights:\n",
      "[-0.40998197 -0.36177713 -2.7337434  -2.0791845  -1.5077795 ]\n",
      " bias: 2.1847963333129883\n",
      "\n",
      "$\n",
      "Layer 2\n",
      "Neuron 0: weights:\n",
      "[-3.         2.0847747 -1.7774818  1.5600871]\n",
      " bias: 1.1701416969299316\n",
      "\n",
      "Neuron 1: weights:\n",
      "[ 3.          0.24503204 -0.54656774 -0.64988637]\n",
      " bias: 0.558189868927002\n",
      "\n",
      "Neuron 2: weights:\n",
      "[-2.7602694 -2.5265055  2.2067556 -1.0296   ]\n",
      " bias: 2.980375289916992\n",
      "\n",
      "$\n",
      "\n"
     ]
    }
   ],
   "source": [
    "print(model)"
   ]
  }
 ],
 "metadata": {
  "kernelspec": {
   "display_name": "Python 3",
   "language": "python",
   "name": "python3"
  },
  "language_info": {
   "codemirror_mode": {
    "name": "ipython",
    "version": 3
   },
   "file_extension": ".py",
   "mimetype": "text/x-python",
   "name": "python",
   "nbconvert_exporter": "python",
   "pygments_lexer": "ipython3",
   "version": "3.6.10"
  }
 },
 "nbformat": 4,
 "nbformat_minor": 2
}
