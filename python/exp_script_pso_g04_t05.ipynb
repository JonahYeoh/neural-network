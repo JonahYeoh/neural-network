{
 "cells": [
  {
   "cell_type": "code",
   "execution_count": 1,
   "metadata": {},
   "outputs": [],
   "source": [
    "# dependency\n",
    "import numpy as np\n",
    "import pandas as pd\n",
    "import copy\n",
    "import math\n",
    "import sys\n",
    "import os\n",
    "from activations import relu, leaky_relu, sigmoid, tanh, softmax, d_sigmoid, d_relu\n",
    "from initializers import glorot_uniform, random_normal, random_uniform\n",
    "from regularizers import l1_regularizer, l2_regularizer\n",
    "from utility import trim_tail, multiply, subtract, get_nparams, one_hot_encoding, get_data\n",
    "from metrics import MSE, CCE, ACC, PRECISION, RECALL, essential_metrics, wondering_penalty, close_gap_penalty\n",
    "from pso import PSO\n",
    "from ga import GA\n",
    "from nn import Network\n",
    "from layer import DenseLayer\n",
    "from scalers import MinMaxScaler, StandardScaler"
   ]
  },
  {
   "cell_type": "code",
   "execution_count": 2,
   "metadata": {},
   "outputs": [],
   "source": [
    "# reference\n",
    "metrics_fn_dict = dict()\n",
    "metrics_fn_dict['accuracy'] = ACC\n",
    "metrics_fn_dict['categorical_crossentropy'] = CCE\n",
    "metrics_fn_dict['mean_square_error'] = MSE\n",
    "metrics_fn_dict['precision'] = PRECISION\n",
    "metrics_fn_dict['recall'] = RECALL\n",
    "metrics_fn_dict['essential_metrics'] = essential_metrics"
   ]
  },
  {
   "cell_type": "code",
   "execution_count": 3,
   "metadata": {},
   "outputs": [],
   "source": [
    "# model\n",
    "model = Network(5, lr = None)\n",
    "model.add_layer(DenseLayer(1, 4, True, afn=sigmoid, dafn=None, rfn=None))\n",
    "model.add_layer(DenseLayer(2, 3, True, afn=softmax, dafn=None, rfn=None))"
   ]
  },
  {
   "cell_type": "code",
   "execution_count": 4,
   "metadata": {},
   "outputs": [
    {
     "name": "stdout",
     "output_type": "stream",
     "text": [
      "see one see two 2 2\n"
     ]
    }
   ],
   "source": [
    "pso = PSO(dict(m = 50,\n",
    "    weight_constraint = [-3, 3], \n",
    "    velocity_constraint = [-0.1, 0.1],\n",
    "    c1 = 2,\n",
    "    c2 = 2,\n",
    "    w = 1.2,\n",
    "    w_decay = 1,\n",
    "    scale_hyperparameter = False,\n",
    "    regularizer = None,\n",
    "    mask = True))"
   ]
  },
  {
   "cell_type": "code",
   "execution_count": 5,
   "metadata": {},
   "outputs": [
    {
     "name": "stdout",
     "output_type": "stream",
     "text": [
      "building layer 1 with 5\n",
      "24\n",
      "building layer 2 with 4\n",
      "15\n"
     ]
    }
   ],
   "source": [
    "model.compile(loss_fn = 'categorical_crossentropy', optimizer = pso, \\\n",
    "    metrics = ['accuracy', 'mean_square_error', 'categorical_crossentropy'])"
   ]
  },
  {
   "cell_type": "code",
   "execution_count": 6,
   "metadata": {},
   "outputs": [
    {
     "name": "stdout",
     "output_type": "stream",
     "text": [
      "<class 'pandas.core.frame.DataFrame'>\n",
      "RangeIndex: 107 entries, 0 to 106\n",
      "Data columns (total 6 columns):\n",
      " #   Column  Non-Null Count  Dtype  \n",
      "---  ------  --------------  -----  \n",
      " 0   f1      107 non-null    float32\n",
      " 1   f2      107 non-null    float32\n",
      " 2   f3      107 non-null    float32\n",
      " 3   f4      107 non-null    float32\n",
      " 4   f5      107 non-null    float32\n",
      " 5   label   107 non-null    float32\n",
      "dtypes: float32(6)\n",
      "memory usage: 2.6 KB\n",
      "None\n",
      "<class 'pandas.core.frame.DataFrame'>\n",
      "RangeIndex: 108 entries, 0 to 107\n",
      "Data columns (total 6 columns):\n",
      " #   Column  Non-Null Count  Dtype  \n",
      "---  ------  --------------  -----  \n",
      " 0   f1      108 non-null    float32\n",
      " 1   f2      108 non-null    float32\n",
      " 2   f3      108 non-null    float32\n",
      " 3   f4      108 non-null    float32\n",
      " 4   f5      108 non-null    float32\n",
      " 5   label   108 non-null    float32\n",
      "dtypes: float32(6)\n",
      "memory usage: 2.7 KB\n",
      "None\n"
     ]
    }
   ],
   "source": [
    "# data loading\n",
    "DATA = os.path.join('c:\\\\Users\\\\AI-lab\\\\github_repo\\\\neural-network\\\\', 'dataset')\n",
    "GROUP = 4\n",
    "COLUMNS = ['f1', 'f2', 'f3', 'f4', 'f5', 'label']\n",
    "N_CLASS = 3\n",
    "EPOCHS = 200\n",
    "train_dir, test_dir = \"..//dataset//training_data{}.txt\".format(GROUP), \"..//dataset//testing_data{}.txt\".format(GROUP)\n",
    "train, test = get_data(DATA, train_dir, COLUMNS), get_data(DATA, test_dir, COLUMNS)\n",
    "# shuffle\n",
    "train, test = train.sample(frac=1), test.sample(frac=1)\n",
    "x_train, y_train = train.drop('label', axis=1), train['label']\n",
    "x_test, y_test = test.drop('label', axis=1), test['label']"
   ]
  },
  {
   "cell_type": "code",
   "execution_count": 7,
   "metadata": {},
   "outputs": [],
   "source": [
    "# data scaling and encoding\n",
    "scaler = StandardScaler(['f1', 'f2', 'f3', 'f4', 'f5'])\n",
    "scaler.fit(x_train)\n",
    "x_train = scaler.transform(x_train)\n",
    "x_test = scaler.transform(x_test)\n",
    "y_train = one_hot_encoding(y_train, N_CLASS)\n",
    "y_test = one_hot_encoding(y_test, N_CLASS)"
   ]
  },
  {
   "cell_type": "code",
   "execution_count": 8,
   "metadata": {
    "tags": [
     "outputPrepend"
    ]
   },
   "outputs": [
    {
     "name": "stdout",
     "output_type": "stream",
     "text": [
      "Checkpoint 10, Accuracy: 0.845679012345679, Loss: 0.4844582169144242\n",
      "Checkpoint 20, Accuracy: 0.8703703703703703, Loss: 0.44515260060628253\n",
      "Checkpoint 30, Accuracy: 0.9012345679012346, Loss: 0.3851263611404984\n",
      "Checkpoint 40, Accuracy: 0.9259259259259259, Loss: 0.35188946900544343\n",
      "Checkpoint 50, Accuracy: 0.9259259259259259, Loss: 0.3076453385529695\n",
      "Checkpoint 60, Accuracy: 0.9382716049382716, Loss: 0.3136121255380136\n",
      "Checkpoint 70, Accuracy: 0.9506172839506173, Loss: 0.2874192131890191\n",
      "Checkpoint 80, Accuracy: 0.9506172839506173, Loss: 0.2620325971532751\n",
      "Checkpoint 90, Accuracy: 0.9506172839506173, Loss: 0.24178444897686993\n",
      "Checkpoint 100, Accuracy: 0.9506172839506173, Loss: 0.20258619167186595\n",
      "Checkpoint 110, Accuracy: 0.9506172839506173, Loss: 0.18488211101955837\n",
      "Checkpoint 120, Accuracy: 0.9629629629629629, Loss: 0.15345340304904515\n",
      "Checkpoint 130, Accuracy: 0.9691358024691358, Loss: 0.13687753677368164\n",
      "Checkpoint 140, Accuracy: 0.9691358024691358, Loss: 0.12729992689909758\n",
      "Checkpoint 150, Accuracy: 0.9691358024691358, Loss: 0.11999714816058124\n",
      "Checkpoint 160, Accuracy: 0.9567901234567902, Loss: 0.14257875195255987\n",
      "Checkpoint 170, Accuracy: 0.9567901234567902, Loss: 0.14764847578825774\n",
      "Checkpoint 180, Accuracy: 0.9567901234567902, Loss: 0.14703287018669975\n",
      "Checkpoint 190, Accuracy: 0.9629629629629629, Loss: 0.13377976417541504\n",
      "Checkpoint 200, Accuracy: 0.9629629629629629, Loss: 0.12502181088482892\n"
     ]
    }
   ],
   "source": [
    "# learning phase\n",
    "breakpoint = 10\n",
    "checkpoints = list()\n",
    "history = list()\n",
    "for century in range(0, EPOCHS, breakpoint):\n",
    "    sub_history = model.fit(x_train, y_train, breakpoint, verbose = 0)\n",
    "    score = model.evaluate(x_test, y_test, False, verbose = 0)\n",
    "    print('Checkpoint {}, Accuracy: {}, Loss: {}'.format(century+breakpoint, score['accuracy'], score[model.loss_fn]))\n",
    "    score['checkpoint'] = century + breakpoint\n",
    "    checkpoints.append(score)\n",
    "    history.extend(sub_history)"
   ]
  },
  {
   "cell_type": "code",
   "execution_count": 9,
   "metadata": {},
   "outputs": [],
   "source": [
    "import matplotlib.pyplot as plt\n",
    "\n",
    "def draw_plot(x, y_list, x_label=None, y_label=None, legend=None, title=None):\n",
    "    fig, ax = plt.subplots(figsize=(12,5))\n",
    "    for xi, yi in zip(x, y_list):\n",
    "        ax.plot(xi, yi)\n",
    "    if x_label is not None and y_label is not None:\n",
    "        ax.set(xlabel=x_label, ylabel=y_label, title='{} VS {}'.format(x_label, y_label))\n",
    "    if legend is not None:\n",
    "        ax.legend(legend)\n",
    "    ax.grid()\n",
    "    plt.show()"
   ]
  },
  {
   "cell_type": "code",
   "execution_count": 10,
   "metadata": {},
   "outputs": [
    {
     "name": "stdout",
     "output_type": "stream",
     "text": [
      "[1. 0. 0.] <-> [9.8201799e-01 9.5105218e-04 1.7030936e-02]\n",
      "[0. 1. 0.] <-> [0.03004267 0.96815044 0.00180688]\n",
      "[0. 0. 1.] <-> [1.8083725e-02 7.5153395e-05 9.8184115e-01]\n",
      "[1. 0. 0.] <-> [0.93135804 0.00107087 0.06757112]\n",
      "[0. 1. 0.] <-> [0.02350816 0.9750557  0.00143612]\n",
      "[1. 0. 0.] <-> [0.96389073 0.00261859 0.03349072]\n",
      "[1. 0. 0.] <-> [0.9905082  0.00111689 0.00837491]\n",
      "[1. 0. 0.] <-> [0.9848455  0.00122408 0.01393041]\n",
      "[0. 1. 0.] <-> [0.02331319 0.9752832  0.00140348]\n",
      "[0. 1. 0.] <-> [1.2381253e-02 9.8671812e-01 9.0056966e-04]\n",
      "[1. 0. 0.] <-> [1.0804546e-01 2.4742394e-04 8.9170712e-01]\n",
      "[1. 0. 0.] <-> [9.9057007e-01 9.5597008e-04 8.4738526e-03]\n",
      "[1. 0. 0.] <-> [0.96200615 0.02580987 0.01218399]\n",
      "[0. 1. 0.] <-> [0.22906749 0.76366174 0.0072707 ]\n",
      "[0. 1. 0.] <-> [1.2334690e-02 9.8678803e-01 8.7725860e-04]\n",
      "[1. 0. 0.] <-> [0.99036366 0.0026491  0.00698725]\n",
      "[1. 0. 0.] <-> [0.98749536 0.00238557 0.01011912]\n",
      "[1. 0. 0.] <-> [0.98839116 0.00431376 0.00729521]\n",
      "[1. 0. 0.] <-> [0.990607   0.0009991  0.00839379]\n",
      "[0. 0. 1.] <-> [5.1766136e-03 2.3987150e-05 9.9479938e-01]\n",
      "[1. 0. 0.] <-> [0.9878369  0.00474133 0.00742175]\n",
      "[1. 0. 0.] <-> [0.97758776 0.0010571  0.02135518]\n",
      "[1. 0. 0.] <-> [0.9913589  0.00235209 0.00628903]\n",
      "[0. 0. 1.] <-> [5.2289255e-02 1.8040600e-04 9.4753033e-01]\n",
      "[0. 1. 0.] <-> [0.05719412 0.9400557  0.00275014]\n",
      "[1. 0. 0.] <-> [0.9914444  0.00161996 0.00693575]\n",
      "[0. 1. 0.] <-> [0.15773934 0.8365131  0.00574753]\n",
      "[1. 0. 0.] <-> [0.9917149  0.00217864 0.00610652]\n",
      "[1. 0. 0.] <-> [0.9821103  0.00969903 0.00819067]\n",
      "[0. 0. 1.] <-> [6.1776217e-02 1.6420288e-04 9.3805957e-01]\n",
      "[1. 0. 0.] <-> [0.99142504 0.00209641 0.00647853]\n",
      "[1. 0. 0.] <-> [0.10720767 0.8881846  0.0046077 ]\n",
      "[1. 0. 0.] <-> [0.98679113 0.00106483 0.01214406]\n",
      "[1. 0. 0.] <-> [0.978881   0.01018803 0.01093098]\n",
      "[1. 0. 0.] <-> [0.94121915 0.04656554 0.01221528]\n",
      "[1. 0. 0.] <-> [0.99089724 0.00127019 0.00783259]\n",
      "[1. 0. 0.] <-> [0.9891977  0.00200121 0.00880107]\n",
      "[0. 1. 0.] <-> [1.2334656e-02 9.8679084e-01 8.7449531e-04]\n",
      "[1. 0. 0.] <-> [0.9928411  0.00128772 0.00587111]\n",
      "[1. 0. 0.] <-> [9.9291384e-01 9.6706452e-04 6.1190841e-03]\n",
      "[1. 0. 0.] <-> [0.9919024  0.00102267 0.00707487]\n",
      "[1. 0. 0.] <-> [9.8751372e-01 9.7236125e-04 1.1513916e-02]\n",
      "[1. 0. 0.] <-> [0.9750923  0.00267474 0.02223302]\n",
      "[1. 0. 0.] <-> [0.93249494 0.00107621 0.06642886]\n",
      "[1. 0. 0.] <-> [9.0765554e-01 8.7605568e-04 9.1468319e-02]\n",
      "[1. 0. 0.] <-> [0.9915786  0.00122881 0.00719262]\n",
      "[1. 0. 0.] <-> [0.99189055 0.00159407 0.00651542]\n",
      "[1. 0. 0.] <-> [0.8141138  0.00082788 0.18505837]\n",
      "[0. 1. 0.] <-> [1.2334726e-02 9.8679084e-01 8.7452703e-04]\n",
      "[1. 0. 0.] <-> [0.99106956 0.00140324 0.00752728]\n",
      "[1. 0. 0.] <-> [0.985255   0.00122629 0.01351867]\n",
      "[0. 1. 0.] <-> [1.2373074e-02 9.8674458e-01 8.8234385e-04]\n",
      "[0. 0. 1.] <-> [1.8405778e-02 5.9994367e-05 9.8153424e-01]\n",
      "[1. 0. 0.] <-> [0.9850246  0.00150357 0.01347183]\n",
      "[1. 0. 0.] <-> [0.93413395 0.00118394 0.06468207]\n",
      "[0. 1. 0.] <-> [1.2334733e-02 9.8679048e-01 8.7487290e-04]\n",
      "[1. 0. 0.] <-> [9.927925e-01 9.380227e-04 6.269527e-03]\n",
      "[1. 0. 0.] <-> [0.99275607 0.00148499 0.00575899]\n",
      "[0. 0. 1.] <-> [0.80192584 0.00098199 0.19709218]\n",
      "[1. 0. 0.] <-> [9.8579538e-01 9.3209225e-04 1.3272539e-02]\n",
      "[1. 0. 0.] <-> [0.9670728  0.0010981  0.03182908]\n",
      "[1. 0. 0.] <-> [0.99194807 0.0013519  0.00670001]\n",
      "[1. 0. 0.] <-> [0.9884123  0.00119006 0.01039761]\n",
      "[1. 0. 0.] <-> [0.99098325 0.00101836 0.00799843]\n",
      "[0. 1. 0.] <-> [1.3706195e-02 9.8530954e-01 9.8430587e-04]\n",
      "[1. 0. 0.] <-> [0.992668   0.00150646 0.00582562]\n",
      "[0. 0. 1.] <-> [1.1555432e-02 4.8398048e-05 9.8839617e-01]\n",
      "[1. 0. 0.] <-> [0.932792   0.00120196 0.0660061 ]\n",
      "[1. 0. 0.] <-> [0.9929789  0.00110553 0.00591561]\n",
      "[1. 0. 0.] <-> [0.8693511  0.11663397 0.01401497]\n",
      "[1. 0. 0.] <-> [0.9889893  0.00246364 0.00854709]\n",
      "[1. 0. 0.] <-> [0.9530653  0.00701819 0.03991659]\n",
      "[1. 0. 0.] <-> [9.920122e-01 9.023587e-04 7.085542e-03]\n",
      "[1. 0. 0.] <-> [0.9467584  0.04010513 0.01313647]\n",
      "[1. 0. 0.] <-> [0.9890115  0.00345777 0.00753074]\n",
      "[1. 0. 0.] <-> [0.9909252  0.00105899 0.00801573]\n",
      "[0. 1. 0.] <-> [1.2334707e-02 9.8678839e-01 8.7699119e-04]\n",
      "[1. 0. 0.] <-> [9.8271346e-01 9.3880191e-04 1.6347768e-02]\n",
      "[0. 0. 1.] <-> [0.733838   0.00080107 0.26536095]\n",
      "[1. 0. 0.] <-> [0.99078393 0.00251927 0.00669676]\n",
      "[1. 0. 0.] <-> [0.3302874  0.65996796 0.00974466]\n",
      "[1. 0. 0.] <-> [0.9901126  0.00232007 0.00756747]\n",
      "[0. 0. 1.] <-> [5.1924824e-03 2.3851979e-05 9.9478370e-01]\n",
      "[1. 0. 0.] <-> [0.96021795 0.00108033 0.03870169]\n",
      "[1. 0. 0.] <-> [9.8420262e-01 9.6586382e-04 1.4831545e-02]\n",
      "[1. 0. 0.] <-> [0.9911528  0.00283719 0.00600998]\n",
      "[1. 0. 0.] <-> [0.6797067  0.00080874 0.31948462]\n",
      "[1. 0. 0.] <-> [0.99178946 0.00173964 0.00647092]\n",
      "[0. 0. 1.] <-> [5.6083295e-03 2.5567795e-05 9.9436617e-01]\n",
      "[0. 1. 0.] <-> [1.2336854e-02 9.8677987e-01 8.8316010e-04]\n",
      "[1. 0. 0.] <-> [0.95706373 0.01409491 0.02884141]\n",
      "[1. 0. 0.] <-> [0.70838225 0.27516976 0.01644797]\n",
      "[0. 1. 0.] <-> [0.0237843  0.9747695  0.00144623]\n",
      "[1. 0. 0.] <-> [0.48531896 0.49978176 0.01489928]\n",
      "[1. 0. 0.] <-> [0.979043   0.00830828 0.0126487 ]\n",
      "[0. 0. 1.] <-> [1.0110138e-02 4.1090872e-05 9.8984879e-01]\n",
      "[1. 0. 0.] <-> [0.99241966 0.00109373 0.00648662]\n",
      "[0. 0. 1.] <-> [9.929821e-03 3.963475e-05 9.900305e-01]\n",
      "[1. 0. 0.] <-> [9.8006445e-01 9.3198015e-04 1.9003538e-02]\n",
      "[1. 0. 0.] <-> [9.9208260e-01 9.4347604e-04 6.9738613e-03]\n",
      "[1. 0. 0.] <-> [0.99035513 0.00199549 0.00764947]\n",
      "[1. 0. 0.] <-> [0.7713348  0.21440287 0.01426231]\n",
      "[1. 0. 0.] <-> [9.8523140e-01 9.3174382e-04 1.3836891e-02]\n",
      "[1. 0. 0.] <-> [0.9921733  0.00140092 0.00642589]\n",
      "[0. 0. 1.] <-> [5.1874085e-03 2.3844208e-05 9.9478877e-01]\n",
      "[0. 0. 1.] <-> [5.7129534e-03 2.6014803e-05 9.9426103e-01]\n",
      "[1. 0. 0.] <-> [0.5463923  0.4378864  0.01572134]\n",
      "[1. 0. 0.] <-> [0.98728126 0.0014697  0.01124899]\n",
      "{'accuracy': 0.9629629629629629, 'mean_square_error': 0.07581668378208149, 'categorical_crossentropy': 0.12502181088482892, 'essential_metrics': {0: {'tp_hit': 74, 'fp_hit': 2, 'tn_hit': 28, 'fn_hit': 4}, 1: {'tp_hit': 16, 'fp_hit': 3, 'tn_hit': 89, 'fn_hit': 0}, 2: {'tp_hit': 12, 'fp_hit': 1, 'tn_hit': 93, 'fn_hit': 2}}}\n"
     ]
    }
   ],
   "source": [
    "# recall phase\n",
    "score = model.evaluate(x_test, y_test, False)\n",
    "print(score)"
   ]
  },
  {
   "cell_type": "code",
   "execution_count": 11,
   "metadata": {},
   "outputs": [],
   "source": [
    "train_acc = [h['accuracy'] for h in history]\n",
    "train_mse = [h['mean_square_error'] for h in history]\n",
    "train_cce = [h['categorical_crossentropy'] for h in history]"
   ]
  },
  {
   "cell_type": "code",
   "execution_count": 12,
   "metadata": {},
   "outputs": [
    {
     "data": {
      "image/png": "[encoded data removed]",
      "text/plain": [
       "<Figure size 864x360 with 1 Axes>"
      ]
     },
     "metadata": {
      "needs_background": "light"
     },
     "output_type": "display_data"
    },
    {
     "data": {
      "image/png": "[encoded data removed]",
      "text/plain": [
       "<Figure size 864x360 with 1 Axes>"
      ]
     },
     "metadata": {
      "needs_background": "light"
     },
     "output_type": "display_data"
    }
   ],
   "source": [
    "draw_plot(x = [[i for i in range(len(history))], [(i+1)*breakpoint for i in range(len(checkpoints))]], y_list = [train_cce, [ ckp[model.loss_fn] for ckp in checkpoints ]], x_label = 'Epochs', \\\n",
    "    y_label = model.loss_fn, legend=['train', 'test'])\n",
    "acc = [ ckp['accuracy'] for ckp in checkpoints ]\n",
    "draw_plot(x = [[i for i in range(len(history))], [(i+1)*breakpoint for i in range(len(checkpoints))]], y_list = [train_acc, acc], x_label = 'Checkpoints', \\\n",
    "    y_label = 'accuracy', legend=['train', 'test'])"
   ]
  },
  {
   "cell_type": "code",
   "execution_count": 13,
   "metadata": {},
   "outputs": [
    {
     "name": "stdout",
     "output_type": "stream",
     "text": [
      "{'accuracy': 0.845679012345679, 'mean_square_error': 0.27173218163230656, 'categorical_crossentropy': 0.4844582169144242, 'essential_metrics': {0: {'tp_hit': 78, 'fp_hit': 25, 'tn_hit': 5, 'fn_hit': 0}, 1: {'tp_hit': 2, 'fp_hit': 0, 'tn_hit': 92, 'fn_hit': 14}, 2: {'tp_hit': 3, 'fp_hit': 0, 'tn_hit': 94, 'fn_hit': 11}}, 'checkpoint': 10} \n",
      "\n",
      "\n",
      "{'accuracy': 0.8703703703703703, 'mean_square_error': 0.25707326900708677, 'categorical_crossentropy': 0.44515260060628253, 'essential_metrics': {0: {'tp_hit': 78, 'fp_hit': 21, 'tn_hit': 9, 'fn_hit': 0}, 1: {'tp_hit': 8, 'fp_hit': 0, 'tn_hit': 92, 'fn_hit': 8}, 2: {'tp_hit': 1, 'fp_hit': 0, 'tn_hit': 94, 'fn_hit': 13}}, 'checkpoint': 20} \n",
      "\n",
      "\n",
      "{'accuracy': 0.9012345679012346, 'mean_square_error': 0.20520219725330507, 'categorical_crossentropy': 0.3851263611404984, 'essential_metrics': {0: {'tp_hit': 78, 'fp_hit': 16, 'tn_hit': 14, 'fn_hit': 0}, 1: {'tp_hit': 11, 'fp_hit': 0, 'tn_hit': 92, 'fn_hit': 5}, 2: {'tp_hit': 3, 'fp_hit': 0, 'tn_hit': 94, 'fn_hit': 11}}, 'checkpoint': 30} \n",
      "\n",
      "\n",
      "{'accuracy': 0.9259259259259259, 'mean_square_error': 0.17490015135463433, 'categorical_crossentropy': 0.35188946900544343, 'essential_metrics': {0: {'tp_hit': 78, 'fp_hit': 12, 'tn_hit': 18, 'fn_hit': 0}, 1: {'tp_hit': 12, 'fp_hit': 0, 'tn_hit': 92, 'fn_hit': 4}, 2: {'tp_hit': 6, 'fp_hit': 0, 'tn_hit': 94, 'fn_hit': 8}}, 'checkpoint': 40} \n",
      "\n",
      "\n",
      "{'accuracy': 0.9259259259259259, 'mean_square_error': 0.16440355738129248, 'categorical_crossentropy': 0.3076453385529695, 'essential_metrics': {0: {'tp_hit': 77, 'fp_hit': 11, 'tn_hit': 19, 'fn_hit': 1}, 1: {'tp_hit': 12, 'fp_hit': 1, 'tn_hit': 91, 'fn_hit': 4}, 2: {'tp_hit': 7, 'fp_hit': 0, 'tn_hit': 94, 'fn_hit': 7}}, 'checkpoint': 50} \n",
      "\n",
      "\n",
      "{'accuracy': 0.9382716049382716, 'mean_square_error': 0.15756305416369024, 'categorical_crossentropy': 0.3136121255380136, 'essential_metrics': {0: {'tp_hit': 76, 'fp_hit': 8, 'tn_hit': 22, 'fn_hit': 2}, 1: {'tp_hit': 13, 'fp_hit': 1, 'tn_hit': 91, 'fn_hit': 3}, 2: {'tp_hit': 9, 'fp_hit': 1, 'tn_hit': 93, 'fn_hit': 5}}, 'checkpoint': 60} \n",
      "\n",
      "\n",
      "{'accuracy': 0.9506172839506173, 'mean_square_error': 0.14093717202460707, 'categorical_crossentropy': 0.2874192131890191, 'essential_metrics': {0: {'tp_hit': 76, 'fp_hit': 6, 'tn_hit': 24, 'fn_hit': 2}, 1: {'tp_hit': 12, 'fp_hit': 1, 'tn_hit': 91, 'fn_hit': 4}, 2: {'tp_hit': 12, 'fp_hit': 1, 'tn_hit': 93, 'fn_hit': 2}}, 'checkpoint': 70} \n",
      "\n",
      "\n",
      "{'accuracy': 0.9506172839506173, 'mean_square_error': 0.12262153858096382, 'categorical_crossentropy': 0.2620325971532751, 'essential_metrics': {0: {'tp_hit': 76, 'fp_hit': 6, 'tn_hit': 24, 'fn_hit': 2}, 1: {'tp_hit': 12, 'fp_hit': 1, 'tn_hit': 91, 'fn_hit': 4}, 2: {'tp_hit': 12, 'fp_hit': 1, 'tn_hit': 93, 'fn_hit': 2}}, 'checkpoint': 80} \n",
      "\n",
      "\n",
      "{'accuracy': 0.9506172839506173, 'mean_square_error': 0.11984182990137728, 'categorical_crossentropy': 0.24178444897686993, 'essential_metrics': {0: {'tp_hit': 76, 'fp_hit': 6, 'tn_hit': 24, 'fn_hit': 2}, 1: {'tp_hit': 12, 'fp_hit': 1, 'tn_hit': 91, 'fn_hit': 4}, 2: {'tp_hit': 12, 'fp_hit': 1, 'tn_hit': 93, 'fn_hit': 2}}, 'checkpoint': 90} \n",
      "\n",
      "\n",
      "{'accuracy': 0.9506172839506173, 'mean_square_error': 0.1102364050122773, 'categorical_crossentropy': 0.20258619167186595, 'essential_metrics': {0: {'tp_hit': 77, 'fp_hit': 7, 'tn_hit': 23, 'fn_hit': 1}, 1: {'tp_hit': 13, 'fp_hit': 1, 'tn_hit': 91, 'fn_hit': 3}, 2: {'tp_hit': 10, 'fp_hit': 0, 'tn_hit': 94, 'fn_hit': 4}}, 'checkpoint': 100} \n",
      "\n",
      "\n",
      "{'accuracy': 0.9506172839506173, 'mean_square_error': 0.09961485727958849, 'categorical_crossentropy': 0.18488211101955837, 'essential_metrics': {0: {'tp_hit': 76, 'fp_hit': 6, 'tn_hit': 24, 'fn_hit': 2}, 1: {'tp_hit': 12, 'fp_hit': 1, 'tn_hit': 91, 'fn_hit': 4}, 2: {'tp_hit': 12, 'fp_hit': 1, 'tn_hit': 93, 'fn_hit': 2}}, 'checkpoint': 110} \n",
      "\n",
      "\n",
      "{'accuracy': 0.9629629629629629, 'mean_square_error': 0.08401766931936204, 'categorical_crossentropy': 0.15345340304904515, 'essential_metrics': {0: {'tp_hit': 76, 'fp_hit': 4, 'tn_hit': 26, 'fn_hit': 2}, 1: {'tp_hit': 14, 'fp_hit': 1, 'tn_hit': 91, 'fn_hit': 2}, 2: {'tp_hit': 12, 'fp_hit': 1, 'tn_hit': 93, 'fn_hit': 2}}, 'checkpoint': 120} \n",
      "\n",
      "\n",
      "{'accuracy': 0.9691358024691358, 'mean_square_error': 0.07469877782148415, 'categorical_crossentropy': 0.13687753677368164, 'essential_metrics': {0: {'tp_hit': 76, 'fp_hit': 3, 'tn_hit': 27, 'fn_hit': 2}, 1: {'tp_hit': 15, 'fp_hit': 1, 'tn_hit': 91, 'fn_hit': 1}, 2: {'tp_hit': 12, 'fp_hit': 1, 'tn_hit': 93, 'fn_hit': 2}}, 'checkpoint': 130} \n",
      "\n",
      "\n",
      "{'accuracy': 0.9691358024691358, 'mean_square_error': 0.0694940065001678, 'categorical_crossentropy': 0.12729992689909758, 'essential_metrics': {0: {'tp_hit': 76, 'fp_hit': 3, 'tn_hit': 27, 'fn_hit': 2}, 1: {'tp_hit': 15, 'fp_hit': 1, 'tn_hit': 91, 'fn_hit': 1}, 2: {'tp_hit': 12, 'fp_hit': 1, 'tn_hit': 93, 'fn_hit': 2}}, 'checkpoint': 140} \n",
      "\n",
      "\n",
      "{'accuracy': 0.9691358024691358, 'mean_square_error': 0.0635900451073806, 'categorical_crossentropy': 0.11999714816058124, 'essential_metrics': {0: {'tp_hit': 75, 'fp_hit': 2, 'tn_hit': 28, 'fn_hit': 3}, 1: {'tp_hit': 16, 'fp_hit': 2, 'tn_hit': 90, 'fn_hit': 0}, 2: {'tp_hit': 12, 'fp_hit': 1, 'tn_hit': 93, 'fn_hit': 2}}, 'checkpoint': 150} \n",
      "\n",
      "\n",
      "{'accuracy': 0.9567901234567902, 'mean_square_error': 0.08619120084215862, 'categorical_crossentropy': 0.14257875195255987, 'essential_metrics': {0: {'tp_hit': 73, 'fp_hit': 2, 'tn_hit': 28, 'fn_hit': 5}, 1: {'tp_hit': 16, 'fp_hit': 4, 'tn_hit': 88, 'fn_hit': 0}, 2: {'tp_hit': 12, 'fp_hit': 1, 'tn_hit': 93, 'fn_hit': 2}}, 'checkpoint': 160} \n",
      "\n",
      "\n",
      "{'accuracy': 0.9567901234567902, 'mean_square_error': 0.08854386572335311, 'categorical_crossentropy': 0.14764847578825774, 'essential_metrics': {0: {'tp_hit': 73, 'fp_hit': 2, 'tn_hit': 28, 'fn_hit': 5}, 1: {'tp_hit': 16, 'fp_hit': 4, 'tn_hit': 88, 'fn_hit': 0}, 2: {'tp_hit': 12, 'fp_hit': 1, 'tn_hit': 93, 'fn_hit': 2}}, 'checkpoint': 170} \n",
      "\n",
      "\n",
      "{'accuracy': 0.9567901234567902, 'mean_square_error': 0.08790519209085786, 'categorical_crossentropy': 0.14703287018669975, 'essential_metrics': {0: {'tp_hit': 73, 'fp_hit': 2, 'tn_hit': 28, 'fn_hit': 5}, 1: {'tp_hit': 16, 'fp_hit': 4, 'tn_hit': 88, 'fn_hit': 0}, 2: {'tp_hit': 12, 'fp_hit': 1, 'tn_hit': 93, 'fn_hit': 2}}, 'checkpoint': 180} \n",
      "\n",
      "\n",
      "{'accuracy': 0.9629629629629629, 'mean_square_error': 0.08042180158459328, 'categorical_crossentropy': 0.13377976417541504, 'essential_metrics': {0: {'tp_hit': 74, 'fp_hit': 2, 'tn_hit': 28, 'fn_hit': 4}, 1: {'tp_hit': 16, 'fp_hit': 3, 'tn_hit': 89, 'fn_hit': 0}, 2: {'tp_hit': 12, 'fp_hit': 1, 'tn_hit': 93, 'fn_hit': 2}}, 'checkpoint': 190} \n",
      "\n",
      "\n",
      "{'accuracy': 0.9629629629629629, 'mean_square_error': 0.07581668378208149, 'categorical_crossentropy': 0.12502181088482892, 'essential_metrics': {0: {'tp_hit': 74, 'fp_hit': 2, 'tn_hit': 28, 'fn_hit': 4}, 1: {'tp_hit': 16, 'fp_hit': 3, 'tn_hit': 89, 'fn_hit': 0}, 2: {'tp_hit': 12, 'fp_hit': 1, 'tn_hit': 93, 'fn_hit': 2}}, 'checkpoint': 200} \n",
      "\n",
      "\n"
     ]
    }
   ],
   "source": [
    "for checkpoint in checkpoints:\n",
    "    print(checkpoint, '\\n\\n')"
   ]
  },
  {
   "cell_type": "code",
   "execution_count": 14,
   "metadata": {},
   "outputs": [
    {
     "name": "stdout",
     "output_type": "stream",
     "text": [
      "Layer 1\n",
      "Neuron 0: weights:\n",
      "[ 0.367097   -0.78509486 -2.53376     1.9589844   3.        ]\n",
      " bias: -3.0\n",
      "\n",
      "Neuron 1: weights:\n",
      "[ 2.0763123  -3.         -3.          2.6170306  -0.54311144]\n",
      " bias: 2.6389851570129395\n",
      "\n",
      "Neuron 2: weights:\n",
      "[ 1.995565  -3.        -3.         1.1133256  2.0475605]\n",
      " bias: 3.0\n",
      "\n",
      "Neuron 3: weights:\n",
      "[ 0.13854958  3.         -0.7442249  -0.58775634 -3.        ]\n",
      " bias: 2.0520870685577393\n",
      "\n",
      "$\n",
      "Layer 2\n",
      "Neuron 0: weights:\n",
      "[-1.9827895  2.4901106  3.         3.       ]\n",
      " bias: -3.0\n",
      "\n",
      "Neuron 1: weights:\n",
      "[-0.2578064 -3.        -3.         3.       ]\n",
      " bias: 1.3820387125015259\n",
      "\n",
      "Neuron 2: weights:\n",
      "[ 2.7144501  0.9186274  1.7769333 -3.       ]\n",
      " bias: 0.3534243404865265\n",
      "\n",
      "$\n",
      "\n"
     ]
    }
   ],
   "source": [
    "print(model)"
   ]
  },
  {
   "cell_type": "code",
   "execution_count": null,
   "metadata": {},
   "outputs": [],
   "source": []
  }
 ],
 "metadata": {
  "kernelspec": {
   "display_name": "Python 3",
   "language": "python",
   "name": "python3"
  },
  "language_info": {
   "codemirror_mode": {
    "name": "ipython",
    "version": 3
   },
   "file_extension": ".py",
   "mimetype": "text/x-python",
   "name": "python",
   "nbconvert_exporter": "python",
   "pygments_lexer": "ipython3",
   "version": "3.6.12"
  }
 },
 "nbformat": 4,
 "nbformat_minor": 2
}
