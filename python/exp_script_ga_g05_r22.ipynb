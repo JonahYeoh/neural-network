{
 "cells": [
  {
   "cell_type": "code",
   "execution_count": 1,
   "metadata": {},
   "outputs": [],
   "source": [
    "# two"
   ]
  },
  {
   "cell_type": "code",
   "execution_count": 2,
   "metadata": {},
   "outputs": [],
   "source": [
    "# dependency\n",
    "import numpy as np\n",
    "import pandas as pd\n",
    "import copy\n",
    "import math\n",
    "import sys\n",
    "import os\n",
    "from activations import relu, leaky_relu, sigmoid, tanh, softmax, d_sigmoid, d_relu\n",
    "from initializers import glorot_uniform, random_normal, random_uniform\n",
    "from regularizers import l1_regularizer, l2_regularizer\n",
    "from utility import trim_tail, multiply, subtract, get_nparams, one_hot_encoding, get_data\n",
    "from metrics import MSE, CCE, ACC, PRECISION, RECALL, essential_metrics, wondering_penalty, close_gap_penalty\n",
    "from pso import PSO\n",
    "from ga import GA\n",
    "from nn import Network\n",
    "from layer import DenseLayer\n",
    "from scalers import MinMaxScaler, StandardScaler"
   ]
  },
  {
   "cell_type": "code",
   "execution_count": 3,
   "metadata": {},
   "outputs": [],
   "source": [
    "# reference\n",
    "metrics_fn_dict = dict()\n",
    "metrics_fn_dict['accuracy'] = ACC\n",
    "metrics_fn_dict['categorical_crossentropy'] = CCE\n",
    "metrics_fn_dict['mean_square_error'] = MSE\n",
    "metrics_fn_dict['precision'] = PRECISION\n",
    "metrics_fn_dict['recall'] = RECALL\n",
    "metrics_fn_dict['essential_metrics'] = essential_metrics"
   ]
  },
  {
   "cell_type": "code",
   "execution_count": 4,
   "metadata": {},
   "outputs": [],
   "source": [
    "# model\n",
    "model = Network(5, lr = None)\n",
    "model.add_layer(DenseLayer(1, 4, True, afn=sigmoid, dafn=None, rfn=None))\n",
    "model.add_layer(DenseLayer(2, 3, True, afn=softmax, dafn=None, rfn=None))"
   ]
  },
  {
   "cell_type": "code",
   "execution_count": 5,
   "metadata": {},
   "outputs": [],
   "source": [
    "# optimizer\n",
    "ga = GA(\n",
    "    dict(\n",
    "        m = 200,\n",
    "        x_rate = 0.5,\n",
    "        m_rate = 0.5,\n",
    "        weight_constraint = [-3.,3.],\n",
    "        radioactive_rating = 0.1,\n",
    "        grow_factor = 0.1,\n",
    "        scale_hyperparameter = False,\n",
    "        regularizer = None))"
   ]
  },
  {
   "cell_type": "code",
   "execution_count": 6,
   "metadata": {},
   "outputs": [
    {
     "name": "stdout",
     "output_type": "stream",
     "text": [
      "building layer 1 with 5\n",
      "24\n",
      "building layer 2 with 4\n",
      "15\n"
     ]
    }
   ],
   "source": [
    "model.compile(loss_fn = 'categorical_crossentropy', optimizer = ga, \\\n",
    "    metrics = ['accuracy', 'mean_square_error', 'categorical_crossentropy', 'precision', 'recall', 'f1'])"
   ]
  },
  {
   "cell_type": "code",
   "execution_count": 7,
   "metadata": {},
   "outputs": [
    {
     "name": "stdout",
     "output_type": "stream",
     "text": [
      "<class 'pandas.core.frame.DataFrame'>\n",
      "RangeIndex: 107 entries, 0 to 106\n",
      "Data columns (total 6 columns):\n",
      " #   Column  Non-Null Count  Dtype  \n",
      "---  ------  --------------  -----  \n",
      " 0   f1      107 non-null    float32\n",
      " 1   f2      107 non-null    float32\n",
      " 2   f3      107 non-null    float32\n",
      " 3   f4      107 non-null    float32\n",
      " 4   f5      107 non-null    float32\n",
      " 5   label   107 non-null    float32\n",
      "dtypes: float32(6)\n",
      "memory usage: 2.6 KB\n",
      "None\n",
      "<class 'pandas.core.frame.DataFrame'>\n",
      "RangeIndex: 108 entries, 0 to 107\n",
      "Data columns (total 6 columns):\n",
      " #   Column  Non-Null Count  Dtype  \n",
      "---  ------  --------------  -----  \n",
      " 0   f1      108 non-null    float32\n",
      " 1   f2      108 non-null    float32\n",
      " 2   f3      108 non-null    float32\n",
      " 3   f4      108 non-null    float32\n",
      " 4   f5      108 non-null    float32\n",
      " 5   label   108 non-null    float32\n",
      "dtypes: float32(6)\n",
      "memory usage: 2.7 KB\n",
      "None\n"
     ]
    }
   ],
   "source": [
    "# data loading\n",
    "DATA = os.path.join('c:\\\\Users\\\\AI-lab\\\\github_repo\\\\neural-network\\\\', 'dataset')\n",
    "GROUP = 5\n",
    "COLUMNS = ['f1', 'f2', 'f3', 'f4', 'f5', 'label']\n",
    "N_CLASS = 3\n",
    "EPOCHS = 500\n",
    "train_dir, test_dir = \"..//dataset//training_data{}.txt\".format(GROUP), \"..//dataset//testing_data{}.txt\".format(GROUP)\n",
    "train, test = get_data(DATA, train_dir, COLUMNS), get_data(DATA, test_dir, COLUMNS)\n",
    "# shuffle\n",
    "train, test = train.sample(frac=1), test.sample(frac=1)\n",
    "x_train, y_train = train.drop('label', axis=1), train['label']\n",
    "x_test, y_test = test.drop('label', axis=1), test['label']"
   ]
  },
  {
   "cell_type": "code",
   "execution_count": 8,
   "metadata": {},
   "outputs": [],
   "source": [
    "# data scaling and encoding\n",
    "scaler = StandardScaler(['f1', 'f2', 'f3', 'f4', 'f5'])\n",
    "scaler.fit(x_train)\n",
    "x_train = scaler.transform(x_train)\n",
    "x_test = scaler.transform(x_test)\n",
    "y_train = one_hot_encoding(y_train, N_CLASS)\n",
    "y_test = one_hot_encoding(y_test, N_CLASS)"
   ]
  },
  {
   "cell_type": "code",
   "execution_count": 9,
   "metadata": {
    "scrolled": true,
    "tags": [
     "outputPrepend"
    ]
   },
   "outputs": [
    {
     "name": "stderr",
     "output_type": "stream",
     "text": [
      "C:\\Users\\AI-lab\\github_repo\\neural-network\\python\\activations.py:14: RuntimeWarning: overflow encountered in exp\n",
      "  y = 1 / (1 + np.exp(-Xi))\n",
      "C:\\Users\\AI-lab\\github_repo\\neural-network\\python\\ga.py:201: RuntimeWarning: overflow encountered in add\n",
      "  self.population.sort(key=lambda p: p.fitness + np.random.uniform(-shift, shift, 1), reverse = self.aim)\n"
     ]
    },
    {
     "name": "stdout",
     "output_type": "stream",
     "text": [
      "Checkpoint 100, Accuracy: 0.9753086419753086, Loss: 0.16491805182562935\n",
      "Checkpoint 200, Accuracy: 0.9753086419753086, Loss: 0.13931590539437752\n",
      "Checkpoint 300, Accuracy: 0.9691358024691358, Loss: 0.12485076763011792\n",
      "Checkpoint 400, Accuracy: 0.9753086419753086, Loss: 0.11370917602821633\n",
      "Checkpoint 500, Accuracy: 0.9691358024691358, Loss: 0.11208064467818649\n"
     ]
    }
   ],
   "source": [
    "# learning phase\n",
    "breakpoint = 100\n",
    "checkpoints = list()\n",
    "history = list()\n",
    "for century in range(0, EPOCHS, breakpoint):\n",
    "    sub_history = model.fit(x_train, y_train, breakpoint, verbose = 0)\n",
    "    score = model.evaluate(x_test, y_test, False, verbose = 0)\n",
    "    print('Checkpoint {}, Accuracy: {}, Loss: {}'.format(century+breakpoint, score['accuracy'], score[model.loss_fn]))\n",
    "    score['checkpoint'] = century + breakpoint\n",
    "    checkpoints.append(score)\n",
    "    history.extend(sub_history)\n",
    "    "
   ]
  },
  {
   "cell_type": "code",
   "execution_count": 10,
   "metadata": {},
   "outputs": [],
   "source": [
    "import matplotlib.pyplot as plt\n",
    "\n",
    "def draw_plot(x, y_list, x_label=None, y_label=None, legend=None, title=None):\n",
    "    fig, ax = plt.subplots(figsize=(12,5))\n",
    "    for xi, yi in zip(x, y_list):\n",
    "        ax.plot(xi, yi)\n",
    "    if x_label is not None and y_label is not None:\n",
    "        ax.set(xlabel=x_label, ylabel=y_label, title='{} VS {}'.format(x_label, y_label))\n",
    "    if legend is not None:\n",
    "        ax.legend(legend)\n",
    "    ax.grid()\n",
    "    plt.show()"
   ]
  },
  {
   "cell_type": "code",
   "execution_count": 11,
   "metadata": {},
   "outputs": [
    {
     "name": "stdout",
     "output_type": "stream",
     "text": [
      "[1. 0. 0.] <-> [0.95224303 0.00590125 0.04185566]\n",
      "[0. 1. 0.] <-> [0.28526354 0.706278   0.00845844]\n",
      "[1. 0. 0.] <-> [0.9790206  0.01121283 0.00976646]\n",
      "[1. 0. 0.] <-> [0.9824446  0.0056298  0.01192563]\n",
      "[1. 0. 0.] <-> [0.94031084 0.00704977 0.05263933]\n",
      "[1. 0. 0.] <-> [0.9693904  0.02233855 0.00827112]\n",
      "[1. 0. 0.] <-> [0.9751638  0.01925131 0.00558484]\n",
      "[1. 0. 0.] <-> [0.9824008  0.00786841 0.00973093]\n",
      "[1. 0. 0.] <-> [0.7562781  0.00589678 0.23782508]\n",
      "[1. 0. 0.] <-> [0.97677976 0.00571185 0.01750832]\n",
      "[1. 0. 0.] <-> [0.98459923 0.00821416 0.00718662]\n",
      "[1. 0. 0.] <-> [0.9855062  0.00643639 0.00805746]\n",
      "[0. 0. 1.] <-> [0.08757634 0.00096645 0.9114572 ]\n",
      "[1. 0. 0.] <-> [0.9841855  0.00686015 0.0089543 ]\n",
      "[0. 0. 1.] <-> [0.51629764 0.0043498  0.47935256]\n",
      "[1. 0. 0.] <-> [0.98377335 0.00855513 0.00767155]\n",
      "[1. 0. 0.] <-> [0.9391254  0.00574652 0.05512805]\n",
      "[1. 0. 0.] <-> [0.97927666 0.0124578  0.00826562]\n",
      "[0. 1. 0.] <-> [0.47735974 0.49152112 0.03111914]\n",
      "[1. 0. 0.] <-> [0.9854381  0.0108108  0.00375103]\n",
      "[1. 0. 0.] <-> [0.98370516 0.00710805 0.00918685]\n",
      "[1. 0. 0.] <-> [0.9847415  0.00878276 0.00647568]\n",
      "[1. 0. 0.] <-> [0.23664038 0.0023444  0.7610152 ]\n",
      "[1. 0. 0.] <-> [0.97668946 0.01622456 0.00708596]\n",
      "[0. 1. 0.] <-> [0.20004661 0.7968406  0.00311274]\n",
      "[1. 0. 0.] <-> [0.982537   0.00798745 0.00947559]\n",
      "[1. 0. 0.] <-> [0.96518975 0.00530626 0.02950408]\n",
      "[1. 0. 0.] <-> [0.9748693  0.00731126 0.01781943]\n",
      "[0. 0. 1.] <-> [0.09495167 0.0010274  0.9040209 ]\n",
      "[1. 0. 0.] <-> [0.9816835  0.00584899 0.0124676 ]\n",
      "[1. 0. 0.] <-> [0.96241355 0.03336314 0.00422337]\n",
      "[1. 0. 0.] <-> [0.9840747  0.01056305 0.00536229]\n",
      "[1. 0. 0.] <-> [0.98240846 0.00863358 0.00895796]\n",
      "[0. 0. 1.] <-> [0.10016564 0.00107102 0.89876336]\n",
      "[1. 0. 0.] <-> [0.9027443  0.08749973 0.00975599]\n",
      "[1. 0. 0.] <-> [0.9745524  0.00761217 0.01783543]\n",
      "[0. 1. 0.] <-> [0.10002226 0.8977077  0.00227004]\n",
      "[1. 0. 0.] <-> [0.9584746  0.00546945 0.03605591]\n",
      "[0. 0. 1.] <-> [0.08756101 0.00096634 0.9114726 ]\n",
      "[1. 0. 0.] <-> [0.98070854 0.00906658 0.01022486]\n",
      "[1. 0. 0.] <-> [0.984869   0.00679929 0.00833171]\n",
      "[0. 0. 1.] <-> [0.08775185 0.00096771 0.91128045]\n",
      "[1. 0. 0.] <-> [0.9838398  0.0081786  0.00798151]\n",
      "[0. 1. 0.] <-> [0.05421767 0.9444375  0.0013448 ]\n",
      "[1. 0. 0.] <-> [0.96689254 0.00561199 0.02749537]\n",
      "[1. 0. 0.] <-> [0.98419845 0.0119074  0.0038942 ]\n",
      "[1. 0. 0.] <-> [0.96091443 0.00684693 0.03223871]\n",
      "[1. 0. 0.] <-> [0.8887376  0.00622701 0.10503536]\n",
      "[0. 0. 1.] <-> [0.09605114 0.00103204 0.9029168 ]\n",
      "[1. 0. 0.] <-> [0.97435284 0.0066598  0.01898738]\n",
      "[1. 0. 0.] <-> [0.98172176 0.00666485 0.01161342]\n",
      "[1. 0. 0.] <-> [0.9844267  0.00563977 0.00993362]\n",
      "[0. 1. 0.] <-> [0.05457711 0.94385195 0.00157098]\n",
      "[1. 0. 0.] <-> [0.9851686  0.00598169 0.00884978]\n",
      "[1. 0. 0.] <-> [0.8923136  0.00712081 0.1005655 ]\n",
      "[0. 0. 1.] <-> [0.6838289  0.00526752 0.31090364]\n",
      "[1. 0. 0.] <-> [0.9285237  0.00595229 0.06552402]\n",
      "[1. 0. 0.] <-> [0.96525216 0.01275935 0.02198854]\n",
      "[1. 0. 0.] <-> [0.9802829  0.00611564 0.01360138]\n",
      "[1. 0. 0.] <-> [0.97789955 0.00795883 0.01414167]\n",
      "[0. 1. 0.] <-> [0.05141633 0.9468615  0.0017221 ]\n",
      "[1. 0. 0.] <-> [0.9784198  0.01376342 0.00781683]\n",
      "[1. 0. 0.] <-> [0.98669076 0.00657232 0.00673701]\n",
      "[0. 1. 0.] <-> [0.19261566 0.7968104  0.01057399]\n",
      "[1. 0. 0.] <-> [0.97809005 0.01424541 0.00766459]\n",
      "[0. 0. 1.] <-> [0.08757659 0.00096646 0.911457  ]\n",
      "[1. 0. 0.] <-> [0.98215044 0.00841442 0.00943516]\n",
      "[1. 0. 0.] <-> [0.94327927 0.00551237 0.0512083 ]\n",
      "[0. 1. 0.] <-> [0.05715454 0.9416274  0.001218  ]\n",
      "[1. 0. 0.] <-> [0.98199123 0.00888921 0.00911954]\n",
      "[1. 0. 0.] <-> [0.9677352  0.00719595 0.02506887]\n",
      "[0. 1. 0.] <-> [0.0556067  0.9431112  0.00128209]\n",
      "[1. 0. 0.] <-> [0.98613596 0.00767341 0.00619062]\n",
      "[1. 0. 0.] <-> [0.9718954  0.00839293 0.01971165]\n",
      "[1. 0. 0.] <-> [0.9727684  0.01556064 0.01167098]\n",
      "[0. 1. 0.] <-> [0.7203526  0.2759065  0.00374094]\n",
      "[0. 0. 1.] <-> [0.09006857 0.00099305 0.9089384 ]\n",
      "[1. 0. 0.] <-> [0.9575112  0.00905605 0.03343277]\n",
      "[1. 0. 0.] <-> [0.8372128  0.00586253 0.15692462]\n",
      "[1. 0. 0.] <-> [0.9768868  0.00674141 0.01637175]\n",
      "[1. 0. 0.] <-> [0.9816808  0.00527545 0.0130438 ]\n",
      "[0. 1. 0.] <-> [0.05519079 0.943509   0.00130017]\n",
      "[1. 0. 0.] <-> [0.9447609  0.00673166 0.04850743]\n",
      "[1. 0. 0.] <-> [0.97230095 0.0058828  0.02181632]\n",
      "[1. 0. 0.] <-> [0.98614234 0.00750253 0.00635512]\n",
      "[1. 0. 0.] <-> [0.9859985  0.00735086 0.00665069]\n",
      "[1. 0. 0.] <-> [0.9662674  0.02825373 0.00547878]\n",
      "[1. 0. 0.] <-> [0.9840844  0.00863213 0.00728345]\n",
      "[0. 0. 1.] <-> [0.1267056  0.00131353 0.8719809 ]\n",
      "[0. 1. 0.] <-> [0.05640908 0.94234264 0.00124829]\n",
      "[1. 0. 0.] <-> [0.97773767 0.00709559 0.01516682]\n",
      "[1. 0. 0.] <-> [0.9486828  0.00569712 0.04562011]\n",
      "[1. 0. 0.] <-> [0.92801243 0.06458183 0.00740576]\n",
      "[0. 1. 0.] <-> [0.05346976 0.94513667 0.0013935 ]\n",
      "[0. 0. 1.] <-> [0.08848768 0.00097466 0.91053766]\n",
      "[1. 0. 0.] <-> [0.9876795  0.00799407 0.00432636]\n",
      "[1. 0. 0.] <-> [0.97878003 0.00609795 0.01512204]\n",
      "[1. 0. 0.] <-> [0.82122177 0.00538894 0.17338926]\n",
      "[1. 0. 0.] <-> [0.93373686 0.00640662 0.05985659]\n",
      "[0. 0. 1.] <-> [0.08758461 0.00096658 0.9114488 ]\n",
      "[0. 1. 0.] <-> [0.05148588 0.9470326  0.00148147]\n",
      "[0. 0. 1.] <-> [0.08756071 0.00096634 0.9114729 ]\n",
      "[1. 0. 0.] <-> [0.954889   0.00635798 0.03875303]\n",
      "[1. 0. 0.] <-> [0.97583514 0.00676569 0.01739918]\n",
      "[0. 1. 0.] <-> [0.2920353  0.7032934  0.00467127]\n",
      "[0. 0. 1.] <-> [0.08756801 0.0009664  0.9114656 ]\n",
      "[0. 1. 0.] <-> [0.54523826 0.44965997 0.00510173]\n",
      "[1. 0. 0.] <-> [0.9833575  0.00671944 0.00992304]\n",
      "{'accuracy': 0.9691358024691358, 'mean_square_error': 0.05542408694885684, 'categorical_crossentropy': 0.11208064467818649, 'precision': 0.9537037037037037, 'recall': 0.9537037037037037, 'f1': 0.9537037037037037, 'essential_metrics': {0: {'tp_hit': 75, 'fp_hit': 4, 'tn_hit': 28, 'fn_hit': 1}, 1: {'tp_hit': 15, 'fp_hit': 0, 'tn_hit': 91, 'fn_hit': 2}, 2: {'tp_hit': 13, 'fp_hit': 1, 'tn_hit': 92, 'fn_hit': 2}}}\n"
     ]
    }
   ],
   "source": [
    "# recall phase\n",
    "score = model.evaluate(x_test, y_test, False)\n",
    "print(score)"
   ]
  },
  {
   "cell_type": "code",
   "execution_count": 12,
   "metadata": {},
   "outputs": [],
   "source": [
    "# Testing Performance"
   ]
  },
  {
   "cell_type": "code",
   "execution_count": 13,
   "metadata": {},
   "outputs": [
    {
     "data": {
      "image/png": "[encoded data removed]",
      "text/plain": [
       "<Figure size 864x360 with 1 Axes>"
      ]
     },
     "metadata": {
      "needs_background": "light"
     },
     "output_type": "display_data"
    },
    {
     "data": {
      "image/png": "[encoded data removed]",
      "text/plain": [
       "<Figure size 864x360 with 1 Axes>"
      ]
     },
     "metadata": {
      "needs_background": "light"
     },
     "output_type": "display_data"
    }
   ],
   "source": [
    "draw_plot(x = [[i for i in range(len(history))], [(i+1)*breakpoint for i in range(len(checkpoints))]], y_list = [history, [ ckp[model.loss_fn] for ckp in checkpoints ]], x_label = 'Epochs', \\\n",
    "    y_label = model.loss_fn, legend=['train', 'test'])\n",
    "acc = [ ckp['accuracy'] for ckp in checkpoints ]\n",
    "draw_plot(x = [[(i+1)*breakpoint for i in range(len(checkpoints))]], y_list = [acc], x_label = 'Checkpoints', \\\n",
    "    y_label = 'accuracy')"
   ]
  },
  {
   "cell_type": "code",
   "execution_count": 14,
   "metadata": {
    "scrolled": false
   },
   "outputs": [
    {
     "name": "stdout",
     "output_type": "stream",
     "text": [
      "{'accuracy': 0.9753086419753086, 'mean_square_error': 0.07771967179214985, 'categorical_crossentropy': 0.16491805182562935, 'precision': 0.9629629629629629, 'recall': 0.9629629629629629, 'f1': 0.9629629629629629, 'essential_metrics': {0: {'tp_hit': 75, 'fp_hit': 3, 'tn_hit': 29, 'fn_hit': 1}, 1: {'tp_hit': 15, 'fp_hit': 0, 'tn_hit': 91, 'fn_hit': 2}, 2: {'tp_hit': 14, 'fp_hit': 1, 'tn_hit': 92, 'fn_hit': 1}}, 'checkpoint': 100} \n",
      "\n",
      "\n",
      "{'accuracy': 0.9753086419753086, 'mean_square_error': 0.06317951165282991, 'categorical_crossentropy': 0.13931590539437752, 'precision': 0.9629629629629629, 'recall': 0.9629629629629629, 'f1': 0.9629629629629629, 'essential_metrics': {0: {'tp_hit': 75, 'fp_hit': 3, 'tn_hit': 29, 'fn_hit': 1}, 1: {'tp_hit': 15, 'fp_hit': 0, 'tn_hit': 91, 'fn_hit': 2}, 2: {'tp_hit': 14, 'fp_hit': 1, 'tn_hit': 92, 'fn_hit': 1}}, 'checkpoint': 200} \n",
      "\n",
      "\n",
      "{'accuracy': 0.9691358024691358, 'mean_square_error': 0.05643977506022683, 'categorical_crossentropy': 0.12485076763011792, 'precision': 0.9537037037037037, 'recall': 0.9537037037037037, 'f1': 0.9537037037037037, 'essential_metrics': {0: {'tp_hit': 75, 'fp_hit': 4, 'tn_hit': 28, 'fn_hit': 1}, 1: {'tp_hit': 14, 'fp_hit': 0, 'tn_hit': 91, 'fn_hit': 3}, 2: {'tp_hit': 14, 'fp_hit': 1, 'tn_hit': 92, 'fn_hit': 1}}, 'checkpoint': 300} \n",
      "\n",
      "\n",
      "{'accuracy': 0.9753086419753086, 'mean_square_error': 0.052609003258697926, 'categorical_crossentropy': 0.11370917602821633, 'precision': 0.9629629629629629, 'recall': 0.9629629629629629, 'f1': 0.9629629629629629, 'essential_metrics': {0: {'tp_hit': 75, 'fp_hit': 3, 'tn_hit': 29, 'fn_hit': 1}, 1: {'tp_hit': 15, 'fp_hit': 0, 'tn_hit': 91, 'fn_hit': 2}, 2: {'tp_hit': 14, 'fp_hit': 1, 'tn_hit': 92, 'fn_hit': 1}}, 'checkpoint': 400} \n",
      "\n",
      "\n",
      "{'accuracy': 0.9691358024691358, 'mean_square_error': 0.05542408694885684, 'categorical_crossentropy': 0.11208064467818649, 'precision': 0.9537037037037037, 'recall': 0.9537037037037037, 'f1': 0.9537037037037037, 'essential_metrics': {0: {'tp_hit': 75, 'fp_hit': 4, 'tn_hit': 28, 'fn_hit': 1}, 1: {'tp_hit': 15, 'fp_hit': 0, 'tn_hit': 91, 'fn_hit': 2}, 2: {'tp_hit': 13, 'fp_hit': 1, 'tn_hit': 92, 'fn_hit': 2}}, 'checkpoint': 500} \n",
      "\n",
      "\n"
     ]
    }
   ],
   "source": [
    "for checkpoint in checkpoints:\n",
    "    print(checkpoint, '\\n\\n')"
   ]
  },
  {
   "cell_type": "code",
   "execution_count": 15,
   "metadata": {},
   "outputs": [
    {
     "name": "stdout",
     "output_type": "stream",
     "text": [
      "Layer 1\n",
      "Neuron 0: weights:\n",
      "[-0.01534451 -0.27592394 -0.08325083  1.9720838   1.3757577 ]\n",
      " bias: 1.1609382629394531\n",
      "\n",
      "Neuron 1: weights:\n",
      "[-0.48044857  2.563208    1.2408546  -0.9860114  -2.1727812 ]\n",
      " bias: 2.6670875549316406\n",
      "\n",
      "Neuron 2: weights:\n",
      "[ 1.798125  -2.4357316 -1.0209012  1.1397172  1.3822147]\n",
      " bias: 2.7080588340759277\n",
      "\n",
      "Neuron 3: weights:\n",
      "[ 0.97433347 -2.5071888  -2.8340135  -0.18031937  1.410877  ]\n",
      " bias: 2.9326040744781494\n",
      "\n",
      "$\n",
      "Layer 2\n",
      "Neuron 0: weights:\n",
      "[-1.8427018  2.9814641  1.1456152  2.573721 ]\n",
      " bias: -2.863002300262451\n",
      "\n",
      "Neuron 1: weights:\n",
      "[-0.5769117  2.7231112 -1.8336034 -3.       ]\n",
      " bias: -0.08242649585008621\n",
      "\n",
      "Neuron 2: weights:\n",
      "[ 1.5988728 -3.         2.6410751 -1.3929657]\n",
      " bias: -1.4906190633773804\n",
      "\n",
      "$\n",
      "\n"
     ]
    }
   ],
   "source": [
    "print(model)"
   ]
  }
 ],
 "metadata": {
  "kernelspec": {
   "display_name": "Python 3",
   "language": "python",
   "name": "python3"
  },
  "language_info": {
   "codemirror_mode": {
    "name": "ipython",
    "version": 3
   },
   "file_extension": ".py",
   "mimetype": "text/x-python",
   "name": "python",
   "nbconvert_exporter": "python",
   "pygments_lexer": "ipython3",
   "version": "3.6.12"
  }
 },
 "nbformat": 4,
 "nbformat_minor": 2
}
