{
 "cells": [
  {
   "cell_type": "code",
   "execution_count": 1,
   "metadata": {},
   "outputs": [],
   "source": [
    "# two"
   ]
  },
  {
   "cell_type": "code",
   "execution_count": 2,
   "metadata": {},
   "outputs": [],
   "source": [
    "# dependency\n",
    "import numpy as np\n",
    "import pandas as pd\n",
    "import copy\n",
    "import math\n",
    "import sys\n",
    "import os\n",
    "from activations import relu, leaky_relu, sigmoid, tanh, softmax, d_sigmoid, d_relu\n",
    "from initializers import glorot_uniform, random_normal, random_uniform\n",
    "from regularizers import l1_regularizer, l2_regularizer\n",
    "from utility import trim_tail, multiply, subtract, get_nparams, one_hot_encoding, get_data\n",
    "from metrics import MSE, CCE, ACC, PRECISION, RECALL, essential_metrics, wondering_penalty, close_gap_penalty\n",
    "from pso import PSO\n",
    "from ga import GA\n",
    "from nn import Network\n",
    "from layer import DenseLayer\n",
    "from scalers import MinMaxScaler, StandardScaler"
   ]
  },
  {
   "cell_type": "code",
   "execution_count": 3,
   "metadata": {},
   "outputs": [],
   "source": [
    "# reference\n",
    "metrics_fn_dict = dict()\n",
    "metrics_fn_dict['accuracy'] = ACC\n",
    "metrics_fn_dict['categorical_crossentropy'] = CCE\n",
    "metrics_fn_dict['mean_square_error'] = MSE\n",
    "metrics_fn_dict['precision'] = PRECISION\n",
    "metrics_fn_dict['recall'] = RECALL\n",
    "metrics_fn_dict['essential_metrics'] = essential_metrics"
   ]
  },
  {
   "cell_type": "code",
   "execution_count": 4,
   "metadata": {},
   "outputs": [],
   "source": [
    "# model\n",
    "model = Network(5, lr = None)\n",
    "model.add_layer(DenseLayer(1, 4, True, afn=sigmoid, dafn=None, rfn=None))\n",
    "model.add_layer(DenseLayer(2, 3, True, afn=softmax, dafn=None, rfn=None))"
   ]
  },
  {
   "cell_type": "code",
   "execution_count": 5,
   "metadata": {},
   "outputs": [],
   "source": [
    "# optimizer\n",
    "ga = GA(\n",
    "    dict(\n",
    "        m = 50,\n",
    "        x_rate = [0.5, 1.0],\n",
    "        m_rate = [0.5, 1.0],\n",
    "        weight_constraint = [-3.,3.],\n",
    "        radioactive_rating = [0.1, 0.5],\n",
    "        grow_factor = [0.1, 0.5],\n",
    "        scale_hyperparameter = False,\n",
    "        regularizer = None))"
   ]
  },
  {
   "cell_type": "code",
   "execution_count": 6,
   "metadata": {},
   "outputs": [
    {
     "name": "stdout",
     "output_type": "stream",
     "text": [
      "building layer 1 with 5\n",
      "24\n",
      "building layer 2 with 4\n",
      "15\n"
     ]
    }
   ],
   "source": [
    "model.compile(loss_fn = 'categorical_crossentropy', optimizer = ga, \\\n",
    "    metrics = ['accuracy', 'mean_square_error', 'categorical_crossentropy', 'precision', 'recall', 'f1'])"
   ]
  },
  {
   "cell_type": "code",
   "execution_count": 7,
   "metadata": {},
   "outputs": [
    {
     "name": "stdout",
     "output_type": "stream",
     "text": [
      "<class 'pandas.core.frame.DataFrame'>\n",
      "RangeIndex: 107 entries, 0 to 106\n",
      "Data columns (total 6 columns):\n",
      " #   Column  Non-Null Count  Dtype  \n",
      "---  ------  --------------  -----  \n",
      " 0   f1      107 non-null    float32\n",
      " 1   f2      107 non-null    float32\n",
      " 2   f3      107 non-null    float32\n",
      " 3   f4      107 non-null    float32\n",
      " 4   f5      107 non-null    float32\n",
      " 5   label   107 non-null    float32\n",
      "dtypes: float32(6)\n",
      "memory usage: 2.6 KB\n",
      "None\n",
      "<class 'pandas.core.frame.DataFrame'>\n",
      "RangeIndex: 108 entries, 0 to 107\n",
      "Data columns (total 6 columns):\n",
      " #   Column  Non-Null Count  Dtype  \n",
      "---  ------  --------------  -----  \n",
      " 0   f1      108 non-null    float32\n",
      " 1   f2      108 non-null    float32\n",
      " 2   f3      108 non-null    float32\n",
      " 3   f4      108 non-null    float32\n",
      " 4   f5      108 non-null    float32\n",
      " 5   label   108 non-null    float32\n",
      "dtypes: float32(6)\n",
      "memory usage: 2.7 KB\n",
      "None\n"
     ]
    }
   ],
   "source": [
    "# data loading\n",
    "DATA = os.path.join('c:\\\\Users\\\\tcumi\\\\github_repo\\\\neural-network\\\\', 'dataset')\n",
    "GROUP = 3\n",
    "COLUMNS = ['f1', 'f2', 'f3', 'f4', 'f5', 'label']\n",
    "N_CLASS = 3\n",
    "EPOCHS = 500\n",
    "train_dir, test_dir = \"..//dataset//training_data{}.txt\".format(GROUP), \"..//dataset//testing_data{}.txt\".format(GROUP)\n",
    "train, test = get_data(DATA, train_dir, COLUMNS), get_data(DATA, test_dir, COLUMNS)\n",
    "# shuffle\n",
    "train, test = train.sample(frac=1), test.sample(frac=1)\n",
    "x_train, y_train = train.drop('label', axis=1), train['label']\n",
    "x_test, y_test = test.drop('label', axis=1), test['label']"
   ]
  },
  {
   "cell_type": "code",
   "execution_count": 8,
   "metadata": {},
   "outputs": [],
   "source": [
    "# data scaling and encoding\n",
    "scaler = StandardScaler(['f1', 'f2', 'f3', 'f4', 'f5'])\n",
    "scaler.fit(x_train)\n",
    "x_train = scaler.transform(x_train)\n",
    "x_test = scaler.transform(x_test)\n",
    "y_train = one_hot_encoding(y_train, N_CLASS)\n",
    "y_test = one_hot_encoding(y_test, N_CLASS)"
   ]
  },
  {
   "cell_type": "code",
   "execution_count": 9,
   "metadata": {
    "scrolled": true,
    "tags": [
     "outputPrepend"
    ]
   },
   "outputs": [
    {
     "name": "stderr",
     "output_type": "stream",
     "text": [
      "C:\\Users\\tcumi\\github_repo\\neural-network\\python\\ga.py:201: RuntimeWarning: overflow encountered in add\n",
      "  self.population.sort(key=lambda p: p.fitness + np.random.uniform(-shift, shift, 1), reverse = self.aim)\n"
     ]
    },
    {
     "name": "stdout",
     "output_type": "stream",
     "text": [
      "Checkpoint 100, Accuracy: 0.9444444444444444, Loss: 0.2781509646662959\n",
      "Checkpoint 200, Accuracy: 0.9506172839506173, Loss: 0.2489858556676794\n",
      "Checkpoint 300, Accuracy: 0.9691358024691358, Loss: 0.20077489923547814\n",
      "Checkpoint 400, Accuracy: 0.9567901234567902, Loss: 0.16517914666069877\n",
      "Checkpoint 500, Accuracy: 0.9691358024691358, Loss: 0.1200823254055447\n"
     ]
    }
   ],
   "source": [
    "# learning phase\n",
    "breakpoint = 100\n",
    "checkpoints = list()\n",
    "history = list()\n",
    "for century in range(0, EPOCHS, breakpoint):\n",
    "    sub_history = model.fit(x_train, y_train, breakpoint, verbose = 0)\n",
    "    score = model.evaluate(x_test, y_test, False, verbose = 0)\n",
    "    print('Checkpoint {}, Accuracy: {}, Loss: {}'.format(century+breakpoint, score['accuracy'], score[model.loss_fn]))\n",
    "    score['checkpoint'] = century + breakpoint\n",
    "    checkpoints.append(score)\n",
    "    history.extend(sub_history)\n",
    "    itr = century + breakpoint\n",
    "\n",
    "    model.optimizer.rr = model.optimizer.radioactive_rating[1] - (model.optimizer.radioactive_rating[1] - model.optimizer.radioactive_rating[0]) / EPOCHS * (EPOCHS - itr)\n",
    "    model.optimizer.gf = model.optimizer.grow_factor[1] - (model.optimizer.grow_factor[1] - model.optimizer.grow_factor[0]) / EPOCHS * (EPOCHS - itr)\n",
    "    model.optimizer.crossover_rate = model.optimizer.x_rate[1] - (model.optimizer.x_rate[1] - model.optimizer.x_rate[0]) / EPOCHS * (EPOCHS - itr)\n",
    "    model.optimizer.mutation_rate = model.optimizer.m_rate[0] + (model.optimizer.m_rate[1] - model.optimizer.m_rate[0]) / EPOCHS * (EPOCHS - itr)\n",
    "    "
   ]
  },
  {
   "cell_type": "code",
   "execution_count": 10,
   "metadata": {},
   "outputs": [],
   "source": [
    "import matplotlib.pyplot as plt\n",
    "\n",
    "def draw_plot(x, y_list, x_label=None, y_label=None, legend=None, title=None):\n",
    "    fig, ax = plt.subplots(figsize=(12,5))\n",
    "    for xi, yi in zip(x, y_list):\n",
    "        ax.plot(xi, yi)\n",
    "    if x_label is not None and y_label is not None:\n",
    "        ax.set(xlabel=x_label, ylabel=y_label, title='{} VS {}'.format(x_label, y_label))\n",
    "    if legend is not None:\n",
    "        ax.legend(legend)\n",
    "    ax.grid()\n",
    "    plt.show()"
   ]
  },
  {
   "cell_type": "code",
   "execution_count": 11,
   "metadata": {},
   "outputs": [
    {
     "name": "stdout",
     "output_type": "stream",
     "text": [
      "[1. 0. 0.] <-> [0.97295153 0.00808768 0.01896084]\n",
      "[1. 0. 0.] <-> [0.9685758  0.00801768 0.02340657]\n",
      "[1. 0. 0.] <-> [0.9767196  0.01186805 0.01141244]\n",
      "[1. 0. 0.] <-> [0.9669213  0.01713802 0.01594074]\n",
      "[1. 0. 0.] <-> [0.95349663 0.00684843 0.03965482]\n",
      "[1. 0. 0.] <-> [0.97924876 0.00840852 0.01234283]\n",
      "[0. 0. 1.] <-> [0.08162306 0.00223225 0.91614467]\n",
      "[1. 0. 0.] <-> [0.9727879  0.00732485 0.01988726]\n",
      "[1. 0. 0.] <-> [0.9723908  0.00808929 0.01951988]\n",
      "[1. 0. 0.] <-> [0.95853984 0.01145638 0.03000377]\n",
      "[1. 0. 0.] <-> [0.97833335 0.00807765 0.01358898]\n",
      "[1. 0. 0.] <-> [0.92875737 0.01405784 0.05718475]\n",
      "[1. 0. 0.] <-> [0.9587021  0.00705239 0.03424549]\n",
      "[1. 0. 0.] <-> [0.9740093  0.00857968 0.0174111 ]\n",
      "[0. 1. 0.] <-> [0.00957409 0.98932767 0.00109825]\n",
      "[0. 1. 0.] <-> [0.00951914 0.9894097  0.00107119]\n",
      "[0. 0. 1.] <-> [0.04902235 0.00126814 0.9497095 ]\n",
      "[1. 0. 0.] <-> [0.97486997 0.01068129 0.01444873]\n",
      "[0. 1. 0.] <-> [0.01610451 0.98217034 0.00172506]\n",
      "[0. 1. 0.] <-> [0.00944591 0.98952544 0.00102862]\n",
      "[1. 0. 0.] <-> [0.9641966  0.00667667 0.02912667]\n",
      "[0. 1. 0.] <-> [0.01062563 0.98803455 0.00133983]\n",
      "[0. 0. 1.] <-> [0.1633991  0.00468425 0.83191663]\n",
      "[0. 0. 1.] <-> [0.04951349 0.00120198 0.9492845 ]\n",
      "[0. 1. 0.] <-> [0.06441073 0.9312692  0.00431996]\n",
      "[0. 0. 1.] <-> [0.05044251 0.0012343  0.9483232 ]\n",
      "[1. 0. 0.] <-> [0.9407727  0.00790676 0.0513206 ]\n",
      "[1. 0. 0.] <-> [0.7798396  0.00781523 0.21234521]\n",
      "[1. 0. 0.] <-> [0.93132603 0.00848372 0.06019032]\n",
      "[1. 0. 0.] <-> [0.95218164 0.03270873 0.01510961]\n",
      "[0. 1. 0.] <-> [0.00950347 0.9894357  0.0010608 ]\n",
      "[1. 0. 0.] <-> [0.95442486 0.01392179 0.03165337]\n",
      "[1. 0. 0.] <-> [0.96551424 0.02102229 0.01346354]\n",
      "[1. 0. 0.] <-> [0.9735565  0.00766463 0.01877885]\n",
      "[0. 1. 0.] <-> [0.27940896 0.70889723 0.01169373]\n",
      "[1. 0. 0.] <-> [0.96215975 0.02049545 0.01734476]\n",
      "[1. 0. 0.] <-> [0.9746943  0.00650578 0.01879999]\n",
      "[1. 0. 0.] <-> [0.6824411  0.2959468  0.02161209]\n",
      "[1. 0. 0.] <-> [0.954769   0.01857363 0.0266574 ]\n",
      "[0. 0. 1.] <-> [0.05076154 0.00123903 0.9479994 ]\n",
      "[1. 0. 0.] <-> [0.9381217  0.00667775 0.0552006 ]\n",
      "[1. 0. 0.] <-> [0.68656796 0.28151682 0.0319152 ]\n",
      "[0. 0. 1.] <-> [0.12581022 0.00266766 0.8715221 ]\n",
      "[0. 0. 1.] <-> [0.51702213 0.00815263 0.47482526]\n",
      "[1. 0. 0.] <-> [0.97323495 0.00966492 0.01710007]\n",
      "[1. 0. 0.] <-> [0.97640216 0.01192283 0.01167498]\n",
      "[1. 0. 0.] <-> [0.95346314 0.00855193 0.03798497]\n",
      "[1. 0. 0.] <-> [0.97724426 0.00774599 0.01500973]\n",
      "[0. 0. 1.] <-> [0.8195608  0.00745774 0.17298141]\n",
      "[1. 0. 0.] <-> [0.94043046 0.02316586 0.03640363]\n",
      "[1. 0. 0.] <-> [0.9602331  0.00828431 0.03148261]\n",
      "[0. 0. 1.] <-> [0.04919982 0.00120919 0.949591  ]\n",
      "[1. 0. 0.] <-> [0.95383316 0.0070587  0.03910803]\n",
      "[1. 0. 0.] <-> [0.9460157  0.00722343 0.04676084]\n",
      "[0. 1. 0.] <-> [0.050394   0.945698   0.00390798]\n",
      "[0. 1. 0.] <-> [0.17094594 0.82201225 0.00704177]\n",
      "[1. 0. 0.] <-> [0.95315224 0.00789378 0.03895408]\n",
      "[1. 0. 0.] <-> [0.97650063 0.01099516 0.01250414]\n",
      "[0. 1. 0.] <-> [0.00970687 0.98917097 0.00112208]\n",
      "[1. 0. 0.] <-> [0.97234565 0.01562914 0.01202516]\n",
      "[1. 0. 0.] <-> [0.9664873  0.01089959 0.02261315]\n",
      "[1. 0. 0.] <-> [0.97878873 0.00993246 0.01127885]\n",
      "[1. 0. 0.] <-> [0.9560075  0.00732261 0.03666995]\n",
      "[1. 0. 0.] <-> [0.97325474 0.01019592 0.01654931]\n",
      "[1. 0. 0.] <-> [0.8792222  0.01003605 0.11074183]\n",
      "[1. 0. 0.] <-> [0.35497934 0.63165885 0.01336178]\n",
      "[1. 0. 0.] <-> [0.9718242  0.0093792  0.01879654]\n",
      "[1. 0. 0.] <-> [0.9804858  0.00746414 0.01205002]\n",
      "[0. 1. 0.] <-> [0.0099922  0.98888373 0.00112406]\n",
      "[1. 0. 0.] <-> [0.97941303 0.00985579 0.01073123]\n",
      "[1. 0. 0.] <-> [0.976214   0.00872615 0.01505979]\n",
      "[1. 0. 0.] <-> [0.95520604 0.02923647 0.01555752]\n",
      "[1. 0. 0.] <-> [0.97116953 0.0072743  0.02155612]\n",
      "[1. 0. 0.] <-> [0.96425945 0.00811662 0.02762389]\n",
      "[1. 0. 0.] <-> [0.98022604 0.00743835 0.01233564]\n",
      "[1. 0. 0.] <-> [0.9653867  0.02342064 0.01119263]\n",
      "[1. 0. 0.] <-> [0.970641   0.01178555 0.01757341]\n",
      "[1. 0. 0.] <-> [0.9722359  0.01036894 0.01739509]\n",
      "[1. 0. 0.] <-> [0.9159929  0.06254931 0.0214578 ]\n",
      "[1. 0. 0.] <-> [0.96739364 0.01082608 0.02178024]\n",
      "[1. 0. 0.] <-> [0.96984696 0.01687488 0.01327811]\n",
      "[1. 0. 0.] <-> [0.96233326 0.00865571 0.0290111 ]\n",
      "[0. 1. 0.] <-> [0.04050448 0.9552414  0.00425414]\n",
      "[0. 0. 1.] <-> [0.5587782  0.0067869  0.43443483]\n",
      "[1. 0. 0.] <-> [0.904201   0.07722064 0.01857834]\n",
      "[0. 0. 1.] <-> [0.05494072 0.00139008 0.94366926]\n",
      "[1. 0. 0.] <-> [0.9723346  0.01277189 0.01489339]\n",
      "[0. 1. 0.] <-> [0.00939065 0.9896131  0.00099621]\n",
      "[1. 0. 0.] <-> [0.24442612 0.7409243  0.01464964]\n",
      "[1. 0. 0.] <-> [0.9373538  0.00805813 0.05458804]\n",
      "[1. 0. 0.] <-> [0.96549356 0.01124042 0.02326606]\n",
      "[1. 0. 0.] <-> [0.9595522  0.00742337 0.03302437]\n",
      "[1. 0. 0.] <-> [0.8725603  0.00831977 0.11911985]\n",
      "[1. 0. 0.] <-> [0.9685514  0.00929924 0.02214933]\n",
      "[0. 1. 0.] <-> [0.10555949 0.8885699  0.00587062]\n",
      "[1. 0. 0.] <-> [0.9705151  0.0090058  0.02047924]\n",
      "[0. 1. 0.] <-> [0.04007582 0.95734227 0.00258196]\n",
      "[1. 0. 0.] <-> [0.97491586 0.00765926 0.01742483]\n",
      "[0. 0. 1.] <-> [0.05233315 0.00132421 0.9463426 ]\n",
      "[1. 0. 0.] <-> [0.9469341  0.00801591 0.0450499 ]\n",
      "[1. 0. 0.] <-> [0.8957682  0.08448016 0.01975163]\n",
      "[1. 0. 0.] <-> [0.52918595 0.44585207 0.02496199]\n",
      "[1. 0. 0.] <-> [0.95650125 0.02439809 0.01910057]\n",
      "[1. 0. 0.] <-> [0.7707568  0.20008294 0.02916033]\n",
      "[1. 0. 0.] <-> [0.79653805 0.00994992 0.1935121 ]\n",
      "[1. 0. 0.] <-> [0.9600141  0.0272532  0.01273261]\n",
      "[1. 0. 0.] <-> [0.9040286  0.0059075  0.09006383]\n",
      "[0. 0. 1.] <-> [0.2467985  0.00381404 0.74938744]\n",
      "{'accuracy': 0.9691358024691358, 'mean_square_error': 0.05857449382584871, 'categorical_crossentropy': 0.1200823254055447, 'precision': 0.9537037037037037, 'recall': 0.9537037037037037, 'f1': 0.9537037037037037, 'essential_metrics': {0: {'tp_hit': 76, 'fp_hit': 3, 'tn_hit': 27, 'fn_hit': 2}, 1: {'tp_hit': 16, 'fp_hit': 2, 'tn_hit': 90, 'fn_hit': 0}, 2: {'tp_hit': 11, 'fp_hit': 0, 'tn_hit': 94, 'fn_hit': 3}}}\n"
     ]
    }
   ],
   "source": [
    "# recall phase\n",
    "score = model.evaluate(x_test, y_test, False)\n",
    "print(score)"
   ]
  },
  {
   "cell_type": "code",
   "execution_count": 12,
   "metadata": {},
   "outputs": [],
   "source": [
    "# Testing Performance"
   ]
  },
  {
   "cell_type": "code",
   "execution_count": 13,
   "metadata": {},
   "outputs": [
    {
     "data": {
      "image/png": "[encoded data removed]",
      "text/plain": [
       "<Figure size 864x360 with 1 Axes>"
      ]
     },
     "metadata": {
      "needs_background": "light"
     },
     "output_type": "display_data"
    },
    {
     "data": {
      "image/png": "[encoded data removed]",
      "text/plain": [
       "<Figure size 864x360 with 1 Axes>"
      ]
     },
     "metadata": {
      "needs_background": "light"
     },
     "output_type": "display_data"
    }
   ],
   "source": [
    "draw_plot(x = [[i for i in range(len(history))], [(i+1)*breakpoint for i in range(len(checkpoints))]], y_list = [history, [ ckp[model.loss_fn] for ckp in checkpoints ]], x_label = 'Epochs', \\\n",
    "    y_label = model.loss_fn, legend=['train', 'test'])\n",
    "acc = [ ckp['accuracy'] for ckp in checkpoints ]\n",
    "draw_plot(x = [[(i+1)*breakpoint for i in range(len(checkpoints))]], y_list = [acc], x_label = 'Checkpoints', \\\n",
    "    y_label = 'accuracy')"
   ]
  },
  {
   "cell_type": "code",
   "execution_count": 14,
   "metadata": {
    "scrolled": false
   },
   "outputs": [
    {
     "name": "stdout",
     "output_type": "stream",
     "text": [
      "{'accuracy': 0.9444444444444444, 'mean_square_error': 0.13383974895350095, 'categorical_crossentropy': 0.2781509646662959, 'precision': 0.9166666666666666, 'recall': 0.9166666666666666, 'f1': 0.9166666666666666, 'essential_metrics': {0: {'tp_hit': 77, 'fp_hit': 8, 'tn_hit': 22, 'fn_hit': 1}, 1: {'tp_hit': 13, 'fp_hit': 1, 'tn_hit': 91, 'fn_hit': 3}, 2: {'tp_hit': 9, 'fp_hit': 0, 'tn_hit': 94, 'fn_hit': 5}}, 'checkpoint': 100} \n",
      "\n",
      "\n",
      "{'accuracy': 0.9506172839506173, 'mean_square_error': 0.1190299123282555, 'categorical_crossentropy': 0.2489858556676794, 'precision': 0.9259259259259259, 'recall': 0.9259259259259259, 'f1': 0.9259259259259259, 'essential_metrics': {0: {'tp_hit': 77, 'fp_hit': 7, 'tn_hit': 23, 'fn_hit': 1}, 1: {'tp_hit': 14, 'fp_hit': 1, 'tn_hit': 91, 'fn_hit': 2}, 2: {'tp_hit': 9, 'fp_hit': 0, 'tn_hit': 94, 'fn_hit': 5}}, 'checkpoint': 200} \n",
      "\n",
      "\n",
      "{'accuracy': 0.9691358024691358, 'mean_square_error': 0.09806851771396108, 'categorical_crossentropy': 0.20077489923547814, 'precision': 0.9537037037037037, 'recall': 0.9537037037037037, 'f1': 0.9537037037037037, 'essential_metrics': {0: {'tp_hit': 77, 'fp_hit': 4, 'tn_hit': 26, 'fn_hit': 1}, 1: {'tp_hit': 16, 'fp_hit': 1, 'tn_hit': 91, 'fn_hit': 0}, 2: {'tp_hit': 10, 'fp_hit': 0, 'tn_hit': 94, 'fn_hit': 4}}, 'checkpoint': 300} \n",
      "\n",
      "\n",
      "{'accuracy': 0.9567901234567902, 'mean_square_error': 0.08469264855381146, 'categorical_crossentropy': 0.16517914666069877, 'precision': 0.9351851851851852, 'recall': 0.9351851851851852, 'f1': 0.9351851851851852, 'essential_metrics': {0: {'tp_hit': 75, 'fp_hit': 4, 'tn_hit': 26, 'fn_hit': 3}, 1: {'tp_hit': 16, 'fp_hit': 3, 'tn_hit': 89, 'fn_hit': 0}, 2: {'tp_hit': 10, 'fp_hit': 0, 'tn_hit': 94, 'fn_hit': 4}}, 'checkpoint': 400} \n",
      "\n",
      "\n",
      "{'accuracy': 0.9691358024691358, 'mean_square_error': 0.05857449382584871, 'categorical_crossentropy': 0.1200823254055447, 'precision': 0.9537037037037037, 'recall': 0.9537037037037037, 'f1': 0.9537037037037037, 'essential_metrics': {0: {'tp_hit': 76, 'fp_hit': 3, 'tn_hit': 27, 'fn_hit': 2}, 1: {'tp_hit': 16, 'fp_hit': 2, 'tn_hit': 90, 'fn_hit': 0}, 2: {'tp_hit': 11, 'fp_hit': 0, 'tn_hit': 94, 'fn_hit': 3}}, 'checkpoint': 500} \n",
      "\n",
      "\n"
     ]
    }
   ],
   "source": [
    "for checkpoint in checkpoints:\n",
    "    print(checkpoint, '\\n\\n')"
   ]
  },
  {
   "cell_type": "code",
   "execution_count": 15,
   "metadata": {},
   "outputs": [
    {
     "name": "stdout",
     "output_type": "stream",
     "text": [
      "Layer 1\n",
      "Neuron 0: weights:\n",
      "[-1.2877702  1.6041563  1.6761672  2.5174634 -2.209399 ]\n",
      " bias: -1.813650369644165\n",
      "\n",
      "Neuron 1: weights:\n",
      "[-0.69650817  3.          0.15047722 -2.4434035  -1.684721  ]\n",
      " bias: 2.6951568126678467\n",
      "\n",
      "Neuron 2: weights:\n",
      "[-1.0682458 -0.9973099 -0.9925901  2.4147723  0.7133838]\n",
      " bias: -0.24056732654571533\n",
      "\n",
      "Neuron 3: weights:\n",
      "[ 1.6288416 -2.9714262 -2.990292  -0.7031682  2.0675392]\n",
      " bias: 3.0\n",
      "\n",
      "$\n",
      "Layer 2\n",
      "Neuron 0: weights:\n",
      "[-1.9378268   2.9941702  -0.39918894  3.        ]\n",
      " bias: -2.567976713180542\n",
      "\n",
      "Neuron 1: weights:\n",
      "[ 1.7259113  1.2653139 -0.8437206 -3.       ]\n",
      " bias: 0.15766401588916779\n",
      "\n",
      "Neuron 2: weights:\n",
      "[-0.68631166 -3.          1.4661398   1.6027023 ]\n",
      " bias: -0.07990887761116028\n",
      "\n",
      "$\n",
      "\n"
     ]
    }
   ],
   "source": [
    "print(model)"
   ]
  }
 ],
 "metadata": {
  "kernelspec": {
   "display_name": "Python 3",
   "language": "python",
   "name": "python3"
  },
  "language_info": {
   "codemirror_mode": {
    "name": "ipython",
    "version": 3
   },
   "file_extension": ".py",
   "mimetype": "text/x-python",
   "name": "python",
   "nbconvert_exporter": "python",
   "pygments_lexer": "ipython3",
   "version": "3.6.10"
  }
 },
 "nbformat": 4,
 "nbformat_minor": 2
}
