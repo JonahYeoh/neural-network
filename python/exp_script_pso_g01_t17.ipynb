{
 "cells": [
  {
   "cell_type": "code",
   "execution_count": 1,
   "metadata": {},
   "outputs": [],
   "source": [
    "# dependency\n",
    "import numpy as np\n",
    "import pandas as pd\n",
    "import copy\n",
    "import math\n",
    "import sys\n",
    "import os\n",
    "from activations import relu, leaky_relu, sigmoid, tanh, softmax, d_sigmoid, d_relu\n",
    "from initializers import glorot_uniform, random_normal, random_uniform\n",
    "from regularizers import l1_regularizer, l2_regularizer\n",
    "from utility import trim_tail, multiply, subtract, get_nparams, one_hot_encoding, get_data\n",
    "from metrics import MSE, CCE, ACC, PRECISION, RECALL, essential_metrics, wondering_penalty, close_gap_penalty\n",
    "from pso import PSO\n",
    "from ga import GA\n",
    "from nn import Network\n",
    "from layer import DenseLayer\n",
    "from scalers import MinMaxScaler, StandardScaler"
   ]
  },
  {
   "cell_type": "code",
   "execution_count": 2,
   "metadata": {},
   "outputs": [],
   "source": [
    "# reference\n",
    "metrics_fn_dict = dict()\n",
    "metrics_fn_dict['accuracy'] = ACC\n",
    "metrics_fn_dict['categorical_crossentropy'] = CCE\n",
    "metrics_fn_dict['mean_square_error'] = MSE\n",
    "metrics_fn_dict['precision'] = PRECISION\n",
    "metrics_fn_dict['recall'] = RECALL\n",
    "metrics_fn_dict['essential_metrics'] = essential_metrics"
   ]
  },
  {
   "cell_type": "code",
   "execution_count": 3,
   "metadata": {},
   "outputs": [],
   "source": [
    "# model\n",
    "model = Network(5, lr = None)\n",
    "model.add_layer(DenseLayer(1, 4, True, afn=sigmoid, dafn=None, rfn=None))\n",
    "model.add_layer(DenseLayer(2, 3, True, afn=softmax, dafn=None, rfn=None))"
   ]
  },
  {
   "cell_type": "code",
   "execution_count": 4,
   "metadata": {},
   "outputs": [
    {
     "name": "stdout",
     "output_type": "stream",
     "text": [
      "see one see two 2 2\n"
     ]
    }
   ],
   "source": [
    "pso = PSO(dict(m = 200,\n",
    "    weight_constraint = [-3, 3], \n",
    "    velocity_constraint = [-0.1, 0.1],\n",
    "    c1 = 2,\n",
    "    c2 = 2,\n",
    "    w = 1.2,\n",
    "    w_decay = 1,\n",
    "    scale_hyperparameter = False,\n",
    "    regularizer = None,\n",
    "    mask = True))"
   ]
  },
  {
   "cell_type": "code",
   "execution_count": 5,
   "metadata": {},
   "outputs": [
    {
     "name": "stdout",
     "output_type": "stream",
     "text": [
      "building layer 1 with 5\n",
      "24\n",
      "building layer 2 with 4\n",
      "15\n"
     ]
    }
   ],
   "source": [
    "model.compile(loss_fn = 'categorical_crossentropy', optimizer = pso, \\\n",
    "    metrics = ['accuracy', 'mean_square_error', 'categorical_crossentropy'])"
   ]
  },
  {
   "cell_type": "code",
   "execution_count": 6,
   "metadata": {},
   "outputs": [
    {
     "name": "stdout",
     "output_type": "stream",
     "text": [
      "<class 'pandas.core.frame.DataFrame'>\n",
      "RangeIndex: 107 entries, 0 to 106\n",
      "Data columns (total 6 columns):\n",
      " #   Column  Non-Null Count  Dtype  \n",
      "---  ------  --------------  -----  \n",
      " 0   f1      107 non-null    float32\n",
      " 1   f2      107 non-null    float32\n",
      " 2   f3      107 non-null    float32\n",
      " 3   f4      107 non-null    float32\n",
      " 4   f5      107 non-null    float32\n",
      " 5   label   107 non-null    float32\n",
      "dtypes: float32(6)\n",
      "memory usage: 2.6 KB\n",
      "None\n",
      "<class 'pandas.core.frame.DataFrame'>\n",
      "RangeIndex: 108 entries, 0 to 107\n",
      "Data columns (total 6 columns):\n",
      " #   Column  Non-Null Count  Dtype  \n",
      "---  ------  --------------  -----  \n",
      " 0   f1      108 non-null    float32\n",
      " 1   f2      108 non-null    float32\n",
      " 2   f3      108 non-null    float32\n",
      " 3   f4      108 non-null    float32\n",
      " 4   f5      108 non-null    float32\n",
      " 5   label   108 non-null    float32\n",
      "dtypes: float32(6)\n",
      "memory usage: 2.7 KB\n",
      "None\n"
     ]
    }
   ],
   "source": [
    "# data loading\n",
    "DATA = os.path.join('c:\\\\Users\\\\tcumi\\\\github_repo\\\\neural-network\\\\', 'dataset')\n",
    "GROUP = 1\n",
    "COLUMNS = ['f1', 'f2', 'f3', 'f4', 'f5', 'label']\n",
    "N_CLASS = 3\n",
    "EPOCHS = 500\n",
    "train_dir, test_dir = \"..//dataset//training_data{}.txt\".format(GROUP), \"..//dataset//testing_data{}.txt\".format(GROUP)\n",
    "train, test = get_data(DATA, train_dir, COLUMNS), get_data(DATA, test_dir, COLUMNS)\n",
    "# shuffle\n",
    "train, test = train.sample(frac=1), test.sample(frac=1)\n",
    "x_train, y_train = train.drop('label', axis=1), train['label']\n",
    "x_test, y_test = test.drop('label', axis=1), test['label']"
   ]
  },
  {
   "cell_type": "code",
   "execution_count": 7,
   "metadata": {},
   "outputs": [],
   "source": [
    "# data scaling and encoding\n",
    "scaler = StandardScaler(['f1', 'f2', 'f3', 'f4', 'f5'])\n",
    "scaler.fit(x_train)\n",
    "x_train = scaler.transform(x_train)\n",
    "x_test = scaler.transform(x_test)\n",
    "y_train = one_hot_encoding(y_train, N_CLASS)\n",
    "y_test = one_hot_encoding(y_test, N_CLASS)"
   ]
  },
  {
   "cell_type": "code",
   "execution_count": 8,
   "metadata": {
    "tags": [
     "outputPrepend"
    ]
   },
   "outputs": [
    {
     "name": "stdout",
     "output_type": "stream",
     "text": [
      "Checkpoint 100, Accuracy: 0.9567901234567902, Loss: 0.14163908252009638\n",
      "Checkpoint 200, Accuracy: 0.9753086419753086, Loss: 0.09957707369769062\n",
      "Checkpoint 300, Accuracy: 0.9691358024691358, Loss: 0.09827849600050184\n",
      "Checkpoint 400, Accuracy: 0.9691358024691358, Loss: 0.10783113373650445\n",
      "Checkpoint 500, Accuracy: 0.9691358024691358, Loss: 0.10819762724417227\n"
     ]
    }
   ],
   "source": [
    "# learning phase\n",
    "breakpoint = 100\n",
    "checkpoints = list()\n",
    "history = list()\n",
    "for century in range(0, EPOCHS, breakpoint):\n",
    "    sub_history = model.fit(x_train, y_train, breakpoint, verbose = 0)\n",
    "    score = model.evaluate(x_test, y_test, False, verbose = 0)\n",
    "    print('Checkpoint {}, Accuracy: {}, Loss: {}'.format(century+breakpoint, score['accuracy'], score[model.loss_fn]))\n",
    "    score['checkpoint'] = century + breakpoint\n",
    "    checkpoints.append(score)\n",
    "    history.extend(sub_history)"
   ]
  },
  {
   "cell_type": "code",
   "execution_count": 9,
   "metadata": {},
   "outputs": [],
   "source": [
    "import matplotlib.pyplot as plt\n",
    "\n",
    "def draw_plot(x, y_list, x_label=None, y_label=None, legend=None, title=None):\n",
    "    fig, ax = plt.subplots(figsize=(12,5))\n",
    "    for xi, yi in zip(x, y_list):\n",
    "        ax.plot(xi, yi)\n",
    "    if x_label is not None and y_label is not None:\n",
    "        ax.set(xlabel=x_label, ylabel=y_label, title='{} VS {}'.format(x_label, y_label))\n",
    "    if legend is not None:\n",
    "        ax.legend(legend)\n",
    "    ax.grid()\n",
    "    plt.show()"
   ]
  },
  {
   "cell_type": "code",
   "execution_count": 10,
   "metadata": {},
   "outputs": [
    {
     "name": "stdout",
     "output_type": "stream",
     "text": [
      "[1. 0. 0.] <-> [0.92382354 0.0010034  0.07517304]\n",
      "[1. 0. 0.] <-> [0.9958352  0.001818   0.00234684]\n",
      "[0. 1. 0.] <-> [1.9482708e-02 9.8049384e-01 2.3448154e-05]\n",
      "[1. 0. 0.] <-> [0.87990695 0.00094622 0.11914676]\n",
      "[1. 0. 0.] <-> [0.994361   0.00137146 0.00426756]\n",
      "[1. 0. 0.] <-> [0.987356   0.01139466 0.00124944]\n",
      "[1. 0. 0.] <-> [0.993662   0.00108043 0.00525754]\n",
      "[1. 0. 0.] <-> [0.99574846 0.00129866 0.00295289]\n",
      "[0. 1. 0.] <-> [5.7585528e-03 9.9423462e-01 6.8229942e-06]\n",
      "[1. 0. 0.] <-> [0.99707425 0.0015721  0.00135367]\n",
      "[1. 0. 0.] <-> [0.9966317  0.00108573 0.00228258]\n",
      "[1. 0. 0.] <-> [0.94276434 0.00123374 0.05600182]\n",
      "[0. 1. 0.] <-> [3.4757122e-01 6.5201467e-01 4.1414442e-04]\n",
      "[1. 0. 0.] <-> [0.99644643 0.00220958 0.00134409]\n",
      "[1. 0. 0.] <-> [0.99705374 0.00131376 0.00163247]\n",
      "[1. 0. 0.] <-> [0.9969998  0.00159861 0.00140161]\n",
      "[1. 0. 0.] <-> [0.99463755 0.00113696 0.00422546]\n",
      "[1. 0. 0.] <-> [2.8996828e-01 3.1383609e-04 7.0971793e-01]\n",
      "[1. 0. 0.] <-> [0.9949591  0.00123293 0.00380791]\n",
      "[0. 1. 0.] <-> [2.4611257e-01 7.5357890e-01 3.0856533e-04]\n",
      "[0. 0. 1.] <-> [5.1601990e-03 5.4741404e-06 9.9483430e-01]\n",
      "[1. 0. 0.] <-> [0.96450174 0.00102803 0.03447029]\n",
      "[1. 0. 0.] <-> [0.9964914  0.00218745 0.00132124]\n",
      "[1. 0. 0.] <-> [0.9972772  0.00127275 0.00145008]\n",
      "[1. 0. 0.] <-> [0.91626185 0.08252827 0.00120994]\n",
      "[1. 0. 0.] <-> [0.9949149  0.00380794 0.00127714]\n",
      "[1. 0. 0.] <-> [0.99600995 0.00124437 0.00274576]\n",
      "[1. 0. 0.] <-> [0.9802869 0.0010612 0.0186519]\n",
      "[1. 0. 0.] <-> [0.99651694 0.00209947 0.00138357]\n",
      "[0. 1. 0.] <-> [6.056195e-03 9.939366e-01 7.176846e-06]\n",
      "[1. 0. 0.] <-> [0.9967039  0.00189989 0.00139623]\n",
      "[1. 0. 0.] <-> [0.5710922  0.00061076 0.42829707]\n",
      "[1. 0. 0.] <-> [0.9952951  0.00109107 0.00361381]\n",
      "[1. 0. 0.] <-> [0.99631613 0.00122093 0.00246293]\n",
      "[0. 0. 1.] <-> [5.3187353e-03 5.6433355e-06 9.9467564e-01]\n",
      "[1. 0. 0.] <-> [0.99692935 0.00133851 0.00173219]\n",
      "[1. 0. 0.] <-> [0.99384815 0.00128779 0.00486403]\n",
      "[1. 0. 0.] <-> [0.9904056  0.0073698  0.00222461]\n",
      "[1. 0. 0.] <-> [0.9963973  0.00144671 0.002156  ]\n",
      "[1. 0. 0.] <-> [0.9962291  0.00255547 0.00121535]\n",
      "[0. 0. 1.] <-> [6.2808921e-03 6.6689840e-06 9.9371237e-01]\n",
      "[1. 0. 0.] <-> [0.99609643 0.00228467 0.0016189 ]\n",
      "[1. 0. 0.] <-> [0.99420893 0.00111984 0.00467117]\n",
      "[1. 0. 0.] <-> [0.9558715  0.00108866 0.04303976]\n",
      "[1. 0. 0.] <-> [0.9731761  0.00104382 0.02577999]\n",
      "[1. 0. 0.] <-> [0.9936458  0.00108424 0.00527004]\n",
      "[1. 0. 0.] <-> [0.9931664  0.00116338 0.00567031]\n",
      "[0. 0. 1.] <-> [6.6242227e-03 7.1489799e-06 9.9336869e-01]\n",
      "[1. 0. 0.] <-> [0.99186945 0.00106461 0.0070659 ]\n",
      "[1. 0. 0.] <-> [0.9803372  0.00107793 0.01858489]\n",
      "[1. 0. 0.] <-> [0.99617434 0.00261398 0.00121168]\n",
      "[1. 0. 0.] <-> [0.9960077  0.00138532 0.002607  ]\n",
      "[1. 0. 0.] <-> [0.99627626 0.00106614 0.00265757]\n",
      "[1. 0. 0.] <-> [0.99218965 0.00652582 0.00128446]\n",
      "[0. 0. 1.] <-> [0.6444996  0.00068685 0.3548136 ]\n",
      "[0. 0. 1.] <-> [5.4656724e-03 5.7983084e-06 9.9452847e-01]\n",
      "[1. 0. 0.] <-> [0.9967219 0.0013989 0.0018792]\n",
      "[0. 1. 0.] <-> [0.7455496  0.2535654  0.00088506]\n",
      "[0. 0. 1.] <-> [5.1964656e-03 5.5144637e-06 9.9479795e-01]\n",
      "[1. 0. 0.] <-> [0.9888593  0.00106515 0.01007549]\n",
      "[0. 1. 0.] <-> [9.5363120e-03 9.9045229e-01 1.1324935e-05]\n",
      "[1. 0. 0.] <-> [0.88326126 0.0009395  0.11579919]\n",
      "[0. 0. 1.] <-> [5.159463e-03 5.473356e-06 9.948350e-01]\n",
      "[0. 1. 0.] <-> [5.7867514e-03 9.9420631e-01 6.8728309e-06]\n",
      "[0. 1. 0.] <-> [5.7586315e-03 9.9423450e-01 6.8245363e-06]\n",
      "[0. 1. 0.] <-> [1.1096025e-01 8.8890785e-01 1.3196094e-04]\n",
      "[1. 0. 0.] <-> [0.99131316 0.00750001 0.00118683]\n",
      "[1. 0. 0.] <-> [0.997133   0.00122862 0.00163836]\n",
      "[1. 0. 0.] <-> [0.9968605  0.00149783 0.00164171]\n",
      "[0. 1. 0.] <-> [7.604235e-03 9.923867e-01 9.121979e-06]\n",
      "[1. 0. 0.] <-> [0.99226683 0.00108551 0.00664764]\n",
      "[1. 0. 0.] <-> [0.99518365 0.00346208 0.00135423]\n",
      "[0. 0. 1.] <-> [5.159487e-03 5.473382e-06 9.948350e-01]\n",
      "[1. 0. 0.] <-> [0.9951644  0.00119101 0.00364459]\n",
      "[1. 0. 0.] <-> [0.9837378  0.01500081 0.00126136]\n",
      "[1. 0. 0.] <-> [0.99650335 0.00182015 0.0016765 ]\n",
      "[1. 0. 0.] <-> [0.9967866 0.0011965 0.002017 ]\n",
      "[1. 0. 0.] <-> [0.9927222  0.00108953 0.0061882 ]\n",
      "[1. 0. 0.] <-> [1.5169388e-02 1.6102524e-05 9.8481452e-01]\n",
      "[1. 0. 0.] <-> [0.996729   0.00172763 0.00154329]\n",
      "[1. 0. 0.] <-> [0.99467236 0.00119892 0.00412876]\n",
      "[1. 0. 0.] <-> [0.9963084  0.00112099 0.00257064]\n",
      "[1. 0. 0.] <-> [0.9094111  0.08934615 0.00124286]\n",
      "[1. 0. 0.] <-> [0.99557805 0.0011942  0.00322785]\n",
      "[1. 0. 0.] <-> [0.99028075 0.00107449 0.00864477]\n",
      "[1. 0. 0.] <-> [0.99664813 0.00203966 0.00131224]\n",
      "[1. 0. 0.] <-> [0.99581146 0.00215751 0.00203096]\n",
      "[0. 1. 0.] <-> [1.1117041e-02 9.8886967e-01 1.3378465e-05]\n",
      "[0. 0. 1.] <-> [5.1890737e-03 5.5048213e-06 9.9480540e-01]\n",
      "[1. 0. 0.] <-> [0.99711037 0.00123131 0.00165832]\n",
      "[0. 0. 1.] <-> [5.159463e-03 5.473356e-06 9.948350e-01]\n",
      "[0. 1. 0.] <-> [3.9102633e-02 9.6085101e-01 4.6406985e-05]\n",
      "[0. 0. 1.] <-> [5.1596975e-03 5.4736101e-06 9.9483478e-01]\n",
      "[1. 0. 0.] <-> [0.99639773 0.00226381 0.0013384 ]\n",
      "[1. 0. 0.] <-> [0.9968353  0.0014773  0.00168745]\n",
      "[1. 0. 0.] <-> [0.9923497  0.00111665 0.00653367]\n",
      "[1. 0. 0.] <-> [0.9962501  0.00113877 0.00261115]\n",
      "[1. 0. 0.] <-> [0.9970686  0.00130553 0.00162585]\n",
      "[1. 0. 0.] <-> [3.8984290e-01 6.0967487e-01 4.8222786e-04]\n",
      "[0. 1. 0.] <-> [5.9385523e-03 9.9405438e-01 7.0568335e-06]\n",
      "[1. 0. 0.] <-> [0.993246   0.00118508 0.0055689 ]\n",
      "[1. 0. 0.] <-> [0.99633276 0.00236352 0.00130365]\n",
      "[1. 0. 0.] <-> [0.98202145 0.00113007 0.01684852]\n",
      "[0. 1. 0.] <-> [5.7585877e-03 9.9423450e-01 6.8688842e-06]\n",
      "[0. 0. 1.] <-> [1.0074152e-01 1.0711066e-04 8.9915133e-01]\n",
      "[1. 0. 0.] <-> [0.99735034 0.00127431 0.00137539]\n",
      "[1. 0. 0.] <-> [0.9510793  0.00102196 0.04789872]\n",
      "[1. 0. 0.] <-> [0.88154465 0.00096335 0.11749199]\n",
      "{'accuracy': 0.9691358024691358, 'mean_square_error': 0.06080065083136156, 'categorical_crossentropy': 0.10819762724417227, 'essential_metrics': {0: {'tp_hit': 77, 'fp_hit': 2, 'tn_hit': 26, 'fn_hit': 3}, 1: {'tp_hit': 14, 'fp_hit': 1, 'tn_hit': 92, 'fn_hit': 1}, 2: {'tp_hit': 12, 'fp_hit': 2, 'tn_hit': 93, 'fn_hit': 1}}}\n"
     ]
    }
   ],
   "source": [
    "# recall phase\n",
    "score = model.evaluate(x_test, y_test, False)\n",
    "print(score)"
   ]
  },
  {
   "cell_type": "code",
   "execution_count": 11,
   "metadata": {},
   "outputs": [
    {
     "data": {
      "image/png": "[encoded data removed]",
      "text/plain": [
       "<Figure size 864x360 with 1 Axes>"
      ]
     },
     "metadata": {
      "needs_background": "light"
     },
     "output_type": "display_data"
    },
    {
     "data": {
      "image/png": "[encoded data removed]",
      "text/plain": [
       "<Figure size 864x360 with 1 Axes>"
      ]
     },
     "metadata": {
      "needs_background": "light"
     },
     "output_type": "display_data"
    }
   ],
   "source": [
    "draw_plot(x = [[i for i in range(len(history))], [(i+1)*breakpoint for i in range(len(checkpoints))]], y_list = [history, [ ckp[model.loss_fn] for ckp in checkpoints ]], x_label = 'Epochs', \\\n",
    "    y_label = model.loss_fn, legend=['train', 'test'])\n",
    "acc = [ ckp['accuracy'] for ckp in checkpoints ]\n",
    "draw_plot(x = [[(i+1)*breakpoint for i in range(len(checkpoints))]], y_list = [acc], x_label = 'Checkpoints', \\\n",
    "    y_label = 'accuracy')"
   ]
  },
  {
   "cell_type": "code",
   "execution_count": 12,
   "metadata": {},
   "outputs": [
    {
     "name": "stdout",
     "output_type": "stream",
     "text": [
      "{'accuracy': 0.9567901234567902, 'mean_square_error': 0.07409099166620182, 'categorical_crossentropy': 0.14163908252009638, 'essential_metrics': {0: {'tp_hit': 79, 'fp_hit': 6, 'tn_hit': 22, 'fn_hit': 1}, 1: {'tp_hit': 12, 'fp_hit': 0, 'tn_hit': 93, 'fn_hit': 3}, 2: {'tp_hit': 10, 'fp_hit': 1, 'tn_hit': 94, 'fn_hit': 3}}, 'checkpoint': 100} \n",
      "\n",
      "\n",
      "{'accuracy': 0.9753086419753086, 'mean_square_error': 0.054159029462095915, 'categorical_crossentropy': 0.09957707369769062, 'essential_metrics': {0: {'tp_hit': 77, 'fp_hit': 1, 'tn_hit': 27, 'fn_hit': 3}, 1: {'tp_hit': 14, 'fp_hit': 1, 'tn_hit': 92, 'fn_hit': 1}, 2: {'tp_hit': 13, 'fp_hit': 2, 'tn_hit': 93, 'fn_hit': 0}}, 'checkpoint': 200} \n",
      "\n",
      "\n",
      "{'accuracy': 0.9691358024691358, 'mean_square_error': 0.05456948207327936, 'categorical_crossentropy': 0.09827849600050184, 'essential_metrics': {0: {'tp_hit': 77, 'fp_hit': 2, 'tn_hit': 26, 'fn_hit': 3}, 1: {'tp_hit': 14, 'fp_hit': 1, 'tn_hit': 92, 'fn_hit': 1}, 2: {'tp_hit': 12, 'fp_hit': 2, 'tn_hit': 93, 'fn_hit': 1}}, 'checkpoint': 300} \n",
      "\n",
      "\n",
      "{'accuracy': 0.9691358024691358, 'mean_square_error': 0.05995195004279253, 'categorical_crossentropy': 0.10783113373650445, 'essential_metrics': {0: {'tp_hit': 77, 'fp_hit': 2, 'tn_hit': 26, 'fn_hit': 3}, 1: {'tp_hit': 14, 'fp_hit': 1, 'tn_hit': 92, 'fn_hit': 1}, 2: {'tp_hit': 12, 'fp_hit': 2, 'tn_hit': 93, 'fn_hit': 1}}, 'checkpoint': 400} \n",
      "\n",
      "\n",
      "{'accuracy': 0.9691358024691358, 'mean_square_error': 0.06080065083136156, 'categorical_crossentropy': 0.10819762724417227, 'essential_metrics': {0: {'tp_hit': 77, 'fp_hit': 2, 'tn_hit': 26, 'fn_hit': 3}, 1: {'tp_hit': 14, 'fp_hit': 1, 'tn_hit': 92, 'fn_hit': 1}, 2: {'tp_hit': 12, 'fp_hit': 2, 'tn_hit': 93, 'fn_hit': 1}}, 'checkpoint': 500} \n",
      "\n",
      "\n"
     ]
    }
   ],
   "source": [
    "for checkpoint in checkpoints:\n",
    "    print(checkpoint, '\\n\\n')"
   ]
  },
  {
   "cell_type": "code",
   "execution_count": 13,
   "metadata": {},
   "outputs": [
    {
     "name": "stdout",
     "output_type": "stream",
     "text": [
      "Layer 1\n",
      "Neuron 0: weights:\n",
      "[-1.9045932  3.         1.9382515  0.9787065 -2.6945722]\n",
      " bias: -3.0\n",
      "\n",
      "Neuron 1: weights:\n",
      "[ 0.17769308  3.         -0.05126607 -3.         -3.        ]\n",
      " bias: 2.1706349849700928\n",
      "\n",
      "Neuron 2: weights:\n",
      "[ 0.11884094 -3.         -0.7481879   0.4668548   3.        ]\n",
      " bias: -3.0\n",
      "\n",
      "Neuron 3: weights:\n",
      "[ 1.9015772 -3.        -2.1302915 -1.4341503  3.       ]\n",
      " bias: 3.0\n",
      "\n",
      "$\n",
      "Layer 2\n",
      "Neuron 0: weights:\n",
      "[-3.  3. -3.  3.]\n",
      " bias: -0.10014033317565918\n",
      "\n",
      "Neuron 1: weights:\n",
      "[ 3.  3. -3. -3.]\n",
      " bias: -0.9488359689712524\n",
      "\n",
      "Neuron 2: weights:\n",
      "[-3. -3.  3.  3.]\n",
      " bias: -0.8383954167366028\n",
      "\n",
      "$\n",
      "\n"
     ]
    }
   ],
   "source": [
    "print(model)"
   ]
  }
 ],
 "metadata": {
  "kernelspec": {
   "display_name": "Python 3",
   "language": "python",
   "name": "python3"
  },
  "language_info": {
   "codemirror_mode": {
    "name": "ipython",
    "version": 3
   },
   "file_extension": ".py",
   "mimetype": "text/x-python",
   "name": "python",
   "nbconvert_exporter": "python",
   "pygments_lexer": "ipython3",
   "version": "3.6.10"
  }
 },
 "nbformat": 4,
 "nbformat_minor": 2
}
