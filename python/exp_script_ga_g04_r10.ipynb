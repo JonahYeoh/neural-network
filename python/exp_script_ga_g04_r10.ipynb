{
 "cells": [
  {
   "cell_type": "code",
   "execution_count": 1,
   "metadata": {},
   "outputs": [],
   "source": [
    "# single"
   ]
  },
  {
   "cell_type": "code",
   "execution_count": 2,
   "metadata": {},
   "outputs": [],
   "source": [
    "# dependency\n",
    "import numpy as np\n",
    "import pandas as pd\n",
    "import copy\n",
    "import math\n",
    "import sys\n",
    "import os\n",
    "from activations import relu, leaky_relu, sigmoid, tanh, softmax, d_sigmoid, d_relu\n",
    "from initializers import glorot_uniform, random_normal, random_uniform\n",
    "from regularizers import l1_regularizer, l2_regularizer\n",
    "from utility import trim_tail, multiply, subtract, get_nparams, one_hot_encoding, get_data\n",
    "from metrics import MSE, CCE, ACC, PRECISION, RECALL, essential_metrics, wondering_penalty, close_gap_penalty\n",
    "from pso import PSO\n",
    "from ga import GA\n",
    "from nn import Network\n",
    "from layer import DenseLayer\n",
    "from scalers import MinMaxScaler, StandardScaler"
   ]
  },
  {
   "cell_type": "code",
   "execution_count": 3,
   "metadata": {},
   "outputs": [],
   "source": [
    "# reference\n",
    "metrics_fn_dict = dict()\n",
    "metrics_fn_dict['accuracy'] = ACC\n",
    "metrics_fn_dict['categorical_crossentropy'] = CCE\n",
    "metrics_fn_dict['mean_square_error'] = MSE\n",
    "metrics_fn_dict['precision'] = PRECISION\n",
    "metrics_fn_dict['recall'] = RECALL\n",
    "metrics_fn_dict['essential_metrics'] = essential_metrics"
   ]
  },
  {
   "cell_type": "code",
   "execution_count": 4,
   "metadata": {},
   "outputs": [],
   "source": [
    "# model\n",
    "model = Network(5, lr = None)\n",
    "model.add_layer(DenseLayer(1, 4, True, afn=sigmoid, dafn=None, rfn=None))\n",
    "model.add_layer(DenseLayer(2, 3, True, afn=softmax, dafn=None, rfn=None))"
   ]
  },
  {
   "cell_type": "code",
   "execution_count": 5,
   "metadata": {},
   "outputs": [],
   "source": [
    "# optimizer\n",
    "ga = GA(\n",
    "    dict(\n",
    "        m = 50,\n",
    "        x_rate = [0.5, 1.0],\n",
    "        m_rate = [0.5, 1.0],\n",
    "        weight_constraint = [-3.,3.],\n",
    "        radioactive_rating = [0.1, 0.5],\n",
    "        grow_factor = [0.1, 0.5],\n",
    "        scale_hyperparameter = False,\n",
    "        regularizer = l1_regularizer))"
   ]
  },
  {
   "cell_type": "code",
   "execution_count": 6,
   "metadata": {},
   "outputs": [
    {
     "name": "stdout",
     "output_type": "stream",
     "text": [
      "building layer 1 with 5\n",
      "24\n",
      "building layer 2 with 4\n",
      "15\n"
     ]
    }
   ],
   "source": [
    "model.compile(loss_fn = 'categorical_crossentropy', optimizer = ga, \\\n",
    "    metrics = ['accuracy', 'mean_square_error', 'categorical_crossentropy', 'precision', 'recall', 'f1'])"
   ]
  },
  {
   "cell_type": "code",
   "execution_count": 7,
   "metadata": {},
   "outputs": [
    {
     "name": "stdout",
     "output_type": "stream",
     "text": [
      "<class 'pandas.core.frame.DataFrame'>\n",
      "RangeIndex: 107 entries, 0 to 106\n",
      "Data columns (total 6 columns):\n",
      " #   Column  Non-Null Count  Dtype  \n",
      "---  ------  --------------  -----  \n",
      " 0   f1      107 non-null    float32\n",
      " 1   f2      107 non-null    float32\n",
      " 2   f3      107 non-null    float32\n",
      " 3   f4      107 non-null    float32\n",
      " 4   f5      107 non-null    float32\n",
      " 5   label   107 non-null    float32\n",
      "dtypes: float32(6)\n",
      "memory usage: 2.6 KB\n",
      "None\n",
      "<class 'pandas.core.frame.DataFrame'>\n",
      "RangeIndex: 108 entries, 0 to 107\n",
      "Data columns (total 6 columns):\n",
      " #   Column  Non-Null Count  Dtype  \n",
      "---  ------  --------------  -----  \n",
      " 0   f1      108 non-null    float32\n",
      " 1   f2      108 non-null    float32\n",
      " 2   f3      108 non-null    float32\n",
      " 3   f4      108 non-null    float32\n",
      " 4   f5      108 non-null    float32\n",
      " 5   label   108 non-null    float32\n",
      "dtypes: float32(6)\n",
      "memory usage: 2.7 KB\n",
      "None\n"
     ]
    }
   ],
   "source": [
    "# data loading\n",
    "DATA = os.path.join('c:\\\\Users\\\\tcumi\\\\github_repo\\\\neural-network\\\\', 'dataset')\n",
    "GROUP = 4\n",
    "COLUMNS = ['f1', 'f2', 'f3', 'f4', 'f5', 'label']\n",
    "N_CLASS = 3\n",
    "EPOCHS = 500\n",
    "train_dir, test_dir = \"..//dataset//training_data{}.txt\".format(GROUP), \"..//dataset//testing_data{}.txt\".format(GROUP)\n",
    "train, test = get_data(DATA, train_dir, COLUMNS), get_data(DATA, test_dir, COLUMNS)\n",
    "# shuffle\n",
    "train, test = train.sample(frac=1), test.sample(frac=1)\n",
    "x_train, y_train = train.drop('label', axis=1), train['label']\n",
    "x_test, y_test = test.drop('label', axis=1), test['label']"
   ]
  },
  {
   "cell_type": "code",
   "execution_count": 8,
   "metadata": {},
   "outputs": [],
   "source": [
    "# data scaling and encoding\n",
    "scaler = StandardScaler(['f1', 'f2', 'f3', 'f4', 'f5'])\n",
    "scaler.fit(x_train)\n",
    "x_train = scaler.transform(x_train)\n",
    "x_test = scaler.transform(x_test)\n",
    "y_train = one_hot_encoding(y_train, N_CLASS)\n",
    "y_test = one_hot_encoding(y_test, N_CLASS)"
   ]
  },
  {
   "cell_type": "code",
   "execution_count": 9,
   "metadata": {
    "scrolled": true,
    "tags": [
     "outputPrepend"
    ]
   },
   "outputs": [
    {
     "name": "stderr",
     "output_type": "stream",
     "text": [
      "C:\\Users\\tcumi\\Anaconda3\\envs\\py_3_6\\lib\\site-packages\\numpy\\core\\fromnumeric.py:87: VisibleDeprecationWarning: Creating an ndarray from ragged nested sequences (which is a list-or-tuple of lists-or-tuples-or ndarrays with different lengths or shapes) is deprecated. If you meant to do this, you must specify 'dtype=object' when creating the ndarray\n",
      "  return ufunc.reduce(obj, axis, dtype, out, **passkwargs)\n",
      "C:\\Users\\tcumi\\github_repo\\neural-network\\python\\ga.py:201: RuntimeWarning: overflow encountered in add\n",
      "  self.population.sort(key=lambda p: p.fitness + np.random.uniform(-shift, shift, 1), reverse = self.aim)\n",
      "C:\\Users\\tcumi\\Anaconda3\\envs\\py_3_6\\lib\\site-packages\\numpy\\core\\_asarray.py:136: VisibleDeprecationWarning: Creating an ndarray from ragged nested sequences (which is a list-or-tuple of lists-or-tuples-or ndarrays with different lengths or shapes) is deprecated. If you meant to do this, you must specify 'dtype=object' when creating the ndarray\n",
      "  return array(a, dtype, copy=False, order=order, subok=True)\n"
     ]
    },
    {
     "name": "stdout",
     "output_type": "stream",
     "text": [
      "Checkpoint 100, Accuracy: 0.9444444444444444, Loss: 0.30776617262098527\n",
      "Checkpoint 200, Accuracy: 0.9567901234567902, Loss: 0.264295878233733\n",
      "Checkpoint 300, Accuracy: 0.9629629629629629, Loss: 0.25035607373272933\n",
      "Checkpoint 400, Accuracy: 0.9567901234567902, Loss: 0.2560159541942455\n",
      "Checkpoint 500, Accuracy: 0.9567901234567902, Loss: 0.2418903244866265\n"
     ]
    }
   ],
   "source": [
    "# learning phase\n",
    "breakpoint = 100\n",
    "checkpoints = list()\n",
    "history = list()\n",
    "for century in range(0, EPOCHS, breakpoint):\n",
    "    sub_history = model.fit(x_train, y_train, breakpoint, verbose = 0)\n",
    "    score = model.evaluate(x_test, y_test, False, verbose = 0)\n",
    "    print('Checkpoint {}, Accuracy: {}, Loss: {}'.format(century+breakpoint, score['accuracy'], score[model.loss_fn]))\n",
    "    score['checkpoint'] = century + breakpoint\n",
    "    checkpoints.append(score)\n",
    "    history.extend(sub_history)\n",
    "    itr = century + breakpoint\n",
    "    '''\n",
    "    model.optimizer.rr = model.optimizer.rr * 0.9\n",
    "    model.optimizer.gf = model.optimizer.gf * 0.9\n",
    "    model.optimizer.crossover_rate = model.optimizer.crossover_rate * 0.9\n",
    "    model.optimizer.mutation_rate = model.optimizer.mutation_rate * 1.1\n",
    "    '''\n",
    "    model.optimizer.rr = model.optimizer.radioactive_rating[1] - (model.optimizer.radioactive_rating[1] - model.optimizer.radioactive_rating[0]) / EPOCHS * (EPOCHS - itr)\n",
    "    model.optimizer.gf = model.optimizer.grow_factor[1] - (model.optimizer.grow_factor[1] - model.optimizer.grow_factor[0]) / EPOCHS * (EPOCHS - itr)\n",
    "    model.optimizer.crossover_rate = model.optimizer.x_rate[1] - (model.optimizer.x_rate[1] - model.optimizer.x_rate[0]) / EPOCHS * (EPOCHS - itr)\n",
    "    model.optimizer.mutation_rate = model.optimizer.m_rate[0] + (model.optimizer.m_rate[1] - model.optimizer.m_rate[0]) / EPOCHS * (EPOCHS - itr)\n",
    "    "
   ]
  },
  {
   "cell_type": "code",
   "execution_count": 10,
   "metadata": {},
   "outputs": [],
   "source": [
    "import matplotlib.pyplot as plt\n",
    "\n",
    "def draw_plot(x, y_list, x_label=None, y_label=None, legend=None, title=None):\n",
    "    fig, ax = plt.subplots(figsize=(12,5))\n",
    "    for xi, yi in zip(x, y_list):\n",
    "        ax.plot(xi, yi)\n",
    "    if x_label is not None and y_label is not None:\n",
    "        ax.set(xlabel=x_label, ylabel=y_label, title='{} VS {}'.format(x_label, y_label))\n",
    "    if legend is not None:\n",
    "        ax.legend(legend)\n",
    "    ax.grid()\n",
    "    plt.show()"
   ]
  },
  {
   "cell_type": "code",
   "execution_count": 11,
   "metadata": {},
   "outputs": [
    {
     "name": "stdout",
     "output_type": "stream",
     "text": [
      "[1. 0. 0.] <-> [0.87748563 0.0334294  0.08908501]\n",
      "[0. 1. 0.] <-> [0.30243114 0.6741769  0.02339206]\n",
      "[1. 0. 0.] <-> [0.89145344 0.03393976 0.07460684]\n",
      "[1. 0. 0.] <-> [0.9442133  0.03060812 0.02517851]\n",
      "[1. 0. 0.] <-> [0.74710184 0.1988549  0.05404329]\n",
      "[1. 0. 0.] <-> [0.91453314 0.05238816 0.03307876]\n",
      "[0. 0. 1.] <-> [0.19118409 0.01328766 0.79552823]\n",
      "[1. 0. 0.] <-> [0.8015428  0.0335287  0.16492854]\n",
      "[1. 0. 0.] <-> [0.7525586  0.21372564 0.03371577]\n",
      "[1. 0. 0.] <-> [0.8989186  0.02579758 0.07528377]\n",
      "[1. 0. 0.] <-> [0.89770865 0.02541317 0.07687826]\n",
      "[1. 0. 0.] <-> [0.6344078  0.22455148 0.14104068]\n",
      "[0. 1. 0.] <-> [0.45927274 0.5142888  0.02643855]\n",
      "[1. 0. 0.] <-> [0.92133754 0.03324125 0.04542126]\n",
      "[1. 0. 0.] <-> [0.9152356  0.03362872 0.05113569]\n",
      "[1. 0. 0.] <-> [0.9415045  0.02664679 0.03184877]\n",
      "[1. 0. 0.] <-> [0.9002761  0.06550847 0.03421545]\n",
      "[0. 1. 0.] <-> [0.11719128 0.8649442  0.0178645 ]\n",
      "[1. 0. 0.] <-> [0.6315239  0.3248908  0.04358527]\n",
      "[1. 0. 0.] <-> [0.86017346 0.03173453 0.10809197]\n",
      "[1. 0. 0.] <-> [0.9358983  0.04178812 0.02231356]\n",
      "[0. 1. 0.] <-> [0.11375979 0.87498236 0.01125785]\n",
      "[0. 1. 0.] <-> [0.16327992 0.82378423 0.01293588]\n",
      "[1. 0. 0.] <-> [0.55148876 0.38782728 0.06068394]\n",
      "[0. 1. 0.] <-> [0.11772358 0.8715865  0.01068986]\n",
      "[1. 0. 0.] <-> [0.934331   0.0238121  0.04185687]\n",
      "[1. 0. 0.] <-> [0.91326755 0.04465624 0.04207622]\n",
      "[1. 0. 0.] <-> [0.6686462  0.02767468 0.30367917]\n",
      "[1. 0. 0.] <-> [0.9206069  0.04297072 0.03642234]\n",
      "[1. 0. 0.] <-> [0.88900137 0.05129464 0.05970399]\n",
      "[1. 0. 0.] <-> [0.88557637 0.05729501 0.05712859]\n",
      "[1. 0. 0.] <-> [0.92945486 0.02877834 0.04176683]\n",
      "[0. 1. 0.] <-> [0.119091   0.8692149  0.01169402]\n",
      "[1. 0. 0.] <-> [0.90150154 0.04169137 0.05680718]\n",
      "[1. 0. 0.] <-> [0.8095409  0.15219969 0.03825946]\n",
      "[0. 0. 1.] <-> [0.4118154  0.02096829 0.56721634]\n",
      "[1. 0. 0.] <-> [0.91567564 0.03405546 0.05026894]\n",
      "[0. 0. 1.] <-> [0.6865135  0.02489468 0.2885918 ]\n",
      "[1. 0. 0.] <-> [0.8283065  0.02906509 0.14262845]\n",
      "[1. 0. 0.] <-> [0.90511054 0.04021168 0.05467778]\n",
      "[1. 0. 0.] <-> [0.93293625 0.03199269 0.03507106]\n",
      "[0. 0. 1.] <-> [0.10455747 0.00858655 0.88685596]\n",
      "[1. 0. 0.] <-> [0.91617554 0.05870926 0.02511518]\n",
      "[1. 0. 0.] <-> [0.8424411  0.03477028 0.12278868]\n",
      "[0. 0. 1.] <-> [0.33720154 0.02123503 0.6415634 ]\n",
      "[1. 0. 0.] <-> [0.94649506 0.02673418 0.02677068]\n",
      "[1. 0. 0.] <-> [0.9186797  0.03007865 0.0512416 ]\n",
      "[1. 0. 0.] <-> [0.91509587 0.02800183 0.05690235]\n",
      "[1. 0. 0.] <-> [0.9363226  0.03895362 0.02472381]\n",
      "[1. 0. 0.] <-> [0.9277006  0.02441767 0.04788187]\n",
      "[1. 0. 0.] <-> [0.66198844 0.28487092 0.05314058]\n",
      "[1. 0. 0.] <-> [0.86503625 0.07999644 0.05496733]\n",
      "[1. 0. 0.] <-> [0.8975954  0.05951052 0.04289411]\n",
      "[0. 0. 1.] <-> [0.8464422  0.02692552 0.12663221]\n",
      "[1. 0. 0.] <-> [0.93800604 0.03323894 0.02875501]\n",
      "[1. 0. 0.] <-> [0.9454387  0.02836457 0.02619676]\n",
      "[1. 0. 0.] <-> [0.8895787  0.0253684  0.08505288]\n",
      "[1. 0. 0.] <-> [0.93139476 0.04045063 0.02815452]\n",
      "[0. 0. 1.] <-> [0.8734092  0.02498038 0.10161043]\n",
      "[0. 1. 0.] <-> [0.11663966 0.8702316  0.01312873]\n",
      "[1. 0. 0.] <-> [0.9194727  0.02703901 0.05348828]\n",
      "[1. 0. 0.] <-> [0.9471367  0.02334742 0.02951579]\n",
      "[1. 0. 0.] <-> [0.4024669  0.55869216 0.03884092]\n",
      "[0. 1. 0.] <-> [0.13081306 0.8476501  0.0215368 ]\n",
      "[1. 0. 0.] <-> [0.9260782  0.02411194 0.04980988]\n",
      "[1. 0. 0.] <-> [0.9477255  0.02538829 0.02688624]\n",
      "[1. 0. 0.] <-> [0.928509   0.03621092 0.03528009]\n",
      "[1. 0. 0.] <-> [0.94145894 0.03722441 0.02131669]\n",
      "[1. 0. 0.] <-> [0.9381153  0.03548326 0.02640139]\n",
      "[1. 0. 0.] <-> [0.9222948  0.04453653 0.0331687 ]\n",
      "[1. 0. 0.] <-> [0.9189032  0.05379466 0.02730223]\n",
      "[1. 0. 0.] <-> [0.9027489  0.06241474 0.03483641]\n",
      "[1. 0. 0.] <-> [0.9374056  0.02862097 0.03397348]\n",
      "[0. 1. 0.] <-> [0.20050073 0.76829255 0.03120672]\n",
      "[1. 0. 0.] <-> [0.940925   0.03279453 0.02628051]\n",
      "[1. 0. 0.] <-> [0.92867696 0.0446554  0.02666765]\n",
      "[1. 0. 0.] <-> [0.92768836 0.02492431 0.04738729]\n",
      "[1. 0. 0.] <-> [0.78714466 0.16123341 0.05162191]\n",
      "[1. 0. 0.] <-> [0.94358313 0.02702216 0.02939475]\n",
      "[1. 0. 0.] <-> [0.8599884  0.10736413 0.03264749]\n",
      "[0. 0. 1.] <-> [0.10684531 0.00838142 0.88477325]\n",
      "[1. 0. 0.] <-> [0.9177457  0.06191684 0.02033743]\n",
      "[1. 0. 0.] <-> [0.94365567 0.0253325  0.03101178]\n",
      "[0. 1. 0.] <-> [0.22523832 0.75590897 0.01885272]\n",
      "[1. 0. 0.] <-> [0.92650175 0.02844    0.04505818]\n",
      "[1. 0. 0.] <-> [0.8328864  0.05921932 0.10789424]\n",
      "[1. 0. 0.] <-> [0.85724247 0.10352103 0.03923646]\n",
      "[1. 0. 0.] <-> [0.91968966 0.02815655 0.05215375]\n",
      "[1. 0. 0.] <-> [0.8492685  0.10193807 0.04879345]\n",
      "[0. 1. 0.] <-> [0.20673409 0.7698152  0.02345066]\n",
      "[0. 0. 1.] <-> [0.29751664 0.0193312  0.68315214]\n",
      "[0. 1. 0.] <-> [0.33204404 0.64591485 0.02204103]\n",
      "[1. 0. 0.] <-> [0.9209891  0.0438306  0.03518036]\n",
      "[0. 1. 0.] <-> [0.11676882 0.8682298  0.01500132]\n",
      "[1. 0. 0.] <-> [0.77040344 0.10053708 0.12905945]\n",
      "[1. 0. 0.] <-> [0.9379038  0.02749276 0.03460348]\n",
      "[0. 1. 0.] <-> [0.11560101 0.87355727 0.01084173]\n",
      "[0. 0. 1.] <-> [0.54686105 0.02369124 0.42944774]\n",
      "[1. 0. 0.] <-> [0.55790824 0.3843396  0.05775212]\n",
      "[0. 0. 1.] <-> [0.6530808  0.02523974 0.3216794 ]\n",
      "[1. 0. 0.] <-> [0.9224876  0.04420149 0.0333109 ]\n",
      "[1. 0. 0.] <-> [0.38637015 0.576187   0.03744282]\n",
      "[0. 0. 1.] <-> [0.16721278 0.01248883 0.8202984 ]\n",
      "[0. 0. 1.] <-> [0.34125224 0.01923028 0.6395174 ]\n",
      "[1. 0. 0.] <-> [0.9255327  0.03638232 0.03808498]\n",
      "[1. 0. 0.] <-> [0.8999439  0.02632476 0.07373141]\n",
      "[0. 0. 1.] <-> [0.09458995 0.00740821 0.89800185]\n",
      "[0. 1. 0.] <-> [0.11257083 0.8708595  0.01656959]\n",
      "{'accuracy': 0.9567901234567902, 'mean_square_error': 0.11656255412069302, 'categorical_crossentropy': 0.2418903244866265, 'precision': 0.9351851851851852, 'recall': 0.9351851851851852, 'f1': 0.9351851851851852, 'essential_metrics': {0: {'tp_hit': 76, 'fp_hit': 5, 'tn_hit': 25, 'fn_hit': 2}, 1: {'tp_hit': 16, 'fp_hit': 2, 'tn_hit': 90, 'fn_hit': 0}, 2: {'tp_hit': 9, 'fp_hit': 0, 'tn_hit': 94, 'fn_hit': 5}}}\n"
     ]
    }
   ],
   "source": [
    "# recall phase\n",
    "score = model.evaluate(x_test, y_test, False)\n",
    "print(score)"
   ]
  },
  {
   "cell_type": "code",
   "execution_count": 12,
   "metadata": {},
   "outputs": [],
   "source": [
    "# Testing Performance"
   ]
  },
  {
   "cell_type": "code",
   "execution_count": 13,
   "metadata": {},
   "outputs": [
    {
     "name": "stderr",
     "output_type": "stream",
     "text": [
      "C:\\Users\\tcumi\\Anaconda3\\envs\\py_3_6\\lib\\site-packages\\numpy\\core\\_asarray.py:136: VisibleDeprecationWarning: Creating an ndarray from ragged nested sequences (which is a list-or-tuple of lists-or-tuples-or ndarrays with different lengths or shapes) is deprecated. If you meant to do this, you must specify 'dtype=object' when creating the ndarray\n",
      "  return array(a, dtype, copy=False, order=order, subok=True)\n"
     ]
    },
    {
     "data": {
      "image/png": "[encoded data removed]",
      "text/plain": [
       "<Figure size 864x360 with 1 Axes>"
      ]
     },
     "metadata": {
      "needs_background": "light"
     },
     "output_type": "display_data"
    },
    {
     "data": {
      "image/png": "[encoded data removed]",
      "text/plain": [
       "<Figure size 864x360 with 1 Axes>"
      ]
     },
     "metadata": {
      "needs_background": "light"
     },
     "output_type": "display_data"
    }
   ],
   "source": [
    "draw_plot(x = [[i for i in range(len(history))], [(i+1)*breakpoint for i in range(len(checkpoints))]], y_list = [history, [ ckp[model.loss_fn] for ckp in checkpoints ]], x_label = 'Epochs', \\\n",
    "    y_label = model.loss_fn, legend=['train', 'test'])\n",
    "acc = [ ckp['accuracy'] for ckp in checkpoints ]\n",
    "draw_plot(x = [[(i+1)*breakpoint for i in range(len(checkpoints))]], y_list = [acc], x_label = 'Checkpoints', \\\n",
    "    y_label = 'accuracy')"
   ]
  },
  {
   "cell_type": "code",
   "execution_count": 14,
   "metadata": {
    "scrolled": false
   },
   "outputs": [
    {
     "name": "stdout",
     "output_type": "stream",
     "text": [
      "{'accuracy': 0.9444444444444444, 'mean_square_error': 0.14700278436115413, 'categorical_crossentropy': 0.30776617262098527, 'precision': 0.9166666666666666, 'recall': 0.9166666666666666, 'f1': 0.9166666666666666, 'essential_metrics': {0: {'tp_hit': 77, 'fp_hit': 8, 'tn_hit': 22, 'fn_hit': 1}, 1: {'tp_hit': 15, 'fp_hit': 1, 'tn_hit': 91, 'fn_hit': 1}, 2: {'tp_hit': 7, 'fp_hit': 0, 'tn_hit': 94, 'fn_hit': 7}}, 'checkpoint': 100} \n",
      "\n",
      "\n",
      "{'accuracy': 0.9567901234567902, 'mean_square_error': 0.12420254045396982, 'categorical_crossentropy': 0.264295878233733, 'precision': 0.9351851851851852, 'recall': 0.9351851851851852, 'f1': 0.9351851851851852, 'essential_metrics': {0: {'tp_hit': 77, 'fp_hit': 6, 'tn_hit': 24, 'fn_hit': 1}, 1: {'tp_hit': 15, 'fp_hit': 1, 'tn_hit': 91, 'fn_hit': 1}, 2: {'tp_hit': 9, 'fp_hit': 0, 'tn_hit': 94, 'fn_hit': 5}}, 'checkpoint': 200} \n",
      "\n",
      "\n",
      "{'accuracy': 0.9629629629629629, 'mean_square_error': 0.11334160887303601, 'categorical_crossentropy': 0.25035607373272933, 'precision': 0.9444444444444444, 'recall': 0.9444444444444444, 'f1': 0.9444444444444444, 'essential_metrics': {0: {'tp_hit': 77, 'fp_hit': 5, 'tn_hit': 25, 'fn_hit': 1}, 1: {'tp_hit': 15, 'fp_hit': 1, 'tn_hit': 91, 'fn_hit': 1}, 2: {'tp_hit': 10, 'fp_hit': 0, 'tn_hit': 94, 'fn_hit': 4}}, 'checkpoint': 300} \n",
      "\n",
      "\n",
      "{'accuracy': 0.9567901234567902, 'mean_square_error': 0.12151013998122595, 'categorical_crossentropy': 0.2560159541942455, 'precision': 0.9351851851851852, 'recall': 0.9351851851851852, 'f1': 0.9351851851851852, 'essential_metrics': {0: {'tp_hit': 77, 'fp_hit': 6, 'tn_hit': 24, 'fn_hit': 1}, 1: {'tp_hit': 15, 'fp_hit': 1, 'tn_hit': 91, 'fn_hit': 1}, 2: {'tp_hit': 9, 'fp_hit': 0, 'tn_hit': 94, 'fn_hit': 5}}, 'checkpoint': 400} \n",
      "\n",
      "\n",
      "{'accuracy': 0.9567901234567902, 'mean_square_error': 0.11656255412069302, 'categorical_crossentropy': 0.2418903244866265, 'precision': 0.9351851851851852, 'recall': 0.9351851851851852, 'f1': 0.9351851851851852, 'essential_metrics': {0: {'tp_hit': 76, 'fp_hit': 5, 'tn_hit': 25, 'fn_hit': 2}, 1: {'tp_hit': 16, 'fp_hit': 2, 'tn_hit': 90, 'fn_hit': 0}, 2: {'tp_hit': 9, 'fp_hit': 0, 'tn_hit': 94, 'fn_hit': 5}}, 'checkpoint': 500} \n",
      "\n",
      "\n"
     ]
    }
   ],
   "source": [
    "for checkpoint in checkpoints:\n",
    "    print(checkpoint, '\\n\\n')"
   ]
  },
  {
   "cell_type": "code",
   "execution_count": 15,
   "metadata": {},
   "outputs": [
    {
     "name": "stdout",
     "output_type": "stream",
     "text": [
      "Layer 1\n",
      "Neuron 0: weights:\n",
      "[-0.06612092  1.01456    -0.03147218 -0.5226396  -1.3593767 ]\n",
      " bias: 0.39036446809768677\n",
      "\n",
      "Neuron 1: weights:\n",
      "[-0.00329949  0.3002974   0.09199199 -0.17770532 -0.5550408 ]\n",
      " bias: -0.0056063514202833176\n",
      "\n",
      "Neuron 2: weights:\n",
      "[ 1.4595612  -2.387288   -2.5905092   0.06244428  0.01867662]\n",
      " bias: 1.5918635129928589\n",
      "\n",
      "Neuron 3: weights:\n",
      "[-0.08223549 -0.06669463 -0.03200963  2.080222    0.5654408 ]\n",
      " bias: -0.21168771386146545\n",
      "\n",
      "$\n",
      "Layer 2\n",
      "Neuron 0: weights:\n",
      "[ 2.8061922  -0.00953655  2.863321   -2.1681721 ]\n",
      " bias: -2.2140424251556396\n",
      "\n",
      "Neuron 1: weights:\n",
      "[ 2.4380279   0.01099268 -3.         -0.8984764 ]\n",
      " bias: -0.1629602462053299\n",
      "\n",
      "Neuron 2: weights:\n",
      "[-1.0956004  -1.8166922   0.00954466  0.7973444 ]\n",
      " bias: 0.01903083361685276\n",
      "\n",
      "$\n",
      "\n"
     ]
    }
   ],
   "source": [
    "print(model)"
   ]
  }
 ],
 "metadata": {
  "kernelspec": {
   "display_name": "Python 3",
   "language": "python",
   "name": "python3"
  },
  "language_info": {
   "codemirror_mode": {
    "name": "ipython",
    "version": 3
   },
   "file_extension": ".py",
   "mimetype": "text/x-python",
   "name": "python",
   "nbconvert_exporter": "python",
   "pygments_lexer": "ipython3",
   "version": "3.6.10"
  }
 },
 "nbformat": 4,
 "nbformat_minor": 2
}
