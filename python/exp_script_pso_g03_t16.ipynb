{
 "cells": [
  {
   "cell_type": "code",
   "execution_count": 1,
   "metadata": {},
   "outputs": [],
   "source": [
    "# dependency\n",
    "import numpy as np\n",
    "import pandas as pd\n",
    "import copy\n",
    "import math\n",
    "import sys\n",
    "import os\n",
    "from activations import relu, leaky_relu, sigmoid, tanh, softmax, d_sigmoid, d_relu\n",
    "from initializers import glorot_uniform, random_normal, random_uniform\n",
    "from regularizers import l1_regularizer, l2_regularizer\n",
    "from utility import trim_tail, multiply, subtract, get_nparams, one_hot_encoding, get_data\n",
    "from metrics import MSE, CCE, ACC, PRECISION, RECALL, essential_metrics, wondering_penalty, close_gap_penalty\n",
    "from pso import PSO\n",
    "from ga import GA\n",
    "from nn import Network\n",
    "from layer import DenseLayer\n",
    "from scalers import MinMaxScaler, StandardScaler"
   ]
  },
  {
   "cell_type": "code",
   "execution_count": 2,
   "metadata": {},
   "outputs": [],
   "source": [
    "# reference\n",
    "metrics_fn_dict = dict()\n",
    "metrics_fn_dict['accuracy'] = ACC\n",
    "metrics_fn_dict['categorical_crossentropy'] = CCE\n",
    "metrics_fn_dict['mean_square_error'] = MSE\n",
    "metrics_fn_dict['precision'] = PRECISION\n",
    "metrics_fn_dict['recall'] = RECALL\n",
    "metrics_fn_dict['essential_metrics'] = essential_metrics"
   ]
  },
  {
   "cell_type": "code",
   "execution_count": 3,
   "metadata": {},
   "outputs": [],
   "source": [
    "# model\n",
    "model = Network(5, lr = None)\n",
    "model.add_layer(DenseLayer(1, 4, True, afn=sigmoid, dafn=None, rfn=None))\n",
    "model.add_layer(DenseLayer(2, 3, True, afn=softmax, dafn=None, rfn=None))"
   ]
  },
  {
   "cell_type": "code",
   "execution_count": 4,
   "metadata": {},
   "outputs": [
    {
     "name": "stdout",
     "output_type": "stream",
     "text": [
      "see one see two 2 0.5\n"
     ]
    }
   ],
   "source": [
    "pso = PSO(dict(m = 50,\n",
    "    weight_constraint = [-3, 3], \n",
    "    velocity_constraint = [-0.1, 0.1],\n",
    "    c1 = [0.5, 2],\n",
    "    c2 = [0.5, 2],\n",
    "    w = [0.5, 1.2],\n",
    "    w_decay = 0.95,\n",
    "    scale_hyperparameter = False,\n",
    "    regularizer = None,\n",
    "    mask = True))"
   ]
  },
  {
   "cell_type": "code",
   "execution_count": 5,
   "metadata": {},
   "outputs": [
    {
     "name": "stdout",
     "output_type": "stream",
     "text": [
      "building layer 1 with 5\n",
      "24\n",
      "building layer 2 with 4\n",
      "15\n"
     ]
    }
   ],
   "source": [
    "model.compile(loss_fn = 'categorical_crossentropy', optimizer = pso, \\\n",
    "    metrics = ['accuracy', 'mean_square_error', 'categorical_crossentropy'])"
   ]
  },
  {
   "cell_type": "code",
   "execution_count": 6,
   "metadata": {},
   "outputs": [
    {
     "name": "stdout",
     "output_type": "stream",
     "text": [
      "<class 'pandas.core.frame.DataFrame'>\n",
      "RangeIndex: 107 entries, 0 to 106\n",
      "Data columns (total 6 columns):\n",
      " #   Column  Non-Null Count  Dtype  \n",
      "---  ------  --------------  -----  \n",
      " 0   f1      107 non-null    float32\n",
      " 1   f2      107 non-null    float32\n",
      " 2   f3      107 non-null    float32\n",
      " 3   f4      107 non-null    float32\n",
      " 4   f5      107 non-null    float32\n",
      " 5   label   107 non-null    float32\n",
      "dtypes: float32(6)\n",
      "memory usage: 2.6 KB\n",
      "None\n",
      "<class 'pandas.core.frame.DataFrame'>\n",
      "RangeIndex: 108 entries, 0 to 107\n",
      "Data columns (total 6 columns):\n",
      " #   Column  Non-Null Count  Dtype  \n",
      "---  ------  --------------  -----  \n",
      " 0   f1      108 non-null    float32\n",
      " 1   f2      108 non-null    float32\n",
      " 2   f3      108 non-null    float32\n",
      " 3   f4      108 non-null    float32\n",
      " 4   f5      108 non-null    float32\n",
      " 5   label   108 non-null    float32\n",
      "dtypes: float32(6)\n",
      "memory usage: 2.7 KB\n",
      "None\n"
     ]
    }
   ],
   "source": [
    "# data loading\n",
    "DATA = os.path.join('c:\\\\Users\\\\tcumi\\\\github_repo\\\\neural-network\\\\', 'dataset')\n",
    "GROUP = 3\n",
    "COLUMNS = ['f1', 'f2', 'f3', 'f4', 'f5', 'label']\n",
    "N_CLASS = 3\n",
    "EPOCHS = 500\n",
    "train_dir, test_dir = \"..//dataset//training_data{}.txt\".format(GROUP), \"..//dataset//testing_data{}.txt\".format(GROUP)\n",
    "train, test = get_data(DATA, train_dir, COLUMNS), get_data(DATA, test_dir, COLUMNS)\n",
    "# shuffle\n",
    "train, test = train.sample(frac=1), test.sample(frac=1)\n",
    "x_train, y_train = train.drop('label', axis=1), train['label']\n",
    "x_test, y_test = test.drop('label', axis=1), test['label']"
   ]
  },
  {
   "cell_type": "code",
   "execution_count": 7,
   "metadata": {},
   "outputs": [],
   "source": [
    "# data scaling and encoding\n",
    "scaler = StandardScaler(['f1', 'f2', 'f3', 'f4', 'f5'])\n",
    "scaler.fit(x_train)\n",
    "x_train = scaler.transform(x_train)\n",
    "x_test = scaler.transform(x_test)\n",
    "y_train = one_hot_encoding(y_train, N_CLASS)\n",
    "y_test = one_hot_encoding(y_test, N_CLASS)"
   ]
  },
  {
   "cell_type": "code",
   "execution_count": 8,
   "metadata": {
    "tags": [
     "outputPrepend"
    ]
   },
   "outputs": [
    {
     "name": "stdout",
     "output_type": "stream",
     "text": [
      "Checkpoint 100, Accuracy: 0.9567901234567902, Loss: 0.28426218032836914\n",
      "Checkpoint 200, Accuracy: 0.9506172839506173, Loss: 0.1697846871835214\n",
      "Checkpoint 300, Accuracy: 0.9629629629629629, Loss: 0.13103751783017759\n",
      "Checkpoint 400, Accuracy: 0.9567901234567902, Loss: 0.12977228341279207\n",
      "Checkpoint 500, Accuracy: 0.9567901234567902, Loss: 0.1319524535426387\n"
     ]
    }
   ],
   "source": [
    "# learning phase\n",
    "breakpoint = 100\n",
    "checkpoints = list()\n",
    "history = list()\n",
    "for century in range(0, EPOCHS, breakpoint):\n",
    "    sub_history = model.fit(x_train, y_train, breakpoint, verbose = 0)\n",
    "    score = model.evaluate(x_test, y_test, False, verbose = 0)\n",
    "    print('Checkpoint {}, Accuracy: {}, Loss: {}'.format(century+breakpoint, score['accuracy'], score[model.loss_fn]))\n",
    "    score['checkpoint'] = century + breakpoint\n",
    "    checkpoints.append(score)\n",
    "    history.extend(sub_history)\n",
    "    itr = century + breakpoint\n",
    "    model.optimizer.c1 = np.max([model.optimizer.C1[1] - ((model.optimizer.C1[1] - model.optimizer.C1[0]) * itr / EPOCHS), model.optimizer.C1[0]])\n",
    "    model.optimizer.c2 = np.min([model.optimizer.C2[0] + ((model.optimizer.C2[1] - model.optimizer.C2[0]) * itr / EPOCHS), model.optimizer.C2[1]])\n",
    "    model.optimizer.w = np.max([model.optimizer.w * model.optimizer.W_Decay, model.optimizer.W[0]])"
   ]
  },
  {
   "cell_type": "code",
   "execution_count": 9,
   "metadata": {},
   "outputs": [],
   "source": [
    "import matplotlib.pyplot as plt\n",
    "\n",
    "def draw_plot(x, y_list, x_label=None, y_label=None, legend=None, title=None):\n",
    "    fig, ax = plt.subplots(figsize=(12,5))\n",
    "    for xi, yi in zip(x, y_list):\n",
    "        ax.plot(xi, yi)\n",
    "    if x_label is not None and y_label is not None:\n",
    "        ax.set(xlabel=x_label, ylabel=y_label, title='{} VS {}'.format(x_label, y_label))\n",
    "    if legend is not None:\n",
    "        ax.legend(legend)\n",
    "    ax.grid()\n",
    "    plt.show()"
   ]
  },
  {
   "cell_type": "code",
   "execution_count": 10,
   "metadata": {},
   "outputs": [
    {
     "name": "stdout",
     "output_type": "stream",
     "text": [
      "[1. 0. 0.] <-> [9.8982131e-01 9.3132602e-03 8.6542463e-04]\n",
      "[1. 0. 0.] <-> [0.855944   0.00167817 0.14237782]\n",
      "[1. 0. 0.] <-> [0.95858204 0.03974447 0.00167351]\n",
      "[1. 0. 0.] <-> [0.996318   0.0021002  0.00158176]\n",
      "[1. 0. 0.] <-> [9.9511623e-01 4.0414361e-03 8.4239437e-04]\n",
      "[1. 0. 0.] <-> [9.947196e-01 4.460971e-03 8.193994e-04]\n",
      "[1. 0. 0.] <-> [0.6555674  0.00228864 0.342144  ]\n",
      "[1. 0. 0.] <-> [0.18711863 0.8108692  0.00201211]\n",
      "[1. 0. 0.] <-> [0.63976985 0.3564336  0.00379657]\n",
      "[1. 0. 0.] <-> [0.9921827  0.00140881 0.00640853]\n",
      "[0. 1. 0.] <-> [0.01377358 0.9852154  0.00101103]\n",
      "[0. 1. 0.] <-> [4.5146360e-03 9.9474996e-01 7.3546899e-04]\n",
      "[1. 0. 0.] <-> [0.9952348  0.00292753 0.00183768]\n",
      "[0. 1. 0.] <-> [4.5104963e-03 9.9474192e-01 7.4759265e-04]\n",
      "[1. 0. 0.] <-> [0.99614906 0.00174541 0.00210556]\n",
      "[1. 0. 0.] <-> [0.99681807 0.00196646 0.00121547]\n",
      "[0. 1. 0.] <-> [4.535925e-03 9.946845e-01 7.795839e-04]\n",
      "[1. 0. 0.] <-> [9.9756253e-01 1.4835901e-03 9.5381582e-04]\n",
      "[1. 0. 0.] <-> [0.9973126  0.00163457 0.00105277]\n",
      "[1. 0. 0.] <-> [0.9608126  0.00282708 0.03636027]\n",
      "[1. 0. 0.] <-> [0.8395066  0.07275572 0.08773756]\n",
      "[0. 1. 0.] <-> [0.01521763 0.9836678  0.00111455]\n",
      "[0. 1. 0.] <-> [0.02112604 0.97762704 0.00124684]\n",
      "[1. 0. 0.] <-> [0.74622226 0.18204376 0.07173397]\n",
      "[1. 0. 0.] <-> [9.9518389e-01 4.1632173e-03 6.5286440e-04]\n",
      "[0. 1. 0.] <-> [5.6547578e-03 9.9352527e-01 8.1998354e-04]\n",
      "[1. 0. 0.] <-> [0.9970306  0.00138484 0.00158454]\n",
      "[1. 0. 0.] <-> [0.9972306  0.00156675 0.00120268]\n",
      "[0. 0. 1.] <-> [1.7056959e-02 3.1536951e-05 9.8291147e-01]\n",
      "[1. 0. 0.] <-> [9.9732697e-01 2.1088992e-03 5.6413602e-04]\n",
      "[1. 0. 0.] <-> [0.16077964 0.83408016 0.00514016]\n",
      "[1. 0. 0.] <-> [0.9812336  0.00137345 0.01739295]\n",
      "[1. 0. 0.] <-> [9.9735790e-01 1.9489486e-03 6.9314614e-04]\n",
      "[1. 0. 0.] <-> [0.9822249  0.01579219 0.00198294]\n",
      "[1. 0. 0.] <-> [9.9717534e-01 1.9985030e-03 8.2615420e-04]\n",
      "[1. 0. 0.] <-> [0.96506983 0.00249252 0.03243757]\n",
      "[0. 1. 0.] <-> [0.5147894  0.48282894 0.00238163]\n",
      "[1. 0. 0.] <-> [0.993718   0.00150375 0.00477823]\n",
      "[1. 0. 0.] <-> [9.9621552e-01 3.1206314e-03 6.6387543e-04]\n",
      "[1. 0. 0.] <-> [9.9753177e-01 1.5605048e-03 9.0769964e-04]\n",
      "[1. 0. 0.] <-> [0.799259   0.19792116 0.00281974]\n",
      "[1. 0. 0.] <-> [0.75457025 0.24156007 0.00386964]\n",
      "[0. 0. 1.] <-> [3.7733131e-05 2.8304288e-05 9.9993396e-01]\n",
      "[0. 1. 0.] <-> [4.5144684e-03 9.9474961e-01 7.3594518e-04]\n",
      "[0. 0. 1.] <-> [3.7755413e-05 2.8308013e-05 9.9993396e-01]\n",
      "[0. 0. 1.] <-> [0.59349495 0.00105098 0.40545404]\n",
      "[0. 0. 1.] <-> [1.4234635e-01 2.3355841e-04 8.5742009e-01]\n",
      "[0. 1. 0.] <-> [4.5085084e-03 9.9473321e-01 7.5834210e-04]\n",
      "[1. 0. 0.] <-> [9.9606740e-01 3.0397133e-03 8.9283619e-04]\n",
      "[1. 0. 0.] <-> [9.9769235e-01 1.6324285e-03 6.7525456e-04]\n",
      "[1. 0. 0.] <-> [0.99702245 0.00192914 0.00104839]\n",
      "[0. 0. 1.] <-> [1.7968796e-02 3.3120581e-05 9.8199815e-01]\n",
      "[1. 0. 0.] <-> [0.9511298  0.01725329 0.0316169 ]\n",
      "[1. 0. 0.] <-> [0.40944883 0.58469504 0.00585615]\n",
      "[1. 0. 0.] <-> [9.9776864e-01 1.5008916e-03 7.3041726e-04]\n",
      "[1. 0. 0.] <-> [9.9586236e-01 3.4141871e-03 7.2346372e-04]\n",
      "[1. 0. 0.] <-> [0.9935952  0.00207604 0.00432889]\n",
      "[1. 0. 0.] <-> [0.98489815 0.0014226  0.01367919]\n",
      "[0. 0. 1.] <-> [1.4162857e-02 2.8061277e-05 9.8580903e-01]\n",
      "[1. 0. 0.] <-> [0.88735116 0.00131875 0.11133002]\n",
      "[1. 0. 0.] <-> [0.9882989  0.00139259 0.01030853]\n",
      "[1. 0. 0.] <-> [3.5326201e-02 2.6661521e-04 9.6440715e-01]\n",
      "[1. 0. 0.] <-> [0.9788017  0.01804438 0.00315391]\n",
      "[1. 0. 0.] <-> [0.9952891  0.00156249 0.00314849]\n",
      "[0. 1. 0.] <-> [0.01828915 0.9806654  0.00104545]\n",
      "[1. 0. 0.] <-> [0.99562824 0.00158255 0.00278921]\n",
      "[1. 0. 0.] <-> [0.94529957 0.00134879 0.05335167]\n",
      "[1. 0. 0.] <-> [0.94765705 0.04868009 0.00366292]\n",
      "[1. 0. 0.] <-> [9.9727005e-01 2.0156850e-03 7.1420200e-04]\n",
      "[1. 0. 0.] <-> [0.9952722 0.0028199 0.0019079]\n",
      "[0. 0. 1.] <-> [7.9131119e-02 1.5232399e-04 9.2071652e-01]\n",
      "[1. 0. 0.] <-> [9.9763668e-01 1.7095781e-03 6.5378856e-04]\n",
      "[1. 0. 0.] <-> [9.9745363e-01 1.5722720e-03 9.7410742e-04]\n",
      "[1. 0. 0.] <-> [0.8169277  0.00126544 0.18180688]\n",
      "[1. 0. 0.] <-> [9.9578673e-01 3.3304342e-03 8.8284008e-04]\n",
      "[0. 1. 0.] <-> [0.32270637 0.675152   0.00214172]\n",
      "[0. 0. 1.] <-> [1.5095639e-02 2.8095188e-05 9.8487628e-01]\n",
      "[1. 0. 0.] <-> [9.9625754e-01 3.1758978e-03 5.6657410e-04]\n",
      "[1. 0. 0.] <-> [9.9620783e-01 2.8713476e-03 9.2084176e-04]\n",
      "[0. 1. 0.] <-> [4.5124628e-03 9.9474585e-01 7.4176287e-04]\n",
      "[1. 0. 0.] <-> [0.9954554  0.00151741 0.00302722]\n",
      "[1. 0. 0.] <-> [9.9768746e-01 1.4503459e-03 8.6212927e-04]\n",
      "[1. 0. 0.] <-> [0.99548244 0.00333281 0.0011847 ]\n",
      "[1. 0. 0.] <-> [9.9536669e-01 3.6449435e-03 9.8838133e-04]\n",
      "[1. 0. 0.] <-> [0.9967782  0.00150488 0.00171693]\n",
      "[1. 0. 0.] <-> [9.9637198e-01 2.9258770e-03 7.0225034e-04]\n",
      "[1. 0. 0.] <-> [0.979086   0.00223157 0.0186824 ]\n",
      "[1. 0. 0.] <-> [0.90061665 0.09363835 0.005745  ]\n",
      "[1. 0. 0.] <-> [0.99278766 0.00421647 0.00299584]\n",
      "[1. 0. 0.] <-> [9.9700963e-01 2.3606690e-03 6.2965485e-04]\n",
      "[0. 0. 1.] <-> [4.0024097e-04 2.8294460e-05 9.9957150e-01]\n",
      "[1. 0. 0.] <-> [0.96911657 0.00141558 0.02946784]\n",
      "[0. 0. 1.] <-> [7.5520752e-03 4.0710285e-05 9.9240726e-01]\n",
      "[1. 0. 0.] <-> [0.9916893  0.00606748 0.00224324]\n",
      "[0. 1. 0.] <-> [4.5092115e-03 9.9473947e-01 7.5130386e-04]\n",
      "[0. 0. 1.] <-> [9.1513190e-03 3.7304617e-05 9.9081135e-01]\n",
      "[1. 0. 0.] <-> [0.8643462  0.13222429 0.00342949]\n",
      "[1. 0. 0.] <-> [0.9932721  0.00550571 0.00122217]\n",
      "[1. 0. 0.] <-> [9.974897e-01 1.921235e-03 5.890779e-04]\n",
      "[1. 0. 0.] <-> [9.9649423e-01 2.6979407e-03 8.0774975e-04]\n",
      "[0. 0. 1.] <-> [1.6214870e-02 3.0060684e-05 9.8375505e-01]\n",
      "[0. 1. 0.] <-> [0.07442668 0.9239773  0.001596  ]\n",
      "[1. 0. 0.] <-> [0.99578285 0.00203745 0.0021797 ]\n",
      "[0. 0. 1.] <-> [0.5296966  0.00080667 0.46949676]\n",
      "[0. 1. 0.] <-> [4.5297542e-03 9.9472153e-01 7.4869290e-04]\n",
      "[1. 0. 0.] <-> [0.9906927  0.00807117 0.00123611]\n",
      "[1. 0. 0.] <-> [9.9705374e-01 2.1128501e-03 8.3346409e-04]\n",
      "[1. 0. 0.] <-> [9.9719292e-01 2.2033646e-03 6.0372357e-04]\n",
      "{'accuracy': 0.9567901234567902, 'mean_square_error': 0.07777131484165281, 'categorical_crossentropy': 0.1319524535426387, 'essential_metrics': {0: {'tp_hit': 74, 'fp_hit': 3, 'tn_hit': 27, 'fn_hit': 4}, 1: {'tp_hit': 15, 'fp_hit': 3, 'tn_hit': 89, 'fn_hit': 1}, 2: {'tp_hit': 12, 'fp_hit': 1, 'tn_hit': 93, 'fn_hit': 2}}}\n"
     ]
    }
   ],
   "source": [
    "# recall phase\n",
    "score = model.evaluate(x_test, y_test, False)\n",
    "print(score)"
   ]
  },
  {
   "cell_type": "code",
   "execution_count": 11,
   "metadata": {},
   "outputs": [
    {
     "data": {
      "image/png": "[encoded data removed]",
      "text/plain": [
       "<Figure size 864x360 with 1 Axes>"
      ]
     },
     "metadata": {
      "needs_background": "light"
     },
     "output_type": "display_data"
    },
    {
     "data": {
      "image/png": "[encoded data removed]",
      "text/plain": [
       "<Figure size 864x360 with 1 Axes>"
      ]
     },
     "metadata": {
      "needs_background": "light"
     },
     "output_type": "display_data"
    }
   ],
   "source": [
    "draw_plot(x = [[i for i in range(len(history))], [(i+1)*breakpoint for i in range(len(checkpoints))]], y_list = [history, [ ckp[model.loss_fn] for ckp in checkpoints ]], x_label = 'Epochs', \\\n",
    "    y_label = model.loss_fn, legend=['train', 'test'])\n",
    "acc = [ ckp['accuracy'] for ckp in checkpoints ]\n",
    "draw_plot(x = [[(i+1)*breakpoint for i in range(len(checkpoints))]], y_list = [acc], x_label = 'Checkpoints', \\\n",
    "    y_label = 'accuracy')"
   ]
  },
  {
   "cell_type": "code",
   "execution_count": 12,
   "metadata": {},
   "outputs": [
    {
     "name": "stdout",
     "output_type": "stream",
     "text": [
      "{'accuracy': 0.9567901234567902, 'mean_square_error': 0.14317621669601388, 'categorical_crossentropy': 0.28426218032836914, 'essential_metrics': {0: {'tp_hit': 78, 'fp_hit': 7, 'tn_hit': 23, 'fn_hit': 0}, 1: {'tp_hit': 15, 'fp_hit': 0, 'tn_hit': 92, 'fn_hit': 1}, 2: {'tp_hit': 8, 'fp_hit': 0, 'tn_hit': 94, 'fn_hit': 6}}, 'checkpoint': 100} \n",
      "\n",
      "\n",
      "{'accuracy': 0.9506172839506173, 'mean_square_error': 0.09601778683904343, 'categorical_crossentropy': 0.1697846871835214, 'essential_metrics': {0: {'tp_hit': 73, 'fp_hit': 3, 'tn_hit': 27, 'fn_hit': 5}, 1: {'tp_hit': 15, 'fp_hit': 2, 'tn_hit': 90, 'fn_hit': 1}, 2: {'tp_hit': 12, 'fp_hit': 3, 'tn_hit': 91, 'fn_hit': 2}}, 'checkpoint': 200} \n",
      "\n",
      "\n",
      "{'accuracy': 0.9629629629629629, 'mean_square_error': 0.07804110669042152, 'categorical_crossentropy': 0.13103751783017759, 'essential_metrics': {0: {'tp_hit': 74, 'fp_hit': 2, 'tn_hit': 28, 'fn_hit': 4}, 1: {'tp_hit': 15, 'fp_hit': 3, 'tn_hit': 89, 'fn_hit': 1}, 2: {'tp_hit': 13, 'fp_hit': 1, 'tn_hit': 93, 'fn_hit': 1}}, 'checkpoint': 300} \n",
      "\n",
      "\n",
      "{'accuracy': 0.9567901234567902, 'mean_square_error': 0.07880333967784117, 'categorical_crossentropy': 0.12977228341279207, 'essential_metrics': {0: {'tp_hit': 74, 'fp_hit': 3, 'tn_hit': 27, 'fn_hit': 4}, 1: {'tp_hit': 15, 'fp_hit': 3, 'tn_hit': 89, 'fn_hit': 1}, 2: {'tp_hit': 12, 'fp_hit': 1, 'tn_hit': 93, 'fn_hit': 2}}, 'checkpoint': 400} \n",
      "\n",
      "\n",
      "{'accuracy': 0.9567901234567902, 'mean_square_error': 0.07777131484165281, 'categorical_crossentropy': 0.1319524535426387, 'essential_metrics': {0: {'tp_hit': 74, 'fp_hit': 3, 'tn_hit': 27, 'fn_hit': 4}, 1: {'tp_hit': 15, 'fp_hit': 3, 'tn_hit': 89, 'fn_hit': 1}, 2: {'tp_hit': 12, 'fp_hit': 1, 'tn_hit': 93, 'fn_hit': 2}}, 'checkpoint': 500} \n",
      "\n",
      "\n"
     ]
    }
   ],
   "source": [
    "for checkpoint in checkpoints:\n",
    "    print(checkpoint, '\\n\\n')"
   ]
  },
  {
   "cell_type": "code",
   "execution_count": 13,
   "metadata": {},
   "outputs": [
    {
     "name": "stdout",
     "output_type": "stream",
     "text": [
      "Layer 1\n",
      "Neuron 0: weights:\n",
      "[ 2.1548533 -3.        -3.        -2.4108303 -3.       ]\n",
      " bias: 0.5823390483856201\n",
      "\n",
      "Neuron 1: weights:\n",
      "[ 0.9629382 -3.        -3.         0.5069253  3.       ]\n",
      " bias: -3.0\n",
      "\n",
      "Neuron 2: weights:\n",
      "[ 0.5295145  3.        -1.269065  -3.        -3.       ]\n",
      " bias: 1.568540334701538\n",
      "\n",
      "Neuron 3: weights:\n",
      "[-2.1228397  3.         3.        -1.4692127 -1.2923263]\n",
      " bias: -3.0\n",
      "\n",
      "$\n",
      "Layer 2\n",
      "Neuron 0: weights:\n",
      "[ 3. -3.  3. -3.]\n",
      " bias: -1.4960659742355347\n",
      "\n",
      "Neuron 1: weights:\n",
      "[-3.        -3.         2.6823325  3.       ]\n",
      " bias: -1.7832401990890503\n",
      "\n",
      "Neuron 2: weights:\n",
      "[-3.  3. -3. -3.]\n",
      " bias: 2.6891915798187256\n",
      "\n",
      "$\n",
      "\n"
     ]
    }
   ],
   "source": [
    "print(model)"
   ]
  }
 ],
 "metadata": {
  "kernelspec": {
   "display_name": "Python 3",
   "language": "python",
   "name": "python3"
  },
  "language_info": {
   "codemirror_mode": {
    "name": "ipython",
    "version": 3
   },
   "file_extension": ".py",
   "mimetype": "text/x-python",
   "name": "python",
   "nbconvert_exporter": "python",
   "pygments_lexer": "ipython3",
   "version": "3.6.10"
  }
 },
 "nbformat": 4,
 "nbformat_minor": 2
}
