{
 "cells": [
  {
   "cell_type": "code",
   "execution_count": 1,
   "metadata": {},
   "outputs": [],
   "source": [
    "# dependency\n",
    "import numpy as np\n",
    "import pandas as pd\n",
    "import copy\n",
    "import math\n",
    "import sys\n",
    "import os\n",
    "from activations import relu, leaky_relu, sigmoid, tanh, softmax, d_sigmoid, d_relu\n",
    "from initializers import glorot_uniform, random_normal, random_uniform\n",
    "from regularizers import l1_regularizer, l2_regularizer\n",
    "from utility import trim_tail, multiply, subtract, get_nparams, one_hot_encoding, get_data\n",
    "from metrics import MSE, CCE, ACC, PRECISION, RECALL, essential_metrics, wondering_penalty, close_gap_penalty\n",
    "from pso import PSO\n",
    "from ga import GA\n",
    "from nn import Network\n",
    "from layer import DenseLayer\n",
    "from scalers import MinMaxScaler, StandardScaler"
   ]
  },
  {
   "cell_type": "code",
   "execution_count": 2,
   "metadata": {},
   "outputs": [],
   "source": [
    "# reference\n",
    "metrics_fn_dict = dict()\n",
    "metrics_fn_dict['accuracy'] = ACC\n",
    "metrics_fn_dict['categorical_crossentropy'] = CCE\n",
    "metrics_fn_dict['mean_square_error'] = MSE\n",
    "metrics_fn_dict['precision'] = PRECISION\n",
    "metrics_fn_dict['recall'] = RECALL\n",
    "metrics_fn_dict['essential_metrics'] = essential_metrics"
   ]
  },
  {
   "cell_type": "code",
   "execution_count": 3,
   "metadata": {},
   "outputs": [],
   "source": [
    "# model\n",
    "model = Network(5, lr = None)\n",
    "model.add_layer(DenseLayer(1, 4, True, afn=sigmoid, dafn=None, rfn=None))\n",
    "model.add_layer(DenseLayer(2, 3, True, afn=softmax, dafn=None, rfn=None))"
   ]
  },
  {
   "cell_type": "code",
   "execution_count": 4,
   "metadata": {},
   "outputs": [
    {
     "name": "stdout",
     "output_type": "stream",
     "text": [
      "see one see two 2 2\n"
     ]
    }
   ],
   "source": [
    "pso = PSO(dict(m = 200,\n",
    "    weight_constraint = [-3, 3], \n",
    "    velocity_constraint = [-0.1, 0.1],\n",
    "    c1 = 2,\n",
    "    c2 = 2,\n",
    "    w = 1,\n",
    "    w_decay = 1,\n",
    "    scale_hyperparameter = False,\n",
    "    regularizer = None,\n",
    "    mask = True))"
   ]
  },
  {
   "cell_type": "code",
   "execution_count": 5,
   "metadata": {},
   "outputs": [
    {
     "name": "stdout",
     "output_type": "stream",
     "text": [
      "building layer 1 with 5\n",
      "24\n",
      "building layer 2 with 4\n",
      "15\n"
     ]
    }
   ],
   "source": [
    "model.compile(loss_fn = 'categorical_crossentropy', optimizer = pso, \\\n",
    "    metrics = ['accuracy', 'mean_square_error', 'categorical_crossentropy'])"
   ]
  },
  {
   "cell_type": "code",
   "execution_count": 6,
   "metadata": {},
   "outputs": [
    {
     "name": "stdout",
     "output_type": "stream",
     "text": [
      "<class 'pandas.core.frame.DataFrame'>\n",
      "RangeIndex: 107 entries, 0 to 106\n",
      "Data columns (total 6 columns):\n",
      " #   Column  Non-Null Count  Dtype  \n",
      "---  ------  --------------  -----  \n",
      " 0   f1      107 non-null    float32\n",
      " 1   f2      107 non-null    float32\n",
      " 2   f3      107 non-null    float32\n",
      " 3   f4      107 non-null    float32\n",
      " 4   f5      107 non-null    float32\n",
      " 5   label   107 non-null    float32\n",
      "dtypes: float32(6)\n",
      "memory usage: 2.6 KB\n",
      "None\n",
      "<class 'pandas.core.frame.DataFrame'>\n",
      "RangeIndex: 108 entries, 0 to 107\n",
      "Data columns (total 6 columns):\n",
      " #   Column  Non-Null Count  Dtype  \n",
      "---  ------  --------------  -----  \n",
      " 0   f1      108 non-null    float32\n",
      " 1   f2      108 non-null    float32\n",
      " 2   f3      108 non-null    float32\n",
      " 3   f4      108 non-null    float32\n",
      " 4   f5      108 non-null    float32\n",
      " 5   label   108 non-null    float32\n",
      "dtypes: float32(6)\n",
      "memory usage: 2.7 KB\n",
      "None\n"
     ]
    }
   ],
   "source": [
    "# data loading\n",
    "DATA = os.path.join('c:\\\\Users\\\\tcumi\\\\github_repo\\\\neural-network\\\\', 'dataset')\n",
    "GROUP = 3\n",
    "COLUMNS = ['f1', 'f2', 'f3', 'f4', 'f5', 'label']\n",
    "N_CLASS = 3\n",
    "EPOCHS = 500\n",
    "train_dir, test_dir = \"..//dataset//training_data{}.txt\".format(GROUP), \"..//dataset//testing_data{}.txt\".format(GROUP)\n",
    "train, test = get_data(DATA, train_dir, COLUMNS), get_data(DATA, test_dir, COLUMNS)\n",
    "# shuffle\n",
    "train, test = train.sample(frac=1), test.sample(frac=1)\n",
    "x_train, y_train = train.drop('label', axis=1), train['label']\n",
    "x_test, y_test = test.drop('label', axis=1), test['label']"
   ]
  },
  {
   "cell_type": "code",
   "execution_count": 7,
   "metadata": {},
   "outputs": [],
   "source": [
    "# data scaling and encoding\n",
    "scaler = StandardScaler(['f1', 'f2', 'f3', 'f4', 'f5'])\n",
    "scaler.fit(x_train)\n",
    "x_train = scaler.transform(x_train)\n",
    "x_test = scaler.transform(x_test)\n",
    "y_train = one_hot_encoding(y_train, N_CLASS)\n",
    "y_test = one_hot_encoding(y_test, N_CLASS)"
   ]
  },
  {
   "cell_type": "code",
   "execution_count": 8,
   "metadata": {
    "tags": [
     "outputPrepend"
    ]
   },
   "outputs": [
    {
     "name": "stdout",
     "output_type": "stream",
     "text": [
      "Checkpoint 100, Accuracy: 0.9259259259259259, Loss: 0.30600706736246747\n",
      "Checkpoint 200, Accuracy: 0.9629629629629629, Loss: 0.10907689730326335\n",
      "Checkpoint 300, Accuracy: 0.9691358024691358, Loss: 0.10821834316960087\n",
      "Checkpoint 400, Accuracy: 0.9691358024691358, Loss: 0.10719383204424823\n",
      "Checkpoint 500, Accuracy: 0.9691358024691358, Loss: 0.1079909536573622\n"
     ]
    }
   ],
   "source": [
    "# learning phase\n",
    "breakpoint = 100\n",
    "checkpoints = list()\n",
    "history = list()\n",
    "for century in range(0, EPOCHS, breakpoint):\n",
    "    sub_history = model.fit(x_train, y_train, breakpoint, verbose = 0)\n",
    "    score = model.evaluate(x_test, y_test, False, verbose = 0)\n",
    "    print('Checkpoint {}, Accuracy: {}, Loss: {}'.format(century+breakpoint, score['accuracy'], score[model.loss_fn]))\n",
    "    score['checkpoint'] = century + breakpoint\n",
    "    checkpoints.append(score)\n",
    "    history.extend(sub_history)"
   ]
  },
  {
   "cell_type": "code",
   "execution_count": 9,
   "metadata": {},
   "outputs": [],
   "source": [
    "import matplotlib.pyplot as plt\n",
    "\n",
    "def draw_plot(x, y_list, x_label=None, y_label=None, legend=None, title=None):\n",
    "    fig, ax = plt.subplots(figsize=(12,5))\n",
    "    for xi, yi in zip(x, y_list):\n",
    "        ax.plot(xi, yi)\n",
    "    if x_label is not None and y_label is not None:\n",
    "        ax.set(xlabel=x_label, ylabel=y_label, title='{} VS {}'.format(x_label, y_label))\n",
    "    if legend is not None:\n",
    "        ax.legend(legend)\n",
    "    ax.grid()\n",
    "    plt.show()"
   ]
  },
  {
   "cell_type": "code",
   "execution_count": 10,
   "metadata": {},
   "outputs": [
    {
     "name": "stdout",
     "output_type": "stream",
     "text": [
      "[0. 1. 0.] <-> [3.8362745e-02 9.6147400e-01 1.6315900e-04]\n",
      "[0. 0. 1.] <-> [1.0642764e-02 2.7977256e-05 9.8932928e-01]\n",
      "[0. 1. 0.] <-> [5.7755704e-03 9.9419171e-01 3.2706950e-05]\n",
      "[1. 0. 0.] <-> [0.99599105 0.00281071 0.00119826]\n",
      "[1. 0. 0.] <-> [0.60902107 0.38933122 0.00164771]\n",
      "[1. 0. 0.] <-> [0.99659914 0.00137024 0.00203065]\n",
      "[1. 0. 0.] <-> [0.9975979  0.0013017  0.00110036]\n",
      "[1. 0. 0.] <-> [0.9970053  0.00159982 0.00139479]\n",
      "[0. 0. 1.] <-> [0.5974117  0.00105797 0.40153024]\n",
      "[1. 0. 0.] <-> [0.9974082  0.00123388 0.00135794]\n",
      "[0. 1. 0.] <-> [5.7961601e-03 9.9417084e-01 3.2889180e-05]\n",
      "[1. 0. 0.] <-> [0.98873365 0.00233132 0.00893503]\n",
      "[1. 0. 0.] <-> [0.99748576 0.00110857 0.00140559]\n",
      "[1. 0. 0.] <-> [0.9848846  0.0012907  0.01382471]\n",
      "[1. 0. 0.] <-> [0.9782351  0.02030272 0.00146207]\n",
      "[0. 0. 1.] <-> [1.3784475e-02 3.5870737e-05 9.8617965e-01]\n",
      "[0. 0. 1.] <-> [1.1414056e-02 2.9653800e-05 9.8855633e-01]\n",
      "[1. 0. 0.] <-> [0.9972523  0.0013526  0.00139507]\n",
      "[1. 0. 0.] <-> [0.95368767 0.00139126 0.04492098]\n",
      "[1. 0. 0.] <-> [0.99398756 0.00475839 0.001254  ]\n",
      "[1. 0. 0.] <-> [0.99663925 0.00171689 0.00164384]\n",
      "[1. 0. 0.] <-> [0.99631447 0.00200917 0.0016764 ]\n",
      "[1. 0. 0.] <-> [0.5124908  0.48585775 0.00165141]\n",
      "[1. 0. 0.] <-> [0.9971758  0.00120947 0.00161466]\n",
      "[1. 0. 0.] <-> [0.9836785  0.01484415 0.00147725]\n",
      "[1. 0. 0.] <-> [0.99636745 0.00138142 0.00225116]\n",
      "[1. 0. 0.] <-> [0.98606884 0.01242765 0.0015035 ]\n",
      "[1. 0. 0.] <-> [0.9955201  0.0012379  0.00324194]\n",
      "[1. 0. 0.] <-> [0.92255497 0.0758638  0.00158126]\n",
      "[1. 0. 0.] <-> [0.99217427 0.00141041 0.00641532]\n",
      "[0. 0. 1.] <-> [6.6230064e-03 1.7862541e-05 9.9335915e-01]\n",
      "[1. 0. 0.] <-> [0.9880845  0.00877638 0.00313917]\n",
      "[1. 0. 0.] <-> [0.9897384  0.00127661 0.00898497]\n",
      "[1. 0. 0.] <-> [0.9953656  0.00171458 0.00291978]\n",
      "[0. 0. 1.] <-> [9.2010833e-03 2.4337558e-05 9.9077457e-01]\n",
      "[0. 1. 0.] <-> [5.7762056e-03 9.9419099e-01 3.2792377e-05]\n",
      "[1. 0. 0.] <-> [0.997329   0.00151484 0.00115627]\n",
      "[0. 0. 1.] <-> [6.6211340e-03 1.7857668e-05 9.9336100e-01]\n",
      "[1. 0. 0.] <-> [0.99432385 0.00416496 0.00151113]\n",
      "[1. 0. 0.] <-> [0.9924695  0.00282781 0.00470282]\n",
      "[1. 0. 0.] <-> [0.9627313  0.0356433  0.00162542]\n",
      "[1. 0. 0.] <-> [0.9941393  0.00126797 0.00459276]\n",
      "[1. 0. 0.] <-> [0.9971232  0.0017465  0.00113035]\n",
      "[1. 0. 0.] <-> [0.98335224 0.00591147 0.0107363 ]\n",
      "[1. 0. 0.] <-> [0.9958046  0.00254551 0.00164992]\n",
      "[1. 0. 0.] <-> [0.99636394 0.00249367 0.00114236]\n",
      "[1. 0. 0.] <-> [0.9931572  0.00121463 0.00562822]\n",
      "[0. 1. 0.] <-> [1.7224478e-02 9.8268938e-01 8.6118154e-05]\n",
      "[1. 0. 0.] <-> [0.99646324 0.00239817 0.00113859]\n",
      "[1. 0. 0.] <-> [0.9944112  0.00158591 0.00400291]\n",
      "[1. 0. 0.] <-> [0.99705976 0.00120002 0.00174026]\n",
      "[1. 0. 0.] <-> [0.9956684  0.00276714 0.00156454]\n",
      "[0. 1. 0.] <-> [5.7755625e-03 9.9419171e-01 3.2707700e-05]\n",
      "[1. 0. 0.] <-> [0.99716043 0.00126587 0.00157374]\n",
      "[1. 0. 0.] <-> [0.31099322 0.6880813  0.00092553]\n",
      "[1. 0. 0.] <-> [0.9963664  0.00250032 0.00113327]\n",
      "[1. 0. 0.] <-> [0.99676824 0.0015014  0.00173034]\n",
      "[1. 0. 0.] <-> [0.9971289  0.00161774 0.00125338]\n",
      "[1. 0. 0.] <-> [0.9911137  0.00732178 0.0015645 ]\n",
      "[1. 0. 0.] <-> [0.9969292  0.00125311 0.00181774]\n",
      "[1. 0. 0.] <-> [0.9973144  0.00164189 0.00104374]\n",
      "[1. 0. 0.] <-> [0.99215865 0.00586755 0.00197371]\n",
      "[1. 0. 0.] <-> [0.99736613 0.00114516 0.00148874]\n",
      "[0. 1. 0.] <-> [5.804422e-03 9.941624e-01 3.317148e-05]\n",
      "[0. 0. 1.] <-> [6.9528972e-03 1.8718332e-05 9.9302834e-01]\n",
      "[1. 0. 0.] <-> [0.9975879  0.00115087 0.00126119]\n",
      "[0. 1. 0.] <-> [1.2876472e-02 9.8705834e-01 6.5155939e-05]\n",
      "[0. 1. 0.] <-> [5.7753795e-03 9.9419194e-01 3.2725242e-05]\n",
      "[1. 0. 0.] <-> [0.9950807  0.00372416 0.00119509]\n",
      "[1. 0. 0.] <-> [0.7044775  0.29353625 0.00198634]\n",
      "[1. 0. 0.] <-> [0.8517643  0.00136278 0.14687286]\n",
      "[1. 0. 0.] <-> [0.50746083 0.00102025 0.4915189 ]\n",
      "[1. 0. 0.] <-> [0.9759464  0.0014193  0.02263433]\n",
      "[1. 0. 0.] <-> [0.8135308  0.00135203 0.18511721]\n",
      "[1. 0. 0.] <-> [0.9948206  0.00119978 0.00397956]\n",
      "[1. 0. 0.] <-> [0.9957704  0.00129695 0.00293259]\n",
      "[1. 0. 0.] <-> [1.00220144e-01 2.19464710e-04 8.99560332e-01]\n",
      "[1. 0. 0.] <-> [0.9662878  0.00148999 0.03222221]\n",
      "[1. 0. 0.] <-> [0.9969181  0.00178317 0.00129871]\n",
      "[0. 0. 1.] <-> [1.0015050e-02 2.6485244e-05 9.8995847e-01]\n",
      "[1. 0. 0.] <-> [0.99384415 0.00126165 0.00489417]\n",
      "[1. 0. 0.] <-> [0.9960765  0.00158807 0.00233536]\n",
      "[0. 0. 1.] <-> [6.6220970e-03 1.7862745e-05 9.9336010e-01]\n",
      "[0. 0. 1.] <-> [0.5251263 0.000968  0.4739057]\n",
      "[1. 0. 0.] <-> [0.9966043  0.00124761 0.00214805]\n",
      "[1. 0. 0.] <-> [0.99674255 0.00210872 0.00114873]\n",
      "[0. 1. 0.] <-> [6.6365208e-03 9.9332595e-01 3.7502759e-05]\n",
      "[1. 0. 0.] <-> [0.9970951  0.00175428 0.00115064]\n",
      "[0. 0. 1.] <-> [5.4758724e-02 1.2478000e-04 9.4511646e-01]\n",
      "[0. 1. 0.] <-> [1.6500163e-01 8.3442718e-01 5.7117222e-04]\n",
      "[1. 0. 0.] <-> [0.9970799  0.00128931 0.00163083]\n",
      "[1. 0. 0.] <-> [0.9969421  0.00152504 0.00153289]\n",
      "[1. 0. 0.] <-> [0.9956696  0.00320552 0.0011248 ]\n",
      "[0. 1. 0.] <-> [5.7754884e-03 9.9419183e-01 3.2714037e-05]\n",
      "[0. 0. 1.] <-> [6.8553481e-03 1.8459323e-05 9.9312615e-01]\n",
      "[1. 0. 0.] <-> [0.9956981  0.00237571 0.00192622]\n",
      "[0. 0. 1.] <-> [5.2109234e-02 1.2100895e-04 9.4776976e-01]\n",
      "[0. 1. 0.] <-> [1.4721293e-02 9.8520768e-01 7.1084636e-05]\n",
      "[1. 0. 0.] <-> [0.9939884  0.00121173 0.00479993]\n",
      "[0. 1. 0.] <-> [1.2043929e-02 9.8789459e-01 6.1484418e-05]\n",
      "[1. 0. 0.] <-> [0.99670863 0.00201217 0.00127924]\n",
      "[0. 1. 0.] <-> [1.3793011e-01 8.6159730e-01 4.7255261e-04]\n",
      "[1. 0. 0.] <-> [0.96074307 0.00161426 0.03764268]\n",
      "[1. 0. 0.] <-> [0.7728071  0.2254099  0.00178301]\n",
      "[1. 0. 0.] <-> [0.98875976 0.00127503 0.00996522]\n",
      "[1. 0. 0.] <-> [8.8402167e-02 9.1125542e-01 3.4239714e-04]\n",
      "[1. 0. 0.] <-> [0.99617445 0.00239939 0.00142607]\n",
      "[0. 1. 0.] <-> [5.7755676e-03 9.9419171e-01 3.2707012e-05]\n",
      "{'accuracy': 0.9691358024691358, 'mean_square_error': 0.06748118794787683, 'categorical_crossentropy': 0.1079909536573622, 'essential_metrics': {0: {'tp_hit': 75, 'fp_hit': 2, 'tn_hit': 28, 'fn_hit': 3}, 1: {'tp_hit': 16, 'fp_hit': 2, 'tn_hit': 90, 'fn_hit': 0}, 2: {'tp_hit': 12, 'fp_hit': 1, 'tn_hit': 93, 'fn_hit': 2}}}\n"
     ]
    }
   ],
   "source": [
    "# recall phase\n",
    "score = model.evaluate(x_test, y_test, False)\n",
    "print(score)"
   ]
  },
  {
   "cell_type": "code",
   "execution_count": 11,
   "metadata": {},
   "outputs": [
    {
     "data": {
      "image/png": "[encoded data removed]",
      "text/plain": [
       "<Figure size 864x360 with 1 Axes>"
      ]
     },
     "metadata": {
      "needs_background": "light"
     },
     "output_type": "display_data"
    },
    {
     "data": {
      "image/png": "[encoded data removed]",
      "text/plain": [
       "<Figure size 864x360 with 1 Axes>"
      ]
     },
     "metadata": {
      "needs_background": "light"
     },
     "output_type": "display_data"
    }
   ],
   "source": [
    "draw_plot(x = [[i for i in range(len(history))], [(i+1)*breakpoint for i in range(len(checkpoints))]], y_list = [history, [ ckp[model.loss_fn] for ckp in checkpoints ]], x_label = 'Epochs', \\\n",
    "    y_label = model.loss_fn, legend=['train', 'test'])\n",
    "acc = [ ckp['accuracy'] for ckp in checkpoints ]\n",
    "draw_plot(x = [[(i+1)*breakpoint for i in range(len(checkpoints))]], y_list = [acc], x_label = 'Checkpoints', \\\n",
    "    y_label = 'accuracy')"
   ]
  },
  {
   "cell_type": "code",
   "execution_count": 12,
   "metadata": {},
   "outputs": [
    {
     "name": "stdout",
     "output_type": "stream",
     "text": [
      "{'accuracy': 0.9259259259259259, 'mean_square_error': 0.16877837444407828, 'categorical_crossentropy': 0.30600706736246747, 'essential_metrics': {0: {'tp_hit': 78, 'fp_hit': 12, 'tn_hit': 18, 'fn_hit': 0}, 1: {'tp_hit': 12, 'fp_hit': 0, 'tn_hit': 92, 'fn_hit': 4}, 2: {'tp_hit': 6, 'fp_hit': 0, 'tn_hit': 94, 'fn_hit': 8}}, 'checkpoint': 100} \n",
      "\n",
      "\n",
      "{'accuracy': 0.9629629629629629, 'mean_square_error': 0.0700945923940252, 'categorical_crossentropy': 0.10907689730326335, 'essential_metrics': {0: {'tp_hit': 75, 'fp_hit': 3, 'tn_hit': 27, 'fn_hit': 3}, 1: {'tp_hit': 15, 'fp_hit': 2, 'tn_hit': 90, 'fn_hit': 1}, 2: {'tp_hit': 12, 'fp_hit': 1, 'tn_hit': 93, 'fn_hit': 2}}, 'checkpoint': 200} \n",
      "\n",
      "\n",
      "{'accuracy': 0.9691358024691358, 'mean_square_error': 0.06809397397924129, 'categorical_crossentropy': 0.10821834316960087, 'essential_metrics': {0: {'tp_hit': 75, 'fp_hit': 2, 'tn_hit': 28, 'fn_hit': 3}, 1: {'tp_hit': 16, 'fp_hit': 2, 'tn_hit': 90, 'fn_hit': 0}, 2: {'tp_hit': 12, 'fp_hit': 1, 'tn_hit': 93, 'fn_hit': 2}}, 'checkpoint': 300} \n",
      "\n",
      "\n",
      "{'accuracy': 0.9691358024691358, 'mean_square_error': 0.06686631014419064, 'categorical_crossentropy': 0.10719383204424823, 'essential_metrics': {0: {'tp_hit': 75, 'fp_hit': 2, 'tn_hit': 28, 'fn_hit': 3}, 1: {'tp_hit': 16, 'fp_hit': 2, 'tn_hit': 90, 'fn_hit': 0}, 2: {'tp_hit': 12, 'fp_hit': 1, 'tn_hit': 93, 'fn_hit': 2}}, 'checkpoint': 400} \n",
      "\n",
      "\n",
      "{'accuracy': 0.9691358024691358, 'mean_square_error': 0.06748118794787683, 'categorical_crossentropy': 0.1079909536573622, 'essential_metrics': {0: {'tp_hit': 75, 'fp_hit': 2, 'tn_hit': 28, 'fn_hit': 3}, 1: {'tp_hit': 16, 'fp_hit': 2, 'tn_hit': 90, 'fn_hit': 0}, 2: {'tp_hit': 12, 'fp_hit': 1, 'tn_hit': 93, 'fn_hit': 2}}, 'checkpoint': 500} \n",
      "\n",
      "\n"
     ]
    }
   ],
   "source": [
    "for checkpoint in checkpoints:\n",
    "    print(checkpoint, '\\n\\n')"
   ]
  },
  {
   "cell_type": "code",
   "execution_count": 13,
   "metadata": {},
   "outputs": [
    {
     "name": "stdout",
     "output_type": "stream",
     "text": [
      "Layer 1\n",
      "Neuron 0: weights:\n",
      "[-0.08241536 -3.          0.003333    0.8579804   3.        ]\n",
      " bias: -2.439089298248291\n",
      "\n",
      "Neuron 1: weights:\n",
      "[ 1.9818513  -3.         -3.         -0.49317122  2.2168381 ]\n",
      " bias: 3.0\n",
      "\n",
      "Neuron 2: weights:\n",
      "[-2.0365078   3.          3.         -1.9196119  -0.68237203]\n",
      " bias: -3.0\n",
      "\n",
      "Neuron 3: weights:\n",
      "[ 0.07120647  3.          0.08751401 -1.4811859  -3.        ]\n",
      " bias: 2.3837897777557373\n",
      "\n",
      "$\n",
      "Layer 2\n",
      "Neuron 0: weights:\n",
      "[-3.  3. -3.  3.]\n",
      " bias: -0.7250655293464661\n",
      "\n",
      "Neuron 1: weights:\n",
      "[-3.        -3.         3.         2.0638847]\n",
      " bias: -0.6406576037406921\n",
      "\n",
      "Neuron 2: weights:\n",
      "[ 3.         1.1846443 -3.        -3.       ]\n",
      " bias: 0.1011185273528099\n",
      "\n",
      "$\n",
      "\n"
     ]
    }
   ],
   "source": [
    "print(model)"
   ]
  }
 ],
 "metadata": {
  "kernelspec": {
   "display_name": "Python 3",
   "language": "python",
   "name": "python3"
  },
  "language_info": {
   "codemirror_mode": {
    "name": "ipython",
    "version": 3
   },
   "file_extension": ".py",
   "mimetype": "text/x-python",
   "name": "python",
   "nbconvert_exporter": "python",
   "pygments_lexer": "ipython3",
   "version": "3.6.10"
  }
 },
 "nbformat": 4,
 "nbformat_minor": 2
}
