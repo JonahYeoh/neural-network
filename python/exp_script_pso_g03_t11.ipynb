{
 "cells": [
  {
   "cell_type": "code",
   "execution_count": 1,
   "metadata": {},
   "outputs": [],
   "source": [
    "# dependency\n",
    "import numpy as np\n",
    "import pandas as pd\n",
    "import copy\n",
    "import math\n",
    "import sys\n",
    "import os\n",
    "from activations import relu, leaky_relu, sigmoid, tanh, softmax, d_sigmoid, d_relu\n",
    "from initializers import glorot_uniform, random_normal, random_uniform\n",
    "from regularizers import l1_regularizer, l2_regularizer\n",
    "from utility import trim_tail, multiply, subtract, get_nparams, one_hot_encoding, get_data\n",
    "from metrics import MSE, CCE, ACC, PRECISION, RECALL, essential_metrics, wondering_penalty, close_gap_penalty\n",
    "from pso import PSO\n",
    "from ga import GA\n",
    "from nn import Network\n",
    "from layer import DenseLayer\n",
    "from scalers import MinMaxScaler, StandardScaler"
   ]
  },
  {
   "cell_type": "code",
   "execution_count": 2,
   "metadata": {},
   "outputs": [],
   "source": [
    "# reference\n",
    "metrics_fn_dict = dict()\n",
    "metrics_fn_dict['accuracy'] = ACC\n",
    "metrics_fn_dict['categorical_crossentropy'] = CCE\n",
    "metrics_fn_dict['mean_square_error'] = MSE\n",
    "metrics_fn_dict['precision'] = PRECISION\n",
    "metrics_fn_dict['recall'] = RECALL\n",
    "metrics_fn_dict['essential_metrics'] = essential_metrics"
   ]
  },
  {
   "cell_type": "code",
   "execution_count": 3,
   "metadata": {},
   "outputs": [],
   "source": [
    "# model\n",
    "model = Network(5, lr = None)\n",
    "model.add_layer(DenseLayer(1, 4, True, afn=sigmoid, dafn=None, rfn=None))\n",
    "model.add_layer(DenseLayer(2, 3, True, afn=softmax, dafn=None, rfn=None))"
   ]
  },
  {
   "cell_type": "code",
   "execution_count": 4,
   "metadata": {},
   "outputs": [
    {
     "name": "stdout",
     "output_type": "stream",
     "text": [
      "see one see two 2 2\n"
     ]
    }
   ],
   "source": [
    "pso = PSO(dict(m = 100,\n",
    "    weight_constraint = [-3, 3], \n",
    "    velocity_constraint = [-0.1, 0.1],\n",
    "    c1 = 2,\n",
    "    c2 = 2,\n",
    "    w = 1,\n",
    "    w_decay = 1,\n",
    "    scale_hyperparameter = False,\n",
    "    regularizer = None,\n",
    "    mask = False))"
   ]
  },
  {
   "cell_type": "code",
   "execution_count": 5,
   "metadata": {},
   "outputs": [
    {
     "name": "stdout",
     "output_type": "stream",
     "text": [
      "building layer 1 with 5\n",
      "24\n",
      "building layer 2 with 4\n",
      "15\n"
     ]
    }
   ],
   "source": [
    "model.compile(loss_fn = 'categorical_crossentropy', optimizer = pso, \\\n",
    "    metrics = ['accuracy', 'mean_square_error', 'categorical_crossentropy'])"
   ]
  },
  {
   "cell_type": "code",
   "execution_count": 6,
   "metadata": {},
   "outputs": [
    {
     "name": "stdout",
     "output_type": "stream",
     "text": [
      "<class 'pandas.core.frame.DataFrame'>\n",
      "RangeIndex: 107 entries, 0 to 106\n",
      "Data columns (total 6 columns):\n",
      " #   Column  Non-Null Count  Dtype  \n",
      "---  ------  --------------  -----  \n",
      " 0   f1      107 non-null    float32\n",
      " 1   f2      107 non-null    float32\n",
      " 2   f3      107 non-null    float32\n",
      " 3   f4      107 non-null    float32\n",
      " 4   f5      107 non-null    float32\n",
      " 5   label   107 non-null    float32\n",
      "dtypes: float32(6)\n",
      "memory usage: 2.6 KB\n",
      "None\n",
      "<class 'pandas.core.frame.DataFrame'>\n",
      "RangeIndex: 108 entries, 0 to 107\n",
      "Data columns (total 6 columns):\n",
      " #   Column  Non-Null Count  Dtype  \n",
      "---  ------  --------------  -----  \n",
      " 0   f1      108 non-null    float32\n",
      " 1   f2      108 non-null    float32\n",
      " 2   f3      108 non-null    float32\n",
      " 3   f4      108 non-null    float32\n",
      " 4   f5      108 non-null    float32\n",
      " 5   label   108 non-null    float32\n",
      "dtypes: float32(6)\n",
      "memory usage: 2.7 KB\n",
      "None\n"
     ]
    }
   ],
   "source": [
    "# data loading\n",
    "DATA = os.path.join('c:\\\\Users\\\\tcumi\\\\github_repo\\\\neural-network\\\\', 'dataset')\n",
    "GROUP = 3\n",
    "COLUMNS = ['f1', 'f2', 'f3', 'f4', 'f5', 'label']\n",
    "N_CLASS = 3\n",
    "EPOCHS = 500\n",
    "train_dir, test_dir = \"..//dataset//training_data{}.txt\".format(GROUP), \"..//dataset//testing_data{}.txt\".format(GROUP)\n",
    "train, test = get_data(DATA, train_dir, COLUMNS), get_data(DATA, test_dir, COLUMNS)\n",
    "# shuffle\n",
    "train, test = train.sample(frac=1), test.sample(frac=1)\n",
    "x_train, y_train = train.drop('label', axis=1), train['label']\n",
    "x_test, y_test = test.drop('label', axis=1), test['label']"
   ]
  },
  {
   "cell_type": "code",
   "execution_count": 7,
   "metadata": {},
   "outputs": [],
   "source": [
    "# data scaling and encoding\n",
    "scaler = StandardScaler(['f1', 'f2', 'f3', 'f4', 'f5'])\n",
    "scaler.fit(x_train)\n",
    "x_train = scaler.transform(x_train)\n",
    "x_test = scaler.transform(x_test)\n",
    "y_train = one_hot_encoding(y_train, N_CLASS)\n",
    "y_test = one_hot_encoding(y_test, N_CLASS)"
   ]
  },
  {
   "cell_type": "code",
   "execution_count": 8,
   "metadata": {
    "tags": [
     "outputPrepend"
    ]
   },
   "outputs": [
    {
     "name": "stdout",
     "output_type": "stream",
     "text": [
      "Checkpoint 100, Accuracy: 0.8580246913580247, Loss: 0.5966490992793331\n"
     ]
    },
    {
     "name": "stderr",
     "output_type": "stream",
     "text": [
      "C:\\Users\\tcumi\\github_repo\\neural-network\\python\\layer.py:44: VisibleDeprecationWarning: Creating an ndarray from ragged nested sequences (which is a list-or-tuple of lists-or-tuples-or ndarrays with different lengths or shapes) is deprecated. If you meant to do this, you must specify 'dtype=object' when creating the ndarray\n",
      "  a = np.sum(w * X) + b\n"
     ]
    },
    {
     "name": "stdout",
     "output_type": "stream",
     "text": [
      "Checkpoint 200, Accuracy: 0.8580246913580247, Loss: 0.5966490992793331\n",
      "Checkpoint 300, Accuracy: 0.8580246913580247, Loss: 0.5966490992793331\n",
      "Checkpoint 400, Accuracy: 0.8580246913580247, Loss: 0.5966490992793331\n",
      "Checkpoint 500, Accuracy: 0.8580246913580247, Loss: 0.5966490992793331\n"
     ]
    }
   ],
   "source": [
    "# learning phase\n",
    "breakpoint = 100\n",
    "checkpoints = list()\n",
    "history = list()\n",
    "for century in range(0, EPOCHS, breakpoint):\n",
    "    sub_history = model.fit(x_train, y_train, breakpoint, verbose = 0)\n",
    "    score = model.evaluate(x_test, y_test, False, verbose = 0)\n",
    "    print('Checkpoint {}, Accuracy: {}, Loss: {}'.format(century+breakpoint, score['accuracy'], score[model.loss_fn]))\n",
    "    score['checkpoint'] = century + breakpoint\n",
    "    checkpoints.append(score)\n",
    "    history.extend(sub_history)"
   ]
  },
  {
   "cell_type": "code",
   "execution_count": 9,
   "metadata": {},
   "outputs": [],
   "source": [
    "import matplotlib.pyplot as plt\n",
    "\n",
    "def draw_plot(x, y_list, x_label=None, y_label=None, legend=None, title=None):\n",
    "    fig, ax = plt.subplots(figsize=(12,5))\n",
    "    for xi, yi in zip(x, y_list):\n",
    "        ax.plot(xi, yi)\n",
    "    if x_label is not None and y_label is not None:\n",
    "        ax.set(xlabel=x_label, ylabel=y_label, title='{} VS {}'.format(x_label, y_label))\n",
    "    if legend is not None:\n",
    "        ax.legend(legend)\n",
    "    ax.grid()\n",
    "    plt.show()"
   ]
  },
  {
   "cell_type": "code",
   "execution_count": 10,
   "metadata": {},
   "outputs": [
    {
     "name": "stdout",
     "output_type": "stream",
     "text": [
      "[1. 0. 0.] <-> [0.8548205  0.01547563 0.1297039 ]\n",
      "[0. 0. 1.] <-> [0.91682625 0.00493465 0.07823913]\n",
      "[1. 0. 0.] <-> [0.80703133 0.01270704 0.1802616 ]\n",
      "[1. 0. 0.] <-> [0.8385809  0.01380511 0.14761403]\n",
      "[1. 0. 0.] <-> [0.89927626 0.00972065 0.09100311]\n",
      "[0. 1. 0.] <-> [0.6115629  0.21536326 0.17307386]\n",
      "[1. 0. 0.] <-> [0.8358069  0.00633997 0.15785313]\n",
      "[0. 1. 0.] <-> [0.7081334  0.10154185 0.1903248 ]\n",
      "[1. 0. 0.] <-> [0.8679827  0.03405526 0.09796208]\n",
      "[1. 0. 0.] <-> [0.879159   0.02578805 0.09505293]\n",
      "[1. 0. 0.] <-> [0.84529585 0.01959363 0.13511042]\n",
      "[1. 0. 0.] <-> [0.85216826 0.02496508 0.12286668]\n",
      "[1. 0. 0.] <-> [0.74086344 0.01011783 0.24901868]\n",
      "[1. 0. 0.] <-> [0.84152555 0.01423182 0.14424257]\n",
      "[0. 0. 1.] <-> [0.87756705 0.02594998 0.09648304]\n",
      "[1. 0. 0.] <-> [0.83621275 0.0064643  0.1573229 ]\n",
      "[1. 0. 0.] <-> [0.87434757 0.02374187 0.10191055]\n",
      "[1. 0. 0.] <-> [0.8618208  0.00595748 0.1322217 ]\n",
      "[0. 0. 1.] <-> [0.91762173 0.0072807  0.07509749]\n",
      "[0. 1. 0.] <-> [0.65185416 0.09987767 0.24826822]\n",
      "[0. 1. 0.] <-> [0.7755739  0.13324217 0.09118392]\n",
      "[1. 0. 0.] <-> [0.89002645 0.0093947  0.10057881]\n",
      "[1. 0. 0.] <-> [0.89288896 0.0343477  0.07276332]\n",
      "[0. 1. 0.] <-> [0.44879684 0.40018108 0.15102208]\n",
      "[1. 0. 0.] <-> [0.9011559  0.02825431 0.07058981]\n",
      "[1. 0. 0.] <-> [0.88506323 0.02456388 0.09037288]\n",
      "[1. 0. 0.] <-> [0.7939013  0.00543419 0.20066456]\n",
      "[1. 0. 0.] <-> [0.8571387  0.01319593 0.12966545]\n",
      "[0. 1. 0.] <-> [0.48385602 0.1988188  0.31732515]\n",
      "[0. 1. 0.] <-> [0.5430619  0.37772495 0.07921315]\n",
      "[1. 0. 0.] <-> [0.7809786  0.00399545 0.21502587]\n",
      "[1. 0. 0.] <-> [0.8639197  0.00474852 0.13133179]\n",
      "[1. 0. 0.] <-> [0.86010504 0.01151235 0.12838265]\n",
      "[0. 1. 0.] <-> [0.27938202 0.58179146 0.13882652]\n",
      "[0. 0. 1.] <-> [0.8902001  0.00307559 0.10672434]\n",
      "[0. 0. 1.] <-> [0.828801   0.00157733 0.16962166]\n",
      "[1. 0. 0.] <-> [0.74208885 0.01687365 0.24103744]\n",
      "[1. 0. 0.] <-> [0.78915083 0.01276904 0.1980801 ]\n",
      "[1. 0. 0.] <-> [0.85532135 0.007484   0.13719463]\n",
      "[1. 0. 0.] <-> [0.8912606  0.0469286  0.06181087]\n",
      "[1. 0. 0.] <-> [0.88820964 0.01998691 0.09180354]\n",
      "[1. 0. 0.] <-> [0.79412025 0.02762251 0.17825721]\n",
      "[1. 0. 0.] <-> [0.84156734 0.03172627 0.12670642]\n",
      "[1. 0. 0.] <-> [0.8776863  0.01009543 0.11221826]\n",
      "[0. 0. 1.] <-> [0.8121195  0.02894454 0.158936  ]\n",
      "[1. 0. 0.] <-> [0.80414706 0.01293917 0.18291375]\n",
      "[0. 0. 1.] <-> [0.8367849  0.00150514 0.1617099 ]\n",
      "[1. 0. 0.] <-> [0.8191904  0.04942434 0.13138528]\n",
      "[1. 0. 0.] <-> [0.8786877  0.02846943 0.09284292]\n",
      "[1. 0. 0.] <-> [0.89129657 0.01191589 0.09678748]\n",
      "[1. 0. 0.] <-> [0.8983933  0.0154331  0.08617365]\n",
      "[0. 1. 0.] <-> [0.29009712 0.5336655  0.17623739]\n",
      "[1. 0. 0.] <-> [0.85261405 0.03135735 0.11602865]\n",
      "[1. 0. 0.] <-> [0.8765434  0.01023121 0.11322533]\n",
      "[1. 0. 0.] <-> [0.8984825  0.01509935 0.08641812]\n",
      "[1. 0. 0.] <-> [0.844062   0.07839166 0.07754637]\n",
      "[1. 0. 0.] <-> [0.88915884 0.01695255 0.09388863]\n",
      "[1. 0. 0.] <-> [0.7853796  0.00697855 0.20764187]\n",
      "[1. 0. 0.] <-> [0.8617154  0.00437527 0.13390933]\n",
      "[0. 1. 0.] <-> [0.18662529 0.7015998  0.11177494]\n",
      "[1. 0. 0.] <-> [0.8437097  0.01009105 0.1461992 ]\n",
      "[1. 0. 0.] <-> [0.877496   0.01026841 0.11223564]\n",
      "[1. 0. 0.] <-> [0.6528209  0.06444174 0.28273743]\n",
      "[1. 0. 0.] <-> [0.897798   0.01209521 0.09010673]\n",
      "[1. 0. 0.] <-> [0.8853921  0.01141981 0.10318806]\n",
      "[1. 0. 0.] <-> [0.8883067  0.02176754 0.08992573]\n",
      "[1. 0. 0.] <-> [0.8474749  0.00622476 0.14630036]\n",
      "[1. 0. 0.] <-> [0.8665704  0.02481578 0.10861375]\n",
      "[1. 0. 0.] <-> [0.8458192  0.02506123 0.12911953]\n",
      "[0. 0. 1.] <-> [0.28547114 0.30108416 0.41344473]\n",
      "[0. 0. 1.] <-> [0.81833756 0.04971408 0.13194834]\n",
      "[1. 0. 0.] <-> [0.87958056 0.00614541 0.1142741 ]\n",
      "[1. 0. 0.] <-> [0.68754923 0.01495544 0.2974954 ]\n",
      "[1. 0. 0.] <-> [0.896348   0.01652986 0.0871222 ]\n",
      "[0. 0. 1.] <-> [0.8563409  0.00187073 0.14178845]\n",
      "[1. 0. 0.] <-> [0.7287626  0.00322368 0.2680137 ]\n",
      "[1. 0. 0.] <-> [0.78215235 0.00971627 0.20813145]\n",
      "[1. 0. 0.] <-> [0.7756694  0.00513154 0.21919902]\n",
      "[1. 0. 0.] <-> [0.74386513 0.01219762 0.24393727]\n",
      "[1. 0. 0.] <-> [0.8487208  0.05032589 0.1009533 ]\n",
      "[1. 0. 0.] <-> [0.75565374 0.03284074 0.21150555]\n",
      "[0. 1. 0.] <-> [0.35486385 0.38790196 0.25723413]\n",
      "[1. 0. 0.] <-> [0.85616434 0.0226221  0.12121362]\n",
      "[1. 0. 0.] <-> [0.86511165 0.0058842  0.12900421]\n",
      "[1. 0. 0.] <-> [0.846971   0.05340536 0.09962362]\n",
      "[0. 0. 1.] <-> [0.83650887 0.00203968 0.16145149]\n",
      "[0. 0. 1.] <-> [0.30275843 0.279036   0.4182056 ]\n",
      "[1. 0. 0.] <-> [0.85903513 0.0811756  0.05978929]\n",
      "[1. 0. 0.] <-> [0.87747866 0.00471142 0.11780993]\n",
      "[1. 0. 0.] <-> [0.8370581  0.01953332 0.1434085 ]\n",
      "[1. 0. 0.] <-> [0.87539196 0.00843586 0.11617216]\n",
      "[1. 0. 0.] <-> [0.8151322  0.01165453 0.17321326]\n",
      "[1. 0. 0.] <-> [0.727521  0.0038318 0.2686472]\n",
      "[1. 0. 0.] <-> [0.72695833 0.01053337 0.2625082 ]\n",
      "[1. 0. 0.] <-> [0.89624244 0.01204304 0.09171445]\n",
      "[0. 1. 0.] <-> [0.23538324 0.5710203  0.19359647]\n",
      "[1. 0. 0.] <-> [0.7739272  0.07325191 0.15282087]\n",
      "[0. 0. 1.] <-> [0.7930775  0.03856868 0.16835375]\n",
      "[0. 1. 0.] <-> [0.70551676 0.21746339 0.0770199 ]\n",
      "[0. 0. 1.] <-> [0.90503526 0.01359601 0.08136868]\n",
      "[1. 0. 0.] <-> [0.7885856  0.00936419 0.20205022]\n",
      "[1. 0. 0.] <-> [0.8031207  0.02975217 0.16712722]\n",
      "[1. 0. 0.] <-> [0.85755956 0.01015876 0.13228168]\n",
      "[0. 1. 0.] <-> [0.75351584 0.08281502 0.16366914]\n",
      "[0. 1. 0.] <-> [0.85189104 0.05694402 0.09116497]\n",
      "[1. 0. 0.] <-> [0.7785364  0.00737499 0.21408865]\n",
      "[1. 0. 0.] <-> [0.68454796 0.07413036 0.2413217 ]\n",
      "[0. 1. 0.] <-> [0.5968495  0.20174046 0.2014101 ]\n",
      "{'accuracy': 0.8580246913580247, 'mean_square_error': 0.3465116525139964, 'categorical_crossentropy': 0.5966490992793331, 'essential_metrics': {0: {'tp_hit': 78, 'fp_hit': 23, 'tn_hit': 7, 'fn_hit': 0}, 1: {'tp_hit': 5, 'fp_hit': 0, 'tn_hit': 92, 'fn_hit': 11}, 2: {'tp_hit': 2, 'fp_hit': 0, 'tn_hit': 94, 'fn_hit': 12}}}\n"
     ]
    }
   ],
   "source": [
    "# recall phase\n",
    "score = model.evaluate(x_test, y_test, False)\n",
    "print(score)"
   ]
  },
  {
   "cell_type": "code",
   "execution_count": 11,
   "metadata": {},
   "outputs": [
    {
     "data": {
      "image/png": "[encoded data removed]",
      "text/plain": [
       "<Figure size 864x360 with 1 Axes>"
      ]
     },
     "metadata": {
      "needs_background": "light"
     },
     "output_type": "display_data"
    },
    {
     "data": {
      "image/png": "[encoded data removed]",
      "text/plain": [
       "<Figure size 864x360 with 1 Axes>"
      ]
     },
     "metadata": {
      "needs_background": "light"
     },
     "output_type": "display_data"
    }
   ],
   "source": [
    "draw_plot(x = [[i for i in range(len(history))], [(i+1)*breakpoint for i in range(len(checkpoints))]], y_list = [history, [ ckp[model.loss_fn] for ckp in checkpoints ]], x_label = 'Epochs', \\\n",
    "    y_label = model.loss_fn, legend=['train', 'test'])\n",
    "acc = [ ckp['accuracy'] for ckp in checkpoints ]\n",
    "draw_plot(x = [[(i+1)*breakpoint for i in range(len(checkpoints))]], y_list = [acc], x_label = 'Checkpoints', \\\n",
    "    y_label = 'accuracy')"
   ]
  },
  {
   "cell_type": "code",
   "execution_count": 12,
   "metadata": {},
   "outputs": [
    {
     "name": "stdout",
     "output_type": "stream",
     "text": [
      "{'accuracy': 0.8580246913580247, 'mean_square_error': 0.3465116525139964, 'categorical_crossentropy': 0.5966490992793331, 'essential_metrics': {0: {'tp_hit': 78, 'fp_hit': 23, 'tn_hit': 7, 'fn_hit': 0}, 1: {'tp_hit': 5, 'fp_hit': 0, 'tn_hit': 92, 'fn_hit': 11}, 2: {'tp_hit': 2, 'fp_hit': 0, 'tn_hit': 94, 'fn_hit': 12}}, 'checkpoint': 100} \n",
      "\n",
      "\n",
      "{'accuracy': 0.8580246913580247, 'mean_square_error': 0.3465116525139964, 'categorical_crossentropy': 0.5966490992793331, 'essential_metrics': {0: {'tp_hit': 78, 'fp_hit': 23, 'tn_hit': 7, 'fn_hit': 0}, 1: {'tp_hit': 5, 'fp_hit': 0, 'tn_hit': 92, 'fn_hit': 11}, 2: {'tp_hit': 2, 'fp_hit': 0, 'tn_hit': 94, 'fn_hit': 12}}, 'checkpoint': 200} \n",
      "\n",
      "\n",
      "{'accuracy': 0.8580246913580247, 'mean_square_error': 0.3465116525139964, 'categorical_crossentropy': 0.5966490992793331, 'essential_metrics': {0: {'tp_hit': 78, 'fp_hit': 23, 'tn_hit': 7, 'fn_hit': 0}, 1: {'tp_hit': 5, 'fp_hit': 0, 'tn_hit': 92, 'fn_hit': 11}, 2: {'tp_hit': 2, 'fp_hit': 0, 'tn_hit': 94, 'fn_hit': 12}}, 'checkpoint': 300} \n",
      "\n",
      "\n",
      "{'accuracy': 0.8580246913580247, 'mean_square_error': 0.3465116525139964, 'categorical_crossentropy': 0.5966490992793331, 'essential_metrics': {0: {'tp_hit': 78, 'fp_hit': 23, 'tn_hit': 7, 'fn_hit': 0}, 1: {'tp_hit': 5, 'fp_hit': 0, 'tn_hit': 92, 'fn_hit': 11}, 2: {'tp_hit': 2, 'fp_hit': 0, 'tn_hit': 94, 'fn_hit': 12}}, 'checkpoint': 400} \n",
      "\n",
      "\n",
      "{'accuracy': 0.8580246913580247, 'mean_square_error': 0.3465116525139964, 'categorical_crossentropy': 0.5966490992793331, 'essential_metrics': {0: {'tp_hit': 78, 'fp_hit': 23, 'tn_hit': 7, 'fn_hit': 0}, 1: {'tp_hit': 5, 'fp_hit': 0, 'tn_hit': 92, 'fn_hit': 11}, 2: {'tp_hit': 2, 'fp_hit': 0, 'tn_hit': 94, 'fn_hit': 12}}, 'checkpoint': 500} \n",
      "\n",
      "\n"
     ]
    }
   ],
   "source": [
    "for checkpoint in checkpoints:\n",
    "    print(checkpoint, '\\n\\n')"
   ]
  },
  {
   "cell_type": "code",
   "execution_count": 13,
   "metadata": {},
   "outputs": [
    {
     "name": "stdout",
     "output_type": "stream",
     "text": [
      "Layer 1\n",
      "Neuron 0: weights:\n",
      "[-2.03329766 -1.24164833  0.48476397 -1.75321237  1.66003579]\n",
      " bias: -1.0416662671763928\n",
      "\n",
      "Neuron 1: weights:\n",
      "[ 1.00818105 -2.52985948 -1.79068915  0.55948648  2.50835764]\n",
      " bias: 2.244020080724038\n",
      "\n",
      "Neuron 2: weights:\n",
      "[-0.06276536 -1.86633368 -0.13737588  0.88593952 -1.90115979]\n",
      " bias: 1.106306279506322\n",
      "\n",
      "Neuron 3: weights:\n",
      "[-2.13463222 -1.07439996 -1.5803664  -1.19375003  2.42645116]\n",
      " bias: 0.5224867034418583\n",
      "\n",
      "$\n",
      "Layer 2\n",
      "Neuron 0: weights:\n",
      "[-1.21484565 -0.2606299   1.06016308 -0.38263476]\n",
      " bias: 1.6569539386315881\n",
      "\n",
      "Neuron 1: weights:\n",
      "[ 0.45684001 -2.49457211 -2.44976292  1.0269445 ]\n",
      " bias: 0.9079024507826823\n",
      "\n",
      "Neuron 2: weights:\n",
      "[-0.83080633  1.29108328 -1.66306793 -1.56469357]\n",
      " bias: 1.3032560172586427\n",
      "\n",
      "$\n",
      "\n"
     ]
    }
   ],
   "source": [
    "print(model)"
   ]
  }
 ],
 "metadata": {
  "kernelspec": {
   "display_name": "Python 3",
   "language": "python",
   "name": "python3"
  },
  "language_info": {
   "codemirror_mode": {
    "name": "ipython",
    "version": 3
   },
   "file_extension": ".py",
   "mimetype": "text/x-python",
   "name": "python",
   "nbconvert_exporter": "python",
   "pygments_lexer": "ipython3",
   "version": "3.6.10"
  }
 },
 "nbformat": 4,
 "nbformat_minor": 2
}
