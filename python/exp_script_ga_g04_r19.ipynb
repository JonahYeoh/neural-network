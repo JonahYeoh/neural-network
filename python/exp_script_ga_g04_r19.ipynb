{
 "cells": [
  {
   "cell_type": "code",
   "execution_count": 1,
   "metadata": {},
   "outputs": [],
   "source": [
    "# two"
   ]
  },
  {
   "cell_type": "code",
   "execution_count": 2,
   "metadata": {},
   "outputs": [],
   "source": [
    "# dependency\n",
    "import numpy as np\n",
    "import pandas as pd\n",
    "import copy\n",
    "import math\n",
    "import sys\n",
    "import os\n",
    "from activations import relu, leaky_relu, sigmoid, tanh, softmax, d_sigmoid, d_relu\n",
    "from initializers import glorot_uniform, random_normal, random_uniform\n",
    "from regularizers import l1_regularizer, l2_regularizer\n",
    "from utility import trim_tail, multiply, subtract, get_nparams, one_hot_encoding, get_data\n",
    "from metrics import MSE, CCE, ACC, PRECISION, RECALL, essential_metrics, wondering_penalty, close_gap_penalty\n",
    "from pso import PSO\n",
    "from ga import GA\n",
    "from nn import Network\n",
    "from layer import DenseLayer\n",
    "from scalers import MinMaxScaler, StandardScaler"
   ]
  },
  {
   "cell_type": "code",
   "execution_count": 3,
   "metadata": {},
   "outputs": [],
   "source": [
    "# reference\n",
    "metrics_fn_dict = dict()\n",
    "metrics_fn_dict['accuracy'] = ACC\n",
    "metrics_fn_dict['categorical_crossentropy'] = CCE\n",
    "metrics_fn_dict['mean_square_error'] = MSE\n",
    "metrics_fn_dict['precision'] = PRECISION\n",
    "metrics_fn_dict['recall'] = RECALL\n",
    "metrics_fn_dict['essential_metrics'] = essential_metrics"
   ]
  },
  {
   "cell_type": "code",
   "execution_count": 4,
   "metadata": {},
   "outputs": [],
   "source": [
    "# model\n",
    "model = Network(5, lr = None)\n",
    "model.add_layer(DenseLayer(1, 4, True, afn=sigmoid, dafn=None, rfn=None))\n",
    "model.add_layer(DenseLayer(2, 3, True, afn=softmax, dafn=None, rfn=None))"
   ]
  },
  {
   "cell_type": "code",
   "execution_count": 5,
   "metadata": {},
   "outputs": [],
   "source": [
    "# optimizer\n",
    "ga = GA(\n",
    "    dict(\n",
    "        m = 50,\n",
    "        x_rate = [0.5, 1.0],\n",
    "        m_rate = [0.5, 1.0],\n",
    "        weight_constraint = [-3.,3.],\n",
    "        radioactive_rating = [0.1, 0.5],\n",
    "        grow_factor = [0.1, 0.5],\n",
    "        scale_hyperparameter = False,\n",
    "        regularizer = l2_regularizer))"
   ]
  },
  {
   "cell_type": "code",
   "execution_count": 6,
   "metadata": {},
   "outputs": [
    {
     "name": "stdout",
     "output_type": "stream",
     "text": [
      "building layer 1 with 5\n",
      "24\n",
      "building layer 2 with 4\n",
      "15\n"
     ]
    }
   ],
   "source": [
    "model.compile(loss_fn = 'categorical_crossentropy', optimizer = ga, \\\n",
    "    metrics = ['accuracy', 'mean_square_error', 'categorical_crossentropy', 'precision', 'recall', 'f1'])"
   ]
  },
  {
   "cell_type": "code",
   "execution_count": 7,
   "metadata": {},
   "outputs": [
    {
     "name": "stdout",
     "output_type": "stream",
     "text": [
      "<class 'pandas.core.frame.DataFrame'>\n",
      "RangeIndex: 107 entries, 0 to 106\n",
      "Data columns (total 6 columns):\n",
      " #   Column  Non-Null Count  Dtype  \n",
      "---  ------  --------------  -----  \n",
      " 0   f1      107 non-null    float32\n",
      " 1   f2      107 non-null    float32\n",
      " 2   f3      107 non-null    float32\n",
      " 3   f4      107 non-null    float32\n",
      " 4   f5      107 non-null    float32\n",
      " 5   label   107 non-null    float32\n",
      "dtypes: float32(6)\n",
      "memory usage: 2.6 KB\n",
      "None\n",
      "<class 'pandas.core.frame.DataFrame'>\n",
      "RangeIndex: 108 entries, 0 to 107\n",
      "Data columns (total 6 columns):\n",
      " #   Column  Non-Null Count  Dtype  \n",
      "---  ------  --------------  -----  \n",
      " 0   f1      108 non-null    float32\n",
      " 1   f2      108 non-null    float32\n",
      " 2   f3      108 non-null    float32\n",
      " 3   f4      108 non-null    float32\n",
      " 4   f5      108 non-null    float32\n",
      " 5   label   108 non-null    float32\n",
      "dtypes: float32(6)\n",
      "memory usage: 2.7 KB\n",
      "None\n"
     ]
    }
   ],
   "source": [
    "# data loading\n",
    "DATA = os.path.join('c:\\\\Users\\\\tcumi\\\\github_repo\\\\neural-network\\\\', 'dataset')\n",
    "GROUP = 4\n",
    "COLUMNS = ['f1', 'f2', 'f3', 'f4', 'f5', 'label']\n",
    "N_CLASS = 3\n",
    "EPOCHS = 500\n",
    "train_dir, test_dir = \"..//dataset//training_data{}.txt\".format(GROUP), \"..//dataset//testing_data{}.txt\".format(GROUP)\n",
    "train, test = get_data(DATA, train_dir, COLUMNS), get_data(DATA, test_dir, COLUMNS)\n",
    "# shuffle\n",
    "train, test = train.sample(frac=1), test.sample(frac=1)\n",
    "x_train, y_train = train.drop('label', axis=1), train['label']\n",
    "x_test, y_test = test.drop('label', axis=1), test['label']"
   ]
  },
  {
   "cell_type": "code",
   "execution_count": 8,
   "metadata": {},
   "outputs": [],
   "source": [
    "# data scaling and encoding\n",
    "scaler = StandardScaler(['f1', 'f2', 'f3', 'f4', 'f5'])\n",
    "scaler.fit(x_train)\n",
    "x_train = scaler.transform(x_train)\n",
    "x_test = scaler.transform(x_test)\n",
    "y_train = one_hot_encoding(y_train, N_CLASS)\n",
    "y_test = one_hot_encoding(y_test, N_CLASS)"
   ]
  },
  {
   "cell_type": "code",
   "execution_count": 9,
   "metadata": {
    "scrolled": true,
    "tags": [
     "outputPrepend"
    ]
   },
   "outputs": [
    {
     "name": "stderr",
     "output_type": "stream",
     "text": [
      "C:\\Users\\tcumi\\Anaconda3\\envs\\py_3_6\\lib\\site-packages\\numpy\\core\\fromnumeric.py:87: VisibleDeprecationWarning: Creating an ndarray from ragged nested sequences (which is a list-or-tuple of lists-or-tuples-or ndarrays with different lengths or shapes) is deprecated. If you meant to do this, you must specify 'dtype=object' when creating the ndarray\n",
      "  return ufunc.reduce(obj, axis, dtype, out, **passkwargs)\n",
      "C:\\Users\\tcumi\\github_repo\\neural-network\\python\\ga.py:201: RuntimeWarning: overflow encountered in add\n",
      "  self.population.sort(key=lambda p: p.fitness + np.random.uniform(-shift, shift, 1), reverse = self.aim)\n",
      "C:\\Users\\tcumi\\Anaconda3\\envs\\py_3_6\\lib\\site-packages\\numpy\\core\\_asarray.py:136: VisibleDeprecationWarning: Creating an ndarray from ragged nested sequences (which is a list-or-tuple of lists-or-tuples-or ndarrays with different lengths or shapes) is deprecated. If you meant to do this, you must specify 'dtype=object' when creating the ndarray\n",
      "  return array(a, dtype, copy=False, order=order, subok=True)\n"
     ]
    },
    {
     "name": "stdout",
     "output_type": "stream",
     "text": [
      "Checkpoint 100, Accuracy: 0.9259259259259259, Loss: 0.39699324855098017\n",
      "Checkpoint 200, Accuracy: 0.9382716049382716, Loss: 0.3799852795071072\n",
      "Checkpoint 300, Accuracy: 0.9382716049382716, Loss: 0.3739322379783348\n",
      "Checkpoint 400, Accuracy: 0.9259259259259259, Loss: 0.3647448221842448\n",
      "Checkpoint 500, Accuracy: 0.9135802469135802, Loss: 0.3569295671251085\n"
     ]
    }
   ],
   "source": [
    "# learning phase\n",
    "breakpoint = 100\n",
    "checkpoints = list()\n",
    "history = list()\n",
    "for century in range(0, EPOCHS, breakpoint):\n",
    "    sub_history = model.fit(x_train, y_train, breakpoint, verbose = 0)\n",
    "    score = model.evaluate(x_test, y_test, False, verbose = 0)\n",
    "    print('Checkpoint {}, Accuracy: {}, Loss: {}'.format(century+breakpoint, score['accuracy'], score[model.loss_fn]))\n",
    "    score['checkpoint'] = century + breakpoint\n",
    "    checkpoints.append(score)\n",
    "    history.extend(sub_history)\n",
    "    itr = century + breakpoint\n",
    "    '''\n",
    "    model.optimizer.rr = model.optimizer.rr * 0.9\n",
    "    model.optimizer.gf = model.optimizer.gf * 0.9\n",
    "    model.optimizer.crossover_rate = model.optimizer.crossover_rate * 0.9\n",
    "    model.optimizer.mutation_rate = model.optimizer.mutation_rate * 1.1\n",
    "    '''\n",
    "    model.optimizer.rr = model.optimizer.radioactive_rating[1] - (model.optimizer.radioactive_rating[1] - model.optimizer.radioactive_rating[0]) / EPOCHS * (EPOCHS - itr)\n",
    "    model.optimizer.gf = model.optimizer.grow_factor[1] - (model.optimizer.grow_factor[1] - model.optimizer.grow_factor[0]) / EPOCHS * (EPOCHS - itr)\n",
    "    model.optimizer.crossover_rate = model.optimizer.x_rate[1] - (model.optimizer.x_rate[1] - model.optimizer.x_rate[0]) / EPOCHS * (EPOCHS - itr)\n",
    "    model.optimizer.mutation_rate = model.optimizer.m_rate[0] + (model.optimizer.m_rate[1] - model.optimizer.m_rate[0]) / EPOCHS * (EPOCHS - itr)\n",
    "    "
   ]
  },
  {
   "cell_type": "code",
   "execution_count": 10,
   "metadata": {},
   "outputs": [],
   "source": [
    "import matplotlib.pyplot as plt\n",
    "\n",
    "def draw_plot(x, y_list, x_label=None, y_label=None, legend=None, title=None):\n",
    "    fig, ax = plt.subplots(figsize=(12,5))\n",
    "    for xi, yi in zip(x, y_list):\n",
    "        ax.plot(xi, yi)\n",
    "    if x_label is not None and y_label is not None:\n",
    "        ax.set(xlabel=x_label, ylabel=y_label, title='{} VS {}'.format(x_label, y_label))\n",
    "    if legend is not None:\n",
    "        ax.legend(legend)\n",
    "    ax.grid()\n",
    "    plt.show()"
   ]
  },
  {
   "cell_type": "code",
   "execution_count": 11,
   "metadata": {},
   "outputs": [
    {
     "name": "stdout",
     "output_type": "stream",
     "text": [
      "[1. 0. 0.] <-> [0.7783591  0.146124   0.07551689]\n",
      "[1. 0. 0.] <-> [0.7828939 0.0498489 0.1672572]\n",
      "[1. 0. 0.] <-> [0.85249275 0.06476862 0.08273865]\n",
      "[1. 0. 0.] <-> [0.84069973 0.08670358 0.07259674]\n",
      "[0. 1. 0.] <-> [0.5485884 0.393723  0.0576886]\n",
      "[1. 0. 0.] <-> [0.86481166 0.02739475 0.10779364]\n",
      "[0. 0. 1.] <-> [0.19072092 0.02970398 0.77957505]\n",
      "[0. 0. 1.] <-> [0.849866   0.02048971 0.1296443 ]\n",
      "[1. 0. 0.] <-> [0.88210624 0.02935715 0.08853659]\n",
      "[1. 0. 0.] <-> [0.8231518  0.08317464 0.0936735 ]\n",
      "[1. 0. 0.] <-> [0.84586036 0.09295874 0.0611809 ]\n",
      "[1. 0. 0.] <-> [0.8806341  0.03077971 0.08858609]\n",
      "[1. 0. 0.] <-> [0.8021674  0.06793696 0.12989564]\n",
      "[1. 0. 0.] <-> [0.8606603  0.05050637 0.08883338]\n",
      "[1. 0. 0.] <-> [0.856658   0.02754914 0.11579295]\n",
      "[1. 0. 0.] <-> [0.83355635 0.10167492 0.06476871]\n",
      "[0. 1. 0.] <-> [0.3860394  0.5591217  0.05483884]\n",
      "[1. 0. 0.] <-> [0.8129971  0.11077213 0.07623076]\n",
      "[1. 0. 0.] <-> [0.81882447 0.06181324 0.1193623 ]\n",
      "[1. 0. 0.] <-> [0.8316282  0.09085535 0.07751641]\n",
      "[0. 0. 1.] <-> [0.46020314 0.01525411 0.52454275]\n",
      "[0. 0. 1.] <-> [0.35194862 0.021777   0.6262744 ]\n",
      "[1. 0. 0.] <-> [0.86318636 0.06504887 0.07176478]\n",
      "[0. 0. 1.] <-> [0.83973503 0.03821554 0.12204933]\n",
      "[1. 0. 0.] <-> [0.7019567  0.2333816  0.06466173]\n",
      "[1. 0. 0.] <-> [0.8305184  0.06248945 0.10699213]\n",
      "[1. 0. 0.] <-> [0.8706106  0.05099335 0.0783961 ]\n",
      "[1. 0. 0.] <-> [0.8598689  0.03736642 0.10276473]\n",
      "[0. 1. 0.] <-> [0.28287762 0.6833416  0.03378078]\n",
      "[1. 0. 0.] <-> [0.80913895 0.107914   0.08294705]\n",
      "[1. 0. 0.] <-> [0.8381128  0.05044975 0.11143743]\n",
      "[0. 1. 0.] <-> [0.574081   0.34902155 0.07689745]\n",
      "[1. 0. 0.] <-> [0.86480796 0.05636056 0.07883145]\n",
      "[1. 0. 0.] <-> [0.88582486 0.04269985 0.07147537]\n",
      "[1. 0. 0.] <-> [0.88151234 0.0311016  0.08738602]\n",
      "[1. 0. 0.] <-> [0.78352547 0.14031988 0.0761546 ]\n",
      "[0. 0. 1.] <-> [0.48168534 0.01760002 0.5007146 ]\n",
      "[1. 0. 0.] <-> [0.86934453 0.05268189 0.07797354]\n",
      "[0. 1. 0.] <-> [0.5932113  0.35553798 0.05125072]\n",
      "[0. 1. 0.] <-> [0.11810212 0.8575453  0.0243525 ]\n",
      "[0. 1. 0.] <-> [0.14381313 0.8312779  0.02490903]\n",
      "[1. 0. 0.] <-> [0.8375883  0.08513435 0.0772773 ]\n",
      "[1. 0. 0.] <-> [0.86981493 0.04875418 0.08143085]\n",
      "[1. 0. 0.] <-> [0.8405548  0.09141082 0.06803443]\n",
      "[1. 0. 0.] <-> [0.79624915 0.06438848 0.13936234]\n",
      "[1. 0. 0.] <-> [0.77448916 0.14339773 0.08211318]\n",
      "[0. 1. 0.] <-> [0.1968899  0.7739881  0.02912197]\n",
      "[1. 0. 0.] <-> [0.8556263  0.06917566 0.07519811]\n",
      "[1. 0. 0.] <-> [0.842559   0.02959553 0.12784554]\n",
      "[1. 0. 0.] <-> [0.8668388  0.04659773 0.0865635 ]\n",
      "[1. 0. 0.] <-> [0.7508792  0.17322953 0.07589124]\n",
      "[1. 0. 0.] <-> [0.79801214 0.12129994 0.08068796]\n",
      "[1. 0. 0.] <-> [0.8383176  0.07009435 0.09158807]\n",
      "[0. 0. 1.] <-> [0.61835784 0.03695446 0.34468767]\n",
      "[1. 0. 0.] <-> [0.8365321  0.07788944 0.08557837]\n",
      "[1. 0. 0.] <-> [0.8631525  0.07051059 0.06633691]\n",
      "[0. 1. 0.] <-> [0.65851426 0.28881758 0.05266825]\n",
      "[1. 0. 0.] <-> [0.86481833 0.04697531 0.08820642]\n",
      "[1. 0. 0.] <-> [0.75873893 0.14994775 0.0913133 ]\n",
      "[1. 0. 0.] <-> [0.8023936  0.10583931 0.09176707]\n",
      "[0. 0. 1.] <-> [0.74929863 0.04236418 0.2083372 ]\n",
      "[1. 0. 0.] <-> [0.6671459  0.2768558  0.05599825]\n",
      "[1. 0. 0.] <-> [0.73682594 0.2047089  0.05846513]\n",
      "[1. 0. 0.] <-> [0.8358033  0.07489231 0.08930437]\n",
      "[1. 0. 0.] <-> [0.73339784 0.1909647  0.07563746]\n",
      "[1. 0. 0.] <-> [0.82703495 0.0831508  0.08981422]\n",
      "[1. 0. 0.] <-> [0.79691666 0.12190932 0.08117402]\n",
      "[1. 0. 0.] <-> [0.83883667 0.08376091 0.07740251]\n",
      "[1. 0. 0.] <-> [0.8644191  0.04220531 0.09337562]\n",
      "[0. 0. 1.] <-> [0.500083   0.01677605 0.48314086]\n",
      "[0. 1. 0.] <-> [0.12553354 0.8491612  0.02530522]\n",
      "[1. 0. 0.] <-> [0.7359012  0.19850506 0.06559382]\n",
      "[1. 0. 0.] <-> [0.8302437  0.09118852 0.07856778]\n",
      "[0. 1. 0.] <-> [0.41610909 0.5390499  0.04484098]\n",
      "[1. 0. 0.] <-> [0.70479506 0.22901118 0.06619377]\n",
      "[1. 0. 0.] <-> [0.70664644 0.22338937 0.06996417]\n",
      "[1. 0. 0.] <-> [0.86797035 0.05103822 0.0809914 ]\n",
      "[1. 0. 0.] <-> [0.85513085 0.06684218 0.07802696]\n",
      "[1. 0. 0.] <-> [0.8474238  0.07346813 0.0791081 ]\n",
      "[1. 0. 0.] <-> [0.8487482  0.0579226  0.09332918]\n",
      "[1. 0. 0.] <-> [0.86058    0.04541482 0.09400517]\n",
      "[0. 0. 1.] <-> [0.22991145 0.02331994 0.7467686 ]\n",
      "[1. 0. 0.] <-> [0.8317378  0.09539686 0.07286541]\n",
      "[1. 0. 0.] <-> [0.8257516  0.0588314  0.11541699]\n",
      "[1. 0. 0.] <-> [0.607722   0.3286494  0.06362855]\n",
      "[0. 0. 1.] <-> [0.5104419  0.01631722 0.4732409 ]\n",
      "[1. 0. 0.] <-> [0.86662906 0.03350294 0.09986801]\n",
      "[0. 1. 0.] <-> [0.12625556 0.8493116  0.02443283]\n",
      "[0. 1. 0.] <-> [0.5486841  0.40791702 0.04339884]\n",
      "[0. 0. 1.] <-> [0.20202906 0.04575636 0.75221455]\n",
      "[0. 1. 0.] <-> [0.15383305 0.8200841  0.0260829 ]\n",
      "[1. 0. 0.] <-> [0.79066116 0.12178943 0.08754939]\n",
      "[1. 0. 0.] <-> [0.85331535 0.03504809 0.11163657]\n",
      "[0. 1. 0.] <-> [0.5518033  0.40424332 0.04395338]\n",
      "[0. 0. 1.] <-> [0.74362177 0.03287581 0.22350244]\n",
      "[1. 0. 0.] <-> [0.8344814  0.07014802 0.0953705 ]\n",
      "[0. 0. 1.] <-> [0.64502597 0.01699456 0.33797953]\n",
      "[1. 0. 0.] <-> [0.7147471  0.05800271 0.22725028]\n",
      "[1. 0. 0.] <-> [0.8197204  0.10891627 0.07136335]\n",
      "[1. 0. 0.] <-> [0.803498   0.12872964 0.0677723 ]\n",
      "[0. 1. 0.] <-> [0.22897896 0.73814166 0.03287941]\n",
      "[1. 0. 0.] <-> [0.7688669  0.16645207 0.06468109]\n",
      "[1. 0. 0.] <-> [0.68130505 0.20293252 0.11576248]\n",
      "[1. 0. 0.] <-> [0.79925704 0.11082973 0.08991325]\n",
      "[1. 0. 0.] <-> [0.82439613 0.09740163 0.07820227]\n",
      "[1. 0. 0.] <-> [0.83340514 0.08471856 0.08187628]\n",
      "[1. 0. 0.] <-> [0.8231154  0.06579556 0.11108901]\n",
      "[1. 0. 0.] <-> [0.8238531  0.09218047 0.0839664 ]\n",
      "{'accuracy': 0.9135802469135802, 'mean_square_error': 0.183785093195471, 'categorical_crossentropy': 0.3569295671251085, 'precision': 0.8703703703703703, 'recall': 0.8703703703703703, 'f1': 0.8703703703703703, 'essential_metrics': {0: {'tp_hit': 78, 'fp_hit': 14, 'tn_hit': 16, 'fn_hit': 0}, 1: {'tp_hit': 10, 'fp_hit': 0, 'tn_hit': 92, 'fn_hit': 6}, 2: {'tp_hit': 6, 'fp_hit': 0, 'tn_hit': 94, 'fn_hit': 8}}}\n"
     ]
    }
   ],
   "source": [
    "# recall phase\n",
    "score = model.evaluate(x_test, y_test, False)\n",
    "print(score)"
   ]
  },
  {
   "cell_type": "code",
   "execution_count": 12,
   "metadata": {},
   "outputs": [],
   "source": [
    "# Testing Performance"
   ]
  },
  {
   "cell_type": "code",
   "execution_count": 13,
   "metadata": {},
   "outputs": [
    {
     "name": "stderr",
     "output_type": "stream",
     "text": [
      "C:\\Users\\tcumi\\Anaconda3\\envs\\py_3_6\\lib\\site-packages\\numpy\\core\\_asarray.py:136: VisibleDeprecationWarning: Creating an ndarray from ragged nested sequences (which is a list-or-tuple of lists-or-tuples-or ndarrays with different lengths or shapes) is deprecated. If you meant to do this, you must specify 'dtype=object' when creating the ndarray\n",
      "  return array(a, dtype, copy=False, order=order, subok=True)\n"
     ]
    },
    {
     "data": {
      "image/png": "[encoded data removed]",
      "text/plain": [
       "<Figure size 864x360 with 1 Axes>"
      ]
     },
     "metadata": {
      "needs_background": "light"
     },
     "output_type": "display_data"
    },
    {
     "data": {
      "image/png": "[encoded data removed]",
      "text/plain": [
       "<Figure size 864x360 with 1 Axes>"
      ]
     },
     "metadata": {
      "needs_background": "light"
     },
     "output_type": "display_data"
    }
   ],
   "source": [
    "draw_plot(x = [[i for i in range(len(history))], [(i+1)*breakpoint for i in range(len(checkpoints))]], y_list = [history, [ ckp[model.loss_fn] for ckp in checkpoints ]], x_label = 'Epochs', \\\n",
    "    y_label = model.loss_fn, legend=['train', 'test'])\n",
    "acc = [ ckp['accuracy'] for ckp in checkpoints ]\n",
    "draw_plot(x = [[(i+1)*breakpoint for i in range(len(checkpoints))]], y_list = [acc], x_label = 'Checkpoints', \\\n",
    "    y_label = 'accuracy')"
   ]
  },
  {
   "cell_type": "code",
   "execution_count": 14,
   "metadata": {
    "scrolled": false
   },
   "outputs": [
    {
     "name": "stdout",
     "output_type": "stream",
     "text": [
      "{'accuracy': 0.9259259259259259, 'mean_square_error': 0.19944373636311846, 'categorical_crossentropy': 0.39699324855098017, 'precision': 0.8888888888888888, 'recall': 0.8888888888888888, 'f1': 0.8888888888888888, 'essential_metrics': {0: {'tp_hit': 78, 'fp_hit': 12, 'tn_hit': 18, 'fn_hit': 0}, 1: {'tp_hit': 8, 'fp_hit': 0, 'tn_hit': 92, 'fn_hit': 8}, 2: {'tp_hit': 10, 'fp_hit': 0, 'tn_hit': 94, 'fn_hit': 4}}, 'checkpoint': 100} \n",
      "\n",
      "\n",
      "{'accuracy': 0.9382716049382716, 'mean_square_error': 0.19023611946342156, 'categorical_crossentropy': 0.3799852795071072, 'precision': 0.9074074074074074, 'recall': 0.9074074074074074, 'f1': 0.9074074074074074, 'essential_metrics': {0: {'tp_hit': 78, 'fp_hit': 10, 'tn_hit': 20, 'fn_hit': 0}, 1: {'tp_hit': 11, 'fp_hit': 0, 'tn_hit': 92, 'fn_hit': 5}, 2: {'tp_hit': 9, 'fp_hit': 0, 'tn_hit': 94, 'fn_hit': 5}}, 'checkpoint': 200} \n",
      "\n",
      "\n",
      "{'accuracy': 0.9382716049382716, 'mean_square_error': 0.18915363814073421, 'categorical_crossentropy': 0.3739322379783348, 'precision': 0.9074074074074074, 'recall': 0.9074074074074074, 'f1': 0.9074074074074074, 'essential_metrics': {0: {'tp_hit': 78, 'fp_hit': 10, 'tn_hit': 20, 'fn_hit': 0}, 1: {'tp_hit': 11, 'fp_hit': 0, 'tn_hit': 92, 'fn_hit': 5}, 2: {'tp_hit': 9, 'fp_hit': 0, 'tn_hit': 94, 'fn_hit': 5}}, 'checkpoint': 300} \n",
      "\n",
      "\n",
      "{'accuracy': 0.9259259259259259, 'mean_square_error': 0.1855193942924602, 'categorical_crossentropy': 0.3647448221842448, 'precision': 0.8888888888888888, 'recall': 0.8888888888888888, 'f1': 0.8888888888888888, 'essential_metrics': {0: {'tp_hit': 78, 'fp_hit': 12, 'tn_hit': 18, 'fn_hit': 0}, 1: {'tp_hit': 10, 'fp_hit': 0, 'tn_hit': 92, 'fn_hit': 6}, 2: {'tp_hit': 8, 'fp_hit': 0, 'tn_hit': 94, 'fn_hit': 6}}, 'checkpoint': 400} \n",
      "\n",
      "\n",
      "{'accuracy': 0.9135802469135802, 'mean_square_error': 0.183785093195471, 'categorical_crossentropy': 0.3569295671251085, 'precision': 0.8703703703703703, 'recall': 0.8703703703703703, 'f1': 0.8703703703703703, 'essential_metrics': {0: {'tp_hit': 78, 'fp_hit': 14, 'tn_hit': 16, 'fn_hit': 0}, 1: {'tp_hit': 10, 'fp_hit': 0, 'tn_hit': 92, 'fn_hit': 6}, 2: {'tp_hit': 6, 'fp_hit': 0, 'tn_hit': 94, 'fn_hit': 8}}, 'checkpoint': 500} \n",
      "\n",
      "\n"
     ]
    }
   ],
   "source": [
    "for checkpoint in checkpoints:\n",
    "    print(checkpoint, '\\n\\n')"
   ]
  },
  {
   "cell_type": "code",
   "execution_count": 15,
   "metadata": {},
   "outputs": [
    {
     "name": "stdout",
     "output_type": "stream",
     "text": [
      "Layer 1\n",
      "Neuron 0: weights:\n",
      "[-0.01057987 -0.5034935  -0.78168255 -0.96417105 -0.522056  ]\n",
      " bias: 0.5105105638504028\n",
      "\n",
      "Neuron 1: weights:\n",
      "[ 0.8456183  -1.0834299  -0.9342873   0.10891211  0.01110579]\n",
      " bias: 0.5433358550071716\n",
      "\n",
      "Neuron 2: weights:\n",
      "[-0.42243913  0.85638994  0.6202803   0.08071835 -0.11904151]\n",
      " bias: -0.14293599128723145\n",
      "\n",
      "Neuron 3: weights:\n",
      "[ 0.35933974 -0.9699742  -0.0858934   0.962334    0.7968158 ]\n",
      " bias: -1.2093770503997803\n",
      "\n",
      "$\n",
      "Layer 2\n",
      "Neuron 0: weights:\n",
      "[ 1.4100218   0.877031   -0.60001844 -1.6261256 ]\n",
      " bias: 0.360201895236969\n",
      "\n",
      "Neuron 1: weights:\n",
      "[-0.62178445 -1.5195948   1.7221338  -0.9533531 ]\n",
      " bias: 0.12692515552043915\n",
      "\n",
      "Neuron 2: weights:\n",
      "[-0.2727975  0.5927529 -0.7308429  1.6561742]\n",
      " bias: -1.0133837461471558\n",
      "\n",
      "$\n",
      "\n"
     ]
    }
   ],
   "source": [
    "print(model)"
   ]
  }
 ],
 "metadata": {
  "kernelspec": {
   "display_name": "Python 3",
   "language": "python",
   "name": "python3"
  },
  "language_info": {
   "codemirror_mode": {
    "name": "ipython",
    "version": 3
   },
   "file_extension": ".py",
   "mimetype": "text/x-python",
   "name": "python",
   "nbconvert_exporter": "python",
   "pygments_lexer": "ipython3",
   "version": "3.6.10"
  }
 },
 "nbformat": 4,
 "nbformat_minor": 2
}
