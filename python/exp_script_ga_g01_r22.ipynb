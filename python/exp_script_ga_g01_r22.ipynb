{
 "cells": [
  {
   "cell_type": "code",
   "execution_count": 1,
   "metadata": {},
   "outputs": [],
   "source": [
    "# two"
   ]
  },
  {
   "cell_type": "code",
   "execution_count": 2,
   "metadata": {},
   "outputs": [],
   "source": [
    "# dependency\n",
    "import numpy as np\n",
    "import pandas as pd\n",
    "import copy\n",
    "import math\n",
    "import sys\n",
    "import os\n",
    "from activations import relu, leaky_relu, sigmoid, tanh, softmax, d_sigmoid, d_relu\n",
    "from initializers import glorot_uniform, random_normal, random_uniform\n",
    "from regularizers import l1_regularizer, l2_regularizer\n",
    "from utility import trim_tail, multiply, subtract, get_nparams, one_hot_encoding, get_data\n",
    "from metrics import MSE, CCE, ACC, PRECISION, RECALL, essential_metrics, wondering_penalty, close_gap_penalty\n",
    "from pso import PSO\n",
    "from ga import GA\n",
    "from nn import Network\n",
    "from layer import DenseLayer\n",
    "from scalers import MinMaxScaler, StandardScaler"
   ]
  },
  {
   "cell_type": "code",
   "execution_count": 3,
   "metadata": {},
   "outputs": [],
   "source": [
    "# reference\n",
    "metrics_fn_dict = dict()\n",
    "metrics_fn_dict['accuracy'] = ACC\n",
    "metrics_fn_dict['categorical_crossentropy'] = CCE\n",
    "metrics_fn_dict['mean_square_error'] = MSE\n",
    "metrics_fn_dict['precision'] = PRECISION\n",
    "metrics_fn_dict['recall'] = RECALL\n",
    "metrics_fn_dict['essential_metrics'] = essential_metrics"
   ]
  },
  {
   "cell_type": "code",
   "execution_count": 4,
   "metadata": {},
   "outputs": [],
   "source": [
    "# model\n",
    "model = Network(5, lr = None)\n",
    "model.add_layer(DenseLayer(1, 4, True, afn=sigmoid, dafn=None, rfn=None))\n",
    "model.add_layer(DenseLayer(2, 3, True, afn=softmax, dafn=None, rfn=None))"
   ]
  },
  {
   "cell_type": "code",
   "execution_count": 5,
   "metadata": {},
   "outputs": [],
   "source": [
    "# optimizer\n",
    "ga = GA(\n",
    "    dict(\n",
    "        m = 200,\n",
    "        x_rate = 0.5,\n",
    "        m_rate = 0.5,\n",
    "        weight_constraint = [-3.,3.],\n",
    "        radioactive_rating = 0.1,\n",
    "        grow_factor = 0.1,\n",
    "        scale_hyperparameter = False,\n",
    "        regularizer = None))"
   ]
  },
  {
   "cell_type": "code",
   "execution_count": 6,
   "metadata": {},
   "outputs": [
    {
     "name": "stdout",
     "output_type": "stream",
     "text": [
      "building layer 1 with 5\n",
      "24\n",
      "building layer 2 with 4\n",
      "15\n"
     ]
    }
   ],
   "source": [
    "model.compile(loss_fn = 'categorical_crossentropy', optimizer = ga, \\\n",
    "    metrics = ['accuracy', 'mean_square_error', 'categorical_crossentropy', 'precision', 'recall', 'f1'])"
   ]
  },
  {
   "cell_type": "code",
   "execution_count": 7,
   "metadata": {},
   "outputs": [
    {
     "name": "stdout",
     "output_type": "stream",
     "text": [
      "<class 'pandas.core.frame.DataFrame'>\n",
      "RangeIndex: 107 entries, 0 to 106\n",
      "Data columns (total 6 columns):\n",
      " #   Column  Non-Null Count  Dtype  \n",
      "---  ------  --------------  -----  \n",
      " 0   f1      107 non-null    float32\n",
      " 1   f2      107 non-null    float32\n",
      " 2   f3      107 non-null    float32\n",
      " 3   f4      107 non-null    float32\n",
      " 4   f5      107 non-null    float32\n",
      " 5   label   107 non-null    float32\n",
      "dtypes: float32(6)\n",
      "memory usage: 2.6 KB\n",
      "None\n",
      "<class 'pandas.core.frame.DataFrame'>\n",
      "RangeIndex: 108 entries, 0 to 107\n",
      "Data columns (total 6 columns):\n",
      " #   Column  Non-Null Count  Dtype  \n",
      "---  ------  --------------  -----  \n",
      " 0   f1      108 non-null    float32\n",
      " 1   f2      108 non-null    float32\n",
      " 2   f3      108 non-null    float32\n",
      " 3   f4      108 non-null    float32\n",
      " 4   f5      108 non-null    float32\n",
      " 5   label   108 non-null    float32\n",
      "dtypes: float32(6)\n",
      "memory usage: 2.7 KB\n",
      "None\n"
     ]
    }
   ],
   "source": [
    "# data loading\n",
    "DATA = os.path.join('c:\\\\Users\\\\AI-lab\\\\github_repo\\\\neural-network\\\\', 'dataset')\n",
    "GROUP = 1\n",
    "COLUMNS = ['f1', 'f2', 'f3', 'f4', 'f5', 'label']\n",
    "N_CLASS = 3\n",
    "EPOCHS = 500\n",
    "train_dir, test_dir = \"..//dataset//training_data{}.txt\".format(GROUP), \"..//dataset//testing_data{}.txt\".format(GROUP)\n",
    "train, test = get_data(DATA, train_dir, COLUMNS), get_data(DATA, test_dir, COLUMNS)\n",
    "# shuffle\n",
    "train, test = train.sample(frac=1), test.sample(frac=1)\n",
    "x_train, y_train = train.drop('label', axis=1), train['label']\n",
    "x_test, y_test = test.drop('label', axis=1), test['label']"
   ]
  },
  {
   "cell_type": "code",
   "execution_count": 8,
   "metadata": {},
   "outputs": [],
   "source": [
    "# data scaling and encoding\n",
    "scaler = StandardScaler(['f1', 'f2', 'f3', 'f4', 'f5'])\n",
    "scaler.fit(x_train)\n",
    "x_train = scaler.transform(x_train)\n",
    "x_test = scaler.transform(x_test)\n",
    "y_train = one_hot_encoding(y_train, N_CLASS)\n",
    "y_test = one_hot_encoding(y_test, N_CLASS)"
   ]
  },
  {
   "cell_type": "code",
   "execution_count": 9,
   "metadata": {
    "scrolled": true,
    "tags": [
     "outputPrepend"
    ]
   },
   "outputs": [
    {
     "name": "stderr",
     "output_type": "stream",
     "text": [
      "C:\\Users\\AI-lab\\github_repo\\neural-network\\python\\ga.py:201: RuntimeWarning: overflow encountered in add\n",
      "  self.population.sort(key=lambda p: p.fitness + np.random.uniform(-shift, shift, 1), reverse = self.aim)\n"
     ]
    },
    {
     "name": "stdout",
     "output_type": "stream",
     "text": [
      "Checkpoint 100, Accuracy: 0.9691358024691358, Loss: 0.19056320190429688\n",
      "Checkpoint 200, Accuracy: 0.9691358024691358, Loss: 0.16236132162588615\n",
      "Checkpoint 300, Accuracy: 0.9691358024691358, Loss: 0.14597674652382178\n",
      "Checkpoint 400, Accuracy: 0.9691358024691358, Loss: 0.13450339988425927\n",
      "Checkpoint 500, Accuracy: 0.9691358024691358, Loss: 0.12972697505244501\n"
     ]
    }
   ],
   "source": [
    "# learning phase\n",
    "breakpoint = 100\n",
    "checkpoints = list()\n",
    "history = list()\n",
    "for century in range(0, EPOCHS, breakpoint):\n",
    "    sub_history = model.fit(x_train, y_train, breakpoint, verbose = 0)\n",
    "    score = model.evaluate(x_test, y_test, False, verbose = 0)\n",
    "    print('Checkpoint {}, Accuracy: {}, Loss: {}'.format(century+breakpoint, score['accuracy'], score[model.loss_fn]))\n",
    "    score['checkpoint'] = century + breakpoint\n",
    "    checkpoints.append(score)\n",
    "    history.extend(sub_history)\n",
    "    "
   ]
  },
  {
   "cell_type": "code",
   "execution_count": 10,
   "metadata": {},
   "outputs": [],
   "source": [
    "import matplotlib.pyplot as plt\n",
    "\n",
    "def draw_plot(x, y_list, x_label=None, y_label=None, legend=None, title=None):\n",
    "    fig, ax = plt.subplots(figsize=(12,5))\n",
    "    for xi, yi in zip(x, y_list):\n",
    "        ax.plot(xi, yi)\n",
    "    if x_label is not None and y_label is not None:\n",
    "        ax.set(xlabel=x_label, ylabel=y_label, title='{} VS {}'.format(x_label, y_label))\n",
    "    if legend is not None:\n",
    "        ax.legend(legend)\n",
    "    ax.grid()\n",
    "    plt.show()"
   ]
  },
  {
   "cell_type": "code",
   "execution_count": 11,
   "metadata": {},
   "outputs": [
    {
     "name": "stdout",
     "output_type": "stream",
     "text": [
      "[1. 0. 0.] <-> [0.7884537  0.00209973 0.20944655]\n",
      "[0. 1. 0.] <-> [2.8742023e-02 9.7119391e-01 6.4071079e-05]\n",
      "[1. 0. 0.] <-> [0.97939897 0.01089406 0.009707  ]\n",
      "[1. 0. 0.] <-> [0.9223089  0.07427609 0.00341493]\n",
      "[1. 0. 0.] <-> [0.9484385  0.04740389 0.00415759]\n",
      "[1. 0. 0.] <-> [0.9788069  0.00725908 0.01393409]\n",
      "[1. 0. 0.] <-> [0.95873016 0.03631033 0.00495949]\n",
      "[1. 0. 0.] <-> [0.96238935 0.00487079 0.0327399 ]\n",
      "[0. 0. 1.] <-> [4.7146376e-02 9.2907940e-05 9.5276070e-01]\n",
      "[0. 1. 0.] <-> [5.7684634e-02 9.4217217e-01 1.4314795e-04]\n",
      "[0. 1. 0.] <-> [1.2901746e-01 8.7044382e-01 5.3876871e-04]\n",
      "[1. 0. 0.] <-> [0.9766337  0.01599532 0.00737085]\n",
      "[1. 0. 0.] <-> [0.9771707  0.01317912 0.00965025]\n",
      "[0. 0. 1.] <-> [4.7129538e-02 9.3031318e-05 9.5277745e-01]\n",
      "[0. 0. 1.] <-> [4.7032945e-02 9.2464601e-05 9.5287466e-01]\n",
      "[1. 0. 0.] <-> [0.97776574 0.00722137 0.01501283]\n",
      "[1. 0. 0.] <-> [0.9764837  0.0163609  0.00715551]\n",
      "[1. 0. 0.] <-> [0.96396226 0.03101593 0.00502184]\n",
      "[0. 1. 0.] <-> [4.0926017e-02 9.5901358e-01 6.0418213e-05]\n",
      "[0. 1. 0.] <-> [2.1533556e-02 9.7843415e-01 3.2256285e-05]\n",
      "[1. 0. 0.] <-> [0.7807831  0.00213154 0.21708536]\n",
      "[0. 0. 1.] <-> [4.9211938e-02 1.0330159e-04 9.5068473e-01]\n",
      "[1. 0. 0.] <-> [0.9658346  0.00594376 0.02822153]\n",
      "[1. 0. 0.] <-> [0.9774445  0.01638742 0.00616801]\n",
      "[1. 0. 0.] <-> [0.9252495  0.06975413 0.00499643]\n",
      "[1. 0. 0.] <-> [0.962726   0.00401367 0.0332603 ]\n",
      "[0. 0. 1.] <-> [4.704017e-02 9.249115e-05 9.528674e-01]\n",
      "[1. 0. 0.] <-> [0.97699946 0.00739999 0.01560062]\n",
      "[0. 1. 0.] <-> [5.6947183e-02 9.4271427e-01 3.3855552e-04]\n",
      "[1. 0. 0.] <-> [0.9639919  0.00617208 0.02983612]\n",
      "[1. 0. 0.] <-> [0.97350025 0.01061812 0.01588161]\n",
      "[1. 0. 0.] <-> [0.97481346 0.01372757 0.01145906]\n",
      "[1. 0. 0.] <-> [0.87776124 0.12007213 0.00216663]\n",
      "[1. 0. 0.] <-> [0.9683272  0.02290593 0.00876685]\n",
      "[1. 0. 0.] <-> [0.98079497 0.00850369 0.01070134]\n",
      "[1. 0. 0.] <-> [0.964411   0.00530886 0.03028022]\n",
      "[1. 0. 0.] <-> [0.9593415  0.03530168 0.00535688]\n",
      "[0. 1. 0.] <-> [7.8478865e-02 9.2136753e-01 1.5370313e-04]\n",
      "[1. 0. 0.] <-> [0.93969077 0.00233206 0.05797721]\n",
      "[0. 1. 0.] <-> [0.51368433 0.48514283 0.00117287]\n",
      "[1. 0. 0.] <-> [0.8444304  0.00345121 0.15211843]\n",
      "[1. 0. 0.] <-> [0.9473039  0.00416741 0.04852872]\n",
      "[1. 0. 0.] <-> [0.97437716 0.00737082 0.01825194]\n",
      "[1. 0. 0.] <-> [0.9244891  0.00608195 0.06942896]\n",
      "[1. 0. 0.] <-> [0.9537868  0.00436526 0.04184793]\n",
      "[1. 0. 0.] <-> [0.9554818  0.00484112 0.03967703]\n",
      "[0. 0. 1.] <-> [5.9180371e-02 1.3433417e-04 9.4068527e-01]\n",
      "[1. 0. 0.] <-> [0.97840756 0.00749028 0.01410214]\n",
      "[1. 0. 0.] <-> [0.9731515  0.01631926 0.01052918]\n",
      "[0. 0. 1.] <-> [4.7064114e-02 9.2611757e-05 9.5284325e-01]\n",
      "[0. 0. 1.] <-> [0.7340103  0.00126245 0.26472723]\n",
      "[1. 0. 0.] <-> [0.96198946 0.00698301 0.03102754]\n",
      "[1. 0. 0.] <-> [0.9681381  0.00391854 0.02794338]\n",
      "[1. 0. 0.] <-> [0.97554374 0.01295343 0.01150286]\n",
      "[0. 1. 0.] <-> [4.0987033e-02 9.5891386e-01 9.9100260e-05]\n",
      "[0. 0. 1.] <-> [4.7292374e-02 9.3396797e-05 9.5261431e-01]\n",
      "[1. 0. 0.] <-> [0.77076894 0.00500385 0.22422728]\n",
      "[1. 0. 0.] <-> [1.4696580e-01 2.9009351e-04 8.5274416e-01]\n",
      "[0. 0. 1.] <-> [4.706237e-02 9.260000e-05 9.528450e-01]\n",
      "[0. 1. 0.] <-> [3.3327673e-02 9.6657729e-01 9.5115625e-05]\n",
      "[1. 0. 0.] <-> [0.9810153  0.00987426 0.00911046]\n",
      "[1. 0. 0.] <-> [0.90314835 0.00320789 0.09364368]\n",
      "[1. 0. 0.] <-> [0.8457227 0.1513989 0.0028785]\n",
      "[1. 0. 0.] <-> [0.9754524  0.01754355 0.00700412]\n",
      "[1. 0. 0.] <-> [0.96577805 0.00511453 0.0291074 ]\n",
      "[1. 0. 0.] <-> [0.8403097  0.00186522 0.15782513]\n",
      "[1. 0. 0.] <-> [0.981013   0.00836326 0.0106237 ]\n",
      "[1. 0. 0.] <-> [0.9788906  0.01069997 0.01040943]\n",
      "[1. 0. 0.] <-> [0.9803382  0.01051612 0.00914562]\n",
      "[1. 0. 0.] <-> [0.9065436  0.00252929 0.09092717]\n",
      "[1. 0. 0.] <-> [0.9640768  0.00505596 0.03086724]\n",
      "[1. 0. 0.] <-> [0.9435685  0.052642   0.00378952]\n",
      "[1. 0. 0.] <-> [0.9527443  0.00313944 0.04411618]\n",
      "[1. 0. 0.] <-> [0.9715154  0.0055949  0.02288969]\n",
      "[0. 0. 1.] <-> [0.65647435 0.0027619  0.34076372]\n",
      "[1. 0. 0.] <-> [0.96178114 0.00435308 0.03386584]\n",
      "[1. 0. 0.] <-> [0.97743315 0.01177664 0.01079024]\n",
      "[1. 0. 0.] <-> [0.931639   0.003298   0.06506298]\n",
      "[0. 1. 0.] <-> [2.7681008e-01 7.2262269e-01 5.6722056e-04]\n",
      "[1. 0. 0.] <-> [0.97715217 0.00963956 0.01320829]\n",
      "[1. 0. 0.] <-> [0.9720988  0.02256845 0.00533277]\n",
      "[1. 0. 0.] <-> [0.9765173  0.00531708 0.01816549]\n",
      "[1. 0. 0.] <-> [0.9785417  0.01227082 0.00918753]\n",
      "[1. 0. 0.] <-> [0.9707672  0.01987058 0.00936219]\n",
      "[1. 0. 0.] <-> [0.9678448  0.0086681  0.02348711]\n",
      "[1. 0. 0.] <-> [0.635286   0.00163094 0.36308312]\n",
      "[1. 0. 0.] <-> [0.9764554  0.00575243 0.01779225]\n",
      "[1. 0. 0.] <-> [0.9682004  0.02682266 0.00497696]\n",
      "[1. 0. 0.] <-> [0.95181346 0.00436174 0.0438248 ]\n",
      "[1. 0. 0.] <-> [0.895859   0.00368986 0.10045114]\n",
      "[0. 1. 0.] <-> [3.5950340e-02 9.6393484e-01 1.1477921e-04]\n",
      "[1. 0. 0.] <-> [0.97444636 0.01179372 0.01375997]\n",
      "[0. 1. 0.] <-> [0.10876235 0.88963294 0.0016047 ]\n",
      "[0. 0. 1.] <-> [4.7028959e-02 9.2441187e-05 9.5287865e-01]\n",
      "[1. 0. 0.] <-> [0.5014973  0.49747172 0.00103095]\n",
      "[0. 1. 0.] <-> [0.44355184 0.5556832  0.00076496]\n",
      "[1. 0. 0.] <-> [0.93490654 0.00481994 0.06027349]\n",
      "[1. 0. 0.] <-> [0.97492224 0.00858547 0.01649234]\n",
      "[1. 0. 0.] <-> [0.96706665 0.00724096 0.02569235]\n",
      "[1. 0. 0.] <-> [0.9551086  0.00514958 0.03974182]\n",
      "[1. 0. 0.] <-> [0.97609836 0.01724937 0.00665231]\n",
      "[1. 0. 0.] <-> [0.7551498  0.00147883 0.24337131]\n",
      "[1. 0. 0.] <-> [0.97896725 0.01139946 0.00963329]\n",
      "[1. 0. 0.] <-> [0.9794784  0.0078935  0.01262801]\n",
      "[1. 0. 0.] <-> [0.9025712  0.00332989 0.09409893]\n",
      "[1. 0. 0.] <-> [0.969098   0.00636037 0.02454171]\n",
      "[0. 0. 1.] <-> [4.8402306e-02 9.5124837e-05 9.5150250e-01]\n",
      "[0. 1. 0.] <-> [0.73679763 0.25815728 0.0050451 ]\n",
      "{'accuracy': 0.9691358024691358, 'mean_square_error': 0.06753207449859121, 'categorical_crossentropy': 0.12972697505244501, 'precision': 0.9537037037037037, 'recall': 0.9537037037037037, 'f1': 0.9537037037037037, 'essential_metrics': {0: {'tp_hit': 79, 'fp_hit': 4, 'tn_hit': 24, 'fn_hit': 1}, 1: {'tp_hit': 13, 'fp_hit': 0, 'tn_hit': 93, 'fn_hit': 2}, 2: {'tp_hit': 11, 'fp_hit': 1, 'tn_hit': 94, 'fn_hit': 2}}}\n"
     ]
    }
   ],
   "source": [
    "# recall phase\n",
    "score = model.evaluate(x_test, y_test, False)\n",
    "print(score)"
   ]
  },
  {
   "cell_type": "code",
   "execution_count": 12,
   "metadata": {},
   "outputs": [],
   "source": [
    "# Testing Performance"
   ]
  },
  {
   "cell_type": "code",
   "execution_count": 13,
   "metadata": {},
   "outputs": [
    {
     "data": {
      "image/png": "[encoded data removed]",
      "text/plain": [
       "<Figure size 864x360 with 1 Axes>"
      ]
     },
     "metadata": {
      "needs_background": "light"
     },
     "output_type": "display_data"
    },
    {
     "data": {
      "image/png": "[encoded data removed]",
      "text/plain": [
       "<Figure size 864x360 with 1 Axes>"
      ]
     },
     "metadata": {
      "needs_background": "light"
     },
     "output_type": "display_data"
    }
   ],
   "source": [
    "draw_plot(x = [[i for i in range(len(history))], [(i+1)*breakpoint for i in range(len(checkpoints))]], y_list = [history, [ ckp[model.loss_fn] for ckp in checkpoints ]], x_label = 'Epochs', \\\n",
    "    y_label = model.loss_fn, legend=['train', 'test'])\n",
    "acc = [ ckp['accuracy'] for ckp in checkpoints ]\n",
    "draw_plot(x = [[(i+1)*breakpoint for i in range(len(checkpoints))]], y_list = [acc], x_label = 'Checkpoints', \\\n",
    "    y_label = 'accuracy')"
   ]
  },
  {
   "cell_type": "code",
   "execution_count": 14,
   "metadata": {
    "scrolled": false
   },
   "outputs": [
    {
     "name": "stdout",
     "output_type": "stream",
     "text": [
      "{'accuracy': 0.9691358024691358, 'mean_square_error': 0.08424613141096317, 'categorical_crossentropy': 0.19056320190429688, 'precision': 0.9537037037037037, 'recall': 0.9537037037037037, 'f1': 0.9537037037037037, 'essential_metrics': {0: {'tp_hit': 79, 'fp_hit': 4, 'tn_hit': 24, 'fn_hit': 1}, 1: {'tp_hit': 13, 'fp_hit': 0, 'tn_hit': 93, 'fn_hit': 2}, 2: {'tp_hit': 11, 'fp_hit': 1, 'tn_hit': 94, 'fn_hit': 2}}, 'checkpoint': 100} \n",
      "\n",
      "\n",
      "{'accuracy': 0.9691358024691358, 'mean_square_error': 0.07336106885995669, 'categorical_crossentropy': 0.16236132162588615, 'precision': 0.9537037037037037, 'recall': 0.9537037037037037, 'f1': 0.9537037037037037, 'essential_metrics': {0: {'tp_hit': 79, 'fp_hit': 4, 'tn_hit': 24, 'fn_hit': 1}, 1: {'tp_hit': 13, 'fp_hit': 0, 'tn_hit': 93, 'fn_hit': 2}, 2: {'tp_hit': 11, 'fp_hit': 1, 'tn_hit': 94, 'fn_hit': 2}}, 'checkpoint': 200} \n",
      "\n",
      "\n",
      "{'accuracy': 0.9691358024691358, 'mean_square_error': 0.06952997627822037, 'categorical_crossentropy': 0.14597674652382178, 'precision': 0.9537037037037037, 'recall': 0.9537037037037037, 'f1': 0.9537037037037037, 'essential_metrics': {0: {'tp_hit': 79, 'fp_hit': 4, 'tn_hit': 24, 'fn_hit': 1}, 1: {'tp_hit': 13, 'fp_hit': 0, 'tn_hit': 93, 'fn_hit': 2}, 2: {'tp_hit': 11, 'fp_hit': 1, 'tn_hit': 94, 'fn_hit': 2}}, 'checkpoint': 300} \n",
      "\n",
      "\n",
      "{'accuracy': 0.9691358024691358, 'mean_square_error': 0.0655189610219395, 'categorical_crossentropy': 0.13450339988425927, 'precision': 0.9537037037037037, 'recall': 0.9537037037037037, 'f1': 0.9537037037037037, 'essential_metrics': {0: {'tp_hit': 78, 'fp_hit': 3, 'tn_hit': 25, 'fn_hit': 2}, 1: {'tp_hit': 14, 'fp_hit': 1, 'tn_hit': 92, 'fn_hit': 1}, 2: {'tp_hit': 11, 'fp_hit': 1, 'tn_hit': 94, 'fn_hit': 2}}, 'checkpoint': 400} \n",
      "\n",
      "\n",
      "{'accuracy': 0.9691358024691358, 'mean_square_error': 0.06753207449859121, 'categorical_crossentropy': 0.12972697505244501, 'precision': 0.9537037037037037, 'recall': 0.9537037037037037, 'f1': 0.9537037037037037, 'essential_metrics': {0: {'tp_hit': 79, 'fp_hit': 4, 'tn_hit': 24, 'fn_hit': 1}, 1: {'tp_hit': 13, 'fp_hit': 0, 'tn_hit': 93, 'fn_hit': 2}, 2: {'tp_hit': 11, 'fp_hit': 1, 'tn_hit': 94, 'fn_hit': 2}}, 'checkpoint': 500} \n",
      "\n",
      "\n"
     ]
    }
   ],
   "source": [
    "for checkpoint in checkpoints:\n",
    "    print(checkpoint, '\\n\\n')"
   ]
  },
  {
   "cell_type": "code",
   "execution_count": 15,
   "metadata": {},
   "outputs": [
    {
     "name": "stdout",
     "output_type": "stream",
     "text": [
      "Layer 1\n",
      "Neuron 0: weights:\n",
      "[ 1.4073784  -2.6694183  -2.0690668   0.2508239   0.62151253]\n",
      " bias: 2.545626163482666\n",
      "\n",
      "Neuron 1: weights:\n",
      "[ 0.1653747  2.3262823 -1.8918215 -2.3942347 -2.7949252]\n",
      " bias: -0.5294221043586731\n",
      "\n",
      "Neuron 2: weights:\n",
      "[-0.3309718 -2.0568929 -1.5803739  3.         2.5820193]\n",
      " bias: -2.322788953781128\n",
      "\n",
      "Neuron 3: weights:\n",
      "[-2.8358822   2.0365076   2.2002888   1.1093746  -0.74411625]\n",
      " bias: -0.5959777235984802\n",
      "\n",
      "$\n",
      "Layer 2\n",
      "Neuron 0: weights:\n",
      "[ 3.         -0.57252717 -2.8479407   0.0673714 ]\n",
      " bias: -0.1291728913784027\n",
      "\n",
      "Neuron 1: weights:\n",
      "[-3.         1.2976515 -2.5535445  2.6323593]\n",
      " bias: -0.655613899230957\n",
      "\n",
      "Neuron 2: weights:\n",
      "[ 2.6280022 -2.983624   2.8002276 -1.8000962]\n",
      " bias: -2.3965656757354736\n",
      "\n",
      "$\n",
      "\n"
     ]
    }
   ],
   "source": [
    "print(model)"
   ]
  }
 ],
 "metadata": {
  "kernelspec": {
   "display_name": "Python 3",
   "language": "python",
   "name": "python3"
  },
  "language_info": {
   "codemirror_mode": {
    "name": "ipython",
    "version": 3
   },
   "file_extension": ".py",
   "mimetype": "text/x-python",
   "name": "python",
   "nbconvert_exporter": "python",
   "pygments_lexer": "ipython3",
   "version": "3.6.12"
  }
 },
 "nbformat": 4,
 "nbformat_minor": 2
}
