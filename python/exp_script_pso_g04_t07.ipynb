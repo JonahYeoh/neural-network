{
 "cells": [
  {
   "cell_type": "code",
   "execution_count": 1,
   "metadata": {},
   "outputs": [],
   "source": [
    "# dependency\n",
    "import numpy as np\n",
    "import pandas as pd\n",
    "import copy\n",
    "import math\n",
    "import sys\n",
    "import os\n",
    "from activations import relu, leaky_relu, sigmoid, tanh, softmax, d_sigmoid, d_relu\n",
    "from initializers import glorot_uniform, random_normal, random_uniform\n",
    "from regularizers import l1_regularizer, l2_regularizer\n",
    "from utility import trim_tail, multiply, subtract, get_nparams, one_hot_encoding, get_data\n",
    "from metrics import MSE, CCE, ACC, PRECISION, RECALL, essential_metrics, wondering_penalty, close_gap_penalty\n",
    "from pso import PSO\n",
    "from ga import GA\n",
    "from nn import Network\n",
    "from layer import DenseLayer\n",
    "from scalers import MinMaxScaler, StandardScaler"
   ]
  },
  {
   "cell_type": "code",
   "execution_count": 2,
   "metadata": {},
   "outputs": [],
   "source": [
    "# reference\n",
    "metrics_fn_dict = dict()\n",
    "metrics_fn_dict['accuracy'] = ACC\n",
    "metrics_fn_dict['categorical_crossentropy'] = CCE\n",
    "metrics_fn_dict['mean_square_error'] = MSE\n",
    "metrics_fn_dict['precision'] = PRECISION\n",
    "metrics_fn_dict['recall'] = RECALL\n",
    "metrics_fn_dict['essential_metrics'] = essential_metrics"
   ]
  },
  {
   "cell_type": "code",
   "execution_count": 3,
   "metadata": {},
   "outputs": [],
   "source": [
    "# model\n",
    "model = Network(5, lr = None)\n",
    "model.add_layer(DenseLayer(1, 4, True, afn=sigmoid, dafn=None, rfn=None))\n",
    "model.add_layer(DenseLayer(2, 3, True, afn=softmax, dafn=None, rfn=None))"
   ]
  },
  {
   "cell_type": "code",
   "execution_count": 4,
   "metadata": {},
   "outputs": [
    {
     "name": "stdout",
     "output_type": "stream",
     "text": [
      "see one see two 2 0.5\n"
     ]
    }
   ],
   "source": [
    "pso = PSO(dict(m = 50,\n",
    "    weight_constraint = [-3, 3], \n",
    "    velocity_constraint = [-0.1, 0.1],\n",
    "    c1 = [0.5, 2],\n",
    "    c2 = [0.5, 2],\n",
    "    w = [0.5, 1.6],\n",
    "    w_decay = 0.95,\n",
    "    scale_hyperparameter = False,\n",
    "    regularizer = l1_regularizer,\n",
    "    mask = True))"
   ]
  },
  {
   "cell_type": "code",
   "execution_count": 5,
   "metadata": {},
   "outputs": [
    {
     "name": "stdout",
     "output_type": "stream",
     "text": [
      "building layer 1 with 5\n",
      "24\n",
      "building layer 2 with 4\n",
      "15\n"
     ]
    }
   ],
   "source": [
    "model.compile(loss_fn = 'categorical_crossentropy', optimizer = pso, \\\n",
    "    metrics = ['accuracy', 'mean_square_error', 'categorical_crossentropy'])"
   ]
  },
  {
   "cell_type": "code",
   "execution_count": 6,
   "metadata": {},
   "outputs": [
    {
     "name": "stdout",
     "output_type": "stream",
     "text": [
      "<class 'pandas.core.frame.DataFrame'>\n",
      "RangeIndex: 107 entries, 0 to 106\n",
      "Data columns (total 6 columns):\n",
      " #   Column  Non-Null Count  Dtype  \n",
      "---  ------  --------------  -----  \n",
      " 0   f1      107 non-null    float32\n",
      " 1   f2      107 non-null    float32\n",
      " 2   f3      107 non-null    float32\n",
      " 3   f4      107 non-null    float32\n",
      " 4   f5      107 non-null    float32\n",
      " 5   label   107 non-null    float32\n",
      "dtypes: float32(6)\n",
      "memory usage: 2.6 KB\n",
      "None\n",
      "<class 'pandas.core.frame.DataFrame'>\n",
      "RangeIndex: 108 entries, 0 to 107\n",
      "Data columns (total 6 columns):\n",
      " #   Column  Non-Null Count  Dtype  \n",
      "---  ------  --------------  -----  \n",
      " 0   f1      108 non-null    float32\n",
      " 1   f2      108 non-null    float32\n",
      " 2   f3      108 non-null    float32\n",
      " 3   f4      108 non-null    float32\n",
      " 4   f5      108 non-null    float32\n",
      " 5   label   108 non-null    float32\n",
      "dtypes: float32(6)\n",
      "memory usage: 2.7 KB\n",
      "None\n"
     ]
    }
   ],
   "source": [
    "# data loading\n",
    "DATA = os.path.join('c:\\\\Users\\\\tcumi\\\\github_repo\\\\neural-network\\\\', 'dataset')\n",
    "GROUP = 4\n",
    "COLUMNS = ['f1', 'f2', 'f3', 'f4', 'f5', 'label']\n",
    "N_CLASS = 3\n",
    "EPOCHS = 500\n",
    "train_dir, test_dir = \"..//dataset//training_data{}.txt\".format(GROUP), \"..//dataset//testing_data{}.txt\".format(GROUP)\n",
    "train, test = get_data(DATA, train_dir, COLUMNS), get_data(DATA, test_dir, COLUMNS)\n",
    "# shuffle\n",
    "train, test = train.sample(frac=1), test.sample(frac=1)\n",
    "x_train, y_train = train.drop('label', axis=1), train['label']\n",
    "x_test, y_test = test.drop('label', axis=1), test['label']"
   ]
  },
  {
   "cell_type": "code",
   "execution_count": 7,
   "metadata": {},
   "outputs": [],
   "source": [
    "# data scaling and encoding\n",
    "scaler = StandardScaler(['f1', 'f2', 'f3', 'f4', 'f5'])\n",
    "scaler.fit(x_train)\n",
    "x_train = scaler.transform(x_train)\n",
    "x_test = scaler.transform(x_test)\n",
    "y_train = one_hot_encoding(y_train, N_CLASS)\n",
    "y_test = one_hot_encoding(y_test, N_CLASS)"
   ]
  },
  {
   "cell_type": "code",
   "execution_count": 8,
   "metadata": {
    "tags": [
     "outputPrepend"
    ]
   },
   "outputs": [
    {
     "name": "stdout",
     "output_type": "stream",
     "text": [
      "Checkpoint 100, Accuracy: 0.8950617283950617, Loss: 0.4429461161295573\n",
      "Checkpoint 200, Accuracy: 0.9259259259259259, Loss: 0.2773567835489909\n",
      "Checkpoint 300, Accuracy: 0.9259259259259259, Loss: 0.2579616264060692\n",
      "Checkpoint 400, Accuracy: 0.9444444444444444, Loss: 0.2720964926260489\n",
      "Checkpoint 500, Accuracy: 0.9444444444444444, Loss: 0.25532019579852067\n"
     ]
    }
   ],
   "source": [
    "# learning phase\n",
    "breakpoint = 100\n",
    "checkpoints = list()\n",
    "history = list()\n",
    "for century in range(0, EPOCHS, breakpoint):\n",
    "    sub_history = model.fit(x_train, y_train, breakpoint, verbose = 0)\n",
    "    score = model.evaluate(x_test, y_test, False, verbose = 0)\n",
    "    print('Checkpoint {}, Accuracy: {}, Loss: {}'.format(century+breakpoint, score['accuracy'], score[model.loss_fn]))\n",
    "    score['checkpoint'] = century + breakpoint\n",
    "    checkpoints.append(score)\n",
    "    history.extend(sub_history)\n",
    "    itr = century + breakpoint\n",
    "    model.optimizer.c1 = np.max([model.optimizer.C1[1] - ((model.optimizer.C1[1] - model.optimizer.C1[0]) * itr / EPOCHS), model.optimizer.C1[0]])\n",
    "    model.optimizer.c2 = np.min([model.optimizer.C2[0] + ((model.optimizer.C2[1] - model.optimizer.C2[0]) * itr / EPOCHS), model.optimizer.C2[1]])\n",
    "    model.optimizer.w = np.max([model.optimizer.w * model.optimizer.W_Decay, model.optimizer.W[0]])"
   ]
  },
  {
   "cell_type": "code",
   "execution_count": 9,
   "metadata": {},
   "outputs": [],
   "source": [
    "import matplotlib.pyplot as plt\n",
    "\n",
    "def draw_plot(x, y_list, x_label=None, y_label=None, legend=None, title=None):\n",
    "    fig, ax = plt.subplots(figsize=(12,5))\n",
    "    for xi, yi in zip(x, y_list):\n",
    "        ax.plot(xi, yi)\n",
    "    if x_label is not None and y_label is not None:\n",
    "        ax.set(xlabel=x_label, ylabel=y_label, title='{} VS {}'.format(x_label, y_label))\n",
    "    if legend is not None:\n",
    "        ax.legend(legend)\n",
    "    ax.grid()\n",
    "    plt.show()"
   ]
  },
  {
   "cell_type": "code",
   "execution_count": 10,
   "metadata": {},
   "outputs": [
    {
     "name": "stdout",
     "output_type": "stream",
     "text": [
      "[0. 0. 1.] <-> [0.11181969 0.01092073 0.8772596 ]\n",
      "[1. 0. 0.] <-> [0.9517423  0.01472049 0.03353721]\n",
      "[0. 0. 1.] <-> [0.03511916 0.01041063 0.9544702 ]\n",
      "[1. 0. 0.] <-> [0.938558   0.02128202 0.04015992]\n",
      "[1. 0. 0.] <-> [0.89738184 0.05393556 0.04868256]\n",
      "[1. 0. 0.] <-> [0.93149674 0.00815696 0.06034628]\n",
      "[1. 0. 0.] <-> [0.89441365 0.0791958  0.02639057]\n",
      "[0. 1. 0.] <-> [0.6343803  0.35379335 0.01182641]\n",
      "[0. 0. 1.] <-> [0.75344205 0.00493093 0.24162704]\n",
      "[1. 0. 0.] <-> [0.6306755  0.27574122 0.09358326]\n",
      "[1. 0. 0.] <-> [0.85241044 0.12019585 0.02739375]\n",
      "[1. 0. 0.] <-> [0.7496208  0.21469782 0.03568146]\n",
      "[1. 0. 0.] <-> [0.8830884  0.05103793 0.06587368]\n",
      "[1. 0. 0.] <-> [0.9095958  0.0673463  0.02305787]\n",
      "[1. 0. 0.] <-> [0.89898914 0.07855161 0.02245923]\n",
      "[1. 0. 0.] <-> [0.94562167 0.02141047 0.03296791]\n",
      "[1. 0. 0.] <-> [0.94296044 0.02520415 0.03183537]\n",
      "[1. 0. 0.] <-> [0.91511035 0.06549392 0.0193957 ]\n",
      "[0. 1. 0.] <-> [0.124078   0.86684537 0.00907664]\n",
      "[0. 0. 1.] <-> [0.590143   0.01975287 0.39010414]\n",
      "[1. 0. 0.] <-> [0.91163635 0.03587466 0.05248896]\n",
      "[1. 0. 0.] <-> [0.74630547 0.22489424 0.02880023]\n",
      "[1. 0. 0.] <-> [0.8312286  0.14173962 0.02703179]\n",
      "[0. 1. 0.] <-> [0.47264084 0.5187319  0.00862728]\n",
      "[1. 0. 0.] <-> [0.83689183 0.14111644 0.02199177]\n",
      "[1. 0. 0.] <-> [0.87707067 0.0792597  0.04366965]\n",
      "[1. 0. 0.] <-> [0.91991687 0.0294868  0.0505964 ]\n",
      "[1. 0. 0.] <-> [0.9479286  0.02042226 0.03164914]\n",
      "[0. 0. 1.] <-> [0.45457798 0.02278702 0.522635  ]\n",
      "[1. 0. 0.] <-> [0.7072238  0.27349913 0.01927712]\n",
      "[1. 0. 0.] <-> [0.93796724 0.00882711 0.05320566]\n",
      "[1. 0. 0.] <-> [0.90623456 0.06361445 0.03015096]\n",
      "[1. 0. 0.] <-> [0.93549144 0.04097258 0.02353586]\n",
      "[0. 1. 0.] <-> [0.04344473 0.95128983 0.00526536]\n",
      "[1. 0. 0.] <-> [0.9418879  0.02193704 0.03617506]\n",
      "[1. 0. 0.] <-> [0.8885966  0.05238709 0.05901627]\n",
      "[1. 0. 0.] <-> [0.8710802  0.00865378 0.120266  ]\n",
      "[1. 0. 0.] <-> [0.8456449  0.13156071 0.02279439]\n",
      "[1. 0. 0.] <-> [0.943469   0.01924353 0.03728753]\n",
      "[0. 0. 1.] <-> [0.46411693 0.00715868 0.5287244 ]\n",
      "[1. 0. 0.] <-> [0.47795555 0.5040494  0.01799507]\n",
      "[1. 0. 0.] <-> [0.9179445  0.05230905 0.02974649]\n",
      "[0. 0. 1.] <-> [0.45339704 0.00714856 0.53945434]\n",
      "[1. 0. 0.] <-> [0.845503   0.08128816 0.07320879]\n",
      "[1. 0. 0.] <-> [0.6398041  0.04604622 0.31414962]\n",
      "[1. 0. 0.] <-> [0.9421913  0.03496255 0.02284618]\n",
      "[1. 0. 0.] <-> [0.91733056 0.05691659 0.0257528 ]\n",
      "[1. 0. 0.] <-> [0.9129355  0.04565486 0.04140968]\n",
      "[0. 1. 0.] <-> [0.04676939 0.9475655  0.00566508]\n",
      "[0. 1. 0.] <-> [0.1651037  0.8239433  0.01095295]\n",
      "[1. 0. 0.] <-> [0.9494434  0.01493143 0.03562508]\n",
      "[1. 0. 0.] <-> [0.81523424 0.10814611 0.07661969]\n",
      "[0. 0. 1.] <-> [0.03849722 0.00855467 0.95294815]\n",
      "[0. 1. 0.] <-> [0.27810836 0.7074829  0.0144088 ]\n",
      "[1. 0. 0.] <-> [0.83116066 0.04608786 0.12275147]\n",
      "[1. 0. 0.] <-> [0.9124453  0.04596023 0.04159453]\n",
      "[1. 0. 0.] <-> [0.876123   0.09997726 0.0238997 ]\n",
      "[0. 1. 0.] <-> [0.04095276 0.953588   0.00545924]\n",
      "[1. 0. 0.] <-> [0.94926494 0.02141537 0.02931967]\n",
      "[1. 0. 0.] <-> [0.91290885 0.05972717 0.02736391]\n",
      "[1. 0. 0.] <-> [0.9423009  0.02675862 0.0309405 ]\n",
      "[0. 1. 0.] <-> [0.49192008 0.4974218  0.01065805]\n",
      "[1. 0. 0.] <-> [0.924143   0.03844906 0.03740789]\n",
      "[1. 0. 0.] <-> [0.93458843 0.01142584 0.05398575]\n",
      "[1. 0. 0.] <-> [0.76531655 0.21973889 0.01494457]\n",
      "[0. 0. 1.] <-> [0.83304614 0.01513567 0.15181816]\n",
      "[1. 0. 0.] <-> [0.87825316 0.03929122 0.0824556 ]\n",
      "[1. 0. 0.] <-> [0.75817287 0.2123804  0.02944675]\n",
      "[0. 1. 0.] <-> [0.03908663 0.9556792  0.00523416]\n",
      "[0. 1. 0.] <-> [0.03999651 0.95478386 0.00521962]\n",
      "[0. 1. 0.] <-> [0.5102321  0.4780496  0.01171832]\n",
      "[1. 0. 0.] <-> [0.91442734 0.03008174 0.05549096]\n",
      "[1. 0. 0.] <-> [0.9116287  0.04140267 0.04696864]\n",
      "[1. 0. 0.] <-> [0.9197405  0.05056267 0.02969689]\n",
      "[1. 0. 0.] <-> [0.8511271  0.11459271 0.03428027]\n",
      "[1. 0. 0.] <-> [0.8562188  0.03189494 0.11188626]\n",
      "[0. 1. 0.] <-> [0.08221446 0.91010255 0.00768306]\n",
      "[0. 0. 1.] <-> [0.04461345 0.02347026 0.9319163 ]\n",
      "[1. 0. 0.] <-> [0.70840424 0.26929155 0.02230414]\n",
      "[0. 0. 1.] <-> [0.859656   0.00562552 0.13471855]\n",
      "[0. 0. 1.] <-> [0.36404702 0.0061829  0.6297701 ]\n",
      "[1. 0. 0.] <-> [0.91946113 0.01333361 0.06720528]\n",
      "[0. 0. 1.] <-> [0.5392844  0.00666611 0.4540495 ]\n",
      "[1. 0. 0.] <-> [0.84238684 0.12461338 0.03299972]\n",
      "[0. 0. 1.] <-> [0.71990764 0.01538768 0.2647047 ]\n",
      "[1. 0. 0.] <-> [0.92682976 0.00970776 0.06346247]\n",
      "[1. 0. 0.] <-> [0.86686647 0.03852891 0.09460454]\n",
      "[1. 0. 0.] <-> [0.7608876  0.03779981 0.20131262]\n",
      "[1. 0. 0.] <-> [0.79396695 0.17530344 0.03072953]\n",
      "[1. 0. 0.] <-> [0.8711811  0.08132941 0.04748952]\n",
      "[1. 0. 0.] <-> [0.93787307 0.02997207 0.03215481]\n",
      "[0. 1. 0.] <-> [0.06476142 0.9285274  0.00671119]\n",
      "[1. 0. 0.] <-> [0.8833205  0.08367565 0.03300388]\n",
      "[1. 0. 0.] <-> [0.9152149  0.04676966 0.03801543]\n",
      "[1. 0. 0.] <-> [0.785357   0.17894293 0.03570007]\n",
      "[1. 0. 0.] <-> [0.9084676  0.05592281 0.03560964]\n",
      "[1. 0. 0.] <-> [0.9262633  0.01655859 0.05717816]\n",
      "[1. 0. 0.] <-> [0.9137804  0.01008868 0.07613093]\n",
      "[1. 0. 0.] <-> [0.9292934  0.01915296 0.05155363]\n",
      "[1. 0. 0.] <-> [0.93482    0.03478903 0.03039099]\n",
      "[1. 0. 0.] <-> [0.92679656 0.05616547 0.01703798]\n",
      "[1. 0. 0.] <-> [0.90575117 0.02473473 0.06951407]\n",
      "[0. 1. 0.] <-> [0.46829158 0.5100861  0.0216223 ]\n",
      "[1. 0. 0.] <-> [0.9138743  0.01009596 0.07602962]\n",
      "[1. 0. 0.] <-> [0.7883381  0.02875016 0.18291168]\n",
      "[0. 1. 0.] <-> [0.3954641  0.5839953  0.02054062]\n",
      "[1. 0. 0.] <-> [0.92181116 0.05145979 0.02672904]\n",
      "[1. 0. 0.] <-> [0.8040496  0.16570304 0.03024738]\n",
      "{'accuracy': 0.9444444444444444, 'mean_square_error': 0.13515336394613386, 'categorical_crossentropy': 0.25532019579852067, 'essential_metrics': {0: {'tp_hit': 77, 'fp_hit': 8, 'tn_hit': 22, 'fn_hit': 1}, 1: {'tp_hit': 14, 'fp_hit': 1, 'tn_hit': 91, 'fn_hit': 2}, 2: {'tp_hit': 8, 'fp_hit': 0, 'tn_hit': 94, 'fn_hit': 6}}}\n"
     ]
    }
   ],
   "source": [
    "# recall phase\n",
    "score = model.evaluate(x_test, y_test, False)\n",
    "print(score)"
   ]
  },
  {
   "cell_type": "code",
   "execution_count": 11,
   "metadata": {},
   "outputs": [
    {
     "data": {
      "image/png": "[encoded data removed]",
      "text/plain": [
       "<Figure size 864x360 with 1 Axes>"
      ]
     },
     "metadata": {
      "needs_background": "light"
     },
     "output_type": "display_data"
    },
    {
     "data": {
      "image/png": "[encoded data removed]",
      "text/plain": [
       "<Figure size 864x360 with 1 Axes>"
      ]
     },
     "metadata": {
      "needs_background": "light"
     },
     "output_type": "display_data"
    }
   ],
   "source": [
    "draw_plot(x = [[i for i in range(len(history))], [(i+1)*breakpoint for i in range(len(checkpoints))]], y_list = [history, [ ckp[model.loss_fn] for ckp in checkpoints ]], x_label = 'Epochs', \\\n",
    "    y_label = model.loss_fn, legend=['train', 'test'])\n",
    "acc = [ ckp['accuracy'] for ckp in checkpoints ]\n",
    "draw_plot(x = [[(i+1)*breakpoint for i in range(len(checkpoints))]], y_list = [acc], x_label = 'Checkpoints', \\\n",
    "    y_label = 'accuracy')"
   ]
  },
  {
   "cell_type": "code",
   "execution_count": 12,
   "metadata": {},
   "outputs": [
    {
     "name": "stdout",
     "output_type": "stream",
     "text": [
      "{'accuracy': 0.8950617283950617, 'mean_square_error': 0.2467813614897666, 'categorical_crossentropy': 0.4429461161295573, 'essential_metrics': {0: {'tp_hit': 77, 'fp_hit': 16, 'tn_hit': 14, 'fn_hit': 1}, 1: {'tp_hit': 11, 'fp_hit': 1, 'tn_hit': 91, 'fn_hit': 5}, 2: {'tp_hit': 3, 'fp_hit': 0, 'tn_hit': 94, 'fn_hit': 11}}, 'checkpoint': 100} \n",
      "\n",
      "\n",
      "{'accuracy': 0.9259259259259259, 'mean_square_error': 0.14903910260779665, 'categorical_crossentropy': 0.2773567835489909, 'essential_metrics': {0: {'tp_hit': 78, 'fp_hit': 12, 'tn_hit': 18, 'fn_hit': 0}, 1: {'tp_hit': 11, 'fp_hit': 0, 'tn_hit': 92, 'fn_hit': 5}, 2: {'tp_hit': 7, 'fp_hit': 0, 'tn_hit': 94, 'fn_hit': 7}}, 'checkpoint': 200} \n",
      "\n",
      "\n",
      "{'accuracy': 0.9259259259259259, 'mean_square_error': 0.14714709121034447, 'categorical_crossentropy': 0.2579616264060692, 'essential_metrics': {0: {'tp_hit': 78, 'fp_hit': 12, 'tn_hit': 18, 'fn_hit': 0}, 1: {'tp_hit': 10, 'fp_hit': 0, 'tn_hit': 92, 'fn_hit': 6}, 2: {'tp_hit': 8, 'fp_hit': 0, 'tn_hit': 94, 'fn_hit': 6}}, 'checkpoint': 300} \n",
      "\n",
      "\n",
      "{'accuracy': 0.9444444444444444, 'mean_square_error': 0.13912265138891172, 'categorical_crossentropy': 0.2720964926260489, 'essential_metrics': {0: {'tp_hit': 77, 'fp_hit': 8, 'tn_hit': 22, 'fn_hit': 1}, 1: {'tp_hit': 14, 'fp_hit': 1, 'tn_hit': 91, 'fn_hit': 2}, 2: {'tp_hit': 8, 'fp_hit': 0, 'tn_hit': 94, 'fn_hit': 6}}, 'checkpoint': 400} \n",
      "\n",
      "\n",
      "{'accuracy': 0.9444444444444444, 'mean_square_error': 0.13515336394613386, 'categorical_crossentropy': 0.25532019579852067, 'essential_metrics': {0: {'tp_hit': 77, 'fp_hit': 8, 'tn_hit': 22, 'fn_hit': 1}, 1: {'tp_hit': 14, 'fp_hit': 1, 'tn_hit': 91, 'fn_hit': 2}, 2: {'tp_hit': 8, 'fp_hit': 0, 'tn_hit': 94, 'fn_hit': 6}}, 'checkpoint': 500} \n",
      "\n",
      "\n"
     ]
    }
   ],
   "source": [
    "for checkpoint in checkpoints:\n",
    "    print(checkpoint, '\\n\\n')"
   ]
  },
  {
   "cell_type": "code",
   "execution_count": 13,
   "metadata": {},
   "outputs": [
    {
     "name": "stdout",
     "output_type": "stream",
     "text": [
      "Layer 1\n",
      "Neuron 0: weights:\n",
      "[ 0.6923798  -1.030002   -0.5525131   0.01735602  0.17324686]\n",
      " bias: 0.17038211226463318\n",
      "\n",
      "Neuron 1: weights:\n",
      "[-0.24303849  1.2752429   0.67526466 -0.01738011 -0.10317896]\n",
      " bias: -0.0346018485724926\n",
      "\n",
      "Neuron 2: weights:\n",
      "[ 0.17074823 -0.7367596  -1.1218603  -1.7980154  -0.761674  ]\n",
      " bias: 0.07186084985733032\n",
      "\n",
      "Neuron 3: weights:\n",
      "[ 0.02944813 -1.6464154   0.0966864   0.19030257  1.1434792 ]\n",
      " bias: -1.1096059083938599\n",
      "\n",
      "$\n",
      "Layer 2\n",
      "Neuron 0: weights:\n",
      "[ 0.19956739 -0.03875121  3.         -2.0057952 ]\n",
      " bias: 0.020443163812160492\n",
      "\n",
      "Neuron 1: weights:\n",
      "[-3.          3.         -0.88489896 -0.48736992]\n",
      " bias: 0.19926884770393372\n",
      "\n",
      "Neuron 2: weights:\n",
      "[ 0.16765617 -1.5949091  -0.9304758   1.9657623 ]\n",
      " bias: -0.4270433485507965\n",
      "\n",
      "$\n",
      "\n"
     ]
    }
   ],
   "source": [
    "print(model)"
   ]
  }
 ],
 "metadata": {
  "kernelspec": {
   "display_name": "Python 3",
   "language": "python",
   "name": "python3"
  },
  "language_info": {
   "codemirror_mode": {
    "name": "ipython",
    "version": 3
   },
   "file_extension": ".py",
   "mimetype": "text/x-python",
   "name": "python",
   "nbconvert_exporter": "python",
   "pygments_lexer": "ipython3",
   "version": "3.6.10"
  }
 },
 "nbformat": 4,
 "nbformat_minor": 2
}
