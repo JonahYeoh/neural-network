{
 "cells": [
  {
   "cell_type": "code",
   "execution_count": 1,
   "metadata": {},
   "outputs": [],
   "source": [
    "# dependency\n",
    "import numpy as np\n",
    "import pandas as pd\n",
    "import copy\n",
    "import math\n",
    "import sys\n",
    "import os\n",
    "from activations import relu, leaky_relu, sigmoid, tanh, softmax, d_sigmoid, d_relu\n",
    "from initializers import glorot_uniform, random_normal, random_uniform\n",
    "from regularizers import l1_regularizer, l2_regularizer\n",
    "from utility import trim_tail, multiply, subtract, get_nparams, one_hot_encoding, get_data\n",
    "from metrics import MSE, CCE, ACC, PRECISION, RECALL, essential_metrics, wondering_penalty, close_gap_penalty\n",
    "from pso import PSO\n",
    "from ga import GA\n",
    "from nn import Network\n",
    "from layer import DenseLayer\n",
    "from scalers import MinMaxScaler, StandardScaler"
   ]
  },
  {
   "cell_type": "code",
   "execution_count": 2,
   "metadata": {},
   "outputs": [],
   "source": [
    "# reference\n",
    "metrics_fn_dict = dict()\n",
    "metrics_fn_dict['accuracy'] = ACC\n",
    "metrics_fn_dict['categorical_crossentropy'] = CCE\n",
    "metrics_fn_dict['mean_square_error'] = MSE\n",
    "metrics_fn_dict['precision'] = PRECISION\n",
    "metrics_fn_dict['recall'] = RECALL\n",
    "metrics_fn_dict['essential_metrics'] = essential_metrics"
   ]
  },
  {
   "cell_type": "code",
   "execution_count": 3,
   "metadata": {},
   "outputs": [],
   "source": [
    "# model\n",
    "model = Network(5, lr = None)\n",
    "model.add_layer(DenseLayer(1, 4, True, afn=sigmoid, dafn=None, rfn=None))\n",
    "model.add_layer(DenseLayer(2, 3, True, afn=softmax, dafn=None, rfn=None))"
   ]
  },
  {
   "cell_type": "code",
   "execution_count": 4,
   "metadata": {},
   "outputs": [
    {
     "name": "stdout",
     "output_type": "stream",
     "text": [
      "see one see two 2.0 0.5\n"
     ]
    }
   ],
   "source": [
    "pso = PSO(dict(m = 200,\n",
    "    weight_constraint = [-3, 3], \n",
    "    velocity_constraint = [-0.1, 0.1],\n",
    "    c1 = [0.5, 2.0],\n",
    "    c2 = [0.5, 2.0],\n",
    "    w = [0.5, 1.6],\n",
    "    w_decay = 0.95,\n",
    "    scale_hyperparameter = False,\n",
    "    regularizer = None,\n",
    "    mask = True))"
   ]
  },
  {
   "cell_type": "code",
   "execution_count": 5,
   "metadata": {},
   "outputs": [
    {
     "name": "stdout",
     "output_type": "stream",
     "text": [
      "building layer 1 with 5\n",
      "24\n",
      "building layer 2 with 4\n",
      "15\n"
     ]
    }
   ],
   "source": [
    "model.compile(loss_fn = 'categorical_crossentropy', optimizer = pso, \\\n",
    "    metrics = ['accuracy', 'mean_square_error', 'categorical_crossentropy'])"
   ]
  },
  {
   "cell_type": "code",
   "execution_count": 6,
   "metadata": {},
   "outputs": [
    {
     "name": "stdout",
     "output_type": "stream",
     "text": [
      "<class 'pandas.core.frame.DataFrame'>\n",
      "RangeIndex: 107 entries, 0 to 106\n",
      "Data columns (total 6 columns):\n",
      " #   Column  Non-Null Count  Dtype  \n",
      "---  ------  --------------  -----  \n",
      " 0   f1      107 non-null    float32\n",
      " 1   f2      107 non-null    float32\n",
      " 2   f3      107 non-null    float32\n",
      " 3   f4      107 non-null    float32\n",
      " 4   f5      107 non-null    float32\n",
      " 5   label   107 non-null    float32\n",
      "dtypes: float32(6)\n",
      "memory usage: 2.6 KB\n",
      "None\n",
      "<class 'pandas.core.frame.DataFrame'>\n",
      "RangeIndex: 108 entries, 0 to 107\n",
      "Data columns (total 6 columns):\n",
      " #   Column  Non-Null Count  Dtype  \n",
      "---  ------  --------------  -----  \n",
      " 0   f1      108 non-null    float32\n",
      " 1   f2      108 non-null    float32\n",
      " 2   f3      108 non-null    float32\n",
      " 3   f4      108 non-null    float32\n",
      " 4   f5      108 non-null    float32\n",
      " 5   label   108 non-null    float32\n",
      "dtypes: float32(6)\n",
      "memory usage: 2.7 KB\n",
      "None\n"
     ]
    }
   ],
   "source": [
    "# data loading\n",
    "DATA = os.path.join('c:\\\\Users\\\\AI-lab\\\\github_repo\\\\neural-network\\\\', 'dataset')\n",
    "GROUP = 4\n",
    "COLUMNS = ['f1', 'f2', 'f3', 'f4', 'f5', 'label']\n",
    "N_CLASS = 3\n",
    "EPOCHS = 200\n",
    "train_dir, test_dir = \"..//dataset//training_data{}.txt\".format(GROUP), \"..//dataset//testing_data{}.txt\".format(GROUP)\n",
    "train, test = get_data(DATA, train_dir, COLUMNS), get_data(DATA, test_dir, COLUMNS)\n",
    "# shuffle\n",
    "train, test = train.sample(frac=1), test.sample(frac=1)\n",
    "x_train, y_train = train.drop('label', axis=1), train['label']\n",
    "x_test, y_test = test.drop('label', axis=1), test['label']"
   ]
  },
  {
   "cell_type": "code",
   "execution_count": 7,
   "metadata": {},
   "outputs": [],
   "source": [
    "# data scaling and encoding\n",
    "scaler = StandardScaler(['f1', 'f2', 'f3', 'f4', 'f5'])\n",
    "scaler.fit(x_train)\n",
    "x_train = scaler.transform(x_train)\n",
    "x_test = scaler.transform(x_test)\n",
    "y_train = one_hot_encoding(y_train, N_CLASS)\n",
    "y_test = one_hot_encoding(y_test, N_CLASS)"
   ]
  },
  {
   "cell_type": "code",
   "execution_count": 8,
   "metadata": {
    "tags": [
     "outputPrepend"
    ]
   },
   "outputs": [
    {
     "name": "stdout",
     "output_type": "stream",
     "text": [
      "Checkpoint 10, Accuracy: 0.8580246913580247, Loss: 0.5684146174678096\n",
      "Checkpoint 20, Accuracy: 0.9320987654320988, Loss: 0.40629249148898655\n",
      "Checkpoint 30, Accuracy: 0.9012345679012346, Loss: 0.4192594598840784\n",
      "Checkpoint 40, Accuracy: 0.9197530864197531, Loss: 0.3911466598510742\n",
      "Checkpoint 50, Accuracy: 0.9382716049382716, Loss: 0.2848505973815918\n",
      "Checkpoint 60, Accuracy: 0.9197530864197531, Loss: 0.290302453217683\n",
      "Checkpoint 70, Accuracy: 0.9382716049382716, Loss: 0.27193194848519786\n",
      "Checkpoint 80, Accuracy: 0.9629629629629629, Loss: 0.2224623715436017\n",
      "Checkpoint 90, Accuracy: 0.9629629629629629, Loss: 0.19426580711647315\n",
      "Checkpoint 100, Accuracy: 0.9753086419753086, Loss: 0.17260076381542064\n",
      "Checkpoint 110, Accuracy: 0.9629629629629629, Loss: 0.1626742680867513\n",
      "Checkpoint 120, Accuracy: 0.9691358024691358, Loss: 0.13861721533316154\n",
      "Checkpoint 130, Accuracy: 0.9753086419753086, Loss: 0.1247018266607214\n",
      "Checkpoint 140, Accuracy: 0.9691358024691358, Loss: 0.13581314793339483\n",
      "Checkpoint 150, Accuracy: 0.9567901234567902, Loss: 0.14091473155551487\n",
      "Checkpoint 160, Accuracy: 0.9567901234567902, Loss: 0.15372484701651115\n",
      "Checkpoint 170, Accuracy: 0.9444444444444444, Loss: 0.16726922988891602\n",
      "Checkpoint 180, Accuracy: 0.9382716049382716, Loss: 0.17347542444864908\n",
      "Checkpoint 190, Accuracy: 0.9320987654320988, Loss: 0.1842154926723904\n",
      "Checkpoint 200, Accuracy: 0.9567901234567902, Loss: 0.15202873724478264\n"
     ]
    }
   ],
   "source": [
    "# learning phase\n",
    "breakpoint = 10\n",
    "checkpoints = list()\n",
    "history = list()\n",
    "for century in range(0, EPOCHS, breakpoint):\n",
    "    sub_history = model.fit(x_train, y_train, breakpoint, verbose = 0)\n",
    "    score = model.evaluate(x_test, y_test, False, verbose = 0)\n",
    "    print('Checkpoint {}, Accuracy: {}, Loss: {}'.format(century+breakpoint, score['accuracy'], score[model.loss_fn]))\n",
    "    score['checkpoint'] = century + breakpoint\n",
    "    checkpoints.append(score)\n",
    "    history.extend(sub_history)\n",
    "    itr = century + breakpoint\n",
    "    model.optimizer.c1 = np.max([model.optimizer.C1[1] - ((model.optimizer.C1[1] - model.optimizer.C1[0]) * itr / EPOCHS), model.optimizer.C1[0]])\n",
    "    model.optimizer.c2 = np.min([model.optimizer.C2[0] + ((model.optimizer.C2[1] - model.optimizer.C2[0]) * itr / EPOCHS), model.optimizer.C2[1]])\n",
    "    model.optimizer.w = np.max([model.optimizer.w * model.optimizer.W_Decay, model.optimizer.W[0]])"
   ]
  },
  {
   "cell_type": "code",
   "execution_count": 9,
   "metadata": {},
   "outputs": [],
   "source": [
    "import matplotlib.pyplot as plt\n",
    "\n",
    "def draw_plot(x, y_list, x_label=None, y_label=None, legend=None, title=None):\n",
    "    fig, ax = plt.subplots(figsize=(12,5))\n",
    "    for xi, yi in zip(x, y_list):\n",
    "        ax.plot(xi, yi)\n",
    "    if x_label is not None and y_label is not None:\n",
    "        ax.set(xlabel=x_label, ylabel=y_label, title='{} VS {}'.format(x_label, y_label))\n",
    "    if legend is not None:\n",
    "        ax.legend(legend)\n",
    "    ax.grid()\n",
    "    plt.show()"
   ]
  },
  {
   "cell_type": "code",
   "execution_count": 10,
   "metadata": {},
   "outputs": [
    {
     "name": "stdout",
     "output_type": "stream",
     "text": [
      "[0. 1. 0.] <-> [3.6624461e-01 6.3348335e-01 2.7203871e-04]\n",
      "[0. 1. 0.] <-> [1.2745319e-03 9.9867165e-01 5.3844804e-05]\n",
      "[0. 1. 0.] <-> [8.9912377e-03 9.9098879e-01 2.0007517e-05]\n",
      "[1. 0. 0.] <-> [0.66701216 0.33173576 0.00125201]\n",
      "[1. 0. 0.] <-> [0.99634403 0.00223672 0.00141922]\n",
      "[1. 0. 0.] <-> [0.99357504 0.00215264 0.00427236]\n",
      "[1. 0. 0.] <-> [0.9400963  0.0399541  0.01994964]\n",
      "[0. 1. 0.] <-> [1.0817524e-02 9.8916441e-01 1.8035060e-05]\n",
      "[1. 0. 0.] <-> [0.9950399  0.00232578 0.00263439]\n",
      "[1. 0. 0.] <-> [0.98804665 0.00941994 0.00253343]\n",
      "[1. 0. 0.] <-> [0.99534744 0.00260155 0.00205109]\n",
      "[1. 0. 0.] <-> [0.99696916 0.00136422 0.00166666]\n",
      "[1. 0. 0.] <-> [0.99515164 0.00104383 0.00380454]\n",
      "[1. 0. 0.] <-> [0.99361306 0.00376764 0.00261941]\n",
      "[1. 0. 0.] <-> [3.8296121e-01 6.1673445e-01 3.0427132e-04]\n",
      "[1. 0. 0.] <-> [0.9919081  0.00343335 0.00465857]\n",
      "[0. 0. 1.] <-> [4.4781482e-03 1.9445067e-04 9.9532735e-01]\n",
      "[1. 0. 0.] <-> [0.98858136 0.0046861  0.00673257]\n",
      "[1. 0. 0.] <-> [1.8853728e-01 8.1126672e-01 1.9606373e-04]\n",
      "[1. 0. 0.] <-> [0.9942227  0.00110745 0.00466977]\n",
      "[1. 0. 0.] <-> [0.9934029  0.00193128 0.00466589]\n",
      "[0. 0. 1.] <-> [0.09982215 0.00126276 0.89891505]\n",
      "[0. 0. 1.] <-> [2.7446024e-02 5.4243871e-04 9.7201151e-01]\n",
      "[1. 0. 0.] <-> [0.7077036  0.00739005 0.2849064 ]\n",
      "[1. 0. 0.] <-> [0.9947732  0.00205519 0.00317161]\n",
      "[1. 0. 0.] <-> [0.68582964 0.28966886 0.02450148]\n",
      "[0. 1. 0.] <-> [1.9299768e-02 9.8068696e-01 1.3169295e-05]\n",
      "[0. 0. 1.] <-> [1.2716082e-02 3.6045458e-04 9.8692352e-01]\n",
      "[1. 0. 0.] <-> [0.9903604  0.00145134 0.00818825]\n",
      "[1. 0. 0.] <-> [0.99608    0.00182867 0.00209145]\n",
      "[0. 0. 1.] <-> [5.3289472e-03 2.1047368e-04 9.9446058e-01]\n",
      "[0. 0. 1.] <-> [4.8903129e-03 2.0979195e-04 9.9489993e-01]\n",
      "[1. 0. 0.] <-> [0.99589217 0.00237271 0.00173503]\n",
      "[0. 1. 0.] <-> [5.0796829e-02 9.4917423e-01 2.8975517e-05]\n",
      "[0. 1. 0.] <-> [4.9475793e-02 9.5049089e-01 3.3344466e-05]\n",
      "[0. 0. 1.] <-> [4.5768213e-03 2.1995690e-04 9.9520326e-01]\n",
      "[1. 0. 0.] <-> [0.9959771  0.00210718 0.00191575]\n",
      "[1. 0. 0.] <-> [0.98303246 0.00814494 0.00882263]\n",
      "[1. 0. 0.] <-> [0.99040073 0.00587367 0.00372552]\n",
      "[1. 0. 0.] <-> [0.9957497  0.00266695 0.00158339]\n",
      "[1. 0. 0.] <-> [0.9891828  0.00233588 0.00848142]\n",
      "[1. 0. 0.] <-> [0.99347323 0.00237499 0.00415175]\n",
      "[0. 0. 1.] <-> [0.8006427  0.00332492 0.19603238]\n",
      "[1. 0. 0.] <-> [0.9506566  0.04779024 0.00155315]\n",
      "[0. 1. 0.] <-> [1.2978780e-01 8.7012446e-01 8.7766501e-05]\n",
      "[1. 0. 0.] <-> [0.9935277  0.00467191 0.00180041]\n",
      "[1. 0. 0.] <-> [0.97838736 0.0201962  0.00141655]\n",
      "[1. 0. 0.] <-> [0.99408275 0.00322649 0.00269081]\n",
      "[1. 0. 0.] <-> [0.9934881  0.00145678 0.00505521]\n",
      "[0. 1. 0.] <-> [6.4449109e-02 9.3551022e-01 4.0714578e-05]\n",
      "[1. 0. 0.] <-> [0.9964181  0.00144994 0.00213196]\n",
      "[0. 0. 1.] <-> [0.38957518 0.00130205 0.60912275]\n",
      "[0. 1. 0.] <-> [1.2263724e-03 9.9871874e-01 5.4914311e-05]\n",
      "[1. 0. 0.] <-> [0.9967277  0.00122262 0.00204958]\n",
      "[1. 0. 0.] <-> [0.9937044  0.00506341 0.00123226]\n",
      "[1. 0. 0.] <-> [0.988494   0.00140809 0.01009796]\n",
      "[1. 0. 0.] <-> [0.9953252  0.00276142 0.00191336]\n",
      "[1. 0. 0.] <-> [0.960764   0.03797387 0.00126211]\n",
      "[0. 0. 1.] <-> [9.6129915e-03 2.9524305e-04 9.9009180e-01]\n",
      "[1. 0. 0.] <-> [0.9946913  0.0011964  0.00411223]\n",
      "[1. 0. 0.] <-> [0.9938361  0.00470355 0.00146036]\n",
      "[1. 0. 0.] <-> [0.92041755 0.00766107 0.07192142]\n",
      "[1. 0. 0.] <-> [0.0695153  0.00210737 0.92837733]\n",
      "[1. 0. 0.] <-> [0.98119354 0.01652465 0.00228181]\n",
      "[1. 0. 0.] <-> [0.9958061  0.00247778 0.00171608]\n",
      "[1. 0. 0.] <-> [0.9871683  0.00118931 0.0116424 ]\n",
      "[1. 0. 0.] <-> [0.4753574  0.00878511 0.51585746]\n",
      "[1. 0. 0.] <-> [0.981989   0.01621542 0.00179555]\n",
      "[1. 0. 0.] <-> [0.9963084  0.00126299 0.00242857]\n",
      "[1. 0. 0.] <-> [0.97144383 0.01102457 0.01753158]\n",
      "[0. 1. 0.] <-> [4.7204481e-03 9.9525201e-01 2.7542792e-05]\n",
      "[1. 0. 0.] <-> [0.9967258  0.00184416 0.00143003]\n",
      "[1. 0. 0.] <-> [0.96473455 0.00167541 0.03359012]\n",
      "[1. 0. 0.] <-> [0.9945633  0.00248464 0.00295202]\n",
      "[1. 0. 0.] <-> [0.9966408  0.00114377 0.00221541]\n",
      "[1. 0. 0.] <-> [0.99671906 0.00106371 0.00221722]\n",
      "[1. 0. 0.] <-> [0.40103534 0.59798735 0.00097724]\n",
      "[1. 0. 0.] <-> [0.9919586  0.00624334 0.0017981 ]\n",
      "[0. 1. 0.] <-> [6.4550731e-03 9.9352151e-01 2.3456441e-05]\n",
      "[1. 0. 0.] <-> [0.99232    0.00243498 0.00524498]\n",
      "[1. 0. 0.] <-> [0.99495256 0.00358344 0.00146401]\n",
      "[0. 0. 1.] <-> [0.947678   0.00123232 0.05108969]\n",
      "[1. 0. 0.] <-> [0.7589017  0.24026701 0.00083129]\n",
      "[0. 1. 0.] <-> [3.2130864e-02 9.6782434e-01 4.4792196e-05]\n",
      "[1. 0. 0.] <-> [0.9961028  0.00159244 0.00230466]\n",
      "[1. 0. 0.] <-> [0.9634811  0.03478217 0.00173678]\n",
      "[0. 1. 0.] <-> [1.0002092e-02 9.8997927e-01 1.8654557e-05]\n",
      "[1. 0. 0.] <-> [0.9935601  0.00113761 0.00530228]\n",
      "[1. 0. 0.] <-> [0.9463318  0.00576932 0.04789893]\n",
      "[1. 0. 0.] <-> [0.9807169  0.00420715 0.01507593]\n",
      "[1. 0. 0.] <-> [0.99675554 0.00153948 0.00170496]\n",
      "[1. 0. 0.] <-> [0.95874244 0.0044797  0.03677778]\n",
      "[1. 0. 0.] <-> [0.99537116 0.00266391 0.00196492]\n",
      "[1. 0. 0.] <-> [0.98804736 0.00831306 0.00363951]\n",
      "[1. 0. 0.] <-> [0.5678445  0.4311278  0.00102767]\n",
      "[0. 0. 1.] <-> [1.2694359e-02 3.9887166e-04 9.8690677e-01]\n",
      "[0. 1. 0.] <-> [1.4098521e-02 9.8588181e-01 1.9674206e-05]\n",
      "[1. 0. 0.] <-> [0.9964619  0.00128676 0.00225135]\n",
      "[0. 0. 1.] <-> [5.1875701e-03 4.3942421e-04 9.9437296e-01]\n",
      "[1. 0. 0.] <-> [0.9944548  0.00145601 0.00408921]\n",
      "[0. 0. 1.] <-> [1.0041654e-02 3.5638732e-04 9.8960191e-01]\n",
      "[1. 0. 0.] <-> [0.99612576 0.00132479 0.00254953]\n",
      "[1. 0. 0.] <-> [0.9935917  0.00479387 0.00161441]\n",
      "[1. 0. 0.] <-> [0.99650794 0.00110404 0.002388  ]\n",
      "[1. 0. 0.] <-> [0.9958252  0.0014707  0.00270416]\n",
      "[1. 0. 0.] <-> [0.9968714  0.00114347 0.00198511]\n",
      "[0. 1. 0.] <-> [3.3731717e-01 6.6245246e-01 2.3037933e-04]\n",
      "[1. 0. 0.] <-> [9.425290e-01 5.656513e-02 9.057925e-04]\n",
      "{'accuracy': 0.9567901234567902, 'mean_square_error': 0.09389599365684392, 'categorical_crossentropy': 0.15202873724478264, 'essential_metrics': {0: {'tp_hit': 73, 'fp_hit': 2, 'tn_hit': 28, 'fn_hit': 5}, 1: {'tp_hit': 16, 'fp_hit': 3, 'tn_hit': 89, 'fn_hit': 0}, 2: {'tp_hit': 12, 'fp_hit': 2, 'tn_hit': 92, 'fn_hit': 2}}}\n"
     ]
    }
   ],
   "source": [
    "# recall phase\n",
    "score = model.evaluate(x_test, y_test, False)\n",
    "print(score)"
   ]
  },
  {
   "cell_type": "code",
   "execution_count": 11,
   "metadata": {},
   "outputs": [],
   "source": [
    "train_acc = [h['accuracy'] for h in history]\n",
    "train_mse = [h['mean_square_error'] for h in history]\n",
    "train_cce = [h['categorical_crossentropy'] for h in history]"
   ]
  },
  {
   "cell_type": "code",
   "execution_count": 12,
   "metadata": {},
   "outputs": [
    {
     "data": {
      "image/png": "[encoded data removed]",
      "text/plain": [
       "<Figure size 864x360 with 1 Axes>"
      ]
     },
     "metadata": {
      "needs_background": "light"
     },
     "output_type": "display_data"
    },
    {
     "data": {
      "image/png": "[encoded data removed]",
      "text/plain": [
       "<Figure size 864x360 with 1 Axes>"
      ]
     },
     "metadata": {
      "needs_background": "light"
     },
     "output_type": "display_data"
    }
   ],
   "source": [
    "draw_plot(x = [[i for i in range(len(history))], [(i+1)*breakpoint for i in range(len(checkpoints))]], y_list = [train_cce, [ ckp[model.loss_fn] for ckp in checkpoints ]], x_label = 'Epochs', \\\n",
    "    y_label = model.loss_fn, legend=['train', 'test'])\n",
    "acc = [ ckp['accuracy'] for ckp in checkpoints ]\n",
    "draw_plot(x = [[i for i in range(len(history))], [(i+1)*breakpoint for i in range(len(checkpoints))]], y_list = [train_acc, acc], x_label = 'Checkpoints', \\\n",
    "    y_label = 'accuracy', legend=['train', 'test'])"
   ]
  },
  {
   "cell_type": "code",
   "execution_count": 13,
   "metadata": {},
   "outputs": [
    {
     "name": "stdout",
     "output_type": "stream",
     "text": [
      "{'accuracy': 0.8580246913580247, 'mean_square_error': 0.3079524828293775, 'categorical_crossentropy': 0.5684146174678096, 'essential_metrics': {0: {'tp_hit': 78, 'fp_hit': 17, 'tn_hit': 13, 'fn_hit': 0}, 1: {'tp_hit': 2, 'fp_hit': 0, 'tn_hit': 92, 'fn_hit': 14}, 2: {'tp_hit': 5, 'fp_hit': 6, 'tn_hit': 88, 'fn_hit': 9}}, 'checkpoint': 10} \n",
      "\n",
      "\n",
      "{'accuracy': 0.9320987654320988, 'mean_square_error': 0.1992574864026174, 'categorical_crossentropy': 0.40629249148898655, 'essential_metrics': {0: {'tp_hit': 74, 'fp_hit': 6, 'tn_hit': 24, 'fn_hit': 4}, 1: {'tp_hit': 13, 'fp_hit': 4, 'tn_hit': 88, 'fn_hit': 3}, 2: {'tp_hit': 10, 'fp_hit': 1, 'tn_hit': 93, 'fn_hit': 4}}, 'checkpoint': 20} \n",
      "\n",
      "\n",
      "{'accuracy': 0.9012345679012346, 'mean_square_error': 0.22664794179290626, 'categorical_crossentropy': 0.4192594598840784, 'essential_metrics': {0: {'tp_hit': 76, 'fp_hit': 14, 'tn_hit': 16, 'fn_hit': 2}, 1: {'tp_hit': 12, 'fp_hit': 2, 'tn_hit': 90, 'fn_hit': 4}, 2: {'tp_hit': 4, 'fp_hit': 0, 'tn_hit': 94, 'fn_hit': 10}}, 'checkpoint': 30} \n",
      "\n",
      "\n",
      "{'accuracy': 0.9197530864197531, 'mean_square_error': 0.2081076350125159, 'categorical_crossentropy': 0.3911466598510742, 'essential_metrics': {0: {'tp_hit': 75, 'fp_hit': 10, 'tn_hit': 20, 'fn_hit': 3}, 1: {'tp_hit': 14, 'fp_hit': 3, 'tn_hit': 89, 'fn_hit': 2}, 2: {'tp_hit': 6, 'fp_hit': 0, 'tn_hit': 94, 'fn_hit': 8}}, 'checkpoint': 40} \n",
      "\n",
      "\n",
      "{'accuracy': 0.9382716049382716, 'mean_square_error': 0.14064487475436352, 'categorical_crossentropy': 0.2848505973815918, 'essential_metrics': {0: {'tp_hit': 76, 'fp_hit': 8, 'tn_hit': 22, 'fn_hit': 2}, 1: {'tp_hit': 14, 'fp_hit': 1, 'tn_hit': 91, 'fn_hit': 2}, 2: {'tp_hit': 8, 'fp_hit': 1, 'tn_hit': 93, 'fn_hit': 6}}, 'checkpoint': 50} \n",
      "\n",
      "\n",
      "{'accuracy': 0.9197530864197531, 'mean_square_error': 0.1600457851429399, 'categorical_crossentropy': 0.290302453217683, 'essential_metrics': {0: {'tp_hit': 77, 'fp_hit': 12, 'tn_hit': 18, 'fn_hit': 1}, 1: {'tp_hit': 10, 'fp_hit': 0, 'tn_hit': 92, 'fn_hit': 6}, 2: {'tp_hit': 8, 'fp_hit': 1, 'tn_hit': 93, 'fn_hit': 6}}, 'checkpoint': 60} \n",
      "\n",
      "\n",
      "{'accuracy': 0.9382716049382716, 'mean_square_error': 0.14455073502055846, 'categorical_crossentropy': 0.27193194848519786, 'essential_metrics': {0: {'tp_hit': 77, 'fp_hit': 9, 'tn_hit': 21, 'fn_hit': 1}, 1: {'tp_hit': 13, 'fp_hit': 0, 'tn_hit': 92, 'fn_hit': 3}, 2: {'tp_hit': 8, 'fp_hit': 1, 'tn_hit': 93, 'fn_hit': 6}}, 'checkpoint': 70} \n",
      "\n",
      "\n",
      "{'accuracy': 0.9629629629629629, 'mean_square_error': 0.11556184376932241, 'categorical_crossentropy': 0.2224623715436017, 'essential_metrics': {0: {'tp_hit': 78, 'fp_hit': 6, 'tn_hit': 24, 'fn_hit': 0}, 1: {'tp_hit': 14, 'fp_hit': 0, 'tn_hit': 92, 'fn_hit': 2}, 2: {'tp_hit': 10, 'fp_hit': 0, 'tn_hit': 94, 'fn_hit': 4}}, 'checkpoint': 80} \n",
      "\n",
      "\n",
      "{'accuracy': 0.9629629629629629, 'mean_square_error': 0.09872594168984879, 'categorical_crossentropy': 0.19426580711647315, 'essential_metrics': {0: {'tp_hit': 77, 'fp_hit': 5, 'tn_hit': 25, 'fn_hit': 1}, 1: {'tp_hit': 15, 'fp_hit': 1, 'tn_hit': 91, 'fn_hit': 1}, 2: {'tp_hit': 10, 'fp_hit': 0, 'tn_hit': 94, 'fn_hit': 4}}, 'checkpoint': 90} \n",
      "\n",
      "\n",
      "{'accuracy': 0.9753086419753086, 'mean_square_error': 0.07680772549870243, 'categorical_crossentropy': 0.17260076381542064, 'essential_metrics': {0: {'tp_hit': 76, 'fp_hit': 2, 'tn_hit': 28, 'fn_hit': 2}, 1: {'tp_hit': 16, 'fp_hit': 1, 'tn_hit': 91, 'fn_hit': 0}, 2: {'tp_hit': 12, 'fp_hit': 1, 'tn_hit': 93, 'fn_hit': 2}}, 'checkpoint': 100} \n",
      "\n",
      "\n",
      "{'accuracy': 0.9629629629629629, 'mean_square_error': 0.0790878537705873, 'categorical_crossentropy': 0.1626742680867513, 'essential_metrics': {0: {'tp_hit': 75, 'fp_hit': 3, 'tn_hit': 27, 'fn_hit': 3}, 1: {'tp_hit': 16, 'fp_hit': 2, 'tn_hit': 90, 'fn_hit': 0}, 2: {'tp_hit': 11, 'fp_hit': 1, 'tn_hit': 93, 'fn_hit': 3}}, 'checkpoint': 110} \n",
      "\n",
      "\n",
      "{'accuracy': 0.9691358024691358, 'mean_square_error': 0.06793704925102396, 'categorical_crossentropy': 0.13861721533316154, 'essential_metrics': {0: {'tp_hit': 76, 'fp_hit': 3, 'tn_hit': 27, 'fn_hit': 2}, 1: {'tp_hit': 15, 'fp_hit': 1, 'tn_hit': 91, 'fn_hit': 1}, 2: {'tp_hit': 12, 'fp_hit': 1, 'tn_hit': 93, 'fn_hit': 2}}, 'checkpoint': 120} \n",
      "\n",
      "\n",
      "{'accuracy': 0.9753086419753086, 'mean_square_error': 0.06269121228688343, 'categorical_crossentropy': 0.1247018266607214, 'essential_metrics': {0: {'tp_hit': 76, 'fp_hit': 2, 'tn_hit': 28, 'fn_hit': 2}, 1: {'tp_hit': 16, 'fp_hit': 1, 'tn_hit': 91, 'fn_hit': 0}, 2: {'tp_hit': 12, 'fp_hit': 1, 'tn_hit': 93, 'fn_hit': 2}}, 'checkpoint': 130} \n",
      "\n",
      "\n",
      "{'accuracy': 0.9691358024691358, 'mean_square_error': 0.07593880200783644, 'categorical_crossentropy': 0.13581314793339483, 'essential_metrics': {0: {'tp_hit': 75, 'fp_hit': 2, 'tn_hit': 28, 'fn_hit': 3}, 1: {'tp_hit': 16, 'fp_hit': 2, 'tn_hit': 90, 'fn_hit': 0}, 2: {'tp_hit': 12, 'fp_hit': 1, 'tn_hit': 93, 'fn_hit': 2}}, 'checkpoint': 140} \n",
      "\n",
      "\n",
      "{'accuracy': 0.9567901234567902, 'mean_square_error': 0.08238398931755475, 'categorical_crossentropy': 0.14091473155551487, 'essential_metrics': {0: {'tp_hit': 74, 'fp_hit': 3, 'tn_hit': 27, 'fn_hit': 4}, 1: {'tp_hit': 16, 'fp_hit': 3, 'tn_hit': 89, 'fn_hit': 0}, 2: {'tp_hit': 11, 'fp_hit': 1, 'tn_hit': 93, 'fn_hit': 3}}, 'checkpoint': 150} \n",
      "\n",
      "\n",
      "{'accuracy': 0.9567901234567902, 'mean_square_error': 0.09419614175258947, 'categorical_crossentropy': 0.15372484701651115, 'essential_metrics': {0: {'tp_hit': 74, 'fp_hit': 3, 'tn_hit': 27, 'fn_hit': 4}, 1: {'tp_hit': 16, 'fp_hit': 3, 'tn_hit': 89, 'fn_hit': 0}, 2: {'tp_hit': 11, 'fp_hit': 1, 'tn_hit': 93, 'fn_hit': 3}}, 'checkpoint': 160} \n",
      "\n",
      "\n",
      "{'accuracy': 0.9444444444444444, 'mean_square_error': 0.10523466131303894, 'categorical_crossentropy': 0.16726922988891602, 'essential_metrics': {0: {'tp_hit': 72, 'fp_hit': 3, 'tn_hit': 27, 'fn_hit': 6}, 1: {'tp_hit': 16, 'fp_hit': 4, 'tn_hit': 88, 'fn_hit': 0}, 2: {'tp_hit': 11, 'fp_hit': 2, 'tn_hit': 92, 'fn_hit': 3}}, 'checkpoint': 170} \n",
      "\n",
      "\n",
      "{'accuracy': 0.9382716049382716, 'mean_square_error': 0.11105774347047544, 'categorical_crossentropy': 0.17347542444864908, 'essential_metrics': {0: {'tp_hit': 72, 'fp_hit': 4, 'tn_hit': 26, 'fn_hit': 6}, 1: {'tp_hit': 15, 'fp_hit': 4, 'tn_hit': 88, 'fn_hit': 1}, 2: {'tp_hit': 11, 'fp_hit': 2, 'tn_hit': 92, 'fn_hit': 3}}, 'checkpoint': 180} \n",
      "\n",
      "\n",
      "{'accuracy': 0.9320987654320988, 'mean_square_error': 0.11892857656329993, 'categorical_crossentropy': 0.1842154926723904, 'essential_metrics': {0: {'tp_hit': 71, 'fp_hit': 4, 'tn_hit': 26, 'fn_hit': 7}, 1: {'tp_hit': 15, 'fp_hit': 5, 'tn_hit': 87, 'fn_hit': 1}, 2: {'tp_hit': 11, 'fp_hit': 2, 'tn_hit': 92, 'fn_hit': 3}}, 'checkpoint': 190} \n",
      "\n",
      "\n",
      "{'accuracy': 0.9567901234567902, 'mean_square_error': 0.09389599365684392, 'categorical_crossentropy': 0.15202873724478264, 'essential_metrics': {0: {'tp_hit': 73, 'fp_hit': 2, 'tn_hit': 28, 'fn_hit': 5}, 1: {'tp_hit': 16, 'fp_hit': 3, 'tn_hit': 89, 'fn_hit': 0}, 2: {'tp_hit': 12, 'fp_hit': 2, 'tn_hit': 92, 'fn_hit': 2}}, 'checkpoint': 200} \n",
      "\n",
      "\n"
     ]
    }
   ],
   "source": [
    "for checkpoint in checkpoints:\n",
    "    print(checkpoint, '\\n\\n')"
   ]
  },
  {
   "cell_type": "code",
   "execution_count": 14,
   "metadata": {},
   "outputs": [
    {
     "name": "stdout",
     "output_type": "stream",
     "text": [
      "Layer 1\n",
      "Neuron 0: weights:\n",
      "[-1.3961018   2.430519    3.          0.08112637  0.4741967 ]\n",
      " bias: -1.0415276288986206\n",
      "\n",
      "Neuron 1: weights:\n",
      "[ 0.09151734 -3.         -0.3076037   0.5499427   3.        ]\n",
      " bias: -3.0\n",
      "\n",
      "Neuron 2: weights:\n",
      "[ 0.3800778  1.370679  -1.8814656 -2.7159457 -2.835778 ]\n",
      " bias: 0.436615526676178\n",
      "\n",
      "Neuron 3: weights:\n",
      "[-2.255084   3.         3.         0.8293646 -2.060702 ]\n",
      " bias: -3.0\n",
      "\n",
      "$\n",
      "Layer 2\n",
      "Neuron 0: weights:\n",
      "[-1.909523 -3.        3.       -3.      ]\n",
      " bias: 1.6564557552337646\n",
      "\n",
      "Neuron 1: weights:\n",
      "[ 3.        -3.        -0.9784711  3.       ]\n",
      " bias: -1.4810688495635986\n",
      "\n",
      "Neuron 2: weights:\n",
      "[-3.         3.        -3.        -2.8071747]\n",
      " bias: 1.061098575592041\n",
      "\n",
      "$\n",
      "\n"
     ]
    }
   ],
   "source": [
    "print(model)"
   ]
  },
  {
   "cell_type": "code",
   "execution_count": null,
   "metadata": {},
   "outputs": [],
   "source": []
  }
 ],
 "metadata": {
  "kernelspec": {
   "display_name": "Python 3",
   "language": "python",
   "name": "python3"
  },
  "language_info": {
   "codemirror_mode": {
    "name": "ipython",
    "version": 3
   },
   "file_extension": ".py",
   "mimetype": "text/x-python",
   "name": "python",
   "nbconvert_exporter": "python",
   "pygments_lexer": "ipython3",
   "version": "3.6.12"
  }
 },
 "nbformat": 4,
 "nbformat_minor": 2
}
