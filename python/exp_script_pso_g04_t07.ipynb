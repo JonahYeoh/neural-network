{
 "cells": [
  {
   "cell_type": "code",
   "execution_count": 1,
   "metadata": {},
   "outputs": [],
   "source": [
    "# dependency\n",
    "import numpy as np\n",
    "import pandas as pd\n",
    "import copy\n",
    "import math\n",
    "import sys\n",
    "import os\n",
    "from activations import relu, leaky_relu, sigmoid, tanh, softmax, d_sigmoid, d_relu\n",
    "from initializers import glorot_uniform, random_normal, random_uniform\n",
    "from regularizers import l1_regularizer, l2_regularizer\n",
    "from utility import trim_tail, multiply, subtract, get_nparams, one_hot_encoding, get_data\n",
    "from metrics import MSE, CCE, ACC, PRECISION, RECALL, essential_metrics, wondering_penalty, close_gap_penalty\n",
    "from pso import PSO\n",
    "from ga import GA\n",
    "from nn import Network\n",
    "from layer import DenseLayer\n",
    "from scalers import MinMaxScaler, StandardScaler"
   ]
  },
  {
   "cell_type": "code",
   "execution_count": 2,
   "metadata": {},
   "outputs": [],
   "source": [
    "# reference\n",
    "metrics_fn_dict = dict()\n",
    "metrics_fn_dict['accuracy'] = ACC\n",
    "metrics_fn_dict['categorical_crossentropy'] = CCE\n",
    "metrics_fn_dict['mean_square_error'] = MSE\n",
    "metrics_fn_dict['precision'] = PRECISION\n",
    "metrics_fn_dict['recall'] = RECALL\n",
    "metrics_fn_dict['essential_metrics'] = essential_metrics"
   ]
  },
  {
   "cell_type": "code",
   "execution_count": 3,
   "metadata": {},
   "outputs": [],
   "source": [
    "# model\n",
    "model = Network(5, lr = None)\n",
    "model.add_layer(DenseLayer(1, 4, True, afn=sigmoid, dafn=None, rfn=None))\n",
    "model.add_layer(DenseLayer(2, 3, True, afn=softmax, dafn=None, rfn=None))"
   ]
  },
  {
   "cell_type": "code",
   "execution_count": 4,
   "metadata": {},
   "outputs": [
    {
     "name": "stdout",
     "output_type": "stream",
     "text": [
      "see one see two 2 0.5\n"
     ]
    }
   ],
   "source": [
    "pso = PSO(dict(m = 50,\n",
    "    weight_constraint = [-3, 3], \n",
    "    velocity_constraint = [-0.1, 0.1],\n",
    "    c1 = [0.5, 2],\n",
    "    c2 = [0.5, 2],\n",
    "    w = [0.5, 1.6],\n",
    "    w_decay = 0.95,\n",
    "    scale_hyperparameter = False,\n",
    "    regularizer = l1_regularizer,\n",
    "    mask = True))"
   ]
  },
  {
   "cell_type": "code",
   "execution_count": 5,
   "metadata": {},
   "outputs": [
    {
     "name": "stdout",
     "output_type": "stream",
     "text": [
      "building layer 1 with 5\n",
      "24\n",
      "building layer 2 with 4\n",
      "15\n"
     ]
    }
   ],
   "source": [
    "model.compile(loss_fn = 'categorical_crossentropy', optimizer = pso, \\\n",
    "    metrics = ['accuracy', 'mean_square_error', 'categorical_crossentropy'])"
   ]
  },
  {
   "cell_type": "code",
   "execution_count": 6,
   "metadata": {},
   "outputs": [
    {
     "name": "stdout",
     "output_type": "stream",
     "text": [
      "<class 'pandas.core.frame.DataFrame'>\n",
      "RangeIndex: 107 entries, 0 to 106\n",
      "Data columns (total 6 columns):\n",
      " #   Column  Non-Null Count  Dtype  \n",
      "---  ------  --------------  -----  \n",
      " 0   f1      107 non-null    float32\n",
      " 1   f2      107 non-null    float32\n",
      " 2   f3      107 non-null    float32\n",
      " 3   f4      107 non-null    float32\n",
      " 4   f5      107 non-null    float32\n",
      " 5   label   107 non-null    float32\n",
      "dtypes: float32(6)\n",
      "memory usage: 2.6 KB\n",
      "None\n",
      "<class 'pandas.core.frame.DataFrame'>\n",
      "RangeIndex: 108 entries, 0 to 107\n",
      "Data columns (total 6 columns):\n",
      " #   Column  Non-Null Count  Dtype  \n",
      "---  ------  --------------  -----  \n",
      " 0   f1      108 non-null    float32\n",
      " 1   f2      108 non-null    float32\n",
      " 2   f3      108 non-null    float32\n",
      " 3   f4      108 non-null    float32\n",
      " 4   f5      108 non-null    float32\n",
      " 5   label   108 non-null    float32\n",
      "dtypes: float32(6)\n",
      "memory usage: 2.7 KB\n",
      "None\n"
     ]
    }
   ],
   "source": [
    "# data loading\n",
    "DATA = os.path.join('c:\\\\Users\\\\tcumi\\\\github_repo\\\\neural-network\\\\', 'dataset')\n",
    "GROUP = 4\n",
    "COLUMNS = ['f1', 'f2', 'f3', 'f4', 'f5', 'label']\n",
    "N_CLASS = 3\n",
    "EPOCHS = 500\n",
    "train_dir, test_dir = \"..//dataset//training_data{}.txt\".format(GROUP), \"..//dataset//testing_data{}.txt\".format(GROUP)\n",
    "train, test = get_data(DATA, train_dir, COLUMNS), get_data(DATA, test_dir, COLUMNS)\n",
    "# shuffle\n",
    "train, test = train.sample(frac=1), test.sample(frac=1)\n",
    "x_train, y_train = train.drop('label', axis=1), train['label']\n",
    "x_test, y_test = test.drop('label', axis=1), test['label']"
   ]
  },
  {
   "cell_type": "code",
   "execution_count": 7,
   "metadata": {},
   "outputs": [],
   "source": [
    "# data scaling and encoding\n",
    "scaler = StandardScaler(['f1', 'f2', 'f3', 'f4', 'f5'])\n",
    "scaler.fit(x_train)\n",
    "x_train = scaler.transform(x_train)\n",
    "x_test = scaler.transform(x_test)\n",
    "y_train = one_hot_encoding(y_train, N_CLASS)\n",
    "y_test = one_hot_encoding(y_test, N_CLASS)"
   ]
  },
  {
   "cell_type": "code",
   "execution_count": 8,
   "metadata": {
    "tags": [
     "outputPrepend"
    ]
   },
   "outputs": [
    {
     "name": "stdout",
     "output_type": "stream",
     "text": [
      "Checkpoint 100, Accuracy: 0.9197530864197531, Loss: 0.3462762479428892\n",
      "Checkpoint 200, Accuracy: 0.9567901234567902, Loss: 0.21802264672738533\n",
      "Checkpoint 300, Accuracy: 0.9382716049382716, Loss: 0.24949541798344366\n",
      "Checkpoint 400, Accuracy: 0.9506172839506173, Loss: 0.2135162353515625\n",
      "Checkpoint 500, Accuracy: 0.9444444444444444, Loss: 0.22810773496274594\n"
     ]
    }
   ],
   "source": [
    "# learning phase\n",
    "breakpoint = 100\n",
    "checkpoints = list()\n",
    "history = list()\n",
    "for century in range(0, EPOCHS, breakpoint):\n",
    "    sub_history = model.fit(x_train, y_train, breakpoint, verbose = 0)\n",
    "    score = model.evaluate(x_test, y_test, False, verbose = 0)\n",
    "    print('Checkpoint {}, Accuracy: {}, Loss: {}'.format(century+breakpoint, score['accuracy'], score[model.loss_fn]))\n",
    "    score['checkpoint'] = century + breakpoint\n",
    "    checkpoints.append(score)\n",
    "    history.extend(sub_history)\n",
    "    itr = century + breakpoint\n",
    "    model.optimizer.c1 = np.max([model.optimizer.C1[1] - ((model.optimizer.C1[1] - model.optimizer.C1[0]) * itr / EPOCHS), model.optimizer.C1[0]])\n",
    "    model.optimizer.c2 = np.min([model.optimizer.C2[0] + ((model.optimizer.C2[1] - model.optimizer.C2[0]) * itr / EPOCHS), model.optimizer.C2[1]])\n",
    "    model.optimizer.w = np.max([model.optimizer.w * model.optimizer.W_Decay, model.optimizer.W[0]])"
   ]
  },
  {
   "cell_type": "code",
   "execution_count": 9,
   "metadata": {},
   "outputs": [],
   "source": [
    "import matplotlib.pyplot as plt\n",
    "\n",
    "def draw_plot(x, y_list, x_label=None, y_label=None, legend=None, title=None):\n",
    "    fig, ax = plt.subplots(figsize=(12,5))\n",
    "    for xi, yi in zip(x, y_list):\n",
    "        ax.plot(xi, yi)\n",
    "    if x_label is not None and y_label is not None:\n",
    "        ax.set(xlabel=x_label, ylabel=y_label, title='{} VS {}'.format(x_label, y_label))\n",
    "    if legend is not None:\n",
    "        ax.legend(legend)\n",
    "    ax.grid()\n",
    "    plt.show()"
   ]
  },
  {
   "cell_type": "code",
   "execution_count": 10,
   "metadata": {},
   "outputs": [
    {
     "name": "stdout",
     "output_type": "stream",
     "text": [
      "[1. 0. 0.] <-> [0.9308222  0.0392538  0.02992393]\n",
      "[1. 0. 0.] <-> [0.9191844  0.05770781 0.02310775]\n",
      "[1. 0. 0.] <-> [0.8811369  0.0870387  0.03182442]\n",
      "[1. 0. 0.] <-> [0.9132783  0.01097708 0.07574464]\n",
      "[0. 1. 0.] <-> [0.22877307 0.75132227 0.01990468]\n",
      "[0. 1. 0.] <-> [0.05522536 0.9405139  0.0042607 ]\n",
      "[0. 1. 0.] <-> [0.09111732 0.899109   0.00977361]\n",
      "[1. 0. 0.] <-> [0.62515694 0.33415586 0.0406872 ]\n",
      "[1. 0. 0.] <-> [0.9186052  0.06453633 0.01685848]\n",
      "[1. 0. 0.] <-> [0.94163644 0.03537491 0.02298859]\n",
      "[1. 0. 0.] <-> [0.8895758  0.02184016 0.08858411]\n",
      "[1. 0. 0.] <-> [0.92318124 0.02054855 0.05627026]\n",
      "[0. 0. 1.] <-> [0.36092845 0.00719507 0.6318765 ]\n",
      "[1. 0. 0.] <-> [0.9229681  0.04773759 0.02929432]\n",
      "[1. 0. 0.] <-> [0.8732256  0.00888488 0.11788951]\n",
      "[0. 0. 1.] <-> [0.59821445 0.00929031 0.39249524]\n",
      "[1. 0. 0.] <-> [0.9160935  0.02490522 0.05900133]\n",
      "[1. 0. 0.] <-> [0.9492151  0.01950479 0.03128002]\n",
      "[1. 0. 0.] <-> [0.9101826  0.06384483 0.02597254]\n",
      "[0. 1. 0.] <-> [0.20013605 0.7922334  0.00763049]\n",
      "[1. 0. 0.] <-> [0.9161957  0.06273562 0.02106871]\n",
      "[1. 0. 0.] <-> [0.8968387  0.05365963 0.04950167]\n",
      "[1. 0. 0.] <-> [0.9252041  0.01107824 0.06371768]\n",
      "[1. 0. 0.] <-> [0.8614985  0.04900484 0.0894967 ]\n",
      "[1. 0. 0.] <-> [0.84787524 0.02055962 0.13156521]\n",
      "[0. 0. 1.] <-> [0.67514795 0.0066598  0.31819227]\n",
      "[1. 0. 0.] <-> [0.75086117 0.23135804 0.01778078]\n",
      "[0. 1. 0.] <-> [0.03319484 0.96128166 0.00552359]\n",
      "[0. 1. 0.] <-> [0.04221639 0.9526345  0.00514909]\n",
      "[1. 0. 0.] <-> [0.9383073  0.03021364 0.03147908]\n",
      "[1. 0. 0.] <-> [0.90699214 0.06481162 0.02819623]\n",
      "[1. 0. 0.] <-> [0.9066376  0.01266585 0.08069661]\n",
      "[1. 0. 0.] <-> [0.6840947  0.01190804 0.3039973 ]\n",
      "[1. 0. 0.] <-> [0.90271294 0.04858319 0.04870394]\n",
      "[0. 0. 1.] <-> [0.4757172  0.00955334 0.5147295 ]\n",
      "[0. 0. 1.] <-> [0.3586836  0.00854981 0.6327666 ]\n",
      "[1. 0. 0.] <-> [0.7850097  0.01559208 0.19939822]\n",
      "[1. 0. 0.] <-> [0.9324202  0.01103923 0.05654054]\n",
      "[1. 0. 0.] <-> [0.9409391  0.02029399 0.03876681]\n",
      "[1. 0. 0.] <-> [0.90408766 0.06720492 0.02870743]\n",
      "[1. 0. 0.] <-> [0.94116    0.01954547 0.03929451]\n",
      "[1. 0. 0.] <-> [0.89477295 0.01043107 0.09479596]\n",
      "[1. 0. 0.] <-> [0.9460872  0.0318449  0.02206788]\n",
      "[1. 0. 0.] <-> [0.8670069  0.10708347 0.02590958]\n",
      "[0. 1. 0.] <-> [0.04542712 0.9498483  0.00472454]\n",
      "[0. 0. 1.] <-> [0.13124168 0.00571142 0.8630469 ]\n",
      "[1. 0. 0.] <-> [0.68093    0.29345798 0.02561203]\n",
      "[1. 0. 0.] <-> [0.9372335  0.02896958 0.03379695]\n",
      "[1. 0. 0.] <-> [0.9427101  0.02381866 0.03347125]\n",
      "[1. 0. 0.] <-> [0.92599    0.03187605 0.04213401]\n",
      "[1. 0. 0.] <-> [0.81921226 0.15401316 0.0267746 ]\n",
      "[1. 0. 0.] <-> [0.9254232  0.01260042 0.06197638]\n",
      "[0. 1. 0.] <-> [0.18814582 0.80239093 0.00946328]\n",
      "[1. 0. 0.] <-> [0.80106044 0.01274272 0.1861969 ]\n",
      "[0. 0. 1.] <-> [0.8641837  0.00700293 0.1288134 ]\n",
      "[1. 0. 0.] <-> [0.8721471  0.08510499 0.04274786]\n",
      "[1. 0. 0.] <-> [0.9241743  0.0508834  0.02494231]\n",
      "[1. 0. 0.] <-> [0.9462017  0.02163158 0.0321667 ]\n",
      "[1. 0. 0.] <-> [0.9371071  0.02180079 0.0410921 ]\n",
      "[0. 1. 0.] <-> [0.5473865  0.43625838 0.01635505]\n",
      "[0. 1. 0.] <-> [0.05485291 0.93871784 0.00642921]\n",
      "[1. 0. 0.] <-> [0.9244941  0.01929755 0.05620832]\n",
      "[1. 0. 0.] <-> [0.8022159  0.16255055 0.03523356]\n",
      "[0. 1. 0.] <-> [0.5064066  0.4799394  0.01365395]\n",
      "[0. 1. 0.] <-> [0.34511372 0.64305776 0.01182848]\n",
      "[1. 0. 0.] <-> [0.94527656 0.01422088 0.0405026 ]\n",
      "[1. 0. 0.] <-> [0.90464044 0.03056328 0.0647963 ]\n",
      "[0. 0. 1.] <-> [0.18088251 0.00702699 0.81209046]\n",
      "[1. 0. 0.] <-> [0.9222279  0.02621795 0.05155418]\n",
      "[0. 0. 1.] <-> [0.31782207 0.0081978  0.6739801 ]\n",
      "[1. 0. 0.] <-> [0.9355666  0.03926846 0.02516506]\n",
      "[0. 0. 1.] <-> [0.12972818 0.00553305 0.8647388 ]\n",
      "[1. 0. 0.] <-> [0.9442427  0.02287344 0.03288383]\n",
      "[1. 0. 0.] <-> [0.91812533 0.04237289 0.03950186]\n",
      "[1. 0. 0.] <-> [0.9447518  0.02051488 0.03473337]\n",
      "[1. 0. 0.] <-> [0.9138134  0.0320518  0.05413471]\n",
      "[0. 1. 0.] <-> [0.03442133 0.960013   0.00556567]\n",
      "[0. 1. 0.] <-> [0.04590655 0.94858557 0.00550786]\n",
      "[1. 0. 0.] <-> [0.46830365 0.5131032  0.01859313]\n",
      "[1. 0. 0.] <-> [0.9217448  0.0156802  0.06257502]\n",
      "[1. 0. 0.] <-> [0.86589026 0.01809314 0.11601666]\n",
      "[1. 0. 0.] <-> [0.8286496  0.1347206  0.03662984]\n",
      "[1. 0. 0.] <-> [0.91891026 0.01024158 0.07084817]\n",
      "[1. 0. 0.] <-> [0.91941327 0.0407843  0.03980241]\n",
      "[1. 0. 0.] <-> [0.7486222  0.13015121 0.12122662]\n",
      "[1. 0. 0.] <-> [0.9285242  0.03237398 0.03910181]\n",
      "[1. 0. 0.] <-> [0.4580691  0.51756096 0.02437002]\n",
      "[0. 1. 0.] <-> [0.04831645 0.9459532  0.00573032]\n",
      "[1. 0. 0.] <-> [0.7079463  0.25119346 0.04086025]\n",
      "[1. 0. 0.] <-> [0.92443615 0.04473099 0.03083289]\n",
      "[1. 0. 0.] <-> [0.9383398  0.03336993 0.0282902 ]\n",
      "[1. 0. 0.] <-> [0.92854124 0.02760939 0.04384941]\n",
      "[1. 0. 0.] <-> [0.94706273 0.01722853 0.03570877]\n",
      "[0. 0. 1.] <-> [0.23406135 0.00652358 0.75941503]\n",
      "[0. 0. 1.] <-> [0.8383985  0.01036057 0.15124093]\n",
      "[1. 0. 0.] <-> [0.88899964 0.03664873 0.07435154]\n",
      "[0. 1. 0.] <-> [0.22242907 0.76931345 0.00825747]\n",
      "[1. 0. 0.] <-> [0.92490673 0.01852174 0.05657158]\n",
      "[0. 0. 1.] <-> [0.7092231  0.00859012 0.28218678]\n",
      "[1. 0. 0.] <-> [0.6486637  0.30427054 0.04706576]\n",
      "[1. 0. 0.] <-> [0.90706176 0.01568128 0.077257  ]\n",
      "[1. 0. 0.] <-> [0.8694512  0.08963811 0.04091064]\n",
      "[1. 0. 0.] <-> [0.8034818  0.09418252 0.10233563]\n",
      "[1. 0. 0.] <-> [0.8746012  0.01800924 0.10738951]\n",
      "[1. 0. 0.] <-> [0.9397184  0.04306104 0.01722057]\n",
      "[1. 0. 0.] <-> [0.9297233  0.05288913 0.01738759]\n",
      "[0. 0. 1.] <-> [0.1251449  0.00523065 0.86962444]\n",
      "[1. 0. 0.] <-> [0.929443   0.04755558 0.02300139]\n",
      "{'accuracy': 0.9444444444444444, 'mean_square_error': 0.11473636097001581, 'categorical_crossentropy': 0.22810773496274594, 'essential_metrics': {0: {'tp_hit': 76, 'fp_hit': 7, 'tn_hit': 23, 'fn_hit': 2}, 1: {'tp_hit': 14, 'fp_hit': 2, 'tn_hit': 90, 'fn_hit': 2}, 2: {'tp_hit': 9, 'fp_hit': 0, 'tn_hit': 94, 'fn_hit': 5}}}\n"
     ]
    }
   ],
   "source": [
    "# recall phase\n",
    "score = model.evaluate(x_test, y_test, False)\n",
    "print(score)"
   ]
  },
  {
   "cell_type": "code",
   "execution_count": 11,
   "metadata": {},
   "outputs": [
    {
     "data": {
      "image/png": "[encoded data removed]",
      "text/plain": [
       "<Figure size 864x360 with 1 Axes>"
      ]
     },
     "metadata": {
      "needs_background": "light"
     },
     "output_type": "display_data"
    },
    {
     "data": {
      "image/png": "[encoded data removed]",
      "text/plain": [
       "<Figure size 864x360 with 1 Axes>"
      ]
     },
     "metadata": {
      "needs_background": "light"
     },
     "output_type": "display_data"
    }
   ],
   "source": [
    "draw_plot(x = [[i for i in range(len(history))], [(i+1)*breakpoint for i in range(len(checkpoints))]], y_list = [history, [ ckp[model.loss_fn] for ckp in checkpoints ]], x_label = 'Epochs', \\\n",
    "    y_label = model.loss_fn, legend=['train', 'test'])\n",
    "acc = [ ckp['accuracy'] for ckp in checkpoints ]\n",
    "draw_plot(x = [[(i+1)*breakpoint for i in range(len(checkpoints))]], y_list = [acc], x_label = 'Checkpoints', \\\n",
    "    y_label = 'accuracy')"
   ]
  },
  {
   "cell_type": "code",
   "execution_count": 12,
   "metadata": {},
   "outputs": [
    {
     "name": "stdout",
     "output_type": "stream",
     "text": [
      "{'accuracy': 0.9197530864197531, 'mean_square_error': 0.19562321672749552, 'categorical_crossentropy': 0.3462762479428892, 'essential_metrics': {0: {'tp_hit': 78, 'fp_hit': 13, 'tn_hit': 17, 'fn_hit': 0}, 1: {'tp_hit': 9, 'fp_hit': 0, 'tn_hit': 92, 'fn_hit': 7}, 2: {'tp_hit': 8, 'fp_hit': 0, 'tn_hit': 94, 'fn_hit': 6}}, 'checkpoint': 100} \n",
      "\n",
      "\n",
      "{'accuracy': 0.9567901234567902, 'mean_square_error': 0.10838790079112703, 'categorical_crossentropy': 0.21802264672738533, 'essential_metrics': {0: {'tp_hit': 76, 'fp_hit': 5, 'tn_hit': 25, 'fn_hit': 2}, 1: {'tp_hit': 15, 'fp_hit': 2, 'tn_hit': 90, 'fn_hit': 1}, 2: {'tp_hit': 10, 'fp_hit': 0, 'tn_hit': 94, 'fn_hit': 4}}, 'checkpoint': 200} \n",
      "\n",
      "\n",
      "{'accuracy': 0.9382716049382716, 'mean_square_error': 0.13893741595832246, 'categorical_crossentropy': 0.24949541798344366, 'essential_metrics': {0: {'tp_hit': 78, 'fp_hit': 10, 'tn_hit': 20, 'fn_hit': 0}, 1: {'tp_hit': 13, 'fp_hit': 0, 'tn_hit': 92, 'fn_hit': 3}, 2: {'tp_hit': 7, 'fp_hit': 0, 'tn_hit': 94, 'fn_hit': 7}}, 'checkpoint': 300} \n",
      "\n",
      "\n",
      "{'accuracy': 0.9506172839506173, 'mean_square_error': 0.10306484174864851, 'categorical_crossentropy': 0.2135162353515625, 'essential_metrics': {0: {'tp_hit': 77, 'fp_hit': 7, 'tn_hit': 23, 'fn_hit': 1}, 1: {'tp_hit': 14, 'fp_hit': 1, 'tn_hit': 91, 'fn_hit': 2}, 2: {'tp_hit': 9, 'fp_hit': 0, 'tn_hit': 94, 'fn_hit': 5}}, 'checkpoint': 400} \n",
      "\n",
      "\n",
      "{'accuracy': 0.9444444444444444, 'mean_square_error': 0.11473636097001581, 'categorical_crossentropy': 0.22810773496274594, 'essential_metrics': {0: {'tp_hit': 76, 'fp_hit': 7, 'tn_hit': 23, 'fn_hit': 2}, 1: {'tp_hit': 14, 'fp_hit': 2, 'tn_hit': 90, 'fn_hit': 2}, 2: {'tp_hit': 9, 'fp_hit': 0, 'tn_hit': 94, 'fn_hit': 5}}, 'checkpoint': 500} \n",
      "\n",
      "\n"
     ]
    }
   ],
   "source": [
    "for checkpoint in checkpoints:\n",
    "    print(checkpoint, '\\n\\n')"
   ]
  },
  {
   "cell_type": "code",
   "execution_count": 13,
   "metadata": {},
   "outputs": [
    {
     "name": "stdout",
     "output_type": "stream",
     "text": [
      "Layer 1\n",
      "Neuron 0: weights:\n",
      "[-0.28338116  1.578182    0.0663471   0.0242286  -1.122428  ]\n",
      " bias: 0.3868403136730194\n",
      "\n",
      "Neuron 1: weights:\n",
      "[-0.06294028 -0.2724548   0.37112102  1.5402142   0.7664239 ]\n",
      " bias: -0.389792799949646\n",
      "\n",
      "Neuron 2: weights:\n",
      "[ 1.3179708  -1.8829108  -1.8427538   0.01223314  0.11946344]\n",
      " bias: 1.660766363143921\n",
      "\n",
      "Neuron 3: weights:\n",
      "[-0.11828662  0.01182492 -0.03465204 -0.25965995 -0.02626639]\n",
      " bias: -0.015369781292974949\n",
      "\n",
      "$\n",
      "Layer 2\n",
      "Neuron 0: weights:\n",
      "[ 0.5930719 -3.         3.        -0.0344437]\n",
      " bias: -0.05475897714495659\n",
      "\n",
      "Neuron 1: weights:\n",
      "[ 3.         -0.0630168  -3.         -0.23488086]\n",
      " bias: -0.08455166965723038\n",
      "\n",
      "Neuron 2: weights:\n",
      "[-3.          1.242211    0.5241368  -0.06639849]\n",
      " bias: 0.1560068577528\n",
      "\n",
      "$\n",
      "\n"
     ]
    }
   ],
   "source": [
    "print(model)"
   ]
  }
 ],
 "metadata": {
  "kernelspec": {
   "display_name": "Python 3",
   "language": "python",
   "name": "python3"
  },
  "language_info": {
   "codemirror_mode": {
    "name": "ipython",
    "version": 3
   },
   "file_extension": ".py",
   "mimetype": "text/x-python",
   "name": "python",
   "nbconvert_exporter": "python",
   "pygments_lexer": "ipython3",
   "version": "3.6.10"
  }
 },
 "nbformat": 4,
 "nbformat_minor": 2
}
