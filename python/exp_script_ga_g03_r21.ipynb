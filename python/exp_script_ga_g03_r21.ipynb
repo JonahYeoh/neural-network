{
 "cells": [
  {
   "cell_type": "code",
   "execution_count": 1,
   "metadata": {},
   "outputs": [],
   "source": [
    "# single"
   ]
  },
  {
   "cell_type": "code",
   "execution_count": 2,
   "metadata": {},
   "outputs": [],
   "source": [
    "# dependency\n",
    "import numpy as np\n",
    "import pandas as pd\n",
    "import copy\n",
    "import math\n",
    "import sys\n",
    "import os\n",
    "from activations import relu, leaky_relu, sigmoid, tanh, softmax, d_sigmoid, d_relu\n",
    "from initializers import glorot_uniform, random_normal, random_uniform\n",
    "from regularizers import l1_regularizer, l2_regularizer\n",
    "from utility import trim_tail, multiply, subtract, get_nparams, one_hot_encoding, get_data\n",
    "from metrics import MSE, CCE, ACC, PRECISION, RECALL, essential_metrics, wondering_penalty, close_gap_penalty\n",
    "from pso import PSO\n",
    "from ga import GA\n",
    "from nn import Network\n",
    "from layer import DenseLayer\n",
    "from scalers import MinMaxScaler, StandardScaler"
   ]
  },
  {
   "cell_type": "code",
   "execution_count": 3,
   "metadata": {},
   "outputs": [],
   "source": [
    "# reference\n",
    "metrics_fn_dict = dict()\n",
    "metrics_fn_dict['accuracy'] = ACC\n",
    "metrics_fn_dict['categorical_crossentropy'] = CCE\n",
    "metrics_fn_dict['mean_square_error'] = MSE\n",
    "metrics_fn_dict['precision'] = PRECISION\n",
    "metrics_fn_dict['recall'] = RECALL\n",
    "metrics_fn_dict['essential_metrics'] = essential_metrics"
   ]
  },
  {
   "cell_type": "code",
   "execution_count": 4,
   "metadata": {},
   "outputs": [],
   "source": [
    "# model\n",
    "model = Network(5, lr = None)\n",
    "model.add_layer(DenseLayer(1, 4, True, afn=sigmoid, dafn=None, rfn=None))\n",
    "model.add_layer(DenseLayer(2, 3, True, afn=softmax, dafn=None, rfn=None))"
   ]
  },
  {
   "cell_type": "code",
   "execution_count": 5,
   "metadata": {},
   "outputs": [],
   "source": [
    "# optimizer\n",
    "ga = GA(\n",
    "    dict(\n",
    "        m = 200,\n",
    "        x_rate = 0.5,\n",
    "        m_rate = 0.5,\n",
    "        weight_constraint = [-3.,3.],\n",
    "        radioactive_rating = 0.1,\n",
    "        grow_factor = 0.1,\n",
    "        scale_hyperparameter = False,\n",
    "        regularizer = None))"
   ]
  },
  {
   "cell_type": "code",
   "execution_count": 6,
   "metadata": {},
   "outputs": [
    {
     "name": "stdout",
     "output_type": "stream",
     "text": [
      "building layer 1 with 5\n",
      "24\n",
      "building layer 2 with 4\n",
      "15\n"
     ]
    }
   ],
   "source": [
    "model.compile(loss_fn = 'categorical_crossentropy', optimizer = ga, \\\n",
    "    metrics = ['accuracy', 'mean_square_error', 'categorical_crossentropy', 'precision', 'recall', 'f1'])"
   ]
  },
  {
   "cell_type": "code",
   "execution_count": 7,
   "metadata": {},
   "outputs": [
    {
     "name": "stdout",
     "output_type": "stream",
     "text": [
      "<class 'pandas.core.frame.DataFrame'>\n",
      "RangeIndex: 107 entries, 0 to 106\n",
      "Data columns (total 6 columns):\n",
      " #   Column  Non-Null Count  Dtype  \n",
      "---  ------  --------------  -----  \n",
      " 0   f1      107 non-null    float32\n",
      " 1   f2      107 non-null    float32\n",
      " 2   f3      107 non-null    float32\n",
      " 3   f4      107 non-null    float32\n",
      " 4   f5      107 non-null    float32\n",
      " 5   label   107 non-null    float32\n",
      "dtypes: float32(6)\n",
      "memory usage: 2.6 KB\n",
      "None\n",
      "<class 'pandas.core.frame.DataFrame'>\n",
      "RangeIndex: 108 entries, 0 to 107\n",
      "Data columns (total 6 columns):\n",
      " #   Column  Non-Null Count  Dtype  \n",
      "---  ------  --------------  -----  \n",
      " 0   f1      108 non-null    float32\n",
      " 1   f2      108 non-null    float32\n",
      " 2   f3      108 non-null    float32\n",
      " 3   f4      108 non-null    float32\n",
      " 4   f5      108 non-null    float32\n",
      " 5   label   108 non-null    float32\n",
      "dtypes: float32(6)\n",
      "memory usage: 2.7 KB\n",
      "None\n"
     ]
    }
   ],
   "source": [
    "# data loading\n",
    "DATA = os.path.join('c:\\\\Users\\\\tcumi\\\\github_repo\\\\neural-network\\\\', 'dataset')\n",
    "GROUP = 3\n",
    "COLUMNS = ['f1', 'f2', 'f3', 'f4', 'f5', 'label']\n",
    "N_CLASS = 3\n",
    "EPOCHS = 500\n",
    "train_dir, test_dir = \"..//dataset//training_data{}.txt\".format(GROUP), \"..//dataset//testing_data{}.txt\".format(GROUP)\n",
    "train, test = get_data(DATA, train_dir, COLUMNS), get_data(DATA, test_dir, COLUMNS)\n",
    "# shuffle\n",
    "train, test = train.sample(frac=1), test.sample(frac=1)\n",
    "x_train, y_train = train.drop('label', axis=1), train['label']\n",
    "x_test, y_test = test.drop('label', axis=1), test['label']"
   ]
  },
  {
   "cell_type": "code",
   "execution_count": 8,
   "metadata": {},
   "outputs": [],
   "source": [
    "# data scaling and encoding\n",
    "scaler = StandardScaler(['f1', 'f2', 'f3', 'f4', 'f5'])\n",
    "scaler.fit(x_train)\n",
    "x_train = scaler.transform(x_train)\n",
    "x_test = scaler.transform(x_test)\n",
    "y_train = one_hot_encoding(y_train, N_CLASS)\n",
    "y_test = one_hot_encoding(y_test, N_CLASS)"
   ]
  },
  {
   "cell_type": "code",
   "execution_count": 9,
   "metadata": {
    "scrolled": true,
    "tags": [
     "outputPrepend"
    ]
   },
   "outputs": [
    {
     "name": "stderr",
     "output_type": "stream",
     "text": [
      "C:\\Users\\tcumi\\github_repo\\neural-network\\python\\ga.py:201: RuntimeWarning: overflow encountered in add\n",
      "  self.population.sort(key=lambda p: p.fitness + np.random.uniform(-shift, shift, 1), reverse = self.aim)\n"
     ]
    },
    {
     "name": "stdout",
     "output_type": "stream",
     "text": [
      "Checkpoint 100, Accuracy: 0.9259259259259259, Loss: 0.33105143794307\n",
      "Checkpoint 200, Accuracy: 0.9320987654320988, Loss: 0.2908781722739891\n",
      "Checkpoint 300, Accuracy: 0.9382716049382716, Loss: 0.2563771495112666\n",
      "Checkpoint 400, Accuracy: 0.9506172839506173, Loss: 0.22591481385407625\n",
      "Checkpoint 500, Accuracy: 0.9567901234567902, Loss: 0.2129207010622378\n"
     ]
    }
   ],
   "source": [
    "# learning phase\n",
    "breakpoint = 100\n",
    "checkpoints = list()\n",
    "history = list()\n",
    "for century in range(0, EPOCHS, breakpoint):\n",
    "    sub_history = model.fit(x_train, y_train, breakpoint, verbose = 0)\n",
    "    score = model.evaluate(x_test, y_test, False, verbose = 0)\n",
    "    print('Checkpoint {}, Accuracy: {}, Loss: {}'.format(century+breakpoint, score['accuracy'], score[model.loss_fn]))\n",
    "    score['checkpoint'] = century + breakpoint\n",
    "    checkpoints.append(score)\n",
    "    history.extend(sub_history)\n",
    "    "
   ]
  },
  {
   "cell_type": "code",
   "execution_count": 10,
   "metadata": {},
   "outputs": [],
   "source": [
    "import matplotlib.pyplot as plt\n",
    "\n",
    "def draw_plot(x, y_list, x_label=None, y_label=None, legend=None, title=None):\n",
    "    fig, ax = plt.subplots(figsize=(12,5))\n",
    "    for xi, yi in zip(x, y_list):\n",
    "        ax.plot(xi, yi)\n",
    "    if x_label is not None and y_label is not None:\n",
    "        ax.set(xlabel=x_label, ylabel=y_label, title='{} VS {}'.format(x_label, y_label))\n",
    "    if legend is not None:\n",
    "        ax.legend(legend)\n",
    "    ax.grid()\n",
    "    plt.show()"
   ]
  },
  {
   "cell_type": "code",
   "execution_count": 11,
   "metadata": {},
   "outputs": [
    {
     "name": "stdout",
     "output_type": "stream",
     "text": [
      "[1. 0. 0.] <-> [0.92312056 0.04840564 0.02847384]\n",
      "[1. 0. 0.] <-> [0.9538871  0.02541879 0.02069411]\n",
      "[1. 0. 0.] <-> [0.96221614 0.02847805 0.00930579]\n",
      "[1. 0. 0.] <-> [0.95639724 0.03300681 0.010596  ]\n",
      "[1. 0. 0.] <-> [0.8217523  0.15804529 0.02020236]\n",
      "[1. 0. 0.] <-> [0.5544636  0.09260776 0.3529286 ]\n",
      "[0. 1. 0.] <-> [0.03840371 0.8793988  0.08219746]\n",
      "[1. 0. 0.] <-> [0.9291205  0.05740504 0.01347449]\n",
      "[1. 0. 0.] <-> [0.5853627  0.363798   0.05083928]\n",
      "[0. 0. 1.] <-> [0.4600217  0.06806261 0.4719157 ]\n",
      "[1. 0. 0.] <-> [0.79407173 0.18860637 0.01732191]\n",
      "[0. 0. 1.] <-> [0.14081314 0.03176248 0.8274244 ]\n",
      "[1. 0. 0.] <-> [0.8919105  0.03438864 0.07370096]\n",
      "[1. 0. 0.] <-> [0.9382826  0.05046151 0.01125587]\n",
      "[1. 0. 0.] <-> [0.9445034  0.04190224 0.01359435]\n",
      "[1. 0. 0.] <-> [0.89791983 0.05894464 0.04313543]\n",
      "[0. 1. 0.] <-> [0.60865504 0.37553853 0.01580645]\n",
      "[0. 1. 0.] <-> [0.05412127 0.8902611  0.05561764]\n",
      "[1. 0. 0.] <-> [0.5220335  0.44476613 0.03320035]\n",
      "[1. 0. 0.] <-> [0.9402834  0.05170696 0.00800969]\n",
      "[1. 0. 0.] <-> [0.9494662  0.03512176 0.01541208]\n",
      "[1. 0. 0.] <-> [0.876501   0.11178646 0.01171263]\n",
      "[1. 0. 0.] <-> [0.95873576 0.03523461 0.0060296 ]\n",
      "[1. 0. 0.] <-> [0.9530787  0.03128331 0.01563801]\n",
      "[1. 0. 0.] <-> [0.8823658  0.08697443 0.03065968]\n",
      "[1. 0. 0.] <-> [0.7369049  0.08950424 0.17359084]\n",
      "[0. 0. 1.] <-> [0.05499096 0.02519382 0.9198152 ]\n",
      "[0. 1. 0.] <-> [0.5218562  0.41271347 0.06543037]\n",
      "[1. 0. 0.] <-> [0.9275579  0.03905619 0.0333859 ]\n",
      "[1. 0. 0.] <-> [0.94928443 0.0395286  0.01118704]\n",
      "[1. 0. 0.] <-> [0.8969564  0.08240674 0.02063689]\n",
      "[0. 0. 1.] <-> [0.09488572 0.03136209 0.8737522 ]\n",
      "[1. 0. 0.] <-> [0.9655617  0.0252332  0.00920505]\n",
      "[1. 0. 0.] <-> [0.9565609  0.03646528 0.00697383]\n",
      "[1. 0. 0.] <-> [0.91205484 0.05493489 0.03301025]\n",
      "[0. 1. 0.] <-> [0.0782565  0.8785236  0.04321993]\n",
      "[1. 0. 0.] <-> [0.94333994 0.04633437 0.01032569]\n",
      "[0. 1. 0.] <-> [0.24787816 0.7357706  0.01635126]\n",
      "[1. 0. 0.] <-> [0.902855   0.07021874 0.02692631]\n",
      "[0. 1. 0.] <-> [0.418839   0.56253064 0.01863037]\n",
      "[1. 0. 0.] <-> [0.96410877 0.02820927 0.00768196]\n",
      "[1. 0. 0.] <-> [0.9553592  0.03499392 0.00964689]\n",
      "[1. 0. 0.] <-> [0.7310621  0.24116723 0.02777071]\n",
      "[1. 0. 0.] <-> [0.94840026 0.02594546 0.02565428]\n",
      "[1. 0. 0.] <-> [0.95510155 0.03865474 0.00624368]\n",
      "[1. 0. 0.] <-> [0.9215402  0.05712505 0.02133477]\n",
      "[1. 0. 0.] <-> [0.8222474  0.13862431 0.03912829]\n",
      "[1. 0. 0.] <-> [0.95748585 0.03329542 0.00921877]\n",
      "[1. 0. 0.] <-> [0.9490612  0.03099994 0.01993874]\n",
      "[0. 0. 1.] <-> [0.5707773  0.0724233  0.35679942]\n",
      "[0. 1. 0.] <-> [0.06172052 0.8897258  0.04855366]\n",
      "[1. 0. 0.] <-> [0.94819593 0.04389741 0.00790659]\n",
      "[0. 0. 1.] <-> [0.04172364 0.02223087 0.9360455 ]\n",
      "[1. 0. 0.] <-> [0.9643569  0.0277426  0.00790056]\n",
      "[0. 1. 0.] <-> [0.24685201 0.7355791  0.0175689 ]\n",
      "[1. 0. 0.] <-> [0.96319383 0.02924527 0.00756094]\n",
      "[1. 0. 0.] <-> [0.9296145  0.05941784 0.01096759]\n",
      "[1. 0. 0.] <-> [0.95518297 0.03741771 0.00739928]\n",
      "[1. 0. 0.] <-> [0.9262151  0.05151133 0.02227364]\n",
      "[1. 0. 0.] <-> [0.6197856  0.3592602  0.02095424]\n",
      "[0. 0. 1.] <-> [0.04265056 0.02243215 0.9349173 ]\n",
      "[1. 0. 0.] <-> [0.96247977 0.0302808  0.00723946]\n",
      "[0. 0. 1.] <-> [0.09848075 0.02979536 0.8717239 ]\n",
      "[1. 0. 0.] <-> [0.9557634  0.03621624 0.00802039]\n",
      "[1. 0. 0.] <-> [0.5638524  0.31040993 0.12573764]\n",
      "[1. 0. 0.] <-> [0.75437206 0.08326059 0.1623673 ]\n",
      "[1. 0. 0.] <-> [0.8834726  0.0607831  0.05574432]\n",
      "[1. 0. 0.] <-> [0.9491689  0.03913606 0.011695  ]\n",
      "[1. 0. 0.] <-> [0.93523175 0.04977985 0.01498839]\n",
      "[0. 0. 1.] <-> [0.83505803 0.05154118 0.11340077]\n",
      "[0. 1. 0.] <-> [0.04283623 0.88388807 0.07327567]\n",
      "[1. 0. 0.] <-> [0.9486814  0.03194023 0.01937835]\n",
      "[0. 1. 0.] <-> [0.02151    0.82780355 0.15068647]\n",
      "[0. 0. 1.] <-> [0.49721572 0.05507275 0.4477115 ]\n",
      "[0. 0. 1.] <-> [0.8728918  0.03021109 0.09689704]\n",
      "[1. 0. 0.] <-> [0.96371865 0.03165153 0.00462984]\n",
      "[0. 1. 0.] <-> [0.2594833  0.7150307  0.02548598]\n",
      "[1. 0. 0.] <-> [0.9652056  0.02682279 0.00797158]\n",
      "[0. 0. 1.] <-> [0.17903031 0.03486471 0.786105  ]\n",
      "[1. 0. 0.] <-> [0.96792465 0.02229384 0.00978146]\n",
      "[0. 0. 1.] <-> [0.04234391 0.0228671  0.93478906]\n",
      "[1. 0. 0.] <-> [0.9620355  0.03201482 0.00594963]\n",
      "[1. 0. 0.] <-> [0.9666703  0.02806337 0.0052664 ]\n",
      "[1. 0. 0.] <-> [0.87909466 0.10395573 0.0169496 ]\n",
      "[1. 0. 0.] <-> [0.8443236  0.14569446 0.00998194]\n",
      "[1. 0. 0.] <-> [0.8978251  0.08840114 0.01377379]\n",
      "[1. 0. 0.] <-> [0.955276   0.03690569 0.00781826]\n",
      "[1. 0. 0.] <-> [0.96947867 0.02526253 0.00525877]\n",
      "[0. 1. 0.] <-> [0.14440753 0.8050322  0.05056026]\n",
      "[1. 0. 0.] <-> [0.95698774 0.03707511 0.00593714]\n",
      "[1. 0. 0.] <-> [0.945689  0.0388965 0.0154145]\n",
      "[1. 0. 0.] <-> [0.90874916 0.06793422 0.02331657]\n",
      "[1. 0. 0.] <-> [0.9678895  0.02495672 0.00715378]\n",
      "[1. 0. 0.] <-> [0.96343696 0.02734776 0.00921527]\n",
      "[0. 1. 0.] <-> [0.06129759 0.89258474 0.04611773]\n",
      "[0. 1. 0.] <-> [0.11090131 0.8689393  0.02015947]\n",
      "[1. 0. 0.] <-> [0.8691904  0.06856053 0.06224901]\n",
      "[1. 0. 0.] <-> [0.9122336  0.04214767 0.04561877]\n",
      "[1. 0. 0.] <-> [0.93971443 0.05205663 0.00822894]\n",
      "[1. 0. 0.] <-> [0.96414113 0.03118007 0.00467887]\n",
      "[0. 1. 0.] <-> [0.02345316 0.838125   0.13842191]\n",
      "[1. 0. 0.] <-> [0.78277445 0.19543736 0.02178814]\n",
      "[1. 0. 0.] <-> [0.9200472  0.02999298 0.04995973]\n",
      "[1. 0. 0.] <-> [0.41187343 0.5601131  0.02801351]\n",
      "[0. 0. 1.] <-> [0.26288626 0.05888262 0.6782311 ]\n",
      "[1. 0. 0.] <-> [0.94214153 0.03080018 0.02705819]\n",
      "[1. 0. 0.] <-> [0.95333725 0.03794507 0.00871767]\n",
      "[1. 0. 0.] <-> [0.96081436 0.03037571 0.00880988]\n",
      "{'accuracy': 0.9567901234567902, 'mean_square_error': 0.10307663306701595, 'categorical_crossentropy': 0.2129207010622378, 'precision': 0.9351851851851852, 'recall': 0.9351851851851852, 'f1': 0.9351851851851852, 'essential_metrics': {0: {'tp_hit': 77, 'fp_hit': 6, 'tn_hit': 24, 'fn_hit': 1}, 1: {'tp_hit': 14, 'fp_hit': 1, 'tn_hit': 91, 'fn_hit': 2}, 2: {'tp_hit': 10, 'fp_hit': 0, 'tn_hit': 94, 'fn_hit': 4}}}\n"
     ]
    }
   ],
   "source": [
    "# recall phase\n",
    "score = model.evaluate(x_test, y_test, False)\n",
    "print(score)"
   ]
  },
  {
   "cell_type": "code",
   "execution_count": 12,
   "metadata": {},
   "outputs": [],
   "source": [
    "# Testing Performance"
   ]
  },
  {
   "cell_type": "code",
   "execution_count": 13,
   "metadata": {},
   "outputs": [
    {
     "data": {
      "image/png": "[encoded data removed]",
      "text/plain": [
       "<Figure size 864x360 with 1 Axes>"
      ]
     },
     "metadata": {
      "needs_background": "light"
     },
     "output_type": "display_data"
    },
    {
     "data": {
      "image/png": "[encoded data removed]",
      "text/plain": [
       "<Figure size 864x360 with 1 Axes>"
      ]
     },
     "metadata": {
      "needs_background": "light"
     },
     "output_type": "display_data"
    }
   ],
   "source": [
    "draw_plot(x = [[i for i in range(len(history))], [(i+1)*breakpoint for i in range(len(checkpoints))]], y_list = [history, [ ckp[model.loss_fn] for ckp in checkpoints ]], x_label = 'Epochs', \\\n",
    "    y_label = model.loss_fn, legend=['train', 'test'])\n",
    "acc = [ ckp['accuracy'] for ckp in checkpoints ]\n",
    "draw_plot(x = [[(i+1)*breakpoint for i in range(len(checkpoints))]], y_list = [acc], x_label = 'Checkpoints', \\\n",
    "    y_label = 'accuracy')"
   ]
  },
  {
   "cell_type": "code",
   "execution_count": 14,
   "metadata": {
    "scrolled": false
   },
   "outputs": [
    {
     "name": "stdout",
     "output_type": "stream",
     "text": [
      "{'accuracy': 0.9259259259259259, 'mean_square_error': 0.1785488609517309, 'categorical_crossentropy': 0.33105143794307, 'precision': 0.8888888888888888, 'recall': 0.8888888888888888, 'f1': 0.8888888888888888, 'essential_metrics': {0: {'tp_hit': 78, 'fp_hit': 12, 'tn_hit': 18, 'fn_hit': 0}, 1: {'tp_hit': 10, 'fp_hit': 0, 'tn_hit': 92, 'fn_hit': 6}, 2: {'tp_hit': 8, 'fp_hit': 0, 'tn_hit': 94, 'fn_hit': 6}}, 'checkpoint': 100} \n",
      "\n",
      "\n",
      "{'accuracy': 0.9320987654320988, 'mean_square_error': 0.15140267563318233, 'categorical_crossentropy': 0.2908781722739891, 'precision': 0.8981481481481481, 'recall': 0.8981481481481481, 'f1': 0.8981481481481481, 'essential_metrics': {0: {'tp_hit': 78, 'fp_hit': 11, 'tn_hit': 19, 'fn_hit': 0}, 1: {'tp_hit': 10, 'fp_hit': 0, 'tn_hit': 92, 'fn_hit': 6}, 2: {'tp_hit': 9, 'fp_hit': 0, 'tn_hit': 94, 'fn_hit': 5}}, 'checkpoint': 200} \n",
      "\n",
      "\n",
      "{'accuracy': 0.9382716049382716, 'mean_square_error': 0.12839978084635084, 'categorical_crossentropy': 0.2563771495112666, 'precision': 0.9074074074074074, 'recall': 0.9074074074074074, 'f1': 0.9074074074074074, 'essential_metrics': {0: {'tp_hit': 77, 'fp_hit': 9, 'tn_hit': 21, 'fn_hit': 1}, 1: {'tp_hit': 12, 'fp_hit': 1, 'tn_hit': 91, 'fn_hit': 4}, 2: {'tp_hit': 9, 'fp_hit': 0, 'tn_hit': 94, 'fn_hit': 5}}, 'checkpoint': 300} \n",
      "\n",
      "\n",
      "{'accuracy': 0.9506172839506173, 'mean_square_error': 0.10863097638634632, 'categorical_crossentropy': 0.22591481385407625, 'precision': 0.9259259259259259, 'recall': 0.9259259259259259, 'f1': 0.9259259259259259, 'essential_metrics': {0: {'tp_hit': 77, 'fp_hit': 7, 'tn_hit': 23, 'fn_hit': 1}, 1: {'tp_hit': 13, 'fp_hit': 1, 'tn_hit': 91, 'fn_hit': 3}, 2: {'tp_hit': 10, 'fp_hit': 0, 'tn_hit': 94, 'fn_hit': 4}}, 'checkpoint': 400} \n",
      "\n",
      "\n",
      "{'accuracy': 0.9567901234567902, 'mean_square_error': 0.10307663306701595, 'categorical_crossentropy': 0.2129207010622378, 'precision': 0.9351851851851852, 'recall': 0.9351851851851852, 'f1': 0.9351851851851852, 'essential_metrics': {0: {'tp_hit': 77, 'fp_hit': 6, 'tn_hit': 24, 'fn_hit': 1}, 1: {'tp_hit': 14, 'fp_hit': 1, 'tn_hit': 91, 'fn_hit': 2}, 2: {'tp_hit': 10, 'fp_hit': 0, 'tn_hit': 94, 'fn_hit': 4}}, 'checkpoint': 500} \n",
      "\n",
      "\n"
     ]
    }
   ],
   "source": [
    "for checkpoint in checkpoints:\n",
    "    print(checkpoint, '\\n\\n')"
   ]
  },
  {
   "cell_type": "code",
   "execution_count": 15,
   "metadata": {},
   "outputs": [
    {
     "name": "stdout",
     "output_type": "stream",
     "text": [
      "Layer 1\n",
      "Neuron 0: weights:\n",
      "[ 0.16514294 -2.2109983  -1.4574171   0.21816826  1.5544105 ]\n",
      " bias: -2.029279947280884\n",
      "\n",
      "Neuron 1: weights:\n",
      "[0.00384735 1.202339   0.9207021  1.1122779  2.1897726 ]\n",
      " bias: 2.594947099685669\n",
      "\n",
      "Neuron 2: weights:\n",
      "[-2.062016    2.6363838   2.8925385  -2.5419722   0.76815313]\n",
      " bias: -2.6606340408325195\n",
      "\n",
      "Neuron 3: weights:\n",
      "[-0.22079432  0.95421535 -2.1839716  -1.8585879  -1.0435139 ]\n",
      " bias: 0.3982885181903839\n",
      "\n",
      "$\n",
      "Layer 2\n",
      "Neuron 0: weights:\n",
      "[-1.6346612 -2.2058237 -2.5171406  1.6217158]\n",
      " bias: 0.7241815328598022\n",
      "\n",
      "Neuron 1: weights:\n",
      "[-0.47393253 -1.0377783   3.         -0.31294334]\n",
      " bias: -2.235630512237549\n",
      "\n",
      "Neuron 2: weights:\n",
      "[ 2.9978938 -1.3490384  1.1192136 -2.8178794]\n",
      " bias: -1.6522449254989624\n",
      "\n",
      "$\n",
      "\n"
     ]
    }
   ],
   "source": [
    "print(model)"
   ]
  }
 ],
 "metadata": {
  "kernelspec": {
   "display_name": "Python 3",
   "language": "python",
   "name": "python3"
  },
  "language_info": {
   "codemirror_mode": {
    "name": "ipython",
    "version": 3
   },
   "file_extension": ".py",
   "mimetype": "text/x-python",
   "name": "python",
   "nbconvert_exporter": "python",
   "pygments_lexer": "ipython3",
   "version": "3.6.10"
  }
 },
 "nbformat": 4,
 "nbformat_minor": 2
}
