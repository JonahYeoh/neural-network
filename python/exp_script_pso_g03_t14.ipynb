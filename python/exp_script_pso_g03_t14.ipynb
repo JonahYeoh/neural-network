{
 "cells": [
  {
   "cell_type": "code",
   "execution_count": 1,
   "metadata": {},
   "outputs": [],
   "source": [
    "# dependency\n",
    "import numpy as np\n",
    "import pandas as pd\n",
    "import copy\n",
    "import math\n",
    "import sys\n",
    "import os\n",
    "from activations import relu, leaky_relu, sigmoid, tanh, softmax, d_sigmoid, d_relu\n",
    "from initializers import glorot_uniform, random_normal, random_uniform\n",
    "from regularizers import l1_regularizer, l2_regularizer\n",
    "from utility import trim_tail, multiply, subtract, get_nparams, one_hot_encoding, get_data\n",
    "from metrics import MSE, CCE, ACC, PRECISION, RECALL, essential_metrics, wondering_penalty, close_gap_penalty\n",
    "from pso import PSO\n",
    "from ga import GA\n",
    "from nn import Network\n",
    "from layer import DenseLayer\n",
    "from scalers import MinMaxScaler, StandardScaler"
   ]
  },
  {
   "cell_type": "code",
   "execution_count": 2,
   "metadata": {},
   "outputs": [],
   "source": [
    "# reference\n",
    "metrics_fn_dict = dict()\n",
    "metrics_fn_dict['accuracy'] = ACC\n",
    "metrics_fn_dict['categorical_crossentropy'] = CCE\n",
    "metrics_fn_dict['mean_square_error'] = MSE\n",
    "metrics_fn_dict['precision'] = PRECISION\n",
    "metrics_fn_dict['recall'] = RECALL\n",
    "metrics_fn_dict['essential_metrics'] = essential_metrics"
   ]
  },
  {
   "cell_type": "code",
   "execution_count": 3,
   "metadata": {},
   "outputs": [],
   "source": [
    "# model\n",
    "model = Network(5, lr = None)\n",
    "model.add_layer(DenseLayer(1, 4, True, afn=sigmoid, dafn=None, rfn=None))\n",
    "model.add_layer(DenseLayer(2, 3, True, afn=softmax, dafn=None, rfn=None))"
   ]
  },
  {
   "cell_type": "code",
   "execution_count": 4,
   "metadata": {},
   "outputs": [
    {
     "name": "stdout",
     "output_type": "stream",
     "text": [
      "see one see two 2 2\n"
     ]
    }
   ],
   "source": [
    "pso = PSO(dict(m = 200,\n",
    "    weight_constraint = [-3, 3], \n",
    "    velocity_constraint = [-0.1, 0.1],\n",
    "    c1 = 2,\n",
    "    c2 = 2,\n",
    "    w = 1.2,\n",
    "    w_decay = 1,\n",
    "    scale_hyperparameter = False,\n",
    "    regularizer = None,\n",
    "    mask = True))"
   ]
  },
  {
   "cell_type": "code",
   "execution_count": 5,
   "metadata": {},
   "outputs": [
    {
     "name": "stdout",
     "output_type": "stream",
     "text": [
      "building layer 1 with 5\n",
      "24\n",
      "building layer 2 with 4\n",
      "15\n"
     ]
    }
   ],
   "source": [
    "model.compile(loss_fn = 'categorical_crossentropy', optimizer = pso, \\\n",
    "    metrics = ['accuracy', 'mean_square_error', 'categorical_crossentropy'])"
   ]
  },
  {
   "cell_type": "code",
   "execution_count": 6,
   "metadata": {
    "scrolled": false
   },
   "outputs": [
    {
     "name": "stdout",
     "output_type": "stream",
     "text": [
      "<class 'pandas.core.frame.DataFrame'>\n",
      "RangeIndex: 107 entries, 0 to 106\n",
      "Data columns (total 6 columns):\n",
      " #   Column  Non-Null Count  Dtype  \n",
      "---  ------  --------------  -----  \n",
      " 0   f1      107 non-null    float32\n",
      " 1   f2      107 non-null    float32\n",
      " 2   f3      107 non-null    float32\n",
      " 3   f4      107 non-null    float32\n",
      " 4   f5      107 non-null    float32\n",
      " 5   label   107 non-null    float32\n",
      "dtypes: float32(6)\n",
      "memory usage: 2.6 KB\n",
      "None\n",
      "<class 'pandas.core.frame.DataFrame'>\n",
      "RangeIndex: 108 entries, 0 to 107\n",
      "Data columns (total 6 columns):\n",
      " #   Column  Non-Null Count  Dtype  \n",
      "---  ------  --------------  -----  \n",
      " 0   f1      108 non-null    float32\n",
      " 1   f2      108 non-null    float32\n",
      " 2   f3      108 non-null    float32\n",
      " 3   f4      108 non-null    float32\n",
      " 4   f5      108 non-null    float32\n",
      " 5   label   108 non-null    float32\n",
      "dtypes: float32(6)\n",
      "memory usage: 2.7 KB\n",
      "None\n"
     ]
    }
   ],
   "source": [
    "# data loading\n",
    "DATA = os.path.join('c:\\\\Users\\\\Ai-lab\\\\github_repo\\\\neural-network\\\\', 'dataset')\n",
    "GROUP = 3\n",
    "COLUMNS = ['f1', 'f2', 'f3', 'f4', 'f5', 'label']\n",
    "N_CLASS = 3\n",
    "EPOCHS = 200\n",
    "train_dir, test_dir = \"..//dataset//training_data{}.txt\".format(GROUP), \"..//dataset//testing_data{}.txt\".format(GROUP)\n",
    "train, test = get_data(DATA, train_dir, COLUMNS), get_data(DATA, test_dir, COLUMNS)\n",
    "# shuffle\n",
    "train, test = train.sample(frac=1), test.sample(frac=1)\n",
    "x_train, y_train = train.drop('label', axis=1), train['label']\n",
    "x_test, y_test = test.drop('label', axis=1), test['label']"
   ]
  },
  {
   "cell_type": "code",
   "execution_count": 7,
   "metadata": {},
   "outputs": [],
   "source": [
    "# data scaling and encoding\n",
    "scaler = StandardScaler(['f1', 'f2', 'f3', 'f4', 'f5'])\n",
    "scaler.fit(x_train)\n",
    "x_train = scaler.transform(x_train)\n",
    "x_test = scaler.transform(x_test)\n",
    "y_train = one_hot_encoding(y_train, N_CLASS)\n",
    "y_test = one_hot_encoding(y_test, N_CLASS)"
   ]
  },
  {
   "cell_type": "code",
   "execution_count": 8,
   "metadata": {
    "tags": [
     "outputPrepend"
    ]
   },
   "outputs": [
    {
     "name": "stdout",
     "output_type": "stream",
     "text": [
      "Checkpoint 10, Accuracy: 0.8395061728395061, Loss: 0.6917125560619213\n",
      "Checkpoint 20, Accuracy: 0.845679012345679, Loss: 0.6516527952971282\n",
      "Checkpoint 30, Accuracy: 0.8518518518518519, Loss: 0.5165996198300962\n",
      "Checkpoint 40, Accuracy: 0.9382716049382716, Loss: 0.4423080020480686\n",
      "Checkpoint 50, Accuracy: 0.9012345679012346, Loss: 0.4033666893287941\n",
      "Checkpoint 60, Accuracy: 0.9135802469135802, Loss: 0.3836229112413194\n",
      "Checkpoint 70, Accuracy: 0.9567901234567902, Loss: 0.3239946718569155\n",
      "Checkpoint 80, Accuracy: 0.9382716049382716, Loss: 0.29805430659541376\n",
      "Checkpoint 90, Accuracy: 0.9382716049382716, Loss: 0.23714627159966362\n",
      "Checkpoint 100, Accuracy: 0.9691358024691358, Loss: 0.19461001290215385\n",
      "Checkpoint 110, Accuracy: 0.9691358024691358, Loss: 0.1806356112162272\n",
      "Checkpoint 120, Accuracy: 0.9629629629629629, Loss: 0.15987120734320748\n",
      "Checkpoint 130, Accuracy: 0.9567901234567902, Loss: 0.1690912953129521\n",
      "Checkpoint 140, Accuracy: 0.9567901234567902, Loss: 0.1609241697523329\n",
      "Checkpoint 150, Accuracy: 0.9506172839506173, Loss: 0.15733506944444445\n",
      "Checkpoint 160, Accuracy: 0.9506172839506173, Loss: 0.15792867872450086\n",
      "Checkpoint 170, Accuracy: 0.9506172839506173, Loss: 0.15759558147854275\n",
      "Checkpoint 180, Accuracy: 0.9506172839506173, Loss: 0.15540606887252242\n",
      "Checkpoint 190, Accuracy: 0.9567901234567902, Loss: 0.1392374215302644\n",
      "Checkpoint 200, Accuracy: 0.9567901234567902, Loss: 0.14214296694155093\n"
     ]
    }
   ],
   "source": [
    "# learning phase\n",
    "breakpoint = 10\n",
    "checkpoints = list()\n",
    "history = list()\n",
    "for century in range(0, EPOCHS, breakpoint):\n",
    "    sub_history = model.fit(x_train, y_train, breakpoint, verbose = 0)\n",
    "    score = model.evaluate(x_test, y_test, False, verbose = 0)\n",
    "    print('Checkpoint {}, Accuracy: {}, Loss: {}'.format(century+breakpoint, score['accuracy'], score[model.loss_fn]))\n",
    "    score['checkpoint'] = century + breakpoint\n",
    "    checkpoints.append(score)\n",
    "    history.extend(sub_history)"
   ]
  },
  {
   "cell_type": "code",
   "execution_count": 9,
   "metadata": {},
   "outputs": [],
   "source": [
    "import matplotlib.pyplot as plt\n",
    "\n",
    "def draw_plot(x, y_list, x_label=None, y_label=None, legend=None, title=None):\n",
    "    fig, ax = plt.subplots(figsize=(12,5))\n",
    "    for xi, yi in zip(x, y_list):\n",
    "        ax.plot(xi, yi)\n",
    "    if x_label is not None and y_label is not None:\n",
    "        ax.set(xlabel=x_label, ylabel=y_label, title='{} VS {}'.format(x_label, y_label))\n",
    "    if legend is not None:\n",
    "        ax.legend(legend)\n",
    "    ax.grid()\n",
    "    plt.show()"
   ]
  },
  {
   "cell_type": "code",
   "execution_count": 10,
   "metadata": {},
   "outputs": [],
   "source": [
    "train_acc = [h['accuracy'] for h in history]\n",
    "train_mse = [h['mean_square_error'] for h in history]\n",
    "train_cce = [h['categorical_crossentropy'] for h in history]"
   ]
  },
  {
   "cell_type": "code",
   "execution_count": 11,
   "metadata": {},
   "outputs": [
    {
     "data": {
      "image/png": "[encoded data removed]",
      "text/plain": [
       "<Figure size 864x360 with 1 Axes>"
      ]
     },
     "metadata": {
      "needs_background": "light"
     },
     "output_type": "display_data"
    },
    {
     "data": {
      "image/png": "[encoded data removed]",
      "text/plain": [
       "<Figure size 864x360 with 1 Axes>"
      ]
     },
     "metadata": {
      "needs_background": "light"
     },
     "output_type": "display_data"
    }
   ],
   "source": [
    "draw_plot(x = [[i for i in range(len(history))], [(i+1)*breakpoint for i in range(len(checkpoints))]], y_list = [train_cce, [ ckp[model.loss_fn] for ckp in checkpoints ]], x_label = 'Epochs', \\\n",
    "    y_label = model.loss_fn, legend=['train', 'test'])\n",
    "acc = [ ckp['accuracy'] for ckp in checkpoints ]\n",
    "draw_plot(x = [[i for i in range(len(history))], [(i+1)*breakpoint for i in range(len(checkpoints))]], y_list = [train_acc, acc], x_label = 'Checkpoints', \\\n",
    "    y_label = 'accuracy', legend=['train', 'test'])"
   ]
  },
  {
   "cell_type": "code",
   "execution_count": 12,
   "metadata": {},
   "outputs": [
    {
     "name": "stdout",
     "output_type": "stream",
     "text": [
      "[1. 0. 0.] <-> [0.9848605  0.01403763 0.00110191]\n",
      "[1. 0. 0.] <-> [0.7968947  0.00218756 0.20091768]\n",
      "[1. 0. 0.] <-> [0.99404174 0.0029131  0.00304517]\n",
      "[1. 0. 0.] <-> [9.9476719e-01 4.5061777e-03 7.2664663e-04]\n",
      "[1. 0. 0.] <-> [9.9631208e-01 2.9727167e-03 7.1518612e-04]\n",
      "[0. 0. 1.] <-> [1.0781918e-01 3.7200749e-04 8.9180881e-01]\n",
      "[0. 1. 0.] <-> [6.6687507e-03 9.9299735e-01 3.3389940e-04]\n",
      "[0. 1. 0.] <-> [6.6634854e-03 9.9300522e-01 3.3129004e-04]\n",
      "[0. 0. 1.] <-> [3.2437910e-04 1.1200133e-04 9.9956363e-01]\n",
      "[1. 0. 0.] <-> [0.9946315  0.0021897  0.00317874]\n",
      "[1. 0. 0.] <-> [0.99277675 0.00410841 0.00311477]\n",
      "[0. 0. 1.] <-> [9.9560916e-03 1.1250238e-04 9.8993134e-01]\n",
      "[1. 0. 0.] <-> [9.9712616e-01 1.9737601e-03 9.0003660e-04]\n",
      "[1. 0. 0.] <-> [0.9950079  0.00265126 0.00234085]\n",
      "[0. 1. 0.] <-> [0.49140108 0.5064489  0.00215004]\n",
      "[0. 1. 0.] <-> [6.7143668e-03 9.9294680e-01 3.3886824e-04]\n",
      "[1. 0. 0.] <-> [0.76216733 0.17394663 0.06388603]\n",
      "[1. 0. 0.] <-> [0.98942727 0.005324   0.00524871]\n",
      "[1. 0. 0.] <-> [0.9923564  0.00662906 0.0010145 ]\n",
      "[1. 0. 0.] <-> [0.98732346 0.00966674 0.0030098 ]\n",
      "[1. 0. 0.] <-> [0.97651345 0.02101817 0.00246833]\n",
      "[1. 0. 0.] <-> [0.88165253 0.00226769 0.11607981]\n",
      "[1. 0. 0.] <-> [0.99643767 0.00229269 0.00126972]\n",
      "[1. 0. 0.] <-> [0.20922531 0.78936625 0.00140836]\n",
      "[0. 1. 0.] <-> [6.6859997e-03 9.9297148e-01 3.4256512e-04]\n",
      "[1. 0. 0.] <-> [0.99395025 0.0023007  0.00374911]\n",
      "[0. 0. 1.] <-> [1.8128498e-02 6.3063802e-05 9.8180848e-01]\n",
      "[1. 0. 0.] <-> [9.9490899e-01 4.3105735e-03 7.8036799e-04]\n",
      "[0. 1. 0.] <-> [2.0581346e-02 9.7882599e-01 5.9267756e-04]\n",
      "[1. 0. 0.] <-> [9.9692398e-01 2.0803644e-03 9.9562178e-04]\n",
      "[1. 0. 0.] <-> [0.9965211  0.00226946 0.00120939]\n",
      "[1. 0. 0.] <-> [0.9940568  0.00225602 0.0036872 ]\n",
      "[1. 0. 0.] <-> [3.4734719e-02 6.6541164e-04 9.6459985e-01]\n",
      "[1. 0. 0.] <-> [0.9955557  0.00307602 0.00136828]\n",
      "[1. 0. 0.] <-> [0.9833745  0.00247916 0.01414638]\n",
      "[1. 0. 0.] <-> [0.9547783  0.00290514 0.04231662]\n",
      "[1. 0. 0.] <-> [0.9959252  0.00297729 0.00109745]\n",
      "[1. 0. 0.] <-> [0.9346973  0.0266176  0.03868519]\n",
      "[1. 0. 0.] <-> [0.96189255 0.00468772 0.03341984]\n",
      "[1. 0. 0.] <-> [9.9494380e-01 4.1814176e-03 8.7471999e-04]\n",
      "[0. 1. 0.] <-> [6.6752648e-03 9.9298757e-01 3.3711782e-04]\n",
      "[1. 0. 0.] <-> [0.9953673  0.00227323 0.00235949]\n",
      "[1. 0. 0.] <-> [0.98973197 0.00239271 0.00787529]\n",
      "[0. 0. 1.] <-> [2.3381626e-02 6.0229497e-05 9.7655815e-01]\n",
      "[1. 0. 0.] <-> [0.9492409  0.04891513 0.00184389]\n",
      "[1. 0. 0.] <-> [9.9590790e-01 3.2747996e-03 8.1727968e-04]\n",
      "[1. 0. 0.] <-> [9.9378669e-01 5.2878330e-03 9.2547515e-04]\n",
      "[0. 0. 1.] <-> [3.0029649e-02 7.7037053e-05 9.6989328e-01]\n",
      "[0. 0. 1.] <-> [2.841233e-02 7.292293e-05 9.715147e-01]\n",
      "[1. 0. 0.] <-> [0.4414623  0.5542971  0.00424059]\n",
      "[1. 0. 0.] <-> [0.95696974 0.00294952 0.04008076]\n",
      "[0. 1. 0.] <-> [0.08849947 0.91050774 0.00099283]\n",
      "[0. 0. 1.] <-> [2.2744945e-04 1.1797233e-04 9.9965453e-01]\n",
      "[0. 1. 0.] <-> [6.7839581e-03 9.9286062e-01 3.5547465e-04]\n",
      "[0. 0. 1.] <-> [2.2752018e-04 1.1799191e-04 9.9965453e-01]\n",
      "[1. 0. 0.] <-> [0.98555017 0.01278454 0.00166525]\n",
      "[1. 0. 0.] <-> [9.9642074e-01 2.7077890e-03 8.7155035e-04]\n",
      "[0. 1. 0.] <-> [6.6926754e-03 9.9296337e-01 3.4394016e-04]\n",
      "[0. 0. 1.] <-> [1.6391058e-01 4.9253152e-04 8.3559686e-01]\n",
      "[0. 1. 0.] <-> [8.6406469e-03 9.9096984e-01 3.8949732e-04]\n",
      "[1. 0. 0.] <-> [0.98788327 0.00249906 0.00961765]\n",
      "[1. 0. 0.] <-> [0.61794823 0.37879822 0.00325356]\n",
      "[1. 0. 0.] <-> [0.99248874 0.00228774 0.00522361]\n",
      "[1. 0. 0.] <-> [0.99477404 0.0032439  0.00198208]\n",
      "[0. 0. 1.] <-> [0.7262019  0.00226416 0.27153397]\n",
      "[0. 0. 1.] <-> [0.61513525 0.00173402 0.38313073]\n",
      "[1. 0. 0.] <-> [0.99346924 0.00493925 0.00159151]\n",
      "[1. 0. 0.] <-> [0.9959791  0.00282894 0.00119191]\n",
      "[1. 0. 0.] <-> [0.994391   0.00445666 0.00115234]\n",
      "[1. 0. 0.] <-> [0.99629563 0.00248453 0.00121983]\n",
      "[1. 0. 0.] <-> [0.7122833  0.28447965 0.00323707]\n",
      "[0. 0. 1.] <-> [3.8066164e-02 9.8759156e-05 9.6183509e-01]\n",
      "[0. 0. 1.] <-> [9.30805597e-03 1.11436624e-04 9.90580499e-01]\n",
      "[1. 0. 0.] <-> [0.9939884  0.00491114 0.00110043]\n",
      "[1. 0. 0.] <-> [0.9902885  0.00303481 0.00667677]\n",
      "[1. 0. 0.] <-> [0.99336326 0.00230537 0.00433143]\n",
      "[1. 0. 0.] <-> [0.9717685  0.02456906 0.00366238]\n",
      "[1. 0. 0.] <-> [0.99337304 0.00516343 0.0014636 ]\n",
      "[1. 0. 0.] <-> [9.9382764e-01 5.3406302e-03 8.3162502e-04]\n",
      "[1. 0. 0.] <-> [0.9951544  0.00377932 0.00106626]\n",
      "[0. 1. 0.] <-> [1.9695440e-02 9.7979283e-01 5.1171688e-04]\n",
      "[1. 0. 0.] <-> [9.9654263e-01 2.7122581e-03 7.4511528e-04]\n",
      "[1. 0. 0.] <-> [0.996024   0.00288057 0.00109548]\n",
      "[1. 0. 0.] <-> [0.42519733 0.00223769 0.57256496]\n",
      "[1. 0. 0.] <-> [9.9610031e-01 3.1827516e-03 7.1700645e-04]\n",
      "[1. 0. 0.] <-> [9.9681228e-01 2.2023597e-03 9.8530704e-04]\n",
      "[1. 0. 0.] <-> [0.7746037  0.22277302 0.00262325]\n",
      "[1. 0. 0.] <-> [9.9693441e-01 2.2355241e-03 8.2997326e-04]\n",
      "[1. 0. 0.] <-> [0.17064248 0.8265004  0.00285717]\n",
      "[1. 0. 0.] <-> [0.9928005  0.0046076  0.00259183]\n",
      "[1. 0. 0.] <-> [9.9631566e-01 2.8849286e-03 7.9943327e-04]\n",
      "[1. 0. 0.] <-> [0.84931415 0.14761145 0.00307444]\n",
      "[0. 1. 0.] <-> [0.33557433 0.66279733 0.00162836]\n",
      "[1. 0. 0.] <-> [0.84063286 0.08858591 0.07078116]\n",
      "[1. 0. 0.] <-> [0.99653256 0.00222609 0.00124129]\n",
      "[1. 0. 0.] <-> [0.9431587  0.00462154 0.05221979]\n",
      "[1. 0. 0.] <-> [0.93667746 0.05949165 0.00383083]\n",
      "[1. 0. 0.] <-> [9.9712038e-01 2.0824056e-03 7.9729047e-04]\n",
      "[1. 0. 0.] <-> [0.9896035  0.00882745 0.00156905]\n",
      "[1. 0. 0.] <-> [9.971909e-01 2.042084e-03 7.670942e-04]\n",
      "[0. 1. 0.] <-> [2.6622655e-02 9.7280538e-01 5.7193183e-04]\n",
      "[1. 0. 0.] <-> [0.99626046 0.00223572 0.00150375]\n",
      "[0. 1. 0.] <-> [2.9215416e-02 9.7009587e-01 6.8872765e-04]\n",
      "[0. 1. 0.] <-> [6.6638095e-03 9.9300474e-01 3.3145293e-04]\n",
      "[1. 0. 0.] <-> [0.9940948  0.00479976 0.00110548]\n",
      "[1. 0. 0.] <-> [9.9682778e-01 2.4717704e-03 7.0038502e-04]\n",
      "[1. 0. 0.] <-> [0.8888013  0.10594172 0.00525697]\n",
      "[1. 0. 0.] <-> [0.9923379  0.00652847 0.00113369]\n",
      "{'accuracy': 0.9567901234567902, 'mean_square_error': 0.08607759486442472, 'categorical_crossentropy': 0.14214296694155093, 'essential_metrics': {0: {'tp_hit': 73, 'fp_hit': 2, 'tn_hit': 28, 'fn_hit': 5}, 1: {'tp_hit': 16, 'fp_hit': 3, 'tn_hit': 89, 'fn_hit': 0}, 2: {'tp_hit': 12, 'fp_hit': 2, 'tn_hit': 92, 'fn_hit': 2}}}\n"
     ]
    }
   ],
   "source": [
    "# recall phase\n",
    "score = model.evaluate(x_test, y_test, False)\n",
    "print(score)"
   ]
  },
  {
   "cell_type": "code",
   "execution_count": 13,
   "metadata": {},
   "outputs": [
    {
     "name": "stdout",
     "output_type": "stream",
     "text": [
      "{'accuracy': 0.8395061728395061, 'mean_square_error': 0.3608796612856001, 'categorical_crossentropy': 0.6917125560619213, 'essential_metrics': {0: {'tp_hit': 77, 'fp_hit': 25, 'tn_hit': 5, 'fn_hit': 1}, 1: {'tp_hit': 5, 'fp_hit': 1, 'tn_hit': 91, 'fn_hit': 11}, 2: {'tp_hit': 0, 'fp_hit': 0, 'tn_hit': 94, 'fn_hit': 14}}, 'checkpoint': 10} \n",
      "\n",
      "\n",
      "{'accuracy': 0.845679012345679, 'mean_square_error': 0.36593477978608085, 'categorical_crossentropy': 0.6516527952971282, 'essential_metrics': {0: {'tp_hit': 68, 'fp_hit': 15, 'tn_hit': 15, 'fn_hit': 10}, 1: {'tp_hit': 15, 'fp_hit': 10, 'tn_hit': 82, 'fn_hit': 1}, 2: {'tp_hit': 0, 'fp_hit': 0, 'tn_hit': 94, 'fn_hit': 14}}, 'checkpoint': 20} \n",
      "\n",
      "\n",
      "{'accuracy': 0.8518518518518519, 'mean_square_error': 0.30971997852595506, 'categorical_crossentropy': 0.5165996198300962, 'essential_metrics': {0: {'tp_hit': 78, 'fp_hit': 24, 'tn_hit': 6, 'fn_hit': 0}, 1: {'tp_hit': 6, 'fp_hit': 0, 'tn_hit': 92, 'fn_hit': 10}, 2: {'tp_hit': 0, 'fp_hit': 0, 'tn_hit': 94, 'fn_hit': 14}}, 'checkpoint': 30} \n",
      "\n",
      "\n",
      "{'accuracy': 0.9382716049382716, 'mean_square_error': 0.23044180468517098, 'categorical_crossentropy': 0.4423080020480686, 'essential_metrics': {0: {'tp_hit': 75, 'fp_hit': 7, 'tn_hit': 23, 'fn_hit': 3}, 1: {'tp_hit': 14, 'fp_hit': 3, 'tn_hit': 89, 'fn_hit': 2}, 2: {'tp_hit': 9, 'fp_hit': 0, 'tn_hit': 94, 'fn_hit': 5}}, 'checkpoint': 40} \n",
      "\n",
      "\n",
      "{'accuracy': 0.9012345679012346, 'mean_square_error': 0.20944182181398052, 'categorical_crossentropy': 0.4033666893287941, 'essential_metrics': {0: {'tp_hit': 78, 'fp_hit': 16, 'tn_hit': 14, 'fn_hit': 0}, 1: {'tp_hit': 5, 'fp_hit': 0, 'tn_hit': 92, 'fn_hit': 11}, 2: {'tp_hit': 9, 'fp_hit': 0, 'tn_hit': 94, 'fn_hit': 5}}, 'checkpoint': 50} \n",
      "\n",
      "\n",
      "{'accuracy': 0.9135802469135802, 'mean_square_error': 0.2019054878495736, 'categorical_crossentropy': 0.3836229112413194, 'essential_metrics': {0: {'tp_hit': 78, 'fp_hit': 14, 'tn_hit': 16, 'fn_hit': 0}, 1: {'tp_hit': 6, 'fp_hit': 0, 'tn_hit': 92, 'fn_hit': 10}, 2: {'tp_hit': 10, 'fp_hit': 0, 'tn_hit': 94, 'fn_hit': 4}}, 'checkpoint': 60} \n",
      "\n",
      "\n",
      "{'accuracy': 0.9567901234567902, 'mean_square_error': 0.16052872082059513, 'categorical_crossentropy': 0.3239946718569155, 'essential_metrics': {0: {'tp_hit': 76, 'fp_hit': 5, 'tn_hit': 25, 'fn_hit': 2}, 1: {'tp_hit': 14, 'fp_hit': 1, 'tn_hit': 91, 'fn_hit': 2}, 2: {'tp_hit': 11, 'fp_hit': 1, 'tn_hit': 93, 'fn_hit': 3}}, 'checkpoint': 70} \n",
      "\n",
      "\n",
      "{'accuracy': 0.9382716049382716, 'mean_square_error': 0.15050017748883543, 'categorical_crossentropy': 0.29805430659541376, 'essential_metrics': {0: {'tp_hit': 77, 'fp_hit': 9, 'tn_hit': 21, 'fn_hit': 1}, 1: {'tp_hit': 15, 'fp_hit': 1, 'tn_hit': 91, 'fn_hit': 1}, 2: {'tp_hit': 6, 'fp_hit': 0, 'tn_hit': 94, 'fn_hit': 8}}, 'checkpoint': 80} \n",
      "\n",
      "\n",
      "{'accuracy': 0.9382716049382716, 'mean_square_error': 0.12504099049194617, 'categorical_crossentropy': 0.23714627159966362, 'essential_metrics': {0: {'tp_hit': 77, 'fp_hit': 9, 'tn_hit': 21, 'fn_hit': 1}, 1: {'tp_hit': 14, 'fp_hit': 1, 'tn_hit': 91, 'fn_hit': 2}, 2: {'tp_hit': 7, 'fp_hit': 0, 'tn_hit': 94, 'fn_hit': 7}}, 'checkpoint': 90} \n",
      "\n",
      "\n",
      "{'accuracy': 0.9691358024691358, 'mean_square_error': 0.09716557789012595, 'categorical_crossentropy': 0.19461001290215385, 'essential_metrics': {0: {'tp_hit': 76, 'fp_hit': 3, 'tn_hit': 27, 'fn_hit': 2}, 1: {'tp_hit': 16, 'fp_hit': 1, 'tn_hit': 91, 'fn_hit': 0}, 2: {'tp_hit': 11, 'fp_hit': 1, 'tn_hit': 93, 'fn_hit': 3}}, 'checkpoint': 100} \n",
      "\n",
      "\n",
      "{'accuracy': 0.9691358024691358, 'mean_square_error': 0.08864761723247122, 'categorical_crossentropy': 0.1806356112162272, 'essential_metrics': {0: {'tp_hit': 76, 'fp_hit': 3, 'tn_hit': 27, 'fn_hit': 2}, 1: {'tp_hit': 15, 'fp_hit': 1, 'tn_hit': 91, 'fn_hit': 1}, 2: {'tp_hit': 12, 'fp_hit': 1, 'tn_hit': 93, 'fn_hit': 2}}, 'checkpoint': 110} \n",
      "\n",
      "\n",
      "{'accuracy': 0.9629629629629629, 'mean_square_error': 0.08035270794933237, 'categorical_crossentropy': 0.15987120734320748, 'essential_metrics': {0: {'tp_hit': 75, 'fp_hit': 3, 'tn_hit': 27, 'fn_hit': 3}, 1: {'tp_hit': 15, 'fp_hit': 2, 'tn_hit': 90, 'fn_hit': 1}, 2: {'tp_hit': 12, 'fp_hit': 1, 'tn_hit': 93, 'fn_hit': 2}}, 'checkpoint': 120} \n",
      "\n",
      "\n",
      "{'accuracy': 0.9567901234567902, 'mean_square_error': 0.0911401203855186, 'categorical_crossentropy': 0.1690912953129521, 'essential_metrics': {0: {'tp_hit': 75, 'fp_hit': 4, 'tn_hit': 26, 'fn_hit': 3}, 1: {'tp_hit': 14, 'fp_hit': 1, 'tn_hit': 91, 'fn_hit': 2}, 2: {'tp_hit': 12, 'fp_hit': 2, 'tn_hit': 92, 'fn_hit': 2}}, 'checkpoint': 130} \n",
      "\n",
      "\n",
      "{'accuracy': 0.9567901234567902, 'mean_square_error': 0.0920222586522556, 'categorical_crossentropy': 0.1609241697523329, 'essential_metrics': {0: {'tp_hit': 75, 'fp_hit': 4, 'tn_hit': 26, 'fn_hit': 3}, 1: {'tp_hit': 14, 'fp_hit': 1, 'tn_hit': 91, 'fn_hit': 2}, 2: {'tp_hit': 12, 'fp_hit': 2, 'tn_hit': 92, 'fn_hit': 2}}, 'checkpoint': 140} \n",
      "\n",
      "\n",
      "{'accuracy': 0.9506172839506173, 'mean_square_error': 0.08818742733422129, 'categorical_crossentropy': 0.15733506944444445, 'essential_metrics': {0: {'tp_hit': 74, 'fp_hit': 4, 'tn_hit': 26, 'fn_hit': 4}, 1: {'tp_hit': 14, 'fp_hit': 2, 'tn_hit': 90, 'fn_hit': 2}, 2: {'tp_hit': 12, 'fp_hit': 2, 'tn_hit': 92, 'fn_hit': 2}}, 'checkpoint': 150} \n",
      "\n",
      "\n",
      "{'accuracy': 0.9506172839506173, 'mean_square_error': 0.09459725168007539, 'categorical_crossentropy': 0.15792867872450086, 'essential_metrics': {0: {'tp_hit': 73, 'fp_hit': 3, 'tn_hit': 27, 'fn_hit': 5}, 1: {'tp_hit': 15, 'fp_hit': 4, 'tn_hit': 88, 'fn_hit': 1}, 2: {'tp_hit': 12, 'fp_hit': 1, 'tn_hit': 93, 'fn_hit': 2}}, 'checkpoint': 160} \n",
      "\n",
      "\n",
      "{'accuracy': 0.9506172839506173, 'mean_square_error': 0.09446976932610751, 'categorical_crossentropy': 0.15759558147854275, 'essential_metrics': {0: {'tp_hit': 73, 'fp_hit': 3, 'tn_hit': 27, 'fn_hit': 5}, 1: {'tp_hit': 15, 'fp_hit': 3, 'tn_hit': 89, 'fn_hit': 1}, 2: {'tp_hit': 12, 'fp_hit': 2, 'tn_hit': 92, 'fn_hit': 2}}, 'checkpoint': 170} \n",
      "\n",
      "\n",
      "{'accuracy': 0.9506172839506173, 'mean_square_error': 0.09679291316454312, 'categorical_crossentropy': 0.15540606887252242, 'essential_metrics': {0: {'tp_hit': 72, 'fp_hit': 2, 'tn_hit': 28, 'fn_hit': 6}, 1: {'tp_hit': 16, 'fp_hit': 4, 'tn_hit': 88, 'fn_hit': 0}, 2: {'tp_hit': 12, 'fp_hit': 2, 'tn_hit': 92, 'fn_hit': 2}}, 'checkpoint': 180} \n",
      "\n",
      "\n",
      "{'accuracy': 0.9567901234567902, 'mean_square_error': 0.08602077200795383, 'categorical_crossentropy': 0.1392374215302644, 'essential_metrics': {0: {'tp_hit': 73, 'fp_hit': 2, 'tn_hit': 28, 'fn_hit': 5}, 1: {'tp_hit': 16, 'fp_hit': 3, 'tn_hit': 89, 'fn_hit': 0}, 2: {'tp_hit': 12, 'fp_hit': 2, 'tn_hit': 92, 'fn_hit': 2}}, 'checkpoint': 190} \n",
      "\n",
      "\n",
      "{'accuracy': 0.9567901234567902, 'mean_square_error': 0.08607759486442472, 'categorical_crossentropy': 0.14214296694155093, 'essential_metrics': {0: {'tp_hit': 73, 'fp_hit': 2, 'tn_hit': 28, 'fn_hit': 5}, 1: {'tp_hit': 16, 'fp_hit': 3, 'tn_hit': 89, 'fn_hit': 0}, 2: {'tp_hit': 12, 'fp_hit': 2, 'tn_hit': 92, 'fn_hit': 2}}, 'checkpoint': 200} \n",
      "\n",
      "\n"
     ]
    }
   ],
   "source": [
    "for checkpoint in checkpoints:\n",
    "    print(checkpoint, '\\n\\n')"
   ]
  },
  {
   "cell_type": "code",
   "execution_count": 14,
   "metadata": {},
   "outputs": [
    {
     "name": "stdout",
     "output_type": "stream",
     "text": [
      "Layer 1\n",
      "Neuron 0: weights:\n",
      "[-0.25132027 -3.          1.4467369   1.990253    2.9192295 ]\n",
      " bias: -1.6802924871444702\n",
      "\n",
      "Neuron 1: weights:\n",
      "[-1.9228923  2.7471993  2.747163   2.6807084  3.       ]\n",
      " bias: -0.11923780292272568\n",
      "\n",
      "Neuron 2: weights:\n",
      "[-2.1631558  3.         3.        -0.5286361 -1.3177147]\n",
      " bias: -2.848231077194214\n",
      "\n",
      "Neuron 3: weights:\n",
      "[-0.18349865  3.          1.3097779  -0.42859897 -3.        ]\n",
      " bias: 2.610201597213745\n",
      "\n",
      "$\n",
      "Layer 2\n",
      "Neuron 0: weights:\n",
      "[-2.3898406 -2.4255283 -3.         3.       ]\n",
      " bias: 2.3582940101623535\n",
      "\n",
      "Neuron 1: weights:\n",
      "[-3.         2.8865309  3.         2.0503433]\n",
      " bias: -3.0\n",
      "\n",
      "Neuron 2: weights:\n",
      "[ 3.         2.2074716 -3.        -3.       ]\n",
      " bias: 0.7237650752067566\n",
      "\n",
      "$\n",
      "\n"
     ]
    }
   ],
   "source": [
    "print(model)"
   ]
  },
  {
   "cell_type": "code",
   "execution_count": null,
   "metadata": {},
   "outputs": [],
   "source": []
  }
 ],
 "metadata": {
  "kernelspec": {
   "display_name": "Python 3",
   "language": "python",
   "name": "python3"
  },
  "language_info": {
   "codemirror_mode": {
    "name": "ipython",
    "version": 3
   },
   "file_extension": ".py",
   "mimetype": "text/x-python",
   "name": "python",
   "nbconvert_exporter": "python",
   "pygments_lexer": "ipython3",
   "version": "3.6.12"
  }
 },
 "nbformat": 4,
 "nbformat_minor": 2
}
