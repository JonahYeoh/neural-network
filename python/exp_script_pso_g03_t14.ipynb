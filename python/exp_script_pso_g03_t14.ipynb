{
 "cells": [
  {
   "cell_type": "code",
   "execution_count": 1,
   "metadata": {},
   "outputs": [],
   "source": [
    "# dependency\n",
    "import numpy as np\n",
    "import pandas as pd\n",
    "import copy\n",
    "import math\n",
    "import sys\n",
    "import os\n",
    "from activations import relu, leaky_relu, sigmoid, tanh, softmax, d_sigmoid, d_relu\n",
    "from initializers import glorot_uniform, random_normal, random_uniform\n",
    "from regularizers import l1_regularizer, l2_regularizer\n",
    "from utility import trim_tail, multiply, subtract, get_nparams, one_hot_encoding, get_data\n",
    "from metrics import MSE, CCE, ACC, PRECISION, RECALL, essential_metrics, wondering_penalty, close_gap_penalty\n",
    "from pso import PSO\n",
    "from ga import GA\n",
    "from nn import Network\n",
    "from layer import DenseLayer\n",
    "from scalers import MinMaxScaler, StandardScaler"
   ]
  },
  {
   "cell_type": "code",
   "execution_count": 2,
   "metadata": {},
   "outputs": [],
   "source": [
    "# reference\n",
    "metrics_fn_dict = dict()\n",
    "metrics_fn_dict['accuracy'] = ACC\n",
    "metrics_fn_dict['categorical_crossentropy'] = CCE\n",
    "metrics_fn_dict['mean_square_error'] = MSE\n",
    "metrics_fn_dict['precision'] = PRECISION\n",
    "metrics_fn_dict['recall'] = RECALL\n",
    "metrics_fn_dict['essential_metrics'] = essential_metrics"
   ]
  },
  {
   "cell_type": "code",
   "execution_count": 3,
   "metadata": {},
   "outputs": [],
   "source": [
    "# model\n",
    "model = Network(5, lr = None)\n",
    "model.add_layer(DenseLayer(1, 4, True, afn=sigmoid, dafn=None, rfn=None))\n",
    "model.add_layer(DenseLayer(2, 3, True, afn=softmax, dafn=None, rfn=None))"
   ]
  },
  {
   "cell_type": "code",
   "execution_count": 4,
   "metadata": {},
   "outputs": [
    {
     "name": "stdout",
     "output_type": "stream",
     "text": [
      "see one see two 2 2\n"
     ]
    }
   ],
   "source": [
    "pso = PSO(dict(m = 50,\n",
    "    weight_constraint = [-3, 3], \n",
    "    velocity_constraint = [-0.1, 0.1],\n",
    "    c1 = 2,\n",
    "    c2 = 2,\n",
    "    w = 0.8,\n",
    "    w_decay = 1,\n",
    "    scale_hyperparameter = False,\n",
    "    regularizer = None,\n",
    "    mask = True))"
   ]
  },
  {
   "cell_type": "code",
   "execution_count": 5,
   "metadata": {},
   "outputs": [
    {
     "name": "stdout",
     "output_type": "stream",
     "text": [
      "building layer 1 with 5\n",
      "24\n",
      "building layer 2 with 4\n",
      "15\n"
     ]
    }
   ],
   "source": [
    "model.compile(loss_fn = 'categorical_crossentropy', optimizer = pso, \\\n",
    "    metrics = ['accuracy', 'mean_square_error', 'categorical_crossentropy'])"
   ]
  },
  {
   "cell_type": "code",
   "execution_count": 6,
   "metadata": {},
   "outputs": [
    {
     "name": "stdout",
     "output_type": "stream",
     "text": [
      "<class 'pandas.core.frame.DataFrame'>\n",
      "RangeIndex: 107 entries, 0 to 106\n",
      "Data columns (total 6 columns):\n",
      " #   Column  Non-Null Count  Dtype  \n",
      "---  ------  --------------  -----  \n",
      " 0   f1      107 non-null    float32\n",
      " 1   f2      107 non-null    float32\n",
      " 2   f3      107 non-null    float32\n",
      " 3   f4      107 non-null    float32\n",
      " 4   f5      107 non-null    float32\n",
      " 5   label   107 non-null    float32\n",
      "dtypes: float32(6)\n",
      "memory usage: 2.6 KB\n",
      "None\n",
      "<class 'pandas.core.frame.DataFrame'>\n",
      "RangeIndex: 108 entries, 0 to 107\n",
      "Data columns (total 6 columns):\n",
      " #   Column  Non-Null Count  Dtype  \n",
      "---  ------  --------------  -----  \n",
      " 0   f1      108 non-null    float32\n",
      " 1   f2      108 non-null    float32\n",
      " 2   f3      108 non-null    float32\n",
      " 3   f4      108 non-null    float32\n",
      " 4   f5      108 non-null    float32\n",
      " 5   label   108 non-null    float32\n",
      "dtypes: float32(6)\n",
      "memory usage: 2.7 KB\n",
      "None\n"
     ]
    }
   ],
   "source": [
    "# data loading\n",
    "DATA = os.path.join('c:\\\\Users\\\\tcumi\\\\github_repo\\\\neural-network\\\\', 'dataset')\n",
    "GROUP = 3\n",
    "COLUMNS = ['f1', 'f2', 'f3', 'f4', 'f5', 'label']\n",
    "N_CLASS = 3\n",
    "EPOCHS = 500\n",
    "train_dir, test_dir = \"..//dataset//training_data{}.txt\".format(GROUP), \"..//dataset//testing_data{}.txt\".format(GROUP)\n",
    "train, test = get_data(DATA, train_dir, COLUMNS), get_data(DATA, test_dir, COLUMNS)\n",
    "# shuffle\n",
    "train, test = train.sample(frac=1), test.sample(frac=1)\n",
    "x_train, y_train = train.drop('label', axis=1), train['label']\n",
    "x_test, y_test = test.drop('label', axis=1), test['label']"
   ]
  },
  {
   "cell_type": "code",
   "execution_count": 7,
   "metadata": {},
   "outputs": [],
   "source": [
    "# data scaling and encoding\n",
    "scaler = StandardScaler(['f1', 'f2', 'f3', 'f4', 'f5'])\n",
    "scaler.fit(x_train)\n",
    "x_train = scaler.transform(x_train)\n",
    "x_test = scaler.transform(x_test)\n",
    "y_train = one_hot_encoding(y_train, N_CLASS)\n",
    "y_test = one_hot_encoding(y_test, N_CLASS)"
   ]
  },
  {
   "cell_type": "code",
   "execution_count": 8,
   "metadata": {
    "tags": [
     "outputPrepend"
    ]
   },
   "outputs": [
    {
     "name": "stdout",
     "output_type": "stream",
     "text": [
      "Checkpoint 100, Accuracy: 0.9506172839506173, Loss: 0.2706761183562102\n",
      "Checkpoint 200, Accuracy: 0.9691358024691358, Loss: 0.1373826751002559\n",
      "Checkpoint 300, Accuracy: 0.9691358024691358, Loss: 0.11834000658105921\n",
      "Checkpoint 400, Accuracy: 0.9691358024691358, Loss: 0.11831774535002532\n",
      "Checkpoint 500, Accuracy: 0.9691358024691358, Loss: 0.11696856993216055\n"
     ]
    }
   ],
   "source": [
    "# learning phase\n",
    "breakpoint = 100\n",
    "checkpoints = list()\n",
    "history = list()\n",
    "for century in range(0, EPOCHS, breakpoint):\n",
    "    sub_history = model.fit(x_train, y_train, breakpoint, verbose = 0)\n",
    "    score = model.evaluate(x_test, y_test, False, verbose = 0)\n",
    "    print('Checkpoint {}, Accuracy: {}, Loss: {}'.format(century+breakpoint, score['accuracy'], score[model.loss_fn]))\n",
    "    score['checkpoint'] = century + breakpoint\n",
    "    checkpoints.append(score)\n",
    "    history.extend(sub_history)"
   ]
  },
  {
   "cell_type": "code",
   "execution_count": 9,
   "metadata": {},
   "outputs": [],
   "source": [
    "import matplotlib.pyplot as plt\n",
    "\n",
    "def draw_plot(x, y_list, x_label=None, y_label=None, legend=None, title=None):\n",
    "    fig, ax = plt.subplots(figsize=(12,5))\n",
    "    for xi, yi in zip(x, y_list):\n",
    "        ax.plot(xi, yi)\n",
    "    if x_label is not None and y_label is not None:\n",
    "        ax.set(xlabel=x_label, ylabel=y_label, title='{} VS {}'.format(x_label, y_label))\n",
    "    if legend is not None:\n",
    "        ax.legend(legend)\n",
    "    ax.grid()\n",
    "    plt.show()"
   ]
  },
  {
   "cell_type": "code",
   "execution_count": 10,
   "metadata": {},
   "outputs": [
    {
     "name": "stdout",
     "output_type": "stream",
     "text": [
      "[1. 0. 0.] <-> [0.90336025 0.00111127 0.09552848]\n",
      "[1. 0. 0.] <-> [0.9954092  0.00141332 0.00317755]\n",
      "[0. 1. 0.] <-> [5.0862185e-03 9.9487740e-01 3.6429206e-05]\n",
      "[1. 0. 0.] <-> [0.97740173 0.00138524 0.02121307]\n",
      "[0. 0. 1.] <-> [1.9499009e-02 3.0116109e-05 9.8047090e-01]\n",
      "[1. 0. 0.] <-> [0.99376076 0.00157258 0.0046666 ]\n",
      "[1. 0. 0.] <-> [0.9930896  0.00132695 0.00558342]\n",
      "[0. 0. 1.] <-> [2.560119e-02 4.044359e-05 9.743584e-01]\n",
      "[1. 0. 0.] <-> [0.9507404  0.04585624 0.00340339]\n",
      "[0. 0. 1.] <-> [1.0602131e-02 1.6761500e-05 9.8938107e-01]\n",
      "[1. 0. 0.] <-> [0.98042417 0.00200756 0.01756823]\n",
      "[1. 0. 0.] <-> [0.99355316 0.00238528 0.00406159]\n",
      "[0. 0. 1.] <-> [0.75288385 0.0009172  0.24619894]\n",
      "[1. 0. 0.] <-> [0.9871106  0.00953165 0.0033578 ]\n",
      "[1. 0. 0.] <-> [0.5334277  0.4639052  0.00266717]\n",
      "[1. 0. 0.] <-> [0.9762675  0.00658666 0.0171458 ]\n",
      "[0. 0. 1.] <-> [0.81146985 0.00101235 0.18751778]\n",
      "[1. 0. 0.] <-> [0.9909586  0.00249252 0.0065489 ]\n",
      "[0. 1. 0.] <-> [5.0506298e-03 9.9491322e-01 3.6125646e-05]\n",
      "[0. 1. 0.] <-> [5.0520790e-03 9.9491173e-01 3.6157715e-05]\n",
      "[0. 0. 1.] <-> [9.8834382e-03 1.5611473e-05 9.9010098e-01]\n",
      "[1. 0. 0.] <-> [0.9929349  0.00157747 0.00548763]\n",
      "[0. 0. 1.] <-> [2.6995020e-02 4.2640368e-05 9.7296238e-01]\n",
      "[1. 0. 0.] <-> [0.9949721  0.00182682 0.00320108]\n",
      "[1. 0. 0.] <-> [0.994622   0.00203973 0.00333832]\n",
      "[0. 1. 0.] <-> [0.20764825 0.7913034  0.00104836]\n",
      "[0. 0. 1.] <-> [7.2398737e-02 1.1422698e-04 9.2748702e-01]\n",
      "[1. 0. 0.] <-> [0.9944159  0.00172893 0.00385512]\n",
      "[0. 0. 1.] <-> [3.9791653e-01 4.9613987e-04 6.0158736e-01]\n",
      "[1. 0. 0.] <-> [0.9882238  0.0013234  0.01045279]\n",
      "[1. 0. 0.] <-> [0.9897432  0.00157495 0.00868184]\n",
      "[1. 0. 0.] <-> [1.4837679e-01 2.2813473e-04 8.5139501e-01]\n",
      "[1. 0. 0.] <-> [0.9948133  0.00203139 0.00315529]\n",
      "[1. 0. 0.] <-> [0.97084147 0.02564106 0.00351752]\n",
      "[0. 1. 0.] <-> [1.8833997e-02 9.8104870e-01 1.1732290e-04]\n",
      "[0. 1. 0.] <-> [5.0506298e-03 9.9491322e-01 3.6125715e-05]\n",
      "[0. 1. 0.] <-> [1.1877521e-02 9.8804307e-01 7.9363621e-05]\n",
      "[1. 0. 0.] <-> [0.98888177 0.00122758 0.00989075]\n",
      "[1. 0. 0.] <-> [0.9947448  0.00131497 0.00394028]\n",
      "[0. 1. 0.] <-> [1.44706927e-02 9.85410571e-01 1.18777294e-04]\n",
      "[0. 1. 0.] <-> [5.0689662e-03 9.9489474e-01 3.6314643e-05]\n",
      "[1. 0. 0.] <-> [0.992653   0.00268559 0.00466139]\n",
      "[1. 0. 0.] <-> [0.9914539  0.00123142 0.00731475]\n",
      "[1. 0. 0.] <-> [0.99398273 0.00194729 0.00406995]\n",
      "[1. 0. 0.] <-> [0.9932515  0.00289008 0.00385848]\n",
      "[0. 0. 1.] <-> [9.6920542e-02 1.4274391e-04 9.0293670e-01]\n",
      "[1. 0. 0.] <-> [0.98921484 0.0012581  0.00952704]\n",
      "[0. 0. 1.] <-> [9.596817e-03 1.516178e-05 9.903880e-01]\n",
      "[1. 0. 0.] <-> [0.9847609  0.01191167 0.00332742]\n",
      "[1. 0. 0.] <-> [0.73959434 0.25717843 0.00322729]\n",
      "[1. 0. 0.] <-> [0.99393505 0.00141516 0.00464972]\n",
      "[1. 0. 0.] <-> [0.99456847 0.00158896 0.00384255]\n",
      "[1. 0. 0.] <-> [0.994239   0.00243586 0.00332513]\n",
      "[1. 0. 0.] <-> [0.9945734  0.00221372 0.00321287]\n",
      "[1. 0. 0.] <-> [0.9945834  0.00161928 0.0037972 ]\n",
      "[1. 0. 0.] <-> [0.979753   0.00127479 0.01897219]\n",
      "[0. 1. 0.] <-> [5.9986510e-03 9.9395895e-01 4.2476218e-05]\n",
      "[1. 0. 0.] <-> [0.99339193 0.0016639  0.0049441 ]\n",
      "[0. 0. 1.] <-> [9.5926160e-03 1.5153952e-05 9.9039221e-01]\n",
      "[1. 0. 0.] <-> [0.99470735 0.00127952 0.0040132 ]\n",
      "[1. 0. 0.] <-> [0.9909038  0.00560963 0.00348663]\n",
      "[1. 0. 0.] <-> [0.9937529  0.00308561 0.00316143]\n",
      "[1. 0. 0.] <-> [0.9928583  0.0029314  0.00421035]\n",
      "[1. 0. 0.] <-> [0.9840147  0.00121643 0.01476893]\n",
      "[1. 0. 0.] <-> [0.993451   0.00228373 0.00426522]\n",
      "[1. 0. 0.] <-> [0.9947431  0.00183148 0.00342538]\n",
      "[1. 0. 0.] <-> [0.99416274 0.00132919 0.00450799]\n",
      "[1. 0. 0.] <-> [0.98363286 0.00132463 0.01504241]\n",
      "[1. 0. 0.] <-> [0.9829607  0.01333621 0.0037031 ]\n",
      "[1. 0. 0.] <-> [0.7172666  0.2793486  0.00338478]\n",
      "[1. 0. 0.] <-> [0.98918086 0.00501595 0.00580322]\n",
      "[1. 0. 0.] <-> [0.9731311  0.00120575 0.02566312]\n",
      "[1. 0. 0.] <-> [0.38165075 0.6164829  0.00186635]\n",
      "[1. 0. 0.] <-> [0.9695532  0.00504488 0.02540202]\n",
      "[1. 0. 0.] <-> [0.97692704 0.00124539 0.02182755]\n",
      "[1. 0. 0.] <-> [0.99499977 0.00143944 0.00356073]\n",
      "[1. 0. 0.] <-> [0.9920142  0.00127786 0.0067079 ]\n",
      "[1. 0. 0.] <-> [0.9905752  0.00138218 0.00804257]\n",
      "[1. 0. 0.] <-> [0.99351704 0.00145772 0.0050253 ]\n",
      "[0. 0. 1.] <-> [9.5971832e-03 1.5161875e-05 9.9038762e-01]\n",
      "[1. 0. 0.] <-> [0.993339   0.00286077 0.00380015]\n",
      "[1. 0. 0.] <-> [0.9950824  0.00135656 0.00356107]\n",
      "[0. 1. 0.] <-> [5.0506420e-03 9.9491322e-01 3.6128713e-05]\n",
      "[1. 0. 0.] <-> [0.99467504 0.00135152 0.00397346]\n",
      "[1. 0. 0.] <-> [0.9907355  0.00499613 0.00426826]\n",
      "[0. 1. 0.] <-> [5.0506275e-03 9.9491322e-01 3.6125854e-05]\n",
      "[1. 0. 0.] <-> [0.9945339  0.00137053 0.00409561]\n",
      "[1. 0. 0.] <-> [0.986783   0.00121419 0.01200271]\n",
      "[0. 1. 0.] <-> [5.0490503e-03 9.9491465e-01 3.6306057e-05]\n",
      "[1. 0. 0.] <-> [0.9952833  0.00167366 0.00304305]\n",
      "[1. 0. 0.] <-> [0.9942932  0.00253914 0.00316768]\n",
      "[1. 0. 0.] <-> [0.96391666 0.00142789 0.03465554]\n",
      "[0. 0. 1.] <-> [1.6582623e-02 2.6193904e-05 9.8339117e-01]\n",
      "[0. 1. 0.] <-> [1.7775631e-02 9.8210794e-01 1.1643559e-04]\n",
      "[1. 0. 0.] <-> [0.9784434  0.00132532 0.02023119]\n",
      "[1. 0. 0.] <-> [0.9898739  0.00413402 0.0059921 ]\n",
      "[0. 1. 0.] <-> [0.27312225 0.71011484 0.0167629 ]\n",
      "[1. 0. 0.] <-> [0.8747696  0.00120196 0.12402841]\n",
      "[1. 0. 0.] <-> [0.9943245  0.00179883 0.00387661]\n",
      "[1. 0. 0.] <-> [0.7692281  0.00114669 0.22962518]\n",
      "[1. 0. 0.] <-> [0.8015741  0.19497015 0.00345579]\n",
      "[0. 1. 0.] <-> [4.9231380e-02 9.5048153e-01 2.8708816e-04]\n",
      "[1. 0. 0.] <-> [0.9947626  0.00166268 0.00357471]\n",
      "[1. 0. 0.] <-> [0.80033875 0.00098429 0.19867697]\n",
      "[1. 0. 0.] <-> [1.1345295e-01 8.8592571e-01 6.2126986e-04]\n",
      "[1. 0. 0.] <-> [0.99452305 0.00124889 0.0042281 ]\n",
      "[1. 0. 0.] <-> [0.99062586 0.00131166 0.00806253]\n",
      "[1. 0. 0.] <-> [0.99469674 0.00179929 0.00350396]\n",
      "{'accuracy': 0.9691358024691358, 'mean_square_error': 0.07316578492957966, 'categorical_crossentropy': 0.11696856993216055, 'essential_metrics': {0: {'tp_hit': 75, 'fp_hit': 2, 'tn_hit': 28, 'fn_hit': 3}, 1: {'tp_hit': 16, 'fp_hit': 2, 'tn_hit': 90, 'fn_hit': 0}, 2: {'tp_hit': 12, 'fp_hit': 1, 'tn_hit': 93, 'fn_hit': 2}}}\n"
     ]
    }
   ],
   "source": [
    "# recall phase\n",
    "score = model.evaluate(x_test, y_test, False)\n",
    "print(score)"
   ]
  },
  {
   "cell_type": "code",
   "execution_count": 11,
   "metadata": {},
   "outputs": [
    {
     "data": {
      "image/png": "[encoded data removed]",
      "text/plain": [
       "<Figure size 864x360 with 1 Axes>"
      ]
     },
     "metadata": {
      "needs_background": "light"
     },
     "output_type": "display_data"
    },
    {
     "data": {
      "image/png": "[encoded data removed]",
      "text/plain": [
       "<Figure size 864x360 with 1 Axes>"
      ]
     },
     "metadata": {
      "needs_background": "light"
     },
     "output_type": "display_data"
    }
   ],
   "source": [
    "draw_plot(x = [[i for i in range(len(history))], [(i+1)*breakpoint for i in range(len(checkpoints))]], y_list = [history, [ ckp[model.loss_fn] for ckp in checkpoints ]], x_label = 'Epochs', \\\n",
    "    y_label = model.loss_fn, legend=['train', 'test'])\n",
    "acc = [ ckp['accuracy'] for ckp in checkpoints ]\n",
    "draw_plot(x = [[(i+1)*breakpoint for i in range(len(checkpoints))]], y_list = [acc], x_label = 'Checkpoints', \\\n",
    "    y_label = 'accuracy')"
   ]
  },
  {
   "cell_type": "code",
   "execution_count": 12,
   "metadata": {},
   "outputs": [
    {
     "name": "stdout",
     "output_type": "stream",
     "text": [
      "{'accuracy': 0.9506172839506173, 'mean_square_error': 0.12527780972547628, 'categorical_crossentropy': 0.2706761183562102, 'essential_metrics': {0: {'tp_hit': 77, 'fp_hit': 5, 'tn_hit': 25, 'fn_hit': 1}, 1: {'tp_hit': 13, 'fp_hit': 1, 'tn_hit': 91, 'fn_hit': 3}, 2: {'tp_hit': 10, 'fp_hit': 2, 'tn_hit': 92, 'fn_hit': 4}}, 'checkpoint': 100} \n",
      "\n",
      "\n",
      "{'accuracy': 0.9691358024691358, 'mean_square_error': 0.07301880955974321, 'categorical_crossentropy': 0.1373826751002559, 'essential_metrics': {0: {'tp_hit': 75, 'fp_hit': 2, 'tn_hit': 28, 'fn_hit': 3}, 1: {'tp_hit': 16, 'fp_hit': 2, 'tn_hit': 90, 'fn_hit': 0}, 2: {'tp_hit': 12, 'fp_hit': 1, 'tn_hit': 93, 'fn_hit': 2}}, 'checkpoint': 200} \n",
      "\n",
      "\n",
      "{'accuracy': 0.9691358024691358, 'mean_square_error': 0.0746939465736186, 'categorical_crossentropy': 0.11834000658105921, 'essential_metrics': {0: {'tp_hit': 75, 'fp_hit': 2, 'tn_hit': 28, 'fn_hit': 3}, 1: {'tp_hit': 16, 'fp_hit': 2, 'tn_hit': 90, 'fn_hit': 0}, 2: {'tp_hit': 12, 'fp_hit': 1, 'tn_hit': 93, 'fn_hit': 2}}, 'checkpoint': 300} \n",
      "\n",
      "\n",
      "{'accuracy': 0.9691358024691358, 'mean_square_error': 0.07430891642613803, 'categorical_crossentropy': 0.11831774535002532, 'essential_metrics': {0: {'tp_hit': 75, 'fp_hit': 2, 'tn_hit': 28, 'fn_hit': 3}, 1: {'tp_hit': 16, 'fp_hit': 2, 'tn_hit': 90, 'fn_hit': 0}, 2: {'tp_hit': 12, 'fp_hit': 1, 'tn_hit': 93, 'fn_hit': 2}}, 'checkpoint': 400} \n",
      "\n",
      "\n",
      "{'accuracy': 0.9691358024691358, 'mean_square_error': 0.07316578492957966, 'categorical_crossentropy': 0.11696856993216055, 'essential_metrics': {0: {'tp_hit': 75, 'fp_hit': 2, 'tn_hit': 28, 'fn_hit': 3}, 1: {'tp_hit': 16, 'fp_hit': 2, 'tn_hit': 90, 'fn_hit': 0}, 2: {'tp_hit': 12, 'fp_hit': 1, 'tn_hit': 93, 'fn_hit': 2}}, 'checkpoint': 500} \n",
      "\n",
      "\n"
     ]
    }
   ],
   "source": [
    "for checkpoint in checkpoints:\n",
    "    print(checkpoint, '\\n\\n')"
   ]
  },
  {
   "cell_type": "code",
   "execution_count": 13,
   "metadata": {},
   "outputs": [
    {
     "name": "stdout",
     "output_type": "stream",
     "text": [
      "Layer 1\n",
      "Neuron 0: weights:\n",
      "[-3.  3. -3. -3. -3.]\n",
      " bias: 3.0\n",
      "\n",
      "Neuron 1: weights:\n",
      "[ 2.116081   -3.         -3.          1.5774275   0.91783535]\n",
      " bias: 3.0\n",
      "\n",
      "Neuron 2: weights:\n",
      "[ 2.079145 -3.       -3.       -3.        3.      ]\n",
      " bias: 3.0\n",
      "\n",
      "Neuron 3: weights:\n",
      "[-0.76176983 -3.         -1.5189935   0.38478267  3.        ]\n",
      " bias: -3.0\n",
      "\n",
      "$\n",
      "Layer 2\n",
      "Neuron 0: weights:\n",
      "[ 1.4897772  3.         3.        -3.       ]\n",
      " bias: -2.549510955810547\n",
      "\n",
      "Neuron 1: weights:\n",
      "[ 1.223409 -3.       -3.       -3.      ]\n",
      " bias: 3.0\n",
      "\n",
      "Neuron 2: weights:\n",
      "[-3.         3.         2.0875978  3.       ]\n",
      " bias: -3.0\n",
      "\n",
      "$\n",
      "\n"
     ]
    }
   ],
   "source": [
    "print(model)"
   ]
  }
 ],
 "metadata": {
  "kernelspec": {
   "display_name": "Python 3",
   "language": "python",
   "name": "python3"
  },
  "language_info": {
   "codemirror_mode": {
    "name": "ipython",
    "version": 3
   },
   "file_extension": ".py",
   "mimetype": "text/x-python",
   "name": "python",
   "nbconvert_exporter": "python",
   "pygments_lexer": "ipython3",
   "version": "3.6.10"
  }
 },
 "nbformat": 4,
 "nbformat_minor": 2
}
