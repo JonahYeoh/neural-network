{
 "cells": [
  {
   "cell_type": "code",
   "execution_count": 1,
   "metadata": {},
   "outputs": [],
   "source": [
    "# dependency\n",
    "import numpy as np\n",
    "import pandas as pd\n",
    "import copy\n",
    "import math\n",
    "import sys\n",
    "import os\n",
    "from activations import relu, leaky_relu, sigmoid, tanh, softmax, d_sigmoid, d_relu\n",
    "from initializers import glorot_uniform, random_normal, random_uniform\n",
    "from regularizers import l1_regularizer, l2_regularizer\n",
    "from utility import trim_tail, multiply, subtract, get_nparams, one_hot_encoding, get_data\n",
    "from metrics import MSE, CCE, ACC, PRECISION, RECALL, essential_metrics, wondering_penalty, close_gap_penalty\n",
    "from pso import PSO\n",
    "from ga import GA\n",
    "from nn import Network\n",
    "from layer import DenseLayer\n",
    "from scalers import MinMaxScaler, StandardScaler"
   ]
  },
  {
   "cell_type": "code",
   "execution_count": 2,
   "metadata": {},
   "outputs": [],
   "source": [
    "# reference\n",
    "metrics_fn_dict = dict()\n",
    "metrics_fn_dict['accuracy'] = ACC\n",
    "metrics_fn_dict['categorical_crossentropy'] = CCE\n",
    "metrics_fn_dict['mean_square_error'] = MSE\n",
    "metrics_fn_dict['precision'] = PRECISION\n",
    "metrics_fn_dict['recall'] = RECALL\n",
    "metrics_fn_dict['essential_metrics'] = essential_metrics"
   ]
  },
  {
   "cell_type": "code",
   "execution_count": 3,
   "metadata": {},
   "outputs": [],
   "source": [
    "# model\n",
    "model = Network(5, lr = None)\n",
    "model.add_layer(DenseLayer(1, 4, True, afn=sigmoid, dafn=None, rfn=None))\n",
    "model.add_layer(DenseLayer(2, 3, True, afn=softmax, dafn=None, rfn=None))"
   ]
  },
  {
   "cell_type": "code",
   "execution_count": 4,
   "metadata": {},
   "outputs": [
    {
     "name": "stdout",
     "output_type": "stream",
     "text": [
      "see one see two 2 2\n"
     ]
    }
   ],
   "source": [
    "pso = PSO(dict(m = 50,\n",
    "    weight_constraint = [-3, 3], \n",
    "    velocity_constraint = [-0.1, 0.1],\n",
    "    c1 = 2,\n",
    "    c2 = 2,\n",
    "    w = 0.8,\n",
    "    w_decay = 1,\n",
    "    scale_hyperparameter = False,\n",
    "    regularizer = None,\n",
    "    mask = True))"
   ]
  },
  {
   "cell_type": "code",
   "execution_count": 5,
   "metadata": {},
   "outputs": [
    {
     "name": "stdout",
     "output_type": "stream",
     "text": [
      "building layer 1 with 5\n",
      "24\n",
      "building layer 2 with 4\n",
      "15\n"
     ]
    }
   ],
   "source": [
    "model.compile(loss_fn = 'categorical_crossentropy', optimizer = pso, \\\n",
    "    metrics = ['accuracy', 'mean_square_error', 'categorical_crossentropy'])"
   ]
  },
  {
   "cell_type": "code",
   "execution_count": 6,
   "metadata": {},
   "outputs": [
    {
     "name": "stdout",
     "output_type": "stream",
     "text": [
      "<class 'pandas.core.frame.DataFrame'>\n",
      "RangeIndex: 107 entries, 0 to 106\n",
      "Data columns (total 6 columns):\n",
      " #   Column  Non-Null Count  Dtype  \n",
      "---  ------  --------------  -----  \n",
      " 0   f1      107 non-null    float32\n",
      " 1   f2      107 non-null    float32\n",
      " 2   f3      107 non-null    float32\n",
      " 3   f4      107 non-null    float32\n",
      " 4   f5      107 non-null    float32\n",
      " 5   label   107 non-null    float32\n",
      "dtypes: float32(6)\n",
      "memory usage: 2.6 KB\n",
      "None\n",
      "<class 'pandas.core.frame.DataFrame'>\n",
      "RangeIndex: 108 entries, 0 to 107\n",
      "Data columns (total 6 columns):\n",
      " #   Column  Non-Null Count  Dtype  \n",
      "---  ------  --------------  -----  \n",
      " 0   f1      108 non-null    float32\n",
      " 1   f2      108 non-null    float32\n",
      " 2   f3      108 non-null    float32\n",
      " 3   f4      108 non-null    float32\n",
      " 4   f5      108 non-null    float32\n",
      " 5   label   108 non-null    float32\n",
      "dtypes: float32(6)\n",
      "memory usage: 2.7 KB\n",
      "None\n"
     ]
    }
   ],
   "source": [
    "# data loading\n",
    "DATA = os.path.join('c:\\\\Users\\\\tcumi\\\\github_repo\\\\neural-network\\\\', 'dataset')\n",
    "GROUP = 3\n",
    "COLUMNS = ['f1', 'f2', 'f3', 'f4', 'f5', 'label']\n",
    "N_CLASS = 3\n",
    "EPOCHS = 500\n",
    "train_dir, test_dir = \"..//dataset//training_data{}.txt\".format(GROUP), \"..//dataset//testing_data{}.txt\".format(GROUP)\n",
    "train, test = get_data(DATA, train_dir, COLUMNS), get_data(DATA, test_dir, COLUMNS)\n",
    "# shuffle\n",
    "train, test = train.sample(frac=1), test.sample(frac=1)\n",
    "x_train, y_train = train.drop('label', axis=1), train['label']\n",
    "x_test, y_test = test.drop('label', axis=1), test['label']"
   ]
  },
  {
   "cell_type": "code",
   "execution_count": 7,
   "metadata": {},
   "outputs": [],
   "source": [
    "# data scaling and encoding\n",
    "scaler = StandardScaler(['f1', 'f2', 'f3', 'f4', 'f5'])\n",
    "scaler.fit(x_train)\n",
    "x_train = scaler.transform(x_train)\n",
    "x_test = scaler.transform(x_test)\n",
    "y_train = one_hot_encoding(y_train, N_CLASS)\n",
    "y_test = one_hot_encoding(y_test, N_CLASS)"
   ]
  },
  {
   "cell_type": "code",
   "execution_count": 8,
   "metadata": {
    "tags": [
     "outputPrepend"
    ]
   },
   "outputs": [
    {
     "name": "stdout",
     "output_type": "stream",
     "text": [
      "Checkpoint 100, Accuracy: 0.9629629629629629, Loss: 0.2420956470348217\n",
      "Checkpoint 200, Accuracy: 0.9629629629629629, Loss: 0.1366573174794515\n",
      "Checkpoint 300, Accuracy: 0.9629629629629629, Loss: 0.1102858825966164\n",
      "Checkpoint 400, Accuracy: 0.9629629629629629, Loss: 0.10884639068886086\n",
      "Checkpoint 500, Accuracy: 0.9691358024691358, Loss: 0.10682413313123915\n"
     ]
    }
   ],
   "source": [
    "# learning phase\n",
    "breakpoint = 100\n",
    "checkpoints = list()\n",
    "history = list()\n",
    "for century in range(0, EPOCHS, breakpoint):\n",
    "    sub_history = model.fit(x_train, y_train, breakpoint, verbose = 0)\n",
    "    score = model.evaluate(x_test, y_test, False, verbose = 0)\n",
    "    print('Checkpoint {}, Accuracy: {}, Loss: {}'.format(century+breakpoint, score['accuracy'], score[model.loss_fn]))\n",
    "    score['checkpoint'] = century + breakpoint\n",
    "    checkpoints.append(score)\n",
    "    history.extend(sub_history)"
   ]
  },
  {
   "cell_type": "code",
   "execution_count": 9,
   "metadata": {},
   "outputs": [],
   "source": [
    "import matplotlib.pyplot as plt\n",
    "\n",
    "def draw_plot(x, y_list, x_label=None, y_label=None, legend=None, title=None):\n",
    "    fig, ax = plt.subplots(figsize=(12,5))\n",
    "    for xi, yi in zip(x, y_list):\n",
    "        ax.plot(xi, yi)\n",
    "    if x_label is not None and y_label is not None:\n",
    "        ax.set(xlabel=x_label, ylabel=y_label, title='{} VS {}'.format(x_label, y_label))\n",
    "    if legend is not None:\n",
    "        ax.legend(legend)\n",
    "    ax.grid()\n",
    "    plt.show()"
   ]
  },
  {
   "cell_type": "code",
   "execution_count": 10,
   "metadata": {},
   "outputs": [
    {
     "name": "stdout",
     "output_type": "stream",
     "text": [
      "[1. 0. 0.] <-> [0.55317914 0.44605663 0.00076425]\n",
      "[1. 0. 0.] <-> [0.99698025 0.00154959 0.0014702 ]\n",
      "[1. 0. 0.] <-> [0.98778254 0.00327315 0.00894431]\n",
      "[1. 0. 0.] <-> [0.977373   0.00209335 0.02053359]\n",
      "[1. 0. 0.] <-> [0.9938956  0.00184961 0.00425474]\n",
      "[1. 0. 0.] <-> [0.98873377 0.01002522 0.001241  ]\n",
      "[1. 0. 0.] <-> [0.99664694 0.00125805 0.002095  ]\n",
      "[0. 1. 0.] <-> [6.318651e-03 9.936739e-01 7.430227e-06]\n",
      "[1. 0. 0.] <-> [0.94656384 0.00216377 0.05127234]\n",
      "[1. 0. 0.] <-> [0.9968454  0.00155981 0.00159475]\n",
      "[0. 1. 0.] <-> [6.3173580e-03 9.9367517e-01 7.4327245e-06]\n",
      "[1. 0. 0.] <-> [0.98196375 0.01670472 0.00133151]\n",
      "[1. 0. 0.] <-> [0.9967601  0.00173878 0.00150123]\n",
      "[1. 0. 0.] <-> [0.9890497  0.00156974 0.00938054]\n",
      "[1. 0. 0.] <-> [0.99605054 0.00145236 0.00249706]\n",
      "[0. 0. 1.] <-> [5.1974333e-03 9.9202698e-05 9.9470335e-01]\n",
      "[1. 0. 0.] <-> [0.9962436  0.00127024 0.00248613]\n",
      "[1. 0. 0.] <-> [0.99431485 0.00133758 0.00434745]\n",
      "[0. 1. 0.] <-> [7.1707880e-03 9.9282056e-01 8.5880283e-06]\n",
      "[0. 0. 1.] <-> [8.2218982e-03 1.4797920e-04 9.9163014e-01]\n",
      "[1. 0. 0.] <-> [0.7885863  0.2104487  0.00096495]\n",
      "[1. 0. 0.] <-> [0.83896315 0.0032912  0.15774561]\n",
      "[0. 1. 0.] <-> [6.3293907e-03 9.9366319e-01 7.5168855e-06]\n",
      "[1. 0. 0.] <-> [0.9912409  0.00683455 0.00192453]\n",
      "[1. 0. 0.] <-> [0.9969843  0.00166559 0.00135015]\n",
      "[1. 0. 0.] <-> [0.99693054 0.00124407 0.00182541]\n",
      "[1. 0. 0.] <-> [0.98001146 0.00966486 0.01032377]\n",
      "[1. 0. 0.] <-> [0.9946249  0.0038743  0.00150076]\n",
      "[0. 0. 1.] <-> [0.57776195 0.00251291 0.41972518]\n",
      "[1. 0. 0.] <-> [0.99689615 0.00119754 0.00190635]\n",
      "[1. 0. 0.] <-> [0.9967182  0.00151029 0.00177141]\n",
      "[1. 0. 0.] <-> [0.85447216 0.00281811 0.14270973]\n",
      "[1. 0. 0.] <-> [0.9904818  0.00801929 0.00149894]\n",
      "[1. 0. 0.] <-> [0.5656037  0.00338676 0.43100956]\n",
      "[0. 0. 1.] <-> [5.3768852e-03 1.0216865e-04 9.9452090e-01]\n",
      "[0. 0. 1.] <-> [8.5561760e-03 1.4637968e-04 9.9129748e-01]\n",
      "[1. 0. 0.] <-> [0.9925965  0.00140549 0.00599799]\n",
      "[1. 0. 0.] <-> [0.99219394 0.0035391  0.00426685]\n",
      "[0. 1. 0.] <-> [1.3745013e-02 9.8623878e-01 1.6247515e-05]\n",
      "[0. 1. 0.] <-> [2.0547143e-01 7.9428655e-01 2.4201682e-04]\n",
      "[1. 0. 0.] <-> [0.7055704  0.29344663 0.00098304]\n",
      "[1. 0. 0.] <-> [0.9962846  0.00243015 0.00128519]\n",
      "[0. 1. 0.] <-> [1.4140220e-01 8.5843086e-01 1.6693745e-04]\n",
      "[1. 0. 0.] <-> [0.98418635 0.00171889 0.01409477]\n",
      "[1. 0. 0.] <-> [0.9966434  0.00192375 0.00143289]\n",
      "[0. 1. 0.] <-> [6.3132439e-03 9.9367934e-01 7.4468817e-06]\n",
      "[1. 0. 0.] <-> [0.9963684  0.00233351 0.00129814]\n",
      "[1. 0. 0.] <-> [0.5201126  0.4791561  0.00073128]\n",
      "[1. 0. 0.] <-> [0.99645776 0.00228816 0.00125401]\n",
      "[1. 0. 0.] <-> [0.99628216 0.00140334 0.00231448]\n",
      "[1. 0. 0.] <-> [0.9972127  0.0015414  0.00124593]\n",
      "[1. 0. 0.] <-> [0.9611094  0.03766268 0.00122783]\n",
      "[1. 0. 0.] <-> [0.9753032  0.02341076 0.00128606]\n",
      "[1. 0. 0.] <-> [0.9957705  0.001698   0.00253147]\n",
      "[0. 0. 1.] <-> [5.2008634e-03 9.9260636e-05 9.9469984e-01]\n",
      "[0. 1. 0.] <-> [4.0916957e-02 9.5903474e-01 4.8237365e-05]\n",
      "[1. 0. 0.] <-> [0.99340045 0.00135692 0.00524263]\n",
      "[1. 0. 0.] <-> [0.9970751  0.00130884 0.00161597]\n",
      "[0. 0. 1.] <-> [3.6512982e-02 4.3277326e-04 9.6305424e-01]\n",
      "[0. 1. 0.] <-> [6.3186213e-03 9.9367392e-01 7.4302698e-06]\n",
      "[1. 0. 0.] <-> [0.9971909  0.00118459 0.00162459]\n",
      "[1. 0. 0.] <-> [0.9972817  0.00106125 0.00165707]\n",
      "[1. 0. 0.] <-> [0.9954249  0.00140259 0.00317251]\n",
      "[1. 0. 0.] <-> [0.9960828  0.00207489 0.00184223]\n",
      "[1. 0. 0.] <-> [0.9939898  0.00146459 0.00454565]\n",
      "[1. 0. 0.] <-> [0.9950576  0.00191889 0.00302354]\n",
      "[0. 1. 0.] <-> [1.3871939e-02 9.8611176e-01 1.6312892e-05]\n",
      "[1. 0. 0.] <-> [0.99616796 0.00253691 0.00129511]\n",
      "[1. 0. 0.] <-> [0.9653797  0.00275918 0.0318611 ]\n",
      "[1. 0. 0.] <-> [0.9950086  0.00371727 0.00127416]\n",
      "[0. 1. 0.] <-> [1.8278034e-02 9.8169965e-01 2.2291808e-05]\n",
      "[1. 0. 0.] <-> [0.11024053 0.00100865 0.88875085]\n",
      "[1. 0. 0.] <-> [0.9853756  0.01154647 0.00307797]\n",
      "[1. 0. 0.] <-> [0.99597245 0.00283055 0.00119706]\n",
      "[0. 0. 1.] <-> [7.3732194e-03 1.3357964e-04 9.9249321e-01]\n",
      "[0. 0. 1.] <-> [5.2262735e-02 5.4887240e-04 9.4718838e-01]\n",
      "[1. 0. 0.] <-> [0.99683726 0.00120323 0.00195951]\n",
      "[1. 0. 0.] <-> [0.9650986  0.00259845 0.03230293]\n",
      "[0. 1. 0.] <-> [1.4992864e-02 9.8498952e-01 1.7651333e-05]\n",
      "[0. 1. 0.] <-> [6.3350312e-03 9.9365753e-01 7.4725708e-06]\n",
      "[1. 0. 0.] <-> [0.9966408 0.0020426 0.0013166]\n",
      "[0. 0. 1.] <-> [0.557945   0.00277628 0.43927872]\n",
      "[1. 0. 0.] <-> [0.9914648  0.00181786 0.00671727]\n",
      "[1. 0. 0.] <-> [0.9953636  0.00254713 0.00208927]\n",
      "[1. 0. 0.] <-> [0.9972037  0.00143301 0.00136325]\n",
      "[1. 0. 0.] <-> [0.9964897  0.00151455 0.00199566]\n",
      "[1. 0. 0.] <-> [0.99702233 0.00112203 0.00185562]\n",
      "[1. 0. 0.] <-> [3.3211952e-01 6.6748601e-01 3.9442806e-04]\n",
      "[1. 0. 0.] <-> [0.99738485 0.00109449 0.0015207 ]\n",
      "[1. 0. 0.] <-> [0.99601656 0.00241464 0.00156881]\n",
      "[1. 0. 0.] <-> [0.994279   0.00444842 0.0012725 ]\n",
      "[0. 1. 0.] <-> [6.3166190e-03 9.9367589e-01 7.4344243e-06]\n",
      "[1. 0. 0.] <-> [0.99558544 0.00275648 0.001658  ]\n",
      "[1. 0. 0.] <-> [0.9964431  0.00171362 0.0018433 ]\n",
      "[1. 0. 0.] <-> [0.99314004 0.00148113 0.00537892]\n",
      "[1. 0. 0.] <-> [0.9876726  0.00163519 0.01069222]\n",
      "[1. 0. 0.] <-> [0.99743927 0.00121928 0.00134142]\n",
      "[0. 1. 0.] <-> [6.3184057e-03 9.9367416e-01 7.4306827e-06]\n",
      "[1. 0. 0.] <-> [0.99680376 0.00129023 0.001906  ]\n",
      "[0. 0. 1.] <-> [1.0935810e-02 1.8916173e-04 9.8887503e-01]\n",
      "[1. 0. 0.] <-> [0.9958262  0.00242352 0.00175029]\n",
      "[0. 0. 1.] <-> [5.1987846e-03 9.9233592e-05 9.9470192e-01]\n",
      "[1. 0. 0.] <-> [0.9970583  0.00163002 0.00131169]\n",
      "[1. 0. 0.] <-> [0.91511583 0.08378512 0.00109906]\n",
      "[0. 0. 1.] <-> [8.902309e-03 1.530550e-04 9.909446e-01]\n",
      "[1. 0. 0.] <-> [8.65489393e-02 9.13344502e-01 1.06576495e-04]\n",
      "[1. 0. 0.] <-> [0.9947866  0.00139131 0.0038221 ]\n",
      "[0. 0. 1.] <-> [5.6671291e-03 1.0708579e-04 9.9422580e-01]\n",
      "{'accuracy': 0.9691358024691358, 'mean_square_error': 0.06665775128439203, 'categorical_crossentropy': 0.10682413313123915, 'essential_metrics': {0: {'tp_hit': 75, 'fp_hit': 2, 'tn_hit': 28, 'fn_hit': 3}, 1: {'tp_hit': 16, 'fp_hit': 2, 'tn_hit': 90, 'fn_hit': 0}, 2: {'tp_hit': 12, 'fp_hit': 1, 'tn_hit': 93, 'fn_hit': 2}}}\n"
     ]
    }
   ],
   "source": [
    "# recall phase\n",
    "score = model.evaluate(x_test, y_test, False)\n",
    "print(score)"
   ]
  },
  {
   "cell_type": "code",
   "execution_count": 11,
   "metadata": {},
   "outputs": [
    {
     "data": {
      "image/png": "[encoded data removed]",
      "text/plain": [
       "<Figure size 864x360 with 1 Axes>"
      ]
     },
     "metadata": {
      "needs_background": "light"
     },
     "output_type": "display_data"
    },
    {
     "data": {
      "image/png": "[encoded data removed]",
      "text/plain": [
       "<Figure size 864x360 with 1 Axes>"
      ]
     },
     "metadata": {
      "needs_background": "light"
     },
     "output_type": "display_data"
    }
   ],
   "source": [
    "draw_plot(x = [[i for i in range(len(history))], [(i+1)*breakpoint for i in range(len(checkpoints))]], y_list = [history, [ ckp[model.loss_fn] for ckp in checkpoints ]], x_label = 'Epochs', \\\n",
    "    y_label = model.loss_fn, legend=['train', 'test'])\n",
    "acc = [ ckp['accuracy'] for ckp in checkpoints ]\n",
    "draw_plot(x = [[(i+1)*breakpoint for i in range(len(checkpoints))]], y_list = [acc], x_label = 'Checkpoints', \\\n",
    "    y_label = 'accuracy')"
   ]
  },
  {
   "cell_type": "code",
   "execution_count": 12,
   "metadata": {},
   "outputs": [
    {
     "name": "stdout",
     "output_type": "stream",
     "text": [
      "{'accuracy': 0.9629629629629629, 'mean_square_error': 0.12079743100858975, 'categorical_crossentropy': 0.2420956470348217, 'essential_metrics': {0: {'tp_hit': 76, 'fp_hit': 4, 'tn_hit': 26, 'fn_hit': 2}, 1: {'tp_hit': 16, 'fp_hit': 1, 'tn_hit': 91, 'fn_hit': 0}, 2: {'tp_hit': 10, 'fp_hit': 1, 'tn_hit': 93, 'fn_hit': 4}}, 'checkpoint': 100} \n",
      "\n",
      "\n",
      "{'accuracy': 0.9629629629629629, 'mean_square_error': 0.08605929524766379, 'categorical_crossentropy': 0.1366573174794515, 'essential_metrics': {0: {'tp_hit': 75, 'fp_hit': 3, 'tn_hit': 27, 'fn_hit': 3}, 1: {'tp_hit': 15, 'fp_hit': 1, 'tn_hit': 91, 'fn_hit': 1}, 2: {'tp_hit': 12, 'fp_hit': 2, 'tn_hit': 92, 'fn_hit': 2}}, 'checkpoint': 200} \n",
      "\n",
      "\n",
      "{'accuracy': 0.9629629629629629, 'mean_square_error': 0.06997890495078189, 'categorical_crossentropy': 0.1102858825966164, 'essential_metrics': {0: {'tp_hit': 74, 'fp_hit': 2, 'tn_hit': 28, 'fn_hit': 4}, 1: {'tp_hit': 16, 'fp_hit': 3, 'tn_hit': 89, 'fn_hit': 0}, 2: {'tp_hit': 12, 'fp_hit': 1, 'tn_hit': 93, 'fn_hit': 2}}, 'checkpoint': 300} \n",
      "\n",
      "\n",
      "{'accuracy': 0.9629629629629629, 'mean_square_error': 0.06854288833065644, 'categorical_crossentropy': 0.10884639068886086, 'essential_metrics': {0: {'tp_hit': 74, 'fp_hit': 2, 'tn_hit': 28, 'fn_hit': 4}, 1: {'tp_hit': 16, 'fp_hit': 3, 'tn_hit': 89, 'fn_hit': 0}, 2: {'tp_hit': 12, 'fp_hit': 1, 'tn_hit': 93, 'fn_hit': 2}}, 'checkpoint': 400} \n",
      "\n",
      "\n",
      "{'accuracy': 0.9691358024691358, 'mean_square_error': 0.06665775128439203, 'categorical_crossentropy': 0.10682413313123915, 'essential_metrics': {0: {'tp_hit': 75, 'fp_hit': 2, 'tn_hit': 28, 'fn_hit': 3}, 1: {'tp_hit': 16, 'fp_hit': 2, 'tn_hit': 90, 'fn_hit': 0}, 2: {'tp_hit': 12, 'fp_hit': 1, 'tn_hit': 93, 'fn_hit': 2}}, 'checkpoint': 500} \n",
      "\n",
      "\n"
     ]
    }
   ],
   "source": [
    "for checkpoint in checkpoints:\n",
    "    print(checkpoint, '\\n\\n')"
   ]
  },
  {
   "cell_type": "code",
   "execution_count": 13,
   "metadata": {},
   "outputs": [
    {
     "name": "stdout",
     "output_type": "stream",
     "text": [
      "Layer 1\n",
      "Neuron 0: weights:\n",
      "[-2.0541844  3.         3.        -1.1875589 -1.1932123]\n",
      " bias: -3.0\n",
      "\n",
      "Neuron 1: weights:\n",
      "[ 0.160672    3.         -0.39570847 -3.         -3.        ]\n",
      " bias: 1.8795701265335083\n",
      "\n",
      "Neuron 2: weights:\n",
      "[ 0.02001428  3.          0.6691857  -0.33839947 -3.        ]\n",
      " bias: 3.0\n",
      "\n",
      "Neuron 3: weights:\n",
      "[ 2.0336645 -3.        -3.         1.143209   1.2085277]\n",
      " bias: 3.0\n",
      "\n",
      "$\n",
      "Layer 2\n",
      "Neuron 0: weights:\n",
      "[-3.  3.  3.  3.]\n",
      " bias: -2.2542803287506104\n",
      "\n",
      "Neuron 1: weights:\n",
      "[ 3.         0.6925962  2.3240583 -3.       ]\n",
      " bias: -0.2130361944437027\n",
      "\n",
      "Neuron 2: weights:\n",
      "[-3. -3. -3.  3.]\n",
      " bias: 3.0\n",
      "\n",
      "$\n",
      "\n"
     ]
    }
   ],
   "source": [
    "print(model)"
   ]
  }
 ],
 "metadata": {
  "kernelspec": {
   "display_name": "Python 3",
   "language": "python",
   "name": "python3"
  },
  "language_info": {
   "codemirror_mode": {
    "name": "ipython",
    "version": 3
   },
   "file_extension": ".py",
   "mimetype": "text/x-python",
   "name": "python",
   "nbconvert_exporter": "python",
   "pygments_lexer": "ipython3",
   "version": "3.6.10"
  }
 },
 "nbformat": 4,
 "nbformat_minor": 2
}
