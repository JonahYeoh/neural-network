{
 "cells": [
  {
   "cell_type": "code",
   "execution_count": 1,
   "metadata": {},
   "outputs": [],
   "source": [
    "# dependency\n",
    "import numpy as np\n",
    "import pandas as pd\n",
    "import copy\n",
    "import math\n",
    "import sys\n",
    "import os\n",
    "from activations import relu, leaky_relu, sigmoid, tanh, softmax, d_sigmoid, d_relu\n",
    "from initializers import glorot_uniform, random_normal, random_uniform\n",
    "from regularizers import l1_regularizer, l2_regularizer\n",
    "from utility import trim_tail, multiply, subtract, get_nparams, one_hot_encoding, get_data\n",
    "from metrics import MSE, CCE, ACC, PRECISION, RECALL, essential_metrics, wondering_penalty, close_gap_penalty\n",
    "from pso import PSO\n",
    "from ga import GA\n",
    "from nn import Network\n",
    "from layer import DenseLayer\n",
    "from scalers import MinMaxScaler, StandardScaler"
   ]
  },
  {
   "cell_type": "code",
   "execution_count": 2,
   "metadata": {},
   "outputs": [],
   "source": [
    "# reference\n",
    "metrics_fn_dict = dict()\n",
    "metrics_fn_dict['accuracy'] = ACC\n",
    "metrics_fn_dict['categorical_crossentropy'] = CCE\n",
    "metrics_fn_dict['mean_square_error'] = MSE\n",
    "metrics_fn_dict['precision'] = PRECISION\n",
    "metrics_fn_dict['recall'] = RECALL\n",
    "metrics_fn_dict['essential_metrics'] = essential_metrics"
   ]
  },
  {
   "cell_type": "code",
   "execution_count": 3,
   "metadata": {},
   "outputs": [],
   "source": [
    "# model\n",
    "model = Network(5, lr = None)\n",
    "model.add_layer(DenseLayer(1, 4, True, afn=sigmoid, dafn=None, rfn=None))\n",
    "model.add_layer(DenseLayer(2, 3, True, afn=softmax, dafn=None, rfn=None))"
   ]
  },
  {
   "cell_type": "code",
   "execution_count": 4,
   "metadata": {},
   "outputs": [
    {
     "name": "stdout",
     "output_type": "stream",
     "text": [
      "see one see two 2 0.5\n"
     ]
    }
   ],
   "source": [
    "pso = PSO(dict(m = 50,\n",
    "    weight_constraint = [-3, 3], \n",
    "    velocity_constraint = [-0.1, 0.1],\n",
    "    c1 = [0.5, 2],\n",
    "    c2 = [0.5, 2],\n",
    "    w = [0.5, 1.2],\n",
    "    w_decay = 0.95,\n",
    "    scale_hyperparameter = False,\n",
    "    regularizer = None,\n",
    "    mask = True))"
   ]
  },
  {
   "cell_type": "code",
   "execution_count": 5,
   "metadata": {},
   "outputs": [
    {
     "name": "stdout",
     "output_type": "stream",
     "text": [
      "building layer 1 with 5\n",
      "24\n",
      "building layer 2 with 4\n",
      "15\n"
     ]
    }
   ],
   "source": [
    "model.compile(loss_fn = 'categorical_crossentropy', optimizer = pso, \\\n",
    "    metrics = ['accuracy', 'mean_square_error', 'categorical_crossentropy'])"
   ]
  },
  {
   "cell_type": "code",
   "execution_count": 6,
   "metadata": {},
   "outputs": [
    {
     "name": "stdout",
     "output_type": "stream",
     "text": [
      "<class 'pandas.core.frame.DataFrame'>\n",
      "RangeIndex: 107 entries, 0 to 106\n",
      "Data columns (total 6 columns):\n",
      " #   Column  Non-Null Count  Dtype  \n",
      "---  ------  --------------  -----  \n",
      " 0   f1      107 non-null    float32\n",
      " 1   f2      107 non-null    float32\n",
      " 2   f3      107 non-null    float32\n",
      " 3   f4      107 non-null    float32\n",
      " 4   f5      107 non-null    float32\n",
      " 5   label   107 non-null    float32\n",
      "dtypes: float32(6)\n",
      "memory usage: 2.6 KB\n",
      "None\n",
      "<class 'pandas.core.frame.DataFrame'>\n",
      "RangeIndex: 108 entries, 0 to 107\n",
      "Data columns (total 6 columns):\n",
      " #   Column  Non-Null Count  Dtype  \n",
      "---  ------  --------------  -----  \n",
      " 0   f1      108 non-null    float32\n",
      " 1   f2      108 non-null    float32\n",
      " 2   f3      108 non-null    float32\n",
      " 3   f4      108 non-null    float32\n",
      " 4   f5      108 non-null    float32\n",
      " 5   label   108 non-null    float32\n",
      "dtypes: float32(6)\n",
      "memory usage: 2.7 KB\n",
      "None\n"
     ]
    }
   ],
   "source": [
    "# data loading\n",
    "DATA = os.path.join('c:\\\\Users\\\\tcumi\\\\github_repo\\\\neural-network\\\\', 'dataset')\n",
    "GROUP = 1\n",
    "COLUMNS = ['f1', 'f2', 'f3', 'f4', 'f5', 'label']\n",
    "N_CLASS = 3\n",
    "EPOCHS = 500\n",
    "train_dir, test_dir = \"..//dataset//training_data{}.txt\".format(GROUP), \"..//dataset//testing_data{}.txt\".format(GROUP)\n",
    "train, test = get_data(DATA, train_dir, COLUMNS), get_data(DATA, test_dir, COLUMNS)\n",
    "# shuffle\n",
    "train, test = train.sample(frac=1), test.sample(frac=1)\n",
    "x_train, y_train = train.drop('label', axis=1), train['label']\n",
    "x_test, y_test = test.drop('label', axis=1), test['label']"
   ]
  },
  {
   "cell_type": "code",
   "execution_count": 7,
   "metadata": {},
   "outputs": [],
   "source": [
    "# data scaling and encoding\n",
    "scaler = StandardScaler(['f1', 'f2', 'f3', 'f4', 'f5'])\n",
    "scaler.fit(x_train)\n",
    "x_train = scaler.transform(x_train)\n",
    "x_test = scaler.transform(x_test)\n",
    "y_train = one_hot_encoding(y_train, N_CLASS)\n",
    "y_test = one_hot_encoding(y_test, N_CLASS)"
   ]
  },
  {
   "cell_type": "code",
   "execution_count": 8,
   "metadata": {
    "tags": [
     "outputPrepend"
    ]
   },
   "outputs": [
    {
     "name": "stdout",
     "output_type": "stream",
     "text": [
      "Checkpoint 100, Accuracy: 0.9567901234567902, Loss: 0.28910945962976525\n",
      "Checkpoint 200, Accuracy: 0.9567901234567902, Loss: 0.1561273115652579\n",
      "Checkpoint 300, Accuracy: 0.9814814814814815, Loss: 0.09078589192143192\n",
      "Checkpoint 400, Accuracy: 0.9691358024691358, Loss: 0.09825967859338831\n",
      "Checkpoint 500, Accuracy: 0.9691358024691358, Loss: 0.11143146620856391\n"
     ]
    }
   ],
   "source": [
    "# learning phase\n",
    "breakpoint = 100\n",
    "checkpoints = list()\n",
    "history = list()\n",
    "for century in range(0, EPOCHS, breakpoint):\n",
    "    sub_history = model.fit(x_train, y_train, breakpoint, verbose = 0)\n",
    "    score = model.evaluate(x_test, y_test, False, verbose = 0)\n",
    "    print('Checkpoint {}, Accuracy: {}, Loss: {}'.format(century+breakpoint, score['accuracy'], score[model.loss_fn]))\n",
    "    score['checkpoint'] = century + breakpoint\n",
    "    checkpoints.append(score)\n",
    "    history.extend(sub_history)\n",
    "    itr = century + breakpoint\n",
    "    model.optimizer.c1 = np.max([model.optimizer.C1[1] - ((model.optimizer.C1[1] - model.optimizer.C1[0]) * itr / EPOCHS), model.optimizer.C1[0]])\n",
    "    model.optimizer.c2 = np.min([model.optimizer.C2[0] + ((model.optimizer.C2[1] - model.optimizer.C2[0]) * itr / EPOCHS), model.optimizer.C2[1]])\n",
    "    model.optimizer.w = np.max([model.optimizer.w * model.optimizer.W_Decay, model.optimizer.W[0]])"
   ]
  },
  {
   "cell_type": "code",
   "execution_count": 9,
   "metadata": {},
   "outputs": [],
   "source": [
    "import matplotlib.pyplot as plt\n",
    "\n",
    "def draw_plot(x, y_list, x_label=None, y_label=None, legend=None, title=None):\n",
    "    fig, ax = plt.subplots(figsize=(12,5))\n",
    "    for xi, yi in zip(x, y_list):\n",
    "        ax.plot(xi, yi)\n",
    "    if x_label is not None and y_label is not None:\n",
    "        ax.set(xlabel=x_label, ylabel=y_label, title='{} VS {}'.format(x_label, y_label))\n",
    "    if legend is not None:\n",
    "        ax.legend(legend)\n",
    "    ax.grid()\n",
    "    plt.show()"
   ]
  },
  {
   "cell_type": "code",
   "execution_count": 10,
   "metadata": {},
   "outputs": [
    {
     "name": "stdout",
     "output_type": "stream",
     "text": [
      "[1. 0. 0.] <-> [1.4442549e-02 1.0780070e-04 9.8544967e-01]\n",
      "[1. 0. 0.] <-> [0.99560755 0.00152634 0.00286619]\n",
      "[1. 0. 0.] <-> [0.29335344 0.001104   0.7055426 ]\n",
      "[1. 0. 0.] <-> [0.98767054 0.01081425 0.0015152 ]\n",
      "[1. 0. 0.] <-> [0.9937955  0.00123512 0.0049693 ]\n",
      "[1. 0. 0.] <-> [0.990258   0.00124981 0.00849225]\n",
      "[1. 0. 0.] <-> [0.99656576 0.00118607 0.00224814]\n",
      "[1. 0. 0.] <-> [0.99725    0.00118324 0.00156677]\n",
      "[0. 0. 1.] <-> [0.637327   0.00216844 0.3605046 ]\n",
      "[0. 1. 0.] <-> [8.5942084e-03 9.9138838e-01 1.7381817e-05]\n",
      "[0. 0. 1.] <-> [9.672409e-02 4.128626e-04 9.028630e-01]\n",
      "[1. 0. 0.] <-> [0.95289564 0.00181513 0.04528921]\n",
      "[1. 0. 0.] <-> [0.97828865 0.00154858 0.02016269]\n",
      "[1. 0. 0.] <-> [0.9916624  0.00682051 0.0015171 ]\n",
      "[0. 0. 1.] <-> [4.8531527e-03 4.8008402e-05 9.9509889e-01]\n",
      "[1. 0. 0.] <-> [0.8898852  0.00186981 0.10824494]\n",
      "[1. 0. 0.] <-> [0.9947408  0.00378484 0.00147447]\n",
      "[0. 1. 0.] <-> [6.5363720e-03 9.9345028e-01 1.3300737e-05]\n",
      "[1. 0. 0.] <-> [0.97012323 0.00164656 0.02823015]\n",
      "[1. 0. 0.] <-> [0.994218   0.00114424 0.00463785]\n",
      "[1. 0. 0.] <-> [0.99279106 0.00130188 0.00590707]\n",
      "[1. 0. 0.] <-> [0.95678866 0.00164584 0.04156553]\n",
      "[1. 0. 0.] <-> [0.99693704 0.00150891 0.00155402]\n",
      "[1. 0. 0.] <-> [0.996639   0.00131705 0.00204398]\n",
      "[0. 0. 1.] <-> [4.962733e-03 4.889125e-05 9.949884e-01]\n",
      "[1. 0. 0.] <-> [0.9943175  0.00135326 0.00432929]\n",
      "[1. 0. 0.] <-> [0.996747   0.0014409  0.00181208]\n",
      "[1. 0. 0.] <-> [0.92124367 0.00242153 0.0763348 ]\n",
      "[1. 0. 0.] <-> [0.9953564  0.00145472 0.00318888]\n",
      "[1. 0. 0.] <-> [0.99652916 0.00194397 0.00152685]\n",
      "[0. 0. 1.] <-> [4.8532770e-03 4.8009446e-05 9.9509877e-01]\n",
      "[1. 0. 0.] <-> [0.9837157  0.00125595 0.01502837]\n",
      "[1. 0. 0.] <-> [0.99599814 0.00131125 0.00269057]\n",
      "[1. 0. 0.] <-> [0.99673223 0.00143549 0.00183228]\n",
      "[1. 0. 0.] <-> [0.99278015 0.00145515 0.00576472]\n",
      "[1. 0. 0.] <-> [0.8610237  0.00192599 0.13705027]\n",
      "[0. 1. 0.] <-> [6.5359846e-03 9.9345064e-01 1.3343087e-05]\n",
      "[1. 0. 0.] <-> [0.9905847  0.00796915 0.00144617]\n",
      "[1. 0. 0.] <-> [0.9889072  0.00138287 0.00971   ]\n",
      "[1. 0. 0.] <-> [0.9965843  0.00172075 0.00169491]\n",
      "[1. 0. 0.] <-> [0.99469346 0.00130819 0.00399836]\n",
      "[1. 0. 0.] <-> [0.99703014 0.00115728 0.00181254]\n",
      "[1. 0. 0.] <-> [0.9508988  0.04749031 0.00161089]\n",
      "[0. 1. 0.] <-> [1.8627092e-02 9.8133641e-01 3.6551497e-05]\n",
      "[1. 0. 0.] <-> [0.9115983  0.08681875 0.00158287]\n",
      "[1. 0. 0.] <-> [0.99593157 0.00115307 0.00291537]\n",
      "[0. 0. 1.] <-> [6.0595060e-03 5.7883048e-05 9.9388266e-01]\n",
      "[0. 1. 0.] <-> [5.2500535e-02 9.4740659e-01 9.2806178e-05]\n",
      "[0. 0. 1.] <-> [5.2046813e-03 5.0446321e-05 9.9474490e-01]\n",
      "[1. 0. 0.] <-> [0.99584323 0.00267808 0.00147875]\n",
      "[1. 0. 0.] <-> [0.99639326 0.0022467  0.00135997]\n",
      "[1. 0. 0.] <-> [0.9952962  0.00129312 0.0034107 ]\n",
      "[1. 0. 0.] <-> [0.9906493  0.00788766 0.00146305]\n",
      "[1. 0. 0.] <-> [0.9509659  0.00212001 0.04691404]\n",
      "[1. 0. 0.] <-> [0.99649364 0.00215303 0.00135336]\n",
      "[0. 0. 1.] <-> [5.3856540e-03 5.2466930e-05 9.9456185e-01]\n",
      "[0. 0. 1.] <-> [4.8539629e-03 4.8014634e-05 9.9509805e-01]\n",
      "[1. 0. 0.] <-> [0.996418   0.00107602 0.00250598]\n",
      "[1. 0. 0.] <-> [0.9954651  0.00199719 0.00253771]\n",
      "[1. 0. 0.] <-> [0.9917713  0.0013616  0.00686705]\n",
      "[1. 0. 0.] <-> [0.9967873  0.00132005 0.00189272]\n",
      "[0. 1. 0.] <-> [0.76497096 0.23387882 0.00115017]\n",
      "[1. 0. 0.] <-> [0.9967728  0.00167992 0.00154717]\n",
      "[0. 1. 0.] <-> [0.3932344  0.60606724 0.00069839]\n",
      "[0. 1. 0.] <-> [1.3075867e-01 8.6899990e-01 2.4144362e-04]\n",
      "[1. 0. 0.] <-> [0.9940615  0.00156916 0.0043693 ]\n",
      "[0. 1. 0.] <-> [2.3188224e-01 7.6767904e-01 4.3875203e-04]\n",
      "[0. 1. 0.] <-> [1.1861304e-02 9.8811495e-01 2.3674489e-05]\n",
      "[1. 0. 0.] <-> [0.99646604 0.00205547 0.00147844]\n",
      "[1. 0. 0.] <-> [0.9934344  0.0012718  0.00529379]\n",
      "[0. 1. 0.] <-> [6.7795003e-03 9.9320662e-01 1.3793797e-05]\n",
      "[0. 1. 0.] <-> [6.5748510e-03 9.9341172e-01 1.3399232e-05]\n",
      "[1. 0. 0.] <-> [0.97600716 0.00144006 0.02255273]\n",
      "[1. 0. 0.] <-> [0.9954638  0.00127668 0.0032596 ]\n",
      "[0. 0. 1.] <-> [4.8531317e-03 4.8008216e-05 9.9509889e-01]\n",
      "[1. 0. 0.] <-> [0.99616337 0.00151699 0.00231975]\n",
      "[1. 0. 0.] <-> [0.99638283 0.00173222 0.00188483]\n",
      "[1. 0. 0.] <-> [0.9966233  0.00189273 0.00148397]\n",
      "[1. 0. 0.] <-> [0.9938909  0.00131039 0.00479869]\n",
      "[1. 0. 0.] <-> [0.99460137 0.00131361 0.00408501]\n",
      "[0. 0. 1.] <-> [4.8531317e-03 4.8008216e-05 9.9509889e-01]\n",
      "[1. 0. 0.] <-> [0.9956381  0.00105632 0.00330564]\n",
      "[1. 0. 0.] <-> [0.99692035 0.00118421 0.00189542]\n",
      "[0. 0. 1.] <-> [4.8615951e-03 4.8080929e-05 9.9509025e-01]\n",
      "[0. 1. 0.] <-> [1.1043835e-02 9.8893398e-01 2.2173344e-05]\n",
      "[1. 0. 0.] <-> [0.997086   0.00141607 0.00149785]\n",
      "[1. 0. 0.] <-> [0.99703455 0.00119861 0.00176675]\n",
      "[1. 0. 0.] <-> [0.980004   0.00171541 0.01828057]\n",
      "[1. 0. 0.] <-> [0.9945253  0.00391523 0.00155948]\n",
      "[1. 0. 0.] <-> [0.94782954 0.00188577 0.0502846 ]\n",
      "[1. 0. 0.] <-> [0.5595462  0.00147562 0.43897822]\n",
      "[1. 0. 0.] <-> [0.99724305 0.00118086 0.00157607]\n",
      "[1. 0. 0.] <-> [0.992826   0.00124538 0.00592866]\n",
      "[1. 0. 0.] <-> [0.98876816 0.00874224 0.00248972]\n",
      "[1. 0. 0.] <-> [0.99567467 0.0024954  0.00182994]\n",
      "[0. 0. 1.] <-> [4.889246e-03 4.830345e-05 9.950624e-01]\n",
      "[0. 1. 0.] <-> [6.5366728e-03 9.9345011e-01 1.3303296e-05]\n",
      "[0. 1. 0.] <-> [6.8495288e-03 9.9313664e-01 1.3902198e-05]\n",
      "[1. 0. 0.] <-> [0.99181587 0.00136406 0.00682004]\n",
      "[1. 0. 0.] <-> [0.9904635  0.00129162 0.00824484]\n",
      "[1. 0. 0.] <-> [0.9957777  0.00207214 0.00215015]\n",
      "[1. 0. 0.] <-> [0.99586475 0.0011367  0.00299853]\n",
      "[1. 0. 0.] <-> [3.5713878e-01 6.4222282e-01 6.3834595e-04]\n",
      "[1. 0. 0.] <-> [0.9925517  0.00134122 0.00610721]\n",
      "[1. 0. 0.] <-> [0.9969432  0.00123986 0.00181696]\n",
      "[1. 0. 0.] <-> [0.9964734  0.00204904 0.00147756]\n",
      "[1. 0. 0.] <-> [0.85404545 0.00163809 0.14431643]\n",
      "[1. 0. 0.] <-> [0.9960794  0.00240877 0.00151179]\n",
      "{'accuracy': 0.9691358024691358, 'mean_square_error': 0.06277778028761831, 'categorical_crossentropy': 0.11143146620856391, 'essential_metrics': {0: {'tp_hit': 77, 'fp_hit': 2, 'tn_hit': 26, 'fn_hit': 3}, 1: {'tp_hit': 14, 'fp_hit': 1, 'tn_hit': 92, 'fn_hit': 1}, 2: {'tp_hit': 12, 'fp_hit': 2, 'tn_hit': 93, 'fn_hit': 1}}}\n"
     ]
    }
   ],
   "source": [
    "# recall phase\n",
    "score = model.evaluate(x_test, y_test, False)\n",
    "print(score)"
   ]
  },
  {
   "cell_type": "code",
   "execution_count": 11,
   "metadata": {},
   "outputs": [
    {
     "data": {
      "image/png": "[encoded data removed]",
      "text/plain": [
       "<Figure size 864x360 with 1 Axes>"
      ]
     },
     "metadata": {
      "needs_background": "light"
     },
     "output_type": "display_data"
    },
    {
     "data": {
      "image/png": "[encoded data removed]",
      "text/plain": [
       "<Figure size 864x360 with 1 Axes>"
      ]
     },
     "metadata": {
      "needs_background": "light"
     },
     "output_type": "display_data"
    }
   ],
   "source": [
    "draw_plot(x = [[i for i in range(len(history))], [(i+1)*breakpoint for i in range(len(checkpoints))]], y_list = [history, [ ckp[model.loss_fn] for ckp in checkpoints ]], x_label = 'Epochs', \\\n",
    "    y_label = model.loss_fn, legend=['train', 'test'])\n",
    "acc = [ ckp['accuracy'] for ckp in checkpoints ]\n",
    "draw_plot(x = [[(i+1)*breakpoint for i in range(len(checkpoints))]], y_list = [acc], x_label = 'Checkpoints', \\\n",
    "    y_label = 'accuracy')"
   ]
  },
  {
   "cell_type": "code",
   "execution_count": 12,
   "metadata": {},
   "outputs": [
    {
     "name": "stdout",
     "output_type": "stream",
     "text": [
      "{'accuracy': 0.9567901234567902, 'mean_square_error': 0.1443379048851282, 'categorical_crossentropy': 0.28910945962976525, 'essential_metrics': {0: {'tp_hit': 77, 'fp_hit': 4, 'tn_hit': 24, 'fn_hit': 3}, 1: {'tp_hit': 14, 'fp_hit': 3, 'tn_hit': 90, 'fn_hit': 1}, 2: {'tp_hit': 10, 'fp_hit': 0, 'tn_hit': 95, 'fn_hit': 3}}, 'checkpoint': 100} \n",
      "\n",
      "\n",
      "{'accuracy': 0.9567901234567902, 'mean_square_error': 0.08453425538663567, 'categorical_crossentropy': 0.1561273115652579, 'essential_metrics': {0: {'tp_hit': 76, 'fp_hit': 3, 'tn_hit': 25, 'fn_hit': 4}, 1: {'tp_hit': 13, 'fp_hit': 1, 'tn_hit': 92, 'fn_hit': 2}, 2: {'tp_hit': 12, 'fp_hit': 3, 'tn_hit': 92, 'fn_hit': 1}}, 'checkpoint': 200} \n",
      "\n",
      "\n",
      "{'accuracy': 0.9814814814814815, 'mean_square_error': 0.047297459939700755, 'categorical_crossentropy': 0.09078589192143192, 'essential_metrics': {0: {'tp_hit': 78, 'fp_hit': 1, 'tn_hit': 27, 'fn_hit': 2}, 1: {'tp_hit': 14, 'fp_hit': 1, 'tn_hit': 92, 'fn_hit': 1}, 2: {'tp_hit': 13, 'fp_hit': 1, 'tn_hit': 94, 'fn_hit': 0}}, 'checkpoint': 300} \n",
      "\n",
      "\n",
      "{'accuracy': 0.9691358024691358, 'mean_square_error': 0.05376825133314019, 'categorical_crossentropy': 0.09825967859338831, 'essential_metrics': {0: {'tp_hit': 77, 'fp_hit': 2, 'tn_hit': 26, 'fn_hit': 3}, 1: {'tp_hit': 14, 'fp_hit': 1, 'tn_hit': 92, 'fn_hit': 1}, 2: {'tp_hit': 12, 'fp_hit': 2, 'tn_hit': 93, 'fn_hit': 1}}, 'checkpoint': 400} \n",
      "\n",
      "\n",
      "{'accuracy': 0.9691358024691358, 'mean_square_error': 0.06277778028761831, 'categorical_crossentropy': 0.11143146620856391, 'essential_metrics': {0: {'tp_hit': 77, 'fp_hit': 2, 'tn_hit': 26, 'fn_hit': 3}, 1: {'tp_hit': 14, 'fp_hit': 1, 'tn_hit': 92, 'fn_hit': 1}, 2: {'tp_hit': 12, 'fp_hit': 2, 'tn_hit': 93, 'fn_hit': 1}}, 'checkpoint': 500} \n",
      "\n",
      "\n"
     ]
    }
   ],
   "source": [
    "for checkpoint in checkpoints:\n",
    "    print(checkpoint, '\\n\\n')"
   ]
  },
  {
   "cell_type": "code",
   "execution_count": 13,
   "metadata": {},
   "outputs": [
    {
     "name": "stdout",
     "output_type": "stream",
     "text": [
      "Layer 1\n",
      "Neuron 0: weights:\n",
      "[ 0.2516488  -3.          0.05740669  0.9665575   3.        ]\n",
      " bias: -2.5103538036346436\n",
      "\n",
      "Neuron 1: weights:\n",
      "[-2.0269177  3.         3.         0.6044579 -2.0782983]\n",
      " bias: -3.0\n",
      "\n",
      "Neuron 2: weights:\n",
      "[ 0.1581848  3.         0.8047178 -1.1952696 -3.       ]\n",
      " bias: 3.0\n",
      "\n",
      "Neuron 3: weights:\n",
      "[ 1.9159471  -3.         -1.3923535  -0.06830187  2.641322  ]\n",
      " bias: 3.0\n",
      "\n",
      "$\n",
      "Layer 2\n",
      "Neuron 0: weights:\n",
      "[-3. -3.  3.  3.]\n",
      " bias: 1.6160073280334473\n",
      "\n",
      "Neuron 1: weights:\n",
      "[-3.         3.         0.6398529 -3.       ]\n",
      " bias: 3.0\n",
      "\n",
      "Neuron 2: weights:\n",
      "[ 3.       -3.       -3.        2.520627]\n",
      " bias: 1.4185982942581177\n",
      "\n",
      "$\n",
      "\n"
     ]
    }
   ],
   "source": [
    "print(model)"
   ]
  }
 ],
 "metadata": {
  "kernelspec": {
   "display_name": "Python 3",
   "language": "python",
   "name": "python3"
  },
  "language_info": {
   "codemirror_mode": {
    "name": "ipython",
    "version": 3
   },
   "file_extension": ".py",
   "mimetype": "text/x-python",
   "name": "python",
   "nbconvert_exporter": "python",
   "pygments_lexer": "ipython3",
   "version": "3.6.10"
  }
 },
 "nbformat": 4,
 "nbformat_minor": 2
}
