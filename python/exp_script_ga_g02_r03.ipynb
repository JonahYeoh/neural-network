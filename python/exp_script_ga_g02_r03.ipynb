{
 "cells": [
  {
   "cell_type": "code",
   "execution_count": null,
   "metadata": {},
   "outputs": [],
   "source": []
  },
  {
   "cell_type": "code",
   "execution_count": 1,
   "metadata": {},
   "outputs": [],
   "source": [
    "# dependency\n",
    "import numpy as np\n",
    "import pandas as pd\n",
    "import copy\n",
    "import math\n",
    "import sys\n",
    "import os\n",
    "from activations import relu, leaky_relu, sigmoid, tanh, softmax, d_sigmoid, d_relu\n",
    "from initializers import glorot_uniform, random_normal, random_uniform\n",
    "from regularizers import l1_regularizer, l2_regularizer\n",
    "from utility import trim_tail, multiply, subtract, get_nparams, one_hot_encoding, get_data\n",
    "from metrics import MSE, CCE, ACC, PRECISION, RECALL, essential_metrics, wondering_penalty, close_gap_penalty\n",
    "from pso import PSO\n",
    "from ga import GA\n",
    "from nn import Network\n",
    "from layer import DenseLayer\n",
    "from scalers import MinMaxScaler, StandardScaler"
   ]
  },
  {
   "cell_type": "code",
   "execution_count": 2,
   "metadata": {},
   "outputs": [],
   "source": [
    "# reference\n",
    "metrics_fn_dict = dict()\n",
    "metrics_fn_dict['accuracy'] = ACC\n",
    "metrics_fn_dict['categorical_crossentropy'] = CCE\n",
    "metrics_fn_dict['mean_square_error'] = MSE\n",
    "metrics_fn_dict['precision'] = PRECISION\n",
    "metrics_fn_dict['recall'] = RECALL\n",
    "metrics_fn_dict['essential_metrics'] = essential_metrics"
   ]
  },
  {
   "cell_type": "code",
   "execution_count": 3,
   "metadata": {},
   "outputs": [],
   "source": [
    "# model\n",
    "model = Network(5, lr = None)\n",
    "model.add_layer(DenseLayer(1, 4, True, afn=sigmoid, dafn=None, rfn=None))\n",
    "model.add_layer(DenseLayer(2, 3, True, afn=softmax, dafn=None, rfn=None))"
   ]
  },
  {
   "cell_type": "code",
   "execution_count": 4,
   "metadata": {},
   "outputs": [],
   "source": [
    "# optimizer\n",
    "ga = GA(\n",
    "    dict(\n",
    "        m = 50,\n",
    "        x_rate = [0.5, 1.0],\n",
    "        m_rate = [0.6, 1.0],\n",
    "        weight_constraint = [-3.,3.],\n",
    "        radioactive_rating = [0.5, 1.0],\n",
    "        grow_factor = [0.5, 1.0],\n",
    "        scale_hyperparameter = False))"
   ]
  },
  {
   "cell_type": "code",
   "execution_count": 5,
   "metadata": {},
   "outputs": [
    {
     "name": "stdout",
     "output_type": "stream",
     "text": [
      "building layer 1 with 5\n",
      "24\n",
      "building layer 2 with 4\n",
      "15\n"
     ]
    }
   ],
   "source": [
    "model.compile(loss_fn = 'categorical_crossentropy', optimizer = ga, \\\n",
    "    metrics = ['accuracy', 'mean_square_error', 'categorical_crossentropy', 'precision', 'recall', 'f1'])"
   ]
  },
  {
   "cell_type": "code",
   "execution_count": 6,
   "metadata": {},
   "outputs": [
    {
     "name": "stdout",
     "output_type": "stream",
     "text": [
      "<class 'pandas.core.frame.DataFrame'>\n",
      "RangeIndex: 107 entries, 0 to 106\n",
      "Data columns (total 6 columns):\n",
      " #   Column  Non-Null Count  Dtype  \n",
      "---  ------  --------------  -----  \n",
      " 0   f1      107 non-null    float32\n",
      " 1   f2      107 non-null    float32\n",
      " 2   f3      107 non-null    float32\n",
      " 3   f4      107 non-null    float32\n",
      " 4   f5      107 non-null    float32\n",
      " 5   label   107 non-null    float32\n",
      "dtypes: float32(6)\n",
      "memory usage: 2.6 KB\n",
      "None\n",
      "<class 'pandas.core.frame.DataFrame'>\n",
      "RangeIndex: 108 entries, 0 to 107\n",
      "Data columns (total 6 columns):\n",
      " #   Column  Non-Null Count  Dtype  \n",
      "---  ------  --------------  -----  \n",
      " 0   f1      108 non-null    float32\n",
      " 1   f2      108 non-null    float32\n",
      " 2   f3      108 non-null    float32\n",
      " 3   f4      108 non-null    float32\n",
      " 4   f5      108 non-null    float32\n",
      " 5   label   108 non-null    float32\n",
      "dtypes: float32(6)\n",
      "memory usage: 2.7 KB\n",
      "None\n"
     ]
    }
   ],
   "source": [
    "# data loading\n",
    "DATA = os.path.join('c:\\\\Users\\\\tcumi\\\\github_repo\\\\neural-network\\\\', 'dataset')\n",
    "GROUP = 2\n",
    "COLUMNS = ['f1', 'f2', 'f3', 'f4', 'f5', 'label']\n",
    "N_CLASS = 3\n",
    "EPOCHS = 500\n",
    "train_dir, test_dir = \"..//dataset//training_data{}.txt\".format(GROUP), \"..//dataset//testing_data{}.txt\".format(GROUP)\n",
    "train, test = get_data(DATA, train_dir, COLUMNS), get_data(DATA, test_dir, COLUMNS)\n",
    "# shuffle\n",
    "train, test = train.sample(frac=1), test.sample(frac=1)\n",
    "x_train, y_train = train.drop('label', axis=1), train['label']\n",
    "x_test, y_test = test.drop('label', axis=1), test['label']"
   ]
  },
  {
   "cell_type": "code",
   "execution_count": 7,
   "metadata": {},
   "outputs": [],
   "source": [
    "# data scaling and encoding\n",
    "scaler = StandardScaler(['f1', 'f2', 'f3', 'f4', 'f5'])\n",
    "scaler.fit(x_train)\n",
    "x_train = scaler.transform(x_train)\n",
    "x_test = scaler.transform(x_test)\n",
    "y_train = one_hot_encoding(y_train, N_CLASS)\n",
    "y_test = one_hot_encoding(y_test, N_CLASS)"
   ]
  },
  {
   "cell_type": "code",
   "execution_count": 8,
   "metadata": {
    "scrolled": true,
    "tags": [
     "outputPrepend"
    ]
   },
   "outputs": [
    {
     "name": "stderr",
     "output_type": "stream",
     "text": [
      "C:\\Users\\tcumi\\github_repo\\neural-network\\python\\ga.py:189: RuntimeWarning: overflow encountered in add\n",
      "  self.population.sort(key=lambda p: p.fitness + np.random.uniform(-shift, shift, 1), reverse = self.aim)\n"
     ]
    },
    {
     "name": "stdout",
     "output_type": "stream",
     "text": [
      "Checkpoint 100, Accuracy: 0.8395061728395061, Loss: 0.5960049099392362\n"
     ]
    },
    {
     "name": "stderr",
     "output_type": "stream",
     "text": [
      "C:\\Users\\tcumi\\github_repo\\neural-network\\python\\activations.py:14: RuntimeWarning: overflow encountered in exp\n",
      "  y = 1 / (1 + np.exp(-Xi))\n"
     ]
    },
    {
     "name": "stdout",
     "output_type": "stream",
     "text": [
      "Checkpoint 200, Accuracy: 0.8395061728395061, Loss: 0.5927114839907046\n",
      "Checkpoint 300, Accuracy: 0.8641975308641975, Loss: 0.5906556094134295\n",
      "Checkpoint 400, Accuracy: 0.8518518518518519, Loss: 0.600120191220884\n",
      "Checkpoint 500, Accuracy: 0.8580246913580247, Loss: 0.5981726469816985\n"
     ]
    }
   ],
   "source": [
    "# learning phase\n",
    "breakpoint = 100\n",
    "checkpoints = list()\n",
    "history = list()\n",
    "for century in range(0, EPOCHS, breakpoint):\n",
    "    sub_history = model.fit(x_train, y_train, breakpoint, verbose = 0)\n",
    "    score = model.evaluate(x_test, y_test, False, verbose = 0)\n",
    "    print('Checkpoint {}, Accuracy: {}, Loss: {}'.format(century+breakpoint, score['accuracy'], score[model.loss_fn]))\n",
    "    score['checkpoint'] = century + breakpoint\n",
    "    checkpoints.append(score)\n",
    "    history.extend(sub_history)\n",
    "    itr = century + breakpoint\n",
    "    model.optimizer.rr = model.optimizer.rr * 0.9\n",
    "    model.optimizer.gf = model.optimizer.gf * 0.9\n",
    "    model.optimizer.crossover_rate = model.optimizer.crossover_rate * 0.9\n",
    "    model.optimizer.mutation_rate = model.optimizer.mutation_rate * 1.1\n",
    "    '''\n",
    "    model.rr = model.radioactive_rating[1] - (model.radioactive_rating[1] - model.radioactive_rating[0]) / EPOCHS * (EPOCHS - itr)\n",
    "    model.gf = model.grow_factor[1] - (model.grow_factor[1] - model.grow_factor[0]) / EPOCHS * (EPOCHS - itr)\n",
    "    model.crossover_rate = model.x_rate[1] - (model.x_rate[1] - model.x_rate[0]) / EPOCHS * (EPOCHS - itr)\n",
    "    model.mutation_rate = model.m_rate[0] + (model.m_rate[1] - model.m_rate[0]) / EPOCHS * (EPOCHS - itr)\n",
    "    '''\n",
    "    "
   ]
  },
  {
   "cell_type": "code",
   "execution_count": 9,
   "metadata": {},
   "outputs": [],
   "source": [
    "import matplotlib.pyplot as plt\n",
    "\n",
    "def draw_plot(x, y_list, x_label=None, y_label=None, legend=None):\n",
    "    fig, ax = plt.subplots(figsize=(12,5))\n",
    "    for y in y_list:\n",
    "        ax.plot(x, y)\n",
    "    if x_label is not None and y_label is not None:\n",
    "        title = '{} VS {}'.format(x_label, y_label)\n",
    "        ax.set(xlabel=x_label, ylabel=y_label, title=title)\n",
    "    if legend is not None:\n",
    "        ax.legend(legend)\n",
    "    ax.grid()\n",
    "    plt.show()"
   ]
  },
  {
   "cell_type": "code",
   "execution_count": 10,
   "metadata": {},
   "outputs": [
    {
     "data": {
      "image/png": "[encoded data removed]",
      "text/plain": [
       "<Figure size 864x360 with 1 Axes>"
      ]
     },
     "metadata": {
      "needs_background": "light"
     },
     "output_type": "display_data"
    }
   ],
   "source": [
    "draw_plot(x = [i for i in range(len(history))], y_list = [history], x_label = 'Epochs', \\\n",
    "    y_label = model.loss_fn)"
   ]
  },
  {
   "cell_type": "code",
   "execution_count": 11,
   "metadata": {},
   "outputs": [
    {
     "name": "stdout",
     "output_type": "stream",
     "text": [
      "[0. 1. 0.] <-> [[0.7615381 ]\n",
      " [0.20069228]\n",
      " [0.03776957]]\n",
      "[1. 0. 0.] <-> [[0.45776412]\n",
      " [0.2822183 ]\n",
      " [0.26001763]]\n",
      "[0. 1. 0.] <-> [[0.5947738 ]\n",
      " [0.22819565]\n",
      " [0.17703053]]\n",
      "[0. 1. 0.] <-> [[0.43216243]\n",
      " [0.2998457 ]\n",
      " [0.26799184]]\n",
      "[1. 0. 0.] <-> [[0.8917574 ]\n",
      " [0.0949279 ]\n",
      " [0.01331474]]\n",
      "[0. 1. 0.] <-> [[0.42043862]\n",
      " [0.3074341 ]\n",
      " [0.2721272 ]]\n",
      "[0. 0. 1.] <-> [[0.07056446]\n",
      " [0.4272957 ]\n",
      " [0.5021398 ]]\n",
      "[0. 0. 1.] <-> [[0.05970491]\n",
      " [0.42518547]\n",
      " [0.5151096 ]]\n",
      "[0. 0. 1.] <-> [[0.20054574]\n",
      " [0.41214833]\n",
      " [0.387306  ]]\n",
      "[1. 0. 0.] <-> [[0.8985435 ]\n",
      " [0.07510778]\n",
      " [0.02634877]]\n",
      "[1. 0. 0.] <-> [[0.41464227]\n",
      " [0.31108874]\n",
      " [0.27426893]]\n",
      "[1. 0. 0.] <-> [[0.5000355 ]\n",
      " [0.25016704]\n",
      " [0.24979748]]\n",
      "[1. 0. 0.] <-> [[0.8983322 ]\n",
      " [0.06801514]\n",
      " [0.03365273]]\n",
      "[1. 0. 0.] <-> [[0.8968371 ]\n",
      " [0.08377797]\n",
      " [0.01938493]]\n",
      "[1. 0. 0.] <-> [[0.89474964]\n",
      " [0.03672275]\n",
      " [0.0685276 ]]\n",
      "[1. 0. 0.] <-> [[0.22090454]\n",
      " [0.40542182]\n",
      " [0.37367362]]\n",
      "[0. 1. 0.] <-> [[0.07797148]\n",
      " [0.42847162]\n",
      " [0.49355692]]\n",
      "[1. 0. 0.] <-> [[0.82185805]\n",
      " [0.16669786]\n",
      " [0.01144414]]\n",
      "[1. 0. 0.] <-> [[0.8633047 ]\n",
      " [0.13037463]\n",
      " [0.0063207 ]]\n",
      "[1. 0. 0.] <-> [[0.34037614]\n",
      " [0.3532603 ]\n",
      " [0.30636355]]\n",
      "[1. 0. 0.] <-> [[0.838627  ]\n",
      " [0.15346032]\n",
      " [0.00791274]]\n",
      "[1. 0. 0.] <-> [[0.5165337 ]\n",
      " [0.24018815]\n",
      " [0.24327818]]\n",
      "[0. 1. 0.] <-> [[0.06630486]\n",
      " [0.42649266]\n",
      " [0.50720245]]\n",
      "[0. 1. 0.] <-> [[0.6667609 ]\n",
      " [0.223178  ]\n",
      " [0.11006109]]\n",
      "[0. 0. 1.] <-> [[0.04887016]\n",
      " [0.42677572]\n",
      " [0.5243541 ]]\n",
      "[1. 0. 0.] <-> [[0.8931118 ]\n",
      " [0.04341412]\n",
      " [0.063474  ]]\n",
      "[1. 0. 0.] <-> [[0.5217819 ]\n",
      " [0.23794001]\n",
      " [0.24027804]]\n",
      "[0. 1. 0.] <-> [[0.06090164]\n",
      " [0.42541564]\n",
      " [0.5136827 ]]\n",
      "[0. 0. 1.] <-> [[0.26878938]\n",
      " [0.38690037]\n",
      " [0.34431025]]\n",
      "[1. 0. 0.] <-> [[0.89322424]\n",
      " [0.04629069]\n",
      " [0.06048512]]\n",
      "[1. 0. 0.] <-> [[0.9095171 ]\n",
      " [0.02343147]\n",
      " [0.06705146]]\n",
      "[1. 0. 0.] <-> [[0.79282796]\n",
      " [0.18559352]\n",
      " [0.02157854]]\n",
      "[0. 0. 1.] <-> [[0.07702259]\n",
      " [0.42833883]\n",
      " [0.49463862]]\n",
      "[1. 0. 0.] <-> [[0.8954261 ]\n",
      " [0.08760211]\n",
      " [0.01697176]]\n",
      "[1. 0. 0.] <-> [[0.8950968 ]\n",
      " [0.03605129]\n",
      " [0.06885198]]\n",
      "[1. 0. 0.] <-> [[0.8971875 ]\n",
      " [0.03297476]\n",
      " [0.06983769]]\n",
      "[1. 0. 0.] <-> [[0.8994522 ]\n",
      " [0.03055165]\n",
      " [0.06999623]]\n",
      "[1. 0. 0.] <-> [[0.47917637]\n",
      " [0.26617485]\n",
      " [0.25464877]]\n",
      "[1. 0. 0.] <-> [[0.8868825 ]\n",
      " [0.10250241]\n",
      " [0.01061522]]\n",
      "[1. 0. 0.] <-> [[0.47057748]\n",
      " [0.27276123]\n",
      " [0.2566614 ]]\n",
      "[1. 0. 0.] <-> [[0.4449391 ]\n",
      " [0.29124516]\n",
      " [0.26381573]]\n",
      "[1. 0. 0.] <-> [[0.8975756 ]\n",
      " [0.03251318]\n",
      " [0.06991128]]\n",
      "[1. 0. 0.] <-> [[0.4574636 ]\n",
      " [0.28243467]\n",
      " [0.26010177]]\n",
      "[0. 1. 0.] <-> [[0.4819353 ]\n",
      " [0.26403028]\n",
      " [0.25403446]]\n",
      "[0. 0. 1.] <-> [[0.9222638 ]\n",
      " [0.01734971]\n",
      " [0.06038653]]\n",
      "[1. 0. 0.] <-> [[0.8112371 ]\n",
      " [0.17419152]\n",
      " [0.01457135]]\n",
      "[0. 1. 0.] <-> [[0.89475024]\n",
      " [0.03672167]\n",
      " [0.06852811]]\n",
      "[1. 0. 0.] <-> [[0.89773124]\n",
      " [0.0644416 ]\n",
      " [0.03782716]]\n",
      "[1. 0. 0.] <-> [[0.31841847]\n",
      " [0.3642864 ]\n",
      " [0.31729516]]\n",
      "[1. 0. 0.] <-> [[0.49184388]\n",
      " [0.25630984]\n",
      " [0.25184628]]\n",
      "[1. 0. 0.] <-> [[0.86921096]\n",
      " [0.12406486]\n",
      " [0.00672423]]\n",
      "[1. 0. 0.] <-> [[0.885985  ]\n",
      " [0.10376304]\n",
      " [0.01025201]]\n",
      "[1. 0. 0.] <-> [[0.8971064 ]\n",
      " [0.08290056]\n",
      " [0.01999293]]\n",
      "[1. 0. 0.] <-> [[0.89310247]\n",
      " [0.04413347]\n",
      " [0.06276402]]\n",
      "[1. 0. 0.] <-> [[0.8985799]\n",
      " [0.0745266]\n",
      " [0.0268935]]\n",
      "[1. 0. 0.] <-> [[0.8962411 ]\n",
      " [0.05859147]\n",
      " [0.04516746]]\n",
      "[0. 0. 1.] <-> [[0.04893828]\n",
      " [0.42659068]\n",
      " [0.52447104]]\n",
      "[1. 0. 0.] <-> [[0.9045302 ]\n",
      " [0.02650732]\n",
      " [0.0689624 ]]\n",
      "[1. 0. 0.] <-> [[0.5548823 ]\n",
      " [0.23081967]\n",
      " [0.21429805]]\n",
      "[1. 0. 0.] <-> [[0.89686096]\n",
      " [0.06081048]\n",
      " [0.04232857]]\n",
      "[1. 0. 0.] <-> [[0.8758258 ]\n",
      " [0.11657745]\n",
      " [0.00759678]]\n",
      "[1. 0. 0.] <-> [[0.86137134]\n",
      " [0.13236938]\n",
      " [0.00625928]]\n",
      "[1. 0. 0.] <-> [[0.8986287 ]\n",
      " [0.07300995]\n",
      " [0.0283614 ]]\n",
      "[1. 0. 0.] <-> [[0.8967585 ]\n",
      " [0.08402167]\n",
      " [0.0192198 ]]\n",
      "[1. 0. 0.] <-> [[0.89765507]\n",
      " [0.06408024]\n",
      " [0.03826475]]\n",
      "[0. 1. 0.] <-> [[0.16214804]\n",
      " [0.42251486]\n",
      " [0.41533706]]\n",
      "[1. 0. 0.] <-> [[0.8931355 ]\n",
      " [0.04289933]\n",
      " [0.06396517]]\n",
      "[1. 0. 0.] <-> [[0.50955456]\n",
      " [0.24389055]\n",
      " [0.24655488]]\n",
      "[0. 0. 1.] <-> [[0.0495146 ]\n",
      " [0.42563915]\n",
      " [0.52484626]]\n",
      "[1. 0. 0.] <-> [[0.6846152 ]\n",
      " [0.2208271 ]\n",
      " [0.09455768]]\n",
      "[0. 0. 1.] <-> [[0.8629498 ]\n",
      " [0.13074332]\n",
      " [0.00630685]]\n",
      "[0. 1. 0.] <-> [[0.08490727]\n",
      " [0.42927542]\n",
      " [0.48581734]]\n",
      "[1. 0. 0.] <-> [[0.8984396 ]\n",
      " [0.07628289]\n",
      " [0.02527751]]\n",
      "[1. 0. 0.] <-> [[0.9305491 ]\n",
      " [0.01414038]\n",
      " [0.05531057]]\n",
      "[1. 0. 0.] <-> [[0.8831917 ]\n",
      " [0.10751595]\n",
      " [0.00929229]]\n",
      "[1. 0. 0.] <-> [[0.3250948 ]\n",
      " [0.36099946]\n",
      " [0.31390578]]\n",
      "[0. 0. 1.] <-> [[0.06554844]\n",
      " [0.42634335]\n",
      " [0.5081082 ]]\n",
      "[1. 0. 0.] <-> [[0.8964499 ]\n",
      " [0.08493583]\n",
      " [0.0186143 ]]\n",
      "[0. 1. 0.] <-> [[0.51437145]\n",
      " [0.24124658]\n",
      " [0.24438202]]\n",
      "[1. 0. 0.] <-> [[0.89436823]\n",
      " [0.05211199]\n",
      " [0.05351976]]\n",
      "[1. 0. 0.] <-> [[0.85888314]\n",
      " [0.13488625]\n",
      " [0.00623051]]\n",
      "[1. 0. 0.] <-> [[0.4711538 ]\n",
      " [0.2723253 ]\n",
      " [0.25652087]]\n",
      "[1. 0. 0.] <-> [[0.8904024 ]\n",
      " [0.09719095]\n",
      " [0.01240666]]\n",
      "[1. 0. 0.] <-> [[0.6662962 ]\n",
      " [0.22323097]\n",
      " [0.11047273]]\n",
      "[1. 0. 0.] <-> [[0.89529693]\n",
      " [0.08790887]\n",
      " [0.01679423]]\n",
      "[1. 0. 0.] <-> [[0.6015688 ]\n",
      " [0.22787711]\n",
      " [0.17055415]]\n",
      "[1. 0. 0.] <-> [[0.8738707 ]\n",
      " [0.11884212]\n",
      " [0.00728713]]\n",
      "[0. 0. 1.] <-> [[0.3659288]\n",
      " [0.3396377]\n",
      " [0.2944335]]\n",
      "[0. 0. 1.] <-> [[0.8975329 ]\n",
      " [0.06352435]\n",
      " [0.03894284]]\n",
      "[1. 0. 0.] <-> [[0.86966664]\n",
      " [0.1235641 ]\n",
      " [0.00676928]]\n",
      "[1. 0. 0.] <-> [[0.9159964 ]\n",
      " [0.0201134 ]\n",
      " [0.06389019]]\n",
      "[1. 0. 0.] <-> [[0.7865769 ]\n",
      " [0.1890227 ]\n",
      " [0.02440029]]\n",
      "[1. 0. 0.] <-> [[0.44724855]\n",
      " [0.28965026]\n",
      " [0.2631012 ]]\n",
      "[0. 1. 0.] <-> [[0.34212732]\n",
      " [0.35235414]\n",
      " [0.30551857]]\n",
      "[1. 0. 0.] <-> [[0.8046499 ]\n",
      " [0.17849967]\n",
      " [0.01685043]]\n",
      "[1. 0. 0.] <-> [[0.89529985]\n",
      " [0.08790168]\n",
      " [0.01679841]]\n",
      "[1. 0. 0.] <-> [[0.86737317]\n",
      " [0.12606364]\n",
      " [0.00656319]]\n",
      "[1. 0. 0.] <-> [[0.88511246]\n",
      " [0.10496105]\n",
      " [0.00992654]]\n",
      "[1. 0. 0.] <-> [[0.90946907]\n",
      " [0.02345848]\n",
      " [0.06707253]]\n",
      "[0. 1. 0.] <-> [[0.85601646]\n",
      " [0.13771702]\n",
      " [0.00626649]]\n",
      "[1. 0. 0.] <-> [[0.8749161 ]\n",
      " [0.11763715]\n",
      " [0.00744676]]\n",
      "[1. 0. 0.] <-> [[0.89768416]\n",
      " [0.06421728]\n",
      " [0.03809849]]\n",
      "[1. 0. 0.] <-> [[0.52709305]\n",
      " [0.23608601]\n",
      " [0.23682092]]\n",
      "[1. 0. 0.] <-> [[0.78552485]\n",
      " [0.18957867]\n",
      " [0.02489642]]\n",
      "[1. 0. 0.] <-> [[0.89761126]\n",
      " [0.03247187]\n",
      " [0.06991687]]\n",
      "[1. 0. 0.] <-> [[0.8677004 ]\n",
      " [0.12571025]\n",
      " [0.00658946]]\n",
      "[1. 0. 0.] <-> [[0.39354122]\n",
      " [0.32390335]\n",
      " [0.28255543]]\n",
      "[1. 0. 0.] <-> [[0.89457   ]\n",
      " [0.05285775]\n",
      " [0.05257232]]\n",
      "{'accuracy': 0.8580246913580247, 'mean_square_error': 2.8692943354362304, 'categorical_crossentropy': 0.5981726469816985, 'precision': 0.7870370370370371, 'recall': 0.7870370370370371, 'f1': 0.7870370370370371, 'essential_metrics': {0: {'tp_hit': 76, 'fp_hit': 13, 'tn_hit': 15, 'fn_hit': 4}, 1: {'tp_hit': 2, 'fp_hit': 6, 'tn_hit': 87, 'fn_hit': 13}, 2: {'tp_hit': 7, 'fp_hit': 4, 'tn_hit': 91, 'fn_hit': 6}}}\n"
     ]
    },
    {
     "name": "stderr",
     "output_type": "stream",
     "text": [
      "C:\\Users\\tcumi\\github_repo\\neural-network\\python\\activations.py:14: RuntimeWarning: overflow encountered in exp\n",
      "  y = 1 / (1 + np.exp(-Xi))\n"
     ]
    }
   ],
   "source": [
    "# recall phase\n",
    "score = model.evaluate(x_test, y_test, False)\n",
    "print(score)"
   ]
  },
  {
   "cell_type": "code",
   "execution_count": 12,
   "metadata": {},
   "outputs": [],
   "source": [
    "# Testing Performance"
   ]
  },
  {
   "cell_type": "code",
   "execution_count": 13,
   "metadata": {
    "scrolled": true
   },
   "outputs": [
    {
     "name": "stdout",
     "output_type": "stream",
     "text": [
      "{'accuracy': 0.8395061728395061, 'mean_square_error': 2.840353383382853, 'categorical_crossentropy': 0.5960049099392362, 'precision': 0.7592592592592593, 'recall': 0.7592592592592593, 'f1': 0.7592592592592593, 'essential_metrics': {0: {'tp_hit': 76, 'fp_hit': 13, 'tn_hit': 15, 'fn_hit': 4}, 1: {'tp_hit': 6, 'fp_hit': 13, 'tn_hit': 80, 'fn_hit': 9}, 2: {'tp_hit': 0, 'fp_hit': 0, 'tn_hit': 95, 'fn_hit': 13}}, 'checkpoint': 100} \n",
      "\n",
      "\n",
      "{'accuracy': 0.8395061728395061, 'mean_square_error': 2.8542234205082817, 'categorical_crossentropy': 0.5927114839907046, 'precision': 0.7592592592592593, 'recall': 0.7592592592592593, 'f1': 0.7592592592592593, 'essential_metrics': {0: {'tp_hit': 77, 'fp_hit': 14, 'tn_hit': 14, 'fn_hit': 3}, 1: {'tp_hit': 5, 'fp_hit': 12, 'tn_hit': 81, 'fn_hit': 10}, 2: {'tp_hit': 0, 'fp_hit': 0, 'tn_hit': 95, 'fn_hit': 13}}, 'checkpoint': 200} \n",
      "\n",
      "\n",
      "{'accuracy': 0.8641975308641975, 'mean_square_error': 2.8443989373696468, 'categorical_crossentropy': 0.5906556094134295, 'precision': 0.7962962962962963, 'recall': 0.7962962962962963, 'f1': 0.7962962962962963, 'essential_metrics': {0: {'tp_hit': 77, 'fp_hit': 14, 'tn_hit': 14, 'fn_hit': 3}, 1: {'tp_hit': 3, 'fp_hit': 6, 'tn_hit': 87, 'fn_hit': 12}, 2: {'tp_hit': 6, 'fp_hit': 2, 'tn_hit': 93, 'fn_hit': 7}}, 'checkpoint': 300} \n",
      "\n",
      "\n",
      "{'accuracy': 0.8518518518518519, 'mean_square_error': 2.8512262532947137, 'categorical_crossentropy': 0.600120191220884, 'precision': 0.7777777777777778, 'recall': 0.7777777777777778, 'f1': 0.7777777777777778, 'essential_metrics': {0: {'tp_hit': 76, 'fp_hit': 13, 'tn_hit': 15, 'fn_hit': 4}, 1: {'tp_hit': 1, 'fp_hit': 6, 'tn_hit': 87, 'fn_hit': 14}, 2: {'tp_hit': 7, 'fp_hit': 5, 'tn_hit': 90, 'fn_hit': 6}}, 'checkpoint': 400} \n",
      "\n",
      "\n",
      "{'accuracy': 0.8580246913580247, 'mean_square_error': 2.8692943354362304, 'categorical_crossentropy': 0.5981726469816985, 'precision': 0.7870370370370371, 'recall': 0.7870370370370371, 'f1': 0.7870370370370371, 'essential_metrics': {0: {'tp_hit': 76, 'fp_hit': 13, 'tn_hit': 15, 'fn_hit': 4}, 1: {'tp_hit': 2, 'fp_hit': 6, 'tn_hit': 87, 'fn_hit': 13}, 2: {'tp_hit': 7, 'fp_hit': 4, 'tn_hit': 91, 'fn_hit': 6}}, 'checkpoint': 500} \n",
      "\n",
      "\n"
     ]
    }
   ],
   "source": [
    "for checkpoint in checkpoints:\n",
    "    print(checkpoint, '\\n\\n')"
   ]
  },
  {
   "cell_type": "code",
   "execution_count": 14,
   "metadata": {},
   "outputs": [
    {
     "data": {
      "image/png": "[encoded data removed]",
      "text/plain": [
       "<Figure size 864x360 with 1 Axes>"
      ]
     },
     "metadata": {
      "needs_background": "light"
     },
     "output_type": "display_data"
    }
   ],
   "source": [
    "cat_cross = [ ckp[model.loss_fn] for ckp in checkpoints ]\n",
    "draw_plot(x = [(i+1)*breakpoint for i in range(len(checkpoints))], y_list = [cat_cross], x_label = 'Checkpoints', \\\n",
    "    y_label = model.loss_fn)"
   ]
  },
  {
   "cell_type": "code",
   "execution_count": 15,
   "metadata": {},
   "outputs": [
    {
     "data": {
      "image/png": "[encoded data removed]",
      "text/plain": [
       "<Figure size 864x360 with 1 Axes>"
      ]
     },
     "metadata": {
      "needs_background": "light"
     },
     "output_type": "display_data"
    }
   ],
   "source": [
    "acc = [ ckp['accuracy'] for ckp in checkpoints ]\n",
    "draw_plot(x = [(i+1)*breakpoint for i in range(len(checkpoints))], y_list = [acc], x_label = 'Checkpoints', \\\n",
    "    y_label = 'accuracy')"
   ]
  },
  {
   "cell_type": "code",
   "execution_count": 16,
   "metadata": {},
   "outputs": [
    {
     "name": "stdout",
     "output_type": "stream",
     "text": [
      "Layer 1\n",
      "Neuron 0: weights:\n",
      "[[ 0.44807023]\n",
      " [-1.4810511 ]\n",
      " [ 2.3854656 ]\n",
      " [-1.451656  ]\n",
      " [-1.40518   ]]\n",
      " bias: [3.]\n",
      "\n",
      "Neuron 1: weights:\n",
      "[[ 1.2838379 ]\n",
      " [-0.89108074]\n",
      " [ 1.0575843 ]\n",
      " [-1.7688696 ]\n",
      " [-0.43851525]]\n",
      " bias: [-1.3966445]\n",
      "\n",
      "Neuron 2: weights:\n",
      "[[-3.       ]\n",
      " [-3.       ]\n",
      " [-3.       ]\n",
      " [-1.8352903]\n",
      " [-3.       ]]\n",
      " bias: [-2.0344412]\n",
      "\n",
      "Neuron 3: weights:\n",
      "[[-0.6577548 ]\n",
      " [-0.00694348]\n",
      " [-2.3738844 ]\n",
      " [-1.5556197 ]\n",
      " [ 1.6473047 ]]\n",
      " bias: [-3.]\n",
      "\n",
      "$\n",
      "Layer 2\n",
      "Neuron 0: weights:\n",
      "[[ 1.0572891]\n",
      " [ 2.6038523]\n",
      " [ 3.       ]\n",
      " [-1.0625932]]\n",
      " bias: [-0.80340904]\n",
      "\n",
      "Neuron 1: weights:\n",
      "[[-1.0971781]\n",
      " [-2.492905 ]\n",
      " [ 2.3620205]\n",
      " [-1.0213414]]\n",
      " bias: [1.3662024]\n",
      "\n",
      "Neuron 2: weights:\n",
      "[[-1.8512055e+00]\n",
      " [ 1.1030749e-03]\n",
      " [-1.4999549e+00]\n",
      " [ 3.0000000e+00]]\n",
      " bias: [1.5710154]\n",
      "\n",
      "$\n",
      "\n"
     ]
    }
   ],
   "source": [
    "print(model)"
   ]
  },
  {
   "cell_type": "code",
   "execution_count": null,
   "metadata": {},
   "outputs": [],
   "source": []
  }
 ],
 "metadata": {
  "kernelspec": {
   "display_name": "Python 3",
   "language": "python",
   "name": "python3"
  },
  "language_info": {
   "codemirror_mode": {
    "name": "ipython",
    "version": 3
   },
   "file_extension": ".py",
   "mimetype": "text/x-python",
   "name": "python",
   "nbconvert_exporter": "python",
   "pygments_lexer": "ipython3",
   "version": "3.6.10"
  }
 },
 "nbformat": 4,
 "nbformat_minor": 2
}
