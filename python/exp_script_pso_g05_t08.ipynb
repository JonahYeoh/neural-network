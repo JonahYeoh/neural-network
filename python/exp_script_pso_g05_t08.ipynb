{
 "cells": [
  {
   "cell_type": "code",
   "execution_count": 1,
   "metadata": {},
   "outputs": [],
   "source": [
    "# dependency\n",
    "import numpy as np\n",
    "import pandas as pd\n",
    "import copy\n",
    "import math\n",
    "import sys\n",
    "import os\n",
    "from activations import relu, leaky_relu, sigmoid, tanh, softmax, d_sigmoid, d_relu\n",
    "from initializers import glorot_uniform, random_normal, random_uniform\n",
    "from regularizers import l1_regularizer, l2_regularizer\n",
    "from utility import trim_tail, multiply, subtract, get_nparams, one_hot_encoding, get_data\n",
    "from metrics import MSE, CCE, ACC, PRECISION, RECALL, essential_metrics, wondering_penalty, close_gap_penalty\n",
    "from pso import PSO\n",
    "from ga import GA\n",
    "from nn import Network\n",
    "from layer import DenseLayer\n",
    "from scalers import MinMaxScaler, StandardScaler"
   ]
  },
  {
   "cell_type": "code",
   "execution_count": 2,
   "metadata": {},
   "outputs": [],
   "source": [
    "# reference\n",
    "metrics_fn_dict = dict()\n",
    "metrics_fn_dict['accuracy'] = ACC\n",
    "metrics_fn_dict['categorical_crossentropy'] = CCE\n",
    "metrics_fn_dict['mean_square_error'] = MSE\n",
    "metrics_fn_dict['precision'] = PRECISION\n",
    "metrics_fn_dict['recall'] = RECALL\n",
    "metrics_fn_dict['essential_metrics'] = essential_metrics"
   ]
  },
  {
   "cell_type": "code",
   "execution_count": 3,
   "metadata": {},
   "outputs": [],
   "source": [
    "# model\n",
    "model = Network(5, lr = None)\n",
    "model.add_layer(DenseLayer(1, 4, True, afn=sigmoid, dafn=None, rfn=None))\n",
    "model.add_layer(DenseLayer(2, 3, True, afn=softmax, dafn=None, rfn=None))"
   ]
  },
  {
   "cell_type": "code",
   "execution_count": 4,
   "metadata": {},
   "outputs": [
    {
     "name": "stdout",
     "output_type": "stream",
     "text": [
      "see one see two 2 0.5\n"
     ]
    }
   ],
   "source": [
    "pso = PSO(dict(m = 50,\n",
    "    weight_constraint = [-3, 3], \n",
    "    velocity_constraint = [-0.1, 0.1],\n",
    "    c1 = [0.5, 2],\n",
    "    c2 = [0.5, 2],\n",
    "    w = [0.5, 1.6],\n",
    "    w_decay = 0.95,\n",
    "    scale_hyperparameter = False,\n",
    "    regularizer = l2_regularizer,\n",
    "    mask = True))"
   ]
  },
  {
   "cell_type": "code",
   "execution_count": 5,
   "metadata": {},
   "outputs": [
    {
     "name": "stdout",
     "output_type": "stream",
     "text": [
      "building layer 1 with 5\n",
      "24\n",
      "building layer 2 with 4\n",
      "15\n"
     ]
    }
   ],
   "source": [
    "model.compile(loss_fn = 'categorical_crossentropy', optimizer = pso, \\\n",
    "    metrics = ['accuracy', 'mean_square_error', 'categorical_crossentropy'])"
   ]
  },
  {
   "cell_type": "code",
   "execution_count": 6,
   "metadata": {},
   "outputs": [
    {
     "name": "stdout",
     "output_type": "stream",
     "text": [
      "<class 'pandas.core.frame.DataFrame'>\n",
      "RangeIndex: 107 entries, 0 to 106\n",
      "Data columns (total 6 columns):\n",
      " #   Column  Non-Null Count  Dtype  \n",
      "---  ------  --------------  -----  \n",
      " 0   f1      107 non-null    float32\n",
      " 1   f2      107 non-null    float32\n",
      " 2   f3      107 non-null    float32\n",
      " 3   f4      107 non-null    float32\n",
      " 4   f5      107 non-null    float32\n",
      " 5   label   107 non-null    float32\n",
      "dtypes: float32(6)\n",
      "memory usage: 2.6 KB\n",
      "None\n",
      "<class 'pandas.core.frame.DataFrame'>\n",
      "RangeIndex: 108 entries, 0 to 107\n",
      "Data columns (total 6 columns):\n",
      " #   Column  Non-Null Count  Dtype  \n",
      "---  ------  --------------  -----  \n",
      " 0   f1      108 non-null    float32\n",
      " 1   f2      108 non-null    float32\n",
      " 2   f3      108 non-null    float32\n",
      " 3   f4      108 non-null    float32\n",
      " 4   f5      108 non-null    float32\n",
      " 5   label   108 non-null    float32\n",
      "dtypes: float32(6)\n",
      "memory usage: 2.7 KB\n",
      "None\n"
     ]
    }
   ],
   "source": [
    "# data loading\n",
    "DATA = os.path.join('c:\\\\Users\\\\tcumi\\\\github_repo\\\\neural-network\\\\', 'dataset')\n",
    "GROUP = 5\n",
    "COLUMNS = ['f1', 'f2', 'f3', 'f4', 'f5', 'label']\n",
    "N_CLASS = 3\n",
    "EPOCHS = 500\n",
    "train_dir, test_dir = \"..//dataset//training_data{}.txt\".format(GROUP), \"..//dataset//testing_data{}.txt\".format(GROUP)\n",
    "train, test = get_data(DATA, train_dir, COLUMNS), get_data(DATA, test_dir, COLUMNS)\n",
    "# shuffle\n",
    "train, test = train.sample(frac=1), test.sample(frac=1)\n",
    "x_train, y_train = train.drop('label', axis=1), train['label']\n",
    "x_test, y_test = test.drop('label', axis=1), test['label']"
   ]
  },
  {
   "cell_type": "code",
   "execution_count": 7,
   "metadata": {},
   "outputs": [],
   "source": [
    "# data scaling and encoding\n",
    "scaler = StandardScaler(['f1', 'f2', 'f3', 'f4', 'f5'])\n",
    "scaler.fit(x_train)\n",
    "x_train = scaler.transform(x_train)\n",
    "x_test = scaler.transform(x_test)\n",
    "y_train = one_hot_encoding(y_train, N_CLASS)\n",
    "y_test = one_hot_encoding(y_test, N_CLASS)"
   ]
  },
  {
   "cell_type": "code",
   "execution_count": 8,
   "metadata": {
    "tags": [
     "outputPrepend"
    ]
   },
   "outputs": [
    {
     "name": "stdout",
     "output_type": "stream",
     "text": [
      "Checkpoint 100, Accuracy: 0.9197530864197531, Loss: 0.4574099999886972\n",
      "Checkpoint 200, Accuracy: 0.9382716049382716, Loss: 0.35186195373535156\n",
      "Checkpoint 300, Accuracy: 0.9259259259259259, Loss: 0.382667930037887\n",
      "Checkpoint 400, Accuracy: 0.9259259259259259, Loss: 0.382667930037887\n",
      "Checkpoint 500, Accuracy: 0.9197530864197531, Loss: 0.3491225419221101\n"
     ]
    }
   ],
   "source": [
    "# learning phase\n",
    "breakpoint = 100\n",
    "checkpoints = list()\n",
    "history = list()\n",
    "for century in range(0, EPOCHS, breakpoint):\n",
    "    sub_history = model.fit(x_train, y_train, breakpoint, verbose = 0)\n",
    "    score = model.evaluate(x_test, y_test, False, verbose = 0)\n",
    "    print('Checkpoint {}, Accuracy: {}, Loss: {}'.format(century+breakpoint, score['accuracy'], score[model.loss_fn]))\n",
    "    score['checkpoint'] = century + breakpoint\n",
    "    checkpoints.append(score)\n",
    "    history.extend(sub_history)\n",
    "    itr = century + breakpoint\n",
    "    model.optimizer.c1 = np.max([model.optimizer.C1[1] - ((model.optimizer.C1[1] - model.optimizer.C1[0]) * itr / EPOCHS), model.optimizer.C1[0]])\n",
    "    model.optimizer.c2 = np.min([model.optimizer.C2[0] + ((model.optimizer.C2[1] - model.optimizer.C2[0]) * itr / EPOCHS), model.optimizer.C2[1]])\n",
    "    model.optimizer.w = np.max([model.optimizer.w * model.optimizer.W_Decay, model.optimizer.W[0]])"
   ]
  },
  {
   "cell_type": "code",
   "execution_count": 9,
   "metadata": {},
   "outputs": [],
   "source": [
    "import matplotlib.pyplot as plt\n",
    "\n",
    "def draw_plot(x, y_list, x_label=None, y_label=None, legend=None, title=None):\n",
    "    fig, ax = plt.subplots(figsize=(12,5))\n",
    "    for xi, yi in zip(x, y_list):\n",
    "        ax.plot(xi, yi)\n",
    "    if x_label is not None and y_label is not None:\n",
    "        ax.set(xlabel=x_label, ylabel=y_label, title='{} VS {}'.format(x_label, y_label))\n",
    "    if legend is not None:\n",
    "        ax.legend(legend)\n",
    "    ax.grid()\n",
    "    plt.show()"
   ]
  },
  {
   "cell_type": "code",
   "execution_count": 10,
   "metadata": {},
   "outputs": [
    {
     "name": "stdout",
     "output_type": "stream",
     "text": [
      "[1. 0. 0.] <-> [0.8376698  0.08799147 0.07433868]\n",
      "[0. 0. 1.] <-> [0.4802045  0.00902792 0.5107676 ]\n",
      "[1. 0. 0.] <-> [0.8664978  0.07610536 0.05739678]\n",
      "[1. 0. 0.] <-> [0.8769961  0.05267145 0.07033242]\n",
      "[1. 0. 0.] <-> [0.7821869  0.12423378 0.09357938]\n",
      "[1. 0. 0.] <-> [0.8192079  0.1253937  0.05539843]\n",
      "[1. 0. 0.] <-> [0.79192305 0.04740966 0.16066721]\n",
      "[0. 0. 1.] <-> [0.3909701  0.01083529 0.59819466]\n",
      "[1. 0. 0.] <-> [0.8364213  0.02827943 0.13529931]\n",
      "[1. 0. 0.] <-> [0.838909   0.05310382 0.10798723]\n",
      "[0. 1. 0.] <-> [0.30463356 0.6813433  0.01402316]\n",
      "[1. 0. 0.] <-> [0.8171141  0.03311495 0.14977093]\n",
      "[1. 0. 0.] <-> [0.7845062  0.08506899 0.13042477]\n",
      "[1. 0. 0.] <-> [0.7870162  0.04697068 0.16601308]\n",
      "[1. 0. 0.] <-> [0.83702797 0.06141897 0.10155304]\n",
      "[1. 0. 0.] <-> [0.78294086 0.02677059 0.19028856]\n",
      "[1. 0. 0.] <-> [0.7659401  0.05106518 0.18299463]\n",
      "[0. 1. 0.] <-> [0.49373057 0.4575105  0.04875894]\n",
      "[1. 0. 0.] <-> [0.8426458  0.07782252 0.07953167]\n",
      "[0. 0. 1.] <-> [0.5282498  0.00988728 0.46186292]\n",
      "[1. 0. 0.] <-> [0.8716272  0.06572992 0.06264292]\n",
      "[0. 0. 1.] <-> [0.83854645 0.03114058 0.13031296]\n",
      "[1. 0. 0.] <-> [0.8181257  0.10272003 0.07915425]\n",
      "[1. 0. 0.] <-> [0.79160595 0.15875967 0.04963442]\n",
      "[0. 0. 1.] <-> [0.20473151 0.03437981 0.76088876]\n",
      "[1. 0. 0.] <-> [0.8841232  0.0566486  0.05922813]\n",
      "[1. 0. 0.] <-> [0.88980544 0.04433459 0.06585991]\n",
      "[0. 0. 1.] <-> [0.41190597 0.00895566 0.5791384 ]\n",
      "[1. 0. 0.] <-> [0.87896717 0.06443876 0.05659399]\n",
      "[1. 0. 0.] <-> [0.83136153 0.08203954 0.08659894]\n",
      "[1. 0. 0.] <-> [0.8601109  0.07111462 0.06877455]\n",
      "[1. 0. 0.] <-> [0.7833316  0.09892147 0.11774689]\n",
      "[0. 0. 1.] <-> [0.38261506 0.01072929 0.60665566]\n",
      "[1. 0. 0.] <-> [0.84866637 0.09547003 0.05586351]\n",
      "[1. 0. 0.] <-> [0.8396485  0.09355494 0.06679654]\n",
      "[1. 0. 0.] <-> [0.8504416  0.07972696 0.06983147]\n",
      "[0. 0. 1.] <-> [0.21793887 0.03122632 0.7508349 ]\n",
      "[0. 1. 0.] <-> [0.7514751  0.21964468 0.02888021]\n",
      "[1. 0. 0.] <-> [0.82177734 0.10146353 0.07675911]\n",
      "[1. 0. 0.] <-> [0.86328965 0.02730547 0.10940485]\n",
      "[1. 0. 0.] <-> [0.8952627  0.0470615  0.05767577]\n",
      "[0. 1. 0.] <-> [0.5544022  0.42106223 0.02453561]\n",
      "[0. 1. 0.] <-> [0.6453718  0.3216878  0.03294046]\n",
      "[0. 1. 0.] <-> [0.22788917 0.76189107 0.01021977]\n",
      "[1. 0. 0.] <-> [0.84225494 0.09604484 0.06170025]\n",
      "[1. 0. 0.] <-> [0.8537533  0.04035694 0.10588968]\n",
      "[1. 0. 0.] <-> [0.8299888  0.04982165 0.12018955]\n",
      "[1. 0. 0.] <-> [0.844503   0.06368857 0.09180836]\n",
      "[0. 1. 0.] <-> [0.2306071  0.7587722  0.01062068]\n",
      "[1. 0. 0.] <-> [0.86357504 0.03198468 0.10444032]\n",
      "[1. 0. 0.] <-> [0.8290957  0.04091337 0.12999095]\n",
      "[1. 0. 0.] <-> [0.8653686  0.06247817 0.07215316]\n",
      "[1. 0. 0.] <-> [0.8234582  0.1128556  0.06368624]\n",
      "[1. 0. 0.] <-> [0.7505681  0.20265695 0.04677497]\n",
      "[1. 0. 0.] <-> [0.82359326 0.09773628 0.07867043]\n",
      "[0. 1. 0.] <-> [0.55633014 0.42114618 0.0225237 ]\n",
      "[1. 0. 0.] <-> [0.8326259  0.07283758 0.09453648]\n",
      "[1. 0. 0.] <-> [0.84468335 0.08235519 0.07296143]\n",
      "[1. 0. 0.] <-> [0.8571135  0.03253267 0.11035386]\n",
      "[0. 0. 1.] <-> [0.46079457 0.01415475 0.52505064]\n",
      "[0. 0. 1.] <-> [0.69808185 0.02491075 0.27700734]\n",
      "[1. 0. 0.] <-> [0.8406717  0.07481336 0.08451494]\n",
      "[1. 0. 0.] <-> [0.7012637  0.25153407 0.04720222]\n",
      "[1. 0. 0.] <-> [0.8638208  0.09388398 0.04229527]\n",
      "[1. 0. 0.] <-> [0.8766207  0.03289876 0.09048045]\n",
      "[1. 0. 0.] <-> [0.83731586 0.10871058 0.05397352]\n",
      "[1. 0. 0.] <-> [0.7700132  0.03760158 0.19238518]\n",
      "[1. 0. 0.] <-> [0.8602076  0.08706079 0.05273155]\n",
      "[1. 0. 0.] <-> [0.8400719  0.08058388 0.07934422]\n",
      "[1. 0. 0.] <-> [0.8544923  0.04504398 0.1004637 ]\n",
      "[0. 1. 0.] <-> [0.22656164 0.76331484 0.01012353]\n",
      "[1. 0. 0.] <-> [0.8073585  0.10890575 0.08373575]\n",
      "[0. 1. 0.] <-> [0.24018012 0.7489722  0.01084772]\n",
      "[0. 0. 1.] <-> [0.383416   0.01043381 0.6061502 ]\n",
      "[1. 0. 0.] <-> [0.8194845  0.07065821 0.10985725]\n",
      "[0. 1. 0.] <-> [0.5809414  0.38791275 0.03114584]\n",
      "[1. 0. 0.] <-> [0.83133703 0.03252259 0.13614042]\n",
      "[1. 0. 0.] <-> [0.8532929  0.10022525 0.0464819 ]\n",
      "[1. 0. 0.] <-> [0.8259516  0.07367279 0.10037561]\n",
      "[0. 1. 0.] <-> [0.38122952 0.60114735 0.01762311]\n",
      "[0. 0. 1.] <-> [0.816025   0.03140281 0.1525722 ]\n",
      "[1. 0. 0.] <-> [0.578612   0.03013255 0.3912555 ]\n",
      "[1. 0. 0.] <-> [0.8853149  0.0669646  0.04772061]\n",
      "[1. 0. 0.] <-> [0.7942279  0.03627816 0.16949396]\n",
      "[1. 0. 0.] <-> [0.7678591  0.09452663 0.13761431]\n",
      "[1. 0. 0.] <-> [0.78560835 0.17027648 0.04411514]\n",
      "[1. 0. 0.] <-> [0.8599936  0.05503695 0.08496947]\n",
      "[1. 0. 0.] <-> [0.79471576 0.12495626 0.08032794]\n",
      "[1. 0. 0.] <-> [0.8894747  0.05123973 0.05928567]\n",
      "[1. 0. 0.] <-> [0.8168292  0.06431216 0.11885861]\n",
      "[0. 1. 0.] <-> [0.25423872 0.7344426  0.01131868]\n",
      "[1. 0. 0.] <-> [0.80236155 0.05011267 0.14752579]\n",
      "[1. 0. 0.] <-> [0.80408996 0.13256969 0.06334042]\n",
      "[1. 0. 0.] <-> [0.88675475 0.03396421 0.07928097]\n",
      "[0. 1. 0.] <-> [0.60477954 0.32646558 0.06875484]\n",
      "[1. 0. 0.] <-> [0.6956775  0.02538408 0.27893844]\n",
      "[1. 0. 0.] <-> [0.8725911  0.07599165 0.05141727]\n",
      "[1. 0. 0.] <-> [0.7634655  0.03739505 0.19913937]\n",
      "[1. 0. 0.] <-> [0.84321415 0.10631081 0.050475  ]\n",
      "[0. 0. 1.] <-> [0.29362404 0.01886204 0.6875139 ]\n",
      "[0. 0. 1.] <-> [0.5307241  0.01038699 0.45888895]\n",
      "[1. 0. 0.] <-> [0.828557   0.0322038  0.13923913]\n",
      "[0. 0. 1.] <-> [0.4577767  0.00985783 0.5323655 ]\n",
      "[0. 1. 0.] <-> [0.22398576 0.7662778  0.00973641]\n",
      "[0. 1. 0.] <-> [0.2206988  0.76982856 0.00947253]\n",
      "[0. 1. 0.] <-> [0.6811135  0.28276205 0.0361244 ]\n",
      "[1. 0. 0.] <-> [0.8553281  0.033326   0.11134595]\n",
      "[1. 0. 0.] <-> [0.80924195 0.14525175 0.04550625]\n",
      "{'accuracy': 0.9197530864197531, 'mean_square_error': 0.18252790033121766, 'categorical_crossentropy': 0.3491225419221101, 'essential_metrics': {0: {'tp_hit': 76, 'fp_hit': 13, 'tn_hit': 19, 'fn_hit': 0}, 1: {'tp_hit': 9, 'fp_hit': 0, 'tn_hit': 91, 'fn_hit': 8}, 2: {'tp_hit': 10, 'fp_hit': 0, 'tn_hit': 93, 'fn_hit': 5}}}\n"
     ]
    }
   ],
   "source": [
    "# recall phase\n",
    "score = model.evaluate(x_test, y_test, False)\n",
    "print(score)"
   ]
  },
  {
   "cell_type": "code",
   "execution_count": 11,
   "metadata": {},
   "outputs": [
    {
     "data": {
      "image/png": "[encoded data removed]",
      "text/plain": [
       "<Figure size 864x360 with 1 Axes>"
      ]
     },
     "metadata": {
      "needs_background": "light"
     },
     "output_type": "display_data"
    },
    {
     "data": {
      "image/png": "[encoded data removed]",
      "text/plain": [
       "<Figure size 864x360 with 1 Axes>"
      ]
     },
     "metadata": {
      "needs_background": "light"
     },
     "output_type": "display_data"
    }
   ],
   "source": [
    "draw_plot(x = [[i for i in range(len(history))], [(i+1)*breakpoint for i in range(len(checkpoints))]], y_list = [history, [ ckp[model.loss_fn] for ckp in checkpoints ]], x_label = 'Epochs', \\\n",
    "    y_label = model.loss_fn, legend=['train', 'test'])\n",
    "acc = [ ckp['accuracy'] for ckp in checkpoints ]\n",
    "draw_plot(x = [[(i+1)*breakpoint for i in range(len(checkpoints))]], y_list = [acc], x_label = 'Checkpoints', \\\n",
    "    y_label = 'accuracy')"
   ]
  },
  {
   "cell_type": "code",
   "execution_count": 12,
   "metadata": {},
   "outputs": [
    {
     "name": "stdout",
     "output_type": "stream",
     "text": [
      "{'accuracy': 0.9197530864197531, 'mean_square_error': 0.232590444089011, 'categorical_crossentropy': 0.4574099999886972, 'essential_metrics': {0: {'tp_hit': 76, 'fp_hit': 12, 'tn_hit': 20, 'fn_hit': 0}, 1: {'tp_hit': 9, 'fp_hit': 0, 'tn_hit': 91, 'fn_hit': 8}, 2: {'tp_hit': 10, 'fp_hit': 1, 'tn_hit': 92, 'fn_hit': 5}}, 'checkpoint': 100} \n",
      "\n",
      "\n",
      "{'accuracy': 0.9382716049382716, 'mean_square_error': 0.1803716405041115, 'categorical_crossentropy': 0.35186195373535156, 'essential_metrics': {0: {'tp_hit': 76, 'fp_hit': 10, 'tn_hit': 22, 'fn_hit': 0}, 1: {'tp_hit': 10, 'fp_hit': 0, 'tn_hit': 91, 'fn_hit': 7}, 2: {'tp_hit': 12, 'fp_hit': 0, 'tn_hit': 93, 'fn_hit': 3}}, 'checkpoint': 200} \n",
      "\n",
      "\n",
      "{'accuracy': 0.9259259259259259, 'mean_square_error': 0.19701028886267813, 'categorical_crossentropy': 0.382667930037887, 'essential_metrics': {0: {'tp_hit': 76, 'fp_hit': 12, 'tn_hit': 20, 'fn_hit': 0}, 1: {'tp_hit': 10, 'fp_hit': 0, 'tn_hit': 91, 'fn_hit': 7}, 2: {'tp_hit': 10, 'fp_hit': 0, 'tn_hit': 93, 'fn_hit': 5}}, 'checkpoint': 300} \n",
      "\n",
      "\n",
      "{'accuracy': 0.9259259259259259, 'mean_square_error': 0.19701028886267813, 'categorical_crossentropy': 0.382667930037887, 'essential_metrics': {0: {'tp_hit': 76, 'fp_hit': 12, 'tn_hit': 20, 'fn_hit': 0}, 1: {'tp_hit': 10, 'fp_hit': 0, 'tn_hit': 91, 'fn_hit': 7}, 2: {'tp_hit': 10, 'fp_hit': 0, 'tn_hit': 93, 'fn_hit': 5}}, 'checkpoint': 400} \n",
      "\n",
      "\n",
      "{'accuracy': 0.9197530864197531, 'mean_square_error': 0.18252790033121766, 'categorical_crossentropy': 0.3491225419221101, 'essential_metrics': {0: {'tp_hit': 76, 'fp_hit': 13, 'tn_hit': 19, 'fn_hit': 0}, 1: {'tp_hit': 9, 'fp_hit': 0, 'tn_hit': 91, 'fn_hit': 8}, 2: {'tp_hit': 10, 'fp_hit': 0, 'tn_hit': 93, 'fn_hit': 5}}, 'checkpoint': 500} \n",
      "\n",
      "\n"
     ]
    }
   ],
   "source": [
    "for checkpoint in checkpoints:\n",
    "    print(checkpoint, '\\n\\n')"
   ]
  },
  {
   "cell_type": "code",
   "execution_count": 13,
   "metadata": {},
   "outputs": [
    {
     "name": "stdout",
     "output_type": "stream",
     "text": [
      "Layer 1\n",
      "Neuron 0: weights:\n",
      "[-0.45647898  0.8953641   0.39833456 -0.00472642 -0.35763648]\n",
      " bias: -0.39407116174697876\n",
      "\n",
      "Neuron 1: weights:\n",
      "[-0.63526577  0.56141615  0.03423313 -0.44049945 -0.9192176 ]\n",
      " bias: 0.5686164498329163\n",
      "\n",
      "Neuron 2: weights:\n",
      "[ 0.47392067 -0.6580863  -0.27566212  0.7042545   0.89371026]\n",
      " bias: -0.4670485258102417\n",
      "\n",
      "Neuron 3: weights:\n",
      "[ 0.3838288  -1.3145063  -0.67023605 -0.50150776 -0.4497557 ]\n",
      " bias: 0.7185937166213989\n",
      "\n",
      "$\n",
      "Layer 2\n",
      "Neuron 0: weights:\n",
      "[-0.36546567  0.95425534 -0.4593039   1.522105  ]\n",
      " bias: 0.1105891540646553\n",
      "\n",
      "Neuron 1: weights:\n",
      "[ 1.691899    0.57557034 -1.2272983  -1.4425573 ]\n",
      " bias: -0.30144792795181274\n",
      "\n",
      "Neuron 2: weights:\n",
      "[-1.0402534 -1.3409541  1.3375403  0.1960456]\n",
      " bias: -0.08701542764902115\n",
      "\n",
      "$\n",
      "\n"
     ]
    }
   ],
   "source": [
    "print(model)"
   ]
  }
 ],
 "metadata": {
  "kernelspec": {
   "display_name": "Python 3",
   "language": "python",
   "name": "python3"
  },
  "language_info": {
   "codemirror_mode": {
    "name": "ipython",
    "version": 3
   },
   "file_extension": ".py",
   "mimetype": "text/x-python",
   "name": "python",
   "nbconvert_exporter": "python",
   "pygments_lexer": "ipython3",
   "version": "3.6.10"
  }
 },
 "nbformat": 4,
 "nbformat_minor": 2
}
