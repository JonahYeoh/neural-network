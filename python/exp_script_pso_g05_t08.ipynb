{
 "cells": [
  {
   "cell_type": "code",
   "execution_count": 1,
   "metadata": {},
   "outputs": [],
   "source": [
    "# dependency\n",
    "import numpy as np\n",
    "import pandas as pd\n",
    "import copy\n",
    "import math\n",
    "import sys\n",
    "import os\n",
    "from activations import relu, leaky_relu, sigmoid, tanh, softmax, d_sigmoid, d_relu\n",
    "from initializers import glorot_uniform, random_normal, random_uniform\n",
    "from regularizers import l1_regularizer, l2_regularizer\n",
    "from utility import trim_tail, multiply, subtract, get_nparams, one_hot_encoding, get_data\n",
    "from metrics import MSE, CCE, ACC, PRECISION, RECALL, essential_metrics, wondering_penalty, close_gap_penalty\n",
    "from pso import PSO\n",
    "from ga import GA\n",
    "from nn import Network\n",
    "from layer import DenseLayer\n",
    "from scalers import MinMaxScaler, StandardScaler"
   ]
  },
  {
   "cell_type": "code",
   "execution_count": 2,
   "metadata": {},
   "outputs": [],
   "source": [
    "# reference\n",
    "metrics_fn_dict = dict()\n",
    "metrics_fn_dict['accuracy'] = ACC\n",
    "metrics_fn_dict['categorical_crossentropy'] = CCE\n",
    "metrics_fn_dict['mean_square_error'] = MSE\n",
    "metrics_fn_dict['precision'] = PRECISION\n",
    "metrics_fn_dict['recall'] = RECALL\n",
    "metrics_fn_dict['essential_metrics'] = essential_metrics"
   ]
  },
  {
   "cell_type": "code",
   "execution_count": 3,
   "metadata": {},
   "outputs": [],
   "source": [
    "# model\n",
    "model = Network(5, lr = None)\n",
    "model.add_layer(DenseLayer(1, 4, True, afn=sigmoid, dafn=None, rfn=None))\n",
    "model.add_layer(DenseLayer(2, 3, True, afn=softmax, dafn=None, rfn=None))"
   ]
  },
  {
   "cell_type": "code",
   "execution_count": 4,
   "metadata": {},
   "outputs": [
    {
     "name": "stdout",
     "output_type": "stream",
     "text": [
      "see one see two 2 0.5\n"
     ]
    }
   ],
   "source": [
    "pso = PSO(dict(m = 50,\n",
    "    weight_constraint = [-3, 3], \n",
    "    velocity_constraint = [-0.1, 0.1],\n",
    "    c1 = [0.5, 2],\n",
    "    c2 = [0.5, 2],\n",
    "    w = [0.5, 1.6],\n",
    "    w_decay = 0.95,\n",
    "    scale_hyperparameter = False,\n",
    "    regularizer = l2_regularizer,\n",
    "    mask = True))"
   ]
  },
  {
   "cell_type": "code",
   "execution_count": 5,
   "metadata": {},
   "outputs": [
    {
     "name": "stdout",
     "output_type": "stream",
     "text": [
      "building layer 1 with 5\n",
      "24\n",
      "building layer 2 with 4\n",
      "15\n"
     ]
    }
   ],
   "source": [
    "model.compile(loss_fn = 'categorical_crossentropy', optimizer = pso, \\\n",
    "    metrics = ['accuracy', 'mean_square_error', 'categorical_crossentropy'])"
   ]
  },
  {
   "cell_type": "code",
   "execution_count": 6,
   "metadata": {},
   "outputs": [
    {
     "name": "stdout",
     "output_type": "stream",
     "text": [
      "<class 'pandas.core.frame.DataFrame'>\n",
      "RangeIndex: 107 entries, 0 to 106\n",
      "Data columns (total 6 columns):\n",
      " #   Column  Non-Null Count  Dtype  \n",
      "---  ------  --------------  -----  \n",
      " 0   f1      107 non-null    float32\n",
      " 1   f2      107 non-null    float32\n",
      " 2   f3      107 non-null    float32\n",
      " 3   f4      107 non-null    float32\n",
      " 4   f5      107 non-null    float32\n",
      " 5   label   107 non-null    float32\n",
      "dtypes: float32(6)\n",
      "memory usage: 2.6 KB\n",
      "None\n",
      "<class 'pandas.core.frame.DataFrame'>\n",
      "RangeIndex: 108 entries, 0 to 107\n",
      "Data columns (total 6 columns):\n",
      " #   Column  Non-Null Count  Dtype  \n",
      "---  ------  --------------  -----  \n",
      " 0   f1      108 non-null    float32\n",
      " 1   f2      108 non-null    float32\n",
      " 2   f3      108 non-null    float32\n",
      " 3   f4      108 non-null    float32\n",
      " 4   f5      108 non-null    float32\n",
      " 5   label   108 non-null    float32\n",
      "dtypes: float32(6)\n",
      "memory usage: 2.7 KB\n",
      "None\n"
     ]
    }
   ],
   "source": [
    "# data loading\n",
    "DATA = os.path.join('c:\\\\Users\\\\tcumi\\\\github_repo\\\\neural-network\\\\', 'dataset')\n",
    "GROUP = 5\n",
    "COLUMNS = ['f1', 'f2', 'f3', 'f4', 'f5', 'label']\n",
    "N_CLASS = 3\n",
    "EPOCHS = 500\n",
    "train_dir, test_dir = \"..//dataset//training_data{}.txt\".format(GROUP), \"..//dataset//testing_data{}.txt\".format(GROUP)\n",
    "train, test = get_data(DATA, train_dir, COLUMNS), get_data(DATA, test_dir, COLUMNS)\n",
    "# shuffle\n",
    "train, test = train.sample(frac=1), test.sample(frac=1)\n",
    "x_train, y_train = train.drop('label', axis=1), train['label']\n",
    "x_test, y_test = test.drop('label', axis=1), test['label']"
   ]
  },
  {
   "cell_type": "code",
   "execution_count": 7,
   "metadata": {},
   "outputs": [],
   "source": [
    "# data scaling and encoding\n",
    "scaler = StandardScaler(['f1', 'f2', 'f3', 'f4', 'f5'])\n",
    "scaler.fit(x_train)\n",
    "x_train = scaler.transform(x_train)\n",
    "x_test = scaler.transform(x_test)\n",
    "y_train = one_hot_encoding(y_train, N_CLASS)\n",
    "y_test = one_hot_encoding(y_test, N_CLASS)"
   ]
  },
  {
   "cell_type": "code",
   "execution_count": 8,
   "metadata": {
    "tags": [
     "outputPrepend"
    ]
   },
   "outputs": [
    {
     "name": "stdout",
     "output_type": "stream",
     "text": [
      "Checkpoint 100, Accuracy: 0.8703703703703703, Loss: 0.46528268743444373\n",
      "Checkpoint 200, Accuracy: 0.9382716049382716, Loss: 0.3850592154043692\n",
      "Checkpoint 300, Accuracy: 0.9382716049382716, Loss: 0.31783192246048536\n",
      "Checkpoint 400, Accuracy: 0.9259259259259259, Loss: 0.3498507958871347\n",
      "Checkpoint 500, Accuracy: 0.9259259259259259, Loss: 0.3498507958871347\n"
     ]
    }
   ],
   "source": [
    "# learning phase\n",
    "breakpoint = 100\n",
    "checkpoints = list()\n",
    "history = list()\n",
    "for century in range(0, EPOCHS, breakpoint):\n",
    "    sub_history = model.fit(x_train, y_train, breakpoint, verbose = 0)\n",
    "    score = model.evaluate(x_test, y_test, False, verbose = 0)\n",
    "    print('Checkpoint {}, Accuracy: {}, Loss: {}'.format(century+breakpoint, score['accuracy'], score[model.loss_fn]))\n",
    "    score['checkpoint'] = century + breakpoint\n",
    "    checkpoints.append(score)\n",
    "    history.extend(sub_history)\n",
    "    itr = century + breakpoint\n",
    "    model.optimizer.c1 = np.max([model.optimizer.C1[1] - ((model.optimizer.C1[1] - model.optimizer.C1[0]) * itr / EPOCHS), model.optimizer.C1[0]])\n",
    "    model.optimizer.c2 = np.min([model.optimizer.C2[0] + ((model.optimizer.C2[1] - model.optimizer.C2[0]) * itr / EPOCHS), model.optimizer.C2[1]])\n",
    "    model.optimizer.w = np.max([model.optimizer.w * model.optimizer.W_Decay, model.optimizer.W[0]])"
   ]
  },
  {
   "cell_type": "code",
   "execution_count": 9,
   "metadata": {},
   "outputs": [],
   "source": [
    "import matplotlib.pyplot as plt\n",
    "\n",
    "def draw_plot(x, y_list, x_label=None, y_label=None, legend=None, title=None):\n",
    "    fig, ax = plt.subplots(figsize=(12,5))\n",
    "    for xi, yi in zip(x, y_list):\n",
    "        ax.plot(xi, yi)\n",
    "    if x_label is not None and y_label is not None:\n",
    "        ax.set(xlabel=x_label, ylabel=y_label, title='{} VS {}'.format(x_label, y_label))\n",
    "    if legend is not None:\n",
    "        ax.legend(legend)\n",
    "    ax.grid()\n",
    "    plt.show()"
   ]
  },
  {
   "cell_type": "code",
   "execution_count": 10,
   "metadata": {},
   "outputs": [
    {
     "name": "stdout",
     "output_type": "stream",
     "text": [
      "[0. 1. 0.] <-> [0.47328123 0.4641843  0.06253447]\n",
      "[0. 0. 1.] <-> [0.45172787 0.01536617 0.532906  ]\n",
      "[1. 0. 0.] <-> [0.7770527  0.07335728 0.14959006]\n",
      "[1. 0. 0.] <-> [0.8285164  0.0782055  0.09327813]\n",
      "[1. 0. 0.] <-> [0.7850601  0.03655725 0.17838272]\n",
      "[1. 0. 0.] <-> [0.78249234 0.06278014 0.1547276 ]\n",
      "[1. 0. 0.] <-> [0.84240973 0.05489209 0.10269827]\n",
      "[0. 1. 0.] <-> [0.22644027 0.7520798  0.02147986]\n",
      "[1. 0. 0.] <-> [0.8324558  0.0834102  0.08413401]\n",
      "[0. 0. 1.] <-> [0.49575168 0.01568197 0.48856637]\n",
      "[1. 0. 0.] <-> [0.87582445 0.06214475 0.06203073]\n",
      "[1. 0. 0.] <-> [0.767831   0.05612893 0.17604007]\n",
      "[1. 0. 0.] <-> [0.8727584  0.07035277 0.05688882]\n",
      "[1. 0. 0.] <-> [0.8106057  0.1079226  0.08147177]\n",
      "[1. 0. 0.] <-> [0.75164044 0.16846447 0.07989508]\n",
      "[0. 0. 1.] <-> [0.33083186 0.01729105 0.65187705]\n",
      "[1. 0. 0.] <-> [0.57034075 0.05160569 0.3780536 ]\n",
      "[0. 1. 0.] <-> [0.21374501 0.76581603 0.02043893]\n",
      "[0. 0. 1.] <-> [0.3360008  0.01635521 0.6476439 ]\n",
      "[1. 0. 0.] <-> [0.81856376 0.10127691 0.08015926]\n",
      "[0. 0. 1.] <-> [0.80761325 0.03914938 0.15323731]\n",
      "[1. 0. 0.] <-> [0.82696897 0.10186563 0.07116533]\n",
      "[0. 0. 1.] <-> [0.41501442 0.01578693 0.5691986 ]\n",
      "[1. 0. 0.] <-> [0.777144   0.1377062  0.08514986]\n",
      "[1. 0. 0.] <-> [0.8273814  0.07741909 0.09519959]\n",
      "[1. 0. 0.] <-> [0.796838   0.06960282 0.13355923]\n",
      "[0. 1. 0.] <-> [0.34230793 0.6296058  0.02808623]\n",
      "[1. 0. 0.] <-> [0.8140211  0.10358376 0.08239511]\n",
      "[1. 0. 0.] <-> [0.84954596 0.08921809 0.06123591]\n",
      "[1. 0. 0.] <-> [0.7586698  0.11602414 0.12530611]\n",
      "[1. 0. 0.] <-> [0.82646465 0.06506422 0.10847116]\n",
      "[1. 0. 0.] <-> [0.7351257  0.20881565 0.05605863]\n",
      "[1. 0. 0.] <-> [0.790215   0.1473887  0.06239632]\n",
      "[0. 0. 1.] <-> [0.2309024  0.03073821 0.7383594 ]\n",
      "[0. 0. 1.] <-> [0.17412671 0.04301476 0.78285855]\n",
      "[1. 0. 0.] <-> [0.803161   0.11631788 0.08052112]\n",
      "[1. 0. 0.] <-> [0.86135453 0.07183293 0.06681257]\n",
      "[0. 0. 1.] <-> [0.36825028 0.01388417 0.6178655 ]\n",
      "[1. 0. 0.] <-> [0.8145386  0.12381906 0.06164231]\n",
      "[1. 0. 0.] <-> [0.81801444 0.06402997 0.11795563]\n",
      "[0. 1. 0.] <-> [0.77426505 0.18551409 0.04022095]\n",
      "[1. 0. 0.] <-> [0.840952   0.10589387 0.05315416]\n",
      "[1. 0. 0.] <-> [0.84637344 0.09538652 0.05824003]\n",
      "[1. 0. 0.] <-> [0.84766775 0.04146142 0.11087096]\n",
      "[1. 0. 0.] <-> [0.88358814 0.06210641 0.05430546]\n",
      "[1. 0. 0.] <-> [0.82190114 0.05629711 0.12180173]\n",
      "[0. 1. 0.] <-> [0.21494384 0.7645026  0.02055362]\n",
      "[1. 0. 0.] <-> [0.7968361  0.05336533 0.14979857]\n",
      "[1. 0. 0.] <-> [0.8409241  0.0886554  0.07042044]\n",
      "[1. 0. 0.] <-> [0.8455259  0.04754493 0.10692921]\n",
      "[0. 1. 0.] <-> [0.21380913 0.76545656 0.02073423]\n",
      "[1. 0. 0.] <-> [0.85738295 0.07874957 0.06386755]\n",
      "[1. 0. 0.] <-> [0.87914073 0.0371668  0.08369246]\n",
      "[0. 0. 1.] <-> [0.50530976 0.01677011 0.47792017]\n",
      "[1. 0. 0.] <-> [0.8538378  0.03236043 0.11380175]\n",
      "[1. 0. 0.] <-> [0.8798908  0.04973127 0.07037787]\n",
      "[1. 0. 0.] <-> [0.7586157  0.07195643 0.1694279 ]\n",
      "[1. 0. 0.] <-> [0.73396766 0.1737658  0.09226654]\n",
      "[1. 0. 0.] <-> [0.8143837  0.04150785 0.14410849]\n",
      "[0. 0. 1.] <-> [0.33256385 0.0188788  0.64855736]\n",
      "[1. 0. 0.] <-> [0.8746777  0.05182527 0.07349697]\n",
      "[0. 0. 1.] <-> [0.4134501  0.02017264 0.5663773 ]\n",
      "[1. 0. 0.] <-> [0.7248433  0.1511207  0.12403597]\n",
      "[1. 0. 0.] <-> [0.82728136 0.04173614 0.13098249]\n",
      "[1. 0. 0.] <-> [0.8286153  0.09369351 0.07769122]\n",
      "[0. 0. 1.] <-> [0.68516535 0.03372109 0.2811136 ]\n",
      "[1. 0. 0.] <-> [0.8555638  0.03876048 0.10567564]\n",
      "[1. 0. 0.] <-> [0.85348386 0.07440449 0.07211165]\n",
      "[1. 0. 0.] <-> [0.85132056 0.09089212 0.05778733]\n",
      "[1. 0. 0.] <-> [0.79464906 0.10063356 0.10471731]\n",
      "[1. 0. 0.] <-> [0.80069304 0.14506914 0.05423772]\n",
      "[0. 1. 0.] <-> [0.6571201  0.29787588 0.04500396]\n",
      "[1. 0. 0.] <-> [0.7318405  0.2115818  0.05657769]\n",
      "[0. 0. 1.] <-> [0.16988698 0.04381627 0.7862968 ]\n",
      "[1. 0. 0.] <-> [0.80911523 0.1332686  0.05761613]\n",
      "[1. 0. 0.] <-> [0.82645464 0.07285596 0.10068941]\n",
      "[0. 1. 0.] <-> [0.5803924  0.3828749  0.03673267]\n",
      "[0. 1. 0.] <-> [0.20939024 0.77084255 0.01976713]\n",
      "[1. 0. 0.] <-> [0.89051956 0.04698136 0.06249907]\n",
      "[1. 0. 0.] <-> [0.84058857 0.08522287 0.07418863]\n",
      "[1. 0. 0.] <-> [0.7680124  0.11904778 0.1129398 ]\n",
      "[1. 0. 0.] <-> [0.8660291  0.08510103 0.04886988]\n",
      "[1. 0. 0.] <-> [0.87021637 0.0373738  0.09240977]\n",
      "[1. 0. 0.] <-> [0.7659731  0.05932889 0.1746981 ]\n",
      "[1. 0. 0.] <-> [0.8547359  0.06757894 0.07768513]\n",
      "[1. 0. 0.] <-> [0.87957436 0.05588811 0.0645375 ]\n",
      "[0. 1. 0.] <-> [0.36218113 0.59122425 0.04659463]\n",
      "[1. 0. 0.] <-> [0.7937585  0.13937573 0.0668658 ]\n",
      "[1. 0. 0.] <-> [0.8253107  0.043993   0.13069631]\n",
      "[1. 0. 0.] <-> [0.85407895 0.0585748  0.08734626]\n",
      "[0. 1. 0.] <-> [0.3603173  0.6094322  0.03025044]\n",
      "[1. 0. 0.] <-> [0.7710786  0.1743924  0.05452899]\n",
      "[0. 1. 0.] <-> [0.6280456  0.32406878 0.0478856 ]\n",
      "[1. 0. 0.] <-> [0.8111957  0.11111958 0.07768475]\n",
      "[0. 1. 0.] <-> [0.26219717 0.7144828  0.02332005]\n",
      "[1. 0. 0.] <-> [0.83412987 0.03585027 0.13001987]\n",
      "[1. 0. 0.] <-> [0.80568075 0.12446278 0.06985644]\n",
      "[1. 0. 0.] <-> [0.82244647 0.10171956 0.07583393]\n",
      "[0. 1. 0.] <-> [0.5877843  0.36830395 0.04391178]\n",
      "[1. 0. 0.] <-> [0.8513991  0.03891654 0.10968439]\n",
      "[0. 1. 0.] <-> [0.6110633  0.3499237  0.03901297]\n",
      "[1. 0. 0.] <-> [0.80632794 0.07975401 0.11391808]\n",
      "[1. 0. 0.] <-> [0.7021071  0.04121606 0.2566769 ]\n",
      "[0. 1. 0.] <-> [0.21386063 0.7659557  0.02018365]\n",
      "[0. 0. 1.] <-> [0.82990086 0.03795612 0.13214304]\n",
      "[1. 0. 0.] <-> [0.88177514 0.0539215  0.06430344]\n",
      "[1. 0. 0.] <-> [0.81167746 0.09068286 0.09763975]\n",
      "[1. 0. 0.] <-> [0.8247507  0.08352983 0.09171943]\n",
      "{'accuracy': 0.9259259259259259, 'mean_square_error': 0.1762618064758981, 'categorical_crossentropy': 0.3498507958871347, 'essential_metrics': {0: {'tp_hit': 76, 'fp_hit': 12, 'tn_hit': 20, 'fn_hit': 0}, 1: {'tp_hit': 10, 'fp_hit': 0, 'tn_hit': 91, 'fn_hit': 7}, 2: {'tp_hit': 10, 'fp_hit': 0, 'tn_hit': 93, 'fn_hit': 5}}}\n"
     ]
    }
   ],
   "source": [
    "# recall phase\n",
    "score = model.evaluate(x_test, y_test, False)\n",
    "print(score)"
   ]
  },
  {
   "cell_type": "code",
   "execution_count": 11,
   "metadata": {},
   "outputs": [
    {
     "data": {
      "image/png": "[encoded data removed]",
      "text/plain": [
       "<Figure size 864x360 with 1 Axes>"
      ]
     },
     "metadata": {
      "needs_background": "light"
     },
     "output_type": "display_data"
    },
    {
     "data": {
      "image/png": "[encoded data removed]",
      "text/plain": [
       "<Figure size 864x360 with 1 Axes>"
      ]
     },
     "metadata": {
      "needs_background": "light"
     },
     "output_type": "display_data"
    }
   ],
   "source": [
    "draw_plot(x = [[i for i in range(len(history))], [(i+1)*breakpoint for i in range(len(checkpoints))]], y_list = [history, [ ckp[model.loss_fn] for ckp in checkpoints ]], x_label = 'Epochs', \\\n",
    "    y_label = model.loss_fn, legend=['train', 'test'])\n",
    "acc = [ ckp['accuracy'] for ckp in checkpoints ]\n",
    "draw_plot(x = [[(i+1)*breakpoint for i in range(len(checkpoints))]], y_list = [acc], x_label = 'Checkpoints', \\\n",
    "    y_label = 'accuracy')"
   ]
  },
  {
   "cell_type": "code",
   "execution_count": 12,
   "metadata": {},
   "outputs": [
    {
     "name": "stdout",
     "output_type": "stream",
     "text": [
      "{'accuracy': 0.8703703703703703, 'mean_square_error': 0.2540565273336272, 'categorical_crossentropy': 0.46528268743444373, 'essential_metrics': {0: {'tp_hit': 76, 'fp_hit': 21, 'tn_hit': 11, 'fn_hit': 0}, 1: {'tp_hit': 11, 'fp_hit': 0, 'tn_hit': 91, 'fn_hit': 6}, 2: {'tp_hit': 0, 'fp_hit': 0, 'tn_hit': 93, 'fn_hit': 15}}, 'checkpoint': 100} \n",
      "\n",
      "\n",
      "{'accuracy': 0.9382716049382716, 'mean_square_error': 0.19109529987984802, 'categorical_crossentropy': 0.3850592154043692, 'essential_metrics': {0: {'tp_hit': 76, 'fp_hit': 10, 'tn_hit': 22, 'fn_hit': 0}, 1: {'tp_hit': 10, 'fp_hit': 0, 'tn_hit': 91, 'fn_hit': 7}, 2: {'tp_hit': 12, 'fp_hit': 0, 'tn_hit': 93, 'fn_hit': 3}}, 'checkpoint': 200} \n",
      "\n",
      "\n",
      "{'accuracy': 0.9382716049382716, 'mean_square_error': 0.15707150613865645, 'categorical_crossentropy': 0.31783192246048536, 'essential_metrics': {0: {'tp_hit': 76, 'fp_hit': 10, 'tn_hit': 22, 'fn_hit': 0}, 1: {'tp_hit': 10, 'fp_hit': 0, 'tn_hit': 91, 'fn_hit': 7}, 2: {'tp_hit': 12, 'fp_hit': 0, 'tn_hit': 93, 'fn_hit': 3}}, 'checkpoint': 300} \n",
      "\n",
      "\n",
      "{'accuracy': 0.9259259259259259, 'mean_square_error': 0.1762618064758981, 'categorical_crossentropy': 0.3498507958871347, 'essential_metrics': {0: {'tp_hit': 76, 'fp_hit': 12, 'tn_hit': 20, 'fn_hit': 0}, 1: {'tp_hit': 10, 'fp_hit': 0, 'tn_hit': 91, 'fn_hit': 7}, 2: {'tp_hit': 10, 'fp_hit': 0, 'tn_hit': 93, 'fn_hit': 5}}, 'checkpoint': 400} \n",
      "\n",
      "\n",
      "{'accuracy': 0.9259259259259259, 'mean_square_error': 0.1762618064758981, 'categorical_crossentropy': 0.3498507958871347, 'essential_metrics': {0: {'tp_hit': 76, 'fp_hit': 12, 'tn_hit': 20, 'fn_hit': 0}, 1: {'tp_hit': 10, 'fp_hit': 0, 'tn_hit': 91, 'fn_hit': 7}, 2: {'tp_hit': 10, 'fp_hit': 0, 'tn_hit': 93, 'fn_hit': 5}}, 'checkpoint': 500} \n",
      "\n",
      "\n"
     ]
    }
   ],
   "source": [
    "for checkpoint in checkpoints:\n",
    "    print(checkpoint, '\\n\\n')"
   ]
  },
  {
   "cell_type": "code",
   "execution_count": 13,
   "metadata": {},
   "outputs": [
    {
     "name": "stdout",
     "output_type": "stream",
     "text": [
      "Layer 1\n",
      "Neuron 0: weights:\n",
      "[ 0.26373562 -0.91644835 -0.8983753   0.03651649  0.20513217]\n",
      " bias: 0.6591371893882751\n",
      "\n",
      "Neuron 1: weights:\n",
      "[ 0.5078251  -0.592583   -0.2666541   0.62671864  0.87681866]\n",
      " bias: -0.9954923987388611\n",
      "\n",
      "Neuron 2: weights:\n",
      "[ 0.24912873 -1.1459228  -0.8459098  -0.40543637 -0.5244585 ]\n",
      " bias: 0.6425134539604187\n",
      "\n",
      "Neuron 3: weights:\n",
      "[-0.47107708  0.813072    0.27244213 -0.4434454  -0.7182169 ]\n",
      " bias: 0.4458223581314087\n",
      "\n",
      "$\n",
      "Layer 2\n",
      "Neuron 0: weights:\n",
      "[ 1.2445349 -1.0860323  1.2463537  0.5130282]\n",
      " bias: -0.005757652688771486\n",
      "\n",
      "Neuron 1: weights:\n",
      "[-1.0868881  -0.47586423 -1.207476    1.2196356 ]\n",
      " bias: 0.6095088720321655\n",
      "\n",
      "Neuron 2: weights:\n",
      "[ 0.6596123   1.5231004  -0.00208625 -1.5018923 ]\n",
      " bias: -0.3565879166126251\n",
      "\n",
      "$\n",
      "\n"
     ]
    }
   ],
   "source": [
    "print(model)"
   ]
  }
 ],
 "metadata": {
  "kernelspec": {
   "display_name": "Python 3",
   "language": "python",
   "name": "python3"
  },
  "language_info": {
   "codemirror_mode": {
    "name": "ipython",
    "version": 3
   },
   "file_extension": ".py",
   "mimetype": "text/x-python",
   "name": "python",
   "nbconvert_exporter": "python",
   "pygments_lexer": "ipython3",
   "version": "3.6.10"
  }
 },
 "nbformat": 4,
 "nbformat_minor": 2
}
