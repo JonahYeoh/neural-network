{
 "cells": [
  {
   "cell_type": "code",
   "execution_count": 1,
   "metadata": {},
   "outputs": [],
   "source": [
    "# dependency\n",
    "import numpy as np\n",
    "import pandas as pd\n",
    "import copy\n",
    "import math\n",
    "import sys\n",
    "import os\n",
    "from activations import relu, leaky_relu, sigmoid, tanh, softmax, d_sigmoid, d_relu\n",
    "from initializers import glorot_uniform, random_normal, random_uniform\n",
    "from regularizers import l1_regularizer, l2_regularizer\n",
    "from utility import trim_tail, multiply, subtract, get_nparams, one_hot_encoding, get_data\n",
    "from metrics import MSE, CCE, ACC, PRECISION, RECALL, essential_metrics, wondering_penalty, close_gap_penalty\n",
    "from pso import PSO\n",
    "from ga import GA\n",
    "from nn import Network\n",
    "from layer import DenseLayer\n",
    "from scalers import MinMaxScaler, StandardScaler"
   ]
  },
  {
   "cell_type": "code",
   "execution_count": 2,
   "metadata": {},
   "outputs": [],
   "source": [
    "# reference\n",
    "metrics_fn_dict = dict()\n",
    "metrics_fn_dict['accuracy'] = ACC\n",
    "metrics_fn_dict['categorical_crossentropy'] = CCE\n",
    "metrics_fn_dict['mean_square_error'] = MSE\n",
    "metrics_fn_dict['precision'] = PRECISION\n",
    "metrics_fn_dict['recall'] = RECALL\n",
    "metrics_fn_dict['essential_metrics'] = essential_metrics"
   ]
  },
  {
   "cell_type": "code",
   "execution_count": 3,
   "metadata": {},
   "outputs": [],
   "source": [
    "# model\n",
    "model = Network(5, lr = None)\n",
    "model.add_layer(DenseLayer(1, 4, True, afn=sigmoid, dafn=None, rfn=None))\n",
    "model.add_layer(DenseLayer(2, 3, True, afn=softmax, dafn=None, rfn=None))"
   ]
  },
  {
   "cell_type": "code",
   "execution_count": 4,
   "metadata": {},
   "outputs": [
    {
     "name": "stdout",
     "output_type": "stream",
     "text": [
      "see one see two 2 2\n"
     ]
    }
   ],
   "source": [
    "pso = PSO(dict(m = 50,\n",
    "    weight_constraint = [-3, 3], \n",
    "    velocity_constraint = [-0.1, 0.1],\n",
    "    c1 = 2,\n",
    "    c2 = 2,\n",
    "    w = 1.2,\n",
    "    w_decay = 1,\n",
    "    scale_hyperparameter = False,\n",
    "    regularizer = l1_regularizer,\n",
    "    mask = True))"
   ]
  },
  {
   "cell_type": "code",
   "execution_count": 5,
   "metadata": {},
   "outputs": [
    {
     "name": "stdout",
     "output_type": "stream",
     "text": [
      "building layer 1 with 5\n",
      "24\n",
      "building layer 2 with 4\n",
      "15\n"
     ]
    }
   ],
   "source": [
    "model.compile(loss_fn = 'categorical_crossentropy', optimizer = pso, \\\n",
    "    metrics = ['accuracy', 'mean_square_error', 'categorical_crossentropy'])"
   ]
  },
  {
   "cell_type": "code",
   "execution_count": 6,
   "metadata": {},
   "outputs": [
    {
     "name": "stdout",
     "output_type": "stream",
     "text": [
      "<class 'pandas.core.frame.DataFrame'>\n",
      "RangeIndex: 107 entries, 0 to 106\n",
      "Data columns (total 6 columns):\n",
      " #   Column  Non-Null Count  Dtype  \n",
      "---  ------  --------------  -----  \n",
      " 0   f1      107 non-null    float32\n",
      " 1   f2      107 non-null    float32\n",
      " 2   f3      107 non-null    float32\n",
      " 3   f4      107 non-null    float32\n",
      " 4   f5      107 non-null    float32\n",
      " 5   label   107 non-null    float32\n",
      "dtypes: float32(6)\n",
      "memory usage: 2.6 KB\n",
      "None\n",
      "<class 'pandas.core.frame.DataFrame'>\n",
      "RangeIndex: 108 entries, 0 to 107\n",
      "Data columns (total 6 columns):\n",
      " #   Column  Non-Null Count  Dtype  \n",
      "---  ------  --------------  -----  \n",
      " 0   f1      108 non-null    float32\n",
      " 1   f2      108 non-null    float32\n",
      " 2   f3      108 non-null    float32\n",
      " 3   f4      108 non-null    float32\n",
      " 4   f5      108 non-null    float32\n",
      " 5   label   108 non-null    float32\n",
      "dtypes: float32(6)\n",
      "memory usage: 2.7 KB\n",
      "None\n"
     ]
    }
   ],
   "source": [
    "# data loading\n",
    "DATA = os.path.join('c:\\\\Users\\\\AI-lab\\\\github_repo\\\\neural-network\\\\', 'dataset')\n",
    "GROUP = 5\n",
    "COLUMNS = ['f1', 'f2', 'f3', 'f4', 'f5', 'label']\n",
    "N_CLASS = 3\n",
    "EPOCHS = 200\n",
    "train_dir, test_dir = \"..//dataset//training_data{}.txt\".format(GROUP), \"..//dataset//testing_data{}.txt\".format(GROUP)\n",
    "train, test = get_data(DATA, train_dir, COLUMNS), get_data(DATA, test_dir, COLUMNS)\n",
    "# shuffle\n",
    "train, test = train.sample(frac=1), test.sample(frac=1)\n",
    "x_train, y_train = train.drop('label', axis=1), train['label']\n",
    "x_test, y_test = test.drop('label', axis=1), test['label']"
   ]
  },
  {
   "cell_type": "code",
   "execution_count": 7,
   "metadata": {},
   "outputs": [],
   "source": [
    "# data scaling and encoding\n",
    "scaler = StandardScaler(['f1', 'f2', 'f3', 'f4', 'f5'])\n",
    "scaler.fit(x_train)\n",
    "x_train = scaler.transform(x_train)\n",
    "x_test = scaler.transform(x_test)\n",
    "y_train = one_hot_encoding(y_train, N_CLASS)\n",
    "y_test = one_hot_encoding(y_test, N_CLASS)"
   ]
  },
  {
   "cell_type": "code",
   "execution_count": 8,
   "metadata": {
    "tags": [
     "outputPrepend"
    ]
   },
   "outputs": [
    {
     "name": "stdout",
     "output_type": "stream",
     "text": [
      "Checkpoint 10, Accuracy: 0.8827160493827161, Loss: 0.5908825485794632\n",
      "Checkpoint 20, Accuracy: 0.8950617283950617, Loss: 0.5628884633382162\n",
      "Checkpoint 30, Accuracy: 0.808641975308642, Loss: 0.6436306988751447\n",
      "Checkpoint 40, Accuracy: 0.8518518518518519, Loss: 0.6070535447862413\n",
      "Checkpoint 50, Accuracy: 0.8641975308641975, Loss: 0.48874434718379267\n",
      "Checkpoint 60, Accuracy: 0.8641975308641975, Loss: 0.47564001436586734\n",
      "Checkpoint 70, Accuracy: 0.8641975308641975, Loss: 0.44343997814037184\n",
      "Checkpoint 80, Accuracy: 0.9382716049382716, Loss: 0.40693993038601345\n",
      "Checkpoint 90, Accuracy: 0.9259259259259259, Loss: 0.3794229648731373\n",
      "Checkpoint 100, Accuracy: 0.9259259259259259, Loss: 0.32120549237286605\n",
      "Checkpoint 110, Accuracy: 0.9382716049382716, Loss: 0.2777095017609773\n",
      "Checkpoint 120, Accuracy: 0.9691358024691358, Loss: 0.2543908225165473\n",
      "Checkpoint 130, Accuracy: 0.9691358024691358, Loss: 0.2510125725357621\n",
      "Checkpoint 140, Accuracy: 0.9753086419753086, Loss: 0.22909632435551397\n",
      "Checkpoint 150, Accuracy: 0.9382716049382716, Loss: 0.2470490844161422\n",
      "Checkpoint 160, Accuracy: 0.9691358024691358, Loss: 0.21944967905680338\n",
      "Checkpoint 170, Accuracy: 0.9691358024691358, Loss: 0.1984474747269242\n",
      "Checkpoint 180, Accuracy: 0.9629629629629629, Loss: 0.20737264774463796\n",
      "Checkpoint 190, Accuracy: 0.9691358024691358, Loss: 0.21053393681844076\n",
      "Checkpoint 200, Accuracy: 0.9629629629629629, Loss: 0.2127389907836914\n"
     ]
    }
   ],
   "source": [
    "# learning phase\n",
    "breakpoint = 10\n",
    "checkpoints = list()\n",
    "history = list()\n",
    "for century in range(0, EPOCHS, breakpoint):\n",
    "    sub_history = model.fit(x_train, y_train, breakpoint, verbose = 0)\n",
    "    score = model.evaluate(x_test, y_test, False, verbose = 0)\n",
    "    print('Checkpoint {}, Accuracy: {}, Loss: {}'.format(century+breakpoint, score['accuracy'], score[model.loss_fn]))\n",
    "    score['checkpoint'] = century + breakpoint\n",
    "    checkpoints.append(score)\n",
    "    history.extend(sub_history)"
   ]
  },
  {
   "cell_type": "code",
   "execution_count": 9,
   "metadata": {},
   "outputs": [],
   "source": [
    "import matplotlib.pyplot as plt\n",
    "\n",
    "def draw_plot(x, y_list, x_label=None, y_label=None, legend=None, title=None):\n",
    "    fig, ax = plt.subplots(figsize=(12,5))\n",
    "    for xi, yi in zip(x, y_list):\n",
    "        ax.plot(xi, yi)\n",
    "    if x_label is not None and y_label is not None:\n",
    "        ax.set(xlabel=x_label, ylabel=y_label, title='{} VS {}'.format(x_label, y_label))\n",
    "    if legend is not None:\n",
    "        ax.legend(legend)\n",
    "    ax.grid()\n",
    "    plt.show()"
   ]
  },
  {
   "cell_type": "code",
   "execution_count": 10,
   "metadata": {},
   "outputs": [
    {
     "name": "stdout",
     "output_type": "stream",
     "text": [
      "[0. 1. 0.] <-> [9.477167e-02 9.045613e-01 6.670665e-04]\n",
      "[0. 0. 1.] <-> [0.18857837 0.00288837 0.8085333 ]\n",
      "[0. 0. 1.] <-> [0.18834445 0.00291247 0.8087431 ]\n",
      "[1. 0. 0.] <-> [0.8317376  0.0169028  0.15135963]\n",
      "[1. 0. 0.] <-> [0.9297359  0.03824365 0.03202052]\n",
      "[1. 0. 0.] <-> [0.91634613 0.0378073  0.04584653]\n",
      "[1. 0. 0.] <-> [0.91994274 0.0360148  0.04404251]\n",
      "[0. 1. 0.] <-> [0.30580205 0.69136745 0.00283056]\n",
      "[1. 0. 0.] <-> [0.90760076 0.01521739 0.07718195]\n",
      "[1. 0. 0.] <-> [0.9448968  0.0310015  0.02410164]\n",
      "[1. 0. 0.] <-> [0.9234413  0.04927599 0.02728268]\n",
      "[0. 0. 1.] <-> [0.25309432 0.00388021 0.7430254 ]\n",
      "[0. 1. 0.] <-> [0.32682902 0.6703632  0.00280772]\n",
      "[1. 0. 0.] <-> [0.9342246  0.02525778 0.04051768]\n",
      "[1. 0. 0.] <-> [0.9404403  0.02251669 0.03704299]\n",
      "[1. 0. 0.] <-> [0.8694096  0.11427686 0.01631347]\n",
      "[1. 0. 0.] <-> [0.88369983 0.10335838 0.01294173]\n",
      "[0. 0. 1.] <-> [0.32442668 0.00466179 0.6709115 ]\n",
      "[0. 1. 0.] <-> [9.0976335e-02 9.0839380e-01 6.2977162e-04]\n",
      "[1. 0. 0.] <-> [0.8517796  0.02012635 0.12809403]\n",
      "[1. 0. 0.] <-> [0.8486757  0.02107885 0.1302454 ]\n",
      "[1. 0. 0.] <-> [0.9428583  0.03021572 0.02692607]\n",
      "[1. 0. 0.] <-> [0.89326847 0.0229906  0.08374094]\n",
      "[0. 1. 0.] <-> [9.477696e-02 9.045374e-01 6.857288e-04]\n",
      "[1. 0. 0.] <-> [0.8961142  0.07370615 0.03017969]\n",
      "[1. 0. 0.] <-> [0.8812924  0.0138575  0.10485017]\n",
      "[0. 1. 0.] <-> [0.31086105 0.68194443 0.00719455]\n",
      "[1. 0. 0.] <-> [0.92871594 0.04946166 0.02182247]\n",
      "[0. 1. 0.] <-> [9.224710e-02 9.071082e-01 6.447471e-04]\n",
      "[1. 0. 0.] <-> [0.8539375  0.01285888 0.13320354]\n",
      "[1. 0. 0.] <-> [0.8601716  0.01239097 0.12743741]\n",
      "[1. 0. 0.] <-> [0.6493126  0.01064436 0.340043  ]\n",
      "[1. 0. 0.] <-> [0.9129752  0.02883662 0.0581882 ]\n",
      "[0. 1. 0.] <-> [0.49897483 0.4933394  0.00768577]\n",
      "[1. 0. 0.] <-> [0.9276144  0.04396673 0.02841886]\n",
      "[1. 0. 0.] <-> [0.92933995 0.05118561 0.01947444]\n",
      "[1. 0. 0.] <-> [0.9328171  0.02603404 0.04114888]\n",
      "[1. 0. 0.] <-> [0.8746062  0.10979719 0.01559655]\n",
      "[0. 0. 1.] <-> [0.83432674 0.01371038 0.15196288]\n",
      "[1. 0. 0.] <-> [0.89287055 0.0391609  0.06796847]\n",
      "[1. 0. 0.] <-> [0.8922683  0.01746704 0.09026466]\n",
      "[0. 1. 0.] <-> [1.07442185e-01 8.91785204e-01 7.72496220e-04]\n",
      "[1. 0. 0.] <-> [0.8716902  0.06749653 0.0608132 ]\n",
      "[1. 0. 0.] <-> [0.8618219  0.10400299 0.03417511]\n",
      "[1. 0. 0.] <-> [0.78782356 0.01497564 0.19720078]\n",
      "[1. 0. 0.] <-> [0.92930275 0.05220951 0.01848763]\n",
      "[1. 0. 0.] <-> [0.9251752  0.01778082 0.05704394]\n",
      "[1. 0. 0.] <-> [0.9315525  0.05164322 0.01680424]\n",
      "[1. 0. 0.] <-> [0.9178327  0.06191219 0.02025513]\n",
      "[1. 0. 0.] <-> [0.91242695 0.0568621  0.03071094]\n",
      "[1. 0. 0.] <-> [0.9357608  0.03382351 0.03041576]\n",
      "[0. 1. 0.] <-> [0.4423388 0.5530631 0.0045982]\n",
      "[1. 0. 0.] <-> [0.9292536  0.03335829 0.03738808]\n",
      "[1. 0. 0.] <-> [0.91102463 0.06376444 0.02521095]\n",
      "[1. 0. 0.] <-> [0.90267813 0.03453267 0.06278911]\n",
      "[1. 0. 0.] <-> [0.87807655 0.10128374 0.02063971]\n",
      "[1. 0. 0.] <-> [0.47335777 0.00956804 0.5170742 ]\n",
      "[1. 0. 0.] <-> [0.9179539  0.02642955 0.05561656]\n",
      "[1. 0. 0.] <-> [0.89343846 0.01997356 0.08658798]\n",
      "[1. 0. 0.] <-> [0.84654045 0.01596778 0.13749182]\n",
      "[1. 0. 0.] <-> [0.92674065 0.03362479 0.03963454]\n",
      "[1. 0. 0.] <-> [0.8880308  0.01469703 0.09727215]\n",
      "[1. 0. 0.] <-> [0.68191993 0.3106375  0.00744252]\n",
      "[0. 0. 1.] <-> [0.17971073 0.0026777  0.8176116 ]\n",
      "[0. 1. 0.] <-> [0.13430281 0.8645038  0.00119339]\n",
      "[0. 0. 1.] <-> [0.18323685 0.00278386 0.8139793 ]\n",
      "[1. 0. 0.] <-> [0.86209273 0.01554755 0.12235966]\n",
      "[0. 0. 1.] <-> [0.33377334 0.00472356 0.6615031 ]\n",
      "[0. 0. 1.] <-> [0.56740195 0.01045531 0.42214274]\n",
      "[1. 0. 0.] <-> [0.91994756 0.04395608 0.03609637]\n",
      "[1. 0. 0.] <-> [0.7885573  0.01249271 0.19895002]\n",
      "[0. 1. 0.] <-> [9.1217145e-02 9.0815091e-01 6.3192972e-04]\n",
      "[1. 0. 0.] <-> [0.9339978  0.03969331 0.0263088 ]\n",
      "[1. 0. 0.] <-> [0.93650407 0.03019389 0.03330198]\n",
      "[0. 0. 1.] <-> [0.18767886 0.00288883 0.80943227]\n",
      "[1. 0. 0.] <-> [0.85699254 0.01888128 0.12412616]\n",
      "[1. 0. 0.] <-> [0.9216929  0.04400184 0.03430534]\n",
      "[1. 0. 0.] <-> [0.94250506 0.02222566 0.03526928]\n",
      "[1. 0. 0.] <-> [0.8696977  0.01660468 0.11369766]\n",
      "[1. 0. 0.] <-> [0.84609693 0.01315382 0.14074925]\n",
      "[1. 0. 0.] <-> [0.846373   0.13806356 0.01556346]\n",
      "[1. 0. 0.] <-> [0.913108   0.06236989 0.02452211]\n",
      "[1. 0. 0.] <-> [0.9191055  0.0222766  0.05861785]\n",
      "[0. 0. 1.] <-> [0.21156295 0.00325819 0.7851789 ]\n",
      "[0. 0. 1.] <-> [0.8027559  0.01378695 0.18345723]\n",
      "[1. 0. 0.] <-> [0.9160556  0.02631287 0.05763157]\n",
      "[0. 1. 0.] <-> [9.2459455e-02 9.0689290e-01 6.4771430e-04]\n",
      "[0. 0. 1.] <-> [0.17953932 0.00267051 0.8177902 ]\n",
      "[0. 1. 0.] <-> [0.76496375 0.2264452  0.00859104]\n",
      "[1. 0. 0.] <-> [0.75195205 0.2359426  0.01210541]\n",
      "[1. 0. 0.] <-> [0.9064421  0.05165108 0.0419067 ]\n",
      "[1. 0. 0.] <-> [0.91842246 0.05682883 0.02474871]\n",
      "[1. 0. 0.] <-> [0.8509379  0.01402315 0.13503894]\n",
      "[1. 0. 0.] <-> [0.9417871  0.02593741 0.03227546]\n",
      "[0. 1. 0.] <-> [0.22180961 0.77357167 0.0046188 ]\n",
      "[0. 1. 0.] <-> [9.6229628e-02 9.0306073e-01 7.0968823e-04]\n",
      "[0. 1. 0.] <-> [0.31142116 0.68548787 0.00309095]\n",
      "[1. 0. 0.] <-> [0.87714785 0.01339181 0.10946031]\n",
      "[1. 0. 0.] <-> [0.89528763 0.01715109 0.08756127]\n",
      "[1. 0. 0.] <-> [0.916183   0.01573432 0.06808273]\n",
      "[0. 0. 1.] <-> [0.22974361 0.00336479 0.76689154]\n",
      "[1. 0. 0.] <-> [0.9411602  0.02626303 0.0325767 ]\n",
      "[1. 0. 0.] <-> [0.94100976 0.03819248 0.02079776]\n",
      "[1. 0. 0.] <-> [0.8491382  0.12509446 0.02576736]\n",
      "[0. 0. 1.] <-> [0.46050233 0.00736132 0.5321363 ]\n",
      "[1. 0. 0.] <-> [0.9096968  0.06529308 0.02501013]\n",
      "[1. 0. 0.] <-> [0.93081254 0.036688   0.03249948]\n",
      "[1. 0. 0.] <-> [0.9372186  0.03477172 0.02800973]\n",
      "{'accuracy': 0.9629629629629629, 'mean_square_error': 0.09875884652033831, 'categorical_crossentropy': 0.2127389907836914, 'essential_metrics': {0: {'tp_hit': 75, 'fp_hit': 5, 'tn_hit': 27, 'fn_hit': 1}, 1: {'tp_hit': 15, 'fp_hit': 0, 'tn_hit': 91, 'fn_hit': 2}, 2: {'tp_hit': 12, 'fp_hit': 1, 'tn_hit': 92, 'fn_hit': 3}}}\n"
     ]
    }
   ],
   "source": [
    "# recall phase\n",
    "score = model.evaluate(x_test, y_test, False)\n",
    "print(score)"
   ]
  },
  {
   "cell_type": "code",
   "execution_count": 11,
   "metadata": {},
   "outputs": [],
   "source": [
    "train_acc = [h['accuracy'] for h in history]\n",
    "train_mse = [h['mean_square_error'] for h in history]\n",
    "train_cce = [h['categorical_crossentropy'] for h in history]"
   ]
  },
  {
   "cell_type": "code",
   "execution_count": 12,
   "metadata": {},
   "outputs": [
    {
     "data": {
      "image/png": "[encoded data removed]",
      "text/plain": [
       "<Figure size 864x360 with 1 Axes>"
      ]
     },
     "metadata": {
      "needs_background": "light"
     },
     "output_type": "display_data"
    },
    {
     "data": {
      "image/png": "[encoded data removed]",
      "text/plain": [
       "<Figure size 864x360 with 1 Axes>"
      ]
     },
     "metadata": {
      "needs_background": "light"
     },
     "output_type": "display_data"
    }
   ],
   "source": [
    "draw_plot(x = [[i for i in range(len(history))], [(i+1)*breakpoint for i in range(len(checkpoints))]], y_list = [train_cce, [ ckp[model.loss_fn] for ckp in checkpoints ]], x_label = 'Epochs', \\\n",
    "    y_label = model.loss_fn, legend=['train', 'test'])\n",
    "acc = [ ckp['accuracy'] for ckp in checkpoints ]\n",
    "draw_plot(x = [[i for i in range(len(history))], [(i+1)*breakpoint for i in range(len(checkpoints))]], y_list = [train_acc, acc], x_label = 'Checkpoints', \\\n",
    "    y_label = 'accuracy', legend=['train', 'test'])"
   ]
  },
  {
   "cell_type": "code",
   "execution_count": 13,
   "metadata": {},
   "outputs": [
    {
     "name": "stdout",
     "output_type": "stream",
     "text": [
      "{'accuracy': 0.8827160493827161, 'mean_square_error': 0.32157110019715796, 'categorical_crossentropy': 0.5908825485794632, 'essential_metrics': {0: {'tp_hit': 76, 'fp_hit': 19, 'tn_hit': 13, 'fn_hit': 0}, 1: {'tp_hit': 0, 'fp_hit': 0, 'tn_hit': 91, 'fn_hit': 17}, 2: {'tp_hit': 13, 'fp_hit': 0, 'tn_hit': 93, 'fn_hit': 2}}, 'checkpoint': 10} \n",
      "\n",
      "\n",
      "{'accuracy': 0.8950617283950617, 'mean_square_error': 0.3059768062202434, 'categorical_crossentropy': 0.5628884633382162, 'essential_metrics': {0: {'tp_hit': 76, 'fp_hit': 17, 'tn_hit': 15, 'fn_hit': 0}, 1: {'tp_hit': 2, 'fp_hit': 0, 'tn_hit': 91, 'fn_hit': 15}, 2: {'tp_hit': 13, 'fp_hit': 0, 'tn_hit': 93, 'fn_hit': 2}}, 'checkpoint': 20} \n",
      "\n",
      "\n",
      "{'accuracy': 0.808641975308642, 'mean_square_error': 0.3878119532137643, 'categorical_crossentropy': 0.6436306988751447, 'essential_metrics': {0: {'tp_hit': 76, 'fp_hit': 31, 'tn_hit': 1, 'fn_hit': 0}, 1: {'tp_hit': 1, 'fp_hit': 0, 'tn_hit': 91, 'fn_hit': 16}, 2: {'tp_hit': 0, 'fp_hit': 0, 'tn_hit': 93, 'fn_hit': 15}}, 'checkpoint': 30} \n",
      "\n",
      "\n",
      "{'accuracy': 0.8518518518518519, 'mean_square_error': 0.33885160720254, 'categorical_crossentropy': 0.6070535447862413, 'essential_metrics': {0: {'tp_hit': 76, 'fp_hit': 24, 'tn_hit': 8, 'fn_hit': 0}, 1: {'tp_hit': 4, 'fp_hit': 0, 'tn_hit': 91, 'fn_hit': 13}, 2: {'tp_hit': 4, 'fp_hit': 0, 'tn_hit': 93, 'fn_hit': 11}}, 'checkpoint': 40} \n",
      "\n",
      "\n",
      "{'accuracy': 0.8641975308641975, 'mean_square_error': 0.28725376599590036, 'categorical_crossentropy': 0.48874434718379267, 'essential_metrics': {0: {'tp_hit': 76, 'fp_hit': 22, 'tn_hit': 10, 'fn_hit': 0}, 1: {'tp_hit': 10, 'fp_hit': 0, 'tn_hit': 91, 'fn_hit': 7}, 2: {'tp_hit': 0, 'fp_hit': 0, 'tn_hit': 93, 'fn_hit': 15}}, 'checkpoint': 50} \n",
      "\n",
      "\n",
      "{'accuracy': 0.8641975308641975, 'mean_square_error': 0.2809038514084507, 'categorical_crossentropy': 0.47564001436586734, 'essential_metrics': {0: {'tp_hit': 76, 'fp_hit': 22, 'tn_hit': 10, 'fn_hit': 0}, 1: {'tp_hit': 10, 'fp_hit': 0, 'tn_hit': 91, 'fn_hit': 7}, 2: {'tp_hit': 0, 'fp_hit': 0, 'tn_hit': 93, 'fn_hit': 15}}, 'checkpoint': 60} \n",
      "\n",
      "\n",
      "{'accuracy': 0.8641975308641975, 'mean_square_error': 0.2477467026554614, 'categorical_crossentropy': 0.44343997814037184, 'essential_metrics': {0: {'tp_hit': 76, 'fp_hit': 22, 'tn_hit': 10, 'fn_hit': 0}, 1: {'tp_hit': 10, 'fp_hit': 0, 'tn_hit': 91, 'fn_hit': 7}, 2: {'tp_hit': 0, 'fp_hit': 0, 'tn_hit': 93, 'fn_hit': 15}}, 'checkpoint': 70} \n",
      "\n",
      "\n",
      "{'accuracy': 0.9382716049382716, 'mean_square_error': 0.20494640250334986, 'categorical_crossentropy': 0.40693993038601345, 'essential_metrics': {0: {'tp_hit': 76, 'fp_hit': 10, 'tn_hit': 22, 'fn_hit': 0}, 1: {'tp_hit': 10, 'fp_hit': 0, 'tn_hit': 91, 'fn_hit': 7}, 2: {'tp_hit': 12, 'fp_hit': 0, 'tn_hit': 93, 'fn_hit': 3}}, 'checkpoint': 80} \n",
      "\n",
      "\n",
      "{'accuracy': 0.9259259259259259, 'mean_square_error': 0.19996257740921156, 'categorical_crossentropy': 0.3794229648731373, 'essential_metrics': {0: {'tp_hit': 76, 'fp_hit': 12, 'tn_hit': 20, 'fn_hit': 0}, 1: {'tp_hit': 8, 'fp_hit': 0, 'tn_hit': 91, 'fn_hit': 9}, 2: {'tp_hit': 12, 'fp_hit': 0, 'tn_hit': 93, 'fn_hit': 3}}, 'checkpoint': 90} \n",
      "\n",
      "\n",
      "{'accuracy': 0.9259259259259259, 'mean_square_error': 0.16475265125422311, 'categorical_crossentropy': 0.32120549237286605, 'essential_metrics': {0: {'tp_hit': 76, 'fp_hit': 12, 'tn_hit': 20, 'fn_hit': 0}, 1: {'tp_hit': 11, 'fp_hit': 0, 'tn_hit': 91, 'fn_hit': 6}, 2: {'tp_hit': 9, 'fp_hit': 0, 'tn_hit': 93, 'fn_hit': 6}}, 'checkpoint': 100} \n",
      "\n",
      "\n",
      "{'accuracy': 0.9382716049382716, 'mean_square_error': 0.13958769138419405, 'categorical_crossentropy': 0.2777095017609773, 'essential_metrics': {0: {'tp_hit': 76, 'fp_hit': 10, 'tn_hit': 22, 'fn_hit': 0}, 1: {'tp_hit': 13, 'fp_hit': 0, 'tn_hit': 91, 'fn_hit': 4}, 2: {'tp_hit': 9, 'fp_hit': 0, 'tn_hit': 93, 'fn_hit': 6}}, 'checkpoint': 110} \n",
      "\n",
      "\n",
      "{'accuracy': 0.9691358024691358, 'mean_square_error': 0.11835446738234114, 'categorical_crossentropy': 0.2543908225165473, 'essential_metrics': {0: {'tp_hit': 76, 'fp_hit': 5, 'tn_hit': 27, 'fn_hit': 0}, 1: {'tp_hit': 15, 'fp_hit': 0, 'tn_hit': 91, 'fn_hit': 2}, 2: {'tp_hit': 12, 'fp_hit': 0, 'tn_hit': 93, 'fn_hit': 3}}, 'checkpoint': 120} \n",
      "\n",
      "\n",
      "{'accuracy': 0.9691358024691358, 'mean_square_error': 0.1115616991854328, 'categorical_crossentropy': 0.2510125725357621, 'essential_metrics': {0: {'tp_hit': 75, 'fp_hit': 4, 'tn_hit': 28, 'fn_hit': 1}, 1: {'tp_hit': 15, 'fp_hit': 0, 'tn_hit': 91, 'fn_hit': 2}, 2: {'tp_hit': 13, 'fp_hit': 1, 'tn_hit': 92, 'fn_hit': 2}}, 'checkpoint': 130} \n",
      "\n",
      "\n",
      "{'accuracy': 0.9753086419753086, 'mean_square_error': 0.1037378778268469, 'categorical_crossentropy': 0.22909632435551397, 'essential_metrics': {0: {'tp_hit': 76, 'fp_hit': 4, 'tn_hit': 28, 'fn_hit': 0}, 1: {'tp_hit': 16, 'fp_hit': 0, 'tn_hit': 91, 'fn_hit': 1}, 2: {'tp_hit': 12, 'fp_hit': 0, 'tn_hit': 93, 'fn_hit': 3}}, 'checkpoint': 140} \n",
      "\n",
      "\n",
      "{'accuracy': 0.9382716049382716, 'mean_square_error': 0.12541180922357933, 'categorical_crossentropy': 0.2470490844161422, 'essential_metrics': {0: {'tp_hit': 74, 'fp_hit': 8, 'tn_hit': 24, 'fn_hit': 2}, 1: {'tp_hit': 12, 'fp_hit': 0, 'tn_hit': 91, 'fn_hit': 5}, 2: {'tp_hit': 12, 'fp_hit': 2, 'tn_hit': 91, 'fn_hit': 3}}, 'checkpoint': 150} \n",
      "\n",
      "\n",
      "{'accuracy': 0.9691358024691358, 'mean_square_error': 0.1031634232797647, 'categorical_crossentropy': 0.21944967905680338, 'essential_metrics': {0: {'tp_hit': 76, 'fp_hit': 5, 'tn_hit': 27, 'fn_hit': 0}, 1: {'tp_hit': 15, 'fp_hit': 0, 'tn_hit': 91, 'fn_hit': 2}, 2: {'tp_hit': 12, 'fp_hit': 0, 'tn_hit': 93, 'fn_hit': 3}}, 'checkpoint': 160} \n",
      "\n",
      "\n",
      "{'accuracy': 0.9691358024691358, 'mean_square_error': 0.0907675255341439, 'categorical_crossentropy': 0.1984474747269242, 'essential_metrics': {0: {'tp_hit': 76, 'fp_hit': 5, 'tn_hit': 27, 'fn_hit': 0}, 1: {'tp_hit': 15, 'fp_hit': 0, 'tn_hit': 91, 'fn_hit': 2}, 2: {'tp_hit': 12, 'fp_hit': 0, 'tn_hit': 93, 'fn_hit': 3}}, 'checkpoint': 170} \n",
      "\n",
      "\n",
      "{'accuracy': 0.9629629629629629, 'mean_square_error': 0.09782860469441106, 'categorical_crossentropy': 0.20737264774463796, 'essential_metrics': {0: {'tp_hit': 75, 'fp_hit': 5, 'tn_hit': 27, 'fn_hit': 1}, 1: {'tp_hit': 15, 'fp_hit': 0, 'tn_hit': 91, 'fn_hit': 2}, 2: {'tp_hit': 12, 'fp_hit': 1, 'tn_hit': 92, 'fn_hit': 3}}, 'checkpoint': 180} \n",
      "\n",
      "\n",
      "{'accuracy': 0.9691358024691358, 'mean_square_error': 0.0981059339358964, 'categorical_crossentropy': 0.21053393681844076, 'essential_metrics': {0: {'tp_hit': 75, 'fp_hit': 4, 'tn_hit': 28, 'fn_hit': 1}, 1: {'tp_hit': 16, 'fp_hit': 0, 'tn_hit': 91, 'fn_hit': 1}, 2: {'tp_hit': 12, 'fp_hit': 1, 'tn_hit': 92, 'fn_hit': 3}}, 'checkpoint': 190} \n",
      "\n",
      "\n",
      "{'accuracy': 0.9629629629629629, 'mean_square_error': 0.09875884652033831, 'categorical_crossentropy': 0.2127389907836914, 'essential_metrics': {0: {'tp_hit': 75, 'fp_hit': 5, 'tn_hit': 27, 'fn_hit': 1}, 1: {'tp_hit': 15, 'fp_hit': 0, 'tn_hit': 91, 'fn_hit': 2}, 2: {'tp_hit': 12, 'fp_hit': 1, 'tn_hit': 92, 'fn_hit': 3}}, 'checkpoint': 200} \n",
      "\n",
      "\n"
     ]
    }
   ],
   "source": [
    "for checkpoint in checkpoints:\n",
    "    print(checkpoint, '\\n\\n')"
   ]
  },
  {
   "cell_type": "code",
   "execution_count": 14,
   "metadata": {},
   "outputs": [
    {
     "name": "stdout",
     "output_type": "stream",
     "text": [
      "Layer 1\n",
      "Neuron 0: weights:\n",
      "[-0.65937215  1.1835047   0.11580374 -0.07516626 -1.3332605 ]\n",
      " bias: 1.6777563095092773\n",
      "\n",
      "Neuron 1: weights:\n",
      "[-0.67054564  1.2740707  -0.21713296  0.10758397 -0.5072259 ]\n",
      " bias: 0.00431728595867753\n",
      "\n",
      "Neuron 2: weights:\n",
      "[-0.07890097  0.01167684 -0.03812932  0.14856744 -0.04463293]\n",
      " bias: -0.01379440538585186\n",
      "\n",
      "Neuron 3: weights:\n",
      "[ 0.46075833 -1.9978039  -1.5023983  -0.01536411  0.2678446 ]\n",
      " bias: 1.6020928621292114\n",
      "\n",
      "$\n",
      "Layer 2\n",
      "Neuron 0: weights:\n",
      "[ 1.1954099  -0.00800169 -0.14726394  2.5448706 ]\n",
      " bias: -1.0154340267181396\n",
      "\n",
      "Neuron 1: weights:\n",
      "[ 0.3462118   2.130615   -0.07250582 -2.6865935 ]\n",
      " bias: -0.041116345673799515\n",
      "\n",
      "Neuron 2: weights:\n",
      "[-3.        -2.4087658  0.0174058  2.469434 ]\n",
      " bias: 0.5128013491630554\n",
      "\n",
      "$\n",
      "\n"
     ]
    }
   ],
   "source": [
    "print(model)"
   ]
  },
  {
   "cell_type": "code",
   "execution_count": null,
   "metadata": {},
   "outputs": [],
   "source": []
  }
 ],
 "metadata": {
  "kernelspec": {
   "display_name": "Python 3",
   "language": "python",
   "name": "python3"
  },
  "language_info": {
   "codemirror_mode": {
    "name": "ipython",
    "version": 3
   },
   "file_extension": ".py",
   "mimetype": "text/x-python",
   "name": "python",
   "nbconvert_exporter": "python",
   "pygments_lexer": "ipython3",
   "version": "3.6.12"
  }
 },
 "nbformat": 4,
 "nbformat_minor": 2
}
