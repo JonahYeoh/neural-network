{
 "cells": [
  {
   "cell_type": "code",
   "execution_count": 1,
   "metadata": {},
   "outputs": [],
   "source": [
    "# dependency\n",
    "import numpy as np\n",
    "import pandas as pd\n",
    "import copy\n",
    "import math\n",
    "import sys\n",
    "import os\n",
    "from activations import relu, leaky_relu, sigmoid, tanh, softmax, d_sigmoid, d_relu\n",
    "from initializers import glorot_uniform, random_normal, random_uniform\n",
    "from regularizers import l1_regularizer, l2_regularizer\n",
    "from utility import trim_tail, multiply, subtract, get_nparams, one_hot_encoding, get_data\n",
    "from metrics import MSE, CCE, ACC, PRECISION, RECALL, essential_metrics, wondering_penalty, close_gap_penalty\n",
    "from pso import PSO\n",
    "from ga import GA\n",
    "from nn import Network\n",
    "from layer import DenseLayer\n",
    "from scalers import MinMaxScaler, StandardScaler"
   ]
  },
  {
   "cell_type": "code",
   "execution_count": 2,
   "metadata": {},
   "outputs": [],
   "source": [
    "# reference\n",
    "metrics_fn_dict = dict()\n",
    "metrics_fn_dict['accuracy'] = ACC\n",
    "metrics_fn_dict['categorical_crossentropy'] = CCE\n",
    "metrics_fn_dict['mean_square_error'] = MSE\n",
    "metrics_fn_dict['precision'] = PRECISION\n",
    "metrics_fn_dict['recall'] = RECALL\n",
    "metrics_fn_dict['essential_metrics'] = essential_metrics"
   ]
  },
  {
   "cell_type": "code",
   "execution_count": 3,
   "metadata": {},
   "outputs": [],
   "source": [
    "# model\n",
    "model = Network(5, lr = None)\n",
    "model.add_layer(DenseLayer(1, 4, True, afn=sigmoid, dafn=None, rfn=None))\n",
    "model.add_layer(DenseLayer(2, 3, True, afn=softmax, dafn=None, rfn=None))"
   ]
  },
  {
   "cell_type": "code",
   "execution_count": 4,
   "metadata": {},
   "outputs": [
    {
     "name": "stdout",
     "output_type": "stream",
     "text": [
      "see one see two 2 2\n"
     ]
    }
   ],
   "source": [
    "pso = PSO(dict(m = 200,\n",
    "    weight_constraint = [-3, 3], \n",
    "    velocity_constraint = [-0.1, 0.1],\n",
    "    c1 = 2,\n",
    "    c2 = 2,\n",
    "    w = 1,\n",
    "    w_decay = 1,\n",
    "    scale_hyperparameter = False,\n",
    "    regularizer = None,\n",
    "    mask = True))"
   ]
  },
  {
   "cell_type": "code",
   "execution_count": 5,
   "metadata": {},
   "outputs": [
    {
     "name": "stdout",
     "output_type": "stream",
     "text": [
      "building layer 1 with 5\n",
      "24\n",
      "building layer 2 with 4\n",
      "15\n"
     ]
    }
   ],
   "source": [
    "model.compile(loss_fn = 'categorical_crossentropy', optimizer = pso, \\\n",
    "    metrics = ['accuracy', 'mean_square_error', 'categorical_crossentropy'])"
   ]
  },
  {
   "cell_type": "code",
   "execution_count": 6,
   "metadata": {},
   "outputs": [
    {
     "name": "stdout",
     "output_type": "stream",
     "text": [
      "<class 'pandas.core.frame.DataFrame'>\n",
      "RangeIndex: 107 entries, 0 to 106\n",
      "Data columns (total 6 columns):\n",
      " #   Column  Non-Null Count  Dtype  \n",
      "---  ------  --------------  -----  \n",
      " 0   f1      107 non-null    float32\n",
      " 1   f2      107 non-null    float32\n",
      " 2   f3      107 non-null    float32\n",
      " 3   f4      107 non-null    float32\n",
      " 4   f5      107 non-null    float32\n",
      " 5   label   107 non-null    float32\n",
      "dtypes: float32(6)\n",
      "memory usage: 2.6 KB\n",
      "None\n",
      "<class 'pandas.core.frame.DataFrame'>\n",
      "RangeIndex: 108 entries, 0 to 107\n",
      "Data columns (total 6 columns):\n",
      " #   Column  Non-Null Count  Dtype  \n",
      "---  ------  --------------  -----  \n",
      " 0   f1      108 non-null    float32\n",
      " 1   f2      108 non-null    float32\n",
      " 2   f3      108 non-null    float32\n",
      " 3   f4      108 non-null    float32\n",
      " 4   f5      108 non-null    float32\n",
      " 5   label   108 non-null    float32\n",
      "dtypes: float32(6)\n",
      "memory usage: 2.7 KB\n",
      "None\n"
     ]
    }
   ],
   "source": [
    "# data loading\n",
    "DATA = os.path.join('c:\\\\Users\\\\tcumi\\\\github_repo\\\\neural-network\\\\', 'dataset')\n",
    "GROUP = 5\n",
    "COLUMNS = ['f1', 'f2', 'f3', 'f4', 'f5', 'label']\n",
    "N_CLASS = 3\n",
    "EPOCHS = 500\n",
    "train_dir, test_dir = \"..//dataset//training_data{}.txt\".format(GROUP), \"..//dataset//testing_data{}.txt\".format(GROUP)\n",
    "train, test = get_data(DATA, train_dir, COLUMNS), get_data(DATA, test_dir, COLUMNS)\n",
    "# shuffle\n",
    "train, test = train.sample(frac=1), test.sample(frac=1)\n",
    "x_train, y_train = train.drop('label', axis=1), train['label']\n",
    "x_test, y_test = test.drop('label', axis=1), test['label']"
   ]
  },
  {
   "cell_type": "code",
   "execution_count": 7,
   "metadata": {},
   "outputs": [],
   "source": [
    "# data scaling and encoding\n",
    "scaler = StandardScaler(['f1', 'f2', 'f3', 'f4', 'f5'])\n",
    "scaler.fit(x_train)\n",
    "x_train = scaler.transform(x_train)\n",
    "x_test = scaler.transform(x_test)\n",
    "y_train = one_hot_encoding(y_train, N_CLASS)\n",
    "y_test = one_hot_encoding(y_test, N_CLASS)"
   ]
  },
  {
   "cell_type": "code",
   "execution_count": 8,
   "metadata": {
    "tags": [
     "outputPrepend"
    ]
   },
   "outputs": [
    {
     "name": "stdout",
     "output_type": "stream",
     "text": [
      "Checkpoint 100, Accuracy: 0.9814814814814815, Loss: 0.11993318133884007\n",
      "Checkpoint 200, Accuracy: 0.9629629629629629, Loss: 0.1053283656084979\n",
      "Checkpoint 300, Accuracy: 0.9691358024691358, Loss: 0.11425379470542625\n",
      "Checkpoint 400, Accuracy: 0.9691358024691358, Loss: 0.11359046123645923\n",
      "Checkpoint 500, Accuracy: 0.9691358024691358, Loss: 0.11402736769782172\n"
     ]
    }
   ],
   "source": [
    "# learning phase\n",
    "breakpoint = 100\n",
    "checkpoints = list()\n",
    "history = list()\n",
    "for century in range(0, EPOCHS, breakpoint):\n",
    "    sub_history = model.fit(x_train, y_train, breakpoint, verbose = 0)\n",
    "    score = model.evaluate(x_test, y_test, False, verbose = 0)\n",
    "    print('Checkpoint {}, Accuracy: {}, Loss: {}'.format(century+breakpoint, score['accuracy'], score[model.loss_fn]))\n",
    "    score['checkpoint'] = century + breakpoint\n",
    "    checkpoints.append(score)\n",
    "    history.extend(sub_history)"
   ]
  },
  {
   "cell_type": "code",
   "execution_count": 9,
   "metadata": {},
   "outputs": [],
   "source": [
    "import matplotlib.pyplot as plt\n",
    "\n",
    "def draw_plot(x, y_list, x_label=None, y_label=None, legend=None, title=None):\n",
    "    fig, ax = plt.subplots(figsize=(12,5))\n",
    "    for xi, yi in zip(x, y_list):\n",
    "        ax.plot(xi, yi)\n",
    "    if x_label is not None and y_label is not None:\n",
    "        ax.set(xlabel=x_label, ylabel=y_label, title='{} VS {}'.format(x_label, y_label))\n",
    "    if legend is not None:\n",
    "        ax.legend(legend)\n",
    "    ax.grid()\n",
    "    plt.show()"
   ]
  },
  {
   "cell_type": "code",
   "execution_count": 10,
   "metadata": {},
   "outputs": [
    {
     "name": "stdout",
     "output_type": "stream",
     "text": [
      "[0. 1. 0.] <-> [2.9462295e-02 9.7048551e-01 5.2133342e-05]\n",
      "[0. 0. 1.] <-> [1.0198930e-01 4.7895452e-04 8.9753175e-01]\n",
      "[1. 0. 0.] <-> [0.6211801  0.00182532 0.37699455]\n",
      "[1. 0. 0.] <-> [9.9778819e-01 1.4395161e-03 7.7226537e-04]\n",
      "[1. 0. 0.] <-> [0.9746085  0.00164315 0.02374835]\n",
      "[1. 0. 0.] <-> [9.958859e-01 3.270389e-03 8.436797e-04]\n",
      "[1. 0. 0.] <-> [0.64885694 0.00185878 0.34928426]\n",
      "[1. 0. 0.] <-> [9.9770987e-01 1.4313841e-03 8.5874362e-04]\n",
      "[0. 1. 0.] <-> [6.8806605e-03 9.9310499e-01 1.4360947e-05]\n",
      "[1. 0. 0.] <-> [0.7940718  0.00201124 0.20391698]\n",
      "[0. 1. 0.] <-> [0.67462313 0.32459515 0.00078169]\n",
      "[1. 0. 0.] <-> [9.9756289e-01 1.5552797e-03 8.8181824e-04]\n",
      "[1. 0. 0.] <-> [9.935454e-01 5.700928e-03 7.536742e-04]\n",
      "[1. 0. 0.] <-> [0.9976876  0.00130353 0.00100888]\n",
      "[0. 0. 1.] <-> [9.0121394e-03 6.5870714e-05 9.9092191e-01]\n",
      "[1. 0. 0.] <-> [0.9935097  0.00127272 0.00521753]\n",
      "[1. 0. 0.] <-> [0.98473996 0.00150596 0.01375406]\n",
      "[1. 0. 0.] <-> [0.9979323  0.00106917 0.00099863]\n",
      "[1. 0. 0.] <-> [9.9731904e-01 1.8484966e-03 8.3243212e-04]\n",
      "[1. 0. 0.] <-> [9.9769080e-01 1.5307817e-03 7.7845086e-04]\n",
      "[1. 0. 0.] <-> [0.9554117 0.0018064 0.042782 ]\n",
      "[1. 0. 0.] <-> [0.9978695  0.00111572 0.00101477]\n",
      "[0. 1. 0.] <-> [6.8811858e-03 9.9310452e-01 1.4362063e-05]\n",
      "[1. 0. 0.] <-> [0.9943936  0.00129452 0.00431189]\n",
      "[1. 0. 0.] <-> [0.9916653  0.00136596 0.00696866]\n",
      "[1. 0. 0.] <-> [9.9750048e-01 1.6658352e-03 8.3374284e-04]\n",
      "[1. 0. 0.] <-> [9.9683172e-01 2.3347784e-03 8.3348231e-04]\n",
      "[1. 0. 0.] <-> [0.99786204 0.00107407 0.00106394]\n",
      "[0. 1. 0.] <-> [0.93284315 0.06606892 0.0010879 ]\n",
      "[1. 0. 0.] <-> [0.99721485 0.00109819 0.001687  ]\n",
      "[0. 1. 0.] <-> [7.0674918e-03 9.9291784e-01 1.4705411e-05]\n",
      "[0. 1. 0.] <-> [0.5794085  0.4198797  0.00071175]\n",
      "[1. 0. 0.] <-> [0.9969981  0.00129704 0.0017049 ]\n",
      "[0. 0. 1.] <-> [9.0123443e-03 6.5861466e-05 9.9092180e-01]\n",
      "[1. 0. 0.] <-> [0.97537917 0.00163332 0.02298756]\n",
      "[0. 0. 1.] <-> [9.053806e-03 6.612187e-05 9.908800e-01]\n",
      "[1. 0. 0.] <-> [0.9165095  0.00193179 0.08155873]\n",
      "[0. 0. 1.] <-> [8.9517273e-03 7.2224131e-05 9.9097604e-01]\n",
      "[1. 0. 0.] <-> [0.9974132  0.00131531 0.00127158]\n",
      "[1. 0. 0.] <-> [9.7233182e-01 2.6735887e-02 9.3225791e-04]\n",
      "[1. 0. 0.] <-> [0.65990144 0.00189563 0.33820286]\n",
      "[0. 1. 0.] <-> [1.3452372e-02 9.8652101e-01 2.6549722e-05]\n",
      "[1. 0. 0.] <-> [0.9567032  0.00179101 0.04150578]\n",
      "[1. 0. 0.] <-> [0.9969663  0.00109026 0.00194337]\n",
      "[1. 0. 0.] <-> [0.9971052  0.00116194 0.00173291]\n",
      "[1. 0. 0.] <-> [0.9909662  0.00154283 0.00749102]\n",
      "[1. 0. 0.] <-> [0.9755205  0.00162983 0.0228497 ]\n",
      "[1. 0. 0.] <-> [0.9950427  0.00126715 0.00369014]\n",
      "[0. 0. 1.] <-> [9.0099955e-03 6.6153938e-05 9.9092382e-01]\n",
      "[0. 0. 1.] <-> [9.020717e-03 6.592651e-05 9.909134e-01]\n",
      "[1. 0. 0.] <-> [0.9973941  0.00107818 0.00152778]\n",
      "[0. 0. 1.] <-> [9.0372050e-03 6.6012231e-05 9.9089676e-01]\n",
      "[1. 0. 0.] <-> [0.99499476 0.00123333 0.0037719 ]\n",
      "[1. 0. 0.] <-> [0.96102035 0.00175457 0.03722515]\n",
      "[1. 0. 0.] <-> [0.99677414 0.00113947 0.00208629]\n",
      "[0. 0. 1.] <-> [9.0131238e-03 6.5929155e-05 9.9092102e-01]\n",
      "[1. 0. 0.] <-> [0.997472   0.00145847 0.00106942]\n",
      "[1. 0. 0.] <-> [9.9454355e-01 4.6428996e-03 8.1355672e-04]\n",
      "[0. 1. 0.] <-> [9.5667750e-02 9.0415150e-01 1.8071278e-04]\n",
      "[1. 0. 0.] <-> [9.9773252e-01 1.5132981e-03 7.5425144e-04]\n",
      "[1. 0. 0.] <-> [9.9796426e-01 1.1365636e-03 8.9915935e-04]\n",
      "[0. 0. 1.] <-> [0.91074324 0.0019517  0.08730501]\n",
      "[1. 0. 0.] <-> [0.9906933  0.00137438 0.00793235]\n",
      "[1. 0. 0.] <-> [0.9977101  0.00115885 0.00113103]\n",
      "[1. 0. 0.] <-> [0.9975497  0.00111873 0.00133151]\n",
      "[1. 0. 0.] <-> [9.8082882e-01 1.8244091e-02 9.2707918e-04]\n",
      "[0. 1. 0.] <-> [6.88077789e-03 9.93104875e-01 1.43611915e-05]\n",
      "[1. 0. 0.] <-> [0.99767774 0.00127311 0.00104924]\n",
      "[1. 0. 0.] <-> [9.9793434e-01 1.1258620e-03 9.3977881e-04]\n",
      "[1. 0. 0.] <-> [9.9782324e-01 1.2923564e-03 8.8435283e-04]\n",
      "[1. 0. 0.] <-> [0.9974491  0.00109094 0.00145996]\n",
      "[1. 0. 0.] <-> [9.9782085e-01 1.2553100e-03 9.2392840e-04]\n",
      "[1. 0. 0.] <-> [0.9964228  0.00120483 0.00237228]\n",
      "[0. 1. 0.] <-> [6.8865772e-03 9.9309915e-01 1.4372302e-05]\n",
      "[1. 0. 0.] <-> [0.99501354 0.00120393 0.0037825 ]\n",
      "[1. 0. 0.] <-> [0.99653816 0.00232828 0.00113359]\n",
      "[0. 0. 1.] <-> [0.879083   0.00199922 0.11891785]\n",
      "[1. 0. 0.] <-> [9.9788553e-01 1.1792996e-03 9.3507610e-04]\n",
      "[1. 0. 0.] <-> [0.9976538  0.00118767 0.00115858]\n",
      "[1. 0. 0.] <-> [0.9964791  0.00113098 0.00238999]\n",
      "[0. 0. 1.] <-> [9.0203201e-03 6.5910128e-05 9.9091375e-01]\n",
      "[1. 0. 0.] <-> [9.9790263e-01 1.1019065e-03 9.9544832e-04]\n",
      "[0. 1. 0.] <-> [2.0942307e-01 7.9023868e-01 3.3831203e-04]\n",
      "[1. 0. 0.] <-> [9.9802303e-01 1.0938414e-03 8.8316819e-04]\n",
      "[1. 0. 0.] <-> [0.997546   0.00113336 0.00132056]\n",
      "[0. 1. 0.] <-> [6.8806736e-03 9.9310499e-01 1.4360974e-05]\n",
      "[1. 0. 0.] <-> [0.9895186  0.00145097 0.00903037]\n",
      "[1. 0. 0.] <-> [9.9786890e-01 1.2175605e-03 9.1357803e-04]\n",
      "[0. 0. 1.] <-> [9.0174740e-03 6.5892033e-05 9.9091667e-01]\n",
      "[1. 0. 0.] <-> [9.9795318e-01 1.2475039e-03 7.9926866e-04]\n",
      "[0. 1. 0.] <-> [2.1919823e-01 7.8048736e-01 3.1434296e-04]\n",
      "[1. 0. 0.] <-> [9.9788409e-01 1.2770979e-03 8.3873776e-04]\n",
      "[1. 0. 0.] <-> [0.99756396 0.00113369 0.00130234]\n",
      "[0. 1. 0.] <-> [7.1994239e-03 9.9278557e-01 1.5001002e-05]\n",
      "[0. 1. 0.] <-> [6.8807262e-03 9.9310499e-01 1.4361083e-05]\n",
      "[1. 0. 0.] <-> [9.9601328e-01 3.2112964e-03 7.7547209e-04]\n",
      "[1. 0. 0.] <-> [0.98523617 0.00150339 0.01326052]\n",
      "[1. 0. 0.] <-> [9.9792516e-01 1.2373661e-03 8.3747861e-04]\n",
      "[0. 0. 1.] <-> [9.0120463e-03 6.5876811e-05 9.9092203e-01]\n",
      "[1. 0. 0.] <-> [9.9718648e-01 1.9793990e-03 8.3418854e-04]\n",
      "[1. 0. 0.] <-> [0.9956232  0.00118282 0.00319402]\n",
      "[0. 1. 0.] <-> [6.8807881e-03 9.9310488e-01 1.4361219e-05]\n",
      "[1. 0. 0.] <-> [9.9782819e-01 1.2350067e-03 9.3677134e-04]\n",
      "[1. 0. 0.] <-> [0.9974469  0.00109922 0.00145388]\n",
      "[1. 0. 0.] <-> [0.99793434 0.00105439 0.00101136]\n",
      "[1. 0. 0.] <-> [9.9807262e-01 1.1325364e-03 7.9481851e-04]\n",
      "[1. 0. 0.] <-> [9.9766159e-01 1.5733663e-03 7.6505798e-04]\n",
      "[0. 0. 1.] <-> [9.0122465e-03 6.5860593e-05 9.9092191e-01]\n",
      "{'accuracy': 0.9691358024691358, 'mean_square_error': 0.07076595442917549, 'categorical_crossentropy': 0.11402736769782172, 'essential_metrics': {0: {'tp_hit': 76, 'fp_hit': 5, 'tn_hit': 27, 'fn_hit': 0}, 1: {'tp_hit': 14, 'fp_hit': 0, 'tn_hit': 91, 'fn_hit': 3}, 2: {'tp_hit': 13, 'fp_hit': 0, 'tn_hit': 93, 'fn_hit': 2}}}\n"
     ]
    }
   ],
   "source": [
    "# recall phase\n",
    "score = model.evaluate(x_test, y_test, False)\n",
    "print(score)"
   ]
  },
  {
   "cell_type": "code",
   "execution_count": 11,
   "metadata": {},
   "outputs": [
    {
     "data": {
      "image/png": "[encoded data removed]",
      "text/plain": [
       "<Figure size 864x360 with 1 Axes>"
      ]
     },
     "metadata": {
      "needs_background": "light"
     },
     "output_type": "display_data"
    },
    {
     "data": {
      "image/png": "[encoded data removed]",
      "text/plain": [
       "<Figure size 864x360 with 1 Axes>"
      ]
     },
     "metadata": {
      "needs_background": "light"
     },
     "output_type": "display_data"
    }
   ],
   "source": [
    "draw_plot(x = [[i for i in range(len(history))], [(i+1)*breakpoint for i in range(len(checkpoints))]], y_list = [history, [ ckp[model.loss_fn] for ckp in checkpoints ]], x_label = 'Epochs', \\\n",
    "    y_label = model.loss_fn, legend=['train', 'test'])\n",
    "acc = [ ckp['accuracy'] for ckp in checkpoints ]\n",
    "draw_plot(x = [[(i+1)*breakpoint for i in range(len(checkpoints))]], y_list = [acc], x_label = 'Checkpoints', \\\n",
    "    y_label = 'accuracy')"
   ]
  },
  {
   "cell_type": "code",
   "execution_count": 12,
   "metadata": {},
   "outputs": [
    {
     "name": "stdout",
     "output_type": "stream",
     "text": [
      "{'accuracy': 0.9814814814814815, 'mean_square_error': 0.0551207715031838, 'categorical_crossentropy': 0.11993318133884007, 'essential_metrics': {0: {'tp_hit': 75, 'fp_hit': 2, 'tn_hit': 30, 'fn_hit': 1}, 1: {'tp_hit': 17, 'fp_hit': 0, 'tn_hit': 91, 'fn_hit': 0}, 2: {'tp_hit': 13, 'fp_hit': 1, 'tn_hit': 92, 'fn_hit': 2}}, 'checkpoint': 100} \n",
      "\n",
      "\n",
      "{'accuracy': 0.9629629629629629, 'mean_square_error': 0.06683253871116841, 'categorical_crossentropy': 0.1053283656084979, 'essential_metrics': {0: {'tp_hit': 75, 'fp_hit': 5, 'tn_hit': 27, 'fn_hit': 1}, 1: {'tp_hit': 14, 'fp_hit': 0, 'tn_hit': 91, 'fn_hit': 3}, 2: {'tp_hit': 13, 'fp_hit': 1, 'tn_hit': 92, 'fn_hit': 2}}, 'checkpoint': 200} \n",
      "\n",
      "\n",
      "{'accuracy': 0.9691358024691358, 'mean_square_error': 0.07155269276906152, 'categorical_crossentropy': 0.11425379470542625, 'essential_metrics': {0: {'tp_hit': 76, 'fp_hit': 5, 'tn_hit': 27, 'fn_hit': 0}, 1: {'tp_hit': 14, 'fp_hit': 0, 'tn_hit': 91, 'fn_hit': 3}, 2: {'tp_hit': 13, 'fp_hit': 0, 'tn_hit': 93, 'fn_hit': 2}}, 'checkpoint': 300} \n",
      "\n",
      "\n",
      "{'accuracy': 0.9691358024691358, 'mean_square_error': 0.07150683981623948, 'categorical_crossentropy': 0.11359046123645923, 'essential_metrics': {0: {'tp_hit': 76, 'fp_hit': 5, 'tn_hit': 27, 'fn_hit': 0}, 1: {'tp_hit': 14, 'fp_hit': 0, 'tn_hit': 91, 'fn_hit': 3}, 2: {'tp_hit': 13, 'fp_hit': 0, 'tn_hit': 93, 'fn_hit': 2}}, 'checkpoint': 400} \n",
      "\n",
      "\n",
      "{'accuracy': 0.9691358024691358, 'mean_square_error': 0.07076595442917549, 'categorical_crossentropy': 0.11402736769782172, 'essential_metrics': {0: {'tp_hit': 76, 'fp_hit': 5, 'tn_hit': 27, 'fn_hit': 0}, 1: {'tp_hit': 14, 'fp_hit': 0, 'tn_hit': 91, 'fn_hit': 3}, 2: {'tp_hit': 13, 'fp_hit': 0, 'tn_hit': 93, 'fn_hit': 2}}, 'checkpoint': 500} \n",
      "\n",
      "\n"
     ]
    }
   ],
   "source": [
    "for checkpoint in checkpoints:\n",
    "    print(checkpoint, '\\n\\n')"
   ]
  },
  {
   "cell_type": "code",
   "execution_count": 13,
   "metadata": {},
   "outputs": [
    {
     "name": "stdout",
     "output_type": "stream",
     "text": [
      "Layer 1\n",
      "Neuron 0: weights:\n",
      "[-1.1313775  3.         1.2155826 -3.        -1.3066491]\n",
      " bias: 3.0\n",
      "\n",
      "Neuron 1: weights:\n",
      "[ 1.9598113 -3.        -3.        -1.9585916  1.0297183]\n",
      " bias: 3.0\n",
      "\n",
      "Neuron 2: weights:\n",
      "[-1.9539367  3.         1.7808627  1.9002266 -1.3678112]\n",
      " bias: -3.0\n",
      "\n",
      "Neuron 3: weights:\n",
      "[-1.1553695  3.         1.3285336 -3.        -1.1442847]\n",
      " bias: 3.0\n",
      "\n",
      "$\n",
      "Layer 2\n",
      "Neuron 0: weights:\n",
      "[ 3.  3. -3.  3.]\n",
      " bias: -3.0\n",
      "\n",
      "Neuron 1: weights:\n",
      "[ 2.067904  -3.         3.         1.8230196]\n",
      " bias: -1.9188017845153809\n",
      "\n",
      "Neuron 2: weights:\n",
      "[-3.         1.8720101 -3.        -3.       ]\n",
      " bias: 2.828042984008789\n",
      "\n",
      "$\n",
      "\n"
     ]
    }
   ],
   "source": [
    "print(model)"
   ]
  }
 ],
 "metadata": {
  "kernelspec": {
   "display_name": "Python 3",
   "language": "python",
   "name": "python3"
  },
  "language_info": {
   "codemirror_mode": {
    "name": "ipython",
    "version": 3
   },
   "file_extension": ".py",
   "mimetype": "text/x-python",
   "name": "python",
   "nbconvert_exporter": "python",
   "pygments_lexer": "ipython3",
   "version": "3.6.10"
  }
 },
 "nbformat": 4,
 "nbformat_minor": 2
}
