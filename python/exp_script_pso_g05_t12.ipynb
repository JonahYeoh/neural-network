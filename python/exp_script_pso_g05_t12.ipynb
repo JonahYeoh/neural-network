{
 "cells": [
  {
   "cell_type": "code",
   "execution_count": 1,
   "metadata": {},
   "outputs": [],
   "source": [
    "# dependency\n",
    "import numpy as np\n",
    "import pandas as pd\n",
    "import copy\n",
    "import math\n",
    "import sys\n",
    "import os\n",
    "from activations import relu, leaky_relu, sigmoid, tanh, softmax, d_sigmoid, d_relu\n",
    "from initializers import glorot_uniform, random_normal, random_uniform\n",
    "from regularizers import l1_regularizer, l2_regularizer\n",
    "from utility import trim_tail, multiply, subtract, get_nparams, one_hot_encoding, get_data\n",
    "from metrics import MSE, CCE, ACC, PRECISION, RECALL, essential_metrics, wondering_penalty, close_gap_penalty\n",
    "from pso import PSO\n",
    "from ga import GA\n",
    "from nn import Network\n",
    "from layer import DenseLayer\n",
    "from scalers import MinMaxScaler, StandardScaler"
   ]
  },
  {
   "cell_type": "code",
   "execution_count": 2,
   "metadata": {},
   "outputs": [],
   "source": [
    "# reference\n",
    "metrics_fn_dict = dict()\n",
    "metrics_fn_dict['accuracy'] = ACC\n",
    "metrics_fn_dict['categorical_crossentropy'] = CCE\n",
    "metrics_fn_dict['mean_square_error'] = MSE\n",
    "metrics_fn_dict['precision'] = PRECISION\n",
    "metrics_fn_dict['recall'] = RECALL\n",
    "metrics_fn_dict['essential_metrics'] = essential_metrics"
   ]
  },
  {
   "cell_type": "code",
   "execution_count": 3,
   "metadata": {},
   "outputs": [],
   "source": [
    "# model\n",
    "model = Network(5, lr = None)\n",
    "model.add_layer(DenseLayer(1, 4, True, afn=sigmoid, dafn=None, rfn=None))\n",
    "model.add_layer(DenseLayer(2, 3, True, afn=softmax, dafn=None, rfn=None))"
   ]
  },
  {
   "cell_type": "code",
   "execution_count": 4,
   "metadata": {},
   "outputs": [
    {
     "name": "stdout",
     "output_type": "stream",
     "text": [
      "see one see two 2.0 0.5\n"
     ]
    }
   ],
   "source": [
    "pso = PSO(dict(m = 50,\n",
    "    weight_constraint = [-3, 3], \n",
    "    velocity_constraint = [-0.1, 0.1],\n",
    "    c1 = [0.5, 2.0],\n",
    "    c2 = [0.5, 2.0],\n",
    "    w = [0.5, 1.6],\n",
    "    w_decay = 0.95,\n",
    "    scale_hyperparameter = False,\n",
    "    regularizer = None,\n",
    "    mask = True))"
   ]
  },
  {
   "cell_type": "code",
   "execution_count": 5,
   "metadata": {},
   "outputs": [
    {
     "name": "stdout",
     "output_type": "stream",
     "text": [
      "building layer 1 with 5\n",
      "24\n",
      "building layer 2 with 4\n",
      "15\n"
     ]
    }
   ],
   "source": [
    "model.compile(loss_fn = 'categorical_crossentropy', optimizer = pso, \\\n",
    "    metrics = ['accuracy', 'mean_square_error', 'categorical_crossentropy'])"
   ]
  },
  {
   "cell_type": "code",
   "execution_count": 6,
   "metadata": {},
   "outputs": [
    {
     "name": "stdout",
     "output_type": "stream",
     "text": [
      "<class 'pandas.core.frame.DataFrame'>\n",
      "RangeIndex: 107 entries, 0 to 106\n",
      "Data columns (total 6 columns):\n",
      " #   Column  Non-Null Count  Dtype  \n",
      "---  ------  --------------  -----  \n",
      " 0   f1      107 non-null    float32\n",
      " 1   f2      107 non-null    float32\n",
      " 2   f3      107 non-null    float32\n",
      " 3   f4      107 non-null    float32\n",
      " 4   f5      107 non-null    float32\n",
      " 5   label   107 non-null    float32\n",
      "dtypes: float32(6)\n",
      "memory usage: 2.6 KB\n",
      "None\n",
      "<class 'pandas.core.frame.DataFrame'>\n",
      "RangeIndex: 108 entries, 0 to 107\n",
      "Data columns (total 6 columns):\n",
      " #   Column  Non-Null Count  Dtype  \n",
      "---  ------  --------------  -----  \n",
      " 0   f1      108 non-null    float32\n",
      " 1   f2      108 non-null    float32\n",
      " 2   f3      108 non-null    float32\n",
      " 3   f4      108 non-null    float32\n",
      " 4   f5      108 non-null    float32\n",
      " 5   label   108 non-null    float32\n",
      "dtypes: float32(6)\n",
      "memory usage: 2.7 KB\n",
      "None\n"
     ]
    }
   ],
   "source": [
    "# data loading\n",
    "DATA = os.path.join('c:\\\\Users\\\\AI-lab\\\\github_repo\\\\neural-network\\\\', 'dataset')\n",
    "GROUP = 5\n",
    "COLUMNS = ['f1', 'f2', 'f3', 'f4', 'f5', 'label']\n",
    "N_CLASS = 3\n",
    "EPOCHS = 200\n",
    "train_dir, test_dir = \"..//dataset//training_data{}.txt\".format(GROUP), \"..//dataset//testing_data{}.txt\".format(GROUP)\n",
    "train, test = get_data(DATA, train_dir, COLUMNS), get_data(DATA, test_dir, COLUMNS)\n",
    "# shuffle\n",
    "train, test = train.sample(frac=1), test.sample(frac=1)\n",
    "x_train, y_train = train.drop('label', axis=1), train['label']\n",
    "x_test, y_test = test.drop('label', axis=1), test['label']"
   ]
  },
  {
   "cell_type": "code",
   "execution_count": 7,
   "metadata": {},
   "outputs": [],
   "source": [
    "# data scaling and encoding\n",
    "scaler = StandardScaler(['f1', 'f2', 'f3', 'f4', 'f5'])\n",
    "scaler.fit(x_train)\n",
    "x_train = scaler.transform(x_train)\n",
    "x_test = scaler.transform(x_test)\n",
    "y_train = one_hot_encoding(y_train, N_CLASS)\n",
    "y_test = one_hot_encoding(y_test, N_CLASS)"
   ]
  },
  {
   "cell_type": "code",
   "execution_count": 8,
   "metadata": {
    "tags": [
     "outputPrepend"
    ]
   },
   "outputs": [
    {
     "name": "stdout",
     "output_type": "stream",
     "text": [
      "Checkpoint 10, Accuracy: 0.8333333333333334, Loss: 0.7275976251672815\n",
      "Checkpoint 20, Accuracy: 0.8641975308641975, Loss: 0.6825778396041305\n",
      "Checkpoint 30, Accuracy: 0.8827160493827161, Loss: 0.6561039818657769\n",
      "Checkpoint 40, Accuracy: 0.8333333333333334, Loss: 0.6869560524269387\n",
      "Checkpoint 50, Accuracy: 0.8765432098765432, Loss: 0.5872367929529261\n",
      "Checkpoint 60, Accuracy: 0.8827160493827161, Loss: 0.5573109874018917\n",
      "Checkpoint 70, Accuracy: 0.8888888888888888, Loss: 0.5115679281729238\n",
      "Checkpoint 80, Accuracy: 0.8827160493827161, Loss: 0.4411226201940466\n",
      "Checkpoint 90, Accuracy: 0.8827160493827161, Loss: 0.34557649824354386\n",
      "Checkpoint 100, Accuracy: 0.9444444444444444, Loss: 0.3256355215001989\n",
      "Checkpoint 110, Accuracy: 0.9629629629629629, Loss: 0.2814946351227937\n",
      "Checkpoint 120, Accuracy: 0.9691358024691358, Loss: 0.20866431130303276\n",
      "Checkpoint 130, Accuracy: 0.9629629629629629, Loss: 0.20974678463406032\n",
      "Checkpoint 140, Accuracy: 0.9567901234567902, Loss: 0.18867971279003\n",
      "Checkpoint 150, Accuracy: 0.9753086419753086, Loss: 0.13546160415366845\n",
      "Checkpoint 160, Accuracy: 0.9629629629629629, Loss: 0.13748931884765625\n",
      "Checkpoint 170, Accuracy: 0.9814814814814815, Loss: 0.11515608540287724\n",
      "Checkpoint 180, Accuracy: 0.9691358024691358, Loss: 0.11381685292279278\n",
      "Checkpoint 190, Accuracy: 0.9629629629629629, Loss: 0.11485253440009223\n",
      "Checkpoint 200, Accuracy: 0.9629629629629629, Loss: 0.11561256867867929\n"
     ]
    }
   ],
   "source": [
    "# learning phase\n",
    "breakpoint = 10\n",
    "checkpoints = list()\n",
    "history = list()\n",
    "for century in range(0, EPOCHS, breakpoint):\n",
    "    sub_history = model.fit(x_train, y_train, breakpoint, verbose = 0)\n",
    "    score = model.evaluate(x_test, y_test, False, verbose = 0)\n",
    "    print('Checkpoint {}, Accuracy: {}, Loss: {}'.format(century+breakpoint, score['accuracy'], score[model.loss_fn]))\n",
    "    score['checkpoint'] = century + breakpoint\n",
    "    checkpoints.append(score)\n",
    "    history.extend(sub_history)\n",
    "    itr = century + breakpoint\n",
    "    model.optimizer.c2 = np.max([model.optimizer.C2[1] - ((model.optimizer.C2[1] - model.optimizer.C2[0]) * itr / EPOCHS), model.optimizer.C2[0]])\n",
    "    model.optimizer.c1 = np.min([model.optimizer.C1[0] + ((model.optimizer.C1[1] - model.optimizer.C1[0]) * itr / EPOCHS), model.optimizer.C1[1]])\n",
    "    model.optimizer.w = np.max([model.optimizer.w * model.optimizer.W_Decay, model.optimizer.W[0]])"
   ]
  },
  {
   "cell_type": "code",
   "execution_count": 9,
   "metadata": {},
   "outputs": [],
   "source": [
    "import matplotlib.pyplot as plt\n",
    "\n",
    "def draw_plot(x, y_list, x_label=None, y_label=None, legend=None, title=None):\n",
    "    fig, ax = plt.subplots(figsize=(12,5))\n",
    "    for xi, yi in zip(x, y_list):\n",
    "        ax.plot(xi, yi)\n",
    "    if x_label is not None and y_label is not None:\n",
    "        ax.set(xlabel=x_label, ylabel=y_label, title='{} VS {}'.format(x_label, y_label))\n",
    "    if legend is not None:\n",
    "        ax.legend(legend)\n",
    "    ax.grid()\n",
    "    plt.show()"
   ]
  },
  {
   "cell_type": "code",
   "execution_count": 10,
   "metadata": {},
   "outputs": [],
   "source": [
    "train_acc = [h['accuracy'] for h in history]\n",
    "train_mse = [h['mean_square_error'] for h in history]\n",
    "train_cce = [h['categorical_crossentropy'] for h in history]"
   ]
  },
  {
   "cell_type": "code",
   "execution_count": 11,
   "metadata": {},
   "outputs": [
    {
     "data": {
      "image/png": "[encoded data removed]",
      "text/plain": [
       "<Figure size 864x360 with 1 Axes>"
      ]
     },
     "metadata": {
      "needs_background": "light"
     },
     "output_type": "display_data"
    },
    {
     "data": {
      "image/png": "[encoded data removed]",
      "text/plain": [
       "<Figure size 864x360 with 1 Axes>"
      ]
     },
     "metadata": {
      "needs_background": "light"
     },
     "output_type": "display_data"
    }
   ],
   "source": [
    "draw_plot(x = [[i for i in range(len(history))], [(i+1)*breakpoint for i in range(len(checkpoints))]], y_list = [train_cce, [ ckp[model.loss_fn] for ckp in checkpoints ]], x_label = 'Epochs', \\\n",
    "    y_label = model.loss_fn, legend=['train', 'test'])\n",
    "acc = [ ckp['accuracy'] for ckp in checkpoints ]\n",
    "draw_plot(x = [[i for i in range(len(history))], [(i+1)*breakpoint for i in range(len(checkpoints))]], y_list = [train_acc, acc], x_label = 'Checkpoints', \\\n",
    "    y_label = 'accuracy', legend=['train', 'test'])"
   ]
  },
  {
   "cell_type": "code",
   "execution_count": 12,
   "metadata": {},
   "outputs": [
    {
     "name": "stdout",
     "output_type": "stream",
     "text": [
      "[1. 0. 0.] <-> [9.1369033e-01 5.3523906e-04 8.5774422e-02]\n",
      "[1. 0. 0.] <-> [9.84622061e-01 6.41562685e-04 1.47363655e-02]\n",
      "[1. 0. 0.] <-> [9.8403502e-01 5.5191724e-04 1.5413028e-02]\n",
      "[1. 0. 0.] <-> [0.98619825 0.00173555 0.01206622]\n",
      "[0. 0. 1.] <-> [0.0224259 0.0068096 0.9707645]\n",
      "[0. 0. 1.] <-> [0.02222538 0.00695899 0.9708156 ]\n",
      "[1. 0. 0.] <-> [9.2730922e-01 3.3059245e-04 7.2360173e-02]\n",
      "[1. 0. 0.] <-> [0.99060494 0.0010741  0.00832087]\n",
      "[1. 0. 0.] <-> [9.6900439e-01 7.9691509e-04 3.0198704e-02]\n",
      "[1. 0. 0.] <-> [9.4779611e-01 2.7917061e-04 5.1924687e-02]\n",
      "[1. 0. 0.] <-> [9.5185322e-01 8.7346329e-04 4.7273275e-02]\n",
      "[1. 0. 0.] <-> [0.6069158  0.00068584 0.39239836]\n",
      "[0. 1. 0.] <-> [0.5869347  0.41161752 0.0014478 ]\n",
      "[0. 1. 0.] <-> [1.0940890e-01 8.9027566e-01 3.1541358e-04]\n",
      "[1. 0. 0.] <-> [0.989022   0.00155872 0.0094192 ]\n",
      "[1. 0. 0.] <-> [9.6682125e-01 9.0714637e-04 3.2271639e-02]\n",
      "[0. 1. 0.] <-> [2.4217129e-01 7.5719368e-01 6.3496642e-04]\n",
      "[1. 0. 0.] <-> [9.1769320e-01 3.9321257e-04 8.1913605e-02]\n",
      "[1. 0. 0.] <-> [0.9934428  0.00252092 0.0040363 ]\n",
      "[0. 1. 0.] <-> [1.0967053e-02 9.8899466e-01 3.8261725e-05]\n",
      "[0. 1. 0.] <-> [1.1146933e-02 9.8881418e-01 3.8910122e-05]\n",
      "[1. 0. 0.] <-> [0.9910533  0.00605822 0.00288843]\n",
      "[1. 0. 0.] <-> [0.45171955 0.00291258 0.5453679 ]\n",
      "[1. 0. 0.] <-> [9.8497760e-01 6.6343066e-04 1.4358981e-02]\n",
      "[1. 0. 0.] <-> [9.896207e-01 6.019788e-04 9.777331e-03]\n",
      "[1. 0. 0.] <-> [9.9012482e-01 7.7531714e-04 9.0997834e-03]\n",
      "[1. 0. 0.] <-> [9.8193282e-01 4.3011204e-04 1.7637132e-02]\n",
      "[1. 0. 0.] <-> [0.934191   0.06338412 0.00242493]\n",
      "[0. 0. 1.] <-> [0.02216688 0.00692907 0.97090405]\n",
      "[1. 0. 0.] <-> [0.9941257  0.00219481 0.00367952]\n",
      "[0. 1. 0.] <-> [1.0964835e-02 9.8899698e-01 3.8255395e-05]\n",
      "[0. 1. 0.] <-> [1.0977324e-02 9.8898435e-01 3.8288777e-05]\n",
      "[1. 0. 0.] <-> [9.8371685e-01 4.0031646e-04 1.5882859e-02]\n",
      "[1. 0. 0.] <-> [9.7398078e-01 6.6909404e-04 2.5350057e-02]\n",
      "[1. 0. 0.] <-> [0.9934668  0.00159165 0.00494151]\n",
      "[1. 0. 0.] <-> [9.7924358e-01 4.2036225e-04 2.0336097e-02]\n",
      "[0. 0. 1.] <-> [9.6238613e-02 2.0217284e-04 9.0355927e-01]\n",
      "[0. 0. 1.] <-> [9.6911676e-02 1.9374018e-04 9.0289462e-01]\n",
      "[0. 0. 1.] <-> [6.8012051e-02 4.6688918e-04 9.3152106e-01]\n",
      "[1. 0. 0.] <-> [9.7390354e-01 4.9854082e-04 2.5597934e-02]\n",
      "[1. 0. 0.] <-> [9.8522341e-01 5.6840130e-04 1.4208176e-02]\n",
      "[1. 0. 0.] <-> [8.9352775e-01 5.0130964e-04 1.0597100e-01]\n",
      "[1. 0. 0.] <-> [9.8611408e-01 4.7782774e-04 1.3408061e-02]\n",
      "[1. 0. 0.] <-> [0.99341065 0.00136768 0.00522169]\n",
      "[1. 0. 0.] <-> [0.98846483 0.00287911 0.00865603]\n",
      "[0. 1. 0.] <-> [0.61941755 0.37898937 0.00159313]\n",
      "[1. 0. 0.] <-> [0.9861428  0.00691964 0.00693748]\n",
      "[0. 1. 0.] <-> [1.2938566e-02 9.8701817e-01 4.3353171e-05]\n",
      "[0. 0. 1.] <-> [3.2937148e-01 5.7484029e-04 6.7005366e-01]\n",
      "[1. 0. 0.] <-> [9.8225075e-01 5.1266683e-04 1.7236596e-02]\n",
      "[1. 0. 0.] <-> [0.9907032  0.00672073 0.00257597]\n",
      "[1. 0. 0.] <-> [9.8999864e-01 8.4538141e-04 9.1559989e-03]\n",
      "[1. 0. 0.] <-> [9.7637343e-01 3.4505536e-04 2.3281511e-02]\n",
      "[1. 0. 0.] <-> [0.9889938  0.00883107 0.00217508]\n",
      "[1. 0. 0.] <-> [9.8321390e-01 8.8580389e-04 1.5900252e-02]\n",
      "[1. 0. 0.] <-> [9.7706485e-01 2.6894957e-04 2.2666166e-02]\n",
      "[1. 0. 0.] <-> [0.99392104 0.00379701 0.00228202]\n",
      "[0. 1. 0.] <-> [4.7309976e-02 9.5256495e-01 1.2506050e-04]\n",
      "[0. 1. 0.] <-> [4.2891871e-02 9.5697081e-01 1.3732139e-04]\n",
      "[1. 0. 0.] <-> [7.5183129e-01 4.3854868e-04 2.4773020e-01]\n",
      "[1. 0. 0.] <-> [0.9925506  0.00317424 0.00427519]\n",
      "[1. 0. 0.] <-> [0.99423236 0.0015157  0.00425192]\n",
      "[0. 0. 1.] <-> [9.5511749e-02 1.9727375e-04 9.0429097e-01]\n",
      "[1. 0. 0.] <-> [9.8156160e-01 4.9187953e-04 1.7946443e-02]\n",
      "[0. 0. 1.] <-> [8.5262972e-01 4.2842198e-04 1.4694181e-01]\n",
      "[1. 0. 0.] <-> [0.99363565 0.00304821 0.00331613]\n",
      "[0. 1. 0.] <-> [0.66690975 0.33155647 0.00153379]\n",
      "[0. 0. 1.] <-> [9.9601150e-02 2.4415404e-04 9.0015465e-01]\n",
      "[1. 0. 0.] <-> [9.7678691e-01 2.4096317e-04 2.2972204e-02]\n",
      "[1. 0. 0.] <-> [9.468390e-01 8.242947e-04 5.233676e-02]\n",
      "[0. 0. 1.] <-> [9.7589582e-02 1.9613456e-04 9.0221429e-01]\n",
      "[0. 1. 0.] <-> [1.2921623e-02 9.8703277e-01 4.5602967e-05]\n",
      "[1. 0. 0.] <-> [8.7037969e-01 3.8260600e-04 1.2923771e-01]\n",
      "[1. 0. 0.] <-> [9.6781600e-01 3.9815318e-04 3.1785898e-02]\n",
      "[0. 0. 1.] <-> [9.7625472e-02 1.9723167e-04 9.0217733e-01]\n",
      "[1. 0. 0.] <-> [0.98566854 0.01117316 0.00315833]\n",
      "[0. 0. 1.] <-> [0.04839737 0.00110827 0.95049435]\n",
      "[1. 0. 0.] <-> [0.99020535 0.00114128 0.00865337]\n",
      "[1. 0. 0.] <-> [9.8881441e-01 8.3899935e-04 1.0346530e-02]\n",
      "[0. 1. 0.] <-> [1.0966301e-02 9.8899531e-01 3.8259561e-05]\n",
      "[1. 0. 0.] <-> [7.8829986e-01 4.4486087e-04 2.1125530e-01]\n",
      "[1. 0. 0.] <-> [8.94051135e-01 4.37912124e-04 1.05510935e-01]\n",
      "[1. 0. 0.] <-> [9.6046543e-01 4.3567779e-04 3.9098959e-02]\n",
      "[1. 0. 0.] <-> [9.5566493e-01 3.6483168e-04 4.3970250e-02]\n",
      "[1. 0. 0.] <-> [0.9940824  0.00119413 0.0047234 ]\n",
      "[1. 0. 0.] <-> [0.9882536  0.00200618 0.00974016]\n",
      "[0. 1. 0.] <-> [1.0966055e-02 9.8899567e-01 3.8259794e-05]\n",
      "[0. 0. 1.] <-> [8.2337743e-01 4.7167536e-04 1.7615096e-01]\n",
      "[0. 1. 0.] <-> [1.0966457e-02 9.8899519e-01 3.8259557e-05]\n",
      "[0. 0. 1.] <-> [5.6015078e-02 7.6257851e-04 9.4322228e-01]\n",
      "[1. 0. 0.] <-> [9.8955286e-01 7.7245990e-04 9.6746860e-03]\n",
      "[0. 1. 0.] <-> [2.0158383e-01 7.9801565e-01 4.0046766e-04]\n",
      "[1. 0. 0.] <-> [0.9298646  0.0679616  0.00217387]\n",
      "[1. 0. 0.] <-> [9.9153250e-01 9.2508417e-04 7.5424076e-03]\n",
      "[1. 0. 0.] <-> [0.99261767 0.00406519 0.00331712]\n",
      "[1. 0. 0.] <-> [0.9889643  0.00330114 0.00773456]\n",
      "[1. 0. 0.] <-> [9.9256986e-01 9.7674294e-04 6.4533819e-03]\n",
      "[1. 0. 0.] <-> [9.870581e-01 4.749627e-04 1.246683e-02]\n",
      "[1. 0. 0.] <-> [0.9901613  0.00104833 0.00879037]\n",
      "[1. 0. 0.] <-> [0.99230015 0.00118729 0.00651249]\n",
      "[1. 0. 0.] <-> [9.8912889e-01 7.1639818e-04 1.0154657e-02]\n",
      "[1. 0. 0.] <-> [9.1153324e-01 3.5845774e-04 8.8108271e-02]\n",
      "[1. 0. 0.] <-> [9.8814428e-01 5.1221630e-04 1.1343542e-02]\n",
      "[1. 0. 0.] <-> [9.8106623e-01 3.3876734e-04 1.8594928e-02]\n",
      "[1. 0. 0.] <-> [0.9819089  0.00099087 0.01710022]\n",
      "[1. 0. 0.] <-> [9.6827716e-01 5.4989563e-04 3.1172963e-02]\n",
      "[1. 0. 0.] <-> [9.4608808e-01 2.7824155e-04 5.3633664e-02]\n",
      "[1. 0. 0.] <-> [0.9935801  0.00166567 0.00475425]\n",
      "{'accuracy': 0.9629629629629629, 'mean_square_error': 0.06552948174515859, 'categorical_crossentropy': 0.11561256867867929, 'essential_metrics': {0: {'tp_hit': 75, 'fp_hit': 5, 'tn_hit': 27, 'fn_hit': 1}, 1: {'tp_hit': 14, 'fp_hit': 0, 'tn_hit': 91, 'fn_hit': 3}, 2: {'tp_hit': 13, 'fp_hit': 1, 'tn_hit': 92, 'fn_hit': 2}}}\n"
     ]
    }
   ],
   "source": [
    "# recall phase\n",
    "score = model.evaluate(x_test, y_test, False)\n",
    "print(score)"
   ]
  },
  {
   "cell_type": "code",
   "execution_count": 13,
   "metadata": {},
   "outputs": [
    {
     "name": "stdout",
     "output_type": "stream",
     "text": [
      "{'accuracy': 0.8333333333333334, 'mean_square_error': 0.4377691037517031, 'categorical_crossentropy': 0.7275976251672815, 'essential_metrics': {0: {'tp_hit': 66, 'fp_hit': 12, 'tn_hit': 20, 'fn_hit': 10}, 1: {'tp_hit': 12, 'fp_hit': 1, 'tn_hit': 90, 'fn_hit': 5}, 2: {'tp_hit': 3, 'fp_hit': 14, 'tn_hit': 79, 'fn_hit': 12}}, 'checkpoint': 10} \n",
      "\n",
      "\n",
      "{'accuracy': 0.8641975308641975, 'mean_square_error': 0.3920165880784119, 'categorical_crossentropy': 0.6825778396041305, 'essential_metrics': {0: {'tp_hit': 73, 'fp_hit': 16, 'tn_hit': 16, 'fn_hit': 3}, 1: {'tp_hit': 13, 'fp_hit': 2, 'tn_hit': 89, 'fn_hit': 4}, 2: {'tp_hit': 0, 'fp_hit': 4, 'tn_hit': 89, 'fn_hit': 15}}, 'checkpoint': 20} \n",
      "\n",
      "\n",
      "{'accuracy': 0.8827160493827161, 'mean_square_error': 0.3693650539480557, 'categorical_crossentropy': 0.6561039818657769, 'essential_metrics': {0: {'tp_hit': 75, 'fp_hit': 15, 'tn_hit': 17, 'fn_hit': 1}, 1: {'tp_hit': 14, 'fp_hit': 1, 'tn_hit': 90, 'fn_hit': 3}, 2: {'tp_hit': 0, 'fp_hit': 3, 'tn_hit': 90, 'fn_hit': 15}}, 'checkpoint': 30} \n",
      "\n",
      "\n",
      "{'accuracy': 0.8333333333333334, 'mean_square_error': 0.365259084842408, 'categorical_crossentropy': 0.6869560524269387, 'essential_metrics': {0: {'tp_hit': 75, 'fp_hit': 26, 'tn_hit': 6, 'fn_hit': 1}, 1: {'tp_hit': 6, 'fp_hit': 1, 'tn_hit': 90, 'fn_hit': 11}, 2: {'tp_hit': 0, 'fp_hit': 0, 'tn_hit': 93, 'fn_hit': 15}}, 'checkpoint': 40} \n",
      "\n",
      "\n",
      "{'accuracy': 0.8765432098765432, 'mean_square_error': 0.3240654300131501, 'categorical_crossentropy': 0.5872367929529261, 'essential_metrics': {0: {'tp_hit': 75, 'fp_hit': 19, 'tn_hit': 13, 'fn_hit': 1}, 1: {'tp_hit': 13, 'fp_hit': 1, 'tn_hit': 90, 'fn_hit': 4}, 2: {'tp_hit': 0, 'fp_hit': 0, 'tn_hit': 93, 'fn_hit': 15}}, 'checkpoint': 50} \n",
      "\n",
      "\n",
      "{'accuracy': 0.8827160493827161, 'mean_square_error': 0.311349637774848, 'categorical_crossentropy': 0.5573109874018917, 'essential_metrics': {0: {'tp_hit': 75, 'fp_hit': 18, 'tn_hit': 14, 'fn_hit': 1}, 1: {'tp_hit': 14, 'fp_hit': 1, 'tn_hit': 90, 'fn_hit': 3}, 2: {'tp_hit': 0, 'fp_hit': 0, 'tn_hit': 93, 'fn_hit': 15}}, 'checkpoint': 60} \n",
      "\n",
      "\n",
      "{'accuracy': 0.8888888888888888, 'mean_square_error': 0.2899745381938247, 'categorical_crossentropy': 0.5115679281729238, 'essential_metrics': {0: {'tp_hit': 75, 'fp_hit': 17, 'tn_hit': 15, 'fn_hit': 1}, 1: {'tp_hit': 15, 'fp_hit': 1, 'tn_hit': 90, 'fn_hit': 2}, 2: {'tp_hit': 0, 'fp_hit': 0, 'tn_hit': 93, 'fn_hit': 15}}, 'checkpoint': 70} \n",
      "\n",
      "\n",
      "{'accuracy': 0.8827160493827161, 'mean_square_error': 0.2612501002075761, 'categorical_crossentropy': 0.4411226201940466, 'essential_metrics': {0: {'tp_hit': 76, 'fp_hit': 19, 'tn_hit': 13, 'fn_hit': 0}, 1: {'tp_hit': 13, 'fp_hit': 0, 'tn_hit': 91, 'fn_hit': 4}, 2: {'tp_hit': 0, 'fp_hit': 0, 'tn_hit': 93, 'fn_hit': 15}}, 'checkpoint': 80} \n",
      "\n",
      "\n",
      "{'accuracy': 0.8827160493827161, 'mean_square_error': 0.19208803856457227, 'categorical_crossentropy': 0.34557649824354386, 'essential_metrics': {0: {'tp_hit': 76, 'fp_hit': 18, 'tn_hit': 14, 'fn_hit': 0}, 1: {'tp_hit': 13, 'fp_hit': 1, 'tn_hit': 90, 'fn_hit': 4}, 2: {'tp_hit': 0, 'fp_hit': 0, 'tn_hit': 93, 'fn_hit': 15}}, 'checkpoint': 90} \n",
      "\n",
      "\n",
      "{'accuracy': 0.9444444444444444, 'mean_square_error': 0.1753652457181723, 'categorical_crossentropy': 0.3256355215001989, 'essential_metrics': {0: {'tp_hit': 76, 'fp_hit': 7, 'tn_hit': 25, 'fn_hit': 0}, 1: {'tp_hit': 13, 'fp_hit': 2, 'tn_hit': 89, 'fn_hit': 4}, 2: {'tp_hit': 10, 'fp_hit': 0, 'tn_hit': 93, 'fn_hit': 5}}, 'checkpoint': 100} \n",
      "\n",
      "\n",
      "{'accuracy': 0.9629629629629629, 'mean_square_error': 0.14665021895258765, 'categorical_crossentropy': 0.2814946351227937, 'essential_metrics': {0: {'tp_hit': 76, 'fp_hit': 6, 'tn_hit': 26, 'fn_hit': 0}, 1: {'tp_hit': 15, 'fp_hit': 0, 'tn_hit': 91, 'fn_hit': 2}, 2: {'tp_hit': 11, 'fp_hit': 0, 'tn_hit': 93, 'fn_hit': 4}}, 'checkpoint': 110} \n",
      "\n",
      "\n",
      "{'accuracy': 0.9691358024691358, 'mean_square_error': 0.10420073052858862, 'categorical_crossentropy': 0.20866431130303276, 'essential_metrics': {0: {'tp_hit': 76, 'fp_hit': 5, 'tn_hit': 27, 'fn_hit': 0}, 1: {'tp_hit': 15, 'fp_hit': 0, 'tn_hit': 91, 'fn_hit': 2}, 2: {'tp_hit': 12, 'fp_hit': 0, 'tn_hit': 93, 'fn_hit': 3}}, 'checkpoint': 120} \n",
      "\n",
      "\n",
      "{'accuracy': 0.9629629629629629, 'mean_square_error': 0.10482420171989908, 'categorical_crossentropy': 0.20974678463406032, 'essential_metrics': {0: {'tp_hit': 75, 'fp_hit': 5, 'tn_hit': 27, 'fn_hit': 1}, 1: {'tp_hit': 15, 'fp_hit': 0, 'tn_hit': 91, 'fn_hit': 2}, 2: {'tp_hit': 12, 'fp_hit': 1, 'tn_hit': 92, 'fn_hit': 3}}, 'checkpoint': 130} \n",
      "\n",
      "\n",
      "{'accuracy': 0.9567901234567902, 'mean_square_error': 0.0967678382141475, 'categorical_crossentropy': 0.18867971279003, 'essential_metrics': {0: {'tp_hit': 74, 'fp_hit': 5, 'tn_hit': 27, 'fn_hit': 2}, 1: {'tp_hit': 15, 'fp_hit': 0, 'tn_hit': 91, 'fn_hit': 2}, 2: {'tp_hit': 12, 'fp_hit': 2, 'tn_hit': 91, 'fn_hit': 3}}, 'checkpoint': 140} \n",
      "\n",
      "\n",
      "{'accuracy': 0.9753086419753086, 'mean_square_error': 0.06925934409796056, 'categorical_crossentropy': 0.13546160415366845, 'essential_metrics': {0: {'tp_hit': 76, 'fp_hit': 4, 'tn_hit': 28, 'fn_hit': 0}, 1: {'tp_hit': 16, 'fp_hit': 0, 'tn_hit': 91, 'fn_hit': 1}, 2: {'tp_hit': 12, 'fp_hit': 0, 'tn_hit': 93, 'fn_hit': 3}}, 'checkpoint': 150} \n",
      "\n",
      "\n",
      "{'accuracy': 0.9629629629629629, 'mean_square_error': 0.07260518601545642, 'categorical_crossentropy': 0.13748931884765625, 'essential_metrics': {0: {'tp_hit': 74, 'fp_hit': 4, 'tn_hit': 28, 'fn_hit': 2}, 1: {'tp_hit': 15, 'fp_hit': 0, 'tn_hit': 91, 'fn_hit': 2}, 2: {'tp_hit': 13, 'fp_hit': 2, 'tn_hit': 91, 'fn_hit': 2}}, 'checkpoint': 160} \n",
      "\n",
      "\n",
      "{'accuracy': 0.9814814814814815, 'mean_square_error': 0.05878277493422627, 'categorical_crossentropy': 0.11515608540287724, 'essential_metrics': {0: {'tp_hit': 76, 'fp_hit': 3, 'tn_hit': 29, 'fn_hit': 0}, 1: {'tp_hit': 16, 'fp_hit': 0, 'tn_hit': 91, 'fn_hit': 1}, 2: {'tp_hit': 13, 'fp_hit': 0, 'tn_hit': 93, 'fn_hit': 2}}, 'checkpoint': 170} \n",
      "\n",
      "\n",
      "{'accuracy': 0.9691358024691358, 'mean_square_error': 0.061707014902393144, 'categorical_crossentropy': 0.11381685292279278, 'essential_metrics': {0: {'tp_hit': 76, 'fp_hit': 5, 'tn_hit': 27, 'fn_hit': 0}, 1: {'tp_hit': 14, 'fp_hit': 0, 'tn_hit': 91, 'fn_hit': 3}, 2: {'tp_hit': 13, 'fp_hit': 0, 'tn_hit': 93, 'fn_hit': 2}}, 'checkpoint': 180} \n",
      "\n",
      "\n",
      "{'accuracy': 0.9629629629629629, 'mean_square_error': 0.06416674125091487, 'categorical_crossentropy': 0.11485253440009223, 'essential_metrics': {0: {'tp_hit': 75, 'fp_hit': 5, 'tn_hit': 27, 'fn_hit': 1}, 1: {'tp_hit': 14, 'fp_hit': 0, 'tn_hit': 91, 'fn_hit': 3}, 2: {'tp_hit': 13, 'fp_hit': 1, 'tn_hit': 92, 'fn_hit': 2}}, 'checkpoint': 190} \n",
      "\n",
      "\n",
      "{'accuracy': 0.9629629629629629, 'mean_square_error': 0.06552948174515859, 'categorical_crossentropy': 0.11561256867867929, 'essential_metrics': {0: {'tp_hit': 75, 'fp_hit': 5, 'tn_hit': 27, 'fn_hit': 1}, 1: {'tp_hit': 14, 'fp_hit': 0, 'tn_hit': 91, 'fn_hit': 3}, 2: {'tp_hit': 13, 'fp_hit': 1, 'tn_hit': 92, 'fn_hit': 2}}, 'checkpoint': 200} \n",
      "\n",
      "\n"
     ]
    }
   ],
   "source": [
    "for checkpoint in checkpoints:\n",
    "    print(checkpoint, '\\n\\n')"
   ]
  },
  {
   "cell_type": "code",
   "execution_count": 14,
   "metadata": {},
   "outputs": [
    {
     "name": "stdout",
     "output_type": "stream",
     "text": [
      "Layer 1\n",
      "Neuron 0: weights:\n",
      "[ 1.9663976  -2.1532557  -2.2866433  -0.12054419  3.        ]\n",
      " bias: 3.0\n",
      "\n",
      "Neuron 1: weights:\n",
      "[-0.46031716  1.6038799   3.          0.24874711 -0.6379687 ]\n",
      " bias: 0.24811044335365295\n",
      "\n",
      "Neuron 2: weights:\n",
      "[-1.2106856   3.          0.28069592 -3.         -1.3153877 ]\n",
      " bias: 2.7406673431396484\n",
      "\n",
      "Neuron 3: weights:\n",
      "[-0.8563451   2.498925    1.9254123   0.87294745  1.9849383 ]\n",
      " bias: -1.2734589576721191\n",
      "\n",
      "$\n",
      "Layer 2\n",
      "Neuron 0: weights:\n",
      "[ 2.8532481  0.6341819  3.        -3.       ]\n",
      " bias: -1.9241580963134766\n",
      "\n",
      "Neuron 1: weights:\n",
      "[-3.          2.9520772   0.49433094  2.0596433 ]\n",
      " bias: -2.2940189838409424\n",
      "\n",
      "Neuron 2: weights:\n",
      "[ 3.        -2.6579914 -3.        -1.4611609]\n",
      " bias: 0.17101256549358368\n",
      "\n",
      "$\n",
      "\n"
     ]
    }
   ],
   "source": [
    "print(model)"
   ]
  }
 ],
 "metadata": {
  "kernelspec": {
   "display_name": "Python 3",
   "language": "python",
   "name": "python3"
  },
  "language_info": {
   "codemirror_mode": {
    "name": "ipython",
    "version": 3
   },
   "file_extension": ".py",
   "mimetype": "text/x-python",
   "name": "python",
   "nbconvert_exporter": "python",
   "pygments_lexer": "ipython3",
   "version": "3.6.12"
  }
 },
 "nbformat": 4,
 "nbformat_minor": 2
}
