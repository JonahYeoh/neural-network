{
 "cells": [
  {
   "cell_type": "code",
   "execution_count": 1,
   "metadata": {},
   "outputs": [],
   "source": [
    "# dependency\n",
    "import numpy as np\n",
    "import pandas as pd\n",
    "import copy\n",
    "import math\n",
    "import sys\n",
    "import os\n",
    "from activations import relu, leaky_relu, sigmoid, tanh, softmax, d_sigmoid, d_relu\n",
    "from initializers import glorot_uniform, random_normal, random_uniform\n",
    "from regularizers import l1_regularizer, l2_regularizer\n",
    "from utility import trim_tail, multiply, subtract, get_nparams, one_hot_encoding, get_data\n",
    "from metrics import MSE, CCE, ACC, PRECISION, RECALL, essential_metrics, wondering_penalty, close_gap_penalty\n",
    "from pso import PSO\n",
    "from ga import GA\n",
    "from nn import Network\n",
    "from layer import DenseLayer\n",
    "from scalers import MinMaxScaler, StandardScaler"
   ]
  },
  {
   "cell_type": "code",
   "execution_count": 2,
   "metadata": {},
   "outputs": [],
   "source": [
    "# reference\n",
    "metrics_fn_dict = dict()\n",
    "metrics_fn_dict['accuracy'] = ACC\n",
    "metrics_fn_dict['categorical_crossentropy'] = CCE\n",
    "metrics_fn_dict['mean_square_error'] = MSE\n",
    "metrics_fn_dict['precision'] = PRECISION\n",
    "metrics_fn_dict['recall'] = RECALL\n",
    "metrics_fn_dict['essential_metrics'] = essential_metrics"
   ]
  },
  {
   "cell_type": "code",
   "execution_count": 3,
   "metadata": {},
   "outputs": [],
   "source": [
    "# model\n",
    "model = Network(5, lr = None)\n",
    "model.add_layer(DenseLayer(1, 4, True, afn=sigmoid, dafn=None, rfn=None))\n",
    "model.add_layer(DenseLayer(2, 3, True, afn=softmax, dafn=None, rfn=None))"
   ]
  },
  {
   "cell_type": "code",
   "execution_count": 4,
   "metadata": {},
   "outputs": [
    {
     "name": "stdout",
     "output_type": "stream",
     "text": [
      "see one see two 2 2\n"
     ]
    }
   ],
   "source": [
    "pso = PSO(dict(m = 50,\n",
    "    weight_constraint = [-3, 3], \n",
    "    velocity_constraint = [-0.1, 0.1],\n",
    "    c1 = 2,\n",
    "    c2 = 2,\n",
    "    w = 1.2,\n",
    "    w_decay = 1.0,\n",
    "    scale_hyperparameter = False,\n",
    "    regularizer = None,\n",
    "    mask = True))"
   ]
  },
  {
   "cell_type": "code",
   "execution_count": 5,
   "metadata": {},
   "outputs": [
    {
     "name": "stdout",
     "output_type": "stream",
     "text": [
      "building layer 1 with 5\n",
      "24\n",
      "building layer 2 with 4\n",
      "15\n"
     ]
    }
   ],
   "source": [
    "model.compile(loss_fn = 'categorical_crossentropy', optimizer = pso, \\\n",
    "    metrics = ['accuracy', 'mean_square_error', 'categorical_crossentropy'])"
   ]
  },
  {
   "cell_type": "code",
   "execution_count": 6,
   "metadata": {},
   "outputs": [
    {
     "name": "stdout",
     "output_type": "stream",
     "text": [
      "<class 'pandas.core.frame.DataFrame'>\n",
      "RangeIndex: 107 entries, 0 to 106\n",
      "Data columns (total 6 columns):\n",
      " #   Column  Non-Null Count  Dtype  \n",
      "---  ------  --------------  -----  \n",
      " 0   f1      107 non-null    float32\n",
      " 1   f2      107 non-null    float32\n",
      " 2   f3      107 non-null    float32\n",
      " 3   f4      107 non-null    float32\n",
      " 4   f5      107 non-null    float32\n",
      " 5   label   107 non-null    float32\n",
      "dtypes: float32(6)\n",
      "memory usage: 2.6 KB\n",
      "None\n",
      "<class 'pandas.core.frame.DataFrame'>\n",
      "RangeIndex: 108 entries, 0 to 107\n",
      "Data columns (total 6 columns):\n",
      " #   Column  Non-Null Count  Dtype  \n",
      "---  ------  --------------  -----  \n",
      " 0   f1      108 non-null    float32\n",
      " 1   f2      108 non-null    float32\n",
      " 2   f3      108 non-null    float32\n",
      " 3   f4      108 non-null    float32\n",
      " 4   f5      108 non-null    float32\n",
      " 5   label   108 non-null    float32\n",
      "dtypes: float32(6)\n",
      "memory usage: 2.7 KB\n",
      "None\n"
     ]
    }
   ],
   "source": [
    "# data loading\n",
    "DATA = os.path.join('c:\\\\Users\\\\AI-lab\\\\github_repo\\\\neural-network\\\\', 'dataset')\n",
    "GROUP = 5\n",
    "COLUMNS = ['f1', 'f2', 'f3', 'f4', 'f5', 'label']\n",
    "N_CLASS = 3\n",
    "EPOCHS = 200\n",
    "train_dir, test_dir = \"..//dataset//training_data{}.txt\".format(GROUP), \"..//dataset//testing_data{}.txt\".format(GROUP)\n",
    "train, test = get_data(DATA, train_dir, COLUMNS), get_data(DATA, test_dir, COLUMNS)\n",
    "# shuffle\n",
    "train, test = train.sample(frac=1), test.sample(frac=1)\n",
    "x_train, y_train = train.drop('label', axis=1), train['label']\n",
    "x_test, y_test = test.drop('label', axis=1), test['label']"
   ]
  },
  {
   "cell_type": "code",
   "execution_count": 7,
   "metadata": {},
   "outputs": [],
   "source": [
    "# data scaling and encoding\n",
    "scaler = StandardScaler(['f1', 'f2', 'f3', 'f4', 'f5'])\n",
    "scaler.fit(x_train)\n",
    "x_train = scaler.transform(x_train)\n",
    "x_test = scaler.transform(x_test)\n",
    "y_train = one_hot_encoding(y_train, N_CLASS)\n",
    "y_test = one_hot_encoding(y_test, N_CLASS)"
   ]
  },
  {
   "cell_type": "code",
   "execution_count": 8,
   "metadata": {
    "tags": [
     "outputPrepend"
    ]
   },
   "outputs": [
    {
     "name": "stdout",
     "output_type": "stream",
     "text": [
      "Checkpoint 10, Accuracy: 0.8888888888888888, Loss: 0.3653055826822917\n",
      "Checkpoint 20, Accuracy: 0.9197530864197531, Loss: 0.34191972238046153\n",
      "Checkpoint 30, Accuracy: 0.9074074074074074, Loss: 0.3289048936631944\n",
      "Checkpoint 40, Accuracy: 0.9135802469135802, Loss: 0.3125428800229673\n",
      "Checkpoint 50, Accuracy: 0.9320987654320988, Loss: 0.3107423429135923\n",
      "Checkpoint 60, Accuracy: 0.9444444444444444, Loss: 0.27172908076533564\n",
      "Checkpoint 70, Accuracy: 0.9382716049382716, Loss: 0.2819702183758771\n",
      "Checkpoint 80, Accuracy: 0.9320987654320988, Loss: 0.2815767217565466\n",
      "Checkpoint 90, Accuracy: 0.9567901234567902, Loss: 0.22064858895760994\n",
      "Checkpoint 100, Accuracy: 0.9567901234567902, Loss: 0.2091750038994683\n",
      "Checkpoint 110, Accuracy: 0.9629629629629629, Loss: 0.20777606964111328\n",
      "Checkpoint 120, Accuracy: 0.9629629629629629, Loss: 0.1890657212999132\n",
      "Checkpoint 130, Accuracy: 0.9691358024691358, Loss: 0.14832724465264213\n",
      "Checkpoint 140, Accuracy: 0.9691358024691358, Loss: 0.13538715574476454\n",
      "Checkpoint 150, Accuracy: 0.9691358024691358, Loss: 0.12119072454947012\n",
      "Checkpoint 160, Accuracy: 0.9814814814814815, Loss: 0.12258720397949219\n",
      "Checkpoint 170, Accuracy: 0.9629629629629629, Loss: 0.12162224451700847\n",
      "Checkpoint 180, Accuracy: 0.9753086419753086, Loss: 0.12093458352265535\n",
      "Checkpoint 190, Accuracy: 0.9753086419753086, Loss: 0.11864361056575069\n",
      "Checkpoint 200, Accuracy: 0.9691358024691358, Loss: 0.1360946672934073\n"
     ]
    }
   ],
   "source": [
    "# learning phase\n",
    "breakpoint = 10\n",
    "checkpoints = list()\n",
    "history = list()\n",
    "for century in range(0, EPOCHS, breakpoint):\n",
    "    sub_history = model.fit(x_train, y_train, breakpoint, verbose = 0)\n",
    "    score = model.evaluate(x_test, y_test, False, verbose = 0)\n",
    "    print('Checkpoint {}, Accuracy: {}, Loss: {}'.format(century+breakpoint, score['accuracy'], score[model.loss_fn]))\n",
    "    score['checkpoint'] = century + breakpoint\n",
    "    checkpoints.append(score)\n",
    "    history.extend(sub_history)"
   ]
  },
  {
   "cell_type": "code",
   "execution_count": 9,
   "metadata": {},
   "outputs": [],
   "source": [
    "import matplotlib.pyplot as plt\n",
    "\n",
    "def draw_plot(x, y_list, x_label=None, y_label=None, legend=None, title=None):\n",
    "    fig, ax = plt.subplots(figsize=(12,5))\n",
    "    for xi, yi in zip(x, y_list):\n",
    "        ax.plot(xi, yi)\n",
    "    if x_label is not None and y_label is not None:\n",
    "        ax.set(xlabel=x_label, ylabel=y_label, title='{} VS {}'.format(x_label, y_label))\n",
    "    if legend is not None:\n",
    "        ax.legend(legend)\n",
    "    ax.grid()\n",
    "    plt.show()"
   ]
  },
  {
   "cell_type": "code",
   "execution_count": 10,
   "metadata": {},
   "outputs": [
    {
     "name": "stdout",
     "output_type": "stream",
     "text": [
      "[1. 0. 0.] <-> [9.4879758e-01 4.4544012e-04 5.0757028e-02]\n",
      "[1. 0. 0.] <-> [0.9777854  0.00420629 0.01800819]\n",
      "[1. 0. 0.] <-> [0.9878357  0.00190569 0.01025854]\n",
      "[1. 0. 0.] <-> [0.98054034 0.00114147 0.01831825]\n",
      "[1. 0. 0.] <-> [0.98399657 0.00128898 0.0147144 ]\n",
      "[1. 0. 0.] <-> [9.6065569e-01 6.2551186e-04 3.8718790e-02]\n",
      "[1. 0. 0.] <-> [9.7410882e-01 6.8056432e-04 2.5210636e-02]\n",
      "[1. 0. 0.] <-> [0.98761255 0.0034379  0.00894961]\n",
      "[1. 0. 0.] <-> [0.96164256 0.01699085 0.02136658]\n",
      "[1. 0. 0.] <-> [0.9816705  0.00105875 0.01727078]\n",
      "[1. 0. 0.] <-> [9.085142e-01 6.268676e-04 9.085894e-02]\n",
      "[0. 1. 0.] <-> [4.3867179e-03 9.9548364e-01 1.2968629e-04]\n",
      "[0. 0. 1.] <-> [7.9846531e-01 5.4275390e-04 2.0099188e-01]\n",
      "[1. 0. 0.] <-> [9.6536690e-01 4.8277687e-04 3.4150280e-02]\n",
      "[1. 0. 0.] <-> [9.8218071e-01 8.8884815e-04 1.6930519e-02]\n",
      "[1. 0. 0.] <-> [0.9838219  0.00109728 0.01508078]\n",
      "[0. 0. 1.] <-> [1.14049986e-01 1.18988959e-04 8.85830998e-01]\n",
      "[1. 0. 0.] <-> [6.0275710e-01 4.0387444e-04 3.9683905e-01]\n",
      "[1. 0. 0.] <-> [9.6059585e-01 9.1011496e-04 3.8493957e-02]\n",
      "[1. 0. 0.] <-> [0.98608506 0.00193836 0.01197647]\n",
      "[1. 0. 0.] <-> [9.2590451e-01 5.2796357e-04 7.3567517e-02]\n",
      "[0. 0. 1.] <-> [0.03855412 0.00111904 0.9603269 ]\n",
      "[1. 0. 0.] <-> [0.97788393 0.01149233 0.01062378]\n",
      "[1. 0. 0.] <-> [9.7987890e-01 6.8353512e-04 1.9437503e-02]\n",
      "[0. 1. 0.] <-> [4.4748140e-03 9.9539185e-01 1.3338665e-04]\n",
      "[0. 0. 1.] <-> [1.19383536e-01 1.12816866e-04 8.80503595e-01]\n",
      "[1. 0. 0.] <-> [9.1460890e-01 4.9155403e-04 8.4899612e-02]\n",
      "[1. 0. 0.] <-> [9.7400248e-01 8.4229116e-04 2.5155256e-02]\n",
      "[1. 0. 0.] <-> [0.98513633 0.00108157 0.01378214]\n",
      "[1. 0. 0.] <-> [9.5864922e-01 4.3153425e-04 4.0919237e-02]\n",
      "[1. 0. 0.] <-> [8.6573976e-01 5.0766696e-04 1.3375252e-01]\n",
      "[1. 0. 0.] <-> [0.9646773  0.00205567 0.03326701]\n",
      "[0. 0. 1.] <-> [0.03855402 0.00111904 0.96032697]\n",
      "[0. 0. 1.] <-> [1.3235167e-01 1.5915203e-04 8.6748916e-01]\n",
      "[1. 0. 0.] <-> [9.7308040e-01 6.3909683e-04 2.6280569e-02]\n",
      "[1. 0. 0.] <-> [9.7412562e-01 6.7119539e-04 2.5203198e-02]\n",
      "[1. 0. 0.] <-> [9.7029233e-01 4.7613523e-04 2.9231610e-02]\n",
      "[1. 0. 0.] <-> [0.9852844  0.00145606 0.01325947]\n",
      "[1. 0. 0.] <-> [9.772180e-01 7.763513e-04 2.200578e-02]\n",
      "[1. 0. 0.] <-> [0.97040445 0.00140604 0.02818953]\n",
      "[1. 0. 0.] <-> [0.9804828  0.00125548 0.0182618 ]\n",
      "[0. 1. 0.] <-> [5.0667920e-03 9.9477720e-01 1.5601877e-04]\n",
      "[0. 1. 0.] <-> [5.6650145e-03 9.9417132e-01 1.6369273e-04]\n",
      "[1. 0. 0.] <-> [0.97963357 0.00108059 0.01928581]\n",
      "[1. 0. 0.] <-> [9.3293583e-01 4.8337728e-04 6.6580892e-02]\n",
      "[1. 0. 0.] <-> [0.98683596 0.00176243 0.01140158]\n",
      "[1. 0. 0.] <-> [9.7923958e-01 7.0459029e-04 2.0055829e-02]\n",
      "[1. 0. 0.] <-> [0.9830125  0.00141937 0.01556822]\n",
      "[1. 0. 0.] <-> [0.98533165 0.00165785 0.01301053]\n",
      "[1. 0. 0.] <-> [9.6158677e-01 6.0104788e-04 3.7812207e-02]\n",
      "[1. 0. 0.] <-> [9.4773114e-01 6.8878412e-04 5.1579989e-02]\n",
      "[1. 0. 0.] <-> [0.9702527  0.00113326 0.02861406]\n",
      "[1. 0. 0.] <-> [7.6148808e-01 5.7451415e-04 2.3793745e-01]\n",
      "[0. 1. 0.] <-> [4.399260e-03 9.954705e-01 1.302145e-04]\n",
      "[1. 0. 0.] <-> [0.98617166 0.00174134 0.01208701]\n",
      "[0. 1. 0.] <-> [0.9431127  0.04786241 0.00902487]\n",
      "[1. 0. 0.] <-> [9.4743794e-01 5.5252045e-04 5.2009497e-02]\n",
      "[1. 0. 0.] <-> [0.9863978  0.00148559 0.01211655]\n",
      "[1. 0. 0.] <-> [0.9827712  0.00271041 0.01451842]\n",
      "[1. 0. 0.] <-> [9.7955942e-01 8.8961760e-04 1.9551013e-02]\n",
      "[0. 0. 1.] <-> [1.1951230e-01 1.1379973e-04 8.8037395e-01]\n",
      "[0. 0. 1.] <-> [0.03856735 0.00111857 0.96031415]\n",
      "[1. 0. 0.] <-> [9.1611606e-01 5.4032239e-04 8.3343573e-02]\n",
      "[1. 0. 0.] <-> [9.5175052e-01 5.4421963e-04 4.7705244e-02]\n",
      "[0. 1. 0.] <-> [4.3765721e-03 9.9549401e-01 1.2938424e-04]\n",
      "[0. 1. 0.] <-> [1.3034292e-02 9.8661429e-01 3.5143201e-04]\n",
      "[0. 1. 0.] <-> [4.385485e-03 9.954848e-01 1.297619e-04]\n",
      "[1. 0. 0.] <-> [9.8133588e-01 7.4053323e-04 1.7923605e-02]\n",
      "[0. 1. 0.] <-> [3.0447826e-02 9.6878183e-01 7.7045080e-04]\n",
      "[1. 0. 0.] <-> [0.98512775 0.00113032 0.01374197]\n",
      "[1. 0. 0.] <-> [0.9346269  0.05206847 0.0133047 ]\n",
      "[1. 0. 0.] <-> [9.8137629e-01 8.1051874e-04 1.7813252e-02]\n",
      "[1. 0. 0.] <-> [0.9857939  0.00176216 0.01244402]\n",
      "[0. 0. 1.] <-> [1.20334364e-01 1.16232783e-04 8.79549384e-01]\n",
      "[1. 0. 0.] <-> [0.9829805  0.00121263 0.01580689]\n",
      "[1. 0. 0.] <-> [0.9838987  0.00173446 0.01436687]\n",
      "[1. 0. 0.] <-> [9.7969341e-01 7.5398793e-04 1.9552590e-02]\n",
      "[1. 0. 0.] <-> [0.98728883 0.00303423 0.00967697]\n",
      "[1. 0. 0.] <-> [0.97047305 0.00901114 0.02051583]\n",
      "[1. 0. 0.] <-> [0.9480292  0.0416892  0.01028157]\n",
      "[0. 1. 0.] <-> [0.1809795  0.816105   0.00291546]\n",
      "[0. 0. 1.] <-> [1.17705345e-01 1.10923211e-04 8.82183790e-01]\n",
      "[0. 1. 0.] <-> [0.19295162 0.8030776  0.00397076]\n",
      "[1. 0. 0.] <-> [9.8180687e-01 8.8825106e-04 1.7304918e-02]\n",
      "[0. 0. 1.] <-> [1.1866182e-01 1.1123010e-04 8.8122696e-01]\n",
      "[1. 0. 0.] <-> [9.7768116e-01 6.0587953e-04 2.1712851e-02]\n",
      "[0. 1. 0.] <-> [0.3205685  0.67541134 0.00402021]\n",
      "[1. 0. 0.] <-> [9.6372128e-01 4.9047585e-04 3.5788205e-02]\n",
      "[0. 1. 0.] <-> [0.4382703  0.5561892  0.00554055]\n",
      "[1. 0. 0.] <-> [0.3710031  0.00185086 0.62714607]\n",
      "[1. 0. 0.] <-> [0.98499274 0.00461291 0.01039437]\n",
      "[1. 0. 0.] <-> [9.2825973e-01 6.5156282e-04 7.1088769e-02]\n",
      "[0. 1. 0.] <-> [4.3885498e-03 9.9548149e-01 1.2989172e-04]\n",
      "[0. 0. 1.] <-> [1.1848866e-01 1.1039724e-04 8.8140088e-01]\n",
      "[1. 0. 0.] <-> [9.0729421e-01 6.6838803e-04 9.2037447e-02]\n",
      "[1. 0. 0.] <-> [0.98597544 0.00665371 0.00737089]\n",
      "[0. 1. 0.] <-> [0.51669675 0.47490874 0.00839457]\n",
      "[1. 0. 0.] <-> [0.9814643  0.0011446  0.01739107]\n",
      "[0. 0. 1.] <-> [2.1639477e-01 6.3887669e-04 7.8296638e-01]\n",
      "[1. 0. 0.] <-> [0.98592967 0.00143771 0.0126327 ]\n",
      "[0. 0. 1.] <-> [8.4341717e-01 5.1534513e-04 1.5606746e-01]\n",
      "[0. 1. 0.] <-> [4.3810112e-03 9.9548942e-01 1.2957786e-04]\n",
      "[1. 0. 0.] <-> [0.9861369  0.00202472 0.01183846]\n",
      "[1. 0. 0.] <-> [0.97219354 0.00408928 0.02371716]\n",
      "[1. 0. 0.] <-> [7.5879943e-01 4.5272164e-04 2.4074785e-01]\n",
      "[1. 0. 0.] <-> [9.5173842e-01 6.1301194e-04 4.7648568e-02]\n",
      "[1. 0. 0.] <-> [8.9387012e-01 4.8753593e-04 1.0564242e-01]\n",
      "[0. 0. 1.] <-> [6.400493e-02 4.061016e-04 9.355890e-01]\n",
      "{'accuracy': 0.9691358024691358, 'mean_square_error': 0.07130777918893934, 'categorical_crossentropy': 0.1360946672934073, 'essential_metrics': {0: {'tp_hit': 75, 'fp_hit': 4, 'tn_hit': 28, 'fn_hit': 1}, 1: {'tp_hit': 15, 'fp_hit': 0, 'tn_hit': 91, 'fn_hit': 2}, 2: {'tp_hit': 13, 'fp_hit': 1, 'tn_hit': 92, 'fn_hit': 2}}}\n"
     ]
    }
   ],
   "source": [
    "# recall phase\n",
    "score = model.evaluate(x_test, y_test, False)\n",
    "print(score)"
   ]
  },
  {
   "cell_type": "code",
   "execution_count": 11,
   "metadata": {},
   "outputs": [],
   "source": [
    "train_acc = [h['accuracy'] for h in history]\n",
    "train_mse = [h['mean_square_error'] for h in history]\n",
    "train_cce = [h['categorical_crossentropy'] for h in history]"
   ]
  },
  {
   "cell_type": "code",
   "execution_count": 12,
   "metadata": {},
   "outputs": [
    {
     "data": {
      "image/png": "[encoded data removed]",
      "text/plain": [
       "<Figure size 864x360 with 1 Axes>"
      ]
     },
     "metadata": {
      "needs_background": "light"
     },
     "output_type": "display_data"
    },
    {
     "data": {
      "image/png": "[encoded data removed]",
      "text/plain": [
       "<Figure size 864x360 with 1 Axes>"
      ]
     },
     "metadata": {
      "needs_background": "light"
     },
     "output_type": "display_data"
    }
   ],
   "source": [
    "draw_plot(x = [[i for i in range(len(history))], [(i+1)*breakpoint for i in range(len(checkpoints))]], y_list = [train_cce, [ ckp[model.loss_fn] for ckp in checkpoints ]], x_label = 'Epochs', \\\n",
    "    y_label = model.loss_fn, legend=['train', 'test'])\n",
    "acc = [ ckp['accuracy'] for ckp in checkpoints ]\n",
    "draw_plot(x = [[i for i in range(len(history))], [(i+1)*breakpoint for i in range(len(checkpoints))]], y_list = [train_acc, acc], x_label = 'Checkpoints', \\\n",
    "    y_label = 'accuracy', legend=['train', 'test'])"
   ]
  },
  {
   "cell_type": "code",
   "execution_count": 13,
   "metadata": {},
   "outputs": [
    {
     "name": "stdout",
     "output_type": "stream",
     "text": [
      "{'accuracy': 0.8888888888888888, 'mean_square_error': 0.2030404155920324, 'categorical_crossentropy': 0.3653055826822917, 'essential_metrics': {0: {'tp_hit': 76, 'fp_hit': 18, 'tn_hit': 14, 'fn_hit': 0}, 1: {'tp_hit': 12, 'fp_hit': 0, 'tn_hit': 91, 'fn_hit': 5}, 2: {'tp_hit': 2, 'fp_hit': 0, 'tn_hit': 93, 'fn_hit': 13}}, 'checkpoint': 10} \n",
      "\n",
      "\n",
      "{'accuracy': 0.9197530864197531, 'mean_square_error': 0.17604699990677822, 'categorical_crossentropy': 0.34191972238046153, 'essential_metrics': {0: {'tp_hit': 74, 'fp_hit': 11, 'tn_hit': 21, 'fn_hit': 2}, 1: {'tp_hit': 13, 'fp_hit': 0, 'tn_hit': 91, 'fn_hit': 4}, 2: {'tp_hit': 8, 'fp_hit': 2, 'tn_hit': 91, 'fn_hit': 7}}, 'checkpoint': 20} \n",
      "\n",
      "\n",
      "{'accuracy': 0.9074074074074074, 'mean_square_error': 0.17416089284103706, 'categorical_crossentropy': 0.3289048936631944, 'essential_metrics': {0: {'tp_hit': 74, 'fp_hit': 13, 'tn_hit': 19, 'fn_hit': 2}, 1: {'tp_hit': 11, 'fp_hit': 0, 'tn_hit': 91, 'fn_hit': 6}, 2: {'tp_hit': 8, 'fp_hit': 2, 'tn_hit': 91, 'fn_hit': 7}}, 'checkpoint': 30} \n",
      "\n",
      "\n",
      "{'accuracy': 0.9135802469135802, 'mean_square_error': 0.17335904977671768, 'categorical_crossentropy': 0.3125428800229673, 'essential_metrics': {0: {'tp_hit': 74, 'fp_hit': 12, 'tn_hit': 20, 'fn_hit': 2}, 1: {'tp_hit': 11, 'fp_hit': 0, 'tn_hit': 91, 'fn_hit': 6}, 2: {'tp_hit': 9, 'fp_hit': 2, 'tn_hit': 91, 'fn_hit': 6}}, 'checkpoint': 40} \n",
      "\n",
      "\n",
      "{'accuracy': 0.9320987654320988, 'mean_square_error': 0.1599577869176896, 'categorical_crossentropy': 0.3107423429135923, 'essential_metrics': {0: {'tp_hit': 74, 'fp_hit': 9, 'tn_hit': 23, 'fn_hit': 2}, 1: {'tp_hit': 13, 'fp_hit': 0, 'tn_hit': 91, 'fn_hit': 4}, 2: {'tp_hit': 10, 'fp_hit': 2, 'tn_hit': 91, 'fn_hit': 5}}, 'checkpoint': 50} \n",
      "\n",
      "\n",
      "{'accuracy': 0.9444444444444444, 'mean_square_error': 0.1409425411874933, 'categorical_crossentropy': 0.27172908076533564, 'essential_metrics': {0: {'tp_hit': 73, 'fp_hit': 6, 'tn_hit': 26, 'fn_hit': 3}, 1: {'tp_hit': 16, 'fp_hit': 0, 'tn_hit': 91, 'fn_hit': 1}, 2: {'tp_hit': 10, 'fp_hit': 3, 'tn_hit': 90, 'fn_hit': 5}}, 'checkpoint': 60} \n",
      "\n",
      "\n",
      "{'accuracy': 0.9382716049382716, 'mean_square_error': 0.14564161593315608, 'categorical_crossentropy': 0.2819702183758771, 'essential_metrics': {0: {'tp_hit': 70, 'fp_hit': 4, 'tn_hit': 28, 'fn_hit': 6}, 1: {'tp_hit': 16, 'fp_hit': 0, 'tn_hit': 91, 'fn_hit': 1}, 2: {'tp_hit': 12, 'fp_hit': 6, 'tn_hit': 87, 'fn_hit': 3}}, 'checkpoint': 70} \n",
      "\n",
      "\n",
      "{'accuracy': 0.9320987654320988, 'mean_square_error': 0.15219535747186844, 'categorical_crossentropy': 0.2815767217565466, 'essential_metrics': {0: {'tp_hit': 72, 'fp_hit': 7, 'tn_hit': 25, 'fn_hit': 4}, 1: {'tp_hit': 13, 'fp_hit': 0, 'tn_hit': 91, 'fn_hit': 4}, 2: {'tp_hit': 12, 'fp_hit': 4, 'tn_hit': 89, 'fn_hit': 3}}, 'checkpoint': 80} \n",
      "\n",
      "\n",
      "{'accuracy': 0.9567901234567902, 'mean_square_error': 0.10615256120648765, 'categorical_crossentropy': 0.22064858895760994, 'essential_metrics': {0: {'tp_hit': 73, 'fp_hit': 4, 'tn_hit': 28, 'fn_hit': 3}, 1: {'tp_hit': 16, 'fp_hit': 0, 'tn_hit': 91, 'fn_hit': 1}, 2: {'tp_hit': 12, 'fp_hit': 3, 'tn_hit': 90, 'fn_hit': 3}}, 'checkpoint': 90} \n",
      "\n",
      "\n",
      "{'accuracy': 0.9567901234567902, 'mean_square_error': 0.1069492091554813, 'categorical_crossentropy': 0.2091750038994683, 'essential_metrics': {0: {'tp_hit': 74, 'fp_hit': 5, 'tn_hit': 27, 'fn_hit': 2}, 1: {'tp_hit': 15, 'fp_hit': 0, 'tn_hit': 91, 'fn_hit': 2}, 2: {'tp_hit': 12, 'fp_hit': 2, 'tn_hit': 91, 'fn_hit': 3}}, 'checkpoint': 100} \n",
      "\n",
      "\n",
      "{'accuracy': 0.9629629629629629, 'mean_square_error': 0.1022153387904254, 'categorical_crossentropy': 0.20777606964111328, 'essential_metrics': {0: {'tp_hit': 74, 'fp_hit': 4, 'tn_hit': 28, 'fn_hit': 2}, 1: {'tp_hit': 16, 'fp_hit': 0, 'tn_hit': 91, 'fn_hit': 1}, 2: {'tp_hit': 12, 'fp_hit': 2, 'tn_hit': 91, 'fn_hit': 3}}, 'checkpoint': 110} \n",
      "\n",
      "\n",
      "{'accuracy': 0.9629629629629629, 'mean_square_error': 0.09288150677733402, 'categorical_crossentropy': 0.1890657212999132, 'essential_metrics': {0: {'tp_hit': 74, 'fp_hit': 4, 'tn_hit': 28, 'fn_hit': 2}, 1: {'tp_hit': 16, 'fp_hit': 0, 'tn_hit': 91, 'fn_hit': 1}, 2: {'tp_hit': 12, 'fp_hit': 2, 'tn_hit': 91, 'fn_hit': 3}}, 'checkpoint': 120} \n",
      "\n",
      "\n",
      "{'accuracy': 0.9691358024691358, 'mean_square_error': 0.0738667912670181, 'categorical_crossentropy': 0.14832724465264213, 'essential_metrics': {0: {'tp_hit': 74, 'fp_hit': 3, 'tn_hit': 29, 'fn_hit': 2}, 1: {'tp_hit': 16, 'fp_hit': 0, 'tn_hit': 91, 'fn_hit': 1}, 2: {'tp_hit': 13, 'fp_hit': 2, 'tn_hit': 91, 'fn_hit': 2}}, 'checkpoint': 130} \n",
      "\n",
      "\n",
      "{'accuracy': 0.9691358024691358, 'mean_square_error': 0.06779736607642965, 'categorical_crossentropy': 0.13538715574476454, 'essential_metrics': {0: {'tp_hit': 74, 'fp_hit': 3, 'tn_hit': 29, 'fn_hit': 2}, 1: {'tp_hit': 16, 'fp_hit': 0, 'tn_hit': 91, 'fn_hit': 1}, 2: {'tp_hit': 13, 'fp_hit': 2, 'tn_hit': 91, 'fn_hit': 2}}, 'checkpoint': 140} \n",
      "\n",
      "\n",
      "{'accuracy': 0.9691358024691358, 'mean_square_error': 0.06058564864950112, 'categorical_crossentropy': 0.12119072454947012, 'essential_metrics': {0: {'tp_hit': 75, 'fp_hit': 4, 'tn_hit': 28, 'fn_hit': 1}, 1: {'tp_hit': 15, 'fp_hit': 0, 'tn_hit': 91, 'fn_hit': 2}, 2: {'tp_hit': 13, 'fp_hit': 1, 'tn_hit': 92, 'fn_hit': 2}}, 'checkpoint': 150} \n",
      "\n",
      "\n",
      "{'accuracy': 0.9814814814814815, 'mean_square_error': 0.06069074323916199, 'categorical_crossentropy': 0.12258720397949219, 'essential_metrics': {0: {'tp_hit': 76, 'fp_hit': 3, 'tn_hit': 29, 'fn_hit': 0}, 1: {'tp_hit': 16, 'fp_hit': 0, 'tn_hit': 91, 'fn_hit': 1}, 2: {'tp_hit': 13, 'fp_hit': 0, 'tn_hit': 93, 'fn_hit': 2}}, 'checkpoint': 160} \n",
      "\n",
      "\n",
      "{'accuracy': 0.9629629629629629, 'mean_square_error': 0.06243445583213209, 'categorical_crossentropy': 0.12162224451700847, 'essential_metrics': {0: {'tp_hit': 74, 'fp_hit': 4, 'tn_hit': 28, 'fn_hit': 2}, 1: {'tp_hit': 15, 'fp_hit': 0, 'tn_hit': 91, 'fn_hit': 2}, 2: {'tp_hit': 13, 'fp_hit': 2, 'tn_hit': 91, 'fn_hit': 2}}, 'checkpoint': 170} \n",
      "\n",
      "\n",
      "{'accuracy': 0.9753086419753086, 'mean_square_error': 0.06398560587146378, 'categorical_crossentropy': 0.12093458352265535, 'essential_metrics': {0: {'tp_hit': 75, 'fp_hit': 3, 'tn_hit': 29, 'fn_hit': 1}, 1: {'tp_hit': 16, 'fp_hit': 0, 'tn_hit': 91, 'fn_hit': 1}, 2: {'tp_hit': 13, 'fp_hit': 1, 'tn_hit': 92, 'fn_hit': 2}}, 'checkpoint': 180} \n",
      "\n",
      "\n",
      "{'accuracy': 0.9753086419753086, 'mean_square_error': 0.06201778184439072, 'categorical_crossentropy': 0.11864361056575069, 'essential_metrics': {0: {'tp_hit': 75, 'fp_hit': 3, 'tn_hit': 29, 'fn_hit': 1}, 1: {'tp_hit': 16, 'fp_hit': 0, 'tn_hit': 91, 'fn_hit': 1}, 2: {'tp_hit': 13, 'fp_hit': 1, 'tn_hit': 92, 'fn_hit': 2}}, 'checkpoint': 190} \n",
      "\n",
      "\n",
      "{'accuracy': 0.9691358024691358, 'mean_square_error': 0.07130777918893934, 'categorical_crossentropy': 0.1360946672934073, 'essential_metrics': {0: {'tp_hit': 75, 'fp_hit': 4, 'tn_hit': 28, 'fn_hit': 1}, 1: {'tp_hit': 15, 'fp_hit': 0, 'tn_hit': 91, 'fn_hit': 2}, 2: {'tp_hit': 13, 'fp_hit': 1, 'tn_hit': 92, 'fn_hit': 2}}, 'checkpoint': 200} \n",
      "\n",
      "\n"
     ]
    }
   ],
   "source": [
    "for checkpoint in checkpoints:\n",
    "    print(checkpoint, '\\n\\n')"
   ]
  },
  {
   "cell_type": "code",
   "execution_count": 14,
   "metadata": {},
   "outputs": [
    {
     "name": "stdout",
     "output_type": "stream",
     "text": [
      "Layer 1\n",
      "Neuron 0: weights:\n",
      "[-2.015384   2.8770201  2.3661668  0.498862  -0.8401534]\n",
      " bias: -3.0\n",
      "\n",
      "Neuron 1: weights:\n",
      "[-1.2040805  3.         1.0362831 -3.        -1.448557 ]\n",
      " bias: 3.0\n",
      "\n",
      "Neuron 2: weights:\n",
      "[ 1.0109528  -1.0889343  -1.3117284  -0.93126047  3.        ]\n",
      " bias: 1.4998053312301636\n",
      "\n",
      "Neuron 3: weights:\n",
      "[-1.419232   2.8844862  0.7449286 -1.3961675  3.       ]\n",
      " bias: -1.8466583490371704\n",
      "\n",
      "$\n",
      "Layer 2\n",
      "Neuron 0: weights:\n",
      "[-3.          3.          0.99070853 -0.44171542]\n",
      " bias: 3.0\n",
      "\n",
      "Neuron 1: weights:\n",
      "[ 3.         1.9760569 -3.         3.       ]\n",
      " bias: 0.00940614938735962\n",
      "\n",
      "Neuron 2: weights:\n",
      "[-1.7272558  -3.          3.          0.76420796]\n",
      " bias: 3.0\n",
      "\n",
      "$\n",
      "\n"
     ]
    }
   ],
   "source": [
    "print(model)"
   ]
  },
  {
   "cell_type": "code",
   "execution_count": null,
   "metadata": {},
   "outputs": [],
   "source": []
  }
 ],
 "metadata": {
  "kernelspec": {
   "display_name": "Python 3",
   "language": "python",
   "name": "python3"
  },
  "language_info": {
   "codemirror_mode": {
    "name": "ipython",
    "version": 3
   },
   "file_extension": ".py",
   "mimetype": "text/x-python",
   "name": "python",
   "nbconvert_exporter": "python",
   "pygments_lexer": "ipython3",
   "version": "3.6.12"
  }
 },
 "nbformat": 4,
 "nbformat_minor": 2
}
