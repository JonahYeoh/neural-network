{
 "cells": [
  {
   "cell_type": "code",
   "execution_count": 1,
   "metadata": {},
   "outputs": [],
   "source": [
    "# two"
   ]
  },
  {
   "cell_type": "code",
   "execution_count": 2,
   "metadata": {},
   "outputs": [],
   "source": [
    "# dependency\n",
    "import numpy as np\n",
    "import pandas as pd\n",
    "import copy\n",
    "import math\n",
    "import sys\n",
    "import os\n",
    "from activations import relu, leaky_relu, sigmoid, tanh, softmax, d_sigmoid, d_relu\n",
    "from initializers import glorot_uniform, random_normal, random_uniform\n",
    "from regularizers import l1_regularizer, l2_regularizer\n",
    "from utility import trim_tail, multiply, subtract, get_nparams, one_hot_encoding, get_data\n",
    "from metrics import MSE, CCE, ACC, PRECISION, RECALL, essential_metrics, wondering_penalty, close_gap_penalty\n",
    "from pso import PSO\n",
    "from ga import GA\n",
    "from nn import Network\n",
    "from layer import DenseLayer\n",
    "from scalers import MinMaxScaler, StandardScaler"
   ]
  },
  {
   "cell_type": "code",
   "execution_count": 3,
   "metadata": {},
   "outputs": [],
   "source": [
    "# reference\n",
    "metrics_fn_dict = dict()\n",
    "metrics_fn_dict['accuracy'] = ACC\n",
    "metrics_fn_dict['categorical_crossentropy'] = CCE\n",
    "metrics_fn_dict['mean_square_error'] = MSE\n",
    "metrics_fn_dict['precision'] = PRECISION\n",
    "metrics_fn_dict['recall'] = RECALL\n",
    "metrics_fn_dict['essential_metrics'] = essential_metrics"
   ]
  },
  {
   "cell_type": "code",
   "execution_count": 4,
   "metadata": {},
   "outputs": [],
   "source": [
    "# model\n",
    "model = Network(5, lr = None)\n",
    "model.add_layer(DenseLayer(1, 4, True, afn=sigmoid, dafn=None, rfn=None))\n",
    "model.add_layer(DenseLayer(2, 3, True, afn=softmax, dafn=None, rfn=None))"
   ]
  },
  {
   "cell_type": "code",
   "execution_count": 5,
   "metadata": {},
   "outputs": [],
   "source": [
    "# optimizer\n",
    "ga = GA(\n",
    "    dict(\n",
    "        m = 200,\n",
    "        x_rate = 0.5,\n",
    "        m_rate = 0.5,\n",
    "        weight_constraint = [-3.,3.],\n",
    "        radioactive_rating = 0.1,\n",
    "        grow_factor = 0.1,\n",
    "        scale_hyperparameter = False,\n",
    "        regularizer = None))"
   ]
  },
  {
   "cell_type": "code",
   "execution_count": 6,
   "metadata": {},
   "outputs": [
    {
     "name": "stdout",
     "output_type": "stream",
     "text": [
      "building layer 1 with 5\n",
      "24\n",
      "building layer 2 with 4\n",
      "15\n"
     ]
    }
   ],
   "source": [
    "model.compile(loss_fn = 'categorical_crossentropy', optimizer = ga, \\\n",
    "    metrics = ['accuracy', 'mean_square_error', 'categorical_crossentropy', 'precision', 'recall', 'f1'])"
   ]
  },
  {
   "cell_type": "code",
   "execution_count": 7,
   "metadata": {},
   "outputs": [
    {
     "name": "stdout",
     "output_type": "stream",
     "text": [
      "<class 'pandas.core.frame.DataFrame'>\n",
      "RangeIndex: 107 entries, 0 to 106\n",
      "Data columns (total 6 columns):\n",
      " #   Column  Non-Null Count  Dtype  \n",
      "---  ------  --------------  -----  \n",
      " 0   f1      107 non-null    float32\n",
      " 1   f2      107 non-null    float32\n",
      " 2   f3      107 non-null    float32\n",
      " 3   f4      107 non-null    float32\n",
      " 4   f5      107 non-null    float32\n",
      " 5   label   107 non-null    float32\n",
      "dtypes: float32(6)\n",
      "memory usage: 2.6 KB\n",
      "None\n",
      "<class 'pandas.core.frame.DataFrame'>\n",
      "RangeIndex: 108 entries, 0 to 107\n",
      "Data columns (total 6 columns):\n",
      " #   Column  Non-Null Count  Dtype  \n",
      "---  ------  --------------  -----  \n",
      " 0   f1      108 non-null    float32\n",
      " 1   f2      108 non-null    float32\n",
      " 2   f3      108 non-null    float32\n",
      " 3   f4      108 non-null    float32\n",
      " 4   f5      108 non-null    float32\n",
      " 5   label   108 non-null    float32\n",
      "dtypes: float32(6)\n",
      "memory usage: 2.7 KB\n",
      "None\n"
     ]
    }
   ],
   "source": [
    "# data loading\n",
    "DATA = os.path.join('c:\\\\Users\\\\AI-lab\\\\github_repo\\\\neural-network\\\\', 'dataset')\n",
    "GROUP = 4\n",
    "COLUMNS = ['f1', 'f2', 'f3', 'f4', 'f5', 'label']\n",
    "N_CLASS = 3\n",
    "EPOCHS = 500\n",
    "train_dir, test_dir = \"..//dataset//training_data{}.txt\".format(GROUP), \"..//dataset//testing_data{}.txt\".format(GROUP)\n",
    "train, test = get_data(DATA, train_dir, COLUMNS), get_data(DATA, test_dir, COLUMNS)\n",
    "# shuffle\n",
    "train, test = train.sample(frac=1), test.sample(frac=1)\n",
    "x_train, y_train = train.drop('label', axis=1), train['label']\n",
    "x_test, y_test = test.drop('label', axis=1), test['label']"
   ]
  },
  {
   "cell_type": "code",
   "execution_count": 8,
   "metadata": {},
   "outputs": [],
   "source": [
    "# data scaling and encoding\n",
    "scaler = StandardScaler(['f1', 'f2', 'f3', 'f4', 'f5'])\n",
    "scaler.fit(x_train)\n",
    "x_train = scaler.transform(x_train)\n",
    "x_test = scaler.transform(x_test)\n",
    "y_train = one_hot_encoding(y_train, N_CLASS)\n",
    "y_test = one_hot_encoding(y_test, N_CLASS)"
   ]
  },
  {
   "cell_type": "code",
   "execution_count": 9,
   "metadata": {
    "scrolled": true,
    "tags": [
     "outputPrepend"
    ]
   },
   "outputs": [
    {
     "name": "stderr",
     "output_type": "stream",
     "text": [
      "C:\\Users\\AI-lab\\github_repo\\neural-network\\python\\ga.py:201: RuntimeWarning: overflow encountered in add\n",
      "  self.population.sort(key=lambda p: p.fitness + np.random.uniform(-shift, shift, 1), reverse = self.aim)\n"
     ]
    },
    {
     "name": "stdout",
     "output_type": "stream",
     "text": [
      "Checkpoint 100, Accuracy: 0.9691358024691358, Loss: 0.22953162369904695\n",
      "Checkpoint 200, Accuracy: 0.9629629629629629, Loss: 0.21104743745591906\n",
      "Checkpoint 300, Accuracy: 0.9629629629629629, Loss: 0.19239157217520256\n",
      "Checkpoint 400, Accuracy: 0.9691358024691358, Loss: 0.17668519196686922\n",
      "Checkpoint 500, Accuracy: 0.9691358024691358, Loss: 0.16027469988222476\n"
     ]
    }
   ],
   "source": [
    "# learning phase\n",
    "breakpoint = 100\n",
    "checkpoints = list()\n",
    "history = list()\n",
    "for century in range(0, EPOCHS, breakpoint):\n",
    "    sub_history = model.fit(x_train, y_train, breakpoint, verbose = 0)\n",
    "    score = model.evaluate(x_test, y_test, False, verbose = 0)\n",
    "    print('Checkpoint {}, Accuracy: {}, Loss: {}'.format(century+breakpoint, score['accuracy'], score[model.loss_fn]))\n",
    "    score['checkpoint'] = century + breakpoint\n",
    "    checkpoints.append(score)\n",
    "    history.extend(sub_history)\n",
    "    "
   ]
  },
  {
   "cell_type": "code",
   "execution_count": 10,
   "metadata": {},
   "outputs": [],
   "source": [
    "import matplotlib.pyplot as plt\n",
    "\n",
    "def draw_plot(x, y_list, x_label=None, y_label=None, legend=None, title=None):\n",
    "    fig, ax = plt.subplots(figsize=(12,5))\n",
    "    for xi, yi in zip(x, y_list):\n",
    "        ax.plot(xi, yi)\n",
    "    if x_label is not None and y_label is not None:\n",
    "        ax.set(xlabel=x_label, ylabel=y_label, title='{} VS {}'.format(x_label, y_label))\n",
    "    if legend is not None:\n",
    "        ax.legend(legend)\n",
    "    ax.grid()\n",
    "    plt.show()"
   ]
  },
  {
   "cell_type": "code",
   "execution_count": 11,
   "metadata": {},
   "outputs": [
    {
     "name": "stdout",
     "output_type": "stream",
     "text": [
      "[1. 0. 0.] <-> [0.9704846  0.00898661 0.02052879]\n",
      "[0. 0. 1.] <-> [0.8824184  0.00780559 0.10977606]\n",
      "[1. 0. 0.] <-> [0.9754215  0.00961917 0.01495931]\n",
      "[1. 0. 0.] <-> [0.58398265 0.38043278 0.03558454]\n",
      "[0. 1. 0.] <-> [0.05254986 0.9368667  0.01058348]\n",
      "[1. 0. 0.] <-> [0.976713   0.0057452  0.01754187]\n",
      "[1. 0. 0.] <-> [0.9681836  0.01377979 0.01803657]\n",
      "[0. 0. 1.] <-> [0.03050663 0.00136413 0.9681293 ]\n",
      "[1. 0. 0.] <-> [0.9468345  0.03305782 0.02010772]\n",
      "[1. 0. 0.] <-> [0.9633425  0.01653566 0.02012191]\n",
      "[0. 0. 1.] <-> [0.0296084  0.00133985 0.9690517 ]\n",
      "[1. 0. 0.] <-> [0.23950805 0.7342625  0.02622943]\n",
      "[0. 1. 0.] <-> [0.05257916 0.93684816 0.01057267]\n",
      "[1. 0. 0.] <-> [0.9699187  0.00598597 0.02409527]\n",
      "[1. 0. 0.] <-> [0.97682375 0.0071839  0.01599232]\n",
      "[0. 1. 0.] <-> [0.13567601 0.8454952  0.01882878]\n",
      "[0. 0. 1.] <-> [0.21799667 0.00487466 0.77712864]\n",
      "[1. 0. 0.] <-> [0.77313966 0.01076701 0.2160933 ]\n",
      "[0. 1. 0.] <-> [0.05936632 0.9291873  0.01144636]\n",
      "[0. 0. 1.] <-> [0.32938993 0.00598505 0.66462505]\n",
      "[1. 0. 0.] <-> [0.9770607  0.00827228 0.01466707]\n",
      "[1. 0. 0.] <-> [0.9397977  0.00651622 0.05368606]\n",
      "[0. 0. 1.] <-> [0.03305053 0.00143878 0.9655107 ]\n",
      "[1. 0. 0.] <-> [0.97657585 0.00842828 0.01499591]\n",
      "[1. 0. 0.] <-> [0.970706   0.01367532 0.01561871]\n",
      "[1. 0. 0.] <-> [0.9757145  0.00666445 0.01762098]\n",
      "[0. 0. 1.] <-> [0.06599933 0.00227673 0.93172395]\n",
      "[0. 1. 0.] <-> [0.0976433  0.884368   0.01798873]\n",
      "[1. 0. 0.] <-> [0.95254797 0.02533715 0.02211492]\n",
      "[1. 0. 0.] <-> [0.97748315 0.00791837 0.01459846]\n",
      "[1. 0. 0.] <-> [0.818149   0.14971918 0.03213187]\n",
      "[1. 0. 0.] <-> [0.912259   0.0621473  0.02559369]\n",
      "[1. 0. 0.] <-> [0.872637   0.09870631 0.0286567 ]\n",
      "[1. 0. 0.] <-> [0.977251   0.00627734 0.01647167]\n",
      "[1. 0. 0.] <-> [0.69404864 0.26986352 0.0360878 ]\n",
      "[1. 0. 0.] <-> [0.9712801  0.01234936 0.01637055]\n",
      "[0. 1. 0.] <-> [0.24771668 0.72673225 0.02555108]\n",
      "[0. 1. 0.] <-> [0.11387862 0.8679787  0.01814264]\n",
      "[1. 0. 0.] <-> [0.94636524 0.03299266 0.02064206]\n",
      "[0. 0. 1.] <-> [0.03080799 0.00137668 0.96781534]\n",
      "[1. 0. 0.] <-> [0.934949   0.00920377 0.05584722]\n",
      "[1. 0. 0.] <-> [0.96953267 0.01474631 0.01572102]\n",
      "[0. 1. 0.] <-> [0.09719035 0.88664335 0.01616629]\n",
      "[0. 1. 0.] <-> [0.05255934 0.9368523  0.01058836]\n",
      "[1. 0. 0.] <-> [0.86955255 0.00768385 0.12276371]\n",
      "[1. 0. 0.] <-> [0.97501737 0.00953355 0.01544905]\n",
      "[1. 0. 0.] <-> [0.8978901  0.07765962 0.02445032]\n",
      "[1. 0. 0.] <-> [0.96010333 0.02250767 0.01738903]\n",
      "[1. 0. 0.] <-> [0.9700768  0.0131924  0.01673078]\n",
      "[1. 0. 0.] <-> [0.9204363  0.0592035  0.02036019]\n",
      "[1. 0. 0.] <-> [0.97079855 0.00893722 0.02026424]\n",
      "[1. 0. 0.] <-> [0.96967846 0.00756951 0.022752  ]\n",
      "[0. 0. 1.] <-> [0.7345019  0.00772355 0.25777456]\n",
      "[1. 0. 0.] <-> [0.966345   0.00713187 0.02652311]\n",
      "[0. 0. 1.] <-> [0.03368086 0.00145643 0.9648627 ]\n",
      "[1. 0. 0.] <-> [0.9256296  0.0090641  0.06530638]\n",
      "[1. 0. 0.] <-> [0.96129453 0.00805696 0.03064851]\n",
      "[1. 0. 0.] <-> [0.96015596 0.00591535 0.03392872]\n",
      "[1. 0. 0.] <-> [0.8925577  0.01046775 0.09697454]\n",
      "[1. 0. 0.] <-> [0.96431476 0.01881368 0.01687147]\n",
      "[1. 0. 0.] <-> [0.9755795  0.00704747 0.01737308]\n",
      "[1. 0. 0.] <-> [0.95955044 0.00617124 0.03427829]\n",
      "[1. 0. 0.] <-> [0.9637503  0.00857252 0.02767718]\n",
      "[1. 0. 0.] <-> [0.84796923 0.12256765 0.02946308]\n",
      "[0. 0. 1.] <-> [0.02992559 0.00134824 0.9687262 ]\n",
      "[1. 0. 0.] <-> [0.97095865 0.01300394 0.01603742]\n",
      "[1. 0. 0.] <-> [0.9495653  0.02271662 0.02771809]\n",
      "[1. 0. 0.] <-> [0.94925714 0.02920699 0.02153583]\n",
      "[1. 0. 0.] <-> [0.96747077 0.01668753 0.01584165]\n",
      "[0. 1. 0.] <-> [0.09673948 0.8874643  0.01579616]\n",
      "[0. 0. 1.] <-> [0.02962858 0.00133893 0.96903247]\n",
      "[1. 0. 0.] <-> [0.9707516  0.01237647 0.01687204]\n",
      "[0. 0. 1.] <-> [0.02929022 0.00135732 0.96935254]\n",
      "[1. 0. 0.] <-> [0.9615816 0.0084239 0.0299945]\n",
      "[1. 0. 0.] <-> [0.7431938  0.22260852 0.03419777]\n",
      "[1. 0. 0.] <-> [0.97334427 0.01016704 0.01648864]\n",
      "[0. 1. 0.] <-> [0.05129535 0.93763167 0.01107298]\n",
      "[1. 0. 0.] <-> [0.9080072  0.00690765 0.08508522]\n",
      "[1. 0. 0.] <-> [0.2671802  0.7049225  0.02789733]\n",
      "[1. 0. 0.] <-> [0.9668105  0.00611034 0.02707908]\n",
      "[1. 0. 0.] <-> [0.9600086  0.01081127 0.02918012]\n",
      "[1. 0. 0.] <-> [0.9118936  0.00691748 0.08118881]\n",
      "[1. 0. 0.] <-> [0.97486615 0.00737214 0.01776184]\n",
      "[0. 1. 0.] <-> [0.05301778 0.936247   0.01073527]\n",
      "[1. 0. 0.] <-> [0.95764893 0.01405348 0.02829753]\n",
      "[1. 0. 0.] <-> [0.96679103 0.01272558 0.02048341]\n",
      "[1. 0. 0.] <-> [0.9787877  0.00646438 0.01474795]\n",
      "[1. 0. 0.] <-> [0.96061546 0.00589305 0.03349153]\n",
      "[0. 1. 0.] <-> [0.05349566 0.93571675 0.01078761]\n",
      "[1. 0. 0.] <-> [0.9679808  0.01145262 0.02056664]\n",
      "[1. 0. 0.] <-> [0.20293827 0.00578221 0.7912795 ]\n",
      "[1. 0. 0.] <-> [0.53031904 0.43196484 0.03771611]\n",
      "[1. 0. 0.] <-> [0.9642901  0.01614756 0.01956237]\n",
      "[1. 0. 0.] <-> [0.9188655  0.0071114  0.07402311]\n",
      "[1. 0. 0.] <-> [0.9724793  0.01206376 0.01545697]\n",
      "[1. 0. 0.] <-> [0.969585   0.0143911  0.01602397]\n",
      "[0. 1. 0.] <-> [0.0525836  0.93684304 0.01057335]\n",
      "[1. 0. 0.] <-> [0.9390605  0.04138373 0.01955577]\n",
      "[0. 1. 0.] <-> [0.05259925 0.93676186 0.01063885]\n",
      "[1. 0. 0.] <-> [0.9646301  0.00635336 0.02901645]\n",
      "[0. 1. 0.] <-> [0.06028118 0.92787254 0.01184622]\n",
      "[0. 0. 1.] <-> [0.05308048 0.00194927 0.9449703 ]\n",
      "[1. 0. 0.] <-> [0.75251275 0.21267003 0.03481723]\n",
      "[1. 0. 0.] <-> [0.51704955 0.44654858 0.03640192]\n",
      "[1. 0. 0.] <-> [0.97826034 0.00639286 0.01534675]\n",
      "[1. 0. 0.] <-> [0.97717243 0.00692774 0.0158998 ]\n",
      "[1. 0. 0.] <-> [0.9697986  0.01480082 0.01540047]\n",
      "[1. 0. 0.] <-> [0.70175064 0.22418597 0.07406339]\n",
      "{'accuracy': 0.9691358024691358, 'mean_square_error': 0.08288273769156272, 'categorical_crossentropy': 0.16027469988222476, 'precision': 0.9537037037037037, 'recall': 0.9537037037037037, 'f1': 0.9537037037037037, 'essential_metrics': {0: {'tp_hit': 75, 'fp_hit': 2, 'tn_hit': 28, 'fn_hit': 3}, 1: {'tp_hit': 16, 'fp_hit': 2, 'tn_hit': 90, 'fn_hit': 0}, 2: {'tp_hit': 12, 'fp_hit': 1, 'tn_hit': 93, 'fn_hit': 2}}}\n"
     ]
    }
   ],
   "source": [
    "# recall phase\n",
    "score = model.evaluate(x_test, y_test, False)\n",
    "print(score)"
   ]
  },
  {
   "cell_type": "code",
   "execution_count": 12,
   "metadata": {},
   "outputs": [],
   "source": [
    "# Testing Performance"
   ]
  },
  {
   "cell_type": "code",
   "execution_count": 13,
   "metadata": {},
   "outputs": [
    {
     "data": {
      "image/png": "[encoded data removed]",
      "text/plain": [
       "<Figure size 864x360 with 1 Axes>"
      ]
     },
     "metadata": {
      "needs_background": "light"
     },
     "output_type": "display_data"
    },
    {
     "data": {
      "image/png": "[encoded data removed]",
      "text/plain": [
       "<Figure size 864x360 with 1 Axes>"
      ]
     },
     "metadata": {
      "needs_background": "light"
     },
     "output_type": "display_data"
    }
   ],
   "source": [
    "draw_plot(x = [[i for i in range(len(history))], [(i+1)*breakpoint for i in range(len(checkpoints))]], y_list = [history, [ ckp[model.loss_fn] for ckp in checkpoints ]], x_label = 'Epochs', \\\n",
    "    y_label = model.loss_fn, legend=['train', 'test'])\n",
    "acc = [ ckp['accuracy'] for ckp in checkpoints ]\n",
    "draw_plot(x = [[(i+1)*breakpoint for i in range(len(checkpoints))]], y_list = [acc], x_label = 'Checkpoints', \\\n",
    "    y_label = 'accuracy')"
   ]
  },
  {
   "cell_type": "code",
   "execution_count": 14,
   "metadata": {
    "scrolled": false
   },
   "outputs": [
    {
     "name": "stdout",
     "output_type": "stream",
     "text": [
      "{'accuracy': 0.9691358024691358, 'mean_square_error': 0.10753985072340437, 'categorical_crossentropy': 0.22953162369904695, 'precision': 0.9537037037037037, 'recall': 0.9537037037037037, 'f1': 0.9537037037037037, 'essential_metrics': {0: {'tp_hit': 76, 'fp_hit': 3, 'tn_hit': 27, 'fn_hit': 2}, 1: {'tp_hit': 16, 'fp_hit': 1, 'tn_hit': 91, 'fn_hit': 0}, 2: {'tp_hit': 11, 'fp_hit': 1, 'tn_hit': 93, 'fn_hit': 3}}, 'checkpoint': 100} \n",
      "\n",
      "\n",
      "{'accuracy': 0.9629629629629629, 'mean_square_error': 0.0998498384836261, 'categorical_crossentropy': 0.21104743745591906, 'precision': 0.9444444444444444, 'recall': 0.9444444444444444, 'f1': 0.9444444444444444, 'essential_metrics': {0: {'tp_hit': 75, 'fp_hit': 3, 'tn_hit': 27, 'fn_hit': 3}, 1: {'tp_hit': 16, 'fp_hit': 2, 'tn_hit': 90, 'fn_hit': 0}, 2: {'tp_hit': 11, 'fp_hit': 1, 'tn_hit': 93, 'fn_hit': 3}}, 'checkpoint': 200} \n",
      "\n",
      "\n",
      "{'accuracy': 0.9629629629629629, 'mean_square_error': 0.09427563474663225, 'categorical_crossentropy': 0.19239157217520256, 'precision': 0.9444444444444444, 'recall': 0.9444444444444444, 'f1': 0.9444444444444444, 'essential_metrics': {0: {'tp_hit': 75, 'fp_hit': 3, 'tn_hit': 27, 'fn_hit': 3}, 1: {'tp_hit': 16, 'fp_hit': 2, 'tn_hit': 90, 'fn_hit': 0}, 2: {'tp_hit': 11, 'fp_hit': 1, 'tn_hit': 93, 'fn_hit': 3}}, 'checkpoint': 300} \n",
      "\n",
      "\n",
      "{'accuracy': 0.9691358024691358, 'mean_square_error': 0.08963947847156135, 'categorical_crossentropy': 0.17668519196686922, 'precision': 0.9537037037037037, 'recall': 0.9537037037037037, 'f1': 0.9537037037037037, 'essential_metrics': {0: {'tp_hit': 75, 'fp_hit': 2, 'tn_hit': 28, 'fn_hit': 3}, 1: {'tp_hit': 16, 'fp_hit': 2, 'tn_hit': 90, 'fn_hit': 0}, 2: {'tp_hit': 12, 'fp_hit': 1, 'tn_hit': 93, 'fn_hit': 2}}, 'checkpoint': 400} \n",
      "\n",
      "\n",
      "{'accuracy': 0.9691358024691358, 'mean_square_error': 0.08288273769156272, 'categorical_crossentropy': 0.16027469988222476, 'precision': 0.9537037037037037, 'recall': 0.9537037037037037, 'f1': 0.9537037037037037, 'essential_metrics': {0: {'tp_hit': 75, 'fp_hit': 2, 'tn_hit': 28, 'fn_hit': 3}, 1: {'tp_hit': 16, 'fp_hit': 2, 'tn_hit': 90, 'fn_hit': 0}, 2: {'tp_hit': 12, 'fp_hit': 1, 'tn_hit': 93, 'fn_hit': 2}}, 'checkpoint': 500} \n",
      "\n",
      "\n"
     ]
    }
   ],
   "source": [
    "for checkpoint in checkpoints:\n",
    "    print(checkpoint, '\\n\\n')"
   ]
  },
  {
   "cell_type": "code",
   "execution_count": 15,
   "metadata": {},
   "outputs": [
    {
     "name": "stdout",
     "output_type": "stream",
     "text": [
      "Layer 1\n",
      "Neuron 0: weights:\n",
      "[-0.5232113   1.8731948   2.1773496  -2.218183   -0.76320255]\n",
      " bias: -1.5313842296600342\n",
      "\n",
      "Neuron 1: weights:\n",
      "[ 1.4829521 -2.5119224  2.821015   2.7829988  2.6669755]\n",
      " bias: -2.9434425830841064\n",
      "\n",
      "Neuron 2: weights:\n",
      "[ 0.7437742 -2.2435606 -1.7259337  1.2873365  2.8039508]\n",
      " bias: -2.4686195850372314\n",
      "\n",
      "Neuron 3: weights:\n",
      "[ 1.5686066  -2.829727   -3.          0.73070866  0.01921358]\n",
      " bias: 1.8081719875335693\n",
      "\n",
      "$\n",
      "Layer 2\n",
      "Neuron 0: weights:\n",
      "[-2.9574778 -2.5602431 -2.850595   2.9631612]\n",
      " bias: 2.4572551250457764\n",
      "\n",
      "Neuron 1: weights:\n",
      "[-0.51867217 -1.5417478  -1.4441887  -3.        ]\n",
      " bias: 2.898651599884033\n",
      "\n",
      "Neuron 2: weights:\n",
      "[-2.9221072   0.2660331   2.3791397   0.03420766]\n",
      " bias: 0.8178087472915649\n",
      "\n",
      "$\n",
      "\n"
     ]
    }
   ],
   "source": [
    "print(model)"
   ]
  }
 ],
 "metadata": {
  "kernelspec": {
   "display_name": "Python 3",
   "language": "python",
   "name": "python3"
  },
  "language_info": {
   "codemirror_mode": {
    "name": "ipython",
    "version": 3
   },
   "file_extension": ".py",
   "mimetype": "text/x-python",
   "name": "python",
   "nbconvert_exporter": "python",
   "pygments_lexer": "ipython3",
   "version": "3.6.12"
  }
 },
 "nbformat": 4,
 "nbformat_minor": 2
}
