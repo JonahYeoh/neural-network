{
 "cells": [
  {
   "cell_type": "code",
   "execution_count": 1,
   "metadata": {},
   "outputs": [],
   "source": [
    "# two"
   ]
  },
  {
   "cell_type": "code",
   "execution_count": 2,
   "metadata": {},
   "outputs": [],
   "source": [
    "# dependency\n",
    "import numpy as np\n",
    "import pandas as pd\n",
    "import copy\n",
    "import math\n",
    "import sys\n",
    "import os\n",
    "from activations import relu, leaky_relu, sigmoid, tanh, softmax, d_sigmoid, d_relu\n",
    "from initializers import glorot_uniform, random_normal, random_uniform\n",
    "from regularizers import l1_regularizer, l2_regularizer\n",
    "from utility import trim_tail, multiply, subtract, get_nparams, one_hot_encoding, get_data\n",
    "from metrics import MSE, CCE, ACC, PRECISION, RECALL, essential_metrics, wondering_penalty, close_gap_penalty\n",
    "from pso import PSO\n",
    "from ga import GA\n",
    "from nn import Network\n",
    "from layer import DenseLayer\n",
    "from scalers import MinMaxScaler, StandardScaler"
   ]
  },
  {
   "cell_type": "code",
   "execution_count": 3,
   "metadata": {},
   "outputs": [],
   "source": [
    "# reference\n",
    "metrics_fn_dict = dict()\n",
    "metrics_fn_dict['accuracy'] = ACC\n",
    "metrics_fn_dict['categorical_crossentropy'] = CCE\n",
    "metrics_fn_dict['mean_square_error'] = MSE\n",
    "metrics_fn_dict['precision'] = PRECISION\n",
    "metrics_fn_dict['recall'] = RECALL\n",
    "metrics_fn_dict['essential_metrics'] = essential_metrics"
   ]
  },
  {
   "cell_type": "code",
   "execution_count": 4,
   "metadata": {},
   "outputs": [],
   "source": [
    "# model\n",
    "model = Network(5, lr = None)\n",
    "model.add_layer(DenseLayer(1, 4, True, afn=sigmoid, dafn=None, rfn=None))\n",
    "model.add_layer(DenseLayer(2, 3, True, afn=softmax, dafn=None, rfn=None))"
   ]
  },
  {
   "cell_type": "code",
   "execution_count": 5,
   "metadata": {},
   "outputs": [],
   "source": [
    "# optimizer\n",
    "ga = GA(\n",
    "    dict(\n",
    "        m = 50,\n",
    "        x_rate = [0.5, 1.0],\n",
    "        m_rate = [0.5, 1.0],\n",
    "        weight_constraint = [-3.,3.],\n",
    "        radioactive_rating = [0.1, 0.5],\n",
    "        grow_factor = [0.1, 0.5],\n",
    "        scale_hyperparameter = False,\n",
    "        regularizer = l2_regularizer))"
   ]
  },
  {
   "cell_type": "code",
   "execution_count": 6,
   "metadata": {},
   "outputs": [
    {
     "name": "stdout",
     "output_type": "stream",
     "text": [
      "building layer 1 with 5\n",
      "24\n",
      "building layer 2 with 4\n",
      "15\n"
     ]
    }
   ],
   "source": [
    "model.compile(loss_fn = 'categorical_crossentropy', optimizer = ga, \\\n",
    "    metrics = ['accuracy', 'mean_square_error', 'categorical_crossentropy', 'precision', 'recall', 'f1'])"
   ]
  },
  {
   "cell_type": "code",
   "execution_count": 7,
   "metadata": {},
   "outputs": [
    {
     "name": "stdout",
     "output_type": "stream",
     "text": [
      "<class 'pandas.core.frame.DataFrame'>\n",
      "RangeIndex: 107 entries, 0 to 106\n",
      "Data columns (total 6 columns):\n",
      " #   Column  Non-Null Count  Dtype  \n",
      "---  ------  --------------  -----  \n",
      " 0   f1      107 non-null    float32\n",
      " 1   f2      107 non-null    float32\n",
      " 2   f3      107 non-null    float32\n",
      " 3   f4      107 non-null    float32\n",
      " 4   f5      107 non-null    float32\n",
      " 5   label   107 non-null    float32\n",
      "dtypes: float32(6)\n",
      "memory usage: 2.6 KB\n",
      "None\n",
      "<class 'pandas.core.frame.DataFrame'>\n",
      "RangeIndex: 108 entries, 0 to 107\n",
      "Data columns (total 6 columns):\n",
      " #   Column  Non-Null Count  Dtype  \n",
      "---  ------  --------------  -----  \n",
      " 0   f1      108 non-null    float32\n",
      " 1   f2      108 non-null    float32\n",
      " 2   f3      108 non-null    float32\n",
      " 3   f4      108 non-null    float32\n",
      " 4   f5      108 non-null    float32\n",
      " 5   label   108 non-null    float32\n",
      "dtypes: float32(6)\n",
      "memory usage: 2.7 KB\n",
      "None\n"
     ]
    }
   ],
   "source": [
    "# data loading\n",
    "DATA = os.path.join('c:\\\\Users\\\\tcumi\\\\github_repo\\\\neural-network\\\\', 'dataset')\n",
    "GROUP = 2\n",
    "COLUMNS = ['f1', 'f2', 'f3', 'f4', 'f5', 'label']\n",
    "N_CLASS = 3\n",
    "EPOCHS = 500\n",
    "train_dir, test_dir = \"..//dataset//training_data{}.txt\".format(GROUP), \"..//dataset//testing_data{}.txt\".format(GROUP)\n",
    "train, test = get_data(DATA, train_dir, COLUMNS), get_data(DATA, test_dir, COLUMNS)\n",
    "# shuffle\n",
    "train, test = train.sample(frac=1), test.sample(frac=1)\n",
    "x_train, y_train = train.drop('label', axis=1), train['label']\n",
    "x_test, y_test = test.drop('label', axis=1), test['label']"
   ]
  },
  {
   "cell_type": "code",
   "execution_count": 8,
   "metadata": {},
   "outputs": [],
   "source": [
    "# data scaling and encoding\n",
    "scaler = StandardScaler(['f1', 'f2', 'f3', 'f4', 'f5'])\n",
    "scaler.fit(x_train)\n",
    "x_train = scaler.transform(x_train)\n",
    "x_test = scaler.transform(x_test)\n",
    "y_train = one_hot_encoding(y_train, N_CLASS)\n",
    "y_test = one_hot_encoding(y_test, N_CLASS)"
   ]
  },
  {
   "cell_type": "code",
   "execution_count": 9,
   "metadata": {
    "scrolled": true,
    "tags": [
     "outputPrepend"
    ]
   },
   "outputs": [
    {
     "name": "stderr",
     "output_type": "stream",
     "text": [
      "C:\\Users\\tcumi\\Anaconda3\\envs\\py_3_6\\lib\\site-packages\\numpy\\core\\fromnumeric.py:87: VisibleDeprecationWarning: Creating an ndarray from ragged nested sequences (which is a list-or-tuple of lists-or-tuples-or ndarrays with different lengths or shapes) is deprecated. If you meant to do this, you must specify 'dtype=object' when creating the ndarray\n",
      "  return ufunc.reduce(obj, axis, dtype, out, **passkwargs)\n",
      "C:\\Users\\tcumi\\github_repo\\neural-network\\python\\ga.py:201: RuntimeWarning: overflow encountered in add\n",
      "  self.population.sort(key=lambda p: p.fitness + np.random.uniform(-shift, shift, 1), reverse = self.aim)\n",
      "C:\\Users\\tcumi\\Anaconda3\\envs\\py_3_6\\lib\\site-packages\\numpy\\core\\_asarray.py:136: VisibleDeprecationWarning: Creating an ndarray from ragged nested sequences (which is a list-or-tuple of lists-or-tuples-or ndarrays with different lengths or shapes) is deprecated. If you meant to do this, you must specify 'dtype=object' when creating the ndarray\n",
      "  return array(a, dtype, copy=False, order=order, subok=True)\n"
     ]
    },
    {
     "name": "stdout",
     "output_type": "stream",
     "text": [
      "Checkpoint 100, Accuracy: 0.8950617283950617, Loss: 0.38384850819905597\n",
      "Checkpoint 200, Accuracy: 0.9074074074074074, Loss: 0.3786469918710214\n",
      "Checkpoint 300, Accuracy: 0.9259259259259259, Loss: 0.364702719229239\n",
      "Checkpoint 400, Accuracy: 0.9320987654320988, Loss: 0.363668335808648\n",
      "Checkpoint 500, Accuracy: 0.9320987654320988, Loss: 0.35281057711000796\n"
     ]
    }
   ],
   "source": [
    "# learning phase\n",
    "breakpoint = 100\n",
    "checkpoints = list()\n",
    "history = list()\n",
    "for century in range(0, EPOCHS, breakpoint):\n",
    "    sub_history = model.fit(x_train, y_train, breakpoint, verbose = 0)\n",
    "    score = model.evaluate(x_test, y_test, False, verbose = 0)\n",
    "    print('Checkpoint {}, Accuracy: {}, Loss: {}'.format(century+breakpoint, score['accuracy'], score[model.loss_fn]))\n",
    "    score['checkpoint'] = century + breakpoint\n",
    "    checkpoints.append(score)\n",
    "    history.extend(sub_history)\n",
    "    itr = century + breakpoint\n",
    "    '''\n",
    "    model.optimizer.rr = model.optimizer.rr * 0.9\n",
    "    model.optimizer.gf = model.optimizer.gf * 0.9\n",
    "    model.optimizer.crossover_rate = model.optimizer.crossover_rate * 0.9\n",
    "    model.optimizer.mutation_rate = model.optimizer.mutation_rate * 1.1\n",
    "    '''\n",
    "    model.optimizer.rr = model.optimizer.radioactive_rating[1] - (model.optimizer.radioactive_rating[1] - model.optimizer.radioactive_rating[0]) / EPOCHS * (EPOCHS - itr)\n",
    "    model.optimizer.gf = model.optimizer.grow_factor[1] - (model.optimizer.grow_factor[1] - model.optimizer.grow_factor[0]) / EPOCHS * (EPOCHS - itr)\n",
    "    model.optimizer.crossover_rate = model.optimizer.x_rate[1] - (model.optimizer.x_rate[1] - model.optimizer.x_rate[0]) / EPOCHS * (EPOCHS - itr)\n",
    "    model.optimizer.mutation_rate = model.optimizer.m_rate[0] + (model.optimizer.m_rate[1] - model.optimizer.m_rate[0]) / EPOCHS * (EPOCHS - itr)\n",
    "    "
   ]
  },
  {
   "cell_type": "code",
   "execution_count": 10,
   "metadata": {},
   "outputs": [],
   "source": [
    "import matplotlib.pyplot as plt\n",
    "\n",
    "def draw_plot(x, y_list, x_label=None, y_label=None, legend=None, title=None):\n",
    "    fig, ax = plt.subplots(figsize=(12,5))\n",
    "    for xi, yi in zip(x, y_list):\n",
    "        ax.plot(xi, yi)\n",
    "    if x_label is not None and y_label is not None:\n",
    "        ax.set(xlabel=x_label, ylabel=y_label, title='{} VS {}'.format(x_label, y_label))\n",
    "    if legend is not None:\n",
    "        ax.legend(legend)\n",
    "    ax.grid()\n",
    "    plt.show()"
   ]
  },
  {
   "cell_type": "code",
   "execution_count": 11,
   "metadata": {},
   "outputs": [
    {
     "name": "stdout",
     "output_type": "stream",
     "text": [
      "[1. 0. 0.] <-> [0.8146839  0.08645432 0.09886172]\n",
      "[1. 0. 0.] <-> [0.79023796 0.13553911 0.07422287]\n",
      "[1. 0. 0.] <-> [0.76883733 0.04252758 0.18863508]\n",
      "[1. 0. 0.] <-> [0.8260265  0.05850304 0.11547053]\n",
      "[1. 0. 0.] <-> [0.77970535 0.13408774 0.08620697]\n",
      "[1. 0. 0.] <-> [0.80155843 0.05779792 0.14064366]\n",
      "[1. 0. 0.] <-> [0.75798845 0.10243881 0.13957267]\n",
      "[1. 0. 0.] <-> [0.8294442  0.07622626 0.09432954]\n",
      "[1. 0. 0.] <-> [0.7885487  0.05749724 0.15395404]\n",
      "[0. 1. 0.] <-> [0.5375297  0.42329326 0.03917706]\n",
      "[1. 0. 0.] <-> [0.80671483 0.08719143 0.10609376]\n",
      "[0. 1. 0.] <-> [0.58361626 0.37503457 0.04134912]\n",
      "[0. 1. 0.] <-> [0.519951   0.43980536 0.04024369]\n",
      "[0. 0. 1.] <-> [0.2466824  0.01342011 0.73989743]\n",
      "[1. 0. 0.] <-> [0.7896403  0.08548908 0.12487053]\n",
      "[1. 0. 0.] <-> [0.8086589  0.04500223 0.1463388 ]\n",
      "[0. 0. 1.] <-> [0.16950399 0.01566773 0.8148283 ]\n",
      "[1. 0. 0.] <-> [0.8134463  0.04686675 0.139687  ]\n",
      "[1. 0. 0.] <-> [0.79771537 0.03787983 0.16440481]\n",
      "[0. 1. 0.] <-> [0.6707425  0.28295702 0.04630043]\n",
      "[1. 0. 0.] <-> [0.7754137  0.1461271  0.07845923]\n",
      "[1. 0. 0.] <-> [0.7778894  0.10016885 0.1219417 ]\n",
      "[1. 0. 0.] <-> [0.8238154  0.09113818 0.08504649]\n",
      "[1. 0. 0.] <-> [0.79818386 0.12605211 0.07576403]\n",
      "[1. 0. 0.] <-> [0.79684144 0.10184904 0.10130953]\n",
      "[1. 0. 0.] <-> [0.7975139  0.08895574 0.11353039]\n",
      "[1. 0. 0.] <-> [0.80772245 0.10053798 0.09173956]\n",
      "[0. 0. 1.] <-> [0.28762096 0.01318293 0.6991961 ]\n",
      "[0. 1. 0.] <-> [0.23241831 0.74646825 0.02111346]\n",
      "[1. 0. 0.] <-> [0.7385043  0.05570567 0.2057901 ]\n",
      "[1. 0. 0.] <-> [0.8054802  0.06799954 0.12652029]\n",
      "[1. 0. 0.] <-> [0.77749556 0.15425722 0.0682473 ]\n",
      "[1. 0. 0.] <-> [0.8236894  0.08077927 0.09553128]\n",
      "[0. 0. 1.] <-> [0.16553052 0.01566753 0.81880194]\n",
      "[1. 0. 0.] <-> [0.78605664 0.07743409 0.13650925]\n",
      "[1. 0. 0.] <-> [0.81900495 0.07501186 0.10598324]\n",
      "[1. 0. 0.] <-> [0.83120966 0.0692718  0.09951859]\n",
      "[1. 0. 0.] <-> [0.77205956 0.15735365 0.07058676]\n",
      "[1. 0. 0.] <-> [0.79431635 0.09666418 0.10901953]\n",
      "[1. 0. 0.] <-> [0.7428803  0.06158218 0.19553757]\n",
      "[0. 0. 1.] <-> [0.18916242 0.01680047 0.7940371 ]\n",
      "[1. 0. 0.] <-> [0.8058785  0.04548422 0.14863722]\n",
      "[0. 0. 1.] <-> [0.5825666  0.03098013 0.38645327]\n",
      "[1. 0. 0.] <-> [0.75173753 0.03554589 0.21271664]\n",
      "[1. 0. 0.] <-> [0.79773784 0.12552908 0.07673317]\n",
      "[1. 0. 0.] <-> [0.79195356 0.11546582 0.09258067]\n",
      "[1. 0. 0.] <-> [0.7449243  0.06355918 0.19151658]\n",
      "[1. 0. 0.] <-> [0.7728504  0.11599953 0.1111501 ]\n",
      "[1. 0. 0.] <-> [0.8262982  0.07270335 0.1009985 ]\n",
      "[1. 0. 0.] <-> [0.57060057 0.03706907 0.39233038]\n",
      "[1. 0. 0.] <-> [0.7730931  0.04896071 0.17794622]\n",
      "[1. 0. 0.] <-> [0.78520036 0.07216319 0.14263646]\n",
      "[1. 0. 0.] <-> [0.8080106  0.10692425 0.08506518]\n",
      "[1. 0. 0.] <-> [0.8222589  0.08730323 0.09043796]\n",
      "[1. 0. 0.] <-> [0.7951603  0.08527778 0.11956188]\n",
      "[1. 0. 0.] <-> [0.7832345  0.07862557 0.13813993]\n",
      "[1. 0. 0.] <-> [0.80544126 0.10393211 0.0906266 ]\n",
      "[1. 0. 0.] <-> [0.7615264  0.14764108 0.09083249]\n",
      "[0. 1. 0.] <-> [0.23856509 0.739778   0.02165697]\n",
      "[0. 0. 1.] <-> [0.709325   0.02879756 0.2618775 ]\n",
      "[1. 0. 0.] <-> [0.8100747  0.11474099 0.07518428]\n",
      "[1. 0. 0.] <-> [0.80264175 0.06664616 0.13071206]\n",
      "[1. 0. 0.] <-> [0.8053338  0.127831   0.06683522]\n",
      "[0. 1. 0.] <-> [0.62756634 0.32871234 0.04372136]\n",
      "[0. 0. 1.] <-> [0.3617006  0.01611377 0.62218565]\n",
      "[1. 0. 0.] <-> [0.7724789  0.14984813 0.07767297]\n",
      "[1. 0. 0.] <-> [0.70023894 0.03580494 0.26395616]\n",
      "[1. 0. 0.] <-> [0.82414675 0.04325178 0.13260145]\n",
      "[0. 0. 1.] <-> [0.37567014 0.01447026 0.6098596 ]\n",
      "[0. 0. 1.] <-> [0.7684029  0.02735512 0.20424199]\n",
      "[1. 0. 0.] <-> [0.77759516 0.13025558 0.09214924]\n",
      "[0. 0. 1.] <-> [0.36151156 0.01300862 0.62547976]\n",
      "[1. 0. 0.] <-> [0.70516026 0.24352166 0.05131816]\n",
      "[1. 0. 0.] <-> [0.79731214 0.06665538 0.13603245]\n",
      "[0. 1. 0.] <-> [0.3156537  0.6588063  0.02553997]\n",
      "[0. 0. 1.] <-> [0.27702498 0.01230727 0.7106677 ]\n",
      "[0. 0. 1.] <-> [0.3246019  0.01725449 0.65814364]\n",
      "[1. 0. 0.] <-> [0.810224   0.05423172 0.1355443 ]\n",
      "[1. 0. 0.] <-> [0.77786505 0.14543024 0.07670476]\n",
      "[1. 0. 0.] <-> [0.8091897  0.08686669 0.10394364]\n",
      "[1. 0. 0.] <-> [0.7850519  0.08172256 0.13322556]\n",
      "[1. 0. 0.] <-> [0.7729241  0.04245619 0.18461977]\n",
      "[1. 0. 0.] <-> [0.7451969  0.19239321 0.06240992]\n",
      "[1. 0. 0.] <-> [0.7377107  0.05777482 0.20451452]\n",
      "[1. 0. 0.] <-> [0.8156314  0.08611067 0.09825801]\n",
      "[0. 1. 0.] <-> [0.23648572 0.742076   0.02143831]\n",
      "[1. 0. 0.] <-> [0.76360947 0.05432125 0.1820693 ]\n",
      "[1. 0. 0.] <-> [0.7419591  0.1824982  0.07554274]\n",
      "[1. 0. 0.] <-> [0.77408856 0.16193299 0.06397846]\n",
      "[1. 0. 0.] <-> [0.82593495 0.08677692 0.08728819]\n",
      "[0. 1. 0.] <-> [0.36427063 0.6065849  0.02914437]\n",
      "[0. 1. 0.] <-> [0.7085499  0.24127568 0.05017439]\n",
      "[0. 1. 0.] <-> [0.36836398 0.60411453 0.0275215 ]\n",
      "[1. 0. 0.] <-> [0.813118   0.06033795 0.12654413]\n",
      "[1. 0. 0.] <-> [0.80600715 0.04146362 0.15252928]\n",
      "[1. 0. 0.] <-> [0.75709265 0.18063797 0.06226935]\n",
      "[1. 0. 0.] <-> [0.79193866 0.06403185 0.14402945]\n",
      "[0. 1. 0.] <-> [0.47617295 0.4870798  0.03674724]\n",
      "[1. 0. 0.] <-> [0.8407997  0.06122556 0.09797468]\n",
      "[1. 0. 0.] <-> [0.8177917  0.0611464  0.12106198]\n",
      "[1. 0. 0.] <-> [0.7947298  0.11018609 0.09508403]\n",
      "[1. 0. 0.] <-> [0.82177025 0.04595827 0.13227138]\n",
      "[1. 0. 0.] <-> [0.7683702  0.10347023 0.12815958]\n",
      "[0. 1. 0.] <-> [0.6314879  0.31841493 0.05009716]\n",
      "[1. 0. 0.] <-> [0.8063782  0.04341546 0.15020639]\n",
      "[1. 0. 0.] <-> [0.7165769  0.04548951 0.23793362]\n",
      "[0. 1. 0.] <-> [0.5106901 0.4530916 0.0362183]\n",
      "[1. 0. 0.] <-> [0.8023499  0.10903854 0.08861151]\n",
      "{'accuracy': 0.9320987654320988, 'mean_square_error': 0.17242766856123085, 'categorical_crossentropy': 0.35281057711000796, 'precision': 0.8981481481481481, 'recall': 0.8981481481481481, 'f1': 0.8981481481481481, 'essential_metrics': {0: {'tp_hit': 80, 'fp_hit': 11, 'tn_hit': 17, 'fn_hit': 0}, 1: {'tp_hit': 7, 'fp_hit': 0, 'tn_hit': 93, 'fn_hit': 8}, 2: {'tp_hit': 10, 'fp_hit': 0, 'tn_hit': 95, 'fn_hit': 3}}}\n"
     ]
    }
   ],
   "source": [
    "# recall phase\n",
    "score = model.evaluate(x_test, y_test, False)\n",
    "print(score)"
   ]
  },
  {
   "cell_type": "code",
   "execution_count": 12,
   "metadata": {},
   "outputs": [],
   "source": [
    "# Testing Performance"
   ]
  },
  {
   "cell_type": "code",
   "execution_count": 13,
   "metadata": {},
   "outputs": [
    {
     "name": "stderr",
     "output_type": "stream",
     "text": [
      "C:\\Users\\tcumi\\Anaconda3\\envs\\py_3_6\\lib\\site-packages\\numpy\\core\\_asarray.py:136: VisibleDeprecationWarning: Creating an ndarray from ragged nested sequences (which is a list-or-tuple of lists-or-tuples-or ndarrays with different lengths or shapes) is deprecated. If you meant to do this, you must specify 'dtype=object' when creating the ndarray\n",
      "  return array(a, dtype, copy=False, order=order, subok=True)\n"
     ]
    },
    {
     "data": {
      "image/png": "[encoded data removed]",
      "text/plain": [
       "<Figure size 864x360 with 1 Axes>"
      ]
     },
     "metadata": {
      "needs_background": "light"
     },
     "output_type": "display_data"
    },
    {
     "data": {
      "image/png": "[encoded data removed]",
      "text/plain": [
       "<Figure size 864x360 with 1 Axes>"
      ]
     },
     "metadata": {
      "needs_background": "light"
     },
     "output_type": "display_data"
    }
   ],
   "source": [
    "draw_plot(x = [[i for i in range(len(history))], [(i+1)*breakpoint for i in range(len(checkpoints))]], y_list = [history, [ ckp[model.loss_fn] for ckp in checkpoints ]], x_label = 'Epochs', \\\n",
    "    y_label = model.loss_fn, legend=['train', 'test'])\n",
    "acc = [ ckp['accuracy'] for ckp in checkpoints ]\n",
    "draw_plot(x = [[(i+1)*breakpoint for i in range(len(checkpoints))]], y_list = [acc], x_label = 'Checkpoints', \\\n",
    "    y_label = 'accuracy')"
   ]
  },
  {
   "cell_type": "code",
   "execution_count": 14,
   "metadata": {
    "scrolled": false
   },
   "outputs": [
    {
     "name": "stdout",
     "output_type": "stream",
     "text": [
      "{'accuracy': 0.8950617283950617, 'mean_square_error': 0.208392474498329, 'categorical_crossentropy': 0.38384850819905597, 'precision': 0.8425925925925926, 'recall': 0.8425925925925926, 'f1': 0.8425925925925926, 'essential_metrics': {0: {'tp_hit': 80, 'fp_hit': 17, 'tn_hit': 11, 'fn_hit': 0}, 1: {'tp_hit': 1, 'fp_hit': 0, 'tn_hit': 93, 'fn_hit': 14}, 2: {'tp_hit': 10, 'fp_hit': 0, 'tn_hit': 95, 'fn_hit': 3}}, 'checkpoint': 100} \n",
      "\n",
      "\n",
      "{'accuracy': 0.9074074074074074, 'mean_square_error': 0.19540837480045598, 'categorical_crossentropy': 0.3786469918710214, 'precision': 0.8611111111111112, 'recall': 0.8611111111111112, 'f1': 0.8611111111111112, 'essential_metrics': {0: {'tp_hit': 80, 'fp_hit': 15, 'tn_hit': 13, 'fn_hit': 0}, 1: {'tp_hit': 3, 'fp_hit': 0, 'tn_hit': 93, 'fn_hit': 12}, 2: {'tp_hit': 10, 'fp_hit': 0, 'tn_hit': 95, 'fn_hit': 3}}, 'checkpoint': 200} \n",
      "\n",
      "\n",
      "{'accuracy': 0.9259259259259259, 'mean_square_error': 0.18448987318534438, 'categorical_crossentropy': 0.364702719229239, 'precision': 0.8888888888888888, 'recall': 0.8888888888888888, 'f1': 0.8888888888888888, 'essential_metrics': {0: {'tp_hit': 80, 'fp_hit': 12, 'tn_hit': 16, 'fn_hit': 0}, 1: {'tp_hit': 6, 'fp_hit': 0, 'tn_hit': 93, 'fn_hit': 9}, 2: {'tp_hit': 10, 'fp_hit': 0, 'tn_hit': 95, 'fn_hit': 3}}, 'checkpoint': 300} \n",
      "\n",
      "\n",
      "{'accuracy': 0.9320987654320988, 'mean_square_error': 0.17708721842400266, 'categorical_crossentropy': 0.363668335808648, 'precision': 0.8981481481481481, 'recall': 0.8981481481481481, 'f1': 0.8981481481481481, 'essential_metrics': {0: {'tp_hit': 80, 'fp_hit': 11, 'tn_hit': 17, 'fn_hit': 0}, 1: {'tp_hit': 7, 'fp_hit': 0, 'tn_hit': 93, 'fn_hit': 8}, 2: {'tp_hit': 10, 'fp_hit': 0, 'tn_hit': 95, 'fn_hit': 3}}, 'checkpoint': 400} \n",
      "\n",
      "\n",
      "{'accuracy': 0.9320987654320988, 'mean_square_error': 0.17242766856123085, 'categorical_crossentropy': 0.35281057711000796, 'precision': 0.8981481481481481, 'recall': 0.8981481481481481, 'f1': 0.8981481481481481, 'essential_metrics': {0: {'tp_hit': 80, 'fp_hit': 11, 'tn_hit': 17, 'fn_hit': 0}, 1: {'tp_hit': 7, 'fp_hit': 0, 'tn_hit': 93, 'fn_hit': 8}, 2: {'tp_hit': 10, 'fp_hit': 0, 'tn_hit': 95, 'fn_hit': 3}}, 'checkpoint': 500} \n",
      "\n",
      "\n"
     ]
    }
   ],
   "source": [
    "for checkpoint in checkpoints:\n",
    "    print(checkpoint, '\\n\\n')"
   ]
  },
  {
   "cell_type": "code",
   "execution_count": 15,
   "metadata": {},
   "outputs": [
    {
     "name": "stdout",
     "output_type": "stream",
     "text": [
      "Layer 1\n",
      "Neuron 0: weights:\n",
      "[-0.38467258  0.7884864   0.39920443 -0.53513163 -0.58357084]\n",
      " bias: 0.3408331871032715\n",
      "\n",
      "Neuron 1: weights:\n",
      "[ 0.43618682 -0.8065966  -0.37140632  0.63227797  0.8560143 ]\n",
      " bias: -0.8603693246841431\n",
      "\n",
      "Neuron 2: weights:\n",
      "[ 0.42025515 -1.143957   -0.7098405  -0.04451055  0.39030406]\n",
      " bias: 0.56253582239151\n",
      "\n",
      "Neuron 3: weights:\n",
      "[ 0.33290187 -0.59773314 -0.48626333 -0.55192786 -0.44585907]\n",
      " bias: 0.3062918782234192\n",
      "\n",
      "$\n",
      "Layer 2\n",
      "Neuron 0: weights:\n",
      "[-0.14167765 -0.92896295  0.8054068   1.2928793 ]\n",
      " bias: 0.22236701846122742\n",
      "\n",
      "Neuron 1: weights:\n",
      "[ 0.9536891 -0.8607748 -1.7549704 -0.5952744]\n",
      " bias: 0.4695899784564972\n",
      "\n",
      "Neuron 2: weights:\n",
      "[-1.7249595   1.6052263   0.71626616 -0.20140013]\n",
      " bias: -0.5172072052955627\n",
      "\n",
      "$\n",
      "\n"
     ]
    }
   ],
   "source": [
    "print(model)"
   ]
  }
 ],
 "metadata": {
  "kernelspec": {
   "display_name": "Python 3",
   "language": "python",
   "name": "python3"
  },
  "language_info": {
   "codemirror_mode": {
    "name": "ipython",
    "version": 3
   },
   "file_extension": ".py",
   "mimetype": "text/x-python",
   "name": "python",
   "nbconvert_exporter": "python",
   "pygments_lexer": "ipython3",
   "version": "3.6.10"
  }
 },
 "nbformat": 4,
 "nbformat_minor": 2
}
