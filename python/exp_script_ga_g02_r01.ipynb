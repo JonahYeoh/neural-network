{
 "cells": [
  {
   "cell_type": "code",
   "execution_count": null,
   "metadata": {},
   "outputs": [],
   "source": []
  },
  {
   "cell_type": "code",
   "execution_count": 1,
   "metadata": {},
   "outputs": [],
   "source": [
    "# dependency\n",
    "import numpy as np\n",
    "import pandas as pd\n",
    "import copy\n",
    "import math\n",
    "import sys\n",
    "import os\n",
    "from activations import relu, leaky_relu, sigmoid, tanh, softmax, d_sigmoid, d_relu\n",
    "from initializers import glorot_uniform, random_normal, random_uniform\n",
    "from regularizers import l1_regularizer, l2_regularizer\n",
    "from utility import trim_tail, multiply, subtract, get_nparams, one_hot_encoding, get_data\n",
    "from metrics import MSE, CCE, ACC, PRECISION, RECALL, essential_metrics, wondering_penalty, close_gap_penalty\n",
    "from pso import PSO\n",
    "from ga import GA\n",
    "from nn import Network\n",
    "from layer import DenseLayer\n",
    "from scalers import MinMaxScaler, StandardScaler"
   ]
  },
  {
   "cell_type": "code",
   "execution_count": 2,
   "metadata": {},
   "outputs": [],
   "source": [
    "# reference\n",
    "metrics_fn_dict = dict()\n",
    "metrics_fn_dict['accuracy'] = ACC\n",
    "metrics_fn_dict['categorical_crossentropy'] = CCE\n",
    "metrics_fn_dict['mean_square_error'] = MSE\n",
    "metrics_fn_dict['precision'] = PRECISION\n",
    "metrics_fn_dict['recall'] = RECALL\n",
    "metrics_fn_dict['essential_metrics'] = essential_metrics"
   ]
  },
  {
   "cell_type": "code",
   "execution_count": 3,
   "metadata": {},
   "outputs": [],
   "source": [
    "# model\n",
    "model = Network(5, lr = None)\n",
    "model.add_layer(DenseLayer(1, 4, True, afn=sigmoid, dafn=None, rfn=None))\n",
    "model.add_layer(DenseLayer(2, 3, True, afn=softmax, dafn=None, rfn=None))"
   ]
  },
  {
   "cell_type": "code",
   "execution_count": 4,
   "metadata": {},
   "outputs": [],
   "source": [
    "# optimizer\n",
    "ga = GA(\n",
    "    dict(\n",
    "        m = 50,\n",
    "        x_rate = 0.5,\n",
    "        m_rate = 0.6,\n",
    "        weight_constraint = [-3.,3.],\n",
    "        radioactive_rating = 0.5,\n",
    "        grow_factor = 0.5,\n",
    "        scale_hyperparameter = False))"
   ]
  },
  {
   "cell_type": "code",
   "execution_count": 5,
   "metadata": {},
   "outputs": [
    {
     "name": "stdout",
     "output_type": "stream",
     "text": [
      "building layer 1 with 5\n",
      "24\n",
      "building layer 2 with 4\n",
      "15\n"
     ]
    }
   ],
   "source": [
    "model.compile(loss_fn = 'categorical_crossentropy', optimizer = ga, \\\n",
    "    metrics = ['accuracy', 'mean_square_error', 'categorical_crossentropy', 'precision', 'recall', 'f1'])"
   ]
  },
  {
   "cell_type": "code",
   "execution_count": 6,
   "metadata": {},
   "outputs": [
    {
     "name": "stdout",
     "output_type": "stream",
     "text": [
      "<class 'pandas.core.frame.DataFrame'>\n",
      "RangeIndex: 107 entries, 0 to 106\n",
      "Data columns (total 6 columns):\n",
      " #   Column  Non-Null Count  Dtype  \n",
      "---  ------  --------------  -----  \n",
      " 0   f1      107 non-null    float32\n",
      " 1   f2      107 non-null    float32\n",
      " 2   f3      107 non-null    float32\n",
      " 3   f4      107 non-null    float32\n",
      " 4   f5      107 non-null    float32\n",
      " 5   label   107 non-null    float32\n",
      "dtypes: float32(6)\n",
      "memory usage: 2.6 KB\n",
      "None\n",
      "<class 'pandas.core.frame.DataFrame'>\n",
      "RangeIndex: 108 entries, 0 to 107\n",
      "Data columns (total 6 columns):\n",
      " #   Column  Non-Null Count  Dtype  \n",
      "---  ------  --------------  -----  \n",
      " 0   f1      108 non-null    float32\n",
      " 1   f2      108 non-null    float32\n",
      " 2   f3      108 non-null    float32\n",
      " 3   f4      108 non-null    float32\n",
      " 4   f5      108 non-null    float32\n",
      " 5   label   108 non-null    float32\n",
      "dtypes: float32(6)\n",
      "memory usage: 2.7 KB\n",
      "None\n"
     ]
    }
   ],
   "source": [
    "# data loading\n",
    "DATA = os.path.join('c:\\\\Users\\\\tcumi\\\\github_repo\\\\neural-network\\\\', 'dataset')\n",
    "GROUP = 2\n",
    "COLUMNS = ['f1', 'f2', 'f3', 'f4', 'f5', 'label']\n",
    "N_CLASS = 3\n",
    "EPOCHS = 500\n",
    "train_dir, test_dir = \"..//dataset//training_data{}.txt\".format(GROUP), \"..//dataset//testing_data{}.txt\".format(GROUP)\n",
    "train, test = get_data(DATA, train_dir, COLUMNS), get_data(DATA, test_dir, COLUMNS)\n",
    "# shuffle\n",
    "train, test = train.sample(frac=1), test.sample(frac=1)\n",
    "x_train, y_train = train.drop('label', axis=1), train['label']\n",
    "x_test, y_test = test.drop('label', axis=1), test['label']"
   ]
  },
  {
   "cell_type": "code",
   "execution_count": 7,
   "metadata": {},
   "outputs": [],
   "source": [
    "# data scaling and encoding\n",
    "scaler = StandardScaler(['f1', 'f2', 'f3', 'f4', 'f5'])\n",
    "scaler.fit(x_train)\n",
    "x_train = scaler.transform(x_train)\n",
    "x_test = scaler.transform(x_test)\n",
    "y_train = one_hot_encoding(y_train, N_CLASS)\n",
    "y_test = one_hot_encoding(y_test, N_CLASS)"
   ]
  },
  {
   "cell_type": "code",
   "execution_count": 8,
   "metadata": {
    "scrolled": true,
    "tags": [
     "outputPrepend"
    ]
   },
   "outputs": [
    {
     "name": "stderr",
     "output_type": "stream",
     "text": [
      "C:\\Users\\tcumi\\github_repo\\neural-network\\python\\ga.py:189: RuntimeWarning: overflow encountered in add\n",
      "  self.population.sort(key=lambda p: p.fitness + np.random.uniform(-shift, shift, 1), reverse = self.aim)\n",
      "C:\\Users\\tcumi\\github_repo\\neural-network\\python\\activations.py:14: RuntimeWarning: overflow encountered in exp\n",
      "  y = 1 / (1 + np.exp(-Xi))\n"
     ]
    },
    {
     "name": "stdout",
     "output_type": "stream",
     "text": [
      "Checkpoint 100, Accuracy: 0.8333333333333334, Loss: 0.620635845043041\n",
      "Checkpoint 200, Accuracy: 0.8641975308641975, Loss: 0.6030896504720052\n",
      "Checkpoint 300, Accuracy: 0.8580246913580247, Loss: 0.5799890447545935\n",
      "Checkpoint 400, Accuracy: 0.8518518518518519, Loss: 0.574014875623915\n",
      "Checkpoint 500, Accuracy: 0.8580246913580247, Loss: 0.576716387713397\n"
     ]
    }
   ],
   "source": [
    "# learning phase\n",
    "breakpoint = 100\n",
    "checkpoints = list()\n",
    "history = list()\n",
    "for century in range(0, EPOCHS, breakpoint):\n",
    "    sub_history = model.fit(x_train, y_train, breakpoint, verbose = 0)\n",
    "    score = model.evaluate(x_test, y_test, False, verbose = 0)\n",
    "    print('Checkpoint {}, Accuracy: {}, Loss: {}'.format(century+breakpoint, score['accuracy'], score[model.loss_fn]))\n",
    "    score['checkpoint'] = century + breakpoint\n",
    "    checkpoints.append(score)\n",
    "    history.extend(sub_history)"
   ]
  },
  {
   "cell_type": "code",
   "execution_count": 9,
   "metadata": {},
   "outputs": [],
   "source": [
    "import matplotlib.pyplot as plt\n",
    "\n",
    "def draw_plot(x, y_list, x_label=None, y_label=None, legend=None):\n",
    "    fig, ax = plt.subplots(figsize=(12,5))\n",
    "    for y in y_list:\n",
    "        ax.plot(x, y)\n",
    "    if x_label is not None and y_label is not None:\n",
    "        title = '{} VS {}'.format(x_label, y_label)\n",
    "        ax.set(xlabel=x_label, ylabel=y_label, title=title)\n",
    "    if legend is not None:\n",
    "        ax.legend(legend)\n",
    "    ax.grid()\n",
    "    plt.show()"
   ]
  },
  {
   "cell_type": "code",
   "execution_count": 10,
   "metadata": {},
   "outputs": [
    {
     "data": {
      "image/png": "[encoded data removed]",
      "text/plain": [
       "<Figure size 864x360 with 1 Axes>"
      ]
     },
     "metadata": {
      "needs_background": "light"
     },
     "output_type": "display_data"
    }
   ],
   "source": [
    "draw_plot(x = [i for i in range(len(history))], y_list = [history], x_label = 'Epochs', \\\n",
    "    y_label = model.loss_fn)"
   ]
  },
  {
   "cell_type": "code",
   "execution_count": 11,
   "metadata": {},
   "outputs": [
    {
     "name": "stdout",
     "output_type": "stream",
     "text": [
      "[1. 0. 0.] <-> [[0.5576499 ]\n",
      " [0.23814896]\n",
      " [0.20420107]]\n",
      "[1. 0. 0.] <-> [[0.52903116]\n",
      " [0.24721317]\n",
      " [0.22375566]]\n",
      "[1. 0. 0.] <-> [[0.9015187 ]\n",
      " [0.03528708]\n",
      " [0.06319425]]\n",
      "[1. 0. 0.] <-> [[0.90785336]\n",
      " [0.05816928]\n",
      " [0.03397736]]\n",
      "[1. 0. 0.] <-> [[0.89321244]\n",
      " [0.08725815]\n",
      " [0.01952945]]\n",
      "[1. 0. 0.] <-> [[0.777326  ]\n",
      " [0.181242  ]\n",
      " [0.04143205]]\n",
      "[1. 0. 0.] <-> [[0.48694634]\n",
      " [0.28078884]\n",
      " [0.23226486]]\n",
      "[1. 0. 0.] <-> [[0.8683976 ]\n",
      " [0.11760399]\n",
      " [0.01399847]]\n",
      "[1. 0. 0.] <-> [[0.7687591 ]\n",
      " [0.18532747]\n",
      " [0.04591345]]\n",
      "[1. 0. 0.] <-> [[0.898236  ]\n",
      " [0.03216897]\n",
      " [0.06959511]]\n",
      "[0. 1. 0.] <-> [[0.7419513 ]\n",
      " [0.19663249]\n",
      " [0.06141626]]\n",
      "[1. 0. 0.] <-> [[0.90544474]\n",
      " [0.06585498]\n",
      " [0.02870019]]\n",
      "[0. 0. 1.] <-> [[0.03199762]\n",
      " [0.40907696]\n",
      " [0.55892545]]\n",
      "[1. 0. 0.] <-> [[0.51048696]\n",
      " [0.25943723]\n",
      " [0.23007575]]\n",
      "[0. 1. 0.] <-> [[0.1434648 ]\n",
      " [0.4481217 ]\n",
      " [0.40841353]]\n",
      "[0. 1. 0.] <-> [[0.03987082]\n",
      " [0.41960248]\n",
      " [0.5405267 ]]\n",
      "[1. 0. 0.] <-> [[0.33620253]\n",
      " [0.3799182 ]\n",
      " [0.28387934]]\n",
      "[1. 0. 0.] <-> [[0.8837749 ]\n",
      " [0.09982552]\n",
      " [0.01639962]]\n",
      "[1. 0. 0.] <-> [[0.8131403 ]\n",
      " [0.16131455]\n",
      " [0.02554522]]\n",
      "[1. 0. 0.] <-> [[0.8978768 ]\n",
      " [0.08024392]\n",
      " [0.02187924]]\n",
      "[0. 0. 1.] <-> [[0.27796084]\n",
      " [0.40746507]\n",
      " [0.31457406]]\n",
      "[1. 0. 0.] <-> [[0.76998144]\n",
      " [0.18475932]\n",
      " [0.04525929]]\n",
      "[1. 0. 0.] <-> [[0.5037816 ]\n",
      " [0.26534268]\n",
      " [0.23087564]]\n",
      "[0. 0. 1.] <-> [[0.01241652]\n",
      " [0.35911795]\n",
      " [0.62846553]]\n",
      "[1. 0. 0.] <-> [[0.9071362]\n",
      " [0.0439255]\n",
      " [0.0489382]]\n",
      "[0. 1. 0.] <-> [[0.36265245]\n",
      " [0.36582464]\n",
      " [0.2715229 ]]\n",
      "[0. 1. 0.] <-> [[0.04757021]\n",
      " [0.42738718]\n",
      " [0.5250426 ]]\n",
      "[1. 0. 0.] <-> [[0.48647103]\n",
      " [0.2812134 ]\n",
      " [0.23231563]]\n",
      "[0. 0. 1.] <-> [[0.01204489]\n",
      " [0.35763198]\n",
      " [0.6303231 ]]\n",
      "[1. 0. 0.] <-> [[0.9083465 ]\n",
      " [0.04872904]\n",
      " [0.04292447]]\n",
      "[1. 0. 0.] <-> [[0.36073217]\n",
      " [0.36688203]\n",
      " [0.27238578]]\n",
      "[1. 0. 0.] <-> [[0.90791833]\n",
      " [0.05785744]\n",
      " [0.03422421]]\n",
      "[1. 0. 0.] <-> [[0.83464193]\n",
      " [0.14678697]\n",
      " [0.01857116]]\n",
      "[1. 0. 0.] <-> [[0.8764044 ]\n",
      " [0.10871673]\n",
      " [0.01487885]]\n",
      "[0. 0. 1.] <-> [[0.893113  ]\n",
      " [0.02812156]\n",
      " [0.07876544]]\n",
      "[1. 0. 0.] <-> [[0.5244718 ]\n",
      " [0.24957621]\n",
      " [0.22595194]]\n",
      "[1. 0. 0.] <-> [[0.5967147 ]\n",
      " [0.23132269]\n",
      " [0.17196263]]\n",
      "[1. 0. 0.] <-> [[0.46667716]\n",
      " [0.29792053]\n",
      " [0.23540238]]\n",
      "[1. 0. 0.] <-> [[0.41644967]\n",
      " [0.33374333]\n",
      " [0.249807  ]]\n",
      "[1. 0. 0.] <-> [[0.8703544 ]\n",
      " [0.11550975]\n",
      " [0.01413588]]\n",
      "[1. 0. 0.] <-> [[0.89788145]\n",
      " [0.08023676]\n",
      " [0.02188191]]\n",
      "[1. 0. 0.] <-> [[0.49351147]\n",
      " [0.27482682]\n",
      " [0.23166168]]\n",
      "[1. 0. 0.] <-> [[0.89806753]\n",
      " [0.07993922]\n",
      " [0.02199329]]\n",
      "[0. 1. 0.] <-> [[0.6515514 ]\n",
      " [0.22193697]\n",
      " [0.12651156]]\n",
      "[1. 0. 0.] <-> [[0.4757421 ]\n",
      " [0.2905027 ]\n",
      " [0.23375523]]\n",
      "[1. 0. 0.] <-> [[0.90149707]\n",
      " [0.0352643 ]\n",
      " [0.06323861]]\n",
      "[1. 0. 0.] <-> [[0.9001979 ]\n",
      " [0.07640103]\n",
      " [0.02340094]]\n",
      "[1. 0. 0.] <-> [[0.9070471 ]\n",
      " [0.06130882]\n",
      " [0.03164411]]\n",
      "[1. 0. 0.] <-> [[0.88766205]\n",
      " [0.09484205]\n",
      " [0.01749588]]\n",
      "[1. 0. 0.] <-> [[0.90359885]\n",
      " [0.03770942]\n",
      " [0.0586918 ]]\n",
      "[0. 1. 0.] <-> [[0.02240064]\n",
      " [0.39071244]\n",
      " [0.58688694]]\n",
      "[1. 0. 0.] <-> [[0.8699029 ]\n",
      " [0.11599752]\n",
      " [0.01409956]]\n",
      "[1. 0. 0.] <-> [[0.9082631 ]\n",
      " [0.04816268]\n",
      " [0.04357416]]\n",
      "[1. 0. 0.] <-> [[0.89140046]\n",
      " [0.02686688]\n",
      " [0.08173271]]\n",
      "[0. 1. 0.] <-> [[0.44241944]\n",
      " [0.31616038]\n",
      " [0.24142018]]\n",
      "[1. 0. 0.] <-> [[0.34374726]\n",
      " [0.3760004 ]\n",
      " [0.28025234]]\n",
      "[1. 0. 0.] <-> [[0.6511493 ]\n",
      " [0.22201642]\n",
      " [0.1268343 ]]\n",
      "[1. 0. 0.] <-> [[0.90651053]\n",
      " [0.04244056]\n",
      " [0.05104885]]\n",
      "[1. 0. 0.] <-> [[0.8965121 ]\n",
      " [0.03073319]\n",
      " [0.07275462]]\n",
      "[1. 0. 0.] <-> [[0.21871354]\n",
      " [0.43016627]\n",
      " [0.35112017]]\n",
      "[0. 1. 0.] <-> [[0.5226036 ]\n",
      " [0.2506597 ]\n",
      " [0.22673666]]\n",
      "[1. 0. 0.] <-> [[0.9046171 ]\n",
      " [0.067814  ]\n",
      " [0.02756901]]\n",
      "[1. 0. 0.] <-> [[0.86187094]\n",
      " [0.12420514]\n",
      " [0.01392391]]\n",
      "[0. 1. 0.] <-> [[0.85596275]\n",
      " [0.12969379]\n",
      " [0.01434347]]\n",
      "[1. 0. 0.] <-> [[0.7915909 ]\n",
      " [0.17388041]\n",
      " [0.03452863]]\n",
      "[0. 1. 0.] <-> [[0.02766306]\n",
      " [0.40173346]\n",
      " [0.57060343]]\n",
      "[1. 0. 0.] <-> [[0.90485513]\n",
      " [0.06726858]\n",
      " [0.02787634]]\n",
      "[0. 0. 1.] <-> [[0.38819692]\n",
      " [0.35121453]\n",
      " [0.26058847]]\n",
      "[1. 0. 0.] <-> [[0.90175813]\n",
      " [0.03554314]\n",
      " [0.06269869]]\n",
      "[1. 0. 0.] <-> [[0.43695852]\n",
      " [0.320002  ]\n",
      " [0.24303953]]\n",
      "[1. 0. 0.] <-> [[0.89649695]\n",
      " [0.03072088]\n",
      " [0.0727822 ]]\n",
      "[0. 1. 0.] <-> [[0.5910788 ]\n",
      " [0.23220915]\n",
      " [0.17671204]]\n",
      "[1. 0. 0.] <-> [[0.88577396]\n",
      " [0.09729116]\n",
      " [0.01693489]]\n",
      "[0. 0. 1.] <-> [[0.8635398 ]\n",
      " [0.12257327]\n",
      " [0.01388684]]\n",
      "[0. 1. 0.] <-> [[0.453231  ]\n",
      " [0.30828783]\n",
      " [0.2384812 ]]\n",
      "[0. 1. 0.] <-> [[0.9035983 ]\n",
      " [0.03770877]\n",
      " [0.05869289]]\n",
      "[0. 0. 1.] <-> [[0.0212743 ]\n",
      " [0.38796824]\n",
      " [0.5907575 ]]\n",
      "[1. 0. 0.] <-> [[0.9078941 ]\n",
      " [0.05797558]\n",
      " [0.03413034]]\n",
      "[0. 0. 1.] <-> [[0.9080123 ]\n",
      " [0.05737976]\n",
      " [0.03460793]]\n",
      "[0. 0. 1.] <-> [[0.03884061]\n",
      " [0.41839308]\n",
      " [0.5427663 ]]\n",
      "[1. 0. 0.] <-> [[0.5184746 ]\n",
      " [0.2533122 ]\n",
      " [0.22821319]]\n",
      "[0. 0. 1.] <-> [[0.01201589]\n",
      " [0.3575291 ]\n",
      " [0.630455  ]]\n",
      "[0. 1. 0.] <-> [[0.49575213]\n",
      " [0.27275896]\n",
      " [0.23148893]]\n",
      "[1. 0. 0.] <-> [[0.4754864 ]\n",
      " [0.29071724]\n",
      " [0.23379643]]\n",
      "[1. 0. 0.] <-> [[0.8744872 ]\n",
      " [0.11091965]\n",
      " [0.01459315]]\n",
      "[1. 0. 0.] <-> [[0.85917443]\n",
      " [0.12676372]\n",
      " [0.01406183]]\n",
      "[1. 0. 0.] <-> [[0.9032843 ]\n",
      " [0.03730994]\n",
      " [0.0594058 ]]\n",
      "[1. 0. 0.] <-> [[0.9083644 ]\n",
      " [0.0550846 ]\n",
      " [0.03655097]]\n",
      "[1. 0. 0.] <-> [[0.53366196]\n",
      " [0.245171  ]\n",
      " [0.22116704]]\n",
      "[1. 0. 0.] <-> [[0.9062781 ]\n",
      " [0.04195598]\n",
      " [0.0517659 ]]\n",
      "[1. 0. 0.] <-> [[0.88669854]\n",
      " [0.09609892]\n",
      " [0.01720251]]\n",
      "[1. 0. 0.] <-> [[0.900476  ]\n",
      " [0.03422529]\n",
      " [0.06529874]]\n",
      "[1. 0. 0.] <-> [[0.89463264]\n",
      " [0.02926262]\n",
      " [0.07610475]]\n",
      "[1. 0. 0.] <-> [[0.8996713 ]\n",
      " [0.07730076]\n",
      " [0.02302793]]\n",
      "[1. 0. 0.] <-> [[0.86391073]\n",
      " [0.12220546]\n",
      " [0.01388377]]\n",
      "[1. 0. 0.] <-> [[0.9003362 ]\n",
      " [0.07616173]\n",
      " [0.02350198]]\n",
      "[1. 0. 0.] <-> [[0.8755117 ]\n",
      " [0.10974807]\n",
      " [0.01474017]]\n",
      "[0. 0. 1.] <-> [[0.02690976]\n",
      " [0.40031365]\n",
      " [0.57277656]]\n",
      "[1. 0. 0.] <-> [[0.9041156 ]\n",
      " [0.06892299]\n",
      " [0.02696148]]\n",
      "[1. 0. 0.] <-> [[0.46465272]\n",
      " [0.29952717]\n",
      " [0.23582011]]\n",
      "[1. 0. 0.] <-> [[0.9061046 ]\n",
      " [0.04161242]\n",
      " [0.05228289]]\n",
      "[1. 0. 0.] <-> [[0.8680695 ]\n",
      " [0.11794985]\n",
      " [0.01398057]]\n",
      "[1. 0. 0.] <-> [[0.7997407 ]\n",
      " [0.169342  ]\n",
      " [0.03091739]]\n",
      "[1. 0. 0.] <-> [[0.9008267 ]\n",
      " [0.07530171]\n",
      " [0.02387154]]\n",
      "[1. 0. 0.] <-> [[0.90851855]\n",
      " [0.05325453]\n",
      " [0.03822692]]\n",
      "[1. 0. 0.] <-> [[0.891602  ]\n",
      " [0.089527  ]\n",
      " [0.01887095]]\n",
      "[1. 0. 0.] <-> [[0.6672192 ]\n",
      " [0.21865912]\n",
      " [0.11412173]]\n",
      "[0. 0. 1.] <-> [[0.19284403]\n",
      " [0.43800712]\n",
      " [0.36914882]]\n",
      "{'accuracy': 0.8580246913580247, 'mean_square_error': 2.8877458083623253, 'categorical_crossentropy': 0.576716387713397, 'precision': 0.7870370370370371, 'recall': 0.7870370370370371, 'f1': 0.7870370370370371, 'essential_metrics': {0: {'tp_hit': 76, 'fp_hit': 13, 'tn_hit': 15, 'fn_hit': 4}, 1: {'tp_hit': 2, 'fp_hit': 6, 'tn_hit': 87, 'fn_hit': 13}, 2: {'tp_hit': 7, 'fp_hit': 4, 'tn_hit': 91, 'fn_hit': 6}}}\n"
     ]
    },
    {
     "name": "stderr",
     "output_type": "stream",
     "text": [
      "C:\\Users\\tcumi\\github_repo\\neural-network\\python\\activations.py:14: RuntimeWarning: overflow encountered in exp\n",
      "  y = 1 / (1 + np.exp(-Xi))\n"
     ]
    }
   ],
   "source": [
    "# recall phase\n",
    "score = model.evaluate(x_test, y_test, False)\n",
    "print(score)"
   ]
  },
  {
   "cell_type": "code",
   "execution_count": 12,
   "metadata": {},
   "outputs": [],
   "source": [
    "# Testing Performance"
   ]
  },
  {
   "cell_type": "code",
   "execution_count": 13,
   "metadata": {
    "scrolled": true
   },
   "outputs": [
    {
     "name": "stdout",
     "output_type": "stream",
     "text": [
      "{'accuracy': 0.8333333333333334, 'mean_square_error': 2.8289251440095287, 'categorical_crossentropy': 0.620635845043041, 'precision': 0.75, 'recall': 0.75, 'f1': 0.75, 'essential_metrics': {0: {'tp_hit': 74, 'fp_hit': 10, 'tn_hit': 18, 'fn_hit': 6}, 1: {'tp_hit': 5, 'fp_hit': 9, 'tn_hit': 84, 'fn_hit': 10}, 2: {'tp_hit': 2, 'fp_hit': 8, 'tn_hit': 87, 'fn_hit': 11}}, 'checkpoint': 100} \n",
      "\n",
      "\n",
      "{'accuracy': 0.8641975308641975, 'mean_square_error': 2.7857259662676794, 'categorical_crossentropy': 0.6030896504720052, 'precision': 0.7962962962962963, 'recall': 0.7962962962962963, 'f1': 0.7962962962962963, 'essential_metrics': {0: {'tp_hit': 76, 'fp_hit': 12, 'tn_hit': 16, 'fn_hit': 4}, 1: {'tp_hit': 1, 'fp_hit': 3, 'tn_hit': 90, 'fn_hit': 14}, 2: {'tp_hit': 9, 'fp_hit': 7, 'tn_hit': 88, 'fn_hit': 4}}, 'checkpoint': 200} \n",
      "\n",
      "\n",
      "{'accuracy': 0.8580246913580247, 'mean_square_error': 2.8552494959054147, 'categorical_crossentropy': 0.5799890447545935, 'precision': 0.7870370370370371, 'recall': 0.7870370370370371, 'f1': 0.7870370370370371, 'essential_metrics': {0: {'tp_hit': 76, 'fp_hit': 13, 'tn_hit': 15, 'fn_hit': 4}, 1: {'tp_hit': 2, 'fp_hit': 6, 'tn_hit': 87, 'fn_hit': 13}, 2: {'tp_hit': 7, 'fp_hit': 4, 'tn_hit': 91, 'fn_hit': 6}}, 'checkpoint': 300} \n",
      "\n",
      "\n",
      "{'accuracy': 0.8518518518518519, 'mean_square_error': 2.872067912876875, 'categorical_crossentropy': 0.574014875623915, 'precision': 0.7777777777777778, 'recall': 0.7777777777777778, 'f1': 0.7777777777777778, 'essential_metrics': {0: {'tp_hit': 76, 'fp_hit': 14, 'tn_hit': 14, 'fn_hit': 4}, 1: {'tp_hit': 1, 'fp_hit': 6, 'tn_hit': 87, 'fn_hit': 14}, 2: {'tp_hit': 7, 'fp_hit': 4, 'tn_hit': 91, 'fn_hit': 6}}, 'checkpoint': 400} \n",
      "\n",
      "\n",
      "{'accuracy': 0.8580246913580247, 'mean_square_error': 2.8877458083623253, 'categorical_crossentropy': 0.576716387713397, 'precision': 0.7870370370370371, 'recall': 0.7870370370370371, 'f1': 0.7870370370370371, 'essential_metrics': {0: {'tp_hit': 76, 'fp_hit': 13, 'tn_hit': 15, 'fn_hit': 4}, 1: {'tp_hit': 2, 'fp_hit': 6, 'tn_hit': 87, 'fn_hit': 13}, 2: {'tp_hit': 7, 'fp_hit': 4, 'tn_hit': 91, 'fn_hit': 6}}, 'checkpoint': 500} \n",
      "\n",
      "\n"
     ]
    }
   ],
   "source": [
    "for checkpoint in checkpoints:\n",
    "    print(checkpoint, '\\n\\n')"
   ]
  },
  {
   "cell_type": "code",
   "execution_count": 14,
   "metadata": {},
   "outputs": [
    {
     "data": {
      "image/png": "[encoded data removed]",
      "text/plain": [
       "<Figure size 864x360 with 1 Axes>"
      ]
     },
     "metadata": {
      "needs_background": "light"
     },
     "output_type": "display_data"
    }
   ],
   "source": [
    "cat_cross = [ ckp[model.loss_fn] for ckp in checkpoints ]\n",
    "draw_plot(x = [(i+1)*breakpoint for i in range(len(checkpoints))], y_list = [cat_cross], x_label = 'Checkpoints', \\\n",
    "    y_label = model.loss_fn)"
   ]
  },
  {
   "cell_type": "code",
   "execution_count": 15,
   "metadata": {},
   "outputs": [
    {
     "data": {
      "image/png": "[encoded data removed]",
      "text/plain": [
       "<Figure size 864x360 with 1 Axes>"
      ]
     },
     "metadata": {
      "needs_background": "light"
     },
     "output_type": "display_data"
    }
   ],
   "source": [
    "acc = [ ckp['accuracy'] for ckp in checkpoints ]\n",
    "draw_plot(x = [(i+1)*breakpoint for i in range(len(checkpoints))], y_list = [acc], x_label = 'Checkpoints', \\\n",
    "    y_label = 'accuracy')"
   ]
  },
  {
   "cell_type": "code",
   "execution_count": 16,
   "metadata": {},
   "outputs": [
    {
     "name": "stdout",
     "output_type": "stream",
     "text": [
      "Layer 1\n",
      "Neuron 0: weights:\n",
      "[[-0.15289477]\n",
      " [ 0.17174685]\n",
      " [ 0.9309637 ]\n",
      " [-1.6884276 ]\n",
      " [-0.27314052]]\n",
      " bias: [-0.88180196]\n",
      "\n",
      "Neuron 1: weights:\n",
      "[[-0.05909487]\n",
      " [-1.2473464 ]\n",
      " [ 1.2017355 ]\n",
      " [ 2.4349635 ]\n",
      " [ 0.12427294]]\n",
      " bias: [2.7818742]\n",
      "\n",
      "Neuron 2: weights:\n",
      "[[ 0.5565187 ]\n",
      " [-1.0008826 ]\n",
      " [ 0.09180965]\n",
      " [ 0.96082985]\n",
      " [ 0.7094394 ]]\n",
      " bias: [-3.]\n",
      "\n",
      "Neuron 3: weights:\n",
      "[[-3.        ]\n",
      " [-2.9727943 ]\n",
      " [-2.8096569 ]\n",
      " [-3.        ]\n",
      " [-0.72517174]]\n",
      " bias: [-1.9493765]\n",
      "\n",
      "$\n",
      "Layer 2\n",
      "Neuron 0: weights:\n",
      "[[ 2.0253716 ]\n",
      " [ 0.39710018]\n",
      " [-3.        ]\n",
      " [ 2.3863885 ]]\n",
      " bias: [2.4486911]\n",
      "\n",
      "Neuron 1: weights:\n",
      "[[0.746118 ]\n",
      " [1.3621131]\n",
      " [0.9953576]\n",
      " [1.5846969]]\n",
      " bias: [0.8828572]\n",
      "\n",
      "Neuron 2: weights:\n",
      "[[ 3.       ]\n",
      " [-1.3714509]\n",
      " [ 2.3867524]\n",
      " [-1.2087986]]\n",
      " bias: [2.7925386]\n",
      "\n",
      "$\n",
      "\n"
     ]
    }
   ],
   "source": [
    "print(model)"
   ]
  },
  {
   "cell_type": "code",
   "execution_count": null,
   "metadata": {},
   "outputs": [],
   "source": []
  }
 ],
 "metadata": {
  "kernelspec": {
   "display_name": "Python 3",
   "language": "python",
   "name": "python3"
  },
  "language_info": {
   "codemirror_mode": {
    "name": "ipython",
    "version": 3
   },
   "file_extension": ".py",
   "mimetype": "text/x-python",
   "name": "python",
   "nbconvert_exporter": "python",
   "pygments_lexer": "ipython3",
   "version": "3.6.10"
  }
 },
 "nbformat": 4,
 "nbformat_minor": 2
}
