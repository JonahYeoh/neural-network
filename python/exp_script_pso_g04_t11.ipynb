{
 "cells": [
  {
   "cell_type": "code",
   "execution_count": 1,
   "metadata": {},
   "outputs": [],
   "source": [
    "# dependency\n",
    "import numpy as np\n",
    "import pandas as pd\n",
    "import copy\n",
    "import math\n",
    "import sys\n",
    "import os\n",
    "from activations import relu, leaky_relu, sigmoid, tanh, softmax, d_sigmoid, d_relu\n",
    "from initializers import glorot_uniform, random_normal, random_uniform\n",
    "from regularizers import l1_regularizer, l2_regularizer\n",
    "from utility import trim_tail, multiply, subtract, get_nparams, one_hot_encoding, get_data\n",
    "from metrics import MSE, CCE, ACC, PRECISION, RECALL, essential_metrics, wondering_penalty, close_gap_penalty\n",
    "from pso import PSO\n",
    "from ga import GA\n",
    "from nn import Network\n",
    "from layer import DenseLayer\n",
    "from scalers import MinMaxScaler, StandardScaler"
   ]
  },
  {
   "cell_type": "code",
   "execution_count": 2,
   "metadata": {},
   "outputs": [],
   "source": [
    "# reference\n",
    "metrics_fn_dict = dict()\n",
    "metrics_fn_dict['accuracy'] = ACC\n",
    "metrics_fn_dict['categorical_crossentropy'] = CCE\n",
    "metrics_fn_dict['mean_square_error'] = MSE\n",
    "metrics_fn_dict['precision'] = PRECISION\n",
    "metrics_fn_dict['recall'] = RECALL\n",
    "metrics_fn_dict['essential_metrics'] = essential_metrics"
   ]
  },
  {
   "cell_type": "code",
   "execution_count": 3,
   "metadata": {},
   "outputs": [],
   "source": [
    "# model\n",
    "model = Network(5, lr = None)\n",
    "model.add_layer(DenseLayer(1, 4, True, afn=sigmoid, dafn=None, rfn=None))\n",
    "model.add_layer(DenseLayer(2, 3, True, afn=softmax, dafn=None, rfn=None))"
   ]
  },
  {
   "cell_type": "code",
   "execution_count": 4,
   "metadata": {},
   "outputs": [
    {
     "name": "stdout",
     "output_type": "stream",
     "text": [
      "see one see two 2 2\n"
     ]
    }
   ],
   "source": [
    "pso = PSO(dict(m = 200,\n",
    "    weight_constraint = [-3, 3], \n",
    "    velocity_constraint = [-0.1, 0.1],\n",
    "    c1 = 2,\n",
    "    c2 = 2,\n",
    "    w = 1,\n",
    "    w_decay = 1,\n",
    "    scale_hyperparameter = False,\n",
    "    regularizer = None,\n",
    "    mask = True))"
   ]
  },
  {
   "cell_type": "code",
   "execution_count": 5,
   "metadata": {},
   "outputs": [
    {
     "name": "stdout",
     "output_type": "stream",
     "text": [
      "building layer 1 with 5\n",
      "24\n",
      "building layer 2 with 4\n",
      "15\n"
     ]
    }
   ],
   "source": [
    "model.compile(loss_fn = 'categorical_crossentropy', optimizer = pso, \\\n",
    "    metrics = ['accuracy', 'mean_square_error', 'categorical_crossentropy'])"
   ]
  },
  {
   "cell_type": "code",
   "execution_count": 6,
   "metadata": {},
   "outputs": [
    {
     "name": "stdout",
     "output_type": "stream",
     "text": [
      "<class 'pandas.core.frame.DataFrame'>\n",
      "RangeIndex: 107 entries, 0 to 106\n",
      "Data columns (total 6 columns):\n",
      " #   Column  Non-Null Count  Dtype  \n",
      "---  ------  --------------  -----  \n",
      " 0   f1      107 non-null    float32\n",
      " 1   f2      107 non-null    float32\n",
      " 2   f3      107 non-null    float32\n",
      " 3   f4      107 non-null    float32\n",
      " 4   f5      107 non-null    float32\n",
      " 5   label   107 non-null    float32\n",
      "dtypes: float32(6)\n",
      "memory usage: 2.6 KB\n",
      "None\n",
      "<class 'pandas.core.frame.DataFrame'>\n",
      "RangeIndex: 108 entries, 0 to 107\n",
      "Data columns (total 6 columns):\n",
      " #   Column  Non-Null Count  Dtype  \n",
      "---  ------  --------------  -----  \n",
      " 0   f1      108 non-null    float32\n",
      " 1   f2      108 non-null    float32\n",
      " 2   f3      108 non-null    float32\n",
      " 3   f4      108 non-null    float32\n",
      " 4   f5      108 non-null    float32\n",
      " 5   label   108 non-null    float32\n",
      "dtypes: float32(6)\n",
      "memory usage: 2.7 KB\n",
      "None\n"
     ]
    }
   ],
   "source": [
    "# data loading\n",
    "DATA = os.path.join('c:\\\\Users\\\\tcumi\\\\github_repo\\\\neural-network\\\\', 'dataset')\n",
    "GROUP = 4\n",
    "COLUMNS = ['f1', 'f2', 'f3', 'f4', 'f5', 'label']\n",
    "N_CLASS = 3\n",
    "EPOCHS = 500\n",
    "train_dir, test_dir = \"..//dataset//training_data{}.txt\".format(GROUP), \"..//dataset//testing_data{}.txt\".format(GROUP)\n",
    "train, test = get_data(DATA, train_dir, COLUMNS), get_data(DATA, test_dir, COLUMNS)\n",
    "# shuffle\n",
    "train, test = train.sample(frac=1), test.sample(frac=1)\n",
    "x_train, y_train = train.drop('label', axis=1), train['label']\n",
    "x_test, y_test = test.drop('label', axis=1), test['label']"
   ]
  },
  {
   "cell_type": "code",
   "execution_count": 7,
   "metadata": {},
   "outputs": [],
   "source": [
    "# data scaling and encoding\n",
    "scaler = StandardScaler(['f1', 'f2', 'f3', 'f4', 'f5'])\n",
    "scaler.fit(x_train)\n",
    "x_train = scaler.transform(x_train)\n",
    "x_test = scaler.transform(x_test)\n",
    "y_train = one_hot_encoding(y_train, N_CLASS)\n",
    "y_test = one_hot_encoding(y_test, N_CLASS)"
   ]
  },
  {
   "cell_type": "code",
   "execution_count": 8,
   "metadata": {
    "tags": [
     "outputPrepend"
    ]
   },
   "outputs": [
    {
     "name": "stdout",
     "output_type": "stream",
     "text": [
      "Checkpoint 100, Accuracy: 0.9629629629629629, Loss: 0.2310713662041558\n",
      "Checkpoint 200, Accuracy: 0.9629629629629629, Loss: 0.09753591926009567\n",
      "Checkpoint 300, Accuracy: 0.9691358024691358, Loss: 0.10626019371880426\n",
      "Checkpoint 400, Accuracy: 0.9691358024691358, Loss: 0.10543448836715133\n",
      "Checkpoint 500, Accuracy: 0.9691358024691358, Loss: 0.10923144552442762\n"
     ]
    }
   ],
   "source": [
    "# learning phase\n",
    "breakpoint = 100\n",
    "checkpoints = list()\n",
    "history = list()\n",
    "for century in range(0, EPOCHS, breakpoint):\n",
    "    sub_history = model.fit(x_train, y_train, breakpoint, verbose = 0)\n",
    "    score = model.evaluate(x_test, y_test, False, verbose = 0)\n",
    "    print('Checkpoint {}, Accuracy: {}, Loss: {}'.format(century+breakpoint, score['accuracy'], score[model.loss_fn]))\n",
    "    score['checkpoint'] = century + breakpoint\n",
    "    checkpoints.append(score)\n",
    "    history.extend(sub_history)"
   ]
  },
  {
   "cell_type": "code",
   "execution_count": 9,
   "metadata": {},
   "outputs": [],
   "source": [
    "import matplotlib.pyplot as plt\n",
    "\n",
    "def draw_plot(x, y_list, x_label=None, y_label=None, legend=None, title=None):\n",
    "    fig, ax = plt.subplots(figsize=(12,5))\n",
    "    for xi, yi in zip(x, y_list):\n",
    "        ax.plot(xi, yi)\n",
    "    if x_label is not None and y_label is not None:\n",
    "        ax.set(xlabel=x_label, ylabel=y_label, title='{} VS {}'.format(x_label, y_label))\n",
    "    if legend is not None:\n",
    "        ax.legend(legend)\n",
    "    ax.grid()\n",
    "    plt.show()"
   ]
  },
  {
   "cell_type": "code",
   "execution_count": 10,
   "metadata": {},
   "outputs": [
    {
     "name": "stdout",
     "output_type": "stream",
     "text": [
      "[1. 0. 0.] <-> [0.995793   0.00113442 0.00307266]\n",
      "[0. 0. 1.] <-> [5.9085074e-03 5.9470694e-06 9.9408555e-01]\n",
      "[0. 1. 0.] <-> [2.0291221e-01 7.9672080e-01 3.6695038e-04]\n",
      "[1. 0. 0.] <-> [1.0615628e-01 1.0827572e-04 8.9373547e-01]\n",
      "[1. 0. 0.] <-> [0.6913499  0.30735815 0.00129194]\n",
      "[0. 0. 1.] <-> [8.750856e-03 8.807999e-06 9.912403e-01]\n",
      "[1. 0. 0.] <-> [3.2527533e-01 6.7416000e-01 5.6464405e-04]\n",
      "[1. 0. 0.] <-> [0.9966007  0.00123609 0.00216335]\n",
      "[1. 0. 0.] <-> [0.57275385 0.4261477  0.00109851]\n",
      "[1. 0. 0.] <-> [0.9964851  0.00234507 0.00116982]\n",
      "[1. 0. 0.] <-> [0.99711204 0.00165657 0.00123127]\n",
      "[1. 0. 0.] <-> [0.99734914 0.00104951 0.00160141]\n",
      "[0. 0. 1.] <-> [6.2583792e-03 6.2992613e-06 9.9373537e-01]\n",
      "[1. 0. 0.] <-> [0.9971392  0.00116386 0.00169692]\n",
      "[1. 0. 0.] <-> [0.997157   0.00163877 0.00120426]\n",
      "[1. 0. 0.] <-> [0.99493754 0.00102234 0.00404008]\n",
      "[0. 0. 1.] <-> [6.374825e-02 6.416490e-05 9.361876e-01]\n",
      "[1. 0. 0.] <-> [0.9967638  0.00200814 0.00122802]\n",
      "[1. 0. 0.] <-> [0.995773   0.00220942 0.0020175 ]\n",
      "[1. 0. 0.] <-> [0.98372895 0.01484612 0.00142499]\n",
      "[1. 0. 0.] <-> [8.313020e-02 9.167018e-01 1.680095e-04]\n",
      "[0. 0. 1.] <-> [0.61927336 0.00062444 0.3801022 ]\n",
      "[1. 0. 0.] <-> [0.9532942  0.00097829 0.04572741]\n",
      "[0. 1. 0.] <-> [6.0687619e-03 9.9391729e-01 1.3970964e-05]\n",
      "[1. 0. 0.] <-> [0.9942919  0.00107167 0.00463644]\n",
      "[1. 0. 0.] <-> [0.9969119  0.00113863 0.00194945]\n",
      "[1. 0. 0.] <-> [0.99635375 0.00244113 0.00120513]\n",
      "[0. 0. 1.] <-> [5.7569269e-02 5.8068294e-05 9.4237262e-01]\n",
      "[0. 1. 0.] <-> [1.4659815e-02 9.8530847e-01 3.1704130e-05]\n",
      "[1. 0. 0.] <-> [0.9973127  0.00155475 0.00113255]\n",
      "[1. 0. 0.] <-> [0.9955615  0.00106923 0.00336934]\n",
      "[0. 0. 1.] <-> [6.1476491e-03 6.1877695e-06 9.9384612e-01]\n",
      "[1. 0. 0.] <-> [0.99390346 0.00105891 0.00503765]\n",
      "[0. 1. 0.] <-> [6.06728159e-03 9.93918777e-01 1.39388185e-05]\n",
      "[1. 0. 0.] <-> [0.99755895 0.00106985 0.00137119]\n",
      "[1. 0. 0.] <-> [0.9886479  0.00190303 0.00944911]\n",
      "[1. 0. 0.] <-> [0.91798186 0.08071844 0.00129975]\n",
      "[0. 0. 1.] <-> [0.5250497  0.00054437 0.47440597]\n",
      "[1. 0. 0.] <-> [0.9897696  0.00102472 0.00920564]\n",
      "[1. 0. 0.] <-> [0.9836165 0.0052522 0.0111313]\n",
      "[1. 0. 0.] <-> [0.9973333  0.00141975 0.00124694]\n",
      "[1. 0. 0.] <-> [0.997077   0.00108752 0.00183548]\n",
      "[1. 0. 0.] <-> [0.99757427 0.00122438 0.00120133]\n",
      "[1. 0. 0.] <-> [0.996678   0.00158854 0.0017335 ]\n",
      "[0. 1. 0.] <-> [6.0672555e-03 9.9391878e-01 1.3929303e-05]\n",
      "[1. 0. 0.] <-> [0.99234104 0.00116238 0.00649658]\n",
      "[1. 0. 0.] <-> [0.9782689  0.02033148 0.00139962]\n",
      "[1. 0. 0.] <-> [0.9940578  0.00101966 0.00492254]\n",
      "[0. 1. 0.] <-> [6.0672555e-03 9.9391878e-01 1.3929343e-05]\n",
      "[1. 0. 0.] <-> [0.9911942  0.00724958 0.00155633]\n",
      "[1. 0. 0.] <-> [0.9862781  0.00099821 0.0127237 ]\n",
      "[1. 0. 0.] <-> [0.9963825  0.00123375 0.0023838 ]\n",
      "[1. 0. 0.] <-> [0.99697256 0.00140313 0.00162424]\n",
      "[0. 1. 0.] <-> [6.0672555e-03 9.9391878e-01 1.3929782e-05]\n",
      "[0. 1. 0.] <-> [3.9203744e-02 9.6071678e-01 7.9532882e-05]\n",
      "[1. 0. 0.] <-> [0.98913175 0.00781295 0.00305521]\n",
      "[1. 0. 0.] <-> [0.9943752  0.00438618 0.00123855]\n",
      "[0. 0. 1.] <-> [9.5558725e-03 9.6182812e-06 9.9043453e-01]\n",
      "[1. 0. 0.] <-> [0.9893637  0.00101029 0.00962596]\n",
      "[1. 0. 0.] <-> [0.99600583 0.00233435 0.00165994]\n",
      "[1. 0. 0.] <-> [0.9611441  0.03746833 0.00138757]\n",
      "[1. 0. 0.] <-> [0.9961842  0.00231637 0.00149938]\n",
      "[0. 1. 0.] <-> [1.3696069e-01 8.6278534e-01 2.5402309e-04]\n",
      "[0. 0. 1.] <-> [1.0737340e-02 1.0819675e-05 9.8925179e-01]\n",
      "[1. 0. 0.] <-> [0.99595034 0.00291589 0.00113374]\n",
      "[1. 0. 0.] <-> [0.9972409  0.00125622 0.00150294]\n",
      "[1. 0. 0.] <-> [0.7764764  0.22230354 0.00122009]\n",
      "[1. 0. 0.] <-> [0.99747074 0.0010223  0.001507  ]\n",
      "[1. 0. 0.] <-> [0.9971204  0.00153419 0.00134542]\n",
      "[1. 0. 0.] <-> [0.9969355  0.00167912 0.00138536]\n",
      "[1. 0. 0.] <-> [0.9970095  0.00149868 0.00149169]\n",
      "[1. 0. 0.] <-> [0.99634093 0.00187318 0.00178591]\n",
      "[0. 1. 0.] <-> [1.7561711e-02 9.8239923e-01 3.9028459e-05]\n",
      "[1. 0. 0.] <-> [0.5058127  0.00056823 0.49361905]\n",
      "[1. 0. 0.] <-> [0.97696656 0.00105514 0.02197826]\n",
      "[0. 1. 0.] <-> [1.2991608e-02 9.8697996e-01 2.8489880e-05]\n",
      "[1. 0. 0.] <-> [0.9954254  0.00151533 0.00305925]\n",
      "[1. 0. 0.] <-> [0.9965604  0.00112227 0.00231734]\n",
      "[1. 0. 0.] <-> [0.9965314  0.00225425 0.00121439]\n",
      "[1. 0. 0.] <-> [0.9920642  0.00591651 0.00201929]\n",
      "[0. 1. 0.] <-> [6.0889181e-03 9.9389714e-01 1.4012177e-05]\n",
      "[1. 0. 0.] <-> [0.83011067 0.00086133 0.16902801]\n",
      "[1. 0. 0.] <-> [0.5055995  0.49340075 0.00099974]\n",
      "[0. 1. 0.] <-> [6.0672555e-03 9.9391878e-01 1.3933064e-05]\n",
      "[0. 0. 1.] <-> [5.9065190e-03 5.9450626e-06 9.9408758e-01]\n",
      "[0. 0. 1.] <-> [1.3919832e-02 1.4010715e-05 9.8606616e-01]\n",
      "[1. 0. 0.] <-> [0.9967553  0.00138719 0.00185754]\n",
      "[0. 1. 0.] <-> [6.9223666e-03 9.9306148e-01 1.6073562e-05]\n",
      "[0. 1. 0.] <-> [1.3538536e-02 9.8643190e-01 2.9522736e-05]\n",
      "[1. 0. 0.] <-> [0.9958372  0.0025716  0.00159127]\n",
      "[1. 0. 0.] <-> [0.9971674  0.00110349 0.00172909]\n",
      "[1. 0. 0.] <-> [0.99440104 0.00137549 0.00422349]\n",
      "[1. 0. 0.] <-> [0.8574169  0.00087329 0.14170973]\n",
      "[0. 0. 1.] <-> [9.6220467e-03 9.7806524e-06 9.9036825e-01]\n",
      "[0. 1. 0.] <-> [6.0980278e-03 9.9388784e-01 1.4144696e-05]\n",
      "[0. 0. 1.] <-> [5.907510e-03 5.946412e-06 9.940865e-01]\n",
      "[1. 0. 0.] <-> [0.9962025  0.00258431 0.00121321]\n",
      "[1. 0. 0.] <-> [0.9934634  0.00100782 0.00552879]\n",
      "[1. 0. 0.] <-> [0.9876758  0.01103815 0.00128602]\n",
      "[1. 0. 0.] <-> [0.9945326  0.00400257 0.00146475]\n",
      "[1. 0. 0.] <-> [0.9925869  0.00252142 0.00489167]\n",
      "[1. 0. 0.] <-> [0.99610764 0.00141802 0.00247432]\n",
      "[1. 0. 0.] <-> [0.9973955  0.00113922 0.00146526]\n",
      "[1. 0. 0.] <-> [0.997081   0.00117569 0.00174335]\n",
      "[1. 0. 0.] <-> [0.9677435  0.00107802 0.0311784 ]\n",
      "[1. 0. 0.] <-> [0.9967595  0.00189688 0.00134364]\n",
      "[1. 0. 0.] <-> [0.9604153  0.00116873 0.03841595]\n",
      "[1. 0. 0.] <-> [0.99516594 0.0035971  0.00123702]\n",
      "{'accuracy': 0.9691358024691358, 'mean_square_error': 0.06859476341796078, 'categorical_crossentropy': 0.10923144552442762, 'essential_metrics': {0: {'tp_hit': 75, 'fp_hit': 2, 'tn_hit': 28, 'fn_hit': 3}, 1: {'tp_hit': 16, 'fp_hit': 2, 'tn_hit': 90, 'fn_hit': 0}, 2: {'tp_hit': 12, 'fp_hit': 1, 'tn_hit': 93, 'fn_hit': 2}}}\n"
     ]
    }
   ],
   "source": [
    "# recall phase\n",
    "score = model.evaluate(x_test, y_test, False)\n",
    "print(score)"
   ]
  },
  {
   "cell_type": "code",
   "execution_count": 11,
   "metadata": {},
   "outputs": [
    {
     "data": {
      "image/png": "[encoded data removed]",
      "text/plain": [
       "<Figure size 864x360 with 1 Axes>"
      ]
     },
     "metadata": {
      "needs_background": "light"
     },
     "output_type": "display_data"
    },
    {
     "data": {
      "image/png": "[encoded data removed]",
      "text/plain": [
       "<Figure size 864x360 with 1 Axes>"
      ]
     },
     "metadata": {
      "needs_background": "light"
     },
     "output_type": "display_data"
    }
   ],
   "source": [
    "draw_plot(x = [[i for i in range(len(history))], [(i+1)*breakpoint for i in range(len(checkpoints))]], y_list = [history, [ ckp[model.loss_fn] for ckp in checkpoints ]], x_label = 'Epochs', \\\n",
    "    y_label = model.loss_fn, legend=['train', 'test'])\n",
    "acc = [ ckp['accuracy'] for ckp in checkpoints ]\n",
    "draw_plot(x = [[(i+1)*breakpoint for i in range(len(checkpoints))]], y_list = [acc], x_label = 'Checkpoints', \\\n",
    "    y_label = 'accuracy')"
   ]
  },
  {
   "cell_type": "code",
   "execution_count": 12,
   "metadata": {},
   "outputs": [
    {
     "name": "stdout",
     "output_type": "stream",
     "text": [
      "{'accuracy': 0.9629629629629629, 'mean_square_error': 0.10911132060907869, 'categorical_crossentropy': 0.2310713662041558, 'essential_metrics': {0: {'tp_hit': 77, 'fp_hit': 5, 'tn_hit': 25, 'fn_hit': 1}, 1: {'tp_hit': 16, 'fp_hit': 1, 'tn_hit': 91, 'fn_hit': 0}, 2: {'tp_hit': 9, 'fp_hit': 0, 'tn_hit': 94, 'fn_hit': 5}}, 'checkpoint': 100} \n",
      "\n",
      "\n",
      "{'accuracy': 0.9629629629629629, 'mean_square_error': 0.06208598342349039, 'categorical_crossentropy': 0.09753591926009567, 'essential_metrics': {0: {'tp_hit': 75, 'fp_hit': 3, 'tn_hit': 27, 'fn_hit': 3}, 1: {'tp_hit': 15, 'fp_hit': 2, 'tn_hit': 90, 'fn_hit': 1}, 2: {'tp_hit': 12, 'fp_hit': 1, 'tn_hit': 93, 'fn_hit': 2}}, 'checkpoint': 200} \n",
      "\n",
      "\n",
      "{'accuracy': 0.9691358024691358, 'mean_square_error': 0.06652505675593504, 'categorical_crossentropy': 0.10626019371880426, 'essential_metrics': {0: {'tp_hit': 75, 'fp_hit': 2, 'tn_hit': 28, 'fn_hit': 3}, 1: {'tp_hit': 16, 'fp_hit': 2, 'tn_hit': 90, 'fn_hit': 0}, 2: {'tp_hit': 12, 'fp_hit': 1, 'tn_hit': 93, 'fn_hit': 2}}, 'checkpoint': 300} \n",
      "\n",
      "\n",
      "{'accuracy': 0.9691358024691358, 'mean_square_error': 0.06567798918489215, 'categorical_crossentropy': 0.10543448836715133, 'essential_metrics': {0: {'tp_hit': 75, 'fp_hit': 2, 'tn_hit': 28, 'fn_hit': 3}, 1: {'tp_hit': 16, 'fp_hit': 2, 'tn_hit': 90, 'fn_hit': 0}, 2: {'tp_hit': 12, 'fp_hit': 1, 'tn_hit': 93, 'fn_hit': 2}}, 'checkpoint': 400} \n",
      "\n",
      "\n",
      "{'accuracy': 0.9691358024691358, 'mean_square_error': 0.06859476341796078, 'categorical_crossentropy': 0.10923144552442762, 'essential_metrics': {0: {'tp_hit': 75, 'fp_hit': 2, 'tn_hit': 28, 'fn_hit': 3}, 1: {'tp_hit': 16, 'fp_hit': 2, 'tn_hit': 90, 'fn_hit': 0}, 2: {'tp_hit': 12, 'fp_hit': 1, 'tn_hit': 93, 'fn_hit': 2}}, 'checkpoint': 500} \n",
      "\n",
      "\n"
     ]
    }
   ],
   "source": [
    "for checkpoint in checkpoints:\n",
    "    print(checkpoint, '\\n\\n')"
   ]
  },
  {
   "cell_type": "code",
   "execution_count": 13,
   "metadata": {},
   "outputs": [
    {
     "name": "stdout",
     "output_type": "stream",
     "text": [
      "Layer 1\n",
      "Neuron 0: weights:\n",
      "[ 0.07806207  3.          0.12597172 -0.79801625 -3.        ]\n",
      " bias: 2.5824530124664307\n",
      "\n",
      "Neuron 1: weights:\n",
      "[ 2.034105  -3.        -3.         0.6938545  1.493619 ]\n",
      " bias: 3.0\n",
      "\n",
      "Neuron 2: weights:\n",
      "[-0.16250578 -3.          0.08764505  1.459433    3.        ]\n",
      " bias: -2.3631505966186523\n",
      "\n",
      "Neuron 3: weights:\n",
      "[ 2.0730643 -3.        -3.         1.1276661  1.2424327]\n",
      " bias: 3.0\n",
      "\n",
      "$\n",
      "Layer 2\n",
      "Neuron 0: weights:\n",
      "[ 3.  3. -3.  3.]\n",
      " bias: -2.0987493991851807\n",
      "\n",
      "Neuron 1: weights:\n",
      "[ 3. -3. -3. -3.]\n",
      " bias: 3.0\n",
      "\n",
      "Neuron 2: weights:\n",
      "[-3.        2.202449  3.        3.      ]\n",
      " bias: -2.175429105758667\n",
      "\n",
      "$\n",
      "\n"
     ]
    }
   ],
   "source": [
    "print(model)"
   ]
  }
 ],
 "metadata": {
  "kernelspec": {
   "display_name": "Python 3",
   "language": "python",
   "name": "python3"
  },
  "language_info": {
   "codemirror_mode": {
    "name": "ipython",
    "version": 3
   },
   "file_extension": ".py",
   "mimetype": "text/x-python",
   "name": "python",
   "nbconvert_exporter": "python",
   "pygments_lexer": "ipython3",
   "version": "3.6.10"
  }
 },
 "nbformat": 4,
 "nbformat_minor": 2
}
