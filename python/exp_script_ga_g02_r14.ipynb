{
 "cells": [
  {
   "cell_type": "code",
   "execution_count": 1,
   "metadata": {},
   "outputs": [],
   "source": [
    "# single"
   ]
  },
  {
   "cell_type": "code",
   "execution_count": 2,
   "metadata": {},
   "outputs": [],
   "source": [
    "# dependency\n",
    "import numpy as np\n",
    "import pandas as pd\n",
    "import copy\n",
    "import math\n",
    "import sys\n",
    "import os\n",
    "from activations import relu, leaky_relu, sigmoid, tanh, softmax, d_sigmoid, d_relu\n",
    "from initializers import glorot_uniform, random_normal, random_uniform\n",
    "from regularizers import l1_regularizer, l2_regularizer\n",
    "from utility import trim_tail, multiply, subtract, get_nparams, one_hot_encoding, get_data\n",
    "from metrics import MSE, CCE, ACC, PRECISION, RECALL, essential_metrics, wondering_penalty, close_gap_penalty\n",
    "from pso import PSO\n",
    "from ga import GA\n",
    "from nn import Network\n",
    "from layer import DenseLayer\n",
    "from scalers import MinMaxScaler, StandardScaler"
   ]
  },
  {
   "cell_type": "code",
   "execution_count": 3,
   "metadata": {},
   "outputs": [],
   "source": [
    "# reference\n",
    "metrics_fn_dict = dict()\n",
    "metrics_fn_dict['accuracy'] = ACC\n",
    "metrics_fn_dict['categorical_crossentropy'] = CCE\n",
    "metrics_fn_dict['mean_square_error'] = MSE\n",
    "metrics_fn_dict['precision'] = PRECISION\n",
    "metrics_fn_dict['recall'] = RECALL\n",
    "metrics_fn_dict['essential_metrics'] = essential_metrics"
   ]
  },
  {
   "cell_type": "code",
   "execution_count": 4,
   "metadata": {},
   "outputs": [],
   "source": [
    "# model\n",
    "model = Network(5, lr = None)\n",
    "model.add_layer(DenseLayer(1, 4, True, afn=sigmoid, dafn=None, rfn=None))\n",
    "model.add_layer(DenseLayer(2, 3, True, afn=softmax, dafn=None, rfn=None))"
   ]
  },
  {
   "cell_type": "code",
   "execution_count": 5,
   "metadata": {},
   "outputs": [],
   "source": [
    "# optimizer\n",
    "ga = GA(\n",
    "    dict(\n",
    "        m = 50,\n",
    "        x_rate = [0.5, 1.0],\n",
    "        m_rate = [0.5, 1.0],\n",
    "        weight_constraint = [-3.,3.],\n",
    "        radioactive_rating = [0.1, 0.5],\n",
    "        grow_factor = [0.1, 0.5],\n",
    "        scale_hyperparameter = False,\n",
    "        regularizer = None))"
   ]
  },
  {
   "cell_type": "code",
   "execution_count": 6,
   "metadata": {},
   "outputs": [
    {
     "name": "stdout",
     "output_type": "stream",
     "text": [
      "building layer 1 with 5\n",
      "24\n",
      "building layer 2 with 4\n",
      "15\n"
     ]
    }
   ],
   "source": [
    "model.compile(loss_fn = 'categorical_crossentropy', optimizer = ga, \\\n",
    "    metrics = ['accuracy', 'mean_square_error', 'categorical_crossentropy', 'precision', 'recall', 'f1'])"
   ]
  },
  {
   "cell_type": "code",
   "execution_count": 7,
   "metadata": {},
   "outputs": [
    {
     "name": "stdout",
     "output_type": "stream",
     "text": [
      "<class 'pandas.core.frame.DataFrame'>\n",
      "RangeIndex: 107 entries, 0 to 106\n",
      "Data columns (total 6 columns):\n",
      " #   Column  Non-Null Count  Dtype  \n",
      "---  ------  --------------  -----  \n",
      " 0   f1      107 non-null    float32\n",
      " 1   f2      107 non-null    float32\n",
      " 2   f3      107 non-null    float32\n",
      " 3   f4      107 non-null    float32\n",
      " 4   f5      107 non-null    float32\n",
      " 5   label   107 non-null    float32\n",
      "dtypes: float32(6)\n",
      "memory usage: 2.6 KB\n",
      "None\n",
      "<class 'pandas.core.frame.DataFrame'>\n",
      "RangeIndex: 108 entries, 0 to 107\n",
      "Data columns (total 6 columns):\n",
      " #   Column  Non-Null Count  Dtype  \n",
      "---  ------  --------------  -----  \n",
      " 0   f1      108 non-null    float32\n",
      " 1   f2      108 non-null    float32\n",
      " 2   f3      108 non-null    float32\n",
      " 3   f4      108 non-null    float32\n",
      " 4   f5      108 non-null    float32\n",
      " 5   label   108 non-null    float32\n",
      "dtypes: float32(6)\n",
      "memory usage: 2.7 KB\n",
      "None\n"
     ]
    }
   ],
   "source": [
    "# data loading\n",
    "DATA = os.path.join('c:\\\\Users\\\\tcumi\\\\github_repo\\\\neural-network\\\\', 'dataset')\n",
    "GROUP = 2\n",
    "COLUMNS = ['f1', 'f2', 'f3', 'f4', 'f5', 'label']\n",
    "N_CLASS = 3\n",
    "EPOCHS = 500\n",
    "train_dir, test_dir = \"..//dataset//training_data{}.txt\".format(GROUP), \"..//dataset//testing_data{}.txt\".format(GROUP)\n",
    "train, test = get_data(DATA, train_dir, COLUMNS), get_data(DATA, test_dir, COLUMNS)\n",
    "# shuffle\n",
    "train, test = train.sample(frac=1), test.sample(frac=1)\n",
    "x_train, y_train = train.drop('label', axis=1), train['label']\n",
    "x_test, y_test = test.drop('label', axis=1), test['label']"
   ]
  },
  {
   "cell_type": "code",
   "execution_count": 8,
   "metadata": {},
   "outputs": [],
   "source": [
    "# data scaling and encoding\n",
    "scaler = StandardScaler(['f1', 'f2', 'f3', 'f4', 'f5'])\n",
    "scaler.fit(x_train)\n",
    "x_train = scaler.transform(x_train)\n",
    "x_test = scaler.transform(x_test)\n",
    "y_train = one_hot_encoding(y_train, N_CLASS)\n",
    "y_test = one_hot_encoding(y_test, N_CLASS)"
   ]
  },
  {
   "cell_type": "code",
   "execution_count": 9,
   "metadata": {
    "scrolled": true,
    "tags": [
     "outputPrepend"
    ]
   },
   "outputs": [
    {
     "name": "stderr",
     "output_type": "stream",
     "text": [
      "C:\\Users\\tcumi\\github_repo\\neural-network\\python\\ga.py:201: RuntimeWarning: overflow encountered in add\n",
      "  self.population.sort(key=lambda p: p.fitness + np.random.uniform(-shift, shift, 1), reverse = self.aim)\n"
     ]
    },
    {
     "name": "stdout",
     "output_type": "stream",
     "text": [
      "Checkpoint 100, Accuracy: 0.9382716049382716, Loss: 0.3342993700945819\n",
      "Checkpoint 200, Accuracy: 0.9506172839506173, Loss: 0.2658301106205693\n",
      "Checkpoint 300, Accuracy: 0.9691358024691358, Loss: 0.21662350054140445\n",
      "Checkpoint 400, Accuracy: 0.9753086419753086, Loss: 0.165717707739936\n",
      "Checkpoint 500, Accuracy: 0.9753086419753086, Loss: 0.14249658584594727\n"
     ]
    }
   ],
   "source": [
    "# learning phase\n",
    "breakpoint = 100\n",
    "checkpoints = list()\n",
    "history = list()\n",
    "for century in range(0, EPOCHS, breakpoint):\n",
    "    sub_history = model.fit(x_train, y_train, breakpoint, verbose = 0)\n",
    "    score = model.evaluate(x_test, y_test, False, verbose = 0)\n",
    "    print('Checkpoint {}, Accuracy: {}, Loss: {}'.format(century+breakpoint, score['accuracy'], score[model.loss_fn]))\n",
    "    score['checkpoint'] = century + breakpoint\n",
    "    checkpoints.append(score)\n",
    "    history.extend(sub_history)\n",
    "    itr = century + breakpoint\n",
    "\n",
    "    model.optimizer.rr = model.optimizer.radioactive_rating[1] - (model.optimizer.radioactive_rating[1] - model.optimizer.radioactive_rating[0]) / EPOCHS * (EPOCHS - itr)\n",
    "    model.optimizer.gf = model.optimizer.grow_factor[1] - (model.optimizer.grow_factor[1] - model.optimizer.grow_factor[0]) / EPOCHS * (EPOCHS - itr)\n",
    "    model.optimizer.crossover_rate = model.optimizer.x_rate[1] - (model.optimizer.x_rate[1] - model.optimizer.x_rate[0]) / EPOCHS * (EPOCHS - itr)\n",
    "    model.optimizer.mutation_rate = model.optimizer.m_rate[0] + (model.optimizer.m_rate[1] - model.optimizer.m_rate[0]) / EPOCHS * (EPOCHS - itr)\n",
    "    "
   ]
  },
  {
   "cell_type": "code",
   "execution_count": 10,
   "metadata": {},
   "outputs": [],
   "source": [
    "import matplotlib.pyplot as plt\n",
    "\n",
    "def draw_plot(x, y_list, x_label=None, y_label=None, legend=None, title=None):\n",
    "    fig, ax = plt.subplots(figsize=(12,5))\n",
    "    for xi, yi in zip(x, y_list):\n",
    "        ax.plot(xi, yi)\n",
    "    if x_label is not None and y_label is not None:\n",
    "        ax.set(xlabel=x_label, ylabel=y_label, title='{} VS {}'.format(x_label, y_label))\n",
    "    if legend is not None:\n",
    "        ax.legend(legend)\n",
    "    ax.grid()\n",
    "    plt.show()"
   ]
  },
  {
   "cell_type": "code",
   "execution_count": 11,
   "metadata": {},
   "outputs": [
    {
     "name": "stdout",
     "output_type": "stream",
     "text": [
      "[1. 0. 0.] <-> [0.9307615  0.00149276 0.06774572]\n",
      "[0. 0. 1.] <-> [0.46260166 0.00059069 0.5368077 ]\n",
      "[1. 0. 0.] <-> [0.9593055  0.00253727 0.03815721]\n",
      "[1. 0. 0.] <-> [0.86406416 0.13051485 0.005421  ]\n",
      "[1. 0. 0.] <-> [0.94261247 0.00220226 0.05518524]\n",
      "[0. 0. 1.] <-> [1.0782249e-01 1.6788700e-04 8.9200956e-01]\n",
      "[1. 0. 0.] <-> [0.9807653  0.00552604 0.0137087 ]\n",
      "[1. 0. 0.] <-> [0.97780436 0.00450429 0.01769144]\n",
      "[1. 0. 0.] <-> [0.7929121  0.0013546  0.20573327]\n",
      "[1. 0. 0.] <-> [0.9789473  0.00954559 0.01150719]\n",
      "[1. 0. 0.] <-> [0.94039536 0.05320087 0.00640376]\n",
      "[0. 1. 0.] <-> [3.7059817e-02 9.6272874e-01 2.1144662e-04]\n",
      "[0. 1. 0.] <-> [3.2074358e-02 9.6774399e-01 1.8172871e-04]\n",
      "[1. 0. 0.] <-> [0.9731449  0.02105005 0.00580501]\n",
      "[1. 0. 0.] <-> [0.9782708  0.00393639 0.0177928 ]\n",
      "[0. 1. 0.] <-> [0.24878861 0.7493148  0.00189662]\n",
      "[1. 0. 0.] <-> [0.9774336  0.00330863 0.01925774]\n",
      "[1. 0. 0.] <-> [0.80354315 0.00134931 0.1951075 ]\n",
      "[1. 0. 0.] <-> [0.88637054 0.10957873 0.00405073]\n",
      "[1. 0. 0.] <-> [0.932523   0.0622802  0.00519675]\n",
      "[1. 0. 0.] <-> [0.96671426 0.00208401 0.03120175]\n",
      "[1. 0. 0.] <-> [0.6123536  0.00096919 0.3866772 ]\n",
      "[1. 0. 0.] <-> [0.93929    0.00163725 0.05907276]\n",
      "[1. 0. 0.] <-> [0.98111194 0.00660998 0.01227806]\n",
      "[1. 0. 0.] <-> [0.92824996 0.00151237 0.07023767]\n",
      "[0. 1. 0.] <-> [9.0690784e-02 9.0881807e-01 4.9112434e-04]\n",
      "[0. 0. 1.] <-> [0.68808955 0.00098205 0.3109284 ]\n",
      "[1. 0. 0.] <-> [0.95613647 0.00188493 0.04197863]\n",
      "[0. 0. 1.] <-> [5.1766913e-02 5.9331307e-04 9.4763982e-01]\n",
      "[1. 0. 0.] <-> [0.95128024 0.00206714 0.04665256]\n",
      "[1. 0. 0.] <-> [0.9467852  0.00158822 0.05162655]\n",
      "[1. 0. 0.] <-> [0.9787961  0.0066353  0.01456849]\n",
      "[0. 1. 0.] <-> [0.31325477 0.685321   0.00142425]\n",
      "[1. 0. 0.] <-> [0.94209987 0.00208608 0.05581398]\n",
      "[0. 1. 0.] <-> [1.0938668e-01 8.9005178e-01 5.6154159e-04]\n",
      "[1. 0. 0.] <-> [0.9793479  0.00634025 0.01431197]\n",
      "[0. 1. 0.] <-> [4.7374822e-02 9.5236897e-01 2.5618571e-04]\n",
      "[1. 0. 0.] <-> [0.94742006 0.00201905 0.05056084]\n",
      "[0. 1. 0.] <-> [0.32770112 0.67085665 0.00144222]\n",
      "[1. 0. 0.] <-> [0.9605038  0.00194368 0.0375525 ]\n",
      "[1. 0. 0.] <-> [0.9489702  0.00189987 0.04912996]\n",
      "[1. 0. 0.] <-> [0.9792342  0.00586511 0.0149007 ]\n",
      "[1. 0. 0.] <-> [0.9795914  0.00362058 0.01678803]\n",
      "[1. 0. 0.] <-> [0.9734604  0.00368172 0.02285792]\n",
      "[1. 0. 0.] <-> [0.9644649  0.00444615 0.03108899]\n",
      "[0. 0. 1.] <-> [1.19989805e-01 1.55585294e-04 8.79854620e-01]\n",
      "[0. 0. 1.] <-> [5.1760793e-02 5.9348682e-04 9.4764566e-01]\n",
      "[1. 0. 0.] <-> [0.8863745  0.00128589 0.11233961]\n",
      "[1. 0. 0.] <-> [0.9804879  0.0103236  0.00918855]\n",
      "[1. 0. 0.] <-> [0.9668677  0.00289117 0.03024113]\n",
      "[1. 0. 0.] <-> [0.97356796 0.00343829 0.02299376]\n",
      "[1. 0. 0.] <-> [0.97614586 0.00501055 0.01884358]\n",
      "[1. 0. 0.] <-> [0.81871885 0.00132878 0.17995231]\n",
      "[1. 0. 0.] <-> [0.9165804  0.00170372 0.08171587]\n",
      "[1. 0. 0.] <-> [0.975594   0.00348393 0.02092206]\n",
      "[0. 1. 0.] <-> [3.4272876e-02 9.6553302e-01 1.9409685e-04]\n",
      "[0. 1. 0.] <-> [3.2221183e-02 9.6759576e-01 1.8302699e-04]\n",
      "[1. 0. 0.] <-> [0.968076   0.02471116 0.0072128 ]\n",
      "[0. 0. 1.] <-> [9.4958887e-02 1.2657803e-04 9.0491450e-01]\n",
      "[1. 0. 0.] <-> [0.9814817  0.00564007 0.01287822]\n",
      "[1. 0. 0.] <-> [0.9815663  0.00506403 0.01336962]\n",
      "[1. 0. 0.] <-> [0.94296753 0.05033401 0.00669844]\n",
      "[1. 0. 0.] <-> [0.8622954  0.00200105 0.13570349]\n",
      "[1. 0. 0.] <-> [0.9779026  0.01468017 0.0074172 ]\n",
      "[1. 0. 0.] <-> [0.97949    0.0118946  0.00861549]\n",
      "[0. 1. 0.] <-> [0.7943565  0.20016909 0.00547438]\n",
      "[1. 0. 0.] <-> [0.96655387 0.02675145 0.00669469]\n",
      "[1. 0. 0.] <-> [0.9760441  0.00570567 0.01825028]\n",
      "[1. 0. 0.] <-> [0.977638   0.01232405 0.01003806]\n",
      "[0. 1. 0.] <-> [5.7990581e-02 9.4168836e-01 3.2109575e-04]\n",
      "[1. 0. 0.] <-> [0.8750593  0.12070037 0.00424028]\n",
      "[0. 0. 1.] <-> [9.4226733e-02 1.3105392e-04 9.0564221e-01]\n",
      "[1. 0. 0.] <-> [0.94240576 0.05165041 0.00594383]\n",
      "[1. 0. 0.] <-> [0.9497436  0.00267189 0.04758448]\n",
      "[1. 0. 0.] <-> [0.9802592  0.00344782 0.01629295]\n",
      "[1. 0. 0.] <-> [0.9510556  0.0415062  0.00743814]\n",
      "[0. 1. 0.] <-> [3.3623148e-02 9.6618474e-01 1.9214656e-04]\n",
      "[0. 0. 1.] <-> [6.259088e-02 3.696846e-04 9.370395e-01]\n",
      "[1. 0. 0.] <-> [0.92722946 0.00160611 0.07116444]\n",
      "[1. 0. 0.] <-> [0.9799676  0.00680724 0.0132251 ]\n",
      "[1. 0. 0.] <-> [0.9596438  0.00309597 0.03726024]\n",
      "[0. 0. 1.] <-> [9.7779520e-02 1.2718787e-04 9.0209329e-01]\n",
      "[0. 1. 0.] <-> [3.2636557e-02 9.6717650e-01 1.8685407e-04]\n",
      "[1. 0. 0.] <-> [0.98051226 0.00526804 0.01421972]\n",
      "[0. 0. 1.] <-> [9.6142530e-02 1.2479136e-04 9.0373272e-01]\n",
      "[0. 0. 1.] <-> [9.8444812e-02 1.2779431e-04 9.0142745e-01]\n",
      "[1. 0. 0.] <-> [0.6040603  0.00083953 0.39510018]\n",
      "[1. 0. 0.] <-> [0.7454113  0.00106123 0.25352746]\n",
      "[1. 0. 0.] <-> [0.97983474 0.00737926 0.01278598]\n",
      "[1. 0. 0.] <-> [0.9677644  0.02596322 0.00627241]\n",
      "[1. 0. 0.] <-> [0.9161888  0.00140763 0.08240362]\n",
      "[1. 0. 0.] <-> [0.97484255 0.01210236 0.01305508]\n",
      "[1. 0. 0.] <-> [0.82966185 0.00149592 0.16884226]\n",
      "[1. 0. 0.] <-> [0.9637524  0.00236335 0.03388423]\n",
      "[1. 0. 0.] <-> [0.9794574  0.00686472 0.01367786]\n",
      "[1. 0. 0.] <-> [1.1830775e-01 2.1821288e-04 8.8147408e-01]\n",
      "[1. 0. 0.] <-> [0.9691729  0.00323525 0.02759191]\n",
      "[0. 1. 0.] <-> [0.18468596 0.8144322  0.00088183]\n",
      "[1. 0. 0.] <-> [0.9499395  0.00230513 0.04775532]\n",
      "[1. 0. 0.] <-> [0.65708816 0.00124578 0.34166607]\n",
      "[1. 0. 0.] <-> [0.97506    0.00284856 0.02209138]\n",
      "[1. 0. 0.] <-> [0.96408534 0.00207749 0.03383722]\n",
      "[1. 0. 0.] <-> [0.46382397 0.53397334 0.00220272]\n",
      "[0. 0. 1.] <-> [9.5627457e-02 1.2422807e-04 9.0424836e-01]\n",
      "[1. 0. 0.] <-> [0.96352625 0.00264784 0.03382586]\n",
      "[1. 0. 0.] <-> [0.56630707 0.00075943 0.43293357]\n",
      "[1. 0. 0.] <-> [0.94831216 0.00220197 0.04948588]\n",
      "[1. 0. 0.] <-> [0.91655695 0.00144054 0.08200251]\n",
      "{'accuracy': 0.9753086419753086, 'mean_square_error': 0.07066280521966382, 'categorical_crossentropy': 0.14249658584594727, 'precision': 0.9629629629629629, 'recall': 0.9629629629629629, 'f1': 0.9629629629629629, 'essential_metrics': {0: {'tp_hit': 78, 'fp_hit': 2, 'tn_hit': 26, 'fn_hit': 2}, 1: {'tp_hit': 14, 'fp_hit': 1, 'tn_hit': 92, 'fn_hit': 1}, 2: {'tp_hit': 12, 'fp_hit': 1, 'tn_hit': 94, 'fn_hit': 1}}}\n"
     ]
    }
   ],
   "source": [
    "# recall phase\n",
    "score = model.evaluate(x_test, y_test, False)\n",
    "print(score)"
   ]
  },
  {
   "cell_type": "code",
   "execution_count": 12,
   "metadata": {},
   "outputs": [],
   "source": [
    "# Testing Performance"
   ]
  },
  {
   "cell_type": "code",
   "execution_count": 13,
   "metadata": {},
   "outputs": [
    {
     "data": {
      "image/png": "[encoded data removed]",
      "text/plain": [
       "<Figure size 864x360 with 1 Axes>"
      ]
     },
     "metadata": {
      "needs_background": "light"
     },
     "output_type": "display_data"
    },
    {
     "data": {
      "image/png": "[encoded data removed]",
      "text/plain": [
       "<Figure size 864x360 with 1 Axes>"
      ]
     },
     "metadata": {
      "needs_background": "light"
     },
     "output_type": "display_data"
    }
   ],
   "source": [
    "draw_plot(x = [[i for i in range(len(history))], [(i+1)*breakpoint for i in range(len(checkpoints))]], y_list = [history, [ ckp[model.loss_fn] for ckp in checkpoints ]], x_label = 'Epochs', \\\n",
    "    y_label = model.loss_fn, legend=['train', 'test'])\n",
    "acc = [ ckp['accuracy'] for ckp in checkpoints ]\n",
    "draw_plot(x = [[(i+1)*breakpoint for i in range(len(checkpoints))]], y_list = [acc], x_label = 'Checkpoints', \\\n",
    "    y_label = 'accuracy')"
   ]
  },
  {
   "cell_type": "code",
   "execution_count": 14,
   "metadata": {
    "scrolled": false
   },
   "outputs": [
    {
     "name": "stdout",
     "output_type": "stream",
     "text": [
      "{'accuracy': 0.9382716049382716, 'mean_square_error': 0.17625830727649117, 'categorical_crossentropy': 0.3342993700945819, 'precision': 0.9074074074074074, 'recall': 0.9074074074074074, 'f1': 0.9074074074074074, 'essential_metrics': {0: {'tp_hit': 76, 'fp_hit': 6, 'tn_hit': 22, 'fn_hit': 4}, 1: {'tp_hit': 13, 'fp_hit': 1, 'tn_hit': 92, 'fn_hit': 2}, 2: {'tp_hit': 9, 'fp_hit': 3, 'tn_hit': 92, 'fn_hit': 4}}, 'checkpoint': 100} \n",
      "\n",
      "\n",
      "{'accuracy': 0.9506172839506173, 'mean_square_error': 0.13233059670869649, 'categorical_crossentropy': 0.2658301106205693, 'precision': 0.9259259259259259, 'recall': 0.9259259259259259, 'f1': 0.9259259259259259, 'essential_metrics': {0: {'tp_hit': 78, 'fp_hit': 6, 'tn_hit': 22, 'fn_hit': 2}, 1: {'tp_hit': 13, 'fp_hit': 1, 'tn_hit': 92, 'fn_hit': 2}, 2: {'tp_hit': 9, 'fp_hit': 1, 'tn_hit': 94, 'fn_hit': 4}}, 'checkpoint': 200} \n",
      "\n",
      "\n",
      "{'accuracy': 0.9691358024691358, 'mean_square_error': 0.10034482967064016, 'categorical_crossentropy': 0.21662350054140445, 'precision': 0.9537037037037037, 'recall': 0.9537037037037037, 'f1': 0.9537037037037037, 'essential_metrics': {0: {'tp_hit': 79, 'fp_hit': 4, 'tn_hit': 24, 'fn_hit': 1}, 1: {'tp_hit': 13, 'fp_hit': 0, 'tn_hit': 93, 'fn_hit': 2}, 2: {'tp_hit': 11, 'fp_hit': 1, 'tn_hit': 94, 'fn_hit': 2}}, 'checkpoint': 300} \n",
      "\n",
      "\n",
      "{'accuracy': 0.9753086419753086, 'mean_square_error': 0.07981294297107182, 'categorical_crossentropy': 0.165717707739936, 'precision': 0.9629629629629629, 'recall': 0.9629629629629629, 'f1': 0.9629629629629629, 'essential_metrics': {0: {'tp_hit': 79, 'fp_hit': 3, 'tn_hit': 25, 'fn_hit': 1}, 1: {'tp_hit': 14, 'fp_hit': 0, 'tn_hit': 93, 'fn_hit': 1}, 2: {'tp_hit': 11, 'fp_hit': 1, 'tn_hit': 94, 'fn_hit': 2}}, 'checkpoint': 400} \n",
      "\n",
      "\n",
      "{'accuracy': 0.9753086419753086, 'mean_square_error': 0.07066280521966382, 'categorical_crossentropy': 0.14249658584594727, 'precision': 0.9629629629629629, 'recall': 0.9629629629629629, 'f1': 0.9629629629629629, 'essential_metrics': {0: {'tp_hit': 78, 'fp_hit': 2, 'tn_hit': 26, 'fn_hit': 2}, 1: {'tp_hit': 14, 'fp_hit': 1, 'tn_hit': 92, 'fn_hit': 1}, 2: {'tp_hit': 12, 'fp_hit': 1, 'tn_hit': 94, 'fn_hit': 1}}, 'checkpoint': 500} \n",
      "\n",
      "\n"
     ]
    }
   ],
   "source": [
    "for checkpoint in checkpoints:\n",
    "    print(checkpoint, '\\n\\n')"
   ]
  },
  {
   "cell_type": "code",
   "execution_count": 15,
   "metadata": {},
   "outputs": [
    {
     "name": "stdout",
     "output_type": "stream",
     "text": [
      "Layer 1\n",
      "Neuron 0: weights:\n",
      "[-1.228736    2.7225711  -0.29985148 -0.595819   -2.0124247 ]\n",
      " bias: -0.8337177038192749\n",
      "\n",
      "Neuron 1: weights:\n",
      "[ 0.5122051 -2.1221764 -1.0781925  0.4670113  3.       ]\n",
      " bias: -2.4733879566192627\n",
      "\n",
      "Neuron 2: weights:\n",
      "[ 2.042715  -2.7620664 -2.297197   1.3233259  2.4647312]\n",
      " bias: 2.948272705078125\n",
      "\n",
      "Neuron 3: weights:\n",
      "[ 1.3216201 -3.        -0.9349781  1.7048086 -1.4630429]\n",
      " bias: 2.152631998062134\n",
      "\n",
      "$\n",
      "Layer 2\n",
      "Neuron 0: weights:\n",
      "[-0.86539537 -3.          1.4336919   0.4270096 ]\n",
      " bias: 0.8533416986465454\n",
      "\n",
      "Neuron 1: weights:\n",
      "[ 2.2746542 -2.897196  -3.        -2.1590846]\n",
      " bias: 1.123420238494873\n",
      "\n",
      "Neuron 2: weights:\n",
      "[-2.9712005   2.980241    1.5537014  -0.35751212]\n",
      " bias: -2.2159218788146973\n",
      "\n",
      "$\n",
      "\n"
     ]
    }
   ],
   "source": [
    "print(model)"
   ]
  }
 ],
 "metadata": {
  "kernelspec": {
   "display_name": "Python 3",
   "language": "python",
   "name": "python3"
  },
  "language_info": {
   "codemirror_mode": {
    "name": "ipython",
    "version": 3
   },
   "file_extension": ".py",
   "mimetype": "text/x-python",
   "name": "python",
   "nbconvert_exporter": "python",
   "pygments_lexer": "ipython3",
   "version": "3.6.10"
  }
 },
 "nbformat": 4,
 "nbformat_minor": 2
}
