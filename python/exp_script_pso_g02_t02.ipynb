{
 "cells": [
  {
   "cell_type": "code",
   "execution_count": 1,
   "metadata": {},
   "outputs": [],
   "source": [
    "# dependency\n",
    "import numpy as np\n",
    "import pandas as pd\n",
    "import copy\n",
    "import math\n",
    "import sys\n",
    "import os\n",
    "from activations import relu, leaky_relu, sigmoid, tanh, softmax, d_sigmoid, d_relu\n",
    "from initializers import glorot_uniform, random_normal, random_uniform\n",
    "from regularizers import l1_regularizer, l2_regularizer\n",
    "from utility import trim_tail, multiply, subtract, get_nparams, one_hot_encoding, get_data\n",
    "from metrics import MSE, CCE, ACC, PRECISION, RECALL, essential_metrics, wondering_penalty, close_gap_penalty\n",
    "from pso import PSO\n",
    "from ga import GA\n",
    "from nn import Network\n",
    "from layer import DenseLayer\n",
    "from scalers import MinMaxScaler, StandardScaler"
   ]
  },
  {
   "cell_type": "code",
   "execution_count": 2,
   "metadata": {},
   "outputs": [],
   "source": [
    "# reference\n",
    "metrics_fn_dict = dict()\n",
    "metrics_fn_dict['accuracy'] = ACC\n",
    "metrics_fn_dict['categorical_crossentropy'] = CCE\n",
    "metrics_fn_dict['mean_square_error'] = MSE\n",
    "metrics_fn_dict['precision'] = PRECISION\n",
    "metrics_fn_dict['recall'] = RECALL\n",
    "metrics_fn_dict['essential_metrics'] = essential_metrics"
   ]
  },
  {
   "cell_type": "code",
   "execution_count": 3,
   "metadata": {},
   "outputs": [],
   "source": [
    "# model\n",
    "model = Network(5, lr = None)\n",
    "model.add_layer(DenseLayer(1, 4, True, afn=sigmoid, dafn=None, rfn=None))\n",
    "model.add_layer(DenseLayer(2, 3, True, afn=softmax, dafn=None, rfn=None))"
   ]
  },
  {
   "cell_type": "code",
   "execution_count": 4,
   "metadata": {},
   "outputs": [
    {
     "name": "stdout",
     "output_type": "stream",
     "text": [
      "see one see two 2 2\n"
     ]
    }
   ],
   "source": [
    "pso = PSO(dict(m = 50,\n",
    "    weight_constraint = [-3, 3], \n",
    "    velocity_constraint = [-0.1, 0.1],\n",
    "    c1 = 2,\n",
    "    c2 = 2,\n",
    "    w = 1,\n",
    "    w_decay = 1,\n",
    "    scale_hyperparameter = False,\n",
    "    regularizer = None,\n",
    "    mask = True))"
   ]
  },
  {
   "cell_type": "code",
   "execution_count": 5,
   "metadata": {},
   "outputs": [
    {
     "name": "stdout",
     "output_type": "stream",
     "text": [
      "building layer 1 with 5\n",
      "24\n",
      "building layer 2 with 4\n",
      "15\n"
     ]
    }
   ],
   "source": [
    "model.compile(loss_fn = 'categorical_crossentropy', optimizer = pso, \\\n",
    "    metrics = ['accuracy', 'mean_square_error', 'categorical_crossentropy'])"
   ]
  },
  {
   "cell_type": "code",
   "execution_count": 6,
   "metadata": {},
   "outputs": [
    {
     "name": "stdout",
     "output_type": "stream",
     "text": [
      "<class 'pandas.core.frame.DataFrame'>\n",
      "RangeIndex: 107 entries, 0 to 106\n",
      "Data columns (total 6 columns):\n",
      " #   Column  Non-Null Count  Dtype  \n",
      "---  ------  --------------  -----  \n",
      " 0   f1      107 non-null    float32\n",
      " 1   f2      107 non-null    float32\n",
      " 2   f3      107 non-null    float32\n",
      " 3   f4      107 non-null    float32\n",
      " 4   f5      107 non-null    float32\n",
      " 5   label   107 non-null    float32\n",
      "dtypes: float32(6)\n",
      "memory usage: 2.6 KB\n",
      "None\n",
      "<class 'pandas.core.frame.DataFrame'>\n",
      "RangeIndex: 108 entries, 0 to 107\n",
      "Data columns (total 6 columns):\n",
      " #   Column  Non-Null Count  Dtype  \n",
      "---  ------  --------------  -----  \n",
      " 0   f1      108 non-null    float32\n",
      " 1   f2      108 non-null    float32\n",
      " 2   f3      108 non-null    float32\n",
      " 3   f4      108 non-null    float32\n",
      " 4   f5      108 non-null    float32\n",
      " 5   label   108 non-null    float32\n",
      "dtypes: float32(6)\n",
      "memory usage: 2.7 KB\n",
      "None\n"
     ]
    }
   ],
   "source": [
    "# data loading\n",
    "DATA = os.path.join('c:\\\\Users\\\\tcumi\\\\github_repo\\\\neural-network\\\\', 'dataset')\n",
    "GROUP = 2\n",
    "COLUMNS = ['f1', 'f2', 'f3', 'f4', 'f5', 'label']\n",
    "N_CLASS = 3\n",
    "EPOCHS = 500\n",
    "train_dir, test_dir = \"..//dataset//training_data{}.txt\".format(GROUP), \"..//dataset//testing_data{}.txt\".format(GROUP)\n",
    "train, test = get_data(DATA, train_dir, COLUMNS), get_data(DATA, test_dir, COLUMNS)\n",
    "# shuffle\n",
    "train, test = train.sample(frac=1), test.sample(frac=1)\n",
    "x_train, y_train = train.drop('label', axis=1), train['label']\n",
    "x_test, y_test = test.drop('label', axis=1), test['label']"
   ]
  },
  {
   "cell_type": "code",
   "execution_count": 7,
   "metadata": {},
   "outputs": [],
   "source": [
    "# data scaling and encoding\n",
    "scaler = StandardScaler(['f1', 'f2', 'f3', 'f4', 'f5'])\n",
    "scaler.fit(x_train)\n",
    "x_train = scaler.transform(x_train)\n",
    "x_test = scaler.transform(x_test)\n",
    "y_train = one_hot_encoding(y_train, N_CLASS)\n",
    "y_test = one_hot_encoding(y_test, N_CLASS)"
   ]
  },
  {
   "cell_type": "code",
   "execution_count": 8,
   "metadata": {
    "tags": [
     "outputPrepend"
    ]
   },
   "outputs": [
    {
     "name": "stdout",
     "output_type": "stream",
     "text": [
      "Checkpoint 100, Accuracy: 0.9691358024691358, Loss: 0.2756278603165238\n",
      "Checkpoint 200, Accuracy: 0.9691358024691358, Loss: 0.12731839992381908\n",
      "Checkpoint 300, Accuracy: 0.9691358024691358, Loss: 0.10599251146669741\n",
      "Checkpoint 400, Accuracy: 0.9691358024691358, Loss: 0.10581008593241374\n",
      "Checkpoint 500, Accuracy: 0.9691358024691358, Loss: 0.10517949528164333\n"
     ]
    }
   ],
   "source": [
    "# learning phase\n",
    "breakpoint = 100\n",
    "checkpoints = list()\n",
    "history = list()\n",
    "for century in range(0, EPOCHS, breakpoint):\n",
    "    sub_history = model.fit(x_train, y_train, breakpoint, verbose = 0)\n",
    "    score = model.evaluate(x_test, y_test, False, verbose = 0)\n",
    "    print('Checkpoint {}, Accuracy: {}, Loss: {}'.format(century+breakpoint, score['accuracy'], score[model.loss_fn]))\n",
    "    score['checkpoint'] = century + breakpoint\n",
    "    checkpoints.append(score)\n",
    "    history.extend(sub_history)"
   ]
  },
  {
   "cell_type": "code",
   "execution_count": 9,
   "metadata": {},
   "outputs": [],
   "source": [
    "import matplotlib.pyplot as plt\n",
    "\n",
    "def draw_plot(x, y_list, x_label=None, y_label=None, legend=None, title=None):\n",
    "    fig, ax = plt.subplots(figsize=(12,5))\n",
    "    for xi, yi in zip(x, y_list):\n",
    "        ax.plot(xi, yi)\n",
    "    if x_label is not None and y_label is not None:\n",
    "        ax.set(xlabel=x_label, ylabel=y_label, title='{} VS {}'.format(x_label, y_label))\n",
    "    if legend is not None:\n",
    "        ax.legend(legend)\n",
    "    ax.grid()\n",
    "    plt.show()"
   ]
  },
  {
   "cell_type": "code",
   "execution_count": 10,
   "metadata": {},
   "outputs": [
    {
     "name": "stdout",
     "output_type": "stream",
     "text": [
      "[1. 0. 0.] <-> [0.9222933  0.0765422  0.00116456]\n",
      "[1. 0. 0.] <-> [0.99489623 0.00392369 0.00118008]\n",
      "[0. 0. 1.] <-> [5.6881979e-03 1.5345842e-05 9.9429649e-01]\n",
      "[1. 0. 0.] <-> [0.9957312  0.00146434 0.00280453]\n",
      "[1. 0. 0.] <-> [0.9969704  0.00139998 0.00162954]\n",
      "[1. 0. 0.] <-> [0.99639565 0.00237558 0.00122877]\n",
      "[1. 0. 0.] <-> [0.99406636 0.0012751  0.0046585 ]\n",
      "[1. 0. 0.] <-> [0.99611485 0.00267961 0.00120546]\n",
      "[1. 0. 0.] <-> [0.9922632  0.00122085 0.006516  ]\n",
      "[1. 0. 0.] <-> [0.99620193 0.00113855 0.0026596 ]\n",
      "[0. 0. 1.] <-> [5.6217099e-03 1.5180447e-05 9.9436307e-01]\n",
      "[0. 0. 1.] <-> [5.6223874e-03 1.5182117e-05 9.9436247e-01]\n",
      "[1. 0. 0.] <-> [0.9964412  0.00231882 0.00124   ]\n",
      "[0. 1. 0.] <-> [9.9334773e-03 9.9005568e-01 1.0821798e-05]\n",
      "[1. 0. 0.] <-> [0.99709153 0.00133051 0.00157793]\n",
      "[0. 1. 0.] <-> [6.0501592e-03 9.9394315e-01 6.5777399e-06]\n",
      "[1. 0. 0.] <-> [0.9968539  0.00170637 0.00143978]\n",
      "[1. 0. 0.] <-> [0.95095724 0.00190662 0.04713613]\n",
      "[0. 0. 1.] <-> [5.6551490e-03 1.5262067e-05 9.9432963e-01]\n",
      "[0. 1. 0.] <-> [0.7145143  0.2847068  0.00077883]\n",
      "[0. 0. 1.] <-> [1.07683174e-01 2.46381824e-04 8.92070472e-01]\n",
      "[1. 0. 0.] <-> [0.99473166 0.00139443 0.0038739 ]\n",
      "[1. 0. 0.] <-> [0.99449533 0.00152781 0.00397683]\n",
      "[1. 0. 0.] <-> [3.1467324e-01 6.6459953e-04 6.8466216e-01]\n",
      "[0. 0. 1.] <-> [0.60394    0.00097355 0.39508647]\n",
      "[1. 0. 0.] <-> [0.99446493 0.0014468  0.00408831]\n",
      "[0. 1. 0.] <-> [1.0657116e-02 9.8933113e-01 1.1816268e-05]\n",
      "[1. 0. 0.] <-> [0.9911793  0.00121058 0.00761024]\n",
      "[1. 0. 0.] <-> [0.86682    0.00137563 0.13180435]\n",
      "[1. 0. 0.] <-> [0.99482095 0.00143984 0.0037392 ]\n",
      "[1. 0. 0.] <-> [0.9971085  0.0013538  0.00153773]\n",
      "[1. 0. 0.] <-> [0.99325174 0.00132418 0.0054241 ]\n",
      "[1. 0. 0.] <-> [0.5788329  0.00110302 0.42006406]\n",
      "[1. 0. 0.] <-> [0.99674183 0.0019794  0.00127875]\n",
      "[1. 0. 0.] <-> [0.9917619  0.00129178 0.00694636]\n",
      "[0. 0. 1.] <-> [6.8497062e-03 1.8223331e-05 9.9313205e-01]\n",
      "[1. 0. 0.] <-> [0.9968098  0.00189423 0.00129601]\n",
      "[0. 0. 1.] <-> [5.6216912e-03 1.5180390e-05 9.9436307e-01]\n",
      "[0. 0. 1.] <-> [5.6216912e-03 1.5180390e-05 9.9436307e-01]\n",
      "[0. 1. 0.] <-> [3.6073226e-01 6.3887328e-01 3.9448863e-04]\n",
      "[1. 0. 0.] <-> [0.9957552  0.0027225  0.00152238]\n",
      "[1. 0. 0.] <-> [0.9915936  0.00731591 0.00109044]\n",
      "[1. 0. 0.] <-> [0.99338704 0.00120873 0.00540429]\n",
      "[1. 0. 0.] <-> [0.9963313  0.00254944 0.00111926]\n",
      "[0. 1. 0.] <-> [2.5982177e-01 7.3987877e-01 2.9941334e-04]\n",
      "[1. 0. 0.] <-> [0.987559   0.01128326 0.00115768]\n",
      "[1. 0. 0.] <-> [0.9697983  0.00130264 0.02889901]\n",
      "[0. 1. 0.] <-> [5.8068214e-03 9.9418688e-01 6.3341304e-06]\n",
      "[1. 0. 0.] <-> [0.9918567  0.00695888 0.00118439]\n",
      "[1. 0. 0.] <-> [0.9449328  0.00132689 0.05374037]\n",
      "[0. 0. 1.] <-> [5.6242906e-03 1.5186966e-05 9.9436051e-01]\n",
      "[1. 0. 0.] <-> [0.9931601  0.0013758  0.00546402]\n",
      "[1. 0. 0.] <-> [0.9105735  0.00128503 0.08814156]\n",
      "[1. 0. 0.] <-> [0.9968732  0.00155514 0.00157179]\n",
      "[1. 0. 0.] <-> [1.5752839e-02 3.9736686e-05 9.8420745e-01]\n",
      "[1. 0. 0.] <-> [0.99691653 0.00154537 0.00153805]\n",
      "[1. 0. 0.] <-> [0.9971718  0.00128812 0.00154007]\n",
      "[0. 1. 0.] <-> [7.6034917e-03 9.9238813e-01 8.3827772e-06]\n",
      "[1. 0. 0.] <-> [0.98746955 0.00133746 0.01119298]\n",
      "[1. 0. 0.] <-> [0.9959776  0.00153343 0.00248906]\n",
      "[1. 0. 0.] <-> [0.99592835 0.00187984 0.00219179]\n",
      "[0. 1. 0.] <-> [3.0156838e-02 9.6981031e-01 3.2881693e-05]\n",
      "[0. 1. 0.] <-> [1.1687066e-01 8.8300180e-01 1.2754514e-04]\n",
      "[0. 1. 0.] <-> [5.7733101e-03 9.9422026e-01 6.3609182e-06]\n",
      "[1. 0. 0.] <-> [0.9967739  0.00130815 0.00191796]\n",
      "[0. 0. 1.] <-> [5.8680545e-03 1.5827638e-05 9.9411607e-01]\n",
      "[1. 0. 0.] <-> [0.9944788  0.00130366 0.00421742]\n",
      "[1. 0. 0.] <-> [3.9099720e-01 6.0855716e-01 4.4564300e-04]\n",
      "[1. 0. 0.] <-> [0.9973519  0.00129622 0.00135193]\n",
      "[1. 0. 0.] <-> [0.957942   0.00131348 0.04074448]\n",
      "[1. 0. 0.] <-> [0.9790685  0.00137654 0.01955503]\n",
      "[1. 0. 0.] <-> [0.99733967 0.00136478 0.00129555]\n",
      "[1. 0. 0.] <-> [0.99717987 0.00130113 0.00151894]\n",
      "[1. 0. 0.] <-> [0.99599    0.00215491 0.00185518]\n",
      "[1. 0. 0.] <-> [0.99575835 0.00140016 0.00284147]\n",
      "[1. 0. 0.] <-> [0.9797426  0.00136019 0.01889718]\n",
      "[1. 0. 0.] <-> [0.9932628  0.00119905 0.00553809]\n",
      "[1. 0. 0.] <-> [0.996995   0.00170096 0.001304  ]\n",
      "[1. 0. 0.] <-> [0.99626935 0.00120954 0.00252116]\n",
      "[1. 0. 0.] <-> [0.9565186  0.04232977 0.00115164]\n",
      "[1. 0. 0.] <-> [0.9950783  0.00136643 0.0035552 ]\n",
      "[1. 0. 0.] <-> [0.996579   0.00218086 0.0012402 ]\n",
      "[1. 0. 0.] <-> [0.8900085  0.00148364 0.10850777]\n",
      "[1. 0. 0.] <-> [0.99646544 0.00194588 0.00158869]\n",
      "[1. 0. 0.] <-> [0.995076   0.0012257  0.00369831]\n",
      "[0. 1. 0.] <-> [5.7850573e-03 9.9420869e-01 6.2912604e-06]\n",
      "[1. 0. 0.] <-> [0.86860526 0.00139691 0.12999782]\n",
      "[0. 1. 0.] <-> [5.9589813e-03 9.9403447e-01 6.5005943e-06]\n",
      "[1. 0. 0.] <-> [0.99678975 0.00145549 0.00175469]\n",
      "[0. 1. 0.] <-> [1.8166969e-02 9.8181283e-01 2.0122321e-05]\n",
      "[1. 0. 0.] <-> [0.9963282  0.00127714 0.00239466]\n",
      "[1. 0. 0.] <-> [0.99624497 0.00123826 0.00251678]\n",
      "[0. 0. 1.] <-> [5.6217690e-03 1.5180592e-05 9.9436307e-01]\n",
      "[1. 0. 0.] <-> [0.9956786  0.00127613 0.00304535]\n",
      "[1. 0. 0.] <-> [0.99662244 0.00113127 0.00224624]\n",
      "[1. 0. 0.] <-> [0.9922621  0.00127249 0.0064653 ]\n",
      "[1. 0. 0.] <-> [0.9906034  0.00738796 0.00200852]\n",
      "[1. 0. 0.] <-> [0.9964986  0.0022831  0.00121831]\n",
      "[1. 0. 0.] <-> [0.9949338  0.00381528 0.0012509 ]\n",
      "[0. 0. 1.] <-> [5.8866595e-03 1.5846086e-05 9.9409747e-01]\n",
      "[1. 0. 0.] <-> [0.9964637  0.00150261 0.0020337 ]\n",
      "[0. 1. 0.] <-> [5.7853665e-03 9.9420834e-01 6.2889603e-06]\n",
      "[1. 0. 0.] <-> [0.99645126 0.00243437 0.0011143 ]\n",
      "[1. 0. 0.] <-> [0.9815469  0.00143056 0.0170225 ]\n",
      "[1. 0. 0.] <-> [0.9901426  0.00870468 0.00115274]\n",
      "[1. 0. 0.] <-> [0.99714005 0.00160262 0.00125733]\n",
      "[1. 0. 0.] <-> [0.95635897 0.00155679 0.04208424]\n",
      "[1. 0. 0.] <-> [0.9895866  0.00124434 0.00916906]\n",
      "{'accuracy': 0.9691358024691358, 'mean_square_error': 0.05855185540010285, 'categorical_crossentropy': 0.10517949528164333, 'essential_metrics': {0: {'tp_hit': 77, 'fp_hit': 2, 'tn_hit': 26, 'fn_hit': 3}, 1: {'tp_hit': 14, 'fp_hit': 1, 'tn_hit': 92, 'fn_hit': 1}, 2: {'tp_hit': 12, 'fp_hit': 2, 'tn_hit': 93, 'fn_hit': 1}}}\n"
     ]
    }
   ],
   "source": [
    "# recall phase\n",
    "score = model.evaluate(x_test, y_test, False)\n",
    "print(score)"
   ]
  },
  {
   "cell_type": "code",
   "execution_count": 11,
   "metadata": {},
   "outputs": [
    {
     "data": {
      "image/png": "[encoded data removed]",
      "text/plain": [
       "<Figure size 864x360 with 1 Axes>"
      ]
     },
     "metadata": {
      "needs_background": "light"
     },
     "output_type": "display_data"
    },
    {
     "data": {
      "image/png": "[encoded data removed]",
      "text/plain": [
       "<Figure size 864x360 with 1 Axes>"
      ]
     },
     "metadata": {
      "needs_background": "light"
     },
     "output_type": "display_data"
    }
   ],
   "source": [
    "draw_plot(x = [[i for i in range(len(history))], [(i+1)*breakpoint for i in range(len(checkpoints))]], y_list = [history, [ ckp[model.loss_fn] for ckp in checkpoints ]], x_label = 'Epochs', \\\n",
    "    y_label = model.loss_fn, legend=['train', 'test'])\n",
    "acc = [ ckp['accuracy'] for ckp in checkpoints ]\n",
    "draw_plot(x = [[(i+1)*breakpoint for i in range(len(checkpoints))]], y_list = [acc], x_label = 'Checkpoints', \\\n",
    "    y_label = 'accuracy')"
   ]
  },
  {
   "cell_type": "code",
   "execution_count": 12,
   "metadata": {},
   "outputs": [
    {
     "name": "stdout",
     "output_type": "stream",
     "text": [
      "{'accuracy': 0.9691358024691358, 'mean_square_error': 0.12471548085033703, 'categorical_crossentropy': 0.2756278603165238, 'essential_metrics': {0: {'tp_hit': 79, 'fp_hit': 4, 'tn_hit': 24, 'fn_hit': 1}, 1: {'tp_hit': 14, 'fp_hit': 1, 'tn_hit': 92, 'fn_hit': 1}, 2: {'tp_hit': 10, 'fp_hit': 0, 'tn_hit': 95, 'fn_hit': 3}}, 'checkpoint': 100} \n",
      "\n",
      "\n",
      "{'accuracy': 0.9691358024691358, 'mean_square_error': 0.07003193302668886, 'categorical_crossentropy': 0.12731839992381908, 'essential_metrics': {0: {'tp_hit': 78, 'fp_hit': 3, 'tn_hit': 25, 'fn_hit': 2}, 1: {'tp_hit': 14, 'fp_hit': 1, 'tn_hit': 92, 'fn_hit': 1}, 2: {'tp_hit': 11, 'fp_hit': 1, 'tn_hit': 94, 'fn_hit': 2}}, 'checkpoint': 200} \n",
      "\n",
      "\n",
      "{'accuracy': 0.9691358024691358, 'mean_square_error': 0.058561708500517236, 'categorical_crossentropy': 0.10599251146669741, 'essential_metrics': {0: {'tp_hit': 77, 'fp_hit': 2, 'tn_hit': 26, 'fn_hit': 3}, 1: {'tp_hit': 14, 'fp_hit': 1, 'tn_hit': 92, 'fn_hit': 1}, 2: {'tp_hit': 12, 'fp_hit': 2, 'tn_hit': 93, 'fn_hit': 1}}, 'checkpoint': 300} \n",
      "\n",
      "\n",
      "{'accuracy': 0.9691358024691358, 'mean_square_error': 0.059630879479583926, 'categorical_crossentropy': 0.10581008593241374, 'essential_metrics': {0: {'tp_hit': 77, 'fp_hit': 2, 'tn_hit': 26, 'fn_hit': 3}, 1: {'tp_hit': 14, 'fp_hit': 1, 'tn_hit': 92, 'fn_hit': 1}, 2: {'tp_hit': 12, 'fp_hit': 2, 'tn_hit': 93, 'fn_hit': 1}}, 'checkpoint': 400} \n",
      "\n",
      "\n",
      "{'accuracy': 0.9691358024691358, 'mean_square_error': 0.05855185540010285, 'categorical_crossentropy': 0.10517949528164333, 'essential_metrics': {0: {'tp_hit': 77, 'fp_hit': 2, 'tn_hit': 26, 'fn_hit': 3}, 1: {'tp_hit': 14, 'fp_hit': 1, 'tn_hit': 92, 'fn_hit': 1}, 2: {'tp_hit': 12, 'fp_hit': 2, 'tn_hit': 93, 'fn_hit': 1}}, 'checkpoint': 500} \n",
      "\n",
      "\n"
     ]
    }
   ],
   "source": [
    "for checkpoint in checkpoints:\n",
    "    print(checkpoint, '\\n\\n')"
   ]
  },
  {
   "cell_type": "code",
   "execution_count": 13,
   "metadata": {},
   "outputs": [
    {
     "name": "stdout",
     "output_type": "stream",
     "text": [
      "Layer 1\n",
      "Neuron 0: weights:\n",
      "[ 0.1069596 -3.        -1.1422421  1.2350762  3.       ]\n",
      " bias: -3.0\n",
      "\n",
      "Neuron 1: weights:\n",
      "[-1.9488022   3.          2.0458097   0.36667013 -2.352924  ]\n",
      " bias: -3.0\n",
      "\n",
      "Neuron 2: weights:\n",
      "[ 0.0471915  3.        -0.2471983 -1.4905349 -3.       ]\n",
      " bias: 2.331153392791748\n",
      "\n",
      "Neuron 3: weights:\n",
      "[ 1.8365119  -3.         -2.1888456  -0.34286836  2.2824333 ]\n",
      " bias: 3.0\n",
      "\n",
      "$\n",
      "Layer 2\n",
      "Neuron 0: weights:\n",
      "[-3. -3.  3.  3.]\n",
      " bias: -0.035535894334316254\n",
      "\n",
      "Neuron 1: weights:\n",
      "[-3.         3.         2.0609746 -3.       ]\n",
      " bias: 0.05008036643266678\n",
      "\n",
      "Neuron 2: weights:\n",
      "[ 3. -3. -3.  3.]\n",
      " bias: -0.8600658774375916\n",
      "\n",
      "$\n",
      "\n"
     ]
    }
   ],
   "source": [
    "print(model)"
   ]
  }
 ],
 "metadata": {
  "kernelspec": {
   "display_name": "Python 3",
   "language": "python",
   "name": "python3"
  },
  "language_info": {
   "codemirror_mode": {
    "name": "ipython",
    "version": 3
   },
   "file_extension": ".py",
   "mimetype": "text/x-python",
   "name": "python",
   "nbconvert_exporter": "python",
   "pygments_lexer": "ipython3",
   "version": "3.6.10"
  }
 },
 "nbformat": 4,
 "nbformat_minor": 2
}
