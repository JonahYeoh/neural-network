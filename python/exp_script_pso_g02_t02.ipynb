{
 "cells": [
  {
   "cell_type": "code",
   "execution_count": 1,
   "metadata": {},
   "outputs": [],
   "source": [
    "# dependency\n",
    "import numpy as np\n",
    "import pandas as pd\n",
    "import copy\n",
    "import math\n",
    "import sys\n",
    "import os\n",
    "from activations import relu, leaky_relu, sigmoid, tanh, softmax, d_sigmoid, d_relu\n",
    "from initializers import glorot_uniform, random_normal, random_uniform\n",
    "from regularizers import l1_regularizer, l2_regularizer\n",
    "from utility import trim_tail, multiply, subtract, get_nparams, one_hot_encoding, get_data\n",
    "from metrics import MSE, CCE, ACC, PRECISION, RECALL, essential_metrics, wondering_penalty, close_gap_penalty\n",
    "from pso import PSO\n",
    "from ga import GA\n",
    "from nn import Network\n",
    "from layer import DenseLayer\n",
    "from scalers import MinMaxScaler, StandardScaler"
   ]
  },
  {
   "cell_type": "code",
   "execution_count": 2,
   "metadata": {},
   "outputs": [],
   "source": [
    "# reference\n",
    "metrics_fn_dict = dict()\n",
    "metrics_fn_dict['accuracy'] = ACC\n",
    "metrics_fn_dict['categorical_crossentropy'] = CCE\n",
    "metrics_fn_dict['mean_square_error'] = MSE\n",
    "metrics_fn_dict['precision'] = PRECISION\n",
    "metrics_fn_dict['recall'] = RECALL\n",
    "metrics_fn_dict['essential_metrics'] = essential_metrics"
   ]
  },
  {
   "cell_type": "code",
   "execution_count": 3,
   "metadata": {},
   "outputs": [],
   "source": [
    "# model\n",
    "model = Network(5, lr = None)\n",
    "model.add_layer(DenseLayer(1, 4, True, afn=sigmoid, dafn=None, rfn=None))\n",
    "model.add_layer(DenseLayer(2, 3, True, afn=softmax, dafn=None, rfn=None))"
   ]
  },
  {
   "cell_type": "code",
   "execution_count": 4,
   "metadata": {},
   "outputs": [
    {
     "name": "stdout",
     "output_type": "stream",
     "text": [
      "see one see two 2 2\n"
     ]
    }
   ],
   "source": [
    "pso = PSO(dict(m = 50,\n",
    "    weight_constraint = [-3, 3], \n",
    "    velocity_constraint = [-0.1, 0.1],\n",
    "    c1 = 2,\n",
    "    c2 = 2,\n",
    "    w = 1,\n",
    "    w_decay = 1,\n",
    "    scale_hyperparameter = False,\n",
    "    regularizer = None,\n",
    "    mask = True))"
   ]
  },
  {
   "cell_type": "code",
   "execution_count": 5,
   "metadata": {},
   "outputs": [
    {
     "name": "stdout",
     "output_type": "stream",
     "text": [
      "building layer 1 with 5\n",
      "24\n",
      "building layer 2 with 4\n",
      "15\n"
     ]
    }
   ],
   "source": [
    "model.compile(loss_fn = 'categorical_crossentropy', optimizer = pso, \\\n",
    "    metrics = ['accuracy', 'mean_square_error', 'categorical_crossentropy'])"
   ]
  },
  {
   "cell_type": "code",
   "execution_count": 6,
   "metadata": {},
   "outputs": [
    {
     "name": "stdout",
     "output_type": "stream",
     "text": [
      "<class 'pandas.core.frame.DataFrame'>\n",
      "RangeIndex: 107 entries, 0 to 106\n",
      "Data columns (total 6 columns):\n",
      " #   Column  Non-Null Count  Dtype  \n",
      "---  ------  --------------  -----  \n",
      " 0   f1      107 non-null    float32\n",
      " 1   f2      107 non-null    float32\n",
      " 2   f3      107 non-null    float32\n",
      " 3   f4      107 non-null    float32\n",
      " 4   f5      107 non-null    float32\n",
      " 5   label   107 non-null    float32\n",
      "dtypes: float32(6)\n",
      "memory usage: 2.6 KB\n",
      "None\n",
      "<class 'pandas.core.frame.DataFrame'>\n",
      "RangeIndex: 108 entries, 0 to 107\n",
      "Data columns (total 6 columns):\n",
      " #   Column  Non-Null Count  Dtype  \n",
      "---  ------  --------------  -----  \n",
      " 0   f1      108 non-null    float32\n",
      " 1   f2      108 non-null    float32\n",
      " 2   f3      108 non-null    float32\n",
      " 3   f4      108 non-null    float32\n",
      " 4   f5      108 non-null    float32\n",
      " 5   label   108 non-null    float32\n",
      "dtypes: float32(6)\n",
      "memory usage: 2.7 KB\n",
      "None\n"
     ]
    }
   ],
   "source": [
    "# data loading\n",
    "DATA = os.path.join('c:\\\\Users\\\\AI-lab\\\\github_repo\\\\neural-network\\\\', 'dataset')\n",
    "GROUP = 2\n",
    "COLUMNS = ['f1', 'f2', 'f3', 'f4', 'f5', 'label']\n",
    "N_CLASS = 3\n",
    "EPOCHS = 500\n",
    "train_dir, test_dir = \"..//dataset//training_data{}.txt\".format(GROUP), \"..//dataset//testing_data{}.txt\".format(GROUP)\n",
    "train, test = get_data(DATA, train_dir, COLUMNS), get_data(DATA, test_dir, COLUMNS)\n",
    "# shuffle\n",
    "train, test = train.sample(frac=1), test.sample(frac=1)\n",
    "x_train, y_train = train.drop('label', axis=1), train['label']\n",
    "x_test, y_test = test.drop('label', axis=1), test['label']"
   ]
  },
  {
   "cell_type": "code",
   "execution_count": 7,
   "metadata": {},
   "outputs": [],
   "source": [
    "# data scaling and encoding\n",
    "scaler = StandardScaler(['f1', 'f2', 'f3', 'f4', 'f5'])\n",
    "scaler.fit(x_train)\n",
    "x_train = scaler.transform(x_train)\n",
    "x_test = scaler.transform(x_test)\n",
    "y_train = one_hot_encoding(y_train, N_CLASS)\n",
    "y_test = one_hot_encoding(y_test, N_CLASS)"
   ]
  },
  {
   "cell_type": "code",
   "execution_count": 8,
   "metadata": {
    "tags": [
     "outputPrepend"
    ]
   },
   "outputs": [
    {
     "name": "stdout",
     "output_type": "stream",
     "text": [
      "Checkpoint 100, Accuracy: 0.9753086419753086, Loss: 0.21404888011791087\n",
      "Checkpoint 200, Accuracy: 0.9629629629629629, Loss: 0.13150957778648095\n",
      "Checkpoint 300, Accuracy: 0.9691358024691358, Loss: 0.11706774323074906\n",
      "Checkpoint 400, Accuracy: 0.9691358024691358, Loss: 0.11333422307614927\n",
      "Checkpoint 500, Accuracy: 0.9691358024691358, Loss: 0.11461746251141583\n"
     ]
    }
   ],
   "source": [
    "# learning phase\n",
    "breakpoint = 100\n",
    "checkpoints = list()\n",
    "history = list()\n",
    "for century in range(0, EPOCHS, breakpoint):\n",
    "    sub_history = model.fit(x_train, y_train, breakpoint, verbose = 0)\n",
    "    score = model.evaluate(x_test, y_test, False, verbose = 0)\n",
    "    print('Checkpoint {}, Accuracy: {}, Loss: {}'.format(century+breakpoint, score['accuracy'], score[model.loss_fn]))\n",
    "    score['checkpoint'] = century + breakpoint\n",
    "    checkpoints.append(score)\n",
    "    history.extend(sub_history)"
   ]
  },
  {
   "cell_type": "code",
   "execution_count": 9,
   "metadata": {},
   "outputs": [],
   "source": [
    "import matplotlib.pyplot as plt\n",
    "\n",
    "def draw_plot(x, y_list, x_label=None, y_label=None, legend=None, title=None):\n",
    "    fig, ax = plt.subplots(figsize=(12,5))\n",
    "    for xi, yi in zip(x, y_list):\n",
    "        ax.plot(xi, yi)\n",
    "    if x_label is not None and y_label is not None:\n",
    "        ax.set(xlabel=x_label, ylabel=y_label, title='{} VS {}'.format(x_label, y_label))\n",
    "    if legend is not None:\n",
    "        ax.legend(legend)\n",
    "    ax.grid()\n",
    "    plt.show()"
   ]
  },
  {
   "cell_type": "code",
   "execution_count": 10,
   "metadata": {},
   "outputs": [],
   "source": [
    "train_acc = [h['accuracy'] for h in history]\n",
    "train_mse = [h['mean_square_error'] for h in history]\n",
    "train_cce = [h['categorical_crossentropy'] for h in history]"
   ]
  },
  {
   "cell_type": "code",
   "execution_count": 11,
   "metadata": {},
   "outputs": [
    {
     "name": "stdout",
     "output_type": "stream",
     "text": [
      "[1. 0. 0.] <-> [0.9938692  0.00108303 0.00504773]\n",
      "[1. 0. 0.] <-> [0.99508214 0.00219803 0.00271976]\n",
      "[0. 1. 0.] <-> [1.17191084e-01 8.82517517e-01 2.91418168e-04]\n",
      "[1. 0. 0.] <-> [0.99549806 0.00131496 0.00318692]\n",
      "[0. 1. 0.] <-> [6.0360348e-03 9.9394906e-01 1.4985561e-05]\n",
      "[1. 0. 0.] <-> [0.98901933 0.00113821 0.00984243]\n",
      "[0. 0. 1.] <-> [7.51450509e-02 1.10197696e-04 9.24744725e-01]\n",
      "[1. 0. 0.] <-> [0.9956896  0.00154504 0.00276542]\n",
      "[0. 1. 0.] <-> [5.8026160e-03 9.9418288e-01 1.4403499e-05]\n",
      "[1. 0. 0.] <-> [0.99029946 0.00112056 0.00857996]\n",
      "[1. 0. 0.] <-> [0.9490376  0.00119788 0.04976451]\n",
      "[1. 0. 0.] <-> [0.9937816  0.00347294 0.00274554]\n",
      "[1. 0. 0.] <-> [0.95356506 0.00112801 0.04530701]\n",
      "[1. 0. 0.] <-> [0.993519   0.00122411 0.00525678]\n",
      "[1. 0. 0.] <-> [0.9939027  0.00188909 0.00420823]\n",
      "[1. 0. 0.] <-> [0.99372053 0.00125478 0.00502472]\n",
      "[1. 0. 0.] <-> [0.99350137 0.00133604 0.00516258]\n",
      "[1. 0. 0.] <-> [0.99412435 0.00114913 0.00472646]\n",
      "[1. 0. 0.] <-> [0.99015313 0.00119814 0.00864865]\n",
      "[1. 0. 0.] <-> [0.9895733  0.007953   0.00247366]\n",
      "[0. 1. 0.] <-> [5.8029545e-03 9.9418265e-01 1.4385376e-05]\n",
      "[1. 0. 0.] <-> [0.9940106  0.00113474 0.00485469]\n",
      "[1. 0. 0.] <-> [0.9955467  0.00121872 0.0032346 ]\n",
      "[1. 0. 0.] <-> [0.99497825 0.00118909 0.00383265]\n",
      "[1. 0. 0.] <-> [0.99366164 0.00369873 0.0026396 ]\n",
      "[1. 0. 0.] <-> [0.98911566 0.00116545 0.00971883]\n",
      "[1. 0. 0.] <-> [0.9942351  0.00125843 0.00450646]\n",
      "[1. 0. 0.] <-> [0.99506193 0.00139824 0.00353986]\n",
      "[1. 0. 0.] <-> [0.8941773  0.10336097 0.00246182]\n",
      "[1. 0. 0.] <-> [0.99465704 0.00109957 0.0042435 ]\n",
      "[0. 0. 1.] <-> [2.4731762e-03 4.1675007e-06 9.9752265e-01]\n",
      "[1. 0. 0.] <-> [0.9903133  0.00123826 0.00844845]\n",
      "[0. 0. 1.] <-> [2.4964632e-03 4.2052993e-06 9.9749929e-01]\n",
      "[1. 0. 0.] <-> [0.97336674 0.00114031 0.02549303]\n",
      "[0. 0. 1.] <-> [2.4726130e-03 4.1665817e-06 9.9752325e-01]\n",
      "[1. 0. 0.] <-> [0.9951154  0.00218618 0.00269836]\n",
      "[1. 0. 0.] <-> [0.9949126  0.00183916 0.00324816]\n",
      "[1. 0. 0.] <-> [0.8627763  0.00106778 0.13615589]\n",
      "[0. 0. 1.] <-> [3.2601610e-03 5.4365814e-06 9.9673438e-01]\n",
      "[1. 0. 0.] <-> [0.9919084  0.00141264 0.00667896]\n",
      "[1. 0. 0.] <-> [0.97450566 0.00116041 0.02433387]\n",
      "[1. 0. 0.] <-> [0.99546367 0.00121524 0.00332111]\n",
      "[1. 0. 0.] <-> [0.5669882  0.00074973 0.4322621 ]\n",
      "[1. 0. 0.] <-> [0.9949508  0.00237577 0.0026734 ]\n",
      "[0. 0. 1.] <-> [2.6873213e-03 4.5156135e-06 9.9730814e-01]\n",
      "[0. 1. 0.] <-> [1.9141605e-02 9.8081034e-01 4.8030539e-05]\n",
      "[1. 0. 0.] <-> [0.9952839  0.00134249 0.00337361]\n",
      "[0. 1. 0.] <-> [6.0586151e-02 9.3926346e-01 1.5040422e-04]\n",
      "[1. 0. 0.] <-> [0.99460995 0.00219451 0.00319549]\n",
      "[0. 0. 1.] <-> [2.4726270e-03 4.1666053e-06 9.9752325e-01]\n",
      "[0. 0. 1.] <-> [2.9106808e-03 5.0653252e-06 9.9708420e-01]\n",
      "[1. 0. 0.] <-> [0.9959245  0.00125588 0.00281973]\n",
      "[1. 0. 0.] <-> [0.92041075 0.00114083 0.07844842]\n",
      "[1. 0. 0.] <-> [0.9849526  0.01248362 0.00256375]\n",
      "[1. 0. 0.] <-> [0.9910527  0.00115242 0.0077949 ]\n",
      "[1. 0. 0.] <-> [0.94802976 0.00138127 0.05058905]\n",
      "[1. 0. 0.] <-> [2.8903121e-01 4.0389947e-04 7.1056491e-01]\n",
      "[0. 0. 1.] <-> [0.6458019  0.0008406  0.35335743]\n",
      "[1. 0. 0.] <-> [0.36802778 0.63102823 0.00094402]\n",
      "[1. 0. 0.] <-> [0.9926167  0.00133261 0.00605062]\n",
      "[1. 0. 0.] <-> [0.9857761  0.0011315  0.01309236]\n",
      "[1. 0. 0.] <-> [0.89036256 0.00111836 0.10851905]\n",
      "[1. 0. 0.] <-> [0.99581486 0.00126943 0.00291564]\n",
      "[1. 0. 0.] <-> [0.9901929  0.00112718 0.00867991]\n",
      "[0. 0. 1.] <-> [2.5542802e-03 4.3012828e-06 9.9744141e-01]\n",
      "[1. 0. 0.] <-> [0.9952962  0.00188407 0.00281977]\n",
      "[0. 1. 0.] <-> [1.15149515e-02 9.88456130e-01 2.88634274e-05]\n",
      "[1. 0. 0.] <-> [0.99497664 0.00249461 0.00252879]\n",
      "[1. 0. 0.] <-> [0.9954399  0.00131059 0.0032495 ]\n",
      "[1. 0. 0.] <-> [0.9916265  0.00116526 0.00720826]\n",
      "[1. 0. 0.] <-> [0.9952674  0.00149508 0.00323755]\n",
      "[1. 0. 0.] <-> [0.9438661  0.00113518 0.05499875]\n",
      "[1. 0. 0.] <-> [0.99112153 0.00623656 0.00264184]\n",
      "[1. 0. 0.] <-> [0.99559706 0.00155731 0.0028457 ]\n",
      "[1. 0. 0.] <-> [0.9823247  0.00112633 0.01654898]\n",
      "[0. 1. 0.] <-> [2.4651904e-01 7.5284255e-01 6.3847378e-04]\n",
      "[1. 0. 0.] <-> [0.9876199  0.00111448 0.01126572]\n",
      "[1. 0. 0.] <-> [0.9048165  0.09276994 0.00241356]\n",
      "[1. 0. 0.] <-> [0.9884682  0.00762533 0.00390641]\n",
      "[1. 0. 0.] <-> [0.9661481  0.00113564 0.03271623]\n",
      "[1. 0. 0.] <-> [0.9920157  0.00121828 0.006766  ]\n",
      "[0. 1. 0.] <-> [7.7773859e-03 9.9220324e-01 1.9424624e-05]\n",
      "[1. 0. 0.] <-> [0.9953394  0.00195103 0.00270952]\n",
      "[0. 1. 0.] <-> [6.1342274e-03 9.9385059e-01 1.5208550e-05]\n",
      "[1. 0. 0.] <-> [9.0846699e-03 1.4523456e-05 9.9090087e-01]\n",
      "[0. 0. 1.] <-> [2.4726130e-03 4.1665817e-06 9.9752325e-01]\n",
      "[1. 0. 0.] <-> [0.98216254 0.01526898 0.00256845]\n",
      "[0. 1. 0.] <-> [5.8467016e-03 9.9413884e-01 1.4510828e-05]\n",
      "[1. 0. 0.] <-> [0.99252546 0.0012083  0.00626628]\n",
      "[1. 0. 0.] <-> [0.9922742  0.00125098 0.00647475]\n",
      "[0. 0. 1.] <-> [2.4805726e-03 4.1834055e-06 9.9751520e-01]\n",
      "[1. 0. 0.] <-> [0.9949162  0.00235253 0.00273126]\n",
      "[1. 0. 0.] <-> [0.9952657  0.00146651 0.0032677 ]\n",
      "[1. 0. 0.] <-> [0.99504155 0.00217602 0.00278247]\n",
      "[1. 0. 0.] <-> [0.9945544  0.00148579 0.00395975]\n",
      "[1. 0. 0.] <-> [0.86106527 0.00107436 0.13786031]\n",
      "[1. 0. 0.] <-> [0.9948672  0.00261304 0.00251967]\n",
      "[0. 1. 0.] <-> [9.6864235e-03 9.9028951e-01 2.4053295e-05]\n",
      "[0. 0. 1.] <-> [2.4727213e-03 4.1667640e-06 9.9752313e-01]\n",
      "[1. 0. 0.] <-> [0.9922078  0.00111662 0.00667557]\n",
      "[1. 0. 0.] <-> [0.99387413 0.00139959 0.00472625]\n",
      "[0. 1. 0.] <-> [0.3801347  0.61891854 0.00094685]\n",
      "[0. 1. 0.] <-> [5.8026137e-03 9.9418300e-01 1.4383762e-05]\n",
      "[1. 0. 0.] <-> [0.995158   0.00179706 0.00304493]\n",
      "[1. 0. 0.] <-> [0.97601295 0.00121011 0.02277686]\n",
      "[1. 0. 0.] <-> [0.9878578  0.00113127 0.01101098]\n",
      "[1. 0. 0.] <-> [0.99414    0.00218848 0.00367147]\n",
      "[0. 1. 0.] <-> [0.698765   0.29949984 0.00173523]\n",
      "{'accuracy': 0.9691358024691358, 'mean_square_error': 0.061155769129323856, 'categorical_crossentropy': 0.11461746251141583, 'essential_metrics': {0: {'tp_hit': 77, 'fp_hit': 2, 'tn_hit': 26, 'fn_hit': 3}, 1: {'tp_hit': 14, 'fp_hit': 1, 'tn_hit': 92, 'fn_hit': 1}, 2: {'tp_hit': 12, 'fp_hit': 2, 'tn_hit': 93, 'fn_hit': 1}}}\n"
     ]
    }
   ],
   "source": [
    "# recall phase\n",
    "score = model.evaluate(x_test, y_test, False)\n",
    "print(score)"
   ]
  },
  {
   "cell_type": "code",
   "execution_count": 12,
   "metadata": {},
   "outputs": [
    {
     "data": {
      "image/png": "[encoded data removed]",
      "text/plain": [
       "<Figure size 864x360 with 1 Axes>"
      ]
     },
     "metadata": {
      "needs_background": "light"
     },
     "output_type": "display_data"
    },
    {
     "data": {
      "image/png": "[encoded data removed]",
      "text/plain": [
       "<Figure size 864x360 with 1 Axes>"
      ]
     },
     "metadata": {
      "needs_background": "light"
     },
     "output_type": "display_data"
    }
   ],
   "source": [
    "draw_plot(x = [[i for i in range(len(history))], [(i+1)*breakpoint for i in range(len(checkpoints))]], y_list = [train_cce, [ ckp[model.loss_fn] for ckp in checkpoints ]], x_label = 'Epochs', \\\n",
    "    y_label = model.loss_fn, legend=['train', 'test'])\n",
    "acc = [ ckp['accuracy'] for ckp in checkpoints ]\n",
    "draw_plot(x = [[i for i in range(len(history))], [(i+1)*breakpoint for i in range(len(checkpoints))]], y_list = [train_acc, acc], x_label = 'Checkpoints', \\\n",
    "    y_label = 'accuracy', legend=['train', 'test'])"
   ]
  },
  {
   "cell_type": "code",
   "execution_count": 13,
   "metadata": {},
   "outputs": [
    {
     "name": "stdout",
     "output_type": "stream",
     "text": [
      "{'accuracy': 0.9753086419753086, 'mean_square_error': 0.09191911261119082, 'categorical_crossentropy': 0.21404888011791087, 'essential_metrics': {0: {'tp_hit': 78, 'fp_hit': 2, 'tn_hit': 26, 'fn_hit': 2}, 1: {'tp_hit': 14, 'fp_hit': 1, 'tn_hit': 92, 'fn_hit': 1}, 2: {'tp_hit': 12, 'fp_hit': 1, 'tn_hit': 94, 'fn_hit': 1}}, 'checkpoint': 100} \n",
      "\n",
      "\n",
      "{'accuracy': 0.9629629629629629, 'mean_square_error': 0.06975218672633579, 'categorical_crossentropy': 0.13150957778648095, 'essential_metrics': {0: {'tp_hit': 76, 'fp_hit': 2, 'tn_hit': 26, 'fn_hit': 4}, 1: {'tp_hit': 14, 'fp_hit': 1, 'tn_hit': 92, 'fn_hit': 1}, 2: {'tp_hit': 12, 'fp_hit': 3, 'tn_hit': 92, 'fn_hit': 1}}, 'checkpoint': 200} \n",
      "\n",
      "\n",
      "{'accuracy': 0.9691358024691358, 'mean_square_error': 0.06404401567371489, 'categorical_crossentropy': 0.11706774323074906, 'essential_metrics': {0: {'tp_hit': 77, 'fp_hit': 2, 'tn_hit': 26, 'fn_hit': 3}, 1: {'tp_hit': 14, 'fp_hit': 1, 'tn_hit': 92, 'fn_hit': 1}, 2: {'tp_hit': 12, 'fp_hit': 2, 'tn_hit': 93, 'fn_hit': 1}}, 'checkpoint': 300} \n",
      "\n",
      "\n",
      "{'accuracy': 0.9691358024691358, 'mean_square_error': 0.060459094908924794, 'categorical_crossentropy': 0.11333422307614927, 'essential_metrics': {0: {'tp_hit': 77, 'fp_hit': 2, 'tn_hit': 26, 'fn_hit': 3}, 1: {'tp_hit': 14, 'fp_hit': 1, 'tn_hit': 92, 'fn_hit': 1}, 2: {'tp_hit': 12, 'fp_hit': 2, 'tn_hit': 93, 'fn_hit': 1}}, 'checkpoint': 400} \n",
      "\n",
      "\n",
      "{'accuracy': 0.9691358024691358, 'mean_square_error': 0.061155769129323856, 'categorical_crossentropy': 0.11461746251141583, 'essential_metrics': {0: {'tp_hit': 77, 'fp_hit': 2, 'tn_hit': 26, 'fn_hit': 3}, 1: {'tp_hit': 14, 'fp_hit': 1, 'tn_hit': 92, 'fn_hit': 1}, 2: {'tp_hit': 12, 'fp_hit': 2, 'tn_hit': 93, 'fn_hit': 1}}, 'checkpoint': 500} \n",
      "\n",
      "\n"
     ]
    }
   ],
   "source": [
    "for checkpoint in checkpoints:\n",
    "    print(checkpoint, '\\n\\n')"
   ]
  },
  {
   "cell_type": "code",
   "execution_count": 14,
   "metadata": {},
   "outputs": [
    {
     "name": "stdout",
     "output_type": "stream",
     "text": [
      "Layer 1\n",
      "Neuron 0: weights:\n",
      "[-1.9652044  3.         3.         1.9526296 -3.       ]\n",
      " bias: -3.0\n",
      "\n",
      "Neuron 1: weights:\n",
      "[ 0.03968896 -3.         -0.36282483  1.2296815   3.        ]\n",
      " bias: -3.0\n",
      "\n",
      "Neuron 2: weights:\n",
      "[ 0.04027167 -3.         -0.3832791   0.857058    3.        ]\n",
      " bias: -3.0\n",
      "\n",
      "Neuron 3: weights:\n",
      "[ 1.9016881 -3.        -1.3403535 -1.0659902  3.       ]\n",
      " bias: 3.0\n",
      "\n",
      "$\n",
      "Layer 2\n",
      "Neuron 0: weights:\n",
      "[-3. -3. -3.  3.]\n",
      " bias: 3.0\n",
      "\n",
      "Neuron 1: weights:\n",
      "[ 3.        -2.5562654 -2.9733448 -3.       ]\n",
      " bias: 2.1436753273010254\n",
      "\n",
      "Neuron 2: weights:\n",
      "[-3.  3.  3.  3.]\n",
      " bias: -3.0\n",
      "\n",
      "$\n",
      "\n"
     ]
    }
   ],
   "source": [
    "print(model)"
   ]
  },
  {
   "cell_type": "code",
   "execution_count": null,
   "metadata": {},
   "outputs": [],
   "source": []
  }
 ],
 "metadata": {
  "kernelspec": {
   "display_name": "Python 3",
   "language": "python",
   "name": "python3"
  },
  "language_info": {
   "codemirror_mode": {
    "name": "ipython",
    "version": 3
   },
   "file_extension": ".py",
   "mimetype": "text/x-python",
   "name": "python",
   "nbconvert_exporter": "python",
   "pygments_lexer": "ipython3",
   "version": "3.6.12"
  }
 },
 "nbformat": 4,
 "nbformat_minor": 2
}
