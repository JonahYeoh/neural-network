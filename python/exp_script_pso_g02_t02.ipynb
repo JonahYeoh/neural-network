{
 "cells": [
  {
   "cell_type": "code",
   "execution_count": 1,
   "metadata": {},
   "outputs": [],
   "source": [
    "# dependency\n",
    "import numpy as np\n",
    "import pandas as pd\n",
    "import copy\n",
    "import math\n",
    "import sys\n",
    "import os\n",
    "from activations import relu, leaky_relu, sigmoid, tanh, softmax, d_sigmoid, d_relu\n",
    "from initializers import glorot_uniform, random_normal, random_uniform\n",
    "from regularizers import l1_regularizer, l2_regularizer\n",
    "from utility import trim_tail, multiply, subtract, get_nparams, one_hot_encoding, get_data\n",
    "from metrics import MSE, CCE, ACC, PRECISION, RECALL, essential_metrics, wondering_penalty, close_gap_penalty\n",
    "from pso import PSO\n",
    "from ga import GA\n",
    "from nn import Network\n",
    "from layer import DenseLayer\n",
    "from scalers import MinMaxScaler, StandardScaler"
   ]
  },
  {
   "cell_type": "code",
   "execution_count": 2,
   "metadata": {},
   "outputs": [],
   "source": [
    "# reference\n",
    "metrics_fn_dict = dict()\n",
    "metrics_fn_dict['accuracy'] = ACC\n",
    "metrics_fn_dict['categorical_crossentropy'] = CCE\n",
    "metrics_fn_dict['mean_square_error'] = MSE\n",
    "metrics_fn_dict['precision'] = PRECISION\n",
    "metrics_fn_dict['recall'] = RECALL\n",
    "metrics_fn_dict['essential_metrics'] = essential_metrics"
   ]
  },
  {
   "cell_type": "code",
   "execution_count": 3,
   "metadata": {},
   "outputs": [],
   "source": [
    "# model\n",
    "model = Network(5, lr = None)\n",
    "model.add_layer(DenseLayer(1, 4, True, afn=sigmoid, dafn=None, rfn=None))\n",
    "model.add_layer(DenseLayer(2, 3, True, afn=softmax, dafn=None, rfn=None))"
   ]
  },
  {
   "cell_type": "code",
   "execution_count": 4,
   "metadata": {},
   "outputs": [],
   "source": [
    "pso = PSO(dict(m = 50,\n",
    "    weight_constraint = [-3, 3], \n",
    "    velocity_constraint = [-0.1, 0.1],\n",
    "    c1 = 2,\n",
    "    c2 = 2,\n",
    "    w = 1,\n",
    "    w_decay = 1,\n",
    "    scale_hyperparameter = False,\n",
    "    regularizer = None,\n",
    "    mask = True))"
   ]
  },
  {
   "cell_type": "code",
   "execution_count": 5,
   "metadata": {},
   "outputs": [
    {
     "name": "stdout",
     "output_type": "stream",
     "text": [
      "building layer 1 with 5\n",
      "24\n",
      "building layer 2 with 4\n",
      "15\n"
     ]
    }
   ],
   "source": [
    "model.compile(loss_fn = 'categorical_crossentropy', optimizer = pso, \\\n",
    "    metrics = ['accuracy', 'mean_square_error', 'categorical_crossentropy'])"
   ]
  },
  {
   "cell_type": "code",
   "execution_count": 6,
   "metadata": {},
   "outputs": [
    {
     "name": "stdout",
     "output_type": "stream",
     "text": [
      "<class 'pandas.core.frame.DataFrame'>\n",
      "RangeIndex: 107 entries, 0 to 106\n",
      "Data columns (total 6 columns):\n",
      " #   Column  Non-Null Count  Dtype  \n",
      "---  ------  --------------  -----  \n",
      " 0   f1      107 non-null    float32\n",
      " 1   f2      107 non-null    float32\n",
      " 2   f3      107 non-null    float32\n",
      " 3   f4      107 non-null    float32\n",
      " 4   f5      107 non-null    float32\n",
      " 5   label   107 non-null    float32\n",
      "dtypes: float32(6)\n",
      "memory usage: 2.6 KB\n",
      "None\n",
      "<class 'pandas.core.frame.DataFrame'>\n",
      "RangeIndex: 108 entries, 0 to 107\n",
      "Data columns (total 6 columns):\n",
      " #   Column  Non-Null Count  Dtype  \n",
      "---  ------  --------------  -----  \n",
      " 0   f1      108 non-null    float32\n",
      " 1   f2      108 non-null    float32\n",
      " 2   f3      108 non-null    float32\n",
      " 3   f4      108 non-null    float32\n",
      " 4   f5      108 non-null    float32\n",
      " 5   label   108 non-null    float32\n",
      "dtypes: float32(6)\n",
      "memory usage: 2.7 KB\n",
      "None\n"
     ]
    }
   ],
   "source": [
    "# data loading\n",
    "DATA = os.path.join('c:\\\\Users\\\\tcumi\\\\github_repo\\\\neural-network\\\\', 'dataset')\n",
    "GROUP = 2\n",
    "COLUMNS = ['f1', 'f2', 'f3', 'f4', 'f5', 'label']\n",
    "N_CLASS = 3\n",
    "EPOCHS = 500\n",
    "train_dir, test_dir = \"..//dataset//training_data{}.txt\".format(GROUP), \"..//dataset//testing_data{}.txt\".format(GROUP)\n",
    "train, test = get_data(DATA, train_dir, COLUMNS), get_data(DATA, test_dir, COLUMNS)\n",
    "# shuffle\n",
    "train, test = train.sample(frac=1), test.sample(frac=1)\n",
    "x_train, y_train = train.drop('label', axis=1), train['label']\n",
    "x_test, y_test = test.drop('label', axis=1), test['label']"
   ]
  },
  {
   "cell_type": "code",
   "execution_count": 7,
   "metadata": {},
   "outputs": [],
   "source": [
    "# data scaling and encoding\n",
    "scaler = StandardScaler(['f1', 'f2', 'f3', 'f4', 'f5'])\n",
    "scaler.fit(x_train)\n",
    "x_train = scaler.transform(x_train)\n",
    "x_test = scaler.transform(x_test)\n",
    "y_train = one_hot_encoding(y_train, N_CLASS)\n",
    "y_test = one_hot_encoding(y_test, N_CLASS)"
   ]
  },
  {
   "cell_type": "code",
   "execution_count": 8,
   "metadata": {
    "tags": [
     "outputPrepend"
    ]
   },
   "outputs": [
    {
     "name": "stdout",
     "output_type": "stream",
     "text": [
      "Checkpoint 100, Accuracy: 0.9506172839506173, Loss: 0.23729850627757884\n",
      "Checkpoint 200, Accuracy: 0.9629629629629629, Loss: 0.15533828735351562\n",
      "Checkpoint 300, Accuracy: 0.9691358024691358, Loss: 0.10937953878332067\n",
      "Checkpoint 400, Accuracy: 0.9691358024691358, Loss: 0.10318147694623028\n",
      "Checkpoint 500, Accuracy: 0.9691358024691358, Loss: 0.10620782993457935\n"
     ]
    }
   ],
   "source": [
    "# learning phase\n",
    "breakpoint = 100\n",
    "checkpoints = list()\n",
    "history = list()\n",
    "for century in range(0, EPOCHS, breakpoint):\n",
    "    sub_history = model.fit(x_train, y_train, breakpoint, verbose = 0)\n",
    "    score = model.evaluate(x_test, y_test, False, verbose = 0)\n",
    "    print('Checkpoint {}, Accuracy: {}, Loss: {}'.format(century+breakpoint, score['accuracy'], score[model.loss_fn]))\n",
    "    score['checkpoint'] = century + breakpoint\n",
    "    checkpoints.append(score)\n",
    "    history.extend(sub_history)"
   ]
  },
  {
   "cell_type": "code",
   "execution_count": 9,
   "metadata": {},
   "outputs": [],
   "source": [
    "import matplotlib.pyplot as plt\n",
    "\n",
    "def draw_plot(x, y_list, x_label=None, y_label=None, legend=None, title=None):\n",
    "    fig, ax = plt.subplots(figsize=(12,5))\n",
    "    for xi, yi in zip(x, y_list):\n",
    "        ax.plot(xi, yi)\n",
    "    if x_label is not None and y_label is not None:\n",
    "        ax.set(xlabel=x_label, ylabel=y_label, title='{} VS {}'.format(x_label, y_label))\n",
    "    if legend is not None:\n",
    "        ax.legend(legend)\n",
    "    ax.grid()\n",
    "    plt.show()"
   ]
  },
  {
   "cell_type": "code",
   "execution_count": 10,
   "metadata": {},
   "outputs": [
    {
     "name": "stdout",
     "output_type": "stream",
     "text": [
      "[0. 0. 1.] <-> [6.4587379e-03 6.3145053e-06 9.9353492e-01]\n",
      "[1. 0. 0.] <-> [9.913908e-01 9.816837e-04 7.627529e-03]\n",
      "[1. 0. 0.] <-> [3.0974957e-01 3.0933370e-04 6.8994111e-01]\n",
      "[1. 0. 0.] <-> [0.99599946 0.00245013 0.00155042]\n",
      "[1. 0. 0.] <-> [9.9629164e-01 9.8326325e-04 2.7251686e-03]\n",
      "[0. 1. 0.] <-> [0.0062645  0.9912615  0.00247395]\n",
      "[1. 0. 0.] <-> [0.9567846  0.0010092  0.04220622]\n",
      "[1. 0. 0.] <-> [0.99630415 0.00207528 0.00162063]\n",
      "[1. 0. 0.] <-> [0.99621105 0.00133083 0.00245817]\n",
      "[1. 0. 0.] <-> [0.9936718  0.00107796 0.00525031]\n",
      "[0. 1. 0.] <-> [0.41506138 0.5772915  0.0076471 ]\n",
      "[1. 0. 0.] <-> [0.95504105 0.00115915 0.04379988]\n",
      "[0. 1. 0.] <-> [0.01907855 0.9766003  0.00432119]\n",
      "[1. 0. 0.] <-> [0.99538213 0.00111177 0.00350615]\n",
      "[0. 1. 0.] <-> [0.00651289 0.9909574  0.00252969]\n",
      "[1. 0. 0.] <-> [0.9006768  0.00090766 0.09841549]\n",
      "[1. 0. 0.] <-> [0.9906922  0.00786444 0.00144326]\n",
      "[1. 0. 0.] <-> [0.98509544 0.01223631 0.00266817]\n",
      "[1. 0. 0.] <-> [0.99465656 0.00380346 0.00154003]\n",
      "[1. 0. 0.] <-> [0.997035   0.00141438 0.00155063]\n",
      "[0. 1. 0.] <-> [0.00623426 0.99130756 0.00245826]\n",
      "[1. 0. 0.] <-> [0.98543304 0.01102006 0.003547  ]\n",
      "[1. 0. 0.] <-> [0.99621636 0.00252826 0.00125535]\n",
      "[1. 0. 0.] <-> [0.9821363  0.00105485 0.01680883]\n",
      "[1. 0. 0.] <-> [0.99160635 0.00100196 0.00739166]\n",
      "[1. 0. 0.] <-> [0.99653107 0.00105522 0.00241374]\n",
      "[1. 0. 0.] <-> [0.9966432  0.00199867 0.00135814]\n",
      "[0. 0. 1.] <-> [6.1599505e-03 7.5922640e-06 9.9383247e-01]\n",
      "[1. 0. 0.] <-> [0.9926878  0.00101171 0.0063005 ]\n",
      "[1. 0. 0.] <-> [0.9964316  0.00104133 0.00252706]\n",
      "[0. 0. 1.] <-> [7.7371523e-03 7.5681660e-06 9.9225521e-01]\n",
      "[1. 0. 0.] <-> [0.9959859  0.00220278 0.00181122]\n",
      "[1. 0. 0.] <-> [0.99636555 0.00172798 0.00190653]\n",
      "[0. 0. 1.] <-> [6.2491936e-03 6.1057781e-06 9.9374467e-01]\n",
      "[0. 1. 0.] <-> [0.01113369 0.9852798  0.00358647]\n",
      "[1. 0. 0.] <-> [0.99492127 0.00128047 0.0037983 ]\n",
      "[1. 0. 0.] <-> [0.99688715 0.00168581 0.00142704]\n",
      "[0. 1. 0.] <-> [0.5945641  0.37061095 0.03482497]\n",
      "[0. 0. 1.] <-> [6.4651060e-01 6.3518295e-04 3.5285416e-01]\n",
      "[0. 1. 0.] <-> [0.01105999 0.98600394 0.002936  ]\n",
      "[1. 0. 0.] <-> [0.9943553  0.00103963 0.00460501]\n",
      "[1. 0. 0.] <-> [9.8610097e-01 9.7967207e-04 1.2919357e-02]\n",
      "[0. 0. 1.] <-> [9.0306029e-02 8.8447719e-05 9.0960556e-01]\n",
      "[1. 0. 0.] <-> [0.99499255 0.0035711  0.00143636]\n",
      "[0. 1. 0.] <-> [0.00643152 0.9910396  0.00252892]\n",
      "[1. 0. 0.] <-> [0.99616784 0.00214185 0.00169028]\n",
      "[1. 0. 0.] <-> [0.98057026 0.00099521 0.0184345 ]\n",
      "[1. 0. 0.] <-> [0.9973718  0.00114188 0.00148637]\n",
      "[0. 1. 0.] <-> [0.13154471 0.8614937  0.00696161]\n",
      "[0. 1. 0.] <-> [0.00623408 0.9912928  0.00247305]\n",
      "[0. 1. 0.] <-> [0.31576014 0.6766137  0.00762611]\n",
      "[1. 0. 0.] <-> [9.5036817e-01 9.4279554e-04 4.8689041e-02]\n",
      "[1. 0. 0.] <-> [0.9937453  0.00099811 0.00525654]\n",
      "[1. 0. 0.] <-> [0.9917956  0.00638633 0.00181801]\n",
      "[0. 0. 1.] <-> [6.2491936e-03 6.1057781e-06 9.9374467e-01]\n",
      "[0. 1. 0.] <-> [0.00623406 0.9913083  0.00245762]\n",
      "[1. 0. 0.] <-> [0.99509674 0.00114849 0.0037547 ]\n",
      "[1. 0. 0.] <-> [0.99655837 0.00116601 0.00227564]\n",
      "[1. 0. 0.] <-> [9.7182792e-01 9.6176472e-04 2.7210267e-02]\n",
      "[1. 0. 0.] <-> [0.99302036 0.00103462 0.00594508]\n",
      "[1. 0. 0.] <-> [0.9970348  0.00111471 0.00185047]\n",
      "[1. 0. 0.] <-> [0.93313164 0.06175559 0.00511288]\n",
      "[0. 0. 1.] <-> [6.7116064e-03 6.5577669e-06 9.9328184e-01]\n",
      "[1. 0. 0.] <-> [0.9966635  0.00138505 0.0019514 ]\n",
      "[0. 1. 0.] <-> [0.00804155 0.9889949  0.00296362]\n",
      "[1. 0. 0.] <-> [5.6320566e-01 5.5502914e-04 4.3623933e-01]\n",
      "[1. 0. 0.] <-> [0.99705434 0.00138432 0.00156131]\n",
      "[0. 0. 1.] <-> [6.2979273e-03 6.1534529e-06 9.9369591e-01]\n",
      "[1. 0. 0.] <-> [0.99712986 0.00150343 0.00136669]\n",
      "[1. 0. 0.] <-> [0.92765903 0.00093688 0.07140407]\n",
      "[1. 0. 0.] <-> [0.99593616 0.00197997 0.00208385]\n",
      "[1. 0. 0.] <-> [0.9946995  0.00105288 0.00424773]\n",
      "[0. 0. 1.] <-> [6.1602457e-03 6.1355586e-06 9.9383366e-01]\n",
      "[1. 0. 0.] <-> [0.99715614 0.00126962 0.00157419]\n",
      "[1. 0. 0.] <-> [0.99672455 0.00176944 0.00150598]\n",
      "[1. 0. 0.] <-> [0.9948055  0.00111395 0.0040806 ]\n",
      "[1. 0. 0.] <-> [0.99592763 0.00116309 0.00290926]\n",
      "[1. 0. 0.] <-> [0.996031   0.00176962 0.00219935]\n",
      "[0. 0. 1.] <-> [6.2494720e-03 6.1060678e-06 9.9374443e-01]\n",
      "[1. 0. 0.] <-> [0.9969361  0.00129272 0.00177126]\n",
      "[1. 0. 0.] <-> [0.9954053  0.00118207 0.00341255]\n",
      "[1. 0. 0.] <-> [0.99004644 0.00099284 0.00896081]\n",
      "[1. 0. 0.] <-> [0.9961803  0.00110592 0.00271378]\n",
      "[0. 0. 1.] <-> [6.249232e-03 6.105813e-06 9.937447e-01]\n",
      "[1. 0. 0.] <-> [8.625372e-01 8.564208e-04 1.366064e-01]\n",
      "[1. 0. 0.] <-> [0.99752444 0.00118885 0.00128659]\n",
      "[1. 0. 0.] <-> [0.99732155 0.00120644 0.00147193]\n",
      "[1. 0. 0.] <-> [0.99624723 0.00244415 0.0013086 ]\n",
      "[1. 0. 0.] <-> [0.990135   0.00692092 0.00294411]\n",
      "[1. 0. 0.] <-> [0.99392563 0.00110752 0.00496694]\n",
      "[0. 1. 0.] <-> [0.03721154 0.9518334  0.0109551 ]\n",
      "[1. 0. 0.] <-> [0.9968966  0.00100358 0.0020998 ]\n",
      "[1. 0. 0.] <-> [0.997203   0.00146692 0.00133015]\n",
      "[1. 0. 0.] <-> [9.786673e-01 9.776183e-04 2.035504e-02]\n",
      "[1. 0. 0.] <-> [0.9972892  0.00115202 0.00155882]\n",
      "[1. 0. 0.] <-> [0.9050631  0.08652712 0.00840971]\n",
      "[1. 0. 0.] <-> [0.9963414  0.00237364 0.00128486]\n",
      "[1. 0. 0.] <-> [0.99667454 0.00197471 0.00135076]\n",
      "[1. 0. 0.] <-> [8.5516346e-01 8.3790591e-04 1.4399871e-01]\n",
      "[1. 0. 0.] <-> [9.5739675e-01 9.4051851e-04 4.1662682e-02]\n",
      "[1. 0. 0.] <-> [0.99725145 0.00123054 0.00151795]\n",
      "[1. 0. 0.] <-> [0.9974879  0.00119587 0.00131621]\n",
      "[1. 0. 0.] <-> [0.9935674  0.00100542 0.00542713]\n",
      "[1. 0. 0.] <-> [0.9950694  0.00100862 0.00392193]\n",
      "[0. 0. 1.] <-> [6.2503838e-03 6.1069472e-06 9.9374348e-01]\n",
      "[1. 0. 0.] <-> [0.9960517  0.0012412  0.00270715]\n",
      "[1. 0. 0.] <-> [1.6342551e-02 1.5979518e-05 9.8364151e-01]\n",
      "[1. 0. 0.] <-> [0.39975378 0.5890618  0.01118444]\n",
      "{'accuracy': 0.9691358024691358, 'mean_square_error': 0.05867078681540221, 'categorical_crossentropy': 0.10620782993457935, 'essential_metrics': {0: {'tp_hit': 77, 'fp_hit': 2, 'tn_hit': 26, 'fn_hit': 3}, 1: {'tp_hit': 14, 'fp_hit': 1, 'tn_hit': 92, 'fn_hit': 1}, 2: {'tp_hit': 12, 'fp_hit': 2, 'tn_hit': 93, 'fn_hit': 1}}}\n"
     ]
    }
   ],
   "source": [
    "# recall phase\n",
    "score = model.evaluate(x_test, y_test, False)\n",
    "print(score)"
   ]
  },
  {
   "cell_type": "code",
   "execution_count": 11,
   "metadata": {},
   "outputs": [
    {
     "data": {
      "image/png": "[encoded data removed]",
      "text/plain": [
       "<Figure size 864x360 with 1 Axes>"
      ]
     },
     "metadata": {
      "needs_background": "light"
     },
     "output_type": "display_data"
    },
    {
     "data": {
      "image/png": "[encoded data removed]",
      "text/plain": [
       "<Figure size 864x360 with 1 Axes>"
      ]
     },
     "metadata": {
      "needs_background": "light"
     },
     "output_type": "display_data"
    }
   ],
   "source": [
    "draw_plot(x = [[i for i in range(len(history))], [(i+1)*breakpoint for i in range(len(checkpoints))]], y_list = [history, [ ckp[model.loss_fn] for ckp in checkpoints ]], x_label = 'Epochs', \\\n",
    "    y_label = model.loss_fn, legend=['train', 'test'])\n",
    "acc = [ ckp['accuracy'] for ckp in checkpoints ]\n",
    "draw_plot(x = [[(i+1)*breakpoint for i in range(len(checkpoints))]], y_list = [acc], x_label = 'Checkpoints', \\\n",
    "    y_label = 'accuracy')"
   ]
  },
  {
   "cell_type": "code",
   "execution_count": 12,
   "metadata": {},
   "outputs": [
    {
     "name": "stdout",
     "output_type": "stream",
     "text": [
      "{'accuracy': 0.9506172839506173, 'mean_square_error': 0.11511548310619148, 'categorical_crossentropy': 0.23729850627757884, 'essential_metrics': {0: {'tp_hit': 77, 'fp_hit': 5, 'tn_hit': 23, 'fn_hit': 3}, 1: {'tp_hit': 11, 'fp_hit': 0, 'tn_hit': 93, 'fn_hit': 4}, 2: {'tp_hit': 12, 'fp_hit': 3, 'tn_hit': 92, 'fn_hit': 1}}, 'checkpoint': 100} \n",
      "\n",
      "\n",
      "{'accuracy': 0.9629629629629629, 'mean_square_error': 0.08863754779281206, 'categorical_crossentropy': 0.15533828735351562, 'essential_metrics': {0: {'tp_hit': 76, 'fp_hit': 2, 'tn_hit': 26, 'fn_hit': 4}, 1: {'tp_hit': 14, 'fp_hit': 1, 'tn_hit': 92, 'fn_hit': 1}, 2: {'tp_hit': 12, 'fp_hit': 3, 'tn_hit': 92, 'fn_hit': 1}}, 'checkpoint': 200} \n",
      "\n",
      "\n",
      "{'accuracy': 0.9691358024691358, 'mean_square_error': 0.06141152826541738, 'categorical_crossentropy': 0.10937953878332067, 'essential_metrics': {0: {'tp_hit': 77, 'fp_hit': 2, 'tn_hit': 26, 'fn_hit': 3}, 1: {'tp_hit': 14, 'fp_hit': 1, 'tn_hit': 92, 'fn_hit': 1}, 2: {'tp_hit': 12, 'fp_hit': 2, 'tn_hit': 93, 'fn_hit': 1}}, 'checkpoint': 300} \n",
      "\n",
      "\n",
      "{'accuracy': 0.9691358024691358, 'mean_square_error': 0.05621024701101925, 'categorical_crossentropy': 0.10318147694623028, 'essential_metrics': {0: {'tp_hit': 77, 'fp_hit': 2, 'tn_hit': 26, 'fn_hit': 3}, 1: {'tp_hit': 14, 'fp_hit': 1, 'tn_hit': 92, 'fn_hit': 1}, 2: {'tp_hit': 12, 'fp_hit': 2, 'tn_hit': 93, 'fn_hit': 1}}, 'checkpoint': 400} \n",
      "\n",
      "\n",
      "{'accuracy': 0.9691358024691358, 'mean_square_error': 0.05867078681540221, 'categorical_crossentropy': 0.10620782993457935, 'essential_metrics': {0: {'tp_hit': 77, 'fp_hit': 2, 'tn_hit': 26, 'fn_hit': 3}, 1: {'tp_hit': 14, 'fp_hit': 1, 'tn_hit': 92, 'fn_hit': 1}, 2: {'tp_hit': 12, 'fp_hit': 2, 'tn_hit': 93, 'fn_hit': 1}}, 'checkpoint': 500} \n",
      "\n",
      "\n"
     ]
    }
   ],
   "source": [
    "for checkpoint in checkpoints:\n",
    "    print(checkpoint, '\\n\\n')"
   ]
  },
  {
   "cell_type": "code",
   "execution_count": 13,
   "metadata": {},
   "outputs": [
    {
     "name": "stdout",
     "output_type": "stream",
     "text": [
      "Layer 1\n",
      "Neuron 0: weights:\n",
      "[ 0.09839281 -3.         -0.9056337   0.59362704  3.        ]\n",
      " bias: -3.0\n",
      "\n",
      "Neuron 1: weights:\n",
      "[ 1.9366014  -3.         -1.4858404   0.22245862  2.6519217 ]\n",
      " bias: 3.0\n",
      "\n",
      "Neuron 2: weights:\n",
      "[ 0.06922396 -3.          0.12382936  1.0921061   3.        ]\n",
      " bias: -2.490851402282715\n",
      "\n",
      "Neuron 3: weights:\n",
      "[ 1.8271841 -3.        -3.        -2.703216   3.       ]\n",
      " bias: 3.0\n",
      "\n",
      "$\n",
      "Layer 2\n",
      "Neuron 0: weights:\n",
      "[-3.  3. -3.  3.]\n",
      " bias: -2.069027900695801\n",
      "\n",
      "Neuron 1: weights:\n",
      "[-3. -3. -3. -3.]\n",
      " bias: 3.0\n",
      "\n",
      "Neuron 2: weights:\n",
      "[ 3.  3.  3. -3.]\n",
      " bias: -3.0\n",
      "\n",
      "$\n",
      "\n"
     ]
    }
   ],
   "source": [
    "print(model)"
   ]
  }
 ],
 "metadata": {
  "kernelspec": {
   "display_name": "Python 3",
   "language": "python",
   "name": "python3"
  },
  "language_info": {
   "codemirror_mode": {
    "name": "ipython",
    "version": 3
   },
   "file_extension": ".py",
   "mimetype": "text/x-python",
   "name": "python",
   "nbconvert_exporter": "python",
   "pygments_lexer": "ipython3",
   "version": "3.6.10"
  }
 },
 "nbformat": 4,
 "nbformat_minor": 2
}
