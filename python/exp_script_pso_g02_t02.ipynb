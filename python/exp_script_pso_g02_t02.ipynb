{
 "cells": [
  {
   "cell_type": "code",
   "execution_count": 1,
   "metadata": {},
   "outputs": [],
   "source": [
    "# dependency\n",
    "import numpy as np\n",
    "import pandas as pd\n",
    "import copy\n",
    "import math\n",
    "import sys\n",
    "import os\n",
    "from activations import relu, leaky_relu, sigmoid, tanh, softmax, d_sigmoid, d_relu\n",
    "from initializers import glorot_uniform, random_normal, random_uniform\n",
    "from regularizers import l1_regularizer, l2_regularizer\n",
    "from utility import trim_tail, multiply, subtract, get_nparams, one_hot_encoding, get_data\n",
    "from metrics import MSE, CCE, ACC, PRECISION, RECALL, essential_metrics, wondering_penalty, close_gap_penalty\n",
    "from pso import PSO\n",
    "from ga import GA\n",
    "from nn import Network\n",
    "from layer import DenseLayer\n",
    "from scalers import MinMaxScaler, StandardScaler"
   ]
  },
  {
   "cell_type": "code",
   "execution_count": 2,
   "metadata": {},
   "outputs": [],
   "source": [
    "# reference\n",
    "metrics_fn_dict = dict()\n",
    "metrics_fn_dict['accuracy'] = ACC\n",
    "metrics_fn_dict['categorical_crossentropy'] = CCE\n",
    "metrics_fn_dict['mean_square_error'] = MSE\n",
    "metrics_fn_dict['precision'] = PRECISION\n",
    "metrics_fn_dict['recall'] = RECALL\n",
    "metrics_fn_dict['essential_metrics'] = essential_metrics"
   ]
  },
  {
   "cell_type": "code",
   "execution_count": 3,
   "metadata": {},
   "outputs": [],
   "source": [
    "# model\n",
    "model = Network(5, lr = None)\n",
    "model.add_layer(DenseLayer(1, 4, True, afn=sigmoid, dafn=None, rfn=None))\n",
    "model.add_layer(DenseLayer(2, 3, True, afn=softmax, dafn=None, rfn=None))"
   ]
  },
  {
   "cell_type": "code",
   "execution_count": 4,
   "metadata": {},
   "outputs": [
    {
     "name": "stdout",
     "output_type": "stream",
     "text": [
      "see one see two 2 2\n"
     ]
    }
   ],
   "source": [
    "pso = PSO(dict(m = 50,\n",
    "    weight_constraint = [-3, 3], \n",
    "    velocity_constraint = [-0.1, 0.1],\n",
    "    c1 = 2,\n",
    "    c2 = 2,\n",
    "    w = 1,\n",
    "    w_decay = 1,\n",
    "    scale_hyperparameter = False,\n",
    "    regularizer = None,\n",
    "    mask = True))"
   ]
  },
  {
   "cell_type": "code",
   "execution_count": 5,
   "metadata": {},
   "outputs": [
    {
     "name": "stdout",
     "output_type": "stream",
     "text": [
      "building layer 1 with 5\n",
      "24\n",
      "building layer 2 with 4\n",
      "15\n"
     ]
    }
   ],
   "source": [
    "model.compile(loss_fn = 'categorical_crossentropy', optimizer = pso, \\\n",
    "    metrics = ['accuracy', 'mean_square_error', 'categorical_crossentropy'])"
   ]
  },
  {
   "cell_type": "code",
   "execution_count": 6,
   "metadata": {},
   "outputs": [
    {
     "name": "stdout",
     "output_type": "stream",
     "text": [
      "<class 'pandas.core.frame.DataFrame'>\n",
      "RangeIndex: 107 entries, 0 to 106\n",
      "Data columns (total 6 columns):\n",
      " #   Column  Non-Null Count  Dtype  \n",
      "---  ------  --------------  -----  \n",
      " 0   f1      107 non-null    float32\n",
      " 1   f2      107 non-null    float32\n",
      " 2   f3      107 non-null    float32\n",
      " 3   f4      107 non-null    float32\n",
      " 4   f5      107 non-null    float32\n",
      " 5   label   107 non-null    float32\n",
      "dtypes: float32(6)\n",
      "memory usage: 2.6 KB\n",
      "None\n",
      "<class 'pandas.core.frame.DataFrame'>\n",
      "RangeIndex: 108 entries, 0 to 107\n",
      "Data columns (total 6 columns):\n",
      " #   Column  Non-Null Count  Dtype  \n",
      "---  ------  --------------  -----  \n",
      " 0   f1      108 non-null    float32\n",
      " 1   f2      108 non-null    float32\n",
      " 2   f3      108 non-null    float32\n",
      " 3   f4      108 non-null    float32\n",
      " 4   f5      108 non-null    float32\n",
      " 5   label   108 non-null    float32\n",
      "dtypes: float32(6)\n",
      "memory usage: 2.7 KB\n",
      "None\n"
     ]
    }
   ],
   "source": [
    "# data loading\n",
    "DATA = os.path.join('c:\\\\Users\\\\tcumi\\\\github_repo\\\\neural-network\\\\', 'dataset')\n",
    "GROUP = 2\n",
    "COLUMNS = ['f1', 'f2', 'f3', 'f4', 'f5', 'label']\n",
    "N_CLASS = 3\n",
    "EPOCHS = 500\n",
    "train_dir, test_dir = \"..//dataset//training_data{}.txt\".format(GROUP), \"..//dataset//testing_data{}.txt\".format(GROUP)\n",
    "train, test = get_data(DATA, train_dir, COLUMNS), get_data(DATA, test_dir, COLUMNS)\n",
    "# shuffle\n",
    "train, test = train.sample(frac=1), test.sample(frac=1)\n",
    "x_train, y_train = train.drop('label', axis=1), train['label']\n",
    "x_test, y_test = test.drop('label', axis=1), test['label']"
   ]
  },
  {
   "cell_type": "code",
   "execution_count": 7,
   "metadata": {},
   "outputs": [],
   "source": [
    "# data scaling and encoding\n",
    "scaler = StandardScaler(['f1', 'f2', 'f3', 'f4', 'f5'])\n",
    "scaler.fit(x_train)\n",
    "x_train = scaler.transform(x_train)\n",
    "x_test = scaler.transform(x_test)\n",
    "y_train = one_hot_encoding(y_train, N_CLASS)\n",
    "y_test = one_hot_encoding(y_test, N_CLASS)"
   ]
  },
  {
   "cell_type": "code",
   "execution_count": 8,
   "metadata": {
    "tags": [
     "outputPrepend"
    ]
   },
   "outputs": [
    {
     "name": "stdout",
     "output_type": "stream",
     "text": [
      "Checkpoint 100, Accuracy: 0.9444444444444444, Loss: 0.25517961714002824\n",
      "Checkpoint 200, Accuracy: 0.9691358024691358, Loss: 0.12441930947480379\n",
      "Checkpoint 300, Accuracy: 0.9691358024691358, Loss: 0.12131222972163448\n",
      "Checkpoint 400, Accuracy: 0.9691358024691358, Loss: 0.1187603650269685\n",
      "Checkpoint 500, Accuracy: 0.9691358024691358, Loss: 0.11914277959752965\n"
     ]
    }
   ],
   "source": [
    "# learning phase\n",
    "breakpoint = 100\n",
    "checkpoints = list()\n",
    "history = list()\n",
    "for century in range(0, EPOCHS, breakpoint):\n",
    "    sub_history = model.fit(x_train, y_train, breakpoint, verbose = 0)\n",
    "    score = model.evaluate(x_test, y_test, False, verbose = 0)\n",
    "    print('Checkpoint {}, Accuracy: {}, Loss: {}'.format(century+breakpoint, score['accuracy'], score[model.loss_fn]))\n",
    "    score['checkpoint'] = century + breakpoint\n",
    "    checkpoints.append(score)\n",
    "    history.extend(sub_history)"
   ]
  },
  {
   "cell_type": "code",
   "execution_count": 9,
   "metadata": {},
   "outputs": [],
   "source": [
    "import matplotlib.pyplot as plt\n",
    "\n",
    "def draw_plot(x, y_list, x_label=None, y_label=None, legend=None, title=None):\n",
    "    fig, ax = plt.subplots(figsize=(12,5))\n",
    "    for xi, yi in zip(x, y_list):\n",
    "        ax.plot(xi, yi)\n",
    "    if x_label is not None and y_label is not None:\n",
    "        ax.set(xlabel=x_label, ylabel=y_label, title='{} VS {}'.format(x_label, y_label))\n",
    "    if legend is not None:\n",
    "        ax.legend(legend)\n",
    "    ax.grid()\n",
    "    plt.show()"
   ]
  },
  {
   "cell_type": "code",
   "execution_count": 10,
   "metadata": {},
   "outputs": [
    {
     "name": "stdout",
     "output_type": "stream",
     "text": [
      "[1. 0. 0.] <-> [0.9654276  0.00241501 0.03215737]\n",
      "[0. 0. 1.] <-> [6.9141313e-02 1.7172136e-04 9.3068695e-01]\n",
      "[1. 0. 0.] <-> [0.9905151  0.00278042 0.00670446]\n",
      "[1. 0. 0.] <-> [0.99333596 0.0036171  0.00304698]\n",
      "[0. 0. 1.] <-> [0.656805   0.00163484 0.34156016]\n",
      "[1. 0. 0.] <-> [0.9816522  0.01578945 0.0025583 ]\n",
      "[0. 0. 1.] <-> [2.4726081e-03 6.1289825e-06 9.9752122e-01]\n",
      "[0. 0. 1.] <-> [3.1043878e-03 9.3773133e-06 9.9688619e-01]\n",
      "[0. 0. 1.] <-> [2.5815307e-03 6.4053615e-06 9.9741203e-01]\n",
      "[0. 1. 0.] <-> [1.3375628e-01 8.6591101e-01 3.3265536e-04]\n",
      "[1. 0. 0.] <-> [0.9731074  0.00256448 0.02432813]\n",
      "[1. 0. 0.] <-> [0.98024404 0.00246108 0.01729484]\n",
      "[0. 1. 0.] <-> [2.4729536e-03 9.9752086e-01 6.1305468e-06]\n",
      "[0. 1. 0.] <-> [4.8783489e-02 9.5109540e-01 1.2112359e-04]\n",
      "[0. 1. 0.] <-> [6.3900892e-03 9.9359387e-01 1.6038772e-05]\n",
      "[1. 0. 0.] <-> [0.94079036 0.0028438  0.0563658 ]\n",
      "[1. 0. 0.] <-> [0.9045327  0.0930515  0.00241583]\n",
      "[1. 0. 0.] <-> [0.9925011  0.00256118 0.00493773]\n",
      "[0. 1. 0.] <-> [2.6787976e-03 9.9731451e-01 6.6416806e-06]\n",
      "[1. 0. 0.] <-> [0.98946965 0.00256836 0.00796204]\n",
      "[1. 0. 0.] <-> [0.99216896 0.00300133 0.00482967]\n",
      "[1. 0. 0.] <-> [0.9920012  0.00373152 0.00426726]\n",
      "[1. 0. 0.] <-> [0.98436487 0.01166075 0.00397432]\n",
      "[1. 0. 0.] <-> [0.99389327 0.00275673 0.00335001]\n",
      "[1. 0. 0.] <-> [0.9918778  0.00287526 0.005247  ]\n",
      "[1. 0. 0.] <-> [0.9889099  0.00249727 0.00859278]\n",
      "[0. 0. 1.] <-> [2.4732691e-03 6.1306273e-06 9.9752063e-01]\n",
      "[1. 0. 0.] <-> [0.9860955  0.00250266 0.01140182]\n",
      "[1. 0. 0.] <-> [0.9880774  0.00928139 0.00264127]\n",
      "[1. 0. 0.] <-> [0.9932769  0.00251305 0.00420995]\n",
      "[0. 1. 0.] <-> [5.0163586e-03 9.9497116e-01 1.2457585e-05]\n",
      "[1. 0. 0.] <-> [0.99263966 0.0026127  0.00474775]\n",
      "[1. 0. 0.] <-> [0.99341834 0.00273093 0.00385085]\n",
      "[1. 0. 0.] <-> [0.9875256  0.00251145 0.00996297]\n",
      "[0. 0. 1.] <-> [2.4851295e-03 6.2683498e-06 9.9750853e-01]\n",
      "[1. 0. 0.] <-> [0.9920449  0.0027366  0.00521851]\n",
      "[1. 0. 0.] <-> [0.99399936 0.00276092 0.00323976]\n",
      "[1. 0. 0.] <-> [0.99338466 0.00305935 0.00355595]\n",
      "[1. 0. 0.] <-> [0.9534807  0.00237238 0.04414694]\n",
      "[1. 0. 0.] <-> [0.88595927 0.00226054 0.11178009]\n",
      "[0. 0. 1.] <-> [3.2536804e-03 8.0737827e-06 9.9673826e-01]\n",
      "[1. 0. 0.] <-> [0.94335216 0.00236376 0.0542841 ]\n",
      "[1. 0. 0.] <-> [0.9933734  0.00380347 0.00282317]\n",
      "[1. 0. 0.] <-> [0.9934622  0.00382102 0.00271682]\n",
      "[1. 0. 0.] <-> [0.9942515  0.00283802 0.00291051]\n",
      "[1. 0. 0.] <-> [0.9901432  0.00301129 0.00684557]\n",
      "[1. 0. 0.] <-> [0.99266183 0.00482438 0.00251377]\n",
      "[1. 0. 0.] <-> [0.9713837  0.0024527  0.02616365]\n",
      "[1. 0. 0.] <-> [0.9928691  0.00314483 0.00398606]\n",
      "[1. 0. 0.] <-> [0.99294186 0.00432664 0.00273146]\n",
      "[1. 0. 0.] <-> [0.98764825 0.00256602 0.00978572]\n",
      "[1. 0. 0.] <-> [0.44370154 0.5551573  0.00114114]\n",
      "[1. 0. 0.] <-> [0.9939628  0.00326968 0.00276747]\n",
      "[0. 0. 1.] <-> [2.4726081e-03 6.1289825e-06 9.9752122e-01]\n",
      "[1. 0. 0.] <-> [0.9927055  0.00273746 0.00455699]\n",
      "[1. 0. 0.] <-> [0.99277216 0.00455696 0.00267086]\n",
      "[1. 0. 0.] <-> [0.98632544 0.0024663  0.01120827]\n",
      "[1. 0. 0.] <-> [0.99387795 0.00285042 0.00327165]\n",
      "[1. 0. 0.] <-> [0.9929253  0.00379608 0.00327856]\n",
      "[0. 0. 1.] <-> [2.4726246e-03 6.1290411e-06 9.9752122e-01]\n",
      "[1. 0. 0.] <-> [0.9939366  0.00287557 0.00318787]\n",
      "[1. 0. 0.] <-> [0.9887212  0.00268896 0.00858983]\n",
      "[0. 0. 1.] <-> [2.4727539e-03 6.1294027e-06 9.9752110e-01]\n",
      "[1. 0. 0.] <-> [8.9380611e-03 2.2175087e-05 9.9103981e-01]\n",
      "[1. 0. 0.] <-> [0.85344106 0.00214153 0.14441742]\n",
      "[1. 0. 0.] <-> [0.99286807 0.00460738 0.00252455]\n",
      "[1. 0. 0.] <-> [0.9902424  0.0027784  0.00697916]\n",
      "[1. 0. 0.] <-> [0.9714263  0.02603465 0.00253911]\n",
      "[0. 1. 0.] <-> [2.5923778e-03 9.9740124e-01 6.4373444e-06]\n",
      "[1. 0. 0.] <-> [0.9942978  0.00287643 0.00282568]\n",
      "[1. 0. 0.] <-> [2.6461738e-01 6.6927326e-04 7.3471338e-01]\n",
      "[0. 1. 0.] <-> [0.29268804 0.7065515  0.00076046]\n",
      "[1. 0. 0.] <-> [0.99061906 0.00251336 0.00686753]\n",
      "[0. 0. 1.] <-> [2.7292178e-03 6.7653741e-06 9.9726403e-01]\n",
      "[1. 0. 0.] <-> [0.8653324  0.00214999 0.1325176 ]\n",
      "[0. 1. 0.] <-> [0.7494266  0.24871218 0.00186122]\n",
      "[0. 1. 0.] <-> [2.497615e-03 9.974962e-01 6.200281e-06]\n",
      "[1. 0. 0.] <-> [0.9935183  0.00320769 0.00327393]\n",
      "[1. 0. 0.] <-> [0.99367803 0.00293499 0.00338696]\n",
      "[1. 0. 0.] <-> [0.992894   0.00433031 0.00277571]\n",
      "[1. 0. 0.] <-> [0.9843349  0.00248204 0.0131831 ]\n",
      "[0. 1. 0.] <-> [1.3248239e-02 9.8671848e-01 3.3285316e-05]\n",
      "[1. 0. 0.] <-> [0.98873025 0.00250248 0.00876717]\n",
      "[1. 0. 0.] <-> [0.98602664 0.01150879 0.00246456]\n",
      "[1. 0. 0.] <-> [0.9916311  0.00572598 0.00264297]\n",
      "[1. 0. 0.] <-> [0.99195224 0.0028524  0.00519533]\n",
      "[0. 1. 0.] <-> [2.4729467e-03 9.9752086e-01 6.1417472e-06]\n",
      "[1. 0. 0.] <-> [0.9919504  0.00435185 0.00369782]\n",
      "[0. 0. 1.] <-> [2.4991122e-03 6.1948099e-06 9.9749470e-01]\n",
      "[1. 0. 0.] <-> [0.9884737  0.00266464 0.00886164]\n",
      "[1. 0. 0.] <-> [0.99277747 0.00452364 0.00269899]\n",
      "[1. 0. 0.] <-> [0.94291335 0.00247863 0.05460805]\n",
      "[1. 0. 0.] <-> [0.99109215 0.00297815 0.00592971]\n",
      "[1. 0. 0.] <-> [0.9194541  0.00232861 0.07821731]\n",
      "[0. 1. 0.] <-> [2.4727983e-03 9.9752098e-01 6.1297405e-06]\n",
      "[0. 1. 0.] <-> [3.5871461e-03 9.9640393e-01 8.9663517e-06]\n",
      "[1. 0. 0.] <-> [0.9909078  0.00634977 0.00274253]\n",
      "[1. 0. 0.] <-> [0.99359196 0.00315014 0.00325787]\n",
      "[0. 1. 0.] <-> [0.46848348 0.5303493  0.00116714]\n",
      "[1. 0. 0.] <-> [0.5529625  0.00138174 0.4456558 ]\n",
      "[1. 0. 0.] <-> [0.98997915 0.00259675 0.00742409]\n",
      "[1. 0. 0.] <-> [0.9928086  0.00447507 0.00271629]\n",
      "[1. 0. 0.] <-> [0.99228853 0.0044814  0.00323003]\n",
      "[1. 0. 0.] <-> [0.99086857 0.00270467 0.00642687]\n",
      "[1. 0. 0.] <-> [0.99248964 0.00247568 0.00503465]\n",
      "[1. 0. 0.] <-> [0.9938021  0.00334722 0.00285067]\n",
      "[1. 0. 0.] <-> [0.9051177  0.09237343 0.00250883]\n",
      "[1. 0. 0.] <-> [0.9723664  0.00247587 0.02515771]\n",
      "{'accuracy': 0.9691358024691358, 'mean_square_error': 0.06394820529560764, 'categorical_crossentropy': 0.11914277959752965, 'essential_metrics': {0: {'tp_hit': 77, 'fp_hit': 2, 'tn_hit': 26, 'fn_hit': 3}, 1: {'tp_hit': 14, 'fp_hit': 1, 'tn_hit': 92, 'fn_hit': 1}, 2: {'tp_hit': 12, 'fp_hit': 2, 'tn_hit': 93, 'fn_hit': 1}}}\n"
     ]
    }
   ],
   "source": [
    "# recall phase\n",
    "score = model.evaluate(x_test, y_test, False)\n",
    "print(score)"
   ]
  },
  {
   "cell_type": "code",
   "execution_count": 11,
   "metadata": {},
   "outputs": [
    {
     "data": {
      "image/png": "[encoded data removed]",
      "text/plain": [
       "<Figure size 864x360 with 1 Axes>"
      ]
     },
     "metadata": {
      "needs_background": "light"
     },
     "output_type": "display_data"
    },
    {
     "data": {
      "image/png": "[encoded data removed]",
      "text/plain": [
       "<Figure size 864x360 with 1 Axes>"
      ]
     },
     "metadata": {
      "needs_background": "light"
     },
     "output_type": "display_data"
    }
   ],
   "source": [
    "draw_plot(x = [[i for i in range(len(history))], [(i+1)*breakpoint for i in range(len(checkpoints))]], y_list = [history, [ ckp[model.loss_fn] for ckp in checkpoints ]], x_label = 'Epochs', \\\n",
    "    y_label = model.loss_fn, legend=['train', 'test'])\n",
    "acc = [ ckp['accuracy'] for ckp in checkpoints ]\n",
    "draw_plot(x = [[(i+1)*breakpoint for i in range(len(checkpoints))]], y_list = [acc], x_label = 'Checkpoints', \\\n",
    "    y_label = 'accuracy')"
   ]
  },
  {
   "cell_type": "code",
   "execution_count": 12,
   "metadata": {},
   "outputs": [
    {
     "name": "stdout",
     "output_type": "stream",
     "text": [
      "{'accuracy': 0.9444444444444444, 'mean_square_error': 0.13044293248966282, 'categorical_crossentropy': 0.25517961714002824, 'essential_metrics': {0: {'tp_hit': 79, 'fp_hit': 8, 'tn_hit': 20, 'fn_hit': 1}, 1: {'tp_hit': 10, 'fp_hit': 0, 'tn_hit': 93, 'fn_hit': 5}, 2: {'tp_hit': 10, 'fp_hit': 1, 'tn_hit': 94, 'fn_hit': 3}}, 'checkpoint': 100} \n",
      "\n",
      "\n",
      "{'accuracy': 0.9691358024691358, 'mean_square_error': 0.06148608179752365, 'categorical_crossentropy': 0.12441930947480379, 'essential_metrics': {0: {'tp_hit': 76, 'fp_hit': 1, 'tn_hit': 27, 'fn_hit': 4}, 1: {'tp_hit': 15, 'fp_hit': 1, 'tn_hit': 92, 'fn_hit': 0}, 2: {'tp_hit': 12, 'fp_hit': 3, 'tn_hit': 92, 'fn_hit': 1}}, 'checkpoint': 200} \n",
      "\n",
      "\n",
      "{'accuracy': 0.9691358024691358, 'mean_square_error': 0.06570026193747593, 'categorical_crossentropy': 0.12131222972163448, 'essential_metrics': {0: {'tp_hit': 77, 'fp_hit': 2, 'tn_hit': 26, 'fn_hit': 3}, 1: {'tp_hit': 14, 'fp_hit': 1, 'tn_hit': 92, 'fn_hit': 1}, 2: {'tp_hit': 12, 'fp_hit': 2, 'tn_hit': 93, 'fn_hit': 1}}, 'checkpoint': 300} \n",
      "\n",
      "\n",
      "{'accuracy': 0.9691358024691358, 'mean_square_error': 0.06372864305930515, 'categorical_crossentropy': 0.1187603650269685, 'essential_metrics': {0: {'tp_hit': 77, 'fp_hit': 2, 'tn_hit': 26, 'fn_hit': 3}, 1: {'tp_hit': 14, 'fp_hit': 1, 'tn_hit': 92, 'fn_hit': 1}, 2: {'tp_hit': 12, 'fp_hit': 2, 'tn_hit': 93, 'fn_hit': 1}}, 'checkpoint': 400} \n",
      "\n",
      "\n",
      "{'accuracy': 0.9691358024691358, 'mean_square_error': 0.06394820529560764, 'categorical_crossentropy': 0.11914277959752965, 'essential_metrics': {0: {'tp_hit': 77, 'fp_hit': 2, 'tn_hit': 26, 'fn_hit': 3}, 1: {'tp_hit': 14, 'fp_hit': 1, 'tn_hit': 92, 'fn_hit': 1}, 2: {'tp_hit': 12, 'fp_hit': 2, 'tn_hit': 93, 'fn_hit': 1}}, 'checkpoint': 500} \n",
      "\n",
      "\n"
     ]
    }
   ],
   "source": [
    "for checkpoint in checkpoints:\n",
    "    print(checkpoint, '\\n\\n')"
   ]
  },
  {
   "cell_type": "code",
   "execution_count": 13,
   "metadata": {},
   "outputs": [
    {
     "name": "stdout",
     "output_type": "stream",
     "text": [
      "Layer 1\n",
      "Neuron 0: weights:\n",
      "[-1.9135466  3.         1.4065943  2.263464  -3.       ]\n",
      " bias: -3.0\n",
      "\n",
      "Neuron 1: weights:\n",
      "[-0.00446697 -3.         -0.27091205  0.9161995   3.        ]\n",
      " bias: -3.0\n",
      "\n",
      "Neuron 2: weights:\n",
      "[ 2.0022163 -3.        -3.        -1.5954813  2.053847 ]\n",
      " bias: 3.0\n",
      "\n",
      "Neuron 3: weights:\n",
      "[-0.04057622  3.          0.3736221  -0.8710008  -3.        ]\n",
      " bias: 3.0\n",
      "\n",
      "$\n",
      "Layer 2\n",
      "Neuron 0: weights:\n",
      "[-3. -3.  3.  3.]\n",
      " bias: -3.0\n",
      "\n",
      "Neuron 1: weights:\n",
      "[ 3. -3. -3.  3.]\n",
      " bias: -3.0\n",
      "\n",
      "Neuron 2: weights:\n",
      "[-3.  3.  3. -3.]\n",
      " bias: -3.0\n",
      "\n",
      "$\n",
      "\n"
     ]
    }
   ],
   "source": [
    "print(model)"
   ]
  }
 ],
 "metadata": {
  "kernelspec": {
   "display_name": "Python 3",
   "language": "python",
   "name": "python3"
  },
  "language_info": {
   "codemirror_mode": {
    "name": "ipython",
    "version": 3
   },
   "file_extension": ".py",
   "mimetype": "text/x-python",
   "name": "python",
   "nbconvert_exporter": "python",
   "pygments_lexer": "ipython3",
   "version": "3.6.10"
  }
 },
 "nbformat": 4,
 "nbformat_minor": 2
}
