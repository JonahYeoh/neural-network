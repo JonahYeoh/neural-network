{
 "cells": [
  {
   "cell_type": "code",
   "execution_count": 1,
   "metadata": {},
   "outputs": [],
   "source": [
    "# dependency\n",
    "import numpy as np\n",
    "import pandas as pd\n",
    "import copy\n",
    "import math\n",
    "import sys\n",
    "import os\n",
    "from activations import relu, leaky_relu, sigmoid, tanh, softmax, d_sigmoid, d_relu\n",
    "from initializers import glorot_uniform, random_normal, random_uniform\n",
    "from regularizers import l1_regularizer, l2_regularizer\n",
    "from utility import trim_tail, multiply, subtract, get_nparams, one_hot_encoding, get_data\n",
    "from metrics import MSE, CCE, ACC, PRECISION, RECALL, essential_metrics, wondering_penalty, close_gap_penalty\n",
    "from pso import PSO\n",
    "from ga import GA\n",
    "from nn import Network\n",
    "from layer import DenseLayer\n",
    "from scalers import MinMaxScaler, StandardScaler"
   ]
  },
  {
   "cell_type": "code",
   "execution_count": 2,
   "metadata": {},
   "outputs": [],
   "source": [
    "# reference\n",
    "metrics_fn_dict = dict()\n",
    "metrics_fn_dict['accuracy'] = ACC\n",
    "metrics_fn_dict['categorical_crossentropy'] = CCE\n",
    "metrics_fn_dict['mean_square_error'] = MSE\n",
    "metrics_fn_dict['precision'] = PRECISION\n",
    "metrics_fn_dict['recall'] = RECALL\n",
    "metrics_fn_dict['essential_metrics'] = essential_metrics"
   ]
  },
  {
   "cell_type": "code",
   "execution_count": 3,
   "metadata": {},
   "outputs": [],
   "source": [
    "# model\n",
    "model = Network(5, lr = None)\n",
    "model.add_layer(DenseLayer(1, 4, True, afn=sigmoid, dafn=None, rfn=None))\n",
    "model.add_layer(DenseLayer(2, 3, True, afn=softmax, dafn=None, rfn=None))"
   ]
  },
  {
   "cell_type": "code",
   "execution_count": 4,
   "metadata": {},
   "outputs": [
    {
     "name": "stdout",
     "output_type": "stream",
     "text": [
      "see one see two 2.0 0.5\n"
     ]
    }
   ],
   "source": [
    "pso = PSO(dict(m = 50,\n",
    "    weight_constraint = [-3, 3], \n",
    "    velocity_constraint = [-0.1, 0.1],\n",
    "    c1 = [0.5, 2.0],\n",
    "    c2 = [0.5, 2.0],\n",
    "    w = [0.5, 1.6],\n",
    "    w_decay = 0.95,\n",
    "    scale_hyperparameter = False,\n",
    "    regularizer = l1_regularizer,\n",
    "    mask = True))"
   ]
  },
  {
   "cell_type": "code",
   "execution_count": 5,
   "metadata": {},
   "outputs": [
    {
     "name": "stdout",
     "output_type": "stream",
     "text": [
      "building layer 1 with 5\n",
      "24\n",
      "building layer 2 with 4\n",
      "15\n"
     ]
    }
   ],
   "source": [
    "model.compile(loss_fn = 'categorical_crossentropy', optimizer = pso, \\\n",
    "    metrics = ['accuracy', 'mean_square_error', 'categorical_crossentropy'])"
   ]
  },
  {
   "cell_type": "code",
   "execution_count": 6,
   "metadata": {},
   "outputs": [
    {
     "name": "stdout",
     "output_type": "stream",
     "text": [
      "<class 'pandas.core.frame.DataFrame'>\n",
      "RangeIndex: 107 entries, 0 to 106\n",
      "Data columns (total 6 columns):\n",
      " #   Column  Non-Null Count  Dtype  \n",
      "---  ------  --------------  -----  \n",
      " 0   f1      107 non-null    float32\n",
      " 1   f2      107 non-null    float32\n",
      " 2   f3      107 non-null    float32\n",
      " 3   f4      107 non-null    float32\n",
      " 4   f5      107 non-null    float32\n",
      " 5   label   107 non-null    float32\n",
      "dtypes: float32(6)\n",
      "memory usage: 2.6 KB\n",
      "None\n",
      "<class 'pandas.core.frame.DataFrame'>\n",
      "RangeIndex: 108 entries, 0 to 107\n",
      "Data columns (total 6 columns):\n",
      " #   Column  Non-Null Count  Dtype  \n",
      "---  ------  --------------  -----  \n",
      " 0   f1      108 non-null    float32\n",
      " 1   f2      108 non-null    float32\n",
      " 2   f3      108 non-null    float32\n",
      " 3   f4      108 non-null    float32\n",
      " 4   f5      108 non-null    float32\n",
      " 5   label   108 non-null    float32\n",
      "dtypes: float32(6)\n",
      "memory usage: 2.7 KB\n",
      "None\n"
     ]
    }
   ],
   "source": [
    "# data loading\n",
    "DATA = os.path.join('c:\\\\Users\\\\AI-lab\\\\github_repo\\\\neural-network\\\\', 'dataset')\n",
    "GROUP = 2\n",
    "COLUMNS = ['f1', 'f2', 'f3', 'f4', 'f5', 'label']\n",
    "N_CLASS = 3\n",
    "EPOCHS = 200\n",
    "train_dir, test_dir = \"..//dataset//training_data{}.txt\".format(GROUP), \"..//dataset//testing_data{}.txt\".format(GROUP)\n",
    "train, test = get_data(DATA, train_dir, COLUMNS), get_data(DATA, test_dir, COLUMNS)\n",
    "# shuffle\n",
    "train, test = train.sample(frac=1), test.sample(frac=1)\n",
    "x_train, y_train = train.drop('label', axis=1), train['label']\n",
    "x_test, y_test = test.drop('label', axis=1), test['label']"
   ]
  },
  {
   "cell_type": "code",
   "execution_count": 7,
   "metadata": {},
   "outputs": [],
   "source": [
    "# data scaling and encoding\n",
    "scaler = StandardScaler(['f1', 'f2', 'f3', 'f4', 'f5'])\n",
    "scaler.fit(x_train)\n",
    "x_train = scaler.transform(x_train)\n",
    "x_test = scaler.transform(x_test)\n",
    "y_train = one_hot_encoding(y_train, N_CLASS)\n",
    "y_test = one_hot_encoding(y_test, N_CLASS)"
   ]
  },
  {
   "cell_type": "code",
   "execution_count": 8,
   "metadata": {
    "tags": [
     "outputPrepend"
    ]
   },
   "outputs": [
    {
     "name": "stdout",
     "output_type": "stream",
     "text": [
      "Checkpoint 10, Accuracy: 0.8333333333333334, Loss: 0.735505633884006\n",
      "Checkpoint 20, Accuracy: 0.8888888888888888, Loss: 0.573365847269694\n",
      "Checkpoint 30, Accuracy: 0.8580246913580247, Loss: 0.6798812724925853\n",
      "Checkpoint 40, Accuracy: 0.9506172839506173, Loss: 0.5108938217163086\n",
      "Checkpoint 50, Accuracy: 0.9320987654320988, Loss: 0.40184656778971356\n",
      "Checkpoint 60, Accuracy: 0.9382716049382716, Loss: 0.4226318995157878\n",
      "Checkpoint 70, Accuracy: 0.9506172839506173, Loss: 0.3754640508581091\n",
      "Checkpoint 80, Accuracy: 0.9259259259259259, Loss: 0.33482657538519967\n",
      "Checkpoint 90, Accuracy: 0.9506172839506173, Loss: 0.33150966079146776\n",
      "Checkpoint 100, Accuracy: 0.9753086419753086, Loss: 0.26028493598655417\n",
      "Checkpoint 110, Accuracy: 0.9753086419753086, Loss: 0.26418806005407264\n",
      "Checkpoint 120, Accuracy: 0.9629629629629629, Loss: 0.27516440992002134\n",
      "Checkpoint 130, Accuracy: 0.9629629629629629, Loss: 0.24355574007387515\n",
      "Checkpoint 140, Accuracy: 0.9691358024691358, Loss: 0.2244339695683232\n",
      "Checkpoint 150, Accuracy: 0.9691358024691358, Loss: 0.20975508513274016\n",
      "Checkpoint 160, Accuracy: 0.9691358024691358, Loss: 0.20393094310054072\n",
      "Checkpoint 170, Accuracy: 0.9691358024691358, Loss: 0.1992153944792571\n",
      "Checkpoint 180, Accuracy: 0.9753086419753086, Loss: 0.21220804143834998\n",
      "Checkpoint 190, Accuracy: 0.9691358024691358, Loss: 0.19862960886072228\n",
      "Checkpoint 200, Accuracy: 0.9567901234567902, Loss: 0.2131807185985424\n"
     ]
    }
   ],
   "source": [
    "# learning phase\n",
    "breakpoint = 10\n",
    "checkpoints = list()\n",
    "history = list()\n",
    "for century in range(0, EPOCHS, breakpoint):\n",
    "    sub_history = model.fit(x_train, y_train, breakpoint, verbose = 0)\n",
    "    score = model.evaluate(x_test, y_test, False, verbose = 0)\n",
    "    print('Checkpoint {}, Accuracy: {}, Loss: {}'.format(century+breakpoint, score['accuracy'], score[model.loss_fn]))\n",
    "    score['checkpoint'] = century + breakpoint\n",
    "    checkpoints.append(score)\n",
    "    history.extend(sub_history)\n",
    "    itr = century + breakpoint\n",
    "    model.optimizer.c1 = np.max([model.optimizer.C1[1] - ((model.optimizer.C1[1] - model.optimizer.C1[0]) * itr / EPOCHS), model.optimizer.C1[0]])\n",
    "    model.optimizer.c2 = np.min([model.optimizer.C2[0] + ((model.optimizer.C2[1] - model.optimizer.C2[0]) * itr / EPOCHS), model.optimizer.C2[1]])\n",
    "    model.optimizer.w = np.max([model.optimizer.w * model.optimizer.W_Decay, model.optimizer.W[0]])"
   ]
  },
  {
   "cell_type": "code",
   "execution_count": 9,
   "metadata": {},
   "outputs": [],
   "source": [
    "import matplotlib.pyplot as plt\n",
    "\n",
    "def draw_plot(x, y_list, x_label=None, y_label=None, legend=None, title=None):\n",
    "    fig, ax = plt.subplots(figsize=(12,5))\n",
    "    for xi, yi in zip(x, y_list):\n",
    "        ax.plot(xi, yi)\n",
    "    if x_label is not None and y_label is not None:\n",
    "        ax.set(xlabel=x_label, ylabel=y_label, title='{} VS {}'.format(x_label, y_label))\n",
    "    if legend is not None:\n",
    "        ax.legend(legend)\n",
    "    ax.grid()\n",
    "    plt.show()"
   ]
  },
  {
   "cell_type": "code",
   "execution_count": 10,
   "metadata": {},
   "outputs": [],
   "source": [
    "train_acc = [h['accuracy'] for h in history]\n",
    "train_mse = [h['mean_square_error'] for h in history]\n",
    "train_cce = [h['categorical_crossentropy'] for h in history]"
   ]
  },
  {
   "cell_type": "code",
   "execution_count": 11,
   "metadata": {},
   "outputs": [
    {
     "data": {
      "image/png": "[encoded data removed]",
      "text/plain": [
       "<Figure size 864x360 with 1 Axes>"
      ]
     },
     "metadata": {
      "needs_background": "light"
     },
     "output_type": "display_data"
    },
    {
     "data": {
      "image/png": "[encoded data removed]",
      "text/plain": [
       "<Figure size 864x360 with 1 Axes>"
      ]
     },
     "metadata": {
      "needs_background": "light"
     },
     "output_type": "display_data"
    }
   ],
   "source": [
    "draw_plot(x = [[i for i in range(len(history))], [(i+1)*breakpoint for i in range(len(checkpoints))]], y_list = [train_cce, [ ckp[model.loss_fn] for ckp in checkpoints ]], x_label = 'Epochs', \\\n",
    "    y_label = model.loss_fn, legend=['train', 'test'])\n",
    "acc = [ ckp['accuracy'] for ckp in checkpoints ]\n",
    "draw_plot(x = [[i for i in range(len(history))], [(i+1)*breakpoint for i in range(len(checkpoints))]], y_list = [train_acc, acc], x_label = 'Checkpoints', \\\n",
    "    y_label = 'accuracy', legend=['train', 'test'])"
   ]
  },
  {
   "cell_type": "code",
   "execution_count": 12,
   "metadata": {},
   "outputs": [
    {
     "name": "stdout",
     "output_type": "stream",
     "text": [
      "[1. 0. 0.] <-> [0.86254364 0.0132846  0.12417177]\n",
      "[1. 0. 0.] <-> [0.91243947 0.01106318 0.07649746]\n",
      "[1. 0. 0.] <-> [0.9059015  0.03499791 0.05910064]\n",
      "[1. 0. 0.] <-> [0.91124636 0.05439742 0.03435625]\n",
      "[0. 1. 0.] <-> [0.14325103 0.8549569  0.00179208]\n",
      "[1. 0. 0.] <-> [0.9209077  0.01915062 0.05994175]\n",
      "[0. 1. 0.] <-> [0.10471087 0.8937965  0.00149268]\n",
      "[1. 0. 0.] <-> [0.9277663  0.00971806 0.06251558]\n",
      "[1. 0. 0.] <-> [0.9426505  0.02112385 0.03622566]\n",
      "[1. 0. 0.] <-> [0.7966492  0.18705562 0.01629516]\n",
      "[1. 0. 0.] <-> [0.87632746 0.10798563 0.01568687]\n",
      "[1. 0. 0.] <-> [0.93730205 0.00974856 0.0529494 ]\n",
      "[1. 0. 0.] <-> [0.9171897  0.01732887 0.06548142]\n",
      "[1. 0. 0.] <-> [0.7144915  0.02793059 0.2575779 ]\n",
      "[1. 0. 0.] <-> [0.93261564 0.03232253 0.03506186]\n",
      "[1. 0. 0.] <-> [0.8790244  0.09243555 0.02854006]\n",
      "[0. 0. 1.] <-> [0.07762813 0.00374557 0.9186263 ]\n",
      "[1. 0. 0.] <-> [0.91842717 0.05670412 0.02486861]\n",
      "[1. 0. 0.] <-> [0.7064613  0.28478914 0.00874955]\n",
      "[1. 0. 0.] <-> [0.94956195 0.02202396 0.0284141 ]\n",
      "[1. 0. 0.] <-> [0.9297778  0.01251406 0.05770815]\n",
      "[0. 1. 0.] <-> [0.2536751  0.74292886 0.00339609]\n",
      "[0. 0. 1.] <-> [0.85993063 0.00728538 0.13278389]\n",
      "[1. 0. 0.] <-> [0.9071476  0.01460456 0.07824786]\n",
      "[1. 0. 0.] <-> [0.9109995  0.06665202 0.02234851]\n",
      "[1. 0. 0.] <-> [0.93027407 0.01182678 0.05789914]\n",
      "[0. 1. 0.] <-> [0.2496606  0.74760854 0.00273086]\n",
      "[1. 0. 0.] <-> [0.7179951  0.2671539  0.01485105]\n",
      "[0. 1. 0.] <-> [0.4656156  0.5295007  0.00488367]\n",
      "[1. 0. 0.] <-> [0.9209541  0.04356891 0.03547695]\n",
      "[0. 1. 0.] <-> [0.20561531 0.7924363  0.00194832]\n",
      "[1. 0. 0.] <-> [0.94072294 0.01482845 0.0444486 ]\n",
      "[0. 1. 0.] <-> [0.34633645 0.6490869  0.00457672]\n",
      "[1. 0. 0.] <-> [0.94759023 0.00986973 0.04254004]\n",
      "[1. 0. 0.] <-> [0.8350159  0.1487812  0.01620286]\n",
      "[0. 0. 1.] <-> [0.05114918 0.00433616 0.9445147 ]\n",
      "[0. 1. 0.] <-> [0.39730588 0.5975039  0.00519025]\n",
      "[1. 0. 0.] <-> [0.9280316  0.00751028 0.06445812]\n",
      "[1. 0. 0.] <-> [0.92804235 0.04171179 0.0302459 ]\n",
      "[1. 0. 0.] <-> [0.9364258  0.03602288 0.02755135]\n",
      "[1. 0. 0.] <-> [0.9105989  0.0349935  0.05440765]\n",
      "[1. 0. 0.] <-> [0.90748274 0.07054406 0.02197315]\n",
      "[0. 0. 1.] <-> [0.0494693  0.00690837 0.9436223 ]\n",
      "[1. 0. 0.] <-> [0.88900155 0.0589861  0.0520124 ]\n",
      "[1. 0. 0.] <-> [0.8568551  0.02511482 0.11803012]\n",
      "[1. 0. 0.] <-> [0.7641812  0.01010575 0.22571313]\n",
      "[1. 0. 0.] <-> [0.89465773 0.04138269 0.06395961]\n",
      "[1. 0. 0.] <-> [0.9181596  0.05658206 0.02525837]\n",
      "[0. 1. 0.] <-> [0.11429915 0.88425034 0.00145058]\n",
      "[1. 0. 0.] <-> [0.9207974  0.01047585 0.06872665]\n",
      "[1. 0. 0.] <-> [0.62470067 0.02535778 0.34994155]\n",
      "[1. 0. 0.] <-> [0.92400044 0.02135525 0.05464435]\n",
      "[1. 0. 0.] <-> [0.86686736 0.05203633 0.0810964 ]\n",
      "[1. 0. 0.] <-> [0.1871028  0.01081396 0.80208325]\n",
      "[1. 0. 0.] <-> [0.90718234 0.05988491 0.03293276]\n",
      "[0. 1. 0.] <-> [0.11471025 0.88386154 0.00142821]\n",
      "[1. 0. 0.] <-> [0.90654516 0.02994878 0.0635061 ]\n",
      "[1. 0. 0.] <-> [0.89929014 0.07889187 0.02181803]\n",
      "[1. 0. 0.] <-> [0.8376973  0.0420799  0.12022284]\n",
      "[1. 0. 0.] <-> [0.90722543 0.02400718 0.06876743]\n",
      "[1. 0. 0.] <-> [0.8856957  0.03518097 0.07912338]\n",
      "[1. 0. 0.] <-> [0.9519361  0.01962696 0.02843683]\n",
      "[0. 0. 1.] <-> [0.04336472 0.00369991 0.95293534]\n",
      "[0. 0. 1.] <-> [0.04323682 0.00433814 0.952425  ]\n",
      "[0. 1. 0.] <-> [0.5480064  0.4467736  0.00522004]\n",
      "[1. 0. 0.] <-> [0.81387216 0.02547972 0.16064811]\n",
      "[0. 1. 0.] <-> [0.54292345 0.45116985 0.00590667]\n",
      "[1. 0. 0.] <-> [0.9158015  0.03055572 0.0536428 ]\n",
      "[1. 0. 0.] <-> [0.7812885  0.1995168  0.01919466]\n",
      "[1. 0. 0.] <-> [0.9286048  0.01048038 0.06091488]\n",
      "[1. 0. 0.] <-> [0.9301073  0.03470776 0.03518494]\n",
      "[1. 0. 0.] <-> [0.8670146  0.0165361  0.11644933]\n",
      "[1. 0. 0.] <-> [0.91566557 0.03422645 0.05010799]\n",
      "[1. 0. 0.] <-> [0.9320794  0.04464295 0.02327768]\n",
      "[1. 0. 0.] <-> [0.8478825  0.01459333 0.13752422]\n",
      "[0. 1. 0.] <-> [0.55942726 0.43155923 0.00901357]\n",
      "[1. 0. 0.] <-> [0.8931899  0.09328136 0.01352881]\n",
      "[1. 0. 0.] <-> [0.9228486  0.03429511 0.04285631]\n",
      "[0. 0. 1.] <-> [0.06227504 0.00404841 0.9336766 ]\n",
      "[1. 0. 0.] <-> [0.6889871  0.0154131  0.29559976]\n",
      "[1. 0. 0.] <-> [0.82364124 0.14703737 0.02932143]\n",
      "[0. 1. 0.] <-> [0.17533834 0.8225362  0.00212549]\n",
      "[1. 0. 0.] <-> [0.9365388  0.03524015 0.02822112]\n",
      "[0. 1. 0.] <-> [0.74708617 0.2457182  0.00719564]\n",
      "[1. 0. 0.] <-> [0.9043833  0.07920592 0.01641081]\n",
      "[1. 0. 0.] <-> [0.8616482  0.00912075 0.12923108]\n",
      "[1. 0. 0.] <-> [0.9124614  0.03014539 0.05739322]\n",
      "[0. 0. 1.] <-> [0.0390148  0.00383189 0.95715326]\n",
      "[1. 0. 0.] <-> [0.9391966  0.03815967 0.02264376]\n",
      "[0. 0. 1.] <-> [0.11853603 0.00933796 0.87212604]\n",
      "[1. 0. 0.] <-> [0.91702086 0.06350826 0.01947085]\n",
      "[0. 0. 1.] <-> [0.0352711  0.00419248 0.9605365 ]\n",
      "[1. 0. 0.] <-> [0.9122921  0.04594423 0.04176365]\n",
      "[0. 0. 1.] <-> [0.05685452 0.0033009  0.93984455]\n",
      "[1. 0. 0.] <-> [0.937677   0.0341691  0.02815392]\n",
      "[1. 0. 0.] <-> [0.7460697  0.02971317 0.22421706]\n",
      "[0. 0. 1.] <-> [0.7060831  0.00771122 0.2862056 ]\n",
      "[1. 0. 0.] <-> [0.89396906 0.02334282 0.08268804]\n",
      "[1. 0. 0.] <-> [0.9266475  0.04108451 0.03226801]\n",
      "[1. 0. 0.] <-> [0.9065988  0.06038881 0.03301232]\n",
      "[1. 0. 0.] <-> [0.9192856  0.06602619 0.01468817]\n",
      "[1. 0. 0.] <-> [0.88388383 0.09703432 0.01908188]\n",
      "[1. 0. 0.] <-> [0.8835406  0.01266523 0.10379414]\n",
      "[1. 0. 0.] <-> [0.7638484  0.22149539 0.01465611]\n",
      "[1. 0. 0.] <-> [0.8043791  0.17748713 0.01813378]\n",
      "[0. 0. 1.] <-> [0.04141941 0.00374272 0.9548379 ]\n",
      "[1. 0. 0.] <-> [0.64297587 0.34720498 0.00981914]\n",
      "[1. 0. 0.] <-> [0.9318463  0.0334409  0.03471279]\n",
      "{'accuracy': 0.9567901234567902, 'mean_square_error': 0.10354686919789048, 'categorical_crossentropy': 0.2131807185985424, 'essential_metrics': {0: {'tp_hit': 79, 'fp_hit': 6, 'tn_hit': 22, 'fn_hit': 1}, 1: {'tp_hit': 11, 'fp_hit': 0, 'tn_hit': 93, 'fn_hit': 4}, 2: {'tp_hit': 11, 'fp_hit': 1, 'tn_hit': 94, 'fn_hit': 2}}}\n"
     ]
    }
   ],
   "source": [
    "# recall phase\n",
    "score = model.evaluate(x_test, y_test, False)\n",
    "print(score)"
   ]
  },
  {
   "cell_type": "code",
   "execution_count": 13,
   "metadata": {},
   "outputs": [
    {
     "name": "stdout",
     "output_type": "stream",
     "text": [
      "{'accuracy': 0.8333333333333334, 'mean_square_error': 0.41762792466466697, 'categorical_crossentropy': 0.735505633884006, 'essential_metrics': {0: {'tp_hit': 61, 'fp_hit': 8, 'tn_hit': 20, 'fn_hit': 19}, 1: {'tp_hit': 14, 'fp_hit': 3, 'tn_hit': 90, 'fn_hit': 1}, 2: {'tp_hit': 6, 'fp_hit': 16, 'tn_hit': 79, 'fn_hit': 7}}, 'checkpoint': 10} \n",
      "\n",
      "\n",
      "{'accuracy': 0.8888888888888888, 'mean_square_error': 0.3032724832184649, 'categorical_crossentropy': 0.573365847269694, 'essential_metrics': {0: {'tp_hit': 77, 'fp_hit': 15, 'tn_hit': 13, 'fn_hit': 3}, 1: {'tp_hit': 9, 'fp_hit': 2, 'tn_hit': 91, 'fn_hit': 6}, 2: {'tp_hit': 4, 'fp_hit': 1, 'tn_hit': 94, 'fn_hit': 9}}, 'checkpoint': 20} \n",
      "\n",
      "\n",
      "{'accuracy': 0.8580246913580247, 'mean_square_error': 0.39416333516545543, 'categorical_crossentropy': 0.6798812724925853, 'essential_metrics': {0: {'tp_hit': 76, 'fp_hit': 19, 'tn_hit': 9, 'fn_hit': 4}, 1: {'tp_hit': 3, 'fp_hit': 0, 'tn_hit': 93, 'fn_hit': 12}, 2: {'tp_hit': 6, 'fp_hit': 4, 'tn_hit': 91, 'fn_hit': 7}}, 'checkpoint': 30} \n",
      "\n",
      "\n",
      "{'accuracy': 0.9506172839506173, 'mean_square_error': 0.2671099823523098, 'categorical_crossentropy': 0.5108938217163086, 'essential_metrics': {0: {'tp_hit': 77, 'fp_hit': 5, 'tn_hit': 23, 'fn_hit': 3}, 1: {'tp_hit': 13, 'fp_hit': 3, 'tn_hit': 90, 'fn_hit': 2}, 2: {'tp_hit': 10, 'fp_hit': 0, 'tn_hit': 95, 'fn_hit': 3}}, 'checkpoint': 40} \n",
      "\n",
      "\n",
      "{'accuracy': 0.9320987654320988, 'mean_square_error': 0.20623118657041659, 'categorical_crossentropy': 0.40184656778971356, 'essential_metrics': {0: {'tp_hit': 78, 'fp_hit': 9, 'tn_hit': 19, 'fn_hit': 2}, 1: {'tp_hit': 9, 'fp_hit': 2, 'tn_hit': 91, 'fn_hit': 6}, 2: {'tp_hit': 10, 'fp_hit': 0, 'tn_hit': 95, 'fn_hit': 3}}, 'checkpoint': 50} \n",
      "\n",
      "\n",
      "{'accuracy': 0.9382716049382716, 'mean_square_error': 0.21733497590829914, 'categorical_crossentropy': 0.4226318995157878, 'essential_metrics': {0: {'tp_hit': 78, 'fp_hit': 8, 'tn_hit': 20, 'fn_hit': 2}, 1: {'tp_hit': 14, 'fp_hit': 2, 'tn_hit': 91, 'fn_hit': 1}, 2: {'tp_hit': 6, 'fp_hit': 0, 'tn_hit': 95, 'fn_hit': 7}}, 'checkpoint': 60} \n",
      "\n",
      "\n",
      "{'accuracy': 0.9506172839506173, 'mean_square_error': 0.18449459602425325, 'categorical_crossentropy': 0.3754640508581091, 'essential_metrics': {0: {'tp_hit': 79, 'fp_hit': 7, 'tn_hit': 21, 'fn_hit': 1}, 1: {'tp_hit': 13, 'fp_hit': 1, 'tn_hit': 92, 'fn_hit': 2}, 2: {'tp_hit': 8, 'fp_hit': 0, 'tn_hit': 95, 'fn_hit': 5}}, 'checkpoint': 70} \n",
      "\n",
      "\n",
      "{'accuracy': 0.9259259259259259, 'mean_square_error': 0.16906067597870109, 'categorical_crossentropy': 0.33482657538519967, 'essential_metrics': {0: {'tp_hit': 80, 'fp_hit': 11, 'tn_hit': 17, 'fn_hit': 0}, 1: {'tp_hit': 14, 'fp_hit': 1, 'tn_hit': 92, 'fn_hit': 1}, 2: {'tp_hit': 2, 'fp_hit': 0, 'tn_hit': 95, 'fn_hit': 11}}, 'checkpoint': 80} \n",
      "\n",
      "\n",
      "{'accuracy': 0.9506172839506173, 'mean_square_error': 0.15845047192873413, 'categorical_crossentropy': 0.33150966079146776, 'essential_metrics': {0: {'tp_hit': 80, 'fp_hit': 8, 'tn_hit': 20, 'fn_hit': 0}, 1: {'tp_hit': 10, 'fp_hit': 0, 'tn_hit': 93, 'fn_hit': 5}, 2: {'tp_hit': 10, 'fp_hit': 0, 'tn_hit': 95, 'fn_hit': 3}}, 'checkpoint': 90} \n",
      "\n",
      "\n",
      "{'accuracy': 0.9753086419753086, 'mean_square_error': 0.11926204733554141, 'categorical_crossentropy': 0.26028493598655417, 'essential_metrics': {0: {'tp_hit': 80, 'fp_hit': 4, 'tn_hit': 24, 'fn_hit': 0}, 1: {'tp_hit': 14, 'fp_hit': 0, 'tn_hit': 93, 'fn_hit': 1}, 2: {'tp_hit': 10, 'fp_hit': 0, 'tn_hit': 95, 'fn_hit': 3}}, 'checkpoint': 100} \n",
      "\n",
      "\n",
      "{'accuracy': 0.9753086419753086, 'mean_square_error': 0.11824109238397675, 'categorical_crossentropy': 0.26418806005407264, 'essential_metrics': {0: {'tp_hit': 80, 'fp_hit': 4, 'tn_hit': 24, 'fn_hit': 0}, 1: {'tp_hit': 14, 'fp_hit': 0, 'tn_hit': 93, 'fn_hit': 1}, 2: {'tp_hit': 10, 'fp_hit': 0, 'tn_hit': 95, 'fn_hit': 3}}, 'checkpoint': 110} \n",
      "\n",
      "\n",
      "{'accuracy': 0.9629629629629629, 'mean_square_error': 0.12732621395086083, 'categorical_crossentropy': 0.27516440992002134, 'essential_metrics': {0: {'tp_hit': 79, 'fp_hit': 5, 'tn_hit': 23, 'fn_hit': 1}, 1: {'tp_hit': 12, 'fp_hit': 0, 'tn_hit': 93, 'fn_hit': 3}, 2: {'tp_hit': 11, 'fp_hit': 1, 'tn_hit': 94, 'fn_hit': 2}}, 'checkpoint': 120} \n",
      "\n",
      "\n",
      "{'accuracy': 0.9629629629629629, 'mean_square_error': 0.11274399234203498, 'categorical_crossentropy': 0.24355574007387515, 'essential_metrics': {0: {'tp_hit': 79, 'fp_hit': 5, 'tn_hit': 23, 'fn_hit': 1}, 1: {'tp_hit': 12, 'fp_hit': 0, 'tn_hit': 93, 'fn_hit': 3}, 2: {'tp_hit': 11, 'fp_hit': 1, 'tn_hit': 94, 'fn_hit': 2}}, 'checkpoint': 130} \n",
      "\n",
      "\n",
      "{'accuracy': 0.9691358024691358, 'mean_square_error': 0.10488086839232776, 'categorical_crossentropy': 0.2244339695683232, 'essential_metrics': {0: {'tp_hit': 78, 'fp_hit': 3, 'tn_hit': 25, 'fn_hit': 2}, 1: {'tp_hit': 14, 'fp_hit': 0, 'tn_hit': 93, 'fn_hit': 1}, 2: {'tp_hit': 11, 'fp_hit': 2, 'tn_hit': 93, 'fn_hit': 2}}, 'checkpoint': 140} \n",
      "\n",
      "\n",
      "{'accuracy': 0.9691358024691358, 'mean_square_error': 0.09724828396205977, 'categorical_crossentropy': 0.20975508513274016, 'essential_metrics': {0: {'tp_hit': 79, 'fp_hit': 4, 'tn_hit': 24, 'fn_hit': 1}, 1: {'tp_hit': 13, 'fp_hit': 0, 'tn_hit': 93, 'fn_hit': 2}, 2: {'tp_hit': 11, 'fp_hit': 1, 'tn_hit': 94, 'fn_hit': 2}}, 'checkpoint': 150} \n",
      "\n",
      "\n",
      "{'accuracy': 0.9691358024691358, 'mean_square_error': 0.09064167531089128, 'categorical_crossentropy': 0.20393094310054072, 'essential_metrics': {0: {'tp_hit': 79, 'fp_hit': 4, 'tn_hit': 24, 'fn_hit': 1}, 1: {'tp_hit': 13, 'fp_hit': 0, 'tn_hit': 93, 'fn_hit': 2}, 2: {'tp_hit': 11, 'fp_hit': 1, 'tn_hit': 94, 'fn_hit': 2}}, 'checkpoint': 160} \n",
      "\n",
      "\n",
      "{'accuracy': 0.9691358024691358, 'mean_square_error': 0.09113563557268557, 'categorical_crossentropy': 0.1992153944792571, 'essential_metrics': {0: {'tp_hit': 79, 'fp_hit': 4, 'tn_hit': 24, 'fn_hit': 1}, 1: {'tp_hit': 13, 'fp_hit': 0, 'tn_hit': 93, 'fn_hit': 2}, 2: {'tp_hit': 11, 'fp_hit': 1, 'tn_hit': 94, 'fn_hit': 2}}, 'checkpoint': 170} \n",
      "\n",
      "\n",
      "{'accuracy': 0.9753086419753086, 'mean_square_error': 0.09703296950463998, 'categorical_crossentropy': 0.21220804143834998, 'essential_metrics': {0: {'tp_hit': 79, 'fp_hit': 3, 'tn_hit': 25, 'fn_hit': 1}, 1: {'tp_hit': 13, 'fp_hit': 0, 'tn_hit': 93, 'fn_hit': 2}, 2: {'tp_hit': 12, 'fp_hit': 1, 'tn_hit': 94, 'fn_hit': 1}}, 'checkpoint': 180} \n",
      "\n",
      "\n",
      "{'accuracy': 0.9691358024691358, 'mean_square_error': 0.09002102292169283, 'categorical_crossentropy': 0.19862960886072228, 'essential_metrics': {0: {'tp_hit': 79, 'fp_hit': 4, 'tn_hit': 24, 'fn_hit': 1}, 1: {'tp_hit': 13, 'fp_hit': 0, 'tn_hit': 93, 'fn_hit': 2}, 2: {'tp_hit': 11, 'fp_hit': 1, 'tn_hit': 94, 'fn_hit': 2}}, 'checkpoint': 190} \n",
      "\n",
      "\n",
      "{'accuracy': 0.9567901234567902, 'mean_square_error': 0.10354686919789048, 'categorical_crossentropy': 0.2131807185985424, 'essential_metrics': {0: {'tp_hit': 79, 'fp_hit': 6, 'tn_hit': 22, 'fn_hit': 1}, 1: {'tp_hit': 11, 'fp_hit': 0, 'tn_hit': 93, 'fn_hit': 4}, 2: {'tp_hit': 11, 'fp_hit': 1, 'tn_hit': 94, 'fn_hit': 2}}, 'checkpoint': 200} \n",
      "\n",
      "\n"
     ]
    }
   ],
   "source": [
    "for checkpoint in checkpoints:\n",
    "    print(checkpoint, '\\n\\n')"
   ]
  },
  {
   "cell_type": "code",
   "execution_count": 14,
   "metadata": {},
   "outputs": [
    {
     "name": "stdout",
     "output_type": "stream",
     "text": [
      "Layer 1\n",
      "Neuron 0: weights:\n",
      "[-0.5670102   0.18249354  0.35585776  1.1730996   0.04968369]\n",
      " bias: 0.060349348932504654\n",
      "\n",
      "Neuron 1: weights:\n",
      "[ 0.01438431  0.97254735  0.17254604 -1.0874487  -2.0288196 ]\n",
      " bias: 1.3789423704147339\n",
      "\n",
      "Neuron 2: weights:\n",
      "[ 0.6218796  -1.4477637  -0.43782967 -0.0816496   0.7787659 ]\n",
      " bias: 0.1331309676170349\n",
      "\n",
      "Neuron 3: weights:\n",
      "[-0.88309866  1.8058425   0.6186283   0.06372923 -0.0804999 ]\n",
      " bias: -0.42505764961242676\n",
      "\n",
      "$\n",
      "Layer 2\n",
      "Neuron 0: weights:\n",
      "[-1.1694074   2.8943973   0.63543993 -0.69007427]\n",
      " bias: 0.14422465860843658\n",
      "\n",
      "Neuron 1: weights:\n",
      "[ 0.4201402  -0.05877466 -3.          3.        ]\n",
      " bias: 0.07670693099498749\n",
      "\n",
      "Neuron 2: weights:\n",
      "[-0.01636488 -3.          3.         -0.09593014]\n",
      " bias: 0.025936158373951912\n",
      "\n",
      "$\n",
      "\n"
     ]
    }
   ],
   "source": [
    "print(model)"
   ]
  }
 ],
 "metadata": {
  "kernelspec": {
   "display_name": "Python 3",
   "language": "python",
   "name": "python3"
  },
  "language_info": {
   "codemirror_mode": {
    "name": "ipython",
    "version": 3
   },
   "file_extension": ".py",
   "mimetype": "text/x-python",
   "name": "python",
   "nbconvert_exporter": "python",
   "pygments_lexer": "ipython3",
   "version": "3.6.12"
  }
 },
 "nbformat": 4,
 "nbformat_minor": 2
}
