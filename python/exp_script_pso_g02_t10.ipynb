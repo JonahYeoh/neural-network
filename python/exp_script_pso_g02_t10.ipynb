{
 "cells": [
  {
   "cell_type": "code",
   "execution_count": 1,
   "metadata": {},
   "outputs": [],
   "source": [
    "# dependency\n",
    "import numpy as np\n",
    "import pandas as pd\n",
    "import copy\n",
    "import math\n",
    "import sys\n",
    "import os\n",
    "from activations import relu, leaky_relu, sigmoid, tanh, softmax, d_sigmoid, d_relu\n",
    "from initializers import glorot_uniform, random_normal, random_uniform\n",
    "from regularizers import l1_regularizer, l2_regularizer\n",
    "from utility import trim_tail, multiply, subtract, get_nparams, one_hot_encoding, get_data\n",
    "from metrics import MSE, CCE, ACC, PRECISION, RECALL, essential_metrics, wondering_penalty, close_gap_penalty\n",
    "from pso import PSO\n",
    "from ga import GA\n",
    "from nn import Network\n",
    "from layer import DenseLayer\n",
    "from scalers import MinMaxScaler, StandardScaler"
   ]
  },
  {
   "cell_type": "code",
   "execution_count": 2,
   "metadata": {},
   "outputs": [],
   "source": [
    "# reference\n",
    "metrics_fn_dict = dict()\n",
    "metrics_fn_dict['accuracy'] = ACC\n",
    "metrics_fn_dict['categorical_crossentropy'] = CCE\n",
    "metrics_fn_dict['mean_square_error'] = MSE\n",
    "metrics_fn_dict['precision'] = PRECISION\n",
    "metrics_fn_dict['recall'] = RECALL\n",
    "metrics_fn_dict['essential_metrics'] = essential_metrics"
   ]
  },
  {
   "cell_type": "code",
   "execution_count": 3,
   "metadata": {},
   "outputs": [],
   "source": [
    "# model\n",
    "model = Network(5, lr = None)\n",
    "model.add_layer(DenseLayer(1, 4, True, afn=sigmoid, dafn=None, rfn=None))\n",
    "model.add_layer(DenseLayer(2, 3, True, afn=softmax, dafn=None, rfn=None))"
   ]
  },
  {
   "cell_type": "code",
   "execution_count": 4,
   "metadata": {},
   "outputs": [
    {
     "name": "stdout",
     "output_type": "stream",
     "text": [
      "see one see two 2 0.5\n"
     ]
    }
   ],
   "source": [
    "pso = PSO(dict(m = 50,\n",
    "    weight_constraint = [-3, 3], \n",
    "    velocity_constraint = [-0.1, 0.1],\n",
    "    c1 = [0.5, 2],\n",
    "    c2 = [0.5, 2],\n",
    "    w = [0.5, 1.6],\n",
    "    w_decay = 0.95,\n",
    "    scale_hyperparameter = False,\n",
    "    regularizer = None,\n",
    "    mask = True))"
   ]
  },
  {
   "cell_type": "code",
   "execution_count": 5,
   "metadata": {},
   "outputs": [
    {
     "name": "stdout",
     "output_type": "stream",
     "text": [
      "building layer 1 with 5\n",
      "24\n",
      "building layer 2 with 4\n",
      "15\n"
     ]
    }
   ],
   "source": [
    "model.compile(loss_fn = 'categorical_crossentropy', optimizer = pso, \\\n",
    "    metrics = ['accuracy', 'mean_square_error', 'categorical_crossentropy'])"
   ]
  },
  {
   "cell_type": "code",
   "execution_count": 6,
   "metadata": {},
   "outputs": [
    {
     "name": "stdout",
     "output_type": "stream",
     "text": [
      "<class 'pandas.core.frame.DataFrame'>\n",
      "RangeIndex: 107 entries, 0 to 106\n",
      "Data columns (total 6 columns):\n",
      " #   Column  Non-Null Count  Dtype  \n",
      "---  ------  --------------  -----  \n",
      " 0   f1      107 non-null    float32\n",
      " 1   f2      107 non-null    float32\n",
      " 2   f3      107 non-null    float32\n",
      " 3   f4      107 non-null    float32\n",
      " 4   f5      107 non-null    float32\n",
      " 5   label   107 non-null    float32\n",
      "dtypes: float32(6)\n",
      "memory usage: 2.6 KB\n",
      "None\n",
      "<class 'pandas.core.frame.DataFrame'>\n",
      "RangeIndex: 108 entries, 0 to 107\n",
      "Data columns (total 6 columns):\n",
      " #   Column  Non-Null Count  Dtype  \n",
      "---  ------  --------------  -----  \n",
      " 0   f1      108 non-null    float32\n",
      " 1   f2      108 non-null    float32\n",
      " 2   f3      108 non-null    float32\n",
      " 3   f4      108 non-null    float32\n",
      " 4   f5      108 non-null    float32\n",
      " 5   label   108 non-null    float32\n",
      "dtypes: float32(6)\n",
      "memory usage: 2.7 KB\n",
      "None\n"
     ]
    }
   ],
   "source": [
    "# data loading\n",
    "DATA = os.path.join('c:\\\\Users\\\\tcumi\\\\github_repo\\\\neural-network\\\\', 'dataset')\n",
    "GROUP = 2\n",
    "COLUMNS = ['f1', 'f2', 'f3', 'f4', 'f5', 'label']\n",
    "N_CLASS = 3\n",
    "EPOCHS = 500\n",
    "train_dir, test_dir = \"..//dataset//training_data{}.txt\".format(GROUP), \"..//dataset//testing_data{}.txt\".format(GROUP)\n",
    "train, test = get_data(DATA, train_dir, COLUMNS), get_data(DATA, test_dir, COLUMNS)\n",
    "# shuffle\n",
    "train, test = train.sample(frac=1), test.sample(frac=1)\n",
    "x_train, y_train = train.drop('label', axis=1), train['label']\n",
    "x_test, y_test = test.drop('label', axis=1), test['label']"
   ]
  },
  {
   "cell_type": "code",
   "execution_count": 7,
   "metadata": {},
   "outputs": [],
   "source": [
    "# data scaling and encoding\n",
    "scaler = StandardScaler(['f1', 'f2', 'f3', 'f4', 'f5'])\n",
    "scaler.fit(x_train)\n",
    "x_train = scaler.transform(x_train)\n",
    "x_test = scaler.transform(x_test)\n",
    "y_train = one_hot_encoding(y_train, N_CLASS)\n",
    "y_test = one_hot_encoding(y_test, N_CLASS)"
   ]
  },
  {
   "cell_type": "code",
   "execution_count": 8,
   "metadata": {
    "tags": [
     "outputPrepend"
    ]
   },
   "outputs": [
    {
     "name": "stdout",
     "output_type": "stream",
     "text": [
      "Checkpoint 100, Accuracy: 0.9506172839506173, Loss: 0.1954186404192889\n",
      "Checkpoint 200, Accuracy: 0.9753086419753086, Loss: 0.09723892035307707\n",
      "Checkpoint 300, Accuracy: 0.9814814814814815, Loss: 0.09433437276769567\n",
      "Checkpoint 400, Accuracy: 0.9814814814814815, Loss: 0.09148467028582538\n",
      "Checkpoint 500, Accuracy: 0.9814814814814815, Loss: 0.09054465647096988\n"
     ]
    }
   ],
   "source": [
    "# learning phase\n",
    "breakpoint = 100\n",
    "checkpoints = list()\n",
    "history = list()\n",
    "for century in range(0, EPOCHS, breakpoint):\n",
    "    sub_history = model.fit(x_train, y_train, breakpoint, verbose = 0)\n",
    "    score = model.evaluate(x_test, y_test, False, verbose = 0)\n",
    "    print('Checkpoint {}, Accuracy: {}, Loss: {}'.format(century+breakpoint, score['accuracy'], score[model.loss_fn]))\n",
    "    score['checkpoint'] = century + breakpoint\n",
    "    checkpoints.append(score)\n",
    "    history.extend(sub_history)\n",
    "    itr = century + breakpoint\n",
    "    model.optimizer.c1 = np.max([model.optimizer.C1[1] - ((model.optimizer.C1[1] - model.optimizer.C1[0]) * itr / EPOCHS), model.optimizer.C1[0]])\n",
    "    model.optimizer.c2 = np.min([model.optimizer.C2[0] + ((model.optimizer.C2[1] - model.optimizer.C2[0]) * itr / EPOCHS), model.optimizer.C2[1]])\n",
    "    model.optimizer.w = np.max([model.optimizer.w * model.optimizer.W_Decay, model.optimizer.W[0]])"
   ]
  },
  {
   "cell_type": "code",
   "execution_count": 9,
   "metadata": {},
   "outputs": [],
   "source": [
    "import matplotlib.pyplot as plt\n",
    "\n",
    "def draw_plot(x, y_list, x_label=None, y_label=None, legend=None, title=None):\n",
    "    fig, ax = plt.subplots(figsize=(12,5))\n",
    "    for xi, yi in zip(x, y_list):\n",
    "        ax.plot(xi, yi)\n",
    "    if x_label is not None and y_label is not None:\n",
    "        ax.set(xlabel=x_label, ylabel=y_label, title='{} VS {}'.format(x_label, y_label))\n",
    "    if legend is not None:\n",
    "        ax.legend(legend)\n",
    "    ax.grid()\n",
    "    plt.show()"
   ]
  },
  {
   "cell_type": "code",
   "execution_count": 10,
   "metadata": {},
   "outputs": [
    {
     "name": "stdout",
     "output_type": "stream",
     "text": [
      "[1. 0. 0.] <-> [0.8561938  0.00088916 0.14291702]\n",
      "[1. 0. 0.] <-> [0.9974037  0.00136779 0.00122852]\n",
      "[0. 1. 0.] <-> [0.28045544 0.71802026 0.00152425]\n",
      "[1. 0. 0.] <-> [9.9699581e-01 2.0286939e-03 9.7554474e-04]\n",
      "[1. 0. 0.] <-> [0.9974118  0.00139357 0.00119467]\n",
      "[0. 0. 1.] <-> [8.492993e-03 8.607499e-06 9.914984e-01]\n",
      "[1. 0. 0.] <-> [0.9977125  0.00128112 0.00100644]\n",
      "[1. 0. 0.] <-> [0.90699863 0.00098696 0.09201448]\n",
      "[0. 0. 1.] <-> [8.492274e-03 8.606766e-06 9.914991e-01]\n",
      "[1. 0. 0.] <-> [9.9702173e-01 2.1063064e-03 8.7185687e-04]\n",
      "[1. 0. 0.] <-> [0.9971716  0.00115939 0.00166911]\n",
      "[1. 0. 0.] <-> [0.98713475 0.001155   0.01171031]\n",
      "[0. 1. 0.] <-> [6.0447534e-03 9.9380493e-01 1.5031615e-04]\n",
      "[1. 0. 0.] <-> [0.9953648  0.00113511 0.00350008]\n",
      "[1. 0. 0.] <-> [0.98816353 0.00104858 0.01078792]\n",
      "[1. 0. 0.] <-> [0.99613035 0.00133474 0.00253494]\n",
      "[1. 0. 0.] <-> [0.99671906 0.00159434 0.00168666]\n",
      "[0. 1. 0.] <-> [7.7069267e-03 9.9210876e-01 1.8432016e-04]\n",
      "[1. 0. 0.] <-> [0.995739   0.00114229 0.00311881]\n",
      "[0. 0. 1.] <-> [1.02540050e-02 1.14929235e-05 9.89734530e-01]\n",
      "[1. 0. 0.] <-> [0.9964721  0.00177823 0.00174964]\n",
      "[1. 0. 0.] <-> [0.99735475 0.00153522 0.00111006]\n",
      "[1. 0. 0.] <-> [0.9108417  0.00093141 0.08822684]\n",
      "[0. 1. 0.] <-> [1.0825454e-02 9.8895687e-01 2.1766772e-04]\n",
      "[1. 0. 0.] <-> [0.99691236 0.0013511  0.00173651]\n",
      "[1. 0. 0.] <-> [9.9735141e-01 1.7474663e-03 9.0108806e-04]\n",
      "[1. 0. 0.] <-> [0.99612623 0.00133814 0.00253564]\n",
      "[1. 0. 0.] <-> [9.9730092e-01 1.7576967e-03 9.4130740e-04]\n",
      "[1. 0. 0.] <-> [2.7479269e-02 2.8227503e-05 9.7249258e-01]\n",
      "[1. 0. 0.] <-> [0.9909436  0.0074902  0.00156619]\n",
      "[1. 0. 0.] <-> [0.99645555 0.00103738 0.00250715]\n",
      "[0. 0. 1.] <-> [8.491864e-03 8.606327e-06 9.914996e-01]\n",
      "[0. 0. 1.] <-> [8.4919045e-03 8.6064492e-06 9.9149948e-01]\n",
      "[1. 0. 0.] <-> [0.99552345 0.00343054 0.00104598]\n",
      "[1. 0. 0.] <-> [9.9636453e-01 2.7495315e-03 8.8593940e-04]\n",
      "[1. 0. 0.] <-> [0.9940048  0.00497233 0.00102292]\n",
      "[1. 0. 0.] <-> [0.99719477 0.001622   0.00118317]\n",
      "[1. 0. 0.] <-> [0.99697    0.00108258 0.0019475 ]\n",
      "[1. 0. 0.] <-> [0.97524005 0.02264177 0.00211823]\n",
      "[1. 0. 0.] <-> [0.9914205  0.00138611 0.00719343]\n",
      "[1. 0. 0.] <-> [0.9977527  0.0011811  0.00106622]\n",
      "[0. 0. 1.] <-> [2.6294580e-01 2.6763481e-04 7.3678654e-01]\n",
      "[1. 0. 0.] <-> [0.9975661  0.0013309  0.00110294]\n",
      "[1. 0. 0.] <-> [0.93135136 0.00096391 0.06768472]\n",
      "[1. 0. 0.] <-> [0.9552676  0.00103733 0.04369513]\n",
      "[0. 1. 0.] <-> [9.8512601e-03 9.8992914e-01 2.1963016e-04]\n",
      "[0. 0. 1.] <-> [1.0051131e-02 1.0314539e-05 9.8993862e-01]\n",
      "[1. 0. 0.] <-> [0.9919361  0.00107565 0.00698817]\n",
      "[1. 0. 0.] <-> [9.9759382e-01 1.5283371e-03 8.7780674e-04]\n",
      "[0. 1. 0.] <-> [2.3941057e-02 9.7555506e-01 5.0391344e-04]\n",
      "[1. 0. 0.] <-> [0.99118453 0.00713207 0.00168345]\n",
      "[1. 0. 0.] <-> [9.9776900e-01 1.3846778e-03 8.4640103e-04]\n",
      "[1. 0. 0.] <-> [0.9972792  0.00111769 0.00160312]\n",
      "[1. 0. 0.] <-> [0.9969657  0.00138117 0.00165319]\n",
      "[1. 0. 0.] <-> [0.9908751  0.00774291 0.00138197]\n",
      "[1. 0. 0.] <-> [9.9487865e-01 4.1518854e-03 9.6948049e-04]\n",
      "[0. 0. 1.] <-> [8.9106960e-03 9.0310195e-06 9.9108022e-01]\n",
      "[0. 0. 1.] <-> [8.5352538e-03 8.6513155e-06 9.9145609e-01]\n",
      "[1. 0. 0.] <-> [0.9963728  0.00116778 0.00245945]\n",
      "[1. 0. 0.] <-> [0.9957113  0.00107574 0.00321287]\n",
      "[1. 0. 0.] <-> [0.9972185  0.00175379 0.00102776]\n",
      "[1. 0. 0.] <-> [0.986305   0.00103885 0.01265622]\n",
      "[1. 0. 0.] <-> [0.99635065 0.00119779 0.00245152]\n",
      "[1. 0. 0.] <-> [0.6100563  0.00064336 0.38930038]\n",
      "[0. 0. 1.] <-> [8.4918644e-03 8.6063355e-06 9.9149960e-01]\n",
      "[0. 1. 0.] <-> [6.2378454e-03 9.9360836e-01 1.5387940e-04]\n",
      "[1. 0. 0.] <-> [0.7129619  0.00077967 0.28625834]\n",
      "[1. 0. 0.] <-> [0.92190325 0.07542104 0.00267574]\n",
      "[1. 0. 0.] <-> [0.9974753  0.00148294 0.00104174]\n",
      "[1. 0. 0.] <-> [9.9497813e-01 4.0984531e-03 9.2332979e-04]\n",
      "[0. 1. 0.] <-> [0.6151815  0.37983218 0.00498631]\n",
      "[0. 0. 1.] <-> [8.5253362e-03 8.6855025e-06 9.9146593e-01]\n",
      "[1. 0. 0.] <-> [0.996825   0.0014283  0.00174672]\n",
      "[1. 0. 0.] <-> [0.9967951  0.0011418  0.00206308]\n",
      "[1. 0. 0.] <-> [0.9960706  0.00120909 0.00272029]\n",
      "[1. 0. 0.] <-> [9.9776936e-01 1.2464571e-03 9.8422589e-04]\n",
      "[0. 0. 1.] <-> [8.7572737e-03 8.8783445e-06 9.9123389e-01]\n",
      "[0. 1. 0.] <-> [0.4115908  0.58657706 0.00183212]\n",
      "[0. 1. 0.] <-> [6.0251397e-03 9.9382496e-01 1.4981383e-04]\n",
      "[1. 0. 0.] <-> [0.36090964 0.6370039  0.0020865 ]\n",
      "[1. 0. 0.] <-> [0.98970056 0.00107311 0.00922633]\n",
      "[1. 0. 0.] <-> [0.98788303 0.00116517 0.01095182]\n",
      "[1. 0. 0.] <-> [0.9950282  0.00105021 0.00392155]\n",
      "[1. 0. 0.] <-> [0.9929027  0.00113772 0.0059596 ]\n",
      "[0. 0. 1.] <-> [0.4986013  0.00050775 0.500891  ]\n",
      "[1. 0. 0.] <-> [0.9876561  0.00101493 0.01132894]\n",
      "[1. 0. 0.] <-> [9.9170685e-01 7.3632826e-03 9.2989800e-04]\n",
      "[1. 0. 0.] <-> [0.9861902  0.00102905 0.01278077]\n",
      "[1. 0. 0.] <-> [0.9966736  0.00133046 0.0019959 ]\n",
      "[1. 0. 0.] <-> [9.9664223e-01 2.4096440e-03 9.4812462e-04]\n",
      "[1. 0. 0.] <-> [0.9977301  0.00125087 0.00101902]\n",
      "[1. 0. 0.] <-> [0.86764556 0.00089923 0.13145523]\n",
      "[1. 0. 0.] <-> [0.99681985 0.00189151 0.00128855]\n",
      "[1. 0. 0.] <-> [9.9655652e-01 2.4577226e-03 9.8584371e-04]\n",
      "[1. 0. 0.] <-> [0.8989064  0.00091693 0.10017668]\n",
      "[0. 1. 0.] <-> [0.13176346 0.8671641  0.0010725 ]\n",
      "[1. 0. 0.] <-> [0.9969085  0.00103293 0.00205855]\n",
      "[0. 1. 0.] <-> [1.5782719e-02 9.8392421e-01 2.9315302e-04]\n",
      "[1. 0. 0.] <-> [0.9973126  0.00143699 0.0012503 ]\n",
      "[1. 0. 0.] <-> [0.9929925  0.00103711 0.00597041]\n",
      "[1. 0. 0.] <-> [0.99708086 0.00188017 0.00103893]\n",
      "[1. 0. 0.] <-> [0.9901738  0.00103948 0.00878677]\n",
      "[0. 1. 0.] <-> [6.0251686e-03 9.9382496e-01 1.4986556e-04]\n",
      "[1. 0. 0.] <-> [9.9642342e-01 2.6204670e-03 9.5609715e-04]\n",
      "[1. 0. 0.] <-> [0.991204   0.00771484 0.00108114]\n",
      "[0. 1. 0.] <-> [6.2103053e-03 9.9363565e-01 1.5407248e-04]\n",
      "[0. 1. 0.] <-> [6.0252538e-03 9.9382484e-01 1.4981910e-04]\n",
      "[1. 0. 0.] <-> [9.9763119e-01 1.3922900e-03 9.7651663e-04]\n",
      "{'accuracy': 0.9814814814814815, 'mean_square_error': 0.048798029306628896, 'categorical_crossentropy': 0.09054465647096988, 'essential_metrics': {0: {'tp_hit': 78, 'fp_hit': 1, 'tn_hit': 27, 'fn_hit': 2}, 1: {'tp_hit': 14, 'fp_hit': 1, 'tn_hit': 92, 'fn_hit': 1}, 2: {'tp_hit': 13, 'fp_hit': 1, 'tn_hit': 94, 'fn_hit': 0}}}\n"
     ]
    }
   ],
   "source": [
    "# recall phase\n",
    "score = model.evaluate(x_test, y_test, False)\n",
    "print(score)"
   ]
  },
  {
   "cell_type": "code",
   "execution_count": 11,
   "metadata": {},
   "outputs": [
    {
     "data": {
      "image/png": "[encoded data removed]",
      "text/plain": [
       "<Figure size 864x360 with 1 Axes>"
      ]
     },
     "metadata": {
      "needs_background": "light"
     },
     "output_type": "display_data"
    },
    {
     "data": {
      "image/png": "[encoded data removed]",
      "text/plain": [
       "<Figure size 864x360 with 1 Axes>"
      ]
     },
     "metadata": {
      "needs_background": "light"
     },
     "output_type": "display_data"
    }
   ],
   "source": [
    "draw_plot(x = [[i for i in range(len(history))], [(i+1)*breakpoint for i in range(len(checkpoints))]], y_list = [history, [ ckp[model.loss_fn] for ckp in checkpoints ]], x_label = 'Epochs', \\\n",
    "    y_label = model.loss_fn, legend=['train', 'test'])\n",
    "acc = [ ckp['accuracy'] for ckp in checkpoints ]\n",
    "draw_plot(x = [[(i+1)*breakpoint for i in range(len(checkpoints))]], y_list = [acc], x_label = 'Checkpoints', \\\n",
    "    y_label = 'accuracy')"
   ]
  },
  {
   "cell_type": "code",
   "execution_count": 12,
   "metadata": {},
   "outputs": [
    {
     "name": "stdout",
     "output_type": "stream",
     "text": [
      "{'accuracy': 0.9506172839506173, 'mean_square_error': 0.10477306411331905, 'categorical_crossentropy': 0.1954186404192889, 'essential_metrics': {0: {'tp_hit': 77, 'fp_hit': 5, 'tn_hit': 23, 'fn_hit': 3}, 1: {'tp_hit': 13, 'fp_hit': 0, 'tn_hit': 93, 'fn_hit': 2}, 2: {'tp_hit': 10, 'fp_hit': 3, 'tn_hit': 92, 'fn_hit': 3}}, 'checkpoint': 100} \n",
      "\n",
      "\n",
      "{'accuracy': 0.9753086419753086, 'mean_square_error': 0.056264589030081955, 'categorical_crossentropy': 0.09723892035307707, 'essential_metrics': {0: {'tp_hit': 78, 'fp_hit': 2, 'tn_hit': 26, 'fn_hit': 2}, 1: {'tp_hit': 13, 'fp_hit': 1, 'tn_hit': 92, 'fn_hit': 2}, 2: {'tp_hit': 13, 'fp_hit': 1, 'tn_hit': 94, 'fn_hit': 0}}, 'checkpoint': 200} \n",
      "\n",
      "\n",
      "{'accuracy': 0.9814814814814815, 'mean_square_error': 0.04837941296877267, 'categorical_crossentropy': 0.09433437276769567, 'essential_metrics': {0: {'tp_hit': 78, 'fp_hit': 1, 'tn_hit': 27, 'fn_hit': 2}, 1: {'tp_hit': 14, 'fp_hit': 1, 'tn_hit': 92, 'fn_hit': 1}, 2: {'tp_hit': 13, 'fp_hit': 1, 'tn_hit': 94, 'fn_hit': 0}}, 'checkpoint': 300} \n",
      "\n",
      "\n",
      "{'accuracy': 0.9814814814814815, 'mean_square_error': 0.04935377932734884, 'categorical_crossentropy': 0.09148467028582538, 'essential_metrics': {0: {'tp_hit': 78, 'fp_hit': 1, 'tn_hit': 27, 'fn_hit': 2}, 1: {'tp_hit': 14, 'fp_hit': 1, 'tn_hit': 92, 'fn_hit': 1}, 2: {'tp_hit': 13, 'fp_hit': 1, 'tn_hit': 94, 'fn_hit': 0}}, 'checkpoint': 400} \n",
      "\n",
      "\n",
      "{'accuracy': 0.9814814814814815, 'mean_square_error': 0.048798029306628896, 'categorical_crossentropy': 0.09054465647096988, 'essential_metrics': {0: {'tp_hit': 78, 'fp_hit': 1, 'tn_hit': 27, 'fn_hit': 2}, 1: {'tp_hit': 14, 'fp_hit': 1, 'tn_hit': 92, 'fn_hit': 1}, 2: {'tp_hit': 13, 'fp_hit': 1, 'tn_hit': 94, 'fn_hit': 0}}, 'checkpoint': 500} \n",
      "\n",
      "\n"
     ]
    }
   ],
   "source": [
    "for checkpoint in checkpoints:\n",
    "    print(checkpoint, '\\n\\n')"
   ]
  },
  {
   "cell_type": "code",
   "execution_count": 13,
   "metadata": {},
   "outputs": [
    {
     "name": "stdout",
     "output_type": "stream",
     "text": [
      "Layer 1\n",
      "Neuron 0: weights:\n",
      "[-1.9737923   3.          1.7508075  -3.         -0.81558657]\n",
      " bias: -3.0\n",
      "\n",
      "Neuron 1: weights:\n",
      "[-0.18974121  3.          0.50588095 -0.50691384 -3.        ]\n",
      " bias: 3.0\n",
      "\n",
      "Neuron 2: weights:\n",
      "[ 1.8654624 -3.        -3.        -2.3977165  3.       ]\n",
      " bias: 3.0\n",
      "\n",
      "Neuron 3: weights:\n",
      "[ 0.15484051 -3.         -3.          3.          3.        ]\n",
      " bias: -3.0\n",
      "\n",
      "$\n",
      "Layer 2\n",
      "Neuron 0: weights:\n",
      "[-3.  3.  3. -3.]\n",
      " bias: -2.1056342124938965\n",
      "\n",
      "Neuron 1: weights:\n",
      "[ 3.  3. -3. -3.]\n",
      " bias: -3.0\n",
      "\n",
      "Neuron 2: weights:\n",
      "[-3.        -3.        -0.5455766  3.       ]\n",
      " bias: 0.20005224645137787\n",
      "\n",
      "$\n",
      "\n"
     ]
    }
   ],
   "source": [
    "print(model)"
   ]
  }
 ],
 "metadata": {
  "kernelspec": {
   "display_name": "Python 3",
   "language": "python",
   "name": "python3"
  },
  "language_info": {
   "codemirror_mode": {
    "name": "ipython",
    "version": 3
   },
   "file_extension": ".py",
   "mimetype": "text/x-python",
   "name": "python",
   "nbconvert_exporter": "python",
   "pygments_lexer": "ipython3",
   "version": "3.6.10"
  }
 },
 "nbformat": 4,
 "nbformat_minor": 2
}
