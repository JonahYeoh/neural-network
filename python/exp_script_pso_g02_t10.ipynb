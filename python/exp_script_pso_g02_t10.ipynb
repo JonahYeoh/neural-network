{
 "cells": [
  {
   "cell_type": "code",
   "execution_count": 1,
   "metadata": {},
   "outputs": [],
   "source": [
    "# dependency\n",
    "import numpy as np\n",
    "import pandas as pd\n",
    "import copy\n",
    "import math\n",
    "import sys\n",
    "import os\n",
    "from activations import relu, leaky_relu, sigmoid, tanh, softmax, d_sigmoid, d_relu\n",
    "from initializers import glorot_uniform, random_normal, random_uniform\n",
    "from regularizers import l1_regularizer, l2_regularizer\n",
    "from utility import trim_tail, multiply, subtract, get_nparams, one_hot_encoding, get_data\n",
    "from metrics import MSE, CCE, ACC, PRECISION, RECALL, essential_metrics, wondering_penalty, close_gap_penalty\n",
    "from pso import PSO\n",
    "from ga import GA\n",
    "from nn import Network\n",
    "from layer import DenseLayer\n",
    "from scalers import MinMaxScaler, StandardScaler"
   ]
  },
  {
   "cell_type": "code",
   "execution_count": 2,
   "metadata": {},
   "outputs": [],
   "source": [
    "# reference\n",
    "metrics_fn_dict = dict()\n",
    "metrics_fn_dict['accuracy'] = ACC\n",
    "metrics_fn_dict['categorical_crossentropy'] = CCE\n",
    "metrics_fn_dict['mean_square_error'] = MSE\n",
    "metrics_fn_dict['precision'] = PRECISION\n",
    "metrics_fn_dict['recall'] = RECALL\n",
    "metrics_fn_dict['essential_metrics'] = essential_metrics"
   ]
  },
  {
   "cell_type": "code",
   "execution_count": 3,
   "metadata": {},
   "outputs": [],
   "source": [
    "# model\n",
    "model = Network(5, lr = None)\n",
    "model.add_layer(DenseLayer(1, 4, True, afn=sigmoid, dafn=None, rfn=None))\n",
    "model.add_layer(DenseLayer(2, 3, True, afn=softmax, dafn=None, rfn=None))"
   ]
  },
  {
   "cell_type": "code",
   "execution_count": 4,
   "metadata": {},
   "outputs": [
    {
     "name": "stdout",
     "output_type": "stream",
     "text": [
      "see one see two 2 0.5\n"
     ]
    }
   ],
   "source": [
    "pso = PSO(dict(m = 50,\n",
    "    weight_constraint = [-3, 3], \n",
    "    velocity_constraint = [-0.1, 0.1],\n",
    "    c1 = [0.5, 2],\n",
    "    c2 = [0.5, 2],\n",
    "    w = [0.5, 1.6],\n",
    "    w_decay = 0.95,\n",
    "    scale_hyperparameter = False,\n",
    "    regularizer = None,\n",
    "    mask = True))"
   ]
  },
  {
   "cell_type": "code",
   "execution_count": 5,
   "metadata": {},
   "outputs": [
    {
     "name": "stdout",
     "output_type": "stream",
     "text": [
      "building layer 1 with 5\n",
      "24\n",
      "building layer 2 with 4\n",
      "15\n"
     ]
    }
   ],
   "source": [
    "model.compile(loss_fn = 'categorical_crossentropy', optimizer = pso, \\\n",
    "    metrics = ['accuracy', 'mean_square_error', 'categorical_crossentropy'])"
   ]
  },
  {
   "cell_type": "code",
   "execution_count": 6,
   "metadata": {},
   "outputs": [
    {
     "name": "stdout",
     "output_type": "stream",
     "text": [
      "<class 'pandas.core.frame.DataFrame'>\n",
      "RangeIndex: 107 entries, 0 to 106\n",
      "Data columns (total 6 columns):\n",
      " #   Column  Non-Null Count  Dtype  \n",
      "---  ------  --------------  -----  \n",
      " 0   f1      107 non-null    float32\n",
      " 1   f2      107 non-null    float32\n",
      " 2   f3      107 non-null    float32\n",
      " 3   f4      107 non-null    float32\n",
      " 4   f5      107 non-null    float32\n",
      " 5   label   107 non-null    float32\n",
      "dtypes: float32(6)\n",
      "memory usage: 2.6 KB\n",
      "None\n",
      "<class 'pandas.core.frame.DataFrame'>\n",
      "RangeIndex: 108 entries, 0 to 107\n",
      "Data columns (total 6 columns):\n",
      " #   Column  Non-Null Count  Dtype  \n",
      "---  ------  --------------  -----  \n",
      " 0   f1      108 non-null    float32\n",
      " 1   f2      108 non-null    float32\n",
      " 2   f3      108 non-null    float32\n",
      " 3   f4      108 non-null    float32\n",
      " 4   f5      108 non-null    float32\n",
      " 5   label   108 non-null    float32\n",
      "dtypes: float32(6)\n",
      "memory usage: 2.7 KB\n",
      "None\n"
     ]
    }
   ],
   "source": [
    "# data loading\n",
    "DATA = os.path.join('c:\\\\Users\\\\tcumi\\\\github_repo\\\\neural-network\\\\', 'dataset')\n",
    "GROUP = 2\n",
    "COLUMNS = ['f1', 'f2', 'f3', 'f4', 'f5', 'label']\n",
    "N_CLASS = 3\n",
    "EPOCHS = 500\n",
    "train_dir, test_dir = \"..//dataset//training_data{}.txt\".format(GROUP), \"..//dataset//testing_data{}.txt\".format(GROUP)\n",
    "train, test = get_data(DATA, train_dir, COLUMNS), get_data(DATA, test_dir, COLUMNS)\n",
    "# shuffle\n",
    "train, test = train.sample(frac=1), test.sample(frac=1)\n",
    "x_train, y_train = train.drop('label', axis=1), train['label']\n",
    "x_test, y_test = test.drop('label', axis=1), test['label']"
   ]
  },
  {
   "cell_type": "code",
   "execution_count": 7,
   "metadata": {},
   "outputs": [],
   "source": [
    "# data scaling and encoding\n",
    "scaler = StandardScaler(['f1', 'f2', 'f3', 'f4', 'f5'])\n",
    "scaler.fit(x_train)\n",
    "x_train = scaler.transform(x_train)\n",
    "x_test = scaler.transform(x_test)\n",
    "y_train = one_hot_encoding(y_train, N_CLASS)\n",
    "y_test = one_hot_encoding(y_test, N_CLASS)"
   ]
  },
  {
   "cell_type": "code",
   "execution_count": 8,
   "metadata": {
    "tags": [
     "outputPrepend"
    ]
   },
   "outputs": [
    {
     "name": "stdout",
     "output_type": "stream",
     "text": [
      "Checkpoint 100, Accuracy: 0.9629629629629629, Loss: 0.27804222813359014\n",
      "Checkpoint 200, Accuracy: 0.9629629629629629, Loss: 0.12727815133553963\n",
      "Checkpoint 300, Accuracy: 0.9629629629629629, Loss: 0.1312205261654324\n",
      "Checkpoint 400, Accuracy: 0.9691358024691358, Loss: 0.12163132208364981\n",
      "Checkpoint 500, Accuracy: 0.9629629629629629, Loss: 0.12657174357661494\n"
     ]
    }
   ],
   "source": [
    "# learning phase\n",
    "breakpoint = 100\n",
    "checkpoints = list()\n",
    "history = list()\n",
    "for century in range(0, EPOCHS, breakpoint):\n",
    "    sub_history = model.fit(x_train, y_train, breakpoint, verbose = 0)\n",
    "    score = model.evaluate(x_test, y_test, False, verbose = 0)\n",
    "    print('Checkpoint {}, Accuracy: {}, Loss: {}'.format(century+breakpoint, score['accuracy'], score[model.loss_fn]))\n",
    "    score['checkpoint'] = century + breakpoint\n",
    "    checkpoints.append(score)\n",
    "    history.extend(sub_history)\n",
    "    itr = century + breakpoint\n",
    "    model.optimizer.c1 = np.max([model.optimizer.C1[1] - ((model.optimizer.C1[1] - model.optimizer.C1[0]) * itr / EPOCHS), model.optimizer.C1[0]])\n",
    "    model.optimizer.c2 = np.min([model.optimizer.C2[0] + ((model.optimizer.C2[1] - model.optimizer.C2[0]) * itr / EPOCHS), model.optimizer.C2[1]])\n",
    "    model.optimizer.w = np.max([model.optimizer.w * model.optimizer.W_Decay, model.optimizer.W[0]])"
   ]
  },
  {
   "cell_type": "code",
   "execution_count": 9,
   "metadata": {},
   "outputs": [],
   "source": [
    "import matplotlib.pyplot as plt\n",
    "\n",
    "def draw_plot(x, y_list, x_label=None, y_label=None, legend=None, title=None):\n",
    "    fig, ax = plt.subplots(figsize=(12,5))\n",
    "    for xi, yi in zip(x, y_list):\n",
    "        ax.plot(xi, yi)\n",
    "    if x_label is not None and y_label is not None:\n",
    "        ax.set(xlabel=x_label, ylabel=y_label, title='{} VS {}'.format(x_label, y_label))\n",
    "    if legend is not None:\n",
    "        ax.legend(legend)\n",
    "    ax.grid()\n",
    "    plt.show()"
   ]
  },
  {
   "cell_type": "code",
   "execution_count": 10,
   "metadata": {},
   "outputs": [
    {
     "name": "stdout",
     "output_type": "stream",
     "text": [
      "[1. 0. 0.] <-> [0.9949038  0.0040796  0.00101649]\n",
      "[1. 0. 0.] <-> [0.9946497  0.0012604  0.00408994]\n",
      "[0. 1. 0.] <-> [1.1460498e-01 8.8519245e-01 2.0252094e-04]\n",
      "[1. 0. 0.] <-> [9.6504742e-01 7.9816044e-04 3.4154382e-02]\n",
      "[1. 0. 0.] <-> [0.99510455 0.00308934 0.00180604]\n",
      "[1. 0. 0.] <-> [0.8523545  0.00097533 0.14667018]\n",
      "[1. 0. 0.] <-> [9.9489272e-01 4.1814027e-03 9.2590635e-04]\n",
      "[1. 0. 0.] <-> [0.996268   0.00202289 0.00170918]\n",
      "[1. 0. 0.] <-> [9.9677354e-01 8.1807008e-04 2.4083531e-03]\n",
      "[1. 0. 0.] <-> [0.95855004 0.00110679 0.04034318]\n",
      "[1. 0. 0.] <-> [9.7696733e-01 2.2157403e-02 8.7524392e-04]\n",
      "[1. 0. 0.] <-> [0.9964624  0.00143448 0.00210313]\n",
      "[1. 0. 0.] <-> [0.9859367  0.01186104 0.00220218]\n",
      "[0. 0. 1.] <-> [1.0163742e-02 2.3429424e-05 9.8981279e-01]\n",
      "[1. 0. 0.] <-> [0.99181163 0.00117435 0.00701409]\n",
      "[1. 0. 0.] <-> [9.8618162e-01 1.2858412e-02 9.5989724e-04]\n",
      "[1. 0. 0.] <-> [9.927683e-01 7.661498e-04 6.465542e-03]\n",
      "[1. 0. 0.] <-> [0.77697366 0.00105188 0.22197443]\n",
      "[1. 0. 0.] <-> [9.9747878e-01 6.6604733e-04 1.8552411e-03]\n",
      "[1. 0. 0.] <-> [9.9706239e-01 8.5813849e-04 2.0794577e-03]\n",
      "[1. 0. 0.] <-> [9.980342e-01 9.948312e-04 9.709161e-04]\n",
      "[1. 0. 0.] <-> [9.7816193e-01 9.4923901e-04 2.0888757e-02]\n",
      "[1. 0. 0.] <-> [9.9423826e-01 8.7555393e-04 4.8862193e-03]\n",
      "[0. 1. 0.] <-> [1.4544966e-02 9.8540038e-01 5.4614458e-05]\n",
      "[0. 1. 0.] <-> [0.00363997 0.9929262  0.00343379]\n",
      "[1. 0. 0.] <-> [0.9830925  0.0158952  0.00101227]\n",
      "[0. 1. 0.] <-> [1.7581681e-02 9.8237693e-01 4.1383653e-05]\n",
      "[1. 0. 0.] <-> [0.9893853  0.0095778  0.00103695]\n",
      "[0. 0. 1.] <-> [8.0346642e-03 1.9199882e-05 9.9194616e-01]\n",
      "[1. 0. 0.] <-> [9.8116565e-01 7.7371480e-04 1.8060600e-02]\n",
      "[1. 0. 0.] <-> [0.9658148  0.00099882 0.03318634]\n",
      "[1. 0. 0.] <-> [9.941047e-01 7.934439e-04 5.101943e-03]\n",
      "[0. 0. 1.] <-> [8.3427690e-03 1.9904366e-05 9.9163729e-01]\n",
      "[1. 0. 0.] <-> [0.997419   0.00133549 0.00124547]\n",
      "[1. 0. 0.] <-> [0.9973224  0.00157703 0.00110061]\n",
      "[1. 0. 0.] <-> [0.99691665 0.00104458 0.00203876]\n",
      "[1. 0. 0.] <-> [0.9961243  0.002042   0.00183367]\n",
      "[0. 1. 0.] <-> [1.0772442e-02 9.8918706e-01 4.0488390e-05]\n",
      "[0. 0. 1.] <-> [7.9478677e-03 1.9028348e-05 9.9203306e-01]\n",
      "[1. 0. 0.] <-> [9.9549013e-01 7.4120908e-04 3.7686995e-03]\n",
      "[1. 0. 0.] <-> [0.75904465 0.00152519 0.23943011]\n",
      "[1. 0. 0.] <-> [0.9963689  0.00123598 0.0023951 ]\n",
      "[1. 0. 0.] <-> [0.9793601  0.00142634 0.01921358]\n",
      "[1. 0. 0.] <-> [9.9516147e-01 9.7569963e-04 3.8627593e-03]\n",
      "[1. 0. 0.] <-> [9.9503279e-01 8.4698206e-04 4.1202428e-03]\n",
      "[1. 0. 0.] <-> [0.9969984  0.00113653 0.001865  ]\n",
      "[0. 0. 1.] <-> [8.0100978e-03 1.9158728e-05 9.9197078e-01]\n",
      "[1. 0. 0.] <-> [0.99711657 0.00165437 0.00122902]\n",
      "[0. 0. 1.] <-> [1.2801537e-01 2.5476929e-04 8.7172991e-01]\n",
      "[0. 1. 0.] <-> [9.1916565e-03 9.9074882e-01 5.9525566e-05]\n",
      "[1. 0. 0.] <-> [9.9682045e-01 2.2108371e-03 9.6870749e-04]\n",
      "[1. 0. 0.] <-> [0.9973731  0.00104182 0.00158515]\n",
      "[1. 0. 0.] <-> [9.9703360e-01 7.9326826e-04 2.1731872e-03]\n",
      "[0. 1. 0.] <-> [1.8990016e-01 8.0974972e-01 3.5013125e-04]\n",
      "[1. 0. 0.] <-> [9.9506605e-01 7.7540288e-04 4.1584750e-03]\n",
      "[1. 0. 0.] <-> [0.9296654  0.06915407 0.00118049]\n",
      "[0. 0. 1.] <-> [7.9461504e-03 1.9024283e-05 9.9203485e-01]\n",
      "[0. 1. 0.] <-> [4.8586387e-02 9.5117962e-01 2.3407282e-04]\n",
      "[1. 0. 0.] <-> [0.99686545 0.00188642 0.00124807]\n",
      "[1. 0. 0.] <-> [0.84390926 0.00102776 0.155063  ]\n",
      "[1. 0. 0.] <-> [1.8183032e-01 3.4237801e-04 8.1782734e-01]\n",
      "[1. 0. 0.] <-> [0.88803726 0.00124639 0.11071627]\n",
      "[1. 0. 0.] <-> [9.939511e-01 8.209196e-04 5.228030e-03]\n",
      "[0. 1. 0.] <-> [1.1403115e-02 9.8856843e-01 2.8547056e-05]\n",
      "[0. 0. 1.] <-> [7.9461504e-03 1.9024283e-05 9.9203485e-01]\n",
      "[1. 0. 0.] <-> [0.99753463 0.00122959 0.00123581]\n",
      "[1. 0. 0.] <-> [0.9870525  0.01176593 0.00118163]\n",
      "[0. 1. 0.] <-> [5.0239372e-03 9.9414980e-01 8.2631974e-04]\n",
      "[1. 0. 0.] <-> [9.8726988e-01 9.5008977e-04 1.1780039e-02]\n",
      "[1. 0. 0.] <-> [0.99692494 0.00142918 0.00164586]\n",
      "[1. 0. 0.] <-> [9.925137e-01 9.836077e-04 6.502645e-03]\n",
      "[1. 0. 0.] <-> [0.9815506  0.00120521 0.01724422]\n",
      "[0. 0. 1.] <-> [8.3806413e-01 7.4701814e-04 1.6118886e-01]\n",
      "[1. 0. 0.] <-> [0.9941115  0.00196014 0.00392842]\n",
      "[1. 0. 0.] <-> [9.9578130e-01 3.2997434e-03 9.1884728e-04]\n",
      "[1. 0. 0.] <-> [9.907471e-01 9.878958e-04 8.265131e-03]\n",
      "[0. 0. 1.] <-> [7.9462249e-03 1.9024461e-05 9.9203473e-01]\n",
      "[0. 1. 0.] <-> [7.2477777e-03 9.9259150e-01 1.6064782e-04]\n",
      "[1. 0. 0.] <-> [0.99775404 0.00109329 0.00115272]\n",
      "[1. 0. 0.] <-> [9.9780339e-01 6.8662793e-04 1.5099486e-03]\n",
      "[1. 0. 0.] <-> [9.278899e-01 7.978595e-04 7.131225e-02]\n",
      "[1. 0. 0.] <-> [1.9347545e-02 4.2863605e-05 9.8060960e-01]\n",
      "[0. 0. 1.] <-> [8.0976011e-03 1.9401454e-05 9.9188292e-01]\n",
      "[0. 1. 0.] <-> [1.7894318e-02 9.8203218e-01 7.3477051e-05]\n",
      "[1. 0. 0.] <-> [0.9967957  0.00121672 0.00198757]\n",
      "[0. 1. 0.] <-> [2.7365021e-02 9.7255939e-01 7.5634576e-05]\n",
      "[1. 0. 0.] <-> [9.9746943e-01 8.4653916e-04 1.6840918e-03]\n",
      "[1. 0. 0.] <-> [0.86693007 0.13122414 0.00184581]\n",
      "[1. 0. 0.] <-> [0.99701667 0.00174927 0.00123404]\n",
      "[1. 0. 0.] <-> [0.99672323 0.00216459 0.00111217]\n",
      "[1. 0. 0.] <-> [0.99350196 0.00549086 0.00100721]\n",
      "[1. 0. 0.] <-> [9.9450654e-01 7.1781169e-04 4.7755572e-03]\n",
      "[1. 0. 0.] <-> [9.952160e-01 3.947429e-03 8.365422e-04]\n",
      "[1. 0. 0.] <-> [9.9425077e-01 4.8000505e-03 9.4910205e-04]\n",
      "[1. 0. 0.] <-> [9.7712553e-01 7.9168938e-04 2.2082772e-02]\n",
      "[0. 1. 0.] <-> [0.7001767  0.2987867  0.00103655]\n",
      "[1. 0. 0.] <-> [0.9957948  0.00229203 0.00191323]\n",
      "[1. 0. 0.] <-> [0.9973679  0.00155961 0.00107255]\n",
      "[0. 0. 1.] <-> [7.9461727e-03 1.9024355e-05 9.9203485e-01]\n",
      "[1. 0. 0.] <-> [2.9360697e-01 7.0584458e-01 5.4840767e-04]\n",
      "[1. 0. 0.] <-> [9.9424720e-01 9.6645934e-04 4.7863745e-03]\n",
      "[1. 0. 0.] <-> [9.9784338e-01 9.0696977e-04 1.2496312e-03]\n",
      "[1. 0. 0.] <-> [0.98031795 0.00105394 0.01862811]\n",
      "[1. 0. 0.] <-> [0.4111752  0.00069557 0.5881292 ]\n",
      "[0. 0. 1.] <-> [7.947052e-03 1.902617e-05 9.920339e-01]\n",
      "[1. 0. 0.] <-> [0.99756086 0.00122233 0.00121674]\n",
      "[1. 0. 0.] <-> [9.9253768e-01 9.4936934e-04 6.5128873e-03]\n",
      "[0. 1. 0.] <-> [2.6005113e-01 7.3955595e-01 3.9294621e-04]\n",
      "{'accuracy': 0.9629629629629629, 'mean_square_error': 0.07425942021298983, 'categorical_crossentropy': 0.12657174357661494, 'essential_metrics': {0: {'tp_hit': 76, 'fp_hit': 2, 'tn_hit': 26, 'fn_hit': 4}, 1: {'tp_hit': 14, 'fp_hit': 1, 'tn_hit': 92, 'fn_hit': 1}, 2: {'tp_hit': 12, 'fp_hit': 3, 'tn_hit': 92, 'fn_hit': 1}}}\n"
     ]
    }
   ],
   "source": [
    "# recall phase\n",
    "score = model.evaluate(x_test, y_test, False)\n",
    "print(score)"
   ]
  },
  {
   "cell_type": "code",
   "execution_count": 11,
   "metadata": {},
   "outputs": [
    {
     "data": {
      "image/png": "[encoded data removed]",
      "text/plain": [
       "<Figure size 864x360 with 1 Axes>"
      ]
     },
     "metadata": {
      "needs_background": "light"
     },
     "output_type": "display_data"
    },
    {
     "data": {
      "image/png": "[encoded data removed]",
      "text/plain": [
       "<Figure size 864x360 with 1 Axes>"
      ]
     },
     "metadata": {
      "needs_background": "light"
     },
     "output_type": "display_data"
    }
   ],
   "source": [
    "draw_plot(x = [[i for i in range(len(history))], [(i+1)*breakpoint for i in range(len(checkpoints))]], y_list = [history, [ ckp[model.loss_fn] for ckp in checkpoints ]], x_label = 'Epochs', \\\n",
    "    y_label = model.loss_fn, legend=['train', 'test'])\n",
    "acc = [ ckp['accuracy'] for ckp in checkpoints ]\n",
    "draw_plot(x = [[(i+1)*breakpoint for i in range(len(checkpoints))]], y_list = [acc], x_label = 'Checkpoints', \\\n",
    "    y_label = 'accuracy')"
   ]
  },
  {
   "cell_type": "code",
   "execution_count": 12,
   "metadata": {},
   "outputs": [
    {
     "name": "stdout",
     "output_type": "stream",
     "text": [
      "{'accuracy': 0.9629629629629629, 'mean_square_error': 0.12136381871231681, 'categorical_crossentropy': 0.27804222813359014, 'essential_metrics': {0: {'tp_hit': 78, 'fp_hit': 4, 'tn_hit': 24, 'fn_hit': 2}, 1: {'tp_hit': 13, 'fp_hit': 1, 'tn_hit': 92, 'fn_hit': 2}, 2: {'tp_hit': 11, 'fp_hit': 1, 'tn_hit': 94, 'fn_hit': 2}}, 'checkpoint': 100} \n",
      "\n",
      "\n",
      "{'accuracy': 0.9629629629629629, 'mean_square_error': 0.07252060978890186, 'categorical_crossentropy': 0.12727815133553963, 'essential_metrics': {0: {'tp_hit': 76, 'fp_hit': 2, 'tn_hit': 26, 'fn_hit': 4}, 1: {'tp_hit': 14, 'fp_hit': 1, 'tn_hit': 92, 'fn_hit': 1}, 2: {'tp_hit': 12, 'fp_hit': 3, 'tn_hit': 92, 'fn_hit': 1}}, 'checkpoint': 200} \n",
      "\n",
      "\n",
      "{'accuracy': 0.9629629629629629, 'mean_square_error': 0.07649945166739533, 'categorical_crossentropy': 0.1312205261654324, 'essential_metrics': {0: {'tp_hit': 76, 'fp_hit': 2, 'tn_hit': 26, 'fn_hit': 4}, 1: {'tp_hit': 14, 'fp_hit': 1, 'tn_hit': 92, 'fn_hit': 1}, 2: {'tp_hit': 12, 'fp_hit': 3, 'tn_hit': 92, 'fn_hit': 1}}, 'checkpoint': 300} \n",
      "\n",
      "\n",
      "{'accuracy': 0.9691358024691358, 'mean_square_error': 0.06945917940197242, 'categorical_crossentropy': 0.12163132208364981, 'essential_metrics': {0: {'tp_hit': 76, 'fp_hit': 1, 'tn_hit': 27, 'fn_hit': 4}, 1: {'tp_hit': 15, 'fp_hit': 1, 'tn_hit': 92, 'fn_hit': 0}, 2: {'tp_hit': 12, 'fp_hit': 3, 'tn_hit': 92, 'fn_hit': 1}}, 'checkpoint': 400} \n",
      "\n",
      "\n",
      "{'accuracy': 0.9629629629629629, 'mean_square_error': 0.07425942021298983, 'categorical_crossentropy': 0.12657174357661494, 'essential_metrics': {0: {'tp_hit': 76, 'fp_hit': 2, 'tn_hit': 26, 'fn_hit': 4}, 1: {'tp_hit': 14, 'fp_hit': 1, 'tn_hit': 92, 'fn_hit': 1}, 2: {'tp_hit': 12, 'fp_hit': 3, 'tn_hit': 92, 'fn_hit': 1}}, 'checkpoint': 500} \n",
      "\n",
      "\n"
     ]
    }
   ],
   "source": [
    "for checkpoint in checkpoints:\n",
    "    print(checkpoint, '\\n\\n')"
   ]
  },
  {
   "cell_type": "code",
   "execution_count": 13,
   "metadata": {},
   "outputs": [
    {
     "name": "stdout",
     "output_type": "stream",
     "text": [
      "Layer 1\n",
      "Neuron 0: weights:\n",
      "[ 1.3683472 -2.47489   -1.0497452  3.         3.       ]\n",
      " bias: 3.0\n",
      "\n",
      "Neuron 1: weights:\n",
      "[ 0.01242831 -3.          3.          2.1213474   3.        ]\n",
      " bias: -1.099374532699585\n",
      "\n",
      "Neuron 2: weights:\n",
      "[ 0.24066025  3.          1.9245418  -1.3562669  -3.        ]\n",
      " bias: 3.0\n",
      "\n",
      "Neuron 3: weights:\n",
      "[ 2.0323644 -3.        -2.2921057 -0.8506654  2.3317304]\n",
      " bias: 3.0\n",
      "\n",
      "$\n",
      "Layer 2\n",
      "Neuron 0: weights:\n",
      "[ 3. -3.  3.  3.]\n",
      " bias: -3.0\n",
      "\n",
      "Neuron 1: weights:\n",
      "[-3.        -1.8973447  2.6546416 -3.       ]\n",
      " bias: 1.8626185655593872\n",
      "\n",
      "Neuron 2: weights:\n",
      "[ 3.        3.       -3.        1.827071]\n",
      " bias: -3.0\n",
      "\n",
      "$\n",
      "\n"
     ]
    }
   ],
   "source": [
    "print(model)"
   ]
  }
 ],
 "metadata": {
  "kernelspec": {
   "display_name": "Python 3",
   "language": "python",
   "name": "python3"
  },
  "language_info": {
   "codemirror_mode": {
    "name": "ipython",
    "version": 3
   },
   "file_extension": ".py",
   "mimetype": "text/x-python",
   "name": "python",
   "nbconvert_exporter": "python",
   "pygments_lexer": "ipython3",
   "version": "3.6.10"
  }
 },
 "nbformat": 4,
 "nbformat_minor": 2
}
