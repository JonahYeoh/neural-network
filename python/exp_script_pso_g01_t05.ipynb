{
 "cells": [
  {
   "cell_type": "code",
   "execution_count": 1,
   "metadata": {},
   "outputs": [],
   "source": [
    "# dependency\n",
    "import numpy as np\n",
    "import pandas as pd\n",
    "import copy\n",
    "import math\n",
    "import sys\n",
    "import os\n",
    "from activations import relu, leaky_relu, sigmoid, tanh, softmax, d_sigmoid, d_relu\n",
    "from initializers import glorot_uniform, random_normal, random_uniform\n",
    "from regularizers import l1_regularizer, l2_regularizer\n",
    "from utility import trim_tail, multiply, subtract, get_nparams, one_hot_encoding, get_data\n",
    "from metrics import MSE, CCE, ACC, PRECISION, RECALL, essential_metrics, wondering_penalty, close_gap_penalty\n",
    "from pso import PSO\n",
    "from ga import GA\n",
    "from nn import Network\n",
    "from layer import DenseLayer\n",
    "from scalers import MinMaxScaler, StandardScaler"
   ]
  },
  {
   "cell_type": "code",
   "execution_count": 2,
   "metadata": {},
   "outputs": [],
   "source": [
    "# reference\n",
    "metrics_fn_dict = dict()\n",
    "metrics_fn_dict['accuracy'] = ACC\n",
    "metrics_fn_dict['categorical_crossentropy'] = CCE\n",
    "metrics_fn_dict['mean_square_error'] = MSE\n",
    "metrics_fn_dict['precision'] = PRECISION\n",
    "metrics_fn_dict['recall'] = RECALL\n",
    "metrics_fn_dict['essential_metrics'] = essential_metrics"
   ]
  },
  {
   "cell_type": "code",
   "execution_count": 3,
   "metadata": {},
   "outputs": [],
   "source": [
    "# model\n",
    "model = Network(5, lr = None)\n",
    "model.add_layer(DenseLayer(1, 4, True, afn=sigmoid, dafn=None, rfn=None))\n",
    "model.add_layer(DenseLayer(2, 3, True, afn=softmax, dafn=None, rfn=None))"
   ]
  },
  {
   "cell_type": "code",
   "execution_count": 4,
   "metadata": {},
   "outputs": [
    {
     "name": "stdout",
     "output_type": "stream",
     "text": [
      "see one see two 2 2\n"
     ]
    }
   ],
   "source": [
    "pso = PSO(dict(m = 50,\n",
    "    weight_constraint = [-3, 3], \n",
    "    velocity_constraint = [-0.1, 0.1],\n",
    "    c1 = 2,\n",
    "    c2 = 2,\n",
    "    w = 1.2,\n",
    "    w_decay = 1,\n",
    "    scale_hyperparameter = False,\n",
    "    regularizer = None,\n",
    "    mask = True))"
   ]
  },
  {
   "cell_type": "code",
   "execution_count": 5,
   "metadata": {},
   "outputs": [
    {
     "name": "stdout",
     "output_type": "stream",
     "text": [
      "building layer 1 with 5\n",
      "24\n",
      "building layer 2 with 4\n",
      "15\n"
     ]
    }
   ],
   "source": [
    "model.compile(loss_fn = 'categorical_crossentropy', optimizer = pso, \\\n",
    "    metrics = ['accuracy', 'mean_square_error', 'categorical_crossentropy'])"
   ]
  },
  {
   "cell_type": "code",
   "execution_count": 6,
   "metadata": {},
   "outputs": [
    {
     "name": "stdout",
     "output_type": "stream",
     "text": [
      "<class 'pandas.core.frame.DataFrame'>\n",
      "RangeIndex: 107 entries, 0 to 106\n",
      "Data columns (total 6 columns):\n",
      " #   Column  Non-Null Count  Dtype  \n",
      "---  ------  --------------  -----  \n",
      " 0   f1      107 non-null    float32\n",
      " 1   f2      107 non-null    float32\n",
      " 2   f3      107 non-null    float32\n",
      " 3   f4      107 non-null    float32\n",
      " 4   f5      107 non-null    float32\n",
      " 5   label   107 non-null    float32\n",
      "dtypes: float32(6)\n",
      "memory usage: 2.6 KB\n",
      "None\n",
      "<class 'pandas.core.frame.DataFrame'>\n",
      "RangeIndex: 108 entries, 0 to 107\n",
      "Data columns (total 6 columns):\n",
      " #   Column  Non-Null Count  Dtype  \n",
      "---  ------  --------------  -----  \n",
      " 0   f1      108 non-null    float32\n",
      " 1   f2      108 non-null    float32\n",
      " 2   f3      108 non-null    float32\n",
      " 3   f4      108 non-null    float32\n",
      " 4   f5      108 non-null    float32\n",
      " 5   label   108 non-null    float32\n",
      "dtypes: float32(6)\n",
      "memory usage: 2.7 KB\n",
      "None\n"
     ]
    }
   ],
   "source": [
    "# data loading\n",
    "DATA = os.path.join('c:\\\\Users\\\\AI-lab\\\\github_repo\\\\neural-network\\\\', 'dataset')\n",
    "GROUP = 1\n",
    "COLUMNS = ['f1', 'f2', 'f3', 'f4', 'f5', 'label']\n",
    "N_CLASS = 3\n",
    "EPOCHS = 200\n",
    "train_dir, test_dir = \"..//dataset//training_data{}.txt\".format(GROUP), \"..//dataset//testing_data{}.txt\".format(GROUP)\n",
    "train, test = get_data(DATA, train_dir, COLUMNS), get_data(DATA, test_dir, COLUMNS)\n",
    "# shuffle\n",
    "train, test = train.sample(frac=1), test.sample(frac=1)\n",
    "x_train, y_train = train.drop('label', axis=1), train['label']\n",
    "x_test, y_test = test.drop('label', axis=1), test['label']"
   ]
  },
  {
   "cell_type": "code",
   "execution_count": 7,
   "metadata": {},
   "outputs": [],
   "source": [
    "# data scaling and encoding\n",
    "scaler = StandardScaler(['f1', 'f2', 'f3', 'f4', 'f5'])\n",
    "scaler.fit(x_train)\n",
    "x_train = scaler.transform(x_train)\n",
    "x_test = scaler.transform(x_test)\n",
    "y_train = one_hot_encoding(y_train, N_CLASS)\n",
    "y_test = one_hot_encoding(y_test, N_CLASS)"
   ]
  },
  {
   "cell_type": "code",
   "execution_count": 8,
   "metadata": {
    "tags": [
     "outputPrepend"
    ]
   },
   "outputs": [
    {
     "name": "stdout",
     "output_type": "stream",
     "text": [
      "Checkpoint 10, Accuracy: 0.8580246913580247, Loss: 0.671529628612377\n",
      "Checkpoint 20, Accuracy: 0.8641975308641975, Loss: 0.6473277763084129\n",
      "Checkpoint 30, Accuracy: 0.8827160493827161, Loss: 0.6066149958857784\n",
      "Checkpoint 40, Accuracy: 0.8888888888888888, Loss: 0.6042363202130353\n",
      "Checkpoint 50, Accuracy: 0.8888888888888888, Loss: 0.4997529983520508\n",
      "Checkpoint 60, Accuracy: 0.9012345679012346, Loss: 0.45963050701000074\n",
      "Checkpoint 70, Accuracy: 0.9259259259259259, Loss: 0.4265931800559715\n",
      "Checkpoint 80, Accuracy: 0.9320987654320988, Loss: 0.3728950994986075\n",
      "Checkpoint 90, Accuracy: 0.9320987654320988, Loss: 0.3222310454757125\n",
      "Checkpoint 100, Accuracy: 0.9567901234567902, Loss: 0.31098817895959924\n",
      "Checkpoint 110, Accuracy: 0.9567901234567902, Loss: 0.27425532870822483\n",
      "Checkpoint 120, Accuracy: 0.9629629629629629, Loss: 0.24278739646629052\n",
      "Checkpoint 130, Accuracy: 0.9629629629629629, Loss: 0.21037433765552663\n",
      "Checkpoint 140, Accuracy: 0.9629629629629629, Loss: 0.18634200979162147\n",
      "Checkpoint 150, Accuracy: 0.9691358024691358, Loss: 0.16927597257826063\n",
      "Checkpoint 160, Accuracy: 0.9753086419753086, Loss: 0.15458483166164821\n",
      "Checkpoint 170, Accuracy: 0.9691358024691358, Loss: 0.13888183346501104\n",
      "Checkpoint 180, Accuracy: 0.9629629629629629, Loss: 0.13643400757401078\n",
      "Checkpoint 190, Accuracy: 0.9691358024691358, Loss: 0.12784202010543258\n",
      "Checkpoint 200, Accuracy: 0.9753086419753086, Loss: 0.12020142873128255\n"
     ]
    }
   ],
   "source": [
    "# learning phase\n",
    "breakpoint = 10\n",
    "checkpoints = list()\n",
    "history = list()\n",
    "for century in range(0, EPOCHS, breakpoint):\n",
    "    sub_history = model.fit(x_train, y_train, breakpoint, verbose = 0)\n",
    "    score = model.evaluate(x_test, y_test, False, verbose = 0)\n",
    "    print('Checkpoint {}, Accuracy: {}, Loss: {}'.format(century+breakpoint, score['accuracy'], score[model.loss_fn]))\n",
    "    score['checkpoint'] = century + breakpoint\n",
    "    checkpoints.append(score)\n",
    "    history.extend(sub_history)"
   ]
  },
  {
   "cell_type": "code",
   "execution_count": 9,
   "metadata": {},
   "outputs": [],
   "source": [
    "import matplotlib.pyplot as plt\n",
    "\n",
    "def draw_plot(x, y_list, x_label=None, y_label=None, legend=None, title=None):\n",
    "    fig, ax = plt.subplots(figsize=(12,5))\n",
    "    for xi, yi in zip(x, y_list):\n",
    "        ax.plot(xi, yi)\n",
    "    if x_label is not None and y_label is not None:\n",
    "        ax.set(xlabel=x_label, ylabel=y_label, title='{} VS {}'.format(x_label, y_label))\n",
    "    if legend is not None:\n",
    "        ax.legend(legend)\n",
    "    ax.grid()\n",
    "    plt.show()"
   ]
  },
  {
   "cell_type": "code",
   "execution_count": 10,
   "metadata": {},
   "outputs": [],
   "source": [
    "train_acc = [h['accuracy'] for h in history]\n",
    "train_mse = [h['mean_square_error'] for h in history]\n",
    "train_cce = [h['categorical_crossentropy'] for h in history]"
   ]
  },
  {
   "cell_type": "code",
   "execution_count": 11,
   "metadata": {},
   "outputs": [
    {
     "data": {
      "image/png": "[encoded data removed]",
      "text/plain": [
       "<Figure size 864x360 with 1 Axes>"
      ]
     },
     "metadata": {
      "needs_background": "light"
     },
     "output_type": "display_data"
    },
    {
     "data": {
      "image/png": "[encoded data removed]",
      "text/plain": [
       "<Figure size 864x360 with 1 Axes>"
      ]
     },
     "metadata": {
      "needs_background": "light"
     },
     "output_type": "display_data"
    }
   ],
   "source": [
    "draw_plot(x = [[i for i in range(len(history))], [(i+1)*breakpoint for i in range(len(checkpoints))]], y_list = [train_cce, [ ckp[model.loss_fn] for ckp in checkpoints ]], x_label = 'Epochs', \\\n",
    "    y_label = model.loss_fn, legend=['train', 'test'])\n",
    "acc = [ ckp['accuracy'] for ckp in checkpoints ]\n",
    "draw_plot(x = [[i for i in range(len(history))], [(i+1)*breakpoint for i in range(len(checkpoints))]], y_list = [train_acc, acc], x_label = 'Checkpoints', \\\n",
    "    y_label = 'accuracy', legend=['train', 'test'])"
   ]
  },
  {
   "cell_type": "code",
   "execution_count": 12,
   "metadata": {},
   "outputs": [
    {
     "name": "stdout",
     "output_type": "stream",
     "text": [
      "[0. 1. 0.] <-> [2.9371369e-01 7.0620364e-01 8.2658487e-05]\n",
      "[1. 0. 0.] <-> [0.965714   0.00421254 0.03007345]\n",
      "[1. 0. 0.] <-> [0.99023634 0.00853075 0.0012329 ]\n",
      "[1. 0. 0.] <-> [0.98951435 0.00210753 0.00837801]\n",
      "[1. 0. 0.] <-> [0.8813702  0.00347623 0.11515357]\n",
      "[0. 1. 0.] <-> [5.4039266e-02 9.4595152e-01 9.2992741e-06]\n",
      "[0. 0. 1.] <-> [1.9023668e-02 2.8483750e-04 9.8069155e-01]\n",
      "[1. 0. 0.] <-> [0.98704565 0.00313339 0.00982089]\n",
      "[1. 0. 0.] <-> [0.9933462  0.00460716 0.00204662]\n",
      "[1. 0. 0.] <-> [0.9907753  0.00764883 0.0015759 ]\n",
      "[0. 0. 1.] <-> [1.5294281e-02 2.3792026e-04 9.8446780e-01]\n",
      "[1. 0. 0.] <-> [0.9870661  0.01140854 0.00152527]\n",
      "[0. 0. 1.] <-> [1.5333776e-02 2.3833435e-04 9.8442787e-01]\n",
      "[1. 0. 0.] <-> [0.8166152  0.00404138 0.17934333]\n",
      "[1. 0. 0.] <-> [0.98421973 0.0025612  0.01321913]\n",
      "[1. 0. 0.] <-> [0.98934174 0.00500752 0.00565071]\n",
      "[1. 0. 0.] <-> [0.9738371  0.0040912  0.02207178]\n",
      "[1. 0. 0.] <-> [0.9920725  0.00206872 0.00585875]\n",
      "[1. 0. 0.] <-> [0.98837346 0.00953255 0.00209394]\n",
      "[0. 1. 0.] <-> [2.8925888e-02 9.7106522e-01 8.8767483e-06]\n",
      "[0. 1. 0.] <-> [4.0549032e-02 9.5944512e-01 5.8598789e-06]\n",
      "[1. 0. 0.] <-> [0.975545   0.00310975 0.0213453 ]\n",
      "[1. 0. 0.] <-> [0.9878528  0.00431415 0.00783296]\n",
      "[0. 1. 0.] <-> [3.4070946e-02 9.6592039e-01 8.6926020e-06]\n",
      "[0. 1. 0.] <-> [5.0134325e-01 4.9825543e-01 4.0130431e-04]\n",
      "[1. 0. 0.] <-> [0.9760786  0.01755175 0.00636968]\n",
      "[1. 0. 0.] <-> [0.7235268  0.0048815  0.27159175]\n",
      "[1. 0. 0.] <-> [0.9701681  0.00334113 0.02649075]\n",
      "[0. 0. 1.] <-> [1.5294373e-02 2.3792250e-04 9.8446769e-01]\n",
      "[1. 0. 0.] <-> [0.93610466 0.00501299 0.05888244]\n",
      "[1. 0. 0.] <-> [0.9823614  0.0030157  0.01462289]\n",
      "[0. 1. 0.] <-> [6.3861445e-02 9.3611419e-01 2.4402347e-05]\n",
      "[1. 0. 0.] <-> [0.991642   0.00612039 0.00223763]\n",
      "[1. 0. 0.] <-> [0.6974265 0.0043523 0.2982213]\n",
      "[1. 0. 0.] <-> [0.6663488  0.00317726 0.33047393]\n",
      "[1. 0. 0.] <-> [0.9935255  0.00422679 0.00224776]\n",
      "[1. 0. 0.] <-> [0.98380303 0.00381489 0.01238212]\n",
      "[1. 0. 0.] <-> [0.9924751  0.00610951 0.0014154 ]\n",
      "[1. 0. 0.] <-> [3.3204954e-02 4.3125349e-04 9.6636379e-01]\n",
      "[1. 0. 0.] <-> [0.9921178  0.00343608 0.00444616]\n",
      "[1. 0. 0.] <-> [0.98257154 0.00340054 0.01402795]\n",
      "[0. 0. 1.] <-> [1.5413147e-02 2.3919201e-04 9.8434770e-01]\n",
      "[1. 0. 0.] <-> [0.98974824 0.00333687 0.00691484]\n",
      "[1. 0. 0.] <-> [0.98945135 0.00406881 0.00647987]\n",
      "[1. 0. 0.] <-> [0.9948716  0.00260648 0.00252196]\n",
      "[1. 0. 0.] <-> [0.99404246 0.00401825 0.00193921]\n",
      "[1. 0. 0.] <-> [0.9940573  0.00374957 0.00219307]\n",
      "[1. 0. 0.] <-> [0.99367887 0.00347847 0.00284267]\n",
      "[1. 0. 0.] <-> [0.9909306  0.00249699 0.00657242]\n",
      "[1. 0. 0.] <-> [0.8555477  0.14278984 0.00166246]\n",
      "[1. 0. 0.] <-> [0.9852786  0.01346909 0.00125226]\n",
      "[1. 0. 0.] <-> [0.9786058  0.02014475 0.00124944]\n",
      "[1. 0. 0.] <-> [0.5654664  0.00387538 0.43065825]\n",
      "[1. 0. 0.] <-> [0.98343754 0.00427772 0.01228478]\n",
      "[1. 0. 0.] <-> [0.5153603  0.00436585 0.4802738 ]\n",
      "[1. 0. 0.] <-> [4.0790644e-01 5.9181464e-01 2.7892535e-04]\n",
      "[1. 0. 0.] <-> [0.9773138  0.00278889 0.01989729]\n",
      "[0. 0. 1.] <-> [0.63447237 0.00297175 0.3625558 ]\n",
      "[0. 0. 1.] <-> [1.52942585e-02 2.37921398e-04 9.84467804e-01]\n",
      "[1. 0. 0.] <-> [0.9922184  0.00378577 0.0039959 ]\n",
      "[1. 0. 0.] <-> [0.9899832  0.00630655 0.0037103 ]\n",
      "[1. 0. 0.] <-> [0.9938293  0.00274268 0.00342809]\n",
      "[0. 0. 1.] <-> [1.5313609e-02 2.3838833e-04 9.8444796e-01]\n",
      "[1. 0. 0.] <-> [0.97751755 0.00323453 0.01924789]\n",
      "[1. 0. 0.] <-> [0.9933821  0.00315376 0.00346417]\n",
      "[1. 0. 0.] <-> [0.9911254  0.00375434 0.00512015]\n",
      "[0. 0. 1.] <-> [1.5294080e-02 2.3791578e-04 9.8446804e-01]\n",
      "[1. 0. 0.] <-> [0.9181778  0.00688221 0.07494002]\n",
      "[1. 0. 0.] <-> [0.99384755 0.00301571 0.00313673]\n",
      "[1. 0. 0.] <-> [0.98808914 0.00296508 0.0089458 ]\n",
      "[1. 0. 0.] <-> [0.98864824 0.00556749 0.00578431]\n",
      "[1. 0. 0.] <-> [0.9918548 0.0070905 0.0010547]\n",
      "[1. 0. 0.] <-> [0.9664434  0.0321176  0.00143897]\n",
      "[0. 1. 0.] <-> [4.2225588e-02 9.5775878e-01 1.5595011e-05]\n",
      "[0. 1. 0.] <-> [1.1535114e-02 9.8842120e-01 4.3708758e-05]\n",
      "[1. 0. 0.] <-> [0.9827339  0.00323094 0.0140351 ]\n",
      "[0. 1. 0.] <-> [2.924696e-02 9.707437e-01 9.320182e-06]\n",
      "[1. 0. 0.] <-> [0.9876979  0.00242448 0.00987762]\n",
      "[1. 0. 0.] <-> [0.9476486  0.05111825 0.00123316]\n",
      "[1. 0. 0.] <-> [0.9929548  0.00241109 0.0046342 ]\n",
      "[0. 1. 0.] <-> [8.139249e-02 9.185789e-01 2.862407e-05]\n",
      "[1. 0. 0.] <-> [0.96643615 0.00428271 0.02928108]\n",
      "[0. 0. 1.] <-> [1.5300363e-02 2.3798006e-04 9.8446172e-01]\n",
      "[1. 0. 0.] <-> [0.98445064 0.0026695  0.01287992]\n",
      "[0. 0. 1.] <-> [1.5294080e-02 2.3791578e-04 9.8446804e-01]\n",
      "[0. 1. 0.] <-> [2.9031405e-01 7.0952410e-01 1.6185563e-04]\n",
      "[1. 0. 0.] <-> [9.6890593e-01 3.0655298e-02 4.3877651e-04]\n",
      "[1. 0. 0.] <-> [0.9892244  0.00358252 0.00719304]\n",
      "[0. 1. 0.] <-> [3.7443319e-01 6.2534678e-01 2.2008625e-04]\n",
      "[1. 0. 0.] <-> [0.9111074  0.00415403 0.08473859]\n",
      "[1. 0. 0.] <-> [0.98030406 0.00244034 0.01725564]\n",
      "[0. 1. 0.] <-> [1.6073887e-01 8.3922267e-01 3.8453825e-05]\n",
      "[1. 0. 0.] <-> [0.82584053 0.00372868 0.17043075]\n",
      "[1. 0. 0.] <-> [0.994624   0.00284284 0.00253323]\n",
      "[1. 0. 0.] <-> [0.992827   0.00272809 0.00444491]\n",
      "[1. 0. 0.] <-> [0.98262537 0.00344029 0.01393431]\n",
      "[1. 0. 0.] <-> [0.9767222  0.02200215 0.00127561]\n",
      "[1. 0. 0.] <-> [0.86712843 0.00313522 0.1297364 ]\n",
      "[0. 0. 1.] <-> [0.49597603 0.00332109 0.5007029 ]\n",
      "[1. 0. 0.] <-> [0.9849178  0.01380423 0.00127801]\n",
      "[1. 0. 0.] <-> [0.9934853  0.00399347 0.00252127]\n",
      "[1. 0. 0.] <-> [0.9926542  0.00511991 0.00222585]\n",
      "[1. 0. 0.] <-> [0.9771855  0.00455014 0.01826439]\n",
      "[0. 0. 1.] <-> [1.5820811e-02 2.4306754e-04 9.8393607e-01]\n",
      "[0. 1. 0.] <-> [3.2763351e-02 9.6722949e-01 7.1035583e-06]\n",
      "[1. 0. 0.] <-> [0.9881861  0.00826221 0.00355174]\n",
      "[1. 0. 0.] <-> [0.9946957  0.00255751 0.00274682]\n",
      "[1. 0. 0.] <-> [0.98474586 0.00400827 0.0112458 ]\n",
      "{'accuracy': 0.9753086419753086, 'mean_square_error': 0.06283309310705436, 'categorical_crossentropy': 0.12020142873128255, 'essential_metrics': {0: {'tp_hit': 78, 'fp_hit': 2, 'tn_hit': 26, 'fn_hit': 2}, 1: {'tp_hit': 14, 'fp_hit': 1, 'tn_hit': 92, 'fn_hit': 1}, 2: {'tp_hit': 12, 'fp_hit': 1, 'tn_hit': 94, 'fn_hit': 1}}}\n"
     ]
    }
   ],
   "source": [
    "# recall phase\n",
    "score = model.evaluate(x_test, y_test, False)\n",
    "print(score)"
   ]
  },
  {
   "cell_type": "code",
   "execution_count": 13,
   "metadata": {},
   "outputs": [
    {
     "name": "stdout",
     "output_type": "stream",
     "text": [
      "{'accuracy': 0.8580246913580247, 'mean_square_error': 0.40373171645464445, 'categorical_crossentropy': 0.671529628612377, 'essential_metrics': {0: {'tp_hit': 74, 'fp_hit': 17, 'tn_hit': 11, 'fn_hit': 6}, 1: {'tp_hit': 0, 'fp_hit': 0, 'tn_hit': 93, 'fn_hit': 15}, 2: {'tp_hit': 11, 'fp_hit': 6, 'tn_hit': 89, 'fn_hit': 2}}, 'checkpoint': 10} \n",
      "\n",
      "\n",
      "{'accuracy': 0.8641975308641975, 'mean_square_error': 0.3836475881203678, 'categorical_crossentropy': 0.6473277763084129, 'essential_metrics': {0: {'tp_hit': 76, 'fp_hit': 18, 'tn_hit': 10, 'fn_hit': 4}, 1: {'tp_hit': 0, 'fp_hit': 0, 'tn_hit': 93, 'fn_hit': 15}, 2: {'tp_hit': 10, 'fp_hit': 4, 'tn_hit': 91, 'fn_hit': 3}}, 'checkpoint': 20} \n",
      "\n",
      "\n",
      "{'accuracy': 0.8827160493827161, 'mean_square_error': 0.33800867911485966, 'categorical_crossentropy': 0.6066149958857784, 'essential_metrics': {0: {'tp_hit': 79, 'fp_hit': 18, 'tn_hit': 10, 'fn_hit': 1}, 1: {'tp_hit': 0, 'fp_hit': 0, 'tn_hit': 93, 'fn_hit': 15}, 2: {'tp_hit': 10, 'fp_hit': 1, 'tn_hit': 94, 'fn_hit': 3}}, 'checkpoint': 30} \n",
      "\n",
      "\n",
      "{'accuracy': 0.8888888888888888, 'mean_square_error': 0.3355549817867981, 'categorical_crossentropy': 0.6042363202130353, 'essential_metrics': {0: {'tp_hit': 80, 'fp_hit': 18, 'tn_hit': 10, 'fn_hit': 0}, 1: {'tp_hit': 1, 'fp_hit': 0, 'tn_hit': 93, 'fn_hit': 14}, 2: {'tp_hit': 9, 'fp_hit': 0, 'tn_hit': 95, 'fn_hit': 4}}, 'checkpoint': 40} \n",
      "\n",
      "\n",
      "{'accuracy': 0.8888888888888888, 'mean_square_error': 0.27798033117576393, 'categorical_crossentropy': 0.4997529983520508, 'essential_metrics': {0: {'tp_hit': 79, 'fp_hit': 17, 'tn_hit': 11, 'fn_hit': 1}, 1: {'tp_hit': 11, 'fp_hit': 1, 'tn_hit': 92, 'fn_hit': 4}, 2: {'tp_hit': 0, 'fp_hit': 0, 'tn_hit': 95, 'fn_hit': 13}}, 'checkpoint': 50} \n",
      "\n",
      "\n",
      "{'accuracy': 0.9012345679012346, 'mean_square_error': 0.2535199768472522, 'categorical_crossentropy': 0.45963050701000074, 'essential_metrics': {0: {'tp_hit': 80, 'fp_hit': 16, 'tn_hit': 12, 'fn_hit': 0}, 1: {'tp_hit': 9, 'fp_hit': 0, 'tn_hit': 93, 'fn_hit': 6}, 2: {'tp_hit': 3, 'fp_hit': 0, 'tn_hit': 95, 'fn_hit': 10}}, 'checkpoint': 60} \n",
      "\n",
      "\n",
      "{'accuracy': 0.9259259259259259, 'mean_square_error': 0.22338687974817042, 'categorical_crossentropy': 0.4265931800559715, 'essential_metrics': {0: {'tp_hit': 79, 'fp_hit': 11, 'tn_hit': 17, 'fn_hit': 1}, 1: {'tp_hit': 11, 'fp_hit': 1, 'tn_hit': 92, 'fn_hit': 4}, 2: {'tp_hit': 6, 'fp_hit': 0, 'tn_hit': 95, 'fn_hit': 7}}, 'checkpoint': 70} \n",
      "\n",
      "\n",
      "{'accuracy': 0.9320987654320988, 'mean_square_error': 0.1986345000783885, 'categorical_crossentropy': 0.3728950994986075, 'essential_metrics': {0: {'tp_hit': 80, 'fp_hit': 11, 'tn_hit': 17, 'fn_hit': 0}, 1: {'tp_hit': 11, 'fp_hit': 0, 'tn_hit': 93, 'fn_hit': 4}, 2: {'tp_hit': 6, 'fp_hit': 0, 'tn_hit': 95, 'fn_hit': 7}}, 'checkpoint': 80} \n",
      "\n",
      "\n",
      "{'accuracy': 0.9320987654320988, 'mean_square_error': 0.16251226446589517, 'categorical_crossentropy': 0.3222310454757125, 'essential_metrics': {0: {'tp_hit': 80, 'fp_hit': 11, 'tn_hit': 17, 'fn_hit': 0}, 1: {'tp_hit': 10, 'fp_hit': 0, 'tn_hit': 93, 'fn_hit': 5}, 2: {'tp_hit': 7, 'fp_hit': 0, 'tn_hit': 95, 'fn_hit': 6}}, 'checkpoint': 90} \n",
      "\n",
      "\n",
      "{'accuracy': 0.9567901234567902, 'mean_square_error': 0.1473459325588469, 'categorical_crossentropy': 0.31098817895959924, 'essential_metrics': {0: {'tp_hit': 78, 'fp_hit': 5, 'tn_hit': 23, 'fn_hit': 2}, 1: {'tp_hit': 13, 'fp_hit': 1, 'tn_hit': 92, 'fn_hit': 2}, 2: {'tp_hit': 10, 'fp_hit': 1, 'tn_hit': 94, 'fn_hit': 3}}, 'checkpoint': 100} \n",
      "\n",
      "\n",
      "{'accuracy': 0.9567901234567902, 'mean_square_error': 0.13365752638848574, 'categorical_crossentropy': 0.27425532870822483, 'essential_metrics': {0: {'tp_hit': 79, 'fp_hit': 6, 'tn_hit': 22, 'fn_hit': 1}, 1: {'tp_hit': 11, 'fp_hit': 0, 'tn_hit': 93, 'fn_hit': 4}, 2: {'tp_hit': 11, 'fp_hit': 1, 'tn_hit': 94, 'fn_hit': 2}}, 'checkpoint': 110} \n",
      "\n",
      "\n",
      "{'accuracy': 0.9629629629629629, 'mean_square_error': 0.11955700987983285, 'categorical_crossentropy': 0.24278739646629052, 'essential_metrics': {0: {'tp_hit': 78, 'fp_hit': 4, 'tn_hit': 24, 'fn_hit': 2}, 1: {'tp_hit': 13, 'fp_hit': 1, 'tn_hit': 92, 'fn_hit': 2}, 2: {'tp_hit': 11, 'fp_hit': 1, 'tn_hit': 94, 'fn_hit': 2}}, 'checkpoint': 120} \n",
      "\n",
      "\n",
      "{'accuracy': 0.9629629629629629, 'mean_square_error': 0.10597666189193251, 'categorical_crossentropy': 0.21037433765552663, 'essential_metrics': {0: {'tp_hit': 79, 'fp_hit': 5, 'tn_hit': 23, 'fn_hit': 1}, 1: {'tp_hit': 12, 'fp_hit': 0, 'tn_hit': 93, 'fn_hit': 3}, 2: {'tp_hit': 11, 'fp_hit': 1, 'tn_hit': 94, 'fn_hit': 2}}, 'checkpoint': 130} \n",
      "\n",
      "\n",
      "{'accuracy': 0.9629629629629629, 'mean_square_error': 0.09200015638457099, 'categorical_crossentropy': 0.18634200979162147, 'essential_metrics': {0: {'tp_hit': 78, 'fp_hit': 4, 'tn_hit': 24, 'fn_hit': 2}, 1: {'tp_hit': 13, 'fp_hit': 1, 'tn_hit': 92, 'fn_hit': 2}, 2: {'tp_hit': 11, 'fp_hit': 1, 'tn_hit': 94, 'fn_hit': 2}}, 'checkpoint': 140} \n",
      "\n",
      "\n",
      "{'accuracy': 0.9691358024691358, 'mean_square_error': 0.08556597014978255, 'categorical_crossentropy': 0.16927597257826063, 'essential_metrics': {0: {'tp_hit': 78, 'fp_hit': 3, 'tn_hit': 25, 'fn_hit': 2}, 1: {'tp_hit': 14, 'fp_hit': 1, 'tn_hit': 92, 'fn_hit': 1}, 2: {'tp_hit': 11, 'fp_hit': 1, 'tn_hit': 94, 'fn_hit': 2}}, 'checkpoint': 150} \n",
      "\n",
      "\n",
      "{'accuracy': 0.9753086419753086, 'mean_square_error': 0.0813398069418555, 'categorical_crossentropy': 0.15458483166164821, 'essential_metrics': {0: {'tp_hit': 78, 'fp_hit': 2, 'tn_hit': 26, 'fn_hit': 2}, 1: {'tp_hit': 15, 'fp_hit': 1, 'tn_hit': 92, 'fn_hit': 0}, 2: {'tp_hit': 11, 'fp_hit': 1, 'tn_hit': 94, 'fn_hit': 2}}, 'checkpoint': 160} \n",
      "\n",
      "\n",
      "{'accuracy': 0.9691358024691358, 'mean_square_error': 0.07642102253218165, 'categorical_crossentropy': 0.13888183346501104, 'essential_metrics': {0: {'tp_hit': 77, 'fp_hit': 2, 'tn_hit': 26, 'fn_hit': 3}, 1: {'tp_hit': 15, 'fp_hit': 1, 'tn_hit': 92, 'fn_hit': 0}, 2: {'tp_hit': 11, 'fp_hit': 2, 'tn_hit': 93, 'fn_hit': 2}}, 'checkpoint': 170} \n",
      "\n",
      "\n",
      "{'accuracy': 0.9629629629629629, 'mean_square_error': 0.07465839991006981, 'categorical_crossentropy': 0.13643400757401078, 'essential_metrics': {0: {'tp_hit': 77, 'fp_hit': 3, 'tn_hit': 25, 'fn_hit': 3}, 1: {'tp_hit': 14, 'fp_hit': 1, 'tn_hit': 92, 'fn_hit': 1}, 2: {'tp_hit': 11, 'fp_hit': 2, 'tn_hit': 93, 'fn_hit': 2}}, 'checkpoint': 180} \n",
      "\n",
      "\n",
      "{'accuracy': 0.9691358024691358, 'mean_square_error': 0.06850380488200304, 'categorical_crossentropy': 0.12784202010543258, 'essential_metrics': {0: {'tp_hit': 78, 'fp_hit': 3, 'tn_hit': 25, 'fn_hit': 2}, 1: {'tp_hit': 14, 'fp_hit': 1, 'tn_hit': 92, 'fn_hit': 1}, 2: {'tp_hit': 11, 'fp_hit': 1, 'tn_hit': 94, 'fn_hit': 2}}, 'checkpoint': 190} \n",
      "\n",
      "\n",
      "{'accuracy': 0.9753086419753086, 'mean_square_error': 0.06283309310705436, 'categorical_crossentropy': 0.12020142873128255, 'essential_metrics': {0: {'tp_hit': 78, 'fp_hit': 2, 'tn_hit': 26, 'fn_hit': 2}, 1: {'tp_hit': 14, 'fp_hit': 1, 'tn_hit': 92, 'fn_hit': 1}, 2: {'tp_hit': 12, 'fp_hit': 1, 'tn_hit': 94, 'fn_hit': 1}}, 'checkpoint': 200} \n",
      "\n",
      "\n"
     ]
    }
   ],
   "source": [
    "for checkpoint in checkpoints:\n",
    "    print(checkpoint, '\\n\\n')"
   ]
  },
  {
   "cell_type": "code",
   "execution_count": 14,
   "metadata": {},
   "outputs": [
    {
     "name": "stdout",
     "output_type": "stream",
     "text": [
      "Layer 1\n",
      "Neuron 0: weights:\n",
      "[-0.75229126  2.4203482   1.9342463  -3.         -3.        ]\n",
      " bias: 2.452742099761963\n",
      "\n",
      "Neuron 1: weights:\n",
      "[-0.7767483 -1.2585427  0.5515151  2.8426626  2.2627387]\n",
      " bias: 0.08821392804384232\n",
      "\n",
      "Neuron 2: weights:\n",
      "[-1.1700411  2.7704294  3.        -1.5706187 -3.       ]\n",
      " bias: -3.0\n",
      "\n",
      "Neuron 3: weights:\n",
      "[ 1.7674589  -3.         -0.4856457   0.13152686  1.3831826 ]\n",
      " bias: 2.43560791015625\n",
      "\n",
      "$\n",
      "Layer 2\n",
      "Neuron 0: weights:\n",
      "[ 3.        -3.        -3.         0.7476402]\n",
      " bias: 2.2167954444885254\n",
      "\n",
      "Neuron 1: weights:\n",
      "[ 2.4240525 -1.1812453  3.        -3.       ]\n",
      " bias: -0.01762312836945057\n",
      "\n",
      "Neuron 2: weights:\n",
      "[-3.         1.8748199 -3.         3.       ]\n",
      " bias: -0.7457484602928162\n",
      "\n",
      "$\n",
      "\n"
     ]
    }
   ],
   "source": [
    "print(model)"
   ]
  }
 ],
 "metadata": {
  "kernelspec": {
   "display_name": "Python 3",
   "language": "python",
   "name": "python3"
  },
  "language_info": {
   "codemirror_mode": {
    "name": "ipython",
    "version": 3
   },
   "file_extension": ".py",
   "mimetype": "text/x-python",
   "name": "python",
   "nbconvert_exporter": "python",
   "pygments_lexer": "ipython3",
   "version": "3.6.12"
  }
 },
 "nbformat": 4,
 "nbformat_minor": 2
}
