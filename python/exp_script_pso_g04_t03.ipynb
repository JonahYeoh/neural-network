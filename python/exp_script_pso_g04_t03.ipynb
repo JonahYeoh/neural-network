{
 "cells": [
  {
   "cell_type": "code",
   "execution_count": 1,
   "metadata": {},
   "outputs": [],
   "source": [
    "# dependency\n",
    "import numpy as np\n",
    "import pandas as pd\n",
    "import copy\n",
    "import math\n",
    "import sys\n",
    "import os\n",
    "from activations import relu, leaky_relu, sigmoid, tanh, softmax, d_sigmoid, d_relu\n",
    "from initializers import glorot_uniform, random_normal, random_uniform\n",
    "from regularizers import l1_regularizer, l2_regularizer\n",
    "from utility import trim_tail, multiply, subtract, get_nparams, one_hot_encoding, get_data\n",
    "from metrics import MSE, CCE, ACC, PRECISION, RECALL, essential_metrics, wondering_penalty, close_gap_penalty\n",
    "from pso import PSO\n",
    "from ga import GA\n",
    "from nn import Network\n",
    "from layer import DenseLayer\n",
    "from scalers import MinMaxScaler, StandardScaler"
   ]
  },
  {
   "cell_type": "code",
   "execution_count": 2,
   "metadata": {},
   "outputs": [],
   "source": [
    "# reference\n",
    "metrics_fn_dict = dict()\n",
    "metrics_fn_dict['accuracy'] = ACC\n",
    "metrics_fn_dict['categorical_crossentropy'] = CCE\n",
    "metrics_fn_dict['mean_square_error'] = MSE\n",
    "metrics_fn_dict['precision'] = PRECISION\n",
    "metrics_fn_dict['recall'] = RECALL\n",
    "metrics_fn_dict['essential_metrics'] = essential_metrics"
   ]
  },
  {
   "cell_type": "code",
   "execution_count": 3,
   "metadata": {},
   "outputs": [],
   "source": [
    "# model\n",
    "model = Network(5, lr = None)\n",
    "model.add_layer(DenseLayer(1, 4, True, afn=sigmoid, dafn=None, rfn=None))\n",
    "model.add_layer(DenseLayer(2, 3, True, afn=softmax, dafn=None, rfn=None))"
   ]
  },
  {
   "cell_type": "code",
   "execution_count": 4,
   "metadata": {},
   "outputs": [],
   "source": [
    "pso = PSO(dict(m = 50,\n",
    "    weight_constraint = [-3, 3], \n",
    "    velocity_constraint = [-0.1, 0.1],\n",
    "    c1 = 2,\n",
    "    c2 = 2,\n",
    "    w = 1,\n",
    "    w_decay = 1,\n",
    "    scale_hyperparameter = False,\n",
    "    regularizer = l1_regularizer,\n",
    "    mask = True))"
   ]
  },
  {
   "cell_type": "code",
   "execution_count": 5,
   "metadata": {},
   "outputs": [
    {
     "name": "stdout",
     "output_type": "stream",
     "text": [
      "building layer 1 with 5\n",
      "24\n",
      "building layer 2 with 4\n",
      "15\n"
     ]
    }
   ],
   "source": [
    "model.compile(loss_fn = 'categorical_crossentropy', optimizer = pso, \\\n",
    "    metrics = ['accuracy', 'mean_square_error', 'categorical_crossentropy'])"
   ]
  },
  {
   "cell_type": "code",
   "execution_count": 6,
   "metadata": {},
   "outputs": [
    {
     "name": "stdout",
     "output_type": "stream",
     "text": [
      "<class 'pandas.core.frame.DataFrame'>\n",
      "RangeIndex: 107 entries, 0 to 106\n",
      "Data columns (total 6 columns):\n",
      " #   Column  Non-Null Count  Dtype  \n",
      "---  ------  --------------  -----  \n",
      " 0   f1      107 non-null    float32\n",
      " 1   f2      107 non-null    float32\n",
      " 2   f3      107 non-null    float32\n",
      " 3   f4      107 non-null    float32\n",
      " 4   f5      107 non-null    float32\n",
      " 5   label   107 non-null    float32\n",
      "dtypes: float32(6)\n",
      "memory usage: 2.6 KB\n",
      "None\n",
      "<class 'pandas.core.frame.DataFrame'>\n",
      "RangeIndex: 108 entries, 0 to 107\n",
      "Data columns (total 6 columns):\n",
      " #   Column  Non-Null Count  Dtype  \n",
      "---  ------  --------------  -----  \n",
      " 0   f1      108 non-null    float32\n",
      " 1   f2      108 non-null    float32\n",
      " 2   f3      108 non-null    float32\n",
      " 3   f4      108 non-null    float32\n",
      " 4   f5      108 non-null    float32\n",
      " 5   label   108 non-null    float32\n",
      "dtypes: float32(6)\n",
      "memory usage: 2.7 KB\n",
      "None\n"
     ]
    }
   ],
   "source": [
    "# data loading\n",
    "DATA = os.path.join('c:\\\\Users\\\\tcumi\\\\github_repo\\\\neural-network\\\\', 'dataset')\n",
    "GROUP = 4\n",
    "COLUMNS = ['f1', 'f2', 'f3', 'f4', 'f5', 'label']\n",
    "N_CLASS = 3\n",
    "EPOCHS = 500\n",
    "train_dir, test_dir = \"..//dataset//training_data{}.txt\".format(GROUP), \"..//dataset//testing_data{}.txt\".format(GROUP)\n",
    "train, test = get_data(DATA, train_dir, COLUMNS), get_data(DATA, test_dir, COLUMNS)\n",
    "# shuffle\n",
    "train, test = train.sample(frac=1), test.sample(frac=1)\n",
    "x_train, y_train = train.drop('label', axis=1), train['label']\n",
    "x_test, y_test = test.drop('label', axis=1), test['label']"
   ]
  },
  {
   "cell_type": "code",
   "execution_count": 7,
   "metadata": {},
   "outputs": [],
   "source": [
    "# data scaling and encoding\n",
    "scaler = StandardScaler(['f1', 'f2', 'f3', 'f4', 'f5'])\n",
    "scaler.fit(x_train)\n",
    "x_train = scaler.transform(x_train)\n",
    "x_test = scaler.transform(x_test)\n",
    "y_train = one_hot_encoding(y_train, N_CLASS)\n",
    "y_test = one_hot_encoding(y_test, N_CLASS)"
   ]
  },
  {
   "cell_type": "code",
   "execution_count": 8,
   "metadata": {
    "tags": [
     "outputPrepend"
    ]
   },
   "outputs": [
    {
     "name": "stdout",
     "output_type": "stream",
     "text": [
      "Checkpoint 100, Accuracy: 0.9382716049382716, Loss: 0.29194888362178095\n",
      "Checkpoint 200, Accuracy: 0.9691358024691358, Loss: 0.23432272451895256\n",
      "Checkpoint 300, Accuracy: 0.9753086419753086, Loss: 0.20894320805867514\n",
      "Checkpoint 400, Accuracy: 0.9753086419753086, Loss: 0.22060581489845557\n",
      "Checkpoint 500, Accuracy: 0.9814814814814815, Loss: 0.20754415017587166\n"
     ]
    }
   ],
   "source": [
    "# learning phase\n",
    "breakpoint = 100\n",
    "checkpoints = list()\n",
    "history = list()\n",
    "for century in range(0, EPOCHS, breakpoint):\n",
    "    sub_history = model.fit(x_train, y_train, breakpoint, verbose = 0)\n",
    "    score = model.evaluate(x_test, y_test, False, verbose = 0)\n",
    "    print('Checkpoint {}, Accuracy: {}, Loss: {}'.format(century+breakpoint, score['accuracy'], score[model.loss_fn]))\n",
    "    score['checkpoint'] = century + breakpoint\n",
    "    checkpoints.append(score)\n",
    "    history.extend(sub_history)"
   ]
  },
  {
   "cell_type": "code",
   "execution_count": 9,
   "metadata": {},
   "outputs": [],
   "source": [
    "import matplotlib.pyplot as plt\n",
    "\n",
    "def draw_plot(x, y_list, x_label=None, y_label=None, legend=None, title=None):\n",
    "    fig, ax = plt.subplots(figsize=(12,5))\n",
    "    for xi, yi in zip(x, y_list):\n",
    "        ax.plot(xi, yi)\n",
    "    if x_label is not None and y_label is not None:\n",
    "        ax.set(xlabel=x_label, ylabel=y_label, title='{} VS {}'.format(x_label, y_label))\n",
    "    if legend is not None:\n",
    "        ax.legend(legend)\n",
    "    ax.grid()\n",
    "    plt.show()"
   ]
  },
  {
   "cell_type": "code",
   "execution_count": 10,
   "metadata": {},
   "outputs": [
    {
     "name": "stdout",
     "output_type": "stream",
     "text": [
      "[1. 0. 0.] <-> [0.48226982 0.08119343 0.4365367 ]\n",
      "[0. 0. 1.] <-> [0.76582795 0.03613658 0.1980355 ]\n",
      "[1. 0. 0.] <-> [0.8928499  0.07895244 0.02819764]\n",
      "[0. 1. 0.] <-> [0.05980918 0.9282516  0.01193927]\n",
      "[1. 0. 0.] <-> [0.929543   0.02547109 0.04498588]\n",
      "[1. 0. 0.] <-> [0.90531033 0.03240668 0.06228304]\n",
      "[0. 1. 0.] <-> [0.2742992  0.6991867  0.02651417]\n",
      "[1. 0. 0.] <-> [0.9398753  0.03146214 0.02866257]\n",
      "[1. 0. 0.] <-> [0.9024923  0.0562568  0.04125097]\n",
      "[1. 0. 0.] <-> [0.8689569  0.09017511 0.04086798]\n",
      "[0. 0. 1.] <-> [0.7144039  0.05599128 0.22960472]\n",
      "[1. 0. 0.] <-> [0.9425436  0.0288359  0.02862041]\n",
      "[0. 0. 1.] <-> [0.4775543  0.03589601 0.48654962]\n",
      "[0. 0. 1.] <-> [0.08196297 0.0508897  0.8671473 ]\n",
      "[1. 0. 0.] <-> [0.91775554 0.04044594 0.04179846]\n",
      "[1. 0. 0.] <-> [0.70970404 0.25452507 0.03577096]\n",
      "[1. 0. 0.] <-> [0.94090897 0.03606372 0.02302732]\n",
      "[1. 0. 0.] <-> [0.83337873 0.09042883 0.0761924 ]\n",
      "[0. 0. 1.] <-> [0.12138377 0.02739341 0.85122275]\n",
      "[1. 0. 0.] <-> [0.76715267 0.06098925 0.17185812]\n",
      "[1. 0. 0.] <-> [0.8905137  0.08089568 0.02859064]\n",
      "[0. 1. 0.] <-> [0.05138723 0.9378189  0.01079382]\n",
      "[1. 0. 0.] <-> [0.9387929  0.02836377 0.03284343]\n",
      "[1. 0. 0.] <-> [0.79247916 0.12350794 0.08401299]\n",
      "[0. 1. 0.] <-> [0.29315293 0.678106   0.02874111]\n",
      "[1. 0. 0.] <-> [0.6899018  0.2681126  0.04198555]\n",
      "[1. 0. 0.] <-> [0.8261122  0.14051478 0.03337294]\n",
      "[0. 0. 1.] <-> [0.21464698 0.02982516 0.7555279 ]\n",
      "[1. 0. 0.] <-> [0.70687044 0.25138938 0.04174013]\n",
      "[0. 1. 0.] <-> [0.14401978 0.83525926 0.02072091]\n",
      "[1. 0. 0.] <-> [0.91723883 0.05604582 0.02671538]\n",
      "[1. 0. 0.] <-> [0.93549323 0.03863457 0.02587214]\n",
      "[0. 0. 1.] <-> [0.08702385 0.02523522 0.88774097]\n",
      "[1. 0. 0.] <-> [0.9275613  0.04934522 0.02309353]\n",
      "[0. 1. 0.] <-> [0.07048314 0.9164855  0.01303148]\n",
      "[1. 0. 0.] <-> [0.92519635 0.04269535 0.03210833]\n",
      "[0. 0. 1.] <-> [0.21192273 0.05309212 0.7349852 ]\n",
      "[1. 0. 0.] <-> [0.9106618  0.05907972 0.03025842]\n",
      "[1. 0. 0.] <-> [0.9151927  0.04624965 0.03855765]\n",
      "[1. 0. 0.] <-> [0.93079823 0.04097009 0.02823162]\n",
      "[1. 0. 0.] <-> [0.9488444  0.02727134 0.02388428]\n",
      "[0. 1. 0.] <-> [0.04331908 0.94598395 0.010697  ]\n",
      "[1. 0. 0.] <-> [0.9151443  0.05441004 0.0304456 ]\n",
      "[1. 0. 0.] <-> [0.8907261  0.08408444 0.02518941]\n",
      "[0. 1. 0.] <-> [0.04571936 0.943585   0.0106957 ]\n",
      "[1. 0. 0.] <-> [0.9392859  0.03378094 0.02693322]\n",
      "[1. 0. 0.] <-> [0.7599994  0.20682895 0.0331716 ]\n",
      "[1. 0. 0.] <-> [0.9060835  0.06791519 0.02600138]\n",
      "[1. 0. 0.] <-> [0.888507   0.05145501 0.06003803]\n",
      "[1. 0. 0.] <-> [0.8198723  0.03871509 0.14141263]\n",
      "[1. 0. 0.] <-> [0.6646765  0.08289366 0.25242984]\n",
      "[1. 0. 0.] <-> [0.92572725 0.04947308 0.02479969]\n",
      "[0. 1. 0.] <-> [0.07540745 0.9105261  0.01406644]\n",
      "[1. 0. 0.] <-> [0.8534696  0.1156652  0.03086516]\n",
      "[1. 0. 0.] <-> [0.93618184 0.03240757 0.03141063]\n",
      "[0. 0. 1.] <-> [0.2240615  0.04879028 0.72714823]\n",
      "[0. 1. 0.] <-> [0.3815277  0.5879081  0.03056424]\n",
      "[1. 0. 0.] <-> [0.8879318  0.07235035 0.03971787]\n",
      "[1. 0. 0.] <-> [0.8947433  0.05934419 0.04591247]\n",
      "[1. 0. 0.] <-> [0.57310766 0.38900536 0.03788703]\n",
      "[0. 1. 0.] <-> [0.05161259 0.93730634 0.01108099]\n",
      "[0. 0. 1.] <-> [0.1323493  0.02413051 0.84352016]\n",
      "[0. 0. 1.] <-> [0.4534797  0.05596757 0.49055275]\n",
      "[0. 0. 1.] <-> [0.07956946 0.03750793 0.8829226 ]\n",
      "[1. 0. 0.] <-> [0.9223214  0.05271375 0.02496484]\n",
      "[1. 0. 0.] <-> [0.92368656 0.04525199 0.03106149]\n",
      "[1. 0. 0.] <-> [0.9110442  0.03926606 0.04968967]\n",
      "[1. 0. 0.] <-> [0.9182264  0.0332197  0.04855388]\n",
      "[1. 0. 0.] <-> [0.76268774 0.19747546 0.03983678]\n",
      "[1. 0. 0.] <-> [0.87185115 0.07158032 0.05656852]\n",
      "[1. 0. 0.] <-> [0.9270856  0.02487385 0.04804051]\n",
      "[1. 0. 0.] <-> [0.85932547 0.11057237 0.0301022 ]\n",
      "[0. 1. 0.] <-> [0.52939767 0.43707028 0.03353209]\n",
      "[0. 0. 1.] <-> [0.27199933 0.03147922 0.69652146]\n",
      "[1. 0. 0.] <-> [0.9223831  0.05015269 0.02746415]\n",
      "[1. 0. 0.] <-> [0.92955506 0.04528333 0.02516151]\n",
      "[1. 0. 0.] <-> [0.7824114  0.18096958 0.03661904]\n",
      "[1. 0. 0.] <-> [0.4863932  0.4797704  0.03383639]\n",
      "[1. 0. 0.] <-> [0.93004644 0.0270791  0.04287439]\n",
      "[0. 1. 0.] <-> [0.04898943 0.94021064 0.01080001]\n",
      "[1. 0. 0.] <-> [0.9312423  0.0369555  0.03180222]\n",
      "[1. 0. 0.] <-> [0.929173   0.03884783 0.0319792 ]\n",
      "[1. 0. 0.] <-> [0.9132243  0.0292478  0.05752783]\n",
      "[1. 0. 0.] <-> [0.9232502  0.0447974  0.03195236]\n",
      "[1. 0. 0.] <-> [0.9169579  0.05390479 0.02913731]\n",
      "[1. 0. 0.] <-> [0.9263601  0.0323054  0.04133458]\n",
      "[1. 0. 0.] <-> [0.8941931  0.07163551 0.03417145]\n",
      "[1. 0. 0.] <-> [0.7305939  0.20761204 0.06179405]\n",
      "[0. 1. 0.] <-> [0.152501   0.8296448  0.01785425]\n",
      "[1. 0. 0.] <-> [0.9068992  0.05828684 0.034814  ]\n",
      "[1. 0. 0.] <-> [0.8506368  0.05761491 0.09174833]\n",
      "[1. 0. 0.] <-> [0.9160024  0.05186742 0.03213015]\n",
      "[1. 0. 0.] <-> [0.89918226 0.0735326  0.02728514]\n",
      "[0. 1. 0.] <-> [0.3252414  0.642944   0.03181458]\n",
      "[1. 0. 0.] <-> [0.832016   0.06200076 0.10598331]\n",
      "[1. 0. 0.] <-> [0.9056413  0.04600189 0.04835679]\n",
      "[1. 0. 0.] <-> [0.9524236  0.02304639 0.02453006]\n",
      "[1. 0. 0.] <-> [0.9330408  0.03355595 0.03340318]\n",
      "[1. 0. 0.] <-> [0.94592416 0.0285272  0.02554861]\n",
      "[1. 0. 0.] <-> [0.9158108  0.05789424 0.02629499]\n",
      "[0. 1. 0.] <-> [0.38639927 0.5846423  0.02895849]\n",
      "[1. 0. 0.] <-> [0.8560933  0.10752397 0.03638278]\n",
      "[1. 0. 0.] <-> [0.83156043 0.06413163 0.10430793]\n",
      "[1. 0. 0.] <-> [0.8111989  0.15259618 0.03620489]\n",
      "[1. 0. 0.] <-> [0.9430495  0.02923873 0.02771178]\n",
      "[0. 0. 1.] <-> [0.20687225 0.02959991 0.7635278 ]\n",
      "[1. 0. 0.] <-> [0.9011869  0.03013349 0.06867958]\n",
      "[1. 0. 0.] <-> [0.86781037 0.03535662 0.09683309]\n",
      "{'accuracy': 0.9814814814814815, 'mean_square_error': 0.08897870838925294, 'categorical_crossentropy': 0.20754415017587166, 'essential_metrics': {0: {'tp_hit': 78, 'fp_hit': 3, 'tn_hit': 27, 'fn_hit': 0}, 1: {'tp_hit': 15, 'fp_hit': 0, 'tn_hit': 92, 'fn_hit': 1}, 2: {'tp_hit': 12, 'fp_hit': 0, 'tn_hit': 94, 'fn_hit': 2}}}\n"
     ]
    }
   ],
   "source": [
    "# recall phase\n",
    "score = model.evaluate(x_test, y_test, False)\n",
    "print(score)"
   ]
  },
  {
   "cell_type": "code",
   "execution_count": 11,
   "metadata": {},
   "outputs": [
    {
     "data": {
      "image/png": "[encoded data removed]",
      "text/plain": [
       "<Figure size 864x360 with 1 Axes>"
      ]
     },
     "metadata": {
      "needs_background": "light"
     },
     "output_type": "display_data"
    },
    {
     "data": {
      "image/png": "[encoded data removed]",
      "text/plain": [
       "<Figure size 864x360 with 1 Axes>"
      ]
     },
     "metadata": {
      "needs_background": "light"
     },
     "output_type": "display_data"
    }
   ],
   "source": [
    "draw_plot(x = [[i for i in range(len(history))], [(i+1)*breakpoint for i in range(len(checkpoints))]], y_list = [history, [ ckp[model.loss_fn] for ckp in checkpoints ]], x_label = 'Epochs', \\\n",
    "    y_label = model.loss_fn, legend=['train', 'test'])\n",
    "acc = [ ckp['accuracy'] for ckp in checkpoints ]\n",
    "draw_plot(x = [[(i+1)*breakpoint for i in range(len(checkpoints))]], y_list = [acc], x_label = 'Checkpoints', \\\n",
    "    y_label = 'accuracy')"
   ]
  },
  {
   "cell_type": "code",
   "execution_count": 12,
   "metadata": {},
   "outputs": [
    {
     "name": "stdout",
     "output_type": "stream",
     "text": [
      "{'accuracy': 0.9382716049382716, 'mean_square_error': 0.14600193198032757, 'categorical_crossentropy': 0.29194888362178095, 'essential_metrics': {0: {'tp_hit': 78, 'fp_hit': 10, 'tn_hit': 20, 'fn_hit': 0}, 1: {'tp_hit': 12, 'fp_hit': 0, 'tn_hit': 92, 'fn_hit': 4}, 2: {'tp_hit': 8, 'fp_hit': 0, 'tn_hit': 94, 'fn_hit': 6}}, 'checkpoint': 100} \n",
      "\n",
      "\n",
      "{'accuracy': 0.9691358024691358, 'mean_square_error': 0.10664875770946072, 'categorical_crossentropy': 0.23432272451895256, 'essential_metrics': {0: {'tp_hit': 78, 'fp_hit': 5, 'tn_hit': 25, 'fn_hit': 0}, 1: {'tp_hit': 15, 'fp_hit': 0, 'tn_hit': 92, 'fn_hit': 1}, 2: {'tp_hit': 10, 'fp_hit': 0, 'tn_hit': 94, 'fn_hit': 4}}, 'checkpoint': 200} \n",
      "\n",
      "\n",
      "{'accuracy': 0.9753086419753086, 'mean_square_error': 0.09168860955682538, 'categorical_crossentropy': 0.20894320805867514, 'essential_metrics': {0: {'tp_hit': 78, 'fp_hit': 4, 'tn_hit': 26, 'fn_hit': 0}, 1: {'tp_hit': 15, 'fp_hit': 0, 'tn_hit': 92, 'fn_hit': 1}, 2: {'tp_hit': 11, 'fp_hit': 0, 'tn_hit': 94, 'fn_hit': 3}}, 'checkpoint': 300} \n",
      "\n",
      "\n",
      "{'accuracy': 0.9753086419753086, 'mean_square_error': 0.09621429026124585, 'categorical_crossentropy': 0.22060581489845557, 'essential_metrics': {0: {'tp_hit': 78, 'fp_hit': 4, 'tn_hit': 26, 'fn_hit': 0}, 1: {'tp_hit': 15, 'fp_hit': 0, 'tn_hit': 92, 'fn_hit': 1}, 2: {'tp_hit': 11, 'fp_hit': 0, 'tn_hit': 94, 'fn_hit': 3}}, 'checkpoint': 400} \n",
      "\n",
      "\n",
      "{'accuracy': 0.9814814814814815, 'mean_square_error': 0.08897870838925294, 'categorical_crossentropy': 0.20754415017587166, 'essential_metrics': {0: {'tp_hit': 78, 'fp_hit': 3, 'tn_hit': 27, 'fn_hit': 0}, 1: {'tp_hit': 15, 'fp_hit': 0, 'tn_hit': 92, 'fn_hit': 1}, 2: {'tp_hit': 12, 'fp_hit': 0, 'tn_hit': 94, 'fn_hit': 2}}, 'checkpoint': 500} \n",
      "\n",
      "\n"
     ]
    }
   ],
   "source": [
    "for checkpoint in checkpoints:\n",
    "    print(checkpoint, '\\n\\n')"
   ]
  },
  {
   "cell_type": "code",
   "execution_count": 13,
   "metadata": {},
   "outputs": [
    {
     "name": "stdout",
     "output_type": "stream",
     "text": [
      "Layer 1\n",
      "Neuron 0: weights:\n",
      "[-0.9050569   1.8529918   1.6261216  -0.05696147 -0.11148631]\n",
      " bias: -1.5498379468917847\n",
      "\n",
      "Neuron 1: weights:\n",
      "[-0.00790376 -2.0135102  -0.02250943  0.7391463   2.0284688 ]\n",
      " bias: -1.8750377893447876\n",
      "\n",
      "Neuron 2: weights:\n",
      "[-0.33180195  0.7175683   0.71978307 -0.02362581  0.12070078]\n",
      " bias: 0.000979445525445044\n",
      "\n",
      "Neuron 3: weights:\n",
      "[ 0.14076824 -0.01319384 -0.1489565  -0.34330827 -0.180158  ]\n",
      " bias: 0.15644699335098267\n",
      "\n",
      "$\n",
      "Layer 2\n",
      "Neuron 0: weights:\n",
      "[-2.3233933  -3.          0.00963336  1.7559383 ]\n",
      " bias: 3.0\n",
      "\n",
      "Neuron 1: weights:\n",
      "[ 3.         -0.21306854  2.029453   -0.00705989]\n",
      " bias: -0.6443607807159424\n",
      "\n",
      "Neuron 2: weights:\n",
      "[-0.00914315  3.         -0.0168302  -0.05266096]\n",
      " bias: -0.06509529799222946\n",
      "\n",
      "$\n",
      "\n"
     ]
    }
   ],
   "source": [
    "print(model)"
   ]
  }
 ],
 "metadata": {
  "kernelspec": {
   "display_name": "Python 3",
   "language": "python",
   "name": "python3"
  },
  "language_info": {
   "codemirror_mode": {
    "name": "ipython",
    "version": 3
   },
   "file_extension": ".py",
   "mimetype": "text/x-python",
   "name": "python",
   "nbconvert_exporter": "python",
   "pygments_lexer": "ipython3",
   "version": "3.6.10"
  }
 },
 "nbformat": 4,
 "nbformat_minor": 2
}
