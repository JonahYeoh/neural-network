{
 "cells": [
  {
   "cell_type": "code",
   "execution_count": 1,
   "metadata": {},
   "outputs": [],
   "source": [
    "# dependency\n",
    "import numpy as np\n",
    "import pandas as pd\n",
    "import copy\n",
    "import math\n",
    "import sys\n",
    "import os\n",
    "from activations import relu, leaky_relu, sigmoid, tanh, softmax, d_sigmoid, d_relu\n",
    "from initializers import glorot_uniform, random_normal, random_uniform\n",
    "from regularizers import l1_regularizer, l2_regularizer\n",
    "from utility import trim_tail, multiply, subtract, get_nparams, one_hot_encoding, get_data\n",
    "from metrics import MSE, CCE, ACC, PRECISION, RECALL, essential_metrics, wondering_penalty, close_gap_penalty\n",
    "from pso import PSO\n",
    "from ga import GA\n",
    "from nn import Network\n",
    "from layer import DenseLayer\n",
    "from scalers import MinMaxScaler, StandardScaler"
   ]
  },
  {
   "cell_type": "code",
   "execution_count": 2,
   "metadata": {},
   "outputs": [],
   "source": [
    "# reference\n",
    "metrics_fn_dict = dict()\n",
    "metrics_fn_dict['accuracy'] = ACC\n",
    "metrics_fn_dict['categorical_crossentropy'] = CCE\n",
    "metrics_fn_dict['mean_square_error'] = MSE\n",
    "metrics_fn_dict['precision'] = PRECISION\n",
    "metrics_fn_dict['recall'] = RECALL\n",
    "metrics_fn_dict['essential_metrics'] = essential_metrics"
   ]
  },
  {
   "cell_type": "code",
   "execution_count": 3,
   "metadata": {},
   "outputs": [],
   "source": [
    "# model\n",
    "model = Network(5, lr = None)\n",
    "model.add_layer(DenseLayer(1, 4, True, afn=sigmoid, dafn=None, rfn=None))\n",
    "model.add_layer(DenseLayer(2, 3, True, afn=softmax, dafn=None, rfn=None))"
   ]
  },
  {
   "cell_type": "code",
   "execution_count": 4,
   "metadata": {},
   "outputs": [
    {
     "name": "stdout",
     "output_type": "stream",
     "text": [
      "see one see two 2 2\n"
     ]
    }
   ],
   "source": [
    "pso = PSO(dict(m = 50,\n",
    "    weight_constraint = [-3, 3], \n",
    "    velocity_constraint = [-0.1, 0.1],\n",
    "    c1 = 2,\n",
    "    c2 = 2,\n",
    "    w = 1,\n",
    "    w_decay = 1,\n",
    "    scale_hyperparameter = False,\n",
    "    regularizer = l1_regularizer,\n",
    "    mask = True))"
   ]
  },
  {
   "cell_type": "code",
   "execution_count": 5,
   "metadata": {},
   "outputs": [
    {
     "name": "stdout",
     "output_type": "stream",
     "text": [
      "building layer 1 with 5\n",
      "24\n",
      "building layer 2 with 4\n",
      "15\n"
     ]
    }
   ],
   "source": [
    "model.compile(loss_fn = 'categorical_crossentropy', optimizer = pso, \\\n",
    "    metrics = ['accuracy', 'mean_square_error', 'categorical_crossentropy'])"
   ]
  },
  {
   "cell_type": "code",
   "execution_count": 6,
   "metadata": {},
   "outputs": [
    {
     "name": "stdout",
     "output_type": "stream",
     "text": [
      "<class 'pandas.core.frame.DataFrame'>\n",
      "RangeIndex: 107 entries, 0 to 106\n",
      "Data columns (total 6 columns):\n",
      " #   Column  Non-Null Count  Dtype  \n",
      "---  ------  --------------  -----  \n",
      " 0   f1      107 non-null    float32\n",
      " 1   f2      107 non-null    float32\n",
      " 2   f3      107 non-null    float32\n",
      " 3   f4      107 non-null    float32\n",
      " 4   f5      107 non-null    float32\n",
      " 5   label   107 non-null    float32\n",
      "dtypes: float32(6)\n",
      "memory usage: 2.6 KB\n",
      "None\n",
      "<class 'pandas.core.frame.DataFrame'>\n",
      "RangeIndex: 108 entries, 0 to 107\n",
      "Data columns (total 6 columns):\n",
      " #   Column  Non-Null Count  Dtype  \n",
      "---  ------  --------------  -----  \n",
      " 0   f1      108 non-null    float32\n",
      " 1   f2      108 non-null    float32\n",
      " 2   f3      108 non-null    float32\n",
      " 3   f4      108 non-null    float32\n",
      " 4   f5      108 non-null    float32\n",
      " 5   label   108 non-null    float32\n",
      "dtypes: float32(6)\n",
      "memory usage: 2.7 KB\n",
      "None\n"
     ]
    }
   ],
   "source": [
    "# data loading\n",
    "DATA = os.path.join('c:\\\\Users\\\\tcumi\\\\github_repo\\\\neural-network\\\\', 'dataset')\n",
    "GROUP = 4\n",
    "COLUMNS = ['f1', 'f2', 'f3', 'f4', 'f5', 'label']\n",
    "N_CLASS = 3\n",
    "EPOCHS = 500\n",
    "train_dir, test_dir = \"..//dataset//training_data{}.txt\".format(GROUP), \"..//dataset//testing_data{}.txt\".format(GROUP)\n",
    "train, test = get_data(DATA, train_dir, COLUMNS), get_data(DATA, test_dir, COLUMNS)\n",
    "# shuffle\n",
    "train, test = train.sample(frac=1), test.sample(frac=1)\n",
    "x_train, y_train = train.drop('label', axis=1), train['label']\n",
    "x_test, y_test = test.drop('label', axis=1), test['label']"
   ]
  },
  {
   "cell_type": "code",
   "execution_count": 7,
   "metadata": {},
   "outputs": [],
   "source": [
    "# data scaling and encoding\n",
    "scaler = StandardScaler(['f1', 'f2', 'f3', 'f4', 'f5'])\n",
    "scaler.fit(x_train)\n",
    "x_train = scaler.transform(x_train)\n",
    "x_test = scaler.transform(x_test)\n",
    "y_train = one_hot_encoding(y_train, N_CLASS)\n",
    "y_test = one_hot_encoding(y_test, N_CLASS)"
   ]
  },
  {
   "cell_type": "code",
   "execution_count": 8,
   "metadata": {
    "tags": [
     "outputPrepend"
    ]
   },
   "outputs": [
    {
     "name": "stdout",
     "output_type": "stream",
     "text": [
      "Checkpoint 100, Accuracy: 0.9444444444444444, Loss: 0.23273563385009766\n",
      "Checkpoint 200, Accuracy: 0.9691358024691358, Loss: 0.15317438266895436\n",
      "Checkpoint 300, Accuracy: 0.9691358024691358, Loss: 0.15547720591227213\n",
      "Checkpoint 400, Accuracy: 0.9691358024691358, Loss: 0.15039021880538375\n",
      "Checkpoint 500, Accuracy: 0.9691358024691358, Loss: 0.1567636595831977\n"
     ]
    }
   ],
   "source": [
    "# learning phase\n",
    "breakpoint = 100\n",
    "checkpoints = list()\n",
    "history = list()\n",
    "for century in range(0, EPOCHS, breakpoint):\n",
    "    sub_history = model.fit(x_train, y_train, breakpoint, verbose = 0)\n",
    "    score = model.evaluate(x_test, y_test, False, verbose = 0)\n",
    "    print('Checkpoint {}, Accuracy: {}, Loss: {}'.format(century+breakpoint, score['accuracy'], score[model.loss_fn]))\n",
    "    score['checkpoint'] = century + breakpoint\n",
    "    checkpoints.append(score)\n",
    "    history.extend(sub_history)"
   ]
  },
  {
   "cell_type": "code",
   "execution_count": 9,
   "metadata": {},
   "outputs": [],
   "source": [
    "import matplotlib.pyplot as plt\n",
    "\n",
    "def draw_plot(x, y_list, x_label=None, y_label=None, legend=None, title=None):\n",
    "    fig, ax = plt.subplots(figsize=(12,5))\n",
    "    for xi, yi in zip(x, y_list):\n",
    "        ax.plot(xi, yi)\n",
    "    if x_label is not None and y_label is not None:\n",
    "        ax.set(xlabel=x_label, ylabel=y_label, title='{} VS {}'.format(x_label, y_label))\n",
    "    if legend is not None:\n",
    "        ax.legend(legend)\n",
    "    ax.grid()\n",
    "    plt.show()"
   ]
  },
  {
   "cell_type": "code",
   "execution_count": 10,
   "metadata": {},
   "outputs": [
    {
     "name": "stdout",
     "output_type": "stream",
     "text": [
      "[1. 0. 0.] <-> [0.6054484  0.38179696 0.01275463]\n",
      "[0. 1. 0.] <-> [0.41459692 0.58281463 0.00258845]\n",
      "[0. 1. 0.] <-> [5.5139981e-02 9.4442558e-01 4.3445805e-04]\n",
      "[0. 0. 1.] <-> [0.07985878 0.0060246  0.9141166 ]\n",
      "[0. 0. 1.] <-> [0.20039399 0.00924115 0.79036486]\n",
      "[0. 0. 1.] <-> [0.0694315  0.00507685 0.92549163]\n",
      "[1. 0. 0.] <-> [0.9731598  0.01429304 0.0125471 ]\n",
      "[1. 0. 0.] <-> [0.9679116  0.02915537 0.00293302]\n",
      "[1. 0. 0.] <-> [0.91606593 0.01653443 0.0673997 ]\n",
      "[1. 0. 0.] <-> [0.9574994  0.03136031 0.01114033]\n",
      "[1. 0. 0.] <-> [0.9323816  0.06190176 0.00571675]\n",
      "[1. 0. 0.] <-> [0.4037131  0.58922607 0.00706077]\n",
      "[1. 0. 0.] <-> [0.9636564  0.03210983 0.00423382]\n",
      "[1. 0. 0.] <-> [0.9353373  0.01737463 0.0472881 ]\n",
      "[1. 0. 0.] <-> [0.93732226 0.02237382 0.04030387]\n",
      "[0. 1. 0.] <-> [6.881046e-02 9.303212e-01 8.682557e-04]\n",
      "[1. 0. 0.] <-> [0.96405786 0.02948821 0.00645399]\n",
      "[1. 0. 0.] <-> [0.9216614  0.07289416 0.00544439]\n",
      "[1. 0. 0.] <-> [0.96258163 0.03275956 0.00465879]\n",
      "[1. 0. 0.] <-> [0.9532954  0.03356041 0.01314411]\n",
      "[1. 0. 0.] <-> [0.9742622  0.0187669  0.00697091]\n",
      "[0. 0. 1.] <-> [0.3609532  0.02164482 0.61740196]\n",
      "[1. 0. 0.] <-> [0.95749325 0.03899003 0.00351676]\n",
      "[0. 1. 0.] <-> [5.9992861e-02 9.3943125e-01 5.7585671e-04]\n",
      "[0. 1. 0.] <-> [5.5679079e-02 9.4387096e-01 4.4990756e-04]\n",
      "[1. 0. 0.] <-> [0.96883684 0.01576926 0.0153939 ]\n",
      "[0. 0. 1.] <-> [0.7098932  0.02271499 0.26739174]\n",
      "[1. 0. 0.] <-> [0.9701103  0.01483792 0.0150517 ]\n",
      "[0. 0. 1.] <-> [0.18622486 0.01554896 0.79822624]\n",
      "[1. 0. 0.] <-> [0.96280843 0.01570716 0.02148446]\n",
      "[0. 0. 1.] <-> [0.17555706 0.01525244 0.8091905 ]\n",
      "[0. 0. 1.] <-> [0.109686   0.00701339 0.8833006 ]\n",
      "[1. 0. 0.] <-> [0.9688785  0.02068345 0.01043796]\n",
      "[1. 0. 0.] <-> [0.9502082  0.04545818 0.00433367]\n",
      "[1. 0. 0.] <-> [0.95381516 0.01589999 0.03028486]\n",
      "[0. 1. 0.] <-> [0.41132057 0.5862911  0.00238833]\n",
      "[1. 0. 0.] <-> [0.97263664 0.01602402 0.01133933]\n",
      "[1. 0. 0.] <-> [0.96819746 0.02142638 0.01037625]\n",
      "[0. 1. 0.] <-> [5.912218e-02 9.403347e-01 5.431622e-04]\n",
      "[1. 0. 0.] <-> [0.9681125  0.02095797 0.01092947]\n",
      "[1. 0. 0.] <-> [0.86031526 0.13306397 0.00662084]\n",
      "[0. 1. 0.] <-> [6.6865720e-02 9.3231297e-01 8.2136109e-04]\n",
      "[1. 0. 0.] <-> [0.91374177 0.07525202 0.01100631]\n",
      "[0. 0. 1.] <-> [0.14917046 0.00799568 0.8428338 ]\n",
      "[1. 0. 0.] <-> [0.95438945 0.042873   0.00273759]\n",
      "[1. 0. 0.] <-> [0.9666843  0.02158722 0.01172838]\n",
      "[1. 0. 0.] <-> [0.8211447  0.01608448 0.1627708 ]\n",
      "[1. 0. 0.] <-> [0.95960414 0.01964083 0.02075499]\n",
      "[1. 0. 0.] <-> [0.88506436 0.0287125  0.08622318]\n",
      "[1. 0. 0.] <-> [0.91571945 0.07112496 0.01315563]\n",
      "[1. 0. 0.] <-> [0.9616238  0.02254773 0.01582851]\n",
      "[0. 1. 0.] <-> [0.14096108 0.8579333  0.00110564]\n",
      "[1. 0. 0.] <-> [0.9529412  0.04182079 0.005238  ]\n",
      "[1. 0. 0.] <-> [0.8308207  0.1614291  0.00775022]\n",
      "[1. 0. 0.] <-> [0.9759522  0.01454088 0.00950689]\n",
      "[0. 1. 0.] <-> [0.07739388 0.9212648  0.00134123]\n",
      "[0. 0. 1.] <-> [0.7389612  0.01565253 0.24538627]\n",
      "[1. 0. 0.] <-> [0.9734257  0.01641144 0.01016293]\n",
      "[1. 0. 0.] <-> [0.9607982  0.03560478 0.00359702]\n",
      "[1. 0. 0.] <-> [0.43265796 0.03209912 0.5352429 ]\n",
      "[1. 0. 0.] <-> [0.39975265 0.5974375  0.00280986]\n",
      "[1. 0. 0.] <-> [0.96739733 0.02511823 0.00748443]\n",
      "[1. 0. 0.] <-> [0.84275705 0.10537949 0.0518635 ]\n",
      "[1. 0. 0.] <-> [0.8737049  0.02567445 0.10062064]\n",
      "[0. 1. 0.] <-> [0.10344363 0.89413744 0.00241893]\n",
      "[1. 0. 0.] <-> [0.66040194 0.03201335 0.3075847 ]\n",
      "[1. 0. 0.] <-> [0.75258344 0.02492163 0.22249494]\n",
      "[1. 0. 0.] <-> [0.76456076 0.23219144 0.00324781]\n",
      "[1. 0. 0.] <-> [0.73495364 0.25055557 0.01449083]\n",
      "[1. 0. 0.] <-> [0.9767299  0.01528008 0.00798997]\n",
      "[1. 0. 0.] <-> [0.91002446 0.01759869 0.07237688]\n",
      "[1. 0. 0.] <-> [0.96719676 0.01698353 0.01581971]\n",
      "[1. 0. 0.] <-> [0.9400532  0.01398059 0.04596624]\n",
      "[1. 0. 0.] <-> [0.95295644 0.02092206 0.02612151]\n",
      "[1. 0. 0.] <-> [0.95427424 0.04078342 0.00494231]\n",
      "[0. 0. 1.] <-> [0.05533479 0.00428026 0.9403849 ]\n",
      "[1. 0. 0.] <-> [0.95994884 0.03241099 0.00764017]\n",
      "[0. 0. 1.] <-> [0.05125709 0.00385998 0.94488287]\n",
      "[1. 0. 0.] <-> [0.6563371  0.3265464  0.01711651]\n",
      "[1. 0. 0.] <-> [0.9013487  0.02882903 0.06982231]\n",
      "[1. 0. 0.] <-> [0.9527216  0.01313987 0.03413856]\n",
      "[1. 0. 0.] <-> [0.970226   0.02459162 0.00518233]\n",
      "[0. 0. 1.] <-> [0.06245948 0.00565976 0.9318808 ]\n",
      "[1. 0. 0.] <-> [0.9451659  0.01784012 0.03699398]\n",
      "[1. 0. 0.] <-> [0.9485716  0.0274689  0.02395946]\n",
      "[1. 0. 0.] <-> [0.92577344 0.03573547 0.03849113]\n",
      "[0. 1. 0.] <-> [0.14009766 0.8583739  0.00152849]\n",
      "[0. 0. 1.] <-> [0.3034385  0.01284363 0.6837179 ]\n",
      "[1. 0. 0.] <-> [0.974737   0.02102039 0.00424257]\n",
      "[0. 1. 0.] <-> [5.5017468e-02 9.4455022e-01 4.3224453e-04]\n",
      "[1. 0. 0.] <-> [0.9719729  0.02198149 0.00604566]\n",
      "[1. 0. 0.] <-> [0.9704194  0.02063875 0.00894178]\n",
      "[1. 0. 0.] <-> [0.95388967 0.03867879 0.00743154]\n",
      "[1. 0. 0.] <-> [0.9713704  0.02293889 0.00569068]\n",
      "[1. 0. 0.] <-> [0.96261024 0.02547089 0.01191893]\n",
      "[1. 0. 0.] <-> [0.94364196 0.01314252 0.04321556]\n",
      "[1. 0. 0.] <-> [0.97456294 0.01368662 0.01175054]\n",
      "[0. 1. 0.] <-> [1.0947456e-01 8.8977498e-01 7.5041153e-04]\n",
      "[1. 0. 0.] <-> [0.86571723 0.12568912 0.00859356]\n",
      "[1. 0. 0.] <-> [0.95538205 0.02785887 0.01675906]\n",
      "[1. 0. 0.] <-> [0.6936778  0.30070946 0.00561278]\n",
      "[1. 0. 0.] <-> [0.79073095 0.16793348 0.04133549]\n",
      "[0. 1. 0.] <-> [0.24266502 0.75554526 0.00178972]\n",
      "[1. 0. 0.] <-> [0.95525986 0.01392233 0.03081772]\n",
      "[1. 0. 0.] <-> [0.9705376  0.01657201 0.01289039]\n",
      "[1. 0. 0.] <-> [0.9458136  0.04087945 0.01330696]\n",
      "[0. 1. 0.] <-> [0.20038998 0.79459125 0.00501875]\n",
      "[1. 0. 0.] <-> [0.9034956  0.05527993 0.04122441]\n",
      "{'accuracy': 0.9691358024691358, 'mean_square_error': 0.07353392440680541, 'categorical_crossentropy': 0.1567636595831977, 'essential_metrics': {0: {'tp_hit': 75, 'fp_hit': 2, 'tn_hit': 28, 'fn_hit': 3}, 1: {'tp_hit': 16, 'fp_hit': 2, 'tn_hit': 90, 'fn_hit': 0}, 2: {'tp_hit': 12, 'fp_hit': 1, 'tn_hit': 93, 'fn_hit': 2}}}\n"
     ]
    }
   ],
   "source": [
    "# recall phase\n",
    "score = model.evaluate(x_test, y_test, False)\n",
    "print(score)"
   ]
  },
  {
   "cell_type": "code",
   "execution_count": 11,
   "metadata": {},
   "outputs": [
    {
     "data": {
      "image/png": "[encoded data removed]",
      "text/plain": [
       "<Figure size 864x360 with 1 Axes>"
      ]
     },
     "metadata": {
      "needs_background": "light"
     },
     "output_type": "display_data"
    },
    {
     "data": {
      "image/png": "[encoded data removed]",
      "text/plain": [
       "<Figure size 864x360 with 1 Axes>"
      ]
     },
     "metadata": {
      "needs_background": "light"
     },
     "output_type": "display_data"
    }
   ],
   "source": [
    "draw_plot(x = [[i for i in range(len(history))], [(i+1)*breakpoint for i in range(len(checkpoints))]], y_list = [history, [ ckp[model.loss_fn] for ckp in checkpoints ]], x_label = 'Epochs', \\\n",
    "    y_label = model.loss_fn, legend=['train', 'test'])\n",
    "acc = [ ckp['accuracy'] for ckp in checkpoints ]\n",
    "draw_plot(x = [[(i+1)*breakpoint for i in range(len(checkpoints))]], y_list = [acc], x_label = 'Checkpoints', \\\n",
    "    y_label = 'accuracy')"
   ]
  },
  {
   "cell_type": "code",
   "execution_count": 12,
   "metadata": {},
   "outputs": [
    {
     "name": "stdout",
     "output_type": "stream",
     "text": [
      "{'accuracy': 0.9444444444444444, 'mean_square_error': 0.12263113007328459, 'categorical_crossentropy': 0.23273563385009766, 'essential_metrics': {0: {'tp_hit': 76, 'fp_hit': 7, 'tn_hit': 23, 'fn_hit': 2}, 1: {'tp_hit': 13, 'fp_hit': 2, 'tn_hit': 90, 'fn_hit': 3}, 2: {'tp_hit': 10, 'fp_hit': 0, 'tn_hit': 94, 'fn_hit': 4}}, 'checkpoint': 100} \n",
      "\n",
      "\n",
      "{'accuracy': 0.9691358024691358, 'mean_square_error': 0.0738934971550398, 'categorical_crossentropy': 0.15317438266895436, 'essential_metrics': {0: {'tp_hit': 75, 'fp_hit': 2, 'tn_hit': 28, 'fn_hit': 3}, 1: {'tp_hit': 16, 'fp_hit': 2, 'tn_hit': 90, 'fn_hit': 0}, 2: {'tp_hit': 12, 'fp_hit': 1, 'tn_hit': 93, 'fn_hit': 2}}, 'checkpoint': 200} \n",
      "\n",
      "\n",
      "{'accuracy': 0.9691358024691358, 'mean_square_error': 0.07365973608101352, 'categorical_crossentropy': 0.15547720591227213, 'essential_metrics': {0: {'tp_hit': 75, 'fp_hit': 2, 'tn_hit': 28, 'fn_hit': 3}, 1: {'tp_hit': 16, 'fp_hit': 2, 'tn_hit': 90, 'fn_hit': 0}, 2: {'tp_hit': 12, 'fp_hit': 1, 'tn_hit': 93, 'fn_hit': 2}}, 'checkpoint': 300} \n",
      "\n",
      "\n",
      "{'accuracy': 0.9691358024691358, 'mean_square_error': 0.06765763930897896, 'categorical_crossentropy': 0.15039021880538375, 'essential_metrics': {0: {'tp_hit': 75, 'fp_hit': 2, 'tn_hit': 28, 'fn_hit': 3}, 1: {'tp_hit': 16, 'fp_hit': 2, 'tn_hit': 90, 'fn_hit': 0}, 2: {'tp_hit': 12, 'fp_hit': 1, 'tn_hit': 93, 'fn_hit': 2}}, 'checkpoint': 400} \n",
      "\n",
      "\n",
      "{'accuracy': 0.9691358024691358, 'mean_square_error': 0.07353392440680541, 'categorical_crossentropy': 0.1567636595831977, 'essential_metrics': {0: {'tp_hit': 75, 'fp_hit': 2, 'tn_hit': 28, 'fn_hit': 3}, 1: {'tp_hit': 16, 'fp_hit': 2, 'tn_hit': 90, 'fn_hit': 0}, 2: {'tp_hit': 12, 'fp_hit': 1, 'tn_hit': 93, 'fn_hit': 2}}, 'checkpoint': 500} \n",
      "\n",
      "\n"
     ]
    }
   ],
   "source": [
    "for checkpoint in checkpoints:\n",
    "    print(checkpoint, '\\n\\n')"
   ]
  },
  {
   "cell_type": "code",
   "execution_count": 13,
   "metadata": {},
   "outputs": [
    {
     "name": "stdout",
     "output_type": "stream",
     "text": [
      "Layer 1\n",
      "Neuron 0: weights:\n",
      "[-1.6550076e+00  2.3658960e+00  2.5574403e+00  2.1785749e-02\n",
      "  8.8287407e-04]\n",
      " bias: -1.6583435535430908\n",
      "\n",
      "Neuron 1: weights:\n",
      "[-0.00163744  1.3147635  -0.01389234 -0.09797885 -0.37181744]\n",
      " bias: 0.018475951626896858\n",
      "\n",
      "Neuron 2: weights:\n",
      "[-0.05694296  1.8807254  -0.11503034 -0.4747356  -2.1967456 ]\n",
      " bias: 1.5762898921966553\n",
      "\n",
      "Neuron 3: weights:\n",
      "[ 0.2696665  -1.2698159   0.00562546  0.11747938  0.48922917]\n",
      " bias: 0.039954397827386856\n",
      "\n",
      "$\n",
      "Layer 2\n",
      "Neuron 0: weights:\n",
      "[-3.          0.08336208  3.          0.05397699]\n",
      " bias: -0.017536083236336708\n",
      "\n",
      "Neuron 1: weights:\n",
      "[ 3.         0.7410799 -0.2270536 -2.0169315]\n",
      " bias: -0.5868306756019592\n",
      "\n",
      "Neuron 2: weights:\n",
      "[ 0.01657035 -1.8790923  -3.          3.        ]\n",
      " bias: 0.04235305264592171\n",
      "\n",
      "$\n",
      "\n"
     ]
    }
   ],
   "source": [
    "print(model)"
   ]
  }
 ],
 "metadata": {
  "kernelspec": {
   "display_name": "Python 3",
   "language": "python",
   "name": "python3"
  },
  "language_info": {
   "codemirror_mode": {
    "name": "ipython",
    "version": 3
   },
   "file_extension": ".py",
   "mimetype": "text/x-python",
   "name": "python",
   "nbconvert_exporter": "python",
   "pygments_lexer": "ipython3",
   "version": "3.6.10"
  }
 },
 "nbformat": 4,
 "nbformat_minor": 2
}
