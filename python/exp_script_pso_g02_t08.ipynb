{
 "cells": [
  {
   "cell_type": "code",
   "execution_count": 1,
   "metadata": {},
   "outputs": [],
   "source": [
    "# dependency\n",
    "import numpy as np\n",
    "import pandas as pd\n",
    "import copy\n",
    "import math\n",
    "import sys\n",
    "import os\n",
    "from activations import relu, leaky_relu, sigmoid, tanh, softmax, d_sigmoid, d_relu\n",
    "from initializers import glorot_uniform, random_normal, random_uniform\n",
    "from regularizers import l1_regularizer, l2_regularizer\n",
    "from utility import trim_tail, multiply, subtract, get_nparams, one_hot_encoding, get_data\n",
    "from metrics import MSE, CCE, ACC, PRECISION, RECALL, essential_metrics, wondering_penalty, close_gap_penalty\n",
    "from pso import PSO\n",
    "from ga import GA\n",
    "from nn import Network\n",
    "from layer import DenseLayer\n",
    "from scalers import MinMaxScaler, StandardScaler"
   ]
  },
  {
   "cell_type": "code",
   "execution_count": 2,
   "metadata": {},
   "outputs": [],
   "source": [
    "# reference\n",
    "metrics_fn_dict = dict()\n",
    "metrics_fn_dict['accuracy'] = ACC\n",
    "metrics_fn_dict['categorical_crossentropy'] = CCE\n",
    "metrics_fn_dict['mean_square_error'] = MSE\n",
    "metrics_fn_dict['precision'] = PRECISION\n",
    "metrics_fn_dict['recall'] = RECALL\n",
    "metrics_fn_dict['essential_metrics'] = essential_metrics"
   ]
  },
  {
   "cell_type": "code",
   "execution_count": 3,
   "metadata": {},
   "outputs": [],
   "source": [
    "# model\n",
    "model = Network(5, lr = None)\n",
    "model.add_layer(DenseLayer(1, 4, True, afn=sigmoid, dafn=None, rfn=None))\n",
    "model.add_layer(DenseLayer(2, 3, True, afn=softmax, dafn=None, rfn=None))"
   ]
  },
  {
   "cell_type": "code",
   "execution_count": 4,
   "metadata": {},
   "outputs": [
    {
     "name": "stdout",
     "output_type": "stream",
     "text": [
      "see one see two 2 0.5\n"
     ]
    }
   ],
   "source": [
    "pso = PSO(dict(m = 50,\n",
    "    weight_constraint = [-3, 3], \n",
    "    velocity_constraint = [-0.1, 0.1],\n",
    "    c1 = [0.5, 2],\n",
    "    c2 = [0.5, 2],\n",
    "    w = [0.5, 1.6],\n",
    "    w_decay = 0.95,\n",
    "    scale_hyperparameter = False,\n",
    "    regularizer = l2_regularizer,\n",
    "    mask = True))"
   ]
  },
  {
   "cell_type": "code",
   "execution_count": 5,
   "metadata": {},
   "outputs": [
    {
     "name": "stdout",
     "output_type": "stream",
     "text": [
      "building layer 1 with 5\n",
      "24\n",
      "building layer 2 with 4\n",
      "15\n"
     ]
    }
   ],
   "source": [
    "model.compile(loss_fn = 'categorical_crossentropy', optimizer = pso, \\\n",
    "    metrics = ['accuracy', 'mean_square_error', 'categorical_crossentropy'])"
   ]
  },
  {
   "cell_type": "code",
   "execution_count": 6,
   "metadata": {},
   "outputs": [
    {
     "name": "stdout",
     "output_type": "stream",
     "text": [
      "<class 'pandas.core.frame.DataFrame'>\n",
      "RangeIndex: 107 entries, 0 to 106\n",
      "Data columns (total 6 columns):\n",
      " #   Column  Non-Null Count  Dtype  \n",
      "---  ------  --------------  -----  \n",
      " 0   f1      107 non-null    float32\n",
      " 1   f2      107 non-null    float32\n",
      " 2   f3      107 non-null    float32\n",
      " 3   f4      107 non-null    float32\n",
      " 4   f5      107 non-null    float32\n",
      " 5   label   107 non-null    float32\n",
      "dtypes: float32(6)\n",
      "memory usage: 2.6 KB\n",
      "None\n",
      "<class 'pandas.core.frame.DataFrame'>\n",
      "RangeIndex: 108 entries, 0 to 107\n",
      "Data columns (total 6 columns):\n",
      " #   Column  Non-Null Count  Dtype  \n",
      "---  ------  --------------  -----  \n",
      " 0   f1      108 non-null    float32\n",
      " 1   f2      108 non-null    float32\n",
      " 2   f3      108 non-null    float32\n",
      " 3   f4      108 non-null    float32\n",
      " 4   f5      108 non-null    float32\n",
      " 5   label   108 non-null    float32\n",
      "dtypes: float32(6)\n",
      "memory usage: 2.7 KB\n",
      "None\n"
     ]
    }
   ],
   "source": [
    "# data loading\n",
    "DATA = os.path.join('c:\\\\Users\\\\tcumi\\\\github_repo\\\\neural-network\\\\', 'dataset')\n",
    "GROUP = 2\n",
    "COLUMNS = ['f1', 'f2', 'f3', 'f4', 'f5', 'label']\n",
    "N_CLASS = 3\n",
    "EPOCHS = 500\n",
    "train_dir, test_dir = \"..//dataset//training_data{}.txt\".format(GROUP), \"..//dataset//testing_data{}.txt\".format(GROUP)\n",
    "train, test = get_data(DATA, train_dir, COLUMNS), get_data(DATA, test_dir, COLUMNS)\n",
    "# shuffle\n",
    "train, test = train.sample(frac=1), test.sample(frac=1)\n",
    "x_train, y_train = train.drop('label', axis=1), train['label']\n",
    "x_test, y_test = test.drop('label', axis=1), test['label']"
   ]
  },
  {
   "cell_type": "code",
   "execution_count": 7,
   "metadata": {},
   "outputs": [],
   "source": [
    "# data scaling and encoding\n",
    "scaler = StandardScaler(['f1', 'f2', 'f3', 'f4', 'f5'])\n",
    "scaler.fit(x_train)\n",
    "x_train = scaler.transform(x_train)\n",
    "x_test = scaler.transform(x_test)\n",
    "y_train = one_hot_encoding(y_train, N_CLASS)\n",
    "y_test = one_hot_encoding(y_test, N_CLASS)"
   ]
  },
  {
   "cell_type": "code",
   "execution_count": 8,
   "metadata": {
    "tags": [
     "outputPrepend"
    ]
   },
   "outputs": [
    {
     "name": "stdout",
     "output_type": "stream",
     "text": [
      "Checkpoint 100, Accuracy: 0.9259259259259259, Loss: 0.38558490188033495\n",
      "Checkpoint 200, Accuracy: 0.9320987654320988, Loss: 0.3509153789944119\n",
      "Checkpoint 300, Accuracy: 0.9506172839506173, Loss: 0.3349206359298141\n",
      "Checkpoint 400, Accuracy: 0.9506172839506173, Loss: 0.3395668312355324\n",
      "Checkpoint 500, Accuracy: 0.9506172839506173, Loss: 0.3395668312355324\n"
     ]
    }
   ],
   "source": [
    "# learning phase\n",
    "breakpoint = 100\n",
    "checkpoints = list()\n",
    "history = list()\n",
    "for century in range(0, EPOCHS, breakpoint):\n",
    "    sub_history = model.fit(x_train, y_train, breakpoint, verbose = 0)\n",
    "    score = model.evaluate(x_test, y_test, False, verbose = 0)\n",
    "    print('Checkpoint {}, Accuracy: {}, Loss: {}'.format(century+breakpoint, score['accuracy'], score[model.loss_fn]))\n",
    "    score['checkpoint'] = century + breakpoint\n",
    "    checkpoints.append(score)\n",
    "    history.extend(sub_history)\n",
    "    itr = century + breakpoint\n",
    "    model.optimizer.c1 = np.max([model.optimizer.C1[1] - ((model.optimizer.C1[1] - model.optimizer.C1[0]) * itr / EPOCHS), model.optimizer.C1[0]])\n",
    "    model.optimizer.c2 = np.min([model.optimizer.C2[0] + ((model.optimizer.C2[1] - model.optimizer.C2[0]) * itr / EPOCHS), model.optimizer.C2[1]])\n",
    "    model.optimizer.w = np.max([model.optimizer.w * model.optimizer.W_Decay, model.optimizer.W[0]])"
   ]
  },
  {
   "cell_type": "code",
   "execution_count": 9,
   "metadata": {},
   "outputs": [],
   "source": [
    "import matplotlib.pyplot as plt\n",
    "\n",
    "def draw_plot(x, y_list, x_label=None, y_label=None, legend=None, title=None):\n",
    "    fig, ax = plt.subplots(figsize=(12,5))\n",
    "    for xi, yi in zip(x, y_list):\n",
    "        ax.plot(xi, yi)\n",
    "    if x_label is not None and y_label is not None:\n",
    "        ax.set(xlabel=x_label, ylabel=y_label, title='{} VS {}'.format(x_label, y_label))\n",
    "    if legend is not None:\n",
    "        ax.legend(legend)\n",
    "    ax.grid()\n",
    "    plt.show()"
   ]
  },
  {
   "cell_type": "code",
   "execution_count": 10,
   "metadata": {},
   "outputs": [
    {
     "name": "stdout",
     "output_type": "stream",
     "text": [
      "[1. 0. 0.] <-> [0.79395956 0.05396402 0.15207642]\n",
      "[0. 1. 0.] <-> [0.36001444 0.6155077  0.02447788]\n",
      "[1. 0. 0.] <-> [0.8330651  0.05182743 0.11510751]\n",
      "[1. 0. 0.] <-> [0.82845557 0.07900739 0.09253702]\n",
      "[1. 0. 0.] <-> [0.7662364  0.15298313 0.08078041]\n",
      "[1. 0. 0.] <-> [0.8252075  0.09115919 0.08363337]\n",
      "[1. 0. 0.] <-> [0.83577853 0.08578778 0.07843366]\n",
      "[1. 0. 0.] <-> [0.73111814 0.0606463  0.20823555]\n",
      "[1. 0. 0.] <-> [0.7791361  0.11070827 0.11015566]\n",
      "[1. 0. 0.] <-> [0.6032392  0.0667317  0.33002916]\n",
      "[1. 0. 0.] <-> [0.7592405  0.18476857 0.05599092]\n",
      "[1. 0. 0.] <-> [0.73076725 0.22057928 0.04865348]\n",
      "[0. 0. 1.] <-> [0.72387683 0.03997698 0.23614623]\n",
      "[1. 0. 0.] <-> [0.80785096 0.07631563 0.11583348]\n",
      "[1. 0. 0.] <-> [0.85612595 0.0618947  0.08197937]\n",
      "[1. 0. 0.] <-> [0.77692664 0.14735964 0.07571372]\n",
      "[1. 0. 0.] <-> [0.6888236 0.2670111 0.0441653]\n",
      "[1. 0. 0.] <-> [0.8266007  0.05083695 0.1225624 ]\n",
      "[1. 0. 0.] <-> [0.84775364 0.06634471 0.08590156]\n",
      "[1. 0. 0.] <-> [0.8149006  0.06310537 0.12199411]\n",
      "[1. 0. 0.] <-> [0.8047582  0.10873666 0.08650517]\n",
      "[0. 1. 0.] <-> [0.51080513 0.4572391  0.03195575]\n",
      "[0. 0. 1.] <-> [0.617697   0.05691803 0.32538494]\n",
      "[1. 0. 0.] <-> [0.8229097  0.05054597 0.12654443]\n",
      "[1. 0. 0.] <-> [0.77621096 0.06446157 0.15932748]\n",
      "[0. 0. 1.] <-> [0.39879498 0.03429852 0.5669066 ]\n",
      "[0. 0. 1.] <-> [0.42019883 0.02600429 0.5537969 ]\n",
      "[1. 0. 0.] <-> [0.82334244 0.06758162 0.10907593]\n",
      "[1. 0. 0.] <-> [0.7859825  0.132962   0.08105555]\n",
      "[1. 0. 0.] <-> [0.7926513  0.09989388 0.10745487]\n",
      "[0. 1. 0.] <-> [0.19769834 0.7894786  0.01282312]\n",
      "[1. 0. 0.] <-> [0.8175317  0.07611795 0.10635038]\n",
      "[1. 0. 0.] <-> [0.7438911  0.07473562 0.18137325]\n",
      "[1. 0. 0.] <-> [0.7215674  0.2162627  0.06216984]\n",
      "[0. 0. 1.] <-> [0.34236327 0.0299592  0.6276775 ]\n",
      "[1. 0. 0.] <-> [0.7947614  0.13867527 0.06656339]\n",
      "[1. 0. 0.] <-> [0.79956627 0.12047703 0.0799567 ]\n",
      "[1. 0. 0.] <-> [0.8236415  0.05167473 0.1246838 ]\n",
      "[0. 1. 0.] <-> [0.2471285  0.73780435 0.01506719]\n",
      "[1. 0. 0.] <-> [0.8221307  0.09093188 0.08693749]\n",
      "[1. 0. 0.] <-> [0.8423676  0.04807538 0.10955708]\n",
      "[1. 0. 0.] <-> [0.79382735 0.05852847 0.14764416]\n",
      "[1. 0. 0.] <-> [0.75403965 0.08284502 0.16311528]\n",
      "[1. 0. 0.] <-> [0.7645378  0.12780365 0.10765862]\n",
      "[0. 0. 1.] <-> [0.795666   0.03774736 0.16658658]\n",
      "[1. 0. 0.] <-> [0.78069085 0.12108812 0.09822107]\n",
      "[1. 0. 0.] <-> [0.7505701  0.12658423 0.12284564]\n",
      "[0. 1. 0.] <-> [0.641036   0.32204148 0.03692263]\n",
      "[0. 1. 0.] <-> [0.15143758 0.8392847  0.00927771]\n",
      "[1. 0. 0.] <-> [0.82164335 0.12004358 0.05831306]\n",
      "[0. 1. 0.] <-> [0.15311763 0.83731043 0.009572  ]\n",
      "[0. 1. 0.] <-> [0.38849753 0.5883342  0.0231682 ]\n",
      "[1. 0. 0.] <-> [0.7945207  0.08970528 0.11577405]\n",
      "[1. 0. 0.] <-> [0.762039   0.17462052 0.06334044]\n",
      "[1. 0. 0.] <-> [0.8132102  0.07225047 0.1145394 ]\n",
      "[1. 0. 0.] <-> [0.83947754 0.06245358 0.09806885]\n",
      "[0. 1. 0.] <-> [0.24069457 0.74315566 0.01614976]\n",
      "[1. 0. 0.] <-> [0.78302467 0.0946077  0.12236764]\n",
      "[0. 0. 1.] <-> [0.37445244 0.02353309 0.6020145 ]\n",
      "[1. 0. 0.] <-> [0.8357963  0.09267859 0.07152518]\n",
      "[1. 0. 0.] <-> [0.79812235 0.07425822 0.12761946]\n",
      "[1. 0. 0.] <-> [0.7876115  0.09238964 0.11999882]\n",
      "[0. 0. 1.] <-> [0.4351408  0.02866985 0.5361893 ]\n",
      "[1. 0. 0.] <-> [0.8344982  0.08449129 0.08101045]\n",
      "[1. 0. 0.] <-> [0.7760427  0.16862623 0.05533103]\n",
      "[0. 1. 0.] <-> [0.15373318 0.8365187  0.00974809]\n",
      "[1. 0. 0.] <-> [0.7569703  0.17941257 0.06361713]\n",
      "[1. 0. 0.] <-> [0.7791916  0.16231863 0.05848975]\n",
      "[0. 0. 1.] <-> [0.36735612 0.02932558 0.60331833]\n",
      "[1. 0. 0.] <-> [0.8203497  0.10037894 0.07927131]\n",
      "[1. 0. 0.] <-> [0.8375044  0.07684956 0.08564614]\n",
      "[1. 0. 0.] <-> [0.81810445 0.04513    0.13676555]\n",
      "[1. 0. 0.] <-> [0.817586   0.11108654 0.07132744]\n",
      "[1. 0. 0.] <-> [0.74842334 0.07975736 0.1718193 ]\n",
      "[0. 0. 1.] <-> [0.23802008 0.07088521 0.6910947 ]\n",
      "[1. 0. 0.] <-> [0.8247859  0.06047784 0.1147362 ]\n",
      "[1. 0. 0.] <-> [0.8228523  0.09270283 0.08444481]\n",
      "[0. 1. 0.] <-> [0.47922492 0.48831668 0.03245838]\n",
      "[1. 0. 0.] <-> [0.8008231  0.06540681 0.13377015]\n",
      "[0. 1. 0.] <-> [0.6397558  0.3168306  0.04341356]\n",
      "[1. 0. 0.] <-> [0.79643524 0.136573   0.06699168]\n",
      "[0. 1. 0.] <-> [0.677888   0.2799645  0.04214752]\n",
      "[1. 0. 0.] <-> [0.8074356  0.09563087 0.09693353]\n",
      "[1. 0. 0.] <-> [0.8164898  0.10505615 0.07845405]\n",
      "[1. 0. 0.] <-> [0.8355418  0.08928185 0.07517637]\n",
      "[1. 0. 0.] <-> [0.83198386 0.06423891 0.1037772 ]\n",
      "[1. 0. 0.] <-> [0.8179033  0.08871876 0.093378  ]\n",
      "[1. 0. 0.] <-> [0.77696913 0.04680768 0.17622319]\n",
      "[1. 0. 0.] <-> [0.8244068  0.05004612 0.125547  ]\n",
      "[1. 0. 0.] <-> [0.80177903 0.10385594 0.09436509]\n",
      "[0. 1. 0.] <-> [0.44946054 0.5213826  0.02915687]\n",
      "[1. 0. 0.] <-> [0.79977363 0.09472815 0.10549818]\n",
      "[1. 0. 0.] <-> [0.7259075  0.04957419 0.22451828]\n",
      "[1. 0. 0.] <-> [0.80478925 0.1333618  0.06184901]\n",
      "[1. 0. 0.] <-> [0.7943687  0.0794441  0.12618722]\n",
      "[1. 0. 0.] <-> [0.78663605 0.1505184  0.0628456 ]\n",
      "[1. 0. 0.] <-> [0.84505826 0.07284159 0.08210009]\n",
      "[1. 0. 0.] <-> [0.8094277  0.12374052 0.06683176]\n",
      "[1. 0. 0.] <-> [0.83930683 0.05120345 0.10948981]\n",
      "[0. 1. 0.] <-> [0.57877386 0.38751706 0.03370911]\n",
      "[0. 0. 1.] <-> [0.21832001 0.06758929 0.7140907 ]\n",
      "[1. 0. 0.] <-> [0.790447   0.05395263 0.15560032]\n",
      "[1. 0. 0.] <-> [0.81756234 0.11981037 0.06262726]\n",
      "[0. 0. 1.] <-> [0.426868   0.03617357 0.53695846]\n",
      "[1. 0. 0.] <-> [0.7494972  0.08112905 0.1693737 ]\n",
      "[1. 0. 0.] <-> [0.8017951  0.11194964 0.08625528]\n",
      "[1. 0. 0.] <-> [0.81555897 0.10363061 0.0808104 ]\n",
      "[0. 0. 1.] <-> [0.21259539 0.0691437  0.7182609 ]\n",
      "{'accuracy': 0.9506172839506173, 'mean_square_error': 0.16218895928704058, 'categorical_crossentropy': 0.3395668312355324, 'essential_metrics': {0: {'tp_hit': 80, 'fp_hit': 8, 'tn_hit': 20, 'fn_hit': 0}, 1: {'tp_hit': 10, 'fp_hit': 0, 'tn_hit': 93, 'fn_hit': 5}, 2: {'tp_hit': 10, 'fp_hit': 0, 'tn_hit': 95, 'fn_hit': 3}}}\n"
     ]
    }
   ],
   "source": [
    "# recall phase\n",
    "score = model.evaluate(x_test, y_test, False)\n",
    "print(score)"
   ]
  },
  {
   "cell_type": "code",
   "execution_count": 11,
   "metadata": {},
   "outputs": [
    {
     "data": {
      "image/png": "[encoded data removed]",
      "text/plain": [
       "<Figure size 864x360 with 1 Axes>"
      ]
     },
     "metadata": {
      "needs_background": "light"
     },
     "output_type": "display_data"
    },
    {
     "data": {
      "image/png": "[encoded data removed]",
      "text/plain": [
       "<Figure size 864x360 with 1 Axes>"
      ]
     },
     "metadata": {
      "needs_background": "light"
     },
     "output_type": "display_data"
    }
   ],
   "source": [
    "draw_plot(x = [[i for i in range(len(history))], [(i+1)*breakpoint for i in range(len(checkpoints))]], y_list = [history, [ ckp[model.loss_fn] for ckp in checkpoints ]], x_label = 'Epochs', \\\n",
    "    y_label = model.loss_fn, legend=['train', 'test'])\n",
    "acc = [ ckp['accuracy'] for ckp in checkpoints ]\n",
    "draw_plot(x = [[(i+1)*breakpoint for i in range(len(checkpoints))]], y_list = [acc], x_label = 'Checkpoints', \\\n",
    "    y_label = 'accuracy')"
   ]
  },
  {
   "cell_type": "code",
   "execution_count": 12,
   "metadata": {},
   "outputs": [
    {
     "name": "stdout",
     "output_type": "stream",
     "text": [
      "{'accuracy': 0.9259259259259259, 'mean_square_error': 0.19472084573377946, 'categorical_crossentropy': 0.38558490188033495, 'essential_metrics': {0: {'tp_hit': 80, 'fp_hit': 12, 'tn_hit': 16, 'fn_hit': 0}, 1: {'tp_hit': 7, 'fp_hit': 0, 'tn_hit': 93, 'fn_hit': 8}, 2: {'tp_hit': 9, 'fp_hit': 0, 'tn_hit': 95, 'fn_hit': 4}}, 'checkpoint': 100} \n",
      "\n",
      "\n",
      "{'accuracy': 0.9320987654320988, 'mean_square_error': 0.17372077408551406, 'categorical_crossentropy': 0.3509153789944119, 'essential_metrics': {0: {'tp_hit': 80, 'fp_hit': 11, 'tn_hit': 17, 'fn_hit': 0}, 1: {'tp_hit': 8, 'fp_hit': 0, 'tn_hit': 93, 'fn_hit': 7}, 2: {'tp_hit': 9, 'fp_hit': 0, 'tn_hit': 95, 'fn_hit': 4}}, 'checkpoint': 200} \n",
      "\n",
      "\n",
      "{'accuracy': 0.9506172839506173, 'mean_square_error': 0.16017565917167123, 'categorical_crossentropy': 0.3349206359298141, 'essential_metrics': {0: {'tp_hit': 80, 'fp_hit': 8, 'tn_hit': 20, 'fn_hit': 0}, 1: {'tp_hit': 10, 'fp_hit': 0, 'tn_hit': 93, 'fn_hit': 5}, 2: {'tp_hit': 10, 'fp_hit': 0, 'tn_hit': 95, 'fn_hit': 3}}, 'checkpoint': 300} \n",
      "\n",
      "\n",
      "{'accuracy': 0.9506172839506173, 'mean_square_error': 0.16218895928704058, 'categorical_crossentropy': 0.3395668312355324, 'essential_metrics': {0: {'tp_hit': 80, 'fp_hit': 8, 'tn_hit': 20, 'fn_hit': 0}, 1: {'tp_hit': 10, 'fp_hit': 0, 'tn_hit': 93, 'fn_hit': 5}, 2: {'tp_hit': 10, 'fp_hit': 0, 'tn_hit': 95, 'fn_hit': 3}}, 'checkpoint': 400} \n",
      "\n",
      "\n",
      "{'accuracy': 0.9506172839506173, 'mean_square_error': 0.16218895928704058, 'categorical_crossentropy': 0.3395668312355324, 'essential_metrics': {0: {'tp_hit': 80, 'fp_hit': 8, 'tn_hit': 20, 'fn_hit': 0}, 1: {'tp_hit': 10, 'fp_hit': 0, 'tn_hit': 93, 'fn_hit': 5}, 2: {'tp_hit': 10, 'fp_hit': 0, 'tn_hit': 95, 'fn_hit': 3}}, 'checkpoint': 500} \n",
      "\n",
      "\n"
     ]
    }
   ],
   "source": [
    "for checkpoint in checkpoints:\n",
    "    print(checkpoint, '\\n\\n')"
   ]
  },
  {
   "cell_type": "code",
   "execution_count": 13,
   "metadata": {},
   "outputs": [
    {
     "name": "stdout",
     "output_type": "stream",
     "text": [
      "Layer 1\n",
      "Neuron 0: weights:\n",
      "[-0.61360747  0.9755194   0.6711835   0.45440787  0.37843704]\n",
      " bias: -0.6641596555709839\n",
      "\n",
      "Neuron 1: weights:\n",
      "[-0.30112082  0.68590957  0.1665363  -0.8410027  -0.7898766 ]\n",
      " bias: 0.542682945728302\n",
      "\n",
      "Neuron 2: weights:\n",
      "[ 0.5351321  -1.3734401  -0.69062626 -0.04381457  0.12564085]\n",
      " bias: 0.6427273154258728\n",
      "\n",
      "Neuron 3: weights:\n",
      "[-0.3957477   0.6989089   0.20343475 -0.5562543  -0.7131361 ]\n",
      " bias: 0.501115083694458\n",
      "\n",
      "$\n",
      "Layer 2\n",
      "Neuron 0: weights:\n",
      "[-1.3759644   0.56814605  0.9628895   1.0389483 ]\n",
      " bias: -0.019233789294958115\n",
      "\n",
      "Neuron 1: weights:\n",
      "[ 1.2730951  0.588839  -1.831694   0.4133108]\n",
      " bias: -0.3015533685684204\n",
      "\n",
      "Neuron 2: weights:\n",
      "[-0.19700307 -1.4546391   1.156968   -1.1851175 ]\n",
      " bias: 0.1751519739627838\n",
      "\n",
      "$\n",
      "\n"
     ]
    }
   ],
   "source": [
    "print(model)"
   ]
  }
 ],
 "metadata": {
  "kernelspec": {
   "display_name": "Python 3",
   "language": "python",
   "name": "python3"
  },
  "language_info": {
   "codemirror_mode": {
    "name": "ipython",
    "version": 3
   },
   "file_extension": ".py",
   "mimetype": "text/x-python",
   "name": "python",
   "nbconvert_exporter": "python",
   "pygments_lexer": "ipython3",
   "version": "3.6.10"
  }
 },
 "nbformat": 4,
 "nbformat_minor": 2
}
