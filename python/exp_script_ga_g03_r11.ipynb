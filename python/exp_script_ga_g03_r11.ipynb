{
 "cells": [
  {
   "cell_type": "code",
   "execution_count": 1,
   "metadata": {},
   "outputs": [],
   "source": [
    "# single"
   ]
  },
  {
   "cell_type": "code",
   "execution_count": 2,
   "metadata": {},
   "outputs": [],
   "source": [
    "# dependency\n",
    "import numpy as np\n",
    "import pandas as pd\n",
    "import copy\n",
    "import math\n",
    "import sys\n",
    "import os\n",
    "from activations import relu, leaky_relu, sigmoid, tanh, softmax, d_sigmoid, d_relu\n",
    "from initializers import glorot_uniform, random_normal, random_uniform\n",
    "from regularizers import l1_regularizer, l2_regularizer\n",
    "from utility import trim_tail, multiply, subtract, get_nparams, one_hot_encoding, get_data\n",
    "from metrics import MSE, CCE, ACC, PRECISION, RECALL, essential_metrics, wondering_penalty, close_gap_penalty\n",
    "from pso import PSO\n",
    "from ga import GA\n",
    "from nn import Network\n",
    "from layer import DenseLayer\n",
    "from scalers import MinMaxScaler, StandardScaler"
   ]
  },
  {
   "cell_type": "code",
   "execution_count": 3,
   "metadata": {},
   "outputs": [],
   "source": [
    "# reference\n",
    "metrics_fn_dict = dict()\n",
    "metrics_fn_dict['accuracy'] = ACC\n",
    "metrics_fn_dict['categorical_crossentropy'] = CCE\n",
    "metrics_fn_dict['mean_square_error'] = MSE\n",
    "metrics_fn_dict['precision'] = PRECISION\n",
    "metrics_fn_dict['recall'] = RECALL\n",
    "metrics_fn_dict['essential_metrics'] = essential_metrics"
   ]
  },
  {
   "cell_type": "code",
   "execution_count": 4,
   "metadata": {},
   "outputs": [],
   "source": [
    "# model\n",
    "model = Network(5, lr = None)\n",
    "model.add_layer(DenseLayer(1, 4, True, afn=sigmoid, dafn=None, rfn=None))\n",
    "model.add_layer(DenseLayer(2, 3, True, afn=softmax, dafn=None, rfn=None))"
   ]
  },
  {
   "cell_type": "code",
   "execution_count": 5,
   "metadata": {},
   "outputs": [],
   "source": [
    "# optimizer\n",
    "ga = GA(\n",
    "    dict(\n",
    "        m = 50,\n",
    "        x_rate = [0.5, 1.0],\n",
    "        m_rate = [0.5, 1.0],\n",
    "        weight_constraint = [-3.,3.],\n",
    "        radioactive_rating = [0.1, 0.5],\n",
    "        grow_factor = [0.1, 0.5],\n",
    "        scale_hyperparameter = False,\n",
    "        regularizer = l2_regularizer))"
   ]
  },
  {
   "cell_type": "code",
   "execution_count": 6,
   "metadata": {},
   "outputs": [
    {
     "name": "stdout",
     "output_type": "stream",
     "text": [
      "building layer 1 with 5\n",
      "24\n",
      "building layer 2 with 4\n",
      "15\n"
     ]
    }
   ],
   "source": [
    "model.compile(loss_fn = 'categorical_crossentropy', optimizer = ga, \\\n",
    "    metrics = ['accuracy', 'mean_square_error', 'categorical_crossentropy', 'precision', 'recall', 'f1'])"
   ]
  },
  {
   "cell_type": "code",
   "execution_count": 7,
   "metadata": {},
   "outputs": [
    {
     "name": "stdout",
     "output_type": "stream",
     "text": [
      "<class 'pandas.core.frame.DataFrame'>\n",
      "RangeIndex: 107 entries, 0 to 106\n",
      "Data columns (total 6 columns):\n",
      " #   Column  Non-Null Count  Dtype  \n",
      "---  ------  --------------  -----  \n",
      " 0   f1      107 non-null    float32\n",
      " 1   f2      107 non-null    float32\n",
      " 2   f3      107 non-null    float32\n",
      " 3   f4      107 non-null    float32\n",
      " 4   f5      107 non-null    float32\n",
      " 5   label   107 non-null    float32\n",
      "dtypes: float32(6)\n",
      "memory usage: 2.6 KB\n",
      "None\n",
      "<class 'pandas.core.frame.DataFrame'>\n",
      "RangeIndex: 108 entries, 0 to 107\n",
      "Data columns (total 6 columns):\n",
      " #   Column  Non-Null Count  Dtype  \n",
      "---  ------  --------------  -----  \n",
      " 0   f1      108 non-null    float32\n",
      " 1   f2      108 non-null    float32\n",
      " 2   f3      108 non-null    float32\n",
      " 3   f4      108 non-null    float32\n",
      " 4   f5      108 non-null    float32\n",
      " 5   label   108 non-null    float32\n",
      "dtypes: float32(6)\n",
      "memory usage: 2.7 KB\n",
      "None\n"
     ]
    }
   ],
   "source": [
    "# data loading\n",
    "DATA = os.path.join('c:\\\\Users\\\\tcumi\\\\github_repo\\\\neural-network\\\\', 'dataset')\n",
    "GROUP = 3\n",
    "COLUMNS = ['f1', 'f2', 'f3', 'f4', 'f5', 'label']\n",
    "N_CLASS = 3\n",
    "EPOCHS = 500\n",
    "train_dir, test_dir = \"..//dataset//training_data{}.txt\".format(GROUP), \"..//dataset//testing_data{}.txt\".format(GROUP)\n",
    "train, test = get_data(DATA, train_dir, COLUMNS), get_data(DATA, test_dir, COLUMNS)\n",
    "# shuffle\n",
    "train, test = train.sample(frac=1), test.sample(frac=1)\n",
    "x_train, y_train = train.drop('label', axis=1), train['label']\n",
    "x_test, y_test = test.drop('label', axis=1), test['label']"
   ]
  },
  {
   "cell_type": "code",
   "execution_count": 8,
   "metadata": {},
   "outputs": [],
   "source": [
    "# data scaling and encoding\n",
    "scaler = StandardScaler(['f1', 'f2', 'f3', 'f4', 'f5'])\n",
    "scaler.fit(x_train)\n",
    "x_train = scaler.transform(x_train)\n",
    "x_test = scaler.transform(x_test)\n",
    "y_train = one_hot_encoding(y_train, N_CLASS)\n",
    "y_test = one_hot_encoding(y_test, N_CLASS)"
   ]
  },
  {
   "cell_type": "code",
   "execution_count": 9,
   "metadata": {
    "scrolled": true,
    "tags": [
     "outputPrepend"
    ]
   },
   "outputs": [
    {
     "name": "stderr",
     "output_type": "stream",
     "text": [
      "C:\\Users\\tcumi\\Anaconda3\\envs\\py_3_6\\lib\\site-packages\\numpy\\core\\fromnumeric.py:87: VisibleDeprecationWarning: Creating an ndarray from ragged nested sequences (which is a list-or-tuple of lists-or-tuples-or ndarrays with different lengths or shapes) is deprecated. If you meant to do this, you must specify 'dtype=object' when creating the ndarray\n",
      "  return ufunc.reduce(obj, axis, dtype, out, **passkwargs)\n",
      "C:\\Users\\tcumi\\github_repo\\neural-network\\python\\ga.py:201: RuntimeWarning: overflow encountered in add\n",
      "  self.population.sort(key=lambda p: p.fitness + np.random.uniform(-shift, shift, 1), reverse = self.aim)\n",
      "C:\\Users\\tcumi\\Anaconda3\\envs\\py_3_6\\lib\\site-packages\\numpy\\core\\_asarray.py:136: VisibleDeprecationWarning: Creating an ndarray from ragged nested sequences (which is a list-or-tuple of lists-or-tuples-or ndarrays with different lengths or shapes) is deprecated. If you meant to do this, you must specify 'dtype=object' when creating the ndarray\n",
      "  return array(a, dtype, copy=False, order=order, subok=True)\n"
     ]
    },
    {
     "name": "stdout",
     "output_type": "stream",
     "text": [
      "Checkpoint 100, Accuracy: 0.9197530864197531, Loss: 0.45673727106165\n",
      "Checkpoint 200, Accuracy: 0.9259259259259259, Loss: 0.39795670685944734\n",
      "Checkpoint 300, Accuracy: 0.9320987654320988, Loss: 0.3922957314385308\n",
      "Checkpoint 400, Accuracy: 0.9197530864197531, Loss: 0.3867073059082031\n",
      "Checkpoint 500, Accuracy: 0.9074074074074074, Loss: 0.3949436964812102\n"
     ]
    }
   ],
   "source": [
    "# learning phase\n",
    "breakpoint = 100\n",
    "checkpoints = list()\n",
    "history = list()\n",
    "for century in range(0, EPOCHS, breakpoint):\n",
    "    sub_history = model.fit(x_train, y_train, breakpoint, verbose = 0)\n",
    "    score = model.evaluate(x_test, y_test, False, verbose = 0)\n",
    "    print('Checkpoint {}, Accuracy: {}, Loss: {}'.format(century+breakpoint, score['accuracy'], score[model.loss_fn]))\n",
    "    score['checkpoint'] = century + breakpoint\n",
    "    checkpoints.append(score)\n",
    "    history.extend(sub_history)\n",
    "    itr = century + breakpoint\n",
    "    '''\n",
    "    model.optimizer.rr = model.optimizer.rr * 0.9\n",
    "    model.optimizer.gf = model.optimizer.gf * 0.9\n",
    "    model.optimizer.crossover_rate = model.optimizer.crossover_rate * 0.9\n",
    "    model.optimizer.mutation_rate = model.optimizer.mutation_rate * 1.1\n",
    "    '''\n",
    "    model.optimizer.rr = model.optimizer.radioactive_rating[1] - (model.optimizer.radioactive_rating[1] - model.optimizer.radioactive_rating[0]) / EPOCHS * (EPOCHS - itr)\n",
    "    model.optimizer.gf = model.optimizer.grow_factor[1] - (model.optimizer.grow_factor[1] - model.optimizer.grow_factor[0]) / EPOCHS * (EPOCHS - itr)\n",
    "    model.optimizer.crossover_rate = model.optimizer.x_rate[1] - (model.optimizer.x_rate[1] - model.optimizer.x_rate[0]) / EPOCHS * (EPOCHS - itr)\n",
    "    model.optimizer.mutation_rate = model.optimizer.m_rate[0] + (model.optimizer.m_rate[1] - model.optimizer.m_rate[0]) / EPOCHS * (EPOCHS - itr)\n",
    "    "
   ]
  },
  {
   "cell_type": "code",
   "execution_count": 10,
   "metadata": {},
   "outputs": [],
   "source": [
    "import matplotlib.pyplot as plt\n",
    "\n",
    "def draw_plot(x, y_list, x_label=None, y_label=None, legend=None, title=None):\n",
    "    fig, ax = plt.subplots(figsize=(12,5))\n",
    "    for xi, yi in zip(x, y_list):\n",
    "        ax.plot(xi, yi)\n",
    "    if x_label is not None and y_label is not None:\n",
    "        ax.set(xlabel=x_label, ylabel=y_label, title='{} VS {}'.format(x_label, y_label))\n",
    "    if legend is not None:\n",
    "        ax.legend(legend)\n",
    "    ax.grid()\n",
    "    plt.show()"
   ]
  },
  {
   "cell_type": "code",
   "execution_count": 11,
   "metadata": {},
   "outputs": [
    {
     "name": "stdout",
     "output_type": "stream",
     "text": [
      "[1. 0. 0.] <-> [0.62982583 0.32248324 0.04769099]\n",
      "[1. 0. 0.] <-> [0.75063145 0.111366   0.13800251]\n",
      "[1. 0. 0.] <-> [0.8225835  0.08458043 0.09283608]\n",
      "[1. 0. 0.] <-> [0.8497172  0.06104785 0.08923488]\n",
      "[1. 0. 0.] <-> [0.8227145  0.12486666 0.05241887]\n",
      "[1. 0. 0.] <-> [0.85142475 0.07541763 0.07315761]\n",
      "[1. 0. 0.] <-> [0.82761735 0.11068462 0.06169805]\n",
      "[1. 0. 0.] <-> [0.7783022  0.14220373 0.07949404]\n",
      "[1. 0. 0.] <-> [0.79927784 0.11769805 0.08302407]\n",
      "[0. 1. 0.] <-> [0.19639763 0.78211695 0.0214854 ]\n",
      "[1. 0. 0.] <-> [0.8573865  0.08099172 0.06162181]\n",
      "[1. 0. 0.] <-> [0.8325955  0.0967098  0.07069476]\n",
      "[1. 0. 0.] <-> [0.8635338  0.07290231 0.06356397]\n",
      "[1. 0. 0.] <-> [0.8542496  0.07228518 0.0734652 ]\n",
      "[1. 0. 0.] <-> [0.7733318  0.10864735 0.11802078]\n",
      "[1. 0. 0.] <-> [0.8647488  0.07130556 0.06394566]\n",
      "[1. 0. 0.] <-> [0.8063351  0.13675706 0.05690791]\n",
      "[1. 0. 0.] <-> [0.82868946 0.10898627 0.0623242 ]\n",
      "[0. 0. 1.] <-> [0.5592089  0.0672672  0.37352386]\n",
      "[1. 0. 0.] <-> [0.8313993  0.10294764 0.06565301]\n",
      "[0. 0. 1.] <-> [0.5347963  0.06830211 0.3969016 ]\n",
      "[1. 0. 0.] <-> [0.7972204  0.10291482 0.09986477]\n",
      "[0. 1. 0.] <-> [0.4753561  0.4919179  0.03272604]\n",
      "[0. 0. 1.] <-> [0.7331373  0.07653586 0.19032675]\n",
      "[0. 0. 1.] <-> [0.8598395  0.05202512 0.08813538]\n",
      "[0. 1. 0.] <-> [0.2150306  0.76702726 0.01794218]\n",
      "[1. 0. 0.] <-> [0.6852096  0.10361307 0.21117745]\n",
      "[0. 1. 0.] <-> [0.2705316  0.70256394 0.02690448]\n",
      "[0. 1. 0.] <-> [0.23986599 0.74465716 0.01547686]\n",
      "[1. 0. 0.] <-> [0.7708292  0.14401726 0.08515359]\n",
      "[1. 0. 0.] <-> [0.7910062  0.13695596 0.07203783]\n",
      "[1. 0. 0.] <-> [0.8268701  0.09736652 0.07576334]\n",
      "[0. 0. 1.] <-> [0.44739804 0.06591758 0.48668444]\n",
      "[1. 0. 0.] <-> [0.84457284 0.0613134  0.09411378]\n",
      "[1. 0. 0.] <-> [0.8175125  0.11770924 0.06477819]\n",
      "[1. 0. 0.] <-> [0.8494714  0.0656826  0.08484603]\n",
      "[0. 0. 1.] <-> [0.6126499  0.08786069 0.29948938]\n",
      "[1. 0. 0.] <-> [0.86323345 0.07666562 0.06010098]\n",
      "[1. 0. 0.] <-> [0.7515271  0.20437743 0.04409551]\n",
      "[1. 0. 0.] <-> [0.82414085 0.1165344  0.05932479]\n",
      "[1. 0. 0.] <-> [0.799127   0.10336063 0.09751232]\n",
      "[0. 1. 0.] <-> [0.2325631  0.7515875  0.01584941]\n",
      "[1. 0. 0.] <-> [0.8322335  0.10293323 0.06483328]\n",
      "[1. 0. 0.] <-> [0.86318636 0.06252442 0.0742893 ]\n",
      "[0. 0. 1.] <-> [0.25327635 0.09255951 0.65416414]\n",
      "[1. 0. 0.] <-> [0.7980508  0.09685647 0.10509273]\n",
      "[1. 0. 0.] <-> [0.8233368  0.11443301 0.06223021]\n",
      "[1. 0. 0.] <-> [0.8598798  0.07449849 0.06562176]\n",
      "[0. 0. 1.] <-> [0.3812815  0.06982061 0.54889786]\n",
      "[0. 0. 1.] <-> [0.70233554 0.09244247 0.20522203]\n",
      "[1. 0. 0.] <-> [0.67851466 0.26274052 0.05874479]\n",
      "[1. 0. 0.] <-> [0.7402092  0.19505699 0.06473382]\n",
      "[1. 0. 0.] <-> [0.8801592  0.05601682 0.06382404]\n",
      "[1. 0. 0.] <-> [0.79120684 0.13005325 0.07873993]\n",
      "[1. 0. 0.] <-> [0.76625764 0.16750976 0.06623252]\n",
      "[0. 0. 1.] <-> [0.7040768  0.06207918 0.23384403]\n",
      "[1. 0. 0.] <-> [0.860173   0.07722376 0.06260327]\n",
      "[1. 0. 0.] <-> [0.6681887  0.26732308 0.06448818]\n",
      "[1. 0. 0.] <-> [0.7557528  0.09390865 0.15033859]\n",
      "[0. 1. 0.] <-> [0.2259985  0.75136226 0.02263921]\n",
      "[1. 0. 0.] <-> [0.8566124  0.08707254 0.05631514]\n",
      "[1. 0. 0.] <-> [0.8597069  0.09034157 0.0499515 ]\n",
      "[1. 0. 0.] <-> [0.8543565  0.0890775  0.05656597]\n",
      "[0. 1. 0.] <-> [0.21587841 0.764643   0.01947857]\n",
      "[1. 0. 0.] <-> [0.8762691  0.0586926  0.06503826]\n",
      "[1. 0. 0.] <-> [0.7610935  0.18581417 0.05309231]\n",
      "[1. 0. 0.] <-> [0.8466165  0.10164163 0.05174193]\n",
      "[1. 0. 0.] <-> [0.8298576  0.11432766 0.05581474]\n",
      "[1. 0. 0.] <-> [0.705961   0.23498283 0.05905625]\n",
      "[0. 1. 0.] <-> [0.5517174  0.41437027 0.03391237]\n",
      "[0. 1. 0.] <-> [0.25287467 0.72151595 0.02560939]\n",
      "[1. 0. 0.] <-> [0.6471971  0.30474782 0.04805508]\n",
      "[1. 0. 0.] <-> [0.6348466  0.24957018 0.11558323]\n",
      "[1. 0. 0.] <-> [0.727128   0.20889735 0.06397459]\n",
      "[1. 0. 0.] <-> [0.81490195 0.12928201 0.05581607]\n",
      "[1. 0. 0.] <-> [0.8183388  0.11672935 0.0649319 ]\n",
      "[1. 0. 0.] <-> [0.85568583 0.08313841 0.06117578]\n",
      "[1. 0. 0.] <-> [0.84840983 0.10625955 0.04533065]\n",
      "[0. 1. 0.] <-> [0.6158668  0.34713015 0.03700307]\n",
      "[1. 0. 0.] <-> [0.78937995 0.15110995 0.05951013]\n",
      "[1. 0. 0.] <-> [0.7523724  0.17475185 0.0728758 ]\n",
      "[1. 0. 0.] <-> [0.8666948  0.05643648 0.07686872]\n",
      "[1. 0. 0.] <-> [0.76775163 0.17250293 0.05974535]\n",
      "[1. 0. 0.] <-> [0.82465285 0.09939642 0.07595076]\n",
      "[1. 0. 0.] <-> [0.8141915  0.1290446  0.05676386]\n",
      "[1. 0. 0.] <-> [0.8356965  0.0878007  0.07650277]\n",
      "[1. 0. 0.] <-> [0.70015764 0.2465266  0.05331575]\n",
      "[1. 0. 0.] <-> [0.8101734  0.11291465 0.07691205]\n",
      "[1. 0. 0.] <-> [0.8803219  0.06631662 0.0533614 ]\n",
      "[0. 1. 0.] <-> [0.6778781  0.28383282 0.03828906]\n",
      "[0. 0. 1.] <-> [0.25328782 0.06712005 0.67959213]\n",
      "[1. 0. 0.] <-> [0.8322273  0.11301243 0.05476032]\n",
      "[1. 0. 0.] <-> [0.79880625 0.13847508 0.0627187 ]\n",
      "[0. 1. 0.] <-> [0.5740145  0.39475527 0.03123024]\n",
      "[0. 0. 1.] <-> [0.27889818 0.06188027 0.6592216 ]\n",
      "[1. 0. 0.] <-> [0.8183578  0.0898843  0.09175788]\n",
      "[0. 1. 0.] <-> [0.6059008  0.34198135 0.0521178 ]\n",
      "[0. 1. 0.] <-> [0.5211235  0.4287495  0.05012697]\n",
      "[1. 0. 0.] <-> [0.7850851  0.1467375  0.06817744]\n",
      "[1. 0. 0.] <-> [0.82146984 0.10580595 0.07272418]\n",
      "[1. 0. 0.] <-> [0.73705214 0.18118197 0.0817658 ]\n",
      "[0. 0. 1.] <-> [0.8169832  0.0762274  0.10678937]\n",
      "[1. 0. 0.] <-> [0.8454565  0.09506787 0.05947573]\n",
      "[1. 0. 0.] <-> [0.8769789  0.05767623 0.06534495]\n",
      "[1. 0. 0.] <-> [0.8645088  0.06281873 0.07267257]\n",
      "[1. 0. 0.] <-> [0.8638892  0.07529369 0.06081706]\n",
      "[0. 0. 1.] <-> [0.509081   0.06782822 0.42309073]\n",
      "[0. 1. 0.] <-> [0.38893533 0.57330835 0.03775632]\n",
      "{'accuracy': 0.9074074074074074, 'mean_square_error': 0.20475435929580907, 'categorical_crossentropy': 0.3949436964812102, 'precision': 0.8611111111111112, 'recall': 0.8611111111111112, 'f1': 0.8611111111111112, 'essential_metrics': {0: {'tp_hit': 78, 'fp_hit': 15, 'tn_hit': 15, 'fn_hit': 0}, 1: {'tp_hit': 10, 'fp_hit': 0, 'tn_hit': 92, 'fn_hit': 6}, 2: {'tp_hit': 5, 'fp_hit': 0, 'tn_hit': 94, 'fn_hit': 9}}}\n"
     ]
    }
   ],
   "source": [
    "# recall phase\n",
    "score = model.evaluate(x_test, y_test, False)\n",
    "print(score)"
   ]
  },
  {
   "cell_type": "code",
   "execution_count": 12,
   "metadata": {},
   "outputs": [],
   "source": [
    "# Testing Performance"
   ]
  },
  {
   "cell_type": "code",
   "execution_count": 13,
   "metadata": {},
   "outputs": [
    {
     "name": "stderr",
     "output_type": "stream",
     "text": [
      "C:\\Users\\tcumi\\Anaconda3\\envs\\py_3_6\\lib\\site-packages\\numpy\\core\\_asarray.py:136: VisibleDeprecationWarning: Creating an ndarray from ragged nested sequences (which is a list-or-tuple of lists-or-tuples-or ndarrays with different lengths or shapes) is deprecated. If you meant to do this, you must specify 'dtype=object' when creating the ndarray\n",
      "  return array(a, dtype, copy=False, order=order, subok=True)\n"
     ]
    },
    {
     "data": {
      "image/png": "[encoded data removed]",
      "text/plain": [
       "<Figure size 864x360 with 1 Axes>"
      ]
     },
     "metadata": {
      "needs_background": "light"
     },
     "output_type": "display_data"
    },
    {
     "data": {
      "image/png": "[encoded data removed]",
      "text/plain": [
       "<Figure size 864x360 with 1 Axes>"
      ]
     },
     "metadata": {
      "needs_background": "light"
     },
     "output_type": "display_data"
    }
   ],
   "source": [
    "draw_plot(x = [[i for i in range(len(history))], [(i+1)*breakpoint for i in range(len(checkpoints))]], y_list = [history, [ ckp[model.loss_fn] for ckp in checkpoints ]], x_label = 'Epochs', \\\n",
    "    y_label = model.loss_fn, legend=['train', 'test'])\n",
    "acc = [ ckp['accuracy'] for ckp in checkpoints ]\n",
    "draw_plot(x = [[(i+1)*breakpoint for i in range(len(checkpoints))]], y_list = [acc], x_label = 'Checkpoints', \\\n",
    "    y_label = 'accuracy')"
   ]
  },
  {
   "cell_type": "code",
   "execution_count": 14,
   "metadata": {
    "scrolled": false
   },
   "outputs": [
    {
     "name": "stdout",
     "output_type": "stream",
     "text": [
      "{'accuracy': 0.9197530864197531, 'mean_square_error': 0.2396613518834018, 'categorical_crossentropy': 0.45673727106165, 'precision': 0.8796296296296297, 'recall': 0.8796296296296297, 'f1': 0.8796296296296297, 'essential_metrics': {0: {'tp_hit': 78, 'fp_hit': 13, 'tn_hit': 17, 'fn_hit': 0}, 1: {'tp_hit': 9, 'fp_hit': 0, 'tn_hit': 92, 'fn_hit': 7}, 2: {'tp_hit': 8, 'fp_hit': 0, 'tn_hit': 94, 'fn_hit': 6}}, 'checkpoint': 100} \n",
      "\n",
      "\n",
      "{'accuracy': 0.9259259259259259, 'mean_square_error': 0.20635560616511192, 'categorical_crossentropy': 0.39795670685944734, 'precision': 0.8888888888888888, 'recall': 0.8888888888888888, 'f1': 0.8888888888888888, 'essential_metrics': {0: {'tp_hit': 78, 'fp_hit': 12, 'tn_hit': 18, 'fn_hit': 0}, 1: {'tp_hit': 10, 'fp_hit': 0, 'tn_hit': 92, 'fn_hit': 6}, 2: {'tp_hit': 8, 'fp_hit': 0, 'tn_hit': 94, 'fn_hit': 6}}, 'checkpoint': 200} \n",
      "\n",
      "\n",
      "{'accuracy': 0.9320987654320988, 'mean_square_error': 0.1981459796353625, 'categorical_crossentropy': 0.3922957314385308, 'precision': 0.8981481481481481, 'recall': 0.8981481481481481, 'f1': 0.8981481481481481, 'essential_metrics': {0: {'tp_hit': 78, 'fp_hit': 11, 'tn_hit': 19, 'fn_hit': 0}, 1: {'tp_hit': 11, 'fp_hit': 0, 'tn_hit': 92, 'fn_hit': 5}, 2: {'tp_hit': 8, 'fp_hit': 0, 'tn_hit': 94, 'fn_hit': 6}}, 'checkpoint': 300} \n",
      "\n",
      "\n",
      "{'accuracy': 0.9197530864197531, 'mean_square_error': 0.19539365518922003, 'categorical_crossentropy': 0.3867073059082031, 'precision': 0.8796296296296297, 'recall': 0.8796296296296297, 'f1': 0.8796296296296297, 'essential_metrics': {0: {'tp_hit': 78, 'fp_hit': 13, 'tn_hit': 17, 'fn_hit': 0}, 1: {'tp_hit': 9, 'fp_hit': 0, 'tn_hit': 92, 'fn_hit': 7}, 2: {'tp_hit': 8, 'fp_hit': 0, 'tn_hit': 94, 'fn_hit': 6}}, 'checkpoint': 400} \n",
      "\n",
      "\n",
      "{'accuracy': 0.9074074074074074, 'mean_square_error': 0.20475435929580907, 'categorical_crossentropy': 0.3949436964812102, 'precision': 0.8611111111111112, 'recall': 0.8611111111111112, 'f1': 0.8611111111111112, 'essential_metrics': {0: {'tp_hit': 78, 'fp_hit': 15, 'tn_hit': 15, 'fn_hit': 0}, 1: {'tp_hit': 10, 'fp_hit': 0, 'tn_hit': 92, 'fn_hit': 6}, 2: {'tp_hit': 5, 'fp_hit': 0, 'tn_hit': 94, 'fn_hit': 9}}, 'checkpoint': 500} \n",
      "\n",
      "\n"
     ]
    }
   ],
   "source": [
    "for checkpoint in checkpoints:\n",
    "    print(checkpoint, '\\n\\n')"
   ]
  },
  {
   "cell_type": "code",
   "execution_count": 15,
   "metadata": {},
   "outputs": [
    {
     "name": "stdout",
     "output_type": "stream",
     "text": [
      "Layer 1\n",
      "Neuron 0: weights:\n",
      "[-0.67818177  1.1250616   0.99779415  0.1987859   0.01519247]\n",
      " bias: -0.74943608045578\n",
      "\n",
      "Neuron 1: weights:\n",
      "[-0.19074306  0.6927846  -0.23248106 -0.780979   -0.86978227]\n",
      " bias: 0.7445566058158875\n",
      "\n",
      "Neuron 2: weights:\n",
      "[-0.5460698   0.926538    0.9635092   0.33303523 -0.16087936]\n",
      " bias: -0.7735916972160339\n",
      "\n",
      "Neuron 3: weights:\n",
      "[-0.11949934  0.40298206 -0.3290036  -0.78802365 -0.61584055]\n",
      " bias: 0.4426719844341278\n",
      "\n",
      "$\n",
      "Layer 2\n",
      "Neuron 0: weights:\n",
      "[-1.0650942  1.3047962 -0.8392485  1.3555975]\n",
      " bias: 0.26866552233695984\n",
      "\n",
      "Neuron 1: weights:\n",
      "[1.6036555  0.13307942 1.3428105  0.2348976 ]\n",
      " bias: -1.284296989440918\n",
      "\n",
      "Neuron 2: weights:\n",
      "[-0.3438372  -1.5920093  -0.45610207 -0.89234626]\n",
      " bias: 1.2635067701339722\n",
      "\n",
      "$\n",
      "\n"
     ]
    }
   ],
   "source": [
    "print(model)"
   ]
  }
 ],
 "metadata": {
  "kernelspec": {
   "display_name": "Python 3",
   "language": "python",
   "name": "python3"
  },
  "language_info": {
   "codemirror_mode": {
    "name": "ipython",
    "version": 3
   },
   "file_extension": ".py",
   "mimetype": "text/x-python",
   "name": "python",
   "nbconvert_exporter": "python",
   "pygments_lexer": "ipython3",
   "version": "3.6.10"
  }
 },
 "nbformat": 4,
 "nbformat_minor": 2
}
