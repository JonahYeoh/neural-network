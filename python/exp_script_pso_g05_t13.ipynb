{
 "cells": [
  {
   "cell_type": "code",
   "execution_count": 1,
   "metadata": {},
   "outputs": [],
   "source": [
    "# dependency\n",
    "import numpy as np\n",
    "import pandas as pd\n",
    "import copy\n",
    "import math\n",
    "import sys\n",
    "import os\n",
    "from activations import relu, leaky_relu, sigmoid, tanh, softmax, d_sigmoid, d_relu\n",
    "from initializers import glorot_uniform, random_normal, random_uniform\n",
    "from regularizers import l1_regularizer, l2_regularizer\n",
    "from utility import trim_tail, multiply, subtract, get_nparams, one_hot_encoding, get_data\n",
    "from metrics import MSE, CCE, ACC, PRECISION, RECALL, essential_metrics, wondering_penalty, close_gap_penalty\n",
    "from pso import PSO\n",
    "from ga import GA\n",
    "from nn import Network\n",
    "from layer import DenseLayer\n",
    "from scalers import MinMaxScaler, StandardScaler"
   ]
  },
  {
   "cell_type": "code",
   "execution_count": 2,
   "metadata": {},
   "outputs": [],
   "source": [
    "# reference\n",
    "metrics_fn_dict = dict()\n",
    "metrics_fn_dict['accuracy'] = ACC\n",
    "metrics_fn_dict['categorical_crossentropy'] = CCE\n",
    "metrics_fn_dict['mean_square_error'] = MSE\n",
    "metrics_fn_dict['precision'] = PRECISION\n",
    "metrics_fn_dict['recall'] = RECALL\n",
    "metrics_fn_dict['essential_metrics'] = essential_metrics"
   ]
  },
  {
   "cell_type": "code",
   "execution_count": 3,
   "metadata": {},
   "outputs": [],
   "source": [
    "# model\n",
    "model = Network(5, lr = None)\n",
    "model.add_layer(DenseLayer(1, 4, True, afn=sigmoid, dafn=None, rfn=None))\n",
    "model.add_layer(DenseLayer(2, 3, True, afn=softmax, dafn=None, rfn=None))"
   ]
  },
  {
   "cell_type": "code",
   "execution_count": 4,
   "metadata": {},
   "outputs": [
    {
     "name": "stdout",
     "output_type": "stream",
     "text": [
      "see one see two 2 2\n"
     ]
    }
   ],
   "source": [
    "pso = PSO(dict(m = 50,\n",
    "    weight_constraint = [-3, 3], \n",
    "    velocity_constraint = [-0.1, 0.1],\n",
    "    c1 = 2,\n",
    "    c2 = 2,\n",
    "    w = 1.2,\n",
    "    w_decay = 1,\n",
    "    scale_hyperparameter = False,\n",
    "    regularizer = None,\n",
    "    mask = True))"
   ]
  },
  {
   "cell_type": "code",
   "execution_count": 5,
   "metadata": {},
   "outputs": [
    {
     "name": "stdout",
     "output_type": "stream",
     "text": [
      "building layer 1 with 5\n",
      "24\n",
      "building layer 2 with 4\n",
      "15\n"
     ]
    }
   ],
   "source": [
    "model.compile(loss_fn = 'categorical_crossentropy', optimizer = pso, \\\n",
    "    metrics = ['accuracy', 'mean_square_error', 'categorical_crossentropy'])"
   ]
  },
  {
   "cell_type": "code",
   "execution_count": 6,
   "metadata": {},
   "outputs": [
    {
     "name": "stdout",
     "output_type": "stream",
     "text": [
      "<class 'pandas.core.frame.DataFrame'>\n",
      "RangeIndex: 107 entries, 0 to 106\n",
      "Data columns (total 6 columns):\n",
      " #   Column  Non-Null Count  Dtype  \n",
      "---  ------  --------------  -----  \n",
      " 0   f1      107 non-null    float32\n",
      " 1   f2      107 non-null    float32\n",
      " 2   f3      107 non-null    float32\n",
      " 3   f4      107 non-null    float32\n",
      " 4   f5      107 non-null    float32\n",
      " 5   label   107 non-null    float32\n",
      "dtypes: float32(6)\n",
      "memory usage: 2.6 KB\n",
      "None\n",
      "<class 'pandas.core.frame.DataFrame'>\n",
      "RangeIndex: 108 entries, 0 to 107\n",
      "Data columns (total 6 columns):\n",
      " #   Column  Non-Null Count  Dtype  \n",
      "---  ------  --------------  -----  \n",
      " 0   f1      108 non-null    float32\n",
      " 1   f2      108 non-null    float32\n",
      " 2   f3      108 non-null    float32\n",
      " 3   f4      108 non-null    float32\n",
      " 4   f5      108 non-null    float32\n",
      " 5   label   108 non-null    float32\n",
      "dtypes: float32(6)\n",
      "memory usage: 2.7 KB\n",
      "None\n"
     ]
    }
   ],
   "source": [
    "# data loading\n",
    "DATA = os.path.join('c:\\\\Users\\\\tcumi\\\\github_repo\\\\neural-network\\\\', 'dataset')\n",
    "GROUP = 5\n",
    "COLUMNS = ['f1', 'f2', 'f3', 'f4', 'f5', 'label']\n",
    "N_CLASS = 3\n",
    "EPOCHS = 500\n",
    "train_dir, test_dir = \"..//dataset//training_data{}.txt\".format(GROUP), \"..//dataset//testing_data{}.txt\".format(GROUP)\n",
    "train, test = get_data(DATA, train_dir, COLUMNS), get_data(DATA, test_dir, COLUMNS)\n",
    "# shuffle\n",
    "train, test = train.sample(frac=1), test.sample(frac=1)\n",
    "x_train, y_train = train.drop('label', axis=1), train['label']\n",
    "x_test, y_test = test.drop('label', axis=1), test['label']"
   ]
  },
  {
   "cell_type": "code",
   "execution_count": 7,
   "metadata": {},
   "outputs": [],
   "source": [
    "# data scaling and encoding\n",
    "scaler = StandardScaler(['f1', 'f2', 'f3', 'f4', 'f5'])\n",
    "scaler.fit(x_train)\n",
    "x_train = scaler.transform(x_train)\n",
    "x_test = scaler.transform(x_test)\n",
    "y_train = one_hot_encoding(y_train, N_CLASS)\n",
    "y_test = one_hot_encoding(y_test, N_CLASS)"
   ]
  },
  {
   "cell_type": "code",
   "execution_count": 8,
   "metadata": {
    "tags": [
     "outputPrepend"
    ]
   },
   "outputs": [
    {
     "name": "stdout",
     "output_type": "stream",
     "text": [
      "Checkpoint 100, Accuracy: 0.9320987654320988, Loss: 0.23913196281150537\n",
      "Checkpoint 200, Accuracy: 0.9629629629629629, Loss: 0.1084467746593334\n",
      "Checkpoint 300, Accuracy: 0.9629629629629629, Loss: 0.11502010733992965\n",
      "Checkpoint 400, Accuracy: 0.9629629629629629, Loss: 0.10971998285364222\n",
      "Checkpoint 500, Accuracy: 0.9629629629629629, Loss: 0.11107261092574508\n"
     ]
    }
   ],
   "source": [
    "# learning phase\n",
    "breakpoint = 100\n",
    "checkpoints = list()\n",
    "history = list()\n",
    "for century in range(0, EPOCHS, breakpoint):\n",
    "    sub_history = model.fit(x_train, y_train, breakpoint, verbose = 0)\n",
    "    score = model.evaluate(x_test, y_test, False, verbose = 0)\n",
    "    print('Checkpoint {}, Accuracy: {}, Loss: {}'.format(century+breakpoint, score['accuracy'], score[model.loss_fn]))\n",
    "    score['checkpoint'] = century + breakpoint\n",
    "    checkpoints.append(score)\n",
    "    history.extend(sub_history)"
   ]
  },
  {
   "cell_type": "code",
   "execution_count": 9,
   "metadata": {},
   "outputs": [],
   "source": [
    "import matplotlib.pyplot as plt\n",
    "\n",
    "def draw_plot(x, y_list, x_label=None, y_label=None, legend=None, title=None):\n",
    "    fig, ax = plt.subplots(figsize=(12,5))\n",
    "    for xi, yi in zip(x, y_list):\n",
    "        ax.plot(xi, yi)\n",
    "    if x_label is not None and y_label is not None:\n",
    "        ax.set(xlabel=x_label, ylabel=y_label, title='{} VS {}'.format(x_label, y_label))\n",
    "    if legend is not None:\n",
    "        ax.legend(legend)\n",
    "    ax.grid()\n",
    "    plt.show()"
   ]
  },
  {
   "cell_type": "code",
   "execution_count": 10,
   "metadata": {},
   "outputs": [
    {
     "name": "stdout",
     "output_type": "stream",
     "text": [
      "[0. 1. 0.] <-> [6.6387914e-03 9.9332905e-01 3.2174667e-05]\n",
      "[0. 1. 0.] <-> [6.6387537e-03 9.9332905e-01 3.2174510e-05]\n",
      "[1. 0. 0.] <-> [0.99745065 0.00120719 0.00134219]\n",
      "[1. 0. 0.] <-> [9.9806625e-01 1.2633853e-03 6.7031122e-04]\n",
      "[1. 0. 0.] <-> [0.99779725 0.00102626 0.00117655]\n",
      "[1. 0. 0.] <-> [9.9557221e-01 9.6073747e-04 3.4670546e-03]\n",
      "[1. 0. 0.] <-> [0.99253744 0.00111334 0.0063492 ]\n",
      "[1. 0. 0.] <-> [0.9835376  0.00101488 0.0154475 ]\n",
      "[1. 0. 0.] <-> [9.9813747e-01 1.0753957e-03 7.8710873e-04]\n",
      "[1. 0. 0.] <-> [9.9751079e-01 1.8065384e-03 6.8272359e-04]\n",
      "[0. 0. 1.] <-> [1.0960135e-02 2.4595911e-05 9.8901528e-01]\n",
      "[1. 0. 0.] <-> [9.9571025e-01 3.5047797e-03 7.8498432e-04]\n",
      "[1. 0. 0.] <-> [0.48235652 0.0008974  0.5167461 ]\n",
      "[0. 1. 0.] <-> [0.6820459  0.3168073  0.00114683]\n",
      "[0. 0. 1.] <-> [1.1468552e-02 2.2783555e-05 9.8850864e-01]\n",
      "[1. 0. 0.] <-> [9.938836e-01 5.400521e-03 7.158783e-04]\n",
      "[1. 0. 0.] <-> [0.9927407  0.00104259 0.00621674]\n",
      "[1. 0. 0.] <-> [0.97312546 0.00106369 0.02581094]\n",
      "[1. 0. 0.] <-> [0.996496   0.0022992  0.00120482]\n",
      "[0. 1. 0.] <-> [6.9513232e-03 9.9301517e-01 3.3460303e-05]\n",
      "[0. 1. 0.] <-> [2.7617082e-02 9.7227919e-01 1.0373533e-04]\n",
      "[1. 0. 0.] <-> [0.9895223  0.00104983 0.00942787]\n",
      "[1. 0. 0.] <-> [9.9812216e-01 1.1138920e-03 7.6393591e-04]\n",
      "[1. 0. 0.] <-> [0.99789125 0.00107581 0.00103293]\n",
      "[1. 0. 0.] <-> [0.9461178  0.00103879 0.05284341]\n",
      "[1. 0. 0.] <-> [9.9769223e-01 1.6230777e-03 6.8473496e-04]\n",
      "[1. 0. 0.] <-> [9.9781007e-01 1.5580816e-03 6.3185795e-04]\n",
      "[1. 0. 0.] <-> [9.9769574e-01 1.5671956e-03 7.3709642e-04]\n",
      "[0. 0. 1.] <-> [1.1456319e-02 2.2751072e-05 9.8852086e-01]\n",
      "[0. 0. 1.] <-> [8.7595768e-03 3.7528218e-05 9.9120295e-01]\n",
      "[1. 0. 0.] <-> [9.9480212e-01 4.4604857e-03 7.3737756e-04]\n",
      "[1. 0. 0.] <-> [0.8186042  0.0010461  0.18034971]\n",
      "[1. 0. 0.] <-> [9.9809724e-01 1.2480707e-03 6.5459777e-04]\n",
      "[1. 0. 0.] <-> [0.97198975 0.02697863 0.00103164]\n",
      "[1. 0. 0.] <-> [0.99495125 0.00109897 0.00394974]\n",
      "[1. 0. 0.] <-> [9.9771923e-01 1.4286727e-03 8.5206801e-04]\n",
      "[0. 0. 1.] <-> [1.1588768e-02 2.3014256e-05 9.8838824e-01]\n",
      "[0. 0. 1.] <-> [1.1515433e-02 2.2862241e-05 9.8846173e-01]\n",
      "[1. 0. 0.] <-> [0.9807277  0.0010964  0.01817589]\n",
      "[0. 1. 0.] <-> [9.1707505e-02 9.0799528e-01 2.9723335e-04]\n",
      "[0. 0. 1.] <-> [0.8837073  0.00126292 0.11502985]\n",
      "[1. 0. 0.] <-> [9.9818218e-01 1.0208077e-03 7.9705857e-04]\n",
      "[0. 1. 0.] <-> [0.59910583 0.3998006  0.00109358]\n",
      "[0. 0. 1.] <-> [1.1485810e-02 2.2804352e-05 9.8849142e-01]\n",
      "[0. 1. 0.] <-> [6.8107387e-03 9.9315637e-01 3.2865239e-05]\n",
      "[1. 0. 0.] <-> [9.8383743e-01 1.5265491e-02 8.9712301e-04]\n",
      "[1. 0. 0.] <-> [0.9951292  0.00111492 0.00375596]\n",
      "[1. 0. 0.] <-> [0.99775106 0.0010062  0.00124275]\n",
      "[1. 0. 0.] <-> [0.9978064  0.00109309 0.00110054]\n",
      "[1. 0. 0.] <-> [0.9970431  0.00106653 0.00189045]\n",
      "[1. 0. 0.] <-> [9.9738353e-01 1.9093194e-03 7.0704072e-04]\n",
      "[0. 0. 1.] <-> [1.1453253e-02 2.2751774e-05 9.8852402e-01]\n",
      "[1. 0. 0.] <-> [9.9706739e-01 2.2382308e-03 6.9436489e-04]\n",
      "[1. 0. 0.] <-> [0.9816528  0.00106304 0.01728418]\n",
      "[0. 1. 0.] <-> [1.4104839e-02 9.8583555e-01 5.9576792e-05]\n",
      "[1. 0. 0.] <-> [9.9785429e-01 1.5043287e-03 6.4138946e-04]\n",
      "[0. 1. 0.] <-> [2.3507266e-01 7.6431346e-01 6.1385060e-04]\n",
      "[1. 0. 0.] <-> [9.9811351e-01 1.0400818e-03 8.4647449e-04]\n",
      "[0. 1. 0.] <-> [6.6447943e-03 9.9332303e-01 3.2199241e-05]\n",
      "[1. 0. 0.] <-> [0.9872171  0.00122603 0.01155688]\n",
      "[1. 0. 0.] <-> [0.75807804 0.00099003 0.24093196]\n",
      "[1. 0. 0.] <-> [9.9814308e-01 1.1234245e-03 7.3340989e-04]\n",
      "[1. 0. 0.] <-> [9.9799830e-01 1.2848098e-03 7.1688450e-04]\n",
      "[1. 0. 0.] <-> [9.9811870e-01 1.0836547e-03 7.9766719e-04]\n",
      "[1. 0. 0.] <-> [9.9803334e-01 1.2167953e-03 7.4984098e-04]\n",
      "[1. 0. 0.] <-> [9.9790776e-01 1.1425710e-03 9.4969757e-04]\n",
      "[1. 0. 0.] <-> [9.9738818e-01 9.6759223e-04 1.6442840e-03]\n",
      "[1. 0. 0.] <-> [0.9935354  0.00117097 0.00529359]\n",
      "[0. 1. 0.] <-> [0.9484451  0.05036102 0.00119382]\n",
      "[1. 0. 0.] <-> [0.9978948  0.00105955 0.00104559]\n",
      "[0. 0. 1.] <-> [0.79499096 0.00126181 0.20374721]\n",
      "[1. 0. 0.] <-> [9.9815011e-01 1.0427703e-03 8.0708513e-04]\n",
      "[1. 0. 0.] <-> [9.9809581e-01 1.1587293e-03 7.4536545e-04]\n",
      "[1. 0. 0.] <-> [9.9822706e-01 1.1329595e-03 6.3999795e-04]\n",
      "[0. 1. 0.] <-> [6.6388291e-03 9.9332893e-01 3.2174816e-05]\n",
      "[1. 0. 0.] <-> [9.9625224e-01 3.0676178e-03 6.8018073e-04]\n",
      "[1. 0. 0.] <-> [0.9977823  0.00104015 0.0011775 ]\n",
      "[1. 0. 0.] <-> [0.99721754 0.00132616 0.00145627]\n",
      "[1. 0. 0.] <-> [9.9781466e-01 1.5445194e-03 6.4073276e-04]\n",
      "[1. 0. 0.] <-> [9.9810034e-01 1.2279729e-03 6.7161350e-04]\n",
      "[1. 0. 0.] <-> [0.9889733  0.00102676 0.00999997]\n",
      "[0. 0. 1.] <-> [1.1465233e-02 2.2768862e-05 9.8851204e-01]\n",
      "[0. 0. 1.] <-> [1.1451310e-02 2.2758719e-05 9.8852587e-01]\n",
      "[0. 1. 0.] <-> [6.6391374e-03 9.9332869e-01 3.2176158e-05]\n",
      "[1. 0. 0.] <-> [0.9977095  0.00099892 0.00129156]\n",
      "[1. 0. 0.] <-> [9.9655944e-01 9.8711043e-04 2.4534701e-03]\n",
      "[1. 0. 0.] <-> [9.9786538e-01 1.4252311e-03 7.0943707e-04]\n",
      "[1. 0. 0.] <-> [9.9794716e-01 1.2572176e-03 7.9558836e-04]\n",
      "[1. 0. 0.] <-> [9.9793744e-01 1.2315573e-03 8.3107414e-04]\n",
      "[1. 0. 0.] <-> [9.9788874e-01 1.4590567e-03 6.5226277e-04]\n",
      "[1. 0. 0.] <-> [0.62790024 0.00087537 0.37122434]\n",
      "[1. 0. 0.] <-> [0.97282314 0.00108289 0.02609394]\n",
      "[0. 1. 0.] <-> [6.6387411e-03 9.9332905e-01 3.2174448e-05]\n",
      "[1. 0. 0.] <-> [0.99763834 0.00104887 0.00131287]\n",
      "[0. 0. 1.] <-> [1.1488376e-02 2.2815191e-05 9.8848885e-01]\n",
      "[1. 0. 0.] <-> [9.9807596e-01 1.1921779e-03 7.3186262e-04]\n",
      "[1. 0. 0.] <-> [0.9617443  0.00115651 0.03709927]\n",
      "[1. 0. 0.] <-> [9.9821883e-01 1.0700937e-03 7.1097579e-04]\n",
      "[1. 0. 0.] <-> [9.9436581e-01 9.8909193e-04 4.6451273e-03]\n",
      "[0. 0. 1.] <-> [1.1445826e-02 2.2791794e-05 9.8853135e-01]\n",
      "[1. 0. 0.] <-> [9.9799562e-01 1.1137846e-03 8.9066918e-04]\n",
      "[0. 0. 1.] <-> [1.8426192e-01 3.6308193e-04 8.1537497e-01]\n",
      "[0. 1. 0.] <-> [6.6388045e-03 9.9332905e-01 3.2174758e-05]\n",
      "[1. 0. 0.] <-> [9.9800354e-01 1.2421781e-03 7.5423077e-04]\n",
      "[1. 0. 0.] <-> [0.9974885  0.0010078  0.00150378]\n",
      "[1. 0. 0.] <-> [0.9959623  0.00108033 0.00295738]\n",
      "[1. 0. 0.] <-> [9.9711192e-01 9.7642402e-04 1.9116086e-03]\n",
      "[0. 1. 0.] <-> [2.2306935e-01 7.7637976e-01 5.5087754e-04]\n",
      "{'accuracy': 0.9629629629629629, 'mean_square_error': 0.07031545609025264, 'categorical_crossentropy': 0.11107261092574508, 'essential_metrics': {0: {'tp_hit': 75, 'fp_hit': 5, 'tn_hit': 27, 'fn_hit': 1}, 1: {'tp_hit': 14, 'fp_hit': 0, 'tn_hit': 91, 'fn_hit': 3}, 2: {'tp_hit': 13, 'fp_hit': 1, 'tn_hit': 92, 'fn_hit': 2}}}\n"
     ]
    }
   ],
   "source": [
    "# recall phase\n",
    "score = model.evaluate(x_test, y_test, False)\n",
    "print(score)"
   ]
  },
  {
   "cell_type": "code",
   "execution_count": 11,
   "metadata": {},
   "outputs": [
    {
     "data": {
      "image/png": "[encoded data removed]",
      "text/plain": [
       "<Figure size 864x360 with 1 Axes>"
      ]
     },
     "metadata": {
      "needs_background": "light"
     },
     "output_type": "display_data"
    },
    {
     "data": {
      "image/png": "[encoded data removed]",
      "text/plain": [
       "<Figure size 864x360 with 1 Axes>"
      ]
     },
     "metadata": {
      "needs_background": "light"
     },
     "output_type": "display_data"
    }
   ],
   "source": [
    "draw_plot(x = [[i for i in range(len(history))], [(i+1)*breakpoint for i in range(len(checkpoints))]], y_list = [history, [ ckp[model.loss_fn] for ckp in checkpoints ]], x_label = 'Epochs', \\\n",
    "    y_label = model.loss_fn, legend=['train', 'test'])\n",
    "acc = [ ckp['accuracy'] for ckp in checkpoints ]\n",
    "draw_plot(x = [[(i+1)*breakpoint for i in range(len(checkpoints))]], y_list = [acc], x_label = 'Checkpoints', \\\n",
    "    y_label = 'accuracy')"
   ]
  },
  {
   "cell_type": "code",
   "execution_count": 12,
   "metadata": {},
   "outputs": [
    {
     "name": "stdout",
     "output_type": "stream",
     "text": [
      "{'accuracy': 0.9320987654320988, 'mean_square_error': 0.1270753650093393, 'categorical_crossentropy': 0.23913196281150537, 'essential_metrics': {0: {'tp_hit': 74, 'fp_hit': 9, 'tn_hit': 23, 'fn_hit': 2}, 1: {'tp_hit': 11, 'fp_hit': 0, 'tn_hit': 91, 'fn_hit': 6}, 2: {'tp_hit': 12, 'fp_hit': 2, 'tn_hit': 91, 'fn_hit': 3}}, 'checkpoint': 100} \n",
      "\n",
      "\n",
      "{'accuracy': 0.9629629629629629, 'mean_square_error': 0.06977490567485588, 'categorical_crossentropy': 0.1084467746593334, 'essential_metrics': {0: {'tp_hit': 74, 'fp_hit': 4, 'tn_hit': 28, 'fn_hit': 2}, 1: {'tp_hit': 15, 'fp_hit': 0, 'tn_hit': 91, 'fn_hit': 2}, 2: {'tp_hit': 13, 'fp_hit': 2, 'tn_hit': 91, 'fn_hit': 2}}, 'checkpoint': 200} \n",
      "\n",
      "\n",
      "{'accuracy': 0.9629629629629629, 'mean_square_error': 0.07179547009382141, 'categorical_crossentropy': 0.11502010733992965, 'essential_metrics': {0: {'tp_hit': 75, 'fp_hit': 5, 'tn_hit': 27, 'fn_hit': 1}, 1: {'tp_hit': 14, 'fp_hit': 0, 'tn_hit': 91, 'fn_hit': 3}, 2: {'tp_hit': 13, 'fp_hit': 1, 'tn_hit': 92, 'fn_hit': 2}}, 'checkpoint': 300} \n",
      "\n",
      "\n",
      "{'accuracy': 0.9629629629629629, 'mean_square_error': 0.06938544503934271, 'categorical_crossentropy': 0.10971998285364222, 'essential_metrics': {0: {'tp_hit': 75, 'fp_hit': 5, 'tn_hit': 27, 'fn_hit': 1}, 1: {'tp_hit': 14, 'fp_hit': 0, 'tn_hit': 91, 'fn_hit': 3}, 2: {'tp_hit': 13, 'fp_hit': 1, 'tn_hit': 92, 'fn_hit': 2}}, 'checkpoint': 400} \n",
      "\n",
      "\n",
      "{'accuracy': 0.9629629629629629, 'mean_square_error': 0.07031545609025264, 'categorical_crossentropy': 0.11107261092574508, 'essential_metrics': {0: {'tp_hit': 75, 'fp_hit': 5, 'tn_hit': 27, 'fn_hit': 1}, 1: {'tp_hit': 14, 'fp_hit': 0, 'tn_hit': 91, 'fn_hit': 3}, 2: {'tp_hit': 13, 'fp_hit': 1, 'tn_hit': 92, 'fn_hit': 2}}, 'checkpoint': 500} \n",
      "\n",
      "\n"
     ]
    }
   ],
   "source": [
    "for checkpoint in checkpoints:\n",
    "    print(checkpoint, '\\n\\n')"
   ]
  },
  {
   "cell_type": "code",
   "execution_count": 13,
   "metadata": {},
   "outputs": [
    {
     "name": "stdout",
     "output_type": "stream",
     "text": [
      "Layer 1\n",
      "Neuron 0: weights:\n",
      "[ 0.5905601 -3.        -1.4421443  3.         3.       ]\n",
      " bias: -3.0\n",
      "\n",
      "Neuron 1: weights:\n",
      "[-1.517412    3.          1.3795143  -3.         -0.43357742]\n",
      " bias: 3.0\n",
      "\n",
      "Neuron 2: weights:\n",
      "[-1.954207   3.         2.4562848  2.9851167 -1.7563909]\n",
      " bias: -3.0\n",
      "\n",
      "Neuron 3: weights:\n",
      "[ 1.9441931 -3.        -2.1381004 -1.7310073  0.9727569]\n",
      " bias: 3.0\n",
      "\n",
      "$\n",
      "Layer 2\n",
      "Neuron 0: weights:\n",
      "[-3.  3. -3.  3.]\n",
      " bias: 3.0\n",
      "\n",
      "Neuron 1: weights:\n",
      "[-2.22983  3.       3.      -3.     ]\n",
      " bias: 2.0081400871276855\n",
      "\n",
      "Neuron 2: weights:\n",
      "[ 3.        -3.        -0.7873981  3.       ]\n",
      " bias: 1.4578932523727417\n",
      "\n",
      "$\n",
      "\n"
     ]
    }
   ],
   "source": [
    "print(model)"
   ]
  }
 ],
 "metadata": {
  "kernelspec": {
   "display_name": "Python 3",
   "language": "python",
   "name": "python3"
  },
  "language_info": {
   "codemirror_mode": {
    "name": "ipython",
    "version": 3
   },
   "file_extension": ".py",
   "mimetype": "text/x-python",
   "name": "python",
   "nbconvert_exporter": "python",
   "pygments_lexer": "ipython3",
   "version": "3.6.10"
  }
 },
 "nbformat": 4,
 "nbformat_minor": 2
}
