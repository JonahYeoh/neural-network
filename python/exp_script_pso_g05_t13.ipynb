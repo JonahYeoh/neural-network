{
 "cells": [
  {
   "cell_type": "code",
   "execution_count": 1,
   "metadata": {},
   "outputs": [],
   "source": [
    "# dependency\n",
    "import numpy as np\n",
    "import pandas as pd\n",
    "import copy\n",
    "import math\n",
    "import sys\n",
    "import os\n",
    "from activations import relu, leaky_relu, sigmoid, tanh, softmax, d_sigmoid, d_relu\n",
    "from initializers import glorot_uniform, random_normal, random_uniform\n",
    "from regularizers import l1_regularizer, l2_regularizer\n",
    "from utility import trim_tail, multiply, subtract, get_nparams, one_hot_encoding, get_data\n",
    "from metrics import MSE, CCE, ACC, PRECISION, RECALL, essential_metrics, wondering_penalty, close_gap_penalty\n",
    "from pso import PSO\n",
    "from ga import GA\n",
    "from nn import Network\n",
    "from layer import DenseLayer\n",
    "from scalers import MinMaxScaler, StandardScaler"
   ]
  },
  {
   "cell_type": "code",
   "execution_count": 2,
   "metadata": {},
   "outputs": [],
   "source": [
    "# reference\n",
    "metrics_fn_dict = dict()\n",
    "metrics_fn_dict['accuracy'] = ACC\n",
    "metrics_fn_dict['categorical_crossentropy'] = CCE\n",
    "metrics_fn_dict['mean_square_error'] = MSE\n",
    "metrics_fn_dict['precision'] = PRECISION\n",
    "metrics_fn_dict['recall'] = RECALL\n",
    "metrics_fn_dict['essential_metrics'] = essential_metrics"
   ]
  },
  {
   "cell_type": "code",
   "execution_count": 3,
   "metadata": {},
   "outputs": [],
   "source": [
    "# model\n",
    "model = Network(5, lr = None)\n",
    "model.add_layer(DenseLayer(1, 4, True, afn=sigmoid, dafn=None, rfn=None))\n",
    "model.add_layer(DenseLayer(2, 3, True, afn=softmax, dafn=None, rfn=None))"
   ]
  },
  {
   "cell_type": "code",
   "execution_count": 4,
   "metadata": {},
   "outputs": [
    {
     "name": "stdout",
     "output_type": "stream",
     "text": [
      "see one see two 2 2\n"
     ]
    }
   ],
   "source": [
    "pso = PSO(dict(m = 100,\n",
    "    weight_constraint = [-3, 3], \n",
    "    velocity_constraint = [-0.1, 0.1],\n",
    "    c1 = 2,\n",
    "    c2 = 2,\n",
    "    w = 1.2,\n",
    "    w_decay = 1,\n",
    "    scale_hyperparameter = False,\n",
    "    regularizer = None,\n",
    "    mask = True))"
   ]
  },
  {
   "cell_type": "code",
   "execution_count": 5,
   "metadata": {},
   "outputs": [
    {
     "name": "stdout",
     "output_type": "stream",
     "text": [
      "building layer 1 with 5\n",
      "24\n",
      "building layer 2 with 4\n",
      "15\n"
     ]
    }
   ],
   "source": [
    "model.compile(loss_fn = 'categorical_crossentropy', optimizer = pso, \\\n",
    "    metrics = ['accuracy', 'mean_square_error', 'categorical_crossentropy'])"
   ]
  },
  {
   "cell_type": "code",
   "execution_count": 6,
   "metadata": {},
   "outputs": [
    {
     "name": "stdout",
     "output_type": "stream",
     "text": [
      "<class 'pandas.core.frame.DataFrame'>\n",
      "RangeIndex: 107 entries, 0 to 106\n",
      "Data columns (total 6 columns):\n",
      " #   Column  Non-Null Count  Dtype  \n",
      "---  ------  --------------  -----  \n",
      " 0   f1      107 non-null    float32\n",
      " 1   f2      107 non-null    float32\n",
      " 2   f3      107 non-null    float32\n",
      " 3   f4      107 non-null    float32\n",
      " 4   f5      107 non-null    float32\n",
      " 5   label   107 non-null    float32\n",
      "dtypes: float32(6)\n",
      "memory usage: 2.6 KB\n",
      "None\n",
      "<class 'pandas.core.frame.DataFrame'>\n",
      "RangeIndex: 108 entries, 0 to 107\n",
      "Data columns (total 6 columns):\n",
      " #   Column  Non-Null Count  Dtype  \n",
      "---  ------  --------------  -----  \n",
      " 0   f1      108 non-null    float32\n",
      " 1   f2      108 non-null    float32\n",
      " 2   f3      108 non-null    float32\n",
      " 3   f4      108 non-null    float32\n",
      " 4   f5      108 non-null    float32\n",
      " 5   label   108 non-null    float32\n",
      "dtypes: float32(6)\n",
      "memory usage: 2.7 KB\n",
      "None\n"
     ]
    }
   ],
   "source": [
    "# data loading\n",
    "DATA = os.path.join('c:\\\\Users\\\\AI-lab\\\\github_repo\\\\neural-network\\\\', 'dataset')\n",
    "GROUP = 5\n",
    "COLUMNS = ['f1', 'f2', 'f3', 'f4', 'f5', 'label']\n",
    "N_CLASS = 3\n",
    "EPOCHS = 200\n",
    "train_dir, test_dir = \"..//dataset//training_data{}.txt\".format(GROUP), \"..//dataset//testing_data{}.txt\".format(GROUP)\n",
    "train, test = get_data(DATA, train_dir, COLUMNS), get_data(DATA, test_dir, COLUMNS)\n",
    "# shuffle\n",
    "train, test = train.sample(frac=1), test.sample(frac=1)\n",
    "x_train, y_train = train.drop('label', axis=1), train['label']\n",
    "x_test, y_test = test.drop('label', axis=1), test['label']"
   ]
  },
  {
   "cell_type": "code",
   "execution_count": 7,
   "metadata": {},
   "outputs": [],
   "source": [
    "# data scaling and encoding\n",
    "scaler = StandardScaler(['f1', 'f2', 'f3', 'f4', 'f5'])\n",
    "scaler.fit(x_train)\n",
    "x_train = scaler.transform(x_train)\n",
    "x_test = scaler.transform(x_test)\n",
    "y_train = one_hot_encoding(y_train, N_CLASS)\n",
    "y_test = one_hot_encoding(y_test, N_CLASS)"
   ]
  },
  {
   "cell_type": "code",
   "execution_count": 8,
   "metadata": {
    "tags": [
     "outputPrepend"
    ]
   },
   "outputs": [
    {
     "name": "stdout",
     "output_type": "stream",
     "text": [
      "Checkpoint 10, Accuracy: 0.8518518518518519, Loss: 0.5905197638052481\n",
      "Checkpoint 20, Accuracy: 0.8765432098765432, Loss: 0.5546488232082791\n",
      "Checkpoint 30, Accuracy: 0.8703703703703703, Loss: 0.5747186872694228\n",
      "Checkpoint 40, Accuracy: 0.8580246913580247, Loss: 0.5493252012464735\n",
      "Checkpoint 50, Accuracy: 0.8641975308641975, Loss: 0.5084222511008933\n",
      "Checkpoint 60, Accuracy: 0.9012345679012346, Loss: 0.49910153283013237\n",
      "Checkpoint 70, Accuracy: 0.8888888888888888, Loss: 0.4681776188038014\n",
      "Checkpoint 80, Accuracy: 0.9074074074074074, Loss: 0.42040326860215926\n",
      "Checkpoint 90, Accuracy: 0.9135802469135802, Loss: 0.39586250870316114\n",
      "Checkpoint 100, Accuracy: 0.9382716049382716, Loss: 0.29689001154016564\n",
      "Checkpoint 110, Accuracy: 0.9506172839506173, Loss: 0.24768350742481374\n",
      "Checkpoint 120, Accuracy: 0.9506172839506173, Loss: 0.22583749559190539\n",
      "Checkpoint 130, Accuracy: 0.9506172839506173, Loss: 0.20111287081683124\n",
      "Checkpoint 140, Accuracy: 0.9567901234567902, Loss: 0.17495955361260307\n",
      "Checkpoint 150, Accuracy: 0.9691358024691358, Loss: 0.15538524698328088\n",
      "Checkpoint 160, Accuracy: 0.9629629629629629, Loss: 0.1340023499948007\n",
      "Checkpoint 170, Accuracy: 0.9691358024691358, Loss: 0.10596422795896177\n",
      "Checkpoint 180, Accuracy: 0.9691358024691358, Loss: 0.09282587192676685\n",
      "Checkpoint 190, Accuracy: 0.9753086419753086, Loss: 0.1051902417783384\n",
      "Checkpoint 200, Accuracy: 0.9691358024691358, Loss: 0.1119839350382487\n"
     ]
    }
   ],
   "source": [
    "# learning phase\n",
    "breakpoint = 10\n",
    "checkpoints = list()\n",
    "history = list()\n",
    "for century in range(0, EPOCHS, breakpoint):\n",
    "    sub_history = model.fit(x_train, y_train, breakpoint, verbose = 0)\n",
    "    score = model.evaluate(x_test, y_test, False, verbose = 0)\n",
    "    print('Checkpoint {}, Accuracy: {}, Loss: {}'.format(century+breakpoint, score['accuracy'], score[model.loss_fn]))\n",
    "    score['checkpoint'] = century + breakpoint\n",
    "    checkpoints.append(score)\n",
    "    history.extend(sub_history)"
   ]
  },
  {
   "cell_type": "code",
   "execution_count": 9,
   "metadata": {},
   "outputs": [],
   "source": [
    "import matplotlib.pyplot as plt\n",
    "\n",
    "def draw_plot(x, y_list, x_label=None, y_label=None, legend=None, title=None):\n",
    "    fig, ax = plt.subplots(figsize=(12,5))\n",
    "    for xi, yi in zip(x, y_list):\n",
    "        ax.plot(xi, yi)\n",
    "    if x_label is not None and y_label is not None:\n",
    "        ax.set(xlabel=x_label, ylabel=y_label, title='{} VS {}'.format(x_label, y_label))\n",
    "    if legend is not None:\n",
    "        ax.legend(legend)\n",
    "    ax.grid()\n",
    "    plt.show()"
   ]
  },
  {
   "cell_type": "code",
   "execution_count": 10,
   "metadata": {},
   "outputs": [
    {
     "name": "stdout",
     "output_type": "stream",
     "text": [
      "[1. 0. 0.] <-> [9.9657214e-01 9.4524841e-04 2.4826177e-03]\n",
      "[1. 0. 0.] <-> [0.9829533  0.00185583 0.01519079]\n",
      "[1. 0. 0.] <-> [0.99719465 0.00106388 0.00174145]\n",
      "[0. 1. 0.] <-> [0.48259512 0.51279795 0.00460699]\n",
      "[0. 0. 1.] <-> [0.01254547 0.00194625 0.98550826]\n",
      "[1. 0. 0.] <-> [0.17311062 0.00675558 0.8201338 ]\n",
      "[1. 0. 0.] <-> [0.9959758  0.00129462 0.00272958]\n",
      "[1. 0. 0.] <-> [9.9690717e-01 8.2710484e-04 2.2656817e-03]\n",
      "[1. 0. 0.] <-> [0.9970974  0.00101905 0.00188359]\n",
      "[1. 0. 0.] <-> [0.9968426  0.00134446 0.00181293]\n",
      "[1. 0. 0.] <-> [0.9914658  0.00133872 0.00719539]\n",
      "[0. 1. 0.] <-> [0.27156284 0.72373414 0.00470294]\n",
      "[1. 0. 0.] <-> [0.9954491  0.00266992 0.00188095]\n",
      "[1. 0. 0.] <-> [0.99228233 0.00129328 0.00642443]\n",
      "[1. 0. 0.] <-> [0.9632086  0.00279701 0.03399435]\n",
      "[1. 0. 0.] <-> [0.99539256 0.00276681 0.00184064]\n",
      "[0. 0. 1.] <-> [0.01304725 0.00198024 0.98497254]\n",
      "[0. 1. 0.] <-> [1.3921993e-02 9.8517436e-01 9.0361445e-04]\n",
      "[1. 0. 0.] <-> [0.96649665 0.00285721 0.03064615]\n",
      "[0. 0. 1.] <-> [0.01268633 0.00195672 0.985357  ]\n",
      "[1. 0. 0.] <-> [0.9968657  0.00104742 0.00208693]\n",
      "[1. 0. 0.] <-> [9.9638653e-01 9.7035192e-04 2.6431228e-03]\n",
      "[1. 0. 0.] <-> [9.9538606e-01 9.9174178e-04 3.6221631e-03]\n",
      "[1. 0. 0.] <-> [0.9973131  0.00100872 0.00167807]\n",
      "[0. 0. 1.] <-> [0.06964993 0.00433428 0.92601585]\n",
      "[1. 0. 0.] <-> [9.9547356e-01 9.6240704e-04 3.5639980e-03]\n",
      "[1. 0. 0.] <-> [0.9905725  0.0014999  0.00792755]\n",
      "[1. 0. 0.] <-> [9.9685812e-01 9.0149103e-04 2.2403994e-03]\n",
      "[1. 0. 0.] <-> [0.9637534  0.00244379 0.03380278]\n",
      "[1. 0. 0.] <-> [0.9970028  0.00106085 0.00193628]\n",
      "[1. 0. 0.] <-> [9.9601150e-01 9.6648064e-04 3.0220342e-03]\n",
      "[1. 0. 0.] <-> [0.99618953 0.00206906 0.00174147]\n",
      "[1. 0. 0.] <-> [0.9602441  0.00285017 0.03690569]\n",
      "[0. 0. 1.] <-> [0.01251618 0.0019439  0.9855399 ]\n",
      "[1. 0. 0.] <-> [0.7978139  0.00581883 0.19636722]\n",
      "[1. 0. 0.] <-> [0.89933574 0.00406587 0.09659839]\n",
      "[1. 0. 0.] <-> [0.9613893  0.03559195 0.00301879]\n",
      "[0. 0. 1.] <-> [0.01252097 0.00194434 0.98553467]\n",
      "[0. 0. 1.] <-> [0.01252021 0.00194421 0.9855356 ]\n",
      "[1. 0. 0.] <-> [0.9774615  0.00203885 0.02049961]\n",
      "[1. 0. 0.] <-> [0.9972107  0.00108946 0.00169977]\n",
      "[1. 0. 0.] <-> [9.9710280e-01 9.6083904e-04 1.9363511e-03]\n",
      "[0. 1. 0.] <-> [1.5145007e-02 9.8391736e-01 9.3768508e-04]\n",
      "[1. 0. 0.] <-> [9.9713933e-01 9.7678695e-04 1.8839836e-03]\n",
      "[1. 0. 0.] <-> [0.9891045  0.00150148 0.00939405]\n",
      "[1. 0. 0.] <-> [9.9709272e-01 9.8329724e-04 1.9238627e-03]\n",
      "[0. 0. 1.] <-> [0.01251412 0.00194483 0.98554105]\n",
      "[0. 1. 0.] <-> [0.42452222 0.5704603  0.0050175 ]\n",
      "[0. 0. 1.] <-> [0.7607323  0.00669008 0.23257759]\n",
      "[0. 0. 1.] <-> [0.01333161 0.00202653 0.98464185]\n",
      "[1. 0. 0.] <-> [9.9744165e-01 8.3747687e-04 1.7209124e-03]\n",
      "[1. 0. 0.] <-> [0.9969138  0.0011015  0.00198463]\n",
      "[1. 0. 0.] <-> [0.99264234 0.00114862 0.00620906]\n",
      "[0. 1. 0.] <-> [0.8674775  0.12419695 0.00832558]\n",
      "[1. 0. 0.] <-> [0.9843232  0.01288458 0.00279224]\n",
      "[1. 0. 0.] <-> [9.970208e-01 8.481289e-04 2.131028e-03]\n",
      "[1. 0. 0.] <-> [0.99713826 0.00114748 0.0017143 ]\n",
      "[1. 0. 0.] <-> [0.9964709  0.00178782 0.0017413 ]\n",
      "[1. 0. 0.] <-> [0.996418   0.00177486 0.00180719]\n",
      "[1. 0. 0.] <-> [0.99685353 0.00101203 0.00213454]\n",
      "[1. 0. 0.] <-> [9.973404e-01 8.360261e-04 1.823564e-03]\n",
      "[1. 0. 0.] <-> [9.9718326e-01 8.5786695e-04 1.9587877e-03]\n",
      "[1. 0. 0.] <-> [0.4222106  0.00807416 0.56971526]\n",
      "[1. 0. 0.] <-> [0.8659461  0.00468557 0.12936834]\n",
      "[0. 1. 0.] <-> [0.07737222 0.91991687 0.00271083]\n",
      "[0. 1. 0.] <-> [1.3920992e-02 9.8517543e-01 9.0358785e-04]\n",
      "[1. 0. 0.] <-> [0.9520636  0.00288995 0.04504646]\n",
      "[1. 0. 0.] <-> [0.9970613  0.00124284 0.00169584]\n",
      "[0. 1. 0.] <-> [0.0555424  0.9426542  0.00180334]\n",
      "[1. 0. 0.] <-> [0.9951538  0.00259697 0.00224922]\n",
      "[1. 0. 0.] <-> [9.9647743e-01 9.4602839e-04 2.5765046e-03]\n",
      "[0. 1. 0.] <-> [0.17469223 0.8218485  0.00345915]\n",
      "[0. 0. 1.] <-> [0.01251557 0.00194384 0.98554057]\n",
      "[0. 0. 1.] <-> [0.01339789 0.00200442 0.9845977 ]\n",
      "[1. 0. 0.] <-> [9.9677640e-01 8.3596626e-04 2.3877160e-03]\n",
      "[0. 0. 1.] <-> [0.8518671  0.00541192 0.14272094]\n",
      "[1. 0. 0.] <-> [0.64079285 0.00687795 0.35232922]\n",
      "[1. 0. 0.] <-> [9.9561298e-01 9.8436803e-04 3.4026473e-03]\n",
      "[1. 0. 0.] <-> [0.9928926  0.00505034 0.00205702]\n",
      "[1. 0. 0.] <-> [0.9944607  0.00102832 0.004511  ]\n",
      "[1. 0. 0.] <-> [0.97219604 0.00217151 0.02563241]\n",
      "[1. 0. 0.] <-> [0.9964143  0.00104659 0.00253903]\n",
      "[0. 0. 1.] <-> [0.01251759 0.00194401 0.98553836]\n",
      "[0. 1. 0.] <-> [0.03049028 0.96824306 0.00126668]\n",
      "[1. 0. 0.] <-> [0.93942904 0.00343589 0.05713503]\n",
      "[0. 1. 0.] <-> [1.39215095e-02 9.85174954e-01 9.03602049e-04]\n",
      "[1. 0. 0.] <-> [0.97962826 0.00216001 0.01821174]\n",
      "[0. 1. 0.] <-> [1.39214825e-02 9.85174954e-01 9.03609791e-04]\n",
      "[1. 0. 0.] <-> [0.9942767  0.00107754 0.00464583]\n",
      "[1. 0. 0.] <-> [9.9736065e-01 9.1080926e-04 1.7285269e-03]\n",
      "[1. 0. 0.] <-> [9.9638891e-01 8.6255104e-04 2.7485858e-03]\n",
      "[0. 1. 0.] <-> [1.3920624e-02 9.8517573e-01 9.0357865e-04]\n",
      "[1. 0. 0.] <-> [9.9562836e-01 9.9318870e-04 3.3784986e-03]\n",
      "[1. 0. 0.] <-> [0.9969752  0.00128575 0.00173908]\n",
      "[1. 0. 0.] <-> [0.96889603 0.02726928 0.00383466]\n",
      "[1. 0. 0.] <-> [0.99394727 0.00106486 0.00498782]\n",
      "[1. 0. 0.] <-> [0.9844844  0.00184019 0.01367547]\n",
      "[1. 0. 0.] <-> [9.972458e-01 9.678102e-04 1.786453e-03]\n",
      "[1. 0. 0.] <-> [0.9917317  0.00123549 0.00703294]\n",
      "[1. 0. 0.] <-> [9.9689806e-01 9.6043240e-04 2.1415392e-03]\n",
      "[0. 1. 0.] <-> [1.392649e-02 9.851698e-01 9.037387e-04]\n",
      "[1. 0. 0.] <-> [0.9646801  0.0025315  0.03278846]\n",
      "[0. 1. 0.] <-> [1.3972436e-02 9.8512262e-01 9.0496318e-04]\n",
      "[0. 0. 1.] <-> [0.0128054  0.00196591 0.9852288 ]\n",
      "[1. 0. 0.] <-> [0.9897956  0.00788639 0.00231793]\n",
      "[0. 1. 0.] <-> [1.46762505e-02 9.84398365e-01 9.25280154e-04]\n",
      "[1. 0. 0.] <-> [0.99610054 0.00184514 0.00205428]\n",
      "[1. 0. 0.] <-> [0.9701148  0.00246876 0.02741649]\n",
      "{'accuracy': 0.9691358024691358, 'mean_square_error': 0.07104551443042044, 'categorical_crossentropy': 0.1119839350382487, 'essential_metrics': {0: {'tp_hit': 74, 'fp_hit': 3, 'tn_hit': 29, 'fn_hit': 2}, 1: {'tp_hit': 16, 'fp_hit': 0, 'tn_hit': 91, 'fn_hit': 1}, 2: {'tp_hit': 13, 'fp_hit': 2, 'tn_hit': 91, 'fn_hit': 2}}}\n"
     ]
    }
   ],
   "source": [
    "# recall phase\n",
    "score = model.evaluate(x_test, y_test, False)\n",
    "print(score)"
   ]
  },
  {
   "cell_type": "code",
   "execution_count": 11,
   "metadata": {},
   "outputs": [],
   "source": [
    "train_acc = [h['accuracy'] for h in history]\n",
    "train_mse = [h['mean_square_error'] for h in history]\n",
    "train_cce = [h['categorical_crossentropy'] for h in history]"
   ]
  },
  {
   "cell_type": "code",
   "execution_count": 12,
   "metadata": {},
   "outputs": [
    {
     "data": {
      "image/png": "[encoded data removed]",
      "text/plain": [
       "<Figure size 864x360 with 1 Axes>"
      ]
     },
     "metadata": {
      "needs_background": "light"
     },
     "output_type": "display_data"
    },
    {
     "data": {
      "image/png": "[encoded data removed]",
      "text/plain": [
       "<Figure size 864x360 with 1 Axes>"
      ]
     },
     "metadata": {
      "needs_background": "light"
     },
     "output_type": "display_data"
    }
   ],
   "source": [
    "draw_plot(x = [[i for i in range(len(history))], [(i+1)*breakpoint for i in range(len(checkpoints))]], y_list = [train_cce, [ ckp[model.loss_fn] for ckp in checkpoints ]], x_label = 'Epochs', \\\n",
    "    y_label = model.loss_fn, legend=['train', 'test'])\n",
    "acc = [ ckp['accuracy'] for ckp in checkpoints ]\n",
    "draw_plot(x = [[i for i in range(len(history))], [(i+1)*breakpoint for i in range(len(checkpoints))]], y_list = [train_acc, acc], x_label = 'Checkpoints', \\\n",
    "    y_label = 'accuracy', legend=['train', 'test'])"
   ]
  },
  {
   "cell_type": "code",
   "execution_count": 13,
   "metadata": {},
   "outputs": [
    {
     "name": "stdout",
     "output_type": "stream",
     "text": [
      "{'accuracy': 0.8518518518518519, 'mean_square_error': 0.3298541358589136, 'categorical_crossentropy': 0.5905197638052481, 'essential_metrics': {0: {'tp_hit': 67, 'fp_hit': 14, 'tn_hit': 18, 'fn_hit': 9}, 1: {'tp_hit': 11, 'fp_hit': 0, 'tn_hit': 91, 'fn_hit': 6}, 2: {'tp_hit': 6, 'fp_hit': 10, 'tn_hit': 83, 'fn_hit': 9}}, 'checkpoint': 10} \n",
      "\n",
      "\n",
      "{'accuracy': 0.8765432098765432, 'mean_square_error': 0.29926182449217903, 'categorical_crossentropy': 0.5546488232082791, 'essential_metrics': {0: {'tp_hit': 73, 'fp_hit': 15, 'tn_hit': 17, 'fn_hit': 3}, 1: {'tp_hit': 10, 'fp_hit': 0, 'tn_hit': 91, 'fn_hit': 7}, 2: {'tp_hit': 5, 'fp_hit': 5, 'tn_hit': 88, 'fn_hit': 10}}, 'checkpoint': 20} \n",
      "\n",
      "\n",
      "{'accuracy': 0.8703703703703703, 'mean_square_error': 0.315732481799889, 'categorical_crossentropy': 0.5747186872694228, 'essential_metrics': {0: {'tp_hit': 71, 'fp_hit': 14, 'tn_hit': 18, 'fn_hit': 5}, 1: {'tp_hit': 10, 'fp_hit': 0, 'tn_hit': 91, 'fn_hit': 7}, 2: {'tp_hit': 6, 'fp_hit': 7, 'tn_hit': 86, 'fn_hit': 9}}, 'checkpoint': 30} \n",
      "\n",
      "\n",
      "{'accuracy': 0.8580246913580247, 'mean_square_error': 0.32046470252807857, 'categorical_crossentropy': 0.5493252012464735, 'essential_metrics': {0: {'tp_hit': 76, 'fp_hit': 23, 'tn_hit': 9, 'fn_hit': 0}, 1: {'tp_hit': 9, 'fp_hit': 0, 'tn_hit': 91, 'fn_hit': 8}, 2: {'tp_hit': 0, 'fp_hit': 0, 'tn_hit': 93, 'fn_hit': 15}}, 'checkpoint': 40} \n",
      "\n",
      "\n",
      "{'accuracy': 0.8641975308641975, 'mean_square_error': 0.28576795145379874, 'categorical_crossentropy': 0.5084222511008933, 'essential_metrics': {0: {'tp_hit': 67, 'fp_hit': 12, 'tn_hit': 20, 'fn_hit': 9}, 1: {'tp_hit': 12, 'fp_hit': 0, 'tn_hit': 91, 'fn_hit': 5}, 2: {'tp_hit': 7, 'fp_hit': 10, 'tn_hit': 83, 'fn_hit': 8}}, 'checkpoint': 50} \n",
      "\n",
      "\n",
      "{'accuracy': 0.9012345679012346, 'mean_square_error': 0.2680068566555394, 'categorical_crossentropy': 0.49910153283013237, 'essential_metrics': {0: {'tp_hit': 74, 'fp_hit': 14, 'tn_hit': 18, 'fn_hit': 2}, 1: {'tp_hit': 10, 'fp_hit': 0, 'tn_hit': 91, 'fn_hit': 7}, 2: {'tp_hit': 8, 'fp_hit': 2, 'tn_hit': 91, 'fn_hit': 7}}, 'checkpoint': 60} \n",
      "\n",
      "\n",
      "{'accuracy': 0.8888888888888888, 'mean_square_error': 0.2573919687581102, 'categorical_crossentropy': 0.4681776188038014, 'essential_metrics': {0: {'tp_hit': 73, 'fp_hit': 12, 'tn_hit': 20, 'fn_hit': 3}, 1: {'tp_hit': 11, 'fp_hit': 3, 'tn_hit': 88, 'fn_hit': 6}, 2: {'tp_hit': 6, 'fp_hit': 3, 'tn_hit': 90, 'fn_hit': 9}}, 'checkpoint': 70} \n",
      "\n",
      "\n",
      "{'accuracy': 0.9074074074074074, 'mean_square_error': 0.22118341368972935, 'categorical_crossentropy': 0.42040326860215926, 'essential_metrics': {0: {'tp_hit': 69, 'fp_hit': 8, 'tn_hit': 24, 'fn_hit': 7}, 1: {'tp_hit': 15, 'fp_hit': 0, 'tn_hit': 91, 'fn_hit': 2}, 2: {'tp_hit': 9, 'fp_hit': 7, 'tn_hit': 86, 'fn_hit': 6}}, 'checkpoint': 80} \n",
      "\n",
      "\n",
      "{'accuracy': 0.9135802469135802, 'mean_square_error': 0.21350433215750944, 'categorical_crossentropy': 0.39586250870316114, 'essential_metrics': {0: {'tp_hit': 68, 'fp_hit': 6, 'tn_hit': 26, 'fn_hit': 8}, 1: {'tp_hit': 14, 'fp_hit': 0, 'tn_hit': 91, 'fn_hit': 3}, 2: {'tp_hit': 12, 'fp_hit': 8, 'tn_hit': 85, 'fn_hit': 3}}, 'checkpoint': 90} \n",
      "\n",
      "\n",
      "{'accuracy': 0.9382716049382716, 'mean_square_error': 0.1491366256517027, 'categorical_crossentropy': 0.29689001154016564, 'essential_metrics': {0: {'tp_hit': 73, 'fp_hit': 7, 'tn_hit': 25, 'fn_hit': 3}, 1: {'tp_hit': 13, 'fp_hit': 0, 'tn_hit': 91, 'fn_hit': 4}, 2: {'tp_hit': 12, 'fp_hit': 3, 'tn_hit': 90, 'fn_hit': 3}}, 'checkpoint': 100} \n",
      "\n",
      "\n",
      "{'accuracy': 0.9506172839506173, 'mean_square_error': 0.11722822591627548, 'categorical_crossentropy': 0.24768350742481374, 'essential_metrics': {0: {'tp_hit': 73, 'fp_hit': 5, 'tn_hit': 27, 'fn_hit': 3}, 1: {'tp_hit': 15, 'fp_hit': 0, 'tn_hit': 91, 'fn_hit': 2}, 2: {'tp_hit': 12, 'fp_hit': 3, 'tn_hit': 90, 'fn_hit': 3}}, 'checkpoint': 110} \n",
      "\n",
      "\n",
      "{'accuracy': 0.9506172839506173, 'mean_square_error': 0.10777514993312735, 'categorical_crossentropy': 0.22583749559190539, 'essential_metrics': {0: {'tp_hit': 73, 'fp_hit': 5, 'tn_hit': 27, 'fn_hit': 3}, 1: {'tp_hit': 15, 'fp_hit': 0, 'tn_hit': 91, 'fn_hit': 2}, 2: {'tp_hit': 12, 'fp_hit': 3, 'tn_hit': 90, 'fn_hit': 3}}, 'checkpoint': 120} \n",
      "\n",
      "\n",
      "{'accuracy': 0.9506172839506173, 'mean_square_error': 0.09993378643678043, 'categorical_crossentropy': 0.20111287081683124, 'essential_metrics': {0: {'tp_hit': 73, 'fp_hit': 5, 'tn_hit': 27, 'fn_hit': 3}, 1: {'tp_hit': 15, 'fp_hit': 0, 'tn_hit': 91, 'fn_hit': 2}, 2: {'tp_hit': 12, 'fp_hit': 3, 'tn_hit': 90, 'fn_hit': 3}}, 'checkpoint': 130} \n",
      "\n",
      "\n",
      "{'accuracy': 0.9567901234567902, 'mean_square_error': 0.09013962173006836, 'categorical_crossentropy': 0.17495955361260307, 'essential_metrics': {0: {'tp_hit': 74, 'fp_hit': 5, 'tn_hit': 27, 'fn_hit': 2}, 1: {'tp_hit': 15, 'fp_hit': 0, 'tn_hit': 91, 'fn_hit': 2}, 2: {'tp_hit': 12, 'fp_hit': 2, 'tn_hit': 91, 'fn_hit': 3}}, 'checkpoint': 140} \n",
      "\n",
      "\n",
      "{'accuracy': 0.9691358024691358, 'mean_square_error': 0.08333340841471355, 'categorical_crossentropy': 0.15538524698328088, 'essential_metrics': {0: {'tp_hit': 74, 'fp_hit': 3, 'tn_hit': 29, 'fn_hit': 2}, 1: {'tp_hit': 16, 'fp_hit': 0, 'tn_hit': 91, 'fn_hit': 1}, 2: {'tp_hit': 13, 'fp_hit': 2, 'tn_hit': 91, 'fn_hit': 2}}, 'checkpoint': 150} \n",
      "\n",
      "\n",
      "{'accuracy': 0.9629629629629629, 'mean_square_error': 0.07820765884832774, 'categorical_crossentropy': 0.1340023499948007, 'essential_metrics': {0: {'tp_hit': 74, 'fp_hit': 4, 'tn_hit': 28, 'fn_hit': 2}, 1: {'tp_hit': 15, 'fp_hit': 0, 'tn_hit': 91, 'fn_hit': 2}, 2: {'tp_hit': 13, 'fp_hit': 2, 'tn_hit': 91, 'fn_hit': 2}}, 'checkpoint': 160} \n",
      "\n",
      "\n",
      "{'accuracy': 0.9691358024691358, 'mean_square_error': 0.06031871267849027, 'categorical_crossentropy': 0.10596422795896177, 'essential_metrics': {0: {'tp_hit': 74, 'fp_hit': 3, 'tn_hit': 29, 'fn_hit': 2}, 1: {'tp_hit': 16, 'fp_hit': 0, 'tn_hit': 91, 'fn_hit': 1}, 2: {'tp_hit': 13, 'fp_hit': 2, 'tn_hit': 91, 'fn_hit': 2}}, 'checkpoint': 170} \n",
      "\n",
      "\n",
      "{'accuracy': 0.9691358024691358, 'mean_square_error': 0.056176832634515506, 'categorical_crossentropy': 0.09282587192676685, 'essential_metrics': {0: {'tp_hit': 75, 'fp_hit': 4, 'tn_hit': 28, 'fn_hit': 1}, 1: {'tp_hit': 15, 'fp_hit': 0, 'tn_hit': 91, 'fn_hit': 2}, 2: {'tp_hit': 13, 'fp_hit': 1, 'tn_hit': 92, 'fn_hit': 2}}, 'checkpoint': 180} \n",
      "\n",
      "\n",
      "{'accuracy': 0.9753086419753086, 'mean_square_error': 0.0655961490723095, 'categorical_crossentropy': 0.1051902417783384, 'essential_metrics': {0: {'tp_hit': 75, 'fp_hit': 3, 'tn_hit': 29, 'fn_hit': 1}, 1: {'tp_hit': 16, 'fp_hit': 0, 'tn_hit': 91, 'fn_hit': 1}, 2: {'tp_hit': 13, 'fp_hit': 1, 'tn_hit': 92, 'fn_hit': 2}}, 'checkpoint': 190} \n",
      "\n",
      "\n",
      "{'accuracy': 0.9691358024691358, 'mean_square_error': 0.07104551443042044, 'categorical_crossentropy': 0.1119839350382487, 'essential_metrics': {0: {'tp_hit': 74, 'fp_hit': 3, 'tn_hit': 29, 'fn_hit': 2}, 1: {'tp_hit': 16, 'fp_hit': 0, 'tn_hit': 91, 'fn_hit': 1}, 2: {'tp_hit': 13, 'fp_hit': 2, 'tn_hit': 91, 'fn_hit': 2}}, 'checkpoint': 200} \n",
      "\n",
      "\n"
     ]
    }
   ],
   "source": [
    "for checkpoint in checkpoints:\n",
    "    print(checkpoint, '\\n\\n')"
   ]
  },
  {
   "cell_type": "code",
   "execution_count": 14,
   "metadata": {},
   "outputs": [
    {
     "name": "stdout",
     "output_type": "stream",
     "text": [
      "Layer 1\n",
      "Neuron 0: weights:\n",
      "[ 1.1091954  -1.9856927  -3.          0.89833874  1.3570881 ]\n",
      " bias: -3.0\n",
      "\n",
      "Neuron 1: weights:\n",
      "[-1.2005873   3.          0.01869258 -0.8012144  -1.9562775 ]\n",
      " bias: 3.0\n",
      "\n",
      "Neuron 2: weights:\n",
      "[-1.3311474  2.4376776  1.9105217  1.1509115 -1.9727094]\n",
      " bias: -3.0\n",
      "\n",
      "Neuron 3: weights:\n",
      "[-1.9741473  3.         1.8900069 -3.        -0.3063924]\n",
      " bias: -3.0\n",
      "\n",
      "$\n",
      "Layer 2\n",
      "Neuron 0: weights:\n",
      "[-2.2869835  3.        -3.        -3.       ]\n",
      " bias: 2.1219496726989746\n",
      "\n",
      "Neuron 1: weights:\n",
      "[ 0.06968434 -0.52157724  3.          3.        ]\n",
      " bias: -2.097022533416748\n",
      "\n",
      "Neuron 2: weights:\n",
      "[ 3.        -3.         0.7133796 -2.5273836]\n",
      " bias: 1.2011913061141968\n",
      "\n",
      "$\n",
      "\n"
     ]
    }
   ],
   "source": [
    "print(model)"
   ]
  },
  {
   "cell_type": "code",
   "execution_count": null,
   "metadata": {},
   "outputs": [],
   "source": []
  }
 ],
 "metadata": {
  "kernelspec": {
   "display_name": "Python 3",
   "language": "python",
   "name": "python3"
  },
  "language_info": {
   "codemirror_mode": {
    "name": "ipython",
    "version": 3
   },
   "file_extension": ".py",
   "mimetype": "text/x-python",
   "name": "python",
   "nbconvert_exporter": "python",
   "pygments_lexer": "ipython3",
   "version": "3.6.12"
  }
 },
 "nbformat": 4,
 "nbformat_minor": 2
}
