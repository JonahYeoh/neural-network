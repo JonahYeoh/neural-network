{
 "cells": [
  {
   "cell_type": "code",
   "execution_count": 1,
   "metadata": {},
   "outputs": [],
   "source": [
    "# two"
   ]
  },
  {
   "cell_type": "code",
   "execution_count": 2,
   "metadata": {},
   "outputs": [],
   "source": [
    "# dependency\n",
    "import numpy as np\n",
    "import pandas as pd\n",
    "import copy\n",
    "import math\n",
    "import sys\n",
    "import os\n",
    "from activations import relu, leaky_relu, sigmoid, tanh, softmax, d_sigmoid, d_relu\n",
    "from initializers import glorot_uniform, random_normal, random_uniform\n",
    "from regularizers import l1_regularizer, l2_regularizer\n",
    "from utility import trim_tail, multiply, subtract, get_nparams, one_hot_encoding, get_data\n",
    "from metrics import MSE, CCE, ACC, PRECISION, RECALL, essential_metrics, wondering_penalty, close_gap_penalty\n",
    "from pso import PSO\n",
    "from ga import GA\n",
    "from nn import Network\n",
    "from layer import DenseLayer\n",
    "from scalers import MinMaxScaler, StandardScaler"
   ]
  },
  {
   "cell_type": "code",
   "execution_count": 3,
   "metadata": {},
   "outputs": [],
   "source": [
    "# reference\n",
    "metrics_fn_dict = dict()\n",
    "metrics_fn_dict['accuracy'] = ACC\n",
    "metrics_fn_dict['categorical_crossentropy'] = CCE\n",
    "metrics_fn_dict['mean_square_error'] = MSE\n",
    "metrics_fn_dict['precision'] = PRECISION\n",
    "metrics_fn_dict['recall'] = RECALL\n",
    "metrics_fn_dict['essential_metrics'] = essential_metrics"
   ]
  },
  {
   "cell_type": "code",
   "execution_count": 4,
   "metadata": {},
   "outputs": [],
   "source": [
    "# model\n",
    "model = Network(5, lr = None)\n",
    "model.add_layer(DenseLayer(1, 4, True, afn=sigmoid, dafn=None, rfn=None))\n",
    "model.add_layer(DenseLayer(2, 3, True, afn=softmax, dafn=None, rfn=None))"
   ]
  },
  {
   "cell_type": "code",
   "execution_count": 5,
   "metadata": {},
   "outputs": [],
   "source": [
    "# optimizer\n",
    "ga = GA(\n",
    "    dict(\n",
    "        m = 200,\n",
    "        x_rate = 0.5,\n",
    "        m_rate = 0.5,\n",
    "        weight_constraint = [-3.,3.],\n",
    "        radioactive_rating = 0.1,\n",
    "        grow_factor = 0.1,\n",
    "        scale_hyperparameter = False,\n",
    "        regularizer = None))"
   ]
  },
  {
   "cell_type": "code",
   "execution_count": 6,
   "metadata": {},
   "outputs": [
    {
     "name": "stdout",
     "output_type": "stream",
     "text": [
      "building layer 1 with 5\n",
      "24\n",
      "building layer 2 with 4\n",
      "15\n"
     ]
    }
   ],
   "source": [
    "model.compile(loss_fn = 'categorical_crossentropy', optimizer = ga, \\\n",
    "    metrics = ['accuracy', 'mean_square_error', 'categorical_crossentropy', 'precision', 'recall', 'f1'])"
   ]
  },
  {
   "cell_type": "code",
   "execution_count": 7,
   "metadata": {},
   "outputs": [
    {
     "name": "stdout",
     "output_type": "stream",
     "text": [
      "<class 'pandas.core.frame.DataFrame'>\n",
      "RangeIndex: 107 entries, 0 to 106\n",
      "Data columns (total 6 columns):\n",
      " #   Column  Non-Null Count  Dtype  \n",
      "---  ------  --------------  -----  \n",
      " 0   f1      107 non-null    float32\n",
      " 1   f2      107 non-null    float32\n",
      " 2   f3      107 non-null    float32\n",
      " 3   f4      107 non-null    float32\n",
      " 4   f5      107 non-null    float32\n",
      " 5   label   107 non-null    float32\n",
      "dtypes: float32(6)\n",
      "memory usage: 2.6 KB\n",
      "None\n",
      "<class 'pandas.core.frame.DataFrame'>\n",
      "RangeIndex: 108 entries, 0 to 107\n",
      "Data columns (total 6 columns):\n",
      " #   Column  Non-Null Count  Dtype  \n",
      "---  ------  --------------  -----  \n",
      " 0   f1      108 non-null    float32\n",
      " 1   f2      108 non-null    float32\n",
      " 2   f3      108 non-null    float32\n",
      " 3   f4      108 non-null    float32\n",
      " 4   f5      108 non-null    float32\n",
      " 5   label   108 non-null    float32\n",
      "dtypes: float32(6)\n",
      "memory usage: 2.7 KB\n",
      "None\n"
     ]
    }
   ],
   "source": [
    "# data loading\n",
    "DATA = os.path.join('c:\\\\Users\\\\AI-lab\\\\github_repo\\\\neural-network\\\\', 'dataset')\n",
    "GROUP = 3\n",
    "COLUMNS = ['f1', 'f2', 'f3', 'f4', 'f5', 'label']\n",
    "N_CLASS = 3\n",
    "EPOCHS = 500\n",
    "train_dir, test_dir = \"..//dataset//training_data{}.txt\".format(GROUP), \"..//dataset//testing_data{}.txt\".format(GROUP)\n",
    "train, test = get_data(DATA, train_dir, COLUMNS), get_data(DATA, test_dir, COLUMNS)\n",
    "# shuffle\n",
    "train, test = train.sample(frac=1), test.sample(frac=1)\n",
    "x_train, y_train = train.drop('label', axis=1), train['label']\n",
    "x_test, y_test = test.drop('label', axis=1), test['label']"
   ]
  },
  {
   "cell_type": "code",
   "execution_count": 8,
   "metadata": {},
   "outputs": [],
   "source": [
    "# data scaling and encoding\n",
    "scaler = StandardScaler(['f1', 'f2', 'f3', 'f4', 'f5'])\n",
    "scaler.fit(x_train)\n",
    "x_train = scaler.transform(x_train)\n",
    "x_test = scaler.transform(x_test)\n",
    "y_train = one_hot_encoding(y_train, N_CLASS)\n",
    "y_test = one_hot_encoding(y_test, N_CLASS)"
   ]
  },
  {
   "cell_type": "code",
   "execution_count": 9,
   "metadata": {
    "scrolled": true,
    "tags": [
     "outputPrepend"
    ]
   },
   "outputs": [
    {
     "name": "stderr",
     "output_type": "stream",
     "text": [
      "C:\\Users\\AI-lab\\github_repo\\neural-network\\python\\ga.py:201: RuntimeWarning: overflow encountered in add\n",
      "  self.population.sort(key=lambda p: p.fitness + np.random.uniform(-shift, shift, 1), reverse = self.aim)\n"
     ]
    },
    {
     "name": "stdout",
     "output_type": "stream",
     "text": [
      "Checkpoint 100, Accuracy: 0.9629629629629629, Loss: 0.24569161732991537\n",
      "Checkpoint 200, Accuracy: 0.9567901234567902, Loss: 0.2218211845115379\n",
      "Checkpoint 300, Accuracy: 0.9629629629629629, Loss: 0.1931399769253201\n",
      "Checkpoint 400, Accuracy: 0.9691358024691358, Loss: 0.17413609116165726\n",
      "Checkpoint 500, Accuracy: 0.9691358024691358, Loss: 0.16096215777926975\n"
     ]
    }
   ],
   "source": [
    "# learning phase\n",
    "breakpoint = 100\n",
    "checkpoints = list()\n",
    "history = list()\n",
    "for century in range(0, EPOCHS, breakpoint):\n",
    "    sub_history = model.fit(x_train, y_train, breakpoint, verbose = 0)\n",
    "    score = model.evaluate(x_test, y_test, False, verbose = 0)\n",
    "    print('Checkpoint {}, Accuracy: {}, Loss: {}'.format(century+breakpoint, score['accuracy'], score[model.loss_fn]))\n",
    "    score['checkpoint'] = century + breakpoint\n",
    "    checkpoints.append(score)\n",
    "    history.extend(sub_history)\n",
    "    "
   ]
  },
  {
   "cell_type": "code",
   "execution_count": 10,
   "metadata": {},
   "outputs": [],
   "source": [
    "import matplotlib.pyplot as plt\n",
    "\n",
    "def draw_plot(x, y_list, x_label=None, y_label=None, legend=None, title=None):\n",
    "    fig, ax = plt.subplots(figsize=(12,5))\n",
    "    for xi, yi in zip(x, y_list):\n",
    "        ax.plot(xi, yi)\n",
    "    if x_label is not None and y_label is not None:\n",
    "        ax.set(xlabel=x_label, ylabel=y_label, title='{} VS {}'.format(x_label, y_label))\n",
    "    if legend is not None:\n",
    "        ax.legend(legend)\n",
    "    ax.grid()\n",
    "    plt.show()"
   ]
  },
  {
   "cell_type": "code",
   "execution_count": 11,
   "metadata": {},
   "outputs": [
    {
     "name": "stdout",
     "output_type": "stream",
     "text": [
      "[1. 0. 0.] <-> [0.9695663  0.02452473 0.00590903]\n",
      "[0. 0. 1.] <-> [0.769113   0.0279068  0.20298012]\n",
      "[0. 1. 0.] <-> [8.7397471e-02 9.1244948e-01 1.5299345e-04]\n",
      "[1. 0. 0.] <-> [0.8928693  0.07145447 0.03567623]\n",
      "[0. 1. 0.] <-> [4.3659121e-02 9.5628810e-01 5.2752443e-05]\n",
      "[1. 0. 0.] <-> [0.613748  0.3851172 0.0011348]\n",
      "[0. 1. 0.] <-> [4.2402841e-02 9.5748091e-01 1.1625273e-04]\n",
      "[1. 0. 0.] <-> [0.9696581  0.02180716 0.0085347 ]\n",
      "[1. 0. 0.] <-> [0.96668154 0.02100351 0.01231492]\n",
      "[0. 1. 0.] <-> [3.1402573e-02 9.6844471e-01 1.5268353e-04]\n",
      "[1. 0. 0.] <-> [0.7496654  0.1604128  0.08992176]\n",
      "[1. 0. 0.] <-> [0.9690007  0.02064933 0.01034996]\n",
      "[1. 0. 0.] <-> [0.9656672  0.02323288 0.01109984]\n",
      "[0. 1. 0.] <-> [8.6932194e-01 1.2994827e-01 7.2975020e-04]\n",
      "[1. 0. 0.] <-> [0.9573331  0.02002783 0.02263909]\n",
      "[0. 0. 1.] <-> [0.12376775 0.02575125 0.85048103]\n",
      "[1. 0. 0.] <-> [0.8624829  0.02734637 0.11017074]\n",
      "[1. 0. 0.] <-> [0.6830509  0.03113    0.28581914]\n",
      "[1. 0. 0.] <-> [0.93725514 0.02187964 0.04086522]\n",
      "[1. 0. 0.] <-> [0.96660244 0.02315755 0.01023998]\n",
      "[0. 1. 0.] <-> [9.5868103e-02 9.0372300e-01 4.0894793e-04]\n",
      "[1. 0. 0.] <-> [0.945791   0.02342785 0.03078122]\n",
      "[1. 0. 0.] <-> [0.94482523 0.051772   0.00340289]\n",
      "[1. 0. 0.] <-> [0.9513033  0.03789334 0.01080329]\n",
      "[1. 0. 0.] <-> [0.698955   0.29457742 0.00646755]\n",
      "[0. 1. 0.] <-> [4.2729266e-02 9.5721477e-01 5.6043653e-05]\n",
      "[1. 0. 0.] <-> [0.969398   0.01821683 0.01238515]\n",
      "[1. 0. 0.] <-> [0.9689304  0.01977769 0.01129198]\n",
      "[1. 0. 0.] <-> [0.9665831  0.01826842 0.01514846]\n",
      "[1. 0. 0.] <-> [0.67547005 0.04341254 0.28111735]\n",
      "[1. 0. 0.] <-> [0.96858513 0.01838965 0.01302519]\n",
      "[1. 0. 0.] <-> [0.44225854 0.5570553  0.0006861 ]\n",
      "[1. 0. 0.] <-> [0.9453069 0.0224656 0.0322275]\n",
      "[0. 1. 0.] <-> [4.9779095e-02 9.5013297e-01 8.7881141e-05]\n",
      "[1. 0. 0.] <-> [0.9576933  0.03826797 0.0040387 ]\n",
      "[1. 0. 0.] <-> [0.95730555 0.03552679 0.00716758]\n",
      "[1. 0. 0.] <-> [0.91229916 0.03276512 0.05493568]\n",
      "[0. 0. 1.] <-> [0.01003107 0.00603869 0.9839302 ]\n",
      "[1. 0. 0.] <-> [0.94361794 0.02688745 0.02949463]\n",
      "[1. 0. 0.] <-> [0.9623857  0.03145917 0.00615518]\n",
      "[1. 0. 0.] <-> [0.9609678  0.02715801 0.01187417]\n",
      "[1. 0. 0.] <-> [0.8805405  0.1088564  0.01060308]\n",
      "[1. 0. 0.] <-> [0.90305763 0.06799805 0.02894426]\n",
      "[1. 0. 0.] <-> [0.94975334 0.02262413 0.02762243]\n",
      "[1. 0. 0.] <-> [0.9251349  0.02748428 0.04738082]\n",
      "[0. 1. 0.] <-> [7.4447036e-02 9.2545569e-01 9.7308774e-05]\n",
      "[1. 0. 0.] <-> [0.9561393  0.03577958 0.00808117]\n",
      "[1. 0. 0.] <-> [0.9520769  0.01902396 0.02889909]\n",
      "[0. 0. 1.] <-> [0.01069247 0.00457111 0.9847364 ]\n",
      "[0. 1. 0.] <-> [2.4816121e-01 7.5161809e-01 2.2068119e-04]\n",
      "[1. 0. 0.] <-> [0.9447935  0.05191432 0.00329215]\n",
      "[1. 0. 0.] <-> [0.9580511  0.01908378 0.02286509]\n",
      "[1. 0. 0.] <-> [0.9649129  0.02336119 0.01172593]\n",
      "[1. 0. 0.] <-> [0.9689218  0.02589382 0.00518447]\n",
      "[1. 0. 0.] <-> [0.95633334 0.04036702 0.00329956]\n",
      "[1. 0. 0.] <-> [0.8889144  0.10033014 0.01075545]\n",
      "[1. 0. 0.] <-> [0.95937026 0.03172182 0.00890794]\n",
      "[1. 0. 0.] <-> [0.84328467 0.02830966 0.12840566]\n",
      "[0. 1. 0.] <-> [5.1201105e-02 9.4859052e-01 2.0839466e-04]\n",
      "[0. 1. 0.] <-> [3.7820898e-02 9.6208304e-01 9.6103387e-05]\n",
      "[1. 0. 0.] <-> [0.96628356 0.0286072  0.00510927]\n",
      "[0. 1. 0.] <-> [2.9589206e-02 9.7025037e-01 1.6046548e-04]\n",
      "[1. 0. 0.] <-> [0.9683576  0.02250065 0.0091417 ]\n",
      "[1. 0. 0.] <-> [0.9585304  0.02001037 0.02145921]\n",
      "[1. 0. 0.] <-> [0.8823059 0.1042946 0.0133995]\n",
      "[1. 0. 0.] <-> [0.9662863  0.02739331 0.00632041]\n",
      "[1. 0. 0.] <-> [0.5508779  0.44643873 0.00268336]\n",
      "[1. 0. 0.] <-> [0.961238   0.02861276 0.01014918]\n",
      "[0. 0. 1.] <-> [0.18578137 0.02126504 0.79295355]\n",
      "[1. 0. 0.] <-> [0.9649057  0.02165918 0.01343507]\n",
      "[1. 0. 0.] <-> [0.9379458  0.05475486 0.00729939]\n",
      "[0. 0. 1.] <-> [0.5497766  0.042716   0.40750736]\n",
      "[1. 0. 0.] <-> [0.95524305 0.04262797 0.00212899]\n",
      "[1. 0. 0.] <-> [0.9488576  0.02207829 0.02906409]\n",
      "[1. 0. 0.] <-> [0.86277807 0.13362764 0.00359435]\n",
      "[1. 0. 0.] <-> [0.96739    0.02114244 0.01146758]\n",
      "[1. 0. 0.] <-> [0.95875084 0.01928205 0.021967  ]\n",
      "[1. 0. 0.] <-> [0.9692974  0.02358852 0.00711399]\n",
      "[1. 0. 0.] <-> [0.8541486  0.02549572 0.12035566]\n",
      "[1. 0. 0.] <-> [0.95728457 0.02458007 0.0181354 ]\n",
      "[1. 0. 0.] <-> [0.96434957 0.02121102 0.01443935]\n",
      "[1. 0. 0.] <-> [0.95711416 0.03856732 0.00431843]\n",
      "[1. 0. 0.] <-> [0.9623539  0.01911526 0.0185309 ]\n",
      "[0. 0. 1.] <-> [0.0679505  0.01695843 0.9150911 ]\n",
      "[1. 0. 0.] <-> [0.9022807  0.09321076 0.00450861]\n",
      "[1. 0. 0.] <-> [0.91943765 0.02677237 0.05378995]\n",
      "[1. 0. 0.] <-> [0.97029066 0.01939942 0.0103099 ]\n",
      "[0. 0. 1.] <-> [0.09973527 0.01832418 0.8819405 ]\n",
      "[0. 0. 1.] <-> [0.01543967 0.00593305 0.97862726]\n",
      "[0. 0. 1.] <-> [0.8085524  0.03247805 0.15896961]\n",
      "[0. 0. 1.] <-> [0.00940708 0.00920473 0.9813882 ]\n",
      "[1. 0. 0.] <-> [0.96020544 0.02511292 0.01468163]\n",
      "[0. 1. 0.] <-> [2.1535930e-01 7.8435874e-01 2.8190218e-04]\n",
      "[1. 0. 0.] <-> [0.89323276 0.10293417 0.00383298]\n",
      "[0. 0. 1.] <-> [0.04198465 0.01199847 0.9460169 ]\n",
      "[0. 1. 0.] <-> [3.6906630e-01 6.3044864e-01 4.8502185e-04]\n",
      "[1. 0. 0.] <-> [0.81701064 0.18055166 0.00243769]\n",
      "[1. 0. 0.] <-> [0.9581429  0.03779392 0.00406323]\n",
      "[1. 0. 0.] <-> [0.9586231  0.03752036 0.00385648]\n",
      "[0. 0. 1.] <-> [0.4453644  0.05556499 0.49907058]\n",
      "[1. 0. 0.] <-> [0.97131896 0.01915831 0.00952271]\n",
      "[1. 0. 0.] <-> [0.9665114  0.024326   0.00916254]\n",
      "[1. 0. 0.] <-> [0.95511687 0.04203989 0.00284327]\n",
      "[1. 0. 0.] <-> [0.96368444 0.03187774 0.00443777]\n",
      "[0. 0. 1.] <-> [0.01269789 0.00513035 0.9821717 ]\n",
      "[1. 0. 0.] <-> [0.97124004 0.01838024 0.01037975]\n",
      "[0. 1. 0.] <-> [0.37239614 0.6256952  0.00190868]\n",
      "[1. 0. 0.] <-> [0.9577167  0.03841615 0.00386717]\n",
      "{'accuracy': 0.9691358024691358, 'mean_square_error': 0.08072687919251151, 'categorical_crossentropy': 0.16096215777926975, 'precision': 0.9537037037037037, 'recall': 0.9537037037037037, 'f1': 0.9537037037037037, 'essential_metrics': {0: {'tp_hit': 77, 'fp_hit': 4, 'tn_hit': 26, 'fn_hit': 1}, 1: {'tp_hit': 15, 'fp_hit': 1, 'tn_hit': 91, 'fn_hit': 1}, 2: {'tp_hit': 11, 'fp_hit': 0, 'tn_hit': 94, 'fn_hit': 3}}}\n"
     ]
    }
   ],
   "source": [
    "# recall phase\n",
    "score = model.evaluate(x_test, y_test, False)\n",
    "print(score)"
   ]
  },
  {
   "cell_type": "code",
   "execution_count": 12,
   "metadata": {},
   "outputs": [],
   "source": [
    "# Testing Performance"
   ]
  },
  {
   "cell_type": "code",
   "execution_count": 13,
   "metadata": {},
   "outputs": [
    {
     "data": {
      "image/png": "[encoded data removed]",
      "text/plain": [
       "<Figure size 864x360 with 1 Axes>"
      ]
     },
     "metadata": {
      "needs_background": "light"
     },
     "output_type": "display_data"
    },
    {
     "data": {
      "image/png": "[encoded data removed]",
      "text/plain": [
       "<Figure size 864x360 with 1 Axes>"
      ]
     },
     "metadata": {
      "needs_background": "light"
     },
     "output_type": "display_data"
    }
   ],
   "source": [
    "draw_plot(x = [[i for i in range(len(history))], [(i+1)*breakpoint for i in range(len(checkpoints))]], y_list = [history, [ ckp[model.loss_fn] for ckp in checkpoints ]], x_label = 'Epochs', \\\n",
    "    y_label = model.loss_fn, legend=['train', 'test'])\n",
    "acc = [ ckp['accuracy'] for ckp in checkpoints ]\n",
    "draw_plot(x = [[(i+1)*breakpoint for i in range(len(checkpoints))]], y_list = [acc], x_label = 'Checkpoints', \\\n",
    "    y_label = 'accuracy')"
   ]
  },
  {
   "cell_type": "code",
   "execution_count": 14,
   "metadata": {
    "scrolled": false
   },
   "outputs": [
    {
     "name": "stdout",
     "output_type": "stream",
     "text": [
      "{'accuracy': 0.9629629629629629, 'mean_square_error': 0.11742072481110662, 'categorical_crossentropy': 0.24569161732991537, 'precision': 0.9444444444444444, 'recall': 0.9444444444444444, 'f1': 0.9444444444444444, 'essential_metrics': {0: {'tp_hit': 78, 'fp_hit': 6, 'tn_hit': 24, 'fn_hit': 0}, 1: {'tp_hit': 12, 'fp_hit': 0, 'tn_hit': 92, 'fn_hit': 4}, 2: {'tp_hit': 12, 'fp_hit': 0, 'tn_hit': 94, 'fn_hit': 2}}, 'checkpoint': 100} \n",
      "\n",
      "\n",
      "{'accuracy': 0.9567901234567902, 'mean_square_error': 0.10821739827081045, 'categorical_crossentropy': 0.2218211845115379, 'precision': 0.9351851851851852, 'recall': 0.9351851851851852, 'f1': 0.9351851851851852, 'essential_metrics': {0: {'tp_hit': 78, 'fp_hit': 7, 'tn_hit': 23, 'fn_hit': 0}, 1: {'tp_hit': 12, 'fp_hit': 0, 'tn_hit': 92, 'fn_hit': 4}, 2: {'tp_hit': 11, 'fp_hit': 0, 'tn_hit': 94, 'fn_hit': 3}}, 'checkpoint': 200} \n",
      "\n",
      "\n",
      "{'accuracy': 0.9629629629629629, 'mean_square_error': 0.09292894978569027, 'categorical_crossentropy': 0.1931399769253201, 'precision': 0.9444444444444444, 'recall': 0.9444444444444444, 'f1': 0.9444444444444444, 'essential_metrics': {0: {'tp_hit': 78, 'fp_hit': 6, 'tn_hit': 24, 'fn_hit': 0}, 1: {'tp_hit': 13, 'fp_hit': 0, 'tn_hit': 92, 'fn_hit': 3}, 2: {'tp_hit': 11, 'fp_hit': 0, 'tn_hit': 94, 'fn_hit': 3}}, 'checkpoint': 300} \n",
      "\n",
      "\n",
      "{'accuracy': 0.9691358024691358, 'mean_square_error': 0.08503650578694424, 'categorical_crossentropy': 0.17413609116165726, 'precision': 0.9537037037037037, 'recall': 0.9537037037037037, 'f1': 0.9537037037037037, 'essential_metrics': {0: {'tp_hit': 77, 'fp_hit': 4, 'tn_hit': 26, 'fn_hit': 1}, 1: {'tp_hit': 15, 'fp_hit': 1, 'tn_hit': 91, 'fn_hit': 1}, 2: {'tp_hit': 11, 'fp_hit': 0, 'tn_hit': 94, 'fn_hit': 3}}, 'checkpoint': 400} \n",
      "\n",
      "\n",
      "{'accuracy': 0.9691358024691358, 'mean_square_error': 0.08072687919251151, 'categorical_crossentropy': 0.16096215777926975, 'precision': 0.9537037037037037, 'recall': 0.9537037037037037, 'f1': 0.9537037037037037, 'essential_metrics': {0: {'tp_hit': 77, 'fp_hit': 4, 'tn_hit': 26, 'fn_hit': 1}, 1: {'tp_hit': 15, 'fp_hit': 1, 'tn_hit': 91, 'fn_hit': 1}, 2: {'tp_hit': 11, 'fp_hit': 0, 'tn_hit': 94, 'fn_hit': 3}}, 'checkpoint': 500} \n",
      "\n",
      "\n"
     ]
    }
   ],
   "source": [
    "for checkpoint in checkpoints:\n",
    "    print(checkpoint, '\\n\\n')"
   ]
  },
  {
   "cell_type": "code",
   "execution_count": 15,
   "metadata": {},
   "outputs": [
    {
     "name": "stdout",
     "output_type": "stream",
     "text": [
      "Layer 1\n",
      "Neuron 0: weights:\n",
      "[-0.1948094   2.3522463  -0.02717697 -1.2775908  -0.6739422 ]\n",
      " bias: -1.6801869869232178\n",
      "\n",
      "Neuron 1: weights:\n",
      "[ 1.1457924 -1.5102941 -1.5272845  1.2885019  1.4624696]\n",
      " bias: -2.9368932247161865\n",
      "\n",
      "Neuron 2: weights:\n",
      "[-1.181655  -3.         2.2222764  1.6169457  2.0618112]\n",
      " bias: -1.892302393913269\n",
      "\n",
      "Neuron 3: weights:\n",
      "[-2.287726   3.         1.7930179 -0.6540169  1.3021976]\n",
      " bias: -2.2214438915252686\n",
      "\n",
      "$\n",
      "Layer 2\n",
      "Neuron 0: weights:\n",
      "[ 0.6148865 -2.8181293 -1.922981  -2.5929763]\n",
      " bias: 2.02968430519104\n",
      "\n",
      "Neuron 1: weights:\n",
      "[ 2.6538723  -0.41543362 -0.6879998   2.9411473 ]\n",
      " bias: -2.456434488296509\n",
      "\n",
      "Neuron 2: weights:\n",
      "[-2.6191704  1.6140184  2.628493  -1.6291838]\n",
      " bias: -2.4263341426849365\n",
      "\n",
      "$\n",
      "\n"
     ]
    }
   ],
   "source": [
    "print(model)"
   ]
  }
 ],
 "metadata": {
  "kernelspec": {
   "display_name": "Python 3",
   "language": "python",
   "name": "python3"
  },
  "language_info": {
   "codemirror_mode": {
    "name": "ipython",
    "version": 3
   },
   "file_extension": ".py",
   "mimetype": "text/x-python",
   "name": "python",
   "nbconvert_exporter": "python",
   "pygments_lexer": "ipython3",
   "version": "3.6.12"
  }
 },
 "nbformat": 4,
 "nbformat_minor": 2
}
