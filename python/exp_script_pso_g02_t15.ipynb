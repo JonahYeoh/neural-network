{
 "cells": [
  {
   "cell_type": "code",
   "execution_count": 1,
   "metadata": {},
   "outputs": [],
   "source": [
    "# dependency\n",
    "import numpy as np\n",
    "import pandas as pd\n",
    "import copy\n",
    "import math\n",
    "import sys\n",
    "import os\n",
    "from activations import relu, leaky_relu, sigmoid, tanh, softmax, d_sigmoid, d_relu\n",
    "from initializers import glorot_uniform, random_normal, random_uniform\n",
    "from regularizers import l1_regularizer, l2_regularizer\n",
    "from utility import trim_tail, multiply, subtract, get_nparams, one_hot_encoding, get_data\n",
    "from metrics import MSE, CCE, ACC, PRECISION, RECALL, essential_metrics, wondering_penalty, close_gap_penalty\n",
    "from pso import PSO\n",
    "from ga import GA\n",
    "from nn import Network\n",
    "from layer import DenseLayer\n",
    "from scalers import MinMaxScaler, StandardScaler"
   ]
  },
  {
   "cell_type": "code",
   "execution_count": 2,
   "metadata": {},
   "outputs": [],
   "source": [
    "# reference\n",
    "metrics_fn_dict = dict()\n",
    "metrics_fn_dict['accuracy'] = ACC\n",
    "metrics_fn_dict['categorical_crossentropy'] = CCE\n",
    "metrics_fn_dict['mean_square_error'] = MSE\n",
    "metrics_fn_dict['precision'] = PRECISION\n",
    "metrics_fn_dict['recall'] = RECALL\n",
    "metrics_fn_dict['essential_metrics'] = essential_metrics"
   ]
  },
  {
   "cell_type": "code",
   "execution_count": 3,
   "metadata": {},
   "outputs": [],
   "source": [
    "# model\n",
    "model = Network(5, lr = None)\n",
    "model.add_layer(DenseLayer(1, 4, True, afn=sigmoid, dafn=None, rfn=None))\n",
    "model.add_layer(DenseLayer(2, 3, True, afn=softmax, dafn=None, rfn=None))"
   ]
  },
  {
   "cell_type": "code",
   "execution_count": 4,
   "metadata": {},
   "outputs": [
    {
     "name": "stdout",
     "output_type": "stream",
     "text": [
      "see one see two 2 0.5\n"
     ]
    }
   ],
   "source": [
    "pso = PSO(dict(m = 50,\n",
    "    weight_constraint = [-3, 3], \n",
    "    velocity_constraint = [-0.1, 0.1],\n",
    "    c1 = [0.5, 2],\n",
    "    c2 = [0.5, 2],\n",
    "    w = [0.5, 1.6],\n",
    "    w_decay = 0.95,\n",
    "    scale_hyperparameter = False,\n",
    "    regularizer = None,\n",
    "    mask = None))"
   ]
  },
  {
   "cell_type": "code",
   "execution_count": 5,
   "metadata": {},
   "outputs": [
    {
     "name": "stdout",
     "output_type": "stream",
     "text": [
      "building layer 1 with 5\n",
      "24\n",
      "building layer 2 with 4\n",
      "15\n"
     ]
    }
   ],
   "source": [
    "model.compile(loss_fn = 'categorical_crossentropy', optimizer = pso, \\\n",
    "    metrics = ['accuracy', 'mean_square_error', 'categorical_crossentropy'])"
   ]
  },
  {
   "cell_type": "code",
   "execution_count": 6,
   "metadata": {},
   "outputs": [
    {
     "name": "stdout",
     "output_type": "stream",
     "text": [
      "<class 'pandas.core.frame.DataFrame'>\n",
      "RangeIndex: 107 entries, 0 to 106\n",
      "Data columns (total 6 columns):\n",
      " #   Column  Non-Null Count  Dtype  \n",
      "---  ------  --------------  -----  \n",
      " 0   f1      107 non-null    float32\n",
      " 1   f2      107 non-null    float32\n",
      " 2   f3      107 non-null    float32\n",
      " 3   f4      107 non-null    float32\n",
      " 4   f5      107 non-null    float32\n",
      " 5   label   107 non-null    float32\n",
      "dtypes: float32(6)\n",
      "memory usage: 2.6 KB\n",
      "None\n",
      "<class 'pandas.core.frame.DataFrame'>\n",
      "RangeIndex: 108 entries, 0 to 107\n",
      "Data columns (total 6 columns):\n",
      " #   Column  Non-Null Count  Dtype  \n",
      "---  ------  --------------  -----  \n",
      " 0   f1      108 non-null    float32\n",
      " 1   f2      108 non-null    float32\n",
      " 2   f3      108 non-null    float32\n",
      " 3   f4      108 non-null    float32\n",
      " 4   f5      108 non-null    float32\n",
      " 5   label   108 non-null    float32\n",
      "dtypes: float32(6)\n",
      "memory usage: 2.7 KB\n",
      "None\n"
     ]
    }
   ],
   "source": [
    "# data loading\n",
    "DATA = os.path.join('c:\\\\Users\\\\tcumi\\\\github_repo\\\\neural-network\\\\', 'dataset')\n",
    "GROUP = 2\n",
    "COLUMNS = ['f1', 'f2', 'f3', 'f4', 'f5', 'label']\n",
    "N_CLASS = 3\n",
    "EPOCHS = 500\n",
    "train_dir, test_dir = \"..//dataset//training_data{}.txt\".format(GROUP), \"..//dataset//testing_data{}.txt\".format(GROUP)\n",
    "train, test = get_data(DATA, train_dir, COLUMNS), get_data(DATA, test_dir, COLUMNS)\n",
    "# shuffle\n",
    "train, test = train.sample(frac=1), test.sample(frac=1)\n",
    "x_train, y_train = train.drop('label', axis=1), train['label']\n",
    "x_test, y_test = test.drop('label', axis=1), test['label']"
   ]
  },
  {
   "cell_type": "code",
   "execution_count": 7,
   "metadata": {},
   "outputs": [],
   "source": [
    "# data scaling and encoding\n",
    "scaler = StandardScaler(['f1', 'f2', 'f3', 'f4', 'f5'])\n",
    "scaler.fit(x_train)\n",
    "x_train = scaler.transform(x_train)\n",
    "x_test = scaler.transform(x_test)\n",
    "y_train = one_hot_encoding(y_train, N_CLASS)\n",
    "y_test = one_hot_encoding(y_test, N_CLASS)"
   ]
  },
  {
   "cell_type": "code",
   "execution_count": 8,
   "metadata": {
    "tags": [
     "outputPrepend"
    ]
   },
   "outputs": [
    {
     "name": "stdout",
     "output_type": "stream",
     "text": [
      "Checkpoint 100, Accuracy: 0.8827160493827161, Loss: 0.42454037842927156\n",
      "Checkpoint 200, Accuracy: 0.8827160493827161, Loss: 0.42454037842927156\n",
      "Checkpoint 300, Accuracy: 0.8827160493827161, Loss: 0.42454037842927156\n",
      "Checkpoint 400, Accuracy: 0.8827160493827161, Loss: 0.42454037842927156\n",
      "Checkpoint 500, Accuracy: 0.8827160493827161, Loss: 0.42454037842927156\n"
     ]
    }
   ],
   "source": [
    "# learning phase\n",
    "breakpoint = 100\n",
    "checkpoints = list()\n",
    "history = list()\n",
    "for century in range(0, EPOCHS, breakpoint):\n",
    "    sub_history = model.fit(x_train, y_train, breakpoint, verbose = 0)\n",
    "    score = model.evaluate(x_test, y_test, False, verbose = 0)\n",
    "    print('Checkpoint {}, Accuracy: {}, Loss: {}'.format(century+breakpoint, score['accuracy'], score[model.loss_fn]))\n",
    "    score['checkpoint'] = century + breakpoint\n",
    "    checkpoints.append(score)\n",
    "    history.extend(sub_history)\n",
    "    itr = century + breakpoint\n",
    "    model.optimizer.c1 = np.max([model.optimizer.C1[1] - ((model.optimizer.C1[1] - model.optimizer.C1[0]) * itr / EPOCHS), model.optimizer.C1[0]])\n",
    "    model.optimizer.c2 = np.min([model.optimizer.C2[0] + ((model.optimizer.C2[1] - model.optimizer.C2[0]) * itr / EPOCHS), model.optimizer.C2[1]])\n",
    "    model.optimizer.w = np.max([model.optimizer.w * model.optimizer.W_Decay, model.optimizer.W[0]])"
   ]
  },
  {
   "cell_type": "code",
   "execution_count": 9,
   "metadata": {},
   "outputs": [],
   "source": [
    "import matplotlib.pyplot as plt\n",
    "\n",
    "def draw_plot(x, y_list, x_label=None, y_label=None, legend=None, title=None):\n",
    "    fig, ax = plt.subplots(figsize=(12,5))\n",
    "    for xi, yi in zip(x, y_list):\n",
    "        ax.plot(xi, yi)\n",
    "    if x_label is not None and y_label is not None:\n",
    "        ax.set(xlabel=x_label, ylabel=y_label, title='{} VS {}'.format(x_label, y_label))\n",
    "    if legend is not None:\n",
    "        ax.legend(legend)\n",
    "    ax.grid()\n",
    "    plt.show()"
   ]
  },
  {
   "cell_type": "code",
   "execution_count": 10,
   "metadata": {},
   "outputs": [
    {
     "name": "stdout",
     "output_type": "stream",
     "text": [
      "[0. 0. 1.] <-> [0.8875334  0.0046601  0.10780657]\n",
      "[1. 0. 0.] <-> [0.8121448  0.01315915 0.1746961 ]\n",
      "[0. 1. 0.] <-> [0.29527244 0.46706975 0.23765777]\n",
      "[1. 0. 0.] <-> [0.9334291  0.00885485 0.05771605]\n",
      "[0. 1. 0.] <-> [0.81510395 0.11170144 0.07319462]\n",
      "[0. 0. 1.] <-> [0.6709152  0.00445475 0.32463002]\n",
      "[0. 0. 1.] <-> [0.6459451  0.02205634 0.3319986 ]\n",
      "[1. 0. 0.] <-> [0.745465   0.01858595 0.23594902]\n",
      "[1. 0. 0.] <-> [0.86820835 0.03703723 0.09475446]\n",
      "[1. 0. 0.] <-> [0.889798   0.05729156 0.05291035]\n",
      "[1. 0. 0.] <-> [0.9301074  0.0218978  0.04799472]\n",
      "[1. 0. 0.] <-> [0.9192142  0.01423571 0.06655007]\n",
      "[1. 0. 0.] <-> [0.95627207 0.01019512 0.03353272]\n",
      "[1. 0. 0.] <-> [0.8864751  0.00593096 0.107594  ]\n",
      "[0. 0. 1.] <-> [0.5254029  0.00454493 0.47005215]\n",
      "[1. 0. 0.] <-> [0.94021314 0.04368396 0.01610285]\n",
      "[0. 0. 1.] <-> [0.75903517 0.01800294 0.22296183]\n",
      "[0. 0. 1.] <-> [0.15548958 0.00202125 0.8424891 ]\n",
      "[1. 0. 0.] <-> [0.80616754 0.03870799 0.15512438]\n",
      "[1. 0. 0.] <-> [0.959357   0.00531101 0.03533205]\n",
      "[1. 0. 0.] <-> [0.90756226 0.00525795 0.08717985]\n",
      "[1. 0. 0.] <-> [0.94615495 0.02173265 0.03211238]\n",
      "[1. 0. 0.] <-> [0.86035824 0.06299859 0.07664319]\n",
      "[0. 1. 0.] <-> [0.9217442  0.05907994 0.01917583]\n",
      "[1. 0. 0.] <-> [0.9207939  0.04770053 0.03150558]\n",
      "[1. 0. 0.] <-> [0.7310562  0.00826041 0.26068345]\n",
      "[1. 0. 0.] <-> [0.91543704 0.0264102  0.05815277]\n",
      "[1. 0. 0.] <-> [0.7318064  0.02984339 0.23835027]\n",
      "[1. 0. 0.] <-> [0.8994204  0.00782832 0.09275132]\n",
      "[0. 1. 0.] <-> [0.32367972 0.4713112  0.20500915]\n",
      "[1. 0. 0.] <-> [0.93659765 0.00583119 0.05757117]\n",
      "[1. 0. 0.] <-> [0.8691232  0.07960925 0.05126755]\n",
      "[1. 0. 0.] <-> [0.9216454  0.04507013 0.03328445]\n",
      "[1. 0. 0.] <-> [0.9300337  0.00473536 0.06523099]\n",
      "[1. 0. 0.] <-> [0.9361789  0.0256509  0.03817023]\n",
      "[1. 0. 0.] <-> [0.71750784 0.06199291 0.22049925]\n",
      "[0. 1. 0.] <-> [0.52787143 0.29933032 0.17279822]\n",
      "[0. 1. 0.] <-> [0.80900615 0.14837502 0.04261885]\n",
      "[1. 0. 0.] <-> [0.9390148  0.00525005 0.05573507]\n",
      "[1. 0. 0.] <-> [0.8733556  0.00629078 0.12035362]\n",
      "[1. 0. 0.] <-> [0.9276191  0.03679433 0.03558662]\n",
      "[0. 1. 0.] <-> [0.92558813 0.05579867 0.01861318]\n",
      "[0. 0. 1.] <-> [0.57295835 0.02853497 0.39850664]\n",
      "[1. 0. 0.] <-> [0.9258201  0.01980974 0.05437008]\n",
      "[1. 0. 0.] <-> [0.9490159  0.01206908 0.03891501]\n",
      "[0. 1. 0.] <-> [0.93760663 0.04395597 0.01843732]\n",
      "[1. 0. 0.] <-> [0.92025375 0.02127665 0.05846957]\n",
      "[0. 0. 1.] <-> [0.739261   0.00472621 0.25601277]\n",
      "[1. 0. 0.] <-> [0.95119107 0.02742057 0.02138832]\n",
      "[1. 0. 0.] <-> [0.9497369  0.01298671 0.03727641]\n",
      "[1. 0. 0.] <-> [0.9152702  0.01007724 0.07465252]\n",
      "[0. 1. 0.] <-> [0.41154426 0.38083404 0.20762171]\n",
      "[1. 0. 0.] <-> [0.83465123 0.0078419  0.15750696]\n",
      "[0. 1. 0.] <-> [0.29707348 0.49329513 0.2096314 ]\n",
      "[1. 0. 0.] <-> [0.934376   0.02873783 0.03688628]\n",
      "[1. 0. 0.] <-> [0.9542772  0.0161566  0.02956624]\n",
      "[0. 0. 1.] <-> [0.36359075 0.0034554  0.6329538 ]\n",
      "[1. 0. 0.] <-> [0.8140886  0.00840754 0.17750382]\n",
      "[1. 0. 0.] <-> [0.9375454  0.00651053 0.05594407]\n",
      "[1. 0. 0.] <-> [0.8766303  0.02080008 0.10256957]\n",
      "[0. 1. 0.] <-> [0.69336784 0.20456848 0.10206363]\n",
      "[0. 0. 1.] <-> [0.15689896 0.00784598 0.8352551 ]\n",
      "[0. 1. 0.] <-> [0.91505426 0.05694864 0.02799715]\n",
      "[0. 0. 1.] <-> [0.22308363 0.00200722 0.7749092 ]\n",
      "[1. 0. 0.] <-> [0.83936894 0.00730335 0.15332776]\n",
      "[1. 0. 0.] <-> [0.9280638  0.02493162 0.04700456]\n",
      "[1. 0. 0.] <-> [0.9198771  0.00584822 0.07427455]\n",
      "[1. 0. 0.] <-> [0.8944784  0.00531719 0.10020444]\n",
      "[1. 0. 0.] <-> [0.9062646  0.01644658 0.07728873]\n",
      "[1. 0. 0.] <-> [0.8956632  0.0172606  0.08707625]\n",
      "[1. 0. 0.] <-> [0.7500239  0.01461849 0.23535758]\n",
      "[1. 0. 0.] <-> [0.9315213  0.00467213 0.06380664]\n",
      "[0. 0. 1.] <-> [0.6906667  0.00447293 0.30486038]\n",
      "[1. 0. 0.] <-> [0.93637663 0.03783397 0.02578931]\n",
      "[1. 0. 0.] <-> [0.8083718  0.00905232 0.18257593]\n",
      "[1. 0. 0.] <-> [0.7932106  0.02744565 0.17934369]\n",
      "[1. 0. 0.] <-> [0.92585576 0.01293747 0.06120677]\n",
      "[1. 0. 0.] <-> [0.83684444 0.02161418 0.14154136]\n",
      "[0. 1. 0.] <-> [0.55172884 0.35727057 0.09100057]\n",
      "[1. 0. 0.] <-> [0.9189284  0.02622174 0.0548499 ]\n",
      "[1. 0. 0.] <-> [0.9287516  0.0404893  0.03075908]\n",
      "[1. 0. 0.] <-> [0.9270609  0.00655667 0.06638241]\n",
      "[1. 0. 0.] <-> [0.9311847  0.01875222 0.05006314]\n",
      "[1. 0. 0.] <-> [0.8417529  0.02556025 0.13268685]\n",
      "[1. 0. 0.] <-> [0.9401404  0.02912308 0.03073654]\n",
      "[1. 0. 0.] <-> [0.9451951  0.01176049 0.04304451]\n",
      "[0. 1. 0.] <-> [0.28609407 0.43291312 0.28099278]\n",
      "[1. 0. 0.] <-> [0.502679   0.0072542  0.49006686]\n",
      "[1. 0. 0.] <-> [0.94176257 0.02320039 0.03503704]\n",
      "[1. 0. 0.] <-> [0.94871414 0.03304862 0.01823725]\n",
      "[1. 0. 0.] <-> [0.9436304  0.00741106 0.04895859]\n",
      "[1. 0. 0.] <-> [0.8783846  0.02691805 0.09469739]\n",
      "[1. 0. 0.] <-> [0.93276197 0.02765611 0.03958194]\n",
      "[1. 0. 0.] <-> [0.89203143 0.00722595 0.10074271]\n",
      "[1. 0. 0.] <-> [0.9278749  0.01325569 0.0588694 ]\n",
      "[1. 0. 0.] <-> [0.8444994  0.01132003 0.1441805 ]\n",
      "[1. 0. 0.] <-> [0.9221763  0.04383678 0.03398695]\n",
      "[1. 0. 0.] <-> [0.911808   0.01294316 0.07524884]\n",
      "[1. 0. 0.] <-> [0.9427807  0.00942787 0.04779138]\n",
      "[1. 0. 0.] <-> [0.9296296  0.03903918 0.03133117]\n",
      "[1. 0. 0.] <-> [0.90725493 0.03481282 0.05793222]\n",
      "[1. 0. 0.] <-> [0.92438877 0.04223802 0.0333732 ]\n",
      "[1. 0. 0.] <-> [0.8344038  0.00630194 0.15929422]\n",
      "[0. 1. 0.] <-> [0.24819084 0.3201476  0.4316616 ]\n",
      "[0. 0. 1.] <-> [0.21750347 0.00200231 0.7804942 ]\n",
      "[1. 0. 0.] <-> [0.9110268  0.03558077 0.05339239]\n",
      "[1. 0. 0.] <-> [0.87363863 0.03053816 0.09582325]\n",
      "[1. 0. 0.] <-> [0.9200649  0.00961092 0.07032414]\n",
      "{'accuracy': 0.8827160493827161, 'mean_square_error': 0.24452752612259598, 'categorical_crossentropy': 0.42454037842927156, 'essential_metrics': {0: {'tp_hit': 80, 'fp_hit': 18, 'tn_hit': 10, 'fn_hit': 0}, 1: {'tp_hit': 4, 'fp_hit': 0, 'tn_hit': 93, 'fn_hit': 11}, 2: {'tp_hit': 5, 'fp_hit': 1, 'tn_hit': 94, 'fn_hit': 8}}}\n"
     ]
    }
   ],
   "source": [
    "# recall phase\n",
    "score = model.evaluate(x_test, y_test, False)\n",
    "print(score)"
   ]
  },
  {
   "cell_type": "code",
   "execution_count": 11,
   "metadata": {},
   "outputs": [
    {
     "data": {
      "image/png": "[encoded data removed]",
      "text/plain": [
       "<Figure size 864x360 with 1 Axes>"
      ]
     },
     "metadata": {
      "needs_background": "light"
     },
     "output_type": "display_data"
    },
    {
     "data": {
      "image/png": "[encoded data removed]",
      "text/plain": [
       "<Figure size 864x360 with 1 Axes>"
      ]
     },
     "metadata": {
      "needs_background": "light"
     },
     "output_type": "display_data"
    }
   ],
   "source": [
    "draw_plot(x = [[i for i in range(len(history))], [(i+1)*breakpoint for i in range(len(checkpoints))]], y_list = [history, [ ckp[model.loss_fn] for ckp in checkpoints ]], x_label = 'Epochs', \\\n",
    "    y_label = model.loss_fn, legend=['train', 'test'])\n",
    "acc = [ ckp['accuracy'] for ckp in checkpoints ]\n",
    "draw_plot(x = [[(i+1)*breakpoint for i in range(len(checkpoints))]], y_list = [acc], x_label = 'Checkpoints', \\\n",
    "    y_label = 'accuracy')"
   ]
  },
  {
   "cell_type": "code",
   "execution_count": 12,
   "metadata": {},
   "outputs": [
    {
     "name": "stdout",
     "output_type": "stream",
     "text": [
      "{'accuracy': 0.8827160493827161, 'mean_square_error': 0.24452752612259598, 'categorical_crossentropy': 0.42454037842927156, 'essential_metrics': {0: {'tp_hit': 80, 'fp_hit': 18, 'tn_hit': 10, 'fn_hit': 0}, 1: {'tp_hit': 4, 'fp_hit': 0, 'tn_hit': 93, 'fn_hit': 11}, 2: {'tp_hit': 5, 'fp_hit': 1, 'tn_hit': 94, 'fn_hit': 8}}, 'checkpoint': 100} \n",
      "\n",
      "\n",
      "{'accuracy': 0.8827160493827161, 'mean_square_error': 0.24452752612259598, 'categorical_crossentropy': 0.42454037842927156, 'essential_metrics': {0: {'tp_hit': 80, 'fp_hit': 18, 'tn_hit': 10, 'fn_hit': 0}, 1: {'tp_hit': 4, 'fp_hit': 0, 'tn_hit': 93, 'fn_hit': 11}, 2: {'tp_hit': 5, 'fp_hit': 1, 'tn_hit': 94, 'fn_hit': 8}}, 'checkpoint': 200} \n",
      "\n",
      "\n",
      "{'accuracy': 0.8827160493827161, 'mean_square_error': 0.24452752612259598, 'categorical_crossentropy': 0.42454037842927156, 'essential_metrics': {0: {'tp_hit': 80, 'fp_hit': 18, 'tn_hit': 10, 'fn_hit': 0}, 1: {'tp_hit': 4, 'fp_hit': 0, 'tn_hit': 93, 'fn_hit': 11}, 2: {'tp_hit': 5, 'fp_hit': 1, 'tn_hit': 94, 'fn_hit': 8}}, 'checkpoint': 300} \n",
      "\n",
      "\n",
      "{'accuracy': 0.8827160493827161, 'mean_square_error': 0.24452752612259598, 'categorical_crossentropy': 0.42454037842927156, 'essential_metrics': {0: {'tp_hit': 80, 'fp_hit': 18, 'tn_hit': 10, 'fn_hit': 0}, 1: {'tp_hit': 4, 'fp_hit': 0, 'tn_hit': 93, 'fn_hit': 11}, 2: {'tp_hit': 5, 'fp_hit': 1, 'tn_hit': 94, 'fn_hit': 8}}, 'checkpoint': 400} \n",
      "\n",
      "\n",
      "{'accuracy': 0.8827160493827161, 'mean_square_error': 0.24452752612259598, 'categorical_crossentropy': 0.42454037842927156, 'essential_metrics': {0: {'tp_hit': 80, 'fp_hit': 18, 'tn_hit': 10, 'fn_hit': 0}, 1: {'tp_hit': 4, 'fp_hit': 0, 'tn_hit': 93, 'fn_hit': 11}, 2: {'tp_hit': 5, 'fp_hit': 1, 'tn_hit': 94, 'fn_hit': 8}}, 'checkpoint': 500} \n",
      "\n",
      "\n"
     ]
    }
   ],
   "source": [
    "for checkpoint in checkpoints:\n",
    "    print(checkpoint, '\\n\\n')"
   ]
  },
  {
   "cell_type": "code",
   "execution_count": 13,
   "metadata": {},
   "outputs": [
    {
     "name": "stdout",
     "output_type": "stream",
     "text": [
      "Layer 1\n",
      "Neuron 0: weights:\n",
      "[-2.70341736  2.8525508   2.08265909  2.53962262 -2.78496022]\n",
      " bias: 1.986757761431667\n",
      "\n",
      "Neuron 1: weights:\n",
      "[ 0.18777116  2.02137399 -1.24937458 -2.28711468 -2.81498321]\n",
      " bias: -1.9511977568212735\n",
      "\n",
      "Neuron 2: weights:\n",
      "[-0.48390594 -2.52316216 -1.13976202  0.72659752 -0.35145729]\n",
      " bias: -2.770826424765213\n",
      "\n",
      "Neuron 3: weights:\n",
      "[ 2.61064929 -1.27005868 -2.5778581  -1.1751535  -0.91764679]\n",
      " bias: 2.916935292798769\n",
      "\n",
      "$\n",
      "Layer 2\n",
      "Neuron 0: weights:\n",
      "[-2.02007672 -0.50512119 -2.57814115  2.86715028]\n",
      " bias: 0.24030380962046127\n",
      "\n",
      "Neuron 1: weights:\n",
      "[ 0.05331849 -0.07359007 -1.85878072 -0.68105201]\n",
      " bias: -1.6031403625525982\n",
      "\n",
      "Neuron 2: weights:\n",
      "[-1.61506783 -2.04036866  2.13037449 -0.3956762 ]\n",
      " bias: 0.47315105868021945\n",
      "\n",
      "$\n",
      "\n"
     ]
    }
   ],
   "source": [
    "print(model)"
   ]
  }
 ],
 "metadata": {
  "kernelspec": {
   "display_name": "Python 3",
   "language": "python",
   "name": "python3"
  },
  "language_info": {
   "codemirror_mode": {
    "name": "ipython",
    "version": 3
   },
   "file_extension": ".py",
   "mimetype": "text/x-python",
   "name": "python",
   "nbconvert_exporter": "python",
   "pygments_lexer": "ipython3",
   "version": "3.6.10"
  }
 },
 "nbformat": 4,
 "nbformat_minor": 2
}
