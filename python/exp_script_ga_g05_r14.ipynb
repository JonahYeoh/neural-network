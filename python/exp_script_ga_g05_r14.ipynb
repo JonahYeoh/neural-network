{
 "cells": [
  {
   "cell_type": "code",
   "execution_count": 1,
   "metadata": {},
   "outputs": [],
   "source": [
    "# single"
   ]
  },
  {
   "cell_type": "code",
   "execution_count": 2,
   "metadata": {},
   "outputs": [],
   "source": [
    "# dependency\n",
    "import numpy as np\n",
    "import pandas as pd\n",
    "import copy\n",
    "import math\n",
    "import sys\n",
    "import os\n",
    "from activations import relu, leaky_relu, sigmoid, tanh, softmax, d_sigmoid, d_relu\n",
    "from initializers import glorot_uniform, random_normal, random_uniform\n",
    "from regularizers import l1_regularizer, l2_regularizer\n",
    "from utility import trim_tail, multiply, subtract, get_nparams, one_hot_encoding, get_data\n",
    "from metrics import MSE, CCE, ACC, PRECISION, RECALL, essential_metrics, wondering_penalty, close_gap_penalty\n",
    "from pso import PSO\n",
    "from ga import GA\n",
    "from nn import Network\n",
    "from layer import DenseLayer\n",
    "from scalers import MinMaxScaler, StandardScaler"
   ]
  },
  {
   "cell_type": "code",
   "execution_count": 3,
   "metadata": {},
   "outputs": [],
   "source": [
    "# reference\n",
    "metrics_fn_dict = dict()\n",
    "metrics_fn_dict['accuracy'] = ACC\n",
    "metrics_fn_dict['categorical_crossentropy'] = CCE\n",
    "metrics_fn_dict['mean_square_error'] = MSE\n",
    "metrics_fn_dict['precision'] = PRECISION\n",
    "metrics_fn_dict['recall'] = RECALL\n",
    "metrics_fn_dict['essential_metrics'] = essential_metrics"
   ]
  },
  {
   "cell_type": "code",
   "execution_count": 4,
   "metadata": {},
   "outputs": [],
   "source": [
    "# model\n",
    "model = Network(5, lr = None)\n",
    "model.add_layer(DenseLayer(1, 4, True, afn=sigmoid, dafn=None, rfn=None))\n",
    "model.add_layer(DenseLayer(2, 3, True, afn=softmax, dafn=None, rfn=None))"
   ]
  },
  {
   "cell_type": "code",
   "execution_count": 5,
   "metadata": {},
   "outputs": [],
   "source": [
    "# optimizer\n",
    "ga = GA(\n",
    "    dict(\n",
    "        m = 50,\n",
    "        x_rate = [0.5, 1.0],\n",
    "        m_rate = [0.5, 1.0],\n",
    "        weight_constraint = [-3.,3.],\n",
    "        radioactive_rating = [0.1, 0.5],\n",
    "        grow_factor = [0.1, 0.5],\n",
    "        scale_hyperparameter = False,\n",
    "        regularizer = None))"
   ]
  },
  {
   "cell_type": "code",
   "execution_count": 6,
   "metadata": {},
   "outputs": [
    {
     "name": "stdout",
     "output_type": "stream",
     "text": [
      "building layer 1 with 5\n",
      "24\n",
      "building layer 2 with 4\n",
      "15\n"
     ]
    }
   ],
   "source": [
    "model.compile(loss_fn = 'categorical_crossentropy', optimizer = ga, \\\n",
    "    metrics = ['accuracy', 'mean_square_error', 'categorical_crossentropy', 'precision', 'recall', 'f1'])"
   ]
  },
  {
   "cell_type": "code",
   "execution_count": 7,
   "metadata": {},
   "outputs": [
    {
     "name": "stdout",
     "output_type": "stream",
     "text": [
      "<class 'pandas.core.frame.DataFrame'>\n",
      "RangeIndex: 107 entries, 0 to 106\n",
      "Data columns (total 6 columns):\n",
      " #   Column  Non-Null Count  Dtype  \n",
      "---  ------  --------------  -----  \n",
      " 0   f1      107 non-null    float32\n",
      " 1   f2      107 non-null    float32\n",
      " 2   f3      107 non-null    float32\n",
      " 3   f4      107 non-null    float32\n",
      " 4   f5      107 non-null    float32\n",
      " 5   label   107 non-null    float32\n",
      "dtypes: float32(6)\n",
      "memory usage: 2.6 KB\n",
      "None\n",
      "<class 'pandas.core.frame.DataFrame'>\n",
      "RangeIndex: 108 entries, 0 to 107\n",
      "Data columns (total 6 columns):\n",
      " #   Column  Non-Null Count  Dtype  \n",
      "---  ------  --------------  -----  \n",
      " 0   f1      108 non-null    float32\n",
      " 1   f2      108 non-null    float32\n",
      " 2   f3      108 non-null    float32\n",
      " 3   f4      108 non-null    float32\n",
      " 4   f5      108 non-null    float32\n",
      " 5   label   108 non-null    float32\n",
      "dtypes: float32(6)\n",
      "memory usage: 2.7 KB\n",
      "None\n"
     ]
    }
   ],
   "source": [
    "# data loading\n",
    "DATA = os.path.join('c:\\\\Users\\\\tcumi\\\\github_repo\\\\neural-network\\\\', 'dataset')\n",
    "GROUP = 5\n",
    "COLUMNS = ['f1', 'f2', 'f3', 'f4', 'f5', 'label']\n",
    "N_CLASS = 3\n",
    "EPOCHS = 500\n",
    "train_dir, test_dir = \"..//dataset//training_data{}.txt\".format(GROUP), \"..//dataset//testing_data{}.txt\".format(GROUP)\n",
    "train, test = get_data(DATA, train_dir, COLUMNS), get_data(DATA, test_dir, COLUMNS)\n",
    "# shuffle\n",
    "train, test = train.sample(frac=1), test.sample(frac=1)\n",
    "x_train, y_train = train.drop('label', axis=1), train['label']\n",
    "x_test, y_test = test.drop('label', axis=1), test['label']"
   ]
  },
  {
   "cell_type": "code",
   "execution_count": 8,
   "metadata": {},
   "outputs": [],
   "source": [
    "# data scaling and encoding\n",
    "scaler = StandardScaler(['f1', 'f2', 'f3', 'f4', 'f5'])\n",
    "scaler.fit(x_train)\n",
    "x_train = scaler.transform(x_train)\n",
    "x_test = scaler.transform(x_test)\n",
    "y_train = one_hot_encoding(y_train, N_CLASS)\n",
    "y_test = one_hot_encoding(y_test, N_CLASS)"
   ]
  },
  {
   "cell_type": "code",
   "execution_count": 9,
   "metadata": {
    "scrolled": true,
    "tags": [
     "outputPrepend"
    ]
   },
   "outputs": [
    {
     "name": "stderr",
     "output_type": "stream",
     "text": [
      "C:\\Users\\tcumi\\github_repo\\neural-network\\python\\activations.py:14: RuntimeWarning: overflow encountered in exp\n",
      "  y = 1 / (1 + np.exp(-Xi))\n",
      "C:\\Users\\tcumi\\github_repo\\neural-network\\python\\ga.py:201: RuntimeWarning: overflow encountered in add\n",
      "  self.population.sort(key=lambda p: p.fitness + np.random.uniform(-shift, shift, 1), reverse = self.aim)\n"
     ]
    },
    {
     "name": "stdout",
     "output_type": "stream",
     "text": [
      "Checkpoint 100, Accuracy: 0.9382716049382716, Loss: 0.3141869792231807\n",
      "Checkpoint 200, Accuracy: 0.9444444444444444, Loss: 0.26108213707252786\n",
      "Checkpoint 300, Accuracy: 0.9444444444444444, Loss: 0.2200619556285717\n",
      "Checkpoint 400, Accuracy: 0.9629629629629629, Loss: 0.17249222154970523\n",
      "Checkpoint 500, Accuracy: 0.9629629629629629, Loss: 0.13513037893507215\n"
     ]
    }
   ],
   "source": [
    "# learning phase\n",
    "breakpoint = 100\n",
    "checkpoints = list()\n",
    "history = list()\n",
    "for century in range(0, EPOCHS, breakpoint):\n",
    "    sub_history = model.fit(x_train, y_train, breakpoint, verbose = 0)\n",
    "    score = model.evaluate(x_test, y_test, False, verbose = 0)\n",
    "    print('Checkpoint {}, Accuracy: {}, Loss: {}'.format(century+breakpoint, score['accuracy'], score[model.loss_fn]))\n",
    "    score['checkpoint'] = century + breakpoint\n",
    "    checkpoints.append(score)\n",
    "    history.extend(sub_history)\n",
    "    itr = century + breakpoint\n",
    "\n",
    "    model.optimizer.rr = model.optimizer.radioactive_rating[1] - (model.optimizer.radioactive_rating[1] - model.optimizer.radioactive_rating[0]) / EPOCHS * (EPOCHS - itr)\n",
    "    model.optimizer.gf = model.optimizer.grow_factor[1] - (model.optimizer.grow_factor[1] - model.optimizer.grow_factor[0]) / EPOCHS * (EPOCHS - itr)\n",
    "    model.optimizer.crossover_rate = model.optimizer.x_rate[1] - (model.optimizer.x_rate[1] - model.optimizer.x_rate[0]) / EPOCHS * (EPOCHS - itr)\n",
    "    model.optimizer.mutation_rate = model.optimizer.m_rate[0] + (model.optimizer.m_rate[1] - model.optimizer.m_rate[0]) / EPOCHS * (EPOCHS - itr)\n",
    "    "
   ]
  },
  {
   "cell_type": "code",
   "execution_count": 10,
   "metadata": {},
   "outputs": [],
   "source": [
    "import matplotlib.pyplot as plt\n",
    "\n",
    "def draw_plot(x, y_list, x_label=None, y_label=None, legend=None, title=None):\n",
    "    fig, ax = plt.subplots(figsize=(12,5))\n",
    "    for xi, yi in zip(x, y_list):\n",
    "        ax.plot(xi, yi)\n",
    "    if x_label is not None and y_label is not None:\n",
    "        ax.set(xlabel=x_label, ylabel=y_label, title='{} VS {}'.format(x_label, y_label))\n",
    "    if legend is not None:\n",
    "        ax.legend(legend)\n",
    "    ax.grid()\n",
    "    plt.show()"
   ]
  },
  {
   "cell_type": "code",
   "execution_count": 11,
   "metadata": {},
   "outputs": [
    {
     "name": "stdout",
     "output_type": "stream",
     "text": [
      "[0. 0. 1.] <-> [0.20724082 0.00094373 0.79181546]\n",
      "[1. 0. 0.] <-> [9.147633e-01 8.939699e-04 8.434269e-02]\n",
      "[1. 0. 0.] <-> [0.9741004  0.00107761 0.02482195]\n",
      "[1. 0. 0.] <-> [9.8242468e-01 9.2140876e-04 1.6653830e-02]\n",
      "[1. 0. 0.] <-> [9.181081e-01 8.815064e-04 8.101038e-02]\n",
      "[1. 0. 0.] <-> [0.97851485 0.00144949 0.02003565]\n",
      "[1. 0. 0.] <-> [9.8385620e-01 8.4874022e-04 1.5294956e-02]\n",
      "[1. 0. 0.] <-> [9.5442778e-01 6.9107657e-04 4.4881161e-02]\n",
      "[1. 0. 0.] <-> [0.98379654 0.001989   0.01421435]\n",
      "[1. 0. 0.] <-> [0.9807241  0.00165795 0.01761802]\n",
      "[0. 0. 1.] <-> [0.20499413 0.00094283 0.79406303]\n",
      "[0. 0. 1.] <-> [0.21030036 0.00095693 0.7887427 ]\n",
      "[1. 0. 0.] <-> [0.9784057  0.00167231 0.01992194]\n",
      "[1. 0. 0.] <-> [0.9803812  0.00167786 0.01794088]\n",
      "[1. 0. 0.] <-> [0.7137852  0.00143418 0.28478068]\n",
      "[1. 0. 0.] <-> [0.9620696  0.00102477 0.03690565]\n",
      "[0. 0. 1.] <-> [0.8627713  0.00119287 0.13603579]\n",
      "[1. 0. 0.] <-> [0.92673796 0.03620814 0.03705392]\n",
      "[1. 0. 0.] <-> [0.9837737  0.00255139 0.01367484]\n",
      "[0. 0. 1.] <-> [0.2153866  0.01095816 0.7736553 ]\n",
      "[1. 0. 0.] <-> [0.9458958  0.00989004 0.0442141 ]\n",
      "[1. 0. 0.] <-> [9.8153818e-01 6.4530061e-04 1.7816532e-02]\n",
      "[1. 0. 0.] <-> [0.9696092  0.00100817 0.02938265]\n",
      "[0. 1. 0.] <-> [0.00986335 0.9890372  0.00109939]\n",
      "[0. 1. 0.] <-> [7.972067e-03 9.911233e-01 9.047145e-04]\n",
      "[1. 0. 0.] <-> [0.9793498  0.00276838 0.01788189]\n",
      "[1. 0. 0.] <-> [9.8163718e-01 5.8697647e-04 1.7775796e-02]\n",
      "[0. 0. 1.] <-> [0.03142209 0.01317497 0.955403  ]\n",
      "[1. 0. 0.] <-> [0.9831451  0.00109598 0.01575894]\n",
      "[1. 0. 0.] <-> [9.6097970e-01 7.1582024e-04 3.8304400e-02]\n",
      "[1. 0. 0.] <-> [0.9675049  0.01167333 0.02082175]\n",
      "[1. 0. 0.] <-> [0.28388643 0.0167936  0.69931996]\n",
      "[1. 0. 0.] <-> [0.97112614 0.00187246 0.02700146]\n",
      "[1. 0. 0.] <-> [0.98193085 0.00337807 0.01469099]\n",
      "[1. 0. 0.] <-> [0.9749366  0.00372698 0.02133644]\n",
      "[0. 1. 0.] <-> [7.779732e-03 9.913352e-01 8.849849e-04]\n",
      "[0. 0. 1.] <-> [0.06461494 0.00574865 0.9296365 ]\n",
      "[1. 0. 0.] <-> [9.5311409e-01 7.5391628e-04 4.6132013e-02]\n",
      "[0. 0. 1.] <-> [0.03023217 0.01374757 0.95602024]\n",
      "[1. 0. 0.] <-> [9.8279899e-01 8.7497849e-04 1.6326107e-02]\n",
      "[0. 0. 1.] <-> [0.06378324 0.00528338 0.93093336]\n",
      "[1. 0. 0.] <-> [0.95794344 0.00359172 0.03846493]\n",
      "[1. 0. 0.] <-> [0.9383687  0.00213646 0.05949483]\n",
      "[0. 0. 1.] <-> [0.03019377 0.01373913 0.9560671 ]\n",
      "[1. 0. 0.] <-> [0.94402266 0.00689387 0.04908353]\n",
      "[0. 0. 1.] <-> [0.13912125 0.00177441 0.8591043 ]\n",
      "[1. 0. 0.] <-> [0.82682437 0.00109294 0.1720826 ]\n",
      "[1. 0. 0.] <-> [0.98407584 0.00110222 0.01482191]\n",
      "[1. 0. 0.] <-> [9.8177105e-01 7.4861624e-04 1.7480416e-02]\n",
      "[1. 0. 0.] <-> [9.747615e-01 6.852860e-04 2.455333e-02]\n",
      "[0. 0. 1.] <-> [0.03019494 0.01373941 0.95606565]\n",
      "[0. 0. 1.] <-> [0.03056042 0.01355432 0.95588523]\n",
      "[0. 1. 0.] <-> [0.21248029 0.7784612  0.00905847]\n",
      "[1. 0. 0.] <-> [0.9816305  0.00182821 0.01654134]\n",
      "[0. 1. 0.] <-> [0.8053534  0.1760567  0.01858986]\n",
      "[0. 1. 0.] <-> [0.0739587  0.9201839  0.00585731]\n",
      "[1. 0. 0.] <-> [9.5799255e-01 6.6531030e-04 4.1342072e-02]\n",
      "[1. 0. 0.] <-> [9.7490829e-01 6.6777744e-04 2.4423949e-02]\n",
      "[1. 0. 0.] <-> [0.97358704 0.00115676 0.02525616]\n",
      "[0. 1. 0.] <-> [7.7841775e-03 9.9133050e-01 8.8540156e-04]\n",
      "[1. 0. 0.] <-> [0.98148537 0.00272751 0.01578707]\n",
      "[0. 1. 0.] <-> [0.65440136 0.3222235  0.02337514]\n",
      "[1. 0. 0.] <-> [9.8283815e-01 8.9033641e-04 1.6271498e-02]\n",
      "[1. 0. 0.] <-> [0.98388785 0.00113442 0.01497772]\n",
      "[1. 0. 0.] <-> [0.983325   0.00144871 0.01522629]\n",
      "[1. 0. 0.] <-> [0.97816443 0.00432195 0.0175137 ]\n",
      "[0. 1. 0.] <-> [0.3379031  0.64905435 0.01304254]\n",
      "[1. 0. 0.] <-> [0.96151614 0.00403462 0.03444926]\n",
      "[1. 0. 0.] <-> [9.254879e-01 8.771719e-04 7.363494e-02]\n",
      "[0. 1. 0.] <-> [7.801977e-03 9.913111e-01 8.869688e-04]\n",
      "[0. 1. 0.] <-> [0.03490599 0.9621826  0.0029115 ]\n",
      "[1. 0. 0.] <-> [0.92266935 0.00228142 0.07504921]\n",
      "[1. 0. 0.] <-> [0.90210444 0.07113384 0.02676171]\n",
      "[1. 0. 0.] <-> [0.97522426 0.00243157 0.02234412]\n",
      "[1. 0. 0.] <-> [0.9801296  0.00099145 0.01887888]\n",
      "[0. 0. 1.] <-> [0.03059588 0.01352666 0.9558775 ]\n",
      "[1. 0. 0.] <-> [0.98153734 0.00150746 0.01695526]\n",
      "[1. 0. 0.] <-> [0.9509455  0.01462578 0.03442872]\n",
      "[0. 1. 0.] <-> [7.7893101e-03 9.9132502e-01 8.8574673e-04]\n",
      "[0. 1. 0.] <-> [7.781862e-03 9.913328e-01 8.852027e-04]\n",
      "[0. 0. 1.] <-> [0.8181365  0.00171691 0.18014657]\n",
      "[1. 0. 0.] <-> [0.9787208  0.00165981 0.01961945]\n",
      "[1. 0. 0.] <-> [0.9764024  0.00116148 0.02243606]\n",
      "[1. 0. 0.] <-> [0.9289208  0.04159525 0.02948402]\n",
      "[1. 0. 0.] <-> [9.7752863e-01 8.2186726e-04 2.1649510e-02]\n",
      "[1. 0. 0.] <-> [0.98102194 0.00160295 0.01737499]\n",
      "[1. 0. 0.] <-> [0.83434683 0.00110035 0.16455287]\n",
      "[0. 1. 0.] <-> [7.7862306e-03 9.9132818e-01 8.8558905e-04]\n",
      "[1. 0. 0.] <-> [9.5446014e-01 8.4886659e-04 4.4690929e-02]\n",
      "[1. 0. 0.] <-> [0.97615063 0.00423733 0.01961197]\n",
      "[1. 0. 0.] <-> [9.2537206e-01 9.2160306e-04 7.3706396e-02]\n",
      "[1. 0. 0.] <-> [0.9751497  0.00916197 0.01568835]\n",
      "[1. 0. 0.] <-> [0.9853114  0.00138784 0.01330072]\n",
      "[1. 0. 0.] <-> [0.89234585 0.00091158 0.10674259]\n",
      "[1. 0. 0.] <-> [9.8152643e-01 7.3596858e-04 1.7737554e-02]\n",
      "[1. 0. 0.] <-> [0.95621866 0.00096693 0.04281439]\n",
      "[0. 1. 0.] <-> [0.4968654  0.48167732 0.02145734]\n",
      "[1. 0. 0.] <-> [9.1999197e-01 8.7375264e-04 7.9134300e-02]\n",
      "[0. 1. 0.] <-> [0.20180087 0.7865043  0.01169476]\n",
      "[1. 0. 0.] <-> [0.96740216 0.00533086 0.02726704]\n",
      "[0. 1. 0.] <-> [0.01001142 0.98892236 0.00106622]\n",
      "[1. 0. 0.] <-> [0.98149776 0.00142706 0.01707511]\n",
      "[1. 0. 0.] <-> [0.97518104 0.00108628 0.02373266]\n",
      "[1. 0. 0.] <-> [0.9230894  0.00101126 0.07589937]\n",
      "[1. 0. 0.] <-> [9.8008966e-01 9.5126306e-04 1.8959006e-02]\n",
      "[1. 0. 0.] <-> [9.3772012e-01 7.6930481e-04 6.1510544e-02]\n",
      "[1. 0. 0.] <-> [9.5135266e-01 6.9006113e-04 4.7957260e-02]\n",
      "[1. 0. 0.] <-> [9.6473819e-01 7.8955590e-04 3.4472294e-02]\n",
      "{'accuracy': 0.9629629629629629, 'mean_square_error': 0.07367061736095, 'categorical_crossentropy': 0.13513037893507215, 'precision': 0.9444444444444444, 'recall': 0.9444444444444444, 'f1': 0.9444444444444444, 'essential_metrics': {0: {'tp_hit': 75, 'fp_hit': 5, 'tn_hit': 27, 'fn_hit': 1}, 1: {'tp_hit': 14, 'fp_hit': 0, 'tn_hit': 91, 'fn_hit': 3}, 2: {'tp_hit': 13, 'fp_hit': 1, 'tn_hit': 92, 'fn_hit': 2}}}\n"
     ]
    }
   ],
   "source": [
    "# recall phase\n",
    "score = model.evaluate(x_test, y_test, False)\n",
    "print(score)"
   ]
  },
  {
   "cell_type": "code",
   "execution_count": 12,
   "metadata": {},
   "outputs": [],
   "source": [
    "# Testing Performance"
   ]
  },
  {
   "cell_type": "code",
   "execution_count": 13,
   "metadata": {},
   "outputs": [
    {
     "data": {
      "image/png": "[encoded data removed]",
      "text/plain": [
       "<Figure size 864x360 with 1 Axes>"
      ]
     },
     "metadata": {
      "needs_background": "light"
     },
     "output_type": "display_data"
    },
    {
     "data": {
      "image/png": "[encoded data removed]",
      "text/plain": [
       "<Figure size 864x360 with 1 Axes>"
      ]
     },
     "metadata": {
      "needs_background": "light"
     },
     "output_type": "display_data"
    }
   ],
   "source": [
    "draw_plot(x = [[i for i in range(len(history))], [(i+1)*breakpoint for i in range(len(checkpoints))]], y_list = [history, [ ckp[model.loss_fn] for ckp in checkpoints ]], x_label = 'Epochs', \\\n",
    "    y_label = model.loss_fn, legend=['train', 'test'])\n",
    "acc = [ ckp['accuracy'] for ckp in checkpoints ]\n",
    "draw_plot(x = [[(i+1)*breakpoint for i in range(len(checkpoints))]], y_list = [acc], x_label = 'Checkpoints', \\\n",
    "    y_label = 'accuracy')"
   ]
  },
  {
   "cell_type": "code",
   "execution_count": 14,
   "metadata": {
    "scrolled": false
   },
   "outputs": [
    {
     "name": "stdout",
     "output_type": "stream",
     "text": [
      "{'accuracy': 0.9382716049382716, 'mean_square_error': 0.16102900762398656, 'categorical_crossentropy': 0.3141869792231807, 'precision': 0.9074074074074074, 'recall': 0.9074074074074074, 'f1': 0.9074074074074074, 'essential_metrics': {0: {'tp_hit': 75, 'fp_hit': 7, 'tn_hit': 25, 'fn_hit': 1}, 1: {'tp_hit': 14, 'fp_hit': 0, 'tn_hit': 91, 'fn_hit': 3}, 2: {'tp_hit': 9, 'fp_hit': 3, 'tn_hit': 90, 'fn_hit': 6}}, 'checkpoint': 100} \n",
      "\n",
      "\n",
      "{'accuracy': 0.9444444444444444, 'mean_square_error': 0.13583030247603464, 'categorical_crossentropy': 0.26108213707252786, 'precision': 0.9166666666666666, 'recall': 0.9166666666666666, 'f1': 0.9166666666666666, 'essential_metrics': {0: {'tp_hit': 75, 'fp_hit': 8, 'tn_hit': 24, 'fn_hit': 1}, 1: {'tp_hit': 13, 'fp_hit': 0, 'tn_hit': 91, 'fn_hit': 4}, 2: {'tp_hit': 11, 'fp_hit': 1, 'tn_hit': 92, 'fn_hit': 4}}, 'checkpoint': 200} \n",
      "\n",
      "\n",
      "{'accuracy': 0.9444444444444444, 'mean_square_error': 0.11785922661622629, 'categorical_crossentropy': 0.2200619556285717, 'precision': 0.9166666666666666, 'recall': 0.9166666666666666, 'f1': 0.9166666666666666, 'essential_metrics': {0: {'tp_hit': 74, 'fp_hit': 7, 'tn_hit': 25, 'fn_hit': 2}, 1: {'tp_hit': 13, 'fp_hit': 0, 'tn_hit': 91, 'fn_hit': 4}, 2: {'tp_hit': 12, 'fp_hit': 2, 'tn_hit': 91, 'fn_hit': 3}}, 'checkpoint': 300} \n",
      "\n",
      "\n",
      "{'accuracy': 0.9629629629629629, 'mean_square_error': 0.09287617298869506, 'categorical_crossentropy': 0.17249222154970523, 'precision': 0.9444444444444444, 'recall': 0.9444444444444444, 'f1': 0.9444444444444444, 'essential_metrics': {0: {'tp_hit': 75, 'fp_hit': 5, 'tn_hit': 27, 'fn_hit': 1}, 1: {'tp_hit': 14, 'fp_hit': 0, 'tn_hit': 91, 'fn_hit': 3}, 2: {'tp_hit': 13, 'fp_hit': 1, 'tn_hit': 92, 'fn_hit': 2}}, 'checkpoint': 400} \n",
      "\n",
      "\n",
      "{'accuracy': 0.9629629629629629, 'mean_square_error': 0.07367061736095, 'categorical_crossentropy': 0.13513037893507215, 'precision': 0.9444444444444444, 'recall': 0.9444444444444444, 'f1': 0.9444444444444444, 'essential_metrics': {0: {'tp_hit': 75, 'fp_hit': 5, 'tn_hit': 27, 'fn_hit': 1}, 1: {'tp_hit': 14, 'fp_hit': 0, 'tn_hit': 91, 'fn_hit': 3}, 2: {'tp_hit': 13, 'fp_hit': 1, 'tn_hit': 92, 'fn_hit': 2}}, 'checkpoint': 500} \n",
      "\n",
      "\n"
     ]
    }
   ],
   "source": [
    "for checkpoint in checkpoints:\n",
    "    print(checkpoint, '\\n\\n')"
   ]
  },
  {
   "cell_type": "code",
   "execution_count": 15,
   "metadata": {},
   "outputs": [
    {
     "name": "stdout",
     "output_type": "stream",
     "text": [
      "Layer 1\n",
      "Neuron 0: weights:\n",
      "[ 0.48472574 -1.6052755  -3.         -0.42227936  2.6390111 ]\n",
      " bias: 2.483565330505371\n",
      "\n",
      "Neuron 1: weights:\n",
      "[-1.400266    2.608748    0.93331456  1.8425976   2.7832267 ]\n",
      " bias: -0.23179885745048523\n",
      "\n",
      "Neuron 2: weights:\n",
      "[ 1.0850189  -2.7158144  -0.59929335  0.8387824   1.2830061 ]\n",
      " bias: -2.8340463638305664\n",
      "\n",
      "Neuron 3: weights:\n",
      "[ 1.3319279 -1.9809797 -1.3164961 -0.524813   2.4461286]\n",
      " bias: 2.5971481800079346\n",
      "\n",
      "$\n",
      "Layer 2\n",
      "Neuron 0: weights:\n",
      "[-0.18097262 -1.6059245  -3.          2.513925  ]\n",
      " bias: 1.6247999668121338\n",
      "\n",
      "Neuron 1: weights:\n",
      "[-3.          3.         -0.30198202 -3.        ]\n",
      " bias: 1.866437315940857\n",
      "\n",
      "Neuron 2: weights:\n",
      "[-0.29228538  0.4867742   3.          2.2541673 ]\n",
      " bias: -2.6416015625\n",
      "\n",
      "$\n",
      "\n"
     ]
    }
   ],
   "source": [
    "print(model)"
   ]
  }
 ],
 "metadata": {
  "kernelspec": {
   "display_name": "Python 3",
   "language": "python",
   "name": "python3"
  },
  "language_info": {
   "codemirror_mode": {
    "name": "ipython",
    "version": 3
   },
   "file_extension": ".py",
   "mimetype": "text/x-python",
   "name": "python",
   "nbconvert_exporter": "python",
   "pygments_lexer": "ipython3",
   "version": "3.6.10"
  }
 },
 "nbformat": 4,
 "nbformat_minor": 2
}
