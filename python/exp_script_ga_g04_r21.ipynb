{
 "cells": [
  {
   "cell_type": "code",
   "execution_count": 1,
   "metadata": {},
   "outputs": [],
   "source": [
    "# single"
   ]
  },
  {
   "cell_type": "code",
   "execution_count": 2,
   "metadata": {},
   "outputs": [],
   "source": [
    "# dependency\n",
    "import numpy as np\n",
    "import pandas as pd\n",
    "import copy\n",
    "import math\n",
    "import sys\n",
    "import os\n",
    "from activations import relu, leaky_relu, sigmoid, tanh, softmax, d_sigmoid, d_relu\n",
    "from initializers import glorot_uniform, random_normal, random_uniform\n",
    "from regularizers import l1_regularizer, l2_regularizer\n",
    "from utility import trim_tail, multiply, subtract, get_nparams, one_hot_encoding, get_data\n",
    "from metrics import MSE, CCE, ACC, PRECISION, RECALL, essential_metrics, wondering_penalty, close_gap_penalty\n",
    "from pso import PSO\n",
    "from ga import GA\n",
    "from nn import Network\n",
    "from layer import DenseLayer\n",
    "from scalers import MinMaxScaler, StandardScaler"
   ]
  },
  {
   "cell_type": "code",
   "execution_count": 3,
   "metadata": {},
   "outputs": [],
   "source": [
    "# reference\n",
    "metrics_fn_dict = dict()\n",
    "metrics_fn_dict['accuracy'] = ACC\n",
    "metrics_fn_dict['categorical_crossentropy'] = CCE\n",
    "metrics_fn_dict['mean_square_error'] = MSE\n",
    "metrics_fn_dict['precision'] = PRECISION\n",
    "metrics_fn_dict['recall'] = RECALL\n",
    "metrics_fn_dict['essential_metrics'] = essential_metrics"
   ]
  },
  {
   "cell_type": "code",
   "execution_count": 4,
   "metadata": {},
   "outputs": [],
   "source": [
    "# model\n",
    "model = Network(5, lr = None)\n",
    "model.add_layer(DenseLayer(1, 4, True, afn=sigmoid, dafn=None, rfn=None))\n",
    "model.add_layer(DenseLayer(2, 3, True, afn=softmax, dafn=None, rfn=None))"
   ]
  },
  {
   "cell_type": "code",
   "execution_count": 5,
   "metadata": {},
   "outputs": [],
   "source": [
    "# optimizer\n",
    "ga = GA(\n",
    "    dict(\n",
    "        m = 200,\n",
    "        x_rate = 0.5,\n",
    "        m_rate = 0.5,\n",
    "        weight_constraint = [-3.,3.],\n",
    "        radioactive_rating = 0.1,\n",
    "        grow_factor = 0.1,\n",
    "        scale_hyperparameter = False,\n",
    "        regularizer = None))"
   ]
  },
  {
   "cell_type": "code",
   "execution_count": 6,
   "metadata": {},
   "outputs": [
    {
     "name": "stdout",
     "output_type": "stream",
     "text": [
      "building layer 1 with 5\n",
      "24\n",
      "building layer 2 with 4\n",
      "15\n"
     ]
    }
   ],
   "source": [
    "model.compile(loss_fn = 'categorical_crossentropy', optimizer = ga, \\\n",
    "    metrics = ['accuracy', 'mean_square_error', 'categorical_crossentropy', 'precision', 'recall', 'f1'])"
   ]
  },
  {
   "cell_type": "code",
   "execution_count": 7,
   "metadata": {},
   "outputs": [
    {
     "name": "stdout",
     "output_type": "stream",
     "text": [
      "<class 'pandas.core.frame.DataFrame'>\n",
      "RangeIndex: 107 entries, 0 to 106\n",
      "Data columns (total 6 columns):\n",
      " #   Column  Non-Null Count  Dtype  \n",
      "---  ------  --------------  -----  \n",
      " 0   f1      107 non-null    float32\n",
      " 1   f2      107 non-null    float32\n",
      " 2   f3      107 non-null    float32\n",
      " 3   f4      107 non-null    float32\n",
      " 4   f5      107 non-null    float32\n",
      " 5   label   107 non-null    float32\n",
      "dtypes: float32(6)\n",
      "memory usage: 2.6 KB\n",
      "None\n",
      "<class 'pandas.core.frame.DataFrame'>\n",
      "RangeIndex: 108 entries, 0 to 107\n",
      "Data columns (total 6 columns):\n",
      " #   Column  Non-Null Count  Dtype  \n",
      "---  ------  --------------  -----  \n",
      " 0   f1      108 non-null    float32\n",
      " 1   f2      108 non-null    float32\n",
      " 2   f3      108 non-null    float32\n",
      " 3   f4      108 non-null    float32\n",
      " 4   f5      108 non-null    float32\n",
      " 5   label   108 non-null    float32\n",
      "dtypes: float32(6)\n",
      "memory usage: 2.7 KB\n",
      "None\n"
     ]
    }
   ],
   "source": [
    "# data loading\n",
    "DATA = os.path.join('c:\\\\Users\\\\tcumi\\\\github_repo\\\\neural-network\\\\', 'dataset')\n",
    "GROUP = 4\n",
    "COLUMNS = ['f1', 'f2', 'f3', 'f4', 'f5', 'label']\n",
    "N_CLASS = 3\n",
    "EPOCHS = 500\n",
    "train_dir, test_dir = \"..//dataset//training_data{}.txt\".format(GROUP), \"..//dataset//testing_data{}.txt\".format(GROUP)\n",
    "train, test = get_data(DATA, train_dir, COLUMNS), get_data(DATA, test_dir, COLUMNS)\n",
    "# shuffle\n",
    "train, test = train.sample(frac=1), test.sample(frac=1)\n",
    "x_train, y_train = train.drop('label', axis=1), train['label']\n",
    "x_test, y_test = test.drop('label', axis=1), test['label']"
   ]
  },
  {
   "cell_type": "code",
   "execution_count": 8,
   "metadata": {},
   "outputs": [],
   "source": [
    "# data scaling and encoding\n",
    "scaler = StandardScaler(['f1', 'f2', 'f3', 'f4', 'f5'])\n",
    "scaler.fit(x_train)\n",
    "x_train = scaler.transform(x_train)\n",
    "x_test = scaler.transform(x_test)\n",
    "y_train = one_hot_encoding(y_train, N_CLASS)\n",
    "y_test = one_hot_encoding(y_test, N_CLASS)"
   ]
  },
  {
   "cell_type": "code",
   "execution_count": 9,
   "metadata": {
    "scrolled": true,
    "tags": [
     "outputPrepend"
    ]
   },
   "outputs": [
    {
     "name": "stderr",
     "output_type": "stream",
     "text": [
      "C:\\Users\\tcumi\\github_repo\\neural-network\\python\\ga.py:201: RuntimeWarning: overflow encountered in add\n",
      "  self.population.sort(key=lambda p: p.fitness + np.random.uniform(-shift, shift, 1), reverse = self.aim)\n"
     ]
    },
    {
     "name": "stdout",
     "output_type": "stream",
     "text": [
      "Checkpoint 100, Accuracy: 0.9506172839506173, Loss: 0.2657450393394188\n",
      "Checkpoint 200, Accuracy: 0.9567901234567902, Loss: 0.23355240292019314\n",
      "Checkpoint 300, Accuracy: 0.9567901234567902, Loss: 0.21520687032628943\n",
      "Checkpoint 400, Accuracy: 0.9567901234567902, Loss: 0.19205474853515625\n",
      "Checkpoint 500, Accuracy: 0.9506172839506173, Loss: 0.18000819947984484\n"
     ]
    }
   ],
   "source": [
    "# learning phase\n",
    "breakpoint = 100\n",
    "checkpoints = list()\n",
    "history = list()\n",
    "for century in range(0, EPOCHS, breakpoint):\n",
    "    sub_history = model.fit(x_train, y_train, breakpoint, verbose = 0)\n",
    "    score = model.evaluate(x_test, y_test, False, verbose = 0)\n",
    "    print('Checkpoint {}, Accuracy: {}, Loss: {}'.format(century+breakpoint, score['accuracy'], score[model.loss_fn]))\n",
    "    score['checkpoint'] = century + breakpoint\n",
    "    checkpoints.append(score)\n",
    "    history.extend(sub_history)\n",
    "    "
   ]
  },
  {
   "cell_type": "code",
   "execution_count": 10,
   "metadata": {},
   "outputs": [],
   "source": [
    "import matplotlib.pyplot as plt\n",
    "\n",
    "def draw_plot(x, y_list, x_label=None, y_label=None, legend=None, title=None):\n",
    "    fig, ax = plt.subplots(figsize=(12,5))\n",
    "    for xi, yi in zip(x, y_list):\n",
    "        ax.plot(xi, yi)\n",
    "    if x_label is not None and y_label is not None:\n",
    "        ax.set(xlabel=x_label, ylabel=y_label, title='{} VS {}'.format(x_label, y_label))\n",
    "    if legend is not None:\n",
    "        ax.legend(legend)\n",
    "    ax.grid()\n",
    "    plt.show()"
   ]
  },
  {
   "cell_type": "code",
   "execution_count": 11,
   "metadata": {},
   "outputs": [
    {
     "name": "stdout",
     "output_type": "stream",
     "text": [
      "[1. 0. 0.] <-> [0.9698139  0.00640254 0.02378358]\n",
      "[0. 1. 0.] <-> [1.4062786e-01 8.5882127e-01 5.5090577e-04]\n",
      "[1. 0. 0.] <-> [0.97817993 0.00751947 0.01430058]\n",
      "[1. 0. 0.] <-> [0.94921    0.00473018 0.04605984]\n",
      "[1. 0. 0.] <-> [0.97195035 0.00887311 0.01917651]\n",
      "[1. 0. 0.] <-> [0.97015476 0.01863723 0.01120805]\n",
      "[0. 1. 0.] <-> [5.2942693e-02 9.4687551e-01 1.8175405e-04]\n",
      "[1. 0. 0.] <-> [0.92016643 0.00438271 0.07545083]\n",
      "[1. 0. 0.] <-> [0.97053075 0.01336045 0.01610874]\n",
      "[0. 0. 1.] <-> [0.09623813 0.0035959  0.900166  ]\n",
      "[1. 0. 0.] <-> [0.7258564  0.2678576  0.00628598]\n",
      "[1. 0. 0.] <-> [0.9268318  0.00205893 0.07110935]\n",
      "[1. 0. 0.] <-> [0.9649258  0.00370371 0.0313705 ]\n",
      "[1. 0. 0.] <-> [0.95719    0.03344667 0.00936339]\n",
      "[1. 0. 0.] <-> [0.97792506 0.00819301 0.01388195]\n",
      "[1. 0. 0.] <-> [0.9696904  0.01768805 0.01262156]\n",
      "[1. 0. 0.] <-> [0.90359867 0.00129205 0.09510923]\n",
      "[0. 1. 0.] <-> [2.2487644e-02 9.7730356e-01 2.0874744e-04]\n",
      "[1. 0. 0.] <-> [0.90587217 0.08832531 0.0058025 ]\n",
      "[0. 0. 1.] <-> [0.9392603  0.01068541 0.05005427]\n",
      "[1. 0. 0.] <-> [0.95362747 0.03547004 0.01090248]\n",
      "[0. 1. 0.] <-> [3.3855956e-02 9.6588701e-01 2.5702166e-04]\n",
      "[0. 1. 0.] <-> [3.7367024e-02 9.6241283e-01 2.2011031e-04]\n",
      "[0. 0. 1.] <-> [0.05354489 0.00369646 0.9427586 ]\n",
      "[1. 0. 0.] <-> [0.88539624 0.10899626 0.00560751]\n",
      "[1. 0. 0.] <-> [0.97256315 0.01399642 0.01344037]\n",
      "[1. 0. 0.] <-> [0.92979145 0.01275388 0.05745472]\n",
      "[1. 0. 0.] <-> [0.95505804 0.02921561 0.01572637]\n",
      "[1. 0. 0.] <-> [0.6559578  0.34024566 0.00379649]\n",
      "[0. 0. 1.] <-> [0.05283639 0.0036806  0.943483  ]\n",
      "[1. 0. 0.] <-> [0.9476546  0.04173806 0.0106074 ]\n",
      "[1. 0. 0.] <-> [0.94358    0.00349267 0.05292731]\n",
      "[1. 0. 0.] <-> [0.957382   0.01169108 0.03092682]\n",
      "[1. 0. 0.] <-> [0.9092604  0.08421133 0.00652828]\n",
      "[0. 1. 0.] <-> [0.13848686 0.8601145  0.00139868]\n",
      "[0. 1. 0.] <-> [1.8706635e-01 8.1218588e-01 7.4783823e-04]\n",
      "[0. 1. 0.] <-> [4.7993590e-03 9.9498534e-01 2.1526325e-04]\n",
      "[1. 0. 0.] <-> [0.8388693  0.00951375 0.15161699]\n",
      "[1. 0. 0.] <-> [0.47875905 0.5188191  0.00242186]\n",
      "[1. 0. 0.] <-> [0.8710737  0.10697364 0.02195266]\n",
      "[0. 0. 1.] <-> [0.8461713  0.00158795 0.15224078]\n",
      "[1. 0. 0.] <-> [0.9318906  0.05855893 0.00955049]\n",
      "[1. 0. 0.] <-> [0.9408635  0.00244202 0.05669451]\n",
      "[0. 1. 0.] <-> [4.9939128e-03 9.9479192e-01 2.1419229e-04]\n",
      "[1. 0. 0.] <-> [0.90738165 0.08544417 0.0071742 ]\n",
      "[0. 0. 1.] <-> [0.67266667 0.00149424 0.3258391 ]\n",
      "[1. 0. 0.] <-> [0.94821984 0.03426818 0.017512  ]\n",
      "[1. 0. 0.] <-> [0.96456313 0.02084797 0.01458886]\n",
      "[1. 0. 0.] <-> [0.9663793  0.00523893 0.02838182]\n",
      "[1. 0. 0.] <-> [0.94192916 0.04452495 0.01354588]\n",
      "[0. 0. 1.] <-> [0.07377531 0.003643   0.9225817 ]\n",
      "[1. 0. 0.] <-> [0.8974543  0.09554163 0.00700413]\n",
      "[0. 0. 1.] <-> [0.05235333 0.00366853 0.94397813]\n",
      "[1. 0. 0.] <-> [0.9703635  0.01241559 0.017221  ]\n",
      "[0. 1. 0.] <-> [0.25809535 0.74037194 0.00153272]\n",
      "[1. 0. 0.] <-> [0.9556715  0.03396681 0.0103617 ]\n",
      "[1. 0. 0.] <-> [0.8312413  0.16401358 0.00474515]\n",
      "[1. 0. 0.] <-> [0.84231335 0.14199202 0.01569466]\n",
      "[1. 0. 0.] <-> [0.9604388  0.02909457 0.01046659]\n",
      "[1. 0. 0.] <-> [0.9758326  0.00645463 0.01771286]\n",
      "[1. 0. 0.] <-> [0.9729317  0.00607924 0.02098907]\n",
      "[1. 0. 0.] <-> [0.6468538  0.34884885 0.00429735]\n",
      "[0. 0. 1.] <-> [0.18679385 0.0041293  0.8090769 ]\n",
      "[1. 0. 0.] <-> [0.9752548  0.01141354 0.01333174]\n",
      "[1. 0. 0.] <-> [0.97081167 0.01848638 0.01070198]\n",
      "[1. 0. 0.] <-> [0.968329   0.01966472 0.01200631]\n",
      "[1. 0. 0.] <-> [0.9475973  0.00225507 0.05014766]\n",
      "[1. 0. 0.] <-> [0.9598421  0.0056544  0.03450358]\n",
      "[1. 0. 0.] <-> [0.9592462  0.00476893 0.03598496]\n",
      "[0. 1. 0.] <-> [8.5870281e-02 9.1361618e-01 5.1354355e-04]\n",
      "[1. 0. 0.] <-> [0.9027088  0.00270633 0.09458485]\n",
      "[1. 0. 0.] <-> [0.95285773 0.00684848 0.04029386]\n",
      "[1. 0. 0.] <-> [0.95128757 0.04098811 0.00772434]\n",
      "[0. 0. 1.] <-> [0.6345573  0.02831618 0.33712655]\n",
      "[1. 0. 0.] <-> [0.9491685  0.00603542 0.04479608]\n",
      "[1. 0. 0.] <-> [0.9706358  0.01970613 0.00965814]\n",
      "[0. 1. 0.] <-> [0.19543475 0.8037245  0.00084075]\n",
      "[1. 0. 0.] <-> [0.9573086  0.01584645 0.02684496]\n",
      "[1. 0. 0.] <-> [0.9540264  0.02307358 0.02290006]\n",
      "[1. 0. 0.] <-> [0.9621968  0.02548092 0.01232228]\n",
      "[1. 0. 0.] <-> [0.8632589  0.00128213 0.13545899]\n",
      "[1. 0. 0.] <-> [0.9624241  0.00448888 0.033087  ]\n",
      "[0. 1. 0.] <-> [0.5207774  0.47646505 0.00275753]\n",
      "[0. 1. 0.] <-> [3.6797117e-02 9.6301490e-01 1.8801747e-04]\n",
      "[1. 0. 0.] <-> [0.9068515  0.03641512 0.05673346]\n",
      "[0. 1. 0.] <-> [0.28807074 0.71058506 0.00134425]\n",
      "[1. 0. 0.] <-> [0.95550317 0.02131841 0.02317838]\n",
      "[1. 0. 0.] <-> [0.96818763 0.02304652 0.00876579]\n",
      "[0. 0. 1.] <-> [0.6424295  0.00264494 0.35492554]\n",
      "[1. 0. 0.] <-> [0.9716508  0.0093107  0.01903845]\n",
      "[1. 0. 0.] <-> [0.67277753 0.00631615 0.32090628]\n",
      "[1. 0. 0.] <-> [0.9645689  0.02421974 0.01121131]\n",
      "[1. 0. 0.] <-> [0.75948256 0.23501658 0.00550085]\n",
      "[1. 0. 0.] <-> [0.8955849  0.00137479 0.10304032]\n",
      "[0. 1. 0.] <-> [1.8302005e-02 9.8149765e-01 2.0034752e-04]\n",
      "[1. 0. 0.] <-> [0.7242022  0.27109832 0.00469943]\n",
      "[1. 0. 0.] <-> [0.95507747 0.00380546 0.04111701]\n",
      "[1. 0. 0.] <-> [0.9572093  0.03631877 0.00647195]\n",
      "[1. 0. 0.] <-> [0.37626517 0.62144    0.0022948 ]\n",
      "[1. 0. 0.] <-> [0.97502553 0.01455596 0.0104185 ]\n",
      "[1. 0. 0.] <-> [0.9491962  0.03263859 0.0181652 ]\n",
      "[1. 0. 0.] <-> [0.89957947 0.00182642 0.09859414]\n",
      "[0. 0. 1.] <-> [0.09867919 0.00357776 0.89774305]\n",
      "[1. 0. 0.] <-> [0.95858335 0.02643504 0.01498167]\n",
      "[1. 0. 0.] <-> [0.93528557 0.05828668 0.00642781]\n",
      "[0. 0. 1.] <-> [0.05244684 0.00363454 0.94391865]\n",
      "[0. 0. 1.] <-> [0.06131411 0.00363585 0.9350501 ]\n",
      "[1. 0. 0.] <-> [0.9561972  0.00502391 0.03877889]\n",
      "{'accuracy': 0.9506172839506173, 'mean_square_error': 0.09306236676079482, 'categorical_crossentropy': 0.18000819947984484, 'precision': 0.9259259259259259, 'recall': 0.9259259259259259, 'f1': 0.9259259259259259, 'essential_metrics': {0: {'tp_hit': 76, 'fp_hit': 6, 'tn_hit': 24, 'fn_hit': 2}, 1: {'tp_hit': 15, 'fp_hit': 2, 'tn_hit': 90, 'fn_hit': 1}, 2: {'tp_hit': 9, 'fp_hit': 0, 'tn_hit': 94, 'fn_hit': 5}}}\n"
     ]
    }
   ],
   "source": [
    "# recall phase\n",
    "score = model.evaluate(x_test, y_test, False)\n",
    "print(score)"
   ]
  },
  {
   "cell_type": "code",
   "execution_count": 12,
   "metadata": {},
   "outputs": [],
   "source": [
    "# Testing Performance"
   ]
  },
  {
   "cell_type": "code",
   "execution_count": 13,
   "metadata": {},
   "outputs": [
    {
     "data": {
      "image/png": "[encoded data removed]",
      "text/plain": [
       "<Figure size 864x360 with 1 Axes>"
      ]
     },
     "metadata": {
      "needs_background": "light"
     },
     "output_type": "display_data"
    },
    {
     "data": {
      "image/png": "[encoded data removed]",
      "text/plain": [
       "<Figure size 864x360 with 1 Axes>"
      ]
     },
     "metadata": {
      "needs_background": "light"
     },
     "output_type": "display_data"
    }
   ],
   "source": [
    "draw_plot(x = [[i for i in range(len(history))], [(i+1)*breakpoint for i in range(len(checkpoints))]], y_list = [history, [ ckp[model.loss_fn] for ckp in checkpoints ]], x_label = 'Epochs', \\\n",
    "    y_label = model.loss_fn, legend=['train', 'test'])\n",
    "acc = [ ckp['accuracy'] for ckp in checkpoints ]\n",
    "draw_plot(x = [[(i+1)*breakpoint for i in range(len(checkpoints))]], y_list = [acc], x_label = 'Checkpoints', \\\n",
    "    y_label = 'accuracy')"
   ]
  },
  {
   "cell_type": "code",
   "execution_count": 14,
   "metadata": {
    "scrolled": false
   },
   "outputs": [
    {
     "name": "stdout",
     "output_type": "stream",
     "text": [
      "{'accuracy': 0.9506172839506173, 'mean_square_error': 0.1347814826799283, 'categorical_crossentropy': 0.2657450393394188, 'precision': 0.9259259259259259, 'recall': 0.9259259259259259, 'f1': 0.9259259259259259, 'essential_metrics': {0: {'tp_hit': 78, 'fp_hit': 8, 'tn_hit': 22, 'fn_hit': 0}, 1: {'tp_hit': 13, 'fp_hit': 0, 'tn_hit': 92, 'fn_hit': 3}, 2: {'tp_hit': 9, 'fp_hit': 0, 'tn_hit': 94, 'fn_hit': 5}}, 'checkpoint': 100} \n",
      "\n",
      "\n",
      "{'accuracy': 0.9567901234567902, 'mean_square_error': 0.11573750547701699, 'categorical_crossentropy': 0.23355240292019314, 'precision': 0.9351851851851852, 'recall': 0.9351851851851852, 'f1': 0.9351851851851852, 'essential_metrics': {0: {'tp_hit': 77, 'fp_hit': 6, 'tn_hit': 24, 'fn_hit': 1}, 1: {'tp_hit': 15, 'fp_hit': 1, 'tn_hit': 91, 'fn_hit': 1}, 2: {'tp_hit': 9, 'fp_hit': 0, 'tn_hit': 94, 'fn_hit': 5}}, 'checkpoint': 200} \n",
      "\n",
      "\n",
      "{'accuracy': 0.9567901234567902, 'mean_square_error': 0.10872804642887637, 'categorical_crossentropy': 0.21520687032628943, 'precision': 0.9351851851851852, 'recall': 0.9351851851851852, 'f1': 0.9351851851851852, 'essential_metrics': {0: {'tp_hit': 77, 'fp_hit': 6, 'tn_hit': 24, 'fn_hit': 1}, 1: {'tp_hit': 15, 'fp_hit': 1, 'tn_hit': 91, 'fn_hit': 1}, 2: {'tp_hit': 9, 'fp_hit': 0, 'tn_hit': 94, 'fn_hit': 5}}, 'checkpoint': 300} \n",
      "\n",
      "\n",
      "{'accuracy': 0.9567901234567902, 'mean_square_error': 0.0975217403559313, 'categorical_crossentropy': 0.19205474853515625, 'precision': 0.9351851851851852, 'recall': 0.9351851851851852, 'f1': 0.9351851851851852, 'essential_metrics': {0: {'tp_hit': 77, 'fp_hit': 6, 'tn_hit': 24, 'fn_hit': 1}, 1: {'tp_hit': 15, 'fp_hit': 1, 'tn_hit': 91, 'fn_hit': 1}, 2: {'tp_hit': 9, 'fp_hit': 0, 'tn_hit': 94, 'fn_hit': 5}}, 'checkpoint': 400} \n",
      "\n",
      "\n",
      "{'accuracy': 0.9506172839506173, 'mean_square_error': 0.09306236676079482, 'categorical_crossentropy': 0.18000819947984484, 'precision': 0.9259259259259259, 'recall': 0.9259259259259259, 'f1': 0.9259259259259259, 'essential_metrics': {0: {'tp_hit': 76, 'fp_hit': 6, 'tn_hit': 24, 'fn_hit': 2}, 1: {'tp_hit': 15, 'fp_hit': 2, 'tn_hit': 90, 'fn_hit': 1}, 2: {'tp_hit': 9, 'fp_hit': 0, 'tn_hit': 94, 'fn_hit': 5}}, 'checkpoint': 500} \n",
      "\n",
      "\n"
     ]
    }
   ],
   "source": [
    "for checkpoint in checkpoints:\n",
    "    print(checkpoint, '\\n\\n')"
   ]
  },
  {
   "cell_type": "code",
   "execution_count": 15,
   "metadata": {},
   "outputs": [
    {
     "name": "stdout",
     "output_type": "stream",
     "text": [
      "Layer 1\n",
      "Neuron 0: weights:\n",
      "[ 0.41949657  1.5529314  -1.7128295  -2.94855    -1.4998025 ]\n",
      " bias: 1.0060365200042725\n",
      "\n",
      "Neuron 1: weights:\n",
      "[-0.40593225  1.8685296   1.4653482  -0.95341176 -1.044824  ]\n",
      " bias: -2.169931411743164\n",
      "\n",
      "Neuron 2: weights:\n",
      "[ 2.1350312  -0.8812872  -2.8844244   2.817946    0.68140465]\n",
      " bias: -0.7934668064117432\n",
      "\n",
      "Neuron 3: weights:\n",
      "[ 1.5375109  -2.8150864   0.01605911 -1.4755673   1.2357814 ]\n",
      " bias: 0.863669216632843\n",
      "\n",
      "$\n",
      "Layer 2\n",
      "Neuron 0: weights:\n",
      "[ 1.8650656 -2.4734032 -0.911132   2.540994 ]\n",
      " bias: -1.7541152238845825\n",
      "\n",
      "Neuron 1: weights:\n",
      "[-2.7458038  1.8615763 -2.879493  -1.2411191]\n",
      " bias: 1.3266853094100952\n",
      "\n",
      "Neuron 2: weights:\n",
      "[-2.9685743 -2.9313707  2.9755158  2.012667 ]\n",
      " bias: -2.221513271331787\n",
      "\n",
      "$\n",
      "\n"
     ]
    }
   ],
   "source": [
    "print(model)"
   ]
  }
 ],
 "metadata": {
  "kernelspec": {
   "display_name": "Python 3",
   "language": "python",
   "name": "python3"
  },
  "language_info": {
   "codemirror_mode": {
    "name": "ipython",
    "version": 3
   },
   "file_extension": ".py",
   "mimetype": "text/x-python",
   "name": "python",
   "nbconvert_exporter": "python",
   "pygments_lexer": "ipython3",
   "version": "3.6.10"
  }
 },
 "nbformat": 4,
 "nbformat_minor": 2
}
