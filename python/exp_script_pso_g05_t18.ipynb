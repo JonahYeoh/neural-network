{
 "cells": [
  {
   "cell_type": "code",
   "execution_count": 1,
   "metadata": {},
   "outputs": [],
   "source": [
    "# dependency\n",
    "import numpy as np\n",
    "import pandas as pd\n",
    "import copy\n",
    "import math\n",
    "import sys\n",
    "import os\n",
    "from activations import relu, leaky_relu, sigmoid, tanh, softmax, d_sigmoid, d_relu\n",
    "from initializers import glorot_uniform, random_normal, random_uniform\n",
    "from regularizers import l1_regularizer, l2_regularizer\n",
    "from utility import trim_tail, multiply, subtract, get_nparams, one_hot_encoding, get_data\n",
    "from metrics import MSE, CCE, ACC, PRECISION, RECALL, essential_metrics, wondering_penalty, close_gap_penalty\n",
    "from pso import PSO\n",
    "from ga import GA\n",
    "from nn import Network\n",
    "from layer import DenseLayer\n",
    "from scalers import MinMaxScaler, StandardScaler"
   ]
  },
  {
   "cell_type": "code",
   "execution_count": 2,
   "metadata": {},
   "outputs": [],
   "source": [
    "# reference\n",
    "metrics_fn_dict = dict()\n",
    "metrics_fn_dict['accuracy'] = ACC\n",
    "metrics_fn_dict['categorical_crossentropy'] = CCE\n",
    "metrics_fn_dict['mean_square_error'] = MSE\n",
    "metrics_fn_dict['precision'] = PRECISION\n",
    "metrics_fn_dict['recall'] = RECALL\n",
    "metrics_fn_dict['essential_metrics'] = essential_metrics"
   ]
  },
  {
   "cell_type": "code",
   "execution_count": 3,
   "metadata": {},
   "outputs": [],
   "source": [
    "# model\n",
    "model = Network(5, lr = None)\n",
    "model.add_layer(DenseLayer(1, 4, True, afn=sigmoid, dafn=None, rfn=None))\n",
    "model.add_layer(DenseLayer(2, 3, True, afn=softmax, dafn=None, rfn=None))"
   ]
  },
  {
   "cell_type": "code",
   "execution_count": 4,
   "metadata": {},
   "outputs": [
    {
     "name": "stdout",
     "output_type": "stream",
     "text": [
      "see one see two 2 0.5\n"
     ]
    }
   ],
   "source": [
    "pso = PSO(dict(m = 50,\n",
    "    weight_constraint = [-3, 3], \n",
    "    velocity_constraint = [-0.1, 0.1],\n",
    "    c1 = [0.5, 2],\n",
    "    c2 = [0.5, 2],\n",
    "    w = [0.5, 1.6],\n",
    "    w_decay = 0.95,\n",
    "    scale_hyperparameter = False,\n",
    "    regularizer = None,\n",
    "    mask = True))"
   ]
  },
  {
   "cell_type": "code",
   "execution_count": 5,
   "metadata": {},
   "outputs": [
    {
     "name": "stdout",
     "output_type": "stream",
     "text": [
      "building layer 1 with 5\n",
      "24\n",
      "building layer 2 with 4\n",
      "15\n"
     ]
    }
   ],
   "source": [
    "model.compile(loss_fn = 'categorical_crossentropy', optimizer = pso, \\\n",
    "    metrics = ['accuracy', 'mean_square_error', 'categorical_crossentropy'])"
   ]
  },
  {
   "cell_type": "code",
   "execution_count": 6,
   "metadata": {},
   "outputs": [
    {
     "name": "stdout",
     "output_type": "stream",
     "text": [
      "<class 'pandas.core.frame.DataFrame'>\n",
      "RangeIndex: 107 entries, 0 to 106\n",
      "Data columns (total 6 columns):\n",
      " #   Column  Non-Null Count  Dtype  \n",
      "---  ------  --------------  -----  \n",
      " 0   f1      107 non-null    float32\n",
      " 1   f2      107 non-null    float32\n",
      " 2   f3      107 non-null    float32\n",
      " 3   f4      107 non-null    float32\n",
      " 4   f5      107 non-null    float32\n",
      " 5   label   107 non-null    float32\n",
      "dtypes: float32(6)\n",
      "memory usage: 2.6 KB\n",
      "None\n",
      "<class 'pandas.core.frame.DataFrame'>\n",
      "RangeIndex: 108 entries, 0 to 107\n",
      "Data columns (total 6 columns):\n",
      " #   Column  Non-Null Count  Dtype  \n",
      "---  ------  --------------  -----  \n",
      " 0   f1      108 non-null    float32\n",
      " 1   f2      108 non-null    float32\n",
      " 2   f3      108 non-null    float32\n",
      " 3   f4      108 non-null    float32\n",
      " 4   f5      108 non-null    float32\n",
      " 5   label   108 non-null    float32\n",
      "dtypes: float32(6)\n",
      "memory usage: 2.7 KB\n",
      "None\n"
     ]
    }
   ],
   "source": [
    "# data loading\n",
    "DATA = os.path.join('c:\\\\Users\\\\tcumi\\\\github_repo\\\\neural-network\\\\', 'dataset')\n",
    "GROUP = 5\n",
    "COLUMNS = ['f1', 'f2', 'f3', 'f4', 'f5', 'label']\n",
    "N_CLASS = 3\n",
    "EPOCHS = 500\n",
    "train_dir, test_dir = \"..//dataset//training_data{}.txt\".format(GROUP), \"..//dataset//testing_data{}.txt\".format(GROUP)\n",
    "train, test = get_data(DATA, train_dir, COLUMNS), get_data(DATA, test_dir, COLUMNS)\n",
    "# shuffle\n",
    "train, test = train.sample(frac=1), test.sample(frac=1)\n",
    "x_train, y_train = train.drop('label', axis=1), train['label']\n",
    "x_test, y_test = test.drop('label', axis=1), test['label']"
   ]
  },
  {
   "cell_type": "code",
   "execution_count": 7,
   "metadata": {},
   "outputs": [],
   "source": [
    "# data scaling and encoding\n",
    "scaler = StandardScaler(['f1', 'f2', 'f3', 'f4', 'f5'])\n",
    "scaler.fit(x_train)\n",
    "x_train = scaler.transform(x_train)\n",
    "x_test = scaler.transform(x_test)\n",
    "y_train = one_hot_encoding(y_train, N_CLASS)\n",
    "y_test = one_hot_encoding(y_test, N_CLASS)"
   ]
  },
  {
   "cell_type": "code",
   "execution_count": 8,
   "metadata": {
    "tags": [
     "outputPrepend"
    ]
   },
   "outputs": [
    {
     "name": "stdout",
     "output_type": "stream",
     "text": [
      "Checkpoint 100, Accuracy: 0.9444444444444444, Loss: 0.19383557637532553\n",
      "Checkpoint 200, Accuracy: 0.9691358024691358, Loss: 0.11876266090958207\n",
      "Checkpoint 300, Accuracy: 0.9629629629629629, Loss: 0.10676155266938386\n",
      "Checkpoint 400, Accuracy: 0.9691358024691358, Loss: 0.11473395206310132\n",
      "Checkpoint 500, Accuracy: 0.9691358024691358, Loss: 0.11251286224082664\n"
     ]
    }
   ],
   "source": [
    "# learning phase\n",
    "breakpoint = 100\n",
    "checkpoints = list()\n",
    "history = list()\n",
    "for century in range(0, EPOCHS, breakpoint):\n",
    "    sub_history = model.fit(x_train, y_train, breakpoint, verbose = 0)\n",
    "    score = model.evaluate(x_test, y_test, False, verbose = 0)\n",
    "    print('Checkpoint {}, Accuracy: {}, Loss: {}'.format(century+breakpoint, score['accuracy'], score[model.loss_fn]))\n",
    "    score['checkpoint'] = century + breakpoint\n",
    "    checkpoints.append(score)\n",
    "    history.extend(sub_history)\n",
    "    itr = century + breakpoint\n",
    "    model.optimizer.c2 = np.max([model.optimizer.C2[1] - ((model.optimizer.C2[1] - model.optimizer.C2[0]) * itr / EPOCHS), model.optimizer.C2[0]])\n",
    "    model.optimizer.c1 = np.min([model.optimizer.C1[0] + ((model.optimizer.C1[1] - model.optimizer.C1[0]) * itr / EPOCHS), model.optimizer.C1[1]])\n",
    "    model.optimizer.w = np.max([model.optimizer.w * model.optimizer.W_Decay, model.optimizer.W[0]])"
   ]
  },
  {
   "cell_type": "code",
   "execution_count": 9,
   "metadata": {},
   "outputs": [],
   "source": [
    "import matplotlib.pyplot as plt\n",
    "\n",
    "def draw_plot(x, y_list, x_label=None, y_label=None, legend=None, title=None):\n",
    "    fig, ax = plt.subplots(figsize=(12,5))\n",
    "    for xi, yi in zip(x, y_list):\n",
    "        ax.plot(xi, yi)\n",
    "    if x_label is not None and y_label is not None:\n",
    "        ax.set(xlabel=x_label, ylabel=y_label, title='{} VS {}'.format(x_label, y_label))\n",
    "    if legend is not None:\n",
    "        ax.legend(legend)\n",
    "    ax.grid()\n",
    "    plt.show()"
   ]
  },
  {
   "cell_type": "code",
   "execution_count": 10,
   "metadata": {},
   "outputs": [
    {
     "name": "stdout",
     "output_type": "stream",
     "text": [
      "[1. 0. 0.] <-> [0.99790835 0.00107928 0.00101233]\n",
      "[1. 0. 0.] <-> [0.9977476  0.00106175 0.00119063]\n",
      "[1. 0. 0.] <-> [9.9805498e-01 1.1396628e-03 8.0533570e-04]\n",
      "[0. 0. 1.] <-> [9.9967262e-03 1.0407012e-04 9.8989922e-01]\n",
      "[1. 0. 0.] <-> [9.9493426e-01 4.4253133e-03 6.4052053e-04]\n",
      "[1. 0. 0.] <-> [0.9953811  0.00128025 0.00333867]\n",
      "[0. 0. 1.] <-> [0.1683112  0.00092257 0.8307662 ]\n",
      "[0. 0. 1.] <-> [9.9897543e-03 1.0403909e-04 9.8990625e-01]\n",
      "[1. 0. 0.] <-> [0.748619   0.00235574 0.24902523]\n",
      "[1. 0. 0.] <-> [0.7928456  0.00238131 0.20477313]\n",
      "[1. 0. 0.] <-> [9.7696918e-01 2.2410212e-02 6.2065857e-04]\n",
      "[0. 1. 0.] <-> [7.3046288e-03 9.9269086e-01 4.4481544e-06]\n",
      "[1. 0. 0.] <-> [9.9801385e-01 1.0556494e-03 9.3043788e-04]\n",
      "[1. 0. 0.] <-> [0.99647826 0.00115423 0.0023675 ]\n",
      "[0. 1. 0.] <-> [8.5246825e-01 1.4700800e-01 5.2372547e-04]\n",
      "[1. 0. 0.] <-> [9.9784625e-01 1.4889807e-03 6.6478457e-04]\n",
      "[1. 0. 0.] <-> [0.9079438  0.00223556 0.08982063]\n",
      "[0. 0. 1.] <-> [9.99970827e-03 1.04091734e-04 9.89896178e-01]\n",
      "[0. 1. 0.] <-> [6.4955193e-01 3.5004762e-01 4.0042179e-04]\n",
      "[1. 0. 0.] <-> [0.9969458  0.00112326 0.00193097]\n",
      "[1. 0. 0.] <-> [0.9925178  0.00138632 0.00609579]\n",
      "[1. 0. 0.] <-> [9.9797636e-01 1.3406826e-03 6.8304874e-04]\n",
      "[1. 0. 0.] <-> [0.99666923 0.00116977 0.00216101]\n",
      "[0. 1. 0.] <-> [1.3383067e-02 9.8660880e-01 8.1596600e-06]\n",
      "[1. 0. 0.] <-> [9.9648583e-01 2.8313806e-03 6.8279094e-04]\n",
      "[1. 0. 0.] <-> [9.9820554e-01 1.0813740e-03 7.1303127e-04]\n",
      "[0. 1. 0.] <-> [7.2977450e-03 9.9269778e-01 4.4439453e-06]\n",
      "[0. 0. 1.] <-> [9.9883964e-03 1.0400343e-04 9.8990762e-01]\n",
      "[0. 0. 1.] <-> [1.0014049e-02 1.0420711e-04 9.8988169e-01]\n",
      "[1. 0. 0.] <-> [9.9772757e-01 1.3310228e-03 9.4144791e-04]\n",
      "[1. 0. 0.] <-> [9.9799949e-01 1.2392771e-03 7.6118088e-04]\n",
      "[0. 1. 0.] <-> [2.2947878e-01 7.7038109e-01 1.4013601e-04]\n",
      "[1. 0. 0.] <-> [9.9799627e-01 1.3401532e-03 6.6351797e-04]\n",
      "[0. 0. 1.] <-> [0.9102253  0.0022112  0.08756356]\n",
      "[1. 0. 0.] <-> [9.9690264e-01 2.4085389e-03 6.8885600e-04]\n",
      "[1. 0. 0.] <-> [9.9808407e-01 1.0985705e-03 8.1736053e-04]\n",
      "[1. 0. 0.] <-> [0.6665032  0.00229044 0.3312064 ]\n",
      "[0. 1. 0.] <-> [6.9985956e-01 2.9971227e-01 4.2814738e-04]\n",
      "[0. 1. 0.] <-> [7.5460384e-03 9.9244940e-01 4.5953452e-06]\n",
      "[0. 0. 1.] <-> [1.0031043e-02 1.0435260e-04 9.8986465e-01]\n",
      "[1. 0. 0.] <-> [0.9954314  0.00124714 0.00332138]\n",
      "[1. 0. 0.] <-> [9.9687117e-01 2.2088592e-03 9.2007581e-04]\n",
      "[1. 0. 0.] <-> [0.9977562  0.00108761 0.00115629]\n",
      "[1. 0. 0.] <-> [0.99762267 0.00130459 0.00107275]\n",
      "[0. 1. 0.] <-> [7.5151827e-03 9.9248016e-01 4.5773445e-06]\n",
      "[1. 0. 0.] <-> [9.9743408e-01 1.8589462e-03 7.0701516e-04]\n",
      "[0. 0. 1.] <-> [9.9880565e-03 1.0405395e-04 9.8990786e-01]\n",
      "[1. 0. 0.] <-> [9.980666e-01 1.018154e-03 9.152604e-04]\n",
      "[1. 0. 0.] <-> [0.9972562  0.0012423  0.00150151]\n",
      "[0. 1. 0.] <-> [7.2977385e-03 9.9269778e-01 4.4439453e-06]\n",
      "[1. 0. 0.] <-> [0.99761707 0.00107704 0.00130595]\n",
      "[0. 1. 0.] <-> [7.2977659e-03 9.9269778e-01 4.4439626e-06]\n",
      "[1. 0. 0.] <-> [9.9803501e-01 1.1297667e-03 8.3526428e-04]\n",
      "[1. 0. 0.] <-> [0.9947019  0.00125791 0.00404024]\n",
      "[1. 0. 0.] <-> [0.99759763 0.00107181 0.00133046]\n",
      "[1. 0. 0.] <-> [9.7523308e-01 2.4151566e-02 6.1529176e-04]\n",
      "[0. 0. 1.] <-> [1.00005865e-02 1.04097206e-04 9.89895344e-01]\n",
      "[1. 0. 0.] <-> [0.99567395 0.00120668 0.00311941]\n",
      "[1. 0. 0.] <-> [9.9803764e-01 1.2175358e-03 7.4478518e-04]\n",
      "[0. 0. 1.] <-> [0.928029   0.0021452  0.06982578]\n",
      "[1. 0. 0.] <-> [0.98462003 0.00160518 0.0137748 ]\n",
      "[1. 0. 0.] <-> [9.9788314e-01 1.4402876e-03 6.7645276e-04]\n",
      "[1. 0. 0.] <-> [0.99773824 0.00124226 0.00101954]\n",
      "[1. 0. 0.] <-> [0.9762513  0.00176283 0.02198595]\n",
      "[1. 0. 0.] <-> [9.9791116e-01 1.1609154e-03 9.2793244e-04]\n",
      "[0. 1. 0.] <-> [7.2979662e-03 9.9269754e-01 4.4440885e-06]\n",
      "[1. 0. 0.] <-> [9.9741447e-01 1.8782846e-03 7.0725754e-04]\n",
      "[1. 0. 0.] <-> [0.621082   0.00224032 0.37667763]\n",
      "[0. 1. 0.] <-> [1.6193393e-01 8.3796650e-01 9.9611811e-05]\n",
      "[1. 0. 0.] <-> [0.9949597  0.0013023  0.00373791]\n",
      "[1. 0. 0.] <-> [9.9535573e-01 4.0283524e-03 6.1594183e-04]\n",
      "[1. 0. 0.] <-> [9.9801981e-01 1.2389437e-03 7.4114668e-04]\n",
      "[1. 0. 0.] <-> [9.9808037e-01 1.1005846e-03 8.1907422e-04]\n",
      "[1. 0. 0.] <-> [0.95314455 0.00202677 0.04482864]\n",
      "[1. 0. 0.] <-> [0.9972663  0.00111768 0.00161616]\n",
      "[1. 0. 0.] <-> [9.9773103e-01 1.4961020e-03 7.7288348e-04]\n",
      "[1. 0. 0.] <-> [0.97453076 0.00178654 0.02368265]\n",
      "[1. 0. 0.] <-> [9.9661970e-01 2.7350408e-03 6.4526190e-04]\n",
      "[1. 0. 0.] <-> [0.9973935  0.00105933 0.00154716]\n",
      "[1. 0. 0.] <-> [9.9748284e-01 1.8024782e-03 7.1473292e-04]\n",
      "[1. 0. 0.] <-> [9.9805683e-01 1.0456368e-03 8.9739403e-04]\n",
      "[1. 0. 0.] <-> [0.9909853  0.00148836 0.00752635]\n",
      "[0. 0. 1.] <-> [9.9881366e-03 1.0400028e-04 9.8990786e-01]\n",
      "[1. 0. 0.] <-> [9.9797922e-01 1.0462817e-03 9.7442500e-04]\n",
      "[1. 0. 0.] <-> [0.95649016 0.00198852 0.04152126]\n",
      "[0. 0. 1.] <-> [9.9890660e-03 1.0630633e-04 9.8990458e-01]\n",
      "[0. 1. 0.] <-> [7.2977860e-03 9.9269766e-01 4.4439748e-06]\n",
      "[1. 0. 0.] <-> [0.9975883  0.00103288 0.00137891]\n",
      "[1. 0. 0.] <-> [9.9779499e-01 1.3015653e-03 9.0349425e-04]\n",
      "[1. 0. 0.] <-> [0.96374846 0.00191042 0.03434107]\n",
      "[0. 0. 1.] <-> [9.988062e-03 1.040001e-04 9.899080e-01]\n",
      "[1. 0. 0.] <-> [0.9907137  0.00145687 0.00782933]\n",
      "[1. 0. 0.] <-> [9.9796236e-01 1.2043654e-03 8.3325233e-04]\n",
      "[0. 0. 1.] <-> [9.9881180e-03 1.0399533e-04 9.8990786e-01]\n",
      "[1. 0. 0.] <-> [9.9800569e-01 1.2093213e-03 7.8497641e-04]\n",
      "[1. 0. 0.] <-> [9.9801540e-01 1.0624942e-03 9.2202262e-04]\n",
      "[0. 1. 0.] <-> [3.8123868e-02 9.6185285e-01 2.3261478e-05]\n",
      "[0. 1. 0.] <-> [4.1990589e-02 9.5798379e-01 2.5625814e-05]\n",
      "[1. 0. 0.] <-> [0.9911287  0.00156895 0.00730239]\n",
      "[1. 0. 0.] <-> [9.9802566e-01 1.1463920e-03 8.2794711e-04]\n",
      "[1. 0. 0.] <-> [0.99322516 0.00133774 0.00543716]\n",
      "[1. 0. 0.] <-> [0.99700147 0.00109321 0.00190535]\n",
      "[1. 0. 0.] <-> [0.9976949  0.00112383 0.00118122]\n",
      "[1. 0. 0.] <-> [9.9813843e-01 1.1472441e-03 7.1425864e-04]\n",
      "[1. 0. 0.] <-> [9.9799585e-01 1.1709443e-03 8.3329820e-04]\n",
      "[1. 0. 0.] <-> [0.9857437  0.00158041 0.01267591]\n",
      "[0. 1. 0.] <-> [7.2977659e-03 9.9269778e-01 4.4439626e-06]\n",
      "[1. 0. 0.] <-> [0.9725927  0.00182756 0.02557968]\n",
      "{'accuracy': 0.9691358024691358, 'mean_square_error': 0.07076604111350032, 'categorical_crossentropy': 0.11251286224082664, 'essential_metrics': {0: {'tp_hit': 76, 'fp_hit': 5, 'tn_hit': 27, 'fn_hit': 0}, 1: {'tp_hit': 14, 'fp_hit': 0, 'tn_hit': 91, 'fn_hit': 3}, 2: {'tp_hit': 13, 'fp_hit': 0, 'tn_hit': 93, 'fn_hit': 2}}}\n"
     ]
    }
   ],
   "source": [
    "# recall phase\n",
    "score = model.evaluate(x_test, y_test, False)\n",
    "print(score)"
   ]
  },
  {
   "cell_type": "code",
   "execution_count": 11,
   "metadata": {},
   "outputs": [
    {
     "data": {
      "image/png": "[encoded data removed]",
      "text/plain": [
       "<Figure size 864x360 with 1 Axes>"
      ]
     },
     "metadata": {
      "needs_background": "light"
     },
     "output_type": "display_data"
    },
    {
     "data": {
      "image/png": "[encoded data removed]",
      "text/plain": [
       "<Figure size 864x360 with 1 Axes>"
      ]
     },
     "metadata": {
      "needs_background": "light"
     },
     "output_type": "display_data"
    }
   ],
   "source": [
    "draw_plot(x = [[i for i in range(len(history))], [(i+1)*breakpoint for i in range(len(checkpoints))]], y_list = [history, [ ckp[model.loss_fn] for ckp in checkpoints ]], x_label = 'Epochs', \\\n",
    "    y_label = model.loss_fn, legend=['train', 'test'])\n",
    "acc = [ ckp['accuracy'] for ckp in checkpoints ]\n",
    "draw_plot(x = [[(i+1)*breakpoint for i in range(len(checkpoints))]], y_list = [acc], x_label = 'Checkpoints', \\\n",
    "    y_label = 'accuracy')"
   ]
  },
  {
   "cell_type": "code",
   "execution_count": 12,
   "metadata": {},
   "outputs": [
    {
     "name": "stdout",
     "output_type": "stream",
     "text": [
      "{'accuracy': 0.9444444444444444, 'mean_square_error': 0.10715596715290827, 'categorical_crossentropy': 0.19383557637532553, 'essential_metrics': {0: {'tp_hit': 75, 'fp_hit': 8, 'tn_hit': 24, 'fn_hit': 1}, 1: {'tp_hit': 11, 'fp_hit': 0, 'tn_hit': 91, 'fn_hit': 6}, 2: {'tp_hit': 13, 'fp_hit': 1, 'tn_hit': 92, 'fn_hit': 2}}, 'checkpoint': 100} \n",
      "\n",
      "\n",
      "{'accuracy': 0.9691358024691358, 'mean_square_error': 0.06906667448802656, 'categorical_crossentropy': 0.11876266090958207, 'essential_metrics': {0: {'tp_hit': 74, 'fp_hit': 3, 'tn_hit': 29, 'fn_hit': 2}, 1: {'tp_hit': 16, 'fp_hit': 0, 'tn_hit': 91, 'fn_hit': 1}, 2: {'tp_hit': 13, 'fp_hit': 2, 'tn_hit': 91, 'fn_hit': 2}}, 'checkpoint': 200} \n",
      "\n",
      "\n",
      "{'accuracy': 0.9629629629629629, 'mean_square_error': 0.07056264044526091, 'categorical_crossentropy': 0.10676155266938386, 'essential_metrics': {0: {'tp_hit': 75, 'fp_hit': 5, 'tn_hit': 27, 'fn_hit': 1}, 1: {'tp_hit': 14, 'fp_hit': 0, 'tn_hit': 91, 'fn_hit': 3}, 2: {'tp_hit': 13, 'fp_hit': 1, 'tn_hit': 92, 'fn_hit': 2}}, 'checkpoint': 300} \n",
      "\n",
      "\n",
      "{'accuracy': 0.9691358024691358, 'mean_square_error': 0.07198486498124547, 'categorical_crossentropy': 0.11473395206310132, 'essential_metrics': {0: {'tp_hit': 76, 'fp_hit': 5, 'tn_hit': 27, 'fn_hit': 0}, 1: {'tp_hit': 14, 'fp_hit': 0, 'tn_hit': 91, 'fn_hit': 3}, 2: {'tp_hit': 13, 'fp_hit': 0, 'tn_hit': 93, 'fn_hit': 2}}, 'checkpoint': 400} \n",
      "\n",
      "\n",
      "{'accuracy': 0.9691358024691358, 'mean_square_error': 0.07076604111350032, 'categorical_crossentropy': 0.11251286224082664, 'essential_metrics': {0: {'tp_hit': 76, 'fp_hit': 5, 'tn_hit': 27, 'fn_hit': 0}, 1: {'tp_hit': 14, 'fp_hit': 0, 'tn_hit': 91, 'fn_hit': 3}, 2: {'tp_hit': 13, 'fp_hit': 0, 'tn_hit': 93, 'fn_hit': 2}}, 'checkpoint': 500} \n",
      "\n",
      "\n"
     ]
    }
   ],
   "source": [
    "for checkpoint in checkpoints:\n",
    "    print(checkpoint, '\\n\\n')"
   ]
  },
  {
   "cell_type": "code",
   "execution_count": 13,
   "metadata": {},
   "outputs": [
    {
     "name": "stdout",
     "output_type": "stream",
     "text": [
      "Layer 1\n",
      "Neuron 0: weights:\n",
      "[-1.7678412   3.          3.          0.6322776  -0.45204136]\n",
      " bias: -3.0\n",
      "\n",
      "Neuron 1: weights:\n",
      "[-1.0998987  3.         1.313622  -3.        -1.2317438]\n",
      " bias: 3.0\n",
      "\n",
      "Neuron 2: weights:\n",
      "[ 1.3005037  -3.         -1.2079012   3.          0.97957045]\n",
      " bias: -3.0\n",
      "\n",
      "Neuron 3: weights:\n",
      "[ 2.038831  -3.        -2.276619  -1.6291205  1.1147636]\n",
      " bias: 3.0\n",
      "\n",
      "$\n",
      "Layer 2\n",
      "Neuron 0: weights:\n",
      "[-3.  3. -3.  3.]\n",
      " bias: 3.0\n",
      "\n",
      "Neuron 1: weights:\n",
      "[ 3.         1.9128621 -1.5648413 -3.       ]\n",
      " bias: 3.0\n",
      "\n",
      "Neuron 2: weights:\n",
      "[-3. -3.  3.  3.]\n",
      " bias: 1.5962222814559937\n",
      "\n",
      "$\n",
      "\n"
     ]
    }
   ],
   "source": [
    "print(model)"
   ]
  }
 ],
 "metadata": {
  "kernelspec": {
   "display_name": "Python 3",
   "language": "python",
   "name": "python3"
  },
  "language_info": {
   "codemirror_mode": {
    "name": "ipython",
    "version": 3
   },
   "file_extension": ".py",
   "mimetype": "text/x-python",
   "name": "python",
   "nbconvert_exporter": "python",
   "pygments_lexer": "ipython3",
   "version": "3.6.10"
  }
 },
 "nbformat": 4,
 "nbformat_minor": 2
}
