{
 "cells": [
  {
   "cell_type": "code",
   "execution_count": 1,
   "metadata": {},
   "outputs": [],
   "source": [
    "# dependency\n",
    "import numpy as np\n",
    "import pandas as pd\n",
    "import copy\n",
    "import math\n",
    "import sys\n",
    "import os\n",
    "from activations import relu, leaky_relu, sigmoid, tanh, softmax, d_sigmoid, d_relu\n",
    "from initializers import glorot_uniform, random_normal, random_uniform\n",
    "from regularizers import l1_regularizer, l2_regularizer\n",
    "from utility import trim_tail, multiply, subtract, get_nparams, one_hot_encoding, get_data\n",
    "from metrics import MSE, CCE, ACC, PRECISION, RECALL, essential_metrics, wondering_penalty, close_gap_penalty\n",
    "from pso import PSO\n",
    "from ga import GA\n",
    "from nn import Network\n",
    "from layer import DenseLayer\n",
    "from scalers import MinMaxScaler, StandardScaler"
   ]
  },
  {
   "cell_type": "code",
   "execution_count": 2,
   "metadata": {},
   "outputs": [],
   "source": [
    "# reference\n",
    "metrics_fn_dict = dict()\n",
    "metrics_fn_dict['accuracy'] = ACC\n",
    "metrics_fn_dict['categorical_crossentropy'] = CCE\n",
    "metrics_fn_dict['mean_square_error'] = MSE\n",
    "metrics_fn_dict['precision'] = PRECISION\n",
    "metrics_fn_dict['recall'] = RECALL\n",
    "metrics_fn_dict['essential_metrics'] = essential_metrics"
   ]
  },
  {
   "cell_type": "code",
   "execution_count": 3,
   "metadata": {},
   "outputs": [],
   "source": [
    "# model\n",
    "model = Network(5, lr = None)\n",
    "model.add_layer(DenseLayer(1, 4, True, afn=sigmoid, dafn=None, rfn=None))\n",
    "model.add_layer(DenseLayer(2, 3, True, afn=softmax, dafn=None, rfn=None))"
   ]
  },
  {
   "cell_type": "code",
   "execution_count": 4,
   "metadata": {},
   "outputs": [
    {
     "name": "stdout",
     "output_type": "stream",
     "text": [
      "see one see two 2 0.5\n"
     ]
    }
   ],
   "source": [
    "pso = PSO(dict(m = 50,\n",
    "    weight_constraint = [-3, 3], \n",
    "    velocity_constraint = [-0.1, 0.1],\n",
    "    c1 = [0.5, 2],\n",
    "    c2 = [0.5, 2],\n",
    "    w = [0.5, 1.6],\n",
    "    w_decay = 0.95,\n",
    "    scale_hyperparameter = False,\n",
    "    regularizer = l2_regularizer,\n",
    "    mask = True))"
   ]
  },
  {
   "cell_type": "code",
   "execution_count": 5,
   "metadata": {},
   "outputs": [
    {
     "name": "stdout",
     "output_type": "stream",
     "text": [
      "building layer 1 with 5\n",
      "24\n",
      "building layer 2 with 4\n",
      "15\n"
     ]
    }
   ],
   "source": [
    "model.compile(loss_fn = 'categorical_crossentropy', optimizer = pso, \\\n",
    "    metrics = ['accuracy', 'mean_square_error', 'categorical_crossentropy'])"
   ]
  },
  {
   "cell_type": "code",
   "execution_count": 6,
   "metadata": {},
   "outputs": [
    {
     "name": "stdout",
     "output_type": "stream",
     "text": [
      "<class 'pandas.core.frame.DataFrame'>\n",
      "RangeIndex: 107 entries, 0 to 106\n",
      "Data columns (total 6 columns):\n",
      " #   Column  Non-Null Count  Dtype  \n",
      "---  ------  --------------  -----  \n",
      " 0   f1      107 non-null    float32\n",
      " 1   f2      107 non-null    float32\n",
      " 2   f3      107 non-null    float32\n",
      " 3   f4      107 non-null    float32\n",
      " 4   f5      107 non-null    float32\n",
      " 5   label   107 non-null    float32\n",
      "dtypes: float32(6)\n",
      "memory usage: 2.6 KB\n",
      "None\n",
      "<class 'pandas.core.frame.DataFrame'>\n",
      "RangeIndex: 108 entries, 0 to 107\n",
      "Data columns (total 6 columns):\n",
      " #   Column  Non-Null Count  Dtype  \n",
      "---  ------  --------------  -----  \n",
      " 0   f1      108 non-null    float32\n",
      " 1   f2      108 non-null    float32\n",
      " 2   f3      108 non-null    float32\n",
      " 3   f4      108 non-null    float32\n",
      " 4   f5      108 non-null    float32\n",
      " 5   label   108 non-null    float32\n",
      "dtypes: float32(6)\n",
      "memory usage: 2.7 KB\n",
      "None\n"
     ]
    }
   ],
   "source": [
    "# data loading\n",
    "DATA = os.path.join('c:\\\\Users\\\\tcumi\\\\github_repo\\\\neural-network\\\\', 'dataset')\n",
    "GROUP = 4\n",
    "COLUMNS = ['f1', 'f2', 'f3', 'f4', 'f5', 'label']\n",
    "N_CLASS = 3\n",
    "EPOCHS = 500\n",
    "train_dir, test_dir = \"..//dataset//training_data{}.txt\".format(GROUP), \"..//dataset//testing_data{}.txt\".format(GROUP)\n",
    "train, test = get_data(DATA, train_dir, COLUMNS), get_data(DATA, test_dir, COLUMNS)\n",
    "# shuffle\n",
    "train, test = train.sample(frac=1), test.sample(frac=1)\n",
    "x_train, y_train = train.drop('label', axis=1), train['label']\n",
    "x_test, y_test = test.drop('label', axis=1), test['label']"
   ]
  },
  {
   "cell_type": "code",
   "execution_count": 7,
   "metadata": {},
   "outputs": [],
   "source": [
    "# data scaling and encoding\n",
    "scaler = StandardScaler(['f1', 'f2', 'f3', 'f4', 'f5'])\n",
    "scaler.fit(x_train)\n",
    "x_train = scaler.transform(x_train)\n",
    "x_test = scaler.transform(x_test)\n",
    "y_train = one_hot_encoding(y_train, N_CLASS)\n",
    "y_test = one_hot_encoding(y_test, N_CLASS)"
   ]
  },
  {
   "cell_type": "code",
   "execution_count": 8,
   "metadata": {
    "tags": [
     "outputPrepend"
    ]
   },
   "outputs": [
    {
     "name": "stdout",
     "output_type": "stream",
     "text": [
      "Checkpoint 100, Accuracy: 0.9135802469135802, Loss: 0.42496511671278214\n",
      "Checkpoint 200, Accuracy: 0.9259259259259259, Loss: 0.3819875010737666\n",
      "Checkpoint 300, Accuracy: 0.9382716049382716, Loss: 0.3701116067391855\n",
      "Checkpoint 400, Accuracy: 0.9197530864197531, Loss: 0.369082768758138\n",
      "Checkpoint 500, Accuracy: 0.9197530864197531, Loss: 0.369082768758138\n"
     ]
    }
   ],
   "source": [
    "# learning phase\n",
    "breakpoint = 100\n",
    "checkpoints = list()\n",
    "history = list()\n",
    "for century in range(0, EPOCHS, breakpoint):\n",
    "    sub_history = model.fit(x_train, y_train, breakpoint, verbose = 0)\n",
    "    score = model.evaluate(x_test, y_test, False, verbose = 0)\n",
    "    print('Checkpoint {}, Accuracy: {}, Loss: {}'.format(century+breakpoint, score['accuracy'], score[model.loss_fn]))\n",
    "    score['checkpoint'] = century + breakpoint\n",
    "    checkpoints.append(score)\n",
    "    history.extend(sub_history)\n",
    "    itr = century + breakpoint\n",
    "    model.optimizer.c1 = np.max([model.optimizer.C1[1] - ((model.optimizer.C1[1] - model.optimizer.C1[0]) * itr / EPOCHS), model.optimizer.C1[0]])\n",
    "    model.optimizer.c2 = np.min([model.optimizer.C2[0] + ((model.optimizer.C2[1] - model.optimizer.C2[0]) * itr / EPOCHS), model.optimizer.C2[1]])\n",
    "    model.optimizer.w = np.max([model.optimizer.w * model.optimizer.W_Decay, model.optimizer.W[0]])"
   ]
  },
  {
   "cell_type": "code",
   "execution_count": 9,
   "metadata": {},
   "outputs": [],
   "source": [
    "import matplotlib.pyplot as plt\n",
    "\n",
    "def draw_plot(x, y_list, x_label=None, y_label=None, legend=None, title=None):\n",
    "    fig, ax = plt.subplots(figsize=(12,5))\n",
    "    for xi, yi in zip(x, y_list):\n",
    "        ax.plot(xi, yi)\n",
    "    if x_label is not None and y_label is not None:\n",
    "        ax.set(xlabel=x_label, ylabel=y_label, title='{} VS {}'.format(x_label, y_label))\n",
    "    if legend is not None:\n",
    "        ax.legend(legend)\n",
    "    ax.grid()\n",
    "    plt.show()"
   ]
  },
  {
   "cell_type": "code",
   "execution_count": 10,
   "metadata": {},
   "outputs": [
    {
     "name": "stdout",
     "output_type": "stream",
     "text": [
      "[0. 0. 1.] <-> [0.52735484 0.02207419 0.45057094]\n",
      "[1. 0. 0.] <-> [0.70676905 0.24293105 0.05029986]\n",
      "[0. 0. 1.] <-> [0.8163243  0.05204607 0.13162963]\n",
      "[1. 0. 0.] <-> [0.8287882  0.04423026 0.12698154]\n",
      "[1. 0. 0.] <-> [0.8101012  0.10888804 0.08101074]\n",
      "[1. 0. 0.] <-> [0.84812915 0.05848127 0.09338954]\n",
      "[1. 0. 0.] <-> [0.80320495 0.09594601 0.10084909]\n",
      "[1. 0. 0.] <-> [0.71932244 0.20735088 0.07332668]\n",
      "[0. 0. 1.] <-> [0.30942374 0.01693083 0.67364544]\n",
      "[0. 1. 0.] <-> [0.46176112 0.4983136  0.03992528]\n",
      "[1. 0. 0.] <-> [0.8074373  0.07778545 0.11477722]\n",
      "[1. 0. 0.] <-> [0.8289561  0.08651769 0.0845262 ]\n",
      "[1. 0. 0.] <-> [0.82878757 0.09421364 0.07699886]\n",
      "[1. 0. 0.] <-> [0.84120315 0.09212258 0.06667423]\n",
      "[0. 0. 1.] <-> [0.44135568 0.01966849 0.53897583]\n",
      "[1. 0. 0.] <-> [0.8515225  0.06158768 0.0868898 ]\n",
      "[1. 0. 0.] <-> [0.86566484 0.06042716 0.07390806]\n",
      "[1. 0. 0.] <-> [0.8407761  0.05883229 0.10039156]\n",
      "[1. 0. 0.] <-> [0.8034563  0.12397727 0.07256638]\n",
      "[1. 0. 0.] <-> [0.8101835  0.10847639 0.0813401 ]\n",
      "[0. 1. 0.] <-> [0.16226284 0.8301341  0.00760306]\n",
      "[1. 0. 0.] <-> [0.80027497 0.13932447 0.06040056]\n",
      "[1. 0. 0.] <-> [0.84053135 0.08628166 0.07318691]\n",
      "[1. 0. 0.] <-> [0.84863764 0.07169981 0.07966252]\n",
      "[1. 0. 0.] <-> [0.7716057  0.07420147 0.15419282]\n",
      "[1. 0. 0.] <-> [0.771808   0.1329744  0.09521752]\n",
      "[1. 0. 0.] <-> [0.7835485  0.12782022 0.08863129]\n",
      "[1. 0. 0.] <-> [0.84544146 0.05277787 0.10178065]\n",
      "[1. 0. 0.] <-> [0.75937325 0.14803138 0.09259535]\n",
      "[1. 0. 0.] <-> [0.75901645 0.17029993 0.07068355]\n",
      "[1. 0. 0.] <-> [0.8235033  0.08348436 0.09301227]\n",
      "[1. 0. 0.] <-> [0.83964914 0.07543565 0.08491526]\n",
      "[1. 0. 0.] <-> [0.7966874  0.11786493 0.08544761]\n",
      "[0. 1. 0.] <-> [0.16470298 0.82753044 0.00776658]\n",
      "[1. 0. 0.] <-> [0.8475441  0.0645078  0.08794819]\n",
      "[1. 0. 0.] <-> [0.65433437 0.28629327 0.05937229]\n",
      "[1. 0. 0.] <-> [0.840066   0.05814385 0.10179011]\n",
      "[1. 0. 0.] <-> [0.68067175 0.2632324  0.05609582]\n",
      "[1. 0. 0.] <-> [0.84525603 0.04363482 0.11110919]\n",
      "[1. 0. 0.] <-> [0.82016224 0.10011289 0.0797249 ]\n",
      "[1. 0. 0.] <-> [0.82593876 0.09306554 0.08099566]\n",
      "[0. 0. 1.] <-> [0.7144541  0.0534173  0.23212858]\n",
      "[1. 0. 0.] <-> [0.80929226 0.05727115 0.13343664]\n",
      "[1. 0. 0.] <-> [0.79321975 0.06687725 0.13990298]\n",
      "[1. 0. 0.] <-> [0.8613748  0.04758545 0.09103976]\n",
      "[1. 0. 0.] <-> [0.81533575 0.11709885 0.06756538]\n",
      "[0. 0. 1.] <-> [0.7055112  0.0362503  0.25823852]\n",
      "[1. 0. 0.] <-> [0.73237896 0.18703918 0.08058184]\n",
      "[1. 0. 0.] <-> [0.78712386 0.1186016  0.09427454]\n",
      "[0. 0. 1.] <-> [0.839584   0.03310065 0.12731534]\n",
      "[1. 0. 0.] <-> [0.8169724  0.0368175  0.14621015]\n",
      "[1. 0. 0.] <-> [0.8159342  0.10828257 0.07578324]\n",
      "[1. 0. 0.] <-> [0.8175345  0.07534152 0.10712396]\n",
      "[1. 0. 0.] <-> [0.7352649  0.20599417 0.05874094]\n",
      "[1. 0. 0.] <-> [0.73336774 0.19262666 0.07400563]\n",
      "[1. 0. 0.] <-> [0.78700763 0.12749735 0.08549507]\n",
      "[1. 0. 0.] <-> [0.84567165 0.06977227 0.08455613]\n",
      "[1. 0. 0.] <-> [0.79807174 0.11989908 0.08202913]\n",
      "[1. 0. 0.] <-> [0.8009287  0.12238166 0.07668962]\n",
      "[0. 1. 0.] <-> [0.16341984 0.8274278  0.00915237]\n",
      "[1. 0. 0.] <-> [0.78103137 0.07421747 0.14475122]\n",
      "[1. 0. 0.] <-> [0.5935424  0.36362445 0.04283316]\n",
      "[1. 0. 0.] <-> [0.78967154 0.12503353 0.08529491]\n",
      "[1. 0. 0.] <-> [0.80741656 0.09456644 0.09801704]\n",
      "[1. 0. 0.] <-> [0.8506253  0.06461325 0.08476149]\n",
      "[1. 0. 0.] <-> [0.8412512  0.04120187 0.11754691]\n",
      "[1. 0. 0.] <-> [0.6497027  0.29469764 0.05559961]\n",
      "[0. 0. 1.] <-> [0.54065746 0.02157613 0.4377664 ]\n",
      "[0. 0. 1.] <-> [0.29979393 0.02709264 0.6731134 ]\n",
      "[1. 0. 0.] <-> [0.68071944 0.0505527  0.26872787]\n",
      "[1. 0. 0.] <-> [0.84366745 0.05582141 0.10051112]\n",
      "[1. 0. 0.] <-> [0.6718014  0.27189338 0.05630527]\n",
      "[0. 1. 0.] <-> [0.449702   0.5236291  0.02666887]\n",
      "[1. 0. 0.] <-> [0.8168309  0.05658049 0.12658861]\n",
      "[1. 0. 0.] <-> [0.8235662  0.11658477 0.05984898]\n",
      "[1. 0. 0.] <-> [0.8352901  0.08640177 0.07830815]\n",
      "[1. 0. 0.] <-> [0.82753366 0.06833129 0.10413502]\n",
      "[0. 1. 0.] <-> [0.48333073 0.4762659  0.04040336]\n",
      "[1. 0. 0.] <-> [0.80356693 0.07505011 0.12138299]\n",
      "[1. 0. 0.] <-> [0.8354319  0.03982187 0.12474626]\n",
      "[0. 1. 0.] <-> [0.5452504  0.41930732 0.03544226]\n",
      "[0. 1. 0.] <-> [0.33258617 0.64255863 0.02485519]\n",
      "[0. 1. 0.] <-> [0.160584   0.8299398  0.00947621]\n",
      "[0. 1. 0.] <-> [0.62137294 0.31180692 0.06682014]\n",
      "[0. 0. 1.] <-> [0.40095785 0.02091985 0.5781223 ]\n",
      "[1. 0. 0.] <-> [0.8185895  0.08715664 0.09425385]\n",
      "[1. 0. 0.] <-> [0.59357977 0.35607713 0.05034309]\n",
      "[0. 1. 0.] <-> [0.16013402 0.83193403 0.00793195]\n",
      "[0. 1. 0.] <-> [0.21451779 0.7711186  0.01436368]\n",
      "[1. 0. 0.] <-> [0.7604847  0.16410354 0.07541174]\n",
      "[0. 0. 1.] <-> [0.2899217  0.01817432 0.691904  ]\n",
      "[0. 0. 1.] <-> [0.64595926 0.02258329 0.33145744]\n",
      "[0. 1. 0.] <-> [0.6126685  0.34813392 0.03919752]\n",
      "[1. 0. 0.] <-> [0.84334433 0.03673424 0.1199214 ]\n",
      "[0. 1. 0.] <-> [0.47432247 0.4988948  0.02678274]\n",
      "[0. 0. 1.] <-> [0.6004179  0.03669282 0.3628892 ]\n",
      "[0. 1. 0.] <-> [0.20509072 0.78064704 0.01426225]\n",
      "[1. 0. 0.] <-> [0.67959464 0.20017539 0.12023002]\n",
      "[1. 0. 0.] <-> [0.81232756 0.10582601 0.08184639]\n",
      "[1. 0. 0.] <-> [0.8126381  0.11168869 0.07567327]\n",
      "[0. 0. 1.] <-> [0.49707866 0.0204196  0.48250178]\n",
      "[1. 0. 0.] <-> [0.7690533  0.16526249 0.06568421]\n",
      "[0. 1. 0.] <-> [0.17806599 0.81067777 0.01125624]\n",
      "[1. 0. 0.] <-> [0.86275434 0.04599261 0.09125303]\n",
      "[1. 0. 0.] <-> [0.86231023 0.04216975 0.09552006]\n",
      "[1. 0. 0.] <-> [0.8206372  0.09271393 0.08664884]\n",
      "[1. 0. 0.] <-> [0.81865126 0.08009034 0.1012584 ]\n",
      "[1. 0. 0.] <-> [0.7614406  0.052225   0.18633448]\n",
      "{'accuracy': 0.9197530864197531, 'mean_square_error': 0.1888657172025537, 'categorical_crossentropy': 0.369082768758138, 'essential_metrics': {0: {'tp_hit': 78, 'fp_hit': 13, 'tn_hit': 17, 'fn_hit': 0}, 1: {'tp_hit': 12, 'fp_hit': 0, 'tn_hit': 92, 'fn_hit': 4}, 2: {'tp_hit': 5, 'fp_hit': 0, 'tn_hit': 94, 'fn_hit': 9}}}\n"
     ]
    }
   ],
   "source": [
    "# recall phase\n",
    "score = model.evaluate(x_test, y_test, False)\n",
    "print(score)"
   ]
  },
  {
   "cell_type": "code",
   "execution_count": 11,
   "metadata": {},
   "outputs": [
    {
     "data": {
      "image/png": "[encoded data removed]",
      "text/plain": [
       "<Figure size 864x360 with 1 Axes>"
      ]
     },
     "metadata": {
      "needs_background": "light"
     },
     "output_type": "display_data"
    },
    {
     "data": {
      "image/png": "[encoded data removed]",
      "text/plain": [
       "<Figure size 864x360 with 1 Axes>"
      ]
     },
     "metadata": {
      "needs_background": "light"
     },
     "output_type": "display_data"
    }
   ],
   "source": [
    "draw_plot(x = [[i for i in range(len(history))], [(i+1)*breakpoint for i in range(len(checkpoints))]], y_list = [history, [ ckp[model.loss_fn] for ckp in checkpoints ]], x_label = 'Epochs', \\\n",
    "    y_label = model.loss_fn, legend=['train', 'test'])\n",
    "acc = [ ckp['accuracy'] for ckp in checkpoints ]\n",
    "draw_plot(x = [[(i+1)*breakpoint for i in range(len(checkpoints))]], y_list = [acc], x_label = 'Checkpoints', \\\n",
    "    y_label = 'accuracy')"
   ]
  },
  {
   "cell_type": "code",
   "execution_count": 12,
   "metadata": {},
   "outputs": [
    {
     "name": "stdout",
     "output_type": "stream",
     "text": [
      "{'accuracy': 0.9135802469135802, 'mean_square_error': 0.22936364211798277, 'categorical_crossentropy': 0.42496511671278214, 'essential_metrics': {0: {'tp_hit': 78, 'fp_hit': 14, 'tn_hit': 16, 'fn_hit': 0}, 1: {'tp_hit': 12, 'fp_hit': 0, 'tn_hit': 92, 'fn_hit': 4}, 2: {'tp_hit': 4, 'fp_hit': 0, 'tn_hit': 94, 'fn_hit': 10}}, 'checkpoint': 100} \n",
      "\n",
      "\n",
      "{'accuracy': 0.9259259259259259, 'mean_square_error': 0.19597819172341205, 'categorical_crossentropy': 0.3819875010737666, 'essential_metrics': {0: {'tp_hit': 78, 'fp_hit': 12, 'tn_hit': 18, 'fn_hit': 0}, 1: {'tp_hit': 13, 'fp_hit': 0, 'tn_hit': 92, 'fn_hit': 3}, 2: {'tp_hit': 5, 'fp_hit': 0, 'tn_hit': 94, 'fn_hit': 9}}, 'checkpoint': 200} \n",
      "\n",
      "\n",
      "{'accuracy': 0.9382716049382716, 'mean_square_error': 0.18716239631538406, 'categorical_crossentropy': 0.3701116067391855, 'essential_metrics': {0: {'tp_hit': 78, 'fp_hit': 10, 'tn_hit': 20, 'fn_hit': 0}, 1: {'tp_hit': 12, 'fp_hit': 0, 'tn_hit': 92, 'fn_hit': 4}, 2: {'tp_hit': 8, 'fp_hit': 0, 'tn_hit': 94, 'fn_hit': 6}}, 'checkpoint': 300} \n",
      "\n",
      "\n",
      "{'accuracy': 0.9197530864197531, 'mean_square_error': 0.1888657172025537, 'categorical_crossentropy': 0.369082768758138, 'essential_metrics': {0: {'tp_hit': 78, 'fp_hit': 13, 'tn_hit': 17, 'fn_hit': 0}, 1: {'tp_hit': 12, 'fp_hit': 0, 'tn_hit': 92, 'fn_hit': 4}, 2: {'tp_hit': 5, 'fp_hit': 0, 'tn_hit': 94, 'fn_hit': 9}}, 'checkpoint': 400} \n",
      "\n",
      "\n",
      "{'accuracy': 0.9197530864197531, 'mean_square_error': 0.1888657172025537, 'categorical_crossentropy': 0.369082768758138, 'essential_metrics': {0: {'tp_hit': 78, 'fp_hit': 13, 'tn_hit': 17, 'fn_hit': 0}, 1: {'tp_hit': 12, 'fp_hit': 0, 'tn_hit': 92, 'fn_hit': 4}, 2: {'tp_hit': 5, 'fp_hit': 0, 'tn_hit': 94, 'fn_hit': 9}}, 'checkpoint': 500} \n",
      "\n",
      "\n"
     ]
    }
   ],
   "source": [
    "for checkpoint in checkpoints:\n",
    "    print(checkpoint, '\\n\\n')"
   ]
  },
  {
   "cell_type": "code",
   "execution_count": 13,
   "metadata": {},
   "outputs": [
    {
     "name": "stdout",
     "output_type": "stream",
     "text": [
      "Layer 1\n",
      "Neuron 0: weights:\n",
      "[-0.6437627   1.1773643   1.0116664   0.15416946 -0.23537698]\n",
      " bias: -0.5955429077148438\n",
      "\n",
      "Neuron 1: weights:\n",
      "[ 0.62122256 -0.5200216  -0.02847271  0.3303256   0.46476734]\n",
      " bias: -0.179831862449646\n",
      "\n",
      "Neuron 2: weights:\n",
      "[ 0.7018225  -0.94573957 -0.9804858  -0.4099456   0.00237788]\n",
      " bias: 0.7553094029426575\n",
      "\n",
      "Neuron 3: weights:\n",
      "[-0.13311204  0.4843144  -0.12750895 -0.83915246 -0.91324586]\n",
      " bias: 0.7045838832855225\n",
      "\n",
      "$\n",
      "Layer 2\n",
      "Neuron 0: weights:\n",
      "[-0.8694281 -0.2217794  1.0548812  1.5860262]\n",
      " bias: 0.058923330157995224\n",
      "\n",
      "Neuron 1: weights:\n",
      "[ 1.6945336  -0.81580776 -1.4776025   0.5437112 ]\n",
      " bias: 0.13648541271686554\n",
      "\n",
      "Neuron 2: weights:\n",
      "[-0.8137815  1.2054118  0.579231  -1.6264484]\n",
      " bias: -0.0014887028373777866\n",
      "\n",
      "$\n",
      "\n"
     ]
    }
   ],
   "source": [
    "print(model)"
   ]
  }
 ],
 "metadata": {
  "kernelspec": {
   "display_name": "Python 3",
   "language": "python",
   "name": "python3"
  },
  "language_info": {
   "codemirror_mode": {
    "name": "ipython",
    "version": 3
   },
   "file_extension": ".py",
   "mimetype": "text/x-python",
   "name": "python",
   "nbconvert_exporter": "python",
   "pygments_lexer": "ipython3",
   "version": "3.6.10"
  }
 },
 "nbformat": 4,
 "nbformat_minor": 2
}
