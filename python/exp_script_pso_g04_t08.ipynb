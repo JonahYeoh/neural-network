{
 "cells": [
  {
   "cell_type": "code",
   "execution_count": 1,
   "metadata": {},
   "outputs": [],
   "source": [
    "# dependency\n",
    "import numpy as np\n",
    "import pandas as pd\n",
    "import copy\n",
    "import math\n",
    "import sys\n",
    "import os\n",
    "from activations import relu, leaky_relu, sigmoid, tanh, softmax, d_sigmoid, d_relu\n",
    "from initializers import glorot_uniform, random_normal, random_uniform\n",
    "from regularizers import l1_regularizer, l2_regularizer\n",
    "from utility import trim_tail, multiply, subtract, get_nparams, one_hot_encoding, get_data\n",
    "from metrics import MSE, CCE, ACC, PRECISION, RECALL, essential_metrics, wondering_penalty, close_gap_penalty\n",
    "from pso import PSO\n",
    "from ga import GA\n",
    "from nn import Network\n",
    "from layer import DenseLayer\n",
    "from scalers import MinMaxScaler, StandardScaler"
   ]
  },
  {
   "cell_type": "code",
   "execution_count": 2,
   "metadata": {},
   "outputs": [],
   "source": [
    "# reference\n",
    "metrics_fn_dict = dict()\n",
    "metrics_fn_dict['accuracy'] = ACC\n",
    "metrics_fn_dict['categorical_crossentropy'] = CCE\n",
    "metrics_fn_dict['mean_square_error'] = MSE\n",
    "metrics_fn_dict['precision'] = PRECISION\n",
    "metrics_fn_dict['recall'] = RECALL\n",
    "metrics_fn_dict['essential_metrics'] = essential_metrics"
   ]
  },
  {
   "cell_type": "code",
   "execution_count": 3,
   "metadata": {},
   "outputs": [],
   "source": [
    "# model\n",
    "model = Network(5, lr = None)\n",
    "model.add_layer(DenseLayer(1, 4, True, afn=sigmoid, dafn=None, rfn=None))\n",
    "model.add_layer(DenseLayer(2, 3, True, afn=softmax, dafn=None, rfn=None))"
   ]
  },
  {
   "cell_type": "code",
   "execution_count": 4,
   "metadata": {},
   "outputs": [
    {
     "name": "stdout",
     "output_type": "stream",
     "text": [
      "see one see two 2 2\n"
     ]
    }
   ],
   "source": [
    "pso = PSO(dict(m = 50,\n",
    "    weight_constraint = [-3, 3], \n",
    "    velocity_constraint = [-0.1, 0.1],\n",
    "    c1 = 2,\n",
    "    c2 = 2,\n",
    "    w = 1.2,\n",
    "    w_decay = 1,\n",
    "    scale_hyperparameter = False,\n",
    "    regularizer = l1_regularizer,\n",
    "    mask = True))"
   ]
  },
  {
   "cell_type": "code",
   "execution_count": 5,
   "metadata": {},
   "outputs": [
    {
     "name": "stdout",
     "output_type": "stream",
     "text": [
      "building layer 1 with 5\n",
      "24\n",
      "building layer 2 with 4\n",
      "15\n"
     ]
    }
   ],
   "source": [
    "model.compile(loss_fn = 'categorical_crossentropy', optimizer = pso, \\\n",
    "    metrics = ['accuracy', 'mean_square_error', 'categorical_crossentropy'])"
   ]
  },
  {
   "cell_type": "code",
   "execution_count": 6,
   "metadata": {},
   "outputs": [
    {
     "name": "stdout",
     "output_type": "stream",
     "text": [
      "<class 'pandas.core.frame.DataFrame'>\n",
      "RangeIndex: 107 entries, 0 to 106\n",
      "Data columns (total 6 columns):\n",
      " #   Column  Non-Null Count  Dtype  \n",
      "---  ------  --------------  -----  \n",
      " 0   f1      107 non-null    float32\n",
      " 1   f2      107 non-null    float32\n",
      " 2   f3      107 non-null    float32\n",
      " 3   f4      107 non-null    float32\n",
      " 4   f5      107 non-null    float32\n",
      " 5   label   107 non-null    float32\n",
      "dtypes: float32(6)\n",
      "memory usage: 2.6 KB\n",
      "None\n",
      "<class 'pandas.core.frame.DataFrame'>\n",
      "RangeIndex: 108 entries, 0 to 107\n",
      "Data columns (total 6 columns):\n",
      " #   Column  Non-Null Count  Dtype  \n",
      "---  ------  --------------  -----  \n",
      " 0   f1      108 non-null    float32\n",
      " 1   f2      108 non-null    float32\n",
      " 2   f3      108 non-null    float32\n",
      " 3   f4      108 non-null    float32\n",
      " 4   f5      108 non-null    float32\n",
      " 5   label   108 non-null    float32\n",
      "dtypes: float32(6)\n",
      "memory usage: 2.7 KB\n",
      "None\n"
     ]
    }
   ],
   "source": [
    "# data loading\n",
    "DATA = os.path.join('c:\\\\Users\\\\AI-lab\\\\github_repo\\\\neural-network\\\\', 'dataset')\n",
    "GROUP = 4\n",
    "COLUMNS = ['f1', 'f2', 'f3', 'f4', 'f5', 'label']\n",
    "N_CLASS = 3\n",
    "EPOCHS = 200\n",
    "train_dir, test_dir = \"..//dataset//training_data{}.txt\".format(GROUP), \"..//dataset//testing_data{}.txt\".format(GROUP)\n",
    "train, test = get_data(DATA, train_dir, COLUMNS), get_data(DATA, test_dir, COLUMNS)\n",
    "# shuffle\n",
    "train, test = train.sample(frac=1), test.sample(frac=1)\n",
    "x_train, y_train = train.drop('label', axis=1), train['label']\n",
    "x_test, y_test = test.drop('label', axis=1), test['label']"
   ]
  },
  {
   "cell_type": "code",
   "execution_count": 7,
   "metadata": {},
   "outputs": [],
   "source": [
    "# data scaling and encoding\n",
    "scaler = StandardScaler(['f1', 'f2', 'f3', 'f4', 'f5'])\n",
    "scaler.fit(x_train)\n",
    "x_train = scaler.transform(x_train)\n",
    "x_test = scaler.transform(x_test)\n",
    "y_train = one_hot_encoding(y_train, N_CLASS)\n",
    "y_test = one_hot_encoding(y_test, N_CLASS)"
   ]
  },
  {
   "cell_type": "code",
   "execution_count": 8,
   "metadata": {
    "tags": [
     "outputPrepend"
    ]
   },
   "outputs": [
    {
     "name": "stdout",
     "output_type": "stream",
     "text": [
      "Checkpoint 10, Accuracy: 0.8148148148148148, Loss: 0.7349212787769459\n",
      "Checkpoint 20, Accuracy: 0.8765432098765432, Loss: 0.5651772110550491\n",
      "Checkpoint 30, Accuracy: 0.8580246913580247, Loss: 0.47446780734592015\n",
      "Checkpoint 40, Accuracy: 0.8641975308641975, Loss: 0.4433296698111075\n",
      "Checkpoint 50, Accuracy: 0.9074074074074074, Loss: 0.38350885885733144\n",
      "Checkpoint 60, Accuracy: 0.9197530864197531, Loss: 0.39323863276728876\n",
      "Checkpoint 70, Accuracy: 0.9382716049382716, Loss: 0.33868736690945095\n",
      "Checkpoint 80, Accuracy: 0.9320987654320988, Loss: 0.32116547337284795\n",
      "Checkpoint 90, Accuracy: 0.9320987654320988, Loss: 0.30336489500822844\n",
      "Checkpoint 100, Accuracy: 0.9382716049382716, Loss: 0.30307900464093246\n",
      "Checkpoint 110, Accuracy: 0.9567901234567902, Loss: 0.2742281843114782\n",
      "Checkpoint 120, Accuracy: 0.9567901234567902, Loss: 0.2527569664849175\n",
      "Checkpoint 130, Accuracy: 0.9629629629629629, Loss: 0.26076182612666376\n",
      "Checkpoint 140, Accuracy: 0.9629629629629629, Loss: 0.2500717551619918\n",
      "Checkpoint 150, Accuracy: 0.9691358024691358, Loss: 0.22741598553127712\n",
      "Checkpoint 160, Accuracy: 0.9691358024691358, Loss: 0.23588975270589194\n",
      "Checkpoint 170, Accuracy: 0.9691358024691358, Loss: 0.23359556551332827\n",
      "Checkpoint 180, Accuracy: 0.9691358024691358, Loss: 0.226360939167164\n",
      "Checkpoint 190, Accuracy: 0.9629629629629629, Loss: 0.22305991914537218\n",
      "Checkpoint 200, Accuracy: 0.9567901234567902, Loss: 0.22014239982322412\n"
     ]
    }
   ],
   "source": [
    "# learning phase\n",
    "breakpoint = 10\n",
    "checkpoints = list()\n",
    "history = list()\n",
    "for century in range(0, EPOCHS, breakpoint):\n",
    "    sub_history = model.fit(x_train, y_train, breakpoint, verbose = 0)\n",
    "    score = model.evaluate(x_test, y_test, False, verbose = 0)\n",
    "    print('Checkpoint {}, Accuracy: {}, Loss: {}'.format(century+breakpoint, score['accuracy'], score[model.loss_fn]))\n",
    "    score['checkpoint'] = century + breakpoint\n",
    "    checkpoints.append(score)\n",
    "    history.extend(sub_history)"
   ]
  },
  {
   "cell_type": "code",
   "execution_count": 9,
   "metadata": {},
   "outputs": [],
   "source": [
    "import matplotlib.pyplot as plt\n",
    "\n",
    "def draw_plot(x, y_list, x_label=None, y_label=None, legend=None, title=None):\n",
    "    fig, ax = plt.subplots(figsize=(12,5))\n",
    "    for xi, yi in zip(x, y_list):\n",
    "        ax.plot(xi, yi)\n",
    "    if x_label is not None and y_label is not None:\n",
    "        ax.set(xlabel=x_label, ylabel=y_label, title='{} VS {}'.format(x_label, y_label))\n",
    "    if legend is not None:\n",
    "        ax.legend(legend)\n",
    "    ax.grid()\n",
    "    plt.show()"
   ]
  },
  {
   "cell_type": "code",
   "execution_count": 10,
   "metadata": {},
   "outputs": [
    {
     "name": "stdout",
     "output_type": "stream",
     "text": [
      "[0. 1. 0.] <-> [0.06392786 0.9319314  0.00414068]\n",
      "[1. 0. 0.] <-> [0.8966427  0.02805931 0.07529797]\n",
      "[1. 0. 0.] <-> [0.79760444 0.02442225 0.17797329]\n",
      "[1. 0. 0.] <-> [0.9387589  0.01565575 0.04558535]\n",
      "[1. 0. 0.] <-> [0.938024   0.01813812 0.04383789]\n",
      "[1. 0. 0.] <-> [0.7680186  0.19180039 0.04018098]\n",
      "[1. 0. 0.] <-> [0.57469994 0.392548   0.03275201]\n",
      "[0. 1. 0.] <-> [0.06107398 0.93510896 0.00381703]\n",
      "[1. 0. 0.] <-> [0.9419568  0.01925751 0.03878567]\n",
      "[1. 0. 0.] <-> [0.9193343  0.03609152 0.04457414]\n",
      "[1. 0. 0.] <-> [0.9376847  0.02394245 0.03837281]\n",
      "[1. 0. 0.] <-> [0.90913975 0.01303484 0.07782546]\n",
      "[1. 0. 0.] <-> [0.9327296  0.01924328 0.04802714]\n",
      "[1. 0. 0.] <-> [0.8596285  0.10570059 0.03467095]\n",
      "[1. 0. 0.] <-> [0.9238798  0.01660241 0.05951779]\n",
      "[0. 0. 1.] <-> [0.17715207 0.00132092 0.82152706]\n",
      "[0. 1. 0.] <-> [0.16960515 0.81710535 0.01328943]\n",
      "[1. 0. 0.] <-> [0.89208937 0.07679693 0.03111367]\n",
      "[1. 0. 0.] <-> [0.8992232  0.01086782 0.08990899]\n",
      "[0. 1. 0.] <-> [0.26493403 0.7189713  0.01609459]\n",
      "[1. 0. 0.] <-> [0.92108303 0.03510132 0.04381572]\n",
      "[0. 1. 0.] <-> [0.0655457  0.93013626 0.00431805]\n",
      "[0. 0. 1.] <-> [0.17528799 0.00112461 0.82358736]\n",
      "[1. 0. 0.] <-> [0.848642   0.06942966 0.08192834]\n",
      "[0. 1. 0.] <-> [0.07498997 0.919671   0.005339  ]\n",
      "[1. 0. 0.] <-> [0.913051   0.04745879 0.03949015]\n",
      "[1. 0. 0.] <-> [0.82896006 0.01794387 0.15309605]\n",
      "[0. 0. 1.] <-> [0.08335449 0.01152769 0.90511775]\n",
      "[0. 0. 1.] <-> [0.50144184 0.0087962  0.489762  ]\n",
      "[1. 0. 0.] <-> [0.80771303 0.15609246 0.03619451]\n",
      "[1. 0. 0.] <-> [0.90367895 0.05119192 0.04512908]\n",
      "[0. 0. 1.] <-> [0.69100004 0.0094282  0.2995717 ]\n",
      "[0. 0. 1.] <-> [0.44803864 0.00674408 0.5452173 ]\n",
      "[1. 0. 0.] <-> [0.8886908  0.04426074 0.06704839]\n",
      "[1. 0. 0.] <-> [0.8393357  0.11669169 0.04397254]\n",
      "[1. 0. 0.] <-> [0.8236112  0.14162785 0.03476085]\n",
      "[1. 0. 0.] <-> [0.767872   0.18900974 0.04311831]\n",
      "[0. 1. 0.] <-> [0.34148008 0.63487834 0.0236416 ]\n",
      "[0. 0. 1.] <-> [0.10074921 0.00331468 0.89593613]\n",
      "[1. 0. 0.] <-> [0.92384064 0.03209807 0.04406132]\n",
      "[1. 0. 0.] <-> [0.8814767  0.02884252 0.08968081]\n",
      "[1. 0. 0.] <-> [0.41942367 0.5578256  0.02275067]\n",
      "[0. 1. 0.] <-> [0.37476894 0.6082404  0.01699061]\n",
      "[1. 0. 0.] <-> [0.8527644  0.11423939 0.0329962 ]\n",
      "[1. 0. 0.] <-> [0.9201484  0.04789595 0.03195573]\n",
      "[1. 0. 0.] <-> [0.9033993  0.06193442 0.0346664 ]\n",
      "[1. 0. 0.] <-> [0.93478453 0.0339882  0.03122725]\n",
      "[1. 0. 0.] <-> [0.91240203 0.04847679 0.03912113]\n",
      "[0. 1. 0.] <-> [0.06014447 0.9361125  0.00374304]\n",
      "[1. 0. 0.] <-> [0.93730175 0.02284166 0.0398566 ]\n",
      "[1. 0. 0.] <-> [0.9198705  0.02531226 0.05481727]\n",
      "[1. 0. 0.] <-> [0.9205828  0.04308238 0.0363348 ]\n",
      "[1. 0. 0.] <-> [0.8477572  0.00861796 0.14362483]\n",
      "[1. 0. 0.] <-> [0.90881807 0.05248609 0.03869587]\n",
      "[1. 0. 0.] <-> [0.8773343  0.08844104 0.03422465]\n",
      "[1. 0. 0.] <-> [0.9349107  0.02089614 0.04419318]\n",
      "[0. 1. 0.] <-> [0.05978174 0.9365186  0.00369972]\n",
      "[1. 0. 0.] <-> [0.8984152  0.04284444 0.05874025]\n",
      "[1. 0. 0.] <-> [0.71488816 0.24130747 0.04380432]\n",
      "[1. 0. 0.] <-> [0.9013134  0.04551117 0.05317534]\n",
      "[1. 0. 0.] <-> [0.9338539  0.03143564 0.03471038]\n",
      "[1. 0. 0.] <-> [0.92544794 0.02814631 0.04640571]\n",
      "[0. 1. 0.] <-> [0.08393906 0.9099485  0.00611242]\n",
      "[1. 0. 0.] <-> [0.87523484 0.0986172  0.02614803]\n",
      "[1. 0. 0.] <-> [0.9145345  0.03434577 0.05111971]\n",
      "[1. 0. 0.] <-> [0.6847355  0.24309199 0.07217258]\n",
      "[1. 0. 0.] <-> [0.8613479  0.08850443 0.05014773]\n",
      "[0. 0. 1.] <-> [0.8244595  0.01188902 0.1636515 ]\n",
      "[1. 0. 0.] <-> [0.919596   0.01529247 0.06511156]\n",
      "[1. 0. 0.] <-> [0.92363864 0.04286169 0.03349964]\n",
      "[1. 0. 0.] <-> [0.6744219  0.29287556 0.03270251]\n",
      "[1. 0. 0.] <-> [0.9162123  0.0101923  0.07359543]\n",
      "[1. 0. 0.] <-> [0.91552436 0.0108155  0.07366018]\n",
      "[1. 0. 0.] <-> [0.8914134  0.06326008 0.04532662]\n",
      "[1. 0. 0.] <-> [0.716533   0.02406798 0.259399  ]\n",
      "[0. 1. 0.] <-> [0.50359505 0.47254834 0.02385657]\n",
      "[1. 0. 0.] <-> [0.9241883  0.01249158 0.06332003]\n",
      "[0. 0. 1.] <-> [0.14482312 0.00102549 0.85415137]\n",
      "[1. 0. 0.] <-> [0.92512816 0.01079242 0.06407946]\n",
      "[1. 0. 0.] <-> [0.8131794  0.0965737  0.09024697]\n",
      "[0. 1. 0.] <-> [0.09604275 0.89642423 0.007533  ]\n",
      "[1. 0. 0.] <-> [0.91359794 0.02078412 0.0656179 ]\n",
      "[1. 0. 0.] <-> [0.72057855 0.24082378 0.03859764]\n",
      "[1. 0. 0.] <-> [0.86367756 0.02938182 0.10694056]\n",
      "[1. 0. 0.] <-> [0.94352466 0.02102725 0.03544809]\n",
      "[1. 0. 0.] <-> [0.93015754 0.03130532 0.03853719]\n",
      "[1. 0. 0.] <-> [0.9300796  0.02679216 0.04312831]\n",
      "[0. 1. 0.] <-> [0.3632303  0.61737233 0.0193974 ]\n",
      "[1. 0. 0.] <-> [0.8727108  0.02388668 0.10340245]\n",
      "[0. 0. 1.] <-> [0.80491537 0.00653944 0.18854523]\n",
      "[0. 0. 1.] <-> [0.25405824 0.00181759 0.7441242 ]\n",
      "[1. 0. 0.] <-> [0.91377133 0.02463669 0.06159199]\n",
      "[0. 1. 0.] <-> [0.13223079 0.8601898  0.00757943]\n",
      "[1. 0. 0.] <-> [0.9157732  0.05576331 0.02846339]\n",
      "[0. 0. 1.] <-> [0.2355465  0.00157692 0.76287663]\n",
      "[1. 0. 0.] <-> [0.93815726 0.0209901  0.04085261]\n",
      "[1. 0. 0.] <-> [0.8898131  0.07798496 0.03220193]\n",
      "[1. 0. 0.] <-> [0.8971518  0.01040878 0.09243936]\n",
      "[1. 0. 0.] <-> [0.9446886  0.0165277  0.03878367]\n",
      "[0. 1. 0.] <-> [0.2972859  0.68361694 0.0190971 ]\n",
      "[1. 0. 0.] <-> [0.6608751  0.2969451  0.04217985]\n",
      "[1. 0. 0.] <-> [0.9053244  0.06171247 0.03296315]\n",
      "[0. 0. 1.] <-> [0.2605287  0.00172476 0.73774654]\n",
      "[0. 0. 1.] <-> [0.51142365 0.00366529 0.48491105]\n",
      "[1. 0. 0.] <-> [0.7029898  0.26613972 0.03087045]\n",
      "[1. 0. 0.] <-> [0.9157106  0.05333998 0.03094936]\n",
      "[1. 0. 0.] <-> [0.8811215  0.06734118 0.05153739]\n",
      "[1. 0. 0.] <-> [0.9188908  0.03701453 0.04409466]\n",
      "{'accuracy': 0.9567901234567902, 'mean_square_error': 0.10269360187753655, 'categorical_crossentropy': 0.22014239982322412, 'essential_metrics': {0: {'tp_hit': 77, 'fp_hit': 6, 'tn_hit': 24, 'fn_hit': 1}, 1: {'tp_hit': 15, 'fp_hit': 1, 'tn_hit': 91, 'fn_hit': 1}, 2: {'tp_hit': 9, 'fp_hit': 0, 'tn_hit': 94, 'fn_hit': 5}}}\n"
     ]
    }
   ],
   "source": [
    "# recall phase\n",
    "score = model.evaluate(x_test, y_test, False)\n",
    "print(score)"
   ]
  },
  {
   "cell_type": "code",
   "execution_count": 11,
   "metadata": {},
   "outputs": [],
   "source": [
    "train_acc = [h['accuracy'] for h in history]\n",
    "train_mse = [h['mean_square_error'] for h in history]\n",
    "train_cce = [h['categorical_crossentropy'] for h in history]"
   ]
  },
  {
   "cell_type": "code",
   "execution_count": 12,
   "metadata": {},
   "outputs": [
    {
     "data": {
      "image/png": "[encoded data removed]",
      "text/plain": [
       "<Figure size 864x360 with 1 Axes>"
      ]
     },
     "metadata": {
      "needs_background": "light"
     },
     "output_type": "display_data"
    },
    {
     "data": {
      "image/png": "[encoded data removed]",
      "text/plain": [
       "<Figure size 864x360 with 1 Axes>"
      ]
     },
     "metadata": {
      "needs_background": "light"
     },
     "output_type": "display_data"
    }
   ],
   "source": [
    "draw_plot(x = [[i for i in range(len(history))], [(i+1)*breakpoint for i in range(len(checkpoints))]], y_list = [train_cce, [ ckp[model.loss_fn] for ckp in checkpoints ]], x_label = 'Epochs', \\\n",
    "    y_label = model.loss_fn, legend=['train', 'test'])\n",
    "acc = [ ckp['accuracy'] for ckp in checkpoints ]\n",
    "draw_plot(x = [[i for i in range(len(history))], [(i+1)*breakpoint for i in range(len(checkpoints))]], y_list = [train_acc, acc], x_label = 'Checkpoints', \\\n",
    "    y_label = 'accuracy', legend=['train', 'test'])"
   ]
  },
  {
   "cell_type": "code",
   "execution_count": 13,
   "metadata": {},
   "outputs": [
    {
     "name": "stdout",
     "output_type": "stream",
     "text": [
      "{'accuracy': 0.8148148148148148, 'mean_square_error': 0.41578742833500115, 'categorical_crossentropy': 0.7349212787769459, 'essential_metrics': {0: {'tp_hit': 78, 'fp_hit': 30, 'tn_hit': 0, 'fn_hit': 0}, 1: {'tp_hit': 0, 'fp_hit': 0, 'tn_hit': 92, 'fn_hit': 16}, 2: {'tp_hit': 0, 'fp_hit': 0, 'tn_hit': 94, 'fn_hit': 14}}, 'checkpoint': 10} \n",
      "\n",
      "\n",
      "{'accuracy': 0.8765432098765432, 'mean_square_error': 0.31028006019963167, 'categorical_crossentropy': 0.5651772110550491, 'essential_metrics': {0: {'tp_hit': 78, 'fp_hit': 20, 'tn_hit': 10, 'fn_hit': 0}, 1: {'tp_hit': 10, 'fp_hit': 0, 'tn_hit': 92, 'fn_hit': 6}, 2: {'tp_hit': 0, 'fp_hit': 0, 'tn_hit': 94, 'fn_hit': 14}}, 'checkpoint': 20} \n",
      "\n",
      "\n",
      "{'accuracy': 0.8580246913580247, 'mean_square_error': 0.27543935175972684, 'categorical_crossentropy': 0.47446780734592015, 'essential_metrics': {0: {'tp_hit': 72, 'fp_hit': 17, 'tn_hit': 13, 'fn_hit': 6}, 1: {'tp_hit': 12, 'fp_hit': 6, 'tn_hit': 86, 'fn_hit': 4}, 2: {'tp_hit': 1, 'fp_hit': 0, 'tn_hit': 94, 'fn_hit': 13}}, 'checkpoint': 30} \n",
      "\n",
      "\n",
      "{'accuracy': 0.8641975308641975, 'mean_square_error': 0.2558441185839467, 'categorical_crossentropy': 0.4433296698111075, 'essential_metrics': {0: {'tp_hit': 73, 'fp_hit': 17, 'tn_hit': 13, 'fn_hit': 5}, 1: {'tp_hit': 11, 'fp_hit': 5, 'tn_hit': 87, 'fn_hit': 5}, 2: {'tp_hit': 2, 'fp_hit': 0, 'tn_hit': 94, 'fn_hit': 12}}, 'checkpoint': 40} \n",
      "\n",
      "\n",
      "{'accuracy': 0.9074074074074074, 'mean_square_error': 0.21073411670803194, 'categorical_crossentropy': 0.38350885885733144, 'essential_metrics': {0: {'tp_hit': 78, 'fp_hit': 15, 'tn_hit': 15, 'fn_hit': 0}, 1: {'tp_hit': 9, 'fp_hit': 0, 'tn_hit': 92, 'fn_hit': 7}, 2: {'tp_hit': 6, 'fp_hit': 0, 'tn_hit': 94, 'fn_hit': 8}}, 'checkpoint': 50} \n",
      "\n",
      "\n",
      "{'accuracy': 0.9197530864197531, 'mean_square_error': 0.21702949126843235, 'categorical_crossentropy': 0.39323863276728876, 'essential_metrics': {0: {'tp_hit': 78, 'fp_hit': 13, 'tn_hit': 17, 'fn_hit': 0}, 1: {'tp_hit': 9, 'fp_hit': 0, 'tn_hit': 92, 'fn_hit': 7}, 2: {'tp_hit': 8, 'fp_hit': 0, 'tn_hit': 94, 'fn_hit': 6}}, 'checkpoint': 60} \n",
      "\n",
      "\n",
      "{'accuracy': 0.9382716049382716, 'mean_square_error': 0.16735446134357249, 'categorical_crossentropy': 0.33868736690945095, 'essential_metrics': {0: {'tp_hit': 78, 'fp_hit': 10, 'tn_hit': 20, 'fn_hit': 0}, 1: {'tp_hit': 11, 'fp_hit': 0, 'tn_hit': 92, 'fn_hit': 5}, 2: {'tp_hit': 9, 'fp_hit': 0, 'tn_hit': 94, 'fn_hit': 5}}, 'checkpoint': 70} \n",
      "\n",
      "\n",
      "{'accuracy': 0.9320987654320988, 'mean_square_error': 0.16053477857247891, 'categorical_crossentropy': 0.32116547337284795, 'essential_metrics': {0: {'tp_hit': 78, 'fp_hit': 11, 'tn_hit': 19, 'fn_hit': 0}, 1: {'tp_hit': 9, 'fp_hit': 0, 'tn_hit': 92, 'fn_hit': 7}, 2: {'tp_hit': 10, 'fp_hit': 0, 'tn_hit': 94, 'fn_hit': 4}}, 'checkpoint': 80} \n",
      "\n",
      "\n",
      "{'accuracy': 0.9320987654320988, 'mean_square_error': 0.15088818274491556, 'categorical_crossentropy': 0.30336489500822844, 'essential_metrics': {0: {'tp_hit': 78, 'fp_hit': 11, 'tn_hit': 19, 'fn_hit': 0}, 1: {'tp_hit': 10, 'fp_hit': 0, 'tn_hit': 92, 'fn_hit': 6}, 2: {'tp_hit': 9, 'fp_hit': 0, 'tn_hit': 94, 'fn_hit': 5}}, 'checkpoint': 90} \n",
      "\n",
      "\n",
      "{'accuracy': 0.9382716049382716, 'mean_square_error': 0.15085100000624305, 'categorical_crossentropy': 0.30307900464093246, 'essential_metrics': {0: {'tp_hit': 78, 'fp_hit': 10, 'tn_hit': 20, 'fn_hit': 0}, 1: {'tp_hit': 11, 'fp_hit': 0, 'tn_hit': 92, 'fn_hit': 5}, 2: {'tp_hit': 9, 'fp_hit': 0, 'tn_hit': 94, 'fn_hit': 5}}, 'checkpoint': 100} \n",
      "\n",
      "\n",
      "{'accuracy': 0.9567901234567902, 'mean_square_error': 0.13138997803687374, 'categorical_crossentropy': 0.2742281843114782, 'essential_metrics': {0: {'tp_hit': 77, 'fp_hit': 6, 'tn_hit': 24, 'fn_hit': 1}, 1: {'tp_hit': 14, 'fp_hit': 1, 'tn_hit': 91, 'fn_hit': 2}, 2: {'tp_hit': 10, 'fp_hit': 0, 'tn_hit': 94, 'fn_hit': 4}}, 'checkpoint': 110} \n",
      "\n",
      "\n",
      "{'accuracy': 0.9567901234567902, 'mean_square_error': 0.12469138712175178, 'categorical_crossentropy': 0.2527569664849175, 'essential_metrics': {0: {'tp_hit': 78, 'fp_hit': 7, 'tn_hit': 23, 'fn_hit': 0}, 1: {'tp_hit': 14, 'fp_hit': 0, 'tn_hit': 92, 'fn_hit': 2}, 2: {'tp_hit': 9, 'fp_hit': 0, 'tn_hit': 94, 'fn_hit': 5}}, 'checkpoint': 120} \n",
      "\n",
      "\n",
      "{'accuracy': 0.9629629629629629, 'mean_square_error': 0.1272449356867336, 'categorical_crossentropy': 0.26076182612666376, 'essential_metrics': {0: {'tp_hit': 78, 'fp_hit': 6, 'tn_hit': 24, 'fn_hit': 0}, 1: {'tp_hit': 14, 'fp_hit': 0, 'tn_hit': 92, 'fn_hit': 2}, 2: {'tp_hit': 10, 'fp_hit': 0, 'tn_hit': 94, 'fn_hit': 4}}, 'checkpoint': 130} \n",
      "\n",
      "\n",
      "{'accuracy': 0.9629629629629629, 'mean_square_error': 0.11959324630867936, 'categorical_crossentropy': 0.2500717551619918, 'essential_metrics': {0: {'tp_hit': 78, 'fp_hit': 6, 'tn_hit': 24, 'fn_hit': 0}, 1: {'tp_hit': 13, 'fp_hit': 0, 'tn_hit': 92, 'fn_hit': 3}, 2: {'tp_hit': 11, 'fp_hit': 0, 'tn_hit': 94, 'fn_hit': 3}}, 'checkpoint': 140} \n",
      "\n",
      "\n",
      "{'accuracy': 0.9691358024691358, 'mean_square_error': 0.10579820079625363, 'categorical_crossentropy': 0.22741598553127712, 'essential_metrics': {0: {'tp_hit': 78, 'fp_hit': 5, 'tn_hit': 25, 'fn_hit': 0}, 1: {'tp_hit': 14, 'fp_hit': 0, 'tn_hit': 92, 'fn_hit': 2}, 2: {'tp_hit': 11, 'fp_hit': 0, 'tn_hit': 94, 'fn_hit': 3}}, 'checkpoint': 150} \n",
      "\n",
      "\n",
      "{'accuracy': 0.9691358024691358, 'mean_square_error': 0.10866242122369218, 'categorical_crossentropy': 0.23588975270589194, 'essential_metrics': {0: {'tp_hit': 77, 'fp_hit': 4, 'tn_hit': 26, 'fn_hit': 1}, 1: {'tp_hit': 15, 'fp_hit': 1, 'tn_hit': 91, 'fn_hit': 1}, 2: {'tp_hit': 11, 'fp_hit': 0, 'tn_hit': 94, 'fn_hit': 3}}, 'checkpoint': 160} \n",
      "\n",
      "\n",
      "{'accuracy': 0.9691358024691358, 'mean_square_error': 0.1085565299006524, 'categorical_crossentropy': 0.23359556551332827, 'essential_metrics': {0: {'tp_hit': 78, 'fp_hit': 5, 'tn_hit': 25, 'fn_hit': 0}, 1: {'tp_hit': 14, 'fp_hit': 0, 'tn_hit': 92, 'fn_hit': 2}, 2: {'tp_hit': 11, 'fp_hit': 0, 'tn_hit': 94, 'fn_hit': 3}}, 'checkpoint': 170} \n",
      "\n",
      "\n",
      "{'accuracy': 0.9691358024691358, 'mean_square_error': 0.10311196712209972, 'categorical_crossentropy': 0.226360939167164, 'essential_metrics': {0: {'tp_hit': 77, 'fp_hit': 4, 'tn_hit': 26, 'fn_hit': 1}, 1: {'tp_hit': 15, 'fp_hit': 1, 'tn_hit': 91, 'fn_hit': 1}, 2: {'tp_hit': 11, 'fp_hit': 0, 'tn_hit': 94, 'fn_hit': 3}}, 'checkpoint': 180} \n",
      "\n",
      "\n",
      "{'accuracy': 0.9629629629629629, 'mean_square_error': 0.10335437715845297, 'categorical_crossentropy': 0.22305991914537218, 'essential_metrics': {0: {'tp_hit': 77, 'fp_hit': 5, 'tn_hit': 25, 'fn_hit': 1}, 1: {'tp_hit': 15, 'fp_hit': 1, 'tn_hit': 91, 'fn_hit': 1}, 2: {'tp_hit': 10, 'fp_hit': 0, 'tn_hit': 94, 'fn_hit': 4}}, 'checkpoint': 190} \n",
      "\n",
      "\n",
      "{'accuracy': 0.9567901234567902, 'mean_square_error': 0.10269360187753655, 'categorical_crossentropy': 0.22014239982322412, 'essential_metrics': {0: {'tp_hit': 77, 'fp_hit': 6, 'tn_hit': 24, 'fn_hit': 1}, 1: {'tp_hit': 15, 'fp_hit': 1, 'tn_hit': 91, 'fn_hit': 1}, 2: {'tp_hit': 9, 'fp_hit': 0, 'tn_hit': 94, 'fn_hit': 5}}, 'checkpoint': 200} \n",
      "\n",
      "\n"
     ]
    }
   ],
   "source": [
    "for checkpoint in checkpoints:\n",
    "    print(checkpoint, '\\n\\n')"
   ]
  },
  {
   "cell_type": "code",
   "execution_count": 14,
   "metadata": {},
   "outputs": [
    {
     "name": "stdout",
     "output_type": "stream",
     "text": [
      "Layer 1\n",
      "Neuron 0: weights:\n",
      "[ 0.11954498 -1.4170647   0.05098345  1.037829    1.135515  ]\n",
      " bias: -1.4126355648040771\n",
      "\n",
      "Neuron 1: weights:\n",
      "[-0.26787603  1.0344176  -0.04202643 -0.10988652 -0.05907748]\n",
      " bias: 0.013333137147128582\n",
      "\n",
      "Neuron 2: weights:\n",
      "[-0.15642022  0.6802546   1.1197835   0.03352064  0.03524494]\n",
      " bias: -0.19088847935199738\n",
      "\n",
      "Neuron 3: weights:\n",
      "[ 0.9371312  -1.7157218  -1.526232   -0.17106318 -0.6029814 ]\n",
      " bias: 0.746878981590271\n",
      "\n",
      "$\n",
      "Layer 2\n",
      "Neuron 0: weights:\n",
      "[-2.5686533   0.10121105 -1.1360561   2.2028747 ]\n",
      " bias: 0.04546010494232178\n",
      "\n",
      "Neuron 1: weights:\n",
      "[-2.3894053  1.3831686  0.5748537 -3.       ]\n",
      " bias: -0.16684909164905548\n",
      "\n",
      "Neuron 2: weights:\n",
      "[ 3.         -0.34724262 -1.9350965   0.05739799]\n",
      " bias: -1.505378007888794\n",
      "\n",
      "$\n",
      "\n"
     ]
    }
   ],
   "source": [
    "print(model)"
   ]
  },
  {
   "cell_type": "code",
   "execution_count": null,
   "metadata": {},
   "outputs": [],
   "source": []
  }
 ],
 "metadata": {
  "kernelspec": {
   "display_name": "Python 3",
   "language": "python",
   "name": "python3"
  },
  "language_info": {
   "codemirror_mode": {
    "name": "ipython",
    "version": 3
   },
   "file_extension": ".py",
   "mimetype": "text/x-python",
   "name": "python",
   "nbconvert_exporter": "python",
   "pygments_lexer": "ipython3",
   "version": "3.6.12"
  }
 },
 "nbformat": 4,
 "nbformat_minor": 2
}
