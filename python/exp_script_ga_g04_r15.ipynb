{
 "cells": [
  {
   "cell_type": "code",
   "execution_count": 1,
   "metadata": {},
   "outputs": [],
   "source": [
    "# two"
   ]
  },
  {
   "cell_type": "code",
   "execution_count": 2,
   "metadata": {},
   "outputs": [],
   "source": [
    "# dependency\n",
    "import numpy as np\n",
    "import pandas as pd\n",
    "import copy\n",
    "import math\n",
    "import sys\n",
    "import os\n",
    "from activations import relu, leaky_relu, sigmoid, tanh, softmax, d_sigmoid, d_relu\n",
    "from initializers import glorot_uniform, random_normal, random_uniform\n",
    "from regularizers import l1_regularizer, l2_regularizer\n",
    "from utility import trim_tail, multiply, subtract, get_nparams, one_hot_encoding, get_data\n",
    "from metrics import MSE, CCE, ACC, PRECISION, RECALL, essential_metrics, wondering_penalty, close_gap_penalty\n",
    "from pso import PSO\n",
    "from ga import GA\n",
    "from nn import Network\n",
    "from layer import DenseLayer\n",
    "from scalers import MinMaxScaler, StandardScaler"
   ]
  },
  {
   "cell_type": "code",
   "execution_count": 3,
   "metadata": {},
   "outputs": [],
   "source": [
    "# reference\n",
    "metrics_fn_dict = dict()\n",
    "metrics_fn_dict['accuracy'] = ACC\n",
    "metrics_fn_dict['categorical_crossentropy'] = CCE\n",
    "metrics_fn_dict['mean_square_error'] = MSE\n",
    "metrics_fn_dict['precision'] = PRECISION\n",
    "metrics_fn_dict['recall'] = RECALL\n",
    "metrics_fn_dict['essential_metrics'] = essential_metrics"
   ]
  },
  {
   "cell_type": "code",
   "execution_count": 4,
   "metadata": {},
   "outputs": [],
   "source": [
    "# model\n",
    "model = Network(5, lr = None)\n",
    "model.add_layer(DenseLayer(1, 4, True, afn=sigmoid, dafn=None, rfn=None))\n",
    "model.add_layer(DenseLayer(2, 3, True, afn=softmax, dafn=None, rfn=None))"
   ]
  },
  {
   "cell_type": "code",
   "execution_count": 5,
   "metadata": {},
   "outputs": [],
   "source": [
    "# optimizer\n",
    "ga = GA(\n",
    "    dict(\n",
    "        m = 50,\n",
    "        x_rate = 0.5,\n",
    "        m_rate = 0.5,\n",
    "        weight_constraint = [-3.,3.],\n",
    "        radioactive_rating = 0.1,\n",
    "        grow_factor = 0.1,\n",
    "        scale_hyperparameter = False,\n",
    "        regularizer = None))"
   ]
  },
  {
   "cell_type": "code",
   "execution_count": 6,
   "metadata": {},
   "outputs": [
    {
     "name": "stdout",
     "output_type": "stream",
     "text": [
      "building layer 1 with 5\n",
      "24\n",
      "building layer 2 with 4\n",
      "15\n"
     ]
    }
   ],
   "source": [
    "model.compile(loss_fn = 'categorical_crossentropy', optimizer = ga, \\\n",
    "    metrics = ['accuracy', 'mean_square_error', 'categorical_crossentropy', 'precision', 'recall', 'f1'])"
   ]
  },
  {
   "cell_type": "code",
   "execution_count": 7,
   "metadata": {},
   "outputs": [
    {
     "name": "stdout",
     "output_type": "stream",
     "text": [
      "<class 'pandas.core.frame.DataFrame'>\n",
      "RangeIndex: 107 entries, 0 to 106\n",
      "Data columns (total 6 columns):\n",
      " #   Column  Non-Null Count  Dtype  \n",
      "---  ------  --------------  -----  \n",
      " 0   f1      107 non-null    float32\n",
      " 1   f2      107 non-null    float32\n",
      " 2   f3      107 non-null    float32\n",
      " 3   f4      107 non-null    float32\n",
      " 4   f5      107 non-null    float32\n",
      " 5   label   107 non-null    float32\n",
      "dtypes: float32(6)\n",
      "memory usage: 2.6 KB\n",
      "None\n",
      "<class 'pandas.core.frame.DataFrame'>\n",
      "RangeIndex: 108 entries, 0 to 107\n",
      "Data columns (total 6 columns):\n",
      " #   Column  Non-Null Count  Dtype  \n",
      "---  ------  --------------  -----  \n",
      " 0   f1      108 non-null    float32\n",
      " 1   f2      108 non-null    float32\n",
      " 2   f3      108 non-null    float32\n",
      " 3   f4      108 non-null    float32\n",
      " 4   f5      108 non-null    float32\n",
      " 5   label   108 non-null    float32\n",
      "dtypes: float32(6)\n",
      "memory usage: 2.7 KB\n",
      "None\n"
     ]
    }
   ],
   "source": [
    "# data loading\n",
    "DATA = os.path.join('c:\\\\Users\\\\tcumi\\\\github_repo\\\\neural-network\\\\', 'dataset')\n",
    "GROUP = 4\n",
    "COLUMNS = ['f1', 'f2', 'f3', 'f4', 'f5', 'label']\n",
    "N_CLASS = 3\n",
    "EPOCHS = 500\n",
    "train_dir, test_dir = \"..//dataset//training_data{}.txt\".format(GROUP), \"..//dataset//testing_data{}.txt\".format(GROUP)\n",
    "train, test = get_data(DATA, train_dir, COLUMNS), get_data(DATA, test_dir, COLUMNS)\n",
    "# shuffle\n",
    "train, test = train.sample(frac=1), test.sample(frac=1)\n",
    "x_train, y_train = train.drop('label', axis=1), train['label']\n",
    "x_test, y_test = test.drop('label', axis=1), test['label']"
   ]
  },
  {
   "cell_type": "code",
   "execution_count": 8,
   "metadata": {},
   "outputs": [],
   "source": [
    "# data scaling and encoding\n",
    "scaler = StandardScaler(['f1', 'f2', 'f3', 'f4', 'f5'])\n",
    "scaler.fit(x_train)\n",
    "x_train = scaler.transform(x_train)\n",
    "x_test = scaler.transform(x_test)\n",
    "y_train = one_hot_encoding(y_train, N_CLASS)\n",
    "y_test = one_hot_encoding(y_test, N_CLASS)"
   ]
  },
  {
   "cell_type": "code",
   "execution_count": 9,
   "metadata": {
    "scrolled": true,
    "tags": [
     "outputPrepend"
    ]
   },
   "outputs": [
    {
     "name": "stderr",
     "output_type": "stream",
     "text": [
      "C:\\Users\\tcumi\\github_repo\\neural-network\\python\\ga.py:201: RuntimeWarning: overflow encountered in add\n",
      "  self.population.sort(key=lambda p: p.fitness + np.random.uniform(-shift, shift, 1), reverse = self.aim)\n"
     ]
    },
    {
     "name": "stdout",
     "output_type": "stream",
     "text": [
      "Checkpoint 100, Accuracy: 0.8827160493827161, Loss: 0.4250594598275644\n",
      "Checkpoint 200, Accuracy: 0.9444444444444444, Loss: 0.38529028715910735\n",
      "Checkpoint 300, Accuracy: 0.9506172839506173, Loss: 0.34662398585566767\n",
      "Checkpoint 400, Accuracy: 0.9567901234567902, Loss: 0.32114297372323497\n",
      "Checkpoint 500, Accuracy: 0.9506172839506173, Loss: 0.2929602375736943\n"
     ]
    }
   ],
   "source": [
    "# learning phase\n",
    "breakpoint = 100\n",
    "checkpoints = list()\n",
    "history = list()\n",
    "for century in range(0, EPOCHS, breakpoint):\n",
    "    sub_history = model.fit(x_train, y_train, breakpoint, verbose = 0)\n",
    "    score = model.evaluate(x_test, y_test, False, verbose = 0)\n",
    "    print('Checkpoint {}, Accuracy: {}, Loss: {}'.format(century+breakpoint, score['accuracy'], score[model.loss_fn]))\n",
    "    score['checkpoint'] = century + breakpoint\n",
    "    checkpoints.append(score)\n",
    "    history.extend(sub_history)\n",
    "    "
   ]
  },
  {
   "cell_type": "code",
   "execution_count": 10,
   "metadata": {},
   "outputs": [],
   "source": [
    "import matplotlib.pyplot as plt\n",
    "\n",
    "def draw_plot(x, y_list, x_label=None, y_label=None, legend=None, title=None):\n",
    "    fig, ax = plt.subplots(figsize=(12,5))\n",
    "    for xi, yi in zip(x, y_list):\n",
    "        ax.plot(xi, yi)\n",
    "    if x_label is not None and y_label is not None:\n",
    "        ax.set(xlabel=x_label, ylabel=y_label, title='{} VS {}'.format(x_label, y_label))\n",
    "    if legend is not None:\n",
    "        ax.legend(legend)\n",
    "    ax.grid()\n",
    "    plt.show()"
   ]
  },
  {
   "cell_type": "code",
   "execution_count": 11,
   "metadata": {},
   "outputs": [
    {
     "name": "stdout",
     "output_type": "stream",
     "text": [
      "[1. 0. 0.] <-> [0.88346326 0.03135245 0.08518434]\n",
      "[1. 0. 0.] <-> [0.77712345 0.14763463 0.07524189]\n",
      "[1. 0. 0.] <-> [0.865226   0.02080629 0.11396771]\n",
      "[1. 0. 0.] <-> [0.8970044  0.03006205 0.07293355]\n",
      "[1. 0. 0.] <-> [0.8788297  0.02176786 0.09940237]\n",
      "[1. 0. 0.] <-> [0.90136737 0.03580362 0.06282892]\n",
      "[1. 0. 0.] <-> [0.8908555  0.02889053 0.08025401]\n",
      "[1. 0. 0.] <-> [0.89328235 0.0215415  0.08517621]\n",
      "[1. 0. 0.] <-> [0.8076556  0.10813538 0.08420905]\n",
      "[1. 0. 0.] <-> [0.88655275 0.02073713 0.09271014]\n",
      "[1. 0. 0.] <-> [0.89042753 0.03759184 0.07198071]\n",
      "[1. 0. 0.] <-> [0.8547511  0.01374443 0.13150445]\n",
      "[1. 0. 0.] <-> [0.86216444 0.02693412 0.11090147]\n",
      "[1. 0. 0.] <-> [0.78879565 0.03998161 0.17122267]\n",
      "[0. 1. 0.] <-> [0.06756745 0.9092064  0.02322619]\n",
      "[1. 0. 0.] <-> [0.8739387  0.018844   0.10721739]\n",
      "[1. 0. 0.] <-> [0.89464074 0.02426329 0.08109596]\n",
      "[1. 0. 0.] <-> [0.8620157  0.01708736 0.12089686]\n",
      "[0. 0. 1.] <-> [0.3228542  0.00350677 0.67363906]\n",
      "[0. 0. 1.] <-> [0.33336923 0.00294583 0.66368496]\n",
      "[1. 0. 0.] <-> [0.86544013 0.0189442  0.11561568]\n",
      "[0. 0. 1.] <-> [0.71642905 0.0091909  0.27438015]\n",
      "[1. 0. 0.] <-> [0.7908032  0.01310843 0.19608843]\n",
      "[0. 1. 0.] <-> [0.56100833 0.35285753 0.08613417]\n",
      "[1. 0. 0.] <-> [0.8957872  0.03994534 0.06426737]\n",
      "[0. 0. 1.] <-> [0.34213147 0.00306068 0.65480787]\n",
      "[1. 0. 0.] <-> [0.72612524 0.01121219 0.2626626 ]\n",
      "[1. 0. 0.] <-> [0.86689514 0.01517001 0.1179349 ]\n",
      "[1. 0. 0.] <-> [0.86985016 0.01502093 0.1151289 ]\n",
      "[0. 0. 1.] <-> [0.36993977 0.00413481 0.6259254 ]\n",
      "[1. 0. 0.] <-> [0.87660825 0.02404203 0.09934973]\n",
      "[1. 0. 0.] <-> [0.88660836 0.02330181 0.09008986]\n",
      "[1. 0. 0.] <-> [0.89371604 0.03561279 0.07067117]\n",
      "[1. 0. 0.] <-> [0.7001181  0.22050446 0.07937742]\n",
      "[1. 0. 0.] <-> [0.8164353  0.01278136 0.17078345]\n",
      "[1. 0. 0.] <-> [0.85892934 0.0190092  0.12206139]\n",
      "[1. 0. 0.] <-> [0.820643   0.07448929 0.10486769]\n",
      "[0. 1. 0.] <-> [0.24175419 0.70912725 0.04911857]\n",
      "[1. 0. 0.] <-> [0.75947535 0.10166083 0.13886379]\n",
      "[1. 0. 0.] <-> [0.8775071  0.04317373 0.07931915]\n",
      "[1. 0. 0.] <-> [0.7316905  0.01065076 0.25765872]\n",
      "[1. 0. 0.] <-> [0.8808269  0.02416471 0.09500836]\n",
      "[0. 1. 0.] <-> [0.88688576 0.05657548 0.05653883]\n",
      "[1. 0. 0.] <-> [0.58236784 0.334538   0.08309417]\n",
      "[1. 0. 0.] <-> [0.7636619  0.11735665 0.11898146]\n",
      "[1. 0. 0.] <-> [0.89157957 0.03015518 0.07826533]\n",
      "[0. 1. 0.] <-> [0.05292055 0.92699206 0.02008731]\n",
      "[1. 0. 0.] <-> [0.79313004 0.01444151 0.19242841]\n",
      "[1. 0. 0.] <-> [0.7967596  0.0115333  0.19170709]\n",
      "[1. 0. 0.] <-> [0.87192386 0.04510512 0.08297104]\n",
      "[0. 0. 1.] <-> [0.32469296 0.00354021 0.6717669 ]\n",
      "[1. 0. 0.] <-> [0.8712333  0.04447179 0.08429492]\n",
      "[1. 0. 0.] <-> [0.8818316  0.02498666 0.09318171]\n",
      "[0. 0. 1.] <-> [0.43874833 0.00430064 0.55695105]\n",
      "[0. 1. 0.] <-> [0.25962967 0.6763024  0.06406792]\n",
      "[1. 0. 0.] <-> [0.8993754  0.02469189 0.07593276]\n",
      "[1. 0. 0.] <-> [0.8719471  0.04975615 0.07829677]\n",
      "[0. 1. 0.] <-> [0.1528578  0.8019691  0.04517311]\n",
      "[0. 1. 0.] <-> [0.05067104 0.9298648  0.01946406]\n",
      "[1. 0. 0.] <-> [0.8919314  0.04019983 0.0678687 ]\n",
      "[1. 0. 0.] <-> [0.89487785 0.04498502 0.06013712]\n",
      "[0. 0. 1.] <-> [0.34285295 0.0031626  0.6539844 ]\n",
      "[0. 0. 1.] <-> [0.33400744 0.00296543 0.6630271 ]\n",
      "[1. 0. 0.] <-> [0.689329   0.11576973 0.19490127]\n",
      "[1. 0. 0.] <-> [0.8709797  0.01731005 0.11171018]\n",
      "[0. 1. 0.] <-> [0.04823342 0.93277013 0.01899639]\n",
      "[1. 0. 0.] <-> [0.84086967 0.05385152 0.10527878]\n",
      "[1. 0. 0.] <-> [0.8783726  0.03726215 0.08436521]\n",
      "[0. 1. 0.] <-> [0.8402051  0.0969513  0.06284363]\n",
      "[1. 0. 0.] <-> [0.6661261  0.23531844 0.0985555 ]\n",
      "[1. 0. 0.] <-> [0.8974669  0.02448653 0.0780466 ]\n",
      "[1. 0. 0.] <-> [0.86036944 0.03923334 0.1003973 ]\n",
      "[1. 0. 0.] <-> [0.74951184 0.16580711 0.084681  ]\n",
      "[1. 0. 0.] <-> [0.7960731  0.01196438 0.19196251]\n",
      "[0. 0. 1.] <-> [0.35167378 0.00326472 0.6450615 ]\n",
      "[1. 0. 0.] <-> [0.73385125 0.17422529 0.09192353]\n",
      "[1. 0. 0.] <-> [0.8380453  0.01691847 0.14503625]\n",
      "[0. 1. 0.] <-> [0.04790113 0.9331876  0.01891126]\n",
      "[1. 0. 0.] <-> [0.8919198  0.03925372 0.06882652]\n",
      "[1. 0. 0.] <-> [0.8936356  0.02191879 0.08444569]\n",
      "[1. 0. 0.] <-> [0.7830642  0.01739093 0.19954489]\n",
      "[1. 0. 0.] <-> [0.86139196 0.01554301 0.12306495]\n",
      "[1. 0. 0.] <-> [0.901292   0.02254241 0.07616564]\n",
      "[1. 0. 0.] <-> [0.89657646 0.02075143 0.08267203]\n",
      "[1. 0. 0.] <-> [0.76673746 0.15623495 0.07702759]\n",
      "[0. 0. 1.] <-> [0.3340292  0.00291558 0.6630552 ]\n",
      "[0. 1. 0.] <-> [0.04786476 0.93323535 0.01889983]\n",
      "[1. 0. 0.] <-> [0.90345126 0.03202083 0.06452785]\n",
      "[1. 0. 0.] <-> [0.8901211  0.04673389 0.063145  ]\n",
      "[0. 0. 1.] <-> [0.3386926  0.00317011 0.6581373 ]\n",
      "[1. 0. 0.] <-> [0.85674536 0.03538326 0.10787139]\n",
      "[0. 1. 0.] <-> [0.47108373 0.4487547  0.0801615 ]\n",
      "[0. 1. 0.] <-> [0.0478625  0.9332379  0.01889958]\n",
      "[1. 0. 0.] <-> [0.871338   0.02939371 0.09926836]\n",
      "[1. 0. 0.] <-> [0.8665784  0.06169131 0.07173028]\n",
      "[1. 0. 0.] <-> [0.8835054  0.0496504  0.06684425]\n",
      "[1. 0. 0.] <-> [0.8699375  0.05783433 0.07222816]\n",
      "[1. 0. 0.] <-> [0.87647873 0.02249867 0.10102265]\n",
      "[1. 0. 0.] <-> [0.8750803  0.03206427 0.0928555 ]\n",
      "[1. 0. 0.] <-> [0.9021451  0.04172135 0.05613358]\n",
      "[0. 0. 1.] <-> [0.3832711  0.00352256 0.6132063 ]\n",
      "[0. 1. 0.] <-> [0.6037117  0.32541966 0.07086866]\n",
      "[0. 1. 0.] <-> [0.0657561  0.9110547  0.02318932]\n",
      "[1. 0. 0.] <-> [0.86367124 0.07127746 0.0650513 ]\n",
      "[1. 0. 0.] <-> [0.46868154 0.00488692 0.5264315 ]\n",
      "[1. 0. 0.] <-> [0.8512091  0.04631953 0.10247128]\n",
      "[1. 0. 0.] <-> [0.8960559  0.03730292 0.0666412 ]\n",
      "[0. 0. 1.] <-> [0.73067236 0.01060358 0.2587241 ]\n",
      "{'accuracy': 0.9506172839506173, 'mean_square_error': 0.13948278235064893, 'categorical_crossentropy': 0.2929602375736943, 'precision': 0.9259259259259259, 'recall': 0.9259259259259259, 'f1': 0.9259259259259259, 'essential_metrics': {0: {'tp_hit': 77, 'fp_hit': 7, 'tn_hit': 23, 'fn_hit': 1}, 1: {'tp_hit': 11, 'fp_hit': 0, 'tn_hit': 92, 'fn_hit': 5}, 2: {'tp_hit': 12, 'fp_hit': 1, 'tn_hit': 93, 'fn_hit': 2}}}\n"
     ]
    }
   ],
   "source": [
    "# recall phase\n",
    "score = model.evaluate(x_test, y_test, False)\n",
    "print(score)"
   ]
  },
  {
   "cell_type": "code",
   "execution_count": 12,
   "metadata": {},
   "outputs": [],
   "source": [
    "# Testing Performance"
   ]
  },
  {
   "cell_type": "code",
   "execution_count": 13,
   "metadata": {},
   "outputs": [
    {
     "data": {
      "image/png": "[encoded data removed]",
      "text/plain": [
       "<Figure size 864x360 with 1 Axes>"
      ]
     },
     "metadata": {
      "needs_background": "light"
     },
     "output_type": "display_data"
    },
    {
     "data": {
      "image/png": "[encoded data removed]",
      "text/plain": [
       "<Figure size 864x360 with 1 Axes>"
      ]
     },
     "metadata": {
      "needs_background": "light"
     },
     "output_type": "display_data"
    }
   ],
   "source": [
    "draw_plot(x = [[i for i in range(len(history))], [(i+1)*breakpoint for i in range(len(checkpoints))]], y_list = [history, [ ckp[model.loss_fn] for ckp in checkpoints ]], x_label = 'Epochs', \\\n",
    "    y_label = model.loss_fn, legend=['train', 'test'])\n",
    "acc = [ ckp['accuracy'] for ckp in checkpoints ]\n",
    "draw_plot(x = [[(i+1)*breakpoint for i in range(len(checkpoints))]], y_list = [acc], x_label = 'Checkpoints', \\\n",
    "    y_label = 'accuracy')"
   ]
  },
  {
   "cell_type": "code",
   "execution_count": 14,
   "metadata": {
    "scrolled": false
   },
   "outputs": [
    {
     "name": "stdout",
     "output_type": "stream",
     "text": [
      "{'accuracy': 0.8827160493827161, 'mean_square_error': 0.22516874439263324, 'categorical_crossentropy': 0.4250594598275644, 'precision': 0.8240740740740741, 'recall': 0.8240740740740741, 'f1': 0.8240740740740741, 'essential_metrics': {0: {'tp_hit': 78, 'fp_hit': 19, 'tn_hit': 11, 'fn_hit': 0}, 1: {'tp_hit': 11, 'fp_hit': 0, 'tn_hit': 92, 'fn_hit': 5}, 2: {'tp_hit': 0, 'fp_hit': 0, 'tn_hit': 94, 'fn_hit': 14}}, 'checkpoint': 100} \n",
      "\n",
      "\n",
      "{'accuracy': 0.9444444444444444, 'mean_square_error': 0.19383577976533908, 'categorical_crossentropy': 0.38529028715910735, 'precision': 0.9166666666666666, 'recall': 0.9166666666666666, 'f1': 0.9166666666666666, 'essential_metrics': {0: {'tp_hit': 78, 'fp_hit': 9, 'tn_hit': 21, 'fn_hit': 0}, 1: {'tp_hit': 11, 'fp_hit': 0, 'tn_hit': 92, 'fn_hit': 5}, 2: {'tp_hit': 10, 'fp_hit': 0, 'tn_hit': 94, 'fn_hit': 4}}, 'checkpoint': 200} \n",
      "\n",
      "\n",
      "{'accuracy': 0.9506172839506173, 'mean_square_error': 0.1727597730569537, 'categorical_crossentropy': 0.34662398585566767, 'precision': 0.9259259259259259, 'recall': 0.9259259259259259, 'f1': 0.9259259259259259, 'essential_metrics': {0: {'tp_hit': 78, 'fp_hit': 8, 'tn_hit': 22, 'fn_hit': 0}, 1: {'tp_hit': 11, 'fp_hit': 0, 'tn_hit': 92, 'fn_hit': 5}, 2: {'tp_hit': 11, 'fp_hit': 0, 'tn_hit': 94, 'fn_hit': 3}}, 'checkpoint': 300} \n",
      "\n",
      "\n",
      "{'accuracy': 0.9567901234567902, 'mean_square_error': 0.15669870551707643, 'categorical_crossentropy': 0.32114297372323497, 'precision': 0.9351851851851852, 'recall': 0.9351851851851852, 'f1': 0.9351851851851852, 'essential_metrics': {0: {'tp_hit': 78, 'fp_hit': 7, 'tn_hit': 23, 'fn_hit': 0}, 1: {'tp_hit': 11, 'fp_hit': 0, 'tn_hit': 92, 'fn_hit': 5}, 2: {'tp_hit': 12, 'fp_hit': 0, 'tn_hit': 94, 'fn_hit': 2}}, 'checkpoint': 400} \n",
      "\n",
      "\n",
      "{'accuracy': 0.9506172839506173, 'mean_square_error': 0.13948278235064893, 'categorical_crossentropy': 0.2929602375736943, 'precision': 0.9259259259259259, 'recall': 0.9259259259259259, 'f1': 0.9259259259259259, 'essential_metrics': {0: {'tp_hit': 77, 'fp_hit': 7, 'tn_hit': 23, 'fn_hit': 1}, 1: {'tp_hit': 11, 'fp_hit': 0, 'tn_hit': 92, 'fn_hit': 5}, 2: {'tp_hit': 12, 'fp_hit': 1, 'tn_hit': 93, 'fn_hit': 2}}, 'checkpoint': 500} \n",
      "\n",
      "\n"
     ]
    }
   ],
   "source": [
    "for checkpoint in checkpoints:\n",
    "    print(checkpoint, '\\n\\n')"
   ]
  },
  {
   "cell_type": "code",
   "execution_count": 15,
   "metadata": {},
   "outputs": [
    {
     "name": "stdout",
     "output_type": "stream",
     "text": [
      "Layer 1\n",
      "Neuron 0: weights:\n",
      "[-2.6479065   2.9703016  -1.2637286   0.5011806  -0.15052488]\n",
      " bias: -2.6127536296844482\n",
      "\n",
      "Neuron 1: weights:\n",
      "[-0.48884407 -2.7596412  -2.6222548  -1.3748856   2.0501416 ]\n",
      " bias: -0.21441294252872467\n",
      "\n",
      "Neuron 2: weights:\n",
      "[ 0.35263434 -1.980165   -0.6333956   2.1328096   2.87197   ]\n",
      " bias: -1.655121088027954\n",
      "\n",
      "Neuron 3: weights:\n",
      "[-1.4732618  1.4072101  1.2983897  2.613184  -1.2192444]\n",
      " bias: -1.689927577972412\n",
      "\n",
      "$\n",
      "Layer 2\n",
      "Neuron 0: weights:\n",
      "[-1.6406602  -0.45800036 -0.23565094 -1.2283714 ]\n",
      " bias: 0.7368100881576538\n",
      "\n",
      "Neuron 1: weights:\n",
      "[ 0.57072014 -1.1954521  -0.8906301   2.8815565 ]\n",
      " bias: -2.6140642166137695\n",
      "\n",
      "Neuron 2: weights:\n",
      "[-0.61674136 -0.11158634  3.         -0.28434917]\n",
      " bias: -2.1603081226348877\n",
      "\n",
      "$\n",
      "\n"
     ]
    }
   ],
   "source": [
    "print(model)"
   ]
  }
 ],
 "metadata": {
  "kernelspec": {
   "display_name": "Python 3",
   "language": "python",
   "name": "python3"
  },
  "language_info": {
   "codemirror_mode": {
    "name": "ipython",
    "version": 3
   },
   "file_extension": ".py",
   "mimetype": "text/x-python",
   "name": "python",
   "nbconvert_exporter": "python",
   "pygments_lexer": "ipython3",
   "version": "3.6.10"
  }
 },
 "nbformat": 4,
 "nbformat_minor": 2
}
