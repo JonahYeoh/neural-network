{
 "cells": [
  {
   "cell_type": "code",
   "execution_count": 1,
   "metadata": {},
   "outputs": [],
   "source": [
    "# dependency\n",
    "import numpy as np\n",
    "import pandas as pd\n",
    "import copy\n",
    "import math\n",
    "import sys\n",
    "import os\n",
    "from activations import relu, leaky_relu, sigmoid, tanh, softmax, d_sigmoid, d_relu\n",
    "from initializers import glorot_uniform, random_normal, random_uniform\n",
    "from regularizers import l1_regularizer, l2_regularizer\n",
    "from utility import trim_tail, multiply, subtract, get_nparams, one_hot_encoding, get_data\n",
    "from metrics import MSE, CCE, ACC, PRECISION, RECALL, essential_metrics, wondering_penalty, close_gap_penalty\n",
    "from pso import PSO\n",
    "from ga import GA\n",
    "from nn import Network\n",
    "from layer import DenseLayer\n",
    "from scalers import MinMaxScaler, StandardScaler"
   ]
  },
  {
   "cell_type": "code",
   "execution_count": 2,
   "metadata": {},
   "outputs": [],
   "source": [
    "# reference\n",
    "metrics_fn_dict = dict()\n",
    "metrics_fn_dict['accuracy'] = ACC\n",
    "metrics_fn_dict['categorical_crossentropy'] = CCE\n",
    "metrics_fn_dict['mean_square_error'] = MSE\n",
    "metrics_fn_dict['precision'] = PRECISION\n",
    "metrics_fn_dict['recall'] = RECALL\n",
    "metrics_fn_dict['essential_metrics'] = essential_metrics"
   ]
  },
  {
   "cell_type": "code",
   "execution_count": 3,
   "metadata": {},
   "outputs": [],
   "source": [
    "# model\n",
    "model = Network(5, lr = None)\n",
    "model.add_layer(DenseLayer(1, 4, True, afn=sigmoid, dafn=None, rfn=None))\n",
    "model.add_layer(DenseLayer(2, 3, True, afn=softmax, dafn=None, rfn=None))"
   ]
  },
  {
   "cell_type": "code",
   "execution_count": 4,
   "metadata": {},
   "outputs": [],
   "source": [
    "pso = PSO(dict(m = 75,\n",
    "    weight_constraint = [-3, 3], \n",
    "    velocity_constraint = [-1, 1],\n",
    "    c1 = 2.0,\n",
    "    c2 = 2.0,\n",
    "    w = 1.2,\n",
    "    w_decay = 0.95,\n",
    "    scale_hyperparameter = False))"
   ]
  },
  {
   "cell_type": "code",
   "execution_count": 5,
   "metadata": {},
   "outputs": [
    {
     "name": "stdout",
     "output_type": "stream",
     "text": [
      "building layer 1 with 5\n",
      "24\n",
      "building layer 2 with 4\n",
      "15\n"
     ]
    }
   ],
   "source": [
    "model.compile(loss_fn = 'categorical_crossentropy', optimizer = pso, \\\n",
    "    metrics = ['accuracy', 'mean_square_error', 'categorical_crossentropy', 'precision', 'recall', 'f1'])"
   ]
  },
  {
   "cell_type": "code",
   "execution_count": 6,
   "metadata": {},
   "outputs": [
    {
     "name": "stdout",
     "output_type": "stream",
     "text": [
      "<class 'pandas.core.frame.DataFrame'>\n",
      "RangeIndex: 107 entries, 0 to 106\n",
      "Data columns (total 6 columns):\n",
      " #   Column  Non-Null Count  Dtype  \n",
      "---  ------  --------------  -----  \n",
      " 0   f1      107 non-null    float32\n",
      " 1   f2      107 non-null    float32\n",
      " 2   f3      107 non-null    float32\n",
      " 3   f4      107 non-null    float32\n",
      " 4   f5      107 non-null    float32\n",
      " 5   label   107 non-null    float32\n",
      "dtypes: float32(6)\n",
      "memory usage: 2.6 KB\n",
      "None\n",
      "<class 'pandas.core.frame.DataFrame'>\n",
      "RangeIndex: 108 entries, 0 to 107\n",
      "Data columns (total 6 columns):\n",
      " #   Column  Non-Null Count  Dtype  \n",
      "---  ------  --------------  -----  \n",
      " 0   f1      108 non-null    float32\n",
      " 1   f2      108 non-null    float32\n",
      " 2   f3      108 non-null    float32\n",
      " 3   f4      108 non-null    float32\n",
      " 4   f5      108 non-null    float32\n",
      " 5   label   108 non-null    float32\n",
      "dtypes: float32(6)\n",
      "memory usage: 2.7 KB\n",
      "None\n"
     ]
    }
   ],
   "source": [
    "# data loading\n",
    "DATA = os.path.join('c:\\\\Users\\\\tcumi\\\\github_repo\\\\neural-network\\\\', 'dataset')\n",
    "GROUP = 3\n",
    "COLUMNS = ['f1', 'f2', 'f3', 'f4', 'f5', 'label']\n",
    "N_CLASS = 3\n",
    "EPOCHS = 500\n",
    "train_dir, test_dir = \"..//dataset//training_data{}.txt\".format(GROUP), \"..//dataset//testing_data{}.txt\".format(GROUP)\n",
    "train, test = get_data(DATA, train_dir, COLUMNS), get_data(DATA, test_dir, COLUMNS)\n",
    "# shuffle\n",
    "train, test = train.sample(frac=1), test.sample(frac=1)\n",
    "x_train, y_train = train.drop('label', axis=1), train['label']\n",
    "x_test, y_test = test.drop('label', axis=1), test['label']"
   ]
  },
  {
   "cell_type": "code",
   "execution_count": 7,
   "metadata": {},
   "outputs": [],
   "source": [
    "# data scaling and encoding\n",
    "scaler = StandardScaler(['f1', 'f2', 'f3', 'f4', 'f5'])\n",
    "scaler.fit(x_train)\n",
    "x_train = scaler.transform(x_train)\n",
    "x_test = scaler.transform(x_test)\n",
    "y_train = one_hot_encoding(y_train, N_CLASS)\n",
    "y_test = one_hot_encoding(y_test, N_CLASS)"
   ]
  },
  {
   "cell_type": "code",
   "execution_count": 8,
   "metadata": {
    "tags": [
     "outputPrepend"
    ]
   },
   "outputs": [
    {
     "name": "stdout",
     "output_type": "stream",
     "text": [
      "Checkpoint 100, Accuracy: 0.8148148148148148, Loss: 0.57442424915455\n",
      "Checkpoint 200, Accuracy: 0.8148148148148148, Loss: 0.57442424915455\n",
      "Checkpoint 300, Accuracy: 0.8148148148148148, Loss: 0.57442424915455\n",
      "Checkpoint 400, Accuracy: 0.8148148148148148, Loss: 0.57442424915455\n",
      "Checkpoint 500, Accuracy: 0.8148148148148148, Loss: 0.57442424915455\n"
     ]
    }
   ],
   "source": [
    "# learning phase\n",
    "breakpoint = 100\n",
    "checkpoints = list()\n",
    "history = list()\n",
    "for century in range(0, EPOCHS, breakpoint):\n",
    "    sub_history = model.fit(x_train, y_train, breakpoint, verbose = 0)\n",
    "    score = model.evaluate(x_test, y_test, False, verbose = 0)\n",
    "    print('Checkpoint {}, Accuracy: {}, Loss: {}'.format(century+breakpoint, score['accuracy'], score[model.loss_fn]))\n",
    "    score['checkpoint'] = century + breakpoint\n",
    "    checkpoints.append(score)\n",
    "    history.extend(sub_history)"
   ]
  },
  {
   "cell_type": "code",
   "execution_count": 9,
   "metadata": {},
   "outputs": [],
   "source": [
    "import matplotlib.pyplot as plt\n",
    "\n",
    "def draw_plot(x, y_list, x_label=None, y_label=None, legend=None, title=None):\n",
    "    fig, ax = plt.subplots(figsize=(12,5))\n",
    "    for y in y_list:\n",
    "        ax.plot(x, y)\n",
    "    if x_label is not None and y_label is not None and title is not None:\n",
    "        ax.set(xlabel=x_label, ylabel=y_label, title=title)\n",
    "    if legend is not None:\n",
    "        ax.legend(legend)\n",
    "    ax.grid()\n",
    "    plt.show()"
   ]
  },
  {
   "cell_type": "code",
   "execution_count": 10,
   "metadata": {},
   "outputs": [
    {
     "data": {
      "image/png": "[encoded data removed]",
      "text/plain": [
       "<Figure size 864x360 with 1 Axes>"
      ]
     },
     "metadata": {
      "needs_background": "light"
     },
     "output_type": "display_data"
    }
   ],
   "source": [
    "draw_plot(x = [i for i in range(len(history))], y_list = [history], x_label = 'Epochs', \\\n",
    "    y_label = model.loss_fn)"
   ]
  },
  {
   "cell_type": "code",
   "execution_count": 11,
   "metadata": {},
   "outputs": [
    {
     "name": "stdout",
     "output_type": "stream",
     "text": [
      "[1. 0. 0.] <-> [0.8702773  0.081609   0.04811368]\n",
      "[1. 0. 0.] <-> [0.84728014 0.03980941 0.11291046]\n",
      "[1. 0. 0.] <-> [0.8886151  0.07174881 0.03963615]\n",
      "[1. 0. 0.] <-> [0.939261   0.02326793 0.037471  ]\n",
      "[0. 0. 1.] <-> [0.7722206  0.02338612 0.20439322]\n",
      "[1. 0. 0.] <-> [0.8609261  0.0654234  0.07365052]\n",
      "[0. 1. 0.] <-> [0.82119423 0.16747656 0.01132925]\n",
      "[0. 1. 0.] <-> [0.81516063 0.17330144 0.01153798]\n",
      "[1. 0. 0.] <-> [0.9458492  0.02167571 0.03247506]\n",
      "[1. 0. 0.] <-> [0.8544536  0.1256671  0.01987928]\n",
      "[1. 0. 0.] <-> [0.8824279  0.08365025 0.03392183]\n",
      "[0. 0. 1.] <-> [0.58497584 0.02047075 0.39455345]\n",
      "[1. 0. 0.] <-> [0.8632017  0.03030936 0.10648892]\n",
      "[0. 0. 1.] <-> [0.6786992  0.03758539 0.28371543]\n",
      "[0. 1. 0.] <-> [0.85620546 0.13165061 0.01214386]\n",
      "[1. 0. 0.] <-> [0.93887186 0.03170653 0.02942151]\n",
      "[1. 0. 0.] <-> [0.87464654 0.07636176 0.04899167]\n",
      "[0. 1. 0.] <-> [0.8123976  0.17745067 0.01015174]\n",
      "[1. 0. 0.] <-> [0.8666257  0.07311339 0.0602608 ]\n",
      "[1. 0. 0.] <-> [0.9002852  0.04393077 0.05578407]\n",
      "[0. 1. 0.] <-> [0.8420788 0.1461116 0.0118096]\n",
      "[0. 1. 0.] <-> [0.8379172  0.14567097 0.01641186]\n",
      "[1. 0. 0.] <-> [0.87109244 0.09954845 0.02935915]\n",
      "[1. 0. 0.] <-> [0.88403136 0.08282378 0.03314487]\n",
      "[0. 1. 0.] <-> [0.82093215 0.17014149 0.00892634]\n",
      "[1. 0. 0.] <-> [0.865686   0.05166614 0.08264785]\n",
      "[1. 0. 0.] <-> [0.89157444 0.06368323 0.04474231]\n",
      "[1. 0. 0.] <-> [0.8620607  0.03411116 0.10382801]\n",
      "[1. 0. 0.] <-> [0.945709   0.02822819 0.02606287]\n",
      "[1. 0. 0.] <-> [0.8734653  0.08553608 0.04099853]\n",
      "[1. 0. 0.] <-> [0.86851555 0.09097951 0.04050491]\n",
      "[1. 0. 0.] <-> [0.8419469  0.05806585 0.09998729]\n",
      "[1. 0. 0.] <-> [0.89531    0.06209974 0.04259019]\n",
      "[1. 0. 0.] <-> [0.8614882  0.1014914  0.03702039]\n",
      "[1. 0. 0.] <-> [0.8196047  0.03511739 0.14527793]\n",
      "[0. 1. 0.] <-> [0.8033072  0.18726216 0.00943072]\n",
      "[1. 0. 0.] <-> [0.83372474 0.05308726 0.11318801]\n",
      "[1. 0. 0.] <-> [0.8701483  0.0694655  0.06038621]\n",
      "[0. 0. 1.] <-> [0.5108708  0.01194789 0.47718126]\n",
      "[1. 0. 0.] <-> [0.8862745  0.07223941 0.04148598]\n",
      "[1. 0. 0.] <-> [0.8970766  0.04887868 0.05404478]\n",
      "[1. 0. 0.] <-> [0.8941807  0.04323618 0.06258314]\n",
      "[0. 1. 0.] <-> [0.81681645 0.17167304 0.01151046]\n",
      "[0. 0. 1.] <-> [0.90096754 0.01855016 0.08048232]\n",
      "[0. 1. 0.] <-> [0.81391275 0.17699315 0.00909415]\n",
      "[1. 0. 0.] <-> [0.8988594  0.03438828 0.06675231]\n",
      "[1. 0. 0.] <-> [0.88693374 0.08517759 0.02788856]\n",
      "[1. 0. 0.] <-> [0.8183847  0.09111762 0.09049764]\n",
      "[0. 1. 0.] <-> [0.837356   0.14920732 0.01343667]\n",
      "[1. 0. 0.] <-> [0.8165252  0.0453616  0.13811319]\n",
      "[1. 0. 0.] <-> [0.8385399  0.14595678 0.01550341]\n",
      "[1. 0. 0.] <-> [0.8819305  0.0908257  0.02724381]\n",
      "[1. 0. 0.] <-> [0.93847495 0.0389543  0.02257077]\n",
      "[1. 0. 0.] <-> [0.88257194 0.05860935 0.05881866]\n",
      "[1. 0. 0.] <-> [0.7523321  0.03909977 0.20856819]\n",
      "[1. 0. 0.] <-> [0.89544743 0.08989255 0.01466004]\n",
      "[1. 0. 0.] <-> [0.86018467 0.06435255 0.07546268]\n",
      "[1. 0. 0.] <-> [0.8069696  0.02950541 0.16352502]\n",
      "[1. 0. 0.] <-> [0.8887764  0.07188126 0.03934238]\n",
      "[1. 0. 0.] <-> [0.87174976 0.0407119  0.08753837]\n",
      "[0. 0. 1.] <-> [0.92472965 0.00994964 0.06532077]\n",
      "[1. 0. 0.] <-> [0.87498015 0.04862677 0.07639307]\n",
      "[1. 0. 0.] <-> [0.9220493  0.0293266  0.04862414]\n",
      "[1. 0. 0.] <-> [0.8085226  0.04041883 0.1510585 ]\n",
      "[1. 0. 0.] <-> [0.8913557  0.04932016 0.05932416]\n",
      "[1. 0. 0.] <-> [0.85070664 0.03994533 0.10934804]\n",
      "[1. 0. 0.] <-> [0.8748286  0.08876543 0.03640604]\n",
      "[1. 0. 0.] <-> [0.88427347 0.08036873 0.03535788]\n",
      "[0. 1. 0.] <-> [0.88004786 0.11078284 0.00916929]\n",
      "[0. 0. 1.] <-> [0.64810973 0.03642686 0.31546336]\n",
      "[0. 0. 1.] <-> [0.5865592  0.01631948 0.3971214 ]\n",
      "[1. 0. 0.] <-> [0.7509135  0.03662034 0.21246615]\n",
      "[1. 0. 0.] <-> [0.9324055  0.04166825 0.02592626]\n",
      "[0. 1. 0.] <-> [0.9072003  0.05367976 0.03911995]\n",
      "[1. 0. 0.] <-> [0.87940526 0.1025257  0.01806911]\n",
      "[1. 0. 0.] <-> [0.8909412  0.06315059 0.04590818]\n",
      "[1. 0. 0.] <-> [0.9375186  0.04471497 0.01776644]\n",
      "[1. 0. 0.] <-> [0.8357831  0.02720355 0.13701339]\n",
      "[0. 0. 1.] <-> [0.574832   0.01405603 0.41111186]\n",
      "[1. 0. 0.] <-> [0.95092535 0.00969077 0.03938388]\n",
      "[1. 0. 0.] <-> [0.86703825 0.09282511 0.04013667]\n",
      "[1. 0. 0.] <-> [0.9006903  0.04489979 0.05440981]\n",
      "[1. 0. 0.] <-> [0.86192906 0.10422669 0.03384428]\n",
      "[1. 0. 0.] <-> [0.88694465 0.09035958 0.02269584]\n",
      "[1. 0. 0.] <-> [0.89049506 0.01754222 0.09196272]\n",
      "[0. 0. 1.] <-> [0.71800065 0.02283595 0.25916335]\n",
      "[1. 0. 0.] <-> [0.94017154 0.04110056 0.01872784]\n",
      "[1. 0. 0.] <-> [0.88598204 0.05753143 0.05648657]\n",
      "[0. 0. 1.] <-> [0.76879376 0.02778063 0.20342562]\n",
      "[1. 0. 0.] <-> [0.8663382  0.10468841 0.02897347]\n",
      "[0. 1. 0.] <-> [0.84533113 0.13346325 0.02120565]\n",
      "[1. 0. 0.] <-> [0.87721723 0.07884767 0.04393513]\n",
      "[0. 1. 0.] <-> [0.88968277 0.08822551 0.02209178]\n",
      "[1. 0. 0.] <-> [0.85609776 0.07573313 0.06816913]\n",
      "[0. 0. 1.] <-> [0.5675002  0.0141861  0.41831377]\n",
      "[1. 0. 0.] <-> [0.87578607 0.05925715 0.06495684]\n",
      "[1. 0. 0.] <-> [0.9270978  0.01763966 0.05526254]\n",
      "[0. 0. 1.] <-> [0.57765424 0.01412789 0.40821794]\n",
      "[1. 0. 0.] <-> [0.85857505 0.1061627  0.03526233]\n",
      "[1. 0. 0.] <-> [0.8729079  0.05744649 0.06964567]\n",
      "[1. 0. 0.] <-> [0.9081145  0.02151973 0.07036578]\n",
      "[1. 0. 0.] <-> [0.91403306 0.04325945 0.04270747]\n",
      "[1. 0. 0.] <-> [0.9186861  0.03591653 0.04539741]\n",
      "[1. 0. 0.] <-> [0.9009185  0.0553468  0.04373468]\n",
      "[0. 0. 1.] <-> [0.89619595 0.00967687 0.09412716]\n",
      "[1. 0. 0.] <-> [0.88799036 0.07337416 0.03863545]\n",
      "[1. 0. 0.] <-> [0.8790541  0.05339495 0.0675509 ]\n",
      "[0. 1. 0.] <-> [0.90588963 0.08512339 0.00898698]\n",
      "{'accuracy': 0.8148148148148148, 'mean_square_error': 0.3670739349983612, 'categorical_crossentropy': 0.57442424915455, 'precision': 0.7222222222222222, 'recall': 0.7222222222222222, 'f1': 0.7222222222222222, 'essential_metrics': {0: {'tp_hit': 78, 'fp_hit': 30, 'tn_hit': 0, 'fn_hit': 0}, 1: {'tp_hit': 0, 'fp_hit': 0, 'tn_hit': 92, 'fn_hit': 16}, 2: {'tp_hit': 0, 'fp_hit': 0, 'tn_hit': 94, 'fn_hit': 14}}}\n"
     ]
    }
   ],
   "source": [
    "# recall phase\n",
    "score = model.evaluate(x_test, y_test, False)\n",
    "print(score)"
   ]
  },
  {
   "cell_type": "code",
   "execution_count": 12,
   "metadata": {},
   "outputs": [
    {
     "data": {
      "image/png": "[encoded data removed]",
      "text/plain": [
       "<Figure size 864x360 with 1 Axes>"
      ]
     },
     "metadata": {
      "needs_background": "light"
     },
     "output_type": "display_data"
    }
   ],
   "source": [
    "cat_cross = [ ckp[model.loss_fn] for ckp in checkpoints ]\n",
    "draw_plot(x = [(i+1)*breakpoint for i in range(len(checkpoints))], y_list = [cat_cross], x_label = 'Checkpoints', \\\n",
    "    y_label = model.loss_fn)"
   ]
  },
  {
   "cell_type": "code",
   "execution_count": 13,
   "metadata": {},
   "outputs": [
    {
     "data": {
      "image/png": "[encoded data removed]",
      "text/plain": [
       "<Figure size 864x360 with 1 Axes>"
      ]
     },
     "metadata": {
      "needs_background": "light"
     },
     "output_type": "display_data"
    }
   ],
   "source": [
    "acc = [ ckp['accuracy'] for ckp in checkpoints ]\n",
    "draw_plot(x = [(i+1)*breakpoint for i in range(len(checkpoints))], y_list = [acc], x_label = 'Checkpoints', \\\n",
    "    y_label = 'accuracy')"
   ]
  },
  {
   "cell_type": "code",
   "execution_count": 14,
   "metadata": {},
   "outputs": [
    {
     "name": "stdout",
     "output_type": "stream",
     "text": [
      "Layer 1\n",
      "Neuron 0: weights:\n",
      "[-1.77791508  1.88395876 -2.01784173 -0.42102503  2.23551231]\n",
      " bias: 2.6176269143221598\n",
      "\n",
      "Neuron 1: weights:\n",
      "[-1.84256846  0.99580833  1.01301361  0.67045936 -0.47837666]\n",
      " bias: 1.4756279906805174\n",
      "\n",
      "Neuron 2: weights:\n",
      "[-1.36756744 -0.48843815 -1.95271812 -1.96431353  0.51642041]\n",
      " bias: -2.2567362614729776\n",
      "\n",
      "Neuron 3: weights:\n",
      "[ 0.0788822   1.543433    0.00847321  0.3327648  -2.14207572]\n",
      " bias: -0.5020372804446751\n",
      "\n",
      "$\n",
      "Layer 2\n",
      "Neuron 0: weights:\n",
      "[0.08722087 0.54038236 2.52318046 0.12923169]\n",
      " bias: 2.1637305298492837\n",
      "\n",
      "Neuron 1: weights:\n",
      "[ 0.99215531  1.61983775 -0.4277497   0.50542645]\n",
      " bias: -1.636515394957713\n",
      "\n",
      "Neuron 2: weights:\n",
      "[-0.68045198 -0.38940043  0.97156578 -2.75256251]\n",
      " bias: 2.2769946113519204\n",
      "\n",
      "$\n",
      "\n"
     ]
    }
   ],
   "source": [
    "print(model)"
   ]
  }
 ],
 "metadata": {
  "kernelspec": {
   "display_name": "Python 3",
   "language": "python",
   "name": "python3"
  },
  "language_info": {
   "codemirror_mode": {
    "name": "ipython",
    "version": 3
   },
   "file_extension": ".py",
   "mimetype": "text/x-python",
   "name": "python",
   "nbconvert_exporter": "python",
   "pygments_lexer": "ipython3",
   "version": "3.6.10"
  }
 },
 "nbformat": 4,
 "nbformat_minor": 2
}
