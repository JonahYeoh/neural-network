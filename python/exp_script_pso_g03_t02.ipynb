{
 "cells": [
  {
   "cell_type": "code",
   "execution_count": 1,
   "metadata": {},
   "outputs": [],
   "source": [
    "# dependency\n",
    "import numpy as np\n",
    "import pandas as pd\n",
    "import copy\n",
    "import math\n",
    "import sys\n",
    "import os\n",
    "from activations import relu, leaky_relu, sigmoid, tanh, softmax, d_sigmoid, d_relu\n",
    "from initializers import glorot_uniform, random_normal, random_uniform\n",
    "from regularizers import l1_regularizer, l2_regularizer\n",
    "from utility import trim_tail, multiply, subtract, get_nparams, one_hot_encoding, get_data\n",
    "from metrics import MSE, CCE, ACC, PRECISION, RECALL, essential_metrics, wondering_penalty, close_gap_penalty\n",
    "from pso import PSO\n",
    "from ga import GA\n",
    "from nn import Network\n",
    "from layer import DenseLayer\n",
    "from scalers import MinMaxScaler, StandardScaler"
   ]
  },
  {
   "cell_type": "code",
   "execution_count": 2,
   "metadata": {},
   "outputs": [],
   "source": [
    "# reference\n",
    "metrics_fn_dict = dict()\n",
    "metrics_fn_dict['accuracy'] = ACC\n",
    "metrics_fn_dict['categorical_crossentropy'] = CCE\n",
    "metrics_fn_dict['mean_square_error'] = MSE\n",
    "metrics_fn_dict['precision'] = PRECISION\n",
    "metrics_fn_dict['recall'] = RECALL\n",
    "metrics_fn_dict['essential_metrics'] = essential_metrics"
   ]
  },
  {
   "cell_type": "code",
   "execution_count": 3,
   "metadata": {},
   "outputs": [],
   "source": [
    "# model\n",
    "model = Network(5, lr = None)\n",
    "model.add_layer(DenseLayer(1, 4, True, afn=sigmoid, dafn=None, rfn=None))\n",
    "model.add_layer(DenseLayer(2, 3, True, afn=softmax, dafn=None, rfn=None))"
   ]
  },
  {
   "cell_type": "code",
   "execution_count": 4,
   "metadata": {},
   "outputs": [
    {
     "name": "stdout",
     "output_type": "stream",
     "text": [
      "see one see two 2 2\n"
     ]
    }
   ],
   "source": [
    "pso = PSO(dict(m = 50,\n",
    "    weight_constraint = [-3, 3], \n",
    "    velocity_constraint = [-0.1, 0.1],\n",
    "    c1 = 2,\n",
    "    c2 = 2,\n",
    "    w = 1,\n",
    "    w_decay = 1,\n",
    "    scale_hyperparameter = False,\n",
    "    regularizer = None,\n",
    "    mask = True))"
   ]
  },
  {
   "cell_type": "code",
   "execution_count": 5,
   "metadata": {},
   "outputs": [
    {
     "name": "stdout",
     "output_type": "stream",
     "text": [
      "building layer 1 with 5\n",
      "24\n",
      "building layer 2 with 4\n",
      "15\n"
     ]
    }
   ],
   "source": [
    "model.compile(loss_fn = 'categorical_crossentropy', optimizer = pso, \\\n",
    "    metrics = ['accuracy', 'mean_square_error', 'categorical_crossentropy'])"
   ]
  },
  {
   "cell_type": "code",
   "execution_count": 6,
   "metadata": {
    "scrolled": false
   },
   "outputs": [
    {
     "name": "stdout",
     "output_type": "stream",
     "text": [
      "<class 'pandas.core.frame.DataFrame'>\n",
      "RangeIndex: 107 entries, 0 to 106\n",
      "Data columns (total 6 columns):\n",
      " #   Column  Non-Null Count  Dtype  \n",
      "---  ------  --------------  -----  \n",
      " 0   f1      107 non-null    float32\n",
      " 1   f2      107 non-null    float32\n",
      " 2   f3      107 non-null    float32\n",
      " 3   f4      107 non-null    float32\n",
      " 4   f5      107 non-null    float32\n",
      " 5   label   107 non-null    float32\n",
      "dtypes: float32(6)\n",
      "memory usage: 2.6 KB\n",
      "None\n",
      "<class 'pandas.core.frame.DataFrame'>\n",
      "RangeIndex: 108 entries, 0 to 107\n",
      "Data columns (total 6 columns):\n",
      " #   Column  Non-Null Count  Dtype  \n",
      "---  ------  --------------  -----  \n",
      " 0   f1      108 non-null    float32\n",
      " 1   f2      108 non-null    float32\n",
      " 2   f3      108 non-null    float32\n",
      " 3   f4      108 non-null    float32\n",
      " 4   f5      108 non-null    float32\n",
      " 5   label   108 non-null    float32\n",
      "dtypes: float32(6)\n",
      "memory usage: 2.7 KB\n",
      "None\n"
     ]
    }
   ],
   "source": [
    "# data loading\n",
    "DATA = os.path.join('c:\\\\Users\\\\Ai-lab\\\\github_repo\\\\neural-network\\\\', 'dataset')\n",
    "GROUP = 3\n",
    "COLUMNS = ['f1', 'f2', 'f3', 'f4', 'f5', 'label']\n",
    "N_CLASS = 3\n",
    "EPOCHS = 500\n",
    "train_dir, test_dir = \"..//dataset//training_data{}.txt\".format(GROUP), \"..//dataset//testing_data{}.txt\".format(GROUP)\n",
    "train, test = get_data(DATA, train_dir, COLUMNS), get_data(DATA, test_dir, COLUMNS)\n",
    "# shuffle\n",
    "train, test = train.sample(frac=1), test.sample(frac=1)\n",
    "x_train, y_train = train.drop('label', axis=1), train['label']\n",
    "x_test, y_test = test.drop('label', axis=1), test['label']"
   ]
  },
  {
   "cell_type": "code",
   "execution_count": 7,
   "metadata": {},
   "outputs": [],
   "source": [
    "# data scaling and encoding\n",
    "scaler = StandardScaler(['f1', 'f2', 'f3', 'f4', 'f5'])\n",
    "scaler.fit(x_train)\n",
    "x_train = scaler.transform(x_train)\n",
    "x_test = scaler.transform(x_test)\n",
    "y_train = one_hot_encoding(y_train, N_CLASS)\n",
    "y_test = one_hot_encoding(y_test, N_CLASS)"
   ]
  },
  {
   "cell_type": "code",
   "execution_count": 8,
   "metadata": {
    "tags": [
     "outputPrepend"
    ]
   },
   "outputs": [
    {
     "name": "stdout",
     "output_type": "stream",
     "text": [
      "Checkpoint 100, Accuracy: 0.9506172839506173, Loss: 0.2312954443472403\n",
      "Checkpoint 200, Accuracy: 0.9567901234567902, Loss: 0.12274946106804742\n",
      "Checkpoint 300, Accuracy: 0.9629629629629629, Loss: 0.11568768819173177\n",
      "Checkpoint 400, Accuracy: 0.9629629629629629, Loss: 0.11779399271364566\n",
      "Checkpoint 500, Accuracy: 0.9629629629629629, Loss: 0.11831474304199219\n"
     ]
    }
   ],
   "source": [
    "# learning phase\n",
    "breakpoint = 100\n",
    "checkpoints = list()\n",
    "history = list()\n",
    "for century in range(0, EPOCHS, breakpoint):\n",
    "    sub_history = model.fit(x_train, y_train, breakpoint, verbose = 0)\n",
    "    score = model.evaluate(x_test, y_test, False, verbose = 0)\n",
    "    print('Checkpoint {}, Accuracy: {}, Loss: {}'.format(century+breakpoint, score['accuracy'], score[model.loss_fn]))\n",
    "    score['checkpoint'] = century + breakpoint\n",
    "    checkpoints.append(score)\n",
    "    history.extend(sub_history)"
   ]
  },
  {
   "cell_type": "code",
   "execution_count": 9,
   "metadata": {},
   "outputs": [],
   "source": [
    "import matplotlib.pyplot as plt\n",
    "\n",
    "def draw_plot(x, y_list, x_label=None, y_label=None, legend=None, title=None):\n",
    "    fig, ax = plt.subplots(figsize=(12,5))\n",
    "    for xi, yi in zip(x, y_list):\n",
    "        ax.plot(xi, yi)\n",
    "    if x_label is not None and y_label is not None:\n",
    "        ax.set(xlabel=x_label, ylabel=y_label, title='{} VS {}'.format(x_label, y_label))\n",
    "    if legend is not None:\n",
    "        ax.legend(legend)\n",
    "    ax.grid()\n",
    "    plt.show()"
   ]
  },
  {
   "cell_type": "code",
   "execution_count": 10,
   "metadata": {},
   "outputs": [],
   "source": [
    "train_acc = [h['accuracy'] for h in history]\n",
    "train_mse = [h['mean_square_error'] for h in history]\n",
    "train_cce = [h['categorical_crossentropy'] for h in history]"
   ]
  },
  {
   "cell_type": "code",
   "execution_count": 11,
   "metadata": {},
   "outputs": [
    {
     "data": {
      "image/png": "[encoded data removed]",
      "text/plain": [
       "<Figure size 864x360 with 1 Axes>"
      ]
     },
     "metadata": {
      "needs_background": "light"
     },
     "output_type": "display_data"
    },
    {
     "data": {
      "image/png": "[encoded data removed]",
      "text/plain": [
       "<Figure size 864x360 with 1 Axes>"
      ]
     },
     "metadata": {
      "needs_background": "light"
     },
     "output_type": "display_data"
    }
   ],
   "source": [
    "draw_plot(x = [[i for i in range(len(history))], [(i+1)*breakpoint for i in range(len(checkpoints))]], y_list = [train_cce, [ ckp[model.loss_fn] for ckp in checkpoints ]], x_label = 'Epochs', \\\n",
    "    y_label = model.loss_fn, legend=['train', 'test'])\n",
    "acc = [ ckp['accuracy'] for ckp in checkpoints ]\n",
    "draw_plot(x = [[i for i in range(len(history))], [(i+1)*breakpoint for i in range(len(checkpoints))]], y_list = [train_acc, acc], x_label = 'Checkpoints', \\\n",
    "    y_label = 'accuracy', legend=['train', 'test'])"
   ]
  },
  {
   "cell_type": "code",
   "execution_count": 12,
   "metadata": {},
   "outputs": [
    {
     "name": "stdout",
     "output_type": "stream",
     "text": [
      "[1. 0. 0.] <-> [0.9933722  0.00133159 0.00529621]\n",
      "[0. 0. 1.] <-> [2.6649083e-03 6.5418212e-06 9.9732852e-01]\n",
      "[0. 0. 1.] <-> [4.1509499e-03 9.6469485e-06 9.9583948e-01]\n",
      "[0. 1. 0.] <-> [1.8574175e-01 8.1379652e-01 4.6180305e-04]\n",
      "[1. 0. 0.] <-> [0.98970234 0.0033409  0.00695684]\n",
      "[1. 0. 0.] <-> [0.6764324  0.32165632 0.00191138]\n",
      "[0. 0. 1.] <-> [2.4738670e-03 6.1316937e-06 9.9752003e-01]\n",
      "[1. 0. 0.] <-> [0.9947337  0.00176138 0.00350488]\n",
      "[0. 0. 1.] <-> [0.57181144 0.0009814  0.4272071 ]\n",
      "[1. 0. 0.] <-> [0.9815725  0.01571378 0.00271376]\n",
      "[1. 0. 0.] <-> [0.9925371  0.00125736 0.00620546]\n",
      "[1. 0. 0.] <-> [1.0623588e-01 2.0848431e-04 8.9355558e-01]\n",
      "[1. 0. 0.] <-> [0.9934481  0.00267603 0.00387595]\n",
      "[1. 0. 0.] <-> [0.99234337 0.00504158 0.00261511]\n",
      "[1. 0. 0.] <-> [0.9921591  0.00122205 0.00661884]\n",
      "[0. 0. 1.] <-> [4.646668e-03 1.151572e-05 9.953418e-01]\n",
      "[1. 0. 0.] <-> [0.9914209  0.00166942 0.00690966]\n",
      "[1. 0. 0.] <-> [0.96076983 0.00142783 0.03780226]\n",
      "[1. 0. 0.] <-> [0.99590236 0.00137231 0.00272535]\n",
      "[1. 0. 0.] <-> [0.5544916  0.00105791 0.44445044]\n",
      "[1. 0. 0.] <-> [0.81194174 0.18598397 0.00207419]\n",
      "[1. 0. 0.] <-> [0.99127805 0.00123563 0.00748641]\n",
      "[1. 0. 0.] <-> [0.42766476 0.57126737 0.00106791]\n",
      "[1. 0. 0.] <-> [0.9483204  0.00136004 0.05031949]\n",
      "[1. 0. 0.] <-> [0.99554956 0.00129327 0.00315726]\n",
      "[1. 0. 0.] <-> [0.99504834 0.00157096 0.0033806 ]\n",
      "[1. 0. 0.] <-> [0.99544084 0.00181369 0.00274543]\n",
      "[1. 0. 0.] <-> [0.9823375  0.00127111 0.0163914 ]\n",
      "[1. 0. 0.] <-> [0.99413645 0.00249466 0.00336885]\n",
      "[0. 0. 1.] <-> [2.4726104e-03 6.1294850e-06 9.9752122e-01]\n",
      "[0. 0. 1.] <-> [4.7542237e-02 9.7424214e-05 9.5236033e-01]\n",
      "[0. 1. 0.] <-> [6.1947783e-03 9.9378973e-01 1.5556443e-05]\n",
      "[1. 0. 0.] <-> [0.99064386 0.00127452 0.00808161]\n",
      "[1. 0. 0.] <-> [0.9954424  0.00141199 0.00314558]\n",
      "[1. 0. 0.] <-> [7.7294901e-02 9.2250651e-01 1.9861481e-04]\n",
      "[1. 0. 0.] <-> [0.9858298  0.00918089 0.00498928]\n",
      "[1. 0. 0.] <-> [0.9944028  0.00140784 0.00418941]\n",
      "[0. 0. 1.] <-> [3.7515026e-03 8.8759907e-06 9.9623966e-01]\n",
      "[1. 0. 0.] <-> [0.8605852  0.00129144 0.1381233 ]\n",
      "[1. 0. 0.] <-> [0.98652077 0.01091269 0.00256659]\n",
      "[0. 1. 0.] <-> [5.4550930e-03 9.9453133e-01 1.3612317e-05]\n",
      "[1. 0. 0.] <-> [0.99567944 0.00116947 0.00315106]\n",
      "[1. 0. 0.] <-> [0.9946913  0.00266929 0.00263945]\n",
      "[0. 0. 1.] <-> [3.4505643e-02 6.9718466e-05 9.6542472e-01]\n",
      "[1. 0. 0.] <-> [0.9943141  0.00218845 0.00349751]\n",
      "[1. 0. 0.] <-> [0.9917148  0.00128201 0.00700317]\n",
      "[0. 1. 0.] <-> [5.4257768e-03 9.9456078e-01 1.3451651e-05]\n",
      "[0. 1. 0.] <-> [5.2670561e-02 9.4719875e-01 1.3081181e-04]\n",
      "[1. 0. 0.] <-> [0.9924298  0.00457314 0.00299706]\n",
      "[1. 0. 0.] <-> [0.9956241  0.00161443 0.00276152]\n",
      "[1. 0. 0.] <-> [0.995802   0.00121684 0.00298117]\n",
      "[0. 0. 1.] <-> [2.580560e-03 6.362811e-06 9.974131e-01]\n",
      "[0. 1. 0.] <-> [0.63288695 0.36554253 0.00157048]\n",
      "[0. 1. 0.] <-> [1.3743791e-02 9.8622209e-01 3.4098459e-05]\n",
      "[1. 0. 0.] <-> [0.9951729  0.00126029 0.00356683]\n",
      "[1. 0. 0.] <-> [0.9852748  0.00126462 0.01346054]\n",
      "[1. 0. 0.] <-> [0.9954455  0.00187124 0.0026833 ]\n",
      "[0. 1. 0.] <-> [5.425803e-03 9.945608e-01 1.344970e-05]\n",
      "[0. 0. 1.] <-> [2.4731243e-03 6.1386781e-06 9.9752074e-01]\n",
      "[1. 0. 0.] <-> [0.5196155  0.4789133  0.00147121]\n",
      "[1. 0. 0.] <-> [0.9951455  0.00216276 0.00269171]\n",
      "[1. 0. 0.] <-> [0.9941987  0.00271343 0.00308784]\n",
      "[1. 0. 0.] <-> [0.9951675  0.00185238 0.00298016]\n",
      "[1. 0. 0.] <-> [0.99416333 0.00142765 0.0044091 ]\n",
      "[1. 0. 0.] <-> [0.9658393  0.01901644 0.01514425]\n",
      "[1. 0. 0.] <-> [0.9950637  0.00206119 0.00287508]\n",
      "[0. 1. 0.] <-> [1.1649345e-02 9.8832160e-01 2.8995393e-05]\n",
      "[0. 1. 0.] <-> [5.425805e-03 9.945608e-01 1.344938e-05]\n",
      "[0. 1. 0.] <-> [1.7184895e-02 9.8277134e-01 4.3726901e-05]\n",
      "[1. 0. 0.] <-> [0.994024   0.00277903 0.00319701]\n",
      "[1. 0. 0.] <-> [0.99535584 0.00119608 0.00344815]\n",
      "[1. 0. 0.] <-> [0.9943837  0.00130291 0.0043134 ]\n",
      "[1. 0. 0.] <-> [0.98460466 0.01176392 0.00363138]\n",
      "[1. 0. 0.] <-> [0.99536705 0.00170678 0.00292623]\n",
      "[1. 0. 0.] <-> [0.9757993  0.02156074 0.00263999]\n",
      "[1. 0. 0.] <-> [0.9951316  0.00125604 0.00361242]\n",
      "[1. 0. 0.] <-> [0.9948773  0.0013019  0.00382089]\n",
      "[1. 0. 0.] <-> [0.9933554  0.00414282 0.00250182]\n",
      "[1. 0. 0.] <-> [0.9887822  0.00140547 0.0098123 ]\n",
      "[1. 0. 0.] <-> [0.9865327  0.00128329 0.01218398]\n",
      "[1. 0. 0.] <-> [0.9956956  0.00172468 0.00257976]\n",
      "[0. 0. 1.] <-> [4.8481519e-03 1.1328301e-05 9.9514055e-01]\n",
      "[0. 0. 1.] <-> [5.9743123e-03 1.3286717e-05 9.9401242e-01]\n",
      "[1. 0. 0.] <-> [0.99305797 0.00177262 0.00516935]\n",
      "[1. 0. 0.] <-> [0.9948314  0.00257353 0.00259502]\n",
      "[1. 0. 0.] <-> [0.9952414  0.00131863 0.00344006]\n",
      "[1. 0. 0.] <-> [0.99467963 0.00160606 0.00371426]\n",
      "[1. 0. 0.] <-> [0.99366117 0.00371142 0.00262747]\n",
      "[0. 1. 0.] <-> [1.5649202e-01 8.4311998e-01 3.8791873e-04]\n",
      "[1. 0. 0.] <-> [0.98338044 0.00363726 0.01298226]\n",
      "[1. 0. 0.] <-> [0.9904573  0.00122815 0.00831452]\n",
      "[0. 1. 0.] <-> [5.4258080e-03 9.9456078e-01 1.3449354e-05]\n",
      "[0. 1. 0.] <-> [5.4448200e-03 9.9454170e-01 1.3521489e-05]\n",
      "[1. 0. 0.] <-> [0.84258014 0.00128082 0.156139  ]\n",
      "[0. 1. 0.] <-> [5.4257466e-03 9.9456090e-01 1.3455167e-05]\n",
      "[1. 0. 0.] <-> [0.9951035  0.00133558 0.00356093]\n",
      "[1. 0. 0.] <-> [0.49993986 0.49865445 0.00140572]\n",
      "[1. 0. 0.] <-> [0.9596889  0.03777444 0.0025367 ]\n",
      "[1. 0. 0.] <-> [0.97430646 0.00139892 0.02429466]\n",
      "[1. 0. 0.] <-> [0.9165625  0.08112886 0.00230857]\n",
      "[1. 0. 0.] <-> [0.9602267  0.00161115 0.03816212]\n",
      "[1. 0. 0.] <-> [0.994905   0.00243191 0.00266303]\n",
      "[0. 1. 0.] <-> [5.4269088e-03 9.9455959e-01 1.3475826e-05]\n",
      "[1. 0. 0.] <-> [0.99522346 0.00165519 0.00312143]\n",
      "[1. 0. 0.] <-> [0.9938558  0.00166677 0.00447752]\n",
      "[0. 0. 1.] <-> [0.6226851  0.00102001 0.37629497]\n",
      "[1. 0. 0.] <-> [0.98890173 0.00811807 0.00298013]\n",
      "[1. 0. 0.] <-> [0.99438804 0.00295776 0.00265406]\n",
      "{'accuracy': 0.9629629629629629, 'mean_square_error': 0.07482059055504903, 'categorical_crossentropy': 0.11831474304199219, 'essential_metrics': {0: {'tp_hit': 75, 'fp_hit': 3, 'tn_hit': 27, 'fn_hit': 3}, 1: {'tp_hit': 15, 'fp_hit': 2, 'tn_hit': 90, 'fn_hit': 1}, 2: {'tp_hit': 12, 'fp_hit': 1, 'tn_hit': 93, 'fn_hit': 2}}}\n"
     ]
    }
   ],
   "source": [
    "# recall phase\n",
    "score = model.evaluate(x_test, y_test, False)\n",
    "print(score)"
   ]
  },
  {
   "cell_type": "code",
   "execution_count": 13,
   "metadata": {},
   "outputs": [
    {
     "name": "stdout",
     "output_type": "stream",
     "text": [
      "{'accuracy': 0.9506172839506173, 'mean_square_error': 0.12290805740836609, 'categorical_crossentropy': 0.2312954443472403, 'essential_metrics': {0: {'tp_hit': 75, 'fp_hit': 5, 'tn_hit': 25, 'fn_hit': 3}, 1: {'tp_hit': 14, 'fp_hit': 2, 'tn_hit': 90, 'fn_hit': 2}, 2: {'tp_hit': 11, 'fp_hit': 1, 'tn_hit': 93, 'fn_hit': 3}}, 'checkpoint': 100} \n",
      "\n",
      "\n",
      "{'accuracy': 0.9567901234567902, 'mean_square_error': 0.0776490331757367, 'categorical_crossentropy': 0.12274946106804742, 'essential_metrics': {0: {'tp_hit': 75, 'fp_hit': 4, 'tn_hit': 26, 'fn_hit': 3}, 1: {'tp_hit': 14, 'fp_hit': 2, 'tn_hit': 90, 'fn_hit': 2}, 2: {'tp_hit': 12, 'fp_hit': 1, 'tn_hit': 93, 'fn_hit': 2}}, 'checkpoint': 200} \n",
      "\n",
      "\n",
      "{'accuracy': 0.9629629629629629, 'mean_square_error': 0.07291525691759798, 'categorical_crossentropy': 0.11568768819173177, 'essential_metrics': {0: {'tp_hit': 75, 'fp_hit': 3, 'tn_hit': 27, 'fn_hit': 3}, 1: {'tp_hit': 15, 'fp_hit': 2, 'tn_hit': 90, 'fn_hit': 1}, 2: {'tp_hit': 12, 'fp_hit': 1, 'tn_hit': 93, 'fn_hit': 2}}, 'checkpoint': 300} \n",
      "\n",
      "\n",
      "{'accuracy': 0.9629629629629629, 'mean_square_error': 0.07455397643330162, 'categorical_crossentropy': 0.11779399271364566, 'essential_metrics': {0: {'tp_hit': 75, 'fp_hit': 3, 'tn_hit': 27, 'fn_hit': 3}, 1: {'tp_hit': 15, 'fp_hit': 2, 'tn_hit': 90, 'fn_hit': 1}, 2: {'tp_hit': 12, 'fp_hit': 1, 'tn_hit': 93, 'fn_hit': 2}}, 'checkpoint': 400} \n",
      "\n",
      "\n",
      "{'accuracy': 0.9629629629629629, 'mean_square_error': 0.07482059055504903, 'categorical_crossentropy': 0.11831474304199219, 'essential_metrics': {0: {'tp_hit': 75, 'fp_hit': 3, 'tn_hit': 27, 'fn_hit': 3}, 1: {'tp_hit': 15, 'fp_hit': 2, 'tn_hit': 90, 'fn_hit': 1}, 2: {'tp_hit': 12, 'fp_hit': 1, 'tn_hit': 93, 'fn_hit': 2}}, 'checkpoint': 500} \n",
      "\n",
      "\n"
     ]
    }
   ],
   "source": [
    "for checkpoint in checkpoints:\n",
    "    print(checkpoint, '\\n\\n')"
   ]
  },
  {
   "cell_type": "code",
   "execution_count": 14,
   "metadata": {},
   "outputs": [
    {
     "name": "stdout",
     "output_type": "stream",
     "text": [
      "Layer 1\n",
      "Neuron 0: weights:\n",
      "[-0.18648185 -3.          0.09620794  3.          3.        ]\n",
      " bias: -2.2984302043914795\n",
      "\n",
      "Neuron 1: weights:\n",
      "[ 0.08534364  3.          0.2109833  -0.680115   -3.        ]\n",
      " bias: 2.989304780960083\n",
      "\n",
      "Neuron 2: weights:\n",
      "[-3.          3.          3.         -1.5583105   0.06227753]\n",
      " bias: -3.0\n",
      "\n",
      "Neuron 3: weights:\n",
      "[-1.5028375   3.          3.         -0.48573002 -2.1002393 ]\n",
      " bias: -3.0\n",
      "\n",
      "$\n",
      "Layer 2\n",
      "Neuron 0: weights:\n",
      "[-3.  3. -3. -3.]\n",
      " bias: 3.0\n",
      "\n",
      "Neuron 1: weights:\n",
      "[-3.         2.2111344  3.         3.       ]\n",
      " bias: -3.0\n",
      "\n",
      "Neuron 2: weights:\n",
      "[ 3. -3. -3. -3.]\n",
      " bias: 3.0\n",
      "\n",
      "$\n",
      "\n"
     ]
    }
   ],
   "source": [
    "print(model)"
   ]
  },
  {
   "cell_type": "code",
   "execution_count": null,
   "metadata": {},
   "outputs": [],
   "source": []
  }
 ],
 "metadata": {
  "kernelspec": {
   "display_name": "Python 3",
   "language": "python",
   "name": "python3"
  },
  "language_info": {
   "codemirror_mode": {
    "name": "ipython",
    "version": 3
   },
   "file_extension": ".py",
   "mimetype": "text/x-python",
   "name": "python",
   "nbconvert_exporter": "python",
   "pygments_lexer": "ipython3",
   "version": "3.6.12"
  }
 },
 "nbformat": 4,
 "nbformat_minor": 2
}
