{
 "cells": [
  {
   "cell_type": "code",
   "execution_count": 1,
   "metadata": {},
   "outputs": [],
   "source": [
    "# dependency\n",
    "import numpy as np\n",
    "import pandas as pd\n",
    "import copy\n",
    "import math\n",
    "import sys\n",
    "import os\n",
    "from activations import relu, leaky_relu, sigmoid, tanh, softmax, d_sigmoid, d_relu\n",
    "from initializers import glorot_uniform, random_normal, random_uniform\n",
    "from regularizers import l1_regularizer, l2_regularizer\n",
    "from utility import trim_tail, multiply, subtract, get_nparams, one_hot_encoding, get_data\n",
    "from metrics import MSE, CCE, ACC, PRECISION, RECALL, essential_metrics, wondering_penalty, close_gap_penalty\n",
    "from pso import PSO\n",
    "from ga import GA\n",
    "from nn import Network\n",
    "from layer import DenseLayer\n",
    "from scalers import MinMaxScaler, StandardScaler"
   ]
  },
  {
   "cell_type": "code",
   "execution_count": 2,
   "metadata": {},
   "outputs": [],
   "source": [
    "# reference\n",
    "metrics_fn_dict = dict()\n",
    "metrics_fn_dict['accuracy'] = ACC\n",
    "metrics_fn_dict['categorical_crossentropy'] = CCE\n",
    "metrics_fn_dict['mean_square_error'] = MSE\n",
    "metrics_fn_dict['precision'] = PRECISION\n",
    "metrics_fn_dict['recall'] = RECALL\n",
    "metrics_fn_dict['essential_metrics'] = essential_metrics"
   ]
  },
  {
   "cell_type": "code",
   "execution_count": 3,
   "metadata": {},
   "outputs": [],
   "source": [
    "# model\n",
    "model = Network(5, lr = None)\n",
    "model.add_layer(DenseLayer(1, 4, True, afn=sigmoid, dafn=None, rfn=None))\n",
    "model.add_layer(DenseLayer(2, 3, True, afn=softmax, dafn=None, rfn=None))"
   ]
  },
  {
   "cell_type": "code",
   "execution_count": 4,
   "metadata": {},
   "outputs": [
    {
     "name": "stdout",
     "output_type": "stream",
     "text": [
      "see one see two 2 2\n"
     ]
    }
   ],
   "source": [
    "pso = PSO(dict(m = 50,\n",
    "    weight_constraint = [-3, 3], \n",
    "    velocity_constraint = [-0.1, 0.1],\n",
    "    c1 = 2,\n",
    "    c2 = 2,\n",
    "    w = 1.2,\n",
    "    w_decay = 1,\n",
    "    scale_hyperparameter = False,\n",
    "    regularizer = None,\n",
    "    mask = True))"
   ]
  },
  {
   "cell_type": "code",
   "execution_count": 5,
   "metadata": {},
   "outputs": [
    {
     "name": "stdout",
     "output_type": "stream",
     "text": [
      "building layer 1 with 5\n",
      "24\n",
      "building layer 2 with 4\n",
      "15\n"
     ]
    }
   ],
   "source": [
    "model.compile(loss_fn = 'categorical_crossentropy', optimizer = pso, \\\n",
    "    metrics = ['accuracy', 'mean_square_error', 'categorical_crossentropy'])"
   ]
  },
  {
   "cell_type": "code",
   "execution_count": 6,
   "metadata": {},
   "outputs": [
    {
     "name": "stdout",
     "output_type": "stream",
     "text": [
      "<class 'pandas.core.frame.DataFrame'>\n",
      "RangeIndex: 107 entries, 0 to 106\n",
      "Data columns (total 6 columns):\n",
      " #   Column  Non-Null Count  Dtype  \n",
      "---  ------  --------------  -----  \n",
      " 0   f1      107 non-null    float32\n",
      " 1   f2      107 non-null    float32\n",
      " 2   f3      107 non-null    float32\n",
      " 3   f4      107 non-null    float32\n",
      " 4   f5      107 non-null    float32\n",
      " 5   label   107 non-null    float32\n",
      "dtypes: float32(6)\n",
      "memory usage: 2.6 KB\n",
      "None\n",
      "<class 'pandas.core.frame.DataFrame'>\n",
      "RangeIndex: 108 entries, 0 to 107\n",
      "Data columns (total 6 columns):\n",
      " #   Column  Non-Null Count  Dtype  \n",
      "---  ------  --------------  -----  \n",
      " 0   f1      108 non-null    float32\n",
      " 1   f2      108 non-null    float32\n",
      " 2   f3      108 non-null    float32\n",
      " 3   f4      108 non-null    float32\n",
      " 4   f5      108 non-null    float32\n",
      " 5   label   108 non-null    float32\n",
      "dtypes: float32(6)\n",
      "memory usage: 2.7 KB\n",
      "None\n"
     ]
    }
   ],
   "source": [
    "# data loading\n",
    "DATA = os.path.join('c:\\\\Users\\\\tcumi\\\\github_repo\\\\neural-network\\\\', 'dataset')\n",
    "GROUP = 1\n",
    "COLUMNS = ['f1', 'f2', 'f3', 'f4', 'f5', 'label']\n",
    "N_CLASS = 3\n",
    "EPOCHS = 500\n",
    "train_dir, test_dir = \"..//dataset//training_data{}.txt\".format(GROUP), \"..//dataset//testing_data{}.txt\".format(GROUP)\n",
    "train, test = get_data(DATA, train_dir, COLUMNS), get_data(DATA, test_dir, COLUMNS)\n",
    "# shuffle\n",
    "train, test = train.sample(frac=1), test.sample(frac=1)\n",
    "x_train, y_train = train.drop('label', axis=1), train['label']\n",
    "x_test, y_test = test.drop('label', axis=1), test['label']"
   ]
  },
  {
   "cell_type": "code",
   "execution_count": 7,
   "metadata": {},
   "outputs": [],
   "source": [
    "# data scaling and encoding\n",
    "scaler = StandardScaler(['f1', 'f2', 'f3', 'f4', 'f5'])\n",
    "scaler.fit(x_train)\n",
    "x_train = scaler.transform(x_train)\n",
    "x_test = scaler.transform(x_test)\n",
    "y_train = one_hot_encoding(y_train, N_CLASS)\n",
    "y_test = one_hot_encoding(y_test, N_CLASS)"
   ]
  },
  {
   "cell_type": "code",
   "execution_count": 8,
   "metadata": {
    "tags": [
     "outputPrepend"
    ]
   },
   "outputs": [
    {
     "name": "stdout",
     "output_type": "stream",
     "text": [
      "Checkpoint 100, Accuracy: 0.9567901234567902, Loss: 0.22759132032041196\n",
      "Checkpoint 200, Accuracy: 0.9629629629629629, Loss: 0.11189994988618074\n",
      "Checkpoint 300, Accuracy: 0.9691358024691358, Loss: 0.0991200606028239\n",
      "Checkpoint 400, Accuracy: 0.9691358024691358, Loss: 0.09881075223286946\n",
      "Checkpoint 500, Accuracy: 0.9691358024691358, Loss: 0.10037886654889142\n"
     ]
    }
   ],
   "source": [
    "# learning phase\n",
    "breakpoint = 100\n",
    "checkpoints = list()\n",
    "history = list()\n",
    "for century in range(0, EPOCHS, breakpoint):\n",
    "    sub_history = model.fit(x_train, y_train, breakpoint, verbose = 0)\n",
    "    score = model.evaluate(x_test, y_test, False, verbose = 0)\n",
    "    print('Checkpoint {}, Accuracy: {}, Loss: {}'.format(century+breakpoint, score['accuracy'], score[model.loss_fn]))\n",
    "    score['checkpoint'] = century + breakpoint\n",
    "    checkpoints.append(score)\n",
    "    history.extend(sub_history)"
   ]
  },
  {
   "cell_type": "code",
   "execution_count": 9,
   "metadata": {},
   "outputs": [],
   "source": [
    "import matplotlib.pyplot as plt\n",
    "\n",
    "def draw_plot(x, y_list, x_label=None, y_label=None, legend=None, title=None):\n",
    "    fig, ax = plt.subplots(figsize=(12,5))\n",
    "    for xi, yi in zip(x, y_list):\n",
    "        ax.plot(xi, yi)\n",
    "    if x_label is not None and y_label is not None:\n",
    "        ax.set(xlabel=x_label, ylabel=y_label, title='{} VS {}'.format(x_label, y_label))\n",
    "    if legend is not None:\n",
    "        ax.legend(legend)\n",
    "    ax.grid()\n",
    "    plt.show()"
   ]
  },
  {
   "cell_type": "code",
   "execution_count": 10,
   "metadata": {},
   "outputs": [
    {
     "name": "stdout",
     "output_type": "stream",
     "text": [
      "[1. 0. 0.] <-> [0.9974464  0.00125638 0.00129727]\n",
      "[1. 0. 0.] <-> [0.99708027 0.00177786 0.00114186]\n",
      "[1. 0. 0.] <-> [0.9951226  0.00177482 0.00310265]\n",
      "[1. 0. 0.] <-> [0.9966606  0.00221653 0.00112293]\n",
      "[1. 0. 0.] <-> [0.9970132  0.00172901 0.00125778]\n",
      "[1. 0. 0.] <-> [0.99719125 0.00141879 0.00139006]\n",
      "[0. 0. 1.] <-> [0.00658511 0.00245634 0.9909586 ]\n",
      "[1. 0. 0.] <-> [0.9967681  0.00223479 0.00099707]\n",
      "[1. 0. 0.] <-> [0.9962053  0.00244495 0.00134974]\n",
      "[1. 0. 0.] <-> [0.98758787 0.01124665 0.00116553]\n",
      "[1. 0. 0.] <-> [0.996518   0.00144697 0.00203506]\n",
      "[1. 0. 0.] <-> [0.9952632  0.00181082 0.00292592]\n",
      "[1. 0. 0.] <-> [0.890688   0.00855405 0.10075802]\n",
      "[1. 0. 0.] <-> [0.946352   0.05237903 0.00126892]\n",
      "[1. 0. 0.] <-> [0.9891483  0.00965625 0.0011954 ]\n",
      "[1. 0. 0.] <-> [0.9809223  0.00350132 0.0155764 ]\n",
      "[1. 0. 0.] <-> [0.9920471  0.0022578  0.00569515]\n",
      "[0. 1. 0.] <-> [1.2086093e-02 9.8788142e-01 3.2471162e-05]\n",
      "[1. 0. 0.] <-> [0.99602735 0.00227852 0.00169416]\n",
      "[1. 0. 0.] <-> [0.99565876 0.00165386 0.00268742]\n",
      "[1. 0. 0.] <-> [0.99742186 0.00128507 0.00129305]\n",
      "[1. 0. 0.] <-> [0.99683845 0.00203989 0.00112162]\n",
      "[1. 0. 0.] <-> [0.9627225  0.0047299  0.03254765]\n",
      "[1. 0. 0.] <-> [0.99551153 0.00166992 0.00281861]\n",
      "[0. 0. 1.] <-> [0.14694263 0.00931015 0.8437472 ]\n",
      "[0. 0. 1.] <-> [0.00659402 0.00245664 0.99094933]\n",
      "[0. 0. 1.] <-> [0.00658582 0.00245637 0.99095774]\n",
      "[0. 0. 1.] <-> [0.58592594 0.01471853 0.39935547]\n",
      "[0. 0. 1.] <-> [0.00658514 0.00245634 0.9909586 ]\n",
      "[1. 0. 0.] <-> [0.99535525 0.00176751 0.00287732]\n",
      "[1. 0. 0.] <-> [0.9967885  0.00136343 0.00184809]\n",
      "[0. 1. 0.] <-> [2.8439799e-01 7.1506369e-01 5.3834694e-04]\n",
      "[1. 0. 0.] <-> [0.989881   0.0026915  0.00742749]\n",
      "[1. 0. 0.] <-> [0.99716055 0.00152573 0.00131373]\n",
      "[1. 0. 0.] <-> [0.99671113 0.0022182  0.00107066]\n",
      "[0. 0. 1.] <-> [0.00658524 0.00245634 0.99095845]\n",
      "[1. 0. 0.] <-> [0.9965609  0.00145753 0.00198156]\n",
      "[1. 0. 0.] <-> [0.64298475 0.01099565 0.34601957]\n",
      "[0. 0. 1.] <-> [0.00688635 0.00246837 0.9906453 ]\n",
      "[1. 0. 0.] <-> [0.9916099  0.00246099 0.00592915]\n",
      "[0. 1. 0.] <-> [8.5783470e-03 9.9139822e-01 2.3366434e-05]\n",
      "[0. 1. 0.] <-> [1.9836422e-02 9.8011255e-01 5.1103514e-05]\n",
      "[1. 0. 0.] <-> [0.99639124 0.00160169 0.00200697]\n",
      "[1. 0. 0.] <-> [0.9929223  0.00593103 0.00114657]\n",
      "[1. 0. 0.] <-> [0.99399537 0.00176794 0.0042367 ]\n",
      "[1. 0. 0.] <-> [0.8946841  0.00813658 0.09717932]\n",
      "[1. 0. 0.] <-> [0.9934549  0.00201948 0.00452559]\n",
      "[0. 0. 1.] <-> [0.00661568 0.00245905 0.9909252 ]\n",
      "[1. 0. 0.] <-> [0.99573946 0.00181077 0.00244977]\n",
      "[1. 0. 0.] <-> [0.99651414 0.00170212 0.00178379]\n",
      "[1. 0. 0.] <-> [0.99704283 0.00135664 0.00160057]\n",
      "[1. 0. 0.] <-> [0.99341136 0.00218918 0.00439941]\n",
      "[1. 0. 0.] <-> [0.9970187  0.00147661 0.00150469]\n",
      "[1. 0. 0.] <-> [0.99261427 0.00636927 0.00101646]\n",
      "[1. 0. 0.] <-> [0.9973349  0.0015336  0.00113152]\n",
      "[1. 0. 0.] <-> [0.99692863 0.00193819 0.00113322]\n",
      "[1. 0. 0.] <-> [0.99043477 0.00250157 0.00706368]\n",
      "[1. 0. 0.] <-> [0.99711263 0.00151889 0.00136849]\n",
      "[0. 1. 0.] <-> [0.6358905  0.36285156 0.00125795]\n",
      "[1. 0. 0.] <-> [0.99761426 0.00123047 0.00115529]\n",
      "[1. 0. 0.] <-> [0.9976647  0.00124599 0.00108933]\n",
      "[0. 1. 0.] <-> [1.2782337e-01 8.7191892e-01 2.5781037e-04]\n",
      "[1. 0. 0.] <-> [0.94536155 0.00630798 0.04833043]\n",
      "[0. 0. 1.] <-> [0.00668157 0.00245694 0.99086154]\n",
      "[1. 0. 0.] <-> [0.99744415 0.00146653 0.00108925]\n",
      "[1. 0. 0.] <-> [0.9551314  0.00484401 0.04002464]\n",
      "[1. 0. 0.] <-> [0.9820148  0.0033582  0.01462699]\n",
      "[1. 0. 0.] <-> [0.97080237 0.00464564 0.024552  ]\n",
      "[1. 0. 0.] <-> [0.38595805 0.6133096  0.00073235]\n",
      "[0. 0. 1.] <-> [0.00787992 0.00263811 0.9894819 ]\n",
      "[1. 0. 0.] <-> [0.9929113  0.00222361 0.00486515]\n",
      "[1. 0. 0.] <-> [0.9119275  0.08660961 0.00146283]\n",
      "[1. 0. 0.] <-> [0.9964631  0.00145208 0.00208489]\n",
      "[1. 0. 0.] <-> [0.99738806 0.00131235 0.00129954]\n",
      "[1. 0. 0.] <-> [0.9923494  0.00237253 0.00527803]\n",
      "[1. 0. 0.] <-> [0.96278113 0.00550815 0.03171068]\n",
      "[0. 1. 0.] <-> [6.6014063e-03 9.9338055e-01 1.8029883e-05]\n",
      "[1. 0. 0.] <-> [0.90219694 0.00898827 0.08881482]\n",
      "[1. 0. 0.] <-> [0.8947526  0.00666332 0.09858403]\n",
      "[0. 1. 0.] <-> [1.13689415e-02 9.88601744e-01 2.92885179e-05]\n",
      "[1. 0. 0.] <-> [0.9928738  0.00214552 0.00498069]\n",
      "[0. 1. 0.] <-> [6.6004987e-03 9.9338138e-01 1.8061251e-05]\n",
      "[1. 0. 0.] <-> [0.9949846  0.001778   0.00323742]\n",
      "[0. 0. 1.] <-> [0.00714736 0.00247465 0.990378  ]\n",
      "[1. 0. 0.] <-> [0.9901064  0.00788066 0.00201294]\n",
      "[0. 1. 0.] <-> [6.9215745e-03 9.9305964e-01 1.8871997e-05]\n",
      "[1. 0. 0.] <-> [0.99737287 0.00134091 0.00128626]\n",
      "[1. 0. 0.] <-> [0.99637246 0.00159111 0.00203639]\n",
      "[1. 0. 0.] <-> [0.9966311  0.00233578 0.00103317]\n",
      "[0. 1. 0.] <-> [4.62689027e-02 9.53609586e-01 1.21480494e-04]\n",
      "[0. 0. 1.] <-> [0.00658511 0.00245634 0.9909586 ]\n",
      "[1. 0. 0.] <-> [0.01936878 0.00400189 0.9766293 ]\n",
      "[1. 0. 0.] <-> [0.99542564 0.00348158 0.00109281]\n",
      "[1. 0. 0.] <-> [0.9943375  0.00192239 0.00374008]\n",
      "[1. 0. 0.] <-> [0.35845006 0.01122032 0.6303296 ]\n",
      "[1. 0. 0.] <-> [0.99433917 0.00210303 0.00355785]\n",
      "[0. 1. 0.] <-> [6.6367220e-03 9.9334514e-01 1.8150449e-05]\n",
      "[0. 1. 0.] <-> [6.6015758e-03 9.9338043e-01 1.8031582e-05]\n",
      "[1. 0. 0.] <-> [0.98241377 0.00359892 0.01398742]\n",
      "[1. 0. 0.] <-> [0.99677604 0.00213305 0.0010909 ]\n",
      "[1. 0. 0.] <-> [0.9935627  0.00205934 0.00437796]\n",
      "[1. 0. 0.] <-> [0.995622   0.00323527 0.00114267]\n",
      "[0. 1. 0.] <-> [6.8153660e-03 9.9316603e-01 1.8634963e-05]\n",
      "[1. 0. 0.] <-> [0.9969554  0.0019624  0.00108225]\n",
      "[1. 0. 0.] <-> [0.99673754 0.00190338 0.00135903]\n",
      "[0. 1. 0.] <-> [0.40159482 0.59771895 0.00068627]\n",
      "[1. 0. 0.] <-> [0.99610585 0.00178971 0.00210438]\n",
      "[1. 0. 0.] <-> [0.9958473  0.00218823 0.00196448]\n",
      "{'accuracy': 0.9691358024691358, 'mean_square_error': 0.05493854995111541, 'categorical_crossentropy': 0.10037886654889142, 'essential_metrics': {0: {'tp_hit': 77, 'fp_hit': 2, 'tn_hit': 26, 'fn_hit': 3}, 1: {'tp_hit': 14, 'fp_hit': 1, 'tn_hit': 92, 'fn_hit': 1}, 2: {'tp_hit': 12, 'fp_hit': 2, 'tn_hit': 93, 'fn_hit': 1}}}\n"
     ]
    }
   ],
   "source": [
    "# recall phase\n",
    "score = model.evaluate(x_test, y_test, False)\n",
    "print(score)"
   ]
  },
  {
   "cell_type": "code",
   "execution_count": 11,
   "metadata": {},
   "outputs": [
    {
     "data": {
      "image/png": "[encoded data removed]",
      "text/plain": [
       "<Figure size 864x360 with 1 Axes>"
      ]
     },
     "metadata": {
      "needs_background": "light"
     },
     "output_type": "display_data"
    },
    {
     "data": {
      "image/png": "[encoded data removed]",
      "text/plain": [
       "<Figure size 864x360 with 1 Axes>"
      ]
     },
     "metadata": {
      "needs_background": "light"
     },
     "output_type": "display_data"
    }
   ],
   "source": [
    "draw_plot(x = [[i for i in range(len(history))], [(i+1)*breakpoint for i in range(len(checkpoints))]], y_list = [history, [ ckp[model.loss_fn] for ckp in checkpoints ]], x_label = 'Epochs', \\\n",
    "    y_label = model.loss_fn, legend=['train', 'test'])\n",
    "acc = [ ckp['accuracy'] for ckp in checkpoints ]\n",
    "draw_plot(x = [[(i+1)*breakpoint for i in range(len(checkpoints))]], y_list = [acc], x_label = 'Checkpoints', \\\n",
    "    y_label = 'accuracy')"
   ]
  },
  {
   "cell_type": "code",
   "execution_count": 12,
   "metadata": {},
   "outputs": [
    {
     "name": "stdout",
     "output_type": "stream",
     "text": [
      "{'accuracy': 0.9567901234567902, 'mean_square_error': 0.11852680419412207, 'categorical_crossentropy': 0.22759132032041196, 'essential_metrics': {0: {'tp_hit': 79, 'fp_hit': 6, 'tn_hit': 22, 'fn_hit': 1}, 1: {'tp_hit': 11, 'fp_hit': 0, 'tn_hit': 93, 'fn_hit': 4}, 2: {'tp_hit': 11, 'fp_hit': 1, 'tn_hit': 94, 'fn_hit': 2}}, 'checkpoint': 100} \n",
      "\n",
      "\n",
      "{'accuracy': 0.9629629629629629, 'mean_square_error': 0.06535441632038261, 'categorical_crossentropy': 0.11189994988618074, 'essential_metrics': {0: {'tp_hit': 77, 'fp_hit': 3, 'tn_hit': 25, 'fn_hit': 3}, 1: {'tp_hit': 13, 'fp_hit': 1, 'tn_hit': 92, 'fn_hit': 2}, 2: {'tp_hit': 12, 'fp_hit': 2, 'tn_hit': 93, 'fn_hit': 1}}, 'checkpoint': 200} \n",
      "\n",
      "\n",
      "{'accuracy': 0.9691358024691358, 'mean_square_error': 0.053117131719273736, 'categorical_crossentropy': 0.0991200606028239, 'essential_metrics': {0: {'tp_hit': 77, 'fp_hit': 2, 'tn_hit': 26, 'fn_hit': 3}, 1: {'tp_hit': 14, 'fp_hit': 1, 'tn_hit': 92, 'fn_hit': 1}, 2: {'tp_hit': 12, 'fp_hit': 2, 'tn_hit': 93, 'fn_hit': 1}}, 'checkpoint': 300} \n",
      "\n",
      "\n",
      "{'accuracy': 0.9691358024691358, 'mean_square_error': 0.05275362444854864, 'categorical_crossentropy': 0.09881075223286946, 'essential_metrics': {0: {'tp_hit': 77, 'fp_hit': 2, 'tn_hit': 26, 'fn_hit': 3}, 1: {'tp_hit': 14, 'fp_hit': 1, 'tn_hit': 92, 'fn_hit': 1}, 2: {'tp_hit': 12, 'fp_hit': 2, 'tn_hit': 93, 'fn_hit': 1}}, 'checkpoint': 400} \n",
      "\n",
      "\n",
      "{'accuracy': 0.9691358024691358, 'mean_square_error': 0.05493854995111541, 'categorical_crossentropy': 0.10037886654889142, 'essential_metrics': {0: {'tp_hit': 77, 'fp_hit': 2, 'tn_hit': 26, 'fn_hit': 3}, 1: {'tp_hit': 14, 'fp_hit': 1, 'tn_hit': 92, 'fn_hit': 1}, 2: {'tp_hit': 12, 'fp_hit': 2, 'tn_hit': 93, 'fn_hit': 1}}, 'checkpoint': 500} \n",
      "\n",
      "\n"
     ]
    }
   ],
   "source": [
    "for checkpoint in checkpoints:\n",
    "    print(checkpoint, '\\n\\n')"
   ]
  },
  {
   "cell_type": "code",
   "execution_count": 13,
   "metadata": {},
   "outputs": [
    {
     "name": "stdout",
     "output_type": "stream",
     "text": [
      "Layer 1\n",
      "Neuron 0: weights:\n",
      "[ 0.13512553  3.          0.3014427  -3.         -3.        ]\n",
      " bias: 2.1234664916992188\n",
      "\n",
      "Neuron 1: weights:\n",
      "[-1.8720803  3.         3.         0.5561185 -2.2322567]\n",
      " bias: -3.0\n",
      "\n",
      "Neuron 2: weights:\n",
      "[-0.07557826  3.          0.76126677 -0.89607024 -3.        ]\n",
      " bias: 3.0\n",
      "\n",
      "Neuron 3: weights:\n",
      "[-1.91808    3.         1.5194964  1.0832887 -3.       ]\n",
      " bias: -3.0\n",
      "\n",
      "$\n",
      "Layer 2\n",
      "Neuron 0: weights:\n",
      "[ 3. -3.  3. -3.]\n",
      " bias: -2.0138614177703857\n",
      "\n",
      "Neuron 1: weights:\n",
      "[ 3.  3. -3.  3.]\n",
      " bias: -3.0\n",
      "\n",
      "Neuron 2: weights:\n",
      "[-3.        -1.9169097 -3.        -3.       ]\n",
      " bias: 3.0\n",
      "\n",
      "$\n",
      "\n"
     ]
    }
   ],
   "source": [
    "print(model)"
   ]
  }
 ],
 "metadata": {
  "kernelspec": {
   "display_name": "Python 3",
   "language": "python",
   "name": "python3"
  },
  "language_info": {
   "codemirror_mode": {
    "name": "ipython",
    "version": 3
   },
   "file_extension": ".py",
   "mimetype": "text/x-python",
   "name": "python",
   "nbconvert_exporter": "python",
   "pygments_lexer": "ipython3",
   "version": "3.6.10"
  }
 },
 "nbformat": 4,
 "nbformat_minor": 2
}
