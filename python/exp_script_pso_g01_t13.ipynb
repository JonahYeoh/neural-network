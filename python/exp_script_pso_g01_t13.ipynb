{
 "cells": [
  {
   "cell_type": "code",
   "execution_count": 1,
   "metadata": {},
   "outputs": [],
   "source": [
    "# dependency\n",
    "import numpy as np\n",
    "import pandas as pd\n",
    "import copy\n",
    "import math\n",
    "import sys\n",
    "import os\n",
    "from activations import relu, leaky_relu, sigmoid, tanh, softmax, d_sigmoid, d_relu\n",
    "from initializers import glorot_uniform, random_normal, random_uniform\n",
    "from regularizers import l1_regularizer, l2_regularizer\n",
    "from utility import trim_tail, multiply, subtract, get_nparams, one_hot_encoding, get_data\n",
    "from metrics import MSE, CCE, ACC, PRECISION, RECALL, essential_metrics, wondering_penalty, close_gap_penalty\n",
    "from pso import PSO\n",
    "from ga import GA\n",
    "from nn import Network\n",
    "from layer import DenseLayer\n",
    "from scalers import MinMaxScaler, StandardScaler"
   ]
  },
  {
   "cell_type": "code",
   "execution_count": 2,
   "metadata": {},
   "outputs": [],
   "source": [
    "# reference\n",
    "metrics_fn_dict = dict()\n",
    "metrics_fn_dict['accuracy'] = ACC\n",
    "metrics_fn_dict['categorical_crossentropy'] = CCE\n",
    "metrics_fn_dict['mean_square_error'] = MSE\n",
    "metrics_fn_dict['precision'] = PRECISION\n",
    "metrics_fn_dict['recall'] = RECALL\n",
    "metrics_fn_dict['essential_metrics'] = essential_metrics"
   ]
  },
  {
   "cell_type": "code",
   "execution_count": 3,
   "metadata": {},
   "outputs": [],
   "source": [
    "# model\n",
    "model = Network(5, lr = None)\n",
    "model.add_layer(DenseLayer(1, 4, True, afn=sigmoid, dafn=None, rfn=None))\n",
    "model.add_layer(DenseLayer(2, 3, True, afn=softmax, dafn=None, rfn=None))"
   ]
  },
  {
   "cell_type": "code",
   "execution_count": 4,
   "metadata": {},
   "outputs": [
    {
     "name": "stdout",
     "output_type": "stream",
     "text": [
      "see one see two 2 2\n"
     ]
    }
   ],
   "source": [
    "pso = PSO(dict(m = 100,\n",
    "    weight_constraint = [-3, 3], \n",
    "    velocity_constraint = [-0.1, 0.1],\n",
    "    c1 = 2,\n",
    "    c2 = 2,\n",
    "    w = 1.2,\n",
    "    w_decay = 1,\n",
    "    scale_hyperparameter = False,\n",
    "    regularizer = None,\n",
    "    mask = True))"
   ]
  },
  {
   "cell_type": "code",
   "execution_count": 5,
   "metadata": {},
   "outputs": [
    {
     "name": "stdout",
     "output_type": "stream",
     "text": [
      "building layer 1 with 5\n",
      "24\n",
      "building layer 2 with 4\n",
      "15\n"
     ]
    }
   ],
   "source": [
    "model.compile(loss_fn = 'categorical_crossentropy', optimizer = pso, \\\n",
    "    metrics = ['accuracy', 'mean_square_error', 'categorical_crossentropy'])"
   ]
  },
  {
   "cell_type": "code",
   "execution_count": 6,
   "metadata": {},
   "outputs": [
    {
     "name": "stdout",
     "output_type": "stream",
     "text": [
      "<class 'pandas.core.frame.DataFrame'>\n",
      "RangeIndex: 107 entries, 0 to 106\n",
      "Data columns (total 6 columns):\n",
      " #   Column  Non-Null Count  Dtype  \n",
      "---  ------  --------------  -----  \n",
      " 0   f1      107 non-null    float32\n",
      " 1   f2      107 non-null    float32\n",
      " 2   f3      107 non-null    float32\n",
      " 3   f4      107 non-null    float32\n",
      " 4   f5      107 non-null    float32\n",
      " 5   label   107 non-null    float32\n",
      "dtypes: float32(6)\n",
      "memory usage: 2.6 KB\n",
      "None\n",
      "<class 'pandas.core.frame.DataFrame'>\n",
      "RangeIndex: 108 entries, 0 to 107\n",
      "Data columns (total 6 columns):\n",
      " #   Column  Non-Null Count  Dtype  \n",
      "---  ------  --------------  -----  \n",
      " 0   f1      108 non-null    float32\n",
      " 1   f2      108 non-null    float32\n",
      " 2   f3      108 non-null    float32\n",
      " 3   f4      108 non-null    float32\n",
      " 4   f5      108 non-null    float32\n",
      " 5   label   108 non-null    float32\n",
      "dtypes: float32(6)\n",
      "memory usage: 2.7 KB\n",
      "None\n"
     ]
    }
   ],
   "source": [
    "# data loading\n",
    "DATA = os.path.join('c:\\\\Users\\\\AI-lab\\\\github_repo\\\\neural-network\\\\', 'dataset')\n",
    "GROUP = 1\n",
    "COLUMNS = ['f1', 'f2', 'f3', 'f4', 'f5', 'label']\n",
    "N_CLASS = 3\n",
    "EPOCHS = 200\n",
    "train_dir, test_dir = \"..//dataset//training_data{}.txt\".format(GROUP), \"..//dataset//testing_data{}.txt\".format(GROUP)\n",
    "train, test = get_data(DATA, train_dir, COLUMNS), get_data(DATA, test_dir, COLUMNS)\n",
    "# shuffle\n",
    "train, test = train.sample(frac=1), test.sample(frac=1)\n",
    "x_train, y_train = train.drop('label', axis=1), train['label']\n",
    "x_test, y_test = test.drop('label', axis=1), test['label']"
   ]
  },
  {
   "cell_type": "code",
   "execution_count": 7,
   "metadata": {},
   "outputs": [],
   "source": [
    "# data scaling and encoding\n",
    "scaler = StandardScaler(['f1', 'f2', 'f3', 'f4', 'f5'])\n",
    "scaler.fit(x_train)\n",
    "x_train = scaler.transform(x_train)\n",
    "x_test = scaler.transform(x_test)\n",
    "y_train = one_hot_encoding(y_train, N_CLASS)\n",
    "y_test = one_hot_encoding(y_test, N_CLASS)"
   ]
  },
  {
   "cell_type": "code",
   "execution_count": 8,
   "metadata": {
    "tags": [
     "outputPrepend"
    ]
   },
   "outputs": [
    {
     "name": "stdout",
     "output_type": "stream",
     "text": [
      "Checkpoint 10, Accuracy: 0.8765432098765432, Loss: 0.5602903012876157\n",
      "Checkpoint 20, Accuracy: 0.8827160493827161, Loss: 0.5478249655829536\n",
      "Checkpoint 30, Accuracy: 0.8827160493827161, Loss: 0.5035350234420212\n",
      "Checkpoint 40, Accuracy: 0.8765432098765432, Loss: 0.4840943725020797\n",
      "Checkpoint 50, Accuracy: 0.9382716049382716, Loss: 0.36055112768102576\n",
      "Checkpoint 60, Accuracy: 0.9259259259259259, Loss: 0.3424515547575774\n",
      "Checkpoint 70, Accuracy: 0.9382716049382716, Loss: 0.3292817716245298\n",
      "Checkpoint 80, Accuracy: 0.9320987654320988, Loss: 0.27731460995144314\n",
      "Checkpoint 90, Accuracy: 0.9444444444444444, Loss: 0.2495426778440122\n",
      "Checkpoint 100, Accuracy: 0.9382716049382716, Loss: 0.2276439666748047\n",
      "Checkpoint 110, Accuracy: 0.9567901234567902, Loss: 0.19640731811523438\n",
      "Checkpoint 120, Accuracy: 0.9567901234567902, Loss: 0.18909330721254702\n",
      "Checkpoint 130, Accuracy: 0.9629629629629629, Loss: 0.16488184752287688\n",
      "Checkpoint 140, Accuracy: 0.9691358024691358, Loss: 0.1489323863276729\n",
      "Checkpoint 150, Accuracy: 0.9691358024691358, Loss: 0.15224391442758065\n",
      "Checkpoint 160, Accuracy: 0.9691358024691358, Loss: 0.14185697061044197\n",
      "Checkpoint 170, Accuracy: 0.9753086419753086, Loss: 0.13681008197643138\n",
      "Checkpoint 180, Accuracy: 0.9691358024691358, Loss: 0.126357255158601\n",
      "Checkpoint 190, Accuracy: 0.9691358024691358, Loss: 0.11751643816630046\n",
      "Checkpoint 200, Accuracy: 0.9629629629629629, Loss: 0.12308739732812952\n"
     ]
    }
   ],
   "source": [
    "# learning phase\n",
    "breakpoint = 10\n",
    "checkpoints = list()\n",
    "history = list()\n",
    "for century in range(0, EPOCHS, breakpoint):\n",
    "    sub_history = model.fit(x_train, y_train, breakpoint, verbose = 0)\n",
    "    score = model.evaluate(x_test, y_test, False, verbose = 0)\n",
    "    print('Checkpoint {}, Accuracy: {}, Loss: {}'.format(century+breakpoint, score['accuracy'], score[model.loss_fn]))\n",
    "    score['checkpoint'] = century + breakpoint\n",
    "    checkpoints.append(score)\n",
    "    history.extend(sub_history)"
   ]
  },
  {
   "cell_type": "code",
   "execution_count": 9,
   "metadata": {},
   "outputs": [],
   "source": [
    "import matplotlib.pyplot as plt\n",
    "\n",
    "def draw_plot(x, y_list, x_label=None, y_label=None, legend=None, title=None):\n",
    "    fig, ax = plt.subplots(figsize=(12,5))\n",
    "    for xi, yi in zip(x, y_list):\n",
    "        ax.plot(xi, yi)\n",
    "    if x_label is not None and y_label is not None:\n",
    "        ax.set(xlabel=x_label, ylabel=y_label, title='{} VS {}'.format(x_label, y_label))\n",
    "    if legend is not None:\n",
    "        ax.legend(legend)\n",
    "    ax.grid()\n",
    "    plt.show()"
   ]
  },
  {
   "cell_type": "code",
   "execution_count": 10,
   "metadata": {},
   "outputs": [],
   "source": [
    "train_acc = [h['accuracy'] for h in history]\n",
    "train_mse = [h['mean_square_error'] for h in history]\n",
    "train_cce = [h['categorical_crossentropy'] for h in history]"
   ]
  },
  {
   "cell_type": "code",
   "execution_count": 11,
   "metadata": {},
   "outputs": [
    {
     "data": {
      "image/png": "[encoded data removed]",
      "text/plain": [
       "<Figure size 864x360 with 1 Axes>"
      ]
     },
     "metadata": {
      "needs_background": "light"
     },
     "output_type": "display_data"
    },
    {
     "data": {
      "image/png": "[encoded data removed]",
      "text/plain": [
       "<Figure size 864x360 with 1 Axes>"
      ]
     },
     "metadata": {
      "needs_background": "light"
     },
     "output_type": "display_data"
    }
   ],
   "source": [
    "draw_plot(x = [[i for i in range(len(history))], [(i+1)*breakpoint for i in range(len(checkpoints))]], y_list = [train_cce, [ ckp[model.loss_fn] for ckp in checkpoints ]], x_label = 'Epochs', \\\n",
    "    y_label = model.loss_fn, legend=['train', 'test'])\n",
    "acc = [ ckp['accuracy'] for ckp in checkpoints ]\n",
    "draw_plot(x = [[i for i in range(len(history))], [(i+1)*breakpoint for i in range(len(checkpoints))]], y_list = [train_acc, acc], x_label = 'Checkpoints', \\\n",
    "    y_label = 'accuracy', legend=['train', 'test'])"
   ]
  },
  {
   "cell_type": "code",
   "execution_count": 12,
   "metadata": {},
   "outputs": [
    {
     "name": "stdout",
     "output_type": "stream",
     "text": [
      "[0. 0. 1.] <-> [5.1230425e-03 2.7147584e-04 9.9460548e-01]\n",
      "[1. 0. 0.] <-> [0.9246902  0.06979224 0.00551755]\n",
      "[1. 0. 0.] <-> [0.9740108  0.00236246 0.02362665]\n",
      "[1. 0. 0.] <-> [0.89268744 0.10533418 0.00197835]\n",
      "[0. 0. 1.] <-> [4.9454877e-03 2.6449573e-04 9.9479008e-01]\n",
      "[1. 0. 0.] <-> [9.8107660e-01 7.4002589e-04 1.8183295e-02]\n",
      "[1. 0. 0.] <-> [0.98399967 0.00571206 0.01028835]\n",
      "[0. 1. 0.] <-> [2.3870151e-02 9.7596020e-01 1.6957597e-04]\n",
      "[1. 0. 0.] <-> [0.99287343 0.00548574 0.00164082]\n",
      "[1. 0. 0.] <-> [0.99184    0.00332334 0.00483654]\n",
      "[1. 0. 0.] <-> [9.7730178e-01 6.0510810e-04 2.2093091e-02]\n",
      "[0. 1. 0.] <-> [4.0078573e-03 9.9593401e-01 5.8057307e-05]\n",
      "[1. 0. 0.] <-> [9.0698421e-01 7.3010987e-04 9.2285700e-02]\n",
      "[0. 1. 0.] <-> [4.0381327e-03 9.9590379e-01 5.8042315e-05]\n",
      "[1. 0. 0.] <-> [9.8814422e-01 8.9565880e-04 1.0960255e-02]\n",
      "[1. 0. 0.] <-> [0.9926288  0.00214341 0.00522775]\n",
      "[0. 1. 0.] <-> [0.58317786 0.4152001  0.00162208]\n",
      "[1. 0. 0.] <-> [0.9888593  0.00689853 0.00424224]\n",
      "[0. 1. 0.] <-> [0.8500524  0.14206171 0.00788586]\n",
      "[1. 0. 0.] <-> [0.9904884  0.00139343 0.00811815]\n",
      "[0. 1. 0.] <-> [5.0976286e-03 9.9483538e-01 6.6996901e-05]\n",
      "[1. 0. 0.] <-> [0.9896751  0.00559738 0.00472746]\n",
      "[0. 0. 1.] <-> [5.0210585e-03 2.6060958e-04 9.9471837e-01]\n",
      "[1. 0. 0.] <-> [0.9761633  0.00137893 0.02245769]\n",
      "[1. 0. 0.] <-> [0.96607715 0.00098374 0.0329392 ]\n",
      "[1. 0. 0.] <-> [0.99077797 0.00443373 0.0047883 ]\n",
      "[1. 0. 0.] <-> [0.9928387  0.00161506 0.00554627]\n",
      "[1. 0. 0.] <-> [0.98233193 0.00162432 0.01604368]\n",
      "[0. 1. 0.] <-> [0.5126542 0.4862363 0.0011095]\n",
      "[0. 0. 1.] <-> [6.5584624e-01 3.1283600e-04 3.4384093e-01]\n",
      "[1. 0. 0.] <-> [0.98294383 0.00145215 0.01560399]\n",
      "[1. 0. 0.] <-> [5.9437227e-01 4.3924444e-04 4.0518850e-01]\n",
      "[1. 0. 0.] <-> [0.9951142  0.00149501 0.00339065]\n",
      "[1. 0. 0.] <-> [9.8368305e-01 5.9016695e-04 1.5726767e-02]\n",
      "[1. 0. 0.] <-> [9.9237508e-01 7.8485993e-04 6.8400907e-03]\n",
      "[1. 0. 0.] <-> [0.97963667 0.0016667  0.0186967 ]\n",
      "[1. 0. 0.] <-> [8.2650453e-01 3.9183645e-04 1.7310360e-01]\n",
      "[1. 0. 0.] <-> [0.98712534 0.0058252  0.00704947]\n",
      "[1. 0. 0.] <-> [9.8167545e-01 8.7037450e-04 1.7454119e-02]\n",
      "[1. 0. 0.] <-> [0.99366564 0.00230032 0.00403409]\n",
      "[1. 0. 0.] <-> [0.98779464 0.00154233 0.01066296]\n",
      "[0. 0. 1.] <-> [7.2739054e-03 1.8124752e-04 9.9254483e-01]\n",
      "[1. 0. 0.] <-> [7.1494013e-01 4.8779536e-04 2.8457209e-01]\n",
      "[1. 0. 0.] <-> [0.9909332  0.00291334 0.00615351]\n",
      "[0. 0. 1.] <-> [4.9410793e-03 2.6472646e-04 9.9479419e-01]\n",
      "[1. 0. 0.] <-> [0.99398875 0.00318121 0.00283006]\n",
      "[1. 0. 0.] <-> [9.8510683e-01 8.0997980e-04 1.4083213e-02]\n",
      "[1. 0. 0.] <-> [0.97654074 0.02001656 0.00344266]\n",
      "[0. 1. 0.] <-> [4.0237360e-02 9.5952576e-01 2.3688049e-04]\n",
      "[1. 0. 0.] <-> [8.5724992e-01 2.5930116e-04 1.4249079e-01]\n",
      "[0. 0. 1.] <-> [1.1903662e-02 1.1797180e-04 9.8797834e-01]\n",
      "[1. 0. 0.] <-> [0.9619386  0.00224605 0.03581532]\n",
      "[1. 0. 0.] <-> [0.98740256 0.0015291  0.0110683 ]\n",
      "[1. 0. 0.] <-> [0.9845799  0.01305958 0.00236062]\n",
      "[0. 0. 1.] <-> [1.4677045e-02 9.0873473e-05 9.8523211e-01]\n",
      "[0. 1. 0.] <-> [7.4072205e-03 9.9250484e-01 8.7906563e-05]\n",
      "[0. 0. 1.] <-> [6.3657714e-03 2.0938861e-04 9.9342477e-01]\n",
      "[1. 0. 0.] <-> [0.9935573  0.00431859 0.00212418]\n",
      "[1. 0. 0.] <-> [9.7775376e-01 5.5360748e-04 2.1692568e-02]\n",
      "[1. 0. 0.] <-> [0.99306905 0.00331451 0.00361647]\n",
      "[1. 0. 0.] <-> [0.9915466  0.00285561 0.00559775]\n",
      "[0. 1. 0.] <-> [0.12989807 0.86852276 0.00157911]\n",
      "[1. 0. 0.] <-> [0.9799125  0.001104   0.01898344]\n",
      "[1. 0. 0.] <-> [0.97881514 0.01847609 0.00270883]\n",
      "[0. 0. 1.] <-> [4.9470612e-03 2.6461182e-04 9.9478829e-01]\n",
      "[1. 0. 0.] <-> [0.99459994 0.00304156 0.00235856]\n",
      "[1. 0. 0.] <-> [0.97191715 0.0019848  0.02609802]\n",
      "[0. 1. 0.] <-> [0.28458294 0.7143407  0.0010764 ]\n",
      "[0. 1. 0.] <-> [6.0290452e-03 9.9389356e-01 7.7318255e-05]\n",
      "[0. 1. 0.] <-> [4.024192e-03 9.959174e-01 5.836082e-05]\n",
      "[1. 0. 0.] <-> [8.7679261e-01 3.7489866e-04 1.2283249e-01]\n",
      "[1. 0. 0.] <-> [9.9047625e-01 6.0560420e-04 8.9181205e-03]\n",
      "[1. 0. 0.] <-> [6.2361412e-02 7.8126155e-05 9.3756044e-01]\n",
      "[1. 0. 0.] <-> [0.9941017  0.00236117 0.00353714]\n",
      "[1. 0. 0.] <-> [7.4527025e-01 3.7685255e-04 2.5435287e-01]\n",
      "[1. 0. 0.] <-> [0.9927925  0.00212185 0.00508567]\n",
      "[1. 0. 0.] <-> [9.8627555e-01 5.3893635e-04 1.3185452e-02]\n",
      "[1. 0. 0.] <-> [9.6295297e-01 4.2575123e-04 3.6621243e-02]\n",
      "[0. 1. 0.] <-> [9.0311289e-02 9.0930140e-01 3.8734172e-04]\n",
      "[1. 0. 0.] <-> [9.8779631e-01 7.8039896e-04 1.1423394e-02]\n",
      "[1. 0. 0.] <-> [9.7222340e-01 3.2646061e-04 2.7450122e-02]\n",
      "[0. 0. 1.] <-> [4.9999561e-02 3.4949007e-05 9.4996554e-01]\n",
      "[1. 0. 0.] <-> [0.99584275 0.00157799 0.0025793 ]\n",
      "[1. 0. 0.] <-> [0.9933483  0.00213848 0.00451316]\n",
      "[1. 0. 0.] <-> [0.98937446 0.00144219 0.00918331]\n",
      "[0. 1. 0.] <-> [1.4091771e-02 9.8577821e-01 1.3002199e-04]\n",
      "[1. 0. 0.] <-> [9.844157e-01 9.350574e-04 1.464927e-02]\n",
      "[1. 0. 0.] <-> [0.9924521  0.00466527 0.00288263]\n",
      "[1. 0. 0.] <-> [0.99380505 0.00333238 0.00286255]\n",
      "[1. 0. 0.] <-> [0.9772281  0.01985529 0.00291668]\n",
      "[1. 0. 0.] <-> [0.98403996 0.01200025 0.00395978]\n",
      "[1. 0. 0.] <-> [8.1008810e-01 2.6046147e-04 1.8965141e-01]\n",
      "[1. 0. 0.] <-> [0.9934635  0.00182281 0.00471374]\n",
      "[1. 0. 0.] <-> [0.63107425 0.36744568 0.00148008]\n",
      "[1. 0. 0.] <-> [8.1611025e-01 6.7122973e-04 1.8321854e-01]\n",
      "[1. 0. 0.] <-> [0.99171305 0.00509208 0.00319497]\n",
      "[1. 0. 0.] <-> [0.9891378  0.00132443 0.00953774]\n",
      "[1. 0. 0.] <-> [0.9958599  0.0015232  0.00261686]\n",
      "[1. 0. 0.] <-> [0.9820994  0.00265588 0.01524473]\n",
      "[1. 0. 0.] <-> [0.99390453 0.00190385 0.00419154]\n",
      "[1. 0. 0.] <-> [0.9918663  0.0048503  0.00328345]\n",
      "[1. 0. 0.] <-> [9.7618490e-01 4.5394324e-04 2.3361130e-02]\n",
      "[0. 0. 1.] <-> [6.5961289e-01 1.5317075e-04 3.4023392e-01]\n",
      "[1. 0. 0.] <-> [0.97991383 0.00108332 0.01900288]\n",
      "[1. 0. 0.] <-> [0.9951918  0.00216433 0.00264389]\n",
      "[1. 0. 0.] <-> [0.9074051  0.09055954 0.00203534]\n",
      "[0. 0. 1.] <-> [4.9673687e-03 2.6335756e-04 9.9476928e-01]\n",
      "[1. 0. 0.] <-> [0.81073016 0.00085242 0.18841738]\n",
      "{'accuracy': 0.9629629629629629, 'mean_square_error': 0.0714192083926592, 'categorical_crossentropy': 0.12308739732812952, 'essential_metrics': {0: {'tp_hit': 79, 'fp_hit': 5, 'tn_hit': 23, 'fn_hit': 1}, 1: {'tp_hit': 12, 'fp_hit': 0, 'tn_hit': 93, 'fn_hit': 3}, 2: {'tp_hit': 11, 'fp_hit': 1, 'tn_hit': 94, 'fn_hit': 2}}}\n"
     ]
    }
   ],
   "source": [
    "# recall phase\n",
    "score = model.evaluate(x_test, y_test, False)\n",
    "print(score)"
   ]
  },
  {
   "cell_type": "code",
   "execution_count": 13,
   "metadata": {},
   "outputs": [
    {
     "name": "stdout",
     "output_type": "stream",
     "text": [
      "{'accuracy': 0.8765432098765432, 'mean_square_error': 0.3088811060615418, 'categorical_crossentropy': 0.5602903012876157, 'essential_metrics': {0: {'tp_hit': 77, 'fp_hit': 17, 'tn_hit': 11, 'fn_hit': 3}, 1: {'tp_hit': 11, 'fp_hit': 2, 'tn_hit': 91, 'fn_hit': 4}, 2: {'tp_hit': 0, 'fp_hit': 1, 'tn_hit': 94, 'fn_hit': 13}}, 'checkpoint': 10} \n",
      "\n",
      "\n",
      "{'accuracy': 0.8827160493827161, 'mean_square_error': 0.2997421851521878, 'categorical_crossentropy': 0.5478249655829536, 'essential_metrics': {0: {'tp_hit': 78, 'fp_hit': 17, 'tn_hit': 11, 'fn_hit': 2}, 1: {'tp_hit': 11, 'fp_hit': 2, 'tn_hit': 91, 'fn_hit': 4}, 2: {'tp_hit': 0, 'fp_hit': 0, 'tn_hit': 95, 'fn_hit': 13}}, 'checkpoint': 20} \n",
      "\n",
      "\n",
      "{'accuracy': 0.8827160493827161, 'mean_square_error': 0.2805077910677283, 'categorical_crossentropy': 0.5035350234420212, 'essential_metrics': {0: {'tp_hit': 75, 'fp_hit': 14, 'tn_hit': 14, 'fn_hit': 5}, 1: {'tp_hit': 14, 'fp_hit': 2, 'tn_hit': 91, 'fn_hit': 1}, 2: {'tp_hit': 0, 'fp_hit': 3, 'tn_hit': 92, 'fn_hit': 13}}, 'checkpoint': 30} \n",
      "\n",
      "\n",
      "{'accuracy': 0.8765432098765432, 'mean_square_error': 0.2695334376673793, 'categorical_crossentropy': 0.4840943725020797, 'essential_metrics': {0: {'tp_hit': 75, 'fp_hit': 15, 'tn_hit': 13, 'fn_hit': 5}, 1: {'tp_hit': 13, 'fp_hit': 2, 'tn_hit': 91, 'fn_hit': 2}, 2: {'tp_hit': 0, 'fp_hit': 3, 'tn_hit': 92, 'fn_hit': 13}}, 'checkpoint': 40} \n",
      "\n",
      "\n",
      "{'accuracy': 0.9382716049382716, 'mean_square_error': 0.17243915394143475, 'categorical_crossentropy': 0.36055112768102576, 'essential_metrics': {0: {'tp_hit': 80, 'fp_hit': 10, 'tn_hit': 18, 'fn_hit': 0}, 1: {'tp_hit': 8, 'fp_hit': 0, 'tn_hit': 93, 'fn_hit': 7}, 2: {'tp_hit': 10, 'fp_hit': 0, 'tn_hit': 95, 'fn_hit': 3}}, 'checkpoint': 50} \n",
      "\n",
      "\n",
      "{'accuracy': 0.9259259259259259, 'mean_square_error': 0.18519107972097856, 'categorical_crossentropy': 0.3424515547575774, 'essential_metrics': {0: {'tp_hit': 80, 'fp_hit': 12, 'tn_hit': 16, 'fn_hit': 0}, 1: {'tp_hit': 7, 'fp_hit': 0, 'tn_hit': 93, 'fn_hit': 8}, 2: {'tp_hit': 9, 'fp_hit': 0, 'tn_hit': 95, 'fn_hit': 4}}, 'checkpoint': 60} \n",
      "\n",
      "\n",
      "{'accuracy': 0.9382716049382716, 'mean_square_error': 0.16533190012529722, 'categorical_crossentropy': 0.3292817716245298, 'essential_metrics': {0: {'tp_hit': 80, 'fp_hit': 10, 'tn_hit': 18, 'fn_hit': 0}, 1: {'tp_hit': 8, 'fp_hit': 0, 'tn_hit': 93, 'fn_hit': 7}, 2: {'tp_hit': 10, 'fp_hit': 0, 'tn_hit': 95, 'fn_hit': 3}}, 'checkpoint': 70} \n",
      "\n",
      "\n",
      "{'accuracy': 0.9320987654320988, 'mean_square_error': 0.14482452270115523, 'categorical_crossentropy': 0.27731460995144314, 'essential_metrics': {0: {'tp_hit': 80, 'fp_hit': 11, 'tn_hit': 17, 'fn_hit': 0}, 1: {'tp_hit': 7, 'fp_hit': 0, 'tn_hit': 93, 'fn_hit': 8}, 2: {'tp_hit': 10, 'fp_hit': 0, 'tn_hit': 95, 'fn_hit': 3}}, 'checkpoint': 80} \n",
      "\n",
      "\n",
      "{'accuracy': 0.9444444444444444, 'mean_square_error': 0.11871743099658282, 'categorical_crossentropy': 0.2495426778440122, 'essential_metrics': {0: {'tp_hit': 79, 'fp_hit': 8, 'tn_hit': 20, 'fn_hit': 1}, 1: {'tp_hit': 9, 'fp_hit': 0, 'tn_hit': 93, 'fn_hit': 6}, 2: {'tp_hit': 11, 'fp_hit': 1, 'tn_hit': 94, 'fn_hit': 2}}, 'checkpoint': 90} \n",
      "\n",
      "\n",
      "{'accuracy': 0.9382716049382716, 'mean_square_error': 0.11406392617373949, 'categorical_crossentropy': 0.2276439666748047, 'essential_metrics': {0: {'tp_hit': 79, 'fp_hit': 9, 'tn_hit': 19, 'fn_hit': 1}, 1: {'tp_hit': 8, 'fp_hit': 0, 'tn_hit': 93, 'fn_hit': 7}, 2: {'tp_hit': 11, 'fp_hit': 1, 'tn_hit': 94, 'fn_hit': 2}}, 'checkpoint': 100} \n",
      "\n",
      "\n",
      "{'accuracy': 0.9567901234567902, 'mean_square_error': 0.0965332994789473, 'categorical_crossentropy': 0.19640731811523438, 'essential_metrics': {0: {'tp_hit': 79, 'fp_hit': 6, 'tn_hit': 22, 'fn_hit': 1}, 1: {'tp_hit': 11, 'fp_hit': 0, 'tn_hit': 93, 'fn_hit': 4}, 2: {'tp_hit': 11, 'fp_hit': 1, 'tn_hit': 94, 'fn_hit': 2}}, 'checkpoint': 110} \n",
      "\n",
      "\n",
      "{'accuracy': 0.9567901234567902, 'mean_square_error': 0.100522587960533, 'categorical_crossentropy': 0.18909330721254702, 'essential_metrics': {0: {'tp_hit': 79, 'fp_hit': 6, 'tn_hit': 22, 'fn_hit': 1}, 1: {'tp_hit': 11, 'fp_hit': 0, 'tn_hit': 93, 'fn_hit': 4}, 2: {'tp_hit': 11, 'fp_hit': 1, 'tn_hit': 94, 'fn_hit': 2}}, 'checkpoint': 120} \n",
      "\n",
      "\n",
      "{'accuracy': 0.9629629629629629, 'mean_square_error': 0.09045901693624418, 'categorical_crossentropy': 0.16488184752287688, 'essential_metrics': {0: {'tp_hit': 79, 'fp_hit': 5, 'tn_hit': 23, 'fn_hit': 1}, 1: {'tp_hit': 12, 'fp_hit': 0, 'tn_hit': 93, 'fn_hit': 3}, 2: {'tp_hit': 11, 'fp_hit': 1, 'tn_hit': 94, 'fn_hit': 2}}, 'checkpoint': 130} \n",
      "\n",
      "\n",
      "{'accuracy': 0.9691358024691358, 'mean_square_error': 0.08190998998676327, 'categorical_crossentropy': 0.1489323863276729, 'essential_metrics': {0: {'tp_hit': 79, 'fp_hit': 4, 'tn_hit': 24, 'fn_hit': 1}, 1: {'tp_hit': 13, 'fp_hit': 0, 'tn_hit': 93, 'fn_hit': 2}, 2: {'tp_hit': 11, 'fp_hit': 1, 'tn_hit': 94, 'fn_hit': 2}}, 'checkpoint': 140} \n",
      "\n",
      "\n",
      "{'accuracy': 0.9691358024691358, 'mean_square_error': 0.08326267400413964, 'categorical_crossentropy': 0.15224391442758065, 'essential_metrics': {0: {'tp_hit': 79, 'fp_hit': 4, 'tn_hit': 24, 'fn_hit': 1}, 1: {'tp_hit': 13, 'fp_hit': 0, 'tn_hit': 93, 'fn_hit': 2}, 2: {'tp_hit': 11, 'fp_hit': 1, 'tn_hit': 94, 'fn_hit': 2}}, 'checkpoint': 150} \n",
      "\n",
      "\n",
      "{'accuracy': 0.9691358024691358, 'mean_square_error': 0.08080239414736654, 'categorical_crossentropy': 0.14185697061044197, 'essential_metrics': {0: {'tp_hit': 79, 'fp_hit': 4, 'tn_hit': 24, 'fn_hit': 1}, 1: {'tp_hit': 13, 'fp_hit': 0, 'tn_hit': 93, 'fn_hit': 2}, 2: {'tp_hit': 11, 'fp_hit': 1, 'tn_hit': 94, 'fn_hit': 2}}, 'checkpoint': 160} \n",
      "\n",
      "\n",
      "{'accuracy': 0.9753086419753086, 'mean_square_error': 0.07428741433600393, 'categorical_crossentropy': 0.13681008197643138, 'essential_metrics': {0: {'tp_hit': 79, 'fp_hit': 3, 'tn_hit': 25, 'fn_hit': 1}, 1: {'tp_hit': 14, 'fp_hit': 0, 'tn_hit': 93, 'fn_hit': 1}, 2: {'tp_hit': 11, 'fp_hit': 1, 'tn_hit': 94, 'fn_hit': 2}}, 'checkpoint': 170} \n",
      "\n",
      "\n",
      "{'accuracy': 0.9691358024691358, 'mean_square_error': 0.07087432565967158, 'categorical_crossentropy': 0.126357255158601, 'essential_metrics': {0: {'tp_hit': 79, 'fp_hit': 4, 'tn_hit': 24, 'fn_hit': 1}, 1: {'tp_hit': 13, 'fp_hit': 0, 'tn_hit': 93, 'fn_hit': 2}, 2: {'tp_hit': 11, 'fp_hit': 1, 'tn_hit': 94, 'fn_hit': 2}}, 'checkpoint': 180} \n",
      "\n",
      "\n",
      "{'accuracy': 0.9691358024691358, 'mean_square_error': 0.06484531547758013, 'categorical_crossentropy': 0.11751643816630046, 'essential_metrics': {0: {'tp_hit': 79, 'fp_hit': 4, 'tn_hit': 24, 'fn_hit': 1}, 1: {'tp_hit': 13, 'fp_hit': 0, 'tn_hit': 93, 'fn_hit': 2}, 2: {'tp_hit': 11, 'fp_hit': 1, 'tn_hit': 94, 'fn_hit': 2}}, 'checkpoint': 190} \n",
      "\n",
      "\n",
      "{'accuracy': 0.9629629629629629, 'mean_square_error': 0.0714192083926592, 'categorical_crossentropy': 0.12308739732812952, 'essential_metrics': {0: {'tp_hit': 79, 'fp_hit': 5, 'tn_hit': 23, 'fn_hit': 1}, 1: {'tp_hit': 12, 'fp_hit': 0, 'tn_hit': 93, 'fn_hit': 3}, 2: {'tp_hit': 11, 'fp_hit': 1, 'tn_hit': 94, 'fn_hit': 2}}, 'checkpoint': 200} \n",
      "\n",
      "\n"
     ]
    }
   ],
   "source": [
    "for checkpoint in checkpoints:\n",
    "    print(checkpoint, '\\n\\n')"
   ]
  },
  {
   "cell_type": "code",
   "execution_count": 14,
   "metadata": {},
   "outputs": [
    {
     "name": "stdout",
     "output_type": "stream",
     "text": [
      "Layer 1\n",
      "Neuron 0: weights:\n",
      "[-1.1251632   0.9483541   0.21253651 -0.9390524  -3.        ]\n",
      " bias: 0.004456060938537121\n",
      "\n",
      "Neuron 1: weights:\n",
      "[ 0.12331671  3.          2.044225   -1.5623754  -3.        ]\n",
      " bias: 3.0\n",
      "\n",
      "Neuron 2: weights:\n",
      "[ 0.6644566  -1.4925339  -1.1613264  -3.         -0.98607904]\n",
      " bias: 0.01393178477883339\n",
      "\n",
      "Neuron 3: weights:\n",
      "[ 2.1322508 -3.        -1.8893875 -1.0117806  3.       ]\n",
      " bias: 3.0\n",
      "\n",
      "$\n",
      "Layer 2\n",
      "Neuron 0: weights:\n",
      "[0.54074025 3.         3.         3.        ]\n",
      " bias: -2.3053793907165527\n",
      "\n",
      "Neuron 1: weights:\n",
      "[ 3.  3. -3. -3.]\n",
      " bias: 0.7688192129135132\n",
      "\n",
      "Neuron 2: weights:\n",
      "[-3.         -3.         -0.04821458  3.        ]\n",
      " bias: 3.0\n",
      "\n",
      "$\n",
      "\n"
     ]
    }
   ],
   "source": [
    "print(model)"
   ]
  }
 ],
 "metadata": {
  "kernelspec": {
   "display_name": "Python 3",
   "language": "python",
   "name": "python3"
  },
  "language_info": {
   "codemirror_mode": {
    "name": "ipython",
    "version": 3
   },
   "file_extension": ".py",
   "mimetype": "text/x-python",
   "name": "python",
   "nbconvert_exporter": "python",
   "pygments_lexer": "ipython3",
   "version": "3.6.12"
  }
 },
 "nbformat": 4,
 "nbformat_minor": 2
}
