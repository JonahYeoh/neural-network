{
 "cells": [
  {
   "cell_type": "code",
   "execution_count": 1,
   "metadata": {},
   "outputs": [],
   "source": [
    "# dependency\n",
    "import numpy as np\n",
    "import pandas as pd\n",
    "import copy\n",
    "import math\n",
    "import sys\n",
    "import os\n",
    "from activations import relu, leaky_relu, sigmoid, tanh, softmax, d_sigmoid, d_relu\n",
    "from initializers import glorot_uniform, random_normal, random_uniform\n",
    "from regularizers import l1_regularizer, l2_regularizer\n",
    "from utility import trim_tail, multiply, subtract, get_nparams, one_hot_encoding, get_data\n",
    "from metrics import MSE, CCE, ACC, PRECISION, RECALL, essential_metrics, wondering_penalty, close_gap_penalty\n",
    "from pso import PSO\n",
    "from ga import GA\n",
    "from nn import Network\n",
    "from layer import DenseLayer\n",
    "from scalers import MinMaxScaler, StandardScaler"
   ]
  },
  {
   "cell_type": "code",
   "execution_count": 2,
   "metadata": {},
   "outputs": [],
   "source": [
    "# reference\n",
    "metrics_fn_dict = dict()\n",
    "metrics_fn_dict['accuracy'] = ACC\n",
    "metrics_fn_dict['categorical_crossentropy'] = CCE\n",
    "metrics_fn_dict['mean_square_error'] = MSE\n",
    "metrics_fn_dict['precision'] = PRECISION\n",
    "metrics_fn_dict['recall'] = RECALL\n",
    "metrics_fn_dict['essential_metrics'] = essential_metrics"
   ]
  },
  {
   "cell_type": "code",
   "execution_count": 3,
   "metadata": {},
   "outputs": [],
   "source": [
    "# model\n",
    "model = Network(5, lr = None)\n",
    "model.add_layer(DenseLayer(1, 4, True, afn=sigmoid, dafn=None, rfn=None))\n",
    "model.add_layer(DenseLayer(2, 3, True, afn=softmax, dafn=None, rfn=None))"
   ]
  },
  {
   "cell_type": "code",
   "execution_count": 4,
   "metadata": {},
   "outputs": [
    {
     "name": "stdout",
     "output_type": "stream",
     "text": [
      "see one see two 2 2\n"
     ]
    }
   ],
   "source": [
    "pso = PSO(dict(m = 50,\n",
    "    weight_constraint = [-3, 3], \n",
    "    velocity_constraint = [-0.1, 0.1],\n",
    "    c1 = 2,\n",
    "    c2 = 2,\n",
    "    w = 1.2,\n",
    "    w_decay = 1,\n",
    "    scale_hyperparameter = False,\n",
    "    regularizer = None,\n",
    "    mask = True))"
   ]
  },
  {
   "cell_type": "code",
   "execution_count": 5,
   "metadata": {},
   "outputs": [
    {
     "name": "stdout",
     "output_type": "stream",
     "text": [
      "building layer 1 with 5\n",
      "24\n",
      "building layer 2 with 4\n",
      "15\n"
     ]
    }
   ],
   "source": [
    "model.compile(loss_fn = 'categorical_crossentropy', optimizer = pso, \\\n",
    "    metrics = ['accuracy', 'mean_square_error', 'categorical_crossentropy'])"
   ]
  },
  {
   "cell_type": "code",
   "execution_count": 6,
   "metadata": {},
   "outputs": [
    {
     "name": "stdout",
     "output_type": "stream",
     "text": [
      "<class 'pandas.core.frame.DataFrame'>\n",
      "RangeIndex: 107 entries, 0 to 106\n",
      "Data columns (total 6 columns):\n",
      " #   Column  Non-Null Count  Dtype  \n",
      "---  ------  --------------  -----  \n",
      " 0   f1      107 non-null    float32\n",
      " 1   f2      107 non-null    float32\n",
      " 2   f3      107 non-null    float32\n",
      " 3   f4      107 non-null    float32\n",
      " 4   f5      107 non-null    float32\n",
      " 5   label   107 non-null    float32\n",
      "dtypes: float32(6)\n",
      "memory usage: 2.6 KB\n",
      "None\n",
      "<class 'pandas.core.frame.DataFrame'>\n",
      "RangeIndex: 108 entries, 0 to 107\n",
      "Data columns (total 6 columns):\n",
      " #   Column  Non-Null Count  Dtype  \n",
      "---  ------  --------------  -----  \n",
      " 0   f1      108 non-null    float32\n",
      " 1   f2      108 non-null    float32\n",
      " 2   f3      108 non-null    float32\n",
      " 3   f4      108 non-null    float32\n",
      " 4   f5      108 non-null    float32\n",
      " 5   label   108 non-null    float32\n",
      "dtypes: float32(6)\n",
      "memory usage: 2.7 KB\n",
      "None\n"
     ]
    }
   ],
   "source": [
    "# data loading\n",
    "DATA = os.path.join('c:\\\\Users\\\\tcumi\\\\github_repo\\\\neural-network\\\\', 'dataset')\n",
    "GROUP = 1\n",
    "COLUMNS = ['f1', 'f2', 'f3', 'f4', 'f5', 'label']\n",
    "N_CLASS = 3\n",
    "EPOCHS = 500\n",
    "train_dir, test_dir = \"..//dataset//training_data{}.txt\".format(GROUP), \"..//dataset//testing_data{}.txt\".format(GROUP)\n",
    "train, test = get_data(DATA, train_dir, COLUMNS), get_data(DATA, test_dir, COLUMNS)\n",
    "# shuffle\n",
    "train, test = train.sample(frac=1), test.sample(frac=1)\n",
    "x_train, y_train = train.drop('label', axis=1), train['label']\n",
    "x_test, y_test = test.drop('label', axis=1), test['label']"
   ]
  },
  {
   "cell_type": "code",
   "execution_count": 7,
   "metadata": {},
   "outputs": [],
   "source": [
    "# data scaling and encoding\n",
    "scaler = StandardScaler(['f1', 'f2', 'f3', 'f4', 'f5'])\n",
    "scaler.fit(x_train)\n",
    "x_train = scaler.transform(x_train)\n",
    "x_test = scaler.transform(x_test)\n",
    "y_train = one_hot_encoding(y_train, N_CLASS)\n",
    "y_test = one_hot_encoding(y_test, N_CLASS)"
   ]
  },
  {
   "cell_type": "code",
   "execution_count": 8,
   "metadata": {
    "tags": [
     "outputPrepend"
    ]
   },
   "outputs": [
    {
     "name": "stdout",
     "output_type": "stream",
     "text": [
      "Checkpoint 100, Accuracy: 0.9567901234567902, Loss: 0.22402577930026585\n",
      "Checkpoint 200, Accuracy: 0.9691358024691358, Loss: 0.1246877599645544\n",
      "Checkpoint 300, Accuracy: 0.9753086419753086, Loss: 0.11188567126238788\n",
      "Checkpoint 400, Accuracy: 0.9691358024691358, Loss: 0.11625860355518482\n",
      "Checkpoint 500, Accuracy: 0.9814814814814815, Loss: 0.10422323368213794\n"
     ]
    }
   ],
   "source": [
    "# learning phase\n",
    "breakpoint = 100\n",
    "checkpoints = list()\n",
    "history = list()\n",
    "for century in range(0, EPOCHS, breakpoint):\n",
    "    sub_history = model.fit(x_train, y_train, breakpoint, verbose = 0)\n",
    "    score = model.evaluate(x_test, y_test, False, verbose = 0)\n",
    "    print('Checkpoint {}, Accuracy: {}, Loss: {}'.format(century+breakpoint, score['accuracy'], score[model.loss_fn]))\n",
    "    score['checkpoint'] = century + breakpoint\n",
    "    checkpoints.append(score)\n",
    "    history.extend(sub_history)"
   ]
  },
  {
   "cell_type": "code",
   "execution_count": 9,
   "metadata": {},
   "outputs": [],
   "source": [
    "import matplotlib.pyplot as plt\n",
    "\n",
    "def draw_plot(x, y_list, x_label=None, y_label=None, legend=None, title=None):\n",
    "    fig, ax = plt.subplots(figsize=(12,5))\n",
    "    for xi, yi in zip(x, y_list):\n",
    "        ax.plot(xi, yi)\n",
    "    if x_label is not None and y_label is not None:\n",
    "        ax.set(xlabel=x_label, ylabel=y_label, title='{} VS {}'.format(x_label, y_label))\n",
    "    if legend is not None:\n",
    "        ax.legend(legend)\n",
    "    ax.grid()\n",
    "    plt.show()"
   ]
  },
  {
   "cell_type": "code",
   "execution_count": 10,
   "metadata": {},
   "outputs": [
    {
     "name": "stdout",
     "output_type": "stream",
     "text": [
      "[1. 0. 0.] <-> [9.9787116e-01 9.5229829e-04 1.1765602e-03]\n",
      "[1. 0. 0.] <-> [9.8944247e-01 6.5390667e-04 9.9036098e-03]\n",
      "[0. 0. 1.] <-> [9.336523e-03 5.569053e-06 9.906579e-01]\n",
      "[1. 0. 0.] <-> [6.826136e-01 4.252254e-04 3.169611e-01]\n",
      "[1. 0. 0.] <-> [9.465549e-01 5.832086e-04 5.286190e-02]\n",
      "[1. 0. 0.] <-> [9.9618322e-01 7.0357352e-04 3.1131436e-03]\n",
      "[1. 0. 0.] <-> [9.8558772e-01 6.3414709e-04 1.3778158e-02]\n",
      "[1. 0. 0.] <-> [9.8701364e-01 1.2304874e-02 6.8147620e-04]\n",
      "[1. 0. 0.] <-> [9.9767786e-01 1.3370764e-03 9.8515966e-04]\n",
      "[1. 0. 0.] <-> [9.9733979e-01 7.1601121e-04 1.9442369e-03]\n",
      "[1. 0. 0.] <-> [9.9675685e-01 2.4585333e-03 7.8461948e-04]\n",
      "[1. 0. 0.] <-> [9.9534661e-01 7.7251025e-04 3.8808526e-03]\n",
      "[0. 1. 0.] <-> [1.0199706e-02 9.8979366e-01 6.6495745e-06]\n",
      "[1. 0. 0.] <-> [9.9582195e-01 3.4325202e-03 7.4552320e-04]\n",
      "[1. 0. 0.] <-> [9.944370e-01 4.698725e-03 8.643596e-04]\n",
      "[0. 1. 0.] <-> [2.4063286e-01 7.5920016e-01 1.6700593e-04]\n",
      "[1. 0. 0.] <-> [9.9612492e-01 7.0986751e-04 3.1651573e-03]\n",
      "[0. 1. 0.] <-> [1.62476432e-02 9.83741760e-01 1.06129555e-05]\n",
      "[1. 0. 0.] <-> [8.7399238e-01 1.2539849e-01 6.0904882e-04]\n",
      "[1. 0. 0.] <-> [9.785781e-01 6.827283e-04 2.073920e-02]\n",
      "[0. 1. 0.] <-> [1.2379454e-01 8.7612450e-01 8.0982914e-05]\n",
      "[1. 0. 0.] <-> [9.9753833e-01 1.5846345e-03 8.7695505e-04]\n",
      "[1. 0. 0.] <-> [9.8167694e-01 6.9517439e-04 1.7627895e-02]\n",
      "[1. 0. 0.] <-> [9.9756587e-01 1.5933190e-03 8.4090262e-04]\n",
      "[0. 1. 0.] <-> [5.0529886e-02 9.4943708e-01 3.3004104e-05]\n",
      "[1. 0. 0.] <-> [9.5930302e-01 6.4034853e-04 4.0056590e-02]\n",
      "[0. 1. 0.] <-> [1.0686966e-02 9.8930603e-01 6.9692346e-06]\n",
      "[1. 0. 0.] <-> [9.9704009e-01 8.1444473e-04 2.1454261e-03]\n",
      "[1. 0. 0.] <-> [9.3443209e-01 5.8111653e-04 6.4986825e-02]\n",
      "[1. 0. 0.] <-> [9.9718237e-01 1.8223987e-03 9.9520606e-04]\n",
      "[1. 0. 0.] <-> [8.8275492e-01 5.5346906e-04 1.1669173e-01]\n",
      "[0. 0. 1.] <-> [1.1191757e-01 6.8167166e-05 8.8801426e-01]\n",
      "[0. 0. 1.] <-> [1.3230690e-02 7.9037063e-06 9.8676145e-01]\n",
      "[1. 0. 0.] <-> [8.6407185e-01 5.3393363e-04 1.3539417e-01]\n",
      "[1. 0. 0.] <-> [9.9711049e-01 7.9015514e-04 2.0992791e-03]\n",
      "[1. 0. 0.] <-> [6.6195989e-01 3.9950496e-04 3.3764058e-01]\n",
      "[1. 0. 0.] <-> [0.9970311  0.00149303 0.00147577]\n",
      "[1. 0. 0.] <-> [9.9757820e-01 1.5746165e-03 8.4715971e-04]\n",
      "[1. 0. 0.] <-> [9.9437356e-01 7.0389156e-04 4.9225902e-03]\n",
      "[0. 1. 0.] <-> [1.3311009e-02 9.8668033e-01 8.6993823e-06]\n",
      "[1. 0. 0.] <-> [9.922085e-01 6.992922e-03 7.985326e-04]\n",
      "[1. 0. 0.] <-> [3.1202614e-01 6.8776613e-01 2.0775016e-04]\n",
      "[0. 0. 1.] <-> [9.3569243e-03 5.5812516e-06 9.9063748e-01]\n",
      "[0. 0. 1.] <-> [1.1499118e-02 6.8591580e-06 9.8849398e-01]\n",
      "[1. 0. 0.] <-> [7.4478096e-01 4.6073235e-04 2.5475830e-01]\n",
      "[1. 0. 0.] <-> [9.9025893e-01 7.5505307e-04 8.9860428e-03]\n",
      "[1. 0. 0.] <-> [0.99710494 0.0010132  0.00188186]\n",
      "[1. 0. 0.] <-> [0.99754363 0.00123653 0.00121986]\n",
      "[1. 0. 0.] <-> [9.9408382e-01 7.6625904e-04 5.1499596e-03]\n",
      "[1. 0. 0.] <-> [9.9710578e-01 8.4336282e-04 2.0508342e-03]\n",
      "[0. 0. 1.] <-> [9.4304970e-03 5.6301892e-06 9.9056387e-01]\n",
      "[0. 1. 0.] <-> [6.2100422e-01 3.7857917e-01 4.1665853e-04]\n",
      "[1. 0. 0.] <-> [6.9176781e-01 4.7004080e-04 3.0776215e-01]\n",
      "[1. 0. 0.] <-> [9.8764461e-01 1.1661527e-02 6.9376209e-04]\n",
      "[1. 0. 0.] <-> [0.9977512  0.0011395  0.00110932]\n",
      "[1. 0. 0.] <-> [9.4443017e-01 5.8596191e-04 5.4983858e-02]\n",
      "[1. 0. 0.] <-> [8.0337292e-01 4.9578736e-04 1.9613132e-01]\n",
      "[1. 0. 0.] <-> [0.9862641  0.01209402 0.00164189]\n",
      "[0. 1. 0.] <-> [3.2073221e-01 6.7905748e-01 2.1032957e-04]\n",
      "[0. 1. 0.] <-> [1.0200380e-02 9.8979306e-01 6.6508642e-06]\n",
      "[1. 0. 0.] <-> [9.9754447e-01 1.4995286e-03 9.5597777e-04]\n",
      "[0. 0. 1.] <-> [9.5948176e-03 8.9632867e-06 9.9039614e-01]\n",
      "[1. 0. 0.] <-> [9.9083930e-01 8.3746575e-03 7.8611763e-04]\n",
      "[1. 0. 0.] <-> [9.9764806e-01 8.8706886e-04 1.4648276e-03]\n",
      "[1. 0. 0.] <-> [9.9795520e-01 7.7204331e-04 1.2726815e-03]\n",
      "[1. 0. 0.] <-> [9.9640805e-01 2.7124078e-03 8.7962137e-04]\n",
      "[1. 0. 0.] <-> [9.9433339e-01 8.4462605e-04 4.8219156e-03]\n",
      "[1. 0. 0.] <-> [9.9788243e-01 1.2927414e-03 8.2489394e-04]\n",
      "[0. 0. 1.] <-> [3.1259802e-01 1.8717381e-04 6.8721479e-01]\n",
      "[1. 0. 0.] <-> [9.9764496e-01 1.4288906e-03 9.2615339e-04]\n",
      "[1. 0. 0.] <-> [0.997693   0.00121456 0.0010924 ]\n",
      "[1. 0. 0.] <-> [9.9639446e-01 2.6098788e-03 9.9576695e-04]\n",
      "[0. 1. 0.] <-> [1.0280021e-02 9.8971331e-01 6.7037345e-06]\n",
      "[1. 0. 0.] <-> [9.907505e-01 6.767784e-04 8.572800e-03]\n",
      "[0. 0. 1.] <-> [9.336523e-03 5.569053e-06 9.906579e-01]\n",
      "[1. 0. 0.] <-> [9.901674e-01 6.940506e-04 9.138606e-03]\n",
      "[1. 0. 0.] <-> [8.9618111e-01 1.0316688e-01 6.5204524e-04]\n",
      "[0. 0. 1.] <-> [9.3411701e-03 5.8447713e-06 9.9065304e-01]\n",
      "[1. 0. 0.] <-> [9.8057806e-01 6.4065808e-04 1.8781196e-02]\n",
      "[1. 0. 0.] <-> [9.8252815e-01 1.6780453e-02 6.9138646e-04]\n",
      "[1. 0. 0.] <-> [0.99658245 0.00121171 0.00220593]\n",
      "[1. 0. 0.] <-> [9.6548867e-01 6.2860426e-04 3.3882711e-02]\n",
      "[1. 0. 0.] <-> [6.3227427e-01 3.8346849e-04 3.6734226e-01]\n",
      "[0. 0. 1.] <-> [9.336567e-03 5.569084e-06 9.906578e-01]\n",
      "[0. 1. 0.] <-> [1.0197198e-02 9.8979622e-01 6.6479242e-06]\n",
      "[0. 1. 0.] <-> [1.6799903e-02 9.8318911e-01 1.0986455e-05]\n",
      "[1. 0. 0.] <-> [9.8420924e-01 1.5085429e-02 7.0535514e-04]\n",
      "[1. 0. 0.] <-> [9.9681038e-01 7.7779323e-04 2.4118945e-03]\n",
      "[0. 0. 1.] <-> [9.3376962e-03 5.5697578e-06 9.9065673e-01]\n",
      "[1. 0. 0.] <-> [0.99597305 0.00239258 0.00163427]\n",
      "[1. 0. 0.] <-> [9.9556512e-01 7.3942670e-04 3.6954521e-03]\n",
      "[1. 0. 0.] <-> [9.9596679e-01 7.2561915e-04 3.3075216e-03]\n",
      "[1. 0. 0.] <-> [9.9638700e-01 2.7510980e-03 8.6189935e-04]\n",
      "[1. 0. 0.] <-> [9.5840055e-01 4.0906332e-02 6.9305999e-04]\n",
      "[1. 0. 0.] <-> [9.9411869e-01 7.0312247e-04 5.1782471e-03]\n",
      "[0. 1. 0.] <-> [2.4862086e-02 9.7512168e-01 1.6288364e-05]\n",
      "[0. 1. 0.] <-> [1.0566482e-02 9.8942673e-01 6.8889271e-06]\n",
      "[1. 0. 0.] <-> [9.9761343e-01 8.0910436e-04 1.5774836e-03]\n",
      "[1. 0. 0.] <-> [0.9967841  0.00103069 0.00218524]\n",
      "[1. 0. 0.] <-> [2.9088983e-02 1.7369319e-05 9.7089356e-01]\n",
      "[1. 0. 0.] <-> [9.9757713e-01 9.9245424e-04 1.4304145e-03]\n",
      "[1. 0. 0.] <-> [9.5621288e-01 6.2254327e-04 4.3164644e-02]\n",
      "[1. 0. 0.] <-> [6.4561552e-01 3.8711447e-04 3.5399729e-01]\n",
      "[1. 0. 0.] <-> [9.9233246e-01 6.8834270e-03 7.8409759e-04]\n",
      "[1. 0. 0.] <-> [8.0892777e-01 4.9792958e-04 1.9057426e-01]\n",
      "[1. 0. 0.] <-> [0.9966156  0.00121523 0.00216917]\n",
      "[1. 0. 0.] <-> [0.9971512  0.00134873 0.00150016]\n",
      "[0. 0. 1.] <-> [9.3365926e-03 5.5691266e-06 9.9065781e-01]\n",
      "{'accuracy': 0.9814814814814815, 'mean_square_error': 0.05337913205736146, 'categorical_crossentropy': 0.10422323368213794, 'essential_metrics': {0: {'tp_hit': 78, 'fp_hit': 1, 'tn_hit': 27, 'fn_hit': 2}, 1: {'tp_hit': 14, 'fp_hit': 1, 'tn_hit': 92, 'fn_hit': 1}, 2: {'tp_hit': 13, 'fp_hit': 1, 'tn_hit': 94, 'fn_hit': 0}}}\n"
     ]
    }
   ],
   "source": [
    "# recall phase\n",
    "score = model.evaluate(x_test, y_test, False)\n",
    "print(score)"
   ]
  },
  {
   "cell_type": "code",
   "execution_count": 11,
   "metadata": {},
   "outputs": [
    {
     "data": {
      "image/png": "[encoded data removed]",
      "text/plain": [
       "<Figure size 864x360 with 1 Axes>"
      ]
     },
     "metadata": {
      "needs_background": "light"
     },
     "output_type": "display_data"
    },
    {
     "data": {
      "image/png": "[encoded data removed]",
      "text/plain": [
       "<Figure size 864x360 with 1 Axes>"
      ]
     },
     "metadata": {
      "needs_background": "light"
     },
     "output_type": "display_data"
    }
   ],
   "source": [
    "draw_plot(x = [[i for i in range(len(history))], [(i+1)*breakpoint for i in range(len(checkpoints))]], y_list = [history, [ ckp[model.loss_fn] for ckp in checkpoints ]], x_label = 'Epochs', \\\n",
    "    y_label = model.loss_fn, legend=['train', 'test'])\n",
    "acc = [ ckp['accuracy'] for ckp in checkpoints ]\n",
    "draw_plot(x = [[(i+1)*breakpoint for i in range(len(checkpoints))]], y_list = [acc], x_label = 'Checkpoints', \\\n",
    "    y_label = 'accuracy')"
   ]
  },
  {
   "cell_type": "code",
   "execution_count": 12,
   "metadata": {},
   "outputs": [
    {
     "name": "stdout",
     "output_type": "stream",
     "text": [
      "{'accuracy': 0.9567901234567902, 'mean_square_error': 0.11233162711554068, 'categorical_crossentropy': 0.22402577930026585, 'essential_metrics': {0: {'tp_hit': 80, 'fp_hit': 7, 'tn_hit': 21, 'fn_hit': 0}, 1: {'tp_hit': 11, 'fp_hit': 0, 'tn_hit': 93, 'fn_hit': 4}, 2: {'tp_hit': 10, 'fp_hit': 0, 'tn_hit': 95, 'fn_hit': 3}}, 'checkpoint': 100} \n",
      "\n",
      "\n",
      "{'accuracy': 0.9691358024691358, 'mean_square_error': 0.058437770189013694, 'categorical_crossentropy': 0.1246877599645544, 'essential_metrics': {0: {'tp_hit': 78, 'fp_hit': 3, 'tn_hit': 25, 'fn_hit': 2}, 1: {'tp_hit': 12, 'fp_hit': 1, 'tn_hit': 92, 'fn_hit': 3}, 2: {'tp_hit': 13, 'fp_hit': 1, 'tn_hit': 94, 'fn_hit': 0}}, 'checkpoint': 200} \n",
      "\n",
      "\n",
      "{'accuracy': 0.9753086419753086, 'mean_square_error': 0.054926475760704065, 'categorical_crossentropy': 0.11188567126238788, 'essential_metrics': {0: {'tp_hit': 78, 'fp_hit': 2, 'tn_hit': 26, 'fn_hit': 2}, 1: {'tp_hit': 15, 'fp_hit': 1, 'tn_hit': 92, 'fn_hit': 0}, 2: {'tp_hit': 11, 'fp_hit': 1, 'tn_hit': 94, 'fn_hit': 2}}, 'checkpoint': 300} \n",
      "\n",
      "\n",
      "{'accuracy': 0.9691358024691358, 'mean_square_error': 0.06375979514924433, 'categorical_crossentropy': 0.11625860355518482, 'essential_metrics': {0: {'tp_hit': 78, 'fp_hit': 3, 'tn_hit': 25, 'fn_hit': 2}, 1: {'tp_hit': 14, 'fp_hit': 1, 'tn_hit': 92, 'fn_hit': 1}, 2: {'tp_hit': 11, 'fp_hit': 1, 'tn_hit': 94, 'fn_hit': 2}}, 'checkpoint': 400} \n",
      "\n",
      "\n",
      "{'accuracy': 0.9814814814814815, 'mean_square_error': 0.05337913205736146, 'categorical_crossentropy': 0.10422323368213794, 'essential_metrics': {0: {'tp_hit': 78, 'fp_hit': 1, 'tn_hit': 27, 'fn_hit': 2}, 1: {'tp_hit': 14, 'fp_hit': 1, 'tn_hit': 92, 'fn_hit': 1}, 2: {'tp_hit': 13, 'fp_hit': 1, 'tn_hit': 94, 'fn_hit': 0}}, 'checkpoint': 500} \n",
      "\n",
      "\n"
     ]
    }
   ],
   "source": [
    "for checkpoint in checkpoints:\n",
    "    print(checkpoint, '\\n\\n')"
   ]
  },
  {
   "cell_type": "code",
   "execution_count": 13,
   "metadata": {},
   "outputs": [
    {
     "name": "stdout",
     "output_type": "stream",
     "text": [
      "Layer 1\n",
      "Neuron 0: weights:\n",
      "[ 0.9392147  3.         1.5541261 -1.3929858 -3.       ]\n",
      " bias: 3.0\n",
      "\n",
      "Neuron 1: weights:\n",
      "[-3.         3.         2.7331014 -1.830454  -3.       ]\n",
      " bias: 3.0\n",
      "\n",
      "Neuron 2: weights:\n",
      "[ 1.9753207 -3.        -3.        -3.         3.       ]\n",
      " bias: 3.0\n",
      "\n",
      "Neuron 3: weights:\n",
      "[ 1.6919885 -3.        -0.7079608  3.         3.       ]\n",
      " bias: 3.0\n",
      "\n",
      "$\n",
      "Layer 2\n",
      "Neuron 0: weights:\n",
      "[3. 3. 3. 3.]\n",
      " bias: -3.0\n",
      "\n",
      "Neuron 1: weights:\n",
      "[ 3.  3. -3. -3.]\n",
      " bias: 1.5755363702774048\n",
      "\n",
      "Neuron 2: weights:\n",
      "[-3. -3.  3.  3.]\n",
      " bias: 1.6644355058670044\n",
      "\n",
      "$\n",
      "\n"
     ]
    }
   ],
   "source": [
    "print(model)"
   ]
  }
 ],
 "metadata": {
  "kernelspec": {
   "display_name": "Python 3",
   "language": "python",
   "name": "python3"
  },
  "language_info": {
   "codemirror_mode": {
    "name": "ipython",
    "version": 3
   },
   "file_extension": ".py",
   "mimetype": "text/x-python",
   "name": "python",
   "nbconvert_exporter": "python",
   "pygments_lexer": "ipython3",
   "version": "3.6.10"
  }
 },
 "nbformat": 4,
 "nbformat_minor": 2
}
