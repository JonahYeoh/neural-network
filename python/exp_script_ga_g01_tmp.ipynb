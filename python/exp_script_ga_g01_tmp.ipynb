{
 "cells": [
  {
   "cell_type": "code",
   "execution_count": 1,
   "metadata": {},
   "outputs": [],
   "source": [
    "# two"
   ]
  },
  {
   "cell_type": "code",
   "execution_count": 2,
   "metadata": {},
   "outputs": [],
   "source": [
    "# dependency\n",
    "import numpy as np\n",
    "import pandas as pd\n",
    "import copy\n",
    "import math\n",
    "import sys\n",
    "import os\n",
    "from activations import relu, leaky_relu, sigmoid, tanh, softmax, d_sigmoid, d_relu\n",
    "from initializers import glorot_uniform, random_normal, random_uniform\n",
    "from regularizers import l1_regularizer, l2_regularizer\n",
    "from utility import trim_tail, multiply, subtract, get_nparams, one_hot_encoding, get_data\n",
    "from metrics import MSE, CCE, ACC, PRECISION, RECALL, essential_metrics, wondering_penalty, close_gap_penalty\n",
    "from pso import PSO\n",
    "from ga import GA\n",
    "from nn import Network\n",
    "from layer import DenseLayer\n",
    "from scalers import MinMaxScaler, StandardScaler"
   ]
  },
  {
   "cell_type": "code",
   "execution_count": 3,
   "metadata": {},
   "outputs": [],
   "source": [
    "# reference\n",
    "metrics_fn_dict = dict()\n",
    "metrics_fn_dict['accuracy'] = ACC\n",
    "metrics_fn_dict['categorical_crossentropy'] = CCE\n",
    "metrics_fn_dict['mean_square_error'] = MSE\n",
    "metrics_fn_dict['precision'] = PRECISION\n",
    "metrics_fn_dict['recall'] = RECALL\n",
    "metrics_fn_dict['essential_metrics'] = essential_metrics"
   ]
  },
  {
   "cell_type": "code",
   "execution_count": 4,
   "metadata": {},
   "outputs": [],
   "source": [
    "# model\n",
    "model = Network(5, lr = None)\n",
    "model.add_layer(DenseLayer(1, 4, True, afn=sigmoid, dafn=None, rfn=None))\n",
    "model.add_layer(DenseLayer(2, 3, True, afn=softmax, dafn=None, rfn=None))"
   ]
  },
  {
   "cell_type": "code",
   "execution_count": 5,
   "metadata": {},
   "outputs": [],
   "source": [
    "# optimizer\n",
    "ga = GA(\n",
    "    dict(\n",
    "        m = 200,\n",
    "        x_rate = [0.5, 1.0],\n",
    "        m_rate = [0.5, 1.0],\n",
    "        weight_constraint = [-3.,3.],\n",
    "        radioactive_rating = [0.1, 0.5],\n",
    "        grow_factor = [0.1, 0.5],\n",
    "        scale_hyperparameter = False,\n",
    "        regularizer = l1_regularizer))"
   ]
  },
  {
   "cell_type": "code",
   "execution_count": 6,
   "metadata": {},
   "outputs": [
    {
     "name": "stdout",
     "output_type": "stream",
     "text": [
      "building layer 1 with 5\n",
      "24\n",
      "building layer 2 with 4\n",
      "15\n"
     ]
    }
   ],
   "source": [
    "model.compile(loss_fn = 'categorical_crossentropy', optimizer = ga, \\\n",
    "    metrics = ['accuracy', 'mean_square_error', 'categorical_crossentropy'])"
   ]
  },
  {
   "cell_type": "code",
   "execution_count": 7,
   "metadata": {},
   "outputs": [
    {
     "name": "stdout",
     "output_type": "stream",
     "text": [
      "<class 'pandas.core.frame.DataFrame'>\n",
      "RangeIndex: 107 entries, 0 to 106\n",
      "Data columns (total 6 columns):\n",
      " #   Column  Non-Null Count  Dtype  \n",
      "---  ------  --------------  -----  \n",
      " 0   f1      107 non-null    float32\n",
      " 1   f2      107 non-null    float32\n",
      " 2   f3      107 non-null    float32\n",
      " 3   f4      107 non-null    float32\n",
      " 4   f5      107 non-null    float32\n",
      " 5   label   107 non-null    float32\n",
      "dtypes: float32(6)\n",
      "memory usage: 2.6 KB\n",
      "None\n",
      "<class 'pandas.core.frame.DataFrame'>\n",
      "RangeIndex: 108 entries, 0 to 107\n",
      "Data columns (total 6 columns):\n",
      " #   Column  Non-Null Count  Dtype  \n",
      "---  ------  --------------  -----  \n",
      " 0   f1      108 non-null    float32\n",
      " 1   f2      108 non-null    float32\n",
      " 2   f3      108 non-null    float32\n",
      " 3   f4      108 non-null    float32\n",
      " 4   f5      108 non-null    float32\n",
      " 5   label   108 non-null    float32\n",
      "dtypes: float32(6)\n",
      "memory usage: 2.7 KB\n",
      "None\n"
     ]
    }
   ],
   "source": [
    "# data loading\n",
    "DATA = os.path.join('c:\\\\Users\\\\tcumi\\\\github_repo\\\\neural-network\\\\', 'dataset')\n",
    "GROUP = 3\n",
    "COLUMNS = ['f1', 'f2', 'f3', 'f4', 'f5', 'label']\n",
    "N_CLASS = 3\n",
    "EPOCHS = 500\n",
    "train_dir, test_dir = \"..//dataset//training_data{}.txt\".format(GROUP), \"..//dataset//testing_data{}.txt\".format(GROUP)\n",
    "train, test = get_data(DATA, train_dir, COLUMNS), get_data(DATA, test_dir, COLUMNS)\n",
    "# shuffle\n",
    "train, test = train.sample(frac=1), test.sample(frac=1)\n",
    "x_train, y_train = train.drop('label', axis=1), train['label']\n",
    "x_test, y_test = test.drop('label', axis=1), test['label']"
   ]
  },
  {
   "cell_type": "code",
   "execution_count": 8,
   "metadata": {},
   "outputs": [],
   "source": [
    "# data scaling and encoding\n",
    "scaler = StandardScaler(['f1', 'f2', 'f3', 'f4', 'f5'])\n",
    "scaler.fit(x_train)\n",
    "x_train = scaler.transform(x_train)\n",
    "x_test = scaler.transform(x_test)\n",
    "y_train = one_hot_encoding(y_train, N_CLASS)\n",
    "y_test = one_hot_encoding(y_test, N_CLASS)"
   ]
  },
  {
   "cell_type": "code",
   "execution_count": 9,
   "metadata": {
    "scrolled": true,
    "tags": [
     "outputPrepend"
    ]
   },
   "outputs": [
    {
     "name": "stderr",
     "output_type": "stream",
     "text": [
      "C:\\Users\\tcumi\\Anaconda3\\envs\\py_3_6\\lib\\site-packages\\numpy\\core\\fromnumeric.py:87: VisibleDeprecationWarning: Creating an ndarray from ragged nested sequences (which is a list-or-tuple of lists-or-tuples-or ndarrays with different lengths or shapes) is deprecated. If you meant to do this, you must specify 'dtype=object' when creating the ndarray\n",
      "  return ufunc.reduce(obj, axis, dtype, out, **passkwargs)\n",
      "C:\\Users\\tcumi\\github_repo\\neural-network\\python\\ga.py:201: RuntimeWarning: overflow encountered in add\n",
      "  self.population.sort(key=lambda p: p.fitness + np.random.uniform(-shift, shift, 1), reverse = self.aim)\n",
      "C:\\Users\\tcumi\\Anaconda3\\envs\\py_3_6\\lib\\site-packages\\numpy\\core\\_asarray.py:136: VisibleDeprecationWarning: Creating an ndarray from ragged nested sequences (which is a list-or-tuple of lists-or-tuples-or ndarrays with different lengths or shapes) is deprecated. If you meant to do this, you must specify 'dtype=object' when creating the ndarray\n",
      "  return array(a, dtype, copy=False, order=order, subok=True)\n"
     ]
    },
    {
     "name": "stdout",
     "output_type": "stream",
     "text": [
      "Checkpoint 50, Accuracy: 0.9320987654320988, Loss: 0.3308235097814489\n",
      "Checkpoint 100, Accuracy: 0.9382716049382716, Loss: 0.30134045636212387\n",
      "Checkpoint 150, Accuracy: 0.9506172839506173, Loss: 0.28067359217890986\n",
      "Checkpoint 200, Accuracy: 0.9506172839506173, Loss: 0.2557623651292589\n",
      "Checkpoint 250, Accuracy: 0.9567901234567902, Loss: 0.24341625637478298\n",
      "Checkpoint 300, Accuracy: 0.9629629629629629, Loss: 0.24769777721828884\n",
      "Checkpoint 350, Accuracy: 0.9629629629629629, Loss: 0.2277536392211914\n",
      "Checkpoint 400, Accuracy: 0.9629629629629629, Loss: 0.22269736395941842\n",
      "Checkpoint 450, Accuracy: 0.9629629629629629, Loss: 0.20837773217095268\n",
      "Checkpoint 500, Accuracy: 0.9629629629629629, Loss: 0.20365517227737992\n"
     ]
    }
   ],
   "source": [
    "# learning phase\n",
    "breakpoint = 50\n",
    "checkpoints = list()\n",
    "history = list()\n",
    "for century in range(0, EPOCHS, breakpoint):\n",
    "    sub_history = model.fit(x_train, y_train, breakpoint, verbose = 0)\n",
    "    score = model.evaluate(x_test, y_test, False, verbose = 0)\n",
    "    print('Checkpoint {}, Accuracy: {}, Loss: {}'.format(century+breakpoint, score['accuracy'], score[model.loss_fn]))\n",
    "    score['checkpoint'] = century + breakpoint\n",
    "    checkpoints.append(score)\n",
    "    history.extend(sub_history)\n",
    "    itr = century + breakpoint\n",
    "\n",
    "    model.optimizer.rr = model.optimizer.radioactive_rating[1] - (model.optimizer.radioactive_rating[1] - model.optimizer.radioactive_rating[0]) / EPOCHS * (EPOCHS - itr)\n",
    "    model.optimizer.gf = model.optimizer.grow_factor[1] - (model.optimizer.grow_factor[1] - model.optimizer.grow_factor[0]) / EPOCHS * (EPOCHS - itr)\n",
    "    model.optimizer.crossover_rate = model.optimizer.x_rate[1] - (model.optimizer.x_rate[1] - model.optimizer.x_rate[0]) / EPOCHS * (EPOCHS - itr)\n",
    "    model.optimizer.mutation_rate = model.optimizer.m_rate[0] + (model.optimizer.m_rate[1] - model.optimizer.m_rate[0]) / EPOCHS * (EPOCHS - itr)\n",
    "    "
   ]
  },
  {
   "cell_type": "code",
   "execution_count": 10,
   "metadata": {},
   "outputs": [],
   "source": [
    "import matplotlib.pyplot as plt\n",
    "\n",
    "def draw_plot(x, y_list, x_label=None, y_label=None, legend=None, title=None):\n",
    "    fig, ax = plt.subplots(figsize=(12,5))\n",
    "    for xi, yi in zip(x, y_list):\n",
    "        ax.plot(xi, yi)\n",
    "    if x_label is not None and y_label is not None:\n",
    "        ax.set(xlabel=x_label, ylabel=y_label, title='{} VS {}'.format(x_label, y_label))\n",
    "    if legend is not None:\n",
    "        ax.legend(legend)\n",
    "    ax.grid()\n",
    "    plt.show()"
   ]
  },
  {
   "cell_type": "code",
   "execution_count": 11,
   "metadata": {},
   "outputs": [
    {
     "name": "stdout",
     "output_type": "stream",
     "text": [
      "[1. 0. 0.] <-> [0.91887367 0.03921871 0.04190755]\n",
      "[1. 0. 0.] <-> [0.94555837 0.01708156 0.03736007]\n",
      "[1. 0. 0.] <-> [0.73864585 0.20394354 0.05741056]\n",
      "[0. 1. 0.] <-> [0.06857797 0.926878   0.00454407]\n",
      "[1. 0. 0.] <-> [0.9436258  0.02376879 0.03260539]\n",
      "[0. 1. 0.] <-> [0.07338426 0.9203622  0.00625357]\n",
      "[1. 0. 0.] <-> [0.8773096  0.03921953 0.0834709 ]\n",
      "[1. 0. 0.] <-> [0.932689   0.01524622 0.05206469]\n",
      "[1. 0. 0.] <-> [0.9389666  0.03033252 0.03070086]\n",
      "[1. 0. 0.] <-> [0.9582516  0.01549063 0.02625784]\n",
      "[1. 0. 0.] <-> [0.5193839  0.44009802 0.04051811]\n",
      "[1. 0. 0.] <-> [0.9251044  0.04061221 0.03428344]\n",
      "[0. 1. 0.] <-> [0.08581711 0.9053153  0.00886767]\n",
      "[1. 0. 0.] <-> [0.84408754 0.01084401 0.14506844]\n",
      "[1. 0. 0.] <-> [0.92514896 0.01443098 0.06042001]\n",
      "[1. 0. 0.] <-> [0.8881989  0.08252245 0.02927868]\n",
      "[0. 0. 1.] <-> [0.2773991  0.00748055 0.7151204 ]\n",
      "[0. 0. 1.] <-> [0.12949713 0.00535226 0.8651506 ]\n",
      "[0. 0. 1.] <-> [0.08214181 0.00380395 0.9140542 ]\n",
      "[1. 0. 0.] <-> [0.7542989  0.22231965 0.02338139]\n",
      "[1. 0. 0.] <-> [0.94674706 0.02700441 0.02624858]\n",
      "[0. 1. 0.] <-> [0.5359659  0.44435474 0.01967933]\n",
      "[1. 0. 0.] <-> [0.9380818  0.02542978 0.03648838]\n",
      "[1. 0. 0.] <-> [0.9133411  0.0411438  0.04551514]\n",
      "[1. 0. 0.] <-> [0.82304704 0.1358403  0.04111266]\n",
      "[1. 0. 0.] <-> [0.89966404 0.02268599 0.0776499 ]\n",
      "[1. 0. 0.] <-> [0.907131   0.03162242 0.06124656]\n",
      "[0. 0. 1.] <-> [0.12617558 0.00469664 0.8691278 ]\n",
      "[1. 0. 0.] <-> [0.9196601  0.01632455 0.06401534]\n",
      "[1. 0. 0.] <-> [0.928438   0.0204936  0.05106847]\n",
      "[1. 0. 0.] <-> [0.93271124 0.01169001 0.05559874]\n",
      "[1. 0. 0.] <-> [0.92179793 0.05175916 0.02644292]\n",
      "[1. 0. 0.] <-> [0.7397992  0.15752247 0.10267828]\n",
      "[1. 0. 0.] <-> [0.95539457 0.01462158 0.02998387]\n",
      "[1. 0. 0.] <-> [0.9334207  0.04240491 0.02417435]\n",
      "[1. 0. 0.] <-> [0.92560434 0.01017874 0.06421696]\n",
      "[1. 0. 0.] <-> [0.85327685 0.02626581 0.12045739]\n",
      "[0. 1. 0.] <-> [0.06916492 0.92603177 0.00480328]\n",
      "[0. 0. 1.] <-> [0.7842466  0.0154477  0.20030561]\n",
      "[1. 0. 0.] <-> [0.9137155  0.06097247 0.02531208]\n",
      "[1. 0. 0.] <-> [0.94568807 0.03657247 0.01773942]\n",
      "[1. 0. 0.] <-> [0.9207909  0.0525442  0.02666491]\n",
      "[1. 0. 0.] <-> [0.94665647 0.01407981 0.03926374]\n",
      "[0. 1. 0.] <-> [0.07262009 0.9215146  0.00586532]\n",
      "[1. 0. 0.] <-> [0.8282441  0.13673228 0.03502357]\n",
      "[1. 0. 0.] <-> [0.9142583  0.02248743 0.06325424]\n",
      "[1. 0. 0.] <-> [0.9505517  0.01414937 0.03529898]\n",
      "[1. 0. 0.] <-> [0.8384644  0.06264665 0.09888894]\n",
      "[1. 0. 0.] <-> [0.945985   0.02994061 0.02407438]\n",
      "[0. 0. 1.] <-> [0.08571305 0.00805368 0.90623325]\n",
      "[1. 0. 0.] <-> [0.9574817  0.01264205 0.02987632]\n",
      "[1. 0. 0.] <-> [0.9413932  0.01622619 0.04238058]\n",
      "[0. 0. 1.] <-> [0.59264445 0.01671191 0.39064366]\n",
      "[1. 0. 0.] <-> [0.9508148 0.0173644 0.0318209]\n",
      "[1. 0. 0.] <-> [0.89739144 0.05207042 0.05053812]\n",
      "[1. 0. 0.] <-> [0.9274343  0.0258761  0.04668966]\n",
      "[1. 0. 0.] <-> [0.9496953  0.01646347 0.03384129]\n",
      "[1. 0. 0.] <-> [0.9273636  0.03032799 0.04230846]\n",
      "[1. 0. 0.] <-> [0.7368462  0.02545474 0.23769903]\n",
      "[1. 0. 0.] <-> [0.91736144 0.04733285 0.03530573]\n",
      "[1. 0. 0.] <-> [0.68853956 0.24761243 0.06384794]\n",
      "[1. 0. 0.] <-> [0.6431254  0.30131772 0.05555683]\n",
      "[1. 0. 0.] <-> [0.91135806 0.01409349 0.07454846]\n",
      "[1. 0. 0.] <-> [0.86149645 0.08478567 0.05371797]\n",
      "[0. 0. 1.] <-> [0.07380258 0.00407044 0.922127  ]\n",
      "[1. 0. 0.] <-> [0.93726    0.02481062 0.03792934]\n",
      "[1. 0. 0.] <-> [0.7933871  0.1673295  0.03928338]\n",
      "[1. 0. 0.] <-> [0.8526951  0.02265234 0.1246526 ]\n",
      "[1. 0. 0.] <-> [0.9339762  0.04457651 0.02144726]\n",
      "[0. 1. 0.] <-> [0.15376362 0.826101   0.0201354 ]\n",
      "[1. 0. 0.] <-> [0.9154456  0.03348209 0.05107234]\n",
      "[0. 1. 0.] <-> [0.08169474 0.9099392  0.00836596]\n",
      "[1. 0. 0.] <-> [0.9349052  0.02521413 0.03988073]\n",
      "[0. 1. 0.] <-> [0.24037936 0.74689573 0.01272485]\n",
      "[1. 0. 0.] <-> [0.50089324 0.47645804 0.02264875]\n",
      "[0. 1. 0.] <-> [0.23438844 0.7494401  0.01617146]\n",
      "[1. 0. 0.] <-> [0.9296392  0.05294829 0.01741252]\n",
      "[1. 0. 0.] <-> [0.9195712  0.01099237 0.06943638]\n",
      "[0. 0. 1.] <-> [0.80268353 0.00997318 0.18734327]\n",
      "[1. 0. 0.] <-> [0.88919425 0.0130487  0.09775703]\n",
      "[1. 0. 0.] <-> [0.902168   0.01227372 0.08555834]\n",
      "[1. 0. 0.] <-> [0.7670823  0.10708725 0.12583044]\n",
      "[0. 1. 0.] <-> [0.52109194 0.45900863 0.01989945]\n",
      "[1. 0. 0.] <-> [0.93906325 0.02364476 0.03729189]\n",
      "[0. 0. 1.] <-> [0.50984466 0.01012277 0.4800325 ]\n",
      "[1. 0. 0.] <-> [0.8744488  0.02583143 0.09971976]\n",
      "[0. 0. 1.] <-> [0.35164508 0.01567953 0.6326754 ]\n",
      "[1. 0. 0.] <-> [0.9336157  0.04188167 0.02450261]\n",
      "[0. 1. 0.] <-> [0.3700742  0.6125557  0.01737013]\n",
      "[1. 0. 0.] <-> [0.93257374 0.01049339 0.05693291]\n",
      "[1. 0. 0.] <-> [0.62557006 0.02670652 0.34772342]\n",
      "[1. 0. 0.] <-> [0.95067424 0.02086256 0.02846322]\n",
      "[0. 0. 1.] <-> [0.23003632 0.00679191 0.76317173]\n",
      "[1. 0. 0.] <-> [0.8935136  0.07659227 0.02989413]\n",
      "[0. 1. 0.] <-> [0.06876552 0.92665887 0.00457561]\n",
      "[1. 0. 0.] <-> [0.92842156 0.05010129 0.02147716]\n",
      "[1. 0. 0.] <-> [0.7110922  0.25606978 0.03283807]\n",
      "[0. 1. 0.] <-> [0.20017794 0.790728   0.009094  ]\n",
      "[0. 0. 1.] <-> [0.3402121  0.01505386 0.6447341 ]\n",
      "[0. 1. 0.] <-> [0.3144169  0.6510506  0.03453252]\n",
      "[1. 0. 0.] <-> [0.95457584 0.02460875 0.02081548]\n",
      "[1. 0. 0.] <-> [0.8662503  0.08773126 0.04601849]\n",
      "[1. 0. 0.] <-> [0.94793314 0.02642712 0.0256398 ]\n",
      "[1. 0. 0.] <-> [0.80353415 0.01806831 0.17839748]\n",
      "[0. 1. 0.] <-> [0.09762827 0.890103   0.0122688 ]\n",
      "[0. 0. 1.] <-> [0.22181964 0.00671219 0.7714682 ]\n",
      "[1. 0. 0.] <-> [0.9423639  0.017743   0.03989315]\n",
      "[1. 0. 0.] <-> [0.93134946 0.03803919 0.03061124]\n",
      "{'accuracy': 0.9629629629629629, 'mean_square_error': 0.09400572237782426, 'categorical_crossentropy': 0.20365517227737992, 'essential_metrics': {0: {'tp_hit': 78, 'fp_hit': 6, 'tn_hit': 24, 'fn_hit': 0}, 1: {'tp_hit': 14, 'fp_hit': 0, 'tn_hit': 92, 'fn_hit': 2}, 2: {'tp_hit': 10, 'fp_hit': 0, 'tn_hit': 94, 'fn_hit': 4}}}\n"
     ]
    }
   ],
   "source": [
    "# recall phase\n",
    "score = model.evaluate(x_test, y_test, False)\n",
    "print(score)"
   ]
  },
  {
   "cell_type": "code",
   "execution_count": 12,
   "metadata": {},
   "outputs": [],
   "source": [
    "# Testing Performance"
   ]
  },
  {
   "cell_type": "code",
   "execution_count": 13,
   "metadata": {},
   "outputs": [
    {
     "name": "stderr",
     "output_type": "stream",
     "text": [
      "C:\\Users\\tcumi\\Anaconda3\\envs\\py_3_6\\lib\\site-packages\\numpy\\core\\_asarray.py:136: VisibleDeprecationWarning: Creating an ndarray from ragged nested sequences (which is a list-or-tuple of lists-or-tuples-or ndarrays with different lengths or shapes) is deprecated. If you meant to do this, you must specify 'dtype=object' when creating the ndarray\n",
      "  return array(a, dtype, copy=False, order=order, subok=True)\n"
     ]
    },
    {
     "data": {
      "image/png": "[encoded data removed]",
      "text/plain": [
       "<Figure size 864x360 with 1 Axes>"
      ]
     },
     "metadata": {
      "needs_background": "light"
     },
     "output_type": "display_data"
    },
    {
     "data": {
      "image/png": "[encoded data removed]",
      "text/plain": [
       "<Figure size 864x360 with 1 Axes>"
      ]
     },
     "metadata": {
      "needs_background": "light"
     },
     "output_type": "display_data"
    }
   ],
   "source": [
    "draw_plot(x = [[i for i in range(len(history))], [(i+1)*breakpoint for i in range(len(checkpoints))]], y_list = [history, [ ckp[model.loss_fn] for ckp in checkpoints ]], x_label = 'Epochs', \\\n",
    "    y_label = model.loss_fn, legend=['train', 'test'])\n",
    "acc = [ ckp['accuracy'] for ckp in checkpoints ]\n",
    "draw_plot(x = [[(i+1)*breakpoint for i in range(len(checkpoints))]], y_list = [acc], x_label = 'Checkpoints', \\\n",
    "    y_label = 'accuracy')"
   ]
  },
  {
   "cell_type": "code",
   "execution_count": 14,
   "metadata": {
    "scrolled": false
   },
   "outputs": [
    {
     "name": "stdout",
     "output_type": "stream",
     "text": [
      "{'accuracy': 0.9320987654320988, 'mean_square_error': 0.17704642387659353, 'categorical_crossentropy': 0.3308235097814489, 'essential_metrics': {0: {'tp_hit': 77, 'fp_hit': 10, 'tn_hit': 20, 'fn_hit': 1}, 1: {'tp_hit': 11, 'fp_hit': 0, 'tn_hit': 92, 'fn_hit': 5}, 2: {'tp_hit': 9, 'fp_hit': 1, 'tn_hit': 93, 'fn_hit': 5}}, 'checkpoint': 50} \n",
      "\n",
      "\n",
      "{'accuracy': 0.9382716049382716, 'mean_square_error': 0.15800001094798788, 'categorical_crossentropy': 0.30134045636212387, 'essential_metrics': {0: {'tp_hit': 77, 'fp_hit': 9, 'tn_hit': 21, 'fn_hit': 1}, 1: {'tp_hit': 11, 'fp_hit': 0, 'tn_hit': 92, 'fn_hit': 5}, 2: {'tp_hit': 10, 'fp_hit': 1, 'tn_hit': 93, 'fn_hit': 4}}, 'checkpoint': 100} \n",
      "\n",
      "\n",
      "{'accuracy': 0.9506172839506173, 'mean_square_error': 0.14657996481892707, 'categorical_crossentropy': 0.28067359217890986, 'essential_metrics': {0: {'tp_hit': 78, 'fp_hit': 8, 'tn_hit': 22, 'fn_hit': 0}, 1: {'tp_hit': 12, 'fp_hit': 0, 'tn_hit': 92, 'fn_hit': 4}, 2: {'tp_hit': 10, 'fp_hit': 0, 'tn_hit': 94, 'fn_hit': 4}}, 'checkpoint': 150} \n",
      "\n",
      "\n",
      "{'accuracy': 0.9506172839506173, 'mean_square_error': 0.12367443624547834, 'categorical_crossentropy': 0.2557623651292589, 'essential_metrics': {0: {'tp_hit': 76, 'fp_hit': 6, 'tn_hit': 24, 'fn_hit': 2}, 1: {'tp_hit': 14, 'fp_hit': 1, 'tn_hit': 91, 'fn_hit': 2}, 2: {'tp_hit': 10, 'fp_hit': 1, 'tn_hit': 93, 'fn_hit': 4}}, 'checkpoint': 200} \n",
      "\n",
      "\n",
      "{'accuracy': 0.9567901234567902, 'mean_square_error': 0.11526810792363182, 'categorical_crossentropy': 0.24341625637478298, 'essential_metrics': {0: {'tp_hit': 77, 'fp_hit': 6, 'tn_hit': 24, 'fn_hit': 1}, 1: {'tp_hit': 14, 'fp_hit': 1, 'tn_hit': 91, 'fn_hit': 2}, 2: {'tp_hit': 10, 'fp_hit': 0, 'tn_hit': 94, 'fn_hit': 4}}, 'checkpoint': 250} \n",
      "\n",
      "\n",
      "{'accuracy': 0.9629629629629629, 'mean_square_error': 0.12122536104464239, 'categorical_crossentropy': 0.24769777721828884, 'essential_metrics': {0: {'tp_hit': 78, 'fp_hit': 6, 'tn_hit': 24, 'fn_hit': 0}, 1: {'tp_hit': 14, 'fp_hit': 0, 'tn_hit': 92, 'fn_hit': 2}, 2: {'tp_hit': 10, 'fp_hit': 0, 'tn_hit': 94, 'fn_hit': 4}}, 'checkpoint': 300} \n",
      "\n",
      "\n",
      "{'accuracy': 0.9629629629629629, 'mean_square_error': 0.10762222289861967, 'categorical_crossentropy': 0.2277536392211914, 'essential_metrics': {0: {'tp_hit': 77, 'fp_hit': 5, 'tn_hit': 25, 'fn_hit': 1}, 1: {'tp_hit': 15, 'fp_hit': 1, 'tn_hit': 91, 'fn_hit': 1}, 2: {'tp_hit': 10, 'fp_hit': 0, 'tn_hit': 94, 'fn_hit': 4}}, 'checkpoint': 350} \n",
      "\n",
      "\n",
      "{'accuracy': 0.9629629629629629, 'mean_square_error': 0.10386604218444899, 'categorical_crossentropy': 0.22269736395941842, 'essential_metrics': {0: {'tp_hit': 77, 'fp_hit': 5, 'tn_hit': 25, 'fn_hit': 1}, 1: {'tp_hit': 15, 'fp_hit': 1, 'tn_hit': 91, 'fn_hit': 1}, 2: {'tp_hit': 10, 'fp_hit': 0, 'tn_hit': 94, 'fn_hit': 4}}, 'checkpoint': 400} \n",
      "\n",
      "\n",
      "{'accuracy': 0.9629629629629629, 'mean_square_error': 0.09508864701682083, 'categorical_crossentropy': 0.20837773217095268, 'essential_metrics': {0: {'tp_hit': 77, 'fp_hit': 5, 'tn_hit': 25, 'fn_hit': 1}, 1: {'tp_hit': 15, 'fp_hit': 1, 'tn_hit': 91, 'fn_hit': 1}, 2: {'tp_hit': 10, 'fp_hit': 0, 'tn_hit': 94, 'fn_hit': 4}}, 'checkpoint': 450} \n",
      "\n",
      "\n",
      "{'accuracy': 0.9629629629629629, 'mean_square_error': 0.09400572237782426, 'categorical_crossentropy': 0.20365517227737992, 'essential_metrics': {0: {'tp_hit': 78, 'fp_hit': 6, 'tn_hit': 24, 'fn_hit': 0}, 1: {'tp_hit': 14, 'fp_hit': 0, 'tn_hit': 92, 'fn_hit': 2}, 2: {'tp_hit': 10, 'fp_hit': 0, 'tn_hit': 94, 'fn_hit': 4}}, 'checkpoint': 500} \n",
      "\n",
      "\n"
     ]
    }
   ],
   "source": [
    "for checkpoint in checkpoints:\n",
    "    print(checkpoint, '\\n\\n')"
   ]
  },
  {
   "cell_type": "code",
   "execution_count": 15,
   "metadata": {},
   "outputs": [
    {
     "name": "stdout",
     "output_type": "stream",
     "text": [
      "Layer 1\n",
      "Neuron 0: weights:\n",
      "[ 0.03264892 -1.2976109   0.00464506  0.8326889   1.3689207 ]\n",
      " bias: -1.2957756519317627\n",
      "\n",
      "Neuron 1: weights:\n",
      "[-0.04061566  0.5016197   0.00399102 -0.15919879 -0.5177931 ]\n",
      " bias: -0.004159554839134216\n",
      "\n",
      "Neuron 2: weights:\n",
      "[-0.19351894  1.3848852   0.00677119  0.00662245 -0.01331663]\n",
      " bias: 0.03854746371507645\n",
      "\n",
      "Neuron 3: weights:\n",
      "[ 1.2078737  -1.6793412  -1.8393499   0.00832738 -0.00383512]\n",
      " bias: 1.1870375871658325\n",
      "\n",
      "$\n",
      "Layer 2\n",
      "Neuron 0: weights:\n",
      "[-2.6817193e+00  4.7956011e-03 -8.9114177e-04  3.0000000e+00]\n",
      " bias: -0.0051224310882389545\n",
      "\n",
      "Neuron 1: weights:\n",
      "[ 0.00573507  0.02106021  2.556227   -3.        ]\n",
      " bias: 0.03757450357079506\n",
      "\n",
      "Neuron 2: weights:\n",
      "[ 3.         -1.9523215  -1.0054486   0.00668208]\n",
      " bias: 0.006879132241010666\n",
      "\n",
      "$\n",
      "\n"
     ]
    }
   ],
   "source": [
    "print(model)"
   ]
  }
 ],
 "metadata": {
  "kernelspec": {
   "display_name": "Python 3",
   "language": "python",
   "name": "python3"
  },
  "language_info": {
   "codemirror_mode": {
    "name": "ipython",
    "version": 3
   },
   "file_extension": ".py",
   "mimetype": "text/x-python",
   "name": "python",
   "nbconvert_exporter": "python",
   "pygments_lexer": "ipython3",
   "version": "3.6.10"
  }
 },
 "nbformat": 4,
 "nbformat_minor": 2
}
