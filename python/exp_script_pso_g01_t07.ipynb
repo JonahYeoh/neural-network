{
 "cells": [
  {
   "cell_type": "code",
   "execution_count": 1,
   "metadata": {},
   "outputs": [],
   "source": [
    "# dependency\n",
    "import numpy as np\n",
    "import pandas as pd\n",
    "import copy\n",
    "import math\n",
    "import sys\n",
    "import os\n",
    "from activations import relu, leaky_relu, sigmoid, tanh, softmax, d_sigmoid, d_relu\n",
    "from initializers import glorot_uniform, random_normal, random_uniform\n",
    "from regularizers import l1_regularizer, l2_regularizer\n",
    "from utility import trim_tail, multiply, subtract, get_nparams, one_hot_encoding, get_data\n",
    "from metrics import MSE, CCE, ACC, PRECISION, RECALL, essential_metrics, wondering_penalty, close_gap_penalty\n",
    "from pso import PSO\n",
    "from ga import GA\n",
    "from nn import Network\n",
    "from layer import DenseLayer\n",
    "from scalers import MinMaxScaler, StandardScaler"
   ]
  },
  {
   "cell_type": "code",
   "execution_count": 2,
   "metadata": {},
   "outputs": [],
   "source": [
    "# reference\n",
    "metrics_fn_dict = dict()\n",
    "metrics_fn_dict['accuracy'] = ACC\n",
    "metrics_fn_dict['categorical_crossentropy'] = CCE\n",
    "metrics_fn_dict['mean_square_error'] = MSE\n",
    "metrics_fn_dict['precision'] = PRECISION\n",
    "metrics_fn_dict['recall'] = RECALL\n",
    "metrics_fn_dict['essential_metrics'] = essential_metrics"
   ]
  },
  {
   "cell_type": "code",
   "execution_count": 3,
   "metadata": {},
   "outputs": [],
   "source": [
    "# model\n",
    "model = Network(5, lr = None)\n",
    "model.add_layer(DenseLayer(1, 4, True, afn=sigmoid, dafn=None, rfn=None))\n",
    "model.add_layer(DenseLayer(2, 3, True, afn=softmax, dafn=None, rfn=None))"
   ]
  },
  {
   "cell_type": "code",
   "execution_count": 4,
   "metadata": {},
   "outputs": [
    {
     "name": "stdout",
     "output_type": "stream",
     "text": [
      "see one see two 2 0.5\n"
     ]
    }
   ],
   "source": [
    "pso = PSO(dict(m = 50,\n",
    "    weight_constraint = [-3, 3], \n",
    "    velocity_constraint = [-0.1, 0.1],\n",
    "    c1 = [0.5, 2],\n",
    "    c2 = [0.5, 2],\n",
    "    w = [0.5, 1.6],\n",
    "    w_decay = 0.95,\n",
    "    scale_hyperparameter = False,\n",
    "    regularizer = l1_regularizer,\n",
    "    mask = True))"
   ]
  },
  {
   "cell_type": "code",
   "execution_count": 5,
   "metadata": {},
   "outputs": [
    {
     "name": "stdout",
     "output_type": "stream",
     "text": [
      "building layer 1 with 5\n",
      "24\n",
      "building layer 2 with 4\n",
      "15\n"
     ]
    }
   ],
   "source": [
    "model.compile(loss_fn = 'categorical_crossentropy', optimizer = pso, \\\n",
    "    metrics = ['accuracy', 'mean_square_error', 'categorical_crossentropy'])"
   ]
  },
  {
   "cell_type": "code",
   "execution_count": 6,
   "metadata": {},
   "outputs": [
    {
     "name": "stdout",
     "output_type": "stream",
     "text": [
      "<class 'pandas.core.frame.DataFrame'>\n",
      "RangeIndex: 107 entries, 0 to 106\n",
      "Data columns (total 6 columns):\n",
      " #   Column  Non-Null Count  Dtype  \n",
      "---  ------  --------------  -----  \n",
      " 0   f1      107 non-null    float32\n",
      " 1   f2      107 non-null    float32\n",
      " 2   f3      107 non-null    float32\n",
      " 3   f4      107 non-null    float32\n",
      " 4   f5      107 non-null    float32\n",
      " 5   label   107 non-null    float32\n",
      "dtypes: float32(6)\n",
      "memory usage: 2.6 KB\n",
      "None\n",
      "<class 'pandas.core.frame.DataFrame'>\n",
      "RangeIndex: 108 entries, 0 to 107\n",
      "Data columns (total 6 columns):\n",
      " #   Column  Non-Null Count  Dtype  \n",
      "---  ------  --------------  -----  \n",
      " 0   f1      108 non-null    float32\n",
      " 1   f2      108 non-null    float32\n",
      " 2   f3      108 non-null    float32\n",
      " 3   f4      108 non-null    float32\n",
      " 4   f5      108 non-null    float32\n",
      " 5   label   108 non-null    float32\n",
      "dtypes: float32(6)\n",
      "memory usage: 2.7 KB\n",
      "None\n"
     ]
    }
   ],
   "source": [
    "# data loading\n",
    "DATA = os.path.join('c:\\\\Users\\\\tcumi\\\\github_repo\\\\neural-network\\\\', 'dataset')\n",
    "GROUP = 1\n",
    "COLUMNS = ['f1', 'f2', 'f3', 'f4', 'f5', 'label']\n",
    "N_CLASS = 3\n",
    "EPOCHS = 500\n",
    "train_dir, test_dir = \"..//dataset//training_data{}.txt\".format(GROUP), \"..//dataset//testing_data{}.txt\".format(GROUP)\n",
    "train, test = get_data(DATA, train_dir, COLUMNS), get_data(DATA, test_dir, COLUMNS)\n",
    "# shuffle\n",
    "train, test = train.sample(frac=1), test.sample(frac=1)\n",
    "x_train, y_train = train.drop('label', axis=1), train['label']\n",
    "x_test, y_test = test.drop('label', axis=1), test['label']"
   ]
  },
  {
   "cell_type": "code",
   "execution_count": 7,
   "metadata": {},
   "outputs": [],
   "source": [
    "# data scaling and encoding\n",
    "scaler = StandardScaler(['f1', 'f2', 'f3', 'f4', 'f5'])\n",
    "scaler.fit(x_train)\n",
    "x_train = scaler.transform(x_train)\n",
    "x_test = scaler.transform(x_test)\n",
    "y_train = one_hot_encoding(y_train, N_CLASS)\n",
    "y_test = one_hot_encoding(y_test, N_CLASS)"
   ]
  },
  {
   "cell_type": "code",
   "execution_count": 8,
   "metadata": {
    "tags": [
     "outputPrepend"
    ]
   },
   "outputs": [
    {
     "name": "stdout",
     "output_type": "stream",
     "text": [
      "Checkpoint 100, Accuracy: 0.9506172839506173, Loss: 0.4295153088039822\n",
      "Checkpoint 200, Accuracy: 0.9567901234567902, Loss: 0.20270278718736437\n",
      "Checkpoint 300, Accuracy: 0.9753086419753086, Loss: 0.20390187369452584\n",
      "Checkpoint 400, Accuracy: 0.9691358024691358, Loss: 0.2122688823276096\n",
      "Checkpoint 500, Accuracy: 0.9691358024691358, Loss: 0.2077466470223886\n"
     ]
    }
   ],
   "source": [
    "# learning phase\n",
    "breakpoint = 100\n",
    "checkpoints = list()\n",
    "history = list()\n",
    "for century in range(0, EPOCHS, breakpoint):\n",
    "    sub_history = model.fit(x_train, y_train, breakpoint, verbose = 0)\n",
    "    score = model.evaluate(x_test, y_test, False, verbose = 0)\n",
    "    print('Checkpoint {}, Accuracy: {}, Loss: {}'.format(century+breakpoint, score['accuracy'], score[model.loss_fn]))\n",
    "    score['checkpoint'] = century + breakpoint\n",
    "    checkpoints.append(score)\n",
    "    history.extend(sub_history)\n",
    "    itr = century + breakpoint\n",
    "    model.optimizer.c1 = np.max([model.optimizer.C1[1] - ((model.optimizer.C1[1] - model.optimizer.C1[0]) * itr / EPOCHS), model.optimizer.C1[0]])\n",
    "    model.optimizer.c2 = np.min([model.optimizer.C2[0] + ((model.optimizer.C2[1] - model.optimizer.C2[0]) * itr / EPOCHS), model.optimizer.C2[1]])\n",
    "    model.optimizer.w = np.max([model.optimizer.w * model.optimizer.W_Decay, model.optimizer.W[0]])"
   ]
  },
  {
   "cell_type": "code",
   "execution_count": 9,
   "metadata": {},
   "outputs": [],
   "source": [
    "import matplotlib.pyplot as plt\n",
    "\n",
    "def draw_plot(x, y_list, x_label=None, y_label=None, legend=None, title=None):\n",
    "    fig, ax = plt.subplots(figsize=(12,5))\n",
    "    for xi, yi in zip(x, y_list):\n",
    "        ax.plot(xi, yi)\n",
    "    if x_label is not None and y_label is not None:\n",
    "        ax.set(xlabel=x_label, ylabel=y_label, title='{} VS {}'.format(x_label, y_label))\n",
    "    if legend is not None:\n",
    "        ax.legend(legend)\n",
    "    ax.grid()\n",
    "    plt.show()"
   ]
  },
  {
   "cell_type": "code",
   "execution_count": 10,
   "metadata": {},
   "outputs": [
    {
     "name": "stdout",
     "output_type": "stream",
     "text": [
      "[1. 0. 0.] <-> [0.872527   0.04023027 0.08724277]\n",
      "[1. 0. 0.] <-> [0.67529213 0.2795877  0.04512012]\n",
      "[1. 0. 0.] <-> [0.9037297  0.04408818 0.05218211]\n",
      "[0. 0. 1.] <-> [0.08580997 0.01610778 0.89808226]\n",
      "[1. 0. 0.] <-> [0.92576563 0.03922215 0.03501219]\n",
      "[1. 0. 0.] <-> [0.8705581  0.03243219 0.09700972]\n",
      "[0. 1. 0.] <-> [0.4507981  0.5039045  0.04529745]\n",
      "[1. 0. 0.] <-> [0.91834295 0.04900838 0.03264876]\n",
      "[1. 0. 0.] <-> [0.90080047 0.04904058 0.05015894]\n",
      "[1. 0. 0.] <-> [0.8195882  0.03737766 0.14303413]\n",
      "[1. 0. 0.] <-> [0.86281085 0.03088469 0.10630446]\n",
      "[0. 0. 1.] <-> [0.7861562  0.03054387 0.18329991]\n",
      "[0. 1. 0.] <-> [0.09753601 0.87777805 0.02468602]\n",
      "[0. 1. 0.] <-> [0.1085913  0.8707019  0.02070677]\n",
      "[0. 0. 1.] <-> [0.09726027 0.01718415 0.8855556 ]\n",
      "[1. 0. 0.] <-> [0.9069851  0.03296454 0.06005033]\n",
      "[0. 0. 1.] <-> [0.07627432 0.01571747 0.90800816]\n",
      "[1. 0. 0.] <-> [0.3962439  0.03569935 0.56805676]\n",
      "[1. 0. 0.] <-> [0.91701114 0.04110599 0.04188292]\n",
      "[1. 0. 0.] <-> [0.92589307 0.04716846 0.02693844]\n",
      "[0. 0. 1.] <-> [0.6480334  0.03140937 0.32055727]\n",
      "[1. 0. 0.] <-> [0.91177946 0.05513221 0.03308828]\n",
      "[1. 0. 0.] <-> [0.92280495 0.04080059 0.03639444]\n",
      "[1. 0. 0.] <-> [0.91888934 0.03680149 0.04430911]\n",
      "[1. 0. 0.] <-> [0.9013202  0.03132943 0.06735036]\n",
      "[1. 0. 0.] <-> [0.9024568  0.05454642 0.04299678]\n",
      "[1. 0. 0.] <-> [0.9246328  0.03992957 0.03543763]\n",
      "[1. 0. 0.] <-> [0.90533423 0.04286052 0.05180522]\n",
      "[1. 0. 0.] <-> [0.7021223  0.03805423 0.25982353]\n",
      "[1. 0. 0.] <-> [0.7590198  0.04320715 0.197773  ]\n",
      "[1. 0. 0.] <-> [0.710633   0.23736103 0.05200607]\n",
      "[1. 0. 0.] <-> [0.93138486 0.03130748 0.03730761]\n",
      "[0. 0. 1.] <-> [0.14529455 0.02122969 0.83347577]\n",
      "[1. 0. 0.] <-> [0.9128977  0.04116173 0.0459405 ]\n",
      "[1. 0. 0.] <-> [0.83011454 0.03930759 0.1305779 ]\n",
      "[1. 0. 0.] <-> [0.88421196 0.0334441  0.08234392]\n",
      "[0. 1. 0.] <-> [0.66462827 0.28457776 0.05079397]\n",
      "[1. 0. 0.] <-> [0.8682858  0.04009173 0.09162244]\n",
      "[1. 0. 0.] <-> [0.8781159  0.04530474 0.07657935]\n",
      "[1. 0. 0.] <-> [0.89437693 0.0304202  0.07520296]\n",
      "[0. 0. 1.] <-> [0.11478056 0.01895774 0.8662617 ]\n",
      "[0. 1. 0.] <-> [0.10770163 0.8702601  0.02203827]\n",
      "[1. 0. 0.] <-> [0.8289415  0.12087142 0.0501871 ]\n",
      "[1. 0. 0.] <-> [0.8612191  0.03638486 0.10239604]\n",
      "[0. 0. 1.] <-> [0.11618531 0.02055557 0.8632591 ]\n",
      "[1. 0. 0.] <-> [0.8986533  0.0499505  0.05139621]\n",
      "[0. 1. 0.] <-> [0.11860783 0.8616694  0.0197228 ]\n",
      "[1. 0. 0.] <-> [0.8232488  0.12473898 0.05201228]\n",
      "[1. 0. 0.] <-> [0.87849784 0.03815448 0.08334772]\n",
      "[1. 0. 0.] <-> [0.92670757 0.02930763 0.04398479]\n",
      "[1. 0. 0.] <-> [0.90778    0.0500947  0.04212524]\n",
      "[1. 0. 0.] <-> [0.92703366 0.03502255 0.03794372]\n",
      "[1. 0. 0.] <-> [0.86140364 0.06120387 0.07739244]\n",
      "[1. 0. 0.] <-> [0.9027015  0.03449942 0.06279903]\n",
      "[0. 0. 1.] <-> [0.08524324 0.01609795 0.8986588 ]\n",
      "[1. 0. 0.] <-> [0.8804455  0.04379135 0.07576318]\n",
      "[1. 0. 0.] <-> [0.8147042  0.03635174 0.14894404]\n",
      "[1. 0. 0.] <-> [0.8841688  0.06517702 0.05065424]\n",
      "[1. 0. 0.] <-> [0.8630852  0.09715009 0.03976466]\n",
      "[1. 0. 0.] <-> [0.9163924  0.039523   0.04408466]\n",
      "[1. 0. 0.] <-> [0.88577855 0.0344975  0.07972402]\n",
      "[1. 0. 0.] <-> [0.9146828  0.04892616 0.03639103]\n",
      "[1. 0. 0.] <-> [0.8725522  0.03304053 0.09440716]\n",
      "[1. 0. 0.] <-> [0.91125846 0.04174925 0.0469922 ]\n",
      "[1. 0. 0.] <-> [0.8248512  0.03897782 0.13617107]\n",
      "[1. 0. 0.] <-> [0.69009906 0.03878221 0.27111876]\n",
      "[1. 0. 0.] <-> [0.9050928  0.0618744  0.03303289]\n",
      "[1. 0. 0.] <-> [0.8759296  0.04490172 0.07916872]\n",
      "[1. 0. 0.] <-> [0.8942146  0.0381591  0.06762632]\n",
      "[0. 1. 0.] <-> [0.27393717 0.68113554 0.04492724]\n",
      "[1. 0. 0.] <-> [0.90816957 0.03264611 0.0591843 ]\n",
      "[1. 0. 0.] <-> [0.865685   0.09665545 0.03765949]\n",
      "[1. 0. 0.] <-> [0.8478641  0.03174004 0.12039585]\n",
      "[1. 0. 0.] <-> [0.70239365 0.04107203 0.25653428]\n",
      "[1. 0. 0.] <-> [0.877402   0.08529362 0.03730432]\n",
      "[0. 1. 0.] <-> [0.13008486 0.83977824 0.0301369 ]\n",
      "[0. 1. 0.] <-> [0.10088246 0.87407845 0.02503903]\n",
      "[1. 0. 0.] <-> [0.88518715 0.06462966 0.05018318]\n",
      "[1. 0. 0.] <-> [0.90769005 0.03911057 0.05319932]\n",
      "[1. 0. 0.] <-> [0.9136999  0.05418563 0.03211443]\n",
      "[0. 0. 1.] <-> [0.37900138 0.03002696 0.5909716 ]\n",
      "[1. 0. 0.] <-> [0.8858975  0.03543773 0.07866466]\n",
      "[1. 0. 0.] <-> [0.8827453  0.03281886 0.08443583]\n",
      "[1. 0. 0.] <-> [0.795174   0.03726833 0.16755769]\n",
      "[0. 0. 1.] <-> [0.09206563 0.01654859 0.8913858 ]\n",
      "[1. 0. 0.] <-> [0.90682495 0.06094437 0.03223063]\n",
      "[0. 1. 0.] <-> [0.11783037 0.85347587 0.02869376]\n",
      "[1. 0. 0.] <-> [0.9124352  0.03781386 0.04975101]\n",
      "[1. 0. 0.] <-> [0.8621705  0.04309375 0.09473564]\n",
      "[1. 0. 0.] <-> [0.8746614  0.03207907 0.09325947]\n",
      "[1. 0. 0.] <-> [0.883606   0.04075959 0.0756344 ]\n",
      "[1. 0. 0.] <-> [0.8398812  0.056067   0.10405181]\n",
      "[1. 0. 0.] <-> [0.8364009  0.03571368 0.12788534]\n",
      "[1. 0. 0.] <-> [0.93126935 0.03086253 0.03786804]\n",
      "[0. 1. 0.] <-> [0.58294725 0.36970505 0.04734768]\n",
      "[1. 0. 0.] <-> [0.7496011  0.04420545 0.20619337]\n",
      "[1. 0. 0.] <-> [0.89858997 0.02961641 0.07179366]\n",
      "[1. 0. 0.] <-> [0.9181574  0.03649968 0.04534295]\n",
      "[0. 1. 0.] <-> [0.24680547 0.71561056 0.03758401]\n",
      "[1. 0. 0.] <-> [0.8910832  0.06291554 0.04600132]\n",
      "[0. 1. 0.] <-> [0.3036523  0.65370136 0.04264631]\n",
      "[0. 0. 1.] <-> [0.11447329 0.01799582 0.8675309 ]\n",
      "[0. 0. 1.] <-> [0.15766598 0.02089906 0.821435  ]\n",
      "[0. 1. 0.] <-> [0.10963473 0.86994785 0.02041736]\n",
      "[1. 0. 0.] <-> [0.79400665 0.04567319 0.1603202 ]\n",
      "[1. 0. 0.] <-> [0.9135661  0.0341479  0.05228598]\n",
      "[1. 0. 0.] <-> [0.7680249  0.17401277 0.05796223]\n",
      "[0. 1. 0.] <-> [0.19247    0.77314574 0.03438422]\n",
      "{'accuracy': 0.9691358024691358, 'mean_square_error': 0.08504108606813153, 'categorical_crossentropy': 0.2077466470223886, 'essential_metrics': {0: {'tp_hit': 79, 'fp_hit': 4, 'tn_hit': 24, 'fn_hit': 1}, 1: {'tp_hit': 13, 'fp_hit': 0, 'tn_hit': 93, 'fn_hit': 2}, 2: {'tp_hit': 11, 'fp_hit': 1, 'tn_hit': 94, 'fn_hit': 2}}}\n"
     ]
    }
   ],
   "source": [
    "# recall phase\n",
    "score = model.evaluate(x_test, y_test, False)\n",
    "print(score)"
   ]
  },
  {
   "cell_type": "code",
   "execution_count": 11,
   "metadata": {},
   "outputs": [
    {
     "data": {
      "image/png": "[encoded data removed]",
      "text/plain": [
       "<Figure size 864x360 with 1 Axes>"
      ]
     },
     "metadata": {
      "needs_background": "light"
     },
     "output_type": "display_data"
    },
    {
     "data": {
      "image/png": "[encoded data removed]",
      "text/plain": [
       "<Figure size 864x360 with 1 Axes>"
      ]
     },
     "metadata": {
      "needs_background": "light"
     },
     "output_type": "display_data"
    }
   ],
   "source": [
    "draw_plot(x = [[i for i in range(len(history))], [(i+1)*breakpoint for i in range(len(checkpoints))]], y_list = [history, [ ckp[model.loss_fn] for ckp in checkpoints ]], x_label = 'Epochs', \\\n",
    "    y_label = model.loss_fn, legend=['train', 'test'])\n",
    "acc = [ ckp['accuracy'] for ckp in checkpoints ]\n",
    "draw_plot(x = [[(i+1)*breakpoint for i in range(len(checkpoints))]], y_list = [acc], x_label = 'Checkpoints', \\\n",
    "    y_label = 'accuracy')"
   ]
  },
  {
   "cell_type": "code",
   "execution_count": 12,
   "metadata": {},
   "outputs": [
    {
     "name": "stdout",
     "output_type": "stream",
     "text": [
      "{'accuracy': 0.9506172839506173, 'mean_square_error': 0.21433406828555418, 'categorical_crossentropy': 0.4295153088039822, 'essential_metrics': {0: {'tp_hit': 77, 'fp_hit': 5, 'tn_hit': 23, 'fn_hit': 3}, 1: {'tp_hit': 14, 'fp_hit': 3, 'tn_hit': 90, 'fn_hit': 1}, 2: {'tp_hit': 9, 'fp_hit': 0, 'tn_hit': 95, 'fn_hit': 4}}, 'checkpoint': 100} \n",
      "\n",
      "\n",
      "{'accuracy': 0.9567901234567902, 'mean_square_error': 0.08916027899055212, 'categorical_crossentropy': 0.20270278718736437, 'essential_metrics': {0: {'tp_hit': 79, 'fp_hit': 6, 'tn_hit': 22, 'fn_hit': 1}, 1: {'tp_hit': 11, 'fp_hit': 0, 'tn_hit': 93, 'fn_hit': 4}, 2: {'tp_hit': 11, 'fp_hit': 1, 'tn_hit': 94, 'fn_hit': 2}}, 'checkpoint': 200} \n",
      "\n",
      "\n",
      "{'accuracy': 0.9753086419753086, 'mean_square_error': 0.08170907096059414, 'categorical_crossentropy': 0.20390187369452584, 'essential_metrics': {0: {'tp_hit': 80, 'fp_hit': 4, 'tn_hit': 24, 'fn_hit': 0}, 1: {'tp_hit': 13, 'fp_hit': 0, 'tn_hit': 93, 'fn_hit': 2}, 2: {'tp_hit': 11, 'fp_hit': 0, 'tn_hit': 95, 'fn_hit': 2}}, 'checkpoint': 300} \n",
      "\n",
      "\n",
      "{'accuracy': 0.9691358024691358, 'mean_square_error': 0.08838613029735123, 'categorical_crossentropy': 0.2122688823276096, 'essential_metrics': {0: {'tp_hit': 79, 'fp_hit': 4, 'tn_hit': 24, 'fn_hit': 1}, 1: {'tp_hit': 13, 'fp_hit': 0, 'tn_hit': 93, 'fn_hit': 2}, 2: {'tp_hit': 11, 'fp_hit': 1, 'tn_hit': 94, 'fn_hit': 2}}, 'checkpoint': 400} \n",
      "\n",
      "\n",
      "{'accuracy': 0.9691358024691358, 'mean_square_error': 0.08504108606813153, 'categorical_crossentropy': 0.2077466470223886, 'essential_metrics': {0: {'tp_hit': 79, 'fp_hit': 4, 'tn_hit': 24, 'fn_hit': 1}, 1: {'tp_hit': 13, 'fp_hit': 0, 'tn_hit': 93, 'fn_hit': 2}, 2: {'tp_hit': 11, 'fp_hit': 1, 'tn_hit': 94, 'fn_hit': 2}}, 'checkpoint': 500} \n",
      "\n",
      "\n"
     ]
    }
   ],
   "source": [
    "for checkpoint in checkpoints:\n",
    "    print(checkpoint, '\\n\\n')"
   ]
  },
  {
   "cell_type": "code",
   "execution_count": 13,
   "metadata": {},
   "outputs": [
    {
     "name": "stdout",
     "output_type": "stream",
     "text": [
      "Layer 1\n",
      "Neuron 0: weights:\n",
      "[ 0.10362518 -1.7513295  -0.11909775  0.3321024   1.2610102 ]\n",
      " bias: -0.9629347324371338\n",
      "\n",
      "Neuron 1: weights:\n",
      "[-0.3077608   0.01092463  0.190302   -0.97907305 -1.0725996 ]\n",
      " bias: 0.30454468727111816\n",
      "\n",
      "Neuron 2: weights:\n",
      "[-1.5241959   3.          1.306603   -0.07292803 -0.0590483 ]\n",
      " bias: -1.9327974319458008\n",
      "\n",
      "Neuron 3: weights:\n",
      "[0.07137054 0.05257635 0.02729918 0.8557221  0.07555006]\n",
      " bias: -0.07794733345508575\n",
      "\n",
      "$\n",
      "Layer 2\n",
      "Neuron 0: weights:\n",
      "[-0.7844519   1.640766   -3.         -0.95919466]\n",
      " bias: 3.0\n",
      "\n",
      "Neuron 1: weights:\n",
      "[-0.3234179   0.09463765  3.         -0.03557732]\n",
      " bias: 0.07935827225446701\n",
      "\n",
      "Neuron 2: weights:\n",
      "[ 3.         -1.2489777   0.05132379  0.6571981 ]\n",
      " bias: 0.1915726363658905\n",
      "\n",
      "$\n",
      "\n"
     ]
    }
   ],
   "source": [
    "print(model)"
   ]
  }
 ],
 "metadata": {
  "kernelspec": {
   "display_name": "Python 3",
   "language": "python",
   "name": "python3"
  },
  "language_info": {
   "codemirror_mode": {
    "name": "ipython",
    "version": 3
   },
   "file_extension": ".py",
   "mimetype": "text/x-python",
   "name": "python",
   "nbconvert_exporter": "python",
   "pygments_lexer": "ipython3",
   "version": "3.6.10"
  }
 },
 "nbformat": 4,
 "nbformat_minor": 2
}
