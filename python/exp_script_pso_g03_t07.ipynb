{
 "cells": [
  {
   "cell_type": "code",
   "execution_count": 1,
   "metadata": {},
   "outputs": [],
   "source": [
    "# dependency\n",
    "import numpy as np\n",
    "import pandas as pd\n",
    "import copy\n",
    "import math\n",
    "import sys\n",
    "import os\n",
    "from activations import relu, leaky_relu, sigmoid, tanh, softmax, d_sigmoid, d_relu\n",
    "from initializers import glorot_uniform, random_normal, random_uniform\n",
    "from regularizers import l1_regularizer, l2_regularizer\n",
    "from utility import trim_tail, multiply, subtract, get_nparams, one_hot_encoding, get_data\n",
    "from metrics import MSE, CCE, ACC, PRECISION, RECALL, essential_metrics, wondering_penalty, close_gap_penalty\n",
    "from pso import PSO\n",
    "from ga import GA\n",
    "from nn import Network\n",
    "from layer import DenseLayer\n",
    "from scalers import MinMaxScaler, StandardScaler"
   ]
  },
  {
   "cell_type": "code",
   "execution_count": 2,
   "metadata": {},
   "outputs": [],
   "source": [
    "# reference\n",
    "metrics_fn_dict = dict()\n",
    "metrics_fn_dict['accuracy'] = ACC\n",
    "metrics_fn_dict['categorical_crossentropy'] = CCE\n",
    "metrics_fn_dict['mean_square_error'] = MSE\n",
    "metrics_fn_dict['precision'] = PRECISION\n",
    "metrics_fn_dict['recall'] = RECALL\n",
    "metrics_fn_dict['essential_metrics'] = essential_metrics"
   ]
  },
  {
   "cell_type": "code",
   "execution_count": 3,
   "metadata": {},
   "outputs": [],
   "source": [
    "# model\n",
    "model = Network(5, lr = None)\n",
    "model.add_layer(DenseLayer(1, 4, True, afn=sigmoid, dafn=None, rfn=None))\n",
    "model.add_layer(DenseLayer(2, 3, True, afn=softmax, dafn=None, rfn=None))"
   ]
  },
  {
   "cell_type": "code",
   "execution_count": 4,
   "metadata": {},
   "outputs": [
    {
     "name": "stdout",
     "output_type": "stream",
     "text": [
      "see one see two 2.0 0.5\n"
     ]
    }
   ],
   "source": [
    "pso = PSO(dict(m = 200,\n",
    "    weight_constraint = [-3, 3], \n",
    "    velocity_constraint = [-0.1, 0.1],\n",
    "    c1 = [0.5, 2.0],\n",
    "    c2 = [0.5, 2.0],\n",
    "    w = [0.5, 1.6],\n",
    "    w_decay = 0.95,\n",
    "    scale_hyperparameter = False,\n",
    "    regularizer = None,\n",
    "    mask = True))"
   ]
  },
  {
   "cell_type": "code",
   "execution_count": 5,
   "metadata": {},
   "outputs": [
    {
     "name": "stdout",
     "output_type": "stream",
     "text": [
      "building layer 1 with 5\n",
      "24\n",
      "building layer 2 with 4\n",
      "15\n"
     ]
    }
   ],
   "source": [
    "model.compile(loss_fn = 'categorical_crossentropy', optimizer = pso, \\\n",
    "    metrics = ['accuracy', 'mean_square_error', 'categorical_crossentropy'])"
   ]
  },
  {
   "cell_type": "code",
   "execution_count": 6,
   "metadata": {
    "scrolled": false
   },
   "outputs": [
    {
     "name": "stdout",
     "output_type": "stream",
     "text": [
      "<class 'pandas.core.frame.DataFrame'>\n",
      "RangeIndex: 107 entries, 0 to 106\n",
      "Data columns (total 6 columns):\n",
      " #   Column  Non-Null Count  Dtype  \n",
      "---  ------  --------------  -----  \n",
      " 0   f1      107 non-null    float32\n",
      " 1   f2      107 non-null    float32\n",
      " 2   f3      107 non-null    float32\n",
      " 3   f4      107 non-null    float32\n",
      " 4   f5      107 non-null    float32\n",
      " 5   label   107 non-null    float32\n",
      "dtypes: float32(6)\n",
      "memory usage: 2.6 KB\n",
      "None\n",
      "<class 'pandas.core.frame.DataFrame'>\n",
      "RangeIndex: 108 entries, 0 to 107\n",
      "Data columns (total 6 columns):\n",
      " #   Column  Non-Null Count  Dtype  \n",
      "---  ------  --------------  -----  \n",
      " 0   f1      108 non-null    float32\n",
      " 1   f2      108 non-null    float32\n",
      " 2   f3      108 non-null    float32\n",
      " 3   f4      108 non-null    float32\n",
      " 4   f5      108 non-null    float32\n",
      " 5   label   108 non-null    float32\n",
      "dtypes: float32(6)\n",
      "memory usage: 2.7 KB\n",
      "None\n"
     ]
    }
   ],
   "source": [
    "# data loading\n",
    "DATA = os.path.join('c:\\\\Users\\\\Ai-lab\\\\github_repo\\\\neural-network\\\\', 'dataset')\n",
    "GROUP = 3\n",
    "COLUMNS = ['f1', 'f2', 'f3', 'f4', 'f5', 'label']\n",
    "N_CLASS = 3\n",
    "EPOCHS = 200\n",
    "train_dir, test_dir = \"..//dataset//training_data{}.txt\".format(GROUP), \"..//dataset//testing_data{}.txt\".format(GROUP)\n",
    "train, test = get_data(DATA, train_dir, COLUMNS), get_data(DATA, test_dir, COLUMNS)\n",
    "# shuffle\n",
    "train, test = train.sample(frac=1), test.sample(frac=1)\n",
    "x_train, y_train = train.drop('label', axis=1), train['label']\n",
    "x_test, y_test = test.drop('label', axis=1), test['label']"
   ]
  },
  {
   "cell_type": "code",
   "execution_count": 7,
   "metadata": {},
   "outputs": [],
   "source": [
    "# data scaling and encoding\n",
    "scaler = StandardScaler(['f1', 'f2', 'f3', 'f4', 'f5'])\n",
    "scaler.fit(x_train)\n",
    "x_train = scaler.transform(x_train)\n",
    "x_test = scaler.transform(x_test)\n",
    "y_train = one_hot_encoding(y_train, N_CLASS)\n",
    "y_test = one_hot_encoding(y_test, N_CLASS)"
   ]
  },
  {
   "cell_type": "code",
   "execution_count": 8,
   "metadata": {
    "tags": [
     "outputPrepend"
    ]
   },
   "outputs": [
    {
     "name": "stdout",
     "output_type": "stream",
     "text": [
      "Checkpoint 10, Accuracy: 0.8580246913580247, Loss: 0.7606872276023582\n",
      "Checkpoint 20, Accuracy: 0.9012345679012346, Loss: 0.5528666884810837\n",
      "Checkpoint 30, Accuracy: 0.9012345679012346, Loss: 0.5149530128196433\n",
      "Checkpoint 40, Accuracy: 0.9012345679012346, Loss: 0.4648676978217231\n",
      "Checkpoint 50, Accuracy: 0.8703703703703703, Loss: 0.4558299735740379\n",
      "Checkpoint 60, Accuracy: 0.8641975308641975, Loss: 0.4033314033790871\n",
      "Checkpoint 70, Accuracy: 0.8765432098765432, Loss: 0.34857364937111185\n",
      "Checkpoint 80, Accuracy: 0.9506172839506173, Loss: 0.2896286999737775\n",
      "Checkpoint 90, Accuracy: 0.9506172839506173, Loss: 0.2644475654319481\n",
      "Checkpoint 100, Accuracy: 0.9567901234567902, Loss: 0.2566169986018428\n",
      "Checkpoint 110, Accuracy: 0.9506172839506173, Loss: 0.22986320213035302\n",
      "Checkpoint 120, Accuracy: 0.9691358024691358, Loss: 0.17442586686876085\n",
      "Checkpoint 130, Accuracy: 0.9629629629629629, Loss: 0.17205365498860678\n",
      "Checkpoint 140, Accuracy: 0.9629629629629629, Loss: 0.1521813957779496\n",
      "Checkpoint 150, Accuracy: 0.9691358024691358, Loss: 0.1438490902936017\n",
      "Checkpoint 160, Accuracy: 0.9691358024691358, Loss: 0.13653864683928313\n",
      "Checkpoint 170, Accuracy: 0.9629629629629629, Loss: 0.13519594404432508\n",
      "Checkpoint 180, Accuracy: 0.9629629629629629, Loss: 0.12120147987648293\n",
      "Checkpoint 190, Accuracy: 0.9629629629629629, Loss: 0.10990289405540184\n",
      "Checkpoint 200, Accuracy: 0.9567901234567902, Loss: 0.10935381606773094\n"
     ]
    }
   ],
   "source": [
    "# learning phase\n",
    "breakpoint = 10\n",
    "checkpoints = list()\n",
    "history = list()\n",
    "for century in range(0, EPOCHS, breakpoint):\n",
    "    sub_history = model.fit(x_train, y_train, breakpoint, verbose = 0)\n",
    "    score = model.evaluate(x_test, y_test, False, verbose = 0)\n",
    "    print('Checkpoint {}, Accuracy: {}, Loss: {}'.format(century+breakpoint, score['accuracy'], score[model.loss_fn]))\n",
    "    score['checkpoint'] = century + breakpoint\n",
    "    checkpoints.append(score)\n",
    "    history.extend(sub_history)\n",
    "    itr = century + breakpoint\n",
    "    model.optimizer.c1 = np.max([model.optimizer.C1[1] - ((model.optimizer.C1[1] - model.optimizer.C1[0]) * itr / EPOCHS), model.optimizer.C1[0]])\n",
    "    model.optimizer.c2 = np.min([model.optimizer.C2[0] + ((model.optimizer.C2[1] - model.optimizer.C2[0]) * itr / EPOCHS), model.optimizer.C2[1]])\n",
    "    model.optimizer.w = np.max([model.optimizer.w * model.optimizer.W_Decay, model.optimizer.W[0]])"
   ]
  },
  {
   "cell_type": "code",
   "execution_count": 9,
   "metadata": {},
   "outputs": [],
   "source": [
    "import matplotlib.pyplot as plt\n",
    "\n",
    "def draw_plot(x, y_list, x_label=None, y_label=None, legend=None, title=None):\n",
    "    fig, ax = plt.subplots(figsize=(12,5))\n",
    "    for xi, yi in zip(x, y_list):\n",
    "        ax.plot(xi, yi)\n",
    "    if x_label is not None and y_label is not None:\n",
    "        ax.set(xlabel=x_label, ylabel=y_label, title='{} VS {}'.format(x_label, y_label))\n",
    "    if legend is not None:\n",
    "        ax.legend(legend)\n",
    "    ax.grid()\n",
    "    plt.show()"
   ]
  },
  {
   "cell_type": "code",
   "execution_count": 10,
   "metadata": {},
   "outputs": [],
   "source": [
    "train_acc = [h['accuracy'] for h in history]\n",
    "train_mse = [h['mean_square_error'] for h in history]\n",
    "train_cce = [h['categorical_crossentropy'] for h in history]"
   ]
  },
  {
   "cell_type": "code",
   "execution_count": 11,
   "metadata": {},
   "outputs": [
    {
     "data": {
      "image/png": "[encoded data removed]",
      "text/plain": [
       "<Figure size 864x360 with 1 Axes>"
      ]
     },
     "metadata": {
      "needs_background": "light"
     },
     "output_type": "display_data"
    },
    {
     "data": {
      "image/png": "[encoded data removed]",
      "text/plain": [
       "<Figure size 864x360 with 1 Axes>"
      ]
     },
     "metadata": {
      "needs_background": "light"
     },
     "output_type": "display_data"
    }
   ],
   "source": [
    "draw_plot(x = [[i for i in range(len(history))], [(i+1)*breakpoint for i in range(len(checkpoints))]], y_list = [train_cce, [ ckp[model.loss_fn] for ckp in checkpoints ]], x_label = 'Epochs', \\\n",
    "    y_label = model.loss_fn, legend=['train', 'test'])\n",
    "acc = [ ckp['accuracy'] for ckp in checkpoints ]\n",
    "draw_plot(x = [[i for i in range(len(history))], [(i+1)*breakpoint for i in range(len(checkpoints))]], y_list = [train_acc, acc], x_label = 'Checkpoints', \\\n",
    "    y_label = 'accuracy', legend=['train', 'test'])"
   ]
  },
  {
   "cell_type": "code",
   "execution_count": 12,
   "metadata": {},
   "outputs": [
    {
     "name": "stdout",
     "output_type": "stream",
     "text": [
      "[1. 0. 0.] <-> [0.15363926 0.84427005 0.00209065]\n",
      "[1. 0. 0.] <-> [0.9964437  0.00148218 0.00207412]\n",
      "[0. 1. 0.] <-> [0.2765632  0.7207005  0.00273629]\n",
      "[1. 0. 0.] <-> [0.99680907 0.00138074 0.00181014]\n",
      "[0. 0. 1.] <-> [8.902804e-03 8.569899e-05 9.910115e-01]\n",
      "[0. 1. 0.] <-> [6.8981904e-03 9.9283653e-01 2.6525170e-04]\n",
      "[1. 0. 0.] <-> [0.995665   0.00147088 0.00286415]\n",
      "[0. 0. 1.] <-> [7.0085074e-03 6.8451169e-05 9.9292302e-01]\n",
      "[1. 0. 0.] <-> [0.9851018  0.00164297 0.01325511]\n",
      "[1. 0. 0.] <-> [0.99349433 0.00146357 0.00504206]\n",
      "[1. 0. 0.] <-> [0.9965089  0.00138988 0.00210121]\n",
      "[1. 0. 0.] <-> [0.99436533 0.00150077 0.00413387]\n",
      "[1. 0. 0.] <-> [0.9377034  0.04024944 0.02204722]\n",
      "[1. 0. 0.] <-> [0.9964425  0.00194949 0.00160796]\n",
      "[1. 0. 0.] <-> [0.9963276  0.00139005 0.00228233]\n",
      "[1. 0. 0.] <-> [0.99187803 0.0019989  0.00612307]\n",
      "[1. 0. 0.] <-> [0.9925948  0.00157226 0.00583304]\n",
      "[1. 0. 0.] <-> [0.7963882  0.19857402 0.00503769]\n",
      "[1. 0. 0.] <-> [0.9721218  0.0025373  0.02534093]\n",
      "[1. 0. 0.] <-> [0.9289679  0.00194197 0.06909011]\n",
      "[0. 1. 0.] <-> [8.2192421e-03 9.9148142e-01 2.9943828e-04]\n",
      "[0. 1. 0.] <-> [6.8977219e-03 9.9283725e-01 2.6502484e-04]\n",
      "[0. 0. 1.] <-> [7.857048e-03 8.954885e-05 9.920534e-01]\n",
      "[1. 0. 0.] <-> [0.99125904 0.006566   0.00217499]\n",
      "[1. 0. 0.] <-> [0.9959176  0.00155846 0.00252388]\n",
      "[1. 0. 0.] <-> [0.6469008  0.34807715 0.00502211]\n",
      "[1. 0. 0.] <-> [0.9898037  0.00797207 0.00222429]\n",
      "[1. 0. 0.] <-> [0.9953999  0.00297868 0.00162148]\n",
      "[1. 0. 0.] <-> [0.9958496  0.0019883  0.00216204]\n",
      "[1. 0. 0.] <-> [0.6750922  0.00331186 0.32159588]\n",
      "[1. 0. 0.] <-> [0.9954861  0.00249847 0.00201538]\n",
      "[1. 0. 0.] <-> [0.43996146 0.5553521  0.0046864 ]\n",
      "[0. 0. 1.] <-> [0.50884026 0.00160054 0.48955917]\n",
      "[1. 0. 0.] <-> [0.99517447 0.00301117 0.00181444]\n",
      "[1. 0. 0.] <-> [0.992124   0.0014955  0.00638048]\n",
      "[1. 0. 0.] <-> [0.99349654 0.00206576 0.00443769]\n",
      "[0. 0. 1.] <-> [5.0611459e-02 3.2109718e-04 9.4906747e-01]\n",
      "[1. 0. 0.] <-> [0.9953999  0.002798   0.00180216]\n",
      "[0. 0. 1.] <-> [4.7101490e-03 5.2224477e-05 9.9523759e-01]\n",
      "[1. 0. 0.] <-> [0.99681336 0.00129286 0.00189374]\n",
      "[1. 0. 0.] <-> [0.97928554 0.0162994  0.00441508]\n",
      "[1. 0. 0.] <-> [0.9944565  0.0033692  0.00217431]\n",
      "[1. 0. 0.] <-> [0.8722548  0.12338085 0.00436442]\n",
      "[1. 0. 0.] <-> [0.99658716 0.00178325 0.0016296 ]\n",
      "[1. 0. 0.] <-> [0.8897243  0.00251086 0.10776486]\n",
      "[1. 0. 0.] <-> [0.9945649  0.00320322 0.0022319 ]\n",
      "[1. 0. 0.] <-> [0.9937755  0.00163227 0.00459229]\n",
      "[0. 0. 1.] <-> [3.6062971e-02 2.1899246e-04 9.6371812e-01]\n",
      "[1. 0. 0.] <-> [0.9921165  0.00468548 0.00319795]\n",
      "[1. 0. 0.] <-> [0.99640155 0.00146974 0.00212869]\n",
      "[0. 0. 1.] <-> [1.1386944e-02 9.3260969e-05 9.8851985e-01]\n",
      "[1. 0. 0.] <-> [0.9948119  0.00332268 0.00186549]\n",
      "[1. 0. 0.] <-> [0.99686736 0.00154355 0.00158903]\n",
      "[1. 0. 0.] <-> [0.9562348  0.04027946 0.00348576]\n",
      "[1. 0. 0.] <-> [0.9962584  0.00184304 0.00189851]\n",
      "[0. 1. 0.] <-> [1.7622663e-02 9.8187470e-01 5.0257263e-04]\n",
      "[1. 0. 0.] <-> [0.99515754 0.00192437 0.00291816]\n",
      "[1. 0. 0.] <-> [0.9954423  0.00243772 0.00212   ]\n",
      "[1. 0. 0.] <-> [0.99574405 0.001846   0.00240995]\n",
      "[1. 0. 0.] <-> [0.97613156 0.00233972 0.02152869]\n",
      "[1. 0. 0.] <-> [0.99610364 0.00150482 0.00239148]\n",
      "[0. 1. 0.] <-> [2.0473214e-02 9.7899503e-01 5.3171860e-04]\n",
      "[1. 0. 0.] <-> [0.9874068  0.00163205 0.01096126]\n",
      "[1. 0. 0.] <-> [0.99604297 0.00171038 0.00224662]\n",
      "[1. 0. 0.] <-> [0.99613535 0.0018322  0.00203249]\n",
      "[0. 1. 0.] <-> [0.5073643  0.4894986  0.00313709]\n",
      "[1. 0. 0.] <-> [0.9910266  0.00150664 0.00746677]\n",
      "[0. 0. 1.] <-> [1.4378122e-03 1.5280930e-04 9.9840945e-01]\n",
      "[0. 0. 1.] <-> [0.6027578  0.0021481  0.39509407]\n",
      "[0. 1. 0.] <-> [2.5739491e-02 9.7361606e-01 6.4442336e-04]\n",
      "[1. 0. 0.] <-> [0.9547943  0.04135586 0.00384989]\n",
      "[1. 0. 0.] <-> [0.977246   0.00892816 0.01382583]\n",
      "[1. 0. 0.] <-> [0.9904901  0.00454178 0.00496811]\n",
      "[1. 0. 0.] <-> [0.9952676  0.00295995 0.00177242]\n",
      "[0. 1. 0.] <-> [6.8973484e-03 9.9283749e-01 2.6506078e-04]\n",
      "[1. 0. 0.] <-> [0.99375385 0.00436379 0.00188244]\n",
      "[1. 0. 0.] <-> [0.99629706 0.00187319 0.00182979]\n",
      "[1. 0. 0.] <-> [0.99374723 0.00397894 0.00227383]\n",
      "[1. 0. 0.] <-> [0.9818978  0.01491535 0.00318681]\n",
      "[1. 0. 0.] <-> [0.97326535 0.00270224 0.02403236]\n",
      "[1. 0. 0.] <-> [0.9225951  0.07301684 0.00438805]\n",
      "[1. 0. 0.] <-> [0.993881   0.00264758 0.00347151]\n",
      "[1. 0. 0.] <-> [0.9956756  0.00247567 0.0018486 ]\n",
      "[1. 0. 0.] <-> [0.99664104 0.00153011 0.00182883]\n",
      "[0. 0. 1.] <-> [3.028882e-03 7.786086e-05 9.968933e-01]\n",
      "[0. 0. 1.] <-> [5.0629657e-03 5.4676868e-05 9.9488235e-01]\n",
      "[0. 1. 0.] <-> [6.8977247e-03 9.9283725e-01 2.6502510e-04]\n",
      "[1. 0. 0.] <-> [0.99693453 0.00133876 0.00172674]\n",
      "[1. 0. 0.] <-> [0.9943117  0.00314921 0.00253909]\n",
      "[0. 1. 0.] <-> [6.9346353e-03 9.9279845e-01 2.6692825e-04]\n",
      "[1. 0. 0.] <-> [1.1998389e-01 7.8154844e-04 8.7923455e-01]\n",
      "[1. 0. 0.] <-> [0.9963876  0.00203378 0.00157872]\n",
      "[1. 0. 0.] <-> [0.994293   0.0025512  0.00315583]\n",
      "[1. 0. 0.] <-> [0.99474525 0.0017034  0.00355136]\n",
      "[0. 1. 0.] <-> [2.4088044e-02 9.7535747e-01 5.5445102e-04]\n",
      "[1. 0. 0.] <-> [0.9936465  0.00430085 0.00205263]\n",
      "[1. 0. 0.] <-> [0.8602671  0.00214783 0.13758504]\n",
      "[0. 1. 0.] <-> [0.07403375 0.924744   0.00122226]\n",
      "[0. 0. 1.] <-> [4.9259006e-03 5.3689295e-05 9.9502039e-01]\n",
      "[0. 1. 0.] <-> [6.8975715e-03 9.9283749e-01 2.6503653e-04]\n",
      "[1. 0. 0.] <-> [0.79463893 0.20059988 0.00476122]\n",
      "[0. 0. 1.] <-> [7.957022e-03 7.367289e-05 9.919693e-01]\n",
      "[1. 0. 0.] <-> [0.9959996  0.00221209 0.00178837]\n",
      "[0. 1. 0.] <-> [6.9272001e-03 9.9280667e-01 2.6603186e-04]\n",
      "[1. 0. 0.] <-> [0.2525566  0.7443216  0.00312179]\n",
      "[1. 0. 0.] <-> [0.9799559  0.00168381 0.0183602 ]\n",
      "[0. 1. 0.] <-> [6.8977084e-03 9.9283725e-01 2.6502585e-04]\n",
      "[1. 0. 0.] <-> [0.9164001  0.07529411 0.00830577]\n",
      "{'accuracy': 0.9567901234567902, 'mean_square_error': 0.06876278430985885, 'categorical_crossentropy': 0.10935381606773094, 'essential_metrics': {0: {'tp_hit': 74, 'fp_hit': 3, 'tn_hit': 27, 'fn_hit': 4}, 1: {'tp_hit': 15, 'fp_hit': 3, 'tn_hit': 89, 'fn_hit': 1}, 2: {'tp_hit': 12, 'fp_hit': 1, 'tn_hit': 93, 'fn_hit': 2}}}\n"
     ]
    }
   ],
   "source": [
    "# recall phase\n",
    "score = model.evaluate(x_test, y_test, False)\n",
    "print(score)"
   ]
  },
  {
   "cell_type": "code",
   "execution_count": 13,
   "metadata": {},
   "outputs": [
    {
     "name": "stdout",
     "output_type": "stream",
     "text": [
      "{'accuracy': 0.8580246913580247, 'mean_square_error': 0.4377385582132218, 'categorical_crossentropy': 0.7606872276023582, 'essential_metrics': {0: {'tp_hit': 78, 'fp_hit': 23, 'tn_hit': 7, 'fn_hit': 0}, 1: {'tp_hit': 7, 'fp_hit': 0, 'tn_hit': 92, 'fn_hit': 9}, 2: {'tp_hit': 0, 'fp_hit': 0, 'tn_hit': 94, 'fn_hit': 14}}, 'checkpoint': 10} \n",
      "\n",
      "\n",
      "{'accuracy': 0.9012345679012346, 'mean_square_error': 0.32133288747318084, 'categorical_crossentropy': 0.5528666884810837, 'essential_metrics': {0: {'tp_hit': 76, 'fp_hit': 14, 'tn_hit': 16, 'fn_hit': 2}, 1: {'tp_hit': 16, 'fp_hit': 2, 'tn_hit': 90, 'fn_hit': 0}, 2: {'tp_hit': 0, 'fp_hit': 0, 'tn_hit': 94, 'fn_hit': 14}}, 'checkpoint': 20} \n",
      "\n",
      "\n",
      "{'accuracy': 0.9012345679012346, 'mean_square_error': 0.2993506863672768, 'categorical_crossentropy': 0.5149530128196433, 'essential_metrics': {0: {'tp_hit': 77, 'fp_hit': 15, 'tn_hit': 15, 'fn_hit': 1}, 1: {'tp_hit': 15, 'fp_hit': 1, 'tn_hit': 91, 'fn_hit': 1}, 2: {'tp_hit': 0, 'fp_hit': 0, 'tn_hit': 94, 'fn_hit': 14}}, 'checkpoint': 30} \n",
      "\n",
      "\n",
      "{'accuracy': 0.9012345679012346, 'mean_square_error': 0.26626466130305765, 'categorical_crossentropy': 0.4648676978217231, 'essential_metrics': {0: {'tp_hit': 77, 'fp_hit': 15, 'tn_hit': 15, 'fn_hit': 1}, 1: {'tp_hit': 15, 'fp_hit': 1, 'tn_hit': 91, 'fn_hit': 1}, 2: {'tp_hit': 0, 'fp_hit': 0, 'tn_hit': 94, 'fn_hit': 14}}, 'checkpoint': 40} \n",
      "\n",
      "\n",
      "{'accuracy': 0.8703703703703703, 'mean_square_error': 0.26918841999019577, 'categorical_crossentropy': 0.4558299735740379, 'essential_metrics': {0: {'tp_hit': 78, 'fp_hit': 21, 'tn_hit': 9, 'fn_hit': 0}, 1: {'tp_hit': 9, 'fp_hit': 0, 'tn_hit': 92, 'fn_hit': 7}, 2: {'tp_hit': 0, 'fp_hit': 0, 'tn_hit': 94, 'fn_hit': 14}}, 'checkpoint': 50} \n",
      "\n",
      "\n",
      "{'accuracy': 0.8641975308641975, 'mean_square_error': 0.23307040260034884, 'categorical_crossentropy': 0.4033314033790871, 'essential_metrics': {0: {'tp_hit': 78, 'fp_hit': 22, 'tn_hit': 8, 'fn_hit': 0}, 1: {'tp_hit': 8, 'fp_hit': 0, 'tn_hit': 92, 'fn_hit': 8}, 2: {'tp_hit': 0, 'fp_hit': 0, 'tn_hit': 94, 'fn_hit': 14}}, 'checkpoint': 60} \n",
      "\n",
      "\n",
      "{'accuracy': 0.8765432098765432, 'mean_square_error': 0.2022981952913216, 'categorical_crossentropy': 0.34857364937111185, 'essential_metrics': {0: {'tp_hit': 78, 'fp_hit': 20, 'tn_hit': 10, 'fn_hit': 0}, 1: {'tp_hit': 10, 'fp_hit': 0, 'tn_hit': 92, 'fn_hit': 6}, 2: {'tp_hit': 0, 'fp_hit': 0, 'tn_hit': 94, 'fn_hit': 14}}, 'checkpoint': 70} \n",
      "\n",
      "\n",
      "{'accuracy': 0.9506172839506173, 'mean_square_error': 0.14837786886442322, 'categorical_crossentropy': 0.2896286999737775, 'essential_metrics': {0: {'tp_hit': 78, 'fp_hit': 8, 'tn_hit': 22, 'fn_hit': 0}, 1: {'tp_hit': 14, 'fp_hit': 0, 'tn_hit': 92, 'fn_hit': 2}, 2: {'tp_hit': 8, 'fp_hit': 0, 'tn_hit': 94, 'fn_hit': 6}}, 'checkpoint': 80} \n",
      "\n",
      "\n",
      "{'accuracy': 0.9506172839506173, 'mean_square_error': 0.13399109033502665, 'categorical_crossentropy': 0.2644475654319481, 'essential_metrics': {0: {'tp_hit': 77, 'fp_hit': 7, 'tn_hit': 23, 'fn_hit': 1}, 1: {'tp_hit': 14, 'fp_hit': 1, 'tn_hit': 91, 'fn_hit': 2}, 2: {'tp_hit': 9, 'fp_hit': 0, 'tn_hit': 94, 'fn_hit': 5}}, 'checkpoint': 90} \n",
      "\n",
      "\n",
      "{'accuracy': 0.9567901234567902, 'mean_square_error': 0.13240874386351165, 'categorical_crossentropy': 0.2566169986018428, 'essential_metrics': {0: {'tp_hit': 75, 'fp_hit': 4, 'tn_hit': 26, 'fn_hit': 3}, 1: {'tp_hit': 16, 'fp_hit': 3, 'tn_hit': 89, 'fn_hit': 0}, 2: {'tp_hit': 10, 'fp_hit': 0, 'tn_hit': 94, 'fn_hit': 4}}, 'checkpoint': 100} \n",
      "\n",
      "\n",
      "{'accuracy': 0.9506172839506173, 'mean_square_error': 0.12579160807231263, 'categorical_crossentropy': 0.22986320213035302, 'essential_metrics': {0: {'tp_hit': 77, 'fp_hit': 7, 'tn_hit': 23, 'fn_hit': 1}, 1: {'tp_hit': 14, 'fp_hit': 1, 'tn_hit': 91, 'fn_hit': 2}, 2: {'tp_hit': 9, 'fp_hit': 0, 'tn_hit': 94, 'fn_hit': 5}}, 'checkpoint': 110} \n",
      "\n",
      "\n",
      "{'accuracy': 0.9691358024691358, 'mean_square_error': 0.0900090198186971, 'categorical_crossentropy': 0.17442586686876085, 'essential_metrics': {0: {'tp_hit': 76, 'fp_hit': 3, 'tn_hit': 27, 'fn_hit': 2}, 1: {'tp_hit': 16, 'fp_hit': 1, 'tn_hit': 91, 'fn_hit': 0}, 2: {'tp_hit': 11, 'fp_hit': 1, 'tn_hit': 93, 'fn_hit': 3}}, 'checkpoint': 120} \n",
      "\n",
      "\n",
      "{'accuracy': 0.9629629629629629, 'mean_square_error': 0.09338877473101681, 'categorical_crossentropy': 0.17205365498860678, 'essential_metrics': {0: {'tp_hit': 75, 'fp_hit': 3, 'tn_hit': 27, 'fn_hit': 3}, 1: {'tp_hit': 16, 'fp_hit': 2, 'tn_hit': 90, 'fn_hit': 0}, 2: {'tp_hit': 11, 'fp_hit': 1, 'tn_hit': 93, 'fn_hit': 3}}, 'checkpoint': 130} \n",
      "\n",
      "\n",
      "{'accuracy': 0.9629629629629629, 'mean_square_error': 0.08555610415715531, 'categorical_crossentropy': 0.1521813957779496, 'essential_metrics': {0: {'tp_hit': 74, 'fp_hit': 2, 'tn_hit': 28, 'fn_hit': 4}, 1: {'tp_hit': 16, 'fp_hit': 3, 'tn_hit': 89, 'fn_hit': 0}, 2: {'tp_hit': 12, 'fp_hit': 1, 'tn_hit': 93, 'fn_hit': 2}}, 'checkpoint': 140} \n",
      "\n",
      "\n",
      "{'accuracy': 0.9691358024691358, 'mean_square_error': 0.07956422507784512, 'categorical_crossentropy': 0.1438490902936017, 'essential_metrics': {0: {'tp_hit': 75, 'fp_hit': 2, 'tn_hit': 28, 'fn_hit': 3}, 1: {'tp_hit': 16, 'fp_hit': 2, 'tn_hit': 90, 'fn_hit': 0}, 2: {'tp_hit': 12, 'fp_hit': 1, 'tn_hit': 93, 'fn_hit': 2}}, 'checkpoint': 150} \n",
      "\n",
      "\n",
      "{'accuracy': 0.9691358024691358, 'mean_square_error': 0.07850925315812554, 'categorical_crossentropy': 0.13653864683928313, 'essential_metrics': {0: {'tp_hit': 75, 'fp_hit': 2, 'tn_hit': 28, 'fn_hit': 3}, 1: {'tp_hit': 16, 'fp_hit': 2, 'tn_hit': 90, 'fn_hit': 0}, 2: {'tp_hit': 12, 'fp_hit': 1, 'tn_hit': 93, 'fn_hit': 2}}, 'checkpoint': 160} \n",
      "\n",
      "\n",
      "{'accuracy': 0.9629629629629629, 'mean_square_error': 0.08064708964519031, 'categorical_crossentropy': 0.13519594404432508, 'essential_metrics': {0: {'tp_hit': 74, 'fp_hit': 2, 'tn_hit': 28, 'fn_hit': 4}, 1: {'tp_hit': 16, 'fp_hit': 3, 'tn_hit': 89, 'fn_hit': 0}, 2: {'tp_hit': 12, 'fp_hit': 1, 'tn_hit': 93, 'fn_hit': 2}}, 'checkpoint': 170} \n",
      "\n",
      "\n",
      "{'accuracy': 0.9629629629629629, 'mean_square_error': 0.07165109078295918, 'categorical_crossentropy': 0.12120147987648293, 'essential_metrics': {0: {'tp_hit': 74, 'fp_hit': 2, 'tn_hit': 28, 'fn_hit': 4}, 1: {'tp_hit': 16, 'fp_hit': 3, 'tn_hit': 89, 'fn_hit': 0}, 2: {'tp_hit': 12, 'fp_hit': 1, 'tn_hit': 93, 'fn_hit': 2}}, 'checkpoint': 180} \n",
      "\n",
      "\n",
      "{'accuracy': 0.9629629629629629, 'mean_square_error': 0.0670022422543312, 'categorical_crossentropy': 0.10990289405540184, 'essential_metrics': {0: {'tp_hit': 74, 'fp_hit': 2, 'tn_hit': 28, 'fn_hit': 4}, 1: {'tp_hit': 16, 'fp_hit': 3, 'tn_hit': 89, 'fn_hit': 0}, 2: {'tp_hit': 12, 'fp_hit': 1, 'tn_hit': 93, 'fn_hit': 2}}, 'checkpoint': 190} \n",
      "\n",
      "\n",
      "{'accuracy': 0.9567901234567902, 'mean_square_error': 0.06876278430985885, 'categorical_crossentropy': 0.10935381606773094, 'essential_metrics': {0: {'tp_hit': 74, 'fp_hit': 3, 'tn_hit': 27, 'fn_hit': 4}, 1: {'tp_hit': 15, 'fp_hit': 3, 'tn_hit': 89, 'fn_hit': 1}, 2: {'tp_hit': 12, 'fp_hit': 1, 'tn_hit': 93, 'fn_hit': 2}}, 'checkpoint': 200} \n",
      "\n",
      "\n"
     ]
    }
   ],
   "source": [
    "for checkpoint in checkpoints:\n",
    "    print(checkpoint, '\\n\\n')"
   ]
  },
  {
   "cell_type": "code",
   "execution_count": 14,
   "metadata": {},
   "outputs": [
    {
     "name": "stdout",
     "output_type": "stream",
     "text": [
      "Layer 1\n",
      "Neuron 0: weights:\n",
      "[-2.2135375  2.8847055  2.8872764  0.7455535  1.1185021]\n",
      " bias: -1.6033450365066528\n",
      "\n",
      "Neuron 1: weights:\n",
      "[ 0.05817219  3.          0.07781301 -0.7806098  -3.        ]\n",
      " bias: 3.0\n",
      "\n",
      "Neuron 2: weights:\n",
      "[ 0.0704587 -3.        -0.8494468  1.7062539  3.       ]\n",
      " bias: -2.522832155227661\n",
      "\n",
      "Neuron 3: weights:\n",
      "[ 1.9909343  -3.         -3.          1.7923946   0.16561748]\n",
      " bias: 2.670182228088379\n",
      "\n",
      "$\n",
      "Layer 2\n",
      "Neuron 0: weights:\n",
      "[-2.6955411  3.        -3.         3.       ]\n",
      " bias: -0.4436247646808624\n",
      "\n",
      "Neuron 1: weights:\n",
      "[ 3.          0.77764606 -3.         -3.        ]\n",
      " bias: 1.0525624752044678\n",
      "\n",
      "Neuron 2: weights:\n",
      "[ 0.303882 -3.        3.        2.611193]\n",
      " bias: -0.7021740674972534\n",
      "\n",
      "$\n",
      "\n"
     ]
    }
   ],
   "source": [
    "print(model)"
   ]
  },
  {
   "cell_type": "code",
   "execution_count": null,
   "metadata": {},
   "outputs": [],
   "source": []
  }
 ],
 "metadata": {
  "kernelspec": {
   "display_name": "Python 3",
   "language": "python",
   "name": "python3"
  },
  "language_info": {
   "codemirror_mode": {
    "name": "ipython",
    "version": 3
   },
   "file_extension": ".py",
   "mimetype": "text/x-python",
   "name": "python",
   "nbconvert_exporter": "python",
   "pygments_lexer": "ipython3",
   "version": "3.6.12"
  }
 },
 "nbformat": 4,
 "nbformat_minor": 2
}
