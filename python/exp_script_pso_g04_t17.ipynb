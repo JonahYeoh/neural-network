{
 "cells": [
  {
   "cell_type": "code",
   "execution_count": 1,
   "metadata": {},
   "outputs": [],
   "source": [
    "# dependency\n",
    "import numpy as np\n",
    "import pandas as pd\n",
    "import copy\n",
    "import math\n",
    "import sys\n",
    "import os\n",
    "from activations import relu, leaky_relu, sigmoid, tanh, softmax, d_sigmoid, d_relu\n",
    "from initializers import glorot_uniform, random_normal, random_uniform\n",
    "from regularizers import l1_regularizer, l2_regularizer\n",
    "from utility import trim_tail, multiply, subtract, get_nparams, one_hot_encoding, get_data\n",
    "from metrics import MSE, CCE, ACC, PRECISION, RECALL, essential_metrics, wondering_penalty, close_gap_penalty\n",
    "from pso import PSO\n",
    "from ga import GA\n",
    "from nn import Network\n",
    "from layer import DenseLayer\n",
    "from scalers import MinMaxScaler, StandardScaler"
   ]
  },
  {
   "cell_type": "code",
   "execution_count": 2,
   "metadata": {},
   "outputs": [],
   "source": [
    "# reference\n",
    "metrics_fn_dict = dict()\n",
    "metrics_fn_dict['accuracy'] = ACC\n",
    "metrics_fn_dict['categorical_crossentropy'] = CCE\n",
    "metrics_fn_dict['mean_square_error'] = MSE\n",
    "metrics_fn_dict['precision'] = PRECISION\n",
    "metrics_fn_dict['recall'] = RECALL\n",
    "metrics_fn_dict['essential_metrics'] = essential_metrics"
   ]
  },
  {
   "cell_type": "code",
   "execution_count": 3,
   "metadata": {},
   "outputs": [],
   "source": [
    "# model\n",
    "model = Network(5, lr = None)\n",
    "model.add_layer(DenseLayer(1, 4, True, afn=sigmoid, dafn=None, rfn=None))\n",
    "model.add_layer(DenseLayer(2, 3, True, afn=softmax, dafn=None, rfn=None))"
   ]
  },
  {
   "cell_type": "code",
   "execution_count": 4,
   "metadata": {},
   "outputs": [
    {
     "name": "stdout",
     "output_type": "stream",
     "text": [
      "see one see two 2 2\n"
     ]
    }
   ],
   "source": [
    "pso = PSO(dict(m = 200,\n",
    "    weight_constraint = [-3, 3], \n",
    "    velocity_constraint = [-0.1, 0.1],\n",
    "    c1 = 2,\n",
    "    c2 = 2,\n",
    "    w = 1.2,\n",
    "    w_decay = 1,\n",
    "    scale_hyperparameter = False,\n",
    "    regularizer = None,\n",
    "    mask = True))"
   ]
  },
  {
   "cell_type": "code",
   "execution_count": 5,
   "metadata": {},
   "outputs": [
    {
     "name": "stdout",
     "output_type": "stream",
     "text": [
      "building layer 1 with 5\n",
      "24\n",
      "building layer 2 with 4\n",
      "15\n"
     ]
    }
   ],
   "source": [
    "model.compile(loss_fn = 'categorical_crossentropy', optimizer = pso, \\\n",
    "    metrics = ['accuracy', 'mean_square_error', 'categorical_crossentropy'])"
   ]
  },
  {
   "cell_type": "code",
   "execution_count": 6,
   "metadata": {},
   "outputs": [
    {
     "name": "stdout",
     "output_type": "stream",
     "text": [
      "<class 'pandas.core.frame.DataFrame'>\n",
      "RangeIndex: 107 entries, 0 to 106\n",
      "Data columns (total 6 columns):\n",
      " #   Column  Non-Null Count  Dtype  \n",
      "---  ------  --------------  -----  \n",
      " 0   f1      107 non-null    float32\n",
      " 1   f2      107 non-null    float32\n",
      " 2   f3      107 non-null    float32\n",
      " 3   f4      107 non-null    float32\n",
      " 4   f5      107 non-null    float32\n",
      " 5   label   107 non-null    float32\n",
      "dtypes: float32(6)\n",
      "memory usage: 2.6 KB\n",
      "None\n",
      "<class 'pandas.core.frame.DataFrame'>\n",
      "RangeIndex: 108 entries, 0 to 107\n",
      "Data columns (total 6 columns):\n",
      " #   Column  Non-Null Count  Dtype  \n",
      "---  ------  --------------  -----  \n",
      " 0   f1      108 non-null    float32\n",
      " 1   f2      108 non-null    float32\n",
      " 2   f3      108 non-null    float32\n",
      " 3   f4      108 non-null    float32\n",
      " 4   f5      108 non-null    float32\n",
      " 5   label   108 non-null    float32\n",
      "dtypes: float32(6)\n",
      "memory usage: 2.7 KB\n",
      "None\n"
     ]
    }
   ],
   "source": [
    "# data loading\n",
    "DATA = os.path.join('c:\\\\Users\\\\tcumi\\\\github_repo\\\\neural-network\\\\', 'dataset')\n",
    "GROUP = 4\n",
    "COLUMNS = ['f1', 'f2', 'f3', 'f4', 'f5', 'label']\n",
    "N_CLASS = 3\n",
    "EPOCHS = 500\n",
    "train_dir, test_dir = \"..//dataset//training_data{}.txt\".format(GROUP), \"..//dataset//testing_data{}.txt\".format(GROUP)\n",
    "train, test = get_data(DATA, train_dir, COLUMNS), get_data(DATA, test_dir, COLUMNS)\n",
    "# shuffle\n",
    "train, test = train.sample(frac=1), test.sample(frac=1)\n",
    "x_train, y_train = train.drop('label', axis=1), train['label']\n",
    "x_test, y_test = test.drop('label', axis=1), test['label']"
   ]
  },
  {
   "cell_type": "code",
   "execution_count": 7,
   "metadata": {},
   "outputs": [],
   "source": [
    "# data scaling and encoding\n",
    "scaler = StandardScaler(['f1', 'f2', 'f3', 'f4', 'f5'])\n",
    "scaler.fit(x_train)\n",
    "x_train = scaler.transform(x_train)\n",
    "x_test = scaler.transform(x_test)\n",
    "y_train = one_hot_encoding(y_train, N_CLASS)\n",
    "y_test = one_hot_encoding(y_test, N_CLASS)"
   ]
  },
  {
   "cell_type": "code",
   "execution_count": 8,
   "metadata": {
    "tags": [
     "outputPrepend"
    ]
   },
   "outputs": [
    {
     "name": "stdout",
     "output_type": "stream",
     "text": [
      "Checkpoint 100, Accuracy: 0.9382716049382716, Loss: 0.2356395368222837\n",
      "Checkpoint 200, Accuracy: 0.9629629629629629, Loss: 0.11333205964830187\n",
      "Checkpoint 300, Accuracy: 0.9691358024691358, Loss: 0.10469728929025156\n",
      "Checkpoint 400, Accuracy: 0.9691358024691358, Loss: 0.1050239050829852\n",
      "Checkpoint 500, Accuracy: 0.9691358024691358, Loss: 0.1079433317537661\n"
     ]
    }
   ],
   "source": [
    "# learning phase\n",
    "breakpoint = 100\n",
    "checkpoints = list()\n",
    "history = list()\n",
    "for century in range(0, EPOCHS, breakpoint):\n",
    "    sub_history = model.fit(x_train, y_train, breakpoint, verbose = 0)\n",
    "    score = model.evaluate(x_test, y_test, False, verbose = 0)\n",
    "    print('Checkpoint {}, Accuracy: {}, Loss: {}'.format(century+breakpoint, score['accuracy'], score[model.loss_fn]))\n",
    "    score['checkpoint'] = century + breakpoint\n",
    "    checkpoints.append(score)\n",
    "    history.extend(sub_history)"
   ]
  },
  {
   "cell_type": "code",
   "execution_count": 9,
   "metadata": {},
   "outputs": [],
   "source": [
    "import matplotlib.pyplot as plt\n",
    "\n",
    "def draw_plot(x, y_list, x_label=None, y_label=None, legend=None, title=None):\n",
    "    fig, ax = plt.subplots(figsize=(12,5))\n",
    "    for xi, yi in zip(x, y_list):\n",
    "        ax.plot(xi, yi)\n",
    "    if x_label is not None and y_label is not None:\n",
    "        ax.set(xlabel=x_label, ylabel=y_label, title='{} VS {}'.format(x_label, y_label))\n",
    "    if legend is not None:\n",
    "        ax.legend(legend)\n",
    "    ax.grid()\n",
    "    plt.show()"
   ]
  },
  {
   "cell_type": "code",
   "execution_count": 10,
   "metadata": {},
   "outputs": [
    {
     "name": "stdout",
     "output_type": "stream",
     "text": [
      "[0. 0. 1.] <-> [6.8705971e-03 8.1109965e-06 9.9312133e-01]\n",
      "[1. 0. 0.] <-> [0.98426706 0.00116834 0.01456463]\n",
      "[1. 0. 0.] <-> [0.8504222  0.00101535 0.1485624 ]\n",
      "[1. 0. 0.] <-> [0.99660766 0.00143307 0.00195939]\n",
      "[0. 0. 1.] <-> [9.5460545e-03 1.1269534e-05 9.9044269e-01]\n",
      "[1. 0. 0.] <-> [0.9926979  0.00281151 0.00449064]\n",
      "[0. 1. 0.] <-> [5.1788557e-03 9.9478227e-01 3.8854825e-05]\n",
      "[1. 0. 0.] <-> [0.99620795 0.00213884 0.0016532 ]\n",
      "[0. 1. 0.] <-> [1.8689194e-01 8.1243539e-01 6.7271310e-04]\n",
      "[0. 1. 0.] <-> [5.1774438e-03 9.9478382e-01 3.8771195e-05]\n",
      "[1. 0. 0.] <-> [0.99692315 0.00172285 0.00135398]\n",
      "[1. 0. 0.] <-> [0.7723504  0.22579357 0.00185607]\n",
      "[1. 0. 0.] <-> [0.7010666  0.29685745 0.0020759 ]\n",
      "[0. 1. 0.] <-> [1.1689453e-02 9.8823637e-01 7.4184012e-05]\n",
      "[1. 0. 0.] <-> [0.5826707  0.4155025  0.00182685]\n",
      "[1. 0. 0.] <-> [0.9170383  0.08126448 0.00169722]\n",
      "[1. 0. 0.] <-> [0.9960717  0.00164616 0.00228222]\n",
      "[0. 0. 1.] <-> [7.103932e-03 8.386470e-06 9.928877e-01]\n",
      "[1. 0. 0.] <-> [0.9962161  0.00268803 0.00109589]\n",
      "[1. 0. 0.] <-> [0.99626946 0.00260316 0.00112737]\n",
      "[1. 0. 0.] <-> [8.4213831e-02 9.1539943e-01 3.8669916e-04]\n",
      "[0. 0. 1.] <-> [1.1891747e-02 1.4055727e-05 9.8809415e-01]\n",
      "[1. 0. 0.] <-> [0.99660057 0.00216308 0.0012364 ]\n",
      "[1. 0. 0.] <-> [0.993933   0.00123922 0.00482774]\n",
      "[0. 0. 1.] <-> [1.1035807e-02 1.3157660e-05 9.8895103e-01]\n",
      "[1. 0. 0.] <-> [0.99581426 0.00262595 0.0015597 ]\n",
      "[0. 1. 0.] <-> [1.3441104e-02 9.8647577e-01 8.3176754e-05]\n",
      "[1. 0. 0.] <-> [0.9838059  0.0057478  0.01044622]\n",
      "[1. 0. 0.] <-> [0.99258465 0.00135898 0.00605641]\n",
      "[1. 0. 0.] <-> [0.9955923  0.00125148 0.00315615]\n",
      "[0. 0. 1.] <-> [5.387634e-02 6.374385e-05 9.460599e-01]\n",
      "[1. 0. 0.] <-> [0.98913294 0.00218399 0.00868307]\n",
      "[0. 0. 1.] <-> [1.4111473e-02 1.6659194e-05 9.8587185e-01]\n",
      "[0. 1. 0.] <-> [5.1774415e-03 9.9478382e-01 3.8764760e-05]\n",
      "[0. 1. 0.] <-> [1.3742259e-01 8.6203933e-01 5.3811370e-04]\n",
      "[0. 1. 0.] <-> [5.206441e-03 9.947543e-01 3.928066e-05]\n",
      "[0. 0. 1.] <-> [1.0351458e-02 1.2220370e-05 9.8963636e-01]\n",
      "[0. 1. 0.] <-> [1.1733548e-02 9.8819065e-01 7.5884127e-05]\n",
      "[0. 0. 1.] <-> [6.8698586e-03 8.1107401e-06 9.9312204e-01]\n",
      "[1. 0. 0.] <-> [0.99723107 0.0016492  0.00111978]\n",
      "[1. 0. 0.] <-> [0.994279   0.00125523 0.00446574]\n",
      "[1. 0. 0.] <-> [0.99735934 0.00132886 0.00131173]\n",
      "[0. 0. 1.] <-> [6.868834e-03 8.108923e-06 9.931231e-01]\n",
      "[1. 0. 0.] <-> [0.9937552  0.00502063 0.0012241 ]\n",
      "[1. 0. 0.] <-> [0.9762457  0.0012363  0.02251799]\n",
      "[1. 0. 0.] <-> [0.99741757 0.00119891 0.00138354]\n",
      "[1. 0. 0.] <-> [0.9955837  0.0033423  0.00107394]\n",
      "[1. 0. 0.] <-> [0.9969591  0.00191884 0.00112211]\n",
      "[1. 0. 0.] <-> [0.9938736  0.00119458 0.00493186]\n",
      "[1. 0. 0.] <-> [0.99730325 0.00123031 0.00146652]\n",
      "[1. 0. 0.] <-> [0.9958727  0.00297677 0.00115065]\n",
      "[0. 1. 0.] <-> [5.177444e-03 9.947838e-01 3.876476e-05]\n",
      "[1. 0. 0.] <-> [0.99480575 0.00119811 0.00399615]\n",
      "[1. 0. 0.] <-> [0.9975043  0.00142819 0.00106759]\n",
      "[1. 0. 0.] <-> [1.0243155e-01 1.2263446e-04 8.9744580e-01]\n",
      "[1. 0. 0.] <-> [0.99614596 0.00272807 0.00112596]\n",
      "[1. 0. 0.] <-> [0.99689084 0.00132811 0.00178107]\n",
      "[1. 0. 0.] <-> [0.8257364  0.00100501 0.1732586 ]\n",
      "[1. 0. 0.] <-> [0.30818346 0.69079244 0.00102417]\n",
      "[1. 0. 0.] <-> [0.99689937 0.00162771 0.0014729 ]\n",
      "[0. 0. 1.] <-> [7.2118770e-03 8.5139791e-06 9.9277955e-01]\n",
      "[1. 0. 0.] <-> [0.9971462  0.00128938 0.00156449]\n",
      "[1. 0. 0.] <-> [0.9895639  0.00119966 0.00923645]\n",
      "[1. 0. 0.] <-> [0.99670947 0.00159837 0.00169224]\n",
      "[1. 0. 0.] <-> [0.99579775 0.00132571 0.00287652]\n",
      "[1. 0. 0.] <-> [0.9975178  0.00125291 0.00122935]\n",
      "[0. 1. 0.] <-> [3.7153296e-02 9.6265650e-01 1.9011907e-04]\n",
      "[0. 1. 0.] <-> [5.1774415e-03 9.9478382e-01 3.8765353e-05]\n",
      "[1. 0. 0.] <-> [0.99703526 0.00137541 0.00158935]\n",
      "[1. 0. 0.] <-> [0.99599695 0.0025968  0.00140624]\n",
      "[1. 0. 0.] <-> [0.9970163  0.00189252 0.00109125]\n",
      "[0. 0. 1.] <-> [0.5724783  0.000677   0.42684472]\n",
      "[1. 0. 0.] <-> [0.5331884  0.00070108 0.4661105 ]\n",
      "[0. 0. 1.] <-> [4.9037665e-02 5.7891448e-05 9.5090443e-01]\n",
      "[0. 1. 0.] <-> [5.1774639e-03 9.9478382e-01 3.8782957e-05]\n",
      "[1. 0. 0.] <-> [0.99558735 0.00251983 0.00189274]\n",
      "[1. 0. 0.] <-> [0.99419135 0.00435368 0.00145492]\n",
      "[0. 1. 0.] <-> [1.6040342e-02 9.8385924e-01 1.0044741e-04]\n",
      "[1. 0. 0.] <-> [0.99703836 0.00127515 0.00168652]\n",
      "[1. 0. 0.] <-> [0.9945754  0.00158666 0.00383799]\n",
      "[1. 0. 0.] <-> [0.9765772  0.02185494 0.00156783]\n",
      "[1. 0. 0.] <-> [0.9916425  0.00631985 0.00203766]\n",
      "[1. 0. 0.] <-> [0.98789203 0.0089959  0.00311213]\n",
      "[1. 0. 0.] <-> [0.9970202  0.00175827 0.00122145]\n",
      "[1. 0. 0.] <-> [0.9865914  0.01199703 0.00141161]\n",
      "[1. 0. 0.] <-> [0.99055463 0.00785025 0.00159508]\n",
      "[0. 1. 0.] <-> [5.9751803e-03 9.9398053e-01 4.4313954e-05]\n",
      "[1. 0. 0.] <-> [0.99710816 0.00135544 0.00153646]\n",
      "[1. 0. 0.] <-> [0.95006293 0.00114231 0.04879482]\n",
      "[1. 0. 0.] <-> [0.51205766 0.4861913  0.00175099]\n",
      "[1. 0. 0.] <-> [0.99718225 0.00180089 0.00101684]\n",
      "[1. 0. 0.] <-> [0.99659425 0.00182256 0.00158312]\n",
      "[0. 0. 1.] <-> [0.5280725  0.00064148 0.47128606]\n",
      "[1. 0. 0.] <-> [0.99543506 0.00175239 0.00281251]\n",
      "[1. 0. 0.] <-> [0.9971909  0.00145741 0.00135177]\n",
      "[1. 0. 0.] <-> [0.9687639  0.00126461 0.02997149]\n",
      "[1. 0. 0.] <-> [0.995576   0.00292194 0.00150209]\n",
      "[1. 0. 0.] <-> [0.9637472  0.00136524 0.0348876 ]\n",
      "[1. 0. 0.] <-> [0.9885344  0.00118365 0.01028203]\n",
      "[1. 0. 0.] <-> [0.9967955  0.00193596 0.00126856]\n",
      "[1. 0. 0.] <-> [0.99301964 0.00118125 0.00579903]\n",
      "[1. 0. 0.] <-> [0.99636334 0.00143881 0.00219779]\n",
      "[1. 0. 0.] <-> [0.9965759  0.00229508 0.00112894]\n",
      "[1. 0. 0.] <-> [0.99482346 0.00399245 0.00118409]\n",
      "[1. 0. 0.] <-> [0.98249716 0.01594896 0.00155382]\n",
      "[1. 0. 0.] <-> [0.996564   0.00130678 0.0021293 ]\n",
      "[0. 1. 0.] <-> [5.1971674e-03 9.9476385e-01 3.8969851e-05]\n",
      "[1. 0. 0.] <-> [0.96062326 0.03769795 0.00167884]\n",
      "{'accuracy': 0.9691358024691358, 'mean_square_error': 0.06719483621842676, 'categorical_crossentropy': 0.1079433317537661, 'essential_metrics': {0: {'tp_hit': 75, 'fp_hit': 2, 'tn_hit': 28, 'fn_hit': 3}, 1: {'tp_hit': 16, 'fp_hit': 2, 'tn_hit': 90, 'fn_hit': 0}, 2: {'tp_hit': 12, 'fp_hit': 1, 'tn_hit': 93, 'fn_hit': 2}}}\n"
     ]
    }
   ],
   "source": [
    "# recall phase\n",
    "score = model.evaluate(x_test, y_test, False)\n",
    "print(score)"
   ]
  },
  {
   "cell_type": "code",
   "execution_count": 11,
   "metadata": {},
   "outputs": [
    {
     "data": {
      "image/png": "[encoded data removed]",
      "text/plain": [
       "<Figure size 864x360 with 1 Axes>"
      ]
     },
     "metadata": {
      "needs_background": "light"
     },
     "output_type": "display_data"
    },
    {
     "data": {
      "image/png": "[encoded data removed]",
      "text/plain": [
       "<Figure size 864x360 with 1 Axes>"
      ]
     },
     "metadata": {
      "needs_background": "light"
     },
     "output_type": "display_data"
    }
   ],
   "source": [
    "draw_plot(x = [[i for i in range(len(history))], [(i+1)*breakpoint for i in range(len(checkpoints))]], y_list = [history, [ ckp[model.loss_fn] for ckp in checkpoints ]], x_label = 'Epochs', \\\n",
    "    y_label = model.loss_fn, legend=['train', 'test'])\n",
    "acc = [ ckp['accuracy'] for ckp in checkpoints ]\n",
    "draw_plot(x = [[(i+1)*breakpoint for i in range(len(checkpoints))]], y_list = [acc], x_label = 'Checkpoints', \\\n",
    "    y_label = 'accuracy')"
   ]
  },
  {
   "cell_type": "code",
   "execution_count": 12,
   "metadata": {},
   "outputs": [
    {
     "name": "stdout",
     "output_type": "stream",
     "text": [
      "{'accuracy': 0.9382716049382716, 'mean_square_error': 0.13183419400501578, 'categorical_crossentropy': 0.2356395368222837, 'essential_metrics': {0: {'tp_hit': 75, 'fp_hit': 7, 'tn_hit': 23, 'fn_hit': 3}, 1: {'tp_hit': 15, 'fp_hit': 2, 'tn_hit': 90, 'fn_hit': 1}, 2: {'tp_hit': 8, 'fp_hit': 1, 'tn_hit': 93, 'fn_hit': 6}}, 'checkpoint': 100} \n",
      "\n",
      "\n",
      "{'accuracy': 0.9629629629629629, 'mean_square_error': 0.07152586558240089, 'categorical_crossentropy': 0.11333205964830187, 'essential_metrics': {0: {'tp_hit': 75, 'fp_hit': 3, 'tn_hit': 27, 'fn_hit': 3}, 1: {'tp_hit': 15, 'fp_hit': 2, 'tn_hit': 90, 'fn_hit': 1}, 2: {'tp_hit': 12, 'fp_hit': 1, 'tn_hit': 93, 'fn_hit': 2}}, 'checkpoint': 200} \n",
      "\n",
      "\n",
      "{'accuracy': 0.9691358024691358, 'mean_square_error': 0.06628179030204347, 'categorical_crossentropy': 0.10469728929025156, 'essential_metrics': {0: {'tp_hit': 75, 'fp_hit': 2, 'tn_hit': 28, 'fn_hit': 3}, 1: {'tp_hit': 16, 'fp_hit': 2, 'tn_hit': 90, 'fn_hit': 0}, 2: {'tp_hit': 12, 'fp_hit': 1, 'tn_hit': 93, 'fn_hit': 2}}, 'checkpoint': 300} \n",
      "\n",
      "\n",
      "{'accuracy': 0.9691358024691358, 'mean_square_error': 0.06476517000065778, 'categorical_crossentropy': 0.1050239050829852, 'essential_metrics': {0: {'tp_hit': 75, 'fp_hit': 2, 'tn_hit': 28, 'fn_hit': 3}, 1: {'tp_hit': 16, 'fp_hit': 2, 'tn_hit': 90, 'fn_hit': 0}, 2: {'tp_hit': 12, 'fp_hit': 1, 'tn_hit': 93, 'fn_hit': 2}}, 'checkpoint': 400} \n",
      "\n",
      "\n",
      "{'accuracy': 0.9691358024691358, 'mean_square_error': 0.06719483621842676, 'categorical_crossentropy': 0.1079433317537661, 'essential_metrics': {0: {'tp_hit': 75, 'fp_hit': 2, 'tn_hit': 28, 'fn_hit': 3}, 1: {'tp_hit': 16, 'fp_hit': 2, 'tn_hit': 90, 'fn_hit': 0}, 2: {'tp_hit': 12, 'fp_hit': 1, 'tn_hit': 93, 'fn_hit': 2}}, 'checkpoint': 500} \n",
      "\n",
      "\n"
     ]
    }
   ],
   "source": [
    "for checkpoint in checkpoints:\n",
    "    print(checkpoint, '\\n\\n')"
   ]
  },
  {
   "cell_type": "code",
   "execution_count": 13,
   "metadata": {},
   "outputs": [
    {
     "name": "stdout",
     "output_type": "stream",
     "text": [
      "Layer 1\n",
      "Neuron 0: weights:\n",
      "[ 0.02295901  3.          0.11697745 -1.0393264  -3.        ]\n",
      " bias: 2.457831382751465\n",
      "\n",
      "Neuron 1: weights:\n",
      "[ 0.08573677  3.          0.11958735 -1.0680571  -3.        ]\n",
      " bias: 2.4609014987945557\n",
      "\n",
      "Neuron 2: weights:\n",
      "[-2.0619547   3.          3.         -0.21594313 -1.5135278 ]\n",
      " bias: -3.0\n",
      "\n",
      "Neuron 3: weights:\n",
      "[ 2.008822  -3.        -3.         1.3461587  1.1474473]\n",
      " bias: 3.0\n",
      "\n",
      "$\n",
      "Layer 2\n",
      "Neuron 0: weights:\n",
      "[ 3.  3. -3.  3.]\n",
      " bias: -1.973860740661621\n",
      "\n",
      "Neuron 1: weights:\n",
      "[ 3.  3.  3. -3.]\n",
      " bias: -2.7156460285186768\n",
      "\n",
      "Neuron 2: weights:\n",
      "[-3.         -3.         -0.86842495  3.        ]\n",
      " bias: 3.0\n",
      "\n",
      "$\n",
      "\n"
     ]
    }
   ],
   "source": [
    "print(model)"
   ]
  }
 ],
 "metadata": {
  "kernelspec": {
   "display_name": "Python 3",
   "language": "python",
   "name": "python3"
  },
  "language_info": {
   "codemirror_mode": {
    "name": "ipython",
    "version": 3
   },
   "file_extension": ".py",
   "mimetype": "text/x-python",
   "name": "python",
   "nbconvert_exporter": "python",
   "pygments_lexer": "ipython3",
   "version": "3.6.10"
  }
 },
 "nbformat": 4,
 "nbformat_minor": 2
}
