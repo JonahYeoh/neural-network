{
 "cells": [
  {
   "cell_type": "code",
   "execution_count": 1,
   "metadata": {},
   "outputs": [],
   "source": [
    "# dependency\n",
    "import numpy as np\n",
    "import pandas as pd\n",
    "import copy\n",
    "import math\n",
    "import sys\n",
    "import os\n",
    "from activations import relu, leaky_relu, sigmoid, tanh, softmax, d_sigmoid, d_relu\n",
    "from initializers import glorot_uniform, random_normal, random_uniform\n",
    "from regularizers import l1_regularizer, l2_regularizer\n",
    "from utility import trim_tail, multiply, subtract, get_nparams, one_hot_encoding, get_data\n",
    "from metrics import MSE, CCE, ACC, PRECISION, RECALL, essential_metrics, wondering_penalty, close_gap_penalty\n",
    "from pso import PSO\n",
    "from ga import GA\n",
    "from nn import Network\n",
    "from layer import DenseLayer\n",
    "from scalers import MinMaxScaler, StandardScaler"
   ]
  },
  {
   "cell_type": "code",
   "execution_count": 2,
   "metadata": {},
   "outputs": [],
   "source": [
    "# reference\n",
    "metrics_fn_dict = dict()\n",
    "metrics_fn_dict['accuracy'] = ACC\n",
    "metrics_fn_dict['categorical_crossentropy'] = CCE\n",
    "metrics_fn_dict['mean_square_error'] = MSE\n",
    "metrics_fn_dict['precision'] = PRECISION\n",
    "metrics_fn_dict['recall'] = RECALL\n",
    "metrics_fn_dict['essential_metrics'] = essential_metrics"
   ]
  },
  {
   "cell_type": "code",
   "execution_count": 3,
   "metadata": {},
   "outputs": [],
   "source": [
    "# model\n",
    "model = Network(5, lr = None)\n",
    "model.add_layer(DenseLayer(1, 4, True, afn=sigmoid, dafn=None, rfn=None))\n",
    "model.add_layer(DenseLayer(2, 3, True, afn=softmax, dafn=None, rfn=None))"
   ]
  },
  {
   "cell_type": "code",
   "execution_count": 4,
   "metadata": {},
   "outputs": [
    {
     "name": "stdout",
     "output_type": "stream",
     "text": [
      "see one see two 2 0.5\n"
     ]
    }
   ],
   "source": [
    "pso = PSO(dict(m = 50,\n",
    "    weight_constraint = [-3, 3], \n",
    "    velocity_constraint = [-0.1, 0.1],\n",
    "    c1 = [0.5, 2],\n",
    "    c2 = [0.5, 2],\n",
    "    w = [0.5, 1.6],\n",
    "    w_decay = 0.95,\n",
    "    scale_hyperparameter = False,\n",
    "    regularizer = None,\n",
    "    mask = True))"
   ]
  },
  {
   "cell_type": "code",
   "execution_count": 5,
   "metadata": {},
   "outputs": [
    {
     "name": "stdout",
     "output_type": "stream",
     "text": [
      "building layer 1 with 5\n",
      "24\n",
      "building layer 2 with 4\n",
      "15\n"
     ]
    }
   ],
   "source": [
    "model.compile(loss_fn = 'categorical_crossentropy', optimizer = pso, \\\n",
    "    metrics = ['accuracy', 'mean_square_error', 'categorical_crossentropy'])"
   ]
  },
  {
   "cell_type": "code",
   "execution_count": 6,
   "metadata": {},
   "outputs": [
    {
     "name": "stdout",
     "output_type": "stream",
     "text": [
      "<class 'pandas.core.frame.DataFrame'>\n",
      "RangeIndex: 107 entries, 0 to 106\n",
      "Data columns (total 6 columns):\n",
      " #   Column  Non-Null Count  Dtype  \n",
      "---  ------  --------------  -----  \n",
      " 0   f1      107 non-null    float32\n",
      " 1   f2      107 non-null    float32\n",
      " 2   f3      107 non-null    float32\n",
      " 3   f4      107 non-null    float32\n",
      " 4   f5      107 non-null    float32\n",
      " 5   label   107 non-null    float32\n",
      "dtypes: float32(6)\n",
      "memory usage: 2.6 KB\n",
      "None\n",
      "<class 'pandas.core.frame.DataFrame'>\n",
      "RangeIndex: 108 entries, 0 to 107\n",
      "Data columns (total 6 columns):\n",
      " #   Column  Non-Null Count  Dtype  \n",
      "---  ------  --------------  -----  \n",
      " 0   f1      108 non-null    float32\n",
      " 1   f2      108 non-null    float32\n",
      " 2   f3      108 non-null    float32\n",
      " 3   f4      108 non-null    float32\n",
      " 4   f5      108 non-null    float32\n",
      " 5   label   108 non-null    float32\n",
      "dtypes: float32(6)\n",
      "memory usage: 2.7 KB\n",
      "None\n"
     ]
    }
   ],
   "source": [
    "# data loading\n",
    "DATA = os.path.join('c:\\\\Users\\\\tcumi\\\\github_repo\\\\neural-network\\\\', 'dataset')\n",
    "GROUP = 5\n",
    "COLUMNS = ['f1', 'f2', 'f3', 'f4', 'f5', 'label']\n",
    "N_CLASS = 3\n",
    "EPOCHS = 500\n",
    "train_dir, test_dir = \"..//dataset//training_data{}.txt\".format(GROUP), \"..//dataset//testing_data{}.txt\".format(GROUP)\n",
    "train, test = get_data(DATA, train_dir, COLUMNS), get_data(DATA, test_dir, COLUMNS)\n",
    "# shuffle\n",
    "train, test = train.sample(frac=1), test.sample(frac=1)\n",
    "x_train, y_train = train.drop('label', axis=1), train['label']\n",
    "x_test, y_test = test.drop('label', axis=1), test['label']"
   ]
  },
  {
   "cell_type": "code",
   "execution_count": 7,
   "metadata": {},
   "outputs": [],
   "source": [
    "# data scaling and encoding\n",
    "scaler = StandardScaler(['f1', 'f2', 'f3', 'f4', 'f5'])\n",
    "scaler.fit(x_train)\n",
    "x_train = scaler.transform(x_train)\n",
    "x_test = scaler.transform(x_test)\n",
    "y_train = one_hot_encoding(y_train, N_CLASS)\n",
    "y_test = one_hot_encoding(y_test, N_CLASS)"
   ]
  },
  {
   "cell_type": "code",
   "execution_count": 8,
   "metadata": {
    "tags": [
     "outputPrepend"
    ]
   },
   "outputs": [
    {
     "name": "stdout",
     "output_type": "stream",
     "text": [
      "Checkpoint 100, Accuracy: 0.9382716049382716, Loss: 0.2551950348748101\n",
      "Checkpoint 200, Accuracy: 0.9629629629629629, Loss: 0.14996253119574654\n",
      "Checkpoint 300, Accuracy: 0.9629629629629629, Loss: 0.11125581352799027\n",
      "Checkpoint 400, Accuracy: 0.9567901234567902, Loss: 0.11388243569268121\n",
      "Checkpoint 500, Accuracy: 0.9567901234567902, Loss: 0.11707551391036422\n"
     ]
    }
   ],
   "source": [
    "# learning phase\n",
    "breakpoint = 100\n",
    "checkpoints = list()\n",
    "history = list()\n",
    "for century in range(0, EPOCHS, breakpoint):\n",
    "    sub_history = model.fit(x_train, y_train, breakpoint, verbose = 0)\n",
    "    score = model.evaluate(x_test, y_test, False, verbose = 0)\n",
    "    print('Checkpoint {}, Accuracy: {}, Loss: {}'.format(century+breakpoint, score['accuracy'], score[model.loss_fn]))\n",
    "    score['checkpoint'] = century + breakpoint\n",
    "    checkpoints.append(score)\n",
    "    history.extend(sub_history)\n",
    "    itr = century + breakpoint\n",
    "    model.optimizer.c1 = np.max([model.optimizer.C1[1] - ((model.optimizer.C1[1] - model.optimizer.C1[0]) * itr / EPOCHS), model.optimizer.C1[0]])\n",
    "    model.optimizer.c2 = np.min([model.optimizer.C2[0] + ((model.optimizer.C2[1] - model.optimizer.C2[0]) * itr / EPOCHS), model.optimizer.C2[1]])\n",
    "    model.optimizer.w = np.max([model.optimizer.w * model.optimizer.W_Decay, model.optimizer.W[0]])"
   ]
  },
  {
   "cell_type": "code",
   "execution_count": 9,
   "metadata": {},
   "outputs": [],
   "source": [
    "import matplotlib.pyplot as plt\n",
    "\n",
    "def draw_plot(x, y_list, x_label=None, y_label=None, legend=None, title=None):\n",
    "    fig, ax = plt.subplots(figsize=(12,5))\n",
    "    for xi, yi in zip(x, y_list):\n",
    "        ax.plot(xi, yi)\n",
    "    if x_label is not None and y_label is not None:\n",
    "        ax.set(xlabel=x_label, ylabel=y_label, title='{} VS {}'.format(x_label, y_label))\n",
    "    if legend is not None:\n",
    "        ax.legend(legend)\n",
    "    ax.grid()\n",
    "    plt.show()"
   ]
  },
  {
   "cell_type": "code",
   "execution_count": 10,
   "metadata": {},
   "outputs": [
    {
     "name": "stdout",
     "output_type": "stream",
     "text": [
      "[0. 1. 0.] <-> [0.00416187 0.99024254 0.00559563]\n",
      "[1. 0. 0.] <-> [9.9776840e-01 1.8811359e-03 3.5057345e-04]\n",
      "[0. 1. 0.] <-> [0.00395102 0.99053776 0.0055112 ]\n",
      "[1. 0. 0.] <-> [9.9752110e-01 2.0947410e-03 3.8408657e-04]\n",
      "[1. 0. 0.] <-> [9.9738926e-01 2.1763716e-03 4.3437778e-04]\n",
      "[1. 0. 0.] <-> [9.9716824e-01 2.0187071e-03 8.1310584e-04]\n",
      "[0. 1. 0.] <-> [0.07063003 0.91798896 0.01138105]\n",
      "[1. 0. 0.] <-> [0.9108501  0.00533176 0.08381811]\n",
      "[1. 0. 0.] <-> [0.9871088  0.00402024 0.00887092]\n",
      "[1. 0. 0.] <-> [9.9769455e-01 1.9677035e-03 3.3773688e-04]\n",
      "[1. 0. 0.] <-> [9.9721390e-01 2.4068977e-03 3.7919861e-04]\n",
      "[1. 0. 0.] <-> [9.9583995e-01 3.6394710e-03 5.2057073e-04]\n",
      "[1. 0. 0.] <-> [9.9717832e-01 2.3886855e-03 4.3306299e-04]\n",
      "[0. 0. 1.] <-> [0.02310936 0.00241634 0.9744743 ]\n",
      "[1. 0. 0.] <-> [9.9636972e-01 3.1732896e-03 4.5706527e-04]\n",
      "[1. 0. 0.] <-> [0.35970268 0.00790947 0.6323878 ]\n",
      "[1. 0. 0.] <-> [9.9730009e-01 2.2947898e-03 4.0511278e-04]\n",
      "[1. 0. 0.] <-> [9.9761653e-01 1.9225058e-03 4.6095561e-04]\n",
      "[1. 0. 0.] <-> [0.97155803 0.00522044 0.02322151]\n",
      "[0. 1. 0.] <-> [0.25800568 0.7275746  0.01441969]\n",
      "[1. 0. 0.] <-> [0.9773842  0.0069561  0.01565969]\n",
      "[0. 1. 0.] <-> [0.003951   0.99053776 0.00551119]\n",
      "[1. 0. 0.] <-> [0.7980522  0.0105179  0.19142993]\n",
      "[0. 0. 1.] <-> [0.02312816 0.00241545 0.9744564 ]\n",
      "[1. 0. 0.] <-> [0.9960129  0.00254541 0.00144166]\n",
      "[1. 0. 0.] <-> [0.99216676 0.00316191 0.00467145]\n",
      "[0. 0. 1.] <-> [0.02306969 0.00241822 0.9745121 ]\n",
      "[1. 0. 0.] <-> [9.9730349e-01 2.0305591e-03 6.6589151e-04]\n",
      "[1. 0. 0.] <-> [9.975299e-01 1.980107e-03 4.900120e-04]\n",
      "[1. 0. 0.] <-> [0.9970271  0.00194852 0.00102438]\n",
      "[1. 0. 0.] <-> [0.9962676  0.00236783 0.00136462]\n",
      "[1. 0. 0.] <-> [0.98836505 0.00462635 0.00700861]\n",
      "[1. 0. 0.] <-> [9.9539316e-01 4.0796613e-03 5.2721938e-04]\n",
      "[1. 0. 0.] <-> [9.9751663e-01 2.1097455e-03 3.7359720e-04]\n",
      "[1. 0. 0.] <-> [9.9716467e-01 2.0959931e-03 7.3940726e-04]\n",
      "[0. 1. 0.] <-> [0.07904664 0.90865034 0.01230307]\n",
      "[1. 0. 0.] <-> [0.99272776 0.00430885 0.00296344]\n",
      "[0. 0. 1.] <-> [0.00874367 0.00368472 0.9875716 ]\n",
      "[0. 1. 0.] <-> [0.59086204 0.39660844 0.01252951]\n",
      "[1. 0. 0.] <-> [9.933882e-01 5.904781e-03 7.069835e-04]\n",
      "[0. 1. 0.] <-> [0.00395101 0.99053776 0.00551119]\n",
      "[1. 0. 0.] <-> [0.9952285  0.00295198 0.00181942]\n",
      "[1. 0. 0.] <-> [0.9916972  0.00296553 0.00533724]\n",
      "[0. 0. 1.] <-> [0.16146675 0.00407472 0.83445853]\n",
      "[1. 0. 0.] <-> [9.9747354e-01 2.1325520e-03 3.9396359e-04]\n",
      "[1. 0. 0.] <-> [9.9705935e-01 2.4991427e-03 4.4151946e-04]\n",
      "[0. 0. 1.] <-> [0.02301629 0.00242093 0.9745628 ]\n",
      "[1. 0. 0.] <-> [9.9753189e-01 2.0476771e-03 4.2034322e-04]\n",
      "[1. 0. 0.] <-> [0.61045885 0.00799946 0.38154176]\n",
      "[1. 0. 0.] <-> [0.9757165  0.00502247 0.01926111]\n",
      "[0. 1. 0.] <-> [0.7850905  0.2068408  0.00806869]\n",
      "[1. 0. 0.] <-> [9.9719882e-01 2.2262949e-03 5.7492574e-04]\n",
      "[1. 0. 0.] <-> [9.9699402e-01 2.1554816e-03 8.5055106e-04]\n",
      "[0. 1. 0.] <-> [0.03403115 0.95584846 0.01012051]\n",
      "[0. 0. 1.] <-> [0.02314204 0.0024159  0.974442  ]\n",
      "[1. 0. 0.] <-> [9.9574029e-01 3.7424606e-03 5.1725953e-04]\n",
      "[1. 0. 0.] <-> [9.9749517e-01 2.0180030e-03 4.8686427e-04]\n",
      "[1. 0. 0.] <-> [0.9858381  0.00371819 0.01044368]\n",
      "[1. 0. 0.] <-> [9.9671030e-01 2.8495886e-03 4.4009849e-04]\n",
      "[1. 0. 0.] <-> [0.99299157 0.00600869 0.00099977]\n",
      "[0. 0. 1.] <-> [0.02312436 0.0024166  0.974459  ]\n",
      "[1. 0. 0.] <-> [9.9735838e-01 2.2838328e-03 3.5777080e-04]\n",
      "[1. 0. 0.] <-> [0.9604061 0.0370581 0.0025357]\n",
      "[0. 1. 0.] <-> [0.01535324 0.97647333 0.00817351]\n",
      "[0. 0. 1.] <-> [0.02314255 0.00241586 0.9744416 ]\n",
      "[1. 0. 0.] <-> [9.975011e-01 2.070505e-03 4.284705e-04]\n",
      "[1. 0. 0.] <-> [9.9764866e-01 1.9567390e-03 3.9458292e-04]\n",
      "[1. 0. 0.] <-> [9.9628925e-01 3.2110089e-03 4.9973861e-04]\n",
      "[0. 1. 0.] <-> [0.00414496 0.9902654  0.00558963]\n",
      "[0. 0. 1.] <-> [0.90438277 0.00601521 0.08960198]\n",
      "[1. 0. 0.] <-> [0.99234337 0.00353851 0.00411815]\n",
      "[1. 0. 0.] <-> [0.99546355 0.00287902 0.00165748]\n",
      "[0. 1. 0.] <-> [0.00395103 0.99053776 0.0055112 ]\n",
      "[0. 0. 1.] <-> [0.01603653 0.00285056 0.98111296]\n",
      "[1. 0. 0.] <-> [9.9718684e-01 2.2571643e-03 5.5593683e-04]\n",
      "[0. 0. 1.] <-> [0.02316836 0.00241781 0.9744139 ]\n",
      "[1. 0. 0.] <-> [9.9748260e-01 2.0959168e-03 4.2157975e-04]\n",
      "[1. 0. 0.] <-> [9.9707127e-01 2.2952897e-03 6.3339545e-04]\n",
      "[0. 1. 0.] <-> [0.00395101 0.99053776 0.0055112 ]\n",
      "[0. 1. 0.] <-> [0.72127664 0.26979855 0.00892482]\n",
      "[1. 0. 0.] <-> [9.9606079e-01 3.4449655e-03 4.9418054e-04]\n",
      "[1. 0. 0.] <-> [9.9768448e-01 1.8897214e-03 4.2574748e-04]\n",
      "[1. 0. 0.] <-> [9.9345946e-01 5.8470317e-03 6.9347798e-04]\n",
      "[1. 0. 0.] <-> [9.9692470e-01 2.3077829e-03 7.6749641e-04]\n",
      "[0. 0. 1.] <-> [0.02314839 0.00241644 0.97443515]\n",
      "[1. 0. 0.] <-> [0.98984677 0.00370759 0.00644562]\n",
      "[1. 0. 0.] <-> [0.984674   0.00390767 0.01141833]\n",
      "[1. 0. 0.] <-> [9.9687093e-01 2.4681096e-03 6.6097552e-04]\n",
      "[1. 0. 0.] <-> [0.9956338  0.0029608  0.00140539]\n",
      "[1. 0. 0.] <-> [9.9747390e-01 2.1705192e-03 3.5558004e-04]\n",
      "[1. 0. 0.] <-> [9.975573e-01 1.974567e-03 4.681415e-04]\n",
      "[1. 0. 0.] <-> [0.98111    0.00661032 0.01227968]\n",
      "[1. 0. 0.] <-> [0.90211874 0.00829078 0.08959051]\n",
      "[1. 0. 0.] <-> [9.9646074e-01 3.0561388e-03 4.8308331e-04]\n",
      "[1. 0. 0.] <-> [0.9784848  0.00630861 0.01520658]\n",
      "[1. 0. 0.] <-> [9.9758613e-01 2.0477327e-03 3.6619272e-04]\n",
      "[1. 0. 0.] <-> [0.99534214 0.0029883  0.00166956]\n",
      "[0. 1. 0.] <-> [0.00395989 0.9905253  0.00551484]\n",
      "[1. 0. 0.] <-> [9.9767810e-01 1.9349192e-03 3.8702032e-04]\n",
      "[1. 0. 0.] <-> [9.9747914e-01 1.9750858e-03 5.4582674e-04]\n",
      "[0. 0. 1.] <-> [0.02312836 0.00241546 0.9744562 ]\n",
      "[1. 0. 0.] <-> [9.9698013e-01 2.5502080e-03 4.6969135e-04]\n",
      "[0. 0. 1.] <-> [0.8244824  0.00579078 0.16972679]\n",
      "[0. 1. 0.] <-> [0.00395122 0.99053746 0.00551129]\n",
      "[1. 0. 0.] <-> [9.9763370e-01 1.9666147e-03 3.9971960e-04]\n",
      "[1. 0. 0.] <-> [0.9673157  0.03042772 0.00225651]\n",
      "[1. 0. 0.] <-> [9.9732494e-01 2.1399304e-03 5.3516432e-04]\n",
      "[1. 0. 0.] <-> [0.32556745 0.00484473 0.6695878 ]\n",
      "{'accuracy': 0.9567901234567902, 'mean_square_error': 0.07778192596971295, 'categorical_crossentropy': 0.11707551391036422, 'essential_metrics': {0: {'tp_hit': 74, 'fp_hit': 5, 'tn_hit': 27, 'fn_hit': 2}, 1: {'tp_hit': 14, 'fp_hit': 0, 'tn_hit': 91, 'fn_hit': 3}, 2: {'tp_hit': 13, 'fp_hit': 2, 'tn_hit': 91, 'fn_hit': 2}}}\n"
     ]
    }
   ],
   "source": [
    "# recall phase\n",
    "score = model.evaluate(x_test, y_test, False)\n",
    "print(score)"
   ]
  },
  {
   "cell_type": "code",
   "execution_count": 11,
   "metadata": {},
   "outputs": [
    {
     "data": {
      "image/png": "[encoded data removed]",
      "text/plain": [
       "<Figure size 864x360 with 1 Axes>"
      ]
     },
     "metadata": {
      "needs_background": "light"
     },
     "output_type": "display_data"
    },
    {
     "data": {
      "image/png": "[encoded data removed]",
      "text/plain": [
       "<Figure size 864x360 with 1 Axes>"
      ]
     },
     "metadata": {
      "needs_background": "light"
     },
     "output_type": "display_data"
    }
   ],
   "source": [
    "draw_plot(x = [[i for i in range(len(history))], [(i+1)*breakpoint for i in range(len(checkpoints))]], y_list = [history, [ ckp[model.loss_fn] for ckp in checkpoints ]], x_label = 'Epochs', \\\n",
    "    y_label = model.loss_fn, legend=['train', 'test'])\n",
    "acc = [ ckp['accuracy'] for ckp in checkpoints ]\n",
    "draw_plot(x = [[(i+1)*breakpoint for i in range(len(checkpoints))]], y_list = [acc], x_label = 'Checkpoints', \\\n",
    "    y_label = 'accuracy')"
   ]
  },
  {
   "cell_type": "code",
   "execution_count": 12,
   "metadata": {},
   "outputs": [
    {
     "name": "stdout",
     "output_type": "stream",
     "text": [
      "{'accuracy': 0.9382716049382716, 'mean_square_error': 0.13110746525051947, 'categorical_crossentropy': 0.2551950348748101, 'essential_metrics': {0: {'tp_hit': 74, 'fp_hit': 8, 'tn_hit': 24, 'fn_hit': 2}, 1: {'tp_hit': 12, 'fp_hit': 0, 'tn_hit': 91, 'fn_hit': 5}, 2: {'tp_hit': 12, 'fp_hit': 2, 'tn_hit': 91, 'fn_hit': 3}}, 'checkpoint': 100} \n",
      "\n",
      "\n",
      "{'accuracy': 0.9629629629629629, 'mean_square_error': 0.08154629258315123, 'categorical_crossentropy': 0.14996253119574654, 'essential_metrics': {0: {'tp_hit': 74, 'fp_hit': 4, 'tn_hit': 28, 'fn_hit': 2}, 1: {'tp_hit': 14, 'fp_hit': 0, 'tn_hit': 91, 'fn_hit': 3}, 2: {'tp_hit': 14, 'fp_hit': 2, 'tn_hit': 91, 'fn_hit': 1}}, 'checkpoint': 200} \n",
      "\n",
      "\n",
      "{'accuracy': 0.9629629629629629, 'mean_square_error': 0.07213542946224015, 'categorical_crossentropy': 0.11125581352799027, 'essential_metrics': {0: {'tp_hit': 75, 'fp_hit': 5, 'tn_hit': 27, 'fn_hit': 1}, 1: {'tp_hit': 14, 'fp_hit': 0, 'tn_hit': 91, 'fn_hit': 3}, 2: {'tp_hit': 13, 'fp_hit': 1, 'tn_hit': 92, 'fn_hit': 2}}, 'checkpoint': 300} \n",
      "\n",
      "\n",
      "{'accuracy': 0.9567901234567902, 'mean_square_error': 0.0759044595894158, 'categorical_crossentropy': 0.11388243569268121, 'essential_metrics': {0: {'tp_hit': 74, 'fp_hit': 5, 'tn_hit': 27, 'fn_hit': 2}, 1: {'tp_hit': 14, 'fp_hit': 0, 'tn_hit': 91, 'fn_hit': 3}, 2: {'tp_hit': 13, 'fp_hit': 2, 'tn_hit': 91, 'fn_hit': 2}}, 'checkpoint': 400} \n",
      "\n",
      "\n",
      "{'accuracy': 0.9567901234567902, 'mean_square_error': 0.07778192596971295, 'categorical_crossentropy': 0.11707551391036422, 'essential_metrics': {0: {'tp_hit': 74, 'fp_hit': 5, 'tn_hit': 27, 'fn_hit': 2}, 1: {'tp_hit': 14, 'fp_hit': 0, 'tn_hit': 91, 'fn_hit': 3}, 2: {'tp_hit': 13, 'fp_hit': 2, 'tn_hit': 91, 'fn_hit': 2}}, 'checkpoint': 500} \n",
      "\n",
      "\n"
     ]
    }
   ],
   "source": [
    "for checkpoint in checkpoints:\n",
    "    print(checkpoint, '\\n\\n')"
   ]
  },
  {
   "cell_type": "code",
   "execution_count": 13,
   "metadata": {},
   "outputs": [
    {
     "name": "stdout",
     "output_type": "stream",
     "text": [
      "Layer 1\n",
      "Neuron 0: weights:\n",
      "[-3.         3.         3.         3.        -1.3805788]\n",
      " bias: -3.0\n",
      "\n",
      "Neuron 1: weights:\n",
      "[-1.4174407  3.         0.9583412 -3.        -1.0598859]\n",
      " bias: 3.0\n",
      "\n",
      "Neuron 2: weights:\n",
      "[-1.4216639  3.         3.        -3.        -3.       ]\n",
      " bias: 3.0\n",
      "\n",
      "Neuron 3: weights:\n",
      "[-1.1294174  3.         3.         3.        -1.21387  ]\n",
      " bias: -3.0\n",
      "\n",
      "$\n",
      "Layer 2\n",
      "Neuron 0: weights:\n",
      "[-3.  3.  3. -3.]\n",
      " bias: -0.7408250570297241\n",
      "\n",
      "Neuron 1: weights:\n",
      "[ 3.        -1.2165456  3.         3.       ]\n",
      " bias: -3.0\n",
      "\n",
      "Neuron 2: weights:\n",
      "[ 1.387286  -3.        -3.         1.2047011]\n",
      " bias: 3.0\n",
      "\n",
      "$\n",
      "\n"
     ]
    }
   ],
   "source": [
    "print(model)"
   ]
  }
 ],
 "metadata": {
  "kernelspec": {
   "display_name": "Python 3",
   "language": "python",
   "name": "python3"
  },
  "language_info": {
   "codemirror_mode": {
    "name": "ipython",
    "version": 3
   },
   "file_extension": ".py",
   "mimetype": "text/x-python",
   "name": "python",
   "nbconvert_exporter": "python",
   "pygments_lexer": "ipython3",
   "version": "3.6.10"
  }
 },
 "nbformat": 4,
 "nbformat_minor": 2
}
