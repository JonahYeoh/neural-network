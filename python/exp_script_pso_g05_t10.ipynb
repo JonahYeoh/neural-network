{
 "cells": [
  {
   "cell_type": "code",
   "execution_count": 1,
   "metadata": {},
   "outputs": [],
   "source": [
    "# dependency\n",
    "import numpy as np\n",
    "import pandas as pd\n",
    "import copy\n",
    "import math\n",
    "import sys\n",
    "import os\n",
    "from activations import relu, leaky_relu, sigmoid, tanh, softmax, d_sigmoid, d_relu\n",
    "from initializers import glorot_uniform, random_normal, random_uniform\n",
    "from regularizers import l1_regularizer, l2_regularizer\n",
    "from utility import trim_tail, multiply, subtract, get_nparams, one_hot_encoding, get_data\n",
    "from metrics import MSE, CCE, ACC, PRECISION, RECALL, essential_metrics, wondering_penalty, close_gap_penalty\n",
    "from pso import PSO\n",
    "from ga import GA\n",
    "from nn import Network\n",
    "from layer import DenseLayer\n",
    "from scalers import MinMaxScaler, StandardScaler"
   ]
  },
  {
   "cell_type": "code",
   "execution_count": 2,
   "metadata": {},
   "outputs": [],
   "source": [
    "# reference\n",
    "metrics_fn_dict = dict()\n",
    "metrics_fn_dict['accuracy'] = ACC\n",
    "metrics_fn_dict['categorical_crossentropy'] = CCE\n",
    "metrics_fn_dict['mean_square_error'] = MSE\n",
    "metrics_fn_dict['precision'] = PRECISION\n",
    "metrics_fn_dict['recall'] = RECALL\n",
    "metrics_fn_dict['essential_metrics'] = essential_metrics"
   ]
  },
  {
   "cell_type": "code",
   "execution_count": 3,
   "metadata": {},
   "outputs": [],
   "source": [
    "# model\n",
    "model = Network(5, lr = None)\n",
    "model.add_layer(DenseLayer(1, 4, True, afn=sigmoid, dafn=None, rfn=None))\n",
    "model.add_layer(DenseLayer(2, 3, True, afn=softmax, dafn=None, rfn=None))"
   ]
  },
  {
   "cell_type": "code",
   "execution_count": 4,
   "metadata": {},
   "outputs": [
    {
     "name": "stdout",
     "output_type": "stream",
     "text": [
      "see one see two 2 0.5\n"
     ]
    }
   ],
   "source": [
    "pso = PSO(dict(m = 50,\n",
    "    weight_constraint = [-3, 3], \n",
    "    velocity_constraint = [-0.1, 0.1],\n",
    "    c1 = [0.5, 2],\n",
    "    c2 = [0.5, 2],\n",
    "    w = [0.5, 1.6],\n",
    "    w_decay = 0.95,\n",
    "    scale_hyperparameter = False,\n",
    "    regularizer = None,\n",
    "    mask = True))"
   ]
  },
  {
   "cell_type": "code",
   "execution_count": 5,
   "metadata": {},
   "outputs": [
    {
     "name": "stdout",
     "output_type": "stream",
     "text": [
      "building layer 1 with 5\n",
      "24\n",
      "building layer 2 with 4\n",
      "15\n"
     ]
    }
   ],
   "source": [
    "model.compile(loss_fn = 'categorical_crossentropy', optimizer = pso, \\\n",
    "    metrics = ['accuracy', 'mean_square_error', 'categorical_crossentropy'])"
   ]
  },
  {
   "cell_type": "code",
   "execution_count": 6,
   "metadata": {},
   "outputs": [
    {
     "name": "stdout",
     "output_type": "stream",
     "text": [
      "<class 'pandas.core.frame.DataFrame'>\n",
      "RangeIndex: 107 entries, 0 to 106\n",
      "Data columns (total 6 columns):\n",
      " #   Column  Non-Null Count  Dtype  \n",
      "---  ------  --------------  -----  \n",
      " 0   f1      107 non-null    float32\n",
      " 1   f2      107 non-null    float32\n",
      " 2   f3      107 non-null    float32\n",
      " 3   f4      107 non-null    float32\n",
      " 4   f5      107 non-null    float32\n",
      " 5   label   107 non-null    float32\n",
      "dtypes: float32(6)\n",
      "memory usage: 2.6 KB\n",
      "None\n",
      "<class 'pandas.core.frame.DataFrame'>\n",
      "RangeIndex: 108 entries, 0 to 107\n",
      "Data columns (total 6 columns):\n",
      " #   Column  Non-Null Count  Dtype  \n",
      "---  ------  --------------  -----  \n",
      " 0   f1      108 non-null    float32\n",
      " 1   f2      108 non-null    float32\n",
      " 2   f3      108 non-null    float32\n",
      " 3   f4      108 non-null    float32\n",
      " 4   f5      108 non-null    float32\n",
      " 5   label   108 non-null    float32\n",
      "dtypes: float32(6)\n",
      "memory usage: 2.7 KB\n",
      "None\n"
     ]
    }
   ],
   "source": [
    "# data loading\n",
    "DATA = os.path.join('c:\\\\Users\\\\tcumi\\\\github_repo\\\\neural-network\\\\', 'dataset')\n",
    "GROUP = 5\n",
    "COLUMNS = ['f1', 'f2', 'f3', 'f4', 'f5', 'label']\n",
    "N_CLASS = 3\n",
    "EPOCHS = 500\n",
    "train_dir, test_dir = \"..//dataset//training_data{}.txt\".format(GROUP), \"..//dataset//testing_data{}.txt\".format(GROUP)\n",
    "train, test = get_data(DATA, train_dir, COLUMNS), get_data(DATA, test_dir, COLUMNS)\n",
    "# shuffle\n",
    "train, test = train.sample(frac=1), test.sample(frac=1)\n",
    "x_train, y_train = train.drop('label', axis=1), train['label']\n",
    "x_test, y_test = test.drop('label', axis=1), test['label']"
   ]
  },
  {
   "cell_type": "code",
   "execution_count": 7,
   "metadata": {},
   "outputs": [],
   "source": [
    "# data scaling and encoding\n",
    "scaler = StandardScaler(['f1', 'f2', 'f3', 'f4', 'f5'])\n",
    "scaler.fit(x_train)\n",
    "x_train = scaler.transform(x_train)\n",
    "x_test = scaler.transform(x_test)\n",
    "y_train = one_hot_encoding(y_train, N_CLASS)\n",
    "y_test = one_hot_encoding(y_test, N_CLASS)"
   ]
  },
  {
   "cell_type": "code",
   "execution_count": 8,
   "metadata": {
    "tags": [
     "outputPrepend"
    ]
   },
   "outputs": [
    {
     "name": "stdout",
     "output_type": "stream",
     "text": [
      "Checkpoint 100, Accuracy: 0.9567901234567902, Loss: 0.23339630056310584\n",
      "Checkpoint 200, Accuracy: 0.9629629629629629, Loss: 0.14707078757109465\n",
      "Checkpoint 300, Accuracy: 0.9691358024691358, Loss: 0.10930829577975804\n",
      "Checkpoint 400, Accuracy: 0.9691358024691358, Loss: 0.10929220694082754\n",
      "Checkpoint 500, Accuracy: 0.9691358024691358, Loss: 0.11840339060182925\n"
     ]
    }
   ],
   "source": [
    "# learning phase\n",
    "breakpoint = 100\n",
    "checkpoints = list()\n",
    "history = list()\n",
    "for century in range(0, EPOCHS, breakpoint):\n",
    "    sub_history = model.fit(x_train, y_train, breakpoint, verbose = 0)\n",
    "    score = model.evaluate(x_test, y_test, False, verbose = 0)\n",
    "    print('Checkpoint {}, Accuracy: {}, Loss: {}'.format(century+breakpoint, score['accuracy'], score[model.loss_fn]))\n",
    "    score['checkpoint'] = century + breakpoint\n",
    "    checkpoints.append(score)\n",
    "    history.extend(sub_history)\n",
    "    itr = century + breakpoint\n",
    "    model.optimizer.c1 = np.max([model.optimizer.C1[1] - ((model.optimizer.C1[1] - model.optimizer.C1[0]) * itr / EPOCHS), model.optimizer.C1[0]])\n",
    "    model.optimizer.c2 = np.min([model.optimizer.C2[0] + ((model.optimizer.C2[1] - model.optimizer.C2[0]) * itr / EPOCHS), model.optimizer.C2[1]])\n",
    "    model.optimizer.w = np.max([model.optimizer.w * model.optimizer.W_Decay, model.optimizer.W[0]])"
   ]
  },
  {
   "cell_type": "code",
   "execution_count": 9,
   "metadata": {},
   "outputs": [],
   "source": [
    "import matplotlib.pyplot as plt\n",
    "\n",
    "def draw_plot(x, y_list, x_label=None, y_label=None, legend=None, title=None):\n",
    "    fig, ax = plt.subplots(figsize=(12,5))\n",
    "    for xi, yi in zip(x, y_list):\n",
    "        ax.plot(xi, yi)\n",
    "    if x_label is not None and y_label is not None:\n",
    "        ax.set(xlabel=x_label, ylabel=y_label, title='{} VS {}'.format(x_label, y_label))\n",
    "    if legend is not None:\n",
    "        ax.legend(legend)\n",
    "    ax.grid()\n",
    "    plt.show()"
   ]
  },
  {
   "cell_type": "code",
   "execution_count": 10,
   "metadata": {},
   "outputs": [
    {
     "name": "stdout",
     "output_type": "stream",
     "text": [
      "[1. 0. 0.] <-> [0.99631137 0.00117919 0.0025095 ]\n",
      "[0. 1. 0.] <-> [0.68718725 0.31147212 0.0013406 ]\n",
      "[0. 0. 1.] <-> [9.6527580e-03 5.2265561e-05 9.9029505e-01]\n",
      "[1. 0. 0.] <-> [0.9609653  0.00163726 0.03739755]\n",
      "[1. 0. 0.] <-> [0.9713045  0.00157537 0.02712011]\n",
      "[0. 1. 0.] <-> [6.4119403e-03 9.9354035e-01 4.7682130e-05]\n",
      "[1. 0. 0.] <-> [0.99274945 0.00129698 0.00595356]\n",
      "[1. 0. 0.] <-> [0.9901598  0.0013906  0.00844968]\n",
      "[1. 0. 0.] <-> [9.9764925e-01 1.5960643e-03 7.5471227e-04]\n",
      "[1. 0. 0.] <-> [0.99725986 0.00112916 0.00161101]\n",
      "[1. 0. 0.] <-> [0.99063313 0.00154534 0.0078215 ]\n",
      "[1. 0. 0.] <-> [0.9954919  0.00121486 0.00329328]\n",
      "[0. 1. 0.] <-> [0.5769995  0.421698   0.00130257]\n",
      "[0. 1. 0.] <-> [1.2783552e-02 9.8713380e-01 8.2576800e-05]\n",
      "[1. 0. 0.] <-> [0.9951579  0.00125942 0.00358269]\n",
      "[1. 0. 0.] <-> [9.9789160e-01 1.1576329e-03 9.5088023e-04]\n",
      "[0. 0. 1.] <-> [9.611003e-03 5.210264e-05 9.903369e-01]\n",
      "[0. 1. 0.] <-> [0.9305014  0.06767802 0.00182055]\n",
      "[1. 0. 0.] <-> [0.9951821  0.00128721 0.00353064]\n",
      "[1. 0. 0.] <-> [0.9554234  0.0016622  0.04291442]\n",
      "[1. 0. 0.] <-> [9.9785322e-01 1.3394718e-03 8.0731773e-04]\n",
      "[1. 0. 0.] <-> [0.9964886  0.00122778 0.00228358]\n",
      "[1. 0. 0.] <-> [9.9787736e-01 1.2360226e-03 8.8658632e-04]\n",
      "[1. 0. 0.] <-> [0.9974752  0.00114504 0.00137969]\n",
      "[1. 0. 0.] <-> [9.9766517e-01 1.4971800e-03 8.3768973e-04]\n",
      "[1. 0. 0.] <-> [9.979030e-01 1.111778e-03 9.851762e-04]\n",
      "[0. 0. 1.] <-> [9.612750e-03 5.208824e-05 9.903351e-01]\n",
      "[1. 0. 0.] <-> [0.9974928  0.0013556  0.00115169]\n",
      "[1. 0. 0.] <-> [9.9784815e-01 1.1732097e-03 9.7865751e-04]\n",
      "[1. 0. 0.] <-> [9.9798512e-01 1.1509969e-03 8.6378620e-04]\n",
      "[1. 0. 0.] <-> [0.9974183  0.00153463 0.00104704]\n",
      "[0. 1. 0.] <-> [6.4118858e-03 9.9354047e-01 4.7681770e-05]\n",
      "[1. 0. 0.] <-> [0.9975915  0.00118055 0.00122802]\n",
      "[1. 0. 0.] <-> [0.7749049  0.0017457  0.22334938]\n",
      "[1. 0. 0.] <-> [9.9368143e-01 5.5385632e-03 7.8004057e-04]\n",
      "[1. 0. 0.] <-> [0.5880608  0.00154033 0.41039884]\n",
      "[0. 0. 1.] <-> [7.5920550e-03 7.5189695e-05 9.9233282e-01]\n",
      "[1. 0. 0.] <-> [9.9760580e-01 1.6445001e-03 7.4966316e-04]\n",
      "[0. 0. 1.] <-> [9.622779e-03 5.212329e-05 9.903251e-01]\n",
      "[1. 0. 0.] <-> [0.9922706  0.0013461  0.00638323]\n",
      "[1. 0. 0.] <-> [9.9741358e-01 1.7425917e-03 8.4384688e-04]\n",
      "[1. 0. 0.] <-> [9.9778676e-01 1.3570875e-03 8.5619825e-04]\n",
      "[1. 0. 0.] <-> [0.9840875  0.00143668 0.01447571]\n",
      "[1. 0. 0.] <-> [0.9944207  0.00123748 0.00434185]\n",
      "[1. 0. 0.] <-> [0.9970541  0.00133998 0.00160588]\n",
      "[1. 0. 0.] <-> [9.9792409e-01 1.1814823e-03 8.9430518e-04]\n",
      "[1. 0. 0.] <-> [9.977082e-01 1.522822e-03 7.689322e-04]\n",
      "[0. 1. 0.] <-> [6.4123017e-03 9.9353999e-01 4.7684796e-05]\n",
      "[1. 0. 0.] <-> [0.7140428  0.00183018 0.28412703]\n",
      "[1. 0. 0.] <-> [0.994808   0.00130097 0.00389112]\n",
      "[0. 0. 1.] <-> [9.6138818e-03 5.2078747e-05 9.9033409e-01]\n",
      "[0. 0. 1.] <-> [9.6243471e-03 5.2129970e-05 9.9032354e-01]\n",
      "[0. 1. 0.] <-> [6.4119766e-03 9.9354035e-01 4.7682450e-05]\n",
      "[1. 0. 0.] <-> [9.9766880e-01 1.5890439e-03 7.4211642e-04]\n",
      "[1. 0. 0.] <-> [9.9744642e-01 1.6591874e-03 8.9435326e-04]\n",
      "[0. 1. 0.] <-> [6.4118975e-03 9.9354035e-01 4.7681857e-05]\n",
      "[1. 0. 0.] <-> [9.9672806e-01 2.4175362e-03 8.5437961e-04]\n",
      "[1. 0. 0.] <-> [0.9974497  0.00113908 0.00141122]\n",
      "[1. 0. 0.] <-> [0.9977214  0.00120751 0.00107119]\n",
      "[0. 0. 1.] <-> [9.608071e-03 5.215877e-05 9.903398e-01]\n",
      "[0. 0. 1.] <-> [1.5076765e-01 5.5598235e-04 8.4867632e-01]\n",
      "[1. 0. 0.] <-> [9.9790996e-01 1.3153412e-03 7.7471993e-04]\n",
      "[0. 0. 1.] <-> [9.613668e-03 5.207756e-05 9.903342e-01]\n",
      "[0. 0. 1.] <-> [0.9056666  0.0018319  0.09250145]\n",
      "[1. 0. 0.] <-> [0.95172995 0.00168121 0.04658883]\n",
      "[0. 1. 0.] <-> [6.6876905e-03 9.9326283e-01 4.9520138e-05]\n",
      "[1. 0. 0.] <-> [0.9965268  0.00238485 0.00108843]\n",
      "[1. 0. 0.] <-> [0.9975656  0.00118171 0.00125273]\n",
      "[1. 0. 0.] <-> [0.97337747 0.00154867 0.02507392]\n",
      "[0. 1. 0.] <-> [2.2135913e-01 7.7794027e-01 7.0052955e-04]\n",
      "[1. 0. 0.] <-> [0.9975921  0.00116042 0.00124747]\n",
      "[1. 0. 0.] <-> [9.9785137e-01 1.2740130e-03 8.7471155e-04]\n",
      "[1. 0. 0.] <-> [0.97014076 0.02858239 0.00127685]\n",
      "[1. 0. 0.] <-> [0.9854429  0.00142875 0.01312838]\n",
      "[1. 0. 0.] <-> [0.6607076  0.00160884 0.33768356]\n",
      "[0. 0. 1.] <-> [9.6207699e-03 5.2126175e-05 9.9032706e-01]\n",
      "[1. 0. 0.] <-> [0.9974389  0.00111339 0.00144764]\n",
      "[0. 0. 1.] <-> [9.6368669e-03 5.2185413e-05 9.9031091e-01]\n",
      "[0. 1. 0.] <-> [7.9254359e-02 9.2028999e-01 4.5564672e-04]\n",
      "[0. 1. 0.] <-> [2.7527591e-02 9.7232866e-01 1.4372564e-04]\n",
      "[1. 0. 0.] <-> [9.9790347e-01 1.1264974e-03 9.7001990e-04]\n",
      "[1. 0. 0.] <-> [0.9971097  0.00119838 0.00169197]\n",
      "[1. 0. 0.] <-> [9.9541605e-01 3.6390945e-03 9.4476488e-04]\n",
      "[0. 1. 0.] <-> [1.9013084e-01 8.0907643e-01 7.9275767e-04]\n",
      "[1. 0. 0.] <-> [0.9976236  0.00137556 0.00100083]\n",
      "[1. 0. 0.] <-> [9.9598038e-01 3.2396496e-03 7.7988487e-04]\n",
      "[1. 0. 0.] <-> [9.9804211e-01 1.1955883e-03 7.6227222e-04]\n",
      "[1. 0. 0.] <-> [0.99683774 0.00113689 0.00202539]\n",
      "[1. 0. 0.] <-> [9.9788731e-01 1.3010224e-03 8.1160158e-04]\n",
      "[1. 0. 0.] <-> [0.9976647  0.00123338 0.0011019 ]\n",
      "[1. 0. 0.] <-> [0.99783486 0.0011311  0.00103403]\n",
      "[0. 0. 1.] <-> [9.3157124e-03 5.4567703e-05 9.9062973e-01]\n",
      "[1. 0. 0.] <-> [9.9725538e-01 1.9170651e-03 8.2752516e-04]\n",
      "[0. 1. 0.] <-> [6.5814089e-03 9.9336994e-01 4.8638260e-05]\n",
      "[1. 0. 0.] <-> [9.9768102e-01 1.3258894e-03 9.9310733e-04]\n",
      "[1. 0. 0.] <-> [0.9749374  0.00155604 0.02350654]\n",
      "[1. 0. 0.] <-> [0.9968321  0.00117022 0.00199766]\n",
      "[1. 0. 0.] <-> [9.9775523e-01 1.3306193e-03 9.1424305e-04]\n",
      "[1. 0. 0.] <-> [9.9715543e-01 2.0350283e-03 8.0954470e-04]\n",
      "[1. 0. 0.] <-> [9.943973e-01 4.726507e-03 8.762641e-04]\n",
      "[1. 0. 0.] <-> [9.9780232e-01 1.2963089e-03 9.0135669e-04]\n",
      "[0. 1. 0.] <-> [6.4119766e-03 9.9354035e-01 4.7682403e-05]\n",
      "[0. 0. 1.] <-> [0.925199   0.00178112 0.07301988]\n",
      "[1. 0. 0.] <-> [0.99049884 0.00143454 0.00806665]\n",
      "[0. 1. 0.] <-> [6.4172405e-03 9.9353504e-01 4.7714628e-05]\n",
      "[1. 0. 0.] <-> [0.981244   0.01761018 0.00114571]\n",
      "[1. 0. 0.] <-> [0.9019903  0.00173465 0.09627508]\n",
      "[1. 0. 0.] <-> [9.9791712e-01 1.2024775e-03 8.8038703e-04]\n",
      "{'accuracy': 0.9691358024691358, 'mean_square_error': 0.07232444220118885, 'categorical_crossentropy': 0.11840339060182925, 'essential_metrics': {0: {'tp_hit': 76, 'fp_hit': 5, 'tn_hit': 27, 'fn_hit': 0}, 1: {'tp_hit': 14, 'fp_hit': 0, 'tn_hit': 91, 'fn_hit': 3}, 2: {'tp_hit': 13, 'fp_hit': 0, 'tn_hit': 93, 'fn_hit': 2}}}\n"
     ]
    }
   ],
   "source": [
    "# recall phase\n",
    "score = model.evaluate(x_test, y_test, False)\n",
    "print(score)"
   ]
  },
  {
   "cell_type": "code",
   "execution_count": 11,
   "metadata": {},
   "outputs": [
    {
     "data": {
      "image/png": "[encoded data removed]",
      "text/plain": [
       "<Figure size 864x360 with 1 Axes>"
      ]
     },
     "metadata": {
      "needs_background": "light"
     },
     "output_type": "display_data"
    },
    {
     "data": {
      "image/png": "[encoded data removed]",
      "text/plain": [
       "<Figure size 864x360 with 1 Axes>"
      ]
     },
     "metadata": {
      "needs_background": "light"
     },
     "output_type": "display_data"
    }
   ],
   "source": [
    "draw_plot(x = [[i for i in range(len(history))], [(i+1)*breakpoint for i in range(len(checkpoints))]], y_list = [history, [ ckp[model.loss_fn] for ckp in checkpoints ]], x_label = 'Epochs', \\\n",
    "    y_label = model.loss_fn, legend=['train', 'test'])\n",
    "acc = [ ckp['accuracy'] for ckp in checkpoints ]\n",
    "draw_plot(x = [[(i+1)*breakpoint for i in range(len(checkpoints))]], y_list = [acc], x_label = 'Checkpoints', \\\n",
    "    y_label = 'accuracy')"
   ]
  },
  {
   "cell_type": "code",
   "execution_count": 12,
   "metadata": {},
   "outputs": [
    {
     "name": "stdout",
     "output_type": "stream",
     "text": [
      "{'accuracy': 0.9567901234567902, 'mean_square_error': 0.1107616559252082, 'categorical_crossentropy': 0.23339630056310584, 'essential_metrics': {0: {'tp_hit': 74, 'fp_hit': 5, 'tn_hit': 27, 'fn_hit': 2}, 1: {'tp_hit': 14, 'fp_hit': 0, 'tn_hit': 91, 'fn_hit': 3}, 2: {'tp_hit': 13, 'fp_hit': 2, 'tn_hit': 91, 'fn_hit': 2}}, 'checkpoint': 100} \n",
      "\n",
      "\n",
      "{'accuracy': 0.9629629629629629, 'mean_square_error': 0.08738470822822372, 'categorical_crossentropy': 0.14707078757109465, 'essential_metrics': {0: {'tp_hit': 74, 'fp_hit': 4, 'tn_hit': 28, 'fn_hit': 2}, 1: {'tp_hit': 15, 'fp_hit': 0, 'tn_hit': 91, 'fn_hit': 2}, 2: {'tp_hit': 13, 'fp_hit': 2, 'tn_hit': 91, 'fn_hit': 2}}, 'checkpoint': 200} \n",
      "\n",
      "\n",
      "{'accuracy': 0.9691358024691358, 'mean_square_error': 0.07008444371703591, 'categorical_crossentropy': 0.10930829577975804, 'essential_metrics': {0: {'tp_hit': 76, 'fp_hit': 5, 'tn_hit': 27, 'fn_hit': 0}, 1: {'tp_hit': 14, 'fp_hit': 0, 'tn_hit': 91, 'fn_hit': 3}, 2: {'tp_hit': 13, 'fp_hit': 0, 'tn_hit': 93, 'fn_hit': 2}}, 'checkpoint': 300} \n",
      "\n",
      "\n",
      "{'accuracy': 0.9691358024691358, 'mean_square_error': 0.06902926032491231, 'categorical_crossentropy': 0.10929220694082754, 'essential_metrics': {0: {'tp_hit': 76, 'fp_hit': 5, 'tn_hit': 27, 'fn_hit': 0}, 1: {'tp_hit': 14, 'fp_hit': 0, 'tn_hit': 91, 'fn_hit': 3}, 2: {'tp_hit': 13, 'fp_hit': 0, 'tn_hit': 93, 'fn_hit': 2}}, 'checkpoint': 400} \n",
      "\n",
      "\n",
      "{'accuracy': 0.9691358024691358, 'mean_square_error': 0.07232444220118885, 'categorical_crossentropy': 0.11840339060182925, 'essential_metrics': {0: {'tp_hit': 76, 'fp_hit': 5, 'tn_hit': 27, 'fn_hit': 0}, 1: {'tp_hit': 14, 'fp_hit': 0, 'tn_hit': 91, 'fn_hit': 3}, 2: {'tp_hit': 13, 'fp_hit': 0, 'tn_hit': 93, 'fn_hit': 2}}, 'checkpoint': 500} \n",
      "\n",
      "\n"
     ]
    }
   ],
   "source": [
    "for checkpoint in checkpoints:\n",
    "    print(checkpoint, '\\n\\n')"
   ]
  },
  {
   "cell_type": "code",
   "execution_count": 13,
   "metadata": {},
   "outputs": [
    {
     "name": "stdout",
     "output_type": "stream",
     "text": [
      "Layer 1\n",
      "Neuron 0: weights:\n",
      "[-1.9493881  3.         1.8688213  1.5584496 -1.1873394]\n",
      " bias: -3.0\n",
      "\n",
      "Neuron 1: weights:\n",
      "[-1.2396221  3.         1.3627356 -3.        -1.0188107]\n",
      " bias: 3.0\n",
      "\n",
      "Neuron 2: weights:\n",
      "[ 1.9936216 -3.        -3.        -3.         1.4705018]\n",
      " bias: 3.0\n",
      "\n",
      "Neuron 3: weights:\n",
      "[ 1.1925751 -3.        -1.1873633  3.         1.2406806]\n",
      " bias: -3.0\n",
      "\n",
      "$\n",
      "Layer 2\n",
      "Neuron 0: weights:\n",
      "[-3.  3.  3. -3.]\n",
      " bias: 0.5928338766098022\n",
      "\n",
      "Neuron 1: weights:\n",
      "[ 3.         3.        -3.        -1.2613295]\n",
      " bias: -0.3640444576740265\n",
      "\n",
      "Neuron 2: weights:\n",
      "[-3.         -3.          0.53622144  3.        ]\n",
      " bias: 1.6914739608764648\n",
      "\n",
      "$\n",
      "\n"
     ]
    }
   ],
   "source": [
    "print(model)"
   ]
  }
 ],
 "metadata": {
  "kernelspec": {
   "display_name": "Python 3",
   "language": "python",
   "name": "python3"
  },
  "language_info": {
   "codemirror_mode": {
    "name": "ipython",
    "version": 3
   },
   "file_extension": ".py",
   "mimetype": "text/x-python",
   "name": "python",
   "nbconvert_exporter": "python",
   "pygments_lexer": "ipython3",
   "version": "3.6.10"
  }
 },
 "nbformat": 4,
 "nbformat_minor": 2
}
