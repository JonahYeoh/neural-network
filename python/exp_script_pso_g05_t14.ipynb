{
 "cells": [
  {
   "cell_type": "code",
   "execution_count": 1,
   "metadata": {},
   "outputs": [],
   "source": [
    "# dependency\n",
    "import numpy as np\n",
    "import pandas as pd\n",
    "import copy\n",
    "import math\n",
    "import sys\n",
    "import os\n",
    "from activations import relu, leaky_relu, sigmoid, tanh, softmax, d_sigmoid, d_relu\n",
    "from initializers import glorot_uniform, random_normal, random_uniform\n",
    "from regularizers import l1_regularizer, l2_regularizer\n",
    "from utility import trim_tail, multiply, subtract, get_nparams, one_hot_encoding, get_data\n",
    "from metrics import MSE, CCE, ACC, PRECISION, RECALL, essential_metrics, wondering_penalty, close_gap_penalty\n",
    "from pso import PSO\n",
    "from ga import GA\n",
    "from nn import Network\n",
    "from layer import DenseLayer\n",
    "from scalers import MinMaxScaler, StandardScaler"
   ]
  },
  {
   "cell_type": "code",
   "execution_count": 2,
   "metadata": {},
   "outputs": [],
   "source": [
    "# reference\n",
    "metrics_fn_dict = dict()\n",
    "metrics_fn_dict['accuracy'] = ACC\n",
    "metrics_fn_dict['categorical_crossentropy'] = CCE\n",
    "metrics_fn_dict['mean_square_error'] = MSE\n",
    "metrics_fn_dict['precision'] = PRECISION\n",
    "metrics_fn_dict['recall'] = RECALL\n",
    "metrics_fn_dict['essential_metrics'] = essential_metrics"
   ]
  },
  {
   "cell_type": "code",
   "execution_count": 3,
   "metadata": {},
   "outputs": [],
   "source": [
    "# model\n",
    "model = Network(5, lr = None)\n",
    "model.add_layer(DenseLayer(1, 4, True, afn=sigmoid, dafn=None, rfn=None))\n",
    "model.add_layer(DenseLayer(2, 3, True, afn=softmax, dafn=None, rfn=None))"
   ]
  },
  {
   "cell_type": "code",
   "execution_count": 4,
   "metadata": {},
   "outputs": [
    {
     "name": "stdout",
     "output_type": "stream",
     "text": [
      "see one see two 2 2\n"
     ]
    }
   ],
   "source": [
    "pso = PSO(dict(m = 50,\n",
    "    weight_constraint = [-3, 3], \n",
    "    velocity_constraint = [-0.1, 0.1],\n",
    "    c1 = 2,\n",
    "    c2 = 2,\n",
    "    w = 0.8,\n",
    "    w_decay = 1,\n",
    "    scale_hyperparameter = False,\n",
    "    regularizer = None,\n",
    "    mask = True))"
   ]
  },
  {
   "cell_type": "code",
   "execution_count": 5,
   "metadata": {},
   "outputs": [
    {
     "name": "stdout",
     "output_type": "stream",
     "text": [
      "building layer 1 with 5\n",
      "24\n",
      "building layer 2 with 4\n",
      "15\n"
     ]
    }
   ],
   "source": [
    "model.compile(loss_fn = 'categorical_crossentropy', optimizer = pso, \\\n",
    "    metrics = ['accuracy', 'mean_square_error', 'categorical_crossentropy'])"
   ]
  },
  {
   "cell_type": "code",
   "execution_count": 6,
   "metadata": {},
   "outputs": [
    {
     "name": "stdout",
     "output_type": "stream",
     "text": [
      "<class 'pandas.core.frame.DataFrame'>\n",
      "RangeIndex: 107 entries, 0 to 106\n",
      "Data columns (total 6 columns):\n",
      " #   Column  Non-Null Count  Dtype  \n",
      "---  ------  --------------  -----  \n",
      " 0   f1      107 non-null    float32\n",
      " 1   f2      107 non-null    float32\n",
      " 2   f3      107 non-null    float32\n",
      " 3   f4      107 non-null    float32\n",
      " 4   f5      107 non-null    float32\n",
      " 5   label   107 non-null    float32\n",
      "dtypes: float32(6)\n",
      "memory usage: 2.6 KB\n",
      "None\n",
      "<class 'pandas.core.frame.DataFrame'>\n",
      "RangeIndex: 108 entries, 0 to 107\n",
      "Data columns (total 6 columns):\n",
      " #   Column  Non-Null Count  Dtype  \n",
      "---  ------  --------------  -----  \n",
      " 0   f1      108 non-null    float32\n",
      " 1   f2      108 non-null    float32\n",
      " 2   f3      108 non-null    float32\n",
      " 3   f4      108 non-null    float32\n",
      " 4   f5      108 non-null    float32\n",
      " 5   label   108 non-null    float32\n",
      "dtypes: float32(6)\n",
      "memory usage: 2.7 KB\n",
      "None\n"
     ]
    }
   ],
   "source": [
    "# data loading\n",
    "DATA = os.path.join('c:\\\\Users\\\\tcumi\\\\github_repo\\\\neural-network\\\\', 'dataset')\n",
    "GROUP = 5\n",
    "COLUMNS = ['f1', 'f2', 'f3', 'f4', 'f5', 'label']\n",
    "N_CLASS = 3\n",
    "EPOCHS = 500\n",
    "train_dir, test_dir = \"..//dataset//training_data{}.txt\".format(GROUP), \"..//dataset//testing_data{}.txt\".format(GROUP)\n",
    "train, test = get_data(DATA, train_dir, COLUMNS), get_data(DATA, test_dir, COLUMNS)\n",
    "# shuffle\n",
    "train, test = train.sample(frac=1), test.sample(frac=1)\n",
    "x_train, y_train = train.drop('label', axis=1), train['label']\n",
    "x_test, y_test = test.drop('label', axis=1), test['label']"
   ]
  },
  {
   "cell_type": "code",
   "execution_count": 7,
   "metadata": {},
   "outputs": [],
   "source": [
    "# data scaling and encoding\n",
    "scaler = StandardScaler(['f1', 'f2', 'f3', 'f4', 'f5'])\n",
    "scaler.fit(x_train)\n",
    "x_train = scaler.transform(x_train)\n",
    "x_test = scaler.transform(x_test)\n",
    "y_train = one_hot_encoding(y_train, N_CLASS)\n",
    "y_test = one_hot_encoding(y_test, N_CLASS)"
   ]
  },
  {
   "cell_type": "code",
   "execution_count": 8,
   "metadata": {
    "tags": [
     "outputPrepend"
    ]
   },
   "outputs": [
    {
     "name": "stdout",
     "output_type": "stream",
     "text": [
      "Checkpoint 100, Accuracy: 0.9629629629629629, Loss: 0.1525021129184299\n",
      "Checkpoint 200, Accuracy: 0.9691358024691358, Loss: 0.11003211692527488\n",
      "Checkpoint 300, Accuracy: 0.9691358024691358, Loss: 0.11130434495431406\n",
      "Checkpoint 400, Accuracy: 0.9691358024691358, Loss: 0.1029138653366654\n",
      "Checkpoint 500, Accuracy: 0.9691358024691358, Loss: 0.10687918133205837\n"
     ]
    }
   ],
   "source": [
    "# learning phase\n",
    "breakpoint = 100\n",
    "checkpoints = list()\n",
    "history = list()\n",
    "for century in range(0, EPOCHS, breakpoint):\n",
    "    sub_history = model.fit(x_train, y_train, breakpoint, verbose = 0)\n",
    "    score = model.evaluate(x_test, y_test, False, verbose = 0)\n",
    "    print('Checkpoint {}, Accuracy: {}, Loss: {}'.format(century+breakpoint, score['accuracy'], score[model.loss_fn]))\n",
    "    score['checkpoint'] = century + breakpoint\n",
    "    checkpoints.append(score)\n",
    "    history.extend(sub_history)"
   ]
  },
  {
   "cell_type": "code",
   "execution_count": 9,
   "metadata": {},
   "outputs": [],
   "source": [
    "import matplotlib.pyplot as plt\n",
    "\n",
    "def draw_plot(x, y_list, x_label=None, y_label=None, legend=None, title=None):\n",
    "    fig, ax = plt.subplots(figsize=(12,5))\n",
    "    for xi, yi in zip(x, y_list):\n",
    "        ax.plot(xi, yi)\n",
    "    if x_label is not None and y_label is not None:\n",
    "        ax.set(xlabel=x_label, ylabel=y_label, title='{} VS {}'.format(x_label, y_label))\n",
    "    if legend is not None:\n",
    "        ax.legend(legend)\n",
    "    ax.grid()\n",
    "    plt.show()"
   ]
  },
  {
   "cell_type": "code",
   "execution_count": 10,
   "metadata": {},
   "outputs": [
    {
     "name": "stdout",
     "output_type": "stream",
     "text": [
      "[1. 0. 0.] <-> [0.7740167  0.00152156 0.22446176]\n",
      "[1. 0. 0.] <-> [0.95990324 0.00146405 0.03863277]\n",
      "[1. 0. 0.] <-> [9.9802363e-01 1.1695796e-03 8.0678245e-04]\n",
      "[0. 0. 1.] <-> [1.0359567e-02 4.2628119e-05 9.8959780e-01]\n",
      "[0. 1. 0.] <-> [6.976692e-03 9.929416e-01 8.170799e-05]\n",
      "[1. 0. 0.] <-> [9.9802172e-01 1.1319937e-03 8.4620860e-04]\n",
      "[1. 0. 0.] <-> [9.9805307e-01 1.1875015e-03 7.5938762e-04]\n",
      "[1. 0. 0.] <-> [9.9809128e-01 1.0219313e-03 8.8674977e-04]\n",
      "[1. 0. 0.] <-> [0.95837843 0.00149535 0.04012617]\n",
      "[0. 0. 1.] <-> [1.1304862e-01 3.2972003e-04 8.8662171e-01]\n",
      "[0. 1. 0.] <-> [7.227444e-03 9.926886e-01 8.392329e-05]\n",
      "[1. 0. 0.] <-> [0.58592767 0.00127841 0.4127939 ]\n",
      "[0. 0. 1.] <-> [1.0356781e-02 4.2617630e-05 9.8960060e-01]\n",
      "[1. 0. 0.] <-> [0.9854585  0.00131786 0.01322363]\n",
      "[0. 1. 0.] <-> [6.976665e-03 9.929416e-01 8.170768e-05]\n",
      "[1. 0. 0.] <-> [0.9976223  0.00100203 0.00137566]\n",
      "[1. 0. 0.] <-> [0.97567785 0.00140238 0.0229198 ]\n",
      "[1. 0. 0.] <-> [0.9973278  0.00117278 0.00149948]\n",
      "[0. 0. 1.] <-> [0.89094687 0.00154537 0.10750781]\n",
      "[1. 0. 0.] <-> [0.9955284  0.0011553  0.00331632]\n",
      "[1. 0. 0.] <-> [9.9803823e-01 1.1987393e-03 7.6303695e-04]\n",
      "[1. 0. 0.] <-> [9.9807298e-01 1.0940005e-03 8.3299476e-04]\n",
      "[1. 0. 0.] <-> [9.9723464e-01 1.9466626e-03 8.1871659e-04]\n",
      "[0. 0. 1.] <-> [1.0344872e-02 4.2661890e-05 9.8961240e-01]\n",
      "[1. 0. 0.] <-> [9.9806851e-01 1.0841476e-03 8.4737968e-04]\n",
      "[1. 0. 0.] <-> [0.99718153 0.00177198 0.00104659]\n",
      "[1. 0. 0.] <-> [9.9725610e-01 1.9910540e-03 7.5288065e-04]\n",
      "[0. 0. 1.] <-> [1.0350728e-02 4.2607448e-05 9.8960668e-01]\n",
      "[1. 0. 0.] <-> [9.9773467e-01 1.3372299e-03 9.2812447e-04]\n",
      "[1. 0. 0.] <-> [9.9807215e-01 1.1127595e-03 8.1499934e-04]\n",
      "[1. 0. 0.] <-> [0.9977755  0.00117957 0.00104496]\n",
      "[0. 0. 1.] <-> [1.0351690e-02 4.2600175e-05 9.8960578e-01]\n",
      "[1. 0. 0.] <-> [9.9804783e-01 1.0441293e-03 9.0806186e-04]\n",
      "[1. 0. 0.] <-> [9.977064e-01 1.555014e-03 7.385482e-04]\n",
      "[1. 0. 0.] <-> [9.9773055e-01 1.2955879e-03 9.7389513e-04]\n",
      "[0. 1. 0.] <-> [1.0375823e-01 8.9564008e-01 6.0167222e-04]\n",
      "[1. 0. 0.] <-> [0.9953035  0.00113006 0.00356651]\n",
      "[0. 1. 0.] <-> [4.2850193e-02 9.5683271e-01 3.1704427e-04]\n",
      "[1. 0. 0.] <-> [0.98655546 0.00130595 0.01213869]\n",
      "[1. 0. 0.] <-> [0.9977088  0.00117045 0.00112076]\n",
      "[1. 0. 0.] <-> [0.99667054 0.0010695  0.00225989]\n",
      "[1. 0. 0.] <-> [9.9806470e-01 1.2264387e-03 7.0884591e-04]\n",
      "[1. 0. 0.] <-> [0.99763703 0.00103444 0.00132851]\n",
      "[1. 0. 0.] <-> [0.6310105  0.00129845 0.36769107]\n",
      "[0. 1. 0.] <-> [1.4028552e-02 9.8583537e-01 1.3613403e-04]\n",
      "[1. 0. 0.] <-> [9.9771714e-01 1.5128960e-03 7.6997926e-04]\n",
      "[1. 0. 0.] <-> [0.9974953  0.00101703 0.0014877 ]\n",
      "[1. 0. 0.] <-> [0.97617924 0.00138806 0.02243268]\n",
      "[1. 0. 0.] <-> [0.99796176 0.00103869 0.00099961]\n",
      "[1. 0. 0.] <-> [0.99099934 0.00122849 0.00777218]\n",
      "[0. 1. 0.] <-> [7.139021e-03 9.927779e-01 8.311804e-05]\n",
      "[1. 0. 0.] <-> [9.9805140e-01 1.1430199e-03 8.0557208e-04]\n",
      "[0. 0. 1.] <-> [1.0375490e-02 4.2686333e-05 9.8958182e-01]\n",
      "[0. 1. 0.] <-> [6.9829873e-03 9.9293524e-01 8.1763901e-05]\n",
      "[1. 0. 0.] <-> [0.99592495 0.00109773 0.00297732]\n",
      "[0. 1. 0.] <-> [0.25136685 0.7475412  0.00109201]\n",
      "[1. 0. 0.] <-> [0.997783   0.00104471 0.00117237]\n",
      "[1. 0. 0.] <-> [9.9547440e-01 3.5909021e-03 9.3464623e-04]\n",
      "[1. 0. 0.] <-> [0.9713368  0.0272693  0.00139394]\n",
      "[0. 0. 1.] <-> [0.9198366  0.00153792 0.07862549]\n",
      "[0. 0. 1.] <-> [9.9767782e-03 4.5125318e-05 9.8997808e-01]\n",
      "[1. 0. 0.] <-> [9.9805200e-01 1.0454821e-03 9.0261246e-04]\n",
      "[1. 0. 0.] <-> [0.9974094  0.00106593 0.00152461]\n",
      "[1. 0. 0.] <-> [9.9822479e-01 1.0610042e-03 7.1424758e-04]\n",
      "[1. 0. 0.] <-> [9.964484e-01 2.771823e-03 7.796718e-04]\n",
      "[0. 0. 1.] <-> [1.0351783e-02 4.2600819e-05 9.8960567e-01]\n",
      "[0. 0. 1.] <-> [1.0359005e-02 4.2638712e-05 9.8959839e-01]\n",
      "[1. 0. 0.] <-> [9.9814403e-01 1.1326072e-03 7.2329311e-04]\n",
      "[1. 0. 0.] <-> [0.99710673 0.00103707 0.00185619]\n",
      "[1. 0. 0.] <-> [0.91145587 0.00157018 0.0869739 ]\n",
      "[1. 0. 0.] <-> [9.9797946e-01 1.0947423e-03 9.2581782e-04]\n",
      "[0. 1. 0.] <-> [0.7498046  0.24827935 0.00191605]\n",
      "[0. 1. 0.] <-> [6.976672e-03 9.929416e-01 8.170783e-05]\n",
      "[1. 0. 0.] <-> [9.9812824e-01 1.0563569e-03 8.1542879e-04]\n",
      "[1. 0. 0.] <-> [9.9802727e-01 1.1874742e-03 7.8520307e-04]\n",
      "[0. 1. 0.] <-> [0.6053108  0.39292234 0.00176685]\n",
      "[1. 0. 0.] <-> [0.99714404 0.00105619 0.00179977]\n",
      "[1. 0. 0.] <-> [0.99514174 0.00116091 0.0036973 ]\n",
      "[1. 0. 0.] <-> [0.9977513  0.00107989 0.00116885]\n",
      "[0. 1. 0.] <-> [6.976784e-03 9.929415e-01 8.170884e-05]\n",
      "[0. 0. 1.] <-> [1.0348847e-02 4.2618864e-05 9.8960859e-01]\n",
      "[1. 0. 0.] <-> [9.9537283e-01 3.7575723e-03 8.6965912e-04]\n",
      "[1. 0. 0.] <-> [9.9809092e-01 1.0086221e-03 9.0041826e-04]\n",
      "[1. 0. 0.] <-> [0.9818331  0.01696323 0.0012037 ]\n",
      "[1. 0. 0.] <-> [9.9795794e-01 1.3367009e-03 7.0537662e-04]\n",
      "[1. 0. 0.] <-> [0.9604851  0.00147987 0.03803496]\n",
      "[1. 0. 0.] <-> [0.9753082  0.00140247 0.02328928]\n",
      "[0. 1. 0.] <-> [6.9766752e-03 9.9294162e-01 8.1707833e-05]\n",
      "[0. 0. 1.] <-> [1.0392076e-02 4.2752348e-05 9.8956513e-01]\n",
      "[0. 1. 0.] <-> [6.9766818e-03 9.9294162e-01 8.1707833e-05]\n",
      "[1. 0. 0.] <-> [0.99254686 0.0012053  0.00624785]\n",
      "[1. 0. 0.] <-> [9.9800843e-01 1.0313421e-03 9.6018217e-04]\n",
      "[1. 0. 0.] <-> [9.9753916e-01 1.6111475e-03 8.4964605e-04]\n",
      "[0. 1. 0.] <-> [1.6653491e-02 9.8319304e-01 1.5344453e-04]\n",
      "[1. 0. 0.] <-> [9.9791640e-01 1.2348786e-03 8.4865483e-04]\n",
      "[1. 0. 0.] <-> [0.9904661  0.00126507 0.00826892]\n",
      "[0. 0. 1.] <-> [8.1161745e-03 6.2439307e-05 9.9182135e-01]\n",
      "[1. 0. 0.] <-> [0.99326986 0.00117367 0.0055565 ]\n",
      "[1. 0. 0.] <-> [9.9684000e-01 2.3331919e-03 8.2684687e-04]\n",
      "[1. 0. 0.] <-> [0.99675083 0.00109405 0.00215522]\n",
      "[1. 0. 0.] <-> [9.9746621e-01 1.7407851e-03 7.9302612e-04]\n",
      "[1. 0. 0.] <-> [0.9976624  0.00103591 0.00130175]\n",
      "[0. 1. 0.] <-> [0.7673849 0.2307528 0.0018623]\n",
      "[1. 0. 0.] <-> [0.67778546 0.0014342  0.32078037]\n",
      "[1. 0. 0.] <-> [0.99781126 0.00102118 0.00116755]\n",
      "[1. 0. 0.] <-> [9.9787152e-01 1.4174595e-03 7.1101083e-04]\n",
      "[1. 0. 0.] <-> [0.9949957  0.00112466 0.00387962]\n",
      "[1. 0. 0.] <-> [0.9916916  0.00136619 0.00694228]\n",
      "{'accuracy': 0.9691358024691358, 'mean_square_error': 0.06911333655798281, 'categorical_crossentropy': 0.10687918133205837, 'essential_metrics': {0: {'tp_hit': 76, 'fp_hit': 5, 'tn_hit': 27, 'fn_hit': 0}, 1: {'tp_hit': 14, 'fp_hit': 0, 'tn_hit': 91, 'fn_hit': 3}, 2: {'tp_hit': 13, 'fp_hit': 0, 'tn_hit': 93, 'fn_hit': 2}}}\n"
     ]
    }
   ],
   "source": [
    "# recall phase\n",
    "score = model.evaluate(x_test, y_test, False)\n",
    "print(score)"
   ]
  },
  {
   "cell_type": "code",
   "execution_count": 11,
   "metadata": {},
   "outputs": [
    {
     "data": {
      "image/png": "[encoded data removed]",
      "text/plain": [
       "<Figure size 864x360 with 1 Axes>"
      ]
     },
     "metadata": {
      "needs_background": "light"
     },
     "output_type": "display_data"
    },
    {
     "data": {
      "image/png": "[encoded data removed]",
      "text/plain": [
       "<Figure size 864x360 with 1 Axes>"
      ]
     },
     "metadata": {
      "needs_background": "light"
     },
     "output_type": "display_data"
    }
   ],
   "source": [
    "draw_plot(x = [[i for i in range(len(history))], [(i+1)*breakpoint for i in range(len(checkpoints))]], y_list = [history, [ ckp[model.loss_fn] for ckp in checkpoints ]], x_label = 'Epochs', \\\n",
    "    y_label = model.loss_fn, legend=['train', 'test'])\n",
    "acc = [ ckp['accuracy'] for ckp in checkpoints ]\n",
    "draw_plot(x = [[(i+1)*breakpoint for i in range(len(checkpoints))]], y_list = [acc], x_label = 'Checkpoints', \\\n",
    "    y_label = 'accuracy')"
   ]
  },
  {
   "cell_type": "code",
   "execution_count": 12,
   "metadata": {},
   "outputs": [
    {
     "name": "stdout",
     "output_type": "stream",
     "text": [
      "{'accuracy': 0.9629629629629629, 'mean_square_error': 0.0732648074692053, 'categorical_crossentropy': 0.1525021129184299, 'essential_metrics': {0: {'tp_hit': 75, 'fp_hit': 5, 'tn_hit': 27, 'fn_hit': 1}, 1: {'tp_hit': 15, 'fp_hit': 0, 'tn_hit': 91, 'fn_hit': 2}, 2: {'tp_hit': 12, 'fp_hit': 1, 'tn_hit': 92, 'fn_hit': 3}}, 'checkpoint': 100} \n",
      "\n",
      "\n",
      "{'accuracy': 0.9691358024691358, 'mean_square_error': 0.07183723093315375, 'categorical_crossentropy': 0.11003211692527488, 'essential_metrics': {0: {'tp_hit': 76, 'fp_hit': 5, 'tn_hit': 27, 'fn_hit': 0}, 1: {'tp_hit': 14, 'fp_hit': 0, 'tn_hit': 91, 'fn_hit': 3}, 2: {'tp_hit': 13, 'fp_hit': 0, 'tn_hit': 93, 'fn_hit': 2}}, 'checkpoint': 200} \n",
      "\n",
      "\n",
      "{'accuracy': 0.9691358024691358, 'mean_square_error': 0.0715804018720148, 'categorical_crossentropy': 0.11130434495431406, 'essential_metrics': {0: {'tp_hit': 76, 'fp_hit': 5, 'tn_hit': 27, 'fn_hit': 0}, 1: {'tp_hit': 14, 'fp_hit': 0, 'tn_hit': 91, 'fn_hit': 3}, 2: {'tp_hit': 13, 'fp_hit': 0, 'tn_hit': 93, 'fn_hit': 2}}, 'checkpoint': 300} \n",
      "\n",
      "\n",
      "{'accuracy': 0.9691358024691358, 'mean_square_error': 0.06667770089827638, 'categorical_crossentropy': 0.1029138653366654, 'essential_metrics': {0: {'tp_hit': 76, 'fp_hit': 5, 'tn_hit': 27, 'fn_hit': 0}, 1: {'tp_hit': 14, 'fp_hit': 0, 'tn_hit': 91, 'fn_hit': 3}, 2: {'tp_hit': 13, 'fp_hit': 0, 'tn_hit': 93, 'fn_hit': 2}}, 'checkpoint': 400} \n",
      "\n",
      "\n",
      "{'accuracy': 0.9691358024691358, 'mean_square_error': 0.06911333655798281, 'categorical_crossentropy': 0.10687918133205837, 'essential_metrics': {0: {'tp_hit': 76, 'fp_hit': 5, 'tn_hit': 27, 'fn_hit': 0}, 1: {'tp_hit': 14, 'fp_hit': 0, 'tn_hit': 91, 'fn_hit': 3}, 2: {'tp_hit': 13, 'fp_hit': 0, 'tn_hit': 93, 'fn_hit': 2}}, 'checkpoint': 500} \n",
      "\n",
      "\n"
     ]
    }
   ],
   "source": [
    "for checkpoint in checkpoints:\n",
    "    print(checkpoint, '\\n\\n')"
   ]
  },
  {
   "cell_type": "code",
   "execution_count": 13,
   "metadata": {},
   "outputs": [
    {
     "name": "stdout",
     "output_type": "stream",
     "text": [
      "Layer 1\n",
      "Neuron 0: weights:\n",
      "[-1.1884123  3.         1.3109432 -3.        -1.3275436]\n",
      " bias: 3.0\n",
      "\n",
      "Neuron 1: weights:\n",
      "[ 1.2093395 -3.        -1.3616667  3.         1.1586012]\n",
      " bias: -3.0\n",
      "\n",
      "Neuron 2: weights:\n",
      "[ 1.8193511  -3.         -3.         -1.1604751   0.81689715]\n",
      " bias: 3.0\n",
      "\n",
      "Neuron 3: weights:\n",
      "[ 1.8881973 -3.        -3.        -3.         1.5029608]\n",
      " bias: 3.0\n",
      "\n",
      "$\n",
      "Layer 2\n",
      "Neuron 0: weights:\n",
      "[ 3. -3.  3.  3.]\n",
      " bias: -3.0\n",
      "\n",
      "Neuron 1: weights:\n",
      "[ 3.        -1.4511527 -3.        -3.       ]\n",
      " bias: 1.95810067653656\n",
      "\n",
      "Neuron 2: weights:\n",
      "[-3.         3.         2.3750992  0.6322367]\n",
      " bias: -1.4471778869628906\n",
      "\n",
      "$\n",
      "\n"
     ]
    }
   ],
   "source": [
    "print(model)"
   ]
  }
 ],
 "metadata": {
  "kernelspec": {
   "display_name": "Python 3",
   "language": "python",
   "name": "python3"
  },
  "language_info": {
   "codemirror_mode": {
    "name": "ipython",
    "version": 3
   },
   "file_extension": ".py",
   "mimetype": "text/x-python",
   "name": "python",
   "nbconvert_exporter": "python",
   "pygments_lexer": "ipython3",
   "version": "3.6.10"
  }
 },
 "nbformat": 4,
 "nbformat_minor": 2
}
