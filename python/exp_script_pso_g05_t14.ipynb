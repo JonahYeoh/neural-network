{
 "cells": [
  {
   "cell_type": "code",
   "execution_count": 1,
   "metadata": {},
   "outputs": [],
   "source": [
    "# dependency\n",
    "import numpy as np\n",
    "import pandas as pd\n",
    "import copy\n",
    "import math\n",
    "import sys\n",
    "import os\n",
    "from activations import relu, leaky_relu, sigmoid, tanh, softmax, d_sigmoid, d_relu\n",
    "from initializers import glorot_uniform, random_normal, random_uniform\n",
    "from regularizers import l1_regularizer, l2_regularizer\n",
    "from utility import trim_tail, multiply, subtract, get_nparams, one_hot_encoding, get_data\n",
    "from metrics import MSE, CCE, ACC, PRECISION, RECALL, essential_metrics, wondering_penalty, close_gap_penalty\n",
    "from pso import PSO\n",
    "from ga import GA\n",
    "from nn import Network\n",
    "from layer import DenseLayer\n",
    "from scalers import MinMaxScaler, StandardScaler"
   ]
  },
  {
   "cell_type": "code",
   "execution_count": 2,
   "metadata": {},
   "outputs": [],
   "source": [
    "# reference\n",
    "metrics_fn_dict = dict()\n",
    "metrics_fn_dict['accuracy'] = ACC\n",
    "metrics_fn_dict['categorical_crossentropy'] = CCE\n",
    "metrics_fn_dict['mean_square_error'] = MSE\n",
    "metrics_fn_dict['precision'] = PRECISION\n",
    "metrics_fn_dict['recall'] = RECALL\n",
    "metrics_fn_dict['essential_metrics'] = essential_metrics"
   ]
  },
  {
   "cell_type": "code",
   "execution_count": 3,
   "metadata": {},
   "outputs": [],
   "source": [
    "# model\n",
    "model = Network(5, lr = None)\n",
    "model.add_layer(DenseLayer(1, 4, True, afn=sigmoid, dafn=None, rfn=None))\n",
    "model.add_layer(DenseLayer(2, 3, True, afn=softmax, dafn=None, rfn=None))"
   ]
  },
  {
   "cell_type": "code",
   "execution_count": 4,
   "metadata": {},
   "outputs": [
    {
     "name": "stdout",
     "output_type": "stream",
     "text": [
      "see one see two 2 2\n"
     ]
    }
   ],
   "source": [
    "pso = PSO(dict(m = 200,\n",
    "    weight_constraint = [-3, 3], \n",
    "    velocity_constraint = [-0.1, 0.1],\n",
    "    c1 = 2,\n",
    "    c2 = 2,\n",
    "    w = 1.2,\n",
    "    w_decay = 1,\n",
    "    scale_hyperparameter = False,\n",
    "    regularizer = None,\n",
    "    mask = True))"
   ]
  },
  {
   "cell_type": "code",
   "execution_count": 5,
   "metadata": {},
   "outputs": [
    {
     "name": "stdout",
     "output_type": "stream",
     "text": [
      "building layer 1 with 5\n",
      "24\n",
      "building layer 2 with 4\n",
      "15\n"
     ]
    }
   ],
   "source": [
    "model.compile(loss_fn = 'categorical_crossentropy', optimizer = pso, \\\n",
    "    metrics = ['accuracy', 'mean_square_error', 'categorical_crossentropy'])"
   ]
  },
  {
   "cell_type": "code",
   "execution_count": 6,
   "metadata": {},
   "outputs": [
    {
     "name": "stdout",
     "output_type": "stream",
     "text": [
      "<class 'pandas.core.frame.DataFrame'>\n",
      "RangeIndex: 107 entries, 0 to 106\n",
      "Data columns (total 6 columns):\n",
      " #   Column  Non-Null Count  Dtype  \n",
      "---  ------  --------------  -----  \n",
      " 0   f1      107 non-null    float32\n",
      " 1   f2      107 non-null    float32\n",
      " 2   f3      107 non-null    float32\n",
      " 3   f4      107 non-null    float32\n",
      " 4   f5      107 non-null    float32\n",
      " 5   label   107 non-null    float32\n",
      "dtypes: float32(6)\n",
      "memory usage: 2.6 KB\n",
      "None\n",
      "<class 'pandas.core.frame.DataFrame'>\n",
      "RangeIndex: 108 entries, 0 to 107\n",
      "Data columns (total 6 columns):\n",
      " #   Column  Non-Null Count  Dtype  \n",
      "---  ------  --------------  -----  \n",
      " 0   f1      108 non-null    float32\n",
      " 1   f2      108 non-null    float32\n",
      " 2   f3      108 non-null    float32\n",
      " 3   f4      108 non-null    float32\n",
      " 4   f5      108 non-null    float32\n",
      " 5   label   108 non-null    float32\n",
      "dtypes: float32(6)\n",
      "memory usage: 2.7 KB\n",
      "None\n"
     ]
    }
   ],
   "source": [
    "# data loading\n",
    "DATA = os.path.join('c:\\\\Users\\\\AI-lab\\\\github_repo\\\\neural-network\\\\', 'dataset')\n",
    "GROUP = 5\n",
    "COLUMNS = ['f1', 'f2', 'f3', 'f4', 'f5', 'label']\n",
    "N_CLASS = 3\n",
    "EPOCHS = 200\n",
    "train_dir, test_dir = \"..//dataset//training_data{}.txt\".format(GROUP), \"..//dataset//testing_data{}.txt\".format(GROUP)\n",
    "train, test = get_data(DATA, train_dir, COLUMNS), get_data(DATA, test_dir, COLUMNS)\n",
    "# shuffle\n",
    "train, test = train.sample(frac=1), test.sample(frac=1)\n",
    "x_train, y_train = train.drop('label', axis=1), train['label']\n",
    "x_test, y_test = test.drop('label', axis=1), test['label']"
   ]
  },
  {
   "cell_type": "code",
   "execution_count": 7,
   "metadata": {},
   "outputs": [],
   "source": [
    "# data scaling and encoding\n",
    "scaler = StandardScaler(['f1', 'f2', 'f3', 'f4', 'f5'])\n",
    "scaler.fit(x_train)\n",
    "x_train = scaler.transform(x_train)\n",
    "x_test = scaler.transform(x_test)\n",
    "y_train = one_hot_encoding(y_train, N_CLASS)\n",
    "y_test = one_hot_encoding(y_test, N_CLASS)"
   ]
  },
  {
   "cell_type": "code",
   "execution_count": 8,
   "metadata": {
    "tags": [
     "outputPrepend"
    ]
   },
   "outputs": [
    {
     "name": "stdout",
     "output_type": "stream",
     "text": [
      "Checkpoint 10, Accuracy: 0.8333333333333334, Loss: 0.5849814238371672\n",
      "Checkpoint 20, Accuracy: 0.9012345679012346, Loss: 0.4608024314597801\n",
      "Checkpoint 30, Accuracy: 0.8888888888888888, Loss: 0.3840892933033131\n",
      "Checkpoint 40, Accuracy: 0.9506172839506173, Loss: 0.2971467971801758\n",
      "Checkpoint 50, Accuracy: 0.9506172839506173, Loss: 0.29978783925374347\n",
      "Checkpoint 60, Accuracy: 0.9135802469135802, Loss: 0.27998118930392796\n",
      "Checkpoint 70, Accuracy: 0.9074074074074074, Loss: 0.25789128409491646\n",
      "Checkpoint 80, Accuracy: 0.9629629629629629, Loss: 0.1959202731097186\n",
      "Checkpoint 90, Accuracy: 0.9506172839506173, Loss: 0.1871278197677047\n",
      "Checkpoint 100, Accuracy: 0.9691358024691358, Loss: 0.15083463103682906\n",
      "Checkpoint 110, Accuracy: 0.9629629629629629, Loss: 0.13961880295364945\n",
      "Checkpoint 120, Accuracy: 0.9691358024691358, Loss: 0.135145867312396\n",
      "Checkpoint 130, Accuracy: 0.9753086419753086, Loss: 0.11593937873840332\n",
      "Checkpoint 140, Accuracy: 0.9753086419753086, Loss: 0.10618580712212457\n",
      "Checkpoint 150, Accuracy: 0.9629629629629629, Loss: 0.12267049153645833\n",
      "Checkpoint 160, Accuracy: 0.9567901234567902, Loss: 0.14263248443603516\n",
      "Checkpoint 170, Accuracy: 0.9567901234567902, Loss: 0.11538121435377333\n",
      "Checkpoint 180, Accuracy: 0.9629629629629629, Loss: 0.09850459628634983\n",
      "Checkpoint 190, Accuracy: 0.9567901234567902, Loss: 0.10308676295810276\n",
      "Checkpoint 200, Accuracy: 0.9753086419753086, Loss: 0.10281871866296839\n"
     ]
    }
   ],
   "source": [
    "# learning phase\n",
    "breakpoint = 10\n",
    "checkpoints = list()\n",
    "history = list()\n",
    "for century in range(0, EPOCHS, breakpoint):\n",
    "    sub_history = model.fit(x_train, y_train, breakpoint, verbose = 0)\n",
    "    score = model.evaluate(x_test, y_test, False, verbose = 0)\n",
    "    print('Checkpoint {}, Accuracy: {}, Loss: {}'.format(century+breakpoint, score['accuracy'], score[model.loss_fn]))\n",
    "    score['checkpoint'] = century + breakpoint\n",
    "    checkpoints.append(score)\n",
    "    history.extend(sub_history)"
   ]
  },
  {
   "cell_type": "code",
   "execution_count": 9,
   "metadata": {},
   "outputs": [],
   "source": [
    "import matplotlib.pyplot as plt\n",
    "\n",
    "def draw_plot(x, y_list, x_label=None, y_label=None, legend=None, title=None):\n",
    "    fig, ax = plt.subplots(figsize=(12,5))\n",
    "    for xi, yi in zip(x, y_list):\n",
    "        ax.plot(xi, yi)\n",
    "    if x_label is not None and y_label is not None:\n",
    "        ax.set(xlabel=x_label, ylabel=y_label, title='{} VS {}'.format(x_label, y_label))\n",
    "    if legend is not None:\n",
    "        ax.legend(legend)\n",
    "    ax.grid()\n",
    "    plt.show()"
   ]
  },
  {
   "cell_type": "code",
   "execution_count": 10,
   "metadata": {},
   "outputs": [
    {
     "name": "stdout",
     "output_type": "stream",
     "text": [
      "[0. 1. 0.] <-> [0.14169963 0.85603476 0.00226569]\n",
      "[0. 1. 0.] <-> [7.2422465e-03 9.9248308e-01 2.7469374e-04]\n",
      "[1. 0. 0.] <-> [0.9954346  0.00128963 0.00327571]\n",
      "[1. 0. 0.] <-> [0.9943921  0.00117379 0.00443416]\n",
      "[1. 0. 0.] <-> [0.9892847  0.001144   0.00957122]\n",
      "[1. 0. 0.] <-> [0.98806363 0.00184735 0.01008903]\n",
      "[1. 0. 0.] <-> [0.97955245 0.01730873 0.0031388 ]\n",
      "[1. 0. 0.] <-> [0.87648755 0.0027188  0.1207936 ]\n",
      "[1. 0. 0.] <-> [0.9970938  0.00121849 0.00168773]\n",
      "[1. 0. 0.] <-> [0.9968143  0.00134896 0.00183673]\n",
      "[1. 0. 0.] <-> [0.9966929  0.0016373  0.00166982]\n",
      "[0. 1. 0.] <-> [7.242236e-03 9.924831e-01 2.746927e-04]\n",
      "[0. 0. 1.] <-> [5.2541532e-03 6.3222763e-04 9.9411362e-01]\n",
      "[1. 0. 0.] <-> [0.9956462  0.00161316 0.00274069]\n",
      "[0. 0. 1.] <-> [0.40710402 0.00217736 0.5907187 ]\n",
      "[1. 0. 0.] <-> [0.99476904 0.00100564 0.00422528]\n",
      "[1. 0. 0.] <-> [0.99633235 0.00151865 0.00214908]\n",
      "[1. 0. 0.] <-> [0.9958007  0.00224013 0.0019592 ]\n",
      "[0. 0. 1.] <-> [4.969561e-03 6.004762e-04 9.944299e-01]\n",
      "[1. 0. 0.] <-> [0.9958002  0.00206795 0.00213187]\n",
      "[0. 1. 0.] <-> [7.2598923e-03 9.9246490e-01 2.7522416e-04]\n",
      "[1. 0. 0.] <-> [0.9966053  0.00119426 0.00220045]\n",
      "[1. 0. 0.] <-> [0.9920467  0.00101764 0.00693564]\n",
      "[1. 0. 0.] <-> [0.59768873 0.01078351 0.39152774]\n",
      "[1. 0. 0.] <-> [0.9968413  0.00131743 0.00184137]\n",
      "[1. 0. 0.] <-> [0.9965252  0.00138986 0.0020849 ]\n",
      "[0. 0. 1.] <-> [4.9569905e-03 5.9905584e-04 9.9444395e-01]\n",
      "[1. 0. 0.] <-> [0.9888814  0.00257662 0.00854193]\n",
      "[1. 0. 0.] <-> [0.99000716 0.00198004 0.00801278]\n",
      "[1. 0. 0.] <-> [0.6918918  0.0099478  0.29816037]\n",
      "[1. 0. 0.] <-> [0.9694821  0.00385325 0.02666465]\n",
      "[1. 0. 0.] <-> [0.99546695 0.00121848 0.0033145 ]\n",
      "[0. 1. 0.] <-> [7.2426228e-03 9.9248260e-01 2.7470855e-04]\n",
      "[0. 0. 1.] <-> [4.9740099e-03 6.0101348e-04 9.9442494e-01]\n",
      "[1. 0. 0.] <-> [0.99633694 0.00159526 0.00206786]\n",
      "[1. 0. 0.] <-> [0.9565774  0.00139212 0.04203044]\n",
      "[1. 0. 0.] <-> [0.98520964 0.00197352 0.01281674]\n",
      "[0. 1. 0.] <-> [0.7841953  0.21021637 0.00558826]\n",
      "[1. 0. 0.] <-> [0.9187072  0.00188819 0.07940454]\n",
      "[0. 1. 0.] <-> [7.242102e-03 9.924832e-01 2.746943e-04]\n",
      "[1. 0. 0.] <-> [0.9908529  0.00161365 0.00753355]\n",
      "[0. 1. 0.] <-> [0.05773531 0.9409835  0.00128122]\n",
      "[1. 0. 0.] <-> [0.9499611  0.00213181 0.04790704]\n",
      "[1. 0. 0.] <-> [0.9955526  0.0013242  0.00312315]\n",
      "[1. 0. 0.] <-> [0.9951544  0.00271967 0.002126  ]\n",
      "[0. 0. 1.] <-> [5.1567885e-03 6.2233803e-04 9.9422085e-01]\n",
      "[0. 1. 0.] <-> [7.2422014e-03 9.9248308e-01 2.7469167e-04]\n",
      "[1. 0. 0.] <-> [0.99326456 0.00452946 0.00220593]\n",
      "[0. 1. 0.] <-> [7.7095744e-03 9.9200201e-01 2.8840569e-04]\n",
      "[1. 0. 0.] <-> [0.93683106 0.00228504 0.06088392]\n",
      "[1. 0. 0.] <-> [0.9930728  0.00181534 0.00511196]\n",
      "[1. 0. 0.] <-> [0.98041165 0.00334018 0.01624816]\n",
      "[1. 0. 0.] <-> [0.99471754 0.00103832 0.00424422]\n",
      "[1. 0. 0.] <-> [0.99376994 0.00111934 0.00511063]\n",
      "[0. 1. 0.] <-> [1.7518073e-02 9.8195499e-01 5.2683661e-04]\n",
      "[1. 0. 0.] <-> [0.9966762  0.00144427 0.00187952]\n",
      "[1. 0. 0.] <-> [0.95088255 0.00173112 0.04738626]\n",
      "[0. 0. 1.] <-> [5.1222271e-03 6.1796542e-04 9.9425983e-01]\n",
      "[0. 0. 1.] <-> [0.88062847 0.00172015 0.11765133]\n",
      "[1. 0. 0.] <-> [0.99471754 0.00125015 0.00403233]\n",
      "[1. 0. 0.] <-> [0.9954457  0.00165936 0.00289494]\n",
      "[1. 0. 0.] <-> [0.99496764 0.00279461 0.00223775]\n",
      "[1. 0. 0.] <-> [0.9966184  0.00110073 0.00228084]\n",
      "[1. 0. 0.] <-> [0.99575055 0.00172807 0.00252139]\n",
      "[0. 0. 1.] <-> [4.9951454e-03 6.0347782e-04 9.9440140e-01]\n",
      "[1. 0. 0.] <-> [0.99603194 0.00200772 0.00196033]\n",
      "[0. 0. 1.] <-> [5.4328335e-03 6.4839888e-04 9.9391878e-01]\n",
      "[1. 0. 0.] <-> [0.9956684  0.00111678 0.00321483]\n",
      "[1. 0. 0.] <-> [0.995887   0.00228331 0.00182971]\n",
      "[1. 0. 0.] <-> [0.99666154 0.00131581 0.00202259]\n",
      "[1. 0. 0.] <-> [0.993818   0.00416557 0.00201645]\n",
      "[1. 0. 0.] <-> [0.9968888 0.0012759 0.0018353]\n",
      "[1. 0. 0.] <-> [0.99650574 0.00169601 0.00179831]\n",
      "[0. 0. 1.] <-> [5.1419344e-03 6.1844487e-04 9.9423957e-01]\n",
      "[0. 0. 1.] <-> [4.9493625e-03 5.9987005e-04 9.9445081e-01]\n",
      "[1. 0. 0.] <-> [0.9967326  0.00110002 0.00216736]\n",
      "[1. 0. 0.] <-> [0.99674976 0.00115335 0.00209685]\n",
      "[1. 0. 0.] <-> [0.95194155 0.00124724 0.04681117]\n",
      "[0. 1. 0.] <-> [0.41980237 0.57600594 0.00419175]\n",
      "[0. 1. 0.] <-> [1.6843166e-02 9.8265475e-01 5.0203543e-04]\n",
      "[1. 0. 0.] <-> [0.9963534  0.00128122 0.00236543]\n",
      "[1. 0. 0.] <-> [0.99591225 0.00106559 0.00302211]\n",
      "[1. 0. 0.] <-> [0.98104    0.0013751  0.01758496]\n",
      "[1. 0. 0.] <-> [0.9861761 0.0013849 0.0124391]\n",
      "[1. 0. 0.] <-> [0.9960756  0.00137169 0.00255276]\n",
      "[1. 0. 0.] <-> [0.9934808  0.00422335 0.00229583]\n",
      "[1. 0. 0.] <-> [0.79843014 0.00420451 0.19736537]\n",
      "[1. 0. 0.] <-> [0.99586296 0.00121112 0.00292585]\n",
      "[1. 0. 0.] <-> [0.99673456 0.00125624 0.00200918]\n",
      "[0. 0. 1.] <-> [5.8326288e-03 7.4262684e-04 9.9342477e-01]\n",
      "[1. 0. 0.] <-> [0.99526227 0.00200126 0.0027364 ]\n",
      "[1. 0. 0.] <-> [0.723322   0.00182556 0.27485245]\n",
      "[0. 1. 0.] <-> [7.2422801e-03 9.9248296e-01 2.7469479e-04]\n",
      "[1. 0. 0.] <-> [0.9963504  0.00114831 0.00250122]\n",
      "[1. 0. 0.] <-> [0.9545113  0.00213808 0.0433506 ]\n",
      "[1. 0. 0.] <-> [0.9830683  0.0028225  0.01410918]\n",
      "[1. 0. 0.] <-> [0.9962722  0.00114143 0.00258632]\n",
      "[0. 1. 0.] <-> [0.21805948 0.77890843 0.00303211]\n",
      "[1. 0. 0.] <-> [0.9958477  0.00148896 0.00266335]\n",
      "[0. 1. 0.] <-> [0.6770264  0.3176978  0.00527575]\n",
      "[0. 0. 1.] <-> [5.1499540e-03 6.2081596e-04 9.9422920e-01]\n",
      "[0. 0. 1.] <-> [0.8733393  0.00183044 0.12483022]\n",
      "[1. 0. 0.] <-> [0.94244915 0.00321785 0.05433299]\n",
      "[1. 0. 0.] <-> [0.9967728  0.00134626 0.0018809 ]\n",
      "[1. 0. 0.] <-> [0.9901742  0.00200843 0.00781745]\n",
      "[1. 0. 0.] <-> [0.9969379  0.00127432 0.00178779]\n",
      "[0. 1. 0.] <-> [7.5558079e-03 9.9216038e-01 2.8369902e-04]\n",
      "[1. 0. 0.] <-> [0.9674837  0.02894824 0.00356809]\n",
      "{'accuracy': 0.9753086419753086, 'mean_square_error': 0.06389261147036289, 'categorical_crossentropy': 0.10281871866296839, 'essential_metrics': {0: {'tp_hit': 76, 'fp_hit': 4, 'tn_hit': 28, 'fn_hit': 0}, 1: {'tp_hit': 15, 'fp_hit': 0, 'tn_hit': 91, 'fn_hit': 2}, 2: {'tp_hit': 13, 'fp_hit': 0, 'tn_hit': 93, 'fn_hit': 2}}}\n"
     ]
    }
   ],
   "source": [
    "# recall phase\n",
    "score = model.evaluate(x_test, y_test, False)\n",
    "print(score)"
   ]
  },
  {
   "cell_type": "code",
   "execution_count": 11,
   "metadata": {},
   "outputs": [],
   "source": [
    "train_acc = [h['accuracy'] for h in history]\n",
    "train_mse = [h['mean_square_error'] for h in history]\n",
    "train_cce = [h['categorical_crossentropy'] for h in history]"
   ]
  },
  {
   "cell_type": "code",
   "execution_count": 12,
   "metadata": {},
   "outputs": [
    {
     "data": {
      "image/png": "[encoded data removed]",
      "text/plain": [
       "<Figure size 864x360 with 1 Axes>"
      ]
     },
     "metadata": {
      "needs_background": "light"
     },
     "output_type": "display_data"
    },
    {
     "data": {
      "image/png": "[encoded data removed]",
      "text/plain": [
       "<Figure size 864x360 with 1 Axes>"
      ]
     },
     "metadata": {
      "needs_background": "light"
     },
     "output_type": "display_data"
    }
   ],
   "source": [
    "draw_plot(x = [[i for i in range(len(history))], [(i+1)*breakpoint for i in range(len(checkpoints))]], y_list = [train_cce, [ ckp[model.loss_fn] for ckp in checkpoints ]], x_label = 'Epochs', \\\n",
    "    y_label = model.loss_fn, legend=['train', 'test'])\n",
    "acc = [ ckp['accuracy'] for ckp in checkpoints ]\n",
    "draw_plot(x = [[i for i in range(len(history))], [(i+1)*breakpoint for i in range(len(checkpoints))]], y_list = [train_acc, acc], x_label = 'Checkpoints', \\\n",
    "    y_label = 'accuracy', legend=['train', 'test'])"
   ]
  },
  {
   "cell_type": "code",
   "execution_count": 13,
   "metadata": {},
   "outputs": [
    {
     "name": "stdout",
     "output_type": "stream",
     "text": [
      "{'accuracy': 0.8333333333333334, 'mean_square_error': 0.35340403770257905, 'categorical_crossentropy': 0.5849814238371672, 'essential_metrics': {0: {'tp_hit': 66, 'fp_hit': 17, 'tn_hit': 15, 'fn_hit': 10}, 1: {'tp_hit': 1, 'fp_hit': 0, 'tn_hit': 91, 'fn_hit': 16}, 2: {'tp_hit': 14, 'fp_hit': 10, 'tn_hit': 83, 'fn_hit': 1}}, 'checkpoint': 10} \n",
      "\n",
      "\n",
      "{'accuracy': 0.9012345679012346, 'mean_square_error': 0.24889946886339412, 'categorical_crossentropy': 0.4608024314597801, 'essential_metrics': {0: {'tp_hit': 71, 'fp_hit': 11, 'tn_hit': 21, 'fn_hit': 5}, 1: {'tp_hit': 7, 'fp_hit': 0, 'tn_hit': 91, 'fn_hit': 10}, 2: {'tp_hit': 14, 'fp_hit': 5, 'tn_hit': 88, 'fn_hit': 1}}, 'checkpoint': 20} \n",
      "\n",
      "\n",
      "{'accuracy': 0.8888888888888888, 'mean_square_error': 0.21812350448147233, 'categorical_crossentropy': 0.3840892933033131, 'essential_metrics': {0: {'tp_hit': 72, 'fp_hit': 14, 'tn_hit': 18, 'fn_hit': 4}, 1: {'tp_hit': 4, 'fp_hit': 0, 'tn_hit': 91, 'fn_hit': 13}, 2: {'tp_hit': 14, 'fp_hit': 4, 'tn_hit': 89, 'fn_hit': 1}}, 'checkpoint': 30} \n",
      "\n",
      "\n",
      "{'accuracy': 0.9506172839506173, 'mean_square_error': 0.1527440782776494, 'categorical_crossentropy': 0.2971467971801758, 'essential_metrics': {0: {'tp_hit': 74, 'fp_hit': 6, 'tn_hit': 26, 'fn_hit': 2}, 1: {'tp_hit': 13, 'fp_hit': 0, 'tn_hit': 91, 'fn_hit': 4}, 2: {'tp_hit': 13, 'fp_hit': 2, 'tn_hit': 91, 'fn_hit': 2}}, 'checkpoint': 40} \n",
      "\n",
      "\n",
      "{'accuracy': 0.9506172839506173, 'mean_square_error': 0.14078581297011986, 'categorical_crossentropy': 0.29978783925374347, 'essential_metrics': {0: {'tp_hit': 73, 'fp_hit': 5, 'tn_hit': 27, 'fn_hit': 3}, 1: {'tp_hit': 13, 'fp_hit': 0, 'tn_hit': 91, 'fn_hit': 4}, 2: {'tp_hit': 14, 'fp_hit': 3, 'tn_hit': 90, 'fn_hit': 1}}, 'checkpoint': 50} \n",
      "\n",
      "\n",
      "{'accuracy': 0.9135802469135802, 'mean_square_error': 0.15094910667605768, 'categorical_crossentropy': 0.27998118930392796, 'essential_metrics': {0: {'tp_hit': 74, 'fp_hit': 12, 'tn_hit': 20, 'fn_hit': 2}, 1: {'tp_hit': 7, 'fp_hit': 0, 'tn_hit': 91, 'fn_hit': 10}, 2: {'tp_hit': 13, 'fp_hit': 2, 'tn_hit': 91, 'fn_hit': 2}}, 'checkpoint': 60} \n",
      "\n",
      "\n",
      "{'accuracy': 0.9074074074074074, 'mean_square_error': 0.15250456705014356, 'categorical_crossentropy': 0.25789128409491646, 'essential_metrics': {0: {'tp_hit': 74, 'fp_hit': 13, 'tn_hit': 19, 'fn_hit': 2}, 1: {'tp_hit': 7, 'fp_hit': 0, 'tn_hit': 91, 'fn_hit': 10}, 2: {'tp_hit': 12, 'fp_hit': 2, 'tn_hit': 91, 'fn_hit': 3}}, 'checkpoint': 70} \n",
      "\n",
      "\n",
      "{'accuracy': 0.9629629629629629, 'mean_square_error': 0.09699592918200296, 'categorical_crossentropy': 0.1959202731097186, 'essential_metrics': {0: {'tp_hit': 74, 'fp_hit': 4, 'tn_hit': 28, 'fn_hit': 2}, 1: {'tp_hit': 15, 'fp_hit': 0, 'tn_hit': 91, 'fn_hit': 2}, 2: {'tp_hit': 13, 'fp_hit': 2, 'tn_hit': 91, 'fn_hit': 2}}, 'checkpoint': 80} \n",
      "\n",
      "\n",
      "{'accuracy': 0.9506172839506173, 'mean_square_error': 0.10010384278313876, 'categorical_crossentropy': 0.1871278197677047, 'essential_metrics': {0: {'tp_hit': 74, 'fp_hit': 6, 'tn_hit': 26, 'fn_hit': 2}, 1: {'tp_hit': 14, 'fp_hit': 0, 'tn_hit': 91, 'fn_hit': 3}, 2: {'tp_hit': 12, 'fp_hit': 2, 'tn_hit': 91, 'fn_hit': 3}}, 'checkpoint': 90} \n",
      "\n",
      "\n",
      "{'accuracy': 0.9691358024691358, 'mean_square_error': 0.07564644364998833, 'categorical_crossentropy': 0.15083463103682906, 'essential_metrics': {0: {'tp_hit': 74, 'fp_hit': 3, 'tn_hit': 29, 'fn_hit': 2}, 1: {'tp_hit': 16, 'fp_hit': 0, 'tn_hit': 91, 'fn_hit': 1}, 2: {'tp_hit': 13, 'fp_hit': 2, 'tn_hit': 91, 'fn_hit': 2}}, 'checkpoint': 100} \n",
      "\n",
      "\n",
      "{'accuracy': 0.9629629629629629, 'mean_square_error': 0.07204719567844253, 'categorical_crossentropy': 0.13961880295364945, 'essential_metrics': {0: {'tp_hit': 74, 'fp_hit': 4, 'tn_hit': 28, 'fn_hit': 2}, 1: {'tp_hit': 15, 'fp_hit': 0, 'tn_hit': 91, 'fn_hit': 2}, 2: {'tp_hit': 13, 'fp_hit': 2, 'tn_hit': 91, 'fn_hit': 2}}, 'checkpoint': 110} \n",
      "\n",
      "\n",
      "{'accuracy': 0.9691358024691358, 'mean_square_error': 0.07638829315839216, 'categorical_crossentropy': 0.135145867312396, 'essential_metrics': {0: {'tp_hit': 75, 'fp_hit': 4, 'tn_hit': 28, 'fn_hit': 1}, 1: {'tp_hit': 15, 'fp_hit': 0, 'tn_hit': 91, 'fn_hit': 2}, 2: {'tp_hit': 13, 'fp_hit': 1, 'tn_hit': 92, 'fn_hit': 2}}, 'checkpoint': 120} \n",
      "\n",
      "\n",
      "{'accuracy': 0.9753086419753086, 'mean_square_error': 0.06481641757831397, 'categorical_crossentropy': 0.11593937873840332, 'essential_metrics': {0: {'tp_hit': 75, 'fp_hit': 3, 'tn_hit': 29, 'fn_hit': 1}, 1: {'tp_hit': 16, 'fp_hit': 0, 'tn_hit': 91, 'fn_hit': 1}, 2: {'tp_hit': 13, 'fp_hit': 1, 'tn_hit': 92, 'fn_hit': 2}}, 'checkpoint': 130} \n",
      "\n",
      "\n",
      "{'accuracy': 0.9753086419753086, 'mean_square_error': 0.06067551950257512, 'categorical_crossentropy': 0.10618580712212457, 'essential_metrics': {0: {'tp_hit': 75, 'fp_hit': 3, 'tn_hit': 29, 'fn_hit': 1}, 1: {'tp_hit': 16, 'fp_hit': 0, 'tn_hit': 91, 'fn_hit': 1}, 2: {'tp_hit': 13, 'fp_hit': 1, 'tn_hit': 92, 'fn_hit': 2}}, 'checkpoint': 140} \n",
      "\n",
      "\n",
      "{'accuracy': 0.9629629629629629, 'mean_square_error': 0.07371615786041164, 'categorical_crossentropy': 0.12267049153645833, 'essential_metrics': {0: {'tp_hit': 75, 'fp_hit': 5, 'tn_hit': 27, 'fn_hit': 1}, 1: {'tp_hit': 15, 'fp_hit': 0, 'tn_hit': 91, 'fn_hit': 2}, 2: {'tp_hit': 12, 'fp_hit': 1, 'tn_hit': 92, 'fn_hit': 3}}, 'checkpoint': 150} \n",
      "\n",
      "\n",
      "{'accuracy': 0.9567901234567902, 'mean_square_error': 0.08653070660386762, 'categorical_crossentropy': 0.14263248443603516, 'essential_metrics': {0: {'tp_hit': 74, 'fp_hit': 5, 'tn_hit': 27, 'fn_hit': 2}, 1: {'tp_hit': 15, 'fp_hit': 0, 'tn_hit': 91, 'fn_hit': 2}, 2: {'tp_hit': 12, 'fp_hit': 2, 'tn_hit': 91, 'fn_hit': 3}}, 'checkpoint': 160} \n",
      "\n",
      "\n",
      "{'accuracy': 0.9567901234567902, 'mean_square_error': 0.07263948522212951, 'categorical_crossentropy': 0.11538121435377333, 'essential_metrics': {0: {'tp_hit': 74, 'fp_hit': 5, 'tn_hit': 27, 'fn_hit': 2}, 1: {'tp_hit': 15, 'fp_hit': 0, 'tn_hit': 91, 'fn_hit': 2}, 2: {'tp_hit': 12, 'fp_hit': 2, 'tn_hit': 91, 'fn_hit': 3}}, 'checkpoint': 170} \n",
      "\n",
      "\n",
      "{'accuracy': 0.9629629629629629, 'mean_square_error': 0.06264334194615098, 'categorical_crossentropy': 0.09850459628634983, 'essential_metrics': {0: {'tp_hit': 75, 'fp_hit': 5, 'tn_hit': 27, 'fn_hit': 1}, 1: {'tp_hit': 14, 'fp_hit': 0, 'tn_hit': 91, 'fn_hit': 3}, 2: {'tp_hit': 13, 'fp_hit': 1, 'tn_hit': 92, 'fn_hit': 2}}, 'checkpoint': 180} \n",
      "\n",
      "\n",
      "{'accuracy': 0.9567901234567902, 'mean_square_error': 0.06637541311310328, 'categorical_crossentropy': 0.10308676295810276, 'essential_metrics': {0: {'tp_hit': 75, 'fp_hit': 6, 'tn_hit': 26, 'fn_hit': 1}, 1: {'tp_hit': 14, 'fp_hit': 0, 'tn_hit': 91, 'fn_hit': 3}, 2: {'tp_hit': 12, 'fp_hit': 1, 'tn_hit': 92, 'fn_hit': 3}}, 'checkpoint': 190} \n",
      "\n",
      "\n",
      "{'accuracy': 0.9753086419753086, 'mean_square_error': 0.06389261147036289, 'categorical_crossentropy': 0.10281871866296839, 'essential_metrics': {0: {'tp_hit': 76, 'fp_hit': 4, 'tn_hit': 28, 'fn_hit': 0}, 1: {'tp_hit': 15, 'fp_hit': 0, 'tn_hit': 91, 'fn_hit': 2}, 2: {'tp_hit': 13, 'fp_hit': 0, 'tn_hit': 93, 'fn_hit': 2}}, 'checkpoint': 200} \n",
      "\n",
      "\n"
     ]
    }
   ],
   "source": [
    "for checkpoint in checkpoints:\n",
    "    print(checkpoint, '\\n\\n')"
   ]
  },
  {
   "cell_type": "code",
   "execution_count": 14,
   "metadata": {},
   "outputs": [
    {
     "name": "stdout",
     "output_type": "stream",
     "text": [
      "Layer 1\n",
      "Neuron 0: weights:\n",
      "[-1.4229168   2.6793628   2.7585075   0.22658119 -0.8181703 ]\n",
      " bias: -3.0\n",
      "\n",
      "Neuron 1: weights:\n",
      "[ 0.57750595 -3.         -1.4149164   0.3161261   0.65421885]\n",
      " bias: -3.0\n",
      "\n",
      "Neuron 2: weights:\n",
      "[ 1.7860867 -3.        -2.604707  -2.0121722  1.4019163]\n",
      " bias: 3.0\n",
      "\n",
      "Neuron 3: weights:\n",
      "[ 1.6588006  -2.2635603  -0.12738761  2.4891555   1.2603294 ]\n",
      " bias: -3.0\n",
      "\n",
      "$\n",
      "Layer 2\n",
      "Neuron 0: weights:\n",
      "[-3. -3.  3. -3.]\n",
      " bias: 1.8506369590759277\n",
      "\n",
      "Neuron 1: weights:\n",
      "[ 3.        -2.8298163 -3.         1.7963848]\n",
      " bias: 0.7709218859672546\n",
      "\n",
      "Neuron 2: weights:\n",
      "[-2.0113344   3.          0.56719315  3.        ]\n",
      " bias: -2.410060167312622\n",
      "\n",
      "$\n",
      "\n"
     ]
    }
   ],
   "source": [
    "print(model)"
   ]
  },
  {
   "cell_type": "code",
   "execution_count": null,
   "metadata": {},
   "outputs": [],
   "source": []
  }
 ],
 "metadata": {
  "kernelspec": {
   "display_name": "Python 3",
   "language": "python",
   "name": "python3"
  },
  "language_info": {
   "codemirror_mode": {
    "name": "ipython",
    "version": 3
   },
   "file_extension": ".py",
   "mimetype": "text/x-python",
   "name": "python",
   "nbconvert_exporter": "python",
   "pygments_lexer": "ipython3",
   "version": "3.6.12"
  }
 },
 "nbformat": 4,
 "nbformat_minor": 2
}
