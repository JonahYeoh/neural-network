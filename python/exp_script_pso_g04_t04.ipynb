{
 "cells": [
  {
   "cell_type": "code",
   "execution_count": 1,
   "metadata": {},
   "outputs": [],
   "source": [
    "# dependency\n",
    "import numpy as np\n",
    "import pandas as pd\n",
    "import copy\n",
    "import math\n",
    "import sys\n",
    "import os\n",
    "from activations import relu, leaky_relu, sigmoid, tanh, softmax, d_sigmoid, d_relu\n",
    "from initializers import glorot_uniform, random_normal, random_uniform\n",
    "from regularizers import l1_regularizer, l2_regularizer\n",
    "from utility import trim_tail, multiply, subtract, get_nparams, one_hot_encoding, get_data\n",
    "from metrics import MSE, CCE, ACC, PRECISION, RECALL, essential_metrics, wondering_penalty, close_gap_penalty\n",
    "from pso import PSO\n",
    "from ga import GA\n",
    "from nn import Network\n",
    "from layer import DenseLayer\n",
    "from scalers import MinMaxScaler, StandardScaler"
   ]
  },
  {
   "cell_type": "code",
   "execution_count": 2,
   "metadata": {},
   "outputs": [],
   "source": [
    "# reference\n",
    "metrics_fn_dict = dict()\n",
    "metrics_fn_dict['accuracy'] = ACC\n",
    "metrics_fn_dict['categorical_crossentropy'] = CCE\n",
    "metrics_fn_dict['mean_square_error'] = MSE\n",
    "metrics_fn_dict['precision'] = PRECISION\n",
    "metrics_fn_dict['recall'] = RECALL\n",
    "metrics_fn_dict['essential_metrics'] = essential_metrics"
   ]
  },
  {
   "cell_type": "code",
   "execution_count": 3,
   "metadata": {},
   "outputs": [],
   "source": [
    "# model\n",
    "model = Network(5, lr = None)\n",
    "model.add_layer(DenseLayer(1, 4, True, afn=sigmoid, dafn=None, rfn=None))\n",
    "model.add_layer(DenseLayer(2, 3, True, afn=softmax, dafn=None, rfn=None))"
   ]
  },
  {
   "cell_type": "code",
   "execution_count": 4,
   "metadata": {},
   "outputs": [],
   "source": [
    "pso = PSO(dict(m = 50,\n",
    "    weight_constraint = [-3, 3], \n",
    "    velocity_constraint = [-0.1, 0.1],\n",
    "    c1 = 2,\n",
    "    c2 = 2,\n",
    "    w = 1,\n",
    "    w_decay = 1,\n",
    "    scale_hyperparameter = False,\n",
    "    regularizer = l2_regularizer,\n",
    "    mask = True))"
   ]
  },
  {
   "cell_type": "code",
   "execution_count": 5,
   "metadata": {},
   "outputs": [
    {
     "name": "stdout",
     "output_type": "stream",
     "text": [
      "building layer 1 with 5\n",
      "24\n",
      "building layer 2 with 4\n",
      "15\n"
     ]
    }
   ],
   "source": [
    "model.compile(loss_fn = 'categorical_crossentropy', optimizer = pso, \\\n",
    "    metrics = ['accuracy', 'mean_square_error', 'categorical_crossentropy'])"
   ]
  },
  {
   "cell_type": "code",
   "execution_count": 6,
   "metadata": {},
   "outputs": [
    {
     "name": "stdout",
     "output_type": "stream",
     "text": [
      "<class 'pandas.core.frame.DataFrame'>\n",
      "RangeIndex: 107 entries, 0 to 106\n",
      "Data columns (total 6 columns):\n",
      " #   Column  Non-Null Count  Dtype  \n",
      "---  ------  --------------  -----  \n",
      " 0   f1      107 non-null    float32\n",
      " 1   f2      107 non-null    float32\n",
      " 2   f3      107 non-null    float32\n",
      " 3   f4      107 non-null    float32\n",
      " 4   f5      107 non-null    float32\n",
      " 5   label   107 non-null    float32\n",
      "dtypes: float32(6)\n",
      "memory usage: 2.6 KB\n",
      "None\n",
      "<class 'pandas.core.frame.DataFrame'>\n",
      "RangeIndex: 108 entries, 0 to 107\n",
      "Data columns (total 6 columns):\n",
      " #   Column  Non-Null Count  Dtype  \n",
      "---  ------  --------------  -----  \n",
      " 0   f1      108 non-null    float32\n",
      " 1   f2      108 non-null    float32\n",
      " 2   f3      108 non-null    float32\n",
      " 3   f4      108 non-null    float32\n",
      " 4   f5      108 non-null    float32\n",
      " 5   label   108 non-null    float32\n",
      "dtypes: float32(6)\n",
      "memory usage: 2.7 KB\n",
      "None\n"
     ]
    }
   ],
   "source": [
    "# data loading\n",
    "DATA = os.path.join('c:\\\\Users\\\\tcumi\\\\github_repo\\\\neural-network\\\\', 'dataset')\n",
    "GROUP = 4\n",
    "COLUMNS = ['f1', 'f2', 'f3', 'f4', 'f5', 'label']\n",
    "N_CLASS = 3\n",
    "EPOCHS = 500\n",
    "train_dir, test_dir = \"..//dataset//training_data{}.txt\".format(GROUP), \"..//dataset//testing_data{}.txt\".format(GROUP)\n",
    "train, test = get_data(DATA, train_dir, COLUMNS), get_data(DATA, test_dir, COLUMNS)\n",
    "# shuffle\n",
    "train, test = train.sample(frac=1), test.sample(frac=1)\n",
    "x_train, y_train = train.drop('label', axis=1), train['label']\n",
    "x_test, y_test = test.drop('label', axis=1), test['label']"
   ]
  },
  {
   "cell_type": "code",
   "execution_count": 7,
   "metadata": {},
   "outputs": [],
   "source": [
    "# data scaling and encoding\n",
    "scaler = StandardScaler(['f1', 'f2', 'f3', 'f4', 'f5'])\n",
    "scaler.fit(x_train)\n",
    "x_train = scaler.transform(x_train)\n",
    "x_test = scaler.transform(x_test)\n",
    "y_train = one_hot_encoding(y_train, N_CLASS)\n",
    "y_test = one_hot_encoding(y_test, N_CLASS)"
   ]
  },
  {
   "cell_type": "code",
   "execution_count": 8,
   "metadata": {
    "tags": [
     "outputPrepend"
    ]
   },
   "outputs": [
    {
     "name": "stdout",
     "output_type": "stream",
     "text": [
      "Checkpoint 100, Accuracy: 0.9135802469135802, Loss: 0.39829674473515264\n",
      "Checkpoint 200, Accuracy: 0.9135802469135802, Loss: 0.3661738501654731\n",
      "Checkpoint 300, Accuracy: 0.9135802469135802, Loss: 0.3554263644748264\n",
      "Checkpoint 400, Accuracy: 0.9135802469135802, Loss: 0.3554263644748264\n",
      "Checkpoint 500, Accuracy: 0.9259259259259259, Loss: 0.35939728772198715\n"
     ]
    }
   ],
   "source": [
    "# learning phase\n",
    "breakpoint = 100\n",
    "checkpoints = list()\n",
    "history = list()\n",
    "for century in range(0, EPOCHS, breakpoint):\n",
    "    sub_history = model.fit(x_train, y_train, breakpoint, verbose = 0)\n",
    "    score = model.evaluate(x_test, y_test, False, verbose = 0)\n",
    "    print('Checkpoint {}, Accuracy: {}, Loss: {}'.format(century+breakpoint, score['accuracy'], score[model.loss_fn]))\n",
    "    score['checkpoint'] = century + breakpoint\n",
    "    checkpoints.append(score)\n",
    "    history.extend(sub_history)"
   ]
  },
  {
   "cell_type": "code",
   "execution_count": 9,
   "metadata": {},
   "outputs": [],
   "source": [
    "import matplotlib.pyplot as plt\n",
    "\n",
    "def draw_plot(x, y_list, x_label=None, y_label=None, legend=None, title=None):\n",
    "    fig, ax = plt.subplots(figsize=(12,5))\n",
    "    for xi, yi in zip(x, y_list):\n",
    "        ax.plot(xi, yi)\n",
    "    if x_label is not None and y_label is not None:\n",
    "        ax.set(xlabel=x_label, ylabel=y_label, title='{} VS {}'.format(x_label, y_label))\n",
    "    if legend is not None:\n",
    "        ax.legend(legend)\n",
    "    ax.grid()\n",
    "    plt.show()"
   ]
  },
  {
   "cell_type": "code",
   "execution_count": 10,
   "metadata": {},
   "outputs": [
    {
     "name": "stdout",
     "output_type": "stream",
     "text": [
      "[0. 0. 1.] <-> [0.7134406  0.04100826 0.24555112]\n",
      "[1. 0. 0.] <-> [0.7924381  0.11101492 0.09654701]\n",
      "[1. 0. 0.] <-> [0.86778307 0.05308804 0.07912888]\n",
      "[0. 0. 1.] <-> [0.40987638 0.02408517 0.5660385 ]\n",
      "[0. 0. 1.] <-> [0.58164084 0.041371   0.37698814]\n",
      "[1. 0. 0.] <-> [0.81911343 0.09930716 0.08157934]\n",
      "[1. 0. 0.] <-> [0.86478525 0.05803662 0.07717818]\n",
      "[0. 1. 0.] <-> [0.4677069  0.5032802  0.02901292]\n",
      "[1. 0. 0.] <-> [0.86608    0.04222926 0.09169079]\n",
      "[1. 0. 0.] <-> [0.8233214  0.05761975 0.11905881]\n",
      "[1. 0. 0.] <-> [0.7781598  0.15442428 0.06741583]\n",
      "[0. 1. 0.] <-> [0.17994978 0.8105033  0.0095469 ]\n",
      "[0. 1. 0.] <-> [0.6275038  0.33598983 0.03650638]\n",
      "[0. 0. 1.] <-> [0.8477525  0.0313778  0.12086969]\n",
      "[1. 0. 0.] <-> [0.84074455 0.03828032 0.12097517]\n",
      "[1. 0. 0.] <-> [0.85227406 0.08441278 0.06331312]\n",
      "[1. 0. 0.] <-> [0.79569924 0.06796817 0.13633268]\n",
      "[0. 1. 0.] <-> [0.15188514 0.83325565 0.01485925]\n",
      "[1. 0. 0.] <-> [0.7186371  0.2345331  0.04682976]\n",
      "[1. 0. 0.] <-> [0.84465605 0.08032478 0.07501914]\n",
      "[1. 0. 0.] <-> [0.6138845  0.34019428 0.0459212 ]\n",
      "[1. 0. 0.] <-> [0.74985445 0.18959221 0.0605533 ]\n",
      "[1. 0. 0.] <-> [0.831171   0.09337908 0.07544991]\n",
      "[1. 0. 0.] <-> [0.82365537 0.10764845 0.06869619]\n",
      "[1. 0. 0.] <-> [0.8351581  0.10958394 0.05525787]\n",
      "[1. 0. 0.] <-> [0.78967637 0.10690708 0.10341658]\n",
      "[0. 0. 1.] <-> [0.5097897  0.02696761 0.4632427 ]\n",
      "[0. 1. 0.] <-> [0.64956045 0.30168706 0.04875255]\n",
      "[1. 0. 0.] <-> [0.8117584  0.09109937 0.09714224]\n",
      "[0. 1. 0.] <-> [0.46328044 0.51100093 0.02571863]\n",
      "[1. 0. 0.] <-> [0.83519053 0.06642964 0.09837975]\n",
      "[1. 0. 0.] <-> [0.82080257 0.11690197 0.06229547]\n",
      "[1. 0. 0.] <-> [0.8500559  0.05258502 0.09735913]\n",
      "[1. 0. 0.] <-> [0.86852115 0.04210424 0.08937459]\n",
      "[1. 0. 0.] <-> [0.66481495 0.26894996 0.06623507]\n",
      "[1. 0. 0.] <-> [0.83682984 0.08934274 0.07382739]\n",
      "[1. 0. 0.] <-> [0.85875446 0.07307917 0.06816642]\n",
      "[1. 0. 0.] <-> [0.8011958  0.07306779 0.12573646]\n",
      "[1. 0. 0.] <-> [0.80484265 0.1228708  0.07228651]\n",
      "[1. 0. 0.] <-> [0.7407752  0.07235257 0.18687226]\n",
      "[1. 0. 0.] <-> [0.8241359  0.10006239 0.07580175]\n",
      "[0. 1. 0.] <-> [0.47790736 0.49633738 0.02575526]\n",
      "[1. 0. 0.] <-> [0.83175564 0.07481565 0.09342875]\n",
      "[0. 1. 0.] <-> [0.21106039 0.7701772  0.01876238]\n",
      "[1. 0. 0.] <-> [0.82776284 0.07829414 0.09394306]\n",
      "[1. 0. 0.] <-> [0.8324273  0.0853014  0.08227123]\n",
      "[0. 1. 0.] <-> [0.51130503 0.4387558  0.04993922]\n",
      "[0. 1. 0.] <-> [0.35337958 0.61338943 0.033231  ]\n",
      "[1. 0. 0.] <-> [0.8471633  0.09210227 0.06073441]\n",
      "[1. 0. 0.] <-> [0.618046   0.33169687 0.05025713]\n",
      "[1. 0. 0.] <-> [0.79146814 0.11894186 0.08958998]\n",
      "[0. 0. 1.] <-> [0.80241257 0.04982496 0.14776245]\n",
      "[1. 0. 0.] <-> [0.83781606 0.0389275  0.12325645]\n",
      "[1. 0. 0.] <-> [0.82732254 0.08249615 0.09018125]\n",
      "[0. 0. 1.] <-> [0.54181033 0.02713743 0.43105218]\n",
      "[1. 0. 0.] <-> [0.8163627  0.1179361  0.06570126]\n",
      "[1. 0. 0.] <-> [0.8395609  0.08190344 0.07853565]\n",
      "[1. 0. 0.] <-> [0.85398424 0.0649391  0.08107665]\n",
      "[1. 0. 0.] <-> [0.8007844  0.12130556 0.07791007]\n",
      "[1. 0. 0.] <-> [0.7260239  0.16743119 0.10654491]\n",
      "[0. 1. 0.] <-> [0.5609419  0.40577427 0.03328379]\n",
      "[1. 0. 0.] <-> [0.7730328  0.0735847  0.15338251]\n",
      "[1. 0. 0.] <-> [0.8160883  0.10245164 0.08146004]\n",
      "[1. 0. 0.] <-> [0.82612103 0.07773197 0.09614699]\n",
      "[1. 0. 0.] <-> [0.6933486  0.24980325 0.05684812]\n",
      "[0. 0. 1.] <-> [0.24921179 0.01923044 0.7315577 ]\n",
      "[0. 0. 1.] <-> [0.66418135 0.05209749 0.28372112]\n",
      "[1. 0. 0.] <-> [0.77584016 0.14242706 0.08173279]\n",
      "[1. 0. 0.] <-> [0.6997089  0.23207471 0.06821644]\n",
      "[1. 0. 0.] <-> [0.8111182  0.12353206 0.06534973]\n",
      "[1. 0. 0.] <-> [0.8581258  0.06097601 0.08089818]\n",
      "[1. 0. 0.] <-> [0.84549934 0.04395658 0.11054414]\n",
      "[1. 0. 0.] <-> [0.8268134  0.06106782 0.11211883]\n",
      "[0. 1. 0.] <-> [0.1745104  0.81560314 0.00988643]\n",
      "[0. 0. 1.] <-> [0.6967018  0.02871037 0.27458778]\n",
      "[1. 0. 0.] <-> [0.82585806 0.1038041  0.07033787]\n",
      "[0. 0. 1.] <-> [0.24168266 0.02830321 0.73001415]\n",
      "[1. 0. 0.] <-> [0.72991747 0.19787268 0.07220987]\n",
      "[1. 0. 0.] <-> [0.85638326 0.06603421 0.07758251]\n",
      "[1. 0. 0.] <-> [0.8027149  0.09148911 0.10579609]\n",
      "[1. 0. 0.] <-> [0.81867784 0.11605202 0.06527013]\n",
      "[1. 0. 0.] <-> [0.84779364 0.07861484 0.07359146]\n",
      "[1. 0. 0.] <-> [0.77322745 0.15244244 0.0743301 ]\n",
      "[0. 0. 1.] <-> [0.34732446 0.02421817 0.6284574 ]\n",
      "[1. 0. 0.] <-> [0.8492168  0.05529478 0.09548834]\n",
      "[1. 0. 0.] <-> [0.67183214 0.05761463 0.27055317]\n",
      "[1. 0. 0.] <-> [0.8628485  0.03666987 0.10048167]\n",
      "[1. 0. 0.] <-> [0.8616301  0.06099445 0.0773755 ]\n",
      "[0. 1. 0.] <-> [0.16653942 0.82032514 0.01313537]\n",
      "[1. 0. 0.] <-> [0.7491581  0.05552432 0.19531754]\n",
      "[1. 0. 0.] <-> [0.86043394 0.0556984  0.08386765]\n",
      "[0. 1. 0.] <-> [0.18074293 0.8031035  0.01615354]\n",
      "[1. 0. 0.] <-> [0.7919641  0.0734113  0.13462457]\n",
      "[1. 0. 0.] <-> [0.8639652  0.05686004 0.07917476]\n",
      "[1. 0. 0.] <-> [0.7649082  0.12420819 0.11088367]\n",
      "[1. 0. 0.] <-> [0.74354845 0.18206786 0.07438371]\n",
      "[0. 0. 1.] <-> [0.48040834 0.02654475 0.49304694]\n",
      "[0. 0. 1.] <-> [0.22977425 0.02016362 0.75006217]\n",
      "[1. 0. 0.] <-> [0.6703685  0.18871997 0.1409115 ]\n",
      "[1. 0. 0.] <-> [0.87448823 0.03950321 0.08600855]\n",
      "[0. 1. 0.] <-> [0.22395755 0.7553474  0.02069502]\n",
      "[1. 0. 0.] <-> [0.76798534 0.1527611  0.07925358]\n",
      "[1. 0. 0.] <-> [0.8680153  0.04272078 0.08926392]\n",
      "[0. 1. 0.] <-> [0.16266114 0.8256465  0.01169236]\n",
      "[1. 0. 0.] <-> [0.8294945  0.10383624 0.06666932]\n",
      "[1. 0. 0.] <-> [0.873505   0.05457614 0.07191887]\n",
      "[1. 0. 0.] <-> [0.86012536 0.04274942 0.0971253 ]\n",
      "[1. 0. 0.] <-> [0.67451674 0.25148878 0.07399447]\n",
      "{'accuracy': 0.9259259259259259, 'mean_square_error': 0.1831985736913037, 'categorical_crossentropy': 0.35939728772198715, 'essential_metrics': {0: {'tp_hit': 78, 'fp_hit': 12, 'tn_hit': 18, 'fn_hit': 0}, 1: {'tp_hit': 12, 'fp_hit': 0, 'tn_hit': 92, 'fn_hit': 4}, 2: {'tp_hit': 6, 'fp_hit': 0, 'tn_hit': 94, 'fn_hit': 8}}}\n"
     ]
    }
   ],
   "source": [
    "# recall phase\n",
    "score = model.evaluate(x_test, y_test, False)\n",
    "print(score)"
   ]
  },
  {
   "cell_type": "code",
   "execution_count": 11,
   "metadata": {},
   "outputs": [
    {
     "data": {
      "image/png": "[encoded data removed]",
      "text/plain": [
       "<Figure size 864x360 with 1 Axes>"
      ]
     },
     "metadata": {
      "needs_background": "light"
     },
     "output_type": "display_data"
    },
    {
     "data": {
      "image/png": "[encoded data removed]",
      "text/plain": [
       "<Figure size 864x360 with 1 Axes>"
      ]
     },
     "metadata": {
      "needs_background": "light"
     },
     "output_type": "display_data"
    }
   ],
   "source": [
    "draw_plot(x = [[i for i in range(len(history))], [(i+1)*breakpoint for i in range(len(checkpoints))]], y_list = [history, [ ckp[model.loss_fn] for ckp in checkpoints ]], x_label = 'Epochs', \\\n",
    "    y_label = model.loss_fn, legend=['train', 'test'])\n",
    "acc = [ ckp['accuracy'] for ckp in checkpoints ]\n",
    "draw_plot(x = [[(i+1)*breakpoint for i in range(len(checkpoints))]], y_list = [acc], x_label = 'Checkpoints', \\\n",
    "    y_label = 'accuracy')"
   ]
  },
  {
   "cell_type": "code",
   "execution_count": 12,
   "metadata": {},
   "outputs": [
    {
     "name": "stdout",
     "output_type": "stream",
     "text": [
      "{'accuracy': 0.9135802469135802, 'mean_square_error': 0.20540090955318557, 'categorical_crossentropy': 0.39829674473515264, 'essential_metrics': {0: {'tp_hit': 78, 'fp_hit': 14, 'tn_hit': 16, 'fn_hit': 0}, 1: {'tp_hit': 12, 'fp_hit': 0, 'tn_hit': 92, 'fn_hit': 4}, 2: {'tp_hit': 4, 'fp_hit': 0, 'tn_hit': 94, 'fn_hit': 10}}, 'checkpoint': 100} \n",
      "\n",
      "\n",
      "{'accuracy': 0.9135802469135802, 'mean_square_error': 0.1898144664023315, 'categorical_crossentropy': 0.3661738501654731, 'essential_metrics': {0: {'tp_hit': 78, 'fp_hit': 14, 'tn_hit': 16, 'fn_hit': 0}, 1: {'tp_hit': 10, 'fp_hit': 0, 'tn_hit': 92, 'fn_hit': 6}, 2: {'tp_hit': 6, 'fp_hit': 0, 'tn_hit': 94, 'fn_hit': 8}}, 'checkpoint': 200} \n",
      "\n",
      "\n",
      "{'accuracy': 0.9135802469135802, 'mean_square_error': 0.18335345064501404, 'categorical_crossentropy': 0.3554263644748264, 'essential_metrics': {0: {'tp_hit': 78, 'fp_hit': 14, 'tn_hit': 16, 'fn_hit': 0}, 1: {'tp_hit': 10, 'fp_hit': 0, 'tn_hit': 92, 'fn_hit': 6}, 2: {'tp_hit': 6, 'fp_hit': 0, 'tn_hit': 94, 'fn_hit': 8}}, 'checkpoint': 300} \n",
      "\n",
      "\n",
      "{'accuracy': 0.9135802469135802, 'mean_square_error': 0.18335345064501404, 'categorical_crossentropy': 0.3554263644748264, 'essential_metrics': {0: {'tp_hit': 78, 'fp_hit': 14, 'tn_hit': 16, 'fn_hit': 0}, 1: {'tp_hit': 10, 'fp_hit': 0, 'tn_hit': 92, 'fn_hit': 6}, 2: {'tp_hit': 6, 'fp_hit': 0, 'tn_hit': 94, 'fn_hit': 8}}, 'checkpoint': 400} \n",
      "\n",
      "\n",
      "{'accuracy': 0.9259259259259259, 'mean_square_error': 0.1831985736913037, 'categorical_crossentropy': 0.35939728772198715, 'essential_metrics': {0: {'tp_hit': 78, 'fp_hit': 12, 'tn_hit': 18, 'fn_hit': 0}, 1: {'tp_hit': 12, 'fp_hit': 0, 'tn_hit': 92, 'fn_hit': 4}, 2: {'tp_hit': 6, 'fp_hit': 0, 'tn_hit': 94, 'fn_hit': 8}}, 'checkpoint': 500} \n",
      "\n",
      "\n"
     ]
    }
   ],
   "source": [
    "for checkpoint in checkpoints:\n",
    "    print(checkpoint, '\\n\\n')"
   ]
  },
  {
   "cell_type": "code",
   "execution_count": 13,
   "metadata": {},
   "outputs": [
    {
     "name": "stdout",
     "output_type": "stream",
     "text": [
      "Layer 1\n",
      "Neuron 0: weights:\n",
      "[ 0.7908592  -1.1436739  -0.8309275  -0.02211329  0.00772015]\n",
      " bias: 0.8689539432525635\n",
      "\n",
      "Neuron 1: weights:\n",
      "[-0.13579407  0.53737825 -0.44571686 -0.8535603  -0.9340835 ]\n",
      " bias: 0.6539625525474548\n",
      "\n",
      "Neuron 2: weights:\n",
      "[-0.4995145   0.9957698   0.804736    0.12094042 -0.2546483 ]\n",
      " bias: -0.5648766160011292\n",
      "\n",
      "Neuron 3: weights:\n",
      "[ 0.07599229 -0.67626935  0.24153286  0.7362743   0.65728563]\n",
      " bias: -0.49765539169311523\n",
      "\n",
      "$\n",
      "Layer 2\n",
      "Neuron 0: weights:\n",
      "[ 1.2441958   1.3140031  -0.76684767 -0.8675064 ]\n",
      " bias: -0.031132696196436882\n",
      "\n",
      "Neuron 1: weights:\n",
      "[-1.7861644   0.21366967  1.7569715  -0.47207564]\n",
      " bias: -0.009819724597036839\n",
      "\n",
      "Neuron 2: weights:\n",
      "[ 0.5119894  -1.3551595  -0.98375297  1.3742508 ]\n",
      " bias: -0.33426719903945923\n",
      "\n",
      "$\n",
      "\n"
     ]
    }
   ],
   "source": [
    "print(model)"
   ]
  }
 ],
 "metadata": {
  "kernelspec": {
   "display_name": "Python 3",
   "language": "python",
   "name": "python3"
  },
  "language_info": {
   "codemirror_mode": {
    "name": "ipython",
    "version": 3
   },
   "file_extension": ".py",
   "mimetype": "text/x-python",
   "name": "python",
   "nbconvert_exporter": "python",
   "pygments_lexer": "ipython3",
   "version": "3.6.10"
  }
 },
 "nbformat": 4,
 "nbformat_minor": 2
}
