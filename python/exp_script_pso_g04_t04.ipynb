{
 "cells": [
  {
   "cell_type": "code",
   "execution_count": 1,
   "metadata": {},
   "outputs": [],
   "source": [
    "# dependency\n",
    "import numpy as np\n",
    "import pandas as pd\n",
    "import copy\n",
    "import math\n",
    "import sys\n",
    "import os\n",
    "from activations import relu, leaky_relu, sigmoid, tanh, softmax, d_sigmoid, d_relu\n",
    "from initializers import glorot_uniform, random_normal, random_uniform\n",
    "from regularizers import l1_regularizer, l2_regularizer\n",
    "from utility import trim_tail, multiply, subtract, get_nparams, one_hot_encoding, get_data\n",
    "from metrics import MSE, CCE, ACC, PRECISION, RECALL, essential_metrics, wondering_penalty, close_gap_penalty\n",
    "from pso import PSO\n",
    "from ga import GA\n",
    "from nn import Network\n",
    "from layer import DenseLayer\n",
    "from scalers import MinMaxScaler, StandardScaler"
   ]
  },
  {
   "cell_type": "code",
   "execution_count": 2,
   "metadata": {},
   "outputs": [],
   "source": [
    "# reference\n",
    "metrics_fn_dict = dict()\n",
    "metrics_fn_dict['accuracy'] = ACC\n",
    "metrics_fn_dict['categorical_crossentropy'] = CCE\n",
    "metrics_fn_dict['mean_square_error'] = MSE\n",
    "metrics_fn_dict['precision'] = PRECISION\n",
    "metrics_fn_dict['recall'] = RECALL\n",
    "metrics_fn_dict['essential_metrics'] = essential_metrics"
   ]
  },
  {
   "cell_type": "code",
   "execution_count": 3,
   "metadata": {},
   "outputs": [],
   "source": [
    "# model\n",
    "model = Network(5, lr = None)\n",
    "model.add_layer(DenseLayer(1, 4, True, afn=sigmoid, dafn=None, rfn=None))\n",
    "model.add_layer(DenseLayer(2, 3, True, afn=softmax, dafn=None, rfn=None))"
   ]
  },
  {
   "cell_type": "code",
   "execution_count": 4,
   "metadata": {},
   "outputs": [
    {
     "name": "stdout",
     "output_type": "stream",
     "text": [
      "see one see two 2 2\n"
     ]
    }
   ],
   "source": [
    "pso = PSO(dict(m = 50,\n",
    "    weight_constraint = [-3, 3], \n",
    "    velocity_constraint = [-0.1, 0.1],\n",
    "    c1 = 2,\n",
    "    c2 = 2,\n",
    "    w = 1.4,\n",
    "    w_decay = 1,\n",
    "    scale_hyperparameter = False,\n",
    "    regularizer = None,\n",
    "    mask = True))"
   ]
  },
  {
   "cell_type": "code",
   "execution_count": 5,
   "metadata": {},
   "outputs": [
    {
     "name": "stdout",
     "output_type": "stream",
     "text": [
      "building layer 1 with 5\n",
      "24\n",
      "building layer 2 with 4\n",
      "15\n"
     ]
    }
   ],
   "source": [
    "model.compile(loss_fn = 'categorical_crossentropy', optimizer = pso, \\\n",
    "    metrics = ['accuracy', 'mean_square_error', 'categorical_crossentropy'])"
   ]
  },
  {
   "cell_type": "code",
   "execution_count": 6,
   "metadata": {},
   "outputs": [
    {
     "name": "stdout",
     "output_type": "stream",
     "text": [
      "<class 'pandas.core.frame.DataFrame'>\n",
      "RangeIndex: 107 entries, 0 to 106\n",
      "Data columns (total 6 columns):\n",
      " #   Column  Non-Null Count  Dtype  \n",
      "---  ------  --------------  -----  \n",
      " 0   f1      107 non-null    float32\n",
      " 1   f2      107 non-null    float32\n",
      " 2   f3      107 non-null    float32\n",
      " 3   f4      107 non-null    float32\n",
      " 4   f5      107 non-null    float32\n",
      " 5   label   107 non-null    float32\n",
      "dtypes: float32(6)\n",
      "memory usage: 2.6 KB\n",
      "None\n",
      "<class 'pandas.core.frame.DataFrame'>\n",
      "RangeIndex: 108 entries, 0 to 107\n",
      "Data columns (total 6 columns):\n",
      " #   Column  Non-Null Count  Dtype  \n",
      "---  ------  --------------  -----  \n",
      " 0   f1      108 non-null    float32\n",
      " 1   f2      108 non-null    float32\n",
      " 2   f3      108 non-null    float32\n",
      " 3   f4      108 non-null    float32\n",
      " 4   f5      108 non-null    float32\n",
      " 5   label   108 non-null    float32\n",
      "dtypes: float32(6)\n",
      "memory usage: 2.7 KB\n",
      "None\n"
     ]
    }
   ],
   "source": [
    "# data loading\n",
    "DATA = os.path.join('c:\\\\Users\\\\AI-lab\\\\github_repo\\\\neural-network\\\\', 'dataset')\n",
    "GROUP = 4\n",
    "COLUMNS = ['f1', 'f2', 'f3', 'f4', 'f5', 'label']\n",
    "N_CLASS = 3\n",
    "EPOCHS = 200\n",
    "train_dir, test_dir = \"..//dataset//training_data{}.txt\".format(GROUP), \"..//dataset//testing_data{}.txt\".format(GROUP)\n",
    "train, test = get_data(DATA, train_dir, COLUMNS), get_data(DATA, test_dir, COLUMNS)\n",
    "# shuffle\n",
    "train, test = train.sample(frac=1), test.sample(frac=1)\n",
    "x_train, y_train = train.drop('label', axis=1), train['label']\n",
    "x_test, y_test = test.drop('label', axis=1), test['label']"
   ]
  },
  {
   "cell_type": "code",
   "execution_count": 7,
   "metadata": {},
   "outputs": [],
   "source": [
    "# data scaling and encoding\n",
    "scaler = StandardScaler(['f1', 'f2', 'f3', 'f4', 'f5'])\n",
    "scaler.fit(x_train)\n",
    "x_train = scaler.transform(x_train)\n",
    "x_test = scaler.transform(x_test)\n",
    "y_train = one_hot_encoding(y_train, N_CLASS)\n",
    "y_test = one_hot_encoding(y_test, N_CLASS)"
   ]
  },
  {
   "cell_type": "code",
   "execution_count": 8,
   "metadata": {
    "tags": [
     "outputPrepend"
    ]
   },
   "outputs": [
    {
     "name": "stdout",
     "output_type": "stream",
     "text": [
      "Checkpoint 10, Accuracy: 0.8950617283950617, Loss: 0.5579715304904513\n",
      "Checkpoint 20, Accuracy: 0.8827160493827161, Loss: 0.5397920608520508\n",
      "Checkpoint 30, Accuracy: 0.8888888888888888, Loss: 0.46379145869502314\n",
      "Checkpoint 40, Accuracy: 0.9135802469135802, Loss: 0.43552253864429613\n",
      "Checkpoint 50, Accuracy: 0.9197530864197531, Loss: 0.4283297856648763\n",
      "Checkpoint 60, Accuracy: 0.9259259259259259, Loss: 0.3724005663836444\n",
      "Checkpoint 70, Accuracy: 0.9135802469135802, Loss: 0.3117542973271123\n",
      "Checkpoint 80, Accuracy: 0.9444444444444444, Loss: 0.2992034841466833\n",
      "Checkpoint 90, Accuracy: 0.9567901234567902, Loss: 0.2396921228479456\n",
      "Checkpoint 100, Accuracy: 0.9567901234567902, Loss: 0.21132257249620226\n",
      "Checkpoint 110, Accuracy: 0.9382716049382716, Loss: 0.1954588183650264\n",
      "Checkpoint 120, Accuracy: 0.9753086419753086, Loss: 0.1581931644015842\n",
      "Checkpoint 130, Accuracy: 0.9691358024691358, Loss: 0.15838374031914604\n",
      "Checkpoint 140, Accuracy: 0.9753086419753086, Loss: 0.13490123218960232\n",
      "Checkpoint 150, Accuracy: 0.9753086419753086, Loss: 0.12152906700416848\n",
      "Checkpoint 160, Accuracy: 0.9691358024691358, Loss: 0.13510724350258155\n",
      "Checkpoint 170, Accuracy: 0.9629629629629629, Loss: 0.130636109246148\n",
      "Checkpoint 180, Accuracy: 0.9567901234567902, Loss: 0.1427702197322139\n",
      "Checkpoint 190, Accuracy: 0.9567901234567902, Loss: 0.13899615075853136\n",
      "Checkpoint 200, Accuracy: 0.9567901234567902, Loss: 0.14141515449241357\n"
     ]
    }
   ],
   "source": [
    "# learning phase\n",
    "breakpoint = 10\n",
    "checkpoints = list()\n",
    "history = list()\n",
    "for century in range(0, EPOCHS, breakpoint):\n",
    "    sub_history = model.fit(x_train, y_train, breakpoint, verbose = 0)\n",
    "    score = model.evaluate(x_test, y_test, False, verbose = 0)\n",
    "    print('Checkpoint {}, Accuracy: {}, Loss: {}'.format(century+breakpoint, score['accuracy'], score[model.loss_fn]))\n",
    "    score['checkpoint'] = century + breakpoint\n",
    "    checkpoints.append(score)\n",
    "    history.extend(sub_history)"
   ]
  },
  {
   "cell_type": "code",
   "execution_count": 9,
   "metadata": {},
   "outputs": [],
   "source": [
    "import matplotlib.pyplot as plt\n",
    "\n",
    "def draw_plot(x, y_list, x_label=None, y_label=None, legend=None, title=None):\n",
    "    fig, ax = plt.subplots(figsize=(12,5))\n",
    "    for xi, yi in zip(x, y_list):\n",
    "        ax.plot(xi, yi)\n",
    "    if x_label is not None and y_label is not None:\n",
    "        ax.set(xlabel=x_label, ylabel=y_label, title='{} VS {}'.format(x_label, y_label))\n",
    "    if legend is not None:\n",
    "        ax.legend(legend)\n",
    "    ax.grid()\n",
    "    plt.show()"
   ]
  },
  {
   "cell_type": "code",
   "execution_count": 10,
   "metadata": {},
   "outputs": [
    {
     "name": "stdout",
     "output_type": "stream",
     "text": [
      "[1. 0. 0.] <-> [0.9656324  0.00292649 0.03144111]\n",
      "[1. 0. 0.] <-> [0.9953768  0.00336199 0.00126126]\n",
      "[1. 0. 0.] <-> [0.9964233  0.00247176 0.00110486]\n",
      "[0. 1. 0.] <-> [0.51178396 0.47870377 0.00951227]\n",
      "[1. 0. 0.] <-> [9.9595535e-01 3.1216706e-03 9.2298276e-04]\n",
      "[1. 0. 0.] <-> [9.9753654e-01 1.5889772e-03 8.7449647e-04]\n",
      "[1. 0. 0.] <-> [0.99028426 0.00157326 0.0081425 ]\n",
      "[1. 0. 0.] <-> [0.8440443  0.14859776 0.00735792]\n",
      "[0. 1. 0.] <-> [0.02423263 0.9714273  0.00434013]\n",
      "[0. 1. 0.] <-> [0.00560021 0.99199945 0.00240034]\n",
      "[1. 0. 0.] <-> [0.89289355 0.09939989 0.00770651]\n",
      "[1. 0. 0.] <-> [0.994183   0.00154779 0.00426913]\n",
      "[0. 1. 0.] <-> [0.00443255 0.9933907  0.00217681]\n",
      "[0. 0. 1.] <-> [6.2170257e-03 5.3993332e-05 9.9372900e-01]\n",
      "[1. 0. 0.] <-> [0.97569263 0.00240227 0.02190508]\n",
      "[1. 0. 0.] <-> [0.1686863  0.82063437 0.0106793 ]\n",
      "[0. 1. 0.] <-> [0.00441464 0.9934144  0.0021709 ]\n",
      "[0. 0. 1.] <-> [2.2650472e-04 9.4556024e-05 9.9967897e-01]\n",
      "[1. 0. 0.] <-> [0.9892614  0.00157722 0.00916149]\n",
      "[1. 0. 0.] <-> [0.99302447 0.00550871 0.00146682]\n",
      "[1. 0. 0.] <-> [0.99445325 0.00323687 0.00230994]\n",
      "[1. 0. 0.] <-> [0.99559337 0.003273   0.00113367]\n",
      "[1. 0. 0.] <-> [0.9933209  0.00153994 0.00513911]\n",
      "[1. 0. 0.] <-> [3.9645456e-02 3.5613234e-04 9.5999837e-01]\n",
      "[1. 0. 0.] <-> [9.9729544e-01 1.9501317e-03 7.5449387e-04]\n",
      "[1. 0. 0.] <-> [0.82233274 0.00180201 0.17586525]\n",
      "[1. 0. 0.] <-> [0.9304042  0.03406492 0.03553091]\n",
      "[1. 0. 0.] <-> [0.9969139  0.00154695 0.00153907]\n",
      "[1. 0. 0.] <-> [9.9765342e-01 1.4838328e-03 8.6271833e-04]\n",
      "[1. 0. 0.] <-> [9.9751377e-01 1.7223291e-03 7.6384458e-04]\n",
      "[0. 0. 1.] <-> [1.27635183e-04 1.14641465e-04 9.99757707e-01]\n",
      "[1. 0. 0.] <-> [0.99670935 0.001995   0.00129562]\n",
      "[1. 0. 0.] <-> [0.9950159  0.00386066 0.00112337]\n",
      "[0. 0. 1.] <-> [3.2349169e-02 7.1245697e-05 9.6757954e-01]\n",
      "[1. 0. 0.] <-> [0.81471187 0.00147835 0.1838098 ]\n",
      "[1. 0. 0.] <-> [0.65468234 0.31363073 0.031687  ]\n",
      "[1. 0. 0.] <-> [9.9635136e-01 2.7214387e-03 9.2721166e-04]\n",
      "[1. 0. 0.] <-> [9.9679059e-01 2.4518636e-03 7.5752713e-04]\n",
      "[1. 0. 0.] <-> [0.9965178  0.00207848 0.00140369]\n",
      "[1. 0. 0.] <-> [0.9682111  0.02653197 0.00525687]\n",
      "[1. 0. 0.] <-> [0.24664123 0.7440606  0.00929825]\n",
      "[1. 0. 0.] <-> [9.957623e-01 3.258283e-03 9.794324e-04]\n",
      "[1. 0. 0.] <-> [0.9948784  0.00352334 0.00159821]\n",
      "[1. 0. 0.] <-> [0.994919   0.00166097 0.00342003]\n",
      "[1. 0. 0.] <-> [0.7145603  0.27564895 0.00979075]\n",
      "[0. 1. 0.] <-> [0.02211065 0.9738771  0.00401227]\n",
      "[1. 0. 0.] <-> [0.992415   0.00420287 0.00338211]\n",
      "[0. 1. 0.] <-> [0.00441605 0.9934109  0.00217305]\n",
      "[0. 0. 1.] <-> [1.5708327e-02 3.4873086e-05 9.8425680e-01]\n",
      "[1. 0. 0.] <-> [0.7166013  0.2057944  0.07760428]\n",
      "[1. 0. 0.] <-> [0.9975076  0.00144531 0.00104717]\n",
      "[1. 0. 0.] <-> [9.9720520e-01 1.8687819e-03 9.2602283e-04]\n",
      "[0. 0. 1.] <-> [1.0556181e-02 2.7735165e-05 9.8941606e-01]\n",
      "[0. 1. 0.] <-> [0.00441464 0.9934145  0.00217079]\n",
      "[1. 0. 0.] <-> [0.8809068  0.11253096 0.00656217]\n",
      "[1. 0. 0.] <-> [9.9715626e-01 2.0918380e-03 7.5187261e-04]\n",
      "[0. 1. 0.] <-> [0.00441465 0.99341416 0.00217118]\n",
      "[1. 0. 0.] <-> [9.9758577e-01 1.5134768e-03 9.0068724e-04]\n",
      "[0. 0. 1.] <-> [0.36476204 0.00072301 0.6345149 ]\n",
      "[0. 1. 0.] <-> [0.00444677 0.99336714 0.00218616]\n",
      "[1. 0. 0.] <-> [0.9183346  0.00164902 0.08001645]\n",
      "[1. 0. 0.] <-> [0.9943551  0.00432448 0.00132048]\n",
      "[1. 0. 0.] <-> [9.9698180e-01 2.1503551e-03 8.6786755e-04]\n",
      "[1. 0. 0.] <-> [0.9919958  0.00664244 0.00136181]\n",
      "[0. 1. 0.] <-> [0.00441464 0.9934145  0.00217078]\n",
      "[1. 0. 0.] <-> [0.9951711  0.00164905 0.0031798 ]\n",
      "[0. 1. 0.] <-> [0.03252427 0.9625751  0.00490066]\n",
      "[0. 1. 0.] <-> [0.00441464 0.9934145  0.00217078]\n",
      "[0. 0. 1.] <-> [1.1650403e-02 2.5901190e-05 9.8832369e-01]\n",
      "[1. 0. 0.] <-> [0.9915952  0.00686051 0.00154424]\n",
      "[1. 0. 0.] <-> [0.99737716 0.00157192 0.00105089]\n",
      "[1. 0. 0.] <-> [0.9810432  0.00167014 0.01728663]\n",
      "[1. 0. 0.] <-> [0.9967403  0.00170456 0.00155516]\n",
      "[0. 0. 1.] <-> [0.56958884 0.00116738 0.42924374]\n",
      "[1. 0. 0.] <-> [0.981448   0.01565889 0.00289315]\n",
      "[1. 0. 0.] <-> [0.9971789  0.00160229 0.00121876]\n",
      "[1. 0. 0.] <-> [9.9739397e-01 1.8332070e-03 7.7283575e-04]\n",
      "[1. 0. 0.] <-> [0.9892078  0.0077812  0.00301091]\n",
      "[1. 0. 0.] <-> [0.7930225  0.19838531 0.00859211]\n",
      "[0. 0. 1.] <-> [1.2573552e-04 1.1746290e-04 9.9975675e-01]\n",
      "[1. 0. 0.] <-> [0.94605607 0.04878423 0.00515971]\n",
      "[1. 0. 0.] <-> [0.9967912  0.00207474 0.00113406]\n",
      "[1. 0. 0.] <-> [0.9970829  0.00161311 0.00130401]\n",
      "[0. 0. 1.] <-> [7.8508304e-03 4.6586301e-05 9.9210256e-01]\n",
      "[1. 0. 0.] <-> [0.5802196  0.00246305 0.41731733]\n",
      "[0. 1. 0.] <-> [0.01346163 0.9831597  0.00337854]\n",
      "[1. 0. 0.] <-> [9.9625248e-01 2.8426677e-03 9.0489181e-04]\n",
      "[1. 0. 0.] <-> [0.99700886 0.00164086 0.00135032]\n",
      "[1. 0. 0.] <-> [0.96742445 0.00165545 0.03092012]\n",
      "[1. 0. 0.] <-> [9.9710685e-01 1.9971235e-03 8.9596119e-04]\n",
      "[1. 0. 0.] <-> [0.9923304  0.00226326 0.00540649]\n",
      "[0. 0. 1.] <-> [1.4099411e-02 3.1288320e-05 9.8586929e-01]\n",
      "[0. 0. 1.] <-> [1.9502645e-02 4.3268548e-05 9.8045403e-01]\n",
      "[1. 0. 0.] <-> [0.99573106 0.00305908 0.00120987]\n",
      "[0. 1. 0.] <-> [0.11800629 0.87451667 0.00747702]\n",
      "[1. 0. 0.] <-> [0.99687886 0.00201746 0.00110369]\n",
      "[1. 0. 0.] <-> [0.9954171  0.00332879 0.00125419]\n",
      "[1. 0. 0.] <-> [0.9540895  0.00340122 0.04250926]\n",
      "[1. 0. 0.] <-> [0.99375075 0.00163374 0.00461546]\n",
      "[0. 0. 1.] <-> [4.4992279e-02 1.0818663e-04 9.5489955e-01]\n",
      "[0. 1. 0.] <-> [0.8662323  0.12795123 0.00581647]\n",
      "[1. 0. 0.] <-> [0.9946032  0.00298571 0.00241106]\n",
      "[1. 0. 0.] <-> [0.39752653 0.58923364 0.01323983]\n",
      "[1. 0. 0.] <-> [0.99576795 0.00185626 0.00237579]\n",
      "[1. 0. 0.] <-> [0.99583167 0.0022473  0.00192097]\n",
      "[1. 0. 0.] <-> [0.9670621  0.02973818 0.00319972]\n",
      "[1. 0. 0.] <-> [0.9950406  0.00214325 0.00281623]\n",
      "[1. 0. 0.] <-> [0.99734217 0.00152191 0.00113587]\n",
      "{'accuracy': 0.9567901234567902, 'mean_square_error': 0.0856565351890306, 'categorical_crossentropy': 0.14141515449241357, 'essential_metrics': {0: {'tp_hit': 74, 'fp_hit': 3, 'tn_hit': 27, 'fn_hit': 4}, 1: {'tp_hit': 14, 'fp_hit': 3, 'tn_hit': 89, 'fn_hit': 2}, 2: {'tp_hit': 13, 'fp_hit': 1, 'tn_hit': 93, 'fn_hit': 1}}}\n"
     ]
    }
   ],
   "source": [
    "# recall phase\n",
    "score = model.evaluate(x_test, y_test, False)\n",
    "print(score)"
   ]
  },
  {
   "cell_type": "code",
   "execution_count": 11,
   "metadata": {},
   "outputs": [],
   "source": [
    "train_acc = [h['accuracy'] for h in history]\n",
    "train_mse = [h['mean_square_error'] for h in history]\n",
    "train_cce = [h['categorical_crossentropy'] for h in history]"
   ]
  },
  {
   "cell_type": "code",
   "execution_count": 12,
   "metadata": {},
   "outputs": [
    {
     "data": {
      "image/png": "[encoded data removed]",
      "text/plain": [
       "<Figure size 864x360 with 1 Axes>"
      ]
     },
     "metadata": {
      "needs_background": "light"
     },
     "output_type": "display_data"
    },
    {
     "data": {
      "image/png": "[encoded data removed]",
      "text/plain": [
       "<Figure size 864x360 with 1 Axes>"
      ]
     },
     "metadata": {
      "needs_background": "light"
     },
     "output_type": "display_data"
    }
   ],
   "source": [
    "draw_plot(x = [[i for i in range(len(history))], [(i+1)*breakpoint for i in range(len(checkpoints))]], y_list = [train_cce, [ ckp[model.loss_fn] for ckp in checkpoints ]], x_label = 'Epochs', \\\n",
    "    y_label = model.loss_fn, legend=['train', 'test'])\n",
    "acc = [ ckp['accuracy'] for ckp in checkpoints ]\n",
    "draw_plot(x = [[i for i in range(len(history))], [(i+1)*breakpoint for i in range(len(checkpoints))]], y_list = [train_acc, acc], x_label = 'Checkpoints', \\\n",
    "    y_label = 'accuracy', legend=['train', 'test'])"
   ]
  },
  {
   "cell_type": "code",
   "execution_count": 13,
   "metadata": {},
   "outputs": [
    {
     "name": "stdout",
     "output_type": "stream",
     "text": [
      "{'accuracy': 0.8950617283950617, 'mean_square_error': 0.3207345797568103, 'categorical_crossentropy': 0.5579715304904513, 'essential_metrics': {0: {'tp_hit': 72, 'fp_hit': 8, 'tn_hit': 22, 'fn_hit': 6}, 1: {'tp_hit': 9, 'fp_hit': 0, 'tn_hit': 92, 'fn_hit': 7}, 2: {'tp_hit': 10, 'fp_hit': 9, 'tn_hit': 85, 'fn_hit': 4}}, 'checkpoint': 10} \n",
      "\n",
      "\n",
      "{'accuracy': 0.8827160493827161, 'mean_square_error': 0.30919888679675805, 'categorical_crossentropy': 0.5397920608520508, 'essential_metrics': {0: {'tp_hit': 74, 'fp_hit': 13, 'tn_hit': 17, 'fn_hit': 4}, 1: {'tp_hit': 11, 'fp_hit': 0, 'tn_hit': 92, 'fn_hit': 5}, 2: {'tp_hit': 4, 'fp_hit': 6, 'tn_hit': 88, 'fn_hit': 10}}, 'checkpoint': 20} \n",
      "\n",
      "\n",
      "{'accuracy': 0.8888888888888888, 'mean_square_error': 0.2568958522649901, 'categorical_crossentropy': 0.46379145869502314, 'essential_metrics': {0: {'tp_hit': 78, 'fp_hit': 16, 'tn_hit': 14, 'fn_hit': 0}, 1: {'tp_hit': 11, 'fp_hit': 0, 'tn_hit': 92, 'fn_hit': 5}, 2: {'tp_hit': 1, 'fp_hit': 2, 'tn_hit': 92, 'fn_hit': 13}}, 'checkpoint': 30} \n",
      "\n",
      "\n",
      "{'accuracy': 0.9135802469135802, 'mean_square_error': 0.2280014299452222, 'categorical_crossentropy': 0.43552253864429613, 'essential_metrics': {0: {'tp_hit': 78, 'fp_hit': 12, 'tn_hit': 18, 'fn_hit': 0}, 1: {'tp_hit': 11, 'fp_hit': 0, 'tn_hit': 92, 'fn_hit': 5}, 2: {'tp_hit': 5, 'fp_hit': 2, 'tn_hit': 92, 'fn_hit': 9}}, 'checkpoint': 40} \n",
      "\n",
      "\n",
      "{'accuracy': 0.9197530864197531, 'mean_square_error': 0.21860998094836961, 'categorical_crossentropy': 0.4283297856648763, 'essential_metrics': {0: {'tp_hit': 78, 'fp_hit': 11, 'tn_hit': 19, 'fn_hit': 0}, 1: {'tp_hit': 10, 'fp_hit': 0, 'tn_hit': 92, 'fn_hit': 6}, 2: {'tp_hit': 7, 'fp_hit': 2, 'tn_hit': 92, 'fn_hit': 7}}, 'checkpoint': 50} \n",
      "\n",
      "\n",
      "{'accuracy': 0.9259259259259259, 'mean_square_error': 0.18064690364127162, 'categorical_crossentropy': 0.3724005663836444, 'essential_metrics': {0: {'tp_hit': 78, 'fp_hit': 11, 'tn_hit': 19, 'fn_hit': 0}, 1: {'tp_hit': 9, 'fp_hit': 0, 'tn_hit': 92, 'fn_hit': 7}, 2: {'tp_hit': 9, 'fp_hit': 1, 'tn_hit': 93, 'fn_hit': 5}}, 'checkpoint': 60} \n",
      "\n",
      "\n",
      "{'accuracy': 0.9135802469135802, 'mean_square_error': 0.16821662622888509, 'categorical_crossentropy': 0.3117542973271123, 'essential_metrics': {0: {'tp_hit': 78, 'fp_hit': 14, 'tn_hit': 16, 'fn_hit': 0}, 1: {'tp_hit': 11, 'fp_hit': 0, 'tn_hit': 92, 'fn_hit': 5}, 2: {'tp_hit': 5, 'fp_hit': 0, 'tn_hit': 94, 'fn_hit': 9}}, 'checkpoint': 70} \n",
      "\n",
      "\n",
      "{'accuracy': 0.9444444444444444, 'mean_square_error': 0.15346927344700945, 'categorical_crossentropy': 0.2992034841466833, 'essential_metrics': {0: {'tp_hit': 78, 'fp_hit': 9, 'tn_hit': 21, 'fn_hit': 0}, 1: {'tp_hit': 11, 'fp_hit': 0, 'tn_hit': 92, 'fn_hit': 5}, 2: {'tp_hit': 10, 'fp_hit': 0, 'tn_hit': 94, 'fn_hit': 4}}, 'checkpoint': 80} \n",
      "\n",
      "\n",
      "{'accuracy': 0.9567901234567902, 'mean_square_error': 0.12172334935559313, 'categorical_crossentropy': 0.2396921228479456, 'essential_metrics': {0: {'tp_hit': 77, 'fp_hit': 6, 'tn_hit': 24, 'fn_hit': 1}, 1: {'tp_hit': 14, 'fp_hit': 1, 'tn_hit': 91, 'fn_hit': 2}, 2: {'tp_hit': 10, 'fp_hit': 0, 'tn_hit': 94, 'fn_hit': 4}}, 'checkpoint': 90} \n",
      "\n",
      "\n",
      "{'accuracy': 0.9567901234567902, 'mean_square_error': 0.11086496627560181, 'categorical_crossentropy': 0.21132257249620226, 'essential_metrics': {0: {'tp_hit': 77, 'fp_hit': 6, 'tn_hit': 24, 'fn_hit': 1}, 1: {'tp_hit': 14, 'fp_hit': 1, 'tn_hit': 91, 'fn_hit': 2}, 2: {'tp_hit': 10, 'fp_hit': 0, 'tn_hit': 94, 'fn_hit': 4}}, 'checkpoint': 100} \n",
      "\n",
      "\n",
      "{'accuracy': 0.9382716049382716, 'mean_square_error': 0.10293018431019127, 'categorical_crossentropy': 0.1954588183650264, 'essential_metrics': {0: {'tp_hit': 72, 'fp_hit': 4, 'tn_hit': 26, 'fn_hit': 6}, 1: {'tp_hit': 15, 'fp_hit': 5, 'tn_hit': 87, 'fn_hit': 1}, 2: {'tp_hit': 11, 'fp_hit': 1, 'tn_hit': 93, 'fn_hit': 3}}, 'checkpoint': 110} \n",
      "\n",
      "\n",
      "{'accuracy': 0.9753086419753086, 'mean_square_error': 0.08121901095459892, 'categorical_crossentropy': 0.1581931644015842, 'essential_metrics': {0: {'tp_hit': 75, 'fp_hit': 1, 'tn_hit': 29, 'fn_hit': 3}, 1: {'tp_hit': 16, 'fp_hit': 2, 'tn_hit': 90, 'fn_hit': 0}, 2: {'tp_hit': 13, 'fp_hit': 1, 'tn_hit': 93, 'fn_hit': 1}}, 'checkpoint': 120} \n",
      "\n",
      "\n",
      "{'accuracy': 0.9691358024691358, 'mean_square_error': 0.08304959953125189, 'categorical_crossentropy': 0.15838374031914604, 'essential_metrics': {0: {'tp_hit': 74, 'fp_hit': 1, 'tn_hit': 29, 'fn_hit': 4}, 1: {'tp_hit': 16, 'fp_hit': 3, 'tn_hit': 89, 'fn_hit': 0}, 2: {'tp_hit': 13, 'fp_hit': 1, 'tn_hit': 93, 'fn_hit': 1}}, 'checkpoint': 130} \n",
      "\n",
      "\n",
      "{'accuracy': 0.9753086419753086, 'mean_square_error': 0.07255981550529375, 'categorical_crossentropy': 0.13490123218960232, 'essential_metrics': {0: {'tp_hit': 75, 'fp_hit': 1, 'tn_hit': 29, 'fn_hit': 3}, 1: {'tp_hit': 16, 'fp_hit': 2, 'tn_hit': 90, 'fn_hit': 0}, 2: {'tp_hit': 13, 'fp_hit': 1, 'tn_hit': 93, 'fn_hit': 1}}, 'checkpoint': 140} \n",
      "\n",
      "\n",
      "{'accuracy': 0.9753086419753086, 'mean_square_error': 0.06648236370134204, 'categorical_crossentropy': 0.12152906700416848, 'essential_metrics': {0: {'tp_hit': 75, 'fp_hit': 1, 'tn_hit': 29, 'fn_hit': 3}, 1: {'tp_hit': 16, 'fp_hit': 2, 'tn_hit': 90, 'fn_hit': 0}, 2: {'tp_hit': 13, 'fp_hit': 1, 'tn_hit': 93, 'fn_hit': 1}}, 'checkpoint': 150} \n",
      "\n",
      "\n",
      "{'accuracy': 0.9691358024691358, 'mean_square_error': 0.0724303984674808, 'categorical_crossentropy': 0.13510724350258155, 'essential_metrics': {0: {'tp_hit': 75, 'fp_hit': 2, 'tn_hit': 28, 'fn_hit': 3}, 1: {'tp_hit': 15, 'fp_hit': 2, 'tn_hit': 90, 'fn_hit': 1}, 2: {'tp_hit': 13, 'fp_hit': 1, 'tn_hit': 93, 'fn_hit': 1}}, 'checkpoint': 160} \n",
      "\n",
      "\n",
      "{'accuracy': 0.9629629629629629, 'mean_square_error': 0.07690917623785777, 'categorical_crossentropy': 0.130636109246148, 'essential_metrics': {0: {'tp_hit': 75, 'fp_hit': 3, 'tn_hit': 27, 'fn_hit': 3}, 1: {'tp_hit': 14, 'fp_hit': 2, 'tn_hit': 90, 'fn_hit': 2}, 2: {'tp_hit': 13, 'fp_hit': 1, 'tn_hit': 93, 'fn_hit': 1}}, 'checkpoint': 170} \n",
      "\n",
      "\n",
      "{'accuracy': 0.9567901234567902, 'mean_square_error': 0.0822374535384702, 'categorical_crossentropy': 0.1427702197322139, 'essential_metrics': {0: {'tp_hit': 74, 'fp_hit': 3, 'tn_hit': 27, 'fn_hit': 4}, 1: {'tp_hit': 14, 'fp_hit': 3, 'tn_hit': 89, 'fn_hit': 2}, 2: {'tp_hit': 13, 'fp_hit': 1, 'tn_hit': 93, 'fn_hit': 1}}, 'checkpoint': 180} \n",
      "\n",
      "\n",
      "{'accuracy': 0.9567901234567902, 'mean_square_error': 0.08376936744333563, 'categorical_crossentropy': 0.13899615075853136, 'essential_metrics': {0: {'tp_hit': 74, 'fp_hit': 3, 'tn_hit': 27, 'fn_hit': 4}, 1: {'tp_hit': 14, 'fp_hit': 3, 'tn_hit': 89, 'fn_hit': 2}, 2: {'tp_hit': 13, 'fp_hit': 1, 'tn_hit': 93, 'fn_hit': 1}}, 'checkpoint': 190} \n",
      "\n",
      "\n",
      "{'accuracy': 0.9567901234567902, 'mean_square_error': 0.0856565351890306, 'categorical_crossentropy': 0.14141515449241357, 'essential_metrics': {0: {'tp_hit': 74, 'fp_hit': 3, 'tn_hit': 27, 'fn_hit': 4}, 1: {'tp_hit': 14, 'fp_hit': 3, 'tn_hit': 89, 'fn_hit': 2}, 2: {'tp_hit': 13, 'fp_hit': 1, 'tn_hit': 93, 'fn_hit': 1}}, 'checkpoint': 200} \n",
      "\n",
      "\n"
     ]
    }
   ],
   "source": [
    "for checkpoint in checkpoints:\n",
    "    print(checkpoint, '\\n\\n')"
   ]
  },
  {
   "cell_type": "code",
   "execution_count": 14,
   "metadata": {},
   "outputs": [
    {
     "name": "stdout",
     "output_type": "stream",
     "text": [
      "Layer 1\n",
      "Neuron 0: weights:\n",
      "[-0.3935694  3.         1.096781  -3.        -3.       ]\n",
      " bias: 1.9847688674926758\n",
      "\n",
      "Neuron 1: weights:\n",
      "[ 2.3075995  -3.         -3.         -0.17438631 -0.2339711 ]\n",
      " bias: 2.246079444885254\n",
      "\n",
      "Neuron 2: weights:\n",
      "[-0.01888959 -3.         -0.2403582   0.57787925  3.        ]\n",
      " bias: -2.558863878250122\n",
      "\n",
      "Neuron 3: weights:\n",
      "[-2.3229742  3.         3.         3.         3.       ]\n",
      " bias: -0.35309407114982605\n",
      "\n",
      "$\n",
      "Layer 2\n",
      "Neuron 0: weights:\n",
      "[ 3.  3. -3. -3.]\n",
      " bias: -0.6461485028266907\n",
      "\n",
      "Neuron 1: weights:\n",
      "[ 2.5269978 -3.        -3.         3.       ]\n",
      " bias: -0.7569239139556885\n",
      "\n",
      "Neuron 2: weights:\n",
      "[-3.         0.6746765  3.         1.4993349]\n",
      " bias: 0.1446739137172699\n",
      "\n",
      "$\n",
      "\n"
     ]
    }
   ],
   "source": [
    "print(model)"
   ]
  },
  {
   "cell_type": "code",
   "execution_count": null,
   "metadata": {},
   "outputs": [],
   "source": []
  }
 ],
 "metadata": {
  "kernelspec": {
   "display_name": "Python 3",
   "language": "python",
   "name": "python3"
  },
  "language_info": {
   "codemirror_mode": {
    "name": "ipython",
    "version": 3
   },
   "file_extension": ".py",
   "mimetype": "text/x-python",
   "name": "python",
   "nbconvert_exporter": "python",
   "pygments_lexer": "ipython3",
   "version": "3.6.12"
  }
 },
 "nbformat": 4,
 "nbformat_minor": 2
}
