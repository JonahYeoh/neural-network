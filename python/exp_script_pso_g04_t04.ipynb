{
 "cells": [
  {
   "cell_type": "code",
   "execution_count": 1,
   "metadata": {},
   "outputs": [],
   "source": [
    "# dependency\n",
    "import numpy as np\n",
    "import pandas as pd\n",
    "import copy\n",
    "import math\n",
    "import sys\n",
    "import os\n",
    "from activations import relu, leaky_relu, sigmoid, tanh, softmax, d_sigmoid, d_relu\n",
    "from initializers import glorot_uniform, random_normal, random_uniform\n",
    "from regularizers import l1_regularizer, l2_regularizer\n",
    "from utility import trim_tail, multiply, subtract, get_nparams, one_hot_encoding, get_data\n",
    "from metrics import MSE, CCE, ACC, PRECISION, RECALL, essential_metrics, wondering_penalty, close_gap_penalty\n",
    "from pso import PSO\n",
    "from ga import GA\n",
    "from nn import Network\n",
    "from layer import DenseLayer\n",
    "from scalers import MinMaxScaler, StandardScaler"
   ]
  },
  {
   "cell_type": "code",
   "execution_count": 2,
   "metadata": {},
   "outputs": [],
   "source": [
    "# reference\n",
    "metrics_fn_dict = dict()\n",
    "metrics_fn_dict['accuracy'] = ACC\n",
    "metrics_fn_dict['categorical_crossentropy'] = CCE\n",
    "metrics_fn_dict['mean_square_error'] = MSE\n",
    "metrics_fn_dict['precision'] = PRECISION\n",
    "metrics_fn_dict['recall'] = RECALL\n",
    "metrics_fn_dict['essential_metrics'] = essential_metrics"
   ]
  },
  {
   "cell_type": "code",
   "execution_count": 3,
   "metadata": {},
   "outputs": [],
   "source": [
    "# model\n",
    "model = Network(5, lr = None)\n",
    "model.add_layer(DenseLayer(1, 4, True, afn=sigmoid, dafn=None, rfn=None))\n",
    "model.add_layer(DenseLayer(2, 3, True, afn=softmax, dafn=None, rfn=None))"
   ]
  },
  {
   "cell_type": "code",
   "execution_count": 4,
   "metadata": {},
   "outputs": [
    {
     "name": "stdout",
     "output_type": "stream",
     "text": [
      "see one see two 2 2\n"
     ]
    }
   ],
   "source": [
    "pso = PSO(dict(m = 50,\n",
    "    weight_constraint = [-3, 3], \n",
    "    velocity_constraint = [-0.1, 0.1],\n",
    "    c1 = 2,\n",
    "    c2 = 2,\n",
    "    w = 1,\n",
    "    w_decay = 1,\n",
    "    scale_hyperparameter = False,\n",
    "    regularizer = l2_regularizer,\n",
    "    mask = True))"
   ]
  },
  {
   "cell_type": "code",
   "execution_count": 5,
   "metadata": {},
   "outputs": [
    {
     "name": "stdout",
     "output_type": "stream",
     "text": [
      "building layer 1 with 5\n",
      "24\n",
      "building layer 2 with 4\n",
      "15\n"
     ]
    }
   ],
   "source": [
    "model.compile(loss_fn = 'categorical_crossentropy', optimizer = pso, \\\n",
    "    metrics = ['accuracy', 'mean_square_error', 'categorical_crossentropy'])"
   ]
  },
  {
   "cell_type": "code",
   "execution_count": 6,
   "metadata": {},
   "outputs": [
    {
     "name": "stdout",
     "output_type": "stream",
     "text": [
      "<class 'pandas.core.frame.DataFrame'>\n",
      "RangeIndex: 107 entries, 0 to 106\n",
      "Data columns (total 6 columns):\n",
      " #   Column  Non-Null Count  Dtype  \n",
      "---  ------  --------------  -----  \n",
      " 0   f1      107 non-null    float32\n",
      " 1   f2      107 non-null    float32\n",
      " 2   f3      107 non-null    float32\n",
      " 3   f4      107 non-null    float32\n",
      " 4   f5      107 non-null    float32\n",
      " 5   label   107 non-null    float32\n",
      "dtypes: float32(6)\n",
      "memory usage: 2.6 KB\n",
      "None\n",
      "<class 'pandas.core.frame.DataFrame'>\n",
      "RangeIndex: 108 entries, 0 to 107\n",
      "Data columns (total 6 columns):\n",
      " #   Column  Non-Null Count  Dtype  \n",
      "---  ------  --------------  -----  \n",
      " 0   f1      108 non-null    float32\n",
      " 1   f2      108 non-null    float32\n",
      " 2   f3      108 non-null    float32\n",
      " 3   f4      108 non-null    float32\n",
      " 4   f5      108 non-null    float32\n",
      " 5   label   108 non-null    float32\n",
      "dtypes: float32(6)\n",
      "memory usage: 2.7 KB\n",
      "None\n"
     ]
    }
   ],
   "source": [
    "# data loading\n",
    "DATA = os.path.join('c:\\\\Users\\\\tcumi\\\\github_repo\\\\neural-network\\\\', 'dataset')\n",
    "GROUP = 4\n",
    "COLUMNS = ['f1', 'f2', 'f3', 'f4', 'f5', 'label']\n",
    "N_CLASS = 3\n",
    "EPOCHS = 500\n",
    "train_dir, test_dir = \"..//dataset//training_data{}.txt\".format(GROUP), \"..//dataset//testing_data{}.txt\".format(GROUP)\n",
    "train, test = get_data(DATA, train_dir, COLUMNS), get_data(DATA, test_dir, COLUMNS)\n",
    "# shuffle\n",
    "train, test = train.sample(frac=1), test.sample(frac=1)\n",
    "x_train, y_train = train.drop('label', axis=1), train['label']\n",
    "x_test, y_test = test.drop('label', axis=1), test['label']"
   ]
  },
  {
   "cell_type": "code",
   "execution_count": 7,
   "metadata": {},
   "outputs": [],
   "source": [
    "# data scaling and encoding\n",
    "scaler = StandardScaler(['f1', 'f2', 'f3', 'f4', 'f5'])\n",
    "scaler.fit(x_train)\n",
    "x_train = scaler.transform(x_train)\n",
    "x_test = scaler.transform(x_test)\n",
    "y_train = one_hot_encoding(y_train, N_CLASS)\n",
    "y_test = one_hot_encoding(y_test, N_CLASS)"
   ]
  },
  {
   "cell_type": "code",
   "execution_count": 8,
   "metadata": {
    "tags": [
     "outputPrepend"
    ]
   },
   "outputs": [
    {
     "name": "stdout",
     "output_type": "stream",
     "text": [
      "Checkpoint 100, Accuracy: 0.9259259259259259, Loss: 0.40620093875461155\n",
      "Checkpoint 200, Accuracy: 0.9074074074074074, Loss: 0.36871436790183737\n",
      "Checkpoint 300, Accuracy: 0.9135802469135802, Loss: 0.36795344176115813\n",
      "Checkpoint 400, Accuracy: 0.9074074074074074, Loss: 0.3717270250673647\n",
      "Checkpoint 500, Accuracy: 0.9259259259259259, Loss: 0.3580411981653284\n"
     ]
    }
   ],
   "source": [
    "# learning phase\n",
    "breakpoint = 100\n",
    "checkpoints = list()\n",
    "history = list()\n",
    "for century in range(0, EPOCHS, breakpoint):\n",
    "    sub_history = model.fit(x_train, y_train, breakpoint, verbose = 0)\n",
    "    score = model.evaluate(x_test, y_test, False, verbose = 0)\n",
    "    print('Checkpoint {}, Accuracy: {}, Loss: {}'.format(century+breakpoint, score['accuracy'], score[model.loss_fn]))\n",
    "    score['checkpoint'] = century + breakpoint\n",
    "    checkpoints.append(score)\n",
    "    history.extend(sub_history)"
   ]
  },
  {
   "cell_type": "code",
   "execution_count": 9,
   "metadata": {},
   "outputs": [],
   "source": [
    "import matplotlib.pyplot as plt\n",
    "\n",
    "def draw_plot(x, y_list, x_label=None, y_label=None, legend=None, title=None):\n",
    "    fig, ax = plt.subplots(figsize=(12,5))\n",
    "    for xi, yi in zip(x, y_list):\n",
    "        ax.plot(xi, yi)\n",
    "    if x_label is not None and y_label is not None:\n",
    "        ax.set(xlabel=x_label, ylabel=y_label, title='{} VS {}'.format(x_label, y_label))\n",
    "    if legend is not None:\n",
    "        ax.legend(legend)\n",
    "    ax.grid()\n",
    "    plt.show()"
   ]
  },
  {
   "cell_type": "code",
   "execution_count": 10,
   "metadata": {},
   "outputs": [
    {
     "name": "stdout",
     "output_type": "stream",
     "text": [
      "[1. 0. 0.] <-> [0.8281156  0.04243315 0.1294513 ]\n",
      "[0. 1. 0.] <-> [0.31429675 0.67486346 0.01083984]\n",
      "[1. 0. 0.] <-> [0.7646518  0.16411988 0.07122832]\n",
      "[1. 0. 0.] <-> [0.692341   0.03917788 0.26848108]\n",
      "[1. 0. 0.] <-> [0.781575   0.15496558 0.06345946]\n",
      "[1. 0. 0.] <-> [0.7935092  0.13600013 0.07049064]\n",
      "[1. 0. 0.] <-> [0.83991396 0.08295555 0.07713048]\n",
      "[1. 0. 0.] <-> [0.8334194  0.0621284  0.10445227]\n",
      "[1. 0. 0.] <-> [0.817748   0.11433189 0.0679201 ]\n",
      "[0. 1. 0.] <-> [0.23647377 0.75760496 0.00592135]\n",
      "[1. 0. 0.] <-> [0.8465945  0.05572944 0.09767613]\n",
      "[1. 0. 0.] <-> [0.8251062  0.09875426 0.07613956]\n",
      "[1. 0. 0.] <-> [0.84888417 0.07491053 0.07620531]\n",
      "[0. 1. 0.] <-> [0.34127203 0.6468935  0.01183446]\n",
      "[1. 0. 0.] <-> [0.82270026 0.06055053 0.11674929]\n",
      "[0. 0. 1.] <-> [0.38574472 0.00947356 0.60478175]\n",
      "[1. 0. 0.] <-> [0.80205995 0.12319206 0.07474791]\n",
      "[1. 0. 0.] <-> [0.82391334 0.11678156 0.0593051 ]\n",
      "[1. 0. 0.] <-> [0.8025596  0.11508757 0.08235285]\n",
      "[0. 1. 0.] <-> [0.5410139  0.43740007 0.02158601]\n",
      "[1. 0. 0.] <-> [0.84277225 0.06970133 0.08752641]\n",
      "[1. 0. 0.] <-> [0.84590864 0.08593412 0.06815729]\n",
      "[1. 0. 0.] <-> [0.72258264 0.2370156  0.04040173]\n",
      "[1. 0. 0.] <-> [0.82275224 0.09334721 0.08390063]\n",
      "[0. 0. 1.] <-> [0.5799181  0.01217843 0.40790346]\n",
      "[0. 0. 1.] <-> [0.69343907 0.02480942 0.28175154]\n",
      "[1. 0. 0.] <-> [0.8221604  0.08590249 0.09193709]\n",
      "[1. 0. 0.] <-> [0.8220269  0.10263006 0.07534296]\n",
      "[1. 0. 0.] <-> [0.8317112  0.03013065 0.13815813]\n",
      "[1. 0. 0.] <-> [0.8494615  0.06038832 0.09015018]\n",
      "[1. 0. 0.] <-> [0.81580365 0.06511983 0.11907649]\n",
      "[0. 1. 0.] <-> [0.46298444 0.5173773  0.01963821]\n",
      "[1. 0. 0.] <-> [0.83715117 0.08213268 0.08071615]\n",
      "[1. 0. 0.] <-> [0.7228247  0.22857577 0.04859952]\n",
      "[1. 0. 0.] <-> [0.79786795 0.06055842 0.14157361]\n",
      "[1. 0. 0.] <-> [0.8236485  0.07532509 0.10102643]\n",
      "[1. 0. 0.] <-> [0.81941384 0.10356815 0.07701807]\n",
      "[1. 0. 0.] <-> [0.82652307 0.11577819 0.05769884]\n",
      "[1. 0. 0.] <-> [0.7708489  0.17171612 0.05743504]\n",
      "[1. 0. 0.] <-> [0.8242484  0.03627665 0.13947499]\n",
      "[1. 0. 0.] <-> [0.84059143 0.05599783 0.1034108 ]\n",
      "[1. 0. 0.] <-> [0.8562847  0.03297748 0.11073785]\n",
      "[0. 1. 0.] <-> [0.6291191  0.34197628 0.02890462]\n",
      "[1. 0. 0.] <-> [0.8188856  0.05269299 0.12842141]\n",
      "[1. 0. 0.] <-> [0.83590615 0.0845807  0.07951315]\n",
      "[1. 0. 0.] <-> [0.8127865  0.09860283 0.08861066]\n",
      "[0. 1. 0.] <-> [0.23479459 0.7591732  0.00603223]\n",
      "[0. 1. 0.] <-> [0.5210328  0.45912272 0.01984448]\n",
      "[0. 0. 1.] <-> [0.4418159  0.0097733  0.54841083]\n",
      "[1. 0. 0.] <-> [0.74294657 0.20922062 0.04783281]\n",
      "[1. 0. 0.] <-> [0.8412649  0.05652749 0.10220756]\n",
      "[0. 0. 1.] <-> [0.81655043 0.03664405 0.1468055 ]\n",
      "[1. 0. 0.] <-> [0.82803047 0.07439578 0.09757379]\n",
      "[1. 0. 0.] <-> [0.8057144  0.05655878 0.13772675]\n",
      "[0. 0. 1.] <-> [0.32326815 0.00721367 0.66951823]\n",
      "[1. 0. 0.] <-> [0.76030004 0.18033513 0.05936478]\n",
      "[1. 0. 0.] <-> [0.8256497  0.10039189 0.07395842]\n",
      "[1. 0. 0.] <-> [0.8438941  0.04648592 0.10961997]\n",
      "[1. 0. 0.] <-> [0.8015869  0.13302825 0.06538476]\n",
      "[1. 0. 0.] <-> [0.80596083 0.02981676 0.1642224 ]\n",
      "[1. 0. 0.] <-> [0.8044143  0.13297667 0.06260905]\n",
      "[0. 0. 1.] <-> [0.5932465  0.02197254 0.384781  ]\n",
      "[0. 0. 1.] <-> [0.47858453 0.01007659 0.51133883]\n",
      "[0. 0. 1.] <-> [0.72067547 0.02991785 0.24940664]\n",
      "[0. 0. 1.] <-> [0.4056137  0.0084275  0.58595884]\n",
      "[1. 0. 0.] <-> [0.7072057  0.24930444 0.04348985]\n",
      "[0. 1. 0.] <-> [0.23857339 0.75455946 0.00686718]\n",
      "[1. 0. 0.] <-> [0.8300747  0.10426364 0.06566168]\n",
      "[1. 0. 0.] <-> [0.6232873  0.3422698  0.03444291]\n",
      "[1. 0. 0.] <-> [0.8219895  0.10946926 0.06854133]\n",
      "[1. 0. 0.] <-> [0.8302276  0.02900726 0.1407651 ]\n",
      "[1. 0. 0.] <-> [0.85374814 0.0340789  0.11217299]\n",
      "[0. 0. 1.] <-> [0.34560308 0.01300618 0.6413907 ]\n",
      "[0. 1. 0.] <-> [0.27957377 0.7116879  0.00873825]\n",
      "[1. 0. 0.] <-> [0.79055786 0.0544728  0.15496926]\n",
      "[0. 1. 0.] <-> [0.57502514 0.39988562 0.02508926]\n",
      "[1. 0. 0.] <-> [0.76441616 0.04292116 0.19266264]\n",
      "[1. 0. 0.] <-> [0.78903764 0.1381772  0.07278514]\n",
      "[0. 1. 0.] <-> [0.577542   0.38756734 0.03489062]\n",
      "[1. 0. 0.] <-> [0.7630712  0.1872949  0.04963387]\n",
      "[1. 0. 0.] <-> [0.83880025 0.03746393 0.12373584]\n",
      "[0. 1. 0.] <-> [0.24109735 0.75279707 0.00610558]\n",
      "[1. 0. 0.] <-> [0.80973005 0.06232221 0.12794779]\n",
      "[0. 0. 1.] <-> [0.3188863  0.00781003 0.67330366]\n",
      "[1. 0. 0.] <-> [0.8239131  0.09395654 0.08213035]\n",
      "[1. 0. 0.] <-> [0.668739   0.29634547 0.0349155 ]\n",
      "[1. 0. 0.] <-> [0.82878786 0.09817814 0.07303396]\n",
      "[1. 0. 0.] <-> [0.8423402  0.05010816 0.10755165]\n",
      "[1. 0. 0.] <-> [0.8454605  0.06942321 0.08511632]\n",
      "[1. 0. 0.] <-> [0.85246825 0.06238208 0.08514965]\n",
      "[1. 0. 0.] <-> [0.8264818  0.08437525 0.08914294]\n",
      "[1. 0. 0.] <-> [0.7466907  0.19609977 0.05720944]\n",
      "[1. 0. 0.] <-> [0.81219804 0.10995397 0.07784798]\n",
      "[0. 0. 1.] <-> [0.47195753 0.01020459 0.5178379 ]\n",
      "[1. 0. 0.] <-> [0.73605865 0.16957463 0.09436673]\n",
      "[1. 0. 0.] <-> [0.8643431  0.05155093 0.08410602]\n",
      "[1. 0. 0.] <-> [0.78750986 0.14801842 0.06447172]\n",
      "[1. 0. 0.] <-> [0.8484979  0.05980549 0.09169659]\n",
      "[1. 0. 0.] <-> [0.8082621 0.1303801 0.0613578]\n",
      "[0. 1. 0.] <-> [0.24917068 0.7438585  0.00697079]\n",
      "[1. 0. 0.] <-> [0.8561123  0.0355587  0.10832899]\n",
      "[1. 0. 0.] <-> [0.72031647 0.23377149 0.04591205]\n",
      "[1. 0. 0.] <-> [0.8502201  0.06164885 0.08813102]\n",
      "[1. 0. 0.] <-> [0.8196248  0.0855914  0.09478384]\n",
      "[0. 0. 1.] <-> [0.81894773 0.02103976 0.1600124 ]\n",
      "[0. 1. 0.] <-> [0.5821361  0.3874476  0.03041625]\n",
      "[1. 0. 0.] <-> [0.81576437 0.11159402 0.07264163]\n",
      "[0. 1. 0.] <-> [0.42068014 0.5617661  0.01755377]\n",
      "{'accuracy': 0.9259259259259259, 'mean_square_error': 0.18527953293162744, 'categorical_crossentropy': 0.3580411981653284, 'essential_metrics': {0: {'tp_hit': 78, 'fp_hit': 12, 'tn_hit': 18, 'fn_hit': 0}, 1: {'tp_hit': 10, 'fp_hit': 0, 'tn_hit': 92, 'fn_hit': 6}, 2: {'tp_hit': 8, 'fp_hit': 0, 'tn_hit': 94, 'fn_hit': 6}}}\n"
     ]
    }
   ],
   "source": [
    "# recall phase\n",
    "score = model.evaluate(x_test, y_test, False)\n",
    "print(score)"
   ]
  },
  {
   "cell_type": "code",
   "execution_count": 11,
   "metadata": {},
   "outputs": [
    {
     "data": {
      "image/png": "[encoded data removed]",
      "text/plain": [
       "<Figure size 864x360 with 1 Axes>"
      ]
     },
     "metadata": {
      "needs_background": "light"
     },
     "output_type": "display_data"
    },
    {
     "data": {
      "image/png": "[encoded data removed]",
      "text/plain": [
       "<Figure size 864x360 with 1 Axes>"
      ]
     },
     "metadata": {
      "needs_background": "light"
     },
     "output_type": "display_data"
    }
   ],
   "source": [
    "draw_plot(x = [[i for i in range(len(history))], [(i+1)*breakpoint for i in range(len(checkpoints))]], y_list = [history, [ ckp[model.loss_fn] for ckp in checkpoints ]], x_label = 'Epochs', \\\n",
    "    y_label = model.loss_fn, legend=['train', 'test'])\n",
    "acc = [ ckp['accuracy'] for ckp in checkpoints ]\n",
    "draw_plot(x = [[(i+1)*breakpoint for i in range(len(checkpoints))]], y_list = [acc], x_label = 'Checkpoints', \\\n",
    "    y_label = 'accuracy')"
   ]
  },
  {
   "cell_type": "code",
   "execution_count": 12,
   "metadata": {},
   "outputs": [
    {
     "name": "stdout",
     "output_type": "stream",
     "text": [
      "{'accuracy': 0.9259259259259259, 'mean_square_error': 0.2102991305928104, 'categorical_crossentropy': 0.40620093875461155, 'essential_metrics': {0: {'tp_hit': 78, 'fp_hit': 12, 'tn_hit': 18, 'fn_hit': 0}, 1: {'tp_hit': 9, 'fp_hit': 0, 'tn_hit': 92, 'fn_hit': 7}, 2: {'tp_hit': 9, 'fp_hit': 0, 'tn_hit': 94, 'fn_hit': 5}}, 'checkpoint': 100} \n",
      "\n",
      "\n",
      "{'accuracy': 0.9074074074074074, 'mean_square_error': 0.19483283736539128, 'categorical_crossentropy': 0.36871436790183737, 'essential_metrics': {0: {'tp_hit': 78, 'fp_hit': 15, 'tn_hit': 15, 'fn_hit': 0}, 1: {'tp_hit': 10, 'fp_hit': 0, 'tn_hit': 92, 'fn_hit': 6}, 2: {'tp_hit': 5, 'fp_hit': 0, 'tn_hit': 94, 'fn_hit': 9}}, 'checkpoint': 200} \n",
      "\n",
      "\n",
      "{'accuracy': 0.9135802469135802, 'mean_square_error': 0.19124327399276567, 'categorical_crossentropy': 0.36795344176115813, 'essential_metrics': {0: {'tp_hit': 78, 'fp_hit': 14, 'tn_hit': 16, 'fn_hit': 0}, 1: {'tp_hit': 10, 'fp_hit': 0, 'tn_hit': 92, 'fn_hit': 6}, 2: {'tp_hit': 6, 'fp_hit': 0, 'tn_hit': 94, 'fn_hit': 8}}, 'checkpoint': 300} \n",
      "\n",
      "\n",
      "{'accuracy': 0.9074074074074074, 'mean_square_error': 0.19767662061783983, 'categorical_crossentropy': 0.3717270250673647, 'essential_metrics': {0: {'tp_hit': 78, 'fp_hit': 15, 'tn_hit': 15, 'fn_hit': 0}, 1: {'tp_hit': 10, 'fp_hit': 0, 'tn_hit': 92, 'fn_hit': 6}, 2: {'tp_hit': 5, 'fp_hit': 0, 'tn_hit': 94, 'fn_hit': 9}}, 'checkpoint': 400} \n",
      "\n",
      "\n",
      "{'accuracy': 0.9259259259259259, 'mean_square_error': 0.18527953293162744, 'categorical_crossentropy': 0.3580411981653284, 'essential_metrics': {0: {'tp_hit': 78, 'fp_hit': 12, 'tn_hit': 18, 'fn_hit': 0}, 1: {'tp_hit': 10, 'fp_hit': 0, 'tn_hit': 92, 'fn_hit': 6}, 2: {'tp_hit': 8, 'fp_hit': 0, 'tn_hit': 94, 'fn_hit': 6}}, 'checkpoint': 500} \n",
      "\n",
      "\n"
     ]
    }
   ],
   "source": [
    "for checkpoint in checkpoints:\n",
    "    print(checkpoint, '\\n\\n')"
   ]
  },
  {
   "cell_type": "code",
   "execution_count": 13,
   "metadata": {},
   "outputs": [
    {
     "name": "stdout",
     "output_type": "stream",
     "text": [
      "Layer 1\n",
      "Neuron 0: weights:\n",
      "[ 0.43346828 -1.0357658  -0.74387693 -0.11652422  0.10910027]\n",
      " bias: 0.42044001817703247\n",
      "\n",
      "Neuron 1: weights:\n",
      "[ 0.44415766 -0.9128129  -0.72230893 -0.02481625  0.27973425]\n",
      " bias: 0.32470521330833435\n",
      "\n",
      "Neuron 2: weights:\n",
      "[-0.32722083  0.6322744  -0.19076806 -0.9123521  -0.9617079 ]\n",
      " bias: 0.8350909352302551\n",
      "\n",
      "Neuron 3: weights:\n",
      "[-0.36772817  0.72581154  0.5167969  -0.22045264 -0.3179122 ]\n",
      " bias: 0.005735693499445915\n",
      "\n",
      "$\n",
      "Layer 2\n",
      "Neuron 0: weights:\n",
      "[ 0.79916626  0.58426464  1.2112148  -0.23861454]\n",
      " bias: -0.24635367095470428\n",
      "\n",
      "Neuron 1: weights:\n",
      "[-1.6065335 -1.3970106  0.6073589  1.1381334]\n",
      " bias: 0.15649448335170746\n",
      "\n",
      "Neuron 2: weights:\n",
      "[ 0.8357433  1.0370077 -1.9909391 -1.1003882]\n",
      " bias: 0.078292615711689\n",
      "\n",
      "$\n",
      "\n"
     ]
    }
   ],
   "source": [
    "print(model)"
   ]
  }
 ],
 "metadata": {
  "kernelspec": {
   "display_name": "Python 3",
   "language": "python",
   "name": "python3"
  },
  "language_info": {
   "codemirror_mode": {
    "name": "ipython",
    "version": 3
   },
   "file_extension": ".py",
   "mimetype": "text/x-python",
   "name": "python",
   "nbconvert_exporter": "python",
   "pygments_lexer": "ipython3",
   "version": "3.6.10"
  }
 },
 "nbformat": 4,
 "nbformat_minor": 2
}
