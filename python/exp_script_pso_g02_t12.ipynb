{
 "cells": [
  {
   "cell_type": "code",
   "execution_count": 1,
   "metadata": {},
   "outputs": [],
   "source": [
    "# dependency\n",
    "import numpy as np\n",
    "import pandas as pd\n",
    "import copy\n",
    "import math\n",
    "import sys\n",
    "import os\n",
    "from activations import relu, leaky_relu, sigmoid, tanh, softmax, d_sigmoid, d_relu\n",
    "from initializers import glorot_uniform, random_normal, random_uniform\n",
    "from regularizers import l1_regularizer, l2_regularizer\n",
    "from utility import trim_tail, multiply, subtract, get_nparams, one_hot_encoding, get_data\n",
    "from metrics import MSE, CCE, ACC, PRECISION, RECALL, essential_metrics, wondering_penalty, close_gap_penalty\n",
    "from pso import PSO\n",
    "from ga import GA\n",
    "from nn import Network\n",
    "from layer import DenseLayer\n",
    "from scalers import MinMaxScaler, StandardScaler"
   ]
  },
  {
   "cell_type": "code",
   "execution_count": 2,
   "metadata": {},
   "outputs": [],
   "source": [
    "# reference\n",
    "metrics_fn_dict = dict()\n",
    "metrics_fn_dict['accuracy'] = ACC\n",
    "metrics_fn_dict['categorical_crossentropy'] = CCE\n",
    "metrics_fn_dict['mean_square_error'] = MSE\n",
    "metrics_fn_dict['precision'] = PRECISION\n",
    "metrics_fn_dict['recall'] = RECALL\n",
    "metrics_fn_dict['essential_metrics'] = essential_metrics"
   ]
  },
  {
   "cell_type": "code",
   "execution_count": 3,
   "metadata": {},
   "outputs": [],
   "source": [
    "# model\n",
    "model = Network(5, lr = None)\n",
    "model.add_layer(DenseLayer(1, 4, True, afn=sigmoid, dafn=None, rfn=None))\n",
    "model.add_layer(DenseLayer(2, 3, True, afn=softmax, dafn=None, rfn=None))"
   ]
  },
  {
   "cell_type": "code",
   "execution_count": 4,
   "metadata": {},
   "outputs": [
    {
     "name": "stdout",
     "output_type": "stream",
     "text": [
      "see one see two 2.0 0.5\n"
     ]
    }
   ],
   "source": [
    "pso = PSO(dict(m = 50,\n",
    "    weight_constraint = [-3, 3], \n",
    "    velocity_constraint = [-0.1, 0.1],\n",
    "    c1 = [0.5, 2.0],\n",
    "    c2 = [0.5, 2.0],\n",
    "    w = [0.5, 1.6],\n",
    "    w_decay = 0.95,\n",
    "    scale_hyperparameter = False,\n",
    "    regularizer = None,\n",
    "    mask = True))"
   ]
  },
  {
   "cell_type": "code",
   "execution_count": 5,
   "metadata": {},
   "outputs": [
    {
     "name": "stdout",
     "output_type": "stream",
     "text": [
      "building layer 1 with 5\n",
      "24\n",
      "building layer 2 with 4\n",
      "15\n"
     ]
    }
   ],
   "source": [
    "model.compile(loss_fn = 'categorical_crossentropy', optimizer = pso, \\\n",
    "    metrics = ['accuracy', 'mean_square_error', 'categorical_crossentropy'])"
   ]
  },
  {
   "cell_type": "code",
   "execution_count": 6,
   "metadata": {},
   "outputs": [
    {
     "name": "stdout",
     "output_type": "stream",
     "text": [
      "<class 'pandas.core.frame.DataFrame'>\n",
      "RangeIndex: 107 entries, 0 to 106\n",
      "Data columns (total 6 columns):\n",
      " #   Column  Non-Null Count  Dtype  \n",
      "---  ------  --------------  -----  \n",
      " 0   f1      107 non-null    float32\n",
      " 1   f2      107 non-null    float32\n",
      " 2   f3      107 non-null    float32\n",
      " 3   f4      107 non-null    float32\n",
      " 4   f5      107 non-null    float32\n",
      " 5   label   107 non-null    float32\n",
      "dtypes: float32(6)\n",
      "memory usage: 2.6 KB\n",
      "None\n",
      "<class 'pandas.core.frame.DataFrame'>\n",
      "RangeIndex: 108 entries, 0 to 107\n",
      "Data columns (total 6 columns):\n",
      " #   Column  Non-Null Count  Dtype  \n",
      "---  ------  --------------  -----  \n",
      " 0   f1      108 non-null    float32\n",
      " 1   f2      108 non-null    float32\n",
      " 2   f3      108 non-null    float32\n",
      " 3   f4      108 non-null    float32\n",
      " 4   f5      108 non-null    float32\n",
      " 5   label   108 non-null    float32\n",
      "dtypes: float32(6)\n",
      "memory usage: 2.7 KB\n",
      "None\n"
     ]
    }
   ],
   "source": [
    "# data loading\n",
    "DATA = os.path.join('c:\\\\Users\\\\AI-lab\\\\github_repo\\\\neural-network\\\\', 'dataset')\n",
    "GROUP = 2\n",
    "COLUMNS = ['f1', 'f2', 'f3', 'f4', 'f5', 'label']\n",
    "N_CLASS = 3\n",
    "EPOCHS = 200\n",
    "train_dir, test_dir = \"..//dataset//training_data{}.txt\".format(GROUP), \"..//dataset//testing_data{}.txt\".format(GROUP)\n",
    "train, test = get_data(DATA, train_dir, COLUMNS), get_data(DATA, test_dir, COLUMNS)\n",
    "# shuffle\n",
    "train, test = train.sample(frac=1), test.sample(frac=1)\n",
    "x_train, y_train = train.drop('label', axis=1), train['label']\n",
    "x_test, y_test = test.drop('label', axis=1), test['label']"
   ]
  },
  {
   "cell_type": "code",
   "execution_count": 7,
   "metadata": {},
   "outputs": [],
   "source": [
    "# data scaling and encoding\n",
    "scaler = StandardScaler(['f1', 'f2', 'f3', 'f4', 'f5'])\n",
    "scaler.fit(x_train)\n",
    "x_train = scaler.transform(x_train)\n",
    "x_test = scaler.transform(x_test)\n",
    "y_train = one_hot_encoding(y_train, N_CLASS)\n",
    "y_test = one_hot_encoding(y_test, N_CLASS)"
   ]
  },
  {
   "cell_type": "code",
   "execution_count": 8,
   "metadata": {
    "tags": [
     "outputPrepend"
    ]
   },
   "outputs": [
    {
     "name": "stdout",
     "output_type": "stream",
     "text": [
      "Checkpoint 10, Accuracy: 0.8641975308641975, Loss: 0.5680125907615379\n",
      "Checkpoint 20, Accuracy: 0.9074074074074074, Loss: 0.4923556645711263\n",
      "Checkpoint 30, Accuracy: 0.9259259259259259, Loss: 0.42763024789315685\n",
      "Checkpoint 40, Accuracy: 0.9259259259259259, Loss: 0.3645279495804398\n",
      "Checkpoint 50, Accuracy: 0.9197530864197531, Loss: 0.38516210626672814\n",
      "Checkpoint 60, Accuracy: 0.9197530864197531, Loss: 0.4260167722348814\n",
      "Checkpoint 70, Accuracy: 0.9135802469135802, Loss: 0.39521846064814814\n",
      "Checkpoint 80, Accuracy: 0.9197530864197531, Loss: 0.40666968734176073\n",
      "Checkpoint 90, Accuracy: 0.9382716049382716, Loss: 0.3775246938069661\n",
      "Checkpoint 100, Accuracy: 0.9506172839506173, Loss: 0.3209282910382306\n",
      "Checkpoint 110, Accuracy: 0.9567901234567902, Loss: 0.25054732075443975\n",
      "Checkpoint 120, Accuracy: 0.9567901234567902, Loss: 0.23645962609185112\n",
      "Checkpoint 130, Accuracy: 0.9629629629629629, Loss: 0.2086655298868815\n",
      "Checkpoint 140, Accuracy: 0.9691358024691358, Loss: 0.18045564934059424\n",
      "Checkpoint 150, Accuracy: 0.9753086419753086, Loss: 0.16436410833288123\n",
      "Checkpoint 160, Accuracy: 0.9753086419753086, Loss: 0.14961161436858\n",
      "Checkpoint 170, Accuracy: 0.9691358024691358, Loss: 0.127713644946063\n",
      "Checkpoint 180, Accuracy: 0.9691358024691358, Loss: 0.11369888870804398\n",
      "Checkpoint 190, Accuracy: 0.9691358024691358, Loss: 0.11046373402630841\n",
      "Checkpoint 200, Accuracy: 0.9691358024691358, Loss: 0.10032033037256312\n"
     ]
    }
   ],
   "source": [
    "# learning phase\n",
    "breakpoint = 10\n",
    "checkpoints = list()\n",
    "history = list()\n",
    "for century in range(0, EPOCHS, breakpoint):\n",
    "    sub_history = model.fit(x_train, y_train, breakpoint, verbose = 0)\n",
    "    score = model.evaluate(x_test, y_test, False, verbose = 0)\n",
    "    print('Checkpoint {}, Accuracy: {}, Loss: {}'.format(century+breakpoint, score['accuracy'], score[model.loss_fn]))\n",
    "    score['checkpoint'] = century + breakpoint\n",
    "    checkpoints.append(score)\n",
    "    history.extend(sub_history)\n",
    "    itr = century + breakpoint\n",
    "    model.optimizer.c2 = np.max([model.optimizer.C2[1] - ((model.optimizer.C2[1] - model.optimizer.C2[0]) * itr / EPOCHS), model.optimizer.C2[0]])\n",
    "    model.optimizer.c1 = np.min([model.optimizer.C1[0] + ((model.optimizer.C1[1] - model.optimizer.C1[0]) * itr / EPOCHS), model.optimizer.C1[1]])\n",
    "    model.optimizer.w = np.max([model.optimizer.w * model.optimizer.W_Decay, model.optimizer.W[0]])"
   ]
  },
  {
   "cell_type": "code",
   "execution_count": 9,
   "metadata": {},
   "outputs": [],
   "source": [
    "import matplotlib.pyplot as plt\n",
    "\n",
    "def draw_plot(x, y_list, x_label=None, y_label=None, legend=None, title=None):\n",
    "    fig, ax = plt.subplots(figsize=(12,5))\n",
    "    for xi, yi in zip(x, y_list):\n",
    "        ax.plot(xi, yi)\n",
    "    if x_label is not None and y_label is not None:\n",
    "        ax.set(xlabel=x_label, ylabel=y_label, title='{} VS {}'.format(x_label, y_label))\n",
    "    if legend is not None:\n",
    "        ax.legend(legend)\n",
    "    ax.grid()\n",
    "    plt.show()"
   ]
  },
  {
   "cell_type": "code",
   "execution_count": 10,
   "metadata": {},
   "outputs": [],
   "source": [
    "train_acc = [h['accuracy'] for h in history]\n",
    "train_mse = [h['mean_square_error'] for h in history]\n",
    "train_cce = [h['categorical_crossentropy'] for h in history]"
   ]
  },
  {
   "cell_type": "code",
   "execution_count": 11,
   "metadata": {},
   "outputs": [
    {
     "data": {
      "image/png": "[encoded data removed]",
      "text/plain": [
       "<Figure size 864x360 with 1 Axes>"
      ]
     },
     "metadata": {
      "needs_background": "light"
     },
     "output_type": "display_data"
    },
    {
     "data": {
      "image/png": "[encoded data removed]",
      "text/plain": [
       "<Figure size 864x360 with 1 Axes>"
      ]
     },
     "metadata": {
      "needs_background": "light"
     },
     "output_type": "display_data"
    }
   ],
   "source": [
    "draw_plot(x = [[i for i in range(len(history))], [(i+1)*breakpoint for i in range(len(checkpoints))]], y_list = [train_cce, [ ckp[model.loss_fn] for ckp in checkpoints ]], x_label = 'Epochs', \\\n",
    "    y_label = model.loss_fn, legend=['train', 'test'])\n",
    "acc = [ ckp['accuracy'] for ckp in checkpoints ]\n",
    "draw_plot(x = [[i for i in range(len(history))], [(i+1)*breakpoint for i in range(len(checkpoints))]], y_list = [train_acc, acc], x_label = 'Checkpoints', \\\n",
    "    y_label = 'accuracy', legend=['train', 'test'])"
   ]
  },
  {
   "cell_type": "code",
   "execution_count": 12,
   "metadata": {},
   "outputs": [
    {
     "name": "stdout",
     "output_type": "stream",
     "text": [
      "[1. 0. 0.] <-> [0.9696294  0.01032369 0.02004688]\n",
      "[1. 0. 0.] <-> [0.9795629  0.01518084 0.00525625]\n",
      "[0. 1. 0.] <-> [3.2501496e-02 9.6715999e-01 3.3848942e-04]\n",
      "[0. 1. 0.] <-> [3.5927154e-02 9.6371788e-01 3.5503999e-04]\n",
      "[1. 0. 0.] <-> [0.96256536 0.02776473 0.00966997]\n",
      "[1. 0. 0.] <-> [0.9842382  0.01080653 0.00495531]\n",
      "[1. 0. 0.] <-> [0.9821717  0.00659272 0.01123555]\n",
      "[1. 0. 0.] <-> [0.9862156  0.00592681 0.00785751]\n",
      "[0. 0. 1.] <-> [1.7491443e-02 4.9234444e-04 9.8201615e-01]\n",
      "[1. 0. 0.] <-> [0.98075956 0.01355221 0.00568827]\n",
      "[1. 0. 0.] <-> [0.98231953 0.00662254 0.01105795]\n",
      "[1. 0. 0.] <-> [0.52164346 0.01073043 0.46762615]\n",
      "[1. 0. 0.] <-> [0.9848358  0.0058729  0.00929131]\n",
      "[1. 0. 0.] <-> [0.97124565 0.0135067  0.01524758]\n",
      "[0. 1. 0.] <-> [0.5391581  0.45750177 0.00334018]\n",
      "[0. 1. 0.] <-> [0.26674452 0.7317585  0.00149702]\n",
      "[1. 0. 0.] <-> [0.96093184 0.0073235  0.03174464]\n",
      "[0. 1. 0.] <-> [1.1576498e-01 8.8344854e-01 7.8645104e-04]\n",
      "[1. 0. 0.] <-> [0.96272016 0.03043602 0.00684383]\n",
      "[0. 0. 1.] <-> [1.7436560e-02 4.9039390e-04 9.8207307e-01]\n",
      "[1. 0. 0.] <-> [0.89193374 0.01004317 0.09802304]\n",
      "[1. 0. 0.] <-> [0.9839019  0.01139666 0.00470147]\n",
      "[1. 0. 0.] <-> [0.9863506  0.00636035 0.00728908]\n",
      "[1. 0. 0.] <-> [0.98837346 0.00687193 0.00475466]\n",
      "[1. 0. 0.] <-> [0.9826402  0.00613603 0.0112238 ]\n",
      "[0. 0. 1.] <-> [2.7256589e-02 8.4874308e-04 9.7189474e-01]\n",
      "[1. 0. 0.] <-> [0.9581998  0.00669204 0.03510818]\n",
      "[1. 0. 0.] <-> [0.9682418  0.00826957 0.02348858]\n",
      "[1. 0. 0.] <-> [0.9860809  0.01014814 0.00377096]\n",
      "[1. 0. 0.] <-> [0.9883434  0.00575105 0.00590563]\n",
      "[1. 0. 0.] <-> [0.8938789  0.0047199  0.10140128]\n",
      "[1. 0. 0.] <-> [0.98483896 0.00677901 0.00838199]\n",
      "[1. 0. 0.] <-> [0.9426887  0.0061543  0.05115691]\n",
      "[1. 0. 0.] <-> [0.97822726 0.01205277 0.00971993]\n",
      "[0. 0. 1.] <-> [1.7437615e-02 4.9042451e-04 9.8207194e-01]\n",
      "[1. 0. 0.] <-> [0.8618016  0.00860341 0.12959492]\n",
      "[0. 1. 0.] <-> [0.26373094 0.7338528  0.00241628]\n",
      "[1. 0. 0.] <-> [0.9728258  0.0235204  0.00365372]\n",
      "[1. 0. 0.] <-> [0.9702556  0.00752527 0.02221913]\n",
      "[1. 0. 0.] <-> [0.97796726 0.00643535 0.01559743]\n",
      "[1. 0. 0.] <-> [0.93844503 0.05782403 0.00373092]\n",
      "[1. 0. 0.] <-> [0.9391866  0.00498921 0.05582419]\n",
      "[0. 0. 1.] <-> [0.60740006 0.00390361 0.38869634]\n",
      "[0. 1. 0.] <-> [1.8186124e-02 9.8162258e-01 1.9137863e-04]\n",
      "[1. 0. 0.] <-> [0.9771384  0.01037146 0.01249012]\n",
      "[1. 0. 0.] <-> [0.98886406 0.00470562 0.00643031]\n",
      "[1. 0. 0.] <-> [0.84320474 0.15161313 0.00518207]\n",
      "[1. 0. 0.] <-> [0.9168411  0.00820016 0.07495884]\n",
      "[1. 0. 0.] <-> [0.93789136 0.05602554 0.00608315]\n",
      "[1. 0. 0.] <-> [0.967262   0.00534913 0.02738887]\n",
      "[1. 0. 0.] <-> [0.92368156 0.0704896  0.00582891]\n",
      "[0. 0. 1.] <-> [1.7666623e-02 4.9427745e-04 9.8183906e-01]\n",
      "[0. 1. 0.] <-> [1.2429054e-02 9.8744118e-01 1.2976846e-04]\n",
      "[0. 1. 0.] <-> [1.7197384e-02 9.8261976e-01 1.8284227e-04]\n",
      "[1. 0. 0.] <-> [0.9770586  0.0047639  0.01817746]\n",
      "[1. 0. 0.] <-> [0.9833407  0.01030565 0.00635368]\n",
      "[0. 1. 0.] <-> [0.14373621 0.85485375 0.00141005]\n",
      "[1. 0. 0.] <-> [0.8755636  0.0081903  0.11624607]\n",
      "[1. 0. 0.] <-> [0.98694557 0.00533678 0.00771767]\n",
      "[1. 0. 0.] <-> [0.9714234  0.00625202 0.02232456]\n",
      "[1. 0. 0.] <-> [0.94787014 0.00632514 0.04580471]\n",
      "[0. 0. 1.] <-> [1.8203950e-02 5.0025532e-04 9.8129576e-01]\n",
      "[1. 0. 0.] <-> [0.95400715 0.04218649 0.00380629]\n",
      "[1. 0. 0.] <-> [0.97809863 0.00585552 0.01604576]\n",
      "[1. 0. 0.] <-> [0.9852326  0.01093563 0.00383181]\n",
      "[1. 0. 0.] <-> [0.78732014 0.00421095 0.20846894]\n",
      "[1. 0. 0.] <-> [0.96713287 0.0053503  0.02751679]\n",
      "[0. 0. 1.] <-> [0.49890858 0.0210844  0.48000702]\n",
      "[1. 0. 0.] <-> [0.940218   0.05654968 0.00323241]\n",
      "[1. 0. 0.] <-> [0.98039436 0.00567097 0.0139347 ]\n",
      "[1. 0. 0.] <-> [0.9658346  0.00600968 0.02815569]\n",
      "[0. 0. 1.] <-> [1.7438114e-02 4.9044902e-04 9.8207146e-01]\n",
      "[0. 0. 1.] <-> [2.4681412e-02 6.7226216e-04 9.7464627e-01]\n",
      "[1. 0. 0.] <-> [0.21302658 0.00875673 0.7782167 ]\n",
      "[1. 0. 0.] <-> [0.98435634 0.01162805 0.00401565]\n",
      "[1. 0. 0.] <-> [0.9419579  0.03447596 0.02356612]\n",
      "[0. 1. 0.] <-> [1.32929105e-02 9.86567259e-01 1.39780459e-04]\n",
      "[1. 0. 0.] <-> [0.8596967  0.1324114  0.00789201]\n",
      "[1. 0. 0.] <-> [0.8914074  0.0122201  0.09637245]\n",
      "[1. 0. 0.] <-> [0.9866514  0.00836538 0.00498329]\n",
      "[1. 0. 0.] <-> [0.99067724 0.00553858 0.00378422]\n",
      "[0. 1. 0.] <-> [2.4310350e-02 9.7542983e-01 2.5977968e-04]\n",
      "[1. 0. 0.] <-> [0.32957542 0.6681686  0.00225594]\n",
      "[1. 0. 0.] <-> [0.98099387 0.01205387 0.00695228]\n",
      "[0. 1. 0.] <-> [1.16611915e-02 9.88217294e-01 1.21494144e-04]\n",
      "[1. 0. 0.] <-> [0.938975   0.05566572 0.0053593 ]\n",
      "[1. 0. 0.] <-> [0.98237175 0.00612317 0.01150502]\n",
      "[1. 0. 0.] <-> [0.9783311  0.00533709 0.0163319 ]\n",
      "[1. 0. 0.] <-> [0.98387134 0.01055273 0.0055759 ]\n",
      "[1. 0. 0.] <-> [0.92361027 0.07209821 0.00429149]\n",
      "[0. 1. 0.] <-> [1.10550448e-02 9.88829672e-01 1.15329705e-04]\n",
      "[0. 1. 0.] <-> [1.6035480e-02 9.8379564e-01 1.6882466e-04]\n",
      "[1. 0. 0.] <-> [0.8249639  0.17185432 0.00318167]\n",
      "[1. 0. 0.] <-> [0.9397899  0.0062791  0.05393096]\n",
      "[1. 0. 0.] <-> [0.975355   0.02143606 0.00320898]\n",
      "[1. 0. 0.] <-> [0.96309274 0.01695798 0.01994936]\n",
      "[1. 0. 0.] <-> [0.9842465  0.01174621 0.00400734]\n",
      "[1. 0. 0.] <-> [0.975863   0.00528971 0.01884724]\n",
      "[1. 0. 0.] <-> [0.73763347 0.01575965 0.24660692]\n",
      "[1. 0. 0.] <-> [0.9867735  0.00729292 0.00593357]\n",
      "[0. 0. 1.] <-> [1.8018261e-02 5.0875405e-04 9.8147297e-01]\n",
      "[0. 0. 1.] <-> [1.7595755e-02 4.9598957e-04 9.8190826e-01]\n",
      "[1. 0. 0.] <-> [0.9745138  0.00572652 0.01975966]\n",
      "[1. 0. 0.] <-> [0.98497206 0.0113014  0.00372658]\n",
      "[1. 0. 0.] <-> [0.98871124 0.0067228  0.00456586]\n",
      "[1. 0. 0.] <-> [0.9389938  0.05386959 0.00713662]\n",
      "[0. 0. 1.] <-> [1.7450428e-02 4.9056608e-04 9.8205906e-01]\n",
      "[1. 0. 0.] <-> [0.9690963  0.01375863 0.01714511]\n",
      "{'accuracy': 0.9691358024691358, 'mean_square_error': 0.05025126703962015, 'categorical_crossentropy': 0.10032033037256312, 'essential_metrics': {0: {'tp_hit': 78, 'fp_hit': 3, 'tn_hit': 25, 'fn_hit': 2}, 1: {'tp_hit': 14, 'fp_hit': 1, 'tn_hit': 92, 'fn_hit': 1}, 2: {'tp_hit': 11, 'fp_hit': 1, 'tn_hit': 94, 'fn_hit': 2}}}\n"
     ]
    }
   ],
   "source": [
    "# recall phase\n",
    "score = model.evaluate(x_test, y_test, False)\n",
    "print(score)"
   ]
  },
  {
   "cell_type": "code",
   "execution_count": 13,
   "metadata": {},
   "outputs": [
    {
     "name": "stdout",
     "output_type": "stream",
     "text": [
      "{'accuracy': 0.8641975308641975, 'mean_square_error': 0.29492285349144026, 'categorical_crossentropy': 0.5680125907615379, 'essential_metrics': {0: {'tp_hit': 80, 'fp_hit': 19, 'tn_hit': 9, 'fn_hit': 0}, 1: {'tp_hit': 6, 'fp_hit': 3, 'tn_hit': 90, 'fn_hit': 9}, 2: {'tp_hit': 0, 'fp_hit': 0, 'tn_hit': 95, 'fn_hit': 13}}, 'checkpoint': 10} \n",
      "\n",
      "\n",
      "{'accuracy': 0.9074074074074074, 'mean_square_error': 0.2230037154238897, 'categorical_crossentropy': 0.4923556645711263, 'essential_metrics': {0: {'tp_hit': 80, 'fp_hit': 12, 'tn_hit': 16, 'fn_hit': 0}, 1: {'tp_hit': 11, 'fp_hit': 3, 'tn_hit': 90, 'fn_hit': 4}, 2: {'tp_hit': 2, 'fp_hit': 0, 'tn_hit': 95, 'fn_hit': 11}}, 'checkpoint': 20} \n",
      "\n",
      "\n",
      "{'accuracy': 0.9259259259259259, 'mean_square_error': 0.20001727971203925, 'categorical_crossentropy': 0.42763024789315685, 'essential_metrics': {0: {'tp_hit': 80, 'fp_hit': 9, 'tn_hit': 19, 'fn_hit': 0}, 1: {'tp_hit': 12, 'fp_hit': 3, 'tn_hit': 90, 'fn_hit': 3}, 2: {'tp_hit': 4, 'fp_hit': 0, 'tn_hit': 95, 'fn_hit': 9}}, 'checkpoint': 30} \n",
      "\n",
      "\n",
      "{'accuracy': 0.9259259259259259, 'mean_square_error': 0.18324035010640888, 'categorical_crossentropy': 0.3645279495804398, 'essential_metrics': {0: {'tp_hit': 80, 'fp_hit': 11, 'tn_hit': 17, 'fn_hit': 0}, 1: {'tp_hit': 9, 'fp_hit': 0, 'tn_hit': 93, 'fn_hit': 6}, 2: {'tp_hit': 7, 'fp_hit': 1, 'tn_hit': 94, 'fn_hit': 6}}, 'checkpoint': 40} \n",
      "\n",
      "\n",
      "{'accuracy': 0.9197530864197531, 'mean_square_error': 0.19942095656886652, 'categorical_crossentropy': 0.38516210626672814, 'essential_metrics': {0: {'tp_hit': 80, 'fp_hit': 12, 'tn_hit': 16, 'fn_hit': 0}, 1: {'tp_hit': 8, 'fp_hit': 0, 'tn_hit': 93, 'fn_hit': 7}, 2: {'tp_hit': 7, 'fp_hit': 1, 'tn_hit': 94, 'fn_hit': 6}}, 'checkpoint': 50} \n",
      "\n",
      "\n",
      "{'accuracy': 0.9197530864197531, 'mean_square_error': 0.213211485425749, 'categorical_crossentropy': 0.4260167722348814, 'essential_metrics': {0: {'tp_hit': 77, 'fp_hit': 7, 'tn_hit': 21, 'fn_hit': 3}, 1: {'tp_hit': 12, 'fp_hit': 3, 'tn_hit': 90, 'fn_hit': 3}, 2: {'tp_hit': 6, 'fp_hit': 3, 'tn_hit': 92, 'fn_hit': 7}}, 'checkpoint': 60} \n",
      "\n",
      "\n",
      "{'accuracy': 0.9135802469135802, 'mean_square_error': 0.19871299904564932, 'categorical_crossentropy': 0.39521846064814814, 'essential_metrics': {0: {'tp_hit': 79, 'fp_hit': 10, 'tn_hit': 18, 'fn_hit': 1}, 1: {'tp_hit': 12, 'fp_hit': 3, 'tn_hit': 90, 'fn_hit': 3}, 2: {'tp_hit': 3, 'fp_hit': 1, 'tn_hit': 94, 'fn_hit': 10}}, 'checkpoint': 70} \n",
      "\n",
      "\n",
      "{'accuracy': 0.9197530864197531, 'mean_square_error': 0.2044269049729346, 'categorical_crossentropy': 0.40666968734176073, 'essential_metrics': {0: {'tp_hit': 79, 'fp_hit': 9, 'tn_hit': 19, 'fn_hit': 1}, 1: {'tp_hit': 11, 'fp_hit': 3, 'tn_hit': 90, 'fn_hit': 4}, 2: {'tp_hit': 5, 'fp_hit': 1, 'tn_hit': 94, 'fn_hit': 8}}, 'checkpoint': 80} \n",
      "\n",
      "\n",
      "{'accuracy': 0.9382716049382716, 'mean_square_error': 0.18746655155107733, 'categorical_crossentropy': 0.3775246938069661, 'essential_metrics': {0: {'tp_hit': 79, 'fp_hit': 6, 'tn_hit': 22, 'fn_hit': 1}, 1: {'tp_hit': 12, 'fp_hit': 3, 'tn_hit': 90, 'fn_hit': 3}, 2: {'tp_hit': 7, 'fp_hit': 1, 'tn_hit': 94, 'fn_hit': 6}}, 'checkpoint': 90} \n",
      "\n",
      "\n",
      "{'accuracy': 0.9506172839506173, 'mean_square_error': 0.15315556100831312, 'categorical_crossentropy': 0.3209282910382306, 'essential_metrics': {0: {'tp_hit': 79, 'fp_hit': 7, 'tn_hit': 21, 'fn_hit': 1}, 1: {'tp_hit': 11, 'fp_hit': 0, 'tn_hit': 93, 'fn_hit': 4}, 2: {'tp_hit': 10, 'fp_hit': 1, 'tn_hit': 94, 'fn_hit': 3}}, 'checkpoint': 100} \n",
      "\n",
      "\n",
      "{'accuracy': 0.9567901234567902, 'mean_square_error': 0.12260008324105659, 'categorical_crossentropy': 0.25054732075443975, 'essential_metrics': {0: {'tp_hit': 80, 'fp_hit': 7, 'tn_hit': 21, 'fn_hit': 0}, 1: {'tp_hit': 12, 'fp_hit': 0, 'tn_hit': 93, 'fn_hit': 3}, 2: {'tp_hit': 9, 'fp_hit': 0, 'tn_hit': 95, 'fn_hit': 4}}, 'checkpoint': 110} \n",
      "\n",
      "\n",
      "{'accuracy': 0.9567901234567902, 'mean_square_error': 0.11104057350195598, 'categorical_crossentropy': 0.23645962609185112, 'essential_metrics': {0: {'tp_hit': 79, 'fp_hit': 6, 'tn_hit': 22, 'fn_hit': 1}, 1: {'tp_hit': 13, 'fp_hit': 1, 'tn_hit': 92, 'fn_hit': 2}, 2: {'tp_hit': 9, 'fp_hit': 0, 'tn_hit': 95, 'fn_hit': 4}}, 'checkpoint': 120} \n",
      "\n",
      "\n",
      "{'accuracy': 0.9629629629629629, 'mean_square_error': 0.09223981008355242, 'categorical_crossentropy': 0.2086655298868815, 'essential_metrics': {0: {'tp_hit': 78, 'fp_hit': 4, 'tn_hit': 24, 'fn_hit': 2}, 1: {'tp_hit': 13, 'fp_hit': 0, 'tn_hit': 93, 'fn_hit': 2}, 2: {'tp_hit': 11, 'fp_hit': 2, 'tn_hit': 93, 'fn_hit': 2}}, 'checkpoint': 130} \n",
      "\n",
      "\n",
      "{'accuracy': 0.9691358024691358, 'mean_square_error': 0.08116180151039785, 'categorical_crossentropy': 0.18045564934059424, 'essential_metrics': {0: {'tp_hit': 79, 'fp_hit': 4, 'tn_hit': 24, 'fn_hit': 1}, 1: {'tp_hit': 13, 'fp_hit': 0, 'tn_hit': 93, 'fn_hit': 2}, 2: {'tp_hit': 11, 'fp_hit': 1, 'tn_hit': 94, 'fn_hit': 2}}, 'checkpoint': 140} \n",
      "\n",
      "\n",
      "{'accuracy': 0.9753086419753086, 'mean_square_error': 0.07309301124144613, 'categorical_crossentropy': 0.16436410833288123, 'essential_metrics': {0: {'tp_hit': 79, 'fp_hit': 3, 'tn_hit': 25, 'fn_hit': 1}, 1: {'tp_hit': 13, 'fp_hit': 0, 'tn_hit': 93, 'fn_hit': 2}, 2: {'tp_hit': 12, 'fp_hit': 1, 'tn_hit': 94, 'fn_hit': 1}}, 'checkpoint': 150} \n",
      "\n",
      "\n",
      "{'accuracy': 0.9753086419753086, 'mean_square_error': 0.07147696035842374, 'categorical_crossentropy': 0.14961161436858, 'essential_metrics': {0: {'tp_hit': 79, 'fp_hit': 3, 'tn_hit': 25, 'fn_hit': 1}, 1: {'tp_hit': 13, 'fp_hit': 0, 'tn_hit': 93, 'fn_hit': 2}, 2: {'tp_hit': 12, 'fp_hit': 1, 'tn_hit': 94, 'fn_hit': 1}}, 'checkpoint': 160} \n",
      "\n",
      "\n",
      "{'accuracy': 0.9691358024691358, 'mean_square_error': 0.061113029880373156, 'categorical_crossentropy': 0.127713644946063, 'essential_metrics': {0: {'tp_hit': 79, 'fp_hit': 4, 'tn_hit': 24, 'fn_hit': 1}, 1: {'tp_hit': 12, 'fp_hit': 0, 'tn_hit': 93, 'fn_hit': 3}, 2: {'tp_hit': 12, 'fp_hit': 1, 'tn_hit': 94, 'fn_hit': 1}}, 'checkpoint': 170} \n",
      "\n",
      "\n",
      "{'accuracy': 0.9691358024691358, 'mean_square_error': 0.05898646919415142, 'categorical_crossentropy': 0.11369888870804398, 'essential_metrics': {0: {'tp_hit': 79, 'fp_hit': 4, 'tn_hit': 24, 'fn_hit': 1}, 1: {'tp_hit': 12, 'fp_hit': 0, 'tn_hit': 93, 'fn_hit': 3}, 2: {'tp_hit': 12, 'fp_hit': 1, 'tn_hit': 94, 'fn_hit': 1}}, 'checkpoint': 180} \n",
      "\n",
      "\n",
      "{'accuracy': 0.9691358024691358, 'mean_square_error': 0.05510666704681592, 'categorical_crossentropy': 0.11046373402630841, 'essential_metrics': {0: {'tp_hit': 78, 'fp_hit': 3, 'tn_hit': 25, 'fn_hit': 2}, 1: {'tp_hit': 13, 'fp_hit': 1, 'tn_hit': 92, 'fn_hit': 2}, 2: {'tp_hit': 12, 'fp_hit': 1, 'tn_hit': 94, 'fn_hit': 1}}, 'checkpoint': 190} \n",
      "\n",
      "\n",
      "{'accuracy': 0.9691358024691358, 'mean_square_error': 0.05025126703962015, 'categorical_crossentropy': 0.10032033037256312, 'essential_metrics': {0: {'tp_hit': 78, 'fp_hit': 3, 'tn_hit': 25, 'fn_hit': 2}, 1: {'tp_hit': 14, 'fp_hit': 1, 'tn_hit': 92, 'fn_hit': 1}, 2: {'tp_hit': 11, 'fp_hit': 1, 'tn_hit': 94, 'fn_hit': 2}}, 'checkpoint': 200} \n",
      "\n",
      "\n"
     ]
    }
   ],
   "source": [
    "for checkpoint in checkpoints:\n",
    "    print(checkpoint, '\\n\\n')"
   ]
  },
  {
   "cell_type": "code",
   "execution_count": 14,
   "metadata": {},
   "outputs": [
    {
     "name": "stdout",
     "output_type": "stream",
     "text": [
      "Layer 1\n",
      "Neuron 0: weights:\n",
      "[-0.23707946  3.         -0.51750124 -1.1582966  -2.9348598 ]\n",
      " bias: 2.3499574661254883\n",
      "\n",
      "Neuron 1: weights:\n",
      "[-1.9122033   3.          3.          0.01171813 -1.2543342 ]\n",
      " bias: -3.0\n",
      "\n",
      "Neuron 2: weights:\n",
      "[ 0.9703322 -2.3359659  0.8111199  2.056032   3.       ]\n",
      " bias: 2.188465118408203\n",
      "\n",
      "Neuron 3: weights:\n",
      "[-0.9907715 -1.309913  -2.0967393  3.         1.1276346]\n",
      " bias: -1.387129306793213\n",
      "\n",
      "$\n",
      "Layer 2\n",
      "Neuron 0: weights:\n",
      "[ 3.        -3.         3.        -0.8848781]\n",
      " bias: -2.045870780944824\n",
      "\n",
      "Neuron 1: weights:\n",
      "[-0.24404164  3.         -1.4157387  -1.8620042 ]\n",
      " bias: -0.2241244912147522\n",
      "\n",
      "Neuron 2: weights:\n",
      "[-3.        -1.7095695  3.         3.       ]\n",
      " bias: -1.8996399641036987\n",
      "\n",
      "$\n",
      "\n"
     ]
    }
   ],
   "source": [
    "print(model)"
   ]
  }
 ],
 "metadata": {
  "kernelspec": {
   "display_name": "Python 3",
   "language": "python",
   "name": "python3"
  },
  "language_info": {
   "codemirror_mode": {
    "name": "ipython",
    "version": 3
   },
   "file_extension": ".py",
   "mimetype": "text/x-python",
   "name": "python",
   "nbconvert_exporter": "python",
   "pygments_lexer": "ipython3",
   "version": "3.6.12"
  }
 },
 "nbformat": 4,
 "nbformat_minor": 2
}
