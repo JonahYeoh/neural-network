{
 "cells": [
  {
   "cell_type": "code",
   "execution_count": 1,
   "metadata": {},
   "outputs": [],
   "source": [
    "# dependency\n",
    "import numpy as np\n",
    "import pandas as pd\n",
    "import copy\n",
    "import math\n",
    "import sys\n",
    "import os\n",
    "from activations import relu, leaky_relu, sigmoid, tanh, softmax, d_sigmoid, d_relu\n",
    "from initializers import glorot_uniform, random_normal, random_uniform\n",
    "from regularizers import l1_regularizer, l2_regularizer\n",
    "from utility import trim_tail, multiply, subtract, get_nparams, one_hot_encoding, get_data\n",
    "from metrics import MSE, CCE, ACC, PRECISION, RECALL, essential_metrics, wondering_penalty, close_gap_penalty\n",
    "from pso import PSO\n",
    "from ga import GA\n",
    "from nn import Network\n",
    "from layer import DenseLayer\n",
    "from scalers import MinMaxScaler, StandardScaler"
   ]
  },
  {
   "cell_type": "code",
   "execution_count": 2,
   "metadata": {},
   "outputs": [],
   "source": [
    "# reference\n",
    "metrics_fn_dict = dict()\n",
    "metrics_fn_dict['accuracy'] = ACC\n",
    "metrics_fn_dict['categorical_crossentropy'] = CCE\n",
    "metrics_fn_dict['mean_square_error'] = MSE\n",
    "metrics_fn_dict['precision'] = PRECISION\n",
    "metrics_fn_dict['recall'] = RECALL\n",
    "metrics_fn_dict['essential_metrics'] = essential_metrics"
   ]
  },
  {
   "cell_type": "code",
   "execution_count": 3,
   "metadata": {},
   "outputs": [],
   "source": [
    "# model\n",
    "model = Network(5, lr = None)\n",
    "model.add_layer(DenseLayer(1, 4, True, afn=sigmoid, dafn=None, rfn=None))\n",
    "model.add_layer(DenseLayer(2, 3, True, afn=softmax, dafn=None, rfn=None))"
   ]
  },
  {
   "cell_type": "code",
   "execution_count": 4,
   "metadata": {},
   "outputs": [
    {
     "name": "stdout",
     "output_type": "stream",
     "text": [
      "see one see two 2 2\n"
     ]
    }
   ],
   "source": [
    "pso = PSO(dict(m = 50,\n",
    "    weight_constraint = [-3, 3], \n",
    "    velocity_constraint = [-0.1, 0.1],\n",
    "    c1 = 2,\n",
    "    c2 = 2,\n",
    "    w = 1,\n",
    "    w_decay = 1,\n",
    "    scale_hyperparameter = False,\n",
    "    regularizer = None,\n",
    "    mask = True))"
   ]
  },
  {
   "cell_type": "code",
   "execution_count": 5,
   "metadata": {},
   "outputs": [
    {
     "name": "stdout",
     "output_type": "stream",
     "text": [
      "building layer 1 with 5\n",
      "24\n",
      "building layer 2 with 4\n",
      "15\n"
     ]
    }
   ],
   "source": [
    "model.compile(loss_fn = 'categorical_crossentropy', optimizer = pso, \\\n",
    "    metrics = ['accuracy', 'mean_square_error', 'categorical_crossentropy'])"
   ]
  },
  {
   "cell_type": "code",
   "execution_count": 6,
   "metadata": {},
   "outputs": [
    {
     "name": "stdout",
     "output_type": "stream",
     "text": [
      "<class 'pandas.core.frame.DataFrame'>\n",
      "RangeIndex: 107 entries, 0 to 106\n",
      "Data columns (total 6 columns):\n",
      " #   Column  Non-Null Count  Dtype  \n",
      "---  ------  --------------  -----  \n",
      " 0   f1      107 non-null    float32\n",
      " 1   f2      107 non-null    float32\n",
      " 2   f3      107 non-null    float32\n",
      " 3   f4      107 non-null    float32\n",
      " 4   f5      107 non-null    float32\n",
      " 5   label   107 non-null    float32\n",
      "dtypes: float32(6)\n",
      "memory usage: 2.6 KB\n",
      "None\n",
      "<class 'pandas.core.frame.DataFrame'>\n",
      "RangeIndex: 108 entries, 0 to 107\n",
      "Data columns (total 6 columns):\n",
      " #   Column  Non-Null Count  Dtype  \n",
      "---  ------  --------------  -----  \n",
      " 0   f1      108 non-null    float32\n",
      " 1   f2      108 non-null    float32\n",
      " 2   f3      108 non-null    float32\n",
      " 3   f4      108 non-null    float32\n",
      " 4   f5      108 non-null    float32\n",
      " 5   label   108 non-null    float32\n",
      "dtypes: float32(6)\n",
      "memory usage: 2.7 KB\n",
      "None\n"
     ]
    }
   ],
   "source": [
    "# data loading\n",
    "DATA = os.path.join('c:\\\\Users\\\\tcumi\\\\github_repo\\\\neural-network\\\\', 'dataset')\n",
    "GROUP = 1\n",
    "COLUMNS = ['f1', 'f2', 'f3', 'f4', 'f5', 'label']\n",
    "N_CLASS = 3\n",
    "EPOCHS = 500\n",
    "train_dir, test_dir = \"..//dataset//training_data{}.txt\".format(GROUP), \"..//dataset//testing_data{}.txt\".format(GROUP)\n",
    "train, test = get_data(DATA, train_dir, COLUMNS), get_data(DATA, test_dir, COLUMNS)\n",
    "# shuffle\n",
    "train, test = train.sample(frac=1), test.sample(frac=1)\n",
    "x_train, y_train = train.drop('label', axis=1), train['label']\n",
    "x_test, y_test = test.drop('label', axis=1), test['label']"
   ]
  },
  {
   "cell_type": "code",
   "execution_count": 7,
   "metadata": {},
   "outputs": [],
   "source": [
    "# data scaling and encoding\n",
    "scaler = StandardScaler(['f1', 'f2', 'f3', 'f4', 'f5'])\n",
    "scaler.fit(x_train)\n",
    "x_train = scaler.transform(x_train)\n",
    "x_test = scaler.transform(x_test)\n",
    "y_train = one_hot_encoding(y_train, N_CLASS)\n",
    "y_test = one_hot_encoding(y_test, N_CLASS)"
   ]
  },
  {
   "cell_type": "code",
   "execution_count": 8,
   "metadata": {
    "tags": [
     "outputPrepend"
    ]
   },
   "outputs": [
    {
     "name": "stdout",
     "output_type": "stream",
     "text": [
      "Checkpoint 100, Accuracy: 0.9691358024691358, Loss: 0.2821547543561017\n",
      "Checkpoint 200, Accuracy: 0.9753086419753086, Loss: 0.10075813752633554\n",
      "Checkpoint 300, Accuracy: 0.9691358024691358, Loss: 0.10648428952252423\n",
      "Checkpoint 400, Accuracy: 0.9691358024691358, Loss: 0.09955045912000868\n",
      "Checkpoint 500, Accuracy: 0.9691358024691358, Loss: 0.10008668899536133\n"
     ]
    }
   ],
   "source": [
    "# learning phase\n",
    "breakpoint = 100\n",
    "checkpoints = list()\n",
    "history = list()\n",
    "for century in range(0, EPOCHS, breakpoint):\n",
    "    sub_history = model.fit(x_train, y_train, breakpoint, verbose = 0)\n",
    "    score = model.evaluate(x_test, y_test, False, verbose = 0)\n",
    "    print('Checkpoint {}, Accuracy: {}, Loss: {}'.format(century+breakpoint, score['accuracy'], score[model.loss_fn]))\n",
    "    score['checkpoint'] = century + breakpoint\n",
    "    checkpoints.append(score)\n",
    "    history.extend(sub_history)"
   ]
  },
  {
   "cell_type": "code",
   "execution_count": 9,
   "metadata": {},
   "outputs": [],
   "source": [
    "import matplotlib.pyplot as plt\n",
    "\n",
    "def draw_plot(x, y_list, x_label=None, y_label=None, legend=None, title=None):\n",
    "    fig, ax = plt.subplots(figsize=(12,5))\n",
    "    for xi, yi in zip(x, y_list):\n",
    "        ax.plot(xi, yi)\n",
    "    if x_label is not None and y_label is not None:\n",
    "        ax.set(xlabel=x_label, ylabel=y_label, title='{} VS {}'.format(x_label, y_label))\n",
    "    if legend is not None:\n",
    "        ax.legend(legend)\n",
    "    ax.grid()\n",
    "    plt.show()"
   ]
  },
  {
   "cell_type": "code",
   "execution_count": 10,
   "metadata": {},
   "outputs": [
    {
     "name": "stdout",
     "output_type": "stream",
     "text": [
      "[1. 0. 0.] <-> [0.99654645 0.0022225  0.00123112]\n",
      "[0. 0. 1.] <-> [6.3599101e-03 2.1478447e-05 9.9361861e-01]\n",
      "[1. 0. 0.] <-> [0.9976089  0.00118411 0.00120692]\n",
      "[1. 0. 0.] <-> [0.99623233 0.00134495 0.00242273]\n",
      "[1. 0. 0.] <-> [0.9923239  0.00604958 0.00162652]\n",
      "[1. 0. 0.] <-> [0.99701947 0.00165749 0.00132295]\n",
      "[0. 1. 0.] <-> [6.6271885e-03 9.9331409e-01 5.8780275e-05]\n",
      "[0. 1. 0.] <-> [1.9265223e-02 9.8060203e-01 1.3282937e-04]\n",
      "[1. 0. 0.] <-> [0.9147681  0.08292708 0.00230481]\n",
      "[1. 0. 0.] <-> [0.99318427 0.00109744 0.00571829]\n",
      "[1. 0. 0.] <-> [0.9960375  0.00238569 0.00157686]\n",
      "[1. 0. 0.] <-> [0.99663466 0.0010427  0.00232275]\n",
      "[1. 0. 0.] <-> [0.9973572  0.0013902  0.00125254]\n",
      "[1. 0. 0.] <-> [0.988223   0.00988752 0.00188947]\n",
      "[0. 0. 1.] <-> [6.0477257e-03 2.0463229e-05 9.9393189e-01]\n",
      "[1. 0. 0.] <-> [0.99558866 0.00124132 0.00316998]\n",
      "[1. 0. 0.] <-> [0.65501654 0.0011631  0.34382036]\n",
      "[1. 0. 0.] <-> [0.8952801  0.00139537 0.10332461]\n",
      "[1. 0. 0.] <-> [0.9903178  0.00682267 0.00285947]\n",
      "[1. 0. 0.] <-> [0.9947942  0.00129822 0.00390759]\n",
      "[0. 0. 1.] <-> [1.4579795e-01 3.2417104e-04 8.5387784e-01]\n",
      "[1. 0. 0.] <-> [0.9974273  0.00111271 0.00146005]\n",
      "[1. 0. 0.] <-> [0.9969332  0.00153515 0.00153167]\n",
      "[1. 0. 0.] <-> [1.8286550e-02 5.3627733e-05 9.8165983e-01]\n",
      "[1. 0. 0.] <-> [0.99405485 0.00120898 0.00473621]\n",
      "[1. 0. 0.] <-> [0.9599129  0.00120954 0.0388776 ]\n",
      "[1. 0. 0.] <-> [0.99723023 0.00146413 0.00130559]\n",
      "[1. 0. 0.] <-> [0.95694906 0.04046312 0.0025878 ]\n",
      "[1. 0. 0.] <-> [0.9971253  0.00134964 0.00152502]\n",
      "[1. 0. 0.] <-> [0.9953016  0.00112049 0.00357784]\n",
      "[0. 1. 0.] <-> [0.67253935 0.32579648 0.00166417]\n",
      "[1. 0. 0.] <-> [0.9916021  0.00107747 0.00732044]\n",
      "[0. 0. 1.] <-> [7.2979042e-03 2.4330719e-05 9.9267781e-01]\n",
      "[1. 0. 0.] <-> [0.9963349  0.00226765 0.00139749]\n",
      "[0. 1. 0.] <-> [6.6657304e-03 9.9327528e-01 5.8990023e-05]\n",
      "[1. 0. 0.] <-> [0.9966151  0.00212346 0.00126148]\n",
      "[1. 0. 0.] <-> [0.99737984 0.00114811 0.00147212]\n",
      "[0. 0. 1.] <-> [6.0480838e-03 2.0464451e-05 9.9393153e-01]\n",
      "[1. 0. 0.] <-> [0.8876103  0.00133311 0.1110566 ]\n",
      "[1. 0. 0.] <-> [0.99706775 0.00126889 0.00166338]\n",
      "[0. 0. 1.] <-> [0.56069744 0.001021   0.43828154]\n",
      "[0. 0. 1.] <-> [6.0485424e-03 2.0465906e-05 9.9393106e-01]\n",
      "[1. 0. 0.] <-> [0.89118624 0.0012511  0.10756273]\n",
      "[0. 1. 0.] <-> [1.3017197e-01 8.6912584e-01 7.0217648e-04]\n",
      "[1. 0. 0.] <-> [0.9951847  0.00324435 0.001571  ]\n",
      "[1. 0. 0.] <-> [0.37132055 0.6272319  0.00144758]\n",
      "[0. 1. 0.] <-> [8.6534433e-03 9.9127483e-01 7.1691888e-05]\n",
      "[1. 0. 0.] <-> [0.99018455 0.00819243 0.00162309]\n",
      "[0. 1. 0.] <-> [0.40099058 0.59726083 0.00174856]\n",
      "[0. 1. 0.] <-> [6.8504899e-03 9.9308938e-01 6.0142123e-05]\n",
      "[1. 0. 0.] <-> [9.9684381e-01 9.9636649e-04 2.1598479e-03]\n",
      "[1. 0. 0.] <-> [0.9965559  0.00125145 0.00219272]\n",
      "[1. 0. 0.] <-> [0.9956316  0.00118607 0.00318245]\n",
      "[1. 0. 0.] <-> [0.99677294 0.00172587 0.00150127]\n",
      "[1. 0. 0.] <-> [0.99263656 0.00116653 0.00619691]\n",
      "[1. 0. 0.] <-> [0.99055976 0.00109777 0.00834244]\n",
      "[1. 0. 0.] <-> [0.9955375  0.00123892 0.00322363]\n",
      "[1. 0. 0.] <-> [0.9966061  0.00107555 0.0023183 ]\n",
      "[1. 0. 0.] <-> [0.9934149  0.00122841 0.00535674]\n",
      "[1. 0. 0.] <-> [0.9967359  0.00197129 0.00129281]\n",
      "[0. 0. 1.] <-> [6.1170394e-03 2.0698531e-05 9.9386227e-01]\n",
      "[1. 0. 0.] <-> [0.9628404  0.00181814 0.03534152]\n",
      "[1. 0. 0.] <-> [0.9971739  0.00122278 0.00160339]\n",
      "[1. 0. 0.] <-> [0.9970878  0.00112559 0.00178657]\n",
      "[0. 0. 1.] <-> [6.2649553e-03 2.1198222e-05 9.9371380e-01]\n",
      "[0. 1. 0.] <-> [0.26167488 0.73708504 0.00124006]\n",
      "[0. 1. 0.] <-> [1.1330245e-02 9.8857713e-01 9.2680915e-05]\n",
      "[0. 1. 0.] <-> [1.2013294e-02 9.8789549e-01 9.1101581e-05]\n",
      "[0. 0. 1.] <-> [8.7365238e-03 2.9651404e-05 9.9123389e-01]\n",
      "[1. 0. 0.] <-> [0.9965816  0.0013478  0.00207056]\n",
      "[0. 1. 0.] <-> [3.8624801e-02 9.6117759e-01 1.9765331e-04]\n",
      "[1. 0. 0.] <-> [0.99580634 0.00116492 0.00302871]\n",
      "[0. 1. 0.] <-> [6.6291410e-03 9.9331206e-01 5.8712871e-05]\n",
      "[1. 0. 0.] <-> [0.9961035  0.00192645 0.00197013]\n",
      "[1. 0. 0.] <-> [0.9704381  0.00123226 0.02832953]\n",
      "[1. 0. 0.] <-> [0.99356765 0.00107917 0.00535324]\n",
      "[1. 0. 0.] <-> [0.9657686  0.00142565 0.0328058 ]\n",
      "[1. 0. 0.] <-> [0.9968014  0.00178271 0.00141596]\n",
      "[1. 0. 0.] <-> [0.94418025 0.00131011 0.05450964]\n",
      "[0. 1. 0.] <-> [6.9334065e-03 9.9300599e-01 6.0643946e-05]\n",
      "[0. 0. 1.] <-> [6.0477569e-03 2.0463343e-05 9.9393177e-01]\n",
      "[0. 1. 0.] <-> [6.6289818e-03 9.9331230e-01 5.8709356e-05]\n",
      "[1. 0. 0.] <-> [0.9965056  0.00114689 0.00234746]\n",
      "[1. 0. 0.] <-> [0.9967932  0.0019067  0.00130005]\n",
      "[0. 0. 1.] <-> [6.0477257e-03 2.0463229e-05 9.9393189e-01]\n",
      "[1. 0. 0.] <-> [0.99734676 0.00117743 0.00147579]\n",
      "[0. 0. 1.] <-> [6.0801599e-03 2.0567286e-05 9.9389923e-01]\n",
      "[1. 0. 0.] <-> [0.995093   0.00346072 0.00144628]\n",
      "[1. 0. 0.] <-> [0.9917854  0.00648669 0.00172794]\n",
      "[1. 0. 0.] <-> [0.99594194 0.00170544 0.00235258]\n",
      "[1. 0. 0.] <-> [0.9947514  0.00138437 0.00386431]\n",
      "[1. 0. 0.] <-> [0.992585   0.00111053 0.00630447]\n",
      "[1. 0. 0.] <-> [0.9820565  0.00124479 0.01669871]\n",
      "[1. 0. 0.] <-> [0.98294026 0.00120207 0.01585763]\n",
      "[1. 0. 0.] <-> [9.9642724e-01 9.7590976e-04 2.5968987e-03]\n",
      "[1. 0. 0.] <-> [0.99465996 0.00111759 0.00422251]\n",
      "[1. 0. 0.] <-> [0.9975501  0.00113053 0.00131943]\n",
      "[1. 0. 0.] <-> [0.9060808  0.00145333 0.09246594]\n",
      "[1. 0. 0.] <-> [0.997083   0.00135102 0.00156598]\n",
      "[1. 0. 0.] <-> [0.99014425 0.00112808 0.00872765]\n",
      "[1. 0. 0.] <-> [0.9832745  0.00132043 0.01540509]\n",
      "[1. 0. 0.] <-> [0.9965289  0.00205311 0.00141796]\n",
      "[1. 0. 0.] <-> [0.9957456  0.001037   0.00321745]\n",
      "[1. 0. 0.] <-> [0.99381655 0.00107582 0.00510763]\n",
      "[1. 0. 0.] <-> [0.9959282  0.00125865 0.00281314]\n",
      "[1. 0. 0.] <-> [0.99739045 0.00114077 0.00146883]\n",
      "[1. 0. 0.] <-> [0.9965491  0.00216094 0.00128992]\n",
      "[1. 0. 0.] <-> [0.36588526 0.00078972 0.63332504]\n",
      "{'accuracy': 0.9691358024691358, 'mean_square_error': 0.055200914745016975, 'categorical_crossentropy': 0.10008668899536133, 'essential_metrics': {0: {'tp_hit': 77, 'fp_hit': 2, 'tn_hit': 26, 'fn_hit': 3}, 1: {'tp_hit': 14, 'fp_hit': 1, 'tn_hit': 92, 'fn_hit': 1}, 2: {'tp_hit': 12, 'fp_hit': 2, 'tn_hit': 93, 'fn_hit': 1}}}\n"
     ]
    }
   ],
   "source": [
    "# recall phase\n",
    "score = model.evaluate(x_test, y_test, False)\n",
    "print(score)"
   ]
  },
  {
   "cell_type": "code",
   "execution_count": 11,
   "metadata": {},
   "outputs": [
    {
     "data": {
      "image/png": "[encoded data removed]",
      "text/plain": [
       "<Figure size 864x360 with 1 Axes>"
      ]
     },
     "metadata": {
      "needs_background": "light"
     },
     "output_type": "display_data"
    },
    {
     "data": {
      "image/png": "[encoded data removed]",
      "text/plain": [
       "<Figure size 864x360 with 1 Axes>"
      ]
     },
     "metadata": {
      "needs_background": "light"
     },
     "output_type": "display_data"
    }
   ],
   "source": [
    "draw_plot(x = [[i for i in range(len(history))], [(i+1)*breakpoint for i in range(len(checkpoints))]], y_list = [history, [ ckp[model.loss_fn] for ckp in checkpoints ]], x_label = 'Epochs', \\\n",
    "    y_label = model.loss_fn, legend=['train', 'test'])\n",
    "acc = [ ckp['accuracy'] for ckp in checkpoints ]\n",
    "draw_plot(x = [[(i+1)*breakpoint for i in range(len(checkpoints))]], y_list = [acc], x_label = 'Checkpoints', \\\n",
    "    y_label = 'accuracy')"
   ]
  },
  {
   "cell_type": "code",
   "execution_count": 12,
   "metadata": {},
   "outputs": [
    {
     "name": "stdout",
     "output_type": "stream",
     "text": [
      "{'accuracy': 0.9691358024691358, 'mean_square_error': 0.12938811272724496, 'categorical_crossentropy': 0.2821547543561017, 'essential_metrics': {0: {'tp_hit': 79, 'fp_hit': 4, 'tn_hit': 24, 'fn_hit': 1}, 1: {'tp_hit': 13, 'fp_hit': 0, 'tn_hit': 93, 'fn_hit': 2}, 2: {'tp_hit': 11, 'fp_hit': 1, 'tn_hit': 94, 'fn_hit': 2}}, 'checkpoint': 100} \n",
      "\n",
      "\n",
      "{'accuracy': 0.9753086419753086, 'mean_square_error': 0.053938035541349114, 'categorical_crossentropy': 0.10075813752633554, 'essential_metrics': {0: {'tp_hit': 77, 'fp_hit': 1, 'tn_hit': 27, 'fn_hit': 3}, 1: {'tp_hit': 15, 'fp_hit': 1, 'tn_hit': 92, 'fn_hit': 0}, 2: {'tp_hit': 12, 'fp_hit': 2, 'tn_hit': 93, 'fn_hit': 1}}, 'checkpoint': 200} \n",
      "\n",
      "\n",
      "{'accuracy': 0.9691358024691358, 'mean_square_error': 0.059002727127191464, 'categorical_crossentropy': 0.10648428952252423, 'essential_metrics': {0: {'tp_hit': 77, 'fp_hit': 2, 'tn_hit': 26, 'fn_hit': 3}, 1: {'tp_hit': 14, 'fp_hit': 1, 'tn_hit': 92, 'fn_hit': 1}, 2: {'tp_hit': 12, 'fp_hit': 2, 'tn_hit': 93, 'fn_hit': 1}}, 'checkpoint': 300} \n",
      "\n",
      "\n",
      "{'accuracy': 0.9691358024691358, 'mean_square_error': 0.05393932715167205, 'categorical_crossentropy': 0.09955045912000868, 'essential_metrics': {0: {'tp_hit': 77, 'fp_hit': 2, 'tn_hit': 26, 'fn_hit': 3}, 1: {'tp_hit': 14, 'fp_hit': 1, 'tn_hit': 92, 'fn_hit': 1}, 2: {'tp_hit': 12, 'fp_hit': 2, 'tn_hit': 93, 'fn_hit': 1}}, 'checkpoint': 400} \n",
      "\n",
      "\n",
      "{'accuracy': 0.9691358024691358, 'mean_square_error': 0.055200914745016975, 'categorical_crossentropy': 0.10008668899536133, 'essential_metrics': {0: {'tp_hit': 77, 'fp_hit': 2, 'tn_hit': 26, 'fn_hit': 3}, 1: {'tp_hit': 14, 'fp_hit': 1, 'tn_hit': 92, 'fn_hit': 1}, 2: {'tp_hit': 12, 'fp_hit': 2, 'tn_hit': 93, 'fn_hit': 1}}, 'checkpoint': 500} \n",
      "\n",
      "\n"
     ]
    }
   ],
   "source": [
    "for checkpoint in checkpoints:\n",
    "    print(checkpoint, '\\n\\n')"
   ]
  },
  {
   "cell_type": "code",
   "execution_count": 13,
   "metadata": {},
   "outputs": [
    {
     "name": "stdout",
     "output_type": "stream",
     "text": [
      "Layer 1\n",
      "Neuron 0: weights:\n",
      "[ 0.28700626 -3.         -0.79144514  0.25950226  3.        ]\n",
      " bias: -3.0\n",
      "\n",
      "Neuron 1: weights:\n",
      "[-0.2842758  -3.         -0.41114014  3.          3.        ]\n",
      " bias: -2.3535776138305664\n",
      "\n",
      "Neuron 2: weights:\n",
      "[-2.0118785   3.          3.          0.06288311 -1.9526497 ]\n",
      " bias: -3.0\n",
      "\n",
      "Neuron 3: weights:\n",
      "[ 1.844362   -3.         -1.5518135  -0.71763927  2.7936563 ]\n",
      " bias: 3.0\n",
      "\n",
      "$\n",
      "Layer 2\n",
      "Neuron 0: weights:\n",
      "[-3. -3. -3.  3.]\n",
      " bias: 1.7266227006912231\n",
      "\n",
      "Neuron 1: weights:\n",
      "[-3.        -1.6984318  3.        -3.       ]\n",
      " bias: 0.7362467050552368\n",
      "\n",
      "Neuron 2: weights:\n",
      "[ 3.         3.        -3.         0.8286092]\n",
      " bias: -3.0\n",
      "\n",
      "$\n",
      "\n"
     ]
    }
   ],
   "source": [
    "print(model)"
   ]
  }
 ],
 "metadata": {
  "kernelspec": {
   "display_name": "Python 3",
   "language": "python",
   "name": "python3"
  },
  "language_info": {
   "codemirror_mode": {
    "name": "ipython",
    "version": 3
   },
   "file_extension": ".py",
   "mimetype": "text/x-python",
   "name": "python",
   "nbconvert_exporter": "python",
   "pygments_lexer": "ipython3",
   "version": "3.6.10"
  }
 },
 "nbformat": 4,
 "nbformat_minor": 2
}
