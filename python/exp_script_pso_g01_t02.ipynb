{
 "cells": [
  {
   "cell_type": "code",
   "execution_count": 1,
   "metadata": {},
   "outputs": [],
   "source": [
    "# dependency\n",
    "import numpy as np\n",
    "import pandas as pd\n",
    "import copy\n",
    "import math\n",
    "import sys\n",
    "import os\n",
    "from activations import relu, leaky_relu, sigmoid, tanh, softmax, d_sigmoid, d_relu\n",
    "from initializers import glorot_uniform, random_normal, random_uniform\n",
    "from regularizers import l1_regularizer, l2_regularizer\n",
    "from utility import trim_tail, multiply, subtract, get_nparams, one_hot_encoding, get_data\n",
    "from metrics import MSE, CCE, ACC, PRECISION, RECALL, essential_metrics, wondering_penalty, close_gap_penalty\n",
    "from pso import PSO\n",
    "from ga import GA\n",
    "from nn import Network\n",
    "from layer import DenseLayer\n",
    "from scalers import MinMaxScaler, StandardScaler"
   ]
  },
  {
   "cell_type": "code",
   "execution_count": 2,
   "metadata": {},
   "outputs": [],
   "source": [
    "# reference\n",
    "metrics_fn_dict = dict()\n",
    "metrics_fn_dict['accuracy'] = ACC\n",
    "metrics_fn_dict['categorical_crossentropy'] = CCE\n",
    "metrics_fn_dict['mean_square_error'] = MSE\n",
    "metrics_fn_dict['precision'] = PRECISION\n",
    "metrics_fn_dict['recall'] = RECALL\n",
    "metrics_fn_dict['essential_metrics'] = essential_metrics"
   ]
  },
  {
   "cell_type": "code",
   "execution_count": 3,
   "metadata": {},
   "outputs": [],
   "source": [
    "# model\n",
    "model = Network(5, lr = None)\n",
    "model.add_layer(DenseLayer(1, 4, True, afn=sigmoid, dafn=None, rfn=None))\n",
    "model.add_layer(DenseLayer(2, 3, True, afn=softmax, dafn=None, rfn=None))"
   ]
  },
  {
   "cell_type": "code",
   "execution_count": 4,
   "metadata": {},
   "outputs": [
    {
     "name": "stdout",
     "output_type": "stream",
     "text": [
      "see one see two 2 2\n"
     ]
    }
   ],
   "source": [
    "pso = PSO(dict(m = 50,\n",
    "    weight_constraint = [-3, 3], \n",
    "    velocity_constraint = [-0.1, 0.1],\n",
    "    c1 = 2,\n",
    "    c2 = 2,\n",
    "    w = 1,\n",
    "    w_decay = 1,\n",
    "    scale_hyperparameter = False,\n",
    "    regularizer = None,\n",
    "    mask = True))"
   ]
  },
  {
   "cell_type": "code",
   "execution_count": 5,
   "metadata": {},
   "outputs": [
    {
     "name": "stdout",
     "output_type": "stream",
     "text": [
      "building layer 1 with 5\n",
      "24\n",
      "building layer 2 with 4\n",
      "15\n"
     ]
    }
   ],
   "source": [
    "model.compile(loss_fn = 'categorical_crossentropy', optimizer = pso, \\\n",
    "    metrics = ['accuracy', 'mean_square_error', 'categorical_crossentropy'])"
   ]
  },
  {
   "cell_type": "code",
   "execution_count": 6,
   "metadata": {},
   "outputs": [
    {
     "name": "stdout",
     "output_type": "stream",
     "text": [
      "<class 'pandas.core.frame.DataFrame'>\n",
      "RangeIndex: 107 entries, 0 to 106\n",
      "Data columns (total 6 columns):\n",
      " #   Column  Non-Null Count  Dtype  \n",
      "---  ------  --------------  -----  \n",
      " 0   f1      107 non-null    float32\n",
      " 1   f2      107 non-null    float32\n",
      " 2   f3      107 non-null    float32\n",
      " 3   f4      107 non-null    float32\n",
      " 4   f5      107 non-null    float32\n",
      " 5   label   107 non-null    float32\n",
      "dtypes: float32(6)\n",
      "memory usage: 2.6 KB\n",
      "None\n",
      "<class 'pandas.core.frame.DataFrame'>\n",
      "RangeIndex: 108 entries, 0 to 107\n",
      "Data columns (total 6 columns):\n",
      " #   Column  Non-Null Count  Dtype  \n",
      "---  ------  --------------  -----  \n",
      " 0   f1      108 non-null    float32\n",
      " 1   f2      108 non-null    float32\n",
      " 2   f3      108 non-null    float32\n",
      " 3   f4      108 non-null    float32\n",
      " 4   f5      108 non-null    float32\n",
      " 5   label   108 non-null    float32\n",
      "dtypes: float32(6)\n",
      "memory usage: 2.7 KB\n",
      "None\n"
     ]
    }
   ],
   "source": [
    "# data loading\n",
    "DATA = os.path.join('c:\\\\Users\\\\tcumi\\\\github_repo\\\\neural-network\\\\', 'dataset')\n",
    "GROUP = 1\n",
    "COLUMNS = ['f1', 'f2', 'f3', 'f4', 'f5', 'label']\n",
    "N_CLASS = 3\n",
    "EPOCHS = 500\n",
    "train_dir, test_dir = \"..//dataset//training_data{}.txt\".format(GROUP), \"..//dataset//testing_data{}.txt\".format(GROUP)\n",
    "train, test = get_data(DATA, train_dir, COLUMNS), get_data(DATA, test_dir, COLUMNS)\n",
    "# shuffle\n",
    "train, test = train.sample(frac=1), test.sample(frac=1)\n",
    "x_train, y_train = train.drop('label', axis=1), train['label']\n",
    "x_test, y_test = test.drop('label', axis=1), test['label']"
   ]
  },
  {
   "cell_type": "code",
   "execution_count": 7,
   "metadata": {},
   "outputs": [],
   "source": [
    "# data scaling and encoding\n",
    "scaler = StandardScaler(['f1', 'f2', 'f3', 'f4', 'f5'])\n",
    "scaler.fit(x_train)\n",
    "x_train = scaler.transform(x_train)\n",
    "x_test = scaler.transform(x_test)\n",
    "y_train = one_hot_encoding(y_train, N_CLASS)\n",
    "y_test = one_hot_encoding(y_test, N_CLASS)"
   ]
  },
  {
   "cell_type": "code",
   "execution_count": 8,
   "metadata": {
    "tags": [
     "outputPrepend"
    ]
   },
   "outputs": [
    {
     "name": "stdout",
     "output_type": "stream",
     "text": [
      "Checkpoint 100, Accuracy: 0.9753086419753086, Loss: 0.1866390970018175\n",
      "Checkpoint 200, Accuracy: 0.9629629629629629, Loss: 0.11620588655825015\n",
      "Checkpoint 300, Accuracy: 0.9691358024691358, Loss: 0.10538945374665437\n",
      "Checkpoint 400, Accuracy: 0.9691358024691358, Loss: 0.10064432356092665\n",
      "Checkpoint 500, Accuracy: 0.9691358024691358, Loss: 0.10295145599930375\n"
     ]
    }
   ],
   "source": [
    "# learning phase\n",
    "breakpoint = 100\n",
    "checkpoints = list()\n",
    "history = list()\n",
    "for century in range(0, EPOCHS, breakpoint):\n",
    "    sub_history = model.fit(x_train, y_train, breakpoint, verbose = 0)\n",
    "    score = model.evaluate(x_test, y_test, False, verbose = 0)\n",
    "    print('Checkpoint {}, Accuracy: {}, Loss: {}'.format(century+breakpoint, score['accuracy'], score[model.loss_fn]))\n",
    "    score['checkpoint'] = century + breakpoint\n",
    "    checkpoints.append(score)\n",
    "    history.extend(sub_history)"
   ]
  },
  {
   "cell_type": "code",
   "execution_count": 9,
   "metadata": {},
   "outputs": [],
   "source": [
    "import matplotlib.pyplot as plt\n",
    "\n",
    "def draw_plot(x, y_list, x_label=None, y_label=None, legend=None, title=None):\n",
    "    fig, ax = plt.subplots(figsize=(12,5))\n",
    "    for xi, yi in zip(x, y_list):\n",
    "        ax.plot(xi, yi)\n",
    "    if x_label is not None and y_label is not None:\n",
    "        ax.set(xlabel=x_label, ylabel=y_label, title='{} VS {}'.format(x_label, y_label))\n",
    "    if legend is not None:\n",
    "        ax.legend(legend)\n",
    "    ax.grid()\n",
    "    plt.show()"
   ]
  },
  {
   "cell_type": "code",
   "execution_count": 10,
   "metadata": {},
   "outputs": [
    {
     "name": "stdout",
     "output_type": "stream",
     "text": [
      "[0. 0. 1.] <-> [0.1363951  0.00105128 0.8625536 ]\n",
      "[1. 0. 0.] <-> [0.3685169  0.00221672 0.6292664 ]\n",
      "[1. 0. 0.] <-> [0.9887784  0.0014733  0.00974838]\n",
      "[0. 1. 0.] <-> [3.6550973e-02 9.6340168e-01 4.7300571e-05]\n",
      "[1. 0. 0.] <-> [0.9967     0.00118722 0.00211276]\n",
      "[1. 0. 0.] <-> [0.98189455 0.00171617 0.01638929]\n",
      "[1. 0. 0.] <-> [0.9971047  0.00115039 0.00174488]\n",
      "[1. 0. 0.] <-> [0.96490055 0.00282474 0.03227461]\n",
      "[0. 0. 1.] <-> [4.7351853e-03 8.4825806e-05 9.9518001e-01]\n",
      "[1. 0. 0.] <-> [0.99662846 0.00194455 0.00142701]\n",
      "[1. 0. 0.] <-> [0.94225985 0.00211487 0.05562522]\n",
      "[1. 0. 0.] <-> [0.99671245 0.00159618 0.00169132]\n",
      "[1. 0. 0.] <-> [0.9958295  0.00211684 0.00205355]\n",
      "[1. 0. 0.] <-> [0.9970624  0.00119897 0.00173864]\n",
      "[0. 1. 0.] <-> [1.0899336e-02 9.8908651e-01 1.4119941e-05]\n",
      "[1. 0. 0.] <-> [0.99495184 0.00140204 0.00364614]\n",
      "[1. 0. 0.] <-> [0.99060035 0.00136765 0.00803198]\n",
      "[0. 1. 0.] <-> [1.18896905e-02 9.88094747e-01 1.55311664e-05]\n",
      "[1. 0. 0.] <-> [0.9964721  0.00220659 0.00132131]\n",
      "[1. 0. 0.] <-> [0.98057026 0.00192459 0.01750508]\n",
      "[1. 0. 0.] <-> [0.99171656 0.0014406  0.00684276]\n",
      "[1. 0. 0.] <-> [0.99629277 0.0022791  0.00142802]\n",
      "[1. 0. 0.] <-> [0.9949473  0.00143165 0.00362095]\n",
      "[1. 0. 0.] <-> [3.6824772e-01 6.3125867e-01 4.9356604e-04]\n",
      "[1. 0. 0.] <-> [0.9970155  0.00147993 0.00150456]\n",
      "[0. 0. 1.] <-> [5.0671264e-03 8.9088295e-05 9.9484372e-01]\n",
      "[1. 0. 0.] <-> [0.9933147  0.00145656 0.00522879]\n",
      "[1. 0. 0.] <-> [0.99701166 0.00123365 0.00175461]\n",
      "[1. 0. 0.] <-> [0.9951591  0.0033632  0.00147763]\n",
      "[1. 0. 0.] <-> [0.9921984  0.00139237 0.00640925]\n",
      "[1. 0. 0.] <-> [0.99607456 0.00116392 0.00276161]\n",
      "[1. 0. 0.] <-> [0.9959247  0.00127039 0.00280492]\n",
      "[1. 0. 0.] <-> [0.99713194 0.00141331 0.00145473]\n",
      "[1. 0. 0.] <-> [0.9148496  0.00256397 0.08258642]\n",
      "[0. 1. 0.] <-> [1.9801261e-02 9.8017281e-01 2.5906558e-05]\n",
      "[1. 0. 0.] <-> [0.9953047  0.00142949 0.00326585]\n",
      "[1. 0. 0.] <-> [0.9894593  0.0082558  0.00228493]\n",
      "[1. 0. 0.] <-> [1.5452411e-02 2.0437047e-04 9.8434317e-01]\n",
      "[1. 0. 0.] <-> [0.9972729  0.00115195 0.00157512]\n",
      "[1. 0. 0.] <-> [0.996834   0.00128377 0.0018823 ]\n",
      "[0. 0. 1.] <-> [4.7305967e-03 8.4730003e-05 9.9518472e-01]\n",
      "[1. 0. 0.] <-> [0.9970606  0.00117662 0.00176281]\n",
      "[0. 0. 1.] <-> [5.1516350e-03 9.2196555e-05 9.9475622e-01]\n",
      "[0. 0. 1.] <-> [4.7611175e-03 8.5129584e-05 9.9515378e-01]\n",
      "[1. 0. 0.] <-> [0.9912457  0.0013982  0.00735603]\n",
      "[1. 0. 0.] <-> [0.9964309  0.00210085 0.00146831]\n",
      "[1. 0. 0.] <-> [0.99216676 0.00643941 0.00139392]\n",
      "[1. 0. 0.] <-> [0.99568045 0.00150836 0.00281115]\n",
      "[1. 0. 0.] <-> [0.99644744 0.00223181 0.00132067]\n",
      "[1. 0. 0.] <-> [0.93751925 0.0611532  0.00132756]\n",
      "[0. 1. 0.] <-> [6.9799889e-03 9.9301106e-01 9.0253188e-06]\n",
      "[1. 0. 0.] <-> [0.9950659  0.00121715 0.00371683]\n",
      "[0. 0. 1.] <-> [4.7298223e-03 8.4719715e-05 9.9518543e-01]\n",
      "[0. 1. 0.] <-> [6.702837e-03 9.932886e-01 8.675046e-06]\n",
      "[0. 0. 1.] <-> [4.7298446e-03 8.4720043e-05 9.9518543e-01]\n",
      "[0. 0. 1.] <-> [5.818353e-03 9.929168e-05 9.940824e-01]\n",
      "[1. 0. 0.] <-> [0.99603647 0.00108414 0.00287935]\n",
      "[1. 0. 0.] <-> [0.9968066  0.00170874 0.00148463]\n",
      "[1. 0. 0.] <-> [0.96310765 0.00231105 0.03458133]\n",
      "[1. 0. 0.] <-> [0.90891695 0.08976869 0.00131436]\n",
      "[0. 1. 0.] <-> [6.679059e-03 9.933123e-01 8.634808e-06]\n",
      "[1. 0. 0.] <-> [0.99219984 0.00650315 0.00129702]\n",
      "[1. 0. 0.] <-> [0.9896208  0.0014775  0.00890164]\n",
      "[1. 0. 0.] <-> [0.99535877 0.00129183 0.00334942]\n",
      "[0. 1. 0.] <-> [8.5785938e-03 9.9141020e-01 1.1170917e-05]\n",
      "[1. 0. 0.] <-> [0.9967964  0.00140806 0.00179549]\n",
      "[1. 0. 0.] <-> [0.99655616 0.00174581 0.00169797]\n",
      "[1. 0. 0.] <-> [0.9929408  0.00130707 0.00575224]\n",
      "[0. 0. 1.] <-> [4.729932e-03 8.472132e-05 9.951853e-01]\n",
      "[1. 0. 0.] <-> [0.99673873 0.00134148 0.00191972]\n",
      "[1. 0. 0.] <-> [0.9924941  0.00149835 0.00600753]\n",
      "[0. 1. 0.] <-> [6.8617021e-03 9.9312943e-01 8.8832667e-06]\n",
      "[1. 0. 0.] <-> [0.9868709  0.01176598 0.00136318]\n",
      "[1. 0. 0.] <-> [0.8996625  0.00229011 0.09804738]\n",
      "[1. 0. 0.] <-> [0.9690043  0.00182996 0.0291657 ]\n",
      "[1. 0. 0.] <-> [0.99611616 0.00118046 0.0027034 ]\n",
      "[1. 0. 0.] <-> [0.9949351  0.00137013 0.00369483]\n",
      "[1. 0. 0.] <-> [0.6760792  0.00275846 0.32116234]\n",
      "[1. 0. 0.] <-> [0.9945432  0.00132686 0.00412983]\n",
      "[1. 0. 0.] <-> [0.9949634  0.00364777 0.00138885]\n",
      "[1. 0. 0.] <-> [0.9966126  0.00196486 0.00142263]\n",
      "[1. 0. 0.] <-> [0.88200855 0.00253746 0.11545404]\n",
      "[1. 0. 0.] <-> [0.9941369  0.0016354  0.00422761]\n",
      "[0. 1. 0.] <-> [6.6790045e-03 9.9331230e-01 8.6350965e-06]\n",
      "[1. 0. 0.] <-> [0.993789   0.00134379 0.00486714]\n",
      "[1. 0. 0.] <-> [0.9973787  0.00116015 0.00146111]\n",
      "[0. 1. 0.] <-> [0.750586   0.24844234 0.00097171]\n",
      "[1. 0. 0.] <-> [0.99665546 0.00184202 0.00150247]\n",
      "[1. 0. 0.] <-> [0.9963844  0.00107687 0.00253876]\n",
      "[0. 1. 0.] <-> [1.1695902e-01 8.8288927e-01 1.5172502e-04]\n",
      "[1. 0. 0.] <-> [0.8856691  0.00242013 0.11191081]\n",
      "[0. 1. 0.] <-> [6.675273e-03 9.933161e-01 8.640714e-06]\n",
      "[1. 0. 0.] <-> [0.99618787 0.00146211 0.00235003]\n",
      "[1. 0. 0.] <-> [0.9589603  0.00188932 0.03915033]\n",
      "[0. 0. 1.] <-> [4.8206155e-03 8.5972577e-05 9.9509346e-01]\n",
      "[1. 0. 0.] <-> [0.99608237 0.00134008 0.00257753]\n",
      "[1. 0. 0.] <-> [0.9968167  0.00142042 0.00176301]\n",
      "[1. 0. 0.] <-> [0.98932743 0.00932683 0.00134581]\n",
      "[0. 0. 1.] <-> [4.7298223e-03 8.4719715e-05 9.9518543e-01]\n",
      "[1. 0. 0.] <-> [0.99240476 0.00133128 0.00626398]\n",
      "[1. 0. 0.] <-> [0.99556136 0.0019086  0.00253003]\n",
      "[1. 0. 0.] <-> [0.99658513 0.00200966 0.00140516]\n",
      "[0. 1. 0.] <-> [2.3341712e-01 7.6626521e-01 3.1757081e-04]\n",
      "[0. 1. 0.] <-> [3.5302043e-01 6.4652067e-01 4.5885050e-04]\n",
      "[1. 0. 0.] <-> [0.9959227  0.00237626 0.00170112]\n",
      "[1. 0. 0.] <-> [0.9804072  0.00178822 0.01780468]\n",
      "[0. 0. 1.] <-> [0.5589231  0.00226784 0.43880907]\n",
      "[1. 0. 0.] <-> [0.9949018  0.00143545 0.00366276]\n",
      "{'accuracy': 0.9691358024691358, 'mean_square_error': 0.05606784072501439, 'categorical_crossentropy': 0.10295145599930375, 'essential_metrics': {0: {'tp_hit': 77, 'fp_hit': 2, 'tn_hit': 26, 'fn_hit': 3}, 1: {'tp_hit': 14, 'fp_hit': 1, 'tn_hit': 92, 'fn_hit': 1}, 2: {'tp_hit': 12, 'fp_hit': 2, 'tn_hit': 93, 'fn_hit': 1}}}\n"
     ]
    }
   ],
   "source": [
    "# recall phase\n",
    "score = model.evaluate(x_test, y_test, False)\n",
    "print(score)"
   ]
  },
  {
   "cell_type": "code",
   "execution_count": 11,
   "metadata": {},
   "outputs": [
    {
     "data": {
      "image/png": "[encoded data removed]",
      "text/plain": [
       "<Figure size 864x360 with 1 Axes>"
      ]
     },
     "metadata": {
      "needs_background": "light"
     },
     "output_type": "display_data"
    },
    {
     "data": {
      "image/png": "[encoded data removed]",
      "text/plain": [
       "<Figure size 864x360 with 1 Axes>"
      ]
     },
     "metadata": {
      "needs_background": "light"
     },
     "output_type": "display_data"
    }
   ],
   "source": [
    "draw_plot(x = [[i for i in range(len(history))], [(i+1)*breakpoint for i in range(len(checkpoints))]], y_list = [history, [ ckp[model.loss_fn] for ckp in checkpoints ]], x_label = 'Epochs', \\\n",
    "    y_label = model.loss_fn, legend=['train', 'test'])\n",
    "acc = [ ckp['accuracy'] for ckp in checkpoints ]\n",
    "draw_plot(x = [[(i+1)*breakpoint for i in range(len(checkpoints))]], y_list = [acc], x_label = 'Checkpoints', \\\n",
    "    y_label = 'accuracy')"
   ]
  },
  {
   "cell_type": "code",
   "execution_count": 12,
   "metadata": {},
   "outputs": [
    {
     "name": "stdout",
     "output_type": "stream",
     "text": [
      "{'accuracy': 0.9753086419753086, 'mean_square_error': 0.08508094387595783, 'categorical_crossentropy': 0.1866390970018175, 'essential_metrics': {0: {'tp_hit': 80, 'fp_hit': 4, 'tn_hit': 24, 'fn_hit': 0}, 1: {'tp_hit': 13, 'fp_hit': 0, 'tn_hit': 93, 'fn_hit': 2}, 2: {'tp_hit': 11, 'fp_hit': 0, 'tn_hit': 95, 'fn_hit': 2}}, 'checkpoint': 100} \n",
      "\n",
      "\n",
      "{'accuracy': 0.9629629629629629, 'mean_square_error': 0.06452972485825244, 'categorical_crossentropy': 0.11620588655825015, 'essential_metrics': {0: {'tp_hit': 76, 'fp_hit': 2, 'tn_hit': 26, 'fn_hit': 4}, 1: {'tp_hit': 14, 'fp_hit': 1, 'tn_hit': 92, 'fn_hit': 1}, 2: {'tp_hit': 12, 'fp_hit': 3, 'tn_hit': 92, 'fn_hit': 1}}, 'checkpoint': 200} \n",
      "\n",
      "\n",
      "{'accuracy': 0.9691358024691358, 'mean_square_error': 0.05850826237522054, 'categorical_crossentropy': 0.10538945374665437, 'essential_metrics': {0: {'tp_hit': 77, 'fp_hit': 2, 'tn_hit': 26, 'fn_hit': 3}, 1: {'tp_hit': 14, 'fp_hit': 1, 'tn_hit': 92, 'fn_hit': 1}, 2: {'tp_hit': 12, 'fp_hit': 2, 'tn_hit': 93, 'fn_hit': 1}}, 'checkpoint': 300} \n",
      "\n",
      "\n",
      "{'accuracy': 0.9691358024691358, 'mean_square_error': 0.054722931597827366, 'categorical_crossentropy': 0.10064432356092665, 'essential_metrics': {0: {'tp_hit': 77, 'fp_hit': 2, 'tn_hit': 26, 'fn_hit': 3}, 1: {'tp_hit': 14, 'fp_hit': 1, 'tn_hit': 92, 'fn_hit': 1}, 2: {'tp_hit': 12, 'fp_hit': 2, 'tn_hit': 93, 'fn_hit': 1}}, 'checkpoint': 400} \n",
      "\n",
      "\n",
      "{'accuracy': 0.9691358024691358, 'mean_square_error': 0.05606784072501439, 'categorical_crossentropy': 0.10295145599930375, 'essential_metrics': {0: {'tp_hit': 77, 'fp_hit': 2, 'tn_hit': 26, 'fn_hit': 3}, 1: {'tp_hit': 14, 'fp_hit': 1, 'tn_hit': 92, 'fn_hit': 1}, 2: {'tp_hit': 12, 'fp_hit': 2, 'tn_hit': 93, 'fn_hit': 1}}, 'checkpoint': 500} \n",
      "\n",
      "\n"
     ]
    }
   ],
   "source": [
    "for checkpoint in checkpoints:\n",
    "    print(checkpoint, '\\n\\n')"
   ]
  },
  {
   "cell_type": "code",
   "execution_count": 13,
   "metadata": {},
   "outputs": [
    {
     "name": "stdout",
     "output_type": "stream",
     "text": [
      "Layer 1\n",
      "Neuron 0: weights:\n",
      "[-0.12596087  3.          0.8691868  -1.0148937  -3.        ]\n",
      " bias: 3.0\n",
      "\n",
      "Neuron 1: weights:\n",
      "[-1.8865103  3.         2.084129   1.473987  -3.       ]\n",
      " bias: -3.0\n",
      "\n",
      "Neuron 2: weights:\n",
      "[ 1.9699273  -3.         -2.1076589   0.08120186  2.2752655 ]\n",
      " bias: 3.0\n",
      "\n",
      "Neuron 3: weights:\n",
      "[-0.12027924 -3.         -0.38966507  1.3032153   3.        ]\n",
      " bias: -2.7648048400878906\n",
      "\n",
      "$\n",
      "Layer 2\n",
      "Neuron 0: weights:\n",
      "[ 3. -3.  3. -3.]\n",
      " bias: -0.6013206839561462\n",
      "\n",
      "Neuron 1: weights:\n",
      "[ 3.          3.         -3.         -0.02436229]\n",
      " bias: -1.599252462387085\n",
      "\n",
      "Neuron 2: weights:\n",
      "[-3. -3.  3.  3.]\n",
      " bias: -1.252279281616211\n",
      "\n",
      "$\n",
      "\n"
     ]
    }
   ],
   "source": [
    "print(model)"
   ]
  }
 ],
 "metadata": {
  "kernelspec": {
   "display_name": "Python 3",
   "language": "python",
   "name": "python3"
  },
  "language_info": {
   "codemirror_mode": {
    "name": "ipython",
    "version": 3
   },
   "file_extension": ".py",
   "mimetype": "text/x-python",
   "name": "python",
   "nbconvert_exporter": "python",
   "pygments_lexer": "ipython3",
   "version": "3.6.10"
  }
 },
 "nbformat": 4,
 "nbformat_minor": 2
}
