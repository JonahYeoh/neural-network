{
 "cells": [
  {
   "cell_type": "code",
   "execution_count": 1,
   "metadata": {},
   "outputs": [],
   "source": [
    "# dependency\n",
    "import numpy as np\n",
    "import pandas as pd\n",
    "import copy\n",
    "import math\n",
    "import sys\n",
    "import os\n",
    "from activations import relu, leaky_relu, sigmoid, tanh, softmax, d_sigmoid, d_relu\n",
    "from initializers import glorot_uniform, random_normal, random_uniform\n",
    "from regularizers import l1_regularizer, l2_regularizer\n",
    "from utility import trim_tail, multiply, subtract, get_nparams, one_hot_encoding, get_data\n",
    "from metrics import MSE, CCE, ACC, PRECISION, RECALL, essential_metrics, wondering_penalty, close_gap_penalty\n",
    "from pso import PSO\n",
    "from ga import GA\n",
    "from nn import Network\n",
    "from layer import DenseLayer\n",
    "from scalers import MinMaxScaler, StandardScaler"
   ]
  },
  {
   "cell_type": "code",
   "execution_count": 2,
   "metadata": {},
   "outputs": [],
   "source": [
    "# reference\n",
    "metrics_fn_dict = dict()\n",
    "metrics_fn_dict['accuracy'] = ACC\n",
    "metrics_fn_dict['categorical_crossentropy'] = CCE\n",
    "metrics_fn_dict['mean_square_error'] = MSE\n",
    "metrics_fn_dict['precision'] = PRECISION\n",
    "metrics_fn_dict['recall'] = RECALL\n",
    "metrics_fn_dict['essential_metrics'] = essential_metrics"
   ]
  },
  {
   "cell_type": "code",
   "execution_count": 3,
   "metadata": {},
   "outputs": [],
   "source": [
    "# model\n",
    "model = Network(5, lr = None)\n",
    "model.add_layer(DenseLayer(1, 4, True, afn=sigmoid, dafn=None, rfn=None))\n",
    "model.add_layer(DenseLayer(2, 3, True, afn=softmax, dafn=None, rfn=None))"
   ]
  },
  {
   "cell_type": "code",
   "execution_count": 4,
   "metadata": {},
   "outputs": [
    {
     "name": "stdout",
     "output_type": "stream",
     "text": [
      "see one see two 2 2\n"
     ]
    }
   ],
   "source": [
    "pso = PSO(dict(m = 50,\n",
    "    weight_constraint = [-3, 3], \n",
    "    velocity_constraint = [-0.1, 0.1],\n",
    "    c1 = 2,\n",
    "    c2 = 2,\n",
    "    w = 1,\n",
    "    w_decay = 1,\n",
    "    scale_hyperparameter = False,\n",
    "    regularizer = None,\n",
    "    mask = True))"
   ]
  },
  {
   "cell_type": "code",
   "execution_count": 5,
   "metadata": {},
   "outputs": [
    {
     "name": "stdout",
     "output_type": "stream",
     "text": [
      "building layer 1 with 5\n",
      "24\n",
      "building layer 2 with 4\n",
      "15\n"
     ]
    }
   ],
   "source": [
    "model.compile(loss_fn = 'categorical_crossentropy', optimizer = pso, \\\n",
    "    metrics = ['accuracy', 'mean_square_error', 'categorical_crossentropy'])"
   ]
  },
  {
   "cell_type": "code",
   "execution_count": 6,
   "metadata": {},
   "outputs": [
    {
     "name": "stdout",
     "output_type": "stream",
     "text": [
      "<class 'pandas.core.frame.DataFrame'>\n",
      "RangeIndex: 107 entries, 0 to 106\n",
      "Data columns (total 6 columns):\n",
      " #   Column  Non-Null Count  Dtype  \n",
      "---  ------  --------------  -----  \n",
      " 0   f1      107 non-null    float32\n",
      " 1   f2      107 non-null    float32\n",
      " 2   f3      107 non-null    float32\n",
      " 3   f4      107 non-null    float32\n",
      " 4   f5      107 non-null    float32\n",
      " 5   label   107 non-null    float32\n",
      "dtypes: float32(6)\n",
      "memory usage: 2.6 KB\n",
      "None\n",
      "<class 'pandas.core.frame.DataFrame'>\n",
      "RangeIndex: 108 entries, 0 to 107\n",
      "Data columns (total 6 columns):\n",
      " #   Column  Non-Null Count  Dtype  \n",
      "---  ------  --------------  -----  \n",
      " 0   f1      108 non-null    float32\n",
      " 1   f2      108 non-null    float32\n",
      " 2   f3      108 non-null    float32\n",
      " 3   f4      108 non-null    float32\n",
      " 4   f5      108 non-null    float32\n",
      " 5   label   108 non-null    float32\n",
      "dtypes: float32(6)\n",
      "memory usage: 2.7 KB\n",
      "None\n"
     ]
    }
   ],
   "source": [
    "# data loading\n",
    "DATA = os.path.join('c:\\\\Users\\\\AI-lab\\\\github_repo\\\\neural-network\\\\', 'dataset')\n",
    "GROUP = 1\n",
    "COLUMNS = ['f1', 'f2', 'f3', 'f4', 'f5', 'label']\n",
    "N_CLASS = 3\n",
    "EPOCHS = 500\n",
    "train_dir, test_dir = \"..//dataset//training_data{}.txt\".format(GROUP), \"..//dataset//testing_data{}.txt\".format(GROUP)\n",
    "train, test = get_data(DATA, train_dir, COLUMNS), get_data(DATA, test_dir, COLUMNS)\n",
    "# shuffle\n",
    "train, test = train.sample(frac=1), test.sample(frac=1)\n",
    "x_train, y_train = train.drop('label', axis=1), train['label']\n",
    "x_test, y_test = test.drop('label', axis=1), test['label']"
   ]
  },
  {
   "cell_type": "code",
   "execution_count": 7,
   "metadata": {},
   "outputs": [],
   "source": [
    "# data scaling and encoding\n",
    "scaler = StandardScaler(['f1', 'f2', 'f3', 'f4', 'f5'])\n",
    "scaler.fit(x_train)\n",
    "x_train = scaler.transform(x_train)\n",
    "x_test = scaler.transform(x_test)\n",
    "y_train = one_hot_encoding(y_train, N_CLASS)\n",
    "y_test = one_hot_encoding(y_test, N_CLASS)"
   ]
  },
  {
   "cell_type": "code",
   "execution_count": 8,
   "metadata": {
    "tags": [
     "outputPrepend"
    ]
   },
   "outputs": [
    {
     "name": "stdout",
     "output_type": "stream",
     "text": [
      "Checkpoint 100, Accuracy: 0.9567901234567902, Loss: 0.25820668538411456\n",
      "Checkpoint 200, Accuracy: 0.9629629629629629, Loss: 0.112305897253531\n",
      "Checkpoint 300, Accuracy: 0.9691358024691358, Loss: 0.10157782943160445\n",
      "Checkpoint 400, Accuracy: 0.9691358024691358, Loss: 0.10683616002400716\n",
      "Checkpoint 500, Accuracy: 0.9691358024691358, Loss: 0.10431875122918023\n"
     ]
    }
   ],
   "source": [
    "# learning phase\n",
    "breakpoint = 100\n",
    "checkpoints = list()\n",
    "history = list()\n",
    "for century in range(0, EPOCHS, breakpoint):\n",
    "    sub_history = model.fit(x_train, y_train, breakpoint, verbose = 0)\n",
    "    score = model.evaluate(x_test, y_test, False, verbose = 0)\n",
    "    print('Checkpoint {}, Accuracy: {}, Loss: {}'.format(century+breakpoint, score['accuracy'], score[model.loss_fn]))\n",
    "    score['checkpoint'] = century + breakpoint\n",
    "    checkpoints.append(score)\n",
    "    history.extend(sub_history)"
   ]
  },
  {
   "cell_type": "code",
   "execution_count": 9,
   "metadata": {},
   "outputs": [],
   "source": [
    "import matplotlib.pyplot as plt\n",
    "\n",
    "def draw_plot(x, y_list, x_label=None, y_label=None, legend=None, title=None):\n",
    "    fig, ax = plt.subplots(figsize=(12,5))\n",
    "    for xi, yi in zip(x, y_list):\n",
    "        ax.plot(xi, yi)\n",
    "    if x_label is not None and y_label is not None:\n",
    "        ax.set(xlabel=x_label, ylabel=y_label, title='{} VS {}'.format(x_label, y_label))\n",
    "    if legend is not None:\n",
    "        ax.legend(legend)\n",
    "    ax.grid()\n",
    "    plt.show()"
   ]
  },
  {
   "cell_type": "code",
   "execution_count": 10,
   "metadata": {},
   "outputs": [],
   "source": [
    "train_acc = [h['accuracy'] for h in history]\n",
    "train_mse = [h['mean_square_error'] for h in history]\n",
    "train_cce = [h['categorical_crossentropy'] for h in history]"
   ]
  },
  {
   "cell_type": "code",
   "execution_count": 11,
   "metadata": {},
   "outputs": [
    {
     "data": {
      "image/png": "[encoded data removed]",
      "text/plain": [
       "<Figure size 864x360 with 1 Axes>"
      ]
     },
     "metadata": {
      "needs_background": "light"
     },
     "output_type": "display_data"
    },
    {
     "data": {
      "image/png": "[encoded data removed]",
      "text/plain": [
       "<Figure size 864x360 with 1 Axes>"
      ]
     },
     "metadata": {
      "needs_background": "light"
     },
     "output_type": "display_data"
    }
   ],
   "source": [
    "draw_plot(x = [[i for i in range(len(history))], [(i+1)*breakpoint for i in range(len(checkpoints))]], y_list = [train_cce, [ ckp[model.loss_fn] for ckp in checkpoints ]], x_label = 'Epochs', \\\n",
    "    y_label = model.loss_fn, legend=['train', 'test'])\n",
    "acc = [ ckp['accuracy'] for ckp in checkpoints ]\n",
    "draw_plot(x = [[i for i in range(len(history))], [(i+1)*breakpoint for i in range(len(checkpoints))]], y_list = [train_acc, acc], x_label = 'Checkpoints', \\\n",
    "    y_label = 'accuracy', legend=['train', 'test'])"
   ]
  },
  {
   "cell_type": "code",
   "execution_count": 12,
   "metadata": {},
   "outputs": [
    {
     "name": "stdout",
     "output_type": "stream",
     "text": [
      "[1. 0. 0.] <-> [0.9968047  0.00105376 0.00214147]\n",
      "[1. 0. 0.] <-> [0.9955456  0.00307153 0.00138281]\n",
      "[1. 0. 0.] <-> [0.996671   0.00204238 0.00128665]\n",
      "[0. 1. 0.] <-> [1.1503747e-02 9.8845589e-01 4.0412884e-05]\n",
      "[0. 0. 1.] <-> [5.7019875e-03 3.9888389e-05 9.9425805e-01]\n",
      "[0. 0. 1.] <-> [5.7019615e-03 3.9888244e-05 9.9425817e-01]\n",
      "[1. 0. 0.] <-> [0.9970289  0.00138595 0.00158515]\n",
      "[1. 0. 0.] <-> [0.996564   0.00139377 0.00204232]\n",
      "[0. 0. 1.] <-> [6.8911812e-03 4.6845886e-05 9.9306196e-01]\n",
      "[1. 0. 0.] <-> [0.99629563 0.00130056 0.00240381]\n",
      "[1. 0. 0.] <-> [0.9970746  0.00139082 0.00153458]\n",
      "[1. 0. 0.] <-> [0.3321087  0.00118465 0.6667066 ]\n",
      "[1. 0. 0.] <-> [0.99734384 0.00114803 0.00150817]\n",
      "[1. 0. 0.] <-> [0.99662054 0.00219448 0.00118494]\n",
      "[1. 0. 0.] <-> [0.98885274 0.00974254 0.00140466]\n",
      "[1. 0. 0.] <-> [0.99596703 0.00208504 0.00194799]\n",
      "[1. 0. 0.] <-> [0.9969796  0.00116502 0.00185539]\n",
      "[1. 0. 0.] <-> [0.9945372  0.00151519 0.00394769]\n",
      "[0. 0. 1.] <-> [5.8486117e-03 4.0915020e-05 9.9411041e-01]\n",
      "[0. 0. 1.] <-> [5.7315407e-03 4.0076702e-05 9.9422836e-01]\n",
      "[0. 1. 0.] <-> [6.5200725e-03 9.9345595e-01 2.3967872e-05]\n",
      "[1. 0. 0.] <-> [0.9944636  0.0012309  0.00430552]\n",
      "[1. 0. 0.] <-> [0.9368869  0.06147378 0.0016393 ]\n",
      "[1. 0. 0.] <-> [0.9967079  0.00199031 0.00130182]\n",
      "[1. 0. 0.] <-> [0.9812511  0.00150967 0.01723915]\n",
      "[1. 0. 0.] <-> [0.997291   0.00120379 0.00150506]\n",
      "[0. 0. 1.] <-> [6.024964e-03 4.207051e-05 9.939329e-01]\n",
      "[1. 0. 0.] <-> [0.9954087  0.0012747  0.00331665]\n",
      "[0. 1. 0.] <-> [8.2842046e-03 9.9168569e-01 2.9972467e-05]\n",
      "[1. 0. 0.] <-> [0.9972121  0.00146686 0.00132106]\n",
      "[1. 0. 0.] <-> [0.9933421  0.00134494 0.0053129 ]\n",
      "[0. 1. 0.] <-> [6.4982413e-03 9.9347794e-01 2.3859822e-05]\n",
      "[0. 1. 0.] <-> [6.4983866e-03 9.9347782e-01 2.3857976e-05]\n",
      "[1. 0. 0.] <-> [0.99661475 0.0021013  0.00128392]\n",
      "[1. 0. 0.] <-> [0.9937914  0.00119782 0.00501073]\n",
      "[0. 0. 1.] <-> [5.729965e-03 4.008999e-05 9.942299e-01]\n",
      "[1. 0. 0.] <-> [0.996711   0.00198482 0.00130415]\n",
      "[1. 0. 0.] <-> [0.9937338  0.0011746  0.00509159]\n",
      "[1. 0. 0.] <-> [0.9961761  0.00139104 0.00243279]\n",
      "[1. 0. 0.] <-> [0.9098087  0.08843775 0.00175353]\n",
      "[1. 0. 0.] <-> [0.99281913 0.00126324 0.00591763]\n",
      "[1. 0. 0.] <-> [0.9965071  0.00104995 0.00244296]\n",
      "[1. 0. 0.] <-> [0.9926951  0.00591362 0.00139128]\n",
      "[1. 0. 0.] <-> [0.9939646  0.00154785 0.00448757]\n",
      "[1. 0. 0.] <-> [0.99244773 0.00130957 0.00624275]\n",
      "[0. 1. 0.] <-> [0.72558576 0.27296814 0.0014461 ]\n",
      "[0. 1. 0.] <-> [0.3828387  0.6162964  0.00086496]\n",
      "[1. 0. 0.] <-> [0.99667007 0.00175694 0.00157295]\n",
      "[1. 0. 0.] <-> [0.9975017  0.00115471 0.00134364]\n",
      "[1. 0. 0.] <-> [0.8926127  0.00203981 0.10534751]\n",
      "[1. 0. 0.] <-> [0.99694425 0.00172538 0.00133035]\n",
      "[1. 0. 0.] <-> [0.61155915 0.0017832  0.38665757]\n",
      "[0. 0. 1.] <-> [0.60369736 0.00152289 0.3947797 ]\n",
      "[1. 0. 0.] <-> [0.3833     0.61579335 0.00090659]\n",
      "[1. 0. 0.] <-> [0.9928884  0.00583562 0.00127602]\n",
      "[1. 0. 0.] <-> [0.95392996 0.00236307 0.04370699]\n",
      "[1. 0. 0.] <-> [0.99644643 0.00115044 0.00240315]\n",
      "[1. 0. 0.] <-> [0.9971323  0.0012513  0.00161638]\n",
      "[1. 0. 0.] <-> [0.9961772  0.00224451 0.00157818]\n",
      "[1. 0. 0.] <-> [0.99027926 0.00732603 0.00239477]\n",
      "[1. 0. 0.] <-> [0.8858145  0.00181269 0.11237288]\n",
      "[1. 0. 0.] <-> [1.6731448e-02 9.7521290e-05 9.8317105e-01]\n",
      "[1. 0. 0.] <-> [0.9956327  0.00113685 0.00323052]\n",
      "[1. 0. 0.] <-> [0.9969201  0.00134371 0.00173615]\n",
      "[1. 0. 0.] <-> [0.9935282  0.00136372 0.00510816]\n",
      "[1. 0. 0.] <-> [0.9868231  0.01172642 0.00145052]\n",
      "[1. 0. 0.] <-> [0.88560253 0.0018328  0.11256459]\n",
      "[1. 0. 0.] <-> [0.9956599  0.00125804 0.00308203]\n",
      "[1. 0. 0.] <-> [0.9952657  0.00134291 0.00339133]\n",
      "[1. 0. 0.] <-> [0.971931   0.00150561 0.02656336]\n",
      "[0. 1. 0.] <-> [2.5433952e-01 7.4501580e-01 6.4472016e-04]\n",
      "[1. 0. 0.] <-> [0.9964909  0.00118765 0.00232143]\n",
      "[0. 0. 1.] <-> [1.21338755e-01 5.10395388e-04 8.78150821e-01]\n",
      "[1. 0. 0.] <-> [0.9903194  0.00128181 0.00839885]\n",
      "[1. 0. 0.] <-> [0.9950422  0.00135028 0.00360758]\n",
      "[1. 0. 0.] <-> [0.9617403  0.00181382 0.03644585]\n",
      "[0. 1. 0.] <-> [1.2427815e-01 8.7539363e-01 3.2825206e-04]\n",
      "[0. 0. 1.] <-> [5.7027075e-03 3.9893232e-05 9.9425733e-01]\n",
      "[1. 0. 0.] <-> [0.992767   0.00121623 0.00601676]\n",
      "[0. 0. 1.] <-> [6.9272746e-03 4.8913938e-05 9.9302375e-01]\n",
      "[1. 0. 0.] <-> [0.99684334 0.00188621 0.00127045]\n",
      "[1. 0. 0.] <-> [0.9972773  0.00121798 0.00150467]\n",
      "[1. 0. 0.] <-> [0.9952597  0.00343352 0.00130671]\n",
      "[1. 0. 0.] <-> [0.91267127 0.00167136 0.08565731]\n",
      "[0. 1. 0.] <-> [3.33060287e-02 9.66588855e-01 1.05047664e-04]\n",
      "[1. 0. 0.] <-> [0.9959728  0.00177483 0.00225231]\n",
      "[0. 1. 0.] <-> [6.7885346e-03 9.9318659e-01 2.4822299e-05]\n",
      "[0. 1. 0.] <-> [6.6644573e-03 9.9331105e-01 2.4459927e-05]\n",
      "[1. 0. 0.] <-> [0.9973085  0.00142143 0.00127012]\n",
      "[1. 0. 0.] <-> [0.9816165  0.00149907 0.01688439]\n",
      "[1. 0. 0.] <-> [0.9628404  0.00153113 0.03562845]\n",
      "[1. 0. 0.] <-> [0.9919121  0.00121956 0.00686823]\n",
      "[0. 1. 0.] <-> [6.4928308e-03 9.9348325e-01 2.3902629e-05]\n",
      "[1. 0. 0.] <-> [0.99756134 0.00117529 0.00126344]\n",
      "[1. 0. 0.] <-> [0.98298705 0.00153108 0.01548191]\n",
      "[1. 0. 0.] <-> [0.9969759  0.00155208 0.00147209]\n",
      "[1. 0. 0.] <-> [0.9479117  0.00163945 0.05044888]\n",
      "[1. 0. 0.] <-> [0.99732554 0.00115868 0.00151579]\n",
      "[1. 0. 0.] <-> [0.9965502  0.00110775 0.00234203]\n",
      "[0. 0. 1.] <-> [5.7021696e-03 3.9889677e-05 9.9425793e-01]\n",
      "[1. 0. 0.] <-> [0.99589586 0.00131647 0.00278762]\n",
      "[0. 0. 1.] <-> [5.7019615e-03 3.9888244e-05 9.9425817e-01]\n",
      "[1. 0. 0.] <-> [0.9965437  0.00225975 0.00119652]\n",
      "[0. 1. 0.] <-> [1.9526564e-02 9.8040843e-01 6.4941101e-05]\n",
      "[1. 0. 0.] <-> [0.99684036 0.00182438 0.0013352 ]\n",
      "[1. 0. 0.] <-> [0.9949818  0.00124217 0.003776  ]\n",
      "[1. 0. 0.] <-> [0.9899748  0.00132804 0.00869713]\n",
      "[0. 1. 0.] <-> [1.0811104e-02 9.8915124e-01 3.7581984e-05]\n",
      "{'accuracy': 0.9691358024691358, 'mean_square_error': 0.05826309500501649, 'categorical_crossentropy': 0.10431875122918023, 'essential_metrics': {0: {'tp_hit': 77, 'fp_hit': 2, 'tn_hit': 26, 'fn_hit': 3}, 1: {'tp_hit': 14, 'fp_hit': 1, 'tn_hit': 92, 'fn_hit': 1}, 2: {'tp_hit': 12, 'fp_hit': 2, 'tn_hit': 93, 'fn_hit': 1}}}\n"
     ]
    }
   ],
   "source": [
    "# recall phase\n",
    "score = model.evaluate(x_test, y_test, False)\n",
    "print(score)"
   ]
  },
  {
   "cell_type": "code",
   "execution_count": 13,
   "metadata": {},
   "outputs": [
    {
     "name": "stdout",
     "output_type": "stream",
     "text": [
      "{'accuracy': 0.9567901234567902, 'mean_square_error': 0.12686502467653107, 'categorical_crossentropy': 0.25820668538411456, 'essential_metrics': {0: {'tp_hit': 79, 'fp_hit': 6, 'tn_hit': 22, 'fn_hit': 1}, 1: {'tp_hit': 11, 'fp_hit': 0, 'tn_hit': 93, 'fn_hit': 4}, 2: {'tp_hit': 11, 'fp_hit': 1, 'tn_hit': 94, 'fn_hit': 2}}, 'checkpoint': 100} \n",
      "\n",
      "\n",
      "{'accuracy': 0.9629629629629629, 'mean_square_error': 0.06661117594517957, 'categorical_crossentropy': 0.112305897253531, 'essential_metrics': {0: {'tp_hit': 79, 'fp_hit': 5, 'tn_hit': 23, 'fn_hit': 1}, 1: {'tp_hit': 12, 'fp_hit': 0, 'tn_hit': 93, 'fn_hit': 3}, 2: {'tp_hit': 11, 'fp_hit': 1, 'tn_hit': 94, 'fn_hit': 2}}, 'checkpoint': 200} \n",
      "\n",
      "\n",
      "{'accuracy': 0.9691358024691358, 'mean_square_error': 0.05614826421473899, 'categorical_crossentropy': 0.10157782943160445, 'essential_metrics': {0: {'tp_hit': 77, 'fp_hit': 2, 'tn_hit': 26, 'fn_hit': 3}, 1: {'tp_hit': 14, 'fp_hit': 1, 'tn_hit': 92, 'fn_hit': 1}, 2: {'tp_hit': 12, 'fp_hit': 2, 'tn_hit': 93, 'fn_hit': 1}}, 'checkpoint': 300} \n",
      "\n",
      "\n",
      "{'accuracy': 0.9691358024691358, 'mean_square_error': 0.05973810810414887, 'categorical_crossentropy': 0.10683616002400716, 'essential_metrics': {0: {'tp_hit': 77, 'fp_hit': 2, 'tn_hit': 26, 'fn_hit': 3}, 1: {'tp_hit': 14, 'fp_hit': 1, 'tn_hit': 92, 'fn_hit': 1}, 2: {'tp_hit': 12, 'fp_hit': 2, 'tn_hit': 93, 'fn_hit': 1}}, 'checkpoint': 400} \n",
      "\n",
      "\n",
      "{'accuracy': 0.9691358024691358, 'mean_square_error': 0.05826309500501649, 'categorical_crossentropy': 0.10431875122918023, 'essential_metrics': {0: {'tp_hit': 77, 'fp_hit': 2, 'tn_hit': 26, 'fn_hit': 3}, 1: {'tp_hit': 14, 'fp_hit': 1, 'tn_hit': 92, 'fn_hit': 1}, 2: {'tp_hit': 12, 'fp_hit': 2, 'tn_hit': 93, 'fn_hit': 1}}, 'checkpoint': 500} \n",
      "\n",
      "\n"
     ]
    }
   ],
   "source": [
    "for checkpoint in checkpoints:\n",
    "    print(checkpoint, '\\n\\n')"
   ]
  },
  {
   "cell_type": "code",
   "execution_count": 14,
   "metadata": {},
   "outputs": [
    {
     "name": "stdout",
     "output_type": "stream",
     "text": [
      "Layer 1\n",
      "Neuron 0: weights:\n",
      "[-0.10927248 -3.         -0.14197333  3.          3.        ]\n",
      " bias: -2.215360164642334\n",
      "\n",
      "Neuron 1: weights:\n",
      "[-0.09630477  3.          0.81274104 -0.55252373 -3.        ]\n",
      " bias: 3.0\n",
      "\n",
      "Neuron 2: weights:\n",
      "[-1.9166849  3.         2.0472     1.24311   -3.       ]\n",
      " bias: -3.0\n",
      "\n",
      "Neuron 3: weights:\n",
      "[ 1.936955   -3.         -2.2658153  -0.63716424  2.4040394 ]\n",
      " bias: 3.0\n",
      "\n",
      "$\n",
      "Layer 2\n",
      "Neuron 0: weights:\n",
      "[-3.  3. -3.  3.]\n",
      " bias: 0.27659842371940613\n",
      "\n",
      "Neuron 1: weights:\n",
      "[-0.99213624  3.          3.         -3.        ]\n",
      " bias: -0.6937498450279236\n",
      "\n",
      "Neuron 2: weights:\n",
      "[ 3.        -3.        -3.         1.7684323]\n",
      " bias: 0.6693530082702637\n",
      "\n",
      "$\n",
      "\n"
     ]
    }
   ],
   "source": [
    "print(model)"
   ]
  }
 ],
 "metadata": {
  "kernelspec": {
   "display_name": "Python 3",
   "language": "python",
   "name": "python3"
  },
  "language_info": {
   "codemirror_mode": {
    "name": "ipython",
    "version": 3
   },
   "file_extension": ".py",
   "mimetype": "text/x-python",
   "name": "python",
   "nbconvert_exporter": "python",
   "pygments_lexer": "ipython3",
   "version": "3.6.12"
  }
 },
 "nbformat": 4,
 "nbformat_minor": 2
}
