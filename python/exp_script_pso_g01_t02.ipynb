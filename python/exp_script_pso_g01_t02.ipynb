{
 "cells": [
  {
   "cell_type": "code",
   "execution_count": 1,
   "metadata": {},
   "outputs": [],
   "source": [
    "# dependency\n",
    "import numpy as np\n",
    "import pandas as pd\n",
    "import copy\n",
    "import math\n",
    "import sys\n",
    "import os\n",
    "from activations import relu, leaky_relu, sigmoid, tanh, softmax, d_sigmoid, d_relu\n",
    "from initializers import glorot_uniform, random_normal, random_uniform\n",
    "from regularizers import l1_regularizer, l2_regularizer\n",
    "from utility import trim_tail, multiply, subtract, get_nparams, one_hot_encoding, get_data\n",
    "from metrics import MSE, CCE, ACC, PRECISION, RECALL, essential_metrics, wondering_penalty, close_gap_penalty\n",
    "from pso import PSO\n",
    "from ga import GA\n",
    "from nn import Network\n",
    "from layer import DenseLayer\n",
    "from scalers import MinMaxScaler, StandardScaler"
   ]
  },
  {
   "cell_type": "code",
   "execution_count": 2,
   "metadata": {},
   "outputs": [],
   "source": [
    "# reference\n",
    "metrics_fn_dict = dict()\n",
    "metrics_fn_dict['accuracy'] = ACC\n",
    "metrics_fn_dict['categorical_crossentropy'] = CCE\n",
    "metrics_fn_dict['mean_square_error'] = MSE\n",
    "metrics_fn_dict['precision'] = PRECISION\n",
    "metrics_fn_dict['recall'] = RECALL\n",
    "metrics_fn_dict['essential_metrics'] = essential_metrics"
   ]
  },
  {
   "cell_type": "code",
   "execution_count": 3,
   "metadata": {},
   "outputs": [],
   "source": [
    "# model\n",
    "model = Network(5, lr = None)\n",
    "model.add_layer(DenseLayer(1, 4, True, afn=sigmoid, dafn=None, rfn=None))\n",
    "model.add_layer(DenseLayer(2, 3, True, afn=softmax, dafn=None, rfn=None))"
   ]
  },
  {
   "cell_type": "code",
   "execution_count": 4,
   "metadata": {},
   "outputs": [],
   "source": [
    "pso = PSO(dict(m = 50,\n",
    "    weight_constraint = [-3, 3], \n",
    "    velocity_constraint = [-0.1, 0.1],\n",
    "    c1 = 2,\n",
    "    c2 = 2,\n",
    "    w = 1,\n",
    "    w_decay = 1,\n",
    "    scale_hyperparameter = False,\n",
    "    regularizer = None,\n",
    "    mask = True))"
   ]
  },
  {
   "cell_type": "code",
   "execution_count": 5,
   "metadata": {},
   "outputs": [
    {
     "name": "stdout",
     "output_type": "stream",
     "text": [
      "building layer 1 with 5\n",
      "24\n",
      "building layer 2 with 4\n",
      "15\n"
     ]
    }
   ],
   "source": [
    "model.compile(loss_fn = 'categorical_crossentropy', optimizer = pso, \\\n",
    "    metrics = ['accuracy', 'mean_square_error', 'categorical_crossentropy'])"
   ]
  },
  {
   "cell_type": "code",
   "execution_count": 6,
   "metadata": {},
   "outputs": [
    {
     "name": "stdout",
     "output_type": "stream",
     "text": [
      "<class 'pandas.core.frame.DataFrame'>\n",
      "RangeIndex: 107 entries, 0 to 106\n",
      "Data columns (total 6 columns):\n",
      " #   Column  Non-Null Count  Dtype  \n",
      "---  ------  --------------  -----  \n",
      " 0   f1      107 non-null    float32\n",
      " 1   f2      107 non-null    float32\n",
      " 2   f3      107 non-null    float32\n",
      " 3   f4      107 non-null    float32\n",
      " 4   f5      107 non-null    float32\n",
      " 5   label   107 non-null    float32\n",
      "dtypes: float32(6)\n",
      "memory usage: 2.6 KB\n",
      "None\n",
      "<class 'pandas.core.frame.DataFrame'>\n",
      "RangeIndex: 108 entries, 0 to 107\n",
      "Data columns (total 6 columns):\n",
      " #   Column  Non-Null Count  Dtype  \n",
      "---  ------  --------------  -----  \n",
      " 0   f1      108 non-null    float32\n",
      " 1   f2      108 non-null    float32\n",
      " 2   f3      108 non-null    float32\n",
      " 3   f4      108 non-null    float32\n",
      " 4   f5      108 non-null    float32\n",
      " 5   label   108 non-null    float32\n",
      "dtypes: float32(6)\n",
      "memory usage: 2.7 KB\n",
      "None\n"
     ]
    }
   ],
   "source": [
    "# data loading\n",
    "DATA = os.path.join('c:\\\\Users\\\\tcumi\\\\github_repo\\\\neural-network\\\\', 'dataset')\n",
    "GROUP = 1\n",
    "COLUMNS = ['f1', 'f2', 'f3', 'f4', 'f5', 'label']\n",
    "N_CLASS = 3\n",
    "EPOCHS = 500\n",
    "train_dir, test_dir = \"..//dataset//training_data{}.txt\".format(GROUP), \"..//dataset//testing_data{}.txt\".format(GROUP)\n",
    "train, test = get_data(DATA, train_dir, COLUMNS), get_data(DATA, test_dir, COLUMNS)\n",
    "# shuffle\n",
    "train, test = train.sample(frac=1), test.sample(frac=1)\n",
    "x_train, y_train = train.drop('label', axis=1), train['label']\n",
    "x_test, y_test = test.drop('label', axis=1), test['label']"
   ]
  },
  {
   "cell_type": "code",
   "execution_count": 7,
   "metadata": {},
   "outputs": [],
   "source": [
    "# data scaling and encoding\n",
    "scaler = StandardScaler(['f1', 'f2', 'f3', 'f4', 'f5'])\n",
    "scaler.fit(x_train)\n",
    "x_train = scaler.transform(x_train)\n",
    "x_test = scaler.transform(x_test)\n",
    "y_train = one_hot_encoding(y_train, N_CLASS)\n",
    "y_test = one_hot_encoding(y_test, N_CLASS)"
   ]
  },
  {
   "cell_type": "code",
   "execution_count": 8,
   "metadata": {
    "tags": [
     "outputPrepend"
    ]
   },
   "outputs": [
    {
     "name": "stdout",
     "output_type": "stream",
     "text": [
      "Checkpoint 100, Accuracy: 0.9444444444444444, Loss: 0.25058156472665294\n",
      "Checkpoint 200, Accuracy: 0.9629629629629629, Loss: 0.13040036625332302\n",
      "Checkpoint 300, Accuracy: 0.9814814814814815, Loss: 0.10380354634037724\n",
      "Checkpoint 400, Accuracy: 0.9753086419753086, Loss: 0.09476870077627676\n",
      "Checkpoint 500, Accuracy: 0.9814814814814815, Loss: 0.09799140470999258\n"
     ]
    }
   ],
   "source": [
    "# learning phase\n",
    "breakpoint = 100\n",
    "checkpoints = list()\n",
    "history = list()\n",
    "for century in range(0, EPOCHS, breakpoint):\n",
    "    sub_history = model.fit(x_train, y_train, breakpoint, verbose = 0)\n",
    "    score = model.evaluate(x_test, y_test, False, verbose = 0)\n",
    "    print('Checkpoint {}, Accuracy: {}, Loss: {}'.format(century+breakpoint, score['accuracy'], score[model.loss_fn]))\n",
    "    score['checkpoint'] = century + breakpoint\n",
    "    checkpoints.append(score)\n",
    "    history.extend(sub_history)"
   ]
  },
  {
   "cell_type": "code",
   "execution_count": 9,
   "metadata": {},
   "outputs": [],
   "source": [
    "import matplotlib.pyplot as plt\n",
    "\n",
    "def draw_plot(x, y_list, x_label=None, y_label=None, legend=None, title=None):\n",
    "    fig, ax = plt.subplots(figsize=(12,5))\n",
    "    for xi, yi in zip(x, y_list):\n",
    "        ax.plot(xi, yi)\n",
    "    if x_label is not None and y_label is not None:\n",
    "        ax.set(xlabel=x_label, ylabel=y_label, title='{} VS {}'.format(x_label, y_label))\n",
    "    if legend is not None:\n",
    "        ax.legend(legend)\n",
    "    ax.grid()\n",
    "    plt.show()"
   ]
  },
  {
   "cell_type": "code",
   "execution_count": 10,
   "metadata": {},
   "outputs": [
    {
     "name": "stdout",
     "output_type": "stream",
     "text": [
      "[1. 0. 0.] <-> [0.9961676  0.00275987 0.00107251]\n",
      "[1. 0. 0.] <-> [0.9836909  0.00136926 0.01493983]\n",
      "[1. 0. 0.] <-> [0.9956359  0.00147563 0.00288846]\n",
      "[1. 0. 0.] <-> [0.9951945 0.0013366 0.0034689]\n",
      "[1. 0. 0.] <-> [0.99668014 0.00132971 0.00199013]\n",
      "[1. 0. 0.] <-> [0.99714774 0.00177288 0.00107936]\n",
      "[1. 0. 0.] <-> [0.9459571  0.00134256 0.05270024]\n",
      "[1. 0. 0.] <-> [0.9947792  0.00131074 0.00391004]\n",
      "[1. 0. 0.] <-> [0.99695086 0.00155233 0.0014967 ]\n",
      "[1. 0. 0.] <-> [0.9961287  0.00134927 0.00252204]\n",
      "[1. 0. 0.] <-> [0.99137723 0.00746393 0.00115871]\n",
      "[1. 0. 0.] <-> [0.99585503 0.00209491 0.00205007]\n",
      "[1. 0. 0.] <-> [0.99549794 0.00155101 0.00295099]\n",
      "[0. 0. 1.] <-> [7.8831296e-03 1.3319201e-05 9.9210358e-01]\n",
      "[1. 0. 0.] <-> [0.997509   0.00145127 0.00103968]\n",
      "[1. 0. 0.] <-> [0.9858931  0.01263868 0.00146825]\n",
      "[1. 0. 0.] <-> [0.995191   0.00159757 0.00321146]\n",
      "[0. 1. 0.] <-> [1.0189392e-02 9.8971212e-01 9.8520875e-05]\n",
      "[0. 0. 1.] <-> [6.9349329e-03 1.1735608e-05 9.9305326e-01]\n",
      "[1. 0. 0.] <-> [0.99728096 0.00142592 0.00129317]\n",
      "[0. 1. 0.] <-> [6.5528150e-03 9.9337739e-01 6.9916954e-05]\n",
      "[1. 0. 0.] <-> [0.9811708  0.01724529 0.00158388]\n",
      "[0. 0. 1.] <-> [6.6234744e-03 1.1209633e-05 9.9336535e-01]\n",
      "[0. 1. 0.] <-> [0.44639584 0.55223846 0.00136578]\n",
      "[1. 0. 0.] <-> [0.9834923  0.0013663  0.01514132]\n",
      "[1. 0. 0.] <-> [0.99093187 0.00135626 0.00771189]\n",
      "[1. 0. 0.] <-> [0.99482393 0.00135549 0.00382052]\n",
      "[0. 0. 1.] <-> [6.3799443e-03 1.1893194e-05 9.9360812e-01]\n",
      "[1. 0. 0.] <-> [0.8937741  0.00128517 0.10494073]\n",
      "[1. 0. 0.] <-> [0.9951331  0.00360205 0.00126477]\n",
      "[1. 0. 0.] <-> [0.9963207  0.00251883 0.00116045]\n",
      "[1. 0. 0.] <-> [0.99058175 0.00752272 0.00189554]\n",
      "[1. 0. 0.] <-> [0.9963561  0.00250294 0.00114094]\n",
      "[0. 0. 1.] <-> [2.4211046e-01 3.9537641e-04 7.5749409e-01]\n",
      "[1. 0. 0.] <-> [0.9967764  0.00215782 0.0010657 ]\n",
      "[0. 1. 0.] <-> [8.818732e-03 9.910965e-01 8.481388e-05]\n",
      "[0. 1. 0.] <-> [4.9405145e-03 9.9500412e-01 5.5433469e-05]\n",
      "[0. 1. 0.] <-> [2.0071318e-02 9.7976649e-01 1.6210624e-04]\n",
      "[1. 0. 0.] <-> [0.85954636 0.00124507 0.13920857]\n",
      "[1. 0. 0.] <-> [0.9965373  0.00199501 0.0014676 ]\n",
      "[1. 0. 0.] <-> [0.99711454 0.00153246 0.00135305]\n",
      "[1. 0. 0.] <-> [0.69153744 0.00100174 0.30746087]\n",
      "[1. 0. 0.] <-> [0.9965013  0.00239132 0.00110742]\n",
      "[1. 0. 0.] <-> [0.9962955  0.00241107 0.00129339]\n",
      "[0. 0. 1.] <-> [6.7559420e-03 1.1450918e-05 9.9323261e-01]\n",
      "[1. 0. 0.] <-> [0.99404716 0.00128959 0.0046632 ]\n",
      "[1. 0. 0.] <-> [0.99616265 0.00140229 0.00243499]\n",
      "[1. 0. 0.] <-> [2.1410108e-02 3.5168654e-05 9.7855479e-01]\n",
      "[1. 0. 0.] <-> [0.8843642  0.00130805 0.11432785]\n",
      "[0. 0. 1.] <-> [0.41963896 0.00060888 0.57975215]\n",
      "[1. 0. 0.] <-> [0.9925085  0.00625992 0.00123166]\n",
      "[0. 1. 0.] <-> [0.76569057 0.2320214  0.00228804]\n",
      "[1. 0. 0.] <-> [0.9963141  0.00249109 0.00119478]\n",
      "[0. 0. 1.] <-> [6.6555804e-03 1.1263846e-05 9.9333316e-01]\n",
      "[0. 0. 1.] <-> [6.6233329e-03 1.1209292e-05 9.9336547e-01]\n",
      "[0. 1. 0.] <-> [4.9145287e-03 9.9503028e-01 5.5156070e-05]\n",
      "[0. 1. 0.] <-> [0.31642988 0.68241614 0.00115397]\n",
      "[1. 0. 0.] <-> [0.99707425 0.00142421 0.00150162]\n",
      "[1. 0. 0.] <-> [0.99705243 0.00139249 0.00155503]\n",
      "[1. 0. 0.] <-> [0.8362025  0.00118353 0.16261394]\n",
      "[1. 0. 0.] <-> [0.9963735  0.00239264 0.00123384]\n",
      "[1. 0. 0.] <-> [0.99179244 0.00147235 0.00673528]\n",
      "[1. 0. 0.] <-> [0.9154579  0.0825491  0.00199293]\n",
      "[1. 0. 0.] <-> [0.9961976  0.00170177 0.00210063]\n",
      "[0. 1. 0.] <-> [5.0700945e-03 9.9487323e-01 5.6674267e-05]\n",
      "[1. 0. 0.] <-> [0.9969169  0.00169204 0.00139105]\n",
      "[1. 0. 0.] <-> [0.9867619  0.00141172 0.01182639]\n",
      "[1. 0. 0.] <-> [0.8353805  0.00126592 0.16335356]\n",
      "[1. 0. 0.] <-> [0.99632925 0.00129887 0.00237189]\n",
      "[1. 0. 0.] <-> [0.90332776 0.09466574 0.00200654]\n",
      "[1. 0. 0.] <-> [0.995271   0.00139058 0.00333847]\n",
      "[1. 0. 0.] <-> [0.99722844 0.00151521 0.00125626]\n",
      "[1. 0. 0.] <-> [0.9959182  0.00129268 0.00278913]\n",
      "[1. 0. 0.] <-> [0.9964587  0.00143414 0.00210721]\n",
      "[1. 0. 0.] <-> [0.9941624  0.00147205 0.0043656 ]\n",
      "[1. 0. 0.] <-> [0.91505814 0.00135074 0.08359109]\n",
      "[1. 0. 0.] <-> [0.99710566 0.00178261 0.00111171]\n",
      "[0. 1. 0.] <-> [5.2048652e-03 9.9473733e-01 5.7712747e-05]\n",
      "[0. 1. 0.] <-> [4.0215671e-02 9.5947230e-01 3.1200208e-04]\n",
      "[1. 0. 0.] <-> [0.9880177  0.0013787  0.01060353]\n",
      "[1. 0. 0.] <-> [0.9969994  0.00170814 0.0012925 ]\n",
      "[1. 0. 0.] <-> [0.99503905 0.00383311 0.00112786]\n",
      "[1. 0. 0.] <-> [0.9859568  0.00139096 0.01265237]\n",
      "[1. 0. 0.] <-> [0.9963779  0.0016016  0.00202053]\n",
      "[1. 0. 0.] <-> [0.9871207  0.0013319  0.01154733]\n",
      "[1. 0. 0.] <-> [0.99725205 0.00148217 0.0012657 ]\n",
      "[1. 0. 0.] <-> [0.9970085  0.00161907 0.00137236]\n",
      "[1. 0. 0.] <-> [0.9953891  0.0016253  0.00298563]\n",
      "[0. 1. 0.] <-> [4.9145776e-03 9.9503028e-01 5.5181536e-05]\n",
      "[1. 0. 0.] <-> [0.59896564 0.00096672 0.40006763]\n",
      "[1. 0. 0.] <-> [0.4622994  0.5361551  0.00154543]\n",
      "[1. 0. 0.] <-> [0.9965166  0.00135367 0.00212975]\n",
      "[1. 0. 0.] <-> [0.9854113  0.00137539 0.01321341]\n",
      "[1. 0. 0.] <-> [0.99004537 0.00153448 0.00842008]\n",
      "[1. 0. 0.] <-> [0.9959871  0.00245954 0.00155337]\n",
      "[1. 0. 0.] <-> [0.99016833 0.00140153 0.00843015]\n",
      "[0. 0. 1.] <-> [5.7454123e-03 1.8444403e-05 9.9423617e-01]\n",
      "[1. 0. 0.] <-> [0.9967577  0.0020305  0.00121182]\n",
      "[1. 0. 0.] <-> [0.9828666  0.00137672 0.01575676]\n",
      "[0. 0. 1.] <-> [6.6233077e-03 1.1209250e-05 9.9336547e-01]\n",
      "[1. 0. 0.] <-> [0.997373   0.00141194 0.0012151 ]\n",
      "[0. 0. 1.] <-> [6.6233077e-03 1.1209250e-05 9.9336547e-01]\n",
      "[0. 0. 1.] <-> [6.6241110e-03 1.1210608e-05 9.9336469e-01]\n",
      "[1. 0. 0.] <-> [0.99673873 0.00213252 0.00112877]\n",
      "[1. 0. 0.] <-> [0.9965887  0.00139377 0.00201747]\n",
      "[1. 0. 0.] <-> [0.99603516 0.00289342 0.00107144]\n",
      "[0. 1. 0.] <-> [4.9146120e-03 9.9503016e-01 5.5157961e-05]\n",
      "[0. 1. 0.] <-> [1.4163785e-01 8.5771394e-01 6.4819533e-04]\n",
      "{'accuracy': 0.9814814814814815, 'mean_square_error': 0.05137817732543077, 'categorical_crossentropy': 0.09799140470999258, 'essential_metrics': {0: {'tp_hit': 78, 'fp_hit': 1, 'tn_hit': 27, 'fn_hit': 2}, 1: {'tp_hit': 14, 'fp_hit': 1, 'tn_hit': 92, 'fn_hit': 1}, 2: {'tp_hit': 13, 'fp_hit': 1, 'tn_hit': 94, 'fn_hit': 0}}}\n"
     ]
    }
   ],
   "source": [
    "# recall phase\n",
    "score = model.evaluate(x_test, y_test, False)\n",
    "print(score)"
   ]
  },
  {
   "cell_type": "code",
   "execution_count": 11,
   "metadata": {},
   "outputs": [
    {
     "data": {
      "image/png": "[encoded data removed]",
      "text/plain": [
       "<Figure size 864x360 with 1 Axes>"
      ]
     },
     "metadata": {
      "needs_background": "light"
     },
     "output_type": "display_data"
    },
    {
     "data": {
      "image/png": "[encoded data removed]",
      "text/plain": [
       "<Figure size 864x360 with 1 Axes>"
      ]
     },
     "metadata": {
      "needs_background": "light"
     },
     "output_type": "display_data"
    }
   ],
   "source": [
    "draw_plot(x = [[i for i in range(len(history))], [(i+1)*breakpoint for i in range(len(checkpoints))]], y_list = [history, [ ckp[model.loss_fn] for ckp in checkpoints ]], x_label = 'Epochs', \\\n",
    "    y_label = model.loss_fn, legend=['train', 'test'])\n",
    "acc = [ ckp['accuracy'] for ckp in checkpoints ]\n",
    "draw_plot(x = [[(i+1)*breakpoint for i in range(len(checkpoints))]], y_list = [acc], x_label = 'Checkpoints', \\\n",
    "    y_label = 'accuracy')"
   ]
  },
  {
   "cell_type": "code",
   "execution_count": 12,
   "metadata": {},
   "outputs": [
    {
     "name": "stdout",
     "output_type": "stream",
     "text": [
      "{'accuracy': 0.9444444444444444, 'mean_square_error': 0.12744392807722515, 'categorical_crossentropy': 0.25058156472665294, 'essential_metrics': {0: {'tp_hit': 79, 'fp_hit': 8, 'tn_hit': 20, 'fn_hit': 1}, 1: {'tp_hit': 10, 'fp_hit': 0, 'tn_hit': 93, 'fn_hit': 5}, 2: {'tp_hit': 10, 'fp_hit': 1, 'tn_hit': 94, 'fn_hit': 3}}, 'checkpoint': 100} \n",
      "\n",
      "\n",
      "{'accuracy': 0.9629629629629629, 'mean_square_error': 0.07340673563358789, 'categorical_crossentropy': 0.13040036625332302, 'essential_metrics': {0: {'tp_hit': 78, 'fp_hit': 4, 'tn_hit': 24, 'fn_hit': 2}, 1: {'tp_hit': 13, 'fp_hit': 0, 'tn_hit': 93, 'fn_hit': 2}, 2: {'tp_hit': 11, 'fp_hit': 2, 'tn_hit': 93, 'fn_hit': 2}}, 'checkpoint': 200} \n",
      "\n",
      "\n",
      "{'accuracy': 0.9814814814814815, 'mean_square_error': 0.057113630248641606, 'categorical_crossentropy': 0.10380354634037724, 'essential_metrics': {0: {'tp_hit': 79, 'fp_hit': 2, 'tn_hit': 26, 'fn_hit': 1}, 1: {'tp_hit': 13, 'fp_hit': 0, 'tn_hit': 93, 'fn_hit': 2}, 2: {'tp_hit': 13, 'fp_hit': 1, 'tn_hit': 94, 'fn_hit': 0}}, 'checkpoint': 300} \n",
      "\n",
      "\n",
      "{'accuracy': 0.9753086419753086, 'mean_square_error': 0.05246710889302331, 'categorical_crossentropy': 0.09476870077627676, 'essential_metrics': {0: {'tp_hit': 78, 'fp_hit': 2, 'tn_hit': 26, 'fn_hit': 2}, 1: {'tp_hit': 14, 'fp_hit': 1, 'tn_hit': 92, 'fn_hit': 1}, 2: {'tp_hit': 12, 'fp_hit': 1, 'tn_hit': 94, 'fn_hit': 1}}, 'checkpoint': 400} \n",
      "\n",
      "\n",
      "{'accuracy': 0.9814814814814815, 'mean_square_error': 0.05137817732543077, 'categorical_crossentropy': 0.09799140470999258, 'essential_metrics': {0: {'tp_hit': 78, 'fp_hit': 1, 'tn_hit': 27, 'fn_hit': 2}, 1: {'tp_hit': 14, 'fp_hit': 1, 'tn_hit': 92, 'fn_hit': 1}, 2: {'tp_hit': 13, 'fp_hit': 1, 'tn_hit': 94, 'fn_hit': 0}}, 'checkpoint': 500} \n",
      "\n",
      "\n"
     ]
    }
   ],
   "source": [
    "for checkpoint in checkpoints:\n",
    "    print(checkpoint, '\\n\\n')"
   ]
  },
  {
   "cell_type": "code",
   "execution_count": 13,
   "metadata": {},
   "outputs": [
    {
     "name": "stdout",
     "output_type": "stream",
     "text": [
      "Layer 1\n",
      "Neuron 0: weights:\n",
      "[-1.8997475  3.         1.7433267  0.9510747 -3.       ]\n",
      " bias: -3.0\n",
      "\n",
      "Neuron 1: weights:\n",
      "[-0.36538646  3.          3.         -3.         -3.        ]\n",
      " bias: 3.0\n",
      "\n",
      "Neuron 2: weights:\n",
      "[ 1.9297657 -3.        -2.45327   -3.         3.       ]\n",
      " bias: 3.0\n",
      "\n",
      "Neuron 3: weights:\n",
      "[ 0.0875681  -3.         -0.47452557  0.8144866   3.        ]\n",
      " bias: -3.0\n",
      "\n",
      "$\n",
      "Layer 2\n",
      "Neuron 0: weights:\n",
      "[-3.  3.  3. -3.]\n",
      " bias: 0.4084043800830841\n",
      "\n",
      "Neuron 1: weights:\n",
      "[ 3.         2.6922088 -3.        -3.       ]\n",
      " bias: 0.0267937071621418\n",
      "\n",
      "Neuron 2: weights:\n",
      "[-3.         -3.          0.50030047  3.        ]\n",
      " bias: 1.9186077117919922\n",
      "\n",
      "$\n",
      "\n"
     ]
    }
   ],
   "source": [
    "print(model)"
   ]
  }
 ],
 "metadata": {
  "kernelspec": {
   "display_name": "Python 3",
   "language": "python",
   "name": "python3"
  },
  "language_info": {
   "codemirror_mode": {
    "name": "ipython",
    "version": 3
   },
   "file_extension": ".py",
   "mimetype": "text/x-python",
   "name": "python",
   "nbconvert_exporter": "python",
   "pygments_lexer": "ipython3",
   "version": "3.6.10"
  }
 },
 "nbformat": 4,
 "nbformat_minor": 2
}
