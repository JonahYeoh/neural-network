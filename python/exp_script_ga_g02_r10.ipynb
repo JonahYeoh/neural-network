{
 "cells": [
  {
   "cell_type": "code",
   "execution_count": 1,
   "metadata": {},
   "outputs": [],
   "source": [
    "# single"
   ]
  },
  {
   "cell_type": "code",
   "execution_count": 2,
   "metadata": {},
   "outputs": [],
   "source": [
    "# dependency\n",
    "import numpy as np\n",
    "import pandas as pd\n",
    "import copy\n",
    "import math\n",
    "import sys\n",
    "import os\n",
    "from activations import relu, leaky_relu, sigmoid, tanh, softmax, d_sigmoid, d_relu\n",
    "from initializers import glorot_uniform, random_normal, random_uniform\n",
    "from regularizers import l1_regularizer, l2_regularizer\n",
    "from utility import trim_tail, multiply, subtract, get_nparams, one_hot_encoding, get_data\n",
    "from metrics import MSE, CCE, ACC, PRECISION, RECALL, essential_metrics, wondering_penalty, close_gap_penalty\n",
    "from pso import PSO\n",
    "from ga import GA\n",
    "from nn import Network\n",
    "from layer import DenseLayer\n",
    "from scalers import MinMaxScaler, StandardScaler"
   ]
  },
  {
   "cell_type": "code",
   "execution_count": 3,
   "metadata": {},
   "outputs": [],
   "source": [
    "# reference\n",
    "metrics_fn_dict = dict()\n",
    "metrics_fn_dict['accuracy'] = ACC\n",
    "metrics_fn_dict['categorical_crossentropy'] = CCE\n",
    "metrics_fn_dict['mean_square_error'] = MSE\n",
    "metrics_fn_dict['precision'] = PRECISION\n",
    "metrics_fn_dict['recall'] = RECALL\n",
    "metrics_fn_dict['essential_metrics'] = essential_metrics"
   ]
  },
  {
   "cell_type": "code",
   "execution_count": 4,
   "metadata": {},
   "outputs": [],
   "source": [
    "# model\n",
    "model = Network(5, lr = None)\n",
    "model.add_layer(DenseLayer(1, 4, True, afn=sigmoid, dafn=None, rfn=None))\n",
    "model.add_layer(DenseLayer(2, 3, True, afn=softmax, dafn=None, rfn=None))"
   ]
  },
  {
   "cell_type": "code",
   "execution_count": 5,
   "metadata": {},
   "outputs": [],
   "source": [
    "# optimizer\n",
    "ga = GA(\n",
    "    dict(\n",
    "        m = 50,\n",
    "        x_rate = [0.5, 1.0],\n",
    "        m_rate = [0.5, 1.0],\n",
    "        weight_constraint = [-3.,3.],\n",
    "        radioactive_rating = [0.1, 0.5],\n",
    "        grow_factor = [0.1, 0.5],\n",
    "        scale_hyperparameter = False,\n",
    "        regularizer = l1_regularizer))"
   ]
  },
  {
   "cell_type": "code",
   "execution_count": 6,
   "metadata": {},
   "outputs": [
    {
     "name": "stdout",
     "output_type": "stream",
     "text": [
      "building layer 1 with 5\n",
      "24\n",
      "building layer 2 with 4\n",
      "15\n"
     ]
    }
   ],
   "source": [
    "model.compile(loss_fn = 'categorical_crossentropy', optimizer = ga, \\\n",
    "    metrics = ['accuracy', 'mean_square_error', 'categorical_crossentropy', 'precision', 'recall', 'f1'])"
   ]
  },
  {
   "cell_type": "code",
   "execution_count": 7,
   "metadata": {},
   "outputs": [
    {
     "name": "stdout",
     "output_type": "stream",
     "text": [
      "<class 'pandas.core.frame.DataFrame'>\n",
      "RangeIndex: 107 entries, 0 to 106\n",
      "Data columns (total 6 columns):\n",
      " #   Column  Non-Null Count  Dtype  \n",
      "---  ------  --------------  -----  \n",
      " 0   f1      107 non-null    float32\n",
      " 1   f2      107 non-null    float32\n",
      " 2   f3      107 non-null    float32\n",
      " 3   f4      107 non-null    float32\n",
      " 4   f5      107 non-null    float32\n",
      " 5   label   107 non-null    float32\n",
      "dtypes: float32(6)\n",
      "memory usage: 2.6 KB\n",
      "None\n",
      "<class 'pandas.core.frame.DataFrame'>\n",
      "RangeIndex: 108 entries, 0 to 107\n",
      "Data columns (total 6 columns):\n",
      " #   Column  Non-Null Count  Dtype  \n",
      "---  ------  --------------  -----  \n",
      " 0   f1      108 non-null    float32\n",
      " 1   f2      108 non-null    float32\n",
      " 2   f3      108 non-null    float32\n",
      " 3   f4      108 non-null    float32\n",
      " 4   f5      108 non-null    float32\n",
      " 5   label   108 non-null    float32\n",
      "dtypes: float32(6)\n",
      "memory usage: 2.7 KB\n",
      "None\n"
     ]
    }
   ],
   "source": [
    "# data loading\n",
    "DATA = os.path.join('c:\\\\Users\\\\tcumi\\\\github_repo\\\\neural-network\\\\', 'dataset')\n",
    "GROUP = 2\n",
    "COLUMNS = ['f1', 'f2', 'f3', 'f4', 'f5', 'label']\n",
    "N_CLASS = 3\n",
    "EPOCHS = 500\n",
    "train_dir, test_dir = \"..//dataset//training_data{}.txt\".format(GROUP), \"..//dataset//testing_data{}.txt\".format(GROUP)\n",
    "train, test = get_data(DATA, train_dir, COLUMNS), get_data(DATA, test_dir, COLUMNS)\n",
    "# shuffle\n",
    "train, test = train.sample(frac=1), test.sample(frac=1)\n",
    "x_train, y_train = train.drop('label', axis=1), train['label']\n",
    "x_test, y_test = test.drop('label', axis=1), test['label']"
   ]
  },
  {
   "cell_type": "code",
   "execution_count": 8,
   "metadata": {},
   "outputs": [],
   "source": [
    "# data scaling and encoding\n",
    "scaler = StandardScaler(['f1', 'f2', 'f3', 'f4', 'f5'])\n",
    "scaler.fit(x_train)\n",
    "x_train = scaler.transform(x_train)\n",
    "x_test = scaler.transform(x_test)\n",
    "y_train = one_hot_encoding(y_train, N_CLASS)\n",
    "y_test = one_hot_encoding(y_test, N_CLASS)"
   ]
  },
  {
   "cell_type": "code",
   "execution_count": 9,
   "metadata": {
    "scrolled": true,
    "tags": [
     "outputPrepend"
    ]
   },
   "outputs": [
    {
     "name": "stderr",
     "output_type": "stream",
     "text": [
      "C:\\Users\\tcumi\\Anaconda3\\envs\\py_3_6\\lib\\site-packages\\numpy\\core\\fromnumeric.py:87: VisibleDeprecationWarning: Creating an ndarray from ragged nested sequences (which is a list-or-tuple of lists-or-tuples-or ndarrays with different lengths or shapes) is deprecated. If you meant to do this, you must specify 'dtype=object' when creating the ndarray\n",
      "  return ufunc.reduce(obj, axis, dtype, out, **passkwargs)\n",
      "C:\\Users\\tcumi\\github_repo\\neural-network\\python\\ga.py:201: RuntimeWarning: overflow encountered in add\n",
      "  self.population.sort(key=lambda p: p.fitness + np.random.uniform(-shift, shift, 1), reverse = self.aim)\n",
      "C:\\Users\\tcumi\\Anaconda3\\envs\\py_3_6\\lib\\site-packages\\numpy\\core\\_asarray.py:136: VisibleDeprecationWarning: Creating an ndarray from ragged nested sequences (which is a list-or-tuple of lists-or-tuples-or ndarrays with different lengths or shapes) is deprecated. If you meant to do this, you must specify 'dtype=object' when creating the ndarray\n",
      "  return array(a, dtype, copy=False, order=order, subok=True)\n"
     ]
    },
    {
     "name": "stdout",
     "output_type": "stream",
     "text": [
      "Checkpoint 100, Accuracy: 0.9506172839506173, Loss: 0.29515921628033676\n",
      "Checkpoint 200, Accuracy: 0.9567901234567902, Loss: 0.29008987214830184\n",
      "Checkpoint 300, Accuracy: 0.9567901234567902, Loss: 0.2654945232250072\n",
      "Checkpoint 400, Accuracy: 0.9506172839506173, Loss: 0.2528986224421748\n",
      "Checkpoint 500, Accuracy: 0.9506172839506173, Loss: 0.25344437140005605\n"
     ]
    }
   ],
   "source": [
    "# learning phase\n",
    "breakpoint = 100\n",
    "checkpoints = list()\n",
    "history = list()\n",
    "for century in range(0, EPOCHS, breakpoint):\n",
    "    sub_history = model.fit(x_train, y_train, breakpoint, verbose = 0)\n",
    "    score = model.evaluate(x_test, y_test, False, verbose = 0)\n",
    "    print('Checkpoint {}, Accuracy: {}, Loss: {}'.format(century+breakpoint, score['accuracy'], score[model.loss_fn]))\n",
    "    score['checkpoint'] = century + breakpoint\n",
    "    checkpoints.append(score)\n",
    "    history.extend(sub_history)\n",
    "    itr = century + breakpoint\n",
    "    '''\n",
    "    model.optimizer.rr = model.optimizer.rr * 0.9\n",
    "    model.optimizer.gf = model.optimizer.gf * 0.9\n",
    "    model.optimizer.crossover_rate = model.optimizer.crossover_rate * 0.9\n",
    "    model.optimizer.mutation_rate = model.optimizer.mutation_rate * 1.1\n",
    "    '''\n",
    "    model.optimizer.rr = model.optimizer.radioactive_rating[1] - (model.optimizer.radioactive_rating[1] - model.optimizer.radioactive_rating[0]) / EPOCHS * (EPOCHS - itr)\n",
    "    model.optimizer.gf = model.optimizer.grow_factor[1] - (model.optimizer.grow_factor[1] - model.optimizer.grow_factor[0]) / EPOCHS * (EPOCHS - itr)\n",
    "    model.optimizer.crossover_rate = model.optimizer.x_rate[1] - (model.optimizer.x_rate[1] - model.optimizer.x_rate[0]) / EPOCHS * (EPOCHS - itr)\n",
    "    model.optimizer.mutation_rate = model.optimizer.m_rate[0] + (model.optimizer.m_rate[1] - model.optimizer.m_rate[0]) / EPOCHS * (EPOCHS - itr)\n",
    "    "
   ]
  },
  {
   "cell_type": "code",
   "execution_count": 10,
   "metadata": {},
   "outputs": [],
   "source": [
    "import matplotlib.pyplot as plt\n",
    "\n",
    "def draw_plot(x, y_list, x_label=None, y_label=None, legend=None, title=None):\n",
    "    fig, ax = plt.subplots(figsize=(12,5))\n",
    "    for xi, yi in zip(x, y_list):\n",
    "        ax.plot(xi, yi)\n",
    "    if x_label is not None and y_label is not None:\n",
    "        ax.set(xlabel=x_label, ylabel=y_label, title='{} VS {}'.format(x_label, y_label))\n",
    "    if legend is not None:\n",
    "        ax.legend(legend)\n",
    "    ax.grid()\n",
    "    plt.show()"
   ]
  },
  {
   "cell_type": "code",
   "execution_count": 11,
   "metadata": {},
   "outputs": [
    {
     "name": "stdout",
     "output_type": "stream",
     "text": [
      "[1. 0. 0.] <-> [0.7849986  0.03755268 0.17744881]\n",
      "[0. 0. 1.] <-> [0.0632532  0.01499472 0.92175215]\n",
      "[0. 0. 1.] <-> [0.88541615 0.01667551 0.09790829]\n",
      "[1. 0. 0.] <-> [0.82096016 0.06062274 0.11841706]\n",
      "[1. 0. 0.] <-> [0.87595296 0.0478566  0.07619047]\n",
      "[0. 1. 0.] <-> [0.43196365 0.55523753 0.01279885]\n",
      "[1. 0. 0.] <-> [0.8632444  0.05356679 0.08318879]\n",
      "[1. 0. 0.] <-> [0.8490244  0.09129141 0.05968414]\n",
      "[0. 0. 1.] <-> [0.15008159 0.02268929 0.82722914]\n",
      "[1. 0. 0.] <-> [0.90277946 0.03338975 0.06383071]\n",
      "[1. 0. 0.] <-> [0.91563463 0.04230387 0.04206143]\n",
      "[1. 0. 0.] <-> [0.8588589  0.04210607 0.09903505]\n",
      "[0. 0. 1.] <-> [0.07056617 0.01626253 0.9131713 ]\n",
      "[1. 0. 0.] <-> [0.7918087  0.17340584 0.03478546]\n",
      "[1. 0. 0.] <-> [0.83481014 0.06683328 0.09835655]\n",
      "[1. 0. 0.] <-> [0.8193261  0.1095461  0.07112789]\n",
      "[1. 0. 0.] <-> [0.8889316  0.03424092 0.07682759]\n",
      "[0. 0. 1.] <-> [0.09950508 0.02170674 0.8787882 ]\n",
      "[0. 0. 1.] <-> [0.06277106 0.0176247  0.91960424]\n",
      "[1. 0. 0.] <-> [0.8517959  0.09816287 0.05004124]\n",
      "[1. 0. 0.] <-> [0.850364   0.04340116 0.10623475]\n",
      "[1. 0. 0.] <-> [0.87517184 0.03992216 0.08490596]\n",
      "[0. 1. 0.] <-> [0.17760243 0.81283104 0.00956653]\n",
      "[1. 0. 0.] <-> [0.92141277 0.02282585 0.05576137]\n",
      "[1. 0. 0.] <-> [0.9255609  0.03171799 0.04272114]\n",
      "[1. 0. 0.] <-> [0.8767157  0.09346663 0.02981769]\n",
      "[1. 0. 0.] <-> [0.7177706  0.26323834 0.01899102]\n",
      "[0. 1. 0.] <-> [0.29774606 0.6887962  0.01345771]\n",
      "[0. 1. 0.] <-> [0.08313274 0.9060586  0.01080859]\n",
      "[1. 0. 0.] <-> [0.90263176 0.05407918 0.04328911]\n",
      "[0. 0. 1.] <-> [0.06252854 0.01427748 0.923194  ]\n",
      "[0. 1. 0.] <-> [0.6126978  0.37169728 0.01560495]\n",
      "[1. 0. 0.] <-> [0.89349145 0.02551066 0.08099787]\n",
      "[1. 0. 0.] <-> [0.8537874  0.07055639 0.07565624]\n",
      "[1. 0. 0.] <-> [0.84625894 0.06837045 0.08537067]\n",
      "[0. 1. 0.] <-> [0.31663156 0.67166036 0.01170802]\n",
      "[1. 0. 0.] <-> [0.88757265 0.04745212 0.06497532]\n",
      "[1. 0. 0.] <-> [0.7787265  0.1855593  0.03571421]\n",
      "[1. 0. 0.] <-> [0.8963108  0.06420148 0.03948768]\n",
      "[1. 0. 0.] <-> [0.8133074  0.14268267 0.04400997]\n",
      "[1. 0. 0.] <-> [0.85712653 0.08164789 0.06122566]\n",
      "[1. 0. 0.] <-> [0.8368222  0.08209501 0.08108276]\n",
      "[1. 0. 0.] <-> [0.8673164  0.08135016 0.05133338]\n",
      "[1. 0. 0.] <-> [0.7709665  0.0701919  0.15884161]\n",
      "[1. 0. 0.] <-> [0.85994464 0.09446616 0.04558911]\n",
      "[1. 0. 0.] <-> [0.90307873 0.02568502 0.07123621]\n",
      "[1. 0. 0.] <-> [0.847177   0.11135045 0.0414725 ]\n",
      "[1. 0. 0.] <-> [0.8975054  0.03664616 0.06584847]\n",
      "[1. 0. 0.] <-> [0.864308   0.07678782 0.05890421]\n",
      "[1. 0. 0.] <-> [0.7979526  0.11713609 0.08491137]\n",
      "[1. 0. 0.] <-> [0.8693784  0.0751491  0.05547242]\n",
      "[1. 0. 0.] <-> [0.8013494  0.13086875 0.0677818 ]\n",
      "[1. 0. 0.] <-> [0.79250294 0.06324539 0.14425166]\n",
      "[1. 0. 0.] <-> [0.86169857 0.0739379  0.06436352]\n",
      "[1. 0. 0.] <-> [0.9046174  0.04467685 0.05070575]\n",
      "[0. 0. 1.] <-> [0.06496859 0.0226927  0.91233873]\n",
      "[1. 0. 0.] <-> [0.9018902  0.02808008 0.07002966]\n",
      "[0. 0. 1.] <-> [0.07902702 0.0170186  0.9039544 ]\n",
      "[1. 0. 0.] <-> [0.8298379 0.1261215 0.0440406]\n",
      "[0. 1. 0.] <-> [0.39635676 0.5813871  0.02225613]\n",
      "[0. 0. 1.] <-> [0.06259061 0.01655381 0.92085564]\n",
      "[1. 0. 0.] <-> [0.79160786 0.17575693 0.03263521]\n",
      "[0. 1. 0.] <-> [0.5152516  0.46957678 0.0151717 ]\n",
      "[1. 0. 0.] <-> [0.89806414 0.0565493  0.0453865 ]\n",
      "[0. 1. 0.] <-> [0.7053382  0.27812576 0.01653609]\n",
      "[1. 0. 0.] <-> [0.876833   0.07558892 0.04757804]\n",
      "[1. 0. 0.] <-> [0.86584944 0.0275243  0.10662622]\n",
      "[0. 1. 0.] <-> [0.17593157 0.81486547 0.00920301]\n",
      "[1. 0. 0.] <-> [0.8344665  0.11940065 0.04613284]\n",
      "[1. 0. 0.] <-> [0.8893307  0.08447465 0.02619465]\n",
      "[1. 0. 0.] <-> [0.7850178  0.15060088 0.06438143]\n",
      "[1. 0. 0.] <-> [0.88183576 0.04392337 0.07424095]\n",
      "[1. 0. 0.] <-> [0.8899786  0.06186637 0.04815508]\n",
      "[1. 0. 0.] <-> [0.89451206 0.02405873 0.08142924]\n",
      "[1. 0. 0.] <-> [0.761104   0.05943765 0.1794584 ]\n",
      "[1. 0. 0.] <-> [0.8971393  0.05402654 0.04883409]\n",
      "[1. 0. 0.] <-> [0.82742465 0.14305197 0.02952332]\n",
      "[1. 0. 0.] <-> [0.6579517  0.2907097  0.05133853]\n",
      "[0. 0. 1.] <-> [0.82938296 0.0216317  0.14898534]\n",
      "[1. 0. 0.] <-> [0.79859096 0.05425461 0.14715438]\n",
      "[1. 0. 0.] <-> [0.8921617  0.05826941 0.04956884]\n",
      "[1. 0. 0.] <-> [0.8626517  0.0631611  0.07418714]\n",
      "[0. 1. 0.] <-> [0.17007123 0.818489   0.01143978]\n",
      "[0. 0. 1.] <-> [0.06612471 0.01771918 0.91615605]\n",
      "[1. 0. 0.] <-> [0.8337626  0.1280256  0.03821182]\n",
      "[0. 1. 0.] <-> [0.08482779 0.9041552  0.01101703]\n",
      "[1. 0. 0.] <-> [0.8045248  0.16400889 0.03146625]\n",
      "[1. 0. 0.] <-> [0.8636035  0.03040467 0.10599179]\n",
      "[1. 0. 0.] <-> [0.8624422  0.031968   0.10558985]\n",
      "[1. 0. 0.] <-> [0.9073682  0.02335167 0.06928013]\n",
      "[1. 0. 0.] <-> [0.7842045  0.04464147 0.17115402]\n",
      "[1. 0. 0.] <-> [0.88186955 0.04070516 0.07742518]\n",
      "[0. 1. 0.] <-> [0.50623304 0.4809759  0.01279104]\n",
      "[1. 0. 0.] <-> [0.91565704 0.02492592 0.05941705]\n",
      "[1. 0. 0.] <-> [0.9119921  0.02987596 0.058132  ]\n",
      "[0. 1. 0.] <-> [0.1256221 0.8643116 0.0100663]\n",
      "[1. 0. 0.] <-> [0.7648968  0.04162463 0.19347866]\n",
      "[1. 0. 0.] <-> [0.9106409  0.03570231 0.0536568 ]\n",
      "[1. 0. 0.] <-> [0.87940747 0.0886406  0.03195191]\n",
      "[1. 0. 0.] <-> [0.54881674 0.05045157 0.40073165]\n",
      "[1. 0. 0.] <-> [0.91053563 0.04047712 0.04898721]\n",
      "[1. 0. 0.] <-> [0.6978083  0.2756446  0.02654709]\n",
      "[0. 1. 0.] <-> [0.5818692  0.3827286  0.03540225]\n",
      "[0. 0. 1.] <-> [0.6057146  0.03273027 0.3615551 ]\n",
      "[1. 0. 0.] <-> [0.778847   0.1089523  0.11220073]\n",
      "[1. 0. 0.] <-> [0.8771802  0.06932033 0.05349946]\n",
      "[1. 0. 0.] <-> [0.891826   0.03527755 0.07289653]\n",
      "[1. 0. 0.] <-> [0.8689538  0.06422067 0.06682557]\n",
      "{'accuracy': 0.9506172839506173, 'mean_square_error': 0.11578418305621953, 'categorical_crossentropy': 0.25344437140005605, 'precision': 0.9259259259259259, 'recall': 0.9259259259259259, 'f1': 0.9259259259259259, 'essential_metrics': {0: {'tp_hit': 80, 'fp_hit': 8, 'tn_hit': 20, 'fn_hit': 0}, 1: {'tp_hit': 10, 'fp_hit': 0, 'tn_hit': 93, 'fn_hit': 5}, 2: {'tp_hit': 10, 'fp_hit': 0, 'tn_hit': 95, 'fn_hit': 3}}}\n"
     ]
    }
   ],
   "source": [
    "# recall phase\n",
    "score = model.evaluate(x_test, y_test, False)\n",
    "print(score)"
   ]
  },
  {
   "cell_type": "code",
   "execution_count": 12,
   "metadata": {},
   "outputs": [],
   "source": [
    "# Testing Performance"
   ]
  },
  {
   "cell_type": "code",
   "execution_count": 13,
   "metadata": {},
   "outputs": [
    {
     "name": "stderr",
     "output_type": "stream",
     "text": [
      "C:\\Users\\tcumi\\Anaconda3\\envs\\py_3_6\\lib\\site-packages\\numpy\\core\\_asarray.py:136: VisibleDeprecationWarning: Creating an ndarray from ragged nested sequences (which is a list-or-tuple of lists-or-tuples-or ndarrays with different lengths or shapes) is deprecated. If you meant to do this, you must specify 'dtype=object' when creating the ndarray\n",
      "  return array(a, dtype, copy=False, order=order, subok=True)\n"
     ]
    },
    {
     "data": {
      "image/png": "[encoded data removed]",
      "text/plain": [
       "<Figure size 864x360 with 1 Axes>"
      ]
     },
     "metadata": {
      "needs_background": "light"
     },
     "output_type": "display_data"
    },
    {
     "data": {
      "image/png": "[encoded data removed]",
      "text/plain": [
       "<Figure size 864x360 with 1 Axes>"
      ]
     },
     "metadata": {
      "needs_background": "light"
     },
     "output_type": "display_data"
    }
   ],
   "source": [
    "draw_plot(x = [[i for i in range(len(history))], [(i+1)*breakpoint for i in range(len(checkpoints))]], y_list = [history, [ ckp[model.loss_fn] for ckp in checkpoints ]], x_label = 'Epochs', \\\n",
    "    y_label = model.loss_fn, legend=['train', 'test'])\n",
    "acc = [ ckp['accuracy'] for ckp in checkpoints ]\n",
    "draw_plot(x = [[(i+1)*breakpoint for i in range(len(checkpoints))]], y_list = [acc], x_label = 'Checkpoints', \\\n",
    "    y_label = 'accuracy')"
   ]
  },
  {
   "cell_type": "code",
   "execution_count": 14,
   "metadata": {
    "scrolled": false
   },
   "outputs": [
    {
     "name": "stdout",
     "output_type": "stream",
     "text": [
      "{'accuracy': 0.9506172839506173, 'mean_square_error': 0.13807176041273447, 'categorical_crossentropy': 0.29515921628033676, 'precision': 0.9259259259259259, 'recall': 0.9259259259259259, 'f1': 0.9259259259259259, 'essential_metrics': {0: {'tp_hit': 80, 'fp_hit': 8, 'tn_hit': 20, 'fn_hit': 0}, 1: {'tp_hit': 13, 'fp_hit': 0, 'tn_hit': 93, 'fn_hit': 2}, 2: {'tp_hit': 7, 'fp_hit': 0, 'tn_hit': 95, 'fn_hit': 6}}, 'checkpoint': 100} \n",
      "\n",
      "\n",
      "{'accuracy': 0.9567901234567902, 'mean_square_error': 0.13369656518111572, 'categorical_crossentropy': 0.29008987214830184, 'precision': 0.9351851851851852, 'recall': 0.9351851851851852, 'f1': 0.9351851851851852, 'essential_metrics': {0: {'tp_hit': 80, 'fp_hit': 7, 'tn_hit': 21, 'fn_hit': 0}, 1: {'tp_hit': 11, 'fp_hit': 0, 'tn_hit': 93, 'fn_hit': 4}, 2: {'tp_hit': 10, 'fp_hit': 0, 'tn_hit': 95, 'fn_hit': 3}}, 'checkpoint': 200} \n",
      "\n",
      "\n",
      "{'accuracy': 0.9567901234567902, 'mean_square_error': 0.1202033620025649, 'categorical_crossentropy': 0.2654945232250072, 'precision': 0.9351851851851852, 'recall': 0.9351851851851852, 'f1': 0.9351851851851852, 'essential_metrics': {0: {'tp_hit': 80, 'fp_hit': 7, 'tn_hit': 21, 'fn_hit': 0}, 1: {'tp_hit': 11, 'fp_hit': 0, 'tn_hit': 93, 'fn_hit': 4}, 2: {'tp_hit': 10, 'fp_hit': 0, 'tn_hit': 95, 'fn_hit': 3}}, 'checkpoint': 300} \n",
      "\n",
      "\n",
      "{'accuracy': 0.9506172839506173, 'mean_square_error': 0.11378089646226021, 'categorical_crossentropy': 0.2528986224421748, 'precision': 0.9259259259259259, 'recall': 0.9259259259259259, 'f1': 0.9259259259259259, 'essential_metrics': {0: {'tp_hit': 80, 'fp_hit': 8, 'tn_hit': 20, 'fn_hit': 0}, 1: {'tp_hit': 10, 'fp_hit': 0, 'tn_hit': 93, 'fn_hit': 5}, 2: {'tp_hit': 10, 'fp_hit': 0, 'tn_hit': 95, 'fn_hit': 3}}, 'checkpoint': 400} \n",
      "\n",
      "\n",
      "{'accuracy': 0.9506172839506173, 'mean_square_error': 0.11578418305621953, 'categorical_crossentropy': 0.25344437140005605, 'precision': 0.9259259259259259, 'recall': 0.9259259259259259, 'f1': 0.9259259259259259, 'essential_metrics': {0: {'tp_hit': 80, 'fp_hit': 8, 'tn_hit': 20, 'fn_hit': 0}, 1: {'tp_hit': 10, 'fp_hit': 0, 'tn_hit': 93, 'fn_hit': 5}, 2: {'tp_hit': 10, 'fp_hit': 0, 'tn_hit': 95, 'fn_hit': 3}}, 'checkpoint': 500} \n",
      "\n",
      "\n"
     ]
    }
   ],
   "source": [
    "for checkpoint in checkpoints:\n",
    "    print(checkpoint, '\\n\\n')"
   ]
  },
  {
   "cell_type": "code",
   "execution_count": 15,
   "metadata": {},
   "outputs": [
    {
     "name": "stdout",
     "output_type": "stream",
     "text": [
      "Layer 1\n",
      "Neuron 0: weights:\n",
      "[-0.17182061  0.80655444  0.9014128   0.02890311 -0.03534427]\n",
      " bias: -0.23068444430828094\n",
      "\n",
      "Neuron 1: weights:\n",
      "[-0.00317405  1.196372    0.09611477 -0.9950102  -0.9444189 ]\n",
      " bias: 0.3357295095920563\n",
      "\n",
      "Neuron 2: weights:\n",
      "[-1.1506416   1.948683    0.69913095  0.03893888 -0.06085321]\n",
      " bias: -0.6826898455619812\n",
      "\n",
      "Neuron 3: weights:\n",
      "[-0.02266584  0.6985505   0.37954873  2.6269355   0.6892637 ]\n",
      " bias: -0.05684100091457367\n",
      "\n",
      "$\n",
      "Layer 2\n",
      "Neuron 0: weights:\n",
      "[-0.6049443   0.0928028  -0.04318834 -3.        ]\n",
      " bias: 1.9893760681152344\n",
      "\n",
      "Neuron 1: weights:\n",
      "[ 8.7796181e-01  1.3995329e-01  3.0000000e+00 -2.1679830e-03]\n",
      " bias: -2.5740747451782227\n",
      "\n",
      "Neuron 2: weights:\n",
      "[-0.56822187 -3.         -0.90459657  1.3455127 ]\n",
      " bias: 0.3409113585948944\n",
      "\n",
      "$\n",
      "\n"
     ]
    }
   ],
   "source": [
    "print(model)"
   ]
  }
 ],
 "metadata": {
  "kernelspec": {
   "display_name": "Python 3",
   "language": "python",
   "name": "python3"
  },
  "language_info": {
   "codemirror_mode": {
    "name": "ipython",
    "version": 3
   },
   "file_extension": ".py",
   "mimetype": "text/x-python",
   "name": "python",
   "nbconvert_exporter": "python",
   "pygments_lexer": "ipython3",
   "version": "3.6.10"
  }
 },
 "nbformat": 4,
 "nbformat_minor": 2
}
