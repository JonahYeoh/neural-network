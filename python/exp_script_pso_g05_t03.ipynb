{
 "cells": [
  {
   "cell_type": "code",
   "execution_count": 1,
   "metadata": {},
   "outputs": [],
   "source": [
    "# dependency\n",
    "import numpy as np\n",
    "import pandas as pd\n",
    "import copy\n",
    "import math\n",
    "import sys\n",
    "import os\n",
    "from activations import relu, leaky_relu, sigmoid, tanh, softmax, d_sigmoid, d_relu\n",
    "from initializers import glorot_uniform, random_normal, random_uniform\n",
    "from regularizers import l1_regularizer, l2_regularizer\n",
    "from utility import trim_tail, multiply, subtract, get_nparams, one_hot_encoding, get_data\n",
    "from metrics import MSE, CCE, ACC, PRECISION, RECALL, essential_metrics, wondering_penalty, close_gap_penalty\n",
    "from pso import PSO\n",
    "from ga import GA\n",
    "from nn import Network\n",
    "from layer import DenseLayer\n",
    "from scalers import MinMaxScaler, StandardScaler"
   ]
  },
  {
   "cell_type": "code",
   "execution_count": 2,
   "metadata": {},
   "outputs": [],
   "source": [
    "# reference\n",
    "metrics_fn_dict = dict()\n",
    "metrics_fn_dict['accuracy'] = ACC\n",
    "metrics_fn_dict['categorical_crossentropy'] = CCE\n",
    "metrics_fn_dict['mean_square_error'] = MSE\n",
    "metrics_fn_dict['precision'] = PRECISION\n",
    "metrics_fn_dict['recall'] = RECALL\n",
    "metrics_fn_dict['essential_metrics'] = essential_metrics"
   ]
  },
  {
   "cell_type": "code",
   "execution_count": 3,
   "metadata": {},
   "outputs": [],
   "source": [
    "# model\n",
    "model = Network(5, lr = None)\n",
    "model.add_layer(DenseLayer(1, 4, True, afn=sigmoid, dafn=None, rfn=None))\n",
    "model.add_layer(DenseLayer(2, 3, True, afn=softmax, dafn=None, rfn=None))"
   ]
  },
  {
   "cell_type": "code",
   "execution_count": 4,
   "metadata": {},
   "outputs": [],
   "source": [
    "pso = PSO(dict(m = 50,\n",
    "    weight_constraint = [-3, 3], \n",
    "    velocity_constraint = [-0.5, 0.5],\n",
    "    c1 = 2.0,\n",
    "    c2 = 2.0,\n",
    "    w = 1.2,\n",
    "    w_decay = 0.95,\n",
    "    scale_hyperparameter = False))"
   ]
  },
  {
   "cell_type": "code",
   "execution_count": 5,
   "metadata": {},
   "outputs": [
    {
     "name": "stdout",
     "output_type": "stream",
     "text": [
      "building layer 1 with 5\n",
      "24\n",
      "building layer 2 with 4\n",
      "15\n"
     ]
    }
   ],
   "source": [
    "model.compile(loss_fn = 'categorical_crossentropy', optimizer = pso, \\\n",
    "    metrics = ['accuracy', 'mean_square_error', 'categorical_crossentropy', 'precision', 'recall', 'f1'])"
   ]
  },
  {
   "cell_type": "code",
   "execution_count": 6,
   "metadata": {},
   "outputs": [
    {
     "name": "stdout",
     "output_type": "stream",
     "text": [
      "<class 'pandas.core.frame.DataFrame'>\n",
      "RangeIndex: 107 entries, 0 to 106\n",
      "Data columns (total 6 columns):\n",
      " #   Column  Non-Null Count  Dtype  \n",
      "---  ------  --------------  -----  \n",
      " 0   f1      107 non-null    float32\n",
      " 1   f2      107 non-null    float32\n",
      " 2   f3      107 non-null    float32\n",
      " 3   f4      107 non-null    float32\n",
      " 4   f5      107 non-null    float32\n",
      " 5   label   107 non-null    float32\n",
      "dtypes: float32(6)\n",
      "memory usage: 2.6 KB\n",
      "None\n",
      "<class 'pandas.core.frame.DataFrame'>\n",
      "RangeIndex: 108 entries, 0 to 107\n",
      "Data columns (total 6 columns):\n",
      " #   Column  Non-Null Count  Dtype  \n",
      "---  ------  --------------  -----  \n",
      " 0   f1      108 non-null    float32\n",
      " 1   f2      108 non-null    float32\n",
      " 2   f3      108 non-null    float32\n",
      " 3   f4      108 non-null    float32\n",
      " 4   f5      108 non-null    float32\n",
      " 5   label   108 non-null    float32\n",
      "dtypes: float32(6)\n",
      "memory usage: 2.7 KB\n",
      "None\n"
     ]
    }
   ],
   "source": [
    "# data loading\n",
    "DATA = os.path.join('c:\\\\Users\\\\tcumi\\\\github_repo\\\\neural-network\\\\', 'dataset')\n",
    "GROUP = 5\n",
    "COLUMNS = ['f1', 'f2', 'f3', 'f4', 'f5', 'label']\n",
    "N_CLASS = 3\n",
    "EPOCHS = 500\n",
    "train_dir, test_dir = \"..//dataset//training_data{}.txt\".format(GROUP), \"..//dataset//testing_data{}.txt\".format(GROUP)\n",
    "train, test = get_data(DATA, train_dir, COLUMNS), get_data(DATA, test_dir, COLUMNS)\n",
    "# shuffle\n",
    "train, test = train.sample(frac=1), test.sample(frac=1)\n",
    "x_train, y_train = train.drop('label', axis=1), train['label']\n",
    "x_test, y_test = test.drop('label', axis=1), test['label']"
   ]
  },
  {
   "cell_type": "code",
   "execution_count": 7,
   "metadata": {},
   "outputs": [],
   "source": [
    "# data scaling and encoding\n",
    "scaler = StandardScaler(['f1', 'f2', 'f3', 'f4', 'f5'])\n",
    "scaler.fit(x_train)\n",
    "x_train = scaler.transform(x_train)\n",
    "x_test = scaler.transform(x_test)\n",
    "y_train = one_hot_encoding(y_train, N_CLASS)\n",
    "y_test = one_hot_encoding(y_test, N_CLASS)"
   ]
  },
  {
   "cell_type": "code",
   "execution_count": 8,
   "metadata": {
    "tags": [
     "outputPrepend"
    ]
   },
   "outputs": [
    {
     "name": "stdout",
     "output_type": "stream",
     "text": [
      "Checkpoint 100, Accuracy: 0.8333333333333334, Loss: 0.5334903928968642\n",
      "Checkpoint 200, Accuracy: 0.8333333333333334, Loss: 0.5334903928968642\n",
      "Checkpoint 300, Accuracy: 0.8333333333333334, Loss: 0.5334903928968642\n",
      "Checkpoint 400, Accuracy: 0.8333333333333334, Loss: 0.5334903928968642\n",
      "Checkpoint 500, Accuracy: 0.8333333333333334, Loss: 0.5334903928968642\n"
     ]
    }
   ],
   "source": [
    "# learning phase\n",
    "breakpoint = 100\n",
    "checkpoints = list()\n",
    "history = list()\n",
    "for century in range(0, EPOCHS, breakpoint):\n",
    "    sub_history = model.fit(x_train, y_train, breakpoint, verbose = 0)\n",
    "    score = model.evaluate(x_test, y_test, False, verbose = 0)\n",
    "    print('Checkpoint {}, Accuracy: {}, Loss: {}'.format(century+breakpoint, score['accuracy'], score[model.loss_fn]))\n",
    "    score['checkpoint'] = century + breakpoint\n",
    "    checkpoints.append(score)\n",
    "    history.extend(sub_history)"
   ]
  },
  {
   "cell_type": "code",
   "execution_count": 9,
   "metadata": {},
   "outputs": [],
   "source": [
    "import matplotlib.pyplot as plt\n",
    "\n",
    "def draw_plot(x, y_list, x_label=None, y_label=None, legend=None, title=None):\n",
    "    fig, ax = plt.subplots(figsize=(12,5))\n",
    "    for y in y_list:\n",
    "        ax.plot(x, y)\n",
    "    if x_label is not None and y_label is not None and title is not None:\n",
    "        ax.set(xlabel=x_label, ylabel=y_label, title=title)\n",
    "    if legend is not None:\n",
    "        ax.legend(legend)\n",
    "    ax.grid()\n",
    "    plt.show()"
   ]
  },
  {
   "cell_type": "code",
   "execution_count": 10,
   "metadata": {},
   "outputs": [
    {
     "data": {
      "image/png": "[encoded data removed]",
      "text/plain": [
       "<Figure size 864x360 with 1 Axes>"
      ]
     },
     "metadata": {
      "needs_background": "light"
     },
     "output_type": "display_data"
    }
   ],
   "source": [
    "draw_plot(x = [i for i in range(len(history))], y_list = [history], x_label = 'Epochs', \\\n",
    "    y_label = model.loss_fn)"
   ]
  },
  {
   "cell_type": "code",
   "execution_count": 11,
   "metadata": {},
   "outputs": [
    {
     "name": "stdout",
     "output_type": "stream",
     "text": [
      "[1. 0. 0.] <-> [0.3545097  0.04228261 0.6032077 ]\n",
      "[1. 0. 0.] <-> [0.9010629 0.031847  0.0670902]\n",
      "[1. 0. 0.] <-> [0.90833795 0.06738364 0.02427841]\n",
      "[0. 0. 1.] <-> [1.0206462e-01 3.3785007e-04 8.9759749e-01]\n",
      "[1. 0. 0.] <-> [0.8311881  0.13587958 0.03293229]\n",
      "[1. 0. 0.] <-> [0.38456264 0.42295215 0.19248515]\n",
      "[1. 0. 0.] <-> [0.9065748  0.04194972 0.05147554]\n",
      "[1. 0. 0.] <-> [0.8107784  0.01092995 0.17829171]\n",
      "[0. 1. 0.] <-> [0.11983466 0.7780139  0.10215144]\n",
      "[0. 1. 0.] <-> [0.10350063 0.79139805 0.10510132]\n",
      "[0. 0. 1.] <-> [0.44196612 0.00509937 0.5529345 ]\n",
      "[1. 0. 0.] <-> [0.89278936 0.05766112 0.04954955]\n",
      "[0. 0. 1.] <-> [0.25420547 0.00119035 0.7446042 ]\n",
      "[1. 0. 0.] <-> [0.22751074 0.43032104 0.34216827]\n",
      "[1. 0. 0.] <-> [0.6245787  0.21303548 0.16238588]\n",
      "[1. 0. 0.] <-> [0.5523766  0.01051262 0.4371107 ]\n",
      "[0. 1. 0.] <-> [0.8487042  0.12542865 0.02586716]\n",
      "[1. 0. 0.] <-> [0.739094   0.01136799 0.24953799]\n",
      "[1. 0. 0.] <-> [0.3424946 0.4526546 0.2048508]\n",
      "[1. 0. 0.] <-> [0.63697374 0.00559567 0.3574306 ]\n",
      "[1. 0. 0.] <-> [0.8739837  0.09038995 0.03562643]\n",
      "[1. 0. 0.] <-> [0.9215908  0.03699038 0.04141882]\n",
      "[1. 0. 0.] <-> [0.8086891  0.01125562 0.18005522]\n",
      "[1. 0. 0.] <-> [0.23790452 0.15044813 0.61164737]\n",
      "[1. 0. 0.] <-> [0.9205356  0.04396578 0.03549863]\n",
      "[1. 0. 0.] <-> [0.86353505 0.01567738 0.12078761]\n",
      "[0. 0. 1.] <-> [0.63960224 0.00446736 0.3559304 ]\n",
      "[1. 0. 0.] <-> [0.85764134 0.11729573 0.0250629 ]\n",
      "[0. 1. 0.] <-> [0.19645704 0.69500136 0.10854156]\n",
      "[1. 0. 0.] <-> [0.8330956 0.0140957 0.1528087]\n",
      "[1. 0. 0.] <-> [0.9176873  0.03583546 0.04647722]\n",
      "[0. 0. 1.] <-> [0.44121107 0.00521988 0.553569  ]\n",
      "[0. 1. 0.] <-> [0.13101825 0.82969296 0.03928878]\n",
      "[1. 0. 0.] <-> [0.92031866 0.04871061 0.03097074]\n",
      "[0. 1. 0.] <-> [0.10884985 0.8452581  0.04589206]\n",
      "[1. 0. 0.] <-> [0.8606958  0.07693669 0.06236749]\n",
      "[1. 0. 0.] <-> [0.8903827  0.09147644 0.01814078]\n",
      "[1. 0. 0.] <-> [0.81405616 0.02087123 0.16507259]\n",
      "[1. 0. 0.] <-> [0.8280951  0.01808941 0.15381546]\n",
      "[1. 0. 0.] <-> [0.66794723 0.30169952 0.03035334]\n",
      "[0. 0. 1.] <-> [0.5894616  0.00523394 0.40530446]\n",
      "[0. 1. 0.] <-> [0.09726379 0.798632   0.10410412]\n",
      "[0. 1. 0.] <-> [0.09112398 0.80674416 0.1021319 ]\n",
      "[1. 0. 0.] <-> [0.9126823  0.05921464 0.0281031 ]\n",
      "[1. 0. 0.] <-> [0.90996045 0.03219735 0.05784215]\n",
      "[1. 0. 0.] <-> [0.8860451  0.07437966 0.03957532]\n",
      "[1. 0. 0.] <-> [0.2521608  0.7006337  0.04720555]\n",
      "[1. 0. 0.] <-> [0.46928602 0.34254438 0.18816955]\n",
      "[0. 0. 1.] <-> [0.714851   0.00610807 0.2790409 ]\n",
      "[1. 0. 0.] <-> [0.8708867  0.10368405 0.02542924]\n",
      "[1. 0. 0.] <-> [0.7792282  0.01306116 0.20771068]\n",
      "[0. 0. 1.] <-> [1.3127869e-01 4.5049674e-04 8.6827075e-01]\n",
      "[1. 0. 0.] <-> [0.74840283 0.15104698 0.10055017]\n",
      "[1. 0. 0.] <-> [0.84207255 0.02316012 0.1347673 ]\n",
      "[0. 1. 0.] <-> [0.1704802  0.7254602  0.10405958]\n",
      "[0. 1. 0.] <-> [0.38481984 0.5552192  0.05996098]\n",
      "[0. 1. 0.] <-> [0.21074307 0.7598193  0.02943762]\n",
      "[1. 0. 0.] <-> [0.60836524 0.2311455  0.16048923]\n",
      "[1. 0. 0.] <-> [0.45495996 0.4166986  0.12834142]\n",
      "[0. 0. 1.] <-> [1.02042906e-01 3.37768230e-04 8.97619307e-01]\n",
      "[1. 0. 0.] <-> [0.8252052  0.11356064 0.06123422]\n",
      "[0. 0. 1.] <-> [1.04685985e-01 3.51344177e-04 8.94962728e-01]\n",
      "[1. 0. 0.] <-> [0.19534966 0.26814872 0.53650165]\n",
      "[1. 0. 0.] <-> [0.6407847  0.00725235 0.351963  ]\n",
      "[1. 0. 0.] <-> [0.22131498 0.13708566 0.6415994 ]\n",
      "[0. 0. 1.] <-> [0.37727767 0.00168729 0.621035  ]\n",
      "[0. 1. 0.] <-> [0.09107404 0.8130603  0.09586564]\n",
      "[0. 1. 0.] <-> [0.88760644 0.09284722 0.01954637]\n",
      "[1. 0. 0.] <-> [0.28309566 0.5119473  0.20495708]\n",
      "[1. 0. 0.] <-> [0.3408687  0.6153803  0.04375106]\n",
      "[1. 0. 0.] <-> [0.18237351 0.7237415  0.09388504]\n",
      "[1. 0. 0.] <-> [0.78242296 0.19210915 0.02546787]\n",
      "[0. 0. 1.] <-> [1.0295889e-01 3.4122035e-04 8.9669991e-01]\n",
      "[1. 0. 0.] <-> [0.2663136  0.17398304 0.55970335]\n",
      "[0. 0. 1.] <-> [0.64907205 0.00454475 0.3463832 ]\n",
      "[1. 0. 0.] <-> [0.6828731  0.04118592 0.27594098]\n",
      "[0. 1. 0.] <-> [0.19882202 0.38039872 0.42077926]\n",
      "[1. 0. 0.] <-> [0.8927722  0.01968116 0.08754659]\n",
      "[1. 0. 0.] <-> [0.8273345  0.1219139  0.05075155]\n",
      "[1. 0. 0.] <-> [0.29960188 0.22787873 0.47251943]\n",
      "[0. 1. 0.] <-> [0.64643383 0.30742574 0.04614042]\n",
      "[0. 1. 0.] <-> [0.19861999 0.4773344  0.32404557]\n",
      "[1. 0. 0.] <-> [0.9185169  0.04535215 0.03613098]\n",
      "[0. 0. 1.] <-> [1.04715206e-01 3.48861795e-04 8.94935966e-01]\n",
      "[1. 0. 0.] <-> [0.9090844  0.02660631 0.06430926]\n",
      "[0. 1. 0.] <-> [0.09113715 0.80716145 0.10170137]\n",
      "[0. 0. 1.] <-> [0.6724572  0.00491006 0.3226327 ]\n",
      "[1. 0. 0.] <-> [0.55924815 0.03617029 0.40458158]\n",
      "[1. 0. 0.] <-> [0.21159537 0.52258134 0.26582327]\n",
      "[1. 0. 0.] <-> [0.8787696  0.02959058 0.09163985]\n",
      "[1. 0. 0.] <-> [0.6265976  0.33497766 0.03842477]\n",
      "[1. 0. 0.] <-> [0.82343274 0.0113805  0.16518678]\n",
      "[1. 0. 0.] <-> [0.81897366 0.01036193 0.1706644 ]\n",
      "[1. 0. 0.] <-> [0.39853388 0.02095166 0.58051443]\n",
      "[1. 0. 0.] <-> [0.7999333  0.01023265 0.18983406]\n",
      "[1. 0. 0.] <-> [0.90913916 0.03211132 0.05874959]\n",
      "[1. 0. 0.] <-> [0.897792   0.04028681 0.06192117]\n",
      "[1. 0. 0.] <-> [0.526206   0.17134187 0.3024521 ]\n",
      "[1. 0. 0.] <-> [0.85579246 0.02639493 0.11781259]\n",
      "[1. 0. 0.] <-> [0.5921712  0.0327072  0.37512162]\n",
      "[1. 0. 0.] <-> [0.3458893  0.00165605 0.6524546 ]\n",
      "[1. 0. 0.] <-> [0.63060415 0.02806187 0.34133402]\n",
      "[1. 0. 0.] <-> [0.88035107 0.03803762 0.08161133]\n",
      "[1. 0. 0.] <-> [0.2226468  0.16733627 0.61001694]\n",
      "[1. 0. 0.] <-> [0.53015256 0.07055067 0.39929676]\n",
      "[1. 0. 0.] <-> [0.71094805 0.0074977  0.28155422]\n",
      "[1. 0. 0.] <-> [0.7015346  0.00681985 0.2916456 ]\n",
      "[1. 0. 0.] <-> [0.15823527 0.7631402  0.07862447]\n",
      "{'accuracy': 0.8333333333333334, 'mean_square_error': 0.32055200869550543, 'categorical_crossentropy': 0.5334903928968642, 'precision': 0.75, 'recall': 0.75, 'f1': 0.75, 'essential_metrics': {0: {'tp_hit': 58, 'fp_hit': 8, 'tn_hit': 24, 'fn_hit': 18}, 1: {'tp_hit': 13, 'fp_hit': 9, 'tn_hit': 82, 'fn_hit': 4}, 2: {'tp_hit': 10, 'fp_hit': 10, 'tn_hit': 83, 'fn_hit': 5}}}\n"
     ]
    }
   ],
   "source": [
    "# recall phase\n",
    "score = model.evaluate(x_test, y_test, False)\n",
    "print(score)"
   ]
  },
  {
   "cell_type": "code",
   "execution_count": 12,
   "metadata": {},
   "outputs": [
    {
     "data": {
      "image/png": "[encoded data removed]",
      "text/plain": [
       "<Figure size 864x360 with 1 Axes>"
      ]
     },
     "metadata": {
      "needs_background": "light"
     },
     "output_type": "display_data"
    }
   ],
   "source": [
    "cat_cross = [ ckp[model.loss_fn] for ckp in checkpoints ]\n",
    "draw_plot(x = [(i+1)*breakpoint for i in range(len(checkpoints))], y_list = [cat_cross], x_label = 'Checkpoints', \\\n",
    "    y_label = model.loss_fn)"
   ]
  },
  {
   "cell_type": "code",
   "execution_count": 13,
   "metadata": {},
   "outputs": [
    {
     "data": {
      "image/png": "[encoded data removed]",
      "text/plain": [
       "<Figure size 864x360 with 1 Axes>"
      ]
     },
     "metadata": {
      "needs_background": "light"
     },
     "output_type": "display_data"
    }
   ],
   "source": [
    "acc = [ ckp['accuracy'] for ckp in checkpoints ]\n",
    "draw_plot(x = [(i+1)*breakpoint for i in range(len(checkpoints))], y_list = [acc], x_label = 'Checkpoints', \\\n",
    "    y_label = 'accuracy')"
   ]
  },
  {
   "cell_type": "code",
   "execution_count": 14,
   "metadata": {},
   "outputs": [
    {
     "name": "stdout",
     "output_type": "stream",
     "text": [
      "Layer 1\n",
      "Neuron 0: weights:\n",
      "[-2.81677582 -2.48602708 -2.28369322  1.44129025  1.90929488]\n",
      " bias: 2.180611995784452\n",
      "\n",
      "Neuron 1: weights:\n",
      "[ 2.32611681 -1.61467657  0.17681836 -0.48118011  2.79034848]\n",
      " bias: -0.21686675846740755\n",
      "\n",
      "Neuron 2: weights:\n",
      "[ 0.86011375  2.05282002  0.94115501  1.26536326 -2.04066874]\n",
      " bias: 0.588447801982245\n",
      "\n",
      "Neuron 3: weights:\n",
      "[-0.84558243  1.94263144 -0.05635673  2.39481342  1.41959754]\n",
      " bias: -0.7315783419867223\n",
      "\n",
      "$\n",
      "Layer 2\n",
      "Neuron 0: weights:\n",
      "[ 2.87330919 -0.75777649  0.1792478  -2.17455766]\n",
      " bias: -1.2532041672447771\n",
      "\n",
      "Neuron 1: weights:\n",
      "[-1.36608134 -2.88896544  1.70177705 -2.45561463]\n",
      " bias: -0.3123631137666951\n",
      "\n",
      "Neuron 2: weights:\n",
      "[-0.37242433  2.21978457 -2.13468654  0.12584153]\n",
      " bias: -1.1110297733580592\n",
      "\n",
      "$\n",
      "\n"
     ]
    }
   ],
   "source": [
    "print(model)"
   ]
  }
 ],
 "metadata": {
  "kernelspec": {
   "display_name": "Python 3",
   "language": "python",
   "name": "python3"
  },
  "language_info": {
   "codemirror_mode": {
    "name": "ipython",
    "version": 3
   },
   "file_extension": ".py",
   "mimetype": "text/x-python",
   "name": "python",
   "nbconvert_exporter": "python",
   "pygments_lexer": "ipython3",
   "version": "3.6.10"
  }
 },
 "nbformat": 4,
 "nbformat_minor": 2
}
