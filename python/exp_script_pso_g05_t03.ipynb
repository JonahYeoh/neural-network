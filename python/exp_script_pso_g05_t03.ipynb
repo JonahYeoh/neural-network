{
 "cells": [
  {
   "cell_type": "code",
   "execution_count": 1,
   "metadata": {},
   "outputs": [],
   "source": [
    "# dependency\n",
    "import numpy as np\n",
    "import pandas as pd\n",
    "import copy\n",
    "import math\n",
    "import sys\n",
    "import os\n",
    "from activations import relu, leaky_relu, sigmoid, tanh, softmax, d_sigmoid, d_relu\n",
    "from initializers import glorot_uniform, random_normal, random_uniform\n",
    "from regularizers import l1_regularizer, l2_regularizer\n",
    "from utility import trim_tail, multiply, subtract, get_nparams, one_hot_encoding, get_data\n",
    "from metrics import MSE, CCE, ACC, PRECISION, RECALL, essential_metrics, wondering_penalty, close_gap_penalty\n",
    "from pso import PSO\n",
    "from ga import GA\n",
    "from nn import Network\n",
    "from layer import DenseLayer\n",
    "from scalers import MinMaxScaler, StandardScaler"
   ]
  },
  {
   "cell_type": "code",
   "execution_count": 2,
   "metadata": {},
   "outputs": [],
   "source": [
    "# reference\n",
    "metrics_fn_dict = dict()\n",
    "metrics_fn_dict['accuracy'] = ACC\n",
    "metrics_fn_dict['categorical_crossentropy'] = CCE\n",
    "metrics_fn_dict['mean_square_error'] = MSE\n",
    "metrics_fn_dict['precision'] = PRECISION\n",
    "metrics_fn_dict['recall'] = RECALL\n",
    "metrics_fn_dict['essential_metrics'] = essential_metrics"
   ]
  },
  {
   "cell_type": "code",
   "execution_count": 3,
   "metadata": {},
   "outputs": [],
   "source": [
    "# model\n",
    "model = Network(5, lr = None)\n",
    "model.add_layer(DenseLayer(1, 4, True, afn=sigmoid, dafn=None, rfn=None))\n",
    "model.add_layer(DenseLayer(2, 3, True, afn=softmax, dafn=None, rfn=None))"
   ]
  },
  {
   "cell_type": "code",
   "execution_count": 4,
   "metadata": {},
   "outputs": [],
   "source": [
    "pso = PSO(dict(m = 50,\n",
    "    weight_constraint = [-3, 3], \n",
    "    velocity_constraint = [-0.1, 0.1],\n",
    "    c1 = 2,\n",
    "    c2 = 2,\n",
    "    w = 1,\n",
    "    w_decay = 1,\n",
    "    scale_hyperparameter = False,\n",
    "    regularizer = l1_regularizer,\n",
    "    mask = True))"
   ]
  },
  {
   "cell_type": "code",
   "execution_count": 5,
   "metadata": {},
   "outputs": [
    {
     "name": "stdout",
     "output_type": "stream",
     "text": [
      "building layer 1 with 5\n",
      "24\n",
      "building layer 2 with 4\n",
      "15\n"
     ]
    }
   ],
   "source": [
    "model.compile(loss_fn = 'categorical_crossentropy', optimizer = pso, \\\n",
    "    metrics = ['accuracy', 'mean_square_error', 'categorical_crossentropy'])"
   ]
  },
  {
   "cell_type": "code",
   "execution_count": 6,
   "metadata": {},
   "outputs": [
    {
     "name": "stdout",
     "output_type": "stream",
     "text": [
      "<class 'pandas.core.frame.DataFrame'>\n",
      "RangeIndex: 107 entries, 0 to 106\n",
      "Data columns (total 6 columns):\n",
      " #   Column  Non-Null Count  Dtype  \n",
      "---  ------  --------------  -----  \n",
      " 0   f1      107 non-null    float32\n",
      " 1   f2      107 non-null    float32\n",
      " 2   f3      107 non-null    float32\n",
      " 3   f4      107 non-null    float32\n",
      " 4   f5      107 non-null    float32\n",
      " 5   label   107 non-null    float32\n",
      "dtypes: float32(6)\n",
      "memory usage: 2.6 KB\n",
      "None\n",
      "<class 'pandas.core.frame.DataFrame'>\n",
      "RangeIndex: 108 entries, 0 to 107\n",
      "Data columns (total 6 columns):\n",
      " #   Column  Non-Null Count  Dtype  \n",
      "---  ------  --------------  -----  \n",
      " 0   f1      108 non-null    float32\n",
      " 1   f2      108 non-null    float32\n",
      " 2   f3      108 non-null    float32\n",
      " 3   f4      108 non-null    float32\n",
      " 4   f5      108 non-null    float32\n",
      " 5   label   108 non-null    float32\n",
      "dtypes: float32(6)\n",
      "memory usage: 2.7 KB\n",
      "None\n"
     ]
    }
   ],
   "source": [
    "# data loading\n",
    "DATA = os.path.join('c:\\\\Users\\\\tcumi\\\\github_repo\\\\neural-network\\\\', 'dataset')\n",
    "GROUP = 5\n",
    "COLUMNS = ['f1', 'f2', 'f3', 'f4', 'f5', 'label']\n",
    "N_CLASS = 3\n",
    "EPOCHS = 500\n",
    "train_dir, test_dir = \"..//dataset//training_data{}.txt\".format(GROUP), \"..//dataset//testing_data{}.txt\".format(GROUP)\n",
    "train, test = get_data(DATA, train_dir, COLUMNS), get_data(DATA, test_dir, COLUMNS)\n",
    "# shuffle\n",
    "train, test = train.sample(frac=1), test.sample(frac=1)\n",
    "x_train, y_train = train.drop('label', axis=1), train['label']\n",
    "x_test, y_test = test.drop('label', axis=1), test['label']"
   ]
  },
  {
   "cell_type": "code",
   "execution_count": 7,
   "metadata": {},
   "outputs": [],
   "source": [
    "# data scaling and encoding\n",
    "scaler = StandardScaler(['f1', 'f2', 'f3', 'f4', 'f5'])\n",
    "scaler.fit(x_train)\n",
    "x_train = scaler.transform(x_train)\n",
    "x_test = scaler.transform(x_test)\n",
    "y_train = one_hot_encoding(y_train, N_CLASS)\n",
    "y_test = one_hot_encoding(y_test, N_CLASS)"
   ]
  },
  {
   "cell_type": "code",
   "execution_count": 8,
   "metadata": {
    "tags": [
     "outputPrepend"
    ]
   },
   "outputs": [
    {
     "name": "stdout",
     "output_type": "stream",
     "text": [
      "Checkpoint 100, Accuracy: 0.9197530864197531, Loss: 0.3794514338175456\n",
      "Checkpoint 200, Accuracy: 0.9691358024691358, Loss: 0.20632475393789787\n",
      "Checkpoint 300, Accuracy: 0.9691358024691358, Loss: 0.17809219713564273\n",
      "Checkpoint 400, Accuracy: 0.9629629629629629, Loss: 0.18083890279134116\n",
      "Checkpoint 500, Accuracy: 0.9567901234567902, Loss: 0.1836075782775879\n"
     ]
    }
   ],
   "source": [
    "# learning phase\n",
    "breakpoint = 100\n",
    "checkpoints = list()\n",
    "history = list()\n",
    "for century in range(0, EPOCHS, breakpoint):\n",
    "    sub_history = model.fit(x_train, y_train, breakpoint, verbose = 0)\n",
    "    score = model.evaluate(x_test, y_test, False, verbose = 0)\n",
    "    print('Checkpoint {}, Accuracy: {}, Loss: {}'.format(century+breakpoint, score['accuracy'], score[model.loss_fn]))\n",
    "    score['checkpoint'] = century + breakpoint\n",
    "    checkpoints.append(score)\n",
    "    history.extend(sub_history)"
   ]
  },
  {
   "cell_type": "code",
   "execution_count": 9,
   "metadata": {},
   "outputs": [],
   "source": [
    "import matplotlib.pyplot as plt\n",
    "\n",
    "def draw_plot(x, y_list, x_label=None, y_label=None, legend=None, title=None):\n",
    "    fig, ax = plt.subplots(figsize=(12,5))\n",
    "    for xi, yi in zip(x, y_list):\n",
    "        ax.plot(xi, yi)\n",
    "    if x_label is not None and y_label is not None:\n",
    "        ax.set(xlabel=x_label, ylabel=y_label, title='{} VS {}'.format(x_label, y_label))\n",
    "    if legend is not None:\n",
    "        ax.legend(legend)\n",
    "    ax.grid()\n",
    "    plt.show()"
   ]
  },
  {
   "cell_type": "code",
   "execution_count": 10,
   "metadata": {},
   "outputs": [
    {
     "name": "stdout",
     "output_type": "stream",
     "text": [
      "[0. 1. 0.] <-> [0.2612225  0.73417896 0.0045985 ]\n",
      "[1. 0. 0.] <-> [0.95631045 0.03364114 0.01004845]\n",
      "[1. 0. 0.] <-> [0.94753385 0.04056492 0.01190123]\n",
      "[1. 0. 0.] <-> [0.95679736 0.026042   0.01716068]\n",
      "[1. 0. 0.] <-> [0.8805121  0.01370923 0.10577873]\n",
      "[1. 0. 0.] <-> [0.95467967 0.01865822 0.02666208]\n",
      "[1. 0. 0.] <-> [0.95813763 0.03116024 0.01070204]\n",
      "[0. 0. 1.] <-> [0.19946672 0.00325237 0.79728085]\n",
      "[1. 0. 0.] <-> [0.9466976  0.02636095 0.02694145]\n",
      "[1. 0. 0.] <-> [0.93748707 0.0490033  0.01350967]\n",
      "[1. 0. 0.] <-> [0.8755975  0.01878121 0.10562134]\n",
      "[1. 0. 0.] <-> [0.62322986 0.02088104 0.35588902]\n",
      "[1. 0. 0.] <-> [0.9086455  0.02594585 0.06540862]\n",
      "[1. 0. 0.] <-> [0.9531114  0.03721301 0.0096756 ]\n",
      "[1. 0. 0.] <-> [0.93801045 0.05282929 0.00916023]\n",
      "[1. 0. 0.] <-> [0.96280843 0.01678532 0.02040625]\n",
      "[1. 0. 0.] <-> [0.8020529  0.18276909 0.01517793]\n",
      "[1. 0. 0.] <-> [0.9525651  0.02540357 0.02203143]\n",
      "[0. 1. 0.] <-> [0.09614214 0.9023995  0.00145837]\n",
      "[0. 0. 1.] <-> [0.11560524 0.00345883 0.88093597]\n",
      "[1. 0. 0.] <-> [0.94990313 0.02886046 0.02123642]\n",
      "[0. 1. 0.] <-> [0.5128747  0.48200566 0.00511962]\n",
      "[1. 0. 0.] <-> [0.95237744 0.03700544 0.01061712]\n",
      "[1. 0. 0.] <-> [0.9612657  0.02575929 0.01297502]\n",
      "[0. 0. 1.] <-> [0.19424032 0.0033405  0.8024192 ]\n",
      "[1. 0. 0.] <-> [0.9569099  0.01468359 0.02840642]\n",
      "[1. 0. 0.] <-> [0.8896355  0.01301523 0.09734926]\n",
      "[1. 0. 0.] <-> [0.9117983  0.02293272 0.06526902]\n",
      "[0. 0. 1.] <-> [0.4752853  0.01240367 0.512311  ]\n",
      "[0. 1. 0.] <-> [0.09394864 0.9047046  0.00134686]\n",
      "[1. 0. 0.] <-> [0.953656   0.01685706 0.02948698]\n",
      "[0. 1. 0.] <-> [0.64748347 0.34670419 0.00581232]\n",
      "[1. 0. 0.] <-> [0.8744767  0.02172679 0.10379657]\n",
      "[1. 0. 0.] <-> [0.92210007 0.06627929 0.01162062]\n",
      "[1. 0. 0.] <-> [0.7987563  0.01380502 0.18743879]\n",
      "[1. 0. 0.] <-> [0.8921836  0.01090564 0.09691079]\n",
      "[0. 0. 1.] <-> [0.29026774 0.00433165 0.7054006 ]\n",
      "[1. 0. 0.] <-> [0.9294379  0.02083695 0.04972523]\n",
      "[1. 0. 0.] <-> [0.9416457  0.03641206 0.02194233]\n",
      "[1. 0. 0.] <-> [0.8781082  0.02469049 0.09720132]\n",
      "[1. 0. 0.] <-> [0.9106815  0.07031563 0.01900283]\n",
      "[1. 0. 0.] <-> [0.8068637  0.01048487 0.18265134]\n",
      "[0. 0. 1.] <-> [0.3563315  0.00578437 0.63788414]\n",
      "[0. 1. 0.] <-> [0.09416504 0.90448177 0.00135319]\n",
      "[1. 0. 0.] <-> [0.9426956  0.04195942 0.01534503]\n",
      "[1. 0. 0.] <-> [0.9619015 0.0250467 0.0130518]\n",
      "[1. 0. 0.] <-> [0.9384172  0.02037856 0.04120427]\n",
      "[1. 0. 0.] <-> [0.95317143 0.02840748 0.01842103]\n",
      "[1. 0. 0.] <-> [0.9366761  0.04492169 0.0184022 ]\n",
      "[0. 1. 0.] <-> [0.38949966 0.6059237  0.00457658]\n",
      "[1. 0. 0.] <-> [0.9414427  0.01431854 0.0442387 ]\n",
      "[0. 0. 1.] <-> [0.26031956 0.00383924 0.7358412 ]\n",
      "[1. 0. 0.] <-> [0.8970565  0.06620897 0.03673453]\n",
      "[0. 1. 0.] <-> [0.1333981  0.8640687  0.00253325]\n",
      "[0. 0. 1.] <-> [0.11878464 0.00227959 0.8789358 ]\n",
      "[0. 0. 1.] <-> [0.10923083 0.00350966 0.8872595 ]\n",
      "[1. 0. 0.] <-> [0.9037533  0.01388395 0.0823628 ]\n",
      "[1. 0. 0.] <-> [0.90754175 0.01215552 0.08030272]\n",
      "[1. 0. 0.] <-> [0.87401253 0.1211017  0.00488581]\n",
      "[1. 0. 0.] <-> [0.95266026 0.02027361 0.02706623]\n",
      "[1. 0. 0.] <-> [0.89837825 0.01720116 0.08442057]\n",
      "[1. 0. 0.] <-> [0.86075896 0.01211517 0.12712589]\n",
      "[0. 0. 1.] <-> [0.14627352 0.00245706 0.8512694 ]\n",
      "[0. 1. 0.] <-> [0.09303743 0.90564543 0.00131713]\n",
      "[1. 0. 0.] <-> [0.92718184 0.03082266 0.04199553]\n",
      "[0. 0. 1.] <-> [0.11025519 0.00346812 0.88627666]\n",
      "[1. 0. 0.] <-> [0.91638213 0.06873003 0.0148878 ]\n",
      "[1. 0. 0.] <-> [0.9482488  0.03606687 0.01568429]\n",
      "[1. 0. 0.] <-> [0.9497717  0.03350078 0.0167275 ]\n",
      "[1. 0. 0.] <-> [0.94202    0.03165224 0.02632779]\n",
      "[0. 1. 0.] <-> [0.51759076 0.47276327 0.00964594]\n",
      "[0. 1. 0.] <-> [0.09439525 0.90418774 0.00141696]\n",
      "[1. 0. 0.] <-> [0.9155758  0.01160879 0.07281546]\n",
      "[0. 0. 1.] <-> [0.7850606  0.01408262 0.20085679]\n",
      "[1. 0. 0.] <-> [0.91994464 0.06200406 0.0180513 ]\n",
      "[1. 0. 0.] <-> [0.9192433  0.06431162 0.01644517]\n",
      "[1. 0. 0.] <-> [0.9224579  0.01127309 0.06626894]\n",
      "[1. 0. 0.] <-> [0.8637259  0.01240302 0.123871  ]\n",
      "[1. 0. 0.] <-> [0.95554423 0.0241803  0.0202755 ]\n",
      "[1. 0. 0.] <-> [0.9427613  0.04565487 0.01158385]\n",
      "[1. 0. 0.] <-> [0.94311297 0.042727   0.0141601 ]\n",
      "[1. 0. 0.] <-> [0.81709224 0.17324615 0.00966164]\n",
      "[0. 1. 0.] <-> [0.69775933 0.29259413 0.00964649]\n",
      "[1. 0. 0.] <-> [0.940471   0.02632178 0.03320729]\n",
      "[0. 0. 1.] <-> [0.11821173 0.002369   0.87941927]\n",
      "[1. 0. 0.] <-> [0.9464934  0.04693572 0.0065709 ]\n",
      "[0. 1. 0.] <-> [0.12756628 0.87066865 0.00176506]\n",
      "[0. 1. 0.] <-> [0.09357036 0.90510166 0.00132798]\n",
      "[0. 1. 0.] <-> [0.63729674 0.35589883 0.00680447]\n",
      "[1. 0. 0.] <-> [0.9539296  0.03089703 0.01517345]\n",
      "[1. 0. 0.] <-> [0.9048487  0.08637346 0.00877781]\n",
      "[0. 1. 0.] <-> [0.2830663  0.71213347 0.00480029]\n",
      "[0. 0. 1.] <-> [0.12746188 0.00283161 0.8697065 ]\n",
      "[0. 0. 1.] <-> [0.7489605  0.01530706 0.23573248]\n",
      "[1. 0. 0.] <-> [0.88586515 0.01280703 0.10132776]\n",
      "[1. 0. 0.] <-> [0.9452793  0.03249443 0.02222637]\n",
      "[1. 0. 0.] <-> [0.9394739  0.01571703 0.044809  ]\n",
      "[1. 0. 0.] <-> [0.9113467  0.04803757 0.04061573]\n",
      "[1. 0. 0.] <-> [0.8906665  0.09797411 0.0113594 ]\n",
      "[0. 1. 0.] <-> [0.10088704 0.8976539  0.00145908]\n",
      "[1. 0. 0.] <-> [0.910272   0.05096669 0.0387613 ]\n",
      "[1. 0. 0.] <-> [0.9329314  0.02765111 0.03941742]\n",
      "[1. 0. 0.] <-> [0.9336715  0.03850282 0.02782565]\n",
      "[1. 0. 0.] <-> [0.95431095 0.01920236 0.02648666]\n",
      "[1. 0. 0.] <-> [0.91883993 0.01720657 0.06395358]\n",
      "[1. 0. 0.] <-> [0.9237301  0.01672702 0.05954288]\n",
      "[1. 0. 0.] <-> [0.9571263  0.02277279 0.02010088]\n",
      "[1. 0. 0.] <-> [0.93531036 0.04655388 0.01813574]\n",
      "{'accuracy': 0.9567901234567902, 'mean_square_error': 0.08894889821402245, 'categorical_crossentropy': 0.1836075782775879, 'essential_metrics': {0: {'tp_hit': 76, 'fp_hit': 7, 'tn_hit': 25, 'fn_hit': 0}, 1: {'tp_hit': 12, 'fp_hit': 0, 'tn_hit': 91, 'fn_hit': 5}, 2: {'tp_hit': 13, 'fp_hit': 0, 'tn_hit': 93, 'fn_hit': 2}}}\n"
     ]
    }
   ],
   "source": [
    "# recall phase\n",
    "score = model.evaluate(x_test, y_test, False)\n",
    "print(score)"
   ]
  },
  {
   "cell_type": "code",
   "execution_count": 11,
   "metadata": {},
   "outputs": [
    {
     "data": {
      "image/png": "[encoded data removed]",
      "text/plain": [
       "<Figure size 864x360 with 1 Axes>"
      ]
     },
     "metadata": {
      "needs_background": "light"
     },
     "output_type": "display_data"
    },
    {
     "data": {
      "image/png": "[encoded data removed]",
      "text/plain": [
       "<Figure size 864x360 with 1 Axes>"
      ]
     },
     "metadata": {
      "needs_background": "light"
     },
     "output_type": "display_data"
    }
   ],
   "source": [
    "draw_plot(x = [[i for i in range(len(history))], [(i+1)*breakpoint for i in range(len(checkpoints))]], y_list = [history, [ ckp[model.loss_fn] for ckp in checkpoints ]], x_label = 'Epochs', \\\n",
    "    y_label = model.loss_fn, legend=['train', 'test'])\n",
    "acc = [ ckp['accuracy'] for ckp in checkpoints ]\n",
    "draw_plot(x = [[(i+1)*breakpoint for i in range(len(checkpoints))]], y_list = [acc], x_label = 'Checkpoints', \\\n",
    "    y_label = 'accuracy')"
   ]
  },
  {
   "cell_type": "code",
   "execution_count": 12,
   "metadata": {},
   "outputs": [
    {
     "name": "stdout",
     "output_type": "stream",
     "text": [
      "{'accuracy': 0.9197530864197531, 'mean_square_error': 0.19190030607016167, 'categorical_crossentropy': 0.3794514338175456, 'essential_metrics': {0: {'tp_hit': 75, 'fp_hit': 12, 'tn_hit': 20, 'fn_hit': 1}, 1: {'tp_hit': 10, 'fp_hit': 0, 'tn_hit': 91, 'fn_hit': 7}, 2: {'tp_hit': 10, 'fp_hit': 1, 'tn_hit': 92, 'fn_hit': 5}}, 'checkpoint': 100} \n",
      "\n",
      "\n",
      "{'accuracy': 0.9691358024691358, 'mean_square_error': 0.0928218302341994, 'categorical_crossentropy': 0.20632475393789787, 'essential_metrics': {0: {'tp_hit': 76, 'fp_hit': 5, 'tn_hit': 27, 'fn_hit': 0}, 1: {'tp_hit': 14, 'fp_hit': 0, 'tn_hit': 91, 'fn_hit': 3}, 2: {'tp_hit': 13, 'fp_hit': 0, 'tn_hit': 93, 'fn_hit': 2}}, 'checkpoint': 200} \n",
      "\n",
      "\n",
      "{'accuracy': 0.9691358024691358, 'mean_square_error': 0.08193766168382906, 'categorical_crossentropy': 0.17809219713564273, 'essential_metrics': {0: {'tp_hit': 76, 'fp_hit': 5, 'tn_hit': 27, 'fn_hit': 0}, 1: {'tp_hit': 14, 'fp_hit': 0, 'tn_hit': 91, 'fn_hit': 3}, 2: {'tp_hit': 13, 'fp_hit': 0, 'tn_hit': 93, 'fn_hit': 2}}, 'checkpoint': 300} \n",
      "\n",
      "\n",
      "{'accuracy': 0.9629629629629629, 'mean_square_error': 0.08541421902064866, 'categorical_crossentropy': 0.18083890279134116, 'essential_metrics': {0: {'tp_hit': 76, 'fp_hit': 6, 'tn_hit': 26, 'fn_hit': 0}, 1: {'tp_hit': 13, 'fp_hit': 0, 'tn_hit': 91, 'fn_hit': 4}, 2: {'tp_hit': 13, 'fp_hit': 0, 'tn_hit': 93, 'fn_hit': 2}}, 'checkpoint': 400} \n",
      "\n",
      "\n",
      "{'accuracy': 0.9567901234567902, 'mean_square_error': 0.08894889821402245, 'categorical_crossentropy': 0.1836075782775879, 'essential_metrics': {0: {'tp_hit': 76, 'fp_hit': 7, 'tn_hit': 25, 'fn_hit': 0}, 1: {'tp_hit': 12, 'fp_hit': 0, 'tn_hit': 91, 'fn_hit': 5}, 2: {'tp_hit': 13, 'fp_hit': 0, 'tn_hit': 93, 'fn_hit': 2}}, 'checkpoint': 500} \n",
      "\n",
      "\n"
     ]
    }
   ],
   "source": [
    "for checkpoint in checkpoints:\n",
    "    print(checkpoint, '\\n\\n')"
   ]
  },
  {
   "cell_type": "code",
   "execution_count": 13,
   "metadata": {},
   "outputs": [
    {
     "name": "stdout",
     "output_type": "stream",
     "text": [
      "Layer 1\n",
      "Neuron 0: weights:\n",
      "[-0.19692346  1.2157441   0.0119217  -0.09268097 -0.7771984 ]\n",
      " bias: 1.0726042985916138\n",
      "\n",
      "Neuron 1: weights:\n",
      "[ 0.3885057  -1.3748454   0.07537987  0.14001523  0.76283044]\n",
      " bias: -1.0609955787658691\n",
      "\n",
      "Neuron 2: weights:\n",
      "[-0.38186857  1.188416    0.40792468 -0.03901568  0.05359361]\n",
      " bias: -0.040234047919511795\n",
      "\n",
      "Neuron 3: weights:\n",
      "[ 0.91790694 -1.5137961  -1.44754     0.04371052 -0.00313811]\n",
      " bias: 1.286033034324646\n",
      "\n",
      "$\n",
      "Layer 2\n",
      "Neuron 0: weights:\n",
      "[ 0.73163384 -1.2588539  -0.06622287  2.1837487 ]\n",
      " bias: -0.008491676300764084\n",
      "\n",
      "Neuron 1: weights:\n",
      "[-0.01015813 -0.09998962  3.         -3.        ]\n",
      " bias: -0.052959222346544266\n",
      "\n",
      "Neuron 2: weights:\n",
      "[-2.9120214   3.         -0.75916404  0.06278454]\n",
      " bias: 0.06021549180150032\n",
      "\n",
      "$\n",
      "\n"
     ]
    }
   ],
   "source": [
    "print(model)"
   ]
  }
 ],
 "metadata": {
  "kernelspec": {
   "display_name": "Python 3",
   "language": "python",
   "name": "python3"
  },
  "language_info": {
   "codemirror_mode": {
    "name": "ipython",
    "version": 3
   },
   "file_extension": ".py",
   "mimetype": "text/x-python",
   "name": "python",
   "nbconvert_exporter": "python",
   "pygments_lexer": "ipython3",
   "version": "3.6.10"
  }
 },
 "nbformat": 4,
 "nbformat_minor": 2
}
