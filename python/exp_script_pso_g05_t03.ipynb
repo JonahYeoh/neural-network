{
 "cells": [
  {
   "cell_type": "code",
   "execution_count": 1,
   "metadata": {},
   "outputs": [],
   "source": [
    "# dependency\n",
    "import numpy as np\n",
    "import pandas as pd\n",
    "import copy\n",
    "import math\n",
    "import sys\n",
    "import os\n",
    "from activations import relu, leaky_relu, sigmoid, tanh, softmax, d_sigmoid, d_relu\n",
    "from initializers import glorot_uniform, random_normal, random_uniform\n",
    "from regularizers import l1_regularizer, l2_regularizer\n",
    "from utility import trim_tail, multiply, subtract, get_nparams, one_hot_encoding, get_data\n",
    "from metrics import MSE, CCE, ACC, PRECISION, RECALL, essential_metrics, wondering_penalty, close_gap_penalty\n",
    "from pso import PSO\n",
    "from ga import GA\n",
    "from nn import Network\n",
    "from layer import DenseLayer\n",
    "from scalers import MinMaxScaler, StandardScaler"
   ]
  },
  {
   "cell_type": "code",
   "execution_count": 2,
   "metadata": {},
   "outputs": [],
   "source": [
    "# reference\n",
    "metrics_fn_dict = dict()\n",
    "metrics_fn_dict['accuracy'] = ACC\n",
    "metrics_fn_dict['categorical_crossentropy'] = CCE\n",
    "metrics_fn_dict['mean_square_error'] = MSE\n",
    "metrics_fn_dict['precision'] = PRECISION\n",
    "metrics_fn_dict['recall'] = RECALL\n",
    "metrics_fn_dict['essential_metrics'] = essential_metrics"
   ]
  },
  {
   "cell_type": "code",
   "execution_count": 3,
   "metadata": {},
   "outputs": [],
   "source": [
    "# model\n",
    "model = Network(5, lr = None)\n",
    "model.add_layer(DenseLayer(1, 4, True, afn=sigmoid, dafn=None, rfn=None))\n",
    "model.add_layer(DenseLayer(2, 3, True, afn=softmax, dafn=None, rfn=None))"
   ]
  },
  {
   "cell_type": "code",
   "execution_count": 4,
   "metadata": {},
   "outputs": [
    {
     "name": "stdout",
     "output_type": "stream",
     "text": [
      "see one see two 2 2\n"
     ]
    }
   ],
   "source": [
    "pso = PSO(dict(m = 50,\n",
    "    weight_constraint = [-3, 3], \n",
    "    velocity_constraint = [-0.1, 0.1],\n",
    "    c1 = 2,\n",
    "    c2 = 2,\n",
    "    w = 1,\n",
    "    w_decay = 1,\n",
    "    scale_hyperparameter = False,\n",
    "    regularizer = l1_regularizer,\n",
    "    mask = True))"
   ]
  },
  {
   "cell_type": "code",
   "execution_count": 5,
   "metadata": {},
   "outputs": [
    {
     "name": "stdout",
     "output_type": "stream",
     "text": [
      "building layer 1 with 5\n",
      "24\n",
      "building layer 2 with 4\n",
      "15\n"
     ]
    }
   ],
   "source": [
    "model.compile(loss_fn = 'categorical_crossentropy', optimizer = pso, \\\n",
    "    metrics = ['accuracy', 'mean_square_error', 'categorical_crossentropy'])"
   ]
  },
  {
   "cell_type": "code",
   "execution_count": 6,
   "metadata": {},
   "outputs": [
    {
     "name": "stdout",
     "output_type": "stream",
     "text": [
      "<class 'pandas.core.frame.DataFrame'>\n",
      "RangeIndex: 107 entries, 0 to 106\n",
      "Data columns (total 6 columns):\n",
      " #   Column  Non-Null Count  Dtype  \n",
      "---  ------  --------------  -----  \n",
      " 0   f1      107 non-null    float32\n",
      " 1   f2      107 non-null    float32\n",
      " 2   f3      107 non-null    float32\n",
      " 3   f4      107 non-null    float32\n",
      " 4   f5      107 non-null    float32\n",
      " 5   label   107 non-null    float32\n",
      "dtypes: float32(6)\n",
      "memory usage: 2.6 KB\n",
      "None\n",
      "<class 'pandas.core.frame.DataFrame'>\n",
      "RangeIndex: 108 entries, 0 to 107\n",
      "Data columns (total 6 columns):\n",
      " #   Column  Non-Null Count  Dtype  \n",
      "---  ------  --------------  -----  \n",
      " 0   f1      108 non-null    float32\n",
      " 1   f2      108 non-null    float32\n",
      " 2   f3      108 non-null    float32\n",
      " 3   f4      108 non-null    float32\n",
      " 4   f5      108 non-null    float32\n",
      " 5   label   108 non-null    float32\n",
      "dtypes: float32(6)\n",
      "memory usage: 2.7 KB\n",
      "None\n"
     ]
    }
   ],
   "source": [
    "# data loading\n",
    "DATA = os.path.join('c:\\\\Users\\\\tcumi\\\\github_repo\\\\neural-network\\\\', 'dataset')\n",
    "GROUP = 5\n",
    "COLUMNS = ['f1', 'f2', 'f3', 'f4', 'f5', 'label']\n",
    "N_CLASS = 3\n",
    "EPOCHS = 500\n",
    "train_dir, test_dir = \"..//dataset//training_data{}.txt\".format(GROUP), \"..//dataset//testing_data{}.txt\".format(GROUP)\n",
    "train, test = get_data(DATA, train_dir, COLUMNS), get_data(DATA, test_dir, COLUMNS)\n",
    "# shuffle\n",
    "train, test = train.sample(frac=1), test.sample(frac=1)\n",
    "x_train, y_train = train.drop('label', axis=1), train['label']\n",
    "x_test, y_test = test.drop('label', axis=1), test['label']"
   ]
  },
  {
   "cell_type": "code",
   "execution_count": 7,
   "metadata": {},
   "outputs": [],
   "source": [
    "# data scaling and encoding\n",
    "scaler = StandardScaler(['f1', 'f2', 'f3', 'f4', 'f5'])\n",
    "scaler.fit(x_train)\n",
    "x_train = scaler.transform(x_train)\n",
    "x_test = scaler.transform(x_test)\n",
    "y_train = one_hot_encoding(y_train, N_CLASS)\n",
    "y_test = one_hot_encoding(y_test, N_CLASS)"
   ]
  },
  {
   "cell_type": "code",
   "execution_count": 8,
   "metadata": {
    "tags": [
     "outputPrepend"
    ]
   },
   "outputs": [
    {
     "name": "stdout",
     "output_type": "stream",
     "text": [
      "Checkpoint 100, Accuracy: 0.9506172839506173, Loss: 0.26914683094731084\n",
      "Checkpoint 200, Accuracy: 0.9753086419753086, Loss: 0.14066021530716508\n",
      "Checkpoint 300, Accuracy: 0.9691358024691358, Loss: 0.1346589724222819\n",
      "Checkpoint 400, Accuracy: 0.9691358024691358, Loss: 0.13540607028537327\n",
      "Checkpoint 500, Accuracy: 0.9691358024691358, Loss: 0.1229610354812057\n"
     ]
    }
   ],
   "source": [
    "# learning phase\n",
    "breakpoint = 100\n",
    "checkpoints = list()\n",
    "history = list()\n",
    "for century in range(0, EPOCHS, breakpoint):\n",
    "    sub_history = model.fit(x_train, y_train, breakpoint, verbose = 0)\n",
    "    score = model.evaluate(x_test, y_test, False, verbose = 0)\n",
    "    print('Checkpoint {}, Accuracy: {}, Loss: {}'.format(century+breakpoint, score['accuracy'], score[model.loss_fn]))\n",
    "    score['checkpoint'] = century + breakpoint\n",
    "    checkpoints.append(score)\n",
    "    history.extend(sub_history)"
   ]
  },
  {
   "cell_type": "code",
   "execution_count": 9,
   "metadata": {},
   "outputs": [],
   "source": [
    "import matplotlib.pyplot as plt\n",
    "\n",
    "def draw_plot(x, y_list, x_label=None, y_label=None, legend=None, title=None):\n",
    "    fig, ax = plt.subplots(figsize=(12,5))\n",
    "    for xi, yi in zip(x, y_list):\n",
    "        ax.plot(xi, yi)\n",
    "    if x_label is not None and y_label is not None:\n",
    "        ax.set(xlabel=x_label, ylabel=y_label, title='{} VS {}'.format(x_label, y_label))\n",
    "    if legend is not None:\n",
    "        ax.legend(legend)\n",
    "    ax.grid()\n",
    "    plt.show()"
   ]
  },
  {
   "cell_type": "code",
   "execution_count": 10,
   "metadata": {},
   "outputs": [
    {
     "name": "stdout",
     "output_type": "stream",
     "text": [
      "[0. 1. 0.] <-> [0.40381178 0.5905976  0.00559061]\n",
      "[1. 0. 0.] <-> [0.93298924 0.01306836 0.05394239]\n",
      "[1. 0. 0.] <-> [0.976542   0.01484371 0.00861431]\n",
      "[0. 1. 0.] <-> [5.110823e-02 9.482163e-01 6.754987e-04]\n",
      "[1. 0. 0.] <-> [0.9677233  0.01196257 0.02031416]\n",
      "[1. 0. 0.] <-> [0.9736215  0.01422273 0.01215586]\n",
      "[0. 0. 1.] <-> [0.0464914  0.00263853 0.95087004]\n",
      "[1. 0. 0.] <-> [0.62745625 0.01776057 0.3547832 ]\n",
      "[1. 0. 0.] <-> [0.9739179  0.01964988 0.00643212]\n",
      "[1. 0. 0.] <-> [0.96559995 0.01701286 0.0173872 ]\n",
      "[0. 0. 1.] <-> [0.10627854 0.00593002 0.8877914 ]\n",
      "[0. 1. 0.] <-> [4.9659308e-02 9.4971031e-01 6.3041318e-04]\n",
      "[0. 1. 0.] <-> [0.35083413 0.6457255  0.00344039]\n",
      "[1. 0. 0.] <-> [0.9115187  0.01584113 0.0726402 ]\n",
      "[0. 1. 0.] <-> [0.20632908 0.79075384 0.00291706]\n",
      "[0. 1. 0.] <-> [4.8366014e-02 9.5106453e-01 5.6947902e-04]\n",
      "[1. 0. 0.] <-> [0.9297208  0.0164856  0.05379358]\n",
      "[1. 0. 0.] <-> [0.96627754 0.01499132 0.01873117]\n",
      "[1. 0. 0.] <-> [0.96666646 0.02974603 0.00358748]\n",
      "[1. 0. 0.] <-> [0.95330787 0.01570182 0.03099027]\n",
      "[0. 1. 0.] <-> [6.2173903e-02 9.3693316e-01 8.9292222e-04]\n",
      "[1. 0. 0.] <-> [0.9692657  0.02560674 0.00512761]\n",
      "[1. 0. 0.] <-> [0.9589404  0.02005112 0.02100856]\n",
      "[1. 0. 0.] <-> [0.9232418  0.01336125 0.06339701]\n",
      "[1. 0. 0.] <-> [0.7476212  0.0172692  0.23510967]\n",
      "[1. 0. 0.] <-> [0.96241343 0.03048673 0.00709988]\n",
      "[1. 0. 0.] <-> [0.84071696 0.01630144 0.1429817 ]\n",
      "[1. 0. 0.] <-> [0.95150554 0.04306524 0.00542919]\n",
      "[1. 0. 0.] <-> [0.9744976  0.01964707 0.00585525]\n",
      "[1. 0. 0.] <-> [0.9725706  0.01547456 0.01195488]\n",
      "[1. 0. 0.] <-> [0.9697197  0.0121481  0.01813219]\n",
      "[1. 0. 0.] <-> [0.97210455 0.02187587 0.00601963]\n",
      "[1. 0. 0.] <-> [0.95520115 0.0146395  0.03015934]\n",
      "[0. 0. 1.] <-> [0.26377118 0.01135903 0.7248698 ]\n",
      "[0. 0. 1.] <-> [0.14220627 0.00837382 0.84941995]\n",
      "[1. 0. 0.] <-> [0.972422   0.01277691 0.01480106]\n",
      "[0. 1. 0.] <-> [4.8932303e-02 9.5048457e-01 5.8312196e-04]\n",
      "[1. 0. 0.] <-> [0.9703976  0.02635891 0.00324348]\n",
      "[1. 0. 0.] <-> [0.956009   0.01416791 0.02982309]\n",
      "[0. 0. 1.] <-> [0.04892363 0.00280621 0.94827014]\n",
      "[1. 0. 0.] <-> [0.9715342  0.01849594 0.00996988]\n",
      "[1. 0. 0.] <-> [0.9709309  0.01346203 0.01560699]\n",
      "[1. 0. 0.] <-> [0.9764361  0.01557152 0.00799233]\n",
      "[1. 0. 0.] <-> [0.9520895  0.02860907 0.01930145]\n",
      "[1. 0. 0.] <-> [0.92092025 0.01763218 0.06144766]\n",
      "[1. 0. 0.] <-> [0.9745749  0.01435902 0.01106599]\n",
      "[1. 0. 0.] <-> [0.9671853  0.01177606 0.02103865]\n",
      "[0. 0. 1.] <-> [0.04904986 0.002798   0.9481521 ]\n",
      "[1. 0. 0.] <-> [0.92704904 0.01511467 0.05783639]\n",
      "[0. 1. 0.] <-> [0.12526436 0.8721299  0.00260569]\n",
      "[1. 0. 0.] <-> [0.91842467 0.07827628 0.00329913]\n",
      "[1. 0. 0.] <-> [0.87836456 0.01655772 0.10507776]\n",
      "[1. 0. 0.] <-> [0.9744957  0.01808671 0.00741767]\n",
      "[0. 0. 1.] <-> [0.07622527 0.00451111 0.91926366]\n",
      "[1. 0. 0.] <-> [0.9776759  0.0152247  0.00709937]\n",
      "[0. 1. 0.] <-> [0.06639256 0.9323492  0.00125829]\n",
      "[1. 0. 0.] <-> [0.96992    0.01459111 0.01548892]\n",
      "[1. 0. 0.] <-> [0.90685093 0.01489861 0.0782504 ]\n",
      "[1. 0. 0.] <-> [0.9738246  0.02066154 0.00551384]\n",
      "[1. 0. 0.] <-> [0.9753135  0.0154     0.00928651]\n",
      "[1. 0. 0.] <-> [0.96257377 0.02781377 0.0096124 ]\n",
      "[1. 0. 0.] <-> [0.9725041  0.02152502 0.00597095]\n",
      "[0. 0. 1.] <-> [0.753348   0.01771591 0.22893612]\n",
      "[1. 0. 0.] <-> [0.97607464 0.01891166 0.00501367]\n",
      "[0. 0. 1.] <-> [0.7014712  0.01786654 0.28066218]\n",
      "[0. 1. 0.] <-> [0.6150021  0.3814997  0.00349817]\n",
      "[1. 0. 0.] <-> [0.9756452  0.01833074 0.00602409]\n",
      "[1. 0. 0.] <-> [0.9707354  0.01371683 0.01554781]\n",
      "[0. 1. 0.] <-> [5.3499263e-02 9.4579780e-01 7.0301001e-04]\n",
      "[0. 0. 1.] <-> [0.08968709 0.00520742 0.9051055 ]\n",
      "[1. 0. 0.] <-> [0.95708936 0.03537462 0.00753604]\n",
      "[0. 0. 1.] <-> [0.05794041 0.00345383 0.9386058 ]\n",
      "[1. 0. 0.] <-> [0.86865777 0.12282569 0.00851651]\n",
      "[1. 0. 0.] <-> [0.97604805 0.01919314 0.00475877]\n",
      "[1. 0. 0.] <-> [0.9059094  0.01405043 0.08004021]\n",
      "[0. 1. 0.] <-> [4.9109235e-02 9.5029712e-01 5.9359928e-04]\n",
      "[0. 1. 0.] <-> [0.6739058  0.31886035 0.00723381]\n",
      "[0. 0. 1.] <-> [0.07190965 0.00434203 0.92374825]\n",
      "[1. 0. 0.] <-> [0.96725523 0.01430959 0.01843525]\n",
      "[1. 0. 0.] <-> [0.96938926 0.0213211  0.00928966]\n",
      "[1. 0. 0.] <-> [0.95758486 0.03778623 0.0046289 ]\n",
      "[1. 0. 0.] <-> [0.9722687  0.02082311 0.00690817]\n",
      "[0. 1. 0.] <-> [0.5698235  0.42590266 0.00427384]\n",
      "[1. 0. 0.] <-> [0.92329574 0.01380247 0.06290181]\n",
      "[1. 0. 0.] <-> [0.97574097 0.01249267 0.01176636]\n",
      "[1. 0. 0.] <-> [0.97541875 0.01131821 0.01326305]\n",
      "[1. 0. 0.] <-> [0.9647746  0.02128696 0.01393842]\n",
      "[1. 0. 0.] <-> [0.9748678  0.01407706 0.01105511]\n",
      "[1. 0. 0.] <-> [0.9356884  0.01572338 0.04858822]\n",
      "[1. 0. 0.] <-> [0.9611094  0.03356513 0.00532551]\n",
      "[1. 0. 0.] <-> [0.8682245  0.1263101  0.00546547]\n",
      "[1. 0. 0.] <-> [0.9719107  0.01791516 0.01017414]\n",
      "[1. 0. 0.] <-> [0.92195517 0.01378911 0.06425574]\n",
      "[0. 0. 1.] <-> [0.05144799 0.0029972  0.94555485]\n",
      "[1. 0. 0.] <-> [0.97260994 0.01928457 0.00810549]\n",
      "[1. 0. 0.] <-> [0.9644619  0.01666857 0.01886961]\n",
      "[1. 0. 0.] <-> [0.9692039  0.02556613 0.00522994]\n",
      "[1. 0. 0.] <-> [0.92702615 0.01501757 0.05795624]\n",
      "[1. 0. 0.] <-> [0.8744238  0.01457689 0.11099937]\n",
      "[0. 1. 0.] <-> [4.927207e-02 9.501291e-01 5.988164e-04]\n",
      "[1. 0. 0.] <-> [0.97339547 0.01735982 0.00924473]\n",
      "[1. 0. 0.] <-> [0.93979126 0.0544958  0.00571296]\n",
      "[0. 0. 1.] <-> [0.04439848 0.00246993 0.95313156]\n",
      "[1. 0. 0.] <-> [0.9515037  0.0152011  0.03329518]\n",
      "[0. 1. 0.] <-> [0.1424066  0.8556172  0.00197623]\n",
      "[0. 0. 1.] <-> [0.04410997 0.0024233  0.9534667 ]\n",
      "[1. 0. 0.] <-> [0.9789202  0.01463988 0.00643989]\n",
      "[1. 0. 0.] <-> [0.9762441  0.01845345 0.00530243]\n",
      "{'accuracy': 0.9691358024691358, 'mean_square_error': 0.05898937411993011, 'categorical_crossentropy': 0.1229610354812057, 'essential_metrics': {0: {'tp_hit': 76, 'fp_hit': 5, 'tn_hit': 27, 'fn_hit': 0}, 1: {'tp_hit': 14, 'fp_hit': 0, 'tn_hit': 91, 'fn_hit': 3}, 2: {'tp_hit': 13, 'fp_hit': 0, 'tn_hit': 93, 'fn_hit': 2}}}\n"
     ]
    }
   ],
   "source": [
    "# recall phase\n",
    "score = model.evaluate(x_test, y_test, False)\n",
    "print(score)"
   ]
  },
  {
   "cell_type": "code",
   "execution_count": 11,
   "metadata": {},
   "outputs": [
    {
     "data": {
      "image/png": "[encoded data removed]",
      "text/plain": [
       "<Figure size 864x360 with 1 Axes>"
      ]
     },
     "metadata": {
      "needs_background": "light"
     },
     "output_type": "display_data"
    },
    {
     "data": {
      "image/png": "[encoded data removed]",
      "text/plain": [
       "<Figure size 864x360 with 1 Axes>"
      ]
     },
     "metadata": {
      "needs_background": "light"
     },
     "output_type": "display_data"
    }
   ],
   "source": [
    "draw_plot(x = [[i for i in range(len(history))], [(i+1)*breakpoint for i in range(len(checkpoints))]], y_list = [history, [ ckp[model.loss_fn] for ckp in checkpoints ]], x_label = 'Epochs', \\\n",
    "    y_label = model.loss_fn, legend=['train', 'test'])\n",
    "acc = [ ckp['accuracy'] for ckp in checkpoints ]\n",
    "draw_plot(x = [[(i+1)*breakpoint for i in range(len(checkpoints))]], y_list = [acc], x_label = 'Checkpoints', \\\n",
    "    y_label = 'accuracy')"
   ]
  },
  {
   "cell_type": "code",
   "execution_count": 12,
   "metadata": {},
   "outputs": [
    {
     "name": "stdout",
     "output_type": "stream",
     "text": [
      "{'accuracy': 0.9506172839506173, 'mean_square_error': 0.13433967228577504, 'categorical_crossentropy': 0.26914683094731084, 'essential_metrics': {0: {'tp_hit': 76, 'fp_hit': 8, 'tn_hit': 24, 'fn_hit': 0}, 1: {'tp_hit': 12, 'fp_hit': 0, 'tn_hit': 91, 'fn_hit': 5}, 2: {'tp_hit': 12, 'fp_hit': 0, 'tn_hit': 93, 'fn_hit': 3}}, 'checkpoint': 100} \n",
      "\n",
      "\n",
      "{'accuracy': 0.9753086419753086, 'mean_square_error': 0.06782363567458237, 'categorical_crossentropy': 0.14066021530716508, 'essential_metrics': {0: {'tp_hit': 76, 'fp_hit': 4, 'tn_hit': 28, 'fn_hit': 0}, 1: {'tp_hit': 15, 'fp_hit': 0, 'tn_hit': 91, 'fn_hit': 2}, 2: {'tp_hit': 13, 'fp_hit': 0, 'tn_hit': 93, 'fn_hit': 2}}, 'checkpoint': 200} \n",
      "\n",
      "\n",
      "{'accuracy': 0.9691358024691358, 'mean_square_error': 0.06451845888924872, 'categorical_crossentropy': 0.1346589724222819, 'essential_metrics': {0: {'tp_hit': 76, 'fp_hit': 5, 'tn_hit': 27, 'fn_hit': 0}, 1: {'tp_hit': 14, 'fp_hit': 0, 'tn_hit': 91, 'fn_hit': 3}, 2: {'tp_hit': 13, 'fp_hit': 0, 'tn_hit': 93, 'fn_hit': 2}}, 'checkpoint': 300} \n",
      "\n",
      "\n",
      "{'accuracy': 0.9691358024691358, 'mean_square_error': 0.06490901760239762, 'categorical_crossentropy': 0.13540607028537327, 'essential_metrics': {0: {'tp_hit': 76, 'fp_hit': 5, 'tn_hit': 27, 'fn_hit': 0}, 1: {'tp_hit': 14, 'fp_hit': 0, 'tn_hit': 91, 'fn_hit': 3}, 2: {'tp_hit': 13, 'fp_hit': 0, 'tn_hit': 93, 'fn_hit': 2}}, 'checkpoint': 400} \n",
      "\n",
      "\n",
      "{'accuracy': 0.9691358024691358, 'mean_square_error': 0.05898937411993011, 'categorical_crossentropy': 0.1229610354812057, 'essential_metrics': {0: {'tp_hit': 76, 'fp_hit': 5, 'tn_hit': 27, 'fn_hit': 0}, 1: {'tp_hit': 14, 'fp_hit': 0, 'tn_hit': 91, 'fn_hit': 3}, 2: {'tp_hit': 13, 'fp_hit': 0, 'tn_hit': 93, 'fn_hit': 2}}, 'checkpoint': 500} \n",
      "\n",
      "\n"
     ]
    }
   ],
   "source": [
    "for checkpoint in checkpoints:\n",
    "    print(checkpoint, '\\n\\n')"
   ]
  },
  {
   "cell_type": "code",
   "execution_count": 13,
   "metadata": {},
   "outputs": [
    {
     "name": "stdout",
     "output_type": "stream",
     "text": [
      "Layer 1\n",
      "Neuron 0: weights:\n",
      "[ 1.4544699e+00 -2.5423713e+00 -2.0019505e+00 -9.0326006e-03\n",
      " -2.2026729e-03]\n",
      " bias: 2.3113420009613037\n",
      "\n",
      "Neuron 1: weights:\n",
      "[ 0.4308064  -2.23074    -0.30304024  0.30938086  1.0939549 ]\n",
      " bias: -2.4341063499450684\n",
      "\n",
      "Neuron 2: weights:\n",
      "[-0.25350046  0.8010259   0.76371455 -0.06642128 -0.40887624]\n",
      " bias: -0.05343334376811981\n",
      "\n",
      "Neuron 3: weights:\n",
      "[-0.19452518  1.0351266   0.09824841  0.02748688 -0.6360036 ]\n",
      " bias: 0.1747550368309021\n",
      "\n",
      "$\n",
      "Layer 2\n",
      "Neuron 0: weights:\n",
      "[ 3.         -3.         -0.15345305  0.1702041 ]\n",
      " bias: -0.020614223554730415\n",
      "\n",
      "Neuron 1: weights:\n",
      "[-3.          0.08053972  1.953503    1.0639694 ]\n",
      " bias: -0.02734495885670185\n",
      "\n",
      "Neuron 2: weights:\n",
      "[ 0.10119464  3.         -1.4466418  -3.        ]\n",
      " bias: -0.027291227132081985\n",
      "\n",
      "$\n",
      "\n"
     ]
    }
   ],
   "source": [
    "print(model)"
   ]
  }
 ],
 "metadata": {
  "kernelspec": {
   "display_name": "Python 3",
   "language": "python",
   "name": "python3"
  },
  "language_info": {
   "codemirror_mode": {
    "name": "ipython",
    "version": 3
   },
   "file_extension": ".py",
   "mimetype": "text/x-python",
   "name": "python",
   "nbconvert_exporter": "python",
   "pygments_lexer": "ipython3",
   "version": "3.6.10"
  }
 },
 "nbformat": 4,
 "nbformat_minor": 2
}
