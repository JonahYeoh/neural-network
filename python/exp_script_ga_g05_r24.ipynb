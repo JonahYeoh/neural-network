{
 "cells": [
  {
   "cell_type": "code",
   "execution_count": 1,
   "metadata": {},
   "outputs": [],
   "source": [
    "# two"
   ]
  },
  {
   "cell_type": "code",
   "execution_count": 2,
   "metadata": {},
   "outputs": [],
   "source": [
    "# dependency\n",
    "import numpy as np\n",
    "import pandas as pd\n",
    "import copy\n",
    "import math\n",
    "import sys\n",
    "import os\n",
    "from activations import relu, leaky_relu, sigmoid, tanh, softmax, d_sigmoid, d_relu\n",
    "from initializers import glorot_uniform, random_normal, random_uniform\n",
    "from regularizers import l1_regularizer, l2_regularizer\n",
    "from utility import trim_tail, multiply, subtract, get_nparams, one_hot_encoding, get_data\n",
    "from metrics import MSE, CCE, ACC, PRECISION, RECALL, essential_metrics, wondering_penalty, close_gap_penalty\n",
    "from pso import PSO\n",
    "from ga import GA\n",
    "from nn import Network\n",
    "from layer import DenseLayer\n",
    "from scalers import MinMaxScaler, StandardScaler"
   ]
  },
  {
   "cell_type": "code",
   "execution_count": 3,
   "metadata": {},
   "outputs": [],
   "source": [
    "# reference\n",
    "metrics_fn_dict = dict()\n",
    "metrics_fn_dict['accuracy'] = ACC\n",
    "metrics_fn_dict['categorical_crossentropy'] = CCE\n",
    "metrics_fn_dict['mean_square_error'] = MSE\n",
    "metrics_fn_dict['precision'] = PRECISION\n",
    "metrics_fn_dict['recall'] = RECALL\n",
    "metrics_fn_dict['essential_metrics'] = essential_metrics"
   ]
  },
  {
   "cell_type": "code",
   "execution_count": 4,
   "metadata": {},
   "outputs": [],
   "source": [
    "# model\n",
    "model = Network(5, lr = None)\n",
    "model.add_layer(DenseLayer(1, 4, True, afn=sigmoid, dafn=None, rfn=None))\n",
    "model.add_layer(DenseLayer(2, 3, True, afn=softmax, dafn=None, rfn=None))"
   ]
  },
  {
   "cell_type": "code",
   "execution_count": 5,
   "metadata": {},
   "outputs": [],
   "source": [
    "# optimizer\n",
    "ga = GA(\n",
    "    dict(\n",
    "        m = 50,\n",
    "        x_rate = 0.5,\n",
    "        m_rate = 0.5,\n",
    "        weight_constraint = [-3.,3.],\n",
    "        radioactive_rating = 0.1,\n",
    "        grow_factor = 0.1,\n",
    "        scale_hyperparameter = False,\n",
    "        regularizer = None))"
   ]
  },
  {
   "cell_type": "code",
   "execution_count": 6,
   "metadata": {},
   "outputs": [
    {
     "name": "stdout",
     "output_type": "stream",
     "text": [
      "building layer 1 with 5\n",
      "24\n",
      "building layer 2 with 4\n",
      "15\n"
     ]
    }
   ],
   "source": [
    "model.compile(loss_fn = 'categorical_crossentropy', optimizer = ga, \\\n",
    "    metrics = ['accuracy', 'mean_square_error', 'categorical_crossentropy', 'precision', 'recall', 'f1'])"
   ]
  },
  {
   "cell_type": "code",
   "execution_count": 7,
   "metadata": {},
   "outputs": [
    {
     "name": "stdout",
     "output_type": "stream",
     "text": [
      "<class 'pandas.core.frame.DataFrame'>\n",
      "RangeIndex: 107 entries, 0 to 106\n",
      "Data columns (total 6 columns):\n",
      " #   Column  Non-Null Count  Dtype  \n",
      "---  ------  --------------  -----  \n",
      " 0   f1      107 non-null    float32\n",
      " 1   f2      107 non-null    float32\n",
      " 2   f3      107 non-null    float32\n",
      " 3   f4      107 non-null    float32\n",
      " 4   f5      107 non-null    float32\n",
      " 5   label   107 non-null    float32\n",
      "dtypes: float32(6)\n",
      "memory usage: 2.6 KB\n",
      "None\n",
      "<class 'pandas.core.frame.DataFrame'>\n",
      "RangeIndex: 108 entries, 0 to 107\n",
      "Data columns (total 6 columns):\n",
      " #   Column  Non-Null Count  Dtype  \n",
      "---  ------  --------------  -----  \n",
      " 0   f1      108 non-null    float32\n",
      " 1   f2      108 non-null    float32\n",
      " 2   f3      108 non-null    float32\n",
      " 3   f4      108 non-null    float32\n",
      " 4   f5      108 non-null    float32\n",
      " 5   label   108 non-null    float32\n",
      "dtypes: float32(6)\n",
      "memory usage: 2.7 KB\n",
      "None\n"
     ]
    }
   ],
   "source": [
    "# data loading\n",
    "DATA = os.path.join('c:\\\\Users\\\\AI-lab\\\\github_repo\\\\neural-network\\\\', 'dataset')\n",
    "GROUP = 5\n",
    "COLUMNS = ['f1', 'f2', 'f3', 'f4', 'f5', 'label']\n",
    "N_CLASS = 3\n",
    "EPOCHS = 1000\n",
    "train_dir, test_dir = \"..//dataset//training_data{}.txt\".format(GROUP), \"..//dataset//testing_data{}.txt\".format(GROUP)\n",
    "train, test = get_data(DATA, train_dir, COLUMNS), get_data(DATA, test_dir, COLUMNS)\n",
    "# shuffle\n",
    "train, test = train.sample(frac=1), test.sample(frac=1)\n",
    "x_train, y_train = train.drop('label', axis=1), train['label']\n",
    "x_test, y_test = test.drop('label', axis=1), test['label']"
   ]
  },
  {
   "cell_type": "code",
   "execution_count": 8,
   "metadata": {},
   "outputs": [],
   "source": [
    "# data scaling and encoding\n",
    "scaler = StandardScaler(['f1', 'f2', 'f3', 'f4', 'f5'])\n",
    "scaler.fit(x_train)\n",
    "x_train = scaler.transform(x_train)\n",
    "x_test = scaler.transform(x_test)\n",
    "y_train = one_hot_encoding(y_train, N_CLASS)\n",
    "y_test = one_hot_encoding(y_test, N_CLASS)"
   ]
  },
  {
   "cell_type": "code",
   "execution_count": 9,
   "metadata": {
    "scrolled": true,
    "tags": [
     "outputPrepend"
    ]
   },
   "outputs": [
    {
     "name": "stderr",
     "output_type": "stream",
     "text": [
      "C:\\Users\\AI-lab\\github_repo\\neural-network\\python\\ga.py:203: RuntimeWarning: overflow encountered in add\n",
      "  self.population.sort(key=lambda p: p.fitness + np.random.uniform(-shift, shift, 1), reverse = self.aim)\n"
     ]
    },
    {
     "name": "stdout",
     "output_type": "stream",
     "text": [
      "Checkpoint 100, Accuracy: 0.9629629629629629, Loss: 0.37705170666729965\n",
      "Checkpoint 200, Accuracy: 0.9506172839506173, Loss: 0.3291926560578523\n",
      "Checkpoint 300, Accuracy: 0.9506172839506173, Loss: 0.29736384639033564\n",
      "Checkpoint 400, Accuracy: 0.9506172839506173, Loss: 0.2744091175220631\n",
      "Checkpoint 500, Accuracy: 0.9629629629629629, Loss: 0.24728420045640734\n",
      "Checkpoint 600, Accuracy: 0.9567901234567902, Loss: 0.22844358726784034\n",
      "Checkpoint 700, Accuracy: 0.9567901234567902, Loss: 0.21055218025490088\n",
      "Checkpoint 800, Accuracy: 0.9629629629629629, Loss: 0.19782089304040978\n",
      "Checkpoint 900, Accuracy: 0.9567901234567902, Loss: 0.1875857777065701\n",
      "Checkpoint 1000, Accuracy: 0.9629629629629629, Loss: 0.17210190384476273\n"
     ]
    }
   ],
   "source": [
    "# learning phase\n",
    "breakpoint = 100\n",
    "checkpoints = list()\n",
    "history = list()\n",
    "for century in range(0, EPOCHS, breakpoint):\n",
    "    sub_history = model.fit(x_train, y_train, breakpoint, verbose = 0)\n",
    "    score = model.evaluate(x_test, y_test, False, verbose = 0)\n",
    "    print('Checkpoint {}, Accuracy: {}, Loss: {}'.format(century+breakpoint, score['accuracy'], score[model.loss_fn]))\n",
    "    score['checkpoint'] = century + breakpoint\n",
    "    checkpoints.append(score)\n",
    "    history.extend(sub_history)\n",
    "    "
   ]
  },
  {
   "cell_type": "code",
   "execution_count": 10,
   "metadata": {},
   "outputs": [],
   "source": [
    "train_acc = [ h['accuracy'] for h in history]\n",
    "train_mse = [h['mean_square_error'] for h in history]\n",
    "train_cce = [h['categorical_crossentropy'] for h in history]"
   ]
  },
  {
   "cell_type": "code",
   "execution_count": 11,
   "metadata": {},
   "outputs": [],
   "source": [
    "import matplotlib.pyplot as plt\n",
    "\n",
    "def draw_plot(x, y_list, x_label=None, y_label=None, legend=None, title=None):\n",
    "    fig, ax = plt.subplots(figsize=(12,5))\n",
    "    for xi, yi in zip(x, y_list):\n",
    "        ax.plot(xi, yi)\n",
    "    if x_label is not None and y_label is not None:\n",
    "        ax.set(xlabel=x_label, ylabel=y_label, title='{} VS {}'.format(x_label, y_label))\n",
    "    if legend is not None:\n",
    "        ax.legend(legend)\n",
    "    ax.grid()\n",
    "    plt.show()"
   ]
  },
  {
   "cell_type": "code",
   "execution_count": 12,
   "metadata": {},
   "outputs": [
    {
     "name": "stdout",
     "output_type": "stream",
     "text": [
      "[1. 0. 0.] <-> [0.95330334 0.02628225 0.02041439]\n",
      "[1. 0. 0.] <-> [0.95846826 0.02770802 0.01382378]\n",
      "[1. 0. 0.] <-> [0.9401158  0.01316053 0.04672362]\n",
      "[1. 0. 0.] <-> [0.9555382  0.01339143 0.03107027]\n",
      "[0. 0. 1.] <-> [0.00366003 0.03608252 0.9602574 ]\n",
      "[1. 0. 0.] <-> [0.97676337 0.01197645 0.01126019]\n",
      "[1. 0. 0.] <-> [0.9574196  0.01275408 0.02982637]\n",
      "[1. 0. 0.] <-> [0.97446895 0.01329979 0.01223123]\n",
      "[1. 0. 0.] <-> [0.9751463  0.01415661 0.0106971 ]\n",
      "[1. 0. 0.] <-> [0.9356256  0.03899163 0.0253827 ]\n",
      "[0. 1. 0.] <-> [0.06233305 0.92929393 0.00837302]\n",
      "[1. 0. 0.] <-> [0.94016254 0.01126888 0.04856858]\n",
      "[1. 0. 0.] <-> [0.9700828  0.0205159  0.00940129]\n",
      "[0. 1. 0.] <-> [0.06249785 0.929113   0.00838925]\n",
      "[1. 0. 0.] <-> [0.89635336 0.00936681 0.09427984]\n",
      "[1. 0. 0.] <-> [0.9532703  0.03429687 0.01243285]\n",
      "[1. 0. 0.] <-> [0.64551693 0.01574616 0.33873692]\n",
      "[1. 0. 0.] <-> [0.97395575 0.01367438 0.01236989]\n",
      "[1. 0. 0.] <-> [0.9670255  0.01399281 0.01898165]\n",
      "[1. 0. 0.] <-> [0.9705959  0.01437491 0.01502913]\n",
      "[1. 0. 0.] <-> [0.93522155 0.05284765 0.01193084]\n",
      "[1. 0. 0.] <-> [0.8493684  0.1383504  0.01228128]\n",
      "[1. 0. 0.] <-> [0.96816784 0.02084753 0.01098458]\n",
      "[0. 0. 1.] <-> [0.05154284 0.00821488 0.94024223]\n",
      "[0. 0. 1.] <-> [0.06866494 0.00702117 0.9243139 ]\n",
      "[1. 0. 0.] <-> [0.97231907 0.01206444 0.01561653]\n",
      "[1. 0. 0.] <-> [0.97444624 0.0174203  0.00813347]\n",
      "[0. 1. 0.] <-> [0.06510864 0.92621565 0.0086757 ]\n",
      "[1. 0. 0.] <-> [0.9599037  0.02023633 0.01985992]\n",
      "[0. 1. 0.] <-> [0.8387651  0.14778794 0.013447  ]\n",
      "[1. 0. 0.] <-> [0.967261   0.02229948 0.01043949]\n",
      "[1. 0. 0.] <-> [0.8345687  0.01374399 0.1516873 ]\n",
      "[0. 1. 0.] <-> [0.06226199 0.92937714 0.00836094]\n",
      "[1. 0. 0.] <-> [0.9604474  0.02716889 0.01238371]\n",
      "[1. 0. 0.] <-> [0.89004797 0.0164759  0.09347606]\n",
      "[1. 0. 0.] <-> [0.9621336  0.01632606 0.02154037]\n",
      "[0. 1. 0.] <-> [0.12204716 0.86370397 0.01424881]\n",
      "[0. 1. 0.] <-> [0.6172088 0.3668682 0.015923 ]\n",
      "[1. 0. 0.] <-> [0.96854746 0.01658428 0.01486828]\n",
      "[1. 0. 0.] <-> [0.87071013 0.09219016 0.03709964]\n",
      "[1. 0. 0.] <-> [0.9704707  0.00923362 0.02029571]\n",
      "[0. 1. 0.] <-> [0.17216186 0.81289876 0.01493938]\n",
      "[0. 1. 0.] <-> [0.24978507 0.730858   0.01935693]\n",
      "[1. 0. 0.] <-> [0.9730142  0.01372552 0.01326038]\n",
      "[1. 0. 0.] <-> [0.9128725  0.00989391 0.07723356]\n",
      "[1. 0. 0.] <-> [0.9361786  0.04473579 0.01908558]\n",
      "[1. 0. 0.] <-> [0.91625506 0.06505372 0.01869119]\n",
      "[1. 0. 0.] <-> [0.9675799  0.02168742 0.01073266]\n",
      "[1. 0. 0.] <-> [0.9274076  0.02336542 0.04922702]\n",
      "[1. 0. 0.] <-> [0.9595393  0.02841651 0.01204424]\n",
      "[1. 0. 0.] <-> [0.9656803  0.02164759 0.01267213]\n",
      "[1. 0. 0.] <-> [0.9109058  0.01231157 0.07678262]\n",
      "[1. 0. 0.] <-> [0.96952707 0.0170973  0.01337573]\n",
      "[1. 0. 0.] <-> [0.9477392  0.01452637 0.03773437]\n",
      "[1. 0. 0.] <-> [0.9604828  0.01866916 0.02084797]\n",
      "[0. 0. 1.] <-> [0.3218037  0.08015327 0.598043  ]\n",
      "[1. 0. 0.] <-> [0.34068996 0.07181325 0.5874968 ]\n",
      "[1. 0. 0.] <-> [0.8434314  0.1219859  0.03458275]\n",
      "[0. 1. 0.] <-> [0.06224586 0.92939514 0.008359  ]\n",
      "[1. 0. 0.] <-> [0.97604865 0.01378056 0.01017086]\n",
      "[0. 0. 1.] <-> [0.07036573 0.00707395 0.9225603 ]\n",
      "[1. 0. 0.] <-> [0.9771333  0.01442213 0.00844456]\n",
      "[1. 0. 0.] <-> [0.92541957 0.02169661 0.05288382]\n",
      "[1. 0. 0.] <-> [0.90052    0.01351051 0.08596947]\n",
      "[0. 1. 0.] <-> [0.6193036  0.35502493 0.02567139]\n",
      "[0. 1. 0.] <-> [0.07418433 0.9160804  0.00973526]\n",
      "[1. 0. 0.] <-> [0.7154389  0.01901794 0.26554307]\n",
      "[1. 0. 0.] <-> [0.97522134 0.01003782 0.01474082]\n",
      "[1. 0. 0.] <-> [0.9498673  0.01458507 0.03554763]\n",
      "[1. 0. 0.] <-> [0.9667459  0.02122507 0.01202905]\n",
      "[1. 0. 0.] <-> [0.9738299  0.01437421 0.01179584]\n",
      "[0. 0. 1.] <-> [0.8480194  0.0243524  0.12762824]\n",
      "[1. 0. 0.] <-> [0.8567415  0.02208571 0.12117272]\n",
      "[0. 0. 1.] <-> [0.00432527 0.03585697 0.9598178 ]\n",
      "[1. 0. 0.] <-> [0.9079965  0.01111833 0.08088515]\n",
      "[0. 0. 1.] <-> [0.8840254  0.01758635 0.09838824]\n",
      "[0. 0. 1.] <-> [0.06627115 0.00701037 0.9267184 ]\n",
      "[0. 0. 1.] <-> [0.07229985 0.0071866  0.9205136 ]\n",
      "[1. 0. 0.] <-> [0.97204846 0.01596951 0.01198208]\n",
      "[1. 0. 0.] <-> [0.8787557  0.10375876 0.01748558]\n",
      "[1. 0. 0.] <-> [0.9742968  0.01747124 0.00823196]\n",
      "[0. 0. 1.] <-> [0.00366179 0.03722374 0.9591145 ]\n",
      "[1. 0. 0.] <-> [0.9261667  0.01366476 0.0601685 ]\n",
      "[1. 0. 0.] <-> [0.94448596 0.01050723 0.04500676]\n",
      "[1. 0. 0.] <-> [0.9147958  0.01020549 0.07499864]\n",
      "[1. 0. 0.] <-> [0.9568874  0.01156541 0.03154712]\n",
      "[1. 0. 0.] <-> [0.96999645 0.01319893 0.0168046 ]\n",
      "[0. 0. 1.] <-> [0.06336907 0.00679971 0.9298312 ]\n",
      "[1. 0. 0.] <-> [0.7660954  0.20868774 0.02521688]\n",
      "[0. 1. 0.] <-> [0.46019125 0.5140968  0.02571196]\n",
      "[1. 0. 0.] <-> [0.9684434  0.0198613  0.01169524]\n",
      "[0. 1. 0.] <-> [0.38796362 0.5958365  0.01619996]\n",
      "[0. 1. 0.] <-> [0.06227095 0.929367   0.00836202]\n",
      "[1. 0. 0.] <-> [0.96412385 0.02732153 0.00855464]\n",
      "[0. 1. 0.] <-> [0.06268491 0.9289003  0.00841476]\n",
      "[1. 0. 0.] <-> [0.9704418  0.01953282 0.01002535]\n",
      "[0. 1. 0.] <-> [0.0622353  0.92940706 0.00835765]\n",
      "[1. 0. 0.] <-> [0.8424699  0.01302682 0.14450334]\n",
      "[0. 0. 1.] <-> [0.06233155 0.006965   0.93070346]\n",
      "[0. 0. 1.] <-> [0.06335958 0.0068464  0.929794  ]\n",
      "[1. 0. 0.] <-> [0.8760228  0.10963133 0.01434587]\n",
      "[1. 0. 0.] <-> [0.96536493 0.02406409 0.01057095]\n",
      "[1. 0. 0.] <-> [0.96673423 0.01568119 0.01758462]\n",
      "[1. 0. 0.] <-> [0.95710695 0.01963104 0.02326206]\n",
      "[1. 0. 0.] <-> [0.9088674  0.01391521 0.07721732]\n",
      "[1. 0. 0.] <-> [0.96361417 0.0175168  0.01886901]\n",
      "[0. 0. 1.] <-> [0.06478222 0.00690154 0.92831624]\n",
      "[1. 0. 0.] <-> [0.9742836  0.01552165 0.01019479]\n",
      "{'accuracy': 0.9629629629629629, 'mean_square_error': 0.08698003483585516, 'categorical_crossentropy': 0.17210190384476273, 'precision': 0.9444444444444444, 'recall': 0.9444444444444444, 'f1': 0.9444444444444444, 'essential_metrics': {0: {'tp_hit': 75, 'fp_hit': 5, 'tn_hit': 27, 'fn_hit': 1}, 1: {'tp_hit': 14, 'fp_hit': 0, 'tn_hit': 91, 'fn_hit': 3}, 2: {'tp_hit': 13, 'fp_hit': 1, 'tn_hit': 92, 'fn_hit': 2}}}\n"
     ]
    }
   ],
   "source": [
    "# recall phase\n",
    "score = model.evaluate(x_test, y_test, False)\n",
    "print(score)"
   ]
  },
  {
   "cell_type": "code",
   "execution_count": 13,
   "metadata": {},
   "outputs": [],
   "source": [
    "# Testing Performance"
   ]
  },
  {
   "cell_type": "code",
   "execution_count": 14,
   "metadata": {},
   "outputs": [
    {
     "data": {
      "image/png": "[encoded data removed]",
      "text/plain": [
       "<Figure size 864x360 with 1 Axes>"
      ]
     },
     "metadata": {
      "needs_background": "light"
     },
     "output_type": "display_data"
    },
    {
     "data": {
      "image/png": "[encoded data removed]",
      "text/plain": [
       "<Figure size 864x360 with 1 Axes>"
      ]
     },
     "metadata": {
      "needs_background": "light"
     },
     "output_type": "display_data"
    }
   ],
   "source": [
    "draw_plot(x = [[i for i in range(len(history))], [(i+1)*breakpoint for i in range(len(checkpoints))]], y_list = [train_cce, [ ckp[model.loss_fn] for ckp in checkpoints ]], x_label = 'Epochs', \\\n",
    "    y_label = model.loss_fn, legend=['train', 'test'])\n",
    "acc = [ ckp['accuracy'] for ckp in checkpoints ]\n",
    "draw_plot(x = [[i for i in range(len(history))], [(i+1)*breakpoint for i in range(len(checkpoints))]], y_list = [train_acc, acc], x_label = 'Checkpoints', \\\n",
    "    y_label = 'accuracy', legend=['train', 'test'])"
   ]
  },
  {
   "cell_type": "code",
   "execution_count": 15,
   "metadata": {
    "scrolled": false
   },
   "outputs": [
    {
     "name": "stdout",
     "output_type": "stream",
     "text": [
      "{'accuracy': 0.9629629629629629, 'mean_square_error': 0.17759456212936856, 'categorical_crossentropy': 0.37705170666729965, 'precision': 0.9444444444444444, 'recall': 0.9444444444444444, 'f1': 0.9444444444444444, 'essential_metrics': {0: {'tp_hit': 76, 'fp_hit': 6, 'tn_hit': 26, 'fn_hit': 0}, 1: {'tp_hit': 13, 'fp_hit': 0, 'tn_hit': 91, 'fn_hit': 4}, 2: {'tp_hit': 13, 'fp_hit': 0, 'tn_hit': 93, 'fn_hit': 2}}, 'checkpoint': 100} \n",
      "\n",
      "\n",
      "{'accuracy': 0.9506172839506173, 'mean_square_error': 0.15565056492150445, 'categorical_crossentropy': 0.3291926560578523, 'precision': 0.9259259259259259, 'recall': 0.9259259259259259, 'f1': 0.9259259259259259, 'essential_metrics': {0: {'tp_hit': 76, 'fp_hit': 8, 'tn_hit': 24, 'fn_hit': 0}, 1: {'tp_hit': 11, 'fp_hit': 0, 'tn_hit': 91, 'fn_hit': 6}, 2: {'tp_hit': 13, 'fp_hit': 0, 'tn_hit': 93, 'fn_hit': 2}}, 'checkpoint': 200} \n",
      "\n",
      "\n",
      "{'accuracy': 0.9506172839506173, 'mean_square_error': 0.1415868132522953, 'categorical_crossentropy': 0.29736384639033564, 'precision': 0.9259259259259259, 'recall': 0.9259259259259259, 'f1': 0.9259259259259259, 'essential_metrics': {0: {'tp_hit': 76, 'fp_hit': 8, 'tn_hit': 24, 'fn_hit': 0}, 1: {'tp_hit': 11, 'fp_hit': 0, 'tn_hit': 91, 'fn_hit': 6}, 2: {'tp_hit': 13, 'fp_hit': 0, 'tn_hit': 93, 'fn_hit': 2}}, 'checkpoint': 300} \n",
      "\n",
      "\n",
      "{'accuracy': 0.9506172839506173, 'mean_square_error': 0.13076886905444665, 'categorical_crossentropy': 0.2744091175220631, 'precision': 0.9259259259259259, 'recall': 0.9259259259259259, 'f1': 0.9259259259259259, 'essential_metrics': {0: {'tp_hit': 76, 'fp_hit': 8, 'tn_hit': 24, 'fn_hit': 0}, 1: {'tp_hit': 11, 'fp_hit': 0, 'tn_hit': 91, 'fn_hit': 6}, 2: {'tp_hit': 13, 'fp_hit': 0, 'tn_hit': 93, 'fn_hit': 2}}, 'checkpoint': 400} \n",
      "\n",
      "\n",
      "{'accuracy': 0.9629629629629629, 'mean_square_error': 0.11511721187453743, 'categorical_crossentropy': 0.24728420045640734, 'precision': 0.9444444444444444, 'recall': 0.9444444444444444, 'f1': 0.9444444444444444, 'essential_metrics': {0: {'tp_hit': 76, 'fp_hit': 6, 'tn_hit': 26, 'fn_hit': 0}, 1: {'tp_hit': 13, 'fp_hit': 0, 'tn_hit': 91, 'fn_hit': 4}, 2: {'tp_hit': 13, 'fp_hit': 0, 'tn_hit': 93, 'fn_hit': 2}}, 'checkpoint': 500} \n",
      "\n",
      "\n",
      "{'accuracy': 0.9567901234567902, 'mean_square_error': 0.1061637878940212, 'categorical_crossentropy': 0.22844358726784034, 'precision': 0.9351851851851852, 'recall': 0.9351851851851852, 'f1': 0.9351851851851852, 'essential_metrics': {0: {'tp_hit': 75, 'fp_hit': 6, 'tn_hit': 26, 'fn_hit': 1}, 1: {'tp_hit': 13, 'fp_hit': 0, 'tn_hit': 91, 'fn_hit': 4}, 2: {'tp_hit': 13, 'fp_hit': 1, 'tn_hit': 92, 'fn_hit': 2}}, 'checkpoint': 600} \n",
      "\n",
      "\n",
      "{'accuracy': 0.9567901234567902, 'mean_square_error': 0.09798373585577444, 'categorical_crossentropy': 0.21055218025490088, 'precision': 0.9351851851851852, 'recall': 0.9351851851851852, 'f1': 0.9351851851851852, 'essential_metrics': {0: {'tp_hit': 75, 'fp_hit': 6, 'tn_hit': 26, 'fn_hit': 1}, 1: {'tp_hit': 13, 'fp_hit': 0, 'tn_hit': 91, 'fn_hit': 4}, 2: {'tp_hit': 13, 'fp_hit': 1, 'tn_hit': 92, 'fn_hit': 2}}, 'checkpoint': 700} \n",
      "\n",
      "\n",
      "{'accuracy': 0.9629629629629629, 'mean_square_error': 0.0943093254075022, 'categorical_crossentropy': 0.19782089304040978, 'precision': 0.9444444444444444, 'recall': 0.9444444444444444, 'f1': 0.9444444444444444, 'essential_metrics': {0: {'tp_hit': 75, 'fp_hit': 5, 'tn_hit': 27, 'fn_hit': 1}, 1: {'tp_hit': 14, 'fp_hit': 0, 'tn_hit': 91, 'fn_hit': 3}, 2: {'tp_hit': 13, 'fp_hit': 1, 'tn_hit': 92, 'fn_hit': 2}}, 'checkpoint': 800} \n",
      "\n",
      "\n",
      "{'accuracy': 0.9567901234567902, 'mean_square_error': 0.09326579694385159, 'categorical_crossentropy': 0.1875857777065701, 'precision': 0.9351851851851852, 'recall': 0.9351851851851852, 'f1': 0.9351851851851852, 'essential_metrics': {0: {'tp_hit': 75, 'fp_hit': 6, 'tn_hit': 26, 'fn_hit': 1}, 1: {'tp_hit': 13, 'fp_hit': 0, 'tn_hit': 91, 'fn_hit': 4}, 2: {'tp_hit': 13, 'fp_hit': 1, 'tn_hit': 92, 'fn_hit': 2}}, 'checkpoint': 900} \n",
      "\n",
      "\n",
      "{'accuracy': 0.9629629629629629, 'mean_square_error': 0.08698003483585516, 'categorical_crossentropy': 0.17210190384476273, 'precision': 0.9444444444444444, 'recall': 0.9444444444444444, 'f1': 0.9444444444444444, 'essential_metrics': {0: {'tp_hit': 75, 'fp_hit': 5, 'tn_hit': 27, 'fn_hit': 1}, 1: {'tp_hit': 14, 'fp_hit': 0, 'tn_hit': 91, 'fn_hit': 3}, 2: {'tp_hit': 13, 'fp_hit': 1, 'tn_hit': 92, 'fn_hit': 2}}, 'checkpoint': 1000} \n",
      "\n",
      "\n"
     ]
    }
   ],
   "source": [
    "for checkpoint in checkpoints:\n",
    "    print(checkpoint, '\\n\\n')"
   ]
  },
  {
   "cell_type": "code",
   "execution_count": 16,
   "metadata": {},
   "outputs": [
    {
     "name": "stdout",
     "output_type": "stream",
     "text": [
      "Layer 1\n",
      "Neuron 0: weights:\n",
      "[-2.3137474  2.77886    2.5778575 -0.6476738  2.5932493]\n",
      " bias: -1.5767602920532227\n",
      "\n",
      "Neuron 1: weights:\n",
      "[ 0.70902413 -2.3552184  -0.89104146  0.23352928 -0.43252194]\n",
      " bias: 1.458749532699585\n",
      "\n",
      "Neuron 2: weights:\n",
      "[-0.5984084   0.95122325  2.6232133  -1.2505903  -1.8094075 ]\n",
      " bias: 2.594257354736328\n",
      "\n",
      "Neuron 3: weights:\n",
      "[ 1.514795   -2.687678    0.54862463  0.9819324   0.10724245]\n",
      " bias: -1.8334943056106567\n",
      "\n",
      "$\n",
      "Layer 2\n",
      "Neuron 0: weights:\n",
      "[-1.8871939  0.473528   1.8141048 -2.8994875]\n",
      " bias: -2.339906930923462\n",
      "\n",
      "Neuron 1: weights:\n",
      "[ 2.2989268 -3.        -1.0099967 -3.       ]\n",
      " bias: -0.9982329607009888\n",
      "\n",
      "Neuron 2: weights:\n",
      "[ 0.9923135   0.00866543 -2.7958748   0.5290127 ]\n",
      " bias: -2.6171724796295166\n",
      "\n",
      "$\n",
      "\n"
     ]
    }
   ],
   "source": [
    "print(model)"
   ]
  }
 ],
 "metadata": {
  "kernelspec": {
   "display_name": "Python 3",
   "language": "python",
   "name": "python3"
  },
  "language_info": {
   "codemirror_mode": {
    "name": "ipython",
    "version": 3
   },
   "file_extension": ".py",
   "mimetype": "text/x-python",
   "name": "python",
   "nbconvert_exporter": "python",
   "pygments_lexer": "ipython3",
   "version": "3.6.12"
  }
 },
 "nbformat": 4,
 "nbformat_minor": 2
}
