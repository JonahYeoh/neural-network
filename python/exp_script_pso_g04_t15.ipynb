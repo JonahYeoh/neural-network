{
 "cells": [
  {
   "cell_type": "code",
   "execution_count": 1,
   "metadata": {},
   "outputs": [],
   "source": [
    "# dependency\n",
    "import numpy as np\n",
    "import pandas as pd\n",
    "import copy\n",
    "import math\n",
    "import sys\n",
    "import os\n",
    "from activations import relu, leaky_relu, sigmoid, tanh, softmax, d_sigmoid, d_relu\n",
    "from initializers import glorot_uniform, random_normal, random_uniform\n",
    "from regularizers import l1_regularizer, l2_regularizer\n",
    "from utility import trim_tail, multiply, subtract, get_nparams, one_hot_encoding, get_data\n",
    "from metrics import MSE, CCE, ACC, PRECISION, RECALL, essential_metrics, wondering_penalty, close_gap_penalty\n",
    "from pso import PSO\n",
    "from ga import GA\n",
    "from nn import Network\n",
    "from layer import DenseLayer\n",
    "from scalers import MinMaxScaler, StandardScaler"
   ]
  },
  {
   "cell_type": "code",
   "execution_count": 2,
   "metadata": {},
   "outputs": [],
   "source": [
    "# reference\n",
    "metrics_fn_dict = dict()\n",
    "metrics_fn_dict['accuracy'] = ACC\n",
    "metrics_fn_dict['categorical_crossentropy'] = CCE\n",
    "metrics_fn_dict['mean_square_error'] = MSE\n",
    "metrics_fn_dict['precision'] = PRECISION\n",
    "metrics_fn_dict['recall'] = RECALL\n",
    "metrics_fn_dict['essential_metrics'] = essential_metrics"
   ]
  },
  {
   "cell_type": "code",
   "execution_count": 3,
   "metadata": {},
   "outputs": [],
   "source": [
    "# model\n",
    "model = Network(5, lr = None)\n",
    "model.add_layer(DenseLayer(1, 4, True, afn=sigmoid, dafn=None, rfn=None))\n",
    "model.add_layer(DenseLayer(2, 3, True, afn=softmax, dafn=None, rfn=None))"
   ]
  },
  {
   "cell_type": "code",
   "execution_count": 4,
   "metadata": {},
   "outputs": [
    {
     "name": "stdout",
     "output_type": "stream",
     "text": [
      "see one see two 2 0.5\n"
     ]
    }
   ],
   "source": [
    "pso = PSO(dict(m = 50,\n",
    "    weight_constraint = [-3, 3], \n",
    "    velocity_constraint = [-0.1, 0.1],\n",
    "    c1 = [0.5, 2],\n",
    "    c2 = [0.5, 2],\n",
    "    w = [0.5, 1.6],\n",
    "    w_decay = 0.95,\n",
    "    scale_hyperparameter = False,\n",
    "    regularizer = None,\n",
    "    mask = None))"
   ]
  },
  {
   "cell_type": "code",
   "execution_count": 5,
   "metadata": {},
   "outputs": [
    {
     "name": "stdout",
     "output_type": "stream",
     "text": [
      "building layer 1 with 5\n",
      "24\n",
      "building layer 2 with 4\n",
      "15\n"
     ]
    }
   ],
   "source": [
    "model.compile(loss_fn = 'categorical_crossentropy', optimizer = pso, \\\n",
    "    metrics = ['accuracy', 'mean_square_error', 'categorical_crossentropy'])"
   ]
  },
  {
   "cell_type": "code",
   "execution_count": 6,
   "metadata": {},
   "outputs": [
    {
     "name": "stdout",
     "output_type": "stream",
     "text": [
      "<class 'pandas.core.frame.DataFrame'>\n",
      "RangeIndex: 107 entries, 0 to 106\n",
      "Data columns (total 6 columns):\n",
      " #   Column  Non-Null Count  Dtype  \n",
      "---  ------  --------------  -----  \n",
      " 0   f1      107 non-null    float32\n",
      " 1   f2      107 non-null    float32\n",
      " 2   f3      107 non-null    float32\n",
      " 3   f4      107 non-null    float32\n",
      " 4   f5      107 non-null    float32\n",
      " 5   label   107 non-null    float32\n",
      "dtypes: float32(6)\n",
      "memory usage: 2.6 KB\n",
      "None\n",
      "<class 'pandas.core.frame.DataFrame'>\n",
      "RangeIndex: 108 entries, 0 to 107\n",
      "Data columns (total 6 columns):\n",
      " #   Column  Non-Null Count  Dtype  \n",
      "---  ------  --------------  -----  \n",
      " 0   f1      108 non-null    float32\n",
      " 1   f2      108 non-null    float32\n",
      " 2   f3      108 non-null    float32\n",
      " 3   f4      108 non-null    float32\n",
      " 4   f5      108 non-null    float32\n",
      " 5   label   108 non-null    float32\n",
      "dtypes: float32(6)\n",
      "memory usage: 2.7 KB\n",
      "None\n"
     ]
    }
   ],
   "source": [
    "# data loading\n",
    "DATA = os.path.join('c:\\\\Users\\\\tcumi\\\\github_repo\\\\neural-network\\\\', 'dataset')\n",
    "GROUP = 4\n",
    "COLUMNS = ['f1', 'f2', 'f3', 'f4', 'f5', 'label']\n",
    "N_CLASS = 3\n",
    "EPOCHS = 500\n",
    "train_dir, test_dir = \"..//dataset//training_data{}.txt\".format(GROUP), \"..//dataset//testing_data{}.txt\".format(GROUP)\n",
    "train, test = get_data(DATA, train_dir, COLUMNS), get_data(DATA, test_dir, COLUMNS)\n",
    "# shuffle\n",
    "train, test = train.sample(frac=1), test.sample(frac=1)\n",
    "x_train, y_train = train.drop('label', axis=1), train['label']\n",
    "x_test, y_test = test.drop('label', axis=1), test['label']"
   ]
  },
  {
   "cell_type": "code",
   "execution_count": 7,
   "metadata": {},
   "outputs": [],
   "source": [
    "# data scaling and encoding\n",
    "scaler = StandardScaler(['f1', 'f2', 'f3', 'f4', 'f5'])\n",
    "scaler.fit(x_train)\n",
    "x_train = scaler.transform(x_train)\n",
    "x_test = scaler.transform(x_test)\n",
    "y_train = one_hot_encoding(y_train, N_CLASS)\n",
    "y_test = one_hot_encoding(y_test, N_CLASS)"
   ]
  },
  {
   "cell_type": "code",
   "execution_count": 8,
   "metadata": {
    "tags": [
     "outputPrepend"
    ]
   },
   "outputs": [
    {
     "name": "stdout",
     "output_type": "stream",
     "text": [
      "Checkpoint 100, Accuracy: 0.8148148148148148, Loss: 0.5978821648491753\n",
      "Checkpoint 200, Accuracy: 0.8148148148148148, Loss: 0.5978821648491753\n",
      "Checkpoint 300, Accuracy: 0.8148148148148148, Loss: 0.5978821648491753\n",
      "Checkpoint 400, Accuracy: 0.8148148148148148, Loss: 0.5978821648491753\n",
      "Checkpoint 500, Accuracy: 0.8148148148148148, Loss: 0.5978821648491753\n"
     ]
    }
   ],
   "source": [
    "# learning phase\n",
    "breakpoint = 100\n",
    "checkpoints = list()\n",
    "history = list()\n",
    "for century in range(0, EPOCHS, breakpoint):\n",
    "    sub_history = model.fit(x_train, y_train, breakpoint, verbose = 0)\n",
    "    score = model.evaluate(x_test, y_test, False, verbose = 0)\n",
    "    print('Checkpoint {}, Accuracy: {}, Loss: {}'.format(century+breakpoint, score['accuracy'], score[model.loss_fn]))\n",
    "    score['checkpoint'] = century + breakpoint\n",
    "    checkpoints.append(score)\n",
    "    history.extend(sub_history)\n",
    "    itr = century + breakpoint\n",
    "    model.optimizer.c1 = np.max([model.optimizer.C1[1] - ((model.optimizer.C1[1] - model.optimizer.C1[0]) * itr / EPOCHS), model.optimizer.C1[0]])\n",
    "    model.optimizer.c2 = np.min([model.optimizer.C2[0] + ((model.optimizer.C2[1] - model.optimizer.C2[0]) * itr / EPOCHS), model.optimizer.C2[1]])\n",
    "    model.optimizer.w = np.max([model.optimizer.w * model.optimizer.W_Decay, model.optimizer.W[0]])"
   ]
  },
  {
   "cell_type": "code",
   "execution_count": 9,
   "metadata": {},
   "outputs": [],
   "source": [
    "import matplotlib.pyplot as plt\n",
    "\n",
    "def draw_plot(x, y_list, x_label=None, y_label=None, legend=None, title=None):\n",
    "    fig, ax = plt.subplots(figsize=(12,5))\n",
    "    for xi, yi in zip(x, y_list):\n",
    "        ax.plot(xi, yi)\n",
    "    if x_label is not None and y_label is not None:\n",
    "        ax.set(xlabel=x_label, ylabel=y_label, title='{} VS {}'.format(x_label, y_label))\n",
    "    if legend is not None:\n",
    "        ax.legend(legend)\n",
    "    ax.grid()\n",
    "    plt.show()"
   ]
  },
  {
   "cell_type": "code",
   "execution_count": 10,
   "metadata": {},
   "outputs": [
    {
     "name": "stdout",
     "output_type": "stream",
     "text": [
      "[1. 0. 0.] <-> [0.90273666 0.07254582 0.02471756]\n",
      "[1. 0. 0.] <-> [0.9066337  0.08940749 0.00395886]\n",
      "[1. 0. 0.] <-> [0.9266005  0.06371526 0.0096842 ]\n",
      "[0. 1. 0.] <-> [0.9716242  0.02362514 0.00475067]\n",
      "[1. 0. 0.] <-> [0.9256786  0.0481284  0.02619301]\n",
      "[0. 1. 0.] <-> [0.81851304 0.1793321  0.00215484]\n",
      "[1. 0. 0.] <-> [0.7806361  0.11925531 0.10010864]\n",
      "[1. 0. 0.] <-> [0.9024312  0.08783378 0.00973501]\n",
      "[0. 0. 1.] <-> [0.7671039  0.03004522 0.20285085]\n",
      "[0. 0. 1.] <-> [0.63757896 0.04705461 0.31536642]\n",
      "[1. 0. 0.] <-> [0.9586838  0.03227051 0.0090457 ]\n",
      "[1. 0. 0.] <-> [0.8596695  0.13450561 0.00582489]\n",
      "[0. 1. 0.] <-> [0.8110461  0.18680236 0.00215149]\n",
      "[1. 0. 0.] <-> [0.7217479  0.25684708 0.02140507]\n",
      "[1. 0. 0.] <-> [0.9216969  0.06487131 0.01343175]\n",
      "[1. 0. 0.] <-> [0.9311673  0.06072677 0.00810598]\n",
      "[1. 0. 0.] <-> [0.88321936 0.1062053  0.01057534]\n",
      "[1. 0. 0.] <-> [0.96152925 0.02919278 0.00927798]\n",
      "[1. 0. 0.] <-> [0.8761304  0.11322924 0.01064037]\n",
      "[0. 0. 1.] <-> [0.48680317 0.3007733  0.21242358]\n",
      "[1. 0. 0.] <-> [0.78434646 0.20273398 0.01291956]\n",
      "[1. 0. 0.] <-> [0.82238925 0.1695902  0.00802052]\n",
      "[0. 1. 0.] <-> [0.80127966 0.1963323  0.00238797]\n",
      "[1. 0. 0.] <-> [0.7910792  0.2024379  0.00648291]\n",
      "[1. 0. 0.] <-> [0.9549806  0.03625123 0.00876811]\n",
      "[1. 0. 0.] <-> [0.9023857  0.08943138 0.00818298]\n",
      "[1. 0. 0.] <-> [0.92307687 0.06840662 0.00851655]\n",
      "[1. 0. 0.] <-> [0.8922464  0.10014533 0.00760819]\n",
      "[1. 0. 0.] <-> [0.845908   0.06799522 0.08609672]\n",
      "[1. 0. 0.] <-> [0.83555293 0.15570149 0.00874554]\n",
      "[1. 0. 0.] <-> [0.82501245 0.16863716 0.00635037]\n",
      "[1. 0. 0.] <-> [0.81888986 0.17598052 0.00512958]\n",
      "[1. 0. 0.] <-> [0.95719826 0.02669264 0.01610905]\n",
      "[1. 0. 0.] <-> [0.9140194  0.0788229  0.00715768]\n",
      "[1. 0. 0.] <-> [0.7125133  0.274029   0.01345771]\n",
      "[0. 0. 1.] <-> [0.6990286  0.07399558 0.22697583]\n",
      "[1. 0. 0.] <-> [0.90380585 0.09188835 0.00430578]\n",
      "[1. 0. 0.] <-> [0.9114976  0.07982047 0.00868191]\n",
      "[1. 0. 0.] <-> [0.9136739  0.07893026 0.00739585]\n",
      "[1. 0. 0.] <-> [0.912036   0.07233479 0.01562914]\n",
      "[0. 1. 0.] <-> [0.8116562  0.18621466 0.00212911]\n",
      "[1. 0. 0.] <-> [0.9323928  0.06036218 0.00724509]\n",
      "[0. 0. 1.] <-> [0.49540782 0.20568381 0.29890838]\n",
      "[0. 0. 1.] <-> [0.7819785  0.16561785 0.05240355]\n",
      "[1. 0. 0.] <-> [0.8101459 0.1835187 0.0063353]\n",
      "[0. 1. 0.] <-> [0.9260486  0.06624112 0.00771037]\n",
      "[0. 1. 0.] <-> [0.81140405 0.18646769 0.00212831]\n",
      "[1. 0. 0.] <-> [0.9414417  0.03481206 0.02374622]\n",
      "[0. 0. 1.] <-> [0.7905233  0.04206541 0.16741121]\n",
      "[0. 1. 0.] <-> [0.89721256 0.09942567 0.0033617 ]\n",
      "[1. 0. 0.] <-> [0.7385483  0.25374207 0.00770966]\n",
      "[1. 0. 0.] <-> [0.7543203  0.24150738 0.00417227]\n",
      "[1. 0. 0.] <-> [0.9388305  0.0518881  0.00928136]\n",
      "[0. 1. 0.] <-> [0.8103224  0.18755338 0.00212414]\n",
      "[1. 0. 0.] <-> [0.92568845 0.05462414 0.01968741]\n",
      "[1. 0. 0.] <-> [0.84809685 0.14334206 0.00856115]\n",
      "[1. 0. 0.] <-> [0.93878835 0.05123186 0.00997982]\n",
      "[0. 1. 0.] <-> [0.9015375  0.09584663 0.00261583]\n",
      "[0. 1. 0.] <-> [0.84555745 0.1520856  0.002357  ]\n",
      "[1. 0. 0.] <-> [0.88098806 0.08163907 0.03737287]\n",
      "[1. 0. 0.] <-> [0.9232635  0.06597752 0.01075898]\n",
      "[1. 0. 0.] <-> [0.94061196 0.04507404 0.01431403]\n",
      "[1. 0. 0.] <-> [0.8551924  0.12895758 0.01585004]\n",
      "[1. 0. 0.] <-> [0.8766871  0.11518122 0.00813163]\n",
      "[1. 0. 0.] <-> [0.68548214 0.30554125 0.00897662]\n",
      "[1. 0. 0.] <-> [0.973598   0.01669165 0.00971029]\n",
      "[1. 0. 0.] <-> [0.8584879  0.1337382  0.00777398]\n",
      "[1. 0. 0.] <-> [0.86553085 0.12463881 0.00983042]\n",
      "[1. 0. 0.] <-> [0.9345063  0.05747602 0.00801774]\n",
      "[1. 0. 0.] <-> [0.93037367 0.06174556 0.00788077]\n",
      "[0. 0. 1.] <-> [0.6352389  0.02063836 0.34412274]\n",
      "[1. 0. 0.] <-> [0.9073563  0.07655633 0.01608736]\n",
      "[1. 0. 0.] <-> [0.95615417 0.03561144 0.00823444]\n",
      "[1. 0. 0.] <-> [0.90040123 0.08914181 0.01045696]\n",
      "[0. 0. 1.] <-> [0.51424664 0.17728874 0.30846465]\n",
      "[1. 0. 0.] <-> [0.8354424  0.15736553 0.00719205]\n",
      "[1. 0. 0.] <-> [0.9517657  0.04035797 0.00787633]\n",
      "[1. 0. 0.] <-> [0.93672556 0.05509984 0.00817456]\n",
      "[0. 1. 0.] <-> [0.8180727  0.17975959 0.00216776]\n",
      "[1. 0. 0.] <-> [0.883452   0.10918876 0.00735921]\n",
      "[1. 0. 0.] <-> [0.84938157 0.14358427 0.00703409]\n",
      "[0. 1. 0.] <-> [0.7699807  0.22684176 0.00317754]\n",
      "[1. 0. 0.] <-> [0.86245906 0.13141583 0.00612505]\n",
      "[1. 0. 0.] <-> [0.88570917 0.0909125  0.0233784 ]\n",
      "[1. 0. 0.] <-> [0.92889345 0.06056764 0.0105389 ]\n",
      "[1. 0. 0.] <-> [0.7839711  0.21272618 0.0033028 ]\n",
      "[0. 0. 1.] <-> [0.6544897  0.04338961 0.3021207 ]\n",
      "[0. 1. 0.] <-> [0.8120899  0.18577605 0.00213405]\n",
      "[1. 0. 0.] <-> [0.8966636  0.09579793 0.00753841]\n",
      "[1. 0. 0.] <-> [0.75206983 0.24120873 0.00672141]\n",
      "[1. 0. 0.] <-> [0.9093663  0.07880627 0.01182739]\n",
      "[1. 0. 0.] <-> [0.7558947  0.23987389 0.00423134]\n",
      "[1. 0. 0.] <-> [0.90885293 0.07668515 0.01446194]\n",
      "[1. 0. 0.] <-> [0.8326458  0.15656167 0.01079259]\n",
      "[0. 0. 1.] <-> [0.67918825 0.04624946 0.27456227]\n",
      "[1. 0. 0.] <-> [0.94337994 0.04024576 0.01637436]\n",
      "[1. 0. 0.] <-> [0.9161018  0.07600203 0.00789621]\n",
      "[0. 0. 1.] <-> [0.7311307  0.06460715 0.20426215]\n",
      "[0. 0. 1.] <-> [0.8025764  0.02680435 0.17061926]\n",
      "[1. 0. 0.] <-> [0.731406   0.26418793 0.00440609]\n",
      "[1. 0. 0.] <-> [0.8339012  0.16172571 0.00437301]\n",
      "[1. 0. 0.] <-> [0.8989958  0.09268198 0.0083222 ]\n",
      "[1. 0. 0.] <-> [0.9041168  0.08767974 0.00820351]\n",
      "[1. 0. 0.] <-> [0.9400373  0.05123123 0.00873153]\n",
      "[0. 0. 1.] <-> [0.811209   0.08443443 0.1043565 ]\n",
      "[0. 1. 0.] <-> [0.8115885  0.18628252 0.00212897]\n",
      "[0. 1. 0.] <-> [0.89460534 0.10235121 0.00304344]\n",
      "[1. 0. 0.] <-> [0.77064776 0.22239153 0.00696066]\n",
      "{'accuracy': 0.8148148148148148, 'mean_square_error': 0.3814879714886389, 'categorical_crossentropy': 0.5978821648491753, 'essential_metrics': {0: {'tp_hit': 78, 'fp_hit': 30, 'tn_hit': 0, 'fn_hit': 0}, 1: {'tp_hit': 0, 'fp_hit': 0, 'tn_hit': 92, 'fn_hit': 16}, 2: {'tp_hit': 0, 'fp_hit': 0, 'tn_hit': 94, 'fn_hit': 14}}}\n"
     ]
    }
   ],
   "source": [
    "# recall phase\n",
    "score = model.evaluate(x_test, y_test, False)\n",
    "print(score)"
   ]
  },
  {
   "cell_type": "code",
   "execution_count": 11,
   "metadata": {},
   "outputs": [
    {
     "data": {
      "image/png": "[encoded data removed]",
      "text/plain": [
       "<Figure size 864x360 with 1 Axes>"
      ]
     },
     "metadata": {
      "needs_background": "light"
     },
     "output_type": "display_data"
    },
    {
     "data": {
      "image/png": "[encoded data removed]",
      "text/plain": [
       "<Figure size 864x360 with 1 Axes>"
      ]
     },
     "metadata": {
      "needs_background": "light"
     },
     "output_type": "display_data"
    }
   ],
   "source": [
    "draw_plot(x = [[i for i in range(len(history))], [(i+1)*breakpoint for i in range(len(checkpoints))]], y_list = [history, [ ckp[model.loss_fn] for ckp in checkpoints ]], x_label = 'Epochs', \\\n",
    "    y_label = model.loss_fn, legend=['train', 'test'])\n",
    "acc = [ ckp['accuracy'] for ckp in checkpoints ]\n",
    "draw_plot(x = [[(i+1)*breakpoint for i in range(len(checkpoints))]], y_list = [acc], x_label = 'Checkpoints', \\\n",
    "    y_label = 'accuracy')"
   ]
  },
  {
   "cell_type": "code",
   "execution_count": 12,
   "metadata": {},
   "outputs": [
    {
     "name": "stdout",
     "output_type": "stream",
     "text": [
      "{'accuracy': 0.8148148148148148, 'mean_square_error': 0.3814879714886389, 'categorical_crossentropy': 0.5978821648491753, 'essential_metrics': {0: {'tp_hit': 78, 'fp_hit': 30, 'tn_hit': 0, 'fn_hit': 0}, 1: {'tp_hit': 0, 'fp_hit': 0, 'tn_hit': 92, 'fn_hit': 16}, 2: {'tp_hit': 0, 'fp_hit': 0, 'tn_hit': 94, 'fn_hit': 14}}, 'checkpoint': 100} \n",
      "\n",
      "\n",
      "{'accuracy': 0.8148148148148148, 'mean_square_error': 0.3814879714886389, 'categorical_crossentropy': 0.5978821648491753, 'essential_metrics': {0: {'tp_hit': 78, 'fp_hit': 30, 'tn_hit': 0, 'fn_hit': 0}, 1: {'tp_hit': 0, 'fp_hit': 0, 'tn_hit': 92, 'fn_hit': 16}, 2: {'tp_hit': 0, 'fp_hit': 0, 'tn_hit': 94, 'fn_hit': 14}}, 'checkpoint': 200} \n",
      "\n",
      "\n",
      "{'accuracy': 0.8148148148148148, 'mean_square_error': 0.3814879714886389, 'categorical_crossentropy': 0.5978821648491753, 'essential_metrics': {0: {'tp_hit': 78, 'fp_hit': 30, 'tn_hit': 0, 'fn_hit': 0}, 1: {'tp_hit': 0, 'fp_hit': 0, 'tn_hit': 92, 'fn_hit': 16}, 2: {'tp_hit': 0, 'fp_hit': 0, 'tn_hit': 94, 'fn_hit': 14}}, 'checkpoint': 300} \n",
      "\n",
      "\n",
      "{'accuracy': 0.8148148148148148, 'mean_square_error': 0.3814879714886389, 'categorical_crossentropy': 0.5978821648491753, 'essential_metrics': {0: {'tp_hit': 78, 'fp_hit': 30, 'tn_hit': 0, 'fn_hit': 0}, 1: {'tp_hit': 0, 'fp_hit': 0, 'tn_hit': 92, 'fn_hit': 16}, 2: {'tp_hit': 0, 'fp_hit': 0, 'tn_hit': 94, 'fn_hit': 14}}, 'checkpoint': 400} \n",
      "\n",
      "\n",
      "{'accuracy': 0.8148148148148148, 'mean_square_error': 0.3814879714886389, 'categorical_crossentropy': 0.5978821648491753, 'essential_metrics': {0: {'tp_hit': 78, 'fp_hit': 30, 'tn_hit': 0, 'fn_hit': 0}, 1: {'tp_hit': 0, 'fp_hit': 0, 'tn_hit': 92, 'fn_hit': 16}, 2: {'tp_hit': 0, 'fp_hit': 0, 'tn_hit': 94, 'fn_hit': 14}}, 'checkpoint': 500} \n",
      "\n",
      "\n"
     ]
    }
   ],
   "source": [
    "for checkpoint in checkpoints:\n",
    "    print(checkpoint, '\\n\\n')"
   ]
  },
  {
   "cell_type": "code",
   "execution_count": 13,
   "metadata": {},
   "outputs": [
    {
     "name": "stdout",
     "output_type": "stream",
     "text": [
      "Layer 1\n",
      "Neuron 0: weights:\n",
      "[-1.25480182 -1.26872885  0.84883876  0.00491076 -2.89109123]\n",
      " bias: 1.470202514970632\n",
      "\n",
      "Neuron 1: weights:\n",
      "[-2.24927807  2.93292655  0.72465862  2.89687581 -1.3867399 ]\n",
      " bias: -1.9145343882618584\n",
      "\n",
      "Neuron 2: weights:\n",
      "[-1.79415     1.07734158  2.61492297 -0.22684836  0.92668999]\n",
      " bias: 0.7448411187220385\n",
      "\n",
      "Neuron 3: weights:\n",
      "[-0.27246737 -1.90670774 -2.35136983  0.48121593  2.67550736]\n",
      " bias: -2.886583300373829\n",
      "\n",
      "$\n",
      "Layer 2\n",
      "Neuron 0: weights:\n",
      "[-0.39374595  0.9109447  -1.63278694 -1.59108001]\n",
      " bias: 2.2017980121104133\n",
      "\n",
      "Neuron 1: weights:\n",
      "[ 1.27320331 -0.14337783  1.37956192  0.01555023]\n",
      " bias: -2.8837969070621705\n",
      "\n",
      "Neuron 2: weights:\n",
      "[-0.52387763 -0.32022177 -1.5146293   2.5042994 ]\n",
      " bias: -2.4993398857751616\n",
      "\n",
      "$\n",
      "\n"
     ]
    }
   ],
   "source": [
    "print(model)"
   ]
  }
 ],
 "metadata": {
  "kernelspec": {
   "display_name": "Python 3",
   "language": "python",
   "name": "python3"
  },
  "language_info": {
   "codemirror_mode": {
    "name": "ipython",
    "version": 3
   },
   "file_extension": ".py",
   "mimetype": "text/x-python",
   "name": "python",
   "nbconvert_exporter": "python",
   "pygments_lexer": "ipython3",
   "version": "3.6.10"
  }
 },
 "nbformat": 4,
 "nbformat_minor": 2
}
