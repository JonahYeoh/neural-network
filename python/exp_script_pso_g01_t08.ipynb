{
 "cells": [
  {
   "cell_type": "code",
   "execution_count": 1,
   "metadata": {},
   "outputs": [],
   "source": [
    "# dependency\n",
    "import numpy as np\n",
    "import pandas as pd\n",
    "import copy\n",
    "import math\n",
    "import sys\n",
    "import os\n",
    "from activations import relu, leaky_relu, sigmoid, tanh, softmax, d_sigmoid, d_relu\n",
    "from initializers import glorot_uniform, random_normal, random_uniform\n",
    "from regularizers import l1_regularizer, l2_regularizer\n",
    "from utility import trim_tail, multiply, subtract, get_nparams, one_hot_encoding, get_data\n",
    "from metrics import MSE, CCE, ACC, PRECISION, RECALL, essential_metrics, wondering_penalty, close_gap_penalty\n",
    "from pso import PSO\n",
    "from ga import GA\n",
    "from nn import Network\n",
    "from layer import DenseLayer\n",
    "from scalers import MinMaxScaler, StandardScaler"
   ]
  },
  {
   "cell_type": "code",
   "execution_count": 2,
   "metadata": {},
   "outputs": [],
   "source": [
    "# reference\n",
    "metrics_fn_dict = dict()\n",
    "metrics_fn_dict['accuracy'] = ACC\n",
    "metrics_fn_dict['categorical_crossentropy'] = CCE\n",
    "metrics_fn_dict['mean_square_error'] = MSE\n",
    "metrics_fn_dict['precision'] = PRECISION\n",
    "metrics_fn_dict['recall'] = RECALL\n",
    "metrics_fn_dict['essential_metrics'] = essential_metrics"
   ]
  },
  {
   "cell_type": "code",
   "execution_count": 3,
   "metadata": {},
   "outputs": [],
   "source": [
    "# model\n",
    "model = Network(5, lr = None)\n",
    "model.add_layer(DenseLayer(1, 4, True, afn=sigmoid, dafn=None, rfn=None))\n",
    "model.add_layer(DenseLayer(2, 3, True, afn=softmax, dafn=None, rfn=None))"
   ]
  },
  {
   "cell_type": "code",
   "execution_count": 4,
   "metadata": {},
   "outputs": [
    {
     "name": "stdout",
     "output_type": "stream",
     "text": [
      "see one see two 2 2\n"
     ]
    }
   ],
   "source": [
    "pso = PSO(dict(m = 50,\n",
    "    weight_constraint = [-3, 3], \n",
    "    velocity_constraint = [-0.1, 0.1],\n",
    "    c1 = 2,\n",
    "    c2 = 2,\n",
    "    w = 1.2,\n",
    "    w_decay = 1,\n",
    "    scale_hyperparameter = False,\n",
    "    regularizer = l1_regularizer,\n",
    "    mask = True))"
   ]
  },
  {
   "cell_type": "code",
   "execution_count": 5,
   "metadata": {},
   "outputs": [
    {
     "name": "stdout",
     "output_type": "stream",
     "text": [
      "building layer 1 with 5\n",
      "24\n",
      "building layer 2 with 4\n",
      "15\n"
     ]
    }
   ],
   "source": [
    "model.compile(loss_fn = 'categorical_crossentropy', optimizer = pso, \\\n",
    "    metrics = ['accuracy', 'mean_square_error', 'categorical_crossentropy'])"
   ]
  },
  {
   "cell_type": "code",
   "execution_count": 6,
   "metadata": {},
   "outputs": [
    {
     "name": "stdout",
     "output_type": "stream",
     "text": [
      "<class 'pandas.core.frame.DataFrame'>\n",
      "RangeIndex: 107 entries, 0 to 106\n",
      "Data columns (total 6 columns):\n",
      " #   Column  Non-Null Count  Dtype  \n",
      "---  ------  --------------  -----  \n",
      " 0   f1      107 non-null    float32\n",
      " 1   f2      107 non-null    float32\n",
      " 2   f3      107 non-null    float32\n",
      " 3   f4      107 non-null    float32\n",
      " 4   f5      107 non-null    float32\n",
      " 5   label   107 non-null    float32\n",
      "dtypes: float32(6)\n",
      "memory usage: 2.6 KB\n",
      "None\n",
      "<class 'pandas.core.frame.DataFrame'>\n",
      "RangeIndex: 108 entries, 0 to 107\n",
      "Data columns (total 6 columns):\n",
      " #   Column  Non-Null Count  Dtype  \n",
      "---  ------  --------------  -----  \n",
      " 0   f1      108 non-null    float32\n",
      " 1   f2      108 non-null    float32\n",
      " 2   f3      108 non-null    float32\n",
      " 3   f4      108 non-null    float32\n",
      " 4   f5      108 non-null    float32\n",
      " 5   label   108 non-null    float32\n",
      "dtypes: float32(6)\n",
      "memory usage: 2.7 KB\n",
      "None\n"
     ]
    }
   ],
   "source": [
    "# data loading\n",
    "DATA = os.path.join('c:\\\\Users\\\\AI-lab\\\\github_repo\\\\neural-network\\\\', 'dataset')\n",
    "GROUP = 1\n",
    "COLUMNS = ['f1', 'f2', 'f3', 'f4', 'f5', 'label']\n",
    "N_CLASS = 3\n",
    "EPOCHS = 200\n",
    "train_dir, test_dir = \"..//dataset//training_data{}.txt\".format(GROUP), \"..//dataset//testing_data{}.txt\".format(GROUP)\n",
    "train, test = get_data(DATA, train_dir, COLUMNS), get_data(DATA, test_dir, COLUMNS)\n",
    "# shuffle\n",
    "train, test = train.sample(frac=1), test.sample(frac=1)\n",
    "x_train, y_train = train.drop('label', axis=1), train['label']\n",
    "x_test, y_test = test.drop('label', axis=1), test['label']"
   ]
  },
  {
   "cell_type": "code",
   "execution_count": 7,
   "metadata": {},
   "outputs": [],
   "source": [
    "# data scaling and encoding\n",
    "scaler = StandardScaler(['f1', 'f2', 'f3', 'f4', 'f5'])\n",
    "scaler.fit(x_train)\n",
    "x_train = scaler.transform(x_train)\n",
    "x_test = scaler.transform(x_test)\n",
    "y_train = one_hot_encoding(y_train, N_CLASS)\n",
    "y_test = one_hot_encoding(y_test, N_CLASS)"
   ]
  },
  {
   "cell_type": "code",
   "execution_count": 8,
   "metadata": {
    "tags": [
     "outputPrepend"
    ]
   },
   "outputs": [
    {
     "name": "stdout",
     "output_type": "stream",
     "text": [
      "Checkpoint 10, Accuracy: 0.6049382716049383, Loss: 0.920970846105505\n",
      "Checkpoint 20, Accuracy: 0.8148148148148148, Loss: 0.7887205900969328\n",
      "Checkpoint 30, Accuracy: 0.8518518518518519, Loss: 0.6698320883291738\n",
      "Checkpoint 40, Accuracy: 0.8395061728395061, Loss: 0.5463087293836806\n",
      "Checkpoint 50, Accuracy: 0.8580246913580247, Loss: 0.5487232561464663\n",
      "Checkpoint 60, Accuracy: 0.9197530864197531, Loss: 0.44822261951587816\n",
      "Checkpoint 70, Accuracy: 0.9444444444444444, Loss: 0.3926818635728624\n",
      "Checkpoint 80, Accuracy: 0.9567901234567902, Loss: 0.2840906425758644\n",
      "Checkpoint 90, Accuracy: 0.9629629629629629, Loss: 0.2810394499037001\n",
      "Checkpoint 100, Accuracy: 0.9629629629629629, Loss: 0.1987750971758807\n",
      "Checkpoint 110, Accuracy: 0.9814814814814815, Loss: 0.2199115753173828\n",
      "Checkpoint 120, Accuracy: 0.9691358024691358, Loss: 0.17367297631722908\n",
      "Checkpoint 130, Accuracy: 0.9691358024691358, Loss: 0.17984353171454537\n",
      "Checkpoint 140, Accuracy: 0.9691358024691358, Loss: 0.19065360669736509\n",
      "Checkpoint 150, Accuracy: 0.9691358024691358, Loss: 0.17746861775716147\n",
      "Checkpoint 160, Accuracy: 0.9629629629629629, Loss: 0.18095164828830296\n",
      "Checkpoint 170, Accuracy: 0.9814814814814815, Loss: 0.16668326766402633\n",
      "Checkpoint 180, Accuracy: 0.9691358024691358, Loss: 0.1696300153379087\n",
      "Checkpoint 190, Accuracy: 0.9753086419753086, Loss: 0.1729393888402868\n",
      "Checkpoint 200, Accuracy: 0.9629629629629629, Loss: 0.185546910321271\n"
     ]
    }
   ],
   "source": [
    "# learning phase\n",
    "breakpoint = 10\n",
    "checkpoints = list()\n",
    "history = list()\n",
    "for century in range(0, EPOCHS, breakpoint):\n",
    "    sub_history = model.fit(x_train, y_train, breakpoint, verbose = 0)\n",
    "    score = model.evaluate(x_test, y_test, False, verbose = 0)\n",
    "    print('Checkpoint {}, Accuracy: {}, Loss: {}'.format(century+breakpoint, score['accuracy'], score[model.loss_fn]))\n",
    "    score['checkpoint'] = century + breakpoint\n",
    "    checkpoints.append(score)\n",
    "    history.extend(sub_history)"
   ]
  },
  {
   "cell_type": "code",
   "execution_count": 9,
   "metadata": {},
   "outputs": [],
   "source": [
    "import matplotlib.pyplot as plt\n",
    "\n",
    "def draw_plot(x, y_list, x_label=None, y_label=None, legend=None, title=None):\n",
    "    fig, ax = plt.subplots(figsize=(12,5))\n",
    "    for xi, yi in zip(x, y_list):\n",
    "        ax.plot(xi, yi)\n",
    "    if x_label is not None and y_label is not None:\n",
    "        ax.set(xlabel=x_label, ylabel=y_label, title='{} VS {}'.format(x_label, y_label))\n",
    "    if legend is not None:\n",
    "        ax.legend(legend)\n",
    "    ax.grid()\n",
    "    plt.show()"
   ]
  },
  {
   "cell_type": "code",
   "execution_count": 10,
   "metadata": {},
   "outputs": [],
   "source": [
    "train_acc = [h['accuracy'] for h in history]\n",
    "train_mse = [h['mean_square_error'] for h in history]\n",
    "train_cce = [h['categorical_crossentropy'] for h in history]"
   ]
  },
  {
   "cell_type": "code",
   "execution_count": 11,
   "metadata": {},
   "outputs": [
    {
     "name": "stdout",
     "output_type": "stream",
     "text": [
      "[0. 1. 0.] <-> [0.31603348 0.6715483  0.01241828]\n",
      "[1. 0. 0.] <-> [0.88461035 0.03683225 0.07855737]\n",
      "[0. 0. 1.] <-> [0.07581184 0.0088859  0.9153023 ]\n",
      "[1. 0. 0.] <-> [0.8983986  0.03893985 0.06266153]\n",
      "[0. 0. 1.] <-> [0.06489784 0.00662288 0.9284793 ]\n",
      "[0. 1. 0.] <-> [0.10721989 0.8848354  0.00794466]\n",
      "[1. 0. 0.] <-> [0.902355   0.0402044  0.05744059]\n",
      "[0. 1. 0.] <-> [0.64123607 0.32379583 0.03496806]\n",
      "[1. 0. 0.] <-> [0.93978655 0.02761742 0.03259607]\n",
      "[1. 0. 0.] <-> [0.90843785 0.01913895 0.07242313]\n",
      "[0. 0. 1.] <-> [0.1450146  0.01460865 0.84037673]\n",
      "[1. 0. 0.] <-> [0.7909283  0.03857431 0.17049739]\n",
      "[1. 0. 0.] <-> [0.83588666 0.02120053 0.1429128 ]\n",
      "[1. 0. 0.] <-> [0.91753334 0.03584106 0.04662561]\n",
      "[1. 0. 0.] <-> [0.78977704 0.03455836 0.17566462]\n",
      "[1. 0. 0.] <-> [0.8805207  0.02784758 0.09163171]\n",
      "[1. 0. 0.] <-> [0.9150344  0.02960908 0.05535651]\n",
      "[0. 1. 0.] <-> [0.40172884 0.58468807 0.01358312]\n",
      "[0. 0. 1.] <-> [0.079653   0.00849338 0.9118536 ]\n",
      "[1. 0. 0.] <-> [0.9350094  0.03226175 0.03272885]\n",
      "[1. 0. 0.] <-> [0.9045829  0.029226   0.06619108]\n",
      "[1. 0. 0.] <-> [0.93410057 0.04389178 0.02200764]\n",
      "[0. 0. 1.] <-> [0.09872288 0.01137359 0.88990355]\n",
      "[0. 1. 0.] <-> [0.23423904 0.7472715  0.01848943]\n",
      "[1. 0. 0.] <-> [0.93607605 0.0431378  0.02078617]\n",
      "[1. 0. 0.] <-> [0.89192945 0.03225773 0.07581286]\n",
      "[1. 0. 0.] <-> [0.8930147  0.08238278 0.0246024 ]\n",
      "[1. 0. 0.] <-> [0.91434354 0.01790423 0.06775221]\n",
      "[0. 0. 1.] <-> [0.7738491  0.01752107 0.20862979]\n",
      "[1. 0. 0.] <-> [0.9197513  0.05586335 0.02438533]\n",
      "[0. 0. 1.] <-> [0.07188422 0.00825266 0.9198631 ]\n",
      "[1. 0. 0.] <-> [0.8707885  0.0555542  0.07365728]\n",
      "[1. 0. 0.] <-> [0.9462162  0.02249837 0.03128539]\n",
      "[0. 1. 0.] <-> [0.5566501  0.4278818  0.01546807]\n",
      "[1. 0. 0.] <-> [0.92980206 0.04563592 0.02456208]\n",
      "[1. 0. 0.] <-> [0.93050873 0.04545128 0.02403997]\n",
      "[1. 0. 0.] <-> [0.8956905  0.02567609 0.07863338]\n",
      "[1. 0. 0.] <-> [0.93157125 0.02225806 0.04617069]\n",
      "[1. 0. 0.] <-> [0.907605   0.0695634  0.02283157]\n",
      "[1. 0. 0.] <-> [0.7970259  0.18974857 0.01322552]\n",
      "[0. 0. 1.] <-> [0.08914782 0.00844512 0.90240705]\n",
      "[0. 1. 0.] <-> [0.30848396 0.67128295 0.02023316]\n",
      "[1. 0. 0.] <-> [0.8517409  0.1073828  0.04087627]\n",
      "[0. 1. 0.] <-> [0.09346706 0.9007402  0.0057928 ]\n",
      "[1. 0. 0.] <-> [0.9475365  0.02130918 0.03115428]\n",
      "[1. 0. 0.] <-> [0.9300056  0.04836887 0.02162546]\n",
      "[1. 0. 0.] <-> [0.92468834 0.03686322 0.03844837]\n",
      "[1. 0. 0.] <-> [0.89842236 0.03424757 0.06733014]\n",
      "[1. 0. 0.] <-> [0.9381555  0.03281632 0.02902823]\n",
      "[1. 0. 0.] <-> [0.93397367 0.05252314 0.01350308]\n",
      "[1. 0. 0.] <-> [0.86560756 0.0241336  0.11025885]\n",
      "[0. 1. 0.] <-> [0.15225111 0.8394535  0.00829532]\n",
      "[0. 0. 1.] <-> [0.06454145 0.00672448 0.9287341 ]\n",
      "[1. 0. 0.] <-> [0.842636   0.02505091 0.13231312]\n",
      "[1. 0. 0.] <-> [0.9041514  0.01898392 0.07686479]\n",
      "[0. 1. 0.] <-> [0.10886276 0.88542277 0.00571439]\n",
      "[0. 1. 0.] <-> [0.68432295 0.30245495 0.01322208]\n",
      "[1. 0. 0.] <-> [0.8726754  0.10505574 0.02226884]\n",
      "[1. 0. 0.] <-> [0.94461316 0.0338014  0.02158542]\n",
      "[1. 0. 0.] <-> [0.42511305 0.03556715 0.5393198 ]\n",
      "[1. 0. 0.] <-> [0.86827296 0.06533334 0.06639377]\n",
      "[1. 0. 0.] <-> [0.7683919  0.20363738 0.02797069]\n",
      "[1. 0. 0.] <-> [0.8969592  0.0634685  0.03957231]\n",
      "[1. 0. 0.] <-> [0.90130424 0.02683369 0.07186209]\n",
      "[1. 0. 0.] <-> [0.6558656  0.0306929  0.31344151]\n",
      "[1. 0. 0.] <-> [0.91103816 0.02050404 0.06845779]\n",
      "[0. 0. 1.] <-> [0.11453018 0.0119838  0.87348604]\n",
      "[1. 0. 0.] <-> [0.93781173 0.04186785 0.02032032]\n",
      "[1. 0. 0.] <-> [0.8009134  0.02935326 0.16973336]\n",
      "[1. 0. 0.] <-> [0.8520749  0.03885139 0.10907365]\n",
      "[1. 0. 0.] <-> [0.7200657  0.02952106 0.25041324]\n",
      "[1. 0. 0.] <-> [0.70504236 0.26379123 0.03116648]\n",
      "[1. 0. 0.] <-> [0.9074037  0.02585309 0.06674326]\n",
      "[1. 0. 0.] <-> [0.9299916  0.05752026 0.01248816]\n",
      "[1. 0. 0.] <-> [0.9099685  0.06598456 0.02404702]\n",
      "[0. 0. 1.] <-> [0.5994515  0.01894102 0.38160744]\n",
      "[0. 1. 0.] <-> [0.1524838  0.8342675  0.01324869]\n",
      "[1. 0. 0.] <-> [0.868063   0.01918567 0.11275132]\n",
      "[1. 0. 0.] <-> [0.85438436 0.11205617 0.03355944]\n",
      "[1. 0. 0.] <-> [0.92100424 0.04476117 0.03423459]\n",
      "[1. 0. 0.] <-> [0.82455355 0.02754137 0.14790507]\n",
      "[1. 0. 0.] <-> [0.92690706 0.02928924 0.04380368]\n",
      "[1. 0. 0.] <-> [0.9383212  0.03611737 0.02556143]\n",
      "[1. 0. 0.] <-> [0.9022169  0.05756519 0.04021788]\n",
      "[1. 0. 0.] <-> [0.9344038  0.0199416  0.04565461]\n",
      "[1. 0. 0.] <-> [0.91868347 0.02340575 0.05791072]\n",
      "[0. 0. 1.] <-> [0.08982776 0.01347468 0.89669764]\n",
      "[1. 0. 0.] <-> [0.853863   0.11772754 0.02840945]\n",
      "[0. 1. 0.] <-> [0.09426794 0.9004062  0.00532585]\n",
      "[1. 0. 0.] <-> [0.9037018  0.02165884 0.07463938]\n",
      "[1. 0. 0.] <-> [0.91967946 0.02605832 0.05426221]\n",
      "[0. 1. 0.] <-> [0.1048845  0.8874736  0.00764188]\n",
      "[1. 0. 0.] <-> [0.77955675 0.03721146 0.1832318 ]\n",
      "[1. 0. 0.] <-> [0.9154928  0.03224162 0.05226563]\n",
      "[0. 1. 0.] <-> [0.10307143 0.8872855  0.00964307]\n",
      "[1. 0. 0.] <-> [0.94063634 0.0202717  0.03909194]\n",
      "[1. 0. 0.] <-> [0.9134345  0.03806529 0.04850025]\n",
      "[1. 0. 0.] <-> [0.9441705  0.0332416  0.02258794]\n",
      "[1. 0. 0.] <-> [0.9184086  0.03026666 0.05132476]\n",
      "[1. 0. 0.] <-> [0.8965525  0.01997859 0.08346891]\n",
      "[1. 0. 0.] <-> [0.93318063 0.02650953 0.04030989]\n",
      "[1. 0. 0.] <-> [0.92973053 0.03070076 0.03956874]\n",
      "[1. 0. 0.] <-> [0.93526864 0.03529658 0.0294347 ]\n",
      "[1. 0. 0.] <-> [0.8622599  0.02556123 0.11217874]\n",
      "[1. 0. 0.] <-> [0.89960444 0.0228442  0.07755134]\n",
      "[1. 0. 0.] <-> [0.85425925 0.02396103 0.12177972]\n",
      "[1. 0. 0.] <-> [0.93254554 0.03678409 0.03067037]\n",
      "[0. 0. 1.] <-> [0.23511119 0.01752555 0.74736327]\n",
      "{'accuracy': 0.9629629629629629, 'mean_square_error': 0.07925062625665315, 'categorical_crossentropy': 0.185546910321271, 'essential_metrics': {0: {'tp_hit': 79, 'fp_hit': 5, 'tn_hit': 23, 'fn_hit': 1}, 1: {'tp_hit': 12, 'fp_hit': 0, 'tn_hit': 93, 'fn_hit': 3}, 2: {'tp_hit': 11, 'fp_hit': 1, 'tn_hit': 94, 'fn_hit': 2}}}\n"
     ]
    }
   ],
   "source": [
    "# recall phase\n",
    "score = model.evaluate(x_test, y_test, False)\n",
    "print(score)"
   ]
  },
  {
   "cell_type": "code",
   "execution_count": 12,
   "metadata": {},
   "outputs": [
    {
     "data": {
      "image/png": "[encoded data removed]",
      "text/plain": [
       "<Figure size 864x360 with 1 Axes>"
      ]
     },
     "metadata": {
      "needs_background": "light"
     },
     "output_type": "display_data"
    },
    {
     "data": {
      "image/png": "[encoded data removed]",
      "text/plain": [
       "<Figure size 864x360 with 1 Axes>"
      ]
     },
     "metadata": {
      "needs_background": "light"
     },
     "output_type": "display_data"
    }
   ],
   "source": [
    "draw_plot(x = [[i for i in range(len(history))], [(i+1)*breakpoint for i in range(len(checkpoints))]], y_list = [train_cce, [ ckp[model.loss_fn] for ckp in checkpoints ]], x_label = 'Epochs', \\\n",
    "    y_label = model.loss_fn, legend=['train', 'test'])\n",
    "acc = [ ckp['accuracy'] for ckp in checkpoints ]\n",
    "draw_plot(x = [[i for i in range(len(history))], [(i+1)*breakpoint for i in range(len(checkpoints))]], y_list = [train_acc, acc], x_label = 'Checkpoints', \\\n",
    "    y_label = 'accuracy', legend=['train', 'test'])"
   ]
  },
  {
   "cell_type": "code",
   "execution_count": 13,
   "metadata": {},
   "outputs": [
    {
     "name": "stdout",
     "output_type": "stream",
     "text": [
      "{'accuracy': 0.6049382716049383, 'mean_square_error': 0.5809905021717123, 'categorical_crossentropy': 0.920970846105505, 'essential_metrics': {0: {'tp_hit': 19, 'fp_hit': 2, 'tn_hit': 26, 'fn_hit': 61}, 1: {'tp_hit': 13, 'fp_hit': 57, 'tn_hit': 36, 'fn_hit': 2}, 2: {'tp_hit': 12, 'fp_hit': 5, 'tn_hit': 90, 'fn_hit': 1}}, 'checkpoint': 10} \n",
      "\n",
      "\n",
      "{'accuracy': 0.8148148148148148, 'mean_square_error': 0.4674525812825485, 'categorical_crossentropy': 0.7887205900969328, 'essential_metrics': {0: {'tp_hit': 65, 'fp_hit': 15, 'tn_hit': 13, 'fn_hit': 15}, 1: {'tp_hit': 0, 'fp_hit': 3, 'tn_hit': 90, 'fn_hit': 15}, 2: {'tp_hit': 13, 'fp_hit': 12, 'tn_hit': 83, 'fn_hit': 0}}, 'checkpoint': 20} \n",
      "\n",
      "\n",
      "{'accuracy': 0.8518518518518519, 'mean_square_error': 0.3412888433455587, 'categorical_crossentropy': 0.6698320883291738, 'essential_metrics': {0: {'tp_hit': 80, 'fp_hit': 24, 'tn_hit': 4, 'fn_hit': 0}, 1: {'tp_hit': 4, 'fp_hit': 0, 'tn_hit': 93, 'fn_hit': 11}, 2: {'tp_hit': 0, 'fp_hit': 0, 'tn_hit': 95, 'fn_hit': 13}}, 'checkpoint': 30} \n",
      "\n",
      "\n",
      "{'accuracy': 0.8395061728395061, 'mean_square_error': 0.29792570761093273, 'categorical_crossentropy': 0.5463087293836806, 'essential_metrics': {0: {'tp_hit': 80, 'fp_hit': 24, 'tn_hit': 4, 'fn_hit': 0}, 1: {'tp_hit': 0, 'fp_hit': 2, 'tn_hit': 91, 'fn_hit': 15}, 2: {'tp_hit': 2, 'fp_hit': 0, 'tn_hit': 95, 'fn_hit': 11}}, 'checkpoint': 40} \n",
      "\n",
      "\n",
      "{'accuracy': 0.8580246913580247, 'mean_square_error': 0.29253152192615006, 'categorical_crossentropy': 0.5487232561464663, 'essential_metrics': {0: {'tp_hit': 80, 'fp_hit': 21, 'tn_hit': 7, 'fn_hit': 0}, 1: {'tp_hit': 3, 'fp_hit': 2, 'tn_hit': 91, 'fn_hit': 12}, 2: {'tp_hit': 2, 'fp_hit': 0, 'tn_hit': 95, 'fn_hit': 11}}, 'checkpoint': 50} \n",
      "\n",
      "\n",
      "{'accuracy': 0.9197530864197531, 'mean_square_error': 0.22306236240257762, 'categorical_crossentropy': 0.44822261951587816, 'essential_metrics': {0: {'tp_hit': 80, 'fp_hit': 11, 'tn_hit': 17, 'fn_hit': 0}, 1: {'tp_hit': 8, 'fp_hit': 2, 'tn_hit': 91, 'fn_hit': 7}, 2: {'tp_hit': 7, 'fp_hit': 0, 'tn_hit': 95, 'fn_hit': 6}}, 'checkpoint': 60} \n",
      "\n",
      "\n",
      "{'accuracy': 0.9444444444444444, 'mean_square_error': 0.18230140070049108, 'categorical_crossentropy': 0.3926818635728624, 'essential_metrics': {0: {'tp_hit': 80, 'fp_hit': 7, 'tn_hit': 21, 'fn_hit': 0}, 1: {'tp_hit': 11, 'fp_hit': 2, 'tn_hit': 91, 'fn_hit': 4}, 2: {'tp_hit': 8, 'fp_hit': 0, 'tn_hit': 95, 'fn_hit': 5}}, 'checkpoint': 70} \n",
      "\n",
      "\n",
      "{'accuracy': 0.9567901234567902, 'mean_square_error': 0.12037379040141712, 'categorical_crossentropy': 0.2840906425758644, 'essential_metrics': {0: {'tp_hit': 80, 'fp_hit': 7, 'tn_hit': 21, 'fn_hit': 0}, 1: {'tp_hit': 11, 'fp_hit': 0, 'tn_hit': 93, 'fn_hit': 4}, 2: {'tp_hit': 10, 'fp_hit': 0, 'tn_hit': 95, 'fn_hit': 3}}, 'checkpoint': 80} \n",
      "\n",
      "\n",
      "{'accuracy': 0.9629629629629629, 'mean_square_error': 0.12011756668093142, 'categorical_crossentropy': 0.2810394499037001, 'essential_metrics': {0: {'tp_hit': 80, 'fp_hit': 6, 'tn_hit': 22, 'fn_hit': 0}, 1: {'tp_hit': 11, 'fp_hit': 0, 'tn_hit': 93, 'fn_hit': 4}, 2: {'tp_hit': 11, 'fp_hit': 0, 'tn_hit': 95, 'fn_hit': 2}}, 'checkpoint': 90} \n",
      "\n",
      "\n",
      "{'accuracy': 0.9629629629629629, 'mean_square_error': 0.08230698745662118, 'categorical_crossentropy': 0.1987750971758807, 'essential_metrics': {0: {'tp_hit': 80, 'fp_hit': 6, 'tn_hit': 22, 'fn_hit': 0}, 1: {'tp_hit': 12, 'fp_hit': 0, 'tn_hit': 93, 'fn_hit': 3}, 2: {'tp_hit': 10, 'fp_hit': 0, 'tn_hit': 95, 'fn_hit': 3}}, 'checkpoint': 100} \n",
      "\n",
      "\n",
      "{'accuracy': 0.9814814814814815, 'mean_square_error': 0.08454661573982906, 'categorical_crossentropy': 0.2199115753173828, 'essential_metrics': {0: {'tp_hit': 80, 'fp_hit': 3, 'tn_hit': 25, 'fn_hit': 0}, 1: {'tp_hit': 13, 'fp_hit': 0, 'tn_hit': 93, 'fn_hit': 2}, 2: {'tp_hit': 12, 'fp_hit': 0, 'tn_hit': 95, 'fn_hit': 1}}, 'checkpoint': 110} \n",
      "\n",
      "\n",
      "{'accuracy': 0.9691358024691358, 'mean_square_error': 0.07154901247998736, 'categorical_crossentropy': 0.17367297631722908, 'essential_metrics': {0: {'tp_hit': 80, 'fp_hit': 5, 'tn_hit': 23, 'fn_hit': 0}, 1: {'tp_hit': 12, 'fp_hit': 0, 'tn_hit': 93, 'fn_hit': 3}, 2: {'tp_hit': 11, 'fp_hit': 0, 'tn_hit': 95, 'fn_hit': 2}}, 'checkpoint': 120} \n",
      "\n",
      "\n",
      "{'accuracy': 0.9691358024691358, 'mean_square_error': 0.07663696513971682, 'categorical_crossentropy': 0.17984353171454537, 'essential_metrics': {0: {'tp_hit': 80, 'fp_hit': 5, 'tn_hit': 23, 'fn_hit': 0}, 1: {'tp_hit': 12, 'fp_hit': 0, 'tn_hit': 93, 'fn_hit': 3}, 2: {'tp_hit': 11, 'fp_hit': 0, 'tn_hit': 95, 'fn_hit': 2}}, 'checkpoint': 130} \n",
      "\n",
      "\n",
      "{'accuracy': 0.9691358024691358, 'mean_square_error': 0.07611544714423259, 'categorical_crossentropy': 0.19065360669736509, 'essential_metrics': {0: {'tp_hit': 80, 'fp_hit': 5, 'tn_hit': 23, 'fn_hit': 0}, 1: {'tp_hit': 12, 'fp_hit': 0, 'tn_hit': 93, 'fn_hit': 3}, 2: {'tp_hit': 11, 'fp_hit': 0, 'tn_hit': 95, 'fn_hit': 2}}, 'checkpoint': 140} \n",
      "\n",
      "\n",
      "{'accuracy': 0.9691358024691358, 'mean_square_error': 0.07824487090031308, 'categorical_crossentropy': 0.17746861775716147, 'essential_metrics': {0: {'tp_hit': 80, 'fp_hit': 5, 'tn_hit': 23, 'fn_hit': 0}, 1: {'tp_hit': 12, 'fp_hit': 0, 'tn_hit': 93, 'fn_hit': 3}, 2: {'tp_hit': 11, 'fp_hit': 0, 'tn_hit': 95, 'fn_hit': 2}}, 'checkpoint': 150} \n",
      "\n",
      "\n",
      "{'accuracy': 0.9629629629629629, 'mean_square_error': 0.07425828535519967, 'categorical_crossentropy': 0.18095164828830296, 'essential_metrics': {0: {'tp_hit': 79, 'fp_hit': 5, 'tn_hit': 23, 'fn_hit': 1}, 1: {'tp_hit': 12, 'fp_hit': 0, 'tn_hit': 93, 'fn_hit': 3}, 2: {'tp_hit': 11, 'fp_hit': 1, 'tn_hit': 94, 'fn_hit': 2}}, 'checkpoint': 160} \n",
      "\n",
      "\n",
      "{'accuracy': 0.9814814814814815, 'mean_square_error': 0.0638719867605331, 'categorical_crossentropy': 0.16668326766402633, 'essential_metrics': {0: {'tp_hit': 80, 'fp_hit': 3, 'tn_hit': 25, 'fn_hit': 0}, 1: {'tp_hit': 14, 'fp_hit': 0, 'tn_hit': 93, 'fn_hit': 1}, 2: {'tp_hit': 11, 'fp_hit': 0, 'tn_hit': 95, 'fn_hit': 2}}, 'checkpoint': 170} \n",
      "\n",
      "\n",
      "{'accuracy': 0.9691358024691358, 'mean_square_error': 0.07080039289997034, 'categorical_crossentropy': 0.1696300153379087, 'essential_metrics': {0: {'tp_hit': 79, 'fp_hit': 4, 'tn_hit': 24, 'fn_hit': 1}, 1: {'tp_hit': 13, 'fp_hit': 0, 'tn_hit': 93, 'fn_hit': 2}, 2: {'tp_hit': 11, 'fp_hit': 1, 'tn_hit': 94, 'fn_hit': 2}}, 'checkpoint': 180} \n",
      "\n",
      "\n",
      "{'accuracy': 0.9753086419753086, 'mean_square_error': 0.06878424158445427, 'categorical_crossentropy': 0.1729393888402868, 'essential_metrics': {0: {'tp_hit': 80, 'fp_hit': 4, 'tn_hit': 24, 'fn_hit': 0}, 1: {'tp_hit': 13, 'fp_hit': 0, 'tn_hit': 93, 'fn_hit': 2}, 2: {'tp_hit': 11, 'fp_hit': 0, 'tn_hit': 95, 'fn_hit': 2}}, 'checkpoint': 190} \n",
      "\n",
      "\n",
      "{'accuracy': 0.9629629629629629, 'mean_square_error': 0.07925062625665315, 'categorical_crossentropy': 0.185546910321271, 'essential_metrics': {0: {'tp_hit': 79, 'fp_hit': 5, 'tn_hit': 23, 'fn_hit': 1}, 1: {'tp_hit': 12, 'fp_hit': 0, 'tn_hit': 93, 'fn_hit': 3}, 2: {'tp_hit': 11, 'fp_hit': 1, 'tn_hit': 94, 'fn_hit': 2}}, 'checkpoint': 200} \n",
      "\n",
      "\n"
     ]
    }
   ],
   "source": [
    "for checkpoint in checkpoints:\n",
    "    print(checkpoint, '\\n\\n')"
   ]
  },
  {
   "cell_type": "code",
   "execution_count": 14,
   "metadata": {},
   "outputs": [
    {
     "name": "stdout",
     "output_type": "stream",
     "text": [
      "Layer 1\n",
      "Neuron 0: weights:\n",
      "[-0.00595039  1.1026292   0.1420971  -0.6896723  -1.4440784 ]\n",
      " bias: 1.0579631328582764\n",
      "\n",
      "Neuron 1: weights:\n",
      "[ 0.04464709 -0.04870017  0.19626835  1.3267925   0.7928577 ]\n",
      " bias: -0.12012678384780884\n",
      "\n",
      "Neuron 2: weights:\n",
      "[-1.281797    2.428797    1.2492725   0.9173759  -0.09260977]\n",
      " bias: -1.2412599325180054\n",
      "\n",
      "Neuron 3: weights:\n",
      "[-0.0253425  -1.4535522  -0.02275458  0.09850558  0.07614427]\n",
      " bias: -0.2656947374343872\n",
      "\n",
      "$\n",
      "Layer 2\n",
      "Neuron 0: weights:\n",
      "[ 1.9685334 -0.7874602 -3.        -0.0308837]\n",
      " bias: 1.3811931610107422\n",
      "\n",
      "Neuron 1: weights:\n",
      "[ 0.10248481  0.09632787  3.         -1.1035193 ]\n",
      " bias: -0.7983553409576416\n",
      "\n",
      "Neuron 2: weights:\n",
      "[-3.          0.65199894 -0.28741485  2.690002  ]\n",
      " bias: 0.1273554265499115\n",
      "\n",
      "$\n",
      "\n"
     ]
    }
   ],
   "source": [
    "print(model)"
   ]
  },
  {
   "cell_type": "code",
   "execution_count": null,
   "metadata": {},
   "outputs": [],
   "source": []
  }
 ],
 "metadata": {
  "kernelspec": {
   "display_name": "Python 3",
   "language": "python",
   "name": "python3"
  },
  "language_info": {
   "codemirror_mode": {
    "name": "ipython",
    "version": 3
   },
   "file_extension": ".py",
   "mimetype": "text/x-python",
   "name": "python",
   "nbconvert_exporter": "python",
   "pygments_lexer": "ipython3",
   "version": "3.6.12"
  }
 },
 "nbformat": 4,
 "nbformat_minor": 2
}
