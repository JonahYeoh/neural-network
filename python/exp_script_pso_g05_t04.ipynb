{
 "cells": [
  {
   "cell_type": "code",
   "execution_count": 1,
   "metadata": {},
   "outputs": [],
   "source": [
    "# dependency\n",
    "import numpy as np\n",
    "import pandas as pd\n",
    "import copy\n",
    "import math\n",
    "import sys\n",
    "import os\n",
    "from activations import relu, leaky_relu, sigmoid, tanh, softmax, d_sigmoid, d_relu\n",
    "from initializers import glorot_uniform, random_normal, random_uniform\n",
    "from regularizers import l1_regularizer, l2_regularizer\n",
    "from utility import trim_tail, multiply, subtract, get_nparams, one_hot_encoding, get_data\n",
    "from metrics import MSE, CCE, ACC, PRECISION, RECALL, essential_metrics, wondering_penalty, close_gap_penalty\n",
    "from pso import PSO\n",
    "from ga import GA\n",
    "from nn import Network\n",
    "from layer import DenseLayer\n",
    "from scalers import MinMaxScaler, StandardScaler"
   ]
  },
  {
   "cell_type": "code",
   "execution_count": 2,
   "metadata": {},
   "outputs": [],
   "source": [
    "# reference\n",
    "metrics_fn_dict = dict()\n",
    "metrics_fn_dict['accuracy'] = ACC\n",
    "metrics_fn_dict['categorical_crossentropy'] = CCE\n",
    "metrics_fn_dict['mean_square_error'] = MSE\n",
    "metrics_fn_dict['precision'] = PRECISION\n",
    "metrics_fn_dict['recall'] = RECALL\n",
    "metrics_fn_dict['essential_metrics'] = essential_metrics"
   ]
  },
  {
   "cell_type": "code",
   "execution_count": 3,
   "metadata": {},
   "outputs": [],
   "source": [
    "# model\n",
    "model = Network(5, lr = None)\n",
    "model.add_layer(DenseLayer(1, 4, True, afn=sigmoid, dafn=None, rfn=None))\n",
    "model.add_layer(DenseLayer(2, 3, True, afn=softmax, dafn=None, rfn=None))"
   ]
  },
  {
   "cell_type": "code",
   "execution_count": 4,
   "metadata": {},
   "outputs": [
    {
     "name": "stdout",
     "output_type": "stream",
     "text": [
      "see one see two 2 2\n"
     ]
    }
   ],
   "source": [
    "pso = PSO(dict(m = 50,\n",
    "    weight_constraint = [-3, 3], \n",
    "    velocity_constraint = [-0.1, 0.1],\n",
    "    c1 = 2,\n",
    "    c2 = 2,\n",
    "    w = 1.4,\n",
    "    w_decay = 1,\n",
    "    scale_hyperparameter = False,\n",
    "    regularizer = None,\n",
    "    mask = True))"
   ]
  },
  {
   "cell_type": "code",
   "execution_count": 5,
   "metadata": {},
   "outputs": [
    {
     "name": "stdout",
     "output_type": "stream",
     "text": [
      "building layer 1 with 5\n",
      "24\n",
      "building layer 2 with 4\n",
      "15\n"
     ]
    }
   ],
   "source": [
    "model.compile(loss_fn = 'categorical_crossentropy', optimizer = pso, \\\n",
    "    metrics = ['accuracy', 'mean_square_error', 'categorical_crossentropy'])"
   ]
  },
  {
   "cell_type": "code",
   "execution_count": 6,
   "metadata": {},
   "outputs": [
    {
     "name": "stdout",
     "output_type": "stream",
     "text": [
      "<class 'pandas.core.frame.DataFrame'>\n",
      "RangeIndex: 107 entries, 0 to 106\n",
      "Data columns (total 6 columns):\n",
      " #   Column  Non-Null Count  Dtype  \n",
      "---  ------  --------------  -----  \n",
      " 0   f1      107 non-null    float32\n",
      " 1   f2      107 non-null    float32\n",
      " 2   f3      107 non-null    float32\n",
      " 3   f4      107 non-null    float32\n",
      " 4   f5      107 non-null    float32\n",
      " 5   label   107 non-null    float32\n",
      "dtypes: float32(6)\n",
      "memory usage: 2.6 KB\n",
      "None\n",
      "<class 'pandas.core.frame.DataFrame'>\n",
      "RangeIndex: 108 entries, 0 to 107\n",
      "Data columns (total 6 columns):\n",
      " #   Column  Non-Null Count  Dtype  \n",
      "---  ------  --------------  -----  \n",
      " 0   f1      108 non-null    float32\n",
      " 1   f2      108 non-null    float32\n",
      " 2   f3      108 non-null    float32\n",
      " 3   f4      108 non-null    float32\n",
      " 4   f5      108 non-null    float32\n",
      " 5   label   108 non-null    float32\n",
      "dtypes: float32(6)\n",
      "memory usage: 2.7 KB\n",
      "None\n"
     ]
    }
   ],
   "source": [
    "# data loading\n",
    "DATA = os.path.join('c:\\\\Users\\\\AI-lab\\\\github_repo\\\\neural-network\\\\', 'dataset')\n",
    "GROUP = 5\n",
    "COLUMNS = ['f1', 'f2', 'f3', 'f4', 'f5', 'label']\n",
    "N_CLASS = 3\n",
    "EPOCHS = 200\n",
    "train_dir, test_dir = \"..//dataset//training_data{}.txt\".format(GROUP), \"..//dataset//testing_data{}.txt\".format(GROUP)\n",
    "train, test = get_data(DATA, train_dir, COLUMNS), get_data(DATA, test_dir, COLUMNS)\n",
    "# shuffle\n",
    "train, test = train.sample(frac=1), test.sample(frac=1)\n",
    "x_train, y_train = train.drop('label', axis=1), train['label']\n",
    "x_test, y_test = test.drop('label', axis=1), test['label']"
   ]
  },
  {
   "cell_type": "code",
   "execution_count": 7,
   "metadata": {},
   "outputs": [],
   "source": [
    "# data scaling and encoding\n",
    "scaler = StandardScaler(['f1', 'f2', 'f3', 'f4', 'f5'])\n",
    "scaler.fit(x_train)\n",
    "x_train = scaler.transform(x_train)\n",
    "x_test = scaler.transform(x_test)\n",
    "y_train = one_hot_encoding(y_train, N_CLASS)\n",
    "y_test = one_hot_encoding(y_test, N_CLASS)"
   ]
  },
  {
   "cell_type": "code",
   "execution_count": 8,
   "metadata": {
    "tags": [
     "outputPrepend"
    ]
   },
   "outputs": [
    {
     "name": "stdout",
     "output_type": "stream",
     "text": [
      "Checkpoint 10, Accuracy: 0.8641975308641975, Loss: 0.8160324803105107\n",
      "Checkpoint 20, Accuracy: 0.8641975308641975, Loss: 0.741071206552011\n",
      "Checkpoint 30, Accuracy: 0.8641975308641975, Loss: 0.6375082510489004\n",
      "Checkpoint 40, Accuracy: 0.8580246913580247, Loss: 0.6239603537100332\n",
      "Checkpoint 50, Accuracy: 0.8888888888888888, Loss: 0.5527738288596824\n",
      "Checkpoint 60, Accuracy: 0.8827160493827161, Loss: 0.4277122638843678\n",
      "Checkpoint 70, Accuracy: 0.8950617283950617, Loss: 0.42395393936722364\n",
      "Checkpoint 80, Accuracy: 0.9567901234567902, Loss: 0.3540297967416269\n",
      "Checkpoint 90, Accuracy: 0.9506172839506173, Loss: 0.2995159361097548\n",
      "Checkpoint 100, Accuracy: 0.9506172839506173, Loss: 0.26275638297752096\n",
      "Checkpoint 110, Accuracy: 0.9629629629629629, Loss: 0.24156626948603876\n",
      "Checkpoint 120, Accuracy: 0.9567901234567902, Loss: 0.21463538982250072\n",
      "Checkpoint 130, Accuracy: 0.9444444444444444, Loss: 0.21227034816035517\n",
      "Checkpoint 140, Accuracy: 0.9506172839506173, Loss: 0.18043735292222765\n",
      "Checkpoint 150, Accuracy: 0.9629629629629629, Loss: 0.1575616024158619\n",
      "Checkpoint 160, Accuracy: 0.9629629629629629, Loss: 0.1572031091760706\n",
      "Checkpoint 170, Accuracy: 0.9691358024691358, Loss: 0.14063681496514213\n",
      "Checkpoint 180, Accuracy: 0.9691358024691358, Loss: 0.13118339467931678\n",
      "Checkpoint 190, Accuracy: 0.9814814814814815, Loss: 0.1098017515959563\n",
      "Checkpoint 200, Accuracy: 0.9814814814814815, Loss: 0.09901715207982946\n"
     ]
    }
   ],
   "source": [
    "# learning phase\n",
    "breakpoint = 10\n",
    "checkpoints = list()\n",
    "history = list()\n",
    "for century in range(0, EPOCHS, breakpoint):\n",
    "    sub_history = model.fit(x_train, y_train, breakpoint, verbose = 0)\n",
    "    score = model.evaluate(x_test, y_test, False, verbose = 0)\n",
    "    print('Checkpoint {}, Accuracy: {}, Loss: {}'.format(century+breakpoint, score['accuracy'], score[model.loss_fn]))\n",
    "    score['checkpoint'] = century + breakpoint\n",
    "    checkpoints.append(score)\n",
    "    history.extend(sub_history)"
   ]
  },
  {
   "cell_type": "code",
   "execution_count": 9,
   "metadata": {},
   "outputs": [],
   "source": [
    "import matplotlib.pyplot as plt\n",
    "\n",
    "def draw_plot(x, y_list, x_label=None, y_label=None, legend=None, title=None):\n",
    "    fig, ax = plt.subplots(figsize=(12,5))\n",
    "    for xi, yi in zip(x, y_list):\n",
    "        ax.plot(xi, yi)\n",
    "    if x_label is not None and y_label is not None:\n",
    "        ax.set(xlabel=x_label, ylabel=y_label, title='{} VS {}'.format(x_label, y_label))\n",
    "    if legend is not None:\n",
    "        ax.legend(legend)\n",
    "    ax.grid()\n",
    "    plt.show()"
   ]
  },
  {
   "cell_type": "code",
   "execution_count": 10,
   "metadata": {},
   "outputs": [
    {
     "name": "stdout",
     "output_type": "stream",
     "text": [
      "[1. 0. 0.] <-> [9.7852498e-01 2.0750875e-02 7.2414678e-04]\n",
      "[1. 0. 0.] <-> [0.98552334 0.01292215 0.00155449]\n",
      "[1. 0. 0.] <-> [0.9851109  0.01324365 0.00164551]\n",
      "[1. 0. 0.] <-> [0.97216743 0.01630454 0.01152808]\n",
      "[1. 0. 0.] <-> [0.9478719  0.01093258 0.04119539]\n",
      "[1. 0. 0.] <-> [0.980682   0.0094541  0.00986387]\n",
      "[0. 1. 0.] <-> [8.6006485e-02 9.1377401e-01 2.1953559e-04]\n",
      "[1. 0. 0.] <-> [9.6519762e-01 3.4511786e-02 2.9057713e-04]\n",
      "[1. 0. 0.] <-> [9.7563529e-01 2.3979178e-02 3.8559455e-04]\n",
      "[1. 0. 0.] <-> [9.6810973e-01 3.1491481e-02 3.9875897e-04]\n",
      "[1. 0. 0.] <-> [9.8239797e-01 1.6936718e-02 6.6535251e-04]\n",
      "[0. 0. 1.] <-> [0.01689249 0.00107631 0.9820312 ]\n",
      "[1. 0. 0.] <-> [0.9813803  0.01357288 0.00504678]\n",
      "[0. 1. 0.] <-> [1.0936326e-01 8.9035416e-01 2.8250040e-04]\n",
      "[1. 0. 0.] <-> [0.6187016  0.00885811 0.37244028]\n",
      "[1. 0. 0.] <-> [0.98433083 0.01414249 0.00152671]\n",
      "[1. 0. 0.] <-> [0.93616796 0.01037768 0.05345435]\n",
      "[1. 0. 0.] <-> [0.9604431  0.01114196 0.0284149 ]\n",
      "[1. 0. 0.] <-> [8.9669913e-01 1.0259440e-01 7.0649997e-04]\n",
      "[1. 0. 0.] <-> [9.428980e-01 5.685059e-02 2.514874e-04]\n",
      "[0. 0. 1.] <-> [0.01940287 0.00116462 0.97943246]\n",
      "[1. 0. 0.] <-> [0.98303586 0.00904953 0.00791455]\n",
      "[1. 0. 0.] <-> [9.8275572e-01 1.6551461e-02 6.9281366e-04]\n",
      "[1. 0. 0.] <-> [0.9581939  0.00624346 0.03556263]\n",
      "[0. 0. 1.] <-> [0.01759591 0.00110023 0.9813038 ]\n",
      "[0. 0. 1.] <-> [0.01723012 0.00108595 0.9816839 ]\n",
      "[1. 0. 0.] <-> [9.7127455e-01 2.7948814e-02 7.7652209e-04]\n",
      "[1. 0. 0.] <-> [0.9488426  0.01205035 0.03910701]\n",
      "[1. 0. 0.] <-> [0.9858197  0.01052    0.00366021]\n",
      "[1. 0. 0.] <-> [8.1992066e-01 1.7953593e-01 5.4345810e-04]\n",
      "[1. 0. 0.] <-> [0.63848877 0.0080665  0.35344476]\n",
      "[0. 1. 0.] <-> [3.2034808e-01 6.7917603e-01 4.7594728e-04]\n",
      "[1. 0. 0.] <-> [0.8506565  0.01623122 0.13311234]\n",
      "[0. 0. 1.] <-> [0.01689959 0.00107599 0.98202443]\n",
      "[0. 1. 0.] <-> [1.0839819e-01 8.9132470e-01 2.7708084e-04]\n",
      "[1. 0. 0.] <-> [0.9866288  0.01109803 0.0022732 ]\n",
      "[0. 1. 0.] <-> [8.6773485e-02 9.1298544e-01 2.4112390e-04]\n",
      "[0. 1. 0.] <-> [8.5092485e-02 9.1468775e-01 2.1974486e-04]\n",
      "[1. 0. 0.] <-> [9.7645992e-01 2.2957437e-02 5.8254524e-04]\n",
      "[1. 0. 0.] <-> [0.98726386 0.01046844 0.00226761]\n",
      "[1. 0. 0.] <-> [9.836146e-01 1.572455e-02 6.608291e-04]\n",
      "[1. 0. 0.] <-> [0.9874773  0.00923103 0.00329172]\n",
      "[1. 0. 0.] <-> [9.7618234e-01 2.3232523e-02 5.8505055e-04]\n",
      "[0. 1. 0.] <-> [8.5099265e-02 9.1468042e-01 2.2037078e-04]\n",
      "[0. 1. 0.] <-> [2.5022173e-01 7.4940252e-01 3.7575635e-04]\n",
      "[0. 1. 0.] <-> [8.5066512e-02 9.1471541e-01 2.1803348e-04]\n",
      "[0. 0. 1.] <-> [0.3199823 0.0041602 0.6758575]\n",
      "[1. 0. 0.] <-> [0.9855306  0.01321409 0.00125534]\n",
      "[1. 0. 0.] <-> [0.98657054 0.01172823 0.00170124]\n",
      "[1. 0. 0.] <-> [0.8826495  0.00826741 0.10908308]\n",
      "[1. 0. 0.] <-> [9.7967368e-01 1.9859176e-02 4.6718851e-04]\n",
      "[1. 0. 0.] <-> [9.7789723e-01 2.1724941e-02 3.7782351e-04]\n",
      "[1. 0. 0.] <-> [0.9876345  0.0104463  0.00191919]\n",
      "[1. 0. 0.] <-> [9.8108613e-01 1.8359195e-02 5.5468373e-04]\n",
      "[1. 0. 0.] <-> [0.965601   0.00720539 0.02719363]\n",
      "[0. 0. 1.] <-> [0.01900121 0.00119659 0.9798022 ]\n",
      "[1. 0. 0.] <-> [0.9807884  0.00763705 0.01157447]\n",
      "[0. 1. 0.] <-> [1.5065560e-01 8.4904414e-01 3.0033811e-04]\n",
      "[1. 0. 0.] <-> [0.940603  0.0109936 0.0484033]\n",
      "[1. 0. 0.] <-> [9.8174560e-01 1.7675297e-02 5.7910476e-04]\n",
      "[1. 0. 0.] <-> [9.7756064e-01 2.2023413e-02 4.1586754e-04]\n",
      "[1. 0. 0.] <-> [0.98280174 0.00832046 0.0088778 ]\n",
      "[1. 0. 0.] <-> [0.9801695  0.00741653 0.01241402]\n",
      "[0. 0. 1.] <-> [0.01738257 0.00109274 0.9815247 ]\n",
      "[1. 0. 0.] <-> [9.7793955e-01 2.1634055e-02 4.2643634e-04]\n",
      "[1. 0. 0.] <-> [0.9545035  0.00929253 0.03620396]\n",
      "[1. 0. 0.] <-> [0.9731603  0.01584458 0.0109951 ]\n",
      "[1. 0. 0.] <-> [9.8437679e-01 1.4814030e-02 8.0918736e-04]\n",
      "[0. 0. 1.] <-> [0.01699406 0.0010788  0.9819271 ]\n",
      "[1. 0. 0.] <-> [0.9867382  0.00978751 0.00347429]\n",
      "[1. 0. 0.] <-> [9.4671810e-01 5.2852247e-02 4.2960388e-04]\n",
      "[1. 0. 0.] <-> [9.8359942e-01 1.5622842e-02 7.7779475e-04]\n",
      "[1. 0. 0.] <-> [0.98562235 0.01322405 0.00115354]\n",
      "[1. 0. 0.] <-> [9.8493409e-01 1.4112357e-02 9.5353392e-04]\n",
      "[1. 0. 0.] <-> [0.9647534  0.00964228 0.02560438]\n",
      "[1. 0. 0.] <-> [9.4691056e-01 5.2524604e-02 5.6488253e-04]\n",
      "[0. 1. 0.] <-> [2.1529117e-01 7.8421634e-01 4.9252913e-04]\n",
      "[1. 0. 0.] <-> [9.8269171e-01 1.6657243e-02 6.5104722e-04]\n",
      "[1. 0. 0.] <-> [0.9849082  0.01361944 0.00147236]\n",
      "[1. 0. 0.] <-> [9.7337466e-01 2.6059553e-02 5.6580146e-04]\n",
      "[0. 0. 1.] <-> [0.7763604  0.00682684 0.21681286]\n",
      "[1. 0. 0.] <-> [0.96502507 0.0076903  0.02728461]\n",
      "[1. 0. 0.] <-> [0.9856656  0.01324097 0.00109339]\n",
      "[1. 0. 0.] <-> [9.8489326e-01 1.4176330e-02 9.3029882e-04]\n",
      "[1. 0. 0.] <-> [9.8047626e-01 1.8997241e-02 5.2645203e-04]\n",
      "[0. 0. 1.] <-> [0.01694194 0.00107717 0.98198086]\n",
      "[1. 0. 0.] <-> [0.98627603 0.01074804 0.00297595]\n",
      "[1. 0. 0.] <-> [0.90089345 0.0149336  0.08417302]\n",
      "[0. 1. 0.] <-> [8.5062601e-02 9.1471940e-01 2.1802675e-04]\n",
      "[1. 0. 0.] <-> [0.7678876  0.01627583 0.21583666]\n",
      "[0. 1. 0.] <-> [0.5368165  0.46255544 0.00062808]\n",
      "[1. 0. 0.] <-> [0.985422   0.0090777  0.00550022]\n",
      "[0. 0. 1.] <-> [0.01828433 0.00114386 0.98057175]\n",
      "[1. 0. 0.] <-> [9.7274280e-01 2.6850335e-02 4.0695225e-04]\n",
      "[1. 0. 0.] <-> [0.9834327  0.01361806 0.00294929]\n",
      "[0. 0. 1.] <-> [0.74350005 0.00639455 0.25010535]\n",
      "[0. 0. 1.] <-> [0.01692733 0.00107688 0.9819958 ]\n",
      "[1. 0. 0.] <-> [9.6795255e-01 3.1754531e-02 2.9285744e-04]\n",
      "[1. 0. 0.] <-> [0.9162087  0.00870083 0.07509046]\n",
      "[0. 1. 0.] <-> [4.6525311e-01 5.3428638e-01 4.6051972e-04]\n",
      "[1. 0. 0.] <-> [9.8259443e-01 1.6620941e-02 7.8462623e-04]\n",
      "[0. 0. 1.] <-> [0.02020878 0.00124829 0.9785429 ]\n",
      "[0. 1. 0.] <-> [8.5065700e-02 9.1471630e-01 2.1802621e-04]\n",
      "[1. 0. 0.] <-> [0.98640394 0.01095664 0.0026394 ]\n",
      "[1. 0. 0.] <-> [0.98410887 0.01025418 0.00563693]\n",
      "[0. 1. 0.] <-> [8.5063130e-02 9.1471887e-01 2.1798005e-04]\n",
      "[0. 1. 0.] <-> [8.5100673e-02 9.1468120e-01 2.1816509e-04]\n",
      "[1. 0. 0.] <-> [0.98679835 0.01193037 0.00127126]\n",
      "{'accuracy': 0.9814814814814815, 'mean_square_error': 0.047413628259787635, 'categorical_crossentropy': 0.09901715207982946, 'essential_metrics': {0: {'tp_hit': 76, 'fp_hit': 3, 'tn_hit': 29, 'fn_hit': 0}, 1: {'tp_hit': 16, 'fp_hit': 0, 'tn_hit': 91, 'fn_hit': 1}, 2: {'tp_hit': 13, 'fp_hit': 0, 'tn_hit': 93, 'fn_hit': 2}}}\n"
     ]
    }
   ],
   "source": [
    "# recall phase\n",
    "score = model.evaluate(x_test, y_test, False)\n",
    "print(score)"
   ]
  },
  {
   "cell_type": "code",
   "execution_count": 11,
   "metadata": {},
   "outputs": [],
   "source": [
    "train_acc = [h['accuracy'] for h in history]\n",
    "train_mse = [h['mean_square_error'] for h in history]\n",
    "train_cce = [h['categorical_crossentropy'] for h in history]"
   ]
  },
  {
   "cell_type": "code",
   "execution_count": 12,
   "metadata": {},
   "outputs": [
    {
     "data": {
      "image/png": "[encoded data removed]",
      "text/plain": [
       "<Figure size 864x360 with 1 Axes>"
      ]
     },
     "metadata": {
      "needs_background": "light"
     },
     "output_type": "display_data"
    },
    {
     "data": {
      "image/png": "[encoded data removed]",
      "text/plain": [
       "<Figure size 864x360 with 1 Axes>"
      ]
     },
     "metadata": {
      "needs_background": "light"
     },
     "output_type": "display_data"
    }
   ],
   "source": [
    "draw_plot(x = [[i for i in range(len(history))], [(i+1)*breakpoint for i in range(len(checkpoints))]], y_list = [train_cce, [ ckp[model.loss_fn] for ckp in checkpoints ]], x_label = 'Epochs', \\\n",
    "    y_label = model.loss_fn, legend=['train', 'test'])\n",
    "acc = [ ckp['accuracy'] for ckp in checkpoints ]\n",
    "draw_plot(x = [[i for i in range(len(history))], [(i+1)*breakpoint for i in range(len(checkpoints))]], y_list = [train_acc, acc], x_label = 'Checkpoints', \\\n",
    "    y_label = 'accuracy', legend=['train', 'test'])"
   ]
  },
  {
   "cell_type": "code",
   "execution_count": 13,
   "metadata": {},
   "outputs": [
    {
     "name": "stdout",
     "output_type": "stream",
     "text": [
      "{'accuracy': 0.8641975308641975, 'mean_square_error': 0.3682056553641737, 'categorical_crossentropy': 0.8160324803105107, 'essential_metrics': {0: {'tp_hit': 73, 'fp_hit': 11, 'tn_hit': 21, 'fn_hit': 3}, 1: {'tp_hit': 13, 'fp_hit': 11, 'tn_hit': 80, 'fn_hit': 4}, 2: {'tp_hit': 0, 'fp_hit': 0, 'tn_hit': 93, 'fn_hit': 15}}, 'checkpoint': 10} \n",
      "\n",
      "\n",
      "{'accuracy': 0.8641975308641975, 'mean_square_error': 0.34996673355678126, 'categorical_crossentropy': 0.741071206552011, 'essential_metrics': {0: {'tp_hit': 75, 'fp_hit': 14, 'tn_hit': 18, 'fn_hit': 1}, 1: {'tp_hit': 11, 'fp_hit': 8, 'tn_hit': 83, 'fn_hit': 6}, 2: {'tp_hit': 0, 'fp_hit': 0, 'tn_hit': 93, 'fn_hit': 15}}, 'checkpoint': 20} \n",
      "\n",
      "\n",
      "{'accuracy': 0.8641975308641975, 'mean_square_error': 0.32014119555552734, 'categorical_crossentropy': 0.6375082510489004, 'essential_metrics': {0: {'tp_hit': 76, 'fp_hit': 20, 'tn_hit': 12, 'fn_hit': 0}, 1: {'tp_hit': 10, 'fp_hit': 2, 'tn_hit': 89, 'fn_hit': 7}, 2: {'tp_hit': 0, 'fp_hit': 0, 'tn_hit': 93, 'fn_hit': 15}}, 'checkpoint': 30} \n",
      "\n",
      "\n",
      "{'accuracy': 0.8580246913580247, 'mean_square_error': 0.31590124380565876, 'categorical_crossentropy': 0.6239603537100332, 'essential_metrics': {0: {'tp_hit': 76, 'fp_hit': 22, 'tn_hit': 10, 'fn_hit': 0}, 1: {'tp_hit': 9, 'fp_hit': 1, 'tn_hit': 90, 'fn_hit': 8}, 2: {'tp_hit': 0, 'fp_hit': 0, 'tn_hit': 93, 'fn_hit': 15}}, 'checkpoint': 40} \n",
      "\n",
      "\n",
      "{'accuracy': 0.8888888888888888, 'mean_square_error': 0.29301295729992083, 'categorical_crossentropy': 0.5527738288596824, 'essential_metrics': {0: {'tp_hit': 74, 'fp_hit': 15, 'tn_hit': 17, 'fn_hit': 2}, 1: {'tp_hit': 10, 'fp_hit': 1, 'tn_hit': 90, 'fn_hit': 7}, 2: {'tp_hit': 6, 'fp_hit': 2, 'tn_hit': 91, 'fn_hit': 9}}, 'checkpoint': 50} \n",
      "\n",
      "\n",
      "{'accuracy': 0.8827160493827161, 'mean_square_error': 0.21519179806150202, 'categorical_crossentropy': 0.4277122638843678, 'essential_metrics': {0: {'tp_hit': 76, 'fp_hit': 19, 'tn_hit': 13, 'fn_hit': 0}, 1: {'tp_hit': 13, 'fp_hit': 0, 'tn_hit': 91, 'fn_hit': 4}, 2: {'tp_hit': 0, 'fp_hit': 0, 'tn_hit': 93, 'fn_hit': 15}}, 'checkpoint': 60} \n",
      "\n",
      "\n",
      "{'accuracy': 0.8950617283950617, 'mean_square_error': 0.2226511998144814, 'categorical_crossentropy': 0.42395393936722364, 'essential_metrics': {0: {'tp_hit': 76, 'fp_hit': 17, 'tn_hit': 15, 'fn_hit': 0}, 1: {'tp_hit': 15, 'fp_hit': 0, 'tn_hit': 91, 'fn_hit': 2}, 2: {'tp_hit': 0, 'fp_hit': 0, 'tn_hit': 93, 'fn_hit': 15}}, 'checkpoint': 70} \n",
      "\n",
      "\n",
      "{'accuracy': 0.9567901234567902, 'mean_square_error': 0.17311360256160693, 'categorical_crossentropy': 0.3540297967416269, 'essential_metrics': {0: {'tp_hit': 75, 'fp_hit': 6, 'tn_hit': 26, 'fn_hit': 1}, 1: {'tp_hit': 14, 'fp_hit': 0, 'tn_hit': 91, 'fn_hit': 3}, 2: {'tp_hit': 12, 'fp_hit': 1, 'tn_hit': 92, 'fn_hit': 3}}, 'checkpoint': 80} \n",
      "\n",
      "\n",
      "{'accuracy': 0.9506172839506173, 'mean_square_error': 0.13913781948678489, 'categorical_crossentropy': 0.2995159361097548, 'essential_metrics': {0: {'tp_hit': 74, 'fp_hit': 6, 'tn_hit': 26, 'fn_hit': 2}, 1: {'tp_hit': 16, 'fp_hit': 0, 'tn_hit': 91, 'fn_hit': 1}, 2: {'tp_hit': 10, 'fp_hit': 2, 'tn_hit': 91, 'fn_hit': 5}}, 'checkpoint': 90} \n",
      "\n",
      "\n",
      "{'accuracy': 0.9506172839506173, 'mean_square_error': 0.13021629562936782, 'categorical_crossentropy': 0.26275638297752096, 'essential_metrics': {0: {'tp_hit': 74, 'fp_hit': 6, 'tn_hit': 26, 'fn_hit': 2}, 1: {'tp_hit': 15, 'fp_hit': 0, 'tn_hit': 91, 'fn_hit': 2}, 2: {'tp_hit': 11, 'fp_hit': 2, 'tn_hit': 91, 'fn_hit': 4}}, 'checkpoint': 100} \n",
      "\n",
      "\n",
      "{'accuracy': 0.9629629629629629, 'mean_square_error': 0.11159106990775852, 'categorical_crossentropy': 0.24156626948603876, 'essential_metrics': {0: {'tp_hit': 74, 'fp_hit': 4, 'tn_hit': 28, 'fn_hit': 2}, 1: {'tp_hit': 16, 'fp_hit': 0, 'tn_hit': 91, 'fn_hit': 1}, 2: {'tp_hit': 12, 'fp_hit': 2, 'tn_hit': 91, 'fn_hit': 3}}, 'checkpoint': 110} \n",
      "\n",
      "\n",
      "{'accuracy': 0.9567901234567902, 'mean_square_error': 0.10544168632219832, 'categorical_crossentropy': 0.21463538982250072, 'essential_metrics': {0: {'tp_hit': 74, 'fp_hit': 5, 'tn_hit': 27, 'fn_hit': 2}, 1: {'tp_hit': 15, 'fp_hit': 0, 'tn_hit': 91, 'fn_hit': 2}, 2: {'tp_hit': 12, 'fp_hit': 2, 'tn_hit': 91, 'fn_hit': 3}}, 'checkpoint': 120} \n",
      "\n",
      "\n",
      "{'accuracy': 0.9444444444444444, 'mean_square_error': 0.11170012763707346, 'categorical_crossentropy': 0.21227034816035517, 'essential_metrics': {0: {'tp_hit': 74, 'fp_hit': 7, 'tn_hit': 25, 'fn_hit': 2}, 1: {'tp_hit': 13, 'fp_hit': 0, 'tn_hit': 91, 'fn_hit': 4}, 2: {'tp_hit': 12, 'fp_hit': 2, 'tn_hit': 91, 'fn_hit': 3}}, 'checkpoint': 130} \n",
      "\n",
      "\n",
      "{'accuracy': 0.9506172839506173, 'mean_square_error': 0.09306299291247512, 'categorical_crossentropy': 0.18043735292222765, 'essential_metrics': {0: {'tp_hit': 74, 'fp_hit': 6, 'tn_hit': 26, 'fn_hit': 2}, 1: {'tp_hit': 14, 'fp_hit': 0, 'tn_hit': 91, 'fn_hit': 3}, 2: {'tp_hit': 12, 'fp_hit': 2, 'tn_hit': 91, 'fn_hit': 3}}, 'checkpoint': 140} \n",
      "\n",
      "\n",
      "{'accuracy': 0.9629629629629629, 'mean_square_error': 0.07875892458276451, 'categorical_crossentropy': 0.1575616024158619, 'essential_metrics': {0: {'tp_hit': 75, 'fp_hit': 5, 'tn_hit': 27, 'fn_hit': 1}, 1: {'tp_hit': 15, 'fp_hit': 0, 'tn_hit': 91, 'fn_hit': 2}, 2: {'tp_hit': 12, 'fp_hit': 1, 'tn_hit': 92, 'fn_hit': 3}}, 'checkpoint': 150} \n",
      "\n",
      "\n",
      "{'accuracy': 0.9629629629629629, 'mean_square_error': 0.08368145394835767, 'categorical_crossentropy': 0.1572031091760706, 'essential_metrics': {0: {'tp_hit': 74, 'fp_hit': 4, 'tn_hit': 28, 'fn_hit': 2}, 1: {'tp_hit': 15, 'fp_hit': 0, 'tn_hit': 91, 'fn_hit': 2}, 2: {'tp_hit': 13, 'fp_hit': 2, 'tn_hit': 91, 'fn_hit': 2}}, 'checkpoint': 160} \n",
      "\n",
      "\n",
      "{'accuracy': 0.9691358024691358, 'mean_square_error': 0.07069871519205427, 'categorical_crossentropy': 0.14063681496514213, 'essential_metrics': {0: {'tp_hit': 75, 'fp_hit': 4, 'tn_hit': 28, 'fn_hit': 1}, 1: {'tp_hit': 15, 'fp_hit': 0, 'tn_hit': 91, 'fn_hit': 2}, 2: {'tp_hit': 13, 'fp_hit': 1, 'tn_hit': 92, 'fn_hit': 2}}, 'checkpoint': 170} \n",
      "\n",
      "\n",
      "{'accuracy': 0.9691358024691358, 'mean_square_error': 0.06513917136962212, 'categorical_crossentropy': 0.13118339467931678, 'essential_metrics': {0: {'tp_hit': 75, 'fp_hit': 4, 'tn_hit': 28, 'fn_hit': 1}, 1: {'tp_hit': 16, 'fp_hit': 0, 'tn_hit': 91, 'fn_hit': 1}, 2: {'tp_hit': 12, 'fp_hit': 1, 'tn_hit': 92, 'fn_hit': 3}}, 'checkpoint': 180} \n",
      "\n",
      "\n",
      "{'accuracy': 0.9814814814814815, 'mean_square_error': 0.05599334098216518, 'categorical_crossentropy': 0.1098017515959563, 'essential_metrics': {0: {'tp_hit': 76, 'fp_hit': 3, 'tn_hit': 29, 'fn_hit': 0}, 1: {'tp_hit': 16, 'fp_hit': 0, 'tn_hit': 91, 'fn_hit': 1}, 2: {'tp_hit': 13, 'fp_hit': 0, 'tn_hit': 93, 'fn_hit': 2}}, 'checkpoint': 190} \n",
      "\n",
      "\n",
      "{'accuracy': 0.9814814814814815, 'mean_square_error': 0.047413628259787635, 'categorical_crossentropy': 0.09901715207982946, 'essential_metrics': {0: {'tp_hit': 76, 'fp_hit': 3, 'tn_hit': 29, 'fn_hit': 0}, 1: {'tp_hit': 16, 'fp_hit': 0, 'tn_hit': 91, 'fn_hit': 1}, 2: {'tp_hit': 13, 'fp_hit': 0, 'tn_hit': 93, 'fn_hit': 2}}, 'checkpoint': 200} \n",
      "\n",
      "\n"
     ]
    }
   ],
   "source": [
    "for checkpoint in checkpoints:\n",
    "    print(checkpoint, '\\n\\n')"
   ]
  },
  {
   "cell_type": "code",
   "execution_count": 14,
   "metadata": {},
   "outputs": [
    {
     "name": "stdout",
     "output_type": "stream",
     "text": [
      "Layer 1\n",
      "Neuron 0: weights:\n",
      "[ 0.84563774 -2.5660396  -0.16532098  1.0505567   0.96696967]\n",
      " bias: -0.27782344818115234\n",
      "\n",
      "Neuron 1: weights:\n",
      "[ 1.377786   -2.2024841  -1.2922181   0.5773534   0.79076374]\n",
      " bias: -3.0\n",
      "\n",
      "Neuron 2: weights:\n",
      "[-1.7256961  3.         3.         1.7493492 -1.9804696]\n",
      " bias: -3.0\n",
      "\n",
      "Neuron 3: weights:\n",
      "[ 0.4207247   2.86533    -0.69233656 -1.6328154  -1.3327608 ]\n",
      " bias: 1.4142850637435913\n",
      "\n",
      "$\n",
      "Layer 2\n",
      "Neuron 0: weights:\n",
      "[-0.49191788 -3.         -3.          3.        ]\n",
      " bias: 3.0\n",
      "\n",
      "Neuron 1: weights:\n",
      "[-3.          0.37975985  3.          3.        ]\n",
      " bias: -0.6247647404670715\n",
      "\n",
      "Neuron 2: weights:\n",
      "[ 2.0493748   3.         -0.23988405 -1.2498014 ]\n",
      " bias: -1.4772075414657593\n",
      "\n",
      "$\n",
      "\n"
     ]
    }
   ],
   "source": [
    "print(model)"
   ]
  },
  {
   "cell_type": "code",
   "execution_count": null,
   "metadata": {},
   "outputs": [],
   "source": []
  }
 ],
 "metadata": {
  "kernelspec": {
   "display_name": "Python 3",
   "language": "python",
   "name": "python3"
  },
  "language_info": {
   "codemirror_mode": {
    "name": "ipython",
    "version": 3
   },
   "file_extension": ".py",
   "mimetype": "text/x-python",
   "name": "python",
   "nbconvert_exporter": "python",
   "pygments_lexer": "ipython3",
   "version": "3.6.12"
  }
 },
 "nbformat": 4,
 "nbformat_minor": 2
}
