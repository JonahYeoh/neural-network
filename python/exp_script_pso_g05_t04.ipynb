{
 "cells": [
  {
   "cell_type": "code",
   "execution_count": 1,
   "metadata": {},
   "outputs": [],
   "source": [
    "# dependency\n",
    "import numpy as np\n",
    "import pandas as pd\n",
    "import copy\n",
    "import math\n",
    "import sys\n",
    "import os\n",
    "from activations import relu, leaky_relu, sigmoid, tanh, softmax, d_sigmoid, d_relu\n",
    "from initializers import glorot_uniform, random_normal, random_uniform\n",
    "from regularizers import l1_regularizer, l2_regularizer\n",
    "from utility import trim_tail, multiply, subtract, get_nparams, one_hot_encoding, get_data\n",
    "from metrics import MSE, CCE, ACC, PRECISION, RECALL, essential_metrics, wondering_penalty, close_gap_penalty\n",
    "from pso import PSO\n",
    "from ga import GA\n",
    "from nn import Network\n",
    "from layer import DenseLayer\n",
    "from scalers import MinMaxScaler, StandardScaler"
   ]
  },
  {
   "cell_type": "code",
   "execution_count": 2,
   "metadata": {},
   "outputs": [],
   "source": [
    "# reference\n",
    "metrics_fn_dict = dict()\n",
    "metrics_fn_dict['accuracy'] = ACC\n",
    "metrics_fn_dict['categorical_crossentropy'] = CCE\n",
    "metrics_fn_dict['mean_square_error'] = MSE\n",
    "metrics_fn_dict['precision'] = PRECISION\n",
    "metrics_fn_dict['recall'] = RECALL\n",
    "metrics_fn_dict['essential_metrics'] = essential_metrics"
   ]
  },
  {
   "cell_type": "code",
   "execution_count": 3,
   "metadata": {},
   "outputs": [],
   "source": [
    "# model\n",
    "model = Network(5, lr = None)\n",
    "model.add_layer(DenseLayer(1, 4, True, afn=sigmoid, dafn=None, rfn=None))\n",
    "model.add_layer(DenseLayer(2, 3, True, afn=softmax, dafn=None, rfn=None))"
   ]
  },
  {
   "cell_type": "code",
   "execution_count": 4,
   "metadata": {},
   "outputs": [],
   "source": [
    "pso = PSO(dict(m = 50,\n",
    "    weight_constraint = [-3, 3], \n",
    "    velocity_constraint = [-0.1, 0.1],\n",
    "    c1 = 2,\n",
    "    c2 = 2,\n",
    "    w = 1,\n",
    "    w_decay = 1,\n",
    "    scale_hyperparameter = False,\n",
    "    regularizer = l2_regularizer,\n",
    "    mask = True))"
   ]
  },
  {
   "cell_type": "code",
   "execution_count": 5,
   "metadata": {},
   "outputs": [
    {
     "name": "stdout",
     "output_type": "stream",
     "text": [
      "building layer 1 with 5\n",
      "24\n",
      "building layer 2 with 4\n",
      "15\n"
     ]
    }
   ],
   "source": [
    "model.compile(loss_fn = 'categorical_crossentropy', optimizer = pso, \\\n",
    "    metrics = ['accuracy', 'mean_square_error', 'categorical_crossentropy'])"
   ]
  },
  {
   "cell_type": "code",
   "execution_count": 6,
   "metadata": {},
   "outputs": [
    {
     "name": "stdout",
     "output_type": "stream",
     "text": [
      "<class 'pandas.core.frame.DataFrame'>\n",
      "RangeIndex: 107 entries, 0 to 106\n",
      "Data columns (total 6 columns):\n",
      " #   Column  Non-Null Count  Dtype  \n",
      "---  ------  --------------  -----  \n",
      " 0   f1      107 non-null    float32\n",
      " 1   f2      107 non-null    float32\n",
      " 2   f3      107 non-null    float32\n",
      " 3   f4      107 non-null    float32\n",
      " 4   f5      107 non-null    float32\n",
      " 5   label   107 non-null    float32\n",
      "dtypes: float32(6)\n",
      "memory usage: 2.6 KB\n",
      "None\n",
      "<class 'pandas.core.frame.DataFrame'>\n",
      "RangeIndex: 108 entries, 0 to 107\n",
      "Data columns (total 6 columns):\n",
      " #   Column  Non-Null Count  Dtype  \n",
      "---  ------  --------------  -----  \n",
      " 0   f1      108 non-null    float32\n",
      " 1   f2      108 non-null    float32\n",
      " 2   f3      108 non-null    float32\n",
      " 3   f4      108 non-null    float32\n",
      " 4   f5      108 non-null    float32\n",
      " 5   label   108 non-null    float32\n",
      "dtypes: float32(6)\n",
      "memory usage: 2.7 KB\n",
      "None\n"
     ]
    }
   ],
   "source": [
    "# data loading\n",
    "DATA = os.path.join('c:\\\\Users\\\\tcumi\\\\github_repo\\\\neural-network\\\\', 'dataset')\n",
    "GROUP = 5\n",
    "COLUMNS = ['f1', 'f2', 'f3', 'f4', 'f5', 'label']\n",
    "N_CLASS = 3\n",
    "EPOCHS = 500\n",
    "train_dir, test_dir = \"..//dataset//training_data{}.txt\".format(GROUP), \"..//dataset//testing_data{}.txt\".format(GROUP)\n",
    "train, test = get_data(DATA, train_dir, COLUMNS), get_data(DATA, test_dir, COLUMNS)\n",
    "# shuffle\n",
    "train, test = train.sample(frac=1), test.sample(frac=1)\n",
    "x_train, y_train = train.drop('label', axis=1), train['label']\n",
    "x_test, y_test = test.drop('label', axis=1), test['label']"
   ]
  },
  {
   "cell_type": "code",
   "execution_count": 7,
   "metadata": {},
   "outputs": [],
   "source": [
    "# data scaling and encoding\n",
    "scaler = StandardScaler(['f1', 'f2', 'f3', 'f4', 'f5'])\n",
    "scaler.fit(x_train)\n",
    "x_train = scaler.transform(x_train)\n",
    "x_test = scaler.transform(x_test)\n",
    "y_train = one_hot_encoding(y_train, N_CLASS)\n",
    "y_test = one_hot_encoding(y_test, N_CLASS)"
   ]
  },
  {
   "cell_type": "code",
   "execution_count": 8,
   "metadata": {
    "tags": [
     "outputPrepend"
    ]
   },
   "outputs": [
    {
     "name": "stdout",
     "output_type": "stream",
     "text": [
      "Checkpoint 100, Accuracy: 0.8703703703703703, Loss: 0.5317475001017252\n",
      "Checkpoint 200, Accuracy: 0.9259259259259259, Loss: 0.36099829497160735\n",
      "Checkpoint 300, Accuracy: 0.9444444444444444, Loss: 0.3189684903180158\n",
      "Checkpoint 400, Accuracy: 0.9320987654320988, Loss: 0.3447813104700159\n",
      "Checkpoint 500, Accuracy: 0.9382716049382716, Loss: 0.3374018139309353\n"
     ]
    }
   ],
   "source": [
    "# learning phase\n",
    "breakpoint = 100\n",
    "checkpoints = list()\n",
    "history = list()\n",
    "for century in range(0, EPOCHS, breakpoint):\n",
    "    sub_history = model.fit(x_train, y_train, breakpoint, verbose = 0)\n",
    "    score = model.evaluate(x_test, y_test, False, verbose = 0)\n",
    "    print('Checkpoint {}, Accuracy: {}, Loss: {}'.format(century+breakpoint, score['accuracy'], score[model.loss_fn]))\n",
    "    score['checkpoint'] = century + breakpoint\n",
    "    checkpoints.append(score)\n",
    "    history.extend(sub_history)"
   ]
  },
  {
   "cell_type": "code",
   "execution_count": 9,
   "metadata": {},
   "outputs": [],
   "source": [
    "import matplotlib.pyplot as plt\n",
    "\n",
    "def draw_plot(x, y_list, x_label=None, y_label=None, legend=None, title=None):\n",
    "    fig, ax = plt.subplots(figsize=(12,5))\n",
    "    for xi, yi in zip(x, y_list):\n",
    "        ax.plot(xi, yi)\n",
    "    if x_label is not None and y_label is not None:\n",
    "        ax.set(xlabel=x_label, ylabel=y_label, title='{} VS {}'.format(x_label, y_label))\n",
    "    if legend is not None:\n",
    "        ax.legend(legend)\n",
    "    ax.grid()\n",
    "    plt.show()"
   ]
  },
  {
   "cell_type": "code",
   "execution_count": 10,
   "metadata": {},
   "outputs": [
    {
     "name": "stdout",
     "output_type": "stream",
     "text": [
      "[1. 0. 0.] <-> [0.82207227 0.10485979 0.07306784]\n",
      "[1. 0. 0.] <-> [0.77877176 0.10691181 0.11431637]\n",
      "[1. 0. 0.] <-> [0.8272905  0.07025731 0.10245221]\n",
      "[1. 0. 0.] <-> [0.76354885 0.12041924 0.11603188]\n",
      "[1. 0. 0.] <-> [0.8215921  0.09421799 0.08418991]\n",
      "[0. 1. 0.] <-> [0.6373261  0.3283128  0.03436109]\n",
      "[1. 0. 0.] <-> [0.7771078  0.06121217 0.1616801 ]\n",
      "[1. 0. 0.] <-> [0.82893604 0.09370647 0.07735749]\n",
      "[0. 0. 1.] <-> [0.68385285 0.03492291 0.28122434]\n",
      "[0. 0. 1.] <-> [0.28100258 0.0120761  0.70692134]\n",
      "[1. 0. 0.] <-> [0.8065731  0.0329234  0.16050355]\n",
      "[0. 1. 0.] <-> [0.23651223 0.75500804 0.00847974]\n",
      "[1. 0. 0.] <-> [0.8669669  0.05250508 0.08052801]\n",
      "[1. 0. 0.] <-> [0.826454   0.03871289 0.1348332 ]\n",
      "[0. 1. 0.] <-> [0.44022012 0.5283642  0.03141567]\n",
      "[0. 0. 1.] <-> [0.24384293 0.01894236 0.73721474]\n",
      "[0. 1. 0.] <-> [0.5709357  0.38140297 0.04766132]\n",
      "[1. 0. 0.] <-> [0.81827074 0.12311651 0.05861276]\n",
      "[1. 0. 0.] <-> [0.76659936 0.18772829 0.0456723 ]\n",
      "[0. 1. 0.] <-> [0.5926306  0.37916705 0.02820232]\n",
      "[1. 0. 0.] <-> [0.8484544  0.0694843  0.08206134]\n",
      "[1. 0. 0.] <-> [0.8341108  0.0536003  0.11228894]\n",
      "[1. 0. 0.] <-> [0.7560839  0.0507472  0.19316888]\n",
      "[0. 1. 0.] <-> [0.23751771 0.75380224 0.00868008]\n",
      "[1. 0. 0.] <-> [0.8008368  0.149995   0.04916818]\n",
      "[1. 0. 0.] <-> [0.81366396 0.06096151 0.12537448]\n",
      "[1. 0. 0.] <-> [0.82941043 0.0748835  0.09570607]\n",
      "[1. 0. 0.] <-> [0.8633445  0.03535511 0.10130036]\n",
      "[1. 0. 0.] <-> [0.851115   0.07415989 0.0747251 ]\n",
      "[1. 0. 0.] <-> [0.85242015 0.03506363 0.11251616]\n",
      "[0. 1. 0.] <-> [0.32827637 0.659164   0.01255967]\n",
      "[1. 0. 0.] <-> [0.82960963 0.03066025 0.1397301 ]\n",
      "[1. 0. 0.] <-> [0.8308312  0.10035136 0.06881743]\n",
      "[0. 0. 1.] <-> [0.2828494 0.0110568 0.7060938]\n",
      "[1. 0. 0.] <-> [0.7884135  0.11190856 0.09967795]\n",
      "[1. 0. 0.] <-> [0.8151278  0.1084061  0.07646613]\n",
      "[1. 0. 0.] <-> [0.76674646 0.06585873 0.16739485]\n",
      "[1. 0. 0.] <-> [0.80826646 0.03888727 0.15284625]\n",
      "[1. 0. 0.] <-> [0.8657632  0.07395606 0.06028076]\n",
      "[1. 0. 0.] <-> [0.82434225 0.09095421 0.08470359]\n",
      "[0. 0. 1.] <-> [0.813875   0.03728158 0.14884344]\n",
      "[1. 0. 0.] <-> [0.81815046 0.06368082 0.11816875]\n",
      "[1. 0. 0.] <-> [0.8322001  0.03661853 0.13118136]\n",
      "[1. 0. 0.] <-> [0.8116433  0.07475572 0.11360089]\n",
      "[1. 0. 0.] <-> [0.8352832  0.07942859 0.08528824]\n",
      "[1. 0. 0.] <-> [0.86970353 0.04714399 0.08315249]\n",
      "[1. 0. 0.] <-> [0.79468966 0.12575842 0.07955201]\n",
      "[1. 0. 0.] <-> [0.8009703  0.03920179 0.15982787]\n",
      "[1. 0. 0.] <-> [0.8007682  0.14100057 0.05823124]\n",
      "[1. 0. 0.] <-> [0.782331   0.06080934 0.15685965]\n",
      "[0. 1. 0.] <-> [0.2678675  0.7222191  0.00991338]\n",
      "[0. 1. 0.] <-> [0.23854548 0.75270915 0.00874534]\n",
      "[1. 0. 0.] <-> [0.8517128  0.08151306 0.06677412]\n",
      "[0. 1. 0.] <-> [0.35719866 0.6278813  0.01492008]\n",
      "[1. 0. 0.] <-> [0.87249213 0.05272735 0.07478052]\n",
      "[1. 0. 0.] <-> [0.8590349  0.09066962 0.0502955 ]\n",
      "[1. 0. 0.] <-> [0.83485425 0.04644978 0.11869597]\n",
      "[1. 0. 0.] <-> [0.7402607  0.21775848 0.0419808 ]\n",
      "[1. 0. 0.] <-> [0.7379533  0.21667914 0.04536753]\n",
      "[0. 1. 0.] <-> [0.56987464 0.40624282 0.02388259]\n",
      "[1. 0. 0.] <-> [0.8578936  0.06975649 0.07234988]\n",
      "[1. 0. 0.] <-> [0.75761425 0.04780447 0.19458126]\n",
      "[1. 0. 0.] <-> [0.7812401  0.04511314 0.1736467 ]\n",
      "[0. 0. 1.] <-> [0.40599418 0.01441474 0.57959104]\n",
      "[1. 0. 0.] <-> [0.67207974 0.03580955 0.2921107 ]\n",
      "[1. 0. 0.] <-> [0.7847743  0.1418464  0.07337934]\n",
      "[1. 0. 0.] <-> [0.8682629  0.06458037 0.06715676]\n",
      "[0. 1. 0.] <-> [0.2336615  0.75804925 0.00828922]\n",
      "[1. 0. 0.] <-> [0.8515372  0.08877053 0.05969226]\n",
      "[1. 0. 0.] <-> [0.8307497  0.09387073 0.07537965]\n",
      "[0. 0. 1.] <-> [0.35116693 0.01946595 0.6293671 ]\n",
      "[1. 0. 0.] <-> [0.8169219  0.10755146 0.07552674]\n",
      "[0. 0. 1.] <-> [0.24285068 0.01841459 0.7387348 ]\n",
      "[1. 0. 0.] <-> [0.591813   0.04553164 0.3626553 ]\n",
      "[1. 0. 0.] <-> [0.8370612  0.10779204 0.05514674]\n",
      "[0. 1. 0.] <-> [0.23842251 0.75264496 0.00893255]\n",
      "[1. 0. 0.] <-> [0.81908745 0.0835338  0.09737875]\n",
      "[1. 0. 0.] <-> [0.8111763  0.12448793 0.0643357 ]\n",
      "[1. 0. 0.] <-> [0.80775785 0.08634822 0.10589393]\n",
      "[1. 0. 0.] <-> [0.7671773  0.15026006 0.08256259]\n",
      "[1. 0. 0.] <-> [0.8272378  0.09113967 0.08162253]\n",
      "[1. 0. 0.] <-> [0.88058096 0.04622487 0.07319419]\n",
      "[1. 0. 0.] <-> [0.8425084  0.10437079 0.05312093]\n",
      "[1. 0. 0.] <-> [0.8744433  0.06609521 0.05946152]\n",
      "[1. 0. 0.] <-> [0.8304163  0.10382805 0.06575563]\n",
      "[1. 0. 0.] <-> [0.75675637 0.0337749  0.20946875]\n",
      "[0. 0. 1.] <-> [0.26903945 0.01515156 0.7158089 ]\n",
      "[1. 0. 0.] <-> [0.8115664  0.04988105 0.13855258]\n",
      "[1. 0. 0.] <-> [0.84049976 0.0859324  0.07356784]\n",
      "[0. 1. 0.] <-> [0.6569333  0.3118029  0.03126377]\n",
      "[0. 1. 0.] <-> [0.53504455 0.44295838 0.02199706]\n",
      "[0. 0. 1.] <-> [0.33232567 0.01333115 0.6543432 ]\n",
      "[0. 1. 0.] <-> [0.74072516 0.22660017 0.03267464]\n",
      "[0. 0. 1.] <-> [0.27836516 0.01157375 0.7100611 ]\n",
      "[1. 0. 0.] <-> [0.7993157  0.15242518 0.04825918]\n",
      "[0. 0. 1.] <-> [0.39135915 0.01351009 0.59513074]\n",
      "[1. 0. 0.] <-> [0.8287948  0.07859389 0.09261136]\n",
      "[0. 0. 1.] <-> [0.79501    0.0390574  0.16593264]\n",
      "[1. 0. 0.] <-> [0.8452772  0.09394924 0.06077348]\n",
      "[1. 0. 0.] <-> [0.7982839  0.03965862 0.16205744]\n",
      "[1. 0. 0.] <-> [0.7966824  0.06045358 0.14286402]\n",
      "[0. 0. 1.] <-> [0.35074687 0.01242874 0.6368243 ]\n",
      "[1. 0. 0.] <-> [0.8349056  0.0363381  0.12875637]\n",
      "[0. 1. 0.] <-> [0.2468753  0.7439     0.00922461]\n",
      "[1. 0. 0.] <-> [0.87147605 0.0572328  0.07129119]\n",
      "[1. 0. 0.] <-> [0.807592   0.13177523 0.06063274]\n",
      "[0. 0. 1.] <-> [0.29475003 0.01283391 0.6924161 ]\n",
      "[1. 0. 0.] <-> [0.84718585 0.05911513 0.09369905]\n",
      "{'accuracy': 0.9382716049382716, 'mean_square_error': 0.16720193212877438, 'categorical_crossentropy': 0.3374018139309353, 'essential_metrics': {0: {'tp_hit': 76, 'fp_hit': 10, 'tn_hit': 22, 'fn_hit': 0}, 1: {'tp_hit': 10, 'fp_hit': 0, 'tn_hit': 91, 'fn_hit': 7}, 2: {'tp_hit': 12, 'fp_hit': 0, 'tn_hit': 93, 'fn_hit': 3}}}\n"
     ]
    }
   ],
   "source": [
    "# recall phase\n",
    "score = model.evaluate(x_test, y_test, False)\n",
    "print(score)"
   ]
  },
  {
   "cell_type": "code",
   "execution_count": 11,
   "metadata": {},
   "outputs": [
    {
     "data": {
      "image/png": "[encoded data removed]",
      "text/plain": [
       "<Figure size 864x360 with 1 Axes>"
      ]
     },
     "metadata": {
      "needs_background": "light"
     },
     "output_type": "display_data"
    },
    {
     "data": {
      "image/png": "[encoded data removed]",
      "text/plain": [
       "<Figure size 864x360 with 1 Axes>"
      ]
     },
     "metadata": {
      "needs_background": "light"
     },
     "output_type": "display_data"
    }
   ],
   "source": [
    "draw_plot(x = [[i for i in range(len(history))], [(i+1)*breakpoint for i in range(len(checkpoints))]], y_list = [history, [ ckp[model.loss_fn] for ckp in checkpoints ]], x_label = 'Epochs', \\\n",
    "    y_label = model.loss_fn, legend=['train', 'test'])\n",
    "acc = [ ckp['accuracy'] for ckp in checkpoints ]\n",
    "draw_plot(x = [[(i+1)*breakpoint for i in range(len(checkpoints))]], y_list = [acc], x_label = 'Checkpoints', \\\n",
    "    y_label = 'accuracy')"
   ]
  },
  {
   "cell_type": "code",
   "execution_count": 12,
   "metadata": {},
   "outputs": [
    {
     "name": "stdout",
     "output_type": "stream",
     "text": [
      "{'accuracy': 0.8703703703703703, 'mean_square_error': 0.2926545217331784, 'categorical_crossentropy': 0.5317475001017252, 'essential_metrics': {0: {'tp_hit': 76, 'fp_hit': 21, 'tn_hit': 11, 'fn_hit': 0}, 1: {'tp_hit': 9, 'fp_hit': 0, 'tn_hit': 91, 'fn_hit': 8}, 2: {'tp_hit': 2, 'fp_hit': 0, 'tn_hit': 93, 'fn_hit': 13}}, 'checkpoint': 100} \n",
      "\n",
      "\n",
      "{'accuracy': 0.9259259259259259, 'mean_square_error': 0.1876198806443535, 'categorical_crossentropy': 0.36099829497160735, 'essential_metrics': {0: {'tp_hit': 76, 'fp_hit': 12, 'tn_hit': 20, 'fn_hit': 0}, 1: {'tp_hit': 10, 'fp_hit': 0, 'tn_hit': 91, 'fn_hit': 7}, 2: {'tp_hit': 10, 'fp_hit': 0, 'tn_hit': 93, 'fn_hit': 5}}, 'checkpoint': 200} \n",
      "\n",
      "\n",
      "{'accuracy': 0.9444444444444444, 'mean_square_error': 0.15235847427641136, 'categorical_crossentropy': 0.3189684903180158, 'essential_metrics': {0: {'tp_hit': 76, 'fp_hit': 9, 'tn_hit': 23, 'fn_hit': 0}, 1: {'tp_hit': 11, 'fp_hit': 0, 'tn_hit': 91, 'fn_hit': 6}, 2: {'tp_hit': 12, 'fp_hit': 0, 'tn_hit': 93, 'fn_hit': 3}}, 'checkpoint': 300} \n",
      "\n",
      "\n",
      "{'accuracy': 0.9320987654320988, 'mean_square_error': 0.17388595879077348, 'categorical_crossentropy': 0.3447813104700159, 'essential_metrics': {0: {'tp_hit': 76, 'fp_hit': 11, 'tn_hit': 21, 'fn_hit': 0}, 1: {'tp_hit': 9, 'fp_hit': 0, 'tn_hit': 91, 'fn_hit': 8}, 2: {'tp_hit': 12, 'fp_hit': 0, 'tn_hit': 93, 'fn_hit': 3}}, 'checkpoint': 400} \n",
      "\n",
      "\n",
      "{'accuracy': 0.9382716049382716, 'mean_square_error': 0.16720193212877438, 'categorical_crossentropy': 0.3374018139309353, 'essential_metrics': {0: {'tp_hit': 76, 'fp_hit': 10, 'tn_hit': 22, 'fn_hit': 0}, 1: {'tp_hit': 10, 'fp_hit': 0, 'tn_hit': 91, 'fn_hit': 7}, 2: {'tp_hit': 12, 'fp_hit': 0, 'tn_hit': 93, 'fn_hit': 3}}, 'checkpoint': 500} \n",
      "\n",
      "\n"
     ]
    }
   ],
   "source": [
    "for checkpoint in checkpoints:\n",
    "    print(checkpoint, '\\n\\n')"
   ]
  },
  {
   "cell_type": "code",
   "execution_count": 13,
   "metadata": {},
   "outputs": [
    {
     "name": "stdout",
     "output_type": "stream",
     "text": [
      "Layer 1\n",
      "Neuron 0: weights:\n",
      "[ 0.45234025 -1.1003706  -0.8703978  -0.40560362 -0.12720746]\n",
      " bias: 0.6816332340240479\n",
      "\n",
      "Neuron 1: weights:\n",
      "[-0.56907713  0.6490745   0.10214705 -0.72701615 -0.81942254]\n",
      " bias: 0.9845366477966309\n",
      "\n",
      "Neuron 2: weights:\n",
      "[ 0.47241065 -0.66935027 -0.28335562  0.20913985  0.579788  ]\n",
      " bias: -0.48368778824806213\n",
      "\n",
      "Neuron 3: weights:\n",
      "[-0.35134238  1.061609    0.52020943 -0.08153914 -0.09697087]\n",
      " bias: -0.2941734790802002\n",
      "\n",
      "$\n",
      "Layer 2\n",
      "Neuron 0: weights:\n",
      "[ 1.3523787   1.0975691  -0.44904518 -0.4336161 ]\n",
      " bias: -0.12544658780097961\n",
      "\n",
      "Neuron 1: weights:\n",
      "[-2.0160296   0.46669012 -0.6595576   1.2652808 ]\n",
      " bias: -0.006242287345230579\n",
      "\n",
      "Neuron 2: weights:\n",
      "[ 0.52323455 -1.8366075   1.2667367  -0.922232  ]\n",
      " bias: -0.057486873120069504\n",
      "\n",
      "$\n",
      "\n"
     ]
    }
   ],
   "source": [
    "print(model)"
   ]
  }
 ],
 "metadata": {
  "kernelspec": {
   "display_name": "Python 3",
   "language": "python",
   "name": "python3"
  },
  "language_info": {
   "codemirror_mode": {
    "name": "ipython",
    "version": 3
   },
   "file_extension": ".py",
   "mimetype": "text/x-python",
   "name": "python",
   "nbconvert_exporter": "python",
   "pygments_lexer": "ipython3",
   "version": "3.6.10"
  }
 },
 "nbformat": 4,
 "nbformat_minor": 2
}
