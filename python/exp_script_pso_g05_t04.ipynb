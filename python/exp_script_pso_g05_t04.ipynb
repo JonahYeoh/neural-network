{
 "cells": [
  {
   "cell_type": "code",
   "execution_count": 1,
   "metadata": {},
   "outputs": [],
   "source": [
    "# dependency\n",
    "import numpy as np\n",
    "import pandas as pd\n",
    "import copy\n",
    "import math\n",
    "import sys\n",
    "import os\n",
    "from activations import relu, leaky_relu, sigmoid, tanh, softmax, d_sigmoid, d_relu\n",
    "from initializers import glorot_uniform, random_normal, random_uniform\n",
    "from regularizers import l1_regularizer, l2_regularizer\n",
    "from utility import trim_tail, multiply, subtract, get_nparams, one_hot_encoding, get_data\n",
    "from metrics import MSE, CCE, ACC, PRECISION, RECALL, essential_metrics, wondering_penalty, close_gap_penalty\n",
    "from pso import PSO\n",
    "from ga import GA\n",
    "from nn import Network\n",
    "from layer import DenseLayer\n",
    "from scalers import MinMaxScaler, StandardScaler"
   ]
  },
  {
   "cell_type": "code",
   "execution_count": 2,
   "metadata": {},
   "outputs": [],
   "source": [
    "# reference\n",
    "metrics_fn_dict = dict()\n",
    "metrics_fn_dict['accuracy'] = ACC\n",
    "metrics_fn_dict['categorical_crossentropy'] = CCE\n",
    "metrics_fn_dict['mean_square_error'] = MSE\n",
    "metrics_fn_dict['precision'] = PRECISION\n",
    "metrics_fn_dict['recall'] = RECALL\n",
    "metrics_fn_dict['essential_metrics'] = essential_metrics"
   ]
  },
  {
   "cell_type": "code",
   "execution_count": 3,
   "metadata": {},
   "outputs": [],
   "source": [
    "# model\n",
    "model = Network(5, lr = None)\n",
    "model.add_layer(DenseLayer(1, 4, True, afn=sigmoid, dafn=None, rfn=None))\n",
    "model.add_layer(DenseLayer(2, 3, True, afn=softmax, dafn=None, rfn=None))"
   ]
  },
  {
   "cell_type": "code",
   "execution_count": 4,
   "metadata": {},
   "outputs": [
    {
     "name": "stdout",
     "output_type": "stream",
     "text": [
      "see one see two 2 2\n"
     ]
    }
   ],
   "source": [
    "pso = PSO(dict(m = 50,\n",
    "    weight_constraint = [-3, 3], \n",
    "    velocity_constraint = [-0.1, 0.1],\n",
    "    c1 = 2,\n",
    "    c2 = 2,\n",
    "    w = 1,\n",
    "    w_decay = 1.4,\n",
    "    scale_hyperparameter = False,\n",
    "    regularizer = None,\n",
    "    mask = True))"
   ]
  },
  {
   "cell_type": "code",
   "execution_count": 5,
   "metadata": {},
   "outputs": [
    {
     "name": "stdout",
     "output_type": "stream",
     "text": [
      "building layer 1 with 5\n",
      "24\n",
      "building layer 2 with 4\n",
      "15\n"
     ]
    }
   ],
   "source": [
    "model.compile(loss_fn = 'categorical_crossentropy', optimizer = pso, \\\n",
    "    metrics = ['accuracy', 'mean_square_error', 'categorical_crossentropy'])"
   ]
  },
  {
   "cell_type": "code",
   "execution_count": 6,
   "metadata": {},
   "outputs": [
    {
     "name": "stdout",
     "output_type": "stream",
     "text": [
      "<class 'pandas.core.frame.DataFrame'>\n",
      "RangeIndex: 107 entries, 0 to 106\n",
      "Data columns (total 6 columns):\n",
      " #   Column  Non-Null Count  Dtype  \n",
      "---  ------  --------------  -----  \n",
      " 0   f1      107 non-null    float32\n",
      " 1   f2      107 non-null    float32\n",
      " 2   f3      107 non-null    float32\n",
      " 3   f4      107 non-null    float32\n",
      " 4   f5      107 non-null    float32\n",
      " 5   label   107 non-null    float32\n",
      "dtypes: float32(6)\n",
      "memory usage: 2.6 KB\n",
      "None\n",
      "<class 'pandas.core.frame.DataFrame'>\n",
      "RangeIndex: 108 entries, 0 to 107\n",
      "Data columns (total 6 columns):\n",
      " #   Column  Non-Null Count  Dtype  \n",
      "---  ------  --------------  -----  \n",
      " 0   f1      108 non-null    float32\n",
      " 1   f2      108 non-null    float32\n",
      " 2   f3      108 non-null    float32\n",
      " 3   f4      108 non-null    float32\n",
      " 4   f5      108 non-null    float32\n",
      " 5   label   108 non-null    float32\n",
      "dtypes: float32(6)\n",
      "memory usage: 2.7 KB\n",
      "None\n"
     ]
    }
   ],
   "source": [
    "# data loading\n",
    "DATA = os.path.join('c:\\\\Users\\\\AI-lab\\\\github_repo\\\\neural-network\\\\', 'dataset')\n",
    "GROUP = 5\n",
    "COLUMNS = ['f1', 'f2', 'f3', 'f4', 'f5', 'label']\n",
    "N_CLASS = 3\n",
    "EPOCHS = 200\n",
    "train_dir, test_dir = \"..//dataset//training_data{}.txt\".format(GROUP), \"..//dataset//testing_data{}.txt\".format(GROUP)\n",
    "train, test = get_data(DATA, train_dir, COLUMNS), get_data(DATA, test_dir, COLUMNS)\n",
    "# shuffle\n",
    "train, test = train.sample(frac=1), test.sample(frac=1)\n",
    "x_train, y_train = train.drop('label', axis=1), train['label']\n",
    "x_test, y_test = test.drop('label', axis=1), test['label']"
   ]
  },
  {
   "cell_type": "code",
   "execution_count": 7,
   "metadata": {},
   "outputs": [],
   "source": [
    "# data scaling and encoding\n",
    "scaler = StandardScaler(['f1', 'f2', 'f3', 'f4', 'f5'])\n",
    "scaler.fit(x_train)\n",
    "x_train = scaler.transform(x_train)\n",
    "x_test = scaler.transform(x_test)\n",
    "y_train = one_hot_encoding(y_train, N_CLASS)\n",
    "y_test = one_hot_encoding(y_test, N_CLASS)"
   ]
  },
  {
   "cell_type": "code",
   "execution_count": 8,
   "metadata": {
    "tags": [
     "outputPrepend"
    ]
   },
   "outputs": [
    {
     "name": "stdout",
     "output_type": "stream",
     "text": [
      "Checkpoint 10, Accuracy: 0.8271604938271605, Loss: 0.6899193657769097\n",
      "Checkpoint 20, Accuracy: 0.8148148148148148, Loss: 0.6596784238462094\n",
      "Checkpoint 30, Accuracy: 0.845679012345679, Loss: 0.6119728088378906\n",
      "Checkpoint 40, Accuracy: 0.8888888888888888, Loss: 0.5493979630646882\n",
      "Checkpoint 50, Accuracy: 0.8888888888888888, Loss: 0.47821394602457684\n",
      "Checkpoint 60, Accuracy: 0.9135802469135802, Loss: 0.4273966330069083\n",
      "Checkpoint 70, Accuracy: 0.9320987654320988, Loss: 0.3666594823201497\n",
      "Checkpoint 80, Accuracy: 0.9382716049382716, Loss: 0.2869675424363878\n",
      "Checkpoint 90, Accuracy: 0.9382716049382716, Loss: 0.22895037686383282\n",
      "Checkpoint 100, Accuracy: 0.9691358024691358, Loss: 0.1677514005590368\n",
      "Checkpoint 110, Accuracy: 0.9629629629629629, Loss: 0.14585141782407407\n",
      "Checkpoint 120, Accuracy: 0.9567901234567902, Loss: 0.14673375200342248\n",
      "Checkpoint 130, Accuracy: 0.9629629629629629, Loss: 0.12709612316555446\n",
      "Checkpoint 140, Accuracy: 0.9629629629629629, Loss: 0.11930742970219364\n",
      "Checkpoint 150, Accuracy: 0.9567901234567902, Loss: 0.1259456475575765\n",
      "Checkpoint 160, Accuracy: 0.9691358024691358, Loss: 0.11656394711247196\n",
      "Checkpoint 170, Accuracy: 0.9629629629629629, Loss: 0.11450109658417879\n",
      "Checkpoint 180, Accuracy: 0.9629629629629629, Loss: 0.11532503587228281\n",
      "Checkpoint 190, Accuracy: 0.9567901234567902, Loss: 0.11491687209517867\n",
      "Checkpoint 200, Accuracy: 0.9567901234567902, Loss: 0.13388917181226942\n"
     ]
    }
   ],
   "source": [
    "# learning phase\n",
    "breakpoint = 10\n",
    "checkpoints = list()\n",
    "history = list()\n",
    "for century in range(0, EPOCHS, breakpoint):\n",
    "    sub_history = model.fit(x_train, y_train, breakpoint, verbose = 0)\n",
    "    score = model.evaluate(x_test, y_test, False, verbose = 0)\n",
    "    print('Checkpoint {}, Accuracy: {}, Loss: {}'.format(century+breakpoint, score['accuracy'], score[model.loss_fn]))\n",
    "    score['checkpoint'] = century + breakpoint\n",
    "    checkpoints.append(score)\n",
    "    history.extend(sub_history)"
   ]
  },
  {
   "cell_type": "code",
   "execution_count": 9,
   "metadata": {},
   "outputs": [],
   "source": [
    "import matplotlib.pyplot as plt\n",
    "\n",
    "def draw_plot(x, y_list, x_label=None, y_label=None, legend=None, title=None):\n",
    "    fig, ax = plt.subplots(figsize=(12,5))\n",
    "    for xi, yi in zip(x, y_list):\n",
    "        ax.plot(xi, yi)\n",
    "    if x_label is not None and y_label is not None:\n",
    "        ax.set(xlabel=x_label, ylabel=y_label, title='{} VS {}'.format(x_label, y_label))\n",
    "    if legend is not None:\n",
    "        ax.legend(legend)\n",
    "    ax.grid()\n",
    "    plt.show()"
   ]
  },
  {
   "cell_type": "code",
   "execution_count": 10,
   "metadata": {},
   "outputs": [
    {
     "name": "stdout",
     "output_type": "stream",
     "text": [
      "[1. 0. 0.] <-> [0.9939102  0.00378414 0.00230572]\n",
      "[1. 0. 0.] <-> [0.98585296 0.00326859 0.01087848]\n",
      "[0. 0. 1.] <-> [1.18139945e-02 4.27741703e-04 9.87758219e-01]\n",
      "[0. 1. 0.] <-> [5.9645930e-03 9.9373019e-01 3.0530675e-04]\n",
      "[1. 0. 0.] <-> [0.9963935  0.00188598 0.00172051]\n",
      "[1. 0. 0.] <-> [0.9960807  0.00246682 0.00145247]\n",
      "[0. 1. 0.] <-> [5.9645814e-03 9.9373019e-01 3.0530238e-04]\n",
      "[1. 0. 0.] <-> [0.9919807  0.00273912 0.0052803 ]\n",
      "[1. 0. 0.] <-> [0.9898784  0.00264111 0.00748038]\n",
      "[0. 1. 0.] <-> [5.9637944e-03 9.9373078e-01 3.0535730e-04]\n",
      "[1. 0. 0.] <-> [0.9689041  0.02807035 0.00302553]\n",
      "[0. 0. 1.] <-> [0.0091731  0.00223508 0.98859185]\n",
      "[1. 0. 0.] <-> [0.9955896  0.00224784 0.00216249]\n",
      "[0. 1. 0.] <-> [0.9040261  0.09029976 0.00567417]\n",
      "[1. 0. 0.] <-> [0.2856177  0.00399736 0.71038496]\n",
      "[1. 0. 0.] <-> [0.07249396 0.00121144 0.92629457]\n",
      "[1. 0. 0.] <-> [0.99601704 0.00217515 0.00180789]\n",
      "[1. 0. 0.] <-> [0.9960014  0.00194944 0.00204906]\n",
      "[1. 0. 0.] <-> [0.9612075  0.03562095 0.00317143]\n",
      "[0. 1. 0.] <-> [5.9770653e-03 9.9371719e-01 3.0575180e-04]\n",
      "[1. 0. 0.] <-> [0.9908414  0.00719293 0.00196573]\n",
      "[1. 0. 0.] <-> [0.68940103 0.00436755 0.30623147]\n",
      "[1. 0. 0.] <-> [0.96344614 0.00445364 0.03210029]\n",
      "[1. 0. 0.] <-> [0.98677737 0.0025745  0.01064814]\n",
      "[1. 0. 0.] <-> [0.9617623  0.00330573 0.034932  ]\n",
      "[1. 0. 0.] <-> [0.9961081  0.00247435 0.00141756]\n",
      "[1. 0. 0.] <-> [0.9338615  0.00594239 0.06019611]\n",
      "[1. 0. 0.] <-> [0.9928267  0.0053035  0.00186991]\n",
      "[1. 0. 0.] <-> [0.9457109  0.00354727 0.05074186]\n",
      "[1. 0. 0.] <-> [0.99125576 0.00278221 0.00596202]\n",
      "[0. 0. 1.] <-> [0.34544212 0.00217566 0.6523822 ]\n",
      "[1. 0. 0.] <-> [0.8592019  0.00332935 0.13746879]\n",
      "[1. 0. 0.] <-> [0.99495137 0.00223515 0.00281353]\n",
      "[0. 1. 0.] <-> [1.51516115e-02 9.84268546e-01 5.79868967e-04]\n",
      "[1. 0. 0.] <-> [0.9910641  0.00511438 0.00382164]\n",
      "[1. 0. 0.] <-> [0.99238414 0.00570363 0.00191217]\n",
      "[0. 1. 0.] <-> [0.10496888 0.8923993  0.00263183]\n",
      "[1. 0. 0.] <-> [0.99378705 0.00281773 0.00339516]\n",
      "[1. 0. 0.] <-> [0.99638546 0.00201305 0.00160144]\n",
      "[1. 0. 0.] <-> [0.99591666 0.00213364 0.00194966]\n",
      "[1. 0. 0.] <-> [0.9965383  0.00199168 0.00147016]\n",
      "[0. 0. 1.] <-> [1.3309378e-02 4.4162266e-04 9.8624903e-01]\n",
      "[0. 1. 0.] <-> [0.7357808  0.25903904 0.00518017]\n",
      "[1. 0. 0.] <-> [0.9949726  0.00206359 0.00296383]\n",
      "[0. 1. 0.] <-> [0.2899504  0.70623696 0.00381266]\n",
      "[1. 0. 0.] <-> [0.99602246 0.00253867 0.00143879]\n",
      "[1. 0. 0.] <-> [0.994222   0.00257438 0.00320361]\n",
      "[1. 0. 0.] <-> [0.996031   0.00186832 0.00210065]\n",
      "[1. 0. 0.] <-> [0.99430627 0.0020081  0.00368557]\n",
      "[1. 0. 0.] <-> [0.99605787 0.00229332 0.00164877]\n",
      "[1. 0. 0.] <-> [0.99519914 0.00181996 0.00298091]\n",
      "[1. 0. 0.] <-> [0.92969126 0.00386547 0.0664433 ]\n",
      "[0. 0. 1.] <-> [0.80586237 0.00318456 0.19095309]\n",
      "[1. 0. 0.] <-> [0.9950004  0.00225818 0.00274135]\n",
      "[1. 0. 0.] <-> [0.915302   0.00326429 0.08143366]\n",
      "[1. 0. 0.] <-> [0.9958846  0.00234717 0.00176817]\n",
      "[0. 0. 1.] <-> [1.1920616e-02 4.1490246e-04 9.8766452e-01]\n",
      "[1. 0. 0.] <-> [0.9699295  0.00284448 0.02722606]\n",
      "[1. 0. 0.] <-> [0.99203134 0.00338662 0.00458208]\n",
      "[1. 0. 0.] <-> [0.9960343  0.00211969 0.00184594]\n",
      "[0. 0. 1.] <-> [1.1905171e-02 4.2037910e-04 9.8767442e-01]\n",
      "[1. 0. 0.] <-> [0.99503726 0.00271962 0.0022431 ]\n",
      "[1. 0. 0.] <-> [0.99541205 0.00190958 0.00267834]\n",
      "[0. 0. 1.] <-> [1.2458851e-02 4.3249794e-04 9.8710865e-01]\n",
      "[1. 0. 0.] <-> [0.97799784 0.00257382 0.01942838]\n",
      "[1. 0. 0.] <-> [0.9963159  0.00190573 0.00177833]\n",
      "[1. 0. 0.] <-> [0.9941703  0.00187958 0.00395008]\n",
      "[0. 1. 0.] <-> [0.03955402 0.9593298  0.00111615]\n",
      "[1. 0. 0.] <-> [0.99503374 0.00308801 0.00187834]\n",
      "[0. 1. 0.] <-> [5.964556e-03 9.937302e-01 3.053015e-04]\n",
      "[0. 0. 1.] <-> [1.3158569e-02 4.3844414e-04 9.8640299e-01]\n",
      "[1. 0. 0.] <-> [0.9627367  0.00467411 0.03258916]\n",
      "[1. 0. 0.] <-> [0.99319756 0.00253917 0.00426332]\n",
      "[1. 0. 0.] <-> [0.9746302  0.00338123 0.02198855]\n",
      "[1. 0. 0.] <-> [0.99613357 0.00235064 0.00151581]\n",
      "[0. 1. 0.] <-> [0.236343   0.7603502  0.00330678]\n",
      "[0. 0. 1.] <-> [0.6961614  0.0030343  0.30080432]\n",
      "[1. 0. 0.] <-> [0.99493563 0.00336397 0.00170028]\n",
      "[0. 1. 0.] <-> [5.9646405e-03 9.9373007e-01 3.0530905e-04]\n",
      "[1. 0. 0.] <-> [0.9965481  0.00206013 0.00139183]\n",
      "[0. 0. 1.] <-> [1.18874805e-02 4.14895389e-04 9.87697661e-01]\n",
      "[0. 0. 1.] <-> [1.1979520e-02 4.1604842e-04 9.8760438e-01]\n",
      "[1. 0. 0.] <-> [0.9943052  0.00371137 0.00198332]\n",
      "[0. 1. 0.] <-> [5.9649008e-03 9.9372983e-01 3.0532936e-04]\n",
      "[1. 0. 0.] <-> [0.99640524 0.00192188 0.00167292]\n",
      "[1. 0. 0.] <-> [0.9942115  0.00403436 0.00175412]\n",
      "[1. 0. 0.] <-> [0.9899254  0.00807338 0.00200115]\n",
      "[0. 0. 1.] <-> [9.068353e-03 8.517292e-04 9.900800e-01]\n",
      "[0. 0. 1.] <-> [1.1887996e-02 4.1482359e-04 9.8769718e-01]\n",
      "[1. 0. 0.] <-> [0.99615955 0.00226415 0.00157628]\n",
      "[1. 0. 0.] <-> [0.9806075  0.00233993 0.01705251]\n",
      "[0. 0. 1.] <-> [1.2080171e-02 4.1837074e-04 9.8750150e-01]\n",
      "[1. 0. 0.] <-> [0.99607134 0.00230048 0.00162818]\n",
      "[1. 0. 0.] <-> [0.9948742  0.00198842 0.0031374 ]\n",
      "[1. 0. 0.] <-> [0.9765015  0.00314742 0.02035103]\n",
      "[0. 1. 0.] <-> [6.2988941e-03 9.9338406e-01 3.1706176e-04]\n",
      "[1. 0. 0.] <-> [0.9958026  0.00207801 0.00211944]\n",
      "[1. 0. 0.] <-> [0.994576   0.00211264 0.00331129]\n",
      "[1. 0. 0.] <-> [0.995783   0.00246966 0.0017474 ]\n",
      "[1. 0. 0.] <-> [0.9681731  0.00309461 0.02873228]\n",
      "[0. 1. 0.] <-> [0.63582504 0.35881227 0.00536267]\n",
      "[1. 0. 0.] <-> [0.98107874 0.0024521  0.01646924]\n",
      "[1. 0. 0.] <-> [0.9961002  0.00219049 0.00170929]\n",
      "[0. 1. 0.] <-> [6.2980424e-03 9.9338478e-01 3.1716601e-04]\n",
      "[1. 0. 0.] <-> [0.99453473 0.00217997 0.00328537]\n",
      "[1. 0. 0.] <-> [0.9801579  0.00434872 0.01549344]\n",
      "[1. 0. 0.] <-> [0.97327006 0.00451005 0.02221986]\n",
      "[1. 0. 0.] <-> [0.99530977 0.00282848 0.00186172]\n",
      "{'accuracy': 0.9567901234567902, 'mean_square_error': 0.08709753320246542, 'categorical_crossentropy': 0.13388917181226942, 'essential_metrics': {0: {'tp_hit': 74, 'fp_hit': 5, 'tn_hit': 27, 'fn_hit': 2}, 1: {'tp_hit': 14, 'fp_hit': 0, 'tn_hit': 91, 'fn_hit': 3}, 2: {'tp_hit': 13, 'fp_hit': 2, 'tn_hit': 91, 'fn_hit': 2}}}\n"
     ]
    }
   ],
   "source": [
    "# recall phase\n",
    "score = model.evaluate(x_test, y_test, False)\n",
    "print(score)"
   ]
  },
  {
   "cell_type": "code",
   "execution_count": 11,
   "metadata": {},
   "outputs": [],
   "source": [
    "train_acc = [h['accuracy'] for h in history]\n",
    "train_mse = [h['mean_square_error'] for h in history]\n",
    "train_cce = [h['categorical_crossentropy'] for h in history]"
   ]
  },
  {
   "cell_type": "code",
   "execution_count": 12,
   "metadata": {},
   "outputs": [
    {
     "data": {
      "image/png": "[encoded data removed]",
      "text/plain": [
       "<Figure size 864x360 with 1 Axes>"
      ]
     },
     "metadata": {
      "needs_background": "light"
     },
     "output_type": "display_data"
    },
    {
     "data": {
      "image/png": "[encoded data removed]",
      "text/plain": [
       "<Figure size 864x360 with 1 Axes>"
      ]
     },
     "metadata": {
      "needs_background": "light"
     },
     "output_type": "display_data"
    }
   ],
   "source": [
    "draw_plot(x = [[i for i in range(len(history))], [(i+1)*breakpoint for i in range(len(checkpoints))]], y_list = [train_cce, [ ckp[model.loss_fn] for ckp in checkpoints ]], x_label = 'Epochs', \\\n",
    "    y_label = model.loss_fn, legend=['train', 'test'])\n",
    "acc = [ ckp['accuracy'] for ckp in checkpoints ]\n",
    "draw_plot(x = [[i for i in range(len(history))], [(i+1)*breakpoint for i in range(len(checkpoints))]], y_list = [train_acc, acc], x_label = 'Checkpoints', \\\n",
    "    y_label = 'accuracy', legend=['train', 'test'])"
   ]
  },
  {
   "cell_type": "code",
   "execution_count": 13,
   "metadata": {},
   "outputs": [
    {
     "name": "stdout",
     "output_type": "stream",
     "text": [
      "{'accuracy': 0.8271604938271605, 'mean_square_error': 0.3821895741845424, 'categorical_crossentropy': 0.6899193657769097, 'essential_metrics': {0: {'tp_hit': 66, 'fp_hit': 11, 'tn_hit': 21, 'fn_hit': 10}, 1: {'tp_hit': 5, 'fp_hit': 13, 'tn_hit': 78, 'fn_hit': 12}, 2: {'tp_hit': 9, 'fp_hit': 4, 'tn_hit': 89, 'fn_hit': 6}}, 'checkpoint': 10} \n",
      "\n",
      "\n",
      "{'accuracy': 0.8148148148148148, 'mean_square_error': 0.37115594374647465, 'categorical_crossentropy': 0.6596784238462094, 'essential_metrics': {0: {'tp_hit': 65, 'fp_hit': 13, 'tn_hit': 19, 'fn_hit': 11}, 1: {'tp_hit': 8, 'fp_hit': 17, 'tn_hit': 74, 'fn_hit': 9}, 2: {'tp_hit': 5, 'fp_hit': 0, 'tn_hit': 93, 'fn_hit': 10}}, 'checkpoint': 20} \n",
      "\n",
      "\n",
      "{'accuracy': 0.845679012345679, 'mean_square_error': 0.3288580176805843, 'categorical_crossentropy': 0.6119728088378906, 'essential_metrics': {0: {'tp_hit': 66, 'fp_hit': 12, 'tn_hit': 20, 'fn_hit': 10}, 1: {'tp_hit': 5, 'fp_hit': 8, 'tn_hit': 83, 'fn_hit': 12}, 2: {'tp_hit': 12, 'fp_hit': 5, 'tn_hit': 88, 'fn_hit': 3}}, 'checkpoint': 30} \n",
      "\n",
      "\n",
      "{'accuracy': 0.8888888888888888, 'mean_square_error': 0.2877725501929044, 'categorical_crossentropy': 0.5493979630646882, 'essential_metrics': {0: {'tp_hit': 66, 'fp_hit': 8, 'tn_hit': 24, 'fn_hit': 10}, 1: {'tp_hit': 11, 'fp_hit': 4, 'tn_hit': 87, 'fn_hit': 6}, 2: {'tp_hit': 13, 'fp_hit': 6, 'tn_hit': 87, 'fn_hit': 2}}, 'checkpoint': 40} \n",
      "\n",
      "\n",
      "{'accuracy': 0.8888888888888888, 'mean_square_error': 0.24913870468007074, 'categorical_crossentropy': 0.47821394602457684, 'essential_metrics': {0: {'tp_hit': 68, 'fp_hit': 10, 'tn_hit': 22, 'fn_hit': 8}, 1: {'tp_hit': 10, 'fp_hit': 2, 'tn_hit': 89, 'fn_hit': 7}, 2: {'tp_hit': 12, 'fp_hit': 6, 'tn_hit': 87, 'fn_hit': 3}}, 'checkpoint': 50} \n",
      "\n",
      "\n",
      "{'accuracy': 0.9135802469135802, 'mean_square_error': 0.21677158076877687, 'categorical_crossentropy': 0.4273966330069083, 'essential_metrics': {0: {'tp_hit': 69, 'fp_hit': 7, 'tn_hit': 25, 'fn_hit': 7}, 1: {'tp_hit': 12, 'fp_hit': 2, 'tn_hit': 89, 'fn_hit': 5}, 2: {'tp_hit': 13, 'fp_hit': 5, 'tn_hit': 88, 'fn_hit': 2}}, 'checkpoint': 60} \n",
      "\n",
      "\n",
      "{'accuracy': 0.9320987654320988, 'mean_square_error': 0.1824157429619678, 'categorical_crossentropy': 0.3666594823201497, 'essential_metrics': {0: {'tp_hit': 73, 'fp_hit': 8, 'tn_hit': 24, 'fn_hit': 3}, 1: {'tp_hit': 11, 'fp_hit': 0, 'tn_hit': 91, 'fn_hit': 6}, 2: {'tp_hit': 13, 'fp_hit': 3, 'tn_hit': 90, 'fn_hit': 2}}, 'checkpoint': 70} \n",
      "\n",
      "\n",
      "{'accuracy': 0.9382716049382716, 'mean_square_error': 0.1454384290129451, 'categorical_crossentropy': 0.2869675424363878, 'essential_metrics': {0: {'tp_hit': 74, 'fp_hit': 8, 'tn_hit': 24, 'fn_hit': 2}, 1: {'tp_hit': 11, 'fp_hit': 0, 'tn_hit': 91, 'fn_hit': 6}, 2: {'tp_hit': 13, 'fp_hit': 2, 'tn_hit': 91, 'fn_hit': 2}}, 'checkpoint': 80} \n",
      "\n",
      "\n",
      "{'accuracy': 0.9382716049382716, 'mean_square_error': 0.11679611845197498, 'categorical_crossentropy': 0.22895037686383282, 'essential_metrics': {0: {'tp_hit': 74, 'fp_hit': 8, 'tn_hit': 24, 'fn_hit': 2}, 1: {'tp_hit': 11, 'fp_hit': 0, 'tn_hit': 91, 'fn_hit': 6}, 2: {'tp_hit': 13, 'fp_hit': 2, 'tn_hit': 91, 'fn_hit': 2}}, 'checkpoint': 90} \n",
      "\n",
      "\n",
      "{'accuracy': 0.9691358024691358, 'mean_square_error': 0.07246067254266006, 'categorical_crossentropy': 0.1677514005590368, 'essential_metrics': {0: {'tp_hit': 75, 'fp_hit': 4, 'tn_hit': 28, 'fn_hit': 1}, 1: {'tp_hit': 15, 'fp_hit': 0, 'tn_hit': 91, 'fn_hit': 2}, 2: {'tp_hit': 13, 'fp_hit': 1, 'tn_hit': 92, 'fn_hit': 2}}, 'checkpoint': 100} \n",
      "\n",
      "\n",
      "{'accuracy': 0.9629629629629629, 'mean_square_error': 0.06767908301182593, 'categorical_crossentropy': 0.14585141782407407, 'essential_metrics': {0: {'tp_hit': 74, 'fp_hit': 4, 'tn_hit': 28, 'fn_hit': 2}, 1: {'tp_hit': 14, 'fp_hit': 0, 'tn_hit': 91, 'fn_hit': 3}, 2: {'tp_hit': 14, 'fp_hit': 2, 'tn_hit': 91, 'fn_hit': 1}}, 'checkpoint': 110} \n",
      "\n",
      "\n",
      "{'accuracy': 0.9567901234567902, 'mean_square_error': 0.07758334128071775, 'categorical_crossentropy': 0.14673375200342248, 'essential_metrics': {0: {'tp_hit': 74, 'fp_hit': 5, 'tn_hit': 27, 'fn_hit': 2}, 1: {'tp_hit': 14, 'fp_hit': 0, 'tn_hit': 91, 'fn_hit': 3}, 2: {'tp_hit': 13, 'fp_hit': 2, 'tn_hit': 91, 'fn_hit': 2}}, 'checkpoint': 120} \n",
      "\n",
      "\n",
      "{'accuracy': 0.9629629629629629, 'mean_square_error': 0.06947369075891939, 'categorical_crossentropy': 0.12709612316555446, 'essential_metrics': {0: {'tp_hit': 75, 'fp_hit': 5, 'tn_hit': 27, 'fn_hit': 1}, 1: {'tp_hit': 14, 'fp_hit': 0, 'tn_hit': 91, 'fn_hit': 3}, 2: {'tp_hit': 13, 'fp_hit': 1, 'tn_hit': 92, 'fn_hit': 2}}, 'checkpoint': 130} \n",
      "\n",
      "\n",
      "{'accuracy': 0.9629629629629629, 'mean_square_error': 0.06681203374061198, 'categorical_crossentropy': 0.11930742970219364, 'essential_metrics': {0: {'tp_hit': 75, 'fp_hit': 5, 'tn_hit': 27, 'fn_hit': 1}, 1: {'tp_hit': 14, 'fp_hit': 0, 'tn_hit': 91, 'fn_hit': 3}, 2: {'tp_hit': 13, 'fp_hit': 1, 'tn_hit': 92, 'fn_hit': 2}}, 'checkpoint': 140} \n",
      "\n",
      "\n",
      "{'accuracy': 0.9567901234567902, 'mean_square_error': 0.07321989578082234, 'categorical_crossentropy': 0.1259456475575765, 'essential_metrics': {0: {'tp_hit': 74, 'fp_hit': 5, 'tn_hit': 27, 'fn_hit': 2}, 1: {'tp_hit': 14, 'fp_hit': 0, 'tn_hit': 91, 'fn_hit': 3}, 2: {'tp_hit': 13, 'fp_hit': 2, 'tn_hit': 91, 'fn_hit': 2}}, 'checkpoint': 150} \n",
      "\n",
      "\n",
      "{'accuracy': 0.9691358024691358, 'mean_square_error': 0.06961406253884837, 'categorical_crossentropy': 0.11656394711247196, 'essential_metrics': {0: {'tp_hit': 75, 'fp_hit': 4, 'tn_hit': 28, 'fn_hit': 1}, 1: {'tp_hit': 15, 'fp_hit': 0, 'tn_hit': 91, 'fn_hit': 2}, 2: {'tp_hit': 13, 'fp_hit': 1, 'tn_hit': 92, 'fn_hit': 2}}, 'checkpoint': 160} \n",
      "\n",
      "\n",
      "{'accuracy': 0.9629629629629629, 'mean_square_error': 0.06729380420044782, 'categorical_crossentropy': 0.11450109658417879, 'essential_metrics': {0: {'tp_hit': 74, 'fp_hit': 4, 'tn_hit': 28, 'fn_hit': 2}, 1: {'tp_hit': 15, 'fp_hit': 0, 'tn_hit': 91, 'fn_hit': 2}, 2: {'tp_hit': 13, 'fp_hit': 2, 'tn_hit': 91, 'fn_hit': 2}}, 'checkpoint': 170} \n",
      "\n",
      "\n",
      "{'accuracy': 0.9629629629629629, 'mean_square_error': 0.07185898287327797, 'categorical_crossentropy': 0.11532503587228281, 'essential_metrics': {0: {'tp_hit': 74, 'fp_hit': 4, 'tn_hit': 28, 'fn_hit': 2}, 1: {'tp_hit': 15, 'fp_hit': 0, 'tn_hit': 91, 'fn_hit': 2}, 2: {'tp_hit': 13, 'fp_hit': 2, 'tn_hit': 91, 'fn_hit': 2}}, 'checkpoint': 180} \n",
      "\n",
      "\n",
      "{'accuracy': 0.9567901234567902, 'mean_square_error': 0.0766269090679086, 'categorical_crossentropy': 0.11491687209517867, 'essential_metrics': {0: {'tp_hit': 75, 'fp_hit': 6, 'tn_hit': 26, 'fn_hit': 1}, 1: {'tp_hit': 14, 'fp_hit': 0, 'tn_hit': 91, 'fn_hit': 3}, 2: {'tp_hit': 12, 'fp_hit': 1, 'tn_hit': 92, 'fn_hit': 3}}, 'checkpoint': 190} \n",
      "\n",
      "\n",
      "{'accuracy': 0.9567901234567902, 'mean_square_error': 0.08709753320246542, 'categorical_crossentropy': 0.13388917181226942, 'essential_metrics': {0: {'tp_hit': 74, 'fp_hit': 5, 'tn_hit': 27, 'fn_hit': 2}, 1: {'tp_hit': 14, 'fp_hit': 0, 'tn_hit': 91, 'fn_hit': 3}, 2: {'tp_hit': 13, 'fp_hit': 2, 'tn_hit': 91, 'fn_hit': 2}}, 'checkpoint': 200} \n",
      "\n",
      "\n"
     ]
    }
   ],
   "source": [
    "for checkpoint in checkpoints:\n",
    "    print(checkpoint, '\\n\\n')"
   ]
  },
  {
   "cell_type": "code",
   "execution_count": 14,
   "metadata": {},
   "outputs": [
    {
     "name": "stdout",
     "output_type": "stream",
     "text": [
      "Layer 1\n",
      "Neuron 0: weights:\n",
      "[ 0.6060549 -3.        -2.4661644  1.3835258  3.       ]\n",
      " bias: -3.0\n",
      "\n",
      "Neuron 1: weights:\n",
      "[-1.6304525  2.6616664  2.8091662  3.        -0.5588895]\n",
      " bias: -2.393657684326172\n",
      "\n",
      "Neuron 2: weights:\n",
      "[ 2.10436    -3.         -1.8322198  -1.3311075   0.88748395]\n",
      " bias: 3.0\n",
      "\n",
      "Neuron 3: weights:\n",
      "[ 1.876382   -2.3619368   0.7625456   0.43381694  1.3333011 ]\n",
      " bias: -3.0\n",
      "\n",
      "$\n",
      "Layer 2\n",
      "Neuron 0: weights:\n",
      "[-3.        -2.6384726  3.        -3.       ]\n",
      " bias: 2.667741060256958\n",
      "\n",
      "Neuron 1: weights:\n",
      "[-2.2353973  3.        -3.        -0.599101 ]\n",
      " bias: 2.144899368286133\n",
      "\n",
      "Neuron 2: weights:\n",
      "[ 3.        -1.063373   0.7302417  2.2365162]\n",
      " bias: -1.8796491622924805\n",
      "\n",
      "$\n",
      "\n"
     ]
    }
   ],
   "source": [
    "print(model)"
   ]
  },
  {
   "cell_type": "code",
   "execution_count": null,
   "metadata": {},
   "outputs": [],
   "source": []
  }
 ],
 "metadata": {
  "kernelspec": {
   "display_name": "Python 3",
   "language": "python",
   "name": "python3"
  },
  "language_info": {
   "codemirror_mode": {
    "name": "ipython",
    "version": 3
   },
   "file_extension": ".py",
   "mimetype": "text/x-python",
   "name": "python",
   "nbconvert_exporter": "python",
   "pygments_lexer": "ipython3",
   "version": "3.6.12"
  }
 },
 "nbformat": 4,
 "nbformat_minor": 2
}
